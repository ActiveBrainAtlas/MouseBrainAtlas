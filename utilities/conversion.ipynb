{
 "cells": [
  {
   "cell_type": "code",
   "execution_count": 4,
   "metadata": {
    "collapsed": true
   },
   "outputs": [],
   "source": [
    "import numpy as np\n",
    "from itertools import groupby"
   ]
  },
  {
   "cell_type": "code",
   "execution_count": 6,
   "metadata": {
    "collapsed": false
   },
   "outputs": [],
   "source": [
    "import sys, os\n",
    "sys.path.append(os.environ['REPO_DIR'] + '/utilities')\n",
    "from annotation_utilities import *"
   ]
  },
  {
   "cell_type": "code",
   "execution_count": null,
   "metadata": {
    "collapsed": true
   },
   "outputs": [],
   "source": [
    "from itertools import groupby\n",
    "\n",
    "def contours_to_volume(contours_grouped_by_label=None, label_contours_tuples=None, interpolation_direction='z',\n",
    "                      return_shell=False, len_interval=20):\n",
    "    \"\"\"\n",
    "    Return volume as 3D array, and origin (xmin,xmax,ymin,ymax,zmin,zmax)\n",
    "    \"\"\"\n",
    "    \n",
    "    \n",
    "    if label_contours_tuples is not None:\n",
    "        contours_grouped_by_label = {}\n",
    "        for label, contours in groupby(contour_label_tuples, key=lambda l, cnts: l):\n",
    "            contours_grouped_by_label[label] = contours\n",
    "    else:\n",
    "        assert contours_grouped_by_label is not None\n",
    "            \n",
    "    if isinstance(contours_grouped_by_label.values()[0], dict):\n",
    "        # dict value is contours grouped by z\n",
    "        if interpolation_direction == 'z':\n",
    "            contours_xyz_grouped_by_label = {label: [(x,y,z) for z, (x,y) in contours_grouped.iteritems()]\n",
    "                            for label, contours_grouped in contours_grouped_by_label.iteritems()}\n",
    "        elif interpolation_direction == 'y':\n",
    "            contours_xyz_grouped_by_label = {label: [(x,y,z) for y, (x,z) in contours_grouped.iteritems()]\n",
    "                            for label, contours_grouped in contours_grouped_by_label.iteritems()}\n",
    "        elif interpolation_direction == 'x':\n",
    "            contours_xyz_grouped_by_label = {label: [(x,y,z) for x, (y,z) in contours_grouped.iteritems()]\n",
    "                            for label, contours_grouped in contours_grouped_by_label.iteritems()}\n",
    "        \n",
    "    else:\n",
    "        contours_xyz_grouped_by_label = contours_grouped_by_label\n",
    "        # dict value is list of (x,y,z) tuples\n",
    "#         contours_grouped_by_label = {groupby(contours_xyz, lambda x,y,z: z) \n",
    "#                                      for label, contours_xyz in contours_grouped_by_label.iteritems()}\n",
    "#         pass\n",
    "            \n",
    "    xyz_max = [0, 0, 0]\n",
    "    xyz_min = [np.inf, np.inf, np.inf]\n",
    "    for label, contours in contours_xyz_grouped_by_label.iteritems():\n",
    "        xyz_max = np.maximum(xyz_max, np.max(np.vstack(contours), axis=0))\n",
    "        xyz_min = np.minimum(xyz_min, np.min(np.vstack(contours), axis=0))\n",
    "        \n",
    "    xmin, ymin, zmin = np.floor(xyz_min).astype(np.int)\n",
    "    xmax, ymax, zmax = np.ceil(xyz_max).astype(np.int)\n",
    "    xdim, ydim, zdim = xmax+1-xmin, ymax+1-ymin, zmax+1-zmin\n",
    "    \n",
    "    \n",
    "    volume = np.zeros((ydim, xdim, zdim), np.uint8)\n",
    "    \n",
    "    if return_shell:\n",
    "        \n",
    "        for label, contours in contours_grouped_by_label.iteritems():\n",
    "            \n",
    "            voxels_grouped = interpolate_contours_to_volume(interpolation_direction=interpolation_direction, \n",
    "                                                            contours_xyz=contours, return_contours=True,\n",
    "                                                            len_interval=len_interval)\n",
    "\n",
    "            if interpolation_direction == 'z':\n",
    "                for z, xys in voxels_grouped.iteritems():\n",
    "                    volume[xys[:,1]-ymin, xys[:,0]-xmin, z-zmin] = label\n",
    "            elif interpolation_direction == 'y':\n",
    "                for y, xzs in voxels_grouped.iteritems():\n",
    "                    volume[y-ymin, xzs[:,0]-xmin, xzs[:,1]-zmin] = label\n",
    "            elif interpolation_direction == 'x':\n",
    "                for x, yzs in voxels_grouped.iteritems():\n",
    "                    volume[yzs[:,0]-ymin, x-xmin, yzs[:,1]-zmin] = label\n",
    "\n",
    "        return volume, (xmin,xmax,ymin,ymax,zmin,zmax)\n",
    "\n",
    "    else:\n",
    "    \n",
    "        for label, contours in contours_grouped_by_label.iteritems():\n",
    "            \n",
    "            voxels_grouped = interpolate_contours_to_volume(interpolation_direction=interpolation_direction, \n",
    "                                                                 contours_xyz=contours, return_voxels=True)\n",
    "\n",
    "            if interpolation_direction == 'z':\n",
    "                for z, xys in voxels_grouped.iteritems():\n",
    "                    volume[xys[:,1]-ymin, xys[:,0]-xmin, z-zmin] = label\n",
    "            elif interpolation_direction == 'y':\n",
    "                for y, xzs in voxels_grouped.iteritems():\n",
    "                    volume[y-ymin, xzs[:,0]-xmin, xzs[:,1]-zmin] = label\n",
    "            elif interpolation_direction == 'x':\n",
    "                for x, yzs in voxels_grouped.iteritems():\n",
    "                    volume[yzs[:,0]-ymin, x-xmin, yzs[:,1]-zmin] = label\n",
    "\n",
    "        return volume, (xmin,xmax,ymin,ymax,zmin,zmax)"
   ]
  },
  {
   "cell_type": "code",
   "execution_count": 2,
   "metadata": {
    "collapsed": false
   },
   "outputs": [],
   "source": [
    "def volume_to_images(volume, voxel_size, cut_dimension, pixel_size=None):\n",
    "\n",
    "    volume_shape = volume.shape\n",
    "\n",
    "    if pixel_size is None:\n",
    "        pixel_size = min(voxel_size)\n",
    "\n",
    "    if cut_dimension == 0:\n",
    "        volume_shape01 = volume_shape[1], volume_shape[2]\n",
    "        voxel_size01 = voxel_size[1], voxel_size[2]\n",
    "    elif cut_dimension == 1:\n",
    "        volume_shape01 = volume_shape[0], volume_shape[2]\n",
    "        voxel_size01 = voxel_size[0], voxel_size[2]\n",
    "    elif cut_dimension == 2:\n",
    "        volume_shape01 = volume_shape[0], volume_shape[1]\n",
    "        voxel_size01 = voxel_size[0], voxel_size[1]\n",
    "                \n",
    "    volume_dim01 = volume_shape01[0] * voxel_size01[0], volume_shape01[1] * voxel_size01[1]\n",
    "    sample_voxels_0 = np.arange(0, volume_dim01[0], pixel_size) / voxel_size01[0]\n",
    "    sample_voxels_1 = np.arange(0, volume_dim01[1], pixel_size) / voxel_size01[1]\n",
    "    \n",
    "    if cut_dimension == 0:\n",
    "        images = volume[:, sample_voxels_0[:,None], sample_voxels_1]\n",
    "    elif cut_dimension == 1:\n",
    "        images = volume[sample_voxels_0[:,None], :, sample_voxels_1]\n",
    "    elif cut_dimension == 2:\n",
    "        images = volume[sample_voxels_0[:,None], sample_voxels_1, :]\n",
    "        \n",
    "    return images"
   ]
  },
  {
   "cell_type": "code",
   "execution_count": 3,
   "metadata": {
    "collapsed": true
   },
   "outputs": [],
   "source": [
    "volume = np.random.randint(0,10, (50,50,50))"
   ]
  },
  {
   "cell_type": "code",
   "execution_count": 4,
   "metadata": {
    "collapsed": true
   },
   "outputs": [],
   "source": [
    "voxel_size = (1,1,2)"
   ]
  },
  {
   "cell_type": "code",
   "execution_count": 7,
   "metadata": {
    "collapsed": false
   },
   "outputs": [
    {
     "data": {
      "text/plain": [
       "(50, 50, 50)"
      ]
     },
     "execution_count": 7,
     "metadata": {},
     "output_type": "execute_result"
    }
   ],
   "source": [
    "volume_to_images(volume, voxel_size, , pixel_size=None).shape"
   ]
  },
  {
   "cell_type": "code",
   "execution_count": 9,
   "metadata": {
    "collapsed": false
   },
   "outputs": [],
   "source": [
    "from itertools import groupby"
   ]
  },
  {
   "cell_type": "code",
   "execution_count": null,
   "metadata": {
    "collapsed": true
   },
   "outputs": [],
   "source": [
    "def pixels_to_voxels(pixels, voxel_size, cut_dimension, voxel_index, pixel_size=None):\n",
    "    \"\"\"\n",
    "    pixels: n x 2\n",
    "    \"\"\"\n",
    "    \n",
    "    if pixel_size is None:\n",
    "        pixel_size = min(voxel_size)\n",
    "        \n",
    "    if cut_dimension == 0:\n",
    "        selector = [1,2]\n",
    "    elif cut_dimension == 1:\n",
    "        selector = [0,2]\n",
    "    elif cut_dimension == 2:\n",
    "        selector = [0,1]\n",
    "    \n",
    "    voxels01 = pixels * pixel_size / voxel_size[selector]\n",
    "    \n",
    "    if cut_dimension == 0:\n",
    "        return [(voxel_index, v0, v1) for v0, v1 in voxels01]\n",
    "    elif cut_dimension == 1:\n",
    "        return [(v0, voxel_index, v1) for v0, v1 in voxels01]\n",
    "    elif cut_dimension == 2:\n",
    "        return [(v0, v1, voxel_index) for v0, v1 in voxels01]\n",
    "    \n",
    "\n",
    "def voxels_to_pixels(voxels, voxel_size, cut_dimension, pixel_size=None):\n",
    "    \"\"\"\n",
    "    voxels: n x 3\n",
    "    \"\"\"\n",
    "    \n",
    "    if pixel_size is None:\n",
    "        pixel_size = min(voxel_size)\n",
    "\n",
    "    if cut_dimension == 0:\n",
    "        selector = [1,2]\n",
    "    elif cut_dimension == 1:\n",
    "        selector = [0,2]\n",
    "    elif cut_dimension == 2:\n",
    "        selector = [0,1]\n",
    "    \n",
    "    pixels = voxels[:,selector] * voxel_size[selector] / pixel_size\n",
    "    return pixels\n",
    "             "
   ]
  }
 ],
 "metadata": {
  "kernelspec": {
   "display_name": "Python 2",
   "language": "python",
   "name": "python2"
  },
  "language_info": {
   "codemirror_mode": {
    "name": "ipython",
    "version": 2
   },
   "file_extension": ".py",
   "mimetype": "text/x-python",
   "name": "python",
   "nbconvert_exporter": "python",
   "pygments_lexer": "ipython2",
   "version": "2.7.3"
  }
 },
 "nbformat": 4,
 "nbformat_minor": 0
}
