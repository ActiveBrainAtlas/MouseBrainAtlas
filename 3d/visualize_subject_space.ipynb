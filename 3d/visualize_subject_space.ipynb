{
 "cells": [
  {
   "cell_type": "code",
   "execution_count": 2,
   "metadata": {
    "collapsed": false
   },
   "outputs": [
    {
     "name": "stdout",
     "output_type": "stream",
     "text": [
      "Setting environment for Local Macbook Pro\n"
     ]
    }
   ],
   "source": [
    "%reload_ext autoreload\n",
    "%autoreload 2\n",
    "\n",
    "import numpy as np\n",
    "import bloscpack as bp\n",
    "\n",
    "import sys\n",
    "import os\n",
    "sys.path.append(os.path.join(os.environ['REPO_DIR'], 'utilities'))\n",
    "from utilities2015 import *\n",
    "from annotation_utilities import *\n",
    "from registration_utilities import *\n",
    "from metadata import *\n",
    "from data_manager import *\n",
    "\n",
    "import pandas as pd\n",
    "\n",
    "import time\n",
    "\n",
    "import matplotlib.pyplot as plt\n",
    "%matplotlib inline\n",
    "\n",
    "from vis3d_utilities import *"
   ]
  },
  {
   "cell_type": "code",
   "execution_count": 3,
   "metadata": {
    "collapsed": true
   },
   "outputs": [],
   "source": [
    "train_sample_scheme = 1\n",
    "global_transform_scheme = 1\n",
    "local_transform_scheme = 1"
   ]
  },
  {
   "cell_type": "code",
   "execution_count": 4,
   "metadata": {
    "collapsed": true
   },
   "outputs": [],
   "source": [
    "stack = 'MD590'"
   ]
  },
  {
   "cell_type": "code",
   "execution_count": 5,
   "metadata": {
    "collapsed": true
   },
   "outputs": [],
   "source": [
    "paired_structures = ['5N', '6N', '7N', '7n', 'Amb', 'LC', 'LRt', 'Pn', 'Tz', 'VLL', 'RMC', 'SNC', 'SNR', '3N', '4N',\n",
    "                    'Sp5I', 'Sp5O', 'Sp5C', 'PBG', '10N', 'VCA', 'VCP', 'DC']\n",
    "singular_structures = ['AP', '12N', 'RtTg', 'SC', 'IC']\n",
    "structures = paired_structures + singular_structures\n",
    "\n",
    "structure_colors = {n: np.random.randint(0, 255, (3,)) for n in structures}\n",
    "# with open('colors.txt', 'r') as f:\n",
    "#     colors = {l[0]: np.r_[float(l[1]), float(l[2]), float(l[3])] for l in map(lambda x: x.split(), f.readlines())}"
   ]
  },
  {
   "cell_type": "code",
   "execution_count": 6,
   "metadata": {
    "collapsed": false
   },
   "outputs": [],
   "source": [
    "structures_sided = sum([[n] if n in singular_structures else [convert_to_left_name(n), convert_to_right_name(n)]\n",
    "                        for n in structures], [])"
   ]
  },
  {
   "cell_type": "code",
   "execution_count": 7,
   "metadata": {
    "collapsed": false
   },
   "outputs": [],
   "source": [
    "# from skimage.morphology import closing, disk\n",
    "\n",
    "# def fill_sparse_score_volume(vol):\n",
    "#     dense_vol = np.zeros_like(vol)\n",
    "#     for z in range(vol.shape[2]):\n",
    "#         dense_vol[..., z] = closing((vol[..., z]*255).astype(np.int)/255., disk(1))\n",
    "#     return dense_vol\n",
    "\n",
    "# def fill_sparse_volume(volume_sparse):\n",
    "#     '''\n",
    "#     Sometimes, volumes formed by projecting from other volumes result in holes in corresponding regions.\n",
    "#     This function fills the holes.\n",
    "#     '''\n",
    "\n",
    "#     volume = np.zeros_like(volume_sparse, np.int8)\n",
    "\n",
    "#     for z in range(volume_sparse.shape[-1]):\n",
    "#         for ind, cnts in find_contour_points(volume_sparse[..., z]).iteritems():\n",
    "#             cnt = cnts[np.argsort(map(len, cnts))[-1]]\n",
    "#             pts = points_inside_contour(cnt)\n",
    "#             volume[pts[:,1], pts[:,0], z] = ind\n",
    "#     return volume"
   ]
  },
  {
   "cell_type": "code",
   "execution_count": 31,
   "metadata": {
    "collapsed": false,
    "scrolled": true
   },
   "outputs": [
    {
     "name": "stdout",
     "output_type": "stream",
     "text": [
      "5N_L\n"
     ]
    },
    {
     "name": "stderr",
     "output_type": "stream",
     "text": [
      "marching cube: 0.02 seconds\n",
      "compute surface area: 0.00 seconds\n",
      "mesh_to_polydata: 0.01 seconds\n",
      "simplify 0 @ 8838: 0.09 seconds\n",
      "simplify 1 @ 1769: 0.06 seconds\n",
      "simplify 2 @ 355: 0.01 seconds\n",
      "time: 0.19\n"
     ]
    },
    {
     "name": "stdout",
     "output_type": "stream",
     "text": [
      "5N_R\n"
     ]
    },
    {
     "name": "stderr",
     "output_type": "stream",
     "text": [
      "marching cube: 0.02 seconds\n",
      "compute surface area: 0.00 seconds\n",
      "mesh_to_polydata: 0.01 seconds\n",
      "simplify 0 @ 9028: 0.09 seconds\n",
      "simplify 1 @ 1807: 0.07 seconds\n",
      "simplify 2 @ 362: 0.01 seconds\n",
      "time: 0.21\n"
     ]
    },
    {
     "name": "stdout",
     "output_type": "stream",
     "text": [
      "6N_L\n"
     ]
    },
    {
     "name": "stderr",
     "output_type": "stream",
     "text": [
      "marching cube: 0.00 seconds\n",
      "compute surface area: 0.00 seconds\n",
      "mesh_to_polydata: 0.00 seconds\n",
      "simplify 0 @ 1397: 0.01 seconds\n",
      "simplify 1 @ 281: 0.01 seconds\n",
      "time: 0.03\n"
     ]
    },
    {
     "name": "stdout",
     "output_type": "stream",
     "text": [
      "6N_R\n"
     ]
    },
    {
     "name": "stderr",
     "output_type": "stream",
     "text": [
      "marching cube: 0.00 seconds\n",
      "compute surface area: 0.00 seconds\n",
      "mesh_to_polydata: 0.00 seconds\n",
      "simplify 0 @ 1045: 0.01 seconds\n",
      "simplify 1 @ 210: 0.01 seconds\n",
      "time: 0.02\n"
     ]
    },
    {
     "name": "stdout",
     "output_type": "stream",
     "text": [
      "7N_L\n"
     ]
    },
    {
     "name": "stderr",
     "output_type": "stream",
     "text": [
      "marching cube: 0.04 seconds\n",
      "compute surface area: 0.01 seconds\n",
      "mesh_to_polydata: 0.03 seconds\n",
      "simplify 0 @ 21204: 0.19 seconds\n",
      "simplify 1 @ 4235: 0.23 seconds\n",
      "simplify 2 @ 844: 0.04 seconds\n",
      "time: 0.54\n"
     ]
    },
    {
     "name": "stdout",
     "output_type": "stream",
     "text": [
      "7N_R\n"
     ]
    },
    {
     "name": "stderr",
     "output_type": "stream",
     "text": [
      "marching cube: 0.03 seconds\n",
      "compute surface area: 0.00 seconds\n",
      "mesh_to_polydata: 0.02 seconds\n",
      "simplify 0 @ 13803: 0.12 seconds\n",
      "simplify 1 @ 2761: 0.11 seconds\n",
      "simplify 2 @ 554: 0.02 seconds\n",
      "time: 0.32\n"
     ]
    },
    {
     "name": "stdout",
     "output_type": "stream",
     "text": [
      "7n_L\n"
     ]
    },
    {
     "name": "stderr",
     "output_type": "stream",
     "text": [
      "marching cube: 0.08 seconds\n",
      "compute surface area: 0.00 seconds\n",
      "mesh_to_polydata: 0.02 seconds\n",
      "simplify 0 @ 13659: 0.11 seconds\n",
      "simplify 1 @ 2733: 0.11 seconds\n",
      "simplify 2 @ 548: 0.02 seconds\n",
      "time: 0.35\n"
     ]
    },
    {
     "name": "stdout",
     "output_type": "stream",
     "text": [
      "7n_R\n"
     ]
    },
    {
     "name": "stderr",
     "output_type": "stream",
     "text": [
      "marching cube: 0.12 seconds\n",
      "compute surface area: 0.01 seconds\n",
      "mesh_to_polydata: 0.03 seconds\n",
      "simplify 0 @ 11095: 0.17 seconds\n",
      "simplify 1 @ 2221: 0.16 seconds\n",
      "simplify 2 @ 445: 0.03 seconds\n",
      "time: 0.53\n"
     ]
    },
    {
     "name": "stdout",
     "output_type": "stream",
     "text": [
      "Amb_L\n"
     ]
    },
    {
     "name": "stderr",
     "output_type": "stream",
     "text": [
      "marching cube: 0.01 seconds\n",
      "compute surface area: 0.00 seconds\n",
      "mesh_to_polydata: 0.01 seconds\n",
      "simplify 0 @ 1527: 0.04 seconds\n",
      "simplify 1 @ 308: 0.02 seconds\n",
      "time: 0.08\n"
     ]
    },
    {
     "name": "stdout",
     "output_type": "stream",
     "text": [
      "Amb_R\n"
     ]
    },
    {
     "name": "stderr",
     "output_type": "stream",
     "text": [
      "marching cube: 0.00 seconds\n",
      "compute surface area: 0.00 seconds\n",
      "mesh_to_polydata: 0.00 seconds\n",
      "simplify 0 @ 1351: 0.02 seconds\n",
      "simplify 1 @ 271: 0.01 seconds\n",
      "time: 0.04\n"
     ]
    },
    {
     "name": "stdout",
     "output_type": "stream",
     "text": [
      "LC_L\n"
     ]
    },
    {
     "name": "stderr",
     "output_type": "stream",
     "text": [
      "marching cube: 0.02 seconds\n",
      "compute surface area: 0.00 seconds\n",
      "mesh_to_polydata: 0.01 seconds\n",
      "simplify 0 @ 5726: 0.06 seconds\n",
      "simplify 1 @ 1146: 0.05 seconds\n",
      "simplify 2 @ 230: 0.01 seconds\n",
      "time: 0.15\n"
     ]
    },
    {
     "name": "stdout",
     "output_type": "stream",
     "text": [
      "LC_R\n"
     ]
    },
    {
     "name": "stderr",
     "output_type": "stream",
     "text": [
      "marching cube: 0.01 seconds\n",
      "compute surface area: 0.00 seconds\n",
      "mesh_to_polydata: 0.01 seconds\n",
      "simplify 0 @ 4523: 0.05 seconds\n",
      "simplify 1 @ 905: 0.04 seconds\n",
      "time: 0.12\n"
     ]
    },
    {
     "name": "stdout",
     "output_type": "stream",
     "text": [
      "LRt_L\n"
     ]
    },
    {
     "name": "stderr",
     "output_type": "stream",
     "text": [
      "marching cube: 0.05 seconds\n",
      "compute surface area: 0.00 seconds\n",
      "mesh_to_polydata: 0.02 seconds\n",
      "simplify 0 @ 16179: 0.17 seconds\n",
      "simplify 1 @ 3237: 0.15 seconds\n",
      "simplify 2 @ 649: 0.04 seconds\n",
      "time: 0.45\n"
     ]
    },
    {
     "name": "stdout",
     "output_type": "stream",
     "text": [
      "LRt_R\n"
     ]
    },
    {
     "name": "stderr",
     "output_type": "stream",
     "text": [
      "marching cube: 0.10 seconds\n",
      "compute surface area: 0.01 seconds\n",
      "mesh_to_polydata: 0.05 seconds\n",
      "simplify 0 @ 18652: 0.32 seconds\n",
      "simplify 1 @ 3731: 0.29 seconds\n",
      "simplify 2 @ 747: 0.06 seconds\n",
      "time: 0.84\n"
     ]
    },
    {
     "name": "stdout",
     "output_type": "stream",
     "text": [
      "Pn_L\n"
     ]
    },
    {
     "name": "stderr",
     "output_type": "stream",
     "text": [
      "marching cube: 0.10 seconds\n",
      "compute surface area: 0.01 seconds\n",
      "mesh_to_polydata: 0.06 seconds\n",
      "simplify 0 @ 22506: 0.40 seconds\n",
      "simplify 1 @ 4497: 0.35 seconds\n",
      "simplify 2 @ 899: 0.08 seconds\n",
      "time: 1.00\n"
     ]
    },
    {
     "name": "stdout",
     "output_type": "stream",
     "text": [
      "Pn_R\n"
     ]
    },
    {
     "name": "stderr",
     "output_type": "stream",
     "text": [
      "marching cube: 0.06 seconds\n",
      "compute surface area: 0.01 seconds\n",
      "mesh_to_polydata: 0.03 seconds\n",
      "simplify 0 @ 19727: 0.20 seconds\n",
      "simplify 1 @ 3947: 0.18 seconds\n",
      "simplify 2 @ 791: 0.04 seconds\n",
      "time: 0.52\n"
     ]
    },
    {
     "name": "stdout",
     "output_type": "stream",
     "text": [
      "Tz_L\n"
     ]
    },
    {
     "name": "stderr",
     "output_type": "stream",
     "text": [
      "marching cube: 0.02 seconds\n",
      "compute surface area: 0.00 seconds\n",
      "mesh_to_polydata: 0.01 seconds\n",
      "simplify 0 @ 8900: 0.09 seconds\n",
      "simplify 1 @ 1782: 0.07 seconds\n",
      "simplify 2 @ 356: 0.02 seconds\n",
      "time: 0.22\n"
     ]
    },
    {
     "name": "stdout",
     "output_type": "stream",
     "text": [
      "Tz_R\n"
     ]
    },
    {
     "name": "stderr",
     "output_type": "stream",
     "text": [
      "marching cube: 0.02 seconds\n",
      "compute surface area: 0.00 seconds\n",
      "mesh_to_polydata: 0.01 seconds\n",
      "simplify 0 @ 8069: 0.09 seconds\n",
      "simplify 1 @ 1613: 0.07 seconds\n",
      "simplify 2 @ 322: 0.02 seconds\n",
      "time: 0.21\n"
     ]
    },
    {
     "name": "stdout",
     "output_type": "stream",
     "text": [
      "VLL_L\n"
     ]
    },
    {
     "name": "stderr",
     "output_type": "stream",
     "text": [
      "marching cube: 0.18 seconds\n",
      "compute surface area: 0.01 seconds\n",
      "mesh_to_polydata: 0.06 seconds\n",
      "simplify 0 @ 17774: 0.41 seconds\n",
      "simplify 1 @ 3552: 0.30 seconds\n",
      "simplify 2 @ 712: 0.07 seconds\n",
      "time: 1.04\n"
     ]
    },
    {
     "name": "stdout",
     "output_type": "stream",
     "text": [
      "VLL_R\n"
     ]
    },
    {
     "name": "stderr",
     "output_type": "stream",
     "text": [
      "marching cube: 0.11 seconds\n",
      "compute surface area: 0.01 seconds\n",
      "mesh_to_polydata: 0.04 seconds\n",
      "simplify 0 @ 12736: 0.28 seconds\n",
      "simplify 1 @ 2545: 0.19 seconds\n",
      "simplify 2 @ 509: 0.04 seconds\n",
      "time: 0.68\n"
     ]
    },
    {
     "name": "stdout",
     "output_type": "stream",
     "text": [
      "RMC_L\n"
     ]
    },
    {
     "name": "stderr",
     "output_type": "stream",
     "text": [
      "marching cube: 0.01 seconds\n",
      "compute surface area: 0.00 seconds\n",
      "mesh_to_polydata: 0.01 seconds\n",
      "simplify 0 @ 6708: 0.06 seconds\n",
      "simplify 1 @ 1343: 0.06 seconds\n",
      "simplify 2 @ 270: 0.01 seconds\n",
      "time: 0.16\n"
     ]
    },
    {
     "name": "stdout",
     "output_type": "stream",
     "text": [
      "RMC_R\n"
     ]
    },
    {
     "name": "stderr",
     "output_type": "stream",
     "text": [
      "marching cube: 0.02 seconds\n",
      "compute surface area: 0.00 seconds\n",
      "mesh_to_polydata: 0.01 seconds\n",
      "simplify 0 @ 8274: 0.09 seconds\n",
      "simplify 1 @ 1656: 0.08 seconds\n",
      "simplify 2 @ 332: 0.02 seconds\n",
      "time: 0.24\n"
     ]
    },
    {
     "name": "stdout",
     "output_type": "stream",
     "text": [
      "SNC_L\n"
     ]
    },
    {
     "name": "stderr",
     "output_type": "stream",
     "text": [
      "marching cube: 0.04 seconds\n",
      "compute surface area: 0.00 seconds\n",
      "mesh_to_polydata: 0.02 seconds\n",
      "simplify 0 @ 11881: 0.10 seconds\n",
      "simplify 1 @ 2377: 0.11 seconds\n",
      "simplify 2 @ 477: 0.02 seconds\n",
      "time: 0.30\n"
     ]
    },
    {
     "name": "stdout",
     "output_type": "stream",
     "text": [
      "SNC_R\n"
     ]
    },
    {
     "name": "stderr",
     "output_type": "stream",
     "text": [
      "marching cube: 0.04 seconds\n",
      "compute surface area: 0.00 seconds\n",
      "mesh_to_polydata: 0.01 seconds\n",
      "simplify 0 @ 9745: 0.08 seconds\n",
      "simplify 1 @ 1950: 0.09 seconds\n",
      "simplify 2 @ 391: 0.02 seconds\n",
      "time: 0.25\n"
     ]
    },
    {
     "name": "stdout",
     "output_type": "stream",
     "text": [
      "SNR_L\n"
     ]
    },
    {
     "name": "stderr",
     "output_type": "stream",
     "text": [
      "marching cube: 0.33 seconds\n",
      "compute surface area: 0.02 seconds\n",
      "mesh_to_polydata: 0.09 seconds\n",
      "simplify 0 @ 34774: 0.56 seconds\n",
      "simplify 1 @ 6956: 0.56 seconds\n",
      "simplify 2 @ 1392: 0.13 seconds\n",
      "time: 1.70\n"
     ]
    },
    {
     "name": "stdout",
     "output_type": "stream",
     "text": [
      "SNR_R\n"
     ]
    },
    {
     "name": "stderr",
     "output_type": "stream",
     "text": [
      "marching cube: 0.69 seconds\n",
      "compute surface area: 0.01 seconds\n",
      "mesh_to_polydata: 0.05 seconds\n",
      "simplify 0 @ 32175: 0.30 seconds\n",
      "simplify 1 @ 6436: 0.30 seconds\n",
      "simplify 2 @ 1288: 0.06 seconds\n",
      "time: 1.44\n"
     ]
    },
    {
     "name": "stdout",
     "output_type": "stream",
     "text": [
      "3N_L\n"
     ]
    },
    {
     "name": "stderr",
     "output_type": "stream",
     "text": [
      "marching cube: 0.01 seconds\n",
      "compute surface area: 0.00 seconds\n",
      "mesh_to_polydata: 0.00 seconds\n",
      "simplify 0 @ 2747: 0.04 seconds\n",
      "simplify 1 @ 551: 0.02 seconds\n",
      "time: 0.08\n"
     ]
    },
    {
     "name": "stdout",
     "output_type": "stream",
     "text": [
      "3N_R\n"
     ]
    },
    {
     "name": "stderr",
     "output_type": "stream",
     "text": [
      "marching cube: 0.01 seconds\n",
      "compute surface area: 0.00 seconds\n",
      "mesh_to_polydata: 0.01 seconds\n",
      "simplify 0 @ 3014: 0.04 seconds\n",
      "simplify 1 @ 604: 0.03 seconds\n",
      "time: 0.09\n"
     ]
    },
    {
     "name": "stdout",
     "output_type": "stream",
     "text": [
      "4N_L\n"
     ]
    },
    {
     "name": "stderr",
     "output_type": "stream",
     "text": [
      "marching cube: 0.00 seconds\n",
      "compute surface area: 0.00 seconds\n",
      "mesh_to_polydata: 0.00 seconds\n",
      "simplify 0 @ 607: 0.01 seconds\n",
      "time: 0.03\n"
     ]
    },
    {
     "name": "stdout",
     "output_type": "stream",
     "text": [
      "4N_R\n"
     ]
    },
    {
     "name": "stderr",
     "output_type": "stream",
     "text": [
      "marching cube: 0.00 seconds\n",
      "compute surface area: 0.00 seconds\n",
      "mesh_to_polydata: 0.00 seconds\n",
      "simplify 0 @ 457: 0.01 seconds\n",
      "time: 0.02\n"
     ]
    },
    {
     "name": "stdout",
     "output_type": "stream",
     "text": [
      "Sp5I_L\n"
     ]
    },
    {
     "name": "stderr",
     "output_type": "stream",
     "text": [
      "marching cube: 0.19 seconds\n",
      "compute surface area: 0.01 seconds\n",
      "mesh_to_polydata: 0.07 seconds\n",
      "simplify 0 @ 16183: 0.46 seconds\n",
      "simplify 1 @ 3235: 0.17 seconds\n",
      "simplify 2 @ 645: 0.03 seconds\n",
      "time: 0.94\n"
     ]
    },
    {
     "name": "stdout",
     "output_type": "stream",
     "text": [
      "Sp5I_R\n"
     ]
    },
    {
     "name": "stderr",
     "output_type": "stream",
     "text": [
      "marching cube: 0.04 seconds\n",
      "compute surface area: 0.00 seconds\n",
      "mesh_to_polydata: 0.03 seconds\n",
      "simplify 0 @ 14502: 0.21 seconds\n",
      "simplify 1 @ 2901: 0.14 seconds\n",
      "simplify 2 @ 582: 0.03 seconds\n",
      "time: 0.45\n"
     ]
    },
    {
     "name": "stdout",
     "output_type": "stream",
     "text": [
      "Sp5O_L\n"
     ]
    },
    {
     "name": "stderr",
     "output_type": "stream",
     "text": [
      "marching cube: 0.08 seconds\n",
      "compute surface area: 0.01 seconds\n",
      "mesh_to_polydata: 0.04 seconds\n",
      "simplify 0 @ 15650: 0.42 seconds\n",
      "simplify 1 @ 3130: 0.15 seconds\n",
      "simplify 2 @ 626: 0.03 seconds\n",
      "time: 0.74\n"
     ]
    },
    {
     "name": "stdout",
     "output_type": "stream",
     "text": [
      "Sp5O_R\n"
     ]
    },
    {
     "name": "stderr",
     "output_type": "stream",
     "text": [
      "marching cube: 0.12 seconds\n",
      "compute surface area: 0.01 seconds\n",
      "mesh_to_polydata: 0.07 seconds\n",
      "simplify 0 @ 18741: 0.57 seconds\n",
      "simplify 1 @ 3743: 0.30 seconds\n",
      "simplify 2 @ 746: 0.06 seconds\n",
      "time: 1.15\n"
     ]
    },
    {
     "name": "stdout",
     "output_type": "stream",
     "text": [
      "Sp5C_L\n"
     ]
    },
    {
     "name": "stderr",
     "output_type": "stream",
     "text": [
      "marching cube: 0.38 seconds\n",
      "compute surface area: 0.03 seconds\n",
      "mesh_to_polydata: 0.12 seconds\n",
      "simplify 0 @ 41464: 0.64 seconds\n",
      "simplify 1 @ 8294: 0.45 seconds\n",
      "simplify 2 @ 1660: 0.10 seconds\n",
      "time: 1.73\n"
     ]
    },
    {
     "name": "stdout",
     "output_type": "stream",
     "text": [
      "Sp5C_R\n"
     ]
    },
    {
     "name": "stderr",
     "output_type": "stream",
     "text": [
      "marching cube: 0.21 seconds\n",
      "compute surface area: 0.01 seconds\n",
      "mesh_to_polydata: 0.06 seconds\n",
      "simplify 0 @ 34741: 0.39 seconds\n",
      "simplify 1 @ 6950: 0.39 seconds\n",
      "simplify 2 @ 1391: 0.08 seconds\n",
      "time: 1.15\n"
     ]
    },
    {
     "name": "stdout",
     "output_type": "stream",
     "text": [
      "PBG_L\n"
     ]
    },
    {
     "name": "stderr",
     "output_type": "stream",
     "text": [
      "marching cube: 0.02 seconds\n",
      "compute surface area: 0.00 seconds\n",
      "mesh_to_polydata: 0.01 seconds\n",
      "simplify 0 @ 4025: 0.04 seconds\n",
      "simplify 1 @ 806: 0.03 seconds\n",
      "time: 0.10\n"
     ]
    },
    {
     "name": "stdout",
     "output_type": "stream",
     "text": [
      "PBG_R\n"
     ]
    },
    {
     "name": "stderr",
     "output_type": "stream",
     "text": [
      "marching cube: 0.02 seconds\n",
      "compute surface area: 0.00 seconds\n",
      "mesh_to_polydata: 0.01 seconds\n",
      "simplify 0 @ 2627: 0.06 seconds\n",
      "simplify 1 @ 527: 0.04 seconds\n",
      "time: 0.13\n"
     ]
    },
    {
     "name": "stdout",
     "output_type": "stream",
     "text": [
      "10N_L\n"
     ]
    },
    {
     "name": "stderr",
     "output_type": "stream",
     "text": [
      "marching cube: 0.03 seconds\n",
      "compute surface area: 0.00 seconds\n",
      "mesh_to_polydata: 0.02 seconds\n",
      "simplify 0 @ 6363: 0.09 seconds\n",
      "simplify 1 @ 1274: 0.09 seconds\n",
      "simplify 2 @ 256: 0.02 seconds\n",
      "time: 0.26\n"
     ]
    },
    {
     "name": "stdout",
     "output_type": "stream",
     "text": [
      "10N_R\n"
     ]
    },
    {
     "name": "stderr",
     "output_type": "stream",
     "text": [
      "marching cube: 0.05 seconds\n",
      "compute surface area: 0.00 seconds\n",
      "mesh_to_polydata: 0.01 seconds\n",
      "simplify 0 @ 5627: 0.06 seconds\n",
      "simplify 1 @ 1126: 0.05 seconds\n",
      "simplify 2 @ 226: 0.01 seconds\n",
      "time: 0.20\n"
     ]
    },
    {
     "name": "stdout",
     "output_type": "stream",
     "text": [
      "VCA_L\n"
     ]
    },
    {
     "name": "stderr",
     "output_type": "stream",
     "text": [
      "marching cube: 0.06 seconds\n",
      "compute surface area: 0.00 seconds\n",
      "mesh_to_polydata: 0.03 seconds\n",
      "simplify 0 @ 15991: 0.19 seconds\n",
      "simplify 1 @ 3199: 0.15 seconds\n",
      "simplify 2 @ 641: 0.03 seconds\n",
      "time: 0.47\n"
     ]
    },
    {
     "name": "stdout",
     "output_type": "stream",
     "text": [
      "VCA_R\n"
     ]
    },
    {
     "name": "stderr",
     "output_type": "stream",
     "text": [
      "marching cube: 0.06 seconds\n",
      "compute surface area: 0.00 seconds\n",
      "mesh_to_polydata: 0.03 seconds\n",
      "simplify 0 @ 16459: 0.17 seconds\n",
      "simplify 1 @ 3293: 0.15 seconds\n",
      "simplify 2 @ 660: 0.03 seconds\n",
      "time: 0.45\n"
     ]
    },
    {
     "name": "stdout",
     "output_type": "stream",
     "text": [
      "VCP_L\n"
     ]
    },
    {
     "name": "stderr",
     "output_type": "stream",
     "text": [
      "marching cube: 0.03 seconds\n",
      "compute surface area: 0.00 seconds\n",
      "mesh_to_polydata: 0.02 seconds\n",
      "simplify 0 @ 9508: 0.12 seconds\n",
      "simplify 1 @ 1903: 0.08 seconds\n",
      "simplify 2 @ 382: 0.02 seconds\n",
      "time: 0.27\n"
     ]
    },
    {
     "name": "stdout",
     "output_type": "stream",
     "text": [
      "VCP_R\n"
     ]
    },
    {
     "name": "stderr",
     "output_type": "stream",
     "text": [
      "marching cube: 0.07 seconds\n",
      "compute surface area: 0.01 seconds\n",
      "mesh_to_polydata: 0.03 seconds\n",
      "simplify 0 @ 10322: 0.21 seconds\n",
      "simplify 1 @ 2061: 0.15 seconds\n",
      "simplify 2 @ 410: 0.03 seconds\n",
      "time: 0.50\n"
     ]
    },
    {
     "name": "stdout",
     "output_type": "stream",
     "text": [
      "DC_L\n"
     ]
    },
    {
     "name": "stderr",
     "output_type": "stream",
     "text": [
      "marching cube: 0.14 seconds\n",
      "compute surface area: 0.01 seconds\n",
      "mesh_to_polydata: 0.05 seconds\n",
      "simplify 0 @ 19637: 0.35 seconds\n",
      "simplify 1 @ 3926: 0.29 seconds\n",
      "simplify 2 @ 784: 0.06 seconds\n",
      "time: 0.91\n"
     ]
    },
    {
     "name": "stdout",
     "output_type": "stream",
     "text": [
      "DC_R\n"
     ]
    },
    {
     "name": "stderr",
     "output_type": "stream",
     "text": [
      "marching cube: 0.06 seconds\n",
      "compute surface area: 0.01 seconds\n",
      "mesh_to_polydata: 0.03 seconds\n",
      "simplify 0 @ 17966: 0.21 seconds\n",
      "simplify 1 @ 3584: 0.17 seconds\n",
      "simplify 2 @ 713: 0.04 seconds\n",
      "time: 0.52\n"
     ]
    },
    {
     "name": "stdout",
     "output_type": "stream",
     "text": [
      "AP\n"
     ]
    },
    {
     "name": "stderr",
     "output_type": "stream",
     "text": [
      "marching cube: 0.01 seconds\n",
      "compute surface area: 0.00 seconds\n",
      "mesh_to_polydata: 0.01 seconds\n",
      "simplify 0 @ 3799: 0.04 seconds\n",
      "simplify 1 @ 761: 0.03 seconds\n",
      "time: 0.09\n"
     ]
    },
    {
     "name": "stdout",
     "output_type": "stream",
     "text": [
      "12N\n"
     ]
    },
    {
     "name": "stderr",
     "output_type": "stream",
     "text": [
      "marching cube: 0.04 seconds\n",
      "compute surface area: 0.00 seconds\n",
      "mesh_to_polydata: 0.02 seconds\n",
      "simplify 0 @ 16659: 0.16 seconds\n",
      "simplify 1 @ 3333: 0.16 seconds\n",
      "simplify 2 @ 668: 0.03 seconds\n",
      "time: 0.43\n"
     ]
    },
    {
     "name": "stdout",
     "output_type": "stream",
     "text": [
      "RtTg\n"
     ]
    },
    {
     "name": "stderr",
     "output_type": "stream",
     "text": [
      "marching cube: 0.25 seconds\n",
      "compute surface area: 0.02 seconds\n",
      "mesh_to_polydata: 0.13 seconds\n",
      "simplify 0 @ 40125: 1.00 seconds\n",
      "simplify 1 @ 7990: 0.72 seconds\n",
      "simplify 2 @ 1571: 0.15 seconds\n",
      "time: 2.27\n"
     ]
    },
    {
     "name": "stdout",
     "output_type": "stream",
     "text": [
      "SC\n"
     ]
    },
    {
     "name": "stderr",
     "output_type": "stream",
     "text": [
      "marching cube: 0.95 seconds\n",
      "compute surface area: 0.05 seconds\n",
      "mesh_to_polydata: 0.21 seconds\n",
      "simplify 0 @ 141489: 1.60 seconds\n",
      "simplify 1 @ 28301: 2.14 seconds\n",
      "simplify 2 @ 5661: 0.58 seconds\n",
      "time: 5.58\n"
     ]
    },
    {
     "name": "stdout",
     "output_type": "stream",
     "text": [
      "IC\n"
     ]
    },
    {
     "name": "stderr",
     "output_type": "stream",
     "text": [
      "marching cube: 0.60 seconds\n",
      "compute surface area: 0.03 seconds\n",
      "mesh_to_polydata: 0.18 seconds\n",
      "simplify 0 @ 94283: 1.13 seconds\n",
      "simplify 1 @ 18862: 1.16 seconds\n",
      "simplify 2 @ 3773: 0.25 seconds\n",
      "time: 3.38\n"
     ]
    }
   ],
   "source": [
    "# Render globally transformed atlas structures\n",
    "\n",
    "for name_s in structures_sided:\n",
    "# for name_s in ['12N']:\n",
    "\n",
    "    print name_s\n",
    "    \n",
    "    global_transformed_volume = \\\n",
    "    DataManager.load_transformed_volume(stack_m='atlas_on_MD589', type_m='score', \n",
    "                                        stack_f=stack, type_f='score',\n",
    "                                        downscale=32, \n",
    "                                        train_sample_scheme_f=train_sample_scheme,\n",
    "                                        global_transform_scheme=global_transform_scheme,\n",
    "                                        label=name_s)\n",
    "\n",
    "    xmin, xmax, ymin, ymax, zmin, zmax = bbox_3d(global_transformed_volume)\n",
    "    vol = global_transformed_volume[ymin:ymax+1, xmin:xmax+1, zmin:zmax+1]\n",
    "    \n",
    "    dense_vol = fill_sparse_score_volume(vol)\n",
    "    \n",
    "    t = time.time()\n",
    "\n",
    "    polydata = volume_to_polydata(dense_vol, origin=(xmin,ymin,zmin), num_simplify_iter=3, smooth=True)\n",
    "\n",
    "    sys.stderr.write('time: %.2f\\n' % (time.time() - t))\n",
    "\n",
    "#     fn = os.path.join(MESH_ROOTDIR, '%(stack_m)s_to_%(stack_f)s',\n",
    "#                 '%(stack_m)s_down32_scoreVolume_to_%(stack_f)s_down32_scoreVolume_%(label)s_trainSampleScheme_1.stl') % \\\n",
    "#                   dict(stack_m='atlas_on_MD589', stack_f=stack, label=name_s)\n",
    "\n",
    "    mesh_fn = DataManager.get_transformed_volume_mesh_filepath(stack_m='atlas_on_MD589', type_m='score', \n",
    "                                                         stack_f=stack, type_f='score', \n",
    "                                                         downscale=32,\n",
    "                                                        train_sample_scheme_f=train_sample_scheme,\n",
    "                                                        global_transform_scheme=global_transform_scheme,\n",
    "                                                        label=name_s)     \n",
    "        \n",
    "    save_mesh(polydata, mesh_fn)"
   ]
  },
  {
   "cell_type": "code",
   "execution_count": null,
   "metadata": {
    "collapsed": false
   },
   "outputs": [],
   "source": [
    "# Render local transformed atlas structures\n",
    "\n",
    "for name_s in structures_sided:\n",
    "# for name_s in ['12N']:\n",
    "\n",
    "    print name_s\n",
    "    \n",
    "    local_transformed_volume = \\\n",
    "    DataManager.load_transformed_volume(stack_m='atlas_on_MD589', type_m='score', \n",
    "                                        stack_f=stack, type_f='score',\n",
    "                                        downscale=32, \n",
    "                                        train_sample_scheme_f=train_sample_scheme, \n",
    "                                        global_transform_scheme=global_transform_scheme,\n",
    "                                        local_transform_scheme=local_transform_scheme,\n",
    "                                        label=name_s)\n",
    "\n",
    "    xmin, xmax, ymin, ymax, zmin, zmax = bbox_3d(local_transformed_volume)\n",
    "    vol = local_transformed_volume[ymin:ymax+1, xmin:xmax+1, zmin:zmax+1]\n",
    "    \n",
    "    dense_vol = fill_sparse_score_volume(vol)\n",
    "    \n",
    "    t = time.time()\n",
    "\n",
    "    polydata = volume_to_polydata(dense_vol, origin=(xmin,ymin,zmin), num_simplify_iter=3, smooth=True)\n",
    "\n",
    "    sys.stderr.write('time: %.2f\\n' % (time.time() - t))\n",
    "\n",
    "    mesh_fn = DataManager.get_transformed_volume_mesh_filepath(stack_m='atlas_on_MD589', type_m='score', \n",
    "                                                     stack_f=stack, type_f='score', \n",
    "                                                     downscale=32,\n",
    "                                                    train_sample_scheme_f=train_sample_scheme,\n",
    "                                                    global_transform_scheme=global_transform_scheme,\n",
    "                                                    local_transform_scheme=local_transform_scheme,\n",
    "                                                    label=name_s)        \n",
    "    save_mesh(polydata, mesh_fn)"
   ]
  },
  {
   "cell_type": "code",
   "execution_count": null,
   "metadata": {
    "collapsed": true
   },
   "outputs": [],
   "source": []
  },
  {
   "cell_type": "code",
   "execution_count": null,
   "metadata": {
    "collapsed": true
   },
   "outputs": [],
   "source": [
    "# LOAD"
   ]
  },
  {
   "cell_type": "code",
   "execution_count": 8,
   "metadata": {
    "collapsed": true
   },
   "outputs": [],
   "source": [
    "stack = 'MD590'"
   ]
  },
  {
   "cell_type": "code",
   "execution_count": 9,
   "metadata": {
    "collapsed": false
   },
   "outputs": [],
   "source": [
    "# Load global transformed atlas structure meshes\n",
    "\n",
    "global_transformed_atlas_polydata_list = {}\n",
    "\n",
    "for name_s in structures_sided:\n",
    "    \n",
    "    mesh_fn = DataManager.get_transformed_volume_mesh_filepath(stack_m='atlas_on_MD589', type_m='score', \n",
    "                                                         stack_f=stack, type_f='score', \n",
    "                                                         downscale=32,\n",
    "                                                        train_sample_scheme_f=train_sample_scheme,\n",
    "                                                        global_transform_scheme=global_transform_scheme,\n",
    "                                                        label=name_s)   \n",
    "    \n",
    "    polydata = load_mesh_stl(mesh_fn, return_polydata_only=True)\n",
    "    global_transformed_atlas_polydata_list[name_s] = polydata"
   ]
  },
  {
   "cell_type": "code",
   "execution_count": 10,
   "metadata": {
    "collapsed": false,
    "scrolled": true
   },
   "outputs": [],
   "source": [
    "launch_vtk([actor_mesh(p, wireframe=False, color=structure_colors[convert_name_to_unsided(n)]/255., opacity=.3) \n",
    "            for n, p in global_transformed_atlas_polydata_list.iteritems()])"
   ]
  },
  {
   "cell_type": "code",
   "execution_count": null,
   "metadata": {
    "collapsed": true
   },
   "outputs": [],
   "source": []
  },
  {
   "cell_type": "code",
   "execution_count": 11,
   "metadata": {
    "collapsed": true
   },
   "outputs": [],
   "source": [
    "# Load locally transformed atlas structure meshes\n",
    "\n",
    "local_transformed_atlas_polydata_list = {}\n",
    "\n",
    "for name_s in structures_sided:\n",
    "    \n",
    "    mesh_fn = DataManager.get_transformed_volume_mesh_filepath(stack_m='atlas_on_MD589', type_m='score', \n",
    "                                                     stack_f=stack, type_f='score', \n",
    "                                                     downscale=32,\n",
    "                                                    train_sample_scheme_f=train_sample_scheme,\n",
    "                                                    global_transform_scheme=global_transform_scheme,\n",
    "                                                    local_transform_scheme=local_transform_scheme,\n",
    "                                                    label=name_s)   \n",
    "    \n",
    "    polydata = load_mesh_stl(mesh_fn, return_polydata_only=True)\n",
    "    local_transformed_atlas_polydata_list[name_s] = polydata"
   ]
  },
  {
   "cell_type": "code",
   "execution_count": 12,
   "metadata": {
    "collapsed": true
   },
   "outputs": [],
   "source": [
    "launch_vtk([actor_mesh(p, wireframe=True, color=structure_colors[convert_name_to_unsided(n)]/255., opacity=.3) \n",
    "            for n, p in local_transformed_atlas_polydata_list.iteritems()])"
   ]
  },
  {
   "cell_type": "code",
   "execution_count": null,
   "metadata": {
    "collapsed": true
   },
   "outputs": [],
   "source": []
  },
  {
   "cell_type": "code",
   "execution_count": 13,
   "metadata": {
    "collapsed": false
   },
   "outputs": [
    {
     "name": "stdout",
     "output_type": "stream",
     "text": [
      "crop: 620 1167 125 532\n"
     ]
    }
   ],
   "source": [
    "crop_xmin, crop_xmax, crop_ymin, crop_ymax = metadata_cache['cropbox'][stack]\n",
    "print 'crop:', crop_xmin, crop_xmax, crop_ymin, crop_ymax"
   ]
  },
  {
   "cell_type": "code",
   "execution_count": 14,
   "metadata": {
    "collapsed": false
   },
   "outputs": [
    {
     "name": "stdout",
     "output_type": "stream",
     "text": [
      "fixed volume box: 0 547 0 407 110 467\n"
     ]
    }
   ],
   "source": [
    "tb_vol_xmin, tb_vol_xmax, tb_vol_ymin, tb_vol_ymax, tb_vol_zmin, tb_vol_zmax = \\\n",
    "DataManager.load_volume_bbox(stack=stack, type='thumbnail', downscale=32)\n",
    "\n",
    "print 'fixed volume box:', tb_vol_xmin, tb_vol_xmax, tb_vol_ymin, tb_vol_ymax, tb_vol_zmin, tb_vol_zmax"
   ]
  },
  {
   "cell_type": "code",
   "execution_count": 15,
   "metadata": {
    "collapsed": false
   },
   "outputs": [],
   "source": [
    "oc_mesh_fn = DataManager.get_shell_mesh_filepath(stack=stack, downscale=32)\n",
    "oc_polydata = load_mesh_stl(oc_mesh_fn, return_polydata_only=True)"
   ]
  },
  {
   "cell_type": "code",
   "execution_count": 16,
   "metadata": {
    "collapsed": false
   },
   "outputs": [],
   "source": [
    "tb_volume = load_thumbnail_volume(stack)"
   ]
  },
  {
   "cell_type": "code",
   "execution_count": 69,
   "metadata": {
    "collapsed": true
   },
   "outputs": [],
   "source": [
    "# Show only selected sections\n",
    "\n",
    "tb_volume_sectioned = np.zeros_like(tb_volume)\n",
    "interval = 80\n",
    "for z in range(tb_volume_sectioned.shape[2]/2, tb_volume_sectioned.shape[2], interval):\n",
    "# for z in [180]:\n",
    "    tb_volume_sectioned[:, :, z:z+interval] = tb_volume[:,:,z:z+interval]"
   ]
  },
  {
   "cell_type": "code",
   "execution_count": 27,
   "metadata": {
    "collapsed": false
   },
   "outputs": [],
   "source": [
    "sc_vol = DataManager.load_score_volume(stack=stack, label='7N', downscale=32, train_sample_scheme=1)\n",
    "\n",
    "sc_vol[:250, 150:450] = 0\n",
    "sc_vol[:, :150] = 0"
   ]
  },
  {
   "cell_type": "code",
   "execution_count": null,
   "metadata": {
    "collapsed": true
   },
   "outputs": [],
   "source": [
    "launch_vtk([outerContour_actor, actor_volume(vol2.astype(np.float32), 'score', origin=[crop_xmin + sc_vol_xmin, crop_ymin + sc_vol_ymin, sc_vol_zmin])], \n",
    "           interactive=True)"
   ]
  },
  {
   "cell_type": "code",
   "execution_count": null,
   "metadata": {
    "collapsed": true
   },
   "outputs": [],
   "source": [
    "# [actor_mesh(p, wireframe=True if convert_name_to_unsided(n) == '5N' else False, \n",
    "#                        color=structure_colors[convert_name_to_unsided(n)]/255., \n",
    "#                        opacity=1. if convert_name_to_unsided(n) == '5N' else .1,\n",
    "#                       origin=(crop_xmin + tb_vol_xmin, crop_ymin + tb_vol_ymin, tb_vol_zmin)) \n",
    "#             for n, p in global_transformed_atlas_polydata_list.iteritems()] + \\"
   ]
  },
  {
   "cell_type": "code",
   "execution_count": 70,
   "metadata": {
    "collapsed": false
   },
   "outputs": [],
   "source": [
    "# Render global transformed structures + shell + thumbnail volume\n",
    "\n",
    "launch_vtk(\n",
    "#            [actor_mesh(p, wireframe=True if convert_name_to_unsided(n) == '5N' else False, \n",
    "#                        color=structure_colors[convert_name_to_unsided(n)]/255., \n",
    "#                        opacity=1. if convert_name_to_unsided(n) == '5N' else .1,\n",
    "#                       origin=(crop_xmin + tb_vol_xmin, crop_ymin + tb_vol_ymin, tb_vol_zmin)) \n",
    "#             for n, p in local_transformed_atlas_polydata_list.iteritems()] + \\\n",
    "           \n",
    "          [actor_mesh(oc_polydata, color=(1,1,1), opacity=.1, wireframe=True)] + \\\n",
    "           \n",
    "          [actor_volume(tb_volume_sectioned, what='tb', origin=(crop_xmin + tb_vol_xmin, \n",
    "                                                      crop_ymin + tb_vol_ymin, \n",
    "                                                      tb_vol_zmin))] + \\\n",
    "\n",
    "            [actor_mesh(p, wireframe=False,\n",
    "                    color=structure_colors[convert_name_to_unsided(n)]/255., \n",
    "                    opacity=1.,\n",
    "                    origin=(crop_xmin + tb_vol_xmin, crop_ymin + tb_vol_ymin, tb_vol_zmin)) \n",
    "         for n, p in global_transformed_atlas_polydata_list.iteritems()]\n",
    "                     \n",
    "    \n",
    "#            [actor_volume(sc_vol.astype(np.float32), what='score', origin=(crop_xmin + tb_vol_xmin, \n",
    "#                                                           crop_ymin + tb_vol_ymin, \n",
    "#                                                           tb_vol_zmin))]\n",
    "          )"
   ]
  },
  {
   "cell_type": "code",
   "execution_count": 24,
   "metadata": {
    "collapsed": false
   },
   "outputs": [],
   "source": [
    "# Render global transformed structures + locally transformed structures + shell + thumbnail volume + score volume\n",
    "\n",
    "launch_vtk(\n",
    "    [actor_mesh(p, wireframe=True if convert_name_to_unsided(n) == '7N' else False, \n",
    "                       color=structure_colors[convert_name_to_unsided(n)]/255., \n",
    "                       opacity=1. if convert_name_to_unsided(n) == '7N' else .1,\n",
    "                      origin=(crop_xmin + tb_vol_xmin, crop_ymin + tb_vol_ymin, tb_vol_zmin)) \n",
    "            for n, p in global_transformed_atlas_polydata_list.iteritems()] + \\\n",
    "                     \n",
    "           [actor_mesh(p, wireframe=False if convert_name_to_unsided(n) == '7N' else False, \n",
    "                       color=structure_colors[convert_name_to_unsided(n)]/255., \n",
    "                       opacity=1. if convert_name_to_unsided(n) == '7N' else .1,\n",
    "                      origin=(crop_xmin + tb_vol_xmin, crop_ymin + tb_vol_ymin, tb_vol_zmin)) \n",
    "            for n, p in local_transformed_atlas_polydata_list.iteritems()] + \\\n",
    "           \n",
    "          [actor_mesh(oc_polydata, color=(1,1,1), opacity=.1, wireframe=False)] + \\\n",
    "           \n",
    "#           [actor_volume(tb_volume_sectioned, what='tb', origin=(crop_xmin + tb_vol_xmin, \n",
    "#                                                       crop_ymin + tb_vol_ymin, \n",
    "#                                                       tb_vol_zmin))] + \\\n",
    "           \n",
    "           [actor_volume(sc_vol.astype(np.float32), what='score', origin=(crop_xmin + tb_vol_xmin, \n",
    "                                                          crop_ymin + tb_vol_ymin, \n",
    "                                                          tb_vol_zmin))]\n",
    "          )"
   ]
  },
  {
   "cell_type": "code",
   "execution_count": 30,
   "metadata": {
    "collapsed": true
   },
   "outputs": [],
   "source": [
    "# Render global transformed structures + locally transformed structures + shell + thumbnail volume + score volume\n",
    "\n",
    "launch_vtk(\n",
    "    [actor_mesh(global_transformed_atlas_polydata_list['7N_L'], wireframe=True, \n",
    "                       color=(1.,0,0), \n",
    "                       opacity=1.,\n",
    "                      origin=(crop_xmin + tb_vol_xmin, crop_ymin + tb_vol_ymin, tb_vol_zmin))] + \\\n",
    "                     \n",
    "           [actor_mesh(local_transformed_atlas_polydata_list['7N_L'], \n",
    "                       wireframe=True, \n",
    "                       color=(0,1.,0), \n",
    "                       opacity=1.,\n",
    "                      origin=(crop_xmin + tb_vol_xmin, crop_ymin + tb_vol_ymin, tb_vol_zmin))] + \\\n",
    "           \n",
    "          [actor_mesh(oc_polydata, color=(1,1,1), opacity=.1, wireframe=False)] + \\\n",
    "           \n",
    "#           [actor_volume(tb_volume_sectioned, what='tb', origin=(crop_xmin + tb_vol_xmin, \n",
    "#                                                       crop_ymin + tb_vol_ymin, \n",
    "#                                                       tb_vol_zmin))] + \\\n",
    "           \n",
    "           [actor_volume(sc_vol.astype(np.float32), what='score', origin=(crop_xmin + tb_vol_xmin, \n",
    "                                                          crop_ymin + tb_vol_ymin, \n",
    "                                                          tb_vol_zmin))]\n",
    "          )"
   ]
  },
  {
   "cell_type": "code",
   "execution_count": null,
   "metadata": {
    "collapsed": true
   },
   "outputs": [],
   "source": []
  },
  {
   "cell_type": "code",
   "execution_count": null,
   "metadata": {
    "collapsed": true
   },
   "outputs": [],
   "source": [
    "# name_s = '7N_L'\n",
    "\n",
    "# mesh_actor = actor_mesh(localAdjusted_polydata_list[name_s], colors[labelMap_sidedToUnsided[name_s]], opacity=.7)\n",
    "\n",
    "# score_volume_actor = actor_volume(load_score_volume(stack, labelMap_sidedToUnsided[name_s]), 'score')\n",
    "\n",
    "# launch_vtk([mesh_actor, score_volume_actor])"
   ]
  },
  {
   "cell_type": "code",
   "execution_count": null,
   "metadata": {
    "collapsed": false,
    "scrolled": true
   },
   "outputs": [],
   "source": [
    "# oneStructure_screenshot_dir = create_if_not_exists(volume_dir + '/%(stack)s/atlasProjected_score_screenshots' % {'stack':stack})\n",
    "\n",
    "# for name_s in available_labels_sided:\n",
    "\n",
    "#     mesh_actor = actor_mesh(atlasProjected_polydata_list[name_s], colors[labelMap_sidedToUnsided[name_s]], opacity=.7)\n",
    "\n",
    "#     score_volume_actor = actor_volume(load_score_volume(stack, labelMap_sidedToUnsided[name_s]), 'score')\n",
    "\n",
    "#     launch_vtk([mesh_actor, score_volume_actor], interactive=False, \n",
    "#                snapshot_fn=oneStructure_screenshot_dir + '/atlasProjected_score_%(name_s)s.png' % \\\n",
    "#                {'stack': stack, 'name_s': name_s})"
   ]
  },
  {
   "cell_type": "code",
   "execution_count": null,
   "metadata": {
    "collapsed": false
   },
   "outputs": [],
   "source": [
    "# oneStructure_screenshot_dir = create_if_not_exists(volume_dir + '/%(stack)s/localAdjusted_score_screenshots' % {'stack':stack})\n",
    "\n",
    "# for name_s in available_labels_sided:\n",
    "\n",
    "#     mesh_actor = actor_mesh(localAdjusted_polydata_list[name_s], colors[labelMap_sidedToUnsided[name_s]], opacity=.7)\n",
    "\n",
    "#     score_volume_actor = actor_volume(load_score_volume(stack, labelMap_sidedToUnsided[name_s]), 'score')\n",
    "\n",
    "#     launch_vtk([mesh_actor, score_volume_actor], interactive=False, \n",
    "#                snapshot_fn=oneStructure_screenshot_dir + '/localAdjusted_score_%(name_s)s.png' % \\\n",
    "#                {'stack': stack, 'name_s': name_s})"
   ]
  },
  {
   "cell_type": "code",
   "execution_count": null,
   "metadata": {
    "collapsed": true
   },
   "outputs": [],
   "source": []
  }
 ],
 "metadata": {
  "kernelspec": {
   "display_name": "Python 2",
   "language": "python",
   "name": "python2"
  },
  "language_info": {
   "codemirror_mode": {
    "name": "ipython",
    "version": 2
   },
   "file_extension": ".py",
   "mimetype": "text/x-python",
   "name": "python",
   "nbconvert_exporter": "python",
   "pygments_lexer": "ipython2",
   "version": "2.7.12"
  }
 },
 "nbformat": 4,
 "nbformat_minor": 0
}
