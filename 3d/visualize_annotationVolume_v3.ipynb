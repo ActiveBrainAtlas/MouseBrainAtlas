{
 "cells": [
  {
   "cell_type": "code",
   "execution_count": 1,
   "metadata": {
    "scrolled": true
   },
   "outputs": [
    {
     "name": "stderr",
     "output_type": "stream",
     "text": [
      "/usr/local/lib/python2.7/dist-packages/matplotlib/__init__.py:1357: UserWarning:  This call to matplotlib.use() has no effect\n",
      "because the backend has already been chosen;\n",
      "matplotlib.use() must be called *before* pylab, matplotlib.pyplot,\n",
      "or matplotlib.backends is imported for the first time.\n",
      "\n",
      "  warnings.warn(_use_error_msg)\n"
     ]
    },
    {
     "name": "stdout",
     "output_type": "stream",
     "text": [
      "Setting environment for Local Macbook Pro\n"
     ]
    },
    {
     "name": "stderr",
     "output_type": "stream",
     "text": [
      "Not using image_cache.\n",
      "Not using image_cache.\n",
      "Not using image_cache.\n",
      "Not using image_cache.\n",
      "Not using image_cache.\n",
      "Not using image_cache.\n",
      "Not using image_cache.\n",
      "Not using image_cache.\n",
      "Not using image_cache.\n",
      "Not using image_cache.\n",
      "Not using image_cache.\n",
      "Not using image_cache.\n",
      "Not using image_cache.\n",
      "Not using image_cache.\n",
      "Not using image_cache.\n",
      "Not using image_cache.\n",
      "Not using image_cache.\n",
      "Not using image_cache.\n",
      "Not using image_cache.\n",
      "Not using image_cache.\n",
      "Not using image_cache.\n"
     ]
    }
   ],
   "source": [
    "%reload_ext autoreload\n",
    "%autoreload 2\n",
    "\n",
    "import sys\n",
    "import os\n",
    "import time\n",
    "\n",
    "import numpy as np\n",
    "import bloscpack as bp\n",
    "import matplotlib.pyplot as plt\n",
    "%matplotlib inline\n",
    "import vtk\n",
    "from vtk.util import numpy_support\n",
    "\n",
    "sys.path.append(os.path.join(os.environ['REPO_DIR'], 'utilities'))\n",
    "from utilities2015 import *\n",
    "from annotation_utilities import *\n",
    "from metadata import *\n",
    "from vis3d_utilities import *"
   ]
  },
  {
   "cell_type": "code",
   "execution_count": 2,
   "metadata": {
    "collapsed": true
   },
   "outputs": [],
   "source": [
    "stack = 'MD589'"
   ]
  },
  {
   "cell_type": "code",
   "execution_count": 3,
   "metadata": {},
   "outputs": [
    {
     "name": "stdout",
     "output_type": "stream",
     "text": [
      "aws s3 cp --recursive \"s3://mousebrainatlas-data/CSHL_labelings_v3/MD589\" \"/home/yuncong/CSHL_labelings_v3/MD589\" --exclude \"*\" --include \"*contours*\"\n",
      "latest timestamp:  10042017100807\n"
     ]
    }
   ],
   "source": [
    "contour_df = DataManager.load_annotation_v4(stack=stack, by_human=True, timestamp='latest', suffix='contours')\n",
    "contour_df = convert_annotation_v3_original_to_aligned(contour_df, stack=stack)\n",
    "# contour_df vertices wrt to aligned uncropped lossless image"
   ]
  },
  {
   "cell_type": "code",
   "execution_count": 7,
   "metadata": {
    "collapsed": true
   },
   "outputs": [],
   "source": [
    "name_s = '7N_L'\n",
    "name_u, side = parse_label(name_s)[:2]\n",
    "\n",
    "contours_xysec_wrt_wholebrain_rawResol = [[(x, y, cnt['section']) for x, y in cnt['vertices']]\n",
    " for cid, cnt in contour_df[(contour_df['name'] == name_u) & (contour_df['side'] == side)].iterrows()]\n",
    "\n",
    "contours_xyz_wrt_wholebrain_volResol = \\\n",
    "[convert_frame_and_resolution(cnt_xysec,\n",
    "                              in_wrt='wholebrain', in_resolution='image_image_section',\n",
    "                              out_wrt='wholebrain', out_resolution='volume',\n",
    "                             image_resolution='raw', stack=stack,\n",
    "                             volume_resolution_um=10.)\n",
    " for cnt_xysec in contours_xysec_wrt_wholebrain_rawResol]\n",
    "\n",
    "volume_volResol, origin_wrt_wholebrain_volResol = \\\n",
    "interpolate_contours_to_volume(contours_xyz=contours_xyz_wrt_wholebrain_volResol, \n",
    "                               interpolation_direction='z',\n",
    "                              return_origin_instead_of_bbox=True)\n",
    "\n",
    "t = time.time()\n",
    "mesh = volume_to_polydata(vol, origin=origin_wrt_wholebrain_volResol, \n",
    "                              num_simplify_iter=3, smooth=True)\n",
    "\n",
    "sys.stderr.write('time: %.2f\\n' % (time.time() - t) ) # ~ 150s for outerContour; 93s for sp5\n",
    "\n",
    "# fp = DataManager.get_mesh_filepath(stack_m=stack, vol_type_m='annotation', structure=name_s)\n",
    "# create_parent_dir_if_not_exists(fp)\n",
    "# save_mesh_stl(mesh, fp)\n",
    "# upload_to_s3(fp)"
   ]
  },
  {
   "cell_type": "code",
   "execution_count": null,
   "metadata": {
    "collapsed": true
   },
   "outputs": [],
   "source": [
    "stack_spec "
   ]
  },
  {
   "cell_type": "code",
   "execution_count": 97,
   "metadata": {},
   "outputs": [
    {
     "ename": "TypeError",
     "evalue": "exceptions must be old-style classes or derived from BaseException, not NoneType",
     "output_type": "error",
     "traceback": [
      "\u001b[0;31m---------------------------------------------------------------------------\u001b[0m",
      "\u001b[0;31mTypeError\u001b[0m                                 Traceback (most recent call last)",
      "\u001b[0;32m<ipython-input-97-a4c4dcf7b076>\u001b[0m in \u001b[0;36m<module>\u001b[0;34m()\u001b[0m\n\u001b[1;32m      4\u001b[0m                                                             \u001b[0mdetector_id\u001b[0m\u001b[0;34m=\u001b[0m\u001b[0mNone\u001b[0m\u001b[0;34m,\u001b[0m\u001b[0;34m\u001b[0m\u001b[0m\n\u001b[1;32m      5\u001b[0m                                                            structure=name_s), \n\u001b[0;32m----> 6\u001b[0;31m                                             structure=name_s)\n\u001b[0m",
      "\u001b[0;32m/home/yuncong/Brain/utilities/data_manager.py\u001b[0m in \u001b[0;36mget_original_volume_filepath_v2\u001b[0;34m(stack_spec, structure, resolution)\u001b[0m\n\u001b[1;32m   2640\u001b[0m             \u001b[0;32mreturn\u001b[0m \u001b[0mos\u001b[0m\u001b[0;34m.\u001b[0m\u001b[0mpath\u001b[0m\u001b[0;34m.\u001b[0m\u001b[0mjoin\u001b[0m\u001b[0;34m(\u001b[0m\u001b[0mVOLUME_ROOTDIR\u001b[0m\u001b[0;34m,\u001b[0m \u001b[0mstack_spec\u001b[0m\u001b[0;34m[\u001b[0m\u001b[0;34m'name'\u001b[0m\u001b[0;34m]\u001b[0m\u001b[0;34m,\u001b[0m \u001b[0mvol_basename\u001b[0m\u001b[0;34m,\u001b[0m \u001b[0;34m'score_volumes'\u001b[0m\u001b[0;34m,\u001b[0m \u001b[0mvol_basename_with_structure_suffix\u001b[0m \u001b[0;34m+\u001b[0m \u001b[0;34m'.bp'\u001b[0m\u001b[0;34m)\u001b[0m\u001b[0;34m\u001b[0m\u001b[0m\n\u001b[1;32m   2641\u001b[0m         \u001b[0;32melse\u001b[0m\u001b[0;34m:\u001b[0m\u001b[0;34m\u001b[0m\u001b[0m\n\u001b[0;32m-> 2642\u001b[0;31m             \u001b[0;32mraise\u001b[0m\u001b[0;34m\u001b[0m\u001b[0m\n\u001b[0m\u001b[1;32m   2643\u001b[0m \u001b[0;34m\u001b[0m\u001b[0m\n\u001b[1;32m   2644\u001b[0m     \u001b[0;34m@\u001b[0m\u001b[0mstaticmethod\u001b[0m\u001b[0;34m\u001b[0m\u001b[0m\n",
      "\u001b[0;31mTypeError\u001b[0m: exceptions must be old-style classes or derived from BaseException, not NoneType"
     ]
    }
   ],
   "source": [
    "DataManager.get_original_volume_filepath_v2(stack_spec=dict(name=stack, resolution='10.0um', \n",
    "                                                            vol_type='annotation', \n",
    "                                                            prep_id=None,\n",
    "                                                            detector_id=None,\n",
    "                                                           structure=name_s), \n",
    "                                            structure=name_s)"
   ]
  },
  {
   "cell_type": "code",
   "execution_count": null,
   "metadata": {
    "collapsed": true
   },
   "outputs": [],
   "source": []
  },
  {
   "cell_type": "code",
   "execution_count": 83,
   "metadata": {},
   "outputs": [],
   "source": [
    "wrt_metadata = {'wholebrain': {'origin_wrt_wholebrain_um': 0, \n",
    "                'plane': 'sagittal', \n",
    "                'zdim_um': None}}"
   ]
  },
  {
   "cell_type": "code",
   "execution_count": 85,
   "metadata": {},
   "outputs": [],
   "source": [
    "def convert_resolution(p, in_resolution, out_resolution, \n",
    "                       stack=None, image_resolution=None, \n",
    "                       section_list=None,\n",
    "                      volume_resolution_um=None):\n",
    "\n",
    "    if in_resolution == 'image':\n",
    "        p_um = p * convert_resolution_string_to_um(stack=stack, resolution=image_resolution)\n",
    "    elif in_resolution == 'image_image_section':\n",
    "        uv_um = p[..., :2] * convert_resolution_string_to_um(stack=stack, resolution=image_resolution)\n",
    "        d_um = np.array([SECTION_THICKNESS * sec for sec in p[..., 2]])\n",
    "        p_um = np.column_stack([uv_um, d_um])\n",
    "    elif in_resolution == 'image_image_index':\n",
    "        uv_um = p[..., :2] * convert_resolution_string_to_um(stack=stack, resolution=image_resolution)\n",
    "        i_um = np.array([SECTION_THICKNESS * section_list[int(idx)] for idx in p[..., 2]])\n",
    "        p_um = np.column_stack([uv_um, i_um])\n",
    "    elif in_resolution == 'volume':\n",
    "        p_um = p * volume_resolution_um\n",
    "    elif in_resolution == 'raw':\n",
    "        p_um = p * planar_resolution[stack]\n",
    "    elif in_resolution == 'down32':\n",
    "        p_um = p * (planar_resolution[stack] * 32.)\n",
    "    elif in_resolution == 'um':\n",
    "        p_um = p\n",
    "    else:\n",
    "        raise\n",
    "\n",
    "    if out_resolution == 'image':\n",
    "        p_outResol = p_um / convert_resolution_string_to_um(stack=stack, resolution=image_resolution)\n",
    "    # elif out_resolution == 'image_image_section':\n",
    "    #     uv_outResol = p_um[..., :2] / convert_resolution_string_to_voxel_size(stack=self.gui.stack, resolution=self.data_feeder.resolution)\n",
    "    #     sec_outResol = np.array([1 + int(np.floor(d_um / SECTION_THICKNESS)) for d_um in p_um[..., 2]])\n",
    "    #     p_outResol = np.column_stack([uv_outResol, sec_outResol])\n",
    "    elif out_resolution == 'image_image_index':\n",
    "        uv_outResol = p_um[..., :2] / convert_resolution_string_to_um(stack=stack, resolution=image_resolution)\n",
    "        if hasattr(self.data_feeder, 'sections'):\n",
    "            i_outResol = []\n",
    "            for d_um in p_um[..., 2]:\n",
    "                sec = 1 + int(np.floor(d_um / SECTION_THICKNESS))\n",
    "                if sec in section_list:\n",
    "                    index = section_list.index(sec)\n",
    "                else:\n",
    "                    index = np.nan\n",
    "                i_outResol.append(index)\n",
    "            i_outResol = np.array(i_outResol)\n",
    "            # i_outResol = np.array([self.data_feeder.sections.index(1 + int(np.floor(d_um / SECTION_THICKNESS))) for d_um in p_um[..., 2]])\n",
    "        else:\n",
    "            i_outResol = p_um[..., 2] / convert_resolution_string_to_um(stack=stack, resolution=image_resolution)\n",
    "        p_outResol = np.column_stack([uv_outResol, i_outResol])\n",
    "    elif out_resolution == 'volume':\n",
    "        p_outResol = p_um / volume_resolution_um\n",
    "    elif out_resolution == 'raw':\n",
    "        p_outResol = p_um / planar_resolution[stack]\n",
    "    elif out_resolution == 'down32':\n",
    "        p_outResol = p_um / (planar_resolution[stack] * 32.)\n",
    "    elif out_resolution == 'um':\n",
    "        p_outResol = p_um\n",
    "    else:\n",
    "        raise\n",
    "\n",
    "    return p_outResol"
   ]
  },
  {
   "cell_type": "code",
   "execution_count": 86,
   "metadata": {},
   "outputs": [],
   "source": [
    "def convert_from_wholebrain_um(p_wrt_wholebrain_um, wrt, resolution,\n",
    "                               image_resolution=None, stack=None, volume_resolution_um=None,\n",
    "    structure_origin=None, structure_wrt=None, structure_resolution=None, structure_zdim=None):\n",
    "\n",
    "    p_wrt_wholebrain_um = np.array(p_wrt_wholebrain_um)\n",
    "    assert np.atleast_2d(p_wrt_wholebrain_um).shape[1] == 3\n",
    "\n",
    "    if wrt == 'wholebrain':\n",
    "        p_wrt_outdomain_um = p_wrt_wholebrain_um\n",
    "    elif 'sagittal' in wrt or 'coronal' in wrt or 'horizontal' in wrt:\n",
    "        box, plane = wrt.split('_')\n",
    "        p_wrt_boxSagittal_origin_um = p_wrt_wholebrain_um - wrt_metadata[wrt]['origin_wrt_wholebrain_um']\n",
    "        assert plane == 'sagittal', plane # otherwise, need to provide zdim to convert_frame.\n",
    "        p_wrt_outdomain_um = convert_frame(p_wrt_boxSagittal_origin_um, in_frame='sagittal', \n",
    "                                           out_frame=plane, \n",
    "                                           zdim=wrt_metadata[wrt]['zdim_um'])\n",
    "    else:\n",
    "        print wrt\n",
    "        raise\n",
    "\n",
    "    p_wrt_outdomain_outResol = convert_resolution(p_wrt_outdomain_um, in_resolution='um', out_resolution=resolution,\n",
    "                                                 image_resolution=image_resolution, stack=stack, volume_resolution_um=volume_resolution_um)\n",
    "    return np.squeeze(p_wrt_outdomain_outResol)"
   ]
  },
  {
   "cell_type": "code",
   "execution_count": 87,
   "metadata": {},
   "outputs": [],
   "source": [
    "def convert_to_wholebrain_um(p, wrt, resolution,\n",
    "                             image_resolution=None, stack=None, volume_resolution_um=None,\n",
    "    structure_origin=None, structure_wrt=None, structure_resolution=None, structure_zdim=None):\n",
    "\n",
    "    p = np.array(p)\n",
    "    assert np.atleast_2d(p).shape[1] == 3\n",
    "\n",
    "    p_um = convert_resolution(p, in_resolution=resolution, out_resolution='um',\n",
    "                             image_resolution=image_resolution, stack=stack, volume_resolution_um=volume_resolution_um)\n",
    "\n",
    "    if wrt == 'wholebrain':\n",
    "        p_wrt_wholebrain_um = p_um\n",
    "    elif 'sagittal' in wrt or 'coronal' in wrt or 'horizontal' in wrt:\n",
    "        box, plane = wrt.split('_')\n",
    "        assert plane == 'sagittal', plane # otherwise, need to provide zdim to convert_frame.\n",
    "        p_wrt_boxSagittal_um = convert_frame(p_um, in_frame=plane, out_frame='sagittal', zdim=wrt_metadata[wrt]['zdim_um'])\n",
    "        box_origin_wrt_wholebrain_um = wrt_metadata[wrt]['origin_wrt_wholebrain_um']\n",
    "        p_wrt_wholebrain_um = p_wrt_boxSagittal_um + box_origin_wrt_wholebrain_um\n",
    "    else:\n",
    "        print wrt\n",
    "        raise\n",
    "\n",
    "    return np.squeeze(p_wrt_wholebrain_um)"
   ]
  },
  {
   "cell_type": "code",
   "execution_count": 88,
   "metadata": {
    "collapsed": true
   },
   "outputs": [],
   "source": [
    "def convert_frame_and_resolution(p, in_wrt, in_resolution, out_wrt, out_resolution,\n",
    "                                 image_resolution=None, stack=None, volume_resolution_um\n",
    "    structure_origin=None, structure_wrt=None, structure_resolution=None, structure_zdim=None):\n",
    "        \"\"\"\n",
    "        `wrt` can be any of:\n",
    "        - wholebrain\n",
    "        - sagittal: frame of lo-res sagittal scene = sagittal frame of the intensity volume, with origin at the most left/rostral/dorsal position.\n",
    "        - coronal: frame of lo-res coronal scene = coronal frame of the intensity volume, with origin at the most left/rostral/dorsal position.\n",
    "        - horizontal: frame of lo-res horizontal scene = horizontal frame of the intensity volume, with origin at the most left/rostral/dorsal position.\n",
    "\n",
    "        `resolution` can be any of:\n",
    "        - raw\n",
    "        - down32\n",
    "        - vol\n",
    "        - image: gscene resolution, determined by data_feeder.resolution\n",
    "        - image_image_index: (u in image resolution, v in image resolution, i in terms of data_feeder index)\n",
    "        \"\"\"\n",
    "\n",
    "        p_wrt_wholebrain_um = convert_to_wholebrain_um(p, wrt=in_wrt, resolution=in_resolution,\n",
    "                                                       image_resolution=image_resolution, stack=stack, volume_resolution_um=volume_resolution_um,\n",
    "        structure_origin=structure_origin, structure_wrt=structure_wrt, structure_resolution=structure_resolution, structure_zdim=structure_zdim)\n",
    "\n",
    "        p_wrt_outdomain_outResol = convert_from_wholebrain_um(p_wrt_wholebrain_um=p_wrt_wholebrain_um, wrt=out_wrt, resolution=out_resolution,\n",
    "                                                              image_resolution=image_resolution, stack=stack, volume_resolution_um=volume_resolution_um,\n",
    "        structure_origin=structure_origin, structure_wrt=structure_wrt, structure_resolution=structure_resolution, structure_zdim=structure_zdim)\n",
    "        # print 'p', p\n",
    "        # print \"p_wrt_wholebrain_um\", p_wrt_wholebrain_um\n",
    "        # print 'p_wrt_outdomain_outResol', p_wrt_outdomain_outResol\n",
    "        return p_wrt_outdomain_outResol"
   ]
  },
  {
   "cell_type": "markdown",
   "metadata": {
    "collapsed": true
   },
   "source": [
    "# Convert integer-valued annotation volume to structure meshes"
   ]
  },
  {
   "cell_type": "code",
   "execution_count": 6,
   "metadata": {
    "collapsed": true
   },
   "outputs": [],
   "source": [
    "volume = DataManager.load_annotation_volume(stack=stack, downscale=32)"
   ]
  },
  {
   "cell_type": "code",
   "execution_count": 20,
   "metadata": {
    "scrolled": true
   },
   "outputs": [
    {
     "name": "stdout",
     "output_type": "stream",
     "text": [
      "LRt_R 306 402 238 292 236 287\n"
     ]
    },
    {
     "name": "stderr",
     "output_type": "stream",
     "text": [
      "marching cube: 0.05 seconds\n",
      "mesh_to_polydata: 0.02 seconds\n",
      "simplify 0 @ 13651: 0.15 seconds\n",
      "simplify 1 @ 2724: 0.11 seconds\n",
      "simplify 2 @ 546: 0.02 seconds\n",
      "time: 0.35\n"
     ]
    },
    {
     "name": "stdout",
     "output_type": "stream",
     "text": [
      "aws s3 cp \"/home/yuncong/CSHL_meshes/MD594/MD594_down32_annotationVolume/MD594_down32_annotationVolume_LRt_R.stl\" \"s3://mousebrainatlas-data/CSHL_meshes/MD594/MD594_down32_annotationVolume/MD594_down32_annotationVolume_LRt_R.stl\"\n",
      "Sp5C_L 351 515 175 298 58 137\n"
     ]
    },
    {
     "name": "stderr",
     "output_type": "stream",
     "text": [
      "marching cube: 0.22 seconds\n",
      "mesh_to_polydata: 0.05 seconds\n",
      "simplify 0 @ 38592: 0.64 seconds\n",
      "simplify 1 @ 7720: 0.66 seconds\n",
      "simplify 2 @ 1545: 0.14 seconds\n",
      "time: 1.73\n"
     ]
    },
    {
     "name": "stdout",
     "output_type": "stream",
     "text": [
      "aws s3 cp \"/home/yuncong/CSHL_meshes/MD594/MD594_down32_annotationVolume/MD594_down32_annotationVolume_Sp5C_L.stl\" \"s3://mousebrainatlas-data/CSHL_meshes/MD594/MD594_down32_annotationVolume/MD594_down32_annotationVolume_Sp5C_L.stl\"\n",
      "Pn_L 82 155 267 320 98 168\n"
     ]
    },
    {
     "name": "stderr",
     "output_type": "stream",
     "text": [
      "marching cube: 0.09 seconds\n",
      "mesh_to_polydata: 0.04 seconds\n",
      "simplify 0 @ 16808: 0.31 seconds\n",
      "simplify 1 @ 3363: 0.22 seconds\n",
      "simplify 2 @ 674: 0.03 seconds\n",
      "time: 0.70\n"
     ]
    },
    {
     "name": "stdout",
     "output_type": "stream",
     "text": [
      "aws s3 cp \"/home/yuncong/CSHL_meshes/MD594/MD594_down32_annotationVolume/MD594_down32_annotationVolume_Pn_L.stl\" \"s3://mousebrainatlas-data/CSHL_meshes/MD594/MD594_down32_annotationVolume/MD594_down32_annotationVolume_Pn_L.stl\"\n",
      "7N_R 218 275 259 308 232 287\n"
     ]
    },
    {
     "name": "stderr",
     "output_type": "stream",
     "text": [
      "marching cube: 0.03 seconds\n",
      "mesh_to_polydata: 0.02 seconds\n",
      "simplify 0 @ 10940: 0.12 seconds\n",
      "simplify 1 @ 2189: 0.10 seconds\n",
      "simplify 2 @ 439: 0.02 seconds\n",
      "time: 0.30\n"
     ]
    },
    {
     "name": "stdout",
     "output_type": "stream",
     "text": [
      "aws s3 cp \"/home/yuncong/CSHL_meshes/MD594/MD594_down32_annotationVolume/MD594_down32_annotationVolume_7N_R.stl\" \"s3://mousebrainatlas-data/CSHL_meshes/MD594/MD594_down32_annotationVolume/MD594_down32_annotationVolume_7N_R.stl\"\n",
      "PBG_L 111 144 110 168 46 64\n",
      "aws s3 cp \"/home/yuncong/CSHL_meshes/MD594/MD594_down32_annotationVolume/MD594_down32_annotationVolume_PBG_L.stl\" \"s3://mousebrainatlas-data/CSHL_meshes/MD594/MD594_down32_annotationVolume/MD594_down32_annotationVolume_PBG_L.stl\"\n"
     ]
    },
    {
     "name": "stderr",
     "output_type": "stream",
     "text": [
      "marching cube: 0.01 seconds\n",
      "mesh_to_polydata: 0.00 seconds\n",
      "simplify 0 @ 2463: 0.03 seconds\n",
      "simplify 1 @ 494: 0.02 seconds\n",
      "simplify 2 @ 100: 0.01 seconds\n",
      "time: 0.07\n"
     ]
    },
    {
     "name": "stdout",
     "output_type": "stream",
     "text": [
      "VLL_L 120 173 171 300 49 96\n"
     ]
    },
    {
     "name": "stderr",
     "output_type": "stream",
     "text": [
      "marching cube: 0.06 seconds\n",
      "mesh_to_polydata: 0.02 seconds\n",
      "simplify 0 @ 9773: 0.15 seconds\n",
      "simplify 1 @ 1956: 0.09 seconds\n",
      "simplify 2 @ 393: 0.02 seconds\n",
      "time: 0.34\n"
     ]
    },
    {
     "name": "stdout",
     "output_type": "stream",
     "text": [
      "aws s3 cp \"/home/yuncong/CSHL_meshes/MD594/MD594_down32_annotationVolume/MD594_down32_annotationVolume_VLL_L.stl\" \"s3://mousebrainatlas-data/CSHL_meshes/MD594/MD594_down32_annotationVolume/MD594_down32_annotationVolume_VLL_L.stl\"\n",
      "VLL_R 105 159 177 302 259 300\n"
     ]
    },
    {
     "name": "stderr",
     "output_type": "stream",
     "text": [
      "marching cube: 0.06 seconds\n",
      "mesh_to_polydata: 0.02 seconds\n",
      "simplify 0 @ 9776: 0.18 seconds\n",
      "simplify 1 @ 1953: 0.15 seconds\n",
      "simplify 2 @ 393: 0.03 seconds\n",
      "time: 0.45\n"
     ]
    },
    {
     "name": "stdout",
     "output_type": "stream",
     "text": [
      "aws s3 cp \"/home/yuncong/CSHL_meshes/MD594/MD594_down32_annotationVolume/MD594_down32_annotationVolume_VLL_R.stl\" \"s3://mousebrainatlas-data/CSHL_meshes/MD594/MD594_down32_annotationVolume/MD594_down32_annotationVolume_VLL_R.stl\"\n",
      "7N_L 224 288 250 298 77 137\n"
     ]
    },
    {
     "name": "stderr",
     "output_type": "stream",
     "text": [
      "marching cube: 0.06 seconds\n",
      "mesh_to_polydata: 0.04 seconds\n",
      "simplify 0 @ 12203: 0.22 seconds\n",
      "simplify 1 @ 2442: 0.19 seconds\n",
      "simplify 2 @ 490: 0.04 seconds\n",
      "time: 0.56\n"
     ]
    },
    {
     "name": "stdout",
     "output_type": "stream",
     "text": [
      "aws s3 cp \"/home/yuncong/CSHL_meshes/MD594/MD594_down32_annotationVolume/MD594_down32_annotationVolume_7N_L.stl\" \"s3://mousebrainatlas-data/CSHL_meshes/MD594/MD594_down32_annotationVolume/MD594_down32_annotationVolume_7N_L.stl\"\n",
      "PBG_R 91 127 113 172 289 304\n",
      "aws s3 cp \"/home/yuncong/CSHL_meshes/MD594/MD594_down32_annotationVolume/MD594_down32_annotationVolume_PBG_R.stl\" \"s3://mousebrainatlas-data/CSHL_meshes/MD594/MD594_down32_annotationVolume/MD594_down32_annotationVolume_PBG_R.stl\"\n"
     ]
    },
    {
     "name": "stderr",
     "output_type": "stream",
     "text": [
      "marching cube: 0.02 seconds\n",
      "mesh_to_polydata: 0.01 seconds\n",
      "simplify 0 @ 2073: 0.05 seconds\n",
      "simplify 1 @ 416: 0.03 seconds\n",
      "simplify 2 @ 84: 0.01 seconds\n",
      "time: 0.11\n"
     ]
    },
    {
     "name": "stdout",
     "output_type": "stream",
     "text": [
      "RtTg 105 185 233 305 128 239\n"
     ]
    },
    {
     "name": "stderr",
     "output_type": "stream",
     "text": [
      "marching cube: 0.11 seconds\n",
      "mesh_to_polydata: 0.04 seconds\n",
      "simplify 0 @ 26894: 0.26 seconds\n",
      "simplify 1 @ 5380: 0.26 seconds\n",
      "simplify 2 @ 1077: 0.06 seconds\n",
      "time: 0.73\n"
     ]
    },
    {
     "name": "stdout",
     "output_type": "stream",
     "text": [
      "aws s3 cp \"/home/yuncong/CSHL_meshes/MD594/MD594_down32_annotationVolume/MD594_down32_annotationVolume_RtTg.stl\" \"s3://mousebrainatlas-data/CSHL_meshes/MD594/MD594_down32_annotationVolume/MD594_down32_annotationVolume_RtTg.stl\"\n",
      "Sp5C_R 338 461 163 267 259 318\n"
     ]
    },
    {
     "name": "stderr",
     "output_type": "stream",
     "text": [
      "marching cube: 0.23 seconds\n",
      "mesh_to_polydata: 0.07 seconds\n",
      "simplify 0 @ 24926: 0.51 seconds\n",
      "simplify 1 @ 4986: 0.43 seconds\n",
      "simplify 2 @ 998: 0.09 seconds\n",
      "time: 1.35\n"
     ]
    },
    {
     "name": "stdout",
     "output_type": "stream",
     "text": [
      "aws s3 cp \"/home/yuncong/CSHL_meshes/MD594/MD594_down32_annotationVolume/MD594_down32_annotationVolume_Sp5C_R.stl\" \"s3://mousebrainatlas-data/CSHL_meshes/MD594/MD594_down32_annotationVolume/MD594_down32_annotationVolume_Sp5C_R.stl\"\n",
      "Pn_R 79 149 273 324 198 257\n"
     ]
    },
    {
     "name": "stderr",
     "output_type": "stream",
     "text": [
      "marching cube: 0.07 seconds\n",
      "mesh_to_polydata: 0.03 seconds\n",
      "simplify 0 @ 13961: 0.17 seconds\n",
      "simplify 1 @ 2793: 0.13 seconds\n",
      "simplify 2 @ 560: 0.03 seconds\n",
      "time: 0.43\n"
     ]
    },
    {
     "name": "stdout",
     "output_type": "stream",
     "text": [
      "aws s3 cp \"/home/yuncong/CSHL_meshes/MD594/MD594_down32_annotationVolume/MD594_down32_annotationVolume_Pn_R.stl\" \"s3://mousebrainatlas-data/CSHL_meshes/MD594/MD594_down32_annotationVolume/MD594_down32_annotationVolume_Pn_R.stl\"\n",
      "LRt_L 322 419 244 292 90 137\n"
     ]
    },
    {
     "name": "stderr",
     "output_type": "stream",
     "text": [
      "marching cube: 0.04 seconds\n",
      "mesh_to_polydata: 0.02 seconds\n",
      "simplify 0 @ 11456: 0.13 seconds\n",
      "simplify 1 @ 2292: 0.10 seconds\n",
      "simplify 2 @ 460: 0.02 seconds\n",
      "time: 0.32\n"
     ]
    },
    {
     "name": "stdout",
     "output_type": "stream",
     "text": [
      "aws s3 cp \"/home/yuncong/CSHL_meshes/MD594/MD594_down32_annotationVolume/MD594_down32_annotationVolume_LRt_L.stl\" \"s3://mousebrainatlas-data/CSHL_meshes/MD594/MD594_down32_annotationVolume/MD594_down32_annotationVolume_LRt_L.stl\"\n",
      "Sp5O_R 203 328 176 254 300 325\n"
     ]
    },
    {
     "name": "stderr",
     "output_type": "stream",
     "text": [
      "marching cube: 0.05 seconds\n",
      "mesh_to_polydata: 0.02 seconds\n",
      "simplify 0 @ 7655: 0.20 seconds\n",
      "simplify 1 @ 1532: 0.07 seconds\n",
      "simplify 2 @ 308: 0.01 seconds\n",
      "time: 0.37\n"
     ]
    },
    {
     "name": "stdout",
     "output_type": "stream",
     "text": [
      "aws s3 cp \"/home/yuncong/CSHL_meshes/MD594/MD594_down32_annotationVolume/MD594_down32_annotationVolume_Sp5O_R.stl\" \"s3://mousebrainatlas-data/CSHL_meshes/MD594/MD594_down32_annotationVolume/MD594_down32_annotationVolume_Sp5O_R.stl\"\n",
      "SNR_L 46 119 164 297 42 128\n"
     ]
    },
    {
     "name": "stderr",
     "output_type": "stream",
     "text": [
      "marching cube: 0.12 seconds\n",
      "mesh_to_polydata: 0.04 seconds\n",
      "simplify 0 @ 29827: 0.25 seconds\n",
      "simplify 1 @ 5967: 0.25 seconds\n",
      "simplify 2 @ 1195: 0.05 seconds\n",
      "time: 0.72\n"
     ]
    },
    {
     "name": "stdout",
     "output_type": "stream",
     "text": [
      "aws s3 cp \"/home/yuncong/CSHL_meshes/MD594/MD594_down32_annotationVolume/MD594_down32_annotationVolume_SNR_L.stl\" \"s3://mousebrainatlas-data/CSHL_meshes/MD594/MD594_down32_annotationVolume/MD594_down32_annotationVolume_SNR_L.stl\"\n",
      "12N 307 395 198 236 160 213\n"
     ]
    },
    {
     "name": "stderr",
     "output_type": "stream",
     "text": [
      "marching cube: 0.03 seconds\n",
      "mesh_to_polydata: 0.02 seconds\n",
      "simplify 0 @ 12232: 0.11 seconds\n",
      "simplify 1 @ 2448: 0.10 seconds\n",
      "simplify 2 @ 491: 0.03 seconds\n",
      "time: 0.29\n"
     ]
    },
    {
     "name": "stdout",
     "output_type": "stream",
     "text": [
      "aws s3 cp \"/home/yuncong/CSHL_meshes/MD594/MD594_down32_annotationVolume/MD594_down32_annotationVolume_12N.stl\" \"s3://mousebrainatlas-data/CSHL_meshes/MD594/MD594_down32_annotationVolume/MD594_down32_annotationVolume_12N.stl\"\n",
      "SNR_R 24 97 160 293 220 300\n"
     ]
    },
    {
     "name": "stderr",
     "output_type": "stream",
     "text": [
      "marching cube: 0.13 seconds\n",
      "mesh_to_polydata: 0.04 seconds\n"
     ]
    },
    {
     "name": "stdout",
     "output_type": "stream",
     "text": [
      "aws s3 cp \"/home/yuncong/CSHL_meshes/MD594/MD594_down32_annotationVolume/MD594_down32_annotationVolume_SNR_R.stl\" \"s3://mousebrainatlas-data/CSHL_meshes/MD594/MD594_down32_annotationVolume/MD594_down32_annotationVolume_SNR_R.stl\"\n",
      "Sp5O_L 215 339 185 255 43 56\n"
     ]
    },
    {
     "name": "stderr",
     "output_type": "stream",
     "text": [
      "simplify 0 @ 28890: 0.29 seconds\n",
      "simplify 1 @ 5779: 0.32 seconds\n",
      "simplify 2 @ 1157: 0.06 seconds\n",
      "time: 0.84\n",
      "marching cube: 0.03 seconds\n",
      "mesh_to_polydata: 0.01 seconds\n"
     ]
    },
    {
     "name": "stdout",
     "output_type": "stream",
     "text": [
      "aws s3 cp \"/home/yuncong/CSHL_meshes/MD594/MD594_down32_annotationVolume/MD594_down32_annotationVolume_Sp5O_L.stl\" \"s3://mousebrainatlas-data/CSHL_meshes/MD594/MD594_down32_annotationVolume/MD594_down32_annotationVolume_Sp5O_L.stl\"\n",
      "RMC_L 65 102 181 228 122 158\n",
      "aws s3 cp \"/home/yuncong/CSHL_meshes/MD594/MD594_down32_annotationVolume/MD594_down32_annotationVolume_RMC_L.stl\" \"s3://mousebrainatlas-data/CSHL_meshes/MD594/MD594_down32_annotationVolume/MD594_down32_annotationVolume_RMC_L.stl\"\n"
     ]
    },
    {
     "name": "stderr",
     "output_type": "stream",
     "text": [
      "simplify 0 @ 4464: 0.17 seconds\n",
      "simplify 1 @ 894: 0.04 seconds\n",
      "simplify 2 @ 180: 0.01 seconds\n",
      "time: 0.27\n",
      "marching cube: 0.02 seconds\n",
      "mesh_to_polydata: 0.01 seconds\n",
      "simplify 0 @ 5553: 0.06 seconds\n",
      "simplify 1 @ 1112: 0.04 seconds\n",
      "simplify 2 @ 224: 0.01 seconds\n",
      "time: 0.14\n"
     ]
    },
    {
     "name": "stdout",
     "output_type": "stream",
     "text": [
      "DC_R 194 270 139 179 285 355\n"
     ]
    },
    {
     "name": "stderr",
     "output_type": "stream",
     "text": [
      "marching cube: 0.09 seconds\n",
      "mesh_to_polydata: 0.03 seconds\n",
      "simplify 0 @ 11008: 0.23 seconds\n",
      "simplify 1 @ 2204: 0.19 seconds\n",
      "simplify 2 @ 444: 0.04 seconds\n",
      "time: 0.60\n"
     ]
    },
    {
     "name": "stdout",
     "output_type": "stream",
     "text": [
      "aws s3 cp \"/home/yuncong/CSHL_meshes/MD594/MD594_down32_annotationVolume/MD594_down32_annotationVolume_DC_R.stl\" \"s3://mousebrainatlas-data/CSHL_meshes/MD594/MD594_down32_annotationVolume/MD594_down32_annotationVolume_DC_R.stl\"\n",
      "VCA_L 172 253 167 242 0 41\n"
     ]
    },
    {
     "name": "stderr",
     "output_type": "stream",
     "text": [
      "marching cube: 0.10 seconds\n",
      "mesh_to_polydata: 0.04 seconds\n"
     ]
    },
    {
     "name": "stdout",
     "output_type": "stream",
     "text": [
      "aws s3 cp \"/home/yuncong/CSHL_meshes/MD594/MD594_down32_annotationVolume/MD594_down32_annotationVolume_VCA_L.stl\" \"s3://mousebrainatlas-data/CSHL_meshes/MD594/MD594_down32_annotationVolume/MD594_down32_annotationVolume_VCA_L.stl\"\n",
      "3N_L 72 111 157 181 159 172\n",
      "aws s3 cp \"/home/yuncong/CSHL_meshes/MD594/MD594_down32_annotationVolume/MD594_down32_annotationVolume_3N_L.stl\" \"s3://mousebrainatlas-data/CSHL_meshes/MD594/MD594_down32_annotationVolume/MD594_down32_annotationVolume_3N_L.stl\"\n"
     ]
    },
    {
     "name": "stderr",
     "output_type": "stream",
     "text": [
      "simplify 0 @ 12330: 0.26 seconds\n",
      "simplify 1 @ 2467: 0.21 seconds\n",
      "simplify 2 @ 495: 0.05 seconds\n",
      "time: 0.67\n",
      "marching cube: 0.01 seconds\n",
      "mesh_to_polydata: 0.01 seconds\n",
      "simplify 0 @ 1854: 0.04 seconds\n",
      "simplify 1 @ 372: 0.03 seconds\n",
      "simplify 2 @ 76: 0.01 seconds\n",
      "time: 0.10\n"
     ]
    },
    {
     "name": "stdout",
     "output_type": "stream",
     "text": [
      "6N_R 213 228 208 220 198 215\n",
      "aws s3 cp \"/home/yuncong/CSHL_meshes/MD594/MD594_down32_annotationVolume/MD594_down32_annotationVolume_6N_R.stl\" \"s3://mousebrainatlas-data/CSHL_meshes/MD594/MD594_down32_annotationVolume/MD594_down32_annotationVolume_6N_R.stl\"\n"
     ]
    },
    {
     "name": "stderr",
     "output_type": "stream",
     "text": [
      "marching cube: 0.00 seconds\n",
      "mesh_to_polydata: 0.00 seconds\n",
      "simplify 0 @ 865: 0.01 seconds\n",
      "simplify 1 @ 174: 0.01 seconds\n",
      "time: 0.03\n"
     ]
    },
    {
     "name": "stdout",
     "output_type": "stream",
     "text": [
      "Sp5I_L 313 380 178 234 42 58\n"
     ]
    },
    {
     "name": "stderr",
     "output_type": "stream",
     "text": [
      "marching cube: 0.03 seconds\n",
      "mesh_to_polydata: 0.02 seconds\n",
      "simplify 0 @ 4072: 0.17 seconds\n",
      "simplify 1 @ 816: 0.05 seconds\n",
      "simplify 2 @ 164: 0.01 seconds\n",
      "time: 0.28\n"
     ]
    },
    {
     "name": "stdout",
     "output_type": "stream",
     "text": [
      "aws s3 cp \"/home/yuncong/CSHL_meshes/MD594/MD594_down32_annotationVolume/MD594_down32_annotationVolume_Sp5I_L.stl\" \"s3://mousebrainatlas-data/CSHL_meshes/MD594/MD594_down32_annotationVolume/MD594_down32_annotationVolume_Sp5I_L.stl\"\n",
      "RMC_R 50 97 188 233 190 224\n",
      "aws s3 cp \"/home/yuncong/CSHL_meshes/MD594/MD594_down32_annotationVolume/MD594_down32_annotationVolume_RMC_R.stl\" \"s3://mousebrainatlas-data/CSHL_meshes/MD594/MD594_down32_annotationVolume/MD594_down32_annotationVolume_RMC_R.stl\"\n"
     ]
    },
    {
     "name": "stderr",
     "output_type": "stream",
     "text": [
      "marching cube: 0.02 seconds\n",
      "mesh_to_polydata: 0.01 seconds\n",
      "simplify 0 @ 5435: 0.06 seconds\n",
      "simplify 1 @ 1088: 0.04 seconds\n",
      "simplify 2 @ 219: 0.01 seconds\n",
      "time: 0.14\n"
     ]
    },
    {
     "name": "stdout",
     "output_type": "stream",
     "text": [
      "5N_L 165 212 193 245 73 106\n",
      "aws s3 cp \"/home/yuncong/CSHL_meshes/MD594/MD594_down32_annotationVolume/MD594_down32_annotationVolume_5N_L.stl\" \"s3://mousebrainatlas-data/CSHL_meshes/MD594/MD594_down32_annotationVolume/MD594_down32_annotationVolume_5N_L.stl\"\n"
     ]
    },
    {
     "name": "stderr",
     "output_type": "stream",
     "text": [
      "marching cube: 0.02 seconds\n",
      "mesh_to_polydata: 0.01 seconds\n",
      "simplify 0 @ 7067: 0.08 seconds\n",
      "simplify 1 @ 1415: 0.06 seconds\n",
      "simplify 2 @ 284: 0.01 seconds\n",
      "time: 0.19\n"
     ]
    },
    {
     "name": "stdout",
     "output_type": "stream",
     "text": [
      "SNC_L 47 80 205 281 65 128\n"
     ]
    },
    {
     "name": "stderr",
     "output_type": "stream",
     "text": [
      "marching cube: 0.03 seconds\n",
      "mesh_to_polydata: 0.01 seconds\n",
      "simplify 0 @ 7554: 0.07 seconds\n",
      "simplify 1 @ 1512: 0.07 seconds\n",
      "simplify 2 @ 304: 0.01 seconds\n",
      "time: 0.19\n"
     ]
    },
    {
     "name": "stdout",
     "output_type": "stream",
     "text": [
      "aws s3 cp \"/home/yuncong/CSHL_meshes/MD594/MD594_down32_annotationVolume/MD594_down32_annotationVolume_SNC_L.stl\" \"s3://mousebrainatlas-data/CSHL_meshes/MD594/MD594_down32_annotationVolume/MD594_down32_annotationVolume_SNC_L.stl\"\n",
      "SNC_R 24 58 203 280 230 288\n",
      "aws s3 cp \"/home/yuncong/CSHL_meshes/MD594/MD594_down32_annotationVolume/MD594_down32_annotationVolume_SNC_R.stl\" \"s3://mousebrainatlas-data/CSHL_meshes/MD594/MD594_down32_annotationVolume/MD594_down32_annotationVolume_SNC_R.stl\"\n"
     ]
    },
    {
     "name": "stderr",
     "output_type": "stream",
     "text": [
      "marching cube: 0.03 seconds\n",
      "mesh_to_polydata: 0.01 seconds\n",
      "simplify 0 @ 7660: 0.05 seconds\n",
      "simplify 1 @ 1533: 0.06 seconds\n",
      "simplify 2 @ 308: 0.01 seconds\n",
      "time: 0.16\n"
     ]
    },
    {
     "name": "stdout",
     "output_type": "stream",
     "text": [
      "AP 323 368 181 199 172 198\n",
      "aws s3 cp \"/home/yuncong/CSHL_meshes/MD594/MD594_down32_annotationVolume/MD594_down32_annotationVolume_AP.stl\" \"s3://mousebrainatlas-data/CSHL_meshes/MD594/MD594_down32_annotationVolume/MD594_down32_annotationVolume_AP.stl\"\n"
     ]
    },
    {
     "name": "stderr",
     "output_type": "stream",
     "text": [
      "marching cube: 0.01 seconds\n",
      "mesh_to_polydata: 0.00 seconds\n",
      "simplify 0 @ 2638: 0.03 seconds\n",
      "simplify 1 @ 529: 0.02 seconds\n",
      "simplify 2 @ 107: 0.00 seconds\n",
      "time: 0.06\n"
     ]
    },
    {
     "name": "stdout",
     "output_type": "stream",
     "text": [
      "5N_R 155 198 194 245 253 283\n",
      "aws s3 cp \"/home/yuncong/CSHL_meshes/MD594/MD594_down32_annotationVolume/MD594_down32_annotationVolume_5N_R.stl\" \"s3://mousebrainatlas-data/CSHL_meshes/MD594/MD594_down32_annotationVolume/MD594_down32_annotationVolume_5N_R.stl\"\n"
     ]
    },
    {
     "name": "stderr",
     "output_type": "stream",
     "text": [
      "marching cube: 0.01 seconds\n",
      "mesh_to_polydata: 0.01 seconds\n",
      "simplify 0 @ 6150: 0.06 seconds\n",
      "simplify 1 @ 1231: 0.04 seconds\n",
      "simplify 2 @ 247: 0.01 seconds\n",
      "time: 0.14\n"
     ]
    },
    {
     "name": "stdout",
     "output_type": "stream",
     "text": [
      "Sp5I_R 305 369 166 246 300 330\n"
     ]
    },
    {
     "name": "stderr",
     "output_type": "stream",
     "text": [
      "marching cube: 0.03 seconds\n",
      "mesh_to_polydata: 0.02 seconds\n"
     ]
    },
    {
     "name": "stdout",
     "output_type": "stream",
     "text": [
      "aws s3 cp \"/home/yuncong/CSHL_meshes/MD594/MD594_down32_annotationVolume/MD594_down32_annotationVolume_Sp5I_R.stl\" \"s3://mousebrainatlas-data/CSHL_meshes/MD594/MD594_down32_annotationVolume/MD594_down32_annotationVolume_Sp5I_R.stl\"\n",
      "3N_R 71 108 156 183 177 191\n",
      "aws s3 cp \"/home/yuncong/CSHL_meshes/MD594/MD594_down32_annotationVolume/MD594_down32_annotationVolume_3N_R.stl\" \"s3://mousebrainatlas-data/CSHL_meshes/MD594/MD594_down32_annotationVolume/MD594_down32_annotationVolume_3N_R.stl\"\n"
     ]
    },
    {
     "name": "stderr",
     "output_type": "stream",
     "text": [
      "simplify 0 @ 9229: 0.13 seconds\n",
      "simplify 1 @ 1847: 0.07 seconds\n",
      "simplify 2 @ 371: 0.02 seconds\n",
      "time: 0.27\n",
      "marching cube: 0.00 seconds\n",
      "mesh_to_polydata: 0.00 seconds\n",
      "simplify 0 @ 2118: 0.02 seconds\n",
      "simplify 1 @ 425: 0.01 seconds\n",
      "simplify 2 @ 86: 0.00 seconds\n",
      "time: 0.05\n"
     ]
    },
    {
     "name": "stdout",
     "output_type": "stream",
     "text": [
      "6N_L 214 227 201 216 153 171\n",
      "aws s3 cp \"/home/yuncong/CSHL_meshes/MD594/MD594_down32_annotationVolume/MD594_down32_annotationVolume_6N_L.stl\" \"s3://mousebrainatlas-data/CSHL_meshes/MD594/MD594_down32_annotationVolume/MD594_down32_annotationVolume_6N_L.stl\"\n"
     ]
    },
    {
     "name": "stderr",
     "output_type": "stream",
     "text": [
      "marching cube: 0.00 seconds\n",
      "mesh_to_polydata: 0.00 seconds\n",
      "simplify 0 @ 870: 0.01 seconds\n",
      "simplify 1 @ 175: 0.01 seconds\n",
      "time: 0.02\n"
     ]
    },
    {
     "name": "stdout",
     "output_type": "stream",
     "text": [
      "IC 102 191 0 120 76 259\n"
     ]
    },
    {
     "name": "stderr",
     "output_type": "stream",
     "text": [
      "marching cube: 0.27 seconds\n",
      "mesh_to_polydata: 0.09 seconds\n",
      "simplify 0 @ 66036: 0.91 seconds\n",
      "simplify 1 @ 13208: 0.74 seconds\n",
      "simplify 2 @ 2643: 0.15 seconds\n",
      "time: 2.18\n"
     ]
    },
    {
     "name": "stdout",
     "output_type": "stream",
     "text": [
      "aws s3 cp \"/home/yuncong/CSHL_meshes/MD594/MD594_down32_annotationVolume/MD594_down32_annotationVolume_IC.stl\" \"s3://mousebrainatlas-data/CSHL_meshes/MD594/MD594_down32_annotationVolume/MD594_down32_annotationVolume_IC.stl\"\n",
      "VCA_R 158 235 169 230 318 365\n"
     ]
    },
    {
     "name": "stderr",
     "output_type": "stream",
     "text": [
      "marching cube: 0.04 seconds\n",
      "mesh_to_polydata: 0.02 seconds\n",
      "simplify 0 @ 12210: 0.11 seconds\n"
     ]
    },
    {
     "name": "stdout",
     "output_type": "stream",
     "text": [
      "aws s3 cp \"/home/yuncong/CSHL_meshes/MD594/MD594_down32_annotationVolume/MD594_down32_annotationVolume_VCA_R.stl\" \"s3://mousebrainatlas-data/CSHL_meshes/MD594/MD594_down32_annotationVolume/MD594_down32_annotationVolume_VCA_R.stl\"\n",
      "DC_L 223 287 145 193 15 83\n"
     ]
    },
    {
     "name": "stderr",
     "output_type": "stream",
     "text": [
      "simplify 1 @ 2443: 0.10 seconds\n",
      "simplify 2 @ 490: 0.02 seconds\n",
      "time: 0.30\n",
      "marching cube: 0.03 seconds\n",
      "mesh_to_polydata: 0.01 seconds\n",
      "simplify 0 @ 11455: 0.09 seconds\n",
      "simplify 1 @ 2292: 0.09 seconds\n"
     ]
    },
    {
     "name": "stdout",
     "output_type": "stream",
     "text": [
      "aws s3 cp \"/home/yuncong/CSHL_meshes/MD594/MD594_down32_annotationVolume/MD594_down32_annotationVolume_DC_L.stl\" \"s3://mousebrainatlas-data/CSHL_meshes/MD594/MD594_down32_annotationVolume/MD594_down32_annotationVolume_DC_L.stl\"\n",
      "Amb_R 286 317 251 265 262 269\n",
      "aws s3 cp \"/home/yuncong/CSHL_meshes/MD594/MD594_down32_annotationVolume/MD594_down32_annotationVolume_Amb_R.stl\" \"s3://mousebrainatlas-data/CSHL_meshes/MD594/MD594_down32_annotationVolume/MD594_down32_annotationVolume_Amb_R.stl\"\n"
     ]
    },
    {
     "name": "stderr",
     "output_type": "stream",
     "text": [
      "simplify 2 @ 460: 0.02 seconds\n",
      "time: 0.25\n",
      "marching cube: 0.00 seconds\n",
      "mesh_to_polydata: 0.00 seconds\n",
      "simplify 0 @ 713: 0.01 seconds\n",
      "simplify 1 @ 144: 0.00 seconds\n",
      "time: 0.02\n"
     ]
    },
    {
     "name": "stdout",
     "output_type": "stream",
     "text": [
      "VCP_R 218 263 157 231 322 359\n",
      "aws s3 cp \"/home/yuncong/CSHL_meshes/MD594/MD594_down32_annotationVolume/MD594_down32_annotationVolume_VCP_R.stl\" \"s3://mousebrainatlas-data/CSHL_meshes/MD594/MD594_down32_annotationVolume/MD594_down32_annotationVolume_VCP_R.stl\"\n"
     ]
    },
    {
     "name": "stderr",
     "output_type": "stream",
     "text": [
      "marching cube: 0.02 seconds\n",
      "mesh_to_polydata: 0.01 seconds\n",
      "simplify 0 @ 6625: 0.07 seconds\n",
      "simplify 1 @ 1316: 0.04 seconds\n",
      "simplify 2 @ 260: 0.01 seconds\n",
      "time: 0.15\n"
     ]
    },
    {
     "name": "stdout",
     "output_type": "stream",
     "text": [
      "LC_R 163 216 155 193 225 242\n",
      "aws s3 cp \"/home/yuncong/CSHL_meshes/MD594/MD594_down32_annotationVolume/MD594_down32_annotationVolume_LC_R.stl\" \"s3://mousebrainatlas-data/CSHL_meshes/MD594/MD594_down32_annotationVolume/MD594_down32_annotationVolume_LC_R.stl\"\n"
     ]
    },
    {
     "name": "stderr",
     "output_type": "stream",
     "text": [
      "marching cube: 0.01 seconds\n",
      "mesh_to_polydata: 0.00 seconds\n",
      "simplify 0 @ 3525: 0.03 seconds\n",
      "simplify 1 @ 706: 0.02 seconds\n",
      "simplify 2 @ 142: 0.01 seconds\n",
      "time: 0.07\n"
     ]
    },
    {
     "name": "stdout",
     "output_type": "stream",
     "text": [
      "10N_R 314 381 193 219 197 219\n",
      "aws s3 cp \"/home/yuncong/CSHL_meshes/MD594/MD594_down32_annotationVolume/MD594_down32_annotationVolume_10N_R.stl\" \"s3://mousebrainatlas-data/CSHL_meshes/MD594/MD594_down32_annotationVolume/MD594_down32_annotationVolume_10N_R.stl\"\n"
     ]
    },
    {
     "name": "stderr",
     "output_type": "stream",
     "text": [
      "marching cube: 0.01 seconds\n",
      "mesh_to_polydata: 0.00 seconds\n",
      "simplify 0 @ 2708: 0.03 seconds\n",
      "simplify 1 @ 543: 0.02 seconds\n",
      "simplify 2 @ 110: 0.00 seconds\n",
      "time: 0.06\n"
     ]
    },
    {
     "name": "stdout",
     "output_type": "stream",
     "text": [
      "7n_R 182 239 198 277 208 292\n"
     ]
    },
    {
     "name": "stderr",
     "output_type": "stream",
     "text": [
      "marching cube: 0.05 seconds\n",
      "mesh_to_polydata: 0.01 seconds\n",
      "simplify 0 @ 8621: 0.07 seconds\n",
      "simplify 1 @ 1725: 0.06 seconds\n",
      "simplify 2 @ 346: 0.01 seconds\n",
      "time: 0.21\n"
     ]
    },
    {
     "name": "stdout",
     "output_type": "stream",
     "text": [
      "aws s3 cp \"/home/yuncong/CSHL_meshes/MD594/MD594_down32_annotationVolume/MD594_down32_annotationVolume_7n_R.stl\" \"s3://mousebrainatlas-data/CSHL_meshes/MD594/MD594_down32_annotationVolume/MD594_down32_annotationVolume_7n_R.stl\"\n",
      "4N_R 111 123 156 171 187 194\n",
      "aws s3 cp \"/home/yuncong/CSHL_meshes/MD594/MD594_down32_annotationVolume/MD594_down32_annotationVolume_4N_R.stl\" \"s3://mousebrainatlas-data/CSHL_meshes/MD594/MD594_down32_annotationVolume/MD594_down32_annotationVolume_4N_R.stl\"\n"
     ]
    },
    {
     "name": "stderr",
     "output_type": "stream",
     "text": [
      "marching cube: 0.00 seconds\n",
      "mesh_to_polydata: 0.00 seconds\n",
      "simplify 0 @ 352: 0.01 seconds\n",
      "simplify 1 @ 72: 0.00 seconds\n",
      "time: 0.01\n"
     ]
    },
    {
     "name": "stdout",
     "output_type": "stream",
     "text": [
      "Tz_L 158 217 289 309 130 158\n",
      "aws s3 cp \"/home/yuncong/CSHL_meshes/MD594/MD594_down32_annotationVolume/MD594_down32_annotationVolume_Tz_L.stl\" \"s3://mousebrainatlas-data/CSHL_meshes/MD594/MD594_down32_annotationVolume/MD594_down32_annotationVolume_Tz_L.stl\"\n"
     ]
    },
    {
     "name": "stderr",
     "output_type": "stream",
     "text": [
      "marching cube: 0.01 seconds\n",
      "mesh_to_polydata: 0.01 seconds\n",
      "simplify 0 @ 3644: 0.04 seconds\n",
      "simplify 1 @ 730: 0.02 seconds\n",
      "simplify 2 @ 147: 0.01 seconds\n",
      "time: 0.08\n"
     ]
    },
    {
     "name": "stdout",
     "output_type": "stream",
     "text": [
      "Tz_R 151 213 295 314 197 230\n",
      "aws s3 cp \"/home/yuncong/CSHL_meshes/MD594/MD594_down32_annotationVolume/MD594_down32_annotationVolume_Tz_R.stl\" \"s3://mousebrainatlas-data/CSHL_meshes/MD594/MD594_down32_annotationVolume/MD594_down32_annotationVolume_Tz_R.stl\"\n"
     ]
    },
    {
     "name": "stderr",
     "output_type": "stream",
     "text": [
      "marching cube: 0.01 seconds\n",
      "mesh_to_polydata: 0.01 seconds\n",
      "simplify 0 @ 4338: 0.05 seconds\n",
      "simplify 1 @ 869: 0.03 seconds\n",
      "simplify 2 @ 175: 0.01 seconds\n",
      "time: 0.10\n"
     ]
    },
    {
     "name": "stdout",
     "output_type": "stream",
     "text": [
      "7n_L 190 240 198 280 69 158\n"
     ]
    },
    {
     "name": "stderr",
     "output_type": "stream",
     "text": [
      "marching cube: 0.05 seconds\n",
      "mesh_to_polydata: 0.01 seconds\n",
      "simplify 0 @ 8979: 0.08 seconds\n",
      "simplify 1 @ 1797: 0.07 seconds\n",
      "simplify 2 @ 361: 0.01 seconds\n",
      "time: 0.22\n"
     ]
    },
    {
     "name": "stdout",
     "output_type": "stream",
     "text": [
      "aws s3 cp \"/home/yuncong/CSHL_meshes/MD594/MD594_down32_annotationVolume/MD594_down32_annotationVolume_7n_L.stl\" \"s3://mousebrainatlas-data/CSHL_meshes/MD594/MD594_down32_annotationVolume/MD594_down32_annotationVolume_7n_L.stl\"\n",
      "4N_L 113 124 155 170 156 166\n",
      "aws s3 cp \"/home/yuncong/CSHL_meshes/MD594/MD594_down32_annotationVolume/MD594_down32_annotationVolume_4N_L.stl\" \"s3://mousebrainatlas-data/CSHL_meshes/MD594/MD594_down32_annotationVolume/MD594_down32_annotationVolume_4N_L.stl\"\n"
     ]
    },
    {
     "name": "stderr",
     "output_type": "stream",
     "text": [
      "marching cube: 0.00 seconds\n",
      "mesh_to_polydata: 0.00 seconds\n",
      "simplify 0 @ 511: 0.01 seconds\n",
      "simplify 1 @ 103: 0.00 seconds\n",
      "time: 0.01\n"
     ]
    },
    {
     "name": "stdout",
     "output_type": "stream",
     "text": [
      "LC_L 165 217 151 191 117 133\n",
      "aws s3 cp \"/home/yuncong/CSHL_meshes/MD594/MD594_down32_annotationVolume/MD594_down32_annotationVolume_LC_L.stl\" \"s3://mousebrainatlas-data/CSHL_meshes/MD594/MD594_down32_annotationVolume/MD594_down32_annotationVolume_LC_L.stl\"\n"
     ]
    },
    {
     "name": "stderr",
     "output_type": "stream",
     "text": [
      "marching cube: 0.01 seconds\n",
      "mesh_to_polydata: 0.01 seconds\n",
      "simplify 0 @ 3598: 0.04 seconds\n",
      "simplify 1 @ 721: 0.02 seconds\n",
      "simplify 2 @ 145: 0.01 seconds\n",
      "time: 0.08\n"
     ]
    },
    {
     "name": "stdout",
     "output_type": "stream",
     "text": [
      "10N_L 314 387 192 224 158 178\n",
      "aws s3 cp \"/home/yuncong/CSHL_meshes/MD594/MD594_down32_annotationVolume/MD594_down32_annotationVolume_10N_L.stl\" \"s3://mousebrainatlas-data/CSHL_meshes/MD594/MD594_down32_annotationVolume/MD594_down32_annotationVolume_10N_L.stl\"\n"
     ]
    },
    {
     "name": "stderr",
     "output_type": "stream",
     "text": [
      "marching cube: 0.01 seconds\n",
      "mesh_to_polydata: 0.00 seconds\n",
      "simplify 0 @ 3280: 0.03 seconds\n",
      "simplify 1 @ 657: 0.02 seconds\n",
      "simplify 2 @ 133: 0.01 seconds\n",
      "time: 0.07\n"
     ]
    },
    {
     "name": "stdout",
     "output_type": "stream",
     "text": [
      "SC 1 148 21 175 58 292\n"
     ]
    },
    {
     "name": "stderr",
     "output_type": "stream",
     "text": [
      "marching cube: 0.68 seconds\n",
      "mesh_to_polydata: 0.15 seconds\n",
      "simplify 0 @ 125499: 1.13 seconds\n",
      "simplify 1 @ 25101: 1.41 seconds\n",
      "simplify 2 @ 5021: 0.29 seconds\n",
      "time: 3.68\n"
     ]
    },
    {
     "name": "stdout",
     "output_type": "stream",
     "text": [
      "aws s3 cp \"/home/yuncong/CSHL_meshes/MD594/MD594_down32_annotationVolume/MD594_down32_annotationVolume_SC.stl\" \"s3://mousebrainatlas-data/CSHL_meshes/MD594/MD594_down32_annotationVolume/MD594_down32_annotationVolume_SC.stl\"\n",
      "VCP_L 231 282 157 244 15 46\n",
      "aws s3 cp \"/home/yuncong/CSHL_meshes/MD594/MD594_down32_annotationVolume/MD594_down32_annotationVolume_VCP_L.stl\" \"s3://mousebrainatlas-data/CSHL_meshes/MD594/MD594_down32_annotationVolume/MD594_down32_annotationVolume_VCP_L.stl\"\n"
     ]
    },
    {
     "name": "stderr",
     "output_type": "stream",
     "text": [
      "marching cube: 0.02 seconds\n",
      "mesh_to_polydata: 0.01 seconds\n",
      "simplify 0 @ 6754: 0.08 seconds\n",
      "simplify 1 @ 1352: 0.05 seconds\n",
      "simplify 2 @ 272: 0.01 seconds\n",
      "time: 0.17\n"
     ]
    },
    {
     "name": "stdout",
     "output_type": "stream",
     "text": [
      "Amb_L 293 327 243 255 99 106\n",
      "aws s3 cp \"/home/yuncong/CSHL_meshes/MD594/MD594_down32_annotationVolume/MD594_down32_annotationVolume_Amb_L.stl\" \"s3://mousebrainatlas-data/CSHL_meshes/MD594/MD594_down32_annotationVolume/MD594_down32_annotationVolume_Amb_L.stl\"\n"
     ]
    },
    {
     "name": "stderr",
     "output_type": "stream",
     "text": [
      "marching cube: 0.00 seconds\n",
      "mesh_to_polydata: 0.00 seconds\n",
      "simplify 0 @ 613: 0.01 seconds\n",
      "simplify 1 @ 124: 0.00 seconds\n",
      "time: 0.02\n"
     ]
    }
   ],
   "source": [
    "meshes = {}\n",
    "\n",
    "for name_s, label in name_to_label.iteritems():\n",
    "    \n",
    "    xmin, xmax, ymin, ymax, zmin, zmax = bbox_3d(volume == label) \n",
    "    print name_s, xmin, xmax, ymin, ymax, zmin, zmax\n",
    "    \n",
    "    vol = (volume[ymin:ymax+1, xmin:xmax+1, zmin:zmax+1] == label).astype(np.float)\n",
    "\n",
    "    t = time.time()\n",
    "    mesh = volume_to_polydata(vol, origin=(ann_xmin+xmin, ann_ymin+ymin, ann_zmin+zmin), \n",
    "                                  num_simplify_iter=3, smooth=True)\n",
    "\n",
    "    sys.stderr.write('time: %.2f\\n' % (time.time() - t) ) # ~ 150s for outerContour; 93s for sp5\n",
    "    \n",
    "    meshes[name_s] = mesh\n",
    "    \n",
    "    fp = DataManager.get_mesh_filepath(stack_m=stack, vol_type_m='annotation', structure=name_s)\n",
    "    create_parent_dir_if_not_exists(fp)\n",
    "    save_mesh_stl(mesh, fp)\n",
    "    upload_to_s3(fp)"
   ]
  },
  {
   "cell_type": "markdown",
   "metadata": {
    "collapsed": true
   },
   "source": [
    "# Load "
   ]
  },
  {
   "cell_type": "code",
   "execution_count": 10,
   "metadata": {
    "collapsed": true
   },
   "outputs": [],
   "source": [
    "meshes_rel2uncropped = DataManager.load_meshes(stack_m='MD589', vol_type_m='annotation', sided=True)"
   ]
  },
  {
   "cell_type": "code",
   "execution_count": 18,
   "metadata": {
    "collapsed": true
   },
   "outputs": [],
   "source": [
    "mesh_actors_rel2uncropped = [actor_mesh(mesh_rel2uncropped, np.array(name_unsided_to_color[convert_to_original_name(name_s)])/255., \n",
    "                          wireframe=False, opacity=1.) \n",
    "               for name_s, mesh_rel2uncropped in meshes_rel2uncropped.iteritems()]"
   ]
  },
  {
   "cell_type": "code",
   "execution_count": 21,
   "metadata": {
    "collapsed": true
   },
   "outputs": [],
   "source": [
    "shell_polydata_rel2MD589uncropped = DataManager.load_shell_mesh(stack='MD589', downscale=32)\n",
    "shell_actor_rel2MD589uncropped = actor_mesh(shell_polydata_rel2MD589uncropped, (1,1,1), opacity=.1, wireframe=False)"
   ]
  },
  {
   "cell_type": "code",
   "execution_count": 22,
   "metadata": {
    "collapsed": true
   },
   "outputs": [],
   "source": [
    "launch_vtk(mesh_actors_rel2uncropped + [shell_actor_rel2MD589uncropped], init_angle='45')"
   ]
  },
  {
   "cell_type": "code",
   "execution_count": null,
   "metadata": {
    "collapsed": true
   },
   "outputs": [],
   "source": []
  },
  {
   "cell_type": "code",
   "execution_count": null,
   "metadata": {
    "collapsed": true
   },
   "outputs": [],
   "source": [
    "fn = os.path.join(MESH_ROOTDIR, stack, \"%(stack)s_down32_outerContourVolume_smoothed.stl\" % {'stack': stack})\n",
    "outerContour_polydata = load_mesh_stl(fn, return_polydata_only=True)\n",
    "\n",
    "outerContour_actor = actor_mesh(outerContour_polydata, (1,1,1), opacity=.1, wireframe=False)"
   ]
  },
  {
   "cell_type": "code",
   "execution_count": null,
   "metadata": {
    "collapsed": true
   },
   "outputs": [],
   "source": [
    "launch_vtk(mesh_actors + [outerContour_actor], init_angle='30', background_color=(0,0,0))"
   ]
  },
  {
   "cell_type": "code",
   "execution_count": null,
   "metadata": {
    "collapsed": true
   },
   "outputs": [],
   "source": []
  },
  {
   "cell_type": "code",
   "execution_count": null,
   "metadata": {
    "collapsed": true
   },
   "outputs": [],
   "source": [
    "# Export to rgb PLY file (STL file can not have color info)\n",
    "# https://github.com/Kitware/VTK/blob/master/IO/PLY/Testing/Python/TestPLYReadWrite.py#L31\n",
    "# http://www.vtk.org/doc/nightly/html/classvtkPLYWriter.html#aa7f0bdbb2decdc7a7360a890a6c10e8b\n",
    "\n",
    "for name_s, polydata in polydata_list.iteritems():\n",
    "    fn = os.path.join(mesh_rootdir, stack, \"%(stack)s_down32_%(name)s_smoothed.ply\" % {'stack': stack, 'name':name_s})\n",
    "    save_mesh(polydata, fn, color=(colors[convert_name_to_unsided(name_s)]*255).astype(np.int))"
   ]
  }
 ],
 "metadata": {
  "kernelspec": {
   "display_name": "Python 2",
   "language": "python",
   "name": "python2"
  },
  "language_info": {
   "codemirror_mode": {
    "name": "ipython",
    "version": 2
   },
   "file_extension": ".py",
   "mimetype": "text/x-python",
   "name": "python",
   "nbconvert_exporter": "python",
   "pygments_lexer": "ipython2",
   "version": "2.7.12"
  }
 },
 "nbformat": 4,
 "nbformat_minor": 1
}
