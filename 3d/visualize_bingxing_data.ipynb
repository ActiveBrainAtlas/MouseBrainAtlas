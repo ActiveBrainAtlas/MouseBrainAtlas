{
 "cells": [
  {
   "cell_type": "code",
   "execution_count": 1,
   "metadata": {},
   "outputs": [
    {
     "name": "stdout",
     "output_type": "stream",
     "text": [
      "Setting environment for Local Macbook Pro\n"
     ]
    }
   ],
   "source": [
    "%reload_ext autoreload\n",
    "%autoreload 2\n",
    "\n",
    "import numpy as np\n",
    "import bloscpack as bp\n",
    "\n",
    "import sys\n",
    "import os\n",
    "sys.path.append(os.path.join(os.environ['REPO_DIR'], 'utilities'))\n",
    "from utilities2015 import *\n",
    "from annotation_utilities import *\n",
    "from registration_utilities import *\n",
    "from vis3d_utilities import *\n",
    "from metadata import *\n",
    "from data_manager import *\n",
    "\n",
    "import time\n",
    "\n",
    "import matplotlib.pyplot as plt\n",
    "%matplotlib inline"
   ]
  },
  {
   "cell_type": "code",
   "execution_count": 2,
   "metadata": {
    "collapsed": true
   },
   "outputs": [],
   "source": [
    "all_structures = [u'ExMC_L',\n",
    " u'MPul_L',\n",
    " u'LPul_L',\n",
    " u'IPul_L',\n",
    " u'InMC_L',\n",
    " u'ExPC_L',\n",
    " u'IPulCM_L',\n",
    " u'IPulM_L',\n",
    " u'InPC_L',\n",
    " u'IPulP_L',\n",
    " u'DLG_L',\n",
    " u'IPulCL_L',\n",
    " u'APul_L']"
   ]
  },
  {
   "cell_type": "code",
   "execution_count": 15,
   "metadata": {
    "collapsed": true
   },
   "outputs": [],
   "source": [
    "structure_to_color = dict(zip(all_structures, np.array(random_colors(len(all_structures)))/255.))"
   ]
  },
  {
   "cell_type": "code",
   "execution_count": 100,
   "metadata": {
    "collapsed": true
   },
   "outputs": [],
   "source": [
    "stack = 'm919LGN'"
   ]
  },
  {
   "cell_type": "code",
   "execution_count": 101,
   "metadata": {
    "collapsed": true
   },
   "outputs": [],
   "source": [
    "stack_spec = dict(name=stack, vol_type='annotationAsScore', resolution='10.0um')"
   ]
  },
  {
   "cell_type": "code",
   "execution_count": 102,
   "metadata": {},
   "outputs": [
    {
     "name": "stderr",
     "output_type": "stream",
     "text": [
      "Prior structure/index map not found. Generating a new one.\n"
     ]
    }
   ],
   "source": [
    "structures = DataManager.load_original_volume_all_known_structures_v3(stack_spec=stack_spec, in_bbox_wrt='wholebrain', structures=all_structures)"
   ]
  },
  {
   "cell_type": "code",
   "execution_count": 94,
   "metadata": {
    "scrolled": true
   },
   "outputs": [
    {
     "name": "stderr",
     "output_type": "stream",
     "text": [
      "marching cube: 0.31 seconds\n",
      "mesh_to_polydata: 0.10 seconds\n",
      "marching cube: 1.48 seconds\n",
      "mesh_to_polydata: 0.25 seconds\n",
      "marching cube: 2.18 seconds\n",
      "mesh_to_polydata: 0.33 seconds\n",
      "marching cube: 0.47 seconds\n",
      "mesh_to_polydata: 0.07 seconds\n",
      "marching cube: 0.40 seconds\n",
      "mesh_to_polydata: 0.16 seconds\n",
      "marching cube: 1.96 seconds\n",
      "mesh_to_polydata: 0.55 seconds\n",
      "marching cube: 0.67 seconds\n",
      "mesh_to_polydata: 0.18 seconds\n",
      "marching cube: 0.41 seconds\n",
      "mesh_to_polydata: 0.12 seconds\n",
      "marching cube: 0.85 seconds\n",
      "mesh_to_polydata: 0.27 seconds\n",
      "marching cube: 0.09 seconds\n",
      "mesh_to_polydata: 0.03 seconds\n",
      "marching cube: 1.99 seconds\n",
      "mesh_to_polydata: 0.32 seconds\n",
      "marching cube: 0.22 seconds\n",
      "mesh_to_polydata: 0.08 seconds\n",
      "marching cube: 0.28 seconds\n",
      "mesh_to_polydata: 0.10 seconds\n"
     ]
    }
   ],
   "source": [
    "polydata_all_structures = {name: volume_to_polydata(structures[name], num_simplify_iter=0, smooth=False)\n",
    "for name in all_structures}"
   ]
  },
  {
   "cell_type": "code",
   "execution_count": 79,
   "metadata": {
    "collapsed": true
   },
   "outputs": [],
   "source": [
    "for name in all_structures:\n",
    "    output_fp = os.path.join('/home/yuncong/LGN3Datlas/meshes/', stack, name + '.stl')\n",
    "    create_parent_dir_if_not_exists(output_fp)\n",
    "    save_mesh_stl(polydata_all_structures[name], output_fp)"
   ]
  },
  {
   "cell_type": "code",
   "execution_count": 103,
   "metadata": {
    "collapsed": true
   },
   "outputs": [],
   "source": [
    "c = np.mean([get_centroid_3d(v) + o for name, (v, o) in structures.iteritems()], axis=0)"
   ]
  },
  {
   "cell_type": "code",
   "execution_count": 104,
   "metadata": {},
   "outputs": [
    {
     "name": "stderr",
     "output_type": "stream",
     "text": [
      "marching cube: 0.47 seconds\n",
      "mesh_to_polydata: 0.08 seconds\n",
      "marching cube: 1.77 seconds\n",
      "mesh_to_polydata: 0.30 seconds\n",
      "marching cube: 2.23 seconds\n",
      "mesh_to_polydata: 0.47 seconds\n",
      "marching cube: 1.62 seconds\n",
      "mesh_to_polydata: 0.40 seconds\n",
      "marching cube: 1.02 seconds\n",
      "mesh_to_polydata: 0.22 seconds\n",
      "marching cube: 1.59 seconds\n",
      "mesh_to_polydata: 0.34 seconds\n",
      "marching cube: 0.44 seconds\n",
      "mesh_to_polydata: 0.11 seconds\n",
      "marching cube: 0.34 seconds\n",
      "mesh_to_polydata: 0.08 seconds\n",
      "marching cube: 0.88 seconds\n",
      "mesh_to_polydata: 0.25 seconds\n",
      "marching cube: 0.09 seconds\n",
      "mesh_to_polydata: 0.03 seconds\n",
      "marching cube: 2.09 seconds\n",
      "mesh_to_polydata: 0.43 seconds\n",
      "marching cube: 0.29 seconds\n",
      "mesh_to_polydata: 0.06 seconds\n",
      "marching cube: 0.07 seconds\n",
      "mesh_to_polydata: 0.03 seconds\n"
     ]
    }
   ],
   "source": [
    "polydata_centered_all_structures = {name: volume_to_polydata((structures[name][0], structures[name][1]-c), num_simplify_iter=0, smooth=False)\n",
    "for name in all_structures}"
   ]
  },
  {
   "cell_type": "code",
   "execution_count": 105,
   "metadata": {
    "collapsed": true,
    "scrolled": true
   },
   "outputs": [],
   "source": [
    "actors_all_structures = {name: actor_mesh(polydata_centered_all_structures[name], \n",
    "                                          color=structure_to_color[name], opacity=0.3)\n",
    "                         for name in all_structures}\n",
    "#                          for name in ['LPul_L']}"
   ]
  },
  {
   "cell_type": "code",
   "execution_count": 106,
   "metadata": {
    "collapsed": true
   },
   "outputs": [],
   "source": [
    "movie_fp = os.path.join('/home/yuncong/LGN3Datlas/animation/', stack + '.avi')\n",
    "create_parent_dir_if_not_exists(movie_fp)"
   ]
  },
  {
   "cell_type": "code",
   "execution_count": 107,
   "metadata": {},
   "outputs": [
    {
     "name": "stdout",
     "output_type": "stream",
     "text": [
      "rm /tmp/brain_video/*\n",
      "0\n",
      "/home/yuncong/ffmpeg-3.4.1-64bit-static/ffmpeg -framerate 10 -pattern_type glob -i \"/tmp/brain_video/*.png\" -c:v libx264 -vf \"scale=-1:1080,format=yuv420p\" /home/yuncong/LGN3Datlas/animation/m919LGN.avi\n",
      "0\n"
     ]
    }
   ],
   "source": [
    "launch_vtk(actors_all_structures.values(), \n",
    "           view_up=(0.000000, -1.000000, 0.000000),\n",
    "           focal=(0.000000, 0.000000, 1.000000),\n",
    "            position=(376.799316, 0.000000, -807.048740),\n",
    "           animate=True, \n",
    "           movie_fp=movie_fp)"
   ]
  },
  {
   "cell_type": "code",
   "execution_count": 68,
   "metadata": {
    "scrolled": true
   },
   "outputs": [
    {
     "name": "stderr",
     "output_type": "stream",
     "text": [
      "marching cube: 1.14 seconds\n",
      "mesh_to_polydata: 0.29 seconds\n"
     ]
    }
   ],
   "source": [
    "launch_vtk([actor_mesh(volume_to_polydata(structures['DLG_L'], num_simplify_iter=0, smooth=False))])"
   ]
  },
  {
   "cell_type": "markdown",
   "metadata": {},
   "source": [
    "# Export all visualizations"
   ]
  },
  {
   "cell_type": "code",
   "execution_count": null,
   "metadata": {
    "collapsed": true
   },
   "outputs": [],
   "source": [
    "for stack in ['LM30new']:\n",
    "# for stack in experiments.keys():\n",
    "    \n",
    "#     for view in ['coronal', 'horizontal_topDown', 'sagittal', '45']:\n",
    "    for view in ['sagittal']:\n",
    "\n",
    "        snapshot_fp = '/home/yuncong/Dropbox/BrainProjectFiguresByTopic/ProjectionLabeling/lauren_data_v2/%(view)s/%(stack)s_%(view)s.png' % {'stack':stack, 'view':view}\n",
    "        create_parent_dir_if_not_exists(snapshot_fp)\n",
    "\n",
    "        launch_vtk(\n",
    "            atlas_structure_actors_down32.values() + \\\n",
    "#             markers_rel2atlas_actors[stack] + \\\n",
    "            [shell_actor_down32_wrt_canonicalAtlasSpace],\n",
    "            background_color=(1,1,1), \n",
    "            axes_label_color=(0,0,0), \n",
    "            init_angle=view,\n",
    "#                         interactive=False,\n",
    "#                 snapshot_fn=snapshot_fp,\n",
    "#             snapshot_magnification=2,\n",
    "            view_up=(-0.012255, -0.999613, 0.024961),\n",
    "            focal=(-165.374790, -21.539714, 3.094653),\n",
    "            position= (-187.619574, -80.180217, -2356.163135),\n",
    "        )\n",
    "    "
   ]
  },
  {
   "cell_type": "code",
   "execution_count": null,
   "metadata": {
    "collapsed": true
   },
   "outputs": [],
   "source": []
  }
 ],
 "metadata": {
  "kernelspec": {
   "display_name": "Python 2",
   "language": "python",
   "name": "python2"
  },
  "language_info": {
   "codemirror_mode": {
    "name": "ipython",
    "version": 2
   },
   "file_extension": ".py",
   "mimetype": "text/x-python",
   "name": "python",
   "nbconvert_exporter": "python",
   "pygments_lexer": "ipython2",
   "version": "2.7.12"
  }
 },
 "nbformat": 4,
 "nbformat_minor": 2
}
