{
 "cells": [
  {
   "cell_type": "code",
   "execution_count": 1,
   "metadata": {
    "collapsed": false
   },
   "outputs": [
    {
     "name": "stdout",
     "output_type": "stream",
     "text": [
      "Setting environment for Local Macbook Pro\n"
     ]
    }
   ],
   "source": [
    "%reload_ext autoreload\n",
    "%autoreload 2\n",
    "\n",
    "import numpy as np\n",
    "import bloscpack as bp\n",
    "\n",
    "import sys\n",
    "import os\n",
    "import time\n",
    "\n",
    "sys.path.append(os.path.join(os.environ['REPO_DIR'], 'utilities'))\n",
    "from utilities2015 import *\n",
    "from annotation_utilities import *\n",
    "from registration_utilities import *\n",
    "from metadata import *\n",
    "from data_manager import *\n",
    "\n",
    "import pandas as pd\n",
    "\n",
    "import matplotlib.pyplot as plt\n",
    "%matplotlib inline\n",
    "\n",
    "from vis3d_utilities import *"
   ]
  },
  {
   "cell_type": "code",
   "execution_count": 2,
   "metadata": {
    "collapsed": true
   },
   "outputs": [],
   "source": [
    "stack = 'MD603'"
   ]
  },
  {
   "cell_type": "code",
   "execution_count": 3,
   "metadata": {
    "collapsed": false
   },
   "outputs": [],
   "source": [
    "atlas_name = 'atlasV2'"
   ]
  },
  {
   "cell_type": "markdown",
   "metadata": {},
   "source": [
    "# Generate transformed atlas meshes"
   ]
  },
  {
   "cell_type": "code",
   "execution_count": 17,
   "metadata": {
    "collapsed": false,
    "scrolled": true
   },
   "outputs": [
    {
     "name": "stdout",
     "output_type": "stream",
     "text": [
      "Pn_R\n"
     ]
    },
    {
     "name": "stderr",
     "output_type": "stream",
     "text": [
      "marching cube: 15.77 seconds\n",
      "mesh_to_polydata: 0.03 seconds\n",
      "simplify 0 @ 15597: 0.22 seconds\n",
      "simplify 1 @ 3122: 0.21 seconds\n",
      "simplify 2 @ 625: 0.05 seconds\n",
      "time: 18.01\n"
     ]
    }
   ],
   "source": [
    "# Render globally transformed atlas structures\n",
    "\n",
    "# for structure in all_known_structures_sided:\n",
    "for structure in ['Pn_R']:\n",
    "\n",
    "    print structure\n",
    "    \n",
    "    try:\n",
    "    \n",
    "        global_transformed_volume = \\\n",
    "        DataManager.load_transformed_volume(stack_m=atlas_name, type_m='score', \n",
    "                                            stack_f=stack, type_f='score',\n",
    "                                            downscale=32, \n",
    "                                            classifier_setting_m=2,\n",
    "                                            classifier_setting_f=2,\n",
    "                                            warp_setting=1,\n",
    "                                            structure=structure)\n",
    "\n",
    "        t = time.time()\n",
    "        polydata = volume_to_polydata(global_transformed_volume, num_simplify_iter=3, smooth=True, level=0.5)\n",
    "        sys.stderr.write('time: %.2f\\n' % (time.time() - t))\n",
    "\n",
    "        mesh_fn = DataManager.get_transformed_volume_mesh_filepath(stack_m=atlas_name, type_m='score', \n",
    "                                                                   stack_f=stack, type_f='score', \n",
    "                                                                   downscale=32,\n",
    "                                                                   classifier_setting_m=2,classifier_setting_f=2,\n",
    "                                                                   warp_setting=1,\n",
    "                                                                   structure=structure)\n",
    "\n",
    "        save_mesh(polydata, mesh_fn)\n",
    "        \n",
    "    except Exception as e:\n",
    "        sys.stderr.write('%s\\n' % e)\n",
    "        sys.stderr.write('Error transforming volume %s.\\n' % structure)"
   ]
  },
  {
   "cell_type": "code",
   "execution_count": 28,
   "metadata": {
    "collapsed": false,
    "scrolled": true
   },
   "outputs": [
    {
     "name": "stdout",
     "output_type": "stream",
     "text": [
      "5N_L\n"
     ]
    },
    {
     "name": "stderr",
     "output_type": "stream",
     "text": [
      "marching cube: 15.02 seconds\n",
      "mesh_to_polydata: 0.02 seconds\n",
      "simplify 0 @ 7239: 0.10 seconds\n",
      "simplify 1 @ 1449: 0.09 seconds\n",
      "simplify 2 @ 291: 0.02 seconds\n",
      "time: 17.09\n"
     ]
    },
    {
     "name": "stdout",
     "output_type": "stream",
     "text": [
      "5N_R\n"
     ]
    },
    {
     "name": "stderr",
     "output_type": "stream",
     "text": [
      "marching cube: 17.10 seconds\n",
      "mesh_to_polydata: 0.01 seconds\n",
      "simplify 0 @ 6971: 0.06 seconds\n",
      "simplify 1 @ 1396: 0.05 seconds\n",
      "simplify 2 @ 280: 0.02 seconds\n",
      "time: 20.00\n"
     ]
    },
    {
     "name": "stdout",
     "output_type": "stream",
     "text": [
      "6N_L\n"
     ]
    },
    {
     "name": "stderr",
     "output_type": "stream",
     "text": [
      "marching cube: 16.47 seconds\n",
      "mesh_to_polydata: 0.00 seconds\n",
      "simplify 0 @ 644: 0.01 seconds\n",
      "time: 18.53\n"
     ]
    },
    {
     "name": "stdout",
     "output_type": "stream",
     "text": [
      "6N_R\n"
     ]
    },
    {
     "name": "stderr",
     "output_type": "stream",
     "text": [
      "marching cube: 17.03 seconds\n",
      "mesh_to_polydata: 0.00 seconds\n",
      "simplify 0 @ 773: 0.01 seconds\n",
      "time: 19.00\n"
     ]
    },
    {
     "name": "stdout",
     "output_type": "stream",
     "text": [
      "7N_L\n"
     ]
    },
    {
     "name": "stderr",
     "output_type": "stream",
     "text": [
      "marching cube: 15.26 seconds\n",
      "mesh_to_polydata: 0.01 seconds\n",
      "simplify 0 @ 12965: 0.08 seconds\n",
      "simplify 1 @ 2597: 0.09 seconds\n",
      "simplify 2 @ 520: 0.02 seconds\n",
      "time: 18.61\n"
     ]
    },
    {
     "name": "stdout",
     "output_type": "stream",
     "text": [
      "7N_R\n"
     ]
    },
    {
     "name": "stderr",
     "output_type": "stream",
     "text": [
      "marching cube: 16.37 seconds\n",
      "mesh_to_polydata: 0.02 seconds\n",
      "simplify 0 @ 12209: 0.11 seconds\n",
      "simplify 1 @ 2444: 0.12 seconds\n",
      "simplify 2 @ 490: 0.03 seconds\n",
      "time: 18.33\n"
     ]
    },
    {
     "name": "stdout",
     "output_type": "stream",
     "text": [
      "7n_L\n"
     ]
    },
    {
     "name": "stderr",
     "output_type": "stream",
     "text": [
      "marching cube: 17.68 seconds\n",
      "mesh_to_polydata: 0.01 seconds\n",
      "simplify 0 @ 9266: 0.06 seconds\n",
      "simplify 1 @ 1855: 0.06 seconds\n",
      "simplify 2 @ 372: 0.01 seconds\n",
      "time: 19.92\n"
     ]
    },
    {
     "name": "stdout",
     "output_type": "stream",
     "text": [
      "7n_R\n"
     ]
    },
    {
     "name": "stderr",
     "output_type": "stream",
     "text": [
      "marching cube: 12.62 seconds\n",
      "mesh_to_polydata: 0.01 seconds\n",
      "simplify 0 @ 8344: 0.06 seconds\n",
      "simplify 1 @ 1670: 0.06 seconds\n",
      "simplify 2 @ 335: 0.01 seconds\n",
      "time: 14.50\n"
     ]
    },
    {
     "name": "stdout",
     "output_type": "stream",
     "text": [
      "Amb_L\n"
     ]
    },
    {
     "name": "stderr",
     "output_type": "stream",
     "text": [
      "marching cube: 17.16 seconds\n",
      "mesh_to_polydata: 0.00 seconds\n",
      "simplify 0 @ 877: 0.01 seconds\n",
      "time: 20.39\n"
     ]
    },
    {
     "name": "stdout",
     "output_type": "stream",
     "text": [
      "Amb_R\n"
     ]
    },
    {
     "name": "stderr",
     "output_type": "stream",
     "text": [
      "marching cube: 14.52 seconds\n",
      "mesh_to_polydata: 0.00 seconds\n",
      "simplify 0 @ 777: 0.02 seconds\n",
      "time: 17.72\n"
     ]
    },
    {
     "name": "stdout",
     "output_type": "stream",
     "text": [
      "LC_L\n"
     ]
    },
    {
     "name": "stderr",
     "output_type": "stream",
     "text": [
      "marching cube: 16.41 seconds\n",
      "mesh_to_polydata: 0.00 seconds\n",
      "simplify 0 @ 3289: 0.03 seconds\n",
      "simplify 1 @ 659: 0.02 seconds\n",
      "time: 20.00\n"
     ]
    },
    {
     "name": "stdout",
     "output_type": "stream",
     "text": [
      "LC_R\n"
     ]
    },
    {
     "name": "stderr",
     "output_type": "stream",
     "text": [
      "marching cube: 18.40 seconds\n",
      "mesh_to_polydata: 0.01 seconds\n",
      "simplify 0 @ 3285: 0.04 seconds\n",
      "simplify 1 @ 658: 0.03 seconds\n",
      "time: 20.21\n"
     ]
    },
    {
     "name": "stdout",
     "output_type": "stream",
     "text": [
      "LRt_L\n"
     ]
    },
    {
     "name": "stderr",
     "output_type": "stream",
     "text": [
      "marching cube: 19.28 seconds\n",
      "mesh_to_polydata: 0.02 seconds\n",
      "simplify 0 @ 10925: 0.10 seconds\n",
      "simplify 1 @ 2186: 0.10 seconds\n",
      "simplify 2 @ 438: 0.02 seconds\n",
      "time: 21.58\n"
     ]
    },
    {
     "name": "stdout",
     "output_type": "stream",
     "text": [
      "LRt_R\n"
     ]
    },
    {
     "name": "stderr",
     "output_type": "stream",
     "text": [
      "marching cube: 16.88 seconds\n",
      "mesh_to_polydata: 0.01 seconds\n",
      "simplify 0 @ 11202: 0.09 seconds\n",
      "simplify 1 @ 2242: 0.11 seconds\n",
      "simplify 2 @ 450: 0.03 seconds\n",
      "time: 19.02\n"
     ]
    },
    {
     "name": "stdout",
     "output_type": "stream",
     "text": [
      "Pn_L\n"
     ]
    },
    {
     "name": "stderr",
     "output_type": "stream",
     "text": [
      "marching cube: 17.89 seconds\n",
      "mesh_to_polydata: 0.02 seconds\n",
      "simplify 0 @ 16837: 0.15 seconds\n",
      "simplify 1 @ 3370: 0.16 seconds\n",
      "simplify 2 @ 675: 0.04 seconds\n",
      "time: 20.92\n"
     ]
    },
    {
     "name": "stdout",
     "output_type": "stream",
     "text": [
      "Pn_R\n"
     ]
    },
    {
     "name": "stderr",
     "output_type": "stream",
     "text": [
      "marching cube: 16.85 seconds\n",
      "mesh_to_polydata: 0.02 seconds\n",
      "simplify 0 @ 17921: 0.13 seconds\n",
      "simplify 1 @ 3587: 0.16 seconds\n",
      "simplify 2 @ 718: 0.03 seconds\n",
      "time: 19.13\n"
     ]
    },
    {
     "name": "stdout",
     "output_type": "stream",
     "text": [
      "Tz_L\n"
     ]
    },
    {
     "name": "stderr",
     "output_type": "stream",
     "text": [
      "marching cube: 17.43 seconds\n",
      "mesh_to_polydata: 0.01 seconds\n",
      "simplify 0 @ 4853: 0.04 seconds\n",
      "simplify 1 @ 972: 0.04 seconds\n",
      "time: 20.69\n"
     ]
    },
    {
     "name": "stdout",
     "output_type": "stream",
     "text": [
      "Tz_R\n"
     ]
    },
    {
     "name": "stderr",
     "output_type": "stream",
     "text": [
      "marching cube: 17.68 seconds\n",
      "mesh_to_polydata: 0.01 seconds\n",
      "simplify 0 @ 4981: 0.04 seconds\n",
      "simplify 1 @ 997: 0.04 seconds\n",
      "simplify 2 @ 201: 0.01 seconds\n",
      "time: 19.74\n"
     ]
    },
    {
     "name": "stdout",
     "output_type": "stream",
     "text": [
      "VLL_L\n"
     ]
    },
    {
     "name": "stderr",
     "output_type": "stream",
     "text": [
      "marching cube: 17.25 seconds\n",
      "mesh_to_polydata: 0.02 seconds\n",
      "simplify 0 @ 10215: 0.11 seconds\n",
      "simplify 1 @ 2044: 0.09 seconds\n",
      "simplify 2 @ 410: 0.02 seconds\n",
      "time: 19.34\n"
     ]
    },
    {
     "name": "stdout",
     "output_type": "stream",
     "text": [
      "VLL_R\n"
     ]
    },
    {
     "name": "stderr",
     "output_type": "stream",
     "text": [
      "marching cube: 17.39 seconds\n",
      "mesh_to_polydata: 0.02 seconds\n",
      "simplify 0 @ 11060: 0.10 seconds\n",
      "simplify 1 @ 2214: 0.11 seconds\n",
      "simplify 2 @ 444: 0.03 seconds\n",
      "time: 19.39\n"
     ]
    },
    {
     "name": "stdout",
     "output_type": "stream",
     "text": [
      "RMC_L\n"
     ]
    },
    {
     "name": "stderr",
     "output_type": "stream",
     "text": [
      "marching cube: 17.02 seconds\n",
      "mesh_to_polydata: 0.01 seconds\n",
      "simplify 0 @ 5596: 0.05 seconds\n",
      "simplify 1 @ 1120: 0.05 seconds\n",
      "simplify 2 @ 225: 0.01 seconds\n",
      "time: 19.05\n"
     ]
    },
    {
     "name": "stdout",
     "output_type": "stream",
     "text": [
      "RMC_R\n"
     ]
    },
    {
     "name": "stderr",
     "output_type": "stream",
     "text": [
      "marching cube: 16.66 seconds\n",
      "mesh_to_polydata: 0.01 seconds\n",
      "simplify 0 @ 5697: 0.05 seconds\n",
      "simplify 1 @ 1141: 0.05 seconds\n",
      "simplify 2 @ 229: 0.01 seconds\n",
      "time: 18.65\n"
     ]
    },
    {
     "name": "stdout",
     "output_type": "stream",
     "text": [
      "SNC_L\n"
     ]
    },
    {
     "name": "stderr",
     "output_type": "stream",
     "text": [
      "marching cube: 17.80 seconds\n",
      "mesh_to_polydata: 0.01 seconds\n",
      "simplify 0 @ 6810: 0.06 seconds\n",
      "simplify 1 @ 1364: 0.06 seconds\n",
      "simplify 2 @ 274: 0.01 seconds\n",
      "time: 19.97\n"
     ]
    },
    {
     "name": "stdout",
     "output_type": "stream",
     "text": [
      "SNC_R\n"
     ]
    },
    {
     "name": "stderr",
     "output_type": "stream",
     "text": [
      "marching cube: 17.50 seconds\n",
      "mesh_to_polydata: 0.01 seconds\n",
      "simplify 0 @ 6251: 0.05 seconds\n",
      "simplify 1 @ 1251: 0.06 seconds\n",
      "simplify 2 @ 251: 0.01 seconds\n",
      "time: 19.37\n"
     ]
    },
    {
     "name": "stdout",
     "output_type": "stream",
     "text": [
      "SNR_L\n"
     ]
    },
    {
     "name": "stderr",
     "output_type": "stream",
     "text": [
      "marching cube: 17.50 seconds\n",
      "mesh_to_polydata: 0.03 seconds\n",
      "simplify 0 @ 27846: 0.20 seconds\n",
      "simplify 1 @ 5571: 0.24 seconds\n",
      "simplify 2 @ 1115: 0.05 seconds\n",
      "time: 19.90\n"
     ]
    },
    {
     "name": "stdout",
     "output_type": "stream",
     "text": [
      "SNR_R\n"
     ]
    },
    {
     "name": "stderr",
     "output_type": "stream",
     "text": [
      "marching cube: 12.83 seconds\n",
      "mesh_to_polydata: 0.03 seconds\n",
      "simplify 0 @ 28174: 0.22 seconds\n",
      "simplify 1 @ 5637: 0.26 seconds\n",
      "simplify 2 @ 1128: 0.05 seconds\n",
      "time: 15.14\n"
     ]
    },
    {
     "name": "stdout",
     "output_type": "stream",
     "text": [
      "3N_L\n"
     ]
    },
    {
     "name": "stderr",
     "output_type": "stream",
     "text": [
      "marching cube: 17.62 seconds\n",
      "mesh_to_polydata: 0.00 seconds\n",
      "simplify 0 @ 2423: 0.02 seconds\n",
      "simplify 1 @ 486: 0.02 seconds\n",
      "time: 19.55\n"
     ]
    },
    {
     "name": "stdout",
     "output_type": "stream",
     "text": [
      "3N_R\n"
     ]
    },
    {
     "name": "stderr",
     "output_type": "stream",
     "text": [
      "marching cube: 17.47 seconds\n",
      "mesh_to_polydata: 0.00 seconds\n",
      "simplify 0 @ 2328: 0.02 seconds\n",
      "simplify 1 @ 467: 0.02 seconds\n",
      "time: 20.46\n"
     ]
    },
    {
     "name": "stdout",
     "output_type": "stream",
     "text": [
      "4N_L\n"
     ]
    },
    {
     "name": "stderr",
     "output_type": "stream",
     "text": [
      "marching cube: 16.95 seconds\n",
      "mesh_to_polydata: 0.00 seconds\n",
      "simplify 0 @ 298: 0.00 seconds\n",
      "time: 19.06\n"
     ]
    },
    {
     "name": "stdout",
     "output_type": "stream",
     "text": [
      "4N_R\n"
     ]
    },
    {
     "name": "stderr",
     "output_type": "stream",
     "text": [
      "marching cube: 15.07 seconds\n",
      "mesh_to_polydata: 0.00 seconds\n",
      "simplify 0 @ 317: 0.01 seconds\n",
      "time: 17.62\n"
     ]
    },
    {
     "name": "stdout",
     "output_type": "stream",
     "text": [
      "Sp5I_L\n"
     ]
    },
    {
     "name": "stderr",
     "output_type": "stream",
     "text": [
      "marching cube: 18.28 seconds\n",
      "mesh_to_polydata: 0.03 seconds\n",
      "simplify 0 @ 12897: 0.18 seconds\n",
      "simplify 1 @ 2583: 0.18 seconds\n",
      "simplify 2 @ 517: 0.04 seconds\n",
      "time: 22.40\n"
     ]
    },
    {
     "name": "stdout",
     "output_type": "stream",
     "text": [
      "Sp5I_R\n"
     ]
    },
    {
     "name": "stderr",
     "output_type": "stream",
     "text": [
      "marching cube: 15.10 seconds\n",
      "mesh_to_polydata: 0.02 seconds\n",
      "simplify 0 @ 12979: 0.11 seconds\n",
      "simplify 1 @ 2594: 0.11 seconds\n",
      "simplify 2 @ 519: 0.02 seconds\n",
      "time: 17.30\n"
     ]
    },
    {
     "name": "stdout",
     "output_type": "stream",
     "text": [
      "Sp5O_L\n"
     ]
    },
    {
     "name": "stderr",
     "output_type": "stream",
     "text": [
      "marching cube: 17.12 seconds\n",
      "mesh_to_polydata: 0.02 seconds\n",
      "simplify 0 @ 12172: 0.14 seconds\n",
      "simplify 1 @ 2427: 0.10 seconds\n",
      "simplify 2 @ 482: 0.02 seconds\n",
      "time: 19.46\n"
     ]
    },
    {
     "name": "stdout",
     "output_type": "stream",
     "text": [
      "Sp5O_R\n"
     ]
    },
    {
     "name": "stderr",
     "output_type": "stream",
     "text": [
      "marching cube: 17.22 seconds\n",
      "mesh_to_polydata: 0.02 seconds\n",
      "simplify 0 @ 12084: 0.15 seconds\n",
      "simplify 1 @ 2416: 0.11 seconds\n",
      "simplify 2 @ 483: 0.02 seconds\n",
      "time: 19.45\n"
     ]
    },
    {
     "name": "stdout",
     "output_type": "stream",
     "text": [
      "Sp5C_L\n"
     ]
    },
    {
     "name": "stderr",
     "output_type": "stream",
     "text": [
      "marching cube: 16.94 seconds\n",
      "mesh_to_polydata: 0.04 seconds\n",
      "simplify 0 @ 36016: 0.25 seconds\n",
      "simplify 1 @ 7209: 0.35 seconds\n",
      "simplify 2 @ 1441: 0.07 seconds\n",
      "time: 19.69\n"
     ]
    },
    {
     "name": "stdout",
     "output_type": "stream",
     "text": [
      "Sp5C_R\n"
     ]
    },
    {
     "name": "stderr",
     "output_type": "stream",
     "text": [
      "marching cube: 15.99 seconds\n",
      "mesh_to_polydata: 0.06 seconds\n",
      "simplify 0 @ 28670: 0.43 seconds\n",
      "simplify 1 @ 5736: 0.43 seconds\n",
      "simplify 2 @ 1148: 0.09 seconds\n",
      "time: 18.94\n"
     ]
    },
    {
     "name": "stdout",
     "output_type": "stream",
     "text": [
      "PBG_L\n"
     ]
    },
    {
     "name": "stderr",
     "output_type": "stream",
     "text": [
      "marching cube: 17.19 seconds\n",
      "mesh_to_polydata: 0.00 seconds\n",
      "simplify 0 @ 1810: 0.01 seconds\n",
      "simplify 1 @ 363: 0.01 seconds\n",
      "time: 19.55\n"
     ]
    },
    {
     "name": "stdout",
     "output_type": "stream",
     "text": [
      "PBG_R\n"
     ]
    },
    {
     "name": "stderr",
     "output_type": "stream",
     "text": [
      "marching cube: 17.51 seconds\n",
      "mesh_to_polydata: 0.00 seconds\n",
      "simplify 0 @ 1635: 0.02 seconds\n",
      "simplify 1 @ 328: 0.02 seconds\n",
      "time: 20.06\n"
     ]
    },
    {
     "name": "stdout",
     "output_type": "stream",
     "text": [
      "10N_L\n"
     ]
    },
    {
     "name": "stderr",
     "output_type": "stream",
     "text": [
      "marching cube: 16.01 seconds\n",
      "mesh_to_polydata: 0.01 seconds\n",
      "simplify 0 @ 2874: 0.04 seconds\n",
      "simplify 1 @ 576: 0.04 seconds\n",
      "time: 18.57\n"
     ]
    },
    {
     "name": "stdout",
     "output_type": "stream",
     "text": [
      "10N_R\n"
     ]
    },
    {
     "name": "stderr",
     "output_type": "stream",
     "text": [
      "marching cube: 16.99 seconds\n",
      "mesh_to_polydata: 0.00 seconds\n",
      "simplify 0 @ 2747: 0.02 seconds\n",
      "simplify 1 @ 551: 0.02 seconds\n",
      "time: 19.76\n"
     ]
    },
    {
     "name": "stdout",
     "output_type": "stream",
     "text": [
      "VCA_L\n"
     ]
    },
    {
     "name": "stderr",
     "output_type": "stream",
     "text": [
      "marching cube: 16.65 seconds\n",
      "mesh_to_polydata: 0.02 seconds\n",
      "simplify 0 @ 11783: 0.11 seconds\n",
      "simplify 1 @ 2358: 0.11 seconds\n",
      "simplify 2 @ 473: 0.02 seconds\n",
      "time: 18.97\n"
     ]
    },
    {
     "name": "stdout",
     "output_type": "stream",
     "text": [
      "VCA_R\n"
     ]
    },
    {
     "name": "stderr",
     "output_type": "stream",
     "text": [
      "marching cube: 16.53 seconds\n",
      "mesh_to_polydata: 0.03 seconds\n",
      "simplify 0 @ 12499: 0.18 seconds\n",
      "simplify 1 @ 2501: 0.16 seconds\n",
      "simplify 2 @ 501: 0.03 seconds\n",
      "time: 18.86\n"
     ]
    },
    {
     "name": "stdout",
     "output_type": "stream",
     "text": [
      "VCP_L\n"
     ]
    },
    {
     "name": "stderr",
     "output_type": "stream",
     "text": [
      "marching cube: 17.29 seconds\n",
      "mesh_to_polydata: 0.01 seconds\n",
      "simplify 0 @ 7187: 0.06 seconds\n",
      "simplify 1 @ 1439: 0.05 seconds\n",
      "simplify 2 @ 289: 0.01 seconds\n",
      "time: 19.60\n"
     ]
    },
    {
     "name": "stdout",
     "output_type": "stream",
     "text": [
      "VCP_R\n"
     ]
    },
    {
     "name": "stderr",
     "output_type": "stream",
     "text": [
      "marching cube: 17.44 seconds\n",
      "mesh_to_polydata: 0.01 seconds\n",
      "simplify 0 @ 6680: 0.08 seconds\n",
      "simplify 1 @ 1337: 0.05 seconds\n",
      "simplify 2 @ 269: 0.01 seconds\n",
      "time: 20.83\n"
     ]
    },
    {
     "name": "stdout",
     "output_type": "stream",
     "text": [
      "DC_L\n"
     ]
    },
    {
     "name": "stderr",
     "output_type": "stream",
     "text": [
      "marching cube: 17.11 seconds\n",
      "mesh_to_polydata: 0.02 seconds\n",
      "simplify 0 @ 10094: 0.14 seconds\n",
      "simplify 1 @ 2020: 0.14 seconds\n",
      "simplify 2 @ 405: 0.03 seconds\n",
      "time: 19.53\n"
     ]
    },
    {
     "name": "stdout",
     "output_type": "stream",
     "text": [
      "DC_R\n"
     ]
    },
    {
     "name": "stderr",
     "output_type": "stream",
     "text": [
      "marching cube: 15.62 seconds\n",
      "mesh_to_polydata: 0.01 seconds\n",
      "simplify 0 @ 10363: 0.07 seconds\n",
      "simplify 1 @ 2073: 0.08 seconds\n",
      "simplify 2 @ 416: 0.02 seconds\n",
      "time: 18.97\n"
     ]
    },
    {
     "name": "stdout",
     "output_type": "stream",
     "text": [
      "AP\n"
     ]
    },
    {
     "name": "stderr",
     "output_type": "stream",
     "text": [
      "marching cube: 18.85 seconds\n",
      "mesh_to_polydata: 0.00 seconds\n",
      "simplify 0 @ 2906: 0.03 seconds\n",
      "simplify 1 @ 583: 0.02 seconds\n",
      "time: 20.81\n"
     ]
    },
    {
     "name": "stdout",
     "output_type": "stream",
     "text": [
      "12N\n"
     ]
    },
    {
     "name": "stderr",
     "output_type": "stream",
     "text": [
      "marching cube: 17.20 seconds\n",
      "mesh_to_polydata: 0.02 seconds\n",
      "simplify 0 @ 12868: 0.17 seconds\n",
      "simplify 1 @ 2575: 0.19 seconds\n",
      "simplify 2 @ 516: 0.04 seconds\n",
      "time: 19.59\n"
     ]
    },
    {
     "name": "stdout",
     "output_type": "stream",
     "text": [
      "RtTg\n"
     ]
    },
    {
     "name": "stderr",
     "output_type": "stream",
     "text": [
      "marching cube: 15.27 seconds\n",
      "mesh_to_polydata: 0.03 seconds\n",
      "simplify 0 @ 24787: 0.21 seconds\n",
      "simplify 1 @ 4954: 0.21 seconds\n",
      "simplify 2 @ 993: 0.04 seconds\n",
      "time: 19.03\n"
     ]
    },
    {
     "name": "stdout",
     "output_type": "stream",
     "text": [
      "sp5\n",
      "outerContour\n",
      "SC\n"
     ]
    },
    {
     "name": "stderr",
     "output_type": "stream",
     "text": [
      "File does not exist: /home/yuncong/CSHL_volumes/atlasV2/atlasV2_down32_scoreVolume_clf_2_warp_2_MD603_down32_scoreVolume_clf_2_trial_0/score_volumes/atlasV2_down32_scoreVolume_clf_2_warp_2_MD603_down32_scoreVolume_clf_2_trial_0_sp5.bp\n",
      "[Errno 2] No such file or directory: '/home/yuncong/CSHL_volumes/atlasV2/atlasV2_down32_scoreVolume_clf_2_warp_2_MD603_down32_scoreVolume_clf_2_trial_0/score_volumes/atlasV2_down32_scoreVolume_clf_2_warp_2_MD603_down32_scoreVolume_clf_2_trial_0_sp5.bp'\n",
      "Error transforming volume sp5.\n",
      "File does not exist: /home/yuncong/CSHL_volumes/atlasV2/atlasV2_down32_scoreVolume_clf_2_warp_2_MD603_down32_scoreVolume_clf_2_trial_0/score_volumes/atlasV2_down32_scoreVolume_clf_2_warp_2_MD603_down32_scoreVolume_clf_2_trial_0_outerContour.bp\n",
      "[Errno 2] No such file or directory: '/home/yuncong/CSHL_volumes/atlasV2/atlasV2_down32_scoreVolume_clf_2_warp_2_MD603_down32_scoreVolume_clf_2_trial_0/score_volumes/atlasV2_down32_scoreVolume_clf_2_warp_2_MD603_down32_scoreVolume_clf_2_trial_0_outerContour.bp'\n",
      "Error transforming volume outerContour.\n",
      "marching cube: 19.00 seconds\n",
      "mesh_to_polydata: 0.17 seconds\n",
      "simplify 0 @ 116327: 1.19 seconds\n",
      "simplify 1 @ 23270: 1.45 seconds\n",
      "simplify 2 @ 4654: 0.31 seconds\n",
      "time: 23.98\n"
     ]
    },
    {
     "name": "stdout",
     "output_type": "stream",
     "text": [
      "IC\n"
     ]
    },
    {
     "name": "stderr",
     "output_type": "stream",
     "text": [
      "marching cube: 17.15 seconds\n",
      "mesh_to_polydata: 0.10 seconds\n",
      "simplify 0 @ 77700: 0.78 seconds\n",
      "simplify 1 @ 15543: 0.83 seconds\n",
      "simplify 2 @ 3109: 0.16 seconds\n",
      "time: 20.92\n"
     ]
    }
   ],
   "source": [
    "# Render local transformed atlas structures\n",
    "\n",
    "for structure in all_known_structures_sided:\n",
    "# for structure in ['Pn_R']:\n",
    "\n",
    "    print structure\n",
    "    \n",
    "    try:\n",
    "        local_transformed_volume = \\\n",
    "        DataManager.load_transformed_volume(stack_m=atlas_name, type_m='score', \n",
    "                                            stack_f=stack, type_f='score',\n",
    "                                            downscale=32, \n",
    "                                            classifier_setting_m=2,\n",
    "                                            classifier_setting_f=2,\n",
    "                                            warp_setting=2,\n",
    "                                            structure=structure)\n",
    "\n",
    "        t = time.time()\n",
    "        polydata = volume_to_polydata(local_transformed_volume, num_simplify_iter=3, smooth=True, level=0.5)\n",
    "        sys.stderr.write('time: %.2f\\n' % (time.time() - t)) # 20s\n",
    "\n",
    "        mesh_fn = DataManager.get_transformed_volume_mesh_filepath(stack_m=atlas_name, type_m='score', \n",
    "                                                                   stack_f=stack, type_f='score', \n",
    "                                                                   downscale=32,\n",
    "                                                                   classifier_setting_m=2,classifier_setting_f=2,\n",
    "                                                                   warp_setting=2,\n",
    "                                                                   structure=structure)\n",
    "\n",
    "        save_mesh(polydata, mesh_fn)\n",
    "    \n",
    "    except Exception as e:\n",
    "        sys.stderr.write('%s\\n' % e)\n",
    "        sys.stderr.write('Error transforming volume %s.\\n' % structure)        "
   ]
  },
  {
   "cell_type": "markdown",
   "metadata": {
    "collapsed": true
   },
   "source": [
    "# Load"
   ]
  },
  {
   "cell_type": "code",
   "execution_count": 29,
   "metadata": {
    "collapsed": true
   },
   "outputs": [],
   "source": [
    "classifier_setting = 2"
   ]
  },
  {
   "cell_type": "code",
   "execution_count": 30,
   "metadata": {
    "collapsed": false
   },
   "outputs": [
    {
     "name": "stderr",
     "output_type": "stream",
     "text": [
      "load_mesh_stl: File does not exist\n",
      "Mesh is empty.\n",
      "Error loading mesh for sp5.\n",
      "load_mesh_stl: File does not exist\n",
      "Mesh is empty.\n",
      "Error loading mesh for outerContour.\n"
     ]
    }
   ],
   "source": [
    "# Load global transformed atlas structure meshes\n",
    "\n",
    "global_transformed_atlas_polydata_list = \\\n",
    "DataManager.load_transformed_volume_meshes(stack_m=atlas_name, type_m='score', \n",
    "                                             stack_f=stack, type_f='score', \n",
    "                                           classifier_setting_m=classifier_setting,\n",
    "                                           classifier_setting_f=classifier_setting,\n",
    "                                           warp_setting=1, sided=True)"
   ]
  },
  {
   "cell_type": "code",
   "execution_count": 31,
   "metadata": {
    "collapsed": false,
    "scrolled": true
   },
   "outputs": [],
   "source": [
    "# launch_vtk([actor_mesh(p, wireframe=False, color=structure_colors[convert_name_to_unsided(n)]/255., opacity=.3) \n",
    "#             for n, p in global_transformed_atlas_polydata_list.iteritems()])"
   ]
  },
  {
   "cell_type": "code",
   "execution_count": 32,
   "metadata": {
    "collapsed": false
   },
   "outputs": [
    {
     "name": "stderr",
     "output_type": "stream",
     "text": [
      "load_mesh_stl: File does not exist\n",
      "Mesh is empty.\n",
      "Error loading mesh for sp5.\n",
      "load_mesh_stl: File does not exist\n",
      "Mesh is empty.\n",
      "Error loading mesh for outerContour.\n"
     ]
    }
   ],
   "source": [
    "# Load locally transformed atlas structure meshes\n",
    "\n",
    "local_transformed_atlas_polydata_list = \\\n",
    "DataManager.load_transformed_volume_meshes(stack_m=atlas_name, type_m='score', \n",
    "                                           stack_f=stack, type_f='score', \n",
    "                                           classifier_setting_m=classifier_setting,\n",
    "                                           classifier_setting_f=classifier_setting,\n",
    "                                           warp_setting=2, sided=True)"
   ]
  },
  {
   "cell_type": "code",
   "execution_count": 33,
   "metadata": {
    "collapsed": true
   },
   "outputs": [],
   "source": [
    "# launch_vtk([actor_mesh(p, wireframe=True, color=structure_colors[convert_name_to_unsided(n)]/255., opacity=.3) \n",
    "#             for n, p in local_transformed_atlas_polydata_list.iteritems()])"
   ]
  },
  {
   "cell_type": "code",
   "execution_count": 34,
   "metadata": {
    "collapsed": false
   },
   "outputs": [
    {
     "name": "stdout",
     "output_type": "stream",
     "text": [
      "crop: 588 1241 179 599\n"
     ]
    }
   ],
   "source": [
    "crop_xmin, crop_xmax, crop_ymin, crop_ymax = metadata_cache['cropbox'][stack]\n",
    "print 'crop:', crop_xmin, crop_xmax, crop_ymin, crop_ymax"
   ]
  },
  {
   "cell_type": "code",
   "execution_count": 35,
   "metadata": {
    "collapsed": false
   },
   "outputs": [
    {
     "name": "stdout",
     "output_type": "stream",
     "text": [
      "fixed volume box: 0 653 0 420 81 479\n"
     ]
    }
   ],
   "source": [
    "tb_vol_xmin, tb_vol_xmax, tb_vol_ymin, tb_vol_ymax, tb_vol_zmin, tb_vol_zmax = \\\n",
    "DataManager.load_volume_bbox(stack=stack, type='thumbnail', downscale=32, classifier_setting=classifier_setting)\n",
    "\n",
    "print 'fixed volume box:', tb_vol_xmin, tb_vol_xmax, tb_vol_ymin, tb_vol_ymax, tb_vol_zmin, tb_vol_zmax"
   ]
  },
  {
   "cell_type": "code",
   "execution_count": 36,
   "metadata": {
    "collapsed": false
   },
   "outputs": [],
   "source": [
    "shell_polydata = DataManager.load_shell_mesh(stack='MD589', downscale=32, return_polydata_only=True)"
   ]
  },
  {
   "cell_type": "code",
   "execution_count": 37,
   "metadata": {
    "collapsed": false
   },
   "outputs": [],
   "source": [
    "# Get thumbnail volume\n",
    "\n",
    "tb_volume = DataManager.load_intensity_volume(stack=stack)\n",
    "\n",
    "# Show only selected sections\n",
    "\n",
    "tb_volume_sectioned = np.zeros_like(tb_volume)\n",
    "interval = 1\n",
    "for z in range(tb_volume_sectioned.shape[2]/2, tb_volume_sectioned.shape[2], interval):\n",
    "# for z in [180]:\n",
    "    tb_volume_sectioned[:, :, z:z+interval] = tb_volume[:,:,z:z+interval]"
   ]
  },
  {
   "cell_type": "code",
   "execution_count": 38,
   "metadata": {
    "collapsed": false
   },
   "outputs": [],
   "source": [
    "# Get score volume\n",
    "\n",
    "sc_vol = DataManager.load_score_volume(stack=stack, structure='7N', downscale=32, classifier_setting=classifier_setting)\n",
    "\n",
    "# sc_vol[:250, 150:450] = 0\n",
    "# sc_vol[:, :150] = 0"
   ]
  },
  {
   "cell_type": "markdown",
   "metadata": {},
   "source": [
    "# Create actors and display"
   ]
  },
  {
   "cell_type": "code",
   "execution_count": 39,
   "metadata": {
    "collapsed": true
   },
   "outputs": [],
   "source": [
    "high_contrast_colors = np.random.permutation(high_contrast_colors)\n",
    "map_name_s_to_color = {s: np.array(high_contrast_colors[i%len(high_contrast_colors)]) \n",
    "                     for i, s in enumerate(all_known_structures_sided) }\n",
    "map_name_u_to_color = {s: np.array(high_contrast_colors[i%len(high_contrast_colors)]) \n",
    "                     for i, s in enumerate(all_known_structures) }"
   ]
  },
  {
   "cell_type": "code",
   "execution_count": 40,
   "metadata": {
    "collapsed": false,
    "scrolled": true
   },
   "outputs": [],
   "source": [
    "shell_actor = actor_mesh(shell_polydata, color=(1,1,1), opacity=.1, wireframe=False)"
   ]
  },
  {
   "cell_type": "code",
   "execution_count": 41,
   "metadata": {
    "collapsed": true
   },
   "outputs": [],
   "source": [
    "global_transformed_atlas_actors = {name_s: actor_mesh(p, \n",
    "                                              wireframe=False, \n",
    "#                                               color=structure_colors[convert_name_to_unsided(n)]/255., \n",
    "                                              color=map_name_u_to_color[convert_to_original_name(name_s)]/255., \n",
    "                                              opacity=1., \n",
    "                                              origin=(crop_xmin + tb_vol_xmin, crop_ymin + tb_vol_ymin, tb_vol_zmin)) \n",
    " for name_s, p in global_transformed_atlas_polydata_list.iteritems()}"
   ]
  },
  {
   "cell_type": "code",
   "execution_count": 42,
   "metadata": {
    "collapsed": false
   },
   "outputs": [],
   "source": [
    "local_transformed_atlas_actors = {n: actor_mesh(p, \n",
    "#                                              wireframe=False if convert_name_to_unsided(n) == '7N' else False, \n",
    "                                             wireframe=False, \n",
    "#                                              color=structure_colors[convert_name_to_unsided(n)]/255., \n",
    "                                             color=(1,0,0), \n",
    "#                                              opacity=1. if convert_name_to_unsided(n) == '7N' else .1,\n",
    "                                             opacity=1.,\n",
    "                                             origin=(crop_xmin + tb_vol_xmin, crop_ymin + tb_vol_ymin, tb_vol_zmin)) \n",
    "            for n, p in local_transformed_atlas_polydata_list.iteritems()}"
   ]
  },
  {
   "cell_type": "code",
   "execution_count": 43,
   "metadata": {
    "collapsed": false
   },
   "outputs": [],
   "source": [
    "tb_volume_actor = actor_volume(tb_volume_sectioned, what='tb', \n",
    "                               origin=(crop_xmin + tb_vol_xmin, crop_ymin + tb_vol_ymin, tb_vol_zmin),\n",
    "                              tb_opacity=.5)"
   ]
  },
  {
   "cell_type": "code",
   "execution_count": 44,
   "metadata": {
    "collapsed": false
   },
   "outputs": [],
   "source": [
    "score_volume_actor = actor_volume(sc_vol.astype(np.float32), what='score', \n",
    "                                  origin=(crop_xmin + tb_vol_xmin, crop_ymin + tb_vol_ymin, tb_vol_zmin))"
   ]
  },
  {
   "cell_type": "code",
   "execution_count": 45,
   "metadata": {
    "collapsed": false
   },
   "outputs": [],
   "source": [
    "launch_vtk( [score_volume_actor, \n",
    "             global_transformed_atlas_actors['7N_R'],\n",
    "             local_transformed_atlas_actors['7N_R']])"
   ]
  },
  {
   "cell_type": "code",
   "execution_count": 46,
   "metadata": {
    "collapsed": false
   },
   "outputs": [],
   "source": [
    "# Render global transformed structures + shell + thumbnail volume\n",
    "\n",
    "launch_vtk([shell_actor, tb_volume_actor] + \\\n",
    "          global_transformed_atlas_actors.values() + \\\n",
    "          local_transformed_atlas_actors.values())"
   ]
  },
  {
   "cell_type": "code",
   "execution_count": 27,
   "metadata": {
    "collapsed": false
   },
   "outputs": [],
   "source": [
    "# Render global transformed structures + shell\n",
    "\n",
    "launch_vtk([shell_actor] + \\\n",
    "          global_transformed_atlas_actors.values())"
   ]
  },
  {
   "cell_type": "code",
   "execution_count": null,
   "metadata": {
    "collapsed": true
   },
   "outputs": [],
   "source": []
  },
  {
   "cell_type": "code",
   "execution_count": 210,
   "metadata": {
    "collapsed": false
   },
   "outputs": [],
   "source": [
    "# Zoom in the volume around a particular structure\n",
    "\n",
    "roi_name_s = '3N_R'\n",
    "\n",
    "vs = np.concatenate([polydata_to_mesh(local_transformed_atlas_polydata_list[roi_name_s])[0],\n",
    "polydata_to_mesh(global_transformed_atlas_polydata_list[roi_name_s])[0]])\n",
    "\n",
    "roi_xmin, roi_ymin, roi_zmin = (np.min(vs, axis=0) - 20).astype(np.int)\n",
    "roi_xmax, roi_ymax, roi_zmax = (np.max(vs, axis=0) + 20).astype(np.int)\n",
    "\n",
    "sc_vol = DataManager.load_score_volume(stack=stack, label=convert_name_to_unsided(roi_name_s), downscale=32, train_sample_scheme=1)\n",
    "\n",
    "sc_vol[:roi_ymin, :, :] = 0\n",
    "sc_vol[roi_ymax:, :, :] = 0\n",
    "sc_vol[:, :roi_xmin, :] = 0\n",
    "sc_vol[:, roi_xmax:, :] = 0\n",
    "sc_vol[:, :, :roi_zmin-20] = 0\n",
    "sc_vol[:, :, roi_zmax:] = 0\n",
    "\n",
    "\n",
    "score_volume_actor = actor_volume(sc_vol.astype(np.float32), what='score', \n",
    "                                  origin=(crop_xmin + tb_vol_xmin, crop_ymin + tb_vol_ymin, tb_vol_zmin))\n",
    "\n",
    "launch_vtk( [score_volume_actor, \n",
    "             global_transformed_atlas_actors[roi_name_s],\n",
    "             local_transformed_atlas_actors[roi_name_s],\n",
    "            shell_actor])"
   ]
  }
 ],
 "metadata": {
  "kernelspec": {
   "display_name": "Python 2",
   "language": "python",
   "name": "python2"
  },
  "language_info": {
   "codemirror_mode": {
    "name": "ipython",
    "version": 2
   },
   "file_extension": ".py",
   "mimetype": "text/x-python",
   "name": "python",
   "nbconvert_exporter": "python",
   "pygments_lexer": "ipython2",
   "version": "2.7.12"
  }
 },
 "nbformat": 4,
 "nbformat_minor": 0
}
