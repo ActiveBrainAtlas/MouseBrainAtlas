{
 "cells": [
  {
   "cell_type": "code",
   "execution_count": 1,
   "metadata": {},
   "outputs": [
    {
     "name": "stderr",
     "output_type": "stream",
     "text": [
      "/usr/local/lib/python2.7/dist-packages/matplotlib/__init__.py:1357: UserWarning:  This call to matplotlib.use() has no effect\n",
      "because the backend has already been chosen;\n",
      "matplotlib.use() must be called *before* pylab, matplotlib.pyplot,\n",
      "or matplotlib.backends is imported for the first time.\n",
      "\n",
      "  warnings.warn(_use_error_msg)\n"
     ]
    },
    {
     "name": "stdout",
     "output_type": "stream",
     "text": [
      "Setting environment for Local Macbook Pro\n"
     ]
    }
   ],
   "source": [
    "%reload_ext autoreload\n",
    "%autoreload 2\n",
    "\n",
    "import sys\n",
    "import os\n",
    "import time\n",
    "\n",
    "import numpy as np\n",
    "import pandas as pd\n",
    "import bloscpack as bp\n",
    "import matplotlib.pyplot as plt\n",
    "%matplotlib inline\n",
    "\n",
    "sys.path.append(os.path.join(os.environ['REPO_DIR'], 'utilities'))\n",
    "from utilities2015 import *\n",
    "from annotation_utilities import *\n",
    "from registration_utilities import *\n",
    "from metadata import *\n",
    "from data_manager import *\n",
    "from vis3d_utilities import *"
   ]
  },
  {
   "cell_type": "code",
   "execution_count": 2,
   "metadata": {
    "collapsed": true
   },
   "outputs": [],
   "source": [
    "stack = 'MD589'"
   ]
  },
  {
   "cell_type": "code",
   "execution_count": 3,
   "metadata": {
    "collapsed": true
   },
   "outputs": [],
   "source": [
    "atlas_name = 'atlasV5'"
   ]
  },
  {
   "cell_type": "markdown",
   "metadata": {},
   "source": [
    "# Generate transformed atlas meshes"
   ]
  },
  {
   "cell_type": "code",
   "execution_count": 217,
   "metadata": {
    "scrolled": true
   },
   "outputs": [
    {
     "name": "stdout",
     "output_type": "stream",
     "text": [
      "5N_L\n",
      "rm -rf \"/home/yuncong/CSHL_volumes/atlasV5/atlasV5_down32_scoreVolume_warp20_MD592_prep2_detector15_down32_scoreVolume/score_volumes/atlasV5_down32_scoreVolume_warp20_MD592_prep2_detector15_down32_scoreVolume_5N_L.bp\" && mkdir -p \"/home/yuncong/CSHL_volumes/atlasV5/atlasV5_down32_scoreVolume_warp20_MD592_prep2_detector15_down32_scoreVolume/score_volumes\"\n",
      "aws s3 cp \"s3://mousebrainatlas-data/CSHL_volumes/atlasV5/atlasV5_down32_scoreVolume_warp20_MD592_prep2_detector15_down32_scoreVolume/score_volumes/atlasV5_down32_scoreVolume_warp20_MD592_prep2_detector15_down32_scoreVolume_5N_L.bp\" \"/home/yuncong/CSHL_volumes/atlasV5/atlasV5_down32_scoreVolume_warp20_MD592_prep2_detector15_down32_scoreVolume/score_volumes/atlasV5_down32_scoreVolume_warp20_MD592_prep2_detector15_down32_scoreVolume_5N_L.bp\"\n"
     ]
    },
    {
     "name": "stderr",
     "output_type": "stream",
     "text": [
      "marching cube: 10.99 seconds\n",
      "mesh_to_polydata: 0.01 seconds\n",
      "simplify 0 @ 6909: 0.07 seconds\n",
      "simplify 1 @ 1383: 0.06 seconds\n",
      "simplify 2 @ 278: 0.02 seconds\n",
      "time: 12.00\n"
     ]
    },
    {
     "name": "stdout",
     "output_type": "stream",
     "text": [
      "5N_R\n",
      "rm -rf \"/home/yuncong/CSHL_volumes/atlasV5/atlasV5_down32_scoreVolume_warp20_MD592_prep2_detector15_down32_scoreVolume/score_volumes/atlasV5_down32_scoreVolume_warp20_MD592_prep2_detector15_down32_scoreVolume_5N_R.bp\" && mkdir -p \"/home/yuncong/CSHL_volumes/atlasV5/atlasV5_down32_scoreVolume_warp20_MD592_prep2_detector15_down32_scoreVolume/score_volumes\"\n",
      "aws s3 cp \"s3://mousebrainatlas-data/CSHL_volumes/atlasV5/atlasV5_down32_scoreVolume_warp20_MD592_prep2_detector15_down32_scoreVolume/score_volumes/atlasV5_down32_scoreVolume_warp20_MD592_prep2_detector15_down32_scoreVolume_5N_R.bp\" \"/home/yuncong/CSHL_volumes/atlasV5/atlasV5_down32_scoreVolume_warp20_MD592_prep2_detector15_down32_scoreVolume/score_volumes/atlasV5_down32_scoreVolume_warp20_MD592_prep2_detector15_down32_scoreVolume_5N_R.bp\"\n"
     ]
    },
    {
     "name": "stderr",
     "output_type": "stream",
     "text": [
      "marching cube: 12.12 seconds\n",
      "mesh_to_polydata: 0.01 seconds\n",
      "simplify 0 @ 7075: 0.15 seconds\n",
      "simplify 1 @ 1417: 0.19 seconds\n",
      "simplify 2 @ 284: 0.05 seconds\n",
      "time: 13.58\n"
     ]
    },
    {
     "name": "stdout",
     "output_type": "stream",
     "text": [
      "6N_L\n",
      "rm -rf \"/home/yuncong/CSHL_volumes/atlasV5/atlasV5_down32_scoreVolume_warp20_MD592_prep2_detector15_down32_scoreVolume/score_volumes/atlasV5_down32_scoreVolume_warp20_MD592_prep2_detector15_down32_scoreVolume_6N_L.bp\" && mkdir -p \"/home/yuncong/CSHL_volumes/atlasV5/atlasV5_down32_scoreVolume_warp20_MD592_prep2_detector15_down32_scoreVolume/score_volumes\"\n",
      "aws s3 cp \"s3://mousebrainatlas-data/CSHL_volumes/atlasV5/atlasV5_down32_scoreVolume_warp20_MD592_prep2_detector15_down32_scoreVolume/score_volumes/atlasV5_down32_scoreVolume_warp20_MD592_prep2_detector15_down32_scoreVolume_6N_L.bp\" \"/home/yuncong/CSHL_volumes/atlasV5/atlasV5_down32_scoreVolume_warp20_MD592_prep2_detector15_down32_scoreVolume/score_volumes/atlasV5_down32_scoreVolume_warp20_MD592_prep2_detector15_down32_scoreVolume_6N_L.bp\"\n"
     ]
    },
    {
     "name": "stderr",
     "output_type": "stream",
     "text": [
      "marching cube: 17.65 seconds\n",
      "mesh_to_polydata: 0.00 seconds\n",
      "simplify 0 @ 656: 0.00 seconds\n",
      "simplify 1 @ 132: 0.00 seconds\n",
      "time: 18.72\n"
     ]
    },
    {
     "name": "stdout",
     "output_type": "stream",
     "text": [
      "6N_R\n",
      "rm -rf \"/home/yuncong/CSHL_volumes/atlasV5/atlasV5_down32_scoreVolume_warp20_MD592_prep2_detector15_down32_scoreVolume/score_volumes/atlasV5_down32_scoreVolume_warp20_MD592_prep2_detector15_down32_scoreVolume_6N_R.bp\" && mkdir -p \"/home/yuncong/CSHL_volumes/atlasV5/atlasV5_down32_scoreVolume_warp20_MD592_prep2_detector15_down32_scoreVolume/score_volumes\"\n",
      "aws s3 cp \"s3://mousebrainatlas-data/CSHL_volumes/atlasV5/atlasV5_down32_scoreVolume_warp20_MD592_prep2_detector15_down32_scoreVolume/score_volumes/atlasV5_down32_scoreVolume_warp20_MD592_prep2_detector15_down32_scoreVolume_6N_R.bp\" \"/home/yuncong/CSHL_volumes/atlasV5/atlasV5_down32_scoreVolume_warp20_MD592_prep2_detector15_down32_scoreVolume/score_volumes/atlasV5_down32_scoreVolume_warp20_MD592_prep2_detector15_down32_scoreVolume_6N_R.bp\"\n"
     ]
    },
    {
     "name": "stderr",
     "output_type": "stream",
     "text": [
      "marching cube: 23.12 seconds\n",
      "mesh_to_polydata: 0.00 seconds\n",
      "simplify 0 @ 661: 0.02 seconds\n",
      "simplify 1 @ 133: 0.02 seconds\n",
      "time: 24.73\n"
     ]
    },
    {
     "name": "stdout",
     "output_type": "stream",
     "text": [
      "7N_L\n",
      "rm -rf \"/home/yuncong/CSHL_volumes/atlasV5/atlasV5_down32_scoreVolume_warp20_MD592_prep2_detector15_down32_scoreVolume/score_volumes/atlasV5_down32_scoreVolume_warp20_MD592_prep2_detector15_down32_scoreVolume_7N_L.bp\" && mkdir -p \"/home/yuncong/CSHL_volumes/atlasV5/atlasV5_down32_scoreVolume_warp20_MD592_prep2_detector15_down32_scoreVolume/score_volumes\"\n",
      "aws s3 cp \"s3://mousebrainatlas-data/CSHL_volumes/atlasV5/atlasV5_down32_scoreVolume_warp20_MD592_prep2_detector15_down32_scoreVolume/score_volumes/atlasV5_down32_scoreVolume_warp20_MD592_prep2_detector15_down32_scoreVolume_7N_L.bp\" \"/home/yuncong/CSHL_volumes/atlasV5/atlasV5_down32_scoreVolume_warp20_MD592_prep2_detector15_down32_scoreVolume/score_volumes/atlasV5_down32_scoreVolume_warp20_MD592_prep2_detector15_down32_scoreVolume_7N_L.bp\"\n"
     ]
    },
    {
     "name": "stderr",
     "output_type": "stream",
     "text": [
      "marching cube: 17.41 seconds\n",
      "mesh_to_polydata: 0.01 seconds\n",
      "simplify 0 @ 12205: 0.08 seconds\n",
      "simplify 1 @ 2442: 0.09 seconds\n"
     ]
    },
    {
     "name": "stdout",
     "output_type": "stream",
     "text": [
      "7N_R\n",
      "rm -rf \"/home/yuncong/CSHL_volumes/atlasV5/atlasV5_down32_scoreVolume_warp20_MD592_prep2_detector15_down32_scoreVolume/score_volumes/atlasV5_down32_scoreVolume_warp20_MD592_prep2_detector15_down32_scoreVolume_7N_R.bp\" && mkdir -p \"/home/yuncong/CSHL_volumes/atlasV5/atlasV5_down32_scoreVolume_warp20_MD592_prep2_detector15_down32_scoreVolume/score_volumes\"\n",
      "aws s3 cp \"s3://mousebrainatlas-data/CSHL_volumes/atlasV5/atlasV5_down32_scoreVolume_warp20_MD592_prep2_detector15_down32_scoreVolume/score_volumes/atlasV5_down32_scoreVolume_warp20_MD592_prep2_detector15_down32_scoreVolume_7N_R.bp\" \"/home/yuncong/CSHL_volumes/atlasV5/atlasV5_down32_scoreVolume_warp20_MD592_prep2_detector15_down32_scoreVolume/score_volumes/atlasV5_down32_scoreVolume_warp20_MD592_prep2_detector15_down32_scoreVolume_7N_R.bp\"\n"
     ]
    },
    {
     "name": "stderr",
     "output_type": "stream",
     "text": [
      "simplify 2 @ 490: 0.02 seconds\n",
      "time: 18.47\n",
      "marching cube: 13.05 seconds\n",
      "mesh_to_polydata: 0.06 seconds\n",
      "simplify 0 @ 11919: 0.34 seconds\n",
      "simplify 1 @ 2386: 0.33 seconds\n",
      "simplify 2 @ 478: 0.08 seconds\n",
      "time: 14.73\n"
     ]
    },
    {
     "name": "stdout",
     "output_type": "stream",
     "text": [
      "7n_L\n",
      "rm -rf \"/home/yuncong/CSHL_volumes/atlasV5/atlasV5_down32_scoreVolume_warp20_MD592_prep2_detector15_down32_scoreVolume/score_volumes/atlasV5_down32_scoreVolume_warp20_MD592_prep2_detector15_down32_scoreVolume_7n_L.bp\" && mkdir -p \"/home/yuncong/CSHL_volumes/atlasV5/atlasV5_down32_scoreVolume_warp20_MD592_prep2_detector15_down32_scoreVolume/score_volumes\"\n",
      "aws s3 cp \"s3://mousebrainatlas-data/CSHL_volumes/atlasV5/atlasV5_down32_scoreVolume_warp20_MD592_prep2_detector15_down32_scoreVolume/score_volumes/atlasV5_down32_scoreVolume_warp20_MD592_prep2_detector15_down32_scoreVolume_7n_L.bp\" \"/home/yuncong/CSHL_volumes/atlasV5/atlasV5_down32_scoreVolume_warp20_MD592_prep2_detector15_down32_scoreVolume/score_volumes/atlasV5_down32_scoreVolume_warp20_MD592_prep2_detector15_down32_scoreVolume_7n_L.bp\"\n"
     ]
    },
    {
     "name": "stderr",
     "output_type": "stream",
     "text": [
      "marching cube: 12.58 seconds\n",
      "mesh_to_polydata: 0.01 seconds\n",
      "simplify 0 @ 8605: 0.06 seconds\n",
      "simplify 1 @ 1723: 0.06 seconds\n",
      "simplify 2 @ 346: 0.01 seconds\n",
      "time: 13.61\n"
     ]
    },
    {
     "name": "stdout",
     "output_type": "stream",
     "text": [
      "7n_R\n",
      "rm -rf \"/home/yuncong/CSHL_volumes/atlasV5/atlasV5_down32_scoreVolume_warp20_MD592_prep2_detector15_down32_scoreVolume/score_volumes/atlasV5_down32_scoreVolume_warp20_MD592_prep2_detector15_down32_scoreVolume_7n_R.bp\" && mkdir -p \"/home/yuncong/CSHL_volumes/atlasV5/atlasV5_down32_scoreVolume_warp20_MD592_prep2_detector15_down32_scoreVolume/score_volumes\"\n",
      "aws s3 cp \"s3://mousebrainatlas-data/CSHL_volumes/atlasV5/atlasV5_down32_scoreVolume_warp20_MD592_prep2_detector15_down32_scoreVolume/score_volumes/atlasV5_down32_scoreVolume_warp20_MD592_prep2_detector15_down32_scoreVolume_7n_R.bp\" \"/home/yuncong/CSHL_volumes/atlasV5/atlasV5_down32_scoreVolume_warp20_MD592_prep2_detector15_down32_scoreVolume/score_volumes/atlasV5_down32_scoreVolume_warp20_MD592_prep2_detector15_down32_scoreVolume_7n_R.bp\"\n"
     ]
    },
    {
     "name": "stderr",
     "output_type": "stream",
     "text": [
      "marching cube: 11.61 seconds\n",
      "mesh_to_polydata: 0.01 seconds\n",
      "simplify 0 @ 8601: 0.06 seconds\n",
      "simplify 1 @ 1722: 0.06 seconds\n",
      "simplify 2 @ 345: 0.01 seconds\n",
      "time: 12.61\n"
     ]
    },
    {
     "name": "stdout",
     "output_type": "stream",
     "text": [
      "Amb_L\n",
      "rm -rf \"/home/yuncong/CSHL_volumes/atlasV5/atlasV5_down32_scoreVolume_warp20_MD592_prep2_detector15_down32_scoreVolume/score_volumes/atlasV5_down32_scoreVolume_warp20_MD592_prep2_detector15_down32_scoreVolume_Amb_L.bp\" && mkdir -p \"/home/yuncong/CSHL_volumes/atlasV5/atlasV5_down32_scoreVolume_warp20_MD592_prep2_detector15_down32_scoreVolume/score_volumes\"\n",
      "aws s3 cp \"s3://mousebrainatlas-data/CSHL_volumes/atlasV5/atlasV5_down32_scoreVolume_warp20_MD592_prep2_detector15_down32_scoreVolume/score_volumes/atlasV5_down32_scoreVolume_warp20_MD592_prep2_detector15_down32_scoreVolume_Amb_L.bp\" \"/home/yuncong/CSHL_volumes/atlasV5/atlasV5_down32_scoreVolume_warp20_MD592_prep2_detector15_down32_scoreVolume/score_volumes/atlasV5_down32_scoreVolume_warp20_MD592_prep2_detector15_down32_scoreVolume_Amb_L.bp\"\n"
     ]
    },
    {
     "name": "stderr",
     "output_type": "stream",
     "text": [
      "marching cube: 12.70 seconds\n",
      "mesh_to_polydata: 0.01 seconds\n",
      "simplify 0 @ 729: 0.03 seconds\n",
      "simplify 1 @ 147: 0.02 seconds\n",
      "time: 13.60\n"
     ]
    },
    {
     "name": "stdout",
     "output_type": "stream",
     "text": [
      "Amb_R\n",
      "rm -rf \"/home/yuncong/CSHL_volumes/atlasV5/atlasV5_down32_scoreVolume_warp20_MD592_prep2_detector15_down32_scoreVolume/score_volumes/atlasV5_down32_scoreVolume_warp20_MD592_prep2_detector15_down32_scoreVolume_Amb_R.bp\" && mkdir -p \"/home/yuncong/CSHL_volumes/atlasV5/atlasV5_down32_scoreVolume_warp20_MD592_prep2_detector15_down32_scoreVolume/score_volumes\"\n",
      "aws s3 cp \"s3://mousebrainatlas-data/CSHL_volumes/atlasV5/atlasV5_down32_scoreVolume_warp20_MD592_prep2_detector15_down32_scoreVolume/score_volumes/atlasV5_down32_scoreVolume_warp20_MD592_prep2_detector15_down32_scoreVolume_Amb_R.bp\" \"/home/yuncong/CSHL_volumes/atlasV5/atlasV5_down32_scoreVolume_warp20_MD592_prep2_detector15_down32_scoreVolume/score_volumes/atlasV5_down32_scoreVolume_warp20_MD592_prep2_detector15_down32_scoreVolume_Amb_R.bp\"\n"
     ]
    },
    {
     "name": "stderr",
     "output_type": "stream",
     "text": [
      "marching cube: 12.45 seconds\n",
      "mesh_to_polydata: 0.00 seconds\n",
      "simplify 0 @ 714: 0.01 seconds\n",
      "simplify 1 @ 144: 0.00 seconds\n",
      "time: 13.33\n"
     ]
    },
    {
     "name": "stdout",
     "output_type": "stream",
     "text": [
      "LC_L\n",
      "rm -rf \"/home/yuncong/CSHL_volumes/atlasV5/atlasV5_down32_scoreVolume_warp20_MD592_prep2_detector15_down32_scoreVolume/score_volumes/atlasV5_down32_scoreVolume_warp20_MD592_prep2_detector15_down32_scoreVolume_LC_L.bp\" && mkdir -p \"/home/yuncong/CSHL_volumes/atlasV5/atlasV5_down32_scoreVolume_warp20_MD592_prep2_detector15_down32_scoreVolume/score_volumes\"\n",
      "aws s3 cp \"s3://mousebrainatlas-data/CSHL_volumes/atlasV5/atlasV5_down32_scoreVolume_warp20_MD592_prep2_detector15_down32_scoreVolume/score_volumes/atlasV5_down32_scoreVolume_warp20_MD592_prep2_detector15_down32_scoreVolume_LC_L.bp\" \"/home/yuncong/CSHL_volumes/atlasV5/atlasV5_down32_scoreVolume_warp20_MD592_prep2_detector15_down32_scoreVolume/score_volumes/atlasV5_down32_scoreVolume_warp20_MD592_prep2_detector15_down32_scoreVolume_LC_L.bp\"\n"
     ]
    },
    {
     "name": "stderr",
     "output_type": "stream",
     "text": [
      "marching cube: 12.45 seconds\n",
      "mesh_to_polydata: 0.02 seconds\n",
      "simplify 0 @ 3426: 0.10 seconds\n",
      "simplify 1 @ 686: 0.10 seconds\n",
      "simplify 2 @ 138: 0.02 seconds\n",
      "time: 13.55\n"
     ]
    },
    {
     "name": "stdout",
     "output_type": "stream",
     "text": [
      "LC_R\n",
      "rm -rf \"/home/yuncong/CSHL_volumes/atlasV5/atlasV5_down32_scoreVolume_warp20_MD592_prep2_detector15_down32_scoreVolume/score_volumes/atlasV5_down32_scoreVolume_warp20_MD592_prep2_detector15_down32_scoreVolume_LC_R.bp\" && mkdir -p \"/home/yuncong/CSHL_volumes/atlasV5/atlasV5_down32_scoreVolume_warp20_MD592_prep2_detector15_down32_scoreVolume/score_volumes\"\n",
      "aws s3 cp \"s3://mousebrainatlas-data/CSHL_volumes/atlasV5/atlasV5_down32_scoreVolume_warp20_MD592_prep2_detector15_down32_scoreVolume/score_volumes/atlasV5_down32_scoreVolume_warp20_MD592_prep2_detector15_down32_scoreVolume_LC_R.bp\" \"/home/yuncong/CSHL_volumes/atlasV5/atlasV5_down32_scoreVolume_warp20_MD592_prep2_detector15_down32_scoreVolume/score_volumes/atlasV5_down32_scoreVolume_warp20_MD592_prep2_detector15_down32_scoreVolume_LC_R.bp\"\n"
     ]
    },
    {
     "name": "stderr",
     "output_type": "stream",
     "text": [
      "marching cube: 31.84 seconds\n",
      "mesh_to_polydata: 0.02 seconds\n",
      "simplify 0 @ 3437: 0.10 seconds\n",
      "simplify 1 @ 689: 0.10 seconds\n",
      "simplify 2 @ 139: 0.02 seconds\n",
      "time: 33.67\n"
     ]
    },
    {
     "name": "stdout",
     "output_type": "stream",
     "text": [
      "LRt_L\n",
      "rm -rf \"/home/yuncong/CSHL_volumes/atlasV5/atlasV5_down32_scoreVolume_warp20_MD592_prep2_detector15_down32_scoreVolume/score_volumes/atlasV5_down32_scoreVolume_warp20_MD592_prep2_detector15_down32_scoreVolume_LRt_L.bp\" && mkdir -p \"/home/yuncong/CSHL_volumes/atlasV5/atlasV5_down32_scoreVolume_warp20_MD592_prep2_detector15_down32_scoreVolume/score_volumes\"\n",
      "aws s3 cp \"s3://mousebrainatlas-data/CSHL_volumes/atlasV5/atlasV5_down32_scoreVolume_warp20_MD592_prep2_detector15_down32_scoreVolume/score_volumes/atlasV5_down32_scoreVolume_warp20_MD592_prep2_detector15_down32_scoreVolume_LRt_L.bp\" \"/home/yuncong/CSHL_volumes/atlasV5/atlasV5_down32_scoreVolume_warp20_MD592_prep2_detector15_down32_scoreVolume/score_volumes/atlasV5_down32_scoreVolume_warp20_MD592_prep2_detector15_down32_scoreVolume_LRt_L.bp\"\n"
     ]
    },
    {
     "name": "stderr",
     "output_type": "stream",
     "text": [
      "marching cube: 25.93 seconds\n",
      "mesh_to_polydata: 0.01 seconds\n",
      "simplify 0 @ 9553: 0.07 seconds\n",
      "simplify 1 @ 1913: 0.06 seconds\n",
      "simplify 2 @ 384: 0.01 seconds\n",
      "time: 29.75\n"
     ]
    },
    {
     "name": "stdout",
     "output_type": "stream",
     "text": [
      "LRt_R\n",
      "rm -rf \"/home/yuncong/CSHL_volumes/atlasV5/atlasV5_down32_scoreVolume_warp20_MD592_prep2_detector15_down32_scoreVolume/score_volumes/atlasV5_down32_scoreVolume_warp20_MD592_prep2_detector15_down32_scoreVolume_LRt_R.bp\" && mkdir -p \"/home/yuncong/CSHL_volumes/atlasV5/atlasV5_down32_scoreVolume_warp20_MD592_prep2_detector15_down32_scoreVolume/score_volumes\"\n",
      "aws s3 cp \"s3://mousebrainatlas-data/CSHL_volumes/atlasV5/atlasV5_down32_scoreVolume_warp20_MD592_prep2_detector15_down32_scoreVolume/score_volumes/atlasV5_down32_scoreVolume_warp20_MD592_prep2_detector15_down32_scoreVolume_LRt_R.bp\" \"/home/yuncong/CSHL_volumes/atlasV5/atlasV5_down32_scoreVolume_warp20_MD592_prep2_detector15_down32_scoreVolume/score_volumes/atlasV5_down32_scoreVolume_warp20_MD592_prep2_detector15_down32_scoreVolume_LRt_R.bp\"\n"
     ]
    },
    {
     "name": "stderr",
     "output_type": "stream",
     "text": [
      "marching cube: 32.80 seconds\n",
      "mesh_to_polydata: 0.05 seconds\n",
      "simplify 0 @ 9552: 0.28 seconds\n",
      "simplify 1 @ 1912: 0.29 seconds\n",
      "simplify 2 @ 384: 0.07 seconds\n",
      "time: 35.53\n"
     ]
    },
    {
     "name": "stdout",
     "output_type": "stream",
     "text": [
      "Pn_L\n",
      "rm -rf \"/home/yuncong/CSHL_volumes/atlasV5/atlasV5_down32_scoreVolume_warp20_MD592_prep2_detector15_down32_scoreVolume/score_volumes/atlasV5_down32_scoreVolume_warp20_MD592_prep2_detector15_down32_scoreVolume_Pn_L.bp\" && mkdir -p \"/home/yuncong/CSHL_volumes/atlasV5/atlasV5_down32_scoreVolume_warp20_MD592_prep2_detector15_down32_scoreVolume/score_volumes\"\n",
      "aws s3 cp \"s3://mousebrainatlas-data/CSHL_volumes/atlasV5/atlasV5_down32_scoreVolume_warp20_MD592_prep2_detector15_down32_scoreVolume/score_volumes/atlasV5_down32_scoreVolume_warp20_MD592_prep2_detector15_down32_scoreVolume_Pn_L.bp\" \"/home/yuncong/CSHL_volumes/atlasV5/atlasV5_down32_scoreVolume_warp20_MD592_prep2_detector15_down32_scoreVolume/score_volumes/atlasV5_down32_scoreVolume_warp20_MD592_prep2_detector15_down32_scoreVolume_Pn_L.bp\"\n"
     ]
    },
    {
     "name": "stderr",
     "output_type": "stream",
     "text": [
      "marching cube: 37.84 seconds\n",
      "mesh_to_polydata: 0.09 seconds\n",
      "simplify 0 @ 17643: 0.57 seconds\n",
      "simplify 1 @ 3531: 0.51 seconds\n",
      "simplify 2 @ 707: 0.12 seconds\n",
      "time: 42.78\n"
     ]
    },
    {
     "name": "stdout",
     "output_type": "stream",
     "text": [
      "Pn_R\n",
      "rm -rf \"/home/yuncong/CSHL_volumes/atlasV5/atlasV5_down32_scoreVolume_warp20_MD592_prep2_detector15_down32_scoreVolume/score_volumes/atlasV5_down32_scoreVolume_warp20_MD592_prep2_detector15_down32_scoreVolume_Pn_R.bp\" && mkdir -p \"/home/yuncong/CSHL_volumes/atlasV5/atlasV5_down32_scoreVolume_warp20_MD592_prep2_detector15_down32_scoreVolume/score_volumes\"\n",
      "aws s3 cp \"s3://mousebrainatlas-data/CSHL_volumes/atlasV5/atlasV5_down32_scoreVolume_warp20_MD592_prep2_detector15_down32_scoreVolume/score_volumes/atlasV5_down32_scoreVolume_warp20_MD592_prep2_detector15_down32_scoreVolume_Pn_R.bp\" \"/home/yuncong/CSHL_volumes/atlasV5/atlasV5_down32_scoreVolume_warp20_MD592_prep2_detector15_down32_scoreVolume/score_volumes/atlasV5_down32_scoreVolume_warp20_MD592_prep2_detector15_down32_scoreVolume_Pn_R.bp\"\n"
     ]
    },
    {
     "name": "stderr",
     "output_type": "stream",
     "text": [
      "marching cube: 35.78 seconds\n",
      "mesh_to_polydata: 0.09 seconds\n",
      "simplify 0 @ 17557: 0.53 seconds\n",
      "simplify 1 @ 3516: 0.51 seconds\n",
      "simplify 2 @ 704: 0.12 seconds\n",
      "time: 41.25\n"
     ]
    },
    {
     "name": "stdout",
     "output_type": "stream",
     "text": [
      "Tz_L\n",
      "rm -rf \"/home/yuncong/CSHL_volumes/atlasV5/atlasV5_down32_scoreVolume_warp20_MD592_prep2_detector15_down32_scoreVolume/score_volumes/atlasV5_down32_scoreVolume_warp20_MD592_prep2_detector15_down32_scoreVolume_Tz_L.bp\" && mkdir -p \"/home/yuncong/CSHL_volumes/atlasV5/atlasV5_down32_scoreVolume_warp20_MD592_prep2_detector15_down32_scoreVolume/score_volumes\"\n",
      "aws s3 cp \"s3://mousebrainatlas-data/CSHL_volumes/atlasV5/atlasV5_down32_scoreVolume_warp20_MD592_prep2_detector15_down32_scoreVolume/score_volumes/atlasV5_down32_scoreVolume_warp20_MD592_prep2_detector15_down32_scoreVolume_Tz_L.bp\" \"/home/yuncong/CSHL_volumes/atlasV5/atlasV5_down32_scoreVolume_warp20_MD592_prep2_detector15_down32_scoreVolume/score_volumes/atlasV5_down32_scoreVolume_warp20_MD592_prep2_detector15_down32_scoreVolume_Tz_L.bp\"\n"
     ]
    },
    {
     "name": "stderr",
     "output_type": "stream",
     "text": [
      "marching cube: 35.83 seconds\n",
      "mesh_to_polydata: 0.03 seconds\n",
      "simplify 0 @ 5038: 0.16 seconds\n",
      "simplify 1 @ 1009: 0.13 seconds\n",
      "simplify 2 @ 203: 0.03 seconds\n",
      "time: 40.28\n"
     ]
    },
    {
     "name": "stdout",
     "output_type": "stream",
     "text": [
      "Tz_R\n",
      "rm -rf \"/home/yuncong/CSHL_volumes/atlasV5/atlasV5_down32_scoreVolume_warp20_MD592_prep2_detector15_down32_scoreVolume/score_volumes/atlasV5_down32_scoreVolume_warp20_MD592_prep2_detector15_down32_scoreVolume_Tz_R.bp\" && mkdir -p \"/home/yuncong/CSHL_volumes/atlasV5/atlasV5_down32_scoreVolume_warp20_MD592_prep2_detector15_down32_scoreVolume/score_volumes\"\n",
      "aws s3 cp \"s3://mousebrainatlas-data/CSHL_volumes/atlasV5/atlasV5_down32_scoreVolume_warp20_MD592_prep2_detector15_down32_scoreVolume/score_volumes/atlasV5_down32_scoreVolume_warp20_MD592_prep2_detector15_down32_scoreVolume_Tz_R.bp\" \"/home/yuncong/CSHL_volumes/atlasV5/atlasV5_down32_scoreVolume_warp20_MD592_prep2_detector15_down32_scoreVolume/score_volumes/atlasV5_down32_scoreVolume_warp20_MD592_prep2_detector15_down32_scoreVolume_Tz_R.bp\"\n"
     ]
    },
    {
     "name": "stderr",
     "output_type": "stream",
     "text": [
      "marching cube: 36.11 seconds\n",
      "mesh_to_polydata: 0.03 seconds\n",
      "simplify 0 @ 5181: 0.18 seconds\n",
      "simplify 1 @ 1038: 0.16 seconds\n",
      "simplify 2 @ 209: 0.04 seconds\n",
      "time: 40.83\n"
     ]
    },
    {
     "name": "stdout",
     "output_type": "stream",
     "text": [
      "VLL_L\n",
      "rm -rf \"/home/yuncong/CSHL_volumes/atlasV5/atlasV5_down32_scoreVolume_warp20_MD592_prep2_detector15_down32_scoreVolume/score_volumes/atlasV5_down32_scoreVolume_warp20_MD592_prep2_detector15_down32_scoreVolume_VLL_L.bp\" && mkdir -p \"/home/yuncong/CSHL_volumes/atlasV5/atlasV5_down32_scoreVolume_warp20_MD592_prep2_detector15_down32_scoreVolume/score_volumes\"\n",
      "aws s3 cp \"s3://mousebrainatlas-data/CSHL_volumes/atlasV5/atlasV5_down32_scoreVolume_warp20_MD592_prep2_detector15_down32_scoreVolume/score_volumes/atlasV5_down32_scoreVolume_warp20_MD592_prep2_detector15_down32_scoreVolume_VLL_L.bp\" \"/home/yuncong/CSHL_volumes/atlasV5/atlasV5_down32_scoreVolume_warp20_MD592_prep2_detector15_down32_scoreVolume/score_volumes/atlasV5_down32_scoreVolume_warp20_MD592_prep2_detector15_down32_scoreVolume_VLL_L.bp\"\n"
     ]
    },
    {
     "name": "stderr",
     "output_type": "stream",
     "text": [
      "marching cube: 36.54 seconds\n",
      "mesh_to_polydata: 0.06 seconds\n",
      "simplify 0 @ 10876: 0.35 seconds\n",
      "simplify 1 @ 2176: 0.31 seconds\n",
      "simplify 2 @ 436: 0.08 seconds\n",
      "time: 41.81\n"
     ]
    },
    {
     "name": "stdout",
     "output_type": "stream",
     "text": [
      "VLL_R\n",
      "rm -rf \"/home/yuncong/CSHL_volumes/atlasV5/atlasV5_down32_scoreVolume_warp20_MD592_prep2_detector15_down32_scoreVolume/score_volumes/atlasV5_down32_scoreVolume_warp20_MD592_prep2_detector15_down32_scoreVolume_VLL_R.bp\" && mkdir -p \"/home/yuncong/CSHL_volumes/atlasV5/atlasV5_down32_scoreVolume_warp20_MD592_prep2_detector15_down32_scoreVolume/score_volumes\"\n",
      "aws s3 cp \"s3://mousebrainatlas-data/CSHL_volumes/atlasV5/atlasV5_down32_scoreVolume_warp20_MD592_prep2_detector15_down32_scoreVolume/score_volumes/atlasV5_down32_scoreVolume_warp20_MD592_prep2_detector15_down32_scoreVolume_VLL_R.bp\" \"/home/yuncong/CSHL_volumes/atlasV5/atlasV5_down32_scoreVolume_warp20_MD592_prep2_detector15_down32_scoreVolume/score_volumes/atlasV5_down32_scoreVolume_warp20_MD592_prep2_detector15_down32_scoreVolume_VLL_R.bp\"\n"
     ]
    },
    {
     "name": "stderr",
     "output_type": "stream",
     "text": [
      "marching cube: 31.43 seconds\n",
      "mesh_to_polydata: 0.01 seconds\n",
      "simplify 0 @ 10398: 0.09 seconds\n",
      "simplify 1 @ 2081: 0.07 seconds\n",
      "simplify 2 @ 417: 0.02 seconds\n",
      "time: 36.05\n"
     ]
    },
    {
     "name": "stdout",
     "output_type": "stream",
     "text": [
      "RMC_L\n",
      "rm -rf \"/home/yuncong/CSHL_volumes/atlasV5/atlasV5_down32_scoreVolume_warp20_MD592_prep2_detector15_down32_scoreVolume/score_volumes/atlasV5_down32_scoreVolume_warp20_MD592_prep2_detector15_down32_scoreVolume_RMC_L.bp\" && mkdir -p \"/home/yuncong/CSHL_volumes/atlasV5/atlasV5_down32_scoreVolume_warp20_MD592_prep2_detector15_down32_scoreVolume/score_volumes\"\n",
      "aws s3 cp \"s3://mousebrainatlas-data/CSHL_volumes/atlasV5/atlasV5_down32_scoreVolume_warp20_MD592_prep2_detector15_down32_scoreVolume/score_volumes/atlasV5_down32_scoreVolume_warp20_MD592_prep2_detector15_down32_scoreVolume_RMC_L.bp\" \"/home/yuncong/CSHL_volumes/atlasV5/atlasV5_down32_scoreVolume_warp20_MD592_prep2_detector15_down32_scoreVolume/score_volumes/atlasV5_down32_scoreVolume_warp20_MD592_prep2_detector15_down32_scoreVolume_RMC_L.bp\"\n"
     ]
    },
    {
     "name": "stderr",
     "output_type": "stream",
     "text": [
      "marching cube: 21.61 seconds\n",
      "mesh_to_polydata: 0.03 seconds\n",
      "simplify 0 @ 5261: 0.15 seconds\n",
      "simplify 1 @ 1053: 0.16 seconds\n",
      "simplify 2 @ 212: 0.04 seconds\n",
      "time: 25.16\n"
     ]
    },
    {
     "name": "stdout",
     "output_type": "stream",
     "text": [
      "RMC_R\n",
      "rm -rf \"/home/yuncong/CSHL_volumes/atlasV5/atlasV5_down32_scoreVolume_warp20_MD592_prep2_detector15_down32_scoreVolume/score_volumes/atlasV5_down32_scoreVolume_warp20_MD592_prep2_detector15_down32_scoreVolume_RMC_R.bp\" && mkdir -p \"/home/yuncong/CSHL_volumes/atlasV5/atlasV5_down32_scoreVolume_warp20_MD592_prep2_detector15_down32_scoreVolume/score_volumes\"\n",
      "aws s3 cp \"s3://mousebrainatlas-data/CSHL_volumes/atlasV5/atlasV5_down32_scoreVolume_warp20_MD592_prep2_detector15_down32_scoreVolume/score_volumes/atlasV5_down32_scoreVolume_warp20_MD592_prep2_detector15_down32_scoreVolume_RMC_R.bp\" \"/home/yuncong/CSHL_volumes/atlasV5/atlasV5_down32_scoreVolume_warp20_MD592_prep2_detector15_down32_scoreVolume/score_volumes/atlasV5_down32_scoreVolume_warp20_MD592_prep2_detector15_down32_scoreVolume_RMC_R.bp\"\n"
     ]
    },
    {
     "name": "stderr",
     "output_type": "stream",
     "text": [
      "marching cube: 34.11 seconds\n",
      "mesh_to_polydata: 0.01 seconds\n",
      "simplify 0 @ 5238: 0.03 seconds\n",
      "simplify 1 @ 1049: 0.03 seconds\n",
      "simplify 2 @ 211: 0.01 seconds\n",
      "time: 37.74\n"
     ]
    },
    {
     "name": "stdout",
     "output_type": "stream",
     "text": [
      "SNC_L\n",
      "rm -rf \"/home/yuncong/CSHL_volumes/atlasV5/atlasV5_down32_scoreVolume_warp20_MD592_prep2_detector15_down32_scoreVolume/score_volumes/atlasV5_down32_scoreVolume_warp20_MD592_prep2_detector15_down32_scoreVolume_SNC_L.bp\" && mkdir -p \"/home/yuncong/CSHL_volumes/atlasV5/atlasV5_down32_scoreVolume_warp20_MD592_prep2_detector15_down32_scoreVolume/score_volumes\"\n",
      "aws s3 cp \"s3://mousebrainatlas-data/CSHL_volumes/atlasV5/atlasV5_down32_scoreVolume_warp20_MD592_prep2_detector15_down32_scoreVolume/score_volumes/atlasV5_down32_scoreVolume_warp20_MD592_prep2_detector15_down32_scoreVolume_SNC_L.bp\" \"/home/yuncong/CSHL_volumes/atlasV5/atlasV5_down32_scoreVolume_warp20_MD592_prep2_detector15_down32_scoreVolume/score_volumes/atlasV5_down32_scoreVolume_warp20_MD592_prep2_detector15_down32_scoreVolume_SNC_L.bp\"\n"
     ]
    },
    {
     "name": "stderr",
     "output_type": "stream",
     "text": [
      "marching cube: 15.46 seconds\n",
      "mesh_to_polydata: 0.01 seconds\n",
      "simplify 0 @ 5688: 0.03 seconds\n",
      "simplify 1 @ 1139: 0.03 seconds\n",
      "simplify 2 @ 229: 0.01 seconds\n",
      "time: 18.86\n"
     ]
    },
    {
     "name": "stdout",
     "output_type": "stream",
     "text": [
      "SNC_R\n",
      "rm -rf \"/home/yuncong/CSHL_volumes/atlasV5/atlasV5_down32_scoreVolume_warp20_MD592_prep2_detector15_down32_scoreVolume/score_volumes/atlasV5_down32_scoreVolume_warp20_MD592_prep2_detector15_down32_scoreVolume_SNC_R.bp\" && mkdir -p \"/home/yuncong/CSHL_volumes/atlasV5/atlasV5_down32_scoreVolume_warp20_MD592_prep2_detector15_down32_scoreVolume/score_volumes\"\n",
      "aws s3 cp \"s3://mousebrainatlas-data/CSHL_volumes/atlasV5/atlasV5_down32_scoreVolume_warp20_MD592_prep2_detector15_down32_scoreVolume/score_volumes/atlasV5_down32_scoreVolume_warp20_MD592_prep2_detector15_down32_scoreVolume_SNC_R.bp\" \"/home/yuncong/CSHL_volumes/atlasV5/atlasV5_down32_scoreVolume_warp20_MD592_prep2_detector15_down32_scoreVolume/score_volumes/atlasV5_down32_scoreVolume_warp20_MD592_prep2_detector15_down32_scoreVolume_SNC_R.bp\"\n"
     ]
    },
    {
     "name": "stderr",
     "output_type": "stream",
     "text": [
      "marching cube: 14.85 seconds\n",
      "mesh_to_polydata: 0.01 seconds\n",
      "simplify 0 @ 5915: 0.04 seconds\n",
      "simplify 1 @ 1185: 0.04 seconds\n",
      "simplify 2 @ 238: 0.01 seconds\n",
      "time: 16.22\n"
     ]
    },
    {
     "name": "stdout",
     "output_type": "stream",
     "text": [
      "SNR_L\n",
      "rm -rf \"/home/yuncong/CSHL_volumes/atlasV5/atlasV5_down32_scoreVolume_warp20_MD592_prep2_detector15_down32_scoreVolume/score_volumes/atlasV5_down32_scoreVolume_warp20_MD592_prep2_detector15_down32_scoreVolume_SNR_L.bp\" && mkdir -p \"/home/yuncong/CSHL_volumes/atlasV5/atlasV5_down32_scoreVolume_warp20_MD592_prep2_detector15_down32_scoreVolume/score_volumes\"\n",
      "aws s3 cp \"s3://mousebrainatlas-data/CSHL_volumes/atlasV5/atlasV5_down32_scoreVolume_warp20_MD592_prep2_detector15_down32_scoreVolume/score_volumes/atlasV5_down32_scoreVolume_warp20_MD592_prep2_detector15_down32_scoreVolume_SNR_L.bp\" \"/home/yuncong/CSHL_volumes/atlasV5/atlasV5_down32_scoreVolume_warp20_MD592_prep2_detector15_down32_scoreVolume/score_volumes/atlasV5_down32_scoreVolume_warp20_MD592_prep2_detector15_down32_scoreVolume_SNR_L.bp\"\n"
     ]
    },
    {
     "name": "stderr",
     "output_type": "stream",
     "text": [
      "marching cube: 12.91 seconds\n",
      "mesh_to_polydata: 0.03 seconds\n",
      "simplify 0 @ 27657: 0.20 seconds\n",
      "simplify 1 @ 5533: 0.24 seconds\n",
      "simplify 2 @ 1108: 0.05 seconds\n",
      "time: 14.58\n"
     ]
    },
    {
     "name": "stdout",
     "output_type": "stream",
     "text": [
      "SNR_R\n",
      "rm -rf \"/home/yuncong/CSHL_volumes/atlasV5/atlasV5_down32_scoreVolume_warp20_MD592_prep2_detector15_down32_scoreVolume/score_volumes/atlasV5_down32_scoreVolume_warp20_MD592_prep2_detector15_down32_scoreVolume_SNR_R.bp\" && mkdir -p \"/home/yuncong/CSHL_volumes/atlasV5/atlasV5_down32_scoreVolume_warp20_MD592_prep2_detector15_down32_scoreVolume/score_volumes\"\n",
      "aws s3 cp \"s3://mousebrainatlas-data/CSHL_volumes/atlasV5/atlasV5_down32_scoreVolume_warp20_MD592_prep2_detector15_down32_scoreVolume/score_volumes/atlasV5_down32_scoreVolume_warp20_MD592_prep2_detector15_down32_scoreVolume_SNR_R.bp\" \"/home/yuncong/CSHL_volumes/atlasV5/atlasV5_down32_scoreVolume_warp20_MD592_prep2_detector15_down32_scoreVolume/score_volumes/atlasV5_down32_scoreVolume_warp20_MD592_prep2_detector15_down32_scoreVolume_SNR_R.bp\"\n"
     ]
    },
    {
     "name": "stderr",
     "output_type": "stream",
     "text": [
      "marching cube: 11.90 seconds\n",
      "mesh_to_polydata: 0.04 seconds\n",
      "simplify 0 @ 27939: 0.20 seconds\n",
      "simplify 1 @ 5589: 0.25 seconds\n",
      "simplify 2 @ 1119: 0.05 seconds\n",
      "time: 13.63\n"
     ]
    },
    {
     "name": "stdout",
     "output_type": "stream",
     "text": [
      "3N_L\n",
      "rm -rf \"/home/yuncong/CSHL_volumes/atlasV5/atlasV5_down32_scoreVolume_warp20_MD592_prep2_detector15_down32_scoreVolume/score_volumes/atlasV5_down32_scoreVolume_warp20_MD592_prep2_detector15_down32_scoreVolume_3N_L.bp\" && mkdir -p \"/home/yuncong/CSHL_volumes/atlasV5/atlasV5_down32_scoreVolume_warp20_MD592_prep2_detector15_down32_scoreVolume/score_volumes\"\n",
      "aws s3 cp \"s3://mousebrainatlas-data/CSHL_volumes/atlasV5/atlasV5_down32_scoreVolume_warp20_MD592_prep2_detector15_down32_scoreVolume/score_volumes/atlasV5_down32_scoreVolume_warp20_MD592_prep2_detector15_down32_scoreVolume_3N_L.bp\" \"/home/yuncong/CSHL_volumes/atlasV5/atlasV5_down32_scoreVolume_warp20_MD592_prep2_detector15_down32_scoreVolume/score_volumes/atlasV5_down32_scoreVolume_warp20_MD592_prep2_detector15_down32_scoreVolume_3N_L.bp\"\n"
     ]
    },
    {
     "name": "stderr",
     "output_type": "stream",
     "text": [
      "marching cube: 12.45 seconds\n",
      "mesh_to_polydata: 0.00 seconds\n",
      "simplify 0 @ 2232: 0.02 seconds\n",
      "simplify 1 @ 448: 0.02 seconds\n",
      "simplify 2 @ 91: 0.00 seconds\n",
      "time: 13.63\n"
     ]
    },
    {
     "name": "stdout",
     "output_type": "stream",
     "text": [
      "3N_R\n",
      "rm -rf \"/home/yuncong/CSHL_volumes/atlasV5/atlasV5_down32_scoreVolume_warp20_MD592_prep2_detector15_down32_scoreVolume/score_volumes/atlasV5_down32_scoreVolume_warp20_MD592_prep2_detector15_down32_scoreVolume_3N_R.bp\" && mkdir -p \"/home/yuncong/CSHL_volumes/atlasV5/atlasV5_down32_scoreVolume_warp20_MD592_prep2_detector15_down32_scoreVolume/score_volumes\"\n",
      "aws s3 cp \"s3://mousebrainatlas-data/CSHL_volumes/atlasV5/atlasV5_down32_scoreVolume_warp20_MD592_prep2_detector15_down32_scoreVolume/score_volumes/atlasV5_down32_scoreVolume_warp20_MD592_prep2_detector15_down32_scoreVolume_3N_R.bp\" \"/home/yuncong/CSHL_volumes/atlasV5/atlasV5_down32_scoreVolume_warp20_MD592_prep2_detector15_down32_scoreVolume/score_volumes/atlasV5_down32_scoreVolume_warp20_MD592_prep2_detector15_down32_scoreVolume_3N_R.bp\"\n"
     ]
    },
    {
     "name": "stderr",
     "output_type": "stream",
     "text": [
      "marching cube: 11.62 seconds\n",
      "mesh_to_polydata: 0.01 seconds\n",
      "simplify 0 @ 2201: 0.07 seconds\n",
      "simplify 1 @ 441: 0.06 seconds\n",
      "simplify 2 @ 89: 0.02 seconds\n",
      "time: 12.90\n"
     ]
    },
    {
     "name": "stdout",
     "output_type": "stream",
     "text": [
      "4N_L\n",
      "rm -rf \"/home/yuncong/CSHL_volumes/atlasV5/atlasV5_down32_scoreVolume_warp20_MD592_prep2_detector15_down32_scoreVolume/score_volumes/atlasV5_down32_scoreVolume_warp20_MD592_prep2_detector15_down32_scoreVolume_4N_L.bp\" && mkdir -p \"/home/yuncong/CSHL_volumes/atlasV5/atlasV5_down32_scoreVolume_warp20_MD592_prep2_detector15_down32_scoreVolume/score_volumes\"\n",
      "aws s3 cp \"s3://mousebrainatlas-data/CSHL_volumes/atlasV5/atlasV5_down32_scoreVolume_warp20_MD592_prep2_detector15_down32_scoreVolume/score_volumes/atlasV5_down32_scoreVolume_warp20_MD592_prep2_detector15_down32_scoreVolume_4N_L.bp\" \"/home/yuncong/CSHL_volumes/atlasV5/atlasV5_down32_scoreVolume_warp20_MD592_prep2_detector15_down32_scoreVolume/score_volumes/atlasV5_down32_scoreVolume_warp20_MD592_prep2_detector15_down32_scoreVolume_4N_L.bp\"\n"
     ]
    },
    {
     "name": "stderr",
     "output_type": "stream",
     "text": [
      "marching cube: 11.26 seconds\n",
      "mesh_to_polydata: 0.00 seconds\n",
      "simplify 0 @ 378: 0.00 seconds\n",
      "simplify 1 @ 77: 0.00 seconds\n",
      "time: 12.40\n"
     ]
    },
    {
     "name": "stdout",
     "output_type": "stream",
     "text": [
      "4N_R\n",
      "rm -rf \"/home/yuncong/CSHL_volumes/atlasV5/atlasV5_down32_scoreVolume_warp20_MD592_prep2_detector15_down32_scoreVolume/score_volumes/atlasV5_down32_scoreVolume_warp20_MD592_prep2_detector15_down32_scoreVolume_4N_R.bp\" && mkdir -p \"/home/yuncong/CSHL_volumes/atlasV5/atlasV5_down32_scoreVolume_warp20_MD592_prep2_detector15_down32_scoreVolume/score_volumes\"\n",
      "aws s3 cp \"s3://mousebrainatlas-data/CSHL_volumes/atlasV5/atlasV5_down32_scoreVolume_warp20_MD592_prep2_detector15_down32_scoreVolume/score_volumes/atlasV5_down32_scoreVolume_warp20_MD592_prep2_detector15_down32_scoreVolume_4N_R.bp\" \"/home/yuncong/CSHL_volumes/atlasV5/atlasV5_down32_scoreVolume_warp20_MD592_prep2_detector15_down32_scoreVolume/score_volumes/atlasV5_down32_scoreVolume_warp20_MD592_prep2_detector15_down32_scoreVolume_4N_R.bp\"\n"
     ]
    },
    {
     "name": "stderr",
     "output_type": "stream",
     "text": [
      "marching cube: 12.17 seconds\n",
      "mesh_to_polydata: 0.00 seconds\n",
      "simplify 0 @ 371: 0.00 seconds\n",
      "simplify 1 @ 75: 0.00 seconds\n",
      "time: 13.34\n"
     ]
    },
    {
     "name": "stdout",
     "output_type": "stream",
     "text": [
      "Sp5I_L\n",
      "rm -rf \"/home/yuncong/CSHL_volumes/atlasV5/atlasV5_down32_scoreVolume_warp20_MD592_prep2_detector15_down32_scoreVolume/score_volumes/atlasV5_down32_scoreVolume_warp20_MD592_prep2_detector15_down32_scoreVolume_Sp5I_L.bp\" && mkdir -p \"/home/yuncong/CSHL_volumes/atlasV5/atlasV5_down32_scoreVolume_warp20_MD592_prep2_detector15_down32_scoreVolume/score_volumes\"\n",
      "aws s3 cp \"s3://mousebrainatlas-data/CSHL_volumes/atlasV5/atlasV5_down32_scoreVolume_warp20_MD592_prep2_detector15_down32_scoreVolume/score_volumes/atlasV5_down32_scoreVolume_warp20_MD592_prep2_detector15_down32_scoreVolume_Sp5I_L.bp\" \"/home/yuncong/CSHL_volumes/atlasV5/atlasV5_down32_scoreVolume_warp20_MD592_prep2_detector15_down32_scoreVolume/score_volumes/atlasV5_down32_scoreVolume_warp20_MD592_prep2_detector15_down32_scoreVolume_Sp5I_L.bp\"\n"
     ]
    },
    {
     "name": "stderr",
     "output_type": "stream",
     "text": [
      "marching cube: 10.54 seconds\n",
      "mesh_to_polydata: 0.02 seconds\n",
      "simplify 0 @ 9582: 0.11 seconds\n",
      "simplify 1 @ 1918: 0.09 seconds\n",
      "simplify 2 @ 385: 0.02 seconds\n",
      "time: 11.93\n"
     ]
    },
    {
     "name": "stdout",
     "output_type": "stream",
     "text": [
      "Sp5I_R\n",
      "rm -rf \"/home/yuncong/CSHL_volumes/atlasV5/atlasV5_down32_scoreVolume_warp20_MD592_prep2_detector15_down32_scoreVolume/score_volumes/atlasV5_down32_scoreVolume_warp20_MD592_prep2_detector15_down32_scoreVolume_Sp5I_R.bp\" && mkdir -p \"/home/yuncong/CSHL_volumes/atlasV5/atlasV5_down32_scoreVolume_warp20_MD592_prep2_detector15_down32_scoreVolume/score_volumes\"\n",
      "aws s3 cp \"s3://mousebrainatlas-data/CSHL_volumes/atlasV5/atlasV5_down32_scoreVolume_warp20_MD592_prep2_detector15_down32_scoreVolume/score_volumes/atlasV5_down32_scoreVolume_warp20_MD592_prep2_detector15_down32_scoreVolume_Sp5I_R.bp\" \"/home/yuncong/CSHL_volumes/atlasV5/atlasV5_down32_scoreVolume_warp20_MD592_prep2_detector15_down32_scoreVolume/score_volumes/atlasV5_down32_scoreVolume_warp20_MD592_prep2_detector15_down32_scoreVolume_Sp5I_R.bp\"\n"
     ]
    },
    {
     "name": "stderr",
     "output_type": "stream",
     "text": [
      "marching cube: 11.37 seconds\n",
      "mesh_to_polydata: 0.02 seconds\n",
      "simplify 0 @ 9350: 0.11 seconds\n",
      "simplify 1 @ 1872: 0.09 seconds\n",
      "simplify 2 @ 375: 0.02 seconds\n",
      "time: 12.74\n"
     ]
    },
    {
     "name": "stdout",
     "output_type": "stream",
     "text": [
      "Sp5O_L\n",
      "rm -rf \"/home/yuncong/CSHL_volumes/atlasV5/atlasV5_down32_scoreVolume_warp20_MD592_prep2_detector15_down32_scoreVolume/score_volumes/atlasV5_down32_scoreVolume_warp20_MD592_prep2_detector15_down32_scoreVolume_Sp5O_L.bp\" && mkdir -p \"/home/yuncong/CSHL_volumes/atlasV5/atlasV5_down32_scoreVolume_warp20_MD592_prep2_detector15_down32_scoreVolume/score_volumes\"\n",
      "aws s3 cp \"s3://mousebrainatlas-data/CSHL_volumes/atlasV5/atlasV5_down32_scoreVolume_warp20_MD592_prep2_detector15_down32_scoreVolume/score_volumes/atlasV5_down32_scoreVolume_warp20_MD592_prep2_detector15_down32_scoreVolume_Sp5O_L.bp\" \"/home/yuncong/CSHL_volumes/atlasV5/atlasV5_down32_scoreVolume_warp20_MD592_prep2_detector15_down32_scoreVolume/score_volumes/atlasV5_down32_scoreVolume_warp20_MD592_prep2_detector15_down32_scoreVolume_Sp5O_L.bp\"\n"
     ]
    },
    {
     "name": "stderr",
     "output_type": "stream",
     "text": [
      "marching cube: 9.10 seconds\n",
      "mesh_to_polydata: 0.02 seconds\n",
      "simplify 0 @ 11592: 0.14 seconds\n",
      "simplify 1 @ 2320: 0.10 seconds\n",
      "simplify 2 @ 465: 0.02 seconds\n",
      "time: 10.61\n"
     ]
    },
    {
     "name": "stdout",
     "output_type": "stream",
     "text": [
      "Sp5O_R\n",
      "rm -rf \"/home/yuncong/CSHL_volumes/atlasV5/atlasV5_down32_scoreVolume_warp20_MD592_prep2_detector15_down32_scoreVolume/score_volumes/atlasV5_down32_scoreVolume_warp20_MD592_prep2_detector15_down32_scoreVolume_Sp5O_R.bp\" && mkdir -p \"/home/yuncong/CSHL_volumes/atlasV5/atlasV5_down32_scoreVolume_warp20_MD592_prep2_detector15_down32_scoreVolume/score_volumes\"\n",
      "aws s3 cp \"s3://mousebrainatlas-data/CSHL_volumes/atlasV5/atlasV5_down32_scoreVolume_warp20_MD592_prep2_detector15_down32_scoreVolume/score_volumes/atlasV5_down32_scoreVolume_warp20_MD592_prep2_detector15_down32_scoreVolume_Sp5O_R.bp\" \"/home/yuncong/CSHL_volumes/atlasV5/atlasV5_down32_scoreVolume_warp20_MD592_prep2_detector15_down32_scoreVolume/score_volumes/atlasV5_down32_scoreVolume_warp20_MD592_prep2_detector15_down32_scoreVolume_Sp5O_R.bp\"\n"
     ]
    },
    {
     "name": "stderr",
     "output_type": "stream",
     "text": [
      "marching cube: 8.22 seconds\n",
      "mesh_to_polydata: 0.02 seconds\n",
      "simplify 0 @ 11268: 0.12 seconds\n"
     ]
    },
    {
     "name": "stdout",
     "output_type": "stream",
     "text": [
      "Sp5C_L\n",
      "rm -rf \"/home/yuncong/CSHL_volumes/atlasV5/atlasV5_down32_scoreVolume_warp20_MD592_prep2_detector15_down32_scoreVolume/score_volumes/atlasV5_down32_scoreVolume_warp20_MD592_prep2_detector15_down32_scoreVolume_Sp5C_L.bp\" && mkdir -p \"/home/yuncong/CSHL_volumes/atlasV5/atlasV5_down32_scoreVolume_warp20_MD592_prep2_detector15_down32_scoreVolume/score_volumes\"\n",
      "aws s3 cp \"s3://mousebrainatlas-data/CSHL_volumes/atlasV5/atlasV5_down32_scoreVolume_warp20_MD592_prep2_detector15_down32_scoreVolume/score_volumes/atlasV5_down32_scoreVolume_warp20_MD592_prep2_detector15_down32_scoreVolume_Sp5C_L.bp\" \"/home/yuncong/CSHL_volumes/atlasV5/atlasV5_down32_scoreVolume_warp20_MD592_prep2_detector15_down32_scoreVolume/score_volumes/atlasV5_down32_scoreVolume_warp20_MD592_prep2_detector15_down32_scoreVolume_Sp5C_L.bp\"\n"
     ]
    },
    {
     "name": "stderr",
     "output_type": "stream",
     "text": [
      "simplify 1 @ 2255: 0.08 seconds\n",
      "simplify 2 @ 452: 0.02 seconds\n",
      "time: 9.78\n",
      "marching cube: 8.21 seconds\n",
      "mesh_to_polydata: 0.04 seconds\n",
      "simplify 0 @ 28978: 0.22 seconds\n",
      "simplify 1 @ 5797: 0.25 seconds\n",
      "simplify 2 @ 1161: 0.05 seconds\n",
      "time: 9.91\n"
     ]
    },
    {
     "name": "stdout",
     "output_type": "stream",
     "text": [
      "Sp5C_R\n",
      "rm -rf \"/home/yuncong/CSHL_volumes/atlasV5/atlasV5_down32_scoreVolume_warp20_MD592_prep2_detector15_down32_scoreVolume/score_volumes/atlasV5_down32_scoreVolume_warp20_MD592_prep2_detector15_down32_scoreVolume_Sp5C_R.bp\" && mkdir -p \"/home/yuncong/CSHL_volumes/atlasV5/atlasV5_down32_scoreVolume_warp20_MD592_prep2_detector15_down32_scoreVolume/score_volumes\"\n",
      "aws s3 cp \"s3://mousebrainatlas-data/CSHL_volumes/atlasV5/atlasV5_down32_scoreVolume_warp20_MD592_prep2_detector15_down32_scoreVolume/score_volumes/atlasV5_down32_scoreVolume_warp20_MD592_prep2_detector15_down32_scoreVolume_Sp5C_R.bp\" \"/home/yuncong/CSHL_volumes/atlasV5/atlasV5_down32_scoreVolume_warp20_MD592_prep2_detector15_down32_scoreVolume/score_volumes/atlasV5_down32_scoreVolume_warp20_MD592_prep2_detector15_down32_scoreVolume_Sp5C_R.bp\"\n"
     ]
    },
    {
     "name": "stderr",
     "output_type": "stream",
     "text": [
      "marching cube: 8.24 seconds\n",
      "mesh_to_polydata: 0.05 seconds\n",
      "simplify 0 @ 29914: 0.27 seconds\n",
      "simplify 1 @ 5984: 0.44 seconds\n",
      "simplify 2 @ 1198: 0.10 seconds\n",
      "time: 10.29\n"
     ]
    },
    {
     "name": "stdout",
     "output_type": "stream",
     "text": [
      "PBG_L\n",
      "rm -rf \"/home/yuncong/CSHL_volumes/atlasV5/atlasV5_down32_scoreVolume_warp20_MD592_prep2_detector15_down32_scoreVolume/score_volumes/atlasV5_down32_scoreVolume_warp20_MD592_prep2_detector15_down32_scoreVolume_PBG_L.bp\" && mkdir -p \"/home/yuncong/CSHL_volumes/atlasV5/atlasV5_down32_scoreVolume_warp20_MD592_prep2_detector15_down32_scoreVolume/score_volumes\"\n",
      "aws s3 cp \"s3://mousebrainatlas-data/CSHL_volumes/atlasV5/atlasV5_down32_scoreVolume_warp20_MD592_prep2_detector15_down32_scoreVolume/score_volumes/atlasV5_down32_scoreVolume_warp20_MD592_prep2_detector15_down32_scoreVolume_PBG_L.bp\" \"/home/yuncong/CSHL_volumes/atlasV5/atlasV5_down32_scoreVolume_warp20_MD592_prep2_detector15_down32_scoreVolume/score_volumes/atlasV5_down32_scoreVolume_warp20_MD592_prep2_detector15_down32_scoreVolume_PBG_L.bp\"\n"
     ]
    },
    {
     "name": "stderr",
     "output_type": "stream",
     "text": [
      "marching cube: 10.35 seconds\n",
      "mesh_to_polydata: 0.00 seconds\n",
      "simplify 0 @ 1507: 0.01 seconds\n",
      "simplify 1 @ 303: 0.01 seconds\n",
      "simplify 2 @ 62: 0.00 seconds\n",
      "time: 12.12\n"
     ]
    },
    {
     "name": "stdout",
     "output_type": "stream",
     "text": [
      "PBG_R\n",
      "rm -rf \"/home/yuncong/CSHL_volumes/atlasV5/atlasV5_down32_scoreVolume_warp20_MD592_prep2_detector15_down32_scoreVolume/score_volumes/atlasV5_down32_scoreVolume_warp20_MD592_prep2_detector15_down32_scoreVolume_PBG_R.bp\" && mkdir -p \"/home/yuncong/CSHL_volumes/atlasV5/atlasV5_down32_scoreVolume_warp20_MD592_prep2_detector15_down32_scoreVolume/score_volumes\"\n",
      "aws s3 cp \"s3://mousebrainatlas-data/CSHL_volumes/atlasV5/atlasV5_down32_scoreVolume_warp20_MD592_prep2_detector15_down32_scoreVolume/score_volumes/atlasV5_down32_scoreVolume_warp20_MD592_prep2_detector15_down32_scoreVolume_PBG_R.bp\" \"/home/yuncong/CSHL_volumes/atlasV5/atlasV5_down32_scoreVolume_warp20_MD592_prep2_detector15_down32_scoreVolume/score_volumes/atlasV5_down32_scoreVolume_warp20_MD592_prep2_detector15_down32_scoreVolume_PBG_R.bp\"\n"
     ]
    },
    {
     "name": "stderr",
     "output_type": "stream",
     "text": [
      "marching cube: 10.38 seconds\n",
      "mesh_to_polydata: 0.00 seconds\n",
      "simplify 0 @ 1450: 0.01 seconds\n",
      "simplify 1 @ 291: 0.01 seconds\n",
      "simplify 2 @ 59: 0.00 seconds\n",
      "time: 11.53\n"
     ]
    },
    {
     "name": "stdout",
     "output_type": "stream",
     "text": [
      "10N_L\n",
      "rm -rf \"/home/yuncong/CSHL_volumes/atlasV5/atlasV5_down32_scoreVolume_warp20_MD592_prep2_detector15_down32_scoreVolume/score_volumes/atlasV5_down32_scoreVolume_warp20_MD592_prep2_detector15_down32_scoreVolume_10N_L.bp\" && mkdir -p \"/home/yuncong/CSHL_volumes/atlasV5/atlasV5_down32_scoreVolume_warp20_MD592_prep2_detector15_down32_scoreVolume/score_volumes\"\n",
      "aws s3 cp \"s3://mousebrainatlas-data/CSHL_volumes/atlasV5/atlasV5_down32_scoreVolume_warp20_MD592_prep2_detector15_down32_scoreVolume/score_volumes/atlasV5_down32_scoreVolume_warp20_MD592_prep2_detector15_down32_scoreVolume_10N_L.bp\" \"/home/yuncong/CSHL_volumes/atlasV5/atlasV5_down32_scoreVolume_warp20_MD592_prep2_detector15_down32_scoreVolume/score_volumes/atlasV5_down32_scoreVolume_warp20_MD592_prep2_detector15_down32_scoreVolume_10N_L.bp\"\n"
     ]
    },
    {
     "name": "stderr",
     "output_type": "stream",
     "text": [
      "marching cube: 9.99 seconds\n",
      "mesh_to_polydata: 0.01 seconds\n",
      "simplify 0 @ 3565: 0.06 seconds\n",
      "simplify 1 @ 714: 0.05 seconds\n",
      "simplify 2 @ 144: 0.01 seconds\n",
      "time: 11.51\n"
     ]
    },
    {
     "name": "stdout",
     "output_type": "stream",
     "text": [
      "10N_R\n",
      "rm -rf \"/home/yuncong/CSHL_volumes/atlasV5/atlasV5_down32_scoreVolume_warp20_MD592_prep2_detector15_down32_scoreVolume/score_volumes/atlasV5_down32_scoreVolume_warp20_MD592_prep2_detector15_down32_scoreVolume_10N_R.bp\" && mkdir -p \"/home/yuncong/CSHL_volumes/atlasV5/atlasV5_down32_scoreVolume_warp20_MD592_prep2_detector15_down32_scoreVolume/score_volumes\"\n",
      "aws s3 cp \"s3://mousebrainatlas-data/CSHL_volumes/atlasV5/atlasV5_down32_scoreVolume_warp20_MD592_prep2_detector15_down32_scoreVolume/score_volumes/atlasV5_down32_scoreVolume_warp20_MD592_prep2_detector15_down32_scoreVolume_10N_R.bp\" \"/home/yuncong/CSHL_volumes/atlasV5/atlasV5_down32_scoreVolume_warp20_MD592_prep2_detector15_down32_scoreVolume/score_volumes/atlasV5_down32_scoreVolume_warp20_MD592_prep2_detector15_down32_scoreVolume_10N_R.bp\"\n"
     ]
    },
    {
     "name": "stderr",
     "output_type": "stream",
     "text": [
      "marching cube: 10.17 seconds\n",
      "mesh_to_polydata: 0.01 seconds\n",
      "simplify 0 @ 3533: 0.03 seconds\n",
      "simplify 1 @ 708: 0.03 seconds\n",
      "simplify 2 @ 143: 0.01 seconds\n",
      "time: 12.43\n"
     ]
    },
    {
     "name": "stdout",
     "output_type": "stream",
     "text": [
      "VCA_L\n",
      "rm -rf \"/home/yuncong/CSHL_volumes/atlasV5/atlasV5_down32_scoreVolume_warp20_MD592_prep2_detector15_down32_scoreVolume/score_volumes/atlasV5_down32_scoreVolume_warp20_MD592_prep2_detector15_down32_scoreVolume_VCA_L.bp\" && mkdir -p \"/home/yuncong/CSHL_volumes/atlasV5/atlasV5_down32_scoreVolume_warp20_MD592_prep2_detector15_down32_scoreVolume/score_volumes\"\n",
      "aws s3 cp \"s3://mousebrainatlas-data/CSHL_volumes/atlasV5/atlasV5_down32_scoreVolume_warp20_MD592_prep2_detector15_down32_scoreVolume/score_volumes/atlasV5_down32_scoreVolume_warp20_MD592_prep2_detector15_down32_scoreVolume_VCA_L.bp\" \"/home/yuncong/CSHL_volumes/atlasV5/atlasV5_down32_scoreVolume_warp20_MD592_prep2_detector15_down32_scoreVolume/score_volumes/atlasV5_down32_scoreVolume_warp20_MD592_prep2_detector15_down32_scoreVolume_VCA_L.bp\"\n"
     ]
    },
    {
     "name": "stderr",
     "output_type": "stream",
     "text": [
      "marching cube: 8.31 seconds\n",
      "mesh_to_polydata: 0.02 seconds\n",
      "simplify 0 @ 13245: 0.09 seconds\n",
      "simplify 1 @ 2651: 0.09 seconds\n",
      "simplify 2 @ 531: 0.02 seconds\n",
      "time: 9.91\n"
     ]
    },
    {
     "name": "stdout",
     "output_type": "stream",
     "text": [
      "VCA_R\n",
      "rm -rf \"/home/yuncong/CSHL_volumes/atlasV5/atlasV5_down32_scoreVolume_warp20_MD592_prep2_detector15_down32_scoreVolume/score_volumes/atlasV5_down32_scoreVolume_warp20_MD592_prep2_detector15_down32_scoreVolume_VCA_R.bp\" && mkdir -p \"/home/yuncong/CSHL_volumes/atlasV5/atlasV5_down32_scoreVolume_warp20_MD592_prep2_detector15_down32_scoreVolume/score_volumes\"\n",
      "aws s3 cp \"s3://mousebrainatlas-data/CSHL_volumes/atlasV5/atlasV5_down32_scoreVolume_warp20_MD592_prep2_detector15_down32_scoreVolume/score_volumes/atlasV5_down32_scoreVolume_warp20_MD592_prep2_detector15_down32_scoreVolume_VCA_R.bp\" \"/home/yuncong/CSHL_volumes/atlasV5/atlasV5_down32_scoreVolume_warp20_MD592_prep2_detector15_down32_scoreVolume/score_volumes/atlasV5_down32_scoreVolume_warp20_MD592_prep2_detector15_down32_scoreVolume_VCA_R.bp\"\n"
     ]
    },
    {
     "name": "stderr",
     "output_type": "stream",
     "text": [
      "marching cube: 10.36 seconds\n",
      "mesh_to_polydata: 0.02 seconds\n",
      "simplify 0 @ 13531: 0.13 seconds\n",
      "simplify 1 @ 2709: 0.13 seconds\n",
      "simplify 2 @ 543: 0.03 seconds\n",
      "time: 12.02\n"
     ]
    },
    {
     "name": "stdout",
     "output_type": "stream",
     "text": [
      "VCP_L\n",
      "rm -rf \"/home/yuncong/CSHL_volumes/atlasV5/atlasV5_down32_scoreVolume_warp20_MD592_prep2_detector15_down32_scoreVolume/score_volumes/atlasV5_down32_scoreVolume_warp20_MD592_prep2_detector15_down32_scoreVolume_VCP_L.bp\" && mkdir -p \"/home/yuncong/CSHL_volumes/atlasV5/atlasV5_down32_scoreVolume_warp20_MD592_prep2_detector15_down32_scoreVolume/score_volumes\"\n",
      "aws s3 cp \"s3://mousebrainatlas-data/CSHL_volumes/atlasV5/atlasV5_down32_scoreVolume_warp20_MD592_prep2_detector15_down32_scoreVolume/score_volumes/atlasV5_down32_scoreVolume_warp20_MD592_prep2_detector15_down32_scoreVolume_VCP_L.bp\" \"/home/yuncong/CSHL_volumes/atlasV5/atlasV5_down32_scoreVolume_warp20_MD592_prep2_detector15_down32_scoreVolume/score_volumes/atlasV5_down32_scoreVolume_warp20_MD592_prep2_detector15_down32_scoreVolume_VCP_L.bp\"\n"
     ]
    },
    {
     "name": "stderr",
     "output_type": "stream",
     "text": [
      "marching cube: 10.82 seconds\n",
      "mesh_to_polydata: 0.01 seconds\n",
      "simplify 0 @ 6509: 0.06 seconds\n",
      "simplify 1 @ 1303: 0.06 seconds\n",
      "simplify 2 @ 262: 0.01 seconds\n",
      "time: 12.10\n"
     ]
    },
    {
     "name": "stdout",
     "output_type": "stream",
     "text": [
      "VCP_R\n",
      "rm -rf \"/home/yuncong/CSHL_volumes/atlasV5/atlasV5_down32_scoreVolume_warp20_MD592_prep2_detector15_down32_scoreVolume/score_volumes/atlasV5_down32_scoreVolume_warp20_MD592_prep2_detector15_down32_scoreVolume_VCP_R.bp\" && mkdir -p \"/home/yuncong/CSHL_volumes/atlasV5/atlasV5_down32_scoreVolume_warp20_MD592_prep2_detector15_down32_scoreVolume/score_volumes\"\n",
      "aws s3 cp \"s3://mousebrainatlas-data/CSHL_volumes/atlasV5/atlasV5_down32_scoreVolume_warp20_MD592_prep2_detector15_down32_scoreVolume/score_volumes/atlasV5_down32_scoreVolume_warp20_MD592_prep2_detector15_down32_scoreVolume_VCP_R.bp\" \"/home/yuncong/CSHL_volumes/atlasV5/atlasV5_down32_scoreVolume_warp20_MD592_prep2_detector15_down32_scoreVolume/score_volumes/atlasV5_down32_scoreVolume_warp20_MD592_prep2_detector15_down32_scoreVolume_VCP_R.bp\"\n"
     ]
    },
    {
     "name": "stderr",
     "output_type": "stream",
     "text": [
      "marching cube: 9.19 seconds\n",
      "mesh_to_polydata: 0.01 seconds\n",
      "simplify 0 @ 6740: 0.05 seconds\n",
      "simplify 1 @ 1349: 0.04 seconds\n",
      "simplify 2 @ 271: 0.01 seconds\n",
      "time: 10.66\n"
     ]
    },
    {
     "name": "stdout",
     "output_type": "stream",
     "text": [
      "DC_L\n",
      "rm -rf \"/home/yuncong/CSHL_volumes/atlasV5/atlasV5_down32_scoreVolume_warp20_MD592_prep2_detector15_down32_scoreVolume/score_volumes/atlasV5_down32_scoreVolume_warp20_MD592_prep2_detector15_down32_scoreVolume_DC_L.bp\" && mkdir -p \"/home/yuncong/CSHL_volumes/atlasV5/atlasV5_down32_scoreVolume_warp20_MD592_prep2_detector15_down32_scoreVolume/score_volumes\"\n",
      "aws s3 cp \"s3://mousebrainatlas-data/CSHL_volumes/atlasV5/atlasV5_down32_scoreVolume_warp20_MD592_prep2_detector15_down32_scoreVolume/score_volumes/atlasV5_down32_scoreVolume_warp20_MD592_prep2_detector15_down32_scoreVolume_DC_L.bp\" \"/home/yuncong/CSHL_volumes/atlasV5/atlasV5_down32_scoreVolume_warp20_MD592_prep2_detector15_down32_scoreVolume/score_volumes/atlasV5_down32_scoreVolume_warp20_MD592_prep2_detector15_down32_scoreVolume_DC_L.bp\"\n"
     ]
    },
    {
     "name": "stderr",
     "output_type": "stream",
     "text": [
      "marching cube: 8.66 seconds\n",
      "mesh_to_polydata: 0.03 seconds\n",
      "simplify 0 @ 12000: 0.16 seconds\n",
      "simplify 1 @ 2402: 0.16 seconds\n",
      "simplify 2 @ 481: 0.04 seconds\n",
      "time: 10.22\n"
     ]
    },
    {
     "name": "stdout",
     "output_type": "stream",
     "text": [
      "DC_R\n",
      "rm -rf \"/home/yuncong/CSHL_volumes/atlasV5/atlasV5_down32_scoreVolume_warp20_MD592_prep2_detector15_down32_scoreVolume/score_volumes/atlasV5_down32_scoreVolume_warp20_MD592_prep2_detector15_down32_scoreVolume_DC_R.bp\" && mkdir -p \"/home/yuncong/CSHL_volumes/atlasV5/atlasV5_down32_scoreVolume_warp20_MD592_prep2_detector15_down32_scoreVolume/score_volumes\"\n",
      "aws s3 cp \"s3://mousebrainatlas-data/CSHL_volumes/atlasV5/atlasV5_down32_scoreVolume_warp20_MD592_prep2_detector15_down32_scoreVolume/score_volumes/atlasV5_down32_scoreVolume_warp20_MD592_prep2_detector15_down32_scoreVolume_DC_R.bp\" \"/home/yuncong/CSHL_volumes/atlasV5/atlasV5_down32_scoreVolume_warp20_MD592_prep2_detector15_down32_scoreVolume/score_volumes/atlasV5_down32_scoreVolume_warp20_MD592_prep2_detector15_down32_scoreVolume_DC_R.bp\"\n"
     ]
    },
    {
     "name": "stderr",
     "output_type": "stream",
     "text": [
      "marching cube: 9.12 seconds\n",
      "mesh_to_polydata: 0.02 seconds\n",
      "simplify 0 @ 12559: 0.10 seconds\n",
      "simplify 1 @ 2513: 0.10 seconds\n",
      "simplify 2 @ 504: 0.02 seconds\n",
      "time: 10.91\n"
     ]
    },
    {
     "name": "stdout",
     "output_type": "stream",
     "text": [
      "AP\n",
      "rm -rf \"/home/yuncong/CSHL_volumes/atlasV5/atlasV5_down32_scoreVolume_warp20_MD592_prep2_detector15_down32_scoreVolume/score_volumes/atlasV5_down32_scoreVolume_warp20_MD592_prep2_detector15_down32_scoreVolume_AP.bp\" && mkdir -p \"/home/yuncong/CSHL_volumes/atlasV5/atlasV5_down32_scoreVolume_warp20_MD592_prep2_detector15_down32_scoreVolume/score_volumes\"\n",
      "aws s3 cp \"s3://mousebrainatlas-data/CSHL_volumes/atlasV5/atlasV5_down32_scoreVolume_warp20_MD592_prep2_detector15_down32_scoreVolume/score_volumes/atlasV5_down32_scoreVolume_warp20_MD592_prep2_detector15_down32_scoreVolume_AP.bp\" \"/home/yuncong/CSHL_volumes/atlasV5/atlasV5_down32_scoreVolume_warp20_MD592_prep2_detector15_down32_scoreVolume/score_volumes/atlasV5_down32_scoreVolume_warp20_MD592_prep2_detector15_down32_scoreVolume_AP.bp\"\n"
     ]
    },
    {
     "name": "stderr",
     "output_type": "stream",
     "text": [
      "marching cube: 9.04 seconds\n",
      "mesh_to_polydata: 0.00 seconds\n",
      "simplify 0 @ 2444: 0.02 seconds\n",
      "simplify 1 @ 490: 0.02 seconds\n",
      "simplify 2 @ 99: 0.00 seconds\n",
      "time: 10.32\n"
     ]
    },
    {
     "name": "stdout",
     "output_type": "stream",
     "text": [
      "12N\n",
      "rm -rf \"/home/yuncong/CSHL_volumes/atlasV5/atlasV5_down32_scoreVolume_warp20_MD592_prep2_detector15_down32_scoreVolume/score_volumes/atlasV5_down32_scoreVolume_warp20_MD592_prep2_detector15_down32_scoreVolume_12N.bp\" && mkdir -p \"/home/yuncong/CSHL_volumes/atlasV5/atlasV5_down32_scoreVolume_warp20_MD592_prep2_detector15_down32_scoreVolume/score_volumes\"\n",
      "aws s3 cp \"s3://mousebrainatlas-data/CSHL_volumes/atlasV5/atlasV5_down32_scoreVolume_warp20_MD592_prep2_detector15_down32_scoreVolume/score_volumes/atlasV5_down32_scoreVolume_warp20_MD592_prep2_detector15_down32_scoreVolume_12N.bp\" \"/home/yuncong/CSHL_volumes/atlasV5/atlasV5_down32_scoreVolume_warp20_MD592_prep2_detector15_down32_scoreVolume/score_volumes/atlasV5_down32_scoreVolume_warp20_MD592_prep2_detector15_down32_scoreVolume_12N.bp\"\n"
     ]
    },
    {
     "name": "stderr",
     "output_type": "stream",
     "text": [
      "marching cube: 10.22 seconds\n",
      "mesh_to_polydata: 0.03 seconds\n",
      "simplify 0 @ 12424: 0.17 seconds\n",
      "simplify 1 @ 2487: 0.13 seconds\n",
      "simplify 2 @ 498: 0.03 seconds\n",
      "time: 11.70\n"
     ]
    },
    {
     "name": "stdout",
     "output_type": "stream",
     "text": [
      "RtTg\n",
      "rm -rf \"/home/yuncong/CSHL_volumes/atlasV5/atlasV5_down32_scoreVolume_warp20_MD592_prep2_detector15_down32_scoreVolume/score_volumes/atlasV5_down32_scoreVolume_warp20_MD592_prep2_detector15_down32_scoreVolume_RtTg.bp\" && mkdir -p \"/home/yuncong/CSHL_volumes/atlasV5/atlasV5_down32_scoreVolume_warp20_MD592_prep2_detector15_down32_scoreVolume/score_volumes\"\n",
      "aws s3 cp \"s3://mousebrainatlas-data/CSHL_volumes/atlasV5/atlasV5_down32_scoreVolume_warp20_MD592_prep2_detector15_down32_scoreVolume/score_volumes/atlasV5_down32_scoreVolume_warp20_MD592_prep2_detector15_down32_scoreVolume_RtTg.bp\" \"/home/yuncong/CSHL_volumes/atlasV5/atlasV5_down32_scoreVolume_warp20_MD592_prep2_detector15_down32_scoreVolume/score_volumes/atlasV5_down32_scoreVolume_warp20_MD592_prep2_detector15_down32_scoreVolume_RtTg.bp\"\n"
     ]
    },
    {
     "name": "stderr",
     "output_type": "stream",
     "text": [
      "marching cube: 11.68 seconds\n",
      "mesh_to_polydata: 0.03 seconds\n",
      "simplify 0 @ 26032: 0.20 seconds\n",
      "simplify 1 @ 5208: 0.21 seconds\n",
      "simplify 2 @ 1043: 0.05 seconds\n",
      "time: 13.55\n"
     ]
    },
    {
     "name": "stdout",
     "output_type": "stream",
     "text": [
      "SC\n",
      "rm -rf \"/home/yuncong/CSHL_volumes/atlasV5/atlasV5_down32_scoreVolume_warp20_MD592_prep2_detector15_down32_scoreVolume/score_volumes/atlasV5_down32_scoreVolume_warp20_MD592_prep2_detector15_down32_scoreVolume_SC.bp\" && mkdir -p \"/home/yuncong/CSHL_volumes/atlasV5/atlasV5_down32_scoreVolume_warp20_MD592_prep2_detector15_down32_scoreVolume/score_volumes\"\n",
      "aws s3 cp \"s3://mousebrainatlas-data/CSHL_volumes/atlasV5/atlasV5_down32_scoreVolume_warp20_MD592_prep2_detector15_down32_scoreVolume/score_volumes/atlasV5_down32_scoreVolume_warp20_MD592_prep2_detector15_down32_scoreVolume_SC.bp\" \"/home/yuncong/CSHL_volumes/atlasV5/atlasV5_down32_scoreVolume_warp20_MD592_prep2_detector15_down32_scoreVolume/score_volumes/atlasV5_down32_scoreVolume_warp20_MD592_prep2_detector15_down32_scoreVolume_SC.bp\"\n"
     ]
    },
    {
     "name": "stderr",
     "output_type": "stream",
     "text": [
      "marching cube: 11.10 seconds\n",
      "mesh_to_polydata: 0.18 seconds\n",
      "simplify 0 @ 120150: 1.04 seconds\n",
      "simplify 1 @ 24033: 1.29 seconds\n",
      "simplify 2 @ 4807: 0.27 seconds\n",
      "time: 15.04\n"
     ]
    },
    {
     "name": "stdout",
     "output_type": "stream",
     "text": [
      "IC\n",
      "rm -rf \"/home/yuncong/CSHL_volumes/atlasV5/atlasV5_down32_scoreVolume_warp20_MD592_prep2_detector15_down32_scoreVolume/score_volumes/atlasV5_down32_scoreVolume_warp20_MD592_prep2_detector15_down32_scoreVolume_IC.bp\" && mkdir -p \"/home/yuncong/CSHL_volumes/atlasV5/atlasV5_down32_scoreVolume_warp20_MD592_prep2_detector15_down32_scoreVolume/score_volumes\"\n",
      "aws s3 cp \"s3://mousebrainatlas-data/CSHL_volumes/atlasV5/atlasV5_down32_scoreVolume_warp20_MD592_prep2_detector15_down32_scoreVolume/score_volumes/atlasV5_down32_scoreVolume_warp20_MD592_prep2_detector15_down32_scoreVolume_IC.bp\" \"/home/yuncong/CSHL_volumes/atlasV5/atlasV5_down32_scoreVolume_warp20_MD592_prep2_detector15_down32_scoreVolume/score_volumes/atlasV5_down32_scoreVolume_warp20_MD592_prep2_detector15_down32_scoreVolume_IC.bp\"\n"
     ]
    },
    {
     "name": "stderr",
     "output_type": "stream",
     "text": [
      "marching cube: 10.14 seconds\n",
      "mesh_to_polydata: 0.24 seconds\n",
      "simplify 0 @ 92875: 1.16 seconds\n",
      "simplify 1 @ 18580: 1.14 seconds\n",
      "simplify 2 @ 3716: 0.24 seconds\n",
      "time: 14.12\n"
     ]
    }
   ],
   "source": [
    "# Render globally transformed atlas structures\n",
    "\n",
    "for structure in all_known_structures_sided:\n",
    "# for structure in ['Pn_R']:\n",
    "\n",
    "    print structure\n",
    "    \n",
    "    try:\n",
    "    \n",
    "        global_transformed_volume = \\\n",
    "        DataManager.load_transformed_volume(stack_m=atlas_name, vol_type_m='score', \n",
    "                                            stack_f=stack, vol_type_f='score',\n",
    "                                            downscale=32, \n",
    "                                            detector_id_f=detector_id,\n",
    "                                            prep_id_f=2,\n",
    "                                            warp_setting=20,\n",
    "                                            structure=structure)\n",
    "\n",
    "        t = time.time()\n",
    "        polydata = volume_to_polydata(global_transformed_volume, num_simplify_iter=3, smooth=True, level=0.5)\n",
    "        sys.stderr.write('time: %.2f\\n' % (time.time() - t))\n",
    "\n",
    "        mesh_fn = DataManager.get_mesh_filepath(stack_m=atlas_name, vol_type_m='score', \n",
    "                                                stack_f=stack, vol_type_f='score', \n",
    "                                               downscale=32,\n",
    "                                                prep_id_f=2,\n",
    "                                            detector_id_f=detector_id,\n",
    "                                               warp_setting=20,\n",
    "                                               structure=structure)\n",
    "#         print mesh_fn\n",
    "        save_mesh(polydata, mesh_fn)\n",
    "        \n",
    "    except Exception as e:\n",
    "        sys.stderr.write('Error transforming volume %s: %s.\\n' % (structure, e))"
   ]
  },
  {
   "cell_type": "code",
   "execution_count": 218,
   "metadata": {
    "scrolled": true
   },
   "outputs": [
    {
     "name": "stdout",
     "output_type": "stream",
     "text": [
      "5N_L\n",
      "rm -rf \"/home/yuncong/CSHL_volumes/atlasV5/atlasV5_down32_scoreVolume_warp17_MD592_prep2_detector15_down32_scoreVolume/score_volumes/atlasV5_down32_scoreVolume_warp17_MD592_prep2_detector15_down32_scoreVolume_5N_L.bp\" && mkdir -p \"/home/yuncong/CSHL_volumes/atlasV5/atlasV5_down32_scoreVolume_warp17_MD592_prep2_detector15_down32_scoreVolume/score_volumes\"\n",
      "aws s3 cp \"s3://mousebrainatlas-data/CSHL_volumes/atlasV5/atlasV5_down32_scoreVolume_warp17_MD592_prep2_detector15_down32_scoreVolume/score_volumes/atlasV5_down32_scoreVolume_warp17_MD592_prep2_detector15_down32_scoreVolume_5N_L.bp\" \"/home/yuncong/CSHL_volumes/atlasV5/atlasV5_down32_scoreVolume_warp17_MD592_prep2_detector15_down32_scoreVolume/score_volumes/atlasV5_down32_scoreVolume_warp17_MD592_prep2_detector15_down32_scoreVolume_5N_L.bp\"\n"
     ]
    },
    {
     "name": "stderr",
     "output_type": "stream",
     "text": [
      "marching cube: 8.96 seconds\n",
      "mesh_to_polydata: 0.01 seconds\n",
      "simplify 0 @ 7500: 0.05 seconds\n",
      "simplify 1 @ 1502: 0.05 seconds\n",
      "simplify 2 @ 301: 0.01 seconds\n",
      "time: 10.30\n"
     ]
    },
    {
     "name": "stdout",
     "output_type": "stream",
     "text": [
      "5N_R\n",
      "rm -rf \"/home/yuncong/CSHL_volumes/atlasV5/atlasV5_down32_scoreVolume_warp17_MD592_prep2_detector15_down32_scoreVolume/score_volumes/atlasV5_down32_scoreVolume_warp17_MD592_prep2_detector15_down32_scoreVolume_5N_R.bp\" && mkdir -p \"/home/yuncong/CSHL_volumes/atlasV5/atlasV5_down32_scoreVolume_warp17_MD592_prep2_detector15_down32_scoreVolume/score_volumes\"\n",
      "aws s3 cp \"s3://mousebrainatlas-data/CSHL_volumes/atlasV5/atlasV5_down32_scoreVolume_warp17_MD592_prep2_detector15_down32_scoreVolume/score_volumes/atlasV5_down32_scoreVolume_warp17_MD592_prep2_detector15_down32_scoreVolume_5N_R.bp\" \"/home/yuncong/CSHL_volumes/atlasV5/atlasV5_down32_scoreVolume_warp17_MD592_prep2_detector15_down32_scoreVolume/score_volumes/atlasV5_down32_scoreVolume_warp17_MD592_prep2_detector15_down32_scoreVolume_5N_R.bp\"\n"
     ]
    },
    {
     "name": "stderr",
     "output_type": "stream",
     "text": [
      "marching cube: 13.76 seconds\n",
      "mesh_to_polydata: 0.01 seconds\n",
      "simplify 0 @ 7339: 0.07 seconds\n",
      "simplify 1 @ 1469: 0.07 seconds\n",
      "simplify 2 @ 295: 0.02 seconds\n",
      "time: 15.23\n"
     ]
    },
    {
     "name": "stdout",
     "output_type": "stream",
     "text": [
      "6N_L\n",
      "rm -rf \"/home/yuncong/CSHL_volumes/atlasV5/atlasV5_down32_scoreVolume_warp17_MD592_prep2_detector15_down32_scoreVolume/score_volumes/atlasV5_down32_scoreVolume_warp17_MD592_prep2_detector15_down32_scoreVolume_6N_L.bp\" && mkdir -p \"/home/yuncong/CSHL_volumes/atlasV5/atlasV5_down32_scoreVolume_warp17_MD592_prep2_detector15_down32_scoreVolume/score_volumes\"\n",
      "aws s3 cp \"s3://mousebrainatlas-data/CSHL_volumes/atlasV5/atlasV5_down32_scoreVolume_warp17_MD592_prep2_detector15_down32_scoreVolume/score_volumes/atlasV5_down32_scoreVolume_warp17_MD592_prep2_detector15_down32_scoreVolume_6N_L.bp\" \"/home/yuncong/CSHL_volumes/atlasV5/atlasV5_down32_scoreVolume_warp17_MD592_prep2_detector15_down32_scoreVolume/score_volumes/atlasV5_down32_scoreVolume_warp17_MD592_prep2_detector15_down32_scoreVolume_6N_L.bp\"\n"
     ]
    },
    {
     "name": "stderr",
     "output_type": "stream",
     "text": [
      "marching cube: 10.14 seconds\n",
      "mesh_to_polydata: 0.00 seconds\n",
      "simplify 0 @ 718: 0.01 seconds\n",
      "simplify 1 @ 145: 0.01 seconds\n",
      "time: 11.28\n"
     ]
    },
    {
     "name": "stdout",
     "output_type": "stream",
     "text": [
      "6N_R\n",
      "rm -rf \"/home/yuncong/CSHL_volumes/atlasV5/atlasV5_down32_scoreVolume_warp17_MD592_prep2_detector15_down32_scoreVolume/score_volumes/atlasV5_down32_scoreVolume_warp17_MD592_prep2_detector15_down32_scoreVolume_6N_R.bp\" && mkdir -p \"/home/yuncong/CSHL_volumes/atlasV5/atlasV5_down32_scoreVolume_warp17_MD592_prep2_detector15_down32_scoreVolume/score_volumes\"\n",
      "aws s3 cp \"s3://mousebrainatlas-data/CSHL_volumes/atlasV5/atlasV5_down32_scoreVolume_warp17_MD592_prep2_detector15_down32_scoreVolume/score_volumes/atlasV5_down32_scoreVolume_warp17_MD592_prep2_detector15_down32_scoreVolume_6N_R.bp\" \"/home/yuncong/CSHL_volumes/atlasV5/atlasV5_down32_scoreVolume_warp17_MD592_prep2_detector15_down32_scoreVolume/score_volumes/atlasV5_down32_scoreVolume_warp17_MD592_prep2_detector15_down32_scoreVolume_6N_R.bp\"\n"
     ]
    },
    {
     "name": "stderr",
     "output_type": "stream",
     "text": [
      "marching cube: 10.81 seconds\n",
      "mesh_to_polydata: 0.00 seconds\n",
      "simplify 0 @ 674: 0.01 seconds\n",
      "simplify 1 @ 136: 0.01 seconds\n",
      "time: 11.93\n"
     ]
    },
    {
     "name": "stdout",
     "output_type": "stream",
     "text": [
      "7N_L\n",
      "rm -rf \"/home/yuncong/CSHL_volumes/atlasV5/atlasV5_down32_scoreVolume_warp17_MD592_prep2_detector15_down32_scoreVolume/score_volumes/atlasV5_down32_scoreVolume_warp17_MD592_prep2_detector15_down32_scoreVolume_7N_L.bp\" && mkdir -p \"/home/yuncong/CSHL_volumes/atlasV5/atlasV5_down32_scoreVolume_warp17_MD592_prep2_detector15_down32_scoreVolume/score_volumes\"\n",
      "aws s3 cp \"s3://mousebrainatlas-data/CSHL_volumes/atlasV5/atlasV5_down32_scoreVolume_warp17_MD592_prep2_detector15_down32_scoreVolume/score_volumes/atlasV5_down32_scoreVolume_warp17_MD592_prep2_detector15_down32_scoreVolume_7N_L.bp\" \"/home/yuncong/CSHL_volumes/atlasV5/atlasV5_down32_scoreVolume_warp17_MD592_prep2_detector15_down32_scoreVolume/score_volumes/atlasV5_down32_scoreVolume_warp17_MD592_prep2_detector15_down32_scoreVolume_7N_L.bp\"\n"
     ]
    },
    {
     "name": "stderr",
     "output_type": "stream",
     "text": [
      "marching cube: 9.12 seconds\n",
      "mesh_to_polydata: 0.02 seconds\n",
      "simplify 0 @ 12477: 0.09 seconds\n",
      "simplify 1 @ 2498: 0.09 seconds\n",
      "simplify 2 @ 501: 0.02 seconds\n",
      "time: 10.67\n"
     ]
    },
    {
     "name": "stdout",
     "output_type": "stream",
     "text": [
      "7N_R\n",
      "rm -rf \"/home/yuncong/CSHL_volumes/atlasV5/atlasV5_down32_scoreVolume_warp17_MD592_prep2_detector15_down32_scoreVolume/score_volumes/atlasV5_down32_scoreVolume_warp17_MD592_prep2_detector15_down32_scoreVolume_7N_R.bp\" && mkdir -p \"/home/yuncong/CSHL_volumes/atlasV5/atlasV5_down32_scoreVolume_warp17_MD592_prep2_detector15_down32_scoreVolume/score_volumes\"\n",
      "aws s3 cp \"s3://mousebrainatlas-data/CSHL_volumes/atlasV5/atlasV5_down32_scoreVolume_warp17_MD592_prep2_detector15_down32_scoreVolume/score_volumes/atlasV5_down32_scoreVolume_warp17_MD592_prep2_detector15_down32_scoreVolume_7N_R.bp\" \"/home/yuncong/CSHL_volumes/atlasV5/atlasV5_down32_scoreVolume_warp17_MD592_prep2_detector15_down32_scoreVolume/score_volumes/atlasV5_down32_scoreVolume_warp17_MD592_prep2_detector15_down32_scoreVolume_7N_R.bp\"\n"
     ]
    },
    {
     "name": "stderr",
     "output_type": "stream",
     "text": [
      "marching cube: 9.37 seconds\n",
      "mesh_to_polydata: 0.03 seconds\n",
      "simplify 0 @ 12668: 0.18 seconds\n",
      "simplify 1 @ 2536: 0.17 seconds\n",
      "simplify 2 @ 508: 0.04 seconds\n",
      "time: 10.92\n"
     ]
    },
    {
     "name": "stdout",
     "output_type": "stream",
     "text": [
      "7n_L\n",
      "rm -rf \"/home/yuncong/CSHL_volumes/atlasV5/atlasV5_down32_scoreVolume_warp17_MD592_prep2_detector15_down32_scoreVolume/score_volumes/atlasV5_down32_scoreVolume_warp17_MD592_prep2_detector15_down32_scoreVolume_7n_L.bp\" && mkdir -p \"/home/yuncong/CSHL_volumes/atlasV5/atlasV5_down32_scoreVolume_warp17_MD592_prep2_detector15_down32_scoreVolume/score_volumes\"\n",
      "aws s3 cp \"s3://mousebrainatlas-data/CSHL_volumes/atlasV5/atlasV5_down32_scoreVolume_warp17_MD592_prep2_detector15_down32_scoreVolume/score_volumes/atlasV5_down32_scoreVolume_warp17_MD592_prep2_detector15_down32_scoreVolume_7n_L.bp\" \"/home/yuncong/CSHL_volumes/atlasV5/atlasV5_down32_scoreVolume_warp17_MD592_prep2_detector15_down32_scoreVolume/score_volumes/atlasV5_down32_scoreVolume_warp17_MD592_prep2_detector15_down32_scoreVolume_7n_L.bp\"\n"
     ]
    },
    {
     "name": "stderr",
     "output_type": "stream",
     "text": [
      "marching cube: 10.37 seconds\n",
      "mesh_to_polydata: 0.02 seconds\n",
      "simplify 0 @ 9086: 0.08 seconds\n",
      "simplify 1 @ 1819: 0.09 seconds\n",
      "simplify 2 @ 365: 0.02 seconds\n",
      "time: 11.70\n"
     ]
    },
    {
     "name": "stdout",
     "output_type": "stream",
     "text": [
      "7n_R\n",
      "rm -rf \"/home/yuncong/CSHL_volumes/atlasV5/atlasV5_down32_scoreVolume_warp17_MD592_prep2_detector15_down32_scoreVolume/score_volumes/atlasV5_down32_scoreVolume_warp17_MD592_prep2_detector15_down32_scoreVolume_7n_R.bp\" && mkdir -p \"/home/yuncong/CSHL_volumes/atlasV5/atlasV5_down32_scoreVolume_warp17_MD592_prep2_detector15_down32_scoreVolume/score_volumes\"\n",
      "aws s3 cp \"s3://mousebrainatlas-data/CSHL_volumes/atlasV5/atlasV5_down32_scoreVolume_warp17_MD592_prep2_detector15_down32_scoreVolume/score_volumes/atlasV5_down32_scoreVolume_warp17_MD592_prep2_detector15_down32_scoreVolume_7n_R.bp\" \"/home/yuncong/CSHL_volumes/atlasV5/atlasV5_down32_scoreVolume_warp17_MD592_prep2_detector15_down32_scoreVolume/score_volumes/atlasV5_down32_scoreVolume_warp17_MD592_prep2_detector15_down32_scoreVolume_7n_R.bp\"\n"
     ]
    },
    {
     "name": "stderr",
     "output_type": "stream",
     "text": [
      "marching cube: 9.17 seconds\n",
      "mesh_to_polydata: 0.02 seconds\n",
      "simplify 0 @ 9086: 0.08 seconds\n",
      "simplify 1 @ 1819: 0.08 seconds\n",
      "simplify 2 @ 365: 0.02 seconds\n",
      "time: 10.74\n"
     ]
    },
    {
     "name": "stdout",
     "output_type": "stream",
     "text": [
      "Amb_L\n",
      "rm -rf \"/home/yuncong/CSHL_volumes/atlasV5/atlasV5_down32_scoreVolume_warp17_MD592_prep2_detector15_down32_scoreVolume/score_volumes/atlasV5_down32_scoreVolume_warp17_MD592_prep2_detector15_down32_scoreVolume_Amb_L.bp\" && mkdir -p \"/home/yuncong/CSHL_volumes/atlasV5/atlasV5_down32_scoreVolume_warp17_MD592_prep2_detector15_down32_scoreVolume/score_volumes\"\n",
      "aws s3 cp \"s3://mousebrainatlas-data/CSHL_volumes/atlasV5/atlasV5_down32_scoreVolume_warp17_MD592_prep2_detector15_down32_scoreVolume/score_volumes/atlasV5_down32_scoreVolume_warp17_MD592_prep2_detector15_down32_scoreVolume_Amb_L.bp\" \"/home/yuncong/CSHL_volumes/atlasV5/atlasV5_down32_scoreVolume_warp17_MD592_prep2_detector15_down32_scoreVolume/score_volumes/atlasV5_down32_scoreVolume_warp17_MD592_prep2_detector15_down32_scoreVolume_Amb_L.bp\"\n"
     ]
    },
    {
     "name": "stderr",
     "output_type": "stream",
     "text": [
      "marching cube: 10.90 seconds\n",
      "mesh_to_polydata: 0.00 seconds\n",
      "simplify 0 @ 783: 0.01 seconds\n",
      "simplify 1 @ 158: 0.01 seconds\n",
      "time: 12.05\n"
     ]
    },
    {
     "name": "stdout",
     "output_type": "stream",
     "text": [
      "Amb_R\n",
      "rm -rf \"/home/yuncong/CSHL_volumes/atlasV5/atlasV5_down32_scoreVolume_warp17_MD592_prep2_detector15_down32_scoreVolume/score_volumes/atlasV5_down32_scoreVolume_warp17_MD592_prep2_detector15_down32_scoreVolume_Amb_R.bp\" && mkdir -p \"/home/yuncong/CSHL_volumes/atlasV5/atlasV5_down32_scoreVolume_warp17_MD592_prep2_detector15_down32_scoreVolume/score_volumes\"\n",
      "aws s3 cp \"s3://mousebrainatlas-data/CSHL_volumes/atlasV5/atlasV5_down32_scoreVolume_warp17_MD592_prep2_detector15_down32_scoreVolume/score_volumes/atlasV5_down32_scoreVolume_warp17_MD592_prep2_detector15_down32_scoreVolume_Amb_R.bp\" \"/home/yuncong/CSHL_volumes/atlasV5/atlasV5_down32_scoreVolume_warp17_MD592_prep2_detector15_down32_scoreVolume/score_volumes/atlasV5_down32_scoreVolume_warp17_MD592_prep2_detector15_down32_scoreVolume_Amb_R.bp\"\n"
     ]
    },
    {
     "name": "stderr",
     "output_type": "stream",
     "text": [
      "marching cube: 9.46 seconds\n",
      "mesh_to_polydata: 0.00 seconds\n",
      "simplify 0 @ 897: 0.01 seconds\n",
      "simplify 1 @ 181: 0.01 seconds\n",
      "time: 10.78\n"
     ]
    },
    {
     "name": "stdout",
     "output_type": "stream",
     "text": [
      "LC_L\n",
      "rm -rf \"/home/yuncong/CSHL_volumes/atlasV5/atlasV5_down32_scoreVolume_warp17_MD592_prep2_detector15_down32_scoreVolume/score_volumes/atlasV5_down32_scoreVolume_warp17_MD592_prep2_detector15_down32_scoreVolume_LC_L.bp\" && mkdir -p \"/home/yuncong/CSHL_volumes/atlasV5/atlasV5_down32_scoreVolume_warp17_MD592_prep2_detector15_down32_scoreVolume/score_volumes\"\n",
      "aws s3 cp \"s3://mousebrainatlas-data/CSHL_volumes/atlasV5/atlasV5_down32_scoreVolume_warp17_MD592_prep2_detector15_down32_scoreVolume/score_volumes/atlasV5_down32_scoreVolume_warp17_MD592_prep2_detector15_down32_scoreVolume_LC_L.bp\" \"/home/yuncong/CSHL_volumes/atlasV5/atlasV5_down32_scoreVolume_warp17_MD592_prep2_detector15_down32_scoreVolume/score_volumes/atlasV5_down32_scoreVolume_warp17_MD592_prep2_detector15_down32_scoreVolume_LC_L.bp\"\n"
     ]
    },
    {
     "name": "stderr",
     "output_type": "stream",
     "text": [
      "marching cube: 9.24 seconds\n",
      "mesh_to_polydata: 0.01 seconds\n",
      "simplify 0 @ 3765: 0.03 seconds\n",
      "simplify 1 @ 755: 0.04 seconds\n",
      "simplify 2 @ 152: 0.01 seconds\n",
      "time: 10.63\n"
     ]
    },
    {
     "name": "stdout",
     "output_type": "stream",
     "text": [
      "LC_R\n",
      "rm -rf \"/home/yuncong/CSHL_volumes/atlasV5/atlasV5_down32_scoreVolume_warp17_MD592_prep2_detector15_down32_scoreVolume/score_volumes/atlasV5_down32_scoreVolume_warp17_MD592_prep2_detector15_down32_scoreVolume_LC_R.bp\" && mkdir -p \"/home/yuncong/CSHL_volumes/atlasV5/atlasV5_down32_scoreVolume_warp17_MD592_prep2_detector15_down32_scoreVolume/score_volumes\"\n",
      "aws s3 cp \"s3://mousebrainatlas-data/CSHL_volumes/atlasV5/atlasV5_down32_scoreVolume_warp17_MD592_prep2_detector15_down32_scoreVolume/score_volumes/atlasV5_down32_scoreVolume_warp17_MD592_prep2_detector15_down32_scoreVolume_LC_R.bp\" \"/home/yuncong/CSHL_volumes/atlasV5/atlasV5_down32_scoreVolume_warp17_MD592_prep2_detector15_down32_scoreVolume/score_volumes/atlasV5_down32_scoreVolume_warp17_MD592_prep2_detector15_down32_scoreVolume_LC_R.bp\"\n"
     ]
    },
    {
     "name": "stderr",
     "output_type": "stream",
     "text": [
      "marching cube: 12.78 seconds\n",
      "mesh_to_polydata: 0.01 seconds\n",
      "simplify 0 @ 3800: 0.06 seconds\n",
      "simplify 1 @ 761: 0.05 seconds\n",
      "simplify 2 @ 153: 0.01 seconds\n",
      "time: 14.10\n"
     ]
    },
    {
     "name": "stdout",
     "output_type": "stream",
     "text": [
      "LRt_L\n",
      "rm -rf \"/home/yuncong/CSHL_volumes/atlasV5/atlasV5_down32_scoreVolume_warp17_MD592_prep2_detector15_down32_scoreVolume/score_volumes/atlasV5_down32_scoreVolume_warp17_MD592_prep2_detector15_down32_scoreVolume_LRt_L.bp\" && mkdir -p \"/home/yuncong/CSHL_volumes/atlasV5/atlasV5_down32_scoreVolume_warp17_MD592_prep2_detector15_down32_scoreVolume/score_volumes\"\n",
      "aws s3 cp \"s3://mousebrainatlas-data/CSHL_volumes/atlasV5/atlasV5_down32_scoreVolume_warp17_MD592_prep2_detector15_down32_scoreVolume/score_volumes/atlasV5_down32_scoreVolume_warp17_MD592_prep2_detector15_down32_scoreVolume_LRt_L.bp\" \"/home/yuncong/CSHL_volumes/atlasV5/atlasV5_down32_scoreVolume_warp17_MD592_prep2_detector15_down32_scoreVolume/score_volumes/atlasV5_down32_scoreVolume_warp17_MD592_prep2_detector15_down32_scoreVolume_LRt_L.bp\"\n"
     ]
    },
    {
     "name": "stderr",
     "output_type": "stream",
     "text": [
      "marching cube: 12.24 seconds\n",
      "mesh_to_polydata: 0.02 seconds\n",
      "simplify 0 @ 9723: 0.13 seconds\n",
      "simplify 1 @ 1948: 0.13 seconds\n",
      "simplify 2 @ 390: 0.03 seconds\n",
      "time: 13.95\n"
     ]
    },
    {
     "name": "stdout",
     "output_type": "stream",
     "text": [
      "LRt_R\n",
      "rm -rf \"/home/yuncong/CSHL_volumes/atlasV5/atlasV5_down32_scoreVolume_warp17_MD592_prep2_detector15_down32_scoreVolume/score_volumes/atlasV5_down32_scoreVolume_warp17_MD592_prep2_detector15_down32_scoreVolume_LRt_R.bp\" && mkdir -p \"/home/yuncong/CSHL_volumes/atlasV5/atlasV5_down32_scoreVolume_warp17_MD592_prep2_detector15_down32_scoreVolume/score_volumes\"\n",
      "aws s3 cp \"s3://mousebrainatlas-data/CSHL_volumes/atlasV5/atlasV5_down32_scoreVolume_warp17_MD592_prep2_detector15_down32_scoreVolume/score_volumes/atlasV5_down32_scoreVolume_warp17_MD592_prep2_detector15_down32_scoreVolume_LRt_R.bp\" \"/home/yuncong/CSHL_volumes/atlasV5/atlasV5_down32_scoreVolume_warp17_MD592_prep2_detector15_down32_scoreVolume/score_volumes/atlasV5_down32_scoreVolume_warp17_MD592_prep2_detector15_down32_scoreVolume_LRt_R.bp\"\n"
     ]
    },
    {
     "name": "stderr",
     "output_type": "stream",
     "text": [
      "marching cube: 12.54 seconds\n",
      "mesh_to_polydata: 0.03 seconds\n",
      "simplify 0 @ 10339: 0.14 seconds\n",
      "simplify 1 @ 2069: 0.14 seconds\n",
      "simplify 2 @ 415: 0.03 seconds\n",
      "time: 14.26\n"
     ]
    },
    {
     "name": "stdout",
     "output_type": "stream",
     "text": [
      "Pn_L\n",
      "rm -rf \"/home/yuncong/CSHL_volumes/atlasV5/atlasV5_down32_scoreVolume_warp17_MD592_prep2_detector15_down32_scoreVolume/score_volumes/atlasV5_down32_scoreVolume_warp17_MD592_prep2_detector15_down32_scoreVolume_Pn_L.bp\" && mkdir -p \"/home/yuncong/CSHL_volumes/atlasV5/atlasV5_down32_scoreVolume_warp17_MD592_prep2_detector15_down32_scoreVolume/score_volumes\"\n",
      "aws s3 cp \"s3://mousebrainatlas-data/CSHL_volumes/atlasV5/atlasV5_down32_scoreVolume_warp17_MD592_prep2_detector15_down32_scoreVolume/score_volumes/atlasV5_down32_scoreVolume_warp17_MD592_prep2_detector15_down32_scoreVolume_Pn_L.bp\" \"/home/yuncong/CSHL_volumes/atlasV5/atlasV5_down32_scoreVolume_warp17_MD592_prep2_detector15_down32_scoreVolume/score_volumes/atlasV5_down32_scoreVolume_warp17_MD592_prep2_detector15_down32_scoreVolume_Pn_L.bp\"\n"
     ]
    },
    {
     "name": "stderr",
     "output_type": "stream",
     "text": [
      "marching cube: 13.49 seconds\n",
      "mesh_to_polydata: 0.05 seconds\n",
      "simplify 0 @ 18716: 0.18 seconds\n",
      "simplify 1 @ 3745: 0.18 seconds\n",
      "simplify 2 @ 750: 0.04 seconds\n",
      "time: 15.27\n"
     ]
    },
    {
     "name": "stdout",
     "output_type": "stream",
     "text": [
      "Pn_R\n",
      "rm -rf \"/home/yuncong/CSHL_volumes/atlasV5/atlasV5_down32_scoreVolume_warp17_MD592_prep2_detector15_down32_scoreVolume/score_volumes/atlasV5_down32_scoreVolume_warp17_MD592_prep2_detector15_down32_scoreVolume_Pn_R.bp\" && mkdir -p \"/home/yuncong/CSHL_volumes/atlasV5/atlasV5_down32_scoreVolume_warp17_MD592_prep2_detector15_down32_scoreVolume/score_volumes\"\n",
      "aws s3 cp \"s3://mousebrainatlas-data/CSHL_volumes/atlasV5/atlasV5_down32_scoreVolume_warp17_MD592_prep2_detector15_down32_scoreVolume/score_volumes/atlasV5_down32_scoreVolume_warp17_MD592_prep2_detector15_down32_scoreVolume_Pn_R.bp\" \"/home/yuncong/CSHL_volumes/atlasV5/atlasV5_down32_scoreVolume_warp17_MD592_prep2_detector15_down32_scoreVolume/score_volumes/atlasV5_down32_scoreVolume_warp17_MD592_prep2_detector15_down32_scoreVolume_Pn_R.bp\"\n"
     ]
    },
    {
     "name": "stderr",
     "output_type": "stream",
     "text": [
      "marching cube: 13.26 seconds\n",
      "mesh_to_polydata: 0.03 seconds\n",
      "simplify 0 @ 18732: 0.18 seconds\n",
      "simplify 1 @ 3750: 0.19 seconds\n",
      "simplify 2 @ 751: 0.04 seconds\n",
      "time: 15.25\n"
     ]
    },
    {
     "name": "stdout",
     "output_type": "stream",
     "text": [
      "Tz_L\n",
      "rm -rf \"/home/yuncong/CSHL_volumes/atlasV5/atlasV5_down32_scoreVolume_warp17_MD592_prep2_detector15_down32_scoreVolume/score_volumes/atlasV5_down32_scoreVolume_warp17_MD592_prep2_detector15_down32_scoreVolume_Tz_L.bp\" && mkdir -p \"/home/yuncong/CSHL_volumes/atlasV5/atlasV5_down32_scoreVolume_warp17_MD592_prep2_detector15_down32_scoreVolume/score_volumes\"\n",
      "aws s3 cp \"s3://mousebrainatlas-data/CSHL_volumes/atlasV5/atlasV5_down32_scoreVolume_warp17_MD592_prep2_detector15_down32_scoreVolume/score_volumes/atlasV5_down32_scoreVolume_warp17_MD592_prep2_detector15_down32_scoreVolume_Tz_L.bp\" \"/home/yuncong/CSHL_volumes/atlasV5/atlasV5_down32_scoreVolume_warp17_MD592_prep2_detector15_down32_scoreVolume/score_volumes/atlasV5_down32_scoreVolume_warp17_MD592_prep2_detector15_down32_scoreVolume_Tz_L.bp\"\n"
     ]
    },
    {
     "name": "stderr",
     "output_type": "stream",
     "text": [
      "marching cube: 13.66 seconds\n",
      "mesh_to_polydata: 0.01 seconds\n",
      "simplify 0 @ 5159: 0.05 seconds\n",
      "simplify 1 @ 1034: 0.04 seconds\n",
      "simplify 2 @ 208: 0.01 seconds\n",
      "time: 14.99\n"
     ]
    },
    {
     "name": "stdout",
     "output_type": "stream",
     "text": [
      "Tz_R\n",
      "rm -rf \"/home/yuncong/CSHL_volumes/atlasV5/atlasV5_down32_scoreVolume_warp17_MD592_prep2_detector15_down32_scoreVolume/score_volumes/atlasV5_down32_scoreVolume_warp17_MD592_prep2_detector15_down32_scoreVolume_Tz_R.bp\" && mkdir -p \"/home/yuncong/CSHL_volumes/atlasV5/atlasV5_down32_scoreVolume_warp17_MD592_prep2_detector15_down32_scoreVolume/score_volumes\"\n",
      "aws s3 cp \"s3://mousebrainatlas-data/CSHL_volumes/atlasV5/atlasV5_down32_scoreVolume_warp17_MD592_prep2_detector15_down32_scoreVolume/score_volumes/atlasV5_down32_scoreVolume_warp17_MD592_prep2_detector15_down32_scoreVolume_Tz_R.bp\" \"/home/yuncong/CSHL_volumes/atlasV5/atlasV5_down32_scoreVolume_warp17_MD592_prep2_detector15_down32_scoreVolume/score_volumes/atlasV5_down32_scoreVolume_warp17_MD592_prep2_detector15_down32_scoreVolume_Tz_R.bp\"\n"
     ]
    },
    {
     "name": "stderr",
     "output_type": "stream",
     "text": [
      "marching cube: 13.27 seconds\n",
      "mesh_to_polydata: 0.01 seconds\n",
      "simplify 0 @ 5495: 0.05 seconds\n",
      "simplify 1 @ 1101: 0.05 seconds\n",
      "simplify 2 @ 221: 0.01 seconds\n",
      "time: 14.76\n"
     ]
    },
    {
     "name": "stdout",
     "output_type": "stream",
     "text": [
      "VLL_L\n",
      "rm -rf \"/home/yuncong/CSHL_volumes/atlasV5/atlasV5_down32_scoreVolume_warp17_MD592_prep2_detector15_down32_scoreVolume/score_volumes/atlasV5_down32_scoreVolume_warp17_MD592_prep2_detector15_down32_scoreVolume_VLL_L.bp\" && mkdir -p \"/home/yuncong/CSHL_volumes/atlasV5/atlasV5_down32_scoreVolume_warp17_MD592_prep2_detector15_down32_scoreVolume/score_volumes\"\n",
      "aws s3 cp \"s3://mousebrainatlas-data/CSHL_volumes/atlasV5/atlasV5_down32_scoreVolume_warp17_MD592_prep2_detector15_down32_scoreVolume/score_volumes/atlasV5_down32_scoreVolume_warp17_MD592_prep2_detector15_down32_scoreVolume_VLL_L.bp\" \"/home/yuncong/CSHL_volumes/atlasV5/atlasV5_down32_scoreVolume_warp17_MD592_prep2_detector15_down32_scoreVolume/score_volumes/atlasV5_down32_scoreVolume_warp17_MD592_prep2_detector15_down32_scoreVolume_VLL_L.bp\"\n"
     ]
    },
    {
     "name": "stderr",
     "output_type": "stream",
     "text": [
      "marching cube: 11.13 seconds\n",
      "mesh_to_polydata: 0.02 seconds\n",
      "simplify 0 @ 11715: 0.09 seconds\n",
      "simplify 1 @ 2345: 0.09 seconds\n",
      "simplify 2 @ 470: 0.02 seconds\n",
      "time: 12.68\n"
     ]
    },
    {
     "name": "stdout",
     "output_type": "stream",
     "text": [
      "VLL_R\n",
      "rm -rf \"/home/yuncong/CSHL_volumes/atlasV5/atlasV5_down32_scoreVolume_warp17_MD592_prep2_detector15_down32_scoreVolume/score_volumes/atlasV5_down32_scoreVolume_warp17_MD592_prep2_detector15_down32_scoreVolume_VLL_R.bp\" && mkdir -p \"/home/yuncong/CSHL_volumes/atlasV5/atlasV5_down32_scoreVolume_warp17_MD592_prep2_detector15_down32_scoreVolume/score_volumes\"\n",
      "aws s3 cp \"s3://mousebrainatlas-data/CSHL_volumes/atlasV5/atlasV5_down32_scoreVolume_warp17_MD592_prep2_detector15_down32_scoreVolume/score_volumes/atlasV5_down32_scoreVolume_warp17_MD592_prep2_detector15_down32_scoreVolume_VLL_R.bp\" \"/home/yuncong/CSHL_volumes/atlasV5/atlasV5_down32_scoreVolume_warp17_MD592_prep2_detector15_down32_scoreVolume/score_volumes/atlasV5_down32_scoreVolume_warp17_MD592_prep2_detector15_down32_scoreVolume_VLL_R.bp\"\n"
     ]
    },
    {
     "name": "stderr",
     "output_type": "stream",
     "text": [
      "marching cube: 13.93 seconds\n",
      "mesh_to_polydata: 0.02 seconds\n",
      "simplify 0 @ 11264: 0.09 seconds\n",
      "simplify 1 @ 2254: 0.08 seconds\n",
      "simplify 2 @ 452: 0.02 seconds\n",
      "time: 15.48\n"
     ]
    },
    {
     "name": "stdout",
     "output_type": "stream",
     "text": [
      "RMC_L\n",
      "rm -rf \"/home/yuncong/CSHL_volumes/atlasV5/atlasV5_down32_scoreVolume_warp17_MD592_prep2_detector15_down32_scoreVolume/score_volumes/atlasV5_down32_scoreVolume_warp17_MD592_prep2_detector15_down32_scoreVolume_RMC_L.bp\" && mkdir -p \"/home/yuncong/CSHL_volumes/atlasV5/atlasV5_down32_scoreVolume_warp17_MD592_prep2_detector15_down32_scoreVolume/score_volumes\"\n",
      "aws s3 cp \"s3://mousebrainatlas-data/CSHL_volumes/atlasV5/atlasV5_down32_scoreVolume_warp17_MD592_prep2_detector15_down32_scoreVolume/score_volumes/atlasV5_down32_scoreVolume_warp17_MD592_prep2_detector15_down32_scoreVolume_RMC_L.bp\" \"/home/yuncong/CSHL_volumes/atlasV5/atlasV5_down32_scoreVolume_warp17_MD592_prep2_detector15_down32_scoreVolume/score_volumes/atlasV5_down32_scoreVolume_warp17_MD592_prep2_detector15_down32_scoreVolume_RMC_L.bp\"\n"
     ]
    },
    {
     "name": "stderr",
     "output_type": "stream",
     "text": [
      "marching cube: 13.55 seconds\n",
      "mesh_to_polydata: 0.01 seconds\n",
      "simplify 0 @ 5568: 0.05 seconds\n",
      "simplify 1 @ 1115: 0.05 seconds\n",
      "simplify 2 @ 224: 0.01 seconds\n",
      "time: 14.95\n"
     ]
    },
    {
     "name": "stdout",
     "output_type": "stream",
     "text": [
      "RMC_R\n",
      "rm -rf \"/home/yuncong/CSHL_volumes/atlasV5/atlasV5_down32_scoreVolume_warp17_MD592_prep2_detector15_down32_scoreVolume/score_volumes/atlasV5_down32_scoreVolume_warp17_MD592_prep2_detector15_down32_scoreVolume_RMC_R.bp\" && mkdir -p \"/home/yuncong/CSHL_volumes/atlasV5/atlasV5_down32_scoreVolume_warp17_MD592_prep2_detector15_down32_scoreVolume/score_volumes\"\n",
      "aws s3 cp \"s3://mousebrainatlas-data/CSHL_volumes/atlasV5/atlasV5_down32_scoreVolume_warp17_MD592_prep2_detector15_down32_scoreVolume/score_volumes/atlasV5_down32_scoreVolume_warp17_MD592_prep2_detector15_down32_scoreVolume_RMC_R.bp\" \"/home/yuncong/CSHL_volumes/atlasV5/atlasV5_down32_scoreVolume_warp17_MD592_prep2_detector15_down32_scoreVolume/score_volumes/atlasV5_down32_scoreVolume_warp17_MD592_prep2_detector15_down32_scoreVolume_RMC_R.bp\"\n"
     ]
    },
    {
     "name": "stderr",
     "output_type": "stream",
     "text": [
      "marching cube: 10.29 seconds\n",
      "mesh_to_polydata: 0.01 seconds\n",
      "simplify 0 @ 5823: 0.07 seconds\n",
      "simplify 1 @ 1167: 0.07 seconds\n",
      "simplify 2 @ 234: 0.02 seconds\n",
      "time: 11.60\n"
     ]
    },
    {
     "name": "stdout",
     "output_type": "stream",
     "text": [
      "SNC_L\n",
      "rm -rf \"/home/yuncong/CSHL_volumes/atlasV5/atlasV5_down32_scoreVolume_warp17_MD592_prep2_detector15_down32_scoreVolume/score_volumes/atlasV5_down32_scoreVolume_warp17_MD592_prep2_detector15_down32_scoreVolume_SNC_L.bp\" && mkdir -p \"/home/yuncong/CSHL_volumes/atlasV5/atlasV5_down32_scoreVolume_warp17_MD592_prep2_detector15_down32_scoreVolume/score_volumes\"\n",
      "aws s3 cp \"s3://mousebrainatlas-data/CSHL_volumes/atlasV5/atlasV5_down32_scoreVolume_warp17_MD592_prep2_detector15_down32_scoreVolume/score_volumes/atlasV5_down32_scoreVolume_warp17_MD592_prep2_detector15_down32_scoreVolume_SNC_L.bp\" \"/home/yuncong/CSHL_volumes/atlasV5/atlasV5_down32_scoreVolume_warp17_MD592_prep2_detector15_down32_scoreVolume/score_volumes/atlasV5_down32_scoreVolume_warp17_MD592_prep2_detector15_down32_scoreVolume_SNC_L.bp\"\n"
     ]
    },
    {
     "name": "stderr",
     "output_type": "stream",
     "text": [
      "marching cube: 10.27 seconds\n",
      "mesh_to_polydata: 0.02 seconds\n",
      "simplify 0 @ 5889: 0.10 seconds\n",
      "simplify 1 @ 1179: 0.09 seconds\n",
      "simplify 2 @ 237: 0.02 seconds\n",
      "time: 11.85\n"
     ]
    },
    {
     "name": "stdout",
     "output_type": "stream",
     "text": [
      "SNC_R\n",
      "rm -rf \"/home/yuncong/CSHL_volumes/atlasV5/atlasV5_down32_scoreVolume_warp17_MD592_prep2_detector15_down32_scoreVolume/score_volumes/atlasV5_down32_scoreVolume_warp17_MD592_prep2_detector15_down32_scoreVolume_SNC_R.bp\" && mkdir -p \"/home/yuncong/CSHL_volumes/atlasV5/atlasV5_down32_scoreVolume_warp17_MD592_prep2_detector15_down32_scoreVolume/score_volumes\"\n",
      "aws s3 cp \"s3://mousebrainatlas-data/CSHL_volumes/atlasV5/atlasV5_down32_scoreVolume_warp17_MD592_prep2_detector15_down32_scoreVolume/score_volumes/atlasV5_down32_scoreVolume_warp17_MD592_prep2_detector15_down32_scoreVolume_SNC_R.bp\" \"/home/yuncong/CSHL_volumes/atlasV5/atlasV5_down32_scoreVolume_warp17_MD592_prep2_detector15_down32_scoreVolume/score_volumes/atlasV5_down32_scoreVolume_warp17_MD592_prep2_detector15_down32_scoreVolume_SNC_R.bp\"\n"
     ]
    },
    {
     "name": "stderr",
     "output_type": "stream",
     "text": [
      "marching cube: 13.12 seconds\n",
      "mesh_to_polydata: 0.01 seconds\n",
      "simplify 0 @ 6370: 0.05 seconds\n",
      "simplify 1 @ 1275: 0.05 seconds\n",
      "simplify 2 @ 256: 0.01 seconds\n",
      "time: 15.15\n"
     ]
    },
    {
     "name": "stdout",
     "output_type": "stream",
     "text": [
      "SNR_L\n",
      "rm -rf \"/home/yuncong/CSHL_volumes/atlasV5/atlasV5_down32_scoreVolume_warp17_MD592_prep2_detector15_down32_scoreVolume/score_volumes/atlasV5_down32_scoreVolume_warp17_MD592_prep2_detector15_down32_scoreVolume_SNR_L.bp\" && mkdir -p \"/home/yuncong/CSHL_volumes/atlasV5/atlasV5_down32_scoreVolume_warp17_MD592_prep2_detector15_down32_scoreVolume/score_volumes\"\n",
      "aws s3 cp \"s3://mousebrainatlas-data/CSHL_volumes/atlasV5/atlasV5_down32_scoreVolume_warp17_MD592_prep2_detector15_down32_scoreVolume/score_volumes/atlasV5_down32_scoreVolume_warp17_MD592_prep2_detector15_down32_scoreVolume_SNR_L.bp\" \"/home/yuncong/CSHL_volumes/atlasV5/atlasV5_down32_scoreVolume_warp17_MD592_prep2_detector15_down32_scoreVolume/score_volumes/atlasV5_down32_scoreVolume_warp17_MD592_prep2_detector15_down32_scoreVolume_SNR_L.bp\"\n"
     ]
    },
    {
     "name": "stderr",
     "output_type": "stream",
     "text": [
      "marching cube: 12.39 seconds\n",
      "mesh_to_polydata: 0.07 seconds\n",
      "simplify 0 @ 28189: 0.37 seconds\n",
      "simplify 1 @ 5640: 0.42 seconds\n",
      "simplify 2 @ 1129: 0.10 seconds\n",
      "time: 14.67\n"
     ]
    },
    {
     "name": "stdout",
     "output_type": "stream",
     "text": [
      "SNR_R\n",
      "rm -rf \"/home/yuncong/CSHL_volumes/atlasV5/atlasV5_down32_scoreVolume_warp17_MD592_prep2_detector15_down32_scoreVolume/score_volumes/atlasV5_down32_scoreVolume_warp17_MD592_prep2_detector15_down32_scoreVolume_SNR_R.bp\" && mkdir -p \"/home/yuncong/CSHL_volumes/atlasV5/atlasV5_down32_scoreVolume_warp17_MD592_prep2_detector15_down32_scoreVolume/score_volumes\"\n",
      "aws s3 cp \"s3://mousebrainatlas-data/CSHL_volumes/atlasV5/atlasV5_down32_scoreVolume_warp17_MD592_prep2_detector15_down32_scoreVolume/score_volumes/atlasV5_down32_scoreVolume_warp17_MD592_prep2_detector15_down32_scoreVolume_SNR_R.bp\" \"/home/yuncong/CSHL_volumes/atlasV5/atlasV5_down32_scoreVolume_warp17_MD592_prep2_detector15_down32_scoreVolume/score_volumes/atlasV5_down32_scoreVolume_warp17_MD592_prep2_detector15_down32_scoreVolume_SNR_R.bp\"\n"
     ]
    },
    {
     "name": "stderr",
     "output_type": "stream",
     "text": [
      "marching cube: 14.20 seconds\n",
      "mesh_to_polydata: 0.15 seconds\n",
      "simplify 0 @ 28672: 0.79 seconds\n",
      "simplify 1 @ 5736: 0.87 seconds\n",
      "simplify 2 @ 1148: 0.20 seconds\n",
      "time: 17.67\n"
     ]
    },
    {
     "name": "stdout",
     "output_type": "stream",
     "text": [
      "3N_L\n",
      "rm -rf \"/home/yuncong/CSHL_volumes/atlasV5/atlasV5_down32_scoreVolume_warp17_MD592_prep2_detector15_down32_scoreVolume/score_volumes/atlasV5_down32_scoreVolume_warp17_MD592_prep2_detector15_down32_scoreVolume_3N_L.bp\" && mkdir -p \"/home/yuncong/CSHL_volumes/atlasV5/atlasV5_down32_scoreVolume_warp17_MD592_prep2_detector15_down32_scoreVolume/score_volumes\"\n",
      "aws s3 cp \"s3://mousebrainatlas-data/CSHL_volumes/atlasV5/atlasV5_down32_scoreVolume_warp17_MD592_prep2_detector15_down32_scoreVolume/score_volumes/atlasV5_down32_scoreVolume_warp17_MD592_prep2_detector15_down32_scoreVolume_3N_L.bp\" \"/home/yuncong/CSHL_volumes/atlasV5/atlasV5_down32_scoreVolume_warp17_MD592_prep2_detector15_down32_scoreVolume/score_volumes/atlasV5_down32_scoreVolume_warp17_MD592_prep2_detector15_down32_scoreVolume_3N_L.bp\"\n"
     ]
    },
    {
     "name": "stderr",
     "output_type": "stream",
     "text": [
      "marching cube: 30.70 seconds\n",
      "mesh_to_polydata: 0.01 seconds\n",
      "simplify 0 @ 2348: 0.07 seconds\n",
      "simplify 1 @ 471: 0.06 seconds\n",
      "simplify 2 @ 95: 0.02 seconds\n",
      "time: 35.61\n"
     ]
    },
    {
     "name": "stdout",
     "output_type": "stream",
     "text": [
      "3N_R\n",
      "rm -rf \"/home/yuncong/CSHL_volumes/atlasV5/atlasV5_down32_scoreVolume_warp17_MD592_prep2_detector15_down32_scoreVolume/score_volumes/atlasV5_down32_scoreVolume_warp17_MD592_prep2_detector15_down32_scoreVolume_3N_R.bp\" && mkdir -p \"/home/yuncong/CSHL_volumes/atlasV5/atlasV5_down32_scoreVolume_warp17_MD592_prep2_detector15_down32_scoreVolume/score_volumes\"\n",
      "aws s3 cp \"s3://mousebrainatlas-data/CSHL_volumes/atlasV5/atlasV5_down32_scoreVolume_warp17_MD592_prep2_detector15_down32_scoreVolume/score_volumes/atlasV5_down32_scoreVolume_warp17_MD592_prep2_detector15_down32_scoreVolume_3N_R.bp\" \"/home/yuncong/CSHL_volumes/atlasV5/atlasV5_down32_scoreVolume_warp17_MD592_prep2_detector15_down32_scoreVolume/score_volumes/atlasV5_down32_scoreVolume_warp17_MD592_prep2_detector15_down32_scoreVolume_3N_R.bp\"\n"
     ]
    },
    {
     "name": "stderr",
     "output_type": "stream",
     "text": [
      "marching cube: 35.68 seconds\n",
      "mesh_to_polydata: 0.01 seconds\n",
      "simplify 0 @ 2311: 0.07 seconds\n",
      "simplify 1 @ 463: 0.07 seconds\n",
      "simplify 2 @ 94: 0.02 seconds\n",
      "time: 37.64\n"
     ]
    },
    {
     "name": "stdout",
     "output_type": "stream",
     "text": [
      "4N_L\n",
      "rm -rf \"/home/yuncong/CSHL_volumes/atlasV5/atlasV5_down32_scoreVolume_warp17_MD592_prep2_detector15_down32_scoreVolume/score_volumes/atlasV5_down32_scoreVolume_warp17_MD592_prep2_detector15_down32_scoreVolume_4N_L.bp\" && mkdir -p \"/home/yuncong/CSHL_volumes/atlasV5/atlasV5_down32_scoreVolume_warp17_MD592_prep2_detector15_down32_scoreVolume/score_volumes\"\n",
      "aws s3 cp \"s3://mousebrainatlas-data/CSHL_volumes/atlasV5/atlasV5_down32_scoreVolume_warp17_MD592_prep2_detector15_down32_scoreVolume/score_volumes/atlasV5_down32_scoreVolume_warp17_MD592_prep2_detector15_down32_scoreVolume_4N_L.bp\" \"/home/yuncong/CSHL_volumes/atlasV5/atlasV5_down32_scoreVolume_warp17_MD592_prep2_detector15_down32_scoreVolume/score_volumes/atlasV5_down32_scoreVolume_warp17_MD592_prep2_detector15_down32_scoreVolume_4N_L.bp\"\n"
     ]
    },
    {
     "name": "stderr",
     "output_type": "stream",
     "text": [
      "marching cube: 31.17 seconds\n",
      "mesh_to_polydata: 0.00 seconds\n",
      "simplify 0 @ 381: 0.01 seconds\n",
      "simplify 1 @ 77: 0.01 seconds\n",
      "time: 35.92\n"
     ]
    },
    {
     "name": "stdout",
     "output_type": "stream",
     "text": [
      "4N_R\n",
      "rm -rf \"/home/yuncong/CSHL_volumes/atlasV5/atlasV5_down32_scoreVolume_warp17_MD592_prep2_detector15_down32_scoreVolume/score_volumes/atlasV5_down32_scoreVolume_warp17_MD592_prep2_detector15_down32_scoreVolume_4N_R.bp\" && mkdir -p \"/home/yuncong/CSHL_volumes/atlasV5/atlasV5_down32_scoreVolume_warp17_MD592_prep2_detector15_down32_scoreVolume/score_volumes\"\n",
      "aws s3 cp \"s3://mousebrainatlas-data/CSHL_volumes/atlasV5/atlasV5_down32_scoreVolume_warp17_MD592_prep2_detector15_down32_scoreVolume/score_volumes/atlasV5_down32_scoreVolume_warp17_MD592_prep2_detector15_down32_scoreVolume_4N_R.bp\" \"/home/yuncong/CSHL_volumes/atlasV5/atlasV5_down32_scoreVolume_warp17_MD592_prep2_detector15_down32_scoreVolume/score_volumes/atlasV5_down32_scoreVolume_warp17_MD592_prep2_detector15_down32_scoreVolume_4N_R.bp\"\n"
     ]
    },
    {
     "name": "stderr",
     "output_type": "stream",
     "text": [
      "marching cube: 22.94 seconds\n",
      "mesh_to_polydata: 0.00 seconds\n",
      "simplify 0 @ 414: 0.02 seconds\n",
      "simplify 1 @ 84: 0.01 seconds\n",
      "time: 25.26\n"
     ]
    },
    {
     "name": "stdout",
     "output_type": "stream",
     "text": [
      "Sp5I_L\n",
      "rm -rf \"/home/yuncong/CSHL_volumes/atlasV5/atlasV5_down32_scoreVolume_warp17_MD592_prep2_detector15_down32_scoreVolume/score_volumes/atlasV5_down32_scoreVolume_warp17_MD592_prep2_detector15_down32_scoreVolume_Sp5I_L.bp\" && mkdir -p \"/home/yuncong/CSHL_volumes/atlasV5/atlasV5_down32_scoreVolume_warp17_MD592_prep2_detector15_down32_scoreVolume/score_volumes\"\n",
      "aws s3 cp \"s3://mousebrainatlas-data/CSHL_volumes/atlasV5/atlasV5_down32_scoreVolume_warp17_MD592_prep2_detector15_down32_scoreVolume/score_volumes/atlasV5_down32_scoreVolume_warp17_MD592_prep2_detector15_down32_scoreVolume_Sp5I_L.bp\" \"/home/yuncong/CSHL_volumes/atlasV5/atlasV5_down32_scoreVolume_warp17_MD592_prep2_detector15_down32_scoreVolume/score_volumes/atlasV5_down32_scoreVolume_warp17_MD592_prep2_detector15_down32_scoreVolume_Sp5I_L.bp\"\n"
     ]
    },
    {
     "name": "stderr",
     "output_type": "stream",
     "text": [
      "marching cube: 36.18 seconds\n",
      "mesh_to_polydata: 0.07 seconds\n",
      "simplify 0 @ 11103: 0.35 seconds\n",
      "simplify 1 @ 2223: 0.32 seconds\n",
      "simplify 2 @ 446: 0.08 seconds\n",
      "time: 41.96\n"
     ]
    },
    {
     "name": "stdout",
     "output_type": "stream",
     "text": [
      "Sp5I_R\n",
      "rm -rf \"/home/yuncong/CSHL_volumes/atlasV5/atlasV5_down32_scoreVolume_warp17_MD592_prep2_detector15_down32_scoreVolume/score_volumes/atlasV5_down32_scoreVolume_warp17_MD592_prep2_detector15_down32_scoreVolume_Sp5I_R.bp\" && mkdir -p \"/home/yuncong/CSHL_volumes/atlasV5/atlasV5_down32_scoreVolume_warp17_MD592_prep2_detector15_down32_scoreVolume/score_volumes\"\n",
      "aws s3 cp \"s3://mousebrainatlas-data/CSHL_volumes/atlasV5/atlasV5_down32_scoreVolume_warp17_MD592_prep2_detector15_down32_scoreVolume/score_volumes/atlasV5_down32_scoreVolume_warp17_MD592_prep2_detector15_down32_scoreVolume_Sp5I_R.bp\" \"/home/yuncong/CSHL_volumes/atlasV5/atlasV5_down32_scoreVolume_warp17_MD592_prep2_detector15_down32_scoreVolume/score_volumes/atlasV5_down32_scoreVolume_warp17_MD592_prep2_detector15_down32_scoreVolume_Sp5I_R.bp\"\n"
     ]
    },
    {
     "name": "stderr",
     "output_type": "stream",
     "text": [
      "marching cube: 36.69 seconds\n",
      "mesh_to_polydata: 0.07 seconds\n",
      "simplify 0 @ 12074: 0.35 seconds\n",
      "simplify 1 @ 2416: 0.37 seconds\n",
      "simplify 2 @ 484: 0.08 seconds\n",
      "time: 42.49\n"
     ]
    },
    {
     "name": "stdout",
     "output_type": "stream",
     "text": [
      "Sp5O_L\n",
      "rm -rf \"/home/yuncong/CSHL_volumes/atlasV5/atlasV5_down32_scoreVolume_warp17_MD592_prep2_detector15_down32_scoreVolume/score_volumes/atlasV5_down32_scoreVolume_warp17_MD592_prep2_detector15_down32_scoreVolume_Sp5O_L.bp\" && mkdir -p \"/home/yuncong/CSHL_volumes/atlasV5/atlasV5_down32_scoreVolume_warp17_MD592_prep2_detector15_down32_scoreVolume/score_volumes\"\n",
      "aws s3 cp \"s3://mousebrainatlas-data/CSHL_volumes/atlasV5/atlasV5_down32_scoreVolume_warp17_MD592_prep2_detector15_down32_scoreVolume/score_volumes/atlasV5_down32_scoreVolume_warp17_MD592_prep2_detector15_down32_scoreVolume_Sp5O_L.bp\" \"/home/yuncong/CSHL_volumes/atlasV5/atlasV5_down32_scoreVolume_warp17_MD592_prep2_detector15_down32_scoreVolume/score_volumes/atlasV5_down32_scoreVolume_warp17_MD592_prep2_detector15_down32_scoreVolume_Sp5O_L.bp\"\n"
     ]
    },
    {
     "name": "stderr",
     "output_type": "stream",
     "text": [
      "marching cube: 35.58 seconds\n",
      "mesh_to_polydata: 0.10 seconds\n"
     ]
    },
    {
     "name": "stdout",
     "output_type": "stream",
     "text": [
      "Sp5O_R\n",
      "rm -rf \"/home/yuncong/CSHL_volumes/atlasV5/atlasV5_down32_scoreVolume_warp17_MD592_prep2_detector15_down32_scoreVolume/score_volumes/atlasV5_down32_scoreVolume_warp17_MD592_prep2_detector15_down32_scoreVolume_Sp5O_R.bp\" && mkdir -p \"/home/yuncong/CSHL_volumes/atlasV5/atlasV5_down32_scoreVolume_warp17_MD592_prep2_detector15_down32_scoreVolume/score_volumes\"\n",
      "aws s3 cp \"s3://mousebrainatlas-data/CSHL_volumes/atlasV5/atlasV5_down32_scoreVolume_warp17_MD592_prep2_detector15_down32_scoreVolume/score_volumes/atlasV5_down32_scoreVolume_warp17_MD592_prep2_detector15_down32_scoreVolume_Sp5O_R.bp\" \"/home/yuncong/CSHL_volumes/atlasV5/atlasV5_down32_scoreVolume_warp17_MD592_prep2_detector15_down32_scoreVolume/score_volumes/atlasV5_down32_scoreVolume_warp17_MD592_prep2_detector15_down32_scoreVolume_Sp5O_R.bp\"\n"
     ]
    },
    {
     "name": "stderr",
     "output_type": "stream",
     "text": [
      "simplify 0 @ 19788: 0.53 seconds\n",
      "simplify 1 @ 3959: 0.60 seconds\n",
      "simplify 2 @ 793: 0.14 seconds\n",
      "time: 41.72\n",
      "marching cube: 36.41 seconds\n",
      "mesh_to_polydata: 0.10 seconds\n",
      "simplify 0 @ 20401: 0.56 seconds\n",
      "simplify 1 @ 4084: 0.62 seconds\n",
      "simplify 2 @ 818: 0.14 seconds\n",
      "time: 42.67\n"
     ]
    },
    {
     "name": "stdout",
     "output_type": "stream",
     "text": [
      "Sp5C_L\n",
      "rm -rf \"/home/yuncong/CSHL_volumes/atlasV5/atlasV5_down32_scoreVolume_warp17_MD592_prep2_detector15_down32_scoreVolume/score_volumes/atlasV5_down32_scoreVolume_warp17_MD592_prep2_detector15_down32_scoreVolume_Sp5C_L.bp\" && mkdir -p \"/home/yuncong/CSHL_volumes/atlasV5/atlasV5_down32_scoreVolume_warp17_MD592_prep2_detector15_down32_scoreVolume/score_volumes\"\n",
      "aws s3 cp \"s3://mousebrainatlas-data/CSHL_volumes/atlasV5/atlasV5_down32_scoreVolume_warp17_MD592_prep2_detector15_down32_scoreVolume/score_volumes/atlasV5_down32_scoreVolume_warp17_MD592_prep2_detector15_down32_scoreVolume_Sp5C_L.bp\" \"/home/yuncong/CSHL_volumes/atlasV5/atlasV5_down32_scoreVolume_warp17_MD592_prep2_detector15_down32_scoreVolume/score_volumes/atlasV5_down32_scoreVolume_warp17_MD592_prep2_detector15_down32_scoreVolume_Sp5C_L.bp\"\n"
     ]
    },
    {
     "name": "stderr",
     "output_type": "stream",
     "text": [
      "marching cube: 36.26 seconds\n",
      "mesh_to_polydata: 0.16 seconds\n",
      "simplify 0 @ 30538: 0.87 seconds\n",
      "simplify 1 @ 6110: 0.99 seconds\n",
      "simplify 2 @ 1223: 0.21 seconds\n",
      "time: 43.39\n"
     ]
    },
    {
     "name": "stdout",
     "output_type": "stream",
     "text": [
      "Sp5C_R\n",
      "rm -rf \"/home/yuncong/CSHL_volumes/atlasV5/atlasV5_down32_scoreVolume_warp17_MD592_prep2_detector15_down32_scoreVolume/score_volumes/atlasV5_down32_scoreVolume_warp17_MD592_prep2_detector15_down32_scoreVolume_Sp5C_R.bp\" && mkdir -p \"/home/yuncong/CSHL_volumes/atlasV5/atlasV5_down32_scoreVolume_warp17_MD592_prep2_detector15_down32_scoreVolume/score_volumes\"\n",
      "aws s3 cp \"s3://mousebrainatlas-data/CSHL_volumes/atlasV5/atlasV5_down32_scoreVolume_warp17_MD592_prep2_detector15_down32_scoreVolume/score_volumes/atlasV5_down32_scoreVolume_warp17_MD592_prep2_detector15_down32_scoreVolume_Sp5C_R.bp\" \"/home/yuncong/CSHL_volumes/atlasV5/atlasV5_down32_scoreVolume_warp17_MD592_prep2_detector15_down32_scoreVolume/score_volumes/atlasV5_down32_scoreVolume_warp17_MD592_prep2_detector15_down32_scoreVolume_Sp5C_R.bp\"\n"
     ]
    },
    {
     "name": "stderr",
     "output_type": "stream",
     "text": [
      "marching cube: 37.98 seconds\n",
      "mesh_to_polydata: 0.17 seconds\n",
      "simplify 0 @ 32886: 0.91 seconds\n",
      "simplify 1 @ 6578: 1.02 seconds\n",
      "simplify 2 @ 1317: 0.23 seconds\n",
      "time: 45.16\n"
     ]
    },
    {
     "name": "stdout",
     "output_type": "stream",
     "text": [
      "PBG_L\n",
      "rm -rf \"/home/yuncong/CSHL_volumes/atlasV5/atlasV5_down32_scoreVolume_warp17_MD592_prep2_detector15_down32_scoreVolume/score_volumes/atlasV5_down32_scoreVolume_warp17_MD592_prep2_detector15_down32_scoreVolume_PBG_L.bp\" && mkdir -p \"/home/yuncong/CSHL_volumes/atlasV5/atlasV5_down32_scoreVolume_warp17_MD592_prep2_detector15_down32_scoreVolume/score_volumes\"\n",
      "aws s3 cp \"s3://mousebrainatlas-data/CSHL_volumes/atlasV5/atlasV5_down32_scoreVolume_warp17_MD592_prep2_detector15_down32_scoreVolume/score_volumes/atlasV5_down32_scoreVolume_warp17_MD592_prep2_detector15_down32_scoreVolume_PBG_L.bp\" \"/home/yuncong/CSHL_volumes/atlasV5/atlasV5_down32_scoreVolume_warp17_MD592_prep2_detector15_down32_scoreVolume/score_volumes/atlasV5_down32_scoreVolume_warp17_MD592_prep2_detector15_down32_scoreVolume_PBG_L.bp\"\n"
     ]
    },
    {
     "name": "stderr",
     "output_type": "stream",
     "text": [
      "marching cube: 35.87 seconds\n",
      "mesh_to_polydata: 0.01 seconds\n",
      "simplify 0 @ 1651: 0.05 seconds\n",
      "simplify 1 @ 332: 0.06 seconds\n",
      "simplify 2 @ 67: 0.02 seconds\n",
      "time: 40.85\n"
     ]
    },
    {
     "name": "stdout",
     "output_type": "stream",
     "text": [
      "PBG_R\n",
      "rm -rf \"/home/yuncong/CSHL_volumes/atlasV5/atlasV5_down32_scoreVolume_warp17_MD592_prep2_detector15_down32_scoreVolume/score_volumes/atlasV5_down32_scoreVolume_warp17_MD592_prep2_detector15_down32_scoreVolume_PBG_R.bp\" && mkdir -p \"/home/yuncong/CSHL_volumes/atlasV5/atlasV5_down32_scoreVolume_warp17_MD592_prep2_detector15_down32_scoreVolume/score_volumes\"\n",
      "aws s3 cp \"s3://mousebrainatlas-data/CSHL_volumes/atlasV5/atlasV5_down32_scoreVolume_warp17_MD592_prep2_detector15_down32_scoreVolume/score_volumes/atlasV5_down32_scoreVolume_warp17_MD592_prep2_detector15_down32_scoreVolume_PBG_R.bp\" \"/home/yuncong/CSHL_volumes/atlasV5/atlasV5_down32_scoreVolume_warp17_MD592_prep2_detector15_down32_scoreVolume/score_volumes/atlasV5_down32_scoreVolume_warp17_MD592_prep2_detector15_down32_scoreVolume_PBG_R.bp\"\n"
     ]
    },
    {
     "name": "stderr",
     "output_type": "stream",
     "text": [
      "marching cube: 37.88 seconds\n",
      "mesh_to_polydata: 0.01 seconds\n",
      "simplify 0 @ 1502: 0.05 seconds\n",
      "simplify 1 @ 302: 0.04 seconds\n",
      "simplify 2 @ 62: 0.01 seconds\n",
      "time: 43.49\n"
     ]
    },
    {
     "name": "stdout",
     "output_type": "stream",
     "text": [
      "10N_L\n",
      "rm -rf \"/home/yuncong/CSHL_volumes/atlasV5/atlasV5_down32_scoreVolume_warp17_MD592_prep2_detector15_down32_scoreVolume/score_volumes/atlasV5_down32_scoreVolume_warp17_MD592_prep2_detector15_down32_scoreVolume_10N_L.bp\" && mkdir -p \"/home/yuncong/CSHL_volumes/atlasV5/atlasV5_down32_scoreVolume_warp17_MD592_prep2_detector15_down32_scoreVolume/score_volumes\"\n",
      "aws s3 cp \"s3://mousebrainatlas-data/CSHL_volumes/atlasV5/atlasV5_down32_scoreVolume_warp17_MD592_prep2_detector15_down32_scoreVolume/score_volumes/atlasV5_down32_scoreVolume_warp17_MD592_prep2_detector15_down32_scoreVolume_10N_L.bp\" \"/home/yuncong/CSHL_volumes/atlasV5/atlasV5_down32_scoreVolume_warp17_MD592_prep2_detector15_down32_scoreVolume/score_volumes/atlasV5_down32_scoreVolume_warp17_MD592_prep2_detector15_down32_scoreVolume_10N_L.bp\"\n"
     ]
    },
    {
     "name": "stderr",
     "output_type": "stream",
     "text": [
      "marching cube: 36.69 seconds\n",
      "mesh_to_polydata: 0.02 seconds\n",
      "simplify 0 @ 3602: 0.10 seconds\n",
      "simplify 1 @ 722: 0.09 seconds\n",
      "simplify 2 @ 146: 0.02 seconds\n",
      "time: 40.74\n"
     ]
    },
    {
     "name": "stdout",
     "output_type": "stream",
     "text": [
      "10N_R\n",
      "rm -rf \"/home/yuncong/CSHL_volumes/atlasV5/atlasV5_down32_scoreVolume_warp17_MD592_prep2_detector15_down32_scoreVolume/score_volumes/atlasV5_down32_scoreVolume_warp17_MD592_prep2_detector15_down32_scoreVolume_10N_R.bp\" && mkdir -p \"/home/yuncong/CSHL_volumes/atlasV5/atlasV5_down32_scoreVolume_warp17_MD592_prep2_detector15_down32_scoreVolume/score_volumes\"\n",
      "aws s3 cp \"s3://mousebrainatlas-data/CSHL_volumes/atlasV5/atlasV5_down32_scoreVolume_warp17_MD592_prep2_detector15_down32_scoreVolume/score_volumes/atlasV5_down32_scoreVolume_warp17_MD592_prep2_detector15_down32_scoreVolume_10N_R.bp\" \"/home/yuncong/CSHL_volumes/atlasV5/atlasV5_down32_scoreVolume_warp17_MD592_prep2_detector15_down32_scoreVolume/score_volumes/atlasV5_down32_scoreVolume_warp17_MD592_prep2_detector15_down32_scoreVolume_10N_R.bp\"\n"
     ]
    },
    {
     "name": "stderr",
     "output_type": "stream",
     "text": [
      "marching cube: 34.46 seconds\n",
      "mesh_to_polydata: 0.00 seconds\n",
      "simplify 0 @ 3739: 0.03 seconds\n",
      "simplify 1 @ 749: 0.12 seconds\n",
      "simplify 2 @ 151: 0.03 seconds\n",
      "time: 38.29\n"
     ]
    },
    {
     "name": "stdout",
     "output_type": "stream",
     "text": [
      "VCA_L\n",
      "rm -rf \"/home/yuncong/CSHL_volumes/atlasV5/atlasV5_down32_scoreVolume_warp17_MD592_prep2_detector15_down32_scoreVolume/score_volumes/atlasV5_down32_scoreVolume_warp17_MD592_prep2_detector15_down32_scoreVolume_VCA_L.bp\" && mkdir -p \"/home/yuncong/CSHL_volumes/atlasV5/atlasV5_down32_scoreVolume_warp17_MD592_prep2_detector15_down32_scoreVolume/score_volumes\"\n",
      "aws s3 cp \"s3://mousebrainatlas-data/CSHL_volumes/atlasV5/atlasV5_down32_scoreVolume_warp17_MD592_prep2_detector15_down32_scoreVolume/score_volumes/atlasV5_down32_scoreVolume_warp17_MD592_prep2_detector15_down32_scoreVolume_VCA_L.bp\" \"/home/yuncong/CSHL_volumes/atlasV5/atlasV5_down32_scoreVolume_warp17_MD592_prep2_detector15_down32_scoreVolume/score_volumes/atlasV5_down32_scoreVolume_warp17_MD592_prep2_detector15_down32_scoreVolume_VCA_L.bp\"\n"
     ]
    },
    {
     "name": "stderr",
     "output_type": "stream",
     "text": [
      "marching cube: 22.64 seconds\n",
      "mesh_to_polydata: 0.08 seconds\n",
      "simplify 0 @ 13302: 0.41 seconds\n",
      "simplify 1 @ 2662: 0.12 seconds\n",
      "simplify 2 @ 533: 0.02 seconds\n",
      "time: 25.47\n"
     ]
    },
    {
     "name": "stdout",
     "output_type": "stream",
     "text": [
      "VCA_R\n",
      "rm -rf \"/home/yuncong/CSHL_volumes/atlasV5/atlasV5_down32_scoreVolume_warp17_MD592_prep2_detector15_down32_scoreVolume/score_volumes/atlasV5_down32_scoreVolume_warp17_MD592_prep2_detector15_down32_scoreVolume_VCA_R.bp\" && mkdir -p \"/home/yuncong/CSHL_volumes/atlasV5/atlasV5_down32_scoreVolume_warp17_MD592_prep2_detector15_down32_scoreVolume/score_volumes\"\n",
      "aws s3 cp \"s3://mousebrainatlas-data/CSHL_volumes/atlasV5/atlasV5_down32_scoreVolume_warp17_MD592_prep2_detector15_down32_scoreVolume/score_volumes/atlasV5_down32_scoreVolume_warp17_MD592_prep2_detector15_down32_scoreVolume_VCA_R.bp\" \"/home/yuncong/CSHL_volumes/atlasV5/atlasV5_down32_scoreVolume_warp17_MD592_prep2_detector15_down32_scoreVolume/score_volumes/atlasV5_down32_scoreVolume_warp17_MD592_prep2_detector15_down32_scoreVolume_VCA_R.bp\"\n"
     ]
    },
    {
     "name": "stderr",
     "output_type": "stream",
     "text": [
      "marching cube: 22.42 seconds\n",
      "mesh_to_polydata: 0.07 seconds\n",
      "simplify 0 @ 13629: 0.40 seconds\n",
      "simplify 1 @ 2727: 0.40 seconds\n",
      "simplify 2 @ 546: 0.09 seconds\n",
      "time: 26.33\n"
     ]
    },
    {
     "name": "stdout",
     "output_type": "stream",
     "text": [
      "VCP_L\n",
      "rm -rf \"/home/yuncong/CSHL_volumes/atlasV5/atlasV5_down32_scoreVolume_warp17_MD592_prep2_detector15_down32_scoreVolume/score_volumes/atlasV5_down32_scoreVolume_warp17_MD592_prep2_detector15_down32_scoreVolume_VCP_L.bp\" && mkdir -p \"/home/yuncong/CSHL_volumes/atlasV5/atlasV5_down32_scoreVolume_warp17_MD592_prep2_detector15_down32_scoreVolume/score_volumes\"\n",
      "aws s3 cp \"s3://mousebrainatlas-data/CSHL_volumes/atlasV5/atlasV5_down32_scoreVolume_warp17_MD592_prep2_detector15_down32_scoreVolume/score_volumes/atlasV5_down32_scoreVolume_warp17_MD592_prep2_detector15_down32_scoreVolume_VCP_L.bp\" \"/home/yuncong/CSHL_volumes/atlasV5/atlasV5_down32_scoreVolume_warp17_MD592_prep2_detector15_down32_scoreVolume/score_volumes/atlasV5_down32_scoreVolume_warp17_MD592_prep2_detector15_down32_scoreVolume_VCP_L.bp\"\n"
     ]
    },
    {
     "name": "stderr",
     "output_type": "stream",
     "text": [
      "marching cube: 22.61 seconds\n",
      "mesh_to_polydata: 0.04 seconds\n",
      "simplify 0 @ 6798: 0.20 seconds\n",
      "simplify 1 @ 1361: 0.19 seconds\n",
      "simplify 2 @ 273: 0.05 seconds\n",
      "time: 26.29\n"
     ]
    },
    {
     "name": "stdout",
     "output_type": "stream",
     "text": [
      "VCP_R\n",
      "rm -rf \"/home/yuncong/CSHL_volumes/atlasV5/atlasV5_down32_scoreVolume_warp17_MD592_prep2_detector15_down32_scoreVolume/score_volumes/atlasV5_down32_scoreVolume_warp17_MD592_prep2_detector15_down32_scoreVolume_VCP_R.bp\" && mkdir -p \"/home/yuncong/CSHL_volumes/atlasV5/atlasV5_down32_scoreVolume_warp17_MD592_prep2_detector15_down32_scoreVolume/score_volumes\"\n",
      "aws s3 cp \"s3://mousebrainatlas-data/CSHL_volumes/atlasV5/atlasV5_down32_scoreVolume_warp17_MD592_prep2_detector15_down32_scoreVolume/score_volumes/atlasV5_down32_scoreVolume_warp17_MD592_prep2_detector15_down32_scoreVolume_VCP_R.bp\" \"/home/yuncong/CSHL_volumes/atlasV5/atlasV5_down32_scoreVolume_warp17_MD592_prep2_detector15_down32_scoreVolume/score_volumes/atlasV5_down32_scoreVolume_warp17_MD592_prep2_detector15_down32_scoreVolume_VCP_R.bp\"\n"
     ]
    },
    {
     "name": "stderr",
     "output_type": "stream",
     "text": [
      "marching cube: 19.70 seconds\n",
      "mesh_to_polydata: 0.01 seconds\n",
      "simplify 0 @ 7094: 0.04 seconds\n",
      "simplify 1 @ 1420: 0.05 seconds\n",
      "simplify 2 @ 285: 0.01 seconds\n",
      "time: 22.09\n"
     ]
    },
    {
     "name": "stdout",
     "output_type": "stream",
     "text": [
      "DC_L\n",
      "rm -rf \"/home/yuncong/CSHL_volumes/atlasV5/atlasV5_down32_scoreVolume_warp17_MD592_prep2_detector15_down32_scoreVolume/score_volumes/atlasV5_down32_scoreVolume_warp17_MD592_prep2_detector15_down32_scoreVolume_DC_L.bp\" && mkdir -p \"/home/yuncong/CSHL_volumes/atlasV5/atlasV5_down32_scoreVolume_warp17_MD592_prep2_detector15_down32_scoreVolume/score_volumes\"\n",
      "aws s3 cp \"s3://mousebrainatlas-data/CSHL_volumes/atlasV5/atlasV5_down32_scoreVolume_warp17_MD592_prep2_detector15_down32_scoreVolume/score_volumes/atlasV5_down32_scoreVolume_warp17_MD592_prep2_detector15_down32_scoreVolume_DC_L.bp\" \"/home/yuncong/CSHL_volumes/atlasV5/atlasV5_down32_scoreVolume_warp17_MD592_prep2_detector15_down32_scoreVolume/score_volumes/atlasV5_down32_scoreVolume_warp17_MD592_prep2_detector15_down32_scoreVolume_DC_L.bp\"\n"
     ]
    },
    {
     "name": "stderr",
     "output_type": "stream",
     "text": [
      "marching cube: 14.10 seconds\n",
      "mesh_to_polydata: 0.02 seconds\n",
      "simplify 0 @ 12488: 0.13 seconds\n",
      "simplify 1 @ 2499: 0.14 seconds\n",
      "simplify 2 @ 501: 0.03 seconds\n",
      "time: 16.48\n"
     ]
    },
    {
     "name": "stdout",
     "output_type": "stream",
     "text": [
      "DC_R\n",
      "rm -rf \"/home/yuncong/CSHL_volumes/atlasV5/atlasV5_down32_scoreVolume_warp17_MD592_prep2_detector15_down32_scoreVolume/score_volumes/atlasV5_down32_scoreVolume_warp17_MD592_prep2_detector15_down32_scoreVolume_DC_R.bp\" && mkdir -p \"/home/yuncong/CSHL_volumes/atlasV5/atlasV5_down32_scoreVolume_warp17_MD592_prep2_detector15_down32_scoreVolume/score_volumes\"\n",
      "aws s3 cp \"s3://mousebrainatlas-data/CSHL_volumes/atlasV5/atlasV5_down32_scoreVolume_warp17_MD592_prep2_detector15_down32_scoreVolume/score_volumes/atlasV5_down32_scoreVolume_warp17_MD592_prep2_detector15_down32_scoreVolume_DC_R.bp\" \"/home/yuncong/CSHL_volumes/atlasV5/atlasV5_down32_scoreVolume_warp17_MD592_prep2_detector15_down32_scoreVolume/score_volumes/atlasV5_down32_scoreVolume_warp17_MD592_prep2_detector15_down32_scoreVolume_DC_R.bp\"\n"
     ]
    },
    {
     "name": "stderr",
     "output_type": "stream",
     "text": [
      "marching cube: 16.00 seconds\n",
      "mesh_to_polydata: 0.02 seconds\n",
      "simplify 0 @ 13050: 0.08 seconds\n",
      "simplify 1 @ 2613: 0.16 seconds\n",
      "simplify 2 @ 523: 0.08 seconds\n",
      "time: 19.07\n"
     ]
    },
    {
     "name": "stdout",
     "output_type": "stream",
     "text": [
      "AP\n",
      "rm -rf \"/home/yuncong/CSHL_volumes/atlasV5/atlasV5_down32_scoreVolume_warp17_MD592_prep2_detector15_down32_scoreVolume/score_volumes/atlasV5_down32_scoreVolume_warp17_MD592_prep2_detector15_down32_scoreVolume_AP.bp\" && mkdir -p \"/home/yuncong/CSHL_volumes/atlasV5/atlasV5_down32_scoreVolume_warp17_MD592_prep2_detector15_down32_scoreVolume/score_volumes\"\n",
      "aws s3 cp \"s3://mousebrainatlas-data/CSHL_volumes/atlasV5/atlasV5_down32_scoreVolume_warp17_MD592_prep2_detector15_down32_scoreVolume/score_volumes/atlasV5_down32_scoreVolume_warp17_MD592_prep2_detector15_down32_scoreVolume_AP.bp\" \"/home/yuncong/CSHL_volumes/atlasV5/atlasV5_down32_scoreVolume_warp17_MD592_prep2_detector15_down32_scoreVolume/score_volumes/atlasV5_down32_scoreVolume_warp17_MD592_prep2_detector15_down32_scoreVolume_AP.bp\"\n"
     ]
    },
    {
     "name": "stderr",
     "output_type": "stream",
     "text": [
      "marching cube: 13.72 seconds\n",
      "mesh_to_polydata: 0.00 seconds\n",
      "simplify 0 @ 2580: 0.02 seconds\n",
      "simplify 1 @ 518: 0.02 seconds\n",
      "simplify 2 @ 105: 0.00 seconds\n",
      "time: 15.71\n"
     ]
    },
    {
     "name": "stdout",
     "output_type": "stream",
     "text": [
      "12N\n",
      "rm -rf \"/home/yuncong/CSHL_volumes/atlasV5/atlasV5_down32_scoreVolume_warp17_MD592_prep2_detector15_down32_scoreVolume/score_volumes/atlasV5_down32_scoreVolume_warp17_MD592_prep2_detector15_down32_scoreVolume_12N.bp\" && mkdir -p \"/home/yuncong/CSHL_volumes/atlasV5/atlasV5_down32_scoreVolume_warp17_MD592_prep2_detector15_down32_scoreVolume/score_volumes\"\n",
      "aws s3 cp \"s3://mousebrainatlas-data/CSHL_volumes/atlasV5/atlasV5_down32_scoreVolume_warp17_MD592_prep2_detector15_down32_scoreVolume/score_volumes/atlasV5_down32_scoreVolume_warp17_MD592_prep2_detector15_down32_scoreVolume_12N.bp\" \"/home/yuncong/CSHL_volumes/atlasV5/atlasV5_down32_scoreVolume_warp17_MD592_prep2_detector15_down32_scoreVolume/score_volumes/atlasV5_down32_scoreVolume_warp17_MD592_prep2_detector15_down32_scoreVolume_12N.bp\"\n"
     ]
    },
    {
     "name": "stderr",
     "output_type": "stream",
     "text": [
      "marching cube: 11.64 seconds\n",
      "mesh_to_polydata: 0.04 seconds\n",
      "simplify 0 @ 12518: 0.13 seconds\n",
      "simplify 1 @ 2507: 0.09 seconds\n",
      "simplify 2 @ 502: 0.02 seconds\n",
      "time: 12.94\n"
     ]
    },
    {
     "name": "stdout",
     "output_type": "stream",
     "text": [
      "RtTg\n",
      "rm -rf \"/home/yuncong/CSHL_volumes/atlasV5/atlasV5_down32_scoreVolume_warp17_MD592_prep2_detector15_down32_scoreVolume/score_volumes/atlasV5_down32_scoreVolume_warp17_MD592_prep2_detector15_down32_scoreVolume_RtTg.bp\" && mkdir -p \"/home/yuncong/CSHL_volumes/atlasV5/atlasV5_down32_scoreVolume_warp17_MD592_prep2_detector15_down32_scoreVolume/score_volumes\"\n",
      "aws s3 cp \"s3://mousebrainatlas-data/CSHL_volumes/atlasV5/atlasV5_down32_scoreVolume_warp17_MD592_prep2_detector15_down32_scoreVolume/score_volumes/atlasV5_down32_scoreVolume_warp17_MD592_prep2_detector15_down32_scoreVolume_RtTg.bp\" \"/home/yuncong/CSHL_volumes/atlasV5/atlasV5_down32_scoreVolume_warp17_MD592_prep2_detector15_down32_scoreVolume/score_volumes/atlasV5_down32_scoreVolume_warp17_MD592_prep2_detector15_down32_scoreVolume_RtTg.bp\"\n"
     ]
    },
    {
     "name": "stderr",
     "output_type": "stream",
     "text": [
      "marching cube: 11.06 seconds\n",
      "mesh_to_polydata: 0.04 seconds\n",
      "simplify 0 @ 27301: 0.23 seconds\n",
      "simplify 1 @ 5462: 0.25 seconds\n",
      "simplify 2 @ 1093: 0.05 seconds\n",
      "time: 12.58\n"
     ]
    },
    {
     "name": "stdout",
     "output_type": "stream",
     "text": [
      "SC\n",
      "rm -rf \"/home/yuncong/CSHL_volumes/atlasV5/atlasV5_down32_scoreVolume_warp17_MD592_prep2_detector15_down32_scoreVolume/score_volumes/atlasV5_down32_scoreVolume_warp17_MD592_prep2_detector15_down32_scoreVolume_SC.bp\" && mkdir -p \"/home/yuncong/CSHL_volumes/atlasV5/atlasV5_down32_scoreVolume_warp17_MD592_prep2_detector15_down32_scoreVolume/score_volumes\"\n",
      "aws s3 cp \"s3://mousebrainatlas-data/CSHL_volumes/atlasV5/atlasV5_down32_scoreVolume_warp17_MD592_prep2_detector15_down32_scoreVolume/score_volumes/atlasV5_down32_scoreVolume_warp17_MD592_prep2_detector15_down32_scoreVolume_SC.bp\" \"/home/yuncong/CSHL_volumes/atlasV5/atlasV5_down32_scoreVolume_warp17_MD592_prep2_detector15_down32_scoreVolume/score_volumes/atlasV5_down32_scoreVolume_warp17_MD592_prep2_detector15_down32_scoreVolume_SC.bp\"\n"
     ]
    },
    {
     "name": "stderr",
     "output_type": "stream",
     "text": [
      "marching cube: 12.95 seconds\n",
      "mesh_to_polydata: 0.68 seconds\n",
      "simplify 0 @ 126204: 1.20 seconds\n",
      "simplify 1 @ 25248: 2.00 seconds\n",
      "simplify 2 @ 5050: 0.27 seconds\n",
      "time: 18.11\n"
     ]
    },
    {
     "name": "stdout",
     "output_type": "stream",
     "text": [
      "IC\n",
      "rm -rf \"/home/yuncong/CSHL_volumes/atlasV5/atlasV5_down32_scoreVolume_warp17_MD592_prep2_detector15_down32_scoreVolume/score_volumes/atlasV5_down32_scoreVolume_warp17_MD592_prep2_detector15_down32_scoreVolume_IC.bp\" && mkdir -p \"/home/yuncong/CSHL_volumes/atlasV5/atlasV5_down32_scoreVolume_warp17_MD592_prep2_detector15_down32_scoreVolume/score_volumes\"\n",
      "aws s3 cp \"s3://mousebrainatlas-data/CSHL_volumes/atlasV5/atlasV5_down32_scoreVolume_warp17_MD592_prep2_detector15_down32_scoreVolume/score_volumes/atlasV5_down32_scoreVolume_warp17_MD592_prep2_detector15_down32_scoreVolume_IC.bp\" \"/home/yuncong/CSHL_volumes/atlasV5/atlasV5_down32_scoreVolume_warp17_MD592_prep2_detector15_down32_scoreVolume/score_volumes/atlasV5_down32_scoreVolume_warp17_MD592_prep2_detector15_down32_scoreVolume_IC.bp\"\n"
     ]
    },
    {
     "name": "stderr",
     "output_type": "stream",
     "text": [
      "marching cube: 13.43 seconds\n",
      "mesh_to_polydata: 0.15 seconds\n",
      "simplify 0 @ 99800: 0.94 seconds\n",
      "simplify 1 @ 19965: 1.04 seconds\n",
      "simplify 2 @ 3993: 0.22 seconds\n",
      "time: 16.74\n"
     ]
    }
   ],
   "source": [
    "# Render locally transformed atlas structures\n",
    "\n",
    "for structure in all_known_structures_sided:\n",
    "# for structure in ['Pn_R']:\n",
    "\n",
    "    print structure\n",
    "    \n",
    "    try:\n",
    "    \n",
    "        global_transformed_volume = \\\n",
    "        DataManager.load_transformed_volume(stack_m=atlas_name, vol_type_m='score', \n",
    "                                            stack_f=stack, vol_type_f='score',\n",
    "                                            downscale=32, \n",
    "                                            detector_id_f=detector_id,\n",
    "                                            prep_id_f=2,\n",
    "                                            warp_setting=17,\n",
    "                                            structure=structure)\n",
    "\n",
    "        t = time.time()\n",
    "        polydata = volume_to_polydata(global_transformed_volume, num_simplify_iter=3, smooth=True, level=0.5)\n",
    "        sys.stderr.write('time: %.2f\\n' % (time.time() - t))\n",
    "\n",
    "        mesh_fn = DataManager.get_mesh_filepath(stack_m=atlas_name, vol_type_m='score', \n",
    "                                                stack_f=stack, vol_type_f='score', \n",
    "                                               downscale=32,\n",
    "                                                prep_id_f=2,\n",
    "                                            detector_id_f=detector_id,\n",
    "                                               warp_setting=17,\n",
    "                                               structure=structure)\n",
    "#         print mesh_fn\n",
    "        save_mesh(polydata, mesh_fn)\n",
    "        \n",
    "    except Exception as e:\n",
    "        sys.stderr.write('Error transforming volume %s: %s.\\n' % (structure, e))"
   ]
  },
  {
   "cell_type": "markdown",
   "metadata": {
    "collapsed": true
   },
   "source": [
    "# Load"
   ]
  },
  {
   "cell_type": "code",
   "execution_count": 4,
   "metadata": {
    "collapsed": true
   },
   "outputs": [],
   "source": [
    "# classifier_setting = 37\n",
    "detector_id = 15"
   ]
  },
  {
   "cell_type": "code",
   "execution_count": 5,
   "metadata": {
    "collapsed": true
   },
   "outputs": [],
   "source": [
    "# Load global transformed atlas structure meshes\n",
    "\n",
    "global_transformed_atlas_polydata_rel2fixedvol_list = \\\n",
    "DataManager.load_meshes(stack_m=atlas_name, vol_type_m='score', \n",
    "                                             stack_f=stack, vol_type_f='score', \n",
    "                                           prep_id_f=2,\n",
    "                                           detector_id_f=15,\n",
    "                                           warp_setting=20, sided=True)"
   ]
  },
  {
   "cell_type": "code",
   "execution_count": 6,
   "metadata": {
    "collapsed": true,
    "scrolled": true
   },
   "outputs": [],
   "source": [
    "# # Load global transformed atlas structure meshes\n",
    "\n",
    "# global_transformed_atlas_polydata_list = \\\n",
    "# DataManager.load_meshes(stack_m=atlas_name, type_m='score', \n",
    "#                                              stack_f=stack, type_f='score', \n",
    "#                                            classifier_setting_m=classifier_setting,\n",
    "#                                            classifier_setting_f=classifier_setting,\n",
    "#                                            warp_setting=1, sided=True)"
   ]
  },
  {
   "cell_type": "code",
   "execution_count": 7,
   "metadata": {
    "collapsed": true,
    "scrolled": true
   },
   "outputs": [],
   "source": [
    "# launch_vtk([actor_mesh(p, wireframe=False, color=structure_colors[convert_name_to_unsided(n)]/255., opacity=.3) \n",
    "#             for n, p in global_transformed_atlas_polydata_list.iteritems()])"
   ]
  },
  {
   "cell_type": "code",
   "execution_count": 8,
   "metadata": {
    "collapsed": true
   },
   "outputs": [],
   "source": [
    "# Load locally transformed atlas structure meshes\n",
    "\n",
    "# local_transformed_atlas_polydata_list = \\\n",
    "# DataManager.load_meshes(stack_m=atlas_name, type_m='score', \n",
    "#                                            stack_f=stack, type_f='score', \n",
    "#                                            classifier_setting_m=classifier_setting,\n",
    "#                                            classifier_setting_f=classifier_setting,\n",
    "#                                            warp_setting=8, sided=True)\n",
    "\n",
    "local_transformed_atlas_polydata_rel2fixedvol_list = \\\n",
    "DataManager.load_meshes(stack_m=atlas_name, vol_type_m='score', \n",
    "                                             stack_f=stack, vol_type_f='score', \n",
    "                                           prep_id_f=2,\n",
    "                                           detector_id_f=15,\n",
    "                                           warp_setting=17, sided=True)"
   ]
  },
  {
   "cell_type": "code",
   "execution_count": 47,
   "metadata": {
    "collapsed": true
   },
   "outputs": [],
   "source": [
    "# launch_vtk([actor_mesh(p, wireframe=True, color=structure_colors[convert_name_to_unsided(n)]/255., opacity=.3) \n",
    "#             for n, p in local_transformed_atlas_polydata_list.iteritems()])"
   ]
  },
  {
   "cell_type": "code",
   "execution_count": 48,
   "metadata": {
    "collapsed": true
   },
   "outputs": [],
   "source": [
    "# crop_xmin, crop_xmax, crop_ymin, crop_ymax = metadata_cache['cropbox'][stack]\n",
    "# print 'crop:', crop_xmin, crop_xmax, crop_ymin, crop_ymax"
   ]
  },
  {
   "cell_type": "code",
   "execution_count": 9,
   "metadata": {},
   "outputs": [
    {
     "name": "stdout",
     "output_type": "stream",
     "text": [
      "fixed tb volume box: [ 569 1053  140  512  125  503]\n"
     ]
    }
   ],
   "source": [
    "tbvol_bbox_rel2uncropped = \\\n",
    "DataManager.load_original_volume_bbox(stack=stack, volume_type='thumbnail', downscale=32, detector_id=detector_id,\n",
    "                                     relative_to_uncropped=True)\n",
    "\n",
    "print 'fixed tb volume box:', tbvol_bbox_rel2uncropped"
   ]
  },
  {
   "cell_type": "code",
   "execution_count": 10,
   "metadata": {
    "collapsed": true
   },
   "outputs": [],
   "source": [
    "shell_polydata_rel2MD589uncropped = DataManager.load_shell_mesh(stack='MD589', downscale=32, return_polydata_only=True)"
   ]
  },
  {
   "cell_type": "code",
   "execution_count": 11,
   "metadata": {
    "collapsed": true,
    "scrolled": true
   },
   "outputs": [],
   "source": [
    "# Get thumbnail volume\n",
    "\n",
    "tb_volume = DataManager.load_intensity_volume(stack=stack)\n",
    "\n",
    "# Show only selected sections\n",
    "\n",
    "tb_volume_sectioned = np.zeros_like(tb_volume)\n",
    "interval = 1\n",
    "for z in range(tb_volume_sectioned.shape[2]/2, tb_volume_sectioned.shape[2], interval):\n",
    "# for z in [180]:\n",
    "    tb_volume_sectioned[:, :, z:z+interval] = tb_volume[:,:,z:z+interval]"
   ]
  },
  {
   "cell_type": "markdown",
   "metadata": {},
   "source": [
    "everything relative to uncropped"
   ]
  },
  {
   "cell_type": "code",
   "execution_count": 52,
   "metadata": {
    "collapsed": true
   },
   "outputs": [],
   "source": [
    "# high_contrast_colors = np.random.permutation(high_contrast_colors)\n",
    "# map_name_s_to_color = {s: np.array(high_contrast_colors[i%len(high_contrast_colors)]) \n",
    "#                      for i, s in enumerate(all_known_structures_sided) }\n",
    "# map_name_u_to_color = {s: np.array(high_contrast_colors[i%len(high_contrast_colors)]) \n",
    "#                      for i, s in enumerate(all_known_structures) }"
   ]
  },
  {
   "cell_type": "code",
   "execution_count": 12,
   "metadata": {
    "collapsed": true,
    "scrolled": true
   },
   "outputs": [],
   "source": [
    "shell_actor_rel2MD589uncropped = actor_mesh(shell_polydata_rel2MD589uncropped, color=(1,1,1), opacity=.1, wireframe=False)"
   ]
  },
  {
   "cell_type": "code",
   "execution_count": 89,
   "metadata": {
    "collapsed": true
   },
   "outputs": [],
   "source": [
    "global_transformed_atlas_actors_rel2uncropped = {name_s: actor_mesh(p, \n",
    "                                              wireframe=True, \n",
    "#                                               color=np.array(name_unsided_to_color[convert_to_original_name(name_s)])/255., \n",
    "                                                                    color=(0,1,0),\n",
    "                                              opacity=.5, \n",
    "                                              origin=tbvol_bbox_rel2uncropped[[0,2,4]]) \n",
    " for name_s, p in global_transformed_atlas_polydata_rel2fixedvol_list.iteritems()}"
   ]
  },
  {
   "cell_type": "code",
   "execution_count": 88,
   "metadata": {
    "collapsed": true
   },
   "outputs": [],
   "source": [
    "local_transformed_atlas_actors_rel2uncropped = {n: actor_mesh(p, \n",
    "#                                              wireframe=False if convert_name_to_unsided(n) == '7N' else False, \n",
    "                                             wireframe=True, \n",
    "#                                              color=np.array(name_unsided_to_color[convert_to_unsided_label(n)])/255., \n",
    "                                             color=(1,0,0), \n",
    "#                                              opacity=1. if convert_name_to_unsided(n) == '7N' else .1,\n",
    "                                             opacity=.8,\n",
    "                                             origin=tbvol_bbox_rel2uncropped[[0,2,4]]) \n",
    "            for n, p in local_transformed_atlas_polydata_rel2fixedvol_list.iteritems()}"
   ]
  },
  {
   "cell_type": "code",
   "execution_count": 15,
   "metadata": {
    "collapsed": true
   },
   "outputs": [],
   "source": [
    "tb_volume_actor_rel2uncropped = actor_volume(tb_volume_sectioned, what='tb', \n",
    "                               origin=tbvol_bbox_rel2uncropped[[0,2,4]],\n",
    "                              tb_opacity=.5)"
   ]
  },
  {
   "cell_type": "code",
   "execution_count": 16,
   "metadata": {
    "collapsed": true
   },
   "outputs": [],
   "source": [
    "canonical_centroid_rel2MD589cropped = np.loadtxt(DataManager.get_atlas_canonical_centroid_filepath('atlasV5'))"
   ]
  },
  {
   "cell_type": "code",
   "execution_count": 104,
   "metadata": {
    "collapsed": true
   },
   "outputs": [],
   "source": [
    "sc_vol = DataManager.load_original_volume(stack=stack, structure='7N', downscale=32, prep_id=2, detector_id=detector_id)\n",
    "scvol_bbox_rel2uncropped = DataManager.load_original_volume_bbox(stack=stack, volume_type='score', structure='7N', downscale=32, prep_id=2, detector_id=detector_id, relative_to_uncropped=True)"
   ]
  },
  {
   "cell_type": "code",
   "execution_count": 105,
   "metadata": {},
   "outputs": [
    {
     "name": "stdout",
     "output_type": "stream",
     "text": [
      "[ 569 1053  140  512  125  503]\n",
      "[221 285 302 352  77 149]\n",
      "[ 569 1053  140  512  125  503]\n",
      "[217 283 289 341 247 309]\n"
     ]
    }
   ],
   "source": [
    "score_show_limit = 0.85\n",
    "outside_roi_opacity = 0.005\n",
    "in_roi_opacity = 0.1\n",
    "# in_roi_opacity = 0.01\n",
    "\n",
    "roi_m2f_bbox_rel2sc_allrois = {}\n",
    "for s in ['7N_L', '7N_R']:\n",
    "# for s in ['5N_L', '5N_R']:\n",
    "# for s in ['SNR_L', 'SNR_R']:\n",
    "\n",
    "    movingvol_m2f = DataManager.load_transformed_volume(stack_m=atlas_name, stack_f=stack, warp_setting=17, \n",
    "                                       detector_id_f=15, prep_id_f=2, structure=s)\n",
    "    movingvol_m2f_bbox_rel2uncropped = DataManager.load_original_volume_bbox(stack=stack, volume_type='score',\n",
    "                                       detector_id=15, prep_id=2, structure=convert_to_original_name(s), relative_to_uncropped=True)\n",
    "    print movingvol_m2f_bbox_rel2uncropped\n",
    "\n",
    "    roi_m2f_bbox_rel2sc = np.array(bbox_3d(movingvol_m2f)) + np.array(movingvol_m2f_bbox_rel2uncropped[[0,0,2,2,4,4]]) - np.array(scvol_bbox_rel2uncropped[[0,0,2,2,4,4]])\n",
    "    print roi_m2f_bbox_rel2sc\n",
    "    roi_m2f_bbox_rel2sc_allrois[s] = roi_m2f_bbox_rel2sc\n",
    "\n",
    "toshow_xyzs_rel2sc = np.array(np.nonzero(sc_vol > score_show_limit))[[1,0,2]].T # these are shown with lower opacity\n",
    "\n",
    "vol_opacity = np.zeros(sc_vol.shape, np.float32)\n",
    "for x_rel2sc, y_rel2sc, z_rel2sc in toshow_xyzs_rel2sc:\n",
    "    vol_opacity[y_rel2sc, x_rel2sc, z_rel2sc] = outside_roi_opacity\n",
    "    for s, roi_m2f_bbox_rel2sc in roi_m2f_bbox_rel2sc_allrois.iteritems():\n",
    "        if \\\n",
    "        x_rel2sc > roi_m2f_bbox_rel2sc[0] and x_rel2sc < roi_m2f_bbox_rel2sc[1] and \\\n",
    "        y_rel2sc > roi_m2f_bbox_rel2sc[2] and y_rel2sc < roi_m2f_bbox_rel2sc[3] and \\\n",
    "        z_rel2sc > roi_m2f_bbox_rel2sc[4] and z_rel2sc < roi_m2f_bbox_rel2sc[5]:\n",
    "            vol_opacity[y_rel2sc, x_rel2sc, z_rel2sc] = in_roi_opacity\n",
    "\n",
    "#######################\n",
    "\n",
    "score_volume_actor_rel2uncropped = actor_volume(sc_vol.astype(np.float32), what='score', c=(0,0,0),\n",
    "                  origin=scvol_bbox_rel2uncropped[[0,2,4]], auxdata=vol_opacity)"
   ]
  },
  {
   "cell_type": "code",
   "execution_count": null,
   "metadata": {
    "collapsed": true
   },
   "outputs": [],
   "source": [
    "# Note that the tb volumes and atlas meshes will in general not be aligned to shell. \n",
    "# This is because the shell is only aligned to MD589, not other brains."
   ]
  },
  {
   "cell_type": "code",
   "execution_count": 106,
   "metadata": {
    "collapsed": true
   },
   "outputs": [],
   "source": [
    "launch_vtk( [shell_actor_rel2MD589uncropped,\n",
    "    score_volume_actor_rel2uncropped, \n",
    "             global_transformed_atlas_actors_rel2uncropped['7N_R'],\n",
    "             global_transformed_atlas_actors_rel2uncropped['7N_L'],\n",
    "             global_transformed_atlas_actors_rel2uncropped['5N_R'],\n",
    "             global_transformed_atlas_actors_rel2uncropped['5N_L'],\n",
    "             global_transformed_atlas_actors_rel2uncropped['SNR_R'],\n",
    "             global_transformed_atlas_actors_rel2uncropped['SNR_L'],\n",
    "#              local_transformed_atlas_actors_rel2uncropped['SNR_R'],\n",
    "#              local_transformed_atlas_actors_rel2uncropped['SNR_L'],\n",
    "#              local_transformed_atlas_actors_rel2uncropped['5N_R'],\n",
    "#              local_transformed_atlas_actors_rel2uncropped['5N_L'],\n",
    "#              local_transformed_atlas_actors_rel2uncropped['7N_R'],\n",
    "#              local_transformed_atlas_actors_rel2uncropped['7N_L'],\n",
    "#             actor_sphere((0,0,0), radius=10)\n",
    "            ], \n",
    "                         view_up=(.3,-1,0),\n",
    "               position=(-4,-3,-6),\n",
    "               focal=(0,0,0),)"
   ]
  },
  {
   "cell_type": "code",
   "execution_count": 23,
   "metadata": {
    "collapsed": true
   },
   "outputs": [],
   "source": [
    "# Render global transformed structures + shell + thumbnail volume\n",
    "\n",
    "launch_vtk(\n",
    "    [shell_actor_rel2MD589uncropped, tb_volume_actor_rel2uncropped,           \n",
    "           ] + \\\n",
    "#     global_transformed_atlas_actors_rel2uncropped.values() + \\\n",
    "          local_transformed_atlas_actors_rel2uncropped.values()\n",
    "          )"
   ]
  },
  {
   "cell_type": "code",
   "execution_count": 68,
   "metadata": {
    "collapsed": true
   },
   "outputs": [],
   "source": [
    "# Render global transformed structures + shell\n",
    "\n",
    "launch_vtk([shell_actor_rel2MD589uncropped] + \\\n",
    "          global_transformed_atlas_actors_rel2uncropped.values())"
   ]
  },
  {
   "cell_type": "code",
   "execution_count": 51,
   "metadata": {
    "collapsed": true,
    "scrolled": true
   },
   "outputs": [],
   "source": [
    "# # Render structures + shell + labeled neurons\n",
    "\n",
    "# xys_grouped_by_section = {}\n",
    "# rs_grouped_by_section = {}\n",
    "# for fn in metadata_cache['valid_filenames'][stack]:\n",
    "#     if fn.split('-')[1][0] == 'F':\n",
    "#         try:\n",
    "#             xyr_tuples = DataManager.load_labeled_neurons_filepath(stack=stack, fn=fn)\n",
    "#             sec = metadata_cache['filenames_to_sections'][stack][fn]\n",
    "#             xys_grouped_by_section[sec] = [(x,y) for x,y,r in xyr_tuples]\n",
    "#             rs_grouped_by_section[sec] = [r for x,y,r in xyr_tuples]\n",
    "#         except:\n",
    "#             sys.stderr.write(\"No labeled neurons recorded for image %s.\\n\" % fn)\n",
    "\n",
    "# from conversion import *\n",
    "# volume_downsample = 32\n",
    "# xyzs_grouped_by_section = points2d_to_points3d(xys_grouped_by_section, pts2d_downsample=1, \n",
    "#                                                pts3d_downsample=volume_downsample, stack=stack)\n",
    "\n",
    "# xyzrs = np.concatenate([np.c_[xyzs + (crop_xmin + tb_vol_xmin, crop_ymin + tb_vol_ymin, tb_vol_zmin), \n",
    "#                               [r_um / (XY_PIXEL_DISTANCE_LOSSLESS * volume_downsample) for r_um in rs_grouped_by_section[sec]]]\n",
    "# for sec, xyzs in xyzs_grouped_by_section.iteritems()])\n",
    "\n",
    "# launch_vtk([shell_actor] + \\\n",
    "#           global_transformed_atlas_actors.values() + \\\n",
    "#           [actor_sphere(position=(x,y,z), radius=r) for x,y,z,r in xyzrs])"
   ]
  },
  {
   "cell_type": "code",
   "execution_count": 52,
   "metadata": {
    "collapsed": true
   },
   "outputs": [],
   "source": [
    "# # Zoom in the volume around a particular structure\n",
    "\n",
    "# roi_name_s = '3N_R'\n",
    "\n",
    "# vs = np.concatenate([polydata_to_mesh(local_transformed_atlas_polydata_rel2fixedvol_list[roi_name_s])[0],\n",
    "# polydata_to_mesh(global_transformed_atlas_polydata_rel2fixedvol_list[roi_name_s])[0]])\n",
    "\n",
    "# roi_xmin, roi_ymin, roi_zmin = (np.min(vs, axis=0) - 20).astype(np.int)\n",
    "# roi_xmax, roi_ymax, roi_zmax = (np.max(vs, axis=0) + 20).astype(np.int)\n",
    "\n",
    "# sc_vol = DataManager.load_original_volume(stack=stack, structure=convert_name_to_unsided(roi_name_s), \n",
    "#                                        downscale=32, detector_id=15, prep_id=2)\n",
    "\n",
    "# sc_vol[:roi_ymin, :, :] = 0\n",
    "# sc_vol[roi_ymax:, :, :] = 0\n",
    "# sc_vol[:, :roi_xmin, :] = 0\n",
    "# sc_vol[:, roi_xmax:, :] = 0\n",
    "# sc_vol[:, :, :roi_zmin-20] = 0\n",
    "# sc_vol[:, :, roi_zmax:] = 0\n",
    "\n",
    "\n",
    "# score_volume_actor = actor_volume(sc_vol.astype(np.float32), what='score', \n",
    "#                                   origin=(crop_xmin + tb_vol_xmin, crop_ymin + tb_vol_ymin, tb_vol_zmin))\n",
    "\n",
    "# launch_vtk( [score_volume_actor, \n",
    "#              global_transformed_atlas_actors[roi_name_s],\n",
    "#              local_transformed_atlas_actors[roi_name_s],\n",
    "#             shell_actor])"
   ]
  }
 ],
 "metadata": {
  "kernelspec": {
   "display_name": "Python 2",
   "language": "python",
   "name": "python2"
  },
  "language_info": {
   "codemirror_mode": {
    "name": "ipython",
    "version": 2
   },
   "file_extension": ".py",
   "mimetype": "text/x-python",
   "name": "python",
   "nbconvert_exporter": "python",
   "pygments_lexer": "ipython2",
   "version": "2.7.12"
  }
 },
 "nbformat": 4,
 "nbformat_minor": 1
}
