{
 "cells": [
  {
   "cell_type": "code",
   "execution_count": 2,
   "metadata": {},
   "outputs": [
    {
     "name": "stdout",
     "output_type": "stream",
     "text": [
      "Setting environment for Local Macbook Pro\n"
     ]
    }
   ],
   "source": [
    "%reload_ext autoreload\n",
    "%autoreload 2\n",
    "\n",
    "import numpy as np\n",
    "import bloscpack as bp\n",
    "\n",
    "import sys\n",
    "import os\n",
    "sys.path.append(os.path.join(os.environ['REPO_DIR'], 'utilities'))\n",
    "from utilities2015 import *\n",
    "from data_manager import *\n",
    "from metadata import *\n",
    "\n",
    "from annotation_utilities import *\n",
    "\n",
    "from itertools import izip\n",
    "import pandas as pd\n",
    "\n",
    "import time\n",
    "\n",
    "import matplotlib.pyplot as plt\n",
    "%matplotlib inline\n",
    "\n",
    "from vis3d_utilities import *"
   ]
  },
  {
   "cell_type": "markdown",
   "metadata": {},
   "source": [
    "# Show annotated stacks"
   ]
  },
  {
   "cell_type": "code",
   "execution_count": 58,
   "metadata": {
    "collapsed": true
   },
   "outputs": [],
   "source": [
    "stack = 'MD589'"
   ]
  },
  {
   "cell_type": "code",
   "execution_count": 61,
   "metadata": {
    "collapsed": true
   },
   "outputs": [],
   "source": [
    "shell_polydata_rel2MD589uncropped = DataManager.load_shell_mesh(stack='MD589', downscale=32)\n",
    "shell_actor_rel2MD589uncropped = actor_mesh(shell_polydata_rel2MD589uncropped, (1,1,1), opacity=.1, wireframe=False)"
   ]
  },
  {
   "cell_type": "code",
   "execution_count": 76,
   "metadata": {
    "collapsed": true
   },
   "outputs": [],
   "source": [
    "composite_atlasvol = np.zeros_like(atlasvol, np.float32)\n",
    "composite_atlasvol_opacity = np.zeros_like(atlasvol, np.float32)\n",
    "\n",
    "vol_all = None\n",
    "vol_opacity_all = None\n",
    "\n",
    "vol_bbox_rel2uncropped = DataManager.load_original_volume_bbox(stack=stack, volume_type='annotationAsScore', \n",
    "                                                               structure='7N_L', downscale=32, relative_to_uncropped=True)\n",
    "\n",
    "# for name_s in all_known_structures_sided:\n",
    "for name_s in ['7N_L', '7N_R']:\n",
    "    vol = DataManager.load_original_volume(stack=stack, volume_type='annotationAsScore', structure=name_s, downscale=32)\n",
    "    if vol_all is None:\n",
    "        vol_all = vol\n",
    "    else:\n",
    "        vol_all = np.maximum(vol_all, vol)\n",
    "        \n",
    "    vol_opacity = np.zeros_like(vol, np.float32)\n",
    "    vol_opacity[vol > 0.5] = 1.\n",
    "    if vol_opacity_all is None:\n",
    "        vol_opacity_all = vol_opacity\n",
    "    else:\n",
    "        vol_opacity_all = np.maximum(vol_opacity_all, vol_opacity)\n",
    "    \n",
    "launch_vtk([shell_actor_rel2MD589uncropped, \n",
    "        actor_volume(vol_all, what='score', \n",
    "                     auxdata=vol_opacity_all, \n",
    "                     origin=vol_bbox_rel2uncropped[[0,2,4]])],\n",
    "      view_up=(.3,-1,0),\n",
    "       position=(-4,-3,-6),\n",
    "       focal=(0,0,0),\n",
    "    axes=False)"
   ]
  },
  {
   "cell_type": "markdown",
   "metadata": {},
   "source": [
    "# Show atlas as fuzzy score volumes"
   ]
  },
  {
   "cell_type": "code",
   "execution_count": 3,
   "metadata": {},
   "outputs": [],
   "source": [
    "atlas_name = 'atlasV5'\n",
    "\n",
    "canonical_centroid_rel2MD589uncropped = np.loadtxt(DataManager.get_atlas_canonical_centroid_filepath(atlas_name))\n",
    "atlasvol_bbox_rel2MD589uncropped = DataManager.load_original_volume_bbox(stack=atlas_name, volume_type='score', \n",
    "                                                                         structure='7N_L', downscale=32, relative_to_uncropped=False)\n",
    "atlasvol_bbox_rel2canon = atlasvol_bbox_rel2MD589uncropped - canonical_centroid_rel2MD589uncropped[[0,0,1,1,2,2]]"
   ]
  },
  {
   "cell_type": "code",
   "execution_count": 4,
   "metadata": {
    "collapsed": true
   },
   "outputs": [],
   "source": [
    "shell_polydata_rel2MD589uncropped = DataManager.load_shell_mesh(stack='MD589', downscale=32)\n",
    "shell_actor_rel2canon = actor_mesh(shell_polydata_rel2MD589uncropped, (1,1,1), opacity=.1, wireframe=False, \n",
    "                                   origin=-canonical_centroid_rel2MD589uncropped)"
   ]
  },
  {
   "cell_type": "code",
   "execution_count": 5,
   "metadata": {
    "collapsed": true
   },
   "outputs": [],
   "source": [
    "# name_sided_to_value = {name_s: i % len(all_known_structures_sided) + 1.5\n",
    "#          for i, name_s in enumerate(all_known_structures_sided)}\n",
    "# color_transfer_func = {i % len(all_known_structures_sided) + 1.5: np.array(name_sided_to_color[name_s])/255.\n",
    "#          for i, name_s in enumerate(all_known_structures_sided)}\n",
    "\n",
    "name_unsided_to_value = {name_u: i % len(all_known_structures) + 1.5\n",
    "         for i, name_u in enumerate(all_known_structures)}\n",
    "color_transfer_func = {i % len(all_known_structures) + 1.5: np.array(name_unsided_to_color[name_u])/255.\n",
    "         for i, name_u in enumerate(all_known_structures)}"
   ]
  },
  {
   "cell_type": "code",
   "execution_count": 6,
   "metadata": {
    "collapsed": true
   },
   "outputs": [],
   "source": [
    "atlasvol = DataManager.load_original_volume(stack=atlas_name, structure='7N_L', downscale=32)"
   ]
  },
  {
   "cell_type": "code",
   "execution_count": 9,
   "metadata": {
    "collapsed": true
   },
   "outputs": [],
   "source": [
    "composite_atlasvol = np.zeros_like(atlasvol, np.float32)\n",
    "composite_atlasvol_opacity = np.zeros_like(atlasvol, np.float32)\n",
    "\n",
    "for name_s in all_known_structures_sided:\n",
    "# for name_s in ['7N_L', '7N_R']:\n",
    "    \n",
    "    atlasvol = DataManager.load_original_volume(stack=atlas_name, structure=name_s, downscale=32)\n",
    "    composite_atlasvol[atlasvol > 0.01] = name_unsided_to_value[convert_to_original_name(name_s)]\n",
    "    composite_atlasvol_opacity[atlasvol > 0.01] = atlasvol[atlasvol > 0.01]*0.1"
   ]
  },
  {
   "cell_type": "code",
   "execution_count": 11,
   "metadata": {
    "collapsed": true
   },
   "outputs": [],
   "source": [
    "launch_vtk([shell_actor_rel2canon, \n",
    "            actor_volume(composite_atlasvol, what='score', \n",
    "                         auxdata=composite_atlasvol_opacity, \n",
    "                         origin=atlasvol_bbox_rel2canon[[0,2,4]],\n",
    "                         tb_colors=color_transfer_func)],\n",
    "          view_up=(.3,-1,0),\n",
    "           position=(-4,-3,-6),\n",
    "           focal=(0,0,0),\n",
    "        axes=False)"
   ]
  },
  {
   "cell_type": "markdown",
   "metadata": {},
   "source": [
    "# Show subject"
   ]
  },
  {
   "cell_type": "code",
   "execution_count": 2,
   "metadata": {
    "collapsed": true
   },
   "outputs": [],
   "source": [
    "stack = 'MD589'\n",
    "detector_id = 15"
   ]
  },
  {
   "cell_type": "code",
   "execution_count": 3,
   "metadata": {
    "collapsed": true
   },
   "outputs": [],
   "source": [
    "shell_polydata = DataManager.load_shell_mesh(stack=stack, downscale=32, return_polydata_only=True)\n",
    "shell_actor = actor_mesh(shell_polydata, (1,1,1), opacity=.3, wireframe=False)"
   ]
  },
  {
   "cell_type": "code",
   "execution_count": 7,
   "metadata": {
    "collapsed": true
   },
   "outputs": [],
   "source": [
    "from data_manager import *"
   ]
  },
  {
   "cell_type": "code",
   "execution_count": 8,
   "metadata": {
    "scrolled": true
   },
   "outputs": [
    {
     "name": "stderr",
     "output_type": "stream",
     "text": [
      "Prior structure/index map not found. Generating a new one.\n",
      "Volume shape: (348, 421, 376)\n"
     ]
    }
   ],
   "source": [
    "score_show_limit = 0.85\n",
    "outside_roi_opacity = 0.01\n",
    "in_roi_opacity = 0.1\n",
    "# ROI is the bounding box for the structure.\n",
    "\n",
    "# for structure_u in all_known_structures:\n",
    "for structure_u in ['SNR']:\n",
    "\n",
    "    vol = DataManager.load_original_volume(stack=stack, structure=structure_u,\n",
    "                                           prep_id=2, detector_id=detector_id, downscale=32)\n",
    "\n",
    "    scvol_bbox_rel2uncropped = \\\n",
    "    DataManager.load_original_volume_bbox(stack=stack, volume_type='score', \n",
    "                                          structure=structure_u, \n",
    "                                          prep_id=2, detector_id=detector_id, downscale=32,\n",
    "                                         relative_to_uncropped=True)\n",
    "\n",
    "    annvols, _, _ = DataManager.load_original_volume_all_known_structures(stack=stack, structures= structure_u if structure_u in singular_structures else [convert_to_left_name(structure_u), convert_to_right_name(structure_u)], \n",
    "                                                                          downscale=32, \n",
    "                                     volume_type='annotationAsScore')\n",
    "    annvol_bbox_rel2uncropped = DataManager.load_original_volume_bbox(stack=stack, structure='7n_R', downscale=32, \n",
    "                                     volume_type='annotationAsScore')\n",
    "\n",
    "\n",
    "    toshow_xyzs_rel2sc = np.array(np.nonzero(vol > score_show_limit))[[1,0,2]].T # these are shown with lower opacity\n",
    "\n",
    "    vol_opacity = np.zeros(vol.shape, np.float32)\n",
    "    for x_rel2sc, y_rel2sc, z_rel2sc in toshow_xyzs_rel2sc:\n",
    "\n",
    "        vol_opacity[y_rel2sc, x_rel2sc, z_rel2sc] = outside_roi_opacity\n",
    "\n",
    "        xyz_rel2ann = (x_rel2sc, y_rel2sc, z_rel2sc) + scvol_bbox_rel2uncropped[[0,2,4]] - annvol_bbox_rel2uncropped[[0,2,4]]\n",
    "        for annvol in annvols.itervalues():\n",
    "            if all(xyz_rel2ann > 0) and \\\n",
    "            xyz_rel2ann[0] < annvol.shape[1] and \\\n",
    "            xyz_rel2ann[1] < annvol.shape[0] and \\\n",
    "            xyz_rel2ann[2] < annvol.shape[2] and \\\n",
    "            annvol[xyz_rel2ann[1], xyz_rel2ann[0], xyz_rel2ann[2]] > 0:\n",
    "                vol_opacity[y_rel2sc, x_rel2sc, z_rel2sc] = in_roi_opacity\n",
    "\n",
    "    launch_vtk([shell_actor, \n",
    "#                 actor_sphere((-40,0,-60), radius=10, color=(0,1,0)),\n",
    "#                 actor_sphere((0,0,0), radius=10, color=(1,0,0)),\n",
    "                actor_volume(vol.astype(np.float32), 'score', \n",
    "                                          origin=scvol_bbox_rel2uncropped[[0,2,4]],\n",
    "                                         auxdata=vol_opacity,\n",
    "                                          c=(0,0,0)\n",
    "                                         )], \n",
    "               view_up=(.3,-1,0),\n",
    "               position=(-4,-3,-6),\n",
    "               focal=(0,0,0),\n",
    "               background_color=(1,1,1),\n",
    "               interactive=True, \n",
    "#                 interactive=False,\n",
    "#                snapshot_fn='/home/yuncong/CSHL_scorevolume_viz/%s.png' % structure_u,\n",
    "#                axes=True,\n",
    "               axes=False\n",
    "              )"
   ]
  },
  {
   "cell_type": "code",
   "execution_count": null,
   "metadata": {
    "collapsed": true
   },
   "outputs": [],
   "source": []
  }
 ],
 "metadata": {
  "kernelspec": {
   "display_name": "Python 2",
   "language": "python",
   "name": "python2"
  },
  "language_info": {
   "codemirror_mode": {
    "name": "ipython",
    "version": 2
   },
   "file_extension": ".py",
   "mimetype": "text/x-python",
   "name": "python",
   "nbconvert_exporter": "python",
   "pygments_lexer": "ipython2",
   "version": "2.7.12"
  }
 },
 "nbformat": 4,
 "nbformat_minor": 1
}
