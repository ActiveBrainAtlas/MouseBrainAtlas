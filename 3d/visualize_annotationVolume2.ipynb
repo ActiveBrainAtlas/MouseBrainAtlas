{
 "cells": [
  {
   "cell_type": "code",
   "execution_count": 1,
   "metadata": {
    "collapsed": false
   },
   "outputs": [
    {
     "name": "stdout",
     "output_type": "stream",
     "text": [
      "Setting environment for Local Macbook Pro\n"
     ]
    }
   ],
   "source": [
    "%reload_ext autoreload\n",
    "%autoreload 2\n",
    "\n",
    "import vtk\n",
    "from vtk.util import numpy_support\n",
    "\n",
    "import sys\n",
    "import os\n",
    "import time\n",
    "\n",
    "import numpy as np\n",
    "import bloscpack as bp\n",
    "import matplotlib.pyplot as plt\n",
    "%matplotlib inline\n",
    "\n",
    "sys.path.append(os.path.join(os.environ['REPO_DIR'], 'utilities'))\n",
    "from utilities2015 import *\n",
    "from annotation_utilities import *\n",
    "from metadata import *\n",
    "\n",
    "from vis3d_utilities import *"
   ]
  },
  {
   "cell_type": "code",
   "execution_count": 10,
   "metadata": {
    "collapsed": false
   },
   "outputs": [],
   "source": [
    "stack = 'MD585'"
   ]
  },
  {
   "cell_type": "code",
   "execution_count": 11,
   "metadata": {
    "collapsed": false,
    "scrolled": true
   },
   "outputs": [],
   "source": [
    "label_to_name, name_to_label = DataManager.load_volume_label_to_name(stack=stack)"
   ]
  },
  {
   "cell_type": "code",
   "execution_count": 15,
   "metadata": {
    "collapsed": false
   },
   "outputs": [
    {
     "name": "stdout",
     "output_type": "stream",
     "text": [
      "annotation volume bbox : 594 1028 125 485 112 474\n"
     ]
    }
   ],
   "source": [
    "vol_xmin, vol_xmax, vol_ymin, vol_ymax, vol_zmin, vol_zmax = \\\n",
    "DataManager.load_volume_bbox(stack=stack, type='annotation', downscale=32)\n",
    "\n",
    "print 'annotation volume bbox :', vol_xmin, vol_xmax, vol_ymin, vol_ymax, vol_zmin, vol_zmax"
   ]
  },
  {
   "cell_type": "code",
   "execution_count": 16,
   "metadata": {
    "collapsed": false
   },
   "outputs": [],
   "source": [
    "structure_sided_to_colors = {name_u: np.array(random_colors(1)[0])/255.\n",
    "          for name_u in set([convert_name_to_unsided(name_s) for name_s in name_to_label.keys()])}"
   ]
  },
  {
   "cell_type": "code",
   "execution_count": 48,
   "metadata": {
    "collapsed": true
   },
   "outputs": [],
   "source": [
    "# with open('colors.txt', 'r') as f:\n",
    "#     colors = {l[0]: np.r_[float(l[1]), float(l[2]), float(l[3])] for l in map(lambda x: x.split(), f.readlines())}"
   ]
  },
  {
   "cell_type": "code",
   "execution_count": null,
   "metadata": {
    "collapsed": true
   },
   "outputs": [],
   "source": []
  },
  {
   "cell_type": "code",
   "execution_count": 49,
   "metadata": {
    "collapsed": true
   },
   "outputs": [],
   "source": [
    "# Render structures"
   ]
  },
  {
   "cell_type": "code",
   "execution_count": 17,
   "metadata": {
    "collapsed": false
   },
   "outputs": [],
   "source": [
    "volume = bp.unpack_ndarray_file(DataManager.get_annotation_volume_filepath(stack=stack, downscale=32))"
   ]
  },
  {
   "cell_type": "code",
   "execution_count": 18,
   "metadata": {
    "collapsed": false,
    "scrolled": true
   },
   "outputs": [
    {
     "name": "stdout",
     "output_type": "stream",
     "text": [
      "LRt_R 291 360 276 317 260 273\n",
      "Sp5C_L 325 432 235 358 34 97\n"
     ]
    },
    {
     "name": "stderr",
     "output_type": "stream",
     "text": [
      "marching cube: 0.01 seconds\n",
      "mesh_to_polydata: 0.00 seconds\n",
      "simplify 0 @ 2972: 0.03 seconds\n",
      "simplify 1 @ 596: 0.02 seconds\n",
      "time: 0.07\n",
      "marching cube: 0.11 seconds\n",
      "mesh_to_polydata: 0.03 seconds\n",
      "simplify 0 @ 24918: 0.26 seconds\n",
      "simplify 1 @ 4985: 0.22 seconds\n",
      "simplify 2 @ 998: 0.04 seconds\n",
      "time: 0.67\n",
      "marching cube: 0.04 seconds\n",
      "mesh_to_polydata: 0.02 seconds\n",
      "simplify 0 @ 17385: 0.16 seconds\n",
      "simplify 1 @ 3478: 0.14 seconds\n",
      "simplify 2 @ 697: 0.03 seconds\n",
      "time: 0.40\n"
     ]
    },
    {
     "name": "stdout",
     "output_type": "stream",
     "text": [
      "Pn_L 44 120 271 325 111 179\n",
      "7N_R 195 262 272 315 229 286\n"
     ]
    },
    {
     "name": "stderr",
     "output_type": "stream",
     "text": [
      "marching cube: 0.03 seconds\n",
      "mesh_to_polydata: 0.01 seconds\n",
      "simplify 0 @ 11221: 0.09 seconds\n",
      "simplify 1 @ 2245: 0.08 seconds\n",
      "simplify 2 @ 450: 0.02 seconds\n",
      "time: 0.23\n"
     ]
    },
    {
     "name": "stdout",
     "output_type": "stream",
     "text": [
      "PBG_L 94 139 124 172 57 74\n",
      "VLL_L 81 140 178 308 57 97\n"
     ]
    },
    {
     "name": "stderr",
     "output_type": "stream",
     "text": [
      "marching cube: 0.01 seconds\n",
      "mesh_to_polydata: 0.00 seconds\n",
      "simplify 0 @ 2018: 0.02 seconds\n",
      "simplify 1 @ 405: 0.01 seconds\n",
      "time: 0.05\n",
      "marching cube: 0.04 seconds\n",
      "mesh_to_polydata: 0.01 seconds\n",
      "simplify 0 @ 8960: 0.09 seconds\n",
      "simplify 1 @ 1793: 0.06 seconds\n",
      "simplify 2 @ 360: 0.01 seconds\n",
      "time: 0.22\n"
     ]
    },
    {
     "name": "stdout",
     "output_type": "stream",
     "text": [
      "VLL_R 88 146 174 302 273 308\n"
     ]
    },
    {
     "name": "stderr",
     "output_type": "stream",
     "text": [
      "marching cube: 0.04 seconds\n",
      "mesh_to_polydata: 0.01 seconds\n",
      "simplify 0 @ 9424: 0.10 seconds\n",
      "simplify 1 @ 1886: 0.06 seconds\n",
      "simplify 2 @ 378: 0.01 seconds\n",
      "time: 0.23\n"
     ]
    },
    {
     "name": "stdout",
     "output_type": "stream",
     "text": [
      "7N_L 185 242 291 332 77 134\n"
     ]
    },
    {
     "name": "stderr",
     "output_type": "stream",
     "text": [
      "marching cube: 0.02 seconds\n",
      "mesh_to_polydata: 0.01 seconds\n",
      "simplify 0 @ 11282: 0.09 seconds\n",
      "simplify 1 @ 2258: 0.07 seconds\n",
      "simplify 2 @ 453: 0.02 seconds\n",
      "time: 0.21\n"
     ]
    },
    {
     "name": "stdout",
     "output_type": "stream",
     "text": [
      "PBG_R 98 129 147 182 305 327\n",
      "RtTg 74 173 240 304 126 240\n"
     ]
    },
    {
     "name": "stderr",
     "output_type": "stream",
     "text": [
      "marching cube: 0.01 seconds\n",
      "mesh_to_polydata: 0.00 seconds\n",
      "simplify 0 @ 2055: 0.02 seconds\n",
      "simplify 1 @ 412: 0.01 seconds\n",
      "time: 0.04\n",
      "marching cube: 0.10 seconds\n",
      "mesh_to_polydata: 0.04 seconds\n",
      "simplify 0 @ 29052: 0.34 seconds\n",
      "simplify 1 @ 5812: 0.25 seconds\n",
      "simplify 2 @ 1164: 0.05 seconds\n",
      "time: 0.78\n"
     ]
    },
    {
     "name": "stdout",
     "output_type": "stream",
     "text": [
      "Pn_R 46 117 265 321 199 266\n"
     ]
    },
    {
     "name": "stderr",
     "output_type": "stream",
     "text": [
      "marching cube: 0.04 seconds\n",
      "mesh_to_polydata: 0.02 seconds\n",
      "simplify 0 @ 16531: 0.18 seconds\n",
      "simplify 1 @ 3307: 0.14 seconds\n",
      "simplify 2 @ 663: 0.03 seconds\n",
      "time: 0.42\n"
     ]
    },
    {
     "name": "stdout",
     "output_type": "stream",
     "text": [
      "LRt_L 280 371 289 354 78 240\n"
     ]
    },
    {
     "name": "stderr",
     "output_type": "stream",
     "text": [
      "marching cube: 0.14 seconds\n",
      "mesh_to_polydata: 0.04 seconds\n",
      "simplify 0 @ 30460: 0.37 seconds\n",
      "simplify 1 @ 6093: 0.30 seconds\n",
      "simplify 2 @ 1220: 0.06 seconds\n",
      "time: 0.92\n",
      "marching cube: 0.02 seconds\n",
      "mesh_to_polydata: 0.01 seconds\n",
      "simplify 0 @ 4492: 0.16 seconds\n",
      "simplify 1 @ 900: 0.03 seconds\n",
      "time: 0.24\n"
     ]
    },
    {
     "name": "stdout",
     "output_type": "stream",
     "text": [
      "Sp5O_R 199 315 213 272 301 315\n",
      "SNR_L 10 91 167 274 58 138\n"
     ]
    },
    {
     "name": "stderr",
     "output_type": "stream",
     "text": [
      "marching cube: 0.10 seconds\n",
      "mesh_to_polydata: 0.03 seconds\n",
      "simplify 0 @ 25018: 0.21 seconds\n",
      "simplify 1 @ 5005: 0.23 seconds\n",
      "simplify 2 @ 1002: 0.05 seconds\n",
      "time: 0.62\n"
     ]
    },
    {
     "name": "stdout",
     "output_type": "stream",
     "text": [
      "12N 305 373 239 296 134 184\n"
     ]
    },
    {
     "name": "stderr",
     "output_type": "stream",
     "text": [
      "marching cube: 0.03 seconds\n",
      "mesh_to_polydata: 0.01 seconds\n",
      "simplify 0 @ 12804: 0.10 seconds\n",
      "simplify 1 @ 2562: 0.10 seconds\n",
      "simplify 2 @ 514: 0.02 seconds\n",
      "time: 0.27\n"
     ]
    },
    {
     "name": "stdout",
     "output_type": "stream",
     "text": [
      "SNR_R 2 93 174 281 240 328\n"
     ]
    },
    {
     "name": "stderr",
     "output_type": "stream",
     "text": [
      "marching cube: 0.12 seconds\n",
      "mesh_to_polydata: 0.03 seconds\n",
      "simplify 0 @ 30066: 0.25 seconds\n",
      "simplify 1 @ 6014: 0.37 seconds\n",
      "simplify 2 @ 1204: 0.11 seconds\n",
      "time: 0.88\n"
     ]
    },
    {
     "name": "stdout",
     "output_type": "stream",
     "text": [
      "Sp5O_L 184 307 229 309 31 63\n"
     ]
    },
    {
     "name": "stderr",
     "output_type": "stream",
     "text": [
      "marching cube: 0.10 seconds\n",
      "mesh_to_polydata: 0.05 seconds\n",
      "simplify 0 @ 12728: 0.60 seconds\n",
      "simplify 1 @ 2547: 0.19 seconds\n",
      "simplify 2 @ 511: 0.04 seconds\n",
      "time: 0.98\n"
     ]
    },
    {
     "name": "stdout",
     "output_type": "stream",
     "text": [
      "RMC_L 56 89 175 213 137 176\n"
     ]
    },
    {
     "name": "stderr",
     "output_type": "stream",
     "text": [
      "marching cube: 0.02 seconds\n",
      "mesh_to_polydata: 0.01 seconds\n",
      "simplify 0 @ 4637: 0.07 seconds\n",
      "simplify 1 @ 929: 0.06 seconds\n",
      "time: 0.18\n"
     ]
    },
    {
     "name": "stdout",
     "output_type": "stream",
     "text": [
      "DC_R 205 301 168 209 274 347\n"
     ]
    },
    {
     "name": "stderr",
     "output_type": "stream",
     "text": [
      "marching cube: 0.09 seconds\n",
      "mesh_to_polydata: 0.03 seconds\n",
      "simplify 0 @ 13311: 0.22 seconds\n",
      "simplify 1 @ 2663: 0.21 seconds\n",
      "simplify 2 @ 534: 0.04 seconds\n",
      "time: 0.60\n"
     ]
    },
    {
     "name": "stdout",
     "output_type": "stream",
     "text": [
      "VCA_L 148 232 203 280 0 36\n"
     ]
    },
    {
     "name": "stderr",
     "output_type": "stream",
     "text": [
      "marching cube: 0.08 seconds\n",
      "mesh_to_polydata: 0.03 seconds\n",
      "simplify 0 @ 13016: 0.27 seconds\n",
      "simplify 1 @ 2604: 0.19 seconds\n",
      "simplify 2 @ 522: 0.04 seconds\n",
      "time: 0.61\n"
     ]
    },
    {
     "name": "stdout",
     "output_type": "stream",
     "text": [
      "3N_L 71 110 154 176 171 187\n",
      "6N_R 201 216 225 239 188 199\n"
     ]
    },
    {
     "name": "stderr",
     "output_type": "stream",
     "text": [
      "marching cube: 0.01 seconds\n",
      "mesh_to_polydata: 0.01 seconds\n",
      "simplify 0 @ 2041: 0.05 seconds\n",
      "simplify 1 @ 409: 0.03 seconds\n",
      "time: 0.10\n",
      "marching cube: 0.00 seconds\n",
      "mesh_to_polydata: 0.00 seconds\n",
      "simplify 0 @ 590: 0.01 seconds\n",
      "time: 0.02\n"
     ]
    },
    {
     "name": "stdout",
     "output_type": "stream",
     "text": [
      "Sp5I_L 283 346 231 314 25 63\n"
     ]
    },
    {
     "name": "stderr",
     "output_type": "stream",
     "text": [
      "marching cube: 0.07 seconds\n",
      "mesh_to_polydata: 0.04 seconds\n",
      "simplify 0 @ 11579: 0.30 seconds\n",
      "simplify 1 @ 2317: 0.17 seconds\n",
      "simplify 2 @ 465: 0.04 seconds\n",
      "time: 0.62\n"
     ]
    },
    {
     "name": "stdout",
     "output_type": "stream",
     "text": [
      "RMC_R 36 86 184 224 203 260\n"
     ]
    },
    {
     "name": "stderr",
     "output_type": "stream",
     "text": [
      "marching cube: 0.05 seconds\n",
      "mesh_to_polydata: 0.02 seconds\n",
      "simplify 0 @ 8040: 0.10 seconds\n",
      "simplify 1 @ 1609: 0.07 seconds\n",
      "simplify 2 @ 323: 0.02 seconds\n",
      "time: 0.25\n"
     ]
    },
    {
     "name": "stdout",
     "output_type": "stream",
     "text": [
      "5N_L 135 182 210 262 72 101\n"
     ]
    },
    {
     "name": "stderr",
     "output_type": "stream",
     "text": [
      "marching cube: 0.02 seconds\n",
      "mesh_to_polydata: 0.02 seconds\n",
      "simplify 0 @ 6263: 0.08 seconds\n",
      "simplify 1 @ 1254: 0.05 seconds\n",
      "simplify 2 @ 252: 0.01 seconds\n",
      "time: 0.19\n"
     ]
    },
    {
     "name": "stdout",
     "output_type": "stream",
     "text": [
      "SNC_L 7 63 183 259 78 125\n"
     ]
    },
    {
     "name": "stderr",
     "output_type": "stream",
     "text": [
      "marching cube: 0.05 seconds\n",
      "mesh_to_polydata: 0.01 seconds\n",
      "simplify 0 @ 7298: 0.07 seconds\n",
      "simplify 1 @ 1461: 0.07 seconds\n",
      "simplify 2 @ 293: 0.02 seconds\n",
      "time: 0.21\n"
     ]
    },
    {
     "name": "stdout",
     "output_type": "stream",
     "text": [
      "SNC_R 0 57 199 262 240 305\n"
     ]
    },
    {
     "name": "stderr",
     "output_type": "stream",
     "text": [
      "marching cube: 0.05 seconds\n",
      "mesh_to_polydata: 0.01 seconds\n",
      "simplify 0 @ 8511: 0.08 seconds\n",
      "simplify 1 @ 1703: 0.09 seconds\n",
      "simplify 2 @ 342: 0.02 seconds\n",
      "time: 0.24\n"
     ]
    },
    {
     "name": "stdout",
     "output_type": "stream",
     "text": [
      "AP 320 361 227 249 144 164\n",
      "5N_R 144 189 204 251 255 286\n"
     ]
    },
    {
     "name": "stderr",
     "output_type": "stream",
     "text": [
      "marching cube: 0.01 seconds\n",
      "mesh_to_polydata: 0.00 seconds\n",
      "simplify 0 @ 2449: 0.03 seconds\n",
      "simplify 1 @ 491: 0.02 seconds\n",
      "time: 0.07\n",
      "marching cube: 0.02 seconds\n",
      "mesh_to_polydata: 0.01 seconds\n",
      "simplify 0 @ 6357: 0.08 seconds\n",
      "simplify 1 @ 1273: 0.06 seconds\n",
      "simplify 2 @ 256: 0.01 seconds\n",
      "time: 0.18\n"
     ]
    },
    {
     "name": "stdout",
     "output_type": "stream",
     "text": [
      "Sp5I_R 308 340 211 270 301 315\n",
      "3N_R 67 104 156 177 193 207\n"
     ]
    },
    {
     "name": "stderr",
     "output_type": "stream",
     "text": [
      "marching cube: 0.01 seconds\n",
      "mesh_to_polydata: 0.01 seconds\n",
      "simplify 0 @ 3125: 0.06 seconds\n",
      "simplify 1 @ 626: 0.02 seconds\n",
      "time: 0.10\n",
      "marching cube: 0.00 seconds\n",
      "mesh_to_polydata: 0.00 seconds\n",
      "simplify 0 @ 1818: 0.02 seconds\n",
      "simplify 1 @ 365: 0.01 seconds\n",
      "time: 0.05\n"
     ]
    },
    {
     "name": "stdout",
     "output_type": "stream",
     "text": [
      "6N_L 199 216 227 239 140 154\n",
      "IC 93 213 0 135 72 301\n"
     ]
    },
    {
     "name": "stderr",
     "output_type": "stream",
     "text": [
      "marching cube: 0.00 seconds\n",
      "mesh_to_polydata: 0.00 seconds\n",
      "simplify 0 @ 828: 0.01 seconds\n",
      "time: 0.02\n",
      "marching cube: 0.53 seconds\n",
      "mesh_to_polydata: 0.13 seconds\n",
      "simplify 0 @ 89328: 1.11 seconds\n",
      "simplify 1 @ 17867: 1.22 seconds\n",
      "simplify 2 @ 3575: 0.32 seconds\n",
      "time: 3.34\n",
      "marching cube: 0.07 seconds\n",
      "mesh_to_polydata: 0.03 seconds\n",
      "simplify 0 @ 12128: 0.20 seconds\n",
      "simplify 1 @ 2427: 0.16 seconds\n",
      "simplify 2 @ 487: 0.04 seconds\n",
      "time: 0.51\n"
     ]
    },
    {
     "name": "stdout",
     "output_type": "stream",
     "text": [
      "VCA_R 164 251 185 251 323 362\n",
      "DC_L 209 270 185 241 5 70\n"
     ]
    },
    {
     "name": "stderr",
     "output_type": "stream",
     "text": [
      "marching cube: 0.07 seconds\n",
      "mesh_to_polydata: 0.03 seconds\n",
      "simplify 0 @ 11434: 0.17 seconds\n",
      "simplify 1 @ 2288: 0.16 seconds\n",
      "simplify 2 @ 459: 0.04 seconds\n",
      "time: 0.48\n"
     ]
    },
    {
     "name": "stdout",
     "output_type": "stream",
     "text": [
      "Amb_R 267 298 272 288 252 262\n",
      "VCP_R 226 273 186 252 304 354\n"
     ]
    },
    {
     "name": "stderr",
     "output_type": "stream",
     "text": [
      "marching cube: 0.00 seconds\n",
      "mesh_to_polydata: 0.00 seconds\n",
      "simplify 0 @ 935: 0.02 seconds\n",
      "time: 0.04\n",
      "marching cube: 0.05 seconds\n",
      "mesh_to_polydata: 0.02 seconds\n",
      "simplify 0 @ 6712: 0.12 seconds\n",
      "simplify 1 @ 1344: 0.09 seconds\n",
      "simplify 2 @ 270: 0.02 seconds\n",
      "time: 0.30\n"
     ]
    },
    {
     "name": "stdout",
     "output_type": "stream",
     "text": [
      "LC_R 167 219 166 210 231 241\n"
     ]
    },
    {
     "name": "stderr",
     "output_type": "stream",
     "text": [
      "marching cube: 0.01 seconds\n",
      "mesh_to_polydata: 0.01 seconds\n",
      "simplify 0 @ 2634: 0.08 seconds\n",
      "simplify 1 @ 528: 0.04 seconds\n",
      "time: 0.15\n",
      "marching cube: 0.03 seconds\n"
     ]
    },
    {
     "name": "stdout",
     "output_type": "stream",
     "text": [
      "10N_R 314 379 234 283 163 188\n"
     ]
    },
    {
     "name": "stderr",
     "output_type": "stream",
     "text": [
      "mesh_to_polydata: 0.01 seconds\n",
      "simplify 0 @ 4330: 0.06 seconds\n",
      "simplify 1 @ 867: 0.05 seconds\n",
      "time: 0.17\n",
      "marching cube: 0.09 seconds\n",
      "mesh_to_polydata: 0.02 seconds\n",
      "simplify 0 @ 8538: 0.13 seconds\n",
      "simplify 1 @ 1709: 0.11 seconds\n",
      "simplify 2 @ 343: 0.03 seconds\n",
      "time: 0.38\n"
     ]
    },
    {
     "name": "stdout",
     "output_type": "stream",
     "text": [
      "7n_R 168 218 218 281 194 290\n",
      "4N_R 106 117 160 174 197 209\n",
      "Tz_L 118 184 298 324 133 167\n"
     ]
    },
    {
     "name": "stderr",
     "output_type": "stream",
     "text": [
      "marching cube: 0.00 seconds\n",
      "mesh_to_polydata: 0.00 seconds\n",
      "simplify 0 @ 609: 0.01 seconds\n",
      "time: 0.03\n",
      "marching cube: 0.02 seconds\n",
      "mesh_to_polydata: 0.01 seconds\n",
      "simplify 0 @ 5165: 0.09 seconds\n",
      "simplify 1 @ 1034: 0.07 seconds\n",
      "simplify 2 @ 208: 0.02 seconds\n",
      "time: 0.22\n"
     ]
    },
    {
     "name": "stdout",
     "output_type": "stream",
     "text": [
      "Tz_R 125 187 295 319 198 236\n"
     ]
    },
    {
     "name": "stderr",
     "output_type": "stream",
     "text": [
      "marching cube: 0.02 seconds\n",
      "mesh_to_polydata: 0.01 seconds\n",
      "simplify 0 @ 5167: 0.09 seconds\n",
      "simplify 1 @ 1035: 0.06 seconds\n",
      "simplify 2 @ 208: 0.01 seconds\n",
      "time: 0.20\n"
     ]
    },
    {
     "name": "stdout",
     "output_type": "stream",
     "text": [
      "7n_L 146 226 223 306 69 144\n"
     ]
    },
    {
     "name": "stderr",
     "output_type": "stream",
     "text": [
      "marching cube: 0.08 seconds\n",
      "mesh_to_polydata: 0.01 seconds\n",
      "simplify 0 @ 8575: 0.08 seconds\n",
      "simplify 1 @ 1716: 0.07 seconds\n",
      "simplify 2 @ 344: 0.02 seconds\n",
      "time: 0.27\n"
     ]
    },
    {
     "name": "stdout",
     "output_type": "stream",
     "text": [
      "4N_L 111 122 159 171 164 176\n",
      "LC_L 171 218 171 219 114 172\n"
     ]
    },
    {
     "name": "stderr",
     "output_type": "stream",
     "text": [
      "marching cube: 0.00 seconds\n",
      "mesh_to_polydata: 0.00 seconds\n",
      "simplify 0 @ 548: 0.01 seconds\n",
      "time: 0.01\n",
      "marching cube: 0.03 seconds\n",
      "mesh_to_polydata: 0.01 seconds\n",
      "simplify 0 @ 7909: 0.12 seconds\n",
      "simplify 1 @ 1583: 0.06 seconds\n",
      "simplify 2 @ 318: 0.01 seconds\n",
      "time: 0.24\n"
     ]
    },
    {
     "name": "stdout",
     "output_type": "stream",
     "text": [
      "10N_L 312 385 237 296 125 154\n",
      "SC 17 167 14 155 72 319\n"
     ]
    },
    {
     "name": "stderr",
     "output_type": "stream",
     "text": [
      "marching cube: 0.03 seconds\n",
      "mesh_to_polydata: 0.01 seconds\n",
      "simplify 0 @ 4779: 0.04 seconds\n",
      "simplify 1 @ 957: 0.04 seconds\n",
      "time: 0.12\n",
      "marching cube: 0.76 seconds\n",
      "mesh_to_polydata: 0.16 seconds\n",
      "simplify 0 @ 129806: 1.28 seconds\n",
      "simplify 1 @ 25962: 1.87 seconds\n",
      "simplify 2 @ 5194: 0.53 seconds\n",
      "time: 4.63\n"
     ]
    },
    {
     "name": "stdout",
     "output_type": "stream",
     "text": [
      "VCP_L 214 258 217 278 9 29\n"
     ]
    },
    {
     "name": "stderr",
     "output_type": "stream",
     "text": [
      "marching cube: 0.02 seconds\n",
      "mesh_to_polydata: 0.01 seconds\n",
      "simplify 0 @ 3830: 0.13 seconds\n",
      "simplify 1 @ 767: 0.05 seconds\n",
      "time: 0.23\n"
     ]
    },
    {
     "name": "stdout",
     "output_type": "stream",
     "text": [
      "Amb_L 255 301 297 315 89 97\n"
     ]
    },
    {
     "name": "stderr",
     "output_type": "stream",
     "text": [
      "marching cube: 0.01 seconds\n",
      "mesh_to_polydata: 0.00 seconds\n",
      "simplify 0 @ 1236: 0.03 seconds\n",
      "simplify 1 @ 248: 0.02 seconds\n",
      "time: 0.06\n"
     ]
    }
   ],
   "source": [
    "for name_s, label in name_to_label.iteritems():\n",
    "    \n",
    "    xmin, xmax, ymin, ymax, zmin, zmax = bbox_3d(volume == label) \n",
    "    \n",
    "    print name_s, xmin, xmax, ymin, ymax, zmin, zmax\n",
    "    \n",
    "    vol = (volume[ymin:ymax+1, xmin:xmax+1, zmin:zmax+1] == label).astype(np.float)\n",
    "\n",
    "    t = time.time()\n",
    "\n",
    "    polydata = volume_to_polydata(vol, origin=(vol_xmin+xmin,vol_ymin+ymin,vol_zmin+zmin), \n",
    "                                  num_simplify_iter=3, smooth=True)\n",
    "    # coordinates with respect to aligned uncropped volume\n",
    "\n",
    "    sys.stderr.write('time: %.2f\\n' % (time.time() - t) ) # ~ 150s for outerContour; 93s for sp5\n",
    "    \n",
    "    \n",
    "    fp = DataManager.get_mesh_filepath(stack_m=stack, type_m='annotation_as_score', structure=name_s, trial_idx=None)\n",
    "    create_parent_dir_if_not_exists(fp)\n",
    "    save_mesh_stl(polydata, fp)"
   ]
  },
  {
   "cell_type": "code",
   "execution_count": null,
   "metadata": {
    "collapsed": true
   },
   "outputs": [],
   "source": []
  },
  {
   "cell_type": "code",
   "execution_count": 19,
   "metadata": {
    "collapsed": false
   },
   "outputs": [
    {
     "name": "stderr",
     "output_type": "stream",
     "text": [
      "load_mesh_stl: File does not exist /home/yuncong/CSHL_meshes/MD585/MD585_down32_annotationAsScoreVolume/MD585_down32_annotationAsScoreVolume_Sp5C_R.stl\n",
      "Mesh is empty: Sp5C_R.\n",
      "Error loading mesh for Sp5C_R.\n",
      "load_mesh_stl: File does not exist /home/yuncong/CSHL_meshes/MD585/MD585_down32_annotationAsScoreVolume/MD585_down32_annotationAsScoreVolume_sp5.stl\n",
      "Mesh is empty: sp5.\n",
      "Error loading mesh for sp5.\n",
      "load_mesh_stl: File does not exist /home/yuncong/CSHL_meshes/MD585/MD585_down32_annotationAsScoreVolume/MD585_down32_annotationAsScoreVolume_outerContour.stl\n",
      "Mesh is empty: outerContour.\n",
      "Error loading mesh for outerContour.\n"
     ]
    }
   ],
   "source": [
    "polydata_list = DataManager.load_meshes(stack_m=stack, type_m='annotation_as_score', sided=True, trial_idx=None)"
   ]
  },
  {
   "cell_type": "code",
   "execution_count": 23,
   "metadata": {
    "collapsed": false
   },
   "outputs": [],
   "source": [
    "mesh_actors = [actor_mesh(polydata, structure_sided_to_colors[convert_name_to_unsided(name_s)], wireframe=False, opacity=.5) \n",
    "               for name_s, polydata in polydata_list.iteritems()]"
   ]
  },
  {
   "cell_type": "code",
   "execution_count": 24,
   "metadata": {
    "collapsed": true
   },
   "outputs": [],
   "source": [
    "launch_vtk(mesh_actors, init_angle='30', background_color=(0,0,0))"
   ]
  },
  {
   "cell_type": "code",
   "execution_count": null,
   "metadata": {
    "collapsed": false
   },
   "outputs": [],
   "source": [
    "fn = os.path.join(MESH_ROOTDIR, stack, \"%(stack)s_down32_outerContourVolume_smoothed.stl\" % {'stack': stack})\n",
    "outerContour_polydata = load_mesh_stl(fn, return_polydata_only=True)\n",
    "\n",
    "outerContour_actor = actor_mesh(outerContour_polydata, (1,1,1), opacity=.1, wireframe=False)"
   ]
  },
  {
   "cell_type": "code",
   "execution_count": 32,
   "metadata": {
    "collapsed": false
   },
   "outputs": [
    {
     "ename": "NameError",
     "evalue": "name 'outerContour_actor' is not defined",
     "output_type": "error",
     "traceback": [
      "\u001b[0;31m---------------------------------------------------------------------------\u001b[0m",
      "\u001b[0;31mNameError\u001b[0m                                 Traceback (most recent call last)",
      "\u001b[0;32m<ipython-input-32-3fb1832f196d>\u001b[0m in \u001b[0;36m<module>\u001b[0;34m()\u001b[0m\n\u001b[0;32m----> 1\u001b[0;31m \u001b[0mlaunch_vtk\u001b[0m\u001b[0;34m(\u001b[0m\u001b[0mmesh_actors\u001b[0m \u001b[0;34m+\u001b[0m \u001b[0;34m[\u001b[0m\u001b[0mouterContour_actor\u001b[0m\u001b[0;34m]\u001b[0m\u001b[0;34m,\u001b[0m \u001b[0minit_angle\u001b[0m\u001b[0;34m=\u001b[0m\u001b[0;34m'30'\u001b[0m\u001b[0;34m,\u001b[0m \u001b[0mbackground_color\u001b[0m\u001b[0;34m=\u001b[0m\u001b[0;34m(\u001b[0m\u001b[0;36m0\u001b[0m\u001b[0;34m,\u001b[0m\u001b[0;36m0\u001b[0m\u001b[0;34m,\u001b[0m\u001b[0;36m0\u001b[0m\u001b[0;34m)\u001b[0m\u001b[0;34m)\u001b[0m\u001b[0;34m\u001b[0m\u001b[0m\n\u001b[0m",
      "\u001b[0;31mNameError\u001b[0m: name 'outerContour_actor' is not defined"
     ]
    }
   ],
   "source": [
    "launch_vtk(mesh_actors + [outerContour_actor], init_angle='30', background_color=(0,0,0))"
   ]
  },
  {
   "cell_type": "code",
   "execution_count": null,
   "metadata": {
    "collapsed": true
   },
   "outputs": [],
   "source": []
  },
  {
   "cell_type": "code",
   "execution_count": null,
   "metadata": {
    "collapsed": false
   },
   "outputs": [],
   "source": [
    "# Export to rgb PLY file (STL file can not have color info)\n",
    "# https://github.com/Kitware/VTK/blob/master/IO/PLY/Testing/Python/TestPLYReadWrite.py#L31\n",
    "# http://www.vtk.org/doc/nightly/html/classvtkPLYWriter.html#aa7f0bdbb2decdc7a7360a890a6c10e8b\n",
    "\n",
    "for name_s, polydata in polydata_list.iteritems():\n",
    "    fn = os.path.join(mesh_rootdir, stack, \"%(stack)s_down32_%(name)s_smoothed.ply\" % {'stack': stack, 'name':name_s})\n",
    "    save_mesh(polydata, fn, color=(colors[convert_name_to_unsided(name_s)]*255).astype(np.int))"
   ]
  }
 ],
 "metadata": {
  "kernelspec": {
   "display_name": "Python 2",
   "language": "python",
   "name": "python2"
  },
  "language_info": {
   "codemirror_mode": {
    "name": "ipython",
    "version": 2
   },
   "file_extension": ".py",
   "mimetype": "text/x-python",
   "name": "python",
   "nbconvert_exporter": "python",
   "pygments_lexer": "ipython2",
   "version": "2.7.12"
  }
 },
 "nbformat": 4,
 "nbformat_minor": 0
}
