{
 "cells": [
  {
   "cell_type": "code",
   "execution_count": 24,
   "metadata": {
    "collapsed": false
   },
   "outputs": [],
   "source": [
    "%reload_ext autoreload\n",
    "%autoreload 2\n",
    "\n",
    "import vtk\n",
    "from vtk.util import numpy_support\n",
    "\n",
    "import numpy as np\n",
    "import bloscpack as bp\n",
    "\n",
    "import sys\n",
    "import os\n",
    "sys.path.append(os.path.join(os.environ['REPO_DIR'], 'utilities'))\n",
    "from utilities2015 import *\n",
    "from annotation_utilities import *\n",
    "from metadata import *\n",
    "\n",
    "import time\n",
    "\n",
    "import matplotlib.pyplot as plt\n",
    "%matplotlib inline\n",
    "\n",
    "from vis3d_utilities import *"
   ]
  },
  {
   "cell_type": "code",
   "execution_count": 14,
   "metadata": {
    "collapsed": false
   },
   "outputs": [
    {
     "data": {
      "text/plain": [
       "'/home/yuncong/CSHL_volumes2/'"
      ]
     },
     "execution_count": 14,
     "metadata": {},
     "output_type": "execute_result"
    }
   ],
   "source": [
    "volume_dir"
   ]
  },
  {
   "cell_type": "code",
   "execution_count": 46,
   "metadata": {
    "collapsed": false
   },
   "outputs": [],
   "source": [
    "stack = 'MD594'"
   ]
  },
  {
   "cell_type": "code",
   "execution_count": 47,
   "metadata": {
    "collapsed": false
   },
   "outputs": [],
   "source": [
    "label_to_name = {}\n",
    "name_to_label = {}\n",
    "\n",
    "with open(os.path.join(volume_dir, stack, stack+'_down32_annotationVolume_nameToLabel.txt'), 'r') as f:\n",
    "    for line in f.readlines():\n",
    "        name_s, label = line.split()\n",
    "        label_to_name[int(label)] = name_s\n",
    "        name_to_label[name_s] = int(label)\n",
    "        \n",
    "with open(os.path.join(volume_dir, stack, stack+'_down32_annotationVolume_bbox.txt'), 'r') as f:\n",
    "    vol_xmin, vol_xmax, vol_ymin, vol_ymax, vol_zmin, vol_zmax = map(int, f.readline().strip().split())"
   ]
  },
  {
   "cell_type": "code",
   "execution_count": 48,
   "metadata": {
    "collapsed": false
   },
   "outputs": [],
   "source": [
    "colors = {name_u: np.array(random_colors(1)[0])/255.\n",
    "          for name_u in set([convert_name_to_unsided(name_s) for name_s in name_to_label.keys()])}"
   ]
  },
  {
   "cell_type": "code",
   "execution_count": 49,
   "metadata": {
    "collapsed": true
   },
   "outputs": [],
   "source": [
    "# with open('colors.txt', 'r') as f:\n",
    "#     colors = {l[0]: np.r_[float(l[1]), float(l[2]), float(l[3])] for l in map(lambda x: x.split(), f.readlines())}"
   ]
  },
  {
   "cell_type": "code",
   "execution_count": 50,
   "metadata": {
    "collapsed": false
   },
   "outputs": [],
   "source": [
    "volume = bp.unpack_ndarray_file(os.path.join(volume_dir, '%(stack)s/%(stack)s_down32_annotationVolume.bp' % {'stack':stack})).astype(np.int8)\n",
    "# atlasProjected_volume = fill_sparse_volume(volume_sparse)\n",
    "# del volume_sparse"
   ]
  },
  {
   "cell_type": "code",
   "execution_count": 51,
   "metadata": {
    "collapsed": false
   },
   "outputs": [],
   "source": [
    "# volume_landmark_bboxes = {labels_sided[i-1]: bbox_3d(volume == i) for i in all_indices}"
   ]
  },
  {
   "cell_type": "code",
   "execution_count": 52,
   "metadata": {
    "collapsed": false,
    "scrolled": true
   },
   "outputs": [
    {
     "name": "stdout",
     "output_type": "stream",
     "text": [
      "LRt_R (351.10750433117533, 272.60351509072672, 260.94770675663352)\n",
      "Sp5C_L (412.89339300958324, 228.65436165543719, 103.13021544219426)\n",
      "Pn_L (113.25797535121976, 297.11902165643863, 141.29756048080336)\n",
      "7N_R (243.46224620836517, 282.60274395695501, 259.18799681388884)\n",
      "PBG_L (123.25177237018586, 137.47346234910901, 53.631730216516573)\n",
      "VLL_L (137.58702281123556, 249.21474227408666, 80.743769424734651)\n",
      "VLL_R (122.09519986236164, 249.34008143602685, 274.89304352812985)\n",
      "7N_L (250.61297310204847, 272.39141039417353, 108.90705964625015)\n",
      "PBG_R (103.63156814449918, 142.93267651888343, 300.26457307060753)\n",
      "RtTg (136.47166205682674, 271.09686411149823, 178.74744782499371)\n",
      "Sp5C_R (383.1110695726943, 214.52838423866314, 284.66543609106884)\n",
      "Pn_R (106.04849950220452, 301.50666097757551, 222.66069312094061)\n",
      "LRt_L (364.46177054591402, 275.95837953531549, 116.60223316743598)\n",
      "Sp5O_R (286.58386046072508, 217.73583836858006, 307.10281344410873)\n",
      "SNR_L (81.321196979653578, 230.58617162411812, 82.269097243747908)\n",
      "12N (343.04398625429553, 219.72643831060859, 187.54588183128257)\n",
      "SNR_R (61.353832055472402, 232.36342975837738, 266.83079695757095)\n",
      "Sp5O_L (293.09272481217045, 219.39525876149145, 52.656960194129454)\n",
      "RMC_L (81.608790847884393, 202.73074607258198, 143.77782035141496)\n",
      "DC_R (239.63202567332493, 157.76912002879251, 330.98347429668286)\n",
      "VCA_L (214.24772731696871, 200.94350898366784, 18.091277179731755)\n",
      "3N_L (89.606981590830145, 165.79576241750607, 167.32667592914206)\n",
      "6N_R (218.53942520265292, 214.57332350773765, 206.67280766396462)\n",
      "Sp5I_L (349.00627194193521, 207.53808528263184, 53.052187290442191)\n",
      "RMC_R (74.017218991701014, 206.03743013605828, 205.69762321458816)\n",
      "5N_L (186.98327181605771, 215.73404219294977, 88.744201009109076)\n",
      "SNC_L (57.950678913738017, 245.95037939297126, 96.64556709265176)\n",
      "SNC_R (37.162846513860558, 241.53054122164886, 259.84351374054961)\n",
      "AP (342.80110658124636, 192.06755969714618, 187.36342457775189)\n",
      "5N_R (172.36303616995423, 217.18275345295476, 269.41990360079387)\n",
      "Sp5I_R (335.95090238695906, 208.53187022564086, 311.89319549071149)\n",
      "3N_R (88.048121570282817, 166.82749401998029, 185.26396510482624)\n",
      "6N_L (217.65101721439748, 211.19405320813772, 163.69953051643193)\n",
      "IC (153.40057823429035, 49.411970981365599, 162.46409875929589)\n",
      "VCA_R (195.61084990958409, 196.07041591320072, 346.61072332730561)\n",
      "DC_L (259.57664756446991, 165.3595510983763, 40.575095510983765)\n",
      "Amb_R (295.77321668909826, 260.55316285329747, 265.93674293405115)\n",
      "VCP_R (236.81310810810811, 197.08558558558559, 339.46968468468469)\n",
      "LC_R (187.32472379814871, 172.56822932218572, 233.79575992833682)\n",
      "10N_R (341.71337253899259, 205.21886985425724, 205.80337509588341)\n",
      "7n_R (206.22441829125864, 235.32328631749169, 250.21440122181295)\n",
      "4N_R (115.61461794019934, 160.97342192691031, 192.54485049833886)\n",
      "Tz_L (179.94807011768577, 298.68735083532221, 147.17364825940251)\n",
      "Tz_R (176.31857770100049, 302.44597998992299, 213.97963002951127)\n",
      "7n_L (212.45612813370474, 235.21361420612814, 112.97066504178272)\n",
      "4N_L (117.52368064952638, 160.65629228687416, 161.28958051420838)\n",
      "LC_L (193.34967604680398, 171.40373271443767, 126.12329561937916)\n",
      "10N_L (349.51740911418329, 208.28315412186379, 169.81669226830516)\n",
      "SC (64.968583469625997, 78.13727811410908, 174.94500983305218)\n",
      "VCP_L (252.30684286748732, 214.75561187545256, 27.719858797972485)\n",
      "Amb_L (303.83895705521473, 252.33512269938652, 103.625)\n"
     ]
    }
   ],
   "source": [
    "centroid_all_structures = {}\n",
    "\n",
    "for name_s, label in name_to_label.iteritems():\n",
    "    \n",
    "    ys,xs,zs = np.where(volume == label)\n",
    "    centroid = xs.mean(), ys.mean(), zs.mean()\n",
    "    \n",
    "    centroid_all_structures[name_s] = centroid\n",
    "    \n",
    "    print name_s, centroid"
   ]
  },
  {
   "cell_type": "code",
   "execution_count": 53,
   "metadata": {
    "collapsed": false
   },
   "outputs": [
    {
     "name": "stdout",
     "output_type": "stream",
     "text": [
      "[-0.04010096 -0.03778829  0.99848083] @ [ 205.39148312  209.72426523  181.0122171 ]\n"
     ]
    }
   ],
   "source": [
    "canonical_locations = average_location({n: [v] for n, v in centroid_all_structures.iteritems()}, \n",
    "                                      [convert_name_to_unsided(n) for n in name_to_label.keys()])"
   ]
  },
  {
   "cell_type": "code",
   "execution_count": null,
   "metadata": {
    "collapsed": true
   },
   "outputs": [],
   "source": [
    "for name_s, label in name_to_label.iteritems():\n",
    "    \n",
    "    xmin, xmax, ymin, ymax, zmin, zmax = bbox_3d(volume == label) \n",
    "    \n",
    "    print name_s, xmin, xmax, ymin, ymax, zmin, zmax\n",
    "    \n",
    "    vol = (volume[ymin:ymax+1, xmin:xmax+1, zmin:zmax+1] == label).astype(np.float)\n",
    "\n",
    "    t = time.time()\n",
    "\n",
    "    polydata = volume_to_polydata(vol, origin=(vol_xmin+xmin,vol_ymin+ymin,vol_zmin+zmin), num_simplify_iter=3, smooth=True)\n",
    "\n",
    "    sys.stderr.write('time: %.2f\\n' % (time.time() - t) ) # ~ 150s for outerContour; 93s for sp5\n",
    "\n",
    "    save_mesh_stl(polydata, os.path.join(mesh_rootdir, \n",
    "                     stack, \"%(stack)s_down32_annotationVolume_%(name)s_smoothed.stl\" % {'stack': stack, 'name': name_s}))"
   ]
  },
  {
   "cell_type": "code",
   "execution_count": null,
   "metadata": {
    "collapsed": true
   },
   "outputs": [],
   "source": []
  },
  {
   "cell_type": "code",
   "execution_count": 8,
   "metadata": {
    "collapsed": false
   },
   "outputs": [],
   "source": [
    "outerContour_volume = bp.unpack_ndarray_file(os.path.join(volume_dir, '%(stack)s/%(stack)s_down32_outerContourVolume.bp' % {'stack':stack})).astype(np.int8)\n",
    "\n",
    "with open(os.path.join(volume_dir, stack, stack+'_down32_outerContourVolume_bbox.txt'), 'r') as f:\n",
    "    oc_xmin, oc_xmax, oc_ymin, oc_ymax, oc_zmin, oc_zmax = map(int, f.readline().strip().split())"
   ]
  },
  {
   "cell_type": "code",
   "execution_count": 53,
   "metadata": {
    "collapsed": false,
    "scrolled": true
   },
   "outputs": [
    {
     "name": "stderr",
     "output_type": "stream",
     "text": [
      "marching cube: 37.65 seconds\n",
      "compute surface area: 0.37 seconds\n",
      "fill point array: 2.37 seconds\n",
      "fill cell array: 0.07 seconds\n",
      "mesh_to_polydata: 2.44 seconds\n",
      "simplify 0 @ 984965: 9.87 seconds\n",
      "simplify 1 @ 259634: 3.25 seconds\n",
      "simplify 2 @ 47481: 0.72 seconds\n",
      "time: 55.11\n"
     ]
    }
   ],
   "source": [
    "t = time.time()\n",
    "\n",
    "polydata = volume_to_polydata(outerContour_volume, origin=(oc_xmin, oc_ymin, oc_zmin), num_simplify_iter=3, smooth=True)\n",
    "\n",
    "sys.stderr.write('time: %.2f\\n' % (time.time() - t) ) # ~ 150s for outerContour; 93s for sp5\n",
    "\n",
    "save_mesh_stl(polydata, os.path.join(mesh_rootdir, \n",
    "                 stack, \"%(stack)s_down32_outerContourVolume_smoothed.stl\" % {'stack': stack}))"
   ]
  },
  {
   "cell_type": "code",
   "execution_count": null,
   "metadata": {
    "collapsed": true
   },
   "outputs": [],
   "source": []
  },
  {
   "cell_type": "code",
   "execution_count": 9,
   "metadata": {
    "collapsed": false
   },
   "outputs": [],
   "source": [
    "name_to_label_hindbrain = {name: label for name, label in name_to_label.iteritems() \n",
    "                           if convert_name_to_unsided(name) in ['Pn', 'VLL', 'RtTg', 'RMC', '7n', '7N', '5N', '10N', '12N', 'AP', 'LRt', 'Amb', '6N', 'Tz']}"
   ]
  },
  {
   "cell_type": "code",
   "execution_count": 10,
   "metadata": {
    "collapsed": false
   },
   "outputs": [],
   "source": [
    "polydata_list = {}\n",
    "\n",
    "for name_s, label in name_to_label_hindbrain.iteritems():\n",
    "    \n",
    "    fn = os.path.join(mesh_rootdir, stack, \"%(stack)s_down32_annotationVolume_%(name)s_smoothed.stl\" % {'stack': stack, 'name': name_s})\n",
    "\n",
    "    reader = vtk.vtkSTLReader()\n",
    "    reader.SetFileName(fn)\n",
    "    reader.Update()\n",
    "\n",
    "    polydata = reader.GetOutput()\n",
    "    polydata_list[name_s] = polydata\n",
    "    \n",
    "    \n",
    "mesh_actors = [actor_mesh(polydata, colors[convert_name_to_unsided(name_s)], wireframe=False, opacity=1.) \n",
    "               for name_s, polydata in polydata_list.iteritems()]\n",
    "# smaller opacity causes erroneous rendering"
   ]
  },
  {
   "cell_type": "code",
   "execution_count": 11,
   "metadata": {
    "collapsed": true
   },
   "outputs": [],
   "source": [
    "fn = os.path.join(mesh_rootdir, stack, \"%(stack)s_down32_outerContourVolume_smoothed.stl\" % {'stack': stack})\n",
    "\n",
    "reader = vtk.vtkSTLReader()\n",
    "reader.SetFileName(fn)\n",
    "reader.Update()\n",
    "\n",
    "outerContour_polydata = reader.GetOutput()\n",
    "\n",
    "outerContour_actor = actor_mesh(outerContour_polydata, (1,1,1), opacity=.5, wireframe=False)"
   ]
  },
  {
   "cell_type": "code",
   "execution_count": 12,
   "metadata": {
    "collapsed": false
   },
   "outputs": [],
   "source": [
    "launch_vtk(mesh_actors + [outerContour_actor], init_angle='30')"
   ]
  },
  {
   "cell_type": "code",
   "execution_count": 67,
   "metadata": {
    "collapsed": true
   },
   "outputs": [],
   "source": [
    "launch_vtk(mesh_actors)"
   ]
  },
  {
   "cell_type": "code",
   "execution_count": null,
   "metadata": {
    "collapsed": true
   },
   "outputs": [],
   "source": []
  },
  {
   "cell_type": "code",
   "execution_count": null,
   "metadata": {
    "collapsed": false
   },
   "outputs": [],
   "source": [
    "# Export to rgb PLY file (STL file can not have color info)\n",
    "# https://github.com/Kitware/VTK/blob/master/IO/PLY/Testing/Python/TestPLYReadWrite.py#L31\n",
    "# http://www.vtk.org/doc/nightly/html/classvtkPLYWriter.html#aa7f0bdbb2decdc7a7360a890a6c10e8b\n",
    "\n",
    "for name_s, polydata in polydata_list.iteritems():\n",
    "    writer = vtk.vtkPLYWriter()\n",
    "    writer.SetFileName(os.path.join(mesh_rootdir, stack, \"%(stack)s_down32_%(name)s_smoothed.ply\" % {'stack': stack, 'name':name_s}))\n",
    "    writer.SetInputData(polydata)\n",
    "    writer.SetColorModeToUniformColor();\n",
    "    writer.SetColor((colors[convert_name_to_unsided(name_s)]*255).astype(np.int))\n",
    "    writer.SetFileTypeToASCII();\n",
    "    writer.Write()"
   ]
  },
  {
   "cell_type": "code",
   "execution_count": null,
   "metadata": {
    "collapsed": false
   },
   "outputs": [],
   "source": [
    "writer = vtk.vtkPLYWriter()\n",
    "writer.SetFileName(os.path.join(mesh_rootdir, stack, \"%(stack)s_down32_outerContourVolume_smoothed.ply\" % {'stack': stack}))\n",
    "writer.SetInputData(outerContour_polydata)\n",
    "writer.SetColorModeToUniformColor();\n",
    "writer.SetColor(255,255,255)\n",
    "writer.SetFileTypeToASCII();\n",
    "writer.Write()"
   ]
  }
 ],
 "metadata": {
  "kernelspec": {
   "display_name": "Python 2",
   "language": "python",
   "name": "python2"
  },
  "language_info": {
   "codemirror_mode": {
    "name": "ipython",
    "version": 2
   },
   "file_extension": ".py",
   "mimetype": "text/x-python",
   "name": "python",
   "nbconvert_exporter": "python",
   "pygments_lexer": "ipython2",
   "version": "2.7.6"
  }
 },
 "nbformat": 4,
 "nbformat_minor": 0
}
