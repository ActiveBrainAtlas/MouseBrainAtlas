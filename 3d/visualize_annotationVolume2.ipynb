{
 "cells": [
  {
   "cell_type": "code",
   "execution_count": 1,
   "metadata": {
    "collapsed": false
   },
   "outputs": [
    {
     "name": "stdout",
     "output_type": "stream",
     "text": [
      "Setting environment for Local Macbook Pro\n"
     ]
    },
    {
     "name": "stderr",
     "output_type": "stream",
     "text": [
      "/usr/lib/python2.7/dist-packages/pkg_resources.py:1031: UserWarning: /home/yuncong/.python-eggs is writable by group/others and vulnerable to attack when used with get_resource_filename. Consider a more secure location (set with .set_extraction_path or the PYTHON_EGG_CACHE environment variable).\n",
      "  warnings.warn(msg, UserWarning)\n"
     ]
    }
   ],
   "source": [
    "%reload_ext autoreload\n",
    "%autoreload 2\n",
    "\n",
    "import vtk\n",
    "from vtk.util import numpy_support\n",
    "\n",
    "import numpy as np\n",
    "import bloscpack as bp\n",
    "\n",
    "import sys\n",
    "import os\n",
    "sys.path.append(os.path.join(os.environ['REPO_DIR'], 'utilities'))\n",
    "from utilities2015 import *\n",
    "from annotation_utilities import *\n",
    "from metadata import *\n",
    "\n",
    "import time\n",
    "\n",
    "import matplotlib.pyplot as plt\n",
    "%matplotlib inline\n",
    "\n",
    "from vis3d_utilities import *"
   ]
  },
  {
   "cell_type": "code",
   "execution_count": 2,
   "metadata": {
    "collapsed": false
   },
   "outputs": [
    {
     "data": {
      "text/plain": [
       "'/home/yuncong/CSHL_volumes2/'"
      ]
     },
     "execution_count": 2,
     "metadata": {},
     "output_type": "execute_result"
    }
   ],
   "source": [
    "volume_dir"
   ]
  },
  {
   "cell_type": "code",
   "execution_count": 3,
   "metadata": {
    "collapsed": false
   },
   "outputs": [],
   "source": [
    "stack = 'MD589'"
   ]
  },
  {
   "cell_type": "code",
   "execution_count": 4,
   "metadata": {
    "collapsed": false
   },
   "outputs": [],
   "source": [
    "label_to_name = {}\n",
    "name_to_label = {}\n",
    "\n",
    "with open(os.path.join(volume_dir, stack, stack+'_down32_annotationVolume_nameToLabel.txt'), 'r') as f:\n",
    "    for line in f.readlines():\n",
    "        name_s, label = line.split()\n",
    "        label_to_name[int(label)] = name_s\n",
    "        name_to_label[name_s] = int(label)\n",
    "        \n",
    "with open(os.path.join(volume_dir, stack, stack+'_down32_annotationVolume_bbox.txt'), 'r') as f:\n",
    "    vol_xmin, vol_xmax, vol_ymin, vol_ymax, vol_zmin, vol_zmax = map(int, f.readline().strip().split())"
   ]
  },
  {
   "cell_type": "code",
   "execution_count": 5,
   "metadata": {
    "collapsed": false
   },
   "outputs": [],
   "source": [
    "colors = {name_u: np.array(random_colors(1)[0])/255.\n",
    "          for name_u in set([convert_name_to_unsided(name_s) for name_s in name_to_label.keys()])}"
   ]
  },
  {
   "cell_type": "code",
   "execution_count": 6,
   "metadata": {
    "collapsed": true
   },
   "outputs": [],
   "source": [
    "# with open('colors.txt', 'r') as f:\n",
    "#     colors = {l[0]: np.r_[float(l[1]), float(l[2]), float(l[3])] for l in map(lambda x: x.split(), f.readlines())}"
   ]
  },
  {
   "cell_type": "code",
   "execution_count": 7,
   "metadata": {
    "collapsed": false
   },
   "outputs": [],
   "source": [
    "volume = bp.unpack_ndarray_file(os.path.join(volume_dir, '%(stack)s/%(stack)s_down32_annotationVolume.bp' % {'stack':stack})).astype(np.int8)\n",
    "# atlasProjected_volume = fill_sparse_volume(volume_sparse)\n",
    "# del volume_sparse"
   ]
  },
  {
   "cell_type": "code",
   "execution_count": 63,
   "metadata": {
    "collapsed": false
   },
   "outputs": [],
   "source": [
    "# volume_landmark_bboxes = {labels_sided[i-1]: bbox_3d(volume == i) for i in all_indices}"
   ]
  },
  {
   "cell_type": "code",
   "execution_count": 64,
   "metadata": {
    "collapsed": false,
    "scrolled": true
   },
   "outputs": [
    {
     "name": "stderr",
     "output_type": "stream",
     "text": [
      "marching cube: 0.07 seconds\n",
      "compute surface area: 0.02 seconds\n",
      "fill point array: 0.03 seconds\n",
      "fill cell array: 0.01 seconds\n",
      "mesh_to_polydata: 0.05 seconds\n",
      "simplify 0 @ 11816: 0.15 seconds\n"
     ]
    },
    {
     "name": "stdout",
     "output_type": "stream",
     "text": [
      "LRt_R 260 342 283 330 240 292\n",
      "Sp5C_L"
     ]
    },
    {
     "name": "stderr",
     "output_type": "stream",
     "text": [
      "simplify 1 @ 2364: 0.09 seconds\n",
      "simplify 2 @ 474: 0.02 seconds\n",
      "time: 0.42\n",
      "marching cube: 0.21 seconds\n",
      "compute surface area: 0.03 seconds\n",
      "fill point array: 0.04 seconds\n",
      "fill cell array: 0.00 seconds\n",
      "mesh_to_polydata: 0.04 seconds\n",
      "simplify 0 @ 23219: 0.28 seconds\n"
     ]
    },
    {
     "name": "stdout",
     "output_type": "stream",
     "text": [
      " 299 416 224 335 50 103\n",
      "Pn_L"
     ]
    },
    {
     "name": "stderr",
     "output_type": "stream",
     "text": [
      "simplify 1 @ 4645: 0.17 seconds\n",
      "simplify 2 @ 930: 0.04 seconds\n",
      "time: 0.78\n",
      "marching cube: 0.05 seconds\n",
      "compute surface area: 0.01 seconds\n",
      "fill point array: 0.03 seconds\n",
      "fill cell array: 0.00 seconds\n",
      "mesh_to_polydata: 0.03 seconds\n",
      "simplify 0 @ 17552: 0.28 seconds\n"
     ]
    },
    {
     "name": "stdout",
     "output_type": "stream",
     "text": [
      " 38 94 247 317 111 178\n",
      "7N_R"
     ]
    },
    {
     "name": "stderr",
     "output_type": "stream",
     "text": [
      "simplify 1 @ 3489: 0.14 seconds\n",
      "simplify 2 @ 688: 0.03 seconds\n",
      "time: 0.53\n",
      "marching cube: 0.02 seconds\n",
      "compute surface area: 0.00 seconds\n",
      "fill point array: 0.01 seconds\n",
      "fill cell array: 0.00 seconds\n",
      "mesh_to_polydata: 0.01 seconds\n",
      "simplify 0 @ 10339: 0.08 seconds\n"
     ]
    },
    {
     "name": "stdout",
     "output_type": "stream",
     "text": [
      " 164 225 280 318 246 303\n",
      "PBG_L"
     ]
    },
    {
     "name": "stderr",
     "output_type": "stream",
     "text": [
      "simplify 1 @ 2069: 0.07 seconds\n",
      "simplify 2 @ 415: 0.02 seconds\n",
      "time: 0.21\n",
      "marching cube: 0.00 seconds\n",
      "compute surface area: 0.00 seconds\n",
      "fill point array: 0.00 seconds\n",
      "fill cell array: 0.00 seconds\n",
      "mesh_to_polydata: 0.00 seconds\n",
      "simplify 0 @ 1316: 0.01 seconds\n"
     ]
    },
    {
     "name": "stdout",
     "output_type": "stream",
     "text": [
      " 100 121 128 157 37 56\n",
      "VLL_L"
     ]
    },
    {
     "name": "stderr",
     "output_type": "stream",
     "text": [
      "simplify 1 @ 264: 0.01 seconds\n",
      "time: 0.03\n",
      "marching cube: 0.09 seconds\n",
      "compute surface area: 0.00 seconds\n",
      "fill point array: 0.02 seconds\n",
      "fill cell array: 0.00 seconds\n",
      "mesh_to_polydata: 0.02 seconds\n",
      "simplify 0 @ 13418: 0.15 seconds\n"
     ]
    },
    {
     "name": "stdout",
     "output_type": "stream",
     "text": [
      " 74 152 138 305 51 103\n",
      "VLL_R"
     ]
    },
    {
     "name": "stderr",
     "output_type": "stream",
     "text": [
      "simplify 1 @ 2683: 0.10 seconds\n",
      "simplify 2 @ 538: 0.02 seconds\n",
      "time: 0.39\n",
      "marching cube: 0.05 seconds\n",
      "compute surface area: 0.00 seconds\n",
      "fill point array: 0.01 seconds\n",
      "fill cell array: 0.00 seconds\n",
      "mesh_to_polydata: 0.01 seconds\n",
      "simplify 0 @ 9337: 0.09 seconds\n"
     ]
    },
    {
     "name": "stdout",
     "output_type": "stream",
     "text": [
      " 72 136 154 293 273 311\n",
      "7N_L"
     ]
    },
    {
     "name": "stderr",
     "output_type": "stream",
     "text": [
      "simplify 1 @ 1869: 0.07 seconds\n",
      "simplify 2 @ 375: 0.02 seconds\n",
      "time: 0.25\n",
      "marching cube: 0.03 seconds\n",
      "compute surface area: 0.02 seconds\n",
      "fill point array: 0.03 seconds\n",
      "fill cell array: 0.00 seconds\n",
      "mesh_to_polydata: 0.03 seconds\n",
      "simplify 0 @ 11396: 0.11 seconds\n"
     ]
    },
    {
     "name": "stdout",
     "output_type": "stream",
     "text": [
      " 167 225 294 333 80 140\n",
      "PBG_R"
     ]
    },
    {
     "name": "stderr",
     "output_type": "stream",
     "text": [
      "simplify 1 @ 2280: 0.08 seconds\n",
      "simplify 2 @ 457: 0.02 seconds\n",
      "time: 0.28\n",
      "marching cube: 0.01 seconds\n"
     ]
    },
    {
     "name": "stdout",
     "output_type": "stream",
     "text": [
      " 100 142 102 144 296 307\n",
      "RtTg"
     ]
    },
    {
     "name": "stderr",
     "output_type": "stream",
     "text": [
      "compute surface area: 0.00 seconds\n",
      "fill point array: 0.00 seconds\n",
      "fill cell array: 0.00 seconds\n",
      "mesh_to_polydata: 0.00 seconds\n",
      "simplify 0 @ 1374: 0.02 seconds\n",
      "simplify 1 @ 276: 0.01 seconds\n",
      "time: 0.04\n",
      "marching cube: 0.19 seconds\n",
      "compute surface area: 0.01 seconds\n",
      "fill point array: 0.06 seconds\n",
      "fill cell array: 0.00 seconds\n",
      "mesh_to_polydata: 0.06 seconds\n",
      "simplify 0 @ 32344: 0.60 seconds\n",
      "simplify 1 @ 6424: 0.31 seconds\n",
      "simplify 2 @ 1272: 0.06 seconds\n"
     ]
    },
    {
     "name": "stdout",
     "output_type": "stream",
     "text": [
      " 40 157 238 317 145 246\n",
      "Sp5C_R"
     ]
    },
    {
     "name": "stderr",
     "output_type": "stream",
     "text": [
      "time: 1.23\n",
      "marching cube: 0.12 seconds\n",
      "compute surface area: 0.01 seconds\n",
      "fill point array: 0.04 seconds\n",
      "fill cell array: 0.00 seconds\n",
      "mesh_to_polydata: 0.04 seconds\n",
      "simplify 0 @ 30352: 0.28 seconds\n",
      "simplify 1 @ 6072: 0.26 seconds\n",
      "simplify 2 @ 1216: 0.05 seconds\n"
     ]
    },
    {
     "name": "stdout",
     "output_type": "stream",
     "text": [
      " 294 418 211 335 247 314\n",
      "Pn_R"
     ]
    },
    {
     "name": "stderr",
     "output_type": "stream",
     "text": [
      "time: 0.77\n",
      "marching cube: 0.04 seconds\n",
      "compute surface area: 0.00 seconds\n",
      "fill point array: 0.02 seconds\n",
      "fill cell array: 0.00 seconds\n",
      "mesh_to_polydata: 0.02 seconds\n",
      "simplify 0 @ 16824: 0.14 seconds\n"
     ]
    },
    {
     "name": "stdout",
     "output_type": "stream",
     "text": [
      " 41 99 245 320 206 273\n",
      "LRt_L"
     ]
    },
    {
     "name": "stderr",
     "output_type": "stream",
     "text": [
      "simplify 1 @ 3366: 0.13 seconds\n",
      "simplify 2 @ 674: 0.03 seconds\n",
      "time: 0.36\n",
      "marching cube: 0.03 seconds\n",
      "compute surface area: 0.00 seconds\n",
      "fill point array: 0.01 seconds\n",
      "fill cell array: 0.00 seconds\n",
      "mesh_to_polydata: 0.01 seconds\n",
      "simplify 0 @ 9073: 0.08 seconds\n"
     ]
    },
    {
     "name": "stdout",
     "output_type": "stream",
     "text": [
      " 276 348 299 345 83 131\n",
      "Sp5O_R"
     ]
    },
    {
     "name": "stderr",
     "output_type": "stream",
     "text": [
      "simplify 1 @ 1816: 0.06 seconds\n",
      "simplify 2 @ 364: 0.01 seconds\n",
      "time: 0.20\n",
      "marching cube: 0.04 seconds\n",
      "compute surface area: 0.00 seconds\n",
      "fill point array: 0.02 seconds\n",
      "fill cell array: 0.00 seconds\n",
      "mesh_to_polydata: 0.02 seconds\n",
      "simplify 0 @ 10366: 0.38 seconds\n"
     ]
    },
    {
     "name": "stdout",
     "output_type": "stream",
     "text": [
      " 169 294 209 281 308 333\n",
      "SNR_L"
     ]
    },
    {
     "name": "stderr",
     "output_type": "stream",
     "text": [
      "simplify 1 @ 2074: 0.07 seconds\n",
      "simplify 2 @ 416: 0.01 seconds\n",
      "time: 0.53\n",
      "marching cube: 0.09 seconds\n",
      "compute surface area: 0.01 seconds\n",
      "fill point array: 0.03 seconds\n",
      "fill cell array: 0.00 seconds\n",
      "mesh_to_polydata: 0.03 seconds\n",
      "simplify 0 @ 27301: 0.22 seconds\n"
     ]
    },
    {
     "name": "stdout",
     "output_type": "stream",
     "text": [
      " 2 96 154 246 50 131\n",
      "12N"
     ]
    },
    {
     "name": "stderr",
     "output_type": "stream",
     "text": [
      "simplify 1 @ 5461: 0.23 seconds\n",
      "simplify 2 @ 1093: 0.04 seconds\n",
      "time: 0.63\n",
      "marching cube: 0.03 seconds\n",
      "compute surface area: 0.00 seconds\n",
      "fill point array: 0.02 seconds\n",
      "fill cell array: 0.00 seconds\n",
      "mesh_to_polydata: 0.02 seconds\n",
      "simplify 0 @ 12840: 0.10 seconds\n"
     ]
    },
    {
     "name": "stdout",
     "output_type": "stream",
     "text": [
      " 268 343 239 286 153 205\n",
      "SNR_R"
     ]
    },
    {
     "name": "stderr",
     "output_type": "stream",
     "text": [
      "simplify 1 @ 2569: 0.09 seconds\n",
      "simplify 2 @ 515: 0.02 seconds\n",
      "time: 0.26\n",
      "marching cube: 0.09 seconds\n",
      "compute surface area: 0.01 seconds\n",
      "fill point array: 0.03 seconds\n",
      "fill cell array: 0.00 seconds\n",
      "mesh_to_polydata: 0.03 seconds\n",
      "simplify 0 @ 24937: 0.19 seconds\n"
     ]
    },
    {
     "name": "stdout",
     "output_type": "stream",
     "text": [
      " 0 97 133 238 247 314\n",
      "Sp5O_L"
     ]
    },
    {
     "name": "stderr",
     "output_type": "stream",
     "text": [
      "simplify 1 @ 4989: 0.21 seconds\n",
      "simplify 2 @ 999: 0.05 seconds\n",
      "time: 0.58\n",
      "marching cube: 0.06 seconds\n",
      "compute surface area: 0.01 seconds\n",
      "fill point array: 0.03 seconds\n",
      "fill cell array: 0.00 seconds\n",
      "mesh_to_polydata: 0.03 seconds\n",
      "simplify 0 @ 10825: 0.36 seconds\n"
     ]
    },
    {
     "name": "stdout",
     "output_type": "stream",
     "text": [
      " 110 288 229 301 43 70\n",
      "RMC_L"
     ]
    },
    {
     "name": "stderr",
     "output_type": "stream",
     "text": [
      "simplify 1 @ 2166: 0.08 seconds\n",
      "simplify 2 @ 434: 0.02 seconds\n",
      "time: 0.56\n",
      "marching cube: 0.01 seconds\n",
      "compute surface area: 0.00 seconds\n",
      "fill point array: 0.01 seconds\n",
      "fill cell array: 0.00 seconds\n",
      "mesh_to_polydata: 0.01 seconds\n",
      "simplify 0 @ 4896: 0.04 seconds\n"
     ]
    },
    {
     "name": "stdout",
     "output_type": "stream",
     "text": [
      " 55 94 161 194 132 165\n",
      "DC_R"
     ]
    },
    {
     "name": "stderr",
     "output_type": "stream",
     "text": [
      "simplify 1 @ 980: 0.04 seconds\n",
      "time: 0.11\n",
      "marching cube: 0.04 seconds\n",
      "compute surface area: 0.00 seconds\n",
      "fill point array: 0.02 seconds\n",
      "fill cell array: 0.00 seconds\n",
      "mesh_to_polydata: 0.02 seconds\n",
      "simplify 0 @ 12673: 0.10 seconds\n"
     ]
    },
    {
     "name": "stdout",
     "output_type": "stream",
     "text": [
      " 175 252 163 216 288 355\n",
      "VCA_L"
     ]
    },
    {
     "name": "stderr",
     "output_type": "stream",
     "text": [
      "simplify 1 @ 2536: 0.09 seconds\n",
      "simplify 2 @ 508: 0.02 seconds\n",
      "time: 0.28\n",
      "marching cube: 0.03 seconds\n",
      "compute surface area: 0.00 seconds\n",
      "fill point array: 0.02 seconds\n",
      "fill cell array: 0.00 seconds\n",
      "mesh_to_polydata: 0.02 seconds\n",
      "simplify 0 @ 11391: 0.09 seconds\n"
     ]
    },
    {
     "name": "stdout",
     "output_type": "stream",
     "text": [
      " 134 210 196 272 1 38\n",
      "3N_L"
     ]
    },
    {
     "name": "stderr",
     "output_type": "stream",
     "text": [
      "simplify 1 @ 2279: 0.08 seconds\n",
      "simplify 2 @ 457: 0.02 seconds\n",
      "time: 0.24\n",
      "marching cube: 0.00 seconds\n",
      "compute surface area: 0.00 seconds\n",
      "fill point array: 0.00 seconds\n"
     ]
    },
    {
     "name": "stdout",
     "output_type": "stream",
     "text": [
      " 78 116 134 154 160 175\n",
      "6N_R"
     ]
    },
    {
     "name": "stderr",
     "output_type": "stream",
     "text": [
      "fill cell array: 0.00 seconds\n",
      "mesh_to_polydata: 0.00 seconds\n",
      "simplify 0 @ 1964: 0.02 seconds\n",
      "simplify 1 @ 394: 0.01 seconds\n",
      "time: 0.04\n",
      "marching cube: 0.00 seconds\n",
      "compute surface area: 0.00 seconds\n",
      "fill point array: 0.00 seconds\n",
      "fill cell array: 0.00 seconds\n",
      "mesh_to_polydata: 0.00 seconds\n",
      "simplify 0 @ 408: 0.00 seconds\n",
      "time: 0.01\n",
      "marching cube: 0.07 seconds\n",
      "compute surface area: 0.01 seconds\n",
      "fill point array: 0.03 seconds\n",
      "fill cell array: 0.00 seconds\n",
      "mesh_to_polydata: 0.03 seconds\n",
      "simplify 0 @ 11639: 0.35 seconds\n"
     ]
    },
    {
     "name": "stdout",
     "output_type": "stream",
     "text": [
      " 177 191 227 241 206 214\n",
      "Sp5I_L 171 315 230 303 30 70\n",
      "RMC_R"
     ]
    },
    {
     "name": "stderr",
     "output_type": "stream",
     "text": [
      "simplify 1 @ 2326: 0.09 seconds\n",
      "simplify 2 @ 467: 0.02 seconds\n",
      "time: 0.57\n",
      "marching cube: 0.01 seconds\n",
      "compute surface area: 0.00 seconds\n",
      "fill point array: 0.01 seconds\n",
      "fill cell array: 0.00 seconds\n",
      "mesh_to_polydata: 0.01 seconds\n",
      "simplify 0 @ 6869: 0.06 seconds\n"
     ]
    },
    {
     "name": "stdout",
     "output_type": "stream",
     "text": [
      " 40 101 158 190 197 237\n",
      "5N_L"
     ]
    },
    {
     "name": "stderr",
     "output_type": "stream",
     "text": [
      "simplify 1 @ 1375: 0.05 seconds\n",
      "simplify 2 @ 276: 0.01 seconds\n",
      "time: 0.15\n",
      "marching cube: 0.01 seconds\n",
      "compute surface area: 0.00 seconds\n",
      "fill point array: 0.01 seconds\n",
      "fill cell array: 0.00 seconds\n",
      "mesh_to_polydata: 0.01 seconds\n",
      "simplify 0 @ 6169: 0.07 seconds\n"
     ]
    },
    {
     "name": "stdout",
     "output_type": "stream",
     "text": [
      " 129 170 204 260 77 103\n",
      "SNC_L"
     ]
    },
    {
     "name": "stderr",
     "output_type": "stream",
     "text": [
      "simplify 1 @ 1235: 0.04 seconds\n",
      "simplify 2 @ 248: 0.01 seconds\n",
      "time: 0.14\n",
      "marching cube: 0.03 seconds\n",
      "compute surface area: 0.00 seconds\n",
      "fill point array: 0.01 seconds\n",
      "fill cell array: 0.00 seconds\n",
      "mesh_to_polydata: 0.01 seconds\n",
      "simplify 0 @ 8882: 0.06 seconds\n"
     ]
    },
    {
     "name": "stdout",
     "output_type": "stream",
     "text": [
      " 8 59 174 232 71 131\n",
      "SNC_R"
     ]
    },
    {
     "name": "stderr",
     "output_type": "stream",
     "text": [
      "simplify 1 @ 1778: 0.06 seconds\n",
      "simplify 2 @ 357: 0.01 seconds\n",
      "time: 0.17\n",
      "marching cube: 0.03 seconds\n",
      "compute surface area: 0.00 seconds\n",
      "fill point array: 0.01 seconds\n",
      "fill cell array: 0.00 seconds\n",
      "mesh_to_polydata: 0.01 seconds\n",
      "simplify 0 @ 6736: 0.04 seconds\n"
     ]
    },
    {
     "name": "stdout",
     "output_type": "stream",
     "text": [
      " 7 59 159 226 247 296\n",
      "AP"
     ]
    },
    {
     "name": "stderr",
     "output_type": "stream",
     "text": [
      "simplify 1 @ 1348: 0.04 seconds\n",
      "simplify 2 @ 271: 0.01 seconds\n",
      "time: 0.13\n",
      "marching cube: 0.00 seconds\n",
      "compute surface area: 0.00 seconds\n",
      "fill point array: 0.00 seconds\n",
      "fill cell array: 0.00 seconds\n",
      "mesh_to_polydata: 0.00 seconds\n",
      "simplify 0 @ 2368: 0.02 seconds\n"
     ]
    },
    {
     "name": "stdout",
     "output_type": "stream",
     "text": [
      " 291 327 224 250 166 185\n",
      "5N_R"
     ]
    },
    {
     "name": "stderr",
     "output_type": "stream",
     "text": [
      "simplify 1 @ 475: 0.01 seconds\n",
      "time: 0.05\n",
      "marching cube: 0.01 seconds\n",
      "compute surface area: 0.00 seconds\n",
      "fill point array: 0.01 seconds\n",
      "fill cell array: 0.00 seconds\n",
      "mesh_to_polydata: 0.01 seconds\n",
      "simplify 0 @ 7131: 0.07 seconds\n"
     ]
    },
    {
     "name": "stdout",
     "output_type": "stream",
     "text": [
      " 117 165 196 248 263 294\n",
      "Sp5I_R"
     ]
    },
    {
     "name": "stderr",
     "output_type": "stream",
     "text": [
      "simplify 1 @ 1427: 0.05 seconds\n",
      "simplify 2 @ 287: 0.01 seconds\n",
      "time: 0.16\n",
      "marching cube: 0.05 seconds\n",
      "compute surface area: 0.00 seconds\n",
      "fill point array: 0.02 seconds\n",
      "fill cell array: 0.00 seconds\n",
      "mesh_to_polydata: 0.02 seconds\n",
      "simplify 0 @ 8202: 0.12 seconds\n"
     ]
    },
    {
     "name": "stdout",
     "output_type": "stream",
     "text": [
      " 272 325 208 283 308 336\n",
      "3N_R"
     ]
    },
    {
     "name": "stderr",
     "output_type": "stream",
     "text": [
      "simplify 1 @ 1643: 0.06 seconds\n",
      "simplify 2 @ 330: 0.01 seconds\n",
      "time: 0.27\n",
      "marching cube: 0.00 seconds\n",
      "compute surface area: 0.00 seconds\n",
      "fill point array: 0.00 seconds\n",
      "fill cell array: 0.00 seconds\n",
      "mesh_to_polydata: 0.00 seconds\n",
      "simplify 0 @ 1832: 0.02 seconds\n"
     ]
    },
    {
     "name": "stdout",
     "output_type": "stream",
     "text": [
      " 80 116 133 154 181 195\n",
      "6N_L"
     ]
    },
    {
     "name": "stderr",
     "output_type": "stream",
     "text": [
      "simplify 1 @ 368: 0.01 seconds\n",
      "time: 0.04\n",
      "marching cube: 0.00 seconds\n",
      "compute surface area: 0.00 seconds\n",
      "fill point array: 0.00 seconds\n",
      "fill cell array: 0.00 seconds\n",
      "mesh_to_polydata: 0.00 seconds\n",
      "simplify 0 @ 619: 0.01 seconds\n",
      "time: 0.01\n",
      "marching cube: 0.41 seconds\n",
      "compute surface area: 0.03 seconds\n",
      "fill point array: 0.11 seconds\n",
      "fill cell array: 0.00 seconds\n",
      "mesh_to_polydata: 0.11 seconds\n",
      "simplify 0 @ 74031: 1.02 seconds\n",
      "simplify 1 @ 14808: 0.78 seconds\n",
      "simplify 2 @ 2963: 0.15 seconds\n"
     ]
    },
    {
     "name": "stdout",
     "output_type": "stream",
     "text": [
      " 180 193 228 243 152 163\n",
      "IC 106 225 5 118 64 287\n",
      "VCA_R"
     ]
    },
    {
     "name": "stderr",
     "output_type": "stream",
     "text": [
      "time: 2.52\n",
      "marching cube: 0.03 seconds\n",
      "compute surface area: 0.00 seconds\n",
      "fill point array: 0.02 seconds\n",
      "fill cell array: 0.00 seconds\n",
      "mesh_to_polydata: 0.02 seconds\n",
      "simplify 0 @ 12515: 0.09 seconds\n"
     ]
    },
    {
     "name": "stdout",
     "output_type": "stream",
     "text": [
      " 137 209 179 245 326 375\n",
      "DC_L"
     ]
    },
    {
     "name": "stderr",
     "output_type": "stream",
     "text": [
      "simplify 1 @ 2504: 0.09 seconds\n",
      "simplify 2 @ 502: 0.02 seconds\n",
      "time: 0.25\n",
      "marching cube: 0.06 seconds\n",
      "compute surface area: 0.00 seconds\n",
      "fill point array: 0.02 seconds\n",
      "fill cell array: 0.00 seconds\n",
      "mesh_to_polydata: 0.02 seconds\n",
      "simplify 0 @ 13568: 0.12 seconds\n"
     ]
    },
    {
     "name": "stdout",
     "output_type": "stream",
     "text": [
      " 181 258 181 247 15 97\n",
      "Amb_R"
     ]
    },
    {
     "name": "stderr",
     "output_type": "stream",
     "text": [
      "simplify 1 @ 2715: 0.10 seconds\n",
      "simplify 2 @ 544: 0.02 seconds\n",
      "time: 0.32\n",
      "marching cube: 0.00 seconds\n",
      "compute surface area: 0.00 seconds\n",
      "fill point array: 0.00 seconds\n",
      "fill cell array: 0.00 seconds\n",
      "mesh_to_polydata: 0.00 seconds\n",
      "simplify 0 @ 661: 0.01 seconds\n",
      "time: 0.02\n",
      "marching cube: 0.02 seconds\n",
      "compute surface area: 0.00 seconds\n",
      "fill point array: 0.01 seconds\n",
      "fill cell array: 0.00 seconds\n",
      "mesh_to_polydata: 0.01 seconds\n",
      "simplify 0 @ 7004: 0.05 seconds\n"
     ]
    },
    {
     "name": "stdout",
     "output_type": "stream",
     "text": [
      " 232 263 278 293 273 279\n",
      "VCP_R 182 241 191 253 322 360\n",
      "LC_R"
     ]
    },
    {
     "name": "stderr",
     "output_type": "stream",
     "text": [
      "simplify 1 @ 1402: 0.04 seconds\n",
      "simplify 2 @ 282: 0.01 seconds\n",
      "time: 0.14\n",
      "marching cube: 0.01 seconds\n",
      "compute surface area: 0.00 seconds\n",
      "fill point array: 0.01 seconds\n",
      "fill cell array: 0.00 seconds\n",
      "mesh_to_polydata: 0.01 seconds\n",
      "simplify 0 @ 3907: 0.03 seconds\n",
      "simplify 1 @ 783: 0.02 seconds\n"
     ]
    },
    {
     "name": "stdout",
     "output_type": "stream",
     "text": [
      " 154 206 164 207 229 245\n",
      "10N_R"
     ]
    },
    {
     "name": "stderr",
     "output_type": "stream",
     "text": [
      "time: 0.08\n",
      "marching cube: 0.02 seconds\n",
      "compute surface area: 0.00 seconds\n",
      "fill point array: 0.01 seconds\n",
      "fill cell array: 0.00 seconds\n",
      "mesh_to_polydata: 0.01 seconds\n",
      "simplify 0 @ 4181: 0.03 seconds\n",
      "simplify 1 @ 837: 0.02 seconds\n"
     ]
    },
    {
     "name": "stdout",
     "output_type": "stream",
     "text": [
      " 278 356 235 287 185 218\n",
      "7n_R"
     ]
    },
    {
     "name": "stderr",
     "output_type": "stream",
     "text": [
      "time: 0.09\n",
      "marching cube: 0.06 seconds\n",
      "compute surface area: 0.00 seconds\n",
      "fill point array: 0.01 seconds\n",
      "fill cell array: 0.00 seconds\n",
      "mesh_to_polydata: 0.01 seconds\n",
      "simplify 0 @ 8439: 0.06 seconds\n"
     ]
    },
    {
     "name": "stdout",
     "output_type": "stream",
     "text": [
      " 142 202 215 288 213 305\n",
      "4N_R"
     ]
    },
    {
     "name": "stderr",
     "output_type": "stream",
     "text": [
      "simplify 1 @ 1689: 0.05 seconds\n",
      "simplify 2 @ 339: 0.01 seconds\n",
      "time: 0.20\n",
      "marching cube: 0.00 seconds\n",
      "compute surface area: 0.00 seconds\n",
      "fill point array: 0.00 seconds\n",
      "fill cell array: 0.00 seconds\n",
      "mesh_to_polydata: 0.00 seconds\n",
      "simplify 0 @ 331: 0.00 seconds\n",
      "time: 0.01\n",
      "marching cube: 0.01 seconds\n",
      "compute surface area: 0.00 seconds\n",
      "fill point array: 0.01 seconds\n",
      "fill cell array: 0.00 seconds\n",
      "mesh_to_polydata: 0.01 seconds\n",
      "simplify 0 @ 5197: 0.04 seconds\n"
     ]
    },
    {
     "name": "stdout",
     "output_type": "stream",
     "text": [
      " 117 125 143 153 190 199\n",
      "Tz_L 101 165 297 327 145 177\n",
      "Tz_R"
     ]
    },
    {
     "name": "stderr",
     "output_type": "stream",
     "text": [
      "simplify 1 @ 1041: 0.03 seconds\n",
      "simplify 2 @ 209: 0.01 seconds\n",
      "time: 0.10\n",
      "marching cube: 0.01 seconds\n",
      "compute surface area: 0.00 seconds\n",
      "fill point array: 0.01 seconds\n",
      "fill cell array: 0.00 seconds\n",
      "mesh_to_polydata: 0.01 seconds\n",
      "simplify 0 @ 4851: 0.04 seconds\n",
      "simplify 1 @ 971: 0.03 seconds\n"
     ]
    },
    {
     "name": "stdout",
     "output_type": "stream",
     "text": [
      " 96 159 293 319 213 246\n",
      "7n_L"
     ]
    },
    {
     "name": "stderr",
     "output_type": "stream",
     "text": [
      "time: 0.10\n",
      "marching cube: 0.06 seconds\n",
      "compute surface area: 0.00 seconds\n",
      "fill point array: 0.01 seconds\n",
      "fill cell array: 0.00 seconds\n",
      "mesh_to_polydata: 0.01 seconds\n",
      "simplify 0 @ 8406: 0.06 seconds\n"
     ]
    },
    {
     "name": "stdout",
     "output_type": "stream",
     "text": [
      " 136 204 221 306 77 152\n",
      "4N_L"
     ]
    },
    {
     "name": "stderr",
     "output_type": "stream",
     "text": [
      "simplify 1 @ 1682: 0.05 seconds\n",
      "simplify 2 @ 338: 0.01 seconds\n",
      "time: 0.20\n",
      "marching cube: 0.00 seconds\n",
      "compute surface area: 0.00 seconds\n",
      "fill point array: 0.00 seconds\n",
      "fill cell array: 0.00 seconds\n",
      "mesh_to_polydata: 0.00 seconds\n",
      "time: 0.00\n",
      "marching cube: 0.01 seconds\n",
      "compute surface area: 0.00 seconds\n",
      "fill point array: 0.01 seconds\n",
      "fill cell array: 0.00 seconds\n",
      "mesh_to_polydata: 0.01 seconds\n",
      "simplify 0 @ 2969: 0.03 seconds\n",
      "simplify 1 @ 595: 0.02 seconds\n"
     ]
    },
    {
     "name": "stdout",
     "output_type": "stream",
     "text": [
      " 117 124 144 154 156 159\n",
      "LC_L 159 202 165 214 111 124\n",
      "10N_L"
     ]
    },
    {
     "name": "stderr",
     "output_type": "stream",
     "text": [
      "time: 0.07\n",
      "marching cube: 0.01 seconds\n",
      "compute surface area: 0.00 seconds\n",
      "fill point array: 0.00 seconds\n",
      "fill cell array: 0.00 seconds\n",
      "mesh_to_polydata: 0.00 seconds\n",
      "simplify 0 @ 3673: 0.02 seconds\n"
     ]
    },
    {
     "name": "stdout",
     "output_type": "stream",
     "text": [
      " 288 353 236 283 149 171\n",
      "SC"
     ]
    },
    {
     "name": "stderr",
     "output_type": "stream",
     "text": [
      "simplify 1 @ 736: 0.02 seconds\n",
      "time: 0.07\n",
      "marching cube: 0.63 seconds\n",
      "compute surface area: 0.03 seconds\n",
      "fill point array: 0.16 seconds\n",
      "fill cell array: 0.00 seconds\n",
      "mesh_to_polydata: 0.16 seconds\n",
      "simplify 0 @ 122565: 1.20 seconds\n",
      "simplify 1 @ 24514: 1.36 seconds\n",
      "simplify 2 @ 4904: 0.27 seconds\n"
     ]
    },
    {
     "name": "stdout",
     "output_type": "stream",
     "text": [
      " 11 180 0 138 57 295\n",
      "VCP_L"
     ]
    },
    {
     "name": "stderr",
     "output_type": "stream",
     "text": [
      "time: 3.69\n",
      "marching cube: 0.02 seconds\n",
      "compute surface area: 0.00 seconds\n",
      "fill point array: 0.01 seconds\n",
      "fill cell array: 0.00 seconds\n",
      "mesh_to_polydata: 0.01 seconds\n",
      "simplify 0 @ 7593: 0.08 seconds\n"
     ]
    },
    {
     "name": "stdout",
     "output_type": "stream",
     "text": [
      " 185 244 207 283 13 40\n",
      "Amb_L"
     ]
    },
    {
     "name": "stderr",
     "output_type": "stream",
     "text": [
      "simplify 1 @ 1520: 0.05 seconds\n",
      "simplify 2 @ 305: 0.01 seconds\n",
      "time: 0.18\n",
      "marching cube: 0.00 seconds\n",
      "compute surface area: 0.00 seconds\n",
      "fill point array: 0.00 seconds\n",
      "fill cell array: 0.00 seconds\n",
      "mesh_to_polydata: 0.00 seconds\n",
      "simplify 0 @ 667: 0.01 seconds\n"
     ]
    },
    {
     "name": "stdout",
     "output_type": "stream",
     "text": [
      " 237 273 297 311 96 103\n"
     ]
    },
    {
     "name": "stderr",
     "output_type": "stream",
     "text": [
      "time: 0.02\n"
     ]
    }
   ],
   "source": [
    "for name_s, label in name_to_label.iteritems():\n",
    "    \n",
    "    xmin, xmax, ymin, ymax, zmin, zmax = bbox_3d(volume == label) \n",
    "    \n",
    "    print name_s, xmin, xmax, ymin, ymax, zmin, zmax\n",
    "    \n",
    "    vol = (volume[ymin:ymax+1, xmin:xmax+1, zmin:zmax+1] == label).astype(np.float)\n",
    "\n",
    "    t = time.time()\n",
    "\n",
    "    polydata = volume_to_polydata(vol, origin=(vol_xmin+xmin,vol_ymin+ymin,vol_zmin+zmin), num_simplify_iter=3, smooth=True)\n",
    "\n",
    "    sys.stderr.write('time: %.2f\\n' % (time.time() - t) ) # ~ 150s for outerContour; 93s for sp5\n",
    "\n",
    "    save_mesh_stl(polydata, os.path.join(mesh_rootdir, \n",
    "                     stack, \"%(stack)s_down32_annotationVolume_%(name)s_smoothed.stl\" % {'stack': stack, 'name': name_s}))"
   ]
  },
  {
   "cell_type": "code",
   "execution_count": null,
   "metadata": {
    "collapsed": true
   },
   "outputs": [],
   "source": []
  },
  {
   "cell_type": "code",
   "execution_count": 8,
   "metadata": {
    "collapsed": false
   },
   "outputs": [],
   "source": [
    "outerContour_volume = bp.unpack_ndarray_file(os.path.join(volume_dir, '%(stack)s/%(stack)s_down32_outerContourVolume.bp' % {'stack':stack})).astype(np.int8)\n",
    "\n",
    "with open(os.path.join(volume_dir, stack, stack+'_down32_outerContourVolume_bbox.txt'), 'r') as f:\n",
    "    oc_xmin, oc_xmax, oc_ymin, oc_ymax, oc_zmin, oc_zmax = map(int, f.readline().strip().split())"
   ]
  },
  {
   "cell_type": "code",
   "execution_count": 53,
   "metadata": {
    "collapsed": false,
    "scrolled": true
   },
   "outputs": [
    {
     "name": "stderr",
     "output_type": "stream",
     "text": [
      "marching cube: 37.65 seconds\n",
      "compute surface area: 0.37 seconds\n",
      "fill point array: 2.37 seconds\n",
      "fill cell array: 0.07 seconds\n",
      "mesh_to_polydata: 2.44 seconds\n",
      "simplify 0 @ 984965: 9.87 seconds\n",
      "simplify 1 @ 259634: 3.25 seconds\n",
      "simplify 2 @ 47481: 0.72 seconds\n",
      "time: 55.11\n"
     ]
    }
   ],
   "source": [
    "t = time.time()\n",
    "\n",
    "polydata = volume_to_polydata(outerContour_volume, origin=(oc_xmin, oc_ymin, oc_zmin), num_simplify_iter=3, smooth=True)\n",
    "\n",
    "sys.stderr.write('time: %.2f\\n' % (time.time() - t) ) # ~ 150s for outerContour; 93s for sp5\n",
    "\n",
    "save_mesh_stl(polydata, os.path.join(mesh_rootdir, \n",
    "                 stack, \"%(stack)s_down32_outerContourVolume_smoothed.stl\" % {'stack': stack}))"
   ]
  },
  {
   "cell_type": "code",
   "execution_count": null,
   "metadata": {
    "collapsed": true
   },
   "outputs": [],
   "source": []
  },
  {
   "cell_type": "code",
   "execution_count": 9,
   "metadata": {
    "collapsed": false
   },
   "outputs": [],
   "source": [
    "polydata_list = {}\n",
    "\n",
    "for name_s, label in name_to_label.iteritems():\n",
    "    \n",
    "    fn = os.path.join(mesh_rootdir, stack, \"%(stack)s_down32_annotationVolume_%(name)s_smoothed.stl\" % {'stack': stack, 'name': name_s})\n",
    "\n",
    "    reader = vtk.vtkSTLReader()\n",
    "    reader.SetFileName(fn)\n",
    "    reader.Update()\n",
    "\n",
    "    polydata = reader.GetOutput()\n",
    "    polydata_list[name_s] = polydata\n",
    "    \n",
    "    \n",
    "mesh_actors = [actor_mesh(polydata, colors[convert_name_to_unsided(name_s)], wireframe=False, opacity=1.) \n",
    "               for name_s, polydata in polydata_list.iteritems()]\n",
    "# smaller opacity causes erroneous rendering"
   ]
  },
  {
   "cell_type": "code",
   "execution_count": 10,
   "metadata": {
    "collapsed": true
   },
   "outputs": [],
   "source": [
    "fn = os.path.join(mesh_rootdir, stack, \"%(stack)s_down32_outerContourVolume_smoothed.stl\" % {'stack': stack})\n",
    "\n",
    "reader = vtk.vtkSTLReader()\n",
    "reader.SetFileName(fn)\n",
    "reader.Update()\n",
    "\n",
    "outerContour_polydata = reader.GetOutput()\n",
    "\n",
    "outerContour_actor = actor_mesh(outerContour_polydata, (1,1,1), opacity=.5, wireframe=False)"
   ]
  },
  {
   "cell_type": "code",
   "execution_count": 67,
   "metadata": {
    "collapsed": true
   },
   "outputs": [],
   "source": [
    "launch_vtk(mesh_actors)"
   ]
  },
  {
   "cell_type": "code",
   "execution_count": 11,
   "metadata": {
    "collapsed": false
   },
   "outputs": [],
   "source": [
    "launch_vtk(mesh_actors + [outerContour_actor])"
   ]
  },
  {
   "cell_type": "code",
   "execution_count": null,
   "metadata": {
    "collapsed": true
   },
   "outputs": [],
   "source": []
  },
  {
   "cell_type": "code",
   "execution_count": null,
   "metadata": {
    "collapsed": false
   },
   "outputs": [],
   "source": [
    "# Export to rgb PLY file (STL file can not have color info)\n",
    "# https://github.com/Kitware/VTK/blob/master/IO/PLY/Testing/Python/TestPLYReadWrite.py#L31\n",
    "# http://www.vtk.org/doc/nightly/html/classvtkPLYWriter.html#aa7f0bdbb2decdc7a7360a890a6c10e8b\n",
    "\n",
    "for name_s, polydata in polydata_list.iteritems():\n",
    "    writer = vtk.vtkPLYWriter()\n",
    "    writer.SetFileName(os.path.join(mesh_rootdir, stack, \"%(stack)s_down32_%(name)s_smoothed.ply\" % {'stack': stack, 'name':name_s}))\n",
    "    writer.SetInputData(polydata)\n",
    "    writer.SetColorModeToUniformColor();\n",
    "    writer.SetColor((colors[convert_name_to_unsided(name_s)]*255).astype(np.int))\n",
    "    writer.SetFileTypeToASCII();\n",
    "    writer.Write()"
   ]
  },
  {
   "cell_type": "code",
   "execution_count": null,
   "metadata": {
    "collapsed": false
   },
   "outputs": [],
   "source": [
    "writer = vtk.vtkPLYWriter()\n",
    "writer.SetFileName(os.path.join(mesh_rootdir, stack, \"%(stack)s_down32_outerContourVolume_smoothed.ply\" % {'stack': stack}))\n",
    "writer.SetInputData(outerContour_polydata)\n",
    "writer.SetColorModeToUniformColor();\n",
    "writer.SetColor(255,255,255)\n",
    "writer.SetFileTypeToASCII();\n",
    "writer.Write()"
   ]
  }
 ],
 "metadata": {
  "kernelspec": {
   "display_name": "Python 2",
   "language": "python",
   "name": "python2"
  },
  "language_info": {
   "codemirror_mode": {
    "name": "ipython",
    "version": 2
   },
   "file_extension": ".py",
   "mimetype": "text/x-python",
   "name": "python",
   "nbconvert_exporter": "python",
   "pygments_lexer": "ipython2",
   "version": "2.7.6"
  }
 },
 "nbformat": 4,
 "nbformat_minor": 0
}
