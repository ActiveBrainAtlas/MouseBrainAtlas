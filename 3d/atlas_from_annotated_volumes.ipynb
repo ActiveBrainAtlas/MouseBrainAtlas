{
 "cells": [
  {
   "cell_type": "code",
   "execution_count": 1,
   "metadata": {
    "collapsed": false
   },
   "outputs": [
    {
     "name": "stdout",
     "output_type": "stream",
     "text": [
      "Setting environment for Local Macbook Pro\n"
     ]
    },
    {
     "name": "stderr",
     "output_type": "stream",
     "text": [
      "/usr/lib/python2.7/dist-packages/pkg_resources.py:1031: UserWarning: /home/yuncong/.python-eggs is writable by group/others and vulnerable to attack when used with get_resource_filename. Consider a more secure location (set with .set_extraction_path or the PYTHON_EGG_CACHE environment variable).\n",
      "  warnings.warn(msg, UserWarning)\n"
     ]
    }
   ],
   "source": [
    "%reload_ext autoreload\n",
    "%autoreload 2\n",
    "\n",
    "import vtk\n",
    "from vtk.util import numpy_support\n",
    "\n",
    "import numpy as np\n",
    "import bloscpack as bp\n",
    "import sys\n",
    "import os\n",
    "\n",
    "sys.path.append(os.path.join(os.environ['REPO_DIR'], 'utilities'))\n",
    "from utilities2015 import *\n",
    "from metadata import *\n",
    "from data_manager import *\n",
    "\n",
    "from registration_utilities import *\n",
    "\n",
    "from skimage.measure import marching_cubes, correct_mesh_orientation\n",
    "\n",
    "from vis3d_utilities import *\n",
    "from itertools import izip\n",
    "\n",
    "%matplotlib inline"
   ]
  },
  {
   "cell_type": "code",
   "execution_count": 2,
   "metadata": {
    "collapsed": true
   },
   "outputs": [],
   "source": [
    "stack_moving = 'MD594'\n",
    "stack_fixed = 'MD589'"
   ]
  },
  {
   "cell_type": "code",
   "execution_count": 3,
   "metadata": {
    "collapsed": false
   },
   "outputs": [],
   "source": [
    "atlasAlignParams_dir = create_if_not_exists(atlasAlignParams_rootdir + '/%(stack_moving)s_to_%(stack_fixed)s' % \\\n",
    "                     {'stack_moving': stack_moving, 'stack_fixed': stack_fixed})"
   ]
  },
  {
   "cell_type": "code",
   "execution_count": 4,
   "metadata": {
    "collapsed": false
   },
   "outputs": [
    {
     "name": "stdout",
     "output_type": "stream",
     "text": [
      "(348, 421, 377)\n",
      "(326, 515, 368)\n"
     ]
    }
   ],
   "source": [
    "volume_fixed = bp.unpack_ndarray_file(os.path.join(volume_dir, '%(stack)s/%(stack)s_down32_annotationVolume.bp' % {'stack': stack_fixed}))\n",
    "volume_moving = bp.unpack_ndarray_file(os.path.join(volume_dir, '%(stack)s/%(stack)s_down32_annotationVolume.bp' % {'stack': stack_moving}))\n",
    "print volume_fixed.shape\n",
    "print volume_moving.shape"
   ]
  },
  {
   "cell_type": "code",
   "execution_count": 5,
   "metadata": {
    "collapsed": false
   },
   "outputs": [],
   "source": [
    "with open(atlasAlignParams_dir + '/%(stack_moving)s_down32_annotationVolume_to_%(stack_fixed)s_down32_annotationVolume_parameters.txt' % \\\n",
    "          {'stack_moving': stack_moving, 'stack_fixed': stack_fixed}, 'r') as f:\n",
    "    \n",
    "    lines = f.readlines()\n",
    "    \n",
    "    global_params = one_liner_to_arr(lines[0], float)\n",
    "    centroid_m = one_liner_to_arr(lines[1], float)\n",
    "    xdim_m, ydim_m, zdim_m  = one_liner_to_arr(lines[2], int)\n",
    "    centroid_f = one_liner_to_arr(lines[3], float)\n",
    "    xdim_f, ydim_f, zdim_f  = one_liner_to_arr(lines[4], int)"
   ]
  },
  {
   "cell_type": "code",
   "execution_count": null,
   "metadata": {
    "collapsed": true
   },
   "outputs": [],
   "source": []
  },
  {
   "cell_type": "code",
   "execution_count": 6,
   "metadata": {
    "collapsed": false
   },
   "outputs": [],
   "source": [
    "label_to_name_m, name_to_label_m = DataManager.load_volume_label_to_name(stack_moving)\n",
    "label_to_name_f, name_to_label_f = DataManager.load_volume_label_to_name(stack_fixed)"
   ]
  },
  {
   "cell_type": "code",
   "execution_count": 7,
   "metadata": {
    "collapsed": true
   },
   "outputs": [],
   "source": [
    "colors = {name_u: np.array(random_colors(1)[0])/255.\n",
    "          for name_u in set([convert_name_to_unsided(name_s) for name_s in name_to_label_m.keys()])}"
   ]
  },
  {
   "cell_type": "code",
   "execution_count": null,
   "metadata": {
    "collapsed": true
   },
   "outputs": [],
   "source": []
  },
  {
   "cell_type": "code",
   "execution_count": null,
   "metadata": {
    "collapsed": true
   },
   "outputs": [],
   "source": [
    "# Save meshes of moving volume aligned to fixed"
   ]
  },
  {
   "cell_type": "code",
   "execution_count": 8,
   "metadata": {
    "collapsed": true
   },
   "outputs": [],
   "source": [
    "moving_volume_alignedTo_fixed_volume_fn = os.path.join('/home/yuncong/CSHL_atlasAlignParams_atlas_v2/', stack_moving+'_to_'+stack_fixed, \n",
    "             \"%(stack_moving)s_down32_annotationVolume_alignedTo_%(stack_fixed)s_down32_annotationVolume.bp\" %\\\n",
    "             {'stack_moving': stack_moving, 'stack_fixed': stack_fixed})"
   ]
  },
  {
   "cell_type": "code",
   "execution_count": 9,
   "metadata": {
    "collapsed": false
   },
   "outputs": [],
   "source": [
    "volume_m_alignedTo_f = bp.unpack_ndarray_file(moving_volume_alignedTo_fixed_volume_fn)"
   ]
  },
  {
   "cell_type": "code",
   "execution_count": 10,
   "metadata": {
    "collapsed": false
   },
   "outputs": [],
   "source": [
    "vol_f_xmin, vol_f_xmax, vol_f_ymin, vol_f_ymax, vol_f_zmin, vol_f_zmax = DataManager.load_volume_bbox(stack_fixed)"
   ]
  },
  {
   "cell_type": "code",
   "execution_count": 11,
   "metadata": {
    "collapsed": true
   },
   "outputs": [],
   "source": [
    "m_alignedTo_f_meshes_dir = create_if_not_exists(os.path.join('/home/yuncong/CSHL_meshes/', stack_moving+'_to_'+stack_fixed))"
   ]
  },
  {
   "cell_type": "code",
   "execution_count": 12,
   "metadata": {
    "collapsed": false,
    "scrolled": true
   },
   "outputs": [
    {
     "name": "stderr",
     "output_type": "stream",
     "text": [
      "marching cube: 0.06 seconds\n",
      "compute surface area: 0.01 seconds\n",
      "fill point array: 0.02 seconds\n",
      "fill cell array: 0.00 seconds\n",
      "mesh_to_polydata: 0.02 seconds\n",
      "simplify 0 @ 12931: 0.13 seconds\n",
      "simplify 1 @ 2587: 0.09 seconds\n",
      "simplify 2 @ 519: 0.02 seconds\n",
      "time: 0.33\n",
      "marching cube: 0.11 seconds\n",
      "compute surface area: 0.01 seconds\n",
      "fill point array: 0.04 seconds\n",
      "fill cell array: 0.00 seconds\n",
      "mesh_to_polydata: 0.04 seconds\n",
      "simplify 0 @ 32510: 0.33 seconds\n",
      "simplify 1 @ 6503: 0.31 seconds\n",
      "simplify 2 @ 1302: 0.06 seconds\n",
      "time: 0.86\n",
      "marching cube: 0.04 seconds\n",
      "compute surface area: 0.01 seconds\n"
     ]
    },
    {
     "ename": "KeyboardInterrupt",
     "evalue": "",
     "output_type": "error",
     "traceback": [
      "\u001b[1;31m---------------------------------------------------------------------------\u001b[0m",
      "\u001b[1;31mKeyboardInterrupt\u001b[0m                         Traceback (most recent call last)",
      "\u001b[1;32m<ipython-input-12-58d6c1debbd7>\u001b[0m in \u001b[0;36m<module>\u001b[1;34m()\u001b[0m\n\u001b[0;32m      6\u001b[0m     \u001b[0mt\u001b[0m \u001b[1;33m=\u001b[0m \u001b[0mtime\u001b[0m\u001b[1;33m.\u001b[0m\u001b[0mtime\u001b[0m\u001b[1;33m(\u001b[0m\u001b[1;33m)\u001b[0m\u001b[1;33m\u001b[0m\u001b[0m\n\u001b[0;32m      7\u001b[0m     polydata = volume_to_polydata(vol, origin=(vol_f_xmin+xmin, vol_f_ymin+ymin, vol_f_zmin+zmin), \n\u001b[1;32m----> 8\u001b[1;33m                                   num_simplify_iter=3, smooth=True)\n\u001b[0m\u001b[0;32m      9\u001b[0m     \u001b[0msys\u001b[0m\u001b[1;33m.\u001b[0m\u001b[0mstderr\u001b[0m\u001b[1;33m.\u001b[0m\u001b[0mwrite\u001b[0m\u001b[1;33m(\u001b[0m\u001b[1;34m'time: %.2f\\n'\u001b[0m \u001b[1;33m%\u001b[0m \u001b[1;33m(\u001b[0m\u001b[0mtime\u001b[0m\u001b[1;33m.\u001b[0m\u001b[0mtime\u001b[0m\u001b[1;33m(\u001b[0m\u001b[1;33m)\u001b[0m \u001b[1;33m-\u001b[0m \u001b[0mt\u001b[0m\u001b[1;33m)\u001b[0m \u001b[1;33m)\u001b[0m\u001b[1;33m\u001b[0m\u001b[0m\n\u001b[0;32m     10\u001b[0m \u001b[1;33m\u001b[0m\u001b[0m\n",
      "\u001b[1;32m/home/yuncong/Brain/3d/vis3d_utilities.pyc\u001b[0m in \u001b[0;36mvolume_to_polydata\u001b[1;34m(volume, origin, num_simplify_iter, smooth)\u001b[0m\n\u001b[0;32m    127\u001b[0m     \u001b[0mt\u001b[0m \u001b[1;33m=\u001b[0m \u001b[0mtime\u001b[0m\u001b[1;33m.\u001b[0m\u001b[0mtime\u001b[0m\u001b[1;33m(\u001b[0m\u001b[1;33m)\u001b[0m\u001b[1;33m\u001b[0m\u001b[0m\n\u001b[0;32m    128\u001b[0m \u001b[1;33m\u001b[0m\u001b[0m\n\u001b[1;32m--> 129\u001b[1;33m     \u001b[0mpolydata\u001b[0m \u001b[1;33m=\u001b[0m \u001b[0mmesh_to_polydata\u001b[0m\u001b[1;33m(\u001b[0m\u001b[0mvs\u001b[0m\u001b[1;33m,\u001b[0m \u001b[0mfs\u001b[0m\u001b[1;33m)\u001b[0m\u001b[1;33m\u001b[0m\u001b[0m\n\u001b[0m\u001b[0;32m    130\u001b[0m \u001b[1;33m\u001b[0m\u001b[0m\n\u001b[0;32m    131\u001b[0m     \u001b[0msys\u001b[0m\u001b[1;33m.\u001b[0m\u001b[0mstderr\u001b[0m\u001b[1;33m.\u001b[0m\u001b[0mwrite\u001b[0m\u001b[1;33m(\u001b[0m\u001b[1;34m'mesh_to_polydata: %.2f seconds\\n'\u001b[0m \u001b[1;33m%\u001b[0m \u001b[1;33m(\u001b[0m\u001b[0mtime\u001b[0m\u001b[1;33m.\u001b[0m\u001b[0mtime\u001b[0m\u001b[1;33m(\u001b[0m\u001b[1;33m)\u001b[0m \u001b[1;33m-\u001b[0m \u001b[0mt\u001b[0m\u001b[1;33m)\u001b[0m\u001b[1;33m)\u001b[0m \u001b[1;31m#\u001b[0m\u001b[1;33m\u001b[0m\u001b[0m\n",
      "\u001b[1;32m/home/yuncong/Brain/3d/vis3d_utilities.pyc\u001b[0m in \u001b[0;36mmesh_to_polydata\u001b[1;34m(vertices, faces)\u001b[0m\n\u001b[0;32m     66\u001b[0m \u001b[1;33m\u001b[0m\u001b[0m\n\u001b[0;32m     67\u001b[0m     \u001b[1;32mfor\u001b[0m \u001b[0mpt_ind\u001b[0m\u001b[1;33m,\u001b[0m \u001b[1;33m(\u001b[0m\u001b[0mx\u001b[0m\u001b[1;33m,\u001b[0m\u001b[0my\u001b[0m\u001b[1;33m,\u001b[0m\u001b[0mz\u001b[0m\u001b[1;33m)\u001b[0m \u001b[1;32min\u001b[0m \u001b[0menumerate\u001b[0m\u001b[1;33m(\u001b[0m\u001b[0mvertices\u001b[0m\u001b[1;33m)\u001b[0m\u001b[1;33m:\u001b[0m\u001b[1;33m\u001b[0m\u001b[0m\n\u001b[1;32m---> 68\u001b[1;33m         \u001b[0mpoints\u001b[0m\u001b[1;33m.\u001b[0m\u001b[0mInsertPoint\u001b[0m\u001b[1;33m(\u001b[0m\u001b[0mpt_ind\u001b[0m\u001b[1;33m,\u001b[0m \u001b[0mx\u001b[0m\u001b[1;33m,\u001b[0m \u001b[0my\u001b[0m\u001b[1;33m,\u001b[0m \u001b[0mz\u001b[0m\u001b[1;33m)\u001b[0m\u001b[1;33m\u001b[0m\u001b[0m\n\u001b[0m\u001b[0;32m     69\u001b[0m \u001b[1;33m\u001b[0m\u001b[0m\n\u001b[0;32m     70\u001b[0m     \u001b[0msys\u001b[0m\u001b[1;33m.\u001b[0m\u001b[0mstderr\u001b[0m\u001b[1;33m.\u001b[0m\u001b[0mwrite\u001b[0m\u001b[1;33m(\u001b[0m\u001b[1;34m'fill point array: %.2f seconds\\n'\u001b[0m \u001b[1;33m%\u001b[0m \u001b[1;33m(\u001b[0m\u001b[0mtime\u001b[0m\u001b[1;33m.\u001b[0m\u001b[0mtime\u001b[0m\u001b[1;33m(\u001b[0m\u001b[1;33m)\u001b[0m \u001b[1;33m-\u001b[0m \u001b[0mt\u001b[0m\u001b[1;33m)\u001b[0m\u001b[1;33m)\u001b[0m\u001b[1;33m\u001b[0m\u001b[0m\n",
      "\u001b[1;31mKeyboardInterrupt\u001b[0m: "
     ]
    }
   ],
   "source": [
    "for name_s, label in name_to_label_m.iteritems():\n",
    "    \n",
    "    xmin, xmax, ymin, ymax, zmin, zmax = bbox_3d(volume_m_alignedTo_f == label)\n",
    "    vol = (volume_m_alignedTo_f[ymin:ymax+1, xmin:xmax+1, zmin:zmax+1] == label).astype(np.float)\n",
    "\n",
    "    t = time.time()\n",
    "    polydata = volume_to_polydata(vol, origin=(vol_f_xmin+xmin, vol_f_ymin+ymin, vol_f_zmin+zmin), \n",
    "                                  num_simplify_iter=3, smooth=True)\n",
    "    sys.stderr.write('time: %.2f\\n' % (time.time() - t) )\n",
    "\n",
    "    polydata_fn = os.path.join(m_alignedTo_f_meshes_dir, \n",
    "                \"%(stack_moving)s_down32_annotationVolume_alignedTo_%(stack_fixed)s_down32_annotationVolume_%(name)s_smoothed.stl\" %\\\n",
    "                  {'stack_moving': stack_moving, 'stack_fixed': stack_fixed, 'name': name_s})\n",
    "    \n",
    "    save_mesh_stl(polydata, polydata_fn)"
   ]
  },
  {
   "cell_type": "code",
   "execution_count": null,
   "metadata": {
    "collapsed": true
   },
   "outputs": [],
   "source": []
  },
  {
   "cell_type": "code",
   "execution_count": null,
   "metadata": {
    "collapsed": true
   },
   "outputs": [],
   "source": [
    "# Load moving volume aligned to fixed"
   ]
  },
  {
   "cell_type": "code",
   "execution_count": 13,
   "metadata": {
    "collapsed": false
   },
   "outputs": [],
   "source": [
    "moving_volume_alignedTo_fixed_volume_polydata_list = {}\n",
    "\n",
    "for name_s, label in name_to_label_m.iteritems():\n",
    "    \n",
    "    fn = os.path.join(m_alignedTo_f_meshes_dir, \n",
    "                      \"%(stack_moving)s_down32_annotationVolume_alignedTo_%(stack_fixed)s_down32_annotationVolume_%(name)s_smoothed.stl\" %\\\n",
    "                      {'stack_moving': stack_moving, 'stack_fixed': stack_fixed, 'name': name_s})\n",
    "\n",
    "    reader = vtk.vtkSTLReader()\n",
    "    reader.SetFileName(fn)\n",
    "    reader.Update()\n",
    "\n",
    "    polydata = reader.GetOutput()\n",
    "    moving_volume_alignedTo_fixed_volume_polydata_list[name_s] = polydata"
   ]
  },
  {
   "cell_type": "code",
   "execution_count": 14,
   "metadata": {
    "collapsed": true
   },
   "outputs": [],
   "source": [
    "# Load moving volume"
   ]
  },
  {
   "cell_type": "code",
   "execution_count": 15,
   "metadata": {
    "collapsed": false
   },
   "outputs": [],
   "source": [
    "moving_volume_polydata_list = {}\n",
    "\n",
    "for name_s, label in name_to_label_m.iteritems():\n",
    "    \n",
    "    fn = os.path.join(mesh_rootdir, stack_moving, \"%(stack)s_down32_annotationVolume_%(name)s_smoothed.stl\" % {'stack': stack_moving, 'name': name_s})\n",
    "\n",
    "    reader = vtk.vtkSTLReader()\n",
    "    reader.SetFileName(fn)\n",
    "    reader.Update()\n",
    "\n",
    "    polydata = reader.GetOutput()\n",
    "    moving_volume_polydata_list[name_s] = polydata"
   ]
  },
  {
   "cell_type": "code",
   "execution_count": 16,
   "metadata": {
    "collapsed": true
   },
   "outputs": [],
   "source": [
    "# Load fixed volume"
   ]
  },
  {
   "cell_type": "code",
   "execution_count": 17,
   "metadata": {
    "collapsed": false
   },
   "outputs": [],
   "source": [
    "fixed_volume_polydata_list = {}\n",
    "\n",
    "for name_s, label in name_to_label_f.iteritems():\n",
    "    \n",
    "    fn = os.path.join(mesh_rootdir, stack_fixed, \"%(stack)s_down32_annotationVolume_%(name)s_smoothed.stl\" % {'stack': stack_fixed, 'name': name_s})\n",
    "\n",
    "    reader = vtk.vtkSTLReader()\n",
    "    reader.SetFileName(fn)\n",
    "    reader.Update()\n",
    "\n",
    "    polydata = reader.GetOutput()\n",
    "    fixed_volume_polydata_list[name_s] = polydata"
   ]
  },
  {
   "cell_type": "code",
   "execution_count": null,
   "metadata": {
    "collapsed": true
   },
   "outputs": [],
   "source": []
  },
  {
   "cell_type": "code",
   "execution_count": null,
   "metadata": {
    "collapsed": false
   },
   "outputs": [],
   "source": [
    "# Show each structure in one color\n",
    "\n",
    "volume_m_alignedTo_f_mesh_actors = [actor_mesh(polydata, colors[convert_name_to_unsided(name_s)], wireframe=True, opacity=1.) \n",
    "               for name_s, polydata in moving_volume_alignedTo_fixed_volume_polydata_list.iteritems()]\n",
    "\n",
    "volume_f_mesh_actors = [actor_mesh(polydata, colors[convert_name_to_unsided(name_s)], wireframe=True, opacity=1.) \n",
    "               for name_s, polydata in fixed_volume_polydata_list.iteritems()]\n",
    "\n",
    "launch_vtk(volume_m_alignedTo_f_mesh_actors + volume_f_mesh_actors + [outerContour_actor])"
   ]
  },
  {
   "cell_type": "code",
   "execution_count": null,
   "metadata": {
    "collapsed": true
   },
   "outputs": [],
   "source": [
    "# Show each brain in one color\n",
    "\n",
    "volume_m_alignedTo_f_mesh_actors = [actor_mesh(polydata, (1.,0,0), wireframe=True, opacity=1.) \n",
    "               for name_s, polydata in moving_volume_alignedTo_fixed_volume_polydata_list.iteritems()]\n",
    "\n",
    "volume_f_mesh_actors = [actor_mesh(polydata, (0,0,1), wireframe=True, opacity=1.) \n",
    "               for name_s, polydata in fixed_volume_polydata_list.iteritems()]\n",
    "\n",
    "volume_m_mesh_actors = [actor_mesh(polydata, (0,1,1), wireframe=True, opacity=1.) \n",
    "               for name_s, polydata in moving_volume_polydata_list.iteritems()]\n",
    "\n",
    "launch_vtk(volume_m_alignedTo_f_mesh_actors + volume_f_mesh_actors + volume_m_mesh_actors)"
   ]
  },
  {
   "cell_type": "code",
   "execution_count": null,
   "metadata": {
    "collapsed": true
   },
   "outputs": [],
   "source": [
    "launch_vtk(volume_m_alignedTo_f_mesh_actors + volume_f_mesh_actors)"
   ]
  },
  {
   "cell_type": "code",
   "execution_count": null,
   "metadata": {
    "collapsed": true
   },
   "outputs": [],
   "source": []
  },
  {
   "cell_type": "code",
   "execution_count": 18,
   "metadata": {
    "collapsed": true
   },
   "outputs": [],
   "source": [
    "centroid_allLandmarks = defaultdict(list)\n",
    "polydata_list_allLandmarks = {}\n",
    "average_polydata_allLandmarks = {}\n",
    "average_volume_allLandmarks = {}\n",
    "average_volume_origin_allLandmarks = {}\n",
    "\n",
    "atlas_space_structure_volumes = {}\n",
    "atlas_space_structure_meshes = {}"
   ]
  },
  {
   "cell_type": "code",
   "execution_count": 19,
   "metadata": {
    "collapsed": true
   },
   "outputs": [],
   "source": [
    "all_names = set([convert_name_to_unsided(name_s) for name_s in name_to_label_f.keys()])"
   ]
  },
  {
   "cell_type": "code",
   "execution_count": 20,
   "metadata": {
    "collapsed": false,
    "scrolled": true
   },
   "outputs": [
    {
     "name": "stderr",
     "output_type": "stream",
     "text": [
      "icp: 2.41\n",
      "icp: 2.28\n",
      "icp: 2.76\n",
      "fill point array: 0.00 seconds\n",
      "fill cell array: 0.00 seconds\n",
      "fill point array: 0.00 seconds\n",
      "fill cell array: 0.00 seconds\n",
      "fill point array: 0.00 seconds\n",
      "fill cell array: 0.00 seconds\n",
      "fill point array: 0.00 seconds\n",
      "fill cell array: 0.00 seconds\n",
      "polydata_to_volume: 0.00\n",
      "polydata_to_volume: 0.00\n",
      "polydata_to_volume: 0.00\n",
      "polydata_to_volume: 0.00\n",
      "find common: 0.00\n",
      "marching cube: 0.02 seconds\n",
      "compute surface area: 0.00 seconds\n",
      "fill point array: 0.01 seconds\n",
      "fill cell array: 0.00 seconds\n",
      "mesh_to_polydata: 0.01 seconds\n",
      "simplify 0 @ 4400: 0.05 seconds\n"
     ]
    },
    {
     "name": "stdout",
     "output_type": "stream",
     "text": [
      "Tz\n",
      "VCA"
     ]
    },
    {
     "name": "stderr",
     "output_type": "stream",
     "text": [
      "simplify 1 @ 881: 0.06 seconds\n",
      "volume_to_polydata: 0.16\n",
      "icp: 9.27\n",
      "icp: 2.97\n",
      "icp: 8.50\n",
      "fill point array: 0.00 seconds\n",
      "fill cell array: 0.00 seconds\n",
      "fill point array: 0.00 seconds\n",
      "fill cell array: 0.00 seconds\n",
      "fill point array: 0.00 seconds\n",
      "fill cell array: 0.00 seconds\n",
      "fill point array: 0.00 seconds\n",
      "fill cell array: 0.00 seconds\n",
      "polydata_to_volume: 0.00\n",
      "polydata_to_volume: 0.00\n",
      "polydata_to_volume: 0.00\n",
      "polydata_to_volume: 0.00\n",
      "find common: 0.01\n",
      "marching cube: 0.05 seconds\n",
      "compute surface area: 0.00 seconds\n",
      "fill point array: 0.02 seconds\n",
      "fill cell array: 0.00 seconds\n",
      "mesh_to_polydata: 0.02 seconds\n",
      "simplify 0 @ 12091: 0.11 seconds\n"
     ]
    },
    {
     "name": "stdout",
     "output_type": "stream",
     "text": [
      "\n",
      "7n"
     ]
    },
    {
     "name": "stderr",
     "output_type": "stream",
     "text": [
      "simplify 1 @ 2420: 0.11 seconds\n",
      "simplify 2 @ 485: 0.02 seconds\n",
      "volume_to_polydata: 0.31\n",
      "icp: 5.24\n",
      "icp: 5.79\n",
      "icp: 5.59\n",
      "fill point array: 0.00 seconds\n",
      "fill cell array: 0.00 seconds\n",
      "fill point array: 0.00 seconds\n",
      "fill cell array: 0.00 seconds\n",
      "fill point array: 0.00 seconds\n",
      "fill cell array: 0.00 seconds\n",
      "fill point array: 0.00 seconds\n",
      "fill cell array: 0.00 seconds\n",
      "polydata_to_volume: 0.00\n",
      "polydata_to_volume: 0.01\n",
      "polydata_to_volume: 0.01\n",
      "polydata_to_volume: 0.02\n",
      "find common: 0.01\n",
      "marching cube: 0.06 seconds\n",
      "compute surface area: 0.00 seconds\n",
      "fill point array: 0.01 seconds\n",
      "fill cell array: 0.00 seconds\n",
      "mesh_to_polydata: 0.01 seconds\n",
      "simplify 0 @ 8982: 0.06 seconds\n"
     ]
    },
    {
     "name": "stdout",
     "output_type": "stream",
     "text": [
      "\n",
      "DC"
     ]
    },
    {
     "name": "stderr",
     "output_type": "stream",
     "text": [
      "simplify 1 @ 1798: 0.06 seconds\n",
      "simplify 2 @ 361: 0.02 seconds\n",
      "volume_to_polydata: 0.23\n",
      "icp: 9.37\n",
      "icp: 8.03\n",
      "icp: 7.14\n",
      "fill point array: 0.00 seconds\n",
      "fill cell array: 0.00 seconds\n",
      "fill point array: 0.00 seconds\n",
      "fill cell array: 0.00 seconds\n",
      "fill point array: 0.00 seconds\n",
      "fill cell array: 0.00 seconds\n",
      "fill point array: 0.00 seconds\n",
      "fill cell array: 0.00 seconds\n",
      "polydata_to_volume: 0.01\n",
      "polydata_to_volume: 0.00\n",
      "polydata_to_volume: 0.01\n",
      "polydata_to_volume: 0.00\n",
      "find common: 0.01\n",
      "marching cube: 0.05 seconds\n",
      "compute surface area: 0.00 seconds\n",
      "fill point array: 0.02 seconds\n",
      "fill cell array: 0.00 seconds\n",
      "mesh_to_polydata: 0.02 seconds\n",
      "simplify 0 @ 12846: 0.10 seconds\n"
     ]
    },
    {
     "name": "stdout",
     "output_type": "stream",
     "text": [
      "\n",
      "5N"
     ]
    },
    {
     "name": "stderr",
     "output_type": "stream",
     "text": [
      "simplify 1 @ 2570: 0.18 seconds\n",
      "simplify 2 @ 519: 0.02 seconds\n",
      "volume_to_polydata: 0.38\n",
      "icp: 3.83\n",
      "icp: 3.59\n",
      "icp: 3.06\n",
      "fill point array: 0.00 seconds\n",
      "fill cell array: 0.00 seconds\n",
      "fill point array: 0.00 seconds\n",
      "fill cell array: 0.00 seconds\n",
      "fill point array: 0.00 seconds\n",
      "fill cell array: 0.00 seconds\n",
      "fill point array: 0.00 seconds\n",
      "fill cell array: 0.00 seconds\n",
      "polydata_to_volume: 0.00\n",
      "polydata_to_volume: 0.00\n",
      "polydata_to_volume: 0.00\n",
      "polydata_to_volume: 0.00\n",
      "find common: 0.00\n",
      "marching cube: 0.02 seconds\n",
      "compute surface area: 0.00 seconds\n",
      "fill point array: 0.01 seconds\n",
      "fill cell array: 0.00 seconds\n",
      "mesh_to_polydata: 0.01 seconds\n",
      "simplify 0 @ 6407: 0.05 seconds\n"
     ]
    },
    {
     "name": "stdout",
     "output_type": "stream",
     "text": [
      "\n",
      "3N"
     ]
    },
    {
     "name": "stderr",
     "output_type": "stream",
     "text": [
      "simplify 1 @ 1283: 0.04 seconds\n",
      "simplify 2 @ 258: 0.01 seconds\n",
      "volume_to_polydata: 0.14\n",
      "icp: 0.55\n",
      "icp: 0.77\n",
      "icp: 0.87\n",
      "fill point array: 0.00 seconds\n",
      "fill cell array: 0.00 seconds\n",
      "fill point array: 0.00 seconds\n",
      "fill cell array: 0.00 seconds\n",
      "fill point array: 0.00 seconds\n",
      "fill cell array: 0.00 seconds\n",
      "fill point array: 0.00 seconds\n",
      "fill cell array: 0.00 seconds\n",
      "polydata_to_volume: 0.00\n",
      "polydata_to_volume: 0.00\n",
      "polydata_to_volume: 0.00\n",
      "polydata_to_volume: 0.00\n",
      "find common: 0.00\n",
      "marching cube: 0.00 seconds\n",
      "compute surface area: 0.00 seconds\n",
      "fill point array: 0.00 seconds\n",
      "fill cell array: 0.00 seconds\n",
      "mesh_to_polydata: 0.00 seconds\n",
      "simplify 0 @ 2138: 0.02 seconds\n",
      "simplify 1 @ 429: 0.01 seconds\n",
      "volume_to_polydata: 0.04\n"
     ]
    },
    {
     "name": "stdout",
     "output_type": "stream",
     "text": [
      "\n",
      "Pn"
     ]
    },
    {
     "name": "stderr",
     "output_type": "stream",
     "text": [
      "icp: 10.28\n",
      "icp: 11.61\n",
      "icp: 9.33\n",
      "fill point array: 0.00 seconds\n",
      "fill cell array: 0.00 seconds\n",
      "fill point array: 0.00 seconds\n",
      "fill cell array: 0.00 seconds\n",
      "fill point array: 0.00 seconds\n",
      "fill cell array: 0.00 seconds\n",
      "fill point array: 0.00 seconds\n",
      "fill cell array: 0.00 seconds\n",
      "polydata_to_volume: 0.01\n",
      "polydata_to_volume: 0.01\n",
      "polydata_to_volume: 0.01\n",
      "polydata_to_volume: 0.01\n",
      "find common: 0.01\n",
      "marching cube: 0.05 seconds\n",
      "compute surface area: 0.00 seconds\n",
      "fill point array: 0.02 seconds\n",
      "fill cell array: 0.00 seconds\n",
      "mesh_to_polydata: 0.02 seconds\n",
      "simplify 0 @ 15827: 0.12 seconds\n"
     ]
    },
    {
     "name": "stdout",
     "output_type": "stream",
     "text": [
      "\n",
      "10N"
     ]
    },
    {
     "name": "stderr",
     "output_type": "stream",
     "text": [
      "simplify 1 @ 3167: 0.13 seconds\n",
      "simplify 2 @ 635: 0.02 seconds\n",
      "volume_to_polydata: 0.35\n",
      "icp: 2.23\n",
      "icp: 1.66\n",
      "icp: 1.58\n",
      "fill point array: 0.00 seconds\n",
      "fill cell array: 0.00 seconds\n",
      "fill point array: 0.00 seconds\n",
      "fill cell array: 0.00 seconds\n",
      "fill point array: 0.00 seconds\n",
      "fill cell array: 0.00 seconds\n",
      "fill point array: 0.00 seconds\n",
      "fill cell array: 0.00 seconds\n",
      "polydata_to_volume: 0.00\n",
      "polydata_to_volume: 0.00\n",
      "polydata_to_volume: 0.00\n",
      "polydata_to_volume: 0.00\n",
      "find common: 0.00\n",
      "marching cube: 0.02 seconds\n",
      "compute surface area: 0.00 seconds\n",
      "fill point array: 0.00 seconds\n",
      "fill cell array: 0.00 seconds\n",
      "mesh_to_polydata: 0.00 seconds\n",
      "simplify 0 @ 3436: 0.02 seconds\n"
     ]
    },
    {
     "name": "stdout",
     "output_type": "stream",
     "text": [
      "\n",
      "VLL"
     ]
    },
    {
     "name": "stderr",
     "output_type": "stream",
     "text": [
      "simplify 1 @ 688: 0.02 seconds\n",
      "volume_to_polydata: 0.07\n",
      "icp: 6.58\n",
      "icp: 7.54\n",
      "icp: 5.93\n",
      "fill point array: 0.00 seconds\n",
      "fill cell array: 0.00 seconds\n",
      "fill point array: 0.00 seconds\n",
      "fill cell array: 0.00 seconds\n",
      "fill point array: 0.00 seconds\n",
      "fill cell array: 0.00 seconds\n",
      "fill point array: 0.00 seconds\n",
      "fill cell array: 0.00 seconds\n",
      "polydata_to_volume: 0.01\n",
      "polydata_to_volume: 0.00\n",
      "polydata_to_volume: 0.01\n",
      "polydata_to_volume: 0.01\n",
      "find common: 0.02\n",
      "marching cube: 0.09 seconds\n",
      "compute surface area: 0.00 seconds\n",
      "fill point array: 0.02 seconds\n",
      "fill cell array: 0.00 seconds\n",
      "mesh_to_polydata: 0.02 seconds\n",
      "simplify 0 @ 11412: 0.08 seconds\n"
     ]
    },
    {
     "name": "stdout",
     "output_type": "stream",
     "text": [
      "\n",
      "7N"
     ]
    },
    {
     "name": "stderr",
     "output_type": "stream",
     "text": [
      "simplify 1 @ 2284: 0.08 seconds\n",
      "simplify 2 @ 458: 0.02 seconds\n",
      "volume_to_polydata: 0.29\n",
      "icp: 6.41\n",
      "icp: 7.32\n",
      "icp: 7.54\n",
      "fill point array: 0.00 seconds\n",
      "fill cell array: 0.00 seconds\n",
      "fill point array: 0.00 seconds\n",
      "fill cell array: 0.00 seconds\n",
      "fill point array: 0.00 seconds\n",
      "fill cell array: 0.00 seconds\n",
      "fill point array: 0.00 seconds\n",
      "fill cell array: 0.00 seconds\n",
      "polydata_to_volume: 0.00\n",
      "polydata_to_volume: 0.00\n",
      "polydata_to_volume: 0.00\n",
      "polydata_to_volume: 0.00\n",
      "find common: 0.00\n",
      "marching cube: 0.03 seconds\n",
      "compute surface area: 0.00 seconds\n",
      "fill point array: 0.01 seconds\n",
      "fill cell array: 0.00 seconds\n",
      "mesh_to_polydata: 0.01 seconds\n",
      "simplify 0 @ 10432: 0.08 seconds\n"
     ]
    },
    {
     "name": "stdout",
     "output_type": "stream",
     "text": [
      "\n",
      "Amb"
     ]
    },
    {
     "name": "stderr",
     "output_type": "stream",
     "text": [
      "simplify 1 @ 2088: 0.07 seconds\n",
      "simplify 2 @ 419: 0.02 seconds\n",
      "volume_to_polydata: 0.22\n",
      "icp: 1.57\n",
      "icp: 1.43\n",
      "icp: 1.40\n"
     ]
    },
    {
     "name": "stdout",
     "output_type": "stream",
     "text": [
      "\n",
      "12N"
     ]
    },
    {
     "name": "stderr",
     "output_type": "stream",
     "text": [
      "fill point array: 0.00 seconds\n",
      "fill cell array: 0.00 seconds\n",
      "fill point array: 0.00 seconds\n",
      "fill cell array: 0.00 seconds\n",
      "fill point array: 0.00 seconds\n",
      "fill cell array: 0.00 seconds\n",
      "fill point array: 0.00 seconds\n",
      "fill cell array: 0.00 seconds\n",
      "polydata_to_volume: 0.00\n",
      "polydata_to_volume: 0.00\n",
      "polydata_to_volume: 0.00\n",
      "polydata_to_volume: 0.00\n",
      "find common: 0.00\n",
      "marching cube: 0.00 seconds\n",
      "compute surface area: 0.00 seconds\n",
      "fill point array: 0.00 seconds\n",
      "fill cell array: 0.00 seconds\n",
      "mesh_to_polydata: 0.00 seconds\n",
      "simplify 0 @ 777: 0.01 seconds\n",
      "volume_to_polydata: 0.02\n",
      "icp: 7.39\n",
      "fill point array: 0.00 seconds\n",
      "fill cell array: 0.00 seconds\n",
      "fill point array: 0.00 seconds\n",
      "fill cell array: 0.00 seconds\n",
      "polydata_to_volume: 0.00\n",
      "polydata_to_volume: 0.01\n",
      "find common: 0.00\n",
      "marching cube: 0.03 seconds\n",
      "compute surface area: 0.00 seconds\n",
      "fill point array: 0.01 seconds\n",
      "fill cell array: 0.00 seconds\n",
      "mesh_to_polydata: 0.01 seconds\n",
      "simplify 0 @ 10670: 0.08 seconds\n"
     ]
    },
    {
     "name": "stdout",
     "output_type": "stream",
     "text": [
      "\n",
      "RMC"
     ]
    },
    {
     "name": "stderr",
     "output_type": "stream",
     "text": [
      "simplify 1 @ 2135: 0.07 seconds\n",
      "simplify 2 @ 428: 0.02 seconds\n",
      "volume_to_polydata: 0.21\n",
      "icp: 3.37\n",
      "icp: 2.71\n",
      "icp: 2.65\n",
      "fill point array: 0.00 seconds\n",
      "fill cell array: 0.00 seconds\n",
      "fill point array: 0.00 seconds\n",
      "fill cell array: 0.00 seconds\n",
      "fill point array: 0.00 seconds\n",
      "fill cell array: 0.00 seconds\n",
      "fill point array: 0.00 seconds\n",
      "fill cell array: 0.00 seconds\n",
      "polydata_to_volume: 0.00\n",
      "polydata_to_volume: 0.00\n",
      "polydata_to_volume: 0.00\n",
      "polydata_to_volume: 0.00\n",
      "find common: 0.00\n",
      "marching cube: 0.02 seconds\n",
      "compute surface area: 0.00 seconds\n",
      "fill point array: 0.01 seconds\n",
      "fill cell array: 0.00 seconds\n",
      "mesh_to_polydata: 0.01 seconds\n",
      "simplify 0 @ 5928: 0.04 seconds\n"
     ]
    },
    {
     "name": "stdout",
     "output_type": "stream",
     "text": [
      "\n",
      "Sp5O"
     ]
    },
    {
     "name": "stderr",
     "output_type": "stream",
     "text": [
      "simplify 1 @ 1187: 0.04 seconds\n",
      "simplify 2 @ 239: 0.01 seconds\n",
      "volume_to_polydata: 0.12\n",
      "icp: 5.84\n",
      "icp: 3.28\n",
      "icp: 4.63\n",
      "fill point array: 0.00 seconds\n",
      "fill cell array: 0.00 seconds\n",
      "fill point array: 0.00 seconds\n",
      "fill cell array: 0.00 seconds\n",
      "fill point array: 0.00 seconds\n",
      "fill cell array: 0.00 seconds\n",
      "fill point array: 0.00 seconds\n",
      "fill cell array: 0.00 seconds\n",
      "polydata_to_volume: 0.00\n",
      "polydata_to_volume: 0.00\n",
      "polydata_to_volume: 0.00\n",
      "polydata_to_volume: 0.00\n",
      "find common: 0.01\n",
      "marching cube: 0.06 seconds\n",
      "compute surface area: 0.00 seconds\n",
      "fill point array: 0.02 seconds\n",
      "fill cell array: 0.00 seconds\n",
      "mesh_to_polydata: 0.02 seconds\n",
      "simplify 0 @ 11204: 0.16 seconds\n"
     ]
    },
    {
     "name": "stdout",
     "output_type": "stream",
     "text": [
      "\n",
      "Sp5I"
     ]
    },
    {
     "name": "stderr",
     "output_type": "stream",
     "text": [
      "simplify 1 @ 2242: 0.08 seconds\n",
      "simplify 2 @ 450: 0.02 seconds\n",
      "volume_to_polydata: 0.35\n",
      "icp: 5.65\n",
      "icp: 4.50\n",
      "icp: 5.28\n",
      "fill point array: 0.00 seconds\n",
      "fill cell array: 0.00 seconds\n",
      "fill point array: 0.00 seconds\n",
      "fill cell array: 0.00 seconds\n",
      "fill point array: 0.00 seconds\n",
      "fill cell array: 0.00 seconds\n",
      "fill point array: 0.00 seconds\n",
      "fill cell array: 0.00 seconds\n",
      "polydata_to_volume: 0.00\n",
      "polydata_to_volume: 0.00\n",
      "polydata_to_volume: 0.00\n",
      "polydata_to_volume: 0.00\n",
      "find common: 0.01\n",
      "marching cube: 0.11 seconds\n",
      "compute surface area: 0.00 seconds\n",
      "fill point array: 0.03 seconds\n",
      "fill cell array: 0.00 seconds\n",
      "mesh_to_polydata: 0.03 seconds\n",
      "simplify 0 @ 10332: 0.11 seconds\n"
     ]
    },
    {
     "name": "stdout",
     "output_type": "stream",
     "text": [
      "\n",
      "Sp5C"
     ]
    },
    {
     "name": "stderr",
     "output_type": "stream",
     "text": [
      "simplify 1 @ 2068: 0.07 seconds\n",
      "simplify 2 @ 415: 0.02 seconds\n",
      "volume_to_polydata: 0.33\n",
      "icp: 23.34\n",
      "icp: 23.96\n",
      "icp: 18.48\n",
      "fill point array: 0.00 seconds\n",
      "fill cell array: 0.00 seconds\n",
      "fill point array: 0.00 seconds\n",
      "fill cell array: 0.00 seconds\n",
      "fill point array: 0.00 seconds\n",
      "fill cell array: 0.00 seconds\n",
      "fill point array: 0.00 seconds\n",
      "fill cell array: 0.00 seconds\n",
      "polydata_to_volume: 0.01\n",
      "polydata_to_volume: 0.01\n",
      "polydata_to_volume: 0.01\n",
      "polydata_to_volume: 0.01\n",
      "find common: 0.02\n",
      "marching cube: 0.13 seconds\n",
      "compute surface area: 0.01 seconds\n",
      "fill point array: 0.03 seconds\n",
      "fill cell array: 0.00 seconds\n",
      "mesh_to_polydata: 0.04 seconds\n",
      "simplify 0 @ 29393: 0.23 seconds\n",
      "simplify 1 @ 5880: 0.25 seconds\n",
      "simplify 2 @ 1177: 0.05 seconds\n",
      "volume_to_polydata: 0.70\n"
     ]
    },
    {
     "name": "stdout",
     "output_type": "stream",
     "text": [
      "\n",
      "VCP"
     ]
    },
    {
     "name": "stderr",
     "output_type": "stream",
     "text": [
      "icp: 3.86\n",
      "icp: 3.09\n",
      "icp: 5.00\n",
      "fill point array: 0.00 seconds\n",
      "fill cell array: 0.00 seconds\n",
      "fill point array: 0.00 seconds\n",
      "fill cell array: 0.00 seconds\n",
      "fill point array: 0.00 seconds\n",
      "fill cell array: 0.00 seconds\n",
      "fill point array: 0.00 seconds\n",
      "fill cell array: 0.00 seconds\n",
      "polydata_to_volume: 0.00\n",
      "polydata_to_volume: 0.00\n",
      "polydata_to_volume: 0.00\n",
      "polydata_to_volume: 0.00\n",
      "find common: 0.00\n",
      "marching cube: 0.02 seconds\n",
      "compute surface area: 0.00 seconds\n",
      "fill point array: 0.01 seconds\n",
      "fill cell array: 0.00 seconds\n",
      "mesh_to_polydata: 0.01 seconds\n",
      "simplify 0 @ 6825: 0.06 seconds\n"
     ]
    },
    {
     "name": "stdout",
     "output_type": "stream",
     "text": [
      "\n",
      "AP"
     ]
    },
    {
     "name": "stderr",
     "output_type": "stream",
     "text": [
      "simplify 1 @ 1367: 0.05 seconds\n",
      "simplify 2 @ 274: 0.01 seconds\n",
      "volume_to_polydata: 0.16\n",
      "icp: 1.21\n"
     ]
    },
    {
     "name": "stdout",
     "output_type": "stream",
     "text": [
      "\n",
      "PBG"
     ]
    },
    {
     "name": "stderr",
     "output_type": "stream",
     "text": [
      "fill point array: 0.00 seconds\n",
      "fill cell array: 0.00 seconds\n",
      "fill point array: 0.00 seconds\n",
      "fill cell array: 0.00 seconds\n",
      "polydata_to_volume: 0.00\n",
      "polydata_to_volume: 0.00\n",
      "find common: 0.00\n",
      "marching cube: 0.00 seconds\n",
      "compute surface area: 0.00 seconds\n",
      "fill point array: 0.00 seconds\n",
      "fill cell array: 0.00 seconds\n",
      "mesh_to_polydata: 0.00 seconds\n",
      "simplify 0 @ 2311: 0.02 seconds\n",
      "simplify 1 @ 463: 0.01 seconds\n",
      "volume_to_polydata: 0.04\n",
      "icp: 0.84\n",
      "icp: 1.79\n",
      "icp: 1.38\n",
      "fill point array: 0.00 seconds\n",
      "fill cell array: 0.00 seconds\n",
      "fill point array: 0.00 seconds\n",
      "fill cell array: 0.00 seconds\n",
      "fill point array: 0.00 seconds\n",
      "fill cell array: 0.00 seconds\n",
      "fill point array: 0.00 seconds\n",
      "fill cell array: 0.00 seconds\n",
      "polydata_to_volume: 0.00\n",
      "polydata_to_volume: 0.00\n",
      "polydata_to_volume: 0.00\n",
      "polydata_to_volume: 0.00\n",
      "find common: 0.00\n",
      "marching cube: 0.02 seconds\n",
      "compute surface area: 0.00 seconds\n",
      "fill point array: 0.00 seconds\n",
      "fill cell array: 0.00 seconds\n",
      "mesh_to_polydata: 0.00 seconds\n",
      "simplify 0 @ 2130: 0.01 seconds\n",
      "simplify 1 @ 427: 0.01 seconds\n"
     ]
    },
    {
     "name": "stdout",
     "output_type": "stream",
     "text": [
      "\n",
      "LRt"
     ]
    },
    {
     "name": "stderr",
     "output_type": "stream",
     "text": [
      "volume_to_polydata: 0.05\n",
      "icp: 8.91\n",
      "icp: 6.45\n",
      "icp: 7.60\n",
      "fill point array: 0.00 seconds\n",
      "fill cell array: 0.00 seconds\n",
      "fill point array: 0.00 seconds\n",
      "fill cell array: 0.00 seconds\n",
      "fill point array: 0.00 seconds\n",
      "fill cell array: 0.00 seconds\n",
      "fill point array: 0.00 seconds\n",
      "fill cell array: 0.00 seconds\n",
      "polydata_to_volume: 0.00\n",
      "polydata_to_volume: 0.00\n",
      "polydata_to_volume: 0.00\n",
      "polydata_to_volume: 0.01\n",
      "find common: 0.00\n",
      "marching cube: 0.04 seconds\n",
      "compute surface area: 0.00 seconds\n",
      "fill point array: 0.01 seconds\n",
      "fill cell array: 0.00 seconds\n",
      "mesh_to_polydata: 0.01 seconds\n",
      "simplify 0 @ 10974: 0.08 seconds\n"
     ]
    },
    {
     "name": "stdout",
     "output_type": "stream",
     "text": [
      "\n",
      "IC"
     ]
    },
    {
     "name": "stderr",
     "output_type": "stream",
     "text": [
      "simplify 1 @ 2196: 0.08 seconds\n",
      "simplify 2 @ 440: 0.02 seconds\n",
      "volume_to_polydata: 0.22\n",
      "icp: 61.18\n",
      "fill point array: 0.00 seconds\n",
      "fill cell array: 0.00 seconds\n",
      "fill point array: 0.00 seconds\n",
      "fill cell array: 0.00 seconds\n",
      "polydata_to_volume: 0.06\n",
      "polydata_to_volume: 0.06\n",
      "find common: 0.05\n",
      "marching cube: 0.36 seconds\n",
      "compute surface area: 0.02 seconds\n",
      "fill point array: 0.08 seconds\n",
      "fill cell array: 0.00 seconds\n",
      "mesh_to_polydata: 0.09 seconds\n",
      "simplify 0 @ 59085: 0.62 seconds\n",
      "simplify 1 @ 11818: 0.57 seconds\n",
      "simplify 2 @ 2365: 0.11 seconds\n"
     ]
    },
    {
     "name": "stdout",
     "output_type": "stream",
     "text": [
      "\n",
      "LC"
     ]
    },
    {
     "name": "stderr",
     "output_type": "stream",
     "text": [
      "volume_to_polydata: 1.77\n",
      "icp: 1.65\n",
      "icp: 1.44\n",
      "icp: 1.28\n",
      "fill point array: 0.00 seconds\n",
      "fill cell array: 0.00 seconds\n",
      "fill point array: 0.00 seconds\n",
      "fill cell array: 0.00 seconds\n",
      "fill point array: 0.00 seconds\n",
      "fill cell array: 0.00 seconds\n",
      "fill point array: 0.00 seconds\n",
      "fill cell array: 0.00 seconds\n",
      "polydata_to_volume: 0.00\n",
      "polydata_to_volume: 0.00\n",
      "polydata_to_volume: 0.00\n",
      "polydata_to_volume: 0.00\n",
      "find common: 0.00\n",
      "marching cube: 0.01 seconds\n",
      "compute surface area: 0.00 seconds\n",
      "fill point array: 0.01 seconds\n",
      "fill cell array: 0.00 seconds\n",
      "mesh_to_polydata: 0.01 seconds\n",
      "simplify 0 @ 3640: 0.03 seconds\n"
     ]
    },
    {
     "name": "stdout",
     "output_type": "stream",
     "text": [
      "\n",
      "4N"
     ]
    },
    {
     "name": "stderr",
     "output_type": "stream",
     "text": [
      "simplify 1 @ 729: 0.02 seconds\n",
      "volume_to_polydata: 0.08\n",
      "icp: 0.79\n",
      "icp: 0.97\n",
      "icp: 0.79\n"
     ]
    },
    {
     "name": "stdout",
     "output_type": "stream",
     "text": [
      "\n",
      "SNC"
     ]
    },
    {
     "name": "stderr",
     "output_type": "stream",
     "text": [
      "fill point array: 0.00 seconds\n",
      "fill cell array: 0.00 seconds\n",
      "fill point array: 0.00 seconds\n",
      "fill cell array: 0.00 seconds\n",
      "fill point array: 0.00 seconds\n",
      "fill cell array: 0.00 seconds\n",
      "fill point array: 0.00 seconds\n",
      "fill cell array: 0.00 seconds\n",
      "polydata_to_volume: 0.00\n",
      "polydata_to_volume: 0.00\n",
      "polydata_to_volume: 0.00\n",
      "polydata_to_volume: 0.00\n",
      "find common: 0.00\n",
      "marching cube: 0.00 seconds\n",
      "compute surface area: 0.00 seconds\n",
      "fill point array: 0.00 seconds\n",
      "fill cell array: 0.00 seconds\n",
      "mesh_to_polydata: 0.00 seconds\n",
      "simplify 0 @ 353: 0.00 seconds\n",
      "volume_to_polydata: 0.01\n",
      "icp: 4.15\n",
      "icp: 4.53\n",
      "icp: 4.11\n",
      "fill point array: 0.00 seconds\n",
      "fill cell array: 0.00 seconds\n",
      "fill point array: 0.00 seconds\n",
      "fill cell array: 0.00 seconds\n",
      "fill point array: 0.00 seconds\n",
      "fill cell array: 0.00 seconds\n",
      "fill point array: 0.00 seconds\n",
      "fill cell array: 0.00 seconds\n",
      "polydata_to_volume: 0.00\n",
      "polydata_to_volume: 0.00\n",
      "polydata_to_volume: 0.00\n",
      "polydata_to_volume: 0.00\n",
      "find common: 0.01\n",
      "marching cube: 0.03 seconds\n",
      "compute surface area: 0.00 seconds\n",
      "fill point array: 0.01 seconds\n",
      "fill cell array: 0.00 seconds\n",
      "mesh_to_polydata: 0.01 seconds\n",
      "simplify 0 @ 7612: 0.04 seconds\n"
     ]
    },
    {
     "name": "stdout",
     "output_type": "stream",
     "text": [
      "\n",
      "6N"
     ]
    },
    {
     "name": "stderr",
     "output_type": "stream",
     "text": [
      "simplify 1 @ 1524: 0.05 seconds\n",
      "simplify 2 @ 306: 0.01 seconds\n",
      "volume_to_polydata: 0.15\n",
      "icp: 1.05\n",
      "icp: 1.47\n",
      "icp: 1.48\n"
     ]
    },
    {
     "name": "stdout",
     "output_type": "stream",
     "text": [
      "\n",
      "SNR"
     ]
    },
    {
     "name": "stderr",
     "output_type": "stream",
     "text": [
      "fill point array: 0.00 seconds\n",
      "fill cell array: 0.00 seconds\n",
      "fill point array: 0.00 seconds\n",
      "fill cell array: 0.00 seconds\n",
      "fill point array: 0.00 seconds\n",
      "fill cell array: 0.00 seconds\n",
      "fill point array: 0.00 seconds\n",
      "fill cell array: 0.00 seconds\n",
      "polydata_to_volume: 0.00\n",
      "polydata_to_volume: 0.00\n",
      "polydata_to_volume: 0.00\n",
      "polydata_to_volume: 0.00\n",
      "find common: 0.00\n",
      "marching cube: 0.00 seconds\n",
      "compute surface area: 0.00 seconds\n",
      "fill point array: 0.00 seconds\n",
      "fill cell array: 0.00 seconds\n",
      "mesh_to_polydata: 0.00 seconds\n",
      "simplify 0 @ 683: 0.01 seconds\n",
      "volume_to_polydata: 0.01\n",
      "icp: 17.55\n",
      "icp: 22.01\n",
      "icp: 20.07\n",
      "fill point array: 0.00 seconds\n",
      "fill cell array: 0.00 seconds\n",
      "fill point array: 0.00 seconds\n",
      "fill cell array: 0.00 seconds\n",
      "fill point array: 0.00 seconds\n",
      "fill cell array: 0.00 seconds\n",
      "fill point array: 0.00 seconds\n",
      "fill cell array: 0.00 seconds\n",
      "polydata_to_volume: 0.01\n",
      "polydata_to_volume: 0.01\n",
      "polydata_to_volume: 0.02\n",
      "polydata_to_volume: 0.02\n",
      "find common: 0.02\n",
      "marching cube: 0.13 seconds\n",
      "compute surface area: 0.01 seconds\n",
      "fill point array: 0.03 seconds\n",
      "fill cell array: 0.00 seconds\n",
      "mesh_to_polydata: 0.04 seconds\n",
      "simplify 0 @ 28560: 0.19 seconds\n"
     ]
    },
    {
     "name": "stdout",
     "output_type": "stream",
     "text": [
      "\n",
      "SC"
     ]
    },
    {
     "name": "stderr",
     "output_type": "stream",
     "text": [
      "simplify 1 @ 5713: 0.24 seconds\n",
      "simplify 2 @ 1144: 0.05 seconds\n",
      "volume_to_polydata: 0.65\n",
      "icp: 134.12\n",
      "fill point array: 0.01 seconds\n",
      "fill cell array: 0.00 seconds\n",
      "fill point array: 0.01 seconds\n",
      "fill cell array: 0.00 seconds\n",
      "polydata_to_volume: 0.09\n",
      "polydata_to_volume: 0.10\n",
      "find common: 0.09\n",
      "marching cube: 0.63 seconds\n",
      "compute surface area: 0.02 seconds\n",
      "fill point array: 0.12 seconds\n",
      "fill cell array: 0.00 seconds\n",
      "mesh_to_polydata: 0.12 seconds\n",
      "simplify 0 @ 96444: 0.86 seconds\n",
      "simplify 1 @ 19290: 0.96 seconds\n",
      "simplify 2 @ 3859: 0.19 seconds\n"
     ]
    },
    {
     "name": "stdout",
     "output_type": "stream",
     "text": [
      "\n",
      "RtTg"
     ]
    },
    {
     "name": "stderr",
     "output_type": "stream",
     "text": [
      "volume_to_polydata: 2.81\n",
      "icp: 26.05\n",
      "fill point array: 0.00 seconds\n",
      "fill cell array: 0.00 seconds\n",
      "fill point array: 0.00 seconds\n",
      "fill cell array: 0.00 seconds\n",
      "polydata_to_volume: 0.01\n",
      "polydata_to_volume: 0.02\n",
      "find common: 0.01\n",
      "marching cube: 0.12 seconds\n",
      "compute surface area: 0.01 seconds\n",
      "fill point array: 0.03 seconds\n",
      "fill cell array: 0.00 seconds\n",
      "mesh_to_polydata: 0.03 seconds\n",
      "simplify 0 @ 21188: 0.19 seconds\n"
     ]
    },
    {
     "name": "stdout",
     "output_type": "stream",
     "text": [
      "\n"
     ]
    },
    {
     "name": "stderr",
     "output_type": "stream",
     "text": [
      "simplify 1 @ 4241: 0.17 seconds\n",
      "simplify 2 @ 851: 0.03 seconds\n",
      "volume_to_polydata: 0.56\n"
     ]
    }
   ],
   "source": [
    "for name_u in all_names:\n",
    "\n",
    "    print name_u\n",
    "    \n",
    "    vertices_list = []\n",
    "    faces_list = []\n",
    "    \n",
    "    if name_u in singular_structures:\n",
    "        \n",
    "        fn = os.path.join(mesh_rootdir, stack_fixed, \"%(stack)s_down32_annotationVolume_%(name)s_smoothed.stl\" % \\\n",
    "                              {'stack': stack_fixed, 'name': name_u})\n",
    "\n",
    "        vertices, faces = load_mesh_stl(fn)\n",
    "\n",
    "        vertices_mirrored = vertices.copy()\n",
    "        zmean = vertices[:,2].mean(axis=0)\n",
    "        vertices_mirrored[:, 2] = - (vertices[:, 2] - zmean) + zmean # mirror L to align with R, keep zmin        \n",
    "\n",
    "        vertices_list.append(vertices)\n",
    "        faces_list.append(faces)\n",
    "\n",
    "        vertices_list.append(vertices_mirrored)\n",
    "        faces_list.append(faces)\n",
    "        \n",
    "        centroid = vertices.mean(axis=0)\n",
    "        centroid_allLandmarks[name_u].append(centroid)\n",
    "\n",
    "        centroid_anchor = centroid.copy()\n",
    "        \n",
    "    \n",
    "    else:\n",
    "    \n",
    "        lname = convert_to_left_name(name_u)\n",
    "        rname = convert_to_right_name(name_u)\n",
    "\n",
    "        if lname in name_to_label_f:\n",
    "\n",
    "            ############## Left #############\n",
    "\n",
    "            fn = os.path.join(mesh_rootdir, stack_fixed, \"%(stack)s_down32_annotationVolume_%(name)s_smoothed.stl\" % \\\n",
    "                              {'stack': stack_fixed, 'name': lname})\n",
    "\n",
    "            vertices, faces = load_mesh_stl(fn)\n",
    "\n",
    "            zmean = vertices[:,2].mean(axis=0)\n",
    "            vertices[:, 2] = - (vertices[:, 2] - zmean) + zmean # mirror L to align with R, keep zmin\n",
    "\n",
    "            vertices_list.append(vertices)\n",
    "            faces_list.append(faces)\n",
    "\n",
    "            centroid = vertices.mean(axis=0)\n",
    "            centroid_allLandmarks[lname].append(centroid)\n",
    "\n",
    "            centroid_anchor = centroid.copy()\n",
    "\n",
    "\n",
    "        if rname in name_to_label_f:\n",
    "\n",
    "            ################# Right ##############  \n",
    "\n",
    "\n",
    "            fn = os.path.join(mesh_rootdir, stack_fixed, \"%(stack)s_down32_annotationVolume_%(name)s_smoothed.stl\" % \\\n",
    "                              {'stack': stack_fixed, 'name': rname})\n",
    "\n",
    "            vertices, faces = load_mesh_stl(fn)\n",
    "\n",
    "            vertices_list.append(vertices)\n",
    "            faces_list.append(faces)\n",
    "\n",
    "            centroid = vertices.mean(axis=0)\n",
    "            centroid_allLandmarks[rname].append(centroid)\n",
    "\n",
    "\n",
    "        if lname in name_to_label_m:\n",
    "\n",
    "            fn = os.path.join(m_alignedTo_f_meshes_dir, \n",
    "                          \"%(stack_moving)s_down32_annotationVolume_alignedTo_%(stack_fixed)s_down32_annotationVolume_%(name)s_smoothed.stl\" %\\\n",
    "                          {'stack_moving': stack_moving, 'stack_fixed': stack_fixed, 'name': lname})\n",
    "\n",
    "            vertices, faces = load_mesh_stl(fn)\n",
    "\n",
    "            zmean = vertices[:,2].mean(axis=0)\n",
    "            vertices[:, 2] = - (vertices[:, 2] - zmean) + zmean # mirror L to align with R, keep zmin\n",
    "\n",
    "            vertices_list.append(vertices)\n",
    "            faces_list.append(faces)\n",
    "\n",
    "\n",
    "            centroid = vertices.mean(axis=0)\n",
    "            centroid_allLandmarks[lname].append(centroid)\n",
    "\n",
    "        if rname in name_to_label_m:\n",
    "\n",
    "            fn = os.path.join(m_alignedTo_f_meshes_dir, \n",
    "                          \"%(stack_moving)s_down32_annotationVolume_alignedTo_%(stack_fixed)s_down32_annotationVolume_%(name)s_smoothed.stl\" %\\\n",
    "                          {'stack_moving': stack_moving, 'stack_fixed': stack_fixed, 'name': rname})\n",
    "            vertices, faces = load_mesh_stl(fn)\n",
    "\n",
    "            vertices_list.append(vertices)\n",
    "            faces_list.append(faces)\n",
    "\n",
    "            centroid = vertices.mean(axis=0)\n",
    "            centroid_allLandmarks[rname].append(centroid)\n",
    "        \n",
    "        \n",
    "    ##############################\n",
    "    \n",
    "    vertices_aligned_list = [] # all meshes in this list have vertices centered at (0,0)\n",
    "\n",
    "    for i, vertices in enumerate(vertices_list):\n",
    "\n",
    "        if i == 0:\n",
    "            vertices1 = vertices.copy()\n",
    "            vertices_aligned_list.append(vertices1 - vertices1.mean(axis=0))\n",
    "        else:            \n",
    "            t = time.time()                    \n",
    "            vertices_alignedTo1 = icp(fixed_pts=vertices1, moving_pts=vertices, num_iter=100, rotation_only=True)\n",
    "            sys.stderr.write('icp: %.2f\\n' % (time.time() - t))\n",
    "\n",
    "            vertices_aligned_list.append(vertices_alignedTo1 - vertices_alignedTo1.mean(axis=0))\n",
    "\n",
    "    ################################\n",
    "    \n",
    "    polydata_list = [mesh_to_polydata(vs, fs) for vs, fs in zip(vertices_aligned_list, faces_list)]\n",
    "    \n",
    "    polydata_list_allLandmarks[name_u] = polydata_list\n",
    "        \n",
    "    average_volume, average_volume_origin, average_polydata = average_shape(polydata_list, num_simplify_iter=3, smooth=True)\n",
    "    # these all have centroid at (0,0,0)\n",
    "    \n",
    "    average_polydata_allLandmarks[name_u] = average_polydata\n",
    "    average_volume_allLandmarks[name_u] = average_volume\n",
    "    average_volume_origin_allLandmarks[name_u] = average_volume_origin\n",
    "    \n",
    "    \n",
    "#     instance_actors = [actor_mesh(polydata, np.random.randint(0,255,3)/255., opacity=.5, wireframe=True) \n",
    "#                    for polydata in polydata_list_allLandmarks[name_u]]\n",
    "\n",
    "#     average_mesh_actor = actor_mesh(average_polydata_allLandmarks[name_u], (1,1,1), opacity=.5, wireframe=True)\n",
    "#     launch_vtk(instance_actors + [average_mesh_actor])\n",
    "    \n",
    "#     average_volume_actor = actor_volume(average_volume.astype(np.float32), \n",
    "#                                         what='probability', origin=average_volume_origin)\n",
    "#     launch_vtk(instance_actors + [average_volume_actor])"
   ]
  },
  {
   "cell_type": "code",
   "execution_count": 46,
   "metadata": {
    "collapsed": false
   },
   "outputs": [],
   "source": [
    "for i, polydata in enumerate(polydata_list_allLandmarks['7N']):\n",
    "    instance_actors = actor_mesh(polydata, [(1,0,0),(0,1,0),(0,0,1),(1,1,0)][i], opacity=1, wireframe=False)\n",
    "    launch_vtk([instance_actors], snapshot_fn='/home/yuncong/7N_%d.png' % i, interactive=True, init_angle='coronal')"
   ]
  },
  {
   "cell_type": "code",
   "execution_count": 44,
   "metadata": {
    "collapsed": false
   },
   "outputs": [],
   "source": [
    "instance_actors = [actor_mesh(polydata, [(1,0,0),(0,1,0),(0,0,1),(1,1,0)][i], opacity=.5, wireframe=True) \n",
    "                   for i, polydata in enumerate(polydata_list_allLandmarks['7N'])]\n",
    "launch_vtk(instance_actors, snapshot_fn='/home/yuncong/7N_aligned.png', interactive=False, init_angle='coronal')"
   ]
  },
  {
   "cell_type": "code",
   "execution_count": 45,
   "metadata": {
    "collapsed": false
   },
   "outputs": [],
   "source": [
    "average_volume_actor = actor_volume(average_volume_allLandmarks['7N'].astype(np.float32), \n",
    "                                        what='probability', origin=average_volume_origin_allLandmarks['7N'])\n",
    "launch_vtk([average_volume_actor], snapshot_fn='/home/yuncong/7N_prob.png', interactive=False, init_angle='coronal')"
   ]
  },
  {
   "cell_type": "code",
   "execution_count": 49,
   "metadata": {
    "collapsed": false
   },
   "outputs": [],
   "source": [
    "actor = actor_mesh(average_polydata_allLandmarks['7N'], [1,1,1], opacity=.5, wireframe=True)\n",
    "launch_vtk([actor], snapshot_fn='/home/yuncong/7N_thresholded.png', interactive=False, init_angle='coronal')"
   ]
  },
  {
   "cell_type": "code",
   "execution_count": 50,
   "metadata": {
    "collapsed": false
   },
   "outputs": [
    {
     "name": "stdout",
     "output_type": "stream",
     "text": [
      "[ 0.03550233 -0.09604324  0.99474382] @ [ 796.99383545  373.38763428  308.71014404]\n"
     ]
    }
   ],
   "source": [
    "canonical_locations, canonical_centroid, canonical_normal = average_location(centroid_allLandmarks)"
   ]
  },
  {
   "cell_type": "code",
   "execution_count": 51,
   "metadata": {
    "collapsed": false,
    "scrolled": true
   },
   "outputs": [
    {
     "name": "stderr",
     "output_type": "stream",
     "text": [
      "fill point array: 0.00 seconds\n",
      "fill cell array: 0.00 seconds\n",
      "fill point array: 0.00 seconds\n",
      "fill cell array: 0.00 seconds\n",
      "fill point array: 0.00 seconds\n",
      "fill cell array: 0.00 seconds\n",
      "fill point array: 0.00 seconds\n",
      "fill cell array: 0.00 seconds\n",
      "fill point array: 0.00 seconds\n",
      "fill cell array: 0.00 seconds\n",
      "fill point array: 0.00 seconds\n",
      "fill cell array: 0.00 seconds\n",
      "fill point array: 0.00 seconds\n",
      "fill cell array: 0.00 seconds\n",
      "fill point array: 0.00 seconds\n",
      "fill cell array: 0.00 seconds\n",
      "fill point array: 0.00 seconds\n",
      "fill cell array: 0.00 seconds\n",
      "fill point array: 0.00 seconds\n",
      "fill cell array: 0.00 seconds\n",
      "fill point array: 0.00 seconds\n",
      "fill cell array: 0.00 seconds\n",
      "fill point array: 0.00 seconds\n",
      "fill cell array: 0.00 seconds\n",
      "fill point array: 0.00 seconds\n",
      "fill cell array: 0.00 seconds\n",
      "fill point array: 0.00 seconds\n",
      "fill cell array: 0.00 seconds\n",
      "fill point array: 0.00 seconds\n",
      "fill cell array: 0.00 seconds\n",
      "fill point array: 0.00 seconds\n",
      "fill cell array: 0.00 seconds\n",
      "fill point array: 0.00 seconds\n",
      "fill cell array: 0.00 seconds\n",
      "fill point array: 0.00 seconds\n",
      "fill cell array: 0.00 seconds\n",
      "fill point array: 0.00 seconds\n",
      "fill cell array: 0.00 seconds\n",
      "fill point array: 0.00 seconds\n",
      "fill cell array: 0.00 seconds\n",
      "fill point array: 0.00 seconds\n",
      "fill cell array: 0.00 seconds\n",
      "fill point array: 0.00 seconds\n",
      "fill cell array: 0.00 seconds\n",
      "fill point array: 0.00 seconds\n",
      "fill cell array: 0.00 seconds\n",
      "fill point array: 0.00 seconds\n",
      "fill cell array: 0.00 seconds\n",
      "fill point array: 0.00 seconds\n",
      "fill cell array: 0.00 seconds\n",
      "fill point array: 0.00 seconds\n",
      "fill cell array: 0.00 seconds\n",
      "fill point array: 0.00 seconds\n",
      "fill cell array: 0.00 seconds\n",
      "fill point array: 0.00 seconds\n",
      "fill cell array: 0.00 seconds\n",
      "fill point array: 0.00 seconds\n",
      "fill cell array: 0.00 seconds\n",
      "fill point array: 0.00 seconds\n",
      "fill cell array: 0.00 seconds\n",
      "fill point array: 0.00 seconds\n",
      "fill cell array: 0.00 seconds\n",
      "fill point array: 0.00 seconds\n",
      "fill cell array: 0.00 seconds\n",
      "fill point array: 0.00 seconds\n",
      "fill cell array: 0.00 seconds\n",
      "fill point array: 0.00 seconds\n",
      "fill cell array: 0.00 seconds\n",
      "fill point array: 0.00 seconds\n",
      "fill cell array: 0.00 seconds\n",
      "fill point array: 0.00 seconds\n",
      "fill cell array: 0.00 seconds\n",
      "fill point array: 0.00 seconds\n",
      "fill cell array: 0.00 seconds\n",
      "fill point array: 0.00 seconds\n",
      "fill cell array: 0.00 seconds\n",
      "fill point array: 0.00 seconds\n",
      "fill cell array: 0.00 seconds\n",
      "fill point array: 0.00 seconds\n",
      "fill cell array: 0.00 seconds\n",
      "fill point array: 0.00 seconds\n",
      "fill cell array: 0.00 seconds\n",
      "fill point array: 0.00 seconds\n",
      "fill cell array: 0.00 seconds\n",
      "fill point array: 0.00 seconds\n",
      "fill cell array: 0.00 seconds\n",
      "fill point array: 0.00 seconds\n",
      "fill cell array: 0.00 seconds\n",
      "fill point array: 0.00 seconds\n",
      "fill cell array: 0.00 seconds\n",
      "fill point array: 0.00 seconds\n",
      "fill cell array: 0.00 seconds\n",
      "fill point array: 0.00 seconds\n",
      "fill cell array: 0.00 seconds\n",
      "fill point array: 0.00 seconds\n",
      "fill cell array: 0.00 seconds\n",
      "fill point array: 0.00 seconds\n",
      "fill cell array: 0.00 seconds\n",
      "fill point array: 0.00 seconds\n",
      "fill cell array: 0.00 seconds\n",
      "fill point array: 0.00 seconds\n",
      "fill cell array: 0.00 seconds\n"
     ]
    }
   ],
   "source": [
    "for name_u in all_names:\n",
    "    \n",
    "    if name_u in singular_structures:\n",
    "        centroid = canonical_locations[name_u]\n",
    "\n",
    "        average_volume = average_volume_allLandmarks[name_u]\n",
    "        average_volume_origin = average_volume_origin_allLandmarks[name_u]\n",
    "        average_polydata = average_polydata_allLandmarks[name_u]\n",
    "\n",
    "        atlas_space_structure_volumes[name_u] = (average_volume, \n",
    "                                            centroid + average_volume_origin)\n",
    "        \n",
    "        vs, fs = polydata_to_mesh(average_polydata)\n",
    "        atlas_space_structure_meshes[name_u] = mesh_to_polydata(vs + centroid, fs)\n",
    "        \n",
    "    else:\n",
    "    \n",
    "        lname = convert_to_left_name(name_u)\n",
    "        rname = convert_to_right_name(name_u)\n",
    "\n",
    "        centroid_r = canonical_locations[rname]\n",
    "        centroid_l = canonical_locations[lname]\n",
    "\n",
    "        average_volume = average_volume_allLandmarks[name_u]\n",
    "        average_volume_origin = average_volume_origin_allLandmarks[name_u]\n",
    "        average_polydata = average_polydata_allLandmarks[name_u]\n",
    "\n",
    "        atlas_space_structure_volumes[rname] = (average_volume, \n",
    "                                            centroid_r + average_volume_origin)\n",
    "        atlas_space_structure_volumes[lname] = mirror_volume(average_volume, \n",
    "                                             centroid_l + average_volume_origin*(1,1,-1))\n",
    "\n",
    "        vs, fs = polydata_to_mesh(average_polydata)\n",
    "        atlas_space_structure_meshes[rname] = mesh_to_polydata(vs + centroid_r, fs)\n",
    "        atlas_space_structure_meshes[lname] = mesh_to_polydata(vs*(1,1,-1) + centroid_l, fs)"
   ]
  },
  {
   "cell_type": "code",
   "execution_count": 52,
   "metadata": {
    "collapsed": false
   },
   "outputs": [],
   "source": [
    "all_atlas_structure_volume_actors = []\n",
    "\n",
    "for name_u in all_names:\n",
    "    \n",
    "    if name_u in singular_structures:\n",
    "\n",
    "        volume, origin = atlas_space_structure_volumes[name_u]\n",
    "        structure_volume_actor = actor_volume(volume.astype(np.float32), what='probability', origin=origin, c=colors[name_u])\n",
    "\n",
    "        all_atlas_structure_volume_actors.append(structure_volume_actor)\n",
    "\n",
    "    else:\n",
    "    \n",
    "        lname = convert_to_left_name(name_u)\n",
    "        volume, origin = atlas_space_structure_volumes[lname]\n",
    "        structure_volume_actor = actor_volume(volume.astype(np.float32), what='probability', origin=origin, c=colors[name_u])\n",
    "\n",
    "        all_atlas_structure_volume_actors.append(structure_volume_actor)\n",
    "\n",
    "        rname = convert_to_right_name(name_u)\n",
    "        volume, origin = atlas_space_structure_volumes[rname]\n",
    "        structure_volume_actor = actor_volume(volume.astype(np.float32), what='probability', origin=origin, c=colors[name_u])\n",
    "\n",
    "        all_atlas_structure_volume_actors.append(structure_volume_actor)"
   ]
  },
  {
   "cell_type": "code",
   "execution_count": 53,
   "metadata": {
    "collapsed": false
   },
   "outputs": [],
   "source": [
    "launch_vtk(all_atlas_structure_volume_actors, init_angle='sagittal', background_color=(0,0,0))"
   ]
  },
  {
   "cell_type": "code",
   "execution_count": 54,
   "metadata": {
    "collapsed": false
   },
   "outputs": [],
   "source": [
    "for name_s, p in atlas_space_structure_meshes.iteritems():\n",
    "    save_mesh_stl(p, os.path.join(mesh_rootdir, 'atlas', '%s.stl'%name_s))"
   ]
  },
  {
   "cell_type": "code",
   "execution_count": 55,
   "metadata": {
    "collapsed": false
   },
   "outputs": [],
   "source": [
    "all_atlas_structure_mesh_actors = []\n",
    "\n",
    "for name_u in all_names:\n",
    "    \n",
    "    if name_u in singular_structures:\n",
    "        \n",
    "        structure_mesh_actor = actor_mesh(atlas_space_structure_meshes[name_u], color=colors[name_u])\n",
    "        all_atlas_structure_mesh_actors.append(structure_mesh_actor)\n",
    "        \n",
    "    else:\n",
    "    \n",
    "        lname = convert_to_left_name(name_u)\n",
    "        structure_mesh_actor = actor_mesh(atlas_space_structure_meshes[lname], color=colors[name_u])\n",
    "        all_atlas_structure_mesh_actors.append(structure_mesh_actor)\n",
    "\n",
    "        rname = convert_to_right_name(name_u)\n",
    "        structure_mesh_actor = actor_mesh(atlas_space_structure_meshes[rname], color=colors[name_u])\n",
    "        all_atlas_structure_mesh_actors.append(structure_mesh_actor)"
   ]
  },
  {
   "cell_type": "code",
   "execution_count": 56,
   "metadata": {
    "collapsed": true
   },
   "outputs": [],
   "source": [
    "def move_polydata(polydata, d):\n",
    "    vs, fs = polydata_to_mesh(polydata)\n",
    "    return mesh_to_polydata(vs + d, fs)"
   ]
  },
  {
   "cell_type": "code",
   "execution_count": 57,
   "metadata": {
    "collapsed": true
   },
   "outputs": [],
   "source": [
    "launch_vtk(all_atlas_structure_mesh_actors, init_angle='sagittal')"
   ]
  },
  {
   "cell_type": "code",
   "execution_count": null,
   "metadata": {
    "collapsed": true
   },
   "outputs": [],
   "source": [
    "launch_vtk(all_atlas_structure_mesh_actors + all_atlas_structure_volume_actors, init_angle='sagittal')"
   ]
  },
  {
   "cell_type": "code",
   "execution_count": 58,
   "metadata": {
    "collapsed": false
   },
   "outputs": [
    {
     "name": "stderr",
     "output_type": "stream",
     "text": [
      "fill point array: 0.05 seconds\n",
      "fill cell array: 0.00 seconds\n"
     ]
    }
   ],
   "source": [
    "fn = os.path.join(mesh_rootdir, stack_fixed, \"%(stack)s_down32_outerContourVolume_smoothed.stl\" % {'stack': stack_fixed})\n",
    "\n",
    "reader = vtk.vtkSTLReader()\n",
    "reader.SetFileName(fn)\n",
    "reader.Update()\n",
    "\n",
    "outerContour_polydata = reader.GetOutput()\n",
    "\n",
    "outerContour_polydata = move_polydata(outerContour_polydata, -canonical_centroid)\n",
    "\n",
    "outerContour_actor = actor_mesh(outerContour_polydata, (1,1,1), opacity=.5, wireframe=False)"
   ]
  },
  {
   "cell_type": "code",
   "execution_count": null,
   "metadata": {
    "collapsed": true
   },
   "outputs": [],
   "source": [
    "launch_vtk(all_atlas_structure_mesh_actors + [outerContour_actor], init_angle='sagittal')"
   ]
  },
  {
   "cell_type": "code",
   "execution_count": null,
   "metadata": {
    "collapsed": true
   },
   "outputs": [],
   "source": []
  },
  {
   "cell_type": "code",
   "execution_count": null,
   "metadata": {
    "collapsed": true
   },
   "outputs": [],
   "source": [
    "launch_vtk(all_atlas_structure_volume_actors + [outerContour_actor], init_angle='sagittal')"
   ]
  },
  {
   "cell_type": "code",
   "execution_count": null,
   "metadata": {
    "collapsed": true
   },
   "outputs": [],
   "source": [
    "# from collections import defaultdict\n",
    "# centroid_allLandmarks = defaultdict(list)\n",
    "# average_polydata_allLandmarks = {}\n",
    "# polydata_list_allLandmarks = {}\n",
    "# average_volume_allLandmarks = {}\n",
    "\n",
    "# # for name_unsided in labels_unsided:\n",
    "# # # for name_unsided in ['outerContour']:\n",
    "# # # for name_unsided in ['Pn']:\n",
    "    \n",
    "# #     if name_unsided == 'outerContour' or name_unsided == 'sp5':\n",
    "# #         continue\n",
    "        \n",
    "# #     names = labelMap_unsidedToSided[name_unsided]\n",
    "# #     print name_unsided, names\n",
    "\n",
    "# for name in names:\n",
    "    \n",
    "#     vertices_list = []\n",
    "#     faces_list = []\n",
    "    \n",
    "#     for stack in ['MD589', 'MD594']:\n",
    "# #     for stack in ['MD594']:\n",
    "\n",
    "#         if len(names) == 2:\n",
    "        \n",
    "#             for name_sided in names:\n",
    "\n",
    "#                 fn = \"/home/yuncong/CSHL_meshes/%(stack)s/%(stack)s_%(label)s_gaussianSmoothed.stl\" % {'stack':stack, 'label':name_sided}\n",
    "               \n",
    "#                 if os.path.exists(fn):\n",
    "#                     vertices, faces = load_mesh_stl(fn)\n",
    "#                 else:\n",
    "#                     continue\n",
    "            \n",
    "#                 if '_L' in name_sided:\n",
    "#                     zmean = vertices[:,2].mean(axis=0)\n",
    "#                     vertices[:, 2] = - (vertices[:, 2] - zmean) + zmean # mirror L to align with R, keep zmin        \n",
    "\n",
    "#                 if stack == 'MD594':\n",
    "#                     vertices_alignedToScoreVolume = vertices + (ann_xmin,ann_ymin,ann_zmin) - (sco_xmin,sco_ymin,sco_zmin)\n",
    "#                     vertices = transform_points_inverse(global_params, pts_prime=vertices_alignedToScoreVolume, \n",
    "#                                                                        c_prime=test_centroid, c=atlas_centroid)\n",
    "                    \n",
    "#                 vertices_list.append(vertices)    \n",
    "#                 faces_list.append(faces)\n",
    "                \n",
    "#                 centroid_prime = vertices.mean(axis=0)\n",
    "\n",
    "#                 if stack == 'MD594':\n",
    "\n",
    "#                     centroid_prime_alignedToScoreVolume = centroid_prime + (ann_xmin,ann_ymin,ann_zmin) - (sco_xmin,sco_ymin,sco_zmin)\n",
    "#                     centroid_prime_alignedToAtlas = transform_points_inverse(global_params, pts_prime=[centroid_prime_alignedToScoreVolume], \n",
    "#                                                                        c_prime=test_centroid, c=atlas_centroid)[0]\n",
    "#                     centroid_allLandmarks[name_sided].append(centroid_prime_alignedToAtlas)\n",
    "#                 else:\n",
    "#                     centroid_allLandmarks[name_sided].append(centroid_prime)\n",
    "        \n",
    "#         elif len(names) == 1:\n",
    "            \n",
    "#             name_sided = names[0]\n",
    "            \n",
    "#             fn = \"/home/yuncong/CSHL_meshes/%(stack)s/%(stack)s_%(label)s_gaussianSmoothed.stl\" % {'stack':stack, 'label':name_sided}\n",
    "            \n",
    "#             if os.path.exists(fn):\n",
    "#                 vertices, faces = load_mesh_stl(fn)\n",
    "#             else:\n",
    "#                 continue\n",
    "\n",
    "#             vertices_mirrored = vertices.copy()    \n",
    "#             zmean = vertices[:,2].mean(axis=0)\n",
    "#             vertices_mirrored[:, 2] = - (vertices[:, 2] - zmean) + zmean # mirror L to align with R, keep zmin        \n",
    "            \n",
    "#             t = time.time()\n",
    "            \n",
    "#             if name_unsided == 'sp5' or name_unsided == 'outerContour':\n",
    "# #                 _, symmetric_poly = average_shape([mesh_to_polydata(vertices, faces), mesh_to_polydata(vertices_mirrored, faces)],\n",
    "# #                                               num_simplify_iter=5, smooth=True)\n",
    "#                 symmetric_poly = mesh_to_polydata(vertices, faces)\n",
    "#             else:\n",
    "#                 _, symmetric_poly = average_shape([mesh_to_polydata(vertices, faces), mesh_to_polydata(vertices_mirrored, faces)],\n",
    "#                                               num_simplify_iter=3, smooth=True)\n",
    "                \n",
    "#             # must simplify so the ICP later can be fast\n",
    "#             # must also smooth, because otherwise the number of points gets stuck\n",
    "            \n",
    "#             sys.stderr.write('average shape: %.2f\\n' % (time.time() - t))\n",
    "#             # cost mostly comes from :\n",
    "#             # - marching cube\n",
    "#             # - first two rounds of decimation and smoothing\n",
    "\n",
    "#             symmetric_vertices, symmetric_faces = polydata_to_mesh(symmetric_poly)\n",
    "         \n",
    "#             if stack == 'MD594':\n",
    "#                 vertices_alignedToScoreVolume = symmetric_vertices + (ann_xmin,ann_ymin,ann_zmin) - (sco_xmin,sco_ymin,sco_zmin)\n",
    "#                 symmetric_vertices = transform_points_inverse(global_params, pts_prime=vertices_alignedToScoreVolume, \n",
    "#                                                                    c_prime=test_centroid, c=atlas_centroid)\n",
    "        \n",
    "#             vertices_list.append(symmetric_vertices)\n",
    "#             faces_list.append(symmetric_faces)\n",
    "            \n",
    "#             centroid_prime = symmetric_vertices.mean(axis=0)\n",
    "\n",
    "#             if stack == 'MD594':\n",
    "\n",
    "#                 centroid_prime_alignedToScoreVolume = centroid_prime + (ann_xmin,ann_ymin,ann_zmin) - (sco_xmin,sco_ymin,sco_zmin)\n",
    "#                 centroid_prime_alignedToAtlas = transform_points_inverse(global_params, pts_prime=[centroid_prime_alignedToScoreVolume], \n",
    "#                                                                    c_prime=test_centroid, c=atlas_centroid)[0]\n",
    "#                 centroid_allLandmarks[name_sided].append(centroid_prime_alignedToAtlas)\n",
    "#             else:\n",
    "#                 centroid_allLandmarks[name_sided].append(centroid_prime)\n",
    "    \n",
    "#     ###### Align meshes ######\n",
    "    \n",
    "#     vertices_aligned_list = []\n",
    "\n",
    "#     for i, vertices in enumerate(vertices_list):\n",
    "\n",
    "# #         if i == 0:\n",
    "# #             vertices1 = vertices.copy()\n",
    "# #             vol_fixed, origin_fixed, _ = polydata_to_volume(mesh_to_polydata(vertices, faces_list[0]))\n",
    "# #             vertices_aligned_list.append(vertices1)\n",
    "# #         else:            \n",
    "# #             t = time.time()\n",
    "# #             vol_moving, origin_moving, _ = polydata_to_volume(mesh_to_polydata(vertices, faces_list[i]))\n",
    "# #             T, c_fixed, c_moving = optimize_rigid_lieGroup(vol_fixed, vol_moving)\n",
    "# #             vertices_alignedTo1 = transform_points(T, vertices-origin_moving, c=c_moving, c_prime=c_fixed) + origin_fixed            \n",
    "# #             sys.stderr.write('align: %.2f\\n' % (time.time() - t))\n",
    "\n",
    "# #             vertices_aligned_list.append(vertices_alignedTo1)\n",
    "                \n",
    "#         if i == 0:\n",
    "#             vertices1 = vertices.copy()\n",
    "#             vertices_aligned_list.append(vertices1)\n",
    "#         else:            \n",
    "#             t = time.time()                    \n",
    "#             vertices_alignedTo1 = icp(fixed_pts=vertices1, moving_pts=vertices, num_iter=100)\n",
    "#             sys.stderr.write('icp: %.2f\\n' % (time.time() - t))\n",
    "\n",
    "#             vertices_aligned_list.append(vertices_alignedTo1)\n",
    "    \n",
    "#     polydata_list = [mesh_to_polydata(vs, fs) for vs, fs in zip(vertices_aligned_list, faces_list)]\n",
    "            \n",
    "#     # if landmark has only one instance, add its mirrored version\n",
    "#     if len(names) == 1:\n",
    "#         for vs, fs in zip(vertices_aligned_list, faces_list):\n",
    "#             zmean = vs[:,2].mean(axis=0)\n",
    "#             vs_mirrored = vs.copy()\n",
    "#             vs_mirrored[:, 2] = - (vs[:, 2] - zmean) + zmean # mirror L to align with R, keep zmin        \n",
    "#             polydata_list.append(mesh_to_polydata(vs_mirrored, fs))\n",
    "\n",
    "#     polydata_list_allLandmarks[name_unsided] = polydata_list\n",
    "    \n",
    "# #     ######### Compute Average #########\n",
    "#     t = time.time()\n",
    "\n",
    "#     if name_unsided == 'outerContour' or name_unsided == 'sp5':\n",
    "#         # since alignment is not ideal, just use MD589's outerContour for now\n",
    "# #         average_volume, average_polydata = average_shape([polydata_list[0],polydata_list[2]], num_simplify_iter=5, smooth=True, concensus_percentage=0.9)\n",
    "# #         average_volume, average_polydata = average_shape([polydata_list[0],polydata_list[0]], num_simplify_iter=5, smooth=False, concensus_percentage=0.9)\n",
    "#         average_volume = None\n",
    "#         average_polydata = polydata_list[2]\n",
    "#     elif len(names) == 1:\n",
    "#         average_volume, average_polydata = average_shape(polydata_list, num_simplify_iter=3, smooth=True, concensus_percentage=0.9)\n",
    "#     else:\n",
    "#         average_volume, average_polydata = average_shape(polydata_list, num_simplify_iter=3, smooth=True)\n",
    "    \n",
    "#     sys.stderr.write('average shape: %.2f\\n' % (time.time() - t))\n",
    "\n",
    "#     average_polydata_allLandmarks[name_unsided] = average_polydata\n",
    "\n",
    "#     average_volume_allLandmarks[name_unsided] = average_volume\n",
    "    \n",
    "# #     bp.pack_ndarray_file(average_volume, mesh_rootdir + \"/%(name)s_average.bp\" % {'stack': stack, 'name': name_unsided})\n",
    "# #     save_mesh_stl(average_polydata, mesh_rootdir + \"/%(name)s_average.stl\" % {'stack': stack, 'name': name_unsided})\n",
    "\n",
    "# centroid_allLandmarks.default_factory = None"
   ]
  }
 ],
 "metadata": {
  "kernelspec": {
   "display_name": "Python 2",
   "language": "python",
   "name": "python2"
  },
  "language_info": {
   "codemirror_mode": {
    "name": "ipython",
    "version": 2
   },
   "file_extension": ".py",
   "mimetype": "text/x-python",
   "name": "python",
   "nbconvert_exporter": "python",
   "pygments_lexer": "ipython2",
   "version": "2.7.6"
  }
 },
 "nbformat": 4,
 "nbformat_minor": 0
}
