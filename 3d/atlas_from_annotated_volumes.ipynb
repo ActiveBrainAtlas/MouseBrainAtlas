{
 "cells": [
  {
   "cell_type": "code",
   "execution_count": 1,
   "metadata": {
    "collapsed": false
   },
   "outputs": [
    {
     "name": "stdout",
     "output_type": "stream",
     "text": [
      "Setting environment for Local Macbook Pro\n"
     ]
    }
   ],
   "source": [
    "%reload_ext autoreload\n",
    "%autoreload 2\n",
    "\n",
    "import vtk\n",
    "from vtk.util import numpy_support\n",
    "\n",
    "import numpy as np\n",
    "import bloscpack as bp\n",
    "import sys\n",
    "import os\n",
    "\n",
    "sys.path.append(os.path.join(os.environ['REPO_DIR'], 'utilities'))\n",
    "from utilities2015 import *\n",
    "from metadata import *\n",
    "from data_manager import *\n",
    "\n",
    "from registration_utilities import *\n",
    "\n",
    "from skimage.measure import marching_cubes, correct_mesh_orientation\n",
    "\n",
    "from vis3d_utilities import *\n",
    "from itertools import izip\n",
    "\n",
    "%matplotlib inline"
   ]
  },
  {
   "cell_type": "code",
   "execution_count": 2,
   "metadata": {
    "collapsed": true
   },
   "outputs": [],
   "source": [
    "stack_moving = 'MD594'\n",
    "stack_fixed = 'MD589'"
   ]
  },
  {
   "cell_type": "code",
   "execution_count": 3,
   "metadata": {
    "collapsed": false
   },
   "outputs": [],
   "source": [
    "atlasAlignParams_dir = create_if_not_exists(atlasAlignParams_rootdir + '/%(stack_moving)s_to_%(stack_fixed)s' % \\\n",
    "                     {'stack_moving': stack_moving, 'stack_fixed': stack_fixed})"
   ]
  },
  {
   "cell_type": "code",
   "execution_count": 4,
   "metadata": {
    "collapsed": false
   },
   "outputs": [
    {
     "name": "stdout",
     "output_type": "stream",
     "text": [
      "(348, 421, 377)\n",
      "(326, 515, 368)\n"
     ]
    }
   ],
   "source": [
    "volume_fixed = bp.unpack_ndarray_file(os.path.join(volume_dir, '%(stack)s/%(stack)s_down32_annotationVolume.bp' % {'stack': stack_fixed}))\n",
    "volume_moving = bp.unpack_ndarray_file(os.path.join(volume_dir, '%(stack)s/%(stack)s_down32_annotationVolume.bp' % {'stack': stack_moving}))\n",
    "print volume_fixed.shape\n",
    "print volume_moving.shape"
   ]
  },
  {
   "cell_type": "code",
   "execution_count": 5,
   "metadata": {
    "collapsed": false
   },
   "outputs": [],
   "source": [
    "# with open(atlasAlignParams_dir + '/%(stack_moving)s_down32_annotationVolume_to_%(stack_fixed)s_down32_annotationVolume_parameters.txt' % \\\n",
    "#           {'stack_moving': stack_moving, 'stack_fixed': stack_fixed}, 'r') as f:\n",
    "    \n",
    "#     lines = f.readlines()\n",
    "    \n",
    "#     global_params = one_liner_to_arr(lines[0], float)\n",
    "#     centroid_m = one_liner_to_arr(lines[1], float)\n",
    "#     xdim_m, ydim_m, zdim_m  = one_liner_to_arr(lines[2], int)\n",
    "#     centroid_f = one_liner_to_arr(lines[3], float)\n",
    "#     xdim_f, ydim_f, zdim_f  = one_liner_to_arr(lines[4], int)"
   ]
  },
  {
   "cell_type": "code",
   "execution_count": null,
   "metadata": {
    "collapsed": true
   },
   "outputs": [],
   "source": []
  },
  {
   "cell_type": "code",
   "execution_count": 6,
   "metadata": {
    "collapsed": false
   },
   "outputs": [],
   "source": [
    "label_to_name_m, name_to_label_m = DataManager.load_volume_label_to_name(stack_moving)\n",
    "label_to_name_f, name_to_label_f = DataManager.load_volume_label_to_name(stack_fixed)"
   ]
  },
  {
   "cell_type": "code",
   "execution_count": 7,
   "metadata": {
    "collapsed": false
   },
   "outputs": [],
   "source": [
    "colors = {name_u: np.random.randint(0,255,3)/255.\n",
    "          for name_u in set([convert_name_to_unsided(name_s) for name_s in name_to_label_m.keys()])}"
   ]
  },
  {
   "cell_type": "code",
   "execution_count": null,
   "metadata": {
    "collapsed": true
   },
   "outputs": [],
   "source": []
  },
  {
   "cell_type": "code",
   "execution_count": 8,
   "metadata": {
    "collapsed": true
   },
   "outputs": [],
   "source": [
    "# Save meshes of moving volume aligned to fixed"
   ]
  },
  {
   "cell_type": "code",
   "execution_count": 8,
   "metadata": {
    "collapsed": true
   },
   "outputs": [],
   "source": [
    "moving_volume_alignedTo_fixed_volume_fn = os.path.join('/home/yuncong/CSHL_atlasAlignParams_atlas_v2/', stack_moving+'_to_'+stack_fixed, \n",
    "             \"%(stack_moving)s_down32_annotationVolume_alignedTo_%(stack_fixed)s_down32_annotationVolume.bp\" %\\\n",
    "             {'stack_moving': stack_moving, 'stack_fixed': stack_fixed})"
   ]
  },
  {
   "cell_type": "code",
   "execution_count": 9,
   "metadata": {
    "collapsed": false
   },
   "outputs": [],
   "source": [
    "volume_m_alignedTo_f = bp.unpack_ndarray_file(moving_volume_alignedTo_fixed_volume_fn)"
   ]
  },
  {
   "cell_type": "code",
   "execution_count": 10,
   "metadata": {
    "collapsed": false
   },
   "outputs": [
    {
     "name": "stdout",
     "output_type": "stream",
     "text": [
      "622 1042 155 502 127 503\n"
     ]
    }
   ],
   "source": [
    "vol_f_xmin, vol_f_xmax, vol_f_ymin, vol_f_ymax, vol_f_zmin, vol_f_zmax = DataManager.load_volume_bbox(stack_fixed)\n",
    "print vol_f_xmin, vol_f_xmax, vol_f_ymin, vol_f_ymax, vol_f_zmin, vol_f_zmax"
   ]
  },
  {
   "cell_type": "code",
   "execution_count": 11,
   "metadata": {
    "collapsed": true
   },
   "outputs": [],
   "source": [
    "m_alignedTo_f_meshes_dir = create_if_not_exists(os.path.join('/home/yuncong/CSHL_meshes_v2/', stack_moving+'_to_'+stack_fixed))"
   ]
  },
  {
   "cell_type": "code",
   "execution_count": 12,
   "metadata": {
    "collapsed": false,
    "scrolled": true
   },
   "outputs": [
    {
     "name": "stderr",
     "output_type": "stream",
     "text": [
      "marching cube: 0.04 seconds\n",
      "compute surface area: 0.00 seconds\n",
      "fill point array: 0.02 seconds\n",
      "fill cell array: 0.00 seconds\n",
      "mesh_to_polydata: 0.02 seconds\n",
      "simplify 0 @ 12931: 0.14 seconds\n",
      "simplify 1 @ 2587: 0.11 seconds\n",
      "simplify 2 @ 519: 0.02 seconds\n",
      "time: 0.33\n",
      "marching cube: 0.16 seconds\n",
      "compute surface area: 0.01 seconds\n",
      "fill point array: 0.04 seconds\n",
      "fill cell array: 0.00 seconds\n",
      "mesh_to_polydata: 0.04 seconds\n",
      "simplify 0 @ 32510: 0.30 seconds\n",
      "simplify 1 @ 6503: 0.27 seconds\n",
      "simplify 2 @ 1302: 0.06 seconds\n",
      "time: 0.84\n",
      "marching cube: 0.04 seconds\n",
      "compute surface area: 0.00 seconds\n",
      "fill point array: 0.02 seconds\n",
      "fill cell array: 0.00 seconds\n",
      "mesh_to_polydata: 0.02 seconds\n",
      "simplify 0 @ 16823: 0.15 seconds\n"
     ]
    },
    {
     "ename": "KeyboardInterrupt",
     "evalue": "",
     "output_type": "error",
     "traceback": [
      "\u001b[0;31m---------------------------------------------------------------------------\u001b[0m",
      "\u001b[0;31mKeyboardInterrupt\u001b[0m                         Traceback (most recent call last)",
      "\u001b[0;32m<ipython-input-12-58d6c1debbd7>\u001b[0m in \u001b[0;36m<module>\u001b[0;34m()\u001b[0m\n\u001b[1;32m      6\u001b[0m     \u001b[0mt\u001b[0m \u001b[0;34m=\u001b[0m \u001b[0mtime\u001b[0m\u001b[0;34m.\u001b[0m\u001b[0mtime\u001b[0m\u001b[0;34m(\u001b[0m\u001b[0;34m)\u001b[0m\u001b[0;34m\u001b[0m\u001b[0m\n\u001b[1;32m      7\u001b[0m     polydata = volume_to_polydata(vol, origin=(vol_f_xmin+xmin, vol_f_ymin+ymin, vol_f_zmin+zmin), \n\u001b[0;32m----> 8\u001b[0;31m                                   num_simplify_iter=3, smooth=True)\n\u001b[0m\u001b[1;32m      9\u001b[0m     \u001b[0msys\u001b[0m\u001b[0;34m.\u001b[0m\u001b[0mstderr\u001b[0m\u001b[0;34m.\u001b[0m\u001b[0mwrite\u001b[0m\u001b[0;34m(\u001b[0m\u001b[0;34m'time: %.2f\\n'\u001b[0m \u001b[0;34m%\u001b[0m \u001b[0;34m(\u001b[0m\u001b[0mtime\u001b[0m\u001b[0;34m.\u001b[0m\u001b[0mtime\u001b[0m\u001b[0;34m(\u001b[0m\u001b[0;34m)\u001b[0m \u001b[0;34m-\u001b[0m \u001b[0mt\u001b[0m\u001b[0;34m)\u001b[0m \u001b[0;34m)\u001b[0m\u001b[0;34m\u001b[0m\u001b[0m\n\u001b[1;32m     10\u001b[0m \u001b[0;34m\u001b[0m\u001b[0m\n",
      "\u001b[0;32m/home/yuncong/Brain/3d/vis3d_utilities.py\u001b[0m in \u001b[0;36mvolume_to_polydata\u001b[0;34m(volume, origin, num_simplify_iter, smooth)\u001b[0m\n\u001b[1;32m    141\u001b[0m         \u001b[0;31m# 0.8 means each iteration causes the point number to drop to 20% the original\u001b[0m\u001b[0;34m\u001b[0m\u001b[0;34m\u001b[0m\u001b[0m\n\u001b[1;32m    142\u001b[0m \u001b[0;34m\u001b[0m\u001b[0m\n\u001b[0;32m--> 143\u001b[0;31m         \u001b[0mdeci\u001b[0m\u001b[0;34m.\u001b[0m\u001b[0mUpdate\u001b[0m\u001b[0;34m(\u001b[0m\u001b[0;34m)\u001b[0m\u001b[0;34m\u001b[0m\u001b[0m\n\u001b[0m\u001b[1;32m    144\u001b[0m \u001b[0;34m\u001b[0m\u001b[0m\n\u001b[1;32m    145\u001b[0m         \u001b[0mpolydata\u001b[0m \u001b[0;34m=\u001b[0m \u001b[0mdeci\u001b[0m\u001b[0;34m.\u001b[0m\u001b[0mGetOutput\u001b[0m\u001b[0;34m(\u001b[0m\u001b[0;34m)\u001b[0m\u001b[0;34m\u001b[0m\u001b[0m\n",
      "\u001b[0;31mKeyboardInterrupt\u001b[0m: "
     ]
    }
   ],
   "source": [
    "for name_s, label in name_to_label_m.iteritems():\n",
    "    \n",
    "    xmin, xmax, ymin, ymax, zmin, zmax = bbox_3d(volume_m_alignedTo_f == label)\n",
    "    vol = (volume_m_alignedTo_f[ymin:ymax+1, xmin:xmax+1, zmin:zmax+1] == label).astype(np.float)\n",
    "\n",
    "    t = time.time()\n",
    "    polydata = volume_to_polydata(vol, origin=(vol_f_xmin+xmin, vol_f_ymin+ymin, vol_f_zmin+zmin), \n",
    "                                  num_simplify_iter=3, smooth=True)\n",
    "    sys.stderr.write('time: %.2f\\n' % (time.time() - t) )\n",
    "\n",
    "    polydata_fn = os.path.join(m_alignedTo_f_meshes_dir, \n",
    "                \"%(stack_moving)s_down32_annotationVolume_alignedTo_%(stack_fixed)s_down32_annotationVolume_%(name)s_smoothed.stl\" %\\\n",
    "                  {'stack_moving': stack_moving, 'stack_fixed': stack_fixed, 'name': name_s})\n",
    "    \n",
    "    save_mesh_stl(polydata, polydata_fn)"
   ]
  },
  {
   "cell_type": "code",
   "execution_count": null,
   "metadata": {
    "collapsed": true
   },
   "outputs": [],
   "source": []
  },
  {
   "cell_type": "code",
   "execution_count": null,
   "metadata": {
    "collapsed": true
   },
   "outputs": [],
   "source": [
    "# Load moving volume aligned to fixed"
   ]
  },
  {
   "cell_type": "code",
   "execution_count": 13,
   "metadata": {
    "collapsed": false
   },
   "outputs": [],
   "source": [
    "moving_volume_alignedTo_fixed_volume_polydata_list = {}\n",
    "\n",
    "for name_s, label in name_to_label_m.iteritems():\n",
    "    \n",
    "    fn = os.path.join(m_alignedTo_f_meshes_dir, \n",
    "                      \"%(stack_moving)s_down32_annotationVolume_alignedTo_%(stack_fixed)s_down32_annotationVolume_%(name)s_smoothed.stl\" %\\\n",
    "                      {'stack_moving': stack_moving, 'stack_fixed': stack_fixed, 'name': name_s})\n",
    "\n",
    "    reader = vtk.vtkSTLReader()\n",
    "    reader.SetFileName(fn)\n",
    "    reader.Update()\n",
    "\n",
    "    polydata = reader.GetOutput()\n",
    "    moving_volume_alignedTo_fixed_volume_polydata_list[name_s] = polydata"
   ]
  },
  {
   "cell_type": "code",
   "execution_count": 14,
   "metadata": {
    "collapsed": true
   },
   "outputs": [],
   "source": [
    "# Load moving volume"
   ]
  },
  {
   "cell_type": "code",
   "execution_count": 15,
   "metadata": {
    "collapsed": false
   },
   "outputs": [],
   "source": [
    "moving_volume_polydata_list = {}\n",
    "\n",
    "for name_s, label in name_to_label_m.iteritems():\n",
    "    \n",
    "    fn = os.path.join(MESH_ROOTDIR, stack_moving, \"%(stack)s_down32_annotationVolume_%(name)s_smoothed.stl\" % {'stack': stack_moving, 'name': name_s})\n",
    "\n",
    "    reader = vtk.vtkSTLReader()\n",
    "    reader.SetFileName(fn)\n",
    "    reader.Update()\n",
    "\n",
    "    polydata = reader.GetOutput()\n",
    "    moving_volume_polydata_list[name_s] = polydata"
   ]
  },
  {
   "cell_type": "code",
   "execution_count": 16,
   "metadata": {
    "collapsed": true
   },
   "outputs": [],
   "source": [
    "# Load fixed volume"
   ]
  },
  {
   "cell_type": "code",
   "execution_count": 17,
   "metadata": {
    "collapsed": false
   },
   "outputs": [],
   "source": [
    "fixed_volume_polydata_list = {}\n",
    "\n",
    "for name_s, label in name_to_label_f.iteritems():\n",
    "    \n",
    "    fn = os.path.join(MESH_ROOTDIR, stack_fixed, \"%(stack)s_down32_annotationVolume_%(name)s_smoothed.stl\" % {'stack': stack_fixed, 'name': name_s})\n",
    "\n",
    "    reader = vtk.vtkSTLReader()\n",
    "    reader.SetFileName(fn)\n",
    "    reader.Update()\n",
    "\n",
    "    polydata = reader.GetOutput()\n",
    "    fixed_volume_polydata_list[name_s] = polydata"
   ]
  },
  {
   "cell_type": "code",
   "execution_count": null,
   "metadata": {
    "collapsed": true
   },
   "outputs": [],
   "source": []
  },
  {
   "cell_type": "code",
   "execution_count": 18,
   "metadata": {
    "collapsed": false
   },
   "outputs": [],
   "source": [
    "# Show each structure in one color\n",
    "\n",
    "volume_m_alignedTo_f_mesh_actors = [actor_mesh(polydata, colors[convert_name_to_unsided(name_s)], wireframe=True, opacity=1.) \n",
    "               for name_s, polydata in moving_volume_alignedTo_fixed_volume_polydata_list.iteritems()]\n",
    "\n",
    "volume_f_mesh_actors = [actor_mesh(polydata, colors[convert_name_to_unsided(name_s)], wireframe=True, opacity=1.) \n",
    "               for name_s, polydata in fixed_volume_polydata_list.iteritems()]\n",
    "\n",
    "launch_vtk(volume_m_alignedTo_f_mesh_actors + volume_f_mesh_actors)"
   ]
  },
  {
   "cell_type": "code",
   "execution_count": 19,
   "metadata": {
    "collapsed": false
   },
   "outputs": [],
   "source": [
    "# Show each brain in one color\n",
    "\n",
    "volume_m_alignedTo_f_mesh_actors = [actor_mesh(polydata, (1.,0,0), wireframe=True, opacity=1.) \n",
    "               for name_s, polydata in moving_volume_alignedTo_fixed_volume_polydata_list.iteritems()]\n",
    "\n",
    "volume_f_mesh_actors = [actor_mesh(polydata, (0,0,1), wireframe=True, opacity=1.) \n",
    "               for name_s, polydata in fixed_volume_polydata_list.iteritems()]\n",
    "\n",
    "volume_m_mesh_actors = [actor_mesh(polydata, (0,1,1), wireframe=True, opacity=1.) \n",
    "               for name_s, polydata in moving_volume_polydata_list.iteritems()]\n",
    "\n",
    "launch_vtk(volume_m_alignedTo_f_mesh_actors + volume_f_mesh_actors + volume_m_mesh_actors)"
   ]
  },
  {
   "cell_type": "code",
   "execution_count": 35,
   "metadata": {
    "collapsed": true
   },
   "outputs": [],
   "source": [
    "launch_vtk(volume_m_alignedTo_f_mesh_actors + volume_f_mesh_actors)"
   ]
  },
  {
   "cell_type": "code",
   "execution_count": null,
   "metadata": {
    "collapsed": true
   },
   "outputs": [],
   "source": []
  },
  {
   "cell_type": "code",
   "execution_count": 20,
   "metadata": {
    "collapsed": true
   },
   "outputs": [],
   "source": [
    "all_names = set([convert_name_to_unsided(name_s) for name_s in name_to_label_f.keys()])"
   ]
  },
  {
   "cell_type": "code",
   "execution_count": 21,
   "metadata": {
    "collapsed": true
   },
   "outputs": [],
   "source": [
    "centroid_allLandmarks = defaultdict(list)\n",
    "polydata_list_allLandmarks = {}\n",
    "average_polydata_allLandmarks = {}\n",
    "average_volume_allLandmarks = {}\n",
    "average_volume_origin_allLandmarks = {}\n",
    "\n",
    "atlas_space_structure_volumes = {}\n",
    "atlas_space_structure_meshes = {}"
   ]
  },
  {
   "cell_type": "code",
   "execution_count": 26,
   "metadata": {
    "collapsed": false,
    "scrolled": true
   },
   "outputs": [
    {
     "name": "stderr",
     "output_type": "stream",
     "text": [
      "icp: 2.37\n",
      "icp: 2.19\n",
      "icp: 2.65\n",
      "fill point array: 0.00 seconds\n",
      "fill cell array: 0.00 seconds\n",
      "fill point array: 0.00 seconds\n",
      "fill cell array: 0.00 seconds\n",
      "fill point array: 0.00 seconds\n",
      "fill cell array: 0.00 seconds\n",
      "fill point array: 0.00 seconds\n",
      "fill cell array: 0.00 seconds\n",
      "polydata_to_volume: 0.00\n",
      "polydata_to_volume: 0.00\n",
      "polydata_to_volume: 0.00\n",
      "polydata_to_volume: 0.00\n",
      "find common: 0.00\n",
      "marching cube: 0.01 seconds\n",
      "compute surface area: 0.00 seconds\n",
      "fill point array: 0.01 seconds\n",
      "fill cell array: 0.00 seconds\n",
      "mesh_to_polydata: 0.01 seconds\n",
      "simplify 0 @ 4416: 0.04 seconds\n"
     ]
    },
    {
     "name": "stdout",
     "output_type": "stream",
     "text": [
      "Tz\n",
      "VCA"
     ]
    },
    {
     "name": "stderr",
     "output_type": "stream",
     "text": [
      "simplify 1 @ 884: 0.03 seconds\n",
      "volume_to_polydata: 0.10\n",
      "icp: 7.79\n",
      "icp: 6.91\n",
      "icp: 7.37\n",
      "fill point array: 0.00 seconds\n",
      "fill cell array: 0.00 seconds\n",
      "fill point array: 0.00 seconds\n",
      "fill cell array: 0.00 seconds\n",
      "fill point array: 0.00 seconds\n",
      "fill cell array: 0.00 seconds\n",
      "fill point array: 0.00 seconds\n",
      "fill cell array: 0.00 seconds\n",
      "polydata_to_volume: 0.00\n",
      "polydata_to_volume: 0.00\n",
      "polydata_to_volume: 0.00\n",
      "polydata_to_volume: 0.00\n",
      "find common: 0.01\n",
      "marching cube: 0.04 seconds\n",
      "compute surface area: 0.00 seconds\n",
      "fill point array: 0.02 seconds\n",
      "fill cell array: 0.00 seconds\n",
      "mesh_to_polydata: 0.02 seconds\n",
      "simplify 0 @ 12060: 0.09 seconds\n"
     ]
    },
    {
     "name": "stdout",
     "output_type": "stream",
     "text": [
      "\n",
      "7n"
     ]
    },
    {
     "name": "stderr",
     "output_type": "stream",
     "text": [
      "simplify 1 @ 2413: 0.08 seconds\n",
      "simplify 2 @ 484: 0.02 seconds\n",
      "volume_to_polydata: 0.25\n",
      "icp: 5.18\n",
      "icp: 6.28\n",
      "icp: 5.92\n",
      "fill point array: 0.00 seconds\n",
      "fill cell array: 0.00 seconds\n",
      "fill point array: 0.00 seconds\n",
      "fill cell array: 0.00 seconds\n",
      "fill point array: 0.00 seconds\n",
      "fill cell array: 0.00 seconds\n",
      "fill point array: 0.00 seconds\n",
      "fill cell array: 0.00 seconds\n",
      "polydata_to_volume: 0.00\n",
      "polydata_to_volume: 0.00\n",
      "polydata_to_volume: 0.00\n",
      "polydata_to_volume: 0.00\n",
      "find common: 0.01\n",
      "marching cube: 0.06 seconds\n",
      "compute surface area: 0.00 seconds\n",
      "fill point array: 0.01 seconds\n",
      "fill cell array: 0.00 seconds\n",
      "mesh_to_polydata: 0.01 seconds\n",
      "simplify 0 @ 9029: 0.06 seconds\n"
     ]
    },
    {
     "name": "stdout",
     "output_type": "stream",
     "text": [
      "\n",
      "DC"
     ]
    },
    {
     "name": "stderr",
     "output_type": "stream",
     "text": [
      "simplify 1 @ 1807: 0.06 seconds\n",
      "simplify 2 @ 363: 0.01 seconds\n",
      "volume_to_polydata: 0.21\n",
      "icp: 8.63\n",
      "icp: 8.54\n",
      "icp: 6.51\n",
      "fill point array: 0.00 seconds\n",
      "fill cell array: 0.00 seconds\n",
      "fill point array: 0.00 seconds\n",
      "fill cell array: 0.00 seconds\n",
      "fill point array: 0.00 seconds\n",
      "fill cell array: 0.00 seconds\n",
      "fill point array: 0.00 seconds\n",
      "fill cell array: 0.00 seconds\n",
      "polydata_to_volume: 0.01\n",
      "polydata_to_volume: 0.00\n",
      "polydata_to_volume: 0.00\n",
      "polydata_to_volume: 0.00\n",
      "find common: 0.01\n",
      "marching cube: 0.05 seconds\n",
      "compute surface area: 0.00 seconds\n",
      "fill point array: 0.02 seconds\n",
      "fill cell array: 0.00 seconds\n",
      "mesh_to_polydata: 0.02 seconds\n",
      "simplify 0 @ 12663: 0.10 seconds\n"
     ]
    },
    {
     "name": "stdout",
     "output_type": "stream",
     "text": [
      "\n",
      "5N"
     ]
    },
    {
     "name": "stderr",
     "output_type": "stream",
     "text": [
      "simplify 1 @ 2535: 0.09 seconds\n",
      "simplify 2 @ 508: 0.02 seconds\n",
      "volume_to_polydata: 0.28\n",
      "icp: 4.13\n",
      "icp: 3.82\n",
      "icp: 3.30\n",
      "fill point array: 0.00 seconds\n",
      "fill cell array: 0.00 seconds\n",
      "fill point array: 0.00 seconds\n",
      "fill cell array: 0.00 seconds\n",
      "fill point array: 0.00 seconds\n",
      "fill cell array: 0.00 seconds\n",
      "fill point array: 0.00 seconds\n",
      "fill cell array: 0.00 seconds\n",
      "polydata_to_volume: 0.00\n",
      "polydata_to_volume: 0.00\n",
      "polydata_to_volume: 0.00\n",
      "polydata_to_volume: 0.00\n",
      "find common: 0.00\n",
      "marching cube: 0.02 seconds\n",
      "compute surface area: 0.00 seconds\n",
      "fill point array: 0.01 seconds\n",
      "fill cell array: 0.00 seconds\n",
      "mesh_to_polydata: 0.01 seconds\n",
      "simplify 0 @ 6758: 0.05 seconds\n"
     ]
    },
    {
     "name": "stdout",
     "output_type": "stream",
     "text": [
      "\n",
      "3N"
     ]
    },
    {
     "name": "stderr",
     "output_type": "stream",
     "text": [
      "simplify 1 @ 1353: 0.05 seconds\n",
      "simplify 2 @ 272: 0.01 seconds\n",
      "volume_to_polydata: 0.14\n",
      "icp: 0.70\n",
      "icp: 0.69\n",
      "icp: 0.40\n"
     ]
    },
    {
     "name": "stdout",
     "output_type": "stream",
     "text": [
      "\n",
      "Pn"
     ]
    },
    {
     "name": "stderr",
     "output_type": "stream",
     "text": [
      "fill point array: 0.00 seconds\n",
      "fill cell array: 0.00 seconds\n",
      "fill point array: 0.00 seconds\n",
      "fill cell array: 0.00 seconds\n",
      "fill point array: 0.00 seconds\n",
      "fill cell array: 0.00 seconds\n",
      "fill point array: 0.00 seconds\n",
      "fill cell array: 0.00 seconds\n",
      "polydata_to_volume: 0.00\n",
      "polydata_to_volume: 0.00\n",
      "polydata_to_volume: 0.00\n",
      "polydata_to_volume: 0.00\n",
      "find common: 0.00\n",
      "marching cube: 0.00 seconds\n",
      "compute surface area: 0.00 seconds\n",
      "fill point array: 0.00 seconds\n",
      "fill cell array: 0.00 seconds\n",
      "mesh_to_polydata: 0.00 seconds\n",
      "simplify 0 @ 2130: 0.02 seconds\n",
      "simplify 1 @ 427: 0.01 seconds\n",
      "volume_to_polydata: 0.04\n",
      "icp: 11.48\n",
      "icp: 11.76\n",
      "icp: 13.05\n",
      "fill point array: 0.00 seconds\n",
      "fill cell array: 0.00 seconds\n",
      "fill point array: 0.00 seconds\n",
      "fill cell array: 0.00 seconds\n",
      "fill point array: 0.00 seconds\n",
      "fill cell array: 0.00 seconds\n",
      "fill point array: 0.00 seconds\n",
      "fill cell array: 0.00 seconds\n",
      "polydata_to_volume: 0.01\n",
      "polydata_to_volume: 0.01\n",
      "polydata_to_volume: 0.01\n",
      "polydata_to_volume: 0.00\n",
      "find common: 0.01\n",
      "marching cube: 0.04 seconds\n",
      "compute surface area: 0.00 seconds\n",
      "fill point array: 0.02 seconds\n",
      "fill cell array: 0.00 seconds\n",
      "mesh_to_polydata: 0.02 seconds\n",
      "simplify 0 @ 15761: 0.13 seconds\n"
     ]
    },
    {
     "name": "stdout",
     "output_type": "stream",
     "text": [
      "\n",
      "10N"
     ]
    },
    {
     "name": "stderr",
     "output_type": "stream",
     "text": [
      "simplify 1 @ 3153: 0.12 seconds\n",
      "simplify 2 @ 632: 0.02 seconds\n",
      "volume_to_polydata: 0.34\n",
      "icp: 2.55\n",
      "icp: 1.70\n",
      "icp: 1.80\n",
      "fill point array: 0.00 seconds\n",
      "fill cell array: 0.00 seconds\n",
      "fill point array: 0.00 seconds\n",
      "fill cell array: 0.00 seconds\n",
      "fill point array: 0.00 seconds\n",
      "fill cell array: 0.00 seconds\n",
      "fill point array: 0.00 seconds\n",
      "fill cell array: 0.00 seconds\n",
      "polydata_to_volume: 0.00\n",
      "polydata_to_volume: 0.00\n",
      "polydata_to_volume: 0.00\n",
      "polydata_to_volume: 0.00\n",
      "find common: 0.00\n",
      "marching cube: 0.02 seconds\n",
      "compute surface area: 0.00 seconds\n",
      "fill point array: 0.00 seconds\n",
      "fill cell array: 0.00 seconds\n",
      "mesh_to_polydata: 0.00 seconds\n",
      "simplify 0 @ 3424: 0.02 seconds\n"
     ]
    },
    {
     "name": "stdout",
     "output_type": "stream",
     "text": [
      "\n",
      "VLL"
     ]
    },
    {
     "name": "stderr",
     "output_type": "stream",
     "text": [
      "simplify 1 @ 686: 0.02 seconds\n",
      "volume_to_polydata: 0.07\n",
      "icp: 7.19\n",
      "icp: 7.71\n",
      "icp: 6.56\n",
      "fill point array: 0.00 seconds\n",
      "fill cell array: 0.00 seconds\n",
      "fill point array: 0.00 seconds\n",
      "fill cell array: 0.00 seconds\n",
      "fill point array: 0.00 seconds\n",
      "fill cell array: 0.00 seconds\n",
      "fill point array: 0.00 seconds\n",
      "fill cell array: 0.00 seconds\n",
      "polydata_to_volume: 0.01\n",
      "polydata_to_volume: 0.00\n",
      "polydata_to_volume: 0.00\n",
      "polydata_to_volume: 0.00\n",
      "find common: 0.02\n",
      "marching cube: 0.10 seconds\n",
      "compute surface area: 0.00 seconds\n",
      "fill point array: 0.01 seconds\n",
      "fill cell array: 0.00 seconds\n",
      "mesh_to_polydata: 0.01 seconds\n",
      "simplify 0 @ 11661: 0.09 seconds\n"
     ]
    },
    {
     "name": "stdout",
     "output_type": "stream",
     "text": [
      "\n",
      "7N"
     ]
    },
    {
     "name": "stderr",
     "output_type": "stream",
     "text": [
      "simplify 1 @ 2333: 0.08 seconds\n",
      "simplify 2 @ 468: 0.02 seconds\n",
      "volume_to_polydata: 0.30\n",
      "icp: 6.38\n",
      "icp: 7.23\n",
      "icp: 5.94\n",
      "fill point array: 0.00 seconds\n",
      "fill cell array: 0.00 seconds\n",
      "fill point array: 0.00 seconds\n",
      "fill cell array: 0.00 seconds\n",
      "fill point array: 0.00 seconds\n",
      "fill cell array: 0.00 seconds\n",
      "fill point array: 0.00 seconds\n",
      "fill cell array: 0.00 seconds\n",
      "polydata_to_volume: 0.00\n",
      "polydata_to_volume: 0.00\n",
      "polydata_to_volume: 0.00\n",
      "polydata_to_volume: 0.00\n",
      "find common: 0.00\n",
      "marching cube: 0.02 seconds\n",
      "compute surface area: 0.00 seconds\n",
      "fill point array: 0.01 seconds\n",
      "fill cell array: 0.00 seconds\n",
      "mesh_to_polydata: 0.01 seconds\n",
      "simplify 0 @ 10514: 0.08 seconds\n"
     ]
    },
    {
     "name": "stdout",
     "output_type": "stream",
     "text": [
      "\n",
      "Amb"
     ]
    },
    {
     "name": "stderr",
     "output_type": "stream",
     "text": [
      "simplify 1 @ 2104: 0.07 seconds\n",
      "simplify 2 @ 422: 0.02 seconds\n",
      "volume_to_polydata: 0.21\n",
      "icp: 1.75\n",
      "icp: 1.66\n",
      "icp: 0.17\n"
     ]
    },
    {
     "name": "stdout",
     "output_type": "stream",
     "text": [
      "\n",
      "12N"
     ]
    },
    {
     "name": "stderr",
     "output_type": "stream",
     "text": [
      "fill point array: 0.00 seconds\n",
      "fill cell array: 0.00 seconds\n",
      "fill point array: 0.00 seconds\n",
      "fill cell array: 0.00 seconds\n",
      "fill point array: 0.00 seconds\n",
      "fill cell array: 0.00 seconds\n",
      "fill point array: 0.00 seconds\n",
      "fill cell array: 0.00 seconds\n",
      "polydata_to_volume: 0.00\n",
      "polydata_to_volume: 0.00\n",
      "polydata_to_volume: 0.00\n",
      "polydata_to_volume: 0.00\n",
      "find common: 0.00\n",
      "marching cube: 0.00 seconds\n",
      "compute surface area: 0.00 seconds\n",
      "fill point array: 0.00 seconds\n",
      "fill cell array: 0.00 seconds\n",
      "mesh_to_polydata: 0.00 seconds\n",
      "simplify 0 @ 796: 0.01 seconds\n",
      "volume_to_polydata: 0.02\n",
      "icp: 8.17\n",
      "fill point array: 0.00 seconds\n",
      "fill cell array: 0.00 seconds\n",
      "fill point array: 0.00 seconds\n",
      "fill cell array: 0.00 seconds\n",
      "polydata_to_volume: 0.00\n",
      "polydata_to_volume: 0.00\n",
      "find common: 0.00\n",
      "marching cube: 0.03 seconds\n",
      "compute surface area: 0.00 seconds\n",
      "fill point array: 0.01 seconds\n",
      "fill cell array: 0.00 seconds\n",
      "mesh_to_polydata: 0.01 seconds\n",
      "simplify 0 @ 10505: 0.08 seconds\n"
     ]
    },
    {
     "name": "stdout",
     "output_type": "stream",
     "text": [
      "\n",
      "RMC"
     ]
    },
    {
     "name": "stderr",
     "output_type": "stream",
     "text": [
      "simplify 1 @ 2103: 0.08 seconds\n",
      "simplify 2 @ 422: 0.02 seconds\n",
      "volume_to_polydata: 0.22\n",
      "icp: 3.77\n",
      "icp: 2.76\n",
      "icp: 2.96\n",
      "fill point array: 0.00 seconds\n",
      "fill cell array: 0.00 seconds\n",
      "fill point array: 0.00 seconds\n",
      "fill cell array: 0.00 seconds\n",
      "fill point array: 0.00 seconds\n",
      "fill cell array: 0.00 seconds\n",
      "fill point array: 0.00 seconds\n",
      "fill cell array: 0.00 seconds\n",
      "polydata_to_volume: 0.00\n",
      "polydata_to_volume: 0.00\n",
      "polydata_to_volume: 0.00\n",
      "polydata_to_volume: 0.00\n",
      "find common: 0.00\n",
      "marching cube: 0.02 seconds\n",
      "compute surface area: 0.00 seconds\n",
      "fill point array: 0.01 seconds\n",
      "fill cell array: 0.00 seconds\n",
      "mesh_to_polydata: 0.01 seconds\n",
      "simplify 0 @ 5902: 0.04 seconds\n"
     ]
    },
    {
     "name": "stdout",
     "output_type": "stream",
     "text": [
      "\n",
      "Sp5O"
     ]
    },
    {
     "name": "stderr",
     "output_type": "stream",
     "text": [
      "simplify 1 @ 1182: 0.04 seconds\n",
      "simplify 2 @ 238: 0.01 seconds\n",
      "volume_to_polydata: 0.11\n",
      "icp: 5.90\n",
      "icp: 3.31\n",
      "icp: 5.00\n",
      "fill point array: 0.00 seconds\n",
      "fill cell array: 0.00 seconds\n",
      "fill point array: 0.00 seconds\n",
      "fill cell array: 0.00 seconds\n",
      "fill point array: 0.00 seconds\n",
      "fill cell array: 0.00 seconds\n",
      "fill point array: 0.00 seconds\n",
      "fill cell array: 0.00 seconds\n",
      "polydata_to_volume: 0.00\n",
      "polydata_to_volume: 0.00\n",
      "polydata_to_volume: 0.00\n",
      "polydata_to_volume: 0.00\n",
      "find common: 0.01\n",
      "marching cube: 0.06 seconds\n",
      "compute surface area: 0.00 seconds\n",
      "fill point array: 0.02 seconds\n",
      "fill cell array: 0.00 seconds\n",
      "mesh_to_polydata: 0.02 seconds\n",
      "simplify 0 @ 11360: 0.16 seconds\n"
     ]
    },
    {
     "name": "stdout",
     "output_type": "stream",
     "text": [
      "\n",
      "Sp5I"
     ]
    },
    {
     "name": "stderr",
     "output_type": "stream",
     "text": [
      "simplify 1 @ 2273: 0.08 seconds\n",
      "simplify 2 @ 456: 0.02 seconds\n",
      "volume_to_polydata: 0.35\n",
      "icp: 5.68\n",
      "icp: 4.00\n",
      "icp: 6.11\n",
      "fill point array: 0.00 seconds\n",
      "fill cell array: 0.00 seconds\n",
      "fill point array: 0.00 seconds\n",
      "fill cell array: 0.00 seconds\n",
      "fill point array: 0.00 seconds\n",
      "fill cell array: 0.00 seconds\n",
      "fill point array: 0.00 seconds\n",
      "fill cell array: 0.00 seconds\n",
      "polydata_to_volume: 0.00\n",
      "polydata_to_volume: 0.00\n",
      "polydata_to_volume: 0.00\n",
      "polydata_to_volume: 0.00\n",
      "find common: 0.01\n",
      "marching cube: 0.07 seconds\n",
      "compute surface area: 0.00 seconds\n",
      "fill point array: 0.01 seconds\n",
      "fill cell array: 0.00 seconds\n",
      "mesh_to_polydata: 0.01 seconds\n",
      "simplify 0 @ 9150: 0.10 seconds\n"
     ]
    },
    {
     "name": "stdout",
     "output_type": "stream",
     "text": [
      "\n",
      "Sp5C"
     ]
    },
    {
     "name": "stderr",
     "output_type": "stream",
     "text": [
      "simplify 1 @ 1831: 0.06 seconds\n",
      "simplify 2 @ 367: 0.01 seconds\n",
      "volume_to_polydata: 0.26\n",
      "icp: 23.04\n",
      "icp: 26.15\n",
      "icp: 31.11\n",
      "fill point array: 0.00 seconds\n",
      "fill cell array: 0.00 seconds\n",
      "fill point array: 0.00 seconds\n",
      "fill cell array: 0.00 seconds\n",
      "fill point array: 0.00 seconds\n",
      "fill cell array: 0.00 seconds\n",
      "fill point array: 0.00 seconds\n",
      "fill cell array: 0.00 seconds\n",
      "polydata_to_volume: 0.01\n",
      "polydata_to_volume: 0.01\n",
      "polydata_to_volume: 0.01\n",
      "polydata_to_volume: 0.01\n",
      "find common: 0.03\n",
      "marching cube: 0.22 seconds\n",
      "compute surface area: 0.01 seconds\n",
      "fill point array: 0.07 seconds\n",
      "fill cell array: 0.00 seconds\n",
      "mesh_to_polydata: 0.07 seconds\n",
      "simplify 0 @ 29304: 0.30 seconds\n",
      "simplify 1 @ 5862: 0.30 seconds\n",
      "simplify 2 @ 1173: 0.06 seconds\n"
     ]
    },
    {
     "name": "stdout",
     "output_type": "stream",
     "text": [
      "\n",
      "VCP"
     ]
    },
    {
     "name": "stderr",
     "output_type": "stream",
     "text": [
      "volume_to_polydata: 0.97\n",
      "icp: 6.50\n",
      "icp: 4.91\n",
      "icp: 5.82\n",
      "fill point array: 0.00 seconds\n",
      "fill cell array: 0.00 seconds\n",
      "fill point array: 0.00 seconds\n",
      "fill cell array: 0.00 seconds\n",
      "fill point array: 0.00 seconds\n",
      "fill cell array: 0.00 seconds\n",
      "fill point array: 0.00 seconds\n",
      "fill cell array: 0.00 seconds\n",
      "polydata_to_volume: 0.00\n",
      "polydata_to_volume: 0.00\n",
      "polydata_to_volume: 0.00\n",
      "polydata_to_volume: 0.00\n",
      "find common: 0.00\n",
      "marching cube: 0.04 seconds\n",
      "compute surface area: 0.00 seconds\n",
      "fill point array: 0.02 seconds\n",
      "fill cell array: 0.00 seconds\n",
      "mesh_to_polydata: 0.02 seconds\n",
      "simplify 0 @ 6839: 0.07 seconds\n"
     ]
    },
    {
     "name": "stdout",
     "output_type": "stream",
     "text": [
      "\n",
      "AP"
     ]
    },
    {
     "name": "stderr",
     "output_type": "stream",
     "text": [
      "simplify 1 @ 1369: 0.06 seconds\n",
      "simplify 2 @ 275: 0.01 seconds\n",
      "volume_to_polydata: 0.20\n",
      "icp: 1.42\n",
      "fill point array: 0.00 seconds\n",
      "fill cell array: 0.00 seconds\n",
      "fill point array: 0.00 seconds\n",
      "fill cell array: 0.00 seconds\n",
      "polydata_to_volume: 0.00\n",
      "polydata_to_volume: 0.00\n",
      "find common: 0.00\n",
      "marching cube: 0.01 seconds\n",
      "compute surface area: 0.00 seconds\n",
      "fill point array: 0.01 seconds\n",
      "fill cell array: 0.00 seconds\n",
      "mesh_to_polydata: 0.01 seconds\n",
      "simplify 0 @ 2326: 0.02 seconds\n",
      "simplify 1 @ 466: 0.02 seconds\n"
     ]
    },
    {
     "name": "stdout",
     "output_type": "stream",
     "text": [
      "\n",
      "PBG"
     ]
    },
    {
     "name": "stderr",
     "output_type": "stream",
     "text": [
      "volume_to_polydata: 0.06\n",
      "icp: 0.98\n",
      "icp: 1.80\n",
      "icp: 1.45\n",
      "fill point array: 0.00 seconds\n",
      "fill cell array: 0.00 seconds\n",
      "fill point array: 0.00 seconds\n",
      "fill cell array: 0.00 seconds\n",
      "fill point array: 0.00 seconds\n",
      "fill cell array: 0.00 seconds\n",
      "fill point array: 0.00 seconds\n",
      "fill cell array: 0.00 seconds\n",
      "polydata_to_volume: 0.00\n",
      "polydata_to_volume: 0.00\n",
      "polydata_to_volume: 0.00\n",
      "polydata_to_volume: 0.00\n",
      "find common: 0.00\n",
      "marching cube: 0.01 seconds\n",
      "compute surface area: 0.00 seconds\n",
      "fill point array: 0.00 seconds\n",
      "fill cell array: 0.00 seconds\n",
      "mesh_to_polydata: 0.00 seconds\n",
      "simplify 0 @ 2329: 0.02 seconds\n",
      "simplify 1 @ 467: 0.02 seconds\n"
     ]
    },
    {
     "name": "stdout",
     "output_type": "stream",
     "text": [
      "\n",
      "LRt"
     ]
    },
    {
     "name": "stderr",
     "output_type": "stream",
     "text": [
      "volume_to_polydata: 0.06\n",
      "icp: 10.81\n",
      "icp: 10.40\n",
      "icp: 12.11\n",
      "fill point array: 0.00 seconds\n",
      "fill cell array: 0.00 seconds\n",
      "fill point array: 0.00 seconds\n",
      "fill cell array: 0.00 seconds\n",
      "fill point array: 0.00 seconds\n",
      "fill cell array: 0.00 seconds\n",
      "fill point array: 0.00 seconds\n",
      "fill cell array: 0.00 seconds\n",
      "polydata_to_volume: 0.00\n",
      "polydata_to_volume: 0.00\n",
      "polydata_to_volume: 0.00\n",
      "polydata_to_volume: 0.01\n",
      "find common: 0.00\n",
      "marching cube: 0.05 seconds\n",
      "compute surface area: 0.00 seconds\n",
      "fill point array: 0.02 seconds\n",
      "fill cell array: 0.00 seconds\n",
      "mesh_to_polydata: 0.02 seconds\n",
      "simplify 0 @ 10823: 0.10 seconds\n"
     ]
    },
    {
     "name": "stdout",
     "output_type": "stream",
     "text": [
      "\n",
      "IC"
     ]
    },
    {
     "name": "stderr",
     "output_type": "stream",
     "text": [
      "simplify 1 @ 2166: 0.09 seconds\n",
      "simplify 2 @ 434: 0.02 seconds\n",
      "volume_to_polydata: 0.30\n",
      "icp: 87.52\n",
      "fill point array: 0.00 seconds\n",
      "fill cell array: 0.00 seconds\n",
      "fill point array: 0.00 seconds\n",
      "fill cell array: 0.00 seconds\n",
      "polydata_to_volume: 0.06\n",
      "polydata_to_volume: 0.06\n",
      "find common: 0.05\n",
      "marching cube: 0.39 seconds\n",
      "compute surface area: 0.02 seconds\n",
      "fill point array: 0.08 seconds\n",
      "fill cell array: 0.00 seconds\n",
      "mesh_to_polydata: 0.08 seconds\n",
      "simplify 0 @ 59477: 0.63 seconds\n",
      "simplify 1 @ 11897: 0.57 seconds\n",
      "simplify 2 @ 2381: 0.11 seconds\n"
     ]
    },
    {
     "name": "stdout",
     "output_type": "stream",
     "text": [
      "\n",
      "LC"
     ]
    },
    {
     "name": "stderr",
     "output_type": "stream",
     "text": [
      "volume_to_polydata: 1.81\n",
      "icp: 1.63\n",
      "icp: 1.42\n",
      "icp: 1.27\n",
      "fill point array: 0.00 seconds\n",
      "fill cell array: 0.00 seconds\n",
      "fill point array: 0.00 seconds\n",
      "fill cell array: 0.00 seconds\n",
      "fill point array: 0.00 seconds\n",
      "fill cell array: 0.00 seconds\n",
      "fill point array: 0.00 seconds\n",
      "fill cell array: 0.00 seconds\n",
      "polydata_to_volume: 0.00\n",
      "polydata_to_volume: 0.00\n",
      "polydata_to_volume: 0.00\n",
      "polydata_to_volume: 0.00\n",
      "find common: 0.00\n",
      "marching cube: 0.01 seconds\n",
      "compute surface area: 0.00 seconds\n",
      "fill point array: 0.00 seconds\n",
      "fill cell array: 0.00 seconds\n",
      "mesh_to_polydata: 0.00 seconds\n",
      "simplify 0 @ 3647: 0.03 seconds\n",
      "simplify 1 @ 731: 0.02 seconds\n"
     ]
    },
    {
     "name": "stdout",
     "output_type": "stream",
     "text": [
      "\n",
      "4N"
     ]
    },
    {
     "name": "stderr",
     "output_type": "stream",
     "text": [
      "volume_to_polydata: 0.07\n",
      "icp: 0.78\n",
      "icp: 0.98\n",
      "icp: 0.79\n"
     ]
    },
    {
     "name": "stdout",
     "output_type": "stream",
     "text": [
      "\n",
      "SNC"
     ]
    },
    {
     "name": "stderr",
     "output_type": "stream",
     "text": [
      "fill point array: 0.00 seconds\n",
      "fill cell array: 0.00 seconds\n",
      "fill point array: 0.00 seconds\n",
      "fill cell array: 0.00 seconds\n",
      "fill point array: 0.00 seconds\n",
      "fill cell array: 0.00 seconds\n",
      "fill point array: 0.00 seconds\n",
      "fill cell array: 0.00 seconds\n",
      "polydata_to_volume: 0.00\n",
      "polydata_to_volume: 0.00\n",
      "polydata_to_volume: 0.00\n",
      "polydata_to_volume: 0.00\n",
      "find common: 0.00\n",
      "marching cube: 0.00 seconds\n",
      "compute surface area: 0.00 seconds\n",
      "fill point array: 0.00 seconds\n",
      "fill cell array: 0.00 seconds\n",
      "mesh_to_polydata: 0.00 seconds\n",
      "simplify 0 @ 345: 0.00 seconds\n",
      "volume_to_polydata: 0.01\n",
      "icp: 4.18\n",
      "icp: 4.56\n",
      "icp: 2.66\n",
      "fill point array: 0.00 seconds\n",
      "fill cell array: 0.00 seconds\n",
      "fill point array: 0.00 seconds\n",
      "fill cell array: 0.00 seconds\n",
      "fill point array: 0.00 seconds\n",
      "fill cell array: 0.00 seconds\n",
      "fill point array: 0.00 seconds\n",
      "fill cell array: 0.00 seconds\n",
      "polydata_to_volume: 0.00\n",
      "polydata_to_volume: 0.00\n",
      "polydata_to_volume: 0.00\n",
      "polydata_to_volume: 0.00\n",
      "find common: 0.00\n",
      "marching cube: 0.03 seconds\n",
      "compute surface area: 0.00 seconds\n",
      "fill point array: 0.01 seconds\n",
      "fill cell array: 0.00 seconds\n",
      "mesh_to_polydata: 0.01 seconds\n",
      "simplify 0 @ 7534: 0.04 seconds\n",
      "simplify 1 @ 1508: 0.05 seconds\n"
     ]
    },
    {
     "name": "stdout",
     "output_type": "stream",
     "text": [
      "\n",
      "6N"
     ]
    },
    {
     "name": "stderr",
     "output_type": "stream",
     "text": [
      "simplify 2 @ 303: 0.01 seconds\n",
      "volume_to_polydata: 0.15\n",
      "icp: 1.06\n",
      "icp: 0.15\n",
      "icp: 1.50\n"
     ]
    },
    {
     "name": "stdout",
     "output_type": "stream",
     "text": [
      "\n",
      "SNR"
     ]
    },
    {
     "name": "stderr",
     "output_type": "stream",
     "text": [
      "fill point array: 0.00 seconds\n",
      "fill cell array: 0.00 seconds\n",
      "fill point array: 0.00 seconds\n",
      "fill cell array: 0.00 seconds\n",
      "fill point array: 0.00 seconds\n",
      "fill cell array: 0.00 seconds\n",
      "fill point array: 0.00 seconds\n",
      "fill cell array: 0.00 seconds\n",
      "polydata_to_volume: 0.00\n",
      "polydata_to_volume: 0.00\n",
      "polydata_to_volume: 0.00\n",
      "polydata_to_volume: 0.00\n",
      "find common: 0.00\n",
      "marching cube: 0.00 seconds\n",
      "compute surface area: 0.00 seconds\n",
      "fill point array: 0.00 seconds\n",
      "fill cell array: 0.00 seconds\n",
      "mesh_to_polydata: 0.00 seconds\n",
      "simplify 0 @ 645: 0.01 seconds\n",
      "volume_to_polydata: 0.01\n",
      "icp: 17.82\n",
      "icp: 22.34\n",
      "icp: 20.26\n",
      "fill point array: 0.00 seconds\n",
      "fill cell array: 0.00 seconds\n",
      "fill point array: 0.00 seconds\n",
      "fill cell array: 0.00 seconds\n",
      "fill point array: 0.00 seconds\n",
      "fill cell array: 0.00 seconds\n",
      "fill point array: 0.00 seconds\n",
      "fill cell array: 0.00 seconds\n",
      "polydata_to_volume: 0.01\n",
      "polydata_to_volume: 0.01\n",
      "polydata_to_volume: 0.01\n",
      "polydata_to_volume: 0.01\n",
      "find common: 0.02\n",
      "marching cube: 0.14 seconds\n",
      "compute surface area: 0.01 seconds\n",
      "fill point array: 0.03 seconds\n",
      "fill cell array: 0.00 seconds\n",
      "mesh_to_polydata: 0.03 seconds\n",
      "simplify 0 @ 28227: 0.19 seconds\n"
     ]
    },
    {
     "name": "stdout",
     "output_type": "stream",
     "text": [
      "\n",
      "SC"
     ]
    },
    {
     "name": "stderr",
     "output_type": "stream",
     "text": [
      "simplify 1 @ 5647: 0.23 seconds\n",
      "simplify 2 @ 1131: 0.04 seconds\n",
      "volume_to_polydata: 0.65\n",
      "icp: 147.92\n",
      "fill point array: 0.01 seconds\n",
      "fill cell array: 0.00 seconds\n",
      "fill point array: 0.01 seconds\n",
      "fill cell array: 0.00 seconds\n",
      "polydata_to_volume: 0.10\n",
      "polydata_to_volume: 0.09\n",
      "find common: 0.15\n",
      "marching cube: 0.68 seconds\n",
      "compute surface area: 0.02 seconds\n",
      "fill point array: 0.12 seconds\n",
      "fill cell array: 0.00 seconds\n",
      "mesh_to_polydata: 0.12 seconds\n",
      "simplify 0 @ 96553: 0.86 seconds\n",
      "simplify 1 @ 19312: 1.28 seconds\n",
      "simplify 2 @ 3864: 0.18 seconds\n"
     ]
    },
    {
     "name": "stdout",
     "output_type": "stream",
     "text": [
      "\n",
      "RtTg"
     ]
    },
    {
     "name": "stderr",
     "output_type": "stream",
     "text": [
      "volume_to_polydata: 3.16\n",
      "icp: 31.87\n",
      "fill point array: 0.00 seconds\n",
      "fill cell array: 0.00 seconds\n",
      "fill point array: 0.00 seconds\n",
      "fill cell array: 0.00 seconds\n",
      "polydata_to_volume: 0.01\n",
      "polydata_to_volume: 0.01\n",
      "find common: 0.01\n",
      "marching cube: 0.12 seconds\n",
      "compute surface area: 0.01 seconds\n",
      "fill point array: 0.03 seconds\n",
      "fill cell array: 0.00 seconds\n",
      "mesh_to_polydata: 0.03 seconds\n",
      "simplify 0 @ 21283: 0.20 seconds\n"
     ]
    },
    {
     "name": "stdout",
     "output_type": "stream",
     "text": [
      "\n"
     ]
    },
    {
     "name": "stderr",
     "output_type": "stream",
     "text": [
      "simplify 1 @ 4249: 0.16 seconds\n",
      "simplify 2 @ 853: 0.03 seconds\n",
      "volume_to_polydata: 0.55\n"
     ]
    }
   ],
   "source": [
    "for name_u in all_names:\n",
    "\n",
    "    print name_u\n",
    "    \n",
    "    vertices_list = []\n",
    "    faces_list = []\n",
    "    \n",
    "    if name_u in singular_structures:\n",
    "        \n",
    "        fn = os.path.join(MESH_ROOTDIR, stack_fixed, \"%(stack)s_down32_annotationVolume_%(name)s_smoothed.stl\" % \\\n",
    "                              {'stack': stack_fixed, 'name': name_u})\n",
    "\n",
    "        vertices, faces = load_mesh_stl(fn)\n",
    "\n",
    "        vertices_mirrored = vertices.copy()\n",
    "        zmean = vertices[:,2].mean(axis=0)\n",
    "        vertices_mirrored[:, 2] = - (vertices[:, 2] - zmean) + zmean # mirror L to align with R, keep zmin        \n",
    "\n",
    "        vertices_list.append(vertices)\n",
    "        faces_list.append(faces)\n",
    "\n",
    "        vertices_list.append(vertices_mirrored)\n",
    "        faces_list.append(faces)\n",
    "        \n",
    "        centroid = vertices.mean(axis=0)\n",
    "        centroid_allLandmarks[name_u].append(centroid)\n",
    "\n",
    "        centroid_anchor = centroid.copy()\n",
    "        \n",
    "    \n",
    "    else:\n",
    "    \n",
    "        lname = convert_to_left_name(name_u)\n",
    "        rname = convert_to_right_name(name_u)\n",
    "\n",
    "        if lname in name_to_label_f:\n",
    "\n",
    "            ############## Left #############\n",
    "\n",
    "            fn = os.path.join(mesh_rootdir, stack_fixed, \"%(stack)s_down32_annotationVolume_%(name)s_smoothed.stl\" % \\\n",
    "                              {'stack': stack_fixed, 'name': lname})\n",
    "\n",
    "            vertices, faces = load_mesh_stl(fn)\n",
    "\n",
    "            zmean = vertices[:,2].mean(axis=0)\n",
    "            vertices[:, 2] = - (vertices[:, 2] - zmean) + zmean # mirror L to align with R, keep zmin\n",
    "\n",
    "            vertices_list.append(vertices)\n",
    "            faces_list.append(faces)\n",
    "\n",
    "            centroid = vertices.mean(axis=0)\n",
    "            centroid_allLandmarks[lname].append(centroid)\n",
    "\n",
    "            centroid_anchor = centroid.copy()\n",
    "\n",
    "\n",
    "        if rname in name_to_label_f:\n",
    "\n",
    "            ################# Right ##############  \n",
    "\n",
    "\n",
    "            fn = os.path.join(mesh_rootdir, stack_fixed, \"%(stack)s_down32_annotationVolume_%(name)s_smoothed.stl\" % \\\n",
    "                              {'stack': stack_fixed, 'name': rname})\n",
    "\n",
    "            vertices, faces = load_mesh_stl(fn)\n",
    "\n",
    "            vertices_list.append(vertices)\n",
    "            faces_list.append(faces)\n",
    "\n",
    "            centroid = vertices.mean(axis=0)\n",
    "            centroid_allLandmarks[rname].append(centroid)\n",
    "\n",
    "\n",
    "        if lname in name_to_label_m:\n",
    "\n",
    "            fn = os.path.join(m_alignedTo_f_meshes_dir, \n",
    "                          \"%(stack_moving)s_down32_annotationVolume_alignedTo_%(stack_fixed)s_down32_annotationVolume_%(name)s_smoothed.stl\" %\\\n",
    "                          {'stack_moving': stack_moving, 'stack_fixed': stack_fixed, 'name': lname})\n",
    "\n",
    "            vertices, faces = load_mesh_stl(fn)\n",
    "\n",
    "            zmean = vertices[:,2].mean(axis=0)\n",
    "            vertices[:, 2] = - (vertices[:, 2] - zmean) + zmean # mirror L to align with R, keep zmin\n",
    "\n",
    "            vertices_list.append(vertices)\n",
    "            faces_list.append(faces)\n",
    "\n",
    "\n",
    "            centroid = vertices.mean(axis=0)\n",
    "            centroid_allLandmarks[lname].append(centroid)\n",
    "\n",
    "        if rname in name_to_label_m:\n",
    "\n",
    "            fn = os.path.join(m_alignedTo_f_meshes_dir, \n",
    "                          \"%(stack_moving)s_down32_annotationVolume_alignedTo_%(stack_fixed)s_down32_annotationVolume_%(name)s_smoothed.stl\" %\\\n",
    "                          {'stack_moving': stack_moving, 'stack_fixed': stack_fixed, 'name': rname})\n",
    "            vertices, faces = load_mesh_stl(fn)\n",
    "\n",
    "            vertices_list.append(vertices)\n",
    "            faces_list.append(faces)\n",
    "\n",
    "            centroid = vertices.mean(axis=0)\n",
    "            centroid_allLandmarks[rname].append(centroid)\n",
    "        \n",
    "        \n",
    "    ##############################\n",
    "    \n",
    "    vertices_aligned_list = [] # all meshes in this list have vertices centered at (0,0)\n",
    "\n",
    "    for i, vertices in enumerate(vertices_list):\n",
    "\n",
    "        if i == 0:\n",
    "            vertices1 = vertices.copy()\n",
    "            vertices_aligned_list.append(vertices1 - vertices1.mean(axis=0))\n",
    "        else:            \n",
    "            t = time.time()                    \n",
    "            vertices_alignedTo1 = icp(fixed_pts=vertices1, moving_pts=vertices, num_iter=100, rotation_only=True)\n",
    "            sys.stderr.write('icp: %.2f\\n' % (time.time() - t))\n",
    "\n",
    "            vertices_aligned_list.append(vertices_alignedTo1 - vertices_alignedTo1.mean(axis=0))\n",
    "\n",
    "    ################################\n",
    "    \n",
    "    polydata_list = [mesh_to_polydata(vs, fs) for vs, fs in zip(vertices_aligned_list, faces_list)]\n",
    "    \n",
    "    polydata_list_allLandmarks[name_u] = polydata_list\n",
    "        \n",
    "    average_volume, average_volume_origin, average_polydata = average_shape(polydata_list, num_simplify_iter=3, smooth=True)\n",
    "    # these all have centroid at (0,0,0)\n",
    "    \n",
    "    average_polydata_allLandmarks[name_u] = average_polydata\n",
    "    average_volume_allLandmarks[name_u] = average_volume\n",
    "    average_volume_origin_allLandmarks[name_u] = average_volume_origin\n",
    "    \n",
    "    \n",
    "#     instance_actors = [actor_mesh(polydata, np.random.randint(0,255,3)/255., opacity=.5, wireframe=True) \n",
    "#                    for polydata in polydata_list_allLandmarks[name_u]]\n",
    "\n",
    "#     average_mesh_actor = actor_mesh(average_polydata_allLandmarks[name_u], (1,1,1), opacity=.5, wireframe=True)\n",
    "#     launch_vtk(instance_actors + [average_mesh_actor])\n",
    "    \n",
    "#     average_volume_actor = actor_volume(average_volume.astype(np.float32), \n",
    "#                                         what='probability', origin=average_volume_origin)\n",
    "#     launch_vtk(instance_actors + [average_volume_actor])"
   ]
  },
  {
   "cell_type": "code",
   "execution_count": null,
   "metadata": {
    "collapsed": false
   },
   "outputs": [],
   "source": [
    "# Take pics of different instances of 7N separately\n",
    "\n",
    "for i, polydata in enumerate(polydata_list_allLandmarks['7N']):\n",
    "    instance_actors = actor_mesh(polydata, [(1,0,0),(0,1,0),(0,0,1),(1,1,0)][i], opacity=1, wireframe=False)\n",
    "    launch_vtk([instance_actors], snapshot_fn='/home/yuncong/7N_%d.png' % i, interactive=True, init_angle='coronal')"
   ]
  },
  {
   "cell_type": "code",
   "execution_count": null,
   "metadata": {
    "collapsed": false
   },
   "outputs": [],
   "source": [
    "# Take pic of different instances of 7N shown aligned together\n",
    "\n",
    "instance_actors = [actor_mesh(polydata, [(1,0,0),(0,1,0),(0,0,1),(1,1,0)][i], opacity=.5, wireframe=True) \n",
    "                   for i, polydata in enumerate(polydata_list_allLandmarks['7N'])]\n",
    "launch_vtk(instance_actors, snapshot_fn='/home/yuncong/7N_aligned.png', interactive=False, init_angle='coronal')"
   ]
  },
  {
   "cell_type": "code",
   "execution_count": null,
   "metadata": {
    "collapsed": false
   },
   "outputs": [],
   "source": [
    "# Take pic of merged probabilistic volume of 7N\n",
    "\n",
    "average_volume_actor = actor_volume(average_volume_allLandmarks['7N'].astype(np.float32), \n",
    "                                        what='probability', origin=average_volume_origin_allLandmarks['7N'])\n",
    "launch_vtk([average_volume_actor], snapshot_fn='/home/yuncong/7N_prob.png', interactive=False, init_angle='coronal')"
   ]
  },
  {
   "cell_type": "code",
   "execution_count": null,
   "metadata": {
    "collapsed": false
   },
   "outputs": [],
   "source": [
    "# Take pic of merged probabilistic volume of 7N, thresholded at .5\n",
    "\n",
    "actor = actor_mesh(average_polydata_allLandmarks['7N'], [1,1,1], opacity=.5, wireframe=True)\n",
    "launch_vtk([actor], snapshot_fn='/home/yuncong/7N_thresholded.png', interactive=False, init_angle='coronal')"
   ]
  },
  {
   "cell_type": "code",
   "execution_count": 27,
   "metadata": {
    "collapsed": false
   },
   "outputs": [
    {
     "name": "stdout",
     "output_type": "stream",
     "text": [
      "[ 0.03550233 -0.09604324  0.99474382] @ [ 796.99383545  373.38763428  308.71014404]\n"
     ]
    }
   ],
   "source": [
    "canonical_locations, canonical_centroid, canonical_normal = average_location(centroid_allLandmarks)"
   ]
  },
  {
   "cell_type": "code",
   "execution_count": 28,
   "metadata": {
    "collapsed": false,
    "scrolled": true
   },
   "outputs": [
    {
     "name": "stderr",
     "output_type": "stream",
     "text": [
      "fill point array: 0.00 seconds\n",
      "fill cell array: 0.00 seconds\n",
      "fill point array: 0.00 seconds\n",
      "fill cell array: 0.00 seconds\n",
      "fill point array: 0.00 seconds\n",
      "fill cell array: 0.00 seconds\n",
      "fill point array: 0.00 seconds\n",
      "fill cell array: 0.00 seconds\n",
      "fill point array: 0.00 seconds\n",
      "fill cell array: 0.00 seconds\n",
      "fill point array: 0.00 seconds\n",
      "fill cell array: 0.00 seconds\n",
      "fill point array: 0.00 seconds\n",
      "fill cell array: 0.00 seconds\n",
      "fill point array: 0.00 seconds\n",
      "fill cell array: 0.00 seconds\n",
      "fill point array: 0.00 seconds\n",
      "fill cell array: 0.00 seconds\n",
      "fill point array: 0.00 seconds\n",
      "fill cell array: 0.00 seconds\n",
      "fill point array: 0.00 seconds\n",
      "fill cell array: 0.00 seconds\n",
      "fill point array: 0.00 seconds\n",
      "fill cell array: 0.00 seconds\n",
      "fill point array: 0.00 seconds\n",
      "fill cell array: 0.00 seconds\n",
      "fill point array: 0.00 seconds\n",
      "fill cell array: 0.00 seconds\n",
      "fill point array: 0.00 seconds\n",
      "fill cell array: 0.00 seconds\n",
      "fill point array: 0.00 seconds\n",
      "fill cell array: 0.00 seconds\n",
      "fill point array: 0.00 seconds\n",
      "fill cell array: 0.00 seconds\n",
      "fill point array: 0.00 seconds\n",
      "fill cell array: 0.00 seconds\n",
      "fill point array: 0.00 seconds\n",
      "fill cell array: 0.00 seconds\n",
      "fill point array: 0.00 seconds\n",
      "fill cell array: 0.00 seconds\n",
      "fill point array: 0.00 seconds\n",
      "fill cell array: 0.00 seconds\n",
      "fill point array: 0.00 seconds\n",
      "fill cell array: 0.00 seconds\n",
      "fill point array: 0.00 seconds\n",
      "fill cell array: 0.00 seconds\n",
      "fill point array: 0.00 seconds\n",
      "fill cell array: 0.00 seconds\n",
      "fill point array: 0.00 seconds\n",
      "fill cell array: 0.00 seconds\n",
      "fill point array: 0.00 seconds\n",
      "fill cell array: 0.00 seconds\n",
      "fill point array: 0.00 seconds\n",
      "fill cell array: 0.00 seconds\n",
      "fill point array: 0.00 seconds\n",
      "fill cell array: 0.00 seconds\n",
      "fill point array: 0.00 seconds\n",
      "fill cell array: 0.00 seconds\n",
      "fill point array: 0.00 seconds\n",
      "fill cell array: 0.00 seconds\n",
      "fill point array: 0.00 seconds\n",
      "fill cell array: 0.00 seconds\n",
      "fill point array: 0.00 seconds\n",
      "fill cell array: 0.00 seconds\n",
      "fill point array: 0.00 seconds\n",
      "fill cell array: 0.00 seconds\n",
      "fill point array: 0.00 seconds\n",
      "fill cell array: 0.00 seconds\n",
      "fill point array: 0.00 seconds\n",
      "fill cell array: 0.00 seconds\n",
      "fill point array: 0.00 seconds\n",
      "fill cell array: 0.00 seconds\n",
      "fill point array: 0.00 seconds\n",
      "fill cell array: 0.00 seconds\n",
      "fill point array: 0.00 seconds\n",
      "fill cell array: 0.00 seconds\n",
      "fill point array: 0.00 seconds\n",
      "fill cell array: 0.00 seconds\n",
      "fill point array: 0.00 seconds\n",
      "fill cell array: 0.00 seconds\n",
      "fill point array: 0.00 seconds\n",
      "fill cell array: 0.00 seconds\n",
      "fill point array: 0.00 seconds\n",
      "fill cell array: 0.00 seconds\n",
      "fill point array: 0.00 seconds\n",
      "fill cell array: 0.00 seconds\n",
      "fill point array: 0.00 seconds\n",
      "fill cell array: 0.00 seconds\n",
      "fill point array: 0.00 seconds\n",
      "fill cell array: 0.00 seconds\n",
      "fill point array: 0.00 seconds\n",
      "fill cell array: 0.00 seconds\n",
      "fill point array: 0.00 seconds\n",
      "fill cell array: 0.00 seconds\n",
      "fill point array: 0.00 seconds\n",
      "fill cell array: 0.00 seconds\n",
      "fill point array: 0.00 seconds\n",
      "fill cell array: 0.00 seconds\n",
      "fill point array: 0.00 seconds\n",
      "fill cell array: 0.00 seconds\n",
      "fill point array: 0.00 seconds\n",
      "fill cell array: 0.00 seconds\n"
     ]
    }
   ],
   "source": [
    "for name_u in all_names:\n",
    "    \n",
    "    if name_u in singular_structures:\n",
    "        centroid = canonical_locations[name_u]\n",
    "\n",
    "        average_volume = average_volume_allLandmarks[name_u]\n",
    "        average_volume_origin = average_volume_origin_allLandmarks[name_u]\n",
    "        average_polydata = average_polydata_allLandmarks[name_u]\n",
    "\n",
    "        atlas_space_structure_volumes[name_u] = (average_volume, \n",
    "                                            centroid + average_volume_origin)\n",
    "        \n",
    "        vs, fs = polydata_to_mesh(average_polydata)\n",
    "        atlas_space_structure_meshes[name_u] = mesh_to_polydata(vs + centroid, fs)\n",
    "        \n",
    "    else:\n",
    "    \n",
    "        lname = convert_to_left_name(name_u)\n",
    "        rname = convert_to_right_name(name_u)\n",
    "\n",
    "        centroid_r = canonical_locations[rname]\n",
    "        centroid_l = canonical_locations[lname]\n",
    "\n",
    "        average_volume = average_volume_allLandmarks[name_u]\n",
    "        average_volume_origin = average_volume_origin_allLandmarks[name_u]\n",
    "        average_polydata = average_polydata_allLandmarks[name_u]\n",
    "\n",
    "        atlas_space_structure_volumes[rname] = (average_volume, \n",
    "                                            centroid_r + average_volume_origin)\n",
    "        atlas_space_structure_volumes[lname] = mirror_volume(average_volume, \n",
    "                                             centroid_l + average_volume_origin*(1,1,-1))\n",
    "\n",
    "        vs, fs = polydata_to_mesh(average_polydata)\n",
    "        atlas_space_structure_meshes[rname] = mesh_to_polydata(vs + centroid_r, fs)\n",
    "        atlas_space_structure_meshes[lname] = mesh_to_polydata(vs*(1,1,-1) + centroid_l, fs)"
   ]
  },
  {
   "cell_type": "code",
   "execution_count": 29,
   "metadata": {
    "collapsed": false
   },
   "outputs": [],
   "source": [
    "all_atlas_structure_volume_actors = []\n",
    "\n",
    "for name_u in all_names:\n",
    "    \n",
    "    if name_u in singular_structures:\n",
    "\n",
    "        volume, origin = atlas_space_structure_volumes[name_u]\n",
    "        structure_volume_actor = actor_volume(volume.astype(np.float32), what='probability', origin=origin, c=colors[name_u])\n",
    "\n",
    "        all_atlas_structure_volume_actors.append(structure_volume_actor)\n",
    "\n",
    "    else:\n",
    "    \n",
    "        lname = convert_to_left_name(name_u)\n",
    "        volume, origin = atlas_space_structure_volumes[lname]\n",
    "        structure_volume_actor = actor_volume(volume.astype(np.float32), what='probability', origin=origin, c=colors[name_u])\n",
    "\n",
    "        all_atlas_structure_volume_actors.append(structure_volume_actor)\n",
    "\n",
    "        rname = convert_to_right_name(name_u)\n",
    "        volume, origin = atlas_space_structure_volumes[rname]\n",
    "        structure_volume_actor = actor_volume(volume.astype(np.float32), what='probability', origin=origin, c=colors[name_u])\n",
    "\n",
    "        all_atlas_structure_volume_actors.append(structure_volume_actor)"
   ]
  },
  {
   "cell_type": "code",
   "execution_count": 30,
   "metadata": {
    "collapsed": false
   },
   "outputs": [],
   "source": [
    "launch_vtk(all_atlas_structure_volume_actors, init_angle='sagittal', background_color=(0,0,0))"
   ]
  },
  {
   "cell_type": "code",
   "execution_count": 31,
   "metadata": {
    "collapsed": false
   },
   "outputs": [
    {
     "data": {
      "text/plain": [
       "'/home/yuncong/CSHL_meshes/atlas/structure_mesh'"
      ]
     },
     "execution_count": 31,
     "metadata": {},
     "output_type": "execute_result"
    }
   ],
   "source": [
    "create_if_not_exists(os.path.join(MESH_ROOTDIR, 'atlas', 'structure_mesh'))"
   ]
  },
  {
   "cell_type": "code",
   "execution_count": 32,
   "metadata": {
    "collapsed": false
   },
   "outputs": [],
   "source": [
    "for name_s, p in atlas_space_structure_meshes.iteritems():\n",
    "    save_mesh_stl(p, os.path.join(MESH_ROOTDIR, 'atlas', 'structure_mesh', 'mesh_%s.stl'%name_s))"
   ]
  },
  {
   "cell_type": "code",
   "execution_count": 33,
   "metadata": {
    "collapsed": false
   },
   "outputs": [
    {
     "data": {
      "text/plain": [
       "'/home/yuncong/CSHL_meshes/atlas/structure_prob_volume'"
      ]
     },
     "execution_count": 33,
     "metadata": {},
     "output_type": "execute_result"
    }
   ],
   "source": [
    "create_if_not_exists(os.path.join(MESH_ROOTDIR, 'atlas', 'structure_prob_volume'))"
   ]
  },
  {
   "cell_type": "code",
   "execution_count": 34,
   "metadata": {
    "collapsed": false
   },
   "outputs": [],
   "source": [
    "for name_s, (volume, origin) in atlas_space_structure_volumes.iteritems():\n",
    "    bp.pack_ndarray_file(volume, os.path.join(MESH_ROOTDIR, 'atlas', 'structure_prob_volume', 'prob_volume_%s.bp'%name_s))\n",
    "    np.savetxt(os.path.join(MESH_ROOTDIR, 'atlas', 'structure_prob_volume', 'prob_volume_origin_%s.txt'%name_s), origin)"
   ]
  },
  {
   "cell_type": "code",
   "execution_count": 35,
   "metadata": {
    "collapsed": true
   },
   "outputs": [],
   "source": [
    "def write_dict_to_txt(d, fn):\n",
    "    with open(fn, 'w') as f:\n",
    "        for k, vals in d.iteritems():\n",
    "            f.write(k + ' ' +  (' '.join(['%f']*len(vals))) % tuple(vals) + '\\n')"
   ]
  },
  {
   "cell_type": "code",
   "execution_count": 36,
   "metadata": {
    "collapsed": false
   },
   "outputs": [],
   "source": [
    "write_dict_to_txt(canonical_locations, os.path.join(MESH_ROOTDIR, 'atlas', 'canonical_locations.txt'))\n",
    "np.savetxt(os.path.join(MESH_ROOTDIR, 'atlas', 'canonical_centroid.txt'), canonical_centroid)\n",
    "np.savetxt(os.path.join(MESH_ROOTDIR, 'atlas', 'canonical_normal.txt'), canonical_normal)"
   ]
  },
  {
   "cell_type": "code",
   "execution_count": null,
   "metadata": {
    "collapsed": true
   },
   "outputs": [],
   "source": []
  },
  {
   "cell_type": "code",
   "execution_count": 22,
   "metadata": {
    "collapsed": true
   },
   "outputs": [],
   "source": [
    "def read_dict_from_txt(fn):\n",
    "    d = {}\n",
    "    with open(fn, 'r') as f:\n",
    "        for line in f.readlines():\n",
    "            items = line.split()\n",
    "            d[items[0]] = np.array(map(np.float, items[1:]))\n",
    "    return d"
   ]
  },
  {
   "cell_type": "code",
   "execution_count": 23,
   "metadata": {
    "collapsed": false
   },
   "outputs": [],
   "source": [
    "# Load canonical info\n",
    "\n",
    "canonical_locations = read_dict_from_txt(os.path.join(MESH_ROOTDIR, 'atlas', 'canonical_locations.txt'))\n",
    "canonical_centroid = np.loadtxt(os.path.join(MESH_ROOTDIR, 'atlas', 'canonical_centroid.txt'))\n",
    "canonical_normal = np.loadtxt(os.path.join(MESH_ROOTDIR, 'atlas', 'canonical_normal.txt'))"
   ]
  },
  {
   "cell_type": "code",
   "execution_count": 24,
   "metadata": {
    "collapsed": false
   },
   "outputs": [],
   "source": [
    "# Load atlas meshes\n",
    "\n",
    "atlas_space_structure_meshes = {}\n",
    "\n",
    "for name_u in all_names:\n",
    "    \n",
    "    if name_u in singular_structures:\n",
    "        atlas_space_structure_meshes[name_u] = load_mesh_stl(os.path.join(MESH_ROOTDIR, 'atlas', 'structure_mesh', 'mesh_%s.stl'%name_u),\n",
    "                                                            return_polydata_only=True)\n",
    "        \n",
    "    else:\n",
    "    \n",
    "        lname = convert_to_left_name(name_u)\n",
    "        rname = convert_to_right_name(name_u)\n",
    "\n",
    "        atlas_space_structure_meshes[rname] = load_mesh_stl(os.path.join(MESH_ROOTDIR, 'atlas', 'structure_mesh', 'mesh_%s.stl'%rname),\n",
    "                                                           return_polydata_only=True)\n",
    "        atlas_space_structure_meshes[lname] = load_mesh_stl(os.path.join(MESH_ROOTDIR, 'atlas', 'structure_mesh', 'mesh_%s.stl'%lname),\n",
    "                                                           return_polydata_only=True)"
   ]
  },
  {
   "cell_type": "code",
   "execution_count": 25,
   "metadata": {
    "collapsed": false
   },
   "outputs": [],
   "source": [
    "# Create atlas mesh actors\n",
    "\n",
    "all_atlas_structure_mesh_actors = []\n",
    "\n",
    "for name_u in all_names:\n",
    "    \n",
    "    if name_u in singular_structures:\n",
    "        \n",
    "        structure_mesh_actor = actor_mesh(atlas_space_structure_meshes[name_u], color=colors[name_u])\n",
    "        all_atlas_structure_mesh_actors.append(structure_mesh_actor)\n",
    "        \n",
    "    else:\n",
    "    \n",
    "        lname = convert_to_left_name(name_u)\n",
    "        structure_mesh_actor = actor_mesh(atlas_space_structure_meshes[lname], color=colors[name_u])\n",
    "        all_atlas_structure_mesh_actors.append(structure_mesh_actor)\n",
    "\n",
    "        rname = convert_to_right_name(name_u)\n",
    "        structure_mesh_actor = actor_mesh(atlas_space_structure_meshes[rname], color=colors[name_u])\n",
    "        all_atlas_structure_mesh_actors.append(structure_mesh_actor)"
   ]
  },
  {
   "cell_type": "code",
   "execution_count": 26,
   "metadata": {
    "collapsed": false
   },
   "outputs": [],
   "source": [
    "# Load structure prob volumes\n",
    "\n",
    "atlas_space_structure_volumes = {}\n",
    "\n",
    "for name_u in all_names:\n",
    "    \n",
    "    if name_u in singular_structures:\n",
    "        volume = bp.unpack_ndarray_file(os.path.join(MESH_ROOTDIR, 'atlas', 'structure_prob_volume', 'prob_volume_%s.bp'%name_u))\n",
    "        origin = np.loadtxt(os.path.join(MESH_ROOTDIR, 'atlas', 'structure_prob_volume', 'prob_volume_origin_%s.txt'%name_u))\n",
    "\n",
    "        atlas_space_structure_volumes[name_u] = (volume, origin)\n",
    "        \n",
    "    \n",
    "    else:\n",
    "        lname = convert_to_left_name(name_u)\n",
    "            \n",
    "        volume = bp.unpack_ndarray_file(os.path.join(MESH_ROOTDIR, 'atlas', 'structure_prob_volume', 'prob_volume_%s.bp'%lname))\n",
    "        origin = np.loadtxt(os.path.join(MESH_ROOTDIR, 'atlas', 'structure_prob_volume', 'prob_volume_origin_%s.txt'%lname))\n",
    "\n",
    "        atlas_space_structure_volumes[lname] = (volume, origin)\n",
    "        \n",
    "        rname = convert_to_right_name(name_u)\n",
    "        \n",
    "        volume = bp.unpack_ndarray_file(os.path.join(MESH_ROOTDIR, 'atlas', 'structure_prob_volume', 'prob_volume_%s.bp'%rname))\n",
    "        origin = np.loadtxt(os.path.join(MESH_ROOTDIR, 'atlas', 'structure_prob_volume', 'prob_volume_origin_%s.txt'%rname))\n",
    "\n",
    "        atlas_space_structure_volumes[rname] = (volume, origin)"
   ]
  },
  {
   "cell_type": "code",
   "execution_count": 27,
   "metadata": {
    "collapsed": true
   },
   "outputs": [],
   "source": [
    "# Create actors for structure prob volumes\n",
    "\n",
    "all_atlas_structure_volume_actors = []\n",
    "\n",
    "for name_s, (volume, origin) in atlas_space_structure_volumes.iteritems():\n",
    "    \n",
    "    name_u = convert_name_to_unsided(name_s)\n",
    "\n",
    "    structure_volume_actor = actor_volume(volume.astype(np.float32), what='probability', origin=origin, c=colors[name_u])\n",
    "    all_atlas_structure_volume_actors.append(structure_volume_actor)"
   ]
  },
  {
   "cell_type": "code",
   "execution_count": 28,
   "metadata": {
    "collapsed": true
   },
   "outputs": [],
   "source": [
    "launch_vtk(all_atlas_structure_mesh_actors, init_angle='sagittal')"
   ]
  },
  {
   "cell_type": "code",
   "execution_count": null,
   "metadata": {
    "collapsed": true
   },
   "outputs": [],
   "source": [
    "launch_vtk(all_atlas_structure_mesh_actors + all_atlas_structure_volume_actors, init_angle='sagittal')"
   ]
  },
  {
   "cell_type": "code",
   "execution_count": 29,
   "metadata": {
    "collapsed": true
   },
   "outputs": [],
   "source": [
    "def move_polydata(polydata, d):\n",
    "    vs, fs = polydata_to_mesh(polydata)\n",
    "    return mesh_to_polydata(vs + d, fs)"
   ]
  },
  {
   "cell_type": "code",
   "execution_count": 30,
   "metadata": {
    "collapsed": false,
    "scrolled": true
   },
   "outputs": [
    {
     "name": "stderr",
     "output_type": "stream",
     "text": [
      "fill point array: 0.04 seconds\n",
      "fill cell array: 0.00 seconds\n"
     ]
    }
   ],
   "source": [
    "fn = os.path.join(MESH_ROOTDIR, stack_fixed, \"%(stack)s_down32_outerContourVolume_smoothed.stl\" % {'stack': stack_fixed})\n",
    "\n",
    "reader = vtk.vtkSTLReader()\n",
    "reader.SetFileName(fn)\n",
    "reader.Update()\n",
    "\n",
    "outerContour_polydata = reader.GetOutput()\n",
    "\n",
    "\n",
    "outerContour_polydata = move_polydata(outerContour_polydata, -canonical_centroid)\n",
    "\n",
    "outerContour_actor = actor_mesh(outerContour_polydata, (1,1,1), opacity=.5, wireframe=False)"
   ]
  },
  {
   "cell_type": "code",
   "execution_count": 41,
   "metadata": {
    "collapsed": false
   },
   "outputs": [],
   "source": [
    "launch_vtk(all_atlas_structure_mesh_actors + [outerContour_actor], init_angle='horizontal_topDown', animate=False,\n",
    "          interactive=False, snapshot_fn='/home/yuncong/snapshot_horizontal.png', snapshot_magnification=10)"
   ]
  },
  {
   "cell_type": "code",
   "execution_count": 42,
   "metadata": {
    "collapsed": false
   },
   "outputs": [],
   "source": [
    "launch_vtk(all_atlas_structure_mesh_actors + [outerContour_actor], init_angle='sagittal', animate=False, \n",
    "           interactive=False, snapshot_fn='/home/yuncong/snapshot_sagittal.png', snapshot_magnification=10)"
   ]
  },
  {
   "cell_type": "code",
   "execution_count": null,
   "metadata": {
    "collapsed": true
   },
   "outputs": [],
   "source": []
  },
  {
   "cell_type": "code",
   "execution_count": 38,
   "metadata": {
    "collapsed": true
   },
   "outputs": [],
   "source": [
    "launch_vtk(all_atlas_structure_volume_actors + [outerContour_actor], init_angle='sagittal', animate=True)"
   ]
  },
  {
   "cell_type": "code",
   "execution_count": null,
   "metadata": {
    "collapsed": true
   },
   "outputs": [],
   "source": [
    "# from collections import defaultdict\n",
    "# centroid_allLandmarks = defaultdict(list)\n",
    "# average_polydata_allLandmarks = {}\n",
    "# polydata_list_allLandmarks = {}\n",
    "# average_volume_allLandmarks = {}\n",
    "\n",
    "# # for name_unsided in labels_unsided:\n",
    "# # # for name_unsided in ['outerContour']:\n",
    "# # # for name_unsided in ['Pn']:\n",
    "    \n",
    "# #     if name_unsided == 'outerContour' or name_unsided == 'sp5':\n",
    "# #         continue\n",
    "        \n",
    "# #     names = labelMap_unsidedToSided[name_unsided]\n",
    "# #     print name_unsided, names\n",
    "\n",
    "# for name in names:\n",
    "    \n",
    "#     vertices_list = []\n",
    "#     faces_list = []\n",
    "    \n",
    "#     for stack in ['MD589', 'MD594']:\n",
    "# #     for stack in ['MD594']:\n",
    "\n",
    "#         if len(names) == 2:\n",
    "        \n",
    "#             for name_sided in names:\n",
    "\n",
    "#                 fn = \"/home/yuncong/CSHL_meshes/%(stack)s/%(stack)s_%(label)s_gaussianSmoothed.stl\" % {'stack':stack, 'label':name_sided}\n",
    "               \n",
    "#                 if os.path.exists(fn):\n",
    "#                     vertices, faces = load_mesh_stl(fn)\n",
    "#                 else:\n",
    "#                     continue\n",
    "            \n",
    "#                 if '_L' in name_sided:\n",
    "#                     zmean = vertices[:,2].mean(axis=0)\n",
    "#                     vertices[:, 2] = - (vertices[:, 2] - zmean) + zmean # mirror L to align with R, keep zmin        \n",
    "\n",
    "#                 if stack == 'MD594':\n",
    "#                     vertices_alignedToScoreVolume = vertices + (ann_xmin,ann_ymin,ann_zmin) - (sco_xmin,sco_ymin,sco_zmin)\n",
    "#                     vertices = transform_points_inverse(global_params, pts_prime=vertices_alignedToScoreVolume, \n",
    "#                                                                        c_prime=test_centroid, c=atlas_centroid)\n",
    "                    \n",
    "#                 vertices_list.append(vertices)    \n",
    "#                 faces_list.append(faces)\n",
    "                \n",
    "#                 centroid_prime = vertices.mean(axis=0)\n",
    "\n",
    "#                 if stack == 'MD594':\n",
    "\n",
    "#                     centroid_prime_alignedToScoreVolume = centroid_prime + (ann_xmin,ann_ymin,ann_zmin) - (sco_xmin,sco_ymin,sco_zmin)\n",
    "#                     centroid_prime_alignedToAtlas = transform_points_inverse(global_params, pts_prime=[centroid_prime_alignedToScoreVolume], \n",
    "#                                                                        c_prime=test_centroid, c=atlas_centroid)[0]\n",
    "#                     centroid_allLandmarks[name_sided].append(centroid_prime_alignedToAtlas)\n",
    "#                 else:\n",
    "#                     centroid_allLandmarks[name_sided].append(centroid_prime)\n",
    "        \n",
    "#         elif len(names) == 1:\n",
    "            \n",
    "#             name_sided = names[0]\n",
    "            \n",
    "#             fn = \"/home/yuncong/CSHL_meshes/%(stack)s/%(stack)s_%(label)s_gaussianSmoothed.stl\" % {'stack':stack, 'label':name_sided}\n",
    "            \n",
    "#             if os.path.exists(fn):\n",
    "#                 vertices, faces = load_mesh_stl(fn)\n",
    "#             else:\n",
    "#                 continue\n",
    "\n",
    "#             vertices_mirrored = vertices.copy()    \n",
    "#             zmean = vertices[:,2].mean(axis=0)\n",
    "#             vertices_mirrored[:, 2] = - (vertices[:, 2] - zmean) + zmean # mirror L to align with R, keep zmin        \n",
    "            \n",
    "#             t = time.time()\n",
    "            \n",
    "#             if name_unsided == 'sp5' or name_unsided == 'outerContour':\n",
    "# #                 _, symmetric_poly = average_shape([mesh_to_polydata(vertices, faces), mesh_to_polydata(vertices_mirrored, faces)],\n",
    "# #                                               num_simplify_iter=5, smooth=True)\n",
    "#                 symmetric_poly = mesh_to_polydata(vertices, faces)\n",
    "#             else:\n",
    "#                 _, symmetric_poly = average_shape([mesh_to_polydata(vertices, faces), mesh_to_polydata(vertices_mirrored, faces)],\n",
    "#                                               num_simplify_iter=3, smooth=True)\n",
    "                \n",
    "#             # must simplify so the ICP later can be fast\n",
    "#             # must also smooth, because otherwise the number of points gets stuck\n",
    "            \n",
    "#             sys.stderr.write('average shape: %.2f\\n' % (time.time() - t))\n",
    "#             # cost mostly comes from :\n",
    "#             # - marching cube\n",
    "#             # - first two rounds of decimation and smoothing\n",
    "\n",
    "#             symmetric_vertices, symmetric_faces = polydata_to_mesh(symmetric_poly)\n",
    "         \n",
    "#             if stack == 'MD594':\n",
    "#                 vertices_alignedToScoreVolume = symmetric_vertices + (ann_xmin,ann_ymin,ann_zmin) - (sco_xmin,sco_ymin,sco_zmin)\n",
    "#                 symmetric_vertices = transform_points_inverse(global_params, pts_prime=vertices_alignedToScoreVolume, \n",
    "#                                                                    c_prime=test_centroid, c=atlas_centroid)\n",
    "        \n",
    "#             vertices_list.append(symmetric_vertices)\n",
    "#             faces_list.append(symmetric_faces)\n",
    "            \n",
    "#             centroid_prime = symmetric_vertices.mean(axis=0)\n",
    "\n",
    "#             if stack == 'MD594':\n",
    "\n",
    "#                 centroid_prime_alignedToScoreVolume = centroid_prime + (ann_xmin,ann_ymin,ann_zmin) - (sco_xmin,sco_ymin,sco_zmin)\n",
    "#                 centroid_prime_alignedToAtlas = transform_points_inverse(global_params, pts_prime=[centroid_prime_alignedToScoreVolume], \n",
    "#                                                                    c_prime=test_centroid, c=atlas_centroid)[0]\n",
    "#                 centroid_allLandmarks[name_sided].append(centroid_prime_alignedToAtlas)\n",
    "#             else:\n",
    "#                 centroid_allLandmarks[name_sided].append(centroid_prime)\n",
    "    \n",
    "#     ###### Align meshes ######\n",
    "    \n",
    "#     vertices_aligned_list = []\n",
    "\n",
    "#     for i, vertices in enumerate(vertices_list):\n",
    "\n",
    "# #         if i == 0:\n",
    "# #             vertices1 = vertices.copy()\n",
    "# #             vol_fixed, origin_fixed, _ = polydata_to_volume(mesh_to_polydata(vertices, faces_list[0]))\n",
    "# #             vertices_aligned_list.append(vertices1)\n",
    "# #         else:            \n",
    "# #             t = time.time()\n",
    "# #             vol_moving, origin_moving, _ = polydata_to_volume(mesh_to_polydata(vertices, faces_list[i]))\n",
    "# #             T, c_fixed, c_moving = optimize_rigid_lieGroup(vol_fixed, vol_moving)\n",
    "# #             vertices_alignedTo1 = transform_points(T, vertices-origin_moving, c=c_moving, c_prime=c_fixed) + origin_fixed            \n",
    "# #             sys.stderr.write('align: %.2f\\n' % (time.time() - t))\n",
    "\n",
    "# #             vertices_aligned_list.append(vertices_alignedTo1)\n",
    "                \n",
    "#         if i == 0:\n",
    "#             vertices1 = vertices.copy()\n",
    "#             vertices_aligned_list.append(vertices1)\n",
    "#         else:            \n",
    "#             t = time.time()                    \n",
    "#             vertices_alignedTo1 = icp(fixed_pts=vertices1, moving_pts=vertices, num_iter=100)\n",
    "#             sys.stderr.write('icp: %.2f\\n' % (time.time() - t))\n",
    "\n",
    "#             vertices_aligned_list.append(vertices_alignedTo1)\n",
    "    \n",
    "#     polydata_list = [mesh_to_polydata(vs, fs) for vs, fs in zip(vertices_aligned_list, faces_list)]\n",
    "            \n",
    "#     # if landmark has only one instance, add its mirrored version\n",
    "#     if len(names) == 1:\n",
    "#         for vs, fs in zip(vertices_aligned_list, faces_list):\n",
    "#             zmean = vs[:,2].mean(axis=0)\n",
    "#             vs_mirrored = vs.copy()\n",
    "#             vs_mirrored[:, 2] = - (vs[:, 2] - zmean) + zmean # mirror L to align with R, keep zmin        \n",
    "#             polydata_list.append(mesh_to_polydata(vs_mirrored, fs))\n",
    "\n",
    "#     polydata_list_allLandmarks[name_unsided] = polydata_list\n",
    "    \n",
    "# #     ######### Compute Average #########\n",
    "#     t = time.time()\n",
    "\n",
    "#     if name_unsided == 'outerContour' or name_unsided == 'sp5':\n",
    "#         # since alignment is not ideal, just use MD589's outerContour for now\n",
    "# #         average_volume, average_polydata = average_shape([polydata_list[0],polydata_list[2]], num_simplify_iter=5, smooth=True, concensus_percentage=0.9)\n",
    "# #         average_volume, average_polydata = average_shape([polydata_list[0],polydata_list[0]], num_simplify_iter=5, smooth=False, concensus_percentage=0.9)\n",
    "#         average_volume = None\n",
    "#         average_polydata = polydata_list[2]\n",
    "#     elif len(names) == 1:\n",
    "#         average_volume, average_polydata = average_shape(polydata_list, num_simplify_iter=3, smooth=True, concensus_percentage=0.9)\n",
    "#     else:\n",
    "#         average_volume, average_polydata = average_shape(polydata_list, num_simplify_iter=3, smooth=True)\n",
    "    \n",
    "#     sys.stderr.write('average shape: %.2f\\n' % (time.time() - t))\n",
    "\n",
    "#     average_polydata_allLandmarks[name_unsided] = average_polydata\n",
    "\n",
    "#     average_volume_allLandmarks[name_unsided] = average_volume\n",
    "    \n",
    "# #     bp.pack_ndarray_file(average_volume, mesh_rootdir + \"/%(name)s_average.bp\" % {'stack': stack, 'name': name_unsided})\n",
    "# #     save_mesh_stl(average_polydata, mesh_rootdir + \"/%(name)s_average.stl\" % {'stack': stack, 'name': name_unsided})\n",
    "\n",
    "# centroid_allLandmarks.default_factory = None"
   ]
  }
 ],
 "metadata": {
  "kernelspec": {
   "display_name": "Python 2",
   "language": "python",
   "name": "python2"
  },
  "language_info": {
   "codemirror_mode": {
    "name": "ipython",
    "version": 2
   },
   "file_extension": ".py",
   "mimetype": "text/x-python",
   "name": "python",
   "nbconvert_exporter": "python",
   "pygments_lexer": "ipython2",
   "version": "2.7.12"
  }
 },
 "nbformat": 4,
 "nbformat_minor": 0
}
