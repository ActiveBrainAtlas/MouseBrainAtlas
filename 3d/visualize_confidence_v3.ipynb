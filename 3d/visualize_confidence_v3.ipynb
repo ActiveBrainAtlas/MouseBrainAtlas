{
 "cells": [
  {
   "cell_type": "code",
   "execution_count": 1,
   "metadata": {
    "collapsed": false
   },
   "outputs": [
    {
     "name": "stdout",
     "output_type": "stream",
     "text": [
      "Setting environment for Local Macbook Pro\n"
     ]
    }
   ],
   "source": [
    "%reload_ext autoreload\n",
    "%autoreload 2\n",
    "\n",
    "import numpy as np\n",
    "import sys\n",
    "import os\n",
    "import time\n",
    "\n",
    "sys.path.append(os.path.join(os.environ['REPO_DIR'], 'utilities'))\n",
    "from utilities2015 import *\n",
    "from annotation_utilities import *\n",
    "from registration_utilities import *\n",
    "from data_manager import *\n",
    "from metadata import *\n",
    "\n",
    "from vis3d_utilities import *"
   ]
  },
  {
   "cell_type": "code",
   "execution_count": 2,
   "metadata": {
    "collapsed": true
   },
   "outputs": [],
   "source": [
    "stack = 'MD589'\n",
    "atlas_name = 'atlasV2'\n",
    "classifier_setting = 2"
   ]
  },
  {
   "cell_type": "code",
   "execution_count": 3,
   "metadata": {
    "collapsed": false
   },
   "outputs": [
    {
     "name": "stderr",
     "output_type": "stream",
     "text": [
      "load_mesh_stl: File does not exist\n",
      "Mesh is empty.\n",
      "Error loading mesh for sp5.\n",
      "load_mesh_stl: File does not exist\n",
      "Mesh is empty.\n",
      "Error loading mesh for outerContour.\n"
     ]
    }
   ],
   "source": [
    "# Load global transformed atlas structure meshes\n",
    "\n",
    "global_transformed_atlas_polydata_list = \\\n",
    "DataManager.load_transformed_volume_meshes(stack_m=atlas_name, type_m='score', \n",
    "                                             stack_f=stack, type_f='score', \n",
    "                                           classifier_setting_m=classifier_setting,\n",
    "                                           classifier_setting_f=classifier_setting,\n",
    "                                           warp_setting=1, sided=True)"
   ]
  },
  {
   "cell_type": "code",
   "execution_count": 4,
   "metadata": {
    "collapsed": false
   },
   "outputs": [
    {
     "name": "stderr",
     "output_type": "stream",
     "text": [
      "load_mesh_stl: File does not exist\n",
      "Mesh is empty.\n",
      "Error loading mesh for sp5.\n",
      "load_mesh_stl: File does not exist\n",
      "Mesh is empty.\n",
      "Error loading mesh for outerContour.\n"
     ]
    }
   ],
   "source": [
    "# Load locally transformed atlas structure meshes\n",
    "\n",
    "local_transformed_atlas_polydata_list = \\\n",
    "DataManager.load_transformed_volume_meshes(stack_m=atlas_name, type_m='score', \n",
    "                                           stack_f=stack, type_f='score', \n",
    "                                           classifier_setting_m=classifier_setting,\n",
    "                                           classifier_setting_f=classifier_setting,\n",
    "                                           warp_setting=2, sided=True)"
   ]
  },
  {
   "cell_type": "code",
   "execution_count": 5,
   "metadata": {
    "collapsed": false
   },
   "outputs": [],
   "source": [
    "centroid_localAdjusted_polydata_list = {}\n",
    "for name_s, polydata in local_transformed_atlas_polydata_list.iteritems():\n",
    "    vertices, faces = polydata_to_mesh(polydata)\n",
    "    centroid_localAdjusted_polydata_list[name_s] = vertices.mean(axis=0)"
   ]
  },
  {
   "cell_type": "code",
   "execution_count": 6,
   "metadata": {
    "collapsed": false
   },
   "outputs": [
    {
     "name": "stderr",
     "output_type": "stream",
     "text": [
      "[Errno 2] No such file or directory: '/home/yuncong/CSHL_registration_parameters/atlasV2/atlasV2_down32_scoreVolume_clf_2_warp_2_MD589_down32_scoreVolume_clf_2_trial_0/atlasV2_down32_scoreVolume_clf_2_warp_2_MD589_down32_scoreVolume_clf_2_trial_0_parameters_sp5_hessians.pkl'\n",
      "Error loading confidence: sp5.\n",
      "[Errno 2] No such file or directory: '/home/yuncong/CSHL_registration_parameters/atlasV2/atlasV2_down32_scoreVolume_clf_2_warp_2_MD589_down32_scoreVolume_clf_2_trial_0/atlasV2_down32_scoreVolume_clf_2_warp_2_MD589_down32_scoreVolume_clf_2_trial_0_parameters_outerContour_hessians.pkl'\n",
      "Error loading confidence: outerContour.\n"
     ]
    }
   ],
   "source": [
    "hessians_all_stacks_all_structures = defaultdict(dict)\n",
    "for structure in all_known_structures_sided:\n",
    "    try:\n",
    "        hessians = DataManager.load_confidence(stack_m=atlas_name, stack_f=stack, \n",
    "                                classifier_setting_m=classifier_setting,\n",
    "                               classifier_setting_f=classifier_setting,\n",
    "                               warp_setting=2, what='hessians', param_suffix=structure)\n",
    "        hessians_all_stacks_all_structures[stack][structure] = hessians\n",
    "    except Exception as e:\n",
    "        sys.stderr.write('%s\\n' % e)\n",
    "        sys.stderr.write('Error loading confidence: %s.\\n' % structure)\n",
    "        \n",
    "hessians_all_stacks_all_structures.default_factory = None"
   ]
  },
  {
   "cell_type": "code",
   "execution_count": 7,
   "metadata": {
    "collapsed": false
   },
   "outputs": [],
   "source": [
    "hessians_all_structures_all_stacks = defaultdict(dict)\n",
    "for st, x_per_stack in hessians_all_stacks_all_structures.iteritems():\n",
    "    for struct, hessians in x_per_stack.iteritems():\n",
    "        hessians_all_structures_all_stacks[struct][st] = hessians"
   ]
  },
  {
   "cell_type": "code",
   "execution_count": 8,
   "metadata": {
    "collapsed": false
   },
   "outputs": [
    {
     "name": "stderr",
     "output_type": "stream",
     "text": [
      "[Errno 2] No such file or directory: '/home/yuncong/CSHL_registration_parameters/atlasV2/atlasV2_down32_scoreVolume_clf_2_warp_2_MD589_down32_scoreVolume_clf_2_trial_0/atlasV2_down32_scoreVolume_clf_2_warp_2_MD589_down32_scoreVolume_clf_2_trial_0_parameters_sp5_zscores.pkl'\n",
      "Error loading confidence: sp5.\n",
      "[Errno 2] No such file or directory: '/home/yuncong/CSHL_registration_parameters/atlasV2/atlasV2_down32_scoreVolume_clf_2_warp_2_MD589_down32_scoreVolume_clf_2_trial_0/atlasV2_down32_scoreVolume_clf_2_warp_2_MD589_down32_scoreVolume_clf_2_trial_0_parameters_outerContour_zscores.pkl'\n",
      "Error loading confidence: outerContour.\n"
     ]
    }
   ],
   "source": [
    "zscores_all_stacks_all_structures = defaultdict(dict)\n",
    "for structure in all_known_structures_sided:\n",
    "    try:\n",
    "        zscores = DataManager.load_confidence(stack_m=atlas_name, stack_f=stack, \n",
    "                                classifier_setting_m=classifier_setting,\n",
    "                               classifier_setting_f=classifier_setting,\n",
    "                               warp_setting=2, what='zscores', param_suffix=structure)\n",
    "        zscores_all_stacks_all_structures[stack][structure] = zscores\n",
    "    except Exception as e:\n",
    "        sys.stderr.write('%s\\n' % e)\n",
    "        sys.stderr.write('Error loading confidence: %s.\\n' % structure)    \n",
    "        \n",
    "zscores_all_stacks_all_structures.default_factory = None"
   ]
  },
  {
   "cell_type": "code",
   "execution_count": 9,
   "metadata": {
    "collapsed": true
   },
   "outputs": [],
   "source": [
    "zscores_all_structures_all_stacks = defaultdict(dict)\n",
    "for st, x_per_stack in zscores_all_stacks_all_structures.iteritems():\n",
    "    for struct, zscores in x_per_stack.iteritems():\n",
    "        zscores_all_structures_all_stacks[struct][st] = zscores"
   ]
  },
  {
   "cell_type": "markdown",
   "metadata": {
    "collapsed": true
   },
   "source": [
    "# VTK sphere plot"
   ]
  },
  {
   "cell_type": "code",
   "execution_count": 10,
   "metadata": {
    "collapsed": false
   },
   "outputs": [
    {
     "name": "stdout",
     "output_type": "stream",
     "text": [
      "pooling radius: [25.0, 118.75, 212.5, 306.25, 400.0]\n",
      "hessian stepsize: [14.720000000000001, 84.640000000000001, 154.56, 224.48000000000002, 294.40000000000003]\n"
     ]
    }
   ],
   "source": [
    "pooling_radius_list = sorted(zscores_all_structures_all_stacks.values()[0].values()[0].keys())\n",
    "print 'pooling radius:', pooling_radius_list\n",
    "hessian_stepsize_list = sorted(hessians_all_structures_all_stacks.values()[0].values()[0].keys())\n",
    "print 'hessian stepsize:', hessian_stepsize_list"
   ]
  },
  {
   "cell_type": "code",
   "execution_count": 11,
   "metadata": {
    "collapsed": true
   },
   "outputs": [],
   "source": [
    "pool_radius = pooling_radius_list[1]\n",
    "hess_stepsize = hessian_stepsize_list[1]"
   ]
  },
  {
   "cell_type": "code",
   "execution_count": 12,
   "metadata": {
    "collapsed": true
   },
   "outputs": [],
   "source": [
    "stds_all_structures_all_stacks = {struct: {st: zscores[pool_radius][3] for st, zscores in x_per_struct.iteritems()} \n",
    "                                for struct, x_per_struct in zscores_all_structures_all_stacks.iteritems()}"
   ]
  },
  {
   "cell_type": "code",
   "execution_count": 13,
   "metadata": {
    "collapsed": false
   },
   "outputs": [],
   "source": [
    "length_factor = 1e6\n",
    "\n",
    "R = defaultdict(dict)\n",
    "V = defaultdict(dict)\n",
    "S = defaultdict(dict)\n",
    "Htr = defaultdict(dict)\n",
    "\n",
    "for li, (name_s, hs) in enumerate(hessians_all_structures_all_stacks.iteritems()):\n",
    "\n",
    "    for st, hessians in hs.iteritems():\n",
    "        \n",
    "        h_tr, _ = hessians[hess_stepsize]\n",
    "        \n",
    "        _, _, _, std = zscores_all_structures_all_stacks[name_s][st][pool_radius]\n",
    "                \n",
    "        Htr[name_s][st] = h_tr\n",
    "        \n",
    "        s, v = np.linalg.eigh(h_tr)\n",
    "                \n",
    "        S[name_s][st] = 1./2. * 10**2 * s[2] / std # eigenvalue of hessian\n",
    "        V[name_s][st] = v # eigenvector of hessian\n",
    "\n",
    "        R[name_s][st] = v*2e-9/s[None, :] * length_factor # each column is an axis of the ellipsoid\n",
    "        R[name_s][st] = R[name_s][st] * np.sign(R[name_s][st][0])\n",
    "        \n",
    "R.default_factory = None\n",
    "V.default_factory = None\n",
    "S.default_factory = None\n",
    "Htr.default_factory = None"
   ]
  },
  {
   "cell_type": "markdown",
   "metadata": {},
   "source": [
    "# For one structure"
   ]
  },
  {
   "cell_type": "code",
   "execution_count": 94,
   "metadata": {
    "collapsed": false
   },
   "outputs": [],
   "source": [
    "# Show heat sphere for one structure.\n",
    "\n",
    "mesh_actors = [actor_mesh(polydata, (1.,1.,1.), opacity=.3, wireframe=True) \n",
    "               for name_s, polydata in local_transformed_atlas_polydata_list.iteritems() \n",
    "               if name_s == '7N_L']\n",
    "\n",
    "sphere_actors = [actor_mesh(polydata_heat_sphere(func=lambda v:\\\n",
    "                -1./2. * 10**2 * np.dot(np.dot(v, Htr[name_s][stack]), v) / stds_all_structures_all_stacks[name_s][stack],\n",
    "                                    loc=centroid_localAdjusted_polydata_list[name_s], radius=20))\n",
    "           for name_s in all_known_structures_sided if name_s == '7N_L']\n",
    "\n",
    "launch_vtk(mesh_actors + sphere_actors)"
   ]
  },
  {
   "cell_type": "code",
   "execution_count": 55,
   "metadata": {
    "collapsed": true
   },
   "outputs": [],
   "source": [
    "# Compute the anchor point and three axis vectors for one structure.\n",
    "\n",
    "anchor_points_and_axis_vectors = {name_s: (centroid_localAdjusted_polydata_list[name_s], \\\n",
    "    R[name_s][stack][:,2],\n",
    "    R[name_s][stack][:,1],\n",
    "    R[name_s][stack][:,0])\n",
    "for name_s in all_known_structures_sided if name_s in ['VLL_R']}"
   ]
  },
  {
   "cell_type": "code",
   "execution_count": 56,
   "metadata": {
    "collapsed": true
   },
   "outputs": [],
   "source": [
    "# Show uncertainty ellipse for one structure.\n",
    "\n",
    "mesh_actors = [actor_mesh(polydata, (1.,1.,1.), opacity=.3, wireframe=True) \n",
    "               for name_s, polydata in local_transformed_atlas_polydata_list.iteritems()\n",
    "              if name_s in ['VLL_R']]\n",
    "\n",
    "ellipse_actors = [actor_ellipse(anchor_point, anchor_vector0, anchor_vector1, anchor_vector2, wireframe=True)\n",
    "                  for anchor_point, anchor_vector0, anchor_vector1, anchor_vector2 \\\n",
    "                  in anchor_points_and_axis_vectors.itervalues()]\n",
    "\n",
    "launch_vtk(mesh_actors + ellipse_actors, init_angle='30')"
   ]
  },
  {
   "cell_type": "code",
   "execution_count": 36,
   "metadata": {
    "collapsed": true
   },
   "outputs": [],
   "source": [
    "# Show uncertainty arrows for one structure.\n",
    "\n",
    "mesh_actors = [actor_mesh(polydata, (1.,1.,1.), opacity=.3, wireframe=True) \n",
    "               for name_s, polydata in local_transformed_atlas_polydata_list.iteritems() \n",
    "               if name_s in ['VLL_R']]\n",
    "\n",
    "arrow_actors = list(chain(*[actor_arrows(anchor_point, anchor_vector0, anchor_vector1, anchor_vector2)\n",
    "                  for anchor_point, anchor_vector0, anchor_vector1, anchor_vector2 \\\n",
    "                   in anchor_points_and_axis_vectors.itervalues()]))\n",
    "\n",
    "launch_vtk(mesh_actors + arrow_actors, init_angle='30')"
   ]
  },
  {
   "cell_type": "markdown",
   "metadata": {},
   "source": [
    "# For all structures"
   ]
  },
  {
   "cell_type": "code",
   "execution_count": 211,
   "metadata": {
    "collapsed": true
   },
   "outputs": [],
   "source": [
    "# Show heat sphere for all structures.\n",
    "\n",
    "mesh_actors = [actor_mesh(polydata, (1.,1.,1.), opacity=.3, wireframe=True) \n",
    "               for name_s, polydata in local_transformed_atlas_polydata_list.iteritems()]\n",
    "\n",
    "sphere_actors = [actor_mesh(polydata_heat_sphere(lambda v: -1./2. * 10**2 * np.dot(np.dot(v, Htr[name_s][stack]), v) / stds_all_structures_all_stacks[name_s][stack], \n",
    "                                            loc=centroid_localAdjusted_polydata_list[name_s], radius=20))\n",
    "           for name_s in all_known_structures_sided if name_s in centroid_localAdjusted_polydata_list]\n",
    "\n",
    "launch_vtk(mesh_actors + sphere_actors)"
   ]
  },
  {
   "cell_type": "code",
   "execution_count": 38,
   "metadata": {
    "collapsed": true
   },
   "outputs": [],
   "source": [
    "# Compute the anchor point and three axis vectors for all structures.\n",
    "\n",
    "anchor_points_and_axis_vectors = {name_s: (centroid_localAdjusted_polydata_list[name_s], \\\n",
    "    R[name_s][stack][:,2],\n",
    "    R[name_s][stack][:,1],\n",
    "    R[name_s][stack][:,0])\n",
    "for name_s in all_known_structures_sided if name_s in R}"
   ]
  },
  {
   "cell_type": "code",
   "execution_count": 39,
   "metadata": {
    "collapsed": false
   },
   "outputs": [],
   "source": [
    "# Show uncertainty ellipse for all structures.\n",
    "\n",
    "mesh_actors = [actor_mesh(polydata, (1.,1.,1.), opacity=.3, wireframe=True) \n",
    "               for name_s, polydata in local_transformed_atlas_polydata_list.iteritems()]\n",
    "\n",
    "ellipse_actors = [actor_ellipse(anchor_point, anchor_vector0, anchor_vector1, anchor_vector2, wireframe=True)\n",
    "                  for anchor_point, anchor_vector0, anchor_vector1, anchor_vector2 \\\n",
    "                  in anchor_points_and_axis_vectors.itervalues()]\n",
    "\n",
    "launch_vtk(mesh_actors + ellipse_actors, init_angle='30')"
   ]
  },
  {
   "cell_type": "code",
   "execution_count": 50,
   "metadata": {
    "collapsed": false
   },
   "outputs": [],
   "source": [
    "# Show uncertainty arrows for all structures.\n",
    "\n",
    "mesh_actors = [actor_mesh(polydata, (1.,1.,1.), opacity=.3, wireframe=True) \n",
    "               for name_s, polydata in local_transformed_atlas_polydata_list.iteritems()]\n",
    "\n",
    "arrow_actors = list(chain(*[actor_arrows(anchor_point, anchor_vector0, anchor_vector1, anchor_vector2)\n",
    "                  for anchor_point, anchor_vector0, anchor_vector1, anchor_vector2 \\\n",
    "                   in anchor_points_and_axis_vectors.itervalues()]))\n",
    "\n",
    "launch_vtk(mesh_actors + arrow_actors, init_angle='30')"
   ]
  },
  {
   "cell_type": "markdown",
   "metadata": {},
   "source": [
    "# For Yoav"
   ]
  },
  {
   "cell_type": "code",
   "execution_count": 14,
   "metadata": {
    "collapsed": true
   },
   "outputs": [],
   "source": [
    "high_contrast_colors = np.random.permutation(high_contrast_colors)\n",
    "map_name_s_to_color = {s: np.array(high_contrast_colors[i%len(high_contrast_colors)]) \n",
    "                     for i, s in enumerate(all_known_structures_sided) }"
   ]
  },
  {
   "cell_type": "code",
   "execution_count": 15,
   "metadata": {
    "collapsed": true
   },
   "outputs": [],
   "source": [
    "map_name_u_to_color = {s: np.array(high_contrast_colors[i%len(high_contrast_colors)]) \n",
    "                     for i, s in enumerate(all_known_structures) }"
   ]
  },
  {
   "cell_type": "code",
   "execution_count": 16,
   "metadata": {
    "collapsed": true
   },
   "outputs": [],
   "source": [
    "tb_vol_xmin, tb_vol_xmax, tb_vol_ymin, tb_vol_ymax, tb_vol_zmin, tb_vol_zmax = (0, 484, 0, 372, 123, 503)"
   ]
  },
  {
   "cell_type": "code",
   "execution_count": 17,
   "metadata": {
    "collapsed": false
   },
   "outputs": [
    {
     "name": "stdout",
     "output_type": "stream",
     "text": [
      "crop: 569 1053 140 512\n"
     ]
    }
   ],
   "source": [
    "crop_xmin, crop_xmax, crop_ymin, crop_ymax = metadata_cache['cropbox'][stack]\n",
    "print 'crop:', crop_xmin, crop_xmax, crop_ymin, crop_ymax"
   ]
  },
  {
   "cell_type": "code",
   "execution_count": 18,
   "metadata": {
    "collapsed": true
   },
   "outputs": [],
   "source": [
    "shell_polydata = DataManager.load_shell_mesh(stack='MD589', downscale=32)\n",
    "shell_actor = actor_mesh(shell_polydata, (1,1,1), opacity=.15, wireframe=False)"
   ]
  },
  {
   "cell_type": "code",
   "execution_count": 19,
   "metadata": {
    "collapsed": true
   },
   "outputs": [],
   "source": [
    "certain_regions = ['7N_L', '7N_R', '5N_L', '5N_R', '12N', 'Pn_L', 'Pn_R', 'LC_L', 'LC_R', 'Amb_L', 'Amb_R',\n",
    "               'Tz_L', 'Tz_R', '3N_L', '3N_R', '4N_L', '4N_R', 'RMC_L', 'RMC_R', '10N_L', '10N_R']"
   ]
  },
  {
   "cell_type": "code",
   "execution_count": 217,
   "metadata": {
    "collapsed": false
   },
   "outputs": [],
   "source": [
    "# Panel 1\n",
    "\n",
    "map_name_to_opacity = {name: .5 if name in certain_regions else 0.05\n",
    "                      for name in all_known_structures_sided}\n",
    "\n",
    "anchor_points_and_axis_vectors = {name_s: (centroid_localAdjusted_polydata_list[name_s], \\\n",
    "    R[name_s][stack][:,2],\n",
    "    R[name_s][stack][:,1],\n",
    "    R[name_s][stack][:,0])\n",
    "for name_s in all_known_structures_sided if name_s in R}\n",
    "\n",
    "mesh_actors = [actor_mesh(polydata, map_name_u_to_color[convert_to_original_name(name_s)]/255., \n",
    "                          opacity=map_name_to_opacity[name_s], \n",
    "                          wireframe=False,\n",
    "                         origin=(crop_xmin + tb_vol_xmin, crop_ymin + tb_vol_ymin, tb_vol_zmin)) \n",
    "               for name_s, polydata in global_transformed_atlas_polydata_list.iteritems()]\n",
    "\n",
    "launch_vtk([shell_actor] + mesh_actors, init_angle='30')"
   ]
  },
  {
   "cell_type": "code",
   "execution_count": null,
   "metadata": {
    "collapsed": true
   },
   "outputs": [],
   "source": [
    "# Panel 2\n",
    "\n",
    "map_name_to_opacity = {name: .5 if name in certain_regions else 0.0\n",
    "                      for name in all_known_structures_sided}\n",
    "\n",
    "mesh_actors = [actor_mesh(polydata, map_name_u_to_color[convert_to_original_name(name_s)]/255., \n",
    "                          opacity=map_name_to_opacity[name_s], \n",
    "                          wireframe=False,\n",
    "                         origin=(crop_xmin + tb_vol_xmin, crop_ymin + tb_vol_ymin, tb_vol_zmin)) \n",
    "               for name_s, polydata in global_transformed_atlas_polydata_list.iteritems()]\n",
    "\n",
    "launch_vtk([shell_actor] + mesh_actors, init_angle='30')"
   ]
  },
  {
   "cell_type": "code",
   "execution_count": 20,
   "metadata": {
    "collapsed": false
   },
   "outputs": [],
   "source": [
    "# Panel 3\n",
    "\n",
    "structures_to_show = ['VLL_L', 'Sp5O_L' ]\n",
    "\n",
    "def f(name):\n",
    "    if name in certain_regions:\n",
    "        return .04\n",
    "    elif name in structures_to_show:\n",
    "        return 1.\n",
    "    else:\n",
    "        return 0\n",
    "\n",
    "mesh_actors = [actor_mesh(polydata, map_name_s_to_color[name_s]/255., \n",
    "                          opacity=f(name_s),\n",
    "                          wireframe=False,\n",
    "                         origin=(crop_xmin + tb_vol_xmin, crop_ymin + tb_vol_ymin, tb_vol_zmin)) \n",
    "               for name_s, polydata in local_transformed_atlas_polydata_list.iteritems()]\n",
    "\n",
    "launch_vtk([shell_actor] + mesh_actors, init_angle='30')"
   ]
  },
  {
   "cell_type": "code",
   "execution_count": 29,
   "metadata": {
    "collapsed": true
   },
   "outputs": [],
   "source": [
    "map_name_s_to_color = {'Sp5O_L': (1,0,0), 'VLL_L': (1,1,0)}"
   ]
  },
  {
   "cell_type": "code",
   "execution_count": null,
   "metadata": {
    "collapsed": false
   },
   "outputs": [],
   "source": [
    "# Panel 4\n",
    "\n",
    "anchor_points_and_axis_vectors = {name_s: (centroid_localAdjusted_polydata_list[name_s], \\\n",
    "    R[name_s][stack][:,2],\n",
    "    R[name_s][stack][:,1],\n",
    "    R[name_s][stack][:,0])\n",
    "for name_s in all_known_structures_sided if name_s in structures_to_show}\n",
    "\n",
    "\n",
    "ellipse_actors = [actor_ellipse(anchor_point + (crop_xmin + tb_vol_xmin, crop_ymin + tb_vol_ymin, tb_vol_zmin), \n",
    "                                anchor_vector0, anchor_vector1, anchor_vector2, wireframe=True, opacity=1.0,\n",
    "                               color=map_name_s_to_color[name_s])\n",
    "                  for name_s, (anchor_point, anchor_vector0, anchor_vector1, anchor_vector2) \\\n",
    "                  in anchor_points_and_axis_vectors.iteritems()]\n",
    "\n",
    "launch_vtk([shell_actor] + ellipse_actors, init_angle='30')"
   ]
  },
  {
   "cell_type": "code",
   "execution_count": null,
   "metadata": {
    "collapsed": true
   },
   "outputs": [],
   "source": []
  }
 ],
 "metadata": {
  "kernelspec": {
   "display_name": "Python 2",
   "language": "python",
   "name": "python2"
  },
  "language_info": {
   "codemirror_mode": {
    "name": "ipython",
    "version": 2
   },
   "file_extension": ".py",
   "mimetype": "text/x-python",
   "name": "python",
   "nbconvert_exporter": "python",
   "pygments_lexer": "ipython2",
   "version": "2.7.12"
  }
 },
 "nbformat": 4,
 "nbformat_minor": 0
}
