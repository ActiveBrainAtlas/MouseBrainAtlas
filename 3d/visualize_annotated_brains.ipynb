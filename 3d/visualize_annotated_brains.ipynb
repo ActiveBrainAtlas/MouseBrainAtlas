{
 "cells": [
  {
   "cell_type": "code",
   "execution_count": 1,
   "metadata": {
    "scrolled": true
   },
   "outputs": [
    {
     "name": "stdout",
     "output_type": "stream",
     "text": [
      "Setting environment for Local Macbook Pro\n",
      "/home/yuncong/CSHL_data_processed/MD585/MD585_prep2_thumbnail/MD585-N16-2015.07.16-20.32.33_MD585_2_0047_prep2_thumbnail.tif\n",
      "/home/yuncong/CSHL_data_processed/MD589/MD589_prep2_thumbnail/MD589-N16-2015.07.30-17.03.43_MD589_3_0048_prep2_thumbnail.tif\n",
      "/home/yuncong/CSHL_data_processed/MD590/MD590_prep2_thumbnail/MD590-IHC17-2015.08.10-19.09.09_MD590_2_0050_prep2_thumbnail.tif\n",
      "/home/yuncong/CSHL_data_processed/MD591/MD591_prep2_thumbnail/MD591-IHC17-2015.08.28-04.23.47_MD591_1_0049_prep2_thumbnail.tif\n",
      "/home/yuncong/CSHL_data_processed/MD592/MD592_prep2_thumbnail/MD592-N16-2015.08.22-00.50.39_MD592_2_0047_prep2_thumbnail.tif\n",
      "/home/yuncong/CSHL_data_processed/MD593/MD593_prep2_thumbnail/MD593-N15-2015.08.21-16.53.02_MD593_3_0045_prep2_thumbnail.tif\n",
      "/home/yuncong/CSHL_data_processed/MD594/MD594_prep2_thumbnail/MD594-IHC16-2015.08.26-16.11.01_MD594_1_0046_prep2_thumbnail.tif\n",
      "/home/yuncong/CSHL_data_processed/MD595/MD595_prep2_thumbnail/MD595-IHC12-2015.09.15-01.21.39_MD595_2_0035_prep2_thumbnail.tif\n",
      "/home/yuncong/CSHL_data_processed/MD598/MD598_prep2_thumbnail/MD598-N18-2015.09.29-17.40.03_MD598_3_0054_prep2_thumbnail.tif\n",
      "/home/yuncong/CSHL_data_processed/MD599/MD599_prep2_thumbnail/MD599-N19-2015.10.02-18.12.13_MD599_3_0057_prep2_thumbnail.tif\n",
      "/home/yuncong/CSHL_data_processed/MD602/MD602_prep2_thumbnail/MD602-N19-2015.12.01-16.24.09_MD602_2_0056_prep2_thumbnail.tif\n",
      "/home/yuncong/CSHL_data_processed/MD603/MD603_prep2_thumbnail/MD603-N11-2016.03.02-12.51.47_MD603_1_0031_prep2_thumbnail.tif\n",
      "/home/yuncong/CSHL_data_processed/MD635/MD635_prep2_thumbnail/MD635-F25-2016.05.18-21.02.30_MD635_3_0075_prep2_thumbnail.tif\n",
      "/home/yuncong/CSHL_data_processed/MD653/MD653_prep2_thumbnail/MD653-F15-2016.12.20-21.04.12_MD653_1_0043_prep2_thumbnail.tif\n",
      "/home/yuncong/CSHL_data_processed/MD652/MD652_prep2_thumbnail/MD652-F15-2016.12.16-20.45.52_MD652_3_0045_prep2_thumbnail.tif\n",
      "/home/yuncong/CSHL_data_processed/MD642/MD642_prep2_thumbnail/MD642-N14-2017.01.18-16.25.58_MD642_2_0041_prep2_thumbnail.tif\n",
      "/home/yuncong/CSHL_data_processed/MD657/MD657_prep2_thumbnail/MD657-N13-2017.02.22-14.33.34_MD657_3_0039_prep2_thumbnail.tif\n",
      "/home/yuncong/CSHL_data_processed/MD658/MD658_prep2_thumbnail/MD658-N18-2017.03.31-17.34.22_MD658_2_0053_prep2_thumbnail.tif\n",
      "/home/yuncong/CSHL_data_processed/MD661/MD661_prep2_thumbnail/MD662&661-F30-2017.06.05-14.49.48_MD661_1_0088_prep2_thumbnail.tif\n",
      "/home/yuncong/CSHL_data_processed/MD662/MD662_prep2_thumbnail/MD662&661-F35-2017.06.05-17.08.18_MD662_1_0103_prep2_thumbnail.tif\n",
      "/home/yuncong/CSHL_data_processed/ChatCryoJane201710/ChatCryoJane201710_prep2_thumbnail_Ntb/ChatCryoJane201710_slide1-S1_prep2_thumbnail_Ntb.tif\n",
      "rm -rf \"/home/yuncong/CSHL_data_processed/ChatCryoJane201710/ChatCryoJane201710_prep2_thumbnail/ChatCryoJane201710_slide1-S1_prep2_thumbnail.tif\" && mkdir -p \"/home/yuncong/CSHL_data_processed/ChatCryoJane201710/ChatCryoJane201710_prep2_thumbnail\"\n",
      "aws s3 cp \"s3://mousebrainatlas-data/CSHL_data_processed/ChatCryoJane201710/ChatCryoJane201710_prep2_thumbnail/ChatCryoJane201710_slide1-S1_prep2_thumbnail.tif\" \"/home/yuncong/CSHL_data_processed/ChatCryoJane201710/ChatCryoJane201710_prep2_thumbnail/ChatCryoJane201710_slide1-S1_prep2_thumbnail.tif\"\n"
     ]
    },
    {
     "name": "stderr",
     "output_type": "stream",
     "text": [
      "Not using image_cache.\n",
      "Not using image_cache.\n",
      "Not using image_cache.\n",
      "Not using image_cache.\n",
      "Not using image_cache.\n",
      "Not using image_cache.\n",
      "Not using image_cache.\n",
      "Not using image_cache.\n",
      "Not using image_cache.\n",
      "Not using image_cache.\n",
      "Not using image_cache.\n",
      "Not using image_cache.\n",
      "Not using image_cache.\n",
      "Not using image_cache.\n",
      "Not using image_cache.\n",
      "Not using image_cache.\n",
      "Not using image_cache.\n",
      "Not using image_cache.\n",
      "Not using image_cache.\n",
      "Not using image_cache.\n",
      "Not using image_cache.\n",
      "Version Ntb is not available. Instead, load lossless and take the blue channel...\n"
     ]
    },
    {
     "name": "stdout",
     "output_type": "stream",
     "text": [
      "/home/yuncong/CSHL_data_processed/ChatCryoJane201710/ChatCryoJane201710_prep2_thumbnail/ChatCryoJane201710_slide1-S1_prep2_thumbnail.tif\n"
     ]
    },
    {
     "name": "stderr",
     "output_type": "stream",
     "text": [
      "Not using image_cache.\n"
     ]
    }
   ],
   "source": [
    "%reload_ext autoreload\n",
    "%autoreload 2\n",
    "\n",
    "import sys\n",
    "import os\n",
    "import time\n",
    "\n",
    "import numpy as np\n",
    "import bloscpack as bp\n",
    "import matplotlib.pyplot as plt\n",
    "%matplotlib inline\n",
    "import vtk\n",
    "from vtk.util import numpy_support\n",
    "\n",
    "sys.path.append(os.path.join(os.environ['REPO_DIR'], 'utilities'))\n",
    "from utilities2015 import *\n",
    "from annotation_utilities import *\n",
    "from metadata import *\n",
    "from vis3d_utilities import *"
   ]
  },
  {
   "cell_type": "code",
   "execution_count": 65,
   "metadata": {},
   "outputs": [],
   "source": [
    "brain_spec = dict(name='MD594', \n",
    "                  resolution='10.0um', \n",
    "                  vol_type='annotationAsScore', \n",
    "                  prep_id=None,\n",
    "                  detector_id=None,\n",
    "                  structure=None)\n",
    "\n",
    "stack = brain_spec['name']"
   ]
  },
  {
   "cell_type": "markdown",
   "metadata": {},
   "source": [
    "# Construct annotation volumes from annotation contours"
   ]
  },
  {
   "cell_type": "code",
   "execution_count": 66,
   "metadata": {},
   "outputs": [
    {
     "name": "stdout",
     "output_type": "stream",
     "text": [
      "aws s3 cp --recursive \"s3://mousebrainatlas-data/CSHL_labelings_v3/MD594\" \"/home/yuncong/CSHL_labelings_v3/MD594\" --exclude \"*\" --include \"*contours*\"\n",
      "latest timestamp:  07302017183604\n"
     ]
    }
   ],
   "source": [
    "contour_df = DataManager.load_annotation_v4(stack=stack, by_human=True, timestamp='latest', suffix='contours')\n",
    "contour_df = convert_annotation_v3_original_to_aligned(contour_df, stack=stack)\n",
    "# contour_df vertices wrt to aligned uncropped lossless image aka \"wholebrain\""
   ]
  },
  {
   "cell_type": "code",
   "execution_count": 67,
   "metadata": {
    "scrolled": true
   },
   "outputs": [
    {
     "name": "stdout",
     "output_type": "stream",
     "text": [
      "aws s3 cp \"/media/yuncong/YuncongPublic/CSHL_volumes/MD594/MD594_10.0um_annotationAsScoreVolume/score_volumes/MD594_10.0um_annotationAsScoreVolume_5N_L.bp\" \"s3://mousebrainatlas-data/CSHL_volumes/MD594/MD594_10.0um_annotationAsScoreVolume/score_volumes/MD594_10.0um_annotationAsScoreVolume_5N_L.bp\"\n",
      "aws s3 cp \"/media/yuncong/YuncongPublic/CSHL_volumes/MD594/MD594_10.0um_annotationAsScoreVolume/score_volumes/MD594_10.0um_annotationAsScoreVolume_5N_L_bbox_wrt_wholebrain.txt\" \"s3://mousebrainatlas-data/CSHL_volumes/MD594/MD594_10.0um_annotationAsScoreVolume/score_volumes/MD594_10.0um_annotationAsScoreVolume_5N_L_bbox_wrt_wholebrain.txt\"\n",
      "aws s3 cp \"/media/yuncong/YuncongPublic/CSHL_volumes/MD594/MD594_10.0um_annotationAsScoreVolume/score_volumes/MD594_10.0um_annotationAsScoreVolume_5N_R.bp\" \"s3://mousebrainatlas-data/CSHL_volumes/MD594/MD594_10.0um_annotationAsScoreVolume/score_volumes/MD594_10.0um_annotationAsScoreVolume_5N_R.bp\"\n",
      "aws s3 cp \"/media/yuncong/YuncongPublic/CSHL_volumes/MD594/MD594_10.0um_annotationAsScoreVolume/score_volumes/MD594_10.0um_annotationAsScoreVolume_5N_R_bbox_wrt_wholebrain.txt\" \"s3://mousebrainatlas-data/CSHL_volumes/MD594/MD594_10.0um_annotationAsScoreVolume/score_volumes/MD594_10.0um_annotationAsScoreVolume_5N_R_bbox_wrt_wholebrain.txt\"\n",
      "aws s3 cp \"/media/yuncong/YuncongPublic/CSHL_volumes/MD594/MD594_10.0um_annotationAsScoreVolume/score_volumes/MD594_10.0um_annotationAsScoreVolume_6N_L.bp\" \"s3://mousebrainatlas-data/CSHL_volumes/MD594/MD594_10.0um_annotationAsScoreVolume/score_volumes/MD594_10.0um_annotationAsScoreVolume_6N_L.bp\"\n",
      "aws s3 cp \"/media/yuncong/YuncongPublic/CSHL_volumes/MD594/MD594_10.0um_annotationAsScoreVolume/score_volumes/MD594_10.0um_annotationAsScoreVolume_6N_L_bbox_wrt_wholebrain.txt\" \"s3://mousebrainatlas-data/CSHL_volumes/MD594/MD594_10.0um_annotationAsScoreVolume/score_volumes/MD594_10.0um_annotationAsScoreVolume_6N_L_bbox_wrt_wholebrain.txt\"\n",
      "aws s3 cp \"/media/yuncong/YuncongPublic/CSHL_volumes/MD594/MD594_10.0um_annotationAsScoreVolume/score_volumes/MD594_10.0um_annotationAsScoreVolume_6N_R.bp\" \"s3://mousebrainatlas-data/CSHL_volumes/MD594/MD594_10.0um_annotationAsScoreVolume/score_volumes/MD594_10.0um_annotationAsScoreVolume_6N_R.bp\"\n",
      "aws s3 cp \"/media/yuncong/YuncongPublic/CSHL_volumes/MD594/MD594_10.0um_annotationAsScoreVolume/score_volumes/MD594_10.0um_annotationAsScoreVolume_6N_R_bbox_wrt_wholebrain.txt\" \"s3://mousebrainatlas-data/CSHL_volumes/MD594/MD594_10.0um_annotationAsScoreVolume/score_volumes/MD594_10.0um_annotationAsScoreVolume_6N_R_bbox_wrt_wholebrain.txt\"\n",
      "aws s3 cp \"/media/yuncong/YuncongPublic/CSHL_volumes/MD594/MD594_10.0um_annotationAsScoreVolume/score_volumes/MD594_10.0um_annotationAsScoreVolume_7N_L.bp\" \"s3://mousebrainatlas-data/CSHL_volumes/MD594/MD594_10.0um_annotationAsScoreVolume/score_volumes/MD594_10.0um_annotationAsScoreVolume_7N_L.bp\"\n",
      "aws s3 cp \"/media/yuncong/YuncongPublic/CSHL_volumes/MD594/MD594_10.0um_annotationAsScoreVolume/score_volumes/MD594_10.0um_annotationAsScoreVolume_7N_L_bbox_wrt_wholebrain.txt\" \"s3://mousebrainatlas-data/CSHL_volumes/MD594/MD594_10.0um_annotationAsScoreVolume/score_volumes/MD594_10.0um_annotationAsScoreVolume_7N_L_bbox_wrt_wholebrain.txt\"\n",
      "aws s3 cp \"/media/yuncong/YuncongPublic/CSHL_volumes/MD594/MD594_10.0um_annotationAsScoreVolume/score_volumes/MD594_10.0um_annotationAsScoreVolume_7N_R.bp\" \"s3://mousebrainatlas-data/CSHL_volumes/MD594/MD594_10.0um_annotationAsScoreVolume/score_volumes/MD594_10.0um_annotationAsScoreVolume_7N_R.bp\"\n",
      "aws s3 cp \"/media/yuncong/YuncongPublic/CSHL_volumes/MD594/MD594_10.0um_annotationAsScoreVolume/score_volumes/MD594_10.0um_annotationAsScoreVolume_7N_R_bbox_wrt_wholebrain.txt\" \"s3://mousebrainatlas-data/CSHL_volumes/MD594/MD594_10.0um_annotationAsScoreVolume/score_volumes/MD594_10.0um_annotationAsScoreVolume_7N_R_bbox_wrt_wholebrain.txt\"\n",
      "aws s3 cp \"/media/yuncong/YuncongPublic/CSHL_volumes/MD594/MD594_10.0um_annotationAsScoreVolume/score_volumes/MD594_10.0um_annotationAsScoreVolume_7n_L.bp\" \"s3://mousebrainatlas-data/CSHL_volumes/MD594/MD594_10.0um_annotationAsScoreVolume/score_volumes/MD594_10.0um_annotationAsScoreVolume_7n_L.bp\"\n",
      "aws s3 cp \"/media/yuncong/YuncongPublic/CSHL_volumes/MD594/MD594_10.0um_annotationAsScoreVolume/score_volumes/MD594_10.0um_annotationAsScoreVolume_7n_L_bbox_wrt_wholebrain.txt\" \"s3://mousebrainatlas-data/CSHL_volumes/MD594/MD594_10.0um_annotationAsScoreVolume/score_volumes/MD594_10.0um_annotationAsScoreVolume_7n_L_bbox_wrt_wholebrain.txt\"\n",
      "aws s3 cp \"/media/yuncong/YuncongPublic/CSHL_volumes/MD594/MD594_10.0um_annotationAsScoreVolume/score_volumes/MD594_10.0um_annotationAsScoreVolume_7n_R.bp\" \"s3://mousebrainatlas-data/CSHL_volumes/MD594/MD594_10.0um_annotationAsScoreVolume/score_volumes/MD594_10.0um_annotationAsScoreVolume_7n_R.bp\"\n",
      "aws s3 cp \"/media/yuncong/YuncongPublic/CSHL_volumes/MD594/MD594_10.0um_annotationAsScoreVolume/score_volumes/MD594_10.0um_annotationAsScoreVolume_7n_R_bbox_wrt_wholebrain.txt\" \"s3://mousebrainatlas-data/CSHL_volumes/MD594/MD594_10.0um_annotationAsScoreVolume/score_volumes/MD594_10.0um_annotationAsScoreVolume_7n_R_bbox_wrt_wholebrain.txt\"\n",
      "aws s3 cp \"/media/yuncong/YuncongPublic/CSHL_volumes/MD594/MD594_10.0um_annotationAsScoreVolume/score_volumes/MD594_10.0um_annotationAsScoreVolume_Amb_L.bp\" \"s3://mousebrainatlas-data/CSHL_volumes/MD594/MD594_10.0um_annotationAsScoreVolume/score_volumes/MD594_10.0um_annotationAsScoreVolume_Amb_L.bp\"\n",
      "aws s3 cp \"/media/yuncong/YuncongPublic/CSHL_volumes/MD594/MD594_10.0um_annotationAsScoreVolume/score_volumes/MD594_10.0um_annotationAsScoreVolume_Amb_L_bbox_wrt_wholebrain.txt\" \"s3://mousebrainatlas-data/CSHL_volumes/MD594/MD594_10.0um_annotationAsScoreVolume/score_volumes/MD594_10.0um_annotationAsScoreVolume_Amb_L_bbox_wrt_wholebrain.txt\"\n",
      "aws s3 cp \"/media/yuncong/YuncongPublic/CSHL_volumes/MD594/MD594_10.0um_annotationAsScoreVolume/score_volumes/MD594_10.0um_annotationAsScoreVolume_Amb_R.bp\" \"s3://mousebrainatlas-data/CSHL_volumes/MD594/MD594_10.0um_annotationAsScoreVolume/score_volumes/MD594_10.0um_annotationAsScoreVolume_Amb_R.bp\"\n",
      "aws s3 cp \"/media/yuncong/YuncongPublic/CSHL_volumes/MD594/MD594_10.0um_annotationAsScoreVolume/score_volumes/MD594_10.0um_annotationAsScoreVolume_Amb_R_bbox_wrt_wholebrain.txt\" \"s3://mousebrainatlas-data/CSHL_volumes/MD594/MD594_10.0um_annotationAsScoreVolume/score_volumes/MD594_10.0um_annotationAsScoreVolume_Amb_R_bbox_wrt_wholebrain.txt\"\n",
      "aws s3 cp \"/media/yuncong/YuncongPublic/CSHL_volumes/MD594/MD594_10.0um_annotationAsScoreVolume/score_volumes/MD594_10.0um_annotationAsScoreVolume_LC_L.bp\" \"s3://mousebrainatlas-data/CSHL_volumes/MD594/MD594_10.0um_annotationAsScoreVolume/score_volumes/MD594_10.0um_annotationAsScoreVolume_LC_L.bp\"\n",
      "aws s3 cp \"/media/yuncong/YuncongPublic/CSHL_volumes/MD594/MD594_10.0um_annotationAsScoreVolume/score_volumes/MD594_10.0um_annotationAsScoreVolume_LC_L_bbox_wrt_wholebrain.txt\" \"s3://mousebrainatlas-data/CSHL_volumes/MD594/MD594_10.0um_annotationAsScoreVolume/score_volumes/MD594_10.0um_annotationAsScoreVolume_LC_L_bbox_wrt_wholebrain.txt\"\n",
      "aws s3 cp \"/media/yuncong/YuncongPublic/CSHL_volumes/MD594/MD594_10.0um_annotationAsScoreVolume/score_volumes/MD594_10.0um_annotationAsScoreVolume_LC_R.bp\" \"s3://mousebrainatlas-data/CSHL_volumes/MD594/MD594_10.0um_annotationAsScoreVolume/score_volumes/MD594_10.0um_annotationAsScoreVolume_LC_R.bp\"\n",
      "aws s3 cp \"/media/yuncong/YuncongPublic/CSHL_volumes/MD594/MD594_10.0um_annotationAsScoreVolume/score_volumes/MD594_10.0um_annotationAsScoreVolume_LC_R_bbox_wrt_wholebrain.txt\" \"s3://mousebrainatlas-data/CSHL_volumes/MD594/MD594_10.0um_annotationAsScoreVolume/score_volumes/MD594_10.0um_annotationAsScoreVolume_LC_R_bbox_wrt_wholebrain.txt\"\n",
      "aws s3 cp \"/media/yuncong/YuncongPublic/CSHL_volumes/MD594/MD594_10.0um_annotationAsScoreVolume/score_volumes/MD594_10.0um_annotationAsScoreVolume_LRt_L.bp\" \"s3://mousebrainatlas-data/CSHL_volumes/MD594/MD594_10.0um_annotationAsScoreVolume/score_volumes/MD594_10.0um_annotationAsScoreVolume_LRt_L.bp\"\n",
      "aws s3 cp \"/media/yuncong/YuncongPublic/CSHL_volumes/MD594/MD594_10.0um_annotationAsScoreVolume/score_volumes/MD594_10.0um_annotationAsScoreVolume_LRt_L_bbox_wrt_wholebrain.txt\" \"s3://mousebrainatlas-data/CSHL_volumes/MD594/MD594_10.0um_annotationAsScoreVolume/score_volumes/MD594_10.0um_annotationAsScoreVolume_LRt_L_bbox_wrt_wholebrain.txt\"\n"
     ]
    },
    {
     "name": "stdout",
     "output_type": "stream",
     "text": [
      "aws s3 cp \"/media/yuncong/YuncongPublic/CSHL_volumes/MD594/MD594_10.0um_annotationAsScoreVolume/score_volumes/MD594_10.0um_annotationAsScoreVolume_LRt_R.bp\" \"s3://mousebrainatlas-data/CSHL_volumes/MD594/MD594_10.0um_annotationAsScoreVolume/score_volumes/MD594_10.0um_annotationAsScoreVolume_LRt_R.bp\"\n",
      "aws s3 cp \"/media/yuncong/YuncongPublic/CSHL_volumes/MD594/MD594_10.0um_annotationAsScoreVolume/score_volumes/MD594_10.0um_annotationAsScoreVolume_LRt_R_bbox_wrt_wholebrain.txt\" \"s3://mousebrainatlas-data/CSHL_volumes/MD594/MD594_10.0um_annotationAsScoreVolume/score_volumes/MD594_10.0um_annotationAsScoreVolume_LRt_R_bbox_wrt_wholebrain.txt\"\n",
      "aws s3 cp \"/media/yuncong/YuncongPublic/CSHL_volumes/MD594/MD594_10.0um_annotationAsScoreVolume/score_volumes/MD594_10.0um_annotationAsScoreVolume_Pn_L.bp\" \"s3://mousebrainatlas-data/CSHL_volumes/MD594/MD594_10.0um_annotationAsScoreVolume/score_volumes/MD594_10.0um_annotationAsScoreVolume_Pn_L.bp\"\n",
      "aws s3 cp \"/media/yuncong/YuncongPublic/CSHL_volumes/MD594/MD594_10.0um_annotationAsScoreVolume/score_volumes/MD594_10.0um_annotationAsScoreVolume_Pn_L_bbox_wrt_wholebrain.txt\" \"s3://mousebrainatlas-data/CSHL_volumes/MD594/MD594_10.0um_annotationAsScoreVolume/score_volumes/MD594_10.0um_annotationAsScoreVolume_Pn_L_bbox_wrt_wholebrain.txt\"\n",
      "aws s3 cp \"/media/yuncong/YuncongPublic/CSHL_volumes/MD594/MD594_10.0um_annotationAsScoreVolume/score_volumes/MD594_10.0um_annotationAsScoreVolume_Pn_R.bp\" \"s3://mousebrainatlas-data/CSHL_volumes/MD594/MD594_10.0um_annotationAsScoreVolume/score_volumes/MD594_10.0um_annotationAsScoreVolume_Pn_R.bp\"\n",
      "aws s3 cp \"/media/yuncong/YuncongPublic/CSHL_volumes/MD594/MD594_10.0um_annotationAsScoreVolume/score_volumes/MD594_10.0um_annotationAsScoreVolume_Pn_R_bbox_wrt_wholebrain.txt\" \"s3://mousebrainatlas-data/CSHL_volumes/MD594/MD594_10.0um_annotationAsScoreVolume/score_volumes/MD594_10.0um_annotationAsScoreVolume_Pn_R_bbox_wrt_wholebrain.txt\"\n",
      "aws s3 cp \"/media/yuncong/YuncongPublic/CSHL_volumes/MD594/MD594_10.0um_annotationAsScoreVolume/score_volumes/MD594_10.0um_annotationAsScoreVolume_Tz_L.bp\" \"s3://mousebrainatlas-data/CSHL_volumes/MD594/MD594_10.0um_annotationAsScoreVolume/score_volumes/MD594_10.0um_annotationAsScoreVolume_Tz_L.bp\"\n",
      "aws s3 cp \"/media/yuncong/YuncongPublic/CSHL_volumes/MD594/MD594_10.0um_annotationAsScoreVolume/score_volumes/MD594_10.0um_annotationAsScoreVolume_Tz_L_bbox_wrt_wholebrain.txt\" \"s3://mousebrainatlas-data/CSHL_volumes/MD594/MD594_10.0um_annotationAsScoreVolume/score_volumes/MD594_10.0um_annotationAsScoreVolume_Tz_L_bbox_wrt_wholebrain.txt\"\n",
      "aws s3 cp \"/media/yuncong/YuncongPublic/CSHL_volumes/MD594/MD594_10.0um_annotationAsScoreVolume/score_volumes/MD594_10.0um_annotationAsScoreVolume_Tz_R.bp\" \"s3://mousebrainatlas-data/CSHL_volumes/MD594/MD594_10.0um_annotationAsScoreVolume/score_volumes/MD594_10.0um_annotationAsScoreVolume_Tz_R.bp\"\n",
      "aws s3 cp \"/media/yuncong/YuncongPublic/CSHL_volumes/MD594/MD594_10.0um_annotationAsScoreVolume/score_volumes/MD594_10.0um_annotationAsScoreVolume_Tz_R_bbox_wrt_wholebrain.txt\" \"s3://mousebrainatlas-data/CSHL_volumes/MD594/MD594_10.0um_annotationAsScoreVolume/score_volumes/MD594_10.0um_annotationAsScoreVolume_Tz_R_bbox_wrt_wholebrain.txt\"\n",
      "aws s3 cp \"/media/yuncong/YuncongPublic/CSHL_volumes/MD594/MD594_10.0um_annotationAsScoreVolume/score_volumes/MD594_10.0um_annotationAsScoreVolume_VLL_L.bp\" \"s3://mousebrainatlas-data/CSHL_volumes/MD594/MD594_10.0um_annotationAsScoreVolume/score_volumes/MD594_10.0um_annotationAsScoreVolume_VLL_L.bp\"\n",
      "aws s3 cp \"/media/yuncong/YuncongPublic/CSHL_volumes/MD594/MD594_10.0um_annotationAsScoreVolume/score_volumes/MD594_10.0um_annotationAsScoreVolume_VLL_L_bbox_wrt_wholebrain.txt\" \"s3://mousebrainatlas-data/CSHL_volumes/MD594/MD594_10.0um_annotationAsScoreVolume/score_volumes/MD594_10.0um_annotationAsScoreVolume_VLL_L_bbox_wrt_wholebrain.txt\"\n",
      "aws s3 cp \"/media/yuncong/YuncongPublic/CSHL_volumes/MD594/MD594_10.0um_annotationAsScoreVolume/score_volumes/MD594_10.0um_annotationAsScoreVolume_VLL_R.bp\" \"s3://mousebrainatlas-data/CSHL_volumes/MD594/MD594_10.0um_annotationAsScoreVolume/score_volumes/MD594_10.0um_annotationAsScoreVolume_VLL_R.bp\"\n",
      "aws s3 cp \"/media/yuncong/YuncongPublic/CSHL_volumes/MD594/MD594_10.0um_annotationAsScoreVolume/score_volumes/MD594_10.0um_annotationAsScoreVolume_VLL_R_bbox_wrt_wholebrain.txt\" \"s3://mousebrainatlas-data/CSHL_volumes/MD594/MD594_10.0um_annotationAsScoreVolume/score_volumes/MD594_10.0um_annotationAsScoreVolume_VLL_R_bbox_wrt_wholebrain.txt\"\n",
      "aws s3 cp \"/media/yuncong/YuncongPublic/CSHL_volumes/MD594/MD594_10.0um_annotationAsScoreVolume/score_volumes/MD594_10.0um_annotationAsScoreVolume_RMC_L.bp\" \"s3://mousebrainatlas-data/CSHL_volumes/MD594/MD594_10.0um_annotationAsScoreVolume/score_volumes/MD594_10.0um_annotationAsScoreVolume_RMC_L.bp\"\n",
      "aws s3 cp \"/media/yuncong/YuncongPublic/CSHL_volumes/MD594/MD594_10.0um_annotationAsScoreVolume/score_volumes/MD594_10.0um_annotationAsScoreVolume_RMC_L_bbox_wrt_wholebrain.txt\" \"s3://mousebrainatlas-data/CSHL_volumes/MD594/MD594_10.0um_annotationAsScoreVolume/score_volumes/MD594_10.0um_annotationAsScoreVolume_RMC_L_bbox_wrt_wholebrain.txt\"\n",
      "aws s3 cp \"/media/yuncong/YuncongPublic/CSHL_volumes/MD594/MD594_10.0um_annotationAsScoreVolume/score_volumes/MD594_10.0um_annotationAsScoreVolume_RMC_R.bp\" \"s3://mousebrainatlas-data/CSHL_volumes/MD594/MD594_10.0um_annotationAsScoreVolume/score_volumes/MD594_10.0um_annotationAsScoreVolume_RMC_R.bp\"\n",
      "aws s3 cp \"/media/yuncong/YuncongPublic/CSHL_volumes/MD594/MD594_10.0um_annotationAsScoreVolume/score_volumes/MD594_10.0um_annotationAsScoreVolume_RMC_R_bbox_wrt_wholebrain.txt\" \"s3://mousebrainatlas-data/CSHL_volumes/MD594/MD594_10.0um_annotationAsScoreVolume/score_volumes/MD594_10.0um_annotationAsScoreVolume_RMC_R_bbox_wrt_wholebrain.txt\"\n",
      "aws s3 cp \"/media/yuncong/YuncongPublic/CSHL_volumes/MD594/MD594_10.0um_annotationAsScoreVolume/score_volumes/MD594_10.0um_annotationAsScoreVolume_SNC_L.bp\" \"s3://mousebrainatlas-data/CSHL_volumes/MD594/MD594_10.0um_annotationAsScoreVolume/score_volumes/MD594_10.0um_annotationAsScoreVolume_SNC_L.bp\"\n",
      "aws s3 cp \"/media/yuncong/YuncongPublic/CSHL_volumes/MD594/MD594_10.0um_annotationAsScoreVolume/score_volumes/MD594_10.0um_annotationAsScoreVolume_SNC_L_bbox_wrt_wholebrain.txt\" \"s3://mousebrainatlas-data/CSHL_volumes/MD594/MD594_10.0um_annotationAsScoreVolume/score_volumes/MD594_10.0um_annotationAsScoreVolume_SNC_L_bbox_wrt_wholebrain.txt\"\n",
      "aws s3 cp \"/media/yuncong/YuncongPublic/CSHL_volumes/MD594/MD594_10.0um_annotationAsScoreVolume/score_volumes/MD594_10.0um_annotationAsScoreVolume_SNC_R.bp\" \"s3://mousebrainatlas-data/CSHL_volumes/MD594/MD594_10.0um_annotationAsScoreVolume/score_volumes/MD594_10.0um_annotationAsScoreVolume_SNC_R.bp\"\n",
      "aws s3 cp \"/media/yuncong/YuncongPublic/CSHL_volumes/MD594/MD594_10.0um_annotationAsScoreVolume/score_volumes/MD594_10.0um_annotationAsScoreVolume_SNC_R_bbox_wrt_wholebrain.txt\" \"s3://mousebrainatlas-data/CSHL_volumes/MD594/MD594_10.0um_annotationAsScoreVolume/score_volumes/MD594_10.0um_annotationAsScoreVolume_SNC_R_bbox_wrt_wholebrain.txt\"\n",
      "aws s3 cp \"/media/yuncong/YuncongPublic/CSHL_volumes/MD594/MD594_10.0um_annotationAsScoreVolume/score_volumes/MD594_10.0um_annotationAsScoreVolume_SNR_L.bp\" \"s3://mousebrainatlas-data/CSHL_volumes/MD594/MD594_10.0um_annotationAsScoreVolume/score_volumes/MD594_10.0um_annotationAsScoreVolume_SNR_L.bp\"\n",
      "aws s3 cp \"/media/yuncong/YuncongPublic/CSHL_volumes/MD594/MD594_10.0um_annotationAsScoreVolume/score_volumes/MD594_10.0um_annotationAsScoreVolume_SNR_L_bbox_wrt_wholebrain.txt\" \"s3://mousebrainatlas-data/CSHL_volumes/MD594/MD594_10.0um_annotationAsScoreVolume/score_volumes/MD594_10.0um_annotationAsScoreVolume_SNR_L_bbox_wrt_wholebrain.txt\"\n",
      "aws s3 cp \"/media/yuncong/YuncongPublic/CSHL_volumes/MD594/MD594_10.0um_annotationAsScoreVolume/score_volumes/MD594_10.0um_annotationAsScoreVolume_SNR_R.bp\" \"s3://mousebrainatlas-data/CSHL_volumes/MD594/MD594_10.0um_annotationAsScoreVolume/score_volumes/MD594_10.0um_annotationAsScoreVolume_SNR_R.bp\"\n",
      "aws s3 cp \"/media/yuncong/YuncongPublic/CSHL_volumes/MD594/MD594_10.0um_annotationAsScoreVolume/score_volumes/MD594_10.0um_annotationAsScoreVolume_SNR_R_bbox_wrt_wholebrain.txt\" \"s3://mousebrainatlas-data/CSHL_volumes/MD594/MD594_10.0um_annotationAsScoreVolume/score_volumes/MD594_10.0um_annotationAsScoreVolume_SNR_R_bbox_wrt_wholebrain.txt\"\n"
     ]
    },
    {
     "name": "stdout",
     "output_type": "stream",
     "text": [
      "aws s3 cp \"/media/yuncong/YuncongPublic/CSHL_volumes/MD594/MD594_10.0um_annotationAsScoreVolume/score_volumes/MD594_10.0um_annotationAsScoreVolume_3N_L.bp\" \"s3://mousebrainatlas-data/CSHL_volumes/MD594/MD594_10.0um_annotationAsScoreVolume/score_volumes/MD594_10.0um_annotationAsScoreVolume_3N_L.bp\"\n",
      "aws s3 cp \"/media/yuncong/YuncongPublic/CSHL_volumes/MD594/MD594_10.0um_annotationAsScoreVolume/score_volumes/MD594_10.0um_annotationAsScoreVolume_3N_L_bbox_wrt_wholebrain.txt\" \"s3://mousebrainatlas-data/CSHL_volumes/MD594/MD594_10.0um_annotationAsScoreVolume/score_volumes/MD594_10.0um_annotationAsScoreVolume_3N_L_bbox_wrt_wholebrain.txt\"\n",
      "aws s3 cp \"/media/yuncong/YuncongPublic/CSHL_volumes/MD594/MD594_10.0um_annotationAsScoreVolume/score_volumes/MD594_10.0um_annotationAsScoreVolume_3N_R.bp\" \"s3://mousebrainatlas-data/CSHL_volumes/MD594/MD594_10.0um_annotationAsScoreVolume/score_volumes/MD594_10.0um_annotationAsScoreVolume_3N_R.bp\"\n",
      "aws s3 cp \"/media/yuncong/YuncongPublic/CSHL_volumes/MD594/MD594_10.0um_annotationAsScoreVolume/score_volumes/MD594_10.0um_annotationAsScoreVolume_3N_R_bbox_wrt_wholebrain.txt\" \"s3://mousebrainatlas-data/CSHL_volumes/MD594/MD594_10.0um_annotationAsScoreVolume/score_volumes/MD594_10.0um_annotationAsScoreVolume_3N_R_bbox_wrt_wholebrain.txt\"\n",
      "aws s3 cp \"/media/yuncong/YuncongPublic/CSHL_volumes/MD594/MD594_10.0um_annotationAsScoreVolume/score_volumes/MD594_10.0um_annotationAsScoreVolume_4N_L.bp\" \"s3://mousebrainatlas-data/CSHL_volumes/MD594/MD594_10.0um_annotationAsScoreVolume/score_volumes/MD594_10.0um_annotationAsScoreVolume_4N_L.bp\"\n",
      "aws s3 cp \"/media/yuncong/YuncongPublic/CSHL_volumes/MD594/MD594_10.0um_annotationAsScoreVolume/score_volumes/MD594_10.0um_annotationAsScoreVolume_4N_L_bbox_wrt_wholebrain.txt\" \"s3://mousebrainatlas-data/CSHL_volumes/MD594/MD594_10.0um_annotationAsScoreVolume/score_volumes/MD594_10.0um_annotationAsScoreVolume_4N_L_bbox_wrt_wholebrain.txt\"\n",
      "aws s3 cp \"/media/yuncong/YuncongPublic/CSHL_volumes/MD594/MD594_10.0um_annotationAsScoreVolume/score_volumes/MD594_10.0um_annotationAsScoreVolume_4N_R.bp\" \"s3://mousebrainatlas-data/CSHL_volumes/MD594/MD594_10.0um_annotationAsScoreVolume/score_volumes/MD594_10.0um_annotationAsScoreVolume_4N_R.bp\"\n",
      "aws s3 cp \"/media/yuncong/YuncongPublic/CSHL_volumes/MD594/MD594_10.0um_annotationAsScoreVolume/score_volumes/MD594_10.0um_annotationAsScoreVolume_4N_R_bbox_wrt_wholebrain.txt\" \"s3://mousebrainatlas-data/CSHL_volumes/MD594/MD594_10.0um_annotationAsScoreVolume/score_volumes/MD594_10.0um_annotationAsScoreVolume_4N_R_bbox_wrt_wholebrain.txt\"\n",
      "aws s3 cp \"/media/yuncong/YuncongPublic/CSHL_volumes/MD594/MD594_10.0um_annotationAsScoreVolume/score_volumes/MD594_10.0um_annotationAsScoreVolume_Sp5I_L.bp\" \"s3://mousebrainatlas-data/CSHL_volumes/MD594/MD594_10.0um_annotationAsScoreVolume/score_volumes/MD594_10.0um_annotationAsScoreVolume_Sp5I_L.bp\"\n",
      "aws s3 cp \"/media/yuncong/YuncongPublic/CSHL_volumes/MD594/MD594_10.0um_annotationAsScoreVolume/score_volumes/MD594_10.0um_annotationAsScoreVolume_Sp5I_L_bbox_wrt_wholebrain.txt\" \"s3://mousebrainatlas-data/CSHL_volumes/MD594/MD594_10.0um_annotationAsScoreVolume/score_volumes/MD594_10.0um_annotationAsScoreVolume_Sp5I_L_bbox_wrt_wholebrain.txt\"\n",
      "aws s3 cp \"/media/yuncong/YuncongPublic/CSHL_volumes/MD594/MD594_10.0um_annotationAsScoreVolume/score_volumes/MD594_10.0um_annotationAsScoreVolume_Sp5I_R.bp\" \"s3://mousebrainatlas-data/CSHL_volumes/MD594/MD594_10.0um_annotationAsScoreVolume/score_volumes/MD594_10.0um_annotationAsScoreVolume_Sp5I_R.bp\"\n",
      "aws s3 cp \"/media/yuncong/YuncongPublic/CSHL_volumes/MD594/MD594_10.0um_annotationAsScoreVolume/score_volumes/MD594_10.0um_annotationAsScoreVolume_Sp5I_R_bbox_wrt_wholebrain.txt\" \"s3://mousebrainatlas-data/CSHL_volumes/MD594/MD594_10.0um_annotationAsScoreVolume/score_volumes/MD594_10.0um_annotationAsScoreVolume_Sp5I_R_bbox_wrt_wholebrain.txt\"\n",
      "aws s3 cp \"/media/yuncong/YuncongPublic/CSHL_volumes/MD594/MD594_10.0um_annotationAsScoreVolume/score_volumes/MD594_10.0um_annotationAsScoreVolume_Sp5O_L.bp\" \"s3://mousebrainatlas-data/CSHL_volumes/MD594/MD594_10.0um_annotationAsScoreVolume/score_volumes/MD594_10.0um_annotationAsScoreVolume_Sp5O_L.bp\"\n",
      "aws s3 cp \"/media/yuncong/YuncongPublic/CSHL_volumes/MD594/MD594_10.0um_annotationAsScoreVolume/score_volumes/MD594_10.0um_annotationAsScoreVolume_Sp5O_L_bbox_wrt_wholebrain.txt\" \"s3://mousebrainatlas-data/CSHL_volumes/MD594/MD594_10.0um_annotationAsScoreVolume/score_volumes/MD594_10.0um_annotationAsScoreVolume_Sp5O_L_bbox_wrt_wholebrain.txt\"\n",
      "aws s3 cp \"/media/yuncong/YuncongPublic/CSHL_volumes/MD594/MD594_10.0um_annotationAsScoreVolume/score_volumes/MD594_10.0um_annotationAsScoreVolume_Sp5O_R.bp\" \"s3://mousebrainatlas-data/CSHL_volumes/MD594/MD594_10.0um_annotationAsScoreVolume/score_volumes/MD594_10.0um_annotationAsScoreVolume_Sp5O_R.bp\"\n",
      "aws s3 cp \"/media/yuncong/YuncongPublic/CSHL_volumes/MD594/MD594_10.0um_annotationAsScoreVolume/score_volumes/MD594_10.0um_annotationAsScoreVolume_Sp5O_R_bbox_wrt_wholebrain.txt\" \"s3://mousebrainatlas-data/CSHL_volumes/MD594/MD594_10.0um_annotationAsScoreVolume/score_volumes/MD594_10.0um_annotationAsScoreVolume_Sp5O_R_bbox_wrt_wholebrain.txt\"\n",
      "aws s3 cp \"/media/yuncong/YuncongPublic/CSHL_volumes/MD594/MD594_10.0um_annotationAsScoreVolume/score_volumes/MD594_10.0um_annotationAsScoreVolume_Sp5C_L.bp\" \"s3://mousebrainatlas-data/CSHL_volumes/MD594/MD594_10.0um_annotationAsScoreVolume/score_volumes/MD594_10.0um_annotationAsScoreVolume_Sp5C_L.bp\"\n",
      "aws s3 cp \"/media/yuncong/YuncongPublic/CSHL_volumes/MD594/MD594_10.0um_annotationAsScoreVolume/score_volumes/MD594_10.0um_annotationAsScoreVolume_Sp5C_L_bbox_wrt_wholebrain.txt\" \"s3://mousebrainatlas-data/CSHL_volumes/MD594/MD594_10.0um_annotationAsScoreVolume/score_volumes/MD594_10.0um_annotationAsScoreVolume_Sp5C_L_bbox_wrt_wholebrain.txt\"\n",
      "aws s3 cp \"/media/yuncong/YuncongPublic/CSHL_volumes/MD594/MD594_10.0um_annotationAsScoreVolume/score_volumes/MD594_10.0um_annotationAsScoreVolume_Sp5C_R.bp\" \"s3://mousebrainatlas-data/CSHL_volumes/MD594/MD594_10.0um_annotationAsScoreVolume/score_volumes/MD594_10.0um_annotationAsScoreVolume_Sp5C_R.bp\"\n",
      "aws s3 cp \"/media/yuncong/YuncongPublic/CSHL_volumes/MD594/MD594_10.0um_annotationAsScoreVolume/score_volumes/MD594_10.0um_annotationAsScoreVolume_Sp5C_R_bbox_wrt_wholebrain.txt\" \"s3://mousebrainatlas-data/CSHL_volumes/MD594/MD594_10.0um_annotationAsScoreVolume/score_volumes/MD594_10.0um_annotationAsScoreVolume_Sp5C_R_bbox_wrt_wholebrain.txt\"\n",
      "aws s3 cp \"/media/yuncong/YuncongPublic/CSHL_volumes/MD594/MD594_10.0um_annotationAsScoreVolume/score_volumes/MD594_10.0um_annotationAsScoreVolume_PBG_L.bp\" \"s3://mousebrainatlas-data/CSHL_volumes/MD594/MD594_10.0um_annotationAsScoreVolume/score_volumes/MD594_10.0um_annotationAsScoreVolume_PBG_L.bp\"\n",
      "aws s3 cp \"/media/yuncong/YuncongPublic/CSHL_volumes/MD594/MD594_10.0um_annotationAsScoreVolume/score_volumes/MD594_10.0um_annotationAsScoreVolume_PBG_L_bbox_wrt_wholebrain.txt\" \"s3://mousebrainatlas-data/CSHL_volumes/MD594/MD594_10.0um_annotationAsScoreVolume/score_volumes/MD594_10.0um_annotationAsScoreVolume_PBG_L_bbox_wrt_wholebrain.txt\"\n",
      "aws s3 cp \"/media/yuncong/YuncongPublic/CSHL_volumes/MD594/MD594_10.0um_annotationAsScoreVolume/score_volumes/MD594_10.0um_annotationAsScoreVolume_PBG_R.bp\" \"s3://mousebrainatlas-data/CSHL_volumes/MD594/MD594_10.0um_annotationAsScoreVolume/score_volumes/MD594_10.0um_annotationAsScoreVolume_PBG_R.bp\"\n",
      "aws s3 cp \"/media/yuncong/YuncongPublic/CSHL_volumes/MD594/MD594_10.0um_annotationAsScoreVolume/score_volumes/MD594_10.0um_annotationAsScoreVolume_PBG_R_bbox_wrt_wholebrain.txt\" \"s3://mousebrainatlas-data/CSHL_volumes/MD594/MD594_10.0um_annotationAsScoreVolume/score_volumes/MD594_10.0um_annotationAsScoreVolume_PBG_R_bbox_wrt_wholebrain.txt\"\n",
      "aws s3 cp \"/media/yuncong/YuncongPublic/CSHL_volumes/MD594/MD594_10.0um_annotationAsScoreVolume/score_volumes/MD594_10.0um_annotationAsScoreVolume_10N_L.bp\" \"s3://mousebrainatlas-data/CSHL_volumes/MD594/MD594_10.0um_annotationAsScoreVolume/score_volumes/MD594_10.0um_annotationAsScoreVolume_10N_L.bp\"\n",
      "aws s3 cp \"/media/yuncong/YuncongPublic/CSHL_volumes/MD594/MD594_10.0um_annotationAsScoreVolume/score_volumes/MD594_10.0um_annotationAsScoreVolume_10N_L_bbox_wrt_wholebrain.txt\" \"s3://mousebrainatlas-data/CSHL_volumes/MD594/MD594_10.0um_annotationAsScoreVolume/score_volumes/MD594_10.0um_annotationAsScoreVolume_10N_L_bbox_wrt_wholebrain.txt\"\n"
     ]
    },
    {
     "name": "stdout",
     "output_type": "stream",
     "text": [
      "aws s3 cp \"/media/yuncong/YuncongPublic/CSHL_volumes/MD594/MD594_10.0um_annotationAsScoreVolume/score_volumes/MD594_10.0um_annotationAsScoreVolume_10N_R.bp\" \"s3://mousebrainatlas-data/CSHL_volumes/MD594/MD594_10.0um_annotationAsScoreVolume/score_volumes/MD594_10.0um_annotationAsScoreVolume_10N_R.bp\"\n",
      "aws s3 cp \"/media/yuncong/YuncongPublic/CSHL_volumes/MD594/MD594_10.0um_annotationAsScoreVolume/score_volumes/MD594_10.0um_annotationAsScoreVolume_10N_R_bbox_wrt_wholebrain.txt\" \"s3://mousebrainatlas-data/CSHL_volumes/MD594/MD594_10.0um_annotationAsScoreVolume/score_volumes/MD594_10.0um_annotationAsScoreVolume_10N_R_bbox_wrt_wholebrain.txt\"\n",
      "aws s3 cp \"/media/yuncong/YuncongPublic/CSHL_volumes/MD594/MD594_10.0um_annotationAsScoreVolume/score_volumes/MD594_10.0um_annotationAsScoreVolume_VCA_L.bp\" \"s3://mousebrainatlas-data/CSHL_volumes/MD594/MD594_10.0um_annotationAsScoreVolume/score_volumes/MD594_10.0um_annotationAsScoreVolume_VCA_L.bp\"\n",
      "aws s3 cp \"/media/yuncong/YuncongPublic/CSHL_volumes/MD594/MD594_10.0um_annotationAsScoreVolume/score_volumes/MD594_10.0um_annotationAsScoreVolume_VCA_L_bbox_wrt_wholebrain.txt\" \"s3://mousebrainatlas-data/CSHL_volumes/MD594/MD594_10.0um_annotationAsScoreVolume/score_volumes/MD594_10.0um_annotationAsScoreVolume_VCA_L_bbox_wrt_wholebrain.txt\"\n",
      "aws s3 cp \"/media/yuncong/YuncongPublic/CSHL_volumes/MD594/MD594_10.0um_annotationAsScoreVolume/score_volumes/MD594_10.0um_annotationAsScoreVolume_VCA_R.bp\" \"s3://mousebrainatlas-data/CSHL_volumes/MD594/MD594_10.0um_annotationAsScoreVolume/score_volumes/MD594_10.0um_annotationAsScoreVolume_VCA_R.bp\"\n",
      "aws s3 cp \"/media/yuncong/YuncongPublic/CSHL_volumes/MD594/MD594_10.0um_annotationAsScoreVolume/score_volumes/MD594_10.0um_annotationAsScoreVolume_VCA_R_bbox_wrt_wholebrain.txt\" \"s3://mousebrainatlas-data/CSHL_volumes/MD594/MD594_10.0um_annotationAsScoreVolume/score_volumes/MD594_10.0um_annotationAsScoreVolume_VCA_R_bbox_wrt_wholebrain.txt\"\n",
      "aws s3 cp \"/media/yuncong/YuncongPublic/CSHL_volumes/MD594/MD594_10.0um_annotationAsScoreVolume/score_volumes/MD594_10.0um_annotationAsScoreVolume_VCP_L.bp\" \"s3://mousebrainatlas-data/CSHL_volumes/MD594/MD594_10.0um_annotationAsScoreVolume/score_volumes/MD594_10.0um_annotationAsScoreVolume_VCP_L.bp\"\n",
      "aws s3 cp \"/media/yuncong/YuncongPublic/CSHL_volumes/MD594/MD594_10.0um_annotationAsScoreVolume/score_volumes/MD594_10.0um_annotationAsScoreVolume_VCP_L_bbox_wrt_wholebrain.txt\" \"s3://mousebrainatlas-data/CSHL_volumes/MD594/MD594_10.0um_annotationAsScoreVolume/score_volumes/MD594_10.0um_annotationAsScoreVolume_VCP_L_bbox_wrt_wholebrain.txt\"\n",
      "aws s3 cp \"/media/yuncong/YuncongPublic/CSHL_volumes/MD594/MD594_10.0um_annotationAsScoreVolume/score_volumes/MD594_10.0um_annotationAsScoreVolume_VCP_R.bp\" \"s3://mousebrainatlas-data/CSHL_volumes/MD594/MD594_10.0um_annotationAsScoreVolume/score_volumes/MD594_10.0um_annotationAsScoreVolume_VCP_R.bp\"\n",
      "aws s3 cp \"/media/yuncong/YuncongPublic/CSHL_volumes/MD594/MD594_10.0um_annotationAsScoreVolume/score_volumes/MD594_10.0um_annotationAsScoreVolume_VCP_R_bbox_wrt_wholebrain.txt\" \"s3://mousebrainatlas-data/CSHL_volumes/MD594/MD594_10.0um_annotationAsScoreVolume/score_volumes/MD594_10.0um_annotationAsScoreVolume_VCP_R_bbox_wrt_wholebrain.txt\"\n",
      "aws s3 cp \"/media/yuncong/YuncongPublic/CSHL_volumes/MD594/MD594_10.0um_annotationAsScoreVolume/score_volumes/MD594_10.0um_annotationAsScoreVolume_DC_L.bp\" \"s3://mousebrainatlas-data/CSHL_volumes/MD594/MD594_10.0um_annotationAsScoreVolume/score_volumes/MD594_10.0um_annotationAsScoreVolume_DC_L.bp\"\n",
      "aws s3 cp \"/media/yuncong/YuncongPublic/CSHL_volumes/MD594/MD594_10.0um_annotationAsScoreVolume/score_volumes/MD594_10.0um_annotationAsScoreVolume_DC_L_bbox_wrt_wholebrain.txt\" \"s3://mousebrainatlas-data/CSHL_volumes/MD594/MD594_10.0um_annotationAsScoreVolume/score_volumes/MD594_10.0um_annotationAsScoreVolume_DC_L_bbox_wrt_wholebrain.txt\"\n",
      "aws s3 cp \"/media/yuncong/YuncongPublic/CSHL_volumes/MD594/MD594_10.0um_annotationAsScoreVolume/score_volumes/MD594_10.0um_annotationAsScoreVolume_DC_R.bp\" \"s3://mousebrainatlas-data/CSHL_volumes/MD594/MD594_10.0um_annotationAsScoreVolume/score_volumes/MD594_10.0um_annotationAsScoreVolume_DC_R.bp\"\n",
      "aws s3 cp \"/media/yuncong/YuncongPublic/CSHL_volumes/MD594/MD594_10.0um_annotationAsScoreVolume/score_volumes/MD594_10.0um_annotationAsScoreVolume_DC_R_bbox_wrt_wholebrain.txt\" \"s3://mousebrainatlas-data/CSHL_volumes/MD594/MD594_10.0um_annotationAsScoreVolume/score_volumes/MD594_10.0um_annotationAsScoreVolume_DC_R_bbox_wrt_wholebrain.txt\"\n",
      "aws s3 cp \"/media/yuncong/YuncongPublic/CSHL_volumes/MD594/MD594_10.0um_annotationAsScoreVolume/score_volumes/MD594_10.0um_annotationAsScoreVolume_AP.bp\" \"s3://mousebrainatlas-data/CSHL_volumes/MD594/MD594_10.0um_annotationAsScoreVolume/score_volumes/MD594_10.0um_annotationAsScoreVolume_AP.bp\"\n",
      "aws s3 cp \"/media/yuncong/YuncongPublic/CSHL_volumes/MD594/MD594_10.0um_annotationAsScoreVolume/score_volumes/MD594_10.0um_annotationAsScoreVolume_AP_bbox_wrt_wholebrain.txt\" \"s3://mousebrainatlas-data/CSHL_volumes/MD594/MD594_10.0um_annotationAsScoreVolume/score_volumes/MD594_10.0um_annotationAsScoreVolume_AP_bbox_wrt_wholebrain.txt\"\n",
      "aws s3 cp \"/media/yuncong/YuncongPublic/CSHL_volumes/MD594/MD594_10.0um_annotationAsScoreVolume/score_volumes/MD594_10.0um_annotationAsScoreVolume_12N.bp\" \"s3://mousebrainatlas-data/CSHL_volumes/MD594/MD594_10.0um_annotationAsScoreVolume/score_volumes/MD594_10.0um_annotationAsScoreVolume_12N.bp\"\n",
      "aws s3 cp \"/media/yuncong/YuncongPublic/CSHL_volumes/MD594/MD594_10.0um_annotationAsScoreVolume/score_volumes/MD594_10.0um_annotationAsScoreVolume_12N_bbox_wrt_wholebrain.txt\" \"s3://mousebrainatlas-data/CSHL_volumes/MD594/MD594_10.0um_annotationAsScoreVolume/score_volumes/MD594_10.0um_annotationAsScoreVolume_12N_bbox_wrt_wholebrain.txt\"\n",
      "aws s3 cp \"/media/yuncong/YuncongPublic/CSHL_volumes/MD594/MD594_10.0um_annotationAsScoreVolume/score_volumes/MD594_10.0um_annotationAsScoreVolume_RtTg.bp\" \"s3://mousebrainatlas-data/CSHL_volumes/MD594/MD594_10.0um_annotationAsScoreVolume/score_volumes/MD594_10.0um_annotationAsScoreVolume_RtTg.bp\"\n",
      "aws s3 cp \"/media/yuncong/YuncongPublic/CSHL_volumes/MD594/MD594_10.0um_annotationAsScoreVolume/score_volumes/MD594_10.0um_annotationAsScoreVolume_RtTg_bbox_wrt_wholebrain.txt\" \"s3://mousebrainatlas-data/CSHL_volumes/MD594/MD594_10.0um_annotationAsScoreVolume/score_volumes/MD594_10.0um_annotationAsScoreVolume_RtTg_bbox_wrt_wholebrain.txt\"\n",
      "aws s3 cp \"/media/yuncong/YuncongPublic/CSHL_volumes/MD594/MD594_10.0um_annotationAsScoreVolume/score_volumes/MD594_10.0um_annotationAsScoreVolume_SC.bp\" \"s3://mousebrainatlas-data/CSHL_volumes/MD594/MD594_10.0um_annotationAsScoreVolume/score_volumes/MD594_10.0um_annotationAsScoreVolume_SC.bp\"\n",
      "aws s3 cp \"/media/yuncong/YuncongPublic/CSHL_volumes/MD594/MD594_10.0um_annotationAsScoreVolume/score_volumes/MD594_10.0um_annotationAsScoreVolume_SC_bbox_wrt_wholebrain.txt\" \"s3://mousebrainatlas-data/CSHL_volumes/MD594/MD594_10.0um_annotationAsScoreVolume/score_volumes/MD594_10.0um_annotationAsScoreVolume_SC_bbox_wrt_wholebrain.txt\"\n",
      "aws s3 cp \"/media/yuncong/YuncongPublic/CSHL_volumes/MD594/MD594_10.0um_annotationAsScoreVolume/score_volumes/MD594_10.0um_annotationAsScoreVolume_IC.bp\" \"s3://mousebrainatlas-data/CSHL_volumes/MD594/MD594_10.0um_annotationAsScoreVolume/score_volumes/MD594_10.0um_annotationAsScoreVolume_IC.bp\"\n",
      "aws s3 cp \"/media/yuncong/YuncongPublic/CSHL_volumes/MD594/MD594_10.0um_annotationAsScoreVolume/score_volumes/MD594_10.0um_annotationAsScoreVolume_IC_bbox_wrt_wholebrain.txt\" \"s3://mousebrainatlas-data/CSHL_volumes/MD594/MD594_10.0um_annotationAsScoreVolume/score_volumes/MD594_10.0um_annotationAsScoreVolume_IC_bbox_wrt_wholebrain.txt\"\n"
     ]
    }
   ],
   "source": [
    "for name_s in all_known_structures_sided:\n",
    "# for name_s in ['7N_L']:\n",
    "\n",
    "    try:\n",
    "\n",
    "        name_u, side = parse_label(name_s, singular_as_s=True)[:2]\n",
    "\n",
    "        contours_xysec_wrt_wholebrain_rawResol = [[(x, y, cnt['section']) for x, y in cnt['vertices']]\n",
    "         for cid, cnt in contour_df[(contour_df['name'] == name_u) & (contour_df['side'] == side)].iterrows()]\n",
    "\n",
    "        contours_xyz_wrt_wholebrain_volResol = \\\n",
    "        [convert_frame_and_resolution(cnt_xysec,\n",
    "                                      in_wrt='wholebrain', in_resolution='image_image_section',\n",
    "                                      out_wrt='wholebrain', out_resolution='volume',\n",
    "                                     image_resolution='raw', stack=stack,\n",
    "                                     volume_resolution_um=10.)\n",
    "         for cnt_xysec in contours_xysec_wrt_wholebrain_rawResol]\n",
    "\n",
    "        volume_volResol, bbox_wrt_wholebrain_volResol = \\\n",
    "        interpolate_contours_to_volume(contours_xyz=contours_xyz_wrt_wholebrain_volResol, \n",
    "                                       interpolation_direction='z',\n",
    "                                      return_origin_instead_of_bbox=False)\n",
    "\n",
    "\n",
    "        # Save\n",
    "\n",
    "        ann_vol_fp = DataManager.get_original_volume_filepath_v2(stack_spec=brain_spec, structure=name_s)\n",
    "        create_parent_dir_if_not_exists(ann_vol_fp)\n",
    "        bp.pack_ndarray_file(volume_volResol, ann_vol_fp)\n",
    "        upload_to_s3(ann_vol_fp)\n",
    "\n",
    "        ann_bbox_fp = DataManager.get_original_volume_bbox_filepath_v2(stack_spec=brain_spec, structure=name_s)\n",
    "        np.savetxt(ann_bbox_fp, bbox_wrt_wholebrain_volResol)\n",
    "        upload_to_s3(ann_bbox_fp)\n",
    "        \n",
    "    except:\n",
    "        sys.stderr.write(\"Error reconstructing %s\\n\" % name_s)\n",
    "        continue"
   ]
  },
  {
   "cell_type": "markdown",
   "metadata": {},
   "source": [
    "# Load annotation volumes and convert to meshes"
   ]
  },
  {
   "cell_type": "code",
   "execution_count": 68,
   "metadata": {},
   "outputs": [
    {
     "name": "stderr",
     "output_type": "stream",
     "text": [
      "marching cube: 0.05 seconds\n",
      "mesh_to_polydata: 0.03 seconds\n",
      "simplify 0 @ 15713: 0.20 seconds\n",
      "simplify 1 @ 3144: 0.18 seconds\n",
      "simplify 2 @ 630: 0.04 seconds\n",
      "time: 0.51\n"
     ]
    },
    {
     "name": "stdout",
     "output_type": "stream",
     "text": [
      "aws s3 cp \"/home/yuncong/CSHL_meshes/MD594/MD594_10.0um_annotationAsScoreVolume/MD594_10.0um_annotationAsScoreVolume_5N_L.stl\" \"s3://mousebrainatlas-data/CSHL_meshes/MD594/MD594_10.0um_annotationAsScoreVolume/MD594_10.0um_annotationAsScoreVolume_5N_L.stl\"\n"
     ]
    },
    {
     "name": "stderr",
     "output_type": "stream",
     "text": [
      "marching cube: 0.04 seconds\n",
      "mesh_to_polydata: 0.02 seconds\n",
      "simplify 0 @ 13688: 0.14 seconds\n",
      "simplify 1 @ 2739: 0.11 seconds\n",
      "simplify 2 @ 549: 0.03 seconds\n",
      "time: 0.34\n"
     ]
    },
    {
     "name": "stdout",
     "output_type": "stream",
     "text": [
      "aws s3 cp \"/home/yuncong/CSHL_meshes/MD594/MD594_10.0um_annotationAsScoreVolume/MD594_10.0um_annotationAsScoreVolume_5N_R.stl\" \"s3://mousebrainatlas-data/CSHL_meshes/MD594/MD594_10.0um_annotationAsScoreVolume/MD594_10.0um_annotationAsScoreVolume_5N_R.stl\"\n"
     ]
    },
    {
     "name": "stderr",
     "output_type": "stream",
     "text": [
      "marching cube: 0.00 seconds\n",
      "mesh_to_polydata: 0.00 seconds\n",
      "simplify 0 @ 1917: 0.02 seconds\n",
      "simplify 1 @ 385: 0.01 seconds\n",
      "simplify 2 @ 78: 0.00 seconds\n",
      "time: 0.05\n"
     ]
    },
    {
     "name": "stdout",
     "output_type": "stream",
     "text": [
      "aws s3 cp \"/home/yuncong/CSHL_meshes/MD594/MD594_10.0um_annotationAsScoreVolume/MD594_10.0um_annotationAsScoreVolume_6N_L.stl\" \"s3://mousebrainatlas-data/CSHL_meshes/MD594/MD594_10.0um_annotationAsScoreVolume/MD594_10.0um_annotationAsScoreVolume_6N_L.stl\"\n"
     ]
    },
    {
     "name": "stderr",
     "output_type": "stream",
     "text": [
      "marching cube: 0.00 seconds\n",
      "mesh_to_polydata: 0.00 seconds\n",
      "simplify 0 @ 1916: 0.02 seconds\n",
      "simplify 1 @ 384: 0.01 seconds\n",
      "simplify 2 @ 78: 0.00 seconds\n",
      "time: 0.04\n"
     ]
    },
    {
     "name": "stdout",
     "output_type": "stream",
     "text": [
      "aws s3 cp \"/home/yuncong/CSHL_meshes/MD594/MD594_10.0um_annotationAsScoreVolume/MD594_10.0um_annotationAsScoreVolume_6N_R.stl\" \"s3://mousebrainatlas-data/CSHL_meshes/MD594/MD594_10.0um_annotationAsScoreVolume/MD594_10.0um_annotationAsScoreVolume_6N_R.stl\"\n"
     ]
    },
    {
     "name": "stderr",
     "output_type": "stream",
     "text": [
      "marching cube: 0.09 seconds\n",
      "mesh_to_polydata: 0.04 seconds\n",
      "simplify 0 @ 26877: 0.29 seconds\n",
      "simplify 1 @ 5377: 0.29 seconds\n",
      "simplify 2 @ 1077: 0.06 seconds\n",
      "time: 0.77\n"
     ]
    },
    {
     "name": "stdout",
     "output_type": "stream",
     "text": [
      "aws s3 cp \"/home/yuncong/CSHL_meshes/MD594/MD594_10.0um_annotationAsScoreVolume/MD594_10.0um_annotationAsScoreVolume_7N_L.stl\" \"s3://mousebrainatlas-data/CSHL_meshes/MD594/MD594_10.0um_annotationAsScoreVolume/MD594_10.0um_annotationAsScoreVolume_7N_L.stl\"\n"
     ]
    },
    {
     "name": "stderr",
     "output_type": "stream",
     "text": [
      "marching cube: 0.09 seconds\n",
      "mesh_to_polydata: 0.03 seconds\n",
      "simplify 0 @ 24003: 0.25 seconds\n",
      "simplify 1 @ 4802: 0.23 seconds\n",
      "simplify 2 @ 962: 0.05 seconds\n",
      "time: 0.66\n"
     ]
    },
    {
     "name": "stdout",
     "output_type": "stream",
     "text": [
      "aws s3 cp \"/home/yuncong/CSHL_meshes/MD594/MD594_10.0um_annotationAsScoreVolume/MD594_10.0um_annotationAsScoreVolume_7N_R.stl\" \"s3://mousebrainatlas-data/CSHL_meshes/MD594/MD594_10.0um_annotationAsScoreVolume/MD594_10.0um_annotationAsScoreVolume_7N_R.stl\"\n"
     ]
    },
    {
     "name": "stderr",
     "output_type": "stream",
     "text": [
      "marching cube: 0.17 seconds\n",
      "mesh_to_polydata: 0.02 seconds\n",
      "simplify 0 @ 20211: 0.18 seconds\n",
      "simplify 1 @ 4044: 0.17 seconds\n",
      "simplify 2 @ 810: 0.04 seconds\n",
      "time: 0.59\n"
     ]
    },
    {
     "name": "stdout",
     "output_type": "stream",
     "text": [
      "aws s3 cp \"/home/yuncong/CSHL_meshes/MD594/MD594_10.0um_annotationAsScoreVolume/MD594_10.0um_annotationAsScoreVolume_7n_L.stl\" \"s3://mousebrainatlas-data/CSHL_meshes/MD594/MD594_10.0um_annotationAsScoreVolume/MD594_10.0um_annotationAsScoreVolume_7n_L.stl\"\n"
     ]
    },
    {
     "name": "stderr",
     "output_type": "stream",
     "text": [
      "marching cube: 0.17 seconds\n",
      "mesh_to_polydata: 0.02 seconds\n",
      "simplify 0 @ 19238: 0.18 seconds\n",
      "simplify 1 @ 3849: 0.16 seconds\n",
      "simplify 2 @ 771: 0.03 seconds\n",
      "time: 0.57\n"
     ]
    },
    {
     "name": "stdout",
     "output_type": "stream",
     "text": [
      "aws s3 cp \"/home/yuncong/CSHL_meshes/MD594/MD594_10.0um_annotationAsScoreVolume/MD594_10.0um_annotationAsScoreVolume_7n_R.stl\" \"s3://mousebrainatlas-data/CSHL_meshes/MD594/MD594_10.0um_annotationAsScoreVolume/MD594_10.0um_annotationAsScoreVolume_7n_R.stl\"\n"
     ]
    },
    {
     "name": "stderr",
     "output_type": "stream",
     "text": [
      "marching cube: 0.00 seconds\n",
      "mesh_to_polydata: 0.00 seconds\n",
      "simplify 0 @ 1313: 0.02 seconds\n",
      "simplify 1 @ 264: 0.01 seconds\n",
      "simplify 2 @ 54: 0.00 seconds\n",
      "time: 0.04\n"
     ]
    },
    {
     "name": "stdout",
     "output_type": "stream",
     "text": [
      "aws s3 cp \"/home/yuncong/CSHL_meshes/MD594/MD594_10.0um_annotationAsScoreVolume/MD594_10.0um_annotationAsScoreVolume_Amb_L.stl\" \"s3://mousebrainatlas-data/CSHL_meshes/MD594/MD594_10.0um_annotationAsScoreVolume/MD594_10.0um_annotationAsScoreVolume_Amb_L.stl\"\n"
     ]
    },
    {
     "name": "stderr",
     "output_type": "stream",
     "text": [
      "marching cube: 0.00 seconds\n",
      "mesh_to_polydata: 0.00 seconds\n",
      "simplify 0 @ 1497: 0.03 seconds\n",
      "simplify 1 @ 301: 0.01 seconds\n",
      "simplify 2 @ 61: 0.00 seconds\n",
      "time: 0.05\n"
     ]
    },
    {
     "name": "stdout",
     "output_type": "stream",
     "text": [
      "aws s3 cp \"/home/yuncong/CSHL_meshes/MD594/MD594_10.0um_annotationAsScoreVolume/MD594_10.0um_annotationAsScoreVolume_Amb_R.stl\" \"s3://mousebrainatlas-data/CSHL_meshes/MD594/MD594_10.0um_annotationAsScoreVolume/MD594_10.0um_annotationAsScoreVolume_Amb_R.stl\"\n"
     ]
    },
    {
     "name": "stderr",
     "output_type": "stream",
     "text": [
      "marching cube: 0.03 seconds\n",
      "mesh_to_polydata: 0.01 seconds\n",
      "simplify 0 @ 8057: 0.11 seconds\n",
      "simplify 1 @ 1613: 0.07 seconds\n",
      "simplify 2 @ 324: 0.02 seconds\n",
      "time: 0.24\n"
     ]
    },
    {
     "name": "stdout",
     "output_type": "stream",
     "text": [
      "aws s3 cp \"/home/yuncong/CSHL_meshes/MD594/MD594_10.0um_annotationAsScoreVolume/MD594_10.0um_annotationAsScoreVolume_LC_L.stl\" \"s3://mousebrainatlas-data/CSHL_meshes/MD594/MD594_10.0um_annotationAsScoreVolume/MD594_10.0um_annotationAsScoreVolume_LC_L.stl\"\n"
     ]
    },
    {
     "name": "stderr",
     "output_type": "stream",
     "text": [
      "marching cube: 0.03 seconds\n",
      "mesh_to_polydata: 0.01 seconds\n",
      "simplify 0 @ 7459: 0.09 seconds\n",
      "simplify 1 @ 1493: 0.06 seconds\n",
      "simplify 2 @ 300: 0.01 seconds\n",
      "time: 0.20\n"
     ]
    },
    {
     "name": "stdout",
     "output_type": "stream",
     "text": [
      "aws s3 cp \"/home/yuncong/CSHL_meshes/MD594/MD594_10.0um_annotationAsScoreVolume/MD594_10.0um_annotationAsScoreVolume_LC_R.stl\" \"s3://mousebrainatlas-data/CSHL_meshes/MD594/MD594_10.0um_annotationAsScoreVolume/MD594_10.0um_annotationAsScoreVolume_LC_R.stl\"\n"
     ]
    },
    {
     "name": "stderr",
     "output_type": "stream",
     "text": [
      "marching cube: 0.13 seconds\n",
      "mesh_to_polydata: 0.04 seconds\n",
      "simplify 0 @ 25548: 0.56 seconds\n",
      "simplify 1 @ 5111: 0.48 seconds\n",
      "simplify 2 @ 1023: 0.11 seconds\n",
      "time: 1.33\n"
     ]
    },
    {
     "name": "stdout",
     "output_type": "stream",
     "text": [
      "aws s3 cp \"/home/yuncong/CSHL_meshes/MD594/MD594_10.0um_annotationAsScoreVolume/MD594_10.0um_annotationAsScoreVolume_LRt_L.stl\" \"s3://mousebrainatlas-data/CSHL_meshes/MD594/MD594_10.0um_annotationAsScoreVolume/MD594_10.0um_annotationAsScoreVolume_LRt_L.stl\"\n"
     ]
    },
    {
     "name": "stderr",
     "output_type": "stream",
     "text": [
      "marching cube: 0.36 seconds\n",
      "mesh_to_polydata: 0.10 seconds\n",
      "simplify 0 @ 29226: 0.70 seconds\n",
      "simplify 1 @ 5828: 0.47 seconds\n",
      "simplify 2 @ 1159: 0.10 seconds\n",
      "time: 1.74\n"
     ]
    },
    {
     "name": "stdout",
     "output_type": "stream",
     "text": [
      "aws s3 cp \"/home/yuncong/CSHL_meshes/MD594/MD594_10.0um_annotationAsScoreVolume/MD594_10.0um_annotationAsScoreVolume_LRt_R.stl\" \"s3://mousebrainatlas-data/CSHL_meshes/MD594/MD594_10.0um_annotationAsScoreVolume/MD594_10.0um_annotationAsScoreVolume_LRt_R.stl\"\n"
     ]
    },
    {
     "name": "stderr",
     "output_type": "stream",
     "text": [
      "marching cube: 0.26 seconds\n",
      "mesh_to_polydata: 0.09 seconds\n",
      "simplify 0 @ 36892: 0.68 seconds\n",
      "simplify 1 @ 7380: 0.58 seconds\n",
      "simplify 2 @ 1477: 0.09 seconds\n",
      "time: 1.71\n"
     ]
    },
    {
     "name": "stdout",
     "output_type": "stream",
     "text": [
      "aws s3 cp \"/home/yuncong/CSHL_meshes/MD594/MD594_10.0um_annotationAsScoreVolume/MD594_10.0um_annotationAsScoreVolume_Pn_L.stl\" \"s3://mousebrainatlas-data/CSHL_meshes/MD594/MD594_10.0um_annotationAsScoreVolume/MD594_10.0um_annotationAsScoreVolume_Pn_L.stl\"\n"
     ]
    },
    {
     "name": "stderr",
     "output_type": "stream",
     "text": [
      "marching cube: 0.12 seconds\n",
      "mesh_to_polydata: 0.04 seconds\n"
     ]
    },
    {
     "name": "stdout",
     "output_type": "stream",
     "text": [
      "aws s3 cp \"/home/yuncong/CSHL_meshes/MD594/MD594_10.0um_annotationAsScoreVolume/MD594_10.0um_annotationAsScoreVolume_Pn_R.stl\" \"s3://mousebrainatlas-data/CSHL_meshes/MD594/MD594_10.0um_annotationAsScoreVolume/MD594_10.0um_annotationAsScoreVolume_Pn_R.stl\"\n"
     ]
    },
    {
     "name": "stderr",
     "output_type": "stream",
     "text": [
      "simplify 0 @ 30237: 0.34 seconds\n",
      "simplify 1 @ 6049: 0.30 seconds\n",
      "simplify 2 @ 1211: 0.06 seconds\n",
      "time: 0.87\n",
      "marching cube: 0.02 seconds\n",
      "mesh_to_polydata: 0.01 seconds\n",
      "simplify 0 @ 8135: 0.12 seconds\n",
      "simplify 1 @ 1628: 0.06 seconds\n",
      "simplify 2 @ 327: 0.01 seconds\n",
      "time: 0.23\n"
     ]
    },
    {
     "name": "stdout",
     "output_type": "stream",
     "text": [
      "aws s3 cp \"/home/yuncong/CSHL_meshes/MD594/MD594_10.0um_annotationAsScoreVolume/MD594_10.0um_annotationAsScoreVolume_Tz_L.stl\" \"s3://mousebrainatlas-data/CSHL_meshes/MD594/MD594_10.0um_annotationAsScoreVolume/MD594_10.0um_annotationAsScoreVolume_Tz_L.stl\"\n"
     ]
    },
    {
     "name": "stderr",
     "output_type": "stream",
     "text": [
      "marching cube: 0.03 seconds\n",
      "mesh_to_polydata: 0.01 seconds\n",
      "simplify 0 @ 9461: 0.12 seconds\n",
      "simplify 1 @ 1893: 0.07 seconds\n",
      "simplify 2 @ 380: 0.02 seconds\n",
      "time: 0.25\n"
     ]
    },
    {
     "name": "stdout",
     "output_type": "stream",
     "text": [
      "aws s3 cp \"/home/yuncong/CSHL_meshes/MD594/MD594_10.0um_annotationAsScoreVolume/MD594_10.0um_annotationAsScoreVolume_Tz_R.stl\" \"s3://mousebrainatlas-data/CSHL_meshes/MD594/MD594_10.0um_annotationAsScoreVolume/MD594_10.0um_annotationAsScoreVolume_Tz_R.stl\"\n"
     ]
    },
    {
     "name": "stderr",
     "output_type": "stream",
     "text": [
      "marching cube: 0.17 seconds\n",
      "mesh_to_polydata: 0.04 seconds\n",
      "simplify 0 @ 21611: 0.36 seconds\n",
      "simplify 1 @ 4321: 0.21 seconds\n",
      "simplify 2 @ 868: 0.04 seconds\n",
      "time: 0.82\n"
     ]
    },
    {
     "name": "stdout",
     "output_type": "stream",
     "text": [
      "aws s3 cp \"/home/yuncong/CSHL_meshes/MD594/MD594_10.0um_annotationAsScoreVolume/MD594_10.0um_annotationAsScoreVolume_VLL_L.stl\" \"s3://mousebrainatlas-data/CSHL_meshes/MD594/MD594_10.0um_annotationAsScoreVolume/MD594_10.0um_annotationAsScoreVolume_VLL_L.stl\"\n"
     ]
    },
    {
     "name": "stderr",
     "output_type": "stream",
     "text": [
      "marching cube: 0.13 seconds\n",
      "mesh_to_polydata: 0.03 seconds\n",
      "simplify 0 @ 20356: 0.34 seconds\n",
      "simplify 1 @ 4062: 0.17 seconds\n",
      "simplify 2 @ 809: 0.04 seconds\n",
      "time: 0.72\n"
     ]
    },
    {
     "name": "stdout",
     "output_type": "stream",
     "text": [
      "aws s3 cp \"/home/yuncong/CSHL_meshes/MD594/MD594_10.0um_annotationAsScoreVolume/MD594_10.0um_annotationAsScoreVolume_VLL_R.stl\" \"s3://mousebrainatlas-data/CSHL_meshes/MD594/MD594_10.0um_annotationAsScoreVolume/MD594_10.0um_annotationAsScoreVolume_VLL_R.stl\"\n"
     ]
    },
    {
     "name": "stderr",
     "output_type": "stream",
     "text": [
      "marching cube: 0.03 seconds\n",
      "mesh_to_polydata: 0.01 seconds\n",
      "simplify 0 @ 12233: 0.11 seconds\n",
      "simplify 1 @ 2448: 0.09 seconds\n",
      "simplify 2 @ 491: 0.02 seconds\n",
      "time: 0.27\n"
     ]
    },
    {
     "name": "stdout",
     "output_type": "stream",
     "text": [
      "aws s3 cp \"/home/yuncong/CSHL_meshes/MD594/MD594_10.0um_annotationAsScoreVolume/MD594_10.0um_annotationAsScoreVolume_RMC_L.stl\" \"s3://mousebrainatlas-data/CSHL_meshes/MD594/MD594_10.0um_annotationAsScoreVolume/MD594_10.0um_annotationAsScoreVolume_RMC_L.stl\"\n"
     ]
    },
    {
     "name": "stderr",
     "output_type": "stream",
     "text": [
      "marching cube: 0.04 seconds\n",
      "mesh_to_polydata: 0.01 seconds\n",
      "simplify 0 @ 11812: 0.10 seconds\n",
      "simplify 1 @ 2364: 0.09 seconds\n",
      "simplify 2 @ 474: 0.02 seconds\n",
      "time: 0.27\n"
     ]
    },
    {
     "name": "stdout",
     "output_type": "stream",
     "text": [
      "aws s3 cp \"/home/yuncong/CSHL_meshes/MD594/MD594_10.0um_annotationAsScoreVolume/MD594_10.0um_annotationAsScoreVolume_RMC_R.stl\" \"s3://mousebrainatlas-data/CSHL_meshes/MD594/MD594_10.0um_annotationAsScoreVolume/MD594_10.0um_annotationAsScoreVolume_RMC_R.stl\"\n"
     ]
    },
    {
     "name": "stderr",
     "output_type": "stream",
     "text": [
      "marching cube: 0.08 seconds\n",
      "mesh_to_polydata: 0.02 seconds\n",
      "simplify 0 @ 16233: 0.14 seconds\n",
      "simplify 1 @ 3248: 0.14 seconds\n",
      "simplify 2 @ 651: 0.03 seconds\n",
      "time: 0.41\n"
     ]
    },
    {
     "name": "stdout",
     "output_type": "stream",
     "text": [
      "aws s3 cp \"/home/yuncong/CSHL_meshes/MD594/MD594_10.0um_annotationAsScoreVolume/MD594_10.0um_annotationAsScoreVolume_SNC_L.stl\" \"s3://mousebrainatlas-data/CSHL_meshes/MD594/MD594_10.0um_annotationAsScoreVolume/MD594_10.0um_annotationAsScoreVolume_SNC_L.stl\"\n"
     ]
    },
    {
     "name": "stderr",
     "output_type": "stream",
     "text": [
      "marching cube: 0.07 seconds\n",
      "mesh_to_polydata: 0.02 seconds\n",
      "simplify 0 @ 16659: 0.12 seconds\n",
      "simplify 1 @ 3333: 0.13 seconds\n",
      "simplify 2 @ 668: 0.03 seconds\n",
      "time: 0.38\n"
     ]
    },
    {
     "name": "stdout",
     "output_type": "stream",
     "text": [
      "aws s3 cp \"/home/yuncong/CSHL_meshes/MD594/MD594_10.0um_annotationAsScoreVolume/MD594_10.0um_annotationAsScoreVolume_SNC_R.stl\" \"s3://mousebrainatlas-data/CSHL_meshes/MD594/MD594_10.0um_annotationAsScoreVolume/MD594_10.0um_annotationAsScoreVolume_SNC_R.stl\"\n"
     ]
    },
    {
     "name": "stderr",
     "output_type": "stream",
     "text": [
      "marching cube: 0.34 seconds\n",
      "mesh_to_polydata: 0.07 seconds\n",
      "simplify 0 @ 65106: 0.54 seconds\n",
      "simplify 1 @ 13023: 0.63 seconds\n",
      "simplify 2 @ 2606: 0.12 seconds\n",
      "time: 1.71\n"
     ]
    },
    {
     "name": "stdout",
     "output_type": "stream",
     "text": [
      "aws s3 cp \"/home/yuncong/CSHL_meshes/MD594/MD594_10.0um_annotationAsScoreVolume/MD594_10.0um_annotationAsScoreVolume_SNR_L.stl\" \"s3://mousebrainatlas-data/CSHL_meshes/MD594/MD594_10.0um_annotationAsScoreVolume/MD594_10.0um_annotationAsScoreVolume_SNR_L.stl\"\n"
     ]
    },
    {
     "name": "stderr",
     "output_type": "stream",
     "text": [
      "marching cube: 0.31 seconds\n",
      "mesh_to_polydata: 0.07 seconds\n"
     ]
    },
    {
     "name": "stdout",
     "output_type": "stream",
     "text": [
      "aws s3 cp \"/home/yuncong/CSHL_meshes/MD594/MD594_10.0um_annotationAsScoreVolume/MD594_10.0um_annotationAsScoreVolume_SNR_R.stl\" \"s3://mousebrainatlas-data/CSHL_meshes/MD594/MD594_10.0um_annotationAsScoreVolume/MD594_10.0um_annotationAsScoreVolume_SNR_R.stl\"\n"
     ]
    },
    {
     "name": "stderr",
     "output_type": "stream",
     "text": [
      "simplify 0 @ 63191: 0.53 seconds\n",
      "simplify 1 @ 12639: 0.59 seconds\n",
      "simplify 2 @ 2529: 0.12 seconds\n",
      "time: 1.64\n",
      "marching cube: 0.01 seconds\n",
      "mesh_to_polydata: 0.01 seconds\n",
      "simplify 0 @ 4096: 0.05 seconds\n",
      "simplify 1 @ 820: 0.03 seconds\n",
      "simplify 2 @ 165: 0.01 seconds\n",
      "time: 0.11\n"
     ]
    },
    {
     "name": "stdout",
     "output_type": "stream",
     "text": [
      "aws s3 cp \"/home/yuncong/CSHL_meshes/MD594/MD594_10.0um_annotationAsScoreVolume/MD594_10.0um_annotationAsScoreVolume_3N_L.stl\" \"s3://mousebrainatlas-data/CSHL_meshes/MD594/MD594_10.0um_annotationAsScoreVolume/MD594_10.0um_annotationAsScoreVolume_3N_L.stl\"\n"
     ]
    },
    {
     "name": "stderr",
     "output_type": "stream",
     "text": [
      "marching cube: 0.01 seconds\n",
      "mesh_to_polydata: 0.01 seconds\n",
      "simplify 0 @ 4785: 0.06 seconds\n",
      "simplify 1 @ 958: 0.03 seconds\n",
      "simplify 2 @ 193: 0.01 seconds\n",
      "time: 0.12\n"
     ]
    },
    {
     "name": "stdout",
     "output_type": "stream",
     "text": [
      "aws s3 cp \"/home/yuncong/CSHL_meshes/MD594/MD594_10.0um_annotationAsScoreVolume/MD594_10.0um_annotationAsScoreVolume_3N_R.stl\" \"s3://mousebrainatlas-data/CSHL_meshes/MD594/MD594_10.0um_annotationAsScoreVolume/MD594_10.0um_annotationAsScoreVolume_3N_R.stl\"\n"
     ]
    },
    {
     "name": "stderr",
     "output_type": "stream",
     "text": [
      "marching cube: 0.00 seconds\n",
      "mesh_to_polydata: 0.00 seconds\n",
      "simplify 0 @ 1032: 0.01 seconds\n",
      "simplify 1 @ 208: 0.01 seconds\n",
      "simplify 2 @ 43: 0.00 seconds\n",
      "time: 0.03\n"
     ]
    },
    {
     "name": "stdout",
     "output_type": "stream",
     "text": [
      "aws s3 cp \"/home/yuncong/CSHL_meshes/MD594/MD594_10.0um_annotationAsScoreVolume/MD594_10.0um_annotationAsScoreVolume_4N_L.stl\" \"s3://mousebrainatlas-data/CSHL_meshes/MD594/MD594_10.0um_annotationAsScoreVolume/MD594_10.0um_annotationAsScoreVolume_4N_L.stl\"\n"
     ]
    },
    {
     "name": "stderr",
     "output_type": "stream",
     "text": [
      "marching cube: 0.00 seconds\n",
      "mesh_to_polydata: 0.00 seconds\n",
      "simplify 0 @ 801: 0.01 seconds\n",
      "simplify 1 @ 161: 0.01 seconds\n",
      "time: 0.02\n"
     ]
    },
    {
     "name": "stdout",
     "output_type": "stream",
     "text": [
      "aws s3 cp \"/home/yuncong/CSHL_meshes/MD594/MD594_10.0um_annotationAsScoreVolume/MD594_10.0um_annotationAsScoreVolume_4N_R.stl\" \"s3://mousebrainatlas-data/CSHL_meshes/MD594/MD594_10.0um_annotationAsScoreVolume/MD594_10.0um_annotationAsScoreVolume_4N_R.stl\"\n"
     ]
    },
    {
     "name": "stderr",
     "output_type": "stream",
     "text": [
      "marching cube: 0.04 seconds\n",
      "mesh_to_polydata: 0.02 seconds\n",
      "simplify 0 @ 9341: 0.21 seconds\n",
      "simplify 1 @ 1869: 0.07 seconds\n",
      "simplify 2 @ 375: 0.02 seconds\n",
      "time: 0.35\n"
     ]
    },
    {
     "name": "stdout",
     "output_type": "stream",
     "text": [
      "aws s3 cp \"/home/yuncong/CSHL_meshes/MD594/MD594_10.0um_annotationAsScoreVolume/MD594_10.0um_annotationAsScoreVolume_Sp5I_L.stl\" \"s3://mousebrainatlas-data/CSHL_meshes/MD594/MD594_10.0um_annotationAsScoreVolume/MD594_10.0um_annotationAsScoreVolume_Sp5I_L.stl\"\n"
     ]
    },
    {
     "name": "stderr",
     "output_type": "stream",
     "text": [
      "marching cube: 0.07 seconds\n",
      "mesh_to_polydata: 0.03 seconds\n",
      "simplify 0 @ 20293: 0.27 seconds\n",
      "simplify 1 @ 4060: 0.15 seconds\n",
      "simplify 2 @ 813: 0.03 seconds\n",
      "time: 0.55\n"
     ]
    },
    {
     "name": "stdout",
     "output_type": "stream",
     "text": [
      "aws s3 cp \"/home/yuncong/CSHL_meshes/MD594/MD594_10.0um_annotationAsScoreVolume/MD594_10.0um_annotationAsScoreVolume_Sp5I_R.stl\" \"s3://mousebrainatlas-data/CSHL_meshes/MD594/MD594_10.0um_annotationAsScoreVolume/MD594_10.0um_annotationAsScoreVolume_Sp5I_R.stl\"\n"
     ]
    },
    {
     "name": "stderr",
     "output_type": "stream",
     "text": [
      "marching cube: 0.07 seconds\n",
      "mesh_to_polydata: 0.03 seconds\n"
     ]
    },
    {
     "name": "stdout",
     "output_type": "stream",
     "text": [
      "aws s3 cp \"/home/yuncong/CSHL_meshes/MD594/MD594_10.0um_annotationAsScoreVolume/MD594_10.0um_annotationAsScoreVolume_Sp5O_L.stl\" \"s3://mousebrainatlas-data/CSHL_meshes/MD594/MD594_10.0um_annotationAsScoreVolume/MD594_10.0um_annotationAsScoreVolume_Sp5O_L.stl\"\n"
     ]
    },
    {
     "name": "stderr",
     "output_type": "stream",
     "text": [
      "simplify 0 @ 9376: 0.29 seconds\n",
      "simplify 1 @ 1876: 0.07 seconds\n",
      "simplify 2 @ 376: 0.02 seconds\n",
      "time: 0.47\n",
      "marching cube: 0.13 seconds\n",
      "mesh_to_polydata: 0.04 seconds\n",
      "simplify 0 @ 16609: 0.37 seconds\n",
      "simplify 1 @ 3323: 0.14 seconds\n",
      "simplify 2 @ 666: 0.03 seconds\n",
      "time: 0.71\n"
     ]
    },
    {
     "name": "stdout",
     "output_type": "stream",
     "text": [
      "aws s3 cp \"/home/yuncong/CSHL_meshes/MD594/MD594_10.0um_annotationAsScoreVolume/MD594_10.0um_annotationAsScoreVolume_Sp5O_R.stl\" \"s3://mousebrainatlas-data/CSHL_meshes/MD594/MD594_10.0um_annotationAsScoreVolume/MD594_10.0um_annotationAsScoreVolume_Sp5O_R.stl\"\n"
     ]
    },
    {
     "name": "stderr",
     "output_type": "stream",
     "text": [
      "marching cube: 0.72 seconds\n",
      "mesh_to_polydata: 0.10 seconds\n",
      "simplify 0 @ 84645: 1.34 seconds\n",
      "simplify 1 @ 16930: 1.55 seconds\n",
      "simplify 2 @ 3387: 0.34 seconds\n",
      "time: 4.09\n"
     ]
    },
    {
     "name": "stdout",
     "output_type": "stream",
     "text": [
      "aws s3 cp \"/home/yuncong/CSHL_meshes/MD594/MD594_10.0um_annotationAsScoreVolume/MD594_10.0um_annotationAsScoreVolume_Sp5C_L.stl\" \"s3://mousebrainatlas-data/CSHL_meshes/MD594/MD594_10.0um_annotationAsScoreVolume/MD594_10.0um_annotationAsScoreVolume_Sp5C_L.stl\"\n"
     ]
    },
    {
     "name": "stderr",
     "output_type": "stream",
     "text": [
      "marching cube: 0.36 seconds\n",
      "mesh_to_polydata: 0.08 seconds\n",
      "simplify 0 @ 54542: 0.62 seconds\n",
      "simplify 1 @ 10910: 0.58 seconds\n",
      "simplify 2 @ 2183: 0.12 seconds\n",
      "time: 1.79\n"
     ]
    },
    {
     "name": "stdout",
     "output_type": "stream",
     "text": [
      "aws s3 cp \"/home/yuncong/CSHL_meshes/MD594/MD594_10.0um_annotationAsScoreVolume/MD594_10.0um_annotationAsScoreVolume_Sp5C_R.stl\" \"s3://mousebrainatlas-data/CSHL_meshes/MD594/MD594_10.0um_annotationAsScoreVolume/MD594_10.0um_annotationAsScoreVolume_Sp5C_R.stl\"\n"
     ]
    },
    {
     "name": "stderr",
     "output_type": "stream",
     "text": [
      "marching cube: 0.02 seconds\n",
      "mesh_to_polydata: 0.01 seconds\n",
      "simplify 0 @ 5255: 0.06 seconds\n",
      "simplify 1 @ 1052: 0.04 seconds\n",
      "simplify 2 @ 212: 0.01 seconds\n",
      "time: 0.14\n"
     ]
    },
    {
     "name": "stdout",
     "output_type": "stream",
     "text": [
      "aws s3 cp \"/home/yuncong/CSHL_meshes/MD594/MD594_10.0um_annotationAsScoreVolume/MD594_10.0um_annotationAsScoreVolume_PBG_L.stl\" \"s3://mousebrainatlas-data/CSHL_meshes/MD594/MD594_10.0um_annotationAsScoreVolume/MD594_10.0um_annotationAsScoreVolume_PBG_L.stl\"\n"
     ]
    },
    {
     "name": "stderr",
     "output_type": "stream",
     "text": [
      "marching cube: 0.02 seconds\n",
      "mesh_to_polydata: 0.01 seconds\n",
      "simplify 0 @ 4641: 0.06 seconds\n",
      "simplify 1 @ 929: 0.04 seconds\n",
      "simplify 2 @ 187: 0.01 seconds\n",
      "time: 0.13\n"
     ]
    },
    {
     "name": "stdout",
     "output_type": "stream",
     "text": [
      "aws s3 cp \"/home/yuncong/CSHL_meshes/MD594/MD594_10.0um_annotationAsScoreVolume/MD594_10.0um_annotationAsScoreVolume_PBG_R.stl\" \"s3://mousebrainatlas-data/CSHL_meshes/MD594/MD594_10.0um_annotationAsScoreVolume/MD594_10.0um_annotationAsScoreVolume_PBG_R.stl\"\n"
     ]
    },
    {
     "name": "stderr",
     "output_type": "stream",
     "text": [
      "marching cube: 0.03 seconds\n",
      "mesh_to_polydata: 0.01 seconds\n",
      "simplify 0 @ 7144: 0.07 seconds\n",
      "simplify 1 @ 1430: 0.06 seconds\n",
      "simplify 2 @ 287: 0.01 seconds\n",
      "time: 0.18\n"
     ]
    },
    {
     "name": "stdout",
     "output_type": "stream",
     "text": [
      "aws s3 cp \"/home/yuncong/CSHL_meshes/MD594/MD594_10.0um_annotationAsScoreVolume/MD594_10.0um_annotationAsScoreVolume_10N_L.stl\" \"s3://mousebrainatlas-data/CSHL_meshes/MD594/MD594_10.0um_annotationAsScoreVolume/MD594_10.0um_annotationAsScoreVolume_10N_L.stl\"\n"
     ]
    },
    {
     "name": "stderr",
     "output_type": "stream",
     "text": [
      "marching cube: 0.02 seconds\n",
      "mesh_to_polydata: 0.01 seconds\n",
      "simplify 0 @ 6236: 0.06 seconds\n",
      "simplify 1 @ 1248: 0.04 seconds\n",
      "simplify 2 @ 251: 0.01 seconds\n",
      "time: 0.14\n"
     ]
    },
    {
     "name": "stdout",
     "output_type": "stream",
     "text": [
      "aws s3 cp \"/home/yuncong/CSHL_meshes/MD594/MD594_10.0um_annotationAsScoreVolume/MD594_10.0um_annotationAsScoreVolume_10N_R.stl\" \"s3://mousebrainatlas-data/CSHL_meshes/MD594/MD594_10.0um_annotationAsScoreVolume/MD594_10.0um_annotationAsScoreVolume_10N_R.stl\"\n"
     ]
    },
    {
     "name": "stderr",
     "output_type": "stream",
     "text": [
      "marching cube: 0.12 seconds\n",
      "mesh_to_polydata: 0.03 seconds\n",
      "simplify 0 @ 27288: 0.24 seconds\n",
      "simplify 1 @ 5459: 0.23 seconds\n",
      "simplify 2 @ 1093: 0.05 seconds\n",
      "time: 0.67\n"
     ]
    },
    {
     "name": "stdout",
     "output_type": "stream",
     "text": [
      "aws s3 cp \"/home/yuncong/CSHL_meshes/MD594/MD594_10.0um_annotationAsScoreVolume/MD594_10.0um_annotationAsScoreVolume_VCA_L.stl\" \"s3://mousebrainatlas-data/CSHL_meshes/MD594/MD594_10.0um_annotationAsScoreVolume/MD594_10.0um_annotationAsScoreVolume_VCA_L.stl\"\n"
     ]
    },
    {
     "name": "stderr",
     "output_type": "stream",
     "text": [
      "marching cube: 0.10 seconds\n",
      "mesh_to_polydata: 0.03 seconds\n",
      "simplify 0 @ 26903: 0.25 seconds\n",
      "simplify 1 @ 5382: 0.24 seconds\n",
      "simplify 2 @ 1077: 0.05 seconds\n",
      "time: 0.68\n"
     ]
    },
    {
     "name": "stdout",
     "output_type": "stream",
     "text": [
      "aws s3 cp \"/home/yuncong/CSHL_meshes/MD594/MD594_10.0um_annotationAsScoreVolume/MD594_10.0um_annotationAsScoreVolume_VCA_R.stl\" \"s3://mousebrainatlas-data/CSHL_meshes/MD594/MD594_10.0um_annotationAsScoreVolume/MD594_10.0um_annotationAsScoreVolume_VCA_R.stl\"\n"
     ]
    },
    {
     "name": "stderr",
     "output_type": "stream",
     "text": [
      "marching cube: 0.07 seconds\n",
      "mesh_to_polydata: 0.02 seconds\n",
      "simplify 0 @ 14985: 0.19 seconds\n",
      "simplify 1 @ 2998: 0.13 seconds\n",
      "simplify 2 @ 601: 0.03 seconds\n",
      "time: 0.44\n"
     ]
    },
    {
     "name": "stdout",
     "output_type": "stream",
     "text": [
      "aws s3 cp \"/home/yuncong/CSHL_meshes/MD594/MD594_10.0um_annotationAsScoreVolume/MD594_10.0um_annotationAsScoreVolume_VCP_L.stl\" \"s3://mousebrainatlas-data/CSHL_meshes/MD594/MD594_10.0um_annotationAsScoreVolume/MD594_10.0um_annotationAsScoreVolume_VCP_L.stl\"\n"
     ]
    },
    {
     "name": "stderr",
     "output_type": "stream",
     "text": [
      "marching cube: 0.06 seconds\n",
      "mesh_to_polydata: 0.02 seconds\n",
      "simplify 0 @ 14749: 0.17 seconds\n"
     ]
    },
    {
     "name": "stdout",
     "output_type": "stream",
     "text": [
      "aws s3 cp \"/home/yuncong/CSHL_meshes/MD594/MD594_10.0um_annotationAsScoreVolume/MD594_10.0um_annotationAsScoreVolume_VCP_R.stl\" \"s3://mousebrainatlas-data/CSHL_meshes/MD594/MD594_10.0um_annotationAsScoreVolume/MD594_10.0um_annotationAsScoreVolume_VCP_R.stl\"\n"
     ]
    },
    {
     "name": "stderr",
     "output_type": "stream",
     "text": [
      "simplify 1 @ 2939: 0.13 seconds\n",
      "simplify 2 @ 586: 0.03 seconds\n",
      "time: 0.41\n",
      "marching cube: 0.21 seconds\n",
      "mesh_to_polydata: 0.06 seconds\n"
     ]
    },
    {
     "name": "stdout",
     "output_type": "stream",
     "text": [
      "aws s3 cp \"/home/yuncong/CSHL_meshes/MD594/MD594_10.0um_annotationAsScoreVolume/MD594_10.0um_annotationAsScoreVolume_DC_L.stl\" \"s3://mousebrainatlas-data/CSHL_meshes/MD594/MD594_10.0um_annotationAsScoreVolume/MD594_10.0um_annotationAsScoreVolume_DC_L.stl\"\n"
     ]
    },
    {
     "name": "stderr",
     "output_type": "stream",
     "text": [
      "simplify 0 @ 24964: 0.42 seconds\n",
      "simplify 1 @ 4994: 0.39 seconds\n",
      "simplify 2 @ 1000: 0.08 seconds\n",
      "time: 1.17\n",
      "marching cube: 0.18 seconds\n",
      "mesh_to_polydata: 0.04 seconds\n",
      "simplify 0 @ 24377: 0.29 seconds\n",
      "simplify 1 @ 4877: 0.27 seconds\n",
      "simplify 2 @ 977: 0.06 seconds\n",
      "time: 0.84\n"
     ]
    },
    {
     "name": "stdout",
     "output_type": "stream",
     "text": [
      "aws s3 cp \"/home/yuncong/CSHL_meshes/MD594/MD594_10.0um_annotationAsScoreVolume/MD594_10.0um_annotationAsScoreVolume_DC_R.stl\" \"s3://mousebrainatlas-data/CSHL_meshes/MD594/MD594_10.0um_annotationAsScoreVolume/MD594_10.0um_annotationAsScoreVolume_DC_R.stl\"\n"
     ]
    },
    {
     "name": "stderr",
     "output_type": "stream",
     "text": [
      "marching cube: 0.02 seconds\n",
      "mesh_to_polydata: 0.01 seconds\n",
      "simplify 0 @ 5836: 0.07 seconds\n",
      "simplify 1 @ 1168: 0.05 seconds\n",
      "simplify 2 @ 235: 0.01 seconds\n",
      "time: 0.16\n"
     ]
    },
    {
     "name": "stdout",
     "output_type": "stream",
     "text": [
      "aws s3 cp \"/home/yuncong/CSHL_meshes/MD594/MD594_10.0um_annotationAsScoreVolume/MD594_10.0um_annotationAsScoreVolume_AP.stl\" \"s3://mousebrainatlas-data/CSHL_meshes/MD594/MD594_10.0um_annotationAsScoreVolume/MD594_10.0um_annotationAsScoreVolume_AP.stl\"\n"
     ]
    },
    {
     "name": "stderr",
     "output_type": "stream",
     "text": [
      "marching cube: 0.10 seconds\n",
      "mesh_to_polydata: 0.04 seconds\n",
      "simplify 0 @ 26761: 0.26 seconds\n",
      "simplify 1 @ 5353: 0.25 seconds\n",
      "simplify 2 @ 1072: 0.06 seconds\n",
      "time: 0.71\n"
     ]
    },
    {
     "name": "stdout",
     "output_type": "stream",
     "text": [
      "aws s3 cp \"/home/yuncong/CSHL_meshes/MD594/MD594_10.0um_annotationAsScoreVolume/MD594_10.0um_annotationAsScoreVolume_12N.stl\" \"s3://mousebrainatlas-data/CSHL_meshes/MD594/MD594_10.0um_annotationAsScoreVolume/MD594_10.0um_annotationAsScoreVolume_12N.stl\"\n"
     ]
    },
    {
     "name": "stderr",
     "output_type": "stream",
     "text": [
      "marching cube: 0.29 seconds\n",
      "mesh_to_polydata: 0.07 seconds\n",
      "simplify 0 @ 59167: 0.59 seconds\n",
      "simplify 1 @ 11835: 0.59 seconds\n",
      "simplify 2 @ 2368: 0.12 seconds\n",
      "time: 1.68\n"
     ]
    },
    {
     "name": "stdout",
     "output_type": "stream",
     "text": [
      "aws s3 cp \"/home/yuncong/CSHL_meshes/MD594/MD594_10.0um_annotationAsScoreVolume/MD594_10.0um_annotationAsScoreVolume_RtTg.stl\" \"s3://mousebrainatlas-data/CSHL_meshes/MD594/MD594_10.0um_annotationAsScoreVolume/MD594_10.0um_annotationAsScoreVolume_RtTg.stl\"\n"
     ]
    },
    {
     "name": "stderr",
     "output_type": "stream",
     "text": [
      "marching cube: 2.24 seconds\n",
      "mesh_to_polydata: 0.33 seconds\n",
      "simplify 0 @ 279025: 2.70 seconds\n",
      "simplify 1 @ 55807: 4.37 seconds\n",
      "simplify 2 @ 11162: 1.12 seconds\n",
      "time: 10.87\n"
     ]
    },
    {
     "name": "stdout",
     "output_type": "stream",
     "text": [
      "aws s3 cp \"/home/yuncong/CSHL_meshes/MD594/MD594_10.0um_annotationAsScoreVolume/MD594_10.0um_annotationAsScoreVolume_SC.stl\" \"s3://mousebrainatlas-data/CSHL_meshes/MD594/MD594_10.0um_annotationAsScoreVolume/MD594_10.0um_annotationAsScoreVolume_SC.stl\"\n"
     ]
    },
    {
     "name": "stderr",
     "output_type": "stream",
     "text": [
      "marching cube: 0.95 seconds\n",
      "mesh_to_polydata: 0.19 seconds\n",
      "simplify 0 @ 145616: 2.12 seconds\n",
      "simplify 1 @ 29125: 1.82 seconds\n",
      "simplify 2 @ 5826: 0.37 seconds\n",
      "time: 5.49\n"
     ]
    },
    {
     "name": "stdout",
     "output_type": "stream",
     "text": [
      "aws s3 cp \"/home/yuncong/CSHL_meshes/MD594/MD594_10.0um_annotationAsScoreVolume/MD594_10.0um_annotationAsScoreVolume_IC.stl\" \"s3://mousebrainatlas-data/CSHL_meshes/MD594/MD594_10.0um_annotationAsScoreVolume/MD594_10.0um_annotationAsScoreVolume_IC.stl\"\n"
     ]
    }
   ],
   "source": [
    "for name_s in all_known_structures_sided:\n",
    "# for name_s in ['7N_L']:\n",
    "\n",
    "    try:\n",
    "        vol, origin_wrt_wholebrain_volResol = DataManager.load_original_volume_v2(stack_spec=brain_spec,\n",
    "                                                structure=name_s, return_origin_instead_of_bbox=True)\n",
    "    except:\n",
    "        sys.stderr.write(\"Error loading %s\\n\" % name_s)\n",
    "        continue\n",
    "        \n",
    "    t = time.time()\n",
    "    mesh = volume_to_polydata(vol, origin=origin_wrt_wholebrain_volResol, num_simplify_iter=3, smooth=True)\n",
    "\n",
    "    sys.stderr.write('time: %.2f\\n' % (time.time() - t) ) # ~ 150s for outerContour; 93s for sp5\n",
    "\n",
    "    mesh_fp = DataManager.get_mesh_filepath_v2(brain_spec=brain_spec, structure=name_s)\n",
    "    create_parent_dir_if_not_exists(mesh_fp)\n",
    "    save_mesh_stl(mesh, mesh_fp)\n",
    "    upload_to_s3(mesh_fp)"
   ]
  },
  {
   "cell_type": "markdown",
   "metadata": {},
   "source": [
    "# Load meshes"
   ]
  },
  {
   "cell_type": "code",
   "execution_count": 69,
   "metadata": {},
   "outputs": [],
   "source": [
    "meshes_wrt_wholebrain_volResol = DataManager.load_meshes_v2(brain_spec=brain_spec, sided=True)"
   ]
  },
  {
   "cell_type": "code",
   "execution_count": 70,
   "metadata": {
    "collapsed": true
   },
   "outputs": [],
   "source": [
    "mesh_actors_wrt_wholebrain_volResol = [actor_mesh(mesh, np.array(name_unsided_to_color[convert_to_original_name(name_s)])/255., \n",
    "                          wireframe=False, opacity=1.) \n",
    "               for name_s, mesh in meshes_wrt_wholebrain_volResol.iteritems()]"
   ]
  },
  {
   "cell_type": "code",
   "execution_count": 71,
   "metadata": {
    "collapsed": true
   },
   "outputs": [],
   "source": [
    "shell_polydata_wrt_wholebrain_volResol = DataManager.load_mesh_v2(brain_spec=brain_spec, structure='shell')\n",
    "shell_actor_wrt_wholebrain_volResol = actor_mesh(shell_polydata_wrt_wholebrain_volResol, (1,1,1), opacity=.1, wireframe=False)"
   ]
  },
  {
   "cell_type": "code",
   "execution_count": 72,
   "metadata": {},
   "outputs": [],
   "source": [
    "launch_vtk(mesh_actors_wrt_wholebrain_volResol + [shell_actor_wrt_wholebrain_volResol], init_angle='45')"
   ]
  },
  {
   "cell_type": "code",
   "execution_count": null,
   "metadata": {
    "collapsed": true
   },
   "outputs": [],
   "source": []
  },
  {
   "cell_type": "code",
   "execution_count": null,
   "metadata": {
    "collapsed": true
   },
   "outputs": [],
   "source": [
    "# Export to rgb PLY file (STL file can not have color info)\n",
    "# https://github.com/Kitware/VTK/blob/master/IO/PLY/Testing/Python/TestPLYReadWrite.py#L31\n",
    "# http://www.vtk.org/doc/nightly/html/classvtkPLYWriter.html#aa7f0bdbb2decdc7a7360a890a6c10e8b\n",
    "\n",
    "for name_s, polydata in polydata_list.iteritems():\n",
    "    fn = os.path.join(mesh_rootdir, stack, \"%(stack)s_down32_%(name)s_smoothed.ply\" % {'stack': stack, 'name':name_s})\n",
    "    save_mesh(polydata, fn, color=(colors[convert_name_to_unsided(name_s)]*255).astype(np.int))"
   ]
  }
 ],
 "metadata": {
  "kernelspec": {
   "display_name": "Python 2",
   "language": "python",
   "name": "python2"
  },
  "language_info": {
   "codemirror_mode": {
    "name": "ipython",
    "version": 2
   },
   "file_extension": ".py",
   "mimetype": "text/x-python",
   "name": "python",
   "nbconvert_exporter": "python",
   "pygments_lexer": "ipython2",
   "version": "2.7.12"
  }
 },
 "nbformat": 4,
 "nbformat_minor": 1
}
