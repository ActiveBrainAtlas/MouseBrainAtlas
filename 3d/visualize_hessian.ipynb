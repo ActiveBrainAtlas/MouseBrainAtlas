{
 "cells": [
  {
   "cell_type": "code",
   "execution_count": 1,
   "metadata": {
    "collapsed": false
   },
   "outputs": [
    {
     "name": "stdout",
     "output_type": "stream",
     "text": [
      "Setting environment for Brainstem workstation or Local\n"
     ]
    },
    {
     "name": "stderr",
     "output_type": "stream",
     "text": [
      "/usr/lib/python2.7/dist-packages/pkg_resources.py:1031: UserWarning: /home/yuncong/.python-eggs is writable by group/others and vulnerable to attack when used with get_resource_filename. Consider a more secure location (set with .set_extraction_path or the PYTHON_EGG_CACHE environment variable).\n",
      "  warnings.warn(msg, UserWarning)\n"
     ]
    }
   ],
   "source": [
    "%reload_ext autoreload\n",
    "%autoreload 2\n",
    "\n",
    "import vtk\n",
    "from vtk.util import numpy_support\n",
    "\n",
    "import numpy as np\n",
    "import bloscpack as bp\n",
    "\n",
    "import sys\n",
    "import os\n",
    "sys.path.append(os.path.join(os.environ['REPO_DIR'], 'utilities'))\n",
    "from utilities2015 import *\n",
    "from annotation_utilities import *\n",
    "from registration_utilities import *\n",
    "\n",
    "from skimage.measure import mesh_surface_area, marching_cubes, correct_mesh_orientation\n",
    "\n",
    "from itertools import izip\n",
    "import pandas as pd\n",
    "\n",
    "import time\n",
    "\n",
    "import matplotlib.pyplot as plt\n",
    "%matplotlib inline\n",
    "\n",
    "from vis3d_utilities import *"
   ]
  },
  {
   "cell_type": "code",
   "execution_count": 2,
   "metadata": {
    "collapsed": true
   },
   "outputs": [],
   "source": [
    "with open('colors.txt', 'r') as f:\n",
    "    colors = {l[0]: np.r_[float(l[1]), float(l[2]), float(l[3])] for l in map(lambda x: x.split(), f.readlines())}"
   ]
  },
  {
   "cell_type": "code",
   "execution_count": 3,
   "metadata": {
    "collapsed": true
   },
   "outputs": [],
   "source": [
    "atlas_volume = bp.unpack_ndarray_file(volume_dir + '/atlasVolume_icp.bp').astype(np.int8)\n",
    "\n",
    "available_labels_sided = [labels_sided[i-1] for i in np.unique(atlas_volume) if i > 0]\n",
    "available_labels_unsided = set([labelMap_sidedToUnsided[name] for name in available_labels_sided ])"
   ]
  },
  {
   "cell_type": "code",
   "execution_count": null,
   "metadata": {
    "collapsed": true
   },
   "outputs": [],
   "source": []
  },
  {
   "cell_type": "code",
   "execution_count": 4,
   "metadata": {
    "collapsed": true
   },
   "outputs": [],
   "source": [
    "stack = 'MD594'"
   ]
  },
  {
   "cell_type": "code",
   "execution_count": 5,
   "metadata": {
    "collapsed": false
   },
   "outputs": [],
   "source": [
    "# Load atlasProjected volume\n",
    "\n",
    "atlasProjected_polydata_list = {}\n",
    "\n",
    "for name_s in available_labels_sided:\n",
    "\n",
    "    fn = mesh_rootdir + \"/%(stack)s/%(stack)s_atlasProjectedVolume_%(name)s_smoothed.stl\" % {'stack': stack, 'name': name_s}\n",
    "\n",
    "    reader = vtk.vtkSTLReader()\n",
    "    reader.SetFileName(fn)\n",
    "    reader.Update()\n",
    "\n",
    "    polydata = reader.GetOutput()    \n",
    "    atlasProjected_polydata_list[name_s] = polydata"
   ]
  },
  {
   "cell_type": "code",
   "execution_count": 6,
   "metadata": {
    "collapsed": true
   },
   "outputs": [],
   "source": [
    "# Load localAdjusted volume\n",
    "\n",
    "localAdjusted_polydata_list = {}\n",
    "\n",
    "for name_s in available_labels_sided:\n",
    "\n",
    "    fn = mesh_rootdir + \"/%(stack)s/%(stack)s_localAdjustedVolume_%(name)s_smoothed.stl\" % {'stack': stack, 'name': name_s}\n",
    "\n",
    "    reader = vtk.vtkSTLReader()\n",
    "    reader.SetFileName(fn)\n",
    "    reader.Update()\n",
    "\n",
    "    polydata = reader.GetOutput()    \n",
    "    localAdjusted_polydata_list[name_s] = polydata\n",
    "    \n",
    "    \n",
    "centroid_localAdjusted_polydata_list = {}\n",
    "\n",
    "for name_s, polydata in localAdjusted_polydata_list.iteritems():\n",
    "    vertices, faces = polydata_to_mesh(polydata)\n",
    "    centroid_localAdjusted_polydata_list[name_s] = vertices.mean(axis=0)"
   ]
  },
  {
   "cell_type": "code",
   "execution_count": 7,
   "metadata": {
    "collapsed": false
   },
   "outputs": [],
   "source": [
    "hessian_allStacks_allLandmarks = pickle.load(open('/home/yuncong/CSHL_atlasAlignParams_atlas/hessian_individualAlign_allStacks_allLandmarks.pkl', 'r'))\n",
    "std_allStacks_allLandmarks = pickle.load(open('/home/yuncong/CSHL_atlasAlignParams_atlas/std_individualAlign_allStacks_allLandmarks.pkl', 'r'))"
   ]
  },
  {
   "cell_type": "code",
   "execution_count": null,
   "metadata": {
    "collapsed": false
   },
   "outputs": [],
   "source": [
    "# hessian_allLandmarks = {name_s: stk_v[stack] for name_s, stk_v in hessian_allStacks_allLandmarks.iteritems()}\n",
    "# std_allLandmarks = {name_s: stk_v[stack] for name_s, stk_v in std_allStacks_allLandmarks.iteritems()}"
   ]
  },
  {
   "cell_type": "code",
   "execution_count": null,
   "metadata": {
    "collapsed": true
   },
   "outputs": [],
   "source": []
  },
  {
   "cell_type": "code",
   "execution_count": 8,
   "metadata": {
    "collapsed": false
   },
   "outputs": [
    {
     "ename": "NameError",
     "evalue": "name 'Htr' is not defined",
     "output_type": "error",
     "traceback": [
      "\u001b[1;31m---------------------------------------------------------------------------\u001b[0m",
      "\u001b[1;31mNameError\u001b[0m                                 Traceback (most recent call last)",
      "\u001b[1;32m<ipython-input-8-44e340a46d5b>\u001b[0m in \u001b[0;36m<module>\u001b[1;34m()\u001b[0m\n\u001b[0;32m     34\u001b[0m \u001b[0mget_ipython\u001b[0m\u001b[1;33m(\u001b[0m\u001b[1;33m)\u001b[0m\u001b[1;33m.\u001b[0m\u001b[0mmagic\u001b[0m\u001b[1;33m(\u001b[0m\u001b[1;34mu'matplotlib qt4'\u001b[0m\u001b[1;33m)\u001b[0m\u001b[1;33m\u001b[0m\u001b[0m\n\u001b[0;32m     35\u001b[0m show_sphere_plot(np.array([1./2. * 10**2 * np.dot(np.dot(sv, Htr[name_s][stack]), sv) / std_allStacks_allLandmarks[name_s][stack]\n\u001b[1;32m---> 36\u001b[1;33m           for sv in sphere_vecs]).reshape((sphere_xs.shape)))\n\u001b[0m",
      "\u001b[1;31mNameError\u001b[0m: name 'Htr' is not defined"
     ]
    }
   ],
   "source": [
    "# matplotlib sphere plot\n",
    "\n",
    "phi, theta = np.mgrid[0:np.pi:51j, 0:2 * np.pi:51j]\n",
    "sphere_xs = np.sin(phi) * np.cos(theta)\n",
    "sphere_ys = np.sin(phi) * np.sin(theta)\n",
    "sphere_zs = np.cos(phi)\n",
    "sphere_vecs = np.c_[sphere_xs.flat, sphere_ys.flat, sphere_zs.flat]\n",
    "# sphere_vecs = np.dstack([x, y, z])\n",
    "\n",
    "from matplotlib import colors\n",
    "\n",
    "def show_sphere_plot(fcolors, title=None):\n",
    "    \n",
    "#     from matplotlib import colors\n",
    "    from mpl_toolkits.mplot3d import Axes3D\n",
    "    \n",
    "    fig = plt.figure(figsize=plt.figaspect(1.))\n",
    "    ax = fig.add_subplot(111, projection='3d')\n",
    "    \n",
    "    norm = colors.Normalize(vmin = 0, vmax = 2.5, clip = False)\n",
    "    m = plt.cm.ScalarMappable(norm=norm, cmap=plt.cm.jet)\n",
    "    m.set_array(fcolors)\n",
    "    \n",
    "    surf = ax.plot_surface(sphere_xs, sphere_ys, sphere_zs,  rstride=1, cstride=1, \n",
    "                           facecolors=m.to_rgba(fcolors))\n",
    "    # Turn off the axis planes\n",
    "    ax.set_axis_off()\n",
    "    if title is not None:\n",
    "        plt.title(title);\n",
    "    \n",
    "    plt.colorbar(m);\n",
    "    plt.show()\n",
    "\n",
    "%matplotlib qt4\n",
    "show_sphere_plot(np.array([1./2. * 10**2 * np.dot(np.dot(sv, Htr[name_s][stack]), sv) / std_allStacks_allLandmarks[name_s][stack]\n",
    "          for sv in sphere_vecs]).reshape((sphere_xs.shape)))"
   ]
  },
  {
   "cell_type": "code",
   "execution_count": 9,
   "metadata": {
    "collapsed": true
   },
   "outputs": [],
   "source": [
    "# VTK sphere plot"
   ]
  },
  {
   "cell_type": "code",
   "execution_count": 13,
   "metadata": {
    "collapsed": false
   },
   "outputs": [],
   "source": [
    "length_factor = 1e6\n",
    "\n",
    "R = defaultdict(dict)\n",
    "V = defaultdict(dict)\n",
    "S = defaultdict(dict)\n",
    "Htr = defaultdict(dict)\n",
    "\n",
    "for li, (name_s, hs) in enumerate(hessian_allStacks_allLandmarks.iteritems()):\n",
    "\n",
    "    for st, h in hs.iteritems():\n",
    "        \n",
    "        std = std_allStacks_allLandmarks[name_s][st]\n",
    "        \n",
    "        q = np.r_[3,7,11]\n",
    "        h_tr = h[q[:,None], q]\n",
    "        \n",
    "        Htr[name_s][st] = h_tr\n",
    "        \n",
    "        s, v = np.linalg.eigh(h_tr)\n",
    "                \n",
    "        S[name_s][st] = 1./2. * 10**2 * s[2] / std\n",
    "        V[name_s][st] = v\n",
    "\n",
    "        R[name_s][st] = v*2e-9/s[None, :] * length_factor\n",
    "        R[name_s][st] = R[name_s][st] * np.sign(R[name_s][st][0])\n",
    "        \n",
    "R.default_factory = None\n",
    "V.default_factory = None\n",
    "S.default_factory = None\n",
    "Htr.default_factory = None"
   ]
  },
  {
   "cell_type": "code",
   "execution_count": 21,
   "metadata": {
    "collapsed": true
   },
   "outputs": [],
   "source": [
    "mesh_actors = [actor_mesh(polydata, (1.,1.,1.), opacity=.3, wireframe=True) \n",
    "               for name_s, polydata in localAdjusted_polydata_list.iteritems() if name_s == 'VLL_L']\n",
    "\n",
    "sphere_actors = [actor_mesh(polydata_heat_sphere(lambda v: -1./2. * 10**2 * np.dot(np.dot(v, Htr[name_s][stack]), v) / std_allStacks_allLandmarks[name_s][stack], \n",
    "                                            loc=centroid_localAdjusted_polydata_list[name_s], radius=20,\n",
    "                                           vmin=0.5, vmax=2.5))\n",
    "           for name_s in available_labels_sided if name_s == 'VLL_L']\n",
    "\n",
    "launch_vtk(mesh_actors + sphere_actors)"
   ]
  },
  {
   "cell_type": "code",
   "execution_count": 20,
   "metadata": {
    "collapsed": false,
    "scrolled": true
   },
   "outputs": [],
   "source": [
    "mesh_actors = [actor_mesh(polydata, (1.,1.,1.), opacity=.3, wireframe=True) \n",
    "               for name_s, polydata in localAdjusted_polydata_list.iteritems()]\n",
    "\n",
    "sphere_actors = [actor_mesh(polydata_heat_sphere(lambda v: -1./2. * 10**2 * np.dot(np.dot(v, Htr[name_s][stack]), v) / std_allStacks_allLandmarks[name_s][stack], \n",
    "                                            loc=centroid_localAdjusted_polydata_list[name_s], radius=20,\n",
    "                                           vmin=0.5, vmax=2.5))\n",
    "           for name_s in available_labels_sided]\n",
    "\n",
    "launch_vtk(mesh_actors + sphere_actors)"
   ]
  },
  {
   "cell_type": "code",
   "execution_count": null,
   "metadata": {
    "collapsed": true
   },
   "outputs": [],
   "source": []
  },
  {
   "cell_type": "code",
   "execution_count": 11,
   "metadata": {
    "collapsed": true
   },
   "outputs": [],
   "source": [
    "anchor_points = [ centroid_localAdjusted_polydata_list[name_s] for name_s in available_labels_sided]\n",
    "anchor_vectors2 = [ R[name_s][stack][:,2] for name_s in available_labels_sided]\n",
    "anchor_vectors1 = [ R[name_s][stack][:,1] for name_s in available_labels_sided]\n",
    "anchor_vectors0 = [ R[name_s][stack][:,0] for name_s in available_labels_sided]"
   ]
  },
  {
   "cell_type": "code",
   "execution_count": 12,
   "metadata": {
    "collapsed": false
   },
   "outputs": [],
   "source": [
    "# Show uncertainty ellipse\n",
    "\n",
    "# mesh_actors = [actor_mesh(polydata, colors[labelMap_sidedToUnsided[name_s]], opacity=.3, wireframe=True) \n",
    "#                for name_s, polydata in localAdjusted_polydata_list.iteritems()]\n",
    "\n",
    "mesh_actors = [actor_mesh(polydata, (1.,1.,1.), opacity=.3, wireframe=True) \n",
    "               for name_s, polydata in localAdjusted_polydata_list.iteritems()]\n",
    "\n",
    "ellipse_actors = [actor_ellipse(anchor_point, anchor_vector0, anchor_vector1, anchor_vector2, wireframe=True)\n",
    "                  for anchor_point, anchor_vector0, anchor_vector1, anchor_vector2 \\\n",
    "                  in zip(anchor_points, anchor_vectors0, anchor_vectors1, anchor_vectors2)]\n",
    "\n",
    "launch_vtk(mesh_actors + ellipse_actors, init_angle='30')"
   ]
  },
  {
   "cell_type": "code",
   "execution_count": null,
   "metadata": {
    "collapsed": true
   },
   "outputs": [],
   "source": []
  },
  {
   "cell_type": "code",
   "execution_count": null,
   "metadata": {
    "collapsed": true
   },
   "outputs": [],
   "source": [
    "# Show three axes\n",
    "\n",
    "ren1 = vtk.vtkRenderer()\n",
    "\n",
    "renWin1 = vtk.vtkRenderWindow()\n",
    "renWin1.AddRenderer(ren1)\n",
    "\n",
    "iren1 = vtk.vtkRenderWindowInteractor()\n",
    "iren1.SetRenderWindow(renWin1)\n",
    "\n",
    "camera = vtk.vtkCamera()\n",
    "\n",
    "# 45 degree\n",
    "camera.SetViewUp(0, -1, 0)\n",
    "camera.SetPosition(-20, -30, -10)\n",
    "camera.SetFocalPoint(1, 1, 1)\n",
    "\n",
    "# # saggital\n",
    "# camera.SetViewUp(0, -1, 0)\n",
    "# camera.SetPosition(0, 0, -2)\n",
    "# camera.SetFocalPoint(0, 0, 1)\n",
    "\n",
    "# # coronal\n",
    "# camera.SetViewUp(0, -1, 0)\n",
    "# camera.SetPosition(-2, 0, 0)\n",
    "# camera.SetFocalPoint(-1, 0, 0)\n",
    "\n",
    "# # horizontal\n",
    "# camera.SetViewUp(0, 0, -1)\n",
    "# camera.SetPosition(0, 1, 0)\n",
    "# camera.SetFocalPoint(0, -1, 0)\n",
    "    \n",
    "# for i, (name_s, polydata) in enumerate(localAdjusted_polydata_list.iteritems()):\n",
    "    \n",
    "#     m = vtk.vtkPolyDataMapper()\n",
    "#     m.SetInputData(polydata)\n",
    "\n",
    "#     a = vtk.vtkActor()\n",
    "#     a.SetMapper(m)\n",
    "#     a.GetProperty().SetRepresentationToWireframe()\n",
    "# #     a.GetProperty().SetColor(colors[labelMap_sidedToUnsided[name_s]])\n",
    "#     a.GetProperty().SetColor((1.,1.,1.))\n",
    "#     a.GetProperty().SetOpacity(.1)\n",
    "    \n",
    "#     ren1.AddActor(a)\n",
    "    \n",
    "    \n",
    "arrowSource = vtk.vtkArrowSource()\n",
    "\n",
    "for anchor_vectors, c in zip([anchor_vectors2, anchor_vectors1, anchor_vectors0],\n",
    "                            [(1.,0.,0.),(0.,1.,0.),(0.,0.,1.)]):\n",
    "\n",
    "    for p_ind in range(len(anchor_points)):\n",
    "\n",
    "        anchor_point = anchor_points[p_ind]\n",
    "        anchor_vector = anchor_vectors[p_ind]\n",
    "\n",
    "        length = np.linalg.norm(anchor_vector)\n",
    "        normalizedX = anchor_vector/length\n",
    "\n",
    "        arbitrary = np.random.uniform(-10, 10, 3)\n",
    "        normalizedZ = np.cross(normalizedX, arbitrary)\n",
    "        normalizedZ = normalizedZ/np.linalg.norm(normalizedZ)\n",
    "        normalizedY = np.cross(normalizedZ, normalizedX)\n",
    "        normalizedY = normalizedY/np.linalg.norm(normalizedY)\n",
    "\n",
    "        matrix = vtk.vtkMatrix4x4()\n",
    "\n",
    "        # Create the direction cosine matrix\n",
    "        matrix.Identity()\n",
    "        for i in range(3):\n",
    "            matrix.SetElement(i, 0, normalizedX[i])\n",
    "            matrix.SetElement(i, 1, normalizedY[i])\n",
    "            matrix.SetElement(i, 2, normalizedZ[i])\n",
    "\n",
    "        # Apply the transforms\n",
    "        transform = vtk.vtkTransform()\n",
    "        transform.Translate(anchor_point)\n",
    "        transform.Concatenate(matrix)\n",
    "        transform.Scale(length, length, length)\n",
    "\n",
    "        # Transform the polydata\n",
    "        transformPD = vtk.vtkTransformPolyDataFilter()\n",
    "        transformPD.SetTransform(transform)\n",
    "        transformPD.SetInputConnection(arrowSource.GetOutputPort())\n",
    "\n",
    "        #Create a mapper and actor for the arrow\n",
    "        m = vtk.vtkPolyDataMapper()\n",
    "        m.SetInputConnection(transformPD.GetOutputPort())\n",
    "\n",
    "        a = vtk.vtkActor()\n",
    "        a.SetMapper(m)\n",
    "\n",
    "        a.GetProperty().SetColor(c)\n",
    "\n",
    "        ren1.AddActor(a)\n",
    "    \n",
    "    \n",
    "# for name in ['Pn']:\n",
    "\n",
    "#     score_volume = bp.unpack_ndarray_file(volume_dir + '/%(stack)s/%(stack)s_scoreVolume_%(name)s.bp' % \\\n",
    "#                                           {'stack':stack, 'name':name})\n",
    "#     score_imagedata = volume_to_imagedata(score_volume)\n",
    "\n",
    "#     volumeMapper = vtk.vtkSmartVolumeMapper()\n",
    "#     #     volumeMapper.SetBlendModeToComposite()\n",
    "#     volumeMapper.SetInputData(score_imagedata)\n",
    "\n",
    "#     volumeProperty = vtk.vtkVolumeProperty()\n",
    "#     #     volumeProperty.ShadeOff()\n",
    "#     # volumeProperty.SetInterpolationType(vtk.VTK_LINEAR_INTERPOLATION)\n",
    "\n",
    "#     compositeOpacity = vtk.vtkPiecewiseFunction()\n",
    "#     compositeOpacity.AddPoint(0.0, 0.0)\n",
    "#     compositeOpacity.AddPoint(0.95, 0.01)\n",
    "#     compositeOpacity.AddPoint(1.0, 1.0)\n",
    "#     volumeProperty.SetScalarOpacity(compositeOpacity)\n",
    "\n",
    "#     color = vtk.vtkColorTransferFunction()\n",
    "# #     c = colors[name]\n",
    "#     c = (1., 1., 1.)\n",
    "#     color.AddRGBPoint(0.0, c[0], c[1], c[2])\n",
    "#     color.AddRGBPoint(255.0, c[0], c[1], c[2])\n",
    "#     volumeProperty.SetColor(color)\n",
    "\n",
    "#     a = vtk.vtkVolume()\n",
    "#     a.SetMapper(volumeMapper)\n",
    "#     a.SetProperty(volumeProperty)\n",
    "    \n",
    "#     ren1.AddActor(a)\n",
    "    \n",
    "    \n",
    "ren1.SetActiveCamera(camera)\n",
    "\n",
    "widget1 = add_axes(iren1)\n",
    "renWin1.Render()\n",
    "\n",
    "ren1.ResetCamera()\n",
    "renWin1.SetWindowName('original')\n",
    "\n",
    "iren1.Start()"
   ]
  },
  {
   "cell_type": "code",
   "execution_count": null,
   "metadata": {
    "collapsed": true
   },
   "outputs": [],
   "source": [
    "# Show three axes, glyph3D approach\n",
    "\n",
    "vector_map = np.zeros((10,10,10,3))\n",
    "for p_ind in range(len(anchor_points)):\n",
    "    x,y,z = anchor_points[p_ind]\n",
    "    vector_map[y,x,z] = anchor_vectors[p_ind]\n",
    "    \n",
    "arrowSource = vtk.vtkArrowSource()\n",
    "arrowSource.Update()\n",
    "\n",
    "glyphFilter = vtk.vtkGlyph3D()\n",
    "glyphFilter.SetSourceConnection(arrowSource.GetOutputPort())\n",
    "glyphFilter.OrientOn()\n",
    "glyphFilter.SetVectorModeToUseVector()\n",
    "glyphFilter.SetScaleModeToScaleByVector()\n",
    "# glyphFilter.SetScaleModeToDataScalingOff()\n",
    "glyphFilter.SetColorModeToColorByScalar()\n",
    "\n",
    "imagedata = vectormap_to_imagedata(vector_map, colors=[255,255,255])\n",
    "glyphFilter.SetInputData(imagedata)\n",
    "glyphFilter.Update()\n",
    "\n",
    "m = vtk.vtkPolyDataMapper()\n",
    "m.SetInputConnection(glyphFilter.GetOutputPort())\n",
    "m.ScalarVisibilityOn()\n",
    "\n",
    "ren1 = vtk.vtkRenderer()\n",
    "\n",
    "renWin1 = vtk.vtkRenderWindow()\n",
    "renWin1.AddRenderer(ren1)\n",
    "\n",
    "iren1 = vtk.vtkRenderWindowInteractor()\n",
    "iren1.SetRenderWindow(renWin1)\n",
    "\n",
    "camera = vtk.vtkCamera()\n",
    "\n",
    "# 45 degree\n",
    "camera.SetViewUp(0, -1, 0)\n",
    "camera.SetPosition(-20, -30, -10)\n",
    "camera.SetFocalPoint(1, 1, 1)\n",
    "\n",
    "# # saggital\n",
    "# camera.SetViewUp(0, -1, 0)\n",
    "# camera.SetPosition(0, 0, -2)\n",
    "# camera.SetFocalPoint(0, 0, 1)\n",
    "\n",
    "# # coronal\n",
    "# camera.SetViewUp(0, -1, 0)\n",
    "# camera.SetPosition(-2, 0, 0)\n",
    "# camera.SetFocalPoint(-1, 0, 0)\n",
    "\n",
    "# # horizontal\n",
    "# camera.SetViewUp(0, 0, -1)\n",
    "# camera.SetPosition(0, 1, 0)\n",
    "# camera.SetFocalPoint(0, -1, 0)\n",
    "\n",
    "\n",
    "# m = vtk.vtkPolyDataMapper()\n",
    "# m.SetInputData(polydata)\n",
    "\n",
    "a = vtk.vtkActor()\n",
    "a.SetMapper(m)\n",
    "# a.GetProperty().SetRepresentationToWireframe()\n",
    "#     a.GetProperty().SetColor(colors[labelMap_sidedToUnsided[name_s]])\n",
    "# a.GetProperty().SetColor((1.,1.,1.))\n",
    "\n",
    "ren1.AddActor(a)\n",
    "\n",
    "ren1.SetActiveCamera(camera)\n",
    "\n",
    "widget1 = add_axes(iren1)\n",
    "renWin1.Render()\n",
    "\n",
    "ren1.ResetCamera()\n",
    "renWin1.SetWindowName('original')\n",
    "\n",
    "iren1.Start()"
   ]
  }
 ],
 "metadata": {
  "kernelspec": {
   "display_name": "Python 2",
   "language": "python",
   "name": "python2"
  },
  "language_info": {
   "codemirror_mode": {
    "name": "ipython",
    "version": 2
   },
   "file_extension": ".py",
   "mimetype": "text/x-python",
   "name": "python",
   "nbconvert_exporter": "python",
   "pygments_lexer": "ipython2",
   "version": "2.7.6"
  }
 },
 "nbformat": 4,
 "nbformat_minor": 0
}
