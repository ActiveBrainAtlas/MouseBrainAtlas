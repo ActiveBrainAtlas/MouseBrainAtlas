{
 "cells": [
  {
   "cell_type": "code",
   "execution_count": 1,
   "metadata": {
    "collapsed": false
   },
   "outputs": [
    {
     "name": "stderr",
     "output_type": "stream",
     "text": [
      "/usr/lib/python2.7/dist-packages/pkg_resources.py:1031: UserWarning: /home/yuncong/.python-eggs is writable by group/others and vulnerable to attack when used with get_resource_filename. Consider a more secure location (set with .set_extraction_path or the PYTHON_EGG_CACHE environment variable).\n",
      "  warnings.warn(msg, UserWarning)\n"
     ]
    }
   ],
   "source": [
    "%reload_ext autoreload\n",
    "%autoreload 2\n",
    "\n",
    "import vtk\n",
    "from vtk.util import numpy_support\n",
    "\n",
    "import numpy as np\n",
    "import bloscpack as bp\n",
    "\n",
    "import sys\n",
    "import os\n",
    "sys.path.append(os.path.join(os.environ['REPO_DIR'], 'utilities'))\n",
    "from utilities2015 import *\n",
    "from annotation_utilities import *\n",
    "\n",
    "from skimage.measure import mesh_surface_area, marching_cubes, correct_mesh_orientation\n",
    "\n",
    "from itertools import izip\n",
    "import pandas as pd\n",
    "\n",
    "import time\n",
    "\n",
    "import matplotlib.pyplot as plt\n",
    "%matplotlib inline\n",
    "\n",
    "from vis3d_utilities import *"
   ]
  },
  {
   "cell_type": "code",
   "execution_count": 2,
   "metadata": {
    "collapsed": true
   },
   "outputs": [],
   "source": [
    "volume_dir = '/home/yuncong/CSHL_volumes/'\n",
    "mesh_rootdir = create_if_not_exists('/home/yuncong/CSHL_meshes')"
   ]
  },
  {
   "cell_type": "code",
   "execution_count": 3,
   "metadata": {
    "collapsed": true
   },
   "outputs": [],
   "source": [
    "with open('colors.txt', 'r') as f:\n",
    "    colors = {l[0]: np.r_[float(l[1]), float(l[2]), float(l[3])] for l in map(lambda x: x.split(), f.readlines())}"
   ]
  },
  {
   "cell_type": "code",
   "execution_count": 4,
   "metadata": {
    "collapsed": true
   },
   "outputs": [],
   "source": [
    "volume_landmark_names_unsided = ['12N', '5N', '6N', '7N', '7n', 'AP', 'Amb', 'LC',\n",
    "                                 'LRt', 'Pn', 'R', 'RtTg', 'Tz', 'VLL', 'sp5']\n",
    "linear_landmark_names_unsided = ['outerContour']\n",
    "\n",
    "labels_unsided = volume_landmark_names_unsided + linear_landmark_names_unsided\n",
    "labels_unsided_indices = dict((j, i+1) for i, j in enumerate(labels_unsided))  # BackG always 0\n",
    "\n",
    "labelMap_unsidedToSided = {'12N': ['12N'],\n",
    "                            '5N': ['5N_L', '5N_R'],\n",
    "                            '6N': ['6N_L', '6N_R'],\n",
    "                            '7N': ['7N_L', '7N_R'],\n",
    "                            '7n': ['7n_L', '7n_R'],\n",
    "                            'AP': ['AP'],\n",
    "                            'Amb': ['Amb_L', 'Amb_R'],\n",
    "                            'LC': ['LC_L', 'LC_R'],\n",
    "                            'LRt': ['LRt_L', 'LRt_R'],\n",
    "                            'Pn': ['Pn_L', 'Pn_R'],\n",
    "                            'R': ['R_L', 'R_R'],\n",
    "                            'RtTg': ['RtTg'],\n",
    "                            'Tz': ['Tz_L', 'Tz_R'],\n",
    "                            'VLL': ['VLL_L', 'VLL_R'],\n",
    "                            'sp5': ['sp5'],\n",
    "                           'outerContour': ['outerContour']}\n",
    "\n",
    "labelMap_sidedToUnsided = {n: nu for nu, ns in labelMap_unsidedToSided.iteritems() for n in ns}\n",
    "\n",
    "from itertools import chain\n",
    "labels_sided = list(chain(*(labelMap_unsidedToSided[name_u] for name_u in labels_unsided)))\n",
    "labels_sided_indices = dict((j, i+1) for i, j in enumerate(labels_sided)) # BackG always 0"
   ]
  },
  {
   "cell_type": "code",
   "execution_count": 10,
   "metadata": {
    "collapsed": true
   },
   "outputs": [],
   "source": [
    "stack = 'MD585'"
   ]
  },
  {
   "cell_type": "code",
   "execution_count": 11,
   "metadata": {
    "collapsed": true
   },
   "outputs": [],
   "source": [
    "# Load\n",
    "polydata_list = {}\n",
    "\n",
    "for name_s in labels_sided:\n",
    "\n",
    "    fn = mesh_rootdir + \"/%(stack)s/%(stack)s_%(name)s_smoothed.stl\" % {'stack': stack, 'name': name_s}\n",
    "\n",
    "    reader = vtk.vtkSTLReader()\n",
    "    reader.SetFileName(fn)\n",
    "    reader.Update()\n",
    "\n",
    "    polydata = reader.GetOutput()    \n",
    "    polydata_list[name_s] = polydata"
   ]
  },
  {
   "cell_type": "code",
   "execution_count": 15,
   "metadata": {
    "collapsed": true
   },
   "outputs": [],
   "source": [
    "ren1 = vtk.vtkRenderer()\n",
    "\n",
    "renWin1 = vtk.vtkRenderWindow()\n",
    "renWin1.AddRenderer(ren1)\n",
    "\n",
    "iren1 = vtk.vtkRenderWindowInteractor()\n",
    "iren1.SetRenderWindow(renWin1)\n",
    "\n",
    "camera = vtk.vtkCamera()\n",
    "\n",
    "# 45 degree\n",
    "camera.SetViewUp(0, -1, 0)\n",
    "camera.SetPosition(-20, -30, -10)\n",
    "camera.SetFocalPoint(1, 1, 1)\n",
    "\n",
    "# # saggital\n",
    "# camera.SetViewUp(0, -1, 0)\n",
    "# camera.SetPosition(0, 0, -2)\n",
    "# camera.SetFocalPoint(0, 0, 1)\n",
    "\n",
    "# # coronal\n",
    "# camera.SetViewUp(0, -1, 0)\n",
    "# camera.SetPosition(-2, 0, 0)\n",
    "# camera.SetFocalPoint(-1, 0, 0)\n",
    "\n",
    "# # horizontal\n",
    "# camera.SetViewUp(0, 0, -1)\n",
    "# camera.SetPosition(0, 1, 0)\n",
    "# camera.SetFocalPoint(0, -1, 0)\n",
    "\n",
    "# for i, (l, polydata) in enumerate(polydata_list.iteritems()):\n",
    "for i, (name_s, polydata) in enumerate(polydata_list.iteritems()):\n",
    "\n",
    "    if name_s == 'outerContour' or name_s == 'sp5':\n",
    "        continue\n",
    "    \n",
    "    m = vtk.vtkPolyDataMapper()\n",
    "    m.SetInputData(polydata)\n",
    "    #     m.SetInputData(reader.GetOutput())\n",
    "    #     m.SetInputConnection(reader.GetOutputPort())\n",
    "\n",
    "    a = vtk.vtkActor()\n",
    "    a.SetMapper(m)\n",
    "    a.GetProperty().SetRepresentationToWireframe()\n",
    "    a.GetProperty().SetColor(colors[labelMap_sidedToUnsided[name_s]])\n",
    "\n",
    "    if name_s == 'outerContour':\n",
    "        a.GetProperty().SetOpacity(.1)\n",
    "            \n",
    "    ren1.AddActor(a)\n",
    "\n",
    "ren1.SetActiveCamera(camera)\n",
    "\n",
    "widget1 = add_axes(iren1)\n",
    "\n",
    "renWin1.Render()\n",
    "\n",
    "ren1.ResetCamera()\n",
    "\n",
    "renWin1.SetWindowName('original')\n",
    "\n",
    "iren1.Start()"
   ]
  },
  {
   "cell_type": "code",
   "execution_count": null,
   "metadata": {
    "collapsed": true
   },
   "outputs": [],
   "source": []
  },
  {
   "cell_type": "code",
   "execution_count": 7,
   "metadata": {
    "collapsed": true
   },
   "outputs": [],
   "source": [
    "# Load\n",
    "polydata_gaussianSmoothed_list = {}\n",
    "\n",
    "for name_s in labels_sided:\n",
    "\n",
    "    fn = mesh_rootdir + \"/%(stack)s/%(stack)s_%(name)s_gaussianSmoothed.stl\" % {'stack': stack, 'name': name_s}\n",
    "\n",
    "    reader = vtk.vtkSTLReader()\n",
    "    reader.SetFileName(fn)\n",
    "    reader.Update()\n",
    "\n",
    "    polydata = reader.GetOutput()    \n",
    "    polydata_gaussianSmoothed_list[name_s] = polydata"
   ]
  },
  {
   "cell_type": "code",
   "execution_count": 12,
   "metadata": {
    "collapsed": false
   },
   "outputs": [],
   "source": [
    "ren1 = vtk.vtkRenderer()\n",
    "ren2 = vtk.vtkRenderer()\n",
    "\n",
    "renWin1 = vtk.vtkRenderWindow()\n",
    "renWin1.AddRenderer(ren1)\n",
    "\n",
    "renWin2 = vtk.vtkRenderWindow()\n",
    "renWin2.AddRenderer(ren2)\n",
    "\n",
    "iren1 = vtk.vtkRenderWindowInteractor()\n",
    "iren1.SetRenderWindow(renWin1)\n",
    "\n",
    "iren2 = vtk.vtkRenderWindowInteractor()\n",
    "iren2.SetRenderWindow(renWin2)\n",
    "\n",
    "camera = vtk.vtkCamera()\n",
    "\n",
    "# 45 degree\n",
    "camera.SetViewUp(0, -1, 0)\n",
    "camera.SetPosition(-20, -30, -10)\n",
    "camera.SetFocalPoint(1, 1, 1)\n",
    "\n",
    "# # saggital\n",
    "# camera.SetViewUp(0, -1, 0)\n",
    "# camera.SetPosition(0, 0, -2)\n",
    "# camera.SetFocalPoint(0, 0, 1)\n",
    "\n",
    "# # coronal\n",
    "# camera.SetViewUp(0, -1, 0)\n",
    "# camera.SetPosition(-2, 0, 0)\n",
    "# camera.SetFocalPoint(-1, 0, 0)\n",
    "\n",
    "# # horizontal\n",
    "# camera.SetViewUp(0, 0, -1)\n",
    "# camera.SetPosition(0, 1, 0)\n",
    "# camera.SetFocalPoint(0, -1, 0)\n",
    "\n",
    "# for i, (l, polydata) in enumerate(polydata_list.iteritems()):\n",
    "for i, (name_s, polydata) in enumerate(polydata_gaussianSmoothed_list.iteritems()):\n",
    "\n",
    "    if name_s == 'outerContour' or name_s == 'sp5':\n",
    "        continue\n",
    "    \n",
    "    m = vtk.vtkPolyDataMapper()\n",
    "    m.SetInputData(polydata)\n",
    "    #     m.SetInputData(reader.GetOutput())\n",
    "    #     m.SetInputConnection(reader.GetOutputPort())\n",
    "\n",
    "    a = vtk.vtkActor()\n",
    "    a.SetMapper(m)\n",
    "    a.GetProperty().SetRepresentationToWireframe()\n",
    "    a.GetProperty().SetColor(colors[labelMap_sidedToUnsided[name_s]])\n",
    "\n",
    "    if name_s == 'outerContour':\n",
    "        a.GetProperty().SetOpacity(.1)\n",
    "            \n",
    "    ren1.AddActor(a)\n",
    "\n",
    "ren1.SetActiveCamera(camera)\n",
    "\n",
    "for i, (name_s, polydata) in enumerate(polydata_list.iteritems()):\n",
    "\n",
    "    if name_s == 'outerContour' or name_s == 'sp5':\n",
    "        continue\n",
    "    \n",
    "    m = vtk.vtkPolyDataMapper()\n",
    "    m.SetInputData(polydata)\n",
    "    #     m.SetInputData(reader.GetOutput())\n",
    "    #     m.SetInputConnection(reader.GetOutputPort())\n",
    "\n",
    "    a = vtk.vtkActor()\n",
    "    a.SetMapper(m)\n",
    "#     a.GetProperty().SetRepresentationToWireframe()\n",
    "    a.GetProperty().SetColor(colors[labelMap_sidedToUnsided[name_s]])\n",
    "    \n",
    "    if name_s == 'outerContour':\n",
    "        a.GetProperty().SetOpacity(.1)\n",
    "\n",
    "    ren2.AddActor(a)\n",
    "\n",
    "ren2.SetActiveCamera(camera)\n",
    "\n",
    "widget1 = add_axes(iren1)\n",
    "widget2 = add_axes(iren2)\n",
    "\n",
    "renWin1.Render()\n",
    "renWin2.Render()\n",
    "\n",
    "ren1.ResetCamera()\n",
    "ren2.ResetCamera()\n",
    "\n",
    "# ren1.SetBackground(1,1,1)\n",
    "# ren2.SetBackground(1,1,1)\n",
    "\n",
    "renWin1.SetWindowName('smoothed')\n",
    "renWin2.SetWindowName('original')\n",
    "\n",
    "iren1.Start()"
   ]
  },
  {
   "cell_type": "code",
   "execution_count": null,
   "metadata": {
    "collapsed": true
   },
   "outputs": [],
   "source": []
  },
  {
   "cell_type": "code",
   "execution_count": 5,
   "metadata": {
    "collapsed": false
   },
   "outputs": [],
   "source": [
    "# Load shifted normalized/symmetric landmarks\n",
    "shifted_poly_allLandmarks = {}\n",
    "\n",
    "for name_s in labels_sided:\n",
    "\n",
    "    fn = mesh_rootdir + \"/%(name)s_average_shifted_icp.stl\" % {'stack': 'MD589', 'name': name_s}\n",
    "\n",
    "    reader = vtk.vtkSTLReader()\n",
    "    reader.SetFileName(fn)\n",
    "    reader.Update()\n",
    "\n",
    "    polydata = reader.GetOutput()    \n",
    "    shifted_poly_allLandmarks[name_s] = polydata"
   ]
  },
  {
   "cell_type": "code",
   "execution_count": 6,
   "metadata": {
    "collapsed": true
   },
   "outputs": [],
   "source": [
    "# colors = {name: np.random.randint(0, 255, (3,)) / 255. for name in labels_unsided}\n",
    "# colors['outerContour'] = np.r_[1.,1.,1.]\n",
    "\n",
    "# with open('colors.txt', 'w') as f:\n",
    "#     for name, c in colors.iteritems():\n",
    "#         f.write('%s %f %f %f\\n' % (name, c[0], c[1], c[2]))"
   ]
  },
  {
   "cell_type": "code",
   "execution_count": null,
   "metadata": {
    "collapsed": false
   },
   "outputs": [],
   "source": [
    "# if os.path.exists('colors.txt'):\n",
    "#     colors = np.loadtxt('colors.txt')    \n",
    "# else:\n",
    "#     colors = np.random.randint(0, 255, (100, 3)) / 255.\n",
    "#     np.savetxt('colors.txt', colors)\n",
    "\n",
    "ren1 = vtk.vtkRenderer()\n",
    "renWin1 = vtk.vtkRenderWindow()\n",
    "renWin1.AddRenderer(ren1)\n",
    "iren1 = vtk.vtkRenderWindowInteractor()\n",
    "iren1.SetRenderWindow(renWin1)\n",
    "\n",
    "for name, polydata in shifted_poly_allLandmarks.iteritems():\n",
    "    \n",
    "#     if name == 'outerContour':\n",
    "#         continue\n",
    "    \n",
    "    m = vtk.vtkPolyDataMapper()\n",
    "    m.SetInputData(polydata)\n",
    "\n",
    "    a = vtk.vtkActor()\n",
    "    a.SetMapper(m)\n",
    "#     a.GetProperty().SetRepresentationToWireframe()\n",
    "    a.GetProperty().SetColor(colors[labelMap_sidedToUnsided[name]])\n",
    "    \n",
    "    if name == 'outerContour':\n",
    "        a.GetProperty().SetOpacity(.1)\n",
    "        \n",
    "    ren1.AddActor(a)\n",
    "\n",
    "axes_widget1 = add_axes(iren1)\n",
    "\n",
    "renWin1.Render()\n",
    "renWin1.SetWindowName('atlas')\n",
    "\n",
    "camera = vtk.vtkCamera()\n",
    "\n",
    "# 45 degree\n",
    "camera.SetViewUp(0, -1, 0)\n",
    "camera.SetPosition(-20, -30, -10)\n",
    "camera.SetFocalPoint(1, 1, 1)\n",
    "\n",
    "# # saggital\n",
    "# camera.SetViewUp(0, -1, 0)\n",
    "# camera.SetPosition(0, 0, -2)\n",
    "# camera.SetFocalPoint(0, 0, 1)\n",
    "\n",
    "# # coronal\n",
    "# camera.SetViewUp(0, -1, 0)\n",
    "# camera.SetPosition(-2, 0, 0)\n",
    "# camera.SetFocalPoint(-1, 0, 0)\n",
    "\n",
    "# # horizontal\n",
    "# camera.SetViewUp(0, 0, 1)\n",
    "# camera.SetPosition(0, -1, 0)\n",
    "# camera.SetFocalPoint(0, 1, 0)\n",
    "\n",
    "ren1.SetActiveCamera(camera)\n",
    "\n",
    "ren1.ResetCamera()\n",
    "iren1.Start()"
   ]
  },
  {
   "cell_type": "code",
   "execution_count": null,
   "metadata": {
    "collapsed": true
   },
   "outputs": [],
   "source": []
  }
 ],
 "metadata": {
  "kernelspec": {
   "display_name": "Python 2",
   "language": "python",
   "name": "python2"
  },
  "language_info": {
   "codemirror_mode": {
    "name": "ipython",
    "version": 2
   },
   "file_extension": ".py",
   "mimetype": "text/x-python",
   "name": "python",
   "nbconvert_exporter": "python",
   "pygments_lexer": "ipython2",
   "version": "2.7.6"
  }
 },
 "nbformat": 4,
 "nbformat_minor": 0
}
