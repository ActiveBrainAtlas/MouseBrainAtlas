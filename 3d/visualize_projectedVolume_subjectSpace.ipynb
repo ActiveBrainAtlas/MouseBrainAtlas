{
 "cells": [
  {
   "cell_type": "code",
   "execution_count": 1,
   "metadata": {
    "collapsed": false
   },
   "outputs": [
    {
     "name": "stdout",
     "output_type": "stream",
     "text": [
      "Setting environment for Local Macbook Pro\n"
     ]
    },
    {
     "name": "stderr",
     "output_type": "stream",
     "text": [
      "/usr/lib/python2.7/dist-packages/pkg_resources.py:1031: UserWarning: /home/yuncong/.python-eggs is writable by group/others and vulnerable to attack when used with get_resource_filename. Consider a more secure location (set with .set_extraction_path or the PYTHON_EGG_CACHE environment variable).\n",
      "  warnings.warn(msg, UserWarning)\n"
     ]
    }
   ],
   "source": [
    "%reload_ext autoreload\n",
    "%autoreload 2\n",
    "\n",
    "import vtk\n",
    "from vtk.util import numpy_support\n",
    "\n",
    "import numpy as np\n",
    "import bloscpack as bp\n",
    "\n",
    "import sys\n",
    "import os\n",
    "sys.path.append(os.path.join(os.environ['REPO_DIR'], 'utilities'))\n",
    "from utilities2015 import *\n",
    "from annotation_utilities import *\n",
    "from registration_utilities import *\n",
    "\n",
    "from skimage.measure import mesh_surface_area, marching_cubes, correct_mesh_orientation\n",
    "\n",
    "from itertools import izip\n",
    "import pandas as pd\n",
    "\n",
    "import time\n",
    "\n",
    "import matplotlib.pyplot as plt\n",
    "%matplotlib inline\n",
    "\n",
    "from vis3d_utilities import *"
   ]
  },
  {
   "cell_type": "code",
   "execution_count": 2,
   "metadata": {
    "collapsed": true
   },
   "outputs": [],
   "source": [
    "with open('colors.txt', 'r') as f:\n",
    "    colors = {l[0]: np.r_[float(l[1]), float(l[2]), float(l[3])] for l in map(lambda x: x.split(), f.readlines())}"
   ]
  },
  {
   "cell_type": "code",
   "execution_count": 3,
   "metadata": {
    "collapsed": true
   },
   "outputs": [],
   "source": [
    "atlas_volume = bp.unpack_ndarray_file(volume_dir + '/atlasVolume_icp.bp').astype(np.int8)\n",
    "\n",
    "available_labels_sided = [labels_sided[i-1] for i in np.unique(atlas_volume) if i > 0]\n",
    "available_labels_unsided = set([labelMap_sidedToUnsided[name] for name in available_labels_sided ])"
   ]
  },
  {
   "cell_type": "code",
   "execution_count": 4,
   "metadata": {
    "collapsed": true
   },
   "outputs": [],
   "source": [
    "available_labels_sided = ['RtTg',\n",
    " 'VLL_L',\n",
    " 'VLL_R',\n",
    " 'Tz_L',\n",
    " 'Tz_R',\n",
    " 'LC_L',\n",
    " 'LC_R',\n",
    " '7n_L',\n",
    " '7n_R',\n",
    " 'Amb_L',\n",
    " 'Amb_R',\n",
    " '12N',\n",
    " 'AP',\n",
    " '6N_L',\n",
    " '6N_R',\n",
    " '5N_L',\n",
    " '5N_R',\n",
    " '7N_L',\n",
    " '7N_R',\n",
    " 'R_L',\n",
    " 'R_R',\n",
    " 'Pn_L',\n",
    " 'Pn_R',\n",
    " 'LRt_L',\n",
    " 'LRt_R']"
   ]
  },
  {
   "cell_type": "code",
   "execution_count": null,
   "metadata": {
    "collapsed": true
   },
   "outputs": [],
   "source": []
  },
  {
   "cell_type": "code",
   "execution_count": null,
   "metadata": {
    "collapsed": true
   },
   "outputs": [],
   "source": [
    "# Convert projected volumes to meshes"
   ]
  },
  {
   "cell_type": "code",
   "execution_count": null,
   "metadata": {
    "collapsed": true
   },
   "outputs": [],
   "source": [
    "def fill_sparse_volume(volume_sparse):\n",
    "    '''\n",
    "    Sometimes, volumes formed by projecting from other volumes result in holes in corresponding regions.\n",
    "    This function fills the holes.\n",
    "    '''\n",
    "\n",
    "    volume = np.zeros_like(volume_sparse, np.int8)\n",
    "\n",
    "    for z in range(volume_sparse.shape[-1]):\n",
    "        for ind, cnts in find_contour_points(volume_sparse[..., z]).iteritems():\n",
    "            cnt = cnts[np.argsort(map(len, cnts))[-1]]\n",
    "            pts = points_inside_contour(cnt)\n",
    "            volume[pts[:,1], pts[:,0], z] = ind\n",
    "    return volume"
   ]
  },
  {
   "cell_type": "code",
   "execution_count": null,
   "metadata": {
    "collapsed": false,
    "scrolled": true
   },
   "outputs": [],
   "source": [
    "for stack in ['MD589', 'MD594', 'MD585', 'MD593', 'MD592', 'MD590', 'MD591', 'MD595', 'MD598', 'MD602', 'MD603']:\n",
    "    mesh_dir = create_if_not_exists(os.path.join(mesh_rootdir, stack))\n",
    "    \n",
    "    #################\n",
    "    \n",
    "    volume_sparse = bp.unpack_ndarray_file(volume_dir + '%(stack)s/%(stack)s_atlasProjectedVolume.bp' % {'stack':stack}).astype(np.int8)\n",
    "    atlasProjected_volume = fill_sparse_volume(volume_sparse)\n",
    "    del volume_sparse\n",
    "\n",
    "    atlasProjectedVolume_landmark_bboxes = {name: bbox_3d(atlasProjected_volume == labels_sided_indices[name])\n",
    "                               for name in available_labels_sided}\n",
    "    \n",
    "    ###################\n",
    "    \n",
    "    for name_s in available_labels_sided:\n",
    "\n",
    "        print name_s\n",
    "\n",
    "        xmin, xmax, ymin, ymax, zmin, zmax = atlasProjectedVolume_landmark_bboxes[name_s]\n",
    "\n",
    "        vol = (atlasProjected_volume[ymin:ymax+1, xmin:xmax+1, zmin:zmax+1] == labels_sided_indices[name_s]).astype(np.float)\n",
    "\n",
    "        t = time.time()\n",
    "\n",
    "        polydata = volume_to_polydata(vol, origin=(xmin,ymin,zmin), num_simplify_iter=3, smooth=True)\n",
    "\n",
    "        sys.stderr.write('time: %.2f\\n' % (time.time() - t) ) # ~ 150s for outerContour; 93s for sp5\n",
    "\n",
    "        save_mesh_stl(polydata, mesh_dir + \"/%(stack)s_atlasProjectedVolume_%(name)s_smoothed.stl\" % {'stack': stack, 'name': name_s})\n",
    "        \n",
    "    ####################\n",
    "        \n",
    "    volume_sparse = bp.unpack_ndarray_file(volume_dir + '%(stack)s/%(stack)s_localAdjustedVolume.bp' % {'stack':stack}).astype(np.int8)\n",
    "    localAdjusted_volume = fill_sparse_volume(volume_sparse)\n",
    "    del volume_sparse\n",
    "    \n",
    "    localAdjustedVolume_landmark_bboxes = {name: bbox_3d(localAdjusted_volume == labels_sided_indices[name])\n",
    "                               for name in available_labels_sided}\n",
    "\n",
    "    ######################\n",
    "    \n",
    "    for name_s in available_labels_sided:\n",
    "\n",
    "        print name_s\n",
    "\n",
    "        xmin, xmax, ymin, ymax, zmin, zmax = localAdjustedVolume_landmark_bboxes[name_s]\n",
    "\n",
    "        vol = (localAdjusted_volume[ymin:ymax+1, xmin:xmax+1, zmin:zmax+1] == labels_sided_indices[name_s]).astype(np.float)\n",
    "\n",
    "        t = time.time()\n",
    "\n",
    "        polydata = volume_to_polydata(vol, origin=(xmin,ymin,zmin), num_simplify_iter=3, smooth=True)\n",
    "\n",
    "        sys.stderr.write('time: %.2f\\n' % (time.time() - t) )\n",
    "\n",
    "        save_mesh_stl(polydata, mesh_dir + \"/%(stack)s_localAdjustedVolume_%(name)s_smoothed.stl\" % {'stack': stack, 'name': name_s})"
   ]
  },
  {
   "cell_type": "code",
   "execution_count": null,
   "metadata": {
    "collapsed": true
   },
   "outputs": [],
   "source": []
  },
  {
   "cell_type": "code",
   "execution_count": 5,
   "metadata": {
    "collapsed": true
   },
   "outputs": [],
   "source": [
    "stack = 'MD594'"
   ]
  },
  {
   "cell_type": "code",
   "execution_count": 6,
   "metadata": {
    "collapsed": false
   },
   "outputs": [],
   "source": [
    "# Load atlasProjected volume\n",
    "\n",
    "atlasProjected_polydata_list = {}\n",
    "\n",
    "for name_s in available_labels_sided:\n",
    "\n",
    "    fn = mesh_rootdir + \"/%(stack)s/%(stack)s_atlasProjectedVolume_%(name)s_smoothed.stl\" % {'stack': stack, 'name': name_s}\n",
    "\n",
    "    reader = vtk.vtkSTLReader()\n",
    "    reader.SetFileName(fn)\n",
    "    reader.Update()\n",
    "\n",
    "    polydata = reader.GetOutput()    \n",
    "    atlasProjected_polydata_list[name_s] = polydata"
   ]
  },
  {
   "cell_type": "code",
   "execution_count": 7,
   "metadata": {
    "collapsed": true
   },
   "outputs": [],
   "source": [
    "# Load localAdjusted volume\n",
    "\n",
    "localAdjusted_polydata_list = {}\n",
    "\n",
    "for name_s in available_labels_sided:\n",
    "\n",
    "    fn = mesh_rootdir + \"/%(stack)s/%(stack)s_localAdjustedVolume_%(name)s_smoothed.stl\" % {'stack': stack, 'name': name_s}\n",
    "\n",
    "    reader = vtk.vtkSTLReader()\n",
    "    reader.SetFileName(fn)\n",
    "    reader.Update()\n",
    "\n",
    "    polydata = reader.GetOutput()    \n",
    "    localAdjusted_polydata_list[name_s] = polydata"
   ]
  },
  {
   "cell_type": "code",
   "execution_count": 7,
   "metadata": {
    "collapsed": false,
    "scrolled": true
   },
   "outputs": [
    {
     "ename": "KeyboardInterrupt",
     "evalue": "",
     "output_type": "error",
     "traceback": [
      "\u001b[1;31m---------------------------------------------------------------------------\u001b[0m",
      "\u001b[1;31mKeyboardInterrupt\u001b[0m                         Traceback (most recent call last)",
      "\u001b[1;32m<ipython-input-7-58744f6cef5c>\u001b[0m in \u001b[0;36m<module>\u001b[1;34m()\u001b[0m\n\u001b[0;32m      6\u001b[0m \u001b[1;33m\u001b[0m\u001b[0m\n\u001b[0;32m      7\u001b[0m \u001b[1;32mfrom\u001b[0m \u001b[0mscipy\u001b[0m\u001b[1;33m.\u001b[0m\u001b[0mndimage\u001b[0m\u001b[1;33m.\u001b[0m\u001b[0minterpolation\u001b[0m \u001b[1;32mimport\u001b[0m \u001b[0mzoom\u001b[0m\u001b[1;33m\u001b[0m\u001b[0m\n\u001b[1;32m----> 8\u001b[1;33m \u001b[0mtb_volume_scaledToScoreVolume\u001b[0m \u001b[1;33m=\u001b[0m \u001b[0mimg_as_ubyte\u001b[0m\u001b[1;33m(\u001b[0m\u001b[0mzoom\u001b[0m\u001b[1;33m(\u001b[0m\u001b[0mtb_volume\u001b[0m\u001b[1;33m,\u001b[0m \u001b[1;36m2\u001b[0m\u001b[1;33m)\u001b[0m\u001b[1;33m[\u001b[0m\u001b[0mymin\u001b[0m\u001b[1;33m:\u001b[0m\u001b[0mymax\u001b[0m\u001b[1;33m+\u001b[0m\u001b[1;36m1\u001b[0m\u001b[1;33m,\u001b[0m \u001b[0mxmin\u001b[0m\u001b[1;33m:\u001b[0m\u001b[0mxmax\u001b[0m\u001b[1;33m+\u001b[0m\u001b[1;36m1\u001b[0m\u001b[1;33m,\u001b[0m \u001b[0mzmin\u001b[0m\u001b[1;33m:\u001b[0m\u001b[0mzmax\u001b[0m\u001b[1;33m+\u001b[0m\u001b[1;36m1\u001b[0m\u001b[1;33m]\u001b[0m\u001b[1;33m)\u001b[0m\u001b[1;33m\u001b[0m\u001b[0m\n\u001b[0m\u001b[0;32m      9\u001b[0m bp.pack_ndarray_file(tb_volume_scaledToScoreVolume, \n\u001b[0;32m     10\u001b[0m                      volume_dir + \"/%(stack)s/%(stack)s_thumbnailVolume_scaledToScoreVolume.bp\" % {'stack': stack})\n",
      "\u001b[1;32m/usr/local/lib/python2.7/dist-packages/scipy/ndimage/interpolation.pyc\u001b[0m in \u001b[0;36mzoom\u001b[1;34m(input, zoom, output, order, mode, cval, prefilter)\u001b[0m\n\u001b[0;32m    534\u001b[0m     \u001b[0mmode\u001b[0m \u001b[1;33m=\u001b[0m \u001b[0m_extend_mode_to_code\u001b[0m\u001b[1;33m(\u001b[0m\u001b[0mmode\u001b[0m\u001b[1;33m)\u001b[0m\u001b[1;33m\u001b[0m\u001b[0m\n\u001b[0;32m    535\u001b[0m     \u001b[1;32mif\u001b[0m \u001b[0mprefilter\u001b[0m \u001b[1;32mand\u001b[0m \u001b[0morder\u001b[0m \u001b[1;33m>\u001b[0m \u001b[1;36m1\u001b[0m\u001b[1;33m:\u001b[0m\u001b[1;33m\u001b[0m\u001b[0m\n\u001b[1;32m--> 536\u001b[1;33m         \u001b[0mfiltered\u001b[0m \u001b[1;33m=\u001b[0m \u001b[0mspline_filter\u001b[0m\u001b[1;33m(\u001b[0m\u001b[0minput\u001b[0m\u001b[1;33m,\u001b[0m \u001b[0morder\u001b[0m\u001b[1;33m,\u001b[0m \u001b[0moutput\u001b[0m\u001b[1;33m=\u001b[0m\u001b[0mnumpy\u001b[0m\u001b[1;33m.\u001b[0m\u001b[0mfloat64\u001b[0m\u001b[1;33m)\u001b[0m\u001b[1;33m\u001b[0m\u001b[0m\n\u001b[0m\u001b[0;32m    537\u001b[0m     \u001b[1;32melse\u001b[0m\u001b[1;33m:\u001b[0m\u001b[1;33m\u001b[0m\u001b[0m\n\u001b[0;32m    538\u001b[0m         \u001b[0mfiltered\u001b[0m \u001b[1;33m=\u001b[0m \u001b[0minput\u001b[0m\u001b[1;33m\u001b[0m\u001b[0m\n",
      "\u001b[1;32m/usr/local/lib/python2.7/dist-packages/scipy/ndimage/interpolation.pyc\u001b[0m in \u001b[0;36mspline_filter\u001b[1;34m(input, order, output)\u001b[0m\n\u001b[0;32m    115\u001b[0m     \u001b[1;32mif\u001b[0m \u001b[0morder\u001b[0m \u001b[1;32mnot\u001b[0m \u001b[1;32min\u001b[0m \u001b[1;33m[\u001b[0m\u001b[1;36m0\u001b[0m\u001b[1;33m,\u001b[0m \u001b[1;36m1\u001b[0m\u001b[1;33m]\u001b[0m \u001b[1;32mand\u001b[0m \u001b[0minput\u001b[0m\u001b[1;33m.\u001b[0m\u001b[0mndim\u001b[0m \u001b[1;33m>\u001b[0m \u001b[1;36m0\u001b[0m\u001b[1;33m:\u001b[0m\u001b[1;33m\u001b[0m\u001b[0m\n\u001b[0;32m    116\u001b[0m         \u001b[1;32mfor\u001b[0m \u001b[0maxis\u001b[0m \u001b[1;32min\u001b[0m \u001b[0mrange\u001b[0m\u001b[1;33m(\u001b[0m\u001b[0minput\u001b[0m\u001b[1;33m.\u001b[0m\u001b[0mndim\u001b[0m\u001b[1;33m)\u001b[0m\u001b[1;33m:\u001b[0m\u001b[1;33m\u001b[0m\u001b[0m\n\u001b[1;32m--> 117\u001b[1;33m             \u001b[0mspline_filter1d\u001b[0m\u001b[1;33m(\u001b[0m\u001b[0minput\u001b[0m\u001b[1;33m,\u001b[0m \u001b[0morder\u001b[0m\u001b[1;33m,\u001b[0m \u001b[0maxis\u001b[0m\u001b[1;33m,\u001b[0m \u001b[0moutput\u001b[0m\u001b[1;33m=\u001b[0m\u001b[0moutput\u001b[0m\u001b[1;33m)\u001b[0m\u001b[1;33m\u001b[0m\u001b[0m\n\u001b[0m\u001b[0;32m    118\u001b[0m             \u001b[0minput\u001b[0m \u001b[1;33m=\u001b[0m \u001b[0moutput\u001b[0m\u001b[1;33m\u001b[0m\u001b[0m\n\u001b[0;32m    119\u001b[0m     \u001b[1;32melse\u001b[0m\u001b[1;33m:\u001b[0m\u001b[1;33m\u001b[0m\u001b[0m\n",
      "\u001b[1;32m/usr/local/lib/python2.7/dist-packages/scipy/ndimage/interpolation.pyc\u001b[0m in \u001b[0;36mspline_filter1d\u001b[1;34m(input, order, axis, output)\u001b[0m\n\u001b[0;32m     84\u001b[0m     \u001b[1;32melse\u001b[0m\u001b[1;33m:\u001b[0m\u001b[1;33m\u001b[0m\u001b[0m\n\u001b[0;32m     85\u001b[0m         \u001b[0maxis\u001b[0m \u001b[1;33m=\u001b[0m \u001b[0m_ni_support\u001b[0m\u001b[1;33m.\u001b[0m\u001b[0m_check_axis\u001b[0m\u001b[1;33m(\u001b[0m\u001b[0maxis\u001b[0m\u001b[1;33m,\u001b[0m \u001b[0minput\u001b[0m\u001b[1;33m.\u001b[0m\u001b[0mndim\u001b[0m\u001b[1;33m)\u001b[0m\u001b[1;33m\u001b[0m\u001b[0m\n\u001b[1;32m---> 86\u001b[1;33m         \u001b[0m_nd_image\u001b[0m\u001b[1;33m.\u001b[0m\u001b[0mspline_filter1d\u001b[0m\u001b[1;33m(\u001b[0m\u001b[0minput\u001b[0m\u001b[1;33m,\u001b[0m \u001b[0morder\u001b[0m\u001b[1;33m,\u001b[0m \u001b[0maxis\u001b[0m\u001b[1;33m,\u001b[0m \u001b[0moutput\u001b[0m\u001b[1;33m)\u001b[0m\u001b[1;33m\u001b[0m\u001b[0m\n\u001b[0m\u001b[0;32m     87\u001b[0m     \u001b[1;32mreturn\u001b[0m \u001b[0mreturn_value\u001b[0m\u001b[1;33m\u001b[0m\u001b[0m\n\u001b[0;32m     88\u001b[0m \u001b[1;33m\u001b[0m\u001b[0m\n",
      "\u001b[1;31mKeyboardInterrupt\u001b[0m: "
     ]
    }
   ],
   "source": [
    "# Load thumbnail volume\n",
    "\n",
    "tb_volume = bp.unpack_ndarray_file(volume_dir + \"/%(stack)s/%(stack)s_thumbnailVolume.bp\" % {'stack': stack})\n",
    "\n",
    "xmin, xmax, ymin, ymax, zmin, zmax = np.loadtxt(volume_dir + \"/%(stack)s/%(stack)s_scoreVolume_limits.txt\" % {'stack': stack}, np.int)\n",
    "\n",
    "from scipy.ndimage.interpolation import zoom\n",
    "tb_volume_scaledToScoreVolume = img_as_ubyte(zoom(tb_volume, 2)[ymin:ymax+1, xmin:xmax+1, zmin:zmax+1])\n",
    "bp.pack_ndarray_file(tb_volume_scaledToScoreVolume, \n",
    "                     volume_dir + \"/%(stack)s/%(stack)s_thumbnailVolume_scaledToScoreVolume.bp\" % {'stack': stack})"
   ]
  },
  {
   "cell_type": "code",
   "execution_count": null,
   "metadata": {
    "collapsed": true
   },
   "outputs": [],
   "source": []
  },
  {
   "cell_type": "code",
   "execution_count": 11,
   "metadata": {
    "collapsed": false
   },
   "outputs": [
    {
     "name": "stderr",
     "output_type": "stream",
     "text": [
      "fill point array: 0.02 seconds\n",
      "fill cell array: 0.00 seconds\n"
     ]
    }
   ],
   "source": [
    "# Load contour\n",
    "\n",
    "from registration_utilities import *\n",
    "\n",
    "# load in annotation space\n",
    "vertices, faces = load_mesh_stl(mesh_rootdir + \"/%(stack)s/%(stack)s_%(name)s_gaussianSmoothed.stl\" % \\\n",
    "                                {'stack': stack, 'name': 'outerContour'})\n",
    "\n",
    "ann_xmin, ann_xmax, ann_ymin, ann_ymax, ann_zmin, ann_zmax = \\\n",
    "np.loadtxt(volume_dir + '%(stack)s/volume_%(stack)s_annotation_withOuterContour_limits.txt' % {'stack': stack}, dtype=np.int)\n",
    "\n",
    "sco_xmin, sco_xmax, sco_ymin, sco_ymax, sco_zmin, sco_zmax = \\\n",
    "np.loadtxt(volume_dir + '%(stack)s/%(stack)s_scoreVolume_limits.txt' % {'stack': stack}, dtype=np.int)\n",
    "\n",
    "# convert to score volume space\n",
    "# vertices_alignedToScoreVolume = vertices + (ann_xmin,ann_ymin,ann_zmin) - (sco_xmin,sco_ymin,sco_zmin) - (100,50,-50)\n",
    "vertices_alignedToScoreVolume = vertices + (ann_xmin,ann_ymin,ann_zmin) - (sco_xmin,sco_ymin,sco_zmin)\n",
    "\n",
    "polydata_outerContour = mesh_to_polydata(vertices_alignedToScoreVolume, faces)\n",
    "\n",
    "contour_mapper = vtk.vtkPolyDataMapper()\n",
    "contour_mapper.SetInputData(polydata_outerContour)\n",
    "\n",
    "contour_actor = vtk.vtkActor()\n",
    "contour_actor.SetMapper(contour_mapper)\n",
    "# contour_actor.GetProperty().SetRepresentationToWireframe()\n",
    "contour_actor.GetProperty().SetColor(1,1,1)\n",
    "contour_actor.GetProperty().SetOpacity(.2)"
   ]
  },
  {
   "cell_type": "code",
   "execution_count": 19,
   "metadata": {
    "collapsed": true
   },
   "outputs": [],
   "source": [
    "# Load thumbnail, only show several sections\n",
    "\n",
    "tb_volume = load_thumbnail_volume(stack, convert_to_scoreSpace=True)\n",
    "tb_volume2 = np.zeros_like(tb_volume)\n",
    "for z in range(230, 500, 80):\n",
    "    tb_volume2[:, :, z:z+5] = tb_volume[:,:,z:z+5]"
   ]
  },
  {
   "cell_type": "code",
   "execution_count": 20,
   "metadata": {
    "collapsed": false
   },
   "outputs": [],
   "source": [
    "mesh_actors = [actor_mesh(polydata, colors[labelMap_sidedToUnsided[name_s]], opacity=1.) \n",
    "               for name_s, polydata in localAdjusted_polydata_list.iteritems()]\n",
    "# smaller opacity causes erroneous rendering\n",
    "\n",
    "launch_vtk(mesh_actors + [actor_volume(tb_volume2, 'tb', origin=(0,-200,0)), contour_actor])"
   ]
  },
  {
   "cell_type": "code",
   "execution_count": null,
   "metadata": {
    "collapsed": true
   },
   "outputs": [],
   "source": []
  },
  {
   "cell_type": "code",
   "execution_count": null,
   "metadata": {
    "collapsed": true
   },
   "outputs": [],
   "source": [
    "name_s = '7N_L'\n",
    "\n",
    "mesh_actor = actor_mesh(localAdjusted_polydata_list[name_s], colors[labelMap_sidedToUnsided[name_s]], opacity=.7)\n",
    "\n",
    "score_volume_actor = actor_volume(load_score_volume(stack, labelMap_sidedToUnsided[name_s]), 'score')\n",
    "\n",
    "launch_vtk([mesh_actor, score_volume_actor])"
   ]
  },
  {
   "cell_type": "code",
   "execution_count": null,
   "metadata": {
    "collapsed": false,
    "scrolled": true
   },
   "outputs": [],
   "source": [
    "oneStructure_screenshot_dir = create_if_not_exists(volume_dir + '/%(stack)s/atlasProjected_score_screenshots' % {'stack':stack})\n",
    "\n",
    "for name_s in available_labels_sided:\n",
    "\n",
    "    mesh_actor = actor_mesh(atlasProjected_polydata_list[name_s], colors[labelMap_sidedToUnsided[name_s]], opacity=.7)\n",
    "\n",
    "    score_volume_actor = actor_volume(load_score_volume(stack, labelMap_sidedToUnsided[name_s]), 'score')\n",
    "\n",
    "    launch_vtk([mesh_actor, score_volume_actor], interactive=False, \n",
    "               snapshot_fn=oneStructure_screenshot_dir + '/atlasProjected_score_%(name_s)s.png' % \\\n",
    "               {'stack': stack, 'name_s': name_s})"
   ]
  },
  {
   "cell_type": "code",
   "execution_count": null,
   "metadata": {
    "collapsed": false
   },
   "outputs": [],
   "source": [
    "oneStructure_screenshot_dir = create_if_not_exists(volume_dir + '/%(stack)s/localAdjusted_score_screenshots' % {'stack':stack})\n",
    "\n",
    "for name_s in available_labels_sided:\n",
    "\n",
    "    mesh_actor = actor_mesh(localAdjusted_polydata_list[name_s], colors[labelMap_sidedToUnsided[name_s]], opacity=.7)\n",
    "\n",
    "    score_volume_actor = actor_volume(load_score_volume(stack, labelMap_sidedToUnsided[name_s]), 'score')\n",
    "\n",
    "    launch_vtk([mesh_actor, score_volume_actor], interactive=False, \n",
    "               snapshot_fn=oneStructure_screenshot_dir + '/localAdjusted_score_%(name_s)s.png' % \\\n",
    "               {'stack': stack, 'name_s': name_s})"
   ]
  },
  {
   "cell_type": "code",
   "execution_count": null,
   "metadata": {
    "collapsed": true
   },
   "outputs": [],
   "source": []
  }
 ],
 "metadata": {
  "kernelspec": {
   "display_name": "Python 2",
   "language": "python",
   "name": "python2"
  },
  "language_info": {
   "codemirror_mode": {
    "name": "ipython",
    "version": 2
   },
   "file_extension": ".py",
   "mimetype": "text/x-python",
   "name": "python",
   "nbconvert_exporter": "python",
   "pygments_lexer": "ipython2",
   "version": "2.7.6"
  }
 },
 "nbformat": 4,
 "nbformat_minor": 0
}
