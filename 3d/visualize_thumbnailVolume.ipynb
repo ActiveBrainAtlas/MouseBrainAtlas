{
 "cells": [
  {
   "cell_type": "code",
   "execution_count": 1,
   "metadata": {
    "collapsed": false
   },
   "outputs": [
    {
     "name": "stdout",
     "output_type": "stream",
     "text": [
      "Setting environment for Local Macbook Pro\n"
     ]
    },
    {
     "name": "stderr",
     "output_type": "stream",
     "text": [
      "/usr/lib/python2.7/dist-packages/pkg_resources.py:1031: UserWarning: /home/yuncong/.python-eggs is writable by group/others and vulnerable to attack when used with get_resource_filename. Consider a more secure location (set with .set_extraction_path or the PYTHON_EGG_CACHE environment variable).\n",
      "  warnings.warn(msg, UserWarning)\n"
     ]
    }
   ],
   "source": [
    "%reload_ext autoreload\n",
    "%autoreload 2\n",
    "\n",
    "import vtk\n",
    "from vtk.util import numpy_support\n",
    "\n",
    "import numpy as np\n",
    "import bloscpack as bp\n",
    "import time\n",
    "import sys\n",
    "import os\n",
    "sys.path.append(os.path.join(os.environ['REPO_DIR'], 'utilities'))\n",
    "\n",
    "from utilities2015 import *\n",
    "from annotation_utilities import *\n",
    "\n",
    "import matplotlib.pyplot as plt\n",
    "%matplotlib inline\n",
    "\n",
    "from vis3d_utilities import *"
   ]
  },
  {
   "cell_type": "code",
   "execution_count": 2,
   "metadata": {
    "collapsed": true
   },
   "outputs": [],
   "source": [
    "stack = 'MD589'"
   ]
  },
  {
   "cell_type": "code",
   "execution_count": 4,
   "metadata": {
    "collapsed": false
   },
   "outputs": [],
   "source": [
    "tb_volume = load_thumbnail_volume(stack)"
   ]
  },
  {
   "cell_type": "code",
   "execution_count": 36,
   "metadata": {
    "collapsed": false
   },
   "outputs": [],
   "source": [
    "launch_vtk([actor_volume(tb_volume, 'tb')], window_name='Thumbnail Volume %(stack)s' % {'stack': stack})"
   ]
  },
  {
   "cell_type": "code",
   "execution_count": null,
   "metadata": {
    "collapsed": true
   },
   "outputs": [],
   "source": []
  },
  {
   "cell_type": "code",
   "execution_count": 6,
   "metadata": {
    "collapsed": true
   },
   "outputs": [],
   "source": [
    "# visualize thumbnail volume with annotation"
   ]
  },
  {
   "cell_type": "code",
   "execution_count": 7,
   "metadata": {
    "collapsed": true
   },
   "outputs": [],
   "source": [
    "tb_volume_scaledToScoreVolume = load_thumbnail_volume(stack, convert_to_scoreSpace=True)"
   ]
  },
  {
   "cell_type": "code",
   "execution_count": 8,
   "metadata": {
    "collapsed": true
   },
   "outputs": [],
   "source": [
    "xmin, xmax, ymin, ymax, zmin, zmax = np.loadtxt(volume_dir + \"/%(stack)s/%(stack)s_scoreVolume_limits.txt\" % {'stack': stack}, np.int)"
   ]
  },
  {
   "cell_type": "code",
   "execution_count": 9,
   "metadata": {
    "collapsed": false,
    "scrolled": true
   },
   "outputs": [
    {
     "name": "stdout",
     "output_type": "stream",
     "text": [
      "Command 'identify -format %Wx%H /home/yuncong/CSHL_data_processed/MD589_lossless_aligned_cropped_downscaled/MD589_0093_lossless_aligned_cropped_downscaled.jpg' returned non-zero exit status 1\n"
     ]
    },
    {
     "name": "stderr",
     "output_type": "stream",
     "text": [
      "Cannot find image. Make sure the data folder is mounted.\n"
     ]
    },
    {
     "ename": "AttributeError",
     "evalue": "'DataManager' object has no attribute 'image_width'",
     "output_type": "error",
     "traceback": [
      "\u001b[1;31m---------------------------------------------------------------------------\u001b[0m",
      "\u001b[1;31mAttributeError\u001b[0m                            Traceback (most recent call last)",
      "\u001b[1;32m<ipython-input-9-fd24eeae9501>\u001b[0m in \u001b[0;36m<module>\u001b[1;34m()\u001b[0m\n\u001b[1;32m----> 1\u001b[1;33m \u001b[0mdm\u001b[0m \u001b[1;33m=\u001b[0m \u001b[0mDataManager\u001b[0m\u001b[1;33m(\u001b[0m\u001b[0mstack\u001b[0m\u001b[1;33m=\u001b[0m\u001b[0mstack\u001b[0m\u001b[1;33m)\u001b[0m\u001b[1;33m\u001b[0m\u001b[0m\n\u001b[0m",
      "\u001b[1;32m/home/yuncong/Brain/utilities/data_manager.pyc\u001b[0m in \u001b[0;36m__init__\u001b[1;34m(self, data_dir, repo_dir, labeling_dir, stack, resol, section, load_mask)\u001b[0m\n\u001b[0;32m    290\u001b[0m \u001b[1;33m\u001b[0m\u001b[0m\n\u001b[0;32m    291\u001b[0m         \u001b[1;32mif\u001b[0m \u001b[0mstack\u001b[0m \u001b[1;32mis\u001b[0m \u001b[1;32mnot\u001b[0m \u001b[0mNone\u001b[0m\u001b[1;33m:\u001b[0m\u001b[1;33m\u001b[0m\u001b[0m\n\u001b[1;32m--> 292\u001b[1;33m             \u001b[0mself\u001b[0m\u001b[1;33m.\u001b[0m\u001b[0mset_stack\u001b[0m\u001b[1;33m(\u001b[0m\u001b[0mstack\u001b[0m\u001b[1;33m)\u001b[0m\u001b[1;33m\u001b[0m\u001b[0m\n\u001b[0m\u001b[0;32m    293\u001b[0m \u001b[1;33m\u001b[0m\u001b[0m\n\u001b[0;32m    294\u001b[0m         \u001b[1;32mif\u001b[0m \u001b[0mresol\u001b[0m \u001b[1;32mis\u001b[0m \u001b[1;32mnot\u001b[0m \u001b[0mNone\u001b[0m\u001b[1;33m:\u001b[0m\u001b[1;33m\u001b[0m\u001b[0m\n",
      "\u001b[1;32m/home/yuncong/Brain/utilities/data_manager.pyc\u001b[0m in \u001b[0;36mset_stack\u001b[1;34m(self, stack)\u001b[0m\n\u001b[0;32m    350\u001b[0m     \u001b[1;32mdef\u001b[0m \u001b[0mset_stack\u001b[0m\u001b[1;33m(\u001b[0m\u001b[0mself\u001b[0m\u001b[1;33m,\u001b[0m \u001b[0mstack\u001b[0m\u001b[1;33m)\u001b[0m\u001b[1;33m:\u001b[0m\u001b[1;33m\u001b[0m\u001b[0m\n\u001b[0;32m    351\u001b[0m         \u001b[0mself\u001b[0m\u001b[1;33m.\u001b[0m\u001b[0mstack\u001b[0m \u001b[1;33m=\u001b[0m \u001b[0mstack\u001b[0m\u001b[1;33m\u001b[0m\u001b[0m\n\u001b[1;32m--> 352\u001b[1;33m         \u001b[0mself\u001b[0m\u001b[1;33m.\u001b[0m\u001b[0m_get_image_dimension\u001b[0m\u001b[1;33m(\u001b[0m\u001b[1;33m)\u001b[0m\u001b[1;33m\u001b[0m\u001b[0m\n\u001b[0m\u001b[0;32m    353\u001b[0m \u001b[1;31m#         self.stack_path = os.path.join(self.data_dir, self.stack)\u001b[0m\u001b[1;33m\u001b[0m\u001b[1;33m\u001b[0m\u001b[0m\n\u001b[0;32m    354\u001b[0m \u001b[1;31m#         self.slice_ind = None\u001b[0m\u001b[1;33m\u001b[0m\u001b[1;33m\u001b[0m\u001b[0m\n",
      "\u001b[1;32m/home/yuncong/Brain/utilities/data_manager.pyc\u001b[0m in \u001b[0;36m_get_image_dimension\u001b[1;34m(self)\u001b[0m\n\u001b[0;32m    377\u001b[0m             \u001b[0msys\u001b[0m\u001b[1;33m.\u001b[0m\u001b[0mstderr\u001b[0m\u001b[1;33m.\u001b[0m\u001b[0mwrite\u001b[0m\u001b[1;33m(\u001b[0m\u001b[1;34m'Cannot find image. Make sure the data folder is mounted.\\n'\u001b[0m\u001b[1;33m)\u001b[0m\u001b[1;33m\u001b[0m\u001b[0m\n\u001b[0;32m    378\u001b[0m \u001b[1;33m\u001b[0m\u001b[0m\n\u001b[1;32m--> 379\u001b[1;33m         \u001b[1;32mreturn\u001b[0m \u001b[0mself\u001b[0m\u001b[1;33m.\u001b[0m\u001b[0mimage_width\u001b[0m\u001b[1;33m,\u001b[0m \u001b[0mself\u001b[0m\u001b[1;33m.\u001b[0m\u001b[0mimage_height\u001b[0m\u001b[1;33m\u001b[0m\u001b[0m\n\u001b[0m\u001b[0;32m    380\u001b[0m \u001b[1;33m\u001b[0m\u001b[0m\n\u001b[0;32m    381\u001b[0m     \u001b[1;32mdef\u001b[0m \u001b[0mset_slice\u001b[0m\u001b[1;33m(\u001b[0m\u001b[0mself\u001b[0m\u001b[1;33m,\u001b[0m \u001b[0mslice_ind\u001b[0m\u001b[1;33m)\u001b[0m\u001b[1;33m:\u001b[0m\u001b[1;33m\u001b[0m\u001b[0m\n",
      "\u001b[1;31mAttributeError\u001b[0m: 'DataManager' object has no attribute 'image_width'"
     ]
    }
   ],
   "source": [
    "dm = DataManager(stack=stack)"
   ]
  },
  {
   "cell_type": "code",
   "execution_count": 10,
   "metadata": {
    "collapsed": true
   },
   "outputs": [],
   "source": [
    "atlasProjected_volume = bp.unpack_ndarray_file(os.path.join(volume_dir, '%(stack)s/%(stack)s_atlasProjectedVolume.bp' % {'stack': stack}))\n",
    "\n",
    "available_labels_sided = [labels_sided[i-1] for i in np.unique(atlasProjected_volume) if i > 0]\n",
    "available_labels_unsided = set([labelMap_sidedToUnsided[name] for name in available_labels_sided ])"
   ]
  },
  {
   "cell_type": "code",
   "execution_count": 11,
   "metadata": {
    "collapsed": false
   },
   "outputs": [
    {
     "ename": "NameError",
     "evalue": "global name 'section_range_lookup' is not defined",
     "output_type": "error",
     "traceback": [
      "\u001b[1;31m---------------------------------------------------------------------------\u001b[0m",
      "\u001b[1;31mNameError\u001b[0m                                 Traceback (most recent call last)",
      "\u001b[1;32m<ipython-input-11-41b35b658602>\u001b[0m in \u001b[0;36m<module>\u001b[1;34m()\u001b[0m\n\u001b[1;32m----> 1\u001b[1;33m \u001b[0mz_sec_map\u001b[0m \u001b[1;33m=\u001b[0m \u001b[0mfind_z_section_map\u001b[0m\u001b[1;33m(\u001b[0m\u001b[0mstack\u001b[0m\u001b[1;33m,\u001b[0m \u001b[0mzmin\u001b[0m\u001b[1;33m)\u001b[0m\u001b[1;33m\u001b[0m\u001b[0m\n\u001b[0m",
      "\u001b[1;32m/home/yuncong/Brain/utilities/utilities2015.pyc\u001b[0m in \u001b[0;36mfind_z_section_map\u001b[1;34m(stack, volume_zmin, downsample_factor)\u001b[0m\n\u001b[0;32m    230\u001b[0m \u001b[1;33m\u001b[0m\u001b[0m\n\u001b[0;32m    231\u001b[0m     \u001b[1;31m# build annotation volume\u001b[0m\u001b[1;33m\u001b[0m\u001b[1;33m\u001b[0m\u001b[0m\n\u001b[1;32m--> 232\u001b[1;33m     \u001b[0msection_bs_begin\u001b[0m\u001b[1;33m,\u001b[0m \u001b[0msection_bs_end\u001b[0m \u001b[1;33m=\u001b[0m \u001b[0msection_range_lookup\u001b[0m\u001b[1;33m[\u001b[0m\u001b[0mstack\u001b[0m\u001b[1;33m]\u001b[0m\u001b[1;33m\u001b[0m\u001b[0m\n\u001b[0m\u001b[0;32m    233\u001b[0m     \u001b[1;32mprint\u001b[0m \u001b[0msection_bs_begin\u001b[0m\u001b[1;33m,\u001b[0m \u001b[0msection_bs_end\u001b[0m\u001b[1;33m\u001b[0m\u001b[0m\n\u001b[0;32m    234\u001b[0m \u001b[1;33m\u001b[0m\u001b[0m\n",
      "\u001b[1;31mNameError\u001b[0m: global name 'section_range_lookup' is not defined"
     ]
    }
   ],
   "source": [
    "z_sec_map = find_z_section_map(stack, zmin)"
   ]
  },
  {
   "cell_type": "code",
   "execution_count": 26,
   "metadata": {
    "collapsed": true
   },
   "outputs": [],
   "source": [
    "tb_xdim, tb_ydim, tb_zdim = tb_volume.shape"
   ]
  },
  {
   "cell_type": "code",
   "execution_count": 27,
   "metadata": {
    "collapsed": false,
    "scrolled": true
   },
   "outputs": [
    {
     "name": "stdout",
     "output_type": "stream",
     "text": [
      "Command 'identify -format %Wx%H /home/yuncong/CSHL_data_processed/MD589_lossless_aligned_cropped_downscaled/MD589_0150_lossless_aligned_cropped_downscaled.jpg' returned non-zero exit status 1\n",
      "Command 'identify -format %Wx%H /home/yuncong/CSHL_data_processed/MD589_lossless_aligned_cropped_downscaled/MD589_0150_lossless_aligned_cropped_downscaled.jpg' returned non-zero exit status 1\n",
      "Command 'identify -format %Wx%H /home/yuncong/CSHL_data_processed/MD589_lossless_aligned_cropped_downscaled/MD589_0150_lossless_aligned_cropped_downscaled.jpg' returned non-zero exit status 1\n",
      "Command 'identify -format %Wx%H /home/yuncong/CSHL_data_processed/MD589_lossless_aligned_cropped_downscaled/MD589_0151_lossless_aligned_cropped_downscaled.jpg' returned non-zero exit status 1\n",
      "Command 'identify -format %Wx%H /home/yuncong/CSHL_data_processed/MD589_lossless_aligned_cropped_downscaled/MD589_0151_lossless_aligned_cropped_downscaled.jpg' returned non-zero exit status 1\n",
      "Command 'identify -format %Wx%H /home/yuncong/CSHL_data_processed/MD589_lossless_aligned_cropped_downscaled/MD589_0151_lossless_aligned_cropped_downscaled.jpg' returned non-zero exit status 1"
     ]
    },
    {
     "name": "stderr",
     "output_type": "stream",
     "text": [
      "Cannot find image\n",
      "Cannot find image\n",
      "Cannot find image\n",
      "Cannot find image\n",
      "Cannot find image\n",
      "Cannot find image\n"
     ]
    },
    {
     "name": "stdout",
     "output_type": "stream",
     "text": [
      "\n",
      "Command 'identify -format %Wx%H /home/yuncong/CSHL_data_processed/MD589_lossless_aligned_cropped_downscaled/MD589_0152_lossless_aligned_cropped_downscaled.jpg' returned non-zero exit status 1\n",
      "Command 'identify -format %Wx%H /home/yuncong/CSHL_data_processed/MD589_lossless_aligned_cropped_downscaled/MD589_0152_lossless_aligned_cropped_downscaled.jpg' returned non-zero exit status 1\n",
      "Command 'identify -format %Wx%H /home/yuncong/CSHL_data_processed/MD589_lossless_aligned_cropped_downscaled/MD589_0153_lossless_aligned_cropped_downscaled.jpg' returned non-zero exit status 1\n",
      "Command 'identify -format %Wx%H /home/yuncong/CSHL_data_processed/MD589_lossless_aligned_cropped_downscaled/MD589_0153_lossless_aligned_cropped_downscaled.jpg' returned non-zero exit status 1\n",
      "Command 'identify -format %Wx%H /home/yuncong/CSHL_data_processed/MD589_lossless_aligned_cropped_downscaled/MD589_0153_lossless_aligned_cropped_downscaled.jpg' returned non-zero exit status 1"
     ]
    },
    {
     "name": "stderr",
     "output_type": "stream",
     "text": [
      "Cannot find image\n",
      "Cannot find image\n",
      "Cannot find image\n",
      "Cannot find image\n",
      "Cannot find image\n",
      "Cannot find image\n"
     ]
    },
    {
     "name": "stdout",
     "output_type": "stream",
     "text": [
      "\n",
      "Command 'identify -format %Wx%H /home/yuncong/CSHL_data_processed/MD589_lossless_aligned_cropped_downscaled/MD589_0154_lossless_aligned_cropped_downscaled.jpg' returned non-zero exit status 1\n",
      "Command 'identify -format %Wx%H /home/yuncong/CSHL_data_processed/MD589_lossless_aligned_cropped_downscaled/MD589_0154_lossless_aligned_cropped_downscaled.jpg' returned non-zero exit status 1\n",
      "Command 'identify -format %Wx%H /home/yuncong/CSHL_data_processed/MD589_lossless_aligned_cropped_downscaled/MD589_0154_lossless_aligned_cropped_downscaled.jpg' returned non-zero exit status 1\n",
      "Command 'identify -format %Wx%H /home/yuncong/CSHL_data_processed/MD589_lossless_aligned_cropped_downscaled/MD589_0155_lossless_aligned_cropped_downscaled.jpg' returned non-zero exit status 1\n",
      "Command 'identify -format %Wx%H /home/yuncong/CSHL_data_processed/MD589_lossless_aligned_cropped_downscaled/MD589_0155_lossless_aligned_cropped_downscaled.jpg' returned non-zero exit status 1"
     ]
    },
    {
     "name": "stderr",
     "output_type": "stream",
     "text": [
      "Cannot find image\n",
      "Cannot find image\n",
      "Cannot find image\n",
      "Cannot find image\n",
      "Cannot find image\n"
     ]
    },
    {
     "name": "stdout",
     "output_type": "stream",
     "text": [
      "\n",
      "Command 'identify -format %Wx%H /home/yuncong/CSHL_data_processed/MD589_lossless_aligned_cropped_downscaled/MD589_0156_lossless_aligned_cropped_downscaled.jpg' returned non-zero exit status 1\n",
      "Command 'identify -format %Wx%H /home/yuncong/CSHL_data_processed/MD589_lossless_aligned_cropped_downscaled/MD589_0156_lossless_aligned_cropped_downscaled.jpg' returned non-zero exit status 1\n",
      "Command 'identify -format %Wx%H /home/yuncong/CSHL_data_processed/MD589_lossless_aligned_cropped_downscaled/MD589_0156_lossless_aligned_cropped_downscaled.jpg' returned non-zero exit status 1\n",
      "Command 'identify -format %Wx%H /home/yuncong/CSHL_data_processed/MD589_lossless_aligned_cropped_downscaled/MD589_0157_lossless_aligned_cropped_downscaled.jpg' returned non-zero exit status 1"
     ]
    },
    {
     "name": "stderr",
     "output_type": "stream",
     "text": [
      "Cannot find image\n",
      "Cannot find image\n",
      "Cannot find image\n",
      "Cannot find image\n",
      "Cannot find image\n"
     ]
    },
    {
     "name": "stdout",
     "output_type": "stream",
     "text": [
      "\n",
      "Command 'identify -format %Wx%H /home/yuncong/CSHL_data_processed/MD589_lossless_aligned_cropped_downscaled/MD589_0157_lossless_aligned_cropped_downscaled.jpg' returned non-zero exit status 1\n",
      "Command 'identify -format %Wx%H /home/yuncong/CSHL_data_processed/MD589_lossless_aligned_cropped_downscaled/MD589_0157_lossless_aligned_cropped_downscaled.jpg' returned non-zero exit status 1\n",
      "Command 'identify -format %Wx%H /home/yuncong/CSHL_data_processed/MD589_lossless_aligned_cropped_downscaled/MD589_0158_lossless_aligned_cropped_downscaled.jpg' returned non-zero exit status 1\n",
      "Command 'identify -format %Wx%H /home/yuncong/CSHL_data_processed/MD589_lossless_aligned_cropped_downscaled/MD589_0158_lossless_aligned_cropped_downscaled.jpg' returned non-zero exit status 1"
     ]
    },
    {
     "name": "stderr",
     "output_type": "stream",
     "text": [
      "Cannot find image\n",
      "Cannot find image\n",
      "Cannot find image\n",
      "Cannot find image\n"
     ]
    },
    {
     "name": "stdout",
     "output_type": "stream",
     "text": [
      "\n",
      "Command 'identify -format %Wx%H /home/yuncong/CSHL_data_processed/MD589_lossless_aligned_cropped_downscaled/MD589_0158_lossless_aligned_cropped_downscaled.jpg' returned non-zero exit status 1\n",
      "Command 'identify -format %Wx%H /home/yuncong/CSHL_data_processed/MD589_lossless_aligned_cropped_downscaled/MD589_0159_lossless_aligned_cropped_downscaled.jpg' returned non-zero exit status 1\n",
      "Command 'identify -format %Wx%H /home/yuncong/CSHL_data_processed/MD589_lossless_aligned_cropped_downscaled/MD589_0159_lossless_aligned_cropped_downscaled.jpg' returned non-zero exit status 1\n",
      "Command 'identify -format %Wx%H /home/yuncong/CSHL_data_processed/MD589_lossless_aligned_cropped_downscaled/MD589_0160_lossless_aligned_cropped_downscaled.jpg' returned non-zero exit status 1"
     ]
    },
    {
     "name": "stderr",
     "output_type": "stream",
     "text": [
      "Cannot find image\n",
      "Cannot find image\n",
      "Cannot find image\n",
      "Cannot find image\n",
      "Cannot find image\n"
     ]
    },
    {
     "name": "stdout",
     "output_type": "stream",
     "text": [
      "\n",
      "Command 'identify -format %Wx%H /home/yuncong/CSHL_data_processed/MD589_lossless_aligned_cropped_downscaled/MD589_0160_lossless_aligned_cropped_downscaled.jpg' returned non-zero exit status 1\n",
      "Command 'identify -format %Wx%H /home/yuncong/CSHL_data_processed/MD589_lossless_aligned_cropped_downscaled/MD589_0160_lossless_aligned_cropped_downscaled.jpg' returned non-zero exit status 1\n",
      "Command 'identify -format %Wx%H /home/yuncong/CSHL_data_processed/MD589_lossless_aligned_cropped_downscaled/MD589_0161_lossless_aligned_cropped_downscaled.jpg' returned non-zero exit status 1\n",
      "Command 'identify -format %Wx%H /home/yuncong/CSHL_data_processed/MD589_lossless_aligned_cropped_downscaled/MD589_0161_lossless_aligned_cropped_downscaled.jpg' returned non-zero exit status 1\n",
      "Command 'identify -format %Wx%H /home/yuncong/CSHL_data_processed/MD589_lossless_aligned_cropped_downscaled/MD589_0161_lossless_aligned_cropped_downscaled.jpg' returned non-zero exit status 1\n",
      "Command 'identify -format %Wx%H /home/yuncong/CSHL_data_processed/MD589_lossless_aligned_cropped_downscaled/MD589_0162_lossless_aligned_cropped_downscaled.jpg' returned non-zero exit status 1\n",
      "Command 'identify -format %Wx%H /home/yuncong/CSHL_data_processed/MD589_lossless_aligned_cropped_downscaled/MD589_0162_lossless_aligned_cropped_downscaled.jpg' returned non-zero exit status 1\n",
      "Command 'identify -format %Wx%H /home/yuncong/CSHL_data_processed/MD589_lossless_aligned_cropped_downscaled/MD589_0163_lossless_aligned_cropped_downscaled.jpg' returned non-zero exit status 1"
     ]
    },
    {
     "name": "stderr",
     "output_type": "stream",
     "text": [
      "Cannot find image\n",
      "Cannot find image\n",
      "Cannot find image\n",
      "Cannot find image\n",
      "Cannot find image\n"
     ]
    },
    {
     "name": "stdout",
     "output_type": "stream",
     "text": [
      "\n",
      "Command 'identify -format %Wx%H /home/yuncong/CSHL_data_processed/MD589_lossless_aligned_cropped_downscaled/MD589_0163_lossless_aligned_cropped_downscaled.jpg' returned non-zero exit status 1\n",
      "Command 'identify -format %Wx%H /home/yuncong/CSHL_data_processed/MD589_lossless_aligned_cropped_downscaled/MD589_0163_lossless_aligned_cropped_downscaled.jpg' returned non-zero exit status 1\n",
      "Command 'identify -format %Wx%H /home/yuncong/CSHL_data_processed/MD589_lossless_aligned_cropped_downscaled/MD589_0164_lossless_aligned_cropped_downscaled.jpg' returned non-zero exit status 1\n",
      "Command 'identify -format %Wx%H /home/yuncong/CSHL_data_processed/MD589_lossless_aligned_cropped_downscaled/MD589_0164_lossless_aligned_cropped_downscaled.jpg' returned non-zero exit status 1"
     ]
    },
    {
     "name": "stderr",
     "output_type": "stream",
     "text": [
      "Cannot find image\n",
      "Cannot find image\n",
      "Cannot find image\n",
      "Cannot find image\n"
     ]
    },
    {
     "name": "stdout",
     "output_type": "stream",
     "text": [
      "\n",
      "Command 'identify -format %Wx%H /home/yuncong/CSHL_data_processed/MD589_lossless_aligned_cropped_downscaled/MD589_0164_lossless_aligned_cropped_downscaled.jpg' returned non-zero exit status 1\n",
      "Command 'identify -format %Wx%H /home/yuncong/CSHL_data_processed/MD589_lossless_aligned_cropped_downscaled/MD589_0165_lossless_aligned_cropped_downscaled.jpg' returned non-zero exit status 1\n",
      "Command 'identify -format %Wx%H /home/yuncong/CSHL_data_processed/MD589_lossless_aligned_cropped_downscaled/MD589_0165_lossless_aligned_cropped_downscaled.jpg' returned non-zero exit status 1"
     ]
    },
    {
     "name": "stderr",
     "output_type": "stream",
     "text": [
      "Cannot find image\n",
      "Cannot find image\n",
      "Cannot find image\n",
      "Cannot find image\n"
     ]
    },
    {
     "name": "stdout",
     "output_type": "stream",
     "text": [
      "\n",
      "Command 'identify -format %Wx%H /home/yuncong/CSHL_data_processed/MD589_lossless_aligned_cropped_downscaled/MD589_0165_lossless_aligned_cropped_downscaled.jpg' returned non-zero exit status 1\n",
      "Command 'identify -format %Wx%H /home/yuncong/CSHL_data_processed/MD589_lossless_aligned_cropped_downscaled/MD589_0166_lossless_aligned_cropped_downscaled.jpg' returned non-zero exit status 1\n",
      "Command 'identify -format %Wx%H /home/yuncong/CSHL_data_processed/MD589_lossless_aligned_cropped_downscaled/MD589_0166_lossless_aligned_cropped_downscaled.jpg' returned non-zero exit status 1"
     ]
    },
    {
     "name": "stderr",
     "output_type": "stream",
     "text": [
      "Cannot find image\n",
      "Cannot find image\n",
      "Cannot find image\n",
      "Cannot find image\n"
     ]
    },
    {
     "name": "stdout",
     "output_type": "stream",
     "text": [
      "\n",
      "Command 'identify -format %Wx%H /home/yuncong/CSHL_data_processed/MD589_lossless_aligned_cropped_downscaled/MD589_0167_lossless_aligned_cropped_downscaled.jpg' returned non-zero exit status 1\n",
      "Command 'identify -format %Wx%H /home/yuncong/CSHL_data_processed/MD589_lossless_aligned_cropped_downscaled/MD589_0167_lossless_aligned_cropped_downscaled.jpg' returned non-zero exit status 1\n",
      "Command 'identify -format %Wx%H /home/yuncong/CSHL_data_processed/MD589_lossless_aligned_cropped_downscaled/MD589_0167_lossless_aligned_cropped_downscaled.jpg' returned non-zero exit status 1\n",
      "Command 'identify -format %Wx%H /home/yuncong/CSHL_data_processed/MD589_lossless_aligned_cropped_downscaled/MD589_0168_lossless_aligned_cropped_downscaled.jpg' returned non-zero exit status 1\n",
      "Command 'identify -format %Wx%H /home/yuncong/CSHL_data_processed/MD589_lossless_aligned_cropped_downscaled/MD589_0168_lossless_aligned_cropped_downscaled.jpg' returned non-zero exit status 1\n",
      "Command 'identify -format %Wx%H /home/yuncong/CSHL_data_processed/MD589_lossless_aligned_cropped_downscaled/MD589_0168_lossless_aligned_cropped_downscaled.jpg' returned non-zero exit status 1"
     ]
    },
    {
     "name": "stderr",
     "output_type": "stream",
     "text": [
      "Cannot find image\n",
      "Cannot find image\n",
      "Cannot find image\n",
      "Cannot find image\n"
     ]
    },
    {
     "name": "stdout",
     "output_type": "stream",
     "text": [
      "\n",
      "Command 'identify -format %Wx%H /home/yuncong/CSHL_data_processed/MD589_lossless_aligned_cropped_downscaled/MD589_0169_lossless_aligned_cropped_downscaled.jpg' returned non-zero exit status 1\n",
      "Command 'identify -format %Wx%H /home/yuncong/CSHL_data_processed/MD589_lossless_aligned_cropped_downscaled/MD589_0169_lossless_aligned_cropped_downscaled.jpg' returned non-zero exit status 1\n",
      "Command 'identify -format %Wx%H /home/yuncong/CSHL_data_processed/MD589_lossless_aligned_cropped_downscaled/MD589_0170_lossless_aligned_cropped_downscaled.jpg' returned non-zero exit status 1"
     ]
    },
    {
     "name": "stderr",
     "output_type": "stream",
     "text": [
      "Cannot find image\n",
      "Cannot find image\n",
      "Cannot find image\n",
      "Cannot find image\n"
     ]
    },
    {
     "name": "stdout",
     "output_type": "stream",
     "text": [
      "\n",
      "Command 'identify -format %Wx%H /home/yuncong/CSHL_data_processed/MD589_lossless_aligned_cropped_downscaled/MD589_0170_lossless_aligned_cropped_downscaled.jpg' returned non-zero exit status 1\n",
      "Command 'identify -format %Wx%H /home/yuncong/CSHL_data_processed/MD589_lossless_aligned_cropped_downscaled/MD589_0170_lossless_aligned_cropped_downscaled.jpg' returned non-zero exit status 1\n",
      "Command 'identify -format %Wx%H /home/yuncong/CSHL_data_processed/MD589_lossless_aligned_cropped_downscaled/MD589_0171_lossless_aligned_cropped_downscaled.jpg' returned non-zero exit status 1"
     ]
    },
    {
     "name": "stderr",
     "output_type": "stream",
     "text": [
      "Cannot find image\n",
      "Cannot find image\n",
      "Cannot find image\n",
      "Cannot find image\n"
     ]
    },
    {
     "name": "stdout",
     "output_type": "stream",
     "text": [
      "\n",
      "Command 'identify -format %Wx%H /home/yuncong/CSHL_data_processed/MD589_lossless_aligned_cropped_downscaled/MD589_0171_lossless_aligned_cropped_downscaled.jpg' returned non-zero exit status 1\n",
      "Command 'identify -format %Wx%H /home/yuncong/CSHL_data_processed/MD589_lossless_aligned_cropped_downscaled/MD589_0171_lossless_aligned_cropped_downscaled.jpg' returned non-zero exit status 1\n",
      "Command 'identify -format %Wx%H /home/yuncong/CSHL_data_processed/MD589_lossless_aligned_cropped_downscaled/MD589_0172_lossless_aligned_cropped_downscaled.jpg' returned non-zero exit status 1\n",
      "Command 'identify -format %Wx%H /home/yuncong/CSHL_data_processed/MD589_lossless_aligned_cropped_downscaled/MD589_0172_lossless_aligned_cropped_downscaled.jpg' returned non-zero exit status 1"
     ]
    },
    {
     "name": "stderr",
     "output_type": "stream",
     "text": [
      "Cannot find image\n",
      "Cannot find image\n",
      "Cannot find image\n",
      "Cannot find image\n",
      "Cannot find image\n"
     ]
    },
    {
     "name": "stdout",
     "output_type": "stream",
     "text": [
      "\n",
      "Command 'identify -format %Wx%H /home/yuncong/CSHL_data_processed/MD589_lossless_aligned_cropped_downscaled/MD589_0172_lossless_aligned_cropped_downscaled.jpg' returned non-zero exit status 1\n",
      "Command 'identify -format %Wx%H /home/yuncong/CSHL_data_processed/MD589_lossless_aligned_cropped_downscaled/MD589_0173_lossless_aligned_cropped_downscaled.jpg' returned non-zero exit status 1\n",
      "Command 'identify -format %Wx%H /home/yuncong/CSHL_data_processed/MD589_lossless_aligned_cropped_downscaled/MD589_0173_lossless_aligned_cropped_downscaled.jpg' returned non-zero exit status 1\n",
      "Command 'identify -format %Wx%H /home/yuncong/CSHL_data_processed/MD589_lossless_aligned_cropped_downscaled/MD589_0174_lossless_aligned_cropped_downscaled.jpg' returned non-zero exit status 1\n",
      "Command 'identify -format %Wx%H /home/yuncong/CSHL_data_processed/MD589_lossless_aligned_cropped_downscaled/MD589_0174_lossless_aligned_cropped_downscaled.jpg' returned non-zero exit status 1\n",
      "Command 'identify -format %Wx%H /home/yuncong/CSHL_data_processed/MD589_lossless_aligned_cropped_downscaled/MD589_0174_lossless_aligned_cropped_downscaled.jpg' returned non-zero exit status 1\n",
      "Command 'identify -format %Wx%H /home/yuncong/CSHL_data_processed/MD589_lossless_aligned_cropped_downscaled/MD589_0175_lossless_aligned_cropped_downscaled.jpg' returned non-zero exit status 1\n",
      "Command 'identify -format %Wx%H /home/yuncong/CSHL_data_processed/MD589_lossless_aligned_cropped_downscaled/MD589_0175_lossless_aligned_cropped_downscaled.jpg' returned non-zero exit status 1"
     ]
    },
    {
     "name": "stderr",
     "output_type": "stream",
     "text": [
      "Cannot find image\n",
      "Cannot find image\n",
      "Cannot find image\n",
      "Cannot find image\n",
      "Cannot find image\n"
     ]
    },
    {
     "name": "stdout",
     "output_type": "stream",
     "text": [
      "\n",
      "Command 'identify -format %Wx%H /home/yuncong/CSHL_data_processed/MD589_lossless_aligned_cropped_downscaled/MD589_0175_lossless_aligned_cropped_downscaled.jpg' returned non-zero exit status 1\n",
      "Command 'identify -format %Wx%H /home/yuncong/CSHL_data_processed/MD589_lossless_aligned_cropped_downscaled/MD589_0176_lossless_aligned_cropped_downscaled.jpg' returned non-zero exit status 1\n",
      "Command 'identify -format %Wx%H /home/yuncong/CSHL_data_processed/MD589_lossless_aligned_cropped_downscaled/MD589_0176_lossless_aligned_cropped_downscaled.jpg' returned non-zero exit status 1\n",
      "Command 'identify -format %Wx%H /home/yuncong/CSHL_data_processed/MD589_lossless_aligned_cropped_downscaled/MD589_0177_lossless_aligned_cropped_downscaled.jpg' returned non-zero exit status 1"
     ]
    },
    {
     "name": "stderr",
     "output_type": "stream",
     "text": [
      "Cannot find image\n",
      "Cannot find image\n",
      "Cannot find image\n",
      "Cannot find image\n",
      "Cannot find image\n"
     ]
    },
    {
     "name": "stdout",
     "output_type": "stream",
     "text": [
      "\n",
      "Command 'identify -format %Wx%H /home/yuncong/CSHL_data_processed/MD589_lossless_aligned_cropped_downscaled/MD589_0177_lossless_aligned_cropped_downscaled.jpg' returned non-zero exit status 1\n",
      "Command 'identify -format %Wx%H /home/yuncong/CSHL_data_processed/MD589_lossless_aligned_cropped_downscaled/MD589_0177_lossless_aligned_cropped_downscaled.jpg' returned non-zero exit status 1\n",
      "Command 'identify -format %Wx%H /home/yuncong/CSHL_data_processed/MD589_lossless_aligned_cropped_downscaled/MD589_0178_lossless_aligned_cropped_downscaled.jpg' returned non-zero exit status 1\n",
      "Command 'identify -format %Wx%H /home/yuncong/CSHL_data_processed/MD589_lossless_aligned_cropped_downscaled/MD589_0178_lossless_aligned_cropped_downscaled.jpg' returned non-zero exit status 1"
     ]
    },
    {
     "name": "stderr",
     "output_type": "stream",
     "text": [
      "Cannot find image\n",
      "Cannot find image\n",
      "Cannot find image\n",
      "Cannot find image\n"
     ]
    },
    {
     "name": "stdout",
     "output_type": "stream",
     "text": [
      "\n",
      "Command 'identify -format %Wx%H /home/yuncong/CSHL_data_processed/MD589_lossless_aligned_cropped_downscaled/MD589_0178_lossless_aligned_cropped_downscaled.jpg' returned non-zero exit status 1\n",
      "Command 'identify -format %Wx%H /home/yuncong/CSHL_data_processed/MD589_lossless_aligned_cropped_downscaled/MD589_0179_lossless_aligned_cropped_downscaled.jpg' returned non-zero exit status 1\n",
      "Command 'identify -format %Wx%H /home/yuncong/CSHL_data_processed/MD589_lossless_aligned_cropped_downscaled/MD589_0179_lossless_aligned_cropped_downscaled.jpg' returned non-zero exit status 1\n",
      "Command 'identify -format %Wx%H /home/yuncong/CSHL_data_processed/MD589_lossless_aligned_cropped_downscaled/MD589_0179_lossless_aligned_cropped_downscaled.jpg' returned non-zero exit status 1"
     ]
    },
    {
     "name": "stderr",
     "output_type": "stream",
     "text": [
      "Cannot find image\n",
      "Cannot find image\n",
      "Cannot find image\n",
      "Cannot find image\n",
      "Cannot find image\n"
     ]
    },
    {
     "name": "stdout",
     "output_type": "stream",
     "text": [
      "\n",
      "Command 'identify -format %Wx%H /home/yuncong/CSHL_data_processed/MD589_lossless_aligned_cropped_downscaled/MD589_0180_lossless_aligned_cropped_downscaled.jpg' returned non-zero exit status 1\n",
      "Command 'identify -format %Wx%H /home/yuncong/CSHL_data_processed/MD589_lossless_aligned_cropped_downscaled/MD589_0180_lossless_aligned_cropped_downscaled.jpg' returned non-zero exit status 1\n",
      "Command 'identify -format %Wx%H /home/yuncong/CSHL_data_processed/MD589_lossless_aligned_cropped_downscaled/MD589_0181_lossless_aligned_cropped_downscaled.jpg' returned non-zero exit status 1\n",
      "Command 'identify -format %Wx%H /home/yuncong/CSHL_data_processed/MD589_lossless_aligned_cropped_downscaled/MD589_0181_lossless_aligned_cropped_downscaled.jpg' returned non-zero exit status 1"
     ]
    },
    {
     "name": "stderr",
     "output_type": "stream",
     "text": [
      "Cannot find image\n",
      "Cannot find image\n",
      "Cannot find image\n",
      "Cannot find image\n",
      "Cannot find image\n"
     ]
    },
    {
     "name": "stdout",
     "output_type": "stream",
     "text": [
      "\n",
      "Command 'identify -format %Wx%H /home/yuncong/CSHL_data_processed/MD589_lossless_aligned_cropped_downscaled/MD589_0181_lossless_aligned_cropped_downscaled.jpg' returned non-zero exit status 1\n",
      "Command 'identify -format %Wx%H /home/yuncong/CSHL_data_processed/MD589_lossless_aligned_cropped_downscaled/MD589_0182_lossless_aligned_cropped_downscaled.jpg' returned non-zero exit status 1\n",
      "Command 'identify -format %Wx%H /home/yuncong/CSHL_data_processed/MD589_lossless_aligned_cropped_downscaled/MD589_0182_lossless_aligned_cropped_downscaled.jpg' returned non-zero exit status 1\n",
      "Command 'identify -format %Wx%H /home/yuncong/CSHL_data_processed/MD589_lossless_aligned_cropped_downscaled/MD589_0182_lossless_aligned_cropped_downscaled.jpg' returned non-zero exit status 1\n",
      "Command 'identify -format %Wx%H /home/yuncong/CSHL_data_processed/MD589_lossless_aligned_cropped_downscaled/MD589_0183_lossless_aligned_cropped_downscaled.jpg' returned non-zero exit status 1\n",
      "Command 'identify -format %Wx%H /home/yuncong/CSHL_data_processed/MD589_lossless_aligned_cropped_downscaled/MD589_0183_lossless_aligned_cropped_downscaled.jpg' returned non-zero exit status 1\n",
      "Command 'identify -format %Wx%H /home/yuncong/CSHL_data_processed/MD589_lossless_aligned_cropped_downscaled/MD589_0183_lossless_aligned_cropped_downscaled.jpg' returned non-zero exit status 1\n",
      "Command 'identify -format %Wx%H /home/yuncong/CSHL_data_processed/MD589_lossless_aligned_cropped_downscaled/MD589_0184_lossless_aligned_cropped_downscaled.jpg' returned non-zero exit status 1"
     ]
    },
    {
     "name": "stderr",
     "output_type": "stream",
     "text": [
      "Cannot find image\n",
      "Cannot find image\n",
      "Cannot find image\n",
      "Cannot find image\n",
      "Cannot find image\n"
     ]
    },
    {
     "name": "stdout",
     "output_type": "stream",
     "text": [
      "\n",
      "Command 'identify -format %Wx%H /home/yuncong/CSHL_data_processed/MD589_lossless_aligned_cropped_downscaled/MD589_0184_lossless_aligned_cropped_downscaled.jpg' returned non-zero exit status 1\n",
      "Command 'identify -format %Wx%H /home/yuncong/CSHL_data_processed/MD589_lossless_aligned_cropped_downscaled/MD589_0185_lossless_aligned_cropped_downscaled.jpg' returned non-zero exit status 1\n",
      "Command 'identify -format %Wx%H /home/yuncong/CSHL_data_processed/MD589_lossless_aligned_cropped_downscaled/MD589_0185_lossless_aligned_cropped_downscaled.jpg' returned non-zero exit status 1\n",
      "Command 'identify -format %Wx%H /home/yuncong/CSHL_data_processed/MD589_lossless_aligned_cropped_downscaled/MD589_0185_lossless_aligned_cropped_downscaled.jpg' returned non-zero exit status 1"
     ]
    },
    {
     "name": "stderr",
     "output_type": "stream",
     "text": [
      "Cannot find image\n",
      "Cannot find image\n",
      "Cannot find image\n",
      "Cannot find image\n",
      "Cannot find image\n"
     ]
    },
    {
     "name": "stdout",
     "output_type": "stream",
     "text": [
      "\n",
      "Command 'identify -format %Wx%H /home/yuncong/CSHL_data_processed/MD589_lossless_aligned_cropped_downscaled/MD589_0186_lossless_aligned_cropped_downscaled.jpg' returned non-zero exit status 1\n",
      "Command 'identify -format %Wx%H /home/yuncong/CSHL_data_processed/MD589_lossless_aligned_cropped_downscaled/MD589_0186_lossless_aligned_cropped_downscaled.jpg' returned non-zero exit status 1\n",
      "Command 'identify -format %Wx%H /home/yuncong/CSHL_data_processed/MD589_lossless_aligned_cropped_downscaled/MD589_0186_lossless_aligned_cropped_downscaled.jpg' returned non-zero exit status 1\n",
      "Command 'identify -format %Wx%H /home/yuncong/CSHL_data_processed/MD589_lossless_aligned_cropped_downscaled/MD589_0187_lossless_aligned_cropped_downscaled.jpg' returned non-zero exit status 1"
     ]
    },
    {
     "name": "stderr",
     "output_type": "stream",
     "text": [
      "Cannot find image\n",
      "Cannot find image\n",
      "Cannot find image\n",
      "Cannot find image\n",
      "Cannot find image\n"
     ]
    },
    {
     "name": "stdout",
     "output_type": "stream",
     "text": [
      "\n",
      "Command 'identify -format %Wx%H /home/yuncong/CSHL_data_processed/MD589_lossless_aligned_cropped_downscaled/MD589_0187_lossless_aligned_cropped_downscaled.jpg' returned non-zero exit status 1\n",
      "Command 'identify -format %Wx%H /home/yuncong/CSHL_data_processed/MD589_lossless_aligned_cropped_downscaled/MD589_0188_lossless_aligned_cropped_downscaled.jpg' returned non-zero exit status 1\n",
      "Command 'identify -format %Wx%H /home/yuncong/CSHL_data_processed/MD589_lossless_aligned_cropped_downscaled/MD589_0188_lossless_aligned_cropped_downscaled.jpg' returned non-zero exit status 1\n",
      "Command 'identify -format %Wx%H /home/yuncong/CSHL_data_processed/MD589_lossless_aligned_cropped_downscaled/MD589_0188_lossless_aligned_cropped_downscaled.jpg' returned non-zero exit status 1\n",
      "Command 'identify -format %Wx%H /home/yuncong/CSHL_data_processed/MD589_lossless_aligned_cropped_downscaled/MD589_0189_lossless_aligned_cropped_downscaled.jpg' returned non-zero exit status 1\n",
      "Command 'identify -format %Wx%H /home/yuncong/CSHL_data_processed/MD589_lossless_aligned_cropped_downscaled/MD589_0189_lossless_aligned_cropped_downscaled.jpg' returned non-zero exit status 1"
     ]
    },
    {
     "name": "stderr",
     "output_type": "stream",
     "text": [
      "Cannot find image\n",
      "Cannot find image\n",
      "Cannot find image\n",
      "Cannot find image\n"
     ]
    },
    {
     "name": "stdout",
     "output_type": "stream",
     "text": [
      "\n",
      "Command 'identify -format %Wx%H /home/yuncong/CSHL_data_processed/MD589_lossless_aligned_cropped_downscaled/MD589_0189_lossless_aligned_cropped_downscaled.jpg' returned non-zero exit status 1\n",
      "Command 'identify -format %Wx%H /home/yuncong/CSHL_data_processed/MD589_lossless_aligned_cropped_downscaled/MD589_0190_lossless_aligned_cropped_downscaled.jpg' returned non-zero exit status 1\n",
      "Command 'identify -format %Wx%H /home/yuncong/CSHL_data_processed/MD589_lossless_aligned_cropped_downscaled/MD589_0190_lossless_aligned_cropped_downscaled.jpg' returned non-zero exit status 1\n",
      "Command 'identify -format %Wx%H /home/yuncong/CSHL_data_processed/MD589_lossless_aligned_cropped_downscaled/MD589_0190_lossless_aligned_cropped_downscaled.jpg' returned non-zero exit status 1"
     ]
    },
    {
     "name": "stderr",
     "output_type": "stream",
     "text": [
      "Cannot find image\n",
      "Cannot find image\n",
      "Cannot find image\n",
      "Cannot find image\n",
      "Cannot find image\n"
     ]
    },
    {
     "name": "stdout",
     "output_type": "stream",
     "text": [
      "\n",
      "Command 'identify -format %Wx%H /home/yuncong/CSHL_data_processed/MD589_lossless_aligned_cropped_downscaled/MD589_0191_lossless_aligned_cropped_downscaled.jpg' returned non-zero exit status 1\n",
      "Command 'identify -format %Wx%H /home/yuncong/CSHL_data_processed/MD589_lossless_aligned_cropped_downscaled/MD589_0191_lossless_aligned_cropped_downscaled.jpg' returned non-zero exit status 1\n",
      "Command 'identify -format %Wx%H /home/yuncong/CSHL_data_processed/MD589_lossless_aligned_cropped_downscaled/MD589_0192_lossless_aligned_cropped_downscaled.jpg' returned non-zero exit status 1\n",
      "Command 'identify -format %Wx%H /home/yuncong/CSHL_data_processed/MD589_lossless_aligned_cropped_downscaled/MD589_0192_lossless_aligned_cropped_downscaled.jpg' returned non-zero exit status 1"
     ]
    },
    {
     "name": "stderr",
     "output_type": "stream",
     "text": [
      "Cannot find image\n",
      "Cannot find image\n",
      "Cannot find image\n",
      "Cannot find image\n",
      "Cannot find image\n"
     ]
    },
    {
     "name": "stdout",
     "output_type": "stream",
     "text": [
      "\n",
      "Command 'identify -format %Wx%H /home/yuncong/CSHL_data_processed/MD589_lossless_aligned_cropped_downscaled/MD589_0192_lossless_aligned_cropped_downscaled.jpg' returned non-zero exit status 1\n",
      "Command 'identify -format %Wx%H /home/yuncong/CSHL_data_processed/MD589_lossless_aligned_cropped_downscaled/MD589_0193_lossless_aligned_cropped_downscaled.jpg' returned non-zero exit status 1\n",
      "Command 'identify -format %Wx%H /home/yuncong/CSHL_data_processed/MD589_lossless_aligned_cropped_downscaled/MD589_0193_lossless_aligned_cropped_downscaled.jpg' returned non-zero exit status 1\n",
      "Command 'identify -format %Wx%H /home/yuncong/CSHL_data_processed/MD589_lossless_aligned_cropped_downscaled/MD589_0193_lossless_aligned_cropped_downscaled.jpg' returned non-zero exit status 1\n",
      "Command 'identify -format %Wx%H /home/yuncong/CSHL_data_processed/MD589_lossless_aligned_cropped_downscaled/MD589_0194_lossless_aligned_cropped_downscaled.jpg' returned non-zero exit status 1\n",
      "Command 'identify -format %Wx%H /home/yuncong/CSHL_data_processed/MD589_lossless_aligned_cropped_downscaled/MD589_0194_lossless_aligned_cropped_downscaled.jpg' returned non-zero exit status 1"
     ]
    },
    {
     "name": "stderr",
     "output_type": "stream",
     "text": [
      "Cannot find image\n",
      "Cannot find image\n",
      "Cannot find image\n",
      "Cannot find image\n"
     ]
    },
    {
     "name": "stdout",
     "output_type": "stream",
     "text": [
      "\n",
      "Command 'identify -format %Wx%H /home/yuncong/CSHL_data_processed/MD589_lossless_aligned_cropped_downscaled/MD589_0195_lossless_aligned_cropped_downscaled.jpg' returned non-zero exit status 1\n",
      "Command 'identify -format %Wx%H /home/yuncong/CSHL_data_processed/MD589_lossless_aligned_cropped_downscaled/MD589_0195_lossless_aligned_cropped_downscaled.jpg' returned non-zero exit status 1\n",
      "Command 'identify -format %Wx%H /home/yuncong/CSHL_data_processed/MD589_lossless_aligned_cropped_downscaled/MD589_0195_lossless_aligned_cropped_downscaled.jpg' returned non-zero exit status 1\n",
      "Command 'identify -format %Wx%H /home/yuncong/CSHL_data_processed/MD589_lossless_aligned_cropped_downscaled/MD589_0196_lossless_aligned_cropped_downscaled.jpg' returned non-zero exit status 1"
     ]
    },
    {
     "name": "stderr",
     "output_type": "stream",
     "text": [
      "Cannot find image\n",
      "Cannot find image\n",
      "Cannot find image\n",
      "Cannot find image\n",
      "Cannot find image\n"
     ]
    },
    {
     "name": "stdout",
     "output_type": "stream",
     "text": [
      "\n",
      "Command 'identify -format %Wx%H /home/yuncong/CSHL_data_processed/MD589_lossless_aligned_cropped_downscaled/MD589_0196_lossless_aligned_cropped_downscaled.jpg' returned non-zero exit status 1\n",
      "Command 'identify -format %Wx%H /home/yuncong/CSHL_data_processed/MD589_lossless_aligned_cropped_downscaled/MD589_0196_lossless_aligned_cropped_downscaled.jpg' returned non-zero exit status 1\n",
      "Command 'identify -format %Wx%H /home/yuncong/CSHL_data_processed/MD589_lossless_aligned_cropped_downscaled/MD589_0197_lossless_aligned_cropped_downscaled.jpg' returned non-zero exit status 1"
     ]
    },
    {
     "name": "stderr",
     "output_type": "stream",
     "text": [
      "Cannot find image\n",
      "Cannot find image\n",
      "Cannot find image\n",
      "Cannot find image\n"
     ]
    },
    {
     "name": "stdout",
     "output_type": "stream",
     "text": [
      "\n",
      "Command 'identify -format %Wx%H /home/yuncong/CSHL_data_processed/MD589_lossless_aligned_cropped_downscaled/MD589_0197_lossless_aligned_cropped_downscaled.jpg' returned non-zero exit status 1\n",
      "Command 'identify -format %Wx%H /home/yuncong/CSHL_data_processed/MD589_lossless_aligned_cropped_downscaled/MD589_0197_lossless_aligned_cropped_downscaled.jpg' returned non-zero exit status 1\n",
      "Command 'identify -format %Wx%H /home/yuncong/CSHL_data_processed/MD589_lossless_aligned_cropped_downscaled/MD589_0198_lossless_aligned_cropped_downscaled.jpg' returned non-zero exit status 1\n",
      "Command 'identify -format %Wx%H /home/yuncong/CSHL_data_processed/MD589_lossless_aligned_cropped_downscaled/MD589_0198_lossless_aligned_cropped_downscaled.jpg' returned non-zero exit status 1\n",
      "Command 'identify -format %Wx%H /home/yuncong/CSHL_data_processed/MD589_lossless_aligned_cropped_downscaled/MD589_0199_lossless_aligned_cropped_downscaled.jpg' returned non-zero exit status 1\n",
      "Command 'identify -format %Wx%H /home/yuncong/CSHL_data_processed/MD589_lossless_aligned_cropped_downscaled/MD589_0199_lossless_aligned_cropped_downscaled.jpg' returned non-zero exit status 1"
     ]
    },
    {
     "name": "stderr",
     "output_type": "stream",
     "text": [
      "Cannot find image\n",
      "Cannot find image\n",
      "Cannot find image\n",
      "Cannot find image\n"
     ]
    },
    {
     "name": "stdout",
     "output_type": "stream",
     "text": [
      "\n",
      "Command 'identify -format %Wx%H /home/yuncong/CSHL_data_processed/MD589_lossless_aligned_cropped_downscaled/MD589_0199_lossless_aligned_cropped_downscaled.jpg' returned non-zero exit status 1\n",
      "Command 'identify -format %Wx%H /home/yuncong/CSHL_data_processed/MD589_lossless_aligned_cropped_downscaled/MD589_0200_lossless_aligned_cropped_downscaled.jpg' returned non-zero exit status 1\n",
      "Command 'identify -format %Wx%H /home/yuncong/CSHL_data_processed/MD589_lossless_aligned_cropped_downscaled/MD589_0200_lossless_aligned_cropped_downscaled.jpg' returned non-zero exit status 1\n",
      "Command 'identify -format %Wx%H /home/yuncong/CSHL_data_processed/MD589_lossless_aligned_cropped_downscaled/MD589_0200_lossless_aligned_cropped_downscaled.jpg' returned non-zero exit status 1\n",
      "Command 'identify -format %Wx%H /home/yuncong/CSHL_data_processed/MD589_lossless_aligned_cropped_downscaled/MD589_0201_lossless_aligned_cropped_downscaled.jpg' returned non-zero exit status 1"
     ]
    },
    {
     "name": "stderr",
     "output_type": "stream",
     "text": [
      "Cannot find image\n",
      "Cannot find image\n",
      "Cannot find image\n",
      "Cannot find image\n",
      "Cannot find image\n"
     ]
    },
    {
     "name": "stdout",
     "output_type": "stream",
     "text": [
      "\n",
      "Command 'identify -format %Wx%H /home/yuncong/CSHL_data_processed/MD589_lossless_aligned_cropped_downscaled/MD589_0201_lossless_aligned_cropped_downscaled.jpg' returned non-zero exit status 1\n",
      "Command 'identify -format %Wx%H /home/yuncong/CSHL_data_processed/MD589_lossless_aligned_cropped_downscaled/MD589_0202_lossless_aligned_cropped_downscaled.jpg' returned non-zero exit status 1\n",
      "Command 'identify -format %Wx%H /home/yuncong/CSHL_data_processed/MD589_lossless_aligned_cropped_downscaled/MD589_0202_lossless_aligned_cropped_downscaled.jpg' returned non-zero exit status 1\n",
      "Command 'identify -format %Wx%H /home/yuncong/CSHL_data_processed/MD589_lossless_aligned_cropped_downscaled/MD589_0202_lossless_aligned_cropped_downscaled.jpg' returned non-zero exit status 1"
     ]
    },
    {
     "name": "stderr",
     "output_type": "stream",
     "text": [
      "Cannot find image\n",
      "Cannot find image\n",
      "Cannot find image\n",
      "Cannot find image\n",
      "Cannot find image\n"
     ]
    },
    {
     "name": "stdout",
     "output_type": "stream",
     "text": [
      "\n",
      "Command 'identify -format %Wx%H /home/yuncong/CSHL_data_processed/MD589_lossless_aligned_cropped_downscaled/MD589_0203_lossless_aligned_cropped_downscaled.jpg' returned non-zero exit status 1\n",
      "Command 'identify -format %Wx%H /home/yuncong/CSHL_data_processed/MD589_lossless_aligned_cropped_downscaled/MD589_0203_lossless_aligned_cropped_downscaled.jpg' returned non-zero exit status 1\n",
      "Command 'identify -format %Wx%H /home/yuncong/CSHL_data_processed/MD589_lossless_aligned_cropped_downscaled/MD589_0203_lossless_aligned_cropped_downscaled.jpg' returned non-zero exit status 1\n",
      "Command 'identify -format %Wx%H /home/yuncong/CSHL_data_processed/MD589_lossless_aligned_cropped_downscaled/MD589_0204_lossless_aligned_cropped_downscaled.jpg' returned non-zero exit status 1\n",
      "Command 'identify -format %Wx%H /home/yuncong/CSHL_data_processed/MD589_lossless_aligned_cropped_downscaled/MD589_0204_lossless_aligned_cropped_downscaled.jpg' returned non-zero exit status 1"
     ]
    },
    {
     "name": "stderr",
     "output_type": "stream",
     "text": [
      "Cannot find image\n",
      "Cannot find image\n",
      "Cannot find image\n",
      "Cannot find image\n",
      "Cannot find image\n"
     ]
    },
    {
     "name": "stdout",
     "output_type": "stream",
     "text": [
      "\n",
      "Command 'identify -format %Wx%H /home/yuncong/CSHL_data_processed/MD589_lossless_aligned_cropped_downscaled/MD589_0204_lossless_aligned_cropped_downscaled.jpg' returned non-zero exit status 1\n",
      "Command 'identify -format %Wx%H /home/yuncong/CSHL_data_processed/MD589_lossless_aligned_cropped_downscaled/MD589_0205_lossless_aligned_cropped_downscaled.jpg' returned non-zero exit status 1\n",
      "Command 'identify -format %Wx%H /home/yuncong/CSHL_data_processed/MD589_lossless_aligned_cropped_downscaled/MD589_0205_lossless_aligned_cropped_downscaled.jpg' returned non-zero exit status 1\n",
      "Command 'identify -format %Wx%H /home/yuncong/CSHL_data_processed/MD589_lossless_aligned_cropped_downscaled/MD589_0206_lossless_aligned_cropped_downscaled.jpg' returned non-zero exit status 1"
     ]
    },
    {
     "name": "stderr",
     "output_type": "stream",
     "text": [
      "Cannot find image\n",
      "Cannot find image\n",
      "Cannot find image\n",
      "Cannot find image\n"
     ]
    },
    {
     "name": "stdout",
     "output_type": "stream",
     "text": [
      "\n",
      "Command 'identify -format %Wx%H /home/yuncong/CSHL_data_processed/MD589_lossless_aligned_cropped_downscaled/MD589_0206_lossless_aligned_cropped_downscaled.jpg' returned non-zero exit status 1\n",
      "Command 'identify -format %Wx%H /home/yuncong/CSHL_data_processed/MD589_lossless_aligned_cropped_downscaled/MD589_0206_lossless_aligned_cropped_downscaled.jpg' returned non-zero exit status 1\n",
      "Command 'identify -format %Wx%H /home/yuncong/CSHL_data_processed/MD589_lossless_aligned_cropped_downscaled/MD589_0207_lossless_aligned_cropped_downscaled.jpg' returned non-zero exit status 1\n",
      "Command 'identify -format %Wx%H /home/yuncong/CSHL_data_processed/MD589_lossless_aligned_cropped_downscaled/MD589_0207_lossless_aligned_cropped_downscaled.jpg' returned non-zero exit status 1"
     ]
    },
    {
     "name": "stderr",
     "output_type": "stream",
     "text": [
      "Cannot find image\n",
      "Cannot find image\n",
      "Cannot find image\n",
      "Cannot find image\n",
      "Cannot find image\n"
     ]
    },
    {
     "name": "stdout",
     "output_type": "stream",
     "text": [
      "\n",
      "Command 'identify -format %Wx%H /home/yuncong/CSHL_data_processed/MD589_lossless_aligned_cropped_downscaled/MD589_0207_lossless_aligned_cropped_downscaled.jpg' returned non-zero exit status 1\n",
      "Command 'identify -format %Wx%H /home/yuncong/CSHL_data_processed/MD589_lossless_aligned_cropped_downscaled/MD589_0208_lossless_aligned_cropped_downscaled.jpg' returned non-zero exit status 1\n",
      "Command 'identify -format %Wx%H /home/yuncong/CSHL_data_processed/MD589_lossless_aligned_cropped_downscaled/MD589_0208_lossless_aligned_cropped_downscaled.jpg' returned non-zero exit status 1\n",
      "Command 'identify -format %Wx%H /home/yuncong/CSHL_data_processed/MD589_lossless_aligned_cropped_downscaled/MD589_0209_lossless_aligned_cropped_downscaled.jpg' returned non-zero exit status 1"
     ]
    },
    {
     "name": "stderr",
     "output_type": "stream",
     "text": [
      "Cannot find image\n",
      "Cannot find image\n",
      "Cannot find image\n",
      "Cannot find image\n"
     ]
    },
    {
     "name": "stdout",
     "output_type": "stream",
     "text": [
      "\n",
      "Command 'identify -format %Wx%H /home/yuncong/CSHL_data_processed/MD589_lossless_aligned_cropped_downscaled/MD589_0209_lossless_aligned_cropped_downscaled.jpg' returned non-zero exit status 1\n",
      "Command 'identify -format %Wx%H /home/yuncong/CSHL_data_processed/MD589_lossless_aligned_cropped_downscaled/MD589_0209_lossless_aligned_cropped_downscaled.jpg' returned non-zero exit status 1\n",
      "Command 'identify -format %Wx%H /home/yuncong/CSHL_data_processed/MD589_lossless_aligned_cropped_downscaled/MD589_0210_lossless_aligned_cropped_downscaled.jpg' returned non-zero exit status 1\n",
      "Command 'identify -format %Wx%H /home/yuncong/CSHL_data_processed/MD589_lossless_aligned_cropped_downscaled/MD589_0210_lossless_aligned_cropped_downscaled.jpg' returned non-zero exit status 1\n",
      "Command 'identify -format %Wx%H /home/yuncong/CSHL_data_processed/MD589_lossless_aligned_cropped_downscaled/MD589_0210_lossless_aligned_cropped_downscaled.jpg' returned non-zero exit status 1\n",
      "Command 'identify -format %Wx%H /home/yuncong/CSHL_data_processed/MD589_lossless_aligned_cropped_downscaled/MD589_0211_lossless_aligned_cropped_downscaled.jpg' returned non-zero exit status 1"
     ]
    },
    {
     "name": "stderr",
     "output_type": "stream",
     "text": [
      "Cannot find image\n",
      "Cannot find image\n",
      "Cannot find image\n",
      "Cannot find image\n"
     ]
    },
    {
     "name": "stdout",
     "output_type": "stream",
     "text": [
      "\n",
      "Command 'identify -format %Wx%H /home/yuncong/CSHL_data_processed/MD589_lossless_aligned_cropped_downscaled/MD589_0211_lossless_aligned_cropped_downscaled.jpg' returned non-zero exit status 1\n",
      "Command 'identify -format %Wx%H /home/yuncong/CSHL_data_processed/MD589_lossless_aligned_cropped_downscaled/MD589_0211_lossless_aligned_cropped_downscaled.jpg' returned non-zero exit status 1\n",
      "Command 'identify -format %Wx%H /home/yuncong/CSHL_data_processed/MD589_lossless_aligned_cropped_downscaled/MD589_0212_lossless_aligned_cropped_downscaled.jpg' returned non-zero exit status 1\n",
      "Command 'identify -format %Wx%H /home/yuncong/CSHL_data_processed/MD589_lossless_aligned_cropped_downscaled/MD589_0212_lossless_aligned_cropped_downscaled.jpg' returned non-zero exit status 1"
     ]
    },
    {
     "name": "stderr",
     "output_type": "stream",
     "text": [
      "Cannot find image\n",
      "Cannot find image\n",
      "Cannot find image\n",
      "Cannot find image\n",
      "Cannot find image\n"
     ]
    },
    {
     "name": "stdout",
     "output_type": "stream",
     "text": [
      "\n",
      "Command 'identify -format %Wx%H /home/yuncong/CSHL_data_processed/MD589_lossless_aligned_cropped_downscaled/MD589_0213_lossless_aligned_cropped_downscaled.jpg' returned non-zero exit status 1\n",
      "Command 'identify -format %Wx%H /home/yuncong/CSHL_data_processed/MD589_lossless_aligned_cropped_downscaled/MD589_0213_lossless_aligned_cropped_downscaled.jpg' returned non-zero exit status 1\n",
      "Command 'identify -format %Wx%H /home/yuncong/CSHL_data_processed/MD589_lossless_aligned_cropped_downscaled/MD589_0213_lossless_aligned_cropped_downscaled.jpg' returned non-zero exit status 1\n",
      "Command 'identify -format %Wx%H /home/yuncong/CSHL_data_processed/MD589_lossless_aligned_cropped_downscaled/MD589_0214_lossless_aligned_cropped_downscaled.jpg' returned non-zero exit status 1"
     ]
    },
    {
     "name": "stderr",
     "output_type": "stream",
     "text": [
      "Cannot find image\n",
      "Cannot find image\n",
      "Cannot find image\n",
      "Cannot find image\n",
      "Cannot find image\n"
     ]
    },
    {
     "name": "stdout",
     "output_type": "stream",
     "text": [
      "\n",
      "Command 'identify -format %Wx%H /home/yuncong/CSHL_data_processed/MD589_lossless_aligned_cropped_downscaled/MD589_0214_lossless_aligned_cropped_downscaled.jpg' returned non-zero exit status 1\n",
      "Command 'identify -format %Wx%H /home/yuncong/CSHL_data_processed/MD589_lossless_aligned_cropped_downscaled/MD589_0214_lossless_aligned_cropped_downscaled.jpg' returned non-zero exit status 1\n",
      "Command 'identify -format %Wx%H /home/yuncong/CSHL_data_processed/MD589_lossless_aligned_cropped_downscaled/MD589_0215_lossless_aligned_cropped_downscaled.jpg' returned non-zero exit status 1\n",
      "Command 'identify -format %Wx%H /home/yuncong/CSHL_data_processed/MD589_lossless_aligned_cropped_downscaled/MD589_0215_lossless_aligned_cropped_downscaled.jpg' returned non-zero exit status 1\n",
      "Command 'identify -format %Wx%H /home/yuncong/CSHL_data_processed/MD589_lossless_aligned_cropped_downscaled/MD589_0216_lossless_aligned_cropped_downscaled.jpg' returned non-zero exit status 1\n",
      "Command 'identify -format %Wx%H /home/yuncong/CSHL_data_processed/MD589_lossless_aligned_cropped_downscaled/MD589_0216_lossless_aligned_cropped_downscaled.jpg' returned non-zero exit status 1"
     ]
    },
    {
     "name": "stderr",
     "output_type": "stream",
     "text": [
      "Cannot find image\n",
      "Cannot find image\n",
      "Cannot find image\n",
      "Cannot find image\n"
     ]
    },
    {
     "name": "stdout",
     "output_type": "stream",
     "text": [
      "\n",
      "Command 'identify -format %Wx%H /home/yuncong/CSHL_data_processed/MD589_lossless_aligned_cropped_downscaled/MD589_0216_lossless_aligned_cropped_downscaled.jpg' returned non-zero exit status 1\n",
      "Command 'identify -format %Wx%H /home/yuncong/CSHL_data_processed/MD589_lossless_aligned_cropped_downscaled/MD589_0217_lossless_aligned_cropped_downscaled.jpg' returned non-zero exit status 1\n",
      "Command 'identify -format %Wx%H /home/yuncong/CSHL_data_processed/MD589_lossless_aligned_cropped_downscaled/MD589_0217_lossless_aligned_cropped_downscaled.jpg' returned non-zero exit status 1\n",
      "Command 'identify -format %Wx%H /home/yuncong/CSHL_data_processed/MD589_lossless_aligned_cropped_downscaled/MD589_0217_lossless_aligned_cropped_downscaled.jpg' returned non-zero exit status 1"
     ]
    },
    {
     "name": "stderr",
     "output_type": "stream",
     "text": [
      "Cannot find image\n",
      "Cannot find image\n",
      "Cannot find image\n",
      "Cannot find image\n",
      "Cannot find image\n"
     ]
    },
    {
     "name": "stdout",
     "output_type": "stream",
     "text": [
      "\n",
      "Command 'identify -format %Wx%H /home/yuncong/CSHL_data_processed/MD589_lossless_aligned_cropped_downscaled/MD589_0218_lossless_aligned_cropped_downscaled.jpg' returned non-zero exit status 1\n",
      "Command 'identify -format %Wx%H /home/yuncong/CSHL_data_processed/MD589_lossless_aligned_cropped_downscaled/MD589_0218_lossless_aligned_cropped_downscaled.jpg' returned non-zero exit status 1\n",
      "Command 'identify -format %Wx%H /home/yuncong/CSHL_data_processed/MD589_lossless_aligned_cropped_downscaled/MD589_0218_lossless_aligned_cropped_downscaled.jpg' returned non-zero exit status 1\n",
      "Command 'identify -format %Wx%H /home/yuncong/CSHL_data_processed/MD589_lossless_aligned_cropped_downscaled/MD589_0219_lossless_aligned_cropped_downscaled.jpg' returned non-zero exit status 1\n",
      "Command 'identify -format %Wx%H /home/yuncong/CSHL_data_processed/MD589_lossless_aligned_cropped_downscaled/MD589_0219_lossless_aligned_cropped_downscaled.jpg' returned non-zero exit status 1"
     ]
    },
    {
     "name": "stderr",
     "output_type": "stream",
     "text": [
      "Cannot find image\n",
      "Cannot find image\n",
      "Cannot find image\n",
      "Cannot find image\n"
     ]
    },
    {
     "name": "stdout",
     "output_type": "stream",
     "text": [
      "\n",
      "Command 'identify -format %Wx%H /home/yuncong/CSHL_data_processed/MD589_lossless_aligned_cropped_downscaled/MD589_0220_lossless_aligned_cropped_downscaled.jpg' returned non-zero exit status 1\n",
      "Command 'identify -format %Wx%H /home/yuncong/CSHL_data_processed/MD589_lossless_aligned_cropped_downscaled/MD589_0220_lossless_aligned_cropped_downscaled.jpg' returned non-zero exit status 1\n",
      "Command 'identify -format %Wx%H /home/yuncong/CSHL_data_processed/MD589_lossless_aligned_cropped_downscaled/MD589_0220_lossless_aligned_cropped_downscaled.jpg' returned non-zero exit status 1\n",
      "Command 'identify -format %Wx%H /home/yuncong/CSHL_data_processed/MD589_lossless_aligned_cropped_downscaled/MD589_0221_lossless_aligned_cropped_downscaled.jpg' returned non-zero exit status 1"
     ]
    },
    {
     "name": "stderr",
     "output_type": "stream",
     "text": [
      "Cannot find image\n",
      "Cannot find image\n",
      "Cannot find image\n",
      "Cannot find image\n",
      "Cannot find image\n",
      "Cannot find image\n"
     ]
    },
    {
     "name": "stdout",
     "output_type": "stream",
     "text": [
      "\n",
      "Command 'identify -format %Wx%H /home/yuncong/CSHL_data_processed/MD589_lossless_aligned_cropped_downscaled/MD589_0221_lossless_aligned_cropped_downscaled.jpg' returned non-zero exit status 1\n",
      "Command 'identify -format %Wx%H /home/yuncong/CSHL_data_processed/MD589_lossless_aligned_cropped_downscaled/MD589_0221_lossless_aligned_cropped_downscaled.jpg' returned non-zero exit status 1\n",
      "Command 'identify -format %Wx%H /home/yuncong/CSHL_data_processed/MD589_lossless_aligned_cropped_downscaled/MD589_0222_lossless_aligned_cropped_downscaled.jpg' returned non-zero exit status 1\n",
      "Command 'identify -format %Wx%H /home/yuncong/CSHL_data_processed/MD589_lossless_aligned_cropped_downscaled/MD589_0222_lossless_aligned_cropped_downscaled.jpg' returned non-zero exit status 1"
     ]
    },
    {
     "name": "stderr",
     "output_type": "stream",
     "text": [
      "Cannot find image\n",
      "Cannot find image\n",
      "Cannot find image\n",
      "Cannot find image\n"
     ]
    },
    {
     "name": "stdout",
     "output_type": "stream",
     "text": [
      "\n",
      "Command 'identify -format %Wx%H /home/yuncong/CSHL_data_processed/MD589_lossless_aligned_cropped_downscaled/MD589_0223_lossless_aligned_cropped_downscaled.jpg' returned non-zero exit status 1\n",
      "Command 'identify -format %Wx%H /home/yuncong/CSHL_data_processed/MD589_lossless_aligned_cropped_downscaled/MD589_0223_lossless_aligned_cropped_downscaled.jpg' returned non-zero exit status 1\n",
      "Command 'identify -format %Wx%H /home/yuncong/CSHL_data_processed/MD589_lossless_aligned_cropped_downscaled/MD589_0223_lossless_aligned_cropped_downscaled.jpg' returned non-zero exit status 1\n",
      "Command 'identify -format %Wx%H /home/yuncong/CSHL_data_processed/MD589_lossless_aligned_cropped_downscaled/MD589_0224_lossless_aligned_cropped_downscaled.jpg' returned non-zero exit status 1\n",
      "Command 'identify -format %Wx%H /home/yuncong/CSHL_data_processed/MD589_lossless_aligned_cropped_downscaled/MD589_0224_lossless_aligned_cropped_downscaled.jpg' returned non-zero exit status 1\n",
      "Command 'identify -format %Wx%H /home/yuncong/CSHL_data_processed/MD589_lossless_aligned_cropped_downscaled/MD589_0224_lossless_aligned_cropped_downscaled.jpg' returned non-zero exit status 1\n",
      "Command 'identify -format %Wx%H /home/yuncong/CSHL_data_processed/MD589_lossless_aligned_cropped_downscaled/MD589_0225_lossless_aligned_cropped_downscaled.jpg' returned non-zero exit status 1\n",
      "Command 'identify -format %Wx%H /home/yuncong/CSHL_data_processed/MD589_lossless_aligned_cropped_downscaled/MD589_0225_lossless_aligned_cropped_downscaled.jpg' returned non-zero exit status 1"
     ]
    },
    {
     "name": "stderr",
     "output_type": "stream",
     "text": [
      "Cannot find image\n",
      "Cannot find image\n",
      "Cannot find image\n",
      "Cannot find image\n",
      "Cannot find image\n",
      "Cannot find image\n"
     ]
    },
    {
     "name": "stdout",
     "output_type": "stream",
     "text": [
      "\n",
      "Command 'identify -format %Wx%H /home/yuncong/CSHL_data_processed/MD589_lossless_aligned_cropped_downscaled/MD589_0225_lossless_aligned_cropped_downscaled.jpg' returned non-zero exit status 1\n",
      "Command 'identify -format %Wx%H /home/yuncong/CSHL_data_processed/MD589_lossless_aligned_cropped_downscaled/MD589_0226_lossless_aligned_cropped_downscaled.jpg' returned non-zero exit status 1\n",
      "Command 'identify -format %Wx%H /home/yuncong/CSHL_data_processed/MD589_lossless_aligned_cropped_downscaled/MD589_0226_lossless_aligned_cropped_downscaled.jpg' returned non-zero exit status 1\n",
      "Command 'identify -format %Wx%H /home/yuncong/CSHL_data_processed/MD589_lossless_aligned_cropped_downscaled/MD589_0227_lossless_aligned_cropped_downscaled.jpg' returned non-zero exit status 1\n",
      "Command 'identify -format %Wx%H /home/yuncong/CSHL_data_processed/MD589_lossless_aligned_cropped_downscaled/MD589_0227_lossless_aligned_cropped_downscaled.jpg' returned non-zero exit status 1"
     ]
    },
    {
     "name": "stderr",
     "output_type": "stream",
     "text": [
      "Cannot find image\n",
      "Cannot find image\n",
      "Cannot find image\n",
      "Cannot find image\n",
      "Cannot find image\n",
      "Cannot find image\n"
     ]
    },
    {
     "name": "stdout",
     "output_type": "stream",
     "text": [
      "\n",
      "Command 'identify -format %Wx%H /home/yuncong/CSHL_data_processed/MD589_lossless_aligned_cropped_downscaled/MD589_0227_lossless_aligned_cropped_downscaled.jpg' returned non-zero exit status 1\n",
      "Command 'identify -format %Wx%H /home/yuncong/CSHL_data_processed/MD589_lossless_aligned_cropped_downscaled/MD589_0228_lossless_aligned_cropped_downscaled.jpg' returned non-zero exit status 1\n",
      "Command 'identify -format %Wx%H /home/yuncong/CSHL_data_processed/MD589_lossless_aligned_cropped_downscaled/MD589_0228_lossless_aligned_cropped_downscaled.jpg' returned non-zero exit status 1\n",
      "Command 'identify -format %Wx%H /home/yuncong/CSHL_data_processed/MD589_lossless_aligned_cropped_downscaled/MD589_0228_lossless_aligned_cropped_downscaled.jpg' returned non-zero exit status 1"
     ]
    },
    {
     "name": "stderr",
     "output_type": "stream",
     "text": [
      "Cannot find image\n",
      "Cannot find image\n",
      "Cannot find image\n",
      "Cannot find image\n",
      "Cannot find image\n"
     ]
    },
    {
     "name": "stdout",
     "output_type": "stream",
     "text": [
      "\n",
      "Command 'identify -format %Wx%H /home/yuncong/CSHL_data_processed/MD589_lossless_aligned_cropped_downscaled/MD589_0229_lossless_aligned_cropped_downscaled.jpg' returned non-zero exit status 1\n",
      "Command 'identify -format %Wx%H /home/yuncong/CSHL_data_processed/MD589_lossless_aligned_cropped_downscaled/MD589_0229_lossless_aligned_cropped_downscaled.jpg' returned non-zero exit status 1\n",
      "Command 'identify -format %Wx%H /home/yuncong/CSHL_data_processed/MD589_lossless_aligned_cropped_downscaled/MD589_0229_lossless_aligned_cropped_downscaled.jpg' returned non-zero exit status 1\n",
      "Command 'identify -format %Wx%H /home/yuncong/CSHL_data_processed/MD589_lossless_aligned_cropped_downscaled/MD589_0230_lossless_aligned_cropped_downscaled.jpg' returned non-zero exit status 1\n",
      "Command 'identify -format %Wx%H /home/yuncong/CSHL_data_processed/MD589_lossless_aligned_cropped_downscaled/MD589_0230_lossless_aligned_cropped_downscaled.jpg' returned non-zero exit status 1"
     ]
    },
    {
     "name": "stderr",
     "output_type": "stream",
     "text": [
      "Cannot find image\n",
      "Cannot find image\n",
      "Cannot find image\n",
      "Cannot find image\n",
      "Cannot find image\n",
      "Cannot find image\n"
     ]
    },
    {
     "name": "stdout",
     "output_type": "stream",
     "text": [
      "\n",
      "Command 'identify -format %Wx%H /home/yuncong/CSHL_data_processed/MD589_lossless_aligned_cropped_downscaled/MD589_0231_lossless_aligned_cropped_downscaled.jpg' returned non-zero exit status 1\n",
      "Command 'identify -format %Wx%H /home/yuncong/CSHL_data_processed/MD589_lossless_aligned_cropped_downscaled/MD589_0231_lossless_aligned_cropped_downscaled.jpg' returned non-zero exit status 1\n",
      "Command 'identify -format %Wx%H /home/yuncong/CSHL_data_processed/MD589_lossless_aligned_cropped_downscaled/MD589_0231_lossless_aligned_cropped_downscaled.jpg' returned non-zero exit status 1\n",
      "Command 'identify -format %Wx%H /home/yuncong/CSHL_data_processed/MD589_lossless_aligned_cropped_downscaled/MD589_0232_lossless_aligned_cropped_downscaled.jpg' returned non-zero exit status 1\n",
      "Command 'identify -format %Wx%H /home/yuncong/CSHL_data_processed/MD589_lossless_aligned_cropped_downscaled/MD589_0232_lossless_aligned_cropped_downscaled.jpg' returned non-zero exit status 1\n",
      "Command 'identify -format %Wx%H /home/yuncong/CSHL_data_processed/MD589_lossless_aligned_cropped_downscaled/MD589_0232_lossless_aligned_cropped_downscaled.jpg' returned non-zero exit status 1\n",
      "Command 'identify -format %Wx%H /home/yuncong/CSHL_data_processed/MD589_lossless_aligned_cropped_downscaled/MD589_0233_lossless_aligned_cropped_downscaled.jpg' returned non-zero exit status 1\n",
      "Command 'identify -format %Wx%H /home/yuncong/CSHL_data_processed/MD589_lossless_aligned_cropped_downscaled/MD589_0233_lossless_aligned_cropped_downscaled.jpg' returned non-zero exit status 1"
     ]
    },
    {
     "name": "stderr",
     "output_type": "stream",
     "text": [
      "Cannot find image\n",
      "Cannot find image\n",
      "Cannot find image\n",
      "Cannot find image\n",
      "Cannot find image\n"
     ]
    },
    {
     "name": "stdout",
     "output_type": "stream",
     "text": [
      "\n",
      "Command 'identify -format %Wx%H /home/yuncong/CSHL_data_processed/MD589_lossless_aligned_cropped_downscaled/MD589_0234_lossless_aligned_cropped_downscaled.jpg' returned non-zero exit status 1\n",
      "Command 'identify -format %Wx%H /home/yuncong/CSHL_data_processed/MD589_lossless_aligned_cropped_downscaled/MD589_0234_lossless_aligned_cropped_downscaled.jpg' returned non-zero exit status 1\n",
      "Command 'identify -format %Wx%H /home/yuncong/CSHL_data_processed/MD589_lossless_aligned_cropped_downscaled/MD589_0234_lossless_aligned_cropped_downscaled.jpg' returned non-zero exit status 1\n",
      "Command 'identify -format %Wx%H /home/yuncong/CSHL_data_processed/MD589_lossless_aligned_cropped_downscaled/MD589_0235_lossless_aligned_cropped_downscaled.jpg' returned non-zero exit status 1\n",
      "Command 'identify -format %Wx%H /home/yuncong/CSHL_data_processed/MD589_lossless_aligned_cropped_downscaled/MD589_0235_lossless_aligned_cropped_downscaled.jpg' returned non-zero exit status 1"
     ]
    },
    {
     "name": "stderr",
     "output_type": "stream",
     "text": [
      "Cannot find image\n",
      "Cannot find image\n",
      "Cannot find image\n",
      "Cannot find image\n",
      "Cannot find image\n"
     ]
    },
    {
     "name": "stdout",
     "output_type": "stream",
     "text": [
      "\n",
      "Command 'identify -format %Wx%H /home/yuncong/CSHL_data_processed/MD589_lossless_aligned_cropped_downscaled/MD589_0235_lossless_aligned_cropped_downscaled.jpg' returned non-zero exit status 1\n",
      "Command 'identify -format %Wx%H /home/yuncong/CSHL_data_processed/MD589_lossless_aligned_cropped_downscaled/MD589_0236_lossless_aligned_cropped_downscaled.jpg' returned non-zero exit status 1\n",
      "Command 'identify -format %Wx%H /home/yuncong/CSHL_data_processed/MD589_lossless_aligned_cropped_downscaled/MD589_0236_lossless_aligned_cropped_downscaled.jpg' returned non-zero exit status 1\n",
      "Command 'identify -format %Wx%H /home/yuncong/CSHL_data_processed/MD589_lossless_aligned_cropped_downscaled/MD589_0236_lossless_aligned_cropped_downscaled.jpg' returned non-zero exit status 1"
     ]
    },
    {
     "name": "stderr",
     "output_type": "stream",
     "text": [
      "Cannot find image\n",
      "Cannot find image\n",
      "Cannot find image\n",
      "Cannot find image\n",
      "Cannot find image\n"
     ]
    },
    {
     "name": "stdout",
     "output_type": "stream",
     "text": [
      "\n",
      "Command 'identify -format %Wx%H /home/yuncong/CSHL_data_processed/MD589_lossless_aligned_cropped_downscaled/MD589_0237_lossless_aligned_cropped_downscaled.jpg' returned non-zero exit status 1\n",
      "Command 'identify -format %Wx%H /home/yuncong/CSHL_data_processed/MD589_lossless_aligned_cropped_downscaled/MD589_0237_lossless_aligned_cropped_downscaled.jpg' returned non-zero exit status 1\n",
      "Command 'identify -format %Wx%H /home/yuncong/CSHL_data_processed/MD589_lossless_aligned_cropped_downscaled/MD589_0238_lossless_aligned_cropped_downscaled.jpg' returned non-zero exit status 1"
     ]
    },
    {
     "name": "stderr",
     "output_type": "stream",
     "text": [
      "Cannot find image\n",
      "Cannot find image\n",
      "Cannot find image\n",
      "Cannot find image\n",
      "Cannot find image\n"
     ]
    },
    {
     "name": "stdout",
     "output_type": "stream",
     "text": [
      "\n",
      "Command 'identify -format %Wx%H /home/yuncong/CSHL_data_processed/MD589_lossless_aligned_cropped_downscaled/MD589_0238_lossless_aligned_cropped_downscaled.jpg' returned non-zero exit status 1\n",
      "Command 'identify -format %Wx%H /home/yuncong/CSHL_data_processed/MD589_lossless_aligned_cropped_downscaled/MD589_0238_lossless_aligned_cropped_downscaled.jpg' returned non-zero exit status 1\n",
      "Command 'identify -format %Wx%H /home/yuncong/CSHL_data_processed/MD589_lossless_aligned_cropped_downscaled/MD589_0239_lossless_aligned_cropped_downscaled.jpg' returned non-zero exit status 1\n",
      "Command 'identify -format %Wx%H /home/yuncong/CSHL_data_processed/MD589_lossless_aligned_cropped_downscaled/MD589_0239_lossless_aligned_cropped_downscaled.jpg' returned non-zero exit status 1\n",
      "Command 'identify -format %Wx%H /home/yuncong/CSHL_data_processed/MD589_lossless_aligned_cropped_downscaled/MD589_0239_lossless_aligned_cropped_downscaled.jpg' returned non-zero exit status 1\n",
      "Command 'identify -format %Wx%H /home/yuncong/CSHL_data_processed/MD589_lossless_aligned_cropped_downscaled/MD589_0240_lossless_aligned_cropped_downscaled.jpg' returned non-zero exit status 1\n",
      "Command 'identify -format %Wx%H /home/yuncong/CSHL_data_processed/MD589_lossless_aligned_cropped_downscaled/MD589_0240_lossless_aligned_cropped_downscaled.jpg' returned non-zero exit status 1"
     ]
    },
    {
     "name": "stderr",
     "output_type": "stream",
     "text": [
      "Cannot find image\n",
      "Cannot find image\n",
      "Cannot find image\n",
      "Cannot find image\n"
     ]
    },
    {
     "name": "stdout",
     "output_type": "stream",
     "text": [
      "\n",
      "Command 'identify -format %Wx%H /home/yuncong/CSHL_data_processed/MD589_lossless_aligned_cropped_downscaled/MD589_0241_lossless_aligned_cropped_downscaled.jpg' returned non-zero exit status 1\n",
      "Command 'identify -format %Wx%H /home/yuncong/CSHL_data_processed/MD589_lossless_aligned_cropped_downscaled/MD589_0241_lossless_aligned_cropped_downscaled.jpg' returned non-zero exit status 1\n",
      "Command 'identify -format %Wx%H /home/yuncong/CSHL_data_processed/MD589_lossless_aligned_cropped_downscaled/MD589_0241_lossless_aligned_cropped_downscaled.jpg' returned non-zero exit status 1\n",
      "Command 'identify -format %Wx%H /home/yuncong/CSHL_data_processed/MD589_lossless_aligned_cropped_downscaled/MD589_0242_lossless_aligned_cropped_downscaled.jpg' returned non-zero exit status 1"
     ]
    },
    {
     "name": "stderr",
     "output_type": "stream",
     "text": [
      "Cannot find image\n",
      "Cannot find image\n",
      "Cannot find image\n",
      "Cannot find image\n",
      "Cannot find image\n"
     ]
    },
    {
     "name": "stdout",
     "output_type": "stream",
     "text": [
      "\n",
      "Command 'identify -format %Wx%H /home/yuncong/CSHL_data_processed/MD589_lossless_aligned_cropped_downscaled/MD589_0242_lossless_aligned_cropped_downscaled.jpg' returned non-zero exit status 1\n",
      "Command 'identify -format %Wx%H /home/yuncong/CSHL_data_processed/MD589_lossless_aligned_cropped_downscaled/MD589_0242_lossless_aligned_cropped_downscaled.jpg' returned non-zero exit status 1\n",
      "Command 'identify -format %Wx%H /home/yuncong/CSHL_data_processed/MD589_lossless_aligned_cropped_downscaled/MD589_0243_lossless_aligned_cropped_downscaled.jpg' returned non-zero exit status 1\n",
      "Command 'identify -format %Wx%H /home/yuncong/CSHL_data_processed/MD589_lossless_aligned_cropped_downscaled/MD589_0243_lossless_aligned_cropped_downscaled.jpg' returned non-zero exit status 1"
     ]
    },
    {
     "name": "stderr",
     "output_type": "stream",
     "text": [
      "Cannot find image\n",
      "Cannot find image\n",
      "Cannot find image\n",
      "Cannot find image\n",
      "Cannot find image\n",
      "Cannot find image\n"
     ]
    },
    {
     "name": "stdout",
     "output_type": "stream",
     "text": [
      "\n",
      "Command 'identify -format %Wx%H /home/yuncong/CSHL_data_processed/MD589_lossless_aligned_cropped_downscaled/MD589_0243_lossless_aligned_cropped_downscaled.jpg' returned non-zero exit status 1\n",
      "Command 'identify -format %Wx%H /home/yuncong/CSHL_data_processed/MD589_lossless_aligned_cropped_downscaled/MD589_0244_lossless_aligned_cropped_downscaled.jpg' returned non-zero exit status 1\n",
      "Command 'identify -format %Wx%H /home/yuncong/CSHL_data_processed/MD589_lossless_aligned_cropped_downscaled/MD589_0244_lossless_aligned_cropped_downscaled.jpg' returned non-zero exit status 1\n",
      "Command 'identify -format %Wx%H /home/yuncong/CSHL_data_processed/MD589_lossless_aligned_cropped_downscaled/MD589_0245_lossless_aligned_cropped_downscaled.jpg' returned non-zero exit status 1\n",
      "Command 'identify -format %Wx%H /home/yuncong/CSHL_data_processed/MD589_lossless_aligned_cropped_downscaled/MD589_0245_lossless_aligned_cropped_downscaled.jpg' returned non-zero exit status 1"
     ]
    },
    {
     "name": "stderr",
     "output_type": "stream",
     "text": [
      "Cannot find image\n",
      "Cannot find image\n",
      "Cannot find image\n",
      "Cannot find image\n",
      "Cannot find image\n",
      "Cannot find image\n"
     ]
    },
    {
     "name": "stdout",
     "output_type": "stream",
     "text": [
      "\n",
      "Command 'identify -format %Wx%H /home/yuncong/CSHL_data_processed/MD589_lossless_aligned_cropped_downscaled/MD589_0245_lossless_aligned_cropped_downscaled.jpg' returned non-zero exit status 1\n",
      "Command 'identify -format %Wx%H /home/yuncong/CSHL_data_processed/MD589_lossless_aligned_cropped_downscaled/MD589_0246_lossless_aligned_cropped_downscaled.jpg' returned non-zero exit status 1\n",
      "Command 'identify -format %Wx%H /home/yuncong/CSHL_data_processed/MD589_lossless_aligned_cropped_downscaled/MD589_0246_lossless_aligned_cropped_downscaled.jpg' returned non-zero exit status 1\n",
      "Command 'identify -format %Wx%H /home/yuncong/CSHL_data_processed/MD589_lossless_aligned_cropped_downscaled/MD589_0246_lossless_aligned_cropped_downscaled.jpg' returned non-zero exit status 1\n",
      "Command 'identify -format %Wx%H /home/yuncong/CSHL_data_processed/MD589_lossless_aligned_cropped_downscaled/MD589_0247_lossless_aligned_cropped_downscaled.jpg' returned non-zero exit status 1\n",
      "Command 'identify -format %Wx%H /home/yuncong/CSHL_data_processed/MD589_lossless_aligned_cropped_downscaled/MD589_0247_lossless_aligned_cropped_downscaled.jpg' returned non-zero exit status 1\n",
      "Command 'identify -format %Wx%H /home/yuncong/CSHL_data_processed/MD589_lossless_aligned_cropped_downscaled/MD589_0248_lossless_aligned_cropped_downscaled.jpg' returned non-zero exit status 1\n",
      "Command 'identify -format %Wx%H /home/yuncong/CSHL_data_processed/MD589_lossless_aligned_cropped_downscaled/MD589_0248_lossless_aligned_cropped_downscaled.jpg' returned non-zero exit status 1"
     ]
    },
    {
     "name": "stderr",
     "output_type": "stream",
     "text": [
      "Cannot find image\n",
      "Cannot find image\n",
      "Cannot find image\n",
      "Cannot find image\n"
     ]
    },
    {
     "name": "stdout",
     "output_type": "stream",
     "text": [
      "\n",
      "Command 'identify -format %Wx%H /home/yuncong/CSHL_data_processed/MD589_lossless_aligned_cropped_downscaled/MD589_0248_lossless_aligned_cropped_downscaled.jpg' returned non-zero exit status 1\n",
      "Command 'identify -format %Wx%H /home/yuncong/CSHL_data_processed/MD589_lossless_aligned_cropped_downscaled/MD589_0249_lossless_aligned_cropped_downscaled.jpg' returned non-zero exit status 1\n",
      "Command 'identify -format %Wx%H /home/yuncong/CSHL_data_processed/MD589_lossless_aligned_cropped_downscaled/MD589_0249_lossless_aligned_cropped_downscaled.jpg' returned non-zero exit status 1"
     ]
    },
    {
     "name": "stderr",
     "output_type": "stream",
     "text": [
      "Cannot find image\n",
      "Cannot find image\n",
      "Cannot find image\n",
      "Cannot find image\n",
      "Cannot find image\n"
     ]
    },
    {
     "name": "stdout",
     "output_type": "stream",
     "text": [
      "\n",
      "Command 'identify -format %Wx%H /home/yuncong/CSHL_data_processed/MD589_lossless_aligned_cropped_downscaled/MD589_0249_lossless_aligned_cropped_downscaled.jpg' returned non-zero exit status 1\n",
      "Command 'identify -format %Wx%H /home/yuncong/CSHL_data_processed/MD589_lossless_aligned_cropped_downscaled/MD589_0250_lossless_aligned_cropped_downscaled.jpg' returned non-zero exit status 1\n",
      "Command 'identify -format %Wx%H /home/yuncong/CSHL_data_processed/MD589_lossless_aligned_cropped_downscaled/MD589_0250_lossless_aligned_cropped_downscaled.jpg' returned non-zero exit status 1\n",
      "Command 'identify -format %Wx%H /home/yuncong/CSHL_data_processed/MD589_lossless_aligned_cropped_downscaled/MD589_0250_lossless_aligned_cropped_downscaled.jpg' returned non-zero exit status 1"
     ]
    },
    {
     "name": "stderr",
     "output_type": "stream",
     "text": [
      "Cannot find image\n",
      "Cannot find image\n",
      "Cannot find image\n",
      "Cannot find image\n",
      "Cannot find image\n"
     ]
    },
    {
     "name": "stdout",
     "output_type": "stream",
     "text": [
      "\n",
      "Command 'identify -format %Wx%H /home/yuncong/CSHL_data_processed/MD589_lossless_aligned_cropped_downscaled/MD589_0251_lossless_aligned_cropped_downscaled.jpg' returned non-zero exit status 1\n",
      "Command 'identify -format %Wx%H /home/yuncong/CSHL_data_processed/MD589_lossless_aligned_cropped_downscaled/MD589_0251_lossless_aligned_cropped_downscaled.jpg' returned non-zero exit status 1\n",
      "Command 'identify -format %Wx%H /home/yuncong/CSHL_data_processed/MD589_lossless_aligned_cropped_downscaled/MD589_0252_lossless_aligned_cropped_downscaled.jpg' returned non-zero exit status 1\n",
      "Command 'identify -format %Wx%H /home/yuncong/CSHL_data_processed/MD589_lossless_aligned_cropped_downscaled/MD589_0252_lossless_aligned_cropped_downscaled.jpg' returned non-zero exit status 1\n",
      "Command 'identify -format %Wx%H /home/yuncong/CSHL_data_processed/MD589_lossless_aligned_cropped_downscaled/MD589_0252_lossless_aligned_cropped_downscaled.jpg' returned non-zero exit status 1\n",
      "Command 'identify -format %Wx%H /home/yuncong/CSHL_data_processed/MD589_lossless_aligned_cropped_downscaled/MD589_0253_lossless_aligned_cropped_downscaled.jpg' returned non-zero exit status 1\n",
      "Command 'identify -format %Wx%H /home/yuncong/CSHL_data_processed/MD589_lossless_aligned_cropped_downscaled/MD589_0253_lossless_aligned_cropped_downscaled.jpg' returned non-zero exit status 1\n",
      "Command 'identify -format %Wx%H /home/yuncong/CSHL_data_processed/MD589_lossless_aligned_cropped_downscaled/MD589_0253_lossless_aligned_cropped_downscaled.jpg' returned non-zero exit status 1"
     ]
    },
    {
     "name": "stderr",
     "output_type": "stream",
     "text": [
      "Cannot find image\n",
      "Cannot find image\n",
      "Cannot find image\n",
      "Cannot find image\n",
      "Cannot find image\n"
     ]
    },
    {
     "name": "stdout",
     "output_type": "stream",
     "text": [
      "\n",
      "Command 'identify -format %Wx%H /home/yuncong/CSHL_data_processed/MD589_lossless_aligned_cropped_downscaled/MD589_0254_lossless_aligned_cropped_downscaled.jpg' returned non-zero exit status 1\n",
      "Command 'identify -format %Wx%H /home/yuncong/CSHL_data_processed/MD589_lossless_aligned_cropped_downscaled/MD589_0254_lossless_aligned_cropped_downscaled.jpg' returned non-zero exit status 1\n",
      "Command 'identify -format %Wx%H /home/yuncong/CSHL_data_processed/MD589_lossless_aligned_cropped_downscaled/MD589_0255_lossless_aligned_cropped_downscaled.jpg' returned non-zero exit status 1\n",
      "Command 'identify -format %Wx%H /home/yuncong/CSHL_data_processed/MD589_lossless_aligned_cropped_downscaled/MD589_0255_lossless_aligned_cropped_downscaled.jpg' returned non-zero exit status 1"
     ]
    },
    {
     "name": "stderr",
     "output_type": "stream",
     "text": [
      "Cannot find image\n",
      "Cannot find image\n",
      "Cannot find image\n",
      "Cannot find image\n",
      "Cannot find image\n"
     ]
    },
    {
     "name": "stdout",
     "output_type": "stream",
     "text": [
      "\n",
      "Command 'identify -format %Wx%H /home/yuncong/CSHL_data_processed/MD589_lossless_aligned_cropped_downscaled/MD589_0255_lossless_aligned_cropped_downscaled.jpg' returned non-zero exit status 1\n",
      "Command 'identify -format %Wx%H /home/yuncong/CSHL_data_processed/MD589_lossless_aligned_cropped_downscaled/MD589_0256_lossless_aligned_cropped_downscaled.jpg' returned non-zero exit status 1\n",
      "Command 'identify -format %Wx%H /home/yuncong/CSHL_data_processed/MD589_lossless_aligned_cropped_downscaled/MD589_0256_lossless_aligned_cropped_downscaled.jpg' returned non-zero exit status 1\n",
      "Command 'identify -format %Wx%H /home/yuncong/CSHL_data_processed/MD589_lossless_aligned_cropped_downscaled/MD589_0256_lossless_aligned_cropped_downscaled.jpg' returned non-zero exit status 1"
     ]
    },
    {
     "name": "stderr",
     "output_type": "stream",
     "text": [
      "Cannot find image\n",
      "Cannot find image\n",
      "Cannot find image\n",
      "Cannot find image\n"
     ]
    },
    {
     "name": "stdout",
     "output_type": "stream",
     "text": [
      "\n",
      "Command 'identify -format %Wx%H /home/yuncong/CSHL_data_processed/MD589_lossless_aligned_cropped_downscaled/MD589_0257_lossless_aligned_cropped_downscaled.jpg' returned non-zero exit status 1\n",
      "Command 'identify -format %Wx%H /home/yuncong/CSHL_data_processed/MD589_lossless_aligned_cropped_downscaled/MD589_0257_lossless_aligned_cropped_downscaled.jpg' returned non-zero exit status 1\n",
      "Command 'identify -format %Wx%H /home/yuncong/CSHL_data_processed/MD589_lossless_aligned_cropped_downscaled/MD589_0257_lossless_aligned_cropped_downscaled.jpg' returned non-zero exit status 1"
     ]
    },
    {
     "name": "stderr",
     "output_type": "stream",
     "text": [
      "Cannot find image\n",
      "Cannot find image\n",
      "Cannot find image\n",
      "Cannot find image\n",
      "Cannot find image\n"
     ]
    },
    {
     "name": "stdout",
     "output_type": "stream",
     "text": [
      "\n",
      "Command 'identify -format %Wx%H /home/yuncong/CSHL_data_processed/MD589_lossless_aligned_cropped_downscaled/MD589_0258_lossless_aligned_cropped_downscaled.jpg' returned non-zero exit status 1\n",
      "Command 'identify -format %Wx%H /home/yuncong/CSHL_data_processed/MD589_lossless_aligned_cropped_downscaled/MD589_0258_lossless_aligned_cropped_downscaled.jpg' returned non-zero exit status 1\n",
      "Command 'identify -format %Wx%H /home/yuncong/CSHL_data_processed/MD589_lossless_aligned_cropped_downscaled/MD589_0259_lossless_aligned_cropped_downscaled.jpg' returned non-zero exit status 1\n",
      "Command 'identify -format %Wx%H /home/yuncong/CSHL_data_processed/MD589_lossless_aligned_cropped_downscaled/MD589_0259_lossless_aligned_cropped_downscaled.jpg' returned non-zero exit status 1\n",
      "Command 'identify -format %Wx%H /home/yuncong/CSHL_data_processed/MD589_lossless_aligned_cropped_downscaled/MD589_0259_lossless_aligned_cropped_downscaled.jpg' returned non-zero exit status 1\n",
      "Command 'identify -format %Wx%H /home/yuncong/CSHL_data_processed/MD589_lossless_aligned_cropped_downscaled/MD589_0260_lossless_aligned_cropped_downscaled.jpg' returned non-zero exit status 1\n",
      "Command 'identify -format %Wx%H /home/yuncong/CSHL_data_processed/MD589_lossless_aligned_cropped_downscaled/MD589_0260_lossless_aligned_cropped_downscaled.jpg' returned non-zero exit status 1\n",
      "Command 'identify -format %Wx%H /home/yuncong/CSHL_data_processed/MD589_lossless_aligned_cropped_downscaled/MD589_0260_lossless_aligned_cropped_downscaled.jpg' returned non-zero exit status 1\n",
      "Command 'identify -format %Wx%H /home/yuncong/CSHL_data_processed/MD589_lossless_aligned_cropped_downscaled/MD589_0261_lossless_aligned_cropped_downscaled.jpg' returned non-zero exit status 1"
     ]
    },
    {
     "name": "stderr",
     "output_type": "stream",
     "text": [
      "Cannot find image\n",
      "Cannot find image\n",
      "Cannot find image\n",
      "Cannot find image\n",
      "Cannot find image\n",
      "Cannot find image\n"
     ]
    },
    {
     "name": "stdout",
     "output_type": "stream",
     "text": [
      "\n",
      "Command 'identify -format %Wx%H /home/yuncong/CSHL_data_processed/MD589_lossless_aligned_cropped_downscaled/MD589_0261_lossless_aligned_cropped_downscaled.jpg' returned non-zero exit status 1\n",
      "Command 'identify -format %Wx%H /home/yuncong/CSHL_data_processed/MD589_lossless_aligned_cropped_downscaled/MD589_0262_lossless_aligned_cropped_downscaled.jpg' returned non-zero exit status 1\n",
      "Command 'identify -format %Wx%H /home/yuncong/CSHL_data_processed/MD589_lossless_aligned_cropped_downscaled/MD589_0262_lossless_aligned_cropped_downscaled.jpg' returned non-zero exit status 1\n",
      "Command 'identify -format %Wx%H /home/yuncong/CSHL_data_processed/MD589_lossless_aligned_cropped_downscaled/MD589_0262_lossless_aligned_cropped_downscaled.jpg' returned non-zero exit status 1\n",
      "Command 'identify -format %Wx%H /home/yuncong/CSHL_data_processed/MD589_lossless_aligned_cropped_downscaled/MD589_0263_lossless_aligned_cropped_downscaled.jpg' returned non-zero exit status 1"
     ]
    },
    {
     "name": "stderr",
     "output_type": "stream",
     "text": [
      "Cannot find image\n",
      "Cannot find image\n",
      "Cannot find image\n",
      "Cannot find image\n",
      "Cannot find image\n",
      "Cannot find image\n"
     ]
    },
    {
     "name": "stdout",
     "output_type": "stream",
     "text": [
      "\n",
      "Command 'identify -format %Wx%H /home/yuncong/CSHL_data_processed/MD589_lossless_aligned_cropped_downscaled/MD589_0263_lossless_aligned_cropped_downscaled.jpg' returned non-zero exit status 1\n",
      "Command 'identify -format %Wx%H /home/yuncong/CSHL_data_processed/MD589_lossless_aligned_cropped_downscaled/MD589_0263_lossless_aligned_cropped_downscaled.jpg' returned non-zero exit status 1\n",
      "Command 'identify -format %Wx%H /home/yuncong/CSHL_data_processed/MD589_lossless_aligned_cropped_downscaled/MD589_0264_lossless_aligned_cropped_downscaled.jpg' returned non-zero exit status 1\n",
      "Command 'identify -format %Wx%H /home/yuncong/CSHL_data_processed/MD589_lossless_aligned_cropped_downscaled/MD589_0264_lossless_aligned_cropped_downscaled.jpg' returned non-zero exit status 1"
     ]
    },
    {
     "name": "stderr",
     "output_type": "stream",
     "text": [
      "Cannot find image\n",
      "Cannot find image\n",
      "Cannot find image\n",
      "Cannot find image\n"
     ]
    },
    {
     "name": "stdout",
     "output_type": "stream",
     "text": [
      "\n",
      "Command 'identify -format %Wx%H /home/yuncong/CSHL_data_processed/MD589_lossless_aligned_cropped_downscaled/MD589_0264_lossless_aligned_cropped_downscaled.jpg' returned non-zero exit status 1\n",
      "Command 'identify -format %Wx%H /home/yuncong/CSHL_data_processed/MD589_lossless_aligned_cropped_downscaled/MD589_0265_lossless_aligned_cropped_downscaled.jpg' returned non-zero exit status 1\n",
      "Command 'identify -format %Wx%H /home/yuncong/CSHL_data_processed/MD589_lossless_aligned_cropped_downscaled/MD589_0265_lossless_aligned_cropped_downscaled.jpg' returned non-zero exit status 1\n",
      "Command 'identify -format %Wx%H /home/yuncong/CSHL_data_processed/MD589_lossless_aligned_cropped_downscaled/MD589_0266_lossless_aligned_cropped_downscaled.jpg' returned non-zero exit status 1"
     ]
    },
    {
     "name": "stderr",
     "output_type": "stream",
     "text": [
      "Cannot find image\n",
      "Cannot find image\n",
      "Cannot find image\n",
      "Cannot find image\n",
      "Cannot find image\n"
     ]
    },
    {
     "name": "stdout",
     "output_type": "stream",
     "text": [
      "\n",
      "Command 'identify -format %Wx%H /home/yuncong/CSHL_data_processed/MD589_lossless_aligned_cropped_downscaled/MD589_0266_lossless_aligned_cropped_downscaled.jpg' returned non-zero exit status 1\n",
      "Command 'identify -format %Wx%H /home/yuncong/CSHL_data_processed/MD589_lossless_aligned_cropped_downscaled/MD589_0266_lossless_aligned_cropped_downscaled.jpg' returned non-zero exit status 1\n",
      "Command 'identify -format %Wx%H /home/yuncong/CSHL_data_processed/MD589_lossless_aligned_cropped_downscaled/MD589_0267_lossless_aligned_cropped_downscaled.jpg' returned non-zero exit status 1\n",
      "Command 'identify -format %Wx%H /home/yuncong/CSHL_data_processed/MD589_lossless_aligned_cropped_downscaled/MD589_0267_lossless_aligned_cropped_downscaled.jpg' returned non-zero exit status 1"
     ]
    },
    {
     "name": "stderr",
     "output_type": "stream",
     "text": [
      "Cannot find image\n",
      "Cannot find image\n",
      "Cannot find image\n",
      "Cannot find image\n"
     ]
    },
    {
     "name": "stdout",
     "output_type": "stream",
     "text": [
      "\n",
      "Command 'identify -format %Wx%H /home/yuncong/CSHL_data_processed/MD589_lossless_aligned_cropped_downscaled/MD589_0267_lossless_aligned_cropped_downscaled.jpg' returned non-zero exit status 1\n",
      "Command 'identify -format %Wx%H /home/yuncong/CSHL_data_processed/MD589_lossless_aligned_cropped_downscaled/MD589_0268_lossless_aligned_cropped_downscaled.jpg' returned non-zero exit status 1\n",
      "Command 'identify -format %Wx%H /home/yuncong/CSHL_data_processed/MD589_lossless_aligned_cropped_downscaled/MD589_0268_lossless_aligned_cropped_downscaled.jpg' returned non-zero exit status 1\n",
      "Command 'identify -format %Wx%H /home/yuncong/CSHL_data_processed/MD589_lossless_aligned_cropped_downscaled/MD589_0269_lossless_aligned_cropped_downscaled.jpg' returned non-zero exit status 1\n",
      "Command 'identify -format %Wx%H /home/yuncong/CSHL_data_processed/MD589_lossless_aligned_cropped_downscaled/MD589_0269_lossless_aligned_cropped_downscaled.jpg' returned non-zero exit status 1\n",
      "Command 'identify -format %Wx%H /home/yuncong/CSHL_data_processed/MD589_lossless_aligned_cropped_downscaled/MD589_0269_lossless_aligned_cropped_downscaled.jpg' returned non-zero exit status 1\n",
      "Command 'identify -format %Wx%H /home/yuncong/CSHL_data_processed/MD589_lossless_aligned_cropped_downscaled/MD589_0270_lossless_aligned_cropped_downscaled.jpg' returned non-zero exit status 1"
     ]
    },
    {
     "name": "stderr",
     "output_type": "stream",
     "text": [
      "Cannot find image\n",
      "Cannot find image\n",
      "Cannot find image\n",
      "Cannot find image\n",
      "Cannot find image\n"
     ]
    },
    {
     "name": "stdout",
     "output_type": "stream",
     "text": [
      "\n",
      "Command 'identify -format %Wx%H /home/yuncong/CSHL_data_processed/MD589_lossless_aligned_cropped_downscaled/MD589_0270_lossless_aligned_cropped_downscaled.jpg' returned non-zero exit status 1\n",
      "Command 'identify -format %Wx%H /home/yuncong/CSHL_data_processed/MD589_lossless_aligned_cropped_downscaled/MD589_0270_lossless_aligned_cropped_downscaled.jpg' returned non-zero exit status 1\n",
      "Command 'identify -format %Wx%H /home/yuncong/CSHL_data_processed/MD589_lossless_aligned_cropped_downscaled/MD589_0271_lossless_aligned_cropped_downscaled.jpg' returned non-zero exit status 1"
     ]
    },
    {
     "name": "stderr",
     "output_type": "stream",
     "text": [
      "Cannot find image\n",
      "Cannot find image\n",
      "Cannot find image\n",
      "Cannot find image\n"
     ]
    },
    {
     "name": "stdout",
     "output_type": "stream",
     "text": [
      "\n",
      "Command 'identify -format %Wx%H /home/yuncong/CSHL_data_processed/MD589_lossless_aligned_cropped_downscaled/MD589_0271_lossless_aligned_cropped_downscaled.jpg' returned non-zero exit status 1\n",
      "Command 'identify -format %Wx%H /home/yuncong/CSHL_data_processed/MD589_lossless_aligned_cropped_downscaled/MD589_0271_lossless_aligned_cropped_downscaled.jpg' returned non-zero exit status 1\n",
      "Command 'identify -format %Wx%H /home/yuncong/CSHL_data_processed/MD589_lossless_aligned_cropped_downscaled/MD589_0272_lossless_aligned_cropped_downscaled.jpg' returned non-zero exit status 1\n",
      "Command 'identify -format %Wx%H /home/yuncong/CSHL_data_processed/MD589_lossless_aligned_cropped_downscaled/MD589_0272_lossless_aligned_cropped_downscaled.jpg' returned non-zero exit status 1"
     ]
    },
    {
     "name": "stderr",
     "output_type": "stream",
     "text": [
      "Cannot find image\n",
      "Cannot find image\n",
      "Cannot find image\n",
      "Cannot find image\n",
      "Cannot find image\n",
      "Cannot find image\n"
     ]
    },
    {
     "name": "stdout",
     "output_type": "stream",
     "text": [
      "\n",
      "Command 'identify -format %Wx%H /home/yuncong/CSHL_data_processed/MD589_lossless_aligned_cropped_downscaled/MD589_0273_lossless_aligned_cropped_downscaled.jpg' returned non-zero exit status 1\n",
      "Command 'identify -format %Wx%H /home/yuncong/CSHL_data_processed/MD589_lossless_aligned_cropped_downscaled/MD589_0273_lossless_aligned_cropped_downscaled.jpg' returned non-zero exit status 1\n",
      "Command 'identify -format %Wx%H /home/yuncong/CSHL_data_processed/MD589_lossless_aligned_cropped_downscaled/MD589_0273_lossless_aligned_cropped_downscaled.jpg' returned non-zero exit status 1\n",
      "Command 'identify -format %Wx%H /home/yuncong/CSHL_data_processed/MD589_lossless_aligned_cropped_downscaled/MD589_0274_lossless_aligned_cropped_downscaled.jpg' returned non-zero exit status 1\n",
      "Command 'identify -format %Wx%H /home/yuncong/CSHL_data_processed/MD589_lossless_aligned_cropped_downscaled/MD589_0274_lossless_aligned_cropped_downscaled.jpg' returned non-zero exit status 1\n",
      "Command 'identify -format %Wx%H /home/yuncong/CSHL_data_processed/MD589_lossless_aligned_cropped_downscaled/MD589_0274_lossless_aligned_cropped_downscaled.jpg' returned non-zero exit status 1\n",
      "Command 'identify -format %Wx%H /home/yuncong/CSHL_data_processed/MD589_lossless_aligned_cropped_downscaled/MD589_0275_lossless_aligned_cropped_downscaled.jpg' returned non-zero exit status 1\n",
      "Command 'identify -format %Wx%H /home/yuncong/CSHL_data_processed/MD589_lossless_aligned_cropped_downscaled/MD589_0275_lossless_aligned_cropped_downscaled.jpg' returned non-zero exit status 1"
     ]
    },
    {
     "name": "stderr",
     "output_type": "stream",
     "text": [
      "Cannot find image\n",
      "Cannot find image\n",
      "Cannot find image\n",
      "Cannot find image\n",
      "Cannot find image\n"
     ]
    },
    {
     "name": "stdout",
     "output_type": "stream",
     "text": [
      "\n",
      "Command 'identify -format %Wx%H /home/yuncong/CSHL_data_processed/MD589_lossless_aligned_cropped_downscaled/MD589_0275_lossless_aligned_cropped_downscaled.jpg' returned non-zero exit status 1\n",
      "Command 'identify -format %Wx%H /home/yuncong/CSHL_data_processed/MD589_lossless_aligned_cropped_downscaled/MD589_0276_lossless_aligned_cropped_downscaled.jpg' returned non-zero exit status 1\n",
      "Command 'identify -format %Wx%H /home/yuncong/CSHL_data_processed/MD589_lossless_aligned_cropped_downscaled/MD589_0276_lossless_aligned_cropped_downscaled.jpg' returned non-zero exit status 1\n",
      "Command 'identify -format %Wx%H /home/yuncong/CSHL_data_processed/MD589_lossless_aligned_cropped_downscaled/MD589_0277_lossless_aligned_cropped_downscaled.jpg' returned non-zero exit status 1"
     ]
    },
    {
     "name": "stderr",
     "output_type": "stream",
     "text": [
      "Cannot find image\n",
      "Cannot find image\n",
      "Cannot find image\n",
      "Cannot find image\n",
      "Cannot find image\n"
     ]
    },
    {
     "name": "stdout",
     "output_type": "stream",
     "text": [
      "\n",
      "Command 'identify -format %Wx%H /home/yuncong/CSHL_data_processed/MD589_lossless_aligned_cropped_downscaled/MD589_0277_lossless_aligned_cropped_downscaled.jpg' returned non-zero exit status 1\n",
      "Command 'identify -format %Wx%H /home/yuncong/CSHL_data_processed/MD589_lossless_aligned_cropped_downscaled/MD589_0277_lossless_aligned_cropped_downscaled.jpg' returned non-zero exit status 1\n",
      "Command 'identify -format %Wx%H /home/yuncong/CSHL_data_processed/MD589_lossless_aligned_cropped_downscaled/MD589_0278_lossless_aligned_cropped_downscaled.jpg' returned non-zero exit status 1"
     ]
    },
    {
     "name": "stderr",
     "output_type": "stream",
     "text": [
      "Cannot find image\n",
      "Cannot find image\n",
      "Cannot find image\n",
      "Cannot find image\n",
      "Cannot find image\n"
     ]
    },
    {
     "name": "stdout",
     "output_type": "stream",
     "text": [
      "\n",
      "Command 'identify -format %Wx%H /home/yuncong/CSHL_data_processed/MD589_lossless_aligned_cropped_downscaled/MD589_0278_lossless_aligned_cropped_downscaled.jpg' returned non-zero exit status 1\n",
      "Command 'identify -format %Wx%H /home/yuncong/CSHL_data_processed/MD589_lossless_aligned_cropped_downscaled/MD589_0278_lossless_aligned_cropped_downscaled.jpg' returned non-zero exit status 1\n",
      "Command 'identify -format %Wx%H /home/yuncong/CSHL_data_processed/MD589_lossless_aligned_cropped_downscaled/MD589_0279_lossless_aligned_cropped_downscaled.jpg' returned non-zero exit status 1\n",
      "Command 'identify -format %Wx%H /home/yuncong/CSHL_data_processed/MD589_lossless_aligned_cropped_downscaled/MD589_0279_lossless_aligned_cropped_downscaled.jpg' returned non-zero exit status 1\n",
      "Command 'identify -format %Wx%H /home/yuncong/CSHL_data_processed/MD589_lossless_aligned_cropped_downscaled/MD589_0280_lossless_aligned_cropped_downscaled.jpg' returned non-zero exit status 1\n",
      "Command 'identify -format %Wx%H /home/yuncong/CSHL_data_processed/MD589_lossless_aligned_cropped_downscaled/MD589_0280_lossless_aligned_cropped_downscaled.jpg' returned non-zero exit status 1\n",
      "Command 'identify -format %Wx%H /home/yuncong/CSHL_data_processed/MD589_lossless_aligned_cropped_downscaled/MD589_0280_lossless_aligned_cropped_downscaled.jpg' returned non-zero exit status 1\n",
      "Command 'identify -format %Wx%H /home/yuncong/CSHL_data_processed/MD589_lossless_aligned_cropped_downscaled/MD589_0281_lossless_aligned_cropped_downscaled.jpg' returned non-zero exit status 1"
     ]
    },
    {
     "name": "stderr",
     "output_type": "stream",
     "text": [
      "Cannot find image\n",
      "Cannot find image\n",
      "Cannot find image\n",
      "Cannot find image\n",
      "Cannot find image\n"
     ]
    },
    {
     "name": "stdout",
     "output_type": "stream",
     "text": [
      "\n",
      "Command 'identify -format %Wx%H /home/yuncong/CSHL_data_processed/MD589_lossless_aligned_cropped_downscaled/MD589_0281_lossless_aligned_cropped_downscaled.jpg' returned non-zero exit status 1\n",
      "Command 'identify -format %Wx%H /home/yuncong/CSHL_data_processed/MD589_lossless_aligned_cropped_downscaled/MD589_0281_lossless_aligned_cropped_downscaled.jpg' returned non-zero exit status 1\n",
      "Command 'identify -format %Wx%H /home/yuncong/CSHL_data_processed/MD589_lossless_aligned_cropped_downscaled/MD589_0282_lossless_aligned_cropped_downscaled.jpg' returned non-zero exit status 1\n",
      "Command 'identify -format %Wx%H /home/yuncong/CSHL_data_processed/MD589_lossless_aligned_cropped_downscaled/MD589_0282_lossless_aligned_cropped_downscaled.jpg' returned non-zero exit status 1"
     ]
    },
    {
     "name": "stderr",
     "output_type": "stream",
     "text": [
      "Cannot find image\n",
      "Cannot find image\n",
      "Cannot find image\n",
      "Cannot find image\n",
      "Cannot find image\n",
      "Cannot find image\n"
     ]
    },
    {
     "name": "stdout",
     "output_type": "stream",
     "text": [
      "\n",
      "Command 'identify -format %Wx%H /home/yuncong/CSHL_data_processed/MD589_lossless_aligned_cropped_downscaled/MD589_0282_lossless_aligned_cropped_downscaled.jpg' returned non-zero exit status 1\n",
      "Command 'identify -format %Wx%H /home/yuncong/CSHL_data_processed/MD589_lossless_aligned_cropped_downscaled/MD589_0283_lossless_aligned_cropped_downscaled.jpg' returned non-zero exit status 1\n",
      "Command 'identify -format %Wx%H /home/yuncong/CSHL_data_processed/MD589_lossless_aligned_cropped_downscaled/MD589_0283_lossless_aligned_cropped_downscaled.jpg' returned non-zero exit status 1\n",
      "Command 'identify -format %Wx%H /home/yuncong/CSHL_data_processed/MD589_lossless_aligned_cropped_downscaled/MD589_0284_lossless_aligned_cropped_downscaled.jpg' returned non-zero exit status 1"
     ]
    },
    {
     "name": "stderr",
     "output_type": "stream",
     "text": [
      "Cannot find image\n",
      "Cannot find image\n",
      "Cannot find image\n",
      "Cannot find image\n",
      "Cannot find image\n"
     ]
    },
    {
     "name": "stdout",
     "output_type": "stream",
     "text": [
      "\n",
      "Command 'identify -format %Wx%H /home/yuncong/CSHL_data_processed/MD589_lossless_aligned_cropped_downscaled/MD589_0284_lossless_aligned_cropped_downscaled.jpg' returned non-zero exit status 1\n",
      "Command 'identify -format %Wx%H /home/yuncong/CSHL_data_processed/MD589_lossless_aligned_cropped_downscaled/MD589_0284_lossless_aligned_cropped_downscaled.jpg' returned non-zero exit status 1\n",
      "Command 'identify -format %Wx%H /home/yuncong/CSHL_data_processed/MD589_lossless_aligned_cropped_downscaled/MD589_0285_lossless_aligned_cropped_downscaled.jpg' returned non-zero exit status 1\n",
      "Command 'identify -format %Wx%H /home/yuncong/CSHL_data_processed/MD589_lossless_aligned_cropped_downscaled/MD589_0285_lossless_aligned_cropped_downscaled.jpg' returned non-zero exit status 1\n",
      "Command 'identify -format %Wx%H /home/yuncong/CSHL_data_processed/MD589_lossless_aligned_cropped_downscaled/MD589_0285_lossless_aligned_cropped_downscaled.jpg' returned non-zero exit status 1\n",
      "Command 'identify -format %Wx%H /home/yuncong/CSHL_data_processed/MD589_lossless_aligned_cropped_downscaled/MD589_0286_lossless_aligned_cropped_downscaled.jpg' returned non-zero exit status 1\n",
      "Command 'identify -format %Wx%H /home/yuncong/CSHL_data_processed/MD589_lossless_aligned_cropped_downscaled/MD589_0286_lossless_aligned_cropped_downscaled.jpg' returned non-zero exit status 1"
     ]
    },
    {
     "name": "stderr",
     "output_type": "stream",
     "text": [
      "Cannot find image\n",
      "Cannot find image\n",
      "Cannot find image\n",
      "Cannot find image\n"
     ]
    },
    {
     "name": "stdout",
     "output_type": "stream",
     "text": [
      "\n",
      "Command 'identify -format %Wx%H /home/yuncong/CSHL_data_processed/MD589_lossless_aligned_cropped_downscaled/MD589_0287_lossless_aligned_cropped_downscaled.jpg' returned non-zero exit status 1\n",
      "Command 'identify -format %Wx%H /home/yuncong/CSHL_data_processed/MD589_lossless_aligned_cropped_downscaled/MD589_0287_lossless_aligned_cropped_downscaled.jpg' returned non-zero exit status 1\n",
      "Command 'identify -format %Wx%H /home/yuncong/CSHL_data_processed/MD589_lossless_aligned_cropped_downscaled/MD589_0287_lossless_aligned_cropped_downscaled.jpg' returned non-zero exit status 1\n",
      "Command 'identify -format %Wx%H /home/yuncong/CSHL_data_processed/MD589_lossless_aligned_cropped_downscaled/MD589_0288_lossless_aligned_cropped_downscaled.jpg' returned non-zero exit status 1"
     ]
    },
    {
     "name": "stderr",
     "output_type": "stream",
     "text": [
      "Cannot find image\n",
      "Cannot find image\n",
      "Cannot find image\n",
      "Cannot find image\n"
     ]
    },
    {
     "name": "stdout",
     "output_type": "stream",
     "text": [
      "\n",
      "Command 'identify -format %Wx%H /home/yuncong/CSHL_data_processed/MD589_lossless_aligned_cropped_downscaled/MD589_0288_lossless_aligned_cropped_downscaled.jpg' returned non-zero exit status 1\n",
      "Command 'identify -format %Wx%H /home/yuncong/CSHL_data_processed/MD589_lossless_aligned_cropped_downscaled/MD589_0288_lossless_aligned_cropped_downscaled.jpg' returned non-zero exit status 1\n",
      "Command 'identify -format %Wx%H /home/yuncong/CSHL_data_processed/MD589_lossless_aligned_cropped_downscaled/MD589_0289_lossless_aligned_cropped_downscaled.jpg' returned non-zero exit status 1\n",
      "Command 'identify -format %Wx%H /home/yuncong/CSHL_data_processed/MD589_lossless_aligned_cropped_downscaled/MD589_0289_lossless_aligned_cropped_downscaled.jpg' returned non-zero exit status 1"
     ]
    },
    {
     "name": "stderr",
     "output_type": "stream",
     "text": [
      "Cannot find image\n",
      "Cannot find image\n",
      "Cannot find image\n",
      "Cannot find image\n"
     ]
    },
    {
     "name": "stdout",
     "output_type": "stream",
     "text": [
      "\n",
      "Command 'identify -format %Wx%H /home/yuncong/CSHL_data_processed/MD589_lossless_aligned_cropped_downscaled/MD589_0289_lossless_aligned_cropped_downscaled.jpg' returned non-zero exit status 1\n",
      "Command 'identify -format %Wx%H /home/yuncong/CSHL_data_processed/MD589_lossless_aligned_cropped_downscaled/MD589_0290_lossless_aligned_cropped_downscaled.jpg' returned non-zero exit status 1\n",
      "Command 'identify -format %Wx%H /home/yuncong/CSHL_data_processed/MD589_lossless_aligned_cropped_downscaled/MD589_0290_lossless_aligned_cropped_downscaled.jpg' returned non-zero exit status 1"
     ]
    },
    {
     "name": "stderr",
     "output_type": "stream",
     "text": [
      "Cannot find image\n",
      "Cannot find image\n",
      "Cannot find image\n",
      "Cannot find image\n"
     ]
    },
    {
     "name": "stdout",
     "output_type": "stream",
     "text": [
      "\n",
      "Command 'identify -format %Wx%H /home/yuncong/CSHL_data_processed/MD589_lossless_aligned_cropped_downscaled/MD589_0291_lossless_aligned_cropped_downscaled.jpg' returned non-zero exit status 1\n",
      "Command 'identify -format %Wx%H /home/yuncong/CSHL_data_processed/MD589_lossless_aligned_cropped_downscaled/MD589_0291_lossless_aligned_cropped_downscaled.jpg' returned non-zero exit status 1\n",
      "Command 'identify -format %Wx%H /home/yuncong/CSHL_data_processed/MD589_lossless_aligned_cropped_downscaled/MD589_0291_lossless_aligned_cropped_downscaled.jpg' returned non-zero exit status 1"
     ]
    },
    {
     "name": "stderr",
     "output_type": "stream",
     "text": [
      "Cannot find image\n",
      "Cannot find image\n",
      "Cannot find image\n"
     ]
    },
    {
     "name": "stdout",
     "output_type": "stream",
     "text": [
      "\n",
      "Command 'identify -format %Wx%H /home/yuncong/CSHL_data_processed/MD589_lossless_aligned_cropped_downscaled/MD589_0292_lossless_aligned_cropped_downscaled.jpg' returned non-zero exit status 1\n",
      "Command 'identify -format %Wx%H /home/yuncong/CSHL_data_processed/MD589_lossless_aligned_cropped_downscaled/MD589_0292_lossless_aligned_cropped_downscaled.jpg' returned non-zero exit status 1\n",
      "Command 'identify -format %Wx%H /home/yuncong/CSHL_data_processed/MD589_lossless_aligned_cropped_downscaled/MD589_0292_lossless_aligned_cropped_downscaled.jpg' returned non-zero exit status 1\n",
      "Command 'identify -format %Wx%H /home/yuncong/CSHL_data_processed/MD589_lossless_aligned_cropped_downscaled/MD589_0293_lossless_aligned_cropped_downscaled.jpg' returned non-zero exit status 1\n",
      "Command 'identify -format %Wx%H /home/yuncong/CSHL_data_processed/MD589_lossless_aligned_cropped_downscaled/MD589_0293_lossless_aligned_cropped_downscaled.jpg' returned non-zero exit status 1\n",
      "Command 'identify -format %Wx%H /home/yuncong/CSHL_data_processed/MD589_lossless_aligned_cropped_downscaled/MD589_0294_lossless_aligned_cropped_downscaled.jpg' returned non-zero exit status 1\n",
      "Command 'identify -format %Wx%H /home/yuncong/CSHL_data_processed/MD589_lossless_aligned_cropped_downscaled/MD589_0294_lossless_aligned_cropped_downscaled.jpg' returned non-zero exit status 1"
     ]
    },
    {
     "name": "stderr",
     "output_type": "stream",
     "text": [
      "Cannot find image\n",
      "Cannot find image\n",
      "Cannot find image\n",
      "Cannot find image\n",
      "Cannot find image\n",
      "Cannot find image\n"
     ]
    },
    {
     "name": "stdout",
     "output_type": "stream",
     "text": [
      "\n",
      "Command 'identify -format %Wx%H /home/yuncong/CSHL_data_processed/MD589_lossless_aligned_cropped_downscaled/MD589_0294_lossless_aligned_cropped_downscaled.jpg' returned non-zero exit status 1\n",
      "Command 'identify -format %Wx%H /home/yuncong/CSHL_data_processed/MD589_lossless_aligned_cropped_downscaled/MD589_0295_lossless_aligned_cropped_downscaled.jpg' returned non-zero exit status 1\n",
      "Command 'identify -format %Wx%H /home/yuncong/CSHL_data_processed/MD589_lossless_aligned_cropped_downscaled/MD589_0295_lossless_aligned_cropped_downscaled.jpg' returned non-zero exit status 1\n",
      "Command 'identify -format %Wx%H /home/yuncong/CSHL_data_processed/MD589_lossless_aligned_cropped_downscaled/MD589_0295_lossless_aligned_cropped_downscaled.jpg' returned non-zero exit status 1"
     ]
    },
    {
     "name": "stderr",
     "output_type": "stream",
     "text": [
      "Cannot find image\n",
      "Cannot find image\n",
      "Cannot find image\n",
      "Cannot find image\n",
      "Cannot find image\n"
     ]
    },
    {
     "name": "stdout",
     "output_type": "stream",
     "text": [
      "\n",
      "Command 'identify -format %Wx%H /home/yuncong/CSHL_data_processed/MD589_lossless_aligned_cropped_downscaled/MD589_0296_lossless_aligned_cropped_downscaled.jpg' returned non-zero exit status 1\n",
      "Command 'identify -format %Wx%H /home/yuncong/CSHL_data_processed/MD589_lossless_aligned_cropped_downscaled/MD589_0296_lossless_aligned_cropped_downscaled.jpg' returned non-zero exit status 1\n",
      "Command 'identify -format %Wx%H /home/yuncong/CSHL_data_processed/MD589_lossless_aligned_cropped_downscaled/MD589_0296_lossless_aligned_cropped_downscaled.jpg' returned non-zero exit status 1\n",
      "Command 'identify -format %Wx%H /home/yuncong/CSHL_data_processed/MD589_lossless_aligned_cropped_downscaled/MD589_0297_lossless_aligned_cropped_downscaled.jpg' returned non-zero exit status 1"
     ]
    },
    {
     "name": "stderr",
     "output_type": "stream",
     "text": [
      "Cannot find image\n",
      "Cannot find image\n",
      "Cannot find image\n",
      "Cannot find image\n",
      "Cannot find image\n"
     ]
    },
    {
     "name": "stdout",
     "output_type": "stream",
     "text": [
      "\n",
      "Command 'identify -format %Wx%H /home/yuncong/CSHL_data_processed/MD589_lossless_aligned_cropped_downscaled/MD589_0297_lossless_aligned_cropped_downscaled.jpg' returned non-zero exit status 1\n",
      "Command 'identify -format %Wx%H /home/yuncong/CSHL_data_processed/MD589_lossless_aligned_cropped_downscaled/MD589_0298_lossless_aligned_cropped_downscaled.jpg' returned non-zero exit status 1\n",
      "Command 'identify -format %Wx%H /home/yuncong/CSHL_data_processed/MD589_lossless_aligned_cropped_downscaled/MD589_0298_lossless_aligned_cropped_downscaled.jpg' returned non-zero exit status 1\n",
      "Command 'identify -format %Wx%H /home/yuncong/CSHL_data_processed/MD589_lossless_aligned_cropped_downscaled/MD589_0298_lossless_aligned_cropped_downscaled.jpg' returned non-zero exit status 1\n",
      "Command 'identify -format %Wx%H /home/yuncong/CSHL_data_processed/MD589_lossless_aligned_cropped_downscaled/MD589_0299_lossless_aligned_cropped_downscaled.jpg' returned non-zero exit status 1\n",
      "Command 'identify -format %Wx%H /home/yuncong/CSHL_data_processed/MD589_lossless_aligned_cropped_downscaled/MD589_0299_lossless_aligned_cropped_downscaled.jpg' returned non-zero exit status 1\n",
      "Command 'identify -format %Wx%H /home/yuncong/CSHL_data_processed/MD589_lossless_aligned_cropped_downscaled/MD589_0299_lossless_aligned_cropped_downscaled.jpg' returned non-zero exit status 1"
     ]
    },
    {
     "name": "stderr",
     "output_type": "stream",
     "text": [
      "Cannot find image\n",
      "Cannot find image\n",
      "Cannot find image\n",
      "Cannot find image\n",
      "Cannot find image\n"
     ]
    },
    {
     "name": "stdout",
     "output_type": "stream",
     "text": [
      "\n",
      "Command 'identify -format %Wx%H /home/yuncong/CSHL_data_processed/MD589_lossless_aligned_cropped_downscaled/MD589_0300_lossless_aligned_cropped_downscaled.jpg' returned non-zero exit status 1\n",
      "Command 'identify -format %Wx%H /home/yuncong/CSHL_data_processed/MD589_lossless_aligned_cropped_downscaled/MD589_0300_lossless_aligned_cropped_downscaled.jpg' returned non-zero exit status 1\n",
      "Command 'identify -format %Wx%H /home/yuncong/CSHL_data_processed/MD589_lossless_aligned_cropped_downscaled/MD589_0301_lossless_aligned_cropped_downscaled.jpg' returned non-zero exit status 1\n",
      "Command 'identify -format %Wx%H /home/yuncong/CSHL_data_processed/MD589_lossless_aligned_cropped_downscaled/MD589_0301_lossless_aligned_cropped_downscaled.jpg' returned non-zero exit status 1"
     ]
    },
    {
     "name": "stderr",
     "output_type": "stream",
     "text": [
      "Cannot find image\n",
      "Cannot find image\n",
      "Cannot find image\n",
      "Cannot find image\n",
      "Cannot find image\n"
     ]
    },
    {
     "name": "stdout",
     "output_type": "stream",
     "text": [
      "\n",
      "Command 'identify -format %Wx%H /home/yuncong/CSHL_data_processed/MD589_lossless_aligned_cropped_downscaled/MD589_0301_lossless_aligned_cropped_downscaled.jpg' returned non-zero exit status 1\n",
      "Command 'identify -format %Wx%H /home/yuncong/CSHL_data_processed/MD589_lossless_aligned_cropped_downscaled/MD589_0302_lossless_aligned_cropped_downscaled.jpg' returned non-zero exit status 1\n",
      "Command 'identify -format %Wx%H /home/yuncong/CSHL_data_processed/MD589_lossless_aligned_cropped_downscaled/MD589_0302_lossless_aligned_cropped_downscaled.jpg' returned non-zero exit status 1\n",
      "Command 'identify -format %Wx%H /home/yuncong/CSHL_data_processed/MD589_lossless_aligned_cropped_downscaled/MD589_0302_lossless_aligned_cropped_downscaled.jpg' returned non-zero exit status 1"
     ]
    },
    {
     "name": "stderr",
     "output_type": "stream",
     "text": [
      "Cannot find image\n",
      "Cannot find image\n",
      "Cannot find image\n",
      "Cannot find image\n",
      "Cannot find image\n"
     ]
    },
    {
     "name": "stdout",
     "output_type": "stream",
     "text": [
      "\n",
      "Command 'identify -format %Wx%H /home/yuncong/CSHL_data_processed/MD589_lossless_aligned_cropped_downscaled/MD589_0303_lossless_aligned_cropped_downscaled.jpg' returned non-zero exit status 1\n",
      "Command 'identify -format %Wx%H /home/yuncong/CSHL_data_processed/MD589_lossless_aligned_cropped_downscaled/MD589_0303_lossless_aligned_cropped_downscaled.jpg' returned non-zero exit status 1\n",
      "Command 'identify -format %Wx%H /home/yuncong/CSHL_data_processed/MD589_lossless_aligned_cropped_downscaled/MD589_0303_lossless_aligned_cropped_downscaled.jpg' returned non-zero exit status 1\n",
      "Command 'identify -format %Wx%H /home/yuncong/CSHL_data_processed/MD589_lossless_aligned_cropped_downscaled/MD589_0304_lossless_aligned_cropped_downscaled.jpg' returned non-zero exit status 1"
     ]
    },
    {
     "name": "stderr",
     "output_type": "stream",
     "text": [
      "Cannot find image\n",
      "Cannot find image\n",
      "Cannot find image\n",
      "Cannot find image\n",
      "Cannot find image\n"
     ]
    },
    {
     "name": "stdout",
     "output_type": "stream",
     "text": [
      "\n",
      "Command 'identify -format %Wx%H /home/yuncong/CSHL_data_processed/MD589_lossless_aligned_cropped_downscaled/MD589_0304_lossless_aligned_cropped_downscaled.jpg' returned non-zero exit status 1\n",
      "Command 'identify -format %Wx%H /home/yuncong/CSHL_data_processed/MD589_lossless_aligned_cropped_downscaled/MD589_0305_lossless_aligned_cropped_downscaled.jpg' returned non-zero exit status 1\n",
      "Command 'identify -format %Wx%H /home/yuncong/CSHL_data_processed/MD589_lossless_aligned_cropped_downscaled/MD589_0305_lossless_aligned_cropped_downscaled.jpg' returned non-zero exit status 1\n",
      "Command 'identify -format %Wx%H /home/yuncong/CSHL_data_processed/MD589_lossless_aligned_cropped_downscaled/MD589_0305_lossless_aligned_cropped_downscaled.jpg' returned non-zero exit status 1\n",
      "Command 'identify -format %Wx%H /home/yuncong/CSHL_data_processed/MD589_lossless_aligned_cropped_downscaled/MD589_0306_lossless_aligned_cropped_downscaled.jpg' returned non-zero exit status 1\n",
      "Command 'identify -format %Wx%H /home/yuncong/CSHL_data_processed/MD589_lossless_aligned_cropped_downscaled/MD589_0306_lossless_aligned_cropped_downscaled.jpg' returned non-zero exit status 1\n",
      "Command 'identify -format %Wx%H /home/yuncong/CSHL_data_processed/MD589_lossless_aligned_cropped_downscaled/MD589_0306_lossless_aligned_cropped_downscaled.jpg' returned non-zero exit status 1"
     ]
    },
    {
     "name": "stderr",
     "output_type": "stream",
     "text": [
      "Cannot find image\n",
      "Cannot find image\n",
      "Cannot find image\n",
      "Cannot find image\n"
     ]
    },
    {
     "name": "stdout",
     "output_type": "stream",
     "text": [
      "\n",
      "Command 'identify -format %Wx%H /home/yuncong/CSHL_data_processed/MD589_lossless_aligned_cropped_downscaled/MD589_0307_lossless_aligned_cropped_downscaled.jpg' returned non-zero exit status 1\n",
      "Command 'identify -format %Wx%H /home/yuncong/CSHL_data_processed/MD589_lossless_aligned_cropped_downscaled/MD589_0307_lossless_aligned_cropped_downscaled.jpg' returned non-zero exit status 1\n",
      "Command 'identify -format %Wx%H /home/yuncong/CSHL_data_processed/MD589_lossless_aligned_cropped_downscaled/MD589_0308_lossless_aligned_cropped_downscaled.jpg' returned non-zero exit status 1"
     ]
    },
    {
     "name": "stderr",
     "output_type": "stream",
     "text": [
      "Cannot find image\n",
      "Cannot find image\n",
      "Cannot find image\n",
      "Cannot find image\n"
     ]
    },
    {
     "name": "stdout",
     "output_type": "stream",
     "text": [
      "\n",
      "Command 'identify -format %Wx%H /home/yuncong/CSHL_data_processed/MD589_lossless_aligned_cropped_downscaled/MD589_0308_lossless_aligned_cropped_downscaled.jpg' returned non-zero exit status 1\n",
      "Command 'identify -format %Wx%H /home/yuncong/CSHL_data_processed/MD589_lossless_aligned_cropped_downscaled/MD589_0308_lossless_aligned_cropped_downscaled.jpg' returned non-zero exit status 1\n",
      "Command 'identify -format %Wx%H /home/yuncong/CSHL_data_processed/MD589_lossless_aligned_cropped_downscaled/MD589_0309_lossless_aligned_cropped_downscaled.jpg' returned non-zero exit status 1"
     ]
    },
    {
     "name": "stderr",
     "output_type": "stream",
     "text": [
      "Cannot find image\n",
      "Cannot find image\n",
      "Cannot find image\n",
      "Cannot find image\n",
      "Cannot find image\n"
     ]
    },
    {
     "name": "stdout",
     "output_type": "stream",
     "text": [
      "\n",
      "Command 'identify -format %Wx%H /home/yuncong/CSHL_data_processed/MD589_lossless_aligned_cropped_downscaled/MD589_0309_lossless_aligned_cropped_downscaled.jpg' returned non-zero exit status 1\n",
      "Command 'identify -format %Wx%H /home/yuncong/CSHL_data_processed/MD589_lossless_aligned_cropped_downscaled/MD589_0309_lossless_aligned_cropped_downscaled.jpg' returned non-zero exit status 1\n",
      "Command 'identify -format %Wx%H /home/yuncong/CSHL_data_processed/MD589_lossless_aligned_cropped_downscaled/MD589_0310_lossless_aligned_cropped_downscaled.jpg' returned non-zero exit status 1\n",
      "Command 'identify -format %Wx%H /home/yuncong/CSHL_data_processed/MD589_lossless_aligned_cropped_downscaled/MD589_0310_lossless_aligned_cropped_downscaled.jpg' returned non-zero exit status 1\n",
      "Command 'identify -format %Wx%H /home/yuncong/CSHL_data_processed/MD589_lossless_aligned_cropped_downscaled/MD589_0310_lossless_aligned_cropped_downscaled.jpg' returned non-zero exit status 1\n",
      "Command 'identify -format %Wx%H /home/yuncong/CSHL_data_processed/MD589_lossless_aligned_cropped_downscaled/MD589_0311_lossless_aligned_cropped_downscaled.jpg' returned non-zero exit status 1\n",
      "Command 'identify -format %Wx%H /home/yuncong/CSHL_data_processed/MD589_lossless_aligned_cropped_downscaled/MD589_0311_lossless_aligned_cropped_downscaled.jpg' returned non-zero exit status 1\n",
      "Command 'identify -format %Wx%H /home/yuncong/CSHL_data_processed/MD589_lossless_aligned_cropped_downscaled/MD589_0312_lossless_aligned_cropped_downscaled.jpg' returned non-zero exit status 1"
     ]
    },
    {
     "name": "stderr",
     "output_type": "stream",
     "text": [
      "Cannot find image\n",
      "Cannot find image\n",
      "Cannot find image\n",
      "Cannot find image\n",
      "Cannot find image\n"
     ]
    },
    {
     "name": "stdout",
     "output_type": "stream",
     "text": [
      "\n",
      "Command 'identify -format %Wx%H /home/yuncong/CSHL_data_processed/MD589_lossless_aligned_cropped_downscaled/MD589_0312_lossless_aligned_cropped_downscaled.jpg' returned non-zero exit status 1\n",
      "Command 'identify -format %Wx%H /home/yuncong/CSHL_data_processed/MD589_lossless_aligned_cropped_downscaled/MD589_0312_lossless_aligned_cropped_downscaled.jpg' returned non-zero exit status 1\n",
      "Command 'identify -format %Wx%H /home/yuncong/CSHL_data_processed/MD589_lossless_aligned_cropped_downscaled/MD589_0313_lossless_aligned_cropped_downscaled.jpg' returned non-zero exit status 1"
     ]
    },
    {
     "name": "stderr",
     "output_type": "stream",
     "text": [
      "Cannot find image\n",
      "Cannot find image\n",
      "Cannot find image\n",
      "Cannot find image\n",
      "Cannot find image\n"
     ]
    },
    {
     "name": "stdout",
     "output_type": "stream",
     "text": [
      "\n",
      "Command 'identify -format %Wx%H /home/yuncong/CSHL_data_processed/MD589_lossless_aligned_cropped_downscaled/MD589_0313_lossless_aligned_cropped_downscaled.jpg' returned non-zero exit status 1\n",
      "Command 'identify -format %Wx%H /home/yuncong/CSHL_data_processed/MD589_lossless_aligned_cropped_downscaled/MD589_0313_lossless_aligned_cropped_downscaled.jpg' returned non-zero exit status 1\n",
      "Command 'identify -format %Wx%H /home/yuncong/CSHL_data_processed/MD589_lossless_aligned_cropped_downscaled/MD589_0314_lossless_aligned_cropped_downscaled.jpg' returned non-zero exit status 1\n",
      "Command 'identify -format %Wx%H /home/yuncong/CSHL_data_processed/MD589_lossless_aligned_cropped_downscaled/MD589_0314_lossless_aligned_cropped_downscaled.jpg' returned non-zero exit status 1\n",
      "Command 'identify -format %Wx%H /home/yuncong/CSHL_data_processed/MD589_lossless_aligned_cropped_downscaled/MD589_0315_lossless_aligned_cropped_downscaled.jpg' returned non-zero exit status 1\n",
      "Command 'identify -format %Wx%H /home/yuncong/CSHL_data_processed/MD589_lossless_aligned_cropped_downscaled/MD589_0315_lossless_aligned_cropped_downscaled.jpg' returned non-zero exit status 1\n",
      "Command 'identify -format %Wx%H /home/yuncong/CSHL_data_processed/MD589_lossless_aligned_cropped_downscaled/MD589_0315_lossless_aligned_cropped_downscaled.jpg' returned non-zero exit status 1\n",
      "Command 'identify -format %Wx%H /home/yuncong/CSHL_data_processed/MD589_lossless_aligned_cropped_downscaled/MD589_0316_lossless_aligned_cropped_downscaled.jpg' returned non-zero exit status 1"
     ]
    },
    {
     "name": "stderr",
     "output_type": "stream",
     "text": [
      "Cannot find image\n",
      "Cannot find image\n",
      "Cannot find image\n",
      "Cannot find image\n",
      "Cannot find image\n",
      "Cannot find image\n"
     ]
    },
    {
     "name": "stdout",
     "output_type": "stream",
     "text": [
      "\n",
      "Command 'identify -format %Wx%H /home/yuncong/CSHL_data_processed/MD589_lossless_aligned_cropped_downscaled/MD589_0316_lossless_aligned_cropped_downscaled.jpg' returned non-zero exit status 1\n",
      "Command 'identify -format %Wx%H /home/yuncong/CSHL_data_processed/MD589_lossless_aligned_cropped_downscaled/MD589_0316_lossless_aligned_cropped_downscaled.jpg' returned non-zero exit status 1\n"
     ]
    },
    {
     "name": "stderr",
     "output_type": "stream",
     "text": [
      "Cannot find image\n",
      "Cannot find image\n"
     ]
    }
   ],
   "source": [
    "from skimage.draw import polygon_perimeter\n",
    "\n",
    "for z, sec in z_sec_map.iteritems():\n",
    "    if z >= 0 and z < tb_volume_scaledToScoreVolume.shape[2]:\n",
    "        dm.set_slice(sec)\n",
    "        res = dm.load_proposal_review_result('yuncong', 'latest', 'consolidated')\n",
    "        if res is None:\n",
    "            continue\n",
    "            \n",
    "        annotations = {ann['label']: ann for ann in res[3]}\n",
    "        \n",
    "        for name_u in available_labels_unsided:            \n",
    "            if name_u in annotations:\n",
    "                ann = annotations[name_u]\n",
    "\n",
    "                vs = np.array(ann['vertices'], np.int) / 16\n",
    "\n",
    "                polygon_ys, polygon_xs = polygon_perimeter(vs[:,1], vs[:,0])\n",
    "\n",
    "                ys = polygon_ys - ymin\n",
    "                xs = polygon_xs - xmin\n",
    "\n",
    "                valid = (ys >= 0) & (ys < tb_ydim*2) & (xs >= 0) & (xs < tb_xdim*2)\n",
    "\n",
    "                ys = ys[valid]\n",
    "                xs = xs[valid]\n",
    "\n",
    "                tb_volume_scaledToScoreVolume[ys, xs, z] = 1"
   ]
  },
  {
   "cell_type": "code",
   "execution_count": 28,
   "metadata": {
    "collapsed": false
   },
   "outputs": [],
   "source": [
    "launch_vtk([actor_volume(tb_volume_scaledToScoreVolume, 'tb')])"
   ]
  },
  {
   "cell_type": "code",
   "execution_count": null,
   "metadata": {
    "collapsed": true
   },
   "outputs": [],
   "source": []
  }
 ],
 "metadata": {
  "kernelspec": {
   "display_name": "Python 2",
   "language": "python",
   "name": "python2"
  },
  "language_info": {
   "codemirror_mode": {
    "name": "ipython",
    "version": 2
   },
   "file_extension": ".py",
   "mimetype": "text/x-python",
   "name": "python",
   "nbconvert_exporter": "python",
   "pygments_lexer": "ipython2",
   "version": "2.7.6"
  }
 },
 "nbformat": 4,
 "nbformat_minor": 0
}
