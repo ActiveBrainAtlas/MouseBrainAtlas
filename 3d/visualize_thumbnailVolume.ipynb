{
 "cells": [
  {
   "cell_type": "code",
   "execution_count": 1,
   "metadata": {},
   "outputs": [
    {
     "name": "stdout",
     "output_type": "stream",
     "text": [
      "Setting environment for Local Macbook Pro\n"
     ]
    }
   ],
   "source": [
    "%reload_ext autoreload\n",
    "%autoreload 2\n",
    "\n",
    "import vtk\n",
    "from vtk.util import numpy_support\n",
    "\n",
    "import numpy as np\n",
    "import bloscpack as bp\n",
    "import time\n",
    "import sys\n",
    "import os\n",
    "sys.path.append(os.path.join(os.environ['REPO_DIR'], 'utilities'))\n",
    "\n",
    "from utilities2015 import *\n",
    "from annotation_utilities import *\n",
    "from metadata import *\n",
    "from data_manager import *\n",
    "\n",
    "import matplotlib.pyplot as plt\n",
    "%matplotlib inline\n",
    "\n",
    "from vis3d_utilities import *"
   ]
  },
  {
   "cell_type": "code",
   "execution_count": 2,
   "metadata": {
    "collapsed": true
   },
   "outputs": [],
   "source": [
    "stack = 'MD589'"
   ]
  },
  {
   "cell_type": "markdown",
   "metadata": {},
   "source": [
    "# Visualize thumbnail volume itself"
   ]
  },
  {
   "cell_type": "code",
   "execution_count": 26,
   "metadata": {},
   "outputs": [],
   "source": [
    "tb_volume = DataManager.load_intensity_volume(stack=stack)\n",
    "\n",
    "launch_vtk([actor_volume(tb_volume[:,:,tb_volume.shape[2]*1/3:], what='tb', tb_opacity=0.5)], \n",
    "           window_name='Thumbnail Volume %(stack)s' % {'stack': stack},\n",
    "          init_angle='45')"
   ]
  },
  {
   "cell_type": "markdown",
   "metadata": {
    "collapsed": true
   },
   "source": [
    "# Visualize thumbnail volume with annotation"
   ]
  },
  {
   "cell_type": "code",
   "execution_count": 83,
   "metadata": {},
   "outputs": [
    {
     "name": "stdout",
     "output_type": "stream",
     "text": [
      "aws s3 cp --recursive \"s3://mousebrainatlas-data/CSHL_labelings_v3/MD589\" \"/home/yuncong/CSHL_labelings_v3/MD589\" --exclude \"*\" --include \"*contours*\"\n",
      "latest timestamp:  07292017045157\n"
     ]
    }
   ],
   "source": [
    "contour_df_rel2uncropped = DataManager.load_annotation_v4(stack=stack, suffix='contours', timestamp='latest')"
   ]
  },
  {
   "cell_type": "code",
   "execution_count": 85,
   "metadata": {},
   "outputs": [],
   "source": [
    "contour_df_rel2cropped = convert_annotation_v3_original_to_aligned_cropped(contour_df_rel2uncropped, stack=stack)"
   ]
  },
  {
   "cell_type": "code",
   "execution_count": 86,
   "metadata": {
    "collapsed": true
   },
   "outputs": [],
   "source": [
    "from skimage.draw import polygon_perimeter"
   ]
  },
  {
   "cell_type": "code",
   "execution_count": 87,
   "metadata": {
    "collapsed": true
   },
   "outputs": [],
   "source": [
    "tb_volume = DataManager.load_intensity_volume(stack=stack)\n",
    "tb_vol_ydim, tb_vol_xdim, tb_vol_zdim = tb_volume.shape"
   ]
  },
  {
   "cell_type": "code",
   "execution_count": 88,
   "metadata": {
    "collapsed": true
   },
   "outputs": [],
   "source": [
    "tb_volume = tb_volume.astype(np.float32)"
   ]
  },
  {
   "cell_type": "code",
   "execution_count": 89,
   "metadata": {},
   "outputs": [],
   "source": [
    "# Make contours have value x.5 (between integers)\n",
    "structure_to_value = {name_u: i % len(all_known_structures_sided) + 1.5 \n",
    "                      for i, name_u in enumerate(all_known_structures)}"
   ]
  },
  {
   "cell_type": "code",
   "execution_count": 95,
   "metadata": {},
   "outputs": [],
   "source": [
    "for i, name_u in enumerate(all_known_structures):\n",
    "\n",
    "    matched_contours = contour_df_rel2cropped[(contour_df_rel2cropped['name'] == name_u)]\n",
    "    \n",
    "    for cnt_id, cnt in matched_contours.iterrows():\n",
    "        fn = cnt['filename']\n",
    "        if fn not in metadata_cache['valid_filenames'][stack]:\n",
    "            continue\n",
    "        section = metadata_cache['filenames_to_sections'][stack][fn]\n",
    "        z = int(np.mean(DataManager.convert_section_to_z(stack=stack, sec=section, downsample=32)))\n",
    "        n = len(cnt['vertices'])\n",
    "        contour_3d = np.c_[cnt['vertices']/32, z*np.ones((n,))].astype(np.int)\n",
    "        \n",
    "        polygon_ys, polygon_xs = polygon_perimeter(contour_3d[:,1], contour_3d[:,0])\n",
    "        valid = (polygon_ys >= 0) & (polygon_ys < tb_vol_ydim) & (polygon_xs >= 0) & (polygon_xs < tb_vol_xdim)\n",
    "                \n",
    "        tb_volume[polygon_ys[valid], polygon_xs[valid], z] = structure_to_value[name_u]"
   ]
  },
  {
   "cell_type": "code",
   "execution_count": 98,
   "metadata": {},
   "outputs": [],
   "source": [
    "# All contours in red\n",
    "# tb_colors = {i % len(structures) + 1.5: (1.,0,0) for i, name_u in enumerate(structures)}\n",
    "\n",
    "# Different structures in different color\n",
    "# tb_colors = {i % len(structures) + 1.5: np.random.randint(0, 255, (3,))/255. for i, name_u in enumerate(structures)}\n",
    "# tb_colors = {i % len(all_known_structures) + 1.5: np.array(high_contrast_colors[np.random.randint(0, len(high_contrast_colors), 1)])/255. \n",
    "#              for i, name_u in enumerate(all_known_structures)}\n",
    "\n",
    "tb_colors = {i % len(all_known_structures) + 1.5: np.array(name_unsided_to_color[name_u])/255. \n",
    "             for i, name_u in enumerate(all_known_structures)}"
   ]
  },
  {
   "cell_type": "code",
   "execution_count": 100,
   "metadata": {},
   "outputs": [],
   "source": [
    "launch_vtk([actor_volume(tb_volume, 'tb', tb_colors=tb_colors)], init_angle='45')"
   ]
  },
  {
   "cell_type": "code",
   "execution_count": 101,
   "metadata": {
    "collapsed": true
   },
   "outputs": [],
   "source": [
    "cut_z = 100\n",
    "cut_xmin = 50\n",
    "cut_xmax = 500"
   ]
  },
  {
   "cell_type": "code",
   "execution_count": 103,
   "metadata": {},
   "outputs": [],
   "source": [
    "tb_volume_half = tb_volume.copy()\n",
    "tb_volume_half[:, :, :cut_z] = 0\n",
    "tb_volume_half[:, :cut_xmin, :] = 0\n",
    "tb_volume_half[:, cut_xmax:, :] = 0\n",
    "\n",
    "launch_vtk([actor_volume(tb_volume_half, 'tb', tb_colors=tb_colors)], init_angle='45')"
   ]
  },
  {
   "cell_type": "code",
   "execution_count": 104,
   "metadata": {
    "collapsed": true
   },
   "outputs": [],
   "source": [
    "tb_volume_sectioned = np.zeros_like(tb_volume)\n",
    "interval = 10\n",
    "# for z in range(tb_volume_sectioned.shape[2]/2, tb_volume_sectioned.shape[2], interval):\n",
    "for z in range(cut_z, tb_volume_sectioned.shape[2], interval):\n",
    "    tb_volume_sectioned[:, :, z:z+3] = tb_volume[:,:,z:z+3]"
   ]
  },
  {
   "cell_type": "code",
   "execution_count": 105,
   "metadata": {
    "collapsed": true
   },
   "outputs": [],
   "source": [
    "launch_vtk([actor_volume(tb_volume_sectioned, 'tb', tb_colors=tb_colors)], init_angle='45')"
   ]
  },
  {
   "cell_type": "code",
   "execution_count": 108,
   "metadata": {},
   "outputs": [],
   "source": [
    "tb_volume_piece = tb_volume[:,cut_xmin:cut_xmax+1,:cut_z+5].copy()\n",
    "tb_volume_piece[:, :, :cut_z] = 0\n",
    "\n",
    "launch_vtk([actor_volume(tb_volume_piece, 'tb', tb_colors=tb_colors, origin=(50,0,0), tb_opacity=.4),\n",
    "           actor_volume(tb_volume_sectioned, 'tb', tb_colors=tb_colors, tb_opacity=.01)],\n",
    "          init_angle='45')"
   ]
  },
  {
   "cell_type": "code",
   "execution_count": null,
   "metadata": {
    "collapsed": true
   },
   "outputs": [],
   "source": []
  },
  {
   "cell_type": "code",
   "execution_count": 260,
   "metadata": {
    "collapsed": true
   },
   "outputs": [],
   "source": [
    "# Plot VTK transfer function\n",
    "\n",
    "# compositeOpacity = vtk.vtkPiecewiseFunction()\n",
    "# compositeOpacity.AddPoint(0.0, 0.)\n",
    "# for v, c in sorted(tb_colors.items()):\n",
    "#     vl = v - .5\n",
    "#     vr = v + .5\n",
    "#     cp1 = vl-.25\n",
    "#     cp2 = vr-.25\n",
    "#     compositeOpacity.AddPoint(cp1, .5*cp1/200., .5, 1.)\n",
    "#     compositeOpacity.AddPoint(v, 1., .5, 1.)\n",
    "#     compositeOpacity.AddPoint(cp2, .5*cp2/200., .5, 1.)\n",
    "# compositeOpacity.AddPoint(vr, .5*vr/200.)\n",
    "# compositeOpacity.AddPoint(240., 0.05)\n",
    "# compositeOpacity.AddPoint(255.0, 0.05)\n",
    "\n",
    "# q = np.array([compositeOpacity.GetValue(v) for v in np.arange(0, 255, .1)])\n",
    "\n",
    "# plt.figure(figsize=(20,5));\n",
    "# plt.plot(np.arange(0, 255, .1), q);"
   ]
  }
 ],
 "metadata": {
  "kernelspec": {
   "display_name": "Python 2",
   "language": "python",
   "name": "python2"
  },
  "language_info": {
   "codemirror_mode": {
    "name": "ipython",
    "version": 2
   },
   "file_extension": ".py",
   "mimetype": "text/x-python",
   "name": "python",
   "nbconvert_exporter": "python",
   "pygments_lexer": "ipython2",
   "version": "2.7.12"
  }
 },
 "nbformat": 4,
 "nbformat_minor": 1
}
