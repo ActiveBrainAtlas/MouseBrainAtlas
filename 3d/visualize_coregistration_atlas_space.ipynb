{
 "cells": [
  {
   "cell_type": "code",
   "execution_count": 13,
   "metadata": {
    "collapsed": false
   },
   "outputs": [],
   "source": [
    "%reload_ext autoreload\n",
    "%autoreload 2\n",
    "\n",
    "import numpy as np\n",
    "import bloscpack as bp\n",
    "\n",
    "import sys\n",
    "import os\n",
    "sys.path.append(os.path.join(os.environ['REPO_DIR'], 'utilities'))\n",
    "from utilities2015 import *\n",
    "from annotation_utilities import *\n",
    "from registration_utilities import *\n",
    "from metadata import *\n",
    "from data_manager import *\n",
    "\n",
    "import pandas as pd\n",
    "\n",
    "import time\n",
    "\n",
    "import matplotlib.pyplot as plt\n",
    "%matplotlib inline\n",
    "\n",
    "from vis3d_utilities import *"
   ]
  },
  {
   "cell_type": "code",
   "execution_count": 2,
   "metadata": {
    "collapsed": true
   },
   "outputs": [],
   "source": [
    "with open('colors.txt', 'r') as f:\n",
    "    colors = {l[0]: np.r_[float(l[1]), float(l[2]), float(l[3])] for l in map(lambda x: x.split(), f.readlines())}"
   ]
  },
  {
   "cell_type": "code",
   "execution_count": 3,
   "metadata": {
    "collapsed": true
   },
   "outputs": [],
   "source": [
    "train_sample_scheme = 1\n",
    "global_transform_scheme = 1\n",
    "local_transform_scheme = 1"
   ]
  },
  {
   "cell_type": "code",
   "execution_count": 4,
   "metadata": {
    "collapsed": true
   },
   "outputs": [],
   "source": [
    "stack = 'MD590'"
   ]
  },
  {
   "cell_type": "code",
   "execution_count": 5,
   "metadata": {
    "collapsed": true
   },
   "outputs": [],
   "source": [
    "paired_structures = ['5N', '6N', '7N', '7n', 'Amb', 'LC', 'LRt', 'Pn', 'Tz', 'VLL', 'RMC', 'SNC', 'SNR', '3N', '4N',\n",
    "                    'Sp5I', 'Sp5O', 'Sp5C', 'PBG', '10N', 'VCA', 'VCP', 'DC']\n",
    "singular_structures = ['AP', '12N', 'RtTg', 'SC', 'IC']\n",
    "structures = paired_structures + singular_structures\n",
    "\n",
    "structure_colors = {n: np.random.randint(0, 255, (3,)) for n in structures}\n",
    "# with open('colors.txt', 'r') as f:\n",
    "#     colors = {l[0]: np.r_[float(l[1]), float(l[2]), float(l[3])] for l in map(lambda x: x.split(), f.readlines())}"
   ]
  },
  {
   "cell_type": "code",
   "execution_count": 11,
   "metadata": {
    "collapsed": true
   },
   "outputs": [],
   "source": [
    "structures_sided = sum([[n] if n in singular_structures else [convert_to_left_name(n), convert_to_right_name(n)]\n",
    "                        for n in structures], [])"
   ]
  },
  {
   "cell_type": "code",
   "execution_count": 18,
   "metadata": {
    "collapsed": false,
    "scrolled": true
   },
   "outputs": [
    {
     "name": "stdout",
     "output_type": "stream",
     "text": [
      "5N_L\n"
     ]
    },
    {
     "name": "stderr",
     "output_type": "stream",
     "text": [
      "marching cube: 0.02 seconds\n",
      "compute surface area: 0.00 seconds\n",
      "mesh_to_polydata: 0.01 seconds\n",
      "simplify 0 @ 11612: 0.10 seconds\n",
      "simplify 1 @ 2313: 0.09 seconds\n",
      "simplify 2 @ 464: 0.02 seconds\n",
      "time: 0.25\n"
     ]
    },
    {
     "name": "stdout",
     "output_type": "stream",
     "text": [
      "5N_R\n"
     ]
    },
    {
     "name": "stderr",
     "output_type": "stream",
     "text": [
      "marching cube: 0.02 seconds\n",
      "compute surface area: 0.00 seconds\n",
      "mesh_to_polydata: 0.01 seconds\n",
      "simplify 0 @ 12044: 0.10 seconds\n",
      "simplify 1 @ 2389: 0.14 seconds\n",
      "simplify 2 @ 480: 0.02 seconds\n",
      "time: 0.31\n"
     ]
    },
    {
     "name": "stdout",
     "output_type": "stream",
     "text": [
      "6N_L\n"
     ]
    },
    {
     "name": "stderr",
     "output_type": "stream",
     "text": [
      "marching cube: 0.01 seconds\n",
      "compute surface area: 0.00 seconds\n",
      "mesh_to_polydata: 0.00 seconds\n",
      "simplify 0 @ 2138: 0.02 seconds\n",
      "simplify 1 @ 430: 0.02 seconds\n",
      "time: 0.05\n"
     ]
    },
    {
     "name": "stdout",
     "output_type": "stream",
     "text": [
      "6N_R\n"
     ]
    },
    {
     "name": "stderr",
     "output_type": "stream",
     "text": [
      "marching cube: 0.00 seconds\n",
      "compute surface area: 0.00 seconds\n",
      "mesh_to_polydata: 0.00 seconds\n",
      "simplify 0 @ 1357: 0.01 seconds\n",
      "simplify 1 @ 271: 0.01 seconds\n",
      "time: 0.03\n"
     ]
    },
    {
     "name": "stdout",
     "output_type": "stream",
     "text": [
      "7N_L\n"
     ]
    },
    {
     "name": "stderr",
     "output_type": "stream",
     "text": [
      "marching cube: 0.04 seconds\n",
      "compute surface area: 0.01 seconds\n",
      "mesh_to_polydata: 0.04 seconds\n",
      "simplify 0 @ 29571: 0.25 seconds\n",
      "simplify 1 @ 5873: 0.28 seconds\n",
      "simplify 2 @ 1170: 0.06 seconds\n",
      "time: 0.68\n"
     ]
    },
    {
     "name": "stdout",
     "output_type": "stream",
     "text": [
      "7N_R\n"
     ]
    },
    {
     "name": "stderr",
     "output_type": "stream",
     "text": [
      "marching cube: 0.04 seconds\n",
      "compute surface area: 0.01 seconds\n",
      "mesh_to_polydata: 0.02 seconds\n",
      "simplify 0 @ 19476: 0.16 seconds\n",
      "simplify 1 @ 3875: 0.17 seconds\n",
      "simplify 2 @ 773: 0.03 seconds\n",
      "time: 0.43\n"
     ]
    },
    {
     "name": "stdout",
     "output_type": "stream",
     "text": [
      "7n_L\n"
     ]
    },
    {
     "name": "stderr",
     "output_type": "stream",
     "text": [
      "marching cube: 0.09 seconds\n",
      "compute surface area: 0.00 seconds\n",
      "mesh_to_polydata: 0.02 seconds\n",
      "simplify 0 @ 16878: 0.14 seconds\n",
      "simplify 1 @ 3356: 0.14 seconds\n",
      "simplify 2 @ 672: 0.03 seconds\n",
      "time: 0.43\n"
     ]
    },
    {
     "name": "stdout",
     "output_type": "stream",
     "text": [
      "7n_R\n"
     ]
    },
    {
     "name": "stderr",
     "output_type": "stream",
     "text": [
      "marching cube: 0.15 seconds\n",
      "compute surface area: 0.01 seconds\n",
      "mesh_to_polydata: 0.03 seconds\n",
      "simplify 0 @ 13674: 0.20 seconds\n",
      "simplify 1 @ 2729: 0.20 seconds\n",
      "simplify 2 @ 547: 0.04 seconds\n",
      "time: 0.63\n"
     ]
    },
    {
     "name": "stdout",
     "output_type": "stream",
     "text": [
      "Amb_L\n"
     ]
    },
    {
     "name": "stderr",
     "output_type": "stream",
     "text": [
      "marching cube: 0.01 seconds\n",
      "compute surface area: 0.00 seconds\n",
      "mesh_to_polydata: 0.01 seconds\n",
      "simplify 0 @ 2084: 0.04 seconds\n",
      "simplify 1 @ 420: 0.03 seconds\n",
      "time: 0.10\n"
     ]
    },
    {
     "name": "stdout",
     "output_type": "stream",
     "text": [
      "Amb_R\n"
     ]
    },
    {
     "name": "stderr",
     "output_type": "stream",
     "text": [
      "marching cube: 0.00 seconds\n",
      "compute surface area: 0.00 seconds\n",
      "mesh_to_polydata: 0.01 seconds\n",
      "simplify 0 @ 1800: 0.04 seconds\n",
      "simplify 1 @ 359: 0.03 seconds\n",
      "time: 0.08\n"
     ]
    },
    {
     "name": "stdout",
     "output_type": "stream",
     "text": [
      "LC_L\n"
     ]
    },
    {
     "name": "stderr",
     "output_type": "stream",
     "text": [
      "marching cube: 0.02 seconds\n",
      "compute surface area: 0.00 seconds\n",
      "mesh_to_polydata: 0.01 seconds\n",
      "simplify 0 @ 7826: 0.07 seconds\n",
      "simplify 1 @ 1555: 0.06 seconds\n",
      "simplify 2 @ 312: 0.01 seconds\n",
      "time: 0.18\n"
     ]
    },
    {
     "name": "stdout",
     "output_type": "stream",
     "text": [
      "LC_R\n"
     ]
    },
    {
     "name": "stderr",
     "output_type": "stream",
     "text": [
      "marching cube: 0.01 seconds\n",
      "compute surface area: 0.00 seconds\n",
      "mesh_to_polydata: 0.01 seconds\n",
      "simplify 0 @ 5437: 0.05 seconds\n",
      "simplify 1 @ 1086: 0.05 seconds\n",
      "simplify 2 @ 218: 0.01 seconds\n",
      "time: 0.13\n"
     ]
    },
    {
     "name": "stdout",
     "output_type": "stream",
     "text": [
      "LRt_L\n"
     ]
    },
    {
     "name": "stderr",
     "output_type": "stream",
     "text": [
      "marching cube: 0.04 seconds\n",
      "compute surface area: 0.00 seconds\n",
      "mesh_to_polydata: 0.02 seconds\n",
      "simplify 0 @ 16356: 0.17 seconds\n",
      "simplify 1 @ 3255: 0.16 seconds\n",
      "simplify 2 @ 650: 0.04 seconds\n",
      "time: 0.44\n"
     ]
    },
    {
     "name": "stdout",
     "output_type": "stream",
     "text": [
      "LRt_R\n"
     ]
    },
    {
     "name": "stderr",
     "output_type": "stream",
     "text": [
      "marching cube: 0.07 seconds\n",
      "compute surface area: 0.01 seconds\n",
      "mesh_to_polydata: 0.04 seconds\n",
      "simplify 0 @ 32423: 0.27 seconds\n",
      "simplify 1 @ 6482: 0.34 seconds\n",
      "simplify 2 @ 1306: 0.07 seconds\n",
      "time: 0.81\n"
     ]
    },
    {
     "name": "stdout",
     "output_type": "stream",
     "text": [
      "Pn_L\n"
     ]
    },
    {
     "name": "stderr",
     "output_type": "stream",
     "text": [
      "marching cube: 0.11 seconds\n",
      "compute surface area: 0.02 seconds\n",
      "mesh_to_polydata: 0.09 seconds\n",
      "simplify 0 @ 29818: 0.52 seconds\n",
      "simplify 1 @ 5904: 0.50 seconds\n",
      "simplify 2 @ 1180: 0.11 seconds\n",
      "time: 1.37\n"
     ]
    },
    {
     "name": "stdout",
     "output_type": "stream",
     "text": [
      "Pn_R\n"
     ]
    },
    {
     "name": "stderr",
     "output_type": "stream",
     "text": [
      "marching cube: 0.12 seconds\n",
      "compute surface area: 0.01 seconds\n",
      "mesh_to_polydata: 0.06 seconds\n",
      "simplify 0 @ 29068: 0.40 seconds\n",
      "simplify 1 @ 5796: 0.46 seconds\n",
      "simplify 2 @ 1164: 0.10 seconds\n",
      "time: 1.16\n"
     ]
    },
    {
     "name": "stdout",
     "output_type": "stream",
     "text": [
      "Tz_L\n"
     ]
    },
    {
     "name": "stderr",
     "output_type": "stream",
     "text": [
      "marching cube: 0.02 seconds\n",
      "compute surface area: 0.00 seconds\n",
      "mesh_to_polydata: 0.02 seconds\n",
      "simplify 0 @ 12529: 0.12 seconds\n",
      "simplify 1 @ 2492: 0.12 seconds\n",
      "simplify 2 @ 499: 0.03 seconds\n",
      "time: 0.31\n"
     ]
    },
    {
     "name": "stdout",
     "output_type": "stream",
     "text": [
      "Tz_R\n"
     ]
    },
    {
     "name": "stderr",
     "output_type": "stream",
     "text": [
      "marching cube: 0.02 seconds\n",
      "compute surface area: 0.00 seconds\n",
      "mesh_to_polydata: 0.01 seconds\n",
      "simplify 0 @ 9764: 0.09 seconds\n",
      "simplify 1 @ 1947: 0.08 seconds\n",
      "simplify 2 @ 388: 0.02 seconds\n",
      "time: 0.23\n"
     ]
    },
    {
     "name": "stdout",
     "output_type": "stream",
     "text": [
      "VLL_L\n"
     ]
    },
    {
     "name": "stderr",
     "output_type": "stream",
     "text": [
      "marching cube: 0.17 seconds\n",
      "compute surface area: 0.01 seconds\n",
      "mesh_to_polydata: 0.03 seconds\n",
      "simplify 0 @ 23260: 0.26 seconds\n",
      "simplify 1 @ 4621: 0.24 seconds\n",
      "simplify 2 @ 923: 0.05 seconds\n",
      "time: 0.76\n"
     ]
    },
    {
     "name": "stdout",
     "output_type": "stream",
     "text": [
      "VLL_R\n"
     ]
    },
    {
     "name": "stderr",
     "output_type": "stream",
     "text": [
      "marching cube: 0.07 seconds\n",
      "compute surface area: 0.00 seconds\n",
      "mesh_to_polydata: 0.02 seconds\n",
      "simplify 0 @ 16181: 0.17 seconds\n",
      "simplify 1 @ 3215: 0.16 seconds\n",
      "simplify 2 @ 644: 0.06 seconds\n",
      "time: 0.49\n"
     ]
    },
    {
     "name": "stdout",
     "output_type": "stream",
     "text": [
      "RMC_L\n"
     ]
    },
    {
     "name": "stderr",
     "output_type": "stream",
     "text": [
      "marching cube: 0.03 seconds\n",
      "compute surface area: 0.00 seconds\n",
      "mesh_to_polydata: 0.02 seconds\n",
      "simplify 0 @ 8838: 0.13 seconds\n",
      "simplify 1 @ 1760: 0.16 seconds\n",
      "simplify 2 @ 353: 0.04 seconds\n",
      "time: 0.38\n"
     ]
    },
    {
     "name": "stdout",
     "output_type": "stream",
     "text": [
      "RMC_R\n"
     ]
    },
    {
     "name": "stderr",
     "output_type": "stream",
     "text": [
      "marching cube: 0.04 seconds\n",
      "compute surface area: 0.01 seconds\n",
      "mesh_to_polydata: 0.03 seconds\n",
      "simplify 0 @ 11039: 0.18 seconds\n",
      "simplify 1 @ 2201: 0.17 seconds\n",
      "simplify 2 @ 441: 0.04 seconds\n",
      "time: 0.46\n"
     ]
    },
    {
     "name": "stdout",
     "output_type": "stream",
     "text": [
      "SNC_L\n"
     ]
    },
    {
     "name": "stderr",
     "output_type": "stream",
     "text": [
      "marching cube: 0.04 seconds\n",
      "compute surface area: 0.00 seconds\n",
      "mesh_to_polydata: 0.02 seconds\n",
      "simplify 0 @ 9154: 0.12 seconds\n",
      "simplify 1 @ 1821: 0.09 seconds\n",
      "simplify 2 @ 362: 0.02 seconds\n",
      "time: 0.30\n"
     ]
    },
    {
     "name": "stdout",
     "output_type": "stream",
     "text": [
      "SNC_R\n"
     ]
    },
    {
     "name": "stderr",
     "output_type": "stream",
     "text": [
      "marching cube: 0.01 seconds\n",
      "compute surface area: 0.00 seconds\n",
      "mesh_to_polydata: 0.00 seconds\n",
      "simplify 0 @ 2522: 0.02 seconds\n",
      "simplify 1 @ 495: 0.02 seconds\n",
      "time: 0.06\n"
     ]
    },
    {
     "name": "stdout",
     "output_type": "stream",
     "text": [
      "SNR_L\n"
     ]
    },
    {
     "name": "stderr",
     "output_type": "stream",
     "text": [
      "marching cube: 0.21 seconds\n",
      "compute surface area: 0.01 seconds\n",
      "mesh_to_polydata: 0.06 seconds\n",
      "simplify 0 @ 44027: 0.41 seconds\n",
      "simplify 1 @ 8749: 0.46 seconds\n",
      "simplify 2 @ 1749: 0.10 seconds\n",
      "time: 1.26\n"
     ]
    },
    {
     "name": "stdout",
     "output_type": "stream",
     "text": [
      "SNR_R\n"
     ]
    },
    {
     "name": "stderr",
     "output_type": "stream",
     "text": [
      "marching cube: 0.79 seconds\n",
      "compute surface area: 0.02 seconds\n",
      "mesh_to_polydata: 0.09 seconds\n",
      "simplify 0 @ 39158: 0.62 seconds\n",
      "simplify 1 @ 7772: 0.66 seconds\n",
      "simplify 2 @ 1554: 0.15 seconds\n",
      "time: 2.35\n"
     ]
    },
    {
     "name": "stdout",
     "output_type": "stream",
     "text": [
      "3N_L\n"
     ]
    },
    {
     "name": "stderr",
     "output_type": "stream",
     "text": [
      "marching cube: 0.01 seconds\n",
      "compute surface area: 0.00 seconds\n",
      "mesh_to_polydata: 0.01 seconds\n",
      "simplify 0 @ 3535: 0.06 seconds\n",
      "simplify 1 @ 707: 0.05 seconds\n",
      "time: 0.15\n"
     ]
    },
    {
     "name": "stdout",
     "output_type": "stream",
     "text": [
      "3N_R\n"
     ]
    },
    {
     "name": "stderr",
     "output_type": "stream",
     "text": [
      "marching cube: 0.02 seconds\n",
      "compute surface area: 0.00 seconds\n",
      "mesh_to_polydata: 0.01 seconds\n",
      "simplify 0 @ 6262: 0.07 seconds\n",
      "simplify 1 @ 1246: 0.06 seconds\n",
      "simplify 2 @ 251: 0.01 seconds\n",
      "time: 0.18\n"
     ]
    },
    {
     "name": "stdout",
     "output_type": "stream",
     "text": [
      "4N_L\n"
     ]
    },
    {
     "name": "stderr",
     "output_type": "stream",
     "text": [
      "marching cube: 0.00 seconds\n",
      "compute surface area: 0.00 seconds\n",
      "mesh_to_polydata: 0.00 seconds\n",
      "simplify 0 @ 791: 0.01 seconds\n",
      "time: 0.02\n"
     ]
    },
    {
     "name": "stdout",
     "output_type": "stream",
     "text": [
      "4N_R\n"
     ]
    },
    {
     "name": "stderr",
     "output_type": "stream",
     "text": [
      "marching cube: 0.00 seconds\n",
      "compute surface area: 0.00 seconds\n",
      "mesh_to_polydata: 0.00 seconds\n",
      "simplify 0 @ 522: 0.01 seconds\n",
      "time: 0.01\n"
     ]
    },
    {
     "name": "stdout",
     "output_type": "stream",
     "text": [
      "Sp5I_L\n"
     ]
    },
    {
     "name": "stderr",
     "output_type": "stream",
     "text": [
      "marching cube: 0.10 seconds\n",
      "compute surface area: 0.01 seconds\n",
      "mesh_to_polydata: 0.04 seconds\n",
      "simplify 0 @ 28140: 0.37 seconds\n",
      "simplify 1 @ 5579: 0.30 seconds\n",
      "simplify 2 @ 1106: 0.07 seconds\n",
      "time: 0.90\n"
     ]
    },
    {
     "name": "stdout",
     "output_type": "stream",
     "text": [
      "Sp5I_R\n"
     ]
    },
    {
     "name": "stderr",
     "output_type": "stream",
     "text": [
      "marching cube: 0.04 seconds\n",
      "compute surface area: 0.01 seconds\n",
      "mesh_to_polydata: 0.03 seconds\n",
      "simplify 0 @ 21801: 0.23 seconds\n",
      "simplify 1 @ 4324: 0.22 seconds\n",
      "simplify 2 @ 866: 0.04 seconds\n",
      "time: 0.59\n"
     ]
    },
    {
     "name": "stdout",
     "output_type": "stream",
     "text": [
      "Sp5O_L\n"
     ]
    },
    {
     "name": "stderr",
     "output_type": "stream",
     "text": [
      "marching cube: 0.14 seconds\n",
      "compute surface area: 0.02 seconds\n",
      "mesh_to_polydata: 0.08 seconds\n",
      "simplify 0 @ 28300: 0.68 seconds\n",
      "simplify 1 @ 5605: 0.47 seconds\n",
      "simplify 2 @ 1104: 0.09 seconds\n",
      "time: 1.50\n"
     ]
    },
    {
     "name": "stdout",
     "output_type": "stream",
     "text": [
      "Sp5O_R\n"
     ]
    },
    {
     "name": "stderr",
     "output_type": "stream",
     "text": [
      "marching cube: 0.20 seconds\n",
      "compute surface area: 0.02 seconds\n",
      "mesh_to_polydata: 0.08 seconds\n",
      "simplify 0 @ 27213: 0.58 seconds\n",
      "simplify 1 @ 5383: 0.30 seconds\n",
      "simplify 2 @ 1069: 0.06 seconds\n",
      "time: 1.24\n"
     ]
    },
    {
     "name": "stdout",
     "output_type": "stream",
     "text": [
      "Sp5C_L\n"
     ]
    },
    {
     "name": "stderr",
     "output_type": "stream",
     "text": [
      "marching cube: 0.23 seconds\n",
      "compute surface area: 0.02 seconds\n",
      "mesh_to_polydata: 0.08 seconds\n",
      "simplify 0 @ 61304: 0.61 seconds\n",
      "simplify 1 @ 12182: 0.77 seconds\n",
      "simplify 2 @ 2430: 0.15 seconds\n",
      "time: 1.86\n"
     ]
    },
    {
     "name": "stdout",
     "output_type": "stream",
     "text": [
      "Sp5C_R\n"
     ]
    },
    {
     "name": "stderr",
     "output_type": "stream",
     "text": [
      "marching cube: 0.21 seconds\n",
      "compute surface area: 0.02 seconds\n",
      "mesh_to_polydata: 0.08 seconds\n",
      "simplify 0 @ 57026: 0.82 seconds\n",
      "simplify 1 @ 11294: 0.97 seconds\n",
      "simplify 2 @ 2262: 0.21 seconds\n",
      "time: 2.31\n"
     ]
    },
    {
     "name": "stdout",
     "output_type": "stream",
     "text": [
      "PBG_L\n"
     ]
    },
    {
     "name": "stderr",
     "output_type": "stream",
     "text": [
      "marching cube: 0.01 seconds\n",
      "compute surface area: 0.00 seconds\n",
      "mesh_to_polydata: 0.00 seconds\n",
      "simplify 0 @ 1216: 0.03 seconds\n",
      "simplify 1 @ 245: 0.02 seconds\n",
      "time: 0.07\n"
     ]
    },
    {
     "name": "stdout",
     "output_type": "stream",
     "text": [
      "PBG_R\n"
     ]
    },
    {
     "name": "stderr",
     "output_type": "stream",
     "text": [
      "marching cube: 0.02 seconds\n",
      "compute surface area: 0.00 seconds\n",
      "mesh_to_polydata: 0.01 seconds\n",
      "simplify 0 @ 3503: 0.06 seconds\n",
      "simplify 1 @ 696: 0.04 seconds\n",
      "time: 0.14\n"
     ]
    },
    {
     "name": "stdout",
     "output_type": "stream",
     "text": [
      "10N_L\n"
     ]
    },
    {
     "name": "stderr",
     "output_type": "stream",
     "text": [
      "marching cube: 0.03 seconds\n",
      "compute surface area: 0.00 seconds\n",
      "mesh_to_polydata: 0.01 seconds\n",
      "simplify 0 @ 7883: 0.06 seconds\n",
      "simplify 1 @ 1570: 0.07 seconds\n",
      "simplify 2 @ 313: 0.01 seconds\n",
      "time: 0.19\n"
     ]
    },
    {
     "name": "stdout",
     "output_type": "stream",
     "text": [
      "10N_R\n"
     ]
    },
    {
     "name": "stderr",
     "output_type": "stream",
     "text": [
      "marching cube: 0.05 seconds\n",
      "compute surface area: 0.00 seconds\n",
      "mesh_to_polydata: 0.01 seconds\n",
      "simplify 0 @ 6328: 0.05 seconds\n",
      "simplify 1 @ 1262: 0.05 seconds\n",
      "simplify 2 @ 254: 0.01 seconds\n",
      "time: 0.18\n"
     ]
    },
    {
     "name": "stdout",
     "output_type": "stream",
     "text": [
      "VCA_L\n"
     ]
    },
    {
     "name": "stderr",
     "output_type": "stream",
     "text": [
      "marching cube: 0.05 seconds\n",
      "compute surface area: 0.01 seconds\n",
      "mesh_to_polydata: 0.03 seconds\n",
      "simplify 0 @ 23678: 0.30 seconds\n",
      "simplify 1 @ 4679: 0.23 seconds\n",
      "simplify 2 @ 934: 0.05 seconds\n",
      "time: 0.67\n"
     ]
    },
    {
     "name": "stdout",
     "output_type": "stream",
     "text": [
      "VCA_R\n"
     ]
    },
    {
     "name": "stderr",
     "output_type": "stream",
     "text": [
      "marching cube: 0.06 seconds\n",
      "compute surface area: 0.01 seconds\n",
      "mesh_to_polydata: 0.03 seconds\n",
      "simplify 0 @ 23298: 0.23 seconds\n",
      "simplify 1 @ 4619: 0.26 seconds\n",
      "simplify 2 @ 927: 0.08 seconds\n",
      "time: 0.67\n"
     ]
    },
    {
     "name": "stdout",
     "output_type": "stream",
     "text": [
      "VCP_L\n"
     ]
    },
    {
     "name": "stderr",
     "output_type": "stream",
     "text": [
      "marching cube: 0.06 seconds\n",
      "compute surface area: 0.01 seconds\n",
      "mesh_to_polydata: 0.04 seconds\n",
      "simplify 0 @ 15892: 0.25 seconds\n",
      "simplify 1 @ 3162: 0.23 seconds\n",
      "simplify 2 @ 632: 0.05 seconds\n",
      "time: 0.64\n"
     ]
    },
    {
     "name": "stdout",
     "output_type": "stream",
     "text": [
      "VCP_R\n"
     ]
    },
    {
     "name": "stderr",
     "output_type": "stream",
     "text": [
      "marching cube: 0.07 seconds\n",
      "compute surface area: 0.01 seconds\n",
      "mesh_to_polydata: 0.03 seconds\n",
      "simplify 0 @ 14603: 0.24 seconds\n",
      "simplify 1 @ 2896: 0.22 seconds\n",
      "simplify 2 @ 577: 0.05 seconds\n",
      "time: 0.62\n"
     ]
    },
    {
     "name": "stdout",
     "output_type": "stream",
     "text": [
      "DC_L\n"
     ]
    },
    {
     "name": "stderr",
     "output_type": "stream",
     "text": [
      "marching cube: 0.08 seconds\n",
      "compute surface area: 0.01 seconds\n",
      "mesh_to_polydata: 0.03 seconds\n",
      "simplify 0 @ 26304: 0.25 seconds\n",
      "simplify 1 @ 5224: 0.26 seconds\n",
      "simplify 2 @ 1044: 0.06 seconds\n",
      "time: 0.69\n"
     ]
    },
    {
     "name": "stdout",
     "output_type": "stream",
     "text": [
      "DC_R\n"
     ]
    },
    {
     "name": "stderr",
     "output_type": "stream",
     "text": [
      "marching cube: 0.06 seconds\n",
      "compute surface area: 0.01 seconds\n",
      "mesh_to_polydata: 0.03 seconds\n",
      "simplify 0 @ 26389: 0.29 seconds\n",
      "simplify 1 @ 5220: 0.28 seconds\n",
      "simplify 2 @ 1036: 0.06 seconds\n",
      "time: 0.73\n"
     ]
    },
    {
     "name": "stdout",
     "output_type": "stream",
     "text": [
      "AP\n"
     ]
    },
    {
     "name": "stderr",
     "output_type": "stream",
     "text": [
      "marching cube: 0.01 seconds\n",
      "compute surface area: 0.00 seconds\n",
      "mesh_to_polydata: 0.01 seconds\n",
      "simplify 0 @ 4369: 0.04 seconds\n",
      "simplify 1 @ 872: 0.03 seconds\n",
      "time: 0.10\n"
     ]
    },
    {
     "name": "stdout",
     "output_type": "stream",
     "text": [
      "12N\n"
     ]
    },
    {
     "name": "stderr",
     "output_type": "stream",
     "text": [
      "marching cube: 0.05 seconds\n",
      "compute surface area: 0.01 seconds\n",
      "mesh_to_polydata: 0.03 seconds\n",
      "simplify 0 @ 21570: 0.19 seconds\n",
      "simplify 1 @ 4307: 0.21 seconds\n",
      "simplify 2 @ 859: 0.04 seconds\n",
      "time: 0.53\n"
     ]
    },
    {
     "name": "stdout",
     "output_type": "stream",
     "text": [
      "RtTg\n"
     ]
    },
    {
     "name": "stderr",
     "output_type": "stream",
     "text": [
      "marching cube: 0.36 seconds\n",
      "compute surface area: 0.03 seconds\n",
      "mesh_to_polydata: 0.14 seconds\n",
      "simplify 0 @ 55612: 1.26 seconds\n",
      "simplify 1 @ 10952: 0.99 seconds\n",
      "simplify 2 @ 2123: 0.21 seconds\n",
      "time: 3.01\n"
     ]
    },
    {
     "name": "stdout",
     "output_type": "stream",
     "text": [
      "SC\n"
     ]
    },
    {
     "name": "stderr",
     "output_type": "stream",
     "text": [
      "marching cube: 0.85 seconds\n",
      "compute surface area: 0.12 seconds\n",
      "mesh_to_polydata: 0.33 seconds\n",
      "simplify 0 @ 250365: 3.00 seconds\n",
      "simplify 1 @ 49111: 4.16 seconds\n",
      "simplify 2 @ 9772: 0.69 seconds\n",
      "time: 9.21\n"
     ]
    },
    {
     "name": "stdout",
     "output_type": "stream",
     "text": [
      "IC\n"
     ]
    },
    {
     "name": "stderr",
     "output_type": "stream",
     "text": [
      "marching cube: 0.55 seconds\n",
      "compute surface area: 0.04 seconds\n",
      "mesh_to_polydata: 0.18 seconds\n",
      "simplify 0 @ 140126: 1.31 seconds\n",
      "simplify 1 @ 27718: 1.56 seconds\n",
      "simplify 2 @ 5537: 0.34 seconds\n",
      "time: 4.01\n"
     ]
    }
   ],
   "source": [
    "# Render globally transformed atlas structures\n",
    "\n",
    "for name_s in structures_sided:\n",
    "# for name_s in ['12N']:\n",
    "\n",
    "    print name_s\n",
    "    \n",
    "    reversed_volume = \\\n",
    "    DataManager.load_transformed_volume(stack_m='atlas_on_MD589', type_m='score', \n",
    "                                        stack_f=stack, type_f='score',\n",
    "                                        downscale=32, \n",
    "                                        train_sample_scheme_f=train_sample_scheme,\n",
    "                                        global_transform_scheme=global_transform_scheme,\n",
    "                                        local_transform_scheme=local_transform_scheme,\n",
    "                                        label=name_s, transitive='by')\n",
    "    \n",
    "    xmin, xmax, ymin, ymax, zmin, zmax = bbox_3d(reversed_volume)\n",
    "    vol = reversed_volume[ymin:ymax+1, xmin:xmax+1, zmin:zmax+1]\n",
    "    \n",
    "    dense_vol = fill_sparse_score_volume(vol)\n",
    "    \n",
    "    t = time.time()\n",
    "\n",
    "    polydata = volume_to_polydata(dense_vol, origin=(xmin,ymin,zmin), num_simplify_iter=3, smooth=True)\n",
    "\n",
    "    sys.stderr.write('time: %.2f\\n' % (time.time() - t))\n",
    "\n",
    "    mesh_fn = DataManager.get_transformed_volume_mesh_filepath(stack_m='atlas_on_MD589', type_m='score', \n",
    "                                                         stack_f=stack, type_f='score', \n",
    "                                                         downscale=32,\n",
    "                                                        train_sample_scheme_f=train_sample_scheme,\n",
    "                                                        global_transform_scheme=global_transform_scheme,\n",
    "                                                        local_transform_scheme=local_transform_scheme,\n",
    "                                                        label=name_s, transitive='by')     \n",
    "        \n",
    "    save_mesh(polydata, mesh_fn)"
   ]
  },
  {
   "cell_type": "code",
   "execution_count": 19,
   "metadata": {
    "collapsed": true
   },
   "outputs": [],
   "source": [
    "# Load locally transformed atlas structure meshes\n",
    "\n",
    "reversed_polydata_list = {}\n",
    "\n",
    "for name_s in structures_sided:\n",
    "    \n",
    "    mesh_fn = DataManager.get_transformed_volume_mesh_filepath(stack_m='atlas_on_MD589', type_m='score', \n",
    "                                                         stack_f=stack, type_f='score', \n",
    "                                                         downscale=32,\n",
    "                                                        train_sample_scheme_f=train_sample_scheme,\n",
    "                                                        global_transform_scheme=global_transform_scheme,\n",
    "                                                        local_transform_scheme=local_transform_scheme,\n",
    "                                                        label=name_s, transitive='by')     \n",
    "    \n",
    "    polydata = load_mesh_stl(mesh_fn, return_polydata_only=True)\n",
    "    reversed_polydata_list[name_s] = polydata"
   ]
  },
  {
   "cell_type": "code",
   "execution_count": 20,
   "metadata": {
    "collapsed": true
   },
   "outputs": [],
   "source": [
    "launch_vtk([actor_mesh(p, wireframe=True, color=structure_colors[convert_name_to_unsided(n)]/255., opacity=.3) \n",
    "            for n, p in reversed_polydata_list.iteritems()])"
   ]
  },
  {
   "cell_type": "code",
   "execution_count": 22,
   "metadata": {
    "collapsed": true
   },
   "outputs": [],
   "source": [
    "shell_mesh_fn = DataManager.get_shell_mesh_filepath(stack='MD589', downscale=32)\n",
    "shell_polydata = load_mesh_stl(shell_mesh_fn, return_polydata_only=True)"
   ]
  },
  {
   "cell_type": "code",
   "execution_count": 27,
   "metadata": {
    "collapsed": false
   },
   "outputs": [
    {
     "name": "stdout",
     "output_type": "stream",
     "text": [
      "crop: 569 1053 140 512\n"
     ]
    }
   ],
   "source": [
    "crop_xmin, crop_xmax, crop_ymin, crop_ymax = metadata_cache['cropbox']['MD589']\n",
    "print 'crop:', crop_xmin, crop_xmax, crop_ymin, crop_ymax"
   ]
  },
  {
   "cell_type": "code",
   "execution_count": 28,
   "metadata": {
    "collapsed": false
   },
   "outputs": [
    {
     "name": "stdout",
     "output_type": "stream",
     "text": [
      "fixed volume box: 0 484 0 372 123 503\n"
     ]
    }
   ],
   "source": [
    "tb_vol_xmin, tb_vol_xmax, tb_vol_ymin, tb_vol_ymax, tb_vol_zmin, tb_vol_zmax = \\\n",
    "DataManager.load_volume_bbox(stack='MD589', type='thumbnail', downscale=32)\n",
    "\n",
    "print 'fixed volume box:', tb_vol_xmin, tb_vol_xmax, tb_vol_ymin, tb_vol_ymax, tb_vol_zmin, tb_vol_zmax"
   ]
  },
  {
   "cell_type": "code",
   "execution_count": 30,
   "metadata": {
    "collapsed": false
   },
   "outputs": [],
   "source": [
    "launch_vtk([actor_mesh(p, \n",
    "                       wireframe=True, \n",
    "                       color=structure_colors[convert_name_to_unsided(n)]/255., \n",
    "                       opacity=.3,\n",
    "                      origin=(crop_xmin + tb_vol_xmin, crop_ymin + tb_vol_ymin, tb_vol_zmin))\n",
    "            for n, p in reversed_polydata_list.iteritems()] + \\\n",
    "           [actor_mesh(shell_polydata, opacity=.1)])"
   ]
  }
 ],
 "metadata": {
  "kernelspec": {
   "display_name": "Python 2",
   "language": "python",
   "name": "python2"
  },
  "language_info": {
   "codemirror_mode": {
    "name": "ipython",
    "version": 2
   },
   "file_extension": ".py",
   "mimetype": "text/x-python",
   "name": "python",
   "nbconvert_exporter": "python",
   "pygments_lexer": "ipython2",
   "version": "2.7.12"
  }
 },
 "nbformat": 4,
 "nbformat_minor": 1
}
