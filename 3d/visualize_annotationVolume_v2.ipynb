{
 "cells": [
  {
   "cell_type": "code",
   "execution_count": 1,
   "metadata": {},
   "outputs": [
    {
     "name": "stderr",
     "output_type": "stream",
     "text": [
      "/usr/local/lib/python2.7/dist-packages/matplotlib/__init__.py:1357: UserWarning:  This call to matplotlib.use() has no effect\n",
      "because the backend has already been chosen;\n",
      "matplotlib.use() must be called *before* pylab, matplotlib.pyplot,\n",
      "or matplotlib.backends is imported for the first time.\n",
      "\n",
      "  warnings.warn(_use_error_msg)\n"
     ]
    },
    {
     "name": "stdout",
     "output_type": "stream",
     "text": [
      "Setting environment for Local Macbook Pro\n"
     ]
    }
   ],
   "source": [
    "%reload_ext autoreload\n",
    "%autoreload 2\n",
    "\n",
    "import sys\n",
    "import os\n",
    "import time\n",
    "\n",
    "import numpy as np\n",
    "import bloscpack as bp\n",
    "import matplotlib.pyplot as plt\n",
    "%matplotlib inline\n",
    "import vtk\n",
    "from vtk.util import numpy_support\n",
    "\n",
    "sys.path.append(os.path.join(os.environ['REPO_DIR'], 'utilities'))\n",
    "from utilities2015 import *\n",
    "from annotation_utilities import *\n",
    "from metadata import *\n",
    "from vis3d_utilities import *"
   ]
  },
  {
   "cell_type": "code",
   "execution_count": 32,
   "metadata": {},
   "outputs": [],
   "source": [
    "stack = 'MD589'"
   ]
  },
  {
   "cell_type": "code",
   "execution_count": 33,
   "metadata": {
    "scrolled": true
   },
   "outputs": [],
   "source": [
    "label_to_name, name_to_label = DataManager.load_volume_label_to_name(stack=stack)"
   ]
  },
  {
   "cell_type": "code",
   "execution_count": 34,
   "metadata": {},
   "outputs": [
    {
     "name": "stdout",
     "output_type": "stream",
     "text": [
      "annotation volume bbox : 622 1042 155 502 128 503\n"
     ]
    }
   ],
   "source": [
    "vol_xmin, vol_xmax, vol_ymin, vol_ymax, vol_zmin, vol_zmax = \\\n",
    "DataManager.load_original_volume_bbox(stack=stack, volume_type='annotation', downscale=32)\n",
    "\n",
    "print 'annotation volume bbox :', vol_xmin, vol_xmax, vol_ymin, vol_ymax, vol_zmin, vol_zmax"
   ]
  },
  {
   "cell_type": "code",
   "execution_count": 35,
   "metadata": {},
   "outputs": [],
   "source": [
    "name_u_to_color = {name_u: np.array(random_colors(1)[0])/255.\n",
    "                            for name_u in set([convert_to_original_name(name_s) \n",
    "                                               for name_s in name_to_label.keys()])}"
   ]
  },
  {
   "cell_type": "markdown",
   "metadata": {
    "collapsed": true
   },
   "source": [
    "# Convert integer-valued annotation volume to structure meshes"
   ]
  },
  {
   "cell_type": "code",
   "execution_count": 36,
   "metadata": {},
   "outputs": [],
   "source": [
    "volume = DataManager.load_annotation_volume(stack=stack, downscale=32)"
   ]
  },
  {
   "cell_type": "code",
   "execution_count": 40,
   "metadata": {
    "scrolled": true
   },
   "outputs": [
    {
     "name": "stdout",
     "output_type": "stream",
     "text": [
      "LRt_R 260 342 283 330 239 292\n"
     ]
    },
    {
     "name": "stderr",
     "output_type": "stream",
     "text": [
      "marching cube: 0.45 seconds\n",
      "mesh_to_polydata: 0.35 seconds\n",
      "simplify 0 @ 11829: 1.77 seconds\n",
      "simplify 1 @ 2367: 0.20 seconds\n",
      "simplify 2 @ 475: 0.03 seconds\n",
      "time: 3.02\n"
     ]
    },
    {
     "name": "stdout",
     "output_type": "stream",
     "text": [
      "aws s3 cp \"/home/yuncong/CSHL_meshes/MD589/MD589_down32_annotationVolume/MD589_down32_annotationVolume_LRt_R.stl\" \"s3://mousebrainatlas-data/CSHL_meshes/MD589/MD589_down32_annotationVolume/MD589_down32_annotationVolume_LRt_R.stl\"\n",
      "Sp5C_L 299 416 224 335 49 103\n"
     ]
    },
    {
     "name": "stderr",
     "output_type": "stream",
     "text": [
      "marching cube: 1.11 seconds\n",
      "mesh_to_polydata: 0.23 seconds\n",
      "simplify 0 @ 23756: 1.58 seconds\n",
      "simplify 1 @ 4752: 0.71 seconds\n",
      "simplify 2 @ 952: 0.08 seconds\n",
      "time: 3.74\n"
     ]
    },
    {
     "name": "stdout",
     "output_type": "stream",
     "text": [
      "aws s3 cp \"/home/yuncong/CSHL_meshes/MD589/MD589_down32_annotationVolume/MD589_down32_annotationVolume_Sp5C_L.stl\" \"s3://mousebrainatlas-data/CSHL_meshes/MD589/MD589_down32_annotationVolume/MD589_down32_annotationVolume_Sp5C_L.stl\"\n",
      "Pn_L 38 94 247 317 110 178\n"
     ]
    },
    {
     "name": "stderr",
     "output_type": "stream",
     "text": [
      "marching cube: 0.20 seconds\n",
      "mesh_to_polydata: 0.07 seconds\n",
      "simplify 0 @ 17106: 0.25 seconds\n",
      "simplify 1 @ 3423: 0.20 seconds\n",
      "simplify 2 @ 686: 0.04 seconds\n",
      "time: 0.76\n"
     ]
    },
    {
     "name": "stdout",
     "output_type": "stream",
     "text": [
      "aws s3 cp \"/home/yuncong/CSHL_meshes/MD589/MD589_down32_annotationVolume/MD589_down32_annotationVolume_Pn_L.stl\" \"s3://mousebrainatlas-data/CSHL_meshes/MD589/MD589_down32_annotationVolume/MD589_down32_annotationVolume_Pn_L.stl\"\n",
      "7N_R 165 225 280 318 244 303\n"
     ]
    },
    {
     "name": "stderr",
     "output_type": "stream",
     "text": [
      "marching cube: 0.07 seconds\n",
      "mesh_to_polydata: 0.02 seconds\n",
      "simplify 0 @ 10315: 0.12 seconds\n"
     ]
    },
    {
     "name": "stdout",
     "output_type": "stream",
     "text": [
      "aws s3 cp \"/home/yuncong/CSHL_meshes/MD589/MD589_down32_annotationVolume/MD589_down32_annotationVolume_7N_R.stl\" \"s3://mousebrainatlas-data/CSHL_meshes/MD589/MD589_down32_annotationVolume/MD589_down32_annotationVolume_7N_R.stl\"\n",
      "PBG_L 100 121 128 157 35 56\n",
      "aws s3 cp \"/home/yuncong/CSHL_meshes/MD589/MD589_down32_annotationVolume/MD589_down32_annotationVolume_PBG_L.stl\" \"s3://mousebrainatlas-data/CSHL_meshes/MD589/MD589_down32_annotationVolume/MD589_down32_annotationVolume_PBG_L.stl\"\n"
     ]
    },
    {
     "name": "stderr",
     "output_type": "stream",
     "text": [
      "simplify 1 @ 2064: 0.10 seconds\n",
      "simplify 2 @ 414: 0.02 seconds\n",
      "time: 0.34\n",
      "marching cube: 0.01 seconds\n",
      "mesh_to_polydata: 0.01 seconds\n",
      "simplify 0 @ 1379: 0.03 seconds\n",
      "simplify 1 @ 277: 0.02 seconds\n",
      "simplify 2 @ 57: 0.01 seconds\n",
      "time: 0.08\n"
     ]
    },
    {
     "name": "stdout",
     "output_type": "stream",
     "text": [
      "VLL_L 74 152 138 305 50 103\n"
     ]
    },
    {
     "name": "stderr",
     "output_type": "stream",
     "text": [
      "marching cube: 0.34 seconds\n",
      "mesh_to_polydata: 0.06 seconds\n",
      "simplify 0 @ 13474: 0.35 seconds\n",
      "simplify 1 @ 2696: 0.23 seconds\n",
      "simplify 2 @ 540: 0.06 seconds\n",
      "time: 1.05\n"
     ]
    },
    {
     "name": "stdout",
     "output_type": "stream",
     "text": [
      "aws s3 cp \"/home/yuncong/CSHL_meshes/MD589/MD589_down32_annotationVolume/MD589_down32_annotationVolume_VLL_L.stl\" \"s3://mousebrainatlas-data/CSHL_meshes/MD589/MD589_down32_annotationVolume/MD589_down32_annotationVolume_VLL_L.stl\"\n",
      "VLL_R 73 136 154 293 272 311\n"
     ]
    },
    {
     "name": "stderr",
     "output_type": "stream",
     "text": [
      "marching cube: 0.10 seconds\n",
      "mesh_to_polydata: 0.02 seconds\n"
     ]
    },
    {
     "name": "stdout",
     "output_type": "stream",
     "text": [
      "aws s3 cp \"/home/yuncong/CSHL_meshes/MD589/MD589_down32_annotationVolume/MD589_down32_annotationVolume_VLL_R.stl\" \"s3://mousebrainatlas-data/CSHL_meshes/MD589/MD589_down32_annotationVolume/MD589_down32_annotationVolume_VLL_R.stl\"\n",
      "7N_L 167 225 294 333 79 140\n"
     ]
    },
    {
     "name": "stderr",
     "output_type": "stream",
     "text": [
      "simplify 0 @ 9332: 0.12 seconds\n",
      "simplify 1 @ 1868: 0.09 seconds\n",
      "simplify 2 @ 375: 0.02 seconds\n",
      "time: 0.35\n",
      "marching cube: 0.03 seconds\n",
      "mesh_to_polydata: 0.02 seconds\n",
      "simplify 0 @ 11643: 0.13 seconds\n",
      "simplify 1 @ 2330: 0.12 seconds\n",
      "simplify 2 @ 467: 0.03 seconds\n",
      "time: 0.33\n"
     ]
    },
    {
     "name": "stdout",
     "output_type": "stream",
     "text": [
      "aws s3 cp \"/home/yuncong/CSHL_meshes/MD589/MD589_down32_annotationVolume/MD589_down32_annotationVolume_7N_L.stl\" \"s3://mousebrainatlas-data/CSHL_meshes/MD589/MD589_down32_annotationVolume/MD589_down32_annotationVolume_7N_L.stl\"\n",
      "PBG_R 100 142 103 145 295 307\n",
      "aws s3 cp \"/home/yuncong/CSHL_meshes/MD589/MD589_down32_annotationVolume/MD589_down32_annotationVolume_PBG_R.stl\" \"s3://mousebrainatlas-data/CSHL_meshes/MD589/MD589_down32_annotationVolume/MD589_down32_annotationVolume_PBG_R.stl\"\n"
     ]
    },
    {
     "name": "stderr",
     "output_type": "stream",
     "text": [
      "marching cube: 0.01 seconds\n",
      "mesh_to_polydata: 0.01 seconds\n",
      "simplify 0 @ 1491: 0.02 seconds\n",
      "simplify 1 @ 299: 0.01 seconds\n",
      "simplify 2 @ 61: 0.00 seconds\n",
      "time: 0.05\n"
     ]
    },
    {
     "name": "stdout",
     "output_type": "stream",
     "text": [
      "RtTg 64 157 238 309 144 246\n"
     ]
    },
    {
     "name": "stderr",
     "output_type": "stream",
     "text": [
      "marching cube: 0.29 seconds\n",
      "mesh_to_polydata: 0.13 seconds\n",
      "simplify 0 @ 30206: 1.41 seconds\n",
      "simplify 1 @ 6047: 0.58 seconds\n",
      "simplify 2 @ 1224: 0.12 seconds\n",
      "time: 2.54\n"
     ]
    },
    {
     "name": "stdout",
     "output_type": "stream",
     "text": [
      "aws s3 cp \"/home/yuncong/CSHL_meshes/MD589/MD589_down32_annotationVolume/MD589_down32_annotationVolume_RtTg.stl\" \"s3://mousebrainatlas-data/CSHL_meshes/MD589/MD589_down32_annotationVolume/MD589_down32_annotationVolume_RtTg.stl\"\n",
      "Sp5C_R 294 418 211 335 246 314\n"
     ]
    },
    {
     "name": "stderr",
     "output_type": "stream",
     "text": [
      "marching cube: 0.17 seconds\n",
      "mesh_to_polydata: 0.05 seconds\n",
      "simplify 0 @ 30476: 0.38 seconds\n",
      "simplify 1 @ 6096: 0.34 seconds\n",
      "simplify 2 @ 1220: 0.07 seconds\n",
      "time: 1.02\n"
     ]
    },
    {
     "name": "stdout",
     "output_type": "stream",
     "text": [
      "aws s3 cp \"/home/yuncong/CSHL_meshes/MD589/MD589_down32_annotationVolume/MD589_down32_annotationVolume_Sp5C_R.stl\" \"s3://mousebrainatlas-data/CSHL_meshes/MD589/MD589_down32_annotationVolume/MD589_down32_annotationVolume_Sp5C_R.stl\"\n",
      "Pn_R 41 99 246 320 205 273\n"
     ]
    },
    {
     "name": "stderr",
     "output_type": "stream",
     "text": [
      "marching cube: 0.10 seconds\n",
      "mesh_to_polydata: 0.04 seconds\n",
      "simplify 0 @ 16926: 0.33 seconds\n",
      "simplify 1 @ 3385: 0.26 seconds\n",
      "simplify 2 @ 678: 0.06 seconds\n",
      "time: 0.80\n"
     ]
    },
    {
     "name": "stdout",
     "output_type": "stream",
     "text": [
      "aws s3 cp \"/home/yuncong/CSHL_meshes/MD589/MD589_down32_annotationVolume/MD589_down32_annotationVolume_Pn_R.stl\" \"s3://mousebrainatlas-data/CSHL_meshes/MD589/MD589_down32_annotationVolume/MD589_down32_annotationVolume_Pn_R.stl\"\n",
      "LRt_L 276 348 299 345 81 130\n"
     ]
    },
    {
     "name": "stderr",
     "output_type": "stream",
     "text": [
      "marching cube: 0.06 seconds\n",
      "mesh_to_polydata: 0.02 seconds\n",
      "simplify 0 @ 9101: 0.18 seconds\n",
      "simplify 1 @ 1821: 0.14 seconds\n",
      "simplify 2 @ 365: 0.03 seconds\n",
      "time: 0.44\n"
     ]
    },
    {
     "name": "stdout",
     "output_type": "stream",
     "text": [
      "aws s3 cp \"/home/yuncong/CSHL_meshes/MD589/MD589_down32_annotationVolume/MD589_down32_annotationVolume_LRt_L.stl\" \"s3://mousebrainatlas-data/CSHL_meshes/MD589/MD589_down32_annotationVolume/MD589_down32_annotationVolume_LRt_L.stl\"\n",
      "Sp5O_R 170 294 209 281 307 333\n"
     ]
    },
    {
     "name": "stderr",
     "output_type": "stream",
     "text": [
      "marching cube: 0.08 seconds\n",
      "mesh_to_polydata: 0.03 seconds\n",
      "simplify 0 @ 10303: 0.38 seconds\n",
      "simplify 1 @ 2062: 0.10 seconds\n",
      "simplify 2 @ 414: 0.02 seconds\n",
      "time: 0.62\n"
     ]
    },
    {
     "name": "stdout",
     "output_type": "stream",
     "text": [
      "aws s3 cp \"/home/yuncong/CSHL_meshes/MD589/MD589_down32_annotationVolume/MD589_down32_annotationVolume_Sp5O_R.stl\" \"s3://mousebrainatlas-data/CSHL_meshes/MD589/MD589_down32_annotationVolume/MD589_down32_annotationVolume_Sp5O_R.stl\"\n",
      "SNR_L 2 96 154 246 49 130\n"
     ]
    },
    {
     "name": "stderr",
     "output_type": "stream",
     "text": [
      "marching cube: 0.17 seconds\n",
      "mesh_to_polydata: 0.04 seconds\n",
      "simplify 0 @ 27291: 0.29 seconds\n",
      "simplify 1 @ 5459: 0.28 seconds\n",
      "simplify 2 @ 1093: 0.06 seconds\n",
      "time: 0.85\n"
     ]
    },
    {
     "name": "stdout",
     "output_type": "stream",
     "text": [
      "aws s3 cp \"/home/yuncong/CSHL_meshes/MD589/MD589_down32_annotationVolume/MD589_down32_annotationVolume_SNR_L.stl\" \"s3://mousebrainatlas-data/CSHL_meshes/MD589/MD589_down32_annotationVolume/MD589_down32_annotationVolume_SNR_L.stl\"\n",
      "12N 269 343 239 286 152 205\n"
     ]
    },
    {
     "name": "stderr",
     "output_type": "stream",
     "text": [
      "marching cube: 0.06 seconds\n",
      "mesh_to_polydata: 0.03 seconds\n",
      "simplify 0 @ 12925: 0.23 seconds\n",
      "simplify 1 @ 2586: 0.21 seconds\n",
      "simplify 2 @ 518: 0.04 seconds\n",
      "time: 0.59\n"
     ]
    },
    {
     "name": "stdout",
     "output_type": "stream",
     "text": [
      "aws s3 cp \"/home/yuncong/CSHL_meshes/MD589/MD589_down32_annotationVolume/MD589_down32_annotationVolume_12N.stl\" \"s3://mousebrainatlas-data/CSHL_meshes/MD589/MD589_down32_annotationVolume/MD589_down32_annotationVolume_12N.stl\"\n",
      "SNR_R 0 97 133 238 246 314\n"
     ]
    },
    {
     "name": "stderr",
     "output_type": "stream",
     "text": [
      "marching cube: 0.23 seconds\n",
      "mesh_to_polydata: 0.07 seconds\n",
      "simplify 0 @ 24997: 0.41 seconds\n",
      "simplify 1 @ 5001: 0.25 seconds\n",
      "simplify 2 @ 1001: 0.05 seconds\n",
      "time: 1.02\n"
     ]
    },
    {
     "name": "stdout",
     "output_type": "stream",
     "text": [
      "aws s3 cp \"/home/yuncong/CSHL_meshes/MD589/MD589_down32_annotationVolume/MD589_down32_annotationVolume_SNR_R.stl\" \"s3://mousebrainatlas-data/CSHL_meshes/MD589/MD589_down32_annotationVolume/MD589_down32_annotationVolume_SNR_R.stl\"\n",
      "Sp5O_L 110 288 229 301 42 69\n"
     ]
    },
    {
     "name": "stderr",
     "output_type": "stream",
     "text": [
      "marching cube: 0.08 seconds\n",
      "mesh_to_polydata: 0.03 seconds\n",
      "simplify 0 @ 10875: 0.40 seconds\n",
      "simplify 1 @ 2176: 0.11 seconds\n",
      "simplify 2 @ 436: 0.02 seconds\n",
      "time: 0.64\n"
     ]
    },
    {
     "name": "stdout",
     "output_type": "stream",
     "text": [
      "aws s3 cp \"/home/yuncong/CSHL_meshes/MD589/MD589_down32_annotationVolume/MD589_down32_annotationVolume_Sp5O_L.stl\" \"s3://mousebrainatlas-data/CSHL_meshes/MD589/MD589_down32_annotationVolume/MD589_down32_annotationVolume_Sp5O_L.stl\"\n",
      "RMC_L 55 94 161 194 130 164\n",
      "aws s3 cp \"/home/yuncong/CSHL_meshes/MD589/MD589_down32_annotationVolume/MD589_down32_annotationVolume_RMC_L.stl\" \"s3://mousebrainatlas-data/CSHL_meshes/MD589/MD589_down32_annotationVolume/MD589_down32_annotationVolume_RMC_L.stl\"\n"
     ]
    },
    {
     "name": "stderr",
     "output_type": "stream",
     "text": [
      "marching cube: 0.01 seconds\n",
      "mesh_to_polydata: 0.01 seconds\n",
      "simplify 0 @ 4953: 0.05 seconds\n",
      "simplify 1 @ 992: 0.04 seconds\n",
      "simplify 2 @ 200: 0.01 seconds\n",
      "time: 0.12\n"
     ]
    },
    {
     "name": "stdout",
     "output_type": "stream",
     "text": [
      "DC_R 176 252 163 216 287 355\n"
     ]
    },
    {
     "name": "stderr",
     "output_type": "stream",
     "text": [
      "marching cube: 0.05 seconds\n",
      "mesh_to_polydata: 0.02 seconds\n",
      "simplify 0 @ 12739: 0.12 seconds\n",
      "simplify 1 @ 2549: 0.11 seconds\n",
      "simplify 2 @ 511: 0.03 seconds\n",
      "time: 0.32\n"
     ]
    },
    {
     "name": "stdout",
     "output_type": "stream",
     "text": [
      "aws s3 cp \"/home/yuncong/CSHL_meshes/MD589/MD589_down32_annotationVolume/MD589_down32_annotationVolume_DC_R.stl\" \"s3://mousebrainatlas-data/CSHL_meshes/MD589/MD589_down32_annotationVolume/MD589_down32_annotationVolume_DC_R.stl\"\n",
      "VCA_L 133 209 196 272 0 38\n"
     ]
    },
    {
     "name": "stderr",
     "output_type": "stream",
     "text": [
      "marching cube: 0.04 seconds\n",
      "mesh_to_polydata: 0.02 seconds\n"
     ]
    },
    {
     "name": "stdout",
     "output_type": "stream",
     "text": [
      "aws s3 cp \"/home/yuncong/CSHL_meshes/MD589/MD589_down32_annotationVolume/MD589_down32_annotationVolume_VCA_L.stl\" \"s3://mousebrainatlas-data/CSHL_meshes/MD589/MD589_down32_annotationVolume/MD589_down32_annotationVolume_VCA_L.stl\"\n",
      "3N_L 78 116 134 154 159 175\n",
      "aws s3 cp \"/home/yuncong/CSHL_meshes/MD589/MD589_down32_annotationVolume/MD589_down32_annotationVolume_3N_L.stl\" \"s3://mousebrainatlas-data/CSHL_meshes/MD589/MD589_down32_annotationVolume/MD589_down32_annotationVolume_3N_L.stl\"\n"
     ]
    },
    {
     "name": "stderr",
     "output_type": "stream",
     "text": [
      "simplify 0 @ 11396: 0.12 seconds\n",
      "simplify 1 @ 2280: 0.10 seconds\n",
      "simplify 2 @ 457: 0.02 seconds\n",
      "time: 0.29\n",
      "marching cube: 0.00 seconds\n",
      "mesh_to_polydata: 0.00 seconds\n",
      "simplify 0 @ 2052: 0.02 seconds\n",
      "simplify 1 @ 412: 0.01 seconds\n",
      "simplify 2 @ 84: 0.00 seconds\n",
      "time: 0.05\n"
     ]
    },
    {
     "name": "stdout",
     "output_type": "stream",
     "text": [
      "6N_R 178 191 228 241 205 213\n",
      "aws s3 cp \"/home/yuncong/CSHL_meshes/MD589/MD589_down32_annotationVolume/MD589_down32_annotationVolume_6N_R.stl\" \"s3://mousebrainatlas-data/CSHL_meshes/MD589/MD589_down32_annotationVolume/MD589_down32_annotationVolume_6N_R.stl\"\n"
     ]
    },
    {
     "name": "stderr",
     "output_type": "stream",
     "text": [
      "marching cube: 0.00 seconds\n",
      "mesh_to_polydata: 0.00 seconds\n",
      "simplify 0 @ 392: 0.00 seconds\n",
      "simplify 1 @ 80: 0.00 seconds\n",
      "time: 0.01\n"
     ]
    },
    {
     "name": "stdout",
     "output_type": "stream",
     "text": [
      "Sp5I_L 171 315 230 303 28 69\n"
     ]
    },
    {
     "name": "stderr",
     "output_type": "stream",
     "text": [
      "marching cube: 0.08 seconds\n",
      "mesh_to_polydata: 0.03 seconds\n"
     ]
    },
    {
     "name": "stdout",
     "output_type": "stream",
     "text": [
      "aws s3 cp \"/home/yuncong/CSHL_meshes/MD589/MD589_down32_annotationVolume/MD589_down32_annotationVolume_Sp5I_L.stl\" \"s3://mousebrainatlas-data/CSHL_meshes/MD589/MD589_down32_annotationVolume/MD589_down32_annotationVolume_Sp5I_L.stl\"\n",
      "RMC_R 41 101 158 190 196 236\n",
      "aws s3 cp \"/home/yuncong/CSHL_meshes/MD589/MD589_down32_annotationVolume/MD589_down32_annotationVolume_RMC_R.stl\" \"s3://mousebrainatlas-data/CSHL_meshes/MD589/MD589_down32_annotationVolume/MD589_down32_annotationVolume_RMC_R.stl\"\n"
     ]
    },
    {
     "name": "stderr",
     "output_type": "stream",
     "text": [
      "simplify 0 @ 11676: 0.31 seconds\n",
      "simplify 1 @ 2335: 0.10 seconds\n",
      "simplify 2 @ 468: 0.02 seconds\n",
      "time: 0.54\n",
      "marching cube: 0.02 seconds\n",
      "mesh_to_polydata: 0.01 seconds\n",
      "simplify 0 @ 6841: 0.07 seconds\n",
      "simplify 1 @ 1369: 0.05 seconds\n",
      "simplify 2 @ 275: 0.01 seconds\n",
      "time: 0.16\n"
     ]
    },
    {
     "name": "stdout",
     "output_type": "stream",
     "text": [
      "5N_L 129 170 204 260 76 103\n",
      "aws s3 cp \"/home/yuncong/CSHL_meshes/MD589/MD589_down32_annotationVolume/MD589_down32_annotationVolume_5N_L.stl\" \"s3://mousebrainatlas-data/CSHL_meshes/MD589/MD589_down32_annotationVolume/MD589_down32_annotationVolume_5N_L.stl\"\n"
     ]
    },
    {
     "name": "stderr",
     "output_type": "stream",
     "text": [
      "marching cube: 0.01 seconds\n",
      "mesh_to_polydata: 0.01 seconds\n",
      "simplify 0 @ 6320: 0.07 seconds\n",
      "simplify 1 @ 1265: 0.05 seconds\n",
      "simplify 2 @ 254: 0.01 seconds\n",
      "time: 0.16\n"
     ]
    },
    {
     "name": "stdout",
     "output_type": "stream",
     "text": [
      "SNC_L 8 62 171 232 69 130\n"
     ]
    },
    {
     "name": "stderr",
     "output_type": "stream",
     "text": [
      "marching cube: 0.04 seconds\n",
      "mesh_to_polydata: 0.01 seconds\n",
      "simplify 0 @ 8991: 0.07 seconds\n",
      "simplify 1 @ 1799: 0.07 seconds\n",
      "simplify 2 @ 361: 0.02 seconds\n",
      "time: 0.20\n"
     ]
    },
    {
     "name": "stdout",
     "output_type": "stream",
     "text": [
      "aws s3 cp \"/home/yuncong/CSHL_meshes/MD589/MD589_down32_annotationVolume/MD589_down32_annotationVolume_SNC_L.stl\" \"s3://mousebrainatlas-data/CSHL_meshes/MD589/MD589_down32_annotationVolume/MD589_down32_annotationVolume_SNC_L.stl\"\n",
      "SNC_R 7 60 159 226 246 296\n",
      "aws s3 cp \"/home/yuncong/CSHL_meshes/MD589/MD589_down32_annotationVolume/MD589_down32_annotationVolume_SNC_R.stl\" \"s3://mousebrainatlas-data/CSHL_meshes/MD589/MD589_down32_annotationVolume/MD589_down32_annotationVolume_SNC_R.stl\"\n"
     ]
    },
    {
     "name": "stderr",
     "output_type": "stream",
     "text": [
      "marching cube: 0.03 seconds\n",
      "mesh_to_polydata: 0.01 seconds\n",
      "simplify 0 @ 6805: 0.05 seconds\n",
      "simplify 1 @ 1362: 0.05 seconds\n",
      "simplify 2 @ 274: 0.01 seconds\n",
      "time: 0.15\n"
     ]
    },
    {
     "name": "stdout",
     "output_type": "stream",
     "text": [
      "AP 291 327 224 250 164 185\n",
      "aws s3 cp \"/home/yuncong/CSHL_meshes/MD589/MD589_down32_annotationVolume/MD589_down32_annotationVolume_AP.stl\" \"s3://mousebrainatlas-data/CSHL_meshes/MD589/MD589_down32_annotationVolume/MD589_down32_annotationVolume_AP.stl\"\n"
     ]
    },
    {
     "name": "stderr",
     "output_type": "stream",
     "text": [
      "marching cube: 0.01 seconds\n",
      "mesh_to_polydata: 0.00 seconds\n",
      "simplify 0 @ 2462: 0.02 seconds\n",
      "simplify 1 @ 494: 0.02 seconds\n",
      "simplify 2 @ 100: 0.00 seconds\n",
      "time: 0.05\n"
     ]
    },
    {
     "name": "stdout",
     "output_type": "stream",
     "text": [
      "5N_R 118 165 197 249 262 293\n",
      "aws s3 cp \"/home/yuncong/CSHL_meshes/MD589/MD589_down32_annotationVolume/MD589_down32_annotationVolume_5N_R.stl\" \"s3://mousebrainatlas-data/CSHL_meshes/MD589/MD589_down32_annotationVolume/MD589_down32_annotationVolume_5N_R.stl\"\n"
     ]
    },
    {
     "name": "stderr",
     "output_type": "stream",
     "text": [
      "marching cube: 0.02 seconds\n",
      "mesh_to_polydata: 0.01 seconds\n",
      "simplify 0 @ 7097: 0.08 seconds\n",
      "simplify 1 @ 1421: 0.05 seconds\n",
      "simplify 2 @ 285: 0.01 seconds\n",
      "time: 0.17\n"
     ]
    },
    {
     "name": "stdout",
     "output_type": "stream",
     "text": [
      "Sp5I_R 272 325 208 283 307 335\n"
     ]
    },
    {
     "name": "stderr",
     "output_type": "stream",
     "text": [
      "marching cube: 0.02 seconds\n",
      "mesh_to_polydata: 0.02 seconds\n",
      "simplify 0 @ 8258: 0.14 seconds\n"
     ]
    },
    {
     "name": "stdout",
     "output_type": "stream",
     "text": [
      "aws s3 cp \"/home/yuncong/CSHL_meshes/MD589/MD589_down32_annotationVolume/MD589_down32_annotationVolume_Sp5I_R.stl\" \"s3://mousebrainatlas-data/CSHL_meshes/MD589/MD589_down32_annotationVolume/MD589_down32_annotationVolume_Sp5I_R.stl\"\n",
      "3N_R 80 116 134 154 179 194\n",
      "aws s3 cp \"/home/yuncong/CSHL_meshes/MD589/MD589_down32_annotationVolume/MD589_down32_annotationVolume_3N_R.stl\" \"s3://mousebrainatlas-data/CSHL_meshes/MD589/MD589_down32_annotationVolume/MD589_down32_annotationVolume_3N_R.stl\"\n"
     ]
    },
    {
     "name": "stderr",
     "output_type": "stream",
     "text": [
      "simplify 1 @ 1653: 0.06 seconds\n",
      "simplify 2 @ 332: 0.02 seconds\n",
      "time: 0.26\n",
      "marching cube: 0.00 seconds\n",
      "mesh_to_polydata: 0.00 seconds\n",
      "simplify 0 @ 1984: 0.03 seconds\n",
      "simplify 1 @ 398: 0.02 seconds\n",
      "simplify 2 @ 81: 0.00 seconds\n",
      "time: 0.06\n"
     ]
    },
    {
     "name": "stdout",
     "output_type": "stream",
     "text": [
      "6N_L 180 193 228 243 151 163\n",
      "aws s3 cp \"/home/yuncong/CSHL_meshes/MD589/MD589_down32_annotationVolume/MD589_down32_annotationVolume_6N_L.stl\" \"s3://mousebrainatlas-data/CSHL_meshes/MD589/MD589_down32_annotationVolume/MD589_down32_annotationVolume_6N_L.stl\"\n"
     ]
    },
    {
     "name": "stderr",
     "output_type": "stream",
     "text": [
      "marching cube: 0.00 seconds\n",
      "mesh_to_polydata: 0.00 seconds\n",
      "simplify 0 @ 636: 0.01 seconds\n",
      "simplify 1 @ 128: 0.00 seconds\n",
      "time: 0.02\n"
     ]
    },
    {
     "name": "stdout",
     "output_type": "stream",
     "text": [
      "IC 106 225 5 118 62 287\n"
     ]
    },
    {
     "name": "stderr",
     "output_type": "stream",
     "text": [
      "marching cube: 0.42 seconds\n",
      "mesh_to_polydata: 0.12 seconds\n",
      "simplify 0 @ 74776: 2.79 seconds\n",
      "simplify 1 @ 14956: 1.33 seconds\n",
      "simplify 2 @ 2992: 0.19 seconds\n",
      "time: 4.87\n"
     ]
    },
    {
     "name": "stdout",
     "output_type": "stream",
     "text": [
      "aws s3 cp \"/home/yuncong/CSHL_meshes/MD589/MD589_down32_annotationVolume/MD589_down32_annotationVolume_IC.stl\" \"s3://mousebrainatlas-data/CSHL_meshes/MD589/MD589_down32_annotationVolume/MD589_down32_annotationVolume_IC.stl\"\n",
      "VCA_R 137 210 179 246 325 375\n"
     ]
    },
    {
     "name": "stderr",
     "output_type": "stream",
     "text": [
      "marching cube: 0.05 seconds\n",
      "mesh_to_polydata: 0.02 seconds\n"
     ]
    },
    {
     "name": "stdout",
     "output_type": "stream",
     "text": [
      "aws s3 cp \"/home/yuncong/CSHL_meshes/MD589/MD589_down32_annotationVolume/MD589_down32_annotationVolume_VCA_R.stl\" \"s3://mousebrainatlas-data/CSHL_meshes/MD589/MD589_down32_annotationVolume/MD589_down32_annotationVolume_VCA_R.stl\"\n",
      "DC_L 181 258 181 247 13 96\n"
     ]
    },
    {
     "name": "stderr",
     "output_type": "stream",
     "text": [
      "simplify 0 @ 12629: 0.13 seconds\n",
      "simplify 1 @ 2527: 0.12 seconds\n",
      "simplify 2 @ 507: 0.02 seconds\n",
      "time: 0.34\n",
      "marching cube: 0.07 seconds\n",
      "mesh_to_polydata: 0.02 seconds\n",
      "simplify 0 @ 13873: 0.15 seconds\n",
      "simplify 1 @ 2776: 0.12 seconds\n",
      "simplify 2 @ 557: 0.02 seconds\n",
      "time: 0.38\n"
     ]
    },
    {
     "name": "stdout",
     "output_type": "stream",
     "text": [
      "aws s3 cp \"/home/yuncong/CSHL_meshes/MD589/MD589_down32_annotationVolume/MD589_down32_annotationVolume_DC_L.stl\" \"s3://mousebrainatlas-data/CSHL_meshes/MD589/MD589_down32_annotationVolume/MD589_down32_annotationVolume_DC_L.stl\"\n",
      "Amb_R 232 264 279 293 272 278\n",
      "aws s3 cp \"/home/yuncong/CSHL_meshes/MD589/MD589_down32_annotationVolume/MD589_down32_annotationVolume_Amb_R.stl\" \"s3://mousebrainatlas-data/CSHL_meshes/MD589/MD589_down32_annotationVolume/MD589_down32_annotationVolume_Amb_R.stl\"\n"
     ]
    },
    {
     "name": "stderr",
     "output_type": "stream",
     "text": [
      "marching cube: 0.00 seconds\n",
      "mesh_to_polydata: 0.00 seconds\n",
      "simplify 0 @ 647: 0.01 seconds\n",
      "simplify 1 @ 131: 0.00 seconds\n",
      "time: 0.02\n"
     ]
    },
    {
     "name": "stdout",
     "output_type": "stream",
     "text": [
      "VCP_R 182 241 191 254 321 360\n",
      "aws s3 cp \"/home/yuncong/CSHL_meshes/MD589/MD589_down32_annotationVolume/MD589_down32_annotationVolume_VCP_R.stl\" \"s3://mousebrainatlas-data/CSHL_meshes/MD589/MD589_down32_annotationVolume/MD589_down32_annotationVolume_VCP_R.stl\"\n"
     ]
    },
    {
     "name": "stderr",
     "output_type": "stream",
     "text": [
      "marching cube: 0.03 seconds\n",
      "mesh_to_polydata: 0.01 seconds\n",
      "simplify 0 @ 7143: 0.06 seconds\n",
      "simplify 1 @ 1430: 0.06 seconds\n",
      "simplify 2 @ 287: 0.01 seconds\n",
      "time: 0.16\n"
     ]
    },
    {
     "name": "stdout",
     "output_type": "stream",
     "text": [
      "LC_R 154 207 164 207 228 244\n",
      "aws s3 cp \"/home/yuncong/CSHL_meshes/MD589/MD589_down32_annotationVolume/MD589_down32_annotationVolume_LC_R.stl\" \"s3://mousebrainatlas-data/CSHL_meshes/MD589/MD589_down32_annotationVolume/MD589_down32_annotationVolume_LC_R.stl\"\n"
     ]
    },
    {
     "name": "stderr",
     "output_type": "stream",
     "text": [
      "marching cube: 0.01 seconds\n",
      "mesh_to_polydata: 0.01 seconds\n",
      "simplify 0 @ 3957: 0.04 seconds\n",
      "simplify 1 @ 793: 0.03 seconds\n",
      "simplify 2 @ 160: 0.01 seconds\n",
      "time: 0.09\n"
     ]
    },
    {
     "name": "stdout",
     "output_type": "stream",
     "text": [
      "10N_R 278 360 235 290 183 217\n",
      "aws s3 cp \"/home/yuncong/CSHL_meshes/MD589/MD589_down32_annotationVolume/MD589_down32_annotationVolume_10N_R.stl\" \"s3://mousebrainatlas-data/CSHL_meshes/MD589/MD589_down32_annotationVolume/MD589_down32_annotationVolume_10N_R.stl\"\n"
     ]
    },
    {
     "name": "stderr",
     "output_type": "stream",
     "text": [
      "marching cube: 0.03 seconds\n",
      "mesh_to_polydata: 0.01 seconds\n",
      "simplify 0 @ 4318: 0.03 seconds\n",
      "simplify 1 @ 865: 0.03 seconds\n",
      "simplify 2 @ 174: 0.01 seconds\n",
      "time: 0.10\n"
     ]
    },
    {
     "name": "stdout",
     "output_type": "stream",
     "text": [
      "7n_R 142 202 216 288 212 304\n"
     ]
    },
    {
     "name": "stderr",
     "output_type": "stream",
     "text": [
      "marching cube: 0.06 seconds\n",
      "mesh_to_polydata: 0.01 seconds\n",
      "simplify 0 @ 8438: 0.07 seconds\n",
      "simplify 1 @ 1689: 0.06 seconds\n",
      "simplify 2 @ 339: 0.01 seconds\n",
      "time: 0.22\n"
     ]
    },
    {
     "name": "stdout",
     "output_type": "stream",
     "text": [
      "aws s3 cp \"/home/yuncong/CSHL_meshes/MD589/MD589_down32_annotationVolume/MD589_down32_annotationVolume_7n_R.stl\" \"s3://mousebrainatlas-data/CSHL_meshes/MD589/MD589_down32_annotationVolume/MD589_down32_annotationVolume_7n_R.stl\"\n",
      "4N_R 117 125 143 153 189 198\n",
      "aws s3 cp \"/home/yuncong/CSHL_meshes/MD589/MD589_down32_annotationVolume/MD589_down32_annotationVolume_4N_R.stl\" \"s3://mousebrainatlas-data/CSHL_meshes/MD589/MD589_down32_annotationVolume/MD589_down32_annotationVolume_4N_R.stl\"\n"
     ]
    },
    {
     "name": "stderr",
     "output_type": "stream",
     "text": [
      "marching cube: 0.00 seconds\n",
      "mesh_to_polydata: 0.00 seconds\n",
      "simplify 0 @ 345: 0.00 seconds\n",
      "simplify 1 @ 70: 0.00 seconds\n",
      "time: 0.01\n"
     ]
    },
    {
     "name": "stdout",
     "output_type": "stream",
     "text": [
      "Tz_L 101 165 297 327 144 177\n",
      "aws s3 cp \"/home/yuncong/CSHL_meshes/MD589/MD589_down32_annotationVolume/MD589_down32_annotationVolume_Tz_L.stl\" \"s3://mousebrainatlas-data/CSHL_meshes/MD589/MD589_down32_annotationVolume/MD589_down32_annotationVolume_Tz_L.stl\"\n"
     ]
    },
    {
     "name": "stderr",
     "output_type": "stream",
     "text": [
      "marching cube: 0.02 seconds\n",
      "mesh_to_polydata: 0.01 seconds\n",
      "simplify 0 @ 5206: 0.05 seconds\n",
      "simplify 1 @ 1042: 0.04 seconds\n",
      "simplify 2 @ 210: 0.01 seconds\n",
      "time: 0.13\n"
     ]
    },
    {
     "name": "stdout",
     "output_type": "stream",
     "text": [
      "Tz_R 97 159 293 319 212 246\n",
      "aws s3 cp \"/home/yuncong/CSHL_meshes/MD589/MD589_down32_annotationVolume/MD589_down32_annotationVolume_Tz_R.stl\" \"s3://mousebrainatlas-data/CSHL_meshes/MD589/MD589_down32_annotationVolume/MD589_down32_annotationVolume_Tz_R.stl\"\n"
     ]
    },
    {
     "name": "stderr",
     "output_type": "stream",
     "text": [
      "marching cube: 0.01 seconds\n",
      "mesh_to_polydata: 0.01 seconds\n",
      "simplify 0 @ 4891: 0.05 seconds\n",
      "simplify 1 @ 979: 0.03 seconds\n",
      "simplify 2 @ 197: 0.01 seconds\n",
      "time: 0.11\n"
     ]
    },
    {
     "name": "stdout",
     "output_type": "stream",
     "text": [
      "7n_L 136 204 221 306 76 152\n"
     ]
    },
    {
     "name": "stderr",
     "output_type": "stream",
     "text": [
      "marching cube: 0.07 seconds\n",
      "mesh_to_polydata: 0.01 seconds\n",
      "simplify 0 @ 8376: 0.07 seconds\n",
      "simplify 1 @ 1676: 0.06 seconds\n",
      "simplify 2 @ 336: 0.01 seconds\n",
      "time: 0.23\n"
     ]
    },
    {
     "name": "stdout",
     "output_type": "stream",
     "text": [
      "aws s3 cp \"/home/yuncong/CSHL_meshes/MD589/MD589_down32_annotationVolume/MD589_down32_annotationVolume_7n_L.stl\" \"s3://mousebrainatlas-data/CSHL_meshes/MD589/MD589_down32_annotationVolume/MD589_down32_annotationVolume_7n_L.stl\"\n",
      "4N_L 117 124 144 154 155 159\n",
      "aws s3 cp \"/home/yuncong/CSHL_meshes/MD589/MD589_down32_annotationVolume/MD589_down32_annotationVolume_4N_L.stl\" \"s3://mousebrainatlas-data/CSHL_meshes/MD589/MD589_down32_annotationVolume/MD589_down32_annotationVolume_4N_L.stl\"\n"
     ]
    },
    {
     "name": "stderr",
     "output_type": "stream",
     "text": [
      "marching cube: 0.00 seconds\n",
      "mesh_to_polydata: 0.00 seconds\n",
      "simplify 0 @ 175: 0.00 seconds\n",
      "time: 0.01\n"
     ]
    },
    {
     "name": "stdout",
     "output_type": "stream",
     "text": [
      "LC_L 159 202 165 214 110 124\n",
      "aws s3 cp \"/home/yuncong/CSHL_meshes/MD589/MD589_down32_annotationVolume/MD589_down32_annotationVolume_LC_L.stl\" \"s3://mousebrainatlas-data/CSHL_meshes/MD589/MD589_down32_annotationVolume/MD589_down32_annotationVolume_LC_L.stl\"\n"
     ]
    },
    {
     "name": "stderr",
     "output_type": "stream",
     "text": [
      "marching cube: 0.01 seconds\n",
      "mesh_to_polydata: 0.01 seconds\n",
      "simplify 0 @ 3172: 0.05 seconds\n",
      "simplify 1 @ 636: 0.02 seconds\n",
      "simplify 2 @ 128: 0.01 seconds\n",
      "time: 0.09\n"
     ]
    },
    {
     "name": "stdout",
     "output_type": "stream",
     "text": [
      "10N_L 288 353 236 283 148 171\n",
      "aws s3 cp \"/home/yuncong/CSHL_meshes/MD589/MD589_down32_annotationVolume/MD589_down32_annotationVolume_10N_L.stl\" \"s3://mousebrainatlas-data/CSHL_meshes/MD589/MD589_down32_annotationVolume/MD589_down32_annotationVolume_10N_L.stl\"\n"
     ]
    },
    {
     "name": "stderr",
     "output_type": "stream",
     "text": [
      "marching cube: 0.02 seconds\n",
      "mesh_to_polydata: 0.01 seconds\n",
      "simplify 0 @ 3839: 0.03 seconds\n",
      "simplify 1 @ 769: 0.03 seconds\n",
      "simplify 2 @ 155: 0.01 seconds\n",
      "time: 0.09\n"
     ]
    },
    {
     "name": "stdout",
     "output_type": "stream",
     "text": [
      "SC 12 180 0 138 56 295\n"
     ]
    },
    {
     "name": "stderr",
     "output_type": "stream",
     "text": [
      "marching cube: 1.46 seconds\n",
      "mesh_to_polydata: 0.34 seconds\n",
      "simplify 0 @ 122578: 2.69 seconds\n",
      "simplify 1 @ 24517: 1.73 seconds\n",
      "simplify 2 @ 4905: 0.34 seconds\n",
      "time: 6.60\n"
     ]
    },
    {
     "name": "stdout",
     "output_type": "stream",
     "text": [
      "aws s3 cp \"/home/yuncong/CSHL_meshes/MD589/MD589_down32_annotationVolume/MD589_down32_annotationVolume_SC.stl\" \"s3://mousebrainatlas-data/CSHL_meshes/MD589/MD589_down32_annotationVolume/MD589_down32_annotationVolume_SC.stl\"\n",
      "VCP_L 185 244 207 283 12 39\n"
     ]
    },
    {
     "name": "stderr",
     "output_type": "stream",
     "text": [
      "marching cube: 0.03 seconds\n",
      "mesh_to_polydata: 0.01 seconds\n",
      "simplify 0 @ 7638: 0.09 seconds\n",
      "simplify 1 @ 1529: 0.06 seconds\n",
      "simplify 2 @ 307: 0.01 seconds\n",
      "time: 0.20\n"
     ]
    },
    {
     "name": "stdout",
     "output_type": "stream",
     "text": [
      "aws s3 cp \"/home/yuncong/CSHL_meshes/MD589/MD589_down32_annotationVolume/MD589_down32_annotationVolume_VCP_L.stl\" \"s3://mousebrainatlas-data/CSHL_meshes/MD589/MD589_down32_annotationVolume/MD589_down32_annotationVolume_VCP_L.stl\"\n",
      "Amb_L 237 273 297 311 95 103\n",
      "aws s3 cp \"/home/yuncong/CSHL_meshes/MD589/MD589_down32_annotationVolume/MD589_down32_annotationVolume_Amb_L.stl\" \"s3://mousebrainatlas-data/CSHL_meshes/MD589/MD589_down32_annotationVolume/MD589_down32_annotationVolume_Amb_L.stl\"\n"
     ]
    },
    {
     "name": "stderr",
     "output_type": "stream",
     "text": [
      "marching cube: 0.00 seconds\n",
      "mesh_to_polydata: 0.00 seconds\n",
      "simplify 0 @ 726: 0.01 seconds\n",
      "simplify 1 @ 146: 0.01 seconds\n",
      "time: 0.02\n"
     ]
    }
   ],
   "source": [
    "meshes = {}\n",
    "\n",
    "for name_s, label in name_to_label.iteritems():\n",
    "    \n",
    "    xmin, xmax, ymin, ymax, zmin, zmax = bbox_3d(volume == label) \n",
    "    print name_s, xmin, xmax, ymin, ymax, zmin, zmax\n",
    "    \n",
    "    vol = (volume[ymin:ymax+1, xmin:xmax+1, zmin:zmax+1] == label).astype(np.float)\n",
    "\n",
    "    t = time.time()\n",
    "    mesh = volume_to_polydata(vol, origin=(vol_xmin+xmin,vol_ymin+ymin,vol_zmin+zmin), \n",
    "                                  num_simplify_iter=3, smooth=True)\n",
    "    # coordinates with respect to aligned uncropped volume\n",
    "    sys.stderr.write('time: %.2f\\n' % (time.time() - t) ) # ~ 150s for outerContour; 93s for sp5\n",
    "    \n",
    "    meshes[name_s] = mesh\n",
    "    \n",
    "    fp = DataManager.get_mesh_filepath(stack_m=stack, vol_type_m='annotation', structure=name_s)\n",
    "    create_parent_dir_if_not_exists(fp)\n",
    "    save_mesh_stl(mesh, fp)\n",
    "    upload_to_s3(fp)"
   ]
  },
  {
   "cell_type": "markdown",
   "metadata": {
    "collapsed": true
   },
   "source": [
    "# Load "
   ]
  },
  {
   "cell_type": "code",
   "execution_count": 29,
   "metadata": {},
   "outputs": [
    {
     "name": "stderr",
     "output_type": "stream",
     "text": [
      "load_mesh_stl: File does not exist /home/yuncong/CSHL_meshes/MD589/MD589_down32_annotationVolume/MD589_down32_annotationVolume_sp5.stl\n",
      "Error loading mesh for sp5: Mesh is empty: sp5..\n",
      "load_mesh_stl: File does not exist /home/yuncong/CSHL_meshes/MD589/MD589_down32_annotationVolume/MD589_down32_annotationVolume_outerContour.stl\n",
      "Error loading mesh for outerContour: Mesh is empty: outerContour..\n"
     ]
    }
   ],
   "source": [
    "meshes = DataManager.load_meshes(stack_m='MD589', vol_type_m='annotation', sided=True)"
   ]
  },
  {
   "cell_type": "code",
   "execution_count": 38,
   "metadata": {},
   "outputs": [],
   "source": [
    "mesh_actors = [actor_mesh(mesh, name_u_to_color[convert_to_original_name(name_s)], wireframe=False, opacity=.5) \n",
    "               for name_s, mesh in meshes.iteritems()]"
   ]
  },
  {
   "cell_type": "code",
   "execution_count": 39,
   "metadata": {
    "collapsed": true
   },
   "outputs": [],
   "source": [
    "launch_vtk(mesh_actors, init_angle='30', background_color=(0,0,0))"
   ]
  },
  {
   "cell_type": "code",
   "execution_count": null,
   "metadata": {
    "collapsed": true
   },
   "outputs": [],
   "source": []
  },
  {
   "cell_type": "code",
   "execution_count": null,
   "metadata": {},
   "outputs": [],
   "source": [
    "fn = os.path.join(MESH_ROOTDIR, stack, \"%(stack)s_down32_outerContourVolume_smoothed.stl\" % {'stack': stack})\n",
    "outerContour_polydata = load_mesh_stl(fn, return_polydata_only=True)\n",
    "\n",
    "outerContour_actor = actor_mesh(outerContour_polydata, (1,1,1), opacity=.1, wireframe=False)"
   ]
  },
  {
   "cell_type": "code",
   "execution_count": null,
   "metadata": {},
   "outputs": [],
   "source": [
    "launch_vtk(mesh_actors + [outerContour_actor], init_angle='30', background_color=(0,0,0))"
   ]
  },
  {
   "cell_type": "code",
   "execution_count": null,
   "metadata": {
    "collapsed": true
   },
   "outputs": [],
   "source": []
  },
  {
   "cell_type": "code",
   "execution_count": null,
   "metadata": {},
   "outputs": [],
   "source": [
    "# Export to rgb PLY file (STL file can not have color info)\n",
    "# https://github.com/Kitware/VTK/blob/master/IO/PLY/Testing/Python/TestPLYReadWrite.py#L31\n",
    "# http://www.vtk.org/doc/nightly/html/classvtkPLYWriter.html#aa7f0bdbb2decdc7a7360a890a6c10e8b\n",
    "\n",
    "for name_s, polydata in polydata_list.iteritems():\n",
    "    fn = os.path.join(mesh_rootdir, stack, \"%(stack)s_down32_%(name)s_smoothed.ply\" % {'stack': stack, 'name':name_s})\n",
    "    save_mesh(polydata, fn, color=(colors[convert_name_to_unsided(name_s)]*255).astype(np.int))"
   ]
  }
 ],
 "metadata": {
  "kernelspec": {
   "display_name": "Python 2",
   "language": "python",
   "name": "python2"
  },
  "language_info": {
   "codemirror_mode": {
    "name": "ipython",
    "version": 2
   },
   "file_extension": ".py",
   "mimetype": "text/x-python",
   "name": "python",
   "nbconvert_exporter": "python",
   "pygments_lexer": "ipython2",
   "version": "2.7.12"
  }
 },
 "nbformat": 4,
 "nbformat_minor": 1
}
