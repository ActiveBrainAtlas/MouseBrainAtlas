{
 "cells": [
  {
   "cell_type": "code",
   "execution_count": 1,
   "metadata": {},
   "outputs": [
    {
     "name": "stderr",
     "output_type": "stream",
     "text": [
      "/usr/local/lib/python2.7/dist-packages/matplotlib/__init__.py:1357: UserWarning:  This call to matplotlib.use() has no effect\n",
      "because the backend has already been chosen;\n",
      "matplotlib.use() must be called *before* pylab, matplotlib.pyplot,\n",
      "or matplotlib.backends is imported for the first time.\n",
      "\n",
      "  warnings.warn(_use_error_msg)\n"
     ]
    },
    {
     "name": "stdout",
     "output_type": "stream",
     "text": [
      "Setting environment for Local Macbook Pro\n"
     ]
    }
   ],
   "source": [
    "%reload_ext autoreload\n",
    "%autoreload 2\n",
    "\n",
    "import sys\n",
    "import os\n",
    "\n",
    "import numpy as np\n",
    "import bloscpack as bp\n",
    "%matplotlib inline\n",
    "\n",
    "sys.path.append(os.path.join(os.environ['REPO_DIR'], 'utilities'))\n",
    "from utilities2015 import *\n",
    "from metadata import *\n",
    "from data_manager import *\n",
    "\n",
    "from registration_utilities import *\n",
    "from annotation_utilities import *\n",
    "from vis3d_utilities import *"
   ]
  },
  {
   "cell_type": "code",
   "execution_count": 2,
   "metadata": {
    "collapsed": true
   },
   "outputs": [],
   "source": [
    "atlas_name = 'atlasV5'"
   ]
  },
  {
   "cell_type": "code",
   "execution_count": 3,
   "metadata": {
    "collapsed": true
   },
   "outputs": [],
   "source": [
    "stack_fixed = 'MD589'\n",
    "stacks_moving = ['MD585', 'MD594']\n",
    "warp_setting = 9"
   ]
  },
  {
   "cell_type": "code",
   "execution_count": 4,
   "metadata": {},
   "outputs": [
    {
     "name": "stdout",
     "output_type": "stream",
     "text": [
      "annotation volume bbox (rel2uncropped): [ 622 1042  155  502  128  503]\n"
     ]
    }
   ],
   "source": [
    "ann_vol_bbox_rel2uncropped = DataManager.load_original_volume_bbox(stack=stack_fixed, volume_type='annotation', downscale=32)\n",
    "print 'annotation volume bbox (rel2uncropped):', ann_vol_bbox_rel2uncropped"
   ]
  },
  {
   "cell_type": "markdown",
   "metadata": {},
   "source": [
    "# Compute mean positions"
   ]
  },
  {
   "cell_type": "code",
   "execution_count": 4,
   "metadata": {
    "scrolled": true
   },
   "outputs": [
    {
     "name": "stdout",
     "output_type": "stream",
     "text": [
      "5N\n",
      "6N\n",
      "7N\n",
      "7n\n",
      "Amb\n",
      "LC\n",
      "LRt\n",
      "Pn\n",
      "Tz\n",
      "VLL\n",
      "RMC\n",
      "SNC\n",
      "SNR\n",
      "3N\n",
      "4N\n",
      "Sp5I\n",
      "Sp5O\n",
      "Sp5C\n",
      "rm -rf \"/home/yuncong/CSHL_volumes/MD585/MD585_down32_annotationAsScoreVolume_warp9_MD589_down32_annotationAsScoreVolume/score_volumes/MD585_down32_annotationAsScoreVolume_warp9_MD589_down32_annotationAsScoreVolume_Sp5C_R.bp\" && mkdir -p \"/home/yuncong/CSHL_volumes/MD585/MD585_down32_annotationAsScoreVolume_warp9_MD589_down32_annotationAsScoreVolume/score_volumes\"\n",
      "aws s3 cp \"s3://mousebrainatlas-data/CSHL_volumes/MD585/MD585_down32_annotationAsScoreVolume_warp9_MD589_down32_annotationAsScoreVolume/score_volumes/MD585_down32_annotationAsScoreVolume_warp9_MD589_down32_annotationAsScoreVolume_Sp5C_R.bp\" \"/home/yuncong/CSHL_volumes/MD585/MD585_down32_annotationAsScoreVolume_warp9_MD589_down32_annotationAsScoreVolume/score_volumes/MD585_down32_annotationAsScoreVolume_warp9_MD589_down32_annotationAsScoreVolume_Sp5C_R.bp\"\n"
     ]
    },
    {
     "name": "stderr",
     "output_type": "stream",
     "text": [
      "File does not exist: /home/yuncong/CSHL_volumes/MD585/MD585_down32_annotationAsScoreVolume_warp9_MD589_down32_annotationAsScoreVolume/score_volumes/MD585_down32_annotationAsScoreVolume_warp9_MD589_down32_annotationAsScoreVolume_Sp5C_R.bp\n"
     ]
    },
    {
     "name": "stdout",
     "output_type": "stream",
     "text": [
      "[Errno 2] No such file or directory: '/home/yuncong/CSHL_volumes/MD585/MD585_down32_annotationAsScoreVolume_warp9_MD589_down32_annotationAsScoreVolume/score_volumes/MD585_down32_annotationAsScoreVolume_warp9_MD589_down32_annotationAsScoreVolume_Sp5C_R.bp'\n",
      "PBG\n",
      "10N\n",
      "VCA\n",
      "VCP\n",
      "DC\n",
      "AP\n",
      "12N\n",
      "RtTg\n",
      "sp5\n",
      "rm -rf \"/home/yuncong/CSHL_volumes/MD589/MD589_down32_annotationAsScoreVolume/score_volumes/MD589_down32_annotationAsScoreVolume_sp5.bp\" && mkdir -p \"/home/yuncong/CSHL_volumes/MD589/MD589_down32_annotationAsScoreVolume/score_volumes\"\n",
      "aws s3 cp \"s3://mousebrainatlas-data/CSHL_volumes/MD589/MD589_down32_annotationAsScoreVolume/score_volumes/MD589_down32_annotationAsScoreVolume_sp5.bp\" \"/home/yuncong/CSHL_volumes/MD589/MD589_down32_annotationAsScoreVolume/score_volumes/MD589_down32_annotationAsScoreVolume_sp5.bp\"\n"
     ]
    },
    {
     "name": "stderr",
     "output_type": "stream",
     "text": [
      "File does not exist: /home/yuncong/CSHL_volumes/MD589/MD589_down32_annotationAsScoreVolume/score_volumes/MD589_down32_annotationAsScoreVolume_sp5.bp\n"
     ]
    },
    {
     "name": "stdout",
     "output_type": "stream",
     "text": [
      "[Errno 2] No such file or directory: '/home/yuncong/CSHL_volumes/MD589/MD589_down32_annotationAsScoreVolume/score_volumes/MD589_down32_annotationAsScoreVolume_sp5.bp'\n",
      "outerContour\n",
      "rm -rf \"/home/yuncong/CSHL_volumes/MD589/MD589_down32_annotationAsScoreVolume/score_volumes/MD589_down32_annotationAsScoreVolume_outerContour.bp\" && mkdir -p \"/home/yuncong/CSHL_volumes/MD589/MD589_down32_annotationAsScoreVolume/score_volumes\"\n",
      "aws s3 cp \"s3://mousebrainatlas-data/CSHL_volumes/MD589/MD589_down32_annotationAsScoreVolume/score_volumes/MD589_down32_annotationAsScoreVolume_outerContour.bp\" \"/home/yuncong/CSHL_volumes/MD589/MD589_down32_annotationAsScoreVolume/score_volumes/MD589_down32_annotationAsScoreVolume_outerContour.bp\"\n"
     ]
    },
    {
     "name": "stderr",
     "output_type": "stream",
     "text": [
      "File does not exist: /home/yuncong/CSHL_volumes/MD589/MD589_down32_annotationAsScoreVolume/score_volumes/MD589_down32_annotationAsScoreVolume_outerContour.bp\n"
     ]
    },
    {
     "name": "stdout",
     "output_type": "stream",
     "text": [
      "[Errno 2] No such file or directory: '/home/yuncong/CSHL_volumes/MD589/MD589_down32_annotationAsScoreVolume/score_volumes/MD589_down32_annotationAsScoreVolume_outerContour.bp'\n",
      "SC\n",
      "IC\n"
     ]
    }
   ],
   "source": [
    "instance_centroids_rel2fixed = defaultdict(list)\n",
    "\n",
    "# for name_u in ['7N']:\n",
    "for name_u in all_known_structures:\n",
    "    print name_u\n",
    "    \n",
    "    if name_u in paired_structures:\n",
    "        lname = convert_to_left_name(name_u)\n",
    "        rname = convert_to_right_name(name_u)\n",
    "    else:\n",
    "        lname = name_u\n",
    "        rname = name_u\n",
    "    \n",
    "    try:\n",
    "        right_instance_vol = DataManager.load_original_volume(stack=stack_fixed,  downscale=32, volume_type='annotationAsScore', structure=rname)\n",
    "        right_instance_vol_bbox = np.array(bbox_3d(right_instance_vol))\n",
    "        right_instance_vol_inbbox = crop_and_pad_volume(right_instance_vol, out_bbox=right_instance_vol_bbox)\n",
    "        \n",
    "        instance_centroid_rel2fixed = np.mean(np.nonzero(right_instance_vol_inbbox), axis=1)[[1,0,2]] + right_instance_vol_bbox[[0,2,4]]\n",
    "        instance_centroids_rel2fixed[rname].append(instance_centroid_rel2fixed)\n",
    "        \n",
    "    except Exception as e:\n",
    "        print e\n",
    "        continue\n",
    "\n",
    "    try:\n",
    "        left_instance_vol = DataManager.load_original_volume(stack=stack_fixed, downscale=32, volume_type='annotationAsScore', structure=lname)\n",
    "        left_instance_vol_bbox = np.array(bbox_3d(left_instance_vol))\n",
    "        left_instance_vol_inbbox = crop_and_pad_volume(left_instance_vol, out_bbox=left_instance_vol_bbox)\n",
    "        \n",
    "        instance_centroid_rel2fixed = np.mean(np.nonzero(left_instance_vol_inbbox), axis=1)[[1,0,2]] + left_instance_vol_bbox[[0,2,4]]\n",
    "        instance_centroids_rel2fixed[lname].append(instance_centroid_rel2fixed)\n",
    "\n",
    "    except Exception as e:\n",
    "        print e\n",
    "        continue        \n",
    "\n",
    "    for stack_moving in stacks_moving:\n",
    "\n",
    "        try:\n",
    "            left_instance_vol = DataManager.load_transformed_volume(stack_m=stack_moving, vol_type_m='annotationAsScore',\n",
    "                                                            stack_f=stack_fixed, vol_type_f='annotationAsScore',\n",
    "                                                            warp_setting=warp_setting,\n",
    "                                                            structure=lname)\n",
    "            left_instance_vol_bbox_rel2fixed = DataManager.load_transformed_volume_bbox(stack_m=stack_moving, vol_type_m='annotationAsScore',\n",
    "                                                        stack_f=stack_fixed, vol_type_f='annotationAsScore',\n",
    "                                                        warp_setting=warp_setting,\n",
    "                                                        structure=lname)\n",
    "            instance_centroid_rel2fixed = np.mean(np.nonzero(left_instance_vol), axis=1)[[1,0,2]] + left_instance_vol_bbox_rel2fixed[[0,2,4]]\n",
    "            instance_centroids_rel2fixed[lname].append(instance_centroid_rel2fixed)\n",
    "        except Exception as e:\n",
    "            print e\n",
    "            continue \n",
    "\n",
    "        try:\n",
    "            right_instance_vol = DataManager.load_transformed_volume(stack_m=stack_moving, vol_type_m='annotationAsScore',\n",
    "                                                        stack_f=stack_fixed, vol_type_f='annotationAsScore',\n",
    "                                                        warp_setting=warp_setting,\n",
    "                                                        structure=rname)\n",
    "            right_instance_vol_bbox_rel2fixed = DataManager.load_transformed_volume_bbox(stack_m=stack_moving, vol_type_m='annotationAsScore',\n",
    "                                                        stack_f=stack_fixed, vol_type_f='annotationAsScore',\n",
    "                                                        warp_setting=warp_setting,\n",
    "                                                        structure=rname)\n",
    "            instance_centroid_rel2fixed = np.mean(np.nonzero(right_instance_vol), axis=1)[[1,0,2]] + right_instance_vol_bbox_rel2fixed[[0,2,4]]\n",
    "            instance_centroids_rel2fixed[rname].append(instance_centroid_rel2fixed)\n",
    "        except Exception as e:\n",
    "            print e\n",
    "            continue \n"
   ]
  },
  {
   "cell_type": "code",
   "execution_count": 6,
   "metadata": {},
   "outputs": [],
   "source": [
    "instance_centroids_rel2fixed.default_factory = None"
   ]
  },
  {
   "cell_type": "code",
   "execution_count": 42,
   "metadata": {},
   "outputs": [
    {
     "name": "stdout",
     "output_type": "stream",
     "text": [
      "aws s3 cp \"/home/yuncong/CSHL_meshes/atlasV5/atlasV5_instanceCentroids.pkl\" \"s3://mousebrainatlas-data/CSHL_meshes/atlasV5/atlasV5_instanceCentroids.pkl\"\n"
     ]
    }
   ],
   "source": [
    "fp = DataManager.get_instance_centroids_filepath(atlas_name=atlas_name)\n",
    "save_pickle(instance_centroids_rel2fixed, fp)\n",
    "upload_to_s3(fp)"
   ]
  },
  {
   "cell_type": "markdown",
   "metadata": {},
   "source": [
    "## Average the centroids"
   ]
  },
  {
   "cell_type": "code",
   "execution_count": 128,
   "metadata": {},
   "outputs": [
    {
     "name": "stdout",
     "output_type": "stream",
     "text": [
      "[ 0.04111027 -0.09160432  0.99494653] @ [ 172.0630378   223.21016434  186.74030921]\n",
      "[ 794.0630378   378.21016434  314.74030921]\n"
     ]
    }
   ],
   "source": [
    "canonical_locations_rel2canon, canonical_centroid_rel2fixed, canonical_normal = \\\n",
    "average_location(instance_centroids_rel2fixed)\n",
    "\n",
    "canonical_centroid_rel2uncropped = canonical_centroid_rel2fixed + ann_vol_bbox_rel2uncropped[[0,2,4]]\n",
    "print 'canonical_centroid_rel2uncropped', canonical_centroid_rel2uncropped"
   ]
  },
  {
   "cell_type": "code",
   "execution_count": 25,
   "metadata": {},
   "outputs": [
    {
     "name": "stdout",
     "output_type": "stream",
     "text": [
      "deviation angle: 5.76256199381\n"
     ]
    }
   ],
   "source": [
    "print 'deviation angle:', np.rad2deg(np.arccos(canonical_normal[2]))"
   ]
  },
  {
   "cell_type": "code",
   "execution_count": 129,
   "metadata": {
    "collapsed": true
   },
   "outputs": [],
   "source": [
    "np.savetxt(DataManager.get_atlas_canonical_centroid_filepath(atlas_name=atlas_name), canonical_centroid_rel2uncropped)\n",
    "np.savetxt(DataManager.get_atlas_canonical_normal_filepath(atlas_name=atlas_name), canonical_normal)\n",
    "save_pickle(canonical_locations_rel2canon, DataManager.get_structure_mean_positions_filepath(atlas_name=atlas_name))"
   ]
  },
  {
   "cell_type": "markdown",
   "metadata": {},
   "source": [
    "# Compute mean shapes"
   ]
  },
  {
   "cell_type": "code",
   "execution_count": null,
   "metadata": {
    "collapsed": true
   },
   "outputs": [],
   "source": [
    "stack_fixed = 'MD589'\n",
    "stacks_moving = ['MD585', 'MD594']\n",
    "warp_setting = 9"
   ]
  },
  {
   "cell_type": "code",
   "execution_count": null,
   "metadata": {
    "collapsed": true
   },
   "outputs": [],
   "source": [
    "instance_volumes = defaultdict(list)\n",
    "instance_source = defaultdict(list)\n",
    "\n",
    "moving_vol_aligned2template_inbbox_allInstances_allStructures = defaultdict(list)\n",
    "moving_vol_aligned2template_bbox_rel2templateCentroid_allInstances_allStructures = defaultdict(list)\n",
    "scores_allInstances_allStructures = defaultdict(list)\n",
    "scores_allInstances_allStructures_allLearningRates = defaultdict(lambda: defaultdict(list))\n",
    "\n",
    "structure_mean_shape_allStructures = {}\n",
    "structure_origin_rel2templateCentroid_allStructures = {}\n",
    "structure_mean_mesh_rel2templateCentroid_allStructures = {}\n",
    "\n",
    "instance_aligned2template_meshes_rel2templateCentroid_allStructures = defaultdict(list)\n",
    "template_meshes_rel2templateCentroid_allStructures = {}\n",
    "template_vol_centroids_rel2template_allStructures = {}\n",
    "\n",
    "# for name_u in ['7N']:\n",
    "for name_u in all_known_structures:\n",
    "    print name_u\n",
    "    \n",
    "    if name_u in paired_structures:\n",
    "        lname = convert_to_left_name(name_u)\n",
    "        rname = convert_to_right_name(name_u)\n",
    "    else:\n",
    "        lname = name_u\n",
    "        rname = name_u\n",
    "    \n",
    "    try:\n",
    "        right_instance_vol = DataManager.load_original_volume(stack=stack_fixed,  downscale=32, volume_type='annotationAsScore', structure=rname)\n",
    "        right_instance_vol_bbox = np.array(bbox_3d(right_instance_vol))\n",
    "        right_instance_vol_inbbox = crop_and_pad_volume(right_instance_vol, out_bbox=right_instance_vol_bbox)\n",
    "        instance_volumes[name_u].append(right_instance_vol_inbbox) # if right, do not mirror\n",
    "        instance_source[name_u].append((stack_fixed, 'R'))\n",
    "    except Exception as e:\n",
    "        continue\n",
    "\n",
    "    try:\n",
    "        left_instance_vol = DataManager.load_original_volume(stack=stack_fixed, downscale=32, volume_type='annotationAsScore', structure=lname)\n",
    "        left_instance_vol_bbox = np.array(bbox_3d(left_instance_vol))\n",
    "        left_instance_vol_inbbox = crop_and_pad_volume(left_instance_vol, out_bbox=left_instance_vol_bbox)\n",
    "        instance_volumes[name_u].append(left_instance_vol_inbbox[..., ::-1]) # if left, mirror\n",
    "        instance_source[name_u].append((stack_fixed, 'L'))\n",
    "    except:\n",
    "        continue        \n",
    "\n",
    "    for stack_moving in stacks_moving:\n",
    "\n",
    "        try:\n",
    "            left_instance_vol = DataManager.load_transformed_volume(stack_m=stack_moving, vol_type_m='annotationAsScore',\n",
    "                                                            stack_f=stack_fixed, vol_type_f='annotationAsScore',\n",
    "                                                            warp_setting=warp_setting,\n",
    "                                                            structure=lname)\n",
    "            instance_volumes[name_u].append(left_instance_vol[..., ::-1]) # if left, mirror\n",
    "            instance_source[name_u].append((stack_moving, 'L'))\n",
    "        except:\n",
    "            continue\n",
    "\n",
    "        try:\n",
    "            right_instance_vol = DataManager.load_transformed_volume(stack_m=stack_moving, vol_type_m='annotationAsScore',\n",
    "                                                        stack_f=stack_fixed, vol_type_f='annotationAsScore',\n",
    "                                                        warp_setting=warp_setting,\n",
    "                                                        structure=rname)\n",
    "            instance_volumes[name_u].append(right_instance_vol) # if right, do not mirror\n",
    "            instance_source[name_u].append((stack_moving, 'R'))\n",
    "        except:\n",
    "            continue\n",
    "            \n",
    "    ############################################\n",
    "    \n",
    "    template_vol = instance_volumes[name_u][0]\n",
    "    \n",
    "    template_vol_centroid_rel2template = np.mean(np.nonzero(template_vol), axis=1)[[1,0,2]]\n",
    "    template_vol_centroids_rel2template_allStructures[name_u] = template_vol_centroid_rel2template\n",
    "\n",
    "    for i in range(1, len(instance_volumes[name_u])):\n",
    "\n",
    "        moving_vol = instance_volumes[name_u][i]\n",
    "\n",
    "        aligner = Aligner4({0:template_vol}, {0:moving_vol}, labelIndexMap_m2f={0:0})\n",
    "        aligner.set_centroid(centroid_m='structure_centroid', centroid_f='structure_centroid')\n",
    "\n",
    "#         grid_search_T, grid_search_score = aligner.do_grid_search(grid_search_sample_number=5,\n",
    "#                       std_tx=30, std_ty=30, std_tz=30, std_theta_xy=0,\n",
    "#                        grid_search_eta=3., stop_radius_voxel=2)\n",
    "        \n",
    "        gy, gx, gz = np.gradient(template_vol)\n",
    "        gradients = {0: np.array([gx, gy, gz])}\n",
    "        aligner.load_gradient(gradients=gradients)\n",
    "\n",
    "#         for lr in [.1, 1, 10]:\n",
    "#             T, scores = aligner.optimize(tf_type='rigid', \n",
    "#                                  history_len=50, \n",
    "#                                  terminate_thresh=1e-6,\n",
    "#                                  grad_computation_sample_number=100000,\n",
    "#                                          full_lr=np.array([lr,lr,lr,0.1,0.1,0.1]),\n",
    "#     #                                      init_T=grid_search_T\n",
    "#                                 )\n",
    "\n",
    "#             scores_allInstances_allStructures_allLearningRates[lr][name_u].append(scores)\n",
    "\n",
    "        lr = 1.\n",
    "        T, scores = aligner.optimize(tf_type='rigid', \n",
    "                             history_len=50, \n",
    "                             terminate_thresh=1e-6,\n",
    "                            max_iter_num=100 if name_u in ['SC', 'IC'] else 1000,\n",
    "                             grad_computation_sample_number=None,\n",
    "                                full_lr=np.array([lr,lr,lr,0.1,0.1,0.1]),\n",
    "#                                      init_T=grid_search_T\n",
    "                            )\n",
    "\n",
    "        scores_allInstances_allStructures[name_u].append(scores)\n",
    "        \n",
    "        #################################\n",
    "        \n",
    "        moving_vol_aligned2template_inbbox, moving_vol_aligned2template_bbox_rel2template = transform_volume_v2(moving_vol, T, \n",
    "                                                                              centroid_m=aligner.centroid_m,\n",
    "                                                                             centroid_f=aligner.centroid_f)\n",
    "\n",
    "        moving_vol_aligned2template_bbox_rel2templateCentroid = \\\n",
    "        np.array(moving_vol_aligned2template_bbox_rel2template) - template_vol_centroid_rel2template[[0,0,1,1,2,2]]\n",
    "        \n",
    "        moving_vol_aligned2template_inbbox_allInstances_allStructures[name_u].append(moving_vol_aligned2template_inbbox)\n",
    "        moving_vol_aligned2template_bbox_rel2templateCentroid_allInstances_allStructures[name_u].append(moving_vol_aligned2template_bbox_rel2templateCentroid)  \n",
    "    \n",
    "    ########################################\n",
    "\n",
    "#     fig, axes = plt.subplots(1, 5, figsize=(20,2))\n",
    "#     for i, scores in enumerate(scores_allInstances_allStructures[name_u]):\n",
    "#         axes[i].plot(scores)\n",
    "#         axes[i].set_title('%s, %s, %s, %f' % ((name_u,) + instance_source[name_u][i+1] + (np.max(scores),)))\n",
    "#     plt.show();\n",
    "    \n",
    "    #########################################\n",
    "\n",
    "    for moving_vol_aligned2template, moving_vol_aligned2template_bbox_rel2templateCentroid in \\\n",
    "    zip(moving_vol_aligned2template_inbbox_allInstances_allStructures[name_u], \n",
    "        moving_vol_aligned2template_bbox_rel2templateCentroid_allInstances_allStructures[name_u]):\n",
    "        instance_aligned2template_mesh_rel2templateCentroid = volume_to_polydata(moving_vol_aligned2template, \\\n",
    "                                                            origin=np.array(moving_vol_aligned2template_bbox_rel2templateCentroid)[[0,2,4]], \n",
    "                           num_simplify_iter=3, smooth=True)\n",
    "        instance_aligned2template_meshes_rel2templateCentroid_allStructures[name_u].append(instance_aligned2template_mesh_rel2templateCentroid)\n",
    "\n",
    "    template_meshes_rel2templateCentroid_allStructures[name_u] = volume_to_polydata(template_vol, num_simplify_iter=3, smooth=True, origin=-template_vol_centroid_rel2template)\n",
    "    \n",
    "#     launch_vtk([actor_mesh(mesh, wireframe=True, color=np.array(high_contrast_colors[i+1])/255., opacity=1) \n",
    "#     for i, mesh in enumerate([template_mesh] + instance_aligned2template_meshes_allStructures[name_u])], \n",
    "#           background_color=(1,1,1))\n",
    "    \n",
    "    ##########################################\n",
    "    # Save instances data\n",
    "    \n",
    "    for s, instance_aligned2template_meshes_rel2templateCentroid in instance_aligned2template_meshes_rel2templateCentroid_allStructures.iteritems():\n",
    "\n",
    "        fp = DataManager.get_instance_mesh_filepath(atlas_name=atlas_name, structure=s, index=0)\n",
    "        create_parent_dir_if_not_exists(fp)\n",
    "        save_mesh_stl(template_meshes_rel2templateCentroid_allStructures[s], fp)\n",
    "        upload_to_s3(fp)\n",
    "        \n",
    "        for i, m in enumerate(instance_aligned2template_meshes_rel2templateCentroid):\n",
    "            fp = DataManager.get_instance_mesh_filepath(atlas_name=atlas_name, structure=s, index=i+1)\n",
    "            save_mesh_stl(m, fp)\n",
    "            upload_to_s3(fp)\n",
    "            \n",
    "        fp = DataManager.get_instance_sources_filepath(atlas_name=atlas_name, structure=s)\n",
    "        create_parent_dir_if_not_exists(fp)\n",
    "        save_pickle(instance_source[s], fp)\n",
    "        upload_to_s3(fp)        \n",
    "    \n",
    "    #########################################\n",
    "    \n",
    "    if name_u == 'IC' or name_u == 'SC':\n",
    "        # IC and SC boundaries are particularly jagged, so do a larger value smoothing.\n",
    "        sigma = 5.\n",
    "    else:\n",
    "        sigma = 2.\n",
    "\n",
    "    structure_mean_shape, structure_origin_rel2templateCentroid, structure_mean_mesh_rel2templateCentroid = \\\n",
    "        average_shape(volume_list=moving_vol_aligned2template_inbbox_allInstances_allStructures[name_u], \\\n",
    "                      origin_list=[(b_rel2templateCentroid[0], b_rel2templateCentroid[2], b_rel2templateCentroid[4])\n",
    "                                   for b_rel2templateCentroid in moving_vol_aligned2template_bbox_rel2templateCentroid_allInstances_allStructures[name_u]],\n",
    "                      consensus_percentage=.5,\n",
    "                      num_simplify_iter=3, smooth=True,\n",
    "                      force_symmetric=(name_u in singular_structures), \n",
    "                      sigma=sigma)\n",
    "    \n",
    "    structure_mean_shape_allStructures[name_u] = structure_mean_shape\n",
    "#     structure_origin_rel2template_allStructures[name_u] = structure_origin_rel2template    \n",
    "#     structure_mean_mesh_rel2template_allStructures[name_u] = structure_mean_mesh_rel2template\n",
    "    structure_origin_rel2templateCentroid_allStructures[name_u] = structure_origin_rel2templateCentroid    \n",
    "    structure_mean_mesh_rel2templateCentroid_allStructures[name_u] = structure_mean_mesh_rel2templateCentroid\n",
    "    \n",
    "    ########################################\n",
    "    # Save mean shape data\n",
    "    \n",
    "    fp = DataManager.get_structure_mean_mesh_filepath(atlas_name=atlas_name, structure=name_u)\n",
    "    create_parent_dir_if_not_exists(fp)\n",
    "    save_mesh_stl(structure_mean_mesh_rel2templateCentroid, fp)\n",
    "    upload_to_s3(fp)\n",
    "    \n",
    "    fp = DataManager.get_structure_mean_shape_filepath(atlas_name=atlas_name, structure=name_u)\n",
    "    bp.pack_ndarray_file(structure_mean_shape, fp)\n",
    "    upload_to_s3(fp)\n",
    "    \n",
    "    fp = DataManager.get_structure_mean_shape_origin_filepath(atlas_name=atlas_name, structure=name_u)\n",
    "    np.savetxt(fp, structure_origin_rel2templateCentroid)\n",
    "    upload_to_s3(fp)\n",
    "    \n",
    "    ##########################################\n",
    "    \n",
    "#     launch_vtk([\n",
    "#     actor_mesh(structure_mean_mesh_rel2template_allStructures[name_u], wireframe=True, opacity=1., color=(1,0,0)),\n",
    "#     actor_volume(structure_mean_shape_allStructures[name_u].astype(np.float32), what='probability',\n",
    "#                 origin=structure_origin_rel2template_allStructures[name_u], c=(0,1,0)),\n",
    "# ], background_color=(0,0,0))\n",
    "\n",
    "    ######################################\n",
    "    \n",
    "instance_volumes.default_factory = None\n",
    "instance_source.default_factory = None\n",
    "moving_vol_aligned2template_inbbox_allInstances_allStructures.default_factory = None\n",
    "moving_vol_aligned2template_bbox_rel2templateCentroid_allInstances_allStructures.default_factory = None\n",
    "scores_allInstances_allStructures.default_factory = None\n",
    "scores_allInstances_allStructures_allLearningRates.default_factory = None\n",
    "instance_aligned2template_meshes_rel2templateCentroid_allStructures.default_factory = None"
   ]
  },
  {
   "cell_type": "code",
   "execution_count": null,
   "metadata": {
    "collapsed": true
   },
   "outputs": [],
   "source": [
    "for structure, scores_allInstances in scores_allInstances_allStructures.iteritems():\n",
    "    fig, axes = plt.subplots(1, 5, figsize=(20,2))\n",
    "    for i, scores in enumerate(scores_allInstances):\n",
    "        axes[i].plot(scores)\n",
    "        axes[i].set_title('%s, %s, %s, %f' % ((name_u,) + instance_source[name_u][i+1] + (np.max(scores),)))\n",
    "plt.show()"
   ]
  },
  {
   "cell_type": "code",
   "execution_count": null,
   "metadata": {
    "collapsed": true
   },
   "outputs": [],
   "source": [
    "launch_vtk([\n",
    "#     actor_mesh(structure_mean_mesh_rel2template_allStructures[name_u], wireframe=True, opacity=1., color=(1,0,0)),\n",
    "    actor_volume(structure_mean_shape_allStructures[name_u].astype(np.float32), what='probability',\n",
    "                origin=structure_origin_rel2templateCentroid_allStructures[name_u], c=(0,1,0)),\n",
    "] + \\\n",
    "    [actor_mesh(mesh, wireframe=True, color=np.array(high_contrast_colors[i+1])/255., opacity=1) \n",
    "for i, mesh in enumerate([template_meshes_rel2templateCentroid_allStructures[name_u]] + \\\n",
    "                         instance_aligned2template_meshes_rel2templateCentroid_allStructures[name_u])] + \\\n",
    "    [actor_sphere((0,0,0), radius=1, color=(0,0,0))], \n",
    "    background_color=(0,0,0))"
   ]
  },
  {
   "cell_type": "code",
   "execution_count": null,
   "metadata": {
    "collapsed": true
   },
   "outputs": [],
   "source": [
    "# viz"
   ]
  },
  {
   "cell_type": "code",
   "execution_count": null,
   "metadata": {
    "collapsed": true
   },
   "outputs": [],
   "source": [
    "# instance_colors = [(1,0,0),(0,1,0),(0,0,1),(1,1,0),(0,1,1),(1,0,1)] # assume each structure has at most 6 instances.\n",
    "\n",
    "# for structure in all_known_structures_sided:\n",
    "# # for structure in ['IC']:\n",
    "\n",
    "#     print structure\n",
    "    \n",
    "#     for direction in ['coronal', 'sagittal', 'horizontal']:\n",
    "\n",
    "#         # Show each instance separately\n",
    "#         for i, polydata in enumerate([structure]):\n",
    "#             instance_actors = actor_mesh(polydata, instance_colors[i], opacity=1, wireframe=False)\n",
    "\n",
    "#             fp = DataManager.get_structure_viz_filepath(atlas_name=atlas_name, \n",
    "#                                                         structure=structure, suffix=direction+'_'+str(i))\n",
    "#             create_parent_dir_if_not_exists(fp)\n",
    "#             launch_vtk([instance_actors], snapshot_fn=fp, interactive=False, init_angle=direction)\n",
    "\n",
    "#         # Show different instances shown aligned together\n",
    "#         instance_actors = [actor_mesh(polydata, instance_colors[i], opacity=1., wireframe=True) \n",
    "#                            for i, polydata in enumerate(polydata_list_allLandmarks[structure])]\n",
    "\n",
    "#         icp_fp = DataManager.get_prob_shape_viz_filepath(stack_m=atlas_name, trial_idx=None, \n",
    "#                                                          structure=structure, suffix=direction+'_icpAligned')\n",
    "#         launch_vtk(instance_actors, snapshot_fn=icp_fp, interactive=False, init_angle=direction)\n",
    "# #         launch_vtk(instance_actors, init_angle=direction)\n",
    "        \n",
    "#         # Show voxel-voted probabilistic shape\n",
    "#         prob_shape_actor = actor_volume(prob_shape_allLandmarks[structure].astype(np.float32), \n",
    "#                                         what='probability', origin=prob_shape_origin_allLandmarks[structure])\n",
    "\n",
    "#         prob_shape_fp = DataManager.get_prob_shape_viz_filepath(stack_m=atlas_name, trial_idx=None, \n",
    "#                                                          structure=structure, suffix=direction+'_probShape')\n",
    "#         launch_vtk([prob_shape_actor], snapshot_fn=prob_shape_fp, interactive=False, init_angle=direction)\n",
    "# #         launch_vtk([prob_shape_actor], init_angle=direction)\n",
    "\n",
    "#         # Show voxel-voted probabilistic shape, thresholded at .5\n",
    "#         actor = actor_mesh(average_polydata_allLandmarks[structure], [1,1,1], opacity=1, wireframe=True)\n",
    "        \n",
    "#         thresh_shape_fp = DataManager.get_prob_shape_viz_filepath(stack_m=atlas_name, trial_idx=None, \n",
    "#                                                                 structure=structure, suffix=direction+'_thresh0.5')\n",
    "#         launch_vtk([actor], snapshot_fn=thresh_shape_fp, interactive=False, init_angle=direction)\n",
    "# #         launch_vtk([actor], init_angle=direction)"
   ]
  },
  {
   "cell_type": "markdown",
   "metadata": {},
   "source": [
    "# Load all necessary data"
   ]
  },
  {
   "cell_type": "code",
   "execution_count": 14,
   "metadata": {
    "collapsed": true
   },
   "outputs": [],
   "source": [
    "# Load canonical info\n",
    "\n",
    "canonical_locations_rel2canon = load_pickle(DataManager.get_structure_mean_positions_filepath(atlas_name=atlas_name))\n",
    "canonical_centroid_rel2uncropped = np.loadtxt(DataManager.get_atlas_canonical_centroid_filepath(atlas_name=atlas_name))"
   ]
  },
  {
   "cell_type": "code",
   "execution_count": 6,
   "metadata": {},
   "outputs": [],
   "source": [
    "structure_volumes_rel2canon = {}\n",
    "structure_meshes_rel2canon = {}\n",
    "\n",
    "for name_s in canonical_locations_rel2canon.keys():\n",
    "    \n",
    "    name_u = convert_to_original_name(name_s)\n",
    "    \n",
    "    prob_shape = bp.unpack_ndarray_file(DataManager.get_structure_mean_shape_filepath(atlas_name=atlas_name, structure=name_u))\n",
    "    prob_shape_origin_rel2structCentroid = np.loadtxt(DataManager.get_structure_mean_shape_origin_filepath(atlas_name=atlas_name, structure=name_u))\n",
    "    \n",
    "    vertices_rel2structCentroid, faces = load_mesh_stl(DataManager.get_structure_mean_mesh_filepath(atlas_name=atlas_name, structure=name_u))\n",
    "\n",
    "    structure_centroid_rel2canon = canonical_locations_rel2canon[name_s]\n",
    "    \n",
    "    if name_s in singular_structures or parse_label(name_s)[1] == 'R':\n",
    "        # Singular or Right - don't need mirroring\n",
    "        structure_volumes_rel2canon[name_s] = (prob_shape, structure_centroid_rel2canon + prob_shape_origin_rel2structCentroid)\n",
    "        structure_meshes_rel2canon[name_s] = mesh_to_polydata(vertices=vertices_rel2structCentroid + structure_centroid_rel2canon, \n",
    "                                                                faces=faces)\n",
    "    else:\n",
    "        # Left - need mirroring\n",
    "        structure_volumes_rel2canon[name_s] = mirror_volume(prob_shape, structure_centroid_rel2canon + prob_shape_origin_rel2structCentroid*(1,1,-1))\n",
    "        structure_meshes_rel2canon[name_s] = mesh_to_polydata(vertices=vertices_rel2structCentroid*(1,1,-1) + structure_centroid_rel2canon, \n",
    "                                                                faces=faces)"
   ]
  },
  {
   "cell_type": "code",
   "execution_count": 8,
   "metadata": {
    "scrolled": true
   },
   "outputs": [],
   "source": [
    "# Save structure meshes with respect to canonical centroid.\n",
    "\n",
    "# for name_s, mesh_rel2canon in structure_meshes_rel2canon.iteritems():\n",
    "#     fp = DataManager.get_mesh_filepath(stack_m=atlas_name, structure=name_s)\n",
    "#     create_parent_dir_if_not_exists(fp)\n",
    "#     save_mesh_stl(mesh_rel2canon, fp)\n",
    "#     upload_to_s3(fp)"
   ]
  },
  {
   "cell_type": "markdown",
   "metadata": {},
   "source": [
    "# Generate full-brain atlas volume"
   ]
  },
  {
   "cell_type": "code",
   "execution_count": 7,
   "metadata": {
    "scrolled": true
   },
   "outputs": [],
   "source": [
    "atlas_volumes, atlas_volume_bbox_rel2canon = \\\n",
    "convert_vol_bbox_dict_to_overall_vol(vol_origin_dict=structure_volumes_rel2canon)"
   ]
  },
  {
   "cell_type": "code",
   "execution_count": 66,
   "metadata": {},
   "outputs": [
    {
     "name": "stdout",
     "output_type": "stream",
     "text": [
      "atlas_volume_bbox_rel2uncropped: [  606.24715421  1033.23689675   151.74948279   508.07431144   127.52975177\n",
      "   501.95086665]\n"
     ]
    }
   ],
   "source": [
    "atlas_volume_bbox_rel2uncropped = atlas_volume_bbox_rel2canon + canonical_centroid_rel2uncropped[[0,0,1,1,2,2]]\n",
    "print 'atlas_volume_bbox_rel2uncropped:', atlas_volume_bbox_rel2uncropped"
   ]
  },
  {
   "cell_type": "code",
   "execution_count": 79,
   "metadata": {
    "scrolled": true
   },
   "outputs": [
    {
     "name": "stdout",
     "output_type": "stream",
     "text": [
      "aws s3 cp \"/home/yuncong/CSHL_volumes/atlasV5/atlasV5_down32_scoreVolume/score_volumes/atlasV5_down32_scoreVolume_LRt_R.bp\" \"s3://mousebrainatlas-data/CSHL_volumes/atlasV5/atlasV5_down32_scoreVolume/score_volumes/atlasV5_down32_scoreVolume_LRt_R.bp\"\n",
      "aws s3 cp \"/home/yuncong/CSHL_volumes/atlasV5/atlasV5_down32_scoreVolume/score_volumes/atlasV5_down32_scoreVolume_LRt_R_bbox.txt\" \"s3://mousebrainatlas-data/CSHL_volumes/atlasV5/atlasV5_down32_scoreVolume/score_volumes/atlasV5_down32_scoreVolume_LRt_R_bbox.txt\"\n",
      "aws s3 cp \"/home/yuncong/CSHL_volumes/atlasV5/atlasV5_down32_scoreVolume/score_volumes/atlasV5_down32_scoreVolume_Sp5C_L.bp\" \"s3://mousebrainatlas-data/CSHL_volumes/atlasV5/atlasV5_down32_scoreVolume/score_volumes/atlasV5_down32_scoreVolume_Sp5C_L.bp\"\n",
      "aws s3 cp \"/home/yuncong/CSHL_volumes/atlasV5/atlasV5_down32_scoreVolume/score_volumes/atlasV5_down32_scoreVolume_Sp5C_L_bbox.txt\" \"s3://mousebrainatlas-data/CSHL_volumes/atlasV5/atlasV5_down32_scoreVolume/score_volumes/atlasV5_down32_scoreVolume_Sp5C_L_bbox.txt\"\n",
      "aws s3 cp \"/home/yuncong/CSHL_volumes/atlasV5/atlasV5_down32_scoreVolume/score_volumes/atlasV5_down32_scoreVolume_Pn_L.bp\" \"s3://mousebrainatlas-data/CSHL_volumes/atlasV5/atlasV5_down32_scoreVolume/score_volumes/atlasV5_down32_scoreVolume_Pn_L.bp\"\n",
      "aws s3 cp \"/home/yuncong/CSHL_volumes/atlasV5/atlasV5_down32_scoreVolume/score_volumes/atlasV5_down32_scoreVolume_Pn_L_bbox.txt\" \"s3://mousebrainatlas-data/CSHL_volumes/atlasV5/atlasV5_down32_scoreVolume/score_volumes/atlasV5_down32_scoreVolume_Pn_L_bbox.txt\"\n",
      "aws s3 cp \"/home/yuncong/CSHL_volumes/atlasV5/atlasV5_down32_scoreVolume/score_volumes/atlasV5_down32_scoreVolume_7N_R.bp\" \"s3://mousebrainatlas-data/CSHL_volumes/atlasV5/atlasV5_down32_scoreVolume/score_volumes/atlasV5_down32_scoreVolume_7N_R.bp\"\n",
      "aws s3 cp \"/home/yuncong/CSHL_volumes/atlasV5/atlasV5_down32_scoreVolume/score_volumes/atlasV5_down32_scoreVolume_7N_R_bbox.txt\" \"s3://mousebrainatlas-data/CSHL_volumes/atlasV5/atlasV5_down32_scoreVolume/score_volumes/atlasV5_down32_scoreVolume_7N_R_bbox.txt\"\n",
      "aws s3 cp \"/home/yuncong/CSHL_volumes/atlasV5/atlasV5_down32_scoreVolume/score_volumes/atlasV5_down32_scoreVolume_PBG_L.bp\" \"s3://mousebrainatlas-data/CSHL_volumes/atlasV5/atlasV5_down32_scoreVolume/score_volumes/atlasV5_down32_scoreVolume_PBG_L.bp\"\n",
      "aws s3 cp \"/home/yuncong/CSHL_volumes/atlasV5/atlasV5_down32_scoreVolume/score_volumes/atlasV5_down32_scoreVolume_PBG_L_bbox.txt\" \"s3://mousebrainatlas-data/CSHL_volumes/atlasV5/atlasV5_down32_scoreVolume/score_volumes/atlasV5_down32_scoreVolume_PBG_L_bbox.txt\"\n",
      "aws s3 cp \"/home/yuncong/CSHL_volumes/atlasV5/atlasV5_down32_scoreVolume/score_volumes/atlasV5_down32_scoreVolume_VLL_L.bp\" \"s3://mousebrainatlas-data/CSHL_volumes/atlasV5/atlasV5_down32_scoreVolume/score_volumes/atlasV5_down32_scoreVolume_VLL_L.bp\"\n",
      "aws s3 cp \"/home/yuncong/CSHL_volumes/atlasV5/atlasV5_down32_scoreVolume/score_volumes/atlasV5_down32_scoreVolume_VLL_L_bbox.txt\" \"s3://mousebrainatlas-data/CSHL_volumes/atlasV5/atlasV5_down32_scoreVolume/score_volumes/atlasV5_down32_scoreVolume_VLL_L_bbox.txt\"\n",
      "aws s3 cp \"/home/yuncong/CSHL_volumes/atlasV5/atlasV5_down32_scoreVolume/score_volumes/atlasV5_down32_scoreVolume_4N_R.bp\" \"s3://mousebrainatlas-data/CSHL_volumes/atlasV5/atlasV5_down32_scoreVolume/score_volumes/atlasV5_down32_scoreVolume_4N_R.bp\"\n",
      "aws s3 cp \"/home/yuncong/CSHL_volumes/atlasV5/atlasV5_down32_scoreVolume/score_volumes/atlasV5_down32_scoreVolume_4N_R_bbox.txt\" \"s3://mousebrainatlas-data/CSHL_volumes/atlasV5/atlasV5_down32_scoreVolume/score_volumes/atlasV5_down32_scoreVolume_4N_R_bbox.txt\"\n",
      "aws s3 cp \"/home/yuncong/CSHL_volumes/atlasV5/atlasV5_down32_scoreVolume/score_volumes/atlasV5_down32_scoreVolume_VLL_R.bp\" \"s3://mousebrainatlas-data/CSHL_volumes/atlasV5/atlasV5_down32_scoreVolume/score_volumes/atlasV5_down32_scoreVolume_VLL_R.bp\"\n",
      "aws s3 cp \"/home/yuncong/CSHL_volumes/atlasV5/atlasV5_down32_scoreVolume/score_volumes/atlasV5_down32_scoreVolume_VLL_R_bbox.txt\" \"s3://mousebrainatlas-data/CSHL_volumes/atlasV5/atlasV5_down32_scoreVolume/score_volumes/atlasV5_down32_scoreVolume_VLL_R_bbox.txt\"\n",
      "aws s3 cp \"/home/yuncong/CSHL_volumes/atlasV5/atlasV5_down32_scoreVolume/score_volumes/atlasV5_down32_scoreVolume_7N_L.bp\" \"s3://mousebrainatlas-data/CSHL_volumes/atlasV5/atlasV5_down32_scoreVolume/score_volumes/atlasV5_down32_scoreVolume_7N_L.bp\"\n",
      "aws s3 cp \"/home/yuncong/CSHL_volumes/atlasV5/atlasV5_down32_scoreVolume/score_volumes/atlasV5_down32_scoreVolume_7N_L_bbox.txt\" \"s3://mousebrainatlas-data/CSHL_volumes/atlasV5/atlasV5_down32_scoreVolume/score_volumes/atlasV5_down32_scoreVolume_7N_L_bbox.txt\"\n",
      "aws s3 cp \"/home/yuncong/CSHL_volumes/atlasV5/atlasV5_down32_scoreVolume/score_volumes/atlasV5_down32_scoreVolume_PBG_R.bp\" \"s3://mousebrainatlas-data/CSHL_volumes/atlasV5/atlasV5_down32_scoreVolume/score_volumes/atlasV5_down32_scoreVolume_PBG_R.bp\"\n",
      "aws s3 cp \"/home/yuncong/CSHL_volumes/atlasV5/atlasV5_down32_scoreVolume/score_volumes/atlasV5_down32_scoreVolume_PBG_R_bbox.txt\" \"s3://mousebrainatlas-data/CSHL_volumes/atlasV5/atlasV5_down32_scoreVolume/score_volumes/atlasV5_down32_scoreVolume_PBG_R_bbox.txt\"\n",
      "aws s3 cp \"/home/yuncong/CSHL_volumes/atlasV5/atlasV5_down32_scoreVolume/score_volumes/atlasV5_down32_scoreVolume_RtTg.bp\" \"s3://mousebrainatlas-data/CSHL_volumes/atlasV5/atlasV5_down32_scoreVolume/score_volumes/atlasV5_down32_scoreVolume_RtTg.bp\"\n",
      "aws s3 cp \"/home/yuncong/CSHL_volumes/atlasV5/atlasV5_down32_scoreVolume/score_volumes/atlasV5_down32_scoreVolume_RtTg_bbox.txt\" \"s3://mousebrainatlas-data/CSHL_volumes/atlasV5/atlasV5_down32_scoreVolume/score_volumes/atlasV5_down32_scoreVolume_RtTg_bbox.txt\"\n",
      "aws s3 cp \"/home/yuncong/CSHL_volumes/atlasV5/atlasV5_down32_scoreVolume/score_volumes/atlasV5_down32_scoreVolume_Sp5C_R.bp\" \"s3://mousebrainatlas-data/CSHL_volumes/atlasV5/atlasV5_down32_scoreVolume/score_volumes/atlasV5_down32_scoreVolume_Sp5C_R.bp\"\n",
      "aws s3 cp \"/home/yuncong/CSHL_volumes/atlasV5/atlasV5_down32_scoreVolume/score_volumes/atlasV5_down32_scoreVolume_Sp5C_R_bbox.txt\" \"s3://mousebrainatlas-data/CSHL_volumes/atlasV5/atlasV5_down32_scoreVolume/score_volumes/atlasV5_down32_scoreVolume_Sp5C_R_bbox.txt\"\n",
      "aws s3 cp \"/home/yuncong/CSHL_volumes/atlasV5/atlasV5_down32_scoreVolume/score_volumes/atlasV5_down32_scoreVolume_Pn_R.bp\" \"s3://mousebrainatlas-data/CSHL_volumes/atlasV5/atlasV5_down32_scoreVolume/score_volumes/atlasV5_down32_scoreVolume_Pn_R.bp\"\n",
      "aws s3 cp \"/home/yuncong/CSHL_volumes/atlasV5/atlasV5_down32_scoreVolume/score_volumes/atlasV5_down32_scoreVolume_Pn_R_bbox.txt\" \"s3://mousebrainatlas-data/CSHL_volumes/atlasV5/atlasV5_down32_scoreVolume/score_volumes/atlasV5_down32_scoreVolume_Pn_R_bbox.txt\"\n",
      "aws s3 cp \"/home/yuncong/CSHL_volumes/atlasV5/atlasV5_down32_scoreVolume/score_volumes/atlasV5_down32_scoreVolume_LRt_L.bp\" \"s3://mousebrainatlas-data/CSHL_volumes/atlasV5/atlasV5_down32_scoreVolume/score_volumes/atlasV5_down32_scoreVolume_LRt_L.bp\"\n",
      "aws s3 cp \"/home/yuncong/CSHL_volumes/atlasV5/atlasV5_down32_scoreVolume/score_volumes/atlasV5_down32_scoreVolume_LRt_L_bbox.txt\" \"s3://mousebrainatlas-data/CSHL_volumes/atlasV5/atlasV5_down32_scoreVolume/score_volumes/atlasV5_down32_scoreVolume_LRt_L_bbox.txt\"\n",
      "aws s3 cp \"/home/yuncong/CSHL_volumes/atlasV5/atlasV5_down32_scoreVolume/score_volumes/atlasV5_down32_scoreVolume_Sp5O_R.bp\" \"s3://mousebrainatlas-data/CSHL_volumes/atlasV5/atlasV5_down32_scoreVolume/score_volumes/atlasV5_down32_scoreVolume_Sp5O_R.bp\"\n",
      "aws s3 cp \"/home/yuncong/CSHL_volumes/atlasV5/atlasV5_down32_scoreVolume/score_volumes/atlasV5_down32_scoreVolume_Sp5O_R_bbox.txt\" \"s3://mousebrainatlas-data/CSHL_volumes/atlasV5/atlasV5_down32_scoreVolume/score_volumes/atlasV5_down32_scoreVolume_Sp5O_R_bbox.txt\"\n",
      "aws s3 cp \"/home/yuncong/CSHL_volumes/atlasV5/atlasV5_down32_scoreVolume/score_volumes/atlasV5_down32_scoreVolume_SNR_L.bp\" \"s3://mousebrainatlas-data/CSHL_volumes/atlasV5/atlasV5_down32_scoreVolume/score_volumes/atlasV5_down32_scoreVolume_SNR_L.bp\"\n",
      "aws s3 cp \"/home/yuncong/CSHL_volumes/atlasV5/atlasV5_down32_scoreVolume/score_volumes/atlasV5_down32_scoreVolume_SNR_L_bbox.txt\" \"s3://mousebrainatlas-data/CSHL_volumes/atlasV5/atlasV5_down32_scoreVolume/score_volumes/atlasV5_down32_scoreVolume_SNR_L_bbox.txt\"\n",
      "aws s3 cp \"/home/yuncong/CSHL_volumes/atlasV5/atlasV5_down32_scoreVolume/score_volumes/atlasV5_down32_scoreVolume_12N.bp\" \"s3://mousebrainatlas-data/CSHL_volumes/atlasV5/atlasV5_down32_scoreVolume/score_volumes/atlasV5_down32_scoreVolume_12N.bp\"\n"
     ]
    },
    {
     "name": "stdout",
     "output_type": "stream",
     "text": [
      "aws s3 cp \"/home/yuncong/CSHL_volumes/atlasV5/atlasV5_down32_scoreVolume/score_volumes/atlasV5_down32_scoreVolume_12N_bbox.txt\" \"s3://mousebrainatlas-data/CSHL_volumes/atlasV5/atlasV5_down32_scoreVolume/score_volumes/atlasV5_down32_scoreVolume_12N_bbox.txt\"\n",
      "aws s3 cp \"/home/yuncong/CSHL_volumes/atlasV5/atlasV5_down32_scoreVolume/score_volumes/atlasV5_down32_scoreVolume_SNR_R.bp\" \"s3://mousebrainatlas-data/CSHL_volumes/atlasV5/atlasV5_down32_scoreVolume/score_volumes/atlasV5_down32_scoreVolume_SNR_R.bp\"\n",
      "aws s3 cp \"/home/yuncong/CSHL_volumes/atlasV5/atlasV5_down32_scoreVolume/score_volumes/atlasV5_down32_scoreVolume_SNR_R_bbox.txt\" \"s3://mousebrainatlas-data/CSHL_volumes/atlasV5/atlasV5_down32_scoreVolume/score_volumes/atlasV5_down32_scoreVolume_SNR_R_bbox.txt\"\n",
      "aws s3 cp \"/home/yuncong/CSHL_volumes/atlasV5/atlasV5_down32_scoreVolume/score_volumes/atlasV5_down32_scoreVolume_Sp5O_L.bp\" \"s3://mousebrainatlas-data/CSHL_volumes/atlasV5/atlasV5_down32_scoreVolume/score_volumes/atlasV5_down32_scoreVolume_Sp5O_L.bp\"\n",
      "aws s3 cp \"/home/yuncong/CSHL_volumes/atlasV5/atlasV5_down32_scoreVolume/score_volumes/atlasV5_down32_scoreVolume_Sp5O_L_bbox.txt\" \"s3://mousebrainatlas-data/CSHL_volumes/atlasV5/atlasV5_down32_scoreVolume/score_volumes/atlasV5_down32_scoreVolume_Sp5O_L_bbox.txt\"\n",
      "aws s3 cp \"/home/yuncong/CSHL_volumes/atlasV5/atlasV5_down32_scoreVolume/score_volumes/atlasV5_down32_scoreVolume_DC_R.bp\" \"s3://mousebrainatlas-data/CSHL_volumes/atlasV5/atlasV5_down32_scoreVolume/score_volumes/atlasV5_down32_scoreVolume_DC_R.bp\"\n",
      "aws s3 cp \"/home/yuncong/CSHL_volumes/atlasV5/atlasV5_down32_scoreVolume/score_volumes/atlasV5_down32_scoreVolume_DC_R_bbox.txt\" \"s3://mousebrainatlas-data/CSHL_volumes/atlasV5/atlasV5_down32_scoreVolume/score_volumes/atlasV5_down32_scoreVolume_DC_R_bbox.txt\"\n",
      "aws s3 cp \"/home/yuncong/CSHL_volumes/atlasV5/atlasV5_down32_scoreVolume/score_volumes/atlasV5_down32_scoreVolume_VCA_L.bp\" \"s3://mousebrainatlas-data/CSHL_volumes/atlasV5/atlasV5_down32_scoreVolume/score_volumes/atlasV5_down32_scoreVolume_VCA_L.bp\"\n",
      "aws s3 cp \"/home/yuncong/CSHL_volumes/atlasV5/atlasV5_down32_scoreVolume/score_volumes/atlasV5_down32_scoreVolume_VCA_L_bbox.txt\" \"s3://mousebrainatlas-data/CSHL_volumes/atlasV5/atlasV5_down32_scoreVolume/score_volumes/atlasV5_down32_scoreVolume_VCA_L_bbox.txt\"\n",
      "aws s3 cp \"/home/yuncong/CSHL_volumes/atlasV5/atlasV5_down32_scoreVolume/score_volumes/atlasV5_down32_scoreVolume_3N_L.bp\" \"s3://mousebrainatlas-data/CSHL_volumes/atlasV5/atlasV5_down32_scoreVolume/score_volumes/atlasV5_down32_scoreVolume_3N_L.bp\"\n",
      "aws s3 cp \"/home/yuncong/CSHL_volumes/atlasV5/atlasV5_down32_scoreVolume/score_volumes/atlasV5_down32_scoreVolume_3N_L_bbox.txt\" \"s3://mousebrainatlas-data/CSHL_volumes/atlasV5/atlasV5_down32_scoreVolume/score_volumes/atlasV5_down32_scoreVolume_3N_L_bbox.txt\"\n",
      "aws s3 cp \"/home/yuncong/CSHL_volumes/atlasV5/atlasV5_down32_scoreVolume/score_volumes/atlasV5_down32_scoreVolume_6N_R.bp\" \"s3://mousebrainatlas-data/CSHL_volumes/atlasV5/atlasV5_down32_scoreVolume/score_volumes/atlasV5_down32_scoreVolume_6N_R.bp\"\n",
      "aws s3 cp \"/home/yuncong/CSHL_volumes/atlasV5/atlasV5_down32_scoreVolume/score_volumes/atlasV5_down32_scoreVolume_6N_R_bbox.txt\" \"s3://mousebrainatlas-data/CSHL_volumes/atlasV5/atlasV5_down32_scoreVolume/score_volumes/atlasV5_down32_scoreVolume_6N_R_bbox.txt\"\n",
      "aws s3 cp \"/home/yuncong/CSHL_volumes/atlasV5/atlasV5_down32_scoreVolume/score_volumes/atlasV5_down32_scoreVolume_Sp5I_L.bp\" \"s3://mousebrainatlas-data/CSHL_volumes/atlasV5/atlasV5_down32_scoreVolume/score_volumes/atlasV5_down32_scoreVolume_Sp5I_L.bp\"\n",
      "aws s3 cp \"/home/yuncong/CSHL_volumes/atlasV5/atlasV5_down32_scoreVolume/score_volumes/atlasV5_down32_scoreVolume_Sp5I_L_bbox.txt\" \"s3://mousebrainatlas-data/CSHL_volumes/atlasV5/atlasV5_down32_scoreVolume/score_volumes/atlasV5_down32_scoreVolume_Sp5I_L_bbox.txt\"\n",
      "aws s3 cp \"/home/yuncong/CSHL_volumes/atlasV5/atlasV5_down32_scoreVolume/score_volumes/atlasV5_down32_scoreVolume_RMC_R.bp\" \"s3://mousebrainatlas-data/CSHL_volumes/atlasV5/atlasV5_down32_scoreVolume/score_volumes/atlasV5_down32_scoreVolume_RMC_R.bp\"\n",
      "aws s3 cp \"/home/yuncong/CSHL_volumes/atlasV5/atlasV5_down32_scoreVolume/score_volumes/atlasV5_down32_scoreVolume_RMC_R_bbox.txt\" \"s3://mousebrainatlas-data/CSHL_volumes/atlasV5/atlasV5_down32_scoreVolume/score_volumes/atlasV5_down32_scoreVolume_RMC_R_bbox.txt\"\n",
      "aws s3 cp \"/home/yuncong/CSHL_volumes/atlasV5/atlasV5_down32_scoreVolume/score_volumes/atlasV5_down32_scoreVolume_5N_L.bp\" \"s3://mousebrainatlas-data/CSHL_volumes/atlasV5/atlasV5_down32_scoreVolume/score_volumes/atlasV5_down32_scoreVolume_5N_L.bp\"\n",
      "aws s3 cp \"/home/yuncong/CSHL_volumes/atlasV5/atlasV5_down32_scoreVolume/score_volumes/atlasV5_down32_scoreVolume_5N_L_bbox.txt\" \"s3://mousebrainatlas-data/CSHL_volumes/atlasV5/atlasV5_down32_scoreVolume/score_volumes/atlasV5_down32_scoreVolume_5N_L_bbox.txt\"\n",
      "aws s3 cp \"/home/yuncong/CSHL_volumes/atlasV5/atlasV5_down32_scoreVolume/score_volumes/atlasV5_down32_scoreVolume_SNC_L.bp\" \"s3://mousebrainatlas-data/CSHL_volumes/atlasV5/atlasV5_down32_scoreVolume/score_volumes/atlasV5_down32_scoreVolume_SNC_L.bp\"\n",
      "aws s3 cp \"/home/yuncong/CSHL_volumes/atlasV5/atlasV5_down32_scoreVolume/score_volumes/atlasV5_down32_scoreVolume_SNC_L_bbox.txt\" \"s3://mousebrainatlas-data/CSHL_volumes/atlasV5/atlasV5_down32_scoreVolume/score_volumes/atlasV5_down32_scoreVolume_SNC_L_bbox.txt\"\n",
      "aws s3 cp \"/home/yuncong/CSHL_volumes/atlasV5/atlasV5_down32_scoreVolume/score_volumes/atlasV5_down32_scoreVolume_SNC_R.bp\" \"s3://mousebrainatlas-data/CSHL_volumes/atlasV5/atlasV5_down32_scoreVolume/score_volumes/atlasV5_down32_scoreVolume_SNC_R.bp\"\n",
      "aws s3 cp \"/home/yuncong/CSHL_volumes/atlasV5/atlasV5_down32_scoreVolume/score_volumes/atlasV5_down32_scoreVolume_SNC_R_bbox.txt\" \"s3://mousebrainatlas-data/CSHL_volumes/atlasV5/atlasV5_down32_scoreVolume/score_volumes/atlasV5_down32_scoreVolume_SNC_R_bbox.txt\"\n",
      "aws s3 cp \"/home/yuncong/CSHL_volumes/atlasV5/atlasV5_down32_scoreVolume/score_volumes/atlasV5_down32_scoreVolume_AP.bp\" \"s3://mousebrainatlas-data/CSHL_volumes/atlasV5/atlasV5_down32_scoreVolume/score_volumes/atlasV5_down32_scoreVolume_AP.bp\"\n",
      "aws s3 cp \"/home/yuncong/CSHL_volumes/atlasV5/atlasV5_down32_scoreVolume/score_volumes/atlasV5_down32_scoreVolume_AP_bbox.txt\" \"s3://mousebrainatlas-data/CSHL_volumes/atlasV5/atlasV5_down32_scoreVolume/score_volumes/atlasV5_down32_scoreVolume_AP_bbox.txt\"\n",
      "aws s3 cp \"/home/yuncong/CSHL_volumes/atlasV5/atlasV5_down32_scoreVolume/score_volumes/atlasV5_down32_scoreVolume_5N_R.bp\" \"s3://mousebrainatlas-data/CSHL_volumes/atlasV5/atlasV5_down32_scoreVolume/score_volumes/atlasV5_down32_scoreVolume_5N_R.bp\"\n",
      "aws s3 cp \"/home/yuncong/CSHL_volumes/atlasV5/atlasV5_down32_scoreVolume/score_volumes/atlasV5_down32_scoreVolume_5N_R_bbox.txt\" \"s3://mousebrainatlas-data/CSHL_volumes/atlasV5/atlasV5_down32_scoreVolume/score_volumes/atlasV5_down32_scoreVolume_5N_R_bbox.txt\"\n",
      "aws s3 cp \"/home/yuncong/CSHL_volumes/atlasV5/atlasV5_down32_scoreVolume/score_volumes/atlasV5_down32_scoreVolume_Sp5I_R.bp\" \"s3://mousebrainatlas-data/CSHL_volumes/atlasV5/atlasV5_down32_scoreVolume/score_volumes/atlasV5_down32_scoreVolume_Sp5I_R.bp\"\n",
      "aws s3 cp \"/home/yuncong/CSHL_volumes/atlasV5/atlasV5_down32_scoreVolume/score_volumes/atlasV5_down32_scoreVolume_Sp5I_R_bbox.txt\" \"s3://mousebrainatlas-data/CSHL_volumes/atlasV5/atlasV5_down32_scoreVolume/score_volumes/atlasV5_down32_scoreVolume_Sp5I_R_bbox.txt\"\n",
      "aws s3 cp \"/home/yuncong/CSHL_volumes/atlasV5/atlasV5_down32_scoreVolume/score_volumes/atlasV5_down32_scoreVolume_3N_R.bp\" \"s3://mousebrainatlas-data/CSHL_volumes/atlasV5/atlasV5_down32_scoreVolume/score_volumes/atlasV5_down32_scoreVolume_3N_R.bp\"\n",
      "aws s3 cp \"/home/yuncong/CSHL_volumes/atlasV5/atlasV5_down32_scoreVolume/score_volumes/atlasV5_down32_scoreVolume_3N_R_bbox.txt\" \"s3://mousebrainatlas-data/CSHL_volumes/atlasV5/atlasV5_down32_scoreVolume/score_volumes/atlasV5_down32_scoreVolume_3N_R_bbox.txt\"\n",
      "aws s3 cp \"/home/yuncong/CSHL_volumes/atlasV5/atlasV5_down32_scoreVolume/score_volumes/atlasV5_down32_scoreVolume_6N_L.bp\" \"s3://mousebrainatlas-data/CSHL_volumes/atlasV5/atlasV5_down32_scoreVolume/score_volumes/atlasV5_down32_scoreVolume_6N_L.bp\"\n",
      "aws s3 cp \"/home/yuncong/CSHL_volumes/atlasV5/atlasV5_down32_scoreVolume/score_volumes/atlasV5_down32_scoreVolume_6N_L_bbox.txt\" \"s3://mousebrainatlas-data/CSHL_volumes/atlasV5/atlasV5_down32_scoreVolume/score_volumes/atlasV5_down32_scoreVolume_6N_L_bbox.txt\"\n"
     ]
    },
    {
     "name": "stdout",
     "output_type": "stream",
     "text": [
      "aws s3 cp \"/home/yuncong/CSHL_volumes/atlasV5/atlasV5_down32_scoreVolume/score_volumes/atlasV5_down32_scoreVolume_IC.bp\" \"s3://mousebrainatlas-data/CSHL_volumes/atlasV5/atlasV5_down32_scoreVolume/score_volumes/atlasV5_down32_scoreVolume_IC.bp\"\n",
      "aws s3 cp \"/home/yuncong/CSHL_volumes/atlasV5/atlasV5_down32_scoreVolume/score_volumes/atlasV5_down32_scoreVolume_IC_bbox.txt\" \"s3://mousebrainatlas-data/CSHL_volumes/atlasV5/atlasV5_down32_scoreVolume/score_volumes/atlasV5_down32_scoreVolume_IC_bbox.txt\"\n",
      "aws s3 cp \"/home/yuncong/CSHL_volumes/atlasV5/atlasV5_down32_scoreVolume/score_volumes/atlasV5_down32_scoreVolume_VCA_R.bp\" \"s3://mousebrainatlas-data/CSHL_volumes/atlasV5/atlasV5_down32_scoreVolume/score_volumes/atlasV5_down32_scoreVolume_VCA_R.bp\"\n",
      "aws s3 cp \"/home/yuncong/CSHL_volumes/atlasV5/atlasV5_down32_scoreVolume/score_volumes/atlasV5_down32_scoreVolume_VCA_R_bbox.txt\" \"s3://mousebrainatlas-data/CSHL_volumes/atlasV5/atlasV5_down32_scoreVolume/score_volumes/atlasV5_down32_scoreVolume_VCA_R_bbox.txt\"\n",
      "aws s3 cp \"/home/yuncong/CSHL_volumes/atlasV5/atlasV5_down32_scoreVolume/score_volumes/atlasV5_down32_scoreVolume_DC_L.bp\" \"s3://mousebrainatlas-data/CSHL_volumes/atlasV5/atlasV5_down32_scoreVolume/score_volumes/atlasV5_down32_scoreVolume_DC_L.bp\"\n",
      "aws s3 cp \"/home/yuncong/CSHL_volumes/atlasV5/atlasV5_down32_scoreVolume/score_volumes/atlasV5_down32_scoreVolume_DC_L_bbox.txt\" \"s3://mousebrainatlas-data/CSHL_volumes/atlasV5/atlasV5_down32_scoreVolume/score_volumes/atlasV5_down32_scoreVolume_DC_L_bbox.txt\"\n",
      "aws s3 cp \"/home/yuncong/CSHL_volumes/atlasV5/atlasV5_down32_scoreVolume/score_volumes/atlasV5_down32_scoreVolume_Amb_R.bp\" \"s3://mousebrainatlas-data/CSHL_volumes/atlasV5/atlasV5_down32_scoreVolume/score_volumes/atlasV5_down32_scoreVolume_Amb_R.bp\"\n",
      "aws s3 cp \"/home/yuncong/CSHL_volumes/atlasV5/atlasV5_down32_scoreVolume/score_volumes/atlasV5_down32_scoreVolume_Amb_R_bbox.txt\" \"s3://mousebrainatlas-data/CSHL_volumes/atlasV5/atlasV5_down32_scoreVolume/score_volumes/atlasV5_down32_scoreVolume_Amb_R_bbox.txt\"\n",
      "aws s3 cp \"/home/yuncong/CSHL_volumes/atlasV5/atlasV5_down32_scoreVolume/score_volumes/atlasV5_down32_scoreVolume_VCP_R.bp\" \"s3://mousebrainatlas-data/CSHL_volumes/atlasV5/atlasV5_down32_scoreVolume/score_volumes/atlasV5_down32_scoreVolume_VCP_R.bp\"\n",
      "aws s3 cp \"/home/yuncong/CSHL_volumes/atlasV5/atlasV5_down32_scoreVolume/score_volumes/atlasV5_down32_scoreVolume_VCP_R_bbox.txt\" \"s3://mousebrainatlas-data/CSHL_volumes/atlasV5/atlasV5_down32_scoreVolume/score_volumes/atlasV5_down32_scoreVolume_VCP_R_bbox.txt\"\n",
      "aws s3 cp \"/home/yuncong/CSHL_volumes/atlasV5/atlasV5_down32_scoreVolume/score_volumes/atlasV5_down32_scoreVolume_LC_R.bp\" \"s3://mousebrainatlas-data/CSHL_volumes/atlasV5/atlasV5_down32_scoreVolume/score_volumes/atlasV5_down32_scoreVolume_LC_R.bp\"\n",
      "aws s3 cp \"/home/yuncong/CSHL_volumes/atlasV5/atlasV5_down32_scoreVolume/score_volumes/atlasV5_down32_scoreVolume_LC_R_bbox.txt\" \"s3://mousebrainatlas-data/CSHL_volumes/atlasV5/atlasV5_down32_scoreVolume/score_volumes/atlasV5_down32_scoreVolume_LC_R_bbox.txt\"\n",
      "aws s3 cp \"/home/yuncong/CSHL_volumes/atlasV5/atlasV5_down32_scoreVolume/score_volumes/atlasV5_down32_scoreVolume_10N_R.bp\" \"s3://mousebrainatlas-data/CSHL_volumes/atlasV5/atlasV5_down32_scoreVolume/score_volumes/atlasV5_down32_scoreVolume_10N_R.bp\"\n",
      "aws s3 cp \"/home/yuncong/CSHL_volumes/atlasV5/atlasV5_down32_scoreVolume/score_volumes/atlasV5_down32_scoreVolume_10N_R_bbox.txt\" \"s3://mousebrainatlas-data/CSHL_volumes/atlasV5/atlasV5_down32_scoreVolume/score_volumes/atlasV5_down32_scoreVolume_10N_R_bbox.txt\"\n",
      "aws s3 cp \"/home/yuncong/CSHL_volumes/atlasV5/atlasV5_down32_scoreVolume/score_volumes/atlasV5_down32_scoreVolume_7n_R.bp\" \"s3://mousebrainatlas-data/CSHL_volumes/atlasV5/atlasV5_down32_scoreVolume/score_volumes/atlasV5_down32_scoreVolume_7n_R.bp\"\n",
      "aws s3 cp \"/home/yuncong/CSHL_volumes/atlasV5/atlasV5_down32_scoreVolume/score_volumes/atlasV5_down32_scoreVolume_7n_R_bbox.txt\" \"s3://mousebrainatlas-data/CSHL_volumes/atlasV5/atlasV5_down32_scoreVolume/score_volumes/atlasV5_down32_scoreVolume_7n_R_bbox.txt\"\n",
      "aws s3 cp \"/home/yuncong/CSHL_volumes/atlasV5/atlasV5_down32_scoreVolume/score_volumes/atlasV5_down32_scoreVolume_RMC_L.bp\" \"s3://mousebrainatlas-data/CSHL_volumes/atlasV5/atlasV5_down32_scoreVolume/score_volumes/atlasV5_down32_scoreVolume_RMC_L.bp\"\n",
      "aws s3 cp \"/home/yuncong/CSHL_volumes/atlasV5/atlasV5_down32_scoreVolume/score_volumes/atlasV5_down32_scoreVolume_RMC_L_bbox.txt\" \"s3://mousebrainatlas-data/CSHL_volumes/atlasV5/atlasV5_down32_scoreVolume/score_volumes/atlasV5_down32_scoreVolume_RMC_L_bbox.txt\"\n",
      "aws s3 cp \"/home/yuncong/CSHL_volumes/atlasV5/atlasV5_down32_scoreVolume/score_volumes/atlasV5_down32_scoreVolume_Tz_L.bp\" \"s3://mousebrainatlas-data/CSHL_volumes/atlasV5/atlasV5_down32_scoreVolume/score_volumes/atlasV5_down32_scoreVolume_Tz_L.bp\"\n",
      "aws s3 cp \"/home/yuncong/CSHL_volumes/atlasV5/atlasV5_down32_scoreVolume/score_volumes/atlasV5_down32_scoreVolume_Tz_L_bbox.txt\" \"s3://mousebrainatlas-data/CSHL_volumes/atlasV5/atlasV5_down32_scoreVolume/score_volumes/atlasV5_down32_scoreVolume_Tz_L_bbox.txt\"\n",
      "aws s3 cp \"/home/yuncong/CSHL_volumes/atlasV5/atlasV5_down32_scoreVolume/score_volumes/atlasV5_down32_scoreVolume_Tz_R.bp\" \"s3://mousebrainatlas-data/CSHL_volumes/atlasV5/atlasV5_down32_scoreVolume/score_volumes/atlasV5_down32_scoreVolume_Tz_R.bp\"\n",
      "aws s3 cp \"/home/yuncong/CSHL_volumes/atlasV5/atlasV5_down32_scoreVolume/score_volumes/atlasV5_down32_scoreVolume_Tz_R_bbox.txt\" \"s3://mousebrainatlas-data/CSHL_volumes/atlasV5/atlasV5_down32_scoreVolume/score_volumes/atlasV5_down32_scoreVolume_Tz_R_bbox.txt\"\n",
      "aws s3 cp \"/home/yuncong/CSHL_volumes/atlasV5/atlasV5_down32_scoreVolume/score_volumes/atlasV5_down32_scoreVolume_7n_L.bp\" \"s3://mousebrainatlas-data/CSHL_volumes/atlasV5/atlasV5_down32_scoreVolume/score_volumes/atlasV5_down32_scoreVolume_7n_L.bp\"\n",
      "aws s3 cp \"/home/yuncong/CSHL_volumes/atlasV5/atlasV5_down32_scoreVolume/score_volumes/atlasV5_down32_scoreVolume_7n_L_bbox.txt\" \"s3://mousebrainatlas-data/CSHL_volumes/atlasV5/atlasV5_down32_scoreVolume/score_volumes/atlasV5_down32_scoreVolume_7n_L_bbox.txt\"\n",
      "aws s3 cp \"/home/yuncong/CSHL_volumes/atlasV5/atlasV5_down32_scoreVolume/score_volumes/atlasV5_down32_scoreVolume_4N_L.bp\" \"s3://mousebrainatlas-data/CSHL_volumes/atlasV5/atlasV5_down32_scoreVolume/score_volumes/atlasV5_down32_scoreVolume_4N_L.bp\"\n",
      "aws s3 cp \"/home/yuncong/CSHL_volumes/atlasV5/atlasV5_down32_scoreVolume/score_volumes/atlasV5_down32_scoreVolume_4N_L_bbox.txt\" \"s3://mousebrainatlas-data/CSHL_volumes/atlasV5/atlasV5_down32_scoreVolume/score_volumes/atlasV5_down32_scoreVolume_4N_L_bbox.txt\"\n",
      "aws s3 cp \"/home/yuncong/CSHL_volumes/atlasV5/atlasV5_down32_scoreVolume/score_volumes/atlasV5_down32_scoreVolume_LC_L.bp\" \"s3://mousebrainatlas-data/CSHL_volumes/atlasV5/atlasV5_down32_scoreVolume/score_volumes/atlasV5_down32_scoreVolume_LC_L.bp\"\n",
      "aws s3 cp \"/home/yuncong/CSHL_volumes/atlasV5/atlasV5_down32_scoreVolume/score_volumes/atlasV5_down32_scoreVolume_LC_L_bbox.txt\" \"s3://mousebrainatlas-data/CSHL_volumes/atlasV5/atlasV5_down32_scoreVolume/score_volumes/atlasV5_down32_scoreVolume_LC_L_bbox.txt\"\n",
      "aws s3 cp \"/home/yuncong/CSHL_volumes/atlasV5/atlasV5_down32_scoreVolume/score_volumes/atlasV5_down32_scoreVolume_10N_L.bp\" \"s3://mousebrainatlas-data/CSHL_volumes/atlasV5/atlasV5_down32_scoreVolume/score_volumes/atlasV5_down32_scoreVolume_10N_L.bp\"\n",
      "aws s3 cp \"/home/yuncong/CSHL_volumes/atlasV5/atlasV5_down32_scoreVolume/score_volumes/atlasV5_down32_scoreVolume_10N_L_bbox.txt\" \"s3://mousebrainatlas-data/CSHL_volumes/atlasV5/atlasV5_down32_scoreVolume/score_volumes/atlasV5_down32_scoreVolume_10N_L_bbox.txt\"\n",
      "aws s3 cp \"/home/yuncong/CSHL_volumes/atlasV5/atlasV5_down32_scoreVolume/score_volumes/atlasV5_down32_scoreVolume_SC.bp\" \"s3://mousebrainatlas-data/CSHL_volumes/atlasV5/atlasV5_down32_scoreVolume/score_volumes/atlasV5_down32_scoreVolume_SC.bp\"\n",
      "aws s3 cp \"/home/yuncong/CSHL_volumes/atlasV5/atlasV5_down32_scoreVolume/score_volumes/atlasV5_down32_scoreVolume_SC_bbox.txt\" \"s3://mousebrainatlas-data/CSHL_volumes/atlasV5/atlasV5_down32_scoreVolume/score_volumes/atlasV5_down32_scoreVolume_SC_bbox.txt\"\n",
      "aws s3 cp \"/home/yuncong/CSHL_volumes/atlasV5/atlasV5_down32_scoreVolume/score_volumes/atlasV5_down32_scoreVolume_VCP_L.bp\" \"s3://mousebrainatlas-data/CSHL_volumes/atlasV5/atlasV5_down32_scoreVolume/score_volumes/atlasV5_down32_scoreVolume_VCP_L.bp\"\n"
     ]
    },
    {
     "name": "stdout",
     "output_type": "stream",
     "text": [
      "aws s3 cp \"/home/yuncong/CSHL_volumes/atlasV5/atlasV5_down32_scoreVolume/score_volumes/atlasV5_down32_scoreVolume_VCP_L_bbox.txt\" \"s3://mousebrainatlas-data/CSHL_volumes/atlasV5/atlasV5_down32_scoreVolume/score_volumes/atlasV5_down32_scoreVolume_VCP_L_bbox.txt\"\n",
      "aws s3 cp \"/home/yuncong/CSHL_volumes/atlasV5/atlasV5_down32_scoreVolume/score_volumes/atlasV5_down32_scoreVolume_Amb_L.bp\" \"s3://mousebrainatlas-data/CSHL_volumes/atlasV5/atlasV5_down32_scoreVolume/score_volumes/atlasV5_down32_scoreVolume_Amb_L.bp\"\n",
      "aws s3 cp \"/home/yuncong/CSHL_volumes/atlasV5/atlasV5_down32_scoreVolume/score_volumes/atlasV5_down32_scoreVolume_Amb_L_bbox.txt\" \"s3://mousebrainatlas-data/CSHL_volumes/atlasV5/atlasV5_down32_scoreVolume/score_volumes/atlasV5_down32_scoreVolume_Amb_L_bbox.txt\"\n"
     ]
    }
   ],
   "source": [
    "# Save full-brain atlas volumes.\n",
    "\n",
    "for name_s, vol in atlas_volumes.iteritems():\n",
    "    vol_fp = DataManager.get_volume_filepath(stack_m=atlas_name, structure=name_s)\n",
    "    create_parent_dir_if_not_exists(vol_fp)\n",
    "    bp.pack_ndarray_file(vol, vol_fp)\n",
    "    upload_to_s3(vol_fp)\n",
    "    \n",
    "    # Save atlas score volume bbox txt.\n",
    "    fp = DataManager.get_original_volume_bbox_filepath(stack=atlas_name, structure=name_s)\n",
    "    np.savetxt(fp, atlas_volume_bbox_rel2uncropped[None,:], fmt='%d')\n",
    "    upload_to_s3(fp)\n",
    "    # This is wrt aligned uncropped volume"
   ]
  },
  {
   "cell_type": "markdown",
   "metadata": {},
   "source": [
    "## Surround"
   ]
  },
  {
   "cell_type": "code",
   "execution_count": 80,
   "metadata": {
    "scrolled": true
   },
   "outputs": [
    {
     "name": "stdout",
     "output_type": "stream",
     "text": [
      "surround size (in voxels): 13.5869565217\n",
      "aws s3 cp \"/home/yuncong/CSHL_volumes/atlasV5/atlasV5_down32_scoreVolume/score_volumes/atlasV5_down32_scoreVolume_LRt_R_surround_200.bp\" \"s3://mousebrainatlas-data/CSHL_volumes/atlasV5/atlasV5_down32_scoreVolume/score_volumes/atlasV5_down32_scoreVolume_LRt_R_surround_200.bp\"\n",
      "aws s3 cp \"/home/yuncong/CSHL_volumes/atlasV5/atlasV5_down32_scoreVolume/score_volumes/atlasV5_down32_scoreVolume_LRt_R_surround_200_bbox.txt\" \"s3://mousebrainatlas-data/CSHL_volumes/atlasV5/atlasV5_down32_scoreVolume/score_volumes/atlasV5_down32_scoreVolume_LRt_R_surround_200_bbox.txt\"\n",
      "aws s3 cp \"/home/yuncong/CSHL_volumes/atlasV5/atlasV5_down32_scoreVolume/score_volumes/atlasV5_down32_scoreVolume_Sp5C_L_surround_200.bp\" \"s3://mousebrainatlas-data/CSHL_volumes/atlasV5/atlasV5_down32_scoreVolume/score_volumes/atlasV5_down32_scoreVolume_Sp5C_L_surround_200.bp\"\n",
      "aws s3 cp \"/home/yuncong/CSHL_volumes/atlasV5/atlasV5_down32_scoreVolume/score_volumes/atlasV5_down32_scoreVolume_Sp5C_L_surround_200_bbox.txt\" \"s3://mousebrainatlas-data/CSHL_volumes/atlasV5/atlasV5_down32_scoreVolume/score_volumes/atlasV5_down32_scoreVolume_Sp5C_L_surround_200_bbox.txt\"\n",
      "aws s3 cp \"/home/yuncong/CSHL_volumes/atlasV5/atlasV5_down32_scoreVolume/score_volumes/atlasV5_down32_scoreVolume_Pn_L_surround_200.bp\" \"s3://mousebrainatlas-data/CSHL_volumes/atlasV5/atlasV5_down32_scoreVolume/score_volumes/atlasV5_down32_scoreVolume_Pn_L_surround_200.bp\"\n",
      "aws s3 cp \"/home/yuncong/CSHL_volumes/atlasV5/atlasV5_down32_scoreVolume/score_volumes/atlasV5_down32_scoreVolume_Pn_L_surround_200_bbox.txt\" \"s3://mousebrainatlas-data/CSHL_volumes/atlasV5/atlasV5_down32_scoreVolume/score_volumes/atlasV5_down32_scoreVolume_Pn_L_surround_200_bbox.txt\"\n",
      "aws s3 cp \"/home/yuncong/CSHL_volumes/atlasV5/atlasV5_down32_scoreVolume/score_volumes/atlasV5_down32_scoreVolume_7N_R_surround_200.bp\" \"s3://mousebrainatlas-data/CSHL_volumes/atlasV5/atlasV5_down32_scoreVolume/score_volumes/atlasV5_down32_scoreVolume_7N_R_surround_200.bp\"\n",
      "aws s3 cp \"/home/yuncong/CSHL_volumes/atlasV5/atlasV5_down32_scoreVolume/score_volumes/atlasV5_down32_scoreVolume_7N_R_surround_200_bbox.txt\" \"s3://mousebrainatlas-data/CSHL_volumes/atlasV5/atlasV5_down32_scoreVolume/score_volumes/atlasV5_down32_scoreVolume_7N_R_surround_200_bbox.txt\"\n",
      "aws s3 cp \"/home/yuncong/CSHL_volumes/atlasV5/atlasV5_down32_scoreVolume/score_volumes/atlasV5_down32_scoreVolume_PBG_L_surround_200.bp\" \"s3://mousebrainatlas-data/CSHL_volumes/atlasV5/atlasV5_down32_scoreVolume/score_volumes/atlasV5_down32_scoreVolume_PBG_L_surround_200.bp\"\n",
      "aws s3 cp \"/home/yuncong/CSHL_volumes/atlasV5/atlasV5_down32_scoreVolume/score_volumes/atlasV5_down32_scoreVolume_PBG_L_surround_200_bbox.txt\" \"s3://mousebrainatlas-data/CSHL_volumes/atlasV5/atlasV5_down32_scoreVolume/score_volumes/atlasV5_down32_scoreVolume_PBG_L_surround_200_bbox.txt\"\n",
      "aws s3 cp \"/home/yuncong/CSHL_volumes/atlasV5/atlasV5_down32_scoreVolume/score_volumes/atlasV5_down32_scoreVolume_VLL_L_surround_200.bp\" \"s3://mousebrainatlas-data/CSHL_volumes/atlasV5/atlasV5_down32_scoreVolume/score_volumes/atlasV5_down32_scoreVolume_VLL_L_surround_200.bp\"\n",
      "aws s3 cp \"/home/yuncong/CSHL_volumes/atlasV5/atlasV5_down32_scoreVolume/score_volumes/atlasV5_down32_scoreVolume_VLL_L_surround_200_bbox.txt\" \"s3://mousebrainatlas-data/CSHL_volumes/atlasV5/atlasV5_down32_scoreVolume/score_volumes/atlasV5_down32_scoreVolume_VLL_L_surround_200_bbox.txt\"\n",
      "aws s3 cp \"/home/yuncong/CSHL_volumes/atlasV5/atlasV5_down32_scoreVolume/score_volumes/atlasV5_down32_scoreVolume_4N_R_surround_200.bp\" \"s3://mousebrainatlas-data/CSHL_volumes/atlasV5/atlasV5_down32_scoreVolume/score_volumes/atlasV5_down32_scoreVolume_4N_R_surround_200.bp\"\n",
      "aws s3 cp \"/home/yuncong/CSHL_volumes/atlasV5/atlasV5_down32_scoreVolume/score_volumes/atlasV5_down32_scoreVolume_4N_R_surround_200_bbox.txt\" \"s3://mousebrainatlas-data/CSHL_volumes/atlasV5/atlasV5_down32_scoreVolume/score_volumes/atlasV5_down32_scoreVolume_4N_R_surround_200_bbox.txt\"\n",
      "aws s3 cp \"/home/yuncong/CSHL_volumes/atlasV5/atlasV5_down32_scoreVolume/score_volumes/atlasV5_down32_scoreVolume_VLL_R_surround_200.bp\" \"s3://mousebrainatlas-data/CSHL_volumes/atlasV5/atlasV5_down32_scoreVolume/score_volumes/atlasV5_down32_scoreVolume_VLL_R_surround_200.bp\"\n",
      "aws s3 cp \"/home/yuncong/CSHL_volumes/atlasV5/atlasV5_down32_scoreVolume/score_volumes/atlasV5_down32_scoreVolume_VLL_R_surround_200_bbox.txt\" \"s3://mousebrainatlas-data/CSHL_volumes/atlasV5/atlasV5_down32_scoreVolume/score_volumes/atlasV5_down32_scoreVolume_VLL_R_surround_200_bbox.txt\"\n",
      "aws s3 cp \"/home/yuncong/CSHL_volumes/atlasV5/atlasV5_down32_scoreVolume/score_volumes/atlasV5_down32_scoreVolume_7N_L_surround_200.bp\" \"s3://mousebrainatlas-data/CSHL_volumes/atlasV5/atlasV5_down32_scoreVolume/score_volumes/atlasV5_down32_scoreVolume_7N_L_surround_200.bp\"\n",
      "aws s3 cp \"/home/yuncong/CSHL_volumes/atlasV5/atlasV5_down32_scoreVolume/score_volumes/atlasV5_down32_scoreVolume_7N_L_surround_200_bbox.txt\" \"s3://mousebrainatlas-data/CSHL_volumes/atlasV5/atlasV5_down32_scoreVolume/score_volumes/atlasV5_down32_scoreVolume_7N_L_surround_200_bbox.txt\"\n",
      "aws s3 cp \"/home/yuncong/CSHL_volumes/atlasV5/atlasV5_down32_scoreVolume/score_volumes/atlasV5_down32_scoreVolume_PBG_R_surround_200.bp\" \"s3://mousebrainatlas-data/CSHL_volumes/atlasV5/atlasV5_down32_scoreVolume/score_volumes/atlasV5_down32_scoreVolume_PBG_R_surround_200.bp\"\n",
      "aws s3 cp \"/home/yuncong/CSHL_volumes/atlasV5/atlasV5_down32_scoreVolume/score_volumes/atlasV5_down32_scoreVolume_PBG_R_surround_200_bbox.txt\" \"s3://mousebrainatlas-data/CSHL_volumes/atlasV5/atlasV5_down32_scoreVolume/score_volumes/atlasV5_down32_scoreVolume_PBG_R_surround_200_bbox.txt\"\n",
      "aws s3 cp \"/home/yuncong/CSHL_volumes/atlasV5/atlasV5_down32_scoreVolume/score_volumes/atlasV5_down32_scoreVolume_RtTg_surround_200.bp\" \"s3://mousebrainatlas-data/CSHL_volumes/atlasV5/atlasV5_down32_scoreVolume/score_volumes/atlasV5_down32_scoreVolume_RtTg_surround_200.bp\"\n",
      "aws s3 cp \"/home/yuncong/CSHL_volumes/atlasV5/atlasV5_down32_scoreVolume/score_volumes/atlasV5_down32_scoreVolume_RtTg_surround_200_bbox.txt\" \"s3://mousebrainatlas-data/CSHL_volumes/atlasV5/atlasV5_down32_scoreVolume/score_volumes/atlasV5_down32_scoreVolume_RtTg_surround_200_bbox.txt\"\n",
      "aws s3 cp \"/home/yuncong/CSHL_volumes/atlasV5/atlasV5_down32_scoreVolume/score_volumes/atlasV5_down32_scoreVolume_Sp5C_R_surround_200.bp\" \"s3://mousebrainatlas-data/CSHL_volumes/atlasV5/atlasV5_down32_scoreVolume/score_volumes/atlasV5_down32_scoreVolume_Sp5C_R_surround_200.bp\"\n",
      "aws s3 cp \"/home/yuncong/CSHL_volumes/atlasV5/atlasV5_down32_scoreVolume/score_volumes/atlasV5_down32_scoreVolume_Sp5C_R_surround_200_bbox.txt\" \"s3://mousebrainatlas-data/CSHL_volumes/atlasV5/atlasV5_down32_scoreVolume/score_volumes/atlasV5_down32_scoreVolume_Sp5C_R_surround_200_bbox.txt\"\n",
      "aws s3 cp \"/home/yuncong/CSHL_volumes/atlasV5/atlasV5_down32_scoreVolume/score_volumes/atlasV5_down32_scoreVolume_Pn_R_surround_200.bp\" \"s3://mousebrainatlas-data/CSHL_volumes/atlasV5/atlasV5_down32_scoreVolume/score_volumes/atlasV5_down32_scoreVolume_Pn_R_surround_200.bp\"\n",
      "aws s3 cp \"/home/yuncong/CSHL_volumes/atlasV5/atlasV5_down32_scoreVolume/score_volumes/atlasV5_down32_scoreVolume_Pn_R_surround_200_bbox.txt\" \"s3://mousebrainatlas-data/CSHL_volumes/atlasV5/atlasV5_down32_scoreVolume/score_volumes/atlasV5_down32_scoreVolume_Pn_R_surround_200_bbox.txt\"\n",
      "aws s3 cp \"/home/yuncong/CSHL_volumes/atlasV5/atlasV5_down32_scoreVolume/score_volumes/atlasV5_down32_scoreVolume_LRt_L_surround_200.bp\" \"s3://mousebrainatlas-data/CSHL_volumes/atlasV5/atlasV5_down32_scoreVolume/score_volumes/atlasV5_down32_scoreVolume_LRt_L_surround_200.bp\"\n",
      "aws s3 cp \"/home/yuncong/CSHL_volumes/atlasV5/atlasV5_down32_scoreVolume/score_volumes/atlasV5_down32_scoreVolume_LRt_L_surround_200_bbox.txt\" \"s3://mousebrainatlas-data/CSHL_volumes/atlasV5/atlasV5_down32_scoreVolume/score_volumes/atlasV5_down32_scoreVolume_LRt_L_surround_200_bbox.txt\"\n",
      "aws s3 cp \"/home/yuncong/CSHL_volumes/atlasV5/atlasV5_down32_scoreVolume/score_volumes/atlasV5_down32_scoreVolume_Sp5O_R_surround_200.bp\" \"s3://mousebrainatlas-data/CSHL_volumes/atlasV5/atlasV5_down32_scoreVolume/score_volumes/atlasV5_down32_scoreVolume_Sp5O_R_surround_200.bp\"\n"
     ]
    },
    {
     "name": "stdout",
     "output_type": "stream",
     "text": [
      "aws s3 cp \"/home/yuncong/CSHL_volumes/atlasV5/atlasV5_down32_scoreVolume/score_volumes/atlasV5_down32_scoreVolume_Sp5O_R_surround_200_bbox.txt\" \"s3://mousebrainatlas-data/CSHL_volumes/atlasV5/atlasV5_down32_scoreVolume/score_volumes/atlasV5_down32_scoreVolume_Sp5O_R_surround_200_bbox.txt\"\n",
      "aws s3 cp \"/home/yuncong/CSHL_volumes/atlasV5/atlasV5_down32_scoreVolume/score_volumes/atlasV5_down32_scoreVolume_SNR_L_surround_200.bp\" \"s3://mousebrainatlas-data/CSHL_volumes/atlasV5/atlasV5_down32_scoreVolume/score_volumes/atlasV5_down32_scoreVolume_SNR_L_surround_200.bp\"\n",
      "aws s3 cp \"/home/yuncong/CSHL_volumes/atlasV5/atlasV5_down32_scoreVolume/score_volumes/atlasV5_down32_scoreVolume_SNR_L_surround_200_bbox.txt\" \"s3://mousebrainatlas-data/CSHL_volumes/atlasV5/atlasV5_down32_scoreVolume/score_volumes/atlasV5_down32_scoreVolume_SNR_L_surround_200_bbox.txt\"\n",
      "aws s3 cp \"/home/yuncong/CSHL_volumes/atlasV5/atlasV5_down32_scoreVolume/score_volumes/atlasV5_down32_scoreVolume_12N_surround_200.bp\" \"s3://mousebrainatlas-data/CSHL_volumes/atlasV5/atlasV5_down32_scoreVolume/score_volumes/atlasV5_down32_scoreVolume_12N_surround_200.bp\"\n",
      "aws s3 cp \"/home/yuncong/CSHL_volumes/atlasV5/atlasV5_down32_scoreVolume/score_volumes/atlasV5_down32_scoreVolume_12N_surround_200_bbox.txt\" \"s3://mousebrainatlas-data/CSHL_volumes/atlasV5/atlasV5_down32_scoreVolume/score_volumes/atlasV5_down32_scoreVolume_12N_surround_200_bbox.txt\"\n",
      "aws s3 cp \"/home/yuncong/CSHL_volumes/atlasV5/atlasV5_down32_scoreVolume/score_volumes/atlasV5_down32_scoreVolume_SNR_R_surround_200.bp\" \"s3://mousebrainatlas-data/CSHL_volumes/atlasV5/atlasV5_down32_scoreVolume/score_volumes/atlasV5_down32_scoreVolume_SNR_R_surround_200.bp\"\n",
      "aws s3 cp \"/home/yuncong/CSHL_volumes/atlasV5/atlasV5_down32_scoreVolume/score_volumes/atlasV5_down32_scoreVolume_SNR_R_surround_200_bbox.txt\" \"s3://mousebrainatlas-data/CSHL_volumes/atlasV5/atlasV5_down32_scoreVolume/score_volumes/atlasV5_down32_scoreVolume_SNR_R_surround_200_bbox.txt\"\n",
      "aws s3 cp \"/home/yuncong/CSHL_volumes/atlasV5/atlasV5_down32_scoreVolume/score_volumes/atlasV5_down32_scoreVolume_Sp5O_L_surround_200.bp\" \"s3://mousebrainatlas-data/CSHL_volumes/atlasV5/atlasV5_down32_scoreVolume/score_volumes/atlasV5_down32_scoreVolume_Sp5O_L_surround_200.bp\"\n",
      "aws s3 cp \"/home/yuncong/CSHL_volumes/atlasV5/atlasV5_down32_scoreVolume/score_volumes/atlasV5_down32_scoreVolume_Sp5O_L_surround_200_bbox.txt\" \"s3://mousebrainatlas-data/CSHL_volumes/atlasV5/atlasV5_down32_scoreVolume/score_volumes/atlasV5_down32_scoreVolume_Sp5O_L_surround_200_bbox.txt\"\n",
      "aws s3 cp \"/home/yuncong/CSHL_volumes/atlasV5/atlasV5_down32_scoreVolume/score_volumes/atlasV5_down32_scoreVolume_DC_R_surround_200.bp\" \"s3://mousebrainatlas-data/CSHL_volumes/atlasV5/atlasV5_down32_scoreVolume/score_volumes/atlasV5_down32_scoreVolume_DC_R_surround_200.bp\"\n",
      "aws s3 cp \"/home/yuncong/CSHL_volumes/atlasV5/atlasV5_down32_scoreVolume/score_volumes/atlasV5_down32_scoreVolume_DC_R_surround_200_bbox.txt\" \"s3://mousebrainatlas-data/CSHL_volumes/atlasV5/atlasV5_down32_scoreVolume/score_volumes/atlasV5_down32_scoreVolume_DC_R_surround_200_bbox.txt\"\n",
      "aws s3 cp \"/home/yuncong/CSHL_volumes/atlasV5/atlasV5_down32_scoreVolume/score_volumes/atlasV5_down32_scoreVolume_VCA_L_surround_200.bp\" \"s3://mousebrainatlas-data/CSHL_volumes/atlasV5/atlasV5_down32_scoreVolume/score_volumes/atlasV5_down32_scoreVolume_VCA_L_surround_200.bp\"\n",
      "aws s3 cp \"/home/yuncong/CSHL_volumes/atlasV5/atlasV5_down32_scoreVolume/score_volumes/atlasV5_down32_scoreVolume_VCA_L_surround_200_bbox.txt\" \"s3://mousebrainatlas-data/CSHL_volumes/atlasV5/atlasV5_down32_scoreVolume/score_volumes/atlasV5_down32_scoreVolume_VCA_L_surround_200_bbox.txt\"\n",
      "aws s3 cp \"/home/yuncong/CSHL_volumes/atlasV5/atlasV5_down32_scoreVolume/score_volumes/atlasV5_down32_scoreVolume_3N_L_surround_200.bp\" \"s3://mousebrainatlas-data/CSHL_volumes/atlasV5/atlasV5_down32_scoreVolume/score_volumes/atlasV5_down32_scoreVolume_3N_L_surround_200.bp\"\n",
      "aws s3 cp \"/home/yuncong/CSHL_volumes/atlasV5/atlasV5_down32_scoreVolume/score_volumes/atlasV5_down32_scoreVolume_3N_L_surround_200_bbox.txt\" \"s3://mousebrainatlas-data/CSHL_volumes/atlasV5/atlasV5_down32_scoreVolume/score_volumes/atlasV5_down32_scoreVolume_3N_L_surround_200_bbox.txt\"\n",
      "aws s3 cp \"/home/yuncong/CSHL_volumes/atlasV5/atlasV5_down32_scoreVolume/score_volumes/atlasV5_down32_scoreVolume_6N_R_surround_200.bp\" \"s3://mousebrainatlas-data/CSHL_volumes/atlasV5/atlasV5_down32_scoreVolume/score_volumes/atlasV5_down32_scoreVolume_6N_R_surround_200.bp\"\n",
      "aws s3 cp \"/home/yuncong/CSHL_volumes/atlasV5/atlasV5_down32_scoreVolume/score_volumes/atlasV5_down32_scoreVolume_6N_R_surround_200_bbox.txt\" \"s3://mousebrainatlas-data/CSHL_volumes/atlasV5/atlasV5_down32_scoreVolume/score_volumes/atlasV5_down32_scoreVolume_6N_R_surround_200_bbox.txt\"\n",
      "aws s3 cp \"/home/yuncong/CSHL_volumes/atlasV5/atlasV5_down32_scoreVolume/score_volumes/atlasV5_down32_scoreVolume_Sp5I_L_surround_200.bp\" \"s3://mousebrainatlas-data/CSHL_volumes/atlasV5/atlasV5_down32_scoreVolume/score_volumes/atlasV5_down32_scoreVolume_Sp5I_L_surround_200.bp\"\n",
      "aws s3 cp \"/home/yuncong/CSHL_volumes/atlasV5/atlasV5_down32_scoreVolume/score_volumes/atlasV5_down32_scoreVolume_Sp5I_L_surround_200_bbox.txt\" \"s3://mousebrainatlas-data/CSHL_volumes/atlasV5/atlasV5_down32_scoreVolume/score_volumes/atlasV5_down32_scoreVolume_Sp5I_L_surround_200_bbox.txt\"\n",
      "aws s3 cp \"/home/yuncong/CSHL_volumes/atlasV5/atlasV5_down32_scoreVolume/score_volumes/atlasV5_down32_scoreVolume_RMC_R_surround_200.bp\" \"s3://mousebrainatlas-data/CSHL_volumes/atlasV5/atlasV5_down32_scoreVolume/score_volumes/atlasV5_down32_scoreVolume_RMC_R_surround_200.bp\"\n",
      "aws s3 cp \"/home/yuncong/CSHL_volumes/atlasV5/atlasV5_down32_scoreVolume/score_volumes/atlasV5_down32_scoreVolume_RMC_R_surround_200_bbox.txt\" \"s3://mousebrainatlas-data/CSHL_volumes/atlasV5/atlasV5_down32_scoreVolume/score_volumes/atlasV5_down32_scoreVolume_RMC_R_surround_200_bbox.txt\"\n",
      "aws s3 cp \"/home/yuncong/CSHL_volumes/atlasV5/atlasV5_down32_scoreVolume/score_volumes/atlasV5_down32_scoreVolume_5N_L_surround_200.bp\" \"s3://mousebrainatlas-data/CSHL_volumes/atlasV5/atlasV5_down32_scoreVolume/score_volumes/atlasV5_down32_scoreVolume_5N_L_surround_200.bp\"\n",
      "aws s3 cp \"/home/yuncong/CSHL_volumes/atlasV5/atlasV5_down32_scoreVolume/score_volumes/atlasV5_down32_scoreVolume_5N_L_surround_200_bbox.txt\" \"s3://mousebrainatlas-data/CSHL_volumes/atlasV5/atlasV5_down32_scoreVolume/score_volumes/atlasV5_down32_scoreVolume_5N_L_surround_200_bbox.txt\"\n",
      "aws s3 cp \"/home/yuncong/CSHL_volumes/atlasV5/atlasV5_down32_scoreVolume/score_volumes/atlasV5_down32_scoreVolume_SNC_L_surround_200.bp\" \"s3://mousebrainatlas-data/CSHL_volumes/atlasV5/atlasV5_down32_scoreVolume/score_volumes/atlasV5_down32_scoreVolume_SNC_L_surround_200.bp\"\n",
      "aws s3 cp \"/home/yuncong/CSHL_volumes/atlasV5/atlasV5_down32_scoreVolume/score_volumes/atlasV5_down32_scoreVolume_SNC_L_surround_200_bbox.txt\" \"s3://mousebrainatlas-data/CSHL_volumes/atlasV5/atlasV5_down32_scoreVolume/score_volumes/atlasV5_down32_scoreVolume_SNC_L_surround_200_bbox.txt\"\n",
      "aws s3 cp \"/home/yuncong/CSHL_volumes/atlasV5/atlasV5_down32_scoreVolume/score_volumes/atlasV5_down32_scoreVolume_SNC_R_surround_200.bp\" \"s3://mousebrainatlas-data/CSHL_volumes/atlasV5/atlasV5_down32_scoreVolume/score_volumes/atlasV5_down32_scoreVolume_SNC_R_surround_200.bp\"\n",
      "aws s3 cp \"/home/yuncong/CSHL_volumes/atlasV5/atlasV5_down32_scoreVolume/score_volumes/atlasV5_down32_scoreVolume_SNC_R_surround_200_bbox.txt\" \"s3://mousebrainatlas-data/CSHL_volumes/atlasV5/atlasV5_down32_scoreVolume/score_volumes/atlasV5_down32_scoreVolume_SNC_R_surround_200_bbox.txt\"\n",
      "aws s3 cp \"/home/yuncong/CSHL_volumes/atlasV5/atlasV5_down32_scoreVolume/score_volumes/atlasV5_down32_scoreVolume_AP_surround_200.bp\" \"s3://mousebrainatlas-data/CSHL_volumes/atlasV5/atlasV5_down32_scoreVolume/score_volumes/atlasV5_down32_scoreVolume_AP_surround_200.bp\"\n",
      "aws s3 cp \"/home/yuncong/CSHL_volumes/atlasV5/atlasV5_down32_scoreVolume/score_volumes/atlasV5_down32_scoreVolume_AP_surround_200_bbox.txt\" \"s3://mousebrainatlas-data/CSHL_volumes/atlasV5/atlasV5_down32_scoreVolume/score_volumes/atlasV5_down32_scoreVolume_AP_surround_200_bbox.txt\"\n",
      "aws s3 cp \"/home/yuncong/CSHL_volumes/atlasV5/atlasV5_down32_scoreVolume/score_volumes/atlasV5_down32_scoreVolume_5N_R_surround_200.bp\" \"s3://mousebrainatlas-data/CSHL_volumes/atlasV5/atlasV5_down32_scoreVolume/score_volumes/atlasV5_down32_scoreVolume_5N_R_surround_200.bp\"\n"
     ]
    },
    {
     "name": "stdout",
     "output_type": "stream",
     "text": [
      "aws s3 cp \"/home/yuncong/CSHL_volumes/atlasV5/atlasV5_down32_scoreVolume/score_volumes/atlasV5_down32_scoreVolume_5N_R_surround_200_bbox.txt\" \"s3://mousebrainatlas-data/CSHL_volumes/atlasV5/atlasV5_down32_scoreVolume/score_volumes/atlasV5_down32_scoreVolume_5N_R_surround_200_bbox.txt\"\n",
      "aws s3 cp \"/home/yuncong/CSHL_volumes/atlasV5/atlasV5_down32_scoreVolume/score_volumes/atlasV5_down32_scoreVolume_Sp5I_R_surround_200.bp\" \"s3://mousebrainatlas-data/CSHL_volumes/atlasV5/atlasV5_down32_scoreVolume/score_volumes/atlasV5_down32_scoreVolume_Sp5I_R_surround_200.bp\"\n",
      "aws s3 cp \"/home/yuncong/CSHL_volumes/atlasV5/atlasV5_down32_scoreVolume/score_volumes/atlasV5_down32_scoreVolume_Sp5I_R_surround_200_bbox.txt\" \"s3://mousebrainatlas-data/CSHL_volumes/atlasV5/atlasV5_down32_scoreVolume/score_volumes/atlasV5_down32_scoreVolume_Sp5I_R_surround_200_bbox.txt\"\n",
      "aws s3 cp \"/home/yuncong/CSHL_volumes/atlasV5/atlasV5_down32_scoreVolume/score_volumes/atlasV5_down32_scoreVolume_3N_R_surround_200.bp\" \"s3://mousebrainatlas-data/CSHL_volumes/atlasV5/atlasV5_down32_scoreVolume/score_volumes/atlasV5_down32_scoreVolume_3N_R_surround_200.bp\"\n",
      "aws s3 cp \"/home/yuncong/CSHL_volumes/atlasV5/atlasV5_down32_scoreVolume/score_volumes/atlasV5_down32_scoreVolume_3N_R_surround_200_bbox.txt\" \"s3://mousebrainatlas-data/CSHL_volumes/atlasV5/atlasV5_down32_scoreVolume/score_volumes/atlasV5_down32_scoreVolume_3N_R_surround_200_bbox.txt\"\n",
      "aws s3 cp \"/home/yuncong/CSHL_volumes/atlasV5/atlasV5_down32_scoreVolume/score_volumes/atlasV5_down32_scoreVolume_6N_L_surround_200.bp\" \"s3://mousebrainatlas-data/CSHL_volumes/atlasV5/atlasV5_down32_scoreVolume/score_volumes/atlasV5_down32_scoreVolume_6N_L_surround_200.bp\"\n",
      "aws s3 cp \"/home/yuncong/CSHL_volumes/atlasV5/atlasV5_down32_scoreVolume/score_volumes/atlasV5_down32_scoreVolume_6N_L_surround_200_bbox.txt\" \"s3://mousebrainatlas-data/CSHL_volumes/atlasV5/atlasV5_down32_scoreVolume/score_volumes/atlasV5_down32_scoreVolume_6N_L_surround_200_bbox.txt\"\n",
      "aws s3 cp \"/home/yuncong/CSHL_volumes/atlasV5/atlasV5_down32_scoreVolume/score_volumes/atlasV5_down32_scoreVolume_IC_surround_200.bp\" \"s3://mousebrainatlas-data/CSHL_volumes/atlasV5/atlasV5_down32_scoreVolume/score_volumes/atlasV5_down32_scoreVolume_IC_surround_200.bp\"\n",
      "aws s3 cp \"/home/yuncong/CSHL_volumes/atlasV5/atlasV5_down32_scoreVolume/score_volumes/atlasV5_down32_scoreVolume_IC_surround_200_bbox.txt\" \"s3://mousebrainatlas-data/CSHL_volumes/atlasV5/atlasV5_down32_scoreVolume/score_volumes/atlasV5_down32_scoreVolume_IC_surround_200_bbox.txt\"\n",
      "aws s3 cp \"/home/yuncong/CSHL_volumes/atlasV5/atlasV5_down32_scoreVolume/score_volumes/atlasV5_down32_scoreVolume_VCA_R_surround_200.bp\" \"s3://mousebrainatlas-data/CSHL_volumes/atlasV5/atlasV5_down32_scoreVolume/score_volumes/atlasV5_down32_scoreVolume_VCA_R_surround_200.bp\"\n",
      "aws s3 cp \"/home/yuncong/CSHL_volumes/atlasV5/atlasV5_down32_scoreVolume/score_volumes/atlasV5_down32_scoreVolume_VCA_R_surround_200_bbox.txt\" \"s3://mousebrainatlas-data/CSHL_volumes/atlasV5/atlasV5_down32_scoreVolume/score_volumes/atlasV5_down32_scoreVolume_VCA_R_surround_200_bbox.txt\"\n",
      "aws s3 cp \"/home/yuncong/CSHL_volumes/atlasV5/atlasV5_down32_scoreVolume/score_volumes/atlasV5_down32_scoreVolume_DC_L_surround_200.bp\" \"s3://mousebrainatlas-data/CSHL_volumes/atlasV5/atlasV5_down32_scoreVolume/score_volumes/atlasV5_down32_scoreVolume_DC_L_surround_200.bp\"\n",
      "aws s3 cp \"/home/yuncong/CSHL_volumes/atlasV5/atlasV5_down32_scoreVolume/score_volumes/atlasV5_down32_scoreVolume_DC_L_surround_200_bbox.txt\" \"s3://mousebrainatlas-data/CSHL_volumes/atlasV5/atlasV5_down32_scoreVolume/score_volumes/atlasV5_down32_scoreVolume_DC_L_surround_200_bbox.txt\"\n",
      "aws s3 cp \"/home/yuncong/CSHL_volumes/atlasV5/atlasV5_down32_scoreVolume/score_volumes/atlasV5_down32_scoreVolume_Amb_R_surround_200.bp\" \"s3://mousebrainatlas-data/CSHL_volumes/atlasV5/atlasV5_down32_scoreVolume/score_volumes/atlasV5_down32_scoreVolume_Amb_R_surround_200.bp\"\n",
      "aws s3 cp \"/home/yuncong/CSHL_volumes/atlasV5/atlasV5_down32_scoreVolume/score_volumes/atlasV5_down32_scoreVolume_Amb_R_surround_200_bbox.txt\" \"s3://mousebrainatlas-data/CSHL_volumes/atlasV5/atlasV5_down32_scoreVolume/score_volumes/atlasV5_down32_scoreVolume_Amb_R_surround_200_bbox.txt\"\n",
      "aws s3 cp \"/home/yuncong/CSHL_volumes/atlasV5/atlasV5_down32_scoreVolume/score_volumes/atlasV5_down32_scoreVolume_VCP_R_surround_200.bp\" \"s3://mousebrainatlas-data/CSHL_volumes/atlasV5/atlasV5_down32_scoreVolume/score_volumes/atlasV5_down32_scoreVolume_VCP_R_surround_200.bp\"\n",
      "aws s3 cp \"/home/yuncong/CSHL_volumes/atlasV5/atlasV5_down32_scoreVolume/score_volumes/atlasV5_down32_scoreVolume_VCP_R_surround_200_bbox.txt\" \"s3://mousebrainatlas-data/CSHL_volumes/atlasV5/atlasV5_down32_scoreVolume/score_volumes/atlasV5_down32_scoreVolume_VCP_R_surround_200_bbox.txt\"\n",
      "aws s3 cp \"/home/yuncong/CSHL_volumes/atlasV5/atlasV5_down32_scoreVolume/score_volumes/atlasV5_down32_scoreVolume_LC_R_surround_200.bp\" \"s3://mousebrainatlas-data/CSHL_volumes/atlasV5/atlasV5_down32_scoreVolume/score_volumes/atlasV5_down32_scoreVolume_LC_R_surround_200.bp\"\n",
      "aws s3 cp \"/home/yuncong/CSHL_volumes/atlasV5/atlasV5_down32_scoreVolume/score_volumes/atlasV5_down32_scoreVolume_LC_R_surround_200_bbox.txt\" \"s3://mousebrainatlas-data/CSHL_volumes/atlasV5/atlasV5_down32_scoreVolume/score_volumes/atlasV5_down32_scoreVolume_LC_R_surround_200_bbox.txt\"\n",
      "aws s3 cp \"/home/yuncong/CSHL_volumes/atlasV5/atlasV5_down32_scoreVolume/score_volumes/atlasV5_down32_scoreVolume_10N_R_surround_200.bp\" \"s3://mousebrainatlas-data/CSHL_volumes/atlasV5/atlasV5_down32_scoreVolume/score_volumes/atlasV5_down32_scoreVolume_10N_R_surround_200.bp\"\n",
      "aws s3 cp \"/home/yuncong/CSHL_volumes/atlasV5/atlasV5_down32_scoreVolume/score_volumes/atlasV5_down32_scoreVolume_10N_R_surround_200_bbox.txt\" \"s3://mousebrainatlas-data/CSHL_volumes/atlasV5/atlasV5_down32_scoreVolume/score_volumes/atlasV5_down32_scoreVolume_10N_R_surround_200_bbox.txt\"\n",
      "aws s3 cp \"/home/yuncong/CSHL_volumes/atlasV5/atlasV5_down32_scoreVolume/score_volumes/atlasV5_down32_scoreVolume_7n_R_surround_200.bp\" \"s3://mousebrainatlas-data/CSHL_volumes/atlasV5/atlasV5_down32_scoreVolume/score_volumes/atlasV5_down32_scoreVolume_7n_R_surround_200.bp\"\n",
      "aws s3 cp \"/home/yuncong/CSHL_volumes/atlasV5/atlasV5_down32_scoreVolume/score_volumes/atlasV5_down32_scoreVolume_7n_R_surround_200_bbox.txt\" \"s3://mousebrainatlas-data/CSHL_volumes/atlasV5/atlasV5_down32_scoreVolume/score_volumes/atlasV5_down32_scoreVolume_7n_R_surround_200_bbox.txt\"\n",
      "aws s3 cp \"/home/yuncong/CSHL_volumes/atlasV5/atlasV5_down32_scoreVolume/score_volumes/atlasV5_down32_scoreVolume_RMC_L_surround_200.bp\" \"s3://mousebrainatlas-data/CSHL_volumes/atlasV5/atlasV5_down32_scoreVolume/score_volumes/atlasV5_down32_scoreVolume_RMC_L_surround_200.bp\"\n",
      "aws s3 cp \"/home/yuncong/CSHL_volumes/atlasV5/atlasV5_down32_scoreVolume/score_volumes/atlasV5_down32_scoreVolume_RMC_L_surround_200_bbox.txt\" \"s3://mousebrainatlas-data/CSHL_volumes/atlasV5/atlasV5_down32_scoreVolume/score_volumes/atlasV5_down32_scoreVolume_RMC_L_surround_200_bbox.txt\"\n",
      "aws s3 cp \"/home/yuncong/CSHL_volumes/atlasV5/atlasV5_down32_scoreVolume/score_volumes/atlasV5_down32_scoreVolume_Tz_L_surround_200.bp\" \"s3://mousebrainatlas-data/CSHL_volumes/atlasV5/atlasV5_down32_scoreVolume/score_volumes/atlasV5_down32_scoreVolume_Tz_L_surround_200.bp\"\n",
      "aws s3 cp \"/home/yuncong/CSHL_volumes/atlasV5/atlasV5_down32_scoreVolume/score_volumes/atlasV5_down32_scoreVolume_Tz_L_surround_200_bbox.txt\" \"s3://mousebrainatlas-data/CSHL_volumes/atlasV5/atlasV5_down32_scoreVolume/score_volumes/atlasV5_down32_scoreVolume_Tz_L_surround_200_bbox.txt\"\n",
      "aws s3 cp \"/home/yuncong/CSHL_volumes/atlasV5/atlasV5_down32_scoreVolume/score_volumes/atlasV5_down32_scoreVolume_Tz_R_surround_200.bp\" \"s3://mousebrainatlas-data/CSHL_volumes/atlasV5/atlasV5_down32_scoreVolume/score_volumes/atlasV5_down32_scoreVolume_Tz_R_surround_200.bp\"\n",
      "aws s3 cp \"/home/yuncong/CSHL_volumes/atlasV5/atlasV5_down32_scoreVolume/score_volumes/atlasV5_down32_scoreVolume_Tz_R_surround_200_bbox.txt\" \"s3://mousebrainatlas-data/CSHL_volumes/atlasV5/atlasV5_down32_scoreVolume/score_volumes/atlasV5_down32_scoreVolume_Tz_R_surround_200_bbox.txt\"\n",
      "aws s3 cp \"/home/yuncong/CSHL_volumes/atlasV5/atlasV5_down32_scoreVolume/score_volumes/atlasV5_down32_scoreVolume_7n_L_surround_200.bp\" \"s3://mousebrainatlas-data/CSHL_volumes/atlasV5/atlasV5_down32_scoreVolume/score_volumes/atlasV5_down32_scoreVolume_7n_L_surround_200.bp\"\n"
     ]
    },
    {
     "name": "stdout",
     "output_type": "stream",
     "text": [
      "aws s3 cp \"/home/yuncong/CSHL_volumes/atlasV5/atlasV5_down32_scoreVolume/score_volumes/atlasV5_down32_scoreVolume_7n_L_surround_200_bbox.txt\" \"s3://mousebrainatlas-data/CSHL_volumes/atlasV5/atlasV5_down32_scoreVolume/score_volumes/atlasV5_down32_scoreVolume_7n_L_surround_200_bbox.txt\"\n",
      "aws s3 cp \"/home/yuncong/CSHL_volumes/atlasV5/atlasV5_down32_scoreVolume/score_volumes/atlasV5_down32_scoreVolume_4N_L_surround_200.bp\" \"s3://mousebrainatlas-data/CSHL_volumes/atlasV5/atlasV5_down32_scoreVolume/score_volumes/atlasV5_down32_scoreVolume_4N_L_surround_200.bp\"\n",
      "aws s3 cp \"/home/yuncong/CSHL_volumes/atlasV5/atlasV5_down32_scoreVolume/score_volumes/atlasV5_down32_scoreVolume_4N_L_surround_200_bbox.txt\" \"s3://mousebrainatlas-data/CSHL_volumes/atlasV5/atlasV5_down32_scoreVolume/score_volumes/atlasV5_down32_scoreVolume_4N_L_surround_200_bbox.txt\"\n",
      "aws s3 cp \"/home/yuncong/CSHL_volumes/atlasV5/atlasV5_down32_scoreVolume/score_volumes/atlasV5_down32_scoreVolume_LC_L_surround_200.bp\" \"s3://mousebrainatlas-data/CSHL_volumes/atlasV5/atlasV5_down32_scoreVolume/score_volumes/atlasV5_down32_scoreVolume_LC_L_surround_200.bp\"\n",
      "aws s3 cp \"/home/yuncong/CSHL_volumes/atlasV5/atlasV5_down32_scoreVolume/score_volumes/atlasV5_down32_scoreVolume_LC_L_surround_200_bbox.txt\" \"s3://mousebrainatlas-data/CSHL_volumes/atlasV5/atlasV5_down32_scoreVolume/score_volumes/atlasV5_down32_scoreVolume_LC_L_surround_200_bbox.txt\"\n",
      "aws s3 cp \"/home/yuncong/CSHL_volumes/atlasV5/atlasV5_down32_scoreVolume/score_volumes/atlasV5_down32_scoreVolume_10N_L_surround_200.bp\" \"s3://mousebrainatlas-data/CSHL_volumes/atlasV5/atlasV5_down32_scoreVolume/score_volumes/atlasV5_down32_scoreVolume_10N_L_surround_200.bp\"\n",
      "aws s3 cp \"/home/yuncong/CSHL_volumes/atlasV5/atlasV5_down32_scoreVolume/score_volumes/atlasV5_down32_scoreVolume_10N_L_surround_200_bbox.txt\" \"s3://mousebrainatlas-data/CSHL_volumes/atlasV5/atlasV5_down32_scoreVolume/score_volumes/atlasV5_down32_scoreVolume_10N_L_surround_200_bbox.txt\"\n",
      "aws s3 cp \"/home/yuncong/CSHL_volumes/atlasV5/atlasV5_down32_scoreVolume/score_volumes/atlasV5_down32_scoreVolume_SC_surround_200.bp\" \"s3://mousebrainatlas-data/CSHL_volumes/atlasV5/atlasV5_down32_scoreVolume/score_volumes/atlasV5_down32_scoreVolume_SC_surround_200.bp\"\n",
      "aws s3 cp \"/home/yuncong/CSHL_volumes/atlasV5/atlasV5_down32_scoreVolume/score_volumes/atlasV5_down32_scoreVolume_SC_surround_200_bbox.txt\" \"s3://mousebrainatlas-data/CSHL_volumes/atlasV5/atlasV5_down32_scoreVolume/score_volumes/atlasV5_down32_scoreVolume_SC_surround_200_bbox.txt\"\n",
      "aws s3 cp \"/home/yuncong/CSHL_volumes/atlasV5/atlasV5_down32_scoreVolume/score_volumes/atlasV5_down32_scoreVolume_VCP_L_surround_200.bp\" \"s3://mousebrainatlas-data/CSHL_volumes/atlasV5/atlasV5_down32_scoreVolume/score_volumes/atlasV5_down32_scoreVolume_VCP_L_surround_200.bp\"\n",
      "aws s3 cp \"/home/yuncong/CSHL_volumes/atlasV5/atlasV5_down32_scoreVolume/score_volumes/atlasV5_down32_scoreVolume_VCP_L_surround_200_bbox.txt\" \"s3://mousebrainatlas-data/CSHL_volumes/atlasV5/atlasV5_down32_scoreVolume/score_volumes/atlasV5_down32_scoreVolume_VCP_L_surround_200_bbox.txt\"\n",
      "aws s3 cp \"/home/yuncong/CSHL_volumes/atlasV5/atlasV5_down32_scoreVolume/score_volumes/atlasV5_down32_scoreVolume_Amb_L_surround_200.bp\" \"s3://mousebrainatlas-data/CSHL_volumes/atlasV5/atlasV5_down32_scoreVolume/score_volumes/atlasV5_down32_scoreVolume_Amb_L_surround_200.bp\"\n",
      "aws s3 cp \"/home/yuncong/CSHL_volumes/atlasV5/atlasV5_down32_scoreVolume/score_volumes/atlasV5_down32_scoreVolume_Amb_L_surround_200_bbox.txt\" \"s3://mousebrainatlas-data/CSHL_volumes/atlasV5/atlasV5_down32_scoreVolume/score_volumes/atlasV5_down32_scoreVolume_Amb_L_surround_200_bbox.txt\"\n"
     ]
    }
   ],
   "source": [
    "# Generate and save surround score volumes. (in fact binary, but dtype is np.float16, same as interior score volumes.)\n",
    "\n",
    "valid_level = .5\n",
    "\n",
    "surround_distance_um = 200\n",
    "surround_distance_voxel = surround_distance_um / XY_PIXEL_DISTANCE_TB\n",
    "print \"surround size (in voxels):\", surround_distance_voxel\n",
    "\n",
    "for name_s, vol in atlas_volumes.iteritems():\n",
    "    \n",
    "    if name_s in singular_structures:\n",
    "        vol = symmetricalize_volume(vol)\n",
    "\n",
    "    surround_vol = get_surround_volume(vol, valid_level=valid_level, distance=surround_distance_voxel, prob=True)\n",
    "    vol_fp = DataManager.get_volume_filepath(stack_m=atlas_name, \n",
    "                                             structure=convert_to_surround_name(name_s, margin=surround_distance_um))\n",
    "    create_parent_dir_if_not_exists(vol_fp)\n",
    "    bp.pack_ndarray_file(surround_vol, vol_fp)\n",
    "    upload_to_s3(vol_fp)\n",
    "\n",
    "    fp = DataManager.get_original_volume_bbox_filepath(stack=atlas_name, structure=convert_to_surround_name(name_s, margin=surround_distance_um))\n",
    "    np.savetxt(fp, atlas_volume_bbox_rel2uncropped[None,:], fmt='%d')\n",
    "    upload_to_s3(fp)"
   ]
  },
  {
   "cell_type": "code",
   "execution_count": null,
   "metadata": {
    "collapsed": true
   },
   "outputs": [],
   "source": [
    "# surround_vol = get_surround_volume(atlas_prob_volume_allLandmarks['IC'], distance=13, valid_level=0.5, prob=True)\n",
    "# display_volume_sections(surround_vol, direction='x', vmin=0, vmax=1.)"
   ]
  },
  {
   "cell_type": "markdown",
   "metadata": {},
   "source": [
    "## Convert surround volumes to meshes, for visualization."
   ]
  },
  {
   "cell_type": "code",
   "execution_count": 69,
   "metadata": {
    "scrolled": true
   },
   "outputs": [
    {
     "name": "stderr",
     "output_type": "stream",
     "text": [
      "marching cube: 0.08 seconds\n",
      "mesh_to_polydata: 0.05 seconds\n",
      "simplify 0 @ 35266: 0.35 seconds\n",
      "simplify 1 @ 7056: 0.38 seconds\n",
      "simplify 2 @ 1414: 0.07 seconds\n"
     ]
    }
   ],
   "source": [
    "structure_meshes_surround_rel2canon = {}\n",
    "\n",
    "# for name_s in all_known_structures_sided:\n",
    "for name_s in ['7N_L']:\n",
    "    \n",
    "    try:\n",
    "        surr_name = convert_to_surround_name(name_s, margin=surround_distance_um)\n",
    "        surround_vol = DataManager.load_original_volume(stack=atlas_name, structure=surr_name, downscale=32)\n",
    "        \n",
    "#         if name_s in singular_structures:\n",
    "#             surround_vol = symmetricalize_volume(surround_vol)\n",
    "        \n",
    "        surround_vol_bbox_rel2atlas = np.array(bbox_3d(surround_vol))\n",
    "        surround_vol_inbbox = crop_and_pad_volume(surround_vol, out_bbox=surround_vol_bbox_rel2atlas)\n",
    "\n",
    "        polydata_rel2canon = \\\n",
    "        volume_to_polydata(surround_vol_inbbox, \n",
    "                           origin=(surround_vol_bbox_rel2atlas[[0,2,4]]+atlas_volume_bbox_rel2uncropped[[0,2,4]]-canonical_centroid_rel2uncropped),\n",
    "                           num_simplify_iter=3, smooth=True)\n",
    "        \n",
    "        structure_meshes_surround_rel2canon[name_s] = polydata_rel2canon\n",
    "        \n",
    "#         mesh_fp = DataManager.get_mesh_filepath(stack_m=atlas_name, structure=surr_name)\n",
    "#         save_mesh(polydata_rel2canon, mesh_fp)\n",
    "#         upload_to_s3(mesh_fp)\n",
    "    \n",
    "    except Exception as e:\n",
    "        sys.stderr.write('Error generating mesh for %s : %s\\n' % (surr_name, str(e)))        "
   ]
  },
  {
   "cell_type": "markdown",
   "metadata": {},
   "source": [
    "# Load"
   ]
  },
  {
   "cell_type": "code",
   "execution_count": 71,
   "metadata": {
    "collapsed": true
   },
   "outputs": [],
   "source": [
    "# Load shell\n",
    "\n",
    "stack_fixed = 'MD589'\n",
    "shell_polydata_rel2uncropped = DataManager.load_shell_mesh(stack=stack_fixed, downscale=32)\n",
    "shell_actor_rel2canon = actor_mesh(shell_polydata_rel2uncropped, (1,1,1), opacity=.15, \n",
    "                              wireframe=False, origin=-canonical_centroid_rel2uncropped)"
   ]
  },
  {
   "cell_type": "code",
   "execution_count": 72,
   "metadata": {},
   "outputs": [],
   "source": [
    "# atlas_volume, structure_to_label, label_to_structure = \\\n",
    "# DataManager.load_original_volume_all_known_structures(stack=atlas_name, sided=True)"
   ]
  },
  {
   "cell_type": "code",
   "execution_count": 73,
   "metadata": {
    "collapsed": true
   },
   "outputs": [],
   "source": [
    "structure_mesh_surround_actors_rel2canon = [actor_mesh(polydata, np.array(name_unsided_to_color[convert_to_original_name(name_s)])/255.,\n",
    "                                             wireframe=True) \n",
    "                                   for name_s, polydata in structure_meshes_surround_rel2canon.iteritems()]"
   ]
  },
  {
   "cell_type": "code",
   "execution_count": 74,
   "metadata": {},
   "outputs": [],
   "source": [
    "structure_mesh_actors_rel2canon = [actor_mesh(polydata, np.array(name_unsided_to_color[convert_to_original_name(name_s)])/255.,\n",
    "                                             wireframe=True) \n",
    "                                   for name_s, polydata in structure_meshes_rel2canon.iteritems()]"
   ]
  },
  {
   "cell_type": "code",
   "execution_count": 77,
   "metadata": {
    "collapsed": true
   },
   "outputs": [],
   "source": [
    "structure_volume, structure_origin_rel2canon = structure_volumes_rel2canon['5N_L']\n",
    "\n",
    "one_structure_volume_actor_rel2canon = actor_volume(structure_volume.astype(np.float32), what='probability', \n",
    "                                              origin=structure_origin_rel2canon,\n",
    "                                              c=np.array(name_unsided_to_color['5N'])/255.)"
   ]
  },
  {
   "cell_type": "markdown",
   "metadata": {},
   "source": [
    "# Render"
   ]
  },
  {
   "cell_type": "code",
   "execution_count": 84,
   "metadata": {
    "collapsed": true
   },
   "outputs": [],
   "source": [
    "launch_vtk(\n",
    "    structure_mesh_actors_rel2canon + [one_structure_volume_actor] + \\\n",
    "    structure_mesh_surround_actors_rel2canon + \\\n",
    "           [shell_actor_rel2canon] + [actor_sphere((0,0,0), radius=5)], \n",
    "           init_angle='sagittal')"
   ]
  }
 ],
 "metadata": {
  "kernelspec": {
   "display_name": "Python 2",
   "language": "python",
   "name": "python2"
  },
  "language_info": {
   "codemirror_mode": {
    "name": "ipython",
    "version": 2
   },
   "file_extension": ".py",
   "mimetype": "text/x-python",
   "name": "python",
   "nbconvert_exporter": "python",
   "pygments_lexer": "ipython2",
   "version": "2.7.12"
  }
 },
 "nbformat": 4,
 "nbformat_minor": 2
}
