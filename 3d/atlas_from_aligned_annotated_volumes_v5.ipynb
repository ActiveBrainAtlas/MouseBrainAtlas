{
 "cells": [
  {
   "cell_type": "code",
   "execution_count": 1,
   "metadata": {},
   "outputs": [
    {
     "name": "stderr",
     "output_type": "stream",
     "text": [
      "/usr/local/lib/python2.7/dist-packages/matplotlib/__init__.py:1357: UserWarning:  This call to matplotlib.use() has no effect\n",
      "because the backend has already been chosen;\n",
      "matplotlib.use() must be called *before* pylab, matplotlib.pyplot,\n",
      "or matplotlib.backends is imported for the first time.\n",
      "\n",
      "  warnings.warn(_use_error_msg)\n"
     ]
    },
    {
     "name": "stdout",
     "output_type": "stream",
     "text": [
      "Setting environment for Local Macbook Pro\n"
     ]
    }
   ],
   "source": [
    "%reload_ext autoreload\n",
    "%autoreload 2\n",
    "\n",
    "import sys\n",
    "import os\n",
    "\n",
    "import numpy as np\n",
    "import bloscpack as bp\n",
    "%matplotlib inline\n",
    "\n",
    "sys.path.append(os.path.join(os.environ['REPO_DIR'], 'utilities'))\n",
    "from utilities2015 import *\n",
    "from metadata import *\n",
    "from data_manager import *\n",
    "\n",
    "from registration_utilities import *\n",
    "from annotation_utilities import *\n",
    "from vis3d_utilities import *"
   ]
  },
  {
   "cell_type": "code",
   "execution_count": 2,
   "metadata": {
    "collapsed": true
   },
   "outputs": [],
   "source": [
    "atlas_name = 'atlasV5'"
   ]
  },
  {
   "cell_type": "code",
   "execution_count": 3,
   "metadata": {
    "collapsed": true
   },
   "outputs": [],
   "source": [
    "stack_fixed = 'MD589'\n",
    "stacks_moving = ['MD585', 'MD594']\n",
    "warp_setting = 9"
   ]
  },
  {
   "cell_type": "markdown",
   "metadata": {},
   "source": [
    "# Compute mean positions"
   ]
  },
  {
   "cell_type": "code",
   "execution_count": 4,
   "metadata": {
    "scrolled": true
   },
   "outputs": [
    {
     "name": "stdout",
     "output_type": "stream",
     "text": [
      "5N\n",
      "6N\n",
      "7N\n",
      "7n\n",
      "Amb\n",
      "LC\n",
      "LRt\n",
      "Pn\n",
      "Tz\n",
      "VLL\n",
      "RMC\n",
      "SNC\n",
      "SNR\n",
      "3N\n",
      "4N\n",
      "Sp5I\n",
      "Sp5O\n",
      "Sp5C\n",
      "rm -rf \"/home/yuncong/CSHL_volumes/MD585/MD585_down32_annotationAsScoreVolume_warp9_MD589_down32_annotationAsScoreVolume/score_volumes/MD585_down32_annotationAsScoreVolume_warp9_MD589_down32_annotationAsScoreVolume_Sp5C_R.bp\" && mkdir -p \"/home/yuncong/CSHL_volumes/MD585/MD585_down32_annotationAsScoreVolume_warp9_MD589_down32_annotationAsScoreVolume/score_volumes\"\n",
      "aws s3 cp \"s3://mousebrainatlas-data/CSHL_volumes/MD585/MD585_down32_annotationAsScoreVolume_warp9_MD589_down32_annotationAsScoreVolume/score_volumes/MD585_down32_annotationAsScoreVolume_warp9_MD589_down32_annotationAsScoreVolume_Sp5C_R.bp\" \"/home/yuncong/CSHL_volumes/MD585/MD585_down32_annotationAsScoreVolume_warp9_MD589_down32_annotationAsScoreVolume/score_volumes/MD585_down32_annotationAsScoreVolume_warp9_MD589_down32_annotationAsScoreVolume_Sp5C_R.bp\"\n"
     ]
    },
    {
     "name": "stderr",
     "output_type": "stream",
     "text": [
      "File does not exist: /home/yuncong/CSHL_volumes/MD585/MD585_down32_annotationAsScoreVolume_warp9_MD589_down32_annotationAsScoreVolume/score_volumes/MD585_down32_annotationAsScoreVolume_warp9_MD589_down32_annotationAsScoreVolume_Sp5C_R.bp\n"
     ]
    },
    {
     "name": "stdout",
     "output_type": "stream",
     "text": [
      "[Errno 2] No such file or directory: '/home/yuncong/CSHL_volumes/MD585/MD585_down32_annotationAsScoreVolume_warp9_MD589_down32_annotationAsScoreVolume/score_volumes/MD585_down32_annotationAsScoreVolume_warp9_MD589_down32_annotationAsScoreVolume_Sp5C_R.bp'\n",
      "PBG\n",
      "10N\n",
      "VCA\n",
      "VCP\n",
      "DC\n",
      "AP\n",
      "12N\n",
      "RtTg\n",
      "sp5\n",
      "rm -rf \"/home/yuncong/CSHL_volumes/MD589/MD589_down32_annotationAsScoreVolume/score_volumes/MD589_down32_annotationAsScoreVolume_sp5.bp\" && mkdir -p \"/home/yuncong/CSHL_volumes/MD589/MD589_down32_annotationAsScoreVolume/score_volumes\"\n",
      "aws s3 cp \"s3://mousebrainatlas-data/CSHL_volumes/MD589/MD589_down32_annotationAsScoreVolume/score_volumes/MD589_down32_annotationAsScoreVolume_sp5.bp\" \"/home/yuncong/CSHL_volumes/MD589/MD589_down32_annotationAsScoreVolume/score_volumes/MD589_down32_annotationAsScoreVolume_sp5.bp\"\n"
     ]
    },
    {
     "name": "stderr",
     "output_type": "stream",
     "text": [
      "File does not exist: /home/yuncong/CSHL_volumes/MD589/MD589_down32_annotationAsScoreVolume/score_volumes/MD589_down32_annotationAsScoreVolume_sp5.bp\n"
     ]
    },
    {
     "name": "stdout",
     "output_type": "stream",
     "text": [
      "[Errno 2] No such file or directory: '/home/yuncong/CSHL_volumes/MD589/MD589_down32_annotationAsScoreVolume/score_volumes/MD589_down32_annotationAsScoreVolume_sp5.bp'\n",
      "outerContour\n",
      "rm -rf \"/home/yuncong/CSHL_volumes/MD589/MD589_down32_annotationAsScoreVolume/score_volumes/MD589_down32_annotationAsScoreVolume_outerContour.bp\" && mkdir -p \"/home/yuncong/CSHL_volumes/MD589/MD589_down32_annotationAsScoreVolume/score_volumes\"\n",
      "aws s3 cp \"s3://mousebrainatlas-data/CSHL_volumes/MD589/MD589_down32_annotationAsScoreVolume/score_volumes/MD589_down32_annotationAsScoreVolume_outerContour.bp\" \"/home/yuncong/CSHL_volumes/MD589/MD589_down32_annotationAsScoreVolume/score_volumes/MD589_down32_annotationAsScoreVolume_outerContour.bp\"\n"
     ]
    },
    {
     "name": "stderr",
     "output_type": "stream",
     "text": [
      "File does not exist: /home/yuncong/CSHL_volumes/MD589/MD589_down32_annotationAsScoreVolume/score_volumes/MD589_down32_annotationAsScoreVolume_outerContour.bp\n"
     ]
    },
    {
     "name": "stdout",
     "output_type": "stream",
     "text": [
      "[Errno 2] No such file or directory: '/home/yuncong/CSHL_volumes/MD589/MD589_down32_annotationAsScoreVolume/score_volumes/MD589_down32_annotationAsScoreVolume_outerContour.bp'\n",
      "SC\n",
      "IC\n"
     ]
    }
   ],
   "source": [
    "instance_centroids_rel2fixed = defaultdict(list)\n",
    "\n",
    "# for name_u in ['7N']:\n",
    "for name_u in all_known_structures:\n",
    "    print name_u\n",
    "    \n",
    "    if name_u in paired_structures:\n",
    "        lname = convert_to_left_name(name_u)\n",
    "        rname = convert_to_right_name(name_u)\n",
    "    else:\n",
    "        lname = name_u\n",
    "        rname = name_u\n",
    "    \n",
    "    try:\n",
    "        right_instance_vol = DataManager.load_original_volume(stack=stack_fixed,  downscale=32, volume_type='annotationAsScore', structure=rname)\n",
    "        right_instance_vol_bbox = np.array(bbox_3d(right_instance_vol))\n",
    "        right_instance_vol_inbbox = crop_and_pad_volume(right_instance_vol, out_bbox=right_instance_vol_bbox)\n",
    "        \n",
    "        instance_centroid_rel2fixed = np.mean(np.nonzero(right_instance_vol_inbbox), axis=1)[[1,0,2]] + right_instance_vol_bbox[[0,2,4]]\n",
    "        instance_centroids_rel2fixed[rname].append(instance_centroid_rel2fixed)\n",
    "        \n",
    "    except Exception as e:\n",
    "        print e\n",
    "        continue\n",
    "\n",
    "    try:\n",
    "        left_instance_vol = DataManager.load_original_volume(stack=stack_fixed, downscale=32, volume_type='annotationAsScore', structure=lname)\n",
    "        left_instance_vol_bbox = np.array(bbox_3d(left_instance_vol))\n",
    "        left_instance_vol_inbbox = crop_and_pad_volume(left_instance_vol, out_bbox=left_instance_vol_bbox)\n",
    "        \n",
    "        instance_centroid_rel2fixed = np.mean(np.nonzero(left_instance_vol_inbbox), axis=1)[[1,0,2]] + left_instance_vol_bbox[[0,2,4]]\n",
    "        instance_centroids_rel2fixed[lname].append(instance_centroid_rel2fixed)\n",
    "\n",
    "    except Exception as e:\n",
    "        print e\n",
    "        continue        \n",
    "\n",
    "    for stack_moving in stacks_moving:\n",
    "\n",
    "        try:\n",
    "            left_instance_vol = DataManager.load_transformed_volume(stack_m=stack_moving, vol_type_m='annotationAsScore',\n",
    "                                                            stack_f=stack_fixed, vol_type_f='annotationAsScore',\n",
    "                                                            warp_setting=warp_setting,\n",
    "                                                            structure=lname)\n",
    "            left_instance_vol_bbox_rel2fixed = DataManager.load_transformed_volume_bbox(stack_m=stack_moving, vol_type_m='annotationAsScore',\n",
    "                                                        stack_f=stack_fixed, vol_type_f='annotationAsScore',\n",
    "                                                        warp_setting=warp_setting,\n",
    "                                                        structure=lname)\n",
    "            instance_centroid_rel2fixed = np.mean(np.nonzero(left_instance_vol), axis=1)[[1,0,2]] + left_instance_vol_bbox_rel2fixed[[0,2,4]]\n",
    "            instance_centroids_rel2fixed[lname].append(instance_centroid_rel2fixed)\n",
    "        except Exception as e:\n",
    "            print e\n",
    "            continue \n",
    "\n",
    "        try:\n",
    "            right_instance_vol = DataManager.load_transformed_volume(stack_m=stack_moving, vol_type_m='annotationAsScore',\n",
    "                                                        stack_f=stack_fixed, vol_type_f='annotationAsScore',\n",
    "                                                        warp_setting=warp_setting,\n",
    "                                                        structure=rname)\n",
    "            right_instance_vol_bbox_rel2fixed = DataManager.load_transformed_volume_bbox(stack_m=stack_moving, vol_type_m='annotationAsScore',\n",
    "                                                        stack_f=stack_fixed, vol_type_f='annotationAsScore',\n",
    "                                                        warp_setting=warp_setting,\n",
    "                                                        structure=rname)\n",
    "            instance_centroid_rel2fixed = np.mean(np.nonzero(right_instance_vol), axis=1)[[1,0,2]] + right_instance_vol_bbox_rel2fixed[[0,2,4]]\n",
    "            instance_centroids_rel2fixed[rname].append(instance_centroid_rel2fixed)\n",
    "        except Exception as e:\n",
    "            print e\n",
    "            continue \n"
   ]
  },
  {
   "cell_type": "code",
   "execution_count": 6,
   "metadata": {},
   "outputs": [],
   "source": [
    "instance_centroids_rel2fixed.default_factory = None"
   ]
  },
  {
   "cell_type": "code",
   "execution_count": 24,
   "metadata": {},
   "outputs": [
    {
     "name": "stdout",
     "output_type": "stream",
     "text": [
      "[ 0.04111027 -0.09160432  0.99494653] @ [ 172.0630378   223.21016434  186.74030921]\n"
     ]
    }
   ],
   "source": [
    "canonical_locations_rel2canon, canonical_centroid_rel2uncropped, canonical_normal = average_location(instance_centroids_rel2fixed)"
   ]
  },
  {
   "cell_type": "code",
   "execution_count": 25,
   "metadata": {},
   "outputs": [
    {
     "name": "stdout",
     "output_type": "stream",
     "text": [
      "deviation angle: 5.76256199381\n"
     ]
    }
   ],
   "source": [
    "print 'deviation angle:', np.rad2deg(np.arccos(canonical_normal[2]))"
   ]
  },
  {
   "cell_type": "markdown",
   "metadata": {},
   "source": [
    "# Compute mean shapes"
   ]
  },
  {
   "cell_type": "code",
   "execution_count": null,
   "metadata": {
    "collapsed": true
   },
   "outputs": [],
   "source": [
    "stack_fixed = 'MD589'\n",
    "stacks_moving = ['MD585', 'MD594']\n",
    "warp_setting = 9"
   ]
  },
  {
   "cell_type": "code",
   "execution_count": null,
   "metadata": {
    "collapsed": true
   },
   "outputs": [],
   "source": [
    "instance_volumes = defaultdict(list)\n",
    "instance_source = defaultdict(list)\n",
    "\n",
    "moving_vol_aligned2template_inbbox_allInstances_allStructures = defaultdict(list)\n",
    "moving_vol_aligned2template_bbox_rel2templateCentroid_allInstances_allStructures = defaultdict(list)\n",
    "scores_allInstances_allStructures = defaultdict(list)\n",
    "scores_allInstances_allStructures_allLearningRates = defaultdict(lambda: defaultdict(list))\n",
    "\n",
    "structure_mean_shape_allStructures = {}\n",
    "structure_origin_rel2templateCentroid_allStructures = {}\n",
    "structure_mean_mesh_rel2templateCentroid_allStructures = {}\n",
    "\n",
    "instance_aligned2template_meshes_rel2templateCentroid_allStructures = defaultdict(list)\n",
    "template_meshes_rel2templateCentroid_allStructures = {}\n",
    "template_vol_centroids_rel2template_allStructures = {}\n",
    "\n",
    "# for name_u in ['7N']:\n",
    "for name_u in all_known_structures:\n",
    "    print name_u\n",
    "    \n",
    "    if name_u in paired_structures:\n",
    "        lname = convert_to_left_name(name_u)\n",
    "        rname = convert_to_right_name(name_u)\n",
    "    else:\n",
    "        lname = name_u\n",
    "        rname = name_u\n",
    "    \n",
    "    try:\n",
    "        right_instance_vol = DataManager.load_original_volume(stack=stack_fixed,  downscale=32, volume_type='annotationAsScore', structure=rname)\n",
    "        right_instance_vol_bbox = np.array(bbox_3d(right_instance_vol))\n",
    "        right_instance_vol_inbbox = crop_and_pad_volume(right_instance_vol, out_bbox=right_instance_vol_bbox)\n",
    "        instance_volumes[name_u].append(right_instance_vol_inbbox) # if right, do not mirror\n",
    "        instance_source[name_u].append((stack_fixed, 'R'))\n",
    "    except Exception as e:\n",
    "        continue\n",
    "\n",
    "    try:\n",
    "        left_instance_vol = DataManager.load_original_volume(stack=stack_fixed, downscale=32, volume_type='annotationAsScore', structure=lname)\n",
    "        left_instance_vol_bbox = np.array(bbox_3d(left_instance_vol))\n",
    "        left_instance_vol_inbbox = crop_and_pad_volume(left_instance_vol, out_bbox=left_instance_vol_bbox)\n",
    "        instance_volumes[name_u].append(left_instance_vol_inbbox[..., ::-1]) # if left, mirror\n",
    "        instance_source[name_u].append((stack_fixed, 'L'))\n",
    "    except:\n",
    "        continue        \n",
    "\n",
    "    for stack_moving in stacks_moving:\n",
    "\n",
    "        try:\n",
    "            left_instance_vol = DataManager.load_transformed_volume(stack_m=stack_moving, vol_type_m='annotationAsScore',\n",
    "                                                            stack_f=stack_fixed, vol_type_f='annotationAsScore',\n",
    "                                                            warp_setting=warp_setting,\n",
    "                                                            structure=lname)\n",
    "            instance_volumes[name_u].append(left_instance_vol[..., ::-1]) # if left, mirror\n",
    "            instance_source[name_u].append((stack_moving, 'L'))\n",
    "        except:\n",
    "            continue\n",
    "\n",
    "        try:\n",
    "            right_instance_vol = DataManager.load_transformed_volume(stack_m=stack_moving, vol_type_m='annotationAsScore',\n",
    "                                                        stack_f=stack_fixed, vol_type_f='annotationAsScore',\n",
    "                                                        warp_setting=warp_setting,\n",
    "                                                        structure=rname)\n",
    "            instance_volumes[name_u].append(right_instance_vol) # if right, do not mirror\n",
    "            instance_source[name_u].append((stack_moving, 'R'))\n",
    "        except:\n",
    "            continue\n",
    "            \n",
    "    ############################################\n",
    "    \n",
    "    template_vol = instance_volumes[name_u][0]\n",
    "    \n",
    "    template_vol_centroid_rel2template = np.mean(np.nonzero(template_vol), axis=1)[[1,0,2]]\n",
    "    template_vol_centroids_rel2template_allStructures[name_u] = template_vol_centroid_rel2template\n",
    "\n",
    "    for i in range(1, len(instance_volumes[name_u])):\n",
    "\n",
    "        moving_vol = instance_volumes[name_u][i]\n",
    "\n",
    "        aligner = Aligner4({0:template_vol}, {0:moving_vol}, labelIndexMap_m2f={0:0})\n",
    "        aligner.set_centroid(centroid_m='structure_centroid', centroid_f='structure_centroid')\n",
    "\n",
    "#         grid_search_T, grid_search_score = aligner.do_grid_search(grid_search_sample_number=5,\n",
    "#                       std_tx=30, std_ty=30, std_tz=30, std_theta_xy=0,\n",
    "#                        grid_search_eta=3., stop_radius_voxel=2)\n",
    "        \n",
    "        gy, gx, gz = np.gradient(template_vol)\n",
    "        gradients = {0: np.array([gx, gy, gz])}\n",
    "        aligner.load_gradient(gradients=gradients)\n",
    "\n",
    "#         for lr in [.1, 1, 10]:\n",
    "#             T, scores = aligner.optimize(tf_type='rigid', \n",
    "#                                  history_len=50, \n",
    "#                                  terminate_thresh=1e-6,\n",
    "#                                  grad_computation_sample_number=100000,\n",
    "#                                          full_lr=np.array([lr,lr,lr,0.1,0.1,0.1]),\n",
    "#     #                                      init_T=grid_search_T\n",
    "#                                 )\n",
    "\n",
    "#             scores_allInstances_allStructures_allLearningRates[lr][name_u].append(scores)\n",
    "\n",
    "        lr = 1.\n",
    "        T, scores = aligner.optimize(tf_type='rigid', \n",
    "                             history_len=50, \n",
    "                             terminate_thresh=1e-6,\n",
    "                            max_iter_num=100 if name_u in ['SC', 'IC'] else 1000,\n",
    "                             grad_computation_sample_number=None,\n",
    "                                full_lr=np.array([lr,lr,lr,0.1,0.1,0.1]),\n",
    "#                                      init_T=grid_search_T\n",
    "                            )\n",
    "\n",
    "        scores_allInstances_allStructures[name_u].append(scores)\n",
    "        \n",
    "        #################################\n",
    "        \n",
    "        moving_vol_aligned2template_inbbox, moving_vol_aligned2template_bbox_rel2template = transform_volume_v2(moving_vol, T, \n",
    "                                                                              centroid_m=aligner.centroid_m,\n",
    "                                                                             centroid_f=aligner.centroid_f)\n",
    "\n",
    "        moving_vol_aligned2template_bbox_rel2templateCentroid = \\\n",
    "        np.array(moving_vol_aligned2template_bbox_rel2template) - template_vol_centroid_rel2template[[0,0,1,1,2,2]]\n",
    "        \n",
    "        moving_vol_aligned2template_inbbox_allInstances_allStructures[name_u].append(moving_vol_aligned2template_inbbox)\n",
    "        moving_vol_aligned2template_bbox_rel2templateCentroid_allInstances_allStructures[name_u].append(moving_vol_aligned2template_bbox_rel2templateCentroid)  \n",
    "    \n",
    "    ########################################\n",
    "\n",
    "#     fig, axes = plt.subplots(1, 5, figsize=(20,2))\n",
    "#     for i, scores in enumerate(scores_allInstances_allStructures[name_u]):\n",
    "#         axes[i].plot(scores)\n",
    "#         axes[i].set_title('%s, %s, %s, %f' % ((name_u,) + instance_source[name_u][i+1] + (np.max(scores),)))\n",
    "#     plt.show();\n",
    "    \n",
    "    #########################################\n",
    "\n",
    "    for moving_vol_aligned2template, moving_vol_aligned2template_bbox_rel2templateCentroid in \\\n",
    "    zip(moving_vol_aligned2template_inbbox_allInstances_allStructures[name_u], \n",
    "        moving_vol_aligned2template_bbox_rel2templateCentroid_allInstances_allStructures[name_u]):\n",
    "        instance_aligned2template_mesh_rel2templateCentroid = volume_to_polydata(moving_vol_aligned2template, \\\n",
    "                                                            origin=np.array(moving_vol_aligned2template_bbox_rel2templateCentroid)[[0,2,4]], \n",
    "                           num_simplify_iter=3, smooth=True)\n",
    "        instance_aligned2template_meshes_rel2templateCentroid_allStructures[name_u].append(instance_aligned2template_mesh_rel2templateCentroid)\n",
    "\n",
    "    template_meshes_rel2templateCentroid_allStructures[name_u] = volume_to_polydata(template_vol, num_simplify_iter=3, smooth=True, origin=-template_vol_centroid_rel2template)\n",
    "    \n",
    "#     launch_vtk([actor_mesh(mesh, wireframe=True, color=np.array(high_contrast_colors[i+1])/255., opacity=1) \n",
    "#     for i, mesh in enumerate([template_mesh] + instance_aligned2template_meshes_allStructures[name_u])], \n",
    "#           background_color=(1,1,1))\n",
    "    \n",
    "    ##########################################\n",
    "    # Save instances data\n",
    "    \n",
    "    for s, instance_aligned2template_meshes_rel2templateCentroid in instance_aligned2template_meshes_rel2templateCentroid_allStructures.iteritems():\n",
    "\n",
    "        fp = DataManager.get_instance_mesh_filepath(atlas_name=atlas_name, structure=s, index=0)\n",
    "        create_parent_dir_if_not_exists(fp)\n",
    "        save_mesh_stl(template_meshes_rel2templateCentroid_allStructures[s], fp)\n",
    "        upload_to_s3(fp)\n",
    "        \n",
    "        for i, m in enumerate(instance_aligned2template_meshes_rel2templateCentroid):\n",
    "            fp = DataManager.get_instance_mesh_filepath(atlas_name=atlas_name, structure=s, index=i+1)\n",
    "            save_mesh_stl(m, fp)\n",
    "            upload_to_s3(fp)\n",
    "            \n",
    "        fp = DataManager.get_instance_sources_filepath(atlas_name=atlas_name, structure=s)\n",
    "        create_parent_dir_if_not_exists(fp)\n",
    "        save_pickle(instance_source[s], fp)\n",
    "        upload_to_s3(fp)        \n",
    "    \n",
    "    #########################################\n",
    "    \n",
    "    if name_u == 'IC' or name_u == 'SC':\n",
    "        # IC and SC boundaries are particularly jagged, so do a larger value smoothing.\n",
    "        sigma = 5.\n",
    "    else:\n",
    "        sigma = 2.\n",
    "\n",
    "    structure_mean_shape, structure_origin_rel2templateCentroid, structure_mean_mesh_rel2templateCentroid = \\\n",
    "        average_shape(volume_list=moving_vol_aligned2template_inbbox_allInstances_allStructures[name_u], \\\n",
    "                      origin_list=[(b_rel2templateCentroid[0], b_rel2templateCentroid[2], b_rel2templateCentroid[4])\n",
    "                                   for b_rel2templateCentroid in moving_vol_aligned2template_bbox_rel2templateCentroid_allInstances_allStructures[name_u]],\n",
    "                      consensus_percentage=.5,\n",
    "                      num_simplify_iter=3, smooth=True,\n",
    "                      force_symmetric=(name_u in singular_structures), \n",
    "                      sigma=sigma)\n",
    "    \n",
    "    structure_mean_shape_allStructures[name_u] = structure_mean_shape\n",
    "#     structure_origin_rel2template_allStructures[name_u] = structure_origin_rel2template    \n",
    "#     structure_mean_mesh_rel2template_allStructures[name_u] = structure_mean_mesh_rel2template\n",
    "    structure_origin_rel2templateCentroid_allStructures[name_u] = structure_origin_rel2templateCentroid    \n",
    "    structure_mean_mesh_rel2templateCentroid_allStructures[name_u] = structure_mean_mesh_rel2templateCentroid\n",
    "    \n",
    "    ########################################\n",
    "    # Save mean shape data\n",
    "    \n",
    "    fp = DataManager.get_structure_mean_mesh_filepath(atlas_name=atlas_name, structure=name_u)\n",
    "    create_parent_dir_if_not_exists(fp)\n",
    "    save_mesh_stl(structure_mean_mesh_rel2templateCentroid, fp)\n",
    "    upload_to_s3(fp)\n",
    "    \n",
    "    fp = DataManager.get_structure_mean_shape_filepath(atlas_name=atlas_name, structure=name_u)\n",
    "    bp.pack_ndarray_file(structure_mean_shape, fp)\n",
    "    upload_to_s3(fp)\n",
    "    \n",
    "    fp = DataManager.get_structure_mean_shape_origin_filepath(atlas_name=atlas_name, structure=name_u)\n",
    "    np.savetxt(fp, structure_origin_rel2templateCentroid)\n",
    "    upload_to_s3(fp)\n",
    "    \n",
    "    ##########################################\n",
    "    \n",
    "#     launch_vtk([\n",
    "#     actor_mesh(structure_mean_mesh_rel2template_allStructures[name_u], wireframe=True, opacity=1., color=(1,0,0)),\n",
    "#     actor_volume(structure_mean_shape_allStructures[name_u].astype(np.float32), what='probability',\n",
    "#                 origin=structure_origin_rel2template_allStructures[name_u], c=(0,1,0)),\n",
    "# ], background_color=(0,0,0))\n",
    "\n",
    "    ######################################\n",
    "    \n",
    "instance_volumes.default_factory = None\n",
    "instance_source.default_factory = None\n",
    "moving_vol_aligned2template_inbbox_allInstances_allStructures.default_factory = None\n",
    "moving_vol_aligned2template_bbox_rel2templateCentroid_allInstances_allStructures.default_factory = None\n",
    "scores_allInstances_allStructures.default_factory = None\n",
    "scores_allInstances_allStructures_allLearningRates.default_factory = None\n",
    "instance_aligned2template_meshes_rel2templateCentroid_allStructures.default_factory = None"
   ]
  },
  {
   "cell_type": "code",
   "execution_count": null,
   "metadata": {
    "collapsed": true
   },
   "outputs": [],
   "source": [
    "for structure, scores_allInstances in scores_allInstances_allStructures.iteritems():\n",
    "    fig, axes = plt.subplots(1, 5, figsize=(20,2))\n",
    "    for i, scores in enumerate(scores_allInstances):\n",
    "        axes[i].plot(scores)\n",
    "        axes[i].set_title('%s, %s, %s, %f' % ((name_u,) + instance_source[name_u][i+1] + (np.max(scores),)))\n",
    "plt.show()"
   ]
  },
  {
   "cell_type": "code",
   "execution_count": null,
   "metadata": {
    "collapsed": true
   },
   "outputs": [],
   "source": [
    "launch_vtk([\n",
    "#     actor_mesh(structure_mean_mesh_rel2template_allStructures[name_u], wireframe=True, opacity=1., color=(1,0,0)),\n",
    "    actor_volume(structure_mean_shape_allStructures[name_u].astype(np.float32), what='probability',\n",
    "                origin=structure_origin_rel2templateCentroid_allStructures[name_u], c=(0,1,0)),\n",
    "] + \\\n",
    "    [actor_mesh(mesh, wireframe=True, color=np.array(high_contrast_colors[i+1])/255., opacity=1) \n",
    "for i, mesh in enumerate([template_meshes_rel2templateCentroid_allStructures[name_u]] + \\\n",
    "                         instance_aligned2template_meshes_rel2templateCentroid_allStructures[name_u])] + \\\n",
    "    [actor_sphere((0,0,0), radius=1, color=(0,0,0))], \n",
    "    background_color=(0,0,0))"
   ]
  },
  {
   "cell_type": "code",
   "execution_count": null,
   "metadata": {
    "collapsed": true
   },
   "outputs": [],
   "source": [
    "# viz"
   ]
  },
  {
   "cell_type": "code",
   "execution_count": null,
   "metadata": {
    "collapsed": true
   },
   "outputs": [],
   "source": [
    "# instance_colors = [(1,0,0),(0,1,0),(0,0,1),(1,1,0),(0,1,1),(1,0,1)] # assume each structure has at most 6 instances.\n",
    "\n",
    "# for structure in all_known_structures_sided:\n",
    "# # for structure in ['IC']:\n",
    "\n",
    "#     print structure\n",
    "    \n",
    "#     for direction in ['coronal', 'sagittal', 'horizontal']:\n",
    "\n",
    "#         # Show each instance separately\n",
    "#         for i, polydata in enumerate([structure]):\n",
    "#             instance_actors = actor_mesh(polydata, instance_colors[i], opacity=1, wireframe=False)\n",
    "\n",
    "#             fp = DataManager.get_structure_viz_filepath(atlas_name=atlas_name, \n",
    "#                                                         structure=structure, suffix=direction+'_'+str(i))\n",
    "#             create_parent_dir_if_not_exists(fp)\n",
    "#             launch_vtk([instance_actors], snapshot_fn=fp, interactive=False, init_angle=direction)\n",
    "\n",
    "#         # Show different instances shown aligned together\n",
    "#         instance_actors = [actor_mesh(polydata, instance_colors[i], opacity=1., wireframe=True) \n",
    "#                            for i, polydata in enumerate(polydata_list_allLandmarks[structure])]\n",
    "\n",
    "#         icp_fp = DataManager.get_prob_shape_viz_filepath(stack_m=atlas_name, trial_idx=None, \n",
    "#                                                          structure=structure, suffix=direction+'_icpAligned')\n",
    "#         launch_vtk(instance_actors, snapshot_fn=icp_fp, interactive=False, init_angle=direction)\n",
    "# #         launch_vtk(instance_actors, init_angle=direction)\n",
    "        \n",
    "#         # Show voxel-voted probabilistic shape\n",
    "#         prob_shape_actor = actor_volume(prob_shape_allLandmarks[structure].astype(np.float32), \n",
    "#                                         what='probability', origin=prob_shape_origin_allLandmarks[structure])\n",
    "\n",
    "#         prob_shape_fp = DataManager.get_prob_shape_viz_filepath(stack_m=atlas_name, trial_idx=None, \n",
    "#                                                          structure=structure, suffix=direction+'_probShape')\n",
    "#         launch_vtk([prob_shape_actor], snapshot_fn=prob_shape_fp, interactive=False, init_angle=direction)\n",
    "# #         launch_vtk([prob_shape_actor], init_angle=direction)\n",
    "\n",
    "#         # Show voxel-voted probabilistic shape, thresholded at .5\n",
    "#         actor = actor_mesh(average_polydata_allLandmarks[structure], [1,1,1], opacity=1, wireframe=True)\n",
    "        \n",
    "#         thresh_shape_fp = DataManager.get_prob_shape_viz_filepath(stack_m=atlas_name, trial_idx=None, \n",
    "#                                                                 structure=structure, suffix=direction+'_thresh0.5')\n",
    "#         launch_vtk([actor], snapshot_fn=thresh_shape_fp, interactive=False, init_angle=direction)\n",
    "# #         launch_vtk([actor], init_angle=direction)"
   ]
  },
  {
   "cell_type": "markdown",
   "metadata": {},
   "source": [
    "# Generate full-brain atlas volume"
   ]
  },
  {
   "cell_type": "code",
   "execution_count": null,
   "metadata": {
    "collapsed": true
   },
   "outputs": [],
   "source": [
    "## Load mean shape "
   ]
  },
  {
   "cell_type": "code",
   "execution_count": null,
   "metadata": {
    "collapsed": true
   },
   "outputs": [],
   "source": [
    "structure_volumes_rel2canon = {}\n",
    "# structure_meshes_rel2canon = {}\n",
    "\n",
    "for name_s in canonical_locations_rel2canon.keys():\n",
    "    \n",
    "    name_u = convert_to_original_name(name_s)\n",
    "    \n",
    "    prob_shape = bp.unpack_ndarray_file(DataManager.get_structure_mean_shape_filepath(atlas_name=atlas_name, structure=name_u))\n",
    "    prob_shape_origin_rel2structCentroid = np.loadtxt(DataManager.get_structure_mean_shape_origin_filepath(atlas_name=atlas_name, structure=name_u))\n",
    "        \n",
    "#     vertices_rel2structCentroid, faces = polydata_to_mesh(average_polydata_rel2structCentroid_allLandmarks[name_u])\n",
    "\n",
    "    structure_centroid_rel2canon = canonical_locations_rel2canon[name_s]\n",
    "    \n",
    "    if name_s in singular_structures or parse_label(name_s)[1] == 'R':\n",
    "        # Singular or Right - don't need mirroring\n",
    "        structure_volumes_rel2canon[name_s] = (prob_shape, structure_centroid_rel2canon + prob_shape_origin_rel2structCentroid)\n",
    "#         structure_meshes_rel2canon[name_s] = mesh_to_polydata(vertices=vertices_rel2structCentroid + structure_centroid_rel2canon, \n",
    "#                                                                 faces=faces)\n",
    "    else:\n",
    "        # Left - need mirroring\n",
    "        structure_volumes_rel2canon[name_s] = mirror_volume(prob_shape, structure_centroid_rel2canon + prob_shape_origin_rel2structCentroid*(1,1,-1))\n",
    "#         structure_meshes_rel2canon[name_s] = mesh_to_polydata(vertices=vertices_rel2structCentroid*(1,1,-1) + structure_centroid_rel2canon, \n",
    "#                                                                 faces=faces)"
   ]
  },
  {
   "cell_type": "code",
   "execution_count": 18,
   "metadata": {},
   "outputs": [
    {
     "name": "stdout",
     "output_type": "stream",
     "text": [
      "annotation volume bbox (rel2uncropped): 622 1042 155 502 128 503\n"
     ]
    }
   ],
   "source": [
    "ann_vol_xmin_rel2uncropped, ann_vol_xmax_rel2uncropped, \\\n",
    "ann_vol_ymin_rel2uncropped, ann_vol_ymax_rel2uncropped, \\\n",
    "ann_vol_zmin_rel2uncropped, ann_vol_zmax_rel2uncropped = \\\n",
    "DataManager.load_original_volume_bbox(stack=stack_fixed, volume_type='annotation', downscale=32)\n",
    "\n",
    "print 'annotation volume bbox (rel2uncropped):', ann_vol_xmin_rel2uncropped, ann_vol_xmax_rel2uncropped, ann_vol_ymin_rel2uncropped, ann_vol_ymax_rel2uncropped, ann_vol_zmin_rel2uncropped, ann_vol_zmax_rel2uncropped\n",
    "\n",
    "# This is with respect to the aligned uncropped volume."
   ]
  },
  {
   "cell_type": "code",
   "execution_count": 19,
   "metadata": {},
   "outputs": [],
   "source": [
    "prob_volume_structure_bboxes_rel2ann = {}\n",
    "for name_s, (volume, origin_rel2canon) in structure_volumes_rel2canon.iteritems():\n",
    "    ydim, xdim, zdim = volume.shape\n",
    "    origin_x_rel2ann, origin_y_rel2ann, origin_z_rel2ann = \\\n",
    "    np.round(origin_rel2canon + canonical_centroid_rel2uncropped - (ann_vol_xmin_rel2uncropped, ann_vol_ymin_rel2uncropped, ann_vol_zmin_rel2uncropped)).astype(np.int)\n",
    "    prob_volume_structure_bboxes_rel2ann[name_s] = (origin_x_rel2ann, origin_x_rel2ann + xdim - 1, \n",
    "                                            origin_y_rel2ann, origin_y_rel2ann + ydim - 1, \n",
    "                                            origin_z_rel2ann, origin_z_rel2ann + zdim - 1)"
   ]
  },
  {
   "cell_type": "code",
   "execution_count": 20,
   "metadata": {},
   "outputs": [
    {
     "name": "stdout",
     "output_type": "stream",
     "text": [
      "prob volume bbox (rel2ann): -638 -211 -158 198 -128 246\n"
     ]
    }
   ],
   "source": [
    "# Establish the bounding box for the atlas volume.\n",
    "\n",
    "bboxes_rel2ann = np.array(prob_volume_structure_bboxes_rel2ann.values())\n",
    "prob_vol_xmin_rel2ann, prob_vol_ymin_rel2ann, prob_vol_zmin_rel2ann = np.min(bboxes_rel2ann[:, [0,2,4]], axis=0)\n",
    "prob_vol_xmax_rel2ann, prob_vol_ymax_rel2ann, prob_vol_zmax_rel2ann = np.max(bboxes_rel2ann[:, [1,3,5]], axis=0)\n",
    "print 'prob volume bbox (rel2ann):', prob_vol_xmin_rel2ann, prob_vol_xmax_rel2ann, prob_vol_ymin_rel2ann, prob_vol_ymax_rel2ann, prob_vol_zmin_rel2ann, prob_vol_zmax_rel2ann\n",
    "\n",
    "prob_vol_xdim = prob_vol_xmax_rel2ann + 1 - prob_vol_xmin_rel2ann\n",
    "prob_vol_ydim = prob_vol_ymax_rel2ann + 1 - prob_vol_ymin_rel2ann\n",
    "prob_vol_zdim = prob_vol_zmax_rel2ann + 1 - prob_vol_zmin_rel2ann\n",
    "\n",
    "# bbox of atlas volume is relative to MD589 annotation volume."
   ]
  },
  {
   "cell_type": "code",
   "execution_count": 21,
   "metadata": {
    "collapsed": true
   },
   "outputs": [],
   "source": [
    "# Create proba. volumes, one for each structure, in atlas space.\n",
    "\n",
    "# Being lazy here: the z axis should be orthogonal to the canonical normal, but here I assume z axis is the original\n",
    "\n",
    "atlas_prob_volume_allLandmarks = {}\n",
    "\n",
    "for name_s, (volume, structure_origin_rel2canon) in structure_volumes_rel2canon.iteritems():\n",
    "    \n",
    "    structure_ydim, structure_xdim, structure_zdim = volume.shape\n",
    "    \n",
    "    structure_origin_x_rel2atlas, structure_origin_y_rel2atlas, structure_origin_z_rel2atlas = \\\n",
    "    np.round(structure_origin_rel2canon + canonical_centroid_rel2uncropped - \\\n",
    "            (ann_vol_xmin_rel2uncropped, ann_vol_ymin_rel2uncropped, ann_vol_zmin_rel2uncropped) - \\\n",
    "            (prob_vol_xmin_rel2ann, prob_vol_ymin_rel2ann, prob_vol_zmin_rel2ann)).astype(np.int)\n",
    "        \n",
    "    atlas_prob_volume = np.zeros((prob_vol_ydim, prob_vol_xdim, prob_vol_zdim), np.float16)\n",
    "\n",
    "    atlas_prob_volume[structure_origin_y_rel2atlas : structure_origin_y_rel2atlas + structure_ydim, \n",
    "                      structure_origin_x_rel2atlas : structure_origin_x_rel2atlas + structure_xdim, \n",
    "                      structure_origin_z_rel2atlas : structure_origin_z_rel2atlas + structure_zdim] = volume\n",
    "    \n",
    "    atlas_prob_volume_allLandmarks[name_s] = atlas_prob_volume"
   ]
  },
  {
   "cell_type": "code",
   "execution_count": 23,
   "metadata": {
    "collapsed": true
   },
   "outputs": [],
   "source": [
    "prob_vol_xmin_rel2uncropped = prob_vol_xmin_rel2ann + ann_vol_xmin_rel2uncropped\n",
    "prob_vol_xmax_rel2uncropped = prob_vol_xmax_rel2ann + ann_vol_xmin_rel2uncropped\n",
    "prob_vol_ymin_rel2uncropped = prob_vol_ymin_rel2ann + ann_vol_ymin_rel2uncropped\n",
    "prob_vol_ymax_rel2uncropped = prob_vol_ymax_rel2ann + ann_vol_ymin_rel2uncropped\n",
    "prob_vol_zmin_rel2uncropped = prob_vol_zmin_rel2ann + ann_vol_zmin_rel2uncropped\n",
    "prob_vol_zmax_rel2uncropped = prob_vol_zmax_rel2ann + ann_vol_zmin_rel2uncropped"
   ]
  },
  {
   "cell_type": "code",
   "execution_count": null,
   "metadata": {
    "collapsed": true
   },
   "outputs": [],
   "source": [
    "# Save full-brain atlas volumes.\n",
    "\n",
    "for name_s, vol in atlas_prob_volume_allLandmarks.iteritems():\n",
    "    vol_fp = DataManager.get_volume_filepath(stack_m=atlas_name, structure=name_s)\n",
    "    create_parent_dir_if_not_exists(vol_fp)\n",
    "    bp.pack_ndarray_file(vol, vol_fp)\n",
    "#     upload_to_s3(vol_fp)\n",
    "    \n",
    "    # Save atlas score volume bbox txt.\n",
    "    fp = DataManager.get_original_volume_bbox_filepath(stack=atlas_name, structure=name_s)\n",
    "    np.savetxt(fp, np.array([prob_vol_xmin_rel2uncropped, prob_vol_xmax_rel2uncropped, \n",
    "                             prob_vol_ymin_rel2uncropped, prob_vol_ymax_rel2uncropped, \n",
    "                             prob_vol_zmin_rel2uncropped, prob_vol_zmax_rel2uncropped])[None,:], fmt='%d')\n",
    "#     upload_to_s3(fp)\n",
    "    # This is wrt aligned uncropped volume"
   ]
  }
 ],
 "metadata": {
  "kernelspec": {
   "display_name": "Python 2",
   "language": "python",
   "name": "python2"
  },
  "language_info": {
   "codemirror_mode": {
    "name": "ipython",
    "version": 2
   },
   "file_extension": ".py",
   "mimetype": "text/x-python",
   "name": "python",
   "nbconvert_exporter": "python",
   "pygments_lexer": "ipython2",
   "version": "2.7.12"
  }
 },
 "nbformat": 4,
 "nbformat_minor": 2
}
