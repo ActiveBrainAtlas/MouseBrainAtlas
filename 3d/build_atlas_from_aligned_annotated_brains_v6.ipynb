{
 "cells": [
  {
   "cell_type": "code",
   "execution_count": 1,
   "metadata": {
    "scrolled": true
   },
   "outputs": [
    {
     "name": "stdout",
     "output_type": "stream",
     "text": [
      "Setting environment for Local Macbook Pro\n"
     ]
    },
    {
     "name": "stderr",
     "output_type": "stream",
     "text": [
      "Not using image_cache.\n",
      "Not using image_cache.\n",
      "Not using image_cache.\n",
      "Not using image_cache.\n",
      "Not using image_cache.\n",
      "Not using image_cache.\n",
      "Not using image_cache.\n",
      "Not using image_cache.\n",
      "Not using image_cache.\n",
      "Not using image_cache.\n",
      "Not using image_cache.\n",
      "Not using image_cache.\n",
      "Not using image_cache.\n",
      "Not using image_cache.\n",
      "Not using image_cache.\n"
     ]
    },
    {
     "name": "stdout",
     "output_type": "stream",
     "text": [
      "/home/yuncong/CSHL_data_processed/MD585/MD585_prep2_thumbnail/MD585-N16-2015.07.16-20.32.33_MD585_2_0047_prep2_thumbnail.tif\n",
      "/home/yuncong/CSHL_data_processed/MD589/MD589_prep2_thumbnail/MD589-N16-2015.07.30-17.03.43_MD589_3_0048_prep2_thumbnail.tif\n",
      "/home/yuncong/CSHL_data_processed/MD590/MD590_prep2_thumbnail/MD590-IHC17-2015.08.10-19.09.09_MD590_2_0050_prep2_thumbnail.tif\n",
      "/home/yuncong/CSHL_data_processed/MD591/MD591_prep2_thumbnail/MD591-IHC17-2015.08.28-04.23.47_MD591_1_0049_prep2_thumbnail.tif\n",
      "/home/yuncong/CSHL_data_processed/MD592/MD592_prep2_thumbnail/MD592-N16-2015.08.22-00.50.39_MD592_2_0047_prep2_thumbnail.tif\n",
      "/home/yuncong/CSHL_data_processed/MD593/MD593_prep2_thumbnail/MD593-N15-2015.08.21-16.53.02_MD593_3_0045_prep2_thumbnail.tif\n",
      "/home/yuncong/CSHL_data_processed/MD594/MD594_prep2_thumbnail/MD594-IHC16-2015.08.26-16.11.01_MD594_1_0046_prep2_thumbnail.tif\n",
      "/home/yuncong/CSHL_data_processed/MD595/MD595_prep2_thumbnail/MD595-IHC12-2015.09.15-01.21.39_MD595_2_0035_prep2_thumbnail.tif\n",
      "/home/yuncong/CSHL_data_processed/MD598/MD598_prep2_thumbnail/MD598-N18-2015.09.29-17.40.03_MD598_3_0054_prep2_thumbnail.tif\n",
      "/home/yuncong/CSHL_data_processed/MD599/MD599_prep2_thumbnail/MD599-N19-2015.10.02-18.12.13_MD599_3_0057_prep2_thumbnail.tif\n",
      "/home/yuncong/CSHL_data_processed/MD602/MD602_prep2_thumbnail/MD602-N19-2015.12.01-16.24.09_MD602_2_0056_prep2_thumbnail.tif\n",
      "/home/yuncong/CSHL_data_processed/MD603/MD603_prep2_thumbnail/MD603-N11-2016.03.02-12.51.47_MD603_1_0031_prep2_thumbnail.tif\n",
      "/home/yuncong/CSHL_data_processed/MD635/MD635_prep2_thumbnail/MD635-F25-2016.05.18-21.02.30_MD635_3_0075_prep2_thumbnail.tif\n",
      "/home/yuncong/CSHL_data_processed/MD653/MD653_prep2_thumbnail/MD653-F15-2016.12.20-21.04.12_MD653_1_0043_prep2_thumbnail.tif\n",
      "/home/yuncong/CSHL_data_processed/MD652/MD652_prep2_thumbnail/MD652-F15-2016.12.16-20.45.52_MD652_3_0045_prep2_thumbnail.tif\n"
     ]
    },
    {
     "name": "stderr",
     "output_type": "stream",
     "text": [
      "Not using image_cache.\n",
      "Not using image_cache.\n",
      "Not using image_cache.\n",
      "Not using image_cache.\n",
      "Not using image_cache.\n",
      "Not using image_cache.\n"
     ]
    },
    {
     "name": "stdout",
     "output_type": "stream",
     "text": [
      "/home/yuncong/CSHL_data_processed/MD642/MD642_prep2_thumbnail/MD642-N14-2017.01.18-16.25.58_MD642_2_0041_prep2_thumbnail.tif\n",
      "/home/yuncong/CSHL_data_processed/MD657/MD657_prep2_thumbnail/MD657-N13-2017.02.22-14.33.34_MD657_3_0039_prep2_thumbnail.tif\n",
      "/home/yuncong/CSHL_data_processed/MD658/MD658_prep2_thumbnail/MD658-N18-2017.03.31-17.34.22_MD658_2_0053_prep2_thumbnail.tif\n",
      "/home/yuncong/CSHL_data_processed/MD661/MD661_prep2_thumbnail/MD662&661-F30-2017.06.05-14.49.48_MD661_1_0088_prep2_thumbnail.tif\n",
      "/home/yuncong/CSHL_data_processed/MD662/MD662_prep2_thumbnail/MD662&661-F35-2017.06.05-17.08.18_MD662_1_0103_prep2_thumbnail.tif\n",
      "/home/yuncong/CSHL_data_processed/ChatCryoJane201710/ChatCryoJane201710_prep2_thumbnail_Ntb/ChatCryoJane201710_slide1-S1_prep2_thumbnail_Ntb.tif\n"
     ]
    }
   ],
   "source": [
    "%reload_ext autoreload\n",
    "%autoreload 2\n",
    "\n",
    "import sys\n",
    "import os\n",
    "\n",
    "import numpy as np\n",
    "import bloscpack as bp\n",
    "%matplotlib inline\n",
    "\n",
    "sys.path.append(os.path.join(os.environ['REPO_DIR'], 'utilities'))\n",
    "from utilities2015 import *\n",
    "from metadata import *\n",
    "from data_manager import *\n",
    "\n",
    "from registration_utilities import *\n",
    "from annotation_utilities import *\n",
    "from vis3d_utilities import *"
   ]
  },
  {
   "cell_type": "code",
   "execution_count": 2,
   "metadata": {
    "collapsed": true
   },
   "outputs": [],
   "source": [
    "atlas_name = 'atlasV5'\n",
    "# atlasV6 added the outline; everything else is the same as atlasV5"
   ]
  },
  {
   "cell_type": "code",
   "execution_count": 3,
   "metadata": {
    "collapsed": true
   },
   "outputs": [],
   "source": [
    "stack_fixed = 'MD589'\n",
    "stacks_moving = ['MD585', 'MD594']\n",
    "warp_setting = 9"
   ]
  },
  {
   "cell_type": "code",
   "execution_count": 4,
   "metadata": {},
   "outputs": [],
   "source": [
    "# ann_vol_bbox_rel2uncropped = DataManager.load_original_volume_bbox(stack=stack_fixed, volume_type='annotation', downscale=32)\n",
    "# print 'annotation volume bbox (rel2uncropped):', ann_vol_bbox_rel2uncropped"
   ]
  },
  {
   "cell_type": "markdown",
   "metadata": {},
   "source": [
    "# Compute mean positions"
   ]
  },
  {
   "cell_type": "markdown",
   "metadata": {},
   "source": [
    "## Compute centroids of all instances of all structures in MD589 space"
   ]
  },
  {
   "cell_type": "code",
   "execution_count": 9,
   "metadata": {},
   "outputs": [],
   "source": [
    "left_instance_vol = DataManager.load_transformed_volume(stack_m='MD585', vol_type_m='annotationAsScore',\n",
    "                                                        stack_f='MD589', vol_type_f='annotationAsScore',\n",
    "                                                        warp_setting=warp_setting,\n",
    "                                                        structure='7N_L')"
   ]
  },
  {
   "cell_type": "code",
   "execution_count": null,
   "metadata": {
    "collapsed": true
   },
   "outputs": [],
   "source": []
  },
  {
   "cell_type": "code",
   "execution_count": 7,
   "metadata": {
    "scrolled": true
   },
   "outputs": [
    {
     "name": "stdout",
     "output_type": "stream",
     "text": [
      "5N\n",
      "6N\n",
      "7N\n",
      "7n\n",
      "Amb\n",
      "LC\n",
      "LRt\n",
      "Pn\n",
      "Tz\n",
      "VLL\n",
      "RMC\n",
      "SNC\n",
      "SNR\n",
      "3N\n",
      "4N\n",
      "Sp5I\n",
      "Sp5O\n",
      "Sp5C\n",
      "rm -rf \"/home/yuncong/CSHL_volumes/MD585/MD585_down32_annotationAsScoreVolume_warp9_MD589_down32_annotationAsScoreVolume/score_volumes/MD585_down32_annotationAsScoreVolume_warp9_MD589_down32_annotationAsScoreVolume_Sp5C_R.bp\" && mkdir -p \"/home/yuncong/CSHL_volumes/MD585/MD585_down32_annotationAsScoreVolume_warp9_MD589_down32_annotationAsScoreVolume/score_volumes\"\n",
      "aws s3 cp \"s3://mousebrainatlas-data/CSHL_volumes/MD585/MD585_down32_annotationAsScoreVolume_warp9_MD589_down32_annotationAsScoreVolume/score_volumes/MD585_down32_annotationAsScoreVolume_warp9_MD589_down32_annotationAsScoreVolume_Sp5C_R.bp\" \"/home/yuncong/CSHL_volumes/MD585/MD585_down32_annotationAsScoreVolume_warp9_MD589_down32_annotationAsScoreVolume/score_volumes/MD585_down32_annotationAsScoreVolume_warp9_MD589_down32_annotationAsScoreVolume_Sp5C_R.bp\"\n"
     ]
    },
    {
     "name": "stderr",
     "output_type": "stream",
     "text": [
      "File does not exist: /home/yuncong/CSHL_volumes/MD585/MD585_down32_annotationAsScoreVolume_warp9_MD589_down32_annotationAsScoreVolume/score_volumes/MD585_down32_annotationAsScoreVolume_warp9_MD589_down32_annotationAsScoreVolume_Sp5C_R.bp\n"
     ]
    },
    {
     "name": "stdout",
     "output_type": "stream",
     "text": [
      "[Errno 2] No such file or directory: '/home/yuncong/CSHL_volumes/MD585/MD585_down32_annotationAsScoreVolume_warp9_MD589_down32_annotationAsScoreVolume/score_volumes/MD585_down32_annotationAsScoreVolume_warp9_MD589_down32_annotationAsScoreVolume_Sp5C_R.bp'\n",
      "PBG\n",
      "10N\n",
      "VCA\n",
      "VCP\n",
      "DC\n",
      "AP\n",
      "12N\n",
      "RtTg\n",
      "SC\n",
      "IC\n"
     ]
    }
   ],
   "source": [
    "instance_centroids_rel2fixed = defaultdict(list)\n",
    "\n",
    "# for name_u in ['7N']:\n",
    "for name_u in all_known_structures:\n",
    "    print name_u\n",
    "    \n",
    "    if name_u in paired_structures:\n",
    "        lname = convert_to_left_name(name_u)\n",
    "        rname = convert_to_right_name(name_u)\n",
    "    else:\n",
    "        lname = name_u\n",
    "        rname = name_u\n",
    "    \n",
    "    try:\n",
    "        right_instance_vol = DataManager.load_original_volume(stack=stack_fixed,  downscale=32, volume_type='annotationAsScore', structure=rname)\n",
    "        right_instance_vol_bbox = np.array(bbox_3d(right_instance_vol))\n",
    "        right_instance_vol_inbbox = crop_and_pad_volume(right_instance_vol, out_bbox=right_instance_vol_bbox)\n",
    "        \n",
    "        instance_centroid_rel2fixed = np.mean(np.nonzero(right_instance_vol_inbbox), axis=1)[[1,0,2]] + right_instance_vol_bbox[[0,2,4]]\n",
    "        instance_centroids_rel2fixed[rname].append(instance_centroid_rel2fixed)\n",
    "        \n",
    "    except Exception as e:\n",
    "        print e\n",
    "        continue\n",
    "\n",
    "    try:\n",
    "        left_instance_vol = DataManager.load_original_volume(stack=stack_fixed, downscale=32, volume_type='annotationAsScore', structure=lname)\n",
    "        left_instance_vol_bbox = np.array(bbox_3d(left_instance_vol))\n",
    "        left_instance_vol_inbbox = crop_and_pad_volume(left_instance_vol, out_bbox=left_instance_vol_bbox)\n",
    "        \n",
    "        instance_centroid_rel2fixed = np.mean(np.nonzero(left_instance_vol_inbbox), axis=1)[[1,0,2]] + left_instance_vol_bbox[[0,2,4]]\n",
    "        instance_centroids_rel2fixed[lname].append(instance_centroid_rel2fixed)\n",
    "\n",
    "    except Exception as e:\n",
    "        print e\n",
    "        continue        \n",
    "\n",
    "    for stack_moving in stacks_moving:\n",
    "\n",
    "        try:\n",
    "            left_instance_vol = DataManager.load_transformed_volume(stack_m=stack_moving, vol_type_m='annotationAsScore',\n",
    "                                                            stack_f=stack_fixed, vol_type_f='annotationAsScore',\n",
    "                                                            warp_setting=warp_setting,\n",
    "                                                            structure=lname)\n",
    "            left_instance_vol_bbox_rel2fixed = DataManager.load_transformed_volume_bbox(stack_m=stack_moving, vol_type_m='annotationAsScore',\n",
    "                                                        stack_f=stack_fixed, vol_type_f='annotationAsScore',\n",
    "                                                        warp_setting=warp_setting,\n",
    "                                                        structure=lname)\n",
    "            instance_centroid_rel2fixed = np.mean(np.nonzero(left_instance_vol), axis=1)[[1,0,2]] + left_instance_vol_bbox_rel2fixed[[0,2,4]]\n",
    "            instance_centroids_rel2fixed[lname].append(instance_centroid_rel2fixed)\n",
    "        except Exception as e:\n",
    "            print e\n",
    "            continue \n",
    "\n",
    "        try:\n",
    "            right_instance_vol = DataManager.load_transformed_volume(stack_m=stack_moving, vol_type_m='annotationAsScore',\n",
    "                                                        stack_f=stack_fixed, vol_type_f='annotationAsScore',\n",
    "                                                        warp_setting=warp_setting,\n",
    "                                                        structure=rname)\n",
    "            right_instance_vol_bbox_rel2fixed = DataManager.load_transformed_volume_bbox(stack_m=stack_moving, vol_type_m='annotationAsScore',\n",
    "                                                        stack_f=stack_fixed, vol_type_f='annotationAsScore',\n",
    "                                                        warp_setting=warp_setting,\n",
    "                                                        structure=rname)\n",
    "            instance_centroid_rel2fixed = np.mean(np.nonzero(right_instance_vol), axis=1)[[1,0,2]] + right_instance_vol_bbox_rel2fixed[[0,2,4]]\n",
    "            instance_centroids_rel2fixed[rname].append(instance_centroid_rel2fixed)\n",
    "        except Exception as e:\n",
    "            print e\n",
    "            continue \n"
   ]
  },
  {
   "cell_type": "code",
   "execution_count": 9,
   "metadata": {
    "collapsed": true
   },
   "outputs": [],
   "source": [
    "instance_centroids_rel2fixed.default_factory = None"
   ]
  },
  {
   "cell_type": "code",
   "execution_count": 42,
   "metadata": {},
   "outputs": [
    {
     "name": "stdout",
     "output_type": "stream",
     "text": [
      "aws s3 cp \"/home/yuncong/CSHL_meshes/atlasV5/atlasV5_instanceCentroids.pkl\" \"s3://mousebrainatlas-data/CSHL_meshes/atlasV5/atlasV5_instanceCentroids.pkl\"\n"
     ]
    }
   ],
   "source": [
    "fp = DataManager.get_instance_centroids_filepath(atlas_name=atlas_name)\n",
    "save_pickle(instance_centroids_rel2fixed, fp)\n",
    "upload_to_s3(fp)"
   ]
  },
  {
   "cell_type": "markdown",
   "metadata": {},
   "source": [
    "## Load instance centroids"
   ]
  },
  {
   "cell_type": "code",
   "execution_count": 5,
   "metadata": {
    "collapsed": true
   },
   "outputs": [],
   "source": [
    "fp = DataManager.get_instance_centroids_filepath(atlas_name=atlas_name)\n",
    "instance_centroids_rel2fixed = load_pickle(fp)"
   ]
  },
  {
   "cell_type": "code",
   "execution_count": 18,
   "metadata": {
    "collapsed": true
   },
   "outputs": [],
   "source": [
    "instance_centroids_rel2canon = {name_s: np.array(instance_centroids) - canonical_centroid_rel2fixed\n",
    "                                for name_s, instance_centroids in instance_centroids_rel2fixed.iteritems()}"
   ]
  },
  {
   "cell_type": "markdown",
   "metadata": {},
   "source": [
    "## Average the centroids"
   ]
  },
  {
   "cell_type": "code",
   "execution_count": 28,
   "metadata": {},
   "outputs": [
    {
     "name": "stdout",
     "output_type": "stream",
     "text": [
      "[ 0.04111027 -0.09160432  0.99494653] @ [ 172.0630378   223.21016434  186.74030921]\n",
      "canonical_centroid_rel2uncropped [ 794.0630378   378.21016434  314.74030921]\n"
     ]
    }
   ],
   "source": [
    "nominal_locations_rel2canon, canonical_centroid_rel2fixed, canonical_normal = \\\n",
    "average_location(instance_centroids_rel2fixed)\n",
    "\n",
    "canonical_centroid_rel2uncropped = canonical_centroid_rel2fixed + ann_vol_bbox_rel2uncropped[[0,2,4]]\n",
    "print 'canonical_centroid_rel2uncropped', canonical_centroid_rel2uncropped"
   ]
  },
  {
   "cell_type": "code",
   "execution_count": 29,
   "metadata": {
    "collapsed": true
   },
   "outputs": [],
   "source": [
    "nominal_locations_rel2fixed = {k: canonical_centroid_rel2fixed + c for k, c in nominal_locations_rel2canon.iteritems()}"
   ]
  },
  {
   "cell_type": "code",
   "execution_count": 30,
   "metadata": {},
   "outputs": [
    {
     "name": "stdout",
     "output_type": "stream",
     "text": [
      "deviation angle: 5.76256199381\n"
     ]
    }
   ],
   "source": [
    "print 'deviation angle:', np.rad2deg(np.arccos(canonical_normal[2]))"
   ]
  },
  {
   "cell_type": "code",
   "execution_count": 31,
   "metadata": {
    "collapsed": true
   },
   "outputs": [],
   "source": [
    "cov_mat_allStructures, radii_allStructures, ellipsoid_matrix_allStructures = \\\n",
    "compute_covar_from_instance_centroids(instance_centroids_rel2fixed)"
   ]
  },
  {
   "cell_type": "code",
   "execution_count": 32,
   "metadata": {
    "collapsed": true,
    "scrolled": true
   },
   "outputs": [],
   "source": [
    "# Manually coerce 2D ellipsoid to 3D.\n",
    "\n",
    "for k in sorted(all_known_structures_sided):\n",
    "    orig_radii = radii_allStructures[k]\n",
    "    new_radii = orig_radii.copy()\n",
    "    new_radii[2] = 5 # manually assign a radius on the third direction.\n",
    "    D = np.diag(new_radii)\n",
    "    cov_mat_allStructures[k] = np.dot(ellipsoid_matrix_allStructures[k].T, np.dot(D**2, ellipsoid_matrix_allStructures[k]))"
   ]
  },
  {
   "cell_type": "code",
   "execution_count": 33,
   "metadata": {},
   "outputs": [
    {
     "data": {
      "text/plain": [
       "{'10N_L': array([[   8.73503513,   28.67689077,   -0.32127121],\n",
       "        [  28.67689077,  108.09691627,    6.50678922],\n",
       "        [  -0.32127121,    6.50678922,   25.25767098]]),\n",
       " '10N_R': array([[ 18.24424834,   6.63761667,   8.19284956],\n",
       "        [  6.63761667,  15.8003681 ,  -6.71678288],\n",
       "        [  8.19284956,  -6.71678288,  14.4010548 ]]),\n",
       " '12N': array([[  4.16596794,  11.00546909,  -3.31957821],\n",
       "        [ 11.00546909,  45.14741041,   3.13432629],\n",
       "        [ -3.31957821,   3.13432629,  24.54451573]]),\n",
       " '3N_L': array([[ 212.28876163,  -58.51397998,  -70.67979921],\n",
       "        [ -58.51397998,   16.57854198,   16.87522644],\n",
       "        [ -70.67979921,   16.87522644,   50.65806766]]),\n",
       " '3N_R': array([[ 319.89624224,  -50.62728246,  -96.89380857],\n",
       "        [ -50.62728246,    9.06947695,   10.45964232],\n",
       "        [ -96.89380857,   10.45964232,   55.28772388]]),\n",
       " '4N_L': array([[ 185.44010244,  -28.57342117,  -74.21602692],\n",
       "        [ -28.57342117,    4.86608743,    9.28532832],\n",
       "        [ -74.21602692,    9.28532832,   58.71768811]]),\n",
       " '4N_R': array([[ 278.98212464,  -30.23305145,  -68.36743677],\n",
       "        [ -30.23305145,    3.76880131,    4.90393448],\n",
       "        [ -68.36743677,    4.90393448,   42.98200675]]),\n",
       " '5N_L': array([[ 56.75154372,  -9.96865711, -17.19338577],\n",
       "        [ -9.96865711,   4.53806874,  10.93561228],\n",
       "        [-17.19338577,  10.93561228,  33.01035028]]),\n",
       " '5N_R': array([[ 11.71457466,  27.05638738,   0.18401747],\n",
       "        [ 27.05638738,  63.66000646,  -0.67395522],\n",
       "        [  0.18401747,  -0.67395522,  24.9984059 ]]),\n",
       " '6N_L': array([[  5.36398446,   3.04989202,   8.45878334],\n",
       "        [  3.04989202,   5.97639898,   0.6845399 ],\n",
       "        [  8.45878334,   0.6845399 ,  21.14085043]]),\n",
       " '6N_R': array([[ 12.82890521,   8.979558  ,  -9.30053327],\n",
       "        [  8.979558  ,  30.43328134,   9.58148328],\n",
       "        [ -9.30053327,   9.58148328,  18.50645399]]),\n",
       " '7N_L': array([[  7.81518394e+01,  -3.57802154e-02,  -6.59815372e+01],\n",
       "        [ -3.57802154e-02,   8.03722743e+00,   1.54032935e+01],\n",
       "        [ -6.59815372e+01,   1.54032935e+01,   9.30014292e+01]]),\n",
       " '7N_R': array([[   2.01603262,   12.82866528,   -1.74532506],\n",
       "        [  12.82866528,  125.48907522,    7.50473955],\n",
       "        [  -1.74532506,    7.50473955,   25.26364424]]),\n",
       " '7n_L': array([[ 47.71045269,  -8.35751139, -10.13781369],\n",
       "        [ -8.35751139,   4.68412245,   9.79503851],\n",
       "        [-10.13781369,   9.79503851,  27.95327798]]),\n",
       " '7n_R': array([[  8.32801999,  25.27273401,  -0.4341033 ],\n",
       "        [ 25.27273401,  80.67755982,  -6.90794416],\n",
       "        [ -0.4341033 ,  -6.90794416,  25.59775592]]),\n",
       " 'AP': array([[ 13.02580886,  18.01539199,   3.9946426 ],\n",
       "        [ 18.01539199,  39.88455948,  -9.9847305 ],\n",
       "        [  3.9946426 ,  -9.9847305 ,  24.04361959]]),\n",
       " 'Amb_L': array([[ 30.90766709, -12.32843302, -33.953113  ],\n",
       "        [-12.32843302,  50.42409391,  64.8065473 ],\n",
       "        [-33.953113  ,  64.8065473 ,  99.60620579]]),\n",
       " 'Amb_R': array([[  0.68916538,   3.660836  ,   1.57093483],\n",
       "        [  3.660836  ,  60.15467155,  -1.21397936],\n",
       "        [  1.57093483,  -1.21397936,  24.92524431]]),\n",
       " 'DC_L': array([[ 26.76784924, -10.0643439 ,  -3.85055098],\n",
       "        [-10.0643439 ,  78.89308063,  30.45350324],\n",
       "        [ -3.85055098,  30.45350324,  11.99428946]]),\n",
       " 'DC_R': array([[ 34.08479419, -54.04022842,  -0.55504539],\n",
       "        [-54.04022842,  88.13024727,   3.01259532],\n",
       "        [ -0.55504539,   3.01259532,  25.03358767]]),\n",
       " 'IC': array([[ 152.31874284,  -11.29376151,  -27.04359745],\n",
       "        [ -11.29376151,    2.09188929,   -1.50498149],\n",
       "        [ -27.04359745,   -1.50498149,   30.10689103]]),\n",
       " 'LC_L': array([[ 31.6568831 , -15.07660535,  -6.92058895],\n",
       "        [-15.07660535,  14.68828487,  17.52312355],\n",
       "        [ -6.92058895,  17.52312355,  32.11781795]]),\n",
       " 'LC_R': array([[ 23.02083001,  24.65953034,   2.68127133],\n",
       "        [ 24.65953034,  42.47086536, -15.49976716],\n",
       "        [  2.68127133, -15.49976716,  22.35513605]]),\n",
       " 'LRt_L': array([[ 163.36144293,  -99.70882241, -117.16070423],\n",
       "        [ -99.70882241,   82.00613139,   95.73428438],\n",
       "        [-117.16070423,   95.73428438,  115.60328711]]),\n",
       " 'LRt_R': array([[ 23.6685489 ,   5.97246461,  -5.62420588],\n",
       "        [  5.97246461,   7.27656991,   7.16798622],\n",
       "        [ -5.62420588,   7.16798622,  37.21636101]]),\n",
       " 'PBG_L': array([[ 44.13656969, -21.39586957, -35.12359693],\n",
       "        [-21.39586957,  11.19841299,  21.6521243 ],\n",
       "        [-35.12359693,  21.6521243 ,  81.23811903]]),\n",
       " 'PBG_R': array([[ 290.86516346,  -93.36717828, -104.5903471 ],\n",
       "        [ -93.36717828,   30.43019441,   31.62150582],\n",
       "        [-104.5903471 ,   31.62150582,   65.19146431]]),\n",
       " 'Pn_L': array([[ 71.52914103,  -2.38621494, -53.80420686],\n",
       "        [ -2.38621494,  21.4941363 ,  14.61246213],\n",
       "        [-53.80420686,  14.61246213,  48.49352523]]),\n",
       " 'Pn_R': array([[ 94.96147264,  43.93105723, -20.33914202],\n",
       "        [ 43.93105723,  21.666776  ,  -4.27339562],\n",
       "        [-20.33914202,  -4.27339562,  28.57721046]]),\n",
       " 'RMC_L': array([[ 163.75718931,  -36.4416319 ,  -66.37498863],\n",
       "        [ -36.4416319 ,    8.31901767,   16.81755171],\n",
       "        [ -66.37498863,   16.81755171,   56.7363278 ]]),\n",
       " 'RMC_R': array([[ 400.03421144,  -52.64901788, -167.6152064 ],\n",
       "        [ -52.64901788,    7.10552757,   20.00374845],\n",
       "        [-167.6152064 ,   20.00374845,   99.4208606 ]]),\n",
       " 'RtTg': array([[ 38.23632227,  24.80796613,  -1.33966363],\n",
       "        [ 24.80796613,  16.53566881,  -0.42918142],\n",
       "        [ -1.33966363,  -0.42918142,  25.0567444 ]]),\n",
       " 'SC': array([[ 181.6003562 ,  -37.54335093,  -82.73340769],\n",
       "        [ -37.54335093,   13.04719311,    6.62428789],\n",
       "        [ -82.73340769,    6.62428789,   60.38037394]]),\n",
       " 'SNC_L': array([[ 99.08546097, -21.16095628, -22.23659862],\n",
       "        [-21.16095628,  27.23290284,  -3.19392833],\n",
       "        [-22.23659862,  -3.19392833,   7.76796302]]),\n",
       " 'SNC_R': array([[ 341.05500037, -137.44443594,  -25.82453924],\n",
       "        [-137.44443594,   56.44633502,   15.45300832],\n",
       "        [ -25.82453924,   15.45300832,   26.48061359]]),\n",
       " 'SNR_L': array([[ 117.88529572,  -61.78178442,  -82.44446299],\n",
       "        [ -61.78178442,   65.63235462,   58.75189324],\n",
       "        [ -82.44446299,   58.75189324,   64.94993245]]),\n",
       " 'SNR_R': array([[ 273.94476249,  -86.20560518,  -40.93752426],\n",
       "        [ -86.20560518,   30.07392674,   21.21821428],\n",
       "        [ -40.93752426,   21.21821428,   29.73043721]]),\n",
       " 'Sp5C_L': array([[  17.07288988,   51.61146987,   11.97321486],\n",
       "        [  51.61146987,  560.47332506,  265.65718541],\n",
       "        [  11.97321486,  265.65718541,  142.39306644]]),\n",
       " 'Sp5C_R': array([[ 81.49418658, -89.78560773,  -6.97355141],\n",
       "        [-89.78560773,  99.2902572 ,   4.66380145],\n",
       "        [ -6.97355141,   4.66380145,  25.25842165]]),\n",
       " 'Sp5I_L': array([[  80.82832251,  119.56932502,   58.17034512],\n",
       "        [ 119.56932502,  192.10005929,  105.59025601],\n",
       "        [  58.17034512,  105.59025601,   81.55588444]]),\n",
       " 'Sp5I_R': array([[ 33.66554971,  48.98152504,  -8.16804788],\n",
       "        [ 48.98152504,  85.61980027, -29.25651279],\n",
       "        [ -8.16804788, -29.25651279,  31.37632193]]),\n",
       " 'Sp5O_L': array([[ 20.65152902,   5.32442053,  -8.28223761],\n",
       "        [  5.32442053,  41.10885055,  45.60077468],\n",
       "        [ -8.28223761,  45.60077468,  64.79268362]]),\n",
       " 'Sp5O_R': array([[  37.96118942,  -60.58455811,    1.4469803 ],\n",
       "        [ -60.58455811,  159.57216617,  -36.68242737],\n",
       "        [   1.4469803 ,  -36.68242737,   19.13850675]]),\n",
       " 'Tz_L': array([[ 16.22255665,  24.74802025,  -5.93012581],\n",
       "        [ 24.74802025,  41.37740791, -12.87824637],\n",
       "        [ -5.93012581, -12.87824637,  31.16198286]]),\n",
       " 'Tz_R': array([[ 14.97371133,  36.67477592,  -4.93241431],\n",
       "        [ 36.67477592,  97.41198569, -21.413125  ],\n",
       "        [ -4.93241431, -21.413125  ,  30.10976597]]),\n",
       " 'VCA_L': array([[  16.23115166,    9.11508292,   -8.18454382],\n",
       "        [   9.11508292,  116.50680362,   68.08118426],\n",
       "        [  -8.18454382,   68.08118426,   52.50576732]]),\n",
       " 'VCA_R': array([[ 11.14145459, -20.65744951,   7.63911628],\n",
       "        [-20.65744951,  75.735044  ,   9.72971416],\n",
       "        [  7.63911628,   9.72971416,  20.82284327]]),\n",
       " 'VCP_L': array([[ 19.46842257,   9.74492249,  -4.8285262 ],\n",
       "        [  9.74492249,  63.6135016 ,  54.70120564],\n",
       "        [ -4.8285262 ,  54.70120564,  59.04124511]]),\n",
       " 'VCP_R': array([[  15.89557887,  -41.22524634,   -5.23194847],\n",
       "        [ -41.22524634,  136.13782234,  -10.74869175],\n",
       "        [  -5.23194847,  -10.74869175,   22.55581947]]),\n",
       " 'VLL_L': array([[ 191.92341269, -160.05403125,  -94.76093506],\n",
       "        [-160.05403125,  167.51332419,  103.431388  ],\n",
       "        [ -94.76093506,  103.431388  ,   64.37024362]]),\n",
       " 'VLL_R': array([[ 52.18779532,  38.82563441, -13.05449272],\n",
       "        [ 38.82563441,  29.42441896, -12.18931809],\n",
       "        [-13.05449272, -12.18931809,  30.4520317 ]])}"
      ]
     },
     "execution_count": 33,
     "metadata": {},
     "output_type": "execute_result"
    }
   ],
   "source": [
    "cov_mat_allStructures"
   ]
  },
  {
   "cell_type": "code",
   "execution_count": 34,
   "metadata": {
    "collapsed": true
   },
   "outputs": [],
   "source": [
    "for s, cov_mat in cov_mat_allStructures.iteritems():\n",
    "    covar_fp = DataManager.get_prior_covariance_matrix_filepath(atlas_name=atlas_name, structure=s)\n",
    "    create_parent_dir_if_not_exists(covar_fp)\n",
    "    bp.pack_ndarray_file(cov_mat, covar_fp)"
   ]
  },
  {
   "cell_type": "code",
   "execution_count": 42,
   "metadata": {},
   "outputs": [
    {
     "name": "stderr",
     "output_type": "stream",
     "text": [
      "/usr/local/lib/python2.7/dist-packages/matplotlib/axes/_axes.py:531: UserWarning: No labelled objects found. Use label='...' kwarg on individual plots.\n",
      "  warnings.warn(\"No labelled objects found. \"\n"
     ]
    },
    {
     "data": {
      "image/png": "[encoded data removed]",
      "text/plain": [
       "<matplotlib.figure.Figure at 0x7f3b8dbe78d0>"
      ]
     },
     "metadata": {},
     "output_type": "display_data"
    }
   ],
   "source": [
    "plot_centroid_means_and_covars_3d(\n",
    "    instance_centroids=instance_centroids_rel2canon, \n",
    "    cov_mat_allStructures=cov_mat_allStructures,\n",
    "                                  nominal_locations=nominal_locations_rel2canon,\n",
    "                                  canonical_centroid=canonical_centroid_rel2fixed,\n",
    "                                 canonical_normal=canonical_normal,\n",
    "    colors={name_s: np.array(name_unsided_to_color[convert_to_original_name(name_s)])/255.\n",
    "            for name_s in nominal_locations_rel2canon.keys()})"
   ]
  },
  {
   "cell_type": "code",
   "execution_count": 51,
   "metadata": {
    "collapsed": true
   },
   "outputs": [],
   "source": [
    "np.savetxt(DataManager.get_atlas_canonical_centroid_filepath(atlas_name=atlas_name), canonical_centroid_rel2uncropped)\n",
    "np.savetxt(DataManager.get_atlas_canonical_normal_filepath(atlas_name=atlas_name), canonical_normal)\n",
    "save_pickle(nominal_locations_rel2canon, DataManager.get_structure_mean_positions_filepath(atlas_name=atlas_name))"
   ]
  },
  {
   "cell_type": "markdown",
   "metadata": {},
   "source": [
    "# Compute mean shapes"
   ]
  },
  {
   "cell_type": "code",
   "execution_count": 43,
   "metadata": {
    "collapsed": true
   },
   "outputs": [],
   "source": [
    "stack_fixed = 'MD589'\n",
    "stacks_moving = ['MD585', 'MD594']\n",
    "warp_setting = 9"
   ]
  },
  {
   "cell_type": "code",
   "execution_count": null,
   "metadata": {
    "collapsed": true
   },
   "outputs": [],
   "source": [
    "instance_volumes = defaultdict(list)\n",
    "instance_source = defaultdict(list)\n",
    "\n",
    "moving_vol_aligned2template_inbbox_allInstances_allStructures = defaultdict(list)\n",
    "moving_vol_aligned2template_bbox_rel2templateCentroid_allInstances_allStructures = defaultdict(list)\n",
    "scores_allInstances_allStructures = defaultdict(list)\n",
    "scores_allInstances_allStructures_allLearningRates = defaultdict(lambda: defaultdict(list))\n",
    "\n",
    "structure_mean_shape_allStructures = {}\n",
    "structure_origin_rel2templateCentroid_allStructures = {}\n",
    "structure_mean_mesh_rel2templateCentroid_allStructures = {}\n",
    "\n",
    "instance_aligned2template_meshes_rel2templateCentroid_allStructures = defaultdict(list)\n",
    "template_meshes_rel2templateCentroid_allStructures = {}\n",
    "template_vol_centroids_rel2template_allStructures = {}\n",
    "\n",
    "# for name_u in ['7N']:\n",
    "for name_u in all_known_structures:\n",
    "    print name_u\n",
    "    \n",
    "    if name_u in paired_structures:\n",
    "        lname = convert_to_left_name(name_u)\n",
    "        rname = convert_to_right_name(name_u)\n",
    "    else:\n",
    "        lname = name_u\n",
    "        rname = name_u\n",
    "    \n",
    "    try:\n",
    "        right_instance_vol = DataManager.load_original_volume(stack=stack_fixed,  downscale=32, volume_type='annotationAsScore', structure=rname)\n",
    "        right_instance_vol_bbox = np.array(bbox_3d(right_instance_vol))\n",
    "        right_instance_vol_inbbox = crop_and_pad_volume(right_instance_vol, out_bbox=right_instance_vol_bbox)\n",
    "        instance_volumes[name_u].append(right_instance_vol_inbbox) # if right, do not mirror\n",
    "        instance_source[name_u].append((stack_fixed, 'R'))\n",
    "    except Exception as e:\n",
    "        continue\n",
    "\n",
    "    try:\n",
    "        left_instance_vol = DataManager.load_original_volume(stack=stack_fixed, downscale=32, volume_type='annotationAsScore', structure=lname)\n",
    "        left_instance_vol_bbox = np.array(bbox_3d(left_instance_vol))\n",
    "        left_instance_vol_inbbox = crop_and_pad_volume(left_instance_vol, out_bbox=left_instance_vol_bbox)\n",
    "        instance_volumes[name_u].append(left_instance_vol_inbbox[..., ::-1]) # if left, mirror\n",
    "        instance_source[name_u].append((stack_fixed, 'L'))\n",
    "    except:\n",
    "        continue        \n",
    "\n",
    "    for stack_moving in stacks_moving:\n",
    "\n",
    "        try:\n",
    "            left_instance_vol = DataManager.load_transformed_volume(stack_m=stack_moving, vol_type_m='annotationAsScore',\n",
    "                                                            stack_f=stack_fixed, vol_type_f='annotationAsScore',\n",
    "                                                            warp_setting=warp_setting,\n",
    "                                                            structure=lname)\n",
    "            instance_volumes[name_u].append(left_instance_vol[..., ::-1]) # if left, mirror\n",
    "            instance_source[name_u].append((stack_moving, 'L'))\n",
    "        except:\n",
    "            continue\n",
    "\n",
    "        try:\n",
    "            right_instance_vol = DataManager.load_transformed_volume(stack_m=stack_moving, vol_type_m='annotationAsScore',\n",
    "                                                        stack_f=stack_fixed, vol_type_f='annotationAsScore',\n",
    "                                                        warp_setting=warp_setting,\n",
    "                                                        structure=rname)\n",
    "            instance_volumes[name_u].append(right_instance_vol) # if right, do not mirror\n",
    "            instance_source[name_u].append((stack_moving, 'R'))\n",
    "        except:\n",
    "            continue\n",
    "            \n",
    "    ############################################\n",
    "    \n",
    "    template_vol = instance_volumes[name_u][0]\n",
    "    \n",
    "    template_vol_centroid_rel2template = np.mean(np.nonzero(template_vol), axis=1)[[1,0,2]]\n",
    "    template_vol_centroids_rel2template_allStructures[name_u] = template_vol_centroid_rel2template\n",
    "\n",
    "    for i in range(1, len(instance_volumes[name_u])):\n",
    "\n",
    "        moving_vol = instance_volumes[name_u][i]\n",
    "\n",
    "        aligner = Aligner4({0:template_vol}, {0:moving_vol}, labelIndexMap_m2f={0:0})\n",
    "        aligner.set_centroid(centroid_m='structure_centroid', centroid_f='structure_centroid')\n",
    "\n",
    "#         grid_search_T, grid_search_score = aligner.do_grid_search(grid_search_sample_number=5,\n",
    "#                       std_tx=30, std_ty=30, std_tz=30, std_theta_xy=0,\n",
    "#                        grid_search_eta=3., stop_radius_voxel=2)\n",
    "        \n",
    "        gy, gx, gz = np.gradient(template_vol)\n",
    "        gradients = {0: np.array([gx, gy, gz])}\n",
    "        aligner.load_gradient(gradients=gradients)\n",
    "\n",
    "#         for lr in [.1, 1, 10]:\n",
    "#             T, scores = aligner.optimize(tf_type='rigid', \n",
    "#                                  history_len=50, \n",
    "#                                  terminate_thresh=1e-6,\n",
    "#                                  grad_computation_sample_number=100000,\n",
    "#                                          full_lr=np.array([lr,lr,lr,0.1,0.1,0.1]),\n",
    "#     #                                      init_T=grid_search_T\n",
    "#                                 )\n",
    "\n",
    "#             scores_allInstances_allStructures_allLearningRates[lr][name_u].append(scores)\n",
    "\n",
    "        lr = 1.\n",
    "        T, scores = aligner.optimize(tf_type='rigid', \n",
    "                             history_len=50, \n",
    "                             terminate_thresh=1e-6,\n",
    "                            max_iter_num=100 if name_u in ['SC', 'IC'] else 1000,\n",
    "                             grad_computation_sample_number=None,\n",
    "                                full_lr=np.array([lr,lr,lr,0.1,0.1,0.1]),\n",
    "#                                      init_T=grid_search_T\n",
    "                            )\n",
    "\n",
    "        scores_allInstances_allStructures[name_u].append(scores)\n",
    "        \n",
    "        #################################\n",
    "        \n",
    "        moving_vol_aligned2template_inbbox, moving_vol_aligned2template_bbox_rel2template = transform_volume_v2(moving_vol, T, \n",
    "                                                                              centroid_m=aligner.centroid_m,\n",
    "                                                                             centroid_f=aligner.centroid_f)\n",
    "\n",
    "        moving_vol_aligned2template_bbox_rel2templateCentroid = \\\n",
    "        np.array(moving_vol_aligned2template_bbox_rel2template) - template_vol_centroid_rel2template[[0,0,1,1,2,2]]\n",
    "        \n",
    "        moving_vol_aligned2template_inbbox_allInstances_allStructures[name_u].append(moving_vol_aligned2template_inbbox)\n",
    "        moving_vol_aligned2template_bbox_rel2templateCentroid_allInstances_allStructures[name_u].append(moving_vol_aligned2template_bbox_rel2templateCentroid)  \n",
    "    \n",
    "    ########################################\n",
    "\n",
    "#     fig, axes = plt.subplots(1, 5, figsize=(20,2))\n",
    "#     for i, scores in enumerate(scores_allInstances_allStructures[name_u]):\n",
    "#         axes[i].plot(scores)\n",
    "#         axes[i].set_title('%s, %s, %s, %f' % ((name_u,) + instance_source[name_u][i+1] + (np.max(scores),)))\n",
    "#     plt.show();\n",
    "    \n",
    "    #########################################\n",
    "\n",
    "    for moving_vol_aligned2template, moving_vol_aligned2template_bbox_rel2templateCentroid in \\\n",
    "    zip(moving_vol_aligned2template_inbbox_allInstances_allStructures[name_u], \n",
    "        moving_vol_aligned2template_bbox_rel2templateCentroid_allInstances_allStructures[name_u]):\n",
    "        instance_aligned2template_mesh_rel2templateCentroid = volume_to_polydata(moving_vol_aligned2template, \\\n",
    "                                                            origin=np.array(moving_vol_aligned2template_bbox_rel2templateCentroid)[[0,2,4]], \n",
    "                           num_simplify_iter=3, smooth=True)\n",
    "        instance_aligned2template_meshes_rel2templateCentroid_allStructures[name_u].append(instance_aligned2template_mesh_rel2templateCentroid)\n",
    "\n",
    "    template_meshes_rel2templateCentroid_allStructures[name_u] = volume_to_polydata(template_vol, num_simplify_iter=3, smooth=True, origin=-template_vol_centroid_rel2template)\n",
    "    \n",
    "#     launch_vtk([actor_mesh(mesh, wireframe=True, color=np.array(high_contrast_colors[i+1])/255., opacity=1) \n",
    "#     for i, mesh in enumerate([template_mesh] + instance_aligned2template_meshes_allStructures[name_u])], \n",
    "#           background_color=(1,1,1))\n",
    "    \n",
    "    ##########################################\n",
    "    # Save instances data\n",
    "    \n",
    "    for s, instance_aligned2template_meshes_rel2templateCentroid in instance_aligned2template_meshes_rel2templateCentroid_allStructures.iteritems():\n",
    "\n",
    "        fp = DataManager.get_instance_mesh_filepath(atlas_name=atlas_name, structure=s, index=0)\n",
    "        create_parent_dir_if_not_exists(fp)\n",
    "        save_mesh_stl(template_meshes_rel2templateCentroid_allStructures[s], fp)\n",
    "        upload_to_s3(fp)\n",
    "        \n",
    "        for i, m in enumerate(instance_aligned2template_meshes_rel2templateCentroid):\n",
    "            fp = DataManager.get_instance_mesh_filepath(atlas_name=atlas_name, structure=s, index=i+1)\n",
    "            save_mesh_stl(m, fp)\n",
    "            upload_to_s3(fp)\n",
    "            \n",
    "        fp = DataManager.get_instance_sources_filepath(atlas_name=atlas_name, structure=s)\n",
    "        create_parent_dir_if_not_exists(fp)\n",
    "        save_pickle(instance_source[s], fp)\n",
    "        upload_to_s3(fp)        \n",
    "    \n",
    "    #########################################\n",
    "    \n",
    "    if name_u == 'IC' or name_u == 'SC':\n",
    "        # IC and SC boundaries are particularly jagged, so do a larger value smoothing.\n",
    "        sigma = 5.\n",
    "    else:\n",
    "        sigma = 2.\n",
    "\n",
    "    structure_mean_shape, structure_origin_rel2templateCentroid, structure_mean_mesh_rel2templateCentroid = \\\n",
    "        average_shape(volume_list=moving_vol_aligned2template_inbbox_allInstances_allStructures[name_u], \\\n",
    "                      origin_list=[(b_rel2templateCentroid[0], b_rel2templateCentroid[2], b_rel2templateCentroid[4])\n",
    "                                   for b_rel2templateCentroid in moving_vol_aligned2template_bbox_rel2templateCentroid_allInstances_allStructures[name_u]],\n",
    "                      consensus_percentage=.5,\n",
    "                      num_simplify_iter=3, smooth=True,\n",
    "                      force_symmetric=(name_u in singular_structures), \n",
    "                      sigma=sigma)\n",
    "    \n",
    "    structure_mean_shape_allStructures[name_u] = structure_mean_shape\n",
    "#     structure_origin_rel2template_allStructures[name_u] = structure_origin_rel2template    \n",
    "#     structure_mean_mesh_rel2template_allStructures[name_u] = structure_mean_mesh_rel2template\n",
    "    structure_origin_rel2templateCentroid_allStructures[name_u] = structure_origin_rel2templateCentroid    \n",
    "    structure_mean_mesh_rel2templateCentroid_allStructures[name_u] = structure_mean_mesh_rel2templateCentroid\n",
    "    \n",
    "    ########################################\n",
    "    # Save mean shape data\n",
    "    \n",
    "    fp = DataManager.get_structure_mean_mesh_filepath(atlas_name=atlas_name, structure=name_u)\n",
    "    create_parent_dir_if_not_exists(fp)\n",
    "    save_mesh_stl(structure_mean_mesh_rel2templateCentroid, fp)\n",
    "    upload_to_s3(fp)\n",
    "    \n",
    "    fp = DataManager.get_structure_mean_shape_filepath(atlas_name=atlas_name, structure=name_u)\n",
    "    bp.pack_ndarray_file(structure_mean_shape, fp)\n",
    "    upload_to_s3(fp)\n",
    "    \n",
    "    fp = DataManager.get_structure_mean_shape_origin_filepath(atlas_name=atlas_name, structure=name_u)\n",
    "    np.savetxt(fp, structure_origin_rel2templateCentroid)\n",
    "    upload_to_s3(fp)\n",
    "    \n",
    "    ##########################################\n",
    "    \n",
    "#     launch_vtk([\n",
    "#     actor_mesh(structure_mean_mesh_rel2template_allStructures[name_u], wireframe=True, opacity=1., color=(1,0,0)),\n",
    "#     actor_volume(structure_mean_shape_allStructures[name_u].astype(np.float32), what='probability',\n",
    "#                 origin=structure_origin_rel2template_allStructures[name_u], c=(0,1,0)),\n",
    "# ], background_color=(0,0,0))\n",
    "\n",
    "    ######################################\n",
    "    \n",
    "instance_volumes.default_factory = None\n",
    "instance_source.default_factory = None\n",
    "moving_vol_aligned2template_inbbox_allInstances_allStructures.default_factory = None\n",
    "moving_vol_aligned2template_bbox_rel2templateCentroid_allInstances_allStructures.default_factory = None\n",
    "scores_allInstances_allStructures.default_factory = None\n",
    "scores_allInstances_allStructures_allLearningRates.default_factory = None\n",
    "instance_aligned2template_meshes_rel2templateCentroid_allStructures.default_factory = None"
   ]
  },
  {
   "cell_type": "code",
   "execution_count": null,
   "metadata": {
    "collapsed": true
   },
   "outputs": [],
   "source": [
    "for structure, scores_allInstances in scores_allInstances_allStructures.iteritems():\n",
    "    fig, axes = plt.subplots(1, 5, figsize=(20,2))\n",
    "    for i, scores in enumerate(scores_allInstances):\n",
    "        axes[i].plot(scores)\n",
    "        axes[i].set_title('%s, %s, %s, %f' % ((name_u,) + instance_source[name_u][i+1] + (np.max(scores),)))\n",
    "plt.show()"
   ]
  },
  {
   "cell_type": "code",
   "execution_count": null,
   "metadata": {
    "collapsed": true
   },
   "outputs": [],
   "source": [
    "launch_vtk([\n",
    "#     actor_mesh(structure_mean_mesh_rel2template_allStructures[name_u], wireframe=True, opacity=1., color=(1,0,0)),\n",
    "    actor_volume(structure_mean_shape_allStructures[name_u].astype(np.float32), what='probability',\n",
    "                origin=structure_origin_rel2templateCentroid_allStructures[name_u], c=(0,1,0)),\n",
    "] + \\\n",
    "    [actor_mesh(mesh, wireframe=True, color=np.array(high_contrast_colors[i+1])/255., opacity=1) \n",
    "for i, mesh in enumerate([template_meshes_rel2templateCentroid_allStructures[name_u]] + \\\n",
    "                         instance_aligned2template_meshes_rel2templateCentroid_allStructures[name_u])] + \\\n",
    "    [actor_sphere((0,0,0), radius=1, color=(0,0,0))], \n",
    "    background_color=(0,0,0))"
   ]
  },
  {
   "cell_type": "code",
   "execution_count": null,
   "metadata": {
    "collapsed": true
   },
   "outputs": [],
   "source": [
    "# viz"
   ]
  },
  {
   "cell_type": "code",
   "execution_count": null,
   "metadata": {
    "collapsed": true
   },
   "outputs": [],
   "source": [
    "# instance_colors = [(1,0,0),(0,1,0),(0,0,1),(1,1,0),(0,1,1),(1,0,1)] # assume each structure has at most 6 instances.\n",
    "\n",
    "# for structure in all_known_structures_sided:\n",
    "# # for structure in ['IC']:\n",
    "\n",
    "#     print structure\n",
    "    \n",
    "#     for direction in ['coronal', 'sagittal', 'horizontal']:\n",
    "\n",
    "#         # Show each instance separately\n",
    "#         for i, polydata in enumerate([structure]):\n",
    "#             instance_actors = actor_mesh(polydata, instance_colors[i], opacity=1, wireframe=False)\n",
    "\n",
    "#             fp = DataManager.get_structure_viz_filepath(atlas_name=atlas_name, \n",
    "#                                                         structure=structure, suffix=direction+'_'+str(i))\n",
    "#             create_parent_dir_if_not_exists(fp)\n",
    "#             launch_vtk([instance_actors], snapshot_fn=fp, interactive=False, init_angle=direction)\n",
    "\n",
    "#         # Show different instances shown aligned together\n",
    "#         instance_actors = [actor_mesh(polydata, instance_colors[i], opacity=1., wireframe=True) \n",
    "#                            for i, polydata in enumerate(polydata_list_allLandmarks[structure])]\n",
    "\n",
    "#         icp_fp = DataManager.get_prob_shape_viz_filepath(stack_m=atlas_name, trial_idx=None, \n",
    "#                                                          structure=structure, suffix=direction+'_icpAligned')\n",
    "#         launch_vtk(instance_actors, snapshot_fn=icp_fp, interactive=False, init_angle=direction)\n",
    "# #         launch_vtk(instance_actors, init_angle=direction)\n",
    "        \n",
    "#         # Show voxel-voted probabilistic shape\n",
    "#         prob_shape_actor = actor_volume(prob_shape_allLandmarks[structure].astype(np.float32), \n",
    "#                                         what='probability', origin=prob_shape_origin_allLandmarks[structure])\n",
    "\n",
    "#         prob_shape_fp = DataManager.get_prob_shape_viz_filepath(stack_m=atlas_name, trial_idx=None, \n",
    "#                                                          structure=structure, suffix=direction+'_probShape')\n",
    "#         launch_vtk([prob_shape_actor], snapshot_fn=prob_shape_fp, interactive=False, init_angle=direction)\n",
    "# #         launch_vtk([prob_shape_actor], init_angle=direction)\n",
    "\n",
    "#         # Show voxel-voted probabilistic shape, thresholded at .5\n",
    "#         actor = actor_mesh(average_polydata_allLandmarks[structure], [1,1,1], opacity=1, wireframe=True)\n",
    "        \n",
    "#         thresh_shape_fp = DataManager.get_prob_shape_viz_filepath(stack_m=atlas_name, trial_idx=None, \n",
    "#                                                                 structure=structure, suffix=direction+'_thresh0.5')\n",
    "#         launch_vtk([actor], snapshot_fn=thresh_shape_fp, interactive=False, init_angle=direction)\n",
    "# #         launch_vtk([actor], init_angle=direction)"
   ]
  },
  {
   "cell_type": "markdown",
   "metadata": {},
   "source": [
    "# Examine saved instance data"
   ]
  },
  {
   "cell_type": "code",
   "execution_count": 44,
   "metadata": {
    "collapsed": true
   },
   "outputs": [],
   "source": [
    "instance_meshes = []\n",
    "for instance_index in range(6):\n",
    "    instance_mesh_fp = DataManager.get_instance_mesh_filepath(atlas_name='atlasV5', structure='7N', index=instance_index)\n",
    "    instance_mesh = load_mesh_stl(instance_mesh_fp, return_polydata_only=True)\n",
    "    instance_meshes.append(instance_mesh)"
   ]
  },
  {
   "cell_type": "code",
   "execution_count": 45,
   "metadata": {
    "collapsed": true
   },
   "outputs": [],
   "source": [
    "mean_shape_fp = DataManager.get_structure_mean_shape_filepath(atlas_name='atlasV5', structure='7N')\n",
    "mean_shape = bp.unpack_ndarray_file(mean_shape_fp)"
   ]
  },
  {
   "cell_type": "code",
   "execution_count": 46,
   "metadata": {
    "collapsed": true
   },
   "outputs": [],
   "source": [
    "mean_shape_origin_fp = DataManager.get_structure_mean_shape_origin_filepath(atlas_name='atlasV5', structure='7N')\n",
    "mean_shape_origin = np.loadtxt(mean_shape_origin_fp)"
   ]
  },
  {
   "cell_type": "code",
   "execution_count": 47,
   "metadata": {
    "collapsed": true
   },
   "outputs": [],
   "source": [
    "launch_vtk([actor_volume(mean_shape.astype(np.float32), what='probability', origin=mean_shape_origin, c=(0,0,0))])"
   ]
  },
  {
   "cell_type": "code",
   "execution_count": 48,
   "metadata": {
    "collapsed": true
   },
   "outputs": [],
   "source": [
    "launch_vtk([actor_mesh(m, color=np.array(random_colors(1)[0])/255., wireframe=True) \n",
    "            for m in instance_meshes] + \\\n",
    "          [actor_volume(mean_shape.astype(np.float32), what='probability', origin=mean_shape_origin, c=(0,0,0))])"
   ]
  },
  {
   "cell_type": "code",
   "execution_count": 16,
   "metadata": {
    "collapsed": true
   },
   "outputs": [],
   "source": [
    "launch_vtk([actor_mesh(m, color=np.array(random_colors(1)[0])/255., wireframe=True) \n",
    "            for m in instance_meshes] + \\\n",
    "          [actor_volume((mean_shape>0.5).astype(np.float32), \n",
    "                        what='probability', origin=mean_shape_origin, c=(0,0,0))])"
   ]
  },
  {
   "cell_type": "code",
   "execution_count": 15,
   "metadata": {
    "collapsed": true
   },
   "outputs": [],
   "source": [
    "launch_vtk([actor_mesh(instance_meshes[5], color=np.array(random_colors(1)[0])/255., wireframe=True)] + \\\n",
    "          [actor_volume((mean_shape>0.5).astype(np.float32), \n",
    "                        what='probability', origin=mean_shape_origin, c=(0,0,0))])"
   ]
  },
  {
   "cell_type": "code",
   "execution_count": 17,
   "metadata": {},
   "outputs": [
    {
     "name": "stderr",
     "output_type": "stream",
     "text": [
      "marching cube: 0.10 seconds\n",
      "mesh_to_polydata: 0.03 seconds\n"
     ]
    }
   ],
   "source": [
    "launch_vtk([actor_mesh(instance_meshes[5], color=np.array(random_colors(1)[0])/255., wireframe=True)] + \\\n",
    "          [actor_mesh(volume_to_polydata(mean_shape, level=0.5, origin=mean_shape_origin),\n",
    "                      color=(0,0,0), wireframe=True)])"
   ]
  },
  {
   "cell_type": "markdown",
   "metadata": {},
   "source": [
    "# Load all necessary data"
   ]
  },
  {
   "cell_type": "code",
   "execution_count": 53,
   "metadata": {
    "collapsed": true
   },
   "outputs": [],
   "source": [
    "# Load canonical info\n",
    "\n",
    "if atlas_name == 'atlasV6':\n",
    "    nominal_locations_rel2canon = load_pickle(DataManager.get_structure_mean_positions_filepath(atlas_name='atlasV5'))\n",
    "    canonical_centroid_rel2uncropped = np.loadtxt(DataManager.get_atlas_canonical_centroid_filepath(atlas_name='atlasV5'))    \n",
    "else:\n",
    "    nominal_locations_rel2canon = load_pickle(DataManager.get_structure_mean_positions_filepath(atlas_name=atlas_name))\n",
    "    canonical_centroid_rel2uncropped = np.loadtxt(DataManager.get_atlas_canonical_centroid_filepath(atlas_name=atlas_name))"
   ]
  },
  {
   "cell_type": "markdown",
   "metadata": {},
   "source": [
    "# Place mean shapes at mean positions; generate volumes."
   ]
  },
  {
   "cell_type": "code",
   "execution_count": 56,
   "metadata": {
    "collapsed": true
   },
   "outputs": [],
   "source": [
    "structure_vol_origin_dicts_rel2canon = {}\n",
    "\n",
    "for name_s in nominal_locations_rel2canon.keys():\n",
    "    \n",
    "    name_u = convert_to_original_name(name_s)\n",
    "    \n",
    "    if atlas_name == 'atlasV6':\n",
    "        prob_shape = bp.unpack_ndarray_file(DataManager.get_structure_mean_shape_filepath(atlas_name='atlasV5', structure=name_u))\n",
    "        prob_shape_origin_rel2structCentroid = np.loadtxt(DataManager.get_structure_mean_shape_origin_filepath(atlas_name='atlasV5', structure=name_u))\n",
    "    else:\n",
    "        prob_shape = bp.unpack_ndarray_file(DataManager.get_structure_mean_shape_filepath(atlas_name=atlas_name, structure=name_u))\n",
    "        prob_shape_origin_rel2structCentroid = np.loadtxt(DataManager.get_structure_mean_shape_origin_filepath(atlas_name=atlas_name, structure=name_u))\n",
    "\n",
    "    structure_centroid_rel2canon = nominal_locations_rel2canon[name_s]\n",
    "    \n",
    "    if name_s in singular_structures or parse_label(name_s)[1] == 'R':\n",
    "        # Singular or Right - don't need mirroring\n",
    "        structure_vol_origin_dicts_rel2canon[name_s] = (prob_shape, structure_centroid_rel2canon + prob_shape_origin_rel2structCentroid)\n",
    "    else:\n",
    "        # Left - need mirroring\n",
    "        structure_vol_origin_dicts_rel2canon[name_s] = mirror_volume(prob_shape, structure_centroid_rel2canon + prob_shape_origin_rel2structCentroid*(1,1,-1))"
   ]
  },
  {
   "cell_type": "markdown",
   "metadata": {},
   "source": [
    "# Convert to meshes"
   ]
  },
  {
   "cell_type": "code",
   "execution_count": 14,
   "metadata": {
    "collapsed": true
   },
   "outputs": [],
   "source": [
    "structure_meshes_rel2canon = {}\n",
    "\n",
    "for name_s in nominal_locations_rel2canon.keys():\n",
    "    \n",
    "    name_u = convert_to_original_name(name_s)\n",
    "    \n",
    "    if atlas_name == 'atlasV6':\n",
    "        vertices_rel2structCentroid, faces = load_mesh_stl(DataManager.get_structure_mean_mesh_filepath(atlas_name='atlasV5', structure=name_u))\n",
    "    else:\n",
    "        vertices_rel2structCentroid, faces = load_mesh_stl(DataManager.get_structure_mean_mesh_filepath(atlas_name=atlas_name, structure=name_u))\n",
    "\n",
    "    structure_centroid_rel2canon = nominal_locations_rel2canon[name_s]\n",
    "    \n",
    "    if name_s in singular_structures or parse_label(name_s)[1] == 'R':\n",
    "        # Singular or Right - don't need mirroring\n",
    "        structure_meshes_rel2canon[name_s] = mesh_to_polydata(vertices=vertices_rel2structCentroid + structure_centroid_rel2canon, \n",
    "                                                                faces=faces)\n",
    "    else:\n",
    "        # Left - need mirroring\n",
    "        structure_meshes_rel2canon[name_s] = mesh_to_polydata(vertices=vertices_rel2structCentroid*(1,1,-1) + structure_centroid_rel2canon, \n",
    "                                                                faces=faces)"
   ]
  },
  {
   "cell_type": "code",
   "execution_count": 177,
   "metadata": {
    "scrolled": true
   },
   "outputs": [
    {
     "name": "stdout",
     "output_type": "stream",
     "text": [
      "aws s3 cp \"/home/yuncong/CSHL_meshes/atlasV6/atlasV6_down32_scoreVolume/atlasV6_down32_scoreVolume_LRt_R.stl\" \"s3://mousebrainatlas-data/CSHL_meshes/atlasV6/atlasV6_down32_scoreVolume/atlasV6_down32_scoreVolume_LRt_R.stl\"\n",
      "aws s3 cp \"/home/yuncong/CSHL_meshes/atlasV6/atlasV6_down32_scoreVolume/atlasV6_down32_scoreVolume_Sp5C_L.stl\" \"s3://mousebrainatlas-data/CSHL_meshes/atlasV6/atlasV6_down32_scoreVolume/atlasV6_down32_scoreVolume_Sp5C_L.stl\"\n",
      "aws s3 cp \"/home/yuncong/CSHL_meshes/atlasV6/atlasV6_down32_scoreVolume/atlasV6_down32_scoreVolume_Pn_L.stl\" \"s3://mousebrainatlas-data/CSHL_meshes/atlasV6/atlasV6_down32_scoreVolume/atlasV6_down32_scoreVolume_Pn_L.stl\"\n",
      "aws s3 cp \"/home/yuncong/CSHL_meshes/atlasV6/atlasV6_down32_scoreVolume/atlasV6_down32_scoreVolume_7N_R.stl\" \"s3://mousebrainatlas-data/CSHL_meshes/atlasV6/atlasV6_down32_scoreVolume/atlasV6_down32_scoreVolume_7N_R.stl\"\n",
      "aws s3 cp \"/home/yuncong/CSHL_meshes/atlasV6/atlasV6_down32_scoreVolume/atlasV6_down32_scoreVolume_PBG_L.stl\" \"s3://mousebrainatlas-data/CSHL_meshes/atlasV6/atlasV6_down32_scoreVolume/atlasV6_down32_scoreVolume_PBG_L.stl\"\n",
      "aws s3 cp \"/home/yuncong/CSHL_meshes/atlasV6/atlasV6_down32_scoreVolume/atlasV6_down32_scoreVolume_VLL_L.stl\" \"s3://mousebrainatlas-data/CSHL_meshes/atlasV6/atlasV6_down32_scoreVolume/atlasV6_down32_scoreVolume_VLL_L.stl\"\n",
      "aws s3 cp \"/home/yuncong/CSHL_meshes/atlasV6/atlasV6_down32_scoreVolume/atlasV6_down32_scoreVolume_4N_R.stl\" \"s3://mousebrainatlas-data/CSHL_meshes/atlasV6/atlasV6_down32_scoreVolume/atlasV6_down32_scoreVolume_4N_R.stl\"\n",
      "aws s3 cp \"/home/yuncong/CSHL_meshes/atlasV6/atlasV6_down32_scoreVolume/atlasV6_down32_scoreVolume_VLL_R.stl\" \"s3://mousebrainatlas-data/CSHL_meshes/atlasV6/atlasV6_down32_scoreVolume/atlasV6_down32_scoreVolume_VLL_R.stl\"\n",
      "aws s3 cp \"/home/yuncong/CSHL_meshes/atlasV6/atlasV6_down32_scoreVolume/atlasV6_down32_scoreVolume_7N_L.stl\" \"s3://mousebrainatlas-data/CSHL_meshes/atlasV6/atlasV6_down32_scoreVolume/atlasV6_down32_scoreVolume_7N_L.stl\"\n",
      "aws s3 cp \"/home/yuncong/CSHL_meshes/atlasV6/atlasV6_down32_scoreVolume/atlasV6_down32_scoreVolume_PBG_R.stl\" \"s3://mousebrainatlas-data/CSHL_meshes/atlasV6/atlasV6_down32_scoreVolume/atlasV6_down32_scoreVolume_PBG_R.stl\"\n",
      "aws s3 cp \"/home/yuncong/CSHL_meshes/atlasV6/atlasV6_down32_scoreVolume/atlasV6_down32_scoreVolume_RtTg.stl\" \"s3://mousebrainatlas-data/CSHL_meshes/atlasV6/atlasV6_down32_scoreVolume/atlasV6_down32_scoreVolume_RtTg.stl\"\n",
      "aws s3 cp \"/home/yuncong/CSHL_meshes/atlasV6/atlasV6_down32_scoreVolume/atlasV6_down32_scoreVolume_Sp5C_R.stl\" \"s3://mousebrainatlas-data/CSHL_meshes/atlasV6/atlasV6_down32_scoreVolume/atlasV6_down32_scoreVolume_Sp5C_R.stl\"\n",
      "aws s3 cp \"/home/yuncong/CSHL_meshes/atlasV6/atlasV6_down32_scoreVolume/atlasV6_down32_scoreVolume_Pn_R.stl\" \"s3://mousebrainatlas-data/CSHL_meshes/atlasV6/atlasV6_down32_scoreVolume/atlasV6_down32_scoreVolume_Pn_R.stl\"\n",
      "aws s3 cp \"/home/yuncong/CSHL_meshes/atlasV6/atlasV6_down32_scoreVolume/atlasV6_down32_scoreVolume_LRt_L.stl\" \"s3://mousebrainatlas-data/CSHL_meshes/atlasV6/atlasV6_down32_scoreVolume/atlasV6_down32_scoreVolume_LRt_L.stl\"\n",
      "aws s3 cp \"/home/yuncong/CSHL_meshes/atlasV6/atlasV6_down32_scoreVolume/atlasV6_down32_scoreVolume_Sp5O_R.stl\" \"s3://mousebrainatlas-data/CSHL_meshes/atlasV6/atlasV6_down32_scoreVolume/atlasV6_down32_scoreVolume_Sp5O_R.stl\"\n",
      "aws s3 cp \"/home/yuncong/CSHL_meshes/atlasV6/atlasV6_down32_scoreVolume/atlasV6_down32_scoreVolume_SNR_L.stl\" \"s3://mousebrainatlas-data/CSHL_meshes/atlasV6/atlasV6_down32_scoreVolume/atlasV6_down32_scoreVolume_SNR_L.stl\"\n",
      "aws s3 cp \"/home/yuncong/CSHL_meshes/atlasV6/atlasV6_down32_scoreVolume/atlasV6_down32_scoreVolume_12N.stl\" \"s3://mousebrainatlas-data/CSHL_meshes/atlasV6/atlasV6_down32_scoreVolume/atlasV6_down32_scoreVolume_12N.stl\"\n",
      "aws s3 cp \"/home/yuncong/CSHL_meshes/atlasV6/atlasV6_down32_scoreVolume/atlasV6_down32_scoreVolume_SNR_R.stl\" \"s3://mousebrainatlas-data/CSHL_meshes/atlasV6/atlasV6_down32_scoreVolume/atlasV6_down32_scoreVolume_SNR_R.stl\"\n",
      "aws s3 cp \"/home/yuncong/CSHL_meshes/atlasV6/atlasV6_down32_scoreVolume/atlasV6_down32_scoreVolume_Sp5O_L.stl\" \"s3://mousebrainatlas-data/CSHL_meshes/atlasV6/atlasV6_down32_scoreVolume/atlasV6_down32_scoreVolume_Sp5O_L.stl\"\n",
      "aws s3 cp \"/home/yuncong/CSHL_meshes/atlasV6/atlasV6_down32_scoreVolume/atlasV6_down32_scoreVolume_DC_R.stl\" \"s3://mousebrainatlas-data/CSHL_meshes/atlasV6/atlasV6_down32_scoreVolume/atlasV6_down32_scoreVolume_DC_R.stl\"\n",
      "aws s3 cp \"/home/yuncong/CSHL_meshes/atlasV6/atlasV6_down32_scoreVolume/atlasV6_down32_scoreVolume_VCA_L.stl\" \"s3://mousebrainatlas-data/CSHL_meshes/atlasV6/atlasV6_down32_scoreVolume/atlasV6_down32_scoreVolume_VCA_L.stl\"\n",
      "aws s3 cp \"/home/yuncong/CSHL_meshes/atlasV6/atlasV6_down32_scoreVolume/atlasV6_down32_scoreVolume_3N_L.stl\" \"s3://mousebrainatlas-data/CSHL_meshes/atlasV6/atlasV6_down32_scoreVolume/atlasV6_down32_scoreVolume_3N_L.stl\"\n",
      "aws s3 cp \"/home/yuncong/CSHL_meshes/atlasV6/atlasV6_down32_scoreVolume/atlasV6_down32_scoreVolume_6N_R.stl\" \"s3://mousebrainatlas-data/CSHL_meshes/atlasV6/atlasV6_down32_scoreVolume/atlasV6_down32_scoreVolume_6N_R.stl\"\n",
      "aws s3 cp \"/home/yuncong/CSHL_meshes/atlasV6/atlasV6_down32_scoreVolume/atlasV6_down32_scoreVolume_Sp5I_L.stl\" \"s3://mousebrainatlas-data/CSHL_meshes/atlasV6/atlasV6_down32_scoreVolume/atlasV6_down32_scoreVolume_Sp5I_L.stl\"\n",
      "aws s3 cp \"/home/yuncong/CSHL_meshes/atlasV6/atlasV6_down32_scoreVolume/atlasV6_down32_scoreVolume_RMC_R.stl\" \"s3://mousebrainatlas-data/CSHL_meshes/atlasV6/atlasV6_down32_scoreVolume/atlasV6_down32_scoreVolume_RMC_R.stl\"\n",
      "aws s3 cp \"/home/yuncong/CSHL_meshes/atlasV6/atlasV6_down32_scoreVolume/atlasV6_down32_scoreVolume_5N_L.stl\" \"s3://mousebrainatlas-data/CSHL_meshes/atlasV6/atlasV6_down32_scoreVolume/atlasV6_down32_scoreVolume_5N_L.stl\"\n",
      "aws s3 cp \"/home/yuncong/CSHL_meshes/atlasV6/atlasV6_down32_scoreVolume/atlasV6_down32_scoreVolume_SNC_L.stl\" \"s3://mousebrainatlas-data/CSHL_meshes/atlasV6/atlasV6_down32_scoreVolume/atlasV6_down32_scoreVolume_SNC_L.stl\"\n",
      "aws s3 cp \"/home/yuncong/CSHL_meshes/atlasV6/atlasV6_down32_scoreVolume/atlasV6_down32_scoreVolume_SNC_R.stl\" \"s3://mousebrainatlas-data/CSHL_meshes/atlasV6/atlasV6_down32_scoreVolume/atlasV6_down32_scoreVolume_SNC_R.stl\"\n",
      "aws s3 cp \"/home/yuncong/CSHL_meshes/atlasV6/atlasV6_down32_scoreVolume/atlasV6_down32_scoreVolume_AP.stl\" \"s3://mousebrainatlas-data/CSHL_meshes/atlasV6/atlasV6_down32_scoreVolume/atlasV6_down32_scoreVolume_AP.stl\"\n",
      "aws s3 cp \"/home/yuncong/CSHL_meshes/atlasV6/atlasV6_down32_scoreVolume/atlasV6_down32_scoreVolume_RMC_L.stl\" \"s3://mousebrainatlas-data/CSHL_meshes/atlasV6/atlasV6_down32_scoreVolume/atlasV6_down32_scoreVolume_RMC_L.stl\"\n",
      "aws s3 cp \"/home/yuncong/CSHL_meshes/atlasV6/atlasV6_down32_scoreVolume/atlasV6_down32_scoreVolume_Sp5I_R.stl\" \"s3://mousebrainatlas-data/CSHL_meshes/atlasV6/atlasV6_down32_scoreVolume/atlasV6_down32_scoreVolume_Sp5I_R.stl\"\n",
      "aws s3 cp \"/home/yuncong/CSHL_meshes/atlasV6/atlasV6_down32_scoreVolume/atlasV6_down32_scoreVolume_3N_R.stl\" \"s3://mousebrainatlas-data/CSHL_meshes/atlasV6/atlasV6_down32_scoreVolume/atlasV6_down32_scoreVolume_3N_R.stl\"\n",
      "aws s3 cp \"/home/yuncong/CSHL_meshes/atlasV6/atlasV6_down32_scoreVolume/atlasV6_down32_scoreVolume_6N_L.stl\" \"s3://mousebrainatlas-data/CSHL_meshes/atlasV6/atlasV6_down32_scoreVolume/atlasV6_down32_scoreVolume_6N_L.stl\"\n",
      "aws s3 cp \"/home/yuncong/CSHL_meshes/atlasV6/atlasV6_down32_scoreVolume/atlasV6_down32_scoreVolume_IC.stl\" \"s3://mousebrainatlas-data/CSHL_meshes/atlasV6/atlasV6_down32_scoreVolume/atlasV6_down32_scoreVolume_IC.stl\"\n",
      "aws s3 cp \"/home/yuncong/CSHL_meshes/atlasV6/atlasV6_down32_scoreVolume/atlasV6_down32_scoreVolume_VCA_R.stl\" \"s3://mousebrainatlas-data/CSHL_meshes/atlasV6/atlasV6_down32_scoreVolume/atlasV6_down32_scoreVolume_VCA_R.stl\"\n",
      "aws s3 cp \"/home/yuncong/CSHL_meshes/atlasV6/atlasV6_down32_scoreVolume/atlasV6_down32_scoreVolume_DC_L.stl\" \"s3://mousebrainatlas-data/CSHL_meshes/atlasV6/atlasV6_down32_scoreVolume/atlasV6_down32_scoreVolume_DC_L.stl\"\n",
      "aws s3 cp \"/home/yuncong/CSHL_meshes/atlasV6/atlasV6_down32_scoreVolume/atlasV6_down32_scoreVolume_Amb_R.stl\" \"s3://mousebrainatlas-data/CSHL_meshes/atlasV6/atlasV6_down32_scoreVolume/atlasV6_down32_scoreVolume_Amb_R.stl\"\n",
      "aws s3 cp \"/home/yuncong/CSHL_meshes/atlasV6/atlasV6_down32_scoreVolume/atlasV6_down32_scoreVolume_VCP_R.stl\" \"s3://mousebrainatlas-data/CSHL_meshes/atlasV6/atlasV6_down32_scoreVolume/atlasV6_down32_scoreVolume_VCP_R.stl\"\n"
     ]
    },
    {
     "name": "stdout",
     "output_type": "stream",
     "text": [
      "aws s3 cp \"/home/yuncong/CSHL_meshes/atlasV6/atlasV6_down32_scoreVolume/atlasV6_down32_scoreVolume_LC_R.stl\" \"s3://mousebrainatlas-data/CSHL_meshes/atlasV6/atlasV6_down32_scoreVolume/atlasV6_down32_scoreVolume_LC_R.stl\"\n",
      "aws s3 cp \"/home/yuncong/CSHL_meshes/atlasV6/atlasV6_down32_scoreVolume/atlasV6_down32_scoreVolume_10N_R.stl\" \"s3://mousebrainatlas-data/CSHL_meshes/atlasV6/atlasV6_down32_scoreVolume/atlasV6_down32_scoreVolume_10N_R.stl\"\n",
      "aws s3 cp \"/home/yuncong/CSHL_meshes/atlasV6/atlasV6_down32_scoreVolume/atlasV6_down32_scoreVolume_7n_R.stl\" \"s3://mousebrainatlas-data/CSHL_meshes/atlasV6/atlasV6_down32_scoreVolume/atlasV6_down32_scoreVolume_7n_R.stl\"\n",
      "aws s3 cp \"/home/yuncong/CSHL_meshes/atlasV6/atlasV6_down32_scoreVolume/atlasV6_down32_scoreVolume_5N_R.stl\" \"s3://mousebrainatlas-data/CSHL_meshes/atlasV6/atlasV6_down32_scoreVolume/atlasV6_down32_scoreVolume_5N_R.stl\"\n",
      "aws s3 cp \"/home/yuncong/CSHL_meshes/atlasV6/atlasV6_down32_scoreVolume/atlasV6_down32_scoreVolume_Tz_L.stl\" \"s3://mousebrainatlas-data/CSHL_meshes/atlasV6/atlasV6_down32_scoreVolume/atlasV6_down32_scoreVolume_Tz_L.stl\"\n",
      "aws s3 cp \"/home/yuncong/CSHL_meshes/atlasV6/atlasV6_down32_scoreVolume/atlasV6_down32_scoreVolume_Tz_R.stl\" \"s3://mousebrainatlas-data/CSHL_meshes/atlasV6/atlasV6_down32_scoreVolume/atlasV6_down32_scoreVolume_Tz_R.stl\"\n",
      "aws s3 cp \"/home/yuncong/CSHL_meshes/atlasV6/atlasV6_down32_scoreVolume/atlasV6_down32_scoreVolume_7n_L.stl\" \"s3://mousebrainatlas-data/CSHL_meshes/atlasV6/atlasV6_down32_scoreVolume/atlasV6_down32_scoreVolume_7n_L.stl\"\n",
      "aws s3 cp \"/home/yuncong/CSHL_meshes/atlasV6/atlasV6_down32_scoreVolume/atlasV6_down32_scoreVolume_4N_L.stl\" \"s3://mousebrainatlas-data/CSHL_meshes/atlasV6/atlasV6_down32_scoreVolume/atlasV6_down32_scoreVolume_4N_L.stl\"\n",
      "aws s3 cp \"/home/yuncong/CSHL_meshes/atlasV6/atlasV6_down32_scoreVolume/atlasV6_down32_scoreVolume_LC_L.stl\" \"s3://mousebrainatlas-data/CSHL_meshes/atlasV6/atlasV6_down32_scoreVolume/atlasV6_down32_scoreVolume_LC_L.stl\"\n",
      "aws s3 cp \"/home/yuncong/CSHL_meshes/atlasV6/atlasV6_down32_scoreVolume/atlasV6_down32_scoreVolume_10N_L.stl\" \"s3://mousebrainatlas-data/CSHL_meshes/atlasV6/atlasV6_down32_scoreVolume/atlasV6_down32_scoreVolume_10N_L.stl\"\n",
      "aws s3 cp \"/home/yuncong/CSHL_meshes/atlasV6/atlasV6_down32_scoreVolume/atlasV6_down32_scoreVolume_SC.stl\" \"s3://mousebrainatlas-data/CSHL_meshes/atlasV6/atlasV6_down32_scoreVolume/atlasV6_down32_scoreVolume_SC.stl\"\n",
      "aws s3 cp \"/home/yuncong/CSHL_meshes/atlasV6/atlasV6_down32_scoreVolume/atlasV6_down32_scoreVolume_VCP_L.stl\" \"s3://mousebrainatlas-data/CSHL_meshes/atlasV6/atlasV6_down32_scoreVolume/atlasV6_down32_scoreVolume_VCP_L.stl\"\n",
      "aws s3 cp \"/home/yuncong/CSHL_meshes/atlasV6/atlasV6_down32_scoreVolume/atlasV6_down32_scoreVolume_Amb_L.stl\" \"s3://mousebrainatlas-data/CSHL_meshes/atlasV6/atlasV6_down32_scoreVolume/atlasV6_down32_scoreVolume_Amb_L.stl\"\n"
     ]
    }
   ],
   "source": [
    "# Save structure meshes with respect to canonical centroid.\n",
    "\n",
    "for name_s, mesh_rel2canon in structure_meshes_rel2canon.iteritems():\n",
    "    fp = DataManager.get_mesh_filepath(stack_m=atlas_name, structure=name_s)\n",
    "    create_parent_dir_if_not_exists(fp)\n",
    "    save_mesh_stl(mesh_rel2canon, fp)\n",
    "    upload_to_s3(fp)"
   ]
  },
  {
   "cell_type": "markdown",
   "metadata": {},
   "source": [
    "# Define surrounds"
   ]
  },
  {
   "cell_type": "code",
   "execution_count": 57,
   "metadata": {},
   "outputs": [
    {
     "name": "stdout",
     "output_type": "stream",
     "text": [
      "surround size (in voxels): 13.5869565217\n"
     ]
    }
   ],
   "source": [
    "# Generate and save surround score volumes. (in fact binary, but dtype is np.float16, same as interior score volumes.)\n",
    "\n",
    "valid_level = .5\n",
    "\n",
    "surround_distance_um = 200\n",
    "surround_distance_voxel = surround_distance_um / XY_PIXEL_DISTANCE_TB\n",
    "print \"surround size (in voxels):\", surround_distance_voxel"
   ]
  },
  {
   "cell_type": "code",
   "execution_count": 58,
   "metadata": {
    "collapsed": true
   },
   "outputs": [],
   "source": [
    "structure_surround_vol_origin_dicts_rel2canon = {}"
   ]
  },
  {
   "cell_type": "code",
   "execution_count": 59,
   "metadata": {
    "collapsed": true
   },
   "outputs": [],
   "source": [
    "for name_s, (vol, origin_rel2canon) in structure_vol_origin_dicts_rel2canon.iteritems():\n",
    "    surr_vol, surr_vol_bbox_rel2canon = get_surround_volume_v2(vol, \n",
    "                                                          (origin_rel2canon[0], origin_rel2canon[0]+vol.shape[1]-1, \n",
    "                                      origin_rel2canon[1], origin_rel2canon[1]+vol.shape[0]-1, \n",
    "                                      origin_rel2canon[2], origin_rel2canon[2]+vol.shape[2]-1),\n",
    "                        valid_level=valid_level, \n",
    "                        distance=surround_distance_voxel, prob=True)\n",
    "    \n",
    "    surr_name = convert_to_surround_name(name_s, margin=surround_distance_um)\n",
    "    structure_surround_vol_origin_dicts_rel2canon[surr_name] = (surr_vol, np.array(surr_vol_bbox_rel2canon)[[0,2,4]])"
   ]
  },
  {
   "cell_type": "markdown",
   "metadata": {},
   "source": [
    "# Shell"
   ]
  },
  {
   "cell_type": "markdown",
   "metadata": {},
   "source": [
    "Just use MD589's shell, until we find a way to average the outlines."
   ]
  },
  {
   "cell_type": "code",
   "execution_count": null,
   "metadata": {
    "collapsed": true
   },
   "outputs": [],
   "source": [
    "from conversion import *\n",
    "\n",
    "margin_um = 200\n",
    "margin_tb = margin_um / XY_PIXEL_DISTANCE_TB\n",
    "\n",
    "from scipy.ndimage.morphology import distance_transform_edt\n",
    "\n",
    "# for stack in ['MD594', 'MD585', 'MD593', 'MD592', 'MD590', 'MD591', 'MD595', 'MD598', 'MD602']:\n",
    "for stack in ['MD589']:\n",
    "    \n",
    "#     contours_valid_by_z = {}\n",
    "    contour_prob_maps_by_sec = {}\n",
    "    \n",
    "    for sec in metadata_cache['valid_sections'][stack]:\n",
    "                \n",
    "        m = DataManager.load_thumbnail_mask_v3(stack, prep_id=2, section=sec)\n",
    "        contours = find_contour_points(m, sample_every=1)[1]\n",
    "        contours_valid = [cnt[(cnt[:,0] >= 1) & (cnt[:,1] >= 1)] for cnt in contours]\n",
    "        \n",
    "#         z = np.mean(DataManager.convert_section_to_z(stack, sec, downsample=32, z_begin=0))\n",
    "#         contours_valid_by_z[z] = contours_valid[0]\n",
    "        \n",
    "        m2 = np.zeros_like(m, np.bool)\n",
    "        for cnt in contours_valid:\n",
    "            m2[cnt[:,1], cnt[:,0]] = 1\n",
    "        distance_to_contour = distance_transform_edt(~m2)\n",
    "        contour_prob_map = np.exp(-distance_to_contour**2/(2*margin_tb)**2)\n",
    "        contour_prob_map[contour_prob_map < 1e-2] = 0\n",
    "        contour_prob_maps_by_sec[sec] = contour_prob_map\n",
    "        \n",
    "outline_prob_volume, outline_prob_volume_bbox = images_to_volume(images=contour_prob_maps_by_sec, \n",
    "                                                                 voxel_size=(XY_PIXEL_DISTANCE_TB, XY_PIXEL_DISTANCE_TB, SECTION_THICKNESS/XY_PIXEL_DISTANCE_TB))\n",
    "\n",
    "# outline_prob_volume_bbox (xm,xm,ym,ym) relative to cropped, (zm,zm) relative to uncropped.\n",
    "\n",
    "crop_box = metadata_cache['cropbox']['MD589']\n",
    "outline_prob_volume_bbox_rel2uncropped = np.array(outline_prob_volume_bbox) + (crop_box[0], crop_box[0], crop_box[2], crop_box[2], 0, 0)\n",
    "\n",
    "display_volume_sections(outline_prob_volume, direction='z', ncols=5, cmap=plt.cm.gray, start_level=0)"
   ]
  },
  {
   "cell_type": "code",
   "execution_count": 23,
   "metadata": {
    "collapsed": true
   },
   "outputs": [],
   "source": [
    "outline_prob_volume_origin_rel2canon = outline_prob_volume_bbox_rel2uncropped[[0,2,4]] - canonical_centroid_rel2uncropped"
   ]
  },
  {
   "cell_type": "code",
   "execution_count": 24,
   "metadata": {
    "collapsed": true
   },
   "outputs": [],
   "source": [
    "shell_vol_origin_dict_rel2canon = {'shell': (outline_prob_volume, outline_prob_volume_origin_rel2canon)}"
   ]
  },
  {
   "cell_type": "markdown",
   "metadata": {},
   "source": [
    "# Generate atlas structure volumes in full-brain domain"
   ]
  },
  {
   "cell_type": "code",
   "execution_count": 61,
   "metadata": {
    "collapsed": true
   },
   "outputs": [],
   "source": [
    "# structure_pos_surr_shell_vol_origin_dicts_rel2canon = {}\n",
    "# for d in [structure_vol_origin_dicts_rel2canon, structure_surround_vol_origin_dicts_rel2canon, shell_vol_origin_dict_rel2canon]:\n",
    "#     structure_pos_surr_shell_vol_origin_dicts_rel2canon.update(d)\n",
    "\n",
    "structure_pos_surr_shell_vol_origin_dicts_rel2canon = {}\n",
    "for d in [structure_vol_origin_dicts_rel2canon, structure_surround_vol_origin_dicts_rel2canon]:\n",
    "    structure_pos_surr_shell_vol_origin_dicts_rel2canon.update(d)"
   ]
  },
  {
   "cell_type": "code",
   "execution_count": 75,
   "metadata": {
    "scrolled": true
   },
   "outputs": [
    {
     "name": "stderr",
     "output_type": "stream",
     "text": [
      "[autoreload of utilities2015 failed: Traceback (most recent call last):\n",
      "  File \"/usr/local/lib/python2.7/dist-packages/IPython/extensions/autoreload.py\", line 247, in check\n",
      "    superreload(m, reload, self.old_objects)\n",
      "AttributeError: __abstractmethods__\n",
      "]\n"
     ]
    }
   ],
   "source": [
    "atlas_volumes, atlas_volume_bbox_rel2canon = \\\n",
    "convert_vol_bbox_dict_to_overall_vol(vol_origin_dict=structure_pos_surr_shell_vol_origin_dicts_rel2canon)"
   ]
  },
  {
   "cell_type": "code",
   "execution_count": 78,
   "metadata": {
    "collapsed": true
   },
   "outputs": [],
   "source": [
    "atlas_volumes = {k: v.astype(np.float16) for k, v in atlas_volumes.iteritems()}"
   ]
  },
  {
   "cell_type": "code",
   "execution_count": 82,
   "metadata": {},
   "outputs": [
    {
     "name": "stdout",
     "output_type": "stream",
     "text": [
      "atlas_volume_bbox_rel2uncropped: [ 587 1052  133  526  109  521]\n"
     ]
    }
   ],
   "source": [
    "atlas_volume_bbox_rel2uncropped = atlas_volume_bbox_rel2canon + canonical_centroid_rel2uncropped[[0,0,1,1,2,2]]\n",
    "atlas_volume_bbox_rel2uncropped = np.round(atlas_volume_bbox_rel2uncropped).astype(np.int)\n",
    "print 'atlas_volume_bbox_rel2uncropped:', atlas_volume_bbox_rel2uncropped"
   ]
  },
  {
   "cell_type": "code",
   "execution_count": 85,
   "metadata": {
    "scrolled": true
   },
   "outputs": [
    {
     "name": "stdout",
     "output_type": "stream",
     "text": [
      "aws s3 cp \"/media/yuncong/YuncongPublic/CSHL_volumes/atlasV5/atlasV5_down32_scoreVolume/score_volumes/atlasV5_down32_scoreVolume_LRt_R.bp\" \"s3://mousebrainatlas-data/CSHL_volumes/atlasV5/atlasV5_down32_scoreVolume/score_volumes/atlasV5_down32_scoreVolume_LRt_R.bp\"\n",
      "aws s3 cp \"/media/yuncong/YuncongPublic/CSHL_volumes/atlasV5/atlasV5_down32_scoreVolume/score_volumes/atlasV5_down32_scoreVolume_LRt_R_bbox.txt\" \"s3://mousebrainatlas-data/CSHL_volumes/atlasV5/atlasV5_down32_scoreVolume/score_volumes/atlasV5_down32_scoreVolume_LRt_R_bbox.txt\"\n",
      "aws s3 cp \"/media/yuncong/YuncongPublic/CSHL_volumes/atlasV5/atlasV5_down32_scoreVolume/score_volumes/atlasV5_down32_scoreVolume_Tz_L_surround_200.bp\" \"s3://mousebrainatlas-data/CSHL_volumes/atlasV5/atlasV5_down32_scoreVolume/score_volumes/atlasV5_down32_scoreVolume_Tz_L_surround_200.bp\"\n",
      "aws s3 cp \"/media/yuncong/YuncongPublic/CSHL_volumes/atlasV5/atlasV5_down32_scoreVolume/score_volumes/atlasV5_down32_scoreVolume_Tz_L_surround_200_bbox.txt\" \"s3://mousebrainatlas-data/CSHL_volumes/atlasV5/atlasV5_down32_scoreVolume/score_volumes/atlasV5_down32_scoreVolume_Tz_L_surround_200_bbox.txt\"\n",
      "aws s3 cp \"/media/yuncong/YuncongPublic/CSHL_volumes/atlasV5/atlasV5_down32_scoreVolume/score_volumes/atlasV5_down32_scoreVolume_Pn_L.bp\" \"s3://mousebrainatlas-data/CSHL_volumes/atlasV5/atlasV5_down32_scoreVolume/score_volumes/atlasV5_down32_scoreVolume_Pn_L.bp\"\n",
      "aws s3 cp \"/media/yuncong/YuncongPublic/CSHL_volumes/atlasV5/atlasV5_down32_scoreVolume/score_volumes/atlasV5_down32_scoreVolume_Pn_L_bbox.txt\" \"s3://mousebrainatlas-data/CSHL_volumes/atlasV5/atlasV5_down32_scoreVolume/score_volumes/atlasV5_down32_scoreVolume_Pn_L_bbox.txt\"\n",
      "aws s3 cp \"/media/yuncong/YuncongPublic/CSHL_volumes/atlasV5/atlasV5_down32_scoreVolume/score_volumes/atlasV5_down32_scoreVolume_7N_R.bp\" \"s3://mousebrainatlas-data/CSHL_volumes/atlasV5/atlasV5_down32_scoreVolume/score_volumes/atlasV5_down32_scoreVolume_7N_R.bp\"\n",
      "aws s3 cp \"/media/yuncong/YuncongPublic/CSHL_volumes/atlasV5/atlasV5_down32_scoreVolume/score_volumes/atlasV5_down32_scoreVolume_7N_R_bbox.txt\" \"s3://mousebrainatlas-data/CSHL_volumes/atlasV5/atlasV5_down32_scoreVolume/score_volumes/atlasV5_down32_scoreVolume_7N_R_bbox.txt\"\n",
      "aws s3 cp \"/media/yuncong/YuncongPublic/CSHL_volumes/atlasV5/atlasV5_down32_scoreVolume/score_volumes/atlasV5_down32_scoreVolume_VLL_R_surround_200.bp\" \"s3://mousebrainatlas-data/CSHL_volumes/atlasV5/atlasV5_down32_scoreVolume/score_volumes/atlasV5_down32_scoreVolume_VLL_R_surround_200.bp\"\n",
      "aws s3 cp \"/media/yuncong/YuncongPublic/CSHL_volumes/atlasV5/atlasV5_down32_scoreVolume/score_volumes/atlasV5_down32_scoreVolume_VLL_R_surround_200_bbox.txt\" \"s3://mousebrainatlas-data/CSHL_volumes/atlasV5/atlasV5_down32_scoreVolume/score_volumes/atlasV5_down32_scoreVolume_VLL_R_surround_200_bbox.txt\"\n",
      "aws s3 cp \"/media/yuncong/YuncongPublic/CSHL_volumes/atlasV5/atlasV5_down32_scoreVolume/score_volumes/atlasV5_down32_scoreVolume_7N_L.bp\" \"s3://mousebrainatlas-data/CSHL_volumes/atlasV5/atlasV5_down32_scoreVolume/score_volumes/atlasV5_down32_scoreVolume_7N_L.bp\"\n",
      "aws s3 cp \"/media/yuncong/YuncongPublic/CSHL_volumes/atlasV5/atlasV5_down32_scoreVolume/score_volumes/atlasV5_down32_scoreVolume_7N_L_bbox.txt\" \"s3://mousebrainatlas-data/CSHL_volumes/atlasV5/atlasV5_down32_scoreVolume/score_volumes/atlasV5_down32_scoreVolume_7N_L_bbox.txt\"\n",
      "aws s3 cp \"/media/yuncong/YuncongPublic/CSHL_volumes/atlasV5/atlasV5_down32_scoreVolume/score_volumes/atlasV5_down32_scoreVolume_5N_R_surround_200.bp\" \"s3://mousebrainatlas-data/CSHL_volumes/atlasV5/atlasV5_down32_scoreVolume/score_volumes/atlasV5_down32_scoreVolume_5N_R_surround_200.bp\"\n",
      "aws s3 cp \"/media/yuncong/YuncongPublic/CSHL_volumes/atlasV5/atlasV5_down32_scoreVolume/score_volumes/atlasV5_down32_scoreVolume_5N_R_surround_200_bbox.txt\" \"s3://mousebrainatlas-data/CSHL_volumes/atlasV5/atlasV5_down32_scoreVolume/score_volumes/atlasV5_down32_scoreVolume_5N_R_surround_200_bbox.txt\"\n",
      "aws s3 cp \"/media/yuncong/YuncongPublic/CSHL_volumes/atlasV5/atlasV5_down32_scoreVolume/score_volumes/atlasV5_down32_scoreVolume_Pn_R.bp\" \"s3://mousebrainatlas-data/CSHL_volumes/atlasV5/atlasV5_down32_scoreVolume/score_volumes/atlasV5_down32_scoreVolume_Pn_R.bp\"\n",
      "aws s3 cp \"/media/yuncong/YuncongPublic/CSHL_volumes/atlasV5/atlasV5_down32_scoreVolume/score_volumes/atlasV5_down32_scoreVolume_Pn_R_bbox.txt\" \"s3://mousebrainatlas-data/CSHL_volumes/atlasV5/atlasV5_down32_scoreVolume/score_volumes/atlasV5_down32_scoreVolume_Pn_R_bbox.txt\"\n",
      "aws s3 cp \"/media/yuncong/YuncongPublic/CSHL_volumes/atlasV5/atlasV5_down32_scoreVolume/score_volumes/atlasV5_down32_scoreVolume_LRt_L.bp\" \"s3://mousebrainatlas-data/CSHL_volumes/atlasV5/atlasV5_down32_scoreVolume/score_volumes/atlasV5_down32_scoreVolume_LRt_L.bp\"\n",
      "aws s3 cp \"/media/yuncong/YuncongPublic/CSHL_volumes/atlasV5/atlasV5_down32_scoreVolume/score_volumes/atlasV5_down32_scoreVolume_LRt_L_bbox.txt\" \"s3://mousebrainatlas-data/CSHL_volumes/atlasV5/atlasV5_down32_scoreVolume/score_volumes/atlasV5_down32_scoreVolume_LRt_L_bbox.txt\"\n",
      "aws s3 cp \"/media/yuncong/YuncongPublic/CSHL_volumes/atlasV5/atlasV5_down32_scoreVolume/score_volumes/atlasV5_down32_scoreVolume_4N_L_surround_200.bp\" \"s3://mousebrainatlas-data/CSHL_volumes/atlasV5/atlasV5_down32_scoreVolume/score_volumes/atlasV5_down32_scoreVolume_4N_L_surround_200.bp\"\n",
      "aws s3 cp \"/media/yuncong/YuncongPublic/CSHL_volumes/atlasV5/atlasV5_down32_scoreVolume/score_volumes/atlasV5_down32_scoreVolume_4N_L_surround_200_bbox.txt\" \"s3://mousebrainatlas-data/CSHL_volumes/atlasV5/atlasV5_down32_scoreVolume/score_volumes/atlasV5_down32_scoreVolume_4N_L_surround_200_bbox.txt\"\n",
      "aws s3 cp \"/media/yuncong/YuncongPublic/CSHL_volumes/atlasV5/atlasV5_down32_scoreVolume/score_volumes/atlasV5_down32_scoreVolume_12N.bp\" \"s3://mousebrainatlas-data/CSHL_volumes/atlasV5/atlasV5_down32_scoreVolume/score_volumes/atlasV5_down32_scoreVolume_12N.bp\"\n",
      "aws s3 cp \"/media/yuncong/YuncongPublic/CSHL_volumes/atlasV5/atlasV5_down32_scoreVolume/score_volumes/atlasV5_down32_scoreVolume_12N_bbox.txt\" \"s3://mousebrainatlas-data/CSHL_volumes/atlasV5/atlasV5_down32_scoreVolume/score_volumes/atlasV5_down32_scoreVolume_12N_bbox.txt\"\n",
      "aws s3 cp \"/media/yuncong/YuncongPublic/CSHL_volumes/atlasV5/atlasV5_down32_scoreVolume/score_volumes/atlasV5_down32_scoreVolume_Pn_L_surround_200.bp\" \"s3://mousebrainatlas-data/CSHL_volumes/atlasV5/atlasV5_down32_scoreVolume/score_volumes/atlasV5_down32_scoreVolume_Pn_L_surround_200.bp\"\n",
      "aws s3 cp \"/media/yuncong/YuncongPublic/CSHL_volumes/atlasV5/atlasV5_down32_scoreVolume/score_volumes/atlasV5_down32_scoreVolume_Pn_L_surround_200_bbox.txt\" \"s3://mousebrainatlas-data/CSHL_volumes/atlasV5/atlasV5_down32_scoreVolume/score_volumes/atlasV5_down32_scoreVolume_Pn_L_surround_200_bbox.txt\"\n",
      "aws s3 cp \"/media/yuncong/YuncongPublic/CSHL_volumes/atlasV5/atlasV5_down32_scoreVolume/score_volumes/atlasV5_down32_scoreVolume_10N_R_surround_200.bp\" \"s3://mousebrainatlas-data/CSHL_volumes/atlasV5/atlasV5_down32_scoreVolume/score_volumes/atlasV5_down32_scoreVolume_10N_R_surround_200.bp\"\n",
      "aws s3 cp \"/media/yuncong/YuncongPublic/CSHL_volumes/atlasV5/atlasV5_down32_scoreVolume/score_volumes/atlasV5_down32_scoreVolume_10N_R_surround_200_bbox.txt\" \"s3://mousebrainatlas-data/CSHL_volumes/atlasV5/atlasV5_down32_scoreVolume/score_volumes/atlasV5_down32_scoreVolume_10N_R_surround_200_bbox.txt\"\n",
      "aws s3 cp \"/media/yuncong/YuncongPublic/CSHL_volumes/atlasV5/atlasV5_down32_scoreVolume/score_volumes/atlasV5_down32_scoreVolume_VCA_L_surround_200.bp\" \"s3://mousebrainatlas-data/CSHL_volumes/atlasV5/atlasV5_down32_scoreVolume/score_volumes/atlasV5_down32_scoreVolume_VCA_L_surround_200.bp\"\n",
      "aws s3 cp \"/media/yuncong/YuncongPublic/CSHL_volumes/atlasV5/atlasV5_down32_scoreVolume/score_volumes/atlasV5_down32_scoreVolume_VCA_L_surround_200_bbox.txt\" \"s3://mousebrainatlas-data/CSHL_volumes/atlasV5/atlasV5_down32_scoreVolume/score_volumes/atlasV5_down32_scoreVolume_VCA_L_surround_200_bbox.txt\"\n",
      "aws s3 cp \"/media/yuncong/YuncongPublic/CSHL_volumes/atlasV5/atlasV5_down32_scoreVolume/score_volumes/atlasV5_down32_scoreVolume_3N_L.bp\" \"s3://mousebrainatlas-data/CSHL_volumes/atlasV5/atlasV5_down32_scoreVolume/score_volumes/atlasV5_down32_scoreVolume_3N_L.bp\"\n",
      "aws s3 cp \"/media/yuncong/YuncongPublic/CSHL_volumes/atlasV5/atlasV5_down32_scoreVolume/score_volumes/atlasV5_down32_scoreVolume_3N_L_bbox.txt\" \"s3://mousebrainatlas-data/CSHL_volumes/atlasV5/atlasV5_down32_scoreVolume/score_volumes/atlasV5_down32_scoreVolume_3N_L_bbox.txt\"\n"
     ]
    },
    {
     "name": "stdout",
     "output_type": "stream",
     "text": [
      "aws s3 cp \"/media/yuncong/YuncongPublic/CSHL_volumes/atlasV5/atlasV5_down32_scoreVolume/score_volumes/atlasV5_down32_scoreVolume_6N_R.bp\" \"s3://mousebrainatlas-data/CSHL_volumes/atlasV5/atlasV5_down32_scoreVolume/score_volumes/atlasV5_down32_scoreVolume_6N_R.bp\"\n",
      "aws s3 cp \"/media/yuncong/YuncongPublic/CSHL_volumes/atlasV5/atlasV5_down32_scoreVolume/score_volumes/atlasV5_down32_scoreVolume_6N_R_bbox.txt\" \"s3://mousebrainatlas-data/CSHL_volumes/atlasV5/atlasV5_down32_scoreVolume/score_volumes/atlasV5_down32_scoreVolume_6N_R_bbox.txt\"\n",
      "aws s3 cp \"/media/yuncong/YuncongPublic/CSHL_volumes/atlasV5/atlasV5_down32_scoreVolume/score_volumes/atlasV5_down32_scoreVolume_SNC_L.bp\" \"s3://mousebrainatlas-data/CSHL_volumes/atlasV5/atlasV5_down32_scoreVolume/score_volumes/atlasV5_down32_scoreVolume_SNC_L.bp\"\n",
      "aws s3 cp \"/media/yuncong/YuncongPublic/CSHL_volumes/atlasV5/atlasV5_down32_scoreVolume/score_volumes/atlasV5_down32_scoreVolume_SNC_L_bbox.txt\" \"s3://mousebrainatlas-data/CSHL_volumes/atlasV5/atlasV5_down32_scoreVolume/score_volumes/atlasV5_down32_scoreVolume_SNC_L_bbox.txt\"\n",
      "aws s3 cp \"/media/yuncong/YuncongPublic/CSHL_volumes/atlasV5/atlasV5_down32_scoreVolume/score_volumes/atlasV5_down32_scoreVolume_SNC_R.bp\" \"s3://mousebrainatlas-data/CSHL_volumes/atlasV5/atlasV5_down32_scoreVolume/score_volumes/atlasV5_down32_scoreVolume_SNC_R.bp\"\n",
      "aws s3 cp \"/media/yuncong/YuncongPublic/CSHL_volumes/atlasV5/atlasV5_down32_scoreVolume/score_volumes/atlasV5_down32_scoreVolume_SNC_R_bbox.txt\" \"s3://mousebrainatlas-data/CSHL_volumes/atlasV5/atlasV5_down32_scoreVolume/score_volumes/atlasV5_down32_scoreVolume_SNC_R_bbox.txt\"\n",
      "aws s3 cp \"/media/yuncong/YuncongPublic/CSHL_volumes/atlasV5/atlasV5_down32_scoreVolume/score_volumes/atlasV5_down32_scoreVolume_Sp5C_R_surround_200.bp\" \"s3://mousebrainatlas-data/CSHL_volumes/atlasV5/atlasV5_down32_scoreVolume/score_volumes/atlasV5_down32_scoreVolume_Sp5C_R_surround_200.bp\"\n",
      "aws s3 cp \"/media/yuncong/YuncongPublic/CSHL_volumes/atlasV5/atlasV5_down32_scoreVolume/score_volumes/atlasV5_down32_scoreVolume_Sp5C_R_surround_200_bbox.txt\" \"s3://mousebrainatlas-data/CSHL_volumes/atlasV5/atlasV5_down32_scoreVolume/score_volumes/atlasV5_down32_scoreVolume_Sp5C_R_surround_200_bbox.txt\"\n",
      "aws s3 cp \"/media/yuncong/YuncongPublic/CSHL_volumes/atlasV5/atlasV5_down32_scoreVolume/score_volumes/atlasV5_down32_scoreVolume_3N_R.bp\" \"s3://mousebrainatlas-data/CSHL_volumes/atlasV5/atlasV5_down32_scoreVolume/score_volumes/atlasV5_down32_scoreVolume_3N_R.bp\"\n",
      "aws s3 cp \"/media/yuncong/YuncongPublic/CSHL_volumes/atlasV5/atlasV5_down32_scoreVolume/score_volumes/atlasV5_down32_scoreVolume_3N_R_bbox.txt\" \"s3://mousebrainatlas-data/CSHL_volumes/atlasV5/atlasV5_down32_scoreVolume/score_volumes/atlasV5_down32_scoreVolume_3N_R_bbox.txt\"\n",
      "aws s3 cp \"/media/yuncong/YuncongPublic/CSHL_volumes/atlasV5/atlasV5_down32_scoreVolume/score_volumes/atlasV5_down32_scoreVolume_6N_L.bp\" \"s3://mousebrainatlas-data/CSHL_volumes/atlasV5/atlasV5_down32_scoreVolume/score_volumes/atlasV5_down32_scoreVolume_6N_L.bp\"\n",
      "aws s3 cp \"/media/yuncong/YuncongPublic/CSHL_volumes/atlasV5/atlasV5_down32_scoreVolume/score_volumes/atlasV5_down32_scoreVolume_6N_L_bbox.txt\" \"s3://mousebrainatlas-data/CSHL_volumes/atlasV5/atlasV5_down32_scoreVolume/score_volumes/atlasV5_down32_scoreVolume_6N_L_bbox.txt\"\n",
      "aws s3 cp \"/media/yuncong/YuncongPublic/CSHL_volumes/atlasV5/atlasV5_down32_scoreVolume/score_volumes/atlasV5_down32_scoreVolume_7n_R_surround_200.bp\" \"s3://mousebrainatlas-data/CSHL_volumes/atlasV5/atlasV5_down32_scoreVolume/score_volumes/atlasV5_down32_scoreVolume_7n_R_surround_200.bp\"\n",
      "aws s3 cp \"/media/yuncong/YuncongPublic/CSHL_volumes/atlasV5/atlasV5_down32_scoreVolume/score_volumes/atlasV5_down32_scoreVolume_7n_R_surround_200_bbox.txt\" \"s3://mousebrainatlas-data/CSHL_volumes/atlasV5/atlasV5_down32_scoreVolume/score_volumes/atlasV5_down32_scoreVolume_7n_R_surround_200_bbox.txt\"\n",
      "aws s3 cp \"/media/yuncong/YuncongPublic/CSHL_volumes/atlasV5/atlasV5_down32_scoreVolume/score_volumes/atlasV5_down32_scoreVolume_IC_surround_200.bp\" \"s3://mousebrainatlas-data/CSHL_volumes/atlasV5/atlasV5_down32_scoreVolume/score_volumes/atlasV5_down32_scoreVolume_IC_surround_200.bp\"\n",
      "aws s3 cp \"/media/yuncong/YuncongPublic/CSHL_volumes/atlasV5/atlasV5_down32_scoreVolume/score_volumes/atlasV5_down32_scoreVolume_IC_surround_200_bbox.txt\" \"s3://mousebrainatlas-data/CSHL_volumes/atlasV5/atlasV5_down32_scoreVolume/score_volumes/atlasV5_down32_scoreVolume_IC_surround_200_bbox.txt\"\n",
      "aws s3 cp \"/media/yuncong/YuncongPublic/CSHL_volumes/atlasV5/atlasV5_down32_scoreVolume/score_volumes/atlasV5_down32_scoreVolume_10N_L_surround_200.bp\" \"s3://mousebrainatlas-data/CSHL_volumes/atlasV5/atlasV5_down32_scoreVolume/score_volumes/atlasV5_down32_scoreVolume_10N_L_surround_200.bp\"\n",
      "aws s3 cp \"/media/yuncong/YuncongPublic/CSHL_volumes/atlasV5/atlasV5_down32_scoreVolume/score_volumes/atlasV5_down32_scoreVolume_10N_L_surround_200_bbox.txt\" \"s3://mousebrainatlas-data/CSHL_volumes/atlasV5/atlasV5_down32_scoreVolume/score_volumes/atlasV5_down32_scoreVolume_10N_L_surround_200_bbox.txt\"\n",
      "aws s3 cp \"/media/yuncong/YuncongPublic/CSHL_volumes/atlasV5/atlasV5_down32_scoreVolume/score_volumes/atlasV5_down32_scoreVolume_10N_R.bp\" \"s3://mousebrainatlas-data/CSHL_volumes/atlasV5/atlasV5_down32_scoreVolume/score_volumes/atlasV5_down32_scoreVolume_10N_R.bp\"\n",
      "aws s3 cp \"/media/yuncong/YuncongPublic/CSHL_volumes/atlasV5/atlasV5_down32_scoreVolume/score_volumes/atlasV5_down32_scoreVolume_10N_R_bbox.txt\" \"s3://mousebrainatlas-data/CSHL_volumes/atlasV5/atlasV5_down32_scoreVolume/score_volumes/atlasV5_down32_scoreVolume_10N_R_bbox.txt\"\n",
      "aws s3 cp \"/media/yuncong/YuncongPublic/CSHL_volumes/atlasV5/atlasV5_down32_scoreVolume/score_volumes/atlasV5_down32_scoreVolume_Tz_L.bp\" \"s3://mousebrainatlas-data/CSHL_volumes/atlasV5/atlasV5_down32_scoreVolume/score_volumes/atlasV5_down32_scoreVolume_Tz_L.bp\"\n",
      "aws s3 cp \"/media/yuncong/YuncongPublic/CSHL_volumes/atlasV5/atlasV5_down32_scoreVolume/score_volumes/atlasV5_down32_scoreVolume_Tz_L_bbox.txt\" \"s3://mousebrainatlas-data/CSHL_volumes/atlasV5/atlasV5_down32_scoreVolume/score_volumes/atlasV5_down32_scoreVolume_Tz_L_bbox.txt\"\n",
      "aws s3 cp \"/media/yuncong/YuncongPublic/CSHL_volumes/atlasV5/atlasV5_down32_scoreVolume/score_volumes/atlasV5_down32_scoreVolume_Tz_R.bp\" \"s3://mousebrainatlas-data/CSHL_volumes/atlasV5/atlasV5_down32_scoreVolume/score_volumes/atlasV5_down32_scoreVolume_Tz_R.bp\"\n",
      "aws s3 cp \"/media/yuncong/YuncongPublic/CSHL_volumes/atlasV5/atlasV5_down32_scoreVolume/score_volumes/atlasV5_down32_scoreVolume_Tz_R_bbox.txt\" \"s3://mousebrainatlas-data/CSHL_volumes/atlasV5/atlasV5_down32_scoreVolume/score_volumes/atlasV5_down32_scoreVolume_Tz_R_bbox.txt\"\n",
      "aws s3 cp \"/media/yuncong/YuncongPublic/CSHL_volumes/atlasV5/atlasV5_down32_scoreVolume/score_volumes/atlasV5_down32_scoreVolume_10N_L.bp\" \"s3://mousebrainatlas-data/CSHL_volumes/atlasV5/atlasV5_down32_scoreVolume/score_volumes/atlasV5_down32_scoreVolume_10N_L.bp\"\n",
      "aws s3 cp \"/media/yuncong/YuncongPublic/CSHL_volumes/atlasV5/atlasV5_down32_scoreVolume/score_volumes/atlasV5_down32_scoreVolume_10N_L_bbox.txt\" \"s3://mousebrainatlas-data/CSHL_volumes/atlasV5/atlasV5_down32_scoreVolume/score_volumes/atlasV5_down32_scoreVolume_10N_L_bbox.txt\"\n",
      "aws s3 cp \"/media/yuncong/YuncongPublic/CSHL_volumes/atlasV5/atlasV5_down32_scoreVolume/score_volumes/atlasV5_down32_scoreVolume_Pn_R_surround_200.bp\" \"s3://mousebrainatlas-data/CSHL_volumes/atlasV5/atlasV5_down32_scoreVolume/score_volumes/atlasV5_down32_scoreVolume_Pn_R_surround_200.bp\"\n",
      "aws s3 cp \"/media/yuncong/YuncongPublic/CSHL_volumes/atlasV5/atlasV5_down32_scoreVolume/score_volumes/atlasV5_down32_scoreVolume_Pn_R_surround_200_bbox.txt\" \"s3://mousebrainatlas-data/CSHL_volumes/atlasV5/atlasV5_down32_scoreVolume/score_volumes/atlasV5_down32_scoreVolume_Pn_R_surround_200_bbox.txt\"\n",
      "aws s3 cp \"/media/yuncong/YuncongPublic/CSHL_volumes/atlasV5/atlasV5_down32_scoreVolume/score_volumes/atlasV5_down32_scoreVolume_Sp5C_L.bp\" \"s3://mousebrainatlas-data/CSHL_volumes/atlasV5/atlasV5_down32_scoreVolume/score_volumes/atlasV5_down32_scoreVolume_Sp5C_L.bp\"\n",
      "aws s3 cp \"/media/yuncong/YuncongPublic/CSHL_volumes/atlasV5/atlasV5_down32_scoreVolume/score_volumes/atlasV5_down32_scoreVolume_Sp5C_L_bbox.txt\" \"s3://mousebrainatlas-data/CSHL_volumes/atlasV5/atlasV5_down32_scoreVolume/score_volumes/atlasV5_down32_scoreVolume_Sp5C_L_bbox.txt\"\n"
     ]
    },
    {
     "name": "stdout",
     "output_type": "stream",
     "text": [
      "aws s3 cp \"/media/yuncong/YuncongPublic/CSHL_volumes/atlasV5/atlasV5_down32_scoreVolume/score_volumes/atlasV5_down32_scoreVolume_DC_R_surround_200.bp\" \"s3://mousebrainatlas-data/CSHL_volumes/atlasV5/atlasV5_down32_scoreVolume/score_volumes/atlasV5_down32_scoreVolume_DC_R_surround_200.bp\"\n",
      "aws s3 cp \"/media/yuncong/YuncongPublic/CSHL_volumes/atlasV5/atlasV5_down32_scoreVolume/score_volumes/atlasV5_down32_scoreVolume_DC_R_surround_200_bbox.txt\" \"s3://mousebrainatlas-data/CSHL_volumes/atlasV5/atlasV5_down32_scoreVolume/score_volumes/atlasV5_down32_scoreVolume_DC_R_surround_200_bbox.txt\"\n",
      "aws s3 cp \"/media/yuncong/YuncongPublic/CSHL_volumes/atlasV5/atlasV5_down32_scoreVolume/score_volumes/atlasV5_down32_scoreVolume_VLL_L.bp\" \"s3://mousebrainatlas-data/CSHL_volumes/atlasV5/atlasV5_down32_scoreVolume/score_volumes/atlasV5_down32_scoreVolume_VLL_L.bp\"\n",
      "aws s3 cp \"/media/yuncong/YuncongPublic/CSHL_volumes/atlasV5/atlasV5_down32_scoreVolume/score_volumes/atlasV5_down32_scoreVolume_VLL_L_bbox.txt\" \"s3://mousebrainatlas-data/CSHL_volumes/atlasV5/atlasV5_down32_scoreVolume/score_volumes/atlasV5_down32_scoreVolume_VLL_L_bbox.txt\"\n",
      "aws s3 cp \"/media/yuncong/YuncongPublic/CSHL_volumes/atlasV5/atlasV5_down32_scoreVolume/score_volumes/atlasV5_down32_scoreVolume_VLL_R.bp\" \"s3://mousebrainatlas-data/CSHL_volumes/atlasV5/atlasV5_down32_scoreVolume/score_volumes/atlasV5_down32_scoreVolume_VLL_R.bp\"\n",
      "aws s3 cp \"/media/yuncong/YuncongPublic/CSHL_volumes/atlasV5/atlasV5_down32_scoreVolume/score_volumes/atlasV5_down32_scoreVolume_VLL_R_bbox.txt\" \"s3://mousebrainatlas-data/CSHL_volumes/atlasV5/atlasV5_down32_scoreVolume/score_volumes/atlasV5_down32_scoreVolume_VLL_R_bbox.txt\"\n",
      "aws s3 cp \"/media/yuncong/YuncongPublic/CSHL_volumes/atlasV5/atlasV5_down32_scoreVolume/score_volumes/atlasV5_down32_scoreVolume_RMC_L_surround_200.bp\" \"s3://mousebrainatlas-data/CSHL_volumes/atlasV5/atlasV5_down32_scoreVolume/score_volumes/atlasV5_down32_scoreVolume_RMC_L_surround_200.bp\"\n",
      "aws s3 cp \"/media/yuncong/YuncongPublic/CSHL_volumes/atlasV5/atlasV5_down32_scoreVolume/score_volumes/atlasV5_down32_scoreVolume_RMC_L_surround_200_bbox.txt\" \"s3://mousebrainatlas-data/CSHL_volumes/atlasV5/atlasV5_down32_scoreVolume/score_volumes/atlasV5_down32_scoreVolume_RMC_L_surround_200_bbox.txt\"\n",
      "aws s3 cp \"/media/yuncong/YuncongPublic/CSHL_volumes/atlasV5/atlasV5_down32_scoreVolume/score_volumes/atlasV5_down32_scoreVolume_Amb_L_surround_200.bp\" \"s3://mousebrainatlas-data/CSHL_volumes/atlasV5/atlasV5_down32_scoreVolume/score_volumes/atlasV5_down32_scoreVolume_Amb_L_surround_200.bp\"\n",
      "aws s3 cp \"/media/yuncong/YuncongPublic/CSHL_volumes/atlasV5/atlasV5_down32_scoreVolume/score_volumes/atlasV5_down32_scoreVolume_Amb_L_surround_200_bbox.txt\" \"s3://mousebrainatlas-data/CSHL_volumes/atlasV5/atlasV5_down32_scoreVolume/score_volumes/atlasV5_down32_scoreVolume_Amb_L_surround_200_bbox.txt\"\n",
      "aws s3 cp \"/media/yuncong/YuncongPublic/CSHL_volumes/atlasV5/atlasV5_down32_scoreVolume/score_volumes/atlasV5_down32_scoreVolume_RtTg.bp\" \"s3://mousebrainatlas-data/CSHL_volumes/atlasV5/atlasV5_down32_scoreVolume/score_volumes/atlasV5_down32_scoreVolume_RtTg.bp\"\n",
      "aws s3 cp \"/media/yuncong/YuncongPublic/CSHL_volumes/atlasV5/atlasV5_down32_scoreVolume/score_volumes/atlasV5_down32_scoreVolume_RtTg_bbox.txt\" \"s3://mousebrainatlas-data/CSHL_volumes/atlasV5/atlasV5_down32_scoreVolume/score_volumes/atlasV5_down32_scoreVolume_RtTg_bbox.txt\"\n",
      "aws s3 cp \"/media/yuncong/YuncongPublic/CSHL_volumes/atlasV5/atlasV5_down32_scoreVolume/score_volumes/atlasV5_down32_scoreVolume_Sp5C_R.bp\" \"s3://mousebrainatlas-data/CSHL_volumes/atlasV5/atlasV5_down32_scoreVolume/score_volumes/atlasV5_down32_scoreVolume_Sp5C_R.bp\"\n",
      "aws s3 cp \"/media/yuncong/YuncongPublic/CSHL_volumes/atlasV5/atlasV5_down32_scoreVolume/score_volumes/atlasV5_down32_scoreVolume_Sp5C_R_bbox.txt\" \"s3://mousebrainatlas-data/CSHL_volumes/atlasV5/atlasV5_down32_scoreVolume/score_volumes/atlasV5_down32_scoreVolume_Sp5C_R_bbox.txt\"\n",
      "aws s3 cp \"/media/yuncong/YuncongPublic/CSHL_volumes/atlasV5/atlasV5_down32_scoreVolume/score_volumes/atlasV5_down32_scoreVolume_DC_L_surround_200.bp\" \"s3://mousebrainatlas-data/CSHL_volumes/atlasV5/atlasV5_down32_scoreVolume/score_volumes/atlasV5_down32_scoreVolume_DC_L_surround_200.bp\"\n",
      "aws s3 cp \"/media/yuncong/YuncongPublic/CSHL_volumes/atlasV5/atlasV5_down32_scoreVolume/score_volumes/atlasV5_down32_scoreVolume_DC_L_surround_200_bbox.txt\" \"s3://mousebrainatlas-data/CSHL_volumes/atlasV5/atlasV5_down32_scoreVolume/score_volumes/atlasV5_down32_scoreVolume_DC_L_surround_200_bbox.txt\"\n",
      "aws s3 cp \"/media/yuncong/YuncongPublic/CSHL_volumes/atlasV5/atlasV5_down32_scoreVolume/score_volumes/atlasV5_down32_scoreVolume_Sp5O_R.bp\" \"s3://mousebrainatlas-data/CSHL_volumes/atlasV5/atlasV5_down32_scoreVolume/score_volumes/atlasV5_down32_scoreVolume_Sp5O_R.bp\"\n",
      "aws s3 cp \"/media/yuncong/YuncongPublic/CSHL_volumes/atlasV5/atlasV5_down32_scoreVolume/score_volumes/atlasV5_down32_scoreVolume_Sp5O_R_bbox.txt\" \"s3://mousebrainatlas-data/CSHL_volumes/atlasV5/atlasV5_down32_scoreVolume/score_volumes/atlasV5_down32_scoreVolume_Sp5O_R_bbox.txt\"\n",
      "aws s3 cp \"/media/yuncong/YuncongPublic/CSHL_volumes/atlasV5/atlasV5_down32_scoreVolume/score_volumes/atlasV5_down32_scoreVolume_SNR_L.bp\" \"s3://mousebrainatlas-data/CSHL_volumes/atlasV5/atlasV5_down32_scoreVolume/score_volumes/atlasV5_down32_scoreVolume_SNR_L.bp\"\n",
      "aws s3 cp \"/media/yuncong/YuncongPublic/CSHL_volumes/atlasV5/atlasV5_down32_scoreVolume/score_volumes/atlasV5_down32_scoreVolume_SNR_L_bbox.txt\" \"s3://mousebrainatlas-data/CSHL_volumes/atlasV5/atlasV5_down32_scoreVolume/score_volumes/atlasV5_down32_scoreVolume_SNR_L_bbox.txt\"\n",
      "aws s3 cp \"/media/yuncong/YuncongPublic/CSHL_volumes/atlasV5/atlasV5_down32_scoreVolume/score_volumes/atlasV5_down32_scoreVolume_7N_R_surround_200.bp\" \"s3://mousebrainatlas-data/CSHL_volumes/atlasV5/atlasV5_down32_scoreVolume/score_volumes/atlasV5_down32_scoreVolume_7N_R_surround_200.bp\"\n",
      "aws s3 cp \"/media/yuncong/YuncongPublic/CSHL_volumes/atlasV5/atlasV5_down32_scoreVolume/score_volumes/atlasV5_down32_scoreVolume_7N_R_surround_200_bbox.txt\" \"s3://mousebrainatlas-data/CSHL_volumes/atlasV5/atlasV5_down32_scoreVolume/score_volumes/atlasV5_down32_scoreVolume_7N_R_surround_200_bbox.txt\"\n",
      "aws s3 cp \"/media/yuncong/YuncongPublic/CSHL_volumes/atlasV5/atlasV5_down32_scoreVolume/score_volumes/atlasV5_down32_scoreVolume_VCA_R_surround_200.bp\" \"s3://mousebrainatlas-data/CSHL_volumes/atlasV5/atlasV5_down32_scoreVolume/score_volumes/atlasV5_down32_scoreVolume_VCA_R_surround_200.bp\"\n",
      "aws s3 cp \"/media/yuncong/YuncongPublic/CSHL_volumes/atlasV5/atlasV5_down32_scoreVolume/score_volumes/atlasV5_down32_scoreVolume_VCA_R_surround_200_bbox.txt\" \"s3://mousebrainatlas-data/CSHL_volumes/atlasV5/atlasV5_down32_scoreVolume/score_volumes/atlasV5_down32_scoreVolume_VCA_R_surround_200_bbox.txt\"\n",
      "aws s3 cp \"/media/yuncong/YuncongPublic/CSHL_volumes/atlasV5/atlasV5_down32_scoreVolume/score_volumes/atlasV5_down32_scoreVolume_SNC_L_surround_200.bp\" \"s3://mousebrainatlas-data/CSHL_volumes/atlasV5/atlasV5_down32_scoreVolume/score_volumes/atlasV5_down32_scoreVolume_SNC_L_surround_200.bp\"\n",
      "aws s3 cp \"/media/yuncong/YuncongPublic/CSHL_volumes/atlasV5/atlasV5_down32_scoreVolume/score_volumes/atlasV5_down32_scoreVolume_SNC_L_surround_200_bbox.txt\" \"s3://mousebrainatlas-data/CSHL_volumes/atlasV5/atlasV5_down32_scoreVolume/score_volumes/atlasV5_down32_scoreVolume_SNC_L_surround_200_bbox.txt\"\n",
      "aws s3 cp \"/media/yuncong/YuncongPublic/CSHL_volumes/atlasV5/atlasV5_down32_scoreVolume/score_volumes/atlasV5_down32_scoreVolume_SNR_R.bp\" \"s3://mousebrainatlas-data/CSHL_volumes/atlasV5/atlasV5_down32_scoreVolume/score_volumes/atlasV5_down32_scoreVolume_SNR_R.bp\"\n",
      "aws s3 cp \"/media/yuncong/YuncongPublic/CSHL_volumes/atlasV5/atlasV5_down32_scoreVolume/score_volumes/atlasV5_down32_scoreVolume_SNR_R_bbox.txt\" \"s3://mousebrainatlas-data/CSHL_volumes/atlasV5/atlasV5_down32_scoreVolume/score_volumes/atlasV5_down32_scoreVolume_SNR_R_bbox.txt\"\n",
      "aws s3 cp \"/media/yuncong/YuncongPublic/CSHL_volumes/atlasV5/atlasV5_down32_scoreVolume/score_volumes/atlasV5_down32_scoreVolume_Sp5O_L.bp\" \"s3://mousebrainatlas-data/CSHL_volumes/atlasV5/atlasV5_down32_scoreVolume/score_volumes/atlasV5_down32_scoreVolume_Sp5O_L.bp\"\n"
     ]
    },
    {
     "name": "stdout",
     "output_type": "stream",
     "text": [
      "aws s3 cp \"/media/yuncong/YuncongPublic/CSHL_volumes/atlasV5/atlasV5_down32_scoreVolume/score_volumes/atlasV5_down32_scoreVolume_Sp5O_L_bbox.txt\" \"s3://mousebrainatlas-data/CSHL_volumes/atlasV5/atlasV5_down32_scoreVolume/score_volumes/atlasV5_down32_scoreVolume_Sp5O_L_bbox.txt\"\n",
      "aws s3 cp \"/media/yuncong/YuncongPublic/CSHL_volumes/atlasV5/atlasV5_down32_scoreVolume/score_volumes/atlasV5_down32_scoreVolume_SNR_R_surround_200.bp\" \"s3://mousebrainatlas-data/CSHL_volumes/atlasV5/atlasV5_down32_scoreVolume/score_volumes/atlasV5_down32_scoreVolume_SNR_R_surround_200.bp\"\n",
      "aws s3 cp \"/media/yuncong/YuncongPublic/CSHL_volumes/atlasV5/atlasV5_down32_scoreVolume/score_volumes/atlasV5_down32_scoreVolume_SNR_R_surround_200_bbox.txt\" \"s3://mousebrainatlas-data/CSHL_volumes/atlasV5/atlasV5_down32_scoreVolume/score_volumes/atlasV5_down32_scoreVolume_SNR_R_surround_200_bbox.txt\"\n",
      "aws s3 cp \"/media/yuncong/YuncongPublic/CSHL_volumes/atlasV5/atlasV5_down32_scoreVolume/score_volumes/atlasV5_down32_scoreVolume_Sp5O_L_surround_200.bp\" \"s3://mousebrainatlas-data/CSHL_volumes/atlasV5/atlasV5_down32_scoreVolume/score_volumes/atlasV5_down32_scoreVolume_Sp5O_L_surround_200.bp\"\n",
      "aws s3 cp \"/media/yuncong/YuncongPublic/CSHL_volumes/atlasV5/atlasV5_down32_scoreVolume/score_volumes/atlasV5_down32_scoreVolume_Sp5O_L_surround_200_bbox.txt\" \"s3://mousebrainatlas-data/CSHL_volumes/atlasV5/atlasV5_down32_scoreVolume/score_volumes/atlasV5_down32_scoreVolume_Sp5O_L_surround_200_bbox.txt\"\n",
      "aws s3 cp \"/media/yuncong/YuncongPublic/CSHL_volumes/atlasV5/atlasV5_down32_scoreVolume/score_volumes/atlasV5_down32_scoreVolume_12N_surround_200.bp\" \"s3://mousebrainatlas-data/CSHL_volumes/atlasV5/atlasV5_down32_scoreVolume/score_volumes/atlasV5_down32_scoreVolume_12N_surround_200.bp\"\n",
      "aws s3 cp \"/media/yuncong/YuncongPublic/CSHL_volumes/atlasV5/atlasV5_down32_scoreVolume/score_volumes/atlasV5_down32_scoreVolume_12N_surround_200_bbox.txt\" \"s3://mousebrainatlas-data/CSHL_volumes/atlasV5/atlasV5_down32_scoreVolume/score_volumes/atlasV5_down32_scoreVolume_12N_surround_200_bbox.txt\"\n",
      "aws s3 cp \"/media/yuncong/YuncongPublic/CSHL_volumes/atlasV5/atlasV5_down32_scoreVolume/score_volumes/atlasV5_down32_scoreVolume_VCP_R.bp\" \"s3://mousebrainatlas-data/CSHL_volumes/atlasV5/atlasV5_down32_scoreVolume/score_volumes/atlasV5_down32_scoreVolume_VCP_R.bp\"\n",
      "aws s3 cp \"/media/yuncong/YuncongPublic/CSHL_volumes/atlasV5/atlasV5_down32_scoreVolume/score_volumes/atlasV5_down32_scoreVolume_VCP_R_bbox.txt\" \"s3://mousebrainatlas-data/CSHL_volumes/atlasV5/atlasV5_down32_scoreVolume/score_volumes/atlasV5_down32_scoreVolume_VCP_R_bbox.txt\"\n",
      "aws s3 cp \"/media/yuncong/YuncongPublic/CSHL_volumes/atlasV5/atlasV5_down32_scoreVolume/score_volumes/atlasV5_down32_scoreVolume_3N_R_surround_200.bp\" \"s3://mousebrainatlas-data/CSHL_volumes/atlasV5/atlasV5_down32_scoreVolume/score_volumes/atlasV5_down32_scoreVolume_3N_R_surround_200.bp\"\n",
      "aws s3 cp \"/media/yuncong/YuncongPublic/CSHL_volumes/atlasV5/atlasV5_down32_scoreVolume/score_volumes/atlasV5_down32_scoreVolume_3N_R_surround_200_bbox.txt\" \"s3://mousebrainatlas-data/CSHL_volumes/atlasV5/atlasV5_down32_scoreVolume/score_volumes/atlasV5_down32_scoreVolume_3N_R_surround_200_bbox.txt\"\n",
      "aws s3 cp \"/media/yuncong/YuncongPublic/CSHL_volumes/atlasV5/atlasV5_down32_scoreVolume/score_volumes/atlasV5_down32_scoreVolume_7n_L_surround_200.bp\" \"s3://mousebrainatlas-data/CSHL_volumes/atlasV5/atlasV5_down32_scoreVolume/score_volumes/atlasV5_down32_scoreVolume_7n_L_surround_200.bp\"\n",
      "aws s3 cp \"/media/yuncong/YuncongPublic/CSHL_volumes/atlasV5/atlasV5_down32_scoreVolume/score_volumes/atlasV5_down32_scoreVolume_7n_L_surround_200_bbox.txt\" \"s3://mousebrainatlas-data/CSHL_volumes/atlasV5/atlasV5_down32_scoreVolume/score_volumes/atlasV5_down32_scoreVolume_7n_L_surround_200_bbox.txt\"\n",
      "aws s3 cp \"/media/yuncong/YuncongPublic/CSHL_volumes/atlasV5/atlasV5_down32_scoreVolume/score_volumes/atlasV5_down32_scoreVolume_VCP_L.bp\" \"s3://mousebrainatlas-data/CSHL_volumes/atlasV5/atlasV5_down32_scoreVolume/score_volumes/atlasV5_down32_scoreVolume_VCP_L.bp\"\n",
      "aws s3 cp \"/media/yuncong/YuncongPublic/CSHL_volumes/atlasV5/atlasV5_down32_scoreVolume/score_volumes/atlasV5_down32_scoreVolume_VCP_L_bbox.txt\" \"s3://mousebrainatlas-data/CSHL_volumes/atlasV5/atlasV5_down32_scoreVolume/score_volumes/atlasV5_down32_scoreVolume_VCP_L_bbox.txt\"\n",
      "aws s3 cp \"/media/yuncong/YuncongPublic/CSHL_volumes/atlasV5/atlasV5_down32_scoreVolume/score_volumes/atlasV5_down32_scoreVolume_6N_R_surround_200.bp\" \"s3://mousebrainatlas-data/CSHL_volumes/atlasV5/atlasV5_down32_scoreVolume/score_volumes/atlasV5_down32_scoreVolume_6N_R_surround_200.bp\"\n",
      "aws s3 cp \"/media/yuncong/YuncongPublic/CSHL_volumes/atlasV5/atlasV5_down32_scoreVolume/score_volumes/atlasV5_down32_scoreVolume_6N_R_surround_200_bbox.txt\" \"s3://mousebrainatlas-data/CSHL_volumes/atlasV5/atlasV5_down32_scoreVolume/score_volumes/atlasV5_down32_scoreVolume_6N_R_surround_200_bbox.txt\"\n",
      "aws s3 cp \"/media/yuncong/YuncongPublic/CSHL_volumes/atlasV5/atlasV5_down32_scoreVolume/score_volumes/atlasV5_down32_scoreVolume_AP_surround_200.bp\" \"s3://mousebrainatlas-data/CSHL_volumes/atlasV5/atlasV5_down32_scoreVolume/score_volumes/atlasV5_down32_scoreVolume_AP_surround_200.bp\"\n",
      "aws s3 cp \"/media/yuncong/YuncongPublic/CSHL_volumes/atlasV5/atlasV5_down32_scoreVolume/score_volumes/atlasV5_down32_scoreVolume_AP_surround_200_bbox.txt\" \"s3://mousebrainatlas-data/CSHL_volumes/atlasV5/atlasV5_down32_scoreVolume/score_volumes/atlasV5_down32_scoreVolume_AP_surround_200_bbox.txt\"\n",
      "aws s3 cp \"/media/yuncong/YuncongPublic/CSHL_volumes/atlasV5/atlasV5_down32_scoreVolume/score_volumes/atlasV5_down32_scoreVolume_7N_L_surround_200.bp\" \"s3://mousebrainatlas-data/CSHL_volumes/atlasV5/atlasV5_down32_scoreVolume/score_volumes/atlasV5_down32_scoreVolume_7N_L_surround_200.bp\"\n",
      "aws s3 cp \"/media/yuncong/YuncongPublic/CSHL_volumes/atlasV5/atlasV5_down32_scoreVolume/score_volumes/atlasV5_down32_scoreVolume_7N_L_surround_200_bbox.txt\" \"s3://mousebrainatlas-data/CSHL_volumes/atlasV5/atlasV5_down32_scoreVolume/score_volumes/atlasV5_down32_scoreVolume_7N_L_surround_200_bbox.txt\"\n",
      "aws s3 cp \"/media/yuncong/YuncongPublic/CSHL_volumes/atlasV5/atlasV5_down32_scoreVolume/score_volumes/atlasV5_down32_scoreVolume_SC_surround_200.bp\" \"s3://mousebrainatlas-data/CSHL_volumes/atlasV5/atlasV5_down32_scoreVolume/score_volumes/atlasV5_down32_scoreVolume_SC_surround_200.bp\"\n",
      "aws s3 cp \"/media/yuncong/YuncongPublic/CSHL_volumes/atlasV5/atlasV5_down32_scoreVolume/score_volumes/atlasV5_down32_scoreVolume_SC_surround_200_bbox.txt\" \"s3://mousebrainatlas-data/CSHL_volumes/atlasV5/atlasV5_down32_scoreVolume/score_volumes/atlasV5_down32_scoreVolume_SC_surround_200_bbox.txt\"\n",
      "aws s3 cp \"/media/yuncong/YuncongPublic/CSHL_volumes/atlasV5/atlasV5_down32_scoreVolume/score_volumes/atlasV5_down32_scoreVolume_PBG_L_surround_200.bp\" \"s3://mousebrainatlas-data/CSHL_volumes/atlasV5/atlasV5_down32_scoreVolume/score_volumes/atlasV5_down32_scoreVolume_PBG_L_surround_200.bp\"\n",
      "aws s3 cp \"/media/yuncong/YuncongPublic/CSHL_volumes/atlasV5/atlasV5_down32_scoreVolume/score_volumes/atlasV5_down32_scoreVolume_PBG_L_surround_200_bbox.txt\" \"s3://mousebrainatlas-data/CSHL_volumes/atlasV5/atlasV5_down32_scoreVolume/score_volumes/atlasV5_down32_scoreVolume_PBG_L_surround_200_bbox.txt\"\n",
      "aws s3 cp \"/media/yuncong/YuncongPublic/CSHL_volumes/atlasV5/atlasV5_down32_scoreVolume/score_volumes/atlasV5_down32_scoreVolume_DC_R.bp\" \"s3://mousebrainatlas-data/CSHL_volumes/atlasV5/atlasV5_down32_scoreVolume/score_volumes/atlasV5_down32_scoreVolume_DC_R.bp\"\n",
      "aws s3 cp \"/media/yuncong/YuncongPublic/CSHL_volumes/atlasV5/atlasV5_down32_scoreVolume/score_volumes/atlasV5_down32_scoreVolume_DC_R_bbox.txt\" \"s3://mousebrainatlas-data/CSHL_volumes/atlasV5/atlasV5_down32_scoreVolume/score_volumes/atlasV5_down32_scoreVolume_DC_R_bbox.txt\"\n",
      "aws s3 cp \"/media/yuncong/YuncongPublic/CSHL_volumes/atlasV5/atlasV5_down32_scoreVolume/score_volumes/atlasV5_down32_scoreVolume_VCA_L.bp\" \"s3://mousebrainatlas-data/CSHL_volumes/atlasV5/atlasV5_down32_scoreVolume/score_volumes/atlasV5_down32_scoreVolume_VCA_L.bp\"\n",
      "aws s3 cp \"/media/yuncong/YuncongPublic/CSHL_volumes/atlasV5/atlasV5_down32_scoreVolume/score_volumes/atlasV5_down32_scoreVolume_VCA_L_bbox.txt\" \"s3://mousebrainatlas-data/CSHL_volumes/atlasV5/atlasV5_down32_scoreVolume/score_volumes/atlasV5_down32_scoreVolume_VCA_L_bbox.txt\"\n"
     ]
    },
    {
     "name": "stdout",
     "output_type": "stream",
     "text": [
      "aws s3 cp \"/media/yuncong/YuncongPublic/CSHL_volumes/atlasV5/atlasV5_down32_scoreVolume/score_volumes/atlasV5_down32_scoreVolume_LC_R_surround_200.bp\" \"s3://mousebrainatlas-data/CSHL_volumes/atlasV5/atlasV5_down32_scoreVolume/score_volumes/atlasV5_down32_scoreVolume_LC_R_surround_200.bp\"\n",
      "aws s3 cp \"/media/yuncong/YuncongPublic/CSHL_volumes/atlasV5/atlasV5_down32_scoreVolume/score_volumes/atlasV5_down32_scoreVolume_LC_R_surround_200_bbox.txt\" \"s3://mousebrainatlas-data/CSHL_volumes/atlasV5/atlasV5_down32_scoreVolume/score_volumes/atlasV5_down32_scoreVolume_LC_R_surround_200_bbox.txt\"\n",
      "aws s3 cp \"/media/yuncong/YuncongPublic/CSHL_volumes/atlasV5/atlasV5_down32_scoreVolume/score_volumes/atlasV5_down32_scoreVolume_6N_L_surround_200.bp\" \"s3://mousebrainatlas-data/CSHL_volumes/atlasV5/atlasV5_down32_scoreVolume/score_volumes/atlasV5_down32_scoreVolume_6N_L_surround_200.bp\"\n",
      "aws s3 cp \"/media/yuncong/YuncongPublic/CSHL_volumes/atlasV5/atlasV5_down32_scoreVolume/score_volumes/atlasV5_down32_scoreVolume_6N_L_surround_200_bbox.txt\" \"s3://mousebrainatlas-data/CSHL_volumes/atlasV5/atlasV5_down32_scoreVolume/score_volumes/atlasV5_down32_scoreVolume_6N_L_surround_200_bbox.txt\"\n",
      "aws s3 cp \"/media/yuncong/YuncongPublic/CSHL_volumes/atlasV5/atlasV5_down32_scoreVolume/score_volumes/atlasV5_down32_scoreVolume_Sp5I_R_surround_200.bp\" \"s3://mousebrainatlas-data/CSHL_volumes/atlasV5/atlasV5_down32_scoreVolume/score_volumes/atlasV5_down32_scoreVolume_Sp5I_R_surround_200.bp\"\n",
      "aws s3 cp \"/media/yuncong/YuncongPublic/CSHL_volumes/atlasV5/atlasV5_down32_scoreVolume/score_volumes/atlasV5_down32_scoreVolume_Sp5I_R_surround_200_bbox.txt\" \"s3://mousebrainatlas-data/CSHL_volumes/atlasV5/atlasV5_down32_scoreVolume/score_volumes/atlasV5_down32_scoreVolume_Sp5I_R_surround_200_bbox.txt\"\n",
      "aws s3 cp \"/media/yuncong/YuncongPublic/CSHL_volumes/atlasV5/atlasV5_down32_scoreVolume/score_volumes/atlasV5_down32_scoreVolume_Sp5I_L.bp\" \"s3://mousebrainatlas-data/CSHL_volumes/atlasV5/atlasV5_down32_scoreVolume/score_volumes/atlasV5_down32_scoreVolume_Sp5I_L.bp\"\n",
      "aws s3 cp \"/media/yuncong/YuncongPublic/CSHL_volumes/atlasV5/atlasV5_down32_scoreVolume/score_volumes/atlasV5_down32_scoreVolume_Sp5I_L_bbox.txt\" \"s3://mousebrainatlas-data/CSHL_volumes/atlasV5/atlasV5_down32_scoreVolume/score_volumes/atlasV5_down32_scoreVolume_Sp5I_L_bbox.txt\"\n",
      "aws s3 cp \"/media/yuncong/YuncongPublic/CSHL_volumes/atlasV5/atlasV5_down32_scoreVolume/score_volumes/atlasV5_down32_scoreVolume_RMC_R.bp\" \"s3://mousebrainatlas-data/CSHL_volumes/atlasV5/atlasV5_down32_scoreVolume/score_volumes/atlasV5_down32_scoreVolume_RMC_R.bp\"\n",
      "aws s3 cp \"/media/yuncong/YuncongPublic/CSHL_volumes/atlasV5/atlasV5_down32_scoreVolume/score_volumes/atlasV5_down32_scoreVolume_RMC_R_bbox.txt\" \"s3://mousebrainatlas-data/CSHL_volumes/atlasV5/atlasV5_down32_scoreVolume/score_volumes/atlasV5_down32_scoreVolume_RMC_R_bbox.txt\"\n",
      "aws s3 cp \"/media/yuncong/YuncongPublic/CSHL_volumes/atlasV5/atlasV5_down32_scoreVolume/score_volumes/atlasV5_down32_scoreVolume_SNC_R_surround_200.bp\" \"s3://mousebrainatlas-data/CSHL_volumes/atlasV5/atlasV5_down32_scoreVolume/score_volumes/atlasV5_down32_scoreVolume_SNC_R_surround_200.bp\"\n",
      "aws s3 cp \"/media/yuncong/YuncongPublic/CSHL_volumes/atlasV5/atlasV5_down32_scoreVolume/score_volumes/atlasV5_down32_scoreVolume_SNC_R_surround_200_bbox.txt\" \"s3://mousebrainatlas-data/CSHL_volumes/atlasV5/atlasV5_down32_scoreVolume/score_volumes/atlasV5_down32_scoreVolume_SNC_R_surround_200_bbox.txt\"\n",
      "aws s3 cp \"/media/yuncong/YuncongPublic/CSHL_volumes/atlasV5/atlasV5_down32_scoreVolume/score_volumes/atlasV5_down32_scoreVolume_RMC_L.bp\" \"s3://mousebrainatlas-data/CSHL_volumes/atlasV5/atlasV5_down32_scoreVolume/score_volumes/atlasV5_down32_scoreVolume_RMC_L.bp\"\n",
      "aws s3 cp \"/media/yuncong/YuncongPublic/CSHL_volumes/atlasV5/atlasV5_down32_scoreVolume/score_volumes/atlasV5_down32_scoreVolume_RMC_L_bbox.txt\" \"s3://mousebrainatlas-data/CSHL_volumes/atlasV5/atlasV5_down32_scoreVolume/score_volumes/atlasV5_down32_scoreVolume_RMC_L_bbox.txt\"\n",
      "aws s3 cp \"/media/yuncong/YuncongPublic/CSHL_volumes/atlasV5/atlasV5_down32_scoreVolume/score_volumes/atlasV5_down32_scoreVolume_SNR_L_surround_200.bp\" \"s3://mousebrainatlas-data/CSHL_volumes/atlasV5/atlasV5_down32_scoreVolume/score_volumes/atlasV5_down32_scoreVolume_SNR_L_surround_200.bp\"\n",
      "aws s3 cp \"/media/yuncong/YuncongPublic/CSHL_volumes/atlasV5/atlasV5_down32_scoreVolume/score_volumes/atlasV5_down32_scoreVolume_SNR_L_surround_200_bbox.txt\" \"s3://mousebrainatlas-data/CSHL_volumes/atlasV5/atlasV5_down32_scoreVolume/score_volumes/atlasV5_down32_scoreVolume_SNR_L_surround_200_bbox.txt\"\n",
      "aws s3 cp \"/media/yuncong/YuncongPublic/CSHL_volumes/atlasV5/atlasV5_down32_scoreVolume/score_volumes/atlasV5_down32_scoreVolume_Sp5O_R_surround_200.bp\" \"s3://mousebrainatlas-data/CSHL_volumes/atlasV5/atlasV5_down32_scoreVolume/score_volumes/atlasV5_down32_scoreVolume_Sp5O_R_surround_200.bp\"\n",
      "aws s3 cp \"/media/yuncong/YuncongPublic/CSHL_volumes/atlasV5/atlasV5_down32_scoreVolume/score_volumes/atlasV5_down32_scoreVolume_Sp5O_R_surround_200_bbox.txt\" \"s3://mousebrainatlas-data/CSHL_volumes/atlasV5/atlasV5_down32_scoreVolume/score_volumes/atlasV5_down32_scoreVolume_Sp5O_R_surround_200_bbox.txt\"\n",
      "aws s3 cp \"/media/yuncong/YuncongPublic/CSHL_volumes/atlasV5/atlasV5_down32_scoreVolume/score_volumes/atlasV5_down32_scoreVolume_VCA_R.bp\" \"s3://mousebrainatlas-data/CSHL_volumes/atlasV5/atlasV5_down32_scoreVolume/score_volumes/atlasV5_down32_scoreVolume_VCA_R.bp\"\n",
      "aws s3 cp \"/media/yuncong/YuncongPublic/CSHL_volumes/atlasV5/atlasV5_down32_scoreVolume/score_volumes/atlasV5_down32_scoreVolume_VCA_R_bbox.txt\" \"s3://mousebrainatlas-data/CSHL_volumes/atlasV5/atlasV5_down32_scoreVolume/score_volumes/atlasV5_down32_scoreVolume_VCA_R_bbox.txt\"\n",
      "aws s3 cp \"/media/yuncong/YuncongPublic/CSHL_volumes/atlasV5/atlasV5_down32_scoreVolume/score_volumes/atlasV5_down32_scoreVolume_DC_L.bp\" \"s3://mousebrainatlas-data/CSHL_volumes/atlasV5/atlasV5_down32_scoreVolume/score_volumes/atlasV5_down32_scoreVolume_DC_L.bp\"\n",
      "aws s3 cp \"/media/yuncong/YuncongPublic/CSHL_volumes/atlasV5/atlasV5_down32_scoreVolume/score_volumes/atlasV5_down32_scoreVolume_DC_L_bbox.txt\" \"s3://mousebrainatlas-data/CSHL_volumes/atlasV5/atlasV5_down32_scoreVolume/score_volumes/atlasV5_down32_scoreVolume_DC_L_bbox.txt\"\n",
      "aws s3 cp \"/media/yuncong/YuncongPublic/CSHL_volumes/atlasV5/atlasV5_down32_scoreVolume/score_volumes/atlasV5_down32_scoreVolume_Amb_R_surround_200.bp\" \"s3://mousebrainatlas-data/CSHL_volumes/atlasV5/atlasV5_down32_scoreVolume/score_volumes/atlasV5_down32_scoreVolume_Amb_R_surround_200.bp\"\n",
      "aws s3 cp \"/media/yuncong/YuncongPublic/CSHL_volumes/atlasV5/atlasV5_down32_scoreVolume/score_volumes/atlasV5_down32_scoreVolume_Amb_R_surround_200_bbox.txt\" \"s3://mousebrainatlas-data/CSHL_volumes/atlasV5/atlasV5_down32_scoreVolume/score_volumes/atlasV5_down32_scoreVolume_Amb_R_surround_200_bbox.txt\"\n",
      "aws s3 cp \"/media/yuncong/YuncongPublic/CSHL_volumes/atlasV5/atlasV5_down32_scoreVolume/score_volumes/atlasV5_down32_scoreVolume_Amb_R.bp\" \"s3://mousebrainatlas-data/CSHL_volumes/atlasV5/atlasV5_down32_scoreVolume/score_volumes/atlasV5_down32_scoreVolume_Amb_R.bp\"\n",
      "aws s3 cp \"/media/yuncong/YuncongPublic/CSHL_volumes/atlasV5/atlasV5_down32_scoreVolume/score_volumes/atlasV5_down32_scoreVolume_Amb_R_bbox.txt\" \"s3://mousebrainatlas-data/CSHL_volumes/atlasV5/atlasV5_down32_scoreVolume/score_volumes/atlasV5_down32_scoreVolume_Amb_R_bbox.txt\"\n",
      "aws s3 cp \"/media/yuncong/YuncongPublic/CSHL_volumes/atlasV5/atlasV5_down32_scoreVolume/score_volumes/atlasV5_down32_scoreVolume_LC_L_surround_200.bp\" \"s3://mousebrainatlas-data/CSHL_volumes/atlasV5/atlasV5_down32_scoreVolume/score_volumes/atlasV5_down32_scoreVolume_LC_L_surround_200.bp\"\n",
      "aws s3 cp \"/media/yuncong/YuncongPublic/CSHL_volumes/atlasV5/atlasV5_down32_scoreVolume/score_volumes/atlasV5_down32_scoreVolume_LC_L_surround_200_bbox.txt\" \"s3://mousebrainatlas-data/CSHL_volumes/atlasV5/atlasV5_down32_scoreVolume/score_volumes/atlasV5_down32_scoreVolume_LC_L_surround_200_bbox.txt\"\n",
      "aws s3 cp \"/media/yuncong/YuncongPublic/CSHL_volumes/atlasV5/atlasV5_down32_scoreVolume/score_volumes/atlasV5_down32_scoreVolume_LC_R.bp\" \"s3://mousebrainatlas-data/CSHL_volumes/atlasV5/atlasV5_down32_scoreVolume/score_volumes/atlasV5_down32_scoreVolume_LC_R.bp\"\n"
     ]
    },
    {
     "name": "stdout",
     "output_type": "stream",
     "text": [
      "aws s3 cp \"/media/yuncong/YuncongPublic/CSHL_volumes/atlasV5/atlasV5_down32_scoreVolume/score_volumes/atlasV5_down32_scoreVolume_LC_R_bbox.txt\" \"s3://mousebrainatlas-data/CSHL_volumes/atlasV5/atlasV5_down32_scoreVolume/score_volumes/atlasV5_down32_scoreVolume_LC_R_bbox.txt\"\n",
      "aws s3 cp \"/media/yuncong/YuncongPublic/CSHL_volumes/atlasV5/atlasV5_down32_scoreVolume/score_volumes/atlasV5_down32_scoreVolume_7n_R.bp\" \"s3://mousebrainatlas-data/CSHL_volumes/atlasV5/atlasV5_down32_scoreVolume/score_volumes/atlasV5_down32_scoreVolume_7n_R.bp\"\n",
      "aws s3 cp \"/media/yuncong/YuncongPublic/CSHL_volumes/atlasV5/atlasV5_down32_scoreVolume/score_volumes/atlasV5_down32_scoreVolume_7n_R_bbox.txt\" \"s3://mousebrainatlas-data/CSHL_volumes/atlasV5/atlasV5_down32_scoreVolume/score_volumes/atlasV5_down32_scoreVolume_7n_R_bbox.txt\"\n",
      "aws s3 cp \"/media/yuncong/YuncongPublic/CSHL_volumes/atlasV5/atlasV5_down32_scoreVolume/score_volumes/atlasV5_down32_scoreVolume_4N_R.bp\" \"s3://mousebrainatlas-data/CSHL_volumes/atlasV5/atlasV5_down32_scoreVolume/score_volumes/atlasV5_down32_scoreVolume_4N_R.bp\"\n",
      "aws s3 cp \"/media/yuncong/YuncongPublic/CSHL_volumes/atlasV5/atlasV5_down32_scoreVolume/score_volumes/atlasV5_down32_scoreVolume_4N_R_bbox.txt\" \"s3://mousebrainatlas-data/CSHL_volumes/atlasV5/atlasV5_down32_scoreVolume/score_volumes/atlasV5_down32_scoreVolume_4N_R_bbox.txt\"\n",
      "aws s3 cp \"/media/yuncong/YuncongPublic/CSHL_volumes/atlasV5/atlasV5_down32_scoreVolume/score_volumes/atlasV5_down32_scoreVolume_7n_L.bp\" \"s3://mousebrainatlas-data/CSHL_volumes/atlasV5/atlasV5_down32_scoreVolume/score_volumes/atlasV5_down32_scoreVolume_7n_L.bp\"\n",
      "aws s3 cp \"/media/yuncong/YuncongPublic/CSHL_volumes/atlasV5/atlasV5_down32_scoreVolume/score_volumes/atlasV5_down32_scoreVolume_7n_L_bbox.txt\" \"s3://mousebrainatlas-data/CSHL_volumes/atlasV5/atlasV5_down32_scoreVolume/score_volumes/atlasV5_down32_scoreVolume_7n_L_bbox.txt\"\n",
      "aws s3 cp \"/media/yuncong/YuncongPublic/CSHL_volumes/atlasV5/atlasV5_down32_scoreVolume/score_volumes/atlasV5_down32_scoreVolume_4N_L.bp\" \"s3://mousebrainatlas-data/CSHL_volumes/atlasV5/atlasV5_down32_scoreVolume/score_volumes/atlasV5_down32_scoreVolume_4N_L.bp\"\n",
      "aws s3 cp \"/media/yuncong/YuncongPublic/CSHL_volumes/atlasV5/atlasV5_down32_scoreVolume/score_volumes/atlasV5_down32_scoreVolume_4N_L_bbox.txt\" \"s3://mousebrainatlas-data/CSHL_volumes/atlasV5/atlasV5_down32_scoreVolume/score_volumes/atlasV5_down32_scoreVolume_4N_L_bbox.txt\"\n",
      "aws s3 cp \"/media/yuncong/YuncongPublic/CSHL_volumes/atlasV5/atlasV5_down32_scoreVolume/score_volumes/atlasV5_down32_scoreVolume_VLL_L_surround_200.bp\" \"s3://mousebrainatlas-data/CSHL_volumes/atlasV5/atlasV5_down32_scoreVolume/score_volumes/atlasV5_down32_scoreVolume_VLL_L_surround_200.bp\"\n",
      "aws s3 cp \"/media/yuncong/YuncongPublic/CSHL_volumes/atlasV5/atlasV5_down32_scoreVolume/score_volumes/atlasV5_down32_scoreVolume_VLL_L_surround_200_bbox.txt\" \"s3://mousebrainatlas-data/CSHL_volumes/atlasV5/atlasV5_down32_scoreVolume/score_volumes/atlasV5_down32_scoreVolume_VLL_L_surround_200_bbox.txt\"\n",
      "aws s3 cp \"/media/yuncong/YuncongPublic/CSHL_volumes/atlasV5/atlasV5_down32_scoreVolume/score_volumes/atlasV5_down32_scoreVolume_LC_L.bp\" \"s3://mousebrainatlas-data/CSHL_volumes/atlasV5/atlasV5_down32_scoreVolume/score_volumes/atlasV5_down32_scoreVolume_LC_L.bp\"\n",
      "aws s3 cp \"/media/yuncong/YuncongPublic/CSHL_volumes/atlasV5/atlasV5_down32_scoreVolume/score_volumes/atlasV5_down32_scoreVolume_LC_L_bbox.txt\" \"s3://mousebrainatlas-data/CSHL_volumes/atlasV5/atlasV5_down32_scoreVolume/score_volumes/atlasV5_down32_scoreVolume_LC_L_bbox.txt\"\n",
      "aws s3 cp \"/media/yuncong/YuncongPublic/CSHL_volumes/atlasV5/atlasV5_down32_scoreVolume/score_volumes/atlasV5_down32_scoreVolume_SC.bp\" \"s3://mousebrainatlas-data/CSHL_volumes/atlasV5/atlasV5_down32_scoreVolume/score_volumes/atlasV5_down32_scoreVolume_SC.bp\"\n",
      "aws s3 cp \"/media/yuncong/YuncongPublic/CSHL_volumes/atlasV5/atlasV5_down32_scoreVolume/score_volumes/atlasV5_down32_scoreVolume_SC_bbox.txt\" \"s3://mousebrainatlas-data/CSHL_volumes/atlasV5/atlasV5_down32_scoreVolume/score_volumes/atlasV5_down32_scoreVolume_SC_bbox.txt\"\n",
      "aws s3 cp \"/media/yuncong/YuncongPublic/CSHL_volumes/atlasV5/atlasV5_down32_scoreVolume/score_volumes/atlasV5_down32_scoreVolume_Amb_L.bp\" \"s3://mousebrainatlas-data/CSHL_volumes/atlasV5/atlasV5_down32_scoreVolume/score_volumes/atlasV5_down32_scoreVolume_Amb_L.bp\"\n",
      "aws s3 cp \"/media/yuncong/YuncongPublic/CSHL_volumes/atlasV5/atlasV5_down32_scoreVolume/score_volumes/atlasV5_down32_scoreVolume_Amb_L_bbox.txt\" \"s3://mousebrainatlas-data/CSHL_volumes/atlasV5/atlasV5_down32_scoreVolume/score_volumes/atlasV5_down32_scoreVolume_Amb_L_bbox.txt\"\n",
      "aws s3 cp \"/media/yuncong/YuncongPublic/CSHL_volumes/atlasV5/atlasV5_down32_scoreVolume/score_volumes/atlasV5_down32_scoreVolume_LRt_R_surround_200.bp\" \"s3://mousebrainatlas-data/CSHL_volumes/atlasV5/atlasV5_down32_scoreVolume/score_volumes/atlasV5_down32_scoreVolume_LRt_R_surround_200.bp\"\n",
      "aws s3 cp \"/media/yuncong/YuncongPublic/CSHL_volumes/atlasV5/atlasV5_down32_scoreVolume/score_volumes/atlasV5_down32_scoreVolume_LRt_R_surround_200_bbox.txt\" \"s3://mousebrainatlas-data/CSHL_volumes/atlasV5/atlasV5_down32_scoreVolume/score_volumes/atlasV5_down32_scoreVolume_LRt_R_surround_200_bbox.txt\"\n",
      "aws s3 cp \"/media/yuncong/YuncongPublic/CSHL_volumes/atlasV5/atlasV5_down32_scoreVolume/score_volumes/atlasV5_down32_scoreVolume_4N_R_surround_200.bp\" \"s3://mousebrainatlas-data/CSHL_volumes/atlasV5/atlasV5_down32_scoreVolume/score_volumes/atlasV5_down32_scoreVolume_4N_R_surround_200.bp\"\n",
      "aws s3 cp \"/media/yuncong/YuncongPublic/CSHL_volumes/atlasV5/atlasV5_down32_scoreVolume/score_volumes/atlasV5_down32_scoreVolume_4N_R_surround_200_bbox.txt\" \"s3://mousebrainatlas-data/CSHL_volumes/atlasV5/atlasV5_down32_scoreVolume/score_volumes/atlasV5_down32_scoreVolume_4N_R_surround_200_bbox.txt\"\n",
      "aws s3 cp \"/media/yuncong/YuncongPublic/CSHL_volumes/atlasV5/atlasV5_down32_scoreVolume/score_volumes/atlasV5_down32_scoreVolume_PBG_L.bp\" \"s3://mousebrainatlas-data/CSHL_volumes/atlasV5/atlasV5_down32_scoreVolume/score_volumes/atlasV5_down32_scoreVolume_PBG_L.bp\"\n",
      "aws s3 cp \"/media/yuncong/YuncongPublic/CSHL_volumes/atlasV5/atlasV5_down32_scoreVolume/score_volumes/atlasV5_down32_scoreVolume_PBG_L_bbox.txt\" \"s3://mousebrainatlas-data/CSHL_volumes/atlasV5/atlasV5_down32_scoreVolume/score_volumes/atlasV5_down32_scoreVolume_PBG_L_bbox.txt\"\n",
      "aws s3 cp \"/media/yuncong/YuncongPublic/CSHL_volumes/atlasV5/atlasV5_down32_scoreVolume/score_volumes/atlasV5_down32_scoreVolume_PBG_R.bp\" \"s3://mousebrainatlas-data/CSHL_volumes/atlasV5/atlasV5_down32_scoreVolume/score_volumes/atlasV5_down32_scoreVolume_PBG_R.bp\"\n",
      "aws s3 cp \"/media/yuncong/YuncongPublic/CSHL_volumes/atlasV5/atlasV5_down32_scoreVolume/score_volumes/atlasV5_down32_scoreVolume_PBG_R_bbox.txt\" \"s3://mousebrainatlas-data/CSHL_volumes/atlasV5/atlasV5_down32_scoreVolume/score_volumes/atlasV5_down32_scoreVolume_PBG_R_bbox.txt\"\n",
      "aws s3 cp \"/media/yuncong/YuncongPublic/CSHL_volumes/atlasV5/atlasV5_down32_scoreVolume/score_volumes/atlasV5_down32_scoreVolume_PBG_R_surround_200.bp\" \"s3://mousebrainatlas-data/CSHL_volumes/atlasV5/atlasV5_down32_scoreVolume/score_volumes/atlasV5_down32_scoreVolume_PBG_R_surround_200.bp\"\n",
      "aws s3 cp \"/media/yuncong/YuncongPublic/CSHL_volumes/atlasV5/atlasV5_down32_scoreVolume/score_volumes/atlasV5_down32_scoreVolume_PBG_R_surround_200_bbox.txt\" \"s3://mousebrainatlas-data/CSHL_volumes/atlasV5/atlasV5_down32_scoreVolume/score_volumes/atlasV5_down32_scoreVolume_PBG_R_surround_200_bbox.txt\"\n",
      "aws s3 cp \"/media/yuncong/YuncongPublic/CSHL_volumes/atlasV5/atlasV5_down32_scoreVolume/score_volumes/atlasV5_down32_scoreVolume_VCP_L_surround_200.bp\" \"s3://mousebrainatlas-data/CSHL_volumes/atlasV5/atlasV5_down32_scoreVolume/score_volumes/atlasV5_down32_scoreVolume_VCP_L_surround_200.bp\"\n",
      "aws s3 cp \"/media/yuncong/YuncongPublic/CSHL_volumes/atlasV5/atlasV5_down32_scoreVolume/score_volumes/atlasV5_down32_scoreVolume_VCP_L_surround_200_bbox.txt\" \"s3://mousebrainatlas-data/CSHL_volumes/atlasV5/atlasV5_down32_scoreVolume/score_volumes/atlasV5_down32_scoreVolume_VCP_L_surround_200_bbox.txt\"\n",
      "aws s3 cp \"/media/yuncong/YuncongPublic/CSHL_volumes/atlasV5/atlasV5_down32_scoreVolume/score_volumes/atlasV5_down32_scoreVolume_RtTg_surround_200.bp\" \"s3://mousebrainatlas-data/CSHL_volumes/atlasV5/atlasV5_down32_scoreVolume/score_volumes/atlasV5_down32_scoreVolume_RtTg_surround_200.bp\"\n"
     ]
    },
    {
     "name": "stdout",
     "output_type": "stream",
     "text": [
      "aws s3 cp \"/media/yuncong/YuncongPublic/CSHL_volumes/atlasV5/atlasV5_down32_scoreVolume/score_volumes/atlasV5_down32_scoreVolume_RtTg_surround_200_bbox.txt\" \"s3://mousebrainatlas-data/CSHL_volumes/atlasV5/atlasV5_down32_scoreVolume/score_volumes/atlasV5_down32_scoreVolume_RtTg_surround_200_bbox.txt\"\n",
      "aws s3 cp \"/media/yuncong/YuncongPublic/CSHL_volumes/atlasV5/atlasV5_down32_scoreVolume/score_volumes/atlasV5_down32_scoreVolume_3N_L_surround_200.bp\" \"s3://mousebrainatlas-data/CSHL_volumes/atlasV5/atlasV5_down32_scoreVolume/score_volumes/atlasV5_down32_scoreVolume_3N_L_surround_200.bp\"\n",
      "aws s3 cp \"/media/yuncong/YuncongPublic/CSHL_volumes/atlasV5/atlasV5_down32_scoreVolume/score_volumes/atlasV5_down32_scoreVolume_3N_L_surround_200_bbox.txt\" \"s3://mousebrainatlas-data/CSHL_volumes/atlasV5/atlasV5_down32_scoreVolume/score_volumes/atlasV5_down32_scoreVolume_3N_L_surround_200_bbox.txt\"\n",
      "aws s3 cp \"/media/yuncong/YuncongPublic/CSHL_volumes/atlasV5/atlasV5_down32_scoreVolume/score_volumes/atlasV5_down32_scoreVolume_Sp5I_L_surround_200.bp\" \"s3://mousebrainatlas-data/CSHL_volumes/atlasV5/atlasV5_down32_scoreVolume/score_volumes/atlasV5_down32_scoreVolume_Sp5I_L_surround_200.bp\"\n",
      "aws s3 cp \"/media/yuncong/YuncongPublic/CSHL_volumes/atlasV5/atlasV5_down32_scoreVolume/score_volumes/atlasV5_down32_scoreVolume_Sp5I_L_surround_200_bbox.txt\" \"s3://mousebrainatlas-data/CSHL_volumes/atlasV5/atlasV5_down32_scoreVolume/score_volumes/atlasV5_down32_scoreVolume_Sp5I_L_surround_200_bbox.txt\"\n",
      "aws s3 cp \"/media/yuncong/YuncongPublic/CSHL_volumes/atlasV5/atlasV5_down32_scoreVolume/score_volumes/atlasV5_down32_scoreVolume_LRt_L_surround_200.bp\" \"s3://mousebrainatlas-data/CSHL_volumes/atlasV5/atlasV5_down32_scoreVolume/score_volumes/atlasV5_down32_scoreVolume_LRt_L_surround_200.bp\"\n",
      "aws s3 cp \"/media/yuncong/YuncongPublic/CSHL_volumes/atlasV5/atlasV5_down32_scoreVolume/score_volumes/atlasV5_down32_scoreVolume_LRt_L_surround_200_bbox.txt\" \"s3://mousebrainatlas-data/CSHL_volumes/atlasV5/atlasV5_down32_scoreVolume/score_volumes/atlasV5_down32_scoreVolume_LRt_L_surround_200_bbox.txt\"\n",
      "aws s3 cp \"/media/yuncong/YuncongPublic/CSHL_volumes/atlasV5/atlasV5_down32_scoreVolume/score_volumes/atlasV5_down32_scoreVolume_5N_L.bp\" \"s3://mousebrainatlas-data/CSHL_volumes/atlasV5/atlasV5_down32_scoreVolume/score_volumes/atlasV5_down32_scoreVolume_5N_L.bp\"\n",
      "aws s3 cp \"/media/yuncong/YuncongPublic/CSHL_volumes/atlasV5/atlasV5_down32_scoreVolume/score_volumes/atlasV5_down32_scoreVolume_5N_L_bbox.txt\" \"s3://mousebrainatlas-data/CSHL_volumes/atlasV5/atlasV5_down32_scoreVolume/score_volumes/atlasV5_down32_scoreVolume_5N_L_bbox.txt\"\n",
      "aws s3 cp \"/media/yuncong/YuncongPublic/CSHL_volumes/atlasV5/atlasV5_down32_scoreVolume/score_volumes/atlasV5_down32_scoreVolume_AP.bp\" \"s3://mousebrainatlas-data/CSHL_volumes/atlasV5/atlasV5_down32_scoreVolume/score_volumes/atlasV5_down32_scoreVolume_AP.bp\"\n",
      "aws s3 cp \"/media/yuncong/YuncongPublic/CSHL_volumes/atlasV5/atlasV5_down32_scoreVolume/score_volumes/atlasV5_down32_scoreVolume_AP_bbox.txt\" \"s3://mousebrainatlas-data/CSHL_volumes/atlasV5/atlasV5_down32_scoreVolume/score_volumes/atlasV5_down32_scoreVolume_AP_bbox.txt\"\n",
      "aws s3 cp \"/media/yuncong/YuncongPublic/CSHL_volumes/atlasV5/atlasV5_down32_scoreVolume/score_volumes/atlasV5_down32_scoreVolume_5N_R.bp\" \"s3://mousebrainatlas-data/CSHL_volumes/atlasV5/atlasV5_down32_scoreVolume/score_volumes/atlasV5_down32_scoreVolume_5N_R.bp\"\n",
      "aws s3 cp \"/media/yuncong/YuncongPublic/CSHL_volumes/atlasV5/atlasV5_down32_scoreVolume/score_volumes/atlasV5_down32_scoreVolume_5N_R_bbox.txt\" \"s3://mousebrainatlas-data/CSHL_volumes/atlasV5/atlasV5_down32_scoreVolume/score_volumes/atlasV5_down32_scoreVolume_5N_R_bbox.txt\"\n",
      "aws s3 cp \"/media/yuncong/YuncongPublic/CSHL_volumes/atlasV5/atlasV5_down32_scoreVolume/score_volumes/atlasV5_down32_scoreVolume_VCP_R_surround_200.bp\" \"s3://mousebrainatlas-data/CSHL_volumes/atlasV5/atlasV5_down32_scoreVolume/score_volumes/atlasV5_down32_scoreVolume_VCP_R_surround_200.bp\"\n",
      "aws s3 cp \"/media/yuncong/YuncongPublic/CSHL_volumes/atlasV5/atlasV5_down32_scoreVolume/score_volumes/atlasV5_down32_scoreVolume_VCP_R_surround_200_bbox.txt\" \"s3://mousebrainatlas-data/CSHL_volumes/atlasV5/atlasV5_down32_scoreVolume/score_volumes/atlasV5_down32_scoreVolume_VCP_R_surround_200_bbox.txt\"\n",
      "aws s3 cp \"/media/yuncong/YuncongPublic/CSHL_volumes/atlasV5/atlasV5_down32_scoreVolume/score_volumes/atlasV5_down32_scoreVolume_IC.bp\" \"s3://mousebrainatlas-data/CSHL_volumes/atlasV5/atlasV5_down32_scoreVolume/score_volumes/atlasV5_down32_scoreVolume_IC.bp\"\n",
      "aws s3 cp \"/media/yuncong/YuncongPublic/CSHL_volumes/atlasV5/atlasV5_down32_scoreVolume/score_volumes/atlasV5_down32_scoreVolume_IC_bbox.txt\" \"s3://mousebrainatlas-data/CSHL_volumes/atlasV5/atlasV5_down32_scoreVolume/score_volumes/atlasV5_down32_scoreVolume_IC_bbox.txt\"\n",
      "aws s3 cp \"/media/yuncong/YuncongPublic/CSHL_volumes/atlasV5/atlasV5_down32_scoreVolume/score_volumes/atlasV5_down32_scoreVolume_RMC_R_surround_200.bp\" \"s3://mousebrainatlas-data/CSHL_volumes/atlasV5/atlasV5_down32_scoreVolume/score_volumes/atlasV5_down32_scoreVolume_RMC_R_surround_200.bp\"\n",
      "aws s3 cp \"/media/yuncong/YuncongPublic/CSHL_volumes/atlasV5/atlasV5_down32_scoreVolume/score_volumes/atlasV5_down32_scoreVolume_RMC_R_surround_200_bbox.txt\" \"s3://mousebrainatlas-data/CSHL_volumes/atlasV5/atlasV5_down32_scoreVolume/score_volumes/atlasV5_down32_scoreVolume_RMC_R_surround_200_bbox.txt\"\n",
      "aws s3 cp \"/media/yuncong/YuncongPublic/CSHL_volumes/atlasV5/atlasV5_down32_scoreVolume/score_volumes/atlasV5_down32_scoreVolume_Sp5I_R.bp\" \"s3://mousebrainatlas-data/CSHL_volumes/atlasV5/atlasV5_down32_scoreVolume/score_volumes/atlasV5_down32_scoreVolume_Sp5I_R.bp\"\n",
      "aws s3 cp \"/media/yuncong/YuncongPublic/CSHL_volumes/atlasV5/atlasV5_down32_scoreVolume/score_volumes/atlasV5_down32_scoreVolume_Sp5I_R_bbox.txt\" \"s3://mousebrainatlas-data/CSHL_volumes/atlasV5/atlasV5_down32_scoreVolume/score_volumes/atlasV5_down32_scoreVolume_Sp5I_R_bbox.txt\"\n",
      "aws s3 cp \"/media/yuncong/YuncongPublic/CSHL_volumes/atlasV5/atlasV5_down32_scoreVolume/score_volumes/atlasV5_down32_scoreVolume_Tz_R_surround_200.bp\" \"s3://mousebrainatlas-data/CSHL_volumes/atlasV5/atlasV5_down32_scoreVolume/score_volumes/atlasV5_down32_scoreVolume_Tz_R_surround_200.bp\"\n",
      "aws s3 cp \"/media/yuncong/YuncongPublic/CSHL_volumes/atlasV5/atlasV5_down32_scoreVolume/score_volumes/atlasV5_down32_scoreVolume_Tz_R_surround_200_bbox.txt\" \"s3://mousebrainatlas-data/CSHL_volumes/atlasV5/atlasV5_down32_scoreVolume/score_volumes/atlasV5_down32_scoreVolume_Tz_R_surround_200_bbox.txt\"\n",
      "aws s3 cp \"/media/yuncong/YuncongPublic/CSHL_volumes/atlasV5/atlasV5_down32_scoreVolume/score_volumes/atlasV5_down32_scoreVolume_5N_L_surround_200.bp\" \"s3://mousebrainatlas-data/CSHL_volumes/atlasV5/atlasV5_down32_scoreVolume/score_volumes/atlasV5_down32_scoreVolume_5N_L_surround_200.bp\"\n",
      "aws s3 cp \"/media/yuncong/YuncongPublic/CSHL_volumes/atlasV5/atlasV5_down32_scoreVolume/score_volumes/atlasV5_down32_scoreVolume_5N_L_surround_200_bbox.txt\" \"s3://mousebrainatlas-data/CSHL_volumes/atlasV5/atlasV5_down32_scoreVolume/score_volumes/atlasV5_down32_scoreVolume_5N_L_surround_200_bbox.txt\"\n",
      "aws s3 cp \"/media/yuncong/YuncongPublic/CSHL_volumes/atlasV5/atlasV5_down32_scoreVolume/score_volumes/atlasV5_down32_scoreVolume_Sp5C_L_surround_200.bp\" \"s3://mousebrainatlas-data/CSHL_volumes/atlasV5/atlasV5_down32_scoreVolume/score_volumes/atlasV5_down32_scoreVolume_Sp5C_L_surround_200.bp\"\n",
      "aws s3 cp \"/media/yuncong/YuncongPublic/CSHL_volumes/atlasV5/atlasV5_down32_scoreVolume/score_volumes/atlasV5_down32_scoreVolume_Sp5C_L_surround_200_bbox.txt\" \"s3://mousebrainatlas-data/CSHL_volumes/atlasV5/atlasV5_down32_scoreVolume/score_volumes/atlasV5_down32_scoreVolume_Sp5C_L_surround_200_bbox.txt\"\n"
     ]
    }
   ],
   "source": [
    "# Save full-brain atlas volumes.\n",
    "\n",
    "for name_s, vol in atlas_volumes.iteritems():\n",
    "    vol_fp = DataManager.get_volume_filepath(stack_m=atlas_name, structure=name_s)\n",
    "    create_parent_dir_if_not_exists(vol_fp)\n",
    "    bp.pack_ndarray_file(vol, vol_fp)\n",
    "    upload_to_s3(vol_fp)\n",
    "    \n",
    "    # Save atlas score volume bbox txt.\n",
    "    fp = DataManager.get_original_volume_bbox_filepath(stack=atlas_name, structure=name_s)\n",
    "    np.savetxt(fp, atlas_volume_bbox_rel2uncropped[None,:], fmt='%d')\n",
    "    upload_to_s3(fp)\n",
    "    # This is wrt aligned uncropped volume"
   ]
  },
  {
   "cell_type": "markdown",
   "metadata": {},
   "source": [
    "## Surround"
   ]
  },
  {
   "cell_type": "code",
   "execution_count": null,
   "metadata": {
    "collapsed": true
   },
   "outputs": [],
   "source": [
    "# # Generate and save surround score volumes. (in fact binary, but dtype is np.float16, same as interior score volumes.)\n",
    "\n",
    "# valid_level = .5\n",
    "\n",
    "# surround_distance_um = 200\n",
    "# surround_distance_voxel = surround_distance_um / XY_PIXEL_DISTANCE_TB\n",
    "# print \"surround size (in voxels):\", surround_distance_voxel"
   ]
  },
  {
   "cell_type": "code",
   "execution_count": null,
   "metadata": {
    "collapsed": true,
    "scrolled": true
   },
   "outputs": [],
   "source": [
    "# for name_s, vol in atlas_volumes.iteritems():\n",
    "#     if name_s == 'shell':\n",
    "#         # for shell, do not compute surround, because it is \n",
    "#         continue\n",
    "    \n",
    "#     if name_s in singular_structures:\n",
    "#         vol = symmetricalize_volume(vol)\n",
    "\n",
    "#     surround_vol = get_surround_volume(vol, valid_level=valid_level, distance=surround_distance_voxel, prob=True)\n",
    "#     vol_fp = DataManager.get_volume_filepath(stack_m=atlas_name, \n",
    "#                                              structure=convert_to_surround_name(name_s, margin=surround_distance_um))\n",
    "#     create_parent_dir_if_not_exists(vol_fp)\n",
    "#     bp.pack_ndarray_file(surround_vol.astype(np.float16), vol_fp)\n",
    "#     upload_to_s3(vol_fp)\n",
    "\n",
    "#     fp = DataManager.get_original_volume_bbox_filepath(stack=atlas_name, structure=convert_to_surround_name(name_s, margin=surround_distance_um))\n",
    "#     np.savetxt(fp, atlas_volume_bbox_rel2uncropped[None,:], fmt='%d')\n",
    "#     upload_to_s3(fp)"
   ]
  },
  {
   "cell_type": "code",
   "execution_count": null,
   "metadata": {
    "collapsed": true
   },
   "outputs": [],
   "source": [
    "# surround_vol = get_surround_volume(atlas_prob_volume_allLandmarks['IC'], distance=13, valid_level=0.5, prob=True)\n",
    "# display_volume_sections(surround_vol, direction='x', vmin=0, vmax=1.)"
   ]
  },
  {
   "cell_type": "markdown",
   "metadata": {},
   "source": [
    "## Convert surround volumes to meshes, for visualization."
   ]
  },
  {
   "cell_type": "code",
   "execution_count": 173,
   "metadata": {},
   "outputs": [
    {
     "name": "stderr",
     "output_type": "stream",
     "text": [
      "marching cube: 0.14 seconds\n",
      "mesh_to_polydata: 0.08 seconds\n",
      "simplify 0 @ 24392: 0.44 seconds\n",
      "simplify 1 @ 4881: 0.22 seconds\n",
      "simplify 2 @ 979: 0.04 seconds\n"
     ]
    },
    {
     "name": "stdout",
     "output_type": "stream",
     "text": [
      "aws s3 cp \"/home/yuncong/CSHL_meshes/atlasV6/atlasV6_down32_scoreVolume/atlasV6_down32_scoreVolume_5N_L_surround_200.stl\" \"s3://mousebrainatlas-data/CSHL_meshes/atlasV6/atlasV6_down32_scoreVolume/atlasV6_down32_scoreVolume_5N_L_surround_200.stl\"\n"
     ]
    },
    {
     "name": "stderr",
     "output_type": "stream",
     "text": [
      "marching cube: 0.04 seconds\n",
      "mesh_to_polydata: 0.03 seconds\n",
      "simplify 0 @ 24410: 0.21 seconds\n",
      "simplify 1 @ 4885: 0.23 seconds\n",
      "simplify 2 @ 980: 0.05 seconds\n"
     ]
    },
    {
     "name": "stdout",
     "output_type": "stream",
     "text": [
      "aws s3 cp \"/home/yuncong/CSHL_meshes/atlasV6/atlasV6_down32_scoreVolume/atlasV6_down32_scoreVolume_5N_R_surround_200.stl\" \"s3://mousebrainatlas-data/CSHL_meshes/atlasV6/atlasV6_down32_scoreVolume/atlasV6_down32_scoreVolume_5N_R_surround_200.stl\"\n"
     ]
    },
    {
     "name": "stderr",
     "output_type": "stream",
     "text": [
      "marching cube: 0.01 seconds\n",
      "mesh_to_polydata: 0.01 seconds\n",
      "simplify 0 @ 6785: 0.06 seconds\n",
      "simplify 1 @ 1360: 0.05 seconds\n",
      "simplify 2 @ 275: 0.01 seconds\n"
     ]
    },
    {
     "name": "stdout",
     "output_type": "stream",
     "text": [
      "aws s3 cp \"/home/yuncong/CSHL_meshes/atlasV6/atlasV6_down32_scoreVolume/atlasV6_down32_scoreVolume_6N_L_surround_200.stl\" \"s3://mousebrainatlas-data/CSHL_meshes/atlasV6/atlasV6_down32_scoreVolume/atlasV6_down32_scoreVolume_6N_L_surround_200.stl\"\n"
     ]
    },
    {
     "name": "stderr",
     "output_type": "stream",
     "text": [
      "marching cube: 0.02 seconds\n",
      "mesh_to_polydata: 0.02 seconds\n",
      "simplify 0 @ 6776: 0.11 seconds\n",
      "simplify 1 @ 1358: 0.09 seconds\n",
      "simplify 2 @ 274: 0.02 seconds\n"
     ]
    },
    {
     "name": "stdout",
     "output_type": "stream",
     "text": [
      "aws s3 cp \"/home/yuncong/CSHL_meshes/atlasV6/atlasV6_down32_scoreVolume/atlasV6_down32_scoreVolume_6N_R_surround_200.stl\" \"s3://mousebrainatlas-data/CSHL_meshes/atlasV6/atlasV6_down32_scoreVolume/atlasV6_down32_scoreVolume_6N_R_surround_200.stl\"\n"
     ]
    },
    {
     "name": "stderr",
     "output_type": "stream",
     "text": [
      "marching cube: 0.15 seconds\n",
      "mesh_to_polydata: 0.05 seconds\n",
      "simplify 0 @ 35261: 0.38 seconds\n",
      "simplify 1 @ 7055: 0.38 seconds\n",
      "simplify 2 @ 1414: 0.08 seconds\n"
     ]
    },
    {
     "name": "stdout",
     "output_type": "stream",
     "text": [
      "aws s3 cp \"/home/yuncong/CSHL_meshes/atlasV6/atlasV6_down32_scoreVolume/atlasV6_down32_scoreVolume_7N_L_surround_200.stl\" \"s3://mousebrainatlas-data/CSHL_meshes/atlasV6/atlasV6_down32_scoreVolume/atlasV6_down32_scoreVolume_7N_L_surround_200.stl\"\n"
     ]
    },
    {
     "name": "stderr",
     "output_type": "stream",
     "text": [
      "marching cube: 0.14 seconds\n",
      "mesh_to_polydata: 0.08 seconds\n",
      "simplify 0 @ 35166: 0.57 seconds\n",
      "simplify 1 @ 7036: 0.57 seconds\n",
      "simplify 2 @ 1410: 0.12 seconds\n"
     ]
    },
    {
     "name": "stdout",
     "output_type": "stream",
     "text": [
      "aws s3 cp \"/home/yuncong/CSHL_meshes/atlasV6/atlasV6_down32_scoreVolume/atlasV6_down32_scoreVolume_7N_R_surround_200.stl\" \"s3://mousebrainatlas-data/CSHL_meshes/atlasV6/atlasV6_down32_scoreVolume/atlasV6_down32_scoreVolume_7N_R_surround_200.stl\"\n"
     ]
    },
    {
     "name": "stderr",
     "output_type": "stream",
     "text": [
      "marching cube: 0.15 seconds\n",
      "mesh_to_polydata: 0.05 seconds\n",
      "simplify 0 @ 34826: 0.34 seconds\n",
      "simplify 1 @ 6968: 0.36 seconds\n",
      "simplify 2 @ 1396: 0.08 seconds\n"
     ]
    },
    {
     "name": "stdout",
     "output_type": "stream",
     "text": [
      "aws s3 cp \"/home/yuncong/CSHL_meshes/atlasV6/atlasV6_down32_scoreVolume/atlasV6_down32_scoreVolume_7n_L_surround_200.stl\" \"s3://mousebrainatlas-data/CSHL_meshes/atlasV6/atlasV6_down32_scoreVolume/atlasV6_down32_scoreVolume_7n_L_surround_200.stl\"\n"
     ]
    },
    {
     "name": "stderr",
     "output_type": "stream",
     "text": [
      "marching cube: 0.12 seconds\n",
      "mesh_to_polydata: 0.04 seconds\n",
      "simplify 0 @ 34783: 0.29 seconds\n",
      "simplify 1 @ 6959: 0.33 seconds\n",
      "simplify 2 @ 1395: 0.07 seconds\n"
     ]
    },
    {
     "name": "stdout",
     "output_type": "stream",
     "text": [
      "aws s3 cp \"/home/yuncong/CSHL_meshes/atlasV6/atlasV6_down32_scoreVolume/atlasV6_down32_scoreVolume_7n_R_surround_200.stl\" \"s3://mousebrainatlas-data/CSHL_meshes/atlasV6/atlasV6_down32_scoreVolume/atlasV6_down32_scoreVolume_7n_R_surround_200.stl\"\n"
     ]
    },
    {
     "name": "stderr",
     "output_type": "stream",
     "text": [
      "marching cube: 0.02 seconds\n",
      "mesh_to_polydata: 0.01 seconds\n",
      "simplify 0 @ 7600: 0.07 seconds\n",
      "simplify 1 @ 1523: 0.06 seconds\n",
      "simplify 2 @ 307: 0.02 seconds\n"
     ]
    },
    {
     "name": "stdout",
     "output_type": "stream",
     "text": [
      "aws s3 cp \"/home/yuncong/CSHL_meshes/atlasV6/atlasV6_down32_scoreVolume/atlasV6_down32_scoreVolume_Amb_L_surround_200.stl\" \"s3://mousebrainatlas-data/CSHL_meshes/atlasV6/atlasV6_down32_scoreVolume/atlasV6_down32_scoreVolume_Amb_L_surround_200.stl\"\n"
     ]
    },
    {
     "name": "stderr",
     "output_type": "stream",
     "text": [
      "marching cube: 0.01 seconds\n",
      "mesh_to_polydata: 0.01 seconds\n",
      "simplify 0 @ 7589: 0.08 seconds\n",
      "simplify 1 @ 1521: 0.07 seconds\n",
      "simplify 2 @ 307: 0.02 seconds\n"
     ]
    },
    {
     "name": "stdout",
     "output_type": "stream",
     "text": [
      "aws s3 cp \"/home/yuncong/CSHL_meshes/atlasV6/atlasV6_down32_scoreVolume/atlasV6_down32_scoreVolume_Amb_R_surround_200.stl\" \"s3://mousebrainatlas-data/CSHL_meshes/atlasV6/atlasV6_down32_scoreVolume/atlasV6_down32_scoreVolume_Amb_R_surround_200.stl\"\n"
     ]
    },
    {
     "name": "stderr",
     "output_type": "stream",
     "text": [
      "marching cube: 0.03 seconds\n",
      "mesh_to_polydata: 0.02 seconds\n",
      "simplify 0 @ 16381: 0.15 seconds\n",
      "simplify 1 @ 3279: 0.14 seconds\n",
      "simplify 2 @ 659: 0.03 seconds\n"
     ]
    },
    {
     "name": "stdout",
     "output_type": "stream",
     "text": [
      "aws s3 cp \"/home/yuncong/CSHL_meshes/atlasV6/atlasV6_down32_scoreVolume/atlasV6_down32_scoreVolume_LC_L_surround_200.stl\" \"s3://mousebrainatlas-data/CSHL_meshes/atlasV6/atlasV6_down32_scoreVolume/atlasV6_down32_scoreVolume_LC_L_surround_200.stl\"\n"
     ]
    },
    {
     "name": "stderr",
     "output_type": "stream",
     "text": [
      "marching cube: 0.03 seconds\n",
      "mesh_to_polydata: 0.02 seconds\n",
      "simplify 0 @ 16354: 0.15 seconds\n"
     ]
    },
    {
     "name": "stdout",
     "output_type": "stream",
     "text": [
      "aws s3 cp \"/home/yuncong/CSHL_meshes/atlasV6/atlasV6_down32_scoreVolume/atlasV6_down32_scoreVolume_LC_R_surround_200.stl\" \"s3://mousebrainatlas-data/CSHL_meshes/atlasV6/atlasV6_down32_scoreVolume/atlasV6_down32_scoreVolume_LC_R_surround_200.stl\"\n"
     ]
    },
    {
     "name": "stderr",
     "output_type": "stream",
     "text": [
      "simplify 1 @ 3274: 0.14 seconds\n",
      "simplify 2 @ 658: 0.03 seconds\n",
      "marching cube: 0.07 seconds\n",
      "mesh_to_polydata: 0.04 seconds\n",
      "simplify 0 @ 32340: 0.27 seconds\n",
      "simplify 1 @ 6471: 0.29 seconds\n",
      "simplify 2 @ 1297: 0.06 seconds\n"
     ]
    },
    {
     "name": "stdout",
     "output_type": "stream",
     "text": [
      "aws s3 cp \"/home/yuncong/CSHL_meshes/atlasV6/atlasV6_down32_scoreVolume/atlasV6_down32_scoreVolume_LRt_L_surround_200.stl\" \"s3://mousebrainatlas-data/CSHL_meshes/atlasV6/atlasV6_down32_scoreVolume/atlasV6_down32_scoreVolume_LRt_L_surround_200.stl\"\n"
     ]
    },
    {
     "name": "stderr",
     "output_type": "stream",
     "text": [
      "marching cube: 0.08 seconds\n",
      "mesh_to_polydata: 0.04 seconds\n",
      "simplify 0 @ 32508: 0.29 seconds\n",
      "simplify 1 @ 6504: 0.31 seconds\n",
      "simplify 2 @ 1304: 0.07 seconds\n"
     ]
    },
    {
     "name": "stdout",
     "output_type": "stream",
     "text": [
      "aws s3 cp \"/home/yuncong/CSHL_meshes/atlasV6/atlasV6_down32_scoreVolume/atlasV6_down32_scoreVolume_LRt_R_surround_200.stl\" \"s3://mousebrainatlas-data/CSHL_meshes/atlasV6/atlasV6_down32_scoreVolume/atlasV6_down32_scoreVolume_LRt_R_surround_200.stl\"\n"
     ]
    },
    {
     "name": "stderr",
     "output_type": "stream",
     "text": [
      "marching cube: 0.10 seconds\n",
      "mesh_to_polydata: 0.06 seconds\n",
      "simplify 0 @ 47570: 0.51 seconds\n",
      "simplify 1 @ 9517: 0.47 seconds\n",
      "simplify 2 @ 1906: 0.09 seconds\n"
     ]
    },
    {
     "name": "stdout",
     "output_type": "stream",
     "text": [
      "aws s3 cp \"/home/yuncong/CSHL_meshes/atlasV6/atlasV6_down32_scoreVolume/atlasV6_down32_scoreVolume_Pn_L_surround_200.stl\" \"s3://mousebrainatlas-data/CSHL_meshes/atlasV6/atlasV6_down32_scoreVolume/atlasV6_down32_scoreVolume_Pn_L_surround_200.stl\"\n"
     ]
    },
    {
     "name": "stderr",
     "output_type": "stream",
     "text": [
      "marching cube: 0.09 seconds\n",
      "mesh_to_polydata: 0.05 seconds\n",
      "simplify 0 @ 47533: 0.42 seconds\n",
      "simplify 1 @ 9509: 0.48 seconds\n",
      "simplify 2 @ 1905: 0.09 seconds\n"
     ]
    },
    {
     "name": "stdout",
     "output_type": "stream",
     "text": [
      "aws s3 cp \"/home/yuncong/CSHL_meshes/atlasV6/atlasV6_down32_scoreVolume/atlasV6_down32_scoreVolume_Pn_R_surround_200.stl\" \"s3://mousebrainatlas-data/CSHL_meshes/atlasV6/atlasV6_down32_scoreVolume/atlasV6_down32_scoreVolume_Pn_R_surround_200.stl\"\n"
     ]
    },
    {
     "name": "stderr",
     "output_type": "stream",
     "text": [
      "marching cube: 0.04 seconds\n",
      "mesh_to_polydata: 0.02 seconds\n",
      "simplify 0 @ 20103: 0.18 seconds\n",
      "simplify 1 @ 4023: 0.18 seconds\n",
      "simplify 2 @ 807: 0.04 seconds\n"
     ]
    },
    {
     "name": "stdout",
     "output_type": "stream",
     "text": [
      "aws s3 cp \"/home/yuncong/CSHL_meshes/atlasV6/atlasV6_down32_scoreVolume/atlasV6_down32_scoreVolume_Tz_L_surround_200.stl\" \"s3://mousebrainatlas-data/CSHL_meshes/atlasV6/atlasV6_down32_scoreVolume/atlasV6_down32_scoreVolume_Tz_L_surround_200.stl\"\n"
     ]
    },
    {
     "name": "stderr",
     "output_type": "stream",
     "text": [
      "marching cube: 0.08 seconds\n",
      "mesh_to_polydata: 0.05 seconds\n",
      "simplify 0 @ 20073: 0.34 seconds\n",
      "simplify 1 @ 4017: 0.30 seconds\n",
      "simplify 2 @ 806: 0.05 seconds\n"
     ]
    },
    {
     "name": "stdout",
     "output_type": "stream",
     "text": [
      "aws s3 cp \"/home/yuncong/CSHL_meshes/atlasV6/atlasV6_down32_scoreVolume/atlasV6_down32_scoreVolume_Tz_R_surround_200.stl\" \"s3://mousebrainatlas-data/CSHL_meshes/atlasV6/atlasV6_down32_scoreVolume/atlasV6_down32_scoreVolume_Tz_R_surround_200.stl\"\n"
     ]
    },
    {
     "name": "stderr",
     "output_type": "stream",
     "text": [
      "marching cube: 0.12 seconds\n",
      "mesh_to_polydata: 0.05 seconds\n"
     ]
    },
    {
     "name": "stdout",
     "output_type": "stream",
     "text": [
      "aws s3 cp \"/home/yuncong/CSHL_meshes/atlasV6/atlasV6_down32_scoreVolume/atlasV6_down32_scoreVolume_VLL_L_surround_200.stl\" \"s3://mousebrainatlas-data/CSHL_meshes/atlasV6/atlasV6_down32_scoreVolume/atlasV6_down32_scoreVolume_VLL_L_surround_200.stl\"\n"
     ]
    },
    {
     "name": "stderr",
     "output_type": "stream",
     "text": [
      "simplify 0 @ 37958: 0.40 seconds\n",
      "simplify 1 @ 7594: 0.41 seconds\n",
      "simplify 2 @ 1522: 0.08 seconds\n",
      "marching cube: 0.35 seconds\n",
      "mesh_to_polydata: 0.09 seconds\n",
      "simplify 0 @ 38012: 0.68 seconds\n",
      "simplify 1 @ 7605: 0.48 seconds\n",
      "simplify 2 @ 1524: 0.09 seconds\n"
     ]
    },
    {
     "name": "stdout",
     "output_type": "stream",
     "text": [
      "aws s3 cp \"/home/yuncong/CSHL_meshes/atlasV6/atlasV6_down32_scoreVolume/atlasV6_down32_scoreVolume_VLL_R_surround_200.stl\" \"s3://mousebrainatlas-data/CSHL_meshes/atlasV6/atlasV6_down32_scoreVolume/atlasV6_down32_scoreVolume_VLL_R_surround_200.stl\"\n"
     ]
    },
    {
     "name": "stderr",
     "output_type": "stream",
     "text": [
      "marching cube: 0.05 seconds\n",
      "mesh_to_polydata: 0.04 seconds\n",
      "simplify 0 @ 20124: 0.20 seconds\n",
      "simplify 1 @ 4028: 0.21 seconds\n",
      "simplify 2 @ 808: 0.04 seconds\n"
     ]
    },
    {
     "name": "stdout",
     "output_type": "stream",
     "text": [
      "aws s3 cp \"/home/yuncong/CSHL_meshes/atlasV6/atlasV6_down32_scoreVolume/atlasV6_down32_scoreVolume_RMC_L_surround_200.stl\" \"s3://mousebrainatlas-data/CSHL_meshes/atlasV6/atlasV6_down32_scoreVolume/atlasV6_down32_scoreVolume_RMC_L_surround_200.stl\"\n"
     ]
    },
    {
     "name": "stderr",
     "output_type": "stream",
     "text": [
      "marching cube: 0.04 seconds\n",
      "mesh_to_polydata: 0.02 seconds\n",
      "simplify 0 @ 20117: 0.17 seconds\n",
      "simplify 1 @ 4026: 0.18 seconds\n",
      "simplify 2 @ 808: 0.04 seconds\n"
     ]
    },
    {
     "name": "stdout",
     "output_type": "stream",
     "text": [
      "aws s3 cp \"/home/yuncong/CSHL_meshes/atlasV6/atlasV6_down32_scoreVolume/atlasV6_down32_scoreVolume_RMC_R_surround_200.stl\" \"s3://mousebrainatlas-data/CSHL_meshes/atlasV6/atlasV6_down32_scoreVolume/atlasV6_down32_scoreVolume_RMC_R_surround_200.stl\"\n"
     ]
    },
    {
     "name": "stderr",
     "output_type": "stream",
     "text": [
      "marching cube: 0.09 seconds\n",
      "mesh_to_polydata: 0.03 seconds\n",
      "simplify 0 @ 25702: 0.21 seconds\n",
      "simplify 1 @ 5143: 0.27 seconds\n",
      "simplify 2 @ 1031: 0.06 seconds\n"
     ]
    },
    {
     "name": "stdout",
     "output_type": "stream",
     "text": [
      "aws s3 cp \"/home/yuncong/CSHL_meshes/atlasV6/atlasV6_down32_scoreVolume/atlasV6_down32_scoreVolume_SNC_L_surround_200.stl\" \"s3://mousebrainatlas-data/CSHL_meshes/atlasV6/atlasV6_down32_scoreVolume/atlasV6_down32_scoreVolume_SNC_L_surround_200.stl\"\n"
     ]
    },
    {
     "name": "stderr",
     "output_type": "stream",
     "text": [
      "marching cube: 0.06 seconds\n",
      "mesh_to_polydata: 0.03 seconds\n",
      "simplify 0 @ 25717: 0.20 seconds\n",
      "simplify 1 @ 5146: 0.22 seconds\n",
      "simplify 2 @ 1032: 0.05 seconds\n"
     ]
    },
    {
     "name": "stdout",
     "output_type": "stream",
     "text": [
      "aws s3 cp \"/home/yuncong/CSHL_meshes/atlasV6/atlasV6_down32_scoreVolume/atlasV6_down32_scoreVolume_SNC_R_surround_200.stl\" \"s3://mousebrainatlas-data/CSHL_meshes/atlasV6/atlasV6_down32_scoreVolume/atlasV6_down32_scoreVolume_SNC_R_surround_200.stl\"\n"
     ]
    },
    {
     "name": "stderr",
     "output_type": "stream",
     "text": [
      "marching cube: 0.26 seconds\n",
      "mesh_to_polydata: 0.09 seconds\n",
      "simplify 0 @ 74151: 0.78 seconds\n",
      "simplify 1 @ 14833: 0.82 seconds\n",
      "simplify 2 @ 2969: 0.17 seconds\n"
     ]
    },
    {
     "name": "stdout",
     "output_type": "stream",
     "text": [
      "aws s3 cp \"/home/yuncong/CSHL_meshes/atlasV6/atlasV6_down32_scoreVolume/atlasV6_down32_scoreVolume_SNR_L_surround_200.stl\" \"s3://mousebrainatlas-data/CSHL_meshes/atlasV6/atlasV6_down32_scoreVolume/atlasV6_down32_scoreVolume_SNR_L_surround_200.stl\"\n"
     ]
    },
    {
     "name": "stderr",
     "output_type": "stream",
     "text": [
      "marching cube: 0.19 seconds\n",
      "mesh_to_polydata: 0.08 seconds\n",
      "simplify 0 @ 74168: 0.62 seconds\n",
      "simplify 1 @ 14836: 0.71 seconds\n",
      "simplify 2 @ 2970: 0.16 seconds\n"
     ]
    },
    {
     "name": "stdout",
     "output_type": "stream",
     "text": [
      "aws s3 cp \"/home/yuncong/CSHL_meshes/atlasV6/atlasV6_down32_scoreVolume/atlasV6_down32_scoreVolume_SNR_R_surround_200.stl\" \"s3://mousebrainatlas-data/CSHL_meshes/atlasV6/atlasV6_down32_scoreVolume/atlasV6_down32_scoreVolume_SNR_R_surround_200.stl\"\n"
     ]
    },
    {
     "name": "stderr",
     "output_type": "stream",
     "text": [
      "marching cube: 0.03 seconds\n",
      "mesh_to_polydata: 0.02 seconds\n",
      "simplify 0 @ 11818: 0.15 seconds\n",
      "simplify 1 @ 2366: 0.11 seconds\n",
      "simplify 2 @ 476: 0.02 seconds\n"
     ]
    },
    {
     "name": "stdout",
     "output_type": "stream",
     "text": [
      "aws s3 cp \"/home/yuncong/CSHL_meshes/atlasV6/atlasV6_down32_scoreVolume/atlasV6_down32_scoreVolume_3N_L_surround_200.stl\" \"s3://mousebrainatlas-data/CSHL_meshes/atlasV6/atlasV6_down32_scoreVolume/atlasV6_down32_scoreVolume_3N_L_surround_200.stl\"\n"
     ]
    },
    {
     "name": "stderr",
     "output_type": "stream",
     "text": [
      "marching cube: 0.05 seconds\n",
      "mesh_to_polydata: 0.03 seconds\n",
      "simplify 0 @ 11830: 0.26 seconds\n",
      "simplify 1 @ 2369: 0.20 seconds\n",
      "simplify 2 @ 477: 0.04 seconds\n"
     ]
    },
    {
     "name": "stdout",
     "output_type": "stream",
     "text": [
      "aws s3 cp \"/home/yuncong/CSHL_meshes/atlasV6/atlasV6_down32_scoreVolume/atlasV6_down32_scoreVolume_3N_R_surround_200.stl\" \"s3://mousebrainatlas-data/CSHL_meshes/atlasV6/atlasV6_down32_scoreVolume/atlasV6_down32_scoreVolume_3N_R_surround_200.stl\"\n"
     ]
    },
    {
     "name": "stderr",
     "output_type": "stream",
     "text": [
      "marching cube: 0.02 seconds\n",
      "mesh_to_polydata: 0.02 seconds\n",
      "simplify 0 @ 5686: 0.09 seconds\n",
      "simplify 1 @ 1140: 0.08 seconds\n"
     ]
    },
    {
     "name": "stdout",
     "output_type": "stream",
     "text": [
      "aws s3 cp \"/home/yuncong/CSHL_meshes/atlasV6/atlasV6_down32_scoreVolume/atlasV6_down32_scoreVolume_4N_L_surround_200.stl\" \"s3://mousebrainatlas-data/CSHL_meshes/atlasV6/atlasV6_down32_scoreVolume/atlasV6_down32_scoreVolume_4N_L_surround_200.stl\"\n"
     ]
    },
    {
     "name": "stderr",
     "output_type": "stream",
     "text": [
      "simplify 2 @ 231: 0.02 seconds\n",
      "marching cube: 0.02 seconds\n",
      "mesh_to_polydata: 0.01 seconds\n",
      "simplify 0 @ 5695: 0.06 seconds\n",
      "simplify 1 @ 1142: 0.05 seconds\n",
      "simplify 2 @ 231: 0.01 seconds\n"
     ]
    },
    {
     "name": "stdout",
     "output_type": "stream",
     "text": [
      "aws s3 cp \"/home/yuncong/CSHL_meshes/atlasV6/atlasV6_down32_scoreVolume/atlasV6_down32_scoreVolume_4N_R_surround_200.stl\" \"s3://mousebrainatlas-data/CSHL_meshes/atlasV6/atlasV6_down32_scoreVolume/atlasV6_down32_scoreVolume_4N_R_surround_200.stl\"\n"
     ]
    },
    {
     "name": "stderr",
     "output_type": "stream",
     "text": [
      "marching cube: 0.08 seconds\n",
      "mesh_to_polydata: 0.04 seconds\n",
      "simplify 0 @ 29397: 0.39 seconds\n",
      "simplify 1 @ 5882: 0.48 seconds\n",
      "simplify 2 @ 1179: 0.10 seconds\n"
     ]
    },
    {
     "name": "stdout",
     "output_type": "stream",
     "text": [
      "aws s3 cp \"/home/yuncong/CSHL_meshes/atlasV6/atlasV6_down32_scoreVolume/atlasV6_down32_scoreVolume_Sp5I_L_surround_200.stl\" \"s3://mousebrainatlas-data/CSHL_meshes/atlasV6/atlasV6_down32_scoreVolume/atlasV6_down32_scoreVolume_Sp5I_L_surround_200.stl\"\n"
     ]
    },
    {
     "name": "stderr",
     "output_type": "stream",
     "text": [
      "marching cube: 0.08 seconds\n",
      "mesh_to_polydata: 0.04 seconds\n",
      "simplify 0 @ 29344: 0.37 seconds\n",
      "simplify 1 @ 5872: 0.31 seconds\n",
      "simplify 2 @ 1177: 0.06 seconds\n"
     ]
    },
    {
     "name": "stdout",
     "output_type": "stream",
     "text": [
      "aws s3 cp \"/home/yuncong/CSHL_meshes/atlasV6/atlasV6_down32_scoreVolume/atlasV6_down32_scoreVolume_Sp5I_R_surround_200.stl\" \"s3://mousebrainatlas-data/CSHL_meshes/atlasV6/atlasV6_down32_scoreVolume/atlasV6_down32_scoreVolume_Sp5I_R_surround_200.stl\"\n"
     ]
    },
    {
     "name": "stderr",
     "output_type": "stream",
     "text": [
      "marching cube: 0.10 seconds\n",
      "mesh_to_polydata: 0.06 seconds\n",
      "simplify 0 @ 34383: 0.54 seconds\n",
      "simplify 1 @ 6879: 0.35 seconds\n",
      "simplify 2 @ 1379: 0.07 seconds\n"
     ]
    },
    {
     "name": "stdout",
     "output_type": "stream",
     "text": [
      "aws s3 cp \"/home/yuncong/CSHL_meshes/atlasV6/atlasV6_down32_scoreVolume/atlasV6_down32_scoreVolume_Sp5O_L_surround_200.stl\" \"s3://mousebrainatlas-data/CSHL_meshes/atlasV6/atlasV6_down32_scoreVolume/atlasV6_down32_scoreVolume_Sp5O_L_surround_200.stl\"\n"
     ]
    },
    {
     "name": "stderr",
     "output_type": "stream",
     "text": [
      "marching cube: 0.09 seconds\n",
      "mesh_to_polydata: 0.06 seconds\n",
      "simplify 0 @ 34409: 0.50 seconds\n",
      "simplify 1 @ 6885: 0.34 seconds\n",
      "simplify 2 @ 1380: 0.07 seconds\n"
     ]
    },
    {
     "name": "stdout",
     "output_type": "stream",
     "text": [
      "aws s3 cp \"/home/yuncong/CSHL_meshes/atlasV6/atlasV6_down32_scoreVolume/atlasV6_down32_scoreVolume_Sp5O_R_surround_200.stl\" \"s3://mousebrainatlas-data/CSHL_meshes/atlasV6/atlasV6_down32_scoreVolume/atlasV6_down32_scoreVolume_Sp5O_R_surround_200.stl\"\n"
     ]
    },
    {
     "name": "stderr",
     "output_type": "stream",
     "text": [
      "marching cube: 0.24 seconds\n",
      "mesh_to_polydata: 0.10 seconds\n",
      "simplify 0 @ 78061: 0.72 seconds\n",
      "simplify 1 @ 15615: 0.89 seconds\n",
      "simplify 2 @ 3126: 0.18 seconds\n"
     ]
    },
    {
     "name": "stdout",
     "output_type": "stream",
     "text": [
      "aws s3 cp \"/home/yuncong/CSHL_meshes/atlasV6/atlasV6_down32_scoreVolume/atlasV6_down32_scoreVolume_Sp5C_L_surround_200.stl\" \"s3://mousebrainatlas-data/CSHL_meshes/atlasV6/atlasV6_down32_scoreVolume/atlasV6_down32_scoreVolume_Sp5C_L_surround_200.stl\"\n"
     ]
    },
    {
     "name": "stderr",
     "output_type": "stream",
     "text": [
      "marching cube: 0.24 seconds\n",
      "mesh_to_polydata: 0.10 seconds\n",
      "simplify 0 @ 77988: 0.73 seconds\n",
      "simplify 1 @ 15600: 0.94 seconds\n",
      "simplify 2 @ 3123: 0.19 seconds\n"
     ]
    },
    {
     "name": "stdout",
     "output_type": "stream",
     "text": [
      "aws s3 cp \"/home/yuncong/CSHL_meshes/atlasV6/atlasV6_down32_scoreVolume/atlasV6_down32_scoreVolume_Sp5C_R_surround_200.stl\" \"s3://mousebrainatlas-data/CSHL_meshes/atlasV6/atlasV6_down32_scoreVolume/atlasV6_down32_scoreVolume_Sp5C_R_surround_200.stl\"\n"
     ]
    },
    {
     "name": "stderr",
     "output_type": "stream",
     "text": [
      "marching cube: 0.02 seconds\n",
      "mesh_to_polydata: 0.01 seconds\n",
      "simplify 0 @ 11099: 0.09 seconds\n",
      "simplify 1 @ 2223: 0.09 seconds\n",
      "simplify 2 @ 447: 0.02 seconds\n"
     ]
    },
    {
     "name": "stdout",
     "output_type": "stream",
     "text": [
      "aws s3 cp \"/home/yuncong/CSHL_meshes/atlasV6/atlasV6_down32_scoreVolume/atlasV6_down32_scoreVolume_PBG_L_surround_200.stl\" \"s3://mousebrainatlas-data/CSHL_meshes/atlasV6/atlasV6_down32_scoreVolume/atlasV6_down32_scoreVolume_PBG_L_surround_200.stl\"\n"
     ]
    },
    {
     "name": "stderr",
     "output_type": "stream",
     "text": [
      "marching cube: 0.02 seconds\n",
      "mesh_to_polydata: 0.01 seconds\n",
      "simplify 0 @ 11114: 0.10 seconds\n",
      "simplify 1 @ 2226: 0.10 seconds\n",
      "simplify 2 @ 448: 0.02 seconds\n"
     ]
    },
    {
     "name": "stdout",
     "output_type": "stream",
     "text": [
      "aws s3 cp \"/home/yuncong/CSHL_meshes/atlasV6/atlasV6_down32_scoreVolume/atlasV6_down32_scoreVolume_PBG_R_surround_200.stl\" \"s3://mousebrainatlas-data/CSHL_meshes/atlasV6/atlasV6_down32_scoreVolume/atlasV6_down32_scoreVolume_PBG_R_surround_200.stl\"\n"
     ]
    },
    {
     "name": "stderr",
     "output_type": "stream",
     "text": [
      "marching cube: 0.05 seconds\n",
      "mesh_to_polydata: 0.03 seconds\n",
      "simplify 0 @ 18883: 0.18 seconds\n",
      "simplify 1 @ 3779: 0.21 seconds\n",
      "simplify 2 @ 759: 0.04 seconds\n"
     ]
    },
    {
     "name": "stdout",
     "output_type": "stream",
     "text": [
      "aws s3 cp \"/home/yuncong/CSHL_meshes/atlasV6/atlasV6_down32_scoreVolume/atlasV6_down32_scoreVolume_10N_L_surround_200.stl\" \"s3://mousebrainatlas-data/CSHL_meshes/atlasV6/atlasV6_down32_scoreVolume/atlasV6_down32_scoreVolume_10N_L_surround_200.stl\"\n"
     ]
    },
    {
     "name": "stderr",
     "output_type": "stream",
     "text": [
      "marching cube: 0.05 seconds\n",
      "mesh_to_polydata: 0.02 seconds\n",
      "simplify 0 @ 18888: 0.15 seconds\n",
      "simplify 1 @ 3780: 0.17 seconds\n",
      "simplify 2 @ 759: 0.04 seconds\n"
     ]
    },
    {
     "name": "stdout",
     "output_type": "stream",
     "text": [
      "aws s3 cp \"/home/yuncong/CSHL_meshes/atlasV6/atlasV6_down32_scoreVolume/atlasV6_down32_scoreVolume_10N_R_surround_200.stl\" \"s3://mousebrainatlas-data/CSHL_meshes/atlasV6/atlasV6_down32_scoreVolume/atlasV6_down32_scoreVolume_10N_R_surround_200.stl\"\n"
     ]
    },
    {
     "name": "stderr",
     "output_type": "stream",
     "text": [
      "marching cube: 0.09 seconds\n",
      "mesh_to_polydata: 0.05 seconds\n",
      "simplify 0 @ 41873: 0.37 seconds\n",
      "simplify 1 @ 8377: 0.45 seconds\n",
      "simplify 2 @ 1678: 0.09 seconds\n"
     ]
    },
    {
     "name": "stdout",
     "output_type": "stream",
     "text": [
      "aws s3 cp \"/home/yuncong/CSHL_meshes/atlasV6/atlasV6_down32_scoreVolume/atlasV6_down32_scoreVolume_VCA_L_surround_200.stl\" \"s3://mousebrainatlas-data/CSHL_meshes/atlasV6/atlasV6_down32_scoreVolume/atlasV6_down32_scoreVolume_VCA_L_surround_200.stl\"\n"
     ]
    },
    {
     "name": "stderr",
     "output_type": "stream",
     "text": [
      "marching cube: 0.10 seconds\n",
      "mesh_to_polydata: 0.05 seconds\n",
      "simplify 0 @ 41871: 0.57 seconds\n",
      "simplify 1 @ 8377: 0.85 seconds\n",
      "simplify 2 @ 1678: 0.19 seconds\n"
     ]
    },
    {
     "name": "stdout",
     "output_type": "stream",
     "text": [
      "aws s3 cp \"/home/yuncong/CSHL_meshes/atlasV6/atlasV6_down32_scoreVolume/atlasV6_down32_scoreVolume_VCA_R_surround_200.stl\" \"s3://mousebrainatlas-data/CSHL_meshes/atlasV6/atlasV6_down32_scoreVolume/atlasV6_down32_scoreVolume_VCA_R_surround_200.stl\"\n"
     ]
    },
    {
     "name": "stderr",
     "output_type": "stream",
     "text": [
      "marching cube: 0.11 seconds\n",
      "mesh_to_polydata: 0.06 seconds\n",
      "simplify 0 @ 25050: 0.38 seconds\n",
      "simplify 1 @ 5013: 0.39 seconds\n",
      "simplify 2 @ 1005: 0.09 seconds\n"
     ]
    },
    {
     "name": "stdout",
     "output_type": "stream",
     "text": [
      "aws s3 cp \"/home/yuncong/CSHL_meshes/atlasV6/atlasV6_down32_scoreVolume/atlasV6_down32_scoreVolume_VCP_L_surround_200.stl\" \"s3://mousebrainatlas-data/CSHL_meshes/atlasV6/atlasV6_down32_scoreVolume/atlasV6_down32_scoreVolume_VCP_L_surround_200.stl\"\n"
     ]
    },
    {
     "name": "stderr",
     "output_type": "stream",
     "text": [
      "marching cube: 0.06 seconds\n",
      "mesh_to_polydata: 0.03 seconds\n",
      "simplify 0 @ 25045: 0.23 seconds\n",
      "simplify 1 @ 5012: 0.25 seconds\n",
      "simplify 2 @ 1005: 0.05 seconds\n"
     ]
    },
    {
     "name": "stdout",
     "output_type": "stream",
     "text": [
      "aws s3 cp \"/home/yuncong/CSHL_meshes/atlasV6/atlasV6_down32_scoreVolume/atlasV6_down32_scoreVolume_VCP_R_surround_200.stl\" \"s3://mousebrainatlas-data/CSHL_meshes/atlasV6/atlasV6_down32_scoreVolume/atlasV6_down32_scoreVolume_VCP_R_surround_200.stl\"\n"
     ]
    },
    {
     "name": "stderr",
     "output_type": "stream",
     "text": [
      "marching cube: 0.08 seconds\n",
      "mesh_to_polydata: 0.04 seconds\n",
      "simplify 0 @ 38251: 0.31 seconds\n",
      "simplify 1 @ 7653: 0.37 seconds\n",
      "simplify 2 @ 1533: 0.08 seconds\n"
     ]
    },
    {
     "name": "stdout",
     "output_type": "stream",
     "text": [
      "aws s3 cp \"/home/yuncong/CSHL_meshes/atlasV6/atlasV6_down32_scoreVolume/atlasV6_down32_scoreVolume_DC_L_surround_200.stl\" \"s3://mousebrainatlas-data/CSHL_meshes/atlasV6/atlasV6_down32_scoreVolume/atlasV6_down32_scoreVolume_DC_L_surround_200.stl\"\n"
     ]
    },
    {
     "name": "stderr",
     "output_type": "stream",
     "text": [
      "marching cube: 0.08 seconds\n",
      "mesh_to_polydata: 0.04 seconds\n",
      "simplify 0 @ 38163: 0.32 seconds\n",
      "simplify 1 @ 7635: 0.39 seconds\n",
      "simplify 2 @ 1530: 0.08 seconds\n"
     ]
    },
    {
     "name": "stdout",
     "output_type": "stream",
     "text": [
      "aws s3 cp \"/home/yuncong/CSHL_meshes/atlasV6/atlasV6_down32_scoreVolume/atlasV6_down32_scoreVolume_DC_R_surround_200.stl\" \"s3://mousebrainatlas-data/CSHL_meshes/atlasV6/atlasV6_down32_scoreVolume/atlasV6_down32_scoreVolume_DC_R_surround_200.stl\"\n"
     ]
    },
    {
     "name": "stderr",
     "output_type": "stream",
     "text": [
      "marching cube: 0.02 seconds\n",
      "mesh_to_polydata: 0.02 seconds\n",
      "simplify 0 @ 12331: 0.13 seconds\n",
      "simplify 1 @ 2469: 0.11 seconds\n",
      "simplify 2 @ 497: 0.02 seconds\n"
     ]
    },
    {
     "name": "stdout",
     "output_type": "stream",
     "text": [
      "aws s3 cp \"/home/yuncong/CSHL_meshes/atlasV6/atlasV6_down32_scoreVolume/atlasV6_down32_scoreVolume_AP_surround_200.stl\" \"s3://mousebrainatlas-data/CSHL_meshes/atlasV6/atlasV6_down32_scoreVolume/atlasV6_down32_scoreVolume_AP_surround_200.stl\"\n"
     ]
    },
    {
     "name": "stderr",
     "output_type": "stream",
     "text": [
      "marching cube: 0.17 seconds\n",
      "mesh_to_polydata: 0.10 seconds\n",
      "simplify 0 @ 37409: 0.72 seconds\n",
      "simplify 1 @ 7485: 0.72 seconds\n",
      "simplify 2 @ 1500: 0.14 seconds\n"
     ]
    },
    {
     "name": "stdout",
     "output_type": "stream",
     "text": [
      "aws s3 cp \"/home/yuncong/CSHL_meshes/atlasV6/atlasV6_down32_scoreVolume/atlasV6_down32_scoreVolume_12N_surround_200.stl\" \"s3://mousebrainatlas-data/CSHL_meshes/atlasV6/atlasV6_down32_scoreVolume/atlasV6_down32_scoreVolume_12N_surround_200.stl\"\n"
     ]
    },
    {
     "name": "stderr",
     "output_type": "stream",
     "text": [
      "marching cube: 0.26 seconds\n",
      "mesh_to_polydata: 0.14 seconds\n",
      "simplify 0 @ 63271: 0.77 seconds\n",
      "simplify 1 @ 12657: 0.72 seconds\n",
      "simplify 2 @ 2534: 0.15 seconds\n"
     ]
    },
    {
     "name": "stdout",
     "output_type": "stream",
     "text": [
      "aws s3 cp \"/home/yuncong/CSHL_meshes/atlasV6/atlasV6_down32_scoreVolume/atlasV6_down32_scoreVolume_RtTg_surround_200.stl\" \"s3://mousebrainatlas-data/CSHL_meshes/atlasV6/atlasV6_down32_scoreVolume/atlasV6_down32_scoreVolume_RtTg_surround_200.stl\"\n"
     ]
    },
    {
     "name": "stderr",
     "output_type": "stream",
     "text": [
      "marching cube: 0.74 seconds\n",
      "mesh_to_polydata: 0.30 seconds\n",
      "simplify 0 @ 248709: 2.29 seconds\n"
     ]
    },
    {
     "name": "stdout",
     "output_type": "stream",
     "text": [
      "aws s3 cp \"/home/yuncong/CSHL_meshes/atlasV6/atlasV6_down32_scoreVolume/atlasV6_down32_scoreVolume_SC_surround_200.stl\" \"s3://mousebrainatlas-data/CSHL_meshes/atlasV6/atlasV6_down32_scoreVolume/atlasV6_down32_scoreVolume_SC_surround_200.stl\"\n"
     ]
    },
    {
     "name": "stderr",
     "output_type": "stream",
     "text": [
      "simplify 1 @ 49745: 3.24 seconds\n",
      "simplify 2 @ 9952: 0.70 seconds\n",
      "marching cube: 0.54 seconds\n",
      "mesh_to_polydata: 0.24 seconds\n",
      "simplify 0 @ 199294: 2.06 seconds\n",
      "simplify 1 @ 39862: 2.25 seconds\n",
      "simplify 2 @ 7975: 0.47 seconds\n"
     ]
    },
    {
     "name": "stdout",
     "output_type": "stream",
     "text": [
      "aws s3 cp \"/home/yuncong/CSHL_meshes/atlasV6/atlasV6_down32_scoreVolume/atlasV6_down32_scoreVolume_IC_surround_200.stl\" \"s3://mousebrainatlas-data/CSHL_meshes/atlasV6/atlasV6_down32_scoreVolume/atlasV6_down32_scoreVolume_IC_surround_200.stl\"\n"
     ]
    }
   ],
   "source": [
    "structure_meshes_surround_rel2canon = {}\n",
    "\n",
    "for name_s in all_known_structures_sided:\n",
    "# for name_s in ['7N_L']:\n",
    "    \n",
    "    try:\n",
    "        surr_name = convert_to_surround_name(name_s, margin=surround_distance_um)\n",
    "        surround_vol = DataManager.load_original_volume(stack=atlas_name, structure=surr_name, downscale=32)\n",
    "        \n",
    "#         if name_s in singular_structures:\n",
    "#             surround_vol = symmetricalize_volume(surround_vol)\n",
    "        \n",
    "        surround_vol_bbox_rel2atlas = np.array(bbox_3d(surround_vol))\n",
    "        surround_vol_inbbox = crop_and_pad_volume(surround_vol, out_bbox=surround_vol_bbox_rel2atlas)\n",
    "\n",
    "        polydata_rel2canon = \\\n",
    "        volume_to_polydata(surround_vol_inbbox, \n",
    "                           origin=(surround_vol_bbox_rel2atlas[[0,2,4]]+atlas_volume_bbox_rel2uncropped[[0,2,4]]-canonical_centroid_rel2uncropped),\n",
    "                           num_simplify_iter=3, smooth=True)\n",
    "        \n",
    "        structure_meshes_surround_rel2canon[name_s] = polydata_rel2canon\n",
    "        \n",
    "        mesh_fp = DataManager.get_mesh_filepath(stack_m=atlas_name, structure=surr_name)\n",
    "        save_mesh(polydata_rel2canon, mesh_fp)\n",
    "        upload_to_s3(mesh_fp)\n",
    "    \n",
    "    except Exception as e:\n",
    "        sys.stderr.write('Error generating mesh for %s : %s\\n' % (name_s, str(e)))        "
   ]
  },
  {
   "cell_type": "markdown",
   "metadata": {},
   "source": [
    "# Load surround meshes"
   ]
  },
  {
   "cell_type": "code",
   "execution_count": 9,
   "metadata": {
    "collapsed": true
   },
   "outputs": [],
   "source": [
    "structure_meshes_surround_rel2canon = {}\n",
    "\n",
    "for name_s in all_known_structures_sided:\n",
    "# for name_s in ['7N_L']:\n",
    "    \n",
    "    try:\n",
    "        surr_name = convert_to_surround_name(name_s, margin=200)\n",
    "        mesh_fp = DataManager.get_mesh_filepath(stack_m=atlas_name, structure=surr_name)\n",
    "        download_from_s3(mesh_fp)\n",
    "        structure_meshes_surround_rel2canon[name_s] = load_mesh_stl(mesh_fp, return_polydata_only=True)\n",
    "    \n",
    "    except Exception as e:\n",
    "        sys.stderr.write('Error generating mesh for %s : %s\\n' % (name_s, str(e)))        "
   ]
  },
  {
   "cell_type": "markdown",
   "metadata": {},
   "source": [
    "# Load"
   ]
  },
  {
   "cell_type": "code",
   "execution_count": 6,
   "metadata": {
    "collapsed": true
   },
   "outputs": [],
   "source": [
    "# Load shell\n",
    "\n",
    "stack_fixed = 'MD589'\n",
    "shell_polydata_rel2uncropped = DataManager.load_shell_mesh(stack=stack_fixed, downscale=32)\n",
    "shell_actor_rel2canon = actor_mesh(shell_polydata_rel2uncropped, (1,1,1), opacity=.15, \n",
    "                              wireframe=False, origin=-canonical_centroid_rel2uncropped)"
   ]
  },
  {
   "cell_type": "code",
   "execution_count": 7,
   "metadata": {
    "collapsed": true
   },
   "outputs": [],
   "source": [
    "# atlas_volume, structure_to_label, label_to_structure = \\\n",
    "# DataManager.load_original_volume_all_known_structures(stack=atlas_name, sided=True)"
   ]
  },
  {
   "cell_type": "code",
   "execution_count": 10,
   "metadata": {
    "collapsed": true
   },
   "outputs": [],
   "source": [
    "structure_mesh_surround_actors_rel2canon = [actor_mesh(polydata, \n",
    "#                                                        np.array(name_unsided_to_color[convert_to_original_name(name_s)])/255.,\n",
    "                                                       np.array((0,0,1)),\n",
    "                                             wireframe=False, opacity=.5) \n",
    "                                   for name_s, polydata in structure_meshes_surround_rel2canon.iteritems()]"
   ]
  },
  {
   "cell_type": "code",
   "execution_count": 137,
   "metadata": {
    "collapsed": true
   },
   "outputs": [],
   "source": [
    "structure_mesh_actors_rel2canon = [actor_mesh(polydata, \n",
    "                                              np.array(name_unsided_to_color[convert_to_original_name(name_s)])/255.,\n",
    "#                                               np.array((1,0,0)),\n",
    "                                             wireframe=False) \n",
    "                                   for name_s, polydata in structure_meshes_rel2canon.iteritems()]"
   ]
  },
  {
   "cell_type": "code",
   "execution_count": 93,
   "metadata": {
    "collapsed": true
   },
   "outputs": [],
   "source": [
    "vol, origin_rel2canon = structure_vol_origin_dicts_rel2canon['7N_L']\n",
    "\n",
    "one_structure_volume_actor_rel2canon = actor_volume(vol.astype(np.float32), what='score', \n",
    "                                              origin=origin_rel2canon,\n",
    "                                                    auxdata=0.8*(vol>0.1).astype(np.float32),\n",
    "                                              c=np.array(name_unsided_to_color['7N'])/255.)\n",
    "#                                             c=np.array((1,0,0)))"
   ]
  },
  {
   "cell_type": "code",
   "execution_count": 62,
   "metadata": {
    "collapsed": true
   },
   "outputs": [],
   "source": [
    "# vol, origin_rel2canon = shell_vol_origin_dict_rel2canon['shell']\n",
    "\n",
    "# shell_volume_actor_rel2canon = actor_volume(vol.astype(np.float32), what='probability', \n",
    "#                                               origin=origin_rel2canon,\n",
    "# #                                               c=np.array(name_unsided_to_color['7N'])/255.)\n",
    "#                                             c=np.array((1,0,0)))"
   ]
  },
  {
   "cell_type": "markdown",
   "metadata": {},
   "source": [
    "# Render"
   ]
  },
  {
   "cell_type": "code",
   "execution_count": 141,
   "metadata": {
    "collapsed": true
   },
   "outputs": [],
   "source": [
    "launch_vtk([] \\\n",
    "    + structure_mesh_actors_rel2canon \\\n",
    "#     + [one_structure_volume_actor_rel2canon] \\\n",
    "#     + [shell_volume_actor_rel2canon] \\\n",
    "#     + structure_mesh_surround_actors_rel2canon \\\n",
    "    + [shell_actor_rel2canon] \\\n",
    "    + [actor_sphere((0,0,0), radius=1)], \n",
    "           init_angle='sagittal', \n",
    "    background_color=(1,1,1),\n",
    "depth_peeling=True)"
   ]
  }
 ],
 "metadata": {
  "kernelspec": {
   "display_name": "Python 2",
   "language": "python",
   "name": "python2"
  },
  "language_info": {
   "codemirror_mode": {
    "name": "ipython",
    "version": 2
   },
   "file_extension": ".py",
   "mimetype": "text/x-python",
   "name": "python",
   "nbconvert_exporter": "python",
   "pygments_lexer": "ipython2",
   "version": "2.7.12"
  }
 },
 "nbformat": 4,
 "nbformat_minor": 2
}
