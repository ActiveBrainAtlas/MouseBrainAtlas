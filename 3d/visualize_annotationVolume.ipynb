{
 "cells": [
  {
   "cell_type": "code",
   "execution_count": 1,
   "metadata": {
    "collapsed": false
   },
   "outputs": [
    {
     "name": "stdout",
     "output_type": "stream",
     "text": [
      "Setting environment for Local Macbook Pro\n"
     ]
    },
    {
     "name": "stderr",
     "output_type": "stream",
     "text": [
      "/usr/lib/python2.7/dist-packages/pkg_resources.py:1031: UserWarning: /home/yuncong/.python-eggs is writable by group/others and vulnerable to attack when used with get_resource_filename. Consider a more secure location (set with .set_extraction_path or the PYTHON_EGG_CACHE environment variable).\n",
      "  warnings.warn(msg, UserWarning)\n"
     ]
    }
   ],
   "source": [
    "%reload_ext autoreload\n",
    "%autoreload 2\n",
    "\n",
    "import vtk\n",
    "from vtk.util import numpy_support\n",
    "\n",
    "import numpy as np\n",
    "import bloscpack as bp\n",
    "\n",
    "import sys\n",
    "import os\n",
    "sys.path.append(os.path.join(os.environ['REPO_DIR'], 'utilities'))\n",
    "from utilities2015 import *\n",
    "from annotation_utilities import *\n",
    "from metadata import *\n",
    "\n",
    "import time\n",
    "\n",
    "import matplotlib.pyplot as plt\n",
    "%matplotlib inline\n",
    "\n",
    "from vis3d_utilities import *"
   ]
  },
  {
   "cell_type": "code",
   "execution_count": 2,
   "metadata": {
    "collapsed": true
   },
   "outputs": [],
   "source": [
    "with open('colors.txt', 'r') as f:\n",
    "    colors = {l[0]: np.r_[float(l[1]), float(l[2]), float(l[3])] for l in map(lambda x: x.split(), f.readlines())}"
   ]
  },
  {
   "cell_type": "code",
   "execution_count": 18,
   "metadata": {
    "collapsed": true
   },
   "outputs": [],
   "source": [
    "stack = 'MD585'"
   ]
  },
  {
   "cell_type": "code",
   "execution_count": 19,
   "metadata": {
    "collapsed": false
   },
   "outputs": [],
   "source": [
    "volume = bp.unpack_ndarray_file(os.path.join(volume_dir, '%(stack)s/%(stack)s_annotationVolume.bp' % {'stack':stack})).astype(np.int8)\n",
    "# atlasProjected_volume = fill_sparse_volume(volume_sparse)\n",
    "# del volume_sparse"
   ]
  },
  {
   "cell_type": "code",
   "execution_count": 20,
   "metadata": {
    "collapsed": true
   },
   "outputs": [],
   "source": [
    "all_indices = set(np.unique(volume))-{0}"
   ]
  },
  {
   "cell_type": "code",
   "execution_count": 7,
   "metadata": {
    "collapsed": false
   },
   "outputs": [],
   "source": [
    "# volume_landmark_bboxes = {labels_sided[i-1]: bbox_3d(volume == i) for i in all_indices}"
   ]
  },
  {
   "cell_type": "code",
   "execution_count": 21,
   "metadata": {
    "collapsed": false,
    "scrolled": true
   },
   "outputs": [
    {
     "name": "stdout",
     "output_type": "stream",
     "text": [
      "12N\n",
      "area: 61539.83"
     ]
    },
    {
     "name": "stderr",
     "output_type": "stream",
     "text": [
      "marching cube: 0.23 seconds\n",
      "compute surface area: 0.02 seconds\n",
      "fill point array: 0.08 seconds\n",
      "fill cell array: 0.00 seconds\n",
      "mesh_to_polydata: 0.09 seconds\n",
      "simplify 0 @ 57648: 0.69 seconds\n",
      "simplify 1 @ 11531: 0.54 seconds\n",
      "simplify 2 @ 2307: 0.13 seconds\n"
     ]
    },
    {
     "name": "stdout",
     "output_type": "stream",
     "text": [
      "\n",
      "5N_L"
     ]
    },
    {
     "name": "stderr",
     "output_type": "stream",
     "text": [
      "time: 1.71\n",
      "marching cube: 0.13 seconds\n"
     ]
    },
    {
     "name": "stdout",
     "output_type": "stream",
     "text": [
      "\n",
      "area: 59513.70"
     ]
    },
    {
     "name": "stderr",
     "output_type": "stream",
     "text": [
      "compute surface area: 0.02 seconds\n",
      "fill point array: 0.10 seconds\n",
      "fill cell array: 0.00 seconds\n",
      "mesh_to_polydata: 0.10 seconds\n",
      "simplify 0 @ 34372: 1.06 seconds\n",
      "simplify 1 @ 6873: 0.28 seconds\n",
      "simplify 2 @ 1375: 0.06 seconds\n"
     ]
    },
    {
     "name": "stdout",
     "output_type": "stream",
     "text": [
      "\n",
      "5N_R"
     ]
    },
    {
     "name": "stderr",
     "output_type": "stream",
     "text": [
      "time: 1.65\n",
      "marching cube: 0.15 seconds\n"
     ]
    },
    {
     "name": "stdout",
     "output_type": "stream",
     "text": [
      "\n",
      "area: 67169.90"
     ]
    },
    {
     "name": "stderr",
     "output_type": "stream",
     "text": [
      "compute surface area: 0.04 seconds\n",
      "fill point array: 0.08 seconds\n",
      "fill cell array: 0.00 seconds\n",
      "mesh_to_polydata: 0.08 seconds\n",
      "simplify 0 @ 38115: 0.82 seconds\n",
      "simplify 1 @ 7623: 0.34 seconds\n",
      "simplify 2 @ 1524: 0.07 seconds\n"
     ]
    },
    {
     "name": "stdout",
     "output_type": "stream",
     "text": [
      "\n",
      "6N_L"
     ]
    },
    {
     "name": "stderr",
     "output_type": "stream",
     "text": [
      "time: 1.50\n",
      "marching cube: 0.01 seconds\n"
     ]
    },
    {
     "name": "stdout",
     "output_type": "stream",
     "text": [
      "\n",
      "area: 4372.09"
     ]
    },
    {
     "name": "stderr",
     "output_type": "stream",
     "text": [
      "compute surface area: 0.00 seconds\n",
      "fill point array: 0.01 seconds\n",
      "fill cell array: 0.00 seconds\n",
      "mesh_to_polydata: 0.01 seconds\n",
      "simplify 0 @ 3888: 0.04 seconds\n",
      "simplify 1 @ 779: 0.02 seconds\n"
     ]
    },
    {
     "name": "stdout",
     "output_type": "stream",
     "text": [
      "\n",
      "6N_R"
     ]
    },
    {
     "name": "stderr",
     "output_type": "stream",
     "text": [
      "time: 0.09\n",
      "marching cube: 0.01 seconds\n"
     ]
    },
    {
     "name": "stdout",
     "output_type": "stream",
     "text": [
      "\n",
      "area: 3985.74"
     ]
    },
    {
     "name": "stderr",
     "output_type": "stream",
     "text": [
      "compute surface area: 0.00 seconds\n",
      "fill point array: 0.01 seconds\n",
      "fill cell array: 0.00 seconds\n",
      "mesh_to_polydata: 0.01 seconds\n",
      "simplify 0 @ 3508: 0.04 seconds\n",
      "simplify 1 @ 703: 0.02 seconds\n"
     ]
    },
    {
     "name": "stdout",
     "output_type": "stream",
     "text": [
      "\n",
      "7N_L"
     ]
    },
    {
     "name": "stderr",
     "output_type": "stream",
     "text": [
      "time: 0.08\n",
      "marching cube: 0.14 seconds\n"
     ]
    },
    {
     "name": "stdout",
     "output_type": "stream",
     "text": [
      "\n",
      "area: 65866.31"
     ]
    },
    {
     "name": "stderr",
     "output_type": "stream",
     "text": [
      "compute surface area: 0.02 seconds\n",
      "fill point array: 0.08 seconds\n",
      "fill cell array: 0.00 seconds\n",
      "mesh_to_polydata: 0.09 seconds\n",
      "simplify 0 @ 55636: 0.79 seconds\n",
      "simplify 1 @ 11140: 0.46 seconds\n",
      "simplify 2 @ 2240: 0.10 seconds\n"
     ]
    },
    {
     "name": "stdout",
     "output_type": "stream",
     "text": [
      "\n",
      "7N_R"
     ]
    },
    {
     "name": "stderr",
     "output_type": "stream",
     "text": [
      "time: 1.60\n",
      "marching cube: 0.26 seconds\n"
     ]
    },
    {
     "name": "stdout",
     "output_type": "stream",
     "text": [
      "\n",
      "area: 82429.49"
     ]
    },
    {
     "name": "stderr",
     "output_type": "stream",
     "text": [
      "compute surface area: 0.02 seconds\n",
      "fill point array: 0.10 seconds\n",
      "fill cell array: 0.00 seconds\n",
      "mesh_to_polydata: 0.10 seconds\n",
      "simplify 0 @ 57148: 1.04 seconds\n",
      "simplify 1 @ 11426: 0.54 seconds\n",
      "simplify 2 @ 2283: 0.10 seconds\n"
     ]
    },
    {
     "name": "stdout",
     "output_type": "stream",
     "text": [
      "\n",
      "7n_L"
     ]
    },
    {
     "name": "stderr",
     "output_type": "stream",
     "text": [
      "time: 2.08\n",
      "marching cube: 0.38 seconds\n"
     ]
    },
    {
     "name": "stdout",
     "output_type": "stream",
     "text": [
      "\n",
      "area: 34032.13"
     ]
    },
    {
     "name": "stderr",
     "output_type": "stream",
     "text": [
      "compute surface area: 0.01 seconds\n",
      "fill point array: 0.05 seconds\n",
      "fill cell array: 0.00 seconds\n",
      "mesh_to_polydata: 0.05 seconds\n",
      "simplify 0 @ 31997: 0.35 seconds\n",
      "simplify 1 @ 6396: 0.24 seconds\n",
      "simplify 2 @ 1280: 0.05 seconds\n"
     ]
    },
    {
     "name": "stdout",
     "output_type": "stream",
     "text": [
      "\n",
      "7n_R"
     ]
    },
    {
     "name": "stderr",
     "output_type": "stream",
     "text": [
      "time: 1.10\n",
      "marching cube: 0.34 seconds\n"
     ]
    },
    {
     "name": "stdout",
     "output_type": "stream",
     "text": [
      "\n",
      "area: 40505.52"
     ]
    },
    {
     "name": "stderr",
     "output_type": "stream",
     "text": [
      "compute surface area: 0.01 seconds\n",
      "fill point array: 0.05 seconds\n",
      "fill cell array: 0.00 seconds\n",
      "mesh_to_polydata: 0.05 seconds\n",
      "simplify 0 @ 28185: 0.46 seconds\n"
     ]
    },
    {
     "name": "stdout",
     "output_type": "stream",
     "text": [
      "\n",
      "AP"
     ]
    },
    {
     "name": "stderr",
     "output_type": "stream",
     "text": [
      "simplify 1 @ 5659: 0.22 seconds\n",
      "simplify 2 @ 1152: 0.04 seconds\n",
      "time: 1.14\n",
      "marching cube: 0.18 seconds\n"
     ]
    },
    {
     "name": "stdout",
     "output_type": "stream",
     "text": [
      "\n",
      "area: 31919.61"
     ]
    },
    {
     "name": "stderr",
     "output_type": "stream",
     "text": [
      "compute surface area: 0.01 seconds\n",
      "fill point array: 0.04 seconds\n",
      "fill cell array: 0.00 seconds\n",
      "mesh_to_polydata: 0.04 seconds\n",
      "simplify 0 @ 12125: 0.37 seconds\n"
     ]
    },
    {
     "name": "stdout",
     "output_type": "stream",
     "text": [
      "\n",
      "Amb_L"
     ]
    },
    {
     "name": "stderr",
     "output_type": "stream",
     "text": [
      "simplify 1 @ 2431: 0.09 seconds\n",
      "simplify 2 @ 492: 0.02 seconds\n",
      "time: 0.71\n",
      "marching cube: 0.01 seconds\n"
     ]
    },
    {
     "name": "stdout",
     "output_type": "stream",
     "text": [
      "\n",
      "area: 4389.81"
     ]
    },
    {
     "name": "stderr",
     "output_type": "stream",
     "text": [
      "compute surface area: 0.00 seconds\n",
      "fill point array: 0.01 seconds\n",
      "fill cell array: 0.00 seconds\n",
      "mesh_to_polydata: 0.01 seconds\n",
      "simplify 0 @ 2565: 0.05 seconds\n"
     ]
    },
    {
     "name": "stdout",
     "output_type": "stream",
     "text": [
      "\n",
      "Amb_R"
     ]
    },
    {
     "name": "stderr",
     "output_type": "stream",
     "text": [
      "simplify 1 @ 514: 0.02 seconds\n",
      "time: 0.08\n",
      "marching cube: 0.01 seconds\n"
     ]
    },
    {
     "name": "stdout",
     "output_type": "stream",
     "text": [
      "\n",
      "area: 4004.44"
     ]
    },
    {
     "name": "stderr",
     "output_type": "stream",
     "text": [
      "compute surface area: 0.00 seconds\n",
      "fill point array: 0.00 seconds\n",
      "fill cell array: 0.00 seconds\n",
      "mesh_to_polydata: 0.01 seconds\n",
      "simplify 0 @ 2302: 0.04 seconds\n",
      "simplify 1 @ 462: 0.02 seconds\n"
     ]
    },
    {
     "name": "stdout",
     "output_type": "stream",
     "text": [
      "\n",
      "LC_L"
     ]
    },
    {
     "name": "stderr",
     "output_type": "stream",
     "text": [
      "time: 0.07\n",
      "marching cube: 0.20 seconds\n"
     ]
    },
    {
     "name": "stdout",
     "output_type": "stream",
     "text": [
      "\n",
      "area: 56651.51"
     ]
    },
    {
     "name": "stderr",
     "output_type": "stream",
     "text": [
      "compute surface area: 0.01 seconds\n",
      "fill point array: 0.06 seconds\n",
      "fill cell array: 0.00 seconds\n",
      "mesh_to_polydata: 0.06 seconds\n",
      "simplify 0 @ 13042: 0.78 seconds\n"
     ]
    },
    {
     "name": "stdout",
     "output_type": "stream",
     "text": [
      "\n",
      "LC_R"
     ]
    },
    {
     "name": "stderr",
     "output_type": "stream",
     "text": [
      "simplify 1 @ 2599: 0.15 seconds\n",
      "simplify 2 @ 517: 0.02 seconds\n",
      "time: 1.23\n",
      "marching cube: 0.03 seconds\n"
     ]
    },
    {
     "name": "stdout",
     "output_type": "stream",
     "text": [
      "\n",
      "area: 22957.88"
     ]
    },
    {
     "name": "stderr",
     "output_type": "stream",
     "text": [
      "compute surface area: 0.01 seconds\n",
      "fill point array: 0.02 seconds\n",
      "fill cell array: 0.00 seconds\n",
      "mesh_to_polydata: 0.03 seconds\n",
      "simplify 0 @ 5351: 0.24 seconds\n"
     ]
    },
    {
     "name": "stdout",
     "output_type": "stream",
     "text": [
      "\n",
      "LRt_L"
     ]
    },
    {
     "name": "stderr",
     "output_type": "stream",
     "text": [
      "simplify 1 @ 1060: 0.04 seconds\n",
      "simplify 2 @ 212: 0.01 seconds\n",
      "time: 0.36\n",
      "marching cube: 0.32 seconds\n"
     ]
    },
    {
     "name": "stdout",
     "output_type": "stream",
     "text": [
      "\n",
      "area: 84515.38"
     ]
    },
    {
     "name": "stderr",
     "output_type": "stream",
     "text": [
      "compute surface area: 0.02 seconds\n",
      "fill point array: 0.10 seconds\n",
      "fill cell array: 0.00 seconds\n",
      "mesh_to_polydata: 0.10 seconds\n",
      "simplify 0 @ 52246: 1.31 seconds\n",
      "simplify 1 @ 10451: 0.44 seconds\n",
      "simplify 2 @ 2091: 0.09 seconds\n"
     ]
    },
    {
     "name": "stdout",
     "output_type": "stream",
     "text": [
      "\n",
      "LRt_R"
     ]
    },
    {
     "name": "stderr",
     "output_type": "stream",
     "text": [
      "time: 2.29\n",
      "marching cube: 0.09 seconds\n"
     ]
    },
    {
     "name": "stdout",
     "output_type": "stream",
     "text": [
      "\n",
      "area: 12135.05"
     ]
    },
    {
     "name": "stderr",
     "output_type": "stream",
     "text": [
      "compute surface area: 0.00 seconds\n",
      "fill point array: 0.01 seconds\n",
      "fill cell array: 0.00 seconds\n",
      "mesh_to_polydata: 0.01 seconds\n",
      "simplify 0 @ 6253: 0.12 seconds\n"
     ]
    },
    {
     "name": "stdout",
     "output_type": "stream",
     "text": [
      "\n",
      "Pn_L"
     ]
    },
    {
     "name": "stderr",
     "output_type": "stream",
     "text": [
      "simplify 1 @ 1248: 0.04 seconds\n",
      "simplify 2 @ 251: 0.01 seconds\n",
      "time: 0.28\n",
      "marching cube: 0.24 seconds\n"
     ]
    },
    {
     "name": "stdout",
     "output_type": "stream",
     "text": [
      "\n",
      "area: 105367.84"
     ]
    },
    {
     "name": "stderr",
     "output_type": "stream",
     "text": [
      "compute surface area: 0.03 seconds\n",
      "fill point array: 0.12 seconds\n",
      "fill cell array: 0.00 seconds\n",
      "mesh_to_polydata: 0.13 seconds\n",
      "simplify 0 @ 69305: 1.30 seconds\n",
      "simplify 1 @ 13830: 0.58 seconds\n",
      "simplify 2 @ 2741: 0.12 seconds\n"
     ]
    },
    {
     "name": "stdout",
     "output_type": "stream",
     "text": [
      "\n",
      "Pn_R"
     ]
    },
    {
     "name": "stderr",
     "output_type": "stream",
     "text": [
      "time: 2.41\n",
      "marching cube: 0.29 seconds\n"
     ]
    },
    {
     "name": "stdout",
     "output_type": "stream",
     "text": [
      "\n",
      "area: 96048.90"
     ]
    },
    {
     "name": "stderr",
     "output_type": "stream",
     "text": [
      "compute surface area: 0.03 seconds\n",
      "fill point array: 0.13 seconds\n",
      "fill cell array: 0.00 seconds\n",
      "mesh_to_polydata: 0.13 seconds\n",
      "simplify 0 @ 91134: 1.04 seconds\n",
      "simplify 1 @ 18228: 0.78 seconds\n",
      "simplify 2 @ 3648: 0.16 seconds\n"
     ]
    },
    {
     "name": "stdout",
     "output_type": "stream",
     "text": [
      "\n",
      "R_L"
     ]
    },
    {
     "name": "stderr",
     "output_type": "stream",
     "text": [
      "time: 2.44\n",
      "marching cube: 0.12 seconds\n"
     ]
    },
    {
     "name": "stdout",
     "output_type": "stream",
     "text": [
      "\n",
      "area: 45032.78"
     ]
    },
    {
     "name": "stderr",
     "output_type": "stream",
     "text": [
      "compute surface area: 0.01 seconds\n",
      "fill point array: 0.06 seconds\n",
      "fill cell array: 0.00 seconds\n",
      "mesh_to_polydata: 0.06 seconds\n",
      "simplify 0 @ 35983: 0.52 seconds\n",
      "simplify 1 @ 7198: 0.28 seconds\n",
      "simplify 2 @ 1441: 0.06 seconds\n"
     ]
    },
    {
     "name": "stdout",
     "output_type": "stream",
     "text": [
      "\n",
      "R_R"
     ]
    },
    {
     "name": "stderr",
     "output_type": "stream",
     "text": [
      "time: 1.05\n",
      "marching cube: 0.08 seconds\n"
     ]
    },
    {
     "name": "stdout",
     "output_type": "stream",
     "text": [
      "\n",
      "area: 33221.47"
     ]
    },
    {
     "name": "stderr",
     "output_type": "stream",
     "text": [
      "compute surface area: 0.01 seconds\n",
      "fill point array: 0.04 seconds\n",
      "fill cell array: 0.00 seconds\n",
      "mesh_to_polydata: 0.04 seconds\n",
      "simplify 0 @ 28356: 0.37 seconds\n"
     ]
    },
    {
     "name": "stdout",
     "output_type": "stream",
     "text": [
      "\n",
      "RtTg"
     ]
    },
    {
     "name": "stderr",
     "output_type": "stream",
     "text": [
      "simplify 1 @ 5672: 0.21 seconds\n",
      "simplify 2 @ 1136: 0.04 seconds\n",
      "time: 0.76\n",
      "marching cube: 0.77 seconds\n"
     ]
    },
    {
     "name": "stdout",
     "output_type": "stream",
     "text": [
      "\n",
      "area: 181259.61"
     ]
    },
    {
     "name": "stderr",
     "output_type": "stream",
     "text": [
      "compute surface area: 0.05 seconds\n",
      "fill point array: 0.23 seconds\n",
      "fill cell array: 0.01 seconds\n",
      "mesh_to_polydata: 0.23 seconds\n",
      "simplify 0 @ 118111: 2.44 seconds\n",
      "simplify 1 @ 23624: 1.05 seconds\n",
      "simplify 2 @ 4728: 0.21 seconds\n"
     ]
    },
    {
     "name": "stdout",
     "output_type": "stream",
     "text": [
      "\n",
      "Tz_L"
     ]
    },
    {
     "name": "stderr",
     "output_type": "stream",
     "text": [
      "time: 4.77\n",
      "marching cube: 0.07 seconds\n"
     ]
    },
    {
     "name": "stdout",
     "output_type": "stream",
     "text": [
      "\n",
      "area: 23476.05"
     ]
    },
    {
     "name": "stderr",
     "output_type": "stream",
     "text": [
      "compute surface area: 0.01 seconds\n",
      "fill point array: 0.03 seconds\n",
      "fill cell array: 0.00 seconds\n",
      "mesh_to_polydata: 0.03 seconds\n",
      "simplify 0 @ 23272: 0.23 seconds\n"
     ]
    },
    {
     "name": "stdout",
     "output_type": "stream",
     "text": [
      "\n",
      "Tz_R"
     ]
    },
    {
     "name": "stderr",
     "output_type": "stream",
     "text": [
      "simplify 1 @ 4657: 0.17 seconds\n",
      "simplify 2 @ 934: 0.04 seconds\n",
      "time: 0.54\n",
      "marching cube: 0.07 seconds\n"
     ]
    },
    {
     "name": "stdout",
     "output_type": "stream",
     "text": [
      "\n",
      "area: 26554.61"
     ]
    },
    {
     "name": "stderr",
     "output_type": "stream",
     "text": [
      "compute surface area: 0.01 seconds\n",
      "fill point array: 0.04 seconds\n",
      "fill cell array: 0.00 seconds\n",
      "mesh_to_polydata: 0.04 seconds\n",
      "simplify 0 @ 26446: 0.26 seconds\n"
     ]
    },
    {
     "name": "stdout",
     "output_type": "stream",
     "text": [
      "\n",
      "VLL_L"
     ]
    },
    {
     "name": "stderr",
     "output_type": "stream",
     "text": [
      "simplify 1 @ 5292: 0.19 seconds\n",
      "simplify 2 @ 1061: 0.04 seconds\n",
      "time: 0.61\n",
      "marching cube: 0.19 seconds\n"
     ]
    },
    {
     "name": "stdout",
     "output_type": "stream",
     "text": [
      "\n",
      "area: 49751.52"
     ]
    },
    {
     "name": "stderr",
     "output_type": "stream",
     "text": [
      "compute surface area: 0.01 seconds\n",
      "fill point array: 0.06 seconds\n",
      "fill cell array: 0.00 seconds\n",
      "mesh_to_polydata: 0.06 seconds\n",
      "simplify 0 @ 34160: 1.03 seconds\n",
      "simplify 1 @ 6834: 0.28 seconds\n",
      "simplify 2 @ 1368: 0.06 seconds\n"
     ]
    },
    {
     "name": "stdout",
     "output_type": "stream",
     "text": [
      "\n",
      "VLL_R"
     ]
    },
    {
     "name": "stderr",
     "output_type": "stream",
     "text": [
      "time: 1.64\n",
      "marching cube: 0.42 seconds\n"
     ]
    },
    {
     "name": "stdout",
     "output_type": "stream",
     "text": [
      "\n",
      "area: 102534.50"
     ]
    },
    {
     "name": "stderr",
     "output_type": "stream",
     "text": [
      "compute surface area: 0.02 seconds\n",
      "fill point array: 0.11 seconds\n",
      "fill cell array: 0.00 seconds\n",
      "mesh_to_polydata: 0.12 seconds\n",
      "simplify 0 @ 25023: 1.60 seconds\n"
     ]
    },
    {
     "name": "stdout",
     "output_type": "stream",
     "text": [
      "\n",
      "sp5"
     ]
    },
    {
     "name": "stderr",
     "output_type": "stream",
     "text": [
      "simplify 1 @ 5002: 0.22 seconds\n",
      "simplify 2 @ 999: 0.04 seconds\n",
      "time: 2.43\n",
      "marching cube: 7.38 seconds\n"
     ]
    },
    {
     "name": "stdout",
     "output_type": "stream",
     "text": [
      "\n",
      "area: 261664.79"
     ]
    },
    {
     "name": "stderr",
     "output_type": "stream",
     "text": [
      "compute surface area: 0.07 seconds\n",
      "fill point array: 0.33 seconds\n",
      "fill cell array: 0.01 seconds\n",
      "mesh_to_polydata: 0.34 seconds\n",
      "simplify 0 @ 232535: 3.25 seconds\n",
      "simplify 1 @ 46268: 2.33 seconds\n",
      "simplify 2 @ 9125: 0.46 seconds\n"
     ]
    },
    {
     "name": "stdout",
     "output_type": "stream",
     "text": [
      "\n"
     ]
    },
    {
     "name": "stderr",
     "output_type": "stream",
     "text": [
      "time: 14.04\n"
     ]
    }
   ],
   "source": [
    "for i in all_indices:\n",
    "    \n",
    "    name_s = labels_sided[i-1]\n",
    "\n",
    "    print name_s\n",
    "\n",
    "    xmin, xmax, ymin, ymax, zmin, zmax = bbox_3d(volume == i) \n",
    "    \n",
    "#     volume_landmark_bboxes[name_s]\n",
    "\n",
    "    vol = (volume[ymin:ymax+1, xmin:xmax+1, zmin:zmax+1] == i).astype(np.float)\n",
    "\n",
    "    t = time.time()\n",
    "\n",
    "    polydata = volume_to_polydata(vol, origin=(xmin,ymin,zmin), num_simplify_iter=3, smooth=True)\n",
    "\n",
    "    sys.stderr.write('time: %.2f\\n' % (time.time() - t) ) # ~ 150s for outerContour; 93s for sp5\n",
    "\n",
    "    save_mesh_stl(polydata, os.path.join(mesh_rootdir, \n",
    "                     stack, \"%(stack)s_annotationVolume_%(name)s_smoothed.stl\" % {'stack': stack, 'name': name_s}))\n"
   ]
  },
  {
   "cell_type": "code",
   "execution_count": null,
   "metadata": {
    "collapsed": true
   },
   "outputs": [],
   "source": []
  },
  {
   "cell_type": "code",
   "execution_count": 22,
   "metadata": {
    "collapsed": true
   },
   "outputs": [],
   "source": [
    "polydata_list = {}\n",
    "\n",
    "for i in all_indices:  \n",
    "    name_s = labels_sided[i-1]\n",
    "    \n",
    "    fn = os.path.join(mesh_rootdir, stack, \"%(stack)s_annotationVolume_%(name)s_smoothed.stl\" % {'stack': stack, 'name': name_s})\n",
    "\n",
    "    reader = vtk.vtkSTLReader()\n",
    "    reader.SetFileName(fn)\n",
    "    reader.Update()\n",
    "\n",
    "    polydata = reader.GetOutput()\n",
    "    polydata_list[name_s] = polydata\n",
    "    \n",
    "    \n",
    "mesh_actors = [actor_mesh(polydata, colors[labelMap_sidedToUnsided[name_s]], opacity=1.) \n",
    "               for name_s, polydata in polydata_list.iteritems()]\n",
    "# smaller opacity causes erroneous rendering\n",
    "\n",
    "launch_vtk(mesh_actors)"
   ]
  },
  {
   "cell_type": "code",
   "execution_count": null,
   "metadata": {
    "collapsed": true
   },
   "outputs": [],
   "source": []
  }
 ],
 "metadata": {
  "kernelspec": {
   "display_name": "Python 2",
   "language": "python",
   "name": "python2"
  },
  "language_info": {
   "codemirror_mode": {
    "name": "ipython",
    "version": 2
   },
   "file_extension": ".py",
   "mimetype": "text/x-python",
   "name": "python",
   "nbconvert_exporter": "python",
   "pygments_lexer": "ipython2",
   "version": "2.7.6"
  }
 },
 "nbformat": 4,
 "nbformat_minor": 0
}
