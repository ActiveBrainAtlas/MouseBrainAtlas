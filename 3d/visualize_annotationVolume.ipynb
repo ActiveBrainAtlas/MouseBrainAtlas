{
 "cells": [
  {
   "cell_type": "code",
   "execution_count": 1,
   "metadata": {
    "collapsed": false
   },
   "outputs": [
    {
     "name": "stdout",
     "output_type": "stream",
     "text": [
      "Setting environment for Local Macbook Pro\n"
     ]
    },
    {
     "name": "stderr",
     "output_type": "stream",
     "text": [
      "/usr/lib/python2.7/dist-packages/pkg_resources.py:1031: UserWarning: /home/yuncong/.python-eggs is writable by group/others and vulnerable to attack when used with get_resource_filename. Consider a more secure location (set with .set_extraction_path or the PYTHON_EGG_CACHE environment variable).\n",
      "  warnings.warn(msg, UserWarning)\n"
     ]
    }
   ],
   "source": [
    "%reload_ext autoreload\n",
    "%autoreload 2\n",
    "\n",
    "import vtk\n",
    "from vtk.util import numpy_support\n",
    "\n",
    "import numpy as np\n",
    "import bloscpack as bp\n",
    "\n",
    "import sys\n",
    "import os\n",
    "sys.path.append(os.path.join(os.environ['REPO_DIR'], 'utilities'))\n",
    "from utilities2015 import *\n",
    "from annotation_utilities import *\n",
    "from metadata import *\n",
    "\n",
    "import time\n",
    "\n",
    "import matplotlib.pyplot as plt\n",
    "%matplotlib inline\n",
    "\n",
    "from vis3d_utilities import *"
   ]
  },
  {
   "cell_type": "code",
   "execution_count": null,
   "metadata": {
    "collapsed": true
   },
   "outputs": [],
   "source": [
    "# with open('colors.txt', 'r') as f:\n",
    "#     colors = {l[0]: np.r_[float(l[1]), float(l[2]), float(l[3])] for l in map(lambda x: x.split(), f.readlines())}"
   ]
  },
  {
   "cell_type": "code",
   "execution_count": 2,
   "metadata": {
    "collapsed": true
   },
   "outputs": [],
   "source": [
    "# stack = 'MD589'\n",
    "stack = 'MD594'"
   ]
  },
  {
   "cell_type": "code",
   "execution_count": 3,
   "metadata": {
    "collapsed": false
   },
   "outputs": [],
   "source": [
    "volume = bp.unpack_ndarray_file(os.path.join(volume_dir, '%(stack)s/%(stack)s_annotationVolume.bp' % {'stack':stack})).astype(np.uint8)\n",
    "# atlasProjected_volume = fill_sparse_volume(volume_sparse)\n",
    "# del volume_sparse"
   ]
  },
  {
   "cell_type": "code",
   "execution_count": 4,
   "metadata": {
    "collapsed": true
   },
   "outputs": [],
   "source": [
    "all_indices = set(np.unique(volume))-{0}"
   ]
  },
  {
   "cell_type": "code",
   "execution_count": null,
   "metadata": {
    "collapsed": false
   },
   "outputs": [],
   "source": [
    "# volume_landmark_bboxes = {labels_sided[i-1]: bbox_3d(volume == i) for i in all_indices}"
   ]
  },
  {
   "cell_type": "code",
   "execution_count": 5,
   "metadata": {
    "collapsed": false
   },
   "outputs": [],
   "source": [
    "with open(os.path.join(volume_dir, '%(stack)s/%(stack)s_annotationVolume_labelIndices.txt' % {'stack':stack}), 'r') as f:\n",
    "    name_index_tuples = [line.split() for line in f.readlines()]\n",
    "    name_to_index = {name: int(index) for name, index in name_index_tuples}\n",
    "    index_to_name = {index: name for name, index in name_to_index.iteritems()}"
   ]
  },
  {
   "cell_type": "code",
   "execution_count": 6,
   "metadata": {
    "collapsed": false
   },
   "outputs": [],
   "source": [
    "colors = {name: np.array(random_colors(1)[0])/255. for name in set(map(convert_name_to_unsided, name_to_index.keys()))}"
   ]
  },
  {
   "cell_type": "code",
   "execution_count": 8,
   "metadata": {
    "collapsed": false,
    "scrolled": true
   },
   "outputs": [
    {
     "name": "stderr",
     "output_type": "stream",
     "text": [
      "marching cube: 0.14 seconds\n",
      "compute surface area: 0.00 seconds\n",
      "fill point array: 0.02 seconds\n",
      "fill cell array: 0.00 seconds\n",
      "mesh_to_polydata: 0.02 seconds\n",
      "simplify 0 @ 12508: 0.22 seconds\n"
     ]
    },
    {
     "name": "stdout",
     "output_type": "stream",
     "text": [
      "10N_L\n",
      "10N_R"
     ]
    },
    {
     "name": "stderr",
     "output_type": "stream",
     "text": [
      "simplify 1 @ 2505: 0.12 seconds\n",
      "simplify 2 @ 504: 0.03 seconds\n",
      "time: 0.53\n",
      "marching cube: 0.16 seconds\n",
      "compute surface area: 0.00 seconds\n",
      "fill point array: 0.03 seconds\n",
      "fill cell array: 0.00 seconds\n",
      "mesh_to_polydata: 0.03 seconds\n",
      "simplify 0 @ 11653: 0.25 seconds\n"
     ]
    },
    {
     "name": "stdout",
     "output_type": "stream",
     "text": [
      "\n",
      "12N"
     ]
    },
    {
     "name": "stderr",
     "output_type": "stream",
     "text": [
      "simplify 1 @ 2336: 0.11 seconds\n",
      "simplify 2 @ 472: 0.02 seconds\n",
      "time: 0.58\n",
      "marching cube: 0.35 seconds\n",
      "compute surface area: 0.03 seconds\n",
      "fill point array: 0.13 seconds\n",
      "fill cell array: 0.00 seconds\n",
      "mesh_to_polydata: 0.13 seconds\n",
      "simplify 0 @ 44884: 1.24 seconds\n",
      "simplify 1 @ 8976: 0.42 seconds\n",
      "simplify 2 @ 1796: 0.10 seconds\n"
     ]
    },
    {
     "name": "stdout",
     "output_type": "stream",
     "text": [
      "\n",
      "3N_L"
     ]
    },
    {
     "name": "stderr",
     "output_type": "stream",
     "text": [
      "time: 2.29\n",
      "marching cube: 0.03 seconds\n",
      "compute surface area: 0.00 seconds\n",
      "fill point array: 0.02 seconds\n",
      "fill cell array: 0.00 seconds\n",
      "mesh_to_polydata: 0.02 seconds\n",
      "simplify 0 @ 6924: 0.15 seconds\n"
     ]
    },
    {
     "name": "stdout",
     "output_type": "stream",
     "text": [
      "\n",
      "3N_R"
     ]
    },
    {
     "name": "stderr",
     "output_type": "stream",
     "text": [
      "simplify 1 @ 1386: 0.07 seconds\n",
      "simplify 2 @ 278: 0.02 seconds\n",
      "time: 0.30\n",
      "marching cube: 0.03 seconds\n",
      "compute surface area: 0.00 seconds\n",
      "fill point array: 0.02 seconds\n",
      "fill cell array: 0.00 seconds\n",
      "mesh_to_polydata: 0.03 seconds\n",
      "simplify 0 @ 7654: 0.19 seconds\n"
     ]
    },
    {
     "name": "stdout",
     "output_type": "stream",
     "text": [
      "\n",
      "4N_L"
     ]
    },
    {
     "name": "stderr",
     "output_type": "stream",
     "text": [
      "simplify 1 @ 1534: 0.08 seconds\n",
      "simplify 2 @ 307: 0.02 seconds\n",
      "time: 0.35\n",
      "marching cube: 0.00 seconds\n"
     ]
    },
    {
     "name": "stdout",
     "output_type": "stream",
     "text": [
      "\n",
      "4N_R"
     ]
    },
    {
     "name": "stderr",
     "output_type": "stream",
     "text": [
      "compute surface area: 0.00 seconds\n",
      "fill point array: 0.00 seconds\n",
      "fill cell array: 0.00 seconds\n",
      "mesh_to_polydata: 0.00 seconds\n",
      "simplify 0 @ 1204: 0.03 seconds\n",
      "simplify 1 @ 242: 0.01 seconds\n",
      "time: 0.05\n",
      "marching cube: 0.00 seconds\n"
     ]
    },
    {
     "name": "stdout",
     "output_type": "stream",
     "text": [
      "\n",
      "5N_L"
     ]
    },
    {
     "name": "stderr",
     "output_type": "stream",
     "text": [
      "compute surface area: 0.00 seconds\n",
      "fill point array: 0.00 seconds\n",
      "fill cell array: 0.00 seconds\n",
      "mesh_to_polydata: 0.00 seconds\n",
      "simplify 0 @ 1134: 0.02 seconds\n",
      "simplify 1 @ 228: 0.01 seconds\n",
      "time: 0.04\n",
      "marching cube: 0.14 seconds\n",
      "compute surface area: 0.01 seconds\n",
      "fill point array: 0.08 seconds\n",
      "fill cell array: 0.00 seconds\n",
      "mesh_to_polydata: 0.08 seconds\n",
      "simplify 0 @ 20997: 0.85 seconds\n",
      "simplify 1 @ 4205: 0.23 seconds\n",
      "simplify 2 @ 849: 0.06 seconds\n"
     ]
    },
    {
     "name": "stdout",
     "output_type": "stream",
     "text": [
      "\n",
      "5N_R"
     ]
    },
    {
     "name": "stderr",
     "output_type": "stream",
     "text": [
      "time: 1.38\n",
      "marching cube: 0.12 seconds\n",
      "compute surface area: 0.01 seconds\n",
      "fill point array: 0.06 seconds\n",
      "fill cell array: 0.00 seconds\n",
      "mesh_to_polydata: 0.06 seconds\n",
      "simplify 0 @ 18484: 0.70 seconds\n"
     ]
    },
    {
     "name": "stdout",
     "output_type": "stream",
     "text": [
      "\n",
      "6N_L"
     ]
    },
    {
     "name": "stderr",
     "output_type": "stream",
     "text": [
      "simplify 1 @ 3698: 0.16 seconds\n",
      "simplify 2 @ 741: 0.04 seconds\n",
      "time: 1.10\n",
      "marching cube: 0.01 seconds\n",
      "compute surface area: 0.00 seconds\n",
      "fill point array: 0.01 seconds\n",
      "fill cell array: 0.00 seconds\n",
      "mesh_to_polydata: 0.01 seconds\n",
      "simplify 0 @ 2584: 0.04 seconds\n",
      "simplify 1 @ 518: 0.02 seconds\n"
     ]
    },
    {
     "name": "stdout",
     "output_type": "stream",
     "text": [
      "\n",
      "6N_R"
     ]
    },
    {
     "name": "stderr",
     "output_type": "stream",
     "text": [
      "time: 0.08\n",
      "marching cube: 0.01 seconds\n",
      "compute surface area: 0.00 seconds\n",
      "fill point array: 0.01 seconds\n",
      "fill cell array: 0.00 seconds\n",
      "mesh_to_polydata: 0.01 seconds\n",
      "simplify 0 @ 3077: 0.05 seconds\n"
     ]
    },
    {
     "name": "stdout",
     "output_type": "stream",
     "text": [
      "\n",
      "7N2_L"
     ]
    },
    {
     "name": "stderr",
     "output_type": "stream",
     "text": [
      "simplify 1 @ 617: 0.03 seconds\n",
      "time: 0.10\n",
      "marching cube: 0.00 seconds\n"
     ]
    },
    {
     "name": "stdout",
     "output_type": "stream",
     "text": [
      "\n",
      "7N2_R"
     ]
    },
    {
     "name": "stderr",
     "output_type": "stream",
     "text": [
      "compute surface area: 0.00 seconds\n",
      "fill point array: 0.00 seconds\n",
      "fill cell array: 0.00 seconds\n",
      "mesh_to_polydata: 0.00 seconds\n",
      "time: 0.01\n",
      "marching cube: 0.00 seconds\n"
     ]
    },
    {
     "name": "stdout",
     "output_type": "stream",
     "text": [
      "\n",
      "7N_L"
     ]
    },
    {
     "name": "stderr",
     "output_type": "stream",
     "text": [
      "compute surface area: 0.00 seconds\n",
      "fill point array: 0.00 seconds\n",
      "fill cell array: 0.00 seconds\n",
      "mesh_to_polydata: 0.00 seconds\n",
      "simplify 0 @ 416: 0.02 seconds\n",
      "time: 0.03\n",
      "marching cube: 0.21 seconds\n",
      "compute surface area: 0.02 seconds\n",
      "fill point array: 0.09 seconds\n",
      "fill cell array: 0.00 seconds\n",
      "mesh_to_polydata: 0.10 seconds\n",
      "simplify 0 @ 42752: 0.90 seconds\n",
      "simplify 1 @ 8550: 0.37 seconds\n",
      "simplify 2 @ 1709: 0.10 seconds\n"
     ]
    },
    {
     "name": "stdout",
     "output_type": "stream",
     "text": [
      "\n",
      "7N_R"
     ]
    },
    {
     "name": "stderr",
     "output_type": "stream",
     "text": [
      "time: 1.70\n",
      "marching cube: 0.18 seconds\n",
      "compute surface area: 0.02 seconds\n",
      "fill point array: 0.11 seconds\n",
      "fill cell array: 0.00 seconds\n",
      "mesh_to_polydata: 0.11 seconds\n",
      "simplify 0 @ 39455: 1.13 seconds\n",
      "simplify 1 @ 7892: 0.33 seconds\n",
      "simplify 2 @ 1580: 0.08 seconds\n"
     ]
    },
    {
     "name": "stdout",
     "output_type": "stream",
     "text": [
      "\n",
      "7n_L"
     ]
    },
    {
     "name": "stderr",
     "output_type": "stream",
     "text": [
      "time: 1.87\n",
      "marching cube: 0.37 seconds\n",
      "compute surface area: 0.01 seconds\n",
      "fill point array: 0.05 seconds\n",
      "fill cell array: 0.00 seconds\n",
      "mesh_to_polydata: 0.06 seconds\n",
      "simplify 0 @ 30105: 0.49 seconds\n",
      "simplify 1 @ 6025: 0.26 seconds\n",
      "simplify 2 @ 1208: 0.06 seconds\n"
     ]
    },
    {
     "name": "stdout",
     "output_type": "stream",
     "text": [
      "\n",
      "7n_R"
     ]
    },
    {
     "name": "stderr",
     "output_type": "stream",
     "text": [
      "time: 1.26\n",
      "marching cube: 0.32 seconds\n",
      "compute surface area: 0.01 seconds\n",
      "fill point array: 0.05 seconds\n",
      "fill cell array: 0.00 seconds\n",
      "mesh_to_polydata: 0.05 seconds\n",
      "simplify 0 @ 25306: 0.43 seconds\n",
      "simplify 1 @ 5072: 0.21 seconds\n",
      "simplify 2 @ 1023: 0.06 seconds\n"
     ]
    },
    {
     "name": "stdout",
     "output_type": "stream",
     "text": [
      "\n",
      "8n_L"
     ]
    },
    {
     "name": "stderr",
     "output_type": "stream",
     "text": [
      "time: 1.08\n",
      "marching cube: 0.15 seconds\n",
      "compute surface area: 0.01 seconds\n",
      "fill point array: 0.04 seconds\n",
      "fill cell array: 0.00 seconds\n",
      "mesh_to_polydata: 0.05 seconds\n",
      "simplify 0 @ 14326: 0.75 seconds\n"
     ]
    },
    {
     "name": "stdout",
     "output_type": "stream",
     "text": [
      "\n",
      "8n_R"
     ]
    },
    {
     "name": "stderr",
     "output_type": "stream",
     "text": [
      "simplify 1 @ 2866: 0.12 seconds\n",
      "simplify 2 @ 574: 0.03 seconds\n",
      "time: 1.11\n",
      "marching cube: 0.06 seconds\n",
      "compute surface area: 0.01 seconds\n",
      "fill point array: 0.03 seconds\n",
      "fill cell array: 0.00 seconds\n",
      "mesh_to_polydata: 0.03 seconds\n",
      "simplify 0 @ 11802: 0.31 seconds\n"
     ]
    },
    {
     "name": "stdout",
     "output_type": "stream",
     "text": [
      "\n",
      "AP"
     ]
    },
    {
     "name": "stderr",
     "output_type": "stream",
     "text": [
      "simplify 1 @ 2362: 0.10 seconds\n",
      "simplify 2 @ 474: 0.03 seconds\n",
      "time: 0.54\n",
      "marching cube: 0.03 seconds\n",
      "compute surface area: 0.00 seconds\n",
      "fill point array: 0.02 seconds\n",
      "fill cell array: 0.00 seconds\n",
      "mesh_to_polydata: 0.02 seconds\n",
      "simplify 0 @ 7936: 0.19 seconds\n"
     ]
    },
    {
     "name": "stdout",
     "output_type": "stream",
     "text": [
      "\n",
      "APT_L"
     ]
    },
    {
     "name": "stderr",
     "output_type": "stream",
     "text": [
      "simplify 1 @ 1588: 0.07 seconds\n",
      "simplify 2 @ 322: 0.02 seconds\n",
      "time: 0.33\n",
      "marching cube: 0.02 seconds\n",
      "compute surface area: 0.00 seconds\n",
      "fill point array: 0.02 seconds\n",
      "fill cell array: 0.00 seconds\n",
      "mesh_to_polydata: 0.02 seconds\n",
      "simplify 0 @ 3116: 0.24 seconds\n"
     ]
    },
    {
     "name": "stdout",
     "output_type": "stream",
     "text": [
      "\n",
      "APT_R"
     ]
    },
    {
     "name": "stderr",
     "output_type": "stream",
     "text": [
      "simplify 1 @ 624: 0.03 seconds\n",
      "time: 0.32\n",
      "marching cube: 0.02 seconds\n",
      "compute surface area: 0.00 seconds\n",
      "fill point array: 0.02 seconds\n",
      "fill cell array: 0.00 seconds\n",
      "mesh_to_polydata: 0.02 seconds\n",
      "simplify 0 @ 3424: 0.18 seconds\n"
     ]
    },
    {
     "name": "stdout",
     "output_type": "stream",
     "text": [
      "\n",
      "Amb_L"
     ]
    },
    {
     "name": "stderr",
     "output_type": "stream",
     "text": [
      "simplify 1 @ 686: 0.04 seconds\n",
      "time: 0.27\n",
      "marching cube: 0.01 seconds\n",
      "compute surface area: 0.00 seconds\n",
      "fill point array: 0.01 seconds\n",
      "fill cell array: 0.00 seconds\n",
      "mesh_to_polydata: 0.01 seconds\n",
      "simplify 0 @ 2829: 0.06 seconds\n"
     ]
    },
    {
     "name": "stdout",
     "output_type": "stream",
     "text": [
      "\n",
      "Amb_R"
     ]
    },
    {
     "name": "stderr",
     "output_type": "stream",
     "text": [
      "simplify 1 @ 567: 0.02 seconds\n",
      "time: 0.11\n",
      "marching cube: 0.01 seconds\n",
      "compute surface area: 0.00 seconds\n",
      "fill point array: 0.01 seconds\n",
      "fill cell array: 0.00 seconds\n",
      "mesh_to_polydata: 0.01 seconds\n",
      "simplify 0 @ 2037: 0.07 seconds\n"
     ]
    },
    {
     "name": "stdout",
     "output_type": "stream",
     "text": [
      "\n",
      "Bar_L"
     ]
    },
    {
     "name": "stderr",
     "output_type": "stream",
     "text": [
      "simplify 1 @ 409: 0.02 seconds\n",
      "time: 0.10\n",
      "marching cube: 0.00 seconds\n"
     ]
    },
    {
     "name": "stdout",
     "output_type": "stream",
     "text": [
      "\n",
      "Bar_R"
     ]
    },
    {
     "name": "stderr",
     "output_type": "stream",
     "text": [
      "compute surface area: 0.00 seconds\n",
      "fill point array: 0.00 seconds\n",
      "fill cell array: 0.00 seconds\n",
      "mesh_to_polydata: 0.00 seconds\n",
      "time: 0.01\n",
      "marching cube: 0.00 seconds\n"
     ]
    },
    {
     "name": "stdout",
     "output_type": "stream",
     "text": [
      "\n",
      "CGA_R"
     ]
    },
    {
     "name": "stderr",
     "output_type": "stream",
     "text": [
      "compute surface area: 0.00 seconds\n",
      "fill point array: 0.00 seconds\n",
      "fill cell array: 0.00 seconds\n",
      "mesh_to_polydata: 0.00 seconds\n",
      "simplify 0 @ 259: 0.01 seconds\n",
      "time: 0.02\n",
      "marching cube: 0.00 seconds\n"
     ]
    },
    {
     "name": "stdout",
     "output_type": "stream",
     "text": [
      "\n",
      "CereNuc_L"
     ]
    },
    {
     "name": "stderr",
     "output_type": "stream",
     "text": [
      "compute surface area: 0.00 seconds\n",
      "fill point array: 0.00 seconds\n",
      "fill cell array: 0.00 seconds\n",
      "mesh_to_polydata: 0.00 seconds\n",
      "simplify 0 @ 510: 0.03 seconds\n",
      "time: 0.04\n",
      "marching cube: 0.01 seconds\n",
      "compute surface area: 0.00 seconds\n",
      "fill point array: 0.01 seconds\n",
      "fill cell array: 0.00 seconds\n",
      "mesh_to_polydata: 0.01 seconds\n",
      "simplify 0 @ 2229: 0.44 seconds\n"
     ]
    },
    {
     "name": "stdout",
     "output_type": "stream",
     "text": [
      "\n",
      "CereNuc_R"
     ]
    },
    {
     "name": "stderr",
     "output_type": "stream",
     "text": [
      "simplify 1 @ 447: 0.02 seconds\n",
      "time: 0.50\n",
      "marching cube: 0.01 seconds\n",
      "compute surface area: 0.00 seconds\n",
      "fill point array: 0.01 seconds\n",
      "fill cell array: 0.00 seconds\n",
      "mesh_to_polydata: 0.02 seconds\n",
      "simplify 0 @ 2686: 0.35 seconds\n"
     ]
    },
    {
     "name": "stdout",
     "output_type": "stream",
     "text": [
      "\n",
      "CnF_L"
     ]
    },
    {
     "name": "stderr",
     "output_type": "stream",
     "text": [
      "simplify 1 @ 538: 0.03 seconds\n",
      "time: 0.42\n",
      "marching cube: 0.00 seconds\n",
      "compute surface area: 0.00 seconds\n",
      "fill point array: 0.00 seconds\n",
      "fill cell array: 0.00 seconds\n",
      "mesh_to_polydata: 0.00 seconds\n",
      "simplify 0 @ 776: 0.04 seconds\n",
      "time: 0.06\n"
     ]
    },
    {
     "name": "stdout",
     "output_type": "stream",
     "text": [
      "\n",
      "CnF_R"
     ]
    },
    {
     "name": "stderr",
     "output_type": "stream",
     "text": [
      "marching cube: 0.01 seconds\n",
      "compute surface area: 0.00 seconds\n",
      "fill point array: 0.01 seconds\n",
      "fill cell array: 0.00 seconds\n",
      "mesh_to_polydata: 0.01 seconds\n",
      "simplify 0 @ 1178: 0.06 seconds\n"
     ]
    },
    {
     "name": "stdout",
     "output_type": "stream",
     "text": [
      "\n",
      "Cu_L"
     ]
    },
    {
     "name": "stderr",
     "output_type": "stream",
     "text": [
      "simplify 1 @ 237: 0.01 seconds\n",
      "time: 0.10\n",
      "marching cube: 0.02 seconds\n",
      "compute surface area: 0.00 seconds\n",
      "fill point array: 0.01 seconds\n",
      "fill cell array: 0.00 seconds\n",
      "mesh_to_polydata: 0.01 seconds\n",
      "simplify 0 @ 3561: 0.13 seconds\n"
     ]
    },
    {
     "name": "stdout",
     "output_type": "stream",
     "text": [
      "\n",
      "Cu_R"
     ]
    },
    {
     "name": "stderr",
     "output_type": "stream",
     "text": [
      "simplify 1 @ 713: 0.04 seconds\n",
      "time: 0.21\n",
      "marching cube: 0.03 seconds\n",
      "compute surface area: 0.00 seconds\n",
      "fill point array: 0.02 seconds\n",
      "fill cell array: 0.00 seconds\n",
      "mesh_to_polydata: 0.02 seconds\n",
      "simplify 0 @ 4117: 0.19 seconds\n"
     ]
    },
    {
     "name": "stdout",
     "output_type": "stream",
     "text": [
      "\n",
      "DCDp_L"
     ]
    },
    {
     "name": "stderr",
     "output_type": "stream",
     "text": [
      "simplify 1 @ 825: 0.04 seconds\n",
      "time: 0.28\n",
      "marching cube: 0.00 seconds\n"
     ]
    },
    {
     "name": "stdout",
     "output_type": "stream",
     "text": [
      "\n",
      "DCDp_R"
     ]
    },
    {
     "name": "stderr",
     "output_type": "stream",
     "text": [
      "compute surface area: 0.00 seconds\n",
      "fill point array: 0.00 seconds\n",
      "fill cell array: 0.00 seconds\n",
      "mesh_to_polydata: 0.00 seconds\n",
      "time: 0.00\n",
      "marching cube: 0.00 seconds\n"
     ]
    },
    {
     "name": "stdout",
     "output_type": "stream",
     "text": [
      "\n",
      "DCFu_L"
     ]
    },
    {
     "name": "stderr",
     "output_type": "stream",
     "text": [
      "compute surface area: 0.00 seconds\n",
      "fill point array: 0.00 seconds\n",
      "fill cell array: 0.00 seconds\n",
      "mesh_to_polydata: 0.00 seconds\n",
      "time: 0.00\n",
      "marching cube: 0.00 seconds\n"
     ]
    },
    {
     "name": "stdout",
     "output_type": "stream",
     "text": [
      "\n",
      "DCMo_L"
     ]
    },
    {
     "name": "stderr",
     "output_type": "stream",
     "text": [
      "compute surface area: 0.00 seconds\n",
      "fill point array: 0.00 seconds\n",
      "fill cell array: 0.00 seconds\n",
      "mesh_to_polydata: 0.00 seconds\n",
      "time: 0.00\n",
      "marching cube: 0.01 seconds\n"
     ]
    },
    {
     "name": "stdout",
     "output_type": "stream",
     "text": [
      "\n",
      "DCMo_R"
     ]
    },
    {
     "name": "stderr",
     "output_type": "stream",
     "text": [
      "compute surface area: 0.00 seconds\n",
      "fill point array: 0.00 seconds\n",
      "fill cell array: 0.00 seconds\n",
      "mesh_to_polydata: 0.00 seconds\n",
      "time: 0.02\n",
      "marching cube: 0.00 seconds\n"
     ]
    },
    {
     "name": "stdout",
     "output_type": "stream",
     "text": [
      "\n",
      "DC_L"
     ]
    },
    {
     "name": "stderr",
     "output_type": "stream",
     "text": [
      "compute surface area: 0.00 seconds\n",
      "fill point array: 0.00 seconds\n",
      "fill cell array: 0.00 seconds\n",
      "mesh_to_polydata: 0.00 seconds\n",
      "time: 0.00\n",
      "marching cube: 0.23 seconds\n",
      "compute surface area: 0.01 seconds\n",
      "fill point array: 0.06 seconds\n",
      "fill cell array: 0.00 seconds\n",
      "mesh_to_polydata: 0.07 seconds\n",
      "simplify 0 @ 28574: 0.70 seconds\n",
      "simplify 1 @ 5717: 0.24 seconds\n",
      "simplify 2 @ 1144: 0.06 seconds\n"
     ]
    },
    {
     "name": "stdout",
     "output_type": "stream",
     "text": [
      "\n",
      "DC_R"
     ]
    },
    {
     "name": "stderr",
     "output_type": "stream",
     "text": [
      "time: 1.32\n",
      "marching cube: 0.20 seconds\n",
      "compute surface area: 0.01 seconds\n",
      "fill point array: 0.06 seconds\n",
      "fill cell array: 0.00 seconds\n",
      "mesh_to_polydata: 0.06 seconds\n",
      "simplify 0 @ 29967: 0.62 seconds\n",
      "simplify 1 @ 5995: 0.26 seconds\n",
      "simplify 2 @ 1201: 0.06 seconds\n"
     ]
    },
    {
     "name": "stdout",
     "output_type": "stream",
     "text": [
      "\n",
      "DLL_L"
     ]
    },
    {
     "name": "stderr",
     "output_type": "stream",
     "text": [
      "time: 1.22\n",
      "marching cube: 0.01 seconds\n",
      "compute surface area: 0.00 seconds\n",
      "fill point array: 0.01 seconds\n",
      "fill cell array: 0.00 seconds\n",
      "mesh_to_polydata: 0.01 seconds\n",
      "simplify 0 @ 1276: 0.07 seconds\n"
     ]
    },
    {
     "name": "stdout",
     "output_type": "stream",
     "text": [
      "\n",
      "DLL_R"
     ]
    },
    {
     "name": "stderr",
     "output_type": "stream",
     "text": [
      "simplify 1 @ 256: 0.01 seconds\n",
      "time: 0.11\n",
      "marching cube: 0.01 seconds\n",
      "compute surface area: 0.00 seconds\n",
      "fill point array: 0.01 seconds\n",
      "fill cell array: 0.00 seconds\n",
      "mesh_to_polydata: 0.01 seconds\n",
      "simplify 0 @ 1388: 0.07 seconds\n"
     ]
    },
    {
     "name": "stdout",
     "output_type": "stream",
     "text": [
      "\n",
      "DPO_L"
     ]
    },
    {
     "name": "stderr",
     "output_type": "stream",
     "text": [
      "simplify 1 @ 279: 0.02 seconds\n",
      "time: 0.11\n",
      "marching cube: 0.01 seconds\n",
      "compute surface area: 0.00 seconds\n",
      "fill point array: 0.01 seconds\n",
      "fill cell array: 0.00 seconds\n",
      "mesh_to_polydata: 0.01 seconds\n",
      "simplify 0 @ 1595: 0.05 seconds\n"
     ]
    },
    {
     "name": "stdout",
     "output_type": "stream",
     "text": [
      "\n",
      "DPO_R"
     ]
    },
    {
     "name": "stderr",
     "output_type": "stream",
     "text": [
      "simplify 1 @ 320: 0.02 seconds\n",
      "time: 0.08\n",
      "marching cube: 0.01 seconds\n",
      "compute surface area: 0.00 seconds\n",
      "fill point array: 0.01 seconds\n",
      "fill cell array: 0.00 seconds\n",
      "mesh_to_polydata: 0.01 seconds\n",
      "simplify 0 @ 2422: 0.06 seconds\n"
     ]
    },
    {
     "name": "stdout",
     "output_type": "stream",
     "text": [
      "\n",
      "DRD_L"
     ]
    },
    {
     "name": "stderr",
     "output_type": "stream",
     "text": [
      "simplify 1 @ 486: 0.02 seconds\n",
      "time: 0.11\n",
      "marching cube: 0.00 seconds\n"
     ]
    },
    {
     "name": "stdout",
     "output_type": "stream",
     "text": [
      "\n",
      "DRD_R"
     ]
    },
    {
     "name": "stderr",
     "output_type": "stream",
     "text": [
      "compute surface area: 0.00 seconds\n",
      "fill point array: 0.00 seconds\n",
      "fill cell array: 0.00 seconds\n",
      "mesh_to_polydata: 0.00 seconds\n",
      "simplify 0 @ 619: 0.03 seconds\n",
      "time: 0.05\n",
      "marching cube: 0.03 seconds\n",
      "compute surface area: 0.00 seconds\n",
      "fill point array: 0.02 seconds\n",
      "fill cell array: 0.00 seconds\n",
      "mesh_to_polydata: 0.02 seconds\n",
      "simplify 0 @ 8291: 0.20 seconds\n"
     ]
    },
    {
     "name": "stdout",
     "output_type": "stream",
     "text": [
      "\n",
      "DRI_L"
     ]
    },
    {
     "name": "stderr",
     "output_type": "stream",
     "text": [
      "simplify 1 @ 1659: 0.08 seconds\n",
      "simplify 2 @ 333: 0.02 seconds\n",
      "time: 0.36\n",
      "marching cube: 0.00 seconds\n",
      "compute surface area: 0.00 seconds\n",
      "fill point array: 0.00 seconds\n",
      "fill cell array: 0.00 seconds\n",
      "mesh_to_polydata: 0.01 seconds\n",
      "simplify 0 @ 822: 0.04 seconds\n",
      "time: 0.06\n"
     ]
    },
    {
     "name": "stdout",
     "output_type": "stream",
     "text": [
      "\n",
      "DRI_R"
     ]
    },
    {
     "name": "stderr",
     "output_type": "stream",
     "text": [
      "marching cube: 0.01 seconds\n",
      "compute surface area: 0.00 seconds\n",
      "fill point array: 0.01 seconds\n",
      "fill cell array: 0.00 seconds\n",
      "mesh_to_polydata: 0.01 seconds\n",
      "simplify 0 @ 1705: 0.10 seconds\n"
     ]
    },
    {
     "name": "stdout",
     "output_type": "stream",
     "text": [
      "\n",
      "DRV_L"
     ]
    },
    {
     "name": "stderr",
     "output_type": "stream",
     "text": [
      "simplify 1 @ 342: 0.02 seconds\n",
      "time: 0.14\n",
      "marching cube: 0.00 seconds\n"
     ]
    },
    {
     "name": "stdout",
     "output_type": "stream",
     "text": [
      "\n",
      "DTgC_L"
     ]
    },
    {
     "name": "stderr",
     "output_type": "stream",
     "text": [
      "compute surface area: 0.00 seconds\n",
      "fill point array: 0.00 seconds\n",
      "fill cell array: 0.00 seconds\n",
      "mesh_to_polydata: 0.00 seconds\n",
      "simplify 0 @ 374: 0.02 seconds\n",
      "time: 0.03\n",
      "marching cube: 0.00 seconds\n"
     ]
    },
    {
     "name": "stdout",
     "output_type": "stream",
     "text": [
      "\n",
      "DTgC_R"
     ]
    },
    {
     "name": "stderr",
     "output_type": "stream",
     "text": [
      "compute surface area: 0.00 seconds\n",
      "fill point array: 0.00 seconds\n",
      "fill cell array: 0.00 seconds\n",
      "mesh_to_polydata: 0.00 seconds\n",
      "simplify 0 @ 1211: 0.02 seconds\n",
      "simplify 1 @ 243: 0.01 seconds\n",
      "time: 0.05\n",
      "marching cube: 0.00 seconds\n"
     ]
    },
    {
     "name": "stdout",
     "output_type": "stream",
     "text": [
      "\n",
      "DTgP_L"
     ]
    },
    {
     "name": "stderr",
     "output_type": "stream",
     "text": [
      "compute surface area: 0.00 seconds\n",
      "fill point array: 0.00 seconds\n",
      "fill cell array: 0.00 seconds\n",
      "mesh_to_polydata: 0.00 seconds\n",
      "simplify 0 @ 1103: 0.02 seconds\n",
      "simplify 1 @ 222: 0.01 seconds\n",
      "time: 0.04\n",
      "marching cube: 0.01 seconds\n",
      "compute surface area: 0.00 seconds\n",
      "fill point array: 0.01 seconds\n",
      "fill cell array: 0.00 seconds\n",
      "mesh_to_polydata: 0.01 seconds\n",
      "simplify 0 @ 3515: 0.07 seconds\n"
     ]
    },
    {
     "name": "stdout",
     "output_type": "stream",
     "text": [
      "\n",
      "DTgP_R"
     ]
    },
    {
     "name": "stderr",
     "output_type": "stream",
     "text": [
      "simplify 1 @ 704: 0.03 seconds\n",
      "time: 0.14\n",
      "marching cube: 0.01 seconds\n",
      "compute surface area: 0.00 seconds\n",
      "fill point array: 0.01 seconds\n",
      "fill cell array: 0.00 seconds\n",
      "mesh_to_polydata: 0.01 seconds\n",
      "simplify 0 @ 2772: 0.07 seconds\n"
     ]
    },
    {
     "name": "stdout",
     "output_type": "stream",
     "text": [
      "\n",
      "DTg_L"
     ]
    },
    {
     "name": "stderr",
     "output_type": "stream",
     "text": [
      "simplify 1 @ 556: 0.03 seconds\n",
      "time: 0.12\n",
      "marching cube: 0.01 seconds\n",
      "compute surface area: 0.00 seconds\n",
      "fill point array: 0.01 seconds\n",
      "fill cell array: 0.00 seconds\n",
      "mesh_to_polydata: 0.01 seconds\n",
      "simplify 0 @ 3500: 0.10 seconds\n"
     ]
    },
    {
     "name": "stdout",
     "output_type": "stream",
     "text": [
      "\n",
      "DTg_R"
     ]
    },
    {
     "name": "stderr",
     "output_type": "stream",
     "text": [
      "simplify 1 @ 701: 0.03 seconds\n",
      "time: 0.17\n",
      "marching cube: 0.00 seconds\n"
     ]
    },
    {
     "name": "stdout",
     "output_type": "stream",
     "text": [
      "\n",
      "Dk_L"
     ]
    },
    {
     "name": "stderr",
     "output_type": "stream",
     "text": [
      "compute surface area: 0.00 seconds\n",
      "fill point array: 0.00 seconds\n",
      "fill cell array: 0.00 seconds\n",
      "mesh_to_polydata: 0.00 seconds\n",
      "simplify 0 @ 607: 0.03 seconds\n",
      "time: 0.04\n",
      "marching cube: 0.01 seconds\n",
      "compute surface area: 0.00 seconds\n",
      "fill point array: 0.00 seconds\n",
      "fill cell array: 0.00 seconds\n",
      "mesh_to_polydata: 0.00 seconds\n",
      "simplify 0 @ 838: 0.04 seconds\n",
      "time: 0.07\n"
     ]
    },
    {
     "name": "stdout",
     "output_type": "stream",
     "text": [
      "\n",
      "Dk_R"
     ]
    },
    {
     "name": "stderr",
     "output_type": "stream",
     "text": [
      "marching cube: 0.07 seconds\n",
      "compute surface area: 0.01 seconds\n",
      "fill point array: 0.03 seconds\n",
      "fill cell array: 0.00 seconds\n",
      "mesh_to_polydata: 0.03 seconds\n",
      "simplify 0 @ 11555: 0.30 seconds\n"
     ]
    },
    {
     "name": "stdout",
     "output_type": "stream",
     "text": [
      "\n",
      "ECu_L"
     ]
    },
    {
     "name": "stderr",
     "output_type": "stream",
     "text": [
      "simplify 1 @ 2312: 0.10 seconds\n",
      "simplify 2 @ 464: 0.02 seconds\n",
      "time: 0.53\n",
      "marching cube: 0.00 seconds\n"
     ]
    },
    {
     "name": "stdout",
     "output_type": "stream",
     "text": [
      "\n",
      "ECu_R"
     ]
    },
    {
     "name": "stderr",
     "output_type": "stream",
     "text": [
      "compute surface area: 0.00 seconds\n",
      "fill point array: 0.00 seconds\n",
      "fill cell array: 0.00 seconds\n",
      "mesh_to_polydata: 0.00 seconds\n",
      "simplify 0 @ 393: 0.02 seconds\n",
      "time: 0.03\n",
      "marching cube: 0.00 seconds\n"
     ]
    },
    {
     "name": "stdout",
     "output_type": "stream",
     "text": [
      "\n",
      "EVe_L"
     ]
    },
    {
     "name": "stderr",
     "output_type": "stream",
     "text": [
      "compute surface area: 0.00 seconds\n",
      "fill point array: 0.00 seconds\n",
      "fill cell array: 0.00 seconds\n",
      "mesh_to_polydata: 0.00 seconds\n",
      "simplify 0 @ 371: 0.02 seconds\n",
      "time: 0.03\n",
      "marching cube: 0.00 seconds\n"
     ]
    },
    {
     "name": "stdout",
     "output_type": "stream",
     "text": [
      "\n",
      "EVe_R"
     ]
    },
    {
     "name": "stderr",
     "output_type": "stream",
     "text": [
      "compute surface area: 0.00 seconds\n",
      "fill point array: 0.00 seconds\n",
      "fill cell array: 0.00 seconds\n",
      "mesh_to_polydata: 0.00 seconds\n",
      "time: 0.01\n",
      "marching cube: 0.00 seconds\n"
     ]
    },
    {
     "name": "stdout",
     "output_type": "stream",
     "text": [
      "\n",
      "EW_L"
     ]
    },
    {
     "name": "stderr",
     "output_type": "stream",
     "text": [
      "compute surface area: 0.00 seconds\n",
      "fill point array: 0.00 seconds\n",
      "fill cell array: 0.00 seconds\n",
      "mesh_to_polydata: 0.00 seconds\n",
      "simplify 0 @ 1438: 0.02 seconds\n",
      "simplify 1 @ 289: 0.01 seconds\n",
      "time: 0.05\n",
      "marching cube: 0.01 seconds\n",
      "compute surface area: 0.00 seconds\n",
      "fill point array: 0.01 seconds\n",
      "fill cell array: 0.00 seconds\n",
      "mesh_to_polydata: 0.01 seconds\n",
      "simplify 0 @ 1086: 0.06 seconds\n"
     ]
    },
    {
     "name": "stdout",
     "output_type": "stream",
     "text": [
      "\n",
      "EW_R"
     ]
    },
    {
     "name": "stderr",
     "output_type": "stream",
     "text": [
      "simplify 1 @ 218: 0.01 seconds\n",
      "time: 0.09\n",
      "marching cube: 0.02 seconds\n",
      "compute surface area: 0.00 seconds\n",
      "fill point array: 0.01 seconds\n",
      "fill cell array: 0.00 seconds\n",
      "mesh_to_polydata: 0.01 seconds\n",
      "simplify 0 @ 2501: 0.12 seconds\n"
     ]
    },
    {
     "name": "stdout",
     "output_type": "stream",
     "text": [
      "\n",
      "GrC_L"
     ]
    },
    {
     "name": "stderr",
     "output_type": "stream",
     "text": [
      "simplify 1 @ 501: 0.03 seconds\n",
      "time: 0.19\n",
      "marching cube: 0.00 seconds\n"
     ]
    },
    {
     "name": "stdout",
     "output_type": "stream",
     "text": [
      "\n",
      "GrC_R"
     ]
    },
    {
     "name": "stderr",
     "output_type": "stream",
     "text": [
      "compute surface area: 0.00 seconds\n",
      "fill point array: 0.00 seconds\n",
      "fill cell array: 0.00 seconds\n",
      "mesh_to_polydata: 0.00 seconds\n",
      "simplify 0 @ 317: 0.02 seconds\n",
      "time: 0.03\n",
      "marching cube: 0.01 seconds\n",
      "compute surface area: 0.00 seconds\n",
      "fill point array: 0.01 seconds\n",
      "fill cell array: 0.00 seconds\n",
      "mesh_to_polydata: 0.01 seconds\n",
      "simplify 0 @ 1392: 0.05 seconds\n"
     ]
    },
    {
     "name": "stdout",
     "output_type": "stream",
     "text": [
      "\n",
      "Gr_L"
     ]
    },
    {
     "name": "stderr",
     "output_type": "stream",
     "text": [
      "simplify 1 @ 280: 0.01 seconds\n",
      "time: 0.09\n",
      "marching cube: 0.00 seconds\n",
      "compute surface area: 0.00 seconds\n",
      "fill point array: 0.00 seconds\n",
      "fill cell array: 0.00 seconds\n",
      "mesh_to_polydata: 0.00 seconds\n",
      "simplify 0 @ 803: 0.06 seconds\n"
     ]
    },
    {
     "name": "stdout",
     "output_type": "stream",
     "text": [
      "\n",
      "Gr_R"
     ]
    },
    {
     "name": "stderr",
     "output_type": "stream",
     "text": [
      "time: 0.08\n",
      "marching cube: 0.21 seconds\n",
      "compute surface area: 0.01 seconds\n",
      "fill point array: 0.05 seconds\n",
      "fill cell array: 0.00 seconds\n",
      "mesh_to_polydata: 0.05 seconds\n",
      "simplify 0 @ 22104: 0.48 seconds\n"
     ]
    },
    {
     "name": "stdout",
     "output_type": "stream",
     "text": [
      "\n",
      "IC_L"
     ]
    },
    {
     "name": "stderr",
     "output_type": "stream",
     "text": [
      "simplify 1 @ 4425: 0.18 seconds\n",
      "simplify 2 @ 889: 0.05 seconds\n",
      "time: 0.99\n",
      "marching cube: 0.01 seconds\n",
      "compute surface area: 0.00 seconds\n",
      "fill point array: 0.02 seconds\n",
      "fill cell array: 0.00 seconds\n",
      "mesh_to_polydata: 0.02 seconds\n",
      "simplify 0 @ 3440: 0.20 seconds\n"
     ]
    },
    {
     "name": "stdout",
     "output_type": "stream",
     "text": [
      "\n",
      "IC_R"
     ]
    },
    {
     "name": "stderr",
     "output_type": "stream",
     "text": [
      "simplify 1 @ 689: 0.04 seconds\n",
      "time: 0.28\n",
      "marching cube: 1.19 seconds\n",
      "compute surface area: 0.05 seconds\n",
      "fill point array: 0.25 seconds\n",
      "fill cell array: 0.01 seconds\n",
      "mesh_to_polydata: 0.26 seconds\n",
      "simplify 0 @ 103106: 2.85 seconds\n",
      "simplify 1 @ 20622: 0.93 seconds\n",
      "simplify 2 @ 4126: 0.20 seconds\n"
     ]
    },
    {
     "name": "stdout",
     "output_type": "stream",
     "text": [
      "\n",
      "IF_L"
     ]
    },
    {
     "name": "stderr",
     "output_type": "stream",
     "text": [
      "time: 5.52\n",
      "marching cube: 0.00 seconds\n"
     ]
    },
    {
     "name": "stdout",
     "output_type": "stream",
     "text": [
      "\n",
      "IF_R"
     ]
    },
    {
     "name": "stderr",
     "output_type": "stream",
     "text": [
      "compute surface area: 0.00 seconds\n",
      "fill point array: 0.00 seconds\n",
      "fill cell array: 0.00 seconds\n",
      "mesh_to_polydata: 0.00 seconds\n",
      "simplify 0 @ 250: 0.01 seconds\n",
      "time: 0.03\n",
      "marching cube: 0.01 seconds\n",
      "compute surface area: 0.00 seconds\n",
      "fill point array: 0.01 seconds\n",
      "fill cell array: 0.00 seconds\n",
      "mesh_to_polydata: 0.01 seconds\n",
      "simplify 0 @ 2842: 0.06 seconds\n"
     ]
    },
    {
     "name": "stdout",
     "output_type": "stream",
     "text": [
      "\n",
      "IO_L"
     ]
    },
    {
     "name": "stderr",
     "output_type": "stream",
     "text": [
      "simplify 1 @ 570: 0.03 seconds\n",
      "time: 0.11\n",
      "marching cube: 0.37 seconds\n",
      "compute surface area: 0.02 seconds\n",
      "fill point array: 0.12 seconds\n",
      "fill cell array: 0.00 seconds\n",
      "mesh_to_polydata: 0.13 seconds\n",
      "simplify 0 @ 37600: 1.53 seconds\n",
      "simplify 1 @ 7522: 0.35 seconds\n",
      "simplify 2 @ 1506: 0.08 seconds\n"
     ]
    },
    {
     "name": "stdout",
     "output_type": "stream",
     "text": [
      "\n",
      "IO_R"
     ]
    },
    {
     "name": "stderr",
     "output_type": "stream",
     "text": [
      "time: 2.49\n",
      "marching cube: 0.01 seconds\n",
      "compute surface area: 0.00 seconds\n",
      "fill point array: 0.01 seconds\n",
      "fill cell array: 0.00 seconds\n",
      "mesh_to_polydata: 0.01 seconds\n",
      "simplify 0 @ 2207: 0.22 seconds\n"
     ]
    },
    {
     "name": "stdout",
     "output_type": "stream",
     "text": [
      "\n",
      "IPA_L"
     ]
    },
    {
     "name": "stderr",
     "output_type": "stream",
     "text": [
      "simplify 1 @ 443: 0.02 seconds\n",
      "time: 0.28\n",
      "marching cube: 0.00 seconds\n"
     ]
    },
    {
     "name": "stdout",
     "output_type": "stream",
     "text": [
      "\n",
      "IPA_R"
     ]
    },
    {
     "name": "stderr",
     "output_type": "stream",
     "text": [
      "compute surface area: 0.00 seconds\n",
      "fill point array: 0.00 seconds\n",
      "fill cell array: 0.00 seconds\n",
      "mesh_to_polydata: 0.00 seconds\n",
      "simplify 0 @ 449: 0.02 seconds\n",
      "time: 0.03\n",
      "marching cube: 0.02 seconds\n",
      "compute surface area: 0.00 seconds\n",
      "fill point array: 0.01 seconds\n",
      "fill cell array: 0.00 seconds\n",
      "mesh_to_polydata: 0.01 seconds\n",
      "simplify 0 @ 5529: 0.09 seconds\n"
     ]
    },
    {
     "name": "stdout",
     "output_type": "stream",
     "text": [
      "\n",
      "IPC_L"
     ]
    },
    {
     "name": "stderr",
     "output_type": "stream",
     "text": [
      "simplify 1 @ 1107: 0.05 seconds\n",
      "simplify 2 @ 223: 0.01 seconds\n",
      "time: 0.19\n",
      "marching cube: 0.01 seconds\n",
      "compute surface area: 0.00 seconds\n",
      "fill point array: 0.01 seconds\n",
      "fill cell array: 0.00 seconds\n",
      "mesh_to_polydata: 0.01 seconds\n",
      "simplify 0 @ 1568: 0.08 seconds\n"
     ]
    },
    {
     "name": "stdout",
     "output_type": "stream",
     "text": [
      "\n",
      "IPC_R"
     ]
    },
    {
     "name": "stderr",
     "output_type": "stream",
     "text": [
      "simplify 1 @ 315: 0.02 seconds\n",
      "time: 0.12\n",
      "marching cube: 0.01 seconds\n",
      "compute surface area: 0.00 seconds\n",
      "fill point array: 0.01 seconds\n",
      "fill cell array: 0.00 seconds\n",
      "mesh_to_polydata: 0.01 seconds\n",
      "simplify 0 @ 1074: 0.05 seconds\n"
     ]
    },
    {
     "name": "stdout",
     "output_type": "stream",
     "text": [
      "\n",
      "IPR_L"
     ]
    },
    {
     "name": "stderr",
     "output_type": "stream",
     "text": [
      "simplify 1 @ 216: 0.01 seconds\n",
      "time: 0.08\n",
      "marching cube: 0.01 seconds\n",
      "compute surface area: 0.00 seconds\n",
      "fill point array: 0.01 seconds\n",
      "fill cell array: 0.00 seconds\n",
      "mesh_to_polydata: 0.01 seconds\n",
      "simplify 0 @ 1714: 0.07 seconds\n"
     ]
    },
    {
     "name": "stdout",
     "output_type": "stream",
     "text": [
      "\n",
      "IPR_R"
     ]
    },
    {
     "name": "stderr",
     "output_type": "stream",
     "text": [
      "simplify 1 @ 344: 0.02 seconds\n",
      "time: 0.11\n",
      "marching cube: 0.00 seconds\n",
      "compute surface area: 0.00 seconds\n",
      "fill point array: 0.00 seconds\n",
      "fill cell array: 0.00 seconds\n",
      "mesh_to_polydata: 0.01 seconds\n",
      "simplify 0 @ 898: 0.05 seconds\n"
     ]
    },
    {
     "name": "stdout",
     "output_type": "stream",
     "text": [
      "\n",
      "InC_L"
     ]
    },
    {
     "name": "stderr",
     "output_type": "stream",
     "text": [
      "time: 0.07\n",
      "marching cube: 0.01 seconds\n",
      "compute surface area: 0.00 seconds\n",
      "fill point array: 0.00 seconds\n",
      "fill cell array: 0.00 seconds\n",
      "mesh_to_polydata: 0.00 seconds\n",
      "simplify 0 @ 825: 0.04 seconds\n",
      "time: 0.06\n"
     ]
    },
    {
     "name": "stdout",
     "output_type": "stream",
     "text": [
      "\n",
      "InC_R"
     ]
    },
    {
     "name": "stderr",
     "output_type": "stream",
     "text": [
      "marching cube: 0.01 seconds\n",
      "compute surface area: 0.00 seconds\n",
      "fill point array: 0.01 seconds\n",
      "fill cell array: 0.00 seconds\n",
      "mesh_to_polydata: 0.01 seconds\n",
      "simplify 0 @ 1596: 0.07 seconds\n"
     ]
    },
    {
     "name": "stdout",
     "output_type": "stream",
     "text": [
      "\n",
      "LC_L"
     ]
    },
    {
     "name": "stderr",
     "output_type": "stream",
     "text": [
      "simplify 1 @ 320: 0.02 seconds\n",
      "time: 0.10\n",
      "marching cube: 0.05 seconds\n",
      "compute surface area: 0.00 seconds\n",
      "fill point array: 0.02 seconds\n",
      "fill cell array: 0.00 seconds\n",
      "mesh_to_polydata: 0.02 seconds\n",
      "simplify 0 @ 8725: 0.22 seconds\n"
     ]
    },
    {
     "name": "stdout",
     "output_type": "stream",
     "text": [
      "\n",
      "LC_R"
     ]
    },
    {
     "name": "stderr",
     "output_type": "stream",
     "text": [
      "simplify 1 @ 1746: 0.08 seconds\n",
      "simplify 2 @ 350: 0.02 seconds\n",
      "time: 0.40\n",
      "marching cube: 0.04 seconds\n",
      "compute surface area: 0.00 seconds\n",
      "fill point array: 0.02 seconds\n",
      "fill cell array: 0.00 seconds\n",
      "mesh_to_polydata: 0.02 seconds\n",
      "simplify 0 @ 7425: 0.18 seconds\n"
     ]
    },
    {
     "name": "stdout",
     "output_type": "stream",
     "text": [
      "\n",
      "LDTg_L"
     ]
    },
    {
     "name": "stderr",
     "output_type": "stream",
     "text": [
      "simplify 1 @ 1486: 0.07 seconds\n",
      "simplify 2 @ 298: 0.02 seconds\n",
      "time: 0.33\n",
      "marching cube: 0.00 seconds\n"
     ]
    },
    {
     "name": "stdout",
     "output_type": "stream",
     "text": [
      "\n",
      "LDTg_R"
     ]
    },
    {
     "name": "stderr",
     "output_type": "stream",
     "text": [
      "compute surface area: 0.00 seconds\n",
      "fill point array: 0.00 seconds\n",
      "fill cell array: 0.00 seconds\n",
      "mesh_to_polydata: 0.00 seconds\n",
      "simplify 0 @ 1513: 0.03 seconds\n",
      "simplify 1 @ 304: 0.01 seconds\n",
      "time: 0.05\n",
      "marching cube: 0.04 seconds\n",
      "compute surface area: 0.00 seconds\n",
      "fill point array: 0.02 seconds\n",
      "fill cell array: 0.00 seconds\n",
      "mesh_to_polydata: 0.02 seconds\n",
      "simplify 0 @ 7000: 0.24 seconds\n"
     ]
    },
    {
     "name": "stdout",
     "output_type": "stream",
     "text": [
      "\n",
      "LPBD_L"
     ]
    },
    {
     "name": "stderr",
     "output_type": "stream",
     "text": [
      "simplify 1 @ 1401: 0.06 seconds\n",
      "simplify 2 @ 281: 0.01 seconds\n",
      "time: 0.38\n",
      "marching cube: 0.00 seconds\n"
     ]
    },
    {
     "name": "stdout",
     "output_type": "stream",
     "text": [
      "\n",
      "LPBD_R"
     ]
    },
    {
     "name": "stderr",
     "output_type": "stream",
     "text": [
      "compute surface area: 0.00 seconds\n",
      "fill point array: 0.00 seconds\n",
      "fill cell array: 0.00 seconds\n",
      "mesh_to_polydata: 0.00 seconds\n",
      "simplify 0 @ 548: 0.02 seconds\n",
      "time: 0.03\n",
      "marching cube: 0.00 seconds\n"
     ]
    },
    {
     "name": "stdout",
     "output_type": "stream",
     "text": [
      "\n",
      "LPBE_L"
     ]
    },
    {
     "name": "stderr",
     "output_type": "stream",
     "text": [
      "compute surface area: 0.00 seconds\n",
      "fill point array: 0.00 seconds\n",
      "fill cell array: 0.00 seconds\n",
      "mesh_to_polydata: 0.00 seconds\n",
      "simplify 0 @ 426: 0.02 seconds\n",
      "time: 0.03\n",
      "marching cube: 0.00 seconds\n"
     ]
    },
    {
     "name": "stdout",
     "output_type": "stream",
     "text": [
      "\n",
      "LPBE_R"
     ]
    },
    {
     "name": "stderr",
     "output_type": "stream",
     "text": [
      "compute surface area: 0.00 seconds\n",
      "fill point array: 0.00 seconds\n",
      "fill cell array: 0.00 seconds\n",
      "mesh_to_polydata: 0.00 seconds\n",
      "simplify 0 @ 1023: 0.02 seconds\n",
      "simplify 1 @ 206: 0.01 seconds\n",
      "time: 0.04\n",
      "marching cube: 0.01 seconds\n",
      "compute surface area: 0.00 seconds\n",
      "fill point array: 0.00 seconds\n",
      "fill cell array: 0.00 seconds\n",
      "mesh_to_polydata: 0.00 seconds\n",
      "simplify 0 @ 1318: 0.04 seconds\n",
      "simplify 1 @ 265: 0.01 seconds\n"
     ]
    },
    {
     "name": "stdout",
     "output_type": "stream",
     "text": [
      "\n",
      "LPB_L"
     ]
    },
    {
     "name": "stderr",
     "output_type": "stream",
     "text": [
      "time: 0.07\n",
      "marching cube: 0.00 seconds\n"
     ]
    },
    {
     "name": "stdout",
     "output_type": "stream",
     "text": [
      "\n",
      "LPB_R"
     ]
    },
    {
     "name": "stderr",
     "output_type": "stream",
     "text": [
      "compute surface area: 0.00 seconds\n",
      "fill point array: 0.00 seconds\n",
      "fill cell array: 0.00 seconds\n",
      "mesh_to_polydata: 0.00 seconds\n",
      "simplify 0 @ 1543: 0.03 seconds\n",
      "simplify 1 @ 311: 0.01 seconds\n",
      "time: 0.06\n",
      "marching cube: 0.01 seconds\n",
      "compute surface area: 0.00 seconds\n",
      "fill point array: 0.01 seconds\n",
      "fill cell array: 0.00 seconds\n",
      "mesh_to_polydata: 0.01 seconds\n",
      "simplify 0 @ 1212: 0.07 seconds\n"
     ]
    },
    {
     "name": "stdout",
     "output_type": "stream",
     "text": [
      "\n",
      "LPGi_L"
     ]
    },
    {
     "name": "stderr",
     "output_type": "stream",
     "text": [
      "simplify 1 @ 244: 0.01 seconds\n",
      "time: 0.10\n",
      "marching cube: 0.02 seconds\n",
      "compute surface area: 0.00 seconds\n",
      "fill point array: 0.01 seconds\n",
      "fill cell array: 0.00 seconds\n",
      "mesh_to_polydata: 0.02 seconds\n",
      "simplify 0 @ 2460: 0.16 seconds\n"
     ]
    },
    {
     "name": "stdout",
     "output_type": "stream",
     "text": [
      "\n",
      "LPGi_R"
     ]
    },
    {
     "name": "stderr",
     "output_type": "stream",
     "text": [
      "simplify 1 @ 493: 0.03 seconds\n",
      "time: 0.23\n",
      "marching cube: 0.01 seconds\n",
      "compute surface area: 0.00 seconds\n",
      "fill point array: 0.02 seconds\n",
      "fill cell array: 0.00 seconds\n",
      "mesh_to_polydata: 0.02 seconds\n",
      "simplify 0 @ 2598: 0.17 seconds\n"
     ]
    },
    {
     "name": "stdout",
     "output_type": "stream",
     "text": [
      "\n",
      "LRt_L"
     ]
    },
    {
     "name": "stderr",
     "output_type": "stream",
     "text": [
      "simplify 1 @ 521: 0.03 seconds\n",
      "time: 0.24\n",
      "marching cube: 0.27 seconds\n",
      "compute surface area: 0.02 seconds\n",
      "fill point array: 0.10 seconds\n",
      "fill cell array: 0.00 seconds\n",
      "mesh_to_polydata: 0.10 seconds\n",
      "simplify 0 @ 30442: 1.07 seconds\n",
      "simplify 1 @ 6094: 0.29 seconds\n",
      "simplify 2 @ 1225: 0.06 seconds\n"
     ]
    },
    {
     "name": "stdout",
     "output_type": "stream",
     "text": [
      "\n",
      "LRt_R"
     ]
    },
    {
     "name": "stderr",
     "output_type": "stream",
     "text": [
      "time: 1.83\n",
      "marching cube: 0.22 seconds\n",
      "compute surface area: 0.02 seconds\n",
      "fill point array: 0.07 seconds\n",
      "fill cell array: 0.00 seconds\n",
      "mesh_to_polydata: 0.08 seconds\n",
      "simplify 0 @ 24832: 0.79 seconds\n",
      "simplify 1 @ 4968: 0.24 seconds\n",
      "simplify 2 @ 995: 0.06 seconds\n"
     ]
    },
    {
     "name": "stdout",
     "output_type": "stream",
     "text": [
      "\n",
      "LSO_L"
     ]
    },
    {
     "name": "stderr",
     "output_type": "stream",
     "text": [
      "time: 1.41\n",
      "marching cube: 0.01 seconds\n",
      "compute surface area: 0.00 seconds\n",
      "fill point array: 0.01 seconds\n",
      "fill cell array: 0.00 seconds\n",
      "mesh_to_polydata: 0.01 seconds\n",
      "simplify 0 @ 2418: 0.09 seconds\n"
     ]
    },
    {
     "name": "stdout",
     "output_type": "stream",
     "text": [
      "\n",
      "LSO_R"
     ]
    },
    {
     "name": "stderr",
     "output_type": "stream",
     "text": [
      "simplify 1 @ 485: 0.02 seconds\n",
      "time: 0.15\n",
      "marching cube: 0.03 seconds\n",
      "compute surface area: 0.00 seconds\n",
      "fill point array: 0.02 seconds\n",
      "fill cell array: 0.00 seconds\n",
      "mesh_to_polydata: 0.02 seconds\n",
      "simplify 0 @ 6057: 0.15 seconds\n"
     ]
    },
    {
     "name": "stdout",
     "output_type": "stream",
     "text": [
      "\n",
      "LVPO_L"
     ]
    },
    {
     "name": "stderr",
     "output_type": "stream",
     "text": [
      "simplify 1 @ 1213: 0.05 seconds\n",
      "simplify 2 @ 244: 0.01 seconds\n",
      "time: 0.26\n",
      "marching cube: 0.03 seconds\n",
      "compute surface area: 0.00 seconds\n",
      "fill point array: 0.01 seconds\n",
      "fill cell array: 0.00 seconds\n",
      "mesh_to_polydata: 0.01 seconds\n",
      "simplify 0 @ 3452: 0.14 seconds\n"
     ]
    },
    {
     "name": "stdout",
     "output_type": "stream",
     "text": [
      "\n",
      "LVPO_R"
     ]
    },
    {
     "name": "stderr",
     "output_type": "stream",
     "text": [
      "simplify 1 @ 692: 0.03 seconds\n",
      "time: 0.23\n",
      "marching cube: 0.01 seconds\n",
      "compute surface area: 0.00 seconds\n",
      "fill point array: 0.01 seconds\n",
      "fill cell array: 0.00 seconds\n",
      "mesh_to_polydata: 0.01 seconds\n",
      "simplify 0 @ 1564: 0.06 seconds\n"
     ]
    },
    {
     "name": "stdout",
     "output_type": "stream",
     "text": [
      "\n",
      "LVe_L"
     ]
    },
    {
     "name": "stderr",
     "output_type": "stream",
     "text": [
      "simplify 1 @ 314: 0.02 seconds\n",
      "time: 0.10\n",
      "marching cube: 0.04 seconds\n",
      "compute surface area: 0.00 seconds\n",
      "fill point array: 0.02 seconds\n",
      "fill cell array: 0.00 seconds\n",
      "mesh_to_polydata: 0.03 seconds\n",
      "simplify 0 @ 9841: 0.28 seconds\n"
     ]
    },
    {
     "name": "stdout",
     "output_type": "stream",
     "text": [
      "\n",
      "LVe_R"
     ]
    },
    {
     "name": "stderr",
     "output_type": "stream",
     "text": [
      "simplify 1 @ 1969: 0.09 seconds\n",
      "simplify 2 @ 395: 0.02 seconds\n",
      "time: 0.46\n",
      "marching cube: 0.01 seconds\n",
      "compute surface area: 0.00 seconds\n",
      "fill point array: 0.01 seconds\n",
      "fill cell array: 0.00 seconds\n",
      "mesh_to_polydata: 0.01 seconds\n",
      "simplify 0 @ 1093: 0.06 seconds\n"
     ]
    },
    {
     "name": "stdout",
     "output_type": "stream",
     "text": [
      "\n",
      "Li_L"
     ]
    },
    {
     "name": "stderr",
     "output_type": "stream",
     "text": [
      "simplify 1 @ 220: 0.01 seconds\n",
      "time: 0.09\n",
      "marching cube: 0.03 seconds\n",
      "compute surface area: 0.00 seconds\n",
      "fill point array: 0.01 seconds\n",
      "fill cell array: 0.00 seconds\n",
      "mesh_to_polydata: 0.01 seconds\n",
      "simplify 0 @ 3793: 0.12 seconds\n"
     ]
    },
    {
     "name": "stdout",
     "output_type": "stream",
     "text": [
      "\n",
      "Li_R"
     ]
    },
    {
     "name": "stderr",
     "output_type": "stream",
     "text": [
      "simplify 1 @ 760: 0.03 seconds\n",
      "time: 0.20\n",
      "marching cube: 0.01 seconds\n",
      "compute surface area: 0.00 seconds\n",
      "fill point array: 0.00 seconds\n",
      "fill cell array: 0.00 seconds\n",
      "mesh_to_polydata: 0.00 seconds\n",
      "simplify 0 @ 1488: 0.03 seconds\n",
      "simplify 1 @ 299: 0.01 seconds\n",
      "time: 0.06\n"
     ]
    },
    {
     "name": "stdout",
     "output_type": "stream",
     "text": [
      "\n",
      "MPBE_L\n",
      "MPB_L"
     ]
    },
    {
     "name": "stderr",
     "output_type": "stream",
     "text": [
      "marching cube: 0.00 seconds\n",
      "compute surface area: 0.00 seconds\n",
      "fill point array: 0.00 seconds\n",
      "fill cell array: 0.00 seconds\n",
      "mesh_to_polydata: 0.00 seconds\n",
      "simplify 0 @ 447: 0.02 seconds\n",
      "time: 0.03\n",
      "marching cube: 0.03 seconds\n",
      "compute surface area: 0.00 seconds\n",
      "fill point array: 0.02 seconds\n",
      "fill cell array: 0.00 seconds\n",
      "mesh_to_polydata: 0.02 seconds\n",
      "simplify 0 @ 4169: 0.15 seconds\n"
     ]
    },
    {
     "name": "stdout",
     "output_type": "stream",
     "text": [
      "\n",
      "MPB_R"
     ]
    },
    {
     "name": "stderr",
     "output_type": "stream",
     "text": [
      "simplify 1 @ 835: 0.04 seconds\n",
      "time: 0.25\n",
      "marching cube: 0.01 seconds\n",
      "compute surface area: 0.00 seconds\n",
      "fill point array: 0.01 seconds\n",
      "fill cell array: 0.00 seconds\n",
      "mesh_to_polydata: 0.01 seconds\n",
      "simplify 0 @ 1462: 0.09 seconds\n"
     ]
    },
    {
     "name": "stdout",
     "output_type": "stream",
     "text": [
      "\n",
      "MVPO_L"
     ]
    },
    {
     "name": "stderr",
     "output_type": "stream",
     "text": [
      "simplify 1 @ 294: 0.02 seconds\n",
      "time: 0.13\n",
      "marching cube: 0.02 seconds\n",
      "compute surface area: 0.00 seconds\n",
      "fill point array: 0.01 seconds\n",
      "fill cell array: 0.00 seconds\n",
      "mesh_to_polydata: 0.01 seconds\n",
      "simplify 0 @ 3391: 0.14 seconds\n"
     ]
    },
    {
     "name": "stdout",
     "output_type": "stream",
     "text": [
      "\n",
      "MVPO_R"
     ]
    },
    {
     "name": "stderr",
     "output_type": "stream",
     "text": [
      "simplify 1 @ 675: 0.03 seconds\n",
      "time: 0.21\n",
      "marching cube: 0.01 seconds\n",
      "compute surface area: 0.00 seconds\n",
      "fill point array: 0.00 seconds\n",
      "fill cell array: 0.00 seconds\n",
      "mesh_to_polydata: 0.00 seconds\n",
      "simplify 0 @ 930: 0.04 seconds\n",
      "time: 0.06\n"
     ]
    },
    {
     "name": "stdout",
     "output_type": "stream",
     "text": [
      "\n",
      "MVeMC_L"
     ]
    },
    {
     "name": "stderr",
     "output_type": "stream",
     "text": [
      "marching cube: 0.04 seconds\n",
      "compute surface area: 0.00 seconds\n",
      "fill point array: 0.03 seconds\n",
      "fill cell array: 0.00 seconds\n",
      "mesh_to_polydata: 0.03 seconds\n",
      "simplify 0 @ 7110: 0.39 seconds\n"
     ]
    },
    {
     "name": "stdout",
     "output_type": "stream",
     "text": [
      "\n",
      "MVeMC_R"
     ]
    },
    {
     "name": "stderr",
     "output_type": "stream",
     "text": [
      "simplify 1 @ 1423: 0.07 seconds\n",
      "simplify 2 @ 286: 0.01 seconds\n",
      "time: 0.54\n",
      "marching cube: 0.01 seconds\n",
      "compute surface area: 0.00 seconds\n",
      "fill point array: 0.01 seconds\n",
      "fill cell array: 0.00 seconds\n",
      "mesh_to_polydata: 0.01 seconds\n",
      "simplify 0 @ 1381: 0.08 seconds\n"
     ]
    },
    {
     "name": "stdout",
     "output_type": "stream",
     "text": [
      "\n",
      "Me5_L"
     ]
    },
    {
     "name": "stderr",
     "output_type": "stream",
     "text": [
      "simplify 1 @ 277: 0.02 seconds\n",
      "time: 0.12\n",
      "marching cube: 0.05 seconds\n",
      "compute surface area: 0.00 seconds\n",
      "fill point array: 0.01 seconds\n",
      "fill cell array: 0.00 seconds\n",
      "mesh_to_polydata: 0.01 seconds\n",
      "simplify 0 @ 3032: 0.16 seconds\n"
     ]
    },
    {
     "name": "stdout",
     "output_type": "stream",
     "text": [
      "\n",
      "Me5_R"
     ]
    },
    {
     "name": "stderr",
     "output_type": "stream",
     "text": [
      "simplify 1 @ 606: 0.03 seconds\n",
      "time: 0.26\n",
      "marching cube: 0.14 seconds\n",
      "compute surface area: 0.00 seconds\n",
      "fill point array: 0.02 seconds\n",
      "fill cell array: 0.00 seconds\n",
      "mesh_to_polydata: 0.02 seconds\n",
      "simplify 0 @ 5609: 0.17 seconds\n"
     ]
    },
    {
     "name": "stdout",
     "output_type": "stream",
     "text": [
      "\n",
      "MiTg_L"
     ]
    },
    {
     "name": "stderr",
     "output_type": "stream",
     "text": [
      "simplify 1 @ 1132: 0.05 seconds\n",
      "simplify 2 @ 234: 0.01 seconds\n",
      "time: 0.40\n",
      "marching cube: 0.00 seconds\n"
     ]
    },
    {
     "name": "stdout",
     "output_type": "stream",
     "text": [
      "\n",
      "MiTg_R"
     ]
    },
    {
     "name": "stderr",
     "output_type": "stream",
     "text": [
      "compute surface area: 0.00 seconds\n",
      "fill point array: 0.00 seconds\n",
      "fill cell array: 0.00 seconds\n",
      "mesh_to_polydata: 0.00 seconds\n",
      "simplify 0 @ 425: 0.02 seconds\n",
      "time: 0.03\n",
      "marching cube: 0.00 seconds\n"
     ]
    },
    {
     "name": "stdout",
     "output_type": "stream",
     "text": [
      "\n",
      "MnR_L"
     ]
    },
    {
     "name": "stderr",
     "output_type": "stream",
     "text": [
      "compute surface area: 0.00 seconds\n",
      "fill point array: 0.00 seconds\n",
      "fill cell array: 0.00 seconds\n",
      "mesh_to_polydata: 0.00 seconds\n",
      "simplify 0 @ 556: 0.03 seconds\n",
      "time: 0.04\n",
      "marching cube: 0.01 seconds\n",
      "compute surface area: 0.00 seconds\n",
      "fill point array: 0.01 seconds\n",
      "fill cell array: 0.00 seconds\n",
      "mesh_to_polydata: 0.01 seconds\n",
      "simplify 0 @ 2278: 0.11 seconds\n"
     ]
    },
    {
     "name": "stdout",
     "output_type": "stream",
     "text": [
      "\n",
      "MnR_R"
     ]
    },
    {
     "name": "stderr",
     "output_type": "stream",
     "text": [
      "simplify 1 @ 457: 0.02 seconds\n",
      "time: 0.17\n",
      "marching cube: 0.02 seconds\n",
      "compute surface area: 0.00 seconds\n",
      "fill point array: 0.01 seconds\n",
      "fill cell array: 0.00 seconds\n",
      "mesh_to_polydata: 0.02 seconds\n",
      "simplify 0 @ 2737: 0.14 seconds\n"
     ]
    },
    {
     "name": "stdout",
     "output_type": "stream",
     "text": [
      "\n",
      "Op_L"
     ]
    },
    {
     "name": "stderr",
     "output_type": "stream",
     "text": [
      "simplify 1 @ 549: 0.03 seconds\n",
      "time: 0.20\n",
      "marching cube: 0.01 seconds\n"
     ]
    },
    {
     "name": "stdout",
     "output_type": "stream",
     "text": [
      "\n",
      "Op_R"
     ]
    },
    {
     "name": "stderr",
     "output_type": "stream",
     "text": [
      "compute surface area: 0.00 seconds\n",
      "fill point array: 0.00 seconds\n",
      "fill cell array: 0.00 seconds\n",
      "mesh_to_polydata: 0.00 seconds\n",
      "simplify 0 @ 630: 0.03 seconds\n",
      "time: 0.06\n",
      "marching cube: 0.07 seconds\n",
      "compute surface area: 0.00 seconds\n",
      "fill point array: 0.02 seconds\n",
      "fill cell array: 0.00 seconds\n",
      "mesh_to_polydata: 0.02 seconds\n",
      "simplify 0 @ 6110: 0.13 seconds\n"
     ]
    },
    {
     "name": "stdout",
     "output_type": "stream",
     "text": [
      "\n",
      "PBG_L"
     ]
    },
    {
     "name": "stderr",
     "output_type": "stream",
     "text": [
      "simplify 1 @ 1222: 0.05 seconds\n",
      "simplify 2 @ 244: 0.01 seconds\n",
      "time: 0.28\n",
      "marching cube: 0.00 seconds\n"
     ]
    },
    {
     "name": "stdout",
     "output_type": "stream",
     "text": [
      "\n",
      "PBG_R"
     ]
    },
    {
     "name": "stderr",
     "output_type": "stream",
     "text": [
      "compute surface area: 0.00 seconds\n",
      "fill point array: 0.00 seconds\n",
      "fill cell array: 0.00 seconds\n",
      "mesh_to_polydata: 0.00 seconds\n",
      "simplify 0 @ 326: 0.02 seconds\n",
      "time: 0.03\n",
      "marching cube: 0.02 seconds\n",
      "compute surface area: 0.00 seconds\n",
      "fill point array: 0.01 seconds\n",
      "fill cell array: 0.00 seconds\n",
      "mesh_to_polydata: 0.01 seconds\n",
      "simplify 0 @ 2697: 0.10 seconds\n"
     ]
    },
    {
     "name": "stdout",
     "output_type": "stream",
     "text": [
      "\n",
      "PCom_R"
     ]
    },
    {
     "name": "stderr",
     "output_type": "stream",
     "text": [
      "simplify 1 @ 541: 0.03 seconds\n",
      "time: 0.17\n",
      "marching cube: 0.00 seconds\n",
      "compute surface area: 0.00 seconds\n",
      "fill point array: 0.00 seconds\n",
      "fill cell array: 0.00 seconds\n",
      "mesh_to_polydata: 0.00 seconds\n",
      "simplify 0 @ 616: 0.05 seconds\n"
     ]
    },
    {
     "name": "stdout",
     "output_type": "stream",
     "text": [
      "\n",
      "PDR_R"
     ]
    },
    {
     "name": "stderr",
     "output_type": "stream",
     "text": [
      "time: 0.07\n",
      "marching cube: 0.00 seconds\n",
      "compute surface area: 0.00 seconds\n",
      "fill point array: 0.01 seconds\n",
      "fill cell array: 0.00 seconds\n",
      "mesh_to_polydata: 0.01 seconds\n",
      "simplify 0 @ 965: 0.04 seconds\n"
     ]
    },
    {
     "name": "stdout",
     "output_type": "stream",
     "text": [
      "\n",
      "PDTg_L"
     ]
    },
    {
     "name": "stderr",
     "output_type": "stream",
     "text": [
      "time: 0.07\n",
      "marching cube: 0.00 seconds\n"
     ]
    },
    {
     "name": "stdout",
     "output_type": "stream",
     "text": [
      "\n",
      "PDTg_R"
     ]
    },
    {
     "name": "stderr",
     "output_type": "stream",
     "text": [
      "compute surface area: 0.00 seconds\n",
      "fill point array: 0.00 seconds\n",
      "fill cell array: 0.00 seconds\n",
      "mesh_to_polydata: 0.00 seconds\n",
      "simplify 0 @ 225: 0.01 seconds\n",
      "time: 0.02\n",
      "marching cube: 0.00 seconds\n"
     ]
    },
    {
     "name": "stdout",
     "output_type": "stream",
     "text": [
      "\n",
      "PTg_L"
     ]
    },
    {
     "name": "stderr",
     "output_type": "stream",
     "text": [
      "compute surface area: 0.00 seconds\n",
      "fill point array: 0.00 seconds\n",
      "fill cell array: 0.00 seconds\n",
      "mesh_to_polydata: 0.00 seconds\n",
      "simplify 0 @ 210: 0.01 seconds\n",
      "time: 0.02\n",
      "marching cube: 0.07 seconds\n",
      "compute surface area: 0.01 seconds\n",
      "fill point array: 0.03 seconds\n",
      "fill cell array: 0.00 seconds\n",
      "mesh_to_polydata: 0.03 seconds\n",
      "simplify 0 @ 10201: 0.32 seconds\n"
     ]
    },
    {
     "name": "stdout",
     "output_type": "stream",
     "text": [
      "\n",
      "PTg_R"
     ]
    },
    {
     "name": "stderr",
     "output_type": "stream",
     "text": [
      "simplify 1 @ 2041: 0.09 seconds\n",
      "simplify 2 @ 409: 0.02 seconds\n",
      "time: 0.54\n",
      "marching cube: 0.00 seconds\n",
      "compute surface area: 0.00 seconds\n",
      "fill point array: 0.00 seconds\n",
      "fill cell array: 0.00 seconds\n",
      "mesh_to_polydata: 0.00 seconds\n",
      "simplify 0 @ 766: 0.05 seconds\n"
     ]
    },
    {
     "name": "stdout",
     "output_type": "stream",
     "text": [
      "\n",
      "Pn_L"
     ]
    },
    {
     "name": "stderr",
     "output_type": "stream",
     "text": [
      "time: 0.07\n",
      "marching cube: 0.30 seconds\n",
      "compute surface area: 0.02 seconds\n",
      "fill point array: 0.11 seconds\n",
      "fill cell array: 0.00 seconds\n",
      "mesh_to_polydata: 0.12 seconds\n",
      "simplify 0 @ 64968: 1.08 seconds\n",
      "simplify 1 @ 12997: 0.58 seconds\n",
      "simplify 2 @ 2602: 0.13 seconds\n"
     ]
    },
    {
     "name": "stdout",
     "output_type": "stream",
     "text": [
      "\n",
      "Pn_R"
     ]
    },
    {
     "name": "stderr",
     "output_type": "stream",
     "text": [
      "time: 2.24\n",
      "marching cube: 0.30 seconds\n",
      "compute surface area: 0.02 seconds\n",
      "fill point array: 0.11 seconds\n",
      "fill cell array: 0.00 seconds\n",
      "mesh_to_polydata: 0.12 seconds\n",
      "simplify 0 @ 62265: 1.08 seconds\n",
      "simplify 1 @ 12455: 0.49 seconds\n",
      "simplify 2 @ 2492: 0.12 seconds\n"
     ]
    },
    {
     "name": "stdout",
     "output_type": "stream",
     "text": [
      "\n",
      "Pr5DM_L"
     ]
    },
    {
     "name": "stderr",
     "output_type": "stream",
     "text": [
      "time: 2.15\n",
      "marching cube: 0.01 seconds\n",
      "compute surface area: 0.00 seconds\n",
      "fill point array: 0.02 seconds\n",
      "fill cell array: 0.00 seconds\n",
      "mesh_to_polydata: 0.02 seconds\n",
      "simplify 0 @ 3849: 0.24 seconds\n"
     ]
    },
    {
     "name": "stdout",
     "output_type": "stream",
     "text": [
      "\n",
      "Pr5DM_R"
     ]
    },
    {
     "name": "stderr",
     "output_type": "stream",
     "text": [
      "simplify 1 @ 771: 0.04 seconds\n",
      "time: 0.33\n",
      "marching cube: 0.05 seconds\n",
      "compute surface area: 0.01 seconds\n",
      "fill point array: 0.03 seconds\n",
      "fill cell array: 0.00 seconds\n",
      "mesh_to_polydata: 0.03 seconds\n",
      "simplify 0 @ 10765: 0.32 seconds\n"
     ]
    },
    {
     "name": "stdout",
     "output_type": "stream",
     "text": [
      "\n",
      "Pr5VL_L"
     ]
    },
    {
     "name": "stderr",
     "output_type": "stream",
     "text": [
      "simplify 1 @ 2154: 0.09 seconds\n",
      "simplify 2 @ 432: 0.02 seconds\n",
      "time: 0.54\n",
      "marching cube: 0.02 seconds\n",
      "compute surface area: 0.00 seconds\n",
      "fill point array: 0.02 seconds\n",
      "fill cell array: 0.00 seconds\n",
      "mesh_to_polydata: 0.02 seconds\n",
      "simplify 0 @ 3694: 0.27 seconds\n"
     ]
    },
    {
     "name": "stdout",
     "output_type": "stream",
     "text": [
      "\n",
      "Pr5VL_R"
     ]
    },
    {
     "name": "stderr",
     "output_type": "stream",
     "text": [
      "simplify 1 @ 740: 0.04 seconds\n",
      "time: 0.36\n",
      "marching cube: 0.01 seconds\n",
      "compute surface area: 0.00 seconds\n",
      "fill point array: 0.01 seconds\n",
      "fill cell array: 0.00 seconds\n",
      "mesh_to_polydata: 0.01 seconds\n",
      "simplify 0 @ 1593: 0.08 seconds\n"
     ]
    },
    {
     "name": "stdout",
     "output_type": "stream",
     "text": [
      "\n",
      "Pr5_L"
     ]
    },
    {
     "name": "stderr",
     "output_type": "stream",
     "text": [
      "simplify 1 @ 320: 0.02 seconds\n",
      "time: 0.12\n",
      "marching cube: 0.07 seconds\n",
      "compute surface area: 0.01 seconds\n",
      "fill point array: 0.04 seconds\n",
      "fill cell array: 0.00 seconds\n",
      "mesh_to_polydata: 0.04 seconds\n",
      "simplify 0 @ 7716: 0.63 seconds\n"
     ]
    },
    {
     "name": "stdout",
     "output_type": "stream",
     "text": [
      "\n",
      "Pr5_R"
     ]
    },
    {
     "name": "stderr",
     "output_type": "stream",
     "text": [
      "simplify 1 @ 1543: 0.07 seconds\n",
      "simplify 2 @ 308: 0.02 seconds\n",
      "time: 0.85\n",
      "marching cube: 0.03 seconds\n",
      "compute surface area: 0.01 seconds\n",
      "fill point array: 0.05 seconds\n",
      "fill cell array: 0.00 seconds\n",
      "mesh_to_polydata: 0.05 seconds\n",
      "simplify 0 @ 8000: 0.75 seconds\n"
     ]
    },
    {
     "name": "stdout",
     "output_type": "stream",
     "text": [
      "\n",
      "PrC_R"
     ]
    },
    {
     "name": "stderr",
     "output_type": "stream",
     "text": [
      "simplify 1 @ 1601: 0.08 seconds\n",
      "simplify 2 @ 321: 0.02 seconds\n",
      "time: 0.93\n",
      "marching cube: 0.00 seconds\n"
     ]
    },
    {
     "name": "stdout",
     "output_type": "stream",
     "text": [
      "\n",
      "PrVd_L"
     ]
    },
    {
     "name": "stderr",
     "output_type": "stream",
     "text": [
      "compute surface area: 0.00 seconds\n",
      "fill point array: 0.00 seconds\n",
      "fill cell array: 0.00 seconds\n",
      "mesh_to_polydata: 0.00 seconds\n",
      "simplify 0 @ 562: 0.03 seconds\n",
      "time: 0.04\n",
      "marching cube: 0.01 seconds\n",
      "compute surface area: 0.00 seconds\n",
      "fill point array: 0.01 seconds\n",
      "fill cell array: 0.00 seconds\n",
      "mesh_to_polydata: 0.01 seconds\n",
      "simplify 0 @ 1034: 0.06 seconds\n"
     ]
    },
    {
     "name": "stdout",
     "output_type": "stream",
     "text": [
      "\n",
      "PrVd_R"
     ]
    },
    {
     "name": "stderr",
     "output_type": "stream",
     "text": [
      "simplify 1 @ 208: 0.01 seconds\n",
      "time: 0.09\n",
      "marching cube: 0.01 seconds\n",
      "compute surface area: 0.00 seconds\n",
      "fill point array: 0.01 seconds\n",
      "fill cell array: 0.00 seconds\n",
      "mesh_to_polydata: 0.01 seconds\n",
      "simplify 0 @ 1976: 0.12 seconds\n"
     ]
    },
    {
     "name": "stdout",
     "output_type": "stream",
     "text": [
      "\n",
      "PrVv_L"
     ]
    },
    {
     "name": "stderr",
     "output_type": "stream",
     "text": [
      "simplify 1 @ 396: 0.02 seconds\n",
      "time: 0.17\n",
      "marching cube: 0.01 seconds\n",
      "compute surface area: 0.00 seconds\n",
      "fill point array: 0.01 seconds\n",
      "fill cell array: 0.00 seconds\n",
      "mesh_to_polydata: 0.01 seconds\n",
      "simplify 0 @ 1096: 0.11 seconds\n"
     ]
    },
    {
     "name": "stdout",
     "output_type": "stream",
     "text": [
      "\n",
      "PrVv_R"
     ]
    },
    {
     "name": "stderr",
     "output_type": "stream",
     "text": [
      "simplify 1 @ 222: 0.01 seconds\n",
      "time: 0.15\n",
      "marching cube: 0.02 seconds\n",
      "compute surface area: 0.00 seconds\n",
      "fill point array: 0.02 seconds\n",
      "fill cell array: 0.00 seconds\n",
      "mesh_to_polydata: 0.02 seconds\n",
      "simplify 0 @ 4016: 0.39 seconds\n"
     ]
    },
    {
     "name": "stdout",
     "output_type": "stream",
     "text": [
      "\n",
      "RMC_L"
     ]
    },
    {
     "name": "stderr",
     "output_type": "stream",
     "text": [
      "simplify 1 @ 804: 0.04 seconds\n",
      "time: 0.49\n",
      "marching cube: 0.01 seconds\n",
      "compute surface area: 0.00 seconds\n",
      "fill point array: 0.01 seconds\n",
      "fill cell array: 0.00 seconds\n",
      "mesh_to_polydata: 0.01 seconds\n",
      "simplify 0 @ 968: 0.05 seconds\n"
     ]
    },
    {
     "name": "stdout",
     "output_type": "stream",
     "text": [
      "\n",
      "RMC_R"
     ]
    },
    {
     "name": "stderr",
     "output_type": "stream",
     "text": [
      "time: 0.07\n",
      "marching cube: 0.01 seconds\n"
     ]
    },
    {
     "name": "stdout",
     "output_type": "stream",
     "text": [
      "\n",
      "RPF_L"
     ]
    },
    {
     "name": "stderr",
     "output_type": "stream",
     "text": [
      "compute surface area: 0.00 seconds\n",
      "fill point array: 0.00 seconds\n",
      "fill cell array: 0.00 seconds\n",
      "mesh_to_polydata: 0.00 seconds\n",
      "simplify 0 @ 1414: 0.02 seconds\n",
      "simplify 1 @ 286: 0.01 seconds\n",
      "time: 0.05\n",
      "marching cube: 0.00 seconds\n"
     ]
    },
    {
     "name": "stdout",
     "output_type": "stream",
     "text": [
      "\n",
      "RPF_R"
     ]
    },
    {
     "name": "stderr",
     "output_type": "stream",
     "text": [
      "compute surface area: 0.00 seconds\n",
      "fill point array: 0.00 seconds\n",
      "fill cell array: 0.00 seconds\n",
      "mesh_to_polydata: 0.00 seconds\n",
      "simplify 0 @ 586: 0.03 seconds\n",
      "time: 0.04\n",
      "marching cube: 0.00 seconds\n"
     ]
    },
    {
     "name": "stdout",
     "output_type": "stream",
     "text": [
      "\n",
      "RR_L"
     ]
    },
    {
     "name": "stderr",
     "output_type": "stream",
     "text": [
      "compute surface area: 0.00 seconds\n",
      "fill point array: 0.00 seconds\n",
      "fill cell array: 0.00 seconds\n",
      "mesh_to_polydata: 0.00 seconds\n",
      "simplify 0 @ 599: 0.03 seconds\n",
      "time: 0.05\n",
      "marching cube: 0.00 seconds\n"
     ]
    },
    {
     "name": "stdout",
     "output_type": "stream",
     "text": [
      "\n",
      "RR_R"
     ]
    },
    {
     "name": "stderr",
     "output_type": "stream",
     "text": [
      "compute surface area: 0.00 seconds\n",
      "fill point array: 0.00 seconds\n",
      "fill cell array: 0.00 seconds\n",
      "mesh_to_polydata: 0.00 seconds\n",
      "simplify 0 @ 447: 0.02 seconds\n",
      "time: 0.03\n",
      "marching cube: 0.01 seconds\n",
      "compute surface area: 0.00 seconds\n",
      "fill point array: 0.01 seconds\n",
      "fill cell array: 0.00 seconds\n",
      "mesh_to_polydata: 0.01 seconds\n",
      "simplify 0 @ 1522: 0.07 seconds\n"
     ]
    },
    {
     "name": "stdout",
     "output_type": "stream",
     "text": [
      "\n",
      "R_L"
     ]
    },
    {
     "name": "stderr",
     "output_type": "stream",
     "text": [
      "simplify 1 @ 306: 0.01 seconds\n",
      "time: 0.10\n",
      "marching cube: 0.11 seconds\n",
      "compute surface area: 0.01 seconds\n",
      "fill point array: 0.05 seconds\n",
      "fill cell array: 0.00 seconds\n",
      "mesh_to_polydata: 0.05 seconds\n",
      "simplify 0 @ 17117: 0.57 seconds\n"
     ]
    },
    {
     "name": "stdout",
     "output_type": "stream",
     "text": [
      "\n",
      "R_R"
     ]
    },
    {
     "name": "stderr",
     "output_type": "stream",
     "text": [
      "simplify 1 @ 3424: 0.15 seconds\n",
      "simplify 2 @ 686: 0.04 seconds\n",
      "time: 0.92\n",
      "marching cube: 0.10 seconds\n",
      "compute surface area: 0.01 seconds\n",
      "fill point array: 0.05 seconds\n",
      "fill cell array: 0.00 seconds\n",
      "mesh_to_polydata: 0.06 seconds\n",
      "simplify 0 @ 15340: 0.55 seconds\n"
     ]
    },
    {
     "name": "stdout",
     "output_type": "stream",
     "text": [
      "\n",
      "RtTg"
     ]
    },
    {
     "name": "stderr",
     "output_type": "stream",
     "text": [
      "simplify 1 @ 3069: 0.14 seconds\n",
      "simplify 2 @ 615: 0.03 seconds\n",
      "time: 0.88\n",
      "marching cube: 0.82 seconds\n",
      "compute surface area: 0.06 seconds\n",
      "fill point array: 0.27 seconds\n",
      "fill cell array: 0.01 seconds\n",
      "mesh_to_polydata: 0.28 seconds\n",
      "simplify 0 @ 96225: 2.96 seconds\n",
      "simplify 1 @ 19248: 0.99 seconds\n",
      "simplify 2 @ 3852: 0.18 seconds\n"
     ]
    },
    {
     "name": "stdout",
     "output_type": "stream",
     "text": [
      "\n",
      "SCO_L"
     ]
    },
    {
     "name": "stderr",
     "output_type": "stream",
     "text": [
      "time: 5.32\n",
      "marching cube: 0.01 seconds\n"
     ]
    },
    {
     "name": "stdout",
     "output_type": "stream",
     "text": [
      "\n",
      "SC_L"
     ]
    },
    {
     "name": "stderr",
     "output_type": "stream",
     "text": [
      "compute surface area: 0.00 seconds\n",
      "fill point array: 0.00 seconds\n",
      "fill cell array: 0.00 seconds\n",
      "mesh_to_polydata: 0.00 seconds\n",
      "simplify 0 @ 413: 0.02 seconds\n",
      "time: 0.04\n",
      "marching cube: 0.01 seconds\n",
      "compute surface area: 0.00 seconds\n",
      "fill point array: 0.01 seconds\n",
      "fill cell array: 0.00 seconds\n",
      "mesh_to_polydata: 0.01 seconds\n",
      "simplify 0 @ 2279: 0.11 seconds\n"
     ]
    },
    {
     "name": "stdout",
     "output_type": "stream",
     "text": [
      "\n",
      "SC_R"
     ]
    },
    {
     "name": "stderr",
     "output_type": "stream",
     "text": [
      "simplify 1 @ 457: 0.02 seconds\n",
      "time: 0.17\n",
      "marching cube: 1.59 seconds\n",
      "compute surface area: 0.07 seconds\n",
      "fill point array: 0.33 seconds\n",
      "fill cell array: 0.01 seconds\n",
      "mesh_to_polydata: 0.34 seconds\n",
      "simplify 0 @ 142646: 3.71 seconds\n",
      "simplify 1 @ 28531: 1.36 seconds\n",
      "simplify 2 @ 5707: 0.27 seconds\n"
     ]
    },
    {
     "name": "stdout",
     "output_type": "stream",
     "text": [
      "\n",
      "SGe_L"
     ]
    },
    {
     "name": "stderr",
     "output_type": "stream",
     "text": [
      "time: 7.41\n",
      "marching cube: 0.00 seconds\n"
     ]
    },
    {
     "name": "stdout",
     "output_type": "stream",
     "text": [
      "\n",
      "SGe_R"
     ]
    },
    {
     "name": "stderr",
     "output_type": "stream",
     "text": [
      "compute surface area: 0.00 seconds\n",
      "fill point array: 0.00 seconds\n",
      "fill cell array: 0.00 seconds\n",
      "mesh_to_polydata: 0.00 seconds\n",
      "simplify 0 @ 450: 0.02 seconds\n",
      "time: 0.03\n",
      "marching cube: 0.00 seconds\n"
     ]
    },
    {
     "name": "stdout",
     "output_type": "stream",
     "text": [
      "\n",
      "SNCD_L"
     ]
    },
    {
     "name": "stderr",
     "output_type": "stream",
     "text": [
      "compute surface area: 0.00 seconds\n",
      "fill point array: 0.00 seconds\n",
      "fill cell array: 0.00 seconds\n",
      "mesh_to_polydata: 0.00 seconds\n",
      "time: 0.01\n",
      "marching cube: 0.00 seconds\n"
     ]
    },
    {
     "name": "stdout",
     "output_type": "stream",
     "text": [
      "\n",
      "SNCD_R"
     ]
    },
    {
     "name": "stderr",
     "output_type": "stream",
     "text": [
      "compute surface area: 0.00 seconds\n",
      "fill point array: 0.00 seconds\n",
      "fill cell array: 0.00 seconds\n",
      "mesh_to_polydata: 0.00 seconds\n",
      "time: 0.01\n",
      "marching cube: 0.07 seconds\n",
      "compute surface area: 0.00 seconds\n",
      "fill point array: 0.01 seconds\n",
      "fill cell array: 0.00 seconds\n",
      "mesh_to_polydata: 0.01 seconds\n",
      "simplify 0 @ 5943: 0.13 seconds\n"
     ]
    },
    {
     "name": "stdout",
     "output_type": "stream",
     "text": [
      "\n",
      "SNC_L"
     ]
    },
    {
     "name": "stderr",
     "output_type": "stream",
     "text": [
      "simplify 1 @ 1191: 0.05 seconds\n",
      "simplify 2 @ 243: 0.01 seconds\n",
      "time: 0.28\n",
      "marching cube: 0.48 seconds\n",
      "compute surface area: 0.01 seconds\n",
      "fill point array: 0.07 seconds\n",
      "fill cell array: 0.00 seconds\n",
      "mesh_to_polydata: 0.07 seconds\n",
      "simplify 0 @ 36495: 0.56 seconds\n",
      "simplify 1 @ 7305: 0.29 seconds\n",
      "simplify 2 @ 1466: 0.07 seconds\n"
     ]
    },
    {
     "name": "stdout",
     "output_type": "stream",
     "text": [
      "\n",
      "SNC_R"
     ]
    },
    {
     "name": "stderr",
     "output_type": "stream",
     "text": [
      "time: 1.49\n",
      "marching cube: 0.12 seconds\n",
      "compute surface area: 0.01 seconds\n",
      "fill point array: 0.05 seconds\n",
      "fill cell array: 0.00 seconds\n",
      "mesh_to_polydata: 0.05 seconds\n",
      "simplify 0 @ 18255: 0.56 seconds\n"
     ]
    },
    {
     "name": "stdout",
     "output_type": "stream",
     "text": [
      "\n",
      "SNR_L"
     ]
    },
    {
     "name": "stderr",
     "output_type": "stream",
     "text": [
      "simplify 1 @ 3654: 0.19 seconds\n",
      "simplify 2 @ 734: 0.04 seconds\n",
      "time: 0.98\n",
      "marching cube: 0.59 seconds\n",
      "compute surface area: 0.03 seconds\n",
      "fill point array: 0.14 seconds\n",
      "fill cell array: 0.00 seconds\n",
      "mesh_to_polydata: 0.14 seconds\n",
      "simplify 0 @ 72871: 1.32 seconds\n",
      "simplify 1 @ 14575: 0.62 seconds\n",
      "simplify 2 @ 2916: 0.13 seconds\n"
     ]
    },
    {
     "name": "stdout",
     "output_type": "stream",
     "text": [
      "\n",
      "SNR_R"
     ]
    },
    {
     "name": "stderr",
     "output_type": "stream",
     "text": [
      "time: 2.84\n",
      "marching cube: 0.15 seconds\n",
      "compute surface area: 0.01 seconds\n",
      "fill point array: 0.05 seconds\n",
      "fill cell array: 0.00 seconds\n",
      "mesh_to_polydata: 0.05 seconds\n",
      "simplify 0 @ 16695: 0.46 seconds\n"
     ]
    },
    {
     "name": "stdout",
     "output_type": "stream",
     "text": [
      "\n",
      "SPO_L"
     ]
    },
    {
     "name": "stderr",
     "output_type": "stream",
     "text": [
      "simplify 1 @ 3340: 0.15 seconds\n",
      "simplify 2 @ 669: 0.03 seconds\n",
      "time: 0.86\n",
      "marching cube: 0.00 seconds\n",
      "compute surface area: 0.00 seconds\n",
      "fill point array: 0.00 seconds\n",
      "fill cell array: 0.00 seconds\n",
      "mesh_to_polydata: 0.01 seconds\n",
      "simplify 0 @ 683: 0.04 seconds\n",
      "time: 0.06\n"
     ]
    },
    {
     "name": "stdout",
     "output_type": "stream",
     "text": [
      "\n",
      "SPO_R"
     ]
    },
    {
     "name": "stderr",
     "output_type": "stream",
     "text": [
      "marching cube: 0.00 seconds\n",
      "compute surface area: 0.00 seconds\n",
      "fill point array: 0.00 seconds\n",
      "fill cell array: 0.00 seconds\n",
      "mesh_to_polydata: 0.00 seconds\n",
      "simplify 0 @ 866: 0.07 seconds\n"
     ]
    },
    {
     "name": "stdout",
     "output_type": "stream",
     "text": [
      "\n",
      "Sol_L"
     ]
    },
    {
     "name": "stderr",
     "output_type": "stream",
     "text": [
      "time: 0.09\n",
      "marching cube: 0.01 seconds\n"
     ]
    },
    {
     "name": "stdout",
     "output_type": "stream",
     "text": [
      "\n",
      "Sol_R"
     ]
    },
    {
     "name": "stderr",
     "output_type": "stream",
     "text": [
      "compute surface area: 0.00 seconds\n",
      "fill point array: 0.00 seconds\n",
      "fill cell array: 0.00 seconds\n",
      "mesh_to_polydata: 0.00 seconds\n",
      "simplify 0 @ 704: 0.03 seconds\n",
      "time: 0.05\n",
      "marching cube: 0.48 seconds\n",
      "compute surface area: 0.02 seconds\n",
      "fill point array: 0.10 seconds\n",
      "fill cell array: 0.00 seconds\n",
      "mesh_to_polydata: 0.10 seconds\n",
      "simplify 0 @ 38704: 1.04 seconds\n",
      "simplify 1 @ 7740: 0.34 seconds\n",
      "simplify 2 @ 1551: 0.07 seconds\n"
     ]
    },
    {
     "name": "stdout",
     "output_type": "stream",
     "text": [
      "\n",
      "Sp5C_L"
     ]
    },
    {
     "name": "stderr",
     "output_type": "stream",
     "text": [
      "time: 2.05\n",
      "marching cube: 0.05 seconds\n",
      "compute surface area: 0.00 seconds\n",
      "fill point array: 0.03 seconds\n",
      "fill cell array: 0.00 seconds\n",
      "mesh_to_polydata: 0.03 seconds\n",
      "simplify 0 @ 7586: 0.35 seconds\n"
     ]
    },
    {
     "name": "stdout",
     "output_type": "stream",
     "text": [
      "\n",
      "Sp5C_R"
     ]
    },
    {
     "name": "stderr",
     "output_type": "stream",
     "text": [
      "simplify 1 @ 1518: 0.07 seconds\n",
      "simplify 2 @ 305: 0.01 seconds\n",
      "time: 0.52\n",
      "marching cube: 0.10 seconds\n",
      "compute surface area: 0.01 seconds\n",
      "fill point array: 0.05 seconds\n",
      "fill cell array: 0.00 seconds\n",
      "mesh_to_polydata: 0.05 seconds\n",
      "simplify 0 @ 10895: 0.48 seconds\n"
     ]
    },
    {
     "name": "stdout",
     "output_type": "stream",
     "text": [
      "\n",
      "Sp5I_L"
     ]
    },
    {
     "name": "stderr",
     "output_type": "stream",
     "text": [
      "simplify 1 @ 2180: 0.10 seconds\n",
      "simplify 2 @ 437: 0.02 seconds\n",
      "time: 0.77\n",
      "marching cube: 0.06 seconds\n",
      "compute surface area: 0.01 seconds\n",
      "fill point array: 0.03 seconds\n",
      "fill cell array: 0.00 seconds\n",
      "mesh_to_polydata: 0.03 seconds\n",
      "simplify 0 @ 8156: 0.39 seconds\n"
     ]
    },
    {
     "name": "stdout",
     "output_type": "stream",
     "text": [
      "\n",
      "Sp5I_R"
     ]
    },
    {
     "name": "stderr",
     "output_type": "stream",
     "text": [
      "simplify 1 @ 1632: 0.07 seconds\n",
      "simplify 2 @ 328: 0.02 seconds\n",
      "time: 0.59\n",
      "marching cube: 0.14 seconds\n",
      "compute surface area: 0.01 seconds\n",
      "fill point array: 0.06 seconds\n",
      "fill cell array: 0.00 seconds\n",
      "mesh_to_polydata: 0.07 seconds\n",
      "simplify 0 @ 15015: 0.77 seconds\n"
     ]
    },
    {
     "name": "stdout",
     "output_type": "stream",
     "text": [
      "\n",
      "Sp5O_L"
     ]
    },
    {
     "name": "stderr",
     "output_type": "stream",
     "text": [
      "simplify 1 @ 3004: 0.16 seconds\n",
      "simplify 2 @ 602: 0.03 seconds\n",
      "time: 1.18\n",
      "marching cube: 0.12 seconds\n",
      "compute surface area: 0.01 seconds\n",
      "fill point array: 0.06 seconds\n",
      "fill cell array: 0.00 seconds\n",
      "mesh_to_polydata: 0.07 seconds\n",
      "simplify 0 @ 11510: 0.81 seconds\n"
     ]
    },
    {
     "name": "stdout",
     "output_type": "stream",
     "text": [
      "\n",
      "Sp5O_R"
     ]
    },
    {
     "name": "stderr",
     "output_type": "stream",
     "text": [
      "simplify 1 @ 2305: 0.11 seconds\n",
      "simplify 2 @ 464: 0.03 seconds\n",
      "time: 1.14\n",
      "marching cube: 0.18 seconds\n",
      "compute surface area: 0.02 seconds\n",
      "fill point array: 0.09 seconds\n",
      "fill cell array: 0.00 seconds\n",
      "mesh_to_polydata: 0.09 seconds\n",
      "simplify 0 @ 16278: 1.15 seconds\n"
     ]
    },
    {
     "name": "stdout",
     "output_type": "stream",
     "text": [
      "\n",
      "SpVe_L"
     ]
    },
    {
     "name": "stderr",
     "output_type": "stream",
     "text": [
      "simplify 1 @ 3257: 0.17 seconds\n",
      "simplify 2 @ 653: 0.03 seconds\n",
      "time: 1.65\n",
      "marching cube: 0.01 seconds\n",
      "compute surface area: 0.00 seconds\n",
      "fill point array: 0.01 seconds\n",
      "fill cell array: 0.00 seconds\n",
      "mesh_to_polydata: 0.01 seconds\n",
      "simplify 0 @ 1377: 0.07 seconds\n"
     ]
    },
    {
     "name": "stdout",
     "output_type": "stream",
     "text": [
      "\n",
      "SpVe_R"
     ]
    },
    {
     "name": "stderr",
     "output_type": "stream",
     "text": [
      "simplify 1 @ 277: 0.02 seconds\n",
      "time: 0.11\n",
      "marching cube: 0.01 seconds\n",
      "compute surface area: 0.00 seconds\n",
      "fill point array: 0.01 seconds\n",
      "fill cell array: 0.00 seconds\n",
      "mesh_to_polydata: 0.01 seconds\n",
      "simplify 0 @ 1760: 0.10 seconds\n"
     ]
    },
    {
     "name": "stdout",
     "output_type": "stream",
     "text": [
      "\n",
      "SuVe_L"
     ]
    },
    {
     "name": "stderr",
     "output_type": "stream",
     "text": [
      "simplify 1 @ 353: 0.02 seconds\n",
      "time: 0.14\n",
      "marching cube: 0.09 seconds\n",
      "compute surface area: 0.01 seconds\n",
      "fill point array: 0.04 seconds\n",
      "fill cell array: 0.00 seconds\n",
      "mesh_to_polydata: 0.04 seconds\n",
      "simplify 0 @ 17314: 0.37 seconds\n"
     ]
    },
    {
     "name": "stdout",
     "output_type": "stream",
     "text": [
      "\n",
      "SuVe_R"
     ]
    },
    {
     "name": "stderr",
     "output_type": "stream",
     "text": [
      "simplify 1 @ 3464: 0.14 seconds\n",
      "simplify 2 @ 694: 0.03 seconds\n",
      "time: 0.69\n",
      "marching cube: 0.07 seconds\n",
      "compute surface area: 0.01 seconds\n",
      "fill point array: 0.03 seconds\n",
      "fill cell array: 0.00 seconds\n",
      "mesh_to_polydata: 0.03 seconds\n",
      "simplify 0 @ 10417: 0.35 seconds\n"
     ]
    },
    {
     "name": "stdout",
     "output_type": "stream",
     "text": [
      "\n",
      "Tz_L"
     ]
    },
    {
     "name": "stderr",
     "output_type": "stream",
     "text": [
      "simplify 1 @ 2085: 0.10 seconds\n",
      "simplify 2 @ 418: 0.02 seconds\n",
      "time: 0.59\n",
      "marching cube: 0.05 seconds\n",
      "compute surface area: 0.01 seconds\n",
      "fill point array: 0.03 seconds\n",
      "fill cell array: 0.00 seconds\n",
      "mesh_to_polydata: 0.03 seconds\n",
      "simplify 0 @ 15190: 0.28 seconds\n"
     ]
    },
    {
     "name": "stdout",
     "output_type": "stream",
     "text": [
      "\n",
      "Tz_R"
     ]
    },
    {
     "name": "stderr",
     "output_type": "stream",
     "text": [
      "simplify 1 @ 3039: 0.12 seconds\n",
      "simplify 2 @ 609: 0.03 seconds\n",
      "time: 0.52\n",
      "marching cube: 0.06 seconds\n",
      "compute surface area: 0.01 seconds\n",
      "fill point array: 0.03 seconds\n",
      "fill cell array: 0.00 seconds\n",
      "mesh_to_polydata: 0.03 seconds\n",
      "simplify 0 @ 14823: 0.31 seconds\n"
     ]
    },
    {
     "name": "stdout",
     "output_type": "stream",
     "text": [
      "\n",
      "UDF_L"
     ]
    },
    {
     "name": "stderr",
     "output_type": "stream",
     "text": [
      "simplify 1 @ 2966: 0.13 seconds\n",
      "simplify 2 @ 594: 0.03 seconds\n",
      "time: 0.57\n",
      "marching cube: 0.04 seconds\n",
      "compute surface area: 0.00 seconds\n",
      "fill point array: 0.01 seconds\n",
      "fill cell array: 0.00 seconds\n",
      "mesh_to_polydata: 0.01 seconds\n",
      "simplify 0 @ 5004: 0.09 seconds\n"
     ]
    },
    {
     "name": "stdout",
     "output_type": "stream",
     "text": [
      "\n",
      "UDF_R"
     ]
    },
    {
     "name": "stderr",
     "output_type": "stream",
     "text": [
      "simplify 1 @ 1003: 0.04 seconds\n",
      "simplify 2 @ 203: 0.01 seconds\n",
      "time: 0.20\n",
      "marching cube: 0.00 seconds\n"
     ]
    },
    {
     "name": "stdout",
     "output_type": "stream",
     "text": [
      "\n",
      "UDFtr_L"
     ]
    },
    {
     "name": "stderr",
     "output_type": "stream",
     "text": [
      "compute surface area: 0.00 seconds\n",
      "fill point array: 0.00 seconds\n",
      "fill cell array: 0.00 seconds\n",
      "mesh_to_polydata: 0.00 seconds\n",
      "simplify 0 @ 437: 0.03 seconds\n",
      "time: 0.04\n",
      "marching cube: 0.09 seconds\n",
      "compute surface area: 0.00 seconds\n",
      "fill point array: 0.02 seconds\n",
      "fill cell array: 0.00 seconds\n",
      "mesh_to_polydata: 0.02 seconds\n",
      "simplify 0 @ 5417: 0.18 seconds\n"
     ]
    },
    {
     "name": "stdout",
     "output_type": "stream",
     "text": [
      "\n",
      "UDFtr_R"
     ]
    },
    {
     "name": "stderr",
     "output_type": "stream",
     "text": [
      "simplify 1 @ 1098: 0.05 seconds\n",
      "simplify 2 @ 231: 0.01 seconds\n",
      "time: 0.35\n",
      "marching cube: 0.06 seconds\n",
      "compute surface area: 0.00 seconds\n",
      "fill point array: 0.01 seconds\n",
      "fill cell array: 0.00 seconds\n",
      "mesh_to_polydata: 0.01 seconds\n",
      "simplify 0 @ 3189: 0.08 seconds\n"
     ]
    },
    {
     "name": "stdout",
     "output_type": "stream",
     "text": [
      "\n",
      "VCAGr_L"
     ]
    },
    {
     "name": "stderr",
     "output_type": "stream",
     "text": [
      "simplify 1 @ 647: 0.03 seconds\n",
      "time: 0.19\n",
      "marching cube: 0.04 seconds\n",
      "compute surface area: 0.00 seconds\n",
      "fill point array: 0.01 seconds\n",
      "fill cell array: 0.00 seconds\n",
      "mesh_to_polydata: 0.01 seconds\n",
      "simplify 0 @ 3006: 0.10 seconds\n"
     ]
    },
    {
     "name": "stdout",
     "output_type": "stream",
     "text": [
      "\n",
      "VCAGr_R"
     ]
    },
    {
     "name": "stderr",
     "output_type": "stream",
     "text": [
      "simplify 1 @ 601: 0.03 seconds\n",
      "time: 0.18\n",
      "marching cube: 0.00 seconds\n"
     ]
    },
    {
     "name": "stdout",
     "output_type": "stream",
     "text": [
      "\n",
      "VCA_L"
     ]
    },
    {
     "name": "stderr",
     "output_type": "stream",
     "text": [
      "compute surface area: 0.00 seconds\n",
      "fill point array: 0.00 seconds\n",
      "fill cell array: 0.00 seconds\n",
      "mesh_to_polydata: 0.00 seconds\n",
      "simplify 0 @ 399: 0.02 seconds\n",
      "time: 0.03\n",
      "marching cube: 0.22 seconds\n",
      "compute surface area: 0.01 seconds\n",
      "fill point array: 0.06 seconds\n",
      "fill cell array: 0.00 seconds\n",
      "mesh_to_polydata: 0.06 seconds\n",
      "simplify 0 @ 24852: 0.77 seconds\n",
      "simplify 1 @ 4972: 0.19 seconds\n",
      "simplify 2 @ 995: 0.05 seconds\n"
     ]
    },
    {
     "name": "stdout",
     "output_type": "stream",
     "text": [
      "\n",
      "VCA_R"
     ]
    },
    {
     "name": "stderr",
     "output_type": "stream",
     "text": [
      "time: 1.31\n",
      "marching cube: 0.24 seconds\n",
      "compute surface area: 0.01 seconds\n",
      "fill point array: 0.14 seconds\n",
      "fill cell array: 0.00 seconds\n",
      "mesh_to_polydata: 0.14 seconds\n",
      "simplify 0 @ 30590: 0.70 seconds\n",
      "simplify 1 @ 6120: 0.23 seconds\n",
      "simplify 2 @ 1225: 0.06 seconds\n"
     ]
    },
    {
     "name": "stdout",
     "output_type": "stream",
     "text": [
      "\n",
      "VCPO_L"
     ]
    },
    {
     "name": "stderr",
     "output_type": "stream",
     "text": [
      "time: 1.40\n",
      "marching cube: 0.00 seconds\n"
     ]
    },
    {
     "name": "stdout",
     "output_type": "stream",
     "text": [
      "\n",
      "VCPO_R"
     ]
    },
    {
     "name": "stderr",
     "output_type": "stream",
     "text": [
      "compute surface area: 0.00 seconds\n",
      "fill point array: 0.00 seconds\n",
      "fill cell array: 0.00 seconds\n",
      "mesh_to_polydata: 0.00 seconds\n",
      "time: 0.01\n",
      "marching cube: 0.03 seconds\n"
     ]
    },
    {
     "name": "stdout",
     "output_type": "stream",
     "text": [
      "\n",
      "VCP_L"
     ]
    },
    {
     "name": "stderr",
     "output_type": "stream",
     "text": [
      "compute surface area: 0.00 seconds\n",
      "fill point array: 0.00 seconds\n",
      "fill cell array: 0.00 seconds\n",
      "mesh_to_polydata: 0.00 seconds\n",
      "simplify 0 @ 718: 0.01 seconds\n",
      "time: 0.05\n",
      "marching cube: 0.11 seconds\n",
      "compute surface area: 0.01 seconds\n",
      "fill point array: 0.05 seconds\n",
      "fill cell array: 0.00 seconds\n",
      "mesh_to_polydata: 0.05 seconds\n",
      "simplify 0 @ 14648: 0.48 seconds\n"
     ]
    },
    {
     "name": "stdout",
     "output_type": "stream",
     "text": [
      "\n",
      "VCP_R"
     ]
    },
    {
     "name": "stderr",
     "output_type": "stream",
     "text": [
      "simplify 1 @ 2931: 0.11 seconds\n",
      "simplify 2 @ 587: 0.03 seconds\n",
      "time: 0.80\n",
      "marching cube: 0.09 seconds\n",
      "compute surface area: 0.01 seconds\n",
      "fill point array: 0.04 seconds\n",
      "fill cell array: 0.00 seconds\n",
      "mesh_to_polydata: 0.04 seconds\n",
      "simplify 0 @ 16630: 0.39 seconds\n"
     ]
    },
    {
     "name": "stdout",
     "output_type": "stream",
     "text": [
      "\n",
      "VLL_L"
     ]
    },
    {
     "name": "stderr",
     "output_type": "stream",
     "text": [
      "simplify 1 @ 3327: 0.13 seconds\n",
      "simplify 2 @ 667: 0.03 seconds\n",
      "time: 0.69\n",
      "marching cube: 0.26 seconds\n",
      "compute surface area: 0.01 seconds\n",
      "fill point array: 0.06 seconds\n",
      "fill cell array: 0.00 seconds\n",
      "mesh_to_polydata: 0.06 seconds\n",
      "simplify 0 @ 23107: 0.66 seconds\n",
      "simplify 1 @ 4631: 0.21 seconds\n",
      "simplify 2 @ 938: 0.05 seconds\n",
      "time: 1.27\n"
     ]
    },
    {
     "name": "stdout",
     "output_type": "stream",
     "text": [
      "\n",
      "VLL_R"
     ]
    },
    {
     "name": "stderr",
     "output_type": "stream",
     "text": [
      "marching cube: 0.23 seconds\n",
      "compute surface area: 0.02 seconds\n",
      "fill point array: 0.08 seconds\n",
      "fill cell array: 0.00 seconds\n",
      "mesh_to_polydata: 0.08 seconds\n",
      "simplify 0 @ 29767: 0.80 seconds\n",
      "simplify 1 @ 5955: 0.24 seconds\n",
      "simplify 2 @ 1192: 0.06 seconds\n"
     ]
    },
    {
     "name": "stdout",
     "output_type": "stream",
     "text": [
      "\n",
      "VTA_L"
     ]
    },
    {
     "name": "stderr",
     "output_type": "stream",
     "text": [
      "time: 1.43\n",
      "marching cube: 0.01 seconds\n",
      "compute surface area: 0.00 seconds\n",
      "fill point array: 0.01 seconds\n",
      "fill cell array: 0.00 seconds\n",
      "mesh_to_polydata: 0.01 seconds\n",
      "simplify 0 @ 1667: 0.08 seconds\n"
     ]
    },
    {
     "name": "stdout",
     "output_type": "stream",
     "text": [
      "\n",
      "VTg_L"
     ]
    },
    {
     "name": "stderr",
     "output_type": "stream",
     "text": [
      "simplify 1 @ 335: 0.02 seconds\n",
      "time: 0.12\n",
      "marching cube: 0.01 seconds\n",
      "compute surface area: 0.00 seconds\n",
      "fill point array: 0.01 seconds\n",
      "fill cell array: 0.00 seconds\n",
      "mesh_to_polydata: 0.01 seconds\n",
      "simplify 0 @ 3296: 0.08 seconds\n"
     ]
    },
    {
     "name": "stdout",
     "output_type": "stream",
     "text": [
      "\n",
      "VTg_R"
     ]
    },
    {
     "name": "stderr",
     "output_type": "stream",
     "text": [
      "simplify 1 @ 662: 0.03 seconds\n",
      "time: 0.14\n",
      "marching cube: 0.02 seconds\n",
      "compute surface area: 0.00 seconds\n",
      "fill point array: 0.02 seconds\n",
      "fill cell array: 0.00 seconds\n",
      "mesh_to_polydata: 0.02 seconds\n",
      "simplify 0 @ 4976: 0.15 seconds\n"
     ]
    },
    {
     "name": "stdout",
     "output_type": "stream",
     "text": [
      "\n",
      "X_L"
     ]
    },
    {
     "name": "stderr",
     "output_type": "stream",
     "text": [
      "simplify 1 @ 998: 0.04 seconds\n",
      "simplify 2 @ 202: 0.01 seconds\n",
      "time: 0.25\n",
      "marching cube: 0.01 seconds\n",
      "compute surface area: 0.00 seconds\n",
      "fill point array: 0.00 seconds\n",
      "fill cell array: 0.00 seconds\n",
      "mesh_to_polydata: 0.01 seconds\n",
      "simplify 0 @ 1980: 0.04 seconds\n",
      "simplify 1 @ 397: 0.01 seconds\n"
     ]
    },
    {
     "name": "stdout",
     "output_type": "stream",
     "text": [
      "\n",
      "X_R"
     ]
    },
    {
     "name": "stderr",
     "output_type": "stream",
     "text": [
      "time: 0.08\n",
      "marching cube: 0.02 seconds\n",
      "compute surface area: 0.00 seconds\n",
      "fill point array: 0.01 seconds\n",
      "fill cell array: 0.00 seconds\n",
      "mesh_to_polydata: 0.01 seconds\n",
      "simplify 0 @ 2392: 0.07 seconds\n"
     ]
    },
    {
     "name": "stdout",
     "output_type": "stream",
     "text": [
      "\n",
      "dtgx_L"
     ]
    },
    {
     "name": "stderr",
     "output_type": "stream",
     "text": [
      "simplify 1 @ 478: 0.02 seconds\n",
      "time: 0.13\n",
      "marching cube: 0.01 seconds\n",
      "compute surface area: 0.00 seconds\n",
      "fill point array: 0.01 seconds\n",
      "fill cell array: 0.00 seconds\n",
      "mesh_to_polydata: 0.01 seconds\n",
      "simplify 0 @ 3229: 0.09 seconds\n"
     ]
    },
    {
     "name": "stdout",
     "output_type": "stream",
     "text": [
      "\n",
      "dtgx_R"
     ]
    },
    {
     "name": "stderr",
     "output_type": "stream",
     "text": [
      "simplify 1 @ 647: 0.03 seconds\n",
      "time: 0.15\n",
      "marching cube: 0.01 seconds\n",
      "compute surface area: 0.00 seconds\n",
      "fill point array: 0.01 seconds\n",
      "fill cell array: 0.00 seconds\n",
      "mesh_to_polydata: 0.01 seconds\n",
      "simplify 0 @ 1043: 0.05 seconds\n"
     ]
    },
    {
     "name": "stdout",
     "output_type": "stream",
     "text": [
      "\n",
      "fr_L"
     ]
    },
    {
     "name": "stderr",
     "output_type": "stream",
     "text": [
      "simplify 1 @ 210: 0.01 seconds\n",
      "time: 0.08\n",
      "marching cube: 0.12 seconds\n",
      "compute surface area: 0.01 seconds\n",
      "fill point array: 0.03 seconds\n",
      "fill cell array: 0.00 seconds\n",
      "mesh_to_polydata: 0.03 seconds\n",
      "simplify 0 @ 13342: 0.38 seconds\n"
     ]
    },
    {
     "name": "stdout",
     "output_type": "stream",
     "text": [
      "\n",
      "fr_R"
     ]
    },
    {
     "name": "stderr",
     "output_type": "stream",
     "text": [
      "simplify 1 @ 2670: 0.11 seconds\n",
      "simplify 2 @ 535: 0.02 seconds\n",
      "time: 0.67\n",
      "marching cube: 0.15 seconds\n",
      "compute surface area: 0.01 seconds\n",
      "fill point array: 0.04 seconds\n",
      "fill cell array: 0.00 seconds\n",
      "mesh_to_polydata: 0.05 seconds\n",
      "simplify 0 @ 16253: 0.43 seconds\n"
     ]
    },
    {
     "name": "stdout",
     "output_type": "stream",
     "text": [
      "\n",
      "icp_L"
     ]
    },
    {
     "name": "stderr",
     "output_type": "stream",
     "text": [
      "simplify 1 @ 3252: 0.14 seconds\n",
      "simplify 2 @ 652: 0.03 seconds\n",
      "time: 0.80\n",
      "marching cube: 0.84 seconds\n",
      "compute surface area: 0.03 seconds\n",
      "fill point array: 0.19 seconds\n",
      "fill cell array: 0.00 seconds\n",
      "mesh_to_polydata: 0.19 seconds\n",
      "simplify 0 @ 58960: 1.81 seconds\n",
      "simplify 1 @ 11779: 0.49 seconds\n",
      "simplify 2 @ 2350: 0.11 seconds\n"
     ]
    },
    {
     "name": "stdout",
     "output_type": "stream",
     "text": [
      "\n",
      "icp_R"
     ]
    },
    {
     "name": "stderr",
     "output_type": "stream",
     "text": [
      "time: 3.50\n",
      "marching cube: 0.71 seconds\n",
      "compute surface area: 0.03 seconds\n",
      "fill point array: 0.14 seconds\n",
      "fill cell array: 0.00 seconds\n",
      "mesh_to_polydata: 0.14 seconds\n",
      "simplify 0 @ 60926: 1.56 seconds\n",
      "simplify 1 @ 12186: 0.55 seconds\n",
      "simplify 2 @ 2438: 0.11 seconds\n"
     ]
    },
    {
     "name": "stdout",
     "output_type": "stream",
     "text": [
      "\n",
      "mcp_L"
     ]
    },
    {
     "name": "stderr",
     "output_type": "stream",
     "text": [
      "time: 3.14\n",
      "marching cube: 2.23 seconds\n",
      "compute surface area: 0.04 seconds\n",
      "fill point array: 0.21 seconds\n",
      "fill cell array: 0.01 seconds\n",
      "mesh_to_polydata: 0.22 seconds\n",
      "simplify 0 @ 116249: 3.41 seconds\n",
      "simplify 1 @ 23251: 1.22 seconds\n",
      "simplify 2 @ 4652: 0.19 seconds\n"
     ]
    },
    {
     "name": "stdout",
     "output_type": "stream",
     "text": [
      "\n",
      "mcp_R"
     ]
    },
    {
     "name": "stderr",
     "output_type": "stream",
     "text": [
      "time: 7.38\n",
      "marching cube: 0.88 seconds\n",
      "compute surface area: 0.03 seconds\n",
      "fill point array: 0.14 seconds\n",
      "fill cell array: 0.00 seconds\n",
      "mesh_to_polydata: 0.14 seconds\n",
      "simplify 0 @ 60357: 1.42 seconds\n",
      "simplify 1 @ 12073: 0.53 seconds\n",
      "simplify 2 @ 2416: 0.11 seconds\n"
     ]
    },
    {
     "name": "stdout",
     "output_type": "stream",
     "text": [
      "\n",
      "mlf_L"
     ]
    },
    {
     "name": "stderr",
     "output_type": "stream",
     "text": [
      "time: 3.14\n",
      "marching cube: 0.17 seconds\n",
      "compute surface area: 0.01 seconds\n",
      "fill point array: 0.07 seconds\n",
      "fill cell array: 0.00 seconds\n",
      "mesh_to_polydata: 0.07 seconds\n",
      "simplify 0 @ 23641: 0.72 seconds\n"
     ]
    },
    {
     "name": "stdout",
     "output_type": "stream",
     "text": [
      "\n",
      "mlf_R"
     ]
    },
    {
     "name": "stderr",
     "output_type": "stream",
     "text": [
      "simplify 1 @ 4731: 0.20 seconds\n",
      "simplify 2 @ 949: 0.05 seconds\n",
      "time: 1.23\n",
      "marching cube: 0.15 seconds\n",
      "compute surface area: 0.01 seconds\n",
      "fill point array: 0.05 seconds\n",
      "fill cell array: 0.00 seconds\n",
      "mesh_to_polydata: 0.05 seconds\n",
      "simplify 0 @ 18712: 0.49 seconds\n"
     ]
    },
    {
     "name": "stdout",
     "output_type": "stream",
     "text": [
      "\n",
      "pc_L"
     ]
    },
    {
     "name": "stderr",
     "output_type": "stream",
     "text": [
      "simplify 1 @ 3742: 0.15 seconds\n",
      "simplify 2 @ 749: 0.04 seconds\n",
      "time: 0.90\n",
      "marching cube: 0.01 seconds\n"
     ]
    },
    {
     "name": "stdout",
     "output_type": "stream",
     "text": [
      "\n",
      "pc_R"
     ]
    },
    {
     "name": "stderr",
     "output_type": "stream",
     "text": [
      "compute surface area: 0.00 seconds\n",
      "fill point array: 0.00 seconds\n",
      "fill cell array: 0.00 seconds\n",
      "mesh_to_polydata: 0.00 seconds\n",
      "simplify 0 @ 751: 0.04 seconds\n",
      "time: 0.06\n",
      "marching cube: 0.01 seconds\n",
      "compute surface area: 0.00 seconds\n",
      "fill point array: 0.01 seconds\n",
      "fill cell array: 0.00 seconds\n",
      "mesh_to_polydata: 0.01 seconds\n",
      "simplify 0 @ 1185: 0.06 seconds\n"
     ]
    },
    {
     "name": "stdout",
     "output_type": "stream",
     "text": [
      "\n",
      "pyx_L"
     ]
    },
    {
     "name": "stderr",
     "output_type": "stream",
     "text": [
      "simplify 1 @ 238: 0.01 seconds\n",
      "time: 0.09\n",
      "marching cube: 0.01 seconds\n",
      "compute surface area: 0.00 seconds\n",
      "fill point array: 0.01 seconds\n",
      "fill cell array: 0.00 seconds\n",
      "mesh_to_polydata: 0.01 seconds\n",
      "simplify 0 @ 2639: 0.12 seconds\n"
     ]
    },
    {
     "name": "stdout",
     "output_type": "stream",
     "text": [
      "\n",
      "pyx_R"
     ]
    },
    {
     "name": "stderr",
     "output_type": "stream",
     "text": [
      "simplify 1 @ 529: 0.03 seconds\n",
      "time: 0.18\n",
      "marching cube: 0.10 seconds\n",
      "compute surface area: 0.01 seconds\n",
      "fill point array: 0.04 seconds\n",
      "fill cell array: 0.00 seconds\n",
      "mesh_to_polydata: 0.04 seconds\n",
      "simplify 0 @ 8698: 0.47 seconds\n"
     ]
    },
    {
     "name": "stdout",
     "output_type": "stream",
     "text": [
      "\n",
      "scp_L"
     ]
    },
    {
     "name": "stderr",
     "output_type": "stream",
     "text": [
      "simplify 1 @ 1741: 0.08 seconds\n",
      "simplify 2 @ 349: 0.02 seconds\n",
      "time: 0.72\n",
      "marching cube: 0.24 seconds\n",
      "compute surface area: 0.01 seconds\n",
      "fill point array: 0.06 seconds\n",
      "fill cell array: 0.00 seconds\n",
      "mesh_to_polydata: 0.06 seconds\n",
      "simplify 0 @ 30334: 0.56 seconds\n",
      "simplify 1 @ 6069: 0.22 seconds\n",
      "simplify 2 @ 1215: 0.06 seconds\n"
     ]
    },
    {
     "name": "stdout",
     "output_type": "stream",
     "text": [
      "\n",
      "scp_R"
     ]
    },
    {
     "name": "stderr",
     "output_type": "stream",
     "text": [
      "time: 1.16\n",
      "marching cube: 2.78 seconds\n",
      "compute surface area: 0.05 seconds\n",
      "fill point array: 0.25 seconds\n",
      "fill cell array: 0.01 seconds\n",
      "mesh_to_polydata: 0.26 seconds\n",
      "simplify 0 @ 124951: 2.36 seconds\n",
      "simplify 1 @ 24994: 1.02 seconds\n",
      "simplify 2 @ 4999: 0.21 seconds\n"
     ]
    },
    {
     "name": "stdout",
     "output_type": "stream",
     "text": [
      "\n",
      "sol_L"
     ]
    },
    {
     "name": "stderr",
     "output_type": "stream",
     "text": [
      "time: 6.76\n",
      "marching cube: 0.02 seconds\n",
      "compute surface area: 0.00 seconds\n",
      "fill point array: 0.01 seconds\n",
      "fill cell array: 0.00 seconds\n",
      "mesh_to_polydata: 0.01 seconds\n",
      "simplify 0 @ 2430: 0.04 seconds\n",
      "simplify 1 @ 487: 0.02 seconds\n"
     ]
    },
    {
     "name": "stdout",
     "output_type": "stream",
     "text": [
      "\n",
      "sol_R"
     ]
    },
    {
     "name": "stderr",
     "output_type": "stream",
     "text": [
      "time: 0.10\n",
      "marching cube: 0.11 seconds\n",
      "compute surface area: 0.00 seconds\n",
      "fill point array: 0.01 seconds\n",
      "fill cell array: 0.00 seconds\n",
      "mesh_to_polydata: 0.01 seconds\n",
      "simplify 0 @ 4610: 0.10 seconds\n"
     ]
    },
    {
     "name": "stdout",
     "output_type": "stream",
     "text": [
      "\n",
      "sp5"
     ]
    },
    {
     "name": "stderr",
     "output_type": "stream",
     "text": [
      "simplify 1 @ 925: 0.04 seconds\n",
      "time: 0.27\n",
      "marching cube: 8.84 seconds\n",
      "compute surface area: 0.16 seconds\n",
      "fill point array: 0.70 seconds\n",
      "fill cell array: 0.02 seconds\n",
      "mesh_to_polydata: 0.72 seconds\n",
      "simplify 0 @ 340287: 14.01 seconds\n",
      "simplify 1 @ 68033: 6.30 seconds\n",
      "simplify 2 @ 13590: 0.73 seconds\n"
     ]
    },
    {
     "name": "stdout",
     "output_type": "stream",
     "text": [
      "\n",
      "tz_L"
     ]
    },
    {
     "name": "stderr",
     "output_type": "stream",
     "text": [
      "time: 31.05\n",
      "marching cube: 0.00 seconds\n"
     ]
    },
    {
     "name": "stdout",
     "output_type": "stream",
     "text": [
      "\n",
      "vtgx_L"
     ]
    },
    {
     "name": "stderr",
     "output_type": "stream",
     "text": [
      "compute surface area: 0.00 seconds\n",
      "fill point array: 0.00 seconds\n",
      "fill cell array: 0.00 seconds\n",
      "mesh_to_polydata: 0.00 seconds\n",
      "simplify 0 @ 315: 0.02 seconds\n",
      "time: 0.03\n",
      "marching cube: 0.02 seconds\n",
      "compute surface area: 0.00 seconds\n",
      "fill point array: 0.01 seconds\n",
      "fill cell array: 0.00 seconds\n",
      "mesh_to_polydata: 0.01 seconds\n",
      "simplify 0 @ 3995: 0.10 seconds\n"
     ]
    },
    {
     "name": "stdout",
     "output_type": "stream",
     "text": [
      "\n",
      "vtgx_R"
     ]
    },
    {
     "name": "stderr",
     "output_type": "stream",
     "text": [
      "simplify 1 @ 800: 0.03 seconds\n",
      "time: 0.19\n",
      "marching cube: 0.01 seconds\n",
      "compute surface area: 0.00 seconds\n",
      "fill point array: 0.01 seconds\n",
      "fill cell array: 0.00 seconds\n",
      "mesh_to_polydata: 0.01 seconds\n",
      "simplify 0 @ 986: 0.04 seconds\n"
     ]
    },
    {
     "name": "stdout",
     "output_type": "stream",
     "text": [
      "\n"
     ]
    },
    {
     "name": "stderr",
     "output_type": "stream",
     "text": [
      "time: 0.07\n"
     ]
    }
   ],
   "source": [
    "# Generate STL files for each structure.\n",
    "\n",
    "for i in all_indices:\n",
    "    \n",
    "    name_s = index_to_name[i]\n",
    "    print name_s\n",
    "\n",
    "    xmin, xmax, ymin, ymax, zmin, zmax = bbox_3d(volume == i)\n",
    "    vol = (volume[ymin:ymax+1, xmin:xmax+1, zmin:zmax+1] == i).astype(np.float)\n",
    "\n",
    "    t = time.time()\n",
    "\n",
    "    polydata = volume_to_polydata(vol, origin=(xmin,ymin,zmin), num_simplify_iter=3, smooth=True)\n",
    "\n",
    "    sys.stderr.write('time: %.2f\\n' % (time.time() - t) ) # ~ 150s for outerContour; 93s for sp5\n",
    "\n",
    "    save_mesh_stl(polydata, os.path.join(mesh_rootdir, \n",
    "                     stack, \"%(stack)s_annotationVolume_%(name)s_smoothed.stl\" % {'stack': stack, 'name': name_s}))\n"
   ]
  },
  {
   "cell_type": "code",
   "execution_count": null,
   "metadata": {
    "collapsed": true
   },
   "outputs": [],
   "source": []
  },
  {
   "cell_type": "code",
   "execution_count": 9,
   "metadata": {
    "collapsed": false
   },
   "outputs": [],
   "source": [
    "polydata_list = {}\n",
    "\n",
    "for i in all_indices:  \n",
    "    name_s = index_to_name[i]\n",
    "#     if name_s != '10N_L':\n",
    "#         continue\n",
    "    \n",
    "    fn = os.path.join(mesh_rootdir, stack, \"%(stack)s_annotationVolume_%(name)s_smoothed.stl\" % {'stack': stack, 'name': name_s})\n",
    "\n",
    "    reader = vtk.vtkSTLReader()\n",
    "    reader.SetFileName(fn)\n",
    "    reader.Update()\n",
    "\n",
    "    polydata = reader.GetOutput()\n",
    "    polydata_list[name_s] = polydata\n",
    "    \n",
    "    \n",
    "mesh_actors = [actor_mesh(polydata, colors[convert_name_to_unsided(name_s)], opacity=1.) \n",
    "               for name_s, polydata in polydata_list.iteritems()]\n",
    "# smaller opacity causes erroneous rendering\n",
    "\n",
    "launch_vtk(mesh_actors)"
   ]
  },
  {
   "cell_type": "code",
   "execution_count": null,
   "metadata": {
    "collapsed": true
   },
   "outputs": [],
   "source": []
  }
 ],
 "metadata": {
  "kernelspec": {
   "display_name": "Python 2",
   "language": "python",
   "name": "python2"
  },
  "language_info": {
   "codemirror_mode": {
    "name": "ipython",
    "version": 2
   },
   "file_extension": ".py",
   "mimetype": "text/x-python",
   "name": "python",
   "nbconvert_exporter": "python",
   "pygments_lexer": "ipython2",
   "version": "2.7.6"
  }
 },
 "nbformat": 4,
 "nbformat_minor": 0
}
