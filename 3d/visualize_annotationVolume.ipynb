{
 "cells": [
  {
   "cell_type": "code",
   "execution_count": 1,
   "metadata": {
    "collapsed": false
   },
   "outputs": [
    {
     "name": "stdout",
     "output_type": "stream",
     "text": [
      "Setting environment for Local Macbook Pro\n"
     ]
    },
    {
     "name": "stderr",
     "output_type": "stream",
     "text": [
      "/usr/lib/python2.7/dist-packages/pkg_resources.py:1031: UserWarning: /home/yuncong/.python-eggs is writable by group/others and vulnerable to attack when used with get_resource_filename. Consider a more secure location (set with .set_extraction_path or the PYTHON_EGG_CACHE environment variable).\n",
      "  warnings.warn(msg, UserWarning)\n"
     ]
    }
   ],
   "source": [
    "%reload_ext autoreload\n",
    "%autoreload 2\n",
    "\n",
    "import vtk\n",
    "from vtk.util import numpy_support\n",
    "\n",
    "import numpy as np\n",
    "import bloscpack as bp\n",
    "\n",
    "import sys\n",
    "import os\n",
    "sys.path.append(os.path.join(os.environ['REPO_DIR'], 'utilities'))\n",
    "from utilities2015 import *\n",
    "from annotation_utilities import *\n",
    "from metadata import *\n",
    "\n",
    "import time\n",
    "\n",
    "import matplotlib.pyplot as plt\n",
    "%matplotlib inline\n",
    "\n",
    "from vis3d_utilities import *"
   ]
  },
  {
   "cell_type": "code",
   "execution_count": 2,
   "metadata": {
    "collapsed": true
   },
   "outputs": [],
   "source": [
    "with open('colors.txt', 'r') as f:\n",
    "    colors = {l[0]: np.r_[float(l[1]), float(l[2]), float(l[3])] for l in map(lambda x: x.split(), f.readlines())}"
   ]
  },
  {
   "cell_type": "code",
<<<<<<< HEAD
   "execution_count": 13,
=======
   "execution_count": 18,
>>>>>>> 59024b314c48531109a5e8c376087309f95cc963
   "metadata": {
    "collapsed": true
   },
   "outputs": [],
   "source": [
<<<<<<< HEAD
    "stack = 'MD594'"
=======
    "stack = 'MD585'"
>>>>>>> 59024b314c48531109a5e8c376087309f95cc963
   ]
  },
  {
   "cell_type": "code",
<<<<<<< HEAD
   "execution_count": 14,
=======
   "execution_count": 19,
>>>>>>> 59024b314c48531109a5e8c376087309f95cc963
   "metadata": {
    "collapsed": false
   },
   "outputs": [],
   "source": [
    "volume = bp.unpack_ndarray_file(os.path.join(volume_dir, '%(stack)s/%(stack)s_annotationVolume.bp' % {'stack':stack})).astype(np.int8)\n",
    "# atlasProjected_volume = fill_sparse_volume(volume_sparse)\n",
    "# del volume_sparse"
   ]
  },
  {
   "cell_type": "code",
<<<<<<< HEAD
   "execution_count": 15,
=======
   "execution_count": 20,
>>>>>>> 59024b314c48531109a5e8c376087309f95cc963
   "metadata": {
    "collapsed": true
   },
   "outputs": [],
   "source": [
    "all_indices = set(np.unique(volume))-{0}"
   ]
  },
  {
   "cell_type": "code",
   "execution_count": 7,
   "metadata": {
    "collapsed": false
   },
   "outputs": [],
   "source": [
    "# volume_landmark_bboxes = {labels_sided[i-1]: bbox_3d(volume == i) for i in all_indices}"
   ]
  },
  {
   "cell_type": "code",
<<<<<<< HEAD
   "execution_count": 16,
=======
   "execution_count": 21,
>>>>>>> 59024b314c48531109a5e8c376087309f95cc963
   "metadata": {
    "collapsed": false,
    "scrolled": true
   },
   "outputs": [
    {
     "name": "stdout",
     "output_type": "stream",
     "text": [
      "12N\n",
<<<<<<< HEAD
      "area: 88760.98"
=======
      "area: 61539.83"
>>>>>>> 59024b314c48531109a5e8c376087309f95cc963
     ]
    },
    {
     "name": "stderr",
     "output_type": "stream",
     "text": [
<<<<<<< HEAD
      "marching cube: 0.34 seconds\n",
      "compute surface area: 0.02 seconds\n",
      "fill point array: 0.11 seconds\n",
      "fill cell array: 0.00 seconds\n",
      "mesh_to_polydata: 0.11 seconds\n",
      "simplify 0 @ 60745: 1.13 seconds\n",
      "simplify 1 @ 12141: 0.50 seconds\n",
      "simplify 2 @ 2424: 0.10 seconds\n"
=======
      "marching cube: 0.23 seconds\n",
      "compute surface area: 0.02 seconds\n",
      "fill point array: 0.08 seconds\n",
      "fill cell array: 0.00 seconds\n",
      "mesh_to_polydata: 0.09 seconds\n",
      "simplify 0 @ 57648: 0.69 seconds\n",
      "simplify 1 @ 11531: 0.54 seconds\n",
      "simplify 2 @ 2307: 0.13 seconds\n"
>>>>>>> 59024b314c48531109a5e8c376087309f95cc963
     ]
    },
    {
     "name": "stdout",
     "output_type": "stream",
     "text": [
      "\n",
      "5N_L"
     ]
    },
    {
     "name": "stderr",
     "output_type": "stream",
     "text": [
<<<<<<< HEAD
      "time: 2.23\n",
      "marching cube: 0.10 seconds\n"
=======
      "time: 1.71\n",
      "marching cube: 0.13 seconds\n"
>>>>>>> 59024b314c48531109a5e8c376087309f95cc963
     ]
    },
    {
     "name": "stdout",
     "output_type": "stream",
     "text": [
      "\n",
<<<<<<< HEAD
      "area: 47023.63"
=======
      "area: 59513.70"
>>>>>>> 59024b314c48531109a5e8c376087309f95cc963
     ]
    },
    {
     "name": "stderr",
     "output_type": "stream",
     "text": [
<<<<<<< HEAD
      "compute surface area: 0.01 seconds\n",
      "fill point array: 0.09 seconds\n",
      "fill cell array: 0.00 seconds\n",
      "mesh_to_polydata: 0.09 seconds\n",
      "simplify 0 @ 28270: 0.56 seconds\n"
=======
      "compute surface area: 0.02 seconds\n",
      "fill point array: 0.10 seconds\n",
      "fill cell array: 0.00 seconds\n",
      "mesh_to_polydata: 0.10 seconds\n",
      "simplify 0 @ 34372: 1.06 seconds\n",
      "simplify 1 @ 6873: 0.28 seconds\n",
      "simplify 2 @ 1375: 0.06 seconds\n"
>>>>>>> 59024b314c48531109a5e8c376087309f95cc963
     ]
    },
    {
     "name": "stdout",
     "output_type": "stream",
     "text": [
      "\n",
      "5N_R"
     ]
    },
    {
     "name": "stderr",
     "output_type": "stream",
     "text": [
<<<<<<< HEAD
      "simplify 1 @ 5657: 0.25 seconds\n",
      "simplify 2 @ 1134: 0.04 seconds\n",
      "time: 1.06\n",
      "marching cube: 0.09 seconds\n"
=======
      "time: 1.65\n",
      "marching cube: 0.15 seconds\n"
>>>>>>> 59024b314c48531109a5e8c376087309f95cc963
     ]
    },
    {
     "name": "stdout",
     "output_type": "stream",
     "text": [
      "\n",
<<<<<<< HEAD
      "area: 36757.88"
=======
      "area: 67169.90"
>>>>>>> 59024b314c48531109a5e8c376087309f95cc963
     ]
    },
    {
     "name": "stderr",
     "output_type": "stream",
     "text": [
<<<<<<< HEAD
      "compute surface area: 0.01 seconds\n",
      "fill point array: 0.05 seconds\n",
      "fill cell array: 0.00 seconds\n",
      "mesh_to_polydata: 0.05 seconds\n",
      "simplify 0 @ 26971: 0.42 seconds\n"
=======
      "compute surface area: 0.04 seconds\n",
      "fill point array: 0.08 seconds\n",
      "fill cell array: 0.00 seconds\n",
      "mesh_to_polydata: 0.08 seconds\n",
      "simplify 0 @ 38115: 0.82 seconds\n",
      "simplify 1 @ 7623: 0.34 seconds\n",
      "simplify 2 @ 1524: 0.07 seconds\n"
>>>>>>> 59024b314c48531109a5e8c376087309f95cc963
     ]
    },
    {
     "name": "stdout",
     "output_type": "stream",
     "text": [
      "\n",
      "6N_L"
     ]
    },
    {
     "name": "stderr",
     "output_type": "stream",
     "text": [
<<<<<<< HEAD
      "simplify 1 @ 5395: 0.21 seconds\n",
      "simplify 2 @ 1080: 0.05 seconds\n",
      "time: 0.83\n",
=======
      "time: 1.50\n",
>>>>>>> 59024b314c48531109a5e8c376087309f95cc963
      "marching cube: 0.01 seconds\n"
     ]
    },
    {
     "name": "stdout",
     "output_type": "stream",
     "text": [
      "\n",
<<<<<<< HEAD
      "area: 3632.27"
=======
      "area: 4372.09"
>>>>>>> 59024b314c48531109a5e8c376087309f95cc963
     ]
    },
    {
     "name": "stderr",
     "output_type": "stream",
     "text": [
      "compute surface area: 0.00 seconds\n",
<<<<<<< HEAD
      "fill point array: 0.00 seconds\n",
      "fill cell array: 0.00 seconds\n",
      "mesh_to_polydata: 0.00 seconds\n",
      "simplify 0 @ 2964: 0.03 seconds\n",
      "simplify 1 @ 594: 0.02 seconds\n"
=======
      "fill point array: 0.01 seconds\n",
      "fill cell array: 0.00 seconds\n",
      "mesh_to_polydata: 0.01 seconds\n",
      "simplify 0 @ 3888: 0.04 seconds\n",
      "simplify 1 @ 779: 0.02 seconds\n"
>>>>>>> 59024b314c48531109a5e8c376087309f95cc963
     ]
    },
    {
     "name": "stdout",
     "output_type": "stream",
     "text": [
      "\n",
      "6N_R"
     ]
    },
    {
     "name": "stderr",
     "output_type": "stream",
     "text": [
<<<<<<< HEAD
      "time: 0.07\n",
=======
      "time: 0.09\n",
>>>>>>> 59024b314c48531109a5e8c376087309f95cc963
      "marching cube: 0.01 seconds\n"
     ]
    },
    {
     "name": "stdout",
     "output_type": "stream",
     "text": [
      "\n",
<<<<<<< HEAD
      "area: 4161.07"
=======
      "area: 3985.74"
>>>>>>> 59024b314c48531109a5e8c376087309f95cc963
     ]
    },
    {
     "name": "stderr",
     "output_type": "stream",
     "text": [
      "compute surface area: 0.00 seconds\n",
      "fill point array: 0.01 seconds\n",
      "fill cell array: 0.00 seconds\n",
      "mesh_to_polydata: 0.01 seconds\n",
<<<<<<< HEAD
      "simplify 0 @ 3402: 0.04 seconds\n",
      "simplify 1 @ 682: 0.02 seconds\n"
=======
      "simplify 0 @ 3508: 0.04 seconds\n",
      "simplify 1 @ 703: 0.02 seconds\n"
>>>>>>> 59024b314c48531109a5e8c376087309f95cc963
     ]
    },
    {
     "name": "stdout",
     "output_type": "stream",
     "text": [
      "\n",
      "7N_L"
     ]
    },
    {
     "name": "stderr",
     "output_type": "stream",
     "text": [
      "time: 0.08\n",
<<<<<<< HEAD
      "marching cube: 0.20 seconds\n"
=======
      "marching cube: 0.14 seconds\n"
>>>>>>> 59024b314c48531109a5e8c376087309f95cc963
     ]
    },
    {
     "name": "stdout",
     "output_type": "stream",
     "text": [
      "\n",
<<<<<<< HEAD
      "area: 68512.02"
=======
      "area: 65866.31"
>>>>>>> 59024b314c48531109a5e8c376087309f95cc963
     ]
    },
    {
     "name": "stderr",
     "output_type": "stream",
     "text": [
<<<<<<< HEAD
      "compute surface area: 0.04 seconds\n",
      "fill point array: 0.09 seconds\n",
      "fill cell array: 0.00 seconds\n",
      "mesh_to_polydata: 0.09 seconds\n",
      "simplify 0 @ 60180: 0.79 seconds\n",
      "simplify 1 @ 12039: 0.49 seconds\n",
      "simplify 2 @ 2412: 0.10 seconds\n"
=======
      "compute surface area: 0.02 seconds\n",
      "fill point array: 0.08 seconds\n",
      "fill cell array: 0.00 seconds\n",
      "mesh_to_polydata: 0.09 seconds\n",
      "simplify 0 @ 55636: 0.79 seconds\n",
      "simplify 1 @ 11140: 0.46 seconds\n",
      "simplify 2 @ 2240: 0.10 seconds\n"
>>>>>>> 59024b314c48531109a5e8c376087309f95cc963
     ]
    },
    {
     "name": "stdout",
     "output_type": "stream",
     "text": [
      "\n",
      "7N_R"
     ]
    },
    {
     "name": "stderr",
     "output_type": "stream",
     "text": [
<<<<<<< HEAD
      "time: 1.71\n",
      "marching cube: 0.18 seconds\n"
=======
      "time: 1.60\n",
      "marching cube: 0.26 seconds\n"
>>>>>>> 59024b314c48531109a5e8c376087309f95cc963
     ]
    },
    {
     "name": "stdout",
     "output_type": "stream",
     "text": [
      "\n",
<<<<<<< HEAD
      "area: 79448.77"
=======
      "area: 82429.49"
>>>>>>> 59024b314c48531109a5e8c376087309f95cc963
     ]
    },
    {
     "name": "stderr",
     "output_type": "stream",
     "text": [
      "compute surface area: 0.02 seconds\n",
      "fill point array: 0.10 seconds\n",
      "fill cell array: 0.00 seconds\n",
      "mesh_to_polydata: 0.10 seconds\n",
<<<<<<< HEAD
      "simplify 0 @ 57406: 1.02 seconds\n",
      "simplify 1 @ 11487: 0.46 seconds\n",
      "simplify 2 @ 2303: 0.10 seconds\n"
=======
      "simplify 0 @ 57148: 1.04 seconds\n",
      "simplify 1 @ 11426: 0.54 seconds\n",
      "simplify 2 @ 2283: 0.10 seconds\n"
>>>>>>> 59024b314c48531109a5e8c376087309f95cc963
     ]
    },
    {
     "name": "stdout",
     "output_type": "stream",
     "text": [
      "\n",
      "7n_L"
     ]
    },
    {
     "name": "stderr",
     "output_type": "stream",
     "text": [
<<<<<<< HEAD
      "time: 1.90\n",
      "marching cube: 0.37 seconds\n"
=======
      "time: 2.08\n",
      "marching cube: 0.38 seconds\n"
>>>>>>> 59024b314c48531109a5e8c376087309f95cc963
     ]
    },
    {
     "name": "stdout",
     "output_type": "stream",
     "text": [
      "\n",
<<<<<<< HEAD
      "area: 39282.71"
=======
      "area: 34032.13"
>>>>>>> 59024b314c48531109a5e8c376087309f95cc963
     ]
    },
    {
     "name": "stderr",
     "output_type": "stream",
     "text": [
      "compute surface area: 0.01 seconds\n",
      "fill point array: 0.05 seconds\n",
      "fill cell array: 0.00 seconds\n",
<<<<<<< HEAD
      "mesh_to_polydata: 0.06 seconds\n",
      "simplify 0 @ 41295: 0.39 seconds\n",
      "simplify 1 @ 8272: 0.32 seconds\n",
      "simplify 2 @ 1668: 0.07 seconds\n"
=======
      "mesh_to_polydata: 0.05 seconds\n",
      "simplify 0 @ 31997: 0.35 seconds\n",
      "simplify 1 @ 6396: 0.24 seconds\n",
      "simplify 2 @ 1280: 0.05 seconds\n"
>>>>>>> 59024b314c48531109a5e8c376087309f95cc963
     ]
    },
    {
     "name": "stdout",
     "output_type": "stream",
     "text": [
      "\n",
      "7n_R"
     ]
    },
    {
     "name": "stderr",
     "output_type": "stream",
     "text": [
<<<<<<< HEAD
      "time: 1.22\n",
      "marching cube: 0.30 seconds\n"
=======
      "time: 1.10\n",
      "marching cube: 0.34 seconds\n"
>>>>>>> 59024b314c48531109a5e8c376087309f95cc963
     ]
    },
    {
     "name": "stdout",
     "output_type": "stream",
     "text": [
      "\n",
<<<<<<< HEAD
      "area: 35359.42"
=======
      "area: 40505.52"
>>>>>>> 59024b314c48531109a5e8c376087309f95cc963
     ]
    },
    {
     "name": "stderr",
     "output_type": "stream",
     "text": [
      "compute surface area: 0.01 seconds\n",
      "fill point array: 0.05 seconds\n",
      "fill cell array: 0.00 seconds\n",
      "mesh_to_polydata: 0.05 seconds\n",
<<<<<<< HEAD
      "simplify 0 @ 35950: 0.39 seconds\n",
      "simplify 1 @ 7302: 0.28 seconds\n",
      "simplify 2 @ 1570: 0.06 seconds\n"
=======
      "simplify 0 @ 28185: 0.46 seconds\n"
>>>>>>> 59024b314c48531109a5e8c376087309f95cc963
     ]
    },
    {
     "name": "stdout",
     "output_type": "stream",
     "text": [
      "\n",
      "AP"
     ]
    },
    {
     "name": "stderr",
     "output_type": "stream",
     "text": [
<<<<<<< HEAD
      "time: 1.10\n",
      "marching cube: 0.03 seconds\n"
=======
      "simplify 1 @ 5659: 0.22 seconds\n",
      "simplify 2 @ 1152: 0.04 seconds\n",
      "time: 1.14\n",
      "marching cube: 0.18 seconds\n"
>>>>>>> 59024b314c48531109a5e8c376087309f95cc963
     ]
    },
    {
     "name": "stdout",
     "output_type": "stream",
     "text": [
      "\n",
<<<<<<< HEAD
      "area: 16837.91"
=======
      "area: 31919.61"
>>>>>>> 59024b314c48531109a5e8c376087309f95cc963
     ]
    },
    {
     "name": "stderr",
     "output_type": "stream",
     "text": [
<<<<<<< HEAD
      "compute surface area: 0.00 seconds\n",
      "fill point array: 0.02 seconds\n",
      "fill cell array: 0.00 seconds\n",
      "mesh_to_polydata: 0.02 seconds\n",
      "simplify 0 @ 11554: 0.20 seconds\n"
=======
      "compute surface area: 0.01 seconds\n",
      "fill point array: 0.04 seconds\n",
      "fill cell array: 0.00 seconds\n",
      "mesh_to_polydata: 0.04 seconds\n",
      "simplify 0 @ 12125: 0.37 seconds\n"
>>>>>>> 59024b314c48531109a5e8c376087309f95cc963
     ]
    },
    {
     "name": "stdout",
     "output_type": "stream",
     "text": [
      "\n",
      "Amb_L"
     ]
    },
    {
     "name": "stderr",
     "output_type": "stream",
     "text": [
<<<<<<< HEAD
      "simplify 1 @ 2312: 0.08 seconds\n",
      "simplify 2 @ 464: 0.02 seconds\n",
      "time: 0.37\n",
=======
      "simplify 1 @ 2431: 0.09 seconds\n",
      "simplify 2 @ 492: 0.02 seconds\n",
      "time: 0.71\n",
>>>>>>> 59024b314c48531109a5e8c376087309f95cc963
      "marching cube: 0.01 seconds\n"
     ]
    },
    {
     "name": "stdout",
     "output_type": "stream",
     "text": [
      "\n",
<<<<<<< HEAD
      "area: 5159.31"
=======
      "area: 4389.81"
>>>>>>> 59024b314c48531109a5e8c376087309f95cc963
     ]
    },
    {
     "name": "stderr",
     "output_type": "stream",
     "text": [
      "compute surface area: 0.00 seconds\n",
      "fill point array: 0.01 seconds\n",
      "fill cell array: 0.00 seconds\n",
      "mesh_to_polydata: 0.01 seconds\n",
<<<<<<< HEAD
      "simplify 0 @ 3925: 0.05 seconds\n"
=======
      "simplify 0 @ 2565: 0.05 seconds\n"
>>>>>>> 59024b314c48531109a5e8c376087309f95cc963
     ]
    },
    {
     "name": "stdout",
     "output_type": "stream",
     "text": [
      "\n",
      "Amb_R"
     ]
    },
    {
     "name": "stderr",
     "output_type": "stream",
     "text": [
<<<<<<< HEAD
      "simplify 1 @ 787: 0.03 seconds\n",
      "time: 0.10\n",
=======
      "simplify 1 @ 514: 0.02 seconds\n",
      "time: 0.08\n",
>>>>>>> 59024b314c48531109a5e8c376087309f95cc963
      "marching cube: 0.01 seconds\n"
     ]
    },
    {
     "name": "stdout",
     "output_type": "stream",
     "text": [
      "\n",
<<<<<<< HEAD
      "area: 5046.63"
=======
      "area: 4004.44"
>>>>>>> 59024b314c48531109a5e8c376087309f95cc963
     ]
    },
    {
     "name": "stderr",
     "output_type": "stream",
     "text": [
      "compute surface area: 0.00 seconds\n",
<<<<<<< HEAD
      "fill point array: 0.01 seconds\n",
      "fill cell array: 0.00 seconds\n",
      "mesh_to_polydata: 0.01 seconds\n",
      "simplify 0 @ 3506: 0.05 seconds\n"
=======
      "fill point array: 0.00 seconds\n",
      "fill cell array: 0.00 seconds\n",
      "mesh_to_polydata: 0.01 seconds\n",
      "simplify 0 @ 2302: 0.04 seconds\n",
      "simplify 1 @ 462: 0.02 seconds\n"
>>>>>>> 59024b314c48531109a5e8c376087309f95cc963
     ]
    },
    {
     "name": "stdout",
     "output_type": "stream",
     "text": [
      "\n",
      "LC_L"
     ]
    },
    {
     "name": "stderr",
     "output_type": "stream",
     "text": [
<<<<<<< HEAD
      "simplify 1 @ 703: 0.02 seconds\n",
      "time: 0.09\n",
      "marching cube: 0.04 seconds\n"
=======
      "time: 0.07\n",
      "marching cube: 0.20 seconds\n"
>>>>>>> 59024b314c48531109a5e8c376087309f95cc963
     ]
    },
    {
     "name": "stdout",
     "output_type": "stream",
     "text": [
      "\n",
<<<<<<< HEAD
      "area: 16554.50"
=======
      "area: 56651.51"
>>>>>>> 59024b314c48531109a5e8c376087309f95cc963
     ]
    },
    {
     "name": "stderr",
     "output_type": "stream",
     "text": [
<<<<<<< HEAD
      "compute surface area: 0.00 seconds\n",
      "fill point array: 0.02 seconds\n",
      "fill cell array: 0.00 seconds\n",
      "mesh_to_polydata: 0.02 seconds\n",
      "simplify 0 @ 11404: 0.17 seconds\n"
=======
      "compute surface area: 0.01 seconds\n",
      "fill point array: 0.06 seconds\n",
      "fill cell array: 0.00 seconds\n",
      "mesh_to_polydata: 0.06 seconds\n",
      "simplify 0 @ 13042: 0.78 seconds\n"
>>>>>>> 59024b314c48531109a5e8c376087309f95cc963
     ]
    },
    {
     "name": "stdout",
     "output_type": "stream",
     "text": [
      "\n",
      "LC_R"
     ]
    },
    {
     "name": "stderr",
     "output_type": "stream",
     "text": [
<<<<<<< HEAD
      "simplify 1 @ 2284: 0.09 seconds\n",
      "simplify 2 @ 460: 0.02 seconds\n",
      "time: 0.34\n",
      "marching cube: 0.04 seconds\n"
=======
      "simplify 1 @ 2599: 0.15 seconds\n",
      "simplify 2 @ 517: 0.02 seconds\n",
      "time: 1.23\n",
      "marching cube: 0.03 seconds\n"
>>>>>>> 59024b314c48531109a5e8c376087309f95cc963
     ]
    },
    {
     "name": "stdout",
     "output_type": "stream",
     "text": [
      "\n",
<<<<<<< HEAD
      "area: 17341.94"
=======
      "area: 22957.88"
>>>>>>> 59024b314c48531109a5e8c376087309f95cc963
     ]
    },
    {
     "name": "stderr",
     "output_type": "stream",
     "text": [
<<<<<<< HEAD
      "compute surface area: 0.00 seconds\n",
      "fill point array: 0.02 seconds\n",
      "fill cell array: 0.00 seconds\n",
      "mesh_to_polydata: 0.02 seconds\n",
      "simplify 0 @ 12130: 0.17 seconds\n"
=======
      "compute surface area: 0.01 seconds\n",
      "fill point array: 0.02 seconds\n",
      "fill cell array: 0.00 seconds\n",
      "mesh_to_polydata: 0.03 seconds\n",
      "simplify 0 @ 5351: 0.24 seconds\n"
>>>>>>> 59024b314c48531109a5e8c376087309f95cc963
     ]
    },
    {
     "name": "stdout",
     "output_type": "stream",
     "text": [
      "\n",
      "LRt_L"
     ]
    },
    {
     "name": "stderr",
     "output_type": "stream",
     "text": [
<<<<<<< HEAD
      "simplify 1 @ 2427: 0.09 seconds\n",
      "simplify 2 @ 487: 0.02 seconds\n",
      "time: 0.35\n",
      "marching cube: 0.25 seconds\n"
=======
      "simplify 1 @ 1060: 0.04 seconds\n",
      "simplify 2 @ 212: 0.01 seconds\n",
      "time: 0.36\n",
      "marching cube: 0.32 seconds\n"
>>>>>>> 59024b314c48531109a5e8c376087309f95cc963
     ]
    },
    {
     "name": "stdout",
     "output_type": "stream",
     "text": [
      "\n",
<<<<<<< HEAD
      "area: 77378.36"
=======
      "area: 84515.38"
>>>>>>> 59024b314c48531109a5e8c376087309f95cc963
     ]
    },
    {
     "name": "stderr",
     "output_type": "stream",
     "text": [
      "compute surface area: 0.02 seconds\n",
<<<<<<< HEAD
      "fill point array: 0.09 seconds\n",
      "fill cell array: 0.00 seconds\n",
      "mesh_to_polydata: 0.09 seconds\n",
      "simplify 0 @ 44253: 0.97 seconds\n",
      "simplify 1 @ 8858: 0.35 seconds\n",
      "simplify 2 @ 1779: 0.07 seconds\n"
=======
      "fill point array: 0.10 seconds\n",
      "fill cell array: 0.00 seconds\n",
      "mesh_to_polydata: 0.10 seconds\n",
      "simplify 0 @ 52246: 1.31 seconds\n",
      "simplify 1 @ 10451: 0.44 seconds\n",
      "simplify 2 @ 2091: 0.09 seconds\n"
>>>>>>> 59024b314c48531109a5e8c376087309f95cc963
     ]
    },
    {
     "name": "stdout",
     "output_type": "stream",
     "text": [
      "\n",
      "LRt_R"
     ]
    },
    {
     "name": "stderr",
     "output_type": "stream",
     "text": [
<<<<<<< HEAD
      "time: 1.77\n",
      "marching cube: 0.21 seconds\n"
=======
      "time: 2.29\n",
      "marching cube: 0.09 seconds\n"
>>>>>>> 59024b314c48531109a5e8c376087309f95cc963
     ]
    },
    {
     "name": "stdout",
     "output_type": "stream",
     "text": [
      "\n",
<<<<<<< HEAD
      "area: 65413.28"
=======
      "area: 12135.05"
>>>>>>> 59024b314c48531109a5e8c376087309f95cc963
     ]
    },
    {
     "name": "stderr",
     "output_type": "stream",
     "text": [
<<<<<<< HEAD
      "compute surface area: 0.02 seconds\n",
      "fill point array: 0.08 seconds\n",
      "fill cell array: 0.00 seconds\n",
      "mesh_to_polydata: 0.08 seconds\n",
      "simplify 0 @ 37785: 0.79 seconds\n",
      "simplify 1 @ 7560: 0.30 seconds\n",
      "simplify 2 @ 1515: 0.06 seconds\n"
=======
      "compute surface area: 0.00 seconds\n",
      "fill point array: 0.01 seconds\n",
      "fill cell array: 0.00 seconds\n",
      "mesh_to_polydata: 0.01 seconds\n",
      "simplify 0 @ 6253: 0.12 seconds\n"
>>>>>>> 59024b314c48531109a5e8c376087309f95cc963
     ]
    },
    {
     "name": "stdout",
     "output_type": "stream",
     "text": [
      "\n",
      "Pn_L"
     ]
    },
    {
     "name": "stderr",
     "output_type": "stream",
     "text": [
<<<<<<< HEAD
      "time: 1.47\n",
      "marching cube: 0.29 seconds\n"
=======
      "simplify 1 @ 1248: 0.04 seconds\n",
      "simplify 2 @ 251: 0.01 seconds\n",
      "time: 0.28\n",
      "marching cube: 0.24 seconds\n"
>>>>>>> 59024b314c48531109a5e8c376087309f95cc963
     ]
    },
    {
     "name": "stdout",
     "output_type": "stream",
     "text": [
      "\n",
<<<<<<< HEAD
      "area: 88045.16"
=======
      "area: 105367.84"
>>>>>>> 59024b314c48531109a5e8c376087309f95cc963
     ]
    },
    {
     "name": "stderr",
     "output_type": "stream",
     "text": [
<<<<<<< HEAD
      "compute surface area: 0.02 seconds\n",
      "fill point array: 0.12 seconds\n",
      "fill cell array: 0.00 seconds\n",
      "mesh_to_polydata: 0.12 seconds\n",
      "simplify 0 @ 86778: 0.96 seconds\n",
      "simplify 1 @ 17350: 0.73 seconds\n",
      "simplify 2 @ 3468: 0.16 seconds\n"
=======
      "compute surface area: 0.03 seconds\n",
      "fill point array: 0.12 seconds\n",
      "fill cell array: 0.00 seconds\n",
      "mesh_to_polydata: 0.13 seconds\n",
      "simplify 0 @ 69305: 1.30 seconds\n",
      "simplify 1 @ 13830: 0.58 seconds\n",
      "simplify 2 @ 2741: 0.12 seconds\n"
>>>>>>> 59024b314c48531109a5e8c376087309f95cc963
     ]
    },
    {
     "name": "stdout",
     "output_type": "stream",
     "text": [
      "\n",
      "Pn_R"
     ]
    },
    {
     "name": "stderr",
     "output_type": "stream",
     "text": [
<<<<<<< HEAD
      "time: 2.29\n",
      "marching cube: 0.31 seconds\n"
=======
      "time: 2.41\n",
      "marching cube: 0.29 seconds\n"
>>>>>>> 59024b314c48531109a5e8c376087309f95cc963
     ]
    },
    {
     "name": "stdout",
     "output_type": "stream",
     "text": [
      "\n",
<<<<<<< HEAD
      "area: 89268.07"
=======
      "area: 96048.90"
>>>>>>> 59024b314c48531109a5e8c376087309f95cc963
     ]
    },
    {
     "name": "stderr",
     "output_type": "stream",
     "text": [
<<<<<<< HEAD
      "compute surface area: 0.02 seconds\n",
      "fill point array: 0.12 seconds\n",
      "fill cell array: 0.00 seconds\n",
      "mesh_to_polydata: 0.12 seconds\n",
      "simplify 0 @ 84271: 0.97 seconds\n",
      "simplify 1 @ 16854: 0.70 seconds\n",
      "simplify 2 @ 3370: 0.15 seconds\n"
=======
      "compute surface area: 0.03 seconds\n",
      "fill point array: 0.13 seconds\n",
      "fill cell array: 0.00 seconds\n",
      "mesh_to_polydata: 0.13 seconds\n",
      "simplify 0 @ 91134: 1.04 seconds\n",
      "simplify 1 @ 18228: 0.78 seconds\n",
      "simplify 2 @ 3648: 0.16 seconds\n"
>>>>>>> 59024b314c48531109a5e8c376087309f95cc963
     ]
    },
    {
     "name": "stdout",
     "output_type": "stream",
     "text": [
      "\n",
      "R_L"
     ]
    },
    {
     "name": "stderr",
     "output_type": "stream",
     "text": [
<<<<<<< HEAD
      "time: 2.29\n",
      "marching cube: 0.01 seconds\n"
=======
      "time: 2.44\n",
      "marching cube: 0.12 seconds\n"
>>>>>>> 59024b314c48531109a5e8c376087309f95cc963
     ]
    },
    {
     "name": "stdout",
     "output_type": "stream",
     "text": [
      "\n",
<<<<<<< HEAD
      "area: 4465.75"
=======
      "area: 45032.78"
>>>>>>> 59024b314c48531109a5e8c376087309f95cc963
     ]
    },
    {
     "name": "stderr",
     "output_type": "stream",
     "text": [
<<<<<<< HEAD
      "compute surface area: 0.00 seconds\n",
      "fill point array: 0.00 seconds\n",
      "fill cell array: 0.00 seconds\n",
      "mesh_to_polydata: 0.01 seconds\n",
      "simplify 0 @ 874: 0.04 seconds\n",
      "time: 0.06\n"
=======
      "compute surface area: 0.01 seconds\n",
      "fill point array: 0.06 seconds\n",
      "fill cell array: 0.00 seconds\n",
      "mesh_to_polydata: 0.06 seconds\n",
      "simplify 0 @ 35983: 0.52 seconds\n",
      "simplify 1 @ 7198: 0.28 seconds\n",
      "simplify 2 @ 1441: 0.06 seconds\n"
>>>>>>> 59024b314c48531109a5e8c376087309f95cc963
     ]
    },
    {
     "name": "stdout",
     "output_type": "stream",
     "text": [
      "\n",
<<<<<<< HEAD
      "R_R\n",
      "area: 21490.74"
=======
      "R_R"
>>>>>>> 59024b314c48531109a5e8c376087309f95cc963
     ]
    },
    {
     "name": "stderr",
     "output_type": "stream",
     "text": [
<<<<<<< HEAD
      "marching cube: 0.03 seconds\n",
      "compute surface area: 0.00 seconds\n",
      "fill point array: 0.03 seconds\n",
      "fill cell array: 0.00 seconds\n",
      "mesh_to_polydata: 0.03 seconds\n",
      "simplify 0 @ 11195: 0.23 seconds\n"
=======
      "time: 1.05\n",
      "marching cube: 0.08 seconds\n"
     ]
    },
    {
     "name": "stdout",
     "output_type": "stream",
     "text": [
      "\n",
      "area: 33221.47"
     ]
    },
    {
     "name": "stderr",
     "output_type": "stream",
     "text": [
      "compute surface area: 0.01 seconds\n",
      "fill point array: 0.04 seconds\n",
      "fill cell array: 0.00 seconds\n",
      "mesh_to_polydata: 0.04 seconds\n",
      "simplify 0 @ 28356: 0.37 seconds\n"
>>>>>>> 59024b314c48531109a5e8c376087309f95cc963
     ]
    },
    {
     "name": "stdout",
     "output_type": "stream",
     "text": [
      "\n",
      "RtTg"
     ]
    },
    {
     "name": "stderr",
     "output_type": "stream",
     "text": [
<<<<<<< HEAD
      "simplify 1 @ 2240: 0.08 seconds\n",
      "simplify 2 @ 449: 0.02 seconds\n",
      "time: 0.40\n",
      "marching cube: 0.82 seconds\n"
=======
      "simplify 1 @ 5672: 0.21 seconds\n",
      "simplify 2 @ 1136: 0.04 seconds\n",
      "time: 0.76\n",
      "marching cube: 0.77 seconds\n"
>>>>>>> 59024b314c48531109a5e8c376087309f95cc963
     ]
    },
    {
     "name": "stdout",
     "output_type": "stream",
     "text": [
      "\n",
<<<<<<< HEAD
      "area: 207328.51"
=======
      "area: 181259.61"
>>>>>>> 59024b314c48531109a5e8c376087309f95cc963
     ]
    },
    {
     "name": "stderr",
     "output_type": "stream",
     "text": [
      "compute surface area: 0.05 seconds\n",
<<<<<<< HEAD
      "fill point array: 0.25 seconds\n",
      "fill cell array: 0.01 seconds\n",
      "mesh_to_polydata: 0.26 seconds\n",
      "simplify 0 @ 136141: 2.60 seconds\n",
      "simplify 1 @ 27230: 1.37 seconds\n",
      "simplify 2 @ 5447: 0.26 seconds\n"
=======
      "fill point array: 0.23 seconds\n",
      "fill cell array: 0.01 seconds\n",
      "mesh_to_polydata: 0.23 seconds\n",
      "simplify 0 @ 118111: 2.44 seconds\n",
      "simplify 1 @ 23624: 1.05 seconds\n",
      "simplify 2 @ 4728: 0.21 seconds\n"
>>>>>>> 59024b314c48531109a5e8c376087309f95cc963
     ]
    },
    {
     "name": "stdout",
     "output_type": "stream",
     "text": [
      "\n",
      "Tz_L"
     ]
    },
    {
     "name": "stderr",
     "output_type": "stream",
     "text": [
<<<<<<< HEAD
      "time: 5.38\n",
      "marching cube: 0.05 seconds\n"
=======
      "time: 4.77\n",
      "marching cube: 0.07 seconds\n"
>>>>>>> 59024b314c48531109a5e8c376087309f95cc963
     ]
    },
    {
     "name": "stdout",
     "output_type": "stream",
     "text": [
      "\n",
<<<<<<< HEAD
      "area: 24108.47"
=======
      "area: 23476.05"
>>>>>>> 59024b314c48531109a5e8c376087309f95cc963
     ]
    },
    {
     "name": "stderr",
     "output_type": "stream",
     "text": [
      "compute surface area: 0.01 seconds\n",
      "fill point array: 0.03 seconds\n",
      "fill cell array: 0.00 seconds\n",
      "mesh_to_polydata: 0.03 seconds\n",
<<<<<<< HEAD
      "simplify 0 @ 21808: 0.25 seconds\n"
=======
      "simplify 0 @ 23272: 0.23 seconds\n"
>>>>>>> 59024b314c48531109a5e8c376087309f95cc963
     ]
    },
    {
     "name": "stdout",
     "output_type": "stream",
     "text": [
      "\n",
      "Tz_R"
     ]
    },
    {
     "name": "stderr",
     "output_type": "stream",
     "text": [
<<<<<<< HEAD
      "simplify 1 @ 4363: 0.16 seconds\n",
      "simplify 2 @ 874: 0.03 seconds\n",
      "time: 0.53\n",
      "marching cube: 0.05 seconds\n"
=======
      "simplify 1 @ 4657: 0.17 seconds\n",
      "simplify 2 @ 934: 0.04 seconds\n",
      "time: 0.54\n",
      "marching cube: 0.07 seconds\n"
>>>>>>> 59024b314c48531109a5e8c376087309f95cc963
     ]
    },
    {
     "name": "stdout",
     "output_type": "stream",
     "text": [
      "\n",
<<<<<<< HEAD
      "area: 24582.77"
=======
      "area: 26554.61"
>>>>>>> 59024b314c48531109a5e8c376087309f95cc963
     ]
    },
    {
     "name": "stderr",
     "output_type": "stream",
     "text": [
      "compute surface area: 0.01 seconds\n",
<<<<<<< HEAD
      "fill point array: 0.03 seconds\n",
      "fill cell array: 0.00 seconds\n",
      "mesh_to_polydata: 0.03 seconds\n",
      "simplify 0 @ 21980: 0.25 seconds\n"
=======
      "fill point array: 0.04 seconds\n",
      "fill cell array: 0.00 seconds\n",
      "mesh_to_polydata: 0.04 seconds\n",
      "simplify 0 @ 26446: 0.26 seconds\n"
>>>>>>> 59024b314c48531109a5e8c376087309f95cc963
     ]
    },
    {
     "name": "stdout",
     "output_type": "stream",
     "text": [
      "\n",
      "VLL_L"
     ]
    },
    {
     "name": "stderr",
     "output_type": "stream",
     "text": [
<<<<<<< HEAD
      "simplify 1 @ 4397: 0.16 seconds\n",
      "simplify 2 @ 881: 0.03 seconds\n",
      "time: 0.54\n",
      "marching cube: 0.25 seconds\n"
=======
      "simplify 1 @ 5292: 0.19 seconds\n",
      "simplify 2 @ 1061: 0.04 seconds\n",
      "time: 0.61\n",
      "marching cube: 0.19 seconds\n"
>>>>>>> 59024b314c48531109a5e8c376087309f95cc963
     ]
    },
    {
     "name": "stdout",
     "output_type": "stream",
     "text": [
      "\n",
<<<<<<< HEAD
      "area: 66459.06"
=======
      "area: 49751.52"
>>>>>>> 59024b314c48531109a5e8c376087309f95cc963
     ]
    },
    {
     "name": "stderr",
     "output_type": "stream",
     "text": [
<<<<<<< HEAD
      "compute surface area: 0.02 seconds\n",
      "fill point array: 0.08 seconds\n",
      "fill cell array: 0.00 seconds\n",
      "mesh_to_polydata: 0.08 seconds\n",
      "simplify 0 @ 34517: 0.87 seconds\n",
      "simplify 1 @ 6908: 0.29 seconds\n",
      "simplify 2 @ 1386: 0.06 seconds\n"
=======
      "compute surface area: 0.01 seconds\n",
      "fill point array: 0.06 seconds\n",
      "fill cell array: 0.00 seconds\n",
      "mesh_to_polydata: 0.06 seconds\n",
      "simplify 0 @ 34160: 1.03 seconds\n",
      "simplify 1 @ 6834: 0.28 seconds\n",
      "simplify 2 @ 1368: 0.06 seconds\n"
>>>>>>> 59024b314c48531109a5e8c376087309f95cc963
     ]
    },
    {
     "name": "stdout",
     "output_type": "stream",
     "text": [
      "\n",
      "VLL_R"
     ]
    },
    {
     "name": "stderr",
     "output_type": "stream",
     "text": [
<<<<<<< HEAD
      "time: 1.57\n",
      "marching cube: 0.28 seconds\n"
=======
      "time: 1.64\n",
      "marching cube: 0.42 seconds\n"
>>>>>>> 59024b314c48531109a5e8c376087309f95cc963
     ]
    },
    {
     "name": "stdout",
     "output_type": "stream",
     "text": [
      "\n",
<<<<<<< HEAD
      "area: 64947.64"
=======
      "area: 102534.50"
>>>>>>> 59024b314c48531109a5e8c376087309f95cc963
     ]
    },
    {
     "name": "stderr",
     "output_type": "stream",
     "text": [
      "compute surface area: 0.02 seconds\n",
<<<<<<< HEAD
      "fill point array: 0.08 seconds\n",
      "fill cell array: 0.00 seconds\n",
      "mesh_to_polydata: 0.08 seconds\n",
      "simplify 0 @ 44653: 0.85 seconds\n",
      "simplify 1 @ 8932: 0.36 seconds\n",
      "simplify 2 @ 1788: 0.08 seconds\n"
=======
      "fill point array: 0.11 seconds\n",
      "fill cell array: 0.00 seconds\n",
      "mesh_to_polydata: 0.12 seconds\n",
      "simplify 0 @ 25023: 1.60 seconds\n"
>>>>>>> 59024b314c48531109a5e8c376087309f95cc963
     ]
    },
    {
     "name": "stdout",
     "output_type": "stream",
     "text": [
      "\n",
      "sp5"
     ]
    },
    {
     "name": "stderr",
     "output_type": "stream",
     "text": [
<<<<<<< HEAD
      "time: 1.67\n",
      "marching cube: 9.40 seconds\n"
=======
      "simplify 1 @ 5002: 0.22 seconds\n",
      "simplify 2 @ 999: 0.04 seconds\n",
      "time: 2.43\n",
      "marching cube: 7.38 seconds\n"
>>>>>>> 59024b314c48531109a5e8c376087309f95cc963
     ]
    },
    {
     "name": "stdout",
     "output_type": "stream",
     "text": [
      "\n",
<<<<<<< HEAD
      "area: 640625.45"
=======
      "area: 261664.79"
>>>>>>> 59024b314c48531109a5e8c376087309f95cc963
     ]
    },
    {
     "name": "stderr",
     "output_type": "stream",
     "text": [
<<<<<<< HEAD
      "compute surface area: 0.19 seconds\n",
      "fill point array: 0.81 seconds\n",
      "fill cell array: 0.03 seconds\n",
      "mesh_to_polydata: 0.84 seconds\n",
      "simplify 0 @ 549037: 9.22 seconds\n",
      "simplify 1 @ 109479: 7.03 seconds\n",
      "simplify 2 @ 21671: 1.36 seconds\n"
=======
      "compute surface area: 0.07 seconds\n",
      "fill point array: 0.33 seconds\n",
      "fill cell array: 0.01 seconds\n",
      "mesh_to_polydata: 0.34 seconds\n",
      "simplify 0 @ 232535: 3.25 seconds\n",
      "simplify 1 @ 46268: 2.33 seconds\n",
      "simplify 2 @ 9125: 0.46 seconds\n"
>>>>>>> 59024b314c48531109a5e8c376087309f95cc963
     ]
    },
    {
     "name": "stdout",
     "output_type": "stream",
     "text": [
      "\n"
     ]
    },
    {
     "name": "stderr",
     "output_type": "stream",
     "text": [
<<<<<<< HEAD
      "time: 28.33\n"
=======
      "time: 14.04\n"
>>>>>>> 59024b314c48531109a5e8c376087309f95cc963
     ]
    }
   ],
   "source": [
    "for i in all_indices:\n",
    "    \n",
    "    name_s = labels_sided[i-1]\n",
    "\n",
    "    print name_s\n",
    "\n",
    "    xmin, xmax, ymin, ymax, zmin, zmax = bbox_3d(volume == i) \n",
    "    \n",
    "#     volume_landmark_bboxes[name_s]\n",
    "\n",
    "    vol = (volume[ymin:ymax+1, xmin:xmax+1, zmin:zmax+1] == i).astype(np.float)\n",
    "\n",
    "    t = time.time()\n",
    "\n",
    "    polydata = volume_to_polydata(vol, origin=(xmin,ymin,zmin), num_simplify_iter=3, smooth=True)\n",
    "\n",
    "    sys.stderr.write('time: %.2f\\n' % (time.time() - t) ) # ~ 150s for outerContour; 93s for sp5\n",
    "\n",
    "    save_mesh_stl(polydata, os.path.join(mesh_rootdir, \n",
    "                     stack, \"%(stack)s_annotationVolume_%(name)s_smoothed.stl\" % {'stack': stack, 'name': name_s}))\n"
   ]
  },
  {
   "cell_type": "code",
   "execution_count": null,
   "metadata": {
    "collapsed": true
   },
   "outputs": [],
   "source": []
  },
  {
   "cell_type": "code",
   "execution_count": null,
   "metadata": {
    "collapsed": true
   },
   "outputs": [],
   "source": [
    "polydata_list = {}\n",
    "\n",
    "for i in all_indices:  \n",
    "    name_s = labels_sided[i-1]\n",
    "    \n",
    "    fn = os.path.join(mesh_rootdir, stack, \"%(stack)s_annotationVolume_%(name)s_smoothed.stl\" % {'stack': stack, 'name': name_s})\n",
    "\n",
    "    reader = vtk.vtkSTLReader()\n",
    "    reader.SetFileName(fn)\n",
    "    reader.Update()\n",
    "\n",
    "    polydata = reader.GetOutput()\n",
    "    polydata_list[name_s] = polydata\n",
    "    \n",
    "    \n",
    "mesh_actors = [actor_mesh(polydata, colors[labelMap_sidedToUnsided[name_s]], opacity=1.) \n",
    "               for name_s, polydata in polydata_list.iteritems()]\n",
    "# smaller opacity causes erroneous rendering\n",
    "\n",
    "launch_vtk(mesh_actors)"
   ]
  },
  {
   "cell_type": "code",
   "execution_count": null,
   "metadata": {
    "collapsed": true
   },
   "outputs": [],
   "source": []
  }
 ],
 "metadata": {
  "kernelspec": {
   "display_name": "Python 2",
   "language": "python",
   "name": "python2"
  },
  "language_info": {
   "codemirror_mode": {
    "name": "ipython",
    "version": 2
   },
   "file_extension": ".py",
   "mimetype": "text/x-python",
   "name": "python",
   "nbconvert_exporter": "python",
   "pygments_lexer": "ipython2",
   "version": "2.7.6"
  }
 },
 "nbformat": 4,
 "nbformat_minor": 0
}
