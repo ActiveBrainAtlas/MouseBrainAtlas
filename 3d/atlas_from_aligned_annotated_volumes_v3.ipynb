{
 "cells": [
  {
   "cell_type": "code",
   "execution_count": 56,
   "metadata": {
    "collapsed": false
   },
   "outputs": [],
   "source": [
    "%reload_ext autoreload\n",
    "%autoreload 2\n",
    "\n",
    "import numpy as np\n",
    "import bloscpack as bp\n",
    "import sys\n",
    "import os\n",
    "\n",
    "sys.path.append(os.path.join(os.environ['REPO_DIR'], 'utilities'))\n",
    "from utilities2015 import *\n",
    "from metadata import *\n",
    "from data_manager import *\n",
    "\n",
    "from registration_utilities import *\n",
    "from annotation_utilities import *\n",
    "from vis3d_utilities import *\n",
    "\n",
    "%matplotlib inline"
   ]
  },
  {
   "cell_type": "code",
   "execution_count": 58,
   "metadata": {
    "collapsed": true
   },
   "outputs": [],
   "source": [
    "stack_moving = 'MD585'\n",
    "stack_fixed = 'MD589'"
   ]
  },
  {
   "cell_type": "code",
   "execution_count": 59,
   "metadata": {
    "collapsed": true
   },
   "outputs": [],
   "source": [
    "atlas_name = 'atlasV3'"
   ]
  },
  {
   "cell_type": "code",
   "execution_count": 60,
   "metadata": {
    "collapsed": false
   },
   "outputs": [],
   "source": [
    "# volume_fixed = DataManager.load_annotation_volume(stack=stack_fixed, downscale=32)\n",
    "# volume_moving = DataManager.load_annotation_volume(stack=stack_moving, downscale=32)\n",
    "\n",
    "# print volume_fixed.shape\n",
    "# print volume_moving.shape"
   ]
  },
  {
   "cell_type": "code",
   "execution_count": 61,
   "metadata": {
    "collapsed": false
   },
   "outputs": [],
   "source": [
    "label_to_name_m, name_to_label_m = DataManager.load_volume_label_to_name(stack_moving)\n",
    "label_to_name_f, name_to_label_f = DataManager.load_volume_label_to_name(stack_fixed)"
   ]
  },
  {
   "cell_type": "code",
   "execution_count": 62,
   "metadata": {
    "collapsed": false
   },
   "outputs": [],
   "source": [
    "colors = {name_u: np.random.randint(0,255,3)/255.\n",
    "          for name_u in set([convert_name_to_unsided(name_s) for name_s in name_to_label_m.keys()])}"
   ]
  },
  {
   "cell_type": "markdown",
   "metadata": {},
   "source": [
    "# Generate transformed annotation volume meshes\n",
    "\n",
    "Untransformed annotation volume meshes are generated in `visualize_annotationVolume2`"
   ]
  },
  {
   "cell_type": "code",
   "execution_count": 63,
   "metadata": {
    "collapsed": true
   },
   "outputs": [],
   "source": [
    "warp_setting = 9"
   ]
  },
  {
   "cell_type": "code",
   "execution_count": 64,
   "metadata": {
    "collapsed": false
   },
   "outputs": [
    {
     "name": "stderr",
     "output_type": "stream",
     "text": [
      "File does not exist: /home/yuncong/CSHL_volumes/MD585/MD585_down32_annotationAsScoreVolume_warp_9_MD589_down32_annotationAsScoreVolume_trial_0/score_volumes/MD585_down32_annotationAsScoreVolume_warp_9_MD589_down32_annotationAsScoreVolume_trial_0_Sp5C_R.bp\n",
      "Score volume for Sp5C_R does not exist.\n",
      "File does not exist: /home/yuncong/CSHL_volumes/MD585/MD585_down32_annotationAsScoreVolume_warp_9_MD589_down32_annotationAsScoreVolume_trial_0/score_volumes/MD585_down32_annotationAsScoreVolume_warp_9_MD589_down32_annotationAsScoreVolume_trial_0_sp5.bp\n",
      "Score volume for sp5 does not exist.\n",
      "File does not exist: /home/yuncong/CSHL_volumes/MD585/MD585_down32_annotationAsScoreVolume_warp_9_MD589_down32_annotationAsScoreVolume_trial_0/score_volumes/MD585_down32_annotationAsScoreVolume_warp_9_MD589_down32_annotationAsScoreVolume_trial_0_outerContour.bp\n",
      "Score volume for outerContour does not exist.\n"
     ]
    }
   ],
   "source": [
    "volume_m_alignedTo_f = DataManager.load_transformed_volume_all_known_structures(stack_m=stack_moving, type_m='annotation_as_score',\n",
    "                                                            stack_f=stack_fixed, type_f='annotation_as_score',\n",
    "                                                                                warp_setting=warp_setting,\n",
    "                                                                               sided=True)"
   ]
  },
  {
   "cell_type": "code",
   "execution_count": 68,
   "metadata": {
    "collapsed": false
   },
   "outputs": [
    {
     "name": "stdout",
     "output_type": "stream",
     "text": [
      "622 1042 155 502 127 503\n"
     ]
    }
   ],
   "source": [
    "vol_f_xmin, vol_f_xmax, vol_f_ymin, vol_f_ymax, vol_f_zmin, vol_f_zmax = \\\n",
    "DataManager.load_volume_bbox(stack_fixed, type='annotation', downscale=32)\n",
    "print vol_f_xmin, vol_f_xmax, vol_f_ymin, vol_f_ymax, vol_f_zmin, vol_f_zmax"
   ]
  },
  {
   "cell_type": "code",
   "execution_count": 69,
   "metadata": {
    "collapsed": false,
    "scrolled": true
   },
   "outputs": [
    {
     "name": "stderr",
     "output_type": "stream",
     "text": [
      "marching cube: 0.03 seconds\n",
      "mesh_to_polydata: 0.02 seconds\n",
      "simplify 0 @ 3229: 0.05 seconds\n",
      "simplify 1 @ 646: 0.02 seconds\n",
      "time: 0.13 seconds.\n",
      "marching cube: 0.10 seconds\n",
      "mesh_to_polydata: 0.03 seconds\n",
      "simplify 0 @ 24090: 0.24 seconds\n",
      "simplify 1 @ 4819: 0.22 seconds\n",
      "simplify 2 @ 965: 0.04 seconds\n",
      "time: 0.64 seconds.\n",
      "marching cube: 0.05 seconds\n",
      "mesh_to_polydata: 0.02 seconds\n",
      "simplify 0 @ 18945: 0.17 seconds\n",
      "simplify 1 @ 3791: 0.16 seconds\n",
      "simplify 2 @ 759: 0.03 seconds\n",
      "time: 0.43 seconds.\n",
      "marching cube: 0.03 seconds\n",
      "mesh_to_polydata: 0.02 seconds\n",
      "simplify 0 @ 12556: 0.10 seconds\n",
      "simplify 1 @ 2513: 0.10 seconds\n",
      "simplify 2 @ 504: 0.02 seconds\n",
      "time: 0.27 seconds.\n",
      "marching cube: 0.01 seconds\n",
      "mesh_to_polydata: 0.00 seconds\n",
      "simplify 0 @ 2342: 0.02 seconds\n",
      "simplify 1 @ 470: 0.02 seconds\n",
      "time: 0.05 seconds.\n",
      "marching cube: 0.13 seconds\n",
      "mesh_to_polydata: 0.03 seconds\n",
      "simplify 0 @ 10714: 0.19 seconds\n",
      "simplify 1 @ 2144: 0.14 seconds\n",
      "simplify 2 @ 430: 0.03 seconds\n",
      "time: 0.52 seconds.\n",
      "marching cube: 0.09 seconds\n",
      "mesh_to_polydata: 0.03 seconds\n",
      "simplify 0 @ 10980: 0.20 seconds\n",
      "simplify 1 @ 2198: 0.15 seconds\n",
      "simplify 2 @ 441: 0.03 seconds\n",
      "time: 0.51 seconds.\n",
      "marching cube: 0.05 seconds\n",
      "mesh_to_polydata: 0.03 seconds\n",
      "simplify 0 @ 12270: 0.20 seconds\n",
      "simplify 1 @ 2455: 0.19 seconds\n",
      "simplify 2 @ 492: 0.04 seconds\n",
      "time: 0.51 seconds.\n",
      "marching cube: 0.01 seconds\n",
      "mesh_to_polydata: 0.01 seconds\n",
      "simplify 0 @ 2191: 0.03 seconds\n",
      "simplify 1 @ 439: 0.02 seconds\n",
      "time: 0.08 seconds.\n",
      "marching cube: 0.13 seconds\n",
      "mesh_to_polydata: 0.05 seconds\n",
      "simplify 0 @ 31429: 0.34 seconds\n",
      "simplify 1 @ 6287: 0.34 seconds\n",
      "simplify 2 @ 1258: 0.07 seconds\n",
      "time: 0.95 seconds.\n",
      "marching cube: 0.06 seconds\n",
      "mesh_to_polydata: 0.03 seconds\n",
      "simplify 0 @ 18349: 0.22 seconds\n",
      "simplify 1 @ 3670: 0.19 seconds\n",
      "simplify 2 @ 734: 0.04 seconds\n",
      "time: 0.54 seconds.\n",
      "marching cube: 0.12 seconds\n",
      "mesh_to_polydata: 0.05 seconds\n",
      "simplify 0 @ 25677: 0.37 seconds\n",
      "simplify 1 @ 5137: 0.27 seconds\n",
      "simplify 2 @ 1029: 0.06 seconds\n",
      "time: 0.88 seconds.\n",
      "marching cube: 0.05 seconds\n",
      "mesh_to_polydata: 0.03 seconds\n",
      "simplify 0 @ 6942: 0.26 seconds\n",
      "simplify 1 @ 1388: 0.09 seconds\n",
      "simplify 2 @ 277: 0.02 seconds\n",
      "time: 0.45 seconds.\n",
      "marching cube: 0.19 seconds\n",
      "mesh_to_polydata: 0.06 seconds\n",
      "simplify 0 @ 26518: 0.39 seconds\n",
      "simplify 1 @ 5305: 0.39 seconds\n",
      "simplify 2 @ 1062: 0.09 seconds\n",
      "time: 1.13 seconds.\n",
      "marching cube: 0.07 seconds\n",
      "mesh_to_polydata: 0.03 seconds\n",
      "simplify 0 @ 13447: 0.19 seconds\n",
      "simplify 1 @ 2691: 0.16 seconds\n",
      "simplify 2 @ 539: 0.03 seconds\n",
      "time: 0.47 seconds.\n",
      "marching cube: 0.12 seconds\n",
      "mesh_to_polydata: 0.04 seconds\n",
      "simplify 0 @ 28231: 0.26 seconds\n",
      "simplify 1 @ 5647: 0.28 seconds\n",
      "simplify 2 @ 1131: 0.06 seconds\n",
      "time: 0.76 seconds.\n",
      "marching cube: 0.07 seconds\n",
      "mesh_to_polydata: 0.03 seconds\n",
      "simplify 0 @ 17179: 0.28 seconds\n",
      "simplify 1 @ 3435: 0.16 seconds\n",
      "simplify 2 @ 687: 0.03 seconds\n",
      "time: 0.59 seconds.\n",
      "marching cube: 0.01 seconds\n",
      "mesh_to_polydata: 0.01 seconds\n",
      "simplify 0 @ 5151: 0.04 seconds\n",
      "simplify 1 @ 1031: 0.04 seconds\n",
      "simplify 2 @ 207: 0.01 seconds\n",
      "time: 0.11 seconds.\n",
      "marching cube: 0.06 seconds\n",
      "mesh_to_polydata: 0.02 seconds\n",
      "simplify 0 @ 14398: 0.13 seconds\n",
      "simplify 1 @ 2881: 0.13 seconds\n",
      "simplify 2 @ 577: 0.03 seconds\n",
      "time: 0.36 seconds.\n",
      "marching cube: 0.05 seconds\n",
      "mesh_to_polydata: 0.03 seconds\n",
      "simplify 0 @ 14185: 0.21 seconds\n",
      "simplify 1 @ 2839: 0.20 seconds\n",
      "simplify 2 @ 569: 0.04 seconds\n",
      "time: 0.53 seconds.\n",
      "marching cube: 0.01 seconds\n",
      "mesh_to_polydata: 0.01 seconds\n",
      "simplify 0 @ 2528: 0.04 seconds\n",
      "simplify 1 @ 507: 0.03 seconds\n",
      "time: 0.10 seconds.\n",
      "marching cube: 0.00 seconds\n",
      "mesh_to_polydata: 0.00 seconds\n",
      "simplify 0 @ 708: 0.01 seconds\n",
      "time: 0.03 seconds.\n",
      "marching cube: 0.08 seconds\n",
      "mesh_to_polydata: 0.04 seconds\n",
      "simplify 0 @ 14429: 0.30 seconds\n",
      "simplify 1 @ 2887: 0.21 seconds\n",
      "simplify 2 @ 579: 0.05 seconds\n",
      "time: 0.68 seconds.\n",
      "marching cube: 0.03 seconds\n",
      "mesh_to_polydata: 0.01 seconds\n",
      "simplify 0 @ 8935: 0.09 seconds\n",
      "simplify 1 @ 1788: 0.08 seconds\n",
      "simplify 2 @ 359: 0.02 seconds\n",
      "time: 0.24 seconds.\n",
      "marching cube: 0.02 seconds\n",
      "mesh_to_polydata: 0.01 seconds\n",
      "simplify 0 @ 7163: 0.07 seconds\n",
      "simplify 1 @ 1434: 0.05 seconds\n",
      "simplify 2 @ 288: 0.01 seconds\n",
      "time: 0.17 seconds.\n",
      "marching cube: 0.04 seconds\n",
      "mesh_to_polydata: 0.01 seconds\n",
      "simplify 0 @ 7391: 0.06 seconds\n",
      "simplify 1 @ 1479: 0.06 seconds\n",
      "simplify 2 @ 297: 0.01 seconds\n",
      "time: 0.18 seconds.\n",
      "marching cube: 0.03 seconds\n",
      "mesh_to_polydata: 0.01 seconds\n",
      "simplify 0 @ 7350: 0.06 seconds\n",
      "simplify 1 @ 1471: 0.06 seconds\n",
      "simplify 2 @ 295: 0.01 seconds\n",
      "time: 0.17 seconds.\n",
      "marching cube: 0.01 seconds\n",
      "mesh_to_polydata: 0.00 seconds\n",
      "simplify 0 @ 2805: 0.03 seconds\n",
      "simplify 1 @ 562: 0.02 seconds\n",
      "time: 0.06 seconds.\n",
      "marching cube: 0.02 seconds\n",
      "mesh_to_polydata: 0.01 seconds\n",
      "simplify 0 @ 6826: 0.07 seconds\n",
      "simplify 1 @ 1366: 0.05 seconds\n",
      "simplify 2 @ 274: 0.01 seconds\n",
      "time: 0.16 seconds.\n",
      "marching cube: 0.01 seconds\n",
      "mesh_to_polydata: 0.01 seconds\n",
      "simplify 0 @ 3702: 0.05 seconds\n",
      "simplify 1 @ 742: 0.03 seconds\n",
      "time: 0.10 seconds.\n",
      "marching cube: 0.01 seconds\n",
      "mesh_to_polydata: 0.01 seconds\n",
      "simplify 0 @ 2094: 0.04 seconds\n",
      "simplify 1 @ 420: 0.03 seconds\n",
      "time: 0.09 seconds.\n",
      "marching cube: 0.00 seconds\n",
      "mesh_to_polydata: 0.00 seconds\n",
      "simplify 0 @ 1034: 0.02 seconds\n",
      "simplify 1 @ 208: 0.01 seconds\n",
      "time: 0.04 seconds.\n",
      "marching cube: 0.90 seconds\n",
      "mesh_to_polydata: 0.26 seconds\n",
      "simplify 0 @ 99515: 1.45 seconds\n",
      "simplify 1 @ 19906: 1.22 seconds\n",
      "simplify 2 @ 3982: 0.24 seconds\n",
      "time: 4.09 seconds.\n",
      "marching cube: 0.05 seconds\n",
      "mesh_to_polydata: 0.02 seconds\n",
      "simplify 0 @ 13459: 0.13 seconds\n",
      "simplify 1 @ 2693: 0.11 seconds\n",
      "simplify 2 @ 540: 0.03 seconds\n",
      "time: 0.34 seconds.\n",
      "marching cube: 0.04 seconds\n",
      "mesh_to_polydata: 0.02 seconds\n",
      "simplify 0 @ 12110: 0.11 seconds\n",
      "simplify 1 @ 2423: 0.10 seconds\n",
      "simplify 2 @ 486: 0.02 seconds\n",
      "time: 0.29 seconds.\n",
      "marching cube: 0.00 seconds\n",
      "mesh_to_polydata: 0.00 seconds\n",
      "simplify 0 @ 975: 0.02 seconds\n",
      "time: 0.04 seconds.\n",
      "marching cube: 0.06 seconds\n",
      "mesh_to_polydata: 0.02 seconds\n",
      "simplify 0 @ 7414: 0.12 seconds\n",
      "simplify 1 @ 1484: 0.10 seconds\n",
      "simplify 2 @ 298: 0.02 seconds\n",
      "time: 0.33 seconds.\n",
      "marching cube: 0.02 seconds\n",
      "mesh_to_polydata: 0.01 seconds\n",
      "simplify 0 @ 3669: 0.08 seconds\n",
      "simplify 1 @ 735: 0.05 seconds\n",
      "time: 0.17 seconds.\n",
      "marching cube: 0.03 seconds\n",
      "mesh_to_polydata: 0.01 seconds\n",
      "simplify 0 @ 4679: 0.07 seconds\n",
      "simplify 1 @ 937: 0.06 seconds\n",
      "time: 0.19 seconds.\n",
      "marching cube: 0.07 seconds\n",
      "mesh_to_polydata: 0.02 seconds\n",
      "simplify 0 @ 9362: 0.10 seconds\n",
      "simplify 1 @ 1874: 0.09 seconds\n",
      "simplify 2 @ 376: 0.02 seconds\n",
      "time: 0.29 seconds.\n",
      "marching cube: 0.00 seconds\n",
      "mesh_to_polydata: 0.00 seconds\n",
      "simplify 0 @ 695: 0.01 seconds\n",
      "time: 0.02 seconds.\n",
      "marching cube: 0.02 seconds\n",
      "mesh_to_polydata: 0.01 seconds\n",
      "simplify 0 @ 5931: 0.05 seconds\n",
      "simplify 1 @ 1187: 0.04 seconds\n",
      "simplify 2 @ 239: 0.01 seconds\n",
      "time: 0.14 seconds.\n",
      "marching cube: 0.02 seconds\n",
      "mesh_to_polydata: 0.01 seconds\n",
      "simplify 0 @ 5838: 0.05 seconds\n",
      "simplify 1 @ 1169: 0.04 seconds\n",
      "simplify 2 @ 235: 0.01 seconds\n",
      "time: 0.13 seconds.\n",
      "marching cube: 0.09 seconds\n",
      "mesh_to_polydata: 0.01 seconds\n",
      "simplify 0 @ 9373: 0.08 seconds\n",
      "simplify 1 @ 1876: 0.07 seconds\n",
      "simplify 2 @ 376: 0.02 seconds\n",
      "time: 0.27 seconds.\n",
      "marching cube: 0.00 seconds\n",
      "mesh_to_polydata: 0.00 seconds\n",
      "simplify 0 @ 659: 0.01 seconds\n",
      "time: 0.02 seconds.\n",
      "marching cube: 0.03 seconds\n",
      "mesh_to_polydata: 0.02 seconds\n",
      "simplify 0 @ 9723: 0.12 seconds\n",
      "simplify 1 @ 1946: 0.08 seconds\n",
      "simplify 2 @ 390: 0.02 seconds\n",
      "time: 0.26 seconds.\n",
      "marching cube: 0.05 seconds\n",
      "mesh_to_polydata: 0.01 seconds\n",
      "simplify 0 @ 5180: 0.07 seconds\n",
      "simplify 1 @ 1037: 0.06 seconds\n",
      "simplify 2 @ 209: 0.02 seconds\n",
      "time: 0.21 seconds.\n",
      "marching cube: 1.29 seconds\n",
      "mesh_to_polydata: 0.32 seconds\n",
      "simplify 0 @ 137339: 1.72 seconds\n",
      "simplify 1 @ 27472: 1.78 seconds\n",
      "simplify 2 @ 5495: 0.37 seconds\n",
      "time: 5.51 seconds.\n",
      "marching cube: 0.02 seconds\n",
      "mesh_to_polydata: 0.01 seconds\n",
      "simplify 0 @ 4611: 0.06 seconds\n",
      "simplify 1 @ 923: 0.03 seconds\n",
      "time: 0.13 seconds.\n",
      "marching cube: 0.00 seconds\n",
      "mesh_to_polydata: 0.00 seconds\n",
      "simplify 0 @ 1515: 0.02 seconds\n",
      "simplify 1 @ 304: 0.01 seconds\n",
      "time: 0.05 seconds.\n"
     ]
    }
   ],
   "source": [
    "for name_s, label in name_to_label_m.iteritems():\n",
    "    \n",
    "    xmin, xmax, ymin, ymax, zmin, zmax = bbox_3d(volume_m_alignedTo_f[name_s])\n",
    "    vol = volume_m_alignedTo_f[name_s][ymin:ymax+1, xmin:xmax+1, zmin:zmax+1].astype(np.float)\n",
    "\n",
    "    t = time.time()\n",
    "    polydata = volume_to_polydata(vol, origin=(vol_f_xmin+xmin, vol_f_ymin+ymin, vol_f_zmin+zmin), \n",
    "                                  num_simplify_iter=3, smooth=True)\n",
    "    sys.stderr.write('time: %.2f seconds.\\n' % (time.time() - t) )\n",
    "    \n",
    "    \n",
    "    fp = DataManager.get_mesh_filepath(stack_m=stack_moving, stack_f=stack_fixed, \n",
    "                                                          type_f='annotation_as_score',\n",
    "                                                          type_m='annotation_as_score',\n",
    "                                                          structure=name_s, warp_setting=9)\n",
    "    create_parent_dir_if_not_exists(fp)\n",
    "    save_mesh_stl(polydata, fp)"
   ]
  },
  {
   "cell_type": "markdown",
   "metadata": {},
   "source": [
    "# Load annotation volume meshes"
   ]
  },
  {
   "cell_type": "code",
   "execution_count": 70,
   "metadata": {
    "collapsed": true
   },
   "outputs": [],
   "source": [
    "warp_setting = 9"
   ]
  },
  {
   "cell_type": "code",
   "execution_count": 71,
   "metadata": {
    "collapsed": false,
    "scrolled": true
   },
   "outputs": [
    {
     "name": "stderr",
     "output_type": "stream",
     "text": [
      "load_mesh_stl: File does not exist /home/yuncong/CSHL_meshes/MD585/MD585_down32_annotationAsScoreVolume_warp_9_MD589_down32_annotationAsScoreVolume_trial_0/MD585_down32_annotationAsScoreVolume_warp_9_MD589_down32_annotationAsScoreVolume_trial_0_Sp5C_R.stl\n",
      "Mesh is empty: Sp5C_R.\n",
      "Error loading mesh for Sp5C_R.\n",
      "load_mesh_stl: File does not exist /home/yuncong/CSHL_meshes/MD585/MD585_down32_annotationAsScoreVolume_warp_9_MD589_down32_annotationAsScoreVolume_trial_0/MD585_down32_annotationAsScoreVolume_warp_9_MD589_down32_annotationAsScoreVolume_trial_0_sp5.stl\n",
      "Mesh is empty: sp5.\n",
      "Error loading mesh for sp5.\n",
      "load_mesh_stl: File does not exist /home/yuncong/CSHL_meshes/MD585/MD585_down32_annotationAsScoreVolume_warp_9_MD589_down32_annotationAsScoreVolume_trial_0/MD585_down32_annotationAsScoreVolume_warp_9_MD589_down32_annotationAsScoreVolume_trial_0_outerContour.stl\n",
      "Mesh is empty: outerContour.\n",
      "Error loading mesh for outerContour.\n"
     ]
    }
   ],
   "source": [
    "moving_volume_alignedTo_fixed_volume_polydata_list = \\\n",
    "DataManager.load_meshes(stack_m=stack_moving, stack_f=stack_fixed, warp_setting=warp_setting, \n",
    "                       type_m='annotation_as_score', type_f='annotation_as_score', trial_idx=0, sided=True)"
   ]
  },
  {
   "cell_type": "code",
   "execution_count": 77,
   "metadata": {
    "collapsed": false
   },
   "outputs": [
    {
     "name": "stderr",
     "output_type": "stream",
     "text": [
      "load_mesh_stl: File does not exist /home/yuncong/CSHL_meshes/MD585/MD585_down32_annotationAsScoreVolume/MD585_down32_annotationAsScoreVolume_Sp5C_R.stl\n",
      "Mesh is empty: Sp5C_R.\n",
      "Error loading mesh for Sp5C_R.\n",
      "load_mesh_stl: File does not exist /home/yuncong/CSHL_meshes/MD585/MD585_down32_annotationAsScoreVolume/MD585_down32_annotationAsScoreVolume_sp5.stl\n",
      "Mesh is empty: sp5.\n",
      "Error loading mesh for sp5.\n",
      "load_mesh_stl: File does not exist /home/yuncong/CSHL_meshes/MD585/MD585_down32_annotationAsScoreVolume/MD585_down32_annotationAsScoreVolume_outerContour.stl\n",
      "Mesh is empty: outerContour.\n",
      "Error loading mesh for outerContour.\n"
     ]
    }
   ],
   "source": [
    "# Load moving volume\n",
    "\n",
    "moving_volume_polydata_list = DataManager.load_meshes(stack_m=stack_moving, type_m='annotation_as_score', \n",
    "                                                      trial_idx=None,\n",
    "                                                     sided=True)"
   ]
  },
  {
   "cell_type": "code",
   "execution_count": 78,
   "metadata": {
    "collapsed": false
   },
   "outputs": [
    {
     "name": "stderr",
     "output_type": "stream",
     "text": [
      "load_mesh_stl: File does not exist /home/yuncong/CSHL_meshes/MD589/MD589_down32_annotationAsScoreVolume/MD589_down32_annotationAsScoreVolume_sp5.stl\n",
      "Mesh is empty: sp5.\n",
      "Error loading mesh for sp5.\n",
      "load_mesh_stl: File does not exist /home/yuncong/CSHL_meshes/MD589/MD589_down32_annotationAsScoreVolume/MD589_down32_annotationAsScoreVolume_outerContour.stl\n",
      "Mesh is empty: outerContour.\n",
      "Error loading mesh for outerContour.\n"
     ]
    }
   ],
   "source": [
    "# Load fixed volume\n",
    "\n",
    "fixed_volume_polydata_list = DataManager.load_meshes(stack_m=stack_fixed, type_m='annotation_as_score', \n",
    "                                                      trial_idx=None,\n",
    "                                                     sided=True)"
   ]
  },
  {
   "cell_type": "code",
   "execution_count": 10,
   "metadata": {
    "collapsed": false
   },
   "outputs": [],
   "source": [
    "# # Show each structure in one color\n",
    "\n",
    "# volume_m_alignedTo_f_mesh_actors = [actor_mesh(polydata, colors[convert_name_to_unsided(name_s)], wireframe=True, opacity=1.) \n",
    "#                for name_s, polydata in moving_volume_alignedTo_fixed_volume_polydata_list.iteritems()]\n",
    "\n",
    "# volume_f_mesh_actors = [actor_mesh(polydata, colors[convert_name_to_unsided(name_s)], wireframe=True, opacity=1.) \n",
    "#                for name_s, polydata in fixed_volume_polydata_list.iteritems()]\n",
    "\n",
    "# launch_vtk(volume_m_alignedTo_f_mesh_actors + volume_f_mesh_actors)"
   ]
  },
  {
   "cell_type": "code",
   "execution_count": 50,
   "metadata": {
    "collapsed": false
   },
   "outputs": [],
   "source": [
    "# # Show each brain in one color\n",
    "\n",
    "# volume_m_alignedTo_f_mesh_actors = [actor_mesh(polydata, (1,0,1), wireframe=False, opacity=.5) \n",
    "#                for name_s, polydata in moving_volume_alignedTo_fixed_volume_polydata_list.iteritems()]\n",
    "\n",
    "# volume_f_mesh_actors = [actor_mesh(polydata, (0,0,1), wireframe=True, opacity=.5, \n",
    "#                                    origin=(0,0,0)) \n",
    "#                for name_s, polydata in fixed_volume_polydata_list.iteritems()]\n",
    "\n",
    "# volume_m_mesh_actors = [actor_mesh(polydata, (0,1,1), wireframe=True, opacity=.5,\n",
    "#                                   origin=(0,0,0)) \n",
    "#                for name_s, polydata in moving_volume_polydata_list.iteritems()]"
   ]
  },
  {
   "cell_type": "code",
   "execution_count": 43,
   "metadata": {
    "collapsed": false
   },
   "outputs": [],
   "source": [
    "# launch_vtk(volume_m_alignedTo_f_mesh_actors + volume_f_mesh_actors + volume_m_mesh_actors)"
   ]
  },
  {
   "cell_type": "code",
   "execution_count": 71,
   "metadata": {
    "collapsed": true
   },
   "outputs": [],
   "source": [
    "# launch_vtk(volume_m_alignedTo_f_mesh_actors + volume_f_mesh_actors)"
   ]
  },
  {
   "cell_type": "code",
   "execution_count": 66,
   "metadata": {
    "collapsed": true
   },
   "outputs": [],
   "source": [
    "# launch_vtk(volume_f_mesh_actors + volume_m_mesh_actors, init_angle='30')"
   ]
  },
  {
   "cell_type": "code",
   "execution_count": 79,
   "metadata": {
    "collapsed": false
   },
   "outputs": [],
   "source": [
    "launch_vtk(\n",
    "        [actor_mesh(polydata, (0,0,1), wireframe=True, opacity=1) \n",
    "             for name_s, polydata in fixed_volume_polydata_list.iteritems()] + \\\n",
    "           \n",
    "           [actor_mesh(polydata, (0,1,0), wireframe=True, opacity=1)\n",
    "               for name_s, polydata in moving_volume_alignedTo_fixed_volume_polydata_list.iteritems()] + \\\n",
    "    \n",
    "    [actor_mesh(polydata, (1,0,0), wireframe=True, opacity=1)\n",
    "               for name_s, polydata in moving_volume_polydata_list.iteritems()],\n",
    "           \n",
    "#           [actor_mesh(polydata, structure_colors[convert_name_to_unsided(n)]/255., origin=canonical_centroid) \n",
    "#                     for n, polydata in atlas_space_structure_meshes.iteritems()])\n",
    "#            [actor_mesh(polydata, color=(1,1,1), wireframe=True, origin=canonical_centroid) \n",
    "#                     for n, polydata in atlas_space_structure_meshes.iteritems()] + \\\n",
    "#             [actor_mesh(shell_polydata, opacity=.2)],\n",
    "          init_angle='horizontal_topDown')"
   ]
  },
  {
   "cell_type": "markdown",
   "metadata": {},
   "source": [
    "# More than two stacks"
   ]
  },
  {
   "cell_type": "code",
   "execution_count": null,
   "metadata": {
    "collapsed": true
   },
   "outputs": [],
   "source": [
    "warp_setting = 9"
   ]
  },
  {
   "cell_type": "code",
   "execution_count": 84,
   "metadata": {
    "collapsed": true
   },
   "outputs": [],
   "source": [
    "stack_fixed = 'MD589'\n",
    "stacks_moving = ['MD585', 'MD594']"
   ]
  },
  {
   "cell_type": "code",
   "execution_count": 86,
   "metadata": {
    "collapsed": false
   },
   "outputs": [
    {
     "name": "stderr",
     "output_type": "stream",
     "text": [
      "load_mesh_stl: File does not exist /home/yuncong/CSHL_meshes/MD585/MD585_down32_annotationAsScoreVolume_warp_9_MD589_down32_annotationAsScoreVolume_trial_0/MD585_down32_annotationAsScoreVolume_warp_9_MD589_down32_annotationAsScoreVolume_trial_0_Sp5C_R.stl\n",
      "Mesh is empty: Sp5C_R.\n",
      "Error loading mesh for Sp5C_R.\n",
      "load_mesh_stl: File does not exist /home/yuncong/CSHL_meshes/MD585/MD585_down32_annotationAsScoreVolume_warp_9_MD589_down32_annotationAsScoreVolume_trial_0/MD585_down32_annotationAsScoreVolume_warp_9_MD589_down32_annotationAsScoreVolume_trial_0_sp5.stl\n",
      "Mesh is empty: sp5.\n",
      "Error loading mesh for sp5.\n",
      "load_mesh_stl: File does not exist /home/yuncong/CSHL_meshes/MD585/MD585_down32_annotationAsScoreVolume_warp_9_MD589_down32_annotationAsScoreVolume_trial_0/MD585_down32_annotationAsScoreVolume_warp_9_MD589_down32_annotationAsScoreVolume_trial_0_outerContour.stl\n",
      "Mesh is empty: outerContour.\n",
      "Error loading mesh for outerContour.\n",
      "load_mesh_stl: File does not exist /home/yuncong/CSHL_meshes/MD594/MD594_down32_annotationAsScoreVolume_warp_9_MD589_down32_annotationAsScoreVolume_trial_0/MD594_down32_annotationAsScoreVolume_warp_9_MD589_down32_annotationAsScoreVolume_trial_0_sp5.stl\n",
      "Mesh is empty: sp5.\n",
      "Error loading mesh for sp5.\n",
      "load_mesh_stl: File does not exist /home/yuncong/CSHL_meshes/MD594/MD594_down32_annotationAsScoreVolume_warp_9_MD589_down32_annotationAsScoreVolume_trial_0/MD594_down32_annotationAsScoreVolume_warp_9_MD589_down32_annotationAsScoreVolume_trial_0_outerContour.stl\n",
      "Mesh is empty: outerContour.\n",
      "Error loading mesh for outerContour.\n"
     ]
    }
   ],
   "source": [
    "moving_volume_alignedTo_fixed_volume_polydata_list_all_stacks = {}\n",
    "\n",
    "for stack_moving in stacks_moving:\n",
    "    moving_volume_alignedTo_fixed_volume_polydata_list_all_stacks[stack_moving] = \\\n",
    "    DataManager.load_meshes(stack_m=stack_moving, stack_f=stack_fixed, warp_setting=warp_setting, \n",
    "                       type_m='annotation_as_score', type_f='annotation_as_score', trial_idx=0, sided=True)"
   ]
  },
  {
   "cell_type": "markdown",
   "metadata": {},
   "source": [
    "# Generate atlas (average shapes at average positions)"
   ]
  },
  {
   "cell_type": "code",
   "execution_count": 94,
   "metadata": {
    "collapsed": true
   },
   "outputs": [],
   "source": [
    "all_names = set([convert_name_to_unsided(name_s) for name_s in name_to_label_f.keys()])"
   ]
  },
  {
   "cell_type": "code",
   "execution_count": 95,
   "metadata": {
    "collapsed": true
   },
   "outputs": [],
   "source": [
    "centroid_allLandmarks = defaultdict(list)\n",
    "polydata_list_allLandmarks = {}\n",
    "average_polydata_allLandmarks = {}\n",
    "average_volume_allLandmarks = {}\n",
    "average_volume_origin_allLandmarks = {}"
   ]
  },
  {
   "cell_type": "code",
   "execution_count": 96,
   "metadata": {
    "collapsed": false,
    "scrolled": true
   },
   "outputs": [
    {
     "name": "stdout",
     "output_type": "stream",
     "text": [
      "Tz\n"
     ]
    },
    {
     "name": "stderr",
     "output_type": "stream",
     "text": [
      "icp: 2.96\n",
      "icp: 6.56\n",
      "icp: 9.26\n",
      "icp: 4.47\n",
      "icp: 6.96\n",
      "polydata_to_volume: 0.01\n",
      "polydata_to_volume: 0.01\n",
      "polydata_to_volume: 0.01\n",
      "polydata_to_volume: 0.01\n",
      "polydata_to_volume: 0.01\n",
      "polydata_to_volume: 0.01\n",
      "find common: 0.01\n",
      "marching cube: 0.05 seconds\n",
      "mesh_to_polydata: 0.02 seconds\n",
      "simplify 0 @ 4633: 0.11 seconds\n",
      "simplify 1 @ 928: 0.10 seconds\n",
      "volume_to_polydata: 0.31\n"
     ]
    },
    {
     "name": "stdout",
     "output_type": "stream",
     "text": [
      "VCA\n"
     ]
    },
    {
     "name": "stderr",
     "output_type": "stream",
     "text": [
      "icp: 18.47\n",
      "icp: 18.05\n",
      "icp: 17.11\n",
      "icp: 17.37\n",
      "icp: 16.09\n",
      "polydata_to_volume: 0.01\n",
      "polydata_to_volume: 0.01\n",
      "polydata_to_volume: 0.01\n",
      "polydata_to_volume: 0.01\n",
      "polydata_to_volume: 0.01\n",
      "polydata_to_volume: 0.01\n",
      "find common: 0.02\n",
      "marching cube: 0.10 seconds\n",
      "mesh_to_polydata: 0.04 seconds\n",
      "simplify 0 @ 12663: 0.23 seconds\n",
      "simplify 1 @ 2534: 0.21 seconds\n",
      "simplify 2 @ 508: 0.05 seconds\n",
      "volume_to_polydata: 0.63\n"
     ]
    },
    {
     "name": "stdout",
     "output_type": "stream",
     "text": [
      "7n\n"
     ]
    },
    {
     "name": "stderr",
     "output_type": "stream",
     "text": [
      "icp: 10.91\n",
      "icp: 10.53\n",
      "icp: 9.42\n",
      "icp: 8.92\n",
      "icp: 11.28\n",
      "polydata_to_volume: 0.01\n",
      "polydata_to_volume: 0.01\n",
      "polydata_to_volume: 0.01\n",
      "polydata_to_volume: 0.01\n",
      "polydata_to_volume: 0.00\n",
      "polydata_to_volume: 0.00\n",
      "find common: 0.02\n",
      "marching cube: 0.07 seconds\n",
      "mesh_to_polydata: 0.01 seconds\n",
      "simplify 0 @ 9316: 0.06 seconds\n",
      "simplify 1 @ 1864: 0.06 seconds\n",
      "simplify 2 @ 374: 0.01 seconds\n",
      "volume_to_polydata: 0.21\n"
     ]
    },
    {
     "name": "stdout",
     "output_type": "stream",
     "text": [
      "DC\n"
     ]
    },
    {
     "name": "stderr",
     "output_type": "stream",
     "text": [
      "icp: 12.31\n",
      "icp: 10.33\n",
      "icp: 17.12\n",
      "icp: 12.03\n",
      "icp: 15.51\n",
      "polydata_to_volume: 0.01\n",
      "polydata_to_volume: 0.01\n",
      "polydata_to_volume: 0.01\n",
      "polydata_to_volume: 0.01\n",
      "polydata_to_volume: 0.01\n",
      "polydata_to_volume: 0.01\n",
      "find common: 0.01\n",
      "marching cube: 0.09 seconds\n",
      "mesh_to_polydata: 0.02 seconds\n",
      "simplify 0 @ 11609: 0.12 seconds\n",
      "simplify 1 @ 2325: 0.11 seconds\n",
      "simplify 2 @ 468: 0.02 seconds\n",
      "volume_to_polydata: 0.37\n"
     ]
    },
    {
     "name": "stdout",
     "output_type": "stream",
     "text": [
      "5N\n"
     ]
    },
    {
     "name": "stderr",
     "output_type": "stream",
     "text": [
      "icp: 4.90\n",
      "icp: 5.00\n",
      "icp: 4.64\n",
      "icp: 7.00\n",
      "icp: 7.95\n",
      "polydata_to_volume: 0.00\n",
      "polydata_to_volume: 0.00\n",
      "polydata_to_volume: 0.00\n",
      "polydata_to_volume: 0.00\n",
      "polydata_to_volume: 0.00\n",
      "polydata_to_volume: 0.00\n",
      "find common: 0.00\n",
      "marching cube: 0.02 seconds\n",
      "mesh_to_polydata: 0.01 seconds\n",
      "simplify 0 @ 6458: 0.06 seconds\n",
      "simplify 1 @ 1293: 0.05 seconds\n",
      "simplify 2 @ 260: 0.01 seconds\n",
      "volume_to_polydata: 0.15\n"
     ]
    },
    {
     "name": "stdout",
     "output_type": "stream",
     "text": [
      "3N\n"
     ]
    },
    {
     "name": "stderr",
     "output_type": "stream",
     "text": [
      "icp: 1.00\n",
      "icp: 1.27\n",
      "icp: 1.00\n",
      "icp: 1.11\n",
      "icp: 1.36\n",
      "polydata_to_volume: 0.00\n",
      "polydata_to_volume: 0.00\n",
      "polydata_to_volume: 0.00\n",
      "polydata_to_volume: 0.00\n",
      "polydata_to_volume: 0.00\n",
      "polydata_to_volume: 0.00\n",
      "find common: 0.00\n",
      "marching cube: 0.01 seconds\n",
      "mesh_to_polydata: 0.00 seconds\n",
      "simplify 0 @ 2235: 0.02 seconds\n",
      "simplify 1 @ 448: 0.02 seconds\n",
      "volume_to_polydata: 0.05\n"
     ]
    },
    {
     "name": "stdout",
     "output_type": "stream",
     "text": [
      "Pn\n"
     ]
    },
    {
     "name": "stderr",
     "output_type": "stream",
     "text": [
      "icp: 16.71\n",
      "icp: 10.18\n",
      "icp: 15.45\n",
      "icp: 15.76\n",
      "icp: 17.77\n",
      "polydata_to_volume: 0.01\n",
      "polydata_to_volume: 0.01\n",
      "polydata_to_volume: 0.01\n",
      "polydata_to_volume: 0.01\n",
      "polydata_to_volume: 0.01\n",
      "polydata_to_volume: 0.01\n",
      "find common: 0.01\n",
      "marching cube: 0.07 seconds\n",
      "mesh_to_polydata: 0.03 seconds\n",
      "simplify 0 @ 16422: 0.18 seconds\n",
      "simplify 1 @ 3286: 0.16 seconds\n",
      "simplify 2 @ 658: 0.04 seconds\n",
      "volume_to_polydata: 0.48\n"
     ]
    },
    {
     "name": "stdout",
     "output_type": "stream",
     "text": [
      "10N\n"
     ]
    },
    {
     "name": "stderr",
     "output_type": "stream",
     "text": [
      "icp: 2.93\n",
      "icp: 3.75\n",
      "icp: 3.12\n",
      "icp: 2.52\n",
      "icp: 2.63\n",
      "polydata_to_volume: 0.00\n",
      "polydata_to_volume: 0.00\n",
      "polydata_to_volume: 0.00\n",
      "polydata_to_volume: 0.00\n",
      "polydata_to_volume: 0.00\n",
      "polydata_to_volume: 0.00\n",
      "find common: 0.00\n",
      "marching cube: 0.02 seconds\n",
      "mesh_to_polydata: 0.01 seconds\n",
      "simplify 0 @ 3794: 0.03 seconds\n",
      "simplify 1 @ 760: 0.03 seconds\n",
      "volume_to_polydata: 0.09\n"
     ]
    },
    {
     "name": "stdout",
     "output_type": "stream",
     "text": [
      "VLL\n"
     ]
    },
    {
     "name": "stderr",
     "output_type": "stream",
     "text": [
      "icp: 13.42\n",
      "icp: 10.21\n",
      "icp: 13.53\n",
      "icp: 12.16\n",
      "icp: 11.30\n",
      "polydata_to_volume: 0.01\n",
      "polydata_to_volume: 0.00\n",
      "polydata_to_volume: 0.00\n",
      "polydata_to_volume: 0.00\n",
      "polydata_to_volume: 0.00\n",
      "polydata_to_volume: 0.00\n",
      "find common: 0.03\n",
      "marching cube: 0.12 seconds\n",
      "mesh_to_polydata: 0.02 seconds\n",
      "simplify 0 @ 11916: 0.10 seconds\n",
      "simplify 1 @ 2384: 0.10 seconds\n",
      "simplify 2 @ 478: 0.02 seconds\n",
      "volume_to_polydata: 0.36\n"
     ]
    },
    {
     "name": "stdout",
     "output_type": "stream",
     "text": [
      "7N\n"
     ]
    },
    {
     "name": "stderr",
     "output_type": "stream",
     "text": [
      "icp: 7.92\n",
      "icp: 9.26\n",
      "icp: 10.04\n",
      "icp: 10.09\n",
      "icp: 9.21\n",
      "polydata_to_volume: 0.00\n",
      "polydata_to_volume: 0.00\n",
      "polydata_to_volume: 0.00\n",
      "polydata_to_volume: 0.01\n",
      "polydata_to_volume: 0.01\n",
      "polydata_to_volume: 0.00\n",
      "find common: 0.01\n",
      "marching cube: 0.03 seconds\n",
      "mesh_to_polydata: 0.02 seconds\n",
      "simplify 0 @ 11150: 0.10 seconds\n",
      "simplify 1 @ 2231: 0.09 seconds\n",
      "simplify 2 @ 447: 0.02 seconds\n",
      "volume_to_polydata: 0.26\n"
     ]
    },
    {
     "name": "stdout",
     "output_type": "stream",
     "text": [
      "Amb\n"
     ]
    },
    {
     "name": "stderr",
     "output_type": "stream",
     "text": [
      "icp: 1.88\n",
      "icp: 0.91\n",
      "icp: 0.76\n",
      "icp: 2.16\n",
      "icp: 3.17\n",
      "polydata_to_volume: 0.00\n",
      "polydata_to_volume: 0.00\n",
      "polydata_to_volume: 0.00\n",
      "polydata_to_volume: 0.00\n",
      "polydata_to_volume: 0.00\n",
      "polydata_to_volume: 0.00\n",
      "find common: 0.00\n",
      "marching cube: 0.01 seconds\n",
      "mesh_to_polydata: 0.00 seconds\n",
      "simplify 0 @ 959: 0.02 seconds\n",
      "volume_to_polydata: 0.05\n"
     ]
    },
    {
     "name": "stdout",
     "output_type": "stream",
     "text": [
      "12N\n"
     ]
    },
    {
     "name": "stderr",
     "output_type": "stream",
     "text": [
      "icp: 14.53\n",
      "icp: 10.56\n",
      "icp: 11.31\n",
      "icp: 11.12\n",
      "icp: 11.55\n",
      "polydata_to_volume: 0.00\n",
      "polydata_to_volume: 0.00\n",
      "polydata_to_volume: 0.00\n",
      "polydata_to_volume: 0.01\n",
      "polydata_to_volume: 0.01\n",
      "polydata_to_volume: 0.01\n",
      "find common: 0.01\n",
      "marching cube: 0.04 seconds\n",
      "mesh_to_polydata: 0.02 seconds\n",
      "simplify 0 @ 12044: 0.11 seconds\n",
      "simplify 1 @ 2410: 0.10 seconds\n",
      "simplify 2 @ 483: 0.02 seconds\n",
      "volume_to_polydata: 0.28\n"
     ]
    },
    {
     "name": "stdout",
     "output_type": "stream",
     "text": [
      "RMC\n"
     ]
    },
    {
     "name": "stderr",
     "output_type": "stream",
     "text": [
      "icp: 4.33\n",
      "icp: 3.59\n",
      "icp: 10.78\n",
      "icp: 4.13\n",
      "icp: 4.06\n",
      "polydata_to_volume: 0.00\n",
      "polydata_to_volume: 0.00\n",
      "polydata_to_volume: 0.00\n",
      "polydata_to_volume: 0.00\n",
      "polydata_to_volume: 0.00\n",
      "polydata_to_volume: 0.00\n",
      "find common: 0.00\n",
      "marching cube: 0.03 seconds\n",
      "mesh_to_polydata: 0.01 seconds\n",
      "simplify 0 @ 5827: 0.04 seconds\n",
      "simplify 1 @ 1167: 0.04 seconds\n",
      "simplify 2 @ 235: 0.01 seconds\n",
      "volume_to_polydata: 0.14\n"
     ]
    },
    {
     "name": "stdout",
     "output_type": "stream",
     "text": [
      "Sp5O\n"
     ]
    },
    {
     "name": "stderr",
     "output_type": "stream",
     "text": [
      "icp: 8.02\n",
      "icp: 13.08\n",
      "icp: 5.65\n",
      "icp: 5.45\n",
      "icp: 7.97\n",
      "polydata_to_volume: 0.00\n",
      "polydata_to_volume: 0.00\n",
      "polydata_to_volume: 0.00\n",
      "polydata_to_volume: 0.00\n",
      "polydata_to_volume: 0.00\n",
      "polydata_to_volume: 0.00\n",
      "find common: 0.01\n",
      "marching cube: 0.08 seconds\n",
      "mesh_to_polydata: 0.02 seconds\n",
      "simplify 0 @ 11112: 0.21 seconds\n",
      "simplify 1 @ 2224: 0.09 seconds\n",
      "simplify 2 @ 446: 0.02 seconds\n",
      "volume_to_polydata: 0.44\n"
     ]
    },
    {
     "name": "stdout",
     "output_type": "stream",
     "text": [
      "Sp5I\n"
     ]
    },
    {
     "name": "stderr",
     "output_type": "stream",
     "text": [
      "icp: 7.13\n",
      "icp: 12.34\n",
      "icp: 3.69\n",
      "icp: 5.73\n",
      "icp: 10.02\n",
      "polydata_to_volume: 0.00\n",
      "polydata_to_volume: 0.00\n",
      "polydata_to_volume: 0.00\n",
      "polydata_to_volume: 0.00\n",
      "polydata_to_volume: 0.00\n",
      "polydata_to_volume: 0.00\n",
      "find common: 0.02\n",
      "marching cube: 0.09 seconds\n",
      "mesh_to_polydata: 0.02 seconds\n",
      "simplify 0 @ 9267: 0.12 seconds\n",
      "simplify 1 @ 1855: 0.07 seconds\n",
      "simplify 2 @ 372: 0.02 seconds\n",
      "volume_to_polydata: 0.32\n"
     ]
    },
    {
     "name": "stdout",
     "output_type": "stream",
     "text": [
      "Sp5C\n"
     ]
    },
    {
     "name": "stderr",
     "output_type": "stream",
     "text": [
      "icp: 29.84\n",
      "icp: 23.85\n",
      "icp: 31.61\n",
      "icp: 28.29\n",
      "polydata_to_volume: 0.01\n",
      "polydata_to_volume: 0.01\n",
      "polydata_to_volume: 0.01\n",
      "polydata_to_volume: 0.01\n",
      "polydata_to_volume: 0.01\n",
      "find common: 0.05\n",
      "marching cube: 0.15 seconds\n",
      "mesh_to_polydata: 0.03 seconds\n",
      "simplify 0 @ 25818: 0.23 seconds\n",
      "simplify 1 @ 5165: 0.23 seconds\n",
      "simplify 2 @ 1034: 0.05 seconds\n",
      "volume_to_polydata: 0.69\n"
     ]
    },
    {
     "name": "stdout",
     "output_type": "stream",
     "text": [
      "VCP\n"
     ]
    },
    {
     "name": "stderr",
     "output_type": "stream",
     "text": [
      "icp: 4.98\n",
      "icp: 3.73\n",
      "icp: 5.52\n",
      "icp: 4.41\n",
      "icp: 6.48\n",
      "polydata_to_volume: 0.00\n",
      "polydata_to_volume: 0.00\n",
      "polydata_to_volume: 0.00\n",
      "polydata_to_volume: 0.00\n",
      "polydata_to_volume: 0.00\n",
      "polydata_to_volume: 0.00\n",
      "find common: 0.00\n",
      "marching cube: 0.03 seconds\n",
      "mesh_to_polydata: 0.01 seconds\n",
      "simplify 0 @ 7029: 0.05 seconds\n",
      "simplify 1 @ 1407: 0.05 seconds\n",
      "simplify 2 @ 283: 0.01 seconds\n",
      "volume_to_polydata: 0.15\n"
     ]
    },
    {
     "name": "stdout",
     "output_type": "stream",
     "text": [
      "AP\n"
     ]
    },
    {
     "name": "stderr",
     "output_type": "stream",
     "text": [
      "icp: 1.24\n",
      "icp: 1.60\n",
      "icp: 1.75\n",
      "icp: 1.89\n",
      "icp: 1.80\n",
      "polydata_to_volume: 0.00\n",
      "polydata_to_volume: 0.00\n",
      "polydata_to_volume: 0.00\n",
      "polydata_to_volume: 0.00\n",
      "polydata_to_volume: 0.00\n",
      "polydata_to_volume: 0.00\n",
      "find common: 0.00\n",
      "marching cube: 0.01 seconds\n",
      "mesh_to_polydata: 0.00 seconds\n",
      "simplify 0 @ 2800: 0.02 seconds\n",
      "simplify 1 @ 561: 0.02 seconds\n",
      "volume_to_polydata: 0.05\n"
     ]
    },
    {
     "name": "stdout",
     "output_type": "stream",
     "text": [
      "PBG\n"
     ]
    },
    {
     "name": "stderr",
     "output_type": "stream",
     "text": [
      "icp: 0.84\n",
      "icp: 1.54\n",
      "icp: 1.46\n",
      "icp: 1.97\n",
      "icp: 1.50\n",
      "polydata_to_volume: 0.00\n",
      "polydata_to_volume: 0.00\n",
      "polydata_to_volume: 0.00\n",
      "polydata_to_volume: 0.00\n",
      "polydata_to_volume: 0.00\n",
      "polydata_to_volume: 0.00\n",
      "find common: 0.00\n",
      "marching cube: 0.01 seconds\n",
      "mesh_to_polydata: 0.00 seconds\n",
      "simplify 0 @ 2238: 0.01 seconds\n",
      "simplify 1 @ 449: 0.01 seconds\n",
      "volume_to_polydata: 0.05\n"
     ]
    },
    {
     "name": "stdout",
     "output_type": "stream",
     "text": [
      "LRt\n"
     ]
    },
    {
     "name": "stderr",
     "output_type": "stream",
     "text": [
      "icp: 9.22\n",
      "icp: 23.11\n",
      "icp: 3.17\n",
      "icp: 7.26\n",
      "icp: 10.99\n",
      "polydata_to_volume: 0.00\n",
      "polydata_to_volume: 0.00\n",
      "polydata_to_volume: 0.02\n",
      "polydata_to_volume: 0.00\n",
      "polydata_to_volume: 0.00\n",
      "polydata_to_volume: 0.00\n",
      "find common: 0.12\n",
      "marching cube: 0.24 seconds\n",
      "mesh_to_polydata: 0.01 seconds\n",
      "simplify 0 @ 10567: 0.08 seconds\n",
      "simplify 1 @ 2115: 0.08 seconds\n",
      "simplify 2 @ 424: 0.02 seconds\n",
      "volume_to_polydata: 0.43\n"
     ]
    },
    {
     "name": "stdout",
     "output_type": "stream",
     "text": [
      "IC\n"
     ]
    },
    {
     "name": "stderr",
     "output_type": "stream",
     "text": [
      "icp: 86.08\n",
      "icp: 116.03\n",
      "icp: 127.81\n",
      "icp: 102.84\n",
      "icp: 113.15\n",
      "polydata_to_volume: 0.11\n",
      "polydata_to_volume: 0.11\n",
      "polydata_to_volume: 0.15\n",
      "polydata_to_volume: 0.15\n",
      "polydata_to_volume: 0.10\n",
      "polydata_to_volume: 0.10\n",
      "find common: 0.43\n",
      "marching cube: 0.93 seconds\n",
      "mesh_to_polydata: 0.13 seconds\n",
      "simplify 0 @ 74405: 0.95 seconds\n",
      "simplify 1 @ 14882: 0.86 seconds\n",
      "simplify 2 @ 2978: 0.17 seconds\n",
      "volume_to_polydata: 3.07\n"
     ]
    },
    {
     "name": "stdout",
     "output_type": "stream",
     "text": [
      "LC\n"
     ]
    },
    {
     "name": "stderr",
     "output_type": "stream",
     "text": [
      "icp: 2.35\n",
      "icp: 6.28\n",
      "icp: 2.16\n",
      "icp: 2.33\n",
      "icp: 2.21\n",
      "polydata_to_volume: 0.00\n",
      "polydata_to_volume: 0.00\n",
      "polydata_to_volume: 0.00\n",
      "polydata_to_volume: 0.00\n",
      "polydata_to_volume: 0.00\n",
      "polydata_to_volume: 0.00\n",
      "find common: 0.01\n",
      "marching cube: 0.04 seconds\n",
      "mesh_to_polydata: 0.01 seconds\n",
      "simplify 0 @ 3748: 0.04 seconds\n",
      "simplify 1 @ 751: 0.03 seconds\n",
      "volume_to_polydata: 0.12\n"
     ]
    },
    {
     "name": "stdout",
     "output_type": "stream",
     "text": [
      "4N\n"
     ]
    },
    {
     "name": "stderr",
     "output_type": "stream",
     "text": [
      "icp: 1.14\n",
      "icp: 0.88\n",
      "icp: 2.28\n",
      "icp: 1.88\n",
      "icp: 1.84\n",
      "polydata_to_volume: 0.00\n",
      "polydata_to_volume: 0.00\n",
      "polydata_to_volume: 0.00\n",
      "polydata_to_volume: 0.00\n",
      "polydata_to_volume: 0.00\n",
      "polydata_to_volume: 0.00\n",
      "find common: 0.00\n",
      "marching cube: 0.00 seconds\n",
      "mesh_to_polydata: 0.00 seconds\n",
      "simplify 0 @ 479: 0.00 seconds\n",
      "volume_to_polydata: 0.01\n"
     ]
    },
    {
     "name": "stdout",
     "output_type": "stream",
     "text": [
      "SNC\n"
     ]
    },
    {
     "name": "stderr",
     "output_type": "stream",
     "text": [
      "icp: 9.50\n",
      "icp: 7.21\n",
      "icp: 6.28\n",
      "icp: 6.75\n",
      "icp: 5.85\n",
      "polydata_to_volume: 0.00\n",
      "polydata_to_volume: 0.00\n",
      "polydata_to_volume: 0.00\n",
      "polydata_to_volume: 0.00\n",
      "polydata_to_volume: 0.00\n",
      "polydata_to_volume: 0.00\n",
      "find common: 0.01\n",
      "marching cube: 0.04 seconds\n",
      "mesh_to_polydata: 0.01 seconds\n",
      "simplify 0 @ 7552: 0.05 seconds\n",
      "simplify 1 @ 1513: 0.06 seconds\n",
      "simplify 2 @ 305: 0.01 seconds\n",
      "volume_to_polydata: 0.17\n"
     ]
    },
    {
     "name": "stdout",
     "output_type": "stream",
     "text": [
      "6N\n"
     ]
    },
    {
     "name": "stderr",
     "output_type": "stream",
     "text": [
      "icp: 1.51\n",
      "icp: 0.65\n",
      "icp: 1.91\n",
      "icp: 0.57\n",
      "icp: 2.56\n",
      "polydata_to_volume: 0.00\n",
      "polydata_to_volume: 0.00\n",
      "polydata_to_volume: 0.00\n",
      "polydata_to_volume: 0.00\n",
      "polydata_to_volume: 0.00\n",
      "polydata_to_volume: 0.00\n",
      "find common: 0.00\n",
      "marching cube: 0.00 seconds\n",
      "mesh_to_polydata: 0.00 seconds\n",
      "simplify 0 @ 702: 0.01 seconds\n",
      "volume_to_polydata: 0.02\n"
     ]
    },
    {
     "name": "stdout",
     "output_type": "stream",
     "text": [
      "SNR\n"
     ]
    },
    {
     "name": "stderr",
     "output_type": "stream",
     "text": [
      "icp: 28.73\n",
      "icp: 29.29\n",
      "icp: 31.33\n",
      "icp: 30.67\n",
      "icp: 34.00\n",
      "polydata_to_volume: 0.01\n",
      "polydata_to_volume: 0.01\n",
      "polydata_to_volume: 0.01\n",
      "polydata_to_volume: 0.01\n",
      "polydata_to_volume: 0.01\n",
      "polydata_to_volume: 0.01\n",
      "find common: 0.03\n",
      "marching cube: 0.14 seconds\n",
      "mesh_to_polydata: 0.03 seconds\n",
      "simplify 0 @ 27197: 0.20 seconds\n",
      "simplify 1 @ 5441: 0.24 seconds\n",
      "simplify 2 @ 1089: 0.05 seconds\n",
      "volume_to_polydata: 0.68\n"
     ]
    },
    {
     "name": "stdout",
     "output_type": "stream",
     "text": [
      "SC\n"
     ]
    },
    {
     "name": "stderr",
     "output_type": "stream",
     "text": [
      "icp: 232.51\n",
      "icp: 240.45\n",
      "icp: 259.49\n",
      "icp: 210.89\n",
      "icp: 214.68\n",
      "polydata_to_volume: 0.11\n",
      "polydata_to_volume: 0.11\n",
      "polydata_to_volume: 0.13\n",
      "polydata_to_volume: 0.12\n",
      "polydata_to_volume: 0.12\n",
      "polydata_to_volume: 0.12\n",
      "find common: 0.46\n",
      "marching cube: 0.88 seconds\n",
      "mesh_to_polydata: 0.16 seconds\n",
      "simplify 0 @ 113085: 1.12 seconds\n",
      "simplify 1 @ 22616: 1.24 seconds\n",
      "simplify 2 @ 4523: 0.25 seconds\n",
      "volume_to_polydata: 3.69\n"
     ]
    },
    {
     "name": "stdout",
     "output_type": "stream",
     "text": [
      "RtTg\n"
     ]
    },
    {
     "name": "stderr",
     "output_type": "stream",
     "text": [
      "icp: 44.95\n",
      "icp: 40.95\n",
      "icp: 54.49\n",
      "icp: 45.74\n",
      "icp: 37.08\n",
      "polydata_to_volume: 0.01\n",
      "polydata_to_volume: 0.01\n",
      "polydata_to_volume: 0.01\n",
      "polydata_to_volume: 0.01\n",
      "polydata_to_volume: 0.01\n",
      "polydata_to_volume: 0.01\n",
      "find common: 0.03\n",
      "marching cube: 0.14 seconds\n",
      "mesh_to_polydata: 0.03 seconds\n",
      "simplify 0 @ 26443: 0.23 seconds\n",
      "simplify 1 @ 5293: 0.24 seconds\n",
      "simplify 2 @ 1069: 0.05 seconds\n",
      "volume_to_polydata: 0.70\n"
     ]
    }
   ],
   "source": [
    "for name_u in all_names:\n",
    "\n",
    "    print name_u\n",
    "    \n",
    "    #############################################################\n",
    "    ## Collect meshes of the same structure (both hemispheres) ##\n",
    "    #############################################################\n",
    "    \n",
    "    vertices_list = []\n",
    "    faces_list = []\n",
    "    \n",
    "    if name_u in singular_structures: # If structure is singular\n",
    "        \n",
    "        # Load the instance in fixed stack.\n",
    "        vertices, faces = DataManager.load_mesh(stack_m=stack_fixed, \n",
    "                                                structure=name_u, \n",
    "                                                type_m='annotation_as_score',\n",
    "                                                return_polydata_only=False,\n",
    "                                                trial_idx=None)\n",
    "        \n",
    "\n",
    "        vertices_mirrored = vertices.copy()\n",
    "        zmean = vertices[:,2].mean(axis=0)\n",
    "        vertices_mirrored[:, 2] = - (vertices[:, 2] - zmean) + zmean # mirror L to align with R, keep zmin        \n",
    "\n",
    "        vertices_list.append(vertices)\n",
    "        faces_list.append(faces)\n",
    "\n",
    "        vertices_list.append(vertices_mirrored)\n",
    "        faces_list.append(faces)\n",
    "        \n",
    "        centroid = vertices.mean(axis=0)\n",
    "        centroid_allLandmarks[name_u].append(centroid)\n",
    "        \n",
    "        # Load instances in moving stacks.\n",
    "        for stack_moving in stacks_moving:\n",
    "            \n",
    "            vertices, faces = DataManager.load_mesh(stack_m=stack_moving, \n",
    "                                                    type_m='annotation_as_score',\n",
    "                                                    stack_f=stack_fixed,\n",
    "                                                    type_f='annotation_as_score',\n",
    "                                                    structure=name_u, \n",
    "                                                    return_polydata_only=False,\n",
    "                                                    warp_setting=warp_setting)\n",
    "\n",
    "            vertices_mirrored = vertices.copy()\n",
    "            zmean = vertices[:,2].mean(axis=0)\n",
    "            vertices_mirrored[:, 2] = - (vertices[:, 2] - zmean) + zmean # mirror L to align with R, keep zmin        \n",
    "\n",
    "            vertices_list.append(vertices)\n",
    "            faces_list.append(faces)\n",
    "\n",
    "            vertices_list.append(vertices_mirrored)\n",
    "            faces_list.append(faces)\n",
    "\n",
    "            centroid = vertices.mean(axis=0)\n",
    "            centroid_allLandmarks[name_u].append(centroid)\n",
    "\n",
    "    else: # If structure is paired\n",
    "    \n",
    "        lname = convert_to_left_name(name_u)\n",
    "        rname = convert_to_right_name(name_u)\n",
    "\n",
    "        label_to_name_f, name_to_label_f = DataManager.load_volume_label_to_name(stack_fixed)\n",
    "        \n",
    "        # Load instances from fixed stack.\n",
    "        if lname in name_to_label_f:\n",
    "\n",
    "            ############## Left #############\n",
    "            \n",
    "            vertices, faces = DataManager.load_mesh(stack_m=stack_fixed,\n",
    "                                                    type_m='annotation_as_score',\n",
    "                                                    structure=lname, \n",
    "                                                    return_polydata_only=False,\n",
    "                                                   trial_idx=None)\n",
    "        \n",
    "            zmean = vertices[:,2].mean(axis=0)\n",
    "            vertices[:, 2] = - (vertices[:, 2] - zmean) + zmean # mirror L to align with R, keep zmin\n",
    "\n",
    "            vertices_list.append(vertices)\n",
    "            faces_list.append(faces)\n",
    "\n",
    "            centroid = vertices.mean(axis=0)\n",
    "            centroid_allLandmarks[lname].append(centroid)\n",
    "\n",
    "        if rname in name_to_label_f:\n",
    "\n",
    "            # !!! Right shape is used as the template !!!\n",
    "            \n",
    "            vertices, faces = DataManager.load_mesh(stack_m=stack_fixed,\n",
    "                                                    type_m='annotation_as_score',\n",
    "                                                    structure=rname, \n",
    "                                                    return_polydata_only=False,\n",
    "                                                   trial_idx=None)\n",
    "\n",
    "            vertices_list.append(vertices)\n",
    "            faces_list.append(faces)\n",
    "\n",
    "            centroid = vertices.mean(axis=0)\n",
    "            centroid_allLandmarks[rname].append(centroid)\n",
    "        \n",
    "        # Load instances from moving stacks.\n",
    "        for stack_moving in stacks_moving:\n",
    "            \n",
    "            label_to_name_m, name_to_label_m = DataManager.load_volume_label_to_name(stack_moving)\n",
    "\n",
    "            if lname in name_to_label_m:\n",
    "\n",
    "                vertices, faces = DataManager.load_mesh(stack_m=stack_moving,\n",
    "                                                        type_m='annotation_as_score',\n",
    "                                                        stack_f=stack_fixed, \n",
    "                                                        type_f='annotation_as_score',\n",
    "                                                        structure=lname, \n",
    "                                                        return_polydata_only=False,\n",
    "                                                       warp_setting=warp_setting)\n",
    "\n",
    "                zmean = vertices[:,2].mean(axis=0)\n",
    "                vertices[:, 2] = - (vertices[:, 2] - zmean) + zmean # mirror L to align with R, keep zmin\n",
    "\n",
    "                vertices_list.append(vertices)\n",
    "                faces_list.append(faces)\n",
    "\n",
    "\n",
    "                centroid = vertices.mean(axis=0)\n",
    "                centroid_allLandmarks[lname].append(centroid)\n",
    "\n",
    "            if rname in name_to_label_m:\n",
    "\n",
    "                vertices, faces = DataManager.load_mesh(stack_m=stack_moving, type_m='annotation_as_score',\n",
    "                                                        stack_f=stack_fixed, type_f='annotation_as_score',\n",
    "                                                        structure=rname, \n",
    "                                                        return_polydata_only=False,\n",
    "                                                       warp_setting=warp_setting)\n",
    "\n",
    "                vertices_list.append(vertices)\n",
    "                faces_list.append(faces)\n",
    "\n",
    "                centroid = vertices.mean(axis=0)\n",
    "                centroid_allLandmarks[rname].append(centroid)\n",
    "\n",
    "        \n",
    "    #############################################\n",
    "    ## Align meshes of all collected instances ##\n",
    "    #############################################\n",
    "    \n",
    "    vertices_aligned_list = [] # all meshes in this list have vertices mean at (0,0)\n",
    "\n",
    "    for i, vertices in enumerate(vertices_list):\n",
    "\n",
    "        if i == 0:\n",
    "            vertices1 = vertices.copy()\n",
    "            vertices_aligned_list.append(vertices1 - vertices1.mean(axis=0))\n",
    "        else:            \n",
    "            t = time.time()                    \n",
    "            vertices_alignedTo1 = icp(fixed_pts=vertices1, moving_pts=vertices, num_iter=100, rotation_only=True)\n",
    "            sys.stderr.write('icp: %.2f\\n' % (time.time() - t))\n",
    "\n",
    "            vertices_aligned_list.append(vertices_alignedTo1 - vertices_alignedTo1.mean(axis=0))\n",
    "\n",
    "    ###########################\n",
    "    ## Compute average shape ##\n",
    "    ###########################\n",
    "    \n",
    "    polydata_list = [mesh_to_polydata(vs, fs) for vs, fs in zip(vertices_aligned_list, faces_list)]\n",
    "    \n",
    "    polydata_list_allLandmarks[name_u] = polydata_list\n",
    "        \n",
    "    average_volume, average_volume_origin, average_polydata = average_shape(polydata_list, \n",
    "                                                                            consensus_percentage=.5,\n",
    "                                                                            num_simplify_iter=3, smooth=True)\n",
    "    # these all have vertices mean at (0,0,0)\n",
    "    \n",
    "    average_polydata_allLandmarks[name_u] = average_polydata\n",
    "    average_volume_allLandmarks[name_u] = average_volume\n",
    "    average_volume_origin_allLandmarks[name_u] = average_volume_origin\n",
    "    \n",
    "#     instance_actors = [actor_mesh(polydata, np.random.randint(0,255,3)/255., opacity=.5, wireframe=True) \n",
    "#                    for polydata in polydata_list_allLandmarks[name_u]]\n",
    "\n",
    "#     average_mesh_actor = actor_mesh(average_polydata_allLandmarks[name_u], (1,1,1), opacity=.5, wireframe=True)\n",
    "#     launch_vtk(instance_actors + [average_mesh_actor])\n",
    "    \n",
    "#     average_volume_actor = actor_volume(average_volume.astype(np.float32), \n",
    "#                                         what='probability', origin=average_volume_origin)\n",
    "#     launch_vtk(instance_actors + [average_volume_actor])"
   ]
  },
  {
   "cell_type": "markdown",
   "metadata": {},
   "source": [
    "# Visualize (1) individual instances (2) aligned instances (3) probabilistic shape (4) thresholded shape"
   ]
  },
  {
   "cell_type": "code",
   "execution_count": 99,
   "metadata": {
    "collapsed": false
   },
   "outputs": [],
   "source": [
    "# Take pics of different instances of 7N separately\n",
    "\n",
    "for i, polydata in enumerate(polydata_list_allLandmarks['7N']):\n",
    "    instance_actors = actor_mesh(polydata, [(1,0,0),(0,1,0),(0,0,1),(1,1,0),(0,1,1),(1,0,1)][i], opacity=1, wireframe=False)\n",
    "    launch_vtk([instance_actors], snapshot_fn='/home/yuncong/7N_%d.png' % i, interactive=False, init_angle='coronal')"
   ]
  },
  {
   "cell_type": "code",
   "execution_count": 101,
   "metadata": {
    "collapsed": false
   },
   "outputs": [],
   "source": [
    "# Take pic of different instances of 7N shown aligned together\n",
    "\n",
    "instance_actors = [actor_mesh(polydata, [(1,0,0),(0,1,0),(0,0,1),(1,1,0),(0,1,1),(1,0,1)][i], opacity=.5, wireframe=True) \n",
    "                   for i, polydata in enumerate(polydata_list_allLandmarks['7N'])]\n",
    "launch_vtk(instance_actors, snapshot_fn='/home/yuncong/7N_aligned.png', interactive=False, init_angle='coronal')"
   ]
  },
  {
   "cell_type": "code",
   "execution_count": 102,
   "metadata": {
    "collapsed": false
   },
   "outputs": [],
   "source": [
    "# Take pic of merged probabilistic volume of 7N\n",
    "\n",
    "average_volume_actor = actor_volume(average_volume_allLandmarks['7N'].astype(np.float32), \n",
    "                                        what='probability', origin=average_volume_origin_allLandmarks['7N'])\n",
    "launch_vtk([average_volume_actor], snapshot_fn='/home/yuncong/7N_prob.png', interactive=False, init_angle='coronal')"
   ]
  },
  {
   "cell_type": "code",
   "execution_count": 105,
   "metadata": {
    "collapsed": false
   },
   "outputs": [],
   "source": [
    "# Take pic of merged probabilistic volume of 7N, thresholded at .5\n",
    "\n",
    "actor = actor_mesh(average_polydata_allLandmarks['7N'], [1,1,1], opacity=1, wireframe=True)\n",
    "launch_vtk([actor], snapshot_fn='/home/yuncong/7N_thresholded.png', interactive=False, init_angle='coronal')"
   ]
  },
  {
   "cell_type": "markdown",
   "metadata": {},
   "source": [
    "# Compute average position"
   ]
  },
  {
   "cell_type": "code",
   "execution_count": 106,
   "metadata": {
    "collapsed": false
   },
   "outputs": [
    {
     "name": "stdout",
     "output_type": "stream",
     "text": [
      "[ 0.04472321 -0.08497962  0.99537849] @ [ 797.66809082  377.65426636  308.38711548]\n"
     ]
    }
   ],
   "source": [
    "canonical_locations, canonical_centroid, canonical_normal = average_location(centroid_allLandmarks)\n",
    "# canonical locations are with respect to canonical centroid\n",
    "# canonical centroid is with respect to the aligned uncropped volume of MD589"
   ]
  },
  {
   "cell_type": "code",
   "execution_count": 108,
   "metadata": {
    "collapsed": false
   },
   "outputs": [
    {
     "name": "stdout",
     "output_type": "stream",
     "text": [
      "deviation angle: 5.51057\n"
     ]
    }
   ],
   "source": [
    "print 'deviation angle:', np.rad2deg(np.arccos(canonical_normal[2]))"
   ]
  },
  {
   "cell_type": "code",
   "execution_count": 109,
   "metadata": {
    "collapsed": false
   },
   "outputs": [],
   "source": [
    "atlas_space_structure_volumes = {}\n",
    "atlas_space_structure_meshes = {}\n",
    "\n",
    "for name_s in name_to_label_f.iterkeys():\n",
    "    \n",
    "    name_u = convert_name_to_unsided(name_s)\n",
    "    \n",
    "    average_volume = average_volume_allLandmarks[name_u]\n",
    "    average_volume_origin = average_volume_origin_allLandmarks[name_u]\n",
    "    average_polydata = average_polydata_allLandmarks[name_u]\n",
    "    \n",
    "    vs, fs = polydata_to_mesh(average_polydata)\n",
    "    \n",
    "    canonical_structure_centroid = canonical_locations[name_s]\n",
    "    \n",
    "    if name_s in singular_structures or '_R' in name_s:\n",
    "        # singular or LEFT - don't need mirroring\n",
    "    \n",
    "        atlas_space_structure_volumes[name_s] = (average_volume, \n",
    "                                            canonical_structure_centroid + average_volume_origin)    \n",
    "        atlas_space_structure_meshes[name_s] = mesh_to_polydata(vs + canonical_structure_centroid, fs)\n",
    "        # mesh has \"canonical centroid\" as the origin\n",
    "\n",
    "    else:\n",
    "        # RIGHT - need mirroring\n",
    "        \n",
    "        atlas_space_structure_volumes[name_s] = mirror_volume(average_volume, \n",
    "                                             canonical_structure_centroid + average_volume_origin*(1,1,-1))\n",
    "        atlas_space_structure_meshes[name_s] = mesh_to_polydata(vs*(1,1,-1) + canonical_structure_centroid, fs)"
   ]
  },
  {
   "cell_type": "code",
   "execution_count": 119,
   "metadata": {
    "collapsed": false
   },
   "outputs": [],
   "source": [
    "# Save atlas structure meshes\n",
    "\n",
    "for name_s, mesh in atlas_space_structure_meshes.iteritems():\n",
    "    fp = DataManager.get_mesh_filepath(stack_m=atlas_name, structure=name_s, trial_idx=None)\n",
    "    create_parent_dir_if_not_exists(fp)\n",
    "    save_mesh_stl(mesh, fp)"
   ]
  },
  {
   "cell_type": "code",
   "execution_count": 167,
   "metadata": {
    "collapsed": true
   },
   "outputs": [],
   "source": [
    "from data_manager import *"
   ]
  },
  {
   "cell_type": "code",
   "execution_count": 175,
   "metadata": {
    "collapsed": false
   },
   "outputs": [],
   "source": [
    "# Save atlas structure volumes - individual structures\n",
    "\n",
    "for name_s, (volume, origin) in atlas_space_structure_volumes.iteritems():\n",
    "    fp = DataManager.get_prob_shape_volume_filepath(stack_m=atlas_name, structure=name_s, trial_idx=None)\n",
    "    create_parent_dir_if_not_exists(fp)\n",
    "    bp.pack_ndarray_file(volume, fp)\n",
    "    \n",
    "    origin_fp = DataManager.get_prob_shape_origin_filepath(stack_m=atlas_name, structure=name_s, trial_idx=None)\n",
    "    create_parent_dir_if_not_exists(origin_fp)\n",
    "#     print origin_fp\n",
    "    np.savetxt(origin_fp, origin)"
   ]
  },
  {
   "cell_type": "code",
   "execution_count": 149,
   "metadata": {
    "collapsed": true
   },
   "outputs": [],
   "source": [
    "write_dict_to_txt(canonical_locations, os.path.join(MESH_ROOTDIR, atlas_name, 'canonical_locations.txt'))\n",
    "np.savetxt(os.path.join(MESH_ROOTDIR, atlas_name, 'canonical_centroid.txt'), canonical_centroid)\n",
    "np.savetxt(os.path.join(MESH_ROOTDIR, atlas_name, 'canonical_normal.txt'), canonical_normal)"
   ]
  },
  {
   "cell_type": "markdown",
   "metadata": {},
   "source": [
    "# Generate atlas score volumes - named atlasV2"
   ]
  },
  {
   "cell_type": "code",
   "execution_count": 23,
   "metadata": {
    "collapsed": true
   },
   "outputs": [],
   "source": [
    "# paired_structures = ['5N', '6N', '7N', '7n', 'Amb', 'LC', 'LRt', 'Pn', 'Tz', 'VLL', 'RMC', 'SNC', 'SNR', '3N', '4N',\n",
    "#                     'Sp5I', 'Sp5O', 'Sp5C', 'PBG', '10N', 'VCA', 'VCP', 'DC']\n",
    "# singular_structures = ['AP', '12N', 'RtTg', 'SC', 'IC']\n",
    "# structures = paired_structures + singular_structures\n",
    "\n",
    "# structures_sided = sum([[n] if n in singular_structures else [convert_to_left_name(n), convert_to_right_name(n)]\n",
    "#                         for n in structures], [])"
   ]
  },
  {
   "cell_type": "code",
   "execution_count": 159,
   "metadata": {
    "collapsed": false
   },
   "outputs": [],
   "source": [
    "structure_sided_to_color = {n: np.random.randint(0, 255, (3,)) for n in all_known_structures_sided}\n",
    "structure_to_color = {n: np.random.randint(0, 255, (3,)) for n in all_known_structures}"
   ]
  },
  {
   "cell_type": "code",
   "execution_count": 120,
   "metadata": {
    "collapsed": false
   },
   "outputs": [
    {
     "name": "stdout",
     "output_type": "stream",
     "text": [
      "annotation volume bbox : 622 1042 155 502 127 503\n"
     ]
    }
   ],
   "source": [
    "ann_vol_xmin, ann_vol_xmax, ann_vol_ymin, ann_vol_ymax, ann_vol_zmin, ann_vol_zmax = \\\n",
    "DataManager.load_volume_bbox(stack=stack_fixed, type='annotation', downscale=32)\n",
    "\n",
    "print 'annotation volume bbox :', ann_vol_xmin, ann_vol_xmax, ann_vol_ymin, ann_vol_ymax, ann_vol_zmin, ann_vol_zmax"
   ]
  },
  {
   "cell_type": "code",
   "execution_count": 122,
   "metadata": {
    "collapsed": false
   },
   "outputs": [],
   "source": [
    "prob_volume_structure_bboxes = {}\n",
    "for name_s, (volume, origin) in atlas_space_structure_volumes.iteritems():\n",
    "    ydim, xdim, zdim = volume.shape\n",
    "    x, y, z = np.round(origin + canonical_centroid - \\\n",
    "            (ann_vol_xmin, ann_vol_ymin, ann_vol_zmin)).astype(np.int)\n",
    "    prob_volume_structure_bboxes[name_s] = ( x, x+xdim-1, y, y+ydim-1, z, z+zdim-1)"
   ]
  },
  {
   "cell_type": "code",
   "execution_count": 124,
   "metadata": {
    "collapsed": false,
    "scrolled": true
   },
   "outputs": [
    {
     "name": "stdout",
     "output_type": "stream",
     "text": [
      "prob volume bbox: -8 422 -3 369 -3 365\n"
     ]
    }
   ],
   "source": [
    "bboxes = np.array([bbox for n, bbox in prob_volume_structure_bboxes.iteritems()])\n",
    "prob_vol_xmin, prob_vol_ymin, prob_vol_zmin = np.min(bboxes[:, [0,2,4]], axis=0)\n",
    "prob_vol_xmax, prob_vol_ymax, prob_vol_zmax = np.max(bboxes[:, [1,3,5]], axis=0)\n",
    "print 'prob volume bbox:', prob_vol_xmin, prob_vol_xmax, prob_vol_ymin, prob_vol_ymax, prob_vol_zmin, prob_vol_zmax\n",
    "\n",
    "prob_vol_xdim = prob_vol_xmax + 1 - prob_vol_xmin\n",
    "prob_vol_ydim = prob_vol_ymax + 1 - prob_vol_ymin\n",
    "prob_vol_zdim = prob_vol_zmax + 1 - prob_vol_zmin"
   ]
  },
  {
   "cell_type": "code",
   "execution_count": 127,
   "metadata": {
    "collapsed": false
   },
   "outputs": [],
   "source": [
    "# Create an atlas proba. volume with all structures\n",
    "\n",
    "atlas_prob_volume_allLandmarks = {}\n",
    "\n",
    "for name_s, (volume, origin) in atlas_space_structure_volumes.iteritems():\n",
    "        \n",
    "    atlas_prob_volume = np.zeros((prob_vol_ydim, prob_vol_xdim, prob_vol_zdim), np.float16)\n",
    "    ydim, xdim, zdim = volume.shape\n",
    "\n",
    "    # Convert canonical locations to actual location\n",
    "    # Being lazy here: the z axis should be orthogonal to the canonical normal, but here I assume z axis is the original\n",
    "     \n",
    "    # first line: wrt aligned uncropped MD589\n",
    "    # second line: wrt annotation volume MD589\n",
    "    # third line: wrt atlas volume\n",
    "    x, y, z = np.round(origin + canonical_centroid - \\\n",
    "            (ann_vol_xmin, ann_vol_ymin, ann_vol_zmin) - \\\n",
    "            (prob_vol_xmin, prob_vol_ymin, prob_vol_zmin)).astype(np.int)\n",
    "    \n",
    "    atlas_prob_volume[y:y+ydim, x:x+xdim, z:z+zdim] = volume\n",
    "    \n",
    "    atlas_prob_volume_allLandmarks[name_s] = atlas_prob_volume"
   ]
  },
  {
   "cell_type": "code",
   "execution_count": 128,
   "metadata": {
    "collapsed": false,
    "scrolled": true
   },
   "outputs": [
    {
     "data": {
      "image/png": "[encoded data removed]",
      "text/plain": [
       "<matplotlib.figure.Figure at 0x7fdc9f05d3d0>"
      ]
     },
     "metadata": {},
     "output_type": "display_data"
    }
   ],
   "source": [
    "display_volume_sections(atlas_prob_volume_allLandmarks['Tz_L'], every=3)"
   ]
  },
  {
   "cell_type": "code",
   "execution_count": 135,
   "metadata": {
    "collapsed": false,
    "scrolled": true
   },
   "outputs": [],
   "source": [
    "# Save atlas score volume.\n",
    "\n",
    "for name_s, vol in atlas_prob_volume_allLandmarks.iteritems():\n",
    "    vol_fn = DataManager.get_volume_filepath(stack_m=atlas_name, structure=name_s, trial_idx=None)\n",
    "    create_parent_dir_if_not_exists(vol_fn)\n",
    "    bp.pack_ndarray_file(vol, vol_fn)"
   ]
  },
  {
   "cell_type": "code",
   "execution_count": 147,
   "metadata": {
    "collapsed": false,
    "scrolled": true
   },
   "outputs": [],
   "source": [
    "# Save atlas score volume bbox txt.\n",
    "\n",
    "for name_s, vol in atlas_prob_volume_allLandmarks.iteritems():\n",
    "    fn = DataManager.get_volume_bbox_filepath(stack_m=atlas_name, structure=name_s, trial_idx=None)\n",
    "    np.savetxt(fn, np.array([prob_vol_xmin, prob_vol_xmax, prob_vol_ymin, prob_vol_ymax, prob_vol_zmin, prob_vol_zmax])[None,:], fmt='%d')\n",
    "    # This is wrt MD589 annotation volume"
   ]
  },
  {
   "cell_type": "markdown",
   "metadata": {},
   "source": [
    "# Consider Surround"
   ]
  },
  {
   "cell_type": "code",
   "execution_count": 86,
   "metadata": {
    "collapsed": false,
    "scrolled": true
   },
   "outputs": [
    {
     "name": "stdout",
     "output_type": "stream",
     "text": [
      "LRt_R\n",
      "Sp5C_L\n",
      "Pn_L\n",
      "7N_R\n",
      "PBG_L\n",
      "VLL_L\n",
      "4N_R\n",
      "VLL_R\n",
      "7N_L\n",
      "PBG_R\n",
      "RtTg\n",
      "Sp5C_R\n",
      "Pn_R\n",
      "LRt_L\n",
      "Sp5O_R\n",
      "SNR_L\n",
      "12N\n",
      "SNR_R\n",
      "Sp5O_L\n",
      "DC_R\n",
      "VCA_L\n",
      "3N_L\n",
      "6N_R\n",
      "Sp5I_L\n",
      "RMC_R\n",
      "5N_L\n",
      "SNC_L\n",
      "SNC_R\n",
      "AP\n",
      "RMC_L\n",
      "Sp5I_R\n",
      "3N_R\n",
      "6N_L\n",
      "IC\n",
      "VCA_R\n",
      "DC_L\n",
      "Amb_R\n",
      "VCP_R\n",
      "LC_R\n",
      "10N_R\n",
      "7n_R\n",
      "5N_R\n",
      "Tz_L\n",
      "Tz_R\n",
      "7n_L\n",
      "4N_L\n",
      "LC_L\n",
      "10N_L\n",
      "SC\n",
      "VCP_L\n",
      "Amb_L\n"
     ]
    }
   ],
   "source": [
    "# Generate and save surround score volumes. (in fact binary, but dtype is np.float16, same as interior score volumes.)\n",
    "\n",
    "for name_s, vol in atlas_prob_volume_allLandmarks.iteritems():\n",
    "    \n",
    "    surround_vol = get_surround_volume(vol, valid_level=.1, distance=15)\n",
    "    \n",
    "    vol_fn = DataManager.get_score_volume_filepath(stack=atlas_name, label=name_s+'_surround', downscale=32)\n",
    "    \n",
    "    create_if_not_exists(os.path.dirname(vol_fn))\n",
    "    bp.pack_ndarray_file(surround_vol, vol_fn)"
   ]
  },
  {
   "cell_type": "code",
   "execution_count": 87,
   "metadata": {
    "collapsed": true
   },
   "outputs": [],
   "source": [
    "# Save surround score volume bbox txt.\n",
    "\n",
    "for n, vol in atlas_prob_volume_allLandmarks.iteritems():\n",
    "    fn = DataManager.get_score_volume_bbox_filepath(stack=atlas_name, label=n + '_surround', downscale=32)\n",
    "    np.savetxt(fn, np.array([prob_vol_xmin, prob_vol_xmax, prob_vol_ymin, prob_vol_ymax, prob_vol_zmin, prob_vol_zmax], np.int)[None,:])\n",
    "    # This is wrt MD589 annotation volume"
   ]
  },
  {
   "cell_type": "code",
   "execution_count": 88,
   "metadata": {
    "collapsed": false,
    "scrolled": true
   },
   "outputs": [
    {
     "name": "stderr",
     "output_type": "stream",
     "text": [
      "marching cube: 0.08 seconds\n",
      "mesh_to_polydata: 0.04 seconds\n",
      "simplify 0 @ 30127: 0.27 seconds\n",
      "simplify 1 @ 6028: 0.26 seconds\n",
      "simplify 2 @ 1208: 0.05 seconds\n",
      "marching cube: 0.06 seconds\n",
      "mesh_to_polydata: 0.03 seconds\n",
      "simplify 0 @ 30118: 0.26 seconds\n",
      "simplify 1 @ 6026: 0.26 seconds\n",
      "simplify 2 @ 1208: 0.09 seconds\n",
      "marching cube: 0.01 seconds\n",
      "mesh_to_polydata: 0.02 seconds\n",
      "simplify 0 @ 8527: 0.07 seconds\n",
      "simplify 1 @ 1708: 0.06 seconds\n",
      "simplify 2 @ 344: 0.01 seconds\n",
      "marching cube: 0.01 seconds\n",
      "mesh_to_polydata: 0.01 seconds\n",
      "simplify 0 @ 8515: 0.07 seconds\n",
      "simplify 1 @ 1706: 0.06 seconds\n",
      "simplify 2 @ 344: 0.01 seconds\n",
      "marching cube: 0.08 seconds\n",
      "mesh_to_polydata: 0.05 seconds\n",
      "simplify 0 @ 39329: 0.37 seconds\n",
      "simplify 1 @ 7869: 0.38 seconds\n",
      "simplify 2 @ 1577: 0.08 seconds\n",
      "marching cube: 0.08 seconds\n",
      "mesh_to_polydata: 0.05 seconds\n",
      "simplify 0 @ 39362: 0.37 seconds\n",
      "simplify 1 @ 7875: 0.37 seconds\n",
      "simplify 2 @ 1578: 0.07 seconds\n",
      "marching cube: 0.17 seconds\n",
      "mesh_to_polydata: 0.05 seconds\n",
      "simplify 0 @ 43093: 0.57 seconds\n",
      "simplify 1 @ 8621: 0.70 seconds\n",
      "simplify 2 @ 1727: 0.15 seconds\n",
      "marching cube: 0.32 seconds\n",
      "mesh_to_polydata: 0.10 seconds\n",
      "simplify 0 @ 43073: 0.61 seconds\n",
      "simplify 1 @ 8617: 0.65 seconds\n",
      "simplify 2 @ 1726: 0.10 seconds\n",
      "marching cube: 0.02 seconds\n",
      "mesh_to_polydata: 0.01 seconds\n",
      "simplify 0 @ 9563: 0.10 seconds\n",
      "simplify 1 @ 1915: 0.08 seconds\n",
      "simplify 2 @ 386: 0.02 seconds\n",
      "marching cube: 0.02 seconds\n",
      "mesh_to_polydata: 0.01 seconds\n",
      "simplify 0 @ 9573: 0.12 seconds\n",
      "simplify 1 @ 1917: 0.08 seconds\n",
      "simplify 2 @ 386: 0.02 seconds\n",
      "marching cube: 0.04 seconds\n",
      "mesh_to_polydata: 0.03 seconds\n",
      "simplify 0 @ 20411: 0.21 seconds\n",
      "simplify 1 @ 4085: 0.19 seconds\n",
      "simplify 2 @ 820: 0.04 seconds\n",
      "marching cube: 0.05 seconds\n",
      "mesh_to_polydata: 0.03 seconds\n",
      "simplify 0 @ 20391: 0.20 seconds\n",
      "simplify 1 @ 4081: 0.17 seconds\n",
      "simplify 2 @ 819: 0.04 seconds\n",
      "marching cube: 0.09 seconds\n",
      "mesh_to_polydata: 0.05 seconds\n",
      "simplify 0 @ 41223: 0.38 seconds\n",
      "simplify 1 @ 8247: 0.40 seconds\n",
      "simplify 2 @ 1652: 0.08 seconds\n",
      "marching cube: 0.09 seconds\n",
      "mesh_to_polydata: 0.05 seconds\n",
      "simplify 0 @ 41264: 0.38 seconds\n",
      "simplify 1 @ 8256: 0.40 seconds\n",
      "simplify 2 @ 1654: 0.08 seconds\n",
      "marching cube: 0.12 seconds\n",
      "mesh_to_polydata: 0.07 seconds\n",
      "simplify 0 @ 58336: 0.63 seconds\n",
      "simplify 1 @ 11670: 0.63 seconds\n",
      "simplify 2 @ 2337: 0.13 seconds\n",
      "marching cube: 0.18 seconds\n",
      "mesh_to_polydata: 0.09 seconds\n",
      "simplify 0 @ 58359: 0.65 seconds\n",
      "simplify 1 @ 11675: 0.67 seconds\n",
      "simplify 2 @ 2338: 0.14 seconds\n",
      "marching cube: 0.05 seconds\n",
      "mesh_to_polydata: 0.03 seconds\n",
      "simplify 0 @ 23184: 0.22 seconds\n",
      "simplify 1 @ 4640: 0.21 seconds\n",
      "simplify 2 @ 931: 0.04 seconds\n",
      "marching cube: 0.05 seconds\n",
      "mesh_to_polydata: 0.03 seconds\n",
      "simplify 0 @ 23190: 0.22 seconds\n",
      "simplify 1 @ 4641: 0.21 seconds\n",
      "simplify 2 @ 931: 0.04 seconds\n",
      "marching cube: 0.23 seconds\n",
      "mesh_to_polydata: 0.08 seconds\n",
      "simplify 0 @ 62012: 0.60 seconds\n",
      "simplify 1 @ 12405: 0.65 seconds\n",
      "simplify 2 @ 2484: 0.13 seconds\n",
      "marching cube: 0.25 seconds\n",
      "mesh_to_polydata: 0.09 seconds\n",
      "simplify 0 @ 61905: 0.68 seconds\n",
      "simplify 1 @ 12384: 0.69 seconds\n",
      "simplify 2 @ 2480: 0.14 seconds\n",
      "marching cube: 0.07 seconds\n",
      "mesh_to_polydata: 0.04 seconds\n",
      "simplify 0 @ 31378: 0.29 seconds\n",
      "simplify 1 @ 6278: 0.35 seconds\n",
      "simplify 2 @ 1258: 0.07 seconds\n",
      "marching cube: 0.15 seconds\n",
      "mesh_to_polydata: 0.08 seconds\n",
      "simplify 0 @ 31388: 0.56 seconds\n",
      "simplify 1 @ 6280: 0.65 seconds\n",
      "simplify 2 @ 1259: 0.13 seconds\n",
      "marching cube: 0.16 seconds\n",
      "mesh_to_polydata: 0.08 seconds\n",
      "simplify 0 @ 35360: 0.53 seconds\n",
      "simplify 1 @ 7075: 0.55 seconds\n",
      "simplify 2 @ 1418: 0.11 seconds\n",
      "marching cube: 0.16 seconds\n",
      "mesh_to_polydata: 0.08 seconds\n",
      "simplify 0 @ 35319: 0.54 seconds\n",
      "simplify 1 @ 7067: 0.46 seconds\n",
      "simplify 2 @ 1416: 0.08 seconds\n",
      "marching cube: 0.30 seconds\n",
      "mesh_to_polydata: 0.11 seconds\n",
      "simplify 0 @ 87170: 0.87 seconds\n",
      "simplify 1 @ 17435: 0.95 seconds\n",
      "simplify 2 @ 3488: 0.20 seconds\n",
      "marching cube: 0.54 seconds\n",
      "mesh_to_polydata: 0.20 seconds\n",
      "simplify 0 @ 87116: 1.38 seconds\n",
      "simplify 1 @ 17424: 1.56 seconds\n",
      "simplify 2 @ 3486: 0.31 seconds\n",
      "marching cube: 0.03 seconds\n",
      "mesh_to_polydata: 0.02 seconds\n",
      "simplify 0 @ 14212: 0.15 seconds\n",
      "simplify 1 @ 2845: 0.15 seconds\n",
      "simplify 2 @ 572: 0.03 seconds\n",
      "marching cube: 0.03 seconds\n",
      "mesh_to_polydata: 0.02 seconds\n",
      "simplify 0 @ 14223: 0.14 seconds\n",
      "simplify 1 @ 2847: 0.13 seconds\n",
      "simplify 2 @ 572: 0.03 seconds\n",
      "marching cube: 0.01 seconds\n",
      "mesh_to_polydata: 0.01 seconds\n",
      "simplify 0 @ 6805: 0.06 seconds\n",
      "simplify 1 @ 1364: 0.05 seconds\n",
      "simplify 2 @ 276: 0.01 seconds\n",
      "marching cube: 0.01 seconds\n",
      "mesh_to_polydata: 0.01 seconds\n",
      "simplify 0 @ 6798: 0.06 seconds\n",
      "simplify 1 @ 1362: 0.05 seconds\n",
      "simplify 2 @ 275: 0.01 seconds\n",
      "marching cube: 0.19 seconds\n",
      "mesh_to_polydata: 0.08 seconds\n",
      "simplify 0 @ 56832: 0.82 seconds\n",
      "simplify 1 @ 11369: 0.57 seconds\n",
      "simplify 2 @ 2277: 0.11 seconds\n",
      "marching cube: 0.19 seconds\n",
      "mesh_to_polydata: 0.08 seconds\n",
      "simplify 0 @ 56773: 0.88 seconds\n",
      "simplify 1 @ 11357: 0.69 seconds\n",
      "simplify 2 @ 2274: 0.13 seconds\n",
      "marching cube: 0.18 seconds\n",
      "mesh_to_polydata: 0.10 seconds\n",
      "simplify 0 @ 56281: 0.93 seconds\n",
      "simplify 1 @ 11259: 0.63 seconds\n",
      "simplify 2 @ 2255: 0.12 seconds\n",
      "marching cube: 0.23 seconds\n",
      "mesh_to_polydata: 0.20 seconds\n",
      "simplify 0 @ 56350: 1.88 seconds\n",
      "simplify 1 @ 11273: 1.16 seconds\n",
      "simplify 2 @ 2257: 0.24 seconds\n",
      "marching cube: 0.51 seconds\n",
      "mesh_to_polydata: 0.22 seconds\n",
      "simplify 0 @ 94968: 1.73 seconds\n",
      "simplify 1 @ 18996: 1.34 seconds\n",
      "simplify 2 @ 3802: 0.21 seconds\n",
      "marching cube: 0.30 seconds\n",
      "mesh_to_polydata: 0.15 seconds\n",
      "simplify 0 @ 94859: 1.00 seconds\n",
      "simplify 1 @ 18975: 1.10 seconds\n",
      "simplify 2 @ 3798: 0.34 seconds\n",
      "marching cube: 0.07 seconds\n",
      "mesh_to_polydata: 0.04 seconds\n",
      "simplify 0 @ 17734: 0.25 seconds\n",
      "simplify 1 @ 3550: 0.25 seconds\n",
      "simplify 2 @ 713: 0.05 seconds\n",
      "marching cube: 0.08 seconds\n",
      "mesh_to_polydata: 0.04 seconds\n",
      "simplify 0 @ 17729: 0.25 seconds\n",
      "simplify 1 @ 3549: 0.25 seconds\n",
      "simplify 2 @ 713: 0.05 seconds\n",
      "marching cube: 0.08 seconds\n",
      "mesh_to_polydata: 0.04 seconds\n",
      "simplify 0 @ 24594: 0.23 seconds\n",
      "simplify 1 @ 4922: 0.23 seconds\n",
      "simplify 2 @ 987: 0.05 seconds\n",
      "marching cube: 0.07 seconds\n",
      "mesh_to_polydata: 0.03 seconds\n",
      "simplify 0 @ 24571: 0.23 seconds\n",
      "simplify 1 @ 4917: 0.23 seconds\n",
      "simplify 2 @ 986: 0.05 seconds\n",
      "marching cube: 0.10 seconds\n",
      "mesh_to_polydata: 0.06 seconds\n",
      "simplify 0 @ 40822: 0.46 seconds\n",
      "simplify 1 @ 8166: 0.49 seconds\n",
      "simplify 2 @ 1634: 0.14 seconds\n",
      "marching cube: 0.17 seconds\n",
      "mesh_to_polydata: 0.10 seconds\n",
      "simplify 0 @ 40815: 0.79 seconds\n",
      "simplify 1 @ 8164: 0.65 seconds\n",
      "simplify 2 @ 1634: 0.14 seconds\n",
      "marching cube: 0.09 seconds\n",
      "mesh_to_polydata: 0.05 seconds\n",
      "simplify 0 @ 36073: 0.36 seconds\n",
      "simplify 1 @ 7218: 0.34 seconds\n",
      "simplify 2 @ 1446: 0.08 seconds\n",
      "marching cube: 0.09 seconds\n",
      "mesh_to_polydata: 0.05 seconds\n",
      "simplify 0 @ 36316: 0.37 seconds\n",
      "simplify 1 @ 7266: 0.39 seconds\n",
      "simplify 2 @ 1456: 0.08 seconds\n",
      "marching cube: 0.16 seconds\n",
      "mesh_to_polydata: 0.07 seconds\n",
      "simplify 0 @ 53435: 0.74 seconds\n",
      "simplify 1 @ 10690: 0.88 seconds\n",
      "simplify 2 @ 2141: 0.19 seconds\n",
      "marching cube: 0.27 seconds\n",
      "mesh_to_polydata: 0.12 seconds\n",
      "simplify 0 @ 53497: 0.92 seconds\n",
      "simplify 1 @ 10702: 0.57 seconds\n",
      "simplify 2 @ 2143: 0.12 seconds\n",
      "marching cube: 0.03 seconds\n",
      "mesh_to_polydata: 0.02 seconds\n",
      "simplify 0 @ 14963: 0.15 seconds\n",
      "simplify 1 @ 2995: 0.13 seconds\n",
      "simplify 2 @ 602: 0.03 seconds\n",
      "marching cube: 0.10 seconds\n",
      "mesh_to_polydata: 0.06 seconds\n",
      "simplify 0 @ 43467: 0.43 seconds\n",
      "simplify 1 @ 8696: 0.40 seconds\n",
      "simplify 2 @ 1742: 0.09 seconds\n",
      "marching cube: 0.58 seconds\n",
      "mesh_to_polydata: 0.24 seconds\n",
      "simplify 0 @ 98309: 1.89 seconds\n",
      "simplify 1 @ 19666: 1.51 seconds\n",
      "simplify 2 @ 3943: 0.27 seconds\n",
      "marching cube: 1.27 seconds\n",
      "mesh_to_polydata: 0.43 seconds\n",
      "simplify 0 @ 305001: 5.04 seconds\n",
      "simplify 1 @ 61001: 4.24 seconds\n",
      "simplify 2 @ 12201: 0.82 seconds\n",
      "marching cube: 0.67 seconds\n",
      "mesh_to_polydata: 0.28 seconds\n",
      "simplify 0 @ 202041: 2.68 seconds\n",
      "simplify 1 @ 40411: 2.56 seconds\n",
      "simplify 2 @ 8085: 0.49 seconds\n"
     ]
    }
   ],
   "source": [
    "# Convert surround volumes to meshes\n",
    "\n",
    "for name_s in structures_sided:\n",
    "        \n",
    "    vol_fn = DataManager.get_score_volume_filepath(stack=atlas_name, label=name_s+'_surround', downscale=32)\n",
    "    surround_vol = bp.unpack_ndarray_file(vol_fn)\n",
    "    \n",
    "    xmin, xmax, ymin, ymax, zmin, zmax = bbox_3d(surround_vol > 0)\n",
    "    \n",
    "    polydata = volume_to_polydata(surround_vol[ymin:ymax+1, xmin:xmax+1, zmin:zmax+1], \n",
    "                                  origin=(xmin+prob_vol_xmin+ann_vol_xmin-canonical_centroid[0], \n",
    "                                       ymin+prob_vol_ymin+ann_vol_ymin-canonical_centroid[1], \n",
    "                                       zmin+prob_vol_zmin+ann_vol_zmin-canonical_centroid[2]), \n",
    "                       num_simplify_iter=3, smooth=True)\n",
    "    # centered at \"canonical centroid\" - same as interior volumes\n",
    "    \n",
    "    mesh_fn = DataManager.get_mesh_filepath(stack=atlas_name, label=name_s+'_surround')\n",
    "    save_mesh(polydata, mesh_fn)"
   ]
  },
  {
   "cell_type": "code",
   "execution_count": 356,
   "metadata": {
    "collapsed": true
   },
   "outputs": [],
   "source": [
    "# surround_vol = get_surround_volume(atlas_prob_volume_allLandmarks['Pn_L'], distance=15, valid_level=0.1)\n",
    "# display_volume_sections(surround_vol)"
   ]
  },
  {
   "cell_type": "code",
   "execution_count": null,
   "metadata": {
    "collapsed": true
   },
   "outputs": [],
   "source": []
  },
  {
   "cell_type": "markdown",
   "metadata": {},
   "source": [
    "# Load and display meshes"
   ]
  },
  {
   "cell_type": "code",
   "execution_count": 151,
   "metadata": {
    "collapsed": false
   },
   "outputs": [],
   "source": [
    "# Load canonical info\n",
    "\n",
    "canonical_locations = read_dict_from_txt(os.path.join(MESH_ROOTDIR, atlas_name, 'canonical_locations.txt'), key_converter=str)\n",
    "canonical_centroid = np.loadtxt(os.path.join(MESH_ROOTDIR, atlas_name, 'canonical_centroid.txt'))\n",
    "canonical_normal = np.loadtxt(os.path.join(MESH_ROOTDIR, atlas_name, 'canonical_normal.txt'))"
   ]
  },
  {
   "cell_type": "code",
   "execution_count": 153,
   "metadata": {
    "collapsed": false,
    "scrolled": true
   },
   "outputs": [
    {
     "name": "stderr",
     "output_type": "stream",
     "text": [
      "load_mesh_stl: File does not exist /home/yuncong/CSHL_meshes/atlasV3/atlasV3_down32_scoreVolume/atlasV3_down32_scoreVolume_sp5.stl\n",
      "Mesh is empty: sp5.\n",
      "Error loading mesh for sp5.\n",
      "load_mesh_stl: File does not exist /home/yuncong/CSHL_meshes/atlasV3/atlasV3_down32_scoreVolume/atlasV3_down32_scoreVolume_outerContour.stl\n",
      "Mesh is empty: outerContour.\n",
      "Error loading mesh for outerContour.\n"
     ]
    }
   ],
   "source": [
    "# Load atlas meshes\n",
    "\n",
    "atlas_space_structure_meshes = DataManager.load_meshes(stack_m=atlas_name, trial_idx=None, sided=True)"
   ]
  },
  {
   "cell_type": "code",
   "execution_count": 27,
   "metadata": {
    "collapsed": false
   },
   "outputs": [],
   "source": [
    "# # Load atlas structure surround meshes\n",
    "\n",
    "# atlas_space_structure_surround_meshes = {\n",
    "#     name_s: DataManager.load_mesh(stack=atlas_name, label=name_s + '_surround', return_polydata_only=True)\n",
    "#     for name_s in structures_sided}"
   ]
  },
  {
   "cell_type": "code",
   "execution_count": null,
   "metadata": {
    "collapsed": true
   },
   "outputs": [],
   "source": []
  },
  {
   "cell_type": "code",
   "execution_count": 179,
   "metadata": {
    "collapsed": false
   },
   "outputs": [
    {
     "name": "stderr",
     "output_type": "stream",
     "text": [
      "[Errno 2] No such file or directory: '/home/yuncong/CSHL_volumes/atlasV3/atlasV3_down32_scoreVolume/probabilistic_shapes/atlasV3_down32_scoreVolume_sp5.bp'\n",
      "Error loading probablistic shape for sp5.\n",
      "[Errno 2] No such file or directory: '/home/yuncong/CSHL_volumes/atlasV3/atlasV3_down32_scoreVolume/probabilistic_shapes/atlasV3_down32_scoreVolume_outerContour.bp'\n",
      "Error loading probablistic shape for outerContour.\n"
     ]
    }
   ],
   "source": [
    "atlas_space_structure_volumes = DataManager.load_prob_shapes(stack_m=atlas_name, trial_idx=None, sided=True)"
   ]
  },
  {
   "cell_type": "code",
   "execution_count": 30,
   "metadata": {
    "collapsed": false
   },
   "outputs": [],
   "source": [
    "# # Load structure prob volumes\n",
    "\n",
    "# atlas_space_structure_volumes = {}\n",
    "# for name_s in structures_sided:    \n",
    "#     volume = bp.unpack_ndarray_file(os.path.join(MESH_ROOTDIR, atlas_name, 'structure_prob_volume', 'prob_volume_%s.bp'%name_s))\n",
    "#     origin = np.loadtxt(os.path.join(MESH_ROOTDIR, atlas_name, 'structure_prob_volume', 'prob_volume_origin_%s.txt'%name_s))\n",
    "#     atlas_space_structure_volumes[name_s] = (volume, origin)"
   ]
  },
  {
   "cell_type": "code",
   "execution_count": 182,
   "metadata": {
    "collapsed": false
   },
   "outputs": [],
   "source": [
    "# Load shell\n",
    "shell_polydata = DataManager.load_shell_mesh(stack=stack_fixed, downscale=32)"
   ]
  },
  {
   "cell_type": "code",
   "execution_count": null,
   "metadata": {
    "collapsed": true
   },
   "outputs": [],
   "source": []
  },
  {
   "cell_type": "code",
   "execution_count": 186,
   "metadata": {
    "collapsed": false
   },
   "outputs": [],
   "source": [
    "# Create actors\n",
    "\n",
    "all_atlas_structure_mesh_actors = [actor_mesh(polydata, structure_to_color[convert_name_to_unsided(n)]/255.,\n",
    "                                             wireframe=False) \n",
    "                                   for n, polydata in atlas_space_structure_meshes.iteritems()]"
   ]
  },
  {
   "cell_type": "code",
   "execution_count": null,
   "metadata": {
    "collapsed": true
   },
   "outputs": [],
   "source": [
    "# all_atlas_structure_surround_mesh_actors = [actor_mesh(polydata, color=(1,1,1),\n",
    "#                                                       wireframe=True) \n",
    "#                                             for n, polydata in atlas_space_structure_surround_meshes.iteritems()]"
   ]
  },
  {
   "cell_type": "code",
   "execution_count": 180,
   "metadata": {
    "collapsed": true
   },
   "outputs": [],
   "source": [
    "all_atlas_structure_volume_actors = []\n",
    "for name_s, (volume, origin) in atlas_space_structure_volumes.iteritems():\n",
    "    name_u = convert_name_to_unsided(name_s)\n",
    "    structure_volume_actor = actor_volume(volume.astype(np.float32), what='probability', origin=origin, c=colors[name_u])\n",
    "    all_atlas_structure_volume_actors.append(structure_volume_actor)"
   ]
  },
  {
   "cell_type": "code",
   "execution_count": 183,
   "metadata": {
    "collapsed": true
   },
   "outputs": [],
   "source": [
    "shell_actor = actor_mesh(shell_polydata, (1,1,1), opacity=.15, wireframe=False, origin=-canonical_centroid)"
   ]
  },
  {
   "cell_type": "code",
   "execution_count": 162,
   "metadata": {
    "collapsed": false
   },
   "outputs": [
    {
     "ename": "NameError",
     "evalue": "name 'atlas_space_structure_surround_meshes' is not defined",
     "output_type": "error",
     "traceback": [
      "\u001b[0;31m---------------------------------------------------------------------------\u001b[0m",
      "\u001b[0;31mNameError\u001b[0m                                 Traceback (most recent call last)",
      "\u001b[0;32m<ipython-input-162-abc0b6825cf4>\u001b[0m in \u001b[0;36m<module>\u001b[0;34m()\u001b[0m\n\u001b[1;32m      1\u001b[0m launch_vtk([actor_mesh(atlas_space_structure_meshes['SNR_L'], color=(1,1,1), wireframe=True),\n\u001b[0;32m----> 2\u001b[0;31m             actor_mesh(atlas_space_structure_surround_meshes['SNR_L'], color=(0,1,1), wireframe=True)])\n\u001b[0m",
      "\u001b[0;31mNameError\u001b[0m: name 'atlas_space_structure_surround_meshes' is not defined"
     ]
    }
   ],
   "source": [
    "launch_vtk([actor_mesh(atlas_space_structure_meshes['SNR_L'], color=(1,1,1), wireframe=True),\n",
    "            actor_mesh(atlas_space_structure_surround_meshes['SNR_L'], color=(0,1,1), wireframe=True)])"
   ]
  },
  {
   "cell_type": "code",
   "execution_count": 165,
   "metadata": {
    "collapsed": false
   },
   "outputs": [],
   "source": [
    "launch_vtk(all_atlas_structure_mesh_actors, init_angle='coronal')"
   ]
  },
  {
   "cell_type": "code",
   "execution_count": 32,
   "metadata": {
    "collapsed": true
   },
   "outputs": [],
   "source": [
    "launch_vtk(all_atlas_structure_mesh_actors + all_atlas_structure_surround_mesh_actors)"
   ]
  },
  {
   "cell_type": "code",
   "execution_count": 181,
   "metadata": {
    "collapsed": true
   },
   "outputs": [],
   "source": [
    "launch_vtk(all_atlas_structure_mesh_actors + all_atlas_structure_volume_actors, init_angle='sagittal')"
   ]
  },
  {
   "cell_type": "code",
   "execution_count": 38,
   "metadata": {
    "collapsed": false
   },
   "outputs": [],
   "source": [
    "launch_vtk([actor_mesh(polydata, structure_colors[convert_name_to_unsided(n)]/255.) \n",
    "            for n, polydata in atlas_space_structure_meshes.iteritems()] + \\\n",
    "           [shell_actor], init_angle='30')"
   ]
  },
  {
   "cell_type": "code",
   "execution_count": 187,
   "metadata": {
    "collapsed": true
   },
   "outputs": [],
   "source": [
    "launch_vtk(all_atlas_structure_mesh_actors + [shell_actor], init_angle='coronal')"
   ]
  },
  {
   "cell_type": "code",
   "execution_count": 33,
   "metadata": {
    "collapsed": true
   },
   "outputs": [],
   "source": [
    "launch_vtk(all_atlas_structure_mesh_actors + [shell_actor], init_angle='horizontal_topDown')"
   ]
  },
  {
   "cell_type": "code",
   "execution_count": 31,
   "metadata": {
    "collapsed": false
   },
   "outputs": [],
   "source": [
    "launch_vtk(all_atlas_structure_mesh_actors + [shell_actor], init_angle='horizontal_topDown', animate=False,\n",
    "          interactive=False, snapshot_fn='/home/yuncong/snapshot_horizontal.png', snapshot_magnification=10)"
   ]
  },
  {
   "cell_type": "code",
   "execution_count": 30,
   "metadata": {
    "collapsed": false
   },
   "outputs": [],
   "source": [
    "launch_vtk(all_atlas_structure_mesh_actors + [shell_actor], init_angle='sagittal', animate=False, \n",
    "           interactive=False, snapshot_fn='/home/yuncong/snapshot_sagittal.png', snapshot_magnification=10)"
   ]
  },
  {
   "cell_type": "code",
   "execution_count": 38,
   "metadata": {
    "collapsed": true
   },
   "outputs": [],
   "source": [
    "launch_vtk(all_atlas_structure_volume_actors + [shell_actor], init_angle='sagittal', animate=True)"
   ]
  },
  {
   "cell_type": "code",
   "execution_count": 74,
   "metadata": {
    "collapsed": true
   },
   "outputs": [],
   "source": [
    "launch_vtk(all_atlas_structure_volume_actors + [shell_actor], init_angle='sagittal')"
   ]
  },
  {
   "cell_type": "code",
   "execution_count": 39,
   "metadata": {
    "collapsed": true
   },
   "outputs": [],
   "source": [
    "launch_vtk(all_atlas_structure_volume_actors , init_angle='sagittal')"
   ]
  }
 ],
 "metadata": {
  "kernelspec": {
   "display_name": "Python 2",
   "language": "python",
   "name": "python2"
  },
  "language_info": {
   "codemirror_mode": {
    "name": "ipython",
    "version": 2
   },
   "file_extension": ".py",
   "mimetype": "text/x-python",
   "name": "python",
   "nbconvert_exporter": "python",
   "pygments_lexer": "ipython2",
   "version": "2.7.12"
  }
 },
 "nbformat": 4,
 "nbformat_minor": 0
}
