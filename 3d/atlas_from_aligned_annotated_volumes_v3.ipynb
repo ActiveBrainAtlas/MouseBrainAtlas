{
 "cells": [
  {
   "cell_type": "code",
   "execution_count": 1,
   "metadata": {
    "collapsed": false
   },
   "outputs": [
    {
     "name": "stdout",
     "output_type": "stream",
     "text": [
      "Setting environment for Local Macbook Pro\n"
     ]
    }
   ],
   "source": [
    "%reload_ext autoreload\n",
    "%autoreload 2\n",
    "\n",
    "import sys\n",
    "import os\n",
    "\n",
    "import numpy as np\n",
    "import bloscpack as bp\n",
    "\n",
    "sys.path.append(os.path.join(os.environ['REPO_DIR'], 'utilities'))\n",
    "from utilities2015 import *\n",
    "from metadata import *\n",
    "from data_manager import *\n",
    "\n",
    "from registration_utilities import *\n",
    "from annotation_utilities import *\n",
    "from vis3d_utilities import *"
   ]
  },
  {
   "cell_type": "code",
   "execution_count": 2,
   "metadata": {
    "collapsed": true
   },
   "outputs": [],
   "source": [
    "# stack_moving = 'MD585'\n",
    "# stack_fixed = 'MD589'"
   ]
  },
  {
   "cell_type": "code",
   "execution_count": 3,
   "metadata": {
    "collapsed": true
   },
   "outputs": [],
   "source": [
    "atlas_name = 'atlasV3'"
   ]
  },
  {
   "cell_type": "code",
   "execution_count": 3,
   "metadata": {
    "collapsed": false
   },
   "outputs": [],
   "source": [
    "# volume_fixed = DataManager.load_annotation_volume(stack=stack_fixed, downscale=32)\n",
    "# volume_moving = DataManager.load_annotation_volume(stack=stack_moving, downscale=32)\n",
    "\n",
    "# print volume_fixed.shape\n",
    "# print volume_moving.shape"
   ]
  },
  {
   "cell_type": "code",
   "execution_count": 5,
   "metadata": {
    "collapsed": false
   },
   "outputs": [],
   "source": [
    "# label_to_name_m, name_to_label_m = DataManager.load_volume_label_to_name(stack_moving)\n",
    "# label_to_name_f, name_to_label_f = DataManager.load_volume_label_to_name(stack_fixed)"
   ]
  },
  {
   "cell_type": "code",
   "execution_count": 7,
   "metadata": {
    "collapsed": false
   },
   "outputs": [],
   "source": [
    "# colors = {name_u: np.random.randint(0,255,3)/255.\n",
    "#           for name_u in set([convert_name_to_unsided(name_s) for name_s in name_to_label_m.keys()])}"
   ]
  },
  {
   "cell_type": "markdown",
   "metadata": {},
   "source": [
    "# Generate transformed annotation volume meshes\n",
    "\n",
    "Untransformed annotation volume meshes are generated in `visualize_annotationVolume2`"
   ]
  },
  {
   "cell_type": "code",
   "execution_count": 63,
   "metadata": {
    "collapsed": true
   },
   "outputs": [],
   "source": [
    "warp_setting = 9"
   ]
  },
  {
   "cell_type": "code",
   "execution_count": 64,
   "metadata": {
    "collapsed": false
   },
   "outputs": [
    {
     "name": "stderr",
     "output_type": "stream",
     "text": [
      "File does not exist: /home/yuncong/CSHL_volumes/MD585/MD585_down32_annotationAsScoreVolume_warp_9_MD589_down32_annotationAsScoreVolume_trial_0/score_volumes/MD585_down32_annotationAsScoreVolume_warp_9_MD589_down32_annotationAsScoreVolume_trial_0_Sp5C_R.bp\n",
      "Score volume for Sp5C_R does not exist.\n",
      "File does not exist: /home/yuncong/CSHL_volumes/MD585/MD585_down32_annotationAsScoreVolume_warp_9_MD589_down32_annotationAsScoreVolume_trial_0/score_volumes/MD585_down32_annotationAsScoreVolume_warp_9_MD589_down32_annotationAsScoreVolume_trial_0_sp5.bp\n",
      "Score volume for sp5 does not exist.\n",
      "File does not exist: /home/yuncong/CSHL_volumes/MD585/MD585_down32_annotationAsScoreVolume_warp_9_MD589_down32_annotationAsScoreVolume_trial_0/score_volumes/MD585_down32_annotationAsScoreVolume_warp_9_MD589_down32_annotationAsScoreVolume_trial_0_outerContour.bp\n",
      "Score volume for outerContour does not exist.\n"
     ]
    }
   ],
   "source": [
    "volume_m_alignedTo_f = DataManager.load_transformed_volume_all_known_structures(stack_m=stack_moving, type_m='annotation_as_score',\n",
    "                                                            stack_f=stack_fixed, type_f='annotation_as_score',\n",
    "                                                                                warp_setting=warp_setting,\n",
    "                                                                               sided=True)"
   ]
  },
  {
   "cell_type": "code",
   "execution_count": 68,
   "metadata": {
    "collapsed": false
   },
   "outputs": [
    {
     "name": "stdout",
     "output_type": "stream",
     "text": [
      "622 1042 155 502 127 503\n"
     ]
    }
   ],
   "source": [
    "vol_f_xmin, vol_f_xmax, vol_f_ymin, vol_f_ymax, vol_f_zmin, vol_f_zmax = \\\n",
    "DataManager.load_volume_bbox(stack_fixed, type='annotation', downscale=32)\n",
    "print vol_f_xmin, vol_f_xmax, vol_f_ymin, vol_f_ymax, vol_f_zmin, vol_f_zmax\n",
    "\n",
    "# This is the bbox of annotation volume in aligned uncropped specimen space."
   ]
  },
  {
   "cell_type": "code",
   "execution_count": 69,
   "metadata": {
    "collapsed": false,
    "scrolled": true
   },
   "outputs": [
    {
     "name": "stderr",
     "output_type": "stream",
     "text": [
      "marching cube: 0.03 seconds\n",
      "mesh_to_polydata: 0.02 seconds\n",
      "simplify 0 @ 3229: 0.05 seconds\n",
      "simplify 1 @ 646: 0.02 seconds\n",
      "time: 0.13 seconds.\n",
      "marching cube: 0.10 seconds\n",
      "mesh_to_polydata: 0.03 seconds\n",
      "simplify 0 @ 24090: 0.24 seconds\n",
      "simplify 1 @ 4819: 0.22 seconds\n",
      "simplify 2 @ 965: 0.04 seconds\n",
      "time: 0.64 seconds.\n",
      "marching cube: 0.05 seconds\n",
      "mesh_to_polydata: 0.02 seconds\n",
      "simplify 0 @ 18945: 0.17 seconds\n",
      "simplify 1 @ 3791: 0.16 seconds\n",
      "simplify 2 @ 759: 0.03 seconds\n",
      "time: 0.43 seconds.\n",
      "marching cube: 0.03 seconds\n",
      "mesh_to_polydata: 0.02 seconds\n",
      "simplify 0 @ 12556: 0.10 seconds\n",
      "simplify 1 @ 2513: 0.10 seconds\n",
      "simplify 2 @ 504: 0.02 seconds\n",
      "time: 0.27 seconds.\n",
      "marching cube: 0.01 seconds\n",
      "mesh_to_polydata: 0.00 seconds\n",
      "simplify 0 @ 2342: 0.02 seconds\n",
      "simplify 1 @ 470: 0.02 seconds\n",
      "time: 0.05 seconds.\n",
      "marching cube: 0.13 seconds\n",
      "mesh_to_polydata: 0.03 seconds\n",
      "simplify 0 @ 10714: 0.19 seconds\n",
      "simplify 1 @ 2144: 0.14 seconds\n",
      "simplify 2 @ 430: 0.03 seconds\n",
      "time: 0.52 seconds.\n",
      "marching cube: 0.09 seconds\n",
      "mesh_to_polydata: 0.03 seconds\n",
      "simplify 0 @ 10980: 0.20 seconds\n",
      "simplify 1 @ 2198: 0.15 seconds\n",
      "simplify 2 @ 441: 0.03 seconds\n",
      "time: 0.51 seconds.\n",
      "marching cube: 0.05 seconds\n",
      "mesh_to_polydata: 0.03 seconds\n",
      "simplify 0 @ 12270: 0.20 seconds\n",
      "simplify 1 @ 2455: 0.19 seconds\n",
      "simplify 2 @ 492: 0.04 seconds\n",
      "time: 0.51 seconds.\n",
      "marching cube: 0.01 seconds\n",
      "mesh_to_polydata: 0.01 seconds\n",
      "simplify 0 @ 2191: 0.03 seconds\n",
      "simplify 1 @ 439: 0.02 seconds\n",
      "time: 0.08 seconds.\n",
      "marching cube: 0.13 seconds\n",
      "mesh_to_polydata: 0.05 seconds\n",
      "simplify 0 @ 31429: 0.34 seconds\n",
      "simplify 1 @ 6287: 0.34 seconds\n",
      "simplify 2 @ 1258: 0.07 seconds\n",
      "time: 0.95 seconds.\n",
      "marching cube: 0.06 seconds\n",
      "mesh_to_polydata: 0.03 seconds\n",
      "simplify 0 @ 18349: 0.22 seconds\n",
      "simplify 1 @ 3670: 0.19 seconds\n",
      "simplify 2 @ 734: 0.04 seconds\n",
      "time: 0.54 seconds.\n",
      "marching cube: 0.12 seconds\n",
      "mesh_to_polydata: 0.05 seconds\n",
      "simplify 0 @ 25677: 0.37 seconds\n",
      "simplify 1 @ 5137: 0.27 seconds\n",
      "simplify 2 @ 1029: 0.06 seconds\n",
      "time: 0.88 seconds.\n",
      "marching cube: 0.05 seconds\n",
      "mesh_to_polydata: 0.03 seconds\n",
      "simplify 0 @ 6942: 0.26 seconds\n",
      "simplify 1 @ 1388: 0.09 seconds\n",
      "simplify 2 @ 277: 0.02 seconds\n",
      "time: 0.45 seconds.\n",
      "marching cube: 0.19 seconds\n",
      "mesh_to_polydata: 0.06 seconds\n",
      "simplify 0 @ 26518: 0.39 seconds\n",
      "simplify 1 @ 5305: 0.39 seconds\n",
      "simplify 2 @ 1062: 0.09 seconds\n",
      "time: 1.13 seconds.\n",
      "marching cube: 0.07 seconds\n",
      "mesh_to_polydata: 0.03 seconds\n",
      "simplify 0 @ 13447: 0.19 seconds\n",
      "simplify 1 @ 2691: 0.16 seconds\n",
      "simplify 2 @ 539: 0.03 seconds\n",
      "time: 0.47 seconds.\n",
      "marching cube: 0.12 seconds\n",
      "mesh_to_polydata: 0.04 seconds\n",
      "simplify 0 @ 28231: 0.26 seconds\n",
      "simplify 1 @ 5647: 0.28 seconds\n",
      "simplify 2 @ 1131: 0.06 seconds\n",
      "time: 0.76 seconds.\n",
      "marching cube: 0.07 seconds\n",
      "mesh_to_polydata: 0.03 seconds\n",
      "simplify 0 @ 17179: 0.28 seconds\n",
      "simplify 1 @ 3435: 0.16 seconds\n",
      "simplify 2 @ 687: 0.03 seconds\n",
      "time: 0.59 seconds.\n",
      "marching cube: 0.01 seconds\n",
      "mesh_to_polydata: 0.01 seconds\n",
      "simplify 0 @ 5151: 0.04 seconds\n",
      "simplify 1 @ 1031: 0.04 seconds\n",
      "simplify 2 @ 207: 0.01 seconds\n",
      "time: 0.11 seconds.\n",
      "marching cube: 0.06 seconds\n",
      "mesh_to_polydata: 0.02 seconds\n",
      "simplify 0 @ 14398: 0.13 seconds\n",
      "simplify 1 @ 2881: 0.13 seconds\n",
      "simplify 2 @ 577: 0.03 seconds\n",
      "time: 0.36 seconds.\n",
      "marching cube: 0.05 seconds\n",
      "mesh_to_polydata: 0.03 seconds\n",
      "simplify 0 @ 14185: 0.21 seconds\n",
      "simplify 1 @ 2839: 0.20 seconds\n",
      "simplify 2 @ 569: 0.04 seconds\n",
      "time: 0.53 seconds.\n",
      "marching cube: 0.01 seconds\n",
      "mesh_to_polydata: 0.01 seconds\n",
      "simplify 0 @ 2528: 0.04 seconds\n",
      "simplify 1 @ 507: 0.03 seconds\n",
      "time: 0.10 seconds.\n",
      "marching cube: 0.00 seconds\n",
      "mesh_to_polydata: 0.00 seconds\n",
      "simplify 0 @ 708: 0.01 seconds\n",
      "time: 0.03 seconds.\n",
      "marching cube: 0.08 seconds\n",
      "mesh_to_polydata: 0.04 seconds\n",
      "simplify 0 @ 14429: 0.30 seconds\n",
      "simplify 1 @ 2887: 0.21 seconds\n",
      "simplify 2 @ 579: 0.05 seconds\n",
      "time: 0.68 seconds.\n",
      "marching cube: 0.03 seconds\n",
      "mesh_to_polydata: 0.01 seconds\n",
      "simplify 0 @ 8935: 0.09 seconds\n",
      "simplify 1 @ 1788: 0.08 seconds\n",
      "simplify 2 @ 359: 0.02 seconds\n",
      "time: 0.24 seconds.\n",
      "marching cube: 0.02 seconds\n",
      "mesh_to_polydata: 0.01 seconds\n",
      "simplify 0 @ 7163: 0.07 seconds\n",
      "simplify 1 @ 1434: 0.05 seconds\n",
      "simplify 2 @ 288: 0.01 seconds\n",
      "time: 0.17 seconds.\n",
      "marching cube: 0.04 seconds\n",
      "mesh_to_polydata: 0.01 seconds\n",
      "simplify 0 @ 7391: 0.06 seconds\n",
      "simplify 1 @ 1479: 0.06 seconds\n",
      "simplify 2 @ 297: 0.01 seconds\n",
      "time: 0.18 seconds.\n",
      "marching cube: 0.03 seconds\n",
      "mesh_to_polydata: 0.01 seconds\n",
      "simplify 0 @ 7350: 0.06 seconds\n",
      "simplify 1 @ 1471: 0.06 seconds\n",
      "simplify 2 @ 295: 0.01 seconds\n",
      "time: 0.17 seconds.\n",
      "marching cube: 0.01 seconds\n",
      "mesh_to_polydata: 0.00 seconds\n",
      "simplify 0 @ 2805: 0.03 seconds\n",
      "simplify 1 @ 562: 0.02 seconds\n",
      "time: 0.06 seconds.\n",
      "marching cube: 0.02 seconds\n",
      "mesh_to_polydata: 0.01 seconds\n",
      "simplify 0 @ 6826: 0.07 seconds\n",
      "simplify 1 @ 1366: 0.05 seconds\n",
      "simplify 2 @ 274: 0.01 seconds\n",
      "time: 0.16 seconds.\n",
      "marching cube: 0.01 seconds\n",
      "mesh_to_polydata: 0.01 seconds\n",
      "simplify 0 @ 3702: 0.05 seconds\n",
      "simplify 1 @ 742: 0.03 seconds\n",
      "time: 0.10 seconds.\n",
      "marching cube: 0.01 seconds\n",
      "mesh_to_polydata: 0.01 seconds\n",
      "simplify 0 @ 2094: 0.04 seconds\n",
      "simplify 1 @ 420: 0.03 seconds\n",
      "time: 0.09 seconds.\n",
      "marching cube: 0.00 seconds\n",
      "mesh_to_polydata: 0.00 seconds\n",
      "simplify 0 @ 1034: 0.02 seconds\n",
      "simplify 1 @ 208: 0.01 seconds\n",
      "time: 0.04 seconds.\n",
      "marching cube: 0.90 seconds\n",
      "mesh_to_polydata: 0.26 seconds\n",
      "simplify 0 @ 99515: 1.45 seconds\n",
      "simplify 1 @ 19906: 1.22 seconds\n",
      "simplify 2 @ 3982: 0.24 seconds\n",
      "time: 4.09 seconds.\n",
      "marching cube: 0.05 seconds\n",
      "mesh_to_polydata: 0.02 seconds\n",
      "simplify 0 @ 13459: 0.13 seconds\n",
      "simplify 1 @ 2693: 0.11 seconds\n",
      "simplify 2 @ 540: 0.03 seconds\n",
      "time: 0.34 seconds.\n",
      "marching cube: 0.04 seconds\n",
      "mesh_to_polydata: 0.02 seconds\n",
      "simplify 0 @ 12110: 0.11 seconds\n",
      "simplify 1 @ 2423: 0.10 seconds\n",
      "simplify 2 @ 486: 0.02 seconds\n",
      "time: 0.29 seconds.\n",
      "marching cube: 0.00 seconds\n",
      "mesh_to_polydata: 0.00 seconds\n",
      "simplify 0 @ 975: 0.02 seconds\n",
      "time: 0.04 seconds.\n",
      "marching cube: 0.06 seconds\n",
      "mesh_to_polydata: 0.02 seconds\n",
      "simplify 0 @ 7414: 0.12 seconds\n",
      "simplify 1 @ 1484: 0.10 seconds\n",
      "simplify 2 @ 298: 0.02 seconds\n",
      "time: 0.33 seconds.\n",
      "marching cube: 0.02 seconds\n",
      "mesh_to_polydata: 0.01 seconds\n",
      "simplify 0 @ 3669: 0.08 seconds\n",
      "simplify 1 @ 735: 0.05 seconds\n",
      "time: 0.17 seconds.\n",
      "marching cube: 0.03 seconds\n",
      "mesh_to_polydata: 0.01 seconds\n",
      "simplify 0 @ 4679: 0.07 seconds\n",
      "simplify 1 @ 937: 0.06 seconds\n",
      "time: 0.19 seconds.\n",
      "marching cube: 0.07 seconds\n",
      "mesh_to_polydata: 0.02 seconds\n",
      "simplify 0 @ 9362: 0.10 seconds\n",
      "simplify 1 @ 1874: 0.09 seconds\n",
      "simplify 2 @ 376: 0.02 seconds\n",
      "time: 0.29 seconds.\n",
      "marching cube: 0.00 seconds\n",
      "mesh_to_polydata: 0.00 seconds\n",
      "simplify 0 @ 695: 0.01 seconds\n",
      "time: 0.02 seconds.\n",
      "marching cube: 0.02 seconds\n",
      "mesh_to_polydata: 0.01 seconds\n",
      "simplify 0 @ 5931: 0.05 seconds\n",
      "simplify 1 @ 1187: 0.04 seconds\n",
      "simplify 2 @ 239: 0.01 seconds\n",
      "time: 0.14 seconds.\n",
      "marching cube: 0.02 seconds\n",
      "mesh_to_polydata: 0.01 seconds\n",
      "simplify 0 @ 5838: 0.05 seconds\n",
      "simplify 1 @ 1169: 0.04 seconds\n",
      "simplify 2 @ 235: 0.01 seconds\n",
      "time: 0.13 seconds.\n",
      "marching cube: 0.09 seconds\n",
      "mesh_to_polydata: 0.01 seconds\n",
      "simplify 0 @ 9373: 0.08 seconds\n",
      "simplify 1 @ 1876: 0.07 seconds\n",
      "simplify 2 @ 376: 0.02 seconds\n",
      "time: 0.27 seconds.\n",
      "marching cube: 0.00 seconds\n",
      "mesh_to_polydata: 0.00 seconds\n",
      "simplify 0 @ 659: 0.01 seconds\n",
      "time: 0.02 seconds.\n",
      "marching cube: 0.03 seconds\n",
      "mesh_to_polydata: 0.02 seconds\n",
      "simplify 0 @ 9723: 0.12 seconds\n",
      "simplify 1 @ 1946: 0.08 seconds\n",
      "simplify 2 @ 390: 0.02 seconds\n",
      "time: 0.26 seconds.\n",
      "marching cube: 0.05 seconds\n",
      "mesh_to_polydata: 0.01 seconds\n",
      "simplify 0 @ 5180: 0.07 seconds\n",
      "simplify 1 @ 1037: 0.06 seconds\n",
      "simplify 2 @ 209: 0.02 seconds\n",
      "time: 0.21 seconds.\n",
      "marching cube: 1.29 seconds\n",
      "mesh_to_polydata: 0.32 seconds\n",
      "simplify 0 @ 137339: 1.72 seconds\n",
      "simplify 1 @ 27472: 1.78 seconds\n",
      "simplify 2 @ 5495: 0.37 seconds\n",
      "time: 5.51 seconds.\n",
      "marching cube: 0.02 seconds\n",
      "mesh_to_polydata: 0.01 seconds\n",
      "simplify 0 @ 4611: 0.06 seconds\n",
      "simplify 1 @ 923: 0.03 seconds\n",
      "time: 0.13 seconds.\n",
      "marching cube: 0.00 seconds\n",
      "mesh_to_polydata: 0.00 seconds\n",
      "simplify 0 @ 1515: 0.02 seconds\n",
      "simplify 1 @ 304: 0.01 seconds\n",
      "time: 0.05 seconds.\n"
     ]
    }
   ],
   "source": [
    "for name_s, label in name_to_label_m.iteritems():\n",
    "    \n",
    "    xmin, xmax, ymin, ymax, zmin, zmax = bbox_3d(volume_m_alignedTo_f[name_s])\n",
    "    vol = volume_m_alignedTo_f[name_s][ymin:ymax+1, xmin:xmax+1, zmin:zmax+1].astype(np.float)\n",
    "\n",
    "    t = time.time()\n",
    "    # These origins are with respect to aligned uncropped specimen space.\n",
    "    polydata = volume_to_polydata(vol, origin=(vol_f_xmin+xmin, vol_f_ymin+ymin, vol_f_zmin+zmin), \n",
    "                                  num_simplify_iter=3, smooth=True)\n",
    "    sys.stderr.write('time: %.2f seconds.\\n' % (time.time() - t) )\n",
    "    \n",
    "    fp = DataManager.get_mesh_filepath(stack_m=stack_moving, stack_f=stack_fixed, \n",
    "                                                          type_f='annotation_as_score',\n",
    "                                                          type_m='annotation_as_score',\n",
    "                                                          structure=name_s, warp_setting=9)\n",
    "    create_parent_dir_if_not_exists(fp)\n",
    "    save_mesh_stl(polydata, fp)"
   ]
  },
  {
   "cell_type": "markdown",
   "metadata": {},
   "source": [
    "# Load meshes of annotated specimens"
   ]
  },
  {
   "cell_type": "code",
   "execution_count": 9,
   "metadata": {
    "collapsed": true
   },
   "outputs": [],
   "source": [
    "warp_setting = 9"
   ]
  },
  {
   "cell_type": "code",
   "execution_count": null,
   "metadata": {
    "collapsed": false,
    "scrolled": true
   },
   "outputs": [],
   "source": [
    "moving_volume_alignedTo_fixed_volume_polydata_list = \\\n",
    "DataManager.load_meshes(stack_m=stack_moving, stack_f=stack_fixed, warp_setting=warp_setting, \n",
    "                       type_m='annotation_as_score', type_f='annotation_as_score', trial_idx=0, sided=True)"
   ]
  },
  {
   "cell_type": "code",
   "execution_count": 77,
   "metadata": {
    "collapsed": false
   },
   "outputs": [
    {
     "name": "stderr",
     "output_type": "stream",
     "text": [
      "load_mesh_stl: File does not exist /home/yuncong/CSHL_meshes/MD585/MD585_down32_annotationAsScoreVolume/MD585_down32_annotationAsScoreVolume_Sp5C_R.stl\n",
      "Mesh is empty: Sp5C_R.\n",
      "Error loading mesh for Sp5C_R.\n",
      "load_mesh_stl: File does not exist /home/yuncong/CSHL_meshes/MD585/MD585_down32_annotationAsScoreVolume/MD585_down32_annotationAsScoreVolume_sp5.stl\n",
      "Mesh is empty: sp5.\n",
      "Error loading mesh for sp5.\n",
      "load_mesh_stl: File does not exist /home/yuncong/CSHL_meshes/MD585/MD585_down32_annotationAsScoreVolume/MD585_down32_annotationAsScoreVolume_outerContour.stl\n",
      "Mesh is empty: outerContour.\n",
      "Error loading mesh for outerContour.\n"
     ]
    }
   ],
   "source": [
    "# Load moving volume\n",
    "\n",
    "moving_volume_polydata_list = DataManager.load_meshes(stack_m=stack_moving, type_m='annotation_as_score', \n",
    "                                                      trial_idx=None,\n",
    "                                                     sided=True)"
   ]
  },
  {
   "cell_type": "code",
   "execution_count": 78,
   "metadata": {
    "collapsed": false
   },
   "outputs": [
    {
     "name": "stderr",
     "output_type": "stream",
     "text": [
      "load_mesh_stl: File does not exist /home/yuncong/CSHL_meshes/MD589/MD589_down32_annotationAsScoreVolume/MD589_down32_annotationAsScoreVolume_sp5.stl\n",
      "Mesh is empty: sp5.\n",
      "Error loading mesh for sp5.\n",
      "load_mesh_stl: File does not exist /home/yuncong/CSHL_meshes/MD589/MD589_down32_annotationAsScoreVolume/MD589_down32_annotationAsScoreVolume_outerContour.stl\n",
      "Mesh is empty: outerContour.\n",
      "Error loading mesh for outerContour.\n"
     ]
    }
   ],
   "source": [
    "# Load fixed volume\n",
    "\n",
    "fixed_volume_polydata_list = DataManager.load_meshes(stack_m=stack_fixed, type_m='annotation_as_score', \n",
    "                                                      trial_idx=None,\n",
    "                                                     sided=True)"
   ]
  },
  {
   "cell_type": "code",
   "execution_count": 10,
   "metadata": {
    "collapsed": false
   },
   "outputs": [],
   "source": [
    "# # Show each structure in one color\n",
    "\n",
    "# volume_m_alignedTo_f_mesh_actors = [actor_mesh(polydata, colors[convert_name_to_unsided(name_s)], wireframe=True, opacity=1.) \n",
    "#                for name_s, polydata in moving_volume_alignedTo_fixed_volume_polydata_list.iteritems()]\n",
    "\n",
    "# volume_f_mesh_actors = [actor_mesh(polydata, colors[convert_name_to_unsided(name_s)], wireframe=True, opacity=1.) \n",
    "#                for name_s, polydata in fixed_volume_polydata_list.iteritems()]\n",
    "\n",
    "# launch_vtk(volume_m_alignedTo_f_mesh_actors + volume_f_mesh_actors)"
   ]
  },
  {
   "cell_type": "code",
   "execution_count": 50,
   "metadata": {
    "collapsed": false
   },
   "outputs": [],
   "source": [
    "# # Show each brain in one color\n",
    "\n",
    "# volume_m_alignedTo_f_mesh_actors = [actor_mesh(polydata, (1,0,1), wireframe=False, opacity=.5) \n",
    "#                for name_s, polydata in moving_volume_alignedTo_fixed_volume_polydata_list.iteritems()]\n",
    "\n",
    "# volume_f_mesh_actors = [actor_mesh(polydata, (0,0,1), wireframe=True, opacity=.5, \n",
    "#                                    origin=(0,0,0)) \n",
    "#                for name_s, polydata in fixed_volume_polydata_list.iteritems()]\n",
    "\n",
    "# volume_m_mesh_actors = [actor_mesh(polydata, (0,1,1), wireframe=True, opacity=.5,\n",
    "#                                   origin=(0,0,0)) \n",
    "#                for name_s, polydata in moving_volume_polydata_list.iteritems()]"
   ]
  },
  {
   "cell_type": "code",
   "execution_count": 43,
   "metadata": {
    "collapsed": false
   },
   "outputs": [],
   "source": [
    "# launch_vtk(volume_m_alignedTo_f_mesh_actors + volume_f_mesh_actors + volume_m_mesh_actors)"
   ]
  },
  {
   "cell_type": "code",
   "execution_count": 71,
   "metadata": {
    "collapsed": true
   },
   "outputs": [],
   "source": [
    "# launch_vtk(volume_m_alignedTo_f_mesh_actors + volume_f_mesh_actors)"
   ]
  },
  {
   "cell_type": "code",
   "execution_count": 66,
   "metadata": {
    "collapsed": true
   },
   "outputs": [],
   "source": [
    "# launch_vtk(volume_f_mesh_actors + volume_m_mesh_actors, init_angle='30')"
   ]
  },
  {
   "cell_type": "code",
   "execution_count": 79,
   "metadata": {
    "collapsed": false
   },
   "outputs": [],
   "source": [
    "launch_vtk(\n",
    "        [actor_mesh(polydata, (0,0,1), wireframe=True, opacity=1) \n",
    "             for name_s, polydata in fixed_volume_polydata_list.iteritems()] + \\\n",
    "           \n",
    "           [actor_mesh(polydata, (0,1,0), wireframe=True, opacity=1)\n",
    "               for name_s, polydata in moving_volume_alignedTo_fixed_volume_polydata_list.iteritems()] + \\\n",
    "    \n",
    "    [actor_mesh(polydata, (1,0,0), wireframe=True, opacity=1)\n",
    "               for name_s, polydata in moving_volume_polydata_list.iteritems()],\n",
    "           \n",
    "#           [actor_mesh(polydata, structure_colors[convert_name_to_unsided(n)]/255., origin=canonical_centroid) \n",
    "#                     for n, polydata in atlas_space_structure_meshes.iteritems()])\n",
    "#            [actor_mesh(polydata, color=(1,1,1), wireframe=True, origin=canonical_centroid) \n",
    "#                     for n, polydata in atlas_space_structure_meshes.iteritems()] + \\\n",
    "#             [actor_mesh(shell_polydata, opacity=.2)],\n",
    "          init_angle='horizontal_topDown')"
   ]
  },
  {
   "cell_type": "markdown",
   "metadata": {},
   "source": [
    "# Load meshes of annotated specimens (more than two stacks)"
   ]
  },
  {
   "cell_type": "code",
   "execution_count": 4,
   "metadata": {
    "collapsed": true
   },
   "outputs": [],
   "source": [
    "warp_setting = 9"
   ]
  },
  {
   "cell_type": "code",
   "execution_count": 5,
   "metadata": {
    "collapsed": true
   },
   "outputs": [],
   "source": [
    "stack_fixed = 'MD589'\n",
    "stacks_moving = ['MD585', 'MD594']"
   ]
  },
  {
   "cell_type": "code",
   "execution_count": 6,
   "metadata": {
    "collapsed": false
   },
   "outputs": [
    {
     "name": "stderr",
     "output_type": "stream",
     "text": [
      "load_mesh_stl: File does not exist /home/yuncong/CSHL_meshes/MD585/MD585_down32_annotationAsScoreVolume_warp_9_MD589_down32_annotationAsScoreVolume_trial_0/MD585_down32_annotationAsScoreVolume_warp_9_MD589_down32_annotationAsScoreVolume_trial_0_Sp5C_R.stl\n",
      "Mesh is empty: Sp5C_R.\n",
      "Error loading mesh for Sp5C_R.\n",
      "load_mesh_stl: File does not exist /home/yuncong/CSHL_meshes/MD585/MD585_down32_annotationAsScoreVolume_warp_9_MD589_down32_annotationAsScoreVolume_trial_0/MD585_down32_annotationAsScoreVolume_warp_9_MD589_down32_annotationAsScoreVolume_trial_0_sp5.stl\n",
      "Mesh is empty: sp5.\n",
      "Error loading mesh for sp5.\n",
      "load_mesh_stl: File does not exist /home/yuncong/CSHL_meshes/MD585/MD585_down32_annotationAsScoreVolume_warp_9_MD589_down32_annotationAsScoreVolume_trial_0/MD585_down32_annotationAsScoreVolume_warp_9_MD589_down32_annotationAsScoreVolume_trial_0_outerContour.stl\n",
      "Mesh is empty: outerContour.\n",
      "Error loading mesh for outerContour.\n",
      "load_mesh_stl: File does not exist /home/yuncong/CSHL_meshes/MD594/MD594_down32_annotationAsScoreVolume_warp_9_MD589_down32_annotationAsScoreVolume_trial_0/MD594_down32_annotationAsScoreVolume_warp_9_MD589_down32_annotationAsScoreVolume_trial_0_sp5.stl\n",
      "Mesh is empty: sp5.\n",
      "Error loading mesh for sp5.\n",
      "load_mesh_stl: File does not exist /home/yuncong/CSHL_meshes/MD594/MD594_down32_annotationAsScoreVolume_warp_9_MD589_down32_annotationAsScoreVolume_trial_0/MD594_down32_annotationAsScoreVolume_warp_9_MD589_down32_annotationAsScoreVolume_trial_0_outerContour.stl\n",
      "Mesh is empty: outerContour.\n",
      "Error loading mesh for outerContour.\n"
     ]
    }
   ],
   "source": [
    "# These origins are with respect to aligned uncropped specimen space.\n",
    "\n",
    "moving_volume_alignedTo_fixed_volume_polydata_list_all_stacks = \\\n",
    "{stack_moving: \\\n",
    "DataManager.load_meshes(stack_m=stack_moving, stack_f=stack_fixed, warp_setting=warp_setting, \n",
    "                       type_m='annotation_as_score', type_f='annotation_as_score', trial_idx=0, sided=True)\n",
    "    for stack_moving in stacks_moving}"
   ]
  },
  {
   "cell_type": "markdown",
   "metadata": {},
   "source": [
    "# Generate atlas (average shapes at average positions)"
   ]
  },
  {
   "cell_type": "code",
   "execution_count": 7,
   "metadata": {
    "collapsed": true
   },
   "outputs": [],
   "source": [
    "centroid_allLandmarks = defaultdict(list)\n",
    "polydata_list_allLandmarks = {}\n",
    "average_polydata_allLandmarks = {}\n",
    "prob_shape_allLandmarks = {}\n",
    "prob_shape_origin_allLandmarks = {}"
   ]
  },
  {
   "cell_type": "code",
   "execution_count": 8,
   "metadata": {
    "collapsed": false,
    "scrolled": true
   },
   "outputs": [
    {
     "name": "stdout",
     "output_type": "stream",
     "text": [
      "5N\n"
     ]
    },
    {
     "name": "stderr",
     "output_type": "stream",
     "text": [
      "icp: 4.24\n",
      "icp: 5.72\n",
      "icp: 5.71\n",
      "icp: 6.94\n",
      "icp: 6.73\n",
      "polydata_to_volume: 0.00\n",
      "polydata_to_volume: 0.00\n",
      "polydata_to_volume: 0.00\n",
      "polydata_to_volume: 0.00\n",
      "polydata_to_volume: 0.00\n",
      "polydata_to_volume: 0.00\n",
      "find common: 0.00\n",
      "marching cube: 0.02 seconds\n",
      "mesh_to_polydata: 0.01 seconds\n",
      "simplify 0 @ 6468: 0.06 seconds\n",
      "simplify 1 @ 1295: 0.06 seconds\n",
      "simplify 2 @ 260: 0.01 seconds\n",
      "volume_to_polydata: 0.16\n"
     ]
    },
    {
     "name": "stdout",
     "output_type": "stream",
     "text": [
      "6N\n"
     ]
    },
    {
     "name": "stderr",
     "output_type": "stream",
     "text": [
      "icp: 1.44\n",
      "icp: 0.39\n",
      "icp: 3.53\n",
      "icp: 0.73\n",
      "icp: 1.07\n",
      "polydata_to_volume: 0.00\n",
      "polydata_to_volume: 0.00\n",
      "polydata_to_volume: 0.00\n",
      "polydata_to_volume: 0.00\n",
      "polydata_to_volume: 0.00\n",
      "polydata_to_volume: 0.00\n",
      "find common: 0.00\n",
      "marching cube: 0.00 seconds\n",
      "mesh_to_polydata: 0.00 seconds\n",
      "simplify 0 @ 763: 0.01 seconds\n",
      "volume_to_polydata: 0.02\n"
     ]
    },
    {
     "name": "stdout",
     "output_type": "stream",
     "text": [
      "7N\n"
     ]
    },
    {
     "name": "stderr",
     "output_type": "stream",
     "text": [
      "icp: 10.18\n",
      "icp: 8.87\n",
      "icp: 13.08\n",
      "icp: 11.87\n",
      "icp: 13.21\n",
      "polydata_to_volume: 0.00\n",
      "polydata_to_volume: 0.00\n",
      "polydata_to_volume: 0.00\n",
      "polydata_to_volume: 0.00\n",
      "polydata_to_volume: 0.01\n",
      "polydata_to_volume: 0.00\n",
      "find common: 0.01\n",
      "marching cube: 0.03 seconds\n",
      "mesh_to_polydata: 0.02 seconds\n",
      "simplify 0 @ 10980: 0.10 seconds\n",
      "simplify 1 @ 2197: 0.09 seconds\n",
      "simplify 2 @ 441: 0.02 seconds\n",
      "volume_to_polydata: 0.26\n"
     ]
    },
    {
     "name": "stdout",
     "output_type": "stream",
     "text": [
      "7n\n"
     ]
    },
    {
     "name": "stderr",
     "output_type": "stream",
     "text": [
      "icp: 8.86\n",
      "icp: 10.53\n",
      "icp: 10.44\n",
      "icp: 7.93\n",
      "icp: 12.34\n",
      "polydata_to_volume: 0.01\n",
      "polydata_to_volume: 0.01\n",
      "polydata_to_volume: 0.01\n",
      "polydata_to_volume: 0.01\n",
      "polydata_to_volume: 0.01\n",
      "polydata_to_volume: 0.01\n",
      "find common: 0.03\n",
      "marching cube: 0.10 seconds\n",
      "mesh_to_polydata: 0.01 seconds\n",
      "simplify 0 @ 9320: 0.08 seconds\n",
      "simplify 1 @ 1865: 0.15 seconds\n",
      "simplify 2 @ 374: 0.03 seconds\n",
      "volume_to_polydata: 0.39\n"
     ]
    },
    {
     "name": "stdout",
     "output_type": "stream",
     "text": [
      "Amb\n"
     ]
    },
    {
     "name": "stderr",
     "output_type": "stream",
     "text": [
      "icp: 2.07\n",
      "icp: 1.43\n",
      "icp: 4.11\n",
      "icp: 2.25\n",
      "icp: 4.44\n",
      "polydata_to_volume: 0.00\n",
      "polydata_to_volume: 0.00\n",
      "polydata_to_volume: 0.00\n",
      "polydata_to_volume: 0.00\n",
      "polydata_to_volume: 0.00\n",
      "polydata_to_volume: 0.00\n",
      "find common: 0.00\n",
      "marching cube: 0.01 seconds\n",
      "mesh_to_polydata: 0.00 seconds\n",
      "simplify 0 @ 969: 0.02 seconds\n",
      "volume_to_polydata: 0.04\n"
     ]
    },
    {
     "name": "stdout",
     "output_type": "stream",
     "text": [
      "LC\n"
     ]
    },
    {
     "name": "stderr",
     "output_type": "stream",
     "text": [
      "icp: 2.34\n",
      "icp: 6.11\n",
      "icp: 2.19\n",
      "icp: 2.33\n",
      "icp: 1.99\n",
      "polydata_to_volume: 0.00\n",
      "polydata_to_volume: 0.00\n",
      "polydata_to_volume: 0.00\n",
      "polydata_to_volume: 0.00\n",
      "polydata_to_volume: 0.00\n",
      "polydata_to_volume: 0.00\n",
      "find common: 0.00\n",
      "marching cube: 0.03 seconds\n",
      "mesh_to_polydata: 0.01 seconds\n",
      "simplify 0 @ 3698: 0.04 seconds\n",
      "simplify 1 @ 741: 0.03 seconds\n",
      "volume_to_polydata: 0.11\n"
     ]
    },
    {
     "name": "stdout",
     "output_type": "stream",
     "text": [
      "LRt\n"
     ]
    },
    {
     "name": "stderr",
     "output_type": "stream",
     "text": [
      "icp: 13.13\n",
      "icp: 28.98\n",
      "icp: 3.06\n",
      "icp: 10.69\n",
      "icp: 14.15\n",
      "polydata_to_volume: 0.01\n",
      "polydata_to_volume: 0.01\n",
      "polydata_to_volume: 0.04\n",
      "polydata_to_volume: 0.00\n",
      "polydata_to_volume: 0.01\n",
      "polydata_to_volume: 0.01\n",
      "find common: 0.10\n",
      "marching cube: 0.53 seconds\n",
      "mesh_to_polydata: 0.03 seconds\n",
      "simplify 0 @ 10602: 0.17 seconds\n",
      "simplify 1 @ 2122: 0.16 seconds\n",
      "simplify 2 @ 426: 0.03 seconds\n",
      "volume_to_polydata: 0.93\n"
     ]
    },
    {
     "name": "stdout",
     "output_type": "stream",
     "text": [
      "Pn\n"
     ]
    },
    {
     "name": "stderr",
     "output_type": "stream",
     "text": [
      "icp: 18.59\n",
      "icp: 20.97\n",
      "icp: 19.82\n",
      "icp: 16.09\n",
      "icp: 16.71\n",
      "polydata_to_volume: 0.02\n",
      "polydata_to_volume: 0.02\n",
      "polydata_to_volume: 0.02\n",
      "polydata_to_volume: 0.02\n",
      "polydata_to_volume: 0.02\n",
      "polydata_to_volume: 0.01\n",
      "find common: 0.02\n",
      "marching cube: 0.12 seconds\n",
      "mesh_to_polydata: 0.04 seconds\n",
      "simplify 0 @ 16186: 0.27 seconds\n",
      "simplify 1 @ 3238: 0.24 seconds\n",
      "simplify 2 @ 649: 0.05 seconds\n",
      "volume_to_polydata: 0.73\n"
     ]
    },
    {
     "name": "stdout",
     "output_type": "stream",
     "text": [
      "Tz\n"
     ]
    },
    {
     "name": "stderr",
     "output_type": "stream",
     "text": [
      "icp: 3.95\n",
      "icp: 5.84\n",
      "icp: 4.57\n",
      "icp: 4.43\n",
      "icp: 5.19\n",
      "polydata_to_volume: 0.00\n",
      "polydata_to_volume: 0.00\n",
      "polydata_to_volume: 0.00\n",
      "polydata_to_volume: 0.00\n",
      "polydata_to_volume: 0.00\n",
      "polydata_to_volume: 0.00\n",
      "find common: 0.00\n",
      "marching cube: 0.03 seconds\n",
      "mesh_to_polydata: 0.01 seconds\n",
      "simplify 0 @ 4603: 0.08 seconds\n",
      "simplify 1 @ 922: 0.06 seconds\n",
      "volume_to_polydata: 0.19\n"
     ]
    },
    {
     "name": "stdout",
     "output_type": "stream",
     "text": [
      "VLL\n"
     ]
    },
    {
     "name": "stderr",
     "output_type": "stream",
     "text": [
      "icp: 11.10\n",
      "icp: 13.76\n",
      "icp: 12.79\n",
      "icp: 16.45\n",
      "icp: 13.93\n",
      "polydata_to_volume: 0.01\n",
      "polydata_to_volume: 0.00\n",
      "polydata_to_volume: 0.00\n",
      "polydata_to_volume: 0.00\n",
      "polydata_to_volume: 0.00\n",
      "polydata_to_volume: 0.00\n",
      "find common: 0.02\n",
      "marching cube: 0.11 seconds\n",
      "mesh_to_polydata: 0.01 seconds\n",
      "simplify 0 @ 11729: 0.09 seconds\n",
      "simplify 1 @ 2347: 0.09 seconds\n",
      "simplify 2 @ 471: 0.02 seconds\n",
      "volume_to_polydata: 0.33\n"
     ]
    },
    {
     "name": "stdout",
     "output_type": "stream",
     "text": [
      "RMC\n"
     ]
    },
    {
     "name": "stderr",
     "output_type": "stream",
     "text": [
      "icp: 5.16\n",
      "icp: 6.40\n",
      "icp: 6.44\n",
      "icp: 3.77\n",
      "icp: 5.46\n",
      "polydata_to_volume: 0.00\n",
      "polydata_to_volume: 0.01\n",
      "polydata_to_volume: 0.00\n",
      "polydata_to_volume: 0.01\n",
      "polydata_to_volume: 0.00\n",
      "polydata_to_volume: 0.00\n",
      "find common: 0.01\n",
      "marching cube: 0.07 seconds\n",
      "mesh_to_polydata: 0.02 seconds\n",
      "simplify 0 @ 5880: 0.10 seconds\n",
      "simplify 1 @ 1177: 0.09 seconds\n",
      "simplify 2 @ 237: 0.02 seconds\n",
      "volume_to_polydata: 0.30\n"
     ]
    },
    {
     "name": "stdout",
     "output_type": "stream",
     "text": [
      "SNC\n"
     ]
    },
    {
     "name": "stderr",
     "output_type": "stream",
     "text": [
      "icp: 7.83\n",
      "icp: 5.66\n",
      "icp: 5.77\n",
      "icp: 7.69\n",
      "icp: 8.76\n",
      "polydata_to_volume: 0.00\n",
      "polydata_to_volume: 0.00\n",
      "polydata_to_volume: 0.00\n",
      "polydata_to_volume: 0.00\n",
      "polydata_to_volume: 0.00\n",
      "polydata_to_volume: 0.00\n",
      "find common: 0.01\n",
      "marching cube: 0.04 seconds\n",
      "mesh_to_polydata: 0.01 seconds\n",
      "simplify 0 @ 7428: 0.05 seconds\n",
      "simplify 1 @ 1487: 0.06 seconds\n",
      "simplify 2 @ 299: 0.01 seconds\n",
      "volume_to_polydata: 0.18\n"
     ]
    },
    {
     "name": "stdout",
     "output_type": "stream",
     "text": [
      "SNR\n"
     ]
    },
    {
     "name": "stderr",
     "output_type": "stream",
     "text": [
      "icp: 31.85\n",
      "icp: 31.06\n",
      "icp: 31.99\n",
      "icp: 34.47\n",
      "icp: 36.61\n",
      "polydata_to_volume: 0.01\n",
      "polydata_to_volume: 0.01\n",
      "polydata_to_volume: 0.01\n",
      "polydata_to_volume: 0.01\n",
      "polydata_to_volume: 0.01\n",
      "polydata_to_volume: 0.01\n",
      "find common: 0.04\n",
      "marching cube: 0.17 seconds\n",
      "mesh_to_polydata: 0.04 seconds\n",
      "simplify 0 @ 27045: 0.24 seconds\n",
      "simplify 1 @ 5410: 0.27 seconds\n",
      "simplify 2 @ 1083: 0.05 seconds\n",
      "volume_to_polydata: 0.77\n"
     ]
    },
    {
     "name": "stdout",
     "output_type": "stream",
     "text": [
      "3N\n"
     ]
    },
    {
     "name": "stderr",
     "output_type": "stream",
     "text": [
      "icp: 1.02\n",
      "icp: 1.28\n",
      "icp: 0.94\n",
      "icp: 1.05\n",
      "icp: 1.25\n",
      "polydata_to_volume: 0.00\n",
      "polydata_to_volume: 0.00\n",
      "polydata_to_volume: 0.00\n",
      "polydata_to_volume: 0.00\n",
      "polydata_to_volume: 0.00\n",
      "polydata_to_volume: 0.00\n",
      "find common: 0.00\n",
      "marching cube: 0.00 seconds\n",
      "mesh_to_polydata: 0.00 seconds\n",
      "simplify 0 @ 2191: 0.02 seconds\n",
      "simplify 1 @ 439: 0.01 seconds\n",
      "volume_to_polydata: 0.05\n"
     ]
    },
    {
     "name": "stdout",
     "output_type": "stream",
     "text": [
      "4N\n"
     ]
    },
    {
     "name": "stderr",
     "output_type": "stream",
     "text": [
      "icp: 0.97\n",
      "icp: 2.30\n",
      "icp: 3.99\n",
      "icp: 3.57\n",
      "icp: 2.46\n",
      "polydata_to_volume: 0.00\n",
      "polydata_to_volume: 0.00\n",
      "polydata_to_volume: 0.00\n",
      "polydata_to_volume: 0.00\n",
      "polydata_to_volume: 0.00\n",
      "polydata_to_volume: 0.00\n",
      "find common: 0.00\n",
      "marching cube: 0.00 seconds\n",
      "mesh_to_polydata: 0.00 seconds\n",
      "simplify 0 @ 562: 0.00 seconds\n",
      "volume_to_polydata: 0.01\n"
     ]
    },
    {
     "name": "stdout",
     "output_type": "stream",
     "text": [
      "Sp5I\n"
     ]
    },
    {
     "name": "stderr",
     "output_type": "stream",
     "text": [
      "icp: 6.73\n",
      "icp: 16.32\n",
      "icp: 3.19\n",
      "icp: 7.14\n",
      "icp: 10.18\n",
      "polydata_to_volume: 0.00\n",
      "polydata_to_volume: 0.00\n",
      "polydata_to_volume: 0.00\n",
      "polydata_to_volume: 0.00\n",
      "polydata_to_volume: 0.00\n",
      "polydata_to_volume: 0.00\n",
      "find common: 0.02\n",
      "marching cube: 0.08 seconds\n",
      "mesh_to_polydata: 0.01 seconds\n",
      "simplify 0 @ 9443: 0.10 seconds\n",
      "simplify 1 @ 1890: 0.07 seconds\n",
      "simplify 2 @ 379: 0.02 seconds\n",
      "volume_to_polydata: 0.29\n"
     ]
    },
    {
     "name": "stdout",
     "output_type": "stream",
     "text": [
      "Sp5O\n"
     ]
    },
    {
     "name": "stderr",
     "output_type": "stream",
     "text": [
      "icp: 7.82\n",
      "icp: 16.45\n",
      "icp: 7.87\n",
      "icp: 7.21\n",
      "icp: 9.20\n",
      "polydata_to_volume: 0.00\n",
      "polydata_to_volume: 0.00\n",
      "polydata_to_volume: 0.01\n",
      "polydata_to_volume: 0.00\n",
      "polydata_to_volume: 0.00\n",
      "polydata_to_volume: 0.00\n",
      "find common: 0.01\n",
      "marching cube: 0.10 seconds\n",
      "mesh_to_polydata: 0.03 seconds\n",
      "simplify 0 @ 11272: 0.25 seconds\n",
      "simplify 1 @ 2254: 0.11 seconds\n",
      "simplify 2 @ 452: 0.02 seconds\n",
      "volume_to_polydata: 0.52\n"
     ]
    },
    {
     "name": "stdout",
     "output_type": "stream",
     "text": [
      "Sp5C\n"
     ]
    },
    {
     "name": "stderr",
     "output_type": "stream",
     "text": [
      "icp: 35.88\n",
      "icp: 25.76\n",
      "icp: 37.92\n",
      "icp: 32.28\n",
      "polydata_to_volume: 0.01\n",
      "polydata_to_volume: 0.01\n",
      "polydata_to_volume: 0.01\n",
      "polydata_to_volume: 0.01\n",
      "polydata_to_volume: 0.01\n",
      "find common: 0.03\n",
      "marching cube: 0.17 seconds\n",
      "mesh_to_polydata: 0.04 seconds\n",
      "simplify 0 @ 25499: 0.26 seconds\n",
      "simplify 1 @ 5101: 0.26 seconds\n",
      "simplify 2 @ 1021: 0.05 seconds\n",
      "volume_to_polydata: 0.79\n"
     ]
    },
    {
     "name": "stdout",
     "output_type": "stream",
     "text": [
      "PBG\n"
     ]
    },
    {
     "name": "stderr",
     "output_type": "stream",
     "text": [
      "icp: 0.92\n",
      "icp: 2.73\n",
      "icp: 2.76\n",
      "icp: 3.06\n",
      "icp: 1.73\n",
      "polydata_to_volume: 0.00\n",
      "polydata_to_volume: 0.00\n",
      "polydata_to_volume: 0.00\n",
      "polydata_to_volume: 0.00\n",
      "polydata_to_volume: 0.00\n",
      "polydata_to_volume: 0.00\n",
      "find common: 0.00\n",
      "marching cube: 0.01 seconds\n",
      "mesh_to_polydata: 0.00 seconds\n",
      "simplify 0 @ 2186: 0.02 seconds\n",
      "simplify 1 @ 438: 0.02 seconds\n",
      "volume_to_polydata: 0.06\n"
     ]
    },
    {
     "name": "stdout",
     "output_type": "stream",
     "text": [
      "10N\n"
     ]
    },
    {
     "name": "stderr",
     "output_type": "stream",
     "text": [
      "icp: 3.88\n",
      "icp: 4.79\n",
      "icp: 3.10\n",
      "icp: 2.29\n",
      "icp: 0.40\n",
      "polydata_to_volume: 0.00\n",
      "polydata_to_volume: 0.00\n",
      "polydata_to_volume: 0.00\n",
      "polydata_to_volume: 0.00\n",
      "polydata_to_volume: 0.00\n",
      "polydata_to_volume: 0.00\n",
      "find common: 0.00\n",
      "marching cube: 0.02 seconds\n",
      "mesh_to_polydata: 0.00 seconds\n",
      "simplify 0 @ 3838: 0.03 seconds\n",
      "simplify 1 @ 769: 0.03 seconds\n",
      "volume_to_polydata: 0.09\n"
     ]
    },
    {
     "name": "stdout",
     "output_type": "stream",
     "text": [
      "VCA\n"
     ]
    },
    {
     "name": "stderr",
     "output_type": "stream",
     "text": [
      "icp: 14.57\n",
      "icp: 15.33\n",
      "icp: 14.19\n",
      "icp: 12.64\n",
      "icp: 15.20\n",
      "polydata_to_volume: 0.00\n",
      "polydata_to_volume: 0.00\n",
      "polydata_to_volume: 0.00\n",
      "polydata_to_volume: 0.00\n",
      "polydata_to_volume: 0.00\n",
      "polydata_to_volume: 0.00\n",
      "find common: 0.01\n",
      "marching cube: 0.05 seconds\n",
      "mesh_to_polydata: 0.02 seconds\n",
      "simplify 0 @ 12822: 0.12 seconds\n",
      "simplify 1 @ 2566: 0.11 seconds\n",
      "simplify 2 @ 514: 0.03 seconds\n",
      "volume_to_polydata: 0.33\n"
     ]
    },
    {
     "name": "stdout",
     "output_type": "stream",
     "text": [
      "VCP\n"
     ]
    },
    {
     "name": "stderr",
     "output_type": "stream",
     "text": [
      "icp: 6.78\n",
      "icp: 0.97\n",
      "icp: 7.22\n",
      "icp: 5.09\n",
      "icp: 8.43\n",
      "polydata_to_volume: 0.00\n",
      "polydata_to_volume: 0.00\n",
      "polydata_to_volume: 0.00\n",
      "polydata_to_volume: 0.00\n",
      "polydata_to_volume: 0.00\n",
      "polydata_to_volume: 0.00\n",
      "find common: 0.01\n",
      "marching cube: 0.06 seconds\n",
      "mesh_to_polydata: 0.02 seconds\n",
      "simplify 0 @ 6943: 0.11 seconds\n",
      "simplify 1 @ 1390: 0.10 seconds\n",
      "simplify 2 @ 281: 0.02 seconds\n",
      "volume_to_polydata: 0.31\n"
     ]
    },
    {
     "name": "stdout",
     "output_type": "stream",
     "text": [
      "DC\n"
     ]
    },
    {
     "name": "stderr",
     "output_type": "stream",
     "text": [
      "icp: 13.93\n",
      "icp: 13.98\n",
      "icp: 16.65\n",
      "icp: 15.72\n",
      "icp: 15.01\n",
      "polydata_to_volume: 0.01\n",
      "polydata_to_volume: 0.01\n",
      "polydata_to_volume: 0.01\n",
      "polydata_to_volume: 0.01\n",
      "polydata_to_volume: 0.01\n",
      "polydata_to_volume: 0.01\n",
      "find common: 0.01\n",
      "marching cube: 0.08 seconds\n",
      "mesh_to_polydata: 0.02 seconds\n",
      "simplify 0 @ 11629: 0.11 seconds\n",
      "simplify 1 @ 2327: 0.11 seconds\n",
      "simplify 2 @ 466: 0.02 seconds\n",
      "volume_to_polydata: 0.34\n"
     ]
    },
    {
     "name": "stdout",
     "output_type": "stream",
     "text": [
      "AP\n"
     ]
    },
    {
     "name": "stderr",
     "output_type": "stream",
     "text": [
      "icp: 1.43\n",
      "icp: 1.65\n",
      "icp: 1.44\n",
      "icp: 1.67\n",
      "icp: 1.84\n",
      "polydata_to_volume: 0.00\n",
      "polydata_to_volume: 0.00\n",
      "polydata_to_volume: 0.00\n",
      "polydata_to_volume: 0.00\n",
      "polydata_to_volume: 0.00\n",
      "polydata_to_volume: 0.00\n",
      "find common: 0.00\n",
      "marching cube: 0.01 seconds\n",
      "mesh_to_polydata: 0.00 seconds\n",
      "simplify 0 @ 2706: 0.03 seconds\n",
      "simplify 1 @ 542: 0.03 seconds\n",
      "volume_to_polydata: 0.08\n"
     ]
    },
    {
     "name": "stdout",
     "output_type": "stream",
     "text": [
      "12N\n"
     ]
    },
    {
     "name": "stderr",
     "output_type": "stream",
     "text": [
      "icp: 14.32\n",
      "icp: 12.87\n",
      "icp: 14.90\n",
      "icp: 12.75\n",
      "icp: 15.29\n",
      "polydata_to_volume: 0.00\n",
      "polydata_to_volume: 0.00\n",
      "polydata_to_volume: 0.00\n",
      "polydata_to_volume: 0.00\n",
      "polydata_to_volume: 0.01\n",
      "polydata_to_volume: 0.01\n",
      "find common: 0.01\n",
      "marching cube: 0.04 seconds\n",
      "mesh_to_polydata: 0.02 seconds\n",
      "simplify 0 @ 12106: 0.10 seconds\n",
      "simplify 1 @ 2422: 0.10 seconds\n",
      "simplify 2 @ 486: 0.02 seconds\n",
      "volume_to_polydata: 0.28\n"
     ]
    },
    {
     "name": "stdout",
     "output_type": "stream",
     "text": [
      "RtTg\n"
     ]
    },
    {
     "name": "stderr",
     "output_type": "stream",
     "text": [
      "icp: 36.84\n",
      "icp: 34.94\n",
      "icp: 35.10\n",
      "icp: 27.92\n",
      "icp: 36.86\n",
      "polydata_to_volume: 0.02\n",
      "polydata_to_volume: 0.02\n",
      "polydata_to_volume: 0.02\n",
      "polydata_to_volume: 0.02\n",
      "polydata_to_volume: 0.02\n",
      "polydata_to_volume: 0.02\n",
      "find common: 0.04\n",
      "marching cube: 0.17 seconds\n",
      "mesh_to_polydata: 0.04 seconds\n",
      "simplify 0 @ 26154: 0.26 seconds\n",
      "simplify 1 @ 5233: 0.27 seconds\n",
      "simplify 2 @ 1054: 0.06 seconds\n",
      "volume_to_polydata: 0.81\n",
      "load_mesh_stl: File does not exist /home/yuncong/CSHL_meshes/MD589/MD589_down32_annotationAsScoreVolume/MD589_down32_annotationAsScoreVolume_sp5.stl\n",
      "Mesh is empty: sp5.\n",
      "Error generating average shape for sp5\n",
      "load_mesh_stl: File does not exist /home/yuncong/CSHL_meshes/MD589/MD589_down32_annotationAsScoreVolume/MD589_down32_annotationAsScoreVolume_outerContour.stl\n",
      "Mesh is empty: outerContour.\n",
      "Error generating average shape for outerContour\n"
     ]
    },
    {
     "name": "stdout",
     "output_type": "stream",
     "text": [
      "sp5\n",
      "outerContour\n",
      "SC\n"
     ]
    },
    {
     "name": "stderr",
     "output_type": "stream",
     "text": [
      "icp: 216.28\n",
      "icp: 216.39\n",
      "icp: 243.46\n",
      "icp: 204.48\n",
      "icp: 70.23\n",
      "polydata_to_volume: 0.12\n",
      "polydata_to_volume: 0.11\n",
      "polydata_to_volume: 0.13\n",
      "polydata_to_volume: 0.13\n",
      "polydata_to_volume: 0.11\n",
      "polydata_to_volume: 0.12\n",
      "find common: 0.25\n",
      "marching cube: 1.17 seconds\n",
      "mesh_to_polydata: 0.32 seconds\n",
      "simplify 0 @ 114084: 2.31 seconds\n",
      "simplify 1 @ 22815: 2.16 seconds\n",
      "simplify 2 @ 4562: 0.44 seconds\n",
      "volume_to_polydata: 6.45\n"
     ]
    },
    {
     "name": "stdout",
     "output_type": "stream",
     "text": [
      "IC\n"
     ]
    },
    {
     "name": "stderr",
     "output_type": "stream",
     "text": [
      "icp: 105.54\n",
      "icp: 147.96\n",
      "icp: 139.57\n",
      "icp: 114.57\n",
      "icp: 126.06\n",
      "polydata_to_volume: 0.06\n",
      "polydata_to_volume: 0.06\n",
      "polydata_to_volume: 0.08\n",
      "polydata_to_volume: 0.08\n",
      "polydata_to_volume: 0.05\n",
      "polydata_to_volume: 0.06\n",
      "find common: 0.13\n",
      "marching cube: 0.51 seconds\n",
      "mesh_to_polydata: 0.11 seconds\n",
      "simplify 0 @ 73726: 0.93 seconds\n",
      "simplify 1 @ 14746: 0.85 seconds\n",
      "simplify 2 @ 2950: 0.17 seconds\n",
      "volume_to_polydata: 2.59\n"
     ]
    }
   ],
   "source": [
    "for name_u in all_known_structures:\n",
    "# for name_u in ['7N']:\n",
    "\n",
    "    print name_u\n",
    "    \n",
    "    #############################################################\n",
    "    ## Collect meshes of the same structure (both hemispheres) ##\n",
    "    #############################################################\n",
    "    \n",
    "    try:\n",
    "        \n",
    "        # Points in vertices_list and faces_list are wrt to aligned uncropped fixed specimen space.\n",
    "    \n",
    "        vertices_list = []\n",
    "        faces_list = []\n",
    "\n",
    "        if name_u in singular_structures: # If structure is singular\n",
    "\n",
    "            # Load the instance in fixed stack.\n",
    "            vertices, faces = DataManager.load_mesh(stack_m=stack_fixed, \n",
    "                                                    structure=name_u, \n",
    "                                                    type_m='annotation_as_score',\n",
    "                                                    return_polydata_only=False,\n",
    "                                                    trial_idx=None)\n",
    "\n",
    "\n",
    "            vertices_mirrored = vertices.copy()\n",
    "            zmean = vertices[:,2].mean(axis=0)\n",
    "            vertices_mirrored[:, 2] = - (vertices[:, 2] - zmean) + zmean # mirror L to align with R, keep zmin        \n",
    "\n",
    "            vertices_list.append(vertices)\n",
    "            faces_list.append(faces)\n",
    "\n",
    "            vertices_list.append(vertices_mirrored)\n",
    "            faces_list.append(faces)\n",
    "\n",
    "            centroid = vertices.mean(axis=0)\n",
    "            centroid_allLandmarks[name_u].append(centroid)\n",
    "\n",
    "            # Load instances in moving stacks.\n",
    "            for stack_moving in stacks_moving:\n",
    "\n",
    "                vertices, faces = DataManager.load_mesh(stack_m=stack_moving, \n",
    "                                                        type_m='annotation_as_score',\n",
    "                                                        stack_f=stack_fixed,\n",
    "                                                        type_f='annotation_as_score',\n",
    "                                                        structure=name_u, \n",
    "                                                        return_polydata_only=False,\n",
    "                                                        warp_setting=warp_setting)\n",
    "\n",
    "                vertices_mirrored = vertices.copy()\n",
    "                zmean = vertices[:,2].mean(axis=0)\n",
    "                vertices_mirrored[:, 2] = - (vertices[:, 2] - zmean) + zmean # mirror L to align with R, keep zmin        \n",
    "\n",
    "                vertices_list.append(vertices)\n",
    "                faces_list.append(faces)\n",
    "\n",
    "                vertices_list.append(vertices_mirrored)\n",
    "                faces_list.append(faces)\n",
    "\n",
    "                centroid = vertices.mean(axis=0)\n",
    "                centroid_allLandmarks[name_u].append(centroid)\n",
    "\n",
    "        else: # If structure is paired\n",
    "\n",
    "            lname = convert_to_left_name(name_u)\n",
    "            rname = convert_to_right_name(name_u)\n",
    "\n",
    "            label_to_name_f, name_to_label_f = DataManager.load_volume_label_to_name(stack_fixed)\n",
    "\n",
    "            # Load instances from fixed stack.\n",
    "            if lname in name_to_label_f:\n",
    "\n",
    "                vertices, faces = DataManager.load_mesh(stack_m=stack_fixed,\n",
    "                                                        type_m='annotation_as_score',\n",
    "                                                        structure=lname, \n",
    "                                                        return_polydata_only=False,\n",
    "                                                       trial_idx=None)\n",
    "\n",
    "                zmean = vertices[:,2].mean(axis=0)\n",
    "                vertices[:, 2] = - (vertices[:, 2] - zmean) + zmean # mirror L to align with R, keep zmin\n",
    "\n",
    "                vertices_list.append(vertices)\n",
    "                faces_list.append(faces)\n",
    "\n",
    "                centroid = vertices.mean(axis=0)\n",
    "                centroid_allLandmarks[lname].append(centroid)\n",
    "\n",
    "            if rname in name_to_label_f:\n",
    "\n",
    "                # !!! Right shape is used as the template !!!\n",
    "\n",
    "                vertices, faces = DataManager.load_mesh(stack_m=stack_fixed,\n",
    "                                                        type_m='annotation_as_score',\n",
    "                                                        structure=rname, \n",
    "                                                        return_polydata_only=False,\n",
    "                                                       trial_idx=None)\n",
    "\n",
    "                vertices_list.append(vertices)\n",
    "                faces_list.append(faces)\n",
    "\n",
    "                centroid = vertices.mean(axis=0)\n",
    "                centroid_allLandmarks[rname].append(centroid)\n",
    "\n",
    "            # Load instances from moving stacks.\n",
    "            for stack_moving in stacks_moving:\n",
    "\n",
    "                label_to_name_m, name_to_label_m = DataManager.load_volume_label_to_name(stack_moving)\n",
    "\n",
    "                if lname in name_to_label_m:\n",
    "\n",
    "                    vertices, faces = DataManager.load_mesh(stack_m=stack_moving,\n",
    "                                                            type_m='annotation_as_score',\n",
    "                                                            stack_f=stack_fixed, \n",
    "                                                            type_f='annotation_as_score',\n",
    "                                                            structure=lname, \n",
    "                                                            return_polydata_only=False,\n",
    "                                                           warp_setting=warp_setting)\n",
    "\n",
    "                    zmean = vertices[:,2].mean(axis=0)\n",
    "                    vertices[:, 2] = - (vertices[:, 2] - zmean) + zmean # mirror L to align with R, keep zmin\n",
    "\n",
    "                    vertices_list.append(vertices)\n",
    "                    faces_list.append(faces)\n",
    "\n",
    "\n",
    "                    centroid = vertices.mean(axis=0)\n",
    "                    centroid_allLandmarks[lname].append(centroid)\n",
    "\n",
    "                if rname in name_to_label_m:\n",
    "\n",
    "                    vertices, faces = DataManager.load_mesh(stack_m=stack_moving, type_m='annotation_as_score',\n",
    "                                                            stack_f=stack_fixed, type_f='annotation_as_score',\n",
    "                                                            structure=rname, \n",
    "                                                            return_polydata_only=False,\n",
    "                                                           warp_setting=warp_setting)\n",
    "\n",
    "                    vertices_list.append(vertices)\n",
    "                    faces_list.append(faces)\n",
    "\n",
    "                    centroid = vertices.mean(axis=0)\n",
    "                    centroid_allLandmarks[rname].append(centroid)\n",
    "\n",
    "\n",
    "        #############################################\n",
    "        ## Align meshes of all collected instances ##\n",
    "        #############################################\n",
    "        \n",
    "        # All meshes in vertices_aligned_list have vertex centroid at (0,0).\n",
    "        # In other words, all meshes are shifted such that vertex centroids coincide at a point defined as (0,0).\n",
    "        # Call this point the common centroid.\n",
    "        \n",
    "        vertices_aligned_list = [] \n",
    "\n",
    "        for i, vertices in enumerate(vertices_list):\n",
    "\n",
    "            #  Align all instances to the first instance\n",
    "            if i == 0:\n",
    "                vertices1 = vertices.copy()\n",
    "                vertices_aligned_list.append(vertices1 - vertices1.mean(axis=0))\n",
    "            else:            \n",
    "                t = time.time()                    \n",
    "                vertices_alignedTo1 = icp(fixed_pts=vertices1, moving_pts=vertices, num_iter=100, rotation_only=True)\n",
    "                sys.stderr.write('icp: %.2f\\n' % (time.time() - t))\n",
    "\n",
    "                vertices_aligned_list.append(vertices_alignedTo1 - vertices_alignedTo1.mean(axis=0))\n",
    "\n",
    "        ###########################\n",
    "        ## Compute average shape ##\n",
    "        ###########################\n",
    "    \n",
    "        # polydata_list, prob_shape_origin and average_polydata are wrt to the common centroid.\n",
    "        # prob_shape is a compact volume.\n",
    "        \n",
    "        polydata_list = [mesh_to_polydata(vs, fs) for vs, fs in zip(vertices_aligned_list, faces_list)]\n",
    "        prob_shape, prob_shape_origin, average_polydata = average_shape(polydata_list, \n",
    "                                                                        consensus_percentage=.5,\n",
    "                                                                        num_simplify_iter=3, smooth=True)\n",
    "        \n",
    "        polydata_list_allLandmarks[name_u] = polydata_list\n",
    "        average_polydata_allLandmarks[name_u] = average_polydata\n",
    "        prob_shape_allLandmarks[name_u] = prob_shape\n",
    "        prob_shape_origin_allLandmarks[name_u] = prob_shape_origin\n",
    "\n",
    "    except Exception as e:\n",
    "        sys.stderr.write('%s\\n' % e)\n",
    "        sys.stderr.write('Error generating average shape for %s\\n' % name_u)"
   ]
  },
  {
   "cell_type": "markdown",
   "metadata": {},
   "source": [
    "# Visualize (1) individual instances (2) aligned instances (3) probabilistic shape (4) thresholded shape"
   ]
  },
  {
   "cell_type": "code",
   "execution_count": 9,
   "metadata": {
    "collapsed": false,
    "scrolled": true
   },
   "outputs": [
    {
     "name": "stdout",
     "output_type": "stream",
     "text": [
      "Tz\n",
      "VCA\n",
      "7n\n",
      "DC\n",
      "5N\n",
      "3N\n",
      "Pn\n",
      "10N\n",
      "LC\n",
      "7N\n",
      "Amb\n",
      "12N\n",
      "RMC\n",
      "Sp5O\n",
      "Sp5I\n",
      "Sp5C\n",
      "VCP\n",
      "AP\n",
      "PBG\n",
      "LRt\n",
      "IC\n",
      "VLL\n",
      "4N\n",
      "SNC\n",
      "6N\n",
      "SNR\n",
      "SC\n",
      "RtTg\n"
     ]
    }
   ],
   "source": [
    "instance_colors = [(1,0,0),(0,1,0),(0,0,1),(1,1,0),(0,1,1),(1,0,1)] # assume each structure has at most 6 instances.\n",
    "\n",
    "for structure in polydata_list_allLandmarks.keys():\n",
    "    \n",
    "    print structure\n",
    "    \n",
    "    for direction in ['coronal', 'sagittal', 'horizontal']:\n",
    "\n",
    "        # Show each instance separately\n",
    "\n",
    "        for i, polydata in enumerate(polydata_list_allLandmarks[structure]):\n",
    "            instance_actors = actor_mesh(polydata, instance_colors[i], opacity=1, wireframe=False)\n",
    "\n",
    "            fp = DataManager.get_prob_shape_viz_filepath(stack_m=atlas_name, trial_idx=None, \n",
    "                                                         structure=structure, suffix=direction+'_'+str(i))\n",
    "            create_parent_dir_if_not_exists(fp)\n",
    "            launch_vtk([instance_actors], snapshot_fn=fp, interactive=False, init_angle=direction)\n",
    "\n",
    "        # Show different instances shown aligned together\n",
    "\n",
    "        instance_actors = [actor_mesh(polydata, instance_colors[i], opacity=1., wireframe=True) \n",
    "                           for i, polydata in enumerate(polydata_list_allLandmarks[structure])]\n",
    "\n",
    "        icp_fp = DataManager.get_prob_shape_viz_filepath(stack_m=atlas_name, trial_idx=None, \n",
    "                                                         structure=structure, suffix=direction+'_icpAligned')\n",
    "        launch_vtk(instance_actors, snapshot_fn=icp_fp, interactive=False, init_angle=direction)\n",
    "\n",
    "        # Show voxel-voted probabilistic shape\n",
    "\n",
    "        prob_shape_actor = actor_volume(prob_shape_allLandmarks[structure].astype(np.float32), \n",
    "                                        what='probability', origin=prob_shape_origin_allLandmarks[structure])\n",
    "\n",
    "        prob_shape_fp = DataManager.get_prob_shape_viz_filepath(stack_m=atlas_name, trial_idx=None, \n",
    "                                                         structure=structure, suffix=direction+'_probShape')\n",
    "        launch_vtk([prob_shape_actor], snapshot_fn=prob_shape_fp, interactive=False, init_angle=direction)\n",
    "\n",
    "        # Show voxel-voted probabilistic shape, thresholded at .5\n",
    "\n",
    "        actor = actor_mesh(average_polydata_allLandmarks[structure], [1,1,1], opacity=1, wireframe=True)\n",
    "        thresh_shape_fp = DataManager.get_prob_shape_viz_filepath(stack_m=atlas_name, trial_idx=None, \n",
    "                                                                structure=structure, suffix=direction+'_thresh0.5')\n",
    "        launch_vtk([actor], snapshot_fn=thresh_shape_fp, interactive=False, init_angle=direction)"
   ]
  },
  {
   "cell_type": "markdown",
   "metadata": {},
   "source": [
    "# Compute average position"
   ]
  },
  {
   "cell_type": "code",
   "execution_count": 10,
   "metadata": {
    "collapsed": false
   },
   "outputs": [
    {
     "name": "stdout",
     "output_type": "stream",
     "text": [
      "[ 0.04472321 -0.08497962  0.99537849] @ [ 797.66809082  377.65426636  308.38711548]\n"
     ]
    }
   ],
   "source": [
    "canonical_locations, canonical_centroid, canonical_normal = average_location(centroid_allLandmarks)\n",
    "# canonical locations are with respect to canonical centroid\n",
    "# canonical centroid is with respect to the aligned uncropped volume of MD589"
   ]
  },
  {
   "cell_type": "code",
   "execution_count": 11,
   "metadata": {
    "collapsed": false
   },
   "outputs": [
    {
     "name": "stdout",
     "output_type": "stream",
     "text": [
      "deviation angle: 5.51057\n"
     ]
    }
   ],
   "source": [
    "print 'deviation angle:', np.rad2deg(np.arccos(canonical_normal[2]))"
   ]
  },
  {
   "cell_type": "code",
   "execution_count": 12,
   "metadata": {
    "collapsed": false
   },
   "outputs": [],
   "source": [
    "atlas_space_structure_volumes = {}\n",
    "atlas_space_structure_meshes = {}\n",
    "\n",
    "for name_s in name_to_label_f.iterkeys():\n",
    "    \n",
    "    name_u = convert_name_to_unsided(name_s)\n",
    "    \n",
    "    prob_shape = prob_shape_allLandmarks[name_u]\n",
    "    prob_shape_origin = prob_shape_origin_allLandmarks[name_u]\n",
    "    average_polydata = average_polydata_allLandmarks[name_u]\n",
    "    \n",
    "    vs, fs = polydata_to_mesh(average_polydata)\n",
    "    \n",
    "    canonical_structure_centroid = canonical_locations[name_s]\n",
    "    \n",
    "    if name_s in singular_structures or '_R' in name_s:\n",
    "        # singular or LEFT - don't need mirroring\n",
    "    \n",
    "        atlas_space_structure_volumes[name_s] = (prob_shape, \n",
    "                                            canonical_structure_centroid + prob_shape_origin)    \n",
    "        atlas_space_structure_meshes[name_s] = mesh_to_polydata(vs + canonical_structure_centroid, fs)\n",
    "        # mesh has \"canonical centroid\" as the origin\n",
    "\n",
    "    else:\n",
    "        # RIGHT - need mirroring\n",
    "        \n",
    "        atlas_space_structure_volumes[name_s] = mirror_volume(prob_shape, \n",
    "                                             canonical_structure_centroid + prob_shape_origin*(1,1,-1))\n",
    "        atlas_space_structure_meshes[name_s] = mesh_to_polydata(vs*(1,1,-1) + canonical_structure_centroid, fs)"
   ]
  },
  {
   "cell_type": "code",
   "execution_count": 13,
   "metadata": {
    "collapsed": false
   },
   "outputs": [],
   "source": [
    "# Save atlas structure meshes\n",
    "\n",
    "for name_s, mesh in atlas_space_structure_meshes.iteritems():\n",
    "    fp = DataManager.get_mesh_filepath(stack_m=atlas_name, structure=name_s, trial_idx=None)\n",
    "    create_parent_dir_if_not_exists(fp)\n",
    "    save_mesh_stl(mesh, fp)"
   ]
  },
  {
   "cell_type": "code",
   "execution_count": 14,
   "metadata": {
    "collapsed": false
   },
   "outputs": [],
   "source": [
    "# Save atlas structure volumes - individual structures\n",
    "\n",
    "for name_s, (volume, origin) in atlas_space_structure_volumes.iteritems():\n",
    "    fp = DataManager.get_prob_shape_volume_filepath(stack_m=atlas_name, structure=name_s, trial_idx=None)\n",
    "    create_parent_dir_if_not_exists(fp)\n",
    "    bp.pack_ndarray_file(volume, fp)\n",
    "    \n",
    "    origin_fp = DataManager.get_prob_shape_origin_filepath(stack_m=atlas_name, structure=name_s, trial_idx=None)\n",
    "    create_parent_dir_if_not_exists(origin_fp)\n",
    "#     print origin_fp\n",
    "    np.savetxt(origin_fp, origin)"
   ]
  },
  {
   "cell_type": "code",
   "execution_count": 15,
   "metadata": {
    "collapsed": true
   },
   "outputs": [],
   "source": [
    "write_dict_to_txt(canonical_locations, os.path.join(MESH_ROOTDIR, atlas_name, 'canonical_locations.txt'))\n",
    "np.savetxt(os.path.join(MESH_ROOTDIR, atlas_name, 'canonical_centroid.txt'), canonical_centroid)\n",
    "np.savetxt(os.path.join(MESH_ROOTDIR, atlas_name, 'canonical_normal.txt'), canonical_normal)"
   ]
  },
  {
   "cell_type": "markdown",
   "metadata": {},
   "source": [
    "# Generate Reference Model"
   ]
  },
  {
   "cell_type": "code",
   "execution_count": 23,
   "metadata": {
    "collapsed": true
   },
   "outputs": [],
   "source": [
    "# paired_structures = ['5N', '6N', '7N', '7n', 'Amb', 'LC', 'LRt', 'Pn', 'Tz', 'VLL', 'RMC', 'SNC', 'SNR', '3N', '4N',\n",
    "#                     'Sp5I', 'Sp5O', 'Sp5C', 'PBG', '10N', 'VCA', 'VCP', 'DC']\n",
    "# singular_structures = ['AP', '12N', 'RtTg', 'SC', 'IC']\n",
    "# structures = paired_structures + singular_structures\n",
    "\n",
    "# structures_sided = sum([[n] if n in singular_structures else [convert_to_left_name(n), convert_to_right_name(n)]\n",
    "#                         for n in structures], [])"
   ]
  },
  {
   "cell_type": "code",
   "execution_count": 16,
   "metadata": {
    "collapsed": false
   },
   "outputs": [],
   "source": [
    "structure_sided_to_color = {n: np.random.randint(0, 255, (3,)) for n in all_known_structures_sided}\n",
    "structure_to_color = {n: np.random.randint(0, 255, (3,)) for n in all_known_structures}"
   ]
  },
  {
   "cell_type": "code",
   "execution_count": 17,
   "metadata": {
    "collapsed": false
   },
   "outputs": [
    {
     "name": "stdout",
     "output_type": "stream",
     "text": [
      "annotation volume bbox : 622 1042 155 502 127 503\n"
     ]
    }
   ],
   "source": [
    "ann_vol_xmin, ann_vol_xmax, ann_vol_ymin, ann_vol_ymax, ann_vol_zmin, ann_vol_zmax = \\\n",
    "DataManager.load_volume_bbox(stack=stack_fixed, type='annotation', downscale=32)\n",
    "\n",
    "print 'annotation volume bbox :', ann_vol_xmin, ann_vol_xmax, ann_vol_ymin, ann_vol_ymax, ann_vol_zmin, ann_vol_zmax"
   ]
  },
  {
   "cell_type": "code",
   "execution_count": 18,
   "metadata": {
    "collapsed": false
   },
   "outputs": [],
   "source": [
    "prob_volume_structure_bboxes = {}\n",
    "for name_s, (volume, origin) in atlas_space_structure_volumes.iteritems():\n",
    "    ydim, xdim, zdim = volume.shape\n",
    "    x, y, z = np.round(origin + canonical_centroid - \\\n",
    "            (ann_vol_xmin, ann_vol_ymin, ann_vol_zmin)).astype(np.int)\n",
    "    prob_volume_structure_bboxes[name_s] = ( x, x+xdim-1, y, y+ydim-1, z, z+zdim-1)"
   ]
  },
  {
   "cell_type": "code",
   "execution_count": 19,
   "metadata": {
    "collapsed": false,
    "scrolled": true
   },
   "outputs": [
    {
     "name": "stdout",
     "output_type": "stream",
     "text": [
      "prob volume bbox: -7 422 -3 369 -3 365\n"
     ]
    }
   ],
   "source": [
    "bboxes = np.array([bbox for n, bbox in prob_volume_structure_bboxes.iteritems()])\n",
    "prob_vol_xmin, prob_vol_ymin, prob_vol_zmin = np.min(bboxes[:, [0,2,4]], axis=0)\n",
    "prob_vol_xmax, prob_vol_ymax, prob_vol_zmax = np.max(bboxes[:, [1,3,5]], axis=0)\n",
    "print 'prob volume bbox:', prob_vol_xmin, prob_vol_xmax, prob_vol_ymin, prob_vol_ymax, prob_vol_zmin, prob_vol_zmax\n",
    "\n",
    "prob_vol_xdim = prob_vol_xmax + 1 - prob_vol_xmin\n",
    "prob_vol_ydim = prob_vol_ymax + 1 - prob_vol_ymin\n",
    "prob_vol_zdim = prob_vol_zmax + 1 - prob_vol_zmin"
   ]
  },
  {
   "cell_type": "code",
   "execution_count": 20,
   "metadata": {
    "collapsed": false
   },
   "outputs": [],
   "source": [
    "# Create an atlas proba. volume with all structures\n",
    "\n",
    "atlas_prob_volume_allLandmarks = {}\n",
    "\n",
    "for name_s, (volume, origin) in atlas_space_structure_volumes.iteritems():\n",
    "        \n",
    "    atlas_prob_volume = np.zeros((prob_vol_ydim, prob_vol_xdim, prob_vol_zdim), np.float16)\n",
    "    ydim, xdim, zdim = volume.shape\n",
    "\n",
    "    # Convert canonical locations to actual location\n",
    "    # Being lazy here: the z axis should be orthogonal to the canonical normal, but here I assume z axis is the original\n",
    "    \n",
    "    # Below\n",
    "    # first line: wrt aligned uncropped MD589\n",
    "    # second line: wrt annotation volume MD589\n",
    "    # third line: wrt atlas volume\n",
    "    x, y, z = np.round(origin + canonical_centroid - \\\n",
    "            (ann_vol_xmin, ann_vol_ymin, ann_vol_zmin) - \\\n",
    "            (prob_vol_xmin, prob_vol_ymin, prob_vol_zmin)).astype(np.int)\n",
    "    \n",
    "    atlas_prob_volume[y:y+ydim, x:x+xdim, z:z+zdim] = volume\n",
    "    \n",
    "    atlas_prob_volume_allLandmarks[name_s] = atlas_prob_volume"
   ]
  },
  {
   "cell_type": "code",
   "execution_count": 21,
   "metadata": {
    "collapsed": false,
    "scrolled": true
   },
   "outputs": [
    {
     "data": {
      "image/png": "[encoded data removed]",
      "text/plain": [
       "<matplotlib.figure.Figure at 0x7fd8e0e98950>"
      ]
     },
     "metadata": {},
     "output_type": "display_data"
    }
   ],
   "source": [
    "display_volume_sections(atlas_prob_volume_allLandmarks['Tz_L'], every=3)"
   ]
  },
  {
   "cell_type": "code",
   "execution_count": 22,
   "metadata": {
    "collapsed": false,
    "scrolled": true
   },
   "outputs": [],
   "source": [
    "# Save atlas score volume.\n",
    "\n",
    "for name_s, vol in atlas_prob_volume_allLandmarks.iteritems():\n",
    "    vol_fn = DataManager.get_volume_filepath(stack_m=atlas_name, structure=name_s, trial_idx=None)\n",
    "    create_parent_dir_if_not_exists(vol_fn)\n",
    "    bp.pack_ndarray_file(vol, vol_fn)"
   ]
  },
  {
   "cell_type": "code",
   "execution_count": 23,
   "metadata": {
    "collapsed": false,
    "scrolled": true
   },
   "outputs": [],
   "source": [
    "# Save atlas score volume bbox txt.\n",
    "\n",
    "for name_s, vol in atlas_prob_volume_allLandmarks.iteritems():\n",
    "    fn = DataManager.get_volume_bbox_filepath(stack_m=atlas_name, structure=name_s, trial_idx=None)\n",
    "    np.savetxt(fn, np.array([prob_vol_xmin, prob_vol_xmax, prob_vol_ymin, prob_vol_ymax, prob_vol_zmin, prob_vol_zmax])[None,:], fmt='%d')\n",
    "    # This is wrt MD589 annotation volume"
   ]
  },
  {
   "cell_type": "markdown",
   "metadata": {},
   "source": [
    "# Consider Surround"
   ]
  },
  {
   "cell_type": "code",
   "execution_count": 24,
   "metadata": {
    "collapsed": false,
    "scrolled": true
   },
   "outputs": [
    {
     "name": "stdout",
     "output_type": "stream",
     "text": [
      "surround size (in voxels): 13.5869565217\n"
     ]
    },
    {
     "name": "stderr",
     "output_type": "stream",
     "text": [
      "/home/yuncong/Brain/utilities/annotation_utilities.py:59: VisibleDeprecationWarning: using a non-integer number instead of an integer will result in an error in the future\n",
      "  roi = (vol > valid_level)[roi_ymin:roi_ymax+1, roi_xmin:roi_xmax+1, roi_zmin:roi_zmax+1]\n",
      "/home/yuncong/Brain/utilities/annotation_utilities.py:65: VisibleDeprecationWarning: using a non-integer number instead of an integer will result in an error in the future\n",
      "  surround_vol[roi_ymin:roi_ymax+1, roi_xmin:roi_xmax+1, roi_zmin:roi_zmax+1] = roi_surround_vol\n"
     ]
    },
    {
     "name": "stdout",
     "output_type": "stream",
     "text": [
      "/home/yuncong/CSHL_volumes/atlasV3/atlasV3_down32_scoreVolume/score_volumes/atlasV3_down32_scoreVolume_LRt_R_surround_200.bp\n",
      "/home/yuncong/CSHL_volumes/atlasV3/atlasV3_down32_scoreVolume/score_volumes/atlasV3_down32_scoreVolume_Sp5C_L_surround_200.bp\n",
      "/home/yuncong/CSHL_volumes/atlasV3/atlasV3_down32_scoreVolume/score_volumes/atlasV3_down32_scoreVolume_Pn_L_surround_200.bp\n",
      "/home/yuncong/CSHL_volumes/atlasV3/atlasV3_down32_scoreVolume/score_volumes/atlasV3_down32_scoreVolume_7N_R_surround_200.bp\n",
      "/home/yuncong/CSHL_volumes/atlasV3/atlasV3_down32_scoreVolume/score_volumes/atlasV3_down32_scoreVolume_PBG_L_surround_200.bp\n",
      "/home/yuncong/CSHL_volumes/atlasV3/atlasV3_down32_scoreVolume/score_volumes/atlasV3_down32_scoreVolume_VLL_L_surround_200.bp\n",
      "/home/yuncong/CSHL_volumes/atlasV3/atlasV3_down32_scoreVolume/score_volumes/atlasV3_down32_scoreVolume_VLL_R_surround_200.bp\n",
      "/home/yuncong/CSHL_volumes/atlasV3/atlasV3_down32_scoreVolume/score_volumes/atlasV3_down32_scoreVolume_7N_L_surround_200.bp\n",
      "/home/yuncong/CSHL_volumes/atlasV3/atlasV3_down32_scoreVolume/score_volumes/atlasV3_down32_scoreVolume_PBG_R_surround_200.bp\n",
      "/home/yuncong/CSHL_volumes/atlasV3/atlasV3_down32_scoreVolume/score_volumes/atlasV3_down32_scoreVolume_RtTg_surround_200.bp\n",
      "/home/yuncong/CSHL_volumes/atlasV3/atlasV3_down32_scoreVolume/score_volumes/atlasV3_down32_scoreVolume_Sp5C_R_surround_200.bp\n",
      "/home/yuncong/CSHL_volumes/atlasV3/atlasV3_down32_scoreVolume/score_volumes/atlasV3_down32_scoreVolume_Pn_R_surround_200.bp\n",
      "/home/yuncong/CSHL_volumes/atlasV3/atlasV3_down32_scoreVolume/score_volumes/atlasV3_down32_scoreVolume_LRt_L_surround_200.bp\n",
      "/home/yuncong/CSHL_volumes/atlasV3/atlasV3_down32_scoreVolume/score_volumes/atlasV3_down32_scoreVolume_Sp5O_R_surround_200.bp\n",
      "/home/yuncong/CSHL_volumes/atlasV3/atlasV3_down32_scoreVolume/score_volumes/atlasV3_down32_scoreVolume_SNR_L_surround_200.bp\n",
      "/home/yuncong/CSHL_volumes/atlasV3/atlasV3_down32_scoreVolume/score_volumes/atlasV3_down32_scoreVolume_5N_R_surround_200.bp\n",
      "/home/yuncong/CSHL_volumes/atlasV3/atlasV3_down32_scoreVolume/score_volumes/atlasV3_down32_scoreVolume_12N_surround_200.bp\n",
      "/home/yuncong/CSHL_volumes/atlasV3/atlasV3_down32_scoreVolume/score_volumes/atlasV3_down32_scoreVolume_SNR_R_surround_200.bp\n",
      "/home/yuncong/CSHL_volumes/atlasV3/atlasV3_down32_scoreVolume/score_volumes/atlasV3_down32_scoreVolume_Sp5O_L_surround_200.bp\n",
      "/home/yuncong/CSHL_volumes/atlasV3/atlasV3_down32_scoreVolume/score_volumes/atlasV3_down32_scoreVolume_DC_R_surround_200.bp\n",
      "/home/yuncong/CSHL_volumes/atlasV3/atlasV3_down32_scoreVolume/score_volumes/atlasV3_down32_scoreVolume_VCA_L_surround_200.bp\n",
      "/home/yuncong/CSHL_volumes/atlasV3/atlasV3_down32_scoreVolume/score_volumes/atlasV3_down32_scoreVolume_3N_L_surround_200.bp\n",
      "/home/yuncong/CSHL_volumes/atlasV3/atlasV3_down32_scoreVolume/score_volumes/atlasV3_down32_scoreVolume_6N_R_surround_200.bp\n",
      "/home/yuncong/CSHL_volumes/atlasV3/atlasV3_down32_scoreVolume/score_volumes/atlasV3_down32_scoreVolume_Sp5I_L_surround_200.bp\n",
      "/home/yuncong/CSHL_volumes/atlasV3/atlasV3_down32_scoreVolume/score_volumes/atlasV3_down32_scoreVolume_RMC_R_surround_200.bp\n",
      "/home/yuncong/CSHL_volumes/atlasV3/atlasV3_down32_scoreVolume/score_volumes/atlasV3_down32_scoreVolume_5N_L_surround_200.bp\n",
      "/home/yuncong/CSHL_volumes/atlasV3/atlasV3_down32_scoreVolume/score_volumes/atlasV3_down32_scoreVolume_SNC_L_surround_200.bp\n",
      "/home/yuncong/CSHL_volumes/atlasV3/atlasV3_down32_scoreVolume/score_volumes/atlasV3_down32_scoreVolume_SNC_R_surround_200.bp\n",
      "/home/yuncong/CSHL_volumes/atlasV3/atlasV3_down32_scoreVolume/score_volumes/atlasV3_down32_scoreVolume_AP_surround_200.bp\n",
      "/home/yuncong/CSHL_volumes/atlasV3/atlasV3_down32_scoreVolume/score_volumes/atlasV3_down32_scoreVolume_RMC_L_surround_200.bp\n",
      "/home/yuncong/CSHL_volumes/atlasV3/atlasV3_down32_scoreVolume/score_volumes/atlasV3_down32_scoreVolume_Sp5I_R_surround_200.bp\n",
      "/home/yuncong/CSHL_volumes/atlasV3/atlasV3_down32_scoreVolume/score_volumes/atlasV3_down32_scoreVolume_3N_R_surround_200.bp\n",
      "/home/yuncong/CSHL_volumes/atlasV3/atlasV3_down32_scoreVolume/score_volumes/atlasV3_down32_scoreVolume_6N_L_surround_200.bp\n",
      "/home/yuncong/CSHL_volumes/atlasV3/atlasV3_down32_scoreVolume/score_volumes/atlasV3_down32_scoreVolume_IC_surround_200.bp\n",
      "/home/yuncong/CSHL_volumes/atlasV3/atlasV3_down32_scoreVolume/score_volumes/atlasV3_down32_scoreVolume_VCA_R_surround_200.bp\n",
      "/home/yuncong/CSHL_volumes/atlasV3/atlasV3_down32_scoreVolume/score_volumes/atlasV3_down32_scoreVolume_DC_L_surround_200.bp\n",
      "/home/yuncong/CSHL_volumes/atlasV3/atlasV3_down32_scoreVolume/score_volumes/atlasV3_down32_scoreVolume_Amb_R_surround_200.bp\n",
      "/home/yuncong/CSHL_volumes/atlasV3/atlasV3_down32_scoreVolume/score_volumes/atlasV3_down32_scoreVolume_VCP_R_surround_200.bp\n",
      "/home/yuncong/CSHL_volumes/atlasV3/atlasV3_down32_scoreVolume/score_volumes/atlasV3_down32_scoreVolume_LC_R_surround_200.bp\n",
      "/home/yuncong/CSHL_volumes/atlasV3/atlasV3_down32_scoreVolume/score_volumes/atlasV3_down32_scoreVolume_10N_R_surround_200.bp\n",
      "/home/yuncong/CSHL_volumes/atlasV3/atlasV3_down32_scoreVolume/score_volumes/atlasV3_down32_scoreVolume_7n_R_surround_200.bp\n",
      "/home/yuncong/CSHL_volumes/atlasV3/atlasV3_down32_scoreVolume/score_volumes/atlasV3_down32_scoreVolume_4N_R_surround_200.bp\n",
      "/home/yuncong/CSHL_volumes/atlasV3/atlasV3_down32_scoreVolume/score_volumes/atlasV3_down32_scoreVolume_Tz_L_surround_200.bp\n",
      "/home/yuncong/CSHL_volumes/atlasV3/atlasV3_down32_scoreVolume/score_volumes/atlasV3_down32_scoreVolume_Tz_R_surround_200.bp\n",
      "/home/yuncong/CSHL_volumes/atlasV3/atlasV3_down32_scoreVolume/score_volumes/atlasV3_down32_scoreVolume_7n_L_surround_200.bp\n",
      "/home/yuncong/CSHL_volumes/atlasV3/atlasV3_down32_scoreVolume/score_volumes/atlasV3_down32_scoreVolume_4N_L_surround_200.bp\n",
      "/home/yuncong/CSHL_volumes/atlasV3/atlasV3_down32_scoreVolume/score_volumes/atlasV3_down32_scoreVolume_LC_L_surround_200.bp\n",
      "/home/yuncong/CSHL_volumes/atlasV3/atlasV3_down32_scoreVolume/score_volumes/atlasV3_down32_scoreVolume_10N_L_surround_200.bp\n",
      "/home/yuncong/CSHL_volumes/atlasV3/atlasV3_down32_scoreVolume/score_volumes/atlasV3_down32_scoreVolume_SC_surround_200.bp\n",
      "/home/yuncong/CSHL_volumes/atlasV3/atlasV3_down32_scoreVolume/score_volumes/atlasV3_down32_scoreVolume_VCP_L_surround_200.bp\n",
      "/home/yuncong/CSHL_volumes/atlasV3/atlasV3_down32_scoreVolume/score_volumes/atlasV3_down32_scoreVolume_Amb_L_surround_200.bp\n"
     ]
    }
   ],
   "source": [
    "# Generate and save surround score volumes. (in fact binary, but dtype is np.float16, same as interior score volumes.)\n",
    "\n",
    "valid_level = .1\n",
    "\n",
    "surround_distance_um = 200\n",
    "surround_distance_voxel = surround_distance_um / XY_PIXEL_DISTANCE_TB\n",
    "print \"surround size (in voxels):\", surround_distance_voxel\n",
    "\n",
    "for name_s, vol in atlas_prob_volume_allLandmarks.iteritems():\n",
    "    \n",
    "    surround_vol = get_surround_volume(vol, valid_level=valid_level, distance=surround_distance_voxel)\n",
    "    \n",
    "    vol_fn = DataManager.get_volume_filepath(stack_m=atlas_name, \n",
    "                                             structure=convert_to_surround_name(name_s, \n",
    "                                                                                margin=surround_distance_um),\n",
    "                                            trial_idx=None)\n",
    "    print vol_fn\n",
    "    create_parent_dir_if_not_exists(vol_fn)\n",
    "    bp.pack_ndarray_file(surround_vol, vol_fn)"
   ]
  },
  {
   "cell_type": "code",
   "execution_count": 87,
   "metadata": {
    "collapsed": true
   },
   "outputs": [],
   "source": [
    "# Save surround score volume bbox txt.\n",
    "\n",
    "for n, vol in atlas_prob_volume_allLandmarks.iteritems():\n",
    "    fn = DataManager.get_volume_bbox_filepath(stack=atlas_name, \n",
    "                                              structure=convert_to_surround_name(name_s, margin=surround_distance_um),\n",
    "                                             trial_idx=None)\n",
    "    np.savetxt(fn, np.array([prob_vol_xmin, prob_vol_xmax, prob_vol_ymin, prob_vol_ymax, prob_vol_zmin, prob_vol_zmax])[None,:], fmt='%d')\n",
    "    # This is wrt MD589 annotation volume"
   ]
  },
  {
   "cell_type": "code",
   "execution_count": 88,
   "metadata": {
    "collapsed": false,
    "scrolled": true
   },
   "outputs": [
    {
     "name": "stderr",
     "output_type": "stream",
     "text": [
      "marching cube: 0.08 seconds\n",
      "mesh_to_polydata: 0.04 seconds\n",
      "simplify 0 @ 30127: 0.27 seconds\n",
      "simplify 1 @ 6028: 0.26 seconds\n",
      "simplify 2 @ 1208: 0.05 seconds\n",
      "marching cube: 0.06 seconds\n",
      "mesh_to_polydata: 0.03 seconds\n",
      "simplify 0 @ 30118: 0.26 seconds\n",
      "simplify 1 @ 6026: 0.26 seconds\n",
      "simplify 2 @ 1208: 0.09 seconds\n",
      "marching cube: 0.01 seconds\n",
      "mesh_to_polydata: 0.02 seconds\n",
      "simplify 0 @ 8527: 0.07 seconds\n",
      "simplify 1 @ 1708: 0.06 seconds\n",
      "simplify 2 @ 344: 0.01 seconds\n",
      "marching cube: 0.01 seconds\n",
      "mesh_to_polydata: 0.01 seconds\n",
      "simplify 0 @ 8515: 0.07 seconds\n",
      "simplify 1 @ 1706: 0.06 seconds\n",
      "simplify 2 @ 344: 0.01 seconds\n",
      "marching cube: 0.08 seconds\n",
      "mesh_to_polydata: 0.05 seconds\n",
      "simplify 0 @ 39329: 0.37 seconds\n",
      "simplify 1 @ 7869: 0.38 seconds\n",
      "simplify 2 @ 1577: 0.08 seconds\n",
      "marching cube: 0.08 seconds\n",
      "mesh_to_polydata: 0.05 seconds\n",
      "simplify 0 @ 39362: 0.37 seconds\n",
      "simplify 1 @ 7875: 0.37 seconds\n",
      "simplify 2 @ 1578: 0.07 seconds\n",
      "marching cube: 0.17 seconds\n",
      "mesh_to_polydata: 0.05 seconds\n",
      "simplify 0 @ 43093: 0.57 seconds\n",
      "simplify 1 @ 8621: 0.70 seconds\n",
      "simplify 2 @ 1727: 0.15 seconds\n",
      "marching cube: 0.32 seconds\n",
      "mesh_to_polydata: 0.10 seconds\n",
      "simplify 0 @ 43073: 0.61 seconds\n",
      "simplify 1 @ 8617: 0.65 seconds\n",
      "simplify 2 @ 1726: 0.10 seconds\n",
      "marching cube: 0.02 seconds\n",
      "mesh_to_polydata: 0.01 seconds\n",
      "simplify 0 @ 9563: 0.10 seconds\n",
      "simplify 1 @ 1915: 0.08 seconds\n",
      "simplify 2 @ 386: 0.02 seconds\n",
      "marching cube: 0.02 seconds\n",
      "mesh_to_polydata: 0.01 seconds\n",
      "simplify 0 @ 9573: 0.12 seconds\n",
      "simplify 1 @ 1917: 0.08 seconds\n",
      "simplify 2 @ 386: 0.02 seconds\n",
      "marching cube: 0.04 seconds\n",
      "mesh_to_polydata: 0.03 seconds\n",
      "simplify 0 @ 20411: 0.21 seconds\n",
      "simplify 1 @ 4085: 0.19 seconds\n",
      "simplify 2 @ 820: 0.04 seconds\n",
      "marching cube: 0.05 seconds\n",
      "mesh_to_polydata: 0.03 seconds\n",
      "simplify 0 @ 20391: 0.20 seconds\n",
      "simplify 1 @ 4081: 0.17 seconds\n",
      "simplify 2 @ 819: 0.04 seconds\n",
      "marching cube: 0.09 seconds\n",
      "mesh_to_polydata: 0.05 seconds\n",
      "simplify 0 @ 41223: 0.38 seconds\n",
      "simplify 1 @ 8247: 0.40 seconds\n",
      "simplify 2 @ 1652: 0.08 seconds\n",
      "marching cube: 0.09 seconds\n",
      "mesh_to_polydata: 0.05 seconds\n",
      "simplify 0 @ 41264: 0.38 seconds\n",
      "simplify 1 @ 8256: 0.40 seconds\n",
      "simplify 2 @ 1654: 0.08 seconds\n",
      "marching cube: 0.12 seconds\n",
      "mesh_to_polydata: 0.07 seconds\n",
      "simplify 0 @ 58336: 0.63 seconds\n",
      "simplify 1 @ 11670: 0.63 seconds\n",
      "simplify 2 @ 2337: 0.13 seconds\n",
      "marching cube: 0.18 seconds\n",
      "mesh_to_polydata: 0.09 seconds\n",
      "simplify 0 @ 58359: 0.65 seconds\n",
      "simplify 1 @ 11675: 0.67 seconds\n",
      "simplify 2 @ 2338: 0.14 seconds\n",
      "marching cube: 0.05 seconds\n",
      "mesh_to_polydata: 0.03 seconds\n",
      "simplify 0 @ 23184: 0.22 seconds\n",
      "simplify 1 @ 4640: 0.21 seconds\n",
      "simplify 2 @ 931: 0.04 seconds\n",
      "marching cube: 0.05 seconds\n",
      "mesh_to_polydata: 0.03 seconds\n",
      "simplify 0 @ 23190: 0.22 seconds\n",
      "simplify 1 @ 4641: 0.21 seconds\n",
      "simplify 2 @ 931: 0.04 seconds\n",
      "marching cube: 0.23 seconds\n",
      "mesh_to_polydata: 0.08 seconds\n",
      "simplify 0 @ 62012: 0.60 seconds\n",
      "simplify 1 @ 12405: 0.65 seconds\n",
      "simplify 2 @ 2484: 0.13 seconds\n",
      "marching cube: 0.25 seconds\n",
      "mesh_to_polydata: 0.09 seconds\n",
      "simplify 0 @ 61905: 0.68 seconds\n",
      "simplify 1 @ 12384: 0.69 seconds\n",
      "simplify 2 @ 2480: 0.14 seconds\n",
      "marching cube: 0.07 seconds\n",
      "mesh_to_polydata: 0.04 seconds\n",
      "simplify 0 @ 31378: 0.29 seconds\n",
      "simplify 1 @ 6278: 0.35 seconds\n",
      "simplify 2 @ 1258: 0.07 seconds\n",
      "marching cube: 0.15 seconds\n",
      "mesh_to_polydata: 0.08 seconds\n",
      "simplify 0 @ 31388: 0.56 seconds\n",
      "simplify 1 @ 6280: 0.65 seconds\n",
      "simplify 2 @ 1259: 0.13 seconds\n",
      "marching cube: 0.16 seconds\n",
      "mesh_to_polydata: 0.08 seconds\n",
      "simplify 0 @ 35360: 0.53 seconds\n",
      "simplify 1 @ 7075: 0.55 seconds\n",
      "simplify 2 @ 1418: 0.11 seconds\n",
      "marching cube: 0.16 seconds\n",
      "mesh_to_polydata: 0.08 seconds\n",
      "simplify 0 @ 35319: 0.54 seconds\n",
      "simplify 1 @ 7067: 0.46 seconds\n",
      "simplify 2 @ 1416: 0.08 seconds\n",
      "marching cube: 0.30 seconds\n",
      "mesh_to_polydata: 0.11 seconds\n",
      "simplify 0 @ 87170: 0.87 seconds\n",
      "simplify 1 @ 17435: 0.95 seconds\n",
      "simplify 2 @ 3488: 0.20 seconds\n",
      "marching cube: 0.54 seconds\n",
      "mesh_to_polydata: 0.20 seconds\n",
      "simplify 0 @ 87116: 1.38 seconds\n",
      "simplify 1 @ 17424: 1.56 seconds\n",
      "simplify 2 @ 3486: 0.31 seconds\n",
      "marching cube: 0.03 seconds\n",
      "mesh_to_polydata: 0.02 seconds\n",
      "simplify 0 @ 14212: 0.15 seconds\n",
      "simplify 1 @ 2845: 0.15 seconds\n",
      "simplify 2 @ 572: 0.03 seconds\n",
      "marching cube: 0.03 seconds\n",
      "mesh_to_polydata: 0.02 seconds\n",
      "simplify 0 @ 14223: 0.14 seconds\n",
      "simplify 1 @ 2847: 0.13 seconds\n",
      "simplify 2 @ 572: 0.03 seconds\n",
      "marching cube: 0.01 seconds\n",
      "mesh_to_polydata: 0.01 seconds\n",
      "simplify 0 @ 6805: 0.06 seconds\n",
      "simplify 1 @ 1364: 0.05 seconds\n",
      "simplify 2 @ 276: 0.01 seconds\n",
      "marching cube: 0.01 seconds\n",
      "mesh_to_polydata: 0.01 seconds\n",
      "simplify 0 @ 6798: 0.06 seconds\n",
      "simplify 1 @ 1362: 0.05 seconds\n",
      "simplify 2 @ 275: 0.01 seconds\n",
      "marching cube: 0.19 seconds\n",
      "mesh_to_polydata: 0.08 seconds\n",
      "simplify 0 @ 56832: 0.82 seconds\n",
      "simplify 1 @ 11369: 0.57 seconds\n",
      "simplify 2 @ 2277: 0.11 seconds\n",
      "marching cube: 0.19 seconds\n",
      "mesh_to_polydata: 0.08 seconds\n",
      "simplify 0 @ 56773: 0.88 seconds\n",
      "simplify 1 @ 11357: 0.69 seconds\n",
      "simplify 2 @ 2274: 0.13 seconds\n",
      "marching cube: 0.18 seconds\n",
      "mesh_to_polydata: 0.10 seconds\n",
      "simplify 0 @ 56281: 0.93 seconds\n",
      "simplify 1 @ 11259: 0.63 seconds\n",
      "simplify 2 @ 2255: 0.12 seconds\n",
      "marching cube: 0.23 seconds\n",
      "mesh_to_polydata: 0.20 seconds\n",
      "simplify 0 @ 56350: 1.88 seconds\n",
      "simplify 1 @ 11273: 1.16 seconds\n",
      "simplify 2 @ 2257: 0.24 seconds\n",
      "marching cube: 0.51 seconds\n",
      "mesh_to_polydata: 0.22 seconds\n",
      "simplify 0 @ 94968: 1.73 seconds\n",
      "simplify 1 @ 18996: 1.34 seconds\n",
      "simplify 2 @ 3802: 0.21 seconds\n",
      "marching cube: 0.30 seconds\n",
      "mesh_to_polydata: 0.15 seconds\n",
      "simplify 0 @ 94859: 1.00 seconds\n",
      "simplify 1 @ 18975: 1.10 seconds\n",
      "simplify 2 @ 3798: 0.34 seconds\n",
      "marching cube: 0.07 seconds\n",
      "mesh_to_polydata: 0.04 seconds\n",
      "simplify 0 @ 17734: 0.25 seconds\n",
      "simplify 1 @ 3550: 0.25 seconds\n",
      "simplify 2 @ 713: 0.05 seconds\n",
      "marching cube: 0.08 seconds\n",
      "mesh_to_polydata: 0.04 seconds\n",
      "simplify 0 @ 17729: 0.25 seconds\n",
      "simplify 1 @ 3549: 0.25 seconds\n",
      "simplify 2 @ 713: 0.05 seconds\n",
      "marching cube: 0.08 seconds\n",
      "mesh_to_polydata: 0.04 seconds\n",
      "simplify 0 @ 24594: 0.23 seconds\n",
      "simplify 1 @ 4922: 0.23 seconds\n",
      "simplify 2 @ 987: 0.05 seconds\n",
      "marching cube: 0.07 seconds\n",
      "mesh_to_polydata: 0.03 seconds\n",
      "simplify 0 @ 24571: 0.23 seconds\n",
      "simplify 1 @ 4917: 0.23 seconds\n",
      "simplify 2 @ 986: 0.05 seconds\n",
      "marching cube: 0.10 seconds\n",
      "mesh_to_polydata: 0.06 seconds\n",
      "simplify 0 @ 40822: 0.46 seconds\n",
      "simplify 1 @ 8166: 0.49 seconds\n",
      "simplify 2 @ 1634: 0.14 seconds\n",
      "marching cube: 0.17 seconds\n",
      "mesh_to_polydata: 0.10 seconds\n",
      "simplify 0 @ 40815: 0.79 seconds\n",
      "simplify 1 @ 8164: 0.65 seconds\n",
      "simplify 2 @ 1634: 0.14 seconds\n",
      "marching cube: 0.09 seconds\n",
      "mesh_to_polydata: 0.05 seconds\n",
      "simplify 0 @ 36073: 0.36 seconds\n",
      "simplify 1 @ 7218: 0.34 seconds\n",
      "simplify 2 @ 1446: 0.08 seconds\n",
      "marching cube: 0.09 seconds\n",
      "mesh_to_polydata: 0.05 seconds\n",
      "simplify 0 @ 36316: 0.37 seconds\n",
      "simplify 1 @ 7266: 0.39 seconds\n",
      "simplify 2 @ 1456: 0.08 seconds\n",
      "marching cube: 0.16 seconds\n",
      "mesh_to_polydata: 0.07 seconds\n",
      "simplify 0 @ 53435: 0.74 seconds\n",
      "simplify 1 @ 10690: 0.88 seconds\n",
      "simplify 2 @ 2141: 0.19 seconds\n",
      "marching cube: 0.27 seconds\n",
      "mesh_to_polydata: 0.12 seconds\n",
      "simplify 0 @ 53497: 0.92 seconds\n",
      "simplify 1 @ 10702: 0.57 seconds\n",
      "simplify 2 @ 2143: 0.12 seconds\n",
      "marching cube: 0.03 seconds\n",
      "mesh_to_polydata: 0.02 seconds\n",
      "simplify 0 @ 14963: 0.15 seconds\n",
      "simplify 1 @ 2995: 0.13 seconds\n",
      "simplify 2 @ 602: 0.03 seconds\n",
      "marching cube: 0.10 seconds\n",
      "mesh_to_polydata: 0.06 seconds\n",
      "simplify 0 @ 43467: 0.43 seconds\n",
      "simplify 1 @ 8696: 0.40 seconds\n",
      "simplify 2 @ 1742: 0.09 seconds\n",
      "marching cube: 0.58 seconds\n",
      "mesh_to_polydata: 0.24 seconds\n",
      "simplify 0 @ 98309: 1.89 seconds\n",
      "simplify 1 @ 19666: 1.51 seconds\n",
      "simplify 2 @ 3943: 0.27 seconds\n",
      "marching cube: 1.27 seconds\n",
      "mesh_to_polydata: 0.43 seconds\n",
      "simplify 0 @ 305001: 5.04 seconds\n",
      "simplify 1 @ 61001: 4.24 seconds\n",
      "simplify 2 @ 12201: 0.82 seconds\n",
      "marching cube: 0.67 seconds\n",
      "mesh_to_polydata: 0.28 seconds\n",
      "simplify 0 @ 202041: 2.68 seconds\n",
      "simplify 1 @ 40411: 2.56 seconds\n",
      "simplify 2 @ 8085: 0.49 seconds\n"
     ]
    }
   ],
   "source": [
    "# Convert surround volumes to meshes\n",
    "\n",
    "for name_s in structures_sided:\n",
    "        \n",
    "    vol_fn = DataManager.get_volume_filepath(stack=atlas_name, label=name_s+'_surround', downscale=32)\n",
    "    surround_vol = bp.unpack_ndarray_file(vol_fn)\n",
    "    \n",
    "    xmin, xmax, ymin, ymax, zmin, zmax = bbox_3d(surround_vol > 0)\n",
    "    \n",
    "    polydata = volume_to_polydata(surround_vol[ymin:ymax+1, xmin:xmax+1, zmin:zmax+1], \n",
    "                                  origin=(xmin+prob_vol_xmin+ann_vol_xmin-canonical_centroid[0], \n",
    "                                       ymin+prob_vol_ymin+ann_vol_ymin-canonical_centroid[1], \n",
    "                                       zmin+prob_vol_zmin+ann_vol_zmin-canonical_centroid[2]), \n",
    "                       num_simplify_iter=3, smooth=True)\n",
    "    # centered at \"canonical centroid\" - same as interior volumes\n",
    "    \n",
    "    mesh_fn = DataManager.get_mesh_filepath(stack=atlas_name, label=name_s+'_surround')\n",
    "    save_mesh(polydata, mesh_fn)"
   ]
  },
  {
   "cell_type": "code",
   "execution_count": 356,
   "metadata": {
    "collapsed": true
   },
   "outputs": [],
   "source": [
    "# surround_vol = get_surround_volume(atlas_prob_volume_allLandmarks['Pn_L'], distance=15, valid_level=0.1)\n",
    "# display_volume_sections(surround_vol)"
   ]
  },
  {
   "cell_type": "markdown",
   "metadata": {},
   "source": [
    "# Load and display meshes"
   ]
  },
  {
   "cell_type": "code",
   "execution_count": 151,
   "metadata": {
    "collapsed": false
   },
   "outputs": [],
   "source": [
    "# Load canonical info\n",
    "\n",
    "canonical_locations = read_dict_from_txt(os.path.join(MESH_ROOTDIR, atlas_name, 'canonical_locations.txt'), key_converter=str)\n",
    "canonical_centroid = np.loadtxt(os.path.join(MESH_ROOTDIR, atlas_name, 'canonical_centroid.txt'))\n",
    "canonical_normal = np.loadtxt(os.path.join(MESH_ROOTDIR, atlas_name, 'canonical_normal.txt'))"
   ]
  },
  {
   "cell_type": "code",
   "execution_count": 153,
   "metadata": {
    "collapsed": false,
    "scrolled": true
   },
   "outputs": [
    {
     "name": "stderr",
     "output_type": "stream",
     "text": [
      "load_mesh_stl: File does not exist /home/yuncong/CSHL_meshes/atlasV3/atlasV3_down32_scoreVolume/atlasV3_down32_scoreVolume_sp5.stl\n",
      "Mesh is empty: sp5.\n",
      "Error loading mesh for sp5.\n",
      "load_mesh_stl: File does not exist /home/yuncong/CSHL_meshes/atlasV3/atlasV3_down32_scoreVolume/atlasV3_down32_scoreVolume_outerContour.stl\n",
      "Mesh is empty: outerContour.\n",
      "Error loading mesh for outerContour.\n"
     ]
    }
   ],
   "source": [
    "# Load atlas meshes\n",
    "\n",
    "atlas_space_structure_meshes = DataManager.load_meshes(stack_m=atlas_name, trial_idx=None, sided=True)"
   ]
  },
  {
   "cell_type": "code",
   "execution_count": 27,
   "metadata": {
    "collapsed": false
   },
   "outputs": [],
   "source": [
    "# # Load atlas structure surround meshes\n",
    "\n",
    "# atlas_space_structure_surround_meshes = {\n",
    "#     name_s: DataManager.load_mesh(stack=atlas_name, label=name_s + '_surround', return_polydata_only=True)\n",
    "#     for name_s in structures_sided}"
   ]
  },
  {
   "cell_type": "code",
   "execution_count": null,
   "metadata": {
    "collapsed": true
   },
   "outputs": [],
   "source": []
  },
  {
   "cell_type": "code",
   "execution_count": 208,
   "metadata": {
    "collapsed": false,
    "scrolled": false
   },
   "outputs": [
    {
     "data": {
      "text/plain": [
       "(array([[[ 0.,  0.,  0., ...,  0.,  0.,  0.],\n",
       "         [ 0.,  0.,  0., ...,  0.,  0.,  0.],\n",
       "         [ 0.,  0.,  0., ...,  0.,  0.,  0.],\n",
       "         ..., \n",
       "         [ 0.,  0.,  0., ...,  0.,  0.,  0.],\n",
       "         [ 0.,  0.,  0., ...,  0.,  0.,  0.],\n",
       "         [ 0.,  0.,  0., ...,  0.,  0.,  0.]],\n",
       " \n",
       "        [[ 0.,  0.,  0., ...,  0.,  0.,  0.],\n",
       "         [ 0.,  0.,  0., ...,  0.,  0.,  0.],\n",
       "         [ 0.,  0.,  0., ...,  0.,  0.,  0.],\n",
       "         ..., \n",
       "         [ 0.,  0.,  0., ...,  0.,  0.,  0.],\n",
       "         [ 0.,  0.,  0., ...,  0.,  0.,  0.],\n",
       "         [ 0.,  0.,  0., ...,  0.,  0.,  0.]],\n",
       " \n",
       "        [[ 0.,  0.,  0., ...,  0.,  0.,  0.],\n",
       "         [ 0.,  0.,  0., ...,  0.,  0.,  0.],\n",
       "         [ 0.,  0.,  0., ...,  0.,  0.,  0.],\n",
       "         ..., \n",
       "         [ 0.,  0.,  0., ...,  0.,  0.,  0.],\n",
       "         [ 0.,  0.,  0., ...,  0.,  0.,  0.],\n",
       "         [ 0.,  0.,  0., ...,  0.,  0.,  0.]],\n",
       " \n",
       "        ..., \n",
       "        [[ 0.,  0.,  0., ...,  0.,  0.,  0.],\n",
       "         [ 0.,  0.,  0., ...,  0.,  0.,  0.],\n",
       "         [ 0.,  0.,  0., ...,  0.,  0.,  0.],\n",
       "         ..., \n",
       "         [ 0.,  0.,  0., ...,  0.,  0.,  0.],\n",
       "         [ 0.,  0.,  0., ...,  0.,  0.,  0.],\n",
       "         [ 0.,  0.,  0., ...,  0.,  0.,  0.]],\n",
       " \n",
       "        [[ 0.,  0.,  0., ...,  0.,  0.,  0.],\n",
       "         [ 0.,  0.,  0., ...,  0.,  0.,  0.],\n",
       "         [ 0.,  0.,  0., ...,  0.,  0.,  0.],\n",
       "         ..., \n",
       "         [ 0.,  0.,  0., ...,  0.,  0.,  0.],\n",
       "         [ 0.,  0.,  0., ...,  0.,  0.,  0.],\n",
       "         [ 0.,  0.,  0., ...,  0.,  0.,  0.]],\n",
       " \n",
       "        [[ 0.,  0.,  0., ...,  0.,  0.,  0.],\n",
       "         [ 0.,  0.,  0., ...,  0.,  0.,  0.],\n",
       "         [ 0.,  0.,  0., ...,  0.,  0.,  0.],\n",
       "         ..., \n",
       "         [ 0.,  0.,  0., ...,  0.,  0.,  0.],\n",
       "         [ 0.,  0.,  0., ...,  0.,  0.,  0.],\n",
       "         [ 0.,  0.,  0., ...,  0.,  0.,  0.]]]),\n",
       " array([ 108.6051746 ,   18.79825144,  -35.21067831]))"
      ]
     },
     "execution_count": 208,
     "metadata": {},
     "output_type": "execute_result"
    }
   ],
   "source": [
    "atlas_space_structure_volumes['10N_L']"
   ]
  },
  {
   "cell_type": "code",
   "execution_count": 179,
   "metadata": {
    "collapsed": false
   },
   "outputs": [
    {
     "name": "stderr",
     "output_type": "stream",
     "text": [
      "[Errno 2] No such file or directory: '/home/yuncong/CSHL_volumes/atlasV3/atlasV3_down32_scoreVolume/probabilistic_shapes/atlasV3_down32_scoreVolume_sp5.bp'\n",
      "Error loading probablistic shape for sp5.\n",
      "[Errno 2] No such file or directory: '/home/yuncong/CSHL_volumes/atlasV3/atlasV3_down32_scoreVolume/probabilistic_shapes/atlasV3_down32_scoreVolume_outerContour.bp'\n",
      "Error loading probablistic shape for outerContour.\n"
     ]
    }
   ],
   "source": [
    "atlas_space_structure_volumes = DataManager.load_prob_shapes(stack_m=atlas_name, trial_idx=None, sided=True)"
   ]
  },
  {
   "cell_type": "code",
   "execution_count": 30,
   "metadata": {
    "collapsed": false
   },
   "outputs": [],
   "source": [
    "# # Load structure prob volumes\n",
    "\n",
    "# atlas_space_structure_volumes = {}\n",
    "# for name_s in structures_sided:    \n",
    "#     volume = bp.unpack_ndarray_file(os.path.join(MESH_ROOTDIR, atlas_name, 'structure_prob_volume', 'prob_volume_%s.bp'%name_s))\n",
    "#     origin = np.loadtxt(os.path.join(MESH_ROOTDIR, atlas_name, 'structure_prob_volume', 'prob_volume_origin_%s.txt'%name_s))\n",
    "#     atlas_space_structure_volumes[name_s] = (volume, origin)"
   ]
  },
  {
   "cell_type": "code",
   "execution_count": 182,
   "metadata": {
    "collapsed": false
   },
   "outputs": [],
   "source": [
    "# Load shell\n",
    "shell_polydata = DataManager.load_shell_mesh(stack=stack_fixed, downscale=32)"
   ]
  },
  {
   "cell_type": "code",
   "execution_count": null,
   "metadata": {
    "collapsed": true
   },
   "outputs": [],
   "source": []
  },
  {
   "cell_type": "code",
   "execution_count": 186,
   "metadata": {
    "collapsed": false
   },
   "outputs": [],
   "source": [
    "# Create actors\n",
    "\n",
    "all_atlas_structure_mesh_actors = [actor_mesh(polydata, structure_to_color[convert_name_to_unsided(n)]/255.,\n",
    "                                             wireframe=False) \n",
    "                                   for n, polydata in atlas_space_structure_meshes.iteritems()]"
   ]
  },
  {
   "cell_type": "code",
   "execution_count": null,
   "metadata": {
    "collapsed": true
   },
   "outputs": [],
   "source": [
    "# all_atlas_structure_surround_mesh_actors = [actor_mesh(polydata, color=(1,1,1),\n",
    "#                                                       wireframe=True) \n",
    "#                                             for n, polydata in atlas_space_structure_surround_meshes.iteritems()]"
   ]
  },
  {
   "cell_type": "code",
   "execution_count": 180,
   "metadata": {
    "collapsed": true
   },
   "outputs": [],
   "source": [
    "all_atlas_structure_volume_actors = []\n",
    "for name_s, (volume, origin) in atlas_space_structure_volumes.iteritems():\n",
    "    name_u = convert_name_to_unsided(name_s)\n",
    "    structure_volume_actor = actor_volume(volume.astype(np.float32), what='probability', origin=origin, c=colors[name_u])\n",
    "    all_atlas_structure_volume_actors.append(structure_volume_actor)"
   ]
  },
  {
   "cell_type": "code",
   "execution_count": 183,
   "metadata": {
    "collapsed": true
   },
   "outputs": [],
   "source": [
    "shell_actor = actor_mesh(shell_polydata, (1,1,1), opacity=.15, wireframe=False, origin=-canonical_centroid)"
   ]
  },
  {
   "cell_type": "code",
   "execution_count": 189,
   "metadata": {
    "collapsed": false
   },
   "outputs": [
    {
     "ename": "NameError",
     "evalue": "name 'atlas_space_structure_surround_meshes' is not defined",
     "output_type": "error",
     "traceback": [
      "\u001b[0;31m---------------------------------------------------------------------------\u001b[0m",
      "\u001b[0;31mNameError\u001b[0m                                 Traceback (most recent call last)",
      "\u001b[0;32m<ipython-input-189-abc0b6825cf4>\u001b[0m in \u001b[0;36m<module>\u001b[0;34m()\u001b[0m\n\u001b[1;32m      1\u001b[0m launch_vtk([actor_mesh(atlas_space_structure_meshes['SNR_L'], color=(1,1,1), wireframe=True),\n\u001b[0;32m----> 2\u001b[0;31m             actor_mesh(atlas_space_structure_surround_meshes['SNR_L'], color=(0,1,1), wireframe=True)])\n\u001b[0m",
      "\u001b[0;31mNameError\u001b[0m: name 'atlas_space_structure_surround_meshes' is not defined"
     ]
    }
   ],
   "source": [
    "launch_vtk([actor_mesh(atlas_space_structure_meshes['SNR_L'], color=(1,1,1), wireframe=True),\n",
    "            actor_mesh(atlas_space_structure_surround_meshes['SNR_L'], color=(0,1,1), wireframe=True)])"
   ]
  },
  {
   "cell_type": "code",
   "execution_count": 165,
   "metadata": {
    "collapsed": false
   },
   "outputs": [],
   "source": [
    "launch_vtk(all_atlas_structure_mesh_actors, init_angle='coronal')"
   ]
  },
  {
   "cell_type": "code",
   "execution_count": 32,
   "metadata": {
    "collapsed": true
   },
   "outputs": [],
   "source": [
    "launch_vtk(all_atlas_structure_mesh_actors + all_atlas_structure_surround_mesh_actors)"
   ]
  },
  {
   "cell_type": "code",
   "execution_count": 181,
   "metadata": {
    "collapsed": true
   },
   "outputs": [],
   "source": [
    "launch_vtk(all_atlas_structure_mesh_actors + all_atlas_structure_volume_actors, init_angle='sagittal')"
   ]
  },
  {
   "cell_type": "code",
   "execution_count": 38,
   "metadata": {
    "collapsed": false
   },
   "outputs": [],
   "source": [
    "launch_vtk([actor_mesh(polydata, structure_colors[convert_name_to_unsided(n)]/255.) \n",
    "            for n, polydata in atlas_space_structure_meshes.iteritems()] + \\\n",
    "           [shell_actor], init_angle='30')"
   ]
  },
  {
   "cell_type": "code",
   "execution_count": 187,
   "metadata": {
    "collapsed": true
   },
   "outputs": [],
   "source": [
    "launch_vtk(all_atlas_structure_mesh_actors + [shell_actor], init_angle='coronal')"
   ]
  },
  {
   "cell_type": "code",
   "execution_count": 33,
   "metadata": {
    "collapsed": true
   },
   "outputs": [],
   "source": [
    "launch_vtk(all_atlas_structure_mesh_actors + [shell_actor], init_angle='horizontal_topDown')"
   ]
  },
  {
   "cell_type": "code",
   "execution_count": 31,
   "metadata": {
    "collapsed": false
   },
   "outputs": [],
   "source": [
    "launch_vtk(all_atlas_structure_mesh_actors + [shell_actor], init_angle='horizontal_topDown', animate=False,\n",
    "          interactive=False, snapshot_fn='/home/yuncong/snapshot_horizontal.png', snapshot_magnification=10)"
   ]
  },
  {
   "cell_type": "code",
   "execution_count": 30,
   "metadata": {
    "collapsed": false
   },
   "outputs": [],
   "source": [
    "launch_vtk(all_atlas_structure_mesh_actors + [shell_actor], init_angle='sagittal', animate=False, \n",
    "           interactive=False, snapshot_fn='/home/yuncong/snapshot_sagittal.png', snapshot_magnification=10)"
   ]
  },
  {
   "cell_type": "code",
   "execution_count": 38,
   "metadata": {
    "collapsed": true
   },
   "outputs": [],
   "source": [
    "launch_vtk(all_atlas_structure_volume_actors + [shell_actor], init_angle='sagittal', animate=True)"
   ]
  },
  {
   "cell_type": "code",
   "execution_count": 74,
   "metadata": {
    "collapsed": true
   },
   "outputs": [],
   "source": [
    "launch_vtk(all_atlas_structure_volume_actors + [shell_actor], init_angle='sagittal')"
   ]
  },
  {
   "cell_type": "code",
   "execution_count": 39,
   "metadata": {
    "collapsed": true
   },
   "outputs": [],
   "source": [
    "launch_vtk(all_atlas_structure_volume_actors , init_angle='sagittal')"
   ]
  }
 ],
 "metadata": {
  "kernelspec": {
   "display_name": "Python 2",
   "language": "python",
   "name": "python2"
  },
  "language_info": {
   "codemirror_mode": {
    "name": "ipython",
    "version": 2
   },
   "file_extension": ".py",
   "mimetype": "text/x-python",
   "name": "python",
   "nbconvert_exporter": "python",
   "pygments_lexer": "ipython2",
   "version": "2.7.12"
  }
 },
 "nbformat": 4,
 "nbformat_minor": 0
}
