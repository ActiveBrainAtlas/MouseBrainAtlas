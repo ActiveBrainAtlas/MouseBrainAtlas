{
 "metadata": {
  "name": "",
  "signature": "sha256:e9b24d38e2889616459d52251296d750a87d15a4c971b0acc4b8ad637e7b081e"
 },
 "nbformat": 3,
 "nbformat_minor": 0,
 "worksheets": [
  {
   "cells": [
    {
     "cell_type": "code",
     "collapsed": false,
     "input": [
      "%load_ext autoreload\n",
      "%autoreload 2\n",
      "\n",
      "from preamble import *"
     ],
     "language": "python",
     "metadata": {},
     "outputs": []
    },
    {
     "cell_type": "code",
     "collapsed": false,
     "input": [
      "texton_hists = dm.load_pipeline_result('texHist', 'npy')\n",
      "\n",
      "segmentation = dm.load_pipeline_result('segmentation', 'npy')\n",
      "n_superpixels = len(unique(segmentation)) - 1\n",
      "\n",
      "textonmap = dm.load_pipeline_result('texMap', 'npy')\n",
      "n_texton = len(np.unique(textonmap)) - 1\n",
      "\n",
      "neighbors = dm.load_pipeline_result('neighbors', 'npy')\n",
      "\n",
      "sp_properties = dm.load_pipeline_result('spProps', 'npy')\n",
      "\n",
      "segmentation_vis = dm.load_pipeline_result('segmentationWithText', 'jpg')"
     ],
     "language": "python",
     "metadata": {},
     "outputs": []
    },
    {
     "cell_type": "code",
     "collapsed": false,
     "input": [
      "def f(s):\n",
      "    h, _ = np.histogram(dm.image[segmentation==s], bins=np.linspace(0, 255, 10), density=True)\n",
      "    return h\n",
      "\n",
      "n_intensities = 9\n",
      "intensity_hists = Parallel(n_jobs=16)(delayed(f)(s) for s in range(n_superpixels))\n",
      "intensity_hists = np.array(intensity_hists)"
     ],
     "language": "python",
     "metadata": {},
     "outputs": []
    },
    {
     "cell_type": "code",
     "collapsed": false,
     "input": [
      "# 3223 is texturally closer to 3227 than 3055\n",
      "# texton hists reflect this, but intensity hists do not\n",
      "\n",
      "print js(intensity_hists[3227], intensity_hists[3055])\n",
      "print js(intensity_hists[3227], intensity_hists[3223])"
     ],
     "language": "python",
     "metadata": {},
     "outputs": []
    },
    {
     "cell_type": "code",
     "collapsed": false,
     "input": [
      "print js(texton_hists[3227], texton_hists[3055])\n",
      "print js(texton_hists[3227], texton_hists[3223])"
     ],
     "language": "python",
     "metadata": {},
     "outputs": []
    }
   ],
   "metadata": {}
  }
 ]
}