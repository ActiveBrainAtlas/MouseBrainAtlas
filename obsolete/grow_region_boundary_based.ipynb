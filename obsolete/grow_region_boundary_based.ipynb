{
 "metadata": {
  "name": "",
  "signature": "sha256:4134a9977cae9e125a76045927e906211166b33c01cc68aba5be80a65f845d4e"
 },
 "nbformat": 3,
 "nbformat_minor": 0,
 "worksheets": [
  {
   "cells": [
    {
     "cell_type": "code",
     "collapsed": false,
     "input": [
      "import sys\n",
      "sys.path.append('/home/yuncong/Brain/pipeline_scripts')\n",
      "from utilities2014 import *\n",
      "import os\n",
      "\n",
      "from scipy.spatial.distance import cdist, pdist, squareform\n",
      "from joblib import Parallel, delayed\n",
      "from skimage.color import gray2rgb\n",
      "\n",
      "import networkx\n",
      "from networkx.algorithms import node_connected_component\n",
      "\n",
      "%run grow_regions_common.ipynb\n",
      "\n",
      "os.environ['GORDON_DATA_DIR'] = '/home/yuncong/project/DavidData2014tif/'\n",
      "os.environ['GORDON_REPO_DIR'] = '/home/yuncong/Brain'\n",
      "os.environ['GORDON_RESULT_DIR'] = '/home/yuncong/project/DavidData2014results/'\n",
      "os.environ['GORDON_LABELING_DIR'] = '/home/yuncong/project/DavidData2014labelings/'\n",
      "\n",
      "dm = DataManager(data_dir=os.environ['GORDON_DATA_DIR'], \n",
      "  repo_dir=os.environ['GORDON_REPO_DIR'], \n",
      "  result_dir=os.environ['GORDON_RESULT_DIR'], \n",
      "  labeling_dir=os.environ['GORDON_LABELING_DIR'])\n",
      "\n",
      "dm.set_stack('RS141')\n",
      "dm.set_resol('x5')\n",
      "dm.set_gabor_params(gabor_params_id='blueNisslWide')\n",
      "dm.set_segmentation_params(segm_params_id='blueNisslRegular')\n",
      "dm.set_vq_params(vq_params_id='blueNissl')"
     ],
     "language": "python",
     "metadata": {},
     "outputs": [],
     "prompt_number": 1
    },
    {
     "cell_type": "code",
     "collapsed": false,
     "input": [
      "def alpha_blending(src_rgb, dst_rgb, src_alpha, dst_alpha):\n",
      "    \n",
      "    out_alpha = src_alpha + dst_alpha * (1. - src_alpha)\n",
      "    out_rgb = (src_rgb * src_alpha[..., None] +\n",
      "               dst_rgb * dst_alpha[..., None] * (1. - src_alpha[..., None])) / out_alpha[..., None]\n",
      "    \n",
      "    out = np.zeros((src_rgb.shape[0], src_rgb.shape[1], 4))\n",
      "        \n",
      "    out[..., :3] = out_rgb\n",
      "    out[..., 3] = out_alpha\n",
      "    \n",
      "    return out"
     ],
     "language": "python",
     "metadata": {},
     "outputs": [],
     "prompt_number": 2
    },
    {
     "cell_type": "code",
     "collapsed": false,
     "input": [
      "from scipy.spatial.distance import pdist, squareform\n",
      "from scipy.cluster.hierarchy import average, fcluster, leaders, complete, single, dendrogram\n",
      "\n",
      "def f(a, clusters):\n",
      "    n_clusters = len(clusters)\n",
      "    overlap_matrix = np.zeros((len(a), n_clusters))\n",
      "        \n",
      "    for i in range(len(a)):\n",
      "        for j in range(n_clusters):\n",
      "            c1 = set(clusters[a[i]])\n",
      "            c2 = set(clusters[j])\n",
      "#             overlap_matrix[i, j] = metric(c1, c2)\n",
      "            overlap_matrix[i, j] = float(len(c1 & c2))/min(len(c1),len(c2))\n",
      "\n",
      "    return overlap_matrix\n",
      "\n",
      "def set_pairwise_distances(sets):\n",
      "\n",
      "    dists = Parallel(n_jobs=16, max_nbytes=1e6)(delayed(f)(s, sets) \n",
      "                                                for s in np.array_split(range(len(sets)), 16))\n",
      "    overlap_matrix = np.vstack(dists)\n",
      "    distance_matrix = 1 - overlap_matrix\n",
      "    \n",
      "    return distance_matrix\n",
      "\n",
      "def group_clusters(clusters=None, dist_thresh = 0.1, distance_matrix=None):\n",
      "\n",
      "    if distance_matrix is None:\n",
      "        assert clusters is not None\n",
      "        distance_matrix = set_pairwise_distances(clusters)\n",
      "        \n",
      "    lk = average(squareform(distance_matrix))\n",
      "#     lk = single(squareform(distance_matrix))\n",
      "\n",
      "    # T = fcluster(lk, 1.15, criterion='inconsistent')\n",
      "    T = fcluster(lk, dist_thresh, criterion='distance')\n",
      "\n",
      "    n_groups = len(set(T))\n",
      "    print n_groups, 'groups'\n",
      "    \n",
      "    groups = [None] * n_groups\n",
      "\n",
      "    for group_id in range(n_groups):\n",
      "        groups[group_id] = where(T == group_id)[0]\n",
      "        \n",
      "    return groups"
     ],
     "language": "python",
     "metadata": {},
     "outputs": [],
     "prompt_number": 6
    },
    {
     "cell_type": "code",
     "collapsed": false,
     "input": [
      "# boundary_dist_matrix = set_pairwise_distances(border_sps)\n",
      "boundary_dist_matrix = set_pairwise_distances(surround_sps)"
     ],
     "language": "python",
     "metadata": {},
     "outputs": [],
     "prompt_number": 7
    },
    {
     "cell_type": "code",
     "collapsed": false,
     "input": [
      "# border_clusters = group_clusters(border_sps, dist_thresh=.05, distance_matrix=boundary_dist_matrix)\n",
      "border_clusters = group_clusters(dist_thresh=.05, distance_matrix=boundary_dist_matrix)"
     ],
     "language": "python",
     "metadata": {},
     "outputs": [
      {
       "output_type": "stream",
       "stream": "stdout",
       "text": [
        "3035 groups\n"
       ]
      }
     ],
     "prompt_number": 8
    },
    {
     "cell_type": "code",
     "collapsed": false,
     "input": [
      "# border_lengths = np.array([len(b) for b in border_sps])\n",
      "border_lengths = np.array([len(b) for b in surround_sps])"
     ],
     "language": "python",
     "metadata": {},
     "outputs": [],
     "prompt_number": 12
    },
    {
     "cell_type": "code",
     "collapsed": false,
     "input": [
      "border_clusters = [b for b in border_clusters if len(b) > 0]"
     ],
     "language": "python",
     "metadata": {},
     "outputs": [],
     "prompt_number": 13
    },
    {
     "cell_type": "code",
     "collapsed": false,
     "input": [
      "border_cluster_size = np.array([len(b) for b in border_clusters])\n",
      "plt.hist(border_cluster_size, bins=100);"
     ],
     "language": "python",
     "metadata": {},
     "outputs": [
      {
       "metadata": {},
       "output_type": "display_data",
       "png": "[encoded data removed]",
       "text": [
        "<matplotlib.figure.Figure at 0x2b81edc5cd10>"
       ]
      }
     ],
     "prompt_number": 14
    },
    {
     "cell_type": "code",
     "collapsed": false,
     "input": [
      "representative_borders = np.array([bc[np.argmax([border_lengths[i] for i in bc])] for bc in border_clusters])"
     ],
     "language": "python",
     "metadata": {},
     "outputs": [],
     "prompt_number": 15
    },
    {
     "cell_type": "code",
     "collapsed": false,
     "input": [
      "# good_borders, counts = zip(*[(set.union(*[border_sps[i] for i in b]), len(b)) for b in border_clusters if len(b) > 10])\n",
      "# good_indices, good_borders, counts = zip(*[(i, border_sps[b], s) \n",
      "#                             for i, (b, s) in enumerate(zip(representative_borders, border_cluster_size)) if s > 8])\n",
      "good_indices, good_borders, counts = zip(*[(i, surround_sps[b], s) \n",
      "                            for i, (b, s) in enumerate(zip(representative_borders, border_cluster_size)) if s > 8])"
     ],
     "language": "python",
     "metadata": {},
     "outputs": [],
     "prompt_number": 16
    },
    {
     "cell_type": "code",
     "collapsed": false,
     "input": [
      "plt.hist(counts);"
     ],
     "language": "python",
     "metadata": {},
     "outputs": [
      {
       "metadata": {},
       "output_type": "display_data",
       "png": "[encoded data removed]",
       "text": [
        "<matplotlib.figure.Figure at 0x4f8acd0>"
       ]
      }
     ],
     "prompt_number": 17
    },
    {
     "cell_type": "code",
     "collapsed": false,
     "input": [
      "print zip(good_indices, counts)"
     ],
     "language": "python",
     "metadata": {},
     "outputs": [
      {
       "output_type": "stream",
       "stream": "stdout",
       "text": [
        "[(375, 14), (523, 13), (840, 18), (1376, 21), (1515, 128), (1662, 9), (1711, 11), (1712, 12), (2502, 14), (2852, 33), (2855, 17)]\n"
       ]
      }
     ],
     "prompt_number": 18
    },
    {
     "cell_type": "code",
     "collapsed": false,
     "input": [
      "boundary_dist_matrix[1667, 1768]"
     ],
     "language": "python",
     "metadata": {},
     "outputs": []
    },
    {
     "cell_type": "code",
     "collapsed": false,
     "input": [
      "border_clusters[403]"
     ],
     "language": "python",
     "metadata": {},
     "outputs": [
      {
       "metadata": {},
       "output_type": "pyout",
       "prompt_number": 133,
       "text": [
        "array([1667, 1767, 1768, 1772, 1874, 1885])"
       ]
      }
     ],
     "prompt_number": 133
    },
    {
     "cell_type": "code",
     "collapsed": false,
     "input": [
      "vis = visualize_cluster(border_clusters[403], segmentation=segmentation, segmentation_vis=segmentation_vis)\n",
      "display(vis)"
     ],
     "language": "python",
     "metadata": {},
     "outputs": [
      {
       "html": [
        "<a href='tmp.jpg' target='_blank'>tmp.jpg</a><br>"
       ],
       "metadata": {},
       "output_type": "pyout",
       "prompt_number": 136,
       "text": [
        "/oasis/projects/nsf/csd181/yuncong/Brain/notebooks/tmp.jpg"
       ]
      }
     ],
     "prompt_number": 136
    },
    {
     "cell_type": "code",
     "collapsed": false,
     "input": [
      "vis = visualize_multiple_clusters(good_borders, segmentation=segmentation, segmentation_vis=segmentation_vis)\n",
      "display(vis)"
     ],
     "language": "python",
     "metadata": {},
     "outputs": [
      {
       "html": [
        "<a href='tmp.jpg' target='_blank'>tmp.jpg</a><br>"
       ],
       "metadata": {},
       "output_type": "pyout",
       "prompt_number": 123,
       "text": [
        "/oasis/projects/nsf/csd181/yuncong/Brain/notebooks/tmp.jpg"
       ]
      }
     ],
     "prompt_number": 123
    },
    {
     "cell_type": "code",
     "collapsed": false,
     "input": [
      "# def compute_boundariness_vote(section_ind):\n",
      "    \n",
      "section_ind = 17\n",
      "    \n",
      "dm.set_slice(section_ind)\n",
      "dm._load_image()\n",
      "\n",
      "texton_hists = dm.load_pipeline_result('texHist', 'npy')\n",
      "segmentation = dm.load_pipeline_result('segmentation', 'npy')\n",
      "n_superpixels = len(unique(segmentation)) - 1\n",
      "textonmap = dm.load_pipeline_result('texMap', 'npy')\n",
      "n_texton = len(np.unique(textonmap)) - 1\n",
      "neighbors = dm.load_pipeline_result('neighbors', 'npy')\n",
      "sp_properties = dm.load_pipeline_result('spProps', 'npy')\n",
      "segmentation_vis = dm.load_pipeline_result('segmentationWithText', 'jpg')\n",
      "\n",
      "clusters = dm.load_pipeline_result('clusters', 'pkl')\n",
      "\n",
      "cluster_sps, cluster_score_sps = zip(*clusters)\n",
      "cluster_size_sps = np.array([len(c) for c in cluster_sps])\n",
      "cluster_score_sps = np.array(cluster_score_sps)\n",
      "# cluster_bounding_boxes = Parallel(n_jobs=16)(delayed(compute_bounding_box)(c) for c in cluster_sps)\n",
      "\n",
      "sp_votes = np.zeros((n_superpixels,), dtype=np.float)\n",
      "\n",
      "border_sps = []\n",
      "surround_sps = []\n",
      "frontier_sps = []\n",
      "\n",
      "for j, cluster in enumerate(cluster_sps):\n",
      "    surrounds = set([i for i in set.union(*[neighbors[c] for c in cluster]) if i not in cluster and i != -1])        \n",
      "    if len(surrounds) == 0:\n",
      "        continue\n",
      "\n",
      "    frontiers = set.union(*[neighbors[c] for c in surrounds]) & set(cluster)\n",
      "\n",
      "    surround_sps.append(surrounds)\n",
      "    frontier_sps.append(frontiers)\n",
      "    \n",
      "    border_sps.append(surrounds | frontiers)\n",
      "\n",
      "#     weight = 1./np.sqrt(len(cluster))\n",
      "    weight = 1.\n",
      "    sp_votes[list(surrounds)] += weight\n"
     ],
     "language": "python",
     "metadata": {},
     "outputs": [
      {
       "output_type": "stream",
       "stream": "stdout",
       "text": [
        "loaded /home/yuncong/project/DavidData2014results/RS141/0017/RS141_x5_0017_gabor-blueNisslWide-segm-blueNisslRegular-vq-blueNissl_texHist.npy\n",
        "loaded /home/yuncong/project/DavidData2014results/RS141/0017/RS141_x5_0017_segm-blueNisslRegular_segmentation.npy"
       ]
      },
      {
       "output_type": "stream",
       "stream": "stdout",
       "text": [
        "\n",
        "loaded /home/yuncong/project/DavidData2014results/RS141/0017/RS141_x5_0017_gabor-blueNisslWide-vq-blueNissl_texMap.npy"
       ]
      },
      {
       "output_type": "stream",
       "stream": "stdout",
       "text": [
        "\n",
        "loaded /home/yuncong/project/DavidData2014results/RS141/0017/RS141_x5_0017_segm-blueNisslRegular_neighbors.npy"
       ]
      },
      {
       "output_type": "stream",
       "stream": "stdout",
       "text": [
        "\n",
        "loaded /home/yuncong/project/DavidData2014results/RS141/0017/RS141_x5_0017_segm-blueNisslRegular_spProps.npy"
       ]
      },
      {
       "output_type": "stream",
       "stream": "stdout",
       "text": [
        "\n",
        "loaded /home/yuncong/project/DavidData2014results/RS141/0017/RS141_x5_0017_segm-blueNisslRegular_segmentationWithText.jpg"
       ]
      },
      {
       "output_type": "stream",
       "stream": "stdout",
       "text": [
        "\n",
        "loaded /home/yuncong/project/DavidData2014results/RS141/0017/RS141_x5_0017_gabor-blueNisslWide-segm-blueNisslRegular-vq-blueNissl_clusters.pkl"
       ]
      },
      {
       "output_type": "stream",
       "stream": "stdout",
       "text": [
        "\n"
       ]
      }
     ],
     "prompt_number": 3
    },
    {
     "cell_type": "code",
     "collapsed": false,
     "input": [
      "sp_votes = compute_boundariness_vote(section_ind)\n",
      "\n",
      "votemap = sp_votes[segmentation]\n",
      "votemap[~dm.mask] = 0\n",
      "\n",
      "\n",
      "votemap_normalized = (votemap-votemap.min())/(votemap.max()-votemap.min())\n",
      "votemap_vis = plt.cm.Reds(votemap_normalized)[..., :3]\n",
      "\n",
      "\n",
      "vis = alpha_blending(votemap_vis, gray2rgb(dm.image), .5 * np.ones_like(dm.image),\n",
      "                      1. * np.ones_like(dm.image))\n",
      "\n",
      "\n",
      "#     dm.save_pipeline_result(votemap_vis, 'votemap', 'jpg')\n",
      "#     dm.save_pipeline_result(vis, 'votemapOverlaid', 'jpg')\n",
      "\n",
      "plt.imshow(vis)\n",
      "\n"
     ],
     "language": "python",
     "metadata": {},
     "outputs": [],
     "prompt_number": 5
    }
   ],
   "metadata": {}
  }
 ]
}