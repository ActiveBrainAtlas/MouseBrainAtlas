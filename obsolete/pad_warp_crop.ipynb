{
 "cells": [
  {
   "cell_type": "code",
   "execution_count": 1,
   "metadata": {
    "collapsed": true
   },
   "outputs": [],
   "source": [
    "import sys\n",
    "import os\n",
    "from subprocess import check_output\n",
    "from skimage.util import pad\n",
    "from skimage.io import imread, imsave\n",
    "import numpy as np\n",
    "import cPickle as pickle\n",
    "import cv2\n",
    "import time\n",
    "\n",
    "from joblib import Parallel, delayed\n",
    "from utilities2014 import execute_command"
   ]
  },
  {
   "cell_type": "code",
   "execution_count": 2,
   "metadata": {
    "collapsed": true
   },
   "outputs": [],
   "source": [
    "stack = 'MD585'\n",
    "first_sec = 48\n",
    "last_sec = 180\n",
    "\n",
    "# stack = 'MD579'\n",
    "# first_sec = 59\n",
    "# last_sec = 188\n",
    "\n",
    "bg_color = (230,232,235)"
   ]
  },
  {
   "cell_type": "code",
   "execution_count": null,
   "metadata": {
    "collapsed": true
   },
   "outputs": [],
   "source": [
    "input_dir = '/home/yuncong/csd395/CSHL_data/' + stack + '_renamed'\n",
    "filenames = os.listdir(input_dir)\n",
    "suffix = 'thumbnail'\n",
    "ext = 'tif'\n",
    "all_files = dict(sorted([(int(img_fn[:-4].split('_')[1]), img_fn) \n",
    "                         for img_fn in filenames if img_fn.endswith('_' + suffix + '.' + ext)]))\n",
    "\n",
    "# the resolution of lossless is \"scale factor\" times the resolution on which transform parameters are obtained\n",
    "if suffix == 'lossless':\n",
    "    scale_factor = 32\n",
    "elif suffix == 'lossy':\n",
    "    scale_factor = 16\n",
    "elif suffix == 'thumbnail':\n",
    "    scale_factor = 1\n",
    "    \n",
    "    \n",
    "def identify_shape(img_fn):\n",
    "    return map(int, check_output(\"identify -format %%Wx%%H %s\" % os.path.join(input_dir, img_fn), \n",
    "                                 shell=True).split('x'))\n",
    "\n",
    "img_shapes_arr = np.array(Parallel(n_jobs=16)(delayed(identify_shape)(img_fn) for img_fn in all_files.itervalues()))\n",
    "max_width = img_shapes_arr[:,0].max()\n",
    "max_height = img_shapes_arr[:,1].max()\n",
    "\n",
    "margin = 0\n",
    "\n",
    "canvas_width = max_width + 2 * margin\n",
    "canvas_height = max_height + 2 * margin\n",
    "\n",
    "padded_dir = '/home/yuncong/csd395/CSHL_data/' + stack + '_' + suffix + '_padded'\n",
    "if not os.path.exists(padded_dir):\n",
    "    os.makedirs(padded_dir)\n",
    "\n",
    "warped_dir = '/home/yuncong/csd395/CSHL_data/' + stack + '_' + suffix + '_warped'\n",
    "if not os.path.exists(warped_dir):\n",
    "    os.makedirs(warped_dir)\n",
    "    \n",
    "cropped_dir = '/home/yuncong/csd395/CSHL_data/' + stack + '_' + suffix + '_cropped'\n",
    "if not os.path.exists(cropped_dir):\n",
    "    os.makedirs(cropped_dir)\n",
    "    \n"
   ]
  },
  {
   "cell_type": "code",
   "execution_count": 3,
   "metadata": {
    "collapsed": false
   },
   "outputs": [],
   "source": [
    "input_dir = '/home/yuncong/csd395/CSHL_data/' + stack + '_renamed'\n",
    "filenames = os.listdir(input_dir)\n",
    "# suffix = 'thumbnail'\n",
    "suffix = 'lossless'\n",
    "ext = 'tif'\n",
    "all_files = dict(sorted([(int(img_fn[:-4].split('_')[1]), img_fn) \n",
    "                         for img_fn in filenames if img_fn.endswith('_' + suffix + '.' + ext)]))\n",
    "\n",
    "# the resolution of lossless is \"scale factor\" times the resolution on which transform parameters are obtained\n",
    "if suffix == 'lossless':\n",
    "    scale_factor = 32\n",
    "elif suffix == 'lossy':\n",
    "    scale_factor = 16\n",
    "elif suffix == 'thumbnail':\n",
    "    scale_factor = 1"
   ]
  },
  {
   "cell_type": "code",
   "execution_count": 4,
   "metadata": {
    "collapsed": false
   },
   "outputs": [],
   "source": [
    "# img_shapes = {}\n",
    "# for i, img_fn in all_files.iteritems():\n",
    "#     img_shapes[i] = np.array(check_output(\"identify %s\" % os.path.join(input_dir, img_fn), shell=True).split()[2].split('x'),\n",
    "#                      np.int)\n",
    "    \n",
    "def identify_shape(img_fn):\n",
    "    return map(int, check_output(\"identify -format %%Wx%%H %s\" % os.path.join(input_dir, img_fn), \n",
    "                                 shell=True).split('x'))\n",
    "\n",
    "img_shapes_arr = np.array(Parallel(n_jobs=16)(delayed(identify_shape)(img_fn) for img_fn in all_files.itervalues()))\n",
    "max_width = img_shapes_arr[:,0].max()\n",
    "max_height = img_shapes_arr[:,1].max()\n",
    "\n",
    "margin = 0\n",
    "\n",
    "canvas_width = max_width + 2 * margin\n",
    "canvas_height = max_height + 2 * margin"
   ]
  },
  {
   "cell_type": "code",
   "execution_count": 5,
   "metadata": {
    "collapsed": false
   },
   "outputs": [],
   "source": [
    "padded_dir = '/home/yuncong/csd395/CSHL_data/' + stack + '_' + suffix + '_padded'\n",
    "if not os.path.exists(padded_dir):\n",
    "    os.makedirs(padded_dir)\n",
    "\n",
    "warped_dir = '/home/yuncong/csd395/CSHL_data/' + stack + '_' + suffix + '_warped'\n",
    "if not os.path.exists(warped_dir):\n",
    "    os.makedirs(warped_dir)\n",
    "    \n",
    "cropped_dir = '/home/yuncong/csd395/CSHL_data/' + stack + '_' + suffix + '_cropped'\n",
    "if not os.path.exists(cropped_dir):\n",
    "    os.makedirs(cropped_dir)"
   ]
  },
  {
   "cell_type": "code",
   "execution_count": 6,
   "metadata": {
    "collapsed": true
   },
   "outputs": [],
   "source": [
    "def pad_IM(img_fn):\n",
    "    \n",
    "    img_fn = os.path.basename(img_fn)\n",
    "        \n",
    "    warped_fn = img_fn[:-4] + '_padded_warped.' + ext\n",
    "    padded_fn = img_fn[:-4] + '_padded.' + ext\n",
    "    \n",
    "    d = {'input_fn': os.path.join(input_dir, img_fn),\n",
    "        'output_fn': os.path.join(padded_dir, padded_fn),\n",
    "         'bg_r': bg_color[0],\n",
    "         'bg_g': bg_color[1],\n",
    "         'bg_b': bg_color[2],\n",
    "         'width': canvas_width,\n",
    "         'height': canvas_height,\n",
    "         }\n",
    "        \n",
    "    convert_cmd = 'convert %(input_fn)s -background \"rgb(%(bg_r)d,%(bg_g)d,%(bg_b)d)\" -gravity center -extent %(width)dx%(height)d -compress lzw %(output_fn)s'%d\n",
    "    execute_command(convert_cmd)\n",
    "    \n",
    "def warp_IM(img_fn, T):\n",
    "    \n",
    "    warped_fn = img_fn[:-4] + '_padded_warped.' + ext\n",
    "    padded_fn = img_fn[:-4] + '_padded.' + ext\n",
    "\n",
    "    d = {'sx':T[0,0],\n",
    "         'sy':T[1,1],\n",
    "         'rx':T[1,0],\n",
    "         'ry':T[0,1],\n",
    "         'tx':T[0,2],\n",
    "         'ty':T[1,2],\n",
    "         'input_fn': os.path.join(padded_dir, padded_fn),\n",
    "         'output_fn': os.path.join(warped_dir, warped_fn)\n",
    "        }\n",
    "\n",
    "    affine_cmd = \"convert %(input_fn)s -distort AffineProjection '%(sx)f,%(rx)f,%(ry)f,%(sy)f,%(tx)f,%(ty)f' %(output_fn)s\"%d\n",
    "    execute_command(affine_cmd)\n",
    "    \n",
    "def crop_IM(img_fn, x, y, w, h):\n",
    "    \n",
    "    warped_fn = img_fn[:-4] + '_padded_warped.' + ext\n",
    "    cropped_fn = img_fn[:-4] + '_padded_warped_cropped.' + ext\n",
    "\n",
    "    d = {\n",
    "    'x': x * scale_factor,\n",
    "    'y': y * scale_factor,\n",
    "    'w': w * scale_factor,\n",
    "    'h': h * scale_factor,\n",
    "    'input_fn': os.path.join(warped_dir, warped_fn),\n",
    "    'output_fn': os.path.join(cropped_dir, cropped_fn)\n",
    "    }\n",
    "\n",
    "    crop_cmd = 'convert %(input_fn)s -crop %(w)dx%(h)d+%(x)d+%(y)d %(output_fn)s'%d\n",
    "    execute_command(crop_cmd)"
   ]
  },
  {
   "cell_type": "code",
   "execution_count": null,
   "metadata": {
    "collapsed": false,
    "scrolled": true
   },
   "outputs": [
    {
     "name": "stdout",
     "output_type": "stream",
     "text": [
      "convert /home/yuncong/csd395/CSHL_data/MD585_renamed/MD585_0048_lossless.tif -background \"rgb(230,232,235)\" -gravity center -extent 36324x27066 -compress lzw /home/yuncong/csd395/CSHL_data/MD585_lossless_padded/MD585_0048_lossless_padded.tif\n",
      "convert /home/yuncong/csd395/CSHL_data/MD585_renamed/MD585_0049_lossless.tif -background \"rgb(230,232,235)\" -gravity center -extent 36324x27066 -compress lzw /home/yuncong/csd395/CSHL_data/MD585_lossless_padded/MD585_0049_lossless_padded.tif"
     ]
    },
    {
     "name": "stderr",
     "output_type": "stream",
     "text": [
      "Child returned 0\n",
      "Child returned"
     ]
    },
    {
     "name": "stdout",
     "output_type": "stream",
     "text": [
      "\n",
      "convert /home/yuncong/csd395/CSHL_data/MD585_renamed/MD585_0050_lossless.tif -background \"rgb(230,232,235)\" -gravity center -extent 36324x27066 -compress lzw /home/yuncong/csd395/CSHL_data/MD585_lossless_padded/MD585_0050_lossless_padded.tif"
     ]
    },
    {
     "name": "stderr",
     "output_type": "stream",
     "text": [
      " 0\n",
      "Child returned"
     ]
    },
    {
     "name": "stdout",
     "output_type": "stream",
     "text": [
      "\n",
      "convert /home/yuncong/csd395/CSHL_data/MD585_renamed/MD585_0051_lossless.tif -background \"rgb(230,232,235)\" -gravity center -extent 36324x27066 -compress lzw /home/yuncong/csd395/CSHL_data/MD585_lossless_padded/MD585_0051_lossless_padded.tif"
     ]
    },
    {
     "name": "stderr",
     "output_type": "stream",
     "text": [
      " 0\n",
      "Child returned"
     ]
    },
    {
     "name": "stdout",
     "output_type": "stream",
     "text": [
      "\n",
      "convert /home/yuncong/csd395/CSHL_data/MD585_renamed/MD585_0052_lossless.tif -background \"rgb(230,232,235)\" -gravity center -extent 36324x27066 -compress lzw /home/yuncong/csd395/CSHL_data/MD585_lossless_padded/MD585_0052_lossless_padded.tif"
     ]
    },
    {
     "name": "stderr",
     "output_type": "stream",
     "text": [
      " 0\n",
      "Child returned"
     ]
    },
    {
     "name": "stdout",
     "output_type": "stream",
     "text": [
      "\n",
      "convert /home/yuncong/csd395/CSHL_data/MD585_renamed/MD585_0053_lossless.tif -background \"rgb(230,232,235)\" -gravity center -extent 36324x27066 -compress lzw /home/yuncong/csd395/CSHL_data/MD585_lossless_padded/MD585_0053_lossless_padded.tif"
     ]
    },
    {
     "name": "stderr",
     "output_type": "stream",
     "text": [
      " 0\n",
      "Child returned"
     ]
    },
    {
     "name": "stdout",
     "output_type": "stream",
     "text": [
      "\n",
      "convert /home/yuncong/csd395/CSHL_data/MD585_renamed/MD585_0054_lossless.tif -background \"rgb(230,232,235)\" -gravity center -extent 36324x27066 -compress lzw /home/yuncong/csd395/CSHL_data/MD585_lossless_padded/MD585_0054_lossless_padded.tif"
     ]
    },
    {
     "name": "stderr",
     "output_type": "stream",
     "text": [
      " 0\n",
      "Child returned"
     ]
    },
    {
     "name": "stdout",
     "output_type": "stream",
     "text": [
      "\n",
      "convert /home/yuncong/csd395/CSHL_data/MD585_renamed/MD585_0055_lossless.tif -background \"rgb(230,232,235)\" -gravity center -extent 36324x27066 -compress lzw /home/yuncong/csd395/CSHL_data/MD585_lossless_padded/MD585_0055_lossless_padded.tif"
     ]
    },
    {
     "name": "stderr",
     "output_type": "stream",
     "text": [
      " 0\n",
      "Child returned"
     ]
    },
    {
     "name": "stdout",
     "output_type": "stream",
     "text": [
      "\n",
      "convert /home/yuncong/csd395/CSHL_data/MD585_renamed/MD585_0056_lossless.tif -background \"rgb(230,232,235)\" -gravity center -extent 36324x27066 -compress lzw /home/yuncong/csd395/CSHL_data/MD585_lossless_padded/MD585_0056_lossless_padded.tif"
     ]
    },
    {
     "name": "stderr",
     "output_type": "stream",
     "text": [
      " 0\n",
      "Child returned"
     ]
    },
    {
     "name": "stdout",
     "output_type": "stream",
     "text": [
      "\n",
      "convert /home/yuncong/csd395/CSHL_data/MD585_renamed/MD585_0057_lossless.tif -background \"rgb(230,232,235)\" -gravity center -extent 36324x27066 -compress lzw /home/yuncong/csd395/CSHL_data/MD585_lossless_padded/MD585_0057_lossless_padded.tif"
     ]
    },
    {
     "name": "stderr",
     "output_type": "stream",
     "text": [
      " 0\n",
      "Child returned"
     ]
    },
    {
     "name": "stdout",
     "output_type": "stream",
     "text": [
      "\n",
      "convert /home/yuncong/csd395/CSHL_data/MD585_renamed/MD585_0058_lossless.tif -background \"rgb(230,232,235)\" -gravity center -extent 36324x27066 -compress lzw /home/yuncong/csd395/CSHL_data/MD585_lossless_padded/MD585_0058_lossless_padded.tif"
     ]
    },
    {
     "name": "stderr",
     "output_type": "stream",
     "text": [
      " 0\n",
      "Child returned"
     ]
    },
    {
     "name": "stdout",
     "output_type": "stream",
     "text": [
      "\n",
      "convert /home/yuncong/csd395/CSHL_data/MD585_renamed/MD585_0059_lossless.tif -background \"rgb(230,232,235)\" -gravity center -extent 36324x27066 -compress lzw /home/yuncong/csd395/CSHL_data/MD585_lossless_padded/MD585_0059_lossless_padded.tif"
     ]
    },
    {
     "name": "stderr",
     "output_type": "stream",
     "text": [
      " 0\n",
      "Child returned"
     ]
    },
    {
     "name": "stdout",
     "output_type": "stream",
     "text": [
      "\n",
      "convert /home/yuncong/csd395/CSHL_data/MD585_renamed/MD585_0060_lossless.tif -background \"rgb(230,232,235)\" -gravity center -extent 36324x27066 -compress lzw /home/yuncong/csd395/CSHL_data/MD585_lossless_padded/MD585_0060_lossless_padded.tif"
     ]
    },
    {
     "name": "stderr",
     "output_type": "stream",
     "text": [
      " 0\n",
      "Child returned"
     ]
    },
    {
     "name": "stdout",
     "output_type": "stream",
     "text": [
      "\n",
      "convert /home/yuncong/csd395/CSHL_data/MD585_renamed/MD585_0061_lossless.tif -background \"rgb(230,232,235)\" -gravity center -extent 36324x27066 -compress lzw /home/yuncong/csd395/CSHL_data/MD585_lossless_padded/MD585_0061_lossless_padded.tif"
     ]
    },
    {
     "name": "stderr",
     "output_type": "stream",
     "text": [
      " 0\n",
      "Child returned"
     ]
    },
    {
     "name": "stdout",
     "output_type": "stream",
     "text": [
      "\n",
      "convert /home/yuncong/csd395/CSHL_data/MD585_renamed/MD585_0062_lossless.tif -background \"rgb(230,232,235)\" -gravity center -extent 36324x27066 -compress lzw /home/yuncong/csd395/CSHL_data/MD585_lossless_padded/MD585_0062_lossless_padded.tif"
     ]
    }
   ],
   "source": [
    "t = time.time()\n",
    "\n",
    "# Parallel(n_jobs=2)(pad_IM(all_files[secind]) for secind in range(first_sec, last_sec+1))\n",
    "\n",
    "# Parallel(n_jobs=3)(pad_IM(all_files[secind]) for secind in range(first_sec, first_sec+2))\n",
    "\n",
    "for secind in range(first_sec, last_sec+1):\n",
    "    pad_IM(all_files[secind])\n",
    "\n",
    "# pad_IM(all_files[first_sec+1])\n",
    "\n",
    "print time.time() - t"
   ]
  },
  {
   "cell_type": "code",
   "execution_count": 9,
   "metadata": {
    "collapsed": true
   },
   "outputs": [],
   "source": [
    "if not os.path.exists('/home/yuncong/csd395/CSHL_data/%s_thumbnail_finalTransfParams.pkl'%stack):\n",
    "    execute_command('../elastix/successive_registration.py %s %d %d thumbnail' % (stack, first_sec, last_sec))"
   ]
  },
  {
   "cell_type": "code",
   "execution_count": 15,
   "metadata": {
    "collapsed": false
   },
   "outputs": [],
   "source": [
    "with open('/home/yuncong/csd395/CSHL_data/%s_thumbnail_finalTransfParams.pkl'%stack, 'r') as f:\n",
    "    Ts = pickle.load(f)\n",
    "    \n",
    "Ts_lossless = {}\n",
    "for sec, T in Ts.iteritems():\n",
    "    T_lossless = T.copy()\n",
    "    T_lossless[:2, 2] = T[:2, 2] * scale_factor\n",
    "    Ts_lossless[sec] = T_lossless"
   ]
  },
  {
   "cell_type": "code",
   "execution_count": null,
   "metadata": {
    "collapsed": false
   },
   "outputs": [],
   "source": [
    "t = time.time()\n",
    "\n",
    "for secind in range(first_sec, last_sec+1):\n",
    "    warp_IM(all_files[secind], np.linalg.inv(Ts_lossless[secind]))\n",
    "\n",
    "# warp_IM(all_files[first_sec], np.linalg.inv(Ts_lossless[first_sec]))\n",
    "\n",
    "print time.time() - t"
   ]
  },
  {
   "cell_type": "code",
   "execution_count": null,
   "metadata": {
    "collapsed": false
   },
   "outputs": [],
   "source": [
    "    \n",
    "t = time.time()\n",
    "\n",
    "for secind in range(first_sec, last_sec+1):\n",
    "#     crop_IM(all_files[secind],576,413,403,280) #MD579\n",
    "    crop_IM(all_files[secind],543,440,489,248) #MD585\n",
    "\n",
    "# crop_IM(all_files[first_sec],543,440,489,248) #MD585\n",
    "\n",
    "print time.time() - t"
   ]
  },
  {
   "cell_type": "code",
   "execution_count": 18,
   "metadata": {
    "collapsed": false
   },
   "outputs": [],
   "source": [
    "# def pad_and_warp_and_crop(img_fn, T, input_dir=input_dir, padded_dir=padded_dir, \n",
    "#                                       warped_dir=warped_dir, cropped_dir=cropped_dir,\n",
    "#                           ext='tif'):\n",
    "    \n",
    "#     img_fn = os.path.basename(img_fn)    \n",
    "#     secind = int(img_fn[:-4].split('_')[1])    \n",
    "    \n",
    "#     warped_fn = img_fn[:-4] + '_padded_warped.' + ext\n",
    "#     padded_fn = img_fn[:-4] + '_padded.' + ext\n",
    "    \n",
    "#     d = {'input_fn': os.path.join(input_dir, img_fn),\n",
    "#         'output_fn': os.path.join(padded_dir, padded_fn),\n",
    "#          'bg_r': bg_color[0],\n",
    "#          'bg_g': bg_color[1],\n",
    "#          'bg_b': bg_color[2],\n",
    "#          'width': canvas_width,\n",
    "#          'height': canvas_height,\n",
    "#          }\n",
    "        \n",
    "#     convert_cmd = 'convert %(input_fn)s -background \"rgb(%(bg_r)d,%(bg_g)d,%(bg_b)d)\" -gravity center -extent %(width)dx%(height)d -compress lzw %(output_fn)s'%d\n",
    "#     execute_command(convert_cmd)\n",
    "    \n",
    "#     # special treatment for MD579\n",
    "#     if secind in range(59, 67):\n",
    "#         d = {\n",
    "#             'input_fn': os.path.join(padded_dir, padded_fn),\n",
    "#             'output_fn': os.path.join(padded_dir, padded_fn),\n",
    "#             'bg_r': bg_color[0],\n",
    "#             'bg_g': bg_color[1],\n",
    "#             'bg_b': bg_color[2],\n",
    "#             'offset_y': '-' + str(300*scale_factor)    \n",
    "#         }\n",
    "#         execute_command('convert -page +0%(offset_y)s %(input_fn)s -background \"rgb(%(bg_r)d,%(bg_g)d,%(bg_b)d)\" -flatten %(output_fn)s'%d)\n",
    "\n",
    "#     d = {'sx':T[0,0],\n",
    "#          'sy':T[1,1],\n",
    "#          'rx':T[1,0],\n",
    "#          'ry':T[0,1],\n",
    "#          'tx':T[0,2],\n",
    "#          'ty':T[1,2],\n",
    "#          'input_fn': os.path.join(padded_dir, padded_fn),\n",
    "#          'output_fn': os.path.join(warped_dir, warped_fn)\n",
    "#         }\n",
    "\n",
    "#     affine_cmd = \"convert %(input_fn)s -distort AffineProjection '%(sx)f,%(rx)f,%(ry)f,%(sy)f,%(tx)f,%(ty)f' %(output_fn)s\"%d\n",
    "#     execute_command(affine_cmd)\n",
    "    \n",
    "#     cropped_fn = img_fn[:-4] + '_padded_warped_cropped.' + ext\n",
    "\n",
    "#     d = {\n",
    "#     'x': 576 * scale_factor,\n",
    "#     'y': 413 * scale_factor,\n",
    "#     'w': 403 * scale_factor,\n",
    "#     'h': 280 * scale_factor,\n",
    "#     'input_fn': os.path.join(warped_dir, warped_fn),\n",
    "#     'output_fn': os.path.join(cropped_dir, cropped_fn)\n",
    "#     }\n",
    "\n",
    "#     crop_cmd = 'convert %(input_fn)s -crop %(w)dx%(h)d+%(x)d+%(y)d %(output_fn)s'%d\n",
    "#     execute_command(crop_cmd)\n",
    "    \n",
    "#     d = {\n",
    "#         'input_fn': os.path.join(warped_dir, warped_fn),\n",
    "#         'shrinked_fn': os.path.join(shrinked_dir, img_fn[:-4] + '_padded_warped_shrinked.' + ext)\n",
    "#     }\n",
    "        \n",
    "#     shrink_cmd = 'convert %(input_fn)s -scale 12.5%% %(shrinked_fn)s'%d\n",
    "#     execute_command(shrink_cmd)"
   ]
  },
  {
   "cell_type": "code",
   "execution_count": null,
   "metadata": {
    "collapsed": false
   },
   "outputs": [],
   "source": [
    "# for secind in range(first_sec, last_sec+1):\n",
    "#     t = time.time()\n",
    "#     pad_and_warp_and_crop(all_files[secind], np.linalg.inv(Ts_lossless[secind]))\n",
    "#     print time.time()-t"
   ]
  },
  {
   "cell_type": "code",
   "execution_count": 9,
   "metadata": {
    "collapsed": false,
    "scrolled": true
   },
   "outputs": [],
   "source": [
    "# t = time.time()\n",
    "# #does not save much time\n",
    "# Parallel(n_jobs=3)(delayed(pad_and_warp_and_crop)(all_files[secind], np.linalg.inv(Ts_lossless[secind])) \n",
    "#                                           for secind in Ts_lossless.keys()[4:7])\n",
    "# print time.time() - t"
   ]
  }
 ],
 "metadata": {
  "kernelspec": {
   "display_name": "Python 2",
   "language": "python",
   "name": "python2"
  },
  "language_info": {
   "codemirror_mode": {
    "name": "ipython",
    "version": 2
   },
   "file_extension": ".py",
   "mimetype": "text/x-python",
   "name": "python",
   "nbconvert_exporter": "python",
   "pygments_lexer": "ipython2",
   "version": "2.7.3"
  }
 },
 "nbformat": 4,
 "nbformat_minor": 0
}
