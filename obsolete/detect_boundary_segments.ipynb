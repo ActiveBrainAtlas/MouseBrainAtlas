{
 "metadata": {
  "name": "",
  "signature": "sha256:1b28f695156463f9e249590efe3aa2bfc8d79d1cd53b2ffa6dfd5a1c22d8f072"
 },
 "nbformat": 3,
 "nbformat_minor": 0,
 "worksheets": [
  {
   "cells": [
    {
     "cell_type": "code",
     "collapsed": false,
     "input": [
      "%load_ext autoreload\n",
      "%autoreload 2"
     ],
     "language": "python",
     "metadata": {},
     "outputs": [],
     "prompt_number": 1
    },
    {
     "cell_type": "code",
     "collapsed": false,
     "input": [
      "import sys\n",
      "sys.path.append('/home/yuncong/Brain/pipeline_scripts')\n",
      "from utilities2014 import *\n",
      "import os\n",
      "\n",
      "from scipy.spatial.distance import cdist, pdist, squareform\n",
      "from joblib import Parallel, delayed\n",
      "from skimage.color import gray2rgb\n",
      "from skimage.util import img_as_float\n",
      "\n",
      "import networkx\n",
      "from networkx import from_dict_of_lists, dfs_postorder_nodes\n",
      "\n",
      "%run grow_region_boundary_based_common.ipynb"
     ],
     "language": "python",
     "metadata": {},
     "outputs": [
      {
       "output_type": "stream",
       "stream": "stdout",
       "text": [
        "The autoreload extension is already loaded. To reload it, use:\n",
        "  %reload_ext autoreload\n"
       ]
      }
     ],
     "prompt_number": 2
    },
    {
     "cell_type": "code",
     "collapsed": false,
     "input": [
      "dm.set_slice(7)\n",
      "dm._load_image()\n",
      "\n",
      "texton_hists = dm.load_pipeline_result('texHist', 'npy')\n",
      "segmentation = dm.load_pipeline_result('segmentation', 'npy')\n",
      "n_superpixels = len(unique(segmentation)) - 1\n",
      "textonmap = dm.load_pipeline_result('texMap', 'npy')\n",
      "n_texton = len(np.unique(textonmap)) - 1\n",
      "neighbors = dm.load_pipeline_result('neighbors', 'npy')\n",
      "sp_properties = dm.load_pipeline_result('spProps', 'npy')\n",
      "segmentation_vis = dm.load_pipeline_result('segmentationWithText', 'jpg')\n",
      "\n",
      "expansion_clusters_tuples = dm.load_pipeline_result('clusters', 'pkl')\n",
      "expansion_clusters, expansion_cluster_scores = zip(*expansion_clusters_tuples)\n",
      "expansion_cluster_scores = np.array(expansion_cluster_scores)"
     ],
     "language": "python",
     "metadata": {},
     "outputs": [
      {
       "output_type": "stream",
       "stream": "stdout",
       "text": [
        "loaded /home/yuncong/project/DavidData2014results/RS141/0007/RS141_x5_0007_gabor-blueNisslWide-segm-blueNisslRegular-vq-blueNissl_texHist.npy\n",
        "loaded /home/yuncong/project/DavidData2014results/RS141/0007/RS141_x5_0007_segm-blueNisslRegular_segmentation.npy"
       ]
      },
      {
       "output_type": "stream",
       "stream": "stdout",
       "text": [
        "\n",
        "loaded /home/yuncong/project/DavidData2014results/RS141/0007/RS141_x5_0007_gabor-blueNisslWide-vq-blueNissl_texMap.npy"
       ]
      },
      {
       "output_type": "stream",
       "stream": "stdout",
       "text": [
        "\n",
        "loaded /home/yuncong/project/DavidData2014results/RS141/0007/RS141_x5_0007_segm-blueNisslRegular_neighbors.npy"
       ]
      },
      {
       "output_type": "stream",
       "stream": "stdout",
       "text": [
        "\n",
        "loaded /home/yuncong/project/DavidData2014results/RS141/0007/RS141_x5_0007_segm-blueNisslRegular_spProps.npy\n",
        "loaded /home/yuncong/project/DavidData2014results/RS141/0007/RS141_x5_0007_segm-blueNisslRegular_segmentationWithText.jpg"
       ]
      },
      {
       "output_type": "stream",
       "stream": "stdout",
       "text": [
        "\n",
        "loaded /home/yuncong/project/DavidData2014results/RS141/0007/RS141_x5_0007_gabor-blueNisslWide-segm-blueNisslRegular-vq-blueNissl_clusters.pkl"
       ]
      },
      {
       "output_type": "stream",
       "stream": "stdout",
       "text": [
        "\n"
       ]
      }
     ],
     "prompt_number": 3
    },
    {
     "cell_type": "code",
     "collapsed": false,
     "input": [
      "neighbors_dict = dict(zip(np.arange(n_superpixels), [list(i) for i in neighbors]))\n",
      "neighbor_graph = from_dict_of_lists(neighbors_dict)"
     ],
     "language": "python",
     "metadata": {},
     "outputs": [],
     "prompt_number": 4
    },
    {
     "cell_type": "code",
     "collapsed": false,
     "input": [
      "# Order the exterior by depth-first search\n",
      "# The ordering is non-deterministic in some corners\n",
      "\n",
      "def find_boundaries(clusters, neighbors, mode=None):\n",
      "        \n",
      "    n_superpixels = len(clusters)\n",
      "    \n",
      "    border_sps = []\n",
      "    \n",
      "    for j, cluster in enumerate(clusters):\n",
      "        surrounds = set([i for i in set.union(*[neighbors[c] for c in cluster]) if i not in cluster and i != -1])\n",
      "        surrounds = set([i for i in surrounds if any([(n not in cluster) and (n not in surrounds) for n in neighbors[i]])])\n",
      "        if len(surrounds) == 0:\n",
      "            continue\n",
      "\n",
      "        if mode=='frontiers':\n",
      "            frontiers = set.union(*[neighbors[c] for c in surrounds]) & set(cluster)\n",
      "            border = frontiers\n",
      "        elif mode=='surrounds':\n",
      "            border = surrounds\n",
      "        elif mode=='both':\n",
      "            border = surrounds | frontiers\n",
      "         \n",
      "        boundary_subgraph = neighbor_graph.subgraph(border)\n",
      "        boundary_traversal = list(dfs_postorder_nodes(boundary_subgraph))\n",
      "        \n",
      "        border_sps.append(boundary_traversal)\n",
      "            \n",
      "    return border_sps"
     ],
     "language": "python",
     "metadata": {},
     "outputs": [],
     "prompt_number": 5
    },
    {
     "cell_type": "code",
     "collapsed": false,
     "input": [
      "# Order the exterior by casting rays counter-clockwise\n",
      "\n",
      "def find_boundaries(clusters, neighbors, mode=None, sp_properties=None):\n",
      "        \n",
      "    n_superpixels = len(clusters)\n",
      "    \n",
      "    border_sps = []\n",
      "    \n",
      "    if sp_properties is not None:\n",
      "        border_positions_sps = []\n",
      "\n",
      "    for j, cluster in enumerate(clusters):\n",
      "        surrounds = set([i for i in set.union(*[neighbors[c] for c in cluster]) if i not in cluster and i != -1])\n",
      "        surrounds = set([i for i in surrounds if any([(n not in cluster) and (n not in surrounds) for n in neighbors[i]])])\n",
      "        if len(surrounds) == 0:\n",
      "            continue\n",
      "\n",
      "        if mode=='frontiers':\n",
      "            frontiers = set.union(*[neighbors[c] for c in surrounds]) & set(cluster)\n",
      "            border = frontiers\n",
      "        elif mode=='surrounds':\n",
      "            border = surrounds\n",
      "        elif mode=='both':\n",
      "            border = surrounds | frontiers\n",
      "        \n",
      "        if sp_properties is not None:\n",
      "        \n",
      "            interior_center = sp_properties[list(cluster), :2].mean(axis=0)\n",
      "\n",
      "            border_sps_list = np.array(list(border))\n",
      "            vec_intctr2ext = sp_properties[border_sps_list, :2] - interior_center\n",
      "            angles = np.arctan2(vec_intctr2ext[:,1], vec_intctr2ext[:,0])\n",
      "            for i in range(len(angles)):\n",
      "                if angles[i] < 0:\n",
      "                    angles[i] += 2*np.pi\n",
      "\n",
      "            border_sps_list_sorted = border_sps_list[np.argsort(angles)] \n",
      "\n",
      "            border_positions = sp_properties[border_sps_list_sorted, :2]\n",
      "            \n",
      "            border_sps.append(border_sps_list_sorted)\n",
      "            border_positions_sps.append(border_positions)\n",
      "            \n",
      "        else:\n",
      "            border_sps.append(border)\n",
      "            \n",
      "    if sp_properties is not None:\n",
      "        return border_sps, border_positions_sps\n",
      "    else:\n",
      "        return border_sps"
     ],
     "language": "python",
     "metadata": {},
     "outputs": []
    },
    {
     "cell_type": "code",
     "collapsed": false,
     "input": [
      "border_sps = find_boundaries(expansion_clusters, neighbors=neighbors, mode='surrounds')"
     ],
     "language": "python",
     "metadata": {},
     "outputs": [],
     "prompt_number": 6
    },
    {
     "cell_type": "code",
     "collapsed": false,
     "input": [
      "votes = np.zeros((n_superpixels,))\n",
      "sources = [[] for _ in range(n_superpixels)]\n",
      "\n",
      "for s in range(n_superpixels):\n",
      "#     if s not in sps_in_good_regions: continue\n",
      "        \n",
      "    c = list(expansion_clusters[s])\n",
      "    interior_texture = texton_hists[c].mean(axis=0)\n",
      "    b = border_sps[s]\n",
      "    ds = np.squeeze(cdist(texton_hists[b], [interior_texture], chi2))\n",
      "    \n",
      "#     votes[b] += ds / np.sqrt(max(len(c), 5))\n",
      "    votes[b] += ds / max(len(c), 5)\n",
      "    for i, d in zip(b, ds):\n",
      "        sources[i].append((s, d))"
     ],
     "language": "python",
     "metadata": {},
     "outputs": []
    },
    {
     "cell_type": "code",
     "collapsed": false,
     "input": [
      "votes_normalized = (votes-votes.min()) / (votes.max() - votes.min())\n",
      "vis = votes_normalized[segmentation]\n",
      "\n",
      "from mpl_toolkits.axes_grid1 import make_axes_locatable\n",
      "\n",
      "plt.figure(figsize=(10,10))\n",
      "ax = plt.gca()\n",
      "plt.axis('off')\n",
      "im = ax.imshow(vis, cmap=plt.cm.gray);\n",
      "divider = make_axes_locatable(ax)\n",
      "cax = divider.append_axes(\"right\", size=\"5%\", pad=0.05)\n",
      "plt.colorbar(im, cax=cax)\n",
      "plt.show()\n",
      "\n",
      "votemap = plt.cm.gray(vis)[..., :3]\n",
      "votemap_vis = alpha_blending(votemap, img_as_float(dm.image_rgb), 0.7*np.ones((dm.image_height, dm.image_width)), \n",
      "               1.*np.ones((dm.image_height, dm.image_width)))\n",
      "\n",
      "display(votemap_vis)"
     ],
     "language": "python",
     "metadata": {},
     "outputs": []
    },
    {
     "cell_type": "code",
     "collapsed": false,
     "input": [
      "plt.hist(votes, bins=100);\n",
      "plt.xlabel('votes')\n",
      "plt.ylabel('frequency')\n",
      "plt.show()"
     ],
     "language": "python",
     "metadata": {},
     "outputs": []
    },
    {
     "cell_type": "heading",
     "level": 1,
     "metadata": {},
     "source": [
      "Supporter clustering experiment"
     ]
    },
    {
     "cell_type": "code",
     "collapsed": false,
     "input": [
      "supporters_all = [[t[0] for t in sources[i]] for i in range(n_superpixels)]"
     ],
     "language": "python",
     "metadata": {},
     "outputs": [],
     "prompt_number": 155
    },
    {
     "cell_type": "code",
     "collapsed": false,
     "input": [
      "winners = np.where(votes > 1.)[0]\n",
      "supporters = [[t[0] for t in sources[i]] for i in winners]"
     ],
     "language": "python",
     "metadata": {},
     "outputs": []
    },
    {
     "cell_type": "code",
     "collapsed": false,
     "input": [
      "def compute_overlap(c1, c2):\n",
      "    return float(len(c1 & c2)) / min(len(c1),len(c2))\n",
      "#     return float(len(c1 & c2)) / len(c1 | c2)\n",
      "\n",
      "def compute_overlap_partial(indices, sets):\n",
      "    n_sets = len(sets)\n",
      "    \n",
      "    overlap_matrix = np.zeros((len(indices), n_sets))\n",
      "        \n",
      "    for ii, i in enumerate(indices):\n",
      "        for j in range(n_sets):\n",
      "            c1 = set(sets[i])\n",
      "            c2 = set(sets[j])\n",
      "            if len(c1) == 0 or len(c2) == 0:\n",
      "                overlap_matrix[ii, j] = 0\n",
      "            else:\n",
      "                overlap_matrix[ii, j] = compute_overlap(c1, c2)\n",
      "            \n",
      "    return overlap_matrix\n",
      "\n",
      "def set_pairwise_distances(sets):\n",
      "\n",
      "    partial_overlap_mat = Parallel(n_jobs=16, max_nbytes=1e6)(delayed(compute_overlap_partial)(s, sets) \n",
      "                                        for s in np.array_split(range(len(sets)), 16))\n",
      "    overlap_matrix = np.vstack(partial_overlap_mat)\n",
      "    distance_matrix = 1 - overlap_matrix\n",
      "    \n",
      "    np.fill_diagonal(distance_matrix, 0)\n",
      "    \n",
      "    return distance_matrix"
     ],
     "language": "python",
     "metadata": {},
     "outputs": [],
     "prompt_number": 25
    },
    {
     "cell_type": "code",
     "collapsed": false,
     "input": [
      "D = set_pairwise_distances(supporters)"
     ],
     "language": "python",
     "metadata": {},
     "outputs": []
    },
    {
     "cell_type": "code",
     "collapsed": false,
     "input": [
      "winner_indices_grouped_by_supporters = group_clusters(supporters, dist_thresh=.2, distance_matrix=D)\n",
      "print len(winner_indices_grouped_by_supporters), 'alliances'\n",
      "winners_grouped_by_supporters = [winners[g] for g in winner_indices_grouped_by_supporters]"
     ],
     "language": "python",
     "metadata": {},
     "outputs": []
    },
    {
     "cell_type": "code",
     "collapsed": false,
     "input": [
      "alliance_sizes = np.array(map(len, winners_grouped_by_supporters))\n",
      "plt.hist(alliance_sizes, bins=100);\n",
      "plt.xlabel('alliance size')\n",
      "plt.ylabel('frequency')\n",
      "plt.show()"
     ],
     "language": "python",
     "metadata": {},
     "outputs": []
    },
    {
     "cell_type": "code",
     "collapsed": false,
     "input": [
      "big_alliance_indices = np.where((alliance_sizes > 5) & (alliance_sizes < 99))[0]\n",
      "print len(big_alliance_indices), 'big alliances'\n",
      "big_alliance_sps = [winners_grouped_by_supporters[ba_ind] for ba_ind in big_alliance_indices]\n",
      "big_alliance_winnerIndices = [winner_indices_grouped_by_supporters[ba_ind] for ba_ind in big_alliance_indices]\n",
      "big_alliance_supporters = [set.union(*[set(supporters[i]) for i in a]) for a in big_alliance_winnerIndices]"
     ],
     "language": "python",
     "metadata": {},
     "outputs": [
      {
       "output_type": "stream",
       "stream": "stdout",
       "text": [
        "15 big alliances\n"
       ]
      }
     ],
     "prompt_number": 149
    },
    {
     "cell_type": "code",
     "collapsed": false,
     "input": [
      "display(visualize_multiple_clusters(big_alliance_sps, segmentation=segmentation, segmentation_vis=segmentation_vis))"
     ],
     "language": "python",
     "metadata": {},
     "outputs": []
    },
    {
     "cell_type": "code",
     "collapsed": false,
     "input": [
      "for sps in big_alliance_sps:\n",
      "    vis = visualize_cluster(sps, segmentation=segmentation, segmentation_vis=segmentation_vis)\n",
      "    plt.figure(figsize=(10,10))\n",
      "    plt.imshow(vis)\n",
      "    plt.axis('off')\n",
      "    plt.show()"
     ],
     "language": "python",
     "metadata": {},
     "outputs": []
    },
    {
     "cell_type": "heading",
     "level": 1,
     "metadata": {},
     "source": [
      "Vote diffusion experiment"
     ]
    },
    {
     "cell_type": "code",
     "collapsed": false,
     "input": [
      "sigma = .3\n",
      "x = np.linspace(0, 1, 100)\n",
      "y = np.exp(-x**2/sigma**2)\n",
      "plt.plot(x, y);"
     ],
     "language": "python",
     "metadata": {},
     "outputs": [
      {
       "metadata": {},
       "output_type": "display_data",
       "png": "[encoded data removed]",
       "text": [
        "<matplotlib.figure.Figure at 0x47ff390>"
       ]
      }
     ],
     "prompt_number": 77
    },
    {
     "cell_type": "code",
     "collapsed": false,
     "input": [
      "sigma = .3\n",
      "boundary_affinity_all = np.exp(-D**2/sigma**2)\n",
      "\n",
      "boundary_affinity = np.zeros_like(boundary_affinity_all)\n",
      "for i, wi in enumerate(winners):\n",
      "    for j, wj in enumerate(winners):\n",
      "        if wj in neighbors[wi]:\n",
      "            boundary_affinity[i,j] = boundary_affinity_all[i,j]\n",
      "\n",
      "W = boundary_affinity / boundary_affinity.sum(axis=1)[:,np.newaxis]\n",
      "W = np.nan_to_num(W)\n",
      "\n",
      "plt.matshow(W);\n",
      "plt.colorbar();"
     ],
     "language": "python",
     "metadata": {},
     "outputs": [
      {
       "metadata": {},
       "output_type": "display_data",
       "png": "[encoded data removed]",
       "text": [
        "<matplotlib.figure.Figure at 0x2ba809d77a50>"
       ]
      }
     ],
     "prompt_number": 280
    },
    {
     "cell_type": "code",
     "collapsed": false,
     "input": [
      "votes2 = np.zeros_like(votes)\n",
      "votes2[winners] = votes[winners]\n",
      "\n",
      "vis = votes2[segmentation]\n",
      "plt.imshow(vis, cmap=plt.cm.gray);\n",
      "plt.axis('off')\n",
      "plt.show()"
     ],
     "language": "python",
     "metadata": {},
     "outputs": [
      {
       "metadata": {},
       "output_type": "display_data",
       "png": "[encoded data removed]",
       "text": [
        "<matplotlib.figure.Figure at 0xc974dd0>"
       ]
      }
     ],
     "prompt_number": 26
    },
    {
     "cell_type": "code",
     "collapsed": false,
     "input": [
      "votes2 = np.zeros_like(votes)\n",
      "votes2[winners] = votes[winners]\n",
      "\n",
      "for i in range(10):\n",
      "    votes2p = votes2.copy()\n",
      "    votes2[winners] = np.dot(W, votes2[winners])\n",
      "    print np.linalg.norm(np.abs(votes2 - votes2p))\n"
     ],
     "language": "python",
     "metadata": {},
     "outputs": [
      {
       "output_type": "stream",
       "stream": "stdout",
       "text": [
        "28.0485908222\n",
        "23.9161341936\n",
        "23.2058618855\n",
        "23.2042457665\n",
        "23.1752216926\n",
        "23.1626967764\n",
        "23.1406957786\n",
        "23.1286450528\n",
        "23.1065318627\n",
        "23.0958151944\n"
       ]
      }
     ],
     "prompt_number": 31
    },
    {
     "cell_type": "code",
     "collapsed": false,
     "input": [
      "vis = votes2[segmentation]\n",
      "plt.imshow(vis, cmap=plt.cm.gray);\n",
      "plt.axis('off')\n",
      "plt.show()"
     ],
     "language": "python",
     "metadata": {},
     "outputs": [
      {
       "metadata": {},
       "output_type": "display_data",
       "png": "[encoded data removed]",
       "text": [
        "<matplotlib.figure.Figure at 0x9c329d0>"
       ]
      }
     ],
     "prompt_number": 41
    },
    {
     "cell_type": "code",
     "collapsed": false,
     "input": [
      "votes_normalized = (votes2 - votes2.min()) / (votes2.max() - votes2.min())\n",
      "vis = votes_normalized[segmentation]\n",
      "\n",
      "votemap = plt.cm.gray(vis)[..., :3]\n",
      "votemap_vis = alpha_blending(votemap, img_as_float(dm.image_rgb), 0.7*np.ones((dm.image_height, dm.image_width)), \n",
      "               1.*np.ones((dm.image_height, dm.image_width)))\n",
      "display(votemap_vis)"
     ],
     "language": "python",
     "metadata": {},
     "outputs": [
      {
       "html": [
        "<a href='tmp.jpg' target='_blank'>tmp.jpg</a><br>"
       ],
       "metadata": {},
       "output_type": "pyout",
       "prompt_number": 44,
       "text": [
        "/oasis/projects/nsf/csd181/yuncong/Brain/notebooks/tmp.jpg"
       ]
      }
     ],
     "prompt_number": 44
    },
    {
     "cell_type": "code",
     "collapsed": false,
     "input": [
      "plt.hist(votes[winners], bins=100);\n",
      "plt.show()\n",
      "plt.hist(votes2[winners], bins=100);\n",
      "plt.show()"
     ],
     "language": "python",
     "metadata": {},
     "outputs": [
      {
       "metadata": {},
       "output_type": "display_data",
       "png": "[encoded data removed]",
       "text": [
        "<matplotlib.figure.Figure at 0xce72810>"
       ]
      },
      {
       "metadata": {},
       "output_type": "display_data",
       "png": "[encoded data removed]",
       "text": [
        "<matplotlib.figure.Figure at 0xce728d0>"
       ]
      }
     ],
     "prompt_number": 33
    },
    {
     "cell_type": "heading",
     "level": 1,
     "metadata": {},
     "source": [
      "Vote thresholding"
     ]
    },
    {
     "cell_type": "code",
     "collapsed": false,
     "input": [
      "votes_thresholded = (votes2 > 1.).astype(np.float)\n",
      "vis = votes_thresholded[segmentation]\n",
      "plt.imshow(vis, cmap=plt.cm.gray);\n",
      "plt.axis('off')\n",
      "plt.show()"
     ],
     "language": "python",
     "metadata": {},
     "outputs": [
      {
       "metadata": {},
       "output_type": "display_data",
       "png": "[encoded data removed]",
       "text": [
        "<matplotlib.figure.Figure at 0x9a82890>"
       ]
      }
     ],
     "prompt_number": 112
    },
    {
     "cell_type": "code",
     "collapsed": false,
     "input": [
      "from networkx import Graph\n",
      "from networkx.algorithms.components import connected_components"
     ],
     "language": "python",
     "metadata": {},
     "outputs": [],
     "prompt_number": 45
    },
    {
     "cell_type": "code",
     "collapsed": false,
     "input": [
      "winner_scores = np.array([chi2(texton_hists[w], texton_hists[sptrs].mean(axis=0)) for w, sptrs in zip(winners, supporters)])\n",
      "winners_sorted_by_score = np.argsort(winner_scores)[::-1]"
     ],
     "language": "python",
     "metadata": {},
     "outputs": [],
     "prompt_number": 106
    },
    {
     "cell_type": "code",
     "collapsed": false,
     "input": [
      "a = np.zeros((n_superpixels,))\n",
      "a[winners] = winner_scores\n",
      "vis = a[segmentation]\n",
      "plt.imshow(vis, cmap=plt.cm.gray);\n",
      "plt.axis('off')\n",
      "plt.show()"
     ],
     "language": "python",
     "metadata": {},
     "outputs": [
      {
       "metadata": {},
       "output_type": "display_data",
       "png": "[encoded data removed]",
       "text": [
        "<matplotlib.figure.Figure at 0x9227790>"
       ]
      }
     ],
     "prompt_number": 108
    },
    {
     "cell_type": "code",
     "collapsed": false,
     "input": [
      "g = networkx.from_numpy_matrix(np.maximum(W - 0.2, 0))\n",
      "winner_components_tuple_sorted_by_score = sorted([(winner_scores[cc].mean(), winners[cc]) for cc in connected_components(g) \n",
      "                                                  if len(cc) > 5], reverse=True)\n",
      "winner_component_scores_sorted, winner_component_sorted = zip(*winner_components_tuple_sorted_by_score)\n",
      "\n",
      "display(visualize_multiple_clusters(winner_component_sorted[:30], \n",
      "                                    segmentation=segmentation, segmentation_vis=segmentation_vis))"
     ],
     "language": "python",
     "metadata": {},
     "outputs": [
      {
       "html": [
        "<a href='tmp.jpg' target='_blank'>tmp.jpg</a><br>"
       ],
       "metadata": {},
       "output_type": "pyout",
       "prompt_number": 282,
       "text": [
        "/oasis/projects/nsf/csd181/yuncong/Brain/notebooks/tmp.jpg"
       ]
      }
     ],
     "prompt_number": 282
    },
    {
     "cell_type": "code",
     "collapsed": false,
     "input": [
      "colors = np.uint8(np.loadtxt('../visualization/100colors.txt') * 255)"
     ],
     "language": "python",
     "metadata": {},
     "outputs": [],
     "prompt_number": 260
    },
    {
     "cell_type": "code",
     "collapsed": false,
     "input": [
      "# vis = np.zeros_like(dm.image_rgb, np.uint8)\n",
      "\n",
      "vis = dm.image_rgb.copy()\n",
      "\n",
      "# for ci, comp in enumerate(winner_component_sorted):\n",
      "\n",
      "comp = winner_component_sorted[2]\n",
      "\n",
      "# counter = Counter([frozenset(supporters_all[i]) for i in comp])\n",
      "# verified_supporter = counter.keys()[np.argmax(counter.values())]\n",
      "\n",
      "verified_supporter = set.union(*[set(supporters_all[i]) for i in comp])\n",
      "\n",
      "interior_sps = (verified_supporter & set.union(*[neighbors[i] for i in comp])) - set(comp)\n",
      "\n",
      "for bi in comp:\n",
      "    for ii in interior_sps:\n",
      "        if frozenset([bi, ii]) in neighbormap:\n",
      "            for y, x in neighbormap[frozenset([bi, ii])]:\n",
      "                vis[y, x] = colors[ci%len(colors)]\n",
      "\n",
      "display(vis)\n",
      "\n",
      "    # plt.figure(figsize=(20,20))\n",
      "    # plt.imshow(vis, cmap=plt.cm.gray)\n",
      "    # plt.axis('off')\n",
      "    # plt.show()"
     ],
     "language": "python",
     "metadata": {},
     "outputs": [
      {
       "html": [
        "<a href='tmp.jpg' target='_blank'>tmp.jpg</a><br>"
       ],
       "metadata": {},
       "output_type": "pyout",
       "prompt_number": 287,
       "text": [
        "/oasis/projects/nsf/csd181/yuncong/Brain/notebooks/tmp.jpg"
       ]
      }
     ],
     "prompt_number": 287
    },
    {
     "cell_type": "code",
     "collapsed": false,
     "input": [
      "display(visualize_cluster(comp, segmentation=segmentation, segmentation_vis=segmentation_vis))"
     ],
     "language": "python",
     "metadata": {},
     "outputs": [
      {
       "html": [
        "<a href='tmp.jpg' target='_blank'>tmp.jpg</a><br>"
       ],
       "metadata": {},
       "output_type": "pyout",
       "prompt_number": 288,
       "text": [
        "/oasis/projects/nsf/csd181/yuncong/Brain/notebooks/tmp.jpg"
       ]
      }
     ],
     "prompt_number": 288
    },
    {
     "cell_type": "code",
     "collapsed": false,
     "input": [
      "display(visualize_cluster(interior_sps, segmentation=segmentation, segmentation_vis=segmentation_vis))"
     ],
     "language": "python",
     "metadata": {},
     "outputs": [
      {
       "html": [
        "<a href='tmp.jpg' target='_blank'>tmp.jpg</a><br>"
       ],
       "metadata": {},
       "output_type": "pyout",
       "prompt_number": 285,
       "text": [
        "/oasis/projects/nsf/csd181/yuncong/Brain/notebooks/tmp.jpg"
       ]
      }
     ],
     "prompt_number": 285
    },
    {
     "cell_type": "code",
     "collapsed": false,
     "input": [
      "display(visualize_cluster(winner_component_sorted[2], segmentation=segmentation, segmentation_vis=segmentation_vis))"
     ],
     "language": "python",
     "metadata": {},
     "outputs": [
      {
       "html": [
        "<a href='tmp.jpg' target='_blank'>tmp.jpg</a><br>"
       ],
       "metadata": {},
       "output_type": "pyout",
       "prompt_number": 289,
       "text": [
        "/oasis/projects/nsf/csd181/yuncong/Brain/notebooks/tmp.jpg"
       ]
      }
     ],
     "prompt_number": 289
    },
    {
     "cell_type": "code",
     "collapsed": false,
     "input": [
      "from scipy.ndimage.filters import maximum_filter1d\n",
      "\n",
      "sp = representative_cluster_indices_sorted_by_score[13]\n",
      "\n",
      "a = np.zeros((n_superpixels))\n",
      "b = border_sps[sp]\n",
      "\n",
      "# a[b] = votes[b]\n",
      "a[b] = maximum_filter1d(votes[b], 3)\n",
      "\n",
      "plt.plot(votes[b]);\n",
      "plt.plot(maximum_filter1d(votes[b], 3));\n",
      "\n",
      "# votes_normalized = (a-a.min()) / (a.max() - a.min())\n",
      "# vis = votes_normalized[segmentation]\n",
      "\n",
      "votes_thresholded = (a > 1.2).astype(np.float)\n",
      "vis = votes_thresholded[segmentation]\n",
      "\n",
      "votemap = plt.cm.gray(vis)[..., :3]\n",
      "\n",
      "votemap_vis = alpha_blending(votemap, img_as_float(dm.image_rgb), 0.7*np.ones((dm.image_height, dm.image_width)), \n",
      "               1.*np.ones((dm.image_height, dm.image_width)))\n",
      "\n",
      "display(votemap_vis)"
     ],
     "language": "python",
     "metadata": {},
     "outputs": []
    },
    {
     "cell_type": "code",
     "collapsed": false,
     "input": [
      "from scipy.ndimage.filters import maximum_filter1d\n",
      "\n",
      "for i, sp in enumerate(representative_cluster_indices_sorted_by_score[:40]):\n",
      "\n",
      "    a = np.zeros((n_superpixels))\n",
      "    b = border_sps[sp]\n",
      "\n",
      "#     a[b] = votes[b]\n",
      "    a[b] = maximum_filter1d(votes[b], 3)\n",
      "\n",
      "#     votes_normalized = (a-a.min()) / (a.max() - a.min())\\\n",
      "#     vis = votes_normalized[segmentation]\n",
      "\n",
      "    votes_thresholded = (a > 1.5).astype(np.float)\n",
      "    vis = votes_thresholded[segmentation]\n",
      "    \n",
      "    votemap = plt.cm.gray(vis)[..., :3]\n",
      "\n",
      "    votemap_vis = alpha_blending(votemap, img_as_float(dm.image_rgb), 0.7*np.ones((dm.image_height, dm.image_width)), \n",
      "                   1.*np.ones((dm.image_height, dm.image_width)))\n",
      "\n",
      "    dm.save_pipeline_result(votemap_vis, 'boundary%d'%i, 'jpg')\n",
      "\n",
      "#     display(votemap_vis)\n",
      "\n",
      "\n",
      "# plt.imshow(vis, cmap=plt.cm.gray);\n",
      "# plt.axis('off')\n",
      "# plt.show()"
     ],
     "language": "python",
     "metadata": {},
     "outputs": []
    }
   ],
   "metadata": {}
  }
 ]
}