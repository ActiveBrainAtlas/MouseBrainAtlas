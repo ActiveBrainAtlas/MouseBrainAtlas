{
 "metadata": {
  "name": "",
  "signature": "sha256:4a1c3ee35a30617fb9cb233c85f262cfc4445156c8299acf59ddd11ca56cd0a1"
 },
 "nbformat": 3,
 "nbformat_minor": 0,
 "worksheets": [
  {
   "cells": [
    {
     "cell_type": "code",
     "collapsed": false,
     "input": [
      "%reload_ext autoreload\n",
      "%autoreload 2\n",
      "\n",
      "from preamble import *"
     ],
     "language": "python",
     "metadata": {},
     "outputs": [
      {
       "output_type": "stream",
       "stream": "stdout",
       "text": [
        "num. of kernels: 99\n",
        "frequencies: [ 0.2         0.13333333  0.08888889  0.05925926  0.03950617  0.02633745\n",
        "  0.0175583   0.01170553  0.00780369]\n",
        "wavelength (pixels): [   5.            7.5          11.25         16.875        25.3125\n",
        "   37.96875      56.953125     85.4296875   128.14453125]\n",
        "max kernel matrix size: 243\n"
       ]
      }
     ],
     "prompt_number": 1
    },
    {
     "cell_type": "code",
     "collapsed": false,
     "input": [
      "texton_hists = dm.load_pipeline_result('texHist', 'npy')\n",
      "\n",
      "segmentation = dm.load_pipeline_result('segmentation', 'npy')\n",
      "n_superpixels = len(unique(segmentation)) - 1\n",
      "\n",
      "textonmap = dm.load_pipeline_result('texMap', 'npy')\n",
      "n_texton = len(np.unique(textonmap)) - 1\n",
      "\n",
      "neighbors = dm.load_pipeline_result('neighbors', 'npy')\n",
      "\n",
      "sp_properties = dm.load_pipeline_result('spProps', 'npy')\n",
      "\n",
      "segmentation_vis = dm.load_pipeline_result('segmentationWithText', 'jpg')"
     ],
     "language": "python",
     "metadata": {},
     "outputs": [
      {
       "output_type": "stream",
       "stream": "stdout",
       "text": [
        "/home/yuncong/project/DavidData2014results/RS141/0005/RS141_x5_0005_gabor-blueNisslWide-segm-blueNisslRegular-vq-blueNissl_texHist.npy\n",
        "loaded /home/yuncong/project/DavidData2014results/RS141/0005/RS141_x5_0005_gabor-blueNisslWide-segm-blueNisslRegular-vq-blueNissl_texHist.npy"
       ]
      },
      {
       "output_type": "stream",
       "stream": "stdout",
       "text": [
        "\n",
        "/home/yuncong/project/DavidData2014results/RS141/0005/RS141_x5_0005_segm-blueNisslRegular_segmentation.npy\n",
        "loaded /home/yuncong/project/DavidData2014results/RS141/0005/RS141_x5_0005_segm-blueNisslRegular_segmentation.npy\n",
        "/home/yuncong/project/DavidData2014results/RS141/0005/RS141_x5_0005_gabor-blueNisslWide-vq-blueNissl_texMap.npy"
       ]
      },
      {
       "output_type": "stream",
       "stream": "stdout",
       "text": [
        "\n",
        "loaded /home/yuncong/project/DavidData2014results/RS141/0005/RS141_x5_0005_gabor-blueNisslWide-vq-blueNissl_texMap.npy"
       ]
      },
      {
       "output_type": "stream",
       "stream": "stdout",
       "text": [
        "\n",
        "/home/yuncong/project/DavidData2014results/RS141/0005/RS141_x5_0005_segm-blueNisslRegular_neighbors.npy"
       ]
      },
      {
       "output_type": "stream",
       "stream": "stdout",
       "text": [
        "\n",
        "loaded /home/yuncong/project/DavidData2014results/RS141/0005/RS141_x5_0005_segm-blueNisslRegular_neighbors.npy"
       ]
      },
      {
       "output_type": "stream",
       "stream": "stdout",
       "text": [
        "\n",
        "/home/yuncong/project/DavidData2014results/RS141/0005/RS141_x5_0005_segm-blueNisslRegular_spProps.npy\n",
        "loaded /home/yuncong/project/DavidData2014results/RS141/0005/RS141_x5_0005_segm-blueNisslRegular_spProps.npy\n",
        "/home/yuncong/project/DavidData2014results/RS141/0005/RS141_x5_0005_segm-blueNisslRegular_segmentationWithText.jpg\n",
        "loaded /home/yuncong/project/DavidData2014results/RS141/0005/RS141_x5_0005_segm-blueNisslRegular_segmentationWithText.jpg"
       ]
      },
      {
       "output_type": "stream",
       "stream": "stdout",
       "text": [
        "\n"
       ]
      }
     ],
     "prompt_number": 2
    },
    {
     "cell_type": "code",
     "collapsed": false,
     "input": [
      "from scipy.spatial.distance import cdist, pdist, squareform\n",
      "\n",
      "center_dists = pdist(sp_properties[:, :2])\n",
      "center_dist_matrix = squareform(center_dists)\n",
      "\n",
      "k = 200\n",
      "k_neighbors = np.argsort(center_dist_matrix, axis=1)[:, 1:k+1]\n",
      "\n",
      "neighbor_dists = np.empty((n_superpixels, k))\n",
      "for i in range(n_superpixels):\n",
      "#     neighbor_dists[i] = np.squeeze(cdist(texton_hists[i][np.newaxis,:], texton_hists[k_neighbors[i]], chi2))\n",
      "    neighbor_dists[i] = np.squeeze(cdist(texton_hists[i][np.newaxis,:], texton_hists[k_neighbors[i]], js))\n",
      "    \n",
      "sp_sp_dists = np.nan * np.ones((n_superpixels, n_superpixels))\n",
      "for i in range(n_superpixels):\n",
      "    sp_sp_dists[i, k_neighbors[i]] = neighbor_dists[i]"
     ],
     "language": "python",
     "metadata": {},
     "outputs": [
      {
       "ename": "KeyboardInterrupt",
       "evalue": "",
       "output_type": "pyerr",
       "traceback": [
        "\u001b[1;31m---------------------------------------------------------------------------\u001b[0m\n\u001b[1;31mKeyboardInterrupt\u001b[0m                         Traceback (most recent call last)",
        "\u001b[1;32m<ipython-input-3-8e5a3ce6e65d>\u001b[0m in \u001b[0;36m<module>\u001b[1;34m()\u001b[0m\n\u001b[0;32m     10\u001b[0m \u001b[1;32mfor\u001b[0m \u001b[0mi\u001b[0m \u001b[1;32min\u001b[0m \u001b[0mrange\u001b[0m\u001b[1;33m(\u001b[0m\u001b[0mn_superpixels\u001b[0m\u001b[1;33m)\u001b[0m\u001b[1;33m:\u001b[0m\u001b[1;33m\u001b[0m\u001b[0m\n\u001b[0;32m     11\u001b[0m \u001b[1;31m#     neighbor_dists[i] = np.squeeze(cdist(texton_hists[i][np.newaxis,:], texton_hists[k_neighbors[i]], chi2))\u001b[0m\u001b[1;33m\u001b[0m\u001b[1;33m\u001b[0m\u001b[0m\n\u001b[1;32m---> 12\u001b[1;33m     \u001b[0mneighbor_dists\u001b[0m\u001b[1;33m[\u001b[0m\u001b[0mi\u001b[0m\u001b[1;33m]\u001b[0m \u001b[1;33m=\u001b[0m \u001b[0mnp\u001b[0m\u001b[1;33m.\u001b[0m\u001b[0msqueeze\u001b[0m\u001b[1;33m(\u001b[0m\u001b[0mcdist\u001b[0m\u001b[1;33m(\u001b[0m\u001b[0mtexton_hists\u001b[0m\u001b[1;33m[\u001b[0m\u001b[0mi\u001b[0m\u001b[1;33m]\u001b[0m\u001b[1;33m[\u001b[0m\u001b[0mnp\u001b[0m\u001b[1;33m.\u001b[0m\u001b[0mnewaxis\u001b[0m\u001b[1;33m,\u001b[0m\u001b[1;33m:\u001b[0m\u001b[1;33m]\u001b[0m\u001b[1;33m,\u001b[0m \u001b[0mtexton_hists\u001b[0m\u001b[1;33m[\u001b[0m\u001b[0mk_neighbors\u001b[0m\u001b[1;33m[\u001b[0m\u001b[0mi\u001b[0m\u001b[1;33m]\u001b[0m\u001b[1;33m]\u001b[0m\u001b[1;33m,\u001b[0m \u001b[0mjs\u001b[0m\u001b[1;33m)\u001b[0m\u001b[1;33m)\u001b[0m\u001b[1;33m\u001b[0m\u001b[0m\n\u001b[0m\u001b[0;32m     13\u001b[0m \u001b[1;33m\u001b[0m\u001b[0m\n\u001b[0;32m     14\u001b[0m \u001b[0msp_sp_dists\u001b[0m \u001b[1;33m=\u001b[0m \u001b[0mnp\u001b[0m\u001b[1;33m.\u001b[0m\u001b[0mnan\u001b[0m \u001b[1;33m*\u001b[0m \u001b[0mnp\u001b[0m\u001b[1;33m.\u001b[0m\u001b[0mones\u001b[0m\u001b[1;33m(\u001b[0m\u001b[1;33m(\u001b[0m\u001b[0mn_superpixels\u001b[0m\u001b[1;33m,\u001b[0m \u001b[0mn_superpixels\u001b[0m\u001b[1;33m)\u001b[0m\u001b[1;33m)\u001b[0m\u001b[1;33m\u001b[0m\u001b[0m\n",
        "\u001b[1;32m/oasis/projects/nsf/csd181/yuncong/virtualenv-1.9.1/yuncongve/lib/python2.7/site-packages/scipy/spatial/distance.pyc\u001b[0m in \u001b[0;36mcdist\u001b[1;34m(XA, XB, metric, p, V, VI, w)\u001b[0m\n\u001b[0;32m   1999\u001b[0m             \u001b[1;32mfor\u001b[0m \u001b[0mi\u001b[0m \u001b[1;32min\u001b[0m \u001b[0mxrange\u001b[0m\u001b[1;33m(\u001b[0m\u001b[1;36m0\u001b[0m\u001b[1;33m,\u001b[0m \u001b[0mmA\u001b[0m\u001b[1;33m)\u001b[0m\u001b[1;33m:\u001b[0m\u001b[1;33m\u001b[0m\u001b[0m\n\u001b[0;32m   2000\u001b[0m                 \u001b[1;32mfor\u001b[0m \u001b[0mj\u001b[0m \u001b[1;32min\u001b[0m \u001b[0mxrange\u001b[0m\u001b[1;33m(\u001b[0m\u001b[1;36m0\u001b[0m\u001b[1;33m,\u001b[0m \u001b[0mmB\u001b[0m\u001b[1;33m)\u001b[0m\u001b[1;33m:\u001b[0m\u001b[1;33m\u001b[0m\u001b[0m\n\u001b[1;32m-> 2001\u001b[1;33m                     \u001b[0mdm\u001b[0m\u001b[1;33m[\u001b[0m\u001b[0mi\u001b[0m\u001b[1;33m,\u001b[0m \u001b[0mj\u001b[0m\u001b[1;33m]\u001b[0m \u001b[1;33m=\u001b[0m \u001b[0mmetric\u001b[0m\u001b[1;33m(\u001b[0m\u001b[0mXA\u001b[0m\u001b[1;33m[\u001b[0m\u001b[0mi\u001b[0m\u001b[1;33m,\u001b[0m \u001b[1;33m:\u001b[0m\u001b[1;33m]\u001b[0m\u001b[1;33m,\u001b[0m \u001b[0mXB\u001b[0m\u001b[1;33m[\u001b[0m\u001b[0mj\u001b[0m\u001b[1;33m,\u001b[0m \u001b[1;33m:\u001b[0m\u001b[1;33m]\u001b[0m\u001b[1;33m)\u001b[0m\u001b[1;33m\u001b[0m\u001b[0m\n\u001b[0m\u001b[0;32m   2002\u001b[0m     \u001b[1;32melif\u001b[0m \u001b[0misinstance\u001b[0m\u001b[1;33m(\u001b[0m\u001b[0mmetric\u001b[0m\u001b[1;33m,\u001b[0m \u001b[0mstring_types\u001b[0m\u001b[1;33m)\u001b[0m\u001b[1;33m:\u001b[0m\u001b[1;33m\u001b[0m\u001b[0m\n\u001b[0;32m   2003\u001b[0m         \u001b[0mmstr\u001b[0m \u001b[1;33m=\u001b[0m \u001b[0mmetric\u001b[0m\u001b[1;33m.\u001b[0m\u001b[0mlower\u001b[0m\u001b[1;33m(\u001b[0m\u001b[1;33m)\u001b[0m\u001b[1;33m\u001b[0m\u001b[0m\n",
        "\u001b[1;32m/oasis/projects/nsf/csd181/yuncong/Brain/notebooks/utilities.pyc\u001b[0m in \u001b[0;36mjs\u001b[1;34m(u, v)\u001b[0m\n\u001b[0;32m    504\u001b[0m \u001b[1;32mdef\u001b[0m \u001b[0mjs\u001b[0m\u001b[1;33m(\u001b[0m\u001b[0mu\u001b[0m\u001b[1;33m,\u001b[0m\u001b[0mv\u001b[0m\u001b[1;33m)\u001b[0m\u001b[1;33m:\u001b[0m\u001b[1;33m\u001b[0m\u001b[0m\n\u001b[0;32m    505\u001b[0m     \u001b[0mm\u001b[0m \u001b[1;33m=\u001b[0m \u001b[1;36m.5\u001b[0m \u001b[1;33m*\u001b[0m \u001b[1;33m(\u001b[0m\u001b[0mu\u001b[0m \u001b[1;33m+\u001b[0m \u001b[0mv\u001b[0m\u001b[1;33m)\u001b[0m\u001b[1;33m\u001b[0m\u001b[0m\n\u001b[1;32m--> 506\u001b[1;33m     \u001b[0mr\u001b[0m \u001b[1;33m=\u001b[0m \u001b[1;36m.5\u001b[0m \u001b[1;33m*\u001b[0m \u001b[1;33m(\u001b[0m\u001b[0mkl\u001b[0m\u001b[1;33m(\u001b[0m\u001b[0mu\u001b[0m\u001b[1;33m,\u001b[0m\u001b[0mm\u001b[0m\u001b[1;33m)\u001b[0m \u001b[1;33m+\u001b[0m \u001b[0mkl\u001b[0m\u001b[1;33m(\u001b[0m\u001b[0mv\u001b[0m\u001b[1;33m,\u001b[0m\u001b[0mm\u001b[0m\u001b[1;33m)\u001b[0m\u001b[1;33m)\u001b[0m\u001b[1;33m\u001b[0m\u001b[0m\n\u001b[0m\u001b[0;32m    507\u001b[0m     \u001b[1;32mreturn\u001b[0m \u001b[0mr\u001b[0m\u001b[1;33m\u001b[0m\u001b[0m\n\u001b[0;32m    508\u001b[0m \u001b[1;33m\u001b[0m\u001b[0m\n",
        "\u001b[1;32m/oasis/projects/nsf/csd181/yuncong/Brain/notebooks/utilities.pyc\u001b[0m in \u001b[0;36mkl\u001b[1;34m(a, b)\u001b[0m\n\u001b[0;32m    500\u001b[0m \u001b[1;32mdef\u001b[0m \u001b[0mkl\u001b[0m\u001b[1;33m(\u001b[0m\u001b[0ma\u001b[0m\u001b[1;33m,\u001b[0m\u001b[0mb\u001b[0m\u001b[1;33m)\u001b[0m\u001b[1;33m:\u001b[0m\u001b[1;33m\u001b[0m\u001b[0m\n\u001b[0;32m    501\u001b[0m     \u001b[0mm\u001b[0m \u001b[1;33m=\u001b[0m \u001b[1;33m(\u001b[0m\u001b[0ma\u001b[0m\u001b[1;33m!=\u001b[0m\u001b[1;36m0\u001b[0m\u001b[1;33m)\u001b[0m \u001b[1;33m&\u001b[0m \u001b[1;33m(\u001b[0m\u001b[0mb\u001b[0m\u001b[1;33m!=\u001b[0m\u001b[1;36m0\u001b[0m\u001b[1;33m)\u001b[0m\u001b[1;33m\u001b[0m\u001b[0m\n\u001b[1;32m--> 502\u001b[1;33m     \u001b[1;32mreturn\u001b[0m \u001b[0mnp\u001b[0m\u001b[1;33m.\u001b[0m\u001b[0msum\u001b[0m\u001b[1;33m(\u001b[0m\u001b[0ma\u001b[0m\u001b[1;33m[\u001b[0m\u001b[0mm\u001b[0m\u001b[1;33m]\u001b[0m\u001b[1;33m*\u001b[0m\u001b[0mnp\u001b[0m\u001b[1;33m.\u001b[0m\u001b[0mlog\u001b[0m\u001b[1;33m(\u001b[0m\u001b[0ma\u001b[0m\u001b[1;33m[\u001b[0m\u001b[0mm\u001b[0m\u001b[1;33m]\u001b[0m\u001b[1;33m/\u001b[0m\u001b[0mb\u001b[0m\u001b[1;33m[\u001b[0m\u001b[0mm\u001b[0m\u001b[1;33m]\u001b[0m\u001b[1;33m)\u001b[0m\u001b[1;33m)\u001b[0m\u001b[1;33m\u001b[0m\u001b[0m\n\u001b[0m\u001b[0;32m    503\u001b[0m \u001b[1;33m\u001b[0m\u001b[0m\n\u001b[0;32m    504\u001b[0m \u001b[1;32mdef\u001b[0m \u001b[0mjs\u001b[0m\u001b[1;33m(\u001b[0m\u001b[0mu\u001b[0m\u001b[1;33m,\u001b[0m\u001b[0mv\u001b[0m\u001b[1;33m)\u001b[0m\u001b[1;33m:\u001b[0m\u001b[1;33m\u001b[0m\u001b[0m\n",
        "\u001b[1;31mKeyboardInterrupt\u001b[0m: "
       ]
      }
     ],
     "prompt_number": 3
    },
    {
     "cell_type": "code",
     "collapsed": false,
     "input": [
      "def compute_cluster_score(cluster, texton_hists=texton_hists, neighbors=neighbors):\n",
      "    \n",
      "    cluster_list = list(cluster)\n",
      "    hists_cluster = texton_hists[cluster_list]\n",
      "\n",
      "    cluster_avg = hists_cluster.mean(axis=0)\n",
      "    \n",
      "    surrounds = set([i for i in set.union(*[neighbors[c] for c in cluster]) if i not in cluster and i != -1])\n",
      "    \n",
      "    surrounds_list = list(surrounds)\n",
      "    \n",
      "    hists_surround = texton_hists[surrounds_list]\n",
      "\n",
      "#     avg_dists = np.atleast_1d(np.squeeze(cdist(np.atleast_2d(cluster_avg), hists_cluster, chi2)))\n",
      "    \n",
      "    avg_dists = np.atleast_1d(np.squeeze(cdist(np.atleast_2d(cluster_avg), hists_cluster, js)))\n",
      "            \n",
      "    surround_dists = np.empty((len(cluster_list), ))\n",
      "    closest_neighboring_surround_sps = np.empty((len(cluster_list), ), dtype=np.int)\n",
      "    for ind, i in enumerate(cluster_list):\n",
      "        neighboring_surround_sps = list(neighbors[i] & surrounds)\n",
      "        if len(neighboring_surround_sps) > 0:\n",
      "            ds = sp_sp_dists[i, neighboring_surround_sps]\n",
      "            surround_dists[ind] = np.min(ds)\n",
      "            closest_neighboring_surround_sps[ind] = neighboring_surround_sps[np.argmin(ds)]\n",
      "        else:\n",
      "            surround_dists[ind] = np.nan\n",
      "            closest_neighboring_surround_sps[ind] = -1\n",
      "        \n",
      "#     surround_dists = np.array([sp_sp_dists[i, cluster_list] for i in surrounds_list])\n",
      "    \n",
      "    avg_dist = np.mean(avg_dists) / np.sqrt(len(cluster_list))\n",
      "#     avg_dist = np.max(avg_dists)\n",
      "#     surround_dist = np.min(np.atleast_2d(surround_dists), axis=0).mean()\n",
      "#     surround_dist = np.min(np.atleast_2d(surround_dists), axis=0).min()\n",
      "    surround_dist = np.nanmin(surround_dists)\n",
      "#     surround_dist = np.nanmean(surround_dists)\n",
      "\n",
      "    score = surround_dist\n",
      "\n",
      "#     score = (1 + 10 * np.log(len(cluster_list))) * (surround_dist - avg_dist)\n",
      "#     if len(cluster_list) == 1:\n",
      "#         score = 0\n",
      "#     score = (1 + np.log(len(cluster_list) + 1)) * (surround_dist - .01 * avg_dist)\n",
      "#     score = (1 + .01 * len(cluster_list)) * (surround_dist - .01 * avg_dist)\n",
      "#     score = (1 + .03 * np.log(10 * len(cluster_list) + 1)) * (surround_dist - .15 * avg_dist)\n",
      "#     score = (1 + .01 * np.log(10 * len(cluster_list) + 1)) * (surround_dist - .8 * avg_dist)\n",
      "\n",
      "    \n",
      "#     print 'cluster', cluster_list\n",
      "# #     print 'surrounds_list', surrounds_list\n",
      "# #     argmins = np.array(surrounds_list)[np.argmin(np.atleast_2d(surround_dists), axis=0)]\n",
      "#     mins = np.min(np.atleast_2d(surround_dists), axis=0)\n",
      "#     adv = mins - avg_dists\n",
      "#     print 'surrounds'\n",
      "#     for t in zip(cluster_list, closest_neighboring_surround_sps, mins, avg_dists, adv):\n",
      "#         print t\n",
      "    \n",
      "#     print 'sig:', score, ', surround:', surround_dist, ', model:', avg_dist\n",
      "#     print \n",
      "    \n",
      "    return score, surround_dist, avg_dist"
     ],
     "language": "python",
     "metadata": {},
     "outputs": [],
     "prompt_number": 4
    },
    {
     "cell_type": "code",
     "collapsed": false,
     "input": [
      "def visualize_cluster(cluster, segmentation=segmentation, segmentation_vis=segmentation_vis):\n",
      "\n",
      "    a = -1*np.ones_like(segmentation)\n",
      "    \n",
      "    for c in cluster:\n",
      "        a[segmentation == c] = 0\n",
      "        \n",
      "    vis = label2rgb(a, image=segmentation_vis)\n",
      "\n",
      "    vis = img_as_ubyte(vis[...,::-1])\n",
      "\n",
      "    for i, sp in enumerate(cluster):\n",
      "        vis = cv2.putText(vis, str(i), \n",
      "                          tuple(np.floor(sp_properties[sp, [1,0]] - np.array([10,-10])).astype(np.int)), \n",
      "                          cv2.FONT_HERSHEY_DUPLEX,\n",
      "                          1., ((0,255,255)), 1)\n",
      "\n",
      "    return vis.copy()\n",
      "\n",
      "def visualize_multiple_clusters(clusters, segmentation=segmentation, segmentation_vis=segmentation_vis):\n",
      "\n",
      "    n = len(clusters)\n",
      "    m = -1*np.ones((n_superpixels,), dtype=np.int)\n",
      "    \n",
      "    for ci, c in enumerate(clusters):\n",
      "        m[list(c)] = ci\n",
      "        \n",
      "    a = m[segmentation]\n",
      "    a[~dm.mask] = -1\n",
      "    \n",
      "#     a = -1*np.ones_like(segmentation)\n",
      "#     for ci, c in enumerate(clusters):\n",
      "#         for i in c:\n",
      "#             a[segmentation == i] = ci\n",
      "\n",
      "    vis = label2rgb(a, image=segmentation_vis)\n",
      "\n",
      "    vis = img_as_ubyte(vis[...,::-1])\n",
      "\n",
      "    for ci, c in enumerate(clusters):\n",
      "        for i, sp in enumerate(c):\n",
      "            vis = cv2.putText(vis, str(i), \n",
      "                              tuple(np.floor(sp_properties[sp, [1,0]] - np.array([10,-10])).astype(np.int)), \n",
      "                              cv2.FONT_HERSHEY_DUPLEX,\n",
      "                              1., ((0,255,255)), 1)\n",
      "    \n",
      "    return vis.copy()"
     ],
     "language": "python",
     "metadata": {},
     "outputs": [],
     "prompt_number": 5
    },
    {
     "cell_type": "code",
     "collapsed": false,
     "input": [
      "# def compare_two_sps(a,b):\n",
      "\n",
      "#     print sp_sp_dists[a,b]\n",
      "    \n",
      "#     js(texton_hists[a], texton_hists[b])\n",
      "\n",
      "#     plt.bar(np.arange(n_texton), texton_hists[a], width=.3, color='g')\n",
      "#     plt.bar(np.arange(n_texton)+.3, texton_hists[b], width=.3, color='b')\n",
      "#     plt.show()"
     ],
     "language": "python",
     "metadata": {},
     "outputs": []
    },
    {
     "cell_type": "code",
     "collapsed": false,
     "input": [
      "import networkx\n",
      "from networkx.algorithms import node_connected_component\n",
      "\n",
      "neighbors_dict = dict(zip(np.arange(n_superpixels), [list(i) for i in neighbors]))\n",
      "neighbor_graph = networkx.from_dict_of_lists(neighbors_dict)"
     ],
     "language": "python",
     "metadata": {},
     "outputs": [],
     "prompt_number": 6
    },
    {
     "cell_type": "code",
     "collapsed": false,
     "input": [
      "def grow_cluster(seed, output=False):\n",
      "\n",
      "#     seed = 3767\n",
      "    # null_seed = 3066\n",
      "\n",
      "    all_distances = np.atleast_1d(np.squeeze(cdist(texton_hists[seed][np.newaxis, :], texton_hists, js)))\n",
      "    # null_distances = np.atleast_1d(np.squeeze(cdist(texton_hists[null_seed][np.newaxis, :], texton_hists, js)))\n",
      "\n",
      "    ss = []\n",
      "    cc = []\n",
      "\n",
      "    # for i in np.arange(.01,null_distances[seed],.01):\n",
      "\n",
      "    for i in np.arange(.01, 0.3, .01):\n",
      "\n",
      "    #     similar_nodes = np.where(all_distances < .1)[0]\n",
      "        similar_nodes = np.where(all_distances < i)[0]\n",
      "    #     similar_nodes = np.where(all_distances < null_distances - i)[0]\n",
      "        similar_graph = neighbor_graph.subgraph(similar_nodes)\n",
      "\n",
      "        curr_cluster = node_connected_component(similar_graph, seed)\n",
      "\n",
      "        if len(curr_cluster) > int(n_superpixels * 0.05):\n",
      "            break\n",
      "            \n",
      "        cc.append(curr_cluster)\n",
      "\n",
      "        s, _, _ = compute_cluster_score(curr_cluster)\n",
      "        ss.append(s)\n",
      "        \n",
      "        if output:\n",
      "            print i, curr_cluster, s\n",
      "\n",
      "    curr_cluster = cc[np.argmax(ss)]\n",
      "    score = np.max(ss)\n",
      "    \n",
      "    return curr_cluster, score"
     ],
     "language": "python",
     "metadata": {},
     "outputs": [],
     "prompt_number": 39
    },
    {
     "cell_type": "code",
     "collapsed": false,
     "input": [
      "cluster, s = grow_cluster(3628)\n",
      "print 'cluster', cluster\n",
      "vis = visualize_cluster(cluster)\n",
      "display(vis)"
     ],
     "language": "python",
     "metadata": {},
     "outputs": []
    },
    {
     "cell_type": "code",
     "collapsed": false,
     "input": [
      "# plt.plot(range(len(ss)), ss);"
     ],
     "language": "python",
     "metadata": {},
     "outputs": []
    },
    {
     "cell_type": "code",
     "collapsed": false,
     "input": [
      "# seed = 3395\n",
      "\n",
      "# all_distances = np.atleast_1d(np.squeeze(cdist(texton_hists[seed][np.newaxis, :], texton_hists, js)))\n",
      "# vis = all_distances[segmentation] < 0.02\n",
      "# vis[~dm.mask] = 0\n",
      "\n",
      "# plt.matshow(vis)\n",
      "# plt.colorbar()\n",
      "# plt.show()"
     ],
     "language": "python",
     "metadata": {},
     "outputs": []
    },
    {
     "cell_type": "code",
     "collapsed": false,
     "input": [
      "# try:\n",
      "#     clusters = dm.load_pipeline_result('clusters', 'pkl')\n",
      "    \n",
      "# except Exception as e:\n",
      "\n",
      "import time\n",
      "b = time.time()\n",
      "\n",
      "clusters = Parallel(n_jobs=16)(delayed(grow_cluster)(s) for s in range(n_superpixels))\n",
      "\n",
      "print time.time() - b\n",
      "\n",
      "# dm.save_pipeline_result(clusters, 'clusters', 'pkl')"
     ],
     "language": "python",
     "metadata": {},
     "outputs": [
      {
       "output_type": "stream",
       "stream": "stdout",
       "text": [
        "105.501655817\n"
       ]
      }
     ],
     "prompt_number": 8
    },
    {
     "cell_type": "code",
     "collapsed": false,
     "input": [
      "dm.save_pipeline_result(clusters, 'clusters', 'pkl')"
     ],
     "language": "python",
     "metadata": {},
     "outputs": [
      {
       "output_type": "stream",
       "stream": "stdout",
       "text": [
        "saved /home/yuncong/project/DavidData2014results/RS141/0005/RS141_x5_0005_gabor-blueNisslWide-segm-blueNisslRegular-vq-blueNissl_clusters.pkl\n"
       ]
      }
     ],
     "prompt_number": 9
    },
    {
     "cell_type": "code",
     "collapsed": false,
     "input": [
      "# clusters = dm.load_pipeline_result('clusters', 'pkl')"
     ],
     "language": "python",
     "metadata": {},
     "outputs": [
      {
       "output_type": "stream",
       "stream": "stdout",
       "text": [
        "/home/yuncong/project/DavidData2014results/RS141/0005/RS141_x5_0005_gabor-blueNisslWide-segm-blueNisslRegular-vq-blueNissl_clusters.pkl\n",
        "loaded /home/yuncong/project/DavidData2014results/RS141/0005/RS141_x5_0005_gabor-blueNisslWide-segm-blueNisslRegular-vq-blueNissl_clusters.pkl"
       ]
      },
      {
       "output_type": "stream",
       "stream": "stdout",
       "text": [
        "\n"
       ]
      }
     ],
     "prompt_number": 9
    },
    {
     "cell_type": "code",
     "collapsed": false,
     "input": [
      "cluster_sps, cluster_score_sps = zip(*clusters)\n",
      "cluster_size_sps = np.array([len(c) for c in cluster_sps])\n",
      "cluster_score_sps = np.array(cluster_score_sps)\n",
      "# cluster_bounding_boxes = Parallel(n_jobs=16)(delayed(compute_bounding_box)(c) for c in cluster_sps)"
     ],
     "language": "python",
     "metadata": {},
     "outputs": [],
     "prompt_number": 10
    },
    {
     "cell_type": "code",
     "collapsed": false,
     "input": [
      "# sigmap = cluster_score_sps[segmentation] * 5 + 1\n",
      "# sigmap[~dm.mask] = 0\n",
      "\n",
      "# plt.matshow(sigmap)\n",
      "# plt.colorbar()\n",
      "# plt.show()"
     ],
     "language": "python",
     "metadata": {},
     "outputs": []
    },
    {
     "cell_type": "code",
     "collapsed": false,
     "input": [
      "plt.hist(cluster_size_sps);"
     ],
     "language": "python",
     "metadata": {},
     "outputs": [
      {
       "metadata": {},
       "output_type": "display_data",
       "png": "[encoded data removed]",
       "text": [
        "<matplotlib.figure.Figure at 0x26e8490>"
       ]
      }
     ],
     "prompt_number": 11
    },
    {
     "cell_type": "code",
     "collapsed": false,
     "input": [
      "highlighted_sps = np.where((cluster_size_sps < 200) & (cluster_size_sps > 4))[0]\n",
      "n_highlights = len(highlighted_sps)\n",
      "print n_highlights\n",
      "highlighted_clusters = [cluster_sps[s] for s in highlighted_sps]\n",
      "highlighted_scores = [cluster_score_sps[s] for s in highlighted_sps]"
     ],
     "language": "python",
     "metadata": {},
     "outputs": [
      {
       "output_type": "stream",
       "stream": "stdout",
       "text": [
        "1513\n"
       ]
      }
     ],
     "prompt_number": 12
    },
    {
     "cell_type": "code",
     "collapsed": false,
     "input": [
      "from scipy.spatial.distance import pdist, squareform\n",
      "from scipy.cluster.hierarchy import average, fcluster, leaders, complete, single, dendrogram\n",
      "\n",
      "def group_clusters(clusters, dist_thresh = 0.1):\n",
      "\n",
      "    n_clusters = len(clusters)\n",
      "    \n",
      "    overlap_matrix = np.zeros((n_clusters, n_clusters))\n",
      "    \n",
      "    for i in range(n_clusters):\n",
      "        for j in range(n_clusters):\n",
      "            if i == j:\n",
      "                overlap_matrix[i, j] = 1\n",
      "            else:\n",
      "                c1 = set(clusters[i])\n",
      "                c2 = set(clusters[j])\n",
      "                overlap_matrix[i, j] = float(len(c1 & c2))/min(len(c1),len(c2))\n",
      "\n",
      "    distance_matrix = 1 - overlap_matrix\n",
      "    \n",
      "    lk = average(squareform(distance_matrix))\n",
      "\n",
      "    # T = fcluster(lk, 1.15, criterion='inconsistent')\n",
      "    T = fcluster(lk, dist_thresh, criterion='distance')\n",
      "\n",
      "    n_groups = len(set(T))\n",
      "    print n_groups, 'groups'\n",
      "    \n",
      "    groups = [None] * n_groups\n",
      "\n",
      "    for group_id in range(n_groups):\n",
      "        groups[group_id] = where(T == group_id)[0]\n",
      "    \n",
      "        \n",
      "    return groups"
     ],
     "language": "python",
     "metadata": {},
     "outputs": [],
     "prompt_number": 15
    },
    {
     "cell_type": "code",
     "collapsed": false,
     "input": [
      "highlighted_groups = group_clusters(highlighted_clusters)"
     ],
     "language": "python",
     "metadata": {},
     "outputs": [
      {
       "output_type": "stream",
       "stream": "stdout",
       "text": [
        "379 groups\n"
       ]
      }
     ],
     "prompt_number": 16
    },
    {
     "cell_type": "code",
     "collapsed": false,
     "input": [
      "def view_overlapping_seeds(seed):\n",
      "    h = where(highlighted_sps==seed)[0]\n",
      "    q = where(distance_matrix[h] <= 0.1)[1]\n",
      "    vis = visualize_cluster(highlighted_sps[q])\n",
      "    display(vis)"
     ],
     "language": "python",
     "metadata": {},
     "outputs": [],
     "prompt_number": 17
    },
    {
     "cell_type": "code",
     "collapsed": false,
     "input": [
      "def compute_cluster_score2(cluster, texton_hists=texton_hists, neighbors=neighbors):\n",
      "    \n",
      "    cluster_list = list(cluster)\n",
      "    hists_cluster = texton_hists[cluster_list]\n",
      "\n",
      "    cluster_avg = hists_cluster.mean(axis=0)\n",
      "    \n",
      "    surrounds = set([i for i in set.union(*[neighbors[c] for c in cluster]) if i not in cluster and i != -1])\n",
      "    \n",
      "    surrounds_list = list(surrounds)\n",
      "    \n",
      "#     interior_holes = set([s for s in surrounds_list if neighbors[s] <= set(cluster)])\n",
      "    \n",
      "    hists_surround = texton_hists[surrounds_list]\n",
      "\n",
      "#     avg_dists = np.atleast_1d(np.squeeze(cdist(np.atleast_2d(cluster_avg), hists_cluster, chi2)))\n",
      "    \n",
      "    avg_dists = np.atleast_1d(np.squeeze(cdist(np.atleast_2d(cluster_avg), hists_cluster, js)))\n",
      "            \n",
      "    surround_dists = np.empty((len(cluster_list), ))\n",
      "    closest_neighboring_surround_sps = np.empty((len(cluster_list), ), dtype=np.int)\n",
      "    for ind, i in enumerate(cluster_list):\n",
      "#         neighboring_surround_sps = list((neighbors[i] & surrounds) - interior_holes)      \n",
      "        neighboring_surround_sps = list(neighbors[i] & surrounds)\n",
      "        if (len(neighboring_surround_sps) > 0):\n",
      "            ds = sp_sp_dists[i, neighboring_surround_sps]\n",
      "            surround_dists[ind] = np.min(ds)\n",
      "            closest_neighboring_surround_sps[ind] = neighboring_surround_sps[np.argmin(ds)]\n",
      "        else:\n",
      "            surround_dists[ind] = np.nan\n",
      "            closest_neighboring_surround_sps[ind] = -1\n",
      "        \n",
      "#     surround_dists = np.array([sp_sp_dists[i, cluster_list] for i in surrounds_list])\n",
      "    \n",
      "    avg_dist = np.mean(avg_dists) / np.sqrt(len(cluster_list))\n",
      "#     avg_dist = np.max(avg_dists)\n",
      "#     surround_dist = np.min(np.atleast_2d(surround_dists), axis=0).mean()\n",
      "#     surround_dist = np.min(np.atleast_2d(surround_dists), axis=0).min()\n",
      "\n",
      "    surround_dist = np.nanmin(surround_dists)\n",
      "\n",
      "    score = surround_dist\n",
      "#     if len(cluster_list) == 1:\n",
      "#         score = 0\n",
      "#     score = (1 + np.log(len(cluster_list) + 1)) * (surround_dist - .01 * avg_dist)\n",
      "#     score = (1 + .01 * len(cluster_list)) * (surround_dist - .01 * avg_dist)\n",
      "#     score = (1 + .03 * np.log(10 * len(cluster_list) + 1)) * (surround_dist - .15 * avg_dist)\n",
      "#     score = (1 + .01 * np.log(10 * len(cluster_list) + 1)) * (surround_dist - .8 * avg_dist)\n",
      "    \n",
      "    print 'cluster', cluster_list\n",
      "#     print 'surrounds_list', surrounds_list\n",
      "#     argmins = np.array(surrounds_list)[np.argmin(np.atleast_2d(surround_dists), axis=0)]\n",
      "    mins = np.min(np.atleast_2d(surround_dists), axis=0)\n",
      "    adv = mins - avg_dists\n",
      "    print 'surrounds'\n",
      "    for t in zip(cluster_list, closest_neighboring_surround_sps, mins, avg_dists, adv):\n",
      "        print t\n",
      "    \n",
      "    print 'sig:', score, ', surround:', surround_dist, ', model:', avg_dist\n",
      "    print \n",
      "    \n",
      "    return score, surround_dist, avg_dist"
     ],
     "language": "python",
     "metadata": {},
     "outputs": [],
     "prompt_number": 37
    },
    {
     "cell_type": "code",
     "collapsed": false,
     "input": [
      "grow_cluster(3518, True)"
     ],
     "language": "python",
     "metadata": {},
     "outputs": [
      {
       "output_type": "stream",
       "stream": "stdout",
       "text": [
        "0.01 [3518] 0.0231401482824\n",
        "0.02 [3518] 0.0231401482824\n",
        "0.03 [3651, 3508, 3581, 3518, 3503] 0.00946672079355\n",
        "0.04 [3200, 3651, 3492, 3429, 3305, 3402, 3581, 3229, 3395, 3508, 3416, 3348, 3503, 3612, 3517, 3518, 3295] 0.00946672079355\n",
        "0.05 [3200, 3651, 3492, 3429, 3305, 3402, 3581, 3613, 3395, 3508, 3416, 3348, 3229, 3503, 3612, 3517, 3518, 3295] 0.0139343365327\n",
        "0.06 [3200, 3651, 3492, 3429, 3305, 3402, 3581, 3696, 3613, 3395, 3508, 3416, 3348, 3229, 3503, 3612, 3517, 3518, 3295] 0.0139343365327\n",
        "0.07 [3488, 3200, 3651, 3492, 3429, 3305, 3402, 3517, 3696, 3613, 3395, 3508, 3503, 3416, 3348, 3229, 3611, 3612, 3581, 3518, 3295] 0.0139343365327\n",
        "0.08 [3200, 3726, 3395, 3348, 3482, 3611, 3612, 3613, 3488, 3747, 3492, 3622, 3627, 3628, 3629, 3503, 3837, 3508, 3517, 3518, 3651, 3652, 3784, 3402, 3789, 3229, 3416, 3801, 3548, 3549, 3295, 3805, 3429, 3430, 3688, 3305, 3709, 3696, 3710, 3702, 3860, 3581, 3454] 0.00412313947138\n",
        "0.09 [3200, 3726, 3395, 3348, 3482, 3611, 3612, 3613, 3488, 3747, 3492, 3622, 3627, 3628, 3629, 3503, 3837, 3508, 3551, 3517, 3518, 3651, 3652, 3784, 3402, 3789, 3229, 3416, 3801, 3548, 3549, 3295, 3552, 3805, 3429, 3430, 3431, 3688, 3305, 3709, 3696, 3710, 3702, 3860, 3581, 3454] 0.00412313947138\n",
        "0.1 [3200, 3587, 3725, 3726, 3395, 3348, 3482, 3611, 3612, 3613, 3488, 3747, 3492, 3622, 3627, 3628, 3629, 3503, 3837, 3508, 3381, 3551, 3517, 3518, 3651, 3652, 3784, 3402, 3789, 3229, 3416, 3801, 3549, 3548, 3805, 3550, 3295, 3552, 3553, 3429, 3430, 3431, 3688, 3305, 3709, 3696, 3697, 3710, 3702, 3860, 3581, 3454] 0.011845763512\n",
        "0.11 [3200, 3587, 3725, 3726, 3395, 3348, 3482, 3611, 3612, 3613, 3231, 3488, 3746, 3747, 3492, 3622, 3627, 3628, 3629, 3503, 3837, 3508, 3381, 3551, 3132, 3517, 3518, 3232, 3651, 3652, 3267, 3134, 3784, 3402, 3789, 3229, 3357, 3416, 3801, 3549, 3547, 3548, 3805, 3550, 3295, 3552, 3553, 3171, 3429, 3430, 3431, 3688, 3305, 3709, 3696, 3697, 3710, 3702, 3860, 3836, 3581, 3454] 0.00546248196504\n",
        "0.12"
       ]
      },
      {
       "output_type": "stream",
       "stream": "stdout",
       "text": [
        " [3200, 3587, 3461, 3462, 3463, 3530, 3725, 3726, 3558, 3395, 3348, 3355, 3353, 3482, 3611, 3612, 3613, 3231, 3488, 3184, 3746, 3747, 3492, 3622, 3752, 3627, 3628, 3629, 3503, 3837, 3508, 3381, 3128, 3551, 3132, 3517, 3518, 3264, 3232, 3266, 3651, 3652, 3653, 3267, 3134, 3784, 3529, 3402, 3557, 3789, 3659, 3655, 3229, 3131, 3357, 3416, 3801, 3549, 3547, 3548, 3805, 3550, 3295, 3552, 3553, 3171, 3429, 3430, 3431, 3688, 3305, 3709, 3696, 3697, 3710, 3702, 3658, 3860, 3836, 3581, 3454, 3631] 0.0042275090441\n"
       ]
      },
      {
       "metadata": {},
       "output_type": "pyout",
       "prompt_number": 40,
       "text": [
        "([3518], 0.023140148282365575)"
       ]
      }
     ],
     "prompt_number": 40
    },
    {
     "cell_type": "code",
     "collapsed": false,
     "input": [
      "sp_groups = [ [highlighted_sps[i] for i in group] for group in highlighted_groups if len(group) > 1]\n",
      "union_clusters = [cluster_sps[g[np.argmax(cluster_score_sps[g])]] for g in sp_groups]"
     ],
     "language": "python",
     "metadata": {},
     "outputs": [],
     "prompt_number": 19
    },
    {
     "cell_type": "code",
     "collapsed": false,
     "input": [
      "union_cluster_groups = group_clusters(union_clusters, dist_thresh=0.5)\n",
      "union_cluster_groups = [u for u in union_cluster_groups if len(u) > 0]"
     ],
     "language": "python",
     "metadata": {},
     "outputs": [
      {
       "output_type": "stream",
       "stream": "stdout",
       "text": [
        "171 groups\n"
       ]
      }
     ],
     "prompt_number": 20
    },
    {
     "cell_type": "code",
     "collapsed": false,
     "input": [
      "union_cluster_groups[2]"
     ],
     "language": "python",
     "metadata": {},
     "outputs": [
      {
       "metadata": {},
       "output_type": "pyout",
       "prompt_number": 21,
       "text": [
        "array([79, 80])"
       ]
      }
     ],
     "prompt_number": 21
    },
    {
     "cell_type": "code",
     "collapsed": false,
     "input": [
      "# union_cluster_union_clusters = [set.union(*[set(union_clusters[i]) for i in g]) for g in union_cluster_groups]\n",
      "# union_cluster_union_clusters = [set.intersection(*[set(union_clusters[i]) for i in g]) for g in union_cluster_groups]\n",
      "union_cluster_union_clusters = [union_clusters[g[np.argmax([compute_cluster_score(union_clusters[i])[0] for i in g])]] \n",
      "                                for g in union_cluster_groups]"
     ],
     "language": "python",
     "metadata": {},
     "outputs": [],
     "prompt_number": 22
    },
    {
     "cell_type": "code",
     "collapsed": false,
     "input": [
      "where([3395 in g for g in sp_groups])"
     ],
     "language": "python",
     "metadata": {},
     "outputs": [
      {
       "metadata": {},
       "output_type": "pyout",
       "prompt_number": 35,
       "text": [
        "(array([], dtype=int64),)"
       ]
      }
     ],
     "prompt_number": 35
    },
    {
     "cell_type": "code",
     "collapsed": false,
     "input": [
      "union_cluster_union_clusters[87]"
     ],
     "language": "python",
     "metadata": {},
     "outputs": [
      {
       "metadata": {},
       "output_type": "pyout",
       "prompt_number": 23,
       "text": [
        "[554, 612, 613, 614, 690]"
       ]
      }
     ],
     "prompt_number": 23
    },
    {
     "cell_type": "code",
     "collapsed": false,
     "input": [
      "where([2085 in g for g in union_cluster_union_clusters])"
     ],
     "language": "python",
     "metadata": {},
     "outputs": [
      {
       "metadata": {},
       "output_type": "pyout",
       "prompt_number": 24,
       "text": [
        "(array([115]),)"
       ]
      }
     ],
     "prompt_number": 24
    },
    {
     "cell_type": "code",
     "collapsed": false,
     "input": [
      "filtered_group_scores = np.array([compute_cluster_score(g)[0] for g in union_cluster_union_clusters])\n",
      "# filtered_group_scores = [cluster_score_sps[list(g)].max() for g in filtered_groups]\n",
      "\n",
      "arg_score_sorted = np.argsort(filtered_group_scores)[::-1]\n",
      "\n",
      "union_cluster_union_clusters_sorted = [union_cluster_union_clusters[i] for i in arg_score_sorted]\n",
      "\n",
      "print len(union_cluster_union_clusters_sorted)"
     ],
     "language": "python",
     "metadata": {},
     "outputs": [
      {
       "output_type": "stream",
       "stream": "stdout",
       "text": [
        "170\n"
       ]
      }
     ],
     "prompt_number": 25
    },
    {
     "cell_type": "code",
     "collapsed": false,
     "input": [
      "seeds = where([2085 in g for g in union_clusters])[0]\n",
      "for seed in seeds:\n",
      "    print seed, groups[seed], union_clusters[seed]"
     ],
     "language": "python",
     "metadata": {},
     "outputs": [
      {
       "output_type": "stream",
       "stream": "stdout",
       "text": [
        "243 [2085 2206] [2224, 2084, 2085, 2188, 2397, 2288, 2398, 1982, 2308, 2394, 2298, 2206]\n",
        "244 [2188 2288 2308 2398] [2084, 2085, 2398, 2188, 2288, 2292, 1982, 2308, 2206]\n",
        "245 [2084 2292 2497 2500] [2497, 2084, 2085, 2398, 2188, 2288, 2292, 1982, 2308, 2206, 2500]\n"
       ]
      }
     ],
     "prompt_number": 134
    },
    {
     "cell_type": "code",
     "collapsed": false,
     "input": [
      "orig_index = where(highlighted_sps==2085)[0][0]\n",
      "close_highlighted_indices = where(distance_matrix[orig_index] < 1)[0]\n",
      "print highlighted_sps[close_highlighted_indices]\n",
      "print distance_matrix[orig_index, close_highlighted_indices]"
     ],
     "language": "python",
     "metadata": {},
     "outputs": [
      {
       "output_type": "stream",
       "stream": "stdout",
       "text": [
        "[2084 2085 2188 2206 2288 2292 2308 2397 2398 2399 2417 2497 2500 2837]\n",
        "[ 0.27272727  0.          0.16666667  0.          0.11111111  0.3\n",
        "  0.16666667  0.16666667  0.          0.75        0.66666667  0.3\n",
        "  0.28571429  0.83333333]\n"
       ]
      }
     ],
     "prompt_number": 96
    },
    {
     "cell_type": "code",
     "collapsed": false,
     "input": [
      "dm.save_pipeline_result(filtered_groups_res, 'groups', 'pkl')"
     ],
     "language": "python",
     "metadata": {},
     "outputs": [
      {
       "output_type": "stream",
       "stream": "stdout",
       "text": [
        "saved /home/yuncong/project/DavidData2014results/RS141/0005/RS141_x5_0005_gabor-blueNisslWide-segm-blueNisslRegular-vq-blueNissl_groups.pkl\n"
       ]
      }
     ],
     "prompt_number": 222
    },
    {
     "cell_type": "code",
     "collapsed": false,
     "input": [
      "for i in where([3395 in g for g in highlighted_clusters])[0]:\n",
      "    print i, highlighted_sps[i], highlighted_clusters[i]"
     ],
     "language": "python",
     "metadata": {},
     "outputs": [
      {
       "output_type": "stream",
       "stream": "stdout",
       "text": [
        "1216 3503 [3200, 3725, 3726, 3395, 3482, 3612, 3613, 3488, 3747, 3492, 3627, 3628, 3629, 3503, 3837, 3508, 3517, 3518, 3651, 3652, 3784, 3402, 3789, 3229, 3416, 3548, 3805, 3295, 3429, 3688, 3305, 3709, 3696, 3697, 3702, 3581, 3710]\n",
        "1218 3508 [3200, 3725, 3726, 3395, 3482, 3612, 3613, 3488, 3747, 3492, 3627, 3628, 3629, 3503, 3837, 3508, 3517, 3518, 3651, 3652, 3784, 3402, 3789, 3229, 3416, 3548, 3805, 3295, 3429, 3688, 3305, 3709, 3696, 3697, 3702, 3581, 3710]\n"
       ]
      }
     ],
     "prompt_number": 34
    },
    {
     "cell_type": "code",
     "collapsed": false,
     "input": [
      "for i, (g, s) in enumerate(zip(union_cluster_union_clusters_sorted, filtered_group_scores[arg_score_sorted])):\n",
      "    print i, g, s"
     ],
     "language": "python",
     "metadata": {},
     "outputs": [
      {
       "output_type": "stream",
       "stream": "stdout",
       "text": [
        "0 [643, 583, 521, 586, 684, 654, 723, 720, 531, 726, 471, 728, 655, 650] 0.168362121065\n",
        "1 [4129, 4131, 4068, 4083, 4149, 4086, 4121, 4127, 4132] 0.143851673211\n",
        "2 [2084, 2085, 2398, 2188, 2288, 2292, 1982, 2308, 2206] 0.135681898539\n",
        "3 [161, 193, 202, 172, 173, 207, 112, 145, 114, 190, 123, 158] 0.0819294871054\n",
        "4 [33, 68, 45, 47, 53, 27, 28] 0.0810830634527\n",
        "5 [3968, 3972, 4008, 3947, 3951, 3952, 3976, 3962] 0.0752596111776\n",
        "6 [297, 298, 299, 246, 247] 0.0712715973264\n",
        "7 [582, 587, 524, 526, 528, 660] 0.0709781098408\n",
        "8 [4069, 4038, 4009, 4010, 4043, 3990, 4058] 0.070324874573\n",
        "9 [389, 390, 520, 414, 419, 420, 422, 435, 350, 459, 460, 335, 336, 466, 467, 340, 470, 344, 478, 351, 486, 372, 375, 378, 379, 508, 509] 0.070128045888\n",
        "10 [4106, 4100, 4110, 4094, 4122] 0.0564292112027\n",
        "11 [1090, 1091, 1004, 1104, 1086, 1177, 1083, 1021, 1022] 0.0545066446101\n",
        "12 [4033, 3983, 4011, 4079, 4084, 4088, 4091] 0.0510600230403\n",
        "13 [1280, 901, 1670, 1671, 905, 1169, 1170, 1171, 1172, 1175, 1176, 1180, 1565, 1568, 1569, 731, 1190, 1191, 814, 733, 1073, 1074, 1374, 1078, 1161, 1080, 1081, 1082, 1468, 1472, 1350, 1360, 1464, 1365, 1367, 1369, 987, 817, 990, 1297, 807, 1265, 1266, 1267, 1268, 1269, 1270, 1275] 0.0497148129968\n",
        "14 [935, 936, 910, 1007, 1008, 989] 0.0484176473328\n",
        "15 [2880, 2981, 3082, 2834, 2931, 3000] 0.0468972841113\n",
        "16 [3901, 3883, 3989, 3790, 3895] 0.04521762691\n",
        "17 [2885, 2633, 2699, 2736, 2836, 2933, 2934, 2804] 0.0434967476155\n",
        "18 [2800, 2818, 2700, 2838, 2703] 0.041764874319\n",
        "19 [1908, 2010, 2075, 2108, 2173, 2174] 0.0413239050871\n",
        "20 [3204, 3196, 3237, 3294, 3209] 0.0402001724905\n",
        "21 [2, 3, 4, 5, 17, 35] 0.0401462388238\n",
        "22 [1344, 1345, 1186, 1185, 1291, 1292, 1199, 1200, 1202, 1174, 1271, 1343] 0.0397824527805\n",
        "23 [3592, 3594, 3211, 3606, 3494, 3496, 3505, 3506, 3520, 3396, 3662, 3663, 3536, 3421, 3422, 3423, 3296, 3238, 3687, 3314, 3190, 3324] 0.0395089739617\n",
        "24 [4000, 4065, 4066, 4067, 4070, 3910, 4073, 3981, 3982, 4080, 3988, 4078, 4063] 0.0390761356376\n",
        "25 [2433, 2434, 2435, 2534, 2535, 2536, 2393, 2399] 0.0372694793288\n",
        "26 [142, 46, 143, 78, 88, 121, 187, 124] 0.036944947964\n",
        "27 [3872, 3876, 3878, 3884, 4013, 3959, 3966] 0.0357029074615\n",
        "28 [3088, 3172, 3173, 3207, 2959, 2960, 3185, 3061, 3062, 3063] 0.0356193673415\n",
        "29 [1346, 1379, 1444, 1446, 1250, 1358, 1263, 1294, 1179] 0.0355774843996\n",
        "30 [518, 367, 436, 568, 510, 415] 0.034803482589\n",
        "31 [3424, 3521, 3522, 3907, 3908, 3718, 3848, 3977, 3820, 4072, 3920, 3921, 3701, 3607, 3864, 3994, 4030, 3999] 0.0347736201194\n",
        "32 [170, 171, 109, 238, 117, 125] 0.0342328039584\n",
        "33 [2784, 2816, 2732, 2832, 2833, 2834] 0.0337537771848\n",
        "34 [3213, 3290, 3282, 3214, 3223] 0.0336900814245\n",
        "35 [2665, 2570, 2891, 2892, 2767, 2612, 2505] 0.0336341682495\n",
        "36 [3368, 3322, 3491, 3436, 3405] 0.0336035471421\n",
        "37 [649, 651, 653, 658, 725, 729, 730, 732] 0.0333706846149\n",
        "38 [2866, 2964, 2906, 2926, 3002] 0.0307835206023\n",
        "39 [2912, 3041, 2820, 3040, 2921, 3024] 0.0306937592299\n",
        "40 [800, 676, 710, 842, 912, 758, 759, 923, 796, 893, 670, 831] 0.0301134091501\n",
        "41 [3776, 3808, 3693, 3795, 3796, 3868, 3965] 0.0299327399479\n",
        "42 [198, 199, 156, 203, 239, 151, 220] 0.0294929041819\n",
        "43 [3873, 3846, 3847, 3692, 4014, 3919, 3733, 3997] 0.0289128123598\n",
        "44 [485, 519, 427, 469, 383] 0.0284240001309\n",
        "45 [257, 262, 286, 287, 288, 289, 291, 305, 168, 169, 301, 200, 201, 186, 191, 322, 328, 329, 331, 333, 217, 218, 102, 240, 242, 244, 121, 252] 0.0272182011807\n",
        "46 [3585, 3588, 3400, 3863, 3534, 3502, 3703, 3615] 0.0258978847611\n",
        "47 [397, 922, 795, 669, 1056, 675, 549, 569, 1012, 830, 707, 708, 709, 967, 968, 461, 983, 600, 742, 1000, 879, 880, 1137, 628, 630, 631, 511] 0.0258607959681\n",
        "48 [2641, 2516, 2546, 2640, 2840, 2610, 2515, 2642, 2743, 2744, 2617, 2719] 0.0257151401362\n",
        "49 [3616, 3777, 3778, 3717, 3782, 3755, 3756, 3535, 3600, 3635, 3730, 3731, 3732] 0.0256182101243\n",
        "50 [3937, 4103, 3818, 4119, 3888, 3889, 4050, 4087, 4120, 3993, 3898, 4028, 4095] 0.0256027112719\n",
        "51 [32, 66, 100, 50, 87, 56] 0.0255992955319\n",
        "52 [96, 98, 132, 106, 140, 79, 146] 0.0255675392708\n",
        "53 [387, 356, 357, 358, 393, 432, 401, 441] 0.0253275488014\n",
        "54 [3704, 3609, 3787, 3689, 3705] 0.024984473041\n",
        "55 [2054, 2215, 2157, 2158, 2159, 2289, 2004, 2263] 0.0249732613562\n",
        "56 [3075, 3011, 2907, 2990, 2999] 0.024965614369\n",
        "57 [226, 228, 229, 138, 273, 274, 183, 184, 185, 316, 317, 261] 0.0241230102668\n",
        "58 [1440, 1249, 1542, 1441, 1383, 1260, 1198, 1341, 1342, 1439] 0.0240596754872\n",
        "59 [1986, 2211, 2311, 2088, 2387, 1928, 2195, 2312] 0.0239201583555\n",
        "60 [3560, 3501, 3533, 3504, 3420, 3485] 0.0238687776453\n",
        "61 [3950, 3855, 3890, 3767, 3960, 3675] 0.0235264987837\n",
        "62 [2887, 2986, 3115, 3022, 3183, 2994, 3156, 3127, 2911, 3038, 3039] 0.0230750407911\n",
        "63 [3490, 3403, 3311, 3418, 3484, 3390] 0.0230182093564\n",
        "64 [1025, 1252, 1253, 1158, 1159, 1160, 1258, 1070, 1164, 1166, 1167, 1076, 1262] 0.022790723653\n",
        "65 [2914, 2824, 3074, 3026, 2965, 2966, 3096] 0.022331680381\n",
        "66 [898, 899, 739, 809, 810, 907, 1026, 813, 909, 816, 835, 820, 917, 727, 852, 738, 986, 827, 890, 1023] 0.0221341025725\n",
        "67 [547, 619, 620, 622, 483, 698] 0.0219802263191\n",
        "68 [3377, 3243, 3244, 3245, 3246, 3376, 3441, 3379, 3476, 3478] 0.0217063861065\n",
        "69 [57, 58, 55, 90, 89] 0.0215468015731\n",
        "70 [1065, 1066, 1020, 978, 929] 0.0213239819295\n",
        "71 [2817, 2788, 2886, 2919, 2793, 2634, 2738, 2837, 2935, 2936, 2937, 3037] 0.0211535753598\n",
        "72 [3426, 3565, 3566, 3567, 3472, 3473, 3413, 3670] 0.0209644984697\n",
        "73 [2371, 2372, 2184, 2219, 2167, 2203, 2269, 2270] 0.0208240608304\n",
        "74 [1921, 2023, 2127, 1713, 1819, 1820, 1822, 1919] 0.0205333515789\n",
        "75 [2400, 2467, 2405, 2503, 2507, 2403, 2390, 2491] 0.0205003737321\n",
        "76 [4032, 4039, 4051, 4026, 4027, 3934] 0.0203978297322\n",
        "77 [3680, 3526, 3596, 3577, 3480, 3513, 3578] 0.0202726571038\n",
        "78 [3652, 3628, 3789, 3726, 3725, 3697] 0.0200162817416\n",
        "79 [1788, 2204, 2221, 2109, 1909, 1910, 2011, 2076, 2077] 0.0199603867373\n",
        "80 [3712, 3838, 3682, 3840, 3748, 3781, 3814, 3879, 3815, 3630, 3750, 3749, 3794, 3886, 3905, 3867, 3839, 3869, 3870, 3711] 0.0199458802438\n",
        "81 [385, 590, 399, 532, 374, 468, 477] 0.0196439669341\n",
        "82 [862, 947, 780, 597, 694] 0.0194565336232\n",
        "83 [705, 706, 966, 875, 876, 877, 878, 755, 756, 757, 793, 824, 665] 0.0191654463137\n",
        "84 [1664, 1668, 1669, 1673, 1676, 1683, 1557, 1558, 1881, 1562, 1563, 1564, 1566, 1567, 1699, 1700, 1575, 1582, 1459, 1462, 1463, 1465, 1469, 1492, 1471, 1473, 1479, 1872, 1362, 1875, 1876, 1366, 1593, 1572, 1372, 1373, 1764, 1765, 1766, 1299, 1380, 1770, 1771, 1388, 1773, 1774, 1779, 1364, 1660, 1789, 1663] 0.0190775039026\n",
        "85 [3334, 3145, 3371, 3468, 3469, 3280, 3192, 3325] 0.0187015021145\n",
        "86 [704, 593, 626, 668, 754] 0.0186641689853\n",
        "87 [354, 355, 300, 400, 342, 311, 346, 347] 0.0185046761222\n",
        "88 [3713, 3531, 3752, 3658, 3659, 3532, 3632, 3773] 0.0183689312873\n",
        "89 [131, 38, 39, 139, 82, 51, 85, 94] 0.0179432306009\n",
        "90 [714, 641, 666, 645, 647] 0.0177456000556\n",
        "91 [672, 623, 784, 785, 699, 700] 0.0177220120529\n",
        "92 [1335, 1256, 1354, 1259, 1333, 1334, 1431, 1432, 1433, 1533, 1534] 0.0174006909248\n",
        "93 [1128, 1050, 1229, 1230, 1183] 0.0171896649872\n",
        "94 [801, 681, 972, 973, 718, 884, 885, 798] 0.0169199319822\n",
        "95 [3201, 3299, 3113, 3215, 3291, 3195, 3036] 0.0168235605138\n",
        "96 [3905, 3906, 3916, 3917, 3918, 3892, 3934, 3842, 3963, 3964, 3933, 3838, 3839] 0.0167556725762\n",
        "97 [960, 961, 962, 841, 874, 825, 1051, 959] 0.0165162534001\n",
        "98 [2304, 2472, 2473, 2666, 2667, 2572, 2573, 2574, 2669, 2769, 2425, 2426, 2730, 2814, 2303] 0.016006088449\n",
        "99 [2625, 2626, 3005, 2827, 2671, 2929, 2772, 2773, 2774, 2775, 2873, 2874, 2972, 2973] 0.0159814735941\n",
        "100 [3810, 3758, 3759, 3760, 3761, 3894, 3736] 0.0157061200247\n",
        "101 [2745, 2746, 2643, 2644, 2847] 0.0152546322614\n",
        "102 [1825, 1923, 2341, 2024, 2026, 2444, 1999, 2000, 2130, 1718, 2238] 0.0148748728349\n",
        "103 [3235, 3175, 2890, 3186, 2961, 2962, 3065, 3067] 0.0146360455905\n",
        "104 [992, 993, 1282, 1093, 1281, 1097, 1276, 1378, 1009, 1205, 937, 1079, 1368, 1466, 1467, 1084, 1181, 1375] 0.0145869100693\n",
        "105 [1585, 1705, 1597, 1598, 1599] 0.0145694619756\n",
        "106 [3234, 3555, 3557, 3558, 3655, 3464, 3658, 3654, 3362, 3286] 0.0144057657347\n",
        "107 [4001, 3970, 4107, 4135, 4041, 4075, 4076, 4045, 4046, 4015, 3984, 3985, 4114, 3923, 4137, 4059, 4060] 0.0141925077112\n",
        "108 [263, 147, 148, 149, 150, 279, 280, 153, 154, 159, 162, 163, 164, 241, 306, 232, 194, 195, 196, 197, 70, 71, 72, 73, 74, 75, 334, 208, 209, 210, 219, 103, 104, 105, 236, 237, 110, 113, 115, 116, 119, 122] 0.0139524706651\n",
        "109 [2032, 2089, 1899, 2212, 2031] 0.0136525123947\n",
        "110 [2544, 2601, 2541, 2542, 2543] 0.0135605148714\n",
        "111 [128, 129, 179, 180, 137] 0.0134105816207\n",
        "112 [480, 513, 514, 515, 516, 517, 428, 429, 462, 463, 464, 398, 438, 439, 632, 570, 571, 572, 512, 574, 437] 0.0131769284049\n",
        "113 [576, 843, 677, 881, 490, 747, 491, 913, 759, 760, 633, 634, 635, 636, 575] 0.0131769284049\n",
        "114 [1481, 1602, 1396, 1501, 1500] 0.0126047440192\n",
        "115 [1762, 1866, 1965, 1966, 1551, 1552, 1491, 1461, 1655, 1656, 1657, 1550] 0.0121681279082\n",
        "116 [3622, 3587, 3549, 3550, 3551] 0.011845763512\n",
        "117 [2752, 2722, 2723, 2852, 2853, 2649, 2650, 2651] 0.0117796938707\n",
        "118 [3256, 3257, 3130, 3219, 3194] 0.0116479871395\n",
        "119 [2243, 2213, 2345, 2091, 2135, 2137, 2313] 0.0115157891377\n",
        "120 [2432, 2180, 2181, 2716, 2079, 2080, 2081, 2631, 2735, 2099, 1972, 1973, 1974, 2487, 2489, 1979, 1971, 2884, 2593, 2382, 2384, 1878, 2533, 2281] 0.0115089993877\n",
        "121 [1339, 1638, 1639, 1746, 1559, 1690, 1435, 1340, 1850, 1950, 1535] 0.01116386457\n",
        "122 [3427, 3339, 3340, 3155, 3252, 3126, 3447, 3225, 3579] 0.0108125153086\n",
        "123 [1856, 1478, 1544, 1648, 1649, 1561, 1692] 0.010756647114\n",
        "124 [2530, 2627, 2628, 2682, 2377, 2731, 2429, 2483, 2484, 2586, 2588, 2685, 2430, 2431] 0.0106545380505\n",
        "125 [2368, 2369, 2370, 2476, 2477] 0.0105771373446\n",
        "126 [1217, 1218, 1219, 1401, 1311] 0.0105601212434\n",
        "127 [2560, 2656, 2724, 2323, 2692, 2462] 0.0104386811432\n",
        "128 [2849, 2196, 2550, 2344, 2409, 2451, 2548, 2549, 2646, 2647, 2452, 2847, 2748, 2749, 2750, 2751] 0.0104231986662\n",
        "129 [1584, 1768, 1474, 1701, 1702] 0.0102191401841\n",
        "130 [1052, 1053, 1054, 1055, 1843, 1100, 1618, 1619, 1621, 1622, 1623, 1624, 1625, 1626, 1627, 1628, 1629, 1630, 1631, 1632, 1633, 1634, 1635, 1130, 1131, 1132, 1133, 1134, 1135, 1136, 1725, 1726, 1727, 1728, 1729, 1731, 1732, 1733, 1734, 1735, 1736, 1737, 1739, 1740, 1232, 1233, 1234, 1235, 1236, 1237, 1238, 1239, 1836, 1290, 1834, 1323, 1324, 1325, 1326, 1327, 1328, 1329, 1330, 1331, 1332, 1845, 1846, 1844, 1351, 1352, 1355, 1412, 1430, 1414, 1415, 1416, 1417, 1418, 1419, 1420, 1422, 1423, 1424, 1425, 1426, 1427, 1428, 1429, 1942, 1943, 997, 998, 1515, 1517, 1518, 1519, 1520, 1521, 1522, 1523, 1524, 1525, 1526, 1527, 1530, 2046] 0.00997653379933\n",
        "131 [2438, 2439, 2418, 2230, 2231, 2335] 0.00992038533973\n",
        "132 [1401, 1503, 1604, 1309, 1399] 0.00967811180185\n",
        "133 [266, 174, 175, 212, 213, 221, 255] 0.00962668389536\n",
        "134 [3344, 3226, 3450, 3542, 3343] 0.0093623889232\n",
        "135 [673, 866, 867, 869, 786, 1042, 787, 952, 953, 606] 0.00933081967955\n",
        "136 [1111, 1031, 775, 940, 941, 919, 857, 858] 0.00916109158498\n",
        "137 [496, 616, 546, 555, 615] 0.008892449671\n",
        "138 [1059, 1060, 1061, 1063, 1241, 1143, 926, 1017, 1144, 1145, 1146, 1242, 1246] 0.00885032047685\n",
        "139 [1824, 1579, 1924, 1609, 1611, 1716, 1717] 0.00881259662695\n",
        "140 [1862, 1863, 1962, 1488, 1650, 1589, 1786, 1756, 1757] 0.00862060090758\n",
        "141 [1893, 1968, 1907, 2071, 2072, 2169] 0.00861307518211\n",
        "142 [1842, 1731, 1732, 1733, 1734] 0.00847457854784\n",
        "143 [1801, 2315, 2061, 2062, 2063, 2065, 2066, 2067, 1905, 1961, 2218, 1963, 1906, 1861, 1864, 2265, 2266, 1903, 1904, 2161, 2162, 2164, 2165] 0.00845555119091\n",
        "144 [1024, 1157, 1550, 1295, 1446, 1447, 1448, 1449, 1450, 1451, 1452, 1069, 1461, 1348, 1349, 1359, 1491, 981, 1251, 1257, 1363, 1279] 0.00840160675127\n",
        "145 [2246, 2248, 2348, 1933, 2350, 2038, 2039, 2040, 2139, 2141] 0.00833297381881\n",
        "146 [864, 1037, 1038, 946, 948, 782, 861] 0.00826047340965\n",
        "147 [1284, 1094, 1192, 1193, 1032, 1395, 1109, 1304] 0.0082292992346\n",
        "148 [2688, 2176, 2177, 2194, 2078, 2591, 2592, 2734, 2486, 2487, 2883, 2630, 2631, 2632, 1994, 2381, 1878, 2531, 2532, 2277, 2278, 2279] 0.00808483838181\n",
        "149 [2897, 2682, 2782, 2830, 2977] 0.00780867250136\n",
        "150 [3081, 2829, 3090, 2580, 2581, 2582, 2586, 2588, 2978, 2731, 2479, 2480, 2483, 2627, 2628, 2373, 2377, 3147, 3193, 2779, 2781, 2530, 2685, 2430, 2678, 2679, 2680, 2681, 2682, 2429, 2686, 2431] 0.00775746747753\n",
        "151 [554, 612, 613, 614, 690] 0.00765698959796\n",
        "152 [860, 777, 604, 693, 671] 0.00759037850713\n",
        "153 [544, 545, 611, 487, 552, 492, 493, 392, 440, 442] 0.007427351739\n",
        "154 [1730, 1837, 1838, 1839, 1937, 1938, 2041, 2142, 2143] 0.0074018457465\n",
        "155 [3264, 3232, 3266, 3131, 3461, 3462, 3184, 3171, 3355, 3356, 3357, 3231] 0.00735995162254\n",
        "156 [1033, 1034, 1035, 943, 944, 1113, 1114] 0.00715569439935\n",
        "157 [2023, 2124, 2125, 2126, 1989] 0.0070647882078\n",
        "158 [267, 255, 309, 310, 303] 0.00666812326719\n",
        "159 [2048, 2049, 2151, 1741, 1847, 1944, 1945] 0.0065146901295\n",
        "160 [1730, 2146, 1901, 1837, 1838, 1839, 1840, 1937, 1939, 1940, 1941, 2041, 2044, 2141, 2142, 2143] 0.0062211755984\n",
        "161 [1728, 1836, 1935, 1936, 1621, 1622] 0.00614558430374\n",
        "162 [779, 1094, 1032, 1033, 1035, 1036, 943, 945, 1113, 861] 0.00558752308465\n",
        "163 [1376, 1120, 1123, 1508, 1222, 1223, 1609, 1483, 1716, 1316, 1406] 0.00530006608246\n",
        "164 [1131, 1414, 1130, 1323, 1232, 1617, 1618, 1619, 1052, 1514, 1515] 0.00494156527552\n",
        "165 [2754, 2855, 2954, 2955, 3057, 3059] 0.00488482623728\n",
        "166 [2753, 2854, 2855, 2957, 2958, 2812] 0.00488482623728\n",
        "167 [275, 277, 408, 409, 410, 558, 559, 304, 318, 319, 450, 452, 327, 348, 230, 231, 488, 618, 364, 365, 366, 499, 502, 249] 0.00483859247784\n",
        "168 [1284, 1300, 1302, 1304, 1817, 1708, 1208, 1594, 1600, 1601, 2118, 2119, 1480, 2121, 1997, 1493, 1494, 1495, 1496, 1497, 1498, 1499, 2017, 2019, 1390, 1391, 1394, 1917, 1918] 0.00469493682642\n",
        "169 [1392, 1393, 1108, 1303, 1210, 1211] 0.00373852643983\n"
       ]
      }
     ],
     "prompt_number": 26
    },
    {
     "cell_type": "code",
     "collapsed": false,
     "input": [
      "vis = visualize_multiple_clusters(union_cluster_union_clusters_sorted[:30])\n",
      "display(vis)"
     ],
     "language": "python",
     "metadata": {},
     "outputs": [
      {
       "output_type": "stream",
       "stream": "stderr",
       "text": [
        "/oasis/projects/nsf/csd181/yuncong/virtualenv-1.9.1/yuncongve/lib/python2.7/site-packages/skimage/util/dtype.py:107: UserWarning: Possible precision loss when converting from float64 to uint8\n",
        "  \"%s to %s\" % (dtypeobj_in, dtypeobj))\n"
       ]
      },
      {
       "html": [
        "<a href='tmp.jpg' target='_blank'>tmp.jpg</a><br>"
       ],
       "metadata": {},
       "output_type": "pyout",
       "prompt_number": 27,
       "text": [
        "/oasis/projects/nsf/csd181/yuncong/Brain/notebooks/tmp.jpg"
       ]
      }
     ],
     "prompt_number": 27
    },
    {
     "cell_type": "code",
     "collapsed": false,
     "input": [
      "c = union_cluster_union_clusters_sorted[24]\n",
      "compute_cluster_score2(c)\n",
      "vis = visualize_cluster(c)\n",
      "display(vis)"
     ],
     "language": "python",
     "metadata": {},
     "outputs": [
      {
       "output_type": "stream",
       "stream": "stdout",
       "text": [
        "cluster [2, 3, 4, 5, 7, 9, 17, 35]\n",
        "surrounds\n",
        "(2, 14, 0.080798851011450928, 0.019973816950259817, 0.060825034061191108)\n",
        "(3, 14, 0.14221090355673846, 0.012947776125424196, 0.12926312743131427)\n",
        "(4, 14, 0.040146238823784597, 0.022865682275563688, 0.017280556548220909)\n",
        "(5, 18, 0.24772294065131667, 0.020104667832053363, 0.22761827281926331)\n",
        "(7, 22, 0.16768271817882247, 0.045011183783801076, 0.12267153439502139)\n",
        "(9, 22, 0.11163265675219837, 0.034061553173924772, 0.077571103578273598)\n",
        "(17, 14, 0.14956929821109768, 0.022503504610090166, 0.1270657936010075)\n",
        "(35, 31, 0.10748592732226453, 0.010020955582113033, 0.097464971740151493)\n",
        "sig: 0.0401462388238 , surround: 0.0401462388238 , model: 0.00828592765803\n",
        "\n"
       ]
      },
      {
       "html": [
        "<a href='tmp.jpg' target='_blank'>tmp.jpg</a><br>"
       ],
       "metadata": {},
       "output_type": "pyout",
       "prompt_number": 274,
       "text": [
        "/oasis/projects/nsf/csd181/yuncong/Brain/notebooks/tmp.jpg"
       ]
      }
     ],
     "prompt_number": 274
    }
   ],
   "metadata": {}
  }
 ]
}