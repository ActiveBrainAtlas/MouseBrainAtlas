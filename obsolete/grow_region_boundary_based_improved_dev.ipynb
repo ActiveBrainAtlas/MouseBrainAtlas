{
 "metadata": {
  "name": "",
  "signature": "sha256:cf989b2854917f31ee8dbb4ec3c8b2736d3647281e41e8d50830766198fc151a"
 },
 "nbformat": 3,
 "nbformat_minor": 0,
 "worksheets": [
  {
   "cells": [
    {
     "cell_type": "code",
     "collapsed": false,
     "input": [
      "%load_ext autoreload\n",
      "%autoreload 2"
     ],
     "language": "python",
     "metadata": {},
     "outputs": [
      {
       "output_type": "stream",
       "stream": "stdout",
       "text": [
        "The autoreload extension is already loaded. To reload it, use:\n",
        "  %reload_ext autoreload\n"
       ]
      }
     ],
     "prompt_number": 5
    },
    {
     "cell_type": "code",
     "collapsed": false,
     "input": [
      "import sys\n",
      "sys.path.append('/home/yuncong/Brain/pipeline_scripts')\n",
      "from utilities2014 import *\n",
      "import os\n",
      "\n",
      "from scipy.spatial.distance import cdist, pdist, squareform\n",
      "from joblib import Parallel, delayed\n",
      "from skimage.color import gray2rgb\n",
      "\n",
      "%run grow_region_boundary_based_common.ipynb"
     ],
     "language": "python",
     "metadata": {},
     "outputs": [
      {
       "output_type": "stream",
       "stream": "stdout",
       "text": [
        "The autoreload extension is already loaded. To reload it, use:\n",
        "  %reload_ext autoreload\n"
       ]
      }
     ],
     "prompt_number": 2
    },
    {
     "cell_type": "code",
     "collapsed": false,
     "input": [
      "sys.path.append('shape_context')\n",
      "import shape_context as sc"
     ],
     "language": "python",
     "metadata": {},
     "outputs": [],
     "prompt_number": 3
    },
    {
     "cell_type": "code",
     "collapsed": false,
     "input": [
      "def find_and_model_good_boundaries(section_ind):\n",
      "    \n",
      "    dm.set_slice(section_ind)\n",
      "    dm._load_image()\n",
      "\n",
      "    texton_hists = dm.load_pipeline_result('texHist', 'npy')\n",
      "    segmentation = dm.load_pipeline_result('segmentation', 'npy')\n",
      "    n_superpixels = len(unique(segmentation)) - 1\n",
      "    textonmap = dm.load_pipeline_result('texMap', 'npy')\n",
      "    n_texton = len(np.unique(textonmap)) - 1\n",
      "    neighbors = dm.load_pipeline_result('neighbors', 'npy')\n",
      "    sp_properties = dm.load_pipeline_result('spProps', 'npy')\n",
      "    segmentation_vis = dm.load_pipeline_result('segmentationWithText', 'jpg')\n",
      "\n",
      "    expansion_clusters_tuples = dm.load_pipeline_result('clusters', 'pkl')\n",
      "    expansion_clusters, expansion_cluster_scores = zip(*expansion_clusters_tuples)\n",
      "        \n",
      "    border_sps = find_boundaries(expansion_clusters, neighbors=neighbors, mode='surrounds')\n",
      "    good_border_indices = find_good_boundaries(border_sps, expansion_cluster_scores)\n",
      "    interior_textures, _, exterior_textures, border_positions, interior_centers = model_boundaries(good_border_indices, \n",
      "                                                border_sps, expansion_clusters, neighbors, texton_hists, sp_properties)\n",
      "    \n",
      "    good_borders = [border_sps[i] for i in good_border_indices]\n",
      "\n",
      "    return good_borders, interior_textures, exterior_textures, border_positions, interior_centers\n",
      "\n",
      "def find_good_boundaries(border_sps, expansion_cluster_scores):\n",
      " \n",
      "    boundary_dist_matrix = set_pairwise_distances(border_sps)\n",
      "    border_groups = group_clusters(border_sps, dist_thresh=.1, distance_matrix=boundary_dist_matrix)\n",
      "    \n",
      "    print len(border_groups), 'boundary groups'\n",
      "    \n",
      "    border_lengths = np.array([len(b) for b in border_sps])\n",
      "    border_group_sizes = np.array([len(b) for b in border_groups])\n",
      "    border_group_votes = np.array([np.sum([expansion_cluster_scores[b] for b in g]) for g in border_groups])\n",
      "    representative_border_indices = np.array([grp[np.argmax([expansion_cluster_scores[b] for b in grp])] \n",
      "                                              for grp in border_groups])\n",
      "    good_group_indices, good_border_indices, good_votes, good_sizes = map(np.array, zip(*[(i, b, v, s) \n",
      "                                for i, (b, v, s) in enumerate(zip(representative_border_indices, \n",
      "                                                                  border_group_votes, border_group_sizes)) \n",
      "                                if v > 20000 and s > 1]))\n",
      "\n",
      "    print len(good_border_indices), 'good boundaries'\n",
      "    \n",
      "    good_group_indices_sorted = np.argsort(good_votes)[::-1]\n",
      "    good_border_indices_sorted = good_border_indices[good_group_indices_sorted]\n",
      "\n",
      "    return good_border_indices_sorted\n",
      "    \n",
      "def model_boundaries(good_border_indices, border_sps, expansion_clusters, neighbors, texton_hists, sp_properties):\n",
      "    \n",
      "    interior_textures = []\n",
      "    variances = []\n",
      "    border_positions = []\n",
      "    \n",
      "    exterior_textures = []\n",
      "    interior_centers =[]\n",
      "    \n",
      "    for i in good_border_indices:\n",
      "        \n",
      "        interior_textons = texton_hists[expansion_clusters[i]]\n",
      "        interior_texture = interior_textons.mean(axis=0)\n",
      "        interior_textures.append(interior_texture)\n",
      "\n",
      "        variance = 1./len(expansion_clusters[i]) * np.sum(cdist(interior_texture[np.newaxis,:], \n",
      "                                                                interior_textons, metric=js)[0]**2)\n",
      "        variances.append(variance)\n",
      "    \n",
      "    \n",
      "        interior_center = sp_properties[list(expansion_clusters[i]), :2].mean(axis=0)\n",
      "        interior_centers.append(interior_center)\n",
      "        \n",
      "        border_sps_list = np.array(list(border_sps[i]))\n",
      "        vec_intctr2ext = sp_properties[border_sps_list, :2] - interior_center\n",
      "        angles = np.arctan2(vec_intctr2ext[:,1], vec_intctr2ext[:,0])\n",
      "        for i in range(len(angles)):\n",
      "            if angles[i] < 0:\n",
      "                angles[i] += 2*np.pi\n",
      "        \n",
      "        border_sps_list_sorted = border_sps_list[np.argsort(angles)] \n",
      "\n",
      "        border_positions.append(sp_properties[border_sps_list_sorted, :2])\n",
      "\n",
      "#         exterior_sps = set.union(*[neighbors[b] for b in border_sps[i]]) - set(expansion_clusters[i]) - set(border_sps[i]) - set([-1])\n",
      "\n",
      "        exterior_texture_set = []\n",
      "        for b in border_sps_list_sorted:\n",
      "            exterior_sps_b = neighbors[b] - set(expansion_clusters[i]) - set(border_sps[i]) - set([-1])\n",
      "#             if len(exterior_sps_b) > 0:\n",
      "            exterior_texture = texton_hists[list(exterior_sps_b)].mean(axis=0)\n",
      "#             else:\n",
      "#                 exterior_texture = np.nan * np.ones((1,12))\n",
      "            exterior_texture_set.append(exterior_texture) # [nan, nan, ..., nan] if exterior_sps_b is empty\n",
      "            \n",
      "        exterior_textures.append(exterior_texture_set)\n",
      "        \n",
      "#         exterior_sps_list = np.array(list(exterior_sps))\n",
      "                \n",
      "\n",
      "        \n",
      "#         vec_intctr2ext = sp_properties[exterior_sps_list, :2] - interior_center\n",
      "        \n",
      "#         angles = np.arctan2(vec_intctr2ext[:,1], vec_intctr2ext[:,0])\n",
      "#         for ai in range(len(angles)):\n",
      "#             if angles[ai] < 0:\n",
      "#                 angles[ai] += 2*np.pi\n",
      "        \n",
      "#         exterior_sps_list_sorted = exterior_sps_list[np.argsort(angles)]        \n",
      "# #         print exterior_sps_list_sorted\n",
      "                \n",
      "#         exterior_textons = texton_hists[exterior_sps_list_sorted]\n",
      "\n",
      "#         exterior_textons = texton_hists[exterior_sps_list]\n",
      "#         exteriors.append(exterior_textons)\n",
      "        \n",
      "\n",
      "#         border_positions.append(sp_properties[list(border_sps[i]), :2])\n",
      "        \n",
      "#         print i\n",
      "#         print list(border_sps[i])\n",
      "#         print sp_properties[list(border_sps[i]), :2]\n",
      "        \n",
      "    return interior_textures, variances, exterior_textures, border_positions, interior_centers"
     ],
     "language": "python",
     "metadata": {},
     "outputs": [],
     "prompt_number": 4
    },
    {
     "cell_type": "code",
     "collapsed": false,
     "input": [
      "dm.set_slice(6)\n",
      "segmentation1 = dm.load_pipeline_result('segmentation', 'npy')\n",
      "segmentation_vis1 = dm.load_pipeline_result('segmentationWithText', 'jpg')\n",
      "# neighbors1 = dm.load_pipeline_result('neighbors', 'npy')\n",
      "# sp_properties1 = dm.load_pipeline_result('spProps', 'npy')\n",
      "\n",
      "dm.set_slice(7)\n",
      "segmentation2 = dm.load_pipeline_result('segmentation', 'npy')\n",
      "segmentation_vis2 = dm.load_pipeline_result('segmentationWithText', 'jpg')"
     ],
     "language": "python",
     "metadata": {},
     "outputs": [
      {
       "output_type": "stream",
       "stream": "stdout",
       "text": [
        "loaded /home/yuncong/project/DavidData2014results/RS141/0006/RS141_x5_0006_segm-blueNisslRegular_segmentation.npy\n",
        "loaded /home/yuncong/project/DavidData2014results/RS141/0006/RS141_x5_0006_segm-blueNisslRegular_segmentationWithText.jpg"
       ]
      },
      {
       "output_type": "stream",
       "stream": "stdout",
       "text": [
        "\n",
        "loaded /home/yuncong/project/DavidData2014results/RS141/0007/RS141_x5_0007_segm-blueNisslRegular_segmentation.npy"
       ]
      },
      {
       "output_type": "stream",
       "stream": "stdout",
       "text": [
        "\n",
        "loaded /home/yuncong/project/DavidData2014results/RS141/0007/RS141_x5_0007_segm-blueNisslRegular_segmentationWithText.jpg"
       ]
      },
      {
       "output_type": "stream",
       "stream": "stdout",
       "text": [
        "\n"
       ]
      }
     ],
     "prompt_number": 6
    },
    {
     "cell_type": "code",
     "collapsed": false,
     "input": [
      "good_borders1, interior_textures1, exterior_textures1, border_positions1, centers1 = find_and_model_good_boundaries(6)"
     ],
     "language": "python",
     "metadata": {},
     "outputs": [
      {
       "output_type": "stream",
       "stream": "stdout",
       "text": [
        "loaded /home/yuncong/project/DavidData2014results/RS141/0006/RS141_x5_0006_gabor-blueNisslWide-segm-blueNisslRegular-vq-blueNissl_texHist.npy\n",
        "loaded /home/yuncong/project/DavidData2014results/RS141/0006/RS141_x5_0006_segm-blueNisslRegular_segmentation.npy"
       ]
      },
      {
       "output_type": "stream",
       "stream": "stdout",
       "text": [
        "\n",
        "loaded /home/yuncong/project/DavidData2014results/RS141/0006/RS141_x5_0006_gabor-blueNisslWide-vq-blueNissl_texMap.npy"
       ]
      },
      {
       "output_type": "stream",
       "stream": "stdout",
       "text": [
        "\n",
        "loaded /home/yuncong/project/DavidData2014results/RS141/0006/RS141_x5_0006_segm-blueNisslRegular_neighbors.npy"
       ]
      },
      {
       "output_type": "stream",
       "stream": "stdout",
       "text": [
        "\n",
        "loaded /home/yuncong/project/DavidData2014results/RS141/0006/RS141_x5_0006_segm-blueNisslRegular_spProps.npy\n",
        "loaded /home/yuncong/project/DavidData2014results/RS141/0006/RS141_x5_0006_segm-blueNisslRegular_segmentationWithText.jpg"
       ]
      },
      {
       "output_type": "stream",
       "stream": "stdout",
       "text": [
        "\n",
        "loaded /home/yuncong/project/DavidData2014results/RS141/0006/RS141_x5_0006_gabor-blueNisslWide-segm-blueNisslRegular-vq-blueNissl_clusters.pkl"
       ]
      },
      {
       "output_type": "stream",
       "stream": "stdout",
       "text": [
        "\n"
       ]
      },
      {
       "output_type": "stream",
       "stream": "stdout",
       "text": [
        "478 boundary groups\n",
        "28 good boundaries\n"
       ]
      },
      {
       "output_type": "stream",
       "stream": "stderr",
       "text": [
        "/oasis/projects/nsf/csd181/yuncong/virtualenv-1.9.1/yuncongve/lib/python2.7/site-packages/numpy/core/_methods.py:59: RuntimeWarning: Mean of empty slice.\n",
        "  warnings.warn(\"Mean of empty slice.\", RuntimeWarning)\n",
        "/oasis/projects/nsf/csd181/yuncong/virtualenv-1.9.1/yuncongve/lib/python2.7/site-packages/numpy/core/_methods.py:69: RuntimeWarning: invalid value encountered in true_divide\n",
        "  ret, rcount, out=ret, casting='unsafe', subok=False)\n"
       ]
      }
     ],
     "prompt_number": 7
    },
    {
     "cell_type": "code",
     "collapsed": false,
     "input": [
      "good_borders2, interior_textures2, exterior_textures2, border_positions2, centers2 = find_and_model_good_boundaries(7)"
     ],
     "language": "python",
     "metadata": {},
     "outputs": [
      {
       "output_type": "stream",
       "stream": "stdout",
       "text": [
        "loaded /home/yuncong/project/DavidData2014results/RS141/0007/RS141_x5_0007_gabor-blueNisslWide-segm-blueNisslRegular-vq-blueNissl_texHist.npy\n",
        "loaded /home/yuncong/project/DavidData2014results/RS141/0007/RS141_x5_0007_segm-blueNisslRegular_segmentation.npy\n",
        "loaded /home/yuncong/project/DavidData2014results/RS141/0007/RS141_x5_0007_gabor-blueNisslWide-vq-blueNissl_texMap.npy"
       ]
      },
      {
       "output_type": "stream",
       "stream": "stdout",
       "text": [
        "\n",
        "loaded /home/yuncong/project/DavidData2014results/RS141/0007/RS141_x5_0007_segm-blueNisslRegular_neighbors.npy"
       ]
      },
      {
       "output_type": "stream",
       "stream": "stdout",
       "text": [
        "\n",
        "loaded /home/yuncong/project/DavidData2014results/RS141/0007/RS141_x5_0007_segm-blueNisslRegular_spProps.npy\n",
        "loaded /home/yuncong/project/DavidData2014results/RS141/0007/RS141_x5_0007_segm-blueNisslRegular_segmentationWithText.jpg"
       ]
      },
      {
       "output_type": "stream",
       "stream": "stdout",
       "text": [
        "\n",
        "loaded /home/yuncong/project/DavidData2014results/RS141/0007/RS141_x5_0007_gabor-blueNisslWide-segm-blueNisslRegular-vq-blueNissl_clusters.pkl"
       ]
      },
      {
       "output_type": "stream",
       "stream": "stdout",
       "text": [
        "\n"
       ]
      },
      {
       "output_type": "stream",
       "stream": "stdout",
       "text": [
        "493 boundary groups\n",
        "35 good boundaries\n"
       ]
      }
     ],
     "prompt_number": 8
    },
    {
     "cell_type": "code",
     "collapsed": false,
     "input": [
      "boundaries1 = zip(interior_textures1, exterior_textures1, border_positions1, centers1)\n",
      "\n",
      "dm.set_slice(6)\n",
      "dm.save_pipeline_result(boundaries1, 'boundaries', 'pkl')\n",
      "\n",
      "boundaries2 = zip(interior_textures2, exterior_textures2, border_positions2, centers2)\n",
      "\n",
      "dm.set_slice(7)\n",
      "dm.save_pipeline_result(boundaries2, 'boundaries', 'pkl')\n"
     ],
     "language": "python",
     "metadata": {},
     "outputs": [
      {
       "output_type": "stream",
       "stream": "stdout",
       "text": [
        "saved /home/yuncong/project/DavidData2014results/RS141/0006/RS141_x5_0006_gabor-blueNisslWide-segm-blueNisslRegular-vq-blueNissl_boundaries.pkl\n",
        "saved /home/yuncong/project/DavidData2014results/RS141/0007/RS141_x5_0007_gabor-blueNisslWide-segm-blueNisslRegular-vq-blueNissl_boundaries.pkl"
       ]
      },
      {
       "output_type": "stream",
       "stream": "stdout",
       "text": [
        "\n"
       ]
      }
     ],
     "prompt_number": 9
    },
    {
     "cell_type": "code",
     "collapsed": false,
     "input": [
      "def centering(ps):\n",
      "    return ps - ps.mean(axis=0)\n",
      "\n",
      "def hausdorff(ps1, ps2):\n",
      "    psc1 = centering(ps1)\n",
      "    psc2 = centering(ps2)\n",
      "    D = cdist(psc1, psc2)\n",
      "    return max(np.max(D.min(axis=0)), np.max(D.min(axis=1)))"
     ],
     "language": "python",
     "metadata": {},
     "outputs": [],
     "prompt_number": 10
    },
    {
     "cell_type": "code",
     "collapsed": false,
     "input": [
      "from _shape_context import chi2_distance\n",
      "\n",
      "def d(ei, ej):\n",
      "    nan_i = np.isnan(ei[0])\n",
      "    nan_j = np.isnan(ej[0])\n",
      "\n",
      "    if nan_i or nan_j:\n",
      "        if nan_i and nan_j:\n",
      "            return 0\n",
      "        else:\n",
      "            return 10 * 0.5\n",
      "    else:\n",
      "        return 10. * js(ei, ej)\n",
      "\n",
      "\n",
      "def shape_distance_with_textures(a_descriptors, b_descriptors,  \n",
      "                                 ext_textures1, ext_textures2, \n",
      "                                 penalty=0.3, backtrace=False):\n",
      "    \"\"\"Computes the distance between two shapes.\n",
      "\n",
      "    The distance is defined as the minimal cost of aligning an ordered\n",
      "    sequence of shape context descriptors along their contours. For\n",
      "    more information, see Ling and Jacobs, 2007.\n",
      "\n",
      "    Uses dynamic programming to find best alignment of sampled points.\n",
      "\n",
      "    If ``backtrace`` is True, also returns alignment.\n",
      "\n",
      "    \"\"\"\n",
      "    # FIXME: Assumes the sequences' starting and ending points are aligned.\n",
      "    # TODO: this could probably be optimized.\n",
      "    # TODO: write a visualization of the alignment found in this function.\n",
      "\n",
      "    assert a_descriptors.ndim == 3\n",
      "    assert b_descriptors.ndim == 3\n",
      "    assert a_descriptors.shape[1:] == b_descriptors.shape[1:]\n",
      "\n",
      "    n_rows = a_descriptors.shape[0]\n",
      "    n_cols = b_descriptors.shape[0]\n",
      "\n",
      "    a_descriptors = a_descriptors.reshape(n_rows, -1)\n",
      "    b_descriptors = b_descriptors.reshape(n_cols, -1)\n",
      "\n",
      "    table = np.zeros((n_rows, n_cols))\n",
      "\n",
      "    # TODO: perhaps precomputing all pairwise distances would be\n",
      "    # faster\n",
      "#     d = lambda i, j: chi2_distance(a_descriptors[i], b_descriptors[j]) +\\\n",
      "#                     (10. * js(ext_textures1[i], ext_textures2[j]) if not any(np.isnan(ext_textures1[i])) and not any(np.isnan(ext_textures2[j])) else 0)\n",
      "\n",
      "\n",
      "        \n",
      "    # initialize outer elements\n",
      "    table[0, 0] = d(ext_textures1[0], ext_textures2[0])\n",
      "#     print 0, 0, table[0, 0]\n",
      "\n",
      "    for i in range(1, n_rows):\n",
      "        match = i * penalty + d(ext_textures1[i], ext_textures2[0])\n",
      "        mismatch = table[i - 1, 0] + penalty\n",
      "        \n",
      "#         print i, 0, match, mismatch\n",
      "        \n",
      "        table[i, 0] = min(match, mismatch)\n",
      "\n",
      "    for j in range(1, n_cols):\n",
      "        match = j * penalty + d(ext_textures1[0], ext_textures2[j])\n",
      "        mismatch = table[0, j - 1] + penalty\n",
      "        \n",
      "#         print 0, j, match, mismatch\n",
      "        \n",
      "        #table[i, 0] = min(match, mismatch)\n",
      "        table[0,j] = min(match, mismatch)\n",
      "\n",
      "    # fill in the rest of the table\n",
      "    for i in range(1, n_rows):\n",
      "        for j in range(1, n_cols):\n",
      "            match = table[i - 1, j - 1] + d(ext_textures1[i], ext_textures2[j])\n",
      "            mismatch = min(table[i - 1, j],\n",
      "                           table[i, j - 1]) + penalty\n",
      "            \n",
      "#             print i, j, match, mismatch\n",
      "\n",
      "            table[i, j] = min(match, mismatch)\n",
      "\n",
      "    # tracing optimal alignment is not necessary. we are just\n",
      "    # interested in the final cost.\n",
      "    if not backtrace:\n",
      "        return table[-1, -1]\n",
      "    \n",
      "    i = n_rows - 1\n",
      "    j = n_cols - 1\n",
      "\n",
      "    alignment = []\n",
      "    while i > 0 or j > 0:\n",
      "        if i == 0 or j == 0:\n",
      "            break\n",
      "\n",
      "        val = table[i - 1, j - 1]\n",
      "        up = table[i - 1, j]\n",
      "        left = table[i, j - 1]\n",
      "\n",
      "        if val <= left and val <= up:\n",
      "            alignment.append((i, j))\n",
      "            i = i - 1\n",
      "            j = j - 1\n",
      "        elif left < up:\n",
      "            j -= 1\n",
      "        else:\n",
      "            i -= 1\n",
      "            \n",
      "    return table[-1, -1], alignment[::-1]\n"
     ],
     "language": "python",
     "metadata": {},
     "outputs": [],
     "prompt_number": 11
    },
    {
     "cell_type": "code",
     "collapsed": false,
     "input": [
      "from munkres import Munkres, print_matrix\n",
      "\n",
      "\n",
      "def shape_context_score_with_textures(ps1_sorted, ps2_sorted, exterior_textures1, exterior_textures2):\n",
      "    \n",
      "#     ps1_sorted = centering(ps1_sorted)\n",
      "#     ps2_sorted = centering(ps2_sorted)\n",
      "\n",
      "    dists1, angles1 = sc.euclidean_dists_angles(ps1_sorted)\n",
      "    descriptors1 = sc.shape_context(dists1, angles1)\n",
      "    \n",
      "    dists2, angles2 = sc.euclidean_dists_angles(ps2_sorted)\n",
      "    descriptors2 = sc.shape_context(dists2, angles2)\n",
      "\n",
      "#     n_rows = descriptors1.shape[0]\n",
      "#     n_cols = descriptors2.shape[0]\n",
      "    \n",
      "#     descriptors1 = descriptors1.reshape(n_rows, -1)\n",
      "#     descriptors2 = descriptors2.reshape(n_cols, -1)\n",
      "        \n",
      "#     Dm = np.zeros((n_rows, n_cols))\n",
      "#     for i, di in enumerate(descriptors1):\n",
      "#         for j, dj in enumerate(descriptors2):\n",
      "#             Dm[i,j] = chi2(di,dj)\n",
      "    \n",
      "#     m = Munkres()\n",
      "#     indexes = m.compute(Dm)\n",
      "#     total = 0\n",
      "#     for row, column in indexes:\n",
      "#         value = Dm[row][column]\n",
      "#         total += value\n",
      "# #         print '(%d, %d) -> %d' % (row, column, value)\n",
      "#     print 'total cost: %d' % total\n",
      "    \n",
      "    s, matches = shape_distance_with_textures(descriptors1, descriptors2, \n",
      "                                              exterior_textures1, exterior_textures2, \n",
      "                                              backtrace=True, penalty=1.)    \n",
      "    if len(matches) > 0:\n",
      "        s = s / len(matches)\n",
      "    \n",
      "#     print s\n",
      "    \n",
      "#     return total, indexes\n",
      "    return s, matches"
     ],
     "language": "python",
     "metadata": {},
     "outputs": [],
     "prompt_number": 12
    },
    {
     "cell_type": "code",
     "collapsed": false,
     "input": [
      "# psc1 = centering(border_positions1[3])\n",
      "# psc2 = centering(border_positions2[0])\n",
      "\n",
      "b1 = 3\n",
      "b2 = 0\n",
      "\n",
      "psc1 = border_positions1[b1]\n",
      "psc2 = border_positions2[b2]\n",
      "\n",
      "exterior_textures1 = map(np.array, exterior_textures1)\n",
      "exterior_textures2 = map(np.array, exterior_textures2)\n",
      "\n",
      "print shape_context_score_with_textures(psc1, psc2, exterior_textures1[b1], exterior_textures2[b2])\n",
      "\n",
      "fig = plt.figure(figsize=(10,10))\n",
      "ax = fig.add_subplot(111, aspect='equal')\n",
      "ax.scatter(psc1[:,0], psc1[:,1], c='r')\n",
      "ax.scatter(psc2[:,0], psc2[:,1], c='g')\n",
      "\n",
      "for i, (y,x) in enumerate(psc1):\n",
      "    ax.text(y, x, str(i), color='r')\n",
      "\n",
      "for i, (y,x) in enumerate(psc2):\n",
      "    ax.text(y, x, str(i), color='g')\n",
      "\n",
      "ax.set_aspect('equal')\n",
      "\n",
      "plt.show()"
     ],
     "language": "python",
     "metadata": {},
     "outputs": [
      {
       "output_type": "stream",
       "stream": "stdout",
       "text": [
        "(59.183497753521209, [])\n"
       ]
      },
      {
       "metadata": {},
       "output_type": "display_data",
       "png": "[encoded data removed]",
       "text": [
        "<matplotlib.figure.Figure at 0x5033510>"
       ]
      }
     ],
     "prompt_number": 13
    },
    {
     "cell_type": "code",
     "collapsed": false,
     "input": [
      "x = np.arange(100,500)\n",
      "y = np.maximum(0, 2./(1+np.exp(-0.03*(x-100)))-1)\n",
      "plt.plot(x,y)"
     ],
     "language": "python",
     "metadata": {},
     "outputs": []
    },
    {
     "cell_type": "code",
     "collapsed": false,
     "input": [
      "x = np.linspace(0, 1., 100)\n",
      "y = np.maximum(0, 2./(1+np.exp(-2*(x)))-1)\n",
      "plt.plot(x,y)"
     ],
     "language": "python",
     "metadata": {},
     "outputs": [
      {
       "metadata": {},
       "output_type": "pyout",
       "prompt_number": 101,
       "text": [
        "[<matplotlib.lines.Line2D at 0x2b099c4dc990>]"
       ]
      },
      {
       "metadata": {},
       "output_type": "display_data",
       "png": "[encoded data removed]",
       "text": [
        "<matplotlib.figure.Figure at 0x2b099c5cd8d0>"
       ]
      }
     ],
     "prompt_number": 101
    },
    {
     "cell_type": "code",
     "collapsed": false,
     "input": [
      "x = np.linspace(0, 2, 100)\n",
      "y = np.maximum(0, 2./(1+np.exp(-2*(x)))-1)\n",
      "plt.plot(x,y)"
     ],
     "language": "python",
     "metadata": {},
     "outputs": [
      {
       "metadata": {},
       "output_type": "pyout",
       "prompt_number": 84,
       "text": [
        "[<matplotlib.lines.Line2D at 0x2b099cbce750>]"
       ]
      },
      {
       "metadata": {},
       "output_type": "display_data",
       "png": "[encoded data removed]",
       "text": [
        "<matplotlib.figure.Figure at 0x2b099c0b2990>"
       ]
      }
     ],
     "prompt_number": 84
    },
    {
     "cell_type": "code",
     "collapsed": false,
     "input": [
      "def sigmoid(x):\n",
      "    y = np.maximum(0, 2./(1+np.exp(-2*(x)))-1)\n",
      "    return y\n",
      "\n",
      "def boundary_distance(b1, b2):\n",
      "    int1, exts1, bp1, c1 = b1\n",
      "    int2, exts2, bp2, c2 = b2\n",
      "    D_exts = cdist(exts1, exts2, js)\n",
      "\n",
      "    d1 = js(int1,int2)\n",
      "    \n",
      "#     d2 = max(np.max(np.min(D_exts, axis=1)), np.max(np.min(D_exts, axis=0)))\n",
      "    d2 = max(np.nanmax(np.nanmin(D_exts, axis=1)), np.nanmax(np.nanmin(D_exts, axis=0)))\n",
      "    \n",
      "#     d3 = np.maximum(0, 2./(1+np.exp(-0.03*(hausdorff(bp1, bp2)-100)))-1.)\n",
      "#     s, m = shape_context_score(bp1, bp2)\n",
      "    s, m = shape_context_score_with_textures(bp1, bp2, exts1, exts2)\n",
      "    \n",
      "#     print s, m\n",
      "    \n",
      "    d3 = sigmoid(s)\n",
      "    \n",
      "    d4 = np.linalg.norm(c1 - c2)/2700.\n",
      "    \n",
      "#     d = .6 * d1 + .4 * d2 + .2 * d3 + .3 * d4\n",
      "    d = .6 * d1 + 0 * d2 + .2 * d3 + 0 * d4\n",
      "    return d, d1, d2, d3, d4"
     ],
     "language": "python",
     "metadata": {},
     "outputs": [],
     "prompt_number": 23
    },
    {
     "cell_type": "code",
     "collapsed": false,
     "input": [
      "from itertools import product\n",
      "\n",
      "n_boundaries1 = len(boundaries1)\n",
      "n_boundaries2 = len(boundaries2)\n",
      "\n",
      "import time\n",
      "t = time.time()\n",
      "Ds = Parallel(n_jobs=16)(delayed(boundary_distance)(boundaries1[i], boundaries2[j]) \n",
      "                         for i, j in product(range(n_boundaries1), range(n_boundaries2)))\n",
      "\n",
      "D_boundaries, D1, D2, D3, D4 = zip(*Ds)\n",
      "\n",
      "D_boundaries = np.reshape(D_boundaries, (n_boundaries1, n_boundaries2))\n",
      "D1 = np.reshape(D1, (n_boundaries1, n_boundaries2))\n",
      "D2 = np.reshape(D2, (n_boundaries1, n_boundaries2))\n",
      "D3 = np.reshape(D3, (n_boundaries1, n_boundaries2))\n",
      "D4 = np.reshape(D4, (n_boundaries1, n_boundaries2))\n",
      "\n",
      "print time.time() - t\n",
      "\n",
      "# D_boundaries = np.zeros((n_boundaries1, n_boundaries2))\n",
      "# D1 = np.zeros((n_boundaries1, n_boundaries2))\n",
      "# D2 = np.zeros((n_boundaries1, n_boundaries2))\n",
      "# D3 = np.zeros((n_boundaries1, n_boundaries2))\n",
      "# D4 = np.zeros((n_boundaries1, n_boundaries2))\n",
      "\n",
      "# for i in range(n_boundaries1):\n",
      "#     for j in range(n_boundaries2):\n",
      "#         D_boundaries[i,j], D1[i,j], D2[i,j], D3[i,j], D4[i,j] = boundary_distance(boundaries1[i], boundaries2[j])\n",
      "        "
     ],
     "language": "python",
     "metadata": {},
     "outputs": [
      {
       "output_type": "stream",
       "stream": "stdout",
       "text": [
        "16.1811759472\n"
       ]
      },
      {
       "output_type": "stream",
       "stream": "stderr",
       "text": [
        "/oasis/projects/nsf/csd181/yuncong/virtualenv-1.9.1/yuncongve/lib/python2.7/site-packages/numpy/lib/nanfunctions.py:220: RuntimeWarning: All-NaN axis encountered\n",
        "  warnings.warn(\"All-NaN axis encountered\", RuntimeWarning)\n",
        "/oasis/projects/nsf/csd181/yuncong/virtualenv-1.9.1/yuncongve/lib/python2.7/site-packages/numpy/lib/nanfunctions.py:220: RuntimeWarning: All-NaN axis encountered\n",
        "  warnings.warn(\"All-NaN axis encountered\", RuntimeWarning)\n",
        "/oasis/projects/nsf/csd181/yuncong/virtualenv-1.9.1/yuncongve/lib/python2.7/site-packages/numpy/lib/nanfunctions.py:220: RuntimeWarning: All-NaN axis encountered\n",
        "  warnings.warn(\"All-NaN axis encountered\", RuntimeWarning)\n",
        "/oasis/projects/nsf/csd181/yuncong/virtualenv-1.9.1/yuncongve/lib/python2.7/site-packages/numpy/lib/nanfunctions.py:220: RuntimeWarning: All-NaN axis encountered\n",
        "  warnings.warn(\"All-NaN axis encountered\", RuntimeWarning)\n",
        "/oasis/projects/nsf/csd181/yuncong/virtualenv-1.9.1/yuncongve/lib/python2.7/site-packages/numpy/lib/nanfunctions.py:220: RuntimeWarning: All-NaN axis encountered\n",
        "  warnings.warn(\"All-NaN axis encountered\", RuntimeWarning)\n",
        "/oasis/projects/nsf/csd181/yuncong/virtualenv-1.9.1/yuncongve/lib/python2.7/site-packages/numpy/lib/nanfunctions.py:220: RuntimeWarning: All-NaN axis encountered\n",
        "  warnings.warn(\"All-NaN axis encountered\", RuntimeWarning)\n",
        "/oasis/projects/nsf/csd181/yuncong/virtualenv-1.9.1/yuncongve/lib/python2.7/site-packages/numpy/lib/nanfunctions.py:220: RuntimeWarning: All-NaN axis encountered\n",
        "  warnings.warn(\"All-NaN axis encountered\", RuntimeWarning)\n",
        "/oasis/projects/nsf/csd181/yuncong/virtualenv-1.9.1/yuncongve/lib/python2.7/site-packages/numpy/lib/nanfunctions.py:220: RuntimeWarning: All-NaN axis encountered\n",
        "  warnings.warn(\"All-NaN axis encountered\", RuntimeWarning)\n",
        "/oasis/projects/nsf/csd181/yuncong/virtualenv-1.9.1/yuncongve/lib/python2.7/site-packages/numpy/lib/nanfunctions.py:220: RuntimeWarning: All-NaN axis encountered\n",
        "  warnings.warn(\"All-NaN axis encountered\", RuntimeWarning)\n",
        "/oasis/projects/nsf/csd181/yuncong/virtualenv-1.9.1/yuncongve/lib/python2.7/site-packages/numpy/lib/nanfunctions.py:220: RuntimeWarning: All-NaN axis encountered\n",
        "  warnings.warn(\"All-NaN axis encountered\", RuntimeWarning)\n",
        "/oasis/projects/nsf/csd181/yuncong/virtualenv-1.9.1/yuncongve/lib/python2.7/site-packages/numpy/lib/nanfunctions.py:220: RuntimeWarning: All-NaN axis encountered\n",
        "  warnings.warn(\"All-NaN axis encountered\", RuntimeWarning)\n",
        "/oasis/projects/nsf/csd181/yuncong/virtualenv-1.9.1/yuncongve/lib/python2.7/site-packages/numpy/lib/nanfunctions.py:220: RuntimeWarning: All-NaN axis encountered\n",
        "  warnings.warn(\"All-NaN axis encountered\", RuntimeWarning)\n",
        "/oasis/projects/nsf/csd181/yuncong/virtualenv-1.9.1/yuncongve/lib/python2.7/site-packages/numpy/lib/nanfunctions.py:220: RuntimeWarning: All-NaN axis encountered\n",
        "  warnings.warn(\"All-NaN axis encountered\", RuntimeWarning)\n",
        "/oasis/projects/nsf/csd181/yuncong/virtualenv-1.9.1/yuncongve/lib/python2.7/site-packages/numpy/lib/nanfunctions.py:220: RuntimeWarning: All-NaN axis encountered\n",
        "  warnings.warn(\"All-NaN axis encountered\", RuntimeWarning)\n",
        "/oasis/projects/nsf/csd181/yuncong/virtualenv-1.9.1/yuncongve/lib/python2.7/site-packages/numpy/lib/nanfunctions.py:220: RuntimeWarning: All-NaN axis encountered\n",
        "  warnings.warn(\"All-NaN axis encountered\", RuntimeWarning)\n",
        "/oasis/projects/nsf/csd181/yuncong/virtualenv-1.9.1/yuncongve/lib/python2.7/site-packages/numpy/lib/nanfunctions.py:220: RuntimeWarning: All-NaN axis encountered\n",
        "  warnings.warn(\"All-NaN axis encountered\", RuntimeWarning)\n"
       ]
      }
     ],
     "prompt_number": 24
    },
    {
     "cell_type": "code",
     "collapsed": false,
     "input": [
      "plt.matshow(D_boundaries, cmap=plt.cm.gray)\n",
      "plt.colorbar()\n",
      "plt.show()\n",
      "\n",
      "plt.matshow(D1, cmap=plt.cm.gray)\n",
      "plt.colorbar()\n",
      "plt.show()\n",
      "\n",
      "plt.matshow(D2, cmap=plt.cm.gray)\n",
      "plt.colorbar()\n",
      "plt.show()\n",
      "\n",
      "plt.matshow(D3, cmap=plt.cm.gray)\n",
      "plt.colorbar()\n",
      "plt.show()\n",
      "\n",
      "plt.matshow(D4, cmap=plt.cm.gray)\n",
      "plt.colorbar()\n",
      "plt.show()"
     ],
     "language": "python",
     "metadata": {},
     "outputs": [
      {
       "metadata": {},
       "output_type": "display_data",
       "png": "[encoded data removed]",
       "text": [
        "<matplotlib.figure.Figure at 0x4e2c6d0>"
       ]
      },
      {
       "metadata": {},
       "output_type": "display_data",
       "png": "[encoded data removed]",
       "text": [
        "<matplotlib.figure.Figure at 0x4e2e050>"
       ]
      },
      {
       "metadata": {},
       "output_type": "display_data",
       "png": "[encoded data removed]",
       "text": [
        "<matplotlib.figure.Figure at 0x4e1ea90>"
       ]
      },
      {
       "metadata": {},
       "output_type": "display_data",
       "png": "[encoded data removed]",
       "text": [
        "<matplotlib.figure.Figure at 0x53ebf90>"
       ]
      },
      {
       "metadata": {},
       "output_type": "display_data",
       "png": "[encoded data removed]",
       "text": [
        "<matplotlib.figure.Figure at 0x53d9190>"
       ]
      }
     ],
     "prompt_number": 17
    },
    {
     "cell_type": "code",
     "collapsed": false,
     "input": [
      "for i in range(n_boundaries1):\n",
      "    vis1 = visualize_cluster(good_borders1[i], segmentation=segmentation1, segmentation_vis=segmentation_vis1)\n",
      "    imsave('/tmp/boundaries1_%d.jpg'%i, vis1)"
     ],
     "language": "python",
     "metadata": {},
     "outputs": []
    },
    {
     "cell_type": "code",
     "collapsed": false,
     "input": [
      "for i in range(n_boundaries2):\n",
      "    vis2 = visualize_cluster(good_borders2[i], segmentation=segmentation2, segmentation_vis=segmentation_vis2)\n",
      "    imsave('/tmp/boundaries2_%d.jpg'%i, vis2)"
     ],
     "language": "python",
     "metadata": {},
     "outputs": [],
     "prompt_number": 22
    },
    {
     "cell_type": "code",
     "collapsed": false,
     "input": [
      "D_boundaries[:,0].argsort()"
     ],
     "language": "python",
     "metadata": {},
     "outputs": [
      {
       "metadata": {},
       "output_type": "pyout",
       "prompt_number": 26,
       "text": [
        "array([ 0,  6, 14, 21, 11,  8, 27, 22, 17, 23, 19,  7, 10, 26,  4,  3,  2,\n",
        "       13, 18, 25, 16, 15, 12,  9,  1, 20, 24,  5])"
       ]
      }
     ],
     "prompt_number": 26
    },
    {
     "cell_type": "code",
     "collapsed": false,
     "input": [
      "D_boundaries[0,:].argsort()"
     ],
     "language": "python",
     "metadata": {},
     "outputs": [
      {
       "metadata": {},
       "output_type": "pyout",
       "prompt_number": 27,
       "text": [
        "array([ 0,  1, 16, 13, 34, 10, 23, 15,  7,  9, 21, 11, 26, 22, 31,  4, 30,\n",
        "       12, 24, 32,  6, 33, 17,  8, 25, 27,  2, 18, 19, 29, 28, 20,  3, 14,\n",
        "        5])"
       ]
      }
     ],
     "prompt_number": 27
    },
    {
     "cell_type": "code",
     "collapsed": false,
     "input": [
      "print D_boundaries[0,[0,11]]\n",
      "print D1[0,[0,11]]\n",
      "print D2[0,[0,11]]\n",
      "print D3[0,[0,11]]\n",
      "print D4[0,[0,11]]"
     ],
     "language": "python",
     "metadata": {},
     "outputs": [
      {
       "output_type": "stream",
       "stream": "stdout",
       "text": [
        "[ 0.15347931  0.27046259]\n",
        "[ 0.00925774  0.18972952]\n",
        "[ 0.10634453  0.1790553 ]\n",
        "[ 0.73962334  0.78312441]\n",
        "[ 0.14196008  0.2887005 ]\n"
       ]
      }
     ],
     "prompt_number": 25
    },
    {
     "cell_type": "code",
     "collapsed": false,
     "input": [
      "matchings = [(i, j) for j, i in enumerate(D_boundaries.argmin(axis=0)) if (i, j) in enumerate(D_boundaries.argmin(axis=1))]\n",
      "most_close_matching_indices = np.argsort([D_boundaries[i,j] for i, j in matchings])\n",
      "print sorted(matchings, key=lambda x: x[0])\n",
      "# print [matchings[i] for i in most_close_matching_indices]"
     ],
     "language": "python",
     "metadata": {},
     "outputs": [
      {
       "output_type": "stream",
       "stream": "stdout",
       "text": [
        "[(0, 0), (1, 5), (2, 27), (4, 33), (6, 13), (7, 12), (10, 24), (11, 16), (14, 34), (16, 2), (17, 26), (21, 1), (24, 14), (25, 8), (27, 7)]\n"
       ]
      }
     ],
     "prompt_number": 30
    },
    {
     "cell_type": "code",
     "collapsed": false,
     "input": [
      "for a, (i, j) in enumerate(matchings):\n",
      "    \n",
      "    print 'matching', a\n",
      "    \n",
      "    vis1 = visualize_cluster(good_borders1[i], segmentation=segmentation1, segmentation_vis=segmentation_vis1)\n",
      "    \n",
      "    vis2 = visualize_cluster(good_borders2[j], segmentation=segmentation2, segmentation_vis=segmentation_vis2)\n",
      "\n",
      "    fig, axes = plt.subplots(1, 2, figsize=(20,20))\n",
      "\n",
      "    axes[0].imshow(vis1)\n",
      "    axes[0].axis('off')\n",
      "    axes[0].set_title('section %d, %d' %(6, i))\n",
      "    \n",
      "    axes[1].imshow(vis2)\n",
      "    axes[1].axis('off')\n",
      "    axes[1].set_title('section %d, %d' %(7, j))\n",
      "        \n",
      "    plt.savefig('/tmp/boundaryMatch%d.jpg'%a, bbox_inches='tight')\n",
      "    \n",
      "    plt.close(fig)\n",
      "    \n",
      "#     plt.show()"
     ],
     "language": "python",
     "metadata": {},
     "outputs": [
      {
       "output_type": "stream",
       "stream": "stdout",
       "text": [
        "matching 0\n",
        "matching"
       ]
      },
      {
       "output_type": "stream",
       "stream": "stdout",
       "text": [
        " 1\n",
        "matching"
       ]
      },
      {
       "output_type": "stream",
       "stream": "stdout",
       "text": [
        " 2\n",
        "matching"
       ]
      },
      {
       "output_type": "stream",
       "stream": "stdout",
       "text": [
        " 3\n",
        "matching"
       ]
      },
      {
       "output_type": "stream",
       "stream": "stdout",
       "text": [
        " 4\n",
        "matching"
       ]
      },
      {
       "output_type": "stream",
       "stream": "stdout",
       "text": [
        " 5\n",
        "matching"
       ]
      },
      {
       "output_type": "stream",
       "stream": "stdout",
       "text": [
        " 6\n",
        "matching"
       ]
      },
      {
       "output_type": "stream",
       "stream": "stdout",
       "text": [
        " 7\n",
        "matching"
       ]
      },
      {
       "output_type": "stream",
       "stream": "stdout",
       "text": [
        " 8\n",
        "matching"
       ]
      },
      {
       "output_type": "stream",
       "stream": "stdout",
       "text": [
        " 9\n",
        "matching"
       ]
      },
      {
       "output_type": "stream",
       "stream": "stdout",
       "text": [
        " 10\n",
        "matching"
       ]
      },
      {
       "output_type": "stream",
       "stream": "stdout",
       "text": [
        " 11\n",
        "matching"
       ]
      },
      {
       "output_type": "stream",
       "stream": "stdout",
       "text": [
        " 12\n",
        "matching"
       ]
      },
      {
       "output_type": "stream",
       "stream": "stdout",
       "text": [
        " 13\n",
        "matching"
       ]
      },
      {
       "output_type": "stream",
       "stream": "stdout",
       "text": [
        " 14\n",
        "matching"
       ]
      },
      {
       "output_type": "stream",
       "stream": "stdout",
       "text": [
        " 15\n",
        "matching"
       ]
      },
      {
       "output_type": "stream",
       "stream": "stdout",
       "text": [
        " 16\n"
       ]
      }
     ],
     "prompt_number": 20
    },
    {
     "cell_type": "code",
     "collapsed": false,
     "input": [],
     "language": "python",
     "metadata": {},
     "outputs": []
    }
   ],
   "metadata": {}
  }
 ]
}