{
 "metadata": {
  "name": "",
  "signature": "sha256:e2035f3a60c79346cee471811a5ab01b5b3a570661223ade2e6a712ec054e457"
 },
 "nbformat": 3,
 "nbformat_minor": 0,
 "worksheets": [
  {
   "cells": [
    {
     "cell_type": "code",
     "collapsed": false,
     "input": [
      "# %load_ext autoreload\n",
      "# %autoreload 2\n",
      "\n",
      "from IPython.display import Image, FileLink\n",
      "\n",
      "from CVPipelineModule import CrossValidationPipeline\n",
      "# from kmeans_module import SaliencyDetector\n",
      "from utilities import *\n",
      "\n",
      "import cv2\n",
      "import matplotlib.pyplot as plt\n",
      "\n",
      "import random\n",
      "\n",
      "import warnings\n",
      "warnings.filterwarnings(\"ignore\", category=DeprecationWarning) "
     ],
     "language": "python",
     "metadata": {},
     "outputs": []
    },
    {
     "cell_type": "code",
     "collapsed": false,
     "input": [
      "output_dir = '../output'\n",
      "data_dir = '../data'\n",
      "param_dump_dir = '../params'\n",
      "\n",
      "dataset_name = 'PMD1305_reduce2_region0'\n",
      "img_idx = 244\n",
      "param_id = 2\n",
      "\n",
      "import os\n",
      "param_file = os.path.join(param_dump_dir, 'param%d.json'%param_id)\n",
      "pipeline = CrossValidationPipeline(param_file)\n",
      "\n",
      "img_path = os.path.join(data_dir, dataset_name, dataset_name + '_%04d.tif'%img_idx)\n"
     ],
     "language": "python",
     "metadata": {},
     "outputs": []
    },
    {
     "cell_type": "code",
     "collapsed": false,
     "input": [
      "%%time\n",
      "pipeline.filter_image(img_path)"
     ],
     "language": "python",
     "metadata": {},
     "outputs": []
    }
   ],
   "metadata": {}
  }
 ]
}