{
 "cells": [
  {
   "cell_type": "code",
   "execution_count": 1,
   "metadata": {
    "collapsed": false,
    "scrolled": true
   },
   "outputs": [
    {
     "name": "stdout",
     "output_type": "stream",
     "text": [
      "Setting environment for Gordon\n"
     ]
    },
    {
     "name": "stderr",
     "output_type": "stream",
     "text": [
      "Cannot import mxnet.\n"
     ]
    }
   ],
   "source": [
    "%reload_ext autoreload\n",
    "%autoreload 2\n",
    "\n",
    "import os\n",
    "import sys\n",
    "import time\n",
    "import cv2\n",
    "\n",
    "sys.path.append(os.path.join(os.environ['REPO_DIR'], 'utilities'))\n",
    "from utilities2015 import *\n",
    "from metadata import *\n",
    "from data_manager import *\n",
    "\n",
    "from sift_spm_utilities import *\n",
    "from learning_utilities import *\n",
    "\n",
    "from sklearn.cluster import KMeans\n",
    "from sklearn.externals import joblib\n",
    "\n",
    "import pandas as pd"
   ]
  },
  {
   "cell_type": "code",
   "execution_count": 35,
   "metadata": {
    "collapsed": false
   },
   "outputs": [
    {
     "data": {
      "text/plain": [
       "array([ 1.,  2.,  2.,  3.])"
      ]
     },
     "execution_count": 35,
     "metadata": {},
     "output_type": "execute_result"
    }
   ],
   "source": [
    "np.concatenate([np.array([])] + [np.array([1,2]), np.array([2,3])])"
   ]
  },
  {
   "cell_type": "code",
   "execution_count": 2,
   "metadata": {
    "collapsed": true
   },
   "outputs": [],
   "source": [
    "output_dir = '/oasis/projects/nsf/csd395/yuncong/CSHL_SIFT_SPM_features/'\n",
    "M = 200 # vocabulary size"
   ]
  },
  {
   "cell_type": "code",
   "execution_count": 3,
   "metadata": {
    "collapsed": false
   },
   "outputs": [],
   "source": [
    "patch_size = 224\n",
    "stride = 56"
   ]
  },
  {
   "cell_type": "code",
   "execution_count": 5,
   "metadata": {
    "collapsed": false
   },
   "outputs": [
    {
     "name": "stdout",
     "output_type": "stream",
     "text": [
      "23555 patches in ROI\n",
      "(23555, 16, 200)\n",
      "(23555, 4, 200)\n",
      "(23555, 200)\n",
      "24379 patches in ROI\n"
     ]
    },
    {
     "name": "stderr",
     "output_type": "stream",
     "text": [
      "done in 23.817175 seconds\n"
     ]
    },
    {
     "name": "stdout",
     "output_type": "stream",
     "text": [
      "(24379, 16, 200)\n",
      "(24379, 4, 200)\n",
      "(24379, 200)\n",
      "24664 patches in ROI\n"
     ]
    },
    {
     "name": "stderr",
     "output_type": "stream",
     "text": [
      "done in 27.070361 seconds\n"
     ]
    },
    {
     "name": "stdout",
     "output_type": "stream",
     "text": [
      "(24664, 16, 200)\n",
      "(24664, 4, 200)\n",
      "(24664, 200)\n"
     ]
    },
    {
     "name": "stderr",
     "output_type": "stream",
     "text": [
      "done in 23.272872 seconds\n"
     ]
    }
   ],
   "source": [
    "for stack in ['MD589', 'MD585', 'MD594']:\n",
    "# for stack in ['MD589']:\n",
    "\n",
    "    image_width, image_height = DataManager.get_image_dimension(stack)\n",
    "    grid_spec = (patch_size, stride, image_width, image_height)\n",
    "    \n",
    "    sample_locations = grid_parameters_to_sample_locations(grid_spec=grid_spec)\n",
    "        \n",
    "    first_sec, last_sec = detect_bbox_range_lookup[stack]\n",
    "    bar = show_progress_bar(first_sec, last_sec)\n",
    "    \n",
    "#     for sec in range(first_sec, first_sec+2):\n",
    "#     for sec in range(first_sec, last_sec+1, 10):\n",
    "    for sec in [first_sec]:\n",
    "\n",
    "        bar.value = sec\n",
    "\n",
    "        mask_tb = DataManager.load_thumbnail_mask(stack, sec)\n",
    "        indices_roi = locate_patches(grid_spec=grid_spec, mask_tb=mask_tb, bbox=detect_bbox_lookup[stack])\n",
    "        \n",
    "        sample_locs = sample_locations[indices_roi]\n",
    "\n",
    "        # Compute SIFT word map\n",
    "        labelmap = compute_labelmap(stack, sec)\n",
    "        \n",
    "        hists_arr0, hists_arr1, hists_arr2 = compute_spm_histograms(labelmap, sample_locs, patch_size=patch_size, M=M)\n",
    "\n",
    "#         create_if_not_exists(output_dir + '/%(stack)s' % {'stack': stack})\n",
    "#         bp.pack_ndarray_file(hists_arr0, output_dir + '/%(stack)s/%(stack)s_%(sec)04d_roi1_histograms_l0.bp' % {'stack': stack, 'sec': sec})\n",
    "#         bp.pack_ndarray_file(hists_arr1, output_dir + '/%(stack)s/%(stack)s_%(sec)04d_roi1_histograms_l1.bp' % {'stack': stack, 'sec': sec})\n",
    "#         bp.pack_ndarray_file(hists_arr2, output_dir + '/%(stack)s/%(stack)s_%(sec)04d_roi1_histograms_l2.bp' % {'stack': stack, 'sec': sec})"
   ]
  },
  {
   "cell_type": "code",
   "execution_count": null,
   "metadata": {
    "collapsed": false
   },
   "outputs": [],
   "source": [
    "colors = np.vstack([(0,0,0), np.random.randint(0, 255, (M, 3))])\n",
    "\n",
    "labelmap_viz = colors[labelmap]\n",
    "# display_image(labelmap_viz[5000:5500, 5000:5500])\n",
    "\n",
    "plt.figure(figsize=(10,10));\n",
    "plt.imshow(labelmap_viz[5000:5500, 5000:5500]);\n",
    "plt.show();"
   ]
  }
 ],
 "metadata": {
  "kernelspec": {
   "display_name": "Python 2",
   "language": "python",
   "name": "python2"
  },
  "language_info": {
   "codemirror_mode": {
    "name": "ipython",
    "version": 2
   },
   "file_extension": ".py",
   "mimetype": "text/x-python",
   "name": "python",
   "nbconvert_exporter": "python",
   "pygments_lexer": "ipython2",
   "version": "2.7.3"
  }
 },
 "nbformat": 4,
 "nbformat_minor": 0
}
