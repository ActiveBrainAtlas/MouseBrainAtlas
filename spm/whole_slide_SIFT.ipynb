{
 "cells": [
  {
   "cell_type": "code",
   "execution_count": 6,
   "metadata": {
    "collapsed": true
   },
   "outputs": [],
   "source": [
    "import matplotlib.pyplot as plt\n",
    "%matplotlib inline\n",
    "\n",
    "import numpy as np\n",
    "\n",
    "import cv2\n",
    "\n",
    "import time\n",
    "from itertools import product\n",
    "from skimage.io import imread\n",
    "\n",
    "from joblib import Parallel, delayed"
   ]
  },
  {
   "cell_type": "code",
   "execution_count": 7,
   "metadata": {
    "collapsed": false
   },
   "outputs": [
    {
     "name": "stdout",
     "output_type": "stream",
     "text": [
      "6.8001139164\n"
     ]
    }
   ],
   "source": [
    "t = time.time()\n",
    "\n",
    "img2 = cv2.imread('/oasis/projects/nsf/csd395/yuncong/CSHL_data_processed/MD589_lossless_aligned_cropped/MD589_0197_lossless_aligned_cropped.tif')\n",
    "\n",
    "print time.time() - t"
   ]
  },
  {
   "cell_type": "code",
   "execution_count": 29,
   "metadata": {
    "collapsed": false
   },
   "outputs": [
    {
     "name": "stdout",
     "output_type": "stream",
     "text": [
      "(11744, 13408, 3)\n"
     ]
    }
   ],
   "source": [
    "print img2.shape"
   ]
  },
  {
   "cell_type": "code",
   "execution_count": 28,
   "metadata": {
    "collapsed": true
   },
   "outputs": [],
   "source": [
    "def compute_descriptors(keypoints):\n",
    "    cv_keypoints = [cv2.KeyPoint(x,y, patch_size) for x, y in keypoints]\n",
    "    _, descriptors = sift.compute(img, cv_keypoints)\n",
    "    return descriptors"
   ]
  },
  {
   "cell_type": "code",
   "execution_count": 16,
   "metadata": {
    "collapsed": true
   },
   "outputs": [],
   "source": [
    "ys, xs = np.meshgrid(np.arange(half_size, img_h-half_size, stride), \n",
    "                     np.arange(half_size, img_w-half_size, stride),\n",
    "                     indexing='xy')\n",
    "\n",
    "sample_locations = np.c_[xs.flat, ys.flat]"
   ]
  },
  {
   "cell_type": "code",
   "execution_count": 18,
   "metadata": {
    "collapsed": true
   },
   "outputs": [],
   "source": [
    "all_descriptors = np.empty((sample_locations.shape[0], 128), np.int)"
   ]
  },
  {
   "cell_type": "code",
   "execution_count": 25,
   "metadata": {
    "collapsed": false
   },
   "outputs": [
    {
     "name": "stdout",
     "output_type": "stream",
     "text": [
      "14.5891628265\n"
     ]
    }
   ],
   "source": [
    "img_h, img_w = img2.shape[:2]\n",
    "\n",
    "t = time.time()\n",
    "\n",
    "n_partition = 16\n",
    "\n",
    "# Each iteration, deal with only a fixed-sized (5000 x 5000) part of the image,\n",
    "# so we can use all 16 cores within each iteration, \n",
    "# otherwise the memory pressure is too high, and the performance degrades drastically\n",
    "\n",
    "for ymin, xmin in product(np.arange(0, img_h, 5000), np.arange(0, img_w, 5000)):\n",
    "    \n",
    "    ymax = ymin + 5000\n",
    "    xmax = xmin + 5000\n",
    "    \n",
    "    img = img2[ymin:ymax+1, xmin:xmax+1]\n",
    "\n",
    "    sift = cv2.SIFT()\n",
    "\n",
    "    patch_size = 16\n",
    "    stride = 56\n",
    "    half_size = patch_size / 2\n",
    "\n",
    "    h, w = img.shape[:2]\n",
    "\n",
    "    in_current_segment = \\\n",
    "    (sample_locations[:,1] >= ymin) & \\\n",
    "    (sample_locations[:,1] <= ymax) & \\\n",
    "    (sample_locations[:,0] >= xmin) & \\\n",
    "    (sample_locations[:,0] <= xmax)\n",
    "    \n",
    "    partitioned_locations = np.array_split(sample_locations[in_current_segment], n_partition)\n",
    "    ret = Parallel(n_jobs=n)(delayed(compute_descriptors)(kps) for kps in partitioned_locations)\n",
    "    all_descriptors[in_current_segment] = np.vstack(ret)\n",
    "        \n",
    "print time.time() - t"
   ]
  }
 ],
 "metadata": {
  "kernelspec": {
   "display_name": "Python 2",
   "language": "python",
   "name": "python2"
  },
  "language_info": {
   "codemirror_mode": {
    "name": "ipython",
    "version": 2
   },
   "file_extension": ".py",
   "mimetype": "text/x-python",
   "name": "python",
   "nbconvert_exporter": "python",
   "pygments_lexer": "ipython2",
   "version": "2.7.3"
  }
 },
 "nbformat": 4,
 "nbformat_minor": 0
}
