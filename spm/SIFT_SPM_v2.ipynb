{
 "cells": [
  {
   "cell_type": "code",
   "execution_count": 1,
   "metadata": {},
   "outputs": [
    {
     "name": "stdout",
     "output_type": "stream",
     "text": [
      "Setting environment for AWS compute node\n"
     ]
    },
    {
     "name": "stderr",
     "output_type": "stream",
     "text": [
      "No vtk\n",
      "Cannot import mxnet.\n"
     ]
    }
   ],
   "source": [
    "%reload_ext autoreload\n",
    "%autoreload 2\n",
    "\n",
    "import os\n",
    "import sys\n",
    "import time\n",
    "sys.path.insert(1, \"/shared/opencv/release/lib/python2.7/dist-packages/\")\n",
    "import cv2\n",
    "import random\n",
    "from collections import defaultdict\n",
    "\n",
    "from sklearn.cluster import KMeans\n",
    "import pandas as pd\n",
    "\n",
    "sys.path.append(os.path.join(os.environ['REPO_DIR'], 'utilities'))\n",
    "from utilities2015 import *\n",
    "from metadata import *\n",
    "from data_manager import *\n",
    "from sift_spm_utilities import *\n",
    "from learning_utilities import *\n",
    "from annotation_utilities import *"
   ]
  },
  {
   "cell_type": "code",
   "execution_count": 2,
   "metadata": {},
   "outputs": [],
   "source": [
    "# CSHL_SPM_ROOTDIR = '/shared/CSHL_SIFT_SPM_features/'\n",
    "M = 200 # vocabulary size\n",
    "colors = np.vstack([(0,0,0), np.random.randint(0, 255, (M, 3))])"
   ]
  },
  {
   "cell_type": "code",
   "execution_count": 3,
   "metadata": {
    "collapsed": true
   },
   "outputs": [],
   "source": [
    "win_id = 1"
   ]
  },
  {
   "cell_type": "code",
   "execution_count": 4,
   "metadata": {
    "collapsed": true
   },
   "outputs": [],
   "source": [
    "stack = 'MD589'"
   ]
  },
  {
   "cell_type": "markdown",
   "metadata": {},
   "source": [
    "# Build Vocabulary"
   ]
  },
  {
   "cell_type": "code",
   "execution_count": 5,
   "metadata": {},
   "outputs": [],
   "source": [
    "sift = cv2.xfeatures2d.SIFT_create()"
   ]
  },
  {
   "cell_type": "code",
   "execution_count": 31,
   "metadata": {},
   "outputs": [
    {
     "ename": "KeyboardInterrupt",
     "evalue": "",
     "output_type": "error",
     "traceback": [
      "\u001b[0;31m---------------------------------------------------------------------------\u001b[0m",
      "\u001b[0;31mKeyboardInterrupt\u001b[0m                         Traceback (most recent call last)",
      "\u001b[0;32m<ipython-input-31-13219974056b>\u001b[0m in \u001b[0;36m<module>\u001b[0;34m()\u001b[0m\n\u001b[1;32m     13\u001b[0m \u001b[0;34m\u001b[0m\u001b[0m\n\u001b[1;32m     14\u001b[0m         \u001b[0mt\u001b[0m \u001b[0;34m=\u001b[0m \u001b[0mtime\u001b[0m\u001b[0;34m.\u001b[0m\u001b[0mtime\u001b[0m\u001b[0;34m(\u001b[0m\u001b[0;34m)\u001b[0m\u001b[0;34m\u001b[0m\u001b[0m\n\u001b[0;32m---> 15\u001b[0;31m         \u001b[0mkeypoints\u001b[0m\u001b[0;34m,\u001b[0m \u001b[0mdescriptors\u001b[0m \u001b[0;34m=\u001b[0m \u001b[0msift\u001b[0m\u001b[0;34m.\u001b[0m\u001b[0mdetectAndCompute\u001b[0m\u001b[0;34m(\u001b[0m\u001b[0mimg\u001b[0m\u001b[0;34m,\u001b[0m \u001b[0mNone\u001b[0m\u001b[0;34m)\u001b[0m\u001b[0;34m;\u001b[0m\u001b[0;34m\u001b[0m\u001b[0m\n\u001b[0m\u001b[1;32m     16\u001b[0m         \u001b[0mkeypoints\u001b[0m \u001b[0;34m=\u001b[0m \u001b[0mnp\u001b[0m\u001b[0;34m.\u001b[0m\u001b[0marray\u001b[0m\u001b[0;34m(\u001b[0m\u001b[0;34m[\u001b[0m\u001b[0mk\u001b[0m\u001b[0;34m.\u001b[0m\u001b[0mpt\u001b[0m \u001b[0;32mfor\u001b[0m \u001b[0mk\u001b[0m \u001b[0;32min\u001b[0m \u001b[0mkeypoints\u001b[0m\u001b[0;34m]\u001b[0m\u001b[0;34m)\u001b[0m \u001b[0;34m+\u001b[0m \u001b[0;34m(\u001b[0m\u001b[0mxmin\u001b[0m\u001b[0;34m,\u001b[0m \u001b[0mymin\u001b[0m\u001b[0;34m)\u001b[0m\u001b[0;34m\u001b[0m\u001b[0m\n\u001b[1;32m     17\u001b[0m \u001b[0;34m\u001b[0m\u001b[0m\n",
      "\u001b[0;31mKeyboardInterrupt\u001b[0m: "
     ]
    }
   ],
   "source": [
    "for stack in ['MD589']:\n",
    "    for sec in metadata_cache['valid_sections'][stack]:\n",
    "        \n",
    "        image = DataManager.load_image_v2(stack=stack, section=sec, prep_id=2, version='gray')\n",
    "        mask = DataManager.load_image_v2(stack=stack, section=sec, prep_id=2, version='mask', resol='thumbnail')\n",
    "        xmin_tb, xmax_tb, ymin_tb, ymax_tb = bbox_2d(mask)\n",
    "        xmin = xmin_tb * 32\n",
    "        xmax = (xmax_tb + 1) * 32\n",
    "        ymin = ymin_tb * 32\n",
    "        ymax = (ymax_tb + 1) * 32\n",
    "\n",
    "        img = image[ymin:ymax+1, xmin:xmax+1].copy()\n",
    "\n",
    "        t = time.time()\n",
    "        keypoints, descriptors = sift.detectAndCompute(img, None);\n",
    "        keypoints = np.array([k.pt for k in keypoints]) + (xmin, ymin)\n",
    "        \n",
    "        fp = DataManager.get_sift_keypoints_filepath(stack=stack, section=sec)\n",
    "        create_parent_dir_if_not_exists(fp)\n",
    "        bp.pack_ndarray_file(keypoints, fp)\n",
    "        upload_to_s3(fp)\n",
    "        \n",
    "        fp = DataManager.get_sift_descriptors_filepath(stack=stack, section=sec)\n",
    "        create_parent_dir_if_not_exists(fp)\n",
    "        bp.pack_ndarray_file(descriptors, fp)\n",
    "        upload_to_s3(fp)\n",
    "        \n",
    "        sys.stderr.write('sift: %.2f seconds\\n' % (time.time() - t)) # 60s"
   ]
  },
  {
   "cell_type": "code",
   "execution_count": 28,
   "metadata": {},
   "outputs": [],
   "source": [
    "# viz = gray2rgb(img)\n",
    "# for x, y in keypoints:\n",
    "#     cv2.circle(viz, (int(x), int(y)), 5, (255,0,0))"
   ]
  },
  {
   "cell_type": "code",
   "execution_count": 30,
   "metadata": {},
   "outputs": [
    {
     "data": {
      "text/html": [
       "<a href='tmp.jpg' target='_blank'>tmp.jpg</a><br>"
      ],
      "text/plain": [
       "/shared/MouseBrainAtlas/spm/tmp.jpg"
      ]
     },
     "execution_count": 30,
     "metadata": {},
     "output_type": "execute_result"
    }
   ],
   "source": [
    "# display_image(viz[1000:5000, 1000:5000])"
   ]
  },
  {
   "cell_type": "markdown",
   "metadata": {},
   "source": [
    "# or use author's own binary, 10x slower."
   ]
  },
  {
   "cell_type": "code",
   "execution_count": 42,
   "metadata": {
    "collapsed": true
   },
   "outputs": [],
   "source": [
    "from skimage.io import load_sift"
   ]
  },
  {
   "cell_type": "code",
   "execution_count": null,
   "metadata": {
    "scrolled": true
   },
   "outputs": [],
   "source": [
    "import uuid\n",
    "\n",
    "for stack in ['MD589']:\n",
    "    for sec in metadata_cache['valid_sections'][stack][:1]:\n",
    "        \n",
    "        image = DataManager.load_image_v2(stack=stack, section=134, prep_id=2, version='gray')\n",
    "        mask = DataManager.load_image_v2(stack=stack, section=134, prep_id=2, version='mask', resol='thumbnail')\n",
    "        xmin_tb, xmax_tb, ymin_tb, ymax_tb = bbox_2d(mask)\n",
    "        xmin = xmin_tb * 32\n",
    "        xmax = (xmax_tb + 1) * 32\n",
    "        ymin = ymin_tb * 32\n",
    "        ymax = (ymax_tb + 1) * 32\n",
    "\n",
    "        img = image[ymin:ymax+1, xmin:xmax+1].copy()\n",
    "\n",
    "        \n",
    "        keypoints_allBlocks = []\n",
    "        descriptors_allBlocks = []\n",
    "        \n",
    "        # the binary cannot deal with large data\n",
    "        for y in range(0, img.shape[0], 3000):\n",
    "            for x in range(0, img.shape[1], 3000):\n",
    "                t = time.time()\n",
    "                \n",
    "                uid = str(uuid.uuid1()).split('-')[0]\n",
    "                in_fp = '/tmp/%s.pgm' % uid\n",
    "                imsave(in_fp, img[y:y+3000, x:x+3000])\n",
    "                out_fp = '/tmp/%s.key' % uid\n",
    "                execute_command('/shared/siftDemoV4/sift <%s >%s' % (in_fp, out_fp))\n",
    "\n",
    "                sift_data = load_sift(out_fp)\n",
    "                descriptors = sift_data['data'].shape\n",
    "                keypoints = np.c_[sift_data['column'], sift_data['row']]\n",
    "                print len(keypoints), 'keypoints'\n",
    "                # sift_data['orientation']\n",
    "                # sift_data['scale']\n",
    "                \n",
    "                keypoints_allBlocks.append(keypoints)\n",
    "                descriptors_allBlocks.append(descriptors)\n",
    "\n",
    "        #         keypoints, descriptors = sift.detectAndCompute(img, None);\n",
    "                sys.stderr.write('sift: %.2f seconds\\n' % (time.time() - t)) \n",
    "            \n",
    "        keypoints = np.concatenate(keypoints_allBlocks)\n",
    "        descriptors = np.concatenate(descriptors_allBlocks)"
   ]
  },
  {
   "cell_type": "code",
   "execution_count": 23,
   "metadata": {},
   "outputs": [
    {
     "name": "stdout",
     "output_type": "stream",
     "text": [
      "92\n"
     ]
    },
    {
     "name": "stderr",
     "output_type": "stream",
     "text": [
      "[Errno 13] Permission denied: '/oasis'\n"
     ]
    },
    {
     "ename": "AttributeError",
     "evalue": "'module' object has no attribute 'SIFT'",
     "output_type": "error",
     "traceback": [
      "\u001b[0;31m---------------------------------------------------------------------------\u001b[0m",
      "\u001b[0;31mAttributeError\u001b[0m                            Traceback (most recent call last)",
      "\u001b[0;32m<ipython-input-23-ef164ad70955>\u001b[0m in \u001b[0;36m<module>\u001b[0;34m()\u001b[0m\n\u001b[1;32m     28\u001b[0m         \u001b[0;32mprint\u001b[0m \u001b[0msec\u001b[0m\u001b[0;34m\u001b[0m\u001b[0m\n\u001b[1;32m     29\u001b[0m \u001b[0;34m\u001b[0m\u001b[0m\n\u001b[0;32m---> 30\u001b[0;31m         \u001b[0mlabelmap\u001b[0m \u001b[0;34m=\u001b[0m \u001b[0mcompute_labelmap\u001b[0m\u001b[0;34m(\u001b[0m\u001b[0mstack\u001b[0m\u001b[0;34m,\u001b[0m \u001b[0msec\u001b[0m\u001b[0;34m)\u001b[0m\u001b[0;34m\u001b[0m\u001b[0m\n\u001b[0m\u001b[1;32m     31\u001b[0m \u001b[0;34m\u001b[0m\u001b[0m\n\u001b[1;32m     32\u001b[0m         \u001b[0mmask_tb\u001b[0m \u001b[0;34m=\u001b[0m \u001b[0mDataManager\u001b[0m\u001b[0;34m.\u001b[0m\u001b[0mload_image_v2\u001b[0m\u001b[0;34m(\u001b[0m\u001b[0mstack\u001b[0m\u001b[0;34m,\u001b[0m \u001b[0mprep_id\u001b[0m\u001b[0;34m=\u001b[0m\u001b[0;36m2\u001b[0m\u001b[0;34m,\u001b[0m \u001b[0msection\u001b[0m\u001b[0;34m=\u001b[0m\u001b[0msec\u001b[0m\u001b[0;34m,\u001b[0m \u001b[0mresol\u001b[0m\u001b[0;34m=\u001b[0m\u001b[0;34m'thumbnail'\u001b[0m\u001b[0;34m,\u001b[0m \u001b[0mversion\u001b[0m\u001b[0;34m=\u001b[0m\u001b[0;34m'mask'\u001b[0m\u001b[0;34m)\u001b[0m\u001b[0;34m\u001b[0m\u001b[0m\n",
      "\u001b[0;32m/shared/MouseBrainAtlas/spm/sift_spm_utilities.py\u001b[0m in \u001b[0;36mcompute_labelmap\u001b[0;34m(stack, sec, force)\u001b[0m\n\u001b[1;32m    204\u001b[0m     \u001b[0;32melse\u001b[0m\u001b[0;34m:\u001b[0m\u001b[0;34m\u001b[0m\u001b[0m\n\u001b[1;32m    205\u001b[0m \u001b[0;34m\u001b[0m\u001b[0m\n\u001b[0;32m--> 206\u001b[0;31m         \u001b[0msift\u001b[0m \u001b[0;34m=\u001b[0m \u001b[0mcv2\u001b[0m\u001b[0;34m.\u001b[0m\u001b[0mSIFT\u001b[0m\u001b[0;34m(\u001b[0m\u001b[0;34m)\u001b[0m\u001b[0;34m\u001b[0m\u001b[0m\n\u001b[0m\u001b[1;32m    207\u001b[0m \u001b[0;34m\u001b[0m\u001b[0m\n\u001b[1;32m    208\u001b[0m         \u001b[0;31m# Compute keypoints and assign labels\u001b[0m\u001b[0;34m\u001b[0m\u001b[0;34m\u001b[0m\u001b[0m\n",
      "\u001b[0;31mAttributeError\u001b[0m: 'module' object has no attribute 'SIFT'"
     ]
    }
   ],
   "source": [
    "indices_map = defaultdict(list)\n",
    "hists0_allLandmarks = defaultdict(list)\n",
    "hists1_allLandmarks = defaultdict(list)\n",
    "hists2_allLandmarks = defaultdict(list)\n",
    "\n",
    "# for stack in ['MD589', 'MD594', 'MD585']:\n",
    "for stack in ['MD589']:\n",
    "\n",
    "#     username = 'yuncong'\n",
    "#     label_polygons = load_label_polygons_if_exists(stack, username, force=False, \n",
    "#                                                    annotation_rootdir=annotation_midbrainIncluded_rootdir)\n",
    "\n",
    "    grid_indices_perSec_perStruct = DataManager.load_annotation_to_grid_indices_lookup(stack=stack, win_id=win_id, by_human=True)\n",
    "    \n",
    "#     image_width, image_height = DataManager.get_image_dimension(stack)\n",
    "#     grid_spec = (patch_size, stride, image_width, image_height)\n",
    "#     sample_locations = grid_parameters_to_sample_locations(grid_spec=grid_spec)\n",
    "\n",
    "    patch_size = windowing_settings[win_id]['patch_size']\n",
    "    half_size = patch_size / 2\n",
    "    stride = windowing_settings[win_id]['spacing']\n",
    "    image_width, image_height = metadata_cache['image_shape'][stack]\n",
    "    grid_spec = (patch_size, stride, image_width, image_height)\n",
    "\n",
    "    sample_locations = grid_parameters_to_sample_locations(grid_spec=grid_spec)\n",
    "    \n",
    "    for sec in metadata_cache['valid_sections'][stack][:1]:\n",
    "        print sec\n",
    "\n",
    "        labelmap = compute_labelmap(stack, sec)\n",
    "        \n",
    "        mask_tb = DataManager.load_image_v2(stack, prep_id=2, section=sec, resol='thumbnail', version='mask')\n",
    "        \n",
    "        for name, indices in grid_indices_perSec_perStruct.iloc[sec].dropna().iteritems():\n",
    "            if name == 'bg' or name == 'noclass':\n",
    "                continue\n",
    "                \n",
    "            print name\n",
    "            num_sample = 20\n",
    "            indices_sampled = np.random.choice(indices, min(len(indices), num_sample), replace=False)\n",
    "            sample_locs = sample_locations[indices_sampled]\n",
    "\n",
    "            hists_arr0, hists_arr1, hists_arr2 = compute_spm_histograms(labelmap, sample_locs, patch_size=patch_size, M=M)\n",
    "\n",
    "            hists0_allLandmarks[name].append(hists_arr0)\n",
    "            hists1_allLandmarks[name].append(hists_arr1)\n",
    "            hists2_allLandmarks[name].append(hists_arr2)\n",
    "\n",
    "            indices_map[name].append(indices_sampled)\n",
    "\n",
    "hists0_allLandmarks.default_factory = None\n",
    "hists1_allLandmarks.default_factory = None\n",
    "hists2_allLandmarks.default_factory = None\n",
    "\n",
    "indices_map.default_factory = None"
   ]
  },
  {
   "cell_type": "code",
   "execution_count": null,
   "metadata": {
    "collapsed": true
   },
   "outputs": [],
   "source": [
    "hists0_allLandmarks = {name: np.concatenate(arrs) for name, arrs in hists0_allLandmarks.iteritems()}\n",
    "hists1_allLandmarks = {name: np.concatenate(arrs) for name, arrs in hists1_allLandmarks.iteritems()}\n",
    "hists2_allLandmarks = {name: np.concatenate(arrs) for name, arrs in hists2_allLandmarks.iteritems()}\n",
    "indices_map = {name: [(i,) + l for i, l in enumerate(chain(*indices))] for name, indices in indices_map.iteritems()}"
   ]
  }
 ],
 "metadata": {
  "kernelspec": {
   "display_name": "Python 2",
   "language": "python",
   "name": "python2"
  },
  "language_info": {
   "codemirror_mode": {
    "name": "ipython",
    "version": 2
   },
   "file_extension": ".py",
   "mimetype": "text/x-python",
   "name": "python",
   "nbconvert_exporter": "python",
   "pygments_lexer": "ipython2",
   "version": "2.7.12"
  }
 },
 "nbformat": 4,
 "nbformat_minor": 2
}
