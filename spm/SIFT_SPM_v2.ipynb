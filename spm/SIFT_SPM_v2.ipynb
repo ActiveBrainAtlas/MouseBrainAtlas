{
 "cells": [
  {
   "cell_type": "code",
   "execution_count": 1,
   "metadata": {},
   "outputs": [
    {
     "name": "stdout",
     "output_type": "stream",
     "text": [
      "Setting environment for AWS compute node\n"
     ]
    },
    {
     "name": "stderr",
     "output_type": "stream",
     "text": [
      "No vtk\n",
      "Cannot import mxnet.\n"
     ]
    }
   ],
   "source": [
    "%reload_ext autoreload\n",
    "%autoreload 2\n",
    "\n",
    "import os\n",
    "import sys\n",
    "import time\n",
    "sys.path.insert(1, \"/shared/opencv/release/lib/python2.7/dist-packages/\")\n",
    "import cv2\n",
    "import random\n",
    "from collections import defaultdict\n",
    "\n",
    "from sklearn.cluster import KMeans\n",
    "import pandas as pd\n",
    "\n",
    "sys.path.append(os.path.join(os.environ['REPO_DIR'], 'utilities'))\n",
    "from utilities2015 import *\n",
    "from metadata import *\n",
    "from data_manager import *\n",
    "from sift_spm_utilities import *\n",
    "from learning_utilities import *\n",
    "from annotation_utilities import *"
   ]
  },
  {
   "cell_type": "code",
   "execution_count": 2,
   "metadata": {
    "collapsed": true
   },
   "outputs": [],
   "source": [
    "# CSHL_SPM_ROOTDIR = '/shared/CSHL_SIFT_SPM_features/'\n",
    "M = 200 # vocabulary size\n",
    "colors = np.vstack([(0,0,0), np.random.randint(0, 255, (M, 3))])"
   ]
  },
  {
   "cell_type": "code",
   "execution_count": 3,
   "metadata": {
    "collapsed": true
   },
   "outputs": [],
   "source": [
    "win_id = 1"
   ]
  },
  {
   "cell_type": "code",
   "execution_count": 4,
   "metadata": {
    "collapsed": true
   },
   "outputs": [],
   "source": [
    "stack = 'MD589'"
   ]
  },
  {
   "cell_type": "markdown",
   "metadata": {},
   "source": [
    "# Build Vocabulary"
   ]
  },
  {
   "cell_type": "code",
   "execution_count": null,
   "metadata": {},
   "outputs": [],
   "source": [
    "for stack in ['MD589']:\n",
    "    for sec in metadata_cache['valid_sections'][stack]:\n",
    "        \n",
    "        keypoints, descriptors = compute_sift_keypoints_and_descriptors(stack=stack, section=sec)\n",
    "        \n",
    "        fp = DataManager.get_sift_keypoints_filepath(stack=stack, section=sec)\n",
    "        create_parent_dir_if_not_exists(fp)\n",
    "        bp.pack_ndarray_file(keypoints, fp)\n",
    "        upload_to_s3(fp)\n",
    "        \n",
    "        fp = DataManager.get_sift_descriptors_filepath(stack=stack, section=sec)\n",
    "        create_parent_dir_if_not_exists(fp)\n",
    "        bp.pack_ndarray_file(descriptors, fp)\n",
    "        upload_to_s3(fp)"
   ]
  },
  {
   "cell_type": "code",
   "execution_count": 28,
   "metadata": {},
   "outputs": [],
   "source": [
    "vocab_fp = DataManager.get_sift_descriptor_vocabulary_filepath()\n",
    "download_from_s3(vocab_fp)\n",
    "vocabulary_kmeans = joblib.load(vocab_fp)"
   ]
  },
  {
   "cell_type": "code",
   "execution_count": 8,
   "metadata": {
    "collapsed": true
   },
   "outputs": [],
   "source": [
    "# viz = gray2rgb(img)\n",
    "# for x, y in keypoints:\n",
    "#     cv2.circle(viz, (int(x), int(y)), 5, (255,0,0))"
   ]
  },
  {
   "cell_type": "code",
   "execution_count": 9,
   "metadata": {},
   "outputs": [],
   "source": [
    "# display_image(viz[1000:5000, 1000:5000])"
   ]
  },
  {
   "cell_type": "markdown",
   "metadata": {},
   "source": [
    "# or use author's own binary, 10x slower."
   ]
  },
  {
   "cell_type": "code",
   "execution_count": 42,
   "metadata": {
    "collapsed": true
   },
   "outputs": [],
   "source": [
    "from skimage.io import load_sift"
   ]
  },
  {
   "cell_type": "code",
   "execution_count": null,
   "metadata": {
    "collapsed": true,
    "scrolled": true
   },
   "outputs": [],
   "source": [
    "import uuid\n",
    "\n",
    "for stack in ['MD589']:\n",
    "    for sec in metadata_cache['valid_sections'][stack][:1]:\n",
    "        \n",
    "        image = DataManager.load_image_v2(stack=stack, section=134, prep_id=2, version='gray')\n",
    "        mask = DataManager.load_image_v2(stack=stack, section=134, prep_id=2, version='mask', resol='thumbnail')\n",
    "        xmin_tb, xmax_tb, ymin_tb, ymax_tb = bbox_2d(mask)\n",
    "        xmin = xmin_tb * 32\n",
    "        xmax = (xmax_tb + 1) * 32\n",
    "        ymin = ymin_tb * 32\n",
    "        ymax = (ymax_tb + 1) * 32\n",
    "\n",
    "        img = image[ymin:ymax+1, xmin:xmax+1].copy()\n",
    "        \n",
    "        keypoints_allBlocks = []\n",
    "        descriptors_allBlocks = []\n",
    "        \n",
    "        # the binary cannot deal with large data\n",
    "        for y in range(0, img.shape[0], 3000):\n",
    "            for x in range(0, img.shape[1], 3000):\n",
    "                t = time.time()\n",
    "                \n",
    "                uid = str(uuid.uuid1()).split('-')[0]\n",
    "                in_fp = '/tmp/%s.pgm' % uid\n",
    "                imsave(in_fp, img[y:y+3000, x:x+3000])\n",
    "                out_fp = '/tmp/%s.key' % uid\n",
    "                execute_command('/shared/siftDemoV4/sift <%s >%s' % (in_fp, out_fp))\n",
    "\n",
    "                sift_data = load_sift(out_fp)\n",
    "                descriptors = sift_data['data'].shape\n",
    "                keypoints = np.c_[sift_data['column'], sift_data['row']]\n",
    "                print len(keypoints), 'keypoints'\n",
    "                # sift_data['orientation']\n",
    "                # sift_data['scale']\n",
    "                \n",
    "                keypoints_allBlocks.append(keypoints)\n",
    "                descriptors_allBlocks.append(descriptors)\n",
    "\n",
    "        #         keypoints, descriptors = sift.detectAndCompute(img, None);\n",
    "                sys.stderr.write('sift: %.2f seconds\\n' % (time.time() - t)) \n",
    "            \n",
    "        keypoints = np.concatenate(keypoints_allBlocks)\n",
    "        descriptors = np.concatenate(descriptors_allBlocks)"
   ]
  },
  {
   "cell_type": "code",
   "execution_count": null,
   "metadata": {
    "collapsed": true
   },
   "outputs": [],
   "source": [
    "# "
   ]
  },
  {
   "cell_type": "code",
   "execution_count": 50,
   "metadata": {},
   "outputs": [
    {
     "name": "stdout",
     "output_type": "stream",
     "text": [
      "aws s3 cp \"/shared/CSHL_SPM/sift_labelmap/MD589/MD589-N16-2015.07.30-17.03.43_MD589_3_0048_sift_labelmap.bp\" \"s3://mousebrainatlas-data/CSHL_SPM/sift_labelmap/MD589/MD589-N16-2015.07.30-17.03.43_MD589_3_0048_sift_labelmap.bp\"\n",
      "630146 keypoints\n"
     ]
    },
    {
     "name": "stderr",
     "output_type": "stream",
     "text": [
      "compute vocab: 0.00 seconds\n",
      "predict: 1.23 seconds\n"
     ]
    },
    {
     "name": "stdout",
     "output_type": "stream",
     "text": [
      "aws s3 cp \"/shared/CSHL_SPM/sift_labelmap/MD589/MD589-IHC16-2015.07.30-22.20.07_MD589_3_0048_sift_labelmap.bp\" \"s3://mousebrainatlas-data/CSHL_SPM/sift_labelmap/MD589/MD589-IHC16-2015.07.30-22.20.07_MD589_3_0048_sift_labelmap.bp\"\n",
      "670222 keypoints\n"
     ]
    },
    {
     "name": "stderr",
     "output_type": "stream",
     "text": [
      "compute vocab: 0.00 seconds\n",
      "predict: 1.27 seconds\n"
     ]
    },
    {
     "name": "stdout",
     "output_type": "stream",
     "text": [
      "aws s3 cp \"/shared/CSHL_SPM/sift_labelmap/MD589/MD589-N17-2015.07.30-17.07.32_MD589_1_0049_sift_labelmap.bp\" \"s3://mousebrainatlas-data/CSHL_SPM/sift_labelmap/MD589/MD589-N17-2015.07.30-17.07.32_MD589_1_0049_sift_labelmap.bp\"\n",
      "714307 keypoints\n"
     ]
    },
    {
     "name": "stderr",
     "output_type": "stream",
     "text": [
      "compute vocab: 0.00 seconds\n",
      "predict: 1.35 seconds\n"
     ]
    },
    {
     "name": "stdout",
     "output_type": "stream",
     "text": [
      "aws s3 cp \"/shared/CSHL_SPM/sift_labelmap/MD589/MD589-IHC17-2015.07.30-22.23.59_MD589_1_0049_sift_labelmap.bp\" \"s3://mousebrainatlas-data/CSHL_SPM/sift_labelmap/MD589/MD589-IHC17-2015.07.30-22.23.59_MD589_1_0049_sift_labelmap.bp\"\n",
      "707332 keypoints\n"
     ]
    },
    {
     "name": "stderr",
     "output_type": "stream",
     "text": [
      "compute vocab: 0.00 seconds\n",
      "predict: 1.35 seconds\n"
     ]
    },
    {
     "name": "stdout",
     "output_type": "stream",
     "text": [
      "aws s3 cp \"/shared/CSHL_SPM/sift_labelmap/MD589/MD589-N17-2015.07.30-17.07.32_MD589_2_0050_sift_labelmap.bp\" \"s3://mousebrainatlas-data/CSHL_SPM/sift_labelmap/MD589/MD589-N17-2015.07.30-17.07.32_MD589_2_0050_sift_labelmap.bp\"\n",
      "736181 keypoints\n"
     ]
    },
    {
     "name": "stderr",
     "output_type": "stream",
     "text": [
      "compute vocab: 0.00 seconds\n",
      "predict: 1.40 seconds\n"
     ]
    },
    {
     "name": "stdout",
     "output_type": "stream",
     "text": [
      "aws s3 cp \"/shared/CSHL_SPM/sift_labelmap/MD589/MD589-IHC17-2015.07.30-22.23.59_MD589_2_0050_sift_labelmap.bp\" \"s3://mousebrainatlas-data/CSHL_SPM/sift_labelmap/MD589/MD589-IHC17-2015.07.30-22.23.59_MD589_2_0050_sift_labelmap.bp\"\n",
      "696593 keypoints\n"
     ]
    },
    {
     "name": "stderr",
     "output_type": "stream",
     "text": [
      "compute vocab: 0.00 seconds\n",
      "predict: 1.42 seconds\n"
     ]
    },
    {
     "name": "stdout",
     "output_type": "stream",
     "text": [
      "aws s3 cp \"/shared/CSHL_SPM/sift_labelmap/MD589/MD589-N17-2015.07.30-17.07.32_MD589_3_0051_sift_labelmap.bp\" \"s3://mousebrainatlas-data/CSHL_SPM/sift_labelmap/MD589/MD589-N17-2015.07.30-17.07.32_MD589_3_0051_sift_labelmap.bp\"\n",
      "701765 keypoints\n"
     ]
    },
    {
     "name": "stderr",
     "output_type": "stream",
     "text": [
      "compute vocab: 0.00 seconds\n",
      "predict: 1.34 seconds\n"
     ]
    },
    {
     "name": "stdout",
     "output_type": "stream",
     "text": [
      "aws s3 cp \"/shared/CSHL_SPM/sift_labelmap/MD589/MD589-IHC17-2015.07.30-22.23.59_MD589_3_0051_sift_labelmap.bp\" \"s3://mousebrainatlas-data/CSHL_SPM/sift_labelmap/MD589/MD589-IHC17-2015.07.30-22.23.59_MD589_3_0051_sift_labelmap.bp\"\n",
      "699834 keypoints\n"
     ]
    },
    {
     "name": "stderr",
     "output_type": "stream",
     "text": [
      "compute vocab: 0.00 seconds\n",
      "predict: 1.34 seconds\n"
     ]
    },
    {
     "name": "stdout",
     "output_type": "stream",
     "text": [
      "aws s3 cp \"/shared/CSHL_SPM/sift_labelmap/MD589/MD589-N18-2015.07.30-17.11.24_MD589_1_0052_sift_labelmap.bp\" \"s3://mousebrainatlas-data/CSHL_SPM/sift_labelmap/MD589/MD589-N18-2015.07.30-17.11.24_MD589_1_0052_sift_labelmap.bp\"\n",
      "720153 keypoints\n"
     ]
    },
    {
     "name": "stderr",
     "output_type": "stream",
     "text": [
      "compute vocab: 0.00 seconds\n",
      "predict: 1.39 seconds\n"
     ]
    },
    {
     "name": "stdout",
     "output_type": "stream",
     "text": [
      "aws s3 cp \"/shared/CSHL_SPM/sift_labelmap/MD589/MD589-IHC18-2015.07.30-22.27.59_MD589_1_0052_sift_labelmap.bp\" \"s3://mousebrainatlas-data/CSHL_SPM/sift_labelmap/MD589/MD589-IHC18-2015.07.30-22.27.59_MD589_1_0052_sift_labelmap.bp\"\n",
      "745024 keypoints\n"
     ]
    },
    {
     "name": "stderr",
     "output_type": "stream",
     "text": [
      "compute vocab: 0.00 seconds\n",
      "predict: 1.42 seconds\n"
     ]
    },
    {
     "name": "stdout",
     "output_type": "stream",
     "text": [
      "aws s3 cp \"/shared/CSHL_SPM/sift_labelmap/MD589/MD589-N18-2015.07.30-17.11.24_MD589_2_0053_sift_labelmap.bp\" \"s3://mousebrainatlas-data/CSHL_SPM/sift_labelmap/MD589/MD589-N18-2015.07.30-17.11.24_MD589_2_0053_sift_labelmap.bp\"\n",
      "747908 keypoints\n"
     ]
    },
    {
     "name": "stderr",
     "output_type": "stream",
     "text": [
      "compute vocab: 0.00 seconds\n",
      "predict: 1.47 seconds\n"
     ]
    },
    {
     "name": "stdout",
     "output_type": "stream",
     "text": [
      "aws s3 cp \"/shared/CSHL_SPM/sift_labelmap/MD589/MD589-IHC18-2015.07.30-22.27.59_MD589_2_0053_sift_labelmap.bp\" \"s3://mousebrainatlas-data/CSHL_SPM/sift_labelmap/MD589/MD589-IHC18-2015.07.30-22.27.59_MD589_2_0053_sift_labelmap.bp\"\n",
      "689707 keypoints\n"
     ]
    },
    {
     "name": "stderr",
     "output_type": "stream",
     "text": [
      "compute vocab: 0.00 seconds\n",
      "predict: 1.30 seconds\n"
     ]
    },
    {
     "name": "stdout",
     "output_type": "stream",
     "text": [
      "aws s3 cp \"/shared/CSHL_SPM/sift_labelmap/MD589/MD589-N18-2015.07.30-17.11.24_MD589_3_0054_sift_labelmap.bp\" \"s3://mousebrainatlas-data/CSHL_SPM/sift_labelmap/MD589/MD589-N18-2015.07.30-17.11.24_MD589_3_0054_sift_labelmap.bp\"\n",
      "735488 keypoints\n"
     ]
    },
    {
     "name": "stderr",
     "output_type": "stream",
     "text": [
      "compute vocab: 0.00 seconds\n",
      "predict: 1.41 seconds\n"
     ]
    },
    {
     "name": "stdout",
     "output_type": "stream",
     "text": [
      "aws s3 cp \"/shared/CSHL_SPM/sift_labelmap/MD589/MD589-IHC18-2015.07.30-22.27.59_MD589_3_0054_sift_labelmap.bp\" \"s3://mousebrainatlas-data/CSHL_SPM/sift_labelmap/MD589/MD589-IHC18-2015.07.30-22.27.59_MD589_3_0054_sift_labelmap.bp\"\n",
      "719422 keypoints\n"
     ]
    },
    {
     "name": "stderr",
     "output_type": "stream",
     "text": [
      "compute vocab: 0.00 seconds\n",
      "predict: 1.36 seconds\n"
     ]
    },
    {
     "name": "stdout",
     "output_type": "stream",
     "text": [
      "aws s3 cp \"/shared/CSHL_SPM/sift_labelmap/MD589/MD589-N19-2015.07.30-17.15.15_MD589_1_0055_sift_labelmap.bp\" \"s3://mousebrainatlas-data/CSHL_SPM/sift_labelmap/MD589/MD589-N19-2015.07.30-17.15.15_MD589_1_0055_sift_labelmap.bp\"\n",
      "717124 keypoints\n"
     ]
    },
    {
     "name": "stderr",
     "output_type": "stream",
     "text": [
      "compute vocab: 0.00 seconds\n",
      "predict: 1.37 seconds\n"
     ]
    },
    {
     "name": "stdout",
     "output_type": "stream",
     "text": [
      "aws s3 cp \"/shared/CSHL_SPM/sift_labelmap/MD589/MD589-IHC19-2015.07.30-22.32.05_MD589_1_0055_sift_labelmap.bp\" \"s3://mousebrainatlas-data/CSHL_SPM/sift_labelmap/MD589/MD589-IHC19-2015.07.30-22.32.05_MD589_1_0055_sift_labelmap.bp\"\n",
      "744530 keypoints\n"
     ]
    },
    {
     "name": "stderr",
     "output_type": "stream",
     "text": [
      "compute vocab: 0.00 seconds\n",
      "predict: 1.42 seconds\n"
     ]
    },
    {
     "name": "stdout",
     "output_type": "stream",
     "text": [
      "aws s3 cp \"/shared/CSHL_SPM/sift_labelmap/MD589/MD589-N19-2015.07.30-17.15.15_MD589_2_0056_sift_labelmap.bp\" \"s3://mousebrainatlas-data/CSHL_SPM/sift_labelmap/MD589/MD589-N19-2015.07.30-17.15.15_MD589_2_0056_sift_labelmap.bp\"\n",
      "752326 keypoints\n"
     ]
    },
    {
     "name": "stderr",
     "output_type": "stream",
     "text": [
      "compute vocab: 0.00 seconds\n",
      "predict: 1.42 seconds\n"
     ]
    },
    {
     "name": "stdout",
     "output_type": "stream",
     "text": [
      "aws s3 cp \"/shared/CSHL_SPM/sift_labelmap/MD589/MD589-IHC19-2015.07.30-22.32.05_MD589_2_0056_sift_labelmap.bp\" \"s3://mousebrainatlas-data/CSHL_SPM/sift_labelmap/MD589/MD589-IHC19-2015.07.30-22.32.05_MD589_2_0056_sift_labelmap.bp\"\n",
      "705793 keypoints\n"
     ]
    },
    {
     "name": "stderr",
     "output_type": "stream",
     "text": [
      "compute vocab: 0.00 seconds\n",
      "predict: 1.34 seconds\n"
     ]
    },
    {
     "name": "stdout",
     "output_type": "stream",
     "text": [
      "aws s3 cp \"/shared/CSHL_SPM/sift_labelmap/MD589/MD589-N19-2015.07.30-17.15.15_MD589_3_0057_sift_labelmap.bp\" \"s3://mousebrainatlas-data/CSHL_SPM/sift_labelmap/MD589/MD589-N19-2015.07.30-17.15.15_MD589_3_0057_sift_labelmap.bp\"\n",
      "706368 keypoints\n"
     ]
    },
    {
     "name": "stderr",
     "output_type": "stream",
     "text": [
      "compute vocab: 0.00 seconds\n",
      "predict: 1.63 seconds\n"
     ]
    },
    {
     "name": "stdout",
     "output_type": "stream",
     "text": [
      "aws s3 cp \"/shared/CSHL_SPM/sift_labelmap/MD589/MD589-IHC19-2015.07.30-22.32.05_MD589_3_0057_sift_labelmap.bp\" \"s3://mousebrainatlas-data/CSHL_SPM/sift_labelmap/MD589/MD589-IHC19-2015.07.30-22.32.05_MD589_3_0057_sift_labelmap.bp\"\n",
      "663915 keypoints\n"
     ]
    },
    {
     "name": "stderr",
     "output_type": "stream",
     "text": [
      "compute vocab: 0.00 seconds\n",
      "predict: 1.36 seconds\n"
     ]
    },
    {
     "name": "stdout",
     "output_type": "stream",
     "text": [
      "aws s3 cp \"/shared/CSHL_SPM/sift_labelmap/MD589/MD589-N20-2015.07.30-17.19.14_MD589_1_0058_sift_labelmap.bp\" \"s3://mousebrainatlas-data/CSHL_SPM/sift_labelmap/MD589/MD589-N20-2015.07.30-17.19.14_MD589_1_0058_sift_labelmap.bp\"\n",
      "703849 keypoints\n"
     ]
    },
    {
     "name": "stderr",
     "output_type": "stream",
     "text": [
      "compute vocab: 0.00 seconds\n",
      "predict: 1.51 seconds\n"
     ]
    },
    {
     "name": "stdout",
     "output_type": "stream",
     "text": [
      "aws s3 cp \"/shared/CSHL_SPM/sift_labelmap/MD589/MD589-IHC20-2015.07.30-22.36.03_MD589_1_0058_sift_labelmap.bp\" \"s3://mousebrainatlas-data/CSHL_SPM/sift_labelmap/MD589/MD589-IHC20-2015.07.30-22.36.03_MD589_1_0058_sift_labelmap.bp\"\n",
      "716575 keypoints\n"
     ]
    },
    {
     "name": "stderr",
     "output_type": "stream",
     "text": [
      "compute vocab: 0.00 seconds\n",
      "predict: 1.49 seconds\n"
     ]
    },
    {
     "name": "stdout",
     "output_type": "stream",
     "text": [
      "aws s3 cp \"/shared/CSHL_SPM/sift_labelmap/MD589/MD589-N20-2015.07.30-17.19.14_MD589_2_0059_sift_labelmap.bp\" \"s3://mousebrainatlas-data/CSHL_SPM/sift_labelmap/MD589/MD589-N20-2015.07.30-17.19.14_MD589_2_0059_sift_labelmap.bp\"\n",
      "706357 keypoints\n"
     ]
    },
    {
     "name": "stderr",
     "output_type": "stream",
     "text": [
      "compute vocab: 0.00 seconds\n",
      "predict: 1.57 seconds\n"
     ]
    },
    {
     "name": "stdout",
     "output_type": "stream",
     "text": [
      "aws s3 cp \"/shared/CSHL_SPM/sift_labelmap/MD589/MD589-IHC20-2015.07.30-22.36.03_MD589_2_0059_sift_labelmap.bp\" \"s3://mousebrainatlas-data/CSHL_SPM/sift_labelmap/MD589/MD589-IHC20-2015.07.30-22.36.03_MD589_2_0059_sift_labelmap.bp\"\n",
      "702091 keypoints\n"
     ]
    },
    {
     "name": "stderr",
     "output_type": "stream",
     "text": [
      "compute vocab: 0.00 seconds\n",
      "predict: 1.40 seconds\n"
     ]
    },
    {
     "name": "stdout",
     "output_type": "stream",
     "text": [
      "aws s3 cp \"/shared/CSHL_SPM/sift_labelmap/MD589/MD589-N20-2015.07.30-17.19.14_MD589_3_0060_sift_labelmap.bp\" \"s3://mousebrainatlas-data/CSHL_SPM/sift_labelmap/MD589/MD589-N20-2015.07.30-17.19.14_MD589_3_0060_sift_labelmap.bp\"\n",
      "695507 keypoints\n"
     ]
    },
    {
     "name": "stderr",
     "output_type": "stream",
     "text": [
      "compute vocab: 0.00 seconds\n",
      "predict: 1.53 seconds\n"
     ]
    },
    {
     "name": "stdout",
     "output_type": "stream",
     "text": [
      "aws s3 cp \"/shared/CSHL_SPM/sift_labelmap/MD589/MD589-IHC20-2015.07.30-22.36.03_MD589_3_0060_sift_labelmap.bp\" \"s3://mousebrainatlas-data/CSHL_SPM/sift_labelmap/MD589/MD589-IHC20-2015.07.30-22.36.03_MD589_3_0060_sift_labelmap.bp\"\n",
      "684975 keypoints\n"
     ]
    },
    {
     "name": "stderr",
     "output_type": "stream",
     "text": [
      "compute vocab: 0.00 seconds\n",
      "predict: 1.43 seconds\n"
     ]
    },
    {
     "name": "stdout",
     "output_type": "stream",
     "text": [
      "aws s3 cp \"/shared/CSHL_SPM/sift_labelmap/MD589/MD589-IHC21-2015.07.30-22.40.00_MD589_1_0061_sift_labelmap.bp\" \"s3://mousebrainatlas-data/CSHL_SPM/sift_labelmap/MD589/MD589-IHC21-2015.07.30-22.40.00_MD589_1_0061_sift_labelmap.bp\"\n",
      "688039 keypoints\n"
     ]
    },
    {
     "name": "stderr",
     "output_type": "stream",
     "text": [
      "compute vocab: 0.00 seconds\n",
      "predict: 1.73 seconds\n"
     ]
    },
    {
     "name": "stdout",
     "output_type": "stream",
     "text": [
      "aws s3 cp \"/shared/CSHL_SPM/sift_labelmap/MD589/MD589-N21-2015.07.30-17.23.23_MD589_2_0062_sift_labelmap.bp\" \"s3://mousebrainatlas-data/CSHL_SPM/sift_labelmap/MD589/MD589-N21-2015.07.30-17.23.23_MD589_2_0062_sift_labelmap.bp\"\n",
      "691759 keypoints\n"
     ]
    },
    {
     "name": "stderr",
     "output_type": "stream",
     "text": [
      "compute vocab: 0.00 seconds\n",
      "predict: 1.37 seconds\n"
     ]
    },
    {
     "name": "stdout",
     "output_type": "stream",
     "text": [
      "aws s3 cp \"/shared/CSHL_SPM/sift_labelmap/MD589/MD589-IHC21-2015.07.30-22.40.00_MD589_2_0062_sift_labelmap.bp\" \"s3://mousebrainatlas-data/CSHL_SPM/sift_labelmap/MD589/MD589-IHC21-2015.07.30-22.40.00_MD589_2_0062_sift_labelmap.bp\"\n",
      "637305 keypoints\n"
     ]
    },
    {
     "name": "stderr",
     "output_type": "stream",
     "text": [
      "compute vocab: 0.00 seconds\n",
      "predict: 1.39 seconds\n"
     ]
    },
    {
     "name": "stdout",
     "output_type": "stream",
     "text": [
      "aws s3 cp \"/shared/CSHL_SPM/sift_labelmap/MD589/MD589-N21-2015.07.30-17.23.23_MD589_3_0063_sift_labelmap.bp\" \"s3://mousebrainatlas-data/CSHL_SPM/sift_labelmap/MD589/MD589-N21-2015.07.30-17.23.23_MD589_3_0063_sift_labelmap.bp\"\n",
      "661654 keypoints\n"
     ]
    },
    {
     "name": "stderr",
     "output_type": "stream",
     "text": [
      "compute vocab: 0.00 seconds\n",
      "predict: 1.31 seconds\n"
     ]
    },
    {
     "name": "stdout",
     "output_type": "stream",
     "text": [
      "aws s3 cp \"/shared/CSHL_SPM/sift_labelmap/MD589/MD589-IHC21-2015.07.30-22.40.00_MD589_3_0063_sift_labelmap.bp\" \"s3://mousebrainatlas-data/CSHL_SPM/sift_labelmap/MD589/MD589-IHC21-2015.07.30-22.40.00_MD589_3_0063_sift_labelmap.bp\"\n",
      "646015 keypoints\n"
     ]
    },
    {
     "name": "stderr",
     "output_type": "stream",
     "text": [
      "compute vocab: 0.00 seconds\n",
      "predict: 1.22 seconds\n"
     ]
    },
    {
     "name": "stdout",
     "output_type": "stream",
     "text": [
      "aws s3 cp \"/shared/CSHL_SPM/sift_labelmap/MD589/MD589-N22-2015.07.30-17.27.26_MD589_1_0064_sift_labelmap.bp\" \"s3://mousebrainatlas-data/CSHL_SPM/sift_labelmap/MD589/MD589-N22-2015.07.30-17.27.26_MD589_1_0064_sift_labelmap.bp\"\n",
      "671809 keypoints\n"
     ]
    },
    {
     "name": "stderr",
     "output_type": "stream",
     "text": [
      "compute vocab: 0.00 seconds\n",
      "predict: 1.39 seconds\n"
     ]
    },
    {
     "name": "stdout",
     "output_type": "stream",
     "text": [
      "aws s3 cp \"/shared/CSHL_SPM/sift_labelmap/MD589/MD589-IHC22-2015.07.30-22.44.25_MD589_1_0064_sift_labelmap.bp\" \"s3://mousebrainatlas-data/CSHL_SPM/sift_labelmap/MD589/MD589-IHC22-2015.07.30-22.44.25_MD589_1_0064_sift_labelmap.bp\"\n",
      "679798 keypoints\n"
     ]
    },
    {
     "name": "stderr",
     "output_type": "stream",
     "text": [
      "compute vocab: 0.00 seconds\n",
      "predict: 1.32 seconds\n"
     ]
    },
    {
     "name": "stdout",
     "output_type": "stream",
     "text": [
      "aws s3 cp \"/shared/CSHL_SPM/sift_labelmap/MD589/MD589-N22-2015.07.30-17.27.26_MD589_2_0065_sift_labelmap.bp\" \"s3://mousebrainatlas-data/CSHL_SPM/sift_labelmap/MD589/MD589-N22-2015.07.30-17.27.26_MD589_2_0065_sift_labelmap.bp\"\n",
      "689692 keypoints\n"
     ]
    },
    {
     "name": "stderr",
     "output_type": "stream",
     "text": [
      "compute vocab: 0.00 seconds\n",
      "predict: 1.35 seconds\n"
     ]
    },
    {
     "name": "stdout",
     "output_type": "stream",
     "text": [
      "aws s3 cp \"/shared/CSHL_SPM/sift_labelmap/MD589/MD589-IHC22-2015.07.30-22.44.25_MD589_2_0065_sift_labelmap.bp\" \"s3://mousebrainatlas-data/CSHL_SPM/sift_labelmap/MD589/MD589-IHC22-2015.07.30-22.44.25_MD589_2_0065_sift_labelmap.bp\"\n",
      "640729 keypoints\n"
     ]
    },
    {
     "name": "stderr",
     "output_type": "stream",
     "text": [
      "compute vocab: 0.00 seconds\n",
      "predict: 1.23 seconds\n"
     ]
    },
    {
     "name": "stdout",
     "output_type": "stream",
     "text": [
      "aws s3 cp \"/shared/CSHL_SPM/sift_labelmap/MD589/MD589-N22-2015.07.30-17.27.26_MD589_3_0066_sift_labelmap.bp\" \"s3://mousebrainatlas-data/CSHL_SPM/sift_labelmap/MD589/MD589-N22-2015.07.30-17.27.26_MD589_3_0066_sift_labelmap.bp\"\n",
      "691693 keypoints\n"
     ]
    },
    {
     "name": "stderr",
     "output_type": "stream",
     "text": [
      "compute vocab: 0.00 seconds\n",
      "predict: 1.32 seconds\n"
     ]
    },
    {
     "name": "stdout",
     "output_type": "stream",
     "text": [
      "aws s3 cp \"/shared/CSHL_SPM/sift_labelmap/MD589/MD589-IHC22-2015.07.30-22.44.25_MD589_3_0066_sift_labelmap.bp\" \"s3://mousebrainatlas-data/CSHL_SPM/sift_labelmap/MD589/MD589-IHC22-2015.07.30-22.44.25_MD589_3_0066_sift_labelmap.bp\"\n",
      "670013 keypoints\n"
     ]
    },
    {
     "name": "stderr",
     "output_type": "stream",
     "text": [
      "compute vocab: 0.00 seconds\n",
      "predict: 1.28 seconds\n"
     ]
    },
    {
     "name": "stdout",
     "output_type": "stream",
     "text": [
      "aws s3 cp \"/shared/CSHL_SPM/sift_labelmap/MD589/MD589-N23-2015.07.30-17.31.29_MD589_1_0067_sift_labelmap.bp\" \"s3://mousebrainatlas-data/CSHL_SPM/sift_labelmap/MD589/MD589-N23-2015.07.30-17.31.29_MD589_1_0067_sift_labelmap.bp\"\n",
      "715395 keypoints\n"
     ]
    },
    {
     "name": "stderr",
     "output_type": "stream",
     "text": [
      "compute vocab: 0.00 seconds\n",
      "predict: 1.37 seconds\n"
     ]
    },
    {
     "name": "stdout",
     "output_type": "stream",
     "text": [
      "aws s3 cp \"/shared/CSHL_SPM/sift_labelmap/MD589/MD589-IHC23-2015.07.30-22.48.41_MD589_1_0067_sift_labelmap.bp\" \"s3://mousebrainatlas-data/CSHL_SPM/sift_labelmap/MD589/MD589-IHC23-2015.07.30-22.48.41_MD589_1_0067_sift_labelmap.bp\"\n",
      "707113 keypoints\n"
     ]
    },
    {
     "name": "stderr",
     "output_type": "stream",
     "text": [
      "compute vocab: 0.00 seconds\n",
      "predict: 1.38 seconds\n"
     ]
    },
    {
     "name": "stdout",
     "output_type": "stream",
     "text": [
      "aws s3 cp \"/shared/CSHL_SPM/sift_labelmap/MD589/MD589-N23-2015.07.30-17.31.29_MD589_2_0068_sift_labelmap.bp\" \"s3://mousebrainatlas-data/CSHL_SPM/sift_labelmap/MD589/MD589-N23-2015.07.30-17.31.29_MD589_2_0068_sift_labelmap.bp\"\n",
      "735223 keypoints\n"
     ]
    },
    {
     "name": "stderr",
     "output_type": "stream",
     "text": [
      "compute vocab: 0.00 seconds\n",
      "predict: 1.51 seconds\n"
     ]
    },
    {
     "name": "stdout",
     "output_type": "stream",
     "text": [
      "aws s3 cp \"/shared/CSHL_SPM/sift_labelmap/MD589/MD589-IHC23-2015.07.30-22.48.41_MD589_2_0068_sift_labelmap.bp\" \"s3://mousebrainatlas-data/CSHL_SPM/sift_labelmap/MD589/MD589-IHC23-2015.07.30-22.48.41_MD589_2_0068_sift_labelmap.bp\"\n",
      "702987 keypoints\n"
     ]
    },
    {
     "name": "stderr",
     "output_type": "stream",
     "text": [
      "compute vocab: 0.00 seconds\n",
      "predict: 1.35 seconds\n"
     ]
    },
    {
     "name": "stdout",
     "output_type": "stream",
     "text": [
      "aws s3 cp \"/shared/CSHL_SPM/sift_labelmap/MD589/MD589-N23-2015.07.30-17.31.29_MD589_3_0069_sift_labelmap.bp\" \"s3://mousebrainatlas-data/CSHL_SPM/sift_labelmap/MD589/MD589-N23-2015.07.30-17.31.29_MD589_3_0069_sift_labelmap.bp\"\n",
      "708115 keypoints\n"
     ]
    },
    {
     "name": "stderr",
     "output_type": "stream",
     "text": [
      "compute vocab: 0.00 seconds\n",
      "predict: 1.40 seconds\n"
     ]
    },
    {
     "name": "stdout",
     "output_type": "stream",
     "text": [
      "aws s3 cp \"/shared/CSHL_SPM/sift_labelmap/MD589/MD589-IHC23-2015.07.30-22.48.41_MD589_3_0069_sift_labelmap.bp\" \"s3://mousebrainatlas-data/CSHL_SPM/sift_labelmap/MD589/MD589-IHC23-2015.07.30-22.48.41_MD589_3_0069_sift_labelmap.bp\"\n",
      "679948 keypoints\n"
     ]
    },
    {
     "name": "stderr",
     "output_type": "stream",
     "text": [
      "compute vocab: 0.00 seconds\n",
      "predict: 1.32 seconds\n"
     ]
    },
    {
     "name": "stdout",
     "output_type": "stream",
     "text": [
      "aws s3 cp \"/shared/CSHL_SPM/sift_labelmap/MD589/MD589-N24-2015.07.30-17.35.51_MD589_1_0070_sift_labelmap.bp\" \"s3://mousebrainatlas-data/CSHL_SPM/sift_labelmap/MD589/MD589-N24-2015.07.30-17.35.51_MD589_1_0070_sift_labelmap.bp\"\n",
      "732225 keypoints\n"
     ]
    },
    {
     "name": "stderr",
     "output_type": "stream",
     "text": [
      "compute vocab: 0.00 seconds\n",
      "predict: 1.40 seconds\n"
     ]
    },
    {
     "name": "stdout",
     "output_type": "stream",
     "text": [
      "aws s3 cp \"/shared/CSHL_SPM/sift_labelmap/MD589/MD589-IHC24-2015.07.30-22.52.55_MD589_1_0070_sift_labelmap.bp\" \"s3://mousebrainatlas-data/CSHL_SPM/sift_labelmap/MD589/MD589-IHC24-2015.07.30-22.52.55_MD589_1_0070_sift_labelmap.bp\"\n",
      "721865 keypoints\n"
     ]
    },
    {
     "name": "stderr",
     "output_type": "stream",
     "text": [
      "compute vocab: 0.00 seconds\n",
      "predict: 1.39 seconds\n"
     ]
    },
    {
     "name": "stdout",
     "output_type": "stream",
     "text": [
      "aws s3 cp \"/shared/CSHL_SPM/sift_labelmap/MD589/MD589-N24-2015.07.30-17.35.51_MD589_2_0071_sift_labelmap.bp\" \"s3://mousebrainatlas-data/CSHL_SPM/sift_labelmap/MD589/MD589-N24-2015.07.30-17.35.51_MD589_2_0071_sift_labelmap.bp\"\n",
      "731816 keypoints\n"
     ]
    },
    {
     "name": "stderr",
     "output_type": "stream",
     "text": [
      "compute vocab: 0.00 seconds\n",
      "predict: 1.44 seconds\n"
     ]
    },
    {
     "name": "stdout",
     "output_type": "stream",
     "text": [
      "aws s3 cp \"/shared/CSHL_SPM/sift_labelmap/MD589/MD589-IHC24-2015.07.30-22.52.55_MD589_2_0071_sift_labelmap.bp\" \"s3://mousebrainatlas-data/CSHL_SPM/sift_labelmap/MD589/MD589-IHC24-2015.07.30-22.52.55_MD589_2_0071_sift_labelmap.bp\"\n",
      "667979 keypoints\n"
     ]
    },
    {
     "name": "stderr",
     "output_type": "stream",
     "text": [
      "compute vocab: 0.00 seconds\n",
      "predict: 1.28 seconds\n"
     ]
    },
    {
     "name": "stdout",
     "output_type": "stream",
     "text": [
      "aws s3 cp \"/shared/CSHL_SPM/sift_labelmap/MD589/MD589-N24-2015.07.30-17.35.51_MD589_3_0072_sift_labelmap.bp\" \"s3://mousebrainatlas-data/CSHL_SPM/sift_labelmap/MD589/MD589-N24-2015.07.30-17.35.51_MD589_3_0072_sift_labelmap.bp\"\n",
      "695860 keypoints\n"
     ]
    },
    {
     "name": "stderr",
     "output_type": "stream",
     "text": [
      "compute vocab: 0.00 seconds\n",
      "predict: 1.35 seconds\n"
     ]
    },
    {
     "name": "stdout",
     "output_type": "stream",
     "text": [
      "aws s3 cp \"/shared/CSHL_SPM/sift_labelmap/MD589/MD589-IHC24-2015.07.30-22.52.55_MD589_3_0072_sift_labelmap.bp\" \"s3://mousebrainatlas-data/CSHL_SPM/sift_labelmap/MD589/MD589-IHC24-2015.07.30-22.52.55_MD589_3_0072_sift_labelmap.bp\"\n",
      "637496 keypoints\n"
     ]
    },
    {
     "name": "stderr",
     "output_type": "stream",
     "text": [
      "compute vocab: 0.00 seconds\n",
      "predict: 1.22 seconds\n"
     ]
    },
    {
     "name": "stdout",
     "output_type": "stream",
     "text": [
      "aws s3 cp \"/shared/CSHL_SPM/sift_labelmap/MD589/MD589-N25-2015.07.30-17.40.16_MD589_1_0073_sift_labelmap.bp\" \"s3://mousebrainatlas-data/CSHL_SPM/sift_labelmap/MD589/MD589-N25-2015.07.30-17.40.16_MD589_1_0073_sift_labelmap.bp\"\n",
      "748342 keypoints\n"
     ]
    },
    {
     "name": "stderr",
     "output_type": "stream",
     "text": [
      "compute vocab: 0.00 seconds\n",
      "predict: 1.42 seconds\n"
     ]
    },
    {
     "name": "stdout",
     "output_type": "stream",
     "text": [
      "aws s3 cp \"/shared/CSHL_SPM/sift_labelmap/MD589/MD589-IHC25-2015.07.30-22.57.23_MD589_1_0073_sift_labelmap.bp\" \"s3://mousebrainatlas-data/CSHL_SPM/sift_labelmap/MD589/MD589-IHC25-2015.07.30-22.57.23_MD589_1_0073_sift_labelmap.bp\"\n",
      "735793 keypoints\n"
     ]
    },
    {
     "name": "stderr",
     "output_type": "stream",
     "text": [
      "compute vocab: 0.00 seconds\n",
      "predict: 1.46 seconds\n"
     ]
    },
    {
     "name": "stdout",
     "output_type": "stream",
     "text": [
      "aws s3 cp \"/shared/CSHL_SPM/sift_labelmap/MD589/MD589-N25-2015.07.30-17.40.16_MD589_2_0074_sift_labelmap.bp\" \"s3://mousebrainatlas-data/CSHL_SPM/sift_labelmap/MD589/MD589-N25-2015.07.30-17.40.16_MD589_2_0074_sift_labelmap.bp\"\n",
      "748937 keypoints\n"
     ]
    },
    {
     "name": "stderr",
     "output_type": "stream",
     "text": [
      "compute vocab: 0.00 seconds\n",
      "predict: 1.43 seconds\n"
     ]
    },
    {
     "name": "stdout",
     "output_type": "stream",
     "text": [
      "aws s3 cp \"/shared/CSHL_SPM/sift_labelmap/MD589/MD589-IHC25-2015.07.30-22.57.23_MD589_2_0074_sift_labelmap.bp\" \"s3://mousebrainatlas-data/CSHL_SPM/sift_labelmap/MD589/MD589-IHC25-2015.07.30-22.57.23_MD589_2_0074_sift_labelmap.bp\"\n",
      "730396 keypoints\n"
     ]
    },
    {
     "name": "stderr",
     "output_type": "stream",
     "text": [
      "compute vocab: 0.00 seconds\n",
      "predict: 1.38 seconds\n"
     ]
    },
    {
     "name": "stdout",
     "output_type": "stream",
     "text": [
      "aws s3 cp \"/shared/CSHL_SPM/sift_labelmap/MD589/MD589-N25-2015.07.30-17.40.16_MD589_3_0075_sift_labelmap.bp\" \"s3://mousebrainatlas-data/CSHL_SPM/sift_labelmap/MD589/MD589-N25-2015.07.30-17.40.16_MD589_3_0075_sift_labelmap.bp\"\n",
      "739635 keypoints\n"
     ]
    },
    {
     "name": "stderr",
     "output_type": "stream",
     "text": [
      "compute vocab: 0.00 seconds\n",
      "predict: 1.44 seconds\n"
     ]
    },
    {
     "name": "stdout",
     "output_type": "stream",
     "text": [
      "aws s3 cp \"/shared/CSHL_SPM/sift_labelmap/MD589/MD589-IHC25-2015.07.30-22.57.23_MD589_3_0075_sift_labelmap.bp\" \"s3://mousebrainatlas-data/CSHL_SPM/sift_labelmap/MD589/MD589-IHC25-2015.07.30-22.57.23_MD589_3_0075_sift_labelmap.bp\"\n",
      "617252 keypoints\n"
     ]
    },
    {
     "name": "stderr",
     "output_type": "stream",
     "text": [
      "compute vocab: 0.00 seconds\n",
      "predict: 1.18 seconds\n"
     ]
    },
    {
     "name": "stdout",
     "output_type": "stream",
     "text": [
      "aws s3 cp \"/shared/CSHL_SPM/sift_labelmap/MD589/MD589-N26-2015.07.30-17.44.37_MD589_1_0076_sift_labelmap.bp\" \"s3://mousebrainatlas-data/CSHL_SPM/sift_labelmap/MD589/MD589-N26-2015.07.30-17.44.37_MD589_1_0076_sift_labelmap.bp\"\n",
      "738928 keypoints\n"
     ]
    },
    {
     "name": "stderr",
     "output_type": "stream",
     "text": [
      "compute vocab: 0.00 seconds\n",
      "predict: 1.41 seconds\n"
     ]
    },
    {
     "name": "stdout",
     "output_type": "stream",
     "text": [
      "aws s3 cp \"/shared/CSHL_SPM/sift_labelmap/MD589/MD589-IHC26-2015.07.30-23.01.56_MD589_1_0076_sift_labelmap.bp\" \"s3://mousebrainatlas-data/CSHL_SPM/sift_labelmap/MD589/MD589-IHC26-2015.07.30-23.01.56_MD589_1_0076_sift_labelmap.bp\"\n",
      "749124 keypoints\n"
     ]
    },
    {
     "name": "stderr",
     "output_type": "stream",
     "text": [
      "compute vocab: 0.00 seconds\n",
      "predict: 1.61 seconds\n"
     ]
    },
    {
     "name": "stdout",
     "output_type": "stream",
     "text": [
      "aws s3 cp \"/shared/CSHL_SPM/sift_labelmap/MD589/MD589-N26-2015.07.30-17.44.37_MD589_2_0077_sift_labelmap.bp\" \"s3://mousebrainatlas-data/CSHL_SPM/sift_labelmap/MD589/MD589-N26-2015.07.30-17.44.37_MD589_2_0077_sift_labelmap.bp\"\n",
      "775776 keypoints\n"
     ]
    },
    {
     "name": "stderr",
     "output_type": "stream",
     "text": [
      "compute vocab: 0.00 seconds\n",
      "predict: 1.47 seconds\n"
     ]
    },
    {
     "name": "stdout",
     "output_type": "stream",
     "text": [
      "aws s3 cp \"/shared/CSHL_SPM/sift_labelmap/MD589/MD589-IHC26-2015.07.30-23.01.56_MD589_2_0077_sift_labelmap.bp\" \"s3://mousebrainatlas-data/CSHL_SPM/sift_labelmap/MD589/MD589-IHC26-2015.07.30-23.01.56_MD589_2_0077_sift_labelmap.bp\"\n",
      "741839 keypoints\n"
     ]
    },
    {
     "name": "stderr",
     "output_type": "stream",
     "text": [
      "compute vocab: 0.00 seconds\n",
      "predict: 1.42 seconds\n"
     ]
    },
    {
     "name": "stdout",
     "output_type": "stream",
     "text": [
      "aws s3 cp \"/shared/CSHL_SPM/sift_labelmap/MD589/MD589-N26-2015.07.30-17.44.37_MD589_3_0078_sift_labelmap.bp\" \"s3://mousebrainatlas-data/CSHL_SPM/sift_labelmap/MD589/MD589-N26-2015.07.30-17.44.37_MD589_3_0078_sift_labelmap.bp\"\n",
      "753276 keypoints\n"
     ]
    },
    {
     "name": "stderr",
     "output_type": "stream",
     "text": [
      "compute vocab: 0.00 seconds\n",
      "predict: 1.44 seconds\n"
     ]
    },
    {
     "name": "stdout",
     "output_type": "stream",
     "text": [
      "aws s3 cp \"/shared/CSHL_SPM/sift_labelmap/MD589/MD589-IHC26-2015.07.30-23.01.56_MD589_3_0078_sift_labelmap.bp\" \"s3://mousebrainatlas-data/CSHL_SPM/sift_labelmap/MD589/MD589-IHC26-2015.07.30-23.01.56_MD589_3_0078_sift_labelmap.bp\"\n",
      "725324 keypoints\n"
     ]
    },
    {
     "name": "stderr",
     "output_type": "stream",
     "text": [
      "compute vocab: 0.00 seconds\n",
      "predict: 1.39 seconds\n"
     ]
    },
    {
     "name": "stdout",
     "output_type": "stream",
     "text": [
      "aws s3 cp \"/shared/CSHL_SPM/sift_labelmap/MD589/MD589-N27-2015.07.30-17.49.06_MD589_1_0079_sift_labelmap.bp\" \"s3://mousebrainatlas-data/CSHL_SPM/sift_labelmap/MD589/MD589-N27-2015.07.30-17.49.06_MD589_1_0079_sift_labelmap.bp\"\n",
      "793696 keypoints\n"
     ]
    },
    {
     "name": "stderr",
     "output_type": "stream",
     "text": [
      "compute vocab: 0.00 seconds\n",
      "predict: 1.52 seconds\n"
     ]
    },
    {
     "name": "stdout",
     "output_type": "stream",
     "text": [
      "aws s3 cp \"/shared/CSHL_SPM/sift_labelmap/MD589/MD589-IHC27-2015.07.30-23.06.26_MD589_1_0079_sift_labelmap.bp\" \"s3://mousebrainatlas-data/CSHL_SPM/sift_labelmap/MD589/MD589-IHC27-2015.07.30-23.06.26_MD589_1_0079_sift_labelmap.bp\"\n",
      "752574 keypoints\n"
     ]
    },
    {
     "name": "stderr",
     "output_type": "stream",
     "text": [
      "compute vocab: 0.00 seconds\n",
      "predict: 1.43 seconds\n"
     ]
    },
    {
     "name": "stdout",
     "output_type": "stream",
     "text": [
      "aws s3 cp \"/shared/CSHL_SPM/sift_labelmap/MD589/MD589-N27-2015.07.30-17.49.06_MD589_2_0080_sift_labelmap.bp\" \"s3://mousebrainatlas-data/CSHL_SPM/sift_labelmap/MD589/MD589-N27-2015.07.30-17.49.06_MD589_2_0080_sift_labelmap.bp\"\n",
      "827000 keypoints\n"
     ]
    },
    {
     "name": "stderr",
     "output_type": "stream",
     "text": [
      "compute vocab: 0.00 seconds\n",
      "predict: 1.58 seconds\n"
     ]
    },
    {
     "name": "stdout",
     "output_type": "stream",
     "text": [
      "aws s3 cp \"/shared/CSHL_SPM/sift_labelmap/MD589/MD589-IHC27-2015.07.30-23.06.26_MD589_2_0080_sift_labelmap.bp\" \"s3://mousebrainatlas-data/CSHL_SPM/sift_labelmap/MD589/MD589-IHC27-2015.07.30-23.06.26_MD589_2_0080_sift_labelmap.bp\"\n",
      "757116 keypoints\n"
     ]
    },
    {
     "name": "stderr",
     "output_type": "stream",
     "text": [
      "compute vocab: 0.00 seconds\n",
      "predict: 1.44 seconds\n"
     ]
    },
    {
     "name": "stdout",
     "output_type": "stream",
     "text": [
      "aws s3 cp \"/shared/CSHL_SPM/sift_labelmap/MD589/MD589-N27-2015.07.30-17.49.06_MD589_3_0081_sift_labelmap.bp\" \"s3://mousebrainatlas-data/CSHL_SPM/sift_labelmap/MD589/MD589-N27-2015.07.30-17.49.06_MD589_3_0081_sift_labelmap.bp\"\n",
      "776579 keypoints\n"
     ]
    },
    {
     "name": "stderr",
     "output_type": "stream",
     "text": [
      "compute vocab: 0.00 seconds\n",
      "predict: 1.47 seconds\n"
     ]
    },
    {
     "name": "stdout",
     "output_type": "stream",
     "text": [
      "aws s3 cp \"/shared/CSHL_SPM/sift_labelmap/MD589/MD589-IHC27-2015.07.30-23.06.26_MD589_3_0081_sift_labelmap.bp\" \"s3://mousebrainatlas-data/CSHL_SPM/sift_labelmap/MD589/MD589-IHC27-2015.07.30-23.06.26_MD589_3_0081_sift_labelmap.bp\"\n",
      "765933 keypoints\n"
     ]
    },
    {
     "name": "stderr",
     "output_type": "stream",
     "text": [
      "compute vocab: 0.00 seconds\n",
      "predict: 1.46 seconds\n"
     ]
    },
    {
     "name": "stdout",
     "output_type": "stream",
     "text": [
      "aws s3 cp \"/shared/CSHL_SPM/sift_labelmap/MD589/MD589-N28-2015.07.30-17.53.43_MD589_1_0082_sift_labelmap.bp\" \"s3://mousebrainatlas-data/CSHL_SPM/sift_labelmap/MD589/MD589-N28-2015.07.30-17.53.43_MD589_1_0082_sift_labelmap.bp\"\n",
      "824560 keypoints\n"
     ]
    },
    {
     "name": "stderr",
     "output_type": "stream",
     "text": [
      "compute vocab: 0.00 seconds\n",
      "predict: 1.55 seconds\n"
     ]
    },
    {
     "name": "stdout",
     "output_type": "stream",
     "text": [
      "aws s3 cp \"/shared/CSHL_SPM/sift_labelmap/MD589/MD589-IHC28-2015.07.30-23.11.15_MD589_1_0082_sift_labelmap.bp\" \"s3://mousebrainatlas-data/CSHL_SPM/sift_labelmap/MD589/MD589-IHC28-2015.07.30-23.11.15_MD589_1_0082_sift_labelmap.bp\"\n",
      "812791 keypoints\n"
     ]
    },
    {
     "name": "stderr",
     "output_type": "stream",
     "text": [
      "compute vocab: 0.00 seconds\n",
      "predict: 1.54 seconds\n"
     ]
    },
    {
     "name": "stdout",
     "output_type": "stream",
     "text": [
      "aws s3 cp \"/shared/CSHL_SPM/sift_labelmap/MD589/MD589-N28-2015.07.30-17.53.43_MD589_2_0083_sift_labelmap.bp\" \"s3://mousebrainatlas-data/CSHL_SPM/sift_labelmap/MD589/MD589-N28-2015.07.30-17.53.43_MD589_2_0083_sift_labelmap.bp\"\n",
      "879250 keypoints\n"
     ]
    },
    {
     "name": "stderr",
     "output_type": "stream",
     "text": [
      "compute vocab: 0.00 seconds\n",
      "predict: 1.67 seconds\n"
     ]
    },
    {
     "name": "stdout",
     "output_type": "stream",
     "text": [
      "aws s3 cp \"/shared/CSHL_SPM/sift_labelmap/MD589/MD589-IHC28-2015.07.30-23.11.15_MD589_2_0083_sift_labelmap.bp\" \"s3://mousebrainatlas-data/CSHL_SPM/sift_labelmap/MD589/MD589-IHC28-2015.07.30-23.11.15_MD589_2_0083_sift_labelmap.bp\"\n",
      "814403 keypoints\n"
     ]
    },
    {
     "name": "stderr",
     "output_type": "stream",
     "text": [
      "compute vocab: 0.00 seconds\n",
      "predict: 1.57 seconds\n"
     ]
    },
    {
     "name": "stdout",
     "output_type": "stream",
     "text": [
      "aws s3 cp \"/shared/CSHL_SPM/sift_labelmap/MD589/MD589-N28-2015.07.30-17.53.43_MD589_3_0084_sift_labelmap.bp\" \"s3://mousebrainatlas-data/CSHL_SPM/sift_labelmap/MD589/MD589-N28-2015.07.30-17.53.43_MD589_3_0084_sift_labelmap.bp\"\n",
      "864941 keypoints\n"
     ]
    },
    {
     "name": "stderr",
     "output_type": "stream",
     "text": [
      "compute vocab: 0.00 seconds\n",
      "predict: 1.93 seconds\n"
     ]
    },
    {
     "name": "stdout",
     "output_type": "stream",
     "text": [
      "aws s3 cp \"/shared/CSHL_SPM/sift_labelmap/MD589/MD589-IHC28-2015.07.30-23.11.15_MD589_3_0084_sift_labelmap.bp\" \"s3://mousebrainatlas-data/CSHL_SPM/sift_labelmap/MD589/MD589-IHC28-2015.07.30-23.11.15_MD589_3_0084_sift_labelmap.bp\"\n",
      "822712 keypoints\n"
     ]
    },
    {
     "name": "stderr",
     "output_type": "stream",
     "text": [
      "compute vocab: 0.00 seconds\n",
      "predict: 1.68 seconds\n"
     ]
    },
    {
     "name": "stdout",
     "output_type": "stream",
     "text": [
      "aws s3 cp \"/shared/CSHL_SPM/sift_labelmap/MD589/MD589-N29-2015.07.30-17.58.29_MD589_1_0085_sift_labelmap.bp\" \"s3://mousebrainatlas-data/CSHL_SPM/sift_labelmap/MD589/MD589-N29-2015.07.30-17.58.29_MD589_1_0085_sift_labelmap.bp\"\n",
      "869080 keypoints\n"
     ]
    },
    {
     "name": "stderr",
     "output_type": "stream",
     "text": [
      "compute vocab: 0.00 seconds\n",
      "predict: 1.67 seconds\n"
     ]
    },
    {
     "name": "stdout",
     "output_type": "stream",
     "text": [
      "aws s3 cp \"/shared/CSHL_SPM/sift_labelmap/MD589/MD589-IHC29-2015.07.30-23.16.01_MD589_1_0085_sift_labelmap.bp\" \"s3://mousebrainatlas-data/CSHL_SPM/sift_labelmap/MD589/MD589-IHC29-2015.07.30-23.16.01_MD589_1_0085_sift_labelmap.bp\"\n",
      "852320 keypoints\n"
     ]
    },
    {
     "name": "stderr",
     "output_type": "stream",
     "text": [
      "compute vocab: 0.00 seconds\n",
      "predict: 1.61 seconds\n"
     ]
    },
    {
     "name": "stdout",
     "output_type": "stream",
     "text": [
      "aws s3 cp \"/shared/CSHL_SPM/sift_labelmap/MD589/MD589-N29-2015.07.30-17.58.29_MD589_2_0086_sift_labelmap.bp\" \"s3://mousebrainatlas-data/CSHL_SPM/sift_labelmap/MD589/MD589-N29-2015.07.30-17.58.29_MD589_2_0086_sift_labelmap.bp\"\n",
      "922547 keypoints\n"
     ]
    },
    {
     "name": "stderr",
     "output_type": "stream",
     "text": [
      "compute vocab: 0.00 seconds\n",
      "predict: 1.75 seconds\n"
     ]
    },
    {
     "name": "stdout",
     "output_type": "stream",
     "text": [
      "aws s3 cp \"/shared/CSHL_SPM/sift_labelmap/MD589/MD589-IHC29-2015.07.30-23.16.01_MD589_2_0086_sift_labelmap.bp\" \"s3://mousebrainatlas-data/CSHL_SPM/sift_labelmap/MD589/MD589-IHC29-2015.07.30-23.16.01_MD589_2_0086_sift_labelmap.bp\"\n",
      "814985 keypoints\n"
     ]
    },
    {
     "name": "stderr",
     "output_type": "stream",
     "text": [
      "compute vocab: 0.00 seconds\n",
      "predict: 1.57 seconds\n"
     ]
    },
    {
     "name": "stdout",
     "output_type": "stream",
     "text": [
      "aws s3 cp \"/shared/CSHL_SPM/sift_labelmap/MD589/MD589-N29-2015.07.30-17.58.29_MD589_3_0087_sift_labelmap.bp\" \"s3://mousebrainatlas-data/CSHL_SPM/sift_labelmap/MD589/MD589-N29-2015.07.30-17.58.29_MD589_3_0087_sift_labelmap.bp\"\n",
      "938435 keypoints\n"
     ]
    },
    {
     "name": "stderr",
     "output_type": "stream",
     "text": [
      "compute vocab: 0.00 seconds\n",
      "predict: 1.77 seconds\n"
     ]
    },
    {
     "name": "stdout",
     "output_type": "stream",
     "text": [
      "aws s3 cp \"/shared/CSHL_SPM/sift_labelmap/MD589/MD589-IHC29-2015.07.30-23.16.01_MD589_3_0087_sift_labelmap.bp\" \"s3://mousebrainatlas-data/CSHL_SPM/sift_labelmap/MD589/MD589-IHC29-2015.07.30-23.16.01_MD589_3_0087_sift_labelmap.bp\"\n",
      "825179 keypoints\n"
     ]
    },
    {
     "name": "stderr",
     "output_type": "stream",
     "text": [
      "compute vocab: 0.00 seconds\n",
      "predict: 1.56 seconds\n"
     ]
    },
    {
     "name": "stdout",
     "output_type": "stream",
     "text": [
      "aws s3 cp \"/shared/CSHL_SPM/sift_labelmap/MD589/MD589-N30-2015.07.30-18.03.11_MD589_1_0088_sift_labelmap.bp\" \"s3://mousebrainatlas-data/CSHL_SPM/sift_labelmap/MD589/MD589-N30-2015.07.30-18.03.11_MD589_1_0088_sift_labelmap.bp\"\n",
      "870651 keypoints\n"
     ]
    },
    {
     "name": "stderr",
     "output_type": "stream",
     "text": [
      "compute vocab: 0.00 seconds\n",
      "predict: 1.65 seconds\n"
     ]
    },
    {
     "name": "stdout",
     "output_type": "stream",
     "text": [
      "aws s3 cp \"/shared/CSHL_SPM/sift_labelmap/MD589/MD589-IHC30-2015.07.30-23.20.46_MD589_1_0088_sift_labelmap.bp\" \"s3://mousebrainatlas-data/CSHL_SPM/sift_labelmap/MD589/MD589-IHC30-2015.07.30-23.20.46_MD589_1_0088_sift_labelmap.bp\"\n",
      "886039 keypoints\n"
     ]
    },
    {
     "name": "stderr",
     "output_type": "stream",
     "text": [
      "compute vocab: 0.00 seconds\n",
      "predict: 1.70 seconds\n"
     ]
    },
    {
     "name": "stdout",
     "output_type": "stream",
     "text": [
      "aws s3 cp \"/shared/CSHL_SPM/sift_labelmap/MD589/MD589-N30-2015.07.30-18.03.11_MD589_2_0089_sift_labelmap.bp\" \"s3://mousebrainatlas-data/CSHL_SPM/sift_labelmap/MD589/MD589-N30-2015.07.30-18.03.11_MD589_2_0089_sift_labelmap.bp\"\n",
      "904569 keypoints\n"
     ]
    },
    {
     "name": "stderr",
     "output_type": "stream",
     "text": [
      "compute vocab: 0.00 seconds\n",
      "predict: 1.72 seconds\n"
     ]
    },
    {
     "name": "stdout",
     "output_type": "stream",
     "text": [
      "aws s3 cp \"/shared/CSHL_SPM/sift_labelmap/MD589/MD589-IHC30-2015.07.30-23.20.46_MD589_2_0089_sift_labelmap.bp\" \"s3://mousebrainatlas-data/CSHL_SPM/sift_labelmap/MD589/MD589-IHC30-2015.07.30-23.20.46_MD589_2_0089_sift_labelmap.bp\"\n",
      "847193 keypoints\n"
     ]
    },
    {
     "name": "stderr",
     "output_type": "stream",
     "text": [
      "compute vocab: 0.00 seconds\n",
      "predict: 1.61 seconds\n"
     ]
    },
    {
     "name": "stdout",
     "output_type": "stream",
     "text": [
      "aws s3 cp \"/shared/CSHL_SPM/sift_labelmap/MD589/MD589-N30-2015.07.30-18.03.11_MD589_3_0090_sift_labelmap.bp\" \"s3://mousebrainatlas-data/CSHL_SPM/sift_labelmap/MD589/MD589-N30-2015.07.30-18.03.11_MD589_3_0090_sift_labelmap.bp\"\n",
      "883915 keypoints\n"
     ]
    },
    {
     "name": "stderr",
     "output_type": "stream",
     "text": [
      "compute vocab: 0.00 seconds\n",
      "predict: 1.71 seconds\n"
     ]
    },
    {
     "name": "stdout",
     "output_type": "stream",
     "text": [
      "aws s3 cp \"/shared/CSHL_SPM/sift_labelmap/MD589/MD589-IHC30-2015.07.30-23.20.46_MD589_3_0090_sift_labelmap.bp\" \"s3://mousebrainatlas-data/CSHL_SPM/sift_labelmap/MD589/MD589-IHC30-2015.07.30-23.20.46_MD589_3_0090_sift_labelmap.bp\"\n",
      "858165 keypoints\n"
     ]
    },
    {
     "name": "stderr",
     "output_type": "stream",
     "text": [
      "compute vocab: 0.00 seconds\n",
      "predict: 1.64 seconds\n"
     ]
    },
    {
     "name": "stdout",
     "output_type": "stream",
     "text": [
      "aws s3 cp \"/shared/CSHL_SPM/sift_labelmap/MD589/MD589-N31-2015.07.30-18.08.35_MD589_1_0091_sift_labelmap.bp\" \"s3://mousebrainatlas-data/CSHL_SPM/sift_labelmap/MD589/MD589-N31-2015.07.30-18.08.35_MD589_1_0091_sift_labelmap.bp\"\n",
      "938357 keypoints\n"
     ]
    },
    {
     "name": "stderr",
     "output_type": "stream",
     "text": [
      "compute vocab: 0.00 seconds\n",
      "predict: 1.79 seconds\n"
     ]
    },
    {
     "name": "stdout",
     "output_type": "stream",
     "text": [
      "aws s3 cp \"/shared/CSHL_SPM/sift_labelmap/MD589/MD589-IHC31-2015.07.30-23.26.22_MD589_1_0091_sift_labelmap.bp\" \"s3://mousebrainatlas-data/CSHL_SPM/sift_labelmap/MD589/MD589-IHC31-2015.07.30-23.26.22_MD589_1_0091_sift_labelmap.bp\"\n",
      "857755 keypoints\n"
     ]
    },
    {
     "name": "stderr",
     "output_type": "stream",
     "text": [
      "compute vocab: 0.00 seconds\n",
      "predict: 1.66 seconds\n"
     ]
    },
    {
     "name": "stdout",
     "output_type": "stream",
     "text": [
      "aws s3 cp \"/shared/CSHL_SPM/sift_labelmap/MD589/MD589-N31-2015.07.30-18.08.35_MD589_2_0092_sift_labelmap.bp\" \"s3://mousebrainatlas-data/CSHL_SPM/sift_labelmap/MD589/MD589-N31-2015.07.30-18.08.35_MD589_2_0092_sift_labelmap.bp\"\n",
      "918944 keypoints\n"
     ]
    },
    {
     "name": "stderr",
     "output_type": "stream",
     "text": [
      "compute vocab: 0.00 seconds\n",
      "predict: 1.77 seconds\n"
     ]
    },
    {
     "name": "stdout",
     "output_type": "stream",
     "text": [
      "aws s3 cp \"/shared/CSHL_SPM/sift_labelmap/MD589/MD589-IHC31-2015.07.30-23.26.22_MD589_2_0092_sift_labelmap.bp\" \"s3://mousebrainatlas-data/CSHL_SPM/sift_labelmap/MD589/MD589-IHC31-2015.07.30-23.26.22_MD589_2_0092_sift_labelmap.bp\"\n",
      "839413 keypoints\n"
     ]
    },
    {
     "name": "stderr",
     "output_type": "stream",
     "text": [
      "compute vocab: 0.00 seconds\n",
      "predict: 1.62 seconds\n"
     ]
    },
    {
     "name": "stdout",
     "output_type": "stream",
     "text": [
      "aws s3 cp \"/shared/CSHL_SPM/sift_labelmap/MD589/MD589-N32-2015.07.30-18.12.36_MD589_1_0094_sift_labelmap.bp\" \"s3://mousebrainatlas-data/CSHL_SPM/sift_labelmap/MD589/MD589-N32-2015.07.30-18.12.36_MD589_1_0094_sift_labelmap.bp\"\n",
      "363308 keypoints\n"
     ]
    },
    {
     "name": "stderr",
     "output_type": "stream",
     "text": [
      "compute vocab: 0.00 seconds\n",
      "predict: 0.70 seconds\n"
     ]
    },
    {
     "name": "stdout",
     "output_type": "stream",
     "text": [
      "aws s3 cp \"/shared/CSHL_SPM/sift_labelmap/MD589/MD589-IHC32-2015.07.30-23.30.34_MD589_1_0094_sift_labelmap.bp\" \"s3://mousebrainatlas-data/CSHL_SPM/sift_labelmap/MD589/MD589-IHC32-2015.07.30-23.30.34_MD589_1_0094_sift_labelmap.bp\"\n",
      "862615 keypoints\n"
     ]
    },
    {
     "name": "stderr",
     "output_type": "stream",
     "text": [
      "compute vocab: 0.00 seconds\n",
      "predict: 1.64 seconds\n"
     ]
    },
    {
     "name": "stdout",
     "output_type": "stream",
     "text": [
      "aws s3 cp \"/shared/CSHL_SPM/sift_labelmap/MD589/MD589-N32-2015.07.30-18.12.36_MD589_2_0095_sift_labelmap.bp\" \"s3://mousebrainatlas-data/CSHL_SPM/sift_labelmap/MD589/MD589-N32-2015.07.30-18.12.36_MD589_2_0095_sift_labelmap.bp\"\n",
      "874351 keypoints\n"
     ]
    },
    {
     "name": "stderr",
     "output_type": "stream",
     "text": [
      "compute vocab: 0.00 seconds\n",
      "predict: 1.65 seconds\n"
     ]
    },
    {
     "name": "stdout",
     "output_type": "stream",
     "text": [
      "aws s3 cp \"/shared/CSHL_SPM/sift_labelmap/MD589/MD589-IHC32-2015.07.30-23.30.34_MD589_2_0095_sift_labelmap.bp\" \"s3://mousebrainatlas-data/CSHL_SPM/sift_labelmap/MD589/MD589-IHC32-2015.07.30-23.30.34_MD589_2_0095_sift_labelmap.bp\"\n",
      "889231 keypoints\n"
     ]
    },
    {
     "name": "stderr",
     "output_type": "stream",
     "text": [
      "compute vocab: 0.00 seconds\n",
      "predict: 1.71 seconds\n"
     ]
    },
    {
     "name": "stdout",
     "output_type": "stream",
     "text": [
      "aws s3 cp \"/shared/CSHL_SPM/sift_labelmap/MD589/MD589-N33-2015.07.30-18.16.40_MD589_1_0097_sift_labelmap.bp\" \"s3://mousebrainatlas-data/CSHL_SPM/sift_labelmap/MD589/MD589-N33-2015.07.30-18.16.40_MD589_1_0097_sift_labelmap.bp\"\n",
      "945106 keypoints\n"
     ]
    },
    {
     "name": "stderr",
     "output_type": "stream",
     "text": [
      "compute vocab: 0.00 seconds\n",
      "predict: 1.79 seconds\n"
     ]
    },
    {
     "name": "stdout",
     "output_type": "stream",
     "text": [
      "aws s3 cp \"/shared/CSHL_SPM/sift_labelmap/MD589/MD589-IHC33-2015.07.30-23.34.35_MD589_1_0097_sift_labelmap.bp\" \"s3://mousebrainatlas-data/CSHL_SPM/sift_labelmap/MD589/MD589-IHC33-2015.07.30-23.34.35_MD589_1_0097_sift_labelmap.bp\"\n",
      "904537 keypoints\n"
     ]
    },
    {
     "name": "stderr",
     "output_type": "stream",
     "text": [
      "compute vocab: 0.00 seconds\n",
      "predict: 1.71 seconds\n"
     ]
    },
    {
     "name": "stdout",
     "output_type": "stream",
     "text": [
      "aws s3 cp \"/shared/CSHL_SPM/sift_labelmap/MD589/MD589-N33-2015.07.30-18.16.40_MD589_2_0098_sift_labelmap.bp\" \"s3://mousebrainatlas-data/CSHL_SPM/sift_labelmap/MD589/MD589-N33-2015.07.30-18.16.40_MD589_2_0098_sift_labelmap.bp\"\n",
      "960875 keypoints\n"
     ]
    },
    {
     "name": "stderr",
     "output_type": "stream",
     "text": [
      "compute vocab: 0.00 seconds\n",
      "predict: 1.81 seconds\n"
     ]
    },
    {
     "name": "stdout",
     "output_type": "stream",
     "text": [
      "aws s3 cp \"/shared/CSHL_SPM/sift_labelmap/MD589/MD589-IHC33-2015.07.30-23.34.35_MD589_2_0098_sift_labelmap.bp\" \"s3://mousebrainatlas-data/CSHL_SPM/sift_labelmap/MD589/MD589-IHC33-2015.07.30-23.34.35_MD589_2_0098_sift_labelmap.bp\"\n",
      "871428 keypoints\n"
     ]
    },
    {
     "name": "stderr",
     "output_type": "stream",
     "text": [
      "compute vocab: 0.00 seconds\n",
      "predict: 1.70 seconds\n"
     ]
    },
    {
     "name": "stdout",
     "output_type": "stream",
     "text": [
      "aws s3 cp \"/shared/CSHL_SPM/sift_labelmap/MD589/MD589-N34-2015.07.30-18.20.43_MD589_1_0100_sift_labelmap.bp\" \"s3://mousebrainatlas-data/CSHL_SPM/sift_labelmap/MD589/MD589-N34-2015.07.30-18.20.43_MD589_1_0100_sift_labelmap.bp\"\n",
      "902150 keypoints\n"
     ]
    },
    {
     "name": "stderr",
     "output_type": "stream",
     "text": [
      "compute vocab: 0.00 seconds\n",
      "predict: 1.72 seconds\n"
     ]
    },
    {
     "name": "stdout",
     "output_type": "stream",
     "text": [
      "aws s3 cp \"/shared/CSHL_SPM/sift_labelmap/MD589/MD589-IHC34-2015.07.30-23.38.35_MD589_1_0100_sift_labelmap.bp\" \"s3://mousebrainatlas-data/CSHL_SPM/sift_labelmap/MD589/MD589-IHC34-2015.07.30-23.38.35_MD589_1_0100_sift_labelmap.bp\"\n",
      "914828 keypoints\n"
     ]
    },
    {
     "name": "stderr",
     "output_type": "stream",
     "text": [
      "compute vocab: 0.00 seconds\n",
      "predict: 1.75 seconds\n"
     ]
    },
    {
     "name": "stdout",
     "output_type": "stream",
     "text": [
      "aws s3 cp \"/shared/CSHL_SPM/sift_labelmap/MD589/MD589-N34-2015.07.30-18.20.43_MD589_2_0101_sift_labelmap.bp\" \"s3://mousebrainatlas-data/CSHL_SPM/sift_labelmap/MD589/MD589-N34-2015.07.30-18.20.43_MD589_2_0101_sift_labelmap.bp\"\n",
      "943601 keypoints\n"
     ]
    },
    {
     "name": "stderr",
     "output_type": "stream",
     "text": [
      "compute vocab: 0.00 seconds\n",
      "predict: 1.81 seconds\n"
     ]
    },
    {
     "name": "stdout",
     "output_type": "stream",
     "text": [
      "aws s3 cp \"/shared/CSHL_SPM/sift_labelmap/MD589/MD589-IHC34-2015.07.30-23.38.35_MD589_2_0101_sift_labelmap.bp\" \"s3://mousebrainatlas-data/CSHL_SPM/sift_labelmap/MD589/MD589-IHC34-2015.07.30-23.38.35_MD589_2_0101_sift_labelmap.bp\"\n",
      "897742 keypoints\n"
     ]
    },
    {
     "name": "stderr",
     "output_type": "stream",
     "text": [
      "compute vocab: 0.00 seconds\n",
      "predict: 2.13 seconds\n"
     ]
    },
    {
     "name": "stdout",
     "output_type": "stream",
     "text": [
      "aws s3 cp \"/shared/CSHL_SPM/sift_labelmap/MD589/MD589-N35-2015.07.30-18.24.53_MD589_1_0103_sift_labelmap.bp\" \"s3://mousebrainatlas-data/CSHL_SPM/sift_labelmap/MD589/MD589-N35-2015.07.30-18.24.53_MD589_1_0103_sift_labelmap.bp\"\n",
      "959226 keypoints\n"
     ]
    },
    {
     "name": "stderr",
     "output_type": "stream",
     "text": [
      "compute vocab: 0.00 seconds\n",
      "predict: 1.82 seconds\n"
     ]
    },
    {
     "name": "stdout",
     "output_type": "stream",
     "text": [
      "aws s3 cp \"/shared/CSHL_SPM/sift_labelmap/MD589/MD589-IHC35-2015.07.30-23.42.32_MD589_1_0103_sift_labelmap.bp\" \"s3://mousebrainatlas-data/CSHL_SPM/sift_labelmap/MD589/MD589-IHC35-2015.07.30-23.42.32_MD589_1_0103_sift_labelmap.bp\"\n",
      "930919 keypoints\n"
     ]
    },
    {
     "name": "stderr",
     "output_type": "stream",
     "text": [
      "compute vocab: 0.00 seconds\n",
      "predict: 1.76 seconds\n"
     ]
    },
    {
     "name": "stdout",
     "output_type": "stream",
     "text": [
      "aws s3 cp \"/shared/CSHL_SPM/sift_labelmap/MD589/MD589-N35-2015.07.30-18.24.53_MD589_2_0104_sift_labelmap.bp\" \"s3://mousebrainatlas-data/CSHL_SPM/sift_labelmap/MD589/MD589-N35-2015.07.30-18.24.53_MD589_2_0104_sift_labelmap.bp\"\n",
      "952143 keypoints\n"
     ]
    },
    {
     "name": "stderr",
     "output_type": "stream",
     "text": [
      "compute vocab: 0.00 seconds\n",
      "predict: 1.79 seconds\n"
     ]
    },
    {
     "name": "stdout",
     "output_type": "stream",
     "text": [
      "aws s3 cp \"/shared/CSHL_SPM/sift_labelmap/MD589/MD589-IHC35-2015.07.30-23.42.32_MD589_2_0104_sift_labelmap.bp\" \"s3://mousebrainatlas-data/CSHL_SPM/sift_labelmap/MD589/MD589-IHC35-2015.07.30-23.42.32_MD589_2_0104_sift_labelmap.bp\"\n",
      "874336 keypoints\n"
     ]
    },
    {
     "name": "stderr",
     "output_type": "stream",
     "text": [
      "compute vocab: 0.00 seconds\n",
      "predict: 1.67 seconds\n"
     ]
    },
    {
     "name": "stdout",
     "output_type": "stream",
     "text": [
      "aws s3 cp \"/shared/CSHL_SPM/sift_labelmap/MD589/MD589-N36-2015.07.30-18.28.52_MD589_1_0106_sift_labelmap.bp\" \"s3://mousebrainatlas-data/CSHL_SPM/sift_labelmap/MD589/MD589-N36-2015.07.30-18.28.52_MD589_1_0106_sift_labelmap.bp\"\n",
      "841397 keypoints\n"
     ]
    },
    {
     "name": "stderr",
     "output_type": "stream",
     "text": [
      "compute vocab: 0.00 seconds\n",
      "predict: 1.60 seconds\n"
     ]
    },
    {
     "name": "stdout",
     "output_type": "stream",
     "text": [
      "aws s3 cp \"/shared/CSHL_SPM/sift_labelmap/MD589/MD589-IHC36-2015.07.30-23.46.36_MD589_1_0106_sift_labelmap.bp\" \"s3://mousebrainatlas-data/CSHL_SPM/sift_labelmap/MD589/MD589-IHC36-2015.07.30-23.46.36_MD589_1_0106_sift_labelmap.bp\"\n",
      "896705 keypoints\n"
     ]
    },
    {
     "name": "stderr",
     "output_type": "stream",
     "text": [
      "compute vocab: 0.00 seconds\n",
      "predict: 1.71 seconds\n"
     ]
    },
    {
     "name": "stdout",
     "output_type": "stream",
     "text": [
      "aws s3 cp \"/shared/CSHL_SPM/sift_labelmap/MD589/MD589-N36-2015.07.30-18.28.52_MD589_2_0107_sift_labelmap.bp\" \"s3://mousebrainatlas-data/CSHL_SPM/sift_labelmap/MD589/MD589-N36-2015.07.30-18.28.52_MD589_2_0107_sift_labelmap.bp\"\n",
      "950599 keypoints\n"
     ]
    },
    {
     "name": "stderr",
     "output_type": "stream",
     "text": [
      "compute vocab: 0.00 seconds\n",
      "predict: 1.81 seconds\n"
     ]
    },
    {
     "name": "stdout",
     "output_type": "stream",
     "text": [
      "aws s3 cp \"/shared/CSHL_SPM/sift_labelmap/MD589/MD589-IHC36-2015.07.30-23.46.36_MD589_2_0107_sift_labelmap.bp\" \"s3://mousebrainatlas-data/CSHL_SPM/sift_labelmap/MD589/MD589-IHC36-2015.07.30-23.46.36_MD589_2_0107_sift_labelmap.bp\"\n",
      "802829 keypoints\n"
     ]
    },
    {
     "name": "stderr",
     "output_type": "stream",
     "text": [
      "compute vocab: 0.00 seconds\n",
      "predict: 1.55 seconds\n"
     ]
    },
    {
     "name": "stdout",
     "output_type": "stream",
     "text": [
      "aws s3 cp \"/shared/CSHL_SPM/sift_labelmap/MD589/MD589-N37-2015.07.30-18.32.51_MD589_1_0109_sift_labelmap.bp\" \"s3://mousebrainatlas-data/CSHL_SPM/sift_labelmap/MD589/MD589-N37-2015.07.30-18.32.51_MD589_1_0109_sift_labelmap.bp\"\n",
      "920926 keypoints\n"
     ]
    },
    {
     "name": "stderr",
     "output_type": "stream",
     "text": [
      "compute vocab: 0.00 seconds\n",
      "predict: 1.77 seconds\n"
     ]
    },
    {
     "name": "stdout",
     "output_type": "stream",
     "text": [
      "aws s3 cp \"/shared/CSHL_SPM/sift_labelmap/MD589/MD589-IHC37-2015.07.30-23.50.39_MD589_1_0109_sift_labelmap.bp\" \"s3://mousebrainatlas-data/CSHL_SPM/sift_labelmap/MD589/MD589-IHC37-2015.07.30-23.50.39_MD589_1_0109_sift_labelmap.bp\"\n",
      "924915 keypoints\n"
     ]
    },
    {
     "name": "stderr",
     "output_type": "stream",
     "text": [
      "compute vocab: 0.00 seconds\n",
      "predict: 1.76 seconds\n"
     ]
    },
    {
     "name": "stdout",
     "output_type": "stream",
     "text": [
      "aws s3 cp \"/shared/CSHL_SPM/sift_labelmap/MD589/MD589-N37-2015.07.30-18.32.51_MD589_2_0110_sift_labelmap.bp\" \"s3://mousebrainatlas-data/CSHL_SPM/sift_labelmap/MD589/MD589-N37-2015.07.30-18.32.51_MD589_2_0110_sift_labelmap.bp\"\n",
      "912385 keypoints\n"
     ]
    },
    {
     "name": "stderr",
     "output_type": "stream",
     "text": [
      "compute vocab: 0.00 seconds\n",
      "predict: 1.72 seconds\n"
     ]
    },
    {
     "name": "stdout",
     "output_type": "stream",
     "text": [
      "aws s3 cp \"/shared/CSHL_SPM/sift_labelmap/MD589/MD589-IHC37-2015.07.30-23.50.39_MD589_2_0110_sift_labelmap.bp\" \"s3://mousebrainatlas-data/CSHL_SPM/sift_labelmap/MD589/MD589-IHC37-2015.07.30-23.50.39_MD589_2_0110_sift_labelmap.bp\"\n",
      "894246 keypoints\n"
     ]
    },
    {
     "name": "stderr",
     "output_type": "stream",
     "text": [
      "compute vocab: 0.00 seconds\n",
      "predict: 1.71 seconds\n"
     ]
    },
    {
     "name": "stdout",
     "output_type": "stream",
     "text": [
      "aws s3 cp \"/shared/CSHL_SPM/sift_labelmap/MD589/MD589-N38-2015.07.30-18.36.50_MD589_1_0112_sift_labelmap.bp\" \"s3://mousebrainatlas-data/CSHL_SPM/sift_labelmap/MD589/MD589-N38-2015.07.30-18.36.50_MD589_1_0112_sift_labelmap.bp\"\n",
      "949961 keypoints\n"
     ]
    },
    {
     "name": "stderr",
     "output_type": "stream",
     "text": [
      "compute vocab: 0.00 seconds\n",
      "predict: 1.79 seconds\n"
     ]
    },
    {
     "name": "stdout",
     "output_type": "stream",
     "text": [
      "aws s3 cp \"/shared/CSHL_SPM/sift_labelmap/MD589/MD589-IHC38-2015.07.30-23.54.24_MD589_1_0112_sift_labelmap.bp\" \"s3://mousebrainatlas-data/CSHL_SPM/sift_labelmap/MD589/MD589-IHC38-2015.07.30-23.54.24_MD589_1_0112_sift_labelmap.bp\"\n",
      "948259 keypoints\n"
     ]
    },
    {
     "name": "stderr",
     "output_type": "stream",
     "text": [
      "compute vocab: 0.00 seconds\n",
      "predict: 1.85 seconds\n"
     ]
    },
    {
     "name": "stdout",
     "output_type": "stream",
     "text": [
      "aws s3 cp \"/shared/CSHL_SPM/sift_labelmap/MD589/MD589-N38-2015.07.30-18.36.50_MD589_2_0113_sift_labelmap.bp\" \"s3://mousebrainatlas-data/CSHL_SPM/sift_labelmap/MD589/MD589-N38-2015.07.30-18.36.50_MD589_2_0113_sift_labelmap.bp\"\n",
      "946164 keypoints\n"
     ]
    },
    {
     "name": "stderr",
     "output_type": "stream",
     "text": [
      "compute vocab: 0.00 seconds\n",
      "predict: 1.80 seconds\n"
     ]
    },
    {
     "name": "stdout",
     "output_type": "stream",
     "text": [
      "aws s3 cp \"/shared/CSHL_SPM/sift_labelmap/MD589/MD589-IHC38-2015.07.30-23.54.24_MD589_2_0113_sift_labelmap.bp\" \"s3://mousebrainatlas-data/CSHL_SPM/sift_labelmap/MD589/MD589-IHC38-2015.07.30-23.54.24_MD589_2_0113_sift_labelmap.bp\"\n",
      "840776 keypoints\n"
     ]
    },
    {
     "name": "stderr",
     "output_type": "stream",
     "text": [
      "compute vocab: 0.00 seconds\n",
      "predict: 1.59 seconds\n"
     ]
    },
    {
     "name": "stdout",
     "output_type": "stream",
     "text": [
      "aws s3 cp \"/shared/CSHL_SPM/sift_labelmap/MD589/MD589-N39-2015.07.30-18.40.43_MD589_1_0115_sift_labelmap.bp\" \"s3://mousebrainatlas-data/CSHL_SPM/sift_labelmap/MD589/MD589-N39-2015.07.30-18.40.43_MD589_1_0115_sift_labelmap.bp\"\n",
      "890623 keypoints\n"
     ]
    },
    {
     "name": "stderr",
     "output_type": "stream",
     "text": [
      "compute vocab: 0.00 seconds\n",
      "predict: 1.74 seconds\n"
     ]
    },
    {
     "name": "stdout",
     "output_type": "stream",
     "text": [
      "aws s3 cp \"/shared/CSHL_SPM/sift_labelmap/MD589/MD589-IHC39-2015.07.30-23.58.27_MD589_1_0115_sift_labelmap.bp\" \"s3://mousebrainatlas-data/CSHL_SPM/sift_labelmap/MD589/MD589-IHC39-2015.07.30-23.58.27_MD589_1_0115_sift_labelmap.bp\"\n",
      "914300 keypoints\n"
     ]
    },
    {
     "name": "stderr",
     "output_type": "stream",
     "text": [
      "compute vocab: 0.00 seconds\n",
      "predict: 1.76 seconds\n"
     ]
    },
    {
     "name": "stdout",
     "output_type": "stream",
     "text": [
      "aws s3 cp \"/shared/CSHL_SPM/sift_labelmap/MD589/MD589-N39-2015.07.30-18.40.43_MD589_2_0116_sift_labelmap.bp\" \"s3://mousebrainatlas-data/CSHL_SPM/sift_labelmap/MD589/MD589-N39-2015.07.30-18.40.43_MD589_2_0116_sift_labelmap.bp\"\n",
      "876624 keypoints\n"
     ]
    },
    {
     "name": "stderr",
     "output_type": "stream",
     "text": [
      "compute vocab: 0.00 seconds\n",
      "predict: 1.67 seconds\n"
     ]
    },
    {
     "name": "stdout",
     "output_type": "stream",
     "text": [
      "aws s3 cp \"/shared/CSHL_SPM/sift_labelmap/MD589/MD589-IHC39-2015.07.30-23.58.27_MD589_2_0116_sift_labelmap.bp\" \"s3://mousebrainatlas-data/CSHL_SPM/sift_labelmap/MD589/MD589-IHC39-2015.07.30-23.58.27_MD589_2_0116_sift_labelmap.bp\"\n",
      "870654 keypoints\n"
     ]
    },
    {
     "name": "stderr",
     "output_type": "stream",
     "text": [
      "compute vocab: 0.00 seconds\n",
      "predict: 2.03 seconds\n"
     ]
    },
    {
     "name": "stdout",
     "output_type": "stream",
     "text": [
      "aws s3 cp \"/shared/CSHL_SPM/sift_labelmap/MD589/MD589-N40-2015.07.30-18.44.48_MD589_1_0118_sift_labelmap.bp\" \"s3://mousebrainatlas-data/CSHL_SPM/sift_labelmap/MD589/MD589-N40-2015.07.30-18.44.48_MD589_1_0118_sift_labelmap.bp\"\n",
      "854540 keypoints\n"
     ]
    },
    {
     "name": "stderr",
     "output_type": "stream",
     "text": [
      "compute vocab: 0.00 seconds\n",
      "predict: 1.62 seconds\n"
     ]
    },
    {
     "name": "stdout",
     "output_type": "stream",
     "text": [
      "aws s3 cp \"/shared/CSHL_SPM/sift_labelmap/MD589/MD589-IHC40-2015.07.31-00.02.21_MD589_1_0118_sift_labelmap.bp\" \"s3://mousebrainatlas-data/CSHL_SPM/sift_labelmap/MD589/MD589-IHC40-2015.07.31-00.02.21_MD589_1_0118_sift_labelmap.bp\"\n",
      "904775 keypoints\n"
     ]
    },
    {
     "name": "stderr",
     "output_type": "stream",
     "text": [
      "compute vocab: 0.00 seconds\n",
      "predict: 1.69 seconds\n"
     ]
    },
    {
     "name": "stdout",
     "output_type": "stream",
     "text": [
      "aws s3 cp \"/shared/CSHL_SPM/sift_labelmap/MD589/MD589-N40-2015.07.30-18.44.48_MD589_2_0119_sift_labelmap.bp\" \"s3://mousebrainatlas-data/CSHL_SPM/sift_labelmap/MD589/MD589-N40-2015.07.30-18.44.48_MD589_2_0119_sift_labelmap.bp\"\n",
      "891693 keypoints\n"
     ]
    },
    {
     "name": "stderr",
     "output_type": "stream",
     "text": [
      "compute vocab: 0.00 seconds\n",
      "predict: 1.71 seconds\n"
     ]
    },
    {
     "name": "stdout",
     "output_type": "stream",
     "text": [
      "aws s3 cp \"/shared/CSHL_SPM/sift_labelmap/MD589/MD589-IHC40-2015.07.31-00.02.21_MD589_2_0119_sift_labelmap.bp\" \"s3://mousebrainatlas-data/CSHL_SPM/sift_labelmap/MD589/MD589-IHC40-2015.07.31-00.02.21_MD589_2_0119_sift_labelmap.bp\"\n",
      "774637 keypoints\n"
     ]
    },
    {
     "name": "stderr",
     "output_type": "stream",
     "text": [
      "compute vocab: 0.00 seconds\n",
      "predict: 1.47 seconds\n"
     ]
    },
    {
     "name": "stdout",
     "output_type": "stream",
     "text": [
      "aws s3 cp \"/shared/CSHL_SPM/sift_labelmap/MD589/MD589-N41-2015.07.30-18.48.44_MD589_1_0121_sift_labelmap.bp\" \"s3://mousebrainatlas-data/CSHL_SPM/sift_labelmap/MD589/MD589-N41-2015.07.30-18.48.44_MD589_1_0121_sift_labelmap.bp\"\n",
      "736677 keypoints\n"
     ]
    },
    {
     "name": "stderr",
     "output_type": "stream",
     "text": [
      "compute vocab: 0.00 seconds\n",
      "predict: 1.41 seconds\n"
     ]
    },
    {
     "name": "stdout",
     "output_type": "stream",
     "text": [
      "aws s3 cp \"/shared/CSHL_SPM/sift_labelmap/MD589/MD589-IHC41-2015.07.31-00.06.24_MD589_1_0121_sift_labelmap.bp\" \"s3://mousebrainatlas-data/CSHL_SPM/sift_labelmap/MD589/MD589-IHC41-2015.07.31-00.06.24_MD589_1_0121_sift_labelmap.bp\"\n",
      "937637 keypoints\n"
     ]
    },
    {
     "name": "stderr",
     "output_type": "stream",
     "text": [
      "compute vocab: 0.00 seconds\n",
      "predict: 1.79 seconds\n"
     ]
    },
    {
     "name": "stdout",
     "output_type": "stream",
     "text": [
      "aws s3 cp \"/shared/CSHL_SPM/sift_labelmap/MD589/MD589-N41-2015.07.30-18.48.44_MD589_2_0122_sift_labelmap.bp\" \"s3://mousebrainatlas-data/CSHL_SPM/sift_labelmap/MD589/MD589-N41-2015.07.30-18.48.44_MD589_2_0122_sift_labelmap.bp\"\n",
      "874849 keypoints\n"
     ]
    },
    {
     "name": "stderr",
     "output_type": "stream",
     "text": [
      "compute vocab: 0.00 seconds\n",
      "predict: 1.65 seconds\n"
     ]
    },
    {
     "name": "stdout",
     "output_type": "stream",
     "text": [
      "aws s3 cp \"/shared/CSHL_SPM/sift_labelmap/MD589/MD589-N42-2015.07.30-18.52.37_MD589_1_0124_sift_labelmap.bp\" \"s3://mousebrainatlas-data/CSHL_SPM/sift_labelmap/MD589/MD589-N42-2015.07.30-18.52.37_MD589_1_0124_sift_labelmap.bp\"\n",
      "904452 keypoints\n"
     ]
    },
    {
     "name": "stderr",
     "output_type": "stream",
     "text": [
      "compute vocab: 0.00 seconds\n",
      "predict: 1.72 seconds\n"
     ]
    },
    {
     "name": "stdout",
     "output_type": "stream",
     "text": [
      "aws s3 cp \"/shared/CSHL_SPM/sift_labelmap/MD589/MD589-IHC42-2015.07.31-00.10.45_MD589_1_0124_sift_labelmap.bp\" \"s3://mousebrainatlas-data/CSHL_SPM/sift_labelmap/MD589/MD589-IHC42-2015.07.31-00.10.45_MD589_1_0124_sift_labelmap.bp\"\n",
      "932191 keypoints\n"
     ]
    },
    {
     "name": "stderr",
     "output_type": "stream",
     "text": [
      "compute vocab: 0.00 seconds\n",
      "predict: 1.77 seconds\n"
     ]
    },
    {
     "name": "stdout",
     "output_type": "stream",
     "text": [
      "aws s3 cp \"/shared/CSHL_SPM/sift_labelmap/MD589/MD589-N42-2015.07.30-18.52.37_MD589_2_0125_sift_labelmap.bp\" \"s3://mousebrainatlas-data/CSHL_SPM/sift_labelmap/MD589/MD589-N42-2015.07.30-18.52.37_MD589_2_0125_sift_labelmap.bp\"\n",
      "909172 keypoints\n"
     ]
    },
    {
     "name": "stderr",
     "output_type": "stream",
     "text": [
      "compute vocab: 0.00 seconds\n",
      "predict: 1.74 seconds\n"
     ]
    },
    {
     "name": "stdout",
     "output_type": "stream",
     "text": [
      "aws s3 cp \"/shared/CSHL_SPM/sift_labelmap/MD589/MD589-IHC42-2015.07.31-00.10.45_MD589_2_0125_sift_labelmap.bp\" \"s3://mousebrainatlas-data/CSHL_SPM/sift_labelmap/MD589/MD589-IHC42-2015.07.31-00.10.45_MD589_2_0125_sift_labelmap.bp\"\n",
      "890586 keypoints\n"
     ]
    },
    {
     "name": "stderr",
     "output_type": "stream",
     "text": [
      "compute vocab: 0.00 seconds\n",
      "predict: 1.70 seconds\n"
     ]
    },
    {
     "name": "stdout",
     "output_type": "stream",
     "text": [
      "aws s3 cp \"/shared/CSHL_SPM/sift_labelmap/MD589/MD589-N43-2015.07.30-18.56.33_MD589_1_0127_sift_labelmap.bp\" \"s3://mousebrainatlas-data/CSHL_SPM/sift_labelmap/MD589/MD589-N43-2015.07.30-18.56.33_MD589_1_0127_sift_labelmap.bp\"\n",
      "939182 keypoints\n"
     ]
    },
    {
     "name": "stderr",
     "output_type": "stream",
     "text": [
      "compute vocab: 0.00 seconds\n",
      "predict: 1.79 seconds\n"
     ]
    },
    {
     "name": "stdout",
     "output_type": "stream",
     "text": [
      "aws s3 cp \"/shared/CSHL_SPM/sift_labelmap/MD589/MD589-IHC43-2015.07.31-00.14.56_MD589_1_0127_sift_labelmap.bp\" \"s3://mousebrainatlas-data/CSHL_SPM/sift_labelmap/MD589/MD589-IHC43-2015.07.31-00.14.56_MD589_1_0127_sift_labelmap.bp\"\n",
      "933110 keypoints\n"
     ]
    },
    {
     "name": "stderr",
     "output_type": "stream",
     "text": [
      "compute vocab: 0.00 seconds\n",
      "predict: 1.76 seconds\n"
     ]
    },
    {
     "name": "stdout",
     "output_type": "stream",
     "text": [
      "aws s3 cp \"/shared/CSHL_SPM/sift_labelmap/MD589/MD589-N43-2015.07.30-18.56.33_MD589_2_0128_sift_labelmap.bp\" \"s3://mousebrainatlas-data/CSHL_SPM/sift_labelmap/MD589/MD589-N43-2015.07.30-18.56.33_MD589_2_0128_sift_labelmap.bp\"\n",
      "940957 keypoints\n"
     ]
    },
    {
     "name": "stderr",
     "output_type": "stream",
     "text": [
      "compute vocab: 0.00 seconds\n",
      "predict: 1.78 seconds\n"
     ]
    },
    {
     "name": "stdout",
     "output_type": "stream",
     "text": [
      "aws s3 cp \"/shared/CSHL_SPM/sift_labelmap/MD589/MD589-IHC43-2015.07.31-00.14.56_MD589_2_0128_sift_labelmap.bp\" \"s3://mousebrainatlas-data/CSHL_SPM/sift_labelmap/MD589/MD589-IHC43-2015.07.31-00.14.56_MD589_2_0128_sift_labelmap.bp\"\n",
      "884938 keypoints\n"
     ]
    },
    {
     "name": "stderr",
     "output_type": "stream",
     "text": [
      "compute vocab: 0.00 seconds\n",
      "predict: 2.00 seconds\n"
     ]
    },
    {
     "name": "stdout",
     "output_type": "stream",
     "text": [
      "aws s3 cp \"/shared/CSHL_SPM/sift_labelmap/MD589/MD589-N44-2015.07.30-19.00.35_MD589_1_0130_sift_labelmap.bp\" \"s3://mousebrainatlas-data/CSHL_SPM/sift_labelmap/MD589/MD589-N44-2015.07.30-19.00.35_MD589_1_0130_sift_labelmap.bp\"\n",
      "949962 keypoints\n"
     ]
    },
    {
     "name": "stderr",
     "output_type": "stream",
     "text": [
      "compute vocab: 0.00 seconds\n",
      "predict: 1.83 seconds\n"
     ]
    },
    {
     "name": "stdout",
     "output_type": "stream",
     "text": [
      "aws s3 cp \"/shared/CSHL_SPM/sift_labelmap/MD589/MD589-IHC44-2015.07.31-00.18.50_MD589_1_0130_sift_labelmap.bp\" \"s3://mousebrainatlas-data/CSHL_SPM/sift_labelmap/MD589/MD589-IHC44-2015.07.31-00.18.50_MD589_1_0130_sift_labelmap.bp\"\n",
      "949276 keypoints\n"
     ]
    },
    {
     "name": "stderr",
     "output_type": "stream",
     "text": [
      "compute vocab: 0.00 seconds\n",
      "predict: 1.79 seconds\n"
     ]
    },
    {
     "name": "stdout",
     "output_type": "stream",
     "text": [
      "aws s3 cp \"/shared/CSHL_SPM/sift_labelmap/MD589/MD589-N44-2015.07.30-19.00.35_MD589_2_0131_sift_labelmap.bp\" \"s3://mousebrainatlas-data/CSHL_SPM/sift_labelmap/MD589/MD589-N44-2015.07.30-19.00.35_MD589_2_0131_sift_labelmap.bp\"\n",
      "921144 keypoints\n"
     ]
    },
    {
     "name": "stderr",
     "output_type": "stream",
     "text": [
      "compute vocab: 0.00 seconds\n",
      "predict: 1.76 seconds\n"
     ]
    },
    {
     "name": "stdout",
     "output_type": "stream",
     "text": [
      "aws s3 cp \"/shared/CSHL_SPM/sift_labelmap/MD589/MD589-IHC44-2015.07.31-00.18.50_MD589_2_0131_sift_labelmap.bp\" \"s3://mousebrainatlas-data/CSHL_SPM/sift_labelmap/MD589/MD589-IHC44-2015.07.31-00.18.50_MD589_2_0131_sift_labelmap.bp\"\n",
      "901744 keypoints\n"
     ]
    },
    {
     "name": "stderr",
     "output_type": "stream",
     "text": [
      "compute vocab: 0.00 seconds\n",
      "predict: 1.71 seconds\n"
     ]
    },
    {
     "name": "stdout",
     "output_type": "stream",
     "text": [
      "aws s3 cp \"/shared/CSHL_SPM/sift_labelmap/MD589/MD589-N45-2015.07.30-19.04.31_MD589_1_0133_sift_labelmap.bp\" \"s3://mousebrainatlas-data/CSHL_SPM/sift_labelmap/MD589/MD589-N45-2015.07.30-19.04.31_MD589_1_0133_sift_labelmap.bp\"\n",
      "928773 keypoints\n"
     ]
    },
    {
     "name": "stderr",
     "output_type": "stream",
     "text": [
      "compute vocab: 0.00 seconds\n",
      "predict: 2.11 seconds\n"
     ]
    },
    {
     "name": "stdout",
     "output_type": "stream",
     "text": [
      "aws s3 cp \"/shared/CSHL_SPM/sift_labelmap/MD589/MD589-IHC45-2015.07.31-00.23.02_MD589_1_0133_sift_labelmap.bp\" \"s3://mousebrainatlas-data/CSHL_SPM/sift_labelmap/MD589/MD589-IHC45-2015.07.31-00.23.02_MD589_1_0133_sift_labelmap.bp\"\n",
      "956286 keypoints\n"
     ]
    },
    {
     "name": "stderr",
     "output_type": "stream",
     "text": [
      "compute vocab: 0.00 seconds\n",
      "predict: 1.82 seconds\n"
     ]
    },
    {
     "name": "stdout",
     "output_type": "stream",
     "text": [
      "aws s3 cp \"/shared/CSHL_SPM/sift_labelmap/MD589/MD589-N45-2015.07.30-19.04.31_MD589_2_0134_sift_labelmap.bp\" \"s3://mousebrainatlas-data/CSHL_SPM/sift_labelmap/MD589/MD589-N45-2015.07.30-19.04.31_MD589_2_0134_sift_labelmap.bp\"\n",
      "917197 keypoints\n"
     ]
    },
    {
     "name": "stderr",
     "output_type": "stream",
     "text": [
      "compute vocab: 0.00 seconds\n",
      "predict: 1.75 seconds\n"
     ]
    },
    {
     "name": "stdout",
     "output_type": "stream",
     "text": [
      "aws s3 cp \"/shared/CSHL_SPM/sift_labelmap/MD589/MD589-IHC45-2015.07.31-00.23.02_MD589_2_0134_sift_labelmap.bp\" \"s3://mousebrainatlas-data/CSHL_SPM/sift_labelmap/MD589/MD589-IHC45-2015.07.31-00.23.02_MD589_2_0134_sift_labelmap.bp\"\n",
      "806249 keypoints\n"
     ]
    },
    {
     "name": "stderr",
     "output_type": "stream",
     "text": [
      "compute vocab: 0.00 seconds\n",
      "predict: 1.53 seconds\n"
     ]
    },
    {
     "name": "stdout",
     "output_type": "stream",
     "text": [
      "aws s3 cp \"/shared/CSHL_SPM/sift_labelmap/MD589/MD589-N46-2015.07.30-19.08.29_MD589_1_0136_sift_labelmap.bp\" \"s3://mousebrainatlas-data/CSHL_SPM/sift_labelmap/MD589/MD589-N46-2015.07.30-19.08.29_MD589_1_0136_sift_labelmap.bp\"\n",
      "903987 keypoints\n"
     ]
    },
    {
     "name": "stderr",
     "output_type": "stream",
     "text": [
      "compute vocab: 0.00 seconds\n",
      "predict: 1.75 seconds\n"
     ]
    },
    {
     "name": "stdout",
     "output_type": "stream",
     "text": [
      "aws s3 cp \"/shared/CSHL_SPM/sift_labelmap/MD589/MD589-IHC46-2015.07.31-00.27.07_MD589_1_0136_sift_labelmap.bp\" \"s3://mousebrainatlas-data/CSHL_SPM/sift_labelmap/MD589/MD589-IHC46-2015.07.31-00.27.07_MD589_1_0136_sift_labelmap.bp\"\n",
      "902124 keypoints\n"
     ]
    },
    {
     "name": "stderr",
     "output_type": "stream",
     "text": [
      "compute vocab: 0.00 seconds\n",
      "predict: 1.72 seconds\n"
     ]
    },
    {
     "name": "stdout",
     "output_type": "stream",
     "text": [
      "aws s3 cp \"/shared/CSHL_SPM/sift_labelmap/MD589/MD589-N46-2015.07.30-19.08.29_MD589_2_0137_sift_labelmap.bp\" \"s3://mousebrainatlas-data/CSHL_SPM/sift_labelmap/MD589/MD589-N46-2015.07.30-19.08.29_MD589_2_0137_sift_labelmap.bp\"\n",
      "903358 keypoints\n"
     ]
    },
    {
     "name": "stderr",
     "output_type": "stream",
     "text": [
      "compute vocab: 0.00 seconds\n",
      "predict: 1.71 seconds\n"
     ]
    },
    {
     "name": "stdout",
     "output_type": "stream",
     "text": [
      "aws s3 cp \"/shared/CSHL_SPM/sift_labelmap/MD589/MD589-IHC46-2015.07.31-00.27.07_MD589_2_0137_sift_labelmap.bp\" \"s3://mousebrainatlas-data/CSHL_SPM/sift_labelmap/MD589/MD589-IHC46-2015.07.31-00.27.07_MD589_2_0137_sift_labelmap.bp\"\n",
      "872294 keypoints\n"
     ]
    },
    {
     "name": "stderr",
     "output_type": "stream",
     "text": [
      "compute vocab: 0.00 seconds\n",
      "predict: 1.65 seconds\n"
     ]
    },
    {
     "name": "stdout",
     "output_type": "stream",
     "text": [
      "aws s3 cp \"/shared/CSHL_SPM/sift_labelmap/MD589/MD589-N47-2015.07.30-19.12.19_MD589_1_0139_sift_labelmap.bp\" \"s3://mousebrainatlas-data/CSHL_SPM/sift_labelmap/MD589/MD589-N47-2015.07.30-19.12.19_MD589_1_0139_sift_labelmap.bp\"\n",
      "903796 keypoints\n"
     ]
    },
    {
     "name": "stderr",
     "output_type": "stream",
     "text": [
      "compute vocab: 0.00 seconds\n",
      "predict: 1.76 seconds\n"
     ]
    },
    {
     "name": "stdout",
     "output_type": "stream",
     "text": [
      "aws s3 cp \"/shared/CSHL_SPM/sift_labelmap/MD589/MD589-IHC47-2015.07.31-00.31.08_MD589_1_0139_sift_labelmap.bp\" \"s3://mousebrainatlas-data/CSHL_SPM/sift_labelmap/MD589/MD589-IHC47-2015.07.31-00.31.08_MD589_1_0139_sift_labelmap.bp\"\n",
      "911595 keypoints\n"
     ]
    },
    {
     "name": "stderr",
     "output_type": "stream",
     "text": [
      "compute vocab: 0.00 seconds\n",
      "predict: 1.76 seconds\n"
     ]
    },
    {
     "name": "stdout",
     "output_type": "stream",
     "text": [
      "aws s3 cp \"/shared/CSHL_SPM/sift_labelmap/MD589/MD589-N47-2015.07.30-19.12.19_MD589_2_0140_sift_labelmap.bp\" \"s3://mousebrainatlas-data/CSHL_SPM/sift_labelmap/MD589/MD589-N47-2015.07.30-19.12.19_MD589_2_0140_sift_labelmap.bp\"\n",
      "903102 keypoints\n"
     ]
    },
    {
     "name": "stderr",
     "output_type": "stream",
     "text": [
      "compute vocab: 0.00 seconds\n",
      "predict: 1.71 seconds\n"
     ]
    },
    {
     "name": "stdout",
     "output_type": "stream",
     "text": [
      "aws s3 cp \"/shared/CSHL_SPM/sift_labelmap/MD589/MD589-IHC47-2015.07.31-00.31.08_MD589_2_0140_sift_labelmap.bp\" \"s3://mousebrainatlas-data/CSHL_SPM/sift_labelmap/MD589/MD589-IHC47-2015.07.31-00.31.08_MD589_2_0140_sift_labelmap.bp\"\n",
      "880897 keypoints\n"
     ]
    },
    {
     "name": "stderr",
     "output_type": "stream",
     "text": [
      "compute vocab: 0.00 seconds\n",
      "predict: 1.67 seconds\n"
     ]
    },
    {
     "name": "stdout",
     "output_type": "stream",
     "text": [
      "aws s3 cp \"/shared/CSHL_SPM/sift_labelmap/MD589/MD589-N48-2015.07.30-19.16.21_MD589_1_0142_sift_labelmap.bp\" \"s3://mousebrainatlas-data/CSHL_SPM/sift_labelmap/MD589/MD589-N48-2015.07.30-19.16.21_MD589_1_0142_sift_labelmap.bp\"\n",
      "891380 keypoints\n"
     ]
    },
    {
     "name": "stderr",
     "output_type": "stream",
     "text": [
      "compute vocab: 0.00 seconds\n",
      "predict: 1.72 seconds\n"
     ]
    },
    {
     "name": "stdout",
     "output_type": "stream",
     "text": [
      "aws s3 cp \"/shared/CSHL_SPM/sift_labelmap/MD589/MD589-IHC48-2015.07.31-00.35.14_MD589_1_0142_sift_labelmap.bp\" \"s3://mousebrainatlas-data/CSHL_SPM/sift_labelmap/MD589/MD589-IHC48-2015.07.31-00.35.14_MD589_1_0142_sift_labelmap.bp\"\n",
      "905890 keypoints\n"
     ]
    },
    {
     "name": "stderr",
     "output_type": "stream",
     "text": [
      "compute vocab: 0.00 seconds\n",
      "predict: 1.74 seconds\n"
     ]
    },
    {
     "name": "stdout",
     "output_type": "stream",
     "text": [
      "aws s3 cp \"/shared/CSHL_SPM/sift_labelmap/MD589/MD589-N48-2015.07.30-19.16.21_MD589_2_0143_sift_labelmap.bp\" \"s3://mousebrainatlas-data/CSHL_SPM/sift_labelmap/MD589/MD589-N48-2015.07.30-19.16.21_MD589_2_0143_sift_labelmap.bp\"\n",
      "874569 keypoints\n"
     ]
    },
    {
     "name": "stderr",
     "output_type": "stream",
     "text": [
      "compute vocab: 0.00 seconds\n",
      "predict: 1.66 seconds\n"
     ]
    },
    {
     "name": "stdout",
     "output_type": "stream",
     "text": [
      "aws s3 cp \"/shared/CSHL_SPM/sift_labelmap/MD589/MD589-IHC48-2015.07.31-00.35.14_MD589_2_0143_sift_labelmap.bp\" \"s3://mousebrainatlas-data/CSHL_SPM/sift_labelmap/MD589/MD589-IHC48-2015.07.31-00.35.14_MD589_2_0143_sift_labelmap.bp\"\n",
      "897832 keypoints\n"
     ]
    },
    {
     "name": "stderr",
     "output_type": "stream",
     "text": [
      "compute vocab: 0.00 seconds\n",
      "predict: 2.07 seconds\n"
     ]
    },
    {
     "name": "stdout",
     "output_type": "stream",
     "text": [
      "aws s3 cp \"/shared/CSHL_SPM/sift_labelmap/MD589/MD589-N49-2015.07.30-19.20.15_MD589_1_0145_sift_labelmap.bp\" \"s3://mousebrainatlas-data/CSHL_SPM/sift_labelmap/MD589/MD589-N49-2015.07.30-19.20.15_MD589_1_0145_sift_labelmap.bp\"\n",
      "866755 keypoints\n"
     ]
    },
    {
     "name": "stderr",
     "output_type": "stream",
     "text": [
      "compute vocab: 0.00 seconds\n",
      "predict: 1.65 seconds\n"
     ]
    },
    {
     "name": "stdout",
     "output_type": "stream",
     "text": [
      "aws s3 cp \"/shared/CSHL_SPM/sift_labelmap/MD589/MD589-IHC49-2015.07.31-00.39.15_MD589_1_0145_sift_labelmap.bp\" \"s3://mousebrainatlas-data/CSHL_SPM/sift_labelmap/MD589/MD589-IHC49-2015.07.31-00.39.15_MD589_1_0145_sift_labelmap.bp\"\n",
      "905643 keypoints\n"
     ]
    },
    {
     "name": "stderr",
     "output_type": "stream",
     "text": [
      "compute vocab: 0.00 seconds\n",
      "predict: 1.76 seconds\n"
     ]
    },
    {
     "name": "stdout",
     "output_type": "stream",
     "text": [
      "aws s3 cp \"/shared/CSHL_SPM/sift_labelmap/MD589/MD589-N49-2015.07.30-19.20.15_MD589_2_0146_sift_labelmap.bp\" \"s3://mousebrainatlas-data/CSHL_SPM/sift_labelmap/MD589/MD589-N49-2015.07.30-19.20.15_MD589_2_0146_sift_labelmap.bp\"\n",
      "871763 keypoints\n"
     ]
    },
    {
     "name": "stderr",
     "output_type": "stream",
     "text": [
      "compute vocab: 0.00 seconds\n",
      "predict: 1.69 seconds\n"
     ]
    },
    {
     "name": "stdout",
     "output_type": "stream",
     "text": [
      "aws s3 cp \"/shared/CSHL_SPM/sift_labelmap/MD589/MD589-IHC49-2015.07.31-00.39.15_MD589_2_0146_sift_labelmap.bp\" \"s3://mousebrainatlas-data/CSHL_SPM/sift_labelmap/MD589/MD589-IHC49-2015.07.31-00.39.15_MD589_2_0146_sift_labelmap.bp\"\n",
      "753685 keypoints\n"
     ]
    },
    {
     "name": "stderr",
     "output_type": "stream",
     "text": [
      "compute vocab: 0.00 seconds\n",
      "predict: 1.72 seconds\n"
     ]
    },
    {
     "name": "stdout",
     "output_type": "stream",
     "text": [
      "aws s3 cp \"/shared/CSHL_SPM/sift_labelmap/MD589/MD589-N50-2015.07.30-19.24.13_MD589_1_0148_sift_labelmap.bp\" \"s3://mousebrainatlas-data/CSHL_SPM/sift_labelmap/MD589/MD589-N50-2015.07.30-19.24.13_MD589_1_0148_sift_labelmap.bp\"\n",
      "897448 keypoints\n"
     ]
    },
    {
     "name": "stderr",
     "output_type": "stream",
     "text": [
      "compute vocab: 0.00 seconds\n",
      "predict: 1.76 seconds\n"
     ]
    },
    {
     "name": "stdout",
     "output_type": "stream",
     "text": [
      "aws s3 cp \"/shared/CSHL_SPM/sift_labelmap/MD589/MD589-IHC50-2015.07.31-00.43.12_MD589_1_0148_sift_labelmap.bp\" \"s3://mousebrainatlas-data/CSHL_SPM/sift_labelmap/MD589/MD589-IHC50-2015.07.31-00.43.12_MD589_1_0148_sift_labelmap.bp\"\n",
      "732659 keypoints\n"
     ]
    },
    {
     "name": "stderr",
     "output_type": "stream",
     "text": [
      "compute vocab: 0.00 seconds\n",
      "predict: 1.41 seconds\n"
     ]
    },
    {
     "name": "stdout",
     "output_type": "stream",
     "text": [
      "aws s3 cp \"/shared/CSHL_SPM/sift_labelmap/MD589/MD589-N50-2015.07.30-19.24.13_MD589_2_0149_sift_labelmap.bp\" \"s3://mousebrainatlas-data/CSHL_SPM/sift_labelmap/MD589/MD589-N50-2015.07.30-19.24.13_MD589_2_0149_sift_labelmap.bp\"\n",
      "895131 keypoints\n"
     ]
    },
    {
     "name": "stderr",
     "output_type": "stream",
     "text": [
      "compute vocab: 0.00 seconds\n",
      "predict: 1.68 seconds\n"
     ]
    },
    {
     "name": "stdout",
     "output_type": "stream",
     "text": [
      "aws s3 cp \"/shared/CSHL_SPM/sift_labelmap/MD589/MD589-IHC50-2015.07.31-00.43.12_MD589_2_0149_sift_labelmap.bp\" \"s3://mousebrainatlas-data/CSHL_SPM/sift_labelmap/MD589/MD589-IHC50-2015.07.31-00.43.12_MD589_2_0149_sift_labelmap.bp\"\n",
      "864834 keypoints\n"
     ]
    },
    {
     "name": "stderr",
     "output_type": "stream",
     "text": [
      "compute vocab: 0.00 seconds\n",
      "predict: 1.63 seconds\n"
     ]
    },
    {
     "name": "stdout",
     "output_type": "stream",
     "text": [
      "aws s3 cp \"/shared/CSHL_SPM/sift_labelmap/MD589/MD589-N51-2015.07.30-19.28.17_MD589_1_0151_sift_labelmap.bp\" \"s3://mousebrainatlas-data/CSHL_SPM/sift_labelmap/MD589/MD589-N51-2015.07.30-19.28.17_MD589_1_0151_sift_labelmap.bp\"\n",
      "889467 keypoints\n"
     ]
    },
    {
     "name": "stderr",
     "output_type": "stream",
     "text": [
      "compute vocab: 0.00 seconds\n",
      "predict: 1.71 seconds\n"
     ]
    },
    {
     "name": "stdout",
     "output_type": "stream",
     "text": [
      "aws s3 cp \"/shared/CSHL_SPM/sift_labelmap/MD589/MD589-IHC51-2015.07.31-00.47.11_MD589_1_0151_sift_labelmap.bp\" \"s3://mousebrainatlas-data/CSHL_SPM/sift_labelmap/MD589/MD589-IHC51-2015.07.31-00.47.11_MD589_1_0151_sift_labelmap.bp\"\n",
      "915919 keypoints\n"
     ]
    },
    {
     "name": "stderr",
     "output_type": "stream",
     "text": [
      "compute vocab: 0.00 seconds\n",
      "predict: 1.74 seconds\n"
     ]
    },
    {
     "name": "stdout",
     "output_type": "stream",
     "text": [
      "aws s3 cp \"/shared/CSHL_SPM/sift_labelmap/MD589/MD589-N51-2015.07.30-19.28.17_MD589_2_0152_sift_labelmap.bp\" \"s3://mousebrainatlas-data/CSHL_SPM/sift_labelmap/MD589/MD589-N51-2015.07.30-19.28.17_MD589_2_0152_sift_labelmap.bp\"\n",
      "856873 keypoints\n"
     ]
    },
    {
     "name": "stderr",
     "output_type": "stream",
     "text": [
      "compute vocab: 0.00 seconds\n",
      "predict: 1.64 seconds\n"
     ]
    },
    {
     "name": "stdout",
     "output_type": "stream",
     "text": [
      "aws s3 cp \"/shared/CSHL_SPM/sift_labelmap/MD589/MD589-IHC51-2015.07.31-00.47.11_MD589_2_0152_sift_labelmap.bp\" \"s3://mousebrainatlas-data/CSHL_SPM/sift_labelmap/MD589/MD589-IHC51-2015.07.31-00.47.11_MD589_2_0152_sift_labelmap.bp\"\n",
      "884785 keypoints\n"
     ]
    },
    {
     "name": "stderr",
     "output_type": "stream",
     "text": [
      "compute vocab: 0.00 seconds\n",
      "predict: 1.70 seconds\n"
     ]
    },
    {
     "name": "stdout",
     "output_type": "stream",
     "text": [
      "aws s3 cp \"/shared/CSHL_SPM/sift_labelmap/MD589/MD589-N51-2015.07.30-19.28.17_MD589_3_0153_sift_labelmap.bp\" \"s3://mousebrainatlas-data/CSHL_SPM/sift_labelmap/MD589/MD589-N51-2015.07.30-19.28.17_MD589_3_0153_sift_labelmap.bp\"\n",
      "884511 keypoints\n"
     ]
    },
    {
     "name": "stderr",
     "output_type": "stream",
     "text": [
      "compute vocab: 0.00 seconds\n",
      "predict: 1.67 seconds\n"
     ]
    },
    {
     "name": "stdout",
     "output_type": "stream",
     "text": [
      "aws s3 cp \"/shared/CSHL_SPM/sift_labelmap/MD589/MD589-IHC51-2015.07.31-00.47.11_MD589_3_0153_sift_labelmap.bp\" \"s3://mousebrainatlas-data/CSHL_SPM/sift_labelmap/MD589/MD589-IHC51-2015.07.31-00.47.11_MD589_3_0153_sift_labelmap.bp\"\n",
      "876843 keypoints\n"
     ]
    },
    {
     "name": "stderr",
     "output_type": "stream",
     "text": [
      "compute vocab: 0.00 seconds\n",
      "predict: 1.73 seconds\n"
     ]
    },
    {
     "name": "stdout",
     "output_type": "stream",
     "text": [
      "aws s3 cp \"/shared/CSHL_SPM/sift_labelmap/MD589/MD589-N52-2015.07.30-19.33.44_MD589_1_0154_sift_labelmap.bp\" \"s3://mousebrainatlas-data/CSHL_SPM/sift_labelmap/MD589/MD589-N52-2015.07.30-19.33.44_MD589_1_0154_sift_labelmap.bp\"\n",
      "859419 keypoints\n"
     ]
    },
    {
     "name": "stderr",
     "output_type": "stream",
     "text": [
      "compute vocab: 0.00 seconds\n",
      "predict: 1.65 seconds\n"
     ]
    },
    {
     "name": "stdout",
     "output_type": "stream",
     "text": [
      "aws s3 cp \"/shared/CSHL_SPM/sift_labelmap/MD589/MD589-IHC52-2015.07.31-00.52.41_MD589_1_0154_sift_labelmap.bp\" \"s3://mousebrainatlas-data/CSHL_SPM/sift_labelmap/MD589/MD589-IHC52-2015.07.31-00.52.41_MD589_1_0154_sift_labelmap.bp\"\n",
      "926008 keypoints\n"
     ]
    },
    {
     "name": "stderr",
     "output_type": "stream",
     "text": [
      "compute vocab: 0.00 seconds\n",
      "predict: 1.75 seconds\n"
     ]
    },
    {
     "name": "stdout",
     "output_type": "stream",
     "text": [
      "aws s3 cp \"/shared/CSHL_SPM/sift_labelmap/MD589/MD589-N52-2015.07.30-19.33.44_MD589_2_0155_sift_labelmap.bp\" \"s3://mousebrainatlas-data/CSHL_SPM/sift_labelmap/MD589/MD589-N52-2015.07.30-19.33.44_MD589_2_0155_sift_labelmap.bp\"\n",
      "912064 keypoints\n"
     ]
    },
    {
     "name": "stderr",
     "output_type": "stream",
     "text": [
      "compute vocab: 0.00 seconds\n",
      "predict: 1.72 seconds\n"
     ]
    },
    {
     "name": "stdout",
     "output_type": "stream",
     "text": [
      "aws s3 cp \"/shared/CSHL_SPM/sift_labelmap/MD589/MD589-IHC52-2015.07.31-00.52.41_MD589_2_0155_sift_labelmap.bp\" \"s3://mousebrainatlas-data/CSHL_SPM/sift_labelmap/MD589/MD589-IHC52-2015.07.31-00.52.41_MD589_2_0155_sift_labelmap.bp\"\n",
      "863649 keypoints\n"
     ]
    },
    {
     "name": "stderr",
     "output_type": "stream",
     "text": [
      "compute vocab: 0.00 seconds\n",
      "predict: 1.65 seconds\n"
     ]
    },
    {
     "name": "stdout",
     "output_type": "stream",
     "text": [
      "aws s3 cp \"/shared/CSHL_SPM/sift_labelmap/MD589/MD589-N52-2015.07.30-19.33.44_MD589_3_0156_sift_labelmap.bp\" \"s3://mousebrainatlas-data/CSHL_SPM/sift_labelmap/MD589/MD589-N52-2015.07.30-19.33.44_MD589_3_0156_sift_labelmap.bp\"\n",
      "832880 keypoints\n"
     ]
    },
    {
     "name": "stderr",
     "output_type": "stream",
     "text": [
      "compute vocab: 0.00 seconds\n",
      "predict: 1.58 seconds\n"
     ]
    },
    {
     "name": "stdout",
     "output_type": "stream",
     "text": [
      "aws s3 cp \"/shared/CSHL_SPM/sift_labelmap/MD589/MD589-IHC52-2015.07.31-00.52.41_MD589_3_0156_sift_labelmap.bp\" \"s3://mousebrainatlas-data/CSHL_SPM/sift_labelmap/MD589/MD589-IHC52-2015.07.31-00.52.41_MD589_3_0156_sift_labelmap.bp\"\n",
      "855255 keypoints\n"
     ]
    },
    {
     "name": "stderr",
     "output_type": "stream",
     "text": [
      "compute vocab: 0.00 seconds\n",
      "predict: 1.61 seconds\n"
     ]
    },
    {
     "name": "stdout",
     "output_type": "stream",
     "text": [
      "aws s3 cp \"/shared/CSHL_SPM/sift_labelmap/MD589/MD589-N53-2015.07.30-19.39.11_MD589_1_0157_sift_labelmap.bp\" \"s3://mousebrainatlas-data/CSHL_SPM/sift_labelmap/MD589/MD589-N53-2015.07.30-19.39.11_MD589_1_0157_sift_labelmap.bp\"\n",
      "847486 keypoints\n"
     ]
    },
    {
     "name": "stderr",
     "output_type": "stream",
     "text": [
      "compute vocab: 0.00 seconds\n",
      "predict: 1.60 seconds\n"
     ]
    },
    {
     "name": "stdout",
     "output_type": "stream",
     "text": [
      "aws s3 cp \"/shared/CSHL_SPM/sift_labelmap/MD589/MD589-IHC53-2015.07.31-00.58.06_MD589_1_0157_sift_labelmap.bp\" \"s3://mousebrainatlas-data/CSHL_SPM/sift_labelmap/MD589/MD589-IHC53-2015.07.31-00.58.06_MD589_1_0157_sift_labelmap.bp\"\n",
      "875901 keypoints\n"
     ]
    },
    {
     "name": "stderr",
     "output_type": "stream",
     "text": [
      "compute vocab: 0.00 seconds\n",
      "predict: 1.65 seconds\n"
     ]
    },
    {
     "name": "stdout",
     "output_type": "stream",
     "text": [
      "aws s3 cp \"/shared/CSHL_SPM/sift_labelmap/MD589/MD589-N53-2015.07.30-19.39.11_MD589_2_0158_sift_labelmap.bp\" \"s3://mousebrainatlas-data/CSHL_SPM/sift_labelmap/MD589/MD589-N53-2015.07.30-19.39.11_MD589_2_0158_sift_labelmap.bp\"\n",
      "874011 keypoints\n"
     ]
    },
    {
     "name": "stderr",
     "output_type": "stream",
     "text": [
      "compute vocab: 0.00 seconds\n",
      "predict: 1.65 seconds\n"
     ]
    },
    {
     "name": "stdout",
     "output_type": "stream",
     "text": [
      "aws s3 cp \"/shared/CSHL_SPM/sift_labelmap/MD589/MD589-IHC53-2015.07.31-00.58.06_MD589_2_0158_sift_labelmap.bp\" \"s3://mousebrainatlas-data/CSHL_SPM/sift_labelmap/MD589/MD589-IHC53-2015.07.31-00.58.06_MD589_2_0158_sift_labelmap.bp\"\n",
      "829591 keypoints\n"
     ]
    },
    {
     "name": "stderr",
     "output_type": "stream",
     "text": [
      "compute vocab: 0.00 seconds\n",
      "predict: 1.56 seconds\n"
     ]
    },
    {
     "name": "stdout",
     "output_type": "stream",
     "text": [
      "aws s3 cp \"/shared/CSHL_SPM/sift_labelmap/MD589/MD589-N53-2015.07.30-19.39.11_MD589_3_0159_sift_labelmap.bp\" \"s3://mousebrainatlas-data/CSHL_SPM/sift_labelmap/MD589/MD589-N53-2015.07.30-19.39.11_MD589_3_0159_sift_labelmap.bp\"\n",
      "844801 keypoints\n"
     ]
    },
    {
     "name": "stderr",
     "output_type": "stream",
     "text": [
      "compute vocab: 0.00 seconds\n",
      "predict: 1.61 seconds\n"
     ]
    },
    {
     "name": "stdout",
     "output_type": "stream",
     "text": [
      "aws s3 cp \"/shared/CSHL_SPM/sift_labelmap/MD589/MD589-IHC53-2015.07.31-00.58.06_MD589_3_0159_sift_labelmap.bp\" \"s3://mousebrainatlas-data/CSHL_SPM/sift_labelmap/MD589/MD589-IHC53-2015.07.31-00.58.06_MD589_3_0159_sift_labelmap.bp\"\n",
      "822193 keypoints\n"
     ]
    },
    {
     "name": "stderr",
     "output_type": "stream",
     "text": [
      "compute vocab: 0.00 seconds\n",
      "predict: 1.55 seconds\n"
     ]
    },
    {
     "name": "stdout",
     "output_type": "stream",
     "text": [
      "aws s3 cp \"/shared/CSHL_SPM/sift_labelmap/MD589/MD589-N54-2015.07.30-19.44.32_MD589_1_0160_sift_labelmap.bp\" \"s3://mousebrainatlas-data/CSHL_SPM/sift_labelmap/MD589/MD589-N54-2015.07.30-19.44.32_MD589_1_0160_sift_labelmap.bp\"\n",
      "810849 keypoints\n"
     ]
    },
    {
     "name": "stderr",
     "output_type": "stream",
     "text": [
      "compute vocab: 0.00 seconds\n",
      "predict: 1.55 seconds\n"
     ]
    },
    {
     "name": "stdout",
     "output_type": "stream",
     "text": [
      "aws s3 cp \"/shared/CSHL_SPM/sift_labelmap/MD589/MD589-IHC54-2015.07.31-01.03.25_MD589_1_0160_sift_labelmap.bp\" \"s3://mousebrainatlas-data/CSHL_SPM/sift_labelmap/MD589/MD589-IHC54-2015.07.31-01.03.25_MD589_1_0160_sift_labelmap.bp\"\n",
      "862309 keypoints\n"
     ]
    },
    {
     "name": "stderr",
     "output_type": "stream",
     "text": [
      "compute vocab: 0.00 seconds\n",
      "predict: 1.63 seconds\n"
     ]
    },
    {
     "name": "stdout",
     "output_type": "stream",
     "text": [
      "aws s3 cp \"/shared/CSHL_SPM/sift_labelmap/MD589/MD589-N54-2015.07.30-19.44.32_MD589_2_0161_sift_labelmap.bp\" \"s3://mousebrainatlas-data/CSHL_SPM/sift_labelmap/MD589/MD589-N54-2015.07.30-19.44.32_MD589_2_0161_sift_labelmap.bp\"\n",
      "835187 keypoints\n"
     ]
    },
    {
     "name": "stderr",
     "output_type": "stream",
     "text": [
      "compute vocab: 0.00 seconds\n",
      "predict: 1.61 seconds\n"
     ]
    },
    {
     "name": "stdout",
     "output_type": "stream",
     "text": [
      "aws s3 cp \"/shared/CSHL_SPM/sift_labelmap/MD589/MD589-IHC54-2015.07.31-01.03.25_MD589_2_0161_sift_labelmap.bp\" \"s3://mousebrainatlas-data/CSHL_SPM/sift_labelmap/MD589/MD589-IHC54-2015.07.31-01.03.25_MD589_2_0161_sift_labelmap.bp\"\n",
      "822342 keypoints\n"
     ]
    },
    {
     "name": "stderr",
     "output_type": "stream",
     "text": [
      "compute vocab: 0.00 seconds\n",
      "predict: 1.55 seconds\n"
     ]
    },
    {
     "name": "stdout",
     "output_type": "stream",
     "text": [
      "aws s3 cp \"/shared/CSHL_SPM/sift_labelmap/MD589/MD589-N54-2015.07.30-19.44.32_MD589_3_0162_sift_labelmap.bp\" \"s3://mousebrainatlas-data/CSHL_SPM/sift_labelmap/MD589/MD589-N54-2015.07.30-19.44.32_MD589_3_0162_sift_labelmap.bp\"\n",
      "804367 keypoints\n"
     ]
    },
    {
     "name": "stderr",
     "output_type": "stream",
     "text": [
      "compute vocab: 0.00 seconds\n",
      "predict: 1.55 seconds\n"
     ]
    },
    {
     "name": "stdout",
     "output_type": "stream",
     "text": [
      "aws s3 cp \"/shared/CSHL_SPM/sift_labelmap/MD589/MD589-IHC54-2015.07.31-01.03.25_MD589_3_0162_sift_labelmap.bp\" \"s3://mousebrainatlas-data/CSHL_SPM/sift_labelmap/MD589/MD589-IHC54-2015.07.31-01.03.25_MD589_3_0162_sift_labelmap.bp\"\n",
      "806112 keypoints\n"
     ]
    },
    {
     "name": "stderr",
     "output_type": "stream",
     "text": [
      "compute vocab: 0.00 seconds\n",
      "predict: 1.55 seconds\n"
     ]
    },
    {
     "name": "stdout",
     "output_type": "stream",
     "text": [
      "aws s3 cp \"/shared/CSHL_SPM/sift_labelmap/MD589/MD589-N55-2015.07.30-19.49.42_MD589_1_0163_sift_labelmap.bp\" \"s3://mousebrainatlas-data/CSHL_SPM/sift_labelmap/MD589/MD589-N55-2015.07.30-19.49.42_MD589_1_0163_sift_labelmap.bp\"\n",
      "804165 keypoints\n"
     ]
    },
    {
     "name": "stderr",
     "output_type": "stream",
     "text": [
      "compute vocab: 0.00 seconds\n",
      "predict: 1.52 seconds\n"
     ]
    },
    {
     "name": "stdout",
     "output_type": "stream",
     "text": [
      "aws s3 cp \"/shared/CSHL_SPM/sift_labelmap/MD589/MD589-IHC55-2015.07.31-01.08.44_MD589_1_0163_sift_labelmap.bp\" \"s3://mousebrainatlas-data/CSHL_SPM/sift_labelmap/MD589/MD589-IHC55-2015.07.31-01.08.44_MD589_1_0163_sift_labelmap.bp\"\n",
      "855029 keypoints\n"
     ]
    },
    {
     "name": "stderr",
     "output_type": "stream",
     "text": [
      "compute vocab: 0.00 seconds\n",
      "predict: 1.64 seconds\n"
     ]
    },
    {
     "name": "stdout",
     "output_type": "stream",
     "text": [
      "aws s3 cp \"/shared/CSHL_SPM/sift_labelmap/MD589/MD589-N55-2015.07.30-19.49.42_MD589_2_0164_sift_labelmap.bp\" \"s3://mousebrainatlas-data/CSHL_SPM/sift_labelmap/MD589/MD589-N55-2015.07.30-19.49.42_MD589_2_0164_sift_labelmap.bp\"\n",
      "824750 keypoints\n"
     ]
    },
    {
     "name": "stderr",
     "output_type": "stream",
     "text": [
      "compute vocab: 0.00 seconds\n",
      "predict: 1.56 seconds\n"
     ]
    },
    {
     "name": "stdout",
     "output_type": "stream",
     "text": [
      "aws s3 cp \"/shared/CSHL_SPM/sift_labelmap/MD589/MD589-IHC55-2015.07.31-01.08.44_MD589_2_0164_sift_labelmap.bp\" \"s3://mousebrainatlas-data/CSHL_SPM/sift_labelmap/MD589/MD589-IHC55-2015.07.31-01.08.44_MD589_2_0164_sift_labelmap.bp\"\n",
      "810061 keypoints\n"
     ]
    },
    {
     "name": "stderr",
     "output_type": "stream",
     "text": [
      "compute vocab: 0.00 seconds\n",
      "predict: 1.54 seconds\n"
     ]
    },
    {
     "name": "stdout",
     "output_type": "stream",
     "text": [
      "aws s3 cp \"/shared/CSHL_SPM/sift_labelmap/MD589/MD589-N55-2015.07.30-19.49.42_MD589_3_0165_sift_labelmap.bp\" \"s3://mousebrainatlas-data/CSHL_SPM/sift_labelmap/MD589/MD589-N55-2015.07.30-19.49.42_MD589_3_0165_sift_labelmap.bp\"\n",
      "787111 keypoints\n"
     ]
    },
    {
     "name": "stderr",
     "output_type": "stream",
     "text": [
      "compute vocab: 0.00 seconds\n",
      "predict: 1.50 seconds\n"
     ]
    },
    {
     "name": "stdout",
     "output_type": "stream",
     "text": [
      "aws s3 cp \"/shared/CSHL_SPM/sift_labelmap/MD589/MD589-IHC55-2015.07.31-01.08.44_MD589_3_0165_sift_labelmap.bp\" \"s3://mousebrainatlas-data/CSHL_SPM/sift_labelmap/MD589/MD589-IHC55-2015.07.31-01.08.44_MD589_3_0165_sift_labelmap.bp\"\n",
      "810050 keypoints\n"
     ]
    },
    {
     "name": "stderr",
     "output_type": "stream",
     "text": [
      "compute vocab: 0.00 seconds\n",
      "predict: 1.56 seconds\n"
     ]
    },
    {
     "name": "stdout",
     "output_type": "stream",
     "text": [
      "aws s3 cp \"/shared/CSHL_SPM/sift_labelmap/MD589/MD589-N56-2015.07.30-19.54.42_MD589_1_0166_sift_labelmap.bp\" \"s3://mousebrainatlas-data/CSHL_SPM/sift_labelmap/MD589/MD589-N56-2015.07.30-19.54.42_MD589_1_0166_sift_labelmap.bp\"\n",
      "788348 keypoints\n"
     ]
    },
    {
     "name": "stderr",
     "output_type": "stream",
     "text": [
      "compute vocab: 0.00 seconds\n",
      "predict: 1.51 seconds\n"
     ]
    },
    {
     "name": "stdout",
     "output_type": "stream",
     "text": [
      "aws s3 cp \"/shared/CSHL_SPM/sift_labelmap/MD589/MD589-IHC56-2015.07.31-01.13.31_MD589_1_0166_sift_labelmap.bp\" \"s3://mousebrainatlas-data/CSHL_SPM/sift_labelmap/MD589/MD589-IHC56-2015.07.31-01.13.31_MD589_1_0166_sift_labelmap.bp\"\n",
      "809094 keypoints\n"
     ]
    },
    {
     "name": "stderr",
     "output_type": "stream",
     "text": [
      "compute vocab: 0.00 seconds\n",
      "predict: 1.54 seconds\n"
     ]
    },
    {
     "name": "stdout",
     "output_type": "stream",
     "text": [
      "aws s3 cp \"/shared/CSHL_SPM/sift_labelmap/MD589/MD589-N56-2015.07.30-19.54.42_MD589_2_0167_sift_labelmap.bp\" \"s3://mousebrainatlas-data/CSHL_SPM/sift_labelmap/MD589/MD589-N56-2015.07.30-19.54.42_MD589_2_0167_sift_labelmap.bp\"\n",
      "802835 keypoints\n"
     ]
    },
    {
     "name": "stderr",
     "output_type": "stream",
     "text": [
      "compute vocab: 0.00 seconds\n",
      "predict: 1.51 seconds\n"
     ]
    },
    {
     "name": "stdout",
     "output_type": "stream",
     "text": [
      "aws s3 cp \"/shared/CSHL_SPM/sift_labelmap/MD589/MD589-IHC56-2015.07.31-01.13.31_MD589_2_0167_sift_labelmap.bp\" \"s3://mousebrainatlas-data/CSHL_SPM/sift_labelmap/MD589/MD589-IHC56-2015.07.31-01.13.31_MD589_2_0167_sift_labelmap.bp\"\n",
      "777290 keypoints\n"
     ]
    },
    {
     "name": "stderr",
     "output_type": "stream",
     "text": [
      "compute vocab: 0.00 seconds\n",
      "predict: 1.49 seconds\n"
     ]
    },
    {
     "name": "stdout",
     "output_type": "stream",
     "text": [
      "aws s3 cp \"/shared/CSHL_SPM/sift_labelmap/MD589/MD589-N56-2015.07.30-19.54.42_MD589_3_0168_sift_labelmap.bp\" \"s3://mousebrainatlas-data/CSHL_SPM/sift_labelmap/MD589/MD589-N56-2015.07.30-19.54.42_MD589_3_0168_sift_labelmap.bp\"\n",
      "773648 keypoints\n"
     ]
    },
    {
     "name": "stderr",
     "output_type": "stream",
     "text": [
      "compute vocab: 0.00 seconds\n",
      "predict: 1.51 seconds\n"
     ]
    },
    {
     "name": "stdout",
     "output_type": "stream",
     "text": [
      "aws s3 cp \"/shared/CSHL_SPM/sift_labelmap/MD589/MD589-IHC56-2015.07.31-01.13.31_MD589_3_0168_sift_labelmap.bp\" \"s3://mousebrainatlas-data/CSHL_SPM/sift_labelmap/MD589/MD589-IHC56-2015.07.31-01.13.31_MD589_3_0168_sift_labelmap.bp\"\n",
      "741983 keypoints\n"
     ]
    },
    {
     "name": "stderr",
     "output_type": "stream",
     "text": [
      "compute vocab: 0.00 seconds\n",
      "predict: 1.47 seconds\n"
     ]
    },
    {
     "name": "stdout",
     "output_type": "stream",
     "text": [
      "aws s3 cp \"/shared/CSHL_SPM/sift_labelmap/MD589/MD589-N57-2015.07.30-19.59.14_MD589_1_0169_sift_labelmap.bp\" \"s3://mousebrainatlas-data/CSHL_SPM/sift_labelmap/MD589/MD589-N57-2015.07.30-19.59.14_MD589_1_0169_sift_labelmap.bp\"\n",
      "769159 keypoints\n"
     ]
    },
    {
     "name": "stderr",
     "output_type": "stream",
     "text": [
      "compute vocab: 0.00 seconds\n",
      "predict: 1.69 seconds\n"
     ]
    },
    {
     "name": "stdout",
     "output_type": "stream",
     "text": [
      "aws s3 cp \"/shared/CSHL_SPM/sift_labelmap/MD589/MD589-IHC57-2015.07.31-01.18.16_MD589_1_0169_sift_labelmap.bp\" \"s3://mousebrainatlas-data/CSHL_SPM/sift_labelmap/MD589/MD589-IHC57-2015.07.31-01.18.16_MD589_1_0169_sift_labelmap.bp\"\n",
      "741620 keypoints\n"
     ]
    },
    {
     "name": "stderr",
     "output_type": "stream",
     "text": [
      "compute vocab: 0.00 seconds\n",
      "predict: 1.41 seconds\n"
     ]
    },
    {
     "name": "stdout",
     "output_type": "stream",
     "text": [
      "aws s3 cp \"/shared/CSHL_SPM/sift_labelmap/MD589/MD589-N57-2015.07.30-19.59.14_MD589_2_0170_sift_labelmap.bp\" \"s3://mousebrainatlas-data/CSHL_SPM/sift_labelmap/MD589/MD589-N57-2015.07.30-19.59.14_MD589_2_0170_sift_labelmap.bp\"\n",
      "758735 keypoints\n"
     ]
    },
    {
     "name": "stderr",
     "output_type": "stream",
     "text": [
      "compute vocab: 0.00 seconds\n",
      "predict: 1.43 seconds\n"
     ]
    },
    {
     "name": "stdout",
     "output_type": "stream",
     "text": [
      "aws s3 cp \"/shared/CSHL_SPM/sift_labelmap/MD589/MD589-IHC57-2015.07.31-01.18.16_MD589_2_0170_sift_labelmap.bp\" \"s3://mousebrainatlas-data/CSHL_SPM/sift_labelmap/MD589/MD589-IHC57-2015.07.31-01.18.16_MD589_2_0170_sift_labelmap.bp\"\n",
      "741013 keypoints\n"
     ]
    },
    {
     "name": "stderr",
     "output_type": "stream",
     "text": [
      "compute vocab: 0.00 seconds\n",
      "predict: 1.41 seconds\n"
     ]
    },
    {
     "name": "stdout",
     "output_type": "stream",
     "text": [
      "aws s3 cp \"/shared/CSHL_SPM/sift_labelmap/MD589/MD589-N57-2015.07.30-19.59.14_MD589_3_0171_sift_labelmap.bp\" \"s3://mousebrainatlas-data/CSHL_SPM/sift_labelmap/MD589/MD589-N57-2015.07.30-19.59.14_MD589_3_0171_sift_labelmap.bp\"\n",
      "757004 keypoints\n"
     ]
    },
    {
     "name": "stderr",
     "output_type": "stream",
     "text": [
      "compute vocab: 0.00 seconds\n",
      "predict: 1.45 seconds\n"
     ]
    },
    {
     "name": "stdout",
     "output_type": "stream",
     "text": [
      "aws s3 cp \"/shared/CSHL_SPM/sift_labelmap/MD589/MD589-IHC57-2015.07.31-01.18.16_MD589_3_0171_sift_labelmap.bp\" \"s3://mousebrainatlas-data/CSHL_SPM/sift_labelmap/MD589/MD589-IHC57-2015.07.31-01.18.16_MD589_3_0171_sift_labelmap.bp\"\n",
      "771518 keypoints\n"
     ]
    },
    {
     "name": "stderr",
     "output_type": "stream",
     "text": [
      "compute vocab: 0.00 seconds\n",
      "predict: 1.46 seconds\n"
     ]
    },
    {
     "name": "stdout",
     "output_type": "stream",
     "text": [
      "aws s3 cp \"/shared/CSHL_SPM/sift_labelmap/MD589/MD589-IHC58-2015.07.31-01.22.39_MD589_1_0172_sift_labelmap.bp\" \"s3://mousebrainatlas-data/CSHL_SPM/sift_labelmap/MD589/MD589-IHC58-2015.07.31-01.22.39_MD589_1_0172_sift_labelmap.bp\"\n",
      "720121 keypoints\n"
     ]
    },
    {
     "name": "stderr",
     "output_type": "stream",
     "text": [
      "compute vocab: 0.00 seconds\n",
      "predict: 1.41 seconds\n"
     ]
    },
    {
     "name": "stdout",
     "output_type": "stream",
     "text": [
      "aws s3 cp \"/shared/CSHL_SPM/sift_labelmap/MD589/MD589-N58-2015.07.30-20.03.53_MD589_1_0172_sift_labelmap.bp\" \"s3://mousebrainatlas-data/CSHL_SPM/sift_labelmap/MD589/MD589-N58-2015.07.30-20.03.53_MD589_1_0172_sift_labelmap.bp\"\n",
      "762390 keypoints\n"
     ]
    },
    {
     "name": "stderr",
     "output_type": "stream",
     "text": [
      "compute vocab: 0.00 seconds\n",
      "predict: 1.43 seconds\n"
     ]
    },
    {
     "name": "stdout",
     "output_type": "stream",
     "text": [
      "aws s3 cp \"/shared/CSHL_SPM/sift_labelmap/MD589/MD589-IHC58-2015.07.31-01.22.39_MD589_2_0173_sift_labelmap.bp\" \"s3://mousebrainatlas-data/CSHL_SPM/sift_labelmap/MD589/MD589-IHC58-2015.07.31-01.22.39_MD589_2_0173_sift_labelmap.bp\"\n",
      "716047 keypoints\n"
     ]
    },
    {
     "name": "stderr",
     "output_type": "stream",
     "text": [
      "compute vocab: 0.00 seconds\n",
      "predict: 1.37 seconds\n"
     ]
    },
    {
     "name": "stdout",
     "output_type": "stream",
     "text": [
      "aws s3 cp \"/shared/CSHL_SPM/sift_labelmap/MD589/MD589-N58-2015.07.30-20.03.53_MD589_2_0173_sift_labelmap.bp\" \"s3://mousebrainatlas-data/CSHL_SPM/sift_labelmap/MD589/MD589-N58-2015.07.30-20.03.53_MD589_2_0173_sift_labelmap.bp\"\n",
      "719575 keypoints\n"
     ]
    },
    {
     "name": "stderr",
     "output_type": "stream",
     "text": [
      "compute vocab: 0.00 seconds\n",
      "predict: 1.39 seconds\n"
     ]
    },
    {
     "name": "stdout",
     "output_type": "stream",
     "text": [
      "aws s3 cp \"/shared/CSHL_SPM/sift_labelmap/MD589/MD589-IHC58-2015.07.31-01.22.39_MD589_3_0174_sift_labelmap.bp\" \"s3://mousebrainatlas-data/CSHL_SPM/sift_labelmap/MD589/MD589-IHC58-2015.07.31-01.22.39_MD589_3_0174_sift_labelmap.bp\"\n",
      "719401 keypoints\n"
     ]
    },
    {
     "name": "stderr",
     "output_type": "stream",
     "text": [
      "compute vocab: 0.00 seconds\n",
      "predict: 1.36 seconds\n"
     ]
    },
    {
     "name": "stdout",
     "output_type": "stream",
     "text": [
      "aws s3 cp \"/shared/CSHL_SPM/sift_labelmap/MD589/MD589-N59-2015.07.30-20.07.00_MD589_1_0175_sift_labelmap.bp\" \"s3://mousebrainatlas-data/CSHL_SPM/sift_labelmap/MD589/MD589-N59-2015.07.30-20.07.00_MD589_1_0175_sift_labelmap.bp\"\n",
      "735683 keypoints\n"
     ]
    },
    {
     "name": "stderr",
     "output_type": "stream",
     "text": [
      "compute vocab: 0.00 seconds\n",
      "predict: 1.41 seconds\n"
     ]
    },
    {
     "name": "stdout",
     "output_type": "stream",
     "text": [
      "aws s3 cp \"/shared/CSHL_SPM/sift_labelmap/MD589/MD589-IHC59-2015.07.31-01.26.55_MD589_1_0175_sift_labelmap.bp\" \"s3://mousebrainatlas-data/CSHL_SPM/sift_labelmap/MD589/MD589-IHC59-2015.07.31-01.26.55_MD589_1_0175_sift_labelmap.bp\"\n",
      "713811 keypoints\n"
     ]
    },
    {
     "name": "stderr",
     "output_type": "stream",
     "text": [
      "compute vocab: 0.00 seconds\n",
      "predict: 1.42 seconds\n"
     ]
    },
    {
     "name": "stdout",
     "output_type": "stream",
     "text": [
      "aws s3 cp \"/shared/CSHL_SPM/sift_labelmap/MD589/MD589-N59-2015.07.30-20.07.00_MD589_2_0176_sift_labelmap.bp\" \"s3://mousebrainatlas-data/CSHL_SPM/sift_labelmap/MD589/MD589-N59-2015.07.30-20.07.00_MD589_2_0176_sift_labelmap.bp\"\n",
      "741193 keypoints\n"
     ]
    },
    {
     "name": "stderr",
     "output_type": "stream",
     "text": [
      "compute vocab: 0.00 seconds\n",
      "predict: 1.60 seconds\n"
     ]
    },
    {
     "name": "stdout",
     "output_type": "stream",
     "text": [
      "aws s3 cp \"/shared/CSHL_SPM/sift_labelmap/MD589/MD589-IHC59-2015.07.31-01.26.55_MD589_2_0176_sift_labelmap.bp\" \"s3://mousebrainatlas-data/CSHL_SPM/sift_labelmap/MD589/MD589-IHC59-2015.07.31-01.26.55_MD589_2_0176_sift_labelmap.bp\"\n",
      "705956 keypoints\n"
     ]
    },
    {
     "name": "stderr",
     "output_type": "stream",
     "text": [
      "compute vocab: 0.00 seconds\n",
      "predict: 2.37 seconds\n"
     ]
    },
    {
     "name": "stdout",
     "output_type": "stream",
     "text": [
      "aws s3 cp \"/shared/CSHL_SPM/sift_labelmap/MD589/MD589-N59-2015.07.30-20.07.00_MD589_3_0177_sift_labelmap.bp\" \"s3://mousebrainatlas-data/CSHL_SPM/sift_labelmap/MD589/MD589-N59-2015.07.30-20.07.00_MD589_3_0177_sift_labelmap.bp\"\n",
      "703923 keypoints\n"
     ]
    },
    {
     "name": "stderr",
     "output_type": "stream",
     "text": [
      "compute vocab: 0.00 seconds\n",
      "predict: 1.79 seconds\n"
     ]
    },
    {
     "name": "stdout",
     "output_type": "stream",
     "text": [
      "aws s3 cp \"/shared/CSHL_SPM/sift_labelmap/MD589/MD589-IHC59-2015.07.31-01.26.55_MD589_3_0177_sift_labelmap.bp\" \"s3://mousebrainatlas-data/CSHL_SPM/sift_labelmap/MD589/MD589-IHC59-2015.07.31-01.26.55_MD589_3_0177_sift_labelmap.bp\"\n",
      "706292 keypoints\n"
     ]
    },
    {
     "name": "stderr",
     "output_type": "stream",
     "text": [
      "compute vocab: 0.00 seconds\n",
      "predict: 2.06 seconds\n"
     ]
    },
    {
     "name": "stdout",
     "output_type": "stream",
     "text": [
      "aws s3 cp \"/shared/CSHL_SPM/sift_labelmap/MD589/MD589-N60-2015.07.30-20.11.20_MD589_1_0178_sift_labelmap.bp\" \"s3://mousebrainatlas-data/CSHL_SPM/sift_labelmap/MD589/MD589-N60-2015.07.30-20.11.20_MD589_1_0178_sift_labelmap.bp\"\n",
      "736130 keypoints\n"
     ]
    },
    {
     "name": "stderr",
     "output_type": "stream",
     "text": [
      "compute vocab: 0.00 seconds\n",
      "predict: 1.44 seconds\n"
     ]
    },
    {
     "name": "stdout",
     "output_type": "stream",
     "text": [
      "aws s3 cp \"/shared/CSHL_SPM/sift_labelmap/MD589/MD589-IHC60-2015.07.31-01.31.11_MD589_1_0178_sift_labelmap.bp\" \"s3://mousebrainatlas-data/CSHL_SPM/sift_labelmap/MD589/MD589-IHC60-2015.07.31-01.31.11_MD589_1_0178_sift_labelmap.bp\"\n",
      "721825 keypoints\n"
     ]
    },
    {
     "name": "stderr",
     "output_type": "stream",
     "text": [
      "compute vocab: 0.00 seconds\n",
      "predict: 1.37 seconds\n"
     ]
    },
    {
     "name": "stdout",
     "output_type": "stream",
     "text": [
      "aws s3 cp \"/shared/CSHL_SPM/sift_labelmap/MD589/MD589-N60-2015.07.30-20.11.20_MD589_2_0179_sift_labelmap.bp\" \"s3://mousebrainatlas-data/CSHL_SPM/sift_labelmap/MD589/MD589-N60-2015.07.30-20.11.20_MD589_2_0179_sift_labelmap.bp\"\n",
      "721960 keypoints\n"
     ]
    },
    {
     "name": "stderr",
     "output_type": "stream",
     "text": [
      "compute vocab: 0.00 seconds\n",
      "predict: 1.38 seconds\n"
     ]
    },
    {
     "name": "stdout",
     "output_type": "stream",
     "text": [
      "aws s3 cp \"/shared/CSHL_SPM/sift_labelmap/MD589/MD589-IHC60-2015.07.31-01.31.11_MD589_2_0179_sift_labelmap.bp\" \"s3://mousebrainatlas-data/CSHL_SPM/sift_labelmap/MD589/MD589-IHC60-2015.07.31-01.31.11_MD589_2_0179_sift_labelmap.bp\"\n",
      "713275 keypoints\n"
     ]
    },
    {
     "name": "stderr",
     "output_type": "stream",
     "text": [
      "compute vocab: 0.00 seconds\n",
      "predict: 1.35 seconds\n"
     ]
    },
    {
     "name": "stdout",
     "output_type": "stream",
     "text": [
      "aws s3 cp \"/shared/CSHL_SPM/sift_labelmap/MD589/MD589-N60-2015.07.30-20.11.20_MD589_3_0180_sift_labelmap.bp\" \"s3://mousebrainatlas-data/CSHL_SPM/sift_labelmap/MD589/MD589-N60-2015.07.30-20.11.20_MD589_3_0180_sift_labelmap.bp\"\n",
      "717513 keypoints\n"
     ]
    },
    {
     "name": "stderr",
     "output_type": "stream",
     "text": [
      "compute vocab: 0.00 seconds\n",
      "predict: 1.41 seconds\n"
     ]
    },
    {
     "name": "stdout",
     "output_type": "stream",
     "text": [
      "aws s3 cp \"/shared/CSHL_SPM/sift_labelmap/MD589/MD589-IHC60-2015.07.31-01.31.11_MD589_3_0180_sift_labelmap.bp\" \"s3://mousebrainatlas-data/CSHL_SPM/sift_labelmap/MD589/MD589-IHC60-2015.07.31-01.31.11_MD589_3_0180_sift_labelmap.bp\"\n",
      "642407 keypoints\n"
     ]
    },
    {
     "name": "stderr",
     "output_type": "stream",
     "text": [
      "compute vocab: 0.00 seconds\n",
      "predict: 1.45 seconds\n"
     ]
    },
    {
     "name": "stdout",
     "output_type": "stream",
     "text": [
      "aws s3 cp \"/shared/CSHL_SPM/sift_labelmap/MD589/MD589-N61-2015.07.30-20.15.47_MD589_1_0181_sift_labelmap.bp\" \"s3://mousebrainatlas-data/CSHL_SPM/sift_labelmap/MD589/MD589-N61-2015.07.30-20.15.47_MD589_1_0181_sift_labelmap.bp\"\n",
      "712150 keypoints\n"
     ]
    },
    {
     "name": "stderr",
     "output_type": "stream",
     "text": [
      "compute vocab: 0.00 seconds\n",
      "predict: 1.36 seconds\n"
     ]
    },
    {
     "name": "stdout",
     "output_type": "stream",
     "text": [
      "aws s3 cp \"/shared/CSHL_SPM/sift_labelmap/MD589/MD589-IHC61-2015.07.31-01.35.17_MD589_1_0181_sift_labelmap.bp\" \"s3://mousebrainatlas-data/CSHL_SPM/sift_labelmap/MD589/MD589-IHC61-2015.07.31-01.35.17_MD589_1_0181_sift_labelmap.bp\"\n",
      "703828 keypoints\n"
     ]
    },
    {
     "name": "stderr",
     "output_type": "stream",
     "text": [
      "compute vocab: 0.00 seconds\n",
      "predict: 1.34 seconds\n"
     ]
    },
    {
     "name": "stdout",
     "output_type": "stream",
     "text": [
      "aws s3 cp \"/shared/CSHL_SPM/sift_labelmap/MD589/MD589-N61-2015.07.30-20.15.47_MD589_2_0182_sift_labelmap.bp\" \"s3://mousebrainatlas-data/CSHL_SPM/sift_labelmap/MD589/MD589-N61-2015.07.30-20.15.47_MD589_2_0182_sift_labelmap.bp\"\n",
      "707640 keypoints\n"
     ]
    },
    {
     "name": "stderr",
     "output_type": "stream",
     "text": [
      "compute vocab: 0.00 seconds\n",
      "predict: 1.36 seconds\n"
     ]
    },
    {
     "name": "stdout",
     "output_type": "stream",
     "text": [
      "aws s3 cp \"/shared/CSHL_SPM/sift_labelmap/MD589/MD589-IHC61-2015.07.31-01.35.17_MD589_2_0182_sift_labelmap.bp\" \"s3://mousebrainatlas-data/CSHL_SPM/sift_labelmap/MD589/MD589-IHC61-2015.07.31-01.35.17_MD589_2_0182_sift_labelmap.bp\"\n",
      "675825 keypoints\n"
     ]
    },
    {
     "name": "stderr",
     "output_type": "stream",
     "text": [
      "compute vocab: 0.00 seconds\n",
      "predict: 1.29 seconds\n"
     ]
    },
    {
     "name": "stdout",
     "output_type": "stream",
     "text": [
      "aws s3 cp \"/shared/CSHL_SPM/sift_labelmap/MD589/MD589-N61-2015.07.30-20.15.47_MD589_3_0183_sift_labelmap.bp\" \"s3://mousebrainatlas-data/CSHL_SPM/sift_labelmap/MD589/MD589-N61-2015.07.30-20.15.47_MD589_3_0183_sift_labelmap.bp\"\n",
      "688577 keypoints\n"
     ]
    },
    {
     "name": "stderr",
     "output_type": "stream",
     "text": [
      "compute vocab: 0.00 seconds\n",
      "predict: 1.34 seconds\n"
     ]
    },
    {
     "name": "stdout",
     "output_type": "stream",
     "text": [
      "aws s3 cp \"/shared/CSHL_SPM/sift_labelmap/MD589/MD589-IHC61-2015.07.31-01.35.17_MD589_3_0183_sift_labelmap.bp\" \"s3://mousebrainatlas-data/CSHL_SPM/sift_labelmap/MD589/MD589-IHC61-2015.07.31-01.35.17_MD589_3_0183_sift_labelmap.bp\"\n",
      "679705 keypoints\n"
     ]
    },
    {
     "name": "stderr",
     "output_type": "stream",
     "text": [
      "compute vocab: 0.00 seconds\n",
      "predict: 1.28 seconds\n"
     ]
    },
    {
     "name": "stdout",
     "output_type": "stream",
     "text": [
      "aws s3 cp \"/shared/CSHL_SPM/sift_labelmap/MD589/MD589-IHC62-2015.07.31-01.39.26_MD589_1_0184_sift_labelmap.bp\" \"s3://mousebrainatlas-data/CSHL_SPM/sift_labelmap/MD589/MD589-IHC62-2015.07.31-01.39.26_MD589_1_0184_sift_labelmap.bp\"\n",
      "703079 keypoints\n"
     ]
    },
    {
     "name": "stderr",
     "output_type": "stream",
     "text": [
      "compute vocab: 0.00 seconds\n",
      "predict: 1.35 seconds\n"
     ]
    },
    {
     "name": "stdout",
     "output_type": "stream",
     "text": [
      "aws s3 cp \"/shared/CSHL_SPM/sift_labelmap/MD589/MD589-N62-2015.07.30-20.20.08_MD589_1_0184_sift_labelmap.bp\" \"s3://mousebrainatlas-data/CSHL_SPM/sift_labelmap/MD589/MD589-N62-2015.07.30-20.20.08_MD589_1_0184_sift_labelmap.bp\"\n",
      "679117 keypoints\n"
     ]
    },
    {
     "name": "stderr",
     "output_type": "stream",
     "text": [
      "compute vocab: 0.00 seconds\n",
      "predict: 1.29 seconds\n"
     ]
    },
    {
     "name": "stdout",
     "output_type": "stream",
     "text": [
      "aws s3 cp \"/shared/CSHL_SPM/sift_labelmap/MD589/MD589-IHC62-2015.07.31-01.39.26_MD589_2_0185_sift_labelmap.bp\" \"s3://mousebrainatlas-data/CSHL_SPM/sift_labelmap/MD589/MD589-IHC62-2015.07.31-01.39.26_MD589_2_0185_sift_labelmap.bp\"\n",
      "674861 keypoints\n"
     ]
    },
    {
     "name": "stderr",
     "output_type": "stream",
     "text": [
      "compute vocab: 0.00 seconds\n",
      "predict: 1.30 seconds\n"
     ]
    },
    {
     "name": "stdout",
     "output_type": "stream",
     "text": [
      "aws s3 cp \"/shared/CSHL_SPM/sift_labelmap/MD589/MD589-N62-2015.07.30-20.20.08_MD589_2_0185_sift_labelmap.bp\" \"s3://mousebrainatlas-data/CSHL_SPM/sift_labelmap/MD589/MD589-N62-2015.07.30-20.20.08_MD589_2_0185_sift_labelmap.bp\"\n",
      "673065 keypoints\n"
     ]
    },
    {
     "name": "stderr",
     "output_type": "stream",
     "text": [
      "compute vocab: 0.00 seconds\n",
      "predict: 1.31 seconds\n"
     ]
    },
    {
     "name": "stdout",
     "output_type": "stream",
     "text": [
      "aws s3 cp \"/shared/CSHL_SPM/sift_labelmap/MD589/MD589-IHC62-2015.07.31-01.39.26_MD589_3_0186_sift_labelmap.bp\" \"s3://mousebrainatlas-data/CSHL_SPM/sift_labelmap/MD589/MD589-IHC62-2015.07.31-01.39.26_MD589_3_0186_sift_labelmap.bp\"\n",
      "664135 keypoints\n"
     ]
    },
    {
     "name": "stderr",
     "output_type": "stream",
     "text": [
      "compute vocab: 0.00 seconds\n",
      "predict: 1.27 seconds\n"
     ]
    },
    {
     "name": "stdout",
     "output_type": "stream",
     "text": [
      "aws s3 cp \"/shared/CSHL_SPM/sift_labelmap/MD589/MD589-N63-2015.07.30-20.23.12_MD589_1_0187_sift_labelmap.bp\" \"s3://mousebrainatlas-data/CSHL_SPM/sift_labelmap/MD589/MD589-N63-2015.07.30-20.23.12_MD589_1_0187_sift_labelmap.bp\"\n",
      "670292 keypoints\n"
     ]
    },
    {
     "name": "stderr",
     "output_type": "stream",
     "text": [
      "compute vocab: 0.00 seconds\n",
      "predict: 1.28 seconds\n"
     ]
    },
    {
     "name": "stdout",
     "output_type": "stream",
     "text": [
      "aws s3 cp \"/shared/CSHL_SPM/sift_labelmap/MD589/MD589-IHC63-2015.07.31-01.43.31_MD589_1_0187_sift_labelmap.bp\" \"s3://mousebrainatlas-data/CSHL_SPM/sift_labelmap/MD589/MD589-IHC63-2015.07.31-01.43.31_MD589_1_0187_sift_labelmap.bp\"\n",
      "657244 keypoints\n"
     ]
    },
    {
     "name": "stderr",
     "output_type": "stream",
     "text": [
      "compute vocab: 0.00 seconds\n",
      "predict: 1.27 seconds\n"
     ]
    },
    {
     "name": "stdout",
     "output_type": "stream",
     "text": [
      "aws s3 cp \"/shared/CSHL_SPM/sift_labelmap/MD589/MD589-N63-2015.07.30-20.23.12_MD589_2_0188_sift_labelmap.bp\" \"s3://mousebrainatlas-data/CSHL_SPM/sift_labelmap/MD589/MD589-N63-2015.07.30-20.23.12_MD589_2_0188_sift_labelmap.bp\"\n",
      "675240 keypoints\n"
     ]
    },
    {
     "name": "stderr",
     "output_type": "stream",
     "text": [
      "compute vocab: 0.00 seconds\n",
      "predict: 1.40 seconds\n"
     ]
    },
    {
     "name": "stdout",
     "output_type": "stream",
     "text": [
      "aws s3 cp \"/shared/CSHL_SPM/sift_labelmap/MD589/MD589-IHC63-2015.07.31-01.43.31_MD589_2_0188_sift_labelmap.bp\" \"s3://mousebrainatlas-data/CSHL_SPM/sift_labelmap/MD589/MD589-IHC63-2015.07.31-01.43.31_MD589_2_0188_sift_labelmap.bp\"\n",
      "627209 keypoints\n"
     ]
    },
    {
     "name": "stderr",
     "output_type": "stream",
     "text": [
      "compute vocab: 0.00 seconds\n",
      "predict: 1.20 seconds\n"
     ]
    },
    {
     "name": "stdout",
     "output_type": "stream",
     "text": [
      "aws s3 cp \"/shared/CSHL_SPM/sift_labelmap/MD589/MD589-N63-2015.07.30-20.23.12_MD589_3_0189_sift_labelmap.bp\" \"s3://mousebrainatlas-data/CSHL_SPM/sift_labelmap/MD589/MD589-N63-2015.07.30-20.23.12_MD589_3_0189_sift_labelmap.bp\"\n",
      "655725 keypoints\n"
     ]
    },
    {
     "name": "stderr",
     "output_type": "stream",
     "text": [
      "compute vocab: 0.00 seconds\n",
      "predict: 1.27 seconds\n"
     ]
    },
    {
     "name": "stdout",
     "output_type": "stream",
     "text": [
      "aws s3 cp \"/shared/CSHL_SPM/sift_labelmap/MD589/MD589-IHC63-2015.07.31-01.43.31_MD589_3_0189_sift_labelmap.bp\" \"s3://mousebrainatlas-data/CSHL_SPM/sift_labelmap/MD589/MD589-IHC63-2015.07.31-01.43.31_MD589_3_0189_sift_labelmap.bp\"\n",
      "637440 keypoints\n"
     ]
    },
    {
     "name": "stderr",
     "output_type": "stream",
     "text": [
      "compute vocab: 0.00 seconds\n",
      "predict: 1.23 seconds\n"
     ]
    },
    {
     "name": "stdout",
     "output_type": "stream",
     "text": [
      "aws s3 cp \"/shared/CSHL_SPM/sift_labelmap/MD589/MD589-N64-2015.07.30-20.27.19_MD589_1_0190_sift_labelmap.bp\" \"s3://mousebrainatlas-data/CSHL_SPM/sift_labelmap/MD589/MD589-N64-2015.07.30-20.27.19_MD589_1_0190_sift_labelmap.bp\"\n",
      "655260 keypoints\n"
     ]
    },
    {
     "name": "stderr",
     "output_type": "stream",
     "text": [
      "compute vocab: 0.00 seconds\n",
      "predict: 1.35 seconds\n"
     ]
    },
    {
     "name": "stdout",
     "output_type": "stream",
     "text": [
      "aws s3 cp \"/shared/CSHL_SPM/sift_labelmap/MD589/MD589-IHC64-2015.07.31-01.47.28_MD589_1_0190_sift_labelmap.bp\" \"s3://mousebrainatlas-data/CSHL_SPM/sift_labelmap/MD589/MD589-IHC64-2015.07.31-01.47.28_MD589_1_0190_sift_labelmap.bp\"\n",
      "647238 keypoints\n"
     ]
    },
    {
     "name": "stderr",
     "output_type": "stream",
     "text": [
      "compute vocab: 0.00 seconds\n",
      "predict: 1.23 seconds\n"
     ]
    },
    {
     "name": "stdout",
     "output_type": "stream",
     "text": [
      "aws s3 cp \"/shared/CSHL_SPM/sift_labelmap/MD589/MD589-N64-2015.07.30-20.27.19_MD589_2_0191_sift_labelmap.bp\" \"s3://mousebrainatlas-data/CSHL_SPM/sift_labelmap/MD589/MD589-N64-2015.07.30-20.27.19_MD589_2_0191_sift_labelmap.bp\"\n",
      "649718 keypoints\n"
     ]
    },
    {
     "name": "stderr",
     "output_type": "stream",
     "text": [
      "compute vocab: 0.00 seconds\n",
      "predict: 1.29 seconds\n"
     ]
    },
    {
     "name": "stdout",
     "output_type": "stream",
     "text": [
      "aws s3 cp \"/shared/CSHL_SPM/sift_labelmap/MD589/MD589-IHC64-2015.07.31-01.47.28_MD589_2_0191_sift_labelmap.bp\" \"s3://mousebrainatlas-data/CSHL_SPM/sift_labelmap/MD589/MD589-IHC64-2015.07.31-01.47.28_MD589_2_0191_sift_labelmap.bp\"\n",
      "611792 keypoints\n"
     ]
    },
    {
     "name": "stderr",
     "output_type": "stream",
     "text": [
      "compute vocab: 0.00 seconds\n",
      "predict: 1.18 seconds\n"
     ]
    },
    {
     "name": "stdout",
     "output_type": "stream",
     "text": [
      "aws s3 cp \"/shared/CSHL_SPM/sift_labelmap/MD589/MD589-N64-2015.07.30-20.27.19_MD589_3_0192_sift_labelmap.bp\" \"s3://mousebrainatlas-data/CSHL_SPM/sift_labelmap/MD589/MD589-N64-2015.07.30-20.27.19_MD589_3_0192_sift_labelmap.bp\"\n",
      "631930 keypoints\n"
     ]
    },
    {
     "name": "stderr",
     "output_type": "stream",
     "text": [
      "compute vocab: 0.00 seconds\n",
      "predict: 1.23 seconds\n"
     ]
    },
    {
     "name": "stdout",
     "output_type": "stream",
     "text": [
      "aws s3 cp \"/shared/CSHL_SPM/sift_labelmap/MD589/MD589-IHC64-2015.07.31-01.47.28_MD589_3_0192_sift_labelmap.bp\" \"s3://mousebrainatlas-data/CSHL_SPM/sift_labelmap/MD589/MD589-IHC64-2015.07.31-01.47.28_MD589_3_0192_sift_labelmap.bp\"\n",
      "630779 keypoints\n"
     ]
    },
    {
     "name": "stderr",
     "output_type": "stream",
     "text": [
      "compute vocab: 0.00 seconds\n",
      "predict: 1.23 seconds\n"
     ]
    },
    {
     "name": "stdout",
     "output_type": "stream",
     "text": [
      "aws s3 cp \"/shared/CSHL_SPM/sift_labelmap/MD589/MD589-N65-2015.07.30-20.31.20_MD589_1_0193_sift_labelmap.bp\" \"s3://mousebrainatlas-data/CSHL_SPM/sift_labelmap/MD589/MD589-N65-2015.07.30-20.31.20_MD589_1_0193_sift_labelmap.bp\"\n",
      "660331 keypoints\n"
     ]
    },
    {
     "name": "stderr",
     "output_type": "stream",
     "text": [
      "compute vocab: 0.00 seconds\n",
      "predict: 1.25 seconds\n"
     ]
    },
    {
     "name": "stdout",
     "output_type": "stream",
     "text": [
      "aws s3 cp \"/shared/CSHL_SPM/sift_labelmap/MD589/MD589-IHC65-2015.07.31-01.51.22_MD589_1_0193_sift_labelmap.bp\" \"s3://mousebrainatlas-data/CSHL_SPM/sift_labelmap/MD589/MD589-IHC65-2015.07.31-01.51.22_MD589_1_0193_sift_labelmap.bp\"\n",
      "653692 keypoints\n"
     ]
    },
    {
     "name": "stderr",
     "output_type": "stream",
     "text": [
      "compute vocab: 0.00 seconds\n",
      "predict: 1.27 seconds\n"
     ]
    },
    {
     "name": "stdout",
     "output_type": "stream",
     "text": [
      "aws s3 cp \"/shared/CSHL_SPM/sift_labelmap/MD589/MD589-N65-2015.07.30-20.31.20_MD589_2_0194_sift_labelmap.bp\" \"s3://mousebrainatlas-data/CSHL_SPM/sift_labelmap/MD589/MD589-N65-2015.07.30-20.31.20_MD589_2_0194_sift_labelmap.bp\"\n",
      "669624 keypoints\n"
     ]
    },
    {
     "name": "stderr",
     "output_type": "stream",
     "text": [
      "compute vocab: 0.00 seconds\n",
      "predict: 1.28 seconds\n"
     ]
    },
    {
     "name": "stdout",
     "output_type": "stream",
     "text": [
      "aws s3 cp \"/shared/CSHL_SPM/sift_labelmap/MD589/MD589-IHC65-2015.07.31-01.51.22_MD589_2_0194_sift_labelmap.bp\" \"s3://mousebrainatlas-data/CSHL_SPM/sift_labelmap/MD589/MD589-IHC65-2015.07.31-01.51.22_MD589_2_0194_sift_labelmap.bp\"\n",
      "653192 keypoints\n"
     ]
    },
    {
     "name": "stderr",
     "output_type": "stream",
     "text": [
      "compute vocab: 0.00 seconds\n",
      "predict: 1.25 seconds\n"
     ]
    },
    {
     "name": "stdout",
     "output_type": "stream",
     "text": [
      "aws s3 cp \"/shared/CSHL_SPM/sift_labelmap/MD589/MD589-N65-2015.07.30-20.31.20_MD589_3_0195_sift_labelmap.bp\" \"s3://mousebrainatlas-data/CSHL_SPM/sift_labelmap/MD589/MD589-N65-2015.07.30-20.31.20_MD589_3_0195_sift_labelmap.bp\"\n",
      "652166 keypoints\n"
     ]
    },
    {
     "name": "stderr",
     "output_type": "stream",
     "text": [
      "compute vocab: 0.00 seconds\n",
      "predict: 1.35 seconds\n"
     ]
    },
    {
     "name": "stdout",
     "output_type": "stream",
     "text": [
      "aws s3 cp \"/shared/CSHL_SPM/sift_labelmap/MD589/MD589-IHC65-2015.07.31-01.51.22_MD589_3_0195_sift_labelmap.bp\" \"s3://mousebrainatlas-data/CSHL_SPM/sift_labelmap/MD589/MD589-IHC65-2015.07.31-01.51.22_MD589_3_0195_sift_labelmap.bp\"\n",
      "657924 keypoints\n"
     ]
    },
    {
     "name": "stderr",
     "output_type": "stream",
     "text": [
      "compute vocab: 0.00 seconds\n",
      "predict: 1.26 seconds\n"
     ]
    },
    {
     "name": "stdout",
     "output_type": "stream",
     "text": [
      "aws s3 cp \"/shared/CSHL_SPM/sift_labelmap/MD589/MD589-N66-2015.07.30-20.35.16_MD589_1_0196_sift_labelmap.bp\" \"s3://mousebrainatlas-data/CSHL_SPM/sift_labelmap/MD589/MD589-N66-2015.07.30-20.35.16_MD589_1_0196_sift_labelmap.bp\"\n",
      "678268 keypoints\n"
     ]
    },
    {
     "name": "stderr",
     "output_type": "stream",
     "text": [
      "compute vocab: 0.00 seconds\n",
      "predict: 1.28 seconds\n"
     ]
    },
    {
     "name": "stdout",
     "output_type": "stream",
     "text": [
      "aws s3 cp \"/shared/CSHL_SPM/sift_labelmap/MD589/MD589-IHC66-2015.07.31-01.55.14_MD589_1_0196_sift_labelmap.bp\" \"s3://mousebrainatlas-data/CSHL_SPM/sift_labelmap/MD589/MD589-IHC66-2015.07.31-01.55.14_MD589_1_0196_sift_labelmap.bp\"\n",
      "670644 keypoints\n"
     ]
    },
    {
     "name": "stderr",
     "output_type": "stream",
     "text": [
      "compute vocab: 0.00 seconds\n",
      "predict: 8.82 seconds\n"
     ]
    },
    {
     "name": "stdout",
     "output_type": "stream",
     "text": [
      "aws s3 cp \"/shared/CSHL_SPM/sift_labelmap/MD589/MD589-N66-2015.07.30-20.35.16_MD589_2_0197_sift_labelmap.bp\" \"s3://mousebrainatlas-data/CSHL_SPM/sift_labelmap/MD589/MD589-N66-2015.07.30-20.35.16_MD589_2_0197_sift_labelmap.bp\"\n",
      "705398 keypoints\n"
     ]
    },
    {
     "name": "stderr",
     "output_type": "stream",
     "text": [
      "compute vocab: 0.00 seconds\n",
      "predict: 12.52 seconds\n"
     ]
    },
    {
     "name": "stdout",
     "output_type": "stream",
     "text": [
      "aws s3 cp \"/shared/CSHL_SPM/sift_labelmap/MD589/MD589-IHC66-2015.07.31-01.55.14_MD589_2_0197_sift_labelmap.bp\" \"s3://mousebrainatlas-data/CSHL_SPM/sift_labelmap/MD589/MD589-IHC66-2015.07.31-01.55.14_MD589_2_0197_sift_labelmap.bp\"\n",
      "667038 keypoints\n"
     ]
    },
    {
     "name": "stderr",
     "output_type": "stream",
     "text": [
      "compute vocab: 0.00 seconds\n",
      "predict: 13.60 seconds\n"
     ]
    },
    {
     "name": "stdout",
     "output_type": "stream",
     "text": [
      "aws s3 cp \"/shared/CSHL_SPM/sift_labelmap/MD589/MD589-N66-2015.07.30-20.35.16_MD589_3_0198_sift_labelmap.bp\" \"s3://mousebrainatlas-data/CSHL_SPM/sift_labelmap/MD589/MD589-N66-2015.07.30-20.35.16_MD589_3_0198_sift_labelmap.bp\"\n",
      "688837 keypoints\n"
     ]
    },
    {
     "name": "stderr",
     "output_type": "stream",
     "text": [
      "compute vocab: 0.00 seconds\n",
      "predict: 9.44 seconds\n"
     ]
    },
    {
     "name": "stdout",
     "output_type": "stream",
     "text": [
      "aws s3 cp \"/shared/CSHL_SPM/sift_labelmap/MD589/MD589-IHC66-2015.07.31-01.55.14_MD589_3_0198_sift_labelmap.bp\" \"s3://mousebrainatlas-data/CSHL_SPM/sift_labelmap/MD589/MD589-IHC66-2015.07.31-01.55.14_MD589_3_0198_sift_labelmap.bp\"\n",
      "678175 keypoints\n"
     ]
    },
    {
     "name": "stderr",
     "output_type": "stream",
     "text": [
      "compute vocab: 0.00 seconds\n",
      "predict: 10.91 seconds\n"
     ]
    },
    {
     "name": "stdout",
     "output_type": "stream",
     "text": [
      "aws s3 cp \"/shared/CSHL_SPM/sift_labelmap/MD589/MD589-N67-2015.07.30-20.39.13_MD589_1_0199_sift_labelmap.bp\" \"s3://mousebrainatlas-data/CSHL_SPM/sift_labelmap/MD589/MD589-N67-2015.07.30-20.39.13_MD589_1_0199_sift_labelmap.bp\"\n",
      "710478 keypoints\n"
     ]
    },
    {
     "name": "stderr",
     "output_type": "stream",
     "text": [
      "compute vocab: 0.00 seconds\n",
      "predict: 8.76 seconds\n"
     ]
    },
    {
     "name": "stdout",
     "output_type": "stream",
     "text": [
      "aws s3 cp \"/shared/CSHL_SPM/sift_labelmap/MD589/MD589-IHC67-2015.07.31-01.59.20_MD589_1_0199_sift_labelmap.bp\" \"s3://mousebrainatlas-data/CSHL_SPM/sift_labelmap/MD589/MD589-IHC67-2015.07.31-01.59.20_MD589_1_0199_sift_labelmap.bp\"\n",
      "667154 keypoints\n"
     ]
    },
    {
     "name": "stderr",
     "output_type": "stream",
     "text": [
      "compute vocab: 0.00 seconds\n",
      "predict: 1.27 seconds\n"
     ]
    },
    {
     "name": "stdout",
     "output_type": "stream",
     "text": [
      "aws s3 cp \"/shared/CSHL_SPM/sift_labelmap/MD589/MD589-N67-2015.07.30-20.39.13_MD589_2_0200_sift_labelmap.bp\" \"s3://mousebrainatlas-data/CSHL_SPM/sift_labelmap/MD589/MD589-N67-2015.07.30-20.39.13_MD589_2_0200_sift_labelmap.bp\"\n",
      "672281 keypoints\n"
     ]
    },
    {
     "name": "stderr",
     "output_type": "stream",
     "text": [
      "compute vocab: 0.00 seconds\n",
      "predict: 1.30 seconds\n"
     ]
    },
    {
     "name": "stdout",
     "output_type": "stream",
     "text": [
      "aws s3 cp \"/shared/CSHL_SPM/sift_labelmap/MD589/MD589-IHC67-2015.07.31-01.59.20_MD589_2_0200_sift_labelmap.bp\" \"s3://mousebrainatlas-data/CSHL_SPM/sift_labelmap/MD589/MD589-IHC67-2015.07.31-01.59.20_MD589_2_0200_sift_labelmap.bp\"\n",
      "655199 keypoints\n"
     ]
    },
    {
     "name": "stderr",
     "output_type": "stream",
     "text": [
      "compute vocab: 0.00 seconds\n",
      "predict: 1.24 seconds\n"
     ]
    },
    {
     "name": "stdout",
     "output_type": "stream",
     "text": [
      "aws s3 cp \"/shared/CSHL_SPM/sift_labelmap/MD589/MD589-N67-2015.07.30-20.39.13_MD589_3_0201_sift_labelmap.bp\" \"s3://mousebrainatlas-data/CSHL_SPM/sift_labelmap/MD589/MD589-N67-2015.07.30-20.39.13_MD589_3_0201_sift_labelmap.bp\"\n",
      "631588 keypoints\n"
     ]
    },
    {
     "name": "stderr",
     "output_type": "stream",
     "text": [
      "compute vocab: 0.00 seconds\n",
      "predict: 1.47 seconds\n"
     ]
    },
    {
     "name": "stdout",
     "output_type": "stream",
     "text": [
      "aws s3 cp \"/shared/CSHL_SPM/sift_labelmap/MD589/MD589-IHC67-2015.07.31-01.59.20_MD589_3_0201_sift_labelmap.bp\" \"s3://mousebrainatlas-data/CSHL_SPM/sift_labelmap/MD589/MD589-IHC67-2015.07.31-01.59.20_MD589_3_0201_sift_labelmap.bp\"\n",
      "561642 keypoints\n"
     ]
    },
    {
     "name": "stderr",
     "output_type": "stream",
     "text": [
      "compute vocab: 0.00 seconds\n",
      "predict: 1.08 seconds\n"
     ]
    },
    {
     "name": "stdout",
     "output_type": "stream",
     "text": [
      "aws s3 cp \"/shared/CSHL_SPM/sift_labelmap/MD589/MD589-N68-2015.07.30-20.43.04_MD589_1_0202_sift_labelmap.bp\" \"s3://mousebrainatlas-data/CSHL_SPM/sift_labelmap/MD589/MD589-N68-2015.07.30-20.43.04_MD589_1_0202_sift_labelmap.bp\"\n",
      "666421 keypoints\n"
     ]
    },
    {
     "name": "stderr",
     "output_type": "stream",
     "text": [
      "compute vocab: 0.00 seconds\n",
      "predict: 1.31 seconds\n"
     ]
    },
    {
     "name": "stdout",
     "output_type": "stream",
     "text": [
      "aws s3 cp \"/shared/CSHL_SPM/sift_labelmap/MD589/MD589-IHC68-2015.07.31-02.03.18_MD589_1_0202_sift_labelmap.bp\" \"s3://mousebrainatlas-data/CSHL_SPM/sift_labelmap/MD589/MD589-IHC68-2015.07.31-02.03.18_MD589_1_0202_sift_labelmap.bp\"\n",
      "661868 keypoints\n"
     ]
    },
    {
     "name": "stderr",
     "output_type": "stream",
     "text": [
      "compute vocab: 0.00 seconds\n",
      "predict: 1.27 seconds\n"
     ]
    },
    {
     "name": "stdout",
     "output_type": "stream",
     "text": [
      "aws s3 cp \"/shared/CSHL_SPM/sift_labelmap/MD589/MD589-N68-2015.07.30-20.43.04_MD589_2_0203_sift_labelmap.bp\" \"s3://mousebrainatlas-data/CSHL_SPM/sift_labelmap/MD589/MD589-N68-2015.07.30-20.43.04_MD589_2_0203_sift_labelmap.bp\"\n",
      "682101 keypoints\n"
     ]
    },
    {
     "name": "stderr",
     "output_type": "stream",
     "text": [
      "compute vocab: 0.00 seconds\n",
      "predict: 1.31 seconds\n"
     ]
    },
    {
     "name": "stdout",
     "output_type": "stream",
     "text": [
      "aws s3 cp \"/shared/CSHL_SPM/sift_labelmap/MD589/MD589-IHC68-2015.07.31-02.03.18_MD589_2_0203_sift_labelmap.bp\" \"s3://mousebrainatlas-data/CSHL_SPM/sift_labelmap/MD589/MD589-IHC68-2015.07.31-02.03.18_MD589_2_0203_sift_labelmap.bp\"\n",
      "644832 keypoints\n"
     ]
    },
    {
     "name": "stderr",
     "output_type": "stream",
     "text": [
      "compute vocab: 0.00 seconds\n",
      "predict: 1.23 seconds\n"
     ]
    },
    {
     "name": "stdout",
     "output_type": "stream",
     "text": [
      "aws s3 cp \"/shared/CSHL_SPM/sift_labelmap/MD589/MD589-N68-2015.07.30-20.43.04_MD589_3_0204_sift_labelmap.bp\" \"s3://mousebrainatlas-data/CSHL_SPM/sift_labelmap/MD589/MD589-N68-2015.07.30-20.43.04_MD589_3_0204_sift_labelmap.bp\"\n",
      "679222 keypoints\n"
     ]
    },
    {
     "name": "stderr",
     "output_type": "stream",
     "text": [
      "compute vocab: 0.00 seconds\n",
      "predict: 1.30 seconds\n"
     ]
    },
    {
     "name": "stdout",
     "output_type": "stream",
     "text": [
      "aws s3 cp \"/shared/CSHL_SPM/sift_labelmap/MD589/MD589-IHC68-2015.07.31-02.03.18_MD589_3_0204_sift_labelmap.bp\" \"s3://mousebrainatlas-data/CSHL_SPM/sift_labelmap/MD589/MD589-IHC68-2015.07.31-02.03.18_MD589_3_0204_sift_labelmap.bp\"\n",
      "631156 keypoints\n"
     ]
    },
    {
     "name": "stderr",
     "output_type": "stream",
     "text": [
      "compute vocab: 0.00 seconds\n",
      "predict: 1.21 seconds\n"
     ]
    },
    {
     "name": "stdout",
     "output_type": "stream",
     "text": [
      "aws s3 cp \"/shared/CSHL_SPM/sift_labelmap/MD589/MD589-N69-2015.07.30-20.46.59_MD589_1_0205_sift_labelmap.bp\" \"s3://mousebrainatlas-data/CSHL_SPM/sift_labelmap/MD589/MD589-N69-2015.07.30-20.46.59_MD589_1_0205_sift_labelmap.bp\"\n",
      "621286 keypoints\n"
     ]
    },
    {
     "name": "stderr",
     "output_type": "stream",
     "text": [
      "compute vocab: 0.00 seconds\n",
      "predict: 1.20 seconds\n"
     ]
    },
    {
     "name": "stdout",
     "output_type": "stream",
     "text": [
      "aws s3 cp \"/shared/CSHL_SPM/sift_labelmap/MD589/MD589-IHC69-2015.07.31-02.07.15_MD589_1_0205_sift_labelmap.bp\" \"s3://mousebrainatlas-data/CSHL_SPM/sift_labelmap/MD589/MD589-IHC69-2015.07.31-02.07.15_MD589_1_0205_sift_labelmap.bp\"\n",
      "628339 keypoints\n"
     ]
    },
    {
     "name": "stderr",
     "output_type": "stream",
     "text": [
      "compute vocab: 0.00 seconds\n",
      "predict: 1.22 seconds\n"
     ]
    },
    {
     "name": "stdout",
     "output_type": "stream",
     "text": [
      "aws s3 cp \"/shared/CSHL_SPM/sift_labelmap/MD589/MD589-N69-2015.07.30-20.46.59_MD589_2_0206_sift_labelmap.bp\" \"s3://mousebrainatlas-data/CSHL_SPM/sift_labelmap/MD589/MD589-N69-2015.07.30-20.46.59_MD589_2_0206_sift_labelmap.bp\"\n",
      "627573 keypoints\n"
     ]
    },
    {
     "name": "stderr",
     "output_type": "stream",
     "text": [
      "compute vocab: 0.00 seconds\n",
      "predict: 1.19 seconds\n"
     ]
    },
    {
     "name": "stdout",
     "output_type": "stream",
     "text": [
      "aws s3 cp \"/shared/CSHL_SPM/sift_labelmap/MD589/MD589-IHC69-2015.07.31-02.07.15_MD589_2_0206_sift_labelmap.bp\" \"s3://mousebrainatlas-data/CSHL_SPM/sift_labelmap/MD589/MD589-IHC69-2015.07.31-02.07.15_MD589_2_0206_sift_labelmap.bp\"\n",
      "618177 keypoints\n"
     ]
    },
    {
     "name": "stderr",
     "output_type": "stream",
     "text": [
      "compute vocab: 0.00 seconds\n",
      "predict: 1.17 seconds\n"
     ]
    },
    {
     "name": "stdout",
     "output_type": "stream",
     "text": [
      "aws s3 cp \"/shared/CSHL_SPM/sift_labelmap/MD589/MD589-N69-2015.07.30-20.46.59_MD589_3_0207_sift_labelmap.bp\" \"s3://mousebrainatlas-data/CSHL_SPM/sift_labelmap/MD589/MD589-N69-2015.07.30-20.46.59_MD589_3_0207_sift_labelmap.bp\"\n"
     ]
    }
   ],
   "source": [
    "for stack in ['MD589']:\n",
    "    for sec in metadata_cache['valid_sections'][stack]:\n",
    "        labelmap = compute_labelmap(stack=stack, section=sec)\n",
    "        labelmap_fp = DataManager.get_sift_descriptors_labelmap_filepath(stack, section=sec)\n",
    "        create_parent_dir_if_not_exists(labelmap_fp)\n",
    "        bp.pack_ndarray_file(labelmap, labelmap_fp)\n",
    "        upload_to_s3(labelmap_fp)"
   ]
  },
  {
   "cell_type": "code",
   "execution_count": 52,
   "metadata": {
    "collapsed": true
   },
   "outputs": [],
   "source": [
    "structure = '7N'"
   ]
  },
  {
   "cell_type": "code",
   "execution_count": 70,
   "metadata": {},
   "outputs": [],
   "source": [
    "_, patch_locations = DataManager.load_patch_locations(stack=stack, win=win_id, section=sec)"
   ]
  },
  {
   "cell_type": "code",
   "execution_count": null,
   "metadata": {
    "scrolled": true
   },
   "outputs": [
    {
     "name": "stdout",
     "output_type": "stream",
     "text": [
      "153\n"
     ]
    }
   ],
   "source": [
    "# for stack in ['MD589', 'MD594', 'MD585']:\n",
    "for stack in ['MD589']:\n",
    "\n",
    "    patch_size = windowing_settings[win_id]['patch_size']\n",
    "\n",
    "    for sec in metadata_cache['valid_sections'][stack][60:61]:\n",
    "        print sec\n",
    "        labelmap = compute_labelmap(stack=stack, section=sec)\n",
    "        hists_arr0, hists_arr1, hists_arr2 = compute_spm_histograms(labelmap, patch_locations, patch_size=patch_size, M=M)\n"
   ]
  }
 ],
 "metadata": {
  "kernelspec": {
   "display_name": "Python 2",
   "language": "python",
   "name": "python2"
  },
  "language_info": {
   "codemirror_mode": {
    "name": "ipython",
    "version": 2
   },
   "file_extension": ".py",
   "mimetype": "text/x-python",
   "name": "python",
   "nbconvert_exporter": "python",
   "pygments_lexer": "ipython2",
   "version": "2.7.12"
  }
 },
 "nbformat": 4,
 "nbformat_minor": 2
}
