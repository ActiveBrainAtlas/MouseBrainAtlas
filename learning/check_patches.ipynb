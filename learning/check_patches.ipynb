{
 "cells": [
  {
   "cell_type": "code",
   "execution_count": 2,
   "metadata": {
    "collapsed": true
   },
   "outputs": [],
   "source": [
    "%reload_ext autoreload\n",
    "%autoreload 2\n",
    "\n",
    "import cv2\n",
    "\n",
    "import os\n",
    "import sys\n",
    "sys.path.append(os.path.join(os.environ['REPO_DIR'], 'utilities'))\n",
    "from utilities2015 import *\n",
    "\n",
    "from collections import defaultdict\n",
    "\n",
    "from matplotlib.path import Path\n",
    "%matplotlib inline"
   ]
  },
  {
   "cell_type": "code",
   "execution_count": null,
   "metadata": {
    "collapsed": true
   },
   "outputs": [],
   "source": [
    "labels = ['Pn', '12N', 'Gr', \"7N\", '7n', \"5N\", 'VLL', 'LVe', 'SuVe']"
   ]
  },
  {
   "cell_type": "code",
   "execution_count": 1,
   "metadata": {
    "collapsed": true
   },
   "outputs": [],
   "source": [
    "patches_dir = '/oasis/projects/nsf/csd395/yuncong/CSHL_data_patches/'"
   ]
  },
  {
   "cell_type": "code",
   "execution_count": 4,
   "metadata": {
    "collapsed": true
   },
   "outputs": [],
   "source": [
    "filenames = os.listdir(patches_dir)\n",
    "fn_tuples = [f[:-4].split('_') for f in filenames]"
   ]
  },
  {
   "cell_type": "code",
   "execution_count": 12,
   "metadata": {
    "collapsed": true
   },
   "outputs": [],
   "source": [
    "patch_tuples_sorted = [(p,l,s) for p,l,s in sorted(sorted(fn_tuples, key=itemgetter(2)), key=itemgetter(1))]\n",
    "\n",
    "patch_number = defaultdict(dict)\n",
    "\n",
    "for prefix, label, sec in patch_tuples_sorted:\n",
    "    f = '_'.join([prefix, label, sec]) + '.npy'\n",
    "    patches = np.load(patches_dir + f)\n",
    "    \n",
    "    if prefix == 'patches':\n",
    "        patch_number[label][sec] = patches.shape[0]\n",
    "    elif prefix == 'patchesBg':\n",
    "        patch_number[label+'_bg'][sec] = patches.shape[0]\n",
    "        \n",
    "patch_number.default_factory = None"
   ]
  },
  {
   "cell_type": "code",
   "execution_count": 18,
   "metadata": {
    "collapsed": false,
    "scrolled": false
   },
   "outputs": [
    {
     "data": {
      "text/plain": [
       "[('12N', 2184),\n",
       " ('12N_bg', 11215),\n",
       " ('5N', 2745),\n",
       " ('5N_bg', 10127),\n",
       " ('7N', 5589),\n",
       " ('7N_bg', 19880),\n",
       " ('7n', 2515),\n",
       " ('7n_bg', 16084),\n",
       " ('Gr', 1378),\n",
       " ('Gr_bg', 10283),\n",
       " ('LVe', 3306),\n",
       " ('LVe_bg', 9933),\n",
       " ('Pn', 15562),\n",
       " ('Pn_bg', 55255),\n",
       " ('SuVe', 1260),\n",
       " ('SuVe_bg', 6052),\n",
       " ('VLL', 2947),\n",
       " ('VLL_bg', 14656)]"
      ]
     },
     "execution_count": 18,
     "metadata": {},
     "output_type": "execute_result"
    }
   ],
   "source": [
    "sorted([(label, np.sum(ds.values())) for label, ds in patch_number.iteritems()])"
   ]
  },
  {
   "cell_type": "code",
   "execution_count": null,
   "metadata": {
    "collapsed": true
   },
   "outputs": [],
   "source": []
  }
 ],
 "metadata": {
  "kernelspec": {
   "display_name": "Python 2",
   "language": "python",
   "name": "python2"
  },
  "language_info": {
   "codemirror_mode": {
    "name": "ipython",
    "version": 2
   },
   "file_extension": ".py",
   "mimetype": "text/x-python",
   "name": "python",
   "nbconvert_exporter": "python",
   "pygments_lexer": "ipython2",
   "version": "2.7.3"
  }
 },
 "nbformat": 4,
 "nbformat_minor": 0
}
