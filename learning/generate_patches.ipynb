{
 "cells": [
  {
   "cell_type": "code",
   "execution_count": 1,
   "metadata": {
    "collapsed": true
   },
   "outputs": [],
   "source": [
    "%reload_ext autoreload\n",
    "%autoreload 2\n",
    "\n",
    "import cv2\n",
    "\n",
    "import os\n",
    "import sys\n",
    "sys.path.append(os.path.join(os.environ['REPO_DIR'], 'utilities'))\n",
    "from utilities2015 import *\n",
    "\n",
    "from collections import defaultdict\n",
    "\n",
    "from matplotlib.path import Path\n",
    "%matplotlib inline\n",
    "\n",
    "from FeatureExtractor import *"
   ]
  },
  {
   "cell_type": "code",
   "execution_count": 2,
   "metadata": {
    "collapsed": true
   },
   "outputs": [],
   "source": [
    "first, last = section_range_lookup['MD589']\n",
    "dms = dict([(sc, DataManager(stack='MD589', section=sc, segm_params_id='tSLIC200', load_mask=False)) \n",
    "            for sc in range(first, last+1)])"
   ]
  },
  {
   "cell_type": "code",
   "execution_count": 3,
   "metadata": {
    "collapsed": true
   },
   "outputs": [],
   "source": [
    "labels = ['Pn', '12N', 'Gr', \"7N\", '7n', \"5N\", 'VLL', 'LVe', 'SuVe']"
   ]
  },
  {
   "cell_type": "code",
   "execution_count": 4,
   "metadata": {
    "collapsed": true
   },
   "outputs": [],
   "source": [
    "label_polygon = pickle.load(open(os.environ['REPO_DIR']+'/database/label_polygon.pkl', 'r'))"
   ]
  },
  {
   "cell_type": "code",
   "execution_count": 5,
   "metadata": {
    "collapsed": true
   },
   "outputs": [],
   "source": [
    "patch_dir = '/home/yuncong/CSHL_data_patches/'"
   ]
  },
  {
   "cell_type": "code",
   "execution_count": 7,
   "metadata": {
    "collapsed": false
   },
   "outputs": [],
   "source": [
    "h, w = dms[first].image_height, dms[first].image_width\n",
    "\n",
    "patch_size = 224\n",
    "half_size = patch_size/2\n",
    "stride = 56\n",
    "\n",
    "# grid_ys, grid_xs = np.meshgrid(np.arange(half_size, h-half_size, stride), \n",
    "#                                np.arange(half_size, w-half_size, stride), \n",
    "#                                indexing='ij')"
   ]
  },
  {
   "cell_type": "code",
   "execution_count": 8,
   "metadata": {
    "collapsed": true
   },
   "outputs": [],
   "source": [
    "xs, ys = np.meshgrid(np.arange(half_size, h-half_size), np.arange(half_size, w-half_size), indexing='ij')"
   ]
  },
  {
   "cell_type": "code",
   "execution_count": 10,
   "metadata": {
    "collapsed": false
   },
   "outputs": [],
   "source": [
    "for sec in range(first, last+1):\n",
    "#     labelmap = np.zeros((grid_ys.size,), np.uint8)\n",
    "\n",
    "    labelmap = np.zeros((xs.size,), np.uint8)\n",
    "\n",
    "    for label_ind, label in enumerate(labels):\n",
    "        if sec not in label_polygon[label]:\n",
    "            continue\n",
    "        vertices = label_polygon[label][sec]\n",
    "        polygon_path = Path(vertices)\n",
    "\n",
    "    #     xmin, ymin  = np.min(vertices, axis=0).astype(np.int)\n",
    "    #     xmax, ymax  = np.max(vertices, axis=0).astype(np.int)\n",
    "    #     width = xmax - xmin + 1\n",
    "    #     height = ymax - ymin + 1\n",
    "\n",
    "    #     xs, ys = np.meshgrid(np.arange(xmin, xmax+1), np.arange(ymin, ymax+1))\n",
    "#         indices_inside = np.where(polygon_path.contains_points(np.c_[grid_xs.flat, grid_ys.flat]))[0]\n",
    "\n",
    "        indices_inside = np.where(polygon_path.contains_points(np.c_[xs.flat, ys.flat]))[0]\n",
    "        labelmap[indices_inside] = label_ind + 1\n",
    "    \n",
    "#     np.save(patch_dir+'/dense_labelmap/labelmap_%d.npy' % sec, labelmap)\n",
    "    np.save(patch_dir+'/dense_labelmap/labelmap_%d.npy' % sec, labelmap.reshape(xs.shape))"
   ]
  },
  {
   "cell_type": "code",
   "execution_count": 11,
   "metadata": {
    "collapsed": true
   },
   "outputs": [],
   "source": [
    "l = np.load(patch_dir+'/dense_labelmap/labelmap_110.npy')"
   ]
  },
  {
   "cell_type": "code",
   "execution_count": 14,
   "metadata": {
    "collapsed": false
   },
   "outputs": [
    {
     "data": {
      "text/plain": [
       "array([0, 1, 2, 3], dtype=uint8)"
      ]
     },
     "execution_count": 14,
     "metadata": {},
     "output_type": "execute_result"
    }
   ],
   "source": [
    "np.unique(l)"
   ]
  },
  {
   "cell_type": "code",
   "execution_count": null,
   "metadata": {
    "collapsed": true
   },
   "outputs": [],
   "source": [
    "for sec in range(first, last+1):\n",
    "    labelmap = np.zeros((grid_ys.size,), np.uint8)\n",
    "\n",
    "    for label_ind, label in enumerate(labels):\n",
    "        if sec not in label_polygon[label]:\n",
    "            continue\n",
    "        vertices = label_polygon[label][sec]\n",
    "        polygon_path = Path(vertices)\n",
    "\n",
    "    #     xmin, ymin  = np.min(vertices, axis=0).astype(np.int)\n",
    "    #     xmax, ymax  = np.max(vertices, axis=0).astype(np.int)\n",
    "    #     width = xmax - xmin + 1\n",
    "    #     height = ymax - ymin + 1\n",
    "\n",
    "    #     xs, ys = np.meshgrid(np.arange(xmin, xmax+1), np.arange(ymin, ymax+1))\n",
    "        indices_inside = np.where(polygon_path.contains_points(np.c_[grid_xs.flat, grid_ys.flat]))[0]\n",
    "        labelmap[indices_inside] = label_ind + 1\n",
    "        \n",
    "    np.save(patch_dir+'/labelmap/labelmap_%d.npy' % sec, labelmap)"
   ]
  },
  {
   "cell_type": "code",
   "execution_count": null,
   "metadata": {
    "collapsed": true
   },
   "outputs": [],
   "source": [
    "labelmap = {}\n",
    "neighbor_labels = defaultdict(set)\n",
    "landmark_positions = defaultdict(dict)\n",
    "bg_positions = defaultdict(dict)\n",
    "\n",
    "for sec in range(first, last+1):\n",
    "    labelmap[sec] = np.load(patch_dir+'/labelmap/labelmap_%d.npy' % sec).reshape(grid_xs.shape)\n",
    "    \n",
    "    for label_ind, label in enumerate(labels):\n",
    "        \n",
    "        if label_ind + 1 in labelmap[sec]:\n",
    "            ys, xs = np.where(labelmap[sec] == label_ind + 1)\n",
    "            \n",
    "            landmark_positions[sec][label] = np.c_[xs, ys]\n",
    "            \n",
    "            ymin = np.min(ys)\n",
    "            ymax = np.max(ys)\n",
    "            xmin = np.min(xs)\n",
    "            xmax = np.max(xs)\n",
    "            \n",
    "            a = set(np.unique(labelmap[sec][max(0, ymin-500/stride):ymax+500/stride, \n",
    "                                            max(0, xmin-500/stride):xmax+500/stride])) - {0, label_ind+1}\n",
    "            neighbor_labels[label_ind] |= set([i-1 for i in a])\n",
    "            \n",
    "            surround_ys, surround_xs = np.where(labelmap[sec][max(0, ymin-500/stride):ymax+500/stride, \n",
    "                                                              max(0, xmin-500/stride):xmax+500/stride] == 0)\n",
    "            bg_positions[sec][label] = np.c_[surround_xs + max(0, xmin-500/stride),\n",
    "                                             surround_ys + max(0, ymin-500/stride)]\n",
    "            \n",
    "#             print sec, label, set([labels[i-1] for i in a])\n",
    "            \n",
    "landmark_positions.default_factory = None\n",
    "neighbor_labels.default_factory = None\n",
    "bg_positions.default_factory = None"
   ]
  },
  {
   "cell_type": "code",
   "execution_count": null,
   "metadata": {
    "collapsed": true
   },
   "outputs": [],
   "source": [
    "pickle.dump(landmark_positions, open(patch_dir+'landmark_positions.pkl', 'wb'))\n",
    "pickle.dump(neighbor_labels, open(patch_dir+'neighbor_labels.pkl', 'wb'))\n",
    "pickle.dump(bg_positions, open(patch_dir+'bg_positions.pkl', 'wb'))"
   ]
  },
  {
   "cell_type": "code",
   "execution_count": null,
   "metadata": {
    "collapsed": false
   },
   "outputs": [],
   "source": [
    "# z = np.zeros_like(grid_xs)\n",
    "# for label, vertices in bg_positions[106].iteritems():\n",
    "#     for x, y in vertices:\n",
    "#         z[y,x] = labels.index(label) + 1\n",
    "# plt.matshow(z);"
   ]
  },
  {
   "cell_type": "code",
   "execution_count": null,
   "metadata": {
    "collapsed": false
   },
   "outputs": [],
   "source": [
    "# nearby landmark classes\n",
    "[(labels[label_ind], [labels[n] for n in neighbors]) for label_ind, neighbors in neighbor_labels.iteritems()]"
   ]
  },
  {
   "cell_type": "code",
   "execution_count": null,
   "metadata": {
    "collapsed": false
   },
   "outputs": [],
   "source": [
    "# for sec in range(first, last+1):\n",
    "for sec in range(73, last+1):\n",
    "    \n",
    "    sys.stderr.write('%d\\n'%sec)\n",
    "    \n",
    "    if sec in bg_positions:\n",
    "\n",
    "        dms[sec]._load_image(['rgb'])\n",
    "        \n",
    "        for label_ind, label in enumerate(labels):\n",
    "            if label not in bg_positions[sec]: continue\n",
    "\n",
    "            patches = []\n",
    "\n",
    "            inds = bg_positions[sec][label]\n",
    "            xs = grid_xs[inds[:,1], inds[:,0]]\n",
    "            ys = grid_ys[inds[:,1], inds[:,0]]\n",
    "            for i in range(xs.size):\n",
    "                x = xs[i]\n",
    "                y = ys[i]\n",
    "                patch = dms[sec].image_rgb[y-half_size:y+half_size, x-half_size:x+half_size]\n",
    "                patches.append(patch)\n",
    "\n",
    "            patches_arr = np.array([img_as_ubyte(p) for p in patches], np.uint8)\n",
    "            np.save(patch_dir+'/patches/patchesBg_%s_%d.npy'%(label, sec), patches_arr)\n",
    "        \n",
    "    if sec in landmark_positions:\n",
    "\n",
    "        dms[sec]._load_image(['rgb'])\n",
    "        \n",
    "        for label_ind, label in enumerate(labels):\n",
    "            if label not in landmark_positions[sec]: continue\n",
    "\n",
    "            patches = []\n",
    "\n",
    "            inds = landmark_positions[sec][label]\n",
    "            xs = grid_xs[inds[:,1], inds[:,0]]\n",
    "            ys = grid_ys[inds[:,1], inds[:,0]]\n",
    "            for i in range(xs.size):\n",
    "                x = xs[i]\n",
    "                y = ys[i]\n",
    "                patch = dms[sec].image_rgb[y-half_size:y+half_size, x-half_size:x+half_size]\n",
    "                patches.append(patch)\n",
    "\n",
    "            patches_arr = np.array([img_as_ubyte(p) for p in patches], np.uint8)\n",
    "            np.save(patch_dir+'/patches/patches_%s_%d.npy'%(label, sec), patches_arr)\n",
    "                \n",
    "    if hasattr(dms[sec], 'image_rgb'):        \n",
    "        del dms[sec].image_rgb"
   ]
  },
  {
   "cell_type": "code",
   "execution_count": null,
   "metadata": {
    "collapsed": true
   },
   "outputs": [],
   "source": []
  }
 ],
 "metadata": {
  "kernelspec": {
   "display_name": "Python 2",
   "language": "python",
   "name": "python2"
  },
  "language_info": {
   "codemirror_mode": {
    "name": "ipython",
    "version": 2
   },
   "file_extension": ".py",
   "mimetype": "text/x-python",
   "name": "python",
   "nbconvert_exporter": "python",
   "pygments_lexer": "ipython2",
   "version": "2.7.3"
  }
 },
 "nbformat": 4,
 "nbformat_minor": 0
}
