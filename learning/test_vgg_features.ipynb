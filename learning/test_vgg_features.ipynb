{
 "cells": [
  {
   "cell_type": "code",
   "execution_count": 252,
   "metadata": {
    "collapsed": false
   },
   "outputs": [],
   "source": [
    "%reload_ext autoreload\n",
    "%autoreload 2\n",
    "\n",
    "import cv2\n",
    "\n",
    "import os\n",
    "import sys\n",
    "sys.path.append(os.path.join(os.environ['REPO_DIR'], 'utilities'))\n",
    "from utilities2015 import *\n",
    "\n",
    "from collections import defaultdict\n",
    "\n",
    "from matplotlib.path import Path\n",
    "%matplotlib inline\n",
    "\n",
    "from enum import Enum\n",
    "\n",
    "class PolygonType(Enum):\n",
    "    CLOSED = 'closed'\n",
    "    OPEN = 'open'\n",
    "    TEXTURE = 'textured'\n",
    "    TEXTURE_WITH_CONTOUR = 'texture with contour'\n",
    "    DIRECTION = 'directionality'\n",
    "\n",
    "from FeatureExtractor import *"
   ]
  },
  {
   "cell_type": "code",
   "execution_count": 331,
   "metadata": {
    "collapsed": true
   },
   "outputs": [],
   "source": [
    "patch_dir = '/home/yuncong/CSHL_data_patches/'"
   ]
  },
  {
   "cell_type": "code",
   "execution_count": 9,
   "metadata": {
    "collapsed": false,
    "scrolled": true
   },
   "outputs": [],
   "source": [
    "first, last = section_range_lookup['MD589']\n",
    "dms = dict([(sc, DataManager(stack='MD589', section=sc, segm_params_id='tSLIC200', load_mask=False)) \n",
    "            for sc in range(first, last+1)])"
   ]
  },
  {
   "cell_type": "code",
   "execution_count": 269,
   "metadata": {
    "collapsed": false
   },
   "outputs": [
    {
     "name": "stdout",
     "output_type": "stream",
     "text": [
      "120\n"
     ]
    }
   ],
   "source": [
    "landmark_images = {}\n",
    "adjusted_vertices = {}\n",
    "\n",
    "sec = 120\n",
    "\n",
    "print sec\n",
    "\n",
    "usr, ts, suffix, props =  dms[sec].load_proposal_review_result('yuncong', 'latest', 'consolidated')\n",
    "vertices = np.array(props[0]['vertices'])\n",
    "\n",
    "xmin, ymin  = np.min(vertices, axis=0).astype(np.int) - 500\n",
    "xmax, ymax  = np.max(vertices, axis=0).astype(np.int) + 500\n",
    "\n",
    "dms[sec]._load_image(['rgb'])\n",
    "# viz = dms[sec].image_rgb[ymin:ymax+1, xmin:xmax+1].copy()\n",
    "# landmark_images[sec] = viz\n",
    "# del dms[sec].image_rgb"
   ]
  },
  {
   "cell_type": "code",
   "execution_count": 274,
   "metadata": {
    "collapsed": false
   },
   "outputs": [],
   "source": [
    "patch_size = 224\n",
    "half_size = patch_size/2\n",
    "stride = 56\n",
    "\n",
    "h, w = dms[sec].image_rgb.shape[:2]\n",
    "\n",
    "ys, xs = np.meshgrid(np.arange(ymin+half_size, ymax-half_size, stride), \n",
    "                     np.arange(xmin+half_size, xmax-half_size, stride), indexing='ij')\n",
    "\n",
    "# ys, xs = np.meshgrid(np.arange(half_size, h-half_size, stride), np.arange(half_size, w-half_size, stride))\n",
    "\n",
    "# sample_locations = []\n",
    "# polygon_path = Path(vertices)\n",
    "# for x, y in np.c_[xs.flat, ys.flat]:\n",
    "# #     if np.all(polygon_path.contains_points([(x-half_size, y-half_size),(x+half_size, y-half_size),\n",
    "# #                                         (x+half_size, y+half_size),(x-half_size, y+half_size)])):\n",
    "#     sample_locations.append((x,y))\n",
    "    \n",
    "sample_locations = np.c_[xs.flat, ys.flat]"
   ]
  },
  {
   "cell_type": "code",
   "execution_count": 255,
   "metadata": {
    "collapsed": true
   },
   "outputs": [],
   "source": [
    "# patches = []\n",
    "# for x, y in sample_locations:\n",
    "#     patch = dms[sec].image_rgb[y-half_size:y+half_size, x-half_size:x+half_size]\n",
    "#     patches.append(patch)"
   ]
  },
  {
   "cell_type": "code",
   "execution_count": 276,
   "metadata": {
    "collapsed": false
   },
   "outputs": [],
   "source": [
    "# adjusted_vertices[sec] = vertices - (xmin, ymin)\n",
    "\n",
    "patches_allSections = {}\n",
    "patch_locations_allSections = {}\n",
    "patches = []\n",
    "patch_locations = []\n",
    "\n",
    "# h, w = landmark_images[sec].shape[:2]\n",
    "# h, w = dms[sec].image_rgb.shape[:2]\n",
    "# ys, xs = np.meshgrid(np.arange(half_size, h-half_size, stride), np.arange(half_size, w-half_size, stride))\n",
    "# polygon_path = Path(adjusted_vertices[sec])\n",
    "# for x, y in np.c_[xs.flat, ys.flat]:\n",
    "\n",
    "for x, y in sample_locations:\n",
    "\n",
    "#     if np.all(polygon_path.contains_points([(x-half_size, y-half_size),(x+half_size, y-half_size),\n",
    "#                                             (x+half_size, y+half_size),(x-half_size, y+half_size)])):\n",
    "#     patch = landmark_images[sec][y-half_size:y+half_size, x-half_size:x+half_size].copy()\n",
    "\n",
    "    patch = dms[sec].image_rgb[y-half_size:y+half_size, x-half_size:x+half_size]\n",
    "    patches.append(patch)\n",
    "    patch_locations.append((x,y))\n",
    "        \n",
    "patches_allSections[sec] = patches\n",
    "patch_locations_allSections[sec] = patch_locations"
   ]
  },
  {
   "cell_type": "code",
   "execution_count": 277,
   "metadata": {
    "collapsed": false
   },
   "outputs": [
    {
     "name": "stdout",
     "output_type": "stream",
     "text": [
      "1833 patches\n"
     ]
    }
   ],
   "source": [
    "all_patches = [p for sec, patches in patches_allSections.iteritems() for p in patches]\n",
    "print len(all_patches), 'patches'"
   ]
  },
  {
   "cell_type": "code",
   "execution_count": 278,
   "metadata": {
    "collapsed": false
   },
   "outputs": [],
   "source": [
    "all_patches_arr = np.array([img_as_ubyte(p) for p in all_patches], np.uint8)"
   ]
  },
  {
   "cell_type": "code",
   "execution_count": 279,
   "metadata": {
    "collapsed": true
   },
   "outputs": [],
   "source": [
    "np.save(patch_dir+'/test_patches.npy', all_patches_arr)"
   ]
  },
  {
   "cell_type": "code",
   "execution_count": null,
   "metadata": {
    "collapsed": true
   },
   "outputs": [],
   "source": [
    "# os.environ['MODEL_DIR'] = '/oasis/projects/nsf/csd395/jiaxuzhu/model/'\n",
    "# model_dir = os.environ['MODEL_DIR']+'/vgg16'\n",
    "\n",
    "# fe = FeatureExtractor(model_dir, batch_size=16, ctx='cpu')\n",
    "\n",
    "# images = all_patches_arr.transpose(0, 3, 1, 2)\n",
    "# print images.shape\n",
    "\n",
    "# features = fe.extract(images)\n",
    "# print features.shape\n",
    "# # np.save(os.path.join(data_dir, '%s_features.npy' % name), features)"
   ]
  },
  {
   "cell_type": "code",
   "execution_count": 280,
   "metadata": {
    "collapsed": true
   },
   "outputs": [],
   "source": [
    "features = np.load(patch_dir+'/test_features.npy')"
   ]
  },
  {
   "cell_type": "code",
   "execution_count": 326,
   "metadata": {
    "collapsed": true
   },
   "outputs": [],
   "source": [
    "# label1 = 'Gr'\n",
    "label1 = '12N'"
   ]
  },
  {
   "cell_type": "code",
   "execution_count": 327,
   "metadata": {
    "collapsed": false
   },
   "outputs": [],
   "source": [
    "coef = np.load('classifiers/%s_non%s_linear_svm_coef.npy' % (label1, label1))\n",
    "intercept = np.load('classifiers/%s_non%s_linear_svm_intercept.npy' % (label1, label1))\n",
    "selected_feature_indices = np.load('classifiers/%s_non%s_linear_svm_selectedFeatureIndices.npy' % (label1, label1))"
   ]
  },
  {
   "cell_type": "code",
   "execution_count": 328,
   "metadata": {
    "collapsed": false
   },
   "outputs": [],
   "source": [
    "scores = np.dot(features[:, selected_feature_indices], np.squeeze(coef)) + intercept\n",
    "Y = np.sign(scores)"
   ]
  },
  {
   "cell_type": "code",
   "execution_count": 322,
   "metadata": {
    "collapsed": false
   },
   "outputs": [],
   "source": [
    "# cv2.polylines(viz2, [np.int32(adjusted_vertices[sec])], True, (255,0,255), 5)\n",
    "# cv2.polylines(viz2, [np.int32( vertices_Gr - (xmin, ymin))], True, (0,255,255), 5)"
   ]
  },
  {
   "cell_type": "code",
   "execution_count": 329,
   "metadata": {
    "collapsed": false
   },
   "outputs": [],
   "source": [
    "viz2 = img_as_ubyte(viz.copy())\n",
    "\n",
    "thresh = -1\n",
    "\n",
    "for (x, y), sc in zip(np.array(patch_locations) - (xmin, ymin), scores):\n",
    "    if sc > thresh:\n",
    "        c = (0,255,0)\n",
    "    else:\n",
    "        c = (255,0,0)\n",
    "#     cv2.rectangle(viz2, (x-half_size, y-half_size), (x+half_size, y+half_size), c, 5)\n",
    "    cv2.circle(viz2, (x,y), 10, c, 5)"
   ]
  },
  {
   "cell_type": "code",
   "execution_count": 303,
   "metadata": {
    "collapsed": false
   },
   "outputs": [
    {
     "name": "stdout",
     "output_type": "stream",
     "text": [
      "0\n",
      "47\n",
      "94\n"
     ]
    }
   ],
   "source": [
    "patch_locations[0]\n",
    "for i in range(100):\n",
    "    if patch_locations[i][0] == patch_locations[0][0]:\n",
    "        print i"
   ]
  },
  {
   "cell_type": "code",
   "execution_count": 330,
   "metadata": {
    "collapsed": false
   },
   "outputs": [
    {
     "data": {
      "image/png": "[encoded data removed]",
      "text/plain": [
       "<matplotlib.figure.Figure at 0x2b2f22ff0c10>"
      ]
     },
     "metadata": {},
     "output_type": "display_data"
    }
   ],
   "source": [
    "plt.matshow(scores.reshape((1833/47, 47)));\n",
    "plt.colorbar();"
   ]
  },
  {
   "cell_type": "code",
   "execution_count": null,
   "metadata": {
    "collapsed": false
   },
   "outputs": [],
   "source": [
    "plt.figure(figsize=(20,20));\n",
    "plt.imshow(viz2);"
   ]
  },
  {
   "cell_type": "code",
   "execution_count": 80,
   "metadata": {
    "collapsed": true
   },
   "outputs": [],
   "source": [
    "plt.imsave('../public/figures/labelmap_score%.2f.jpg'%thresh, viz2)"
   ]
  },
  {
   "cell_type": "code",
   "execution_count": null,
   "metadata": {
    "collapsed": false
   },
   "outputs": [],
   "source": [
    "display(viz2)"
   ]
  }
 ],
 "metadata": {
  "kernelspec": {
   "display_name": "Python 2",
   "language": "python",
   "name": "python2"
  },
  "language_info": {
   "codemirror_mode": {
    "name": "ipython",
    "version": 2
   },
   "file_extension": ".py",
   "mimetype": "text/x-python",
   "name": "python",
   "nbconvert_exporter": "python",
   "pygments_lexer": "ipython2",
   "version": "2.7.3"
  }
 },
 "nbformat": 4,
 "nbformat_minor": 0
}
