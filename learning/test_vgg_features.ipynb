{
 "cells": [
  {
   "cell_type": "code",
   "execution_count": 2,
   "metadata": {
    "collapsed": true
   },
   "outputs": [],
   "source": [
    "%reload_ext autoreload\n",
    "%autoreload 2\n",
    "\n",
    "import cv2\n",
    "\n",
    "import os\n",
    "import sys\n",
    "sys.path.append(os.path.join(os.environ['REPO_DIR'], 'utilities'))\n",
    "from utilities2015 import *\n",
    "\n",
    "from collections import defaultdict\n",
    "\n",
    "from matplotlib.path import Path\n",
    "%matplotlib inline"
   ]
  },
  {
   "cell_type": "code",
   "execution_count": 3,
   "metadata": {
    "collapsed": false
   },
   "outputs": [],
   "source": [
    "first, last = section_range_lookup['MD589']\n",
    "dms = dict([(sc, DataManager(stack='MD589', section=sc, segm_params_id='tSLIC200', load_mask=False)) \n",
    "            for sc in range(first, last)])"
   ]
  },
  {
   "cell_type": "code",
   "execution_count": 6,
   "metadata": {
    "collapsed": false
   },
   "outputs": [],
   "source": [
    "sys.path.append('/oasis/projects/nsf/csd395/yuncong/mxnet/python')"
   ]
  },
  {
   "cell_type": "code",
   "execution_count": 7,
   "metadata": {
    "collapsed": false
   },
   "outputs": [],
   "source": [
    "from FeatureExtractor import *"
   ]
  },
  {
   "cell_type": "code",
   "execution_count": 9,
   "metadata": {
    "collapsed": false
   },
   "outputs": [],
   "source": [
    "dm = dms[120]"
   ]
  },
  {
   "cell_type": "code",
   "execution_count": 11,
   "metadata": {
    "collapsed": true
   },
   "outputs": [],
   "source": [
    "from enum import Enum\n",
    "\n",
    "class ProposalType(Enum):\n",
    "    GLOBAL = 'global'\n",
    "    LOCAL = 'local'\n",
    "    FREEFORM = 'freeform'\n",
    "    ALGORITHM = 'algorithm'\n",
    "    \n",
    "class PolygonType(Enum):\n",
    "    CLOSED = 'closed'\n",
    "    OPEN = 'open'\n",
    "    TEXTURE = 'textured'\n",
    "    TEXTURE_WITH_CONTOUR = 'texture with contour'\n",
    "    DIRECTION = 'directionality'"
   ]
  },
  {
   "cell_type": "code",
   "execution_count": 54,
   "metadata": {
    "collapsed": false
   },
   "outputs": [
    {
     "name": "stdout",
     "output_type": "stream",
     "text": [
      "120\n",
      "1 patches\n"
     ]
    }
   ],
   "source": [
    "landmark_images = {}\n",
    "adjusted_vertices = {}\n",
    "\n",
    "sec = 120\n",
    "\n",
    "print sec\n",
    "\n",
    "usr, ts, suffix, props = dm.load_proposal_review_result('yuncong', 'latest', 'consolidated')\n",
    "\n",
    "vertices = np.array(props[1]['vertices'])\n",
    "\n",
    "xmin, ymin  = np.min(vertices, axis=0).astype(np.int) - 300\n",
    "xmax, ymax  = np.max(vertices, axis=0).astype(np.int) + 300\n",
    "\n",
    "dms[sec]._load_image(['rgb'])\n",
    "viz = dms[sec].image_rgb[ymin:ymax+1, xmin:xmax+1].copy()\n",
    "landmark_images[sec] = viz\n",
    "del dms[sec].image_rgb\n",
    "\n",
    "adjusted_vertices[sec] = vertices - (xmin, ymin)\n",
    "\n",
    "patch_size = 224\n",
    "half_size = patch_size/2\n",
    "stride = 112\n",
    "\n",
    "patches_allSections = {}\n",
    "patches = []\n",
    "\n",
    "h, w = landmark_images[sec].shape[:2]\n",
    "ys, xs = np.meshgrid(np.arange(half_size, h-half_size, stride), np.arange(half_size, w-half_size, stride))\n",
    "polygon_path = Path(adjusted_vertices[sec])\n",
    "for x, y in np.c_[xs.flat, ys.flat]:\n",
    "    if np.all(polygon_path.contains_points([(x-half_size, y-half_size),(x+half_size, y-half_size),\n",
    "                                            (x+half_size, y+half_size),(x-half_size, y+half_size)])):\n",
    "        patch = landmark_images[sec][y-half_size:y+half_size, x-half_size:x+half_size].copy()\n",
    "        patches.append(patch)\n",
    "patches_allSections[sec] = patches\n",
    "\n",
    "\n",
    "all_patches = [p for sec, patches in patches_allSections.iteritems() for p in patches]\n",
    "print len(all_patches), 'patches'"
   ]
  },
  {
   "cell_type": "code",
   "execution_count": 56,
   "metadata": {
    "collapsed": false
   },
   "outputs": [],
   "source": [
    "all_patches_arr = np.array([img_as_ubyte(p) for p in all_patches], np.uint8)"
   ]
  },
  {
   "cell_type": "code",
   "execution_count": 57,
   "metadata": {
    "collapsed": false
   },
   "outputs": [
    {
     "name": "stdout",
     "output_type": "stream",
     "text": [
      "(37, 3, 224, 224)\n",
      "(37, 4096)\n"
     ]
    }
   ],
   "source": [
    "model_dir = '/oasis/projects/nsf/csd395/jiaxuzhu/model/vgg16'\n",
    "\n",
    "fe = FeatureExtractor(model_dir, batch_size=16, ctx='cpu')\n",
    "\n",
    "images = all_patches_arr.transpose(0, 3, 1, 2)\n",
    "print images.shape\n",
    "\n",
    "features = fe.extract(images)\n",
    "print features.shape\n",
    "# np.save(os.path.join(data_dir, '%s_features.npy' % name), features)"
   ]
  },
  {
   "cell_type": "code",
   "execution_count": 58,
   "metadata": {
    "collapsed": true
   },
   "outputs": [],
   "source": [
    "label1 = '12N'\n",
    "label2 = 'Gr'"
   ]
  },
  {
   "cell_type": "code",
   "execution_count": 59,
   "metadata": {
    "collapsed": false
   },
   "outputs": [],
   "source": [
    "coef = np.load('%s_%s_linear_svm_coef.npy' % (label1, label2))\n",
    "intercept = np.load('%s_%s_linear_svm_intercept.npy' % (label1, label2))\n",
    "selected_feature_indices = np.load('%s_%s_linear_svm_selectedFeatureIndices.npy' % (label1, label2))"
   ]
  },
  {
   "cell_type": "code",
   "execution_count": 60,
   "metadata": {
    "collapsed": false
   },
   "outputs": [],
   "source": [
    "y = np.dot(features[:, selected_feature_indices], np.squeeze(coef)) + intercept\n",
    "Y = np.sign(y)"
   ]
  },
  {
   "cell_type": "code",
   "execution_count": 61,
   "metadata": {
    "collapsed": false
   },
   "outputs": [
    {
     "data": {
      "text/plain": [
       "array([-1., -1., -1., -1., -1., -1., -1., -1., -1., -1., -1., -1., -1.,\n",
       "       -1., -1., -1., -1., -1., -1., -1., -1., -1., -1., -1., -1., -1.,\n",
       "       -1., -1., -1., -1.,  1.,  1.,  1.,  1.,  1.,  1., -1.])"
      ]
     },
     "execution_count": 61,
     "metadata": {},
     "output_type": "execute_result"
    }
   ],
   "source": [
    "Y"
   ]
  },
  {
   "cell_type": "code",
   "execution_count": null,
   "metadata": {
    "collapsed": true
   },
   "outputs": [],
   "source": []
  }
 ],
 "metadata": {
  "kernelspec": {
   "display_name": "Python 2",
   "language": "python",
   "name": "python2"
  },
  "language_info": {
   "codemirror_mode": {
    "name": "ipython",
    "version": 2
   },
   "file_extension": ".py",
   "mimetype": "text/x-python",
   "name": "python",
   "nbconvert_exporter": "python",
   "pygments_lexer": "ipython2",
   "version": "2.7.3"
  }
 },
 "nbformat": 4,
 "nbformat_minor": 0
}
