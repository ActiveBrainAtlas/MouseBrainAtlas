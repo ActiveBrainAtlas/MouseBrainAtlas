{
 "cells": [
  {
   "cell_type": "code",
   "execution_count": 1,
   "metadata": {
    "collapsed": false
   },
   "outputs": [
    {
     "name": "stdout",
     "output_type": "stream",
     "text": [
      "Setting environment for Gordon\n"
     ]
    },
    {
     "name": "stderr",
     "output_type": "stream",
     "text": [
      "No vtk\n",
      "Cannot import mxnet.\n"
     ]
    }
   ],
   "source": [
    "%load_ext autoreload\n",
    "%autoreload 2\n",
    "\n",
    "import numpy as np\n",
    "\n",
    "import sys\n",
    "import os\n",
    "\n",
    "sys.path.append(os.environ['REPO_DIR'] + '/utilities')\n",
    "from utilities2015 import *\n",
    "from metadata import *\n",
    "from data_manager import *\n",
    "\n",
    "from learning_utilities import *\n",
    "\n",
    "import matplotlib.pyplot as plt\n",
    "%matplotlib inline\n",
    "\n",
    "from joblib import Parallel, delayed\n",
    "import time"
   ]
  },
  {
   "cell_type": "code",
   "execution_count": 3,
   "metadata": {
    "collapsed": false,
    "scrolled": true
   },
   "outputs": [
    {
     "name": "stderr",
     "output_type": "stream",
     "text": [
      "Cannot import mxnet.\n",
      "Analyzing section 230..\n"
     ]
    },
    {
     "name": "stdout",
     "output_type": "stream",
     "text": [
      "47 patches in 10N\n",
      "550 patches in RtTg\n",
      "347 patches in 12N\n",
      "2848 patches in SC\n",
      "537 patches in Pn\n",
      "741 patches in IC\n",
      "379 patches in IO\n",
      "492 patches in 10N_surround_noclass\n",
      "273 patches in 10N_surround_12N\n",
      "1151 patches in RtTg_surround_noclass\n",
      "177 patches in RtTg_surround_Pn\n",
      "996 patches in 12N_surround_noclass\n",
      "47 patches in 12N_surround_10N\n",
      "2131 patches in SC_surround_noclass\n",
      "175 patches in SC_surround_IC\n",
      "763 patches in Pn_surround_noclass\n",
      "139 patches in Pn_surround_RtTg\n",
      "923 patches in IC_surround_noclass\n",
      "159 patches in IC_surround_SC\n",
      "1135 patches in IO_surround_noclass\n",
      "36259 patches in bg\n"
     ]
    },
    {
     "name": "stderr",
     "output_type": "stream",
     "text": [
      "Analyzing section 231..\n"
     ]
    },
    {
     "name": "stdout",
     "output_type": "stream",
     "text": [
      "2850 patches in SC\n",
      "748 patches in IC\n",
      "538 patches in RtTg\n",
      "341 patches in 12N\n",
      "41 patches in 10N\n",
      "539 patches in Pn\n",
      "2137 patches in SC_surround_noclass\n",
      "168 patches in SC_surround_IC\n",
      "927 patches in IC_surround_noclass\n",
      "144 patches in IC_surround_SC\n",
      "1063 patches in RtTg_surround_noclass\n",
      "176 patches in RtTg_surround_Pn\n",
      "976 patches in 12N_surround_noclass\n",
      "41 patches in 12N_surround_10N\n",
      "473 patches in 10N_surround_noclass\n",
      "264 patches in 10N_surround_12N\n",
      "758 patches in Pn_surround_noclass\n",
      "132 patches in Pn_surround_RtTg\n",
      "35672 patches in bg\n"
     ]
    },
    {
     "name": "stderr",
     "output_type": "stream",
     "text": [
      "Analyzing section 232..\n",
      "Analyzing section 233..\n"
     ]
    },
    {
     "name": "stdout",
     "output_type": "stream",
     "text": [
      "508 patches in RtTg\n",
      "2927 patches in SC\n",
      "48 patches in 10N\n",
      "335 patches in 12N\n",
      "551 patches in Pn\n",
      "815 patches in IC\n",
      "935 patches in RtTg_surround_noclass\n",
      "185 patches in RtTg_surround_Pn\n",
      "2165 patches in SC_surround_noclass\n",
      "183 patches in SC_surround_IC\n",
      "464 patches in 10N_surround_noclass\n",
      "267 patches in 10N_surround_12N\n",
      "946 patches in 12N_surround_noclass\n",
      "48 patches in 12N_surround_10N\n",
      "750 patches in Pn_surround_noclass\n",
      "135 patches in Pn_surround_RtTg\n",
      "932 patches in IC_surround_noclass\n",
      "155 patches in IC_surround_SC\n",
      "35579 patches in bg\n",
      "48 patches in 10N\n"
     ]
    },
    {
     "name": "stderr",
     "output_type": "stream",
     "text": [
      "Analyzing section 234..\n"
     ]
    },
    {
     "name": "stdout",
     "output_type": "stream",
     "text": [
      "848 patches in IC\n",
      "335 patches in 12N\n",
      "2966 patches in SC\n",
      "487 patches in RtTg\n",
      "9 patches in 6N\n",
      "550 patches in Pn\n",
      "458 patches in 10N_surround_noclass\n",
      "259 patches in 10N_surround_12N\n",
      "948 patches in IC_surround_noclass\n",
      "167 patches in IC_surround_SC\n",
      "938 patches in 12N_surround_noclass\n",
      "48 patches in 12N_surround_10N\n",
      "2175 patches in SC_surround_noclass\n",
      "197 patches in SC_surround_IC\n",
      "865 patches in RtTg_surround_noclass\n",
      "189 patches in RtTg_surround_Pn\n",
      "319 patches in 6N_surround_noclass\n",
      "694 patches in Pn_surround_noclass\n",
      "139 patches in Pn_surround_RtTg\n",
      "36139 patches in bg\n",
      "558 patches in Pn\n"
     ]
    },
    {
     "name": "stderr",
     "output_type": "stream",
     "text": [
      "Analyzing section 235..\n"
     ]
    },
    {
     "name": "stdout",
     "output_type": "stream",
     "text": [
      "871 patches in IC\n",
      "50 patches in 10N\n",
      "469 patches in RtTg\n",
      "2997 patches in SC\n",
      "12 patches in 6N\n",
      "339 patches in 12N\n",
      "711 patches in Pn_surround_noclass\n",
      "148 patches in Pn_surround_RtTg\n",
      "947 patches in IC_surround_noclass\n",
      "168 patches in IC_surround_SC\n",
      "465 patches in 10N_surround_noclass\n",
      "258 patches in 10N_surround_12N\n",
      "810 patches in RtTg_surround_noclass\n",
      "200 patches in RtTg_surround_Pn\n",
      "2179 patches in SC_surround_noclass\n",
      "203 patches in SC_surround_IC\n",
      "339 patches in 6N_surround_noclass\n",
      "924 patches in 12N_surround_noclass\n",
      "50 patches in 12N_surround_10N\n",
      "35851 patches in bg\n"
     ]
    },
    {
     "name": "stderr",
     "output_type": "stream",
     "text": [
      "Analyzing section 236..\n"
     ]
    },
    {
     "name": "stdout",
     "output_type": "stream",
     "text": [
      "905 patches in IC\n",
      "337 patches in 12N\n",
      "570 patches in Pn\n",
      "3051 patches in SC\n",
      "432 patches in RtTg\n",
      "20 patches in 6N\n",
      "50 patches in 10N\n",
      "958 patches in IC_surround_noclass\n",
      "175 patches in IC_surround_SC\n",
      "916 patches in 12N_surround_noclass\n",
      "50 patches in 12N_surround_10N\n",
      "690 patches in Pn_surround_noclass\n",
      "151 patches in Pn_surround_RtTg\n",
      "2180 patches in SC_surround_noclass\n",
      "212 patches in SC_surround_IC\n",
      "772 patches in RtTg_surround_noclass\n",
      "202 patches in RtTg_surround_Pn\n",
      "386 patches in 6N_surround_noclass\n",
      "477 patches in 10N_surround_noclass\n",
      "253 patches in 10N_surround_12N\n",
      "35955 patches in bg\n",
      "943 patches in IC\n",
      "343 patches in 12N\n"
     ]
    },
    {
     "name": "stderr",
     "output_type": "stream",
     "text": [
      "Analyzing section 237..\n"
     ]
    },
    {
     "name": "stdout",
     "output_type": "stream",
     "text": [
      "56 patches in 10N\n",
      "412 patches in RtTg\n",
      "41 patches in 6N\n",
      "3112 patches in SC\n",
      "589 patches in Pn\n",
      "968 patches in IC_surround_noclass\n",
      "195 patches in IC_surround_SC\n",
      "917 patches in 12N_surround_noclass\n",
      "56 patches in 12N_surround_10N\n",
      "509 patches in 10N_surround_noclass\n",
      "260 patches in 10N_surround_12N\n",
      "736 patches in RtTg_surround_noclass\n",
      "221 patches in RtTg_surround_Pn\n",
      "432 patches in 6N_surround_noclass\n",
      "2256 patches in SC_surround_noclass\n",
      "234 patches in SC_surround_IC\n",
      "663 patches in Pn_surround_noclass\n",
      "168 patches in Pn_surround_RtTg\n",
      "35750 patches in bg\n"
     ]
    },
    {
     "name": "stderr",
     "output_type": "stream",
     "text": [
      "Analyzing section 238..\n"
     ]
    },
    {
     "name": "stdout",
     "output_type": "stream",
     "text": [
      "3097 patches in SC\n",
      "32 patches in 6N\n",
      "962 patches in IC\n",
      "42 patches in 10N\n",
      "566 patches in Pn\n",
      "414 patches in RtTg\n",
      "2257 patches in SC_surround_noclass\n",
      "223 patches in SC_surround_IC\n",
      "412 patches in 6N_surround_noclass\n",
      "982 patches in IC_surround_noclass\n",
      "184 patches in IC_surround_SC\n",
      "685 patches in 10N_surround_noclass\n",
      "689 patches in Pn_surround_noclass\n",
      "150 patches in Pn_surround_RtTg\n",
      "746 patches in RtTg_surround_noclass\n",
      "189 patches in RtTg_surround_Pn\n",
      "36176 patches in bg\n"
     ]
    },
    {
     "name": "stderr",
     "output_type": "stream",
     "text": [
      "Analyzing section 239..\n"
     ]
    },
    {
     "name": "stdout",
     "output_type": "stream",
     "text": [
      "416 patches in RtTg\n",
      "554 patches in Pn\n",
      "3110 patches in SC\n",
      "30 patches in 6N\n",
      "990 patches in IC\n",
      "38 patches in 10N\n",
      "774 patches in RtTg_surround_noclass\n",
      "176 patches in RtTg_surround_Pn\n",
      "705 patches in Pn_surround_noclass\n",
      "133 patches in Pn_surround_RtTg\n",
      "2175 patches in SC_surround_noclass\n",
      "222 patches in SC_surround_IC\n",
      "413 patches in 6N_surround_noclass\n",
      "964 patches in IC_surround_noclass\n",
      "185 patches in IC_surround_SC\n",
      "625 patches in 10N_surround_noclass\n",
      "36153 patches in bg\n"
     ]
    },
    {
     "name": "stderr",
     "output_type": "stream",
     "text": [
      "Analyzing section 240..\n"
     ]
    },
    {
     "name": "stdout",
     "output_type": "stream",
     "text": [
      "1011 patches in IC\n",
      "3121 patches in SC\n",
      "421 patches in RtTg\n",
      "31 patches in 10N\n",
      "32 patches in 6N\n",
      "551 patches in Pn\n",
      "965 patches in IC_surround_noclass\n",
      "186 patches in IC_surround_SC\n",
      "2194 patches in SC_surround_noclass\n",
      "219 patches in SC_surround_IC\n",
      "797 patches in RtTg_surround_noclass\n",
      "160 patches in RtTg_surround_Pn\n",
      "590 patches in 10N_surround_noclass\n",
      "410 patches in 6N_surround_noclass\n",
      "722 patches in Pn_surround_noclass\n",
      "123 patches in Pn_surround_RtTg\n",
      "36286 patches in bg\n"
     ]
    },
    {
     "name": "stderr",
     "output_type": "stream",
     "text": [
      "Analyzing section 241..\n"
     ]
    },
    {
     "name": "stdout",
     "output_type": "stream",
     "text": [
      "1042 patches in IC\n",
      "29 patches in 6N\n",
      "25 patches in 10N\n",
      "544 patches in Pn\n",
      "427 patches in RtTg\n",
      "3129 patches in SC\n",
      "895 patches in IC_surround_noclass\n",
      "185 patches in IC_surround_SC\n",
      "407 patches in 6N_surround_noclass\n",
      "539 patches in 10N_surround_noclass\n",
      "610 patches in Pn_surround_noclass\n",
      "106 patches in Pn_surround_RtTg\n",
      "828 patches in RtTg_surround_noclass\n",
      "131 patches in RtTg_surround_Pn\n",
      "2242 patches in SC_surround_noclass\n",
      "219 patches in SC_surround_IC\n",
      "37606 patches in bg\n",
      "540 patches in Pn\n",
      "17 patches in 10N\n"
     ]
    },
    {
     "name": "stderr",
     "output_type": "stream",
     "text": [
      "Analyzing section 242..\n"
     ]
    },
    {
     "name": "stdout",
     "output_type": "stream",
     "text": [
      "1069 patches in IC\n",
      "3137 patches in SC\n",
      "436 patches in RtTg\n",
      "34 patches in 6N\n",
      "12 patches in 7n\n",
      "717 patches in Pn_surround_noclass\n",
      "95 patches in Pn_surround_RtTg\n",
      "499 patches in 10N_surround_noclass\n",
      "956 patches in IC_surround_noclass\n",
      "186 patches in IC_surround_SC\n",
      "2254 patches in SC_surround_noclass\n",
      "219 patches in SC_surround_IC\n",
      "850 patches in RtTg_surround_noclass\n",
      "121 patches in RtTg_surround_Pn\n",
      "409 patches in 6N_surround_noclass\n",
      "12 patches in 6N_surround_7n\n",
      "314 patches in 7n_surround_noclass\n",
      "34 patches in 7n_surround_6N\n",
      "36334 patches in bg\n",
      "12 patches in 10N\n",
      "533 patches in Pn\n"
     ]
    },
    {
     "name": "stderr",
     "output_type": "stream",
     "text": [
      "Analyzing section 243..\n"
     ]
    },
    {
     "name": "stdout",
     "output_type": "stream",
     "text": [
      "152 patches in Tz\n",
      "3133 patches in SC\n",
      "1100 patches in IC\n",
      "24 patches in 6N\n",
      "442 patches in RtTg\n",
      "442 patches in 10N_surround_noclass\n",
      "738 patches in Pn_surround_noclass\n",
      "84 patches in Pn_surround_RtTg\n",
      "784 patches in Tz_surround_noclass\n",
      "98 patches in Tz_surround_RtTg\n",
      "2270 patches in SC_surround_noclass\n",
      "217 patches in SC_surround_IC\n",
      "950 patches in IC_surround_noclass\n",
      "188 patches in IC_surround_SC\n",
      "396 patches in 6N_surround_noclass\n",
      "851 patches in RtTg_surround_noclass\n",
      "36 patches in RtTg_surround_Tz\n",
      "101 patches in RtTg_surround_Pn\n",
      "36215 patches in bg\n"
     ]
    },
    {
     "name": "stderr",
     "output_type": "stream",
     "text": [
      "Analyzing section 244..\n"
     ]
    },
    {
     "name": "stdout",
     "output_type": "stream",
     "text": [
      "449 patches in RtTg\n",
      "20 patches in 6N\n",
      "11 patches in 10N\n",
      "1123 patches in IC\n",
      "3160 patches in SC\n",
      "529 patches in Pn\n",
      "900 patches in RtTg_surround_noclass\n",
      "84 patches in RtTg_surround_Pn\n",
      "386 patches in 6N_surround_noclass\n",
      "418 patches in 10N_surround_noclass\n",
      "940 patches in IC_surround_noclass\n",
      "190 patches in IC_surround_SC\n",
      "2237 patches in SC_surround_noclass\n",
      "219 patches in SC_surround_IC\n",
      "746 patches in Pn_surround_noclass\n",
      "66 patches in Pn_surround_RtTg\n",
      "36586 patches in bg\n"
     ]
    },
    {
     "name": "stderr",
     "output_type": "stream",
     "text": [
      "Analyzing section 245..\n"
     ]
    },
    {
     "name": "stdout",
     "output_type": "stream",
     "text": [
      "531 patches in Pn\n",
      "3178 patches in SC\n",
      "10 patches in 10N\n",
      "24 patches in 6N\n",
      "1174 patches in IC\n",
      "54 patches in 7n\n",
      "160 patches in Tz\n",
      "458 patches in RtTg\n",
      "765 patches in Pn_surround_noclass\n",
      "61 patches in Pn_surround_RtTg\n",
      "2262 patches in SC_surround_noclass\n",
      "234 patches in SC_surround_IC\n",
      "410 patches in 10N_surround_noclass\n",
      "343 patches in 6N_surround_noclass\n",
      "54 patches in 6N_surround_7n\n",
      "950 patches in IC_surround_noclass\n",
      "203 patches in IC_surround_SC\n",
      "449 patches in 7n_surround_noclass\n",
      "24 patches in 7n_surround_6N\n",
      "812 patches in Tz_surround_noclass\n",
      "82 patches in Tz_surround_RtTg\n",
      "944 patches in RtTg_surround_noclass\n",
      "33 patches in RtTg_surround_Tz\n",
      "68 patches in RtTg_surround_Pn\n",
      "36522 patches in bg\n",
      "496 patches in Pn\n"
     ]
    },
    {
     "name": "stderr",
     "output_type": "stream",
     "text": [
      "Analyzing section 246..\n"
     ]
    },
    {
     "name": "stdout",
     "output_type": "stream",
     "text": [
      "152 patches in Tz\n",
      "449 patches in RtTg\n",
      "48 patches in 7n\n",
      "1160 patches in IC\n",
      "3105 patches in SC\n",
      "766 patches in Pn_surround_noclass\n",
      "51 patches in Pn_surround_RtTg\n",
      "812 patches in Tz_surround_noclass\n",
      "57 patches in Tz_surround_RtTg\n",
      "901 patches in RtTg_surround_noclass\n",
      "27 patches in RtTg_surround_Tz\n",
      "62 patches in RtTg_surround_Pn\n",
      "475 patches in 7n_surround_noclass\n",
      "949 patches in IC_surround_noclass\n",
      "193 patches in IC_surround_SC\n",
      "2236 patches in SC_surround_noclass\n",
      "215 patches in SC_surround_IC\n",
      "36884 patches in bg\n",
      "456 patches in RtTg\n",
      "151 patches in Tz\n"
     ]
    },
    {
     "name": "stderr",
     "output_type": "stream",
     "text": [
      "Analyzing section 247..\n"
     ]
    },
    {
     "name": "stdout",
     "output_type": "stream",
     "text": [
      "3058 patches in SC\n",
      "1164 patches in IC\n",
      "59 patches in 7n\n",
      "483 patches in Pn\n",
      "891 patches in RtTg_surround_noclass\n",
      "25 patches in RtTg_surround_Tz\n",
      "61 patches in RtTg_surround_Pn\n",
      "815 patches in Tz_surround_noclass\n",
      "51 patches in Tz_surround_RtTg\n",
      "2146 patches in SC_surround_noclass\n",
      "216 patches in SC_surround_IC\n",
      "950 patches in IC_surround_noclass\n",
      "191 patches in IC_surround_SC\n",
      "486 patches in 7n_surround_noclass\n",
      "783 patches in Pn_surround_noclass\n",
      "48 patches in Pn_surround_RtTg\n",
      "36491 patches in bg\n"
     ]
    },
    {
     "name": "stderr",
     "output_type": "stream",
     "text": [
      "Analyzing section 248..\n"
     ]
    },
    {
     "name": "stdout",
     "output_type": "stream",
     "text": [
      "155 patches in Tz\n",
      "3013 patches in SC\n",
      "65 patches in 7n\n",
      "1169 patches in IC\n",
      "455 patches in Pn\n",
      "455 patches in RtTg\n",
      "833 patches in Tz_surround_noclass\n",
      "40 patches in Tz_surround_RtTg\n",
      "2087 patches in SC_surround_noclass\n",
      "217 patches in SC_surround_IC\n",
      "501 patches in 7n_surround_noclass\n",
      "938 patches in IC_surround_noclass\n",
      "195 patches in IC_surround_SC\n",
      "760 patches in Pn_surround_noclass\n",
      "42 patches in Pn_surround_RtTg\n",
      "882 patches in RtTg_surround_noclass\n",
      "25 patches in RtTg_surround_Tz\n",
      "53 patches in RtTg_surround_Pn\n",
      "37138 patches in bg\n"
     ]
    },
    {
     "name": "stderr",
     "output_type": "stream",
     "text": [
      "Analyzing section 249..\n"
     ]
    },
    {
     "name": "stdout",
     "output_type": "stream",
     "text": [
      "2963 patches in SC\n",
      "448 patches in RtTg\n",
      "1175 patches in IC\n",
      "155 patches in Tz\n",
      "64 patches in 7n\n",
      "437 patches in Pn\n",
      "1993 patches in SC_surround_noclass\n",
      "221 patches in SC_surround_IC\n",
      "883 patches in RtTg_surround_noclass\n",
      "23 patches in RtTg_surround_Tz\n",
      "51 patches in RtTg_surround_Pn\n",
      "940 patches in IC_surround_noclass\n",
      "201 patches in IC_surround_SC\n",
      "812 patches in Tz_surround_noclass\n",
      "33 patches in Tz_surround_RtTg\n",
      "513 patches in 7n_surround_noclass\n",
      "790 patches in Pn_surround_noclass\n",
      "41 patches in Pn_surround_RtTg\n",
      "36998 patches in bg\n",
      "157 patches in Tz\n"
     ]
    },
    {
     "name": "stderr",
     "output_type": "stream",
     "text": [
      "Analyzing section 250..\n"
     ]
    },
    {
     "name": "stdout",
     "output_type": "stream",
     "text": [
      "421 patches in Pn\n",
      "76 patches in 7n\n",
      "441 patches in RtTg\n",
      "2898 patches in SC\n",
      "1174 patches in IC\n",
      "808 patches in Tz_surround_noclass\n",
      "31 patches in Tz_surround_RtTg\n",
      "784 patches in Pn_surround_noclass\n",
      "39 patches in Pn_surround_RtTg\n",
      "526 patches in 7n_surround_noclass\n",
      "875 patches in RtTg_surround_noclass\n",
      "22 patches in RtTg_surround_Tz\n",
      "52 patches in RtTg_surround_Pn\n",
      "2020 patches in SC_surround_noclass\n",
      "214 patches in SC_surround_IC\n",
      "937 patches in IC_surround_noclass\n",
      "197 patches in IC_surround_SC\n",
      "37461 patches in bg\n"
     ]
    },
    {
     "name": "stderr",
     "output_type": "stream",
     "text": [
      "Analyzing section 251..\n"
     ]
    },
    {
     "name": "stdout",
     "output_type": "stream",
     "text": [
      "2849 patches in SC\n",
      "80 patches in 7n\n",
      "1176 patches in IC\n",
      "164 patches in Tz\n",
      "436 patches in RtTg\n",
      "398 patches in Pn\n",
      "1990 patches in SC_surround_noclass\n",
      "215 patches in SC_surround_IC\n",
      "532 patches in 7n_surround_noclass\n",
      "976 patches in IC_surround_noclass\n",
      "197 patches in IC_surround_SC\n",
      "863 patches in Tz_surround_noclass\n",
      "27 patches in Tz_surround_RtTg\n",
      "886 patches in RtTg_surround_noclass\n",
      "22 patches in RtTg_surround_Tz\n",
      "46 patches in RtTg_surround_Pn\n",
      "793 patches in Pn_surround_noclass\n",
      "30 patches in Pn_surround_RtTg\n",
      "37423 patches in bg\n"
     ]
    },
    {
     "name": "stderr",
     "output_type": "stream",
     "text": [
      "Analyzing section 252..\n"
     ]
    },
    {
     "name": "stdout",
     "output_type": "stream",
     "text": [
      "2786 patches in SC\n",
      "97 patches in 7n\n",
      "1195 patches in IC\n",
      "170 patches in Tz\n",
      "429 patches in RtTg\n",
      "382 patches in Pn\n",
      "1943 patches in SC_surround_noclass\n",
      "227 patches in SC_surround_IC\n",
      "562 patches in 7n_surround_noclass\n",
      "921 patches in IC_surround_noclass\n",
      "204 patches in IC_surround_SC\n",
      "889 patches in Tz_surround_noclass\n",
      "25 patches in Tz_surround_RtTg\n",
      "906 patches in RtTg_surround_noclass\n",
      "30 patches in RtTg_surround_Tz\n",
      "51 patches in RtTg_surround_Pn\n",
      "816 patches in Pn_surround_noclass\n",
      "33 patches in Pn_surround_RtTg\n",
      "37322 patches in bg\n",
      "398 patches in RtTg\n"
     ]
    },
    {
     "name": "stderr",
     "output_type": "stream",
     "text": [
      "Analyzing section 253..\n"
     ]
    },
    {
     "name": "stdout",
     "output_type": "stream",
     "text": [
      "1223 patches in IC\n",
      "89 patches in 7n\n",
      "162 patches in Tz\n",
      "2796 patches in SC\n",
      "363 patches in Pn\n",
      "881 patches in RtTg_surround_noclass\n",
      "26 patches in RtTg_surround_Tz\n",
      "34 patches in RtTg_surround_Pn\n",
      "947 patches in IC_surround_noclass\n",
      "203 patches in IC_surround_SC\n",
      "546 patches in 7n_surround_noclass\n",
      "849 patches in Tz_surround_noclass\n",
      "27 patches in Tz_surround_RtTg\n",
      "1956 patches in SC_surround_noclass\n",
      "218 patches in SC_surround_IC\n",
      "818 patches in Pn_surround_noclass\n",
      "23 patches in Pn_surround_RtTg\n",
      "37562 patches in bg\n"
     ]
    },
    {
     "name": "stderr",
     "output_type": "stream",
     "text": [
      "Analyzing section 254..\n"
     ]
    },
    {
     "name": "stdout",
     "output_type": "stream",
     "text": [
      "78 patches in 7n\n",
      "367 patches in RtTg\n",
      "365 patches in Pn\n",
      "2820 patches in SC\n",
      "154 patches in Tz\n",
      "1270 patches in IC\n",
      "541 patches in 7n_surround_noclass\n",
      "867 patches in RtTg_surround_noclass\n",
      "29 patches in RtTg_surround_Tz\n",
      "34 patches in RtTg_surround_Pn\n",
      "787 patches in Pn_surround_noclass\n",
      "18 patches in Pn_surround_RtTg\n",
      "1995 patches in SC_surround_noclass\n",
      "220 patches in SC_surround_IC\n",
      "764 patches in Tz_surround_noclass\n",
      "33 patches in Tz_surround_RtTg\n",
      "987 patches in IC_surround_noclass\n",
      "200 patches in IC_surround_SC\n",
      "38193 patches in bg\n",
      "155 patches in Tz\n",
      "75 patches in 7n\n"
     ]
    },
    {
     "name": "stderr",
     "output_type": "stream",
     "text": [
      "Analyzing section 255..\n"
     ]
    },
    {
     "name": "stdout",
     "output_type": "stream",
     "text": [
      "2841 patches in SC\n",
      "1316 patches in IC\n",
      "349 patches in Pn\n",
      "338 patches in RtTg\n",
      "760 patches in Tz_surround_noclass\n",
      "41 patches in Tz_surround_RtTg\n",
      "533 patches in 7n_surround_noclass\n",
      "2002 patches in SC_surround_noclass\n",
      "219 patches in SC_surround_IC\n",
      "991 patches in IC_surround_noclass\n",
      "200 patches in IC_surround_SC\n",
      "781 patches in Pn_surround_noclass\n",
      "16 patches in Pn_surround_RtTg\n",
      "845 patches in RtTg_surround_noclass\n",
      "32 patches in RtTg_surround_Tz\n",
      "27 patches in RtTg_surround_Pn\n",
      "38392 patches in bg\n"
     ]
    },
    {
     "name": "stderr",
     "output_type": "stream",
     "text": [
      "Analyzing section 256..\n"
     ]
    },
    {
     "name": "stdout",
     "output_type": "stream",
     "text": [
      "75 patches in 7n\n",
      "2846 patches in SC\n",
      "329 patches in Pn\n",
      "152 patches in Tz\n",
      "312 patches in RtTg\n",
      "1366 patches in IC\n",
      "514 patches in 7n_surround_noclass\n",
      "2062 patches in SC_surround_noclass\n",
      "225 patches in SC_surround_IC\n",
      "785 patches in Pn_surround_noclass\n",
      "18 patches in Pn_surround_RtTg\n",
      "722 patches in Tz_surround_noclass\n",
      "50 patches in Tz_surround_RtTg\n",
      "841 patches in RtTg_surround_noclass\n",
      "34 patches in RtTg_surround_Tz\n",
      "15 patches in RtTg_surround_Pn\n",
      "1016 patches in IC_surround_noclass\n",
      "202 patches in IC_surround_SC\n",
      "38193 patches in bg\n",
      "278 patches in RtTg\n"
     ]
    },
    {
     "name": "stderr",
     "output_type": "stream",
     "text": [
      "Analyzing section 257..\n"
     ]
    },
    {
     "name": "stdout",
     "output_type": "stream",
     "text": [
      "1417 patches in IC\n",
      "71 patches in 7n\n",
      "94 patches in LC\n",
      "2871 patches in SC\n",
      "147 patches in Tz\n",
      "326 patches in Pn\n",
      "821 patches in RtTg_surround_noclass\n",
      "35 patches in RtTg_surround_Tz\n",
      "17 patches in RtTg_surround_Pn\n",
      "1036 patches in IC_surround_noclass\n",
      "199 patches in IC_surround_SC\n",
      "518 patches in 7n_surround_noclass\n",
      "722 patches in LC_surround_noclass\n",
      "2089 patches in SC_surround_noclass\n",
      "226 patches in SC_surround_IC\n",
      "717 patches in Tz_surround_noclass\n",
      "48 patches in Tz_surround_RtTg\n",
      "789 patches in Pn_surround_noclass\n",
      "15 patches in Pn_surround_RtTg\n",
      "39064 patches in bg\n",
      "68 patches in 7n\n",
      "125 patches in LC\n"
     ]
    },
    {
     "name": "stderr",
     "output_type": "stream",
     "text": [
      "Analyzing section 258..\n"
     ]
    },
    {
     "name": "stdout",
     "output_type": "stream",
     "text": [
      "2879 patches in SC\n",
      "249 patches in RtTg\n",
      "144 patches in Tz\n",
      "1466 patches in IC\n",
      "313 patches in Pn\n",
      "508 patches in 7n_surround_noclass\n",
      "701 patches in LC_surround_noclass\n",
      "2126 patches in SC_surround_noclass\n",
      "220 patches in SC_surround_IC\n",
      "806 patches in RtTg_surround_noclass\n",
      "37 patches in RtTg_surround_Tz\n",
      "20 patches in RtTg_surround_Pn\n",
      "683 patches in Tz_surround_noclass\n",
      "52 patches in Tz_surround_RtTg\n",
      "1086 patches in IC_surround_noclass\n",
      "197 patches in IC_surround_SC\n",
      "783 patches in Pn_surround_noclass\n",
      "18 patches in Pn_surround_RtTg\n",
      "39113 patches in bg\n",
      "213 patches in RtTg\n",
      "159 patches in LC\n"
     ]
    },
    {
     "name": "stderr",
     "output_type": "stream",
     "text": [
      "Analyzing section 259..\n"
     ]
    },
    {
     "name": "stdout",
     "output_type": "stream",
     "text": [
      "1526 patches in IC\n",
      "2908 patches in SC\n",
      "64 patches in 7n\n",
      "300 patches in Pn\n",
      "141 patches in Tz\n",
      "796 patches in RtTg_surround_noclass\n",
      "38 patches in RtTg_surround_Tz\n",
      "22 patches in RtTg_surround_Pn\n",
      "738 patches in LC_surround_noclass\n",
      "1108 patches in IC_surround_noclass\n",
      "202 patches in IC_surround_SC\n",
      "2162 patches in SC_surround_noclass\n",
      "231 patches in SC_surround_IC\n",
      "497 patches in 7n_surround_noclass\n",
      "776 patches in Pn_surround_noclass\n",
      "20 patches in Pn_surround_RtTg\n",
      "669 patches in Tz_surround_noclass\n",
      "54 patches in Tz_surround_RtTg\n",
      "39101 patches in bg\n",
      "299 patches in Pn\n",
      "70 patches in 7n\n"
     ]
    },
    {
     "name": "stderr",
     "output_type": "stream",
     "text": [
      "Analyzing section 260..\n"
     ]
    },
    {
     "name": "stdout",
     "output_type": "stream",
     "text": [
      "141 patches in Tz\n",
      "192 patches in LC\n",
      "2946 patches in SC\n",
      "1589 patches in IC\n",
      "186 patches in RtTg\n",
      "804 patches in Pn_surround_noclass\n",
      "24 patches in Pn_surround_RtTg\n",
      "504 patches in 7n_surround_noclass\n",
      "677 patches in Tz_surround_noclass\n",
      "55 patches in Tz_surround_RtTg\n",
      "809 patches in LC_surround_noclass\n",
      "2225 patches in SC_surround_noclass\n",
      "256 patches in SC_surround_IC\n",
      "1118 patches in IC_surround_noclass\n",
      "214 patches in IC_surround_SC\n",
      "813 patches in RtTg_surround_noclass\n",
      "41 patches in RtTg_surround_Tz\n",
      "23 patches in RtTg_surround_Pn\n",
      "39423 patches in bg\n"
     ]
    },
    {
     "name": "stderr",
     "output_type": "stream",
     "text": [
      "/oasis/projects/nsf/csd395/yuncong/brain_virtualenv/lib/python2.7/site-packages/pandas/core/generic.py:1101: PerformanceWarning: \n",
      "your performance may suffer as PyTables will pickle object types that it cannot\n",
      "map directly to c-types [inferred_type->mixed,key->block0_values] [items->[230, 231, 233, 234, 235, 236, 237, 238, 239, 240, 241, 242, 243, 244, 245, 246, 247, 248, 249, 250, 251, 252, 253, 254, 255, 256, 257, 258, 259, 260]]\n",
      "\n",
      "  return pytables.to_hdf(path_or_buf, key, self, **kwargs)\n"
     ]
    }
   ],
   "source": [
    "# for stack in ['MD594', 'MD585', 'MD589']:\n",
    "for stack in ['MD635']:\n",
    "    label_gridIndices = locate_annotated_patches_v2(stack=stack, \n",
    "                                                    annotation_rootdir=annotation_midbrainIncluded_v2_rootdir)\n",
    "    \n",
    "    annotation_grid_indices_fn = '/home/yuncong/csd395/CSHL_labelings_v3/%(stack)s/%(stack)s_annotation_grid_indices.h5' % dict(stack=stack)\n",
    "    label_gridIndices.to_hdf(annotation_grid_indices_fn, 'grid_indices')"
   ]
  },
  {
   "cell_type": "code",
   "execution_count": null,
   "metadata": {
    "collapsed": true
   },
   "outputs": [],
   "source": [
    "label_gridIndices = read_hdf(annotation_grid_indices_fn, 'grid_indices')"
   ]
  },
  {
   "cell_type": "code",
   "execution_count": null,
   "metadata": {
    "collapsed": true
   },
   "outputs": [],
   "source": []
  }
 ],
 "metadata": {
  "kernelspec": {
   "display_name": "Python 2",
   "language": "python",
   "name": "python2"
  },
  "language_info": {
   "codemirror_mode": {
    "name": "ipython",
    "version": 2
   },
   "file_extension": ".py",
   "mimetype": "text/x-python",
   "name": "python",
   "nbconvert_exporter": "python",
   "pygments_lexer": "ipython2",
   "version": "2.7.3"
  }
 },
 "nbformat": 4,
 "nbformat_minor": 0
}
