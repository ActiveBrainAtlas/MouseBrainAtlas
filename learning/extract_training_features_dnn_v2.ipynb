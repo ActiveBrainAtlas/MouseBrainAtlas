{
 "cells": [
  {
   "cell_type": "code",
   "execution_count": 1,
   "metadata": {
    "collapsed": false
   },
   "outputs": [
    {
     "name": "stdout",
     "output_type": "stream",
     "text": [
      "Setting environment for Gordon\n"
     ]
    },
    {
     "name": "stderr",
     "output_type": "stream",
     "text": [
      "Cannot import mxnet.\n"
     ]
    }
   ],
   "source": [
    "%load_ext autoreload\n",
    "%autoreload 2\n",
    "\n",
    "import numpy as np\n",
    "\n",
    "import sys\n",
    "import os\n",
    "\n",
    "sys.path.append(os.environ['REPO_DIR'] + '/utilities')\n",
    "from utilities2015 import *\n",
    "from metadata import *\n",
    "from data_manager import *\n",
    "\n",
    "from learning_utilities import *\n",
    "\n",
    "import matplotlib.pyplot as plt\n",
    "%matplotlib inline\n",
    "\n",
    "from joblib import Parallel, delayed\n",
    "import time"
   ]
  },
  {
   "cell_type": "code",
   "execution_count": 4,
   "metadata": {
    "collapsed": true
   },
   "outputs": [],
   "source": [
    "stack = 'MD594'"
   ]
  },
  {
   "cell_type": "code",
   "execution_count": 11,
   "metadata": {
    "collapsed": false
   },
   "outputs": [
    {
     "name": "stderr",
     "output_type": "stream",
     "text": [
      "Analyzing section 94..\n",
      "Analyzing section 95..\n",
      "Analyzing section 96..\n"
     ]
    },
    {
     "name": "stdout",
     "output_type": "stream",
     "text": [
      "22 patches in VCA\n",
      "279 patches in VCA_surround_noclass\n",
      "29398 patches in bg\n",
      "63 patches in VCA\n",
      "338 patches in VCA_surround_noclass\n",
      "29666 patches in bg\n",
      "143 patches in VCA\n",
      "444 patches in VCA_surround_noclass\n",
      "29541 patches in bg\n",
      "236 patches in VCA\n",
      "442 patches in VCA_surround_noclass\n",
      "28793 patches in bg\n",
      "340 patches in VCA\n"
     ]
    },
    {
     "name": "stderr",
     "output_type": "stream",
     "text": [
      "Analyzing section 97..\n",
      "Analyzing section 98..\n"
     ]
    },
    {
     "name": "stdout",
     "output_type": "stream",
     "text": [
      "545 patches in VCA_surround_noclass\n",
      "28932 patches in bg\n",
      "424 patches in VCA\n",
      "610 patches in VCA_surround_noclass\n",
      "28494 patches in bg\n"
     ]
    },
    {
     "name": "stderr",
     "output_type": "stream",
     "text": [
      "Analyzing section 99..\n",
      "Analyzing section 100..\n"
     ]
    },
    {
     "name": "stdout",
     "output_type": "stream",
     "text": [
      "514 patches in VCA\n",
      "794 patches in VCA_surround_noclass\n",
      "28587 patches in bg\n",
      "536 patches in VCA\n"
     ]
    },
    {
     "name": "stderr",
     "output_type": "stream",
     "text": [
      "Analyzing section 101..\n",
      "Analyzing section 102..\n"
     ]
    },
    {
     "name": "stdout",
     "output_type": "stream",
     "text": [
      "827 patches in VCA_surround_noclass\n",
      "27974 patches in bg\n",
      "568 patches in VCA\n",
      "902 patches in VCA_surround_noclass\n",
      "28073 patches in bg\n"
     ]
    },
    {
     "name": "stderr",
     "output_type": "stream",
     "text": [
      "Analyzing section 103..\n",
      "Analyzing section 104..\n"
     ]
    },
    {
     "name": "stdout",
     "output_type": "stream",
     "text": [
      "600 patches in VCA\n",
      "958 patches in VCA_surround_noclass\n",
      "27969 patches in bg\n",
      "634 patches in VCA\n",
      "1059 patches in VCA_surround_noclass\n",
      "27318 patches in bg\n",
      "13 patches in DC\n",
      "119 patches in VCP\n",
      "676 patches in VCA\n",
      "534 patches in DC_surround_noclass\n",
      "12 patches in DC_surround_VCP\n",
      "115 patches in DC_surround_VCA\n"
     ]
    },
    {
     "name": "stderr",
     "output_type": "stream",
     "text": [
      "Analyzing section 105..\n"
     ]
    },
    {
     "name": "stdout",
     "output_type": "stream",
     "text": [
      "336 patches in VCP_surround_noclass\n",
      "162 patches in VCP_surround_VCA\n",
      "1025 patches in VCA_surround_noclass\n",
      "105 patches in VCA_surround_VCP\n",
      "13 patches in VCA_surround_DC\n",
      "28675 patches in bg\n",
      "651 patches in VCA\n"
     ]
    },
    {
     "name": "stderr",
     "output_type": "stream",
     "text": [
      "Analyzing section 106..\n"
     ]
    },
    {
     "name": "stdout",
     "output_type": "stream",
     "text": [
      "136 patches in VCP\n",
      "86 patches in DC\n",
      "992 patches in VCA_surround_noclass\n",
      "118 patches in VCA_surround_VCP\n",
      "73 patches in VCA_surround_DC\n",
      "390 patches in VCP_surround_noclass\n",
      "163 patches in VCP_surround_VCA\n",
      "11 patches in VCP_surround_DC\n",
      "555 patches in DC_surround_noclass\n",
      "13 patches in DC_surround_VCP\n",
      "86 patches in DC_surround_VCA\n",
      "26923 patches in bg\n",
      "154 patches in DC\n",
      "154 patches in VCP\n",
      "625 patches in VCA\n"
     ]
    },
    {
     "name": "stderr",
     "output_type": "stream",
     "text": [
      "Analyzing section 107..\n"
     ]
    },
    {
     "name": "stdout",
     "output_type": "stream",
     "text": [
      "677 patches in DC_surround_noclass\n",
      "16 patches in DC_surround_VCP\n",
      "67 patches in DC_surround_VCA\n",
      "353 patches in VCP_surround_noclass\n",
      "174 patches in VCP_surround_VCA\n",
      "18 patches in VCP_surround_DC\n",
      "1035 patches in VCA_surround_noclass\n",
      "126 patches in VCA_surround_VCP\n",
      "64 patches in VCA_surround_DC\n",
      "26300 patches in bg\n"
     ]
    },
    {
     "name": "stderr",
     "output_type": "stream",
     "text": [
      "Analyzing section 108..\n"
     ]
    },
    {
     "name": "stdout",
     "output_type": "stream",
     "text": [
      "194 patches in DC\n",
      "182 patches in VCP\n",
      "599 patches in VCA\n",
      "685 patches in DC_surround_noclass\n",
      "22 patches in DC_surround_VCP\n",
      "56 patches in DC_surround_VCA\n",
      "373 patches in VCP_surround_noclass\n",
      "174 patches in VCP_surround_VCA\n",
      "30 patches in VCP_surround_DC\n",
      "1057 patches in VCA_surround_noclass\n",
      "134 patches in VCA_surround_VCP\n",
      "51 patches in VCA_surround_DC\n",
      "26332 patches in bg\n",
      "572 patches in VCA\n"
     ]
    },
    {
     "name": "stderr",
     "output_type": "stream",
     "text": [
      "Analyzing section 109..\n"
     ]
    },
    {
     "name": "stdout",
     "output_type": "stream",
     "text": [
      "218 patches in DC\n",
      "205 patches in VCP\n",
      "1080 patches in VCA_surround_noclass\n",
      "137 patches in VCA_surround_VCP\n",
      "62 patches in VCA_surround_DC\n",
      "678 patches in DC_surround_noclass\n",
      "24 patches in DC_surround_VCP\n",
      "66 patches in DC_surround_VCA\n",
      "404 patches in VCP_surround_noclass\n",
      "182 patches in VCP_surround_VCA\n",
      "33 patches in VCP_surround_DC\n",
      "25683 patches in bg\n",
      "250 patches in DC\n",
      "232 patches in VCP\n"
     ]
    },
    {
     "name": "stderr",
     "output_type": "stream",
     "text": [
      "Analyzing section 110..\n"
     ]
    },
    {
     "name": "stdout",
     "output_type": "stream",
     "text": [
      "539 patches in VCA\n",
      "709 patches in DC_surround_noclass\n",
      "27 patches in DC_surround_VCP\n",
      "81 patches in DC_surround_VCA\n",
      "482 patches in VCP_surround_noclass\n",
      "179 patches in VCP_surround_VCA\n",
      "39 patches in VCP_surround_DC\n",
      "1099 patches in VCA_surround_noclass\n",
      "143 patches in VCA_surround_VCP\n",
      "72 patches in VCA_surround_DC\n",
      "25355 patches in bg\n",
      "267 patches in VCP\n",
      "294 patches in DC\n",
      "506 patches in VCA\n"
     ]
    },
    {
     "name": "stderr",
     "output_type": "stream",
     "text": [
      "Analyzing section 111..\n"
     ]
    },
    {
     "name": "stdout",
     "output_type": "stream",
     "text": [
      "464 patches in VCP_surround_noclass\n",
      "176 patches in VCP_surround_VCA\n",
      "54 patches in VCP_surround_DC\n",
      "769 patches in DC_surround_noclass\n",
      "34 patches in DC_surround_VCP\n",
      "125 patches in DC_surround_VCA\n",
      "1198 patches in VCA_surround_noclass\n",
      "153 patches in VCA_surround_VCP\n",
      "90 patches in VCA_surround_DC\n",
      "25213 patches in bg\n"
     ]
    },
    {
     "name": "stderr",
     "output_type": "stream",
     "text": [
      "Analyzing section 112..\n"
     ]
    },
    {
     "name": "stdout",
     "output_type": "stream",
     "text": [
      "451 patches in VCA\n",
      "305 patches in DC\n",
      "287 patches in VCP\n",
      "1064 patches in VCA_surround_noclass\n",
      "147 patches in VCA_surround_VCP\n",
      "83 patches in VCA_surround_DC\n",
      "755 patches in DC_surround_noclass\n",
      "33 patches in DC_surround_VCP\n",
      "100 patches in DC_surround_VCA\n",
      "548 patches in VCP_surround_noclass\n",
      "148 patches in VCP_surround_VCA\n",
      "50 patches in VCP_surround_DC\n",
      "24974 patches in bg\n",
      "316 patches in DC\n"
     ]
    },
    {
     "name": "stderr",
     "output_type": "stream",
     "text": [
      "Analyzing section 113..\n"
     ]
    },
    {
     "name": "stdout",
     "output_type": "stream",
     "text": [
      "400 patches in VCA\n",
      "318 patches in VCP\n",
      "780 patches in DC_surround_noclass\n",
      "30 patches in DC_surround_VCP\n",
      "97 patches in DC_surround_VCA\n",
      "948 patches in VCA_surround_noclass\n",
      "150 patches in VCA_surround_VCP\n",
      "74 patches in VCA_surround_DC\n",
      "628 patches in VCP_surround_noclass\n",
      "120 patches in VCP_surround_VCA\n",
      "47 patches in VCP_surround_DC\n",
      "24858 patches in bg\n",
      "333 patches in DC\n",
      "348 patches in VCA\n"
     ]
    },
    {
     "name": "stderr",
     "output_type": "stream",
     "text": [
      "Analyzing section 114..\n"
     ]
    },
    {
     "name": "stdout",
     "output_type": "stream",
     "text": [
      "347 patches in VCP\n",
      "791 patches in DC_surround_noclass\n",
      "34 patches in DC_surround_VCP\n",
      "92 patches in DC_surround_VCA\n",
      "875 patches in VCA_surround_noclass\n",
      "148 patches in VCA_surround_VCP\n",
      "74 patches in VCA_surround_DC\n",
      "690 patches in VCP_surround_noclass\n",
      "100 patches in VCP_surround_VCA\n",
      "48 patches in VCP_surround_DC\n",
      "24924 patches in bg\n",
      "345 patches in DC\n",
      "375 patches in VCP\n",
      "297 patches in VCA\n"
     ]
    },
    {
     "name": "stderr",
     "output_type": "stream",
     "text": [
      "Analyzing section 115..\n"
     ]
    },
    {
     "name": "stdout",
     "output_type": "stream",
     "text": [
      "809 patches in DC_surround_noclass\n",
      "33 patches in DC_surround_VCP\n",
      "87 patches in DC_surround_VCA\n",
      "755 patches in VCP_surround_noclass\n",
      "81 patches in VCP_surround_VCA\n",
      "49 patches in VCP_surround_DC\n",
      "817 patches in VCA_surround_noclass\n",
      "118 patches in VCA_surround_VCP\n",
      "66 patches in VCA_surround_DC\n",
      "24502 patches in bg\n"
     ]
    },
    {
     "name": "stderr",
     "output_type": "stream",
     "text": [
      "Analyzing section 116..\n"
     ]
    },
    {
     "name": "stdout",
     "output_type": "stream",
     "text": [
      "251 patches in VCA\n",
      "365 patches in DC\n",
      "408 patches in VCP\n",
      "766 patches in VCA_surround_noclass\n",
      "104 patches in VCA_surround_VCP\n",
      "65 patches in VCA_surround_DC\n",
      "830 patches in DC_surround_noclass\n",
      "42 patches in DC_surround_VCP\n",
      "89 patches in DC_surround_VCA\n",
      "795 patches in VCP_surround_noclass\n",
      "60 patches in VCP_surround_VCA\n",
      "53 patches in VCP_surround_DC\n",
      "24538 patches in bg\n",
      "196 patches in VCA\n",
      "447 patches in VCP\n"
     ]
    },
    {
     "name": "stderr",
     "output_type": "stream",
     "text": [
      "Analyzing section 117..\n"
     ]
    },
    {
     "name": "stdout",
     "output_type": "stream",
     "text": [
      "381 patches in DC\n",
      "714 patches in VCA_surround_noclass\n",
      "86 patches in VCA_surround_VCP\n",
      "69 patches in VCA_surround_DC\n",
      "845 patches in VCP_surround_noclass\n",
      "43 patches in VCP_surround_VCA\n",
      "54 patches in VCP_surround_DC\n",
      "838 patches in DC_surround_noclass\n",
      "51 patches in DC_surround_VCP\n",
      "92 patches in DC_surround_VCA\n",
      "24163 patches in bg\n",
      "403 patches in DC\n",
      "155 patches in VCA\n",
      "489 patches in VCP\n"
     ]
    },
    {
     "name": "stderr",
     "output_type": "stream",
     "text": [
      "Analyzing section 118..\n"
     ]
    },
    {
     "name": "stdout",
     "output_type": "stream",
     "text": [
      "877 patches in DC_surround_noclass\n",
      "71 patches in DC_surround_VCP\n",
      "83 patches in DC_surround_VCA\n",
      "700 patches in VCA_surround_noclass\n",
      "82 patches in VCA_surround_VCP\n",
      "87 patches in VCA_surround_DC\n",
      "880 patches in VCP_surround_noclass\n",
      "32 patches in VCP_surround_VCA\n",
      "66 patches in VCP_surround_DC\n",
      "24070 patches in bg\n"
     ]
    },
    {
     "name": "stderr",
     "output_type": "stream",
     "text": [
      "Analyzing section 119..\n"
     ]
    },
    {
     "name": "stdout",
     "output_type": "stream",
     "text": [
      "374 patches in DC\n",
      "97 patches in VCA\n",
      "346 patches in VCP\n",
      "870 patches in DC_surround_noclass\n",
      "66 patches in DC_surround_VCP\n",
      "43 patches in DC_surround_VCA\n",
      "595 patches in VCA_surround_noclass\n",
      "50 patches in VCA_surround_DC\n",
      "809 patches in VCP_surround_noclass\n",
      "89 patches in VCP_surround_DC\n",
      "23860 patches in bg\n",
      "247 patches in VCP\n",
      "46 patches in VCA\n"
     ]
    },
    {
     "name": "stderr",
     "output_type": "stream",
     "text": [
      "Analyzing section 120..\n"
     ]
    },
    {
     "name": "stdout",
     "output_type": "stream",
     "text": [
      "349 patches in DC\n",
      "845 patches in VCP_surround_noclass\n",
      "112 patches in VCP_surround_DC\n",
      "461 patches in VCA_surround_noclass\n",
      "8 patches in VCA_surround_DC\n",
      "895 patches in DC_surround_noclass\n",
      "69 patches in DC_surround_VCP\n",
      "5 patches in DC_surround_VCA\n",
      "23493 patches in bg\n"
     ]
    },
    {
     "name": "stderr",
     "output_type": "stream",
     "text": [
      "Analyzing section 121..\n"
     ]
    },
    {
     "name": "stdout",
     "output_type": "stream",
     "text": [
      "318 patches in DC\n",
      "27 patches in VCA\n",
      "24 patches in Pr5\n",
      "909 patches in DC_surround_noclass\n",
      "406 patches in VCA_surround_noclass\n",
      "6 patches in VCA_surround_Pr5\n",
      "435 patches in Pr5_surround_noclass\n",
      "5 patches in Pr5_surround_VCA\n",
      "23428 patches in bg\n"
     ]
    },
    {
     "name": "stderr",
     "output_type": "stream",
     "text": [
      "Analyzing section 122..\n"
     ]
    },
    {
     "name": "stdout",
     "output_type": "stream",
     "text": [
      "292 patches in DC\n",
      "50 patches in Pr5\n",
      "14 patches in VCA\n",
      "225 patches in 8n\n",
      "885 patches in DC_surround_noclass\n",
      "495 patches in Pr5_surround_noclass\n",
      "3 patches in Pr5_surround_VCA\n",
      "5 patches in Pr5_surround_8n\n",
      "317 patches in VCA_surround_noclass\n",
      "3 patches in VCA_surround_Pr5\n",
      "37 patches in VCA_surround_8n\n",
      "745 patches in 8n_surround_noclass\n",
      "4 patches in 8n_surround_Pr5\n",
      "14 patches in 8n_surround_VCA\n",
      "23201 patches in bg\n",
      "7 patches in VCA\n",
      "268 patches in DC\n",
      "207 patches in 8n\n",
      "84 patches in Pr5\n"
     ]
    },
    {
     "name": "stderr",
     "output_type": "stream",
     "text": [
      "Analyzing section 123..\n"
     ]
    },
    {
     "name": "stdout",
     "output_type": "stream",
     "text": [
      "290 patches in VCA_surround_noclass\n",
      "5 patches in VCA_surround_Pr5\n",
      "33 patches in VCA_surround_8n\n",
      "859 patches in DC_surround_noclass\n",
      "722 patches in 8n_surround_noclass\n",
      "9 patches in 8n_surround_Pr5\n",
      "7 patches in 8n_surround_VCA\n",
      "577 patches in Pr5_surround_noclass\n",
      "3 patches in Pr5_surround_VCA\n",
      "9 patches in Pr5_surround_8n\n",
      "23234 patches in bg\n"
     ]
    },
    {
     "name": "stderr",
     "output_type": "stream",
     "text": [
      "Analyzing section 124..\n"
     ]
    },
    {
     "name": "stdout",
     "output_type": "stream",
     "text": [
      "196 patches in 8n\n",
      "239 patches in DC\n",
      "3 patches in VCA\n",
      "142 patches in Pr5\n",
      "707 patches in 8n_surround_noclass\n",
      "16 patches in 8n_surround_Pr5\n",
      "3 patches in 8n_surround_VCA\n",
      "840 patches in DC_surround_noclass\n",
      "264 patches in VCA_surround_noclass\n",
      "10 patches in VCA_surround_Pr5\n",
      "26 patches in VCA_surround_8n\n",
      "678 patches in Pr5_surround_noclass\n",
      "3 patches in Pr5_surround_VCA\n",
      "13 patches in Pr5_surround_8n\n",
      "23372 patches in bg\n",
      "197 patches in Pr5\n",
      "134 patches in Sp5I\n"
     ]
    },
    {
     "name": "stderr",
     "output_type": "stream",
     "text": [
      "Analyzing section 125..\n"
     ]
    },
    {
     "name": "stdout",
     "output_type": "stream",
     "text": [
      "59 patches in SNR\n",
      "215 patches in DC\n",
      "191 patches in 8n\n",
      "755 patches in Pr5_surround_noclass\n",
      "16 patches in Pr5_surround_8n\n",
      "629 patches in Sp5I_surround_noclass\n",
      "637 patches in SNR_surround_noclass\n",
      "843 patches in DC_surround_noclass\n",
      "693 patches in 8n_surround_noclass\n",
      "19 patches in 8n_surround_Pr5\n",
      "23183 patches in bg\n",
      "193 patches in Sp5I\n"
     ]
    },
    {
     "name": "stderr",
     "output_type": "stream",
     "text": [
      "Analyzing section 126..\n"
     ]
    },
    {
     "name": "stdout",
     "output_type": "stream",
     "text": [
      "262 patches in Pr5\n",
      "203 patches in DC\n",
      "183 patches in 8n\n",
      "94 patches in SNR\n",
      "53 patches in Sp5O\n",
      "635 patches in Sp5I_surround_noclass\n",
      "53 patches in Sp5I_surround_Sp5O\n",
      "831 patches in Pr5_surround_noclass\n",
      "24 patches in Pr5_surround_8n\n",
      "784 patches in DC_surround_noclass\n",
      "679 patches in 8n_surround_noclass\n",
      "29 patches in 8n_surround_Pr5\n",
      "685 patches in SNR_surround_noclass\n",
      "426 patches in Sp5O_surround_noclass\n",
      "115 patches in Sp5O_surround_Sp5I\n",
      "23193 patches in bg\n",
      "173 patches in 8n\n",
      "353 patches in Pr5\n",
      "230 patches in Sp5I\n",
      "183 patches in DC\n"
     ]
    },
    {
     "name": "stderr",
     "output_type": "stream",
     "text": [
      "Analyzing section 127..\n"
     ]
    },
    {
     "name": "stdout",
     "output_type": "stream",
     "text": [
      "157 patches in SNR\n",
      "110 patches in Sp5O\n",
      "655 patches in 8n_surround_noclass\n",
      "41 patches in 8n_surround_Pr5\n",
      "911 patches in Pr5_surround_noclass\n",
      "30 patches in Pr5_surround_8n\n",
      "645 patches in Sp5I_surround_noclass\n",
      "84 patches in Sp5I_surround_Sp5O\n",
      "748 patches in DC_surround_noclass\n",
      "805 patches in SNR_surround_noclass\n",
      "500 patches in Sp5O_surround_noclass\n",
      "109 patches in Sp5O_surround_Sp5I\n",
      "23132 patches in bg\n"
     ]
    },
    {
     "name": "stderr",
     "output_type": "stream",
     "text": [
      "Analyzing section 128..\n"
     ]
    },
    {
     "name": "stdout",
     "output_type": "stream",
     "text": [
      "175 patches in Sp5O\n",
      "277 patches in Sp5I\n",
      "222 patches in SNR\n",
      "164 patches in DC\n",
      "164 patches in 8n\n",
      "462 patches in Pr5\n",
      "74 patches in PBG\n",
      "598 patches in Sp5O_surround_noclass\n",
      "118 patches in Sp5O_surround_Sp5I\n",
      "676 patches in Sp5I_surround_noclass\n",
      "81 patches in Sp5I_surround_Sp5O\n",
      "901 patches in SNR_surround_noclass\n",
      "746 patches in DC_surround_noclass\n",
      "620 patches in 8n_surround_noclass\n",
      "58 patches in 8n_surround_Pr5\n",
      "1020 patches in Pr5_surround_noclass\n",
      "39 patches in Pr5_surround_8n\n",
      "629 patches in PBG_surround_noclass\n",
      "22970 patches in bg\n"
     ]
    },
    {
     "name": "stderr",
     "output_type": "stream",
     "text": [
      "Analyzing section 129..\n"
     ]
    },
    {
     "name": "stdout",
     "output_type": "stream",
     "text": [
      "315 patches in SNR\n",
      "322 patches in Sp5I\n",
      "273 patches in Sp5O\n",
      "153 patches in 8n\n",
      "142 patches in DC\n",
      "78 patches in PBG\n",
      "1051 patches in SNR_surround_noclass\n",
      "713 patches in Sp5I_surround_noclass\n",
      "90 patches in Sp5I_surround_Sp5O\n",
      "745 patches in Sp5O_surround_noclass\n",
      "127 patches in Sp5O_surround_Sp5I\n",
      "671 patches in 8n_surround_noclass\n",
      "719 patches in DC_surround_noclass\n",
      "619 patches in PBG_surround_noclass\n",
      "22691 patches in bg\n",
      "360 patches in Sp5I\n",
      "382 patches in Sp5O\n",
      "149 patches in 8n\n"
     ]
    },
    {
     "name": "stderr",
     "output_type": "stream",
     "text": [
      "Analyzing section 130..\n"
     ]
    },
    {
     "name": "stdout",
     "output_type": "stream",
     "text": [
      "102 patches in VLL\n",
      "135 patches in DC\n",
      "87 patches in PBG\n",
      "357 patches in SNR\n",
      "757 patches in Sp5I_surround_noclass\n",
      "99 patches in Sp5I_surround_Sp5O\n",
      "866 patches in Sp5O_surround_noclass\n",
      "133 patches in Sp5O_surround_Sp5I\n",
      "663 patches in 8n_surround_noclass\n",
      "612 patches in VLL_surround_noclass\n",
      "692 patches in DC_surround_noclass\n",
      "641 patches in PBG_surround_noclass\n",
      "1047 patches in SNR_surround_noclass\n",
      "22597 patches in bg\n",
      "91 patches in VLL\n",
      "131 patches in 8n\n"
     ]
    },
    {
     "name": "stderr",
     "output_type": "stream",
     "text": [
      "Analyzing section 131..\n",
      "Analyzing section 132..\n"
     ]
    },
    {
     "name": "stdout",
     "output_type": "stream",
     "text": [
      "454 patches in SNR\n",
      "467 patches in Sp5I\n",
      "105 patches in DC\n",
      "647 patches in Sp5O\n",
      "109 patches in PBG\n",
      "583 patches in VLL_surround_noclass\n",
      "650 patches in 8n_surround_noclass\n",
      "1115 patches in SNR_surround_noclass\n",
      "813 patches in Sp5I_surround_noclass\n",
      "130 patches in Sp5I_surround_Sp5O\n",
      "654 patches in DC_surround_noclass\n",
      "1161 patches in Sp5O_surround_noclass\n",
      "160 patches in Sp5O_surround_Sp5I\n",
      "690 patches in PBG_surround_noclass\n",
      "22357 patches in bg\n",
      "91 patches in VLL\n",
      "791 patches in Sp5O\n",
      "97 patches in PBG\n",
      "513 patches in Sp5I\n"
     ]
    },
    {
     "name": "stderr",
     "output_type": "stream",
     "text": [
      "Analyzing section 133..\n"
     ]
    },
    {
     "name": "stdout",
     "output_type": "stream",
     "text": [
      "92 patches in DC\n",
      "501 patches in SNR\n",
      "123 patches in 8n\n",
      "581 patches in VLL_surround_noclass\n",
      "1286 patches in Sp5O_surround_noclass\n",
      "169 patches in Sp5O_surround_Sp5I\n",
      "631 patches in PBG_surround_noclass\n",
      "825 patches in Sp5I_surround_noclass\n",
      "143 patches in Sp5I_surround_Sp5O\n",
      "635 patches in DC_surround_noclass\n",
      "1146 patches in SNR_surround_noclass\n",
      "639 patches in 8n_surround_noclass\n",
      "22124 patches in bg\n",
      "119 patches in 8n\n",
      "976 patches in Sp5O\n"
     ]
    },
    {
     "name": "stderr",
     "output_type": "stream",
     "text": [
      "Analyzing section 134..\n"
     ]
    },
    {
     "name": "stdout",
     "output_type": "stream",
     "text": [
      "87 patches in PBG\n",
      "565 patches in SNR\n",
      "82 patches in DC\n",
      "87 patches in VLL\n",
      "582 patches in Sp5I\n",
      "626 patches in 8n_surround_noclass\n",
      "1449 patches in Sp5O_surround_noclass\n",
      "180 patches in Sp5O_surround_Sp5I\n",
      "597 patches in PBG_surround_noclass\n",
      "1193 patches in SNR_surround_noclass\n",
      "621 patches in DC_surround_noclass\n",
      "578 patches in VLL_surround_noclass\n",
      "854 patches in Sp5I_surround_noclass\n",
      "158 patches in Sp5I_surround_Sp5O\n",
      "22045 patches in bg\n"
     ]
    },
    {
     "name": "stderr",
     "output_type": "stream",
     "text": [
      "Analyzing section 135..\n"
     ]
    },
    {
     "name": "stdout",
     "output_type": "stream",
     "text": [
      "650 patches in Sp5I\n",
      "81 patches in PBG\n",
      "1151 patches in Sp5O\n",
      "791 patches in Pr5VL\n",
      "631 patches in SNR\n",
      "77 patches in DC\n",
      "119 patches in 8n\n",
      "409 patches in Pr5DM\n",
      "94 patches in VLL\n",
      "838 patches in Sp5I_surround_noclass\n",
      "177 patches in Sp5I_surround_Sp5O\n",
      "591 patches in PBG_surround_noclass\n",
      "6 patches in PBG_surround_SNR\n",
      "1491 patches in Sp5O_surround_noclass\n",
      "147 patches in Sp5O_surround_Pr5VL\n",
      "195 patches in Sp5O_surround_Sp5I\n",
      "989 patches in Pr5VL_surround_noclass\n",
      "115 patches in Pr5VL_surround_Sp5O\n",
      "177 patches in Pr5VL_surround_Pr5DM\n",
      "1242 patches in SNR_surround_noclass\n",
      "5 patches in SNR_surround_PBG\n",
      "621 patches in DC_surround_noclass\n",
      "577 patches in 8n_surround_noclass\n",
      "55 patches in 8n_surround_Pr5DM\n",
      "643 patches in Pr5DM_surround_noclass\n",
      "214 patches in Pr5DM_surround_Pr5VL\n",
      "35 patches in Pr5DM_surround_8n\n",
      "589 patches in VLL_surround_noclass\n",
      "21871 patches in bg\n",
      "102 patches in 8n\n",
      "90 patches in VLL\n"
     ]
    },
    {
     "name": "stderr",
     "output_type": "stream",
     "text": [
      "Analyzing section 136..\n"
     ]
    },
    {
     "name": "stdout",
     "output_type": "stream",
     "text": [
      "640 patches in SNR\n",
      "62 patches in PBG\n",
      "82 patches in DC\n",
      "709 patches in Sp5I\n",
      "593 patches in 8n_surround_noclass\n",
      "572 patches in VLL_surround_noclass\n",
      "1262 patches in SNR_surround_noclass\n",
      "5 patches in SNR_surround_PBG\n",
      "535 patches in PBG_surround_noclass\n",
      "3 patches in PBG_surround_SNR\n",
      "609 patches in DC_surround_noclass\n",
      "1058 patches in Sp5I_surround_noclass\n",
      "21739 patches in bg\n"
     ]
    },
    {
     "name": "stderr",
     "output_type": "stream",
     "text": [
      "Analyzing section 137..\n"
     ]
    },
    {
     "name": "stdout",
     "output_type": "stream",
     "text": [
      "124 patches in Sp5C\n",
      "655 patches in SNR\n",
      "69 patches in DC\n",
      "101 patches in 8n\n",
      "67 patches in SC\n",
      "765 patches in Sp5I\n",
      "46 patches in PBG\n",
      "92 patches in VLL\n",
      "509 patches in Sp5C_surround_noclass\n",
      "213 patches in Sp5C_surround_Sp5I\n",
      "1292 patches in SNR_surround_noclass\n",
      "7 patches in SNR_surround_PBG\n",
      "561 patches in DC_surround_noclass\n",
      "586 patches in 8n_surround_noclass\n",
      "572 patches in SC_surround_noclass\n",
      "1061 patches in Sp5I_surround_noclass\n",
      "124 patches in Sp5I_surround_Sp5C\n",
      "501 patches in PBG_surround_noclass\n",
      "9 patches in PBG_surround_SNR\n",
      "574 patches in VLL_surround_noclass\n",
      "21461 patches in bg\n",
      "30 patches in PBG\n",
      "100 patches in SC\n",
      "95 patches in VLL\n"
     ]
    },
    {
     "name": "stderr",
     "output_type": "stream",
     "text": [
      "Analyzing section 138..\n"
     ]
    },
    {
     "name": "stdout",
     "output_type": "stream",
     "text": [
      "678 patches in SNR\n",
      "151 patches in Sp5C\n",
      "62 patches in DC\n",
      "97 patches in 8n\n",
      "445 patches in PBG_surround_noclass\n",
      "10 patches in PBG_surround_SNR\n",
      "595 patches in SC_surround_noclass\n",
      "579 patches in VLL_surround_noclass\n",
      "1344 patches in SNR_surround_noclass\n",
      "9 patches in SNR_surround_PBG\n",
      "708 patches in Sp5C_surround_noclass\n",
      "556 patches in DC_surround_noclass\n",
      "569 patches in 8n_surround_noclass\n",
      "21380 patches in bg\n",
      "24 patches in PBG\n",
      "696 patches in SNR\n",
      "58 patches in DC\n"
     ]
    },
    {
     "name": "stderr",
     "output_type": "stream",
     "text": [
      "Analyzing section 139..\n"
     ]
    },
    {
     "name": "stdout",
     "output_type": "stream",
     "text": [
      "102 patches in VLL\n",
      "98 patches in 8n\n",
      "180 patches in Sp5C\n",
      "145 patches in SC\n",
      "429 patches in PBG_surround_noclass\n",
      "15 patches in PBG_surround_SNR\n",
      "1361 patches in SNR_surround_noclass\n",
      "11 patches in SNR_surround_PBG\n",
      "538 patches in DC_surround_noclass\n",
      "580 patches in VLL_surround_noclass\n",
      "572 patches in 8n_surround_noclass\n",
      "583 patches in Sp5C_surround_noclass\n",
      "662 patches in SC_surround_noclass\n",
      "21547 patches in bg\n",
      "713 patches in SNR\n",
      "102 patches in VLL\n",
      "14 patches in PBG\n"
     ]
    },
    {
     "name": "stderr",
     "output_type": "stream",
     "text": [
      "Analyzing section 140..\n"
     ]
    },
    {
     "name": "stdout",
     "output_type": "stream",
     "text": [
      "205 patches in SC\n",
      "219 patches in Sp5C\n",
      "102 patches in 8n\n",
      "46 patches in DC\n",
      "1397 patches in SNR_surround_noclass\n",
      "12 patches in SNR_surround_PBG\n",
      "587 patches in VLL_surround_noclass\n",
      "416 patches in PBG_surround_noclass\n",
      "25 patches in PBG_surround_SNR\n",
      "745 patches in SC_surround_noclass\n",
      "808 patches in Sp5C_surround_noclass\n",
      "570 patches in 8n_surround_noclass\n",
      "505 patches in DC_surround_noclass\n",
      "20986 patches in bg\n",
      "99 patches in 8n\n",
      "249 patches in Sp5C\n"
     ]
    },
    {
     "name": "stderr",
     "output_type": "stream",
     "text": [
      "Analyzing section 141..\n"
     ]
    },
    {
     "name": "stdout",
     "output_type": "stream",
     "text": [
      "264 patches in SC\n",
      "101 patches in VLL\n",
      "40 patches in DC\n",
      "733 patches in SNR\n",
      "4 patches in PBG\n",
      "573 patches in 8n_surround_noclass\n",
      "818 patches in Sp5C_surround_noclass\n",
      "820 patches in SC_surround_noclass\n",
      "591 patches in VLL_surround_noclass\n",
      "497 patches in DC_surround_noclass\n",
      "1454 patches in SNR_surround_noclass\n",
      "4 patches in SNR_surround_PBG\n",
      "308 patches in PBG_surround_noclass\n",
      "23 patches in PBG_surround_SNR\n",
      "20860 patches in bg\n",
      "335 patches in SC\n",
      "289 patches in Sp5C\n",
      "99 patches in 8n\n",
      "23 patches in SNC\n"
     ]
    },
    {
     "name": "stderr",
     "output_type": "stream",
     "text": [
      "Analyzing section 142..\n"
     ]
    },
    {
     "name": "stdout",
     "output_type": "stream",
     "text": [
      "750 patches in SNR\n",
      "111 patches in VLL\n",
      "37 patches in DC\n",
      "906 patches in SC_surround_noclass\n",
      "900 patches in Sp5C_surround_noclass\n",
      "573 patches in 8n_surround_noclass\n",
      "352 patches in SNC_surround_noclass\n",
      "174 patches in SNC_surround_SNR\n",
      "1501 patches in SNR_surround_noclass\n",
      "2 patches in SNR_surround_VLL\n",
      "23 patches in SNR_surround_SNC\n",
      "611 patches in VLL_surround_noclass\n",
      "2 patches in VLL_surround_SNR\n",
      "532 patches in DC_surround_noclass\n",
      "20726 patches in bg\n",
      "34 patches in DC\n",
      "745 patches in SNR\n",
      "333 patches in Sp5C\n",
      "23 patches in SNC\n"
     ]
    },
    {
     "name": "stderr",
     "output_type": "stream",
     "text": [
      "Analyzing section 143..\n"
     ]
    },
    {
     "name": "stdout",
     "output_type": "stream",
     "text": [
      "103 patches in 8n\n",
      "107 patches in VLL\n",
      "358 patches in SC\n",
      "491 patches in DC_surround_noclass\n",
      "1464 patches in SNR_surround_noclass\n",
      "23 patches in SNR_surround_SNC\n",
      "936 patches in Sp5C_surround_noclass\n",
      "356 patches in SNC_surround_noclass\n",
      "166 patches in SNC_surround_SNR\n",
      "568 patches in 8n_surround_noclass\n",
      "584 patches in VLL_surround_noclass\n",
      "920 patches in SC_surround_noclass\n",
      "20583 patches in bg\n",
      "27 patches in SNC\n",
      "37 patches in LPB\n",
      "32 patches in DC\n"
     ]
    },
    {
     "name": "stderr",
     "output_type": "stream",
     "text": [
      "Analyzing section 144..\n"
     ]
    },
    {
     "name": "stdout",
     "output_type": "stream",
     "text": [
      "742 patches in SNR\n",
      "102 patches in 8n\n",
      "378 patches in SC\n",
      "105 patches in VLL\n",
      "380 patches in Sp5C\n",
      "358 patches in SNC_surround_noclass\n",
      "179 patches in SNC_surround_SNR\n",
      "447 patches in LPB_surround_noclass\n",
      "491 patches in DC_surround_noclass\n",
      "1432 patches in SNR_surround_noclass\n",
      "27 patches in SNR_surround_SNC\n",
      "570 patches in 8n_surround_noclass\n",
      "949 patches in SC_surround_noclass\n",
      "584 patches in VLL_surround_noclass\n",
      "985 patches in Sp5C_surround_noclass\n",
      "20168 patches in bg\n",
      "60 patches in RR\n",
      "103 patches in 8n\n",
      "33 patches in LPB\n",
      "412 patches in SC\n"
     ]
    },
    {
     "name": "stderr",
     "output_type": "stream",
     "text": [
      "Analyzing section 145..\n"
     ]
    },
    {
     "name": "stdout",
     "output_type": "stream",
     "text": [
      "742 patches in SNR\n",
      "33 patches in DC\n",
      "35 patches in 7n\n",
      "432 patches in Sp5C\n",
      "104 patches in VLL\n",
      "27 patches in SNC\n",
      "464 patches in RR_surround_noclass\n",
      "36 patches in RR_surround_SNR\n",
      "573 patches in 8n_surround_noclass\n",
      "429 patches in LPB_surround_noclass\n",
      "963 patches in SC_surround_noclass\n",
      "1414 patches in SNR_surround_noclass\n",
      "29 patches in SNR_surround_RR\n",
      "27 patches in SNR_surround_SNC\n",
      "485 patches in DC_surround_noclass\n",
      "491 patches in 7n_surround_noclass\n",
      "985 patches in Sp5C_surround_noclass\n",
      "574 patches in VLL_surround_noclass\n",
      "383 patches in SNC_surround_noclass\n",
      "186 patches in SNC_surround_SNR\n",
      "20187 patches in bg\n",
      "740 patches in SNR\n"
     ]
    },
    {
     "name": "stderr",
     "output_type": "stream",
     "text": [
      "Analyzing section 146..\n"
     ]
    },
    {
     "name": "stdout",
     "output_type": "stream",
     "text": [
      "437 patches in SC\n",
      "31 patches in SNC\n",
      "36 patches in LPB\n",
      "476 patches in Sp5C\n",
      "105 patches in VLL\n",
      "33 patches in 7n\n",
      "34 patches in DC\n",
      "101 patches in 8n\n",
      "1417 patches in SNR_surround_noclass\n",
      "31 patches in SNR_surround_SNC\n",
      "994 patches in SC_surround_noclass\n",
      "393 patches in SNC_surround_noclass\n",
      "195 patches in SNC_surround_SNR\n",
      "433 patches in LPB_surround_noclass\n",
      "1044 patches in Sp5C_surround_noclass\n",
      "574 patches in VLL_surround_noclass\n",
      "468 patches in 7n_surround_noclass\n",
      "497 patches in DC_surround_noclass\n",
      "571 patches in 8n_surround_noclass\n",
      "20004 patches in bg\n"
     ]
    },
    {
     "name": "stderr",
     "output_type": "stream",
     "text": [
      "Analyzing section 147..\n"
     ]
    },
    {
     "name": "stdout",
     "output_type": "stream",
     "text": [
      "38 patches in 7n\n",
      "467 patches in SC\n",
      "39 patches in LPB\n",
      "30 patches in SNC\n",
      "102 patches in VLL\n",
      "535 patches in Sp5C\n",
      "32 patches in DC\n",
      "105 patches in 8n\n",
      "745 patches in SNR\n",
      "489 patches in 7n_surround_noclass\n",
      "1025 patches in SC_surround_noclass\n",
      "442 patches in LPB_surround_noclass\n",
      "403 patches in SNC_surround_noclass\n",
      "212 patches in SNC_surround_SNR\n",
      "580 patches in VLL_surround_noclass\n",
      "1096 patches in Sp5C_surround_noclass\n",
      "490 patches in DC_surround_noclass\n",
      "576 patches in 8n_surround_noclass\n",
      "1404 patches in SNR_surround_noclass\n",
      "30 patches in SNR_surround_SNC\n",
      "19590 patches in bg\n",
      "93 patches in 5N\n",
      "39 patches in LPB\n",
      "33 patches in SNC\n",
      "494 patches in SC\n",
      "32 patches in DC\n",
      "49 patches in 7n\n"
     ]
    },
    {
     "name": "stderr",
     "output_type": "stream",
     "text": [
      "Analyzing section 148..\n"
     ]
    },
    {
     "name": "stdout",
     "output_type": "stream",
     "text": [
      "99 patches in VLL\n",
      "749 patches in SNR\n",
      "589 patches in Sp5C\n",
      "105 patches in 8n\n",
      "549 patches in 5N_surround_noclass\n",
      "451 patches in LPB_surround_noclass\n",
      "426 patches in SNC_surround_noclass\n",
      "232 patches in SNC_surround_SNR\n",
      "1053 patches in SC_surround_noclass\n",
      "469 patches in DC_surround_noclass\n",
      "493 patches in 7n_surround_noclass\n",
      "573 patches in VLL_surround_noclass\n",
      "1394 patches in SNR_surround_noclass\n",
      "33 patches in SNR_surround_SNC\n",
      "1115 patches in Sp5C_surround_noclass\n",
      "571 patches in 8n_surround_noclass\n",
      "19561 patches in bg\n",
      "120 patches in 5N\n",
      "740 patches in SNR\n",
      "106 patches in 8n"
     ]
    },
    {
     "name": "stderr",
     "output_type": "stream",
     "text": [
      "Analyzing section 149..\n"
     ]
    },
    {
     "name": "stdout",
     "output_type": "stream",
     "text": [
      "\n",
      "526 patches in SC\n",
      "103 patches in VLL\n",
      "30 patches in DC\n",
      "50 patches in 7n\n",
      "638 patches in Sp5C\n",
      "42 patches in LPB\n",
      "36 patches in SNC\n",
      "600 patches in 5N_surround_noclass\n",
      "1388 patches in SNR_surround_noclass\n",
      "36 patches in SNR_surround_SNC\n",
      "575 patches in 8n_surround_noclass\n",
      "1077 patches in SC_surround_noclass\n",
      "583 patches in VLL_surround_noclass\n",
      "476 patches in DC_surround_noclass\n",
      "509 patches in 7n_surround_noclass\n",
      "1106 patches in Sp5C_surround_noclass\n",
      "454 patches in LPB_surround_noclass\n",
      "440 patches in SNC_surround_noclass\n",
      "238 patches in SNC_surround_SNR\n",
      "19293 patches in bg\n"
     ]
    },
    {
     "name": "stderr",
     "output_type": "stream",
     "text": [
      "Analyzing section 150..\n"
     ]
    },
    {
     "name": "stdout",
     "output_type": "stream",
     "text": [
      "67 patches in VLL\n",
      "112 patches in 8n\n",
      "67 patches in 7n\n",
      "104 patches in VLL\n",
      "33 patches in DC\n",
      "198 patches in 5N\n",
      "49 patches in LPB\n",
      "203 patches in APT\n",
      "43 patches in SNC\n",
      "1084 patches in IC\n",
      "721 patches in Sp5C\n",
      "573 patches in SC\n",
      "751 patches in SNR\n",
      "38 patches in X\n",
      "586 patches in VLL_surround_noclass\n",
      "582 patches in 8n_surround_noclass\n",
      "550 patches in 7n_surround_noclass\n",
      "596 patches in VLL_surround_noclass\n",
      "503 patches in DC_surround_noclass\n",
      "12 patches in DC_surround_X\n",
      "709 patches in 5N_surround_noclass\n",
      "474 patches in LPB_surround_noclass\n",
      "724 patches in APT_surround_noclass\n",
      "474 patches in SNC_surround_noclass\n",
      "263 patches in SNC_surround_SNR\n",
      "1446 patches in IC_surround_noclass\n",
      "1149 patches in Sp5C_surround_noclass\n",
      "1144 patches in SC_surround_noclass\n",
      "1393 patches in SNR_surround_noclass\n",
      "43 patches in SNR_surround_SNC\n",
      "521 patches in X_surround_noclass\n",
      "4 patches in X_surround_DC\n",
      "19443 patches in bg\n",
      "123 patches in VLL\n"
     ]
    },
    {
     "name": "stderr",
     "output_type": "stream",
     "text": [
      "Analyzing section 151..\n"
     ]
    },
    {
     "name": "stdout",
     "output_type": "stream",
     "text": [
      "1160 patches in IC\n",
      "648 patches in SC\n",
      "31 patches in SNC\n",
      "63 patches in 7n\n",
      "29 patches in DC\n",
      "53 patches in LPB\n",
      "12 patches in 7N\n",
      "744 patches in SNR\n",
      "232 patches in APT\n",
      "720 patches in Sp5C\n",
      "82 patches in 8n\n",
      "215 patches in 5N\n",
      "637 patches in VLL_surround_noclass\n",
      "1429 patches in IC_surround_noclass\n",
      "1165 patches in SC_surround_noclass\n",
      "434 patches in SNC_surround_noclass\n",
      "248 patches in SNC_surround_SNR\n",
      "511 patches in 7n_surround_noclass\n",
      "477 patches in DC_surround_noclass\n",
      "478 patches in LPB_surround_noclass\n",
      "399 patches in 7N_surround_noclass\n",
      "1409 patches in SNR_surround_noclass\n",
      "31 patches in SNR_surround_SNC\n",
      "764 patches in APT_surround_noclass\n",
      "1154 patches in Sp5C_surround_noclass\n",
      "537 patches in 8n_surround_noclass\n",
      "717 patches in 5N_surround_noclass\n",
      "19024 patches in bg\n"
     ]
    },
    {
     "name": "stderr",
     "output_type": "stream",
     "text": [
      "Analyzing section 152..\n"
     ]
    },
    {
     "name": "stdout",
     "output_type": "stream",
     "text": [
      "1291 patches in IC\n",
      "243 patches in 5N\n",
      "736 patches in Sp5C\n",
      "752 patches in SNR\n",
      "25 patches in DC\n",
      "23 patches in 7N\n",
      "62 patches in 8n\n",
      "57 patches in LPB\n",
      "160 patches in VLL\n",
      "66 patches in 7n\n",
      "289 patches in APT\n",
      "753 patches in SC\n",
      "24 patches in SNC\n",
      "1468 patches in IC_surround_noclass\n",
      "749 patches in 5N_surround_noclass\n",
      "1199 patches in Sp5C_surround_noclass\n",
      "1435 patches in SNR_surround_noclass\n",
      "24 patches in SNR_surround_SNC\n",
      "461 patches in DC_surround_noclass\n",
      "419 patches in 7N_surround_noclass\n",
      "497 patches in 8n_surround_noclass\n",
      "493 patches in LPB_surround_noclass\n",
      "705 patches in VLL_surround_noclass\n",
      "529 patches in 7n_surround_noclass\n",
      "833 patches in APT_surround_noclass\n",
      "1226 patches in SC_surround_noclass\n",
      "406 patches in SNC_surround_noclass\n",
      "229 patches in SNC_surround_SNR\n",
      "18769 patches in bg\n",
      "22 patches in DC\n",
      "187 patches in VLL\n",
      "69 patches in 7n\n"
     ]
    },
    {
     "name": "stderr",
     "output_type": "stream",
     "text": [
      "Analyzing section 153..\n"
     ]
    },
    {
     "name": "stdout",
     "output_type": "stream",
     "text": [
      "744 patches in Sp5C\n",
      "354 patches in APT\n",
      "47 patches in 8n\n",
      "22 patches in SNC\n",
      "271 patches in 5N\n",
      "1393 patches in IC\n",
      "66 patches in LPB\n",
      "46 patches in 7N\n",
      "765 patches in SNR\n",
      "844 patches in SC\n",
      "447 patches in DC_surround_noclass\n",
      "755 patches in VLL_surround_noclass\n",
      "523 patches in 7n_surround_noclass\n",
      "1200 patches in Sp5C_surround_noclass\n",
      "902 patches in APT_surround_noclass\n",
      "461 patches in 8n_surround_noclass\n",
      "389 patches in SNC_surround_noclass\n",
      "225 patches in SNC_surround_SNR\n",
      "775 patches in 5N_surround_noclass\n",
      "1492 patches in IC_surround_noclass\n",
      "1 patches in IC_surround_SC\n",
      "511 patches in LPB_surround_noclass\n",
      "452 patches in 7N_surround_noclass\n",
      "1449 patches in SNR_surround_noclass\n",
      "22 patches in SNR_surround_SNC\n",
      "1273 patches in SC_surround_noclass\n",
      "1 patches in SC_surround_IC\n",
      "18723 patches in bg\n",
      "18 patches in DC\n",
      "1520 patches in IC\n",
      "81 patches in 7N\n",
      "73 patches in 7n\n"
     ]
    },
    {
     "name": "stderr",
     "output_type": "stream",
     "text": [
      "Analyzing section 154..\n"
     ]
    },
    {
     "name": "stdout",
     "output_type": "stream",
     "text": [
      "769 patches in SNR\n",
      "753 patches in Sp5C\n",
      "31 patches in 8n\n",
      "15 patches in SNC\n",
      "372 patches in APT\n",
      "321 patches in 5N\n",
      "72 patches in LPB\n",
      "961 patches in SC\n",
      "233 patches in VLL\n",
      "435 patches in DC_surround_noclass\n",
      "1480 patches in IC_surround_noclass\n",
      "21 patches in IC_surround_SC\n",
      "581 patches in 7N_surround_noclass\n",
      "534 patches in 7n_surround_noclass\n",
      "1490 patches in SNR_surround_noclass\n",
      "15 patches in SNR_surround_SNC\n",
      "1203 patches in Sp5C_surround_noclass\n",
      "418 patches in 8n_surround_noclass\n",
      "375 patches in SNC_surround_noclass\n",
      "207 patches in SNC_surround_SNR\n",
      "925 patches in APT_surround_noclass\n",
      "4 patches in APT_surround_SC\n",
      "820 patches in 5N_surround_noclass\n",
      "526 patches in LPB_surround_noclass\n",
      "1302 patches in SC_surround_noclass\n",
      "5 patches in SC_surround_APT\n",
      "31 patches in SC_surround_IC\n",
      "815 patches in VLL_surround_noclass\n",
      "18592 patches in bg\n",
      "403 patches in APT\n",
      "18 patches in DC\n"
     ]
    },
    {
     "name": "stderr",
     "output_type": "stream",
     "text": [
      "Analyzing section 155..\n"
     ]
    },
    {
     "name": "stdout",
     "output_type": "stream",
     "text": [
      "782 patches in SNR\n",
      "270 patches in VLL\n",
      "72 patches in 7n\n",
      "771 patches in Sp5C\n",
      "1636 patches in IC\n",
      "1070 patches in SC\n",
      "358 patches in 5N\n",
      "28 patches in 8n\n",
      "79 patches in LPB\n",
      "14 patches in SNC\n",
      "113 patches in 7N\n",
      "947 patches in APT_surround_noclass\n",
      "21 patches in APT_surround_SC\n",
      "468 patches in DC_surround_noclass\n",
      "1499 patches in SNR_surround_noclass\n",
      "14 patches in SNR_surround_SNC\n",
      "875 patches in VLL_surround_noclass\n",
      "538 patches in 7n_surround_noclass\n",
      "1254 patches in Sp5C_surround_noclass\n",
      "1469 patches in IC_surround_noclass\n",
      "64 patches in IC_surround_SC\n",
      "1291 patches in SC_surround_noclass\n",
      "21 patches in SC_surround_APT\n",
      "78 patches in SC_surround_IC\n",
      "855 patches in 5N_surround_noclass\n",
      "392 patches in 8n_surround_noclass\n",
      "540 patches in LPB_surround_noclass\n",
      "354 patches in SNC_surround_noclass\n",
      "198 patches in SNC_surround_SNR\n",
      "581 patches in 7N_surround_noclass\n",
      "18273 patches in bg\n",
      "1740 patches in IC\n",
      "86 patches in LPB\n"
     ]
    },
    {
     "name": "stderr",
     "output_type": "stream",
     "text": [
      "Analyzing section 156..\n"
     ]
    },
    {
     "name": "stdout",
     "output_type": "stream",
     "text": [
      "779 patches in SNR\n",
      "15 patches in DC\n",
      "780 patches in Sp5C\n",
      "405 patches in 5N\n",
      "431 patches in APT\n",
      "9 patches in SNC\n",
      "155 patches in 7N\n",
      "1181 patches in SC\n",
      "81 patches in 7n\n",
      "306 patches in VLL\n",
      "1488 patches in IC_surround_noclass\n",
      "107 patches in IC_surround_SC\n",
      "557 patches in LPB_surround_noclass\n",
      "1535 patches in SNR_surround_noclass\n",
      "9 patches in SNR_surround_SNC\n",
      "444 patches in DC_surround_noclass\n",
      "1278 patches in Sp5C_surround_noclass\n",
      "909 patches in 5N_surround_noclass\n",
      "963 patches in APT_surround_noclass\n",
      "43 patches in APT_surround_SC\n",
      "334 patches in SNC_surround_noclass\n",
      "191 patches in SNC_surround_SNR\n",
      "641 patches in 7N_surround_noclass\n",
      "1274 patches in SC_surround_noclass\n",
      "42 patches in SC_surround_APT\n",
      "132 patches in SC_surround_IC\n",
      "543 patches in 7n_surround_noclass\n",
      "940 patches in VLL_surround_noclass\n",
      "17941 patches in bg\n",
      "90 patches in 7n\n"
     ]
    },
    {
     "name": "stderr",
     "output_type": "stream",
     "text": [
      "Analyzing section 157..\n"
     ]
    },
    {
     "name": "stdout",
     "output_type": "stream",
     "text": [
      "818 patches in Sp5C\n",
      "370 patches in VLL\n",
      "98 patches in LPB\n",
      "1335 patches in SC\n",
      "14 patches in DC\n",
      "487 patches in APT\n",
      "1905 patches in IC\n",
      "67 patches in X\n",
      "477 patches in 5N\n",
      "800 patches in SNR\n",
      "249 patches in SuVe\n",
      "222 patches in 7N\n",
      "5 patches in SNC\n",
      "582 patches in 7n_surround_noclass\n",
      "1269 patches in Sp5C_surround_noclass\n",
      "1038 patches in VLL_surround_noclass\n",
      "575 patches in LPB_surround_noclass\n",
      "1243 patches in SC_surround_noclass\n",
      "85 patches in SC_surround_APT\n",
      "218 patches in SC_surround_IC\n",
      "442 patches in DC_surround_noclass\n",
      "999 patches in APT_surround_noclass\n",
      "88 patches in APT_surround_SC\n",
      "1456 patches in IC_surround_noclass\n",
      "175 patches in IC_surround_SC\n",
      "699 patches in X_surround_noclass\n",
      "988 patches in 5N_surround_noclass\n",
      "1595 patches in SNR_surround_noclass\n",
      "5 patches in SNR_surround_SNC\n",
      "919 patches in SuVe_surround_noclass\n",
      "779 patches in 7N_surround_noclass\n",
      "347 patches in SNC_surround_noclass\n",
      "183 patches in SNC_surround_SNR\n",
      "17827 patches in bg\n"
     ]
    },
    {
     "name": "stderr",
     "output_type": "stream",
     "text": [
      "Analyzing section 158..\n"
     ]
    },
    {
     "name": "stdout",
     "output_type": "stream",
     "text": [
      "1856 patches in IC\n",
      "825 patches in Sp5C\n",
      "108 patches in LPB\n",
      "470 patches in APT\n",
      "83 patches in 7n\n",
      "360 patches in VLL\n",
      "442 patches in 5N\n",
      "20 patches in DC\n",
      "241 patches in 7N\n",
      "783 patches in SNR\n",
      "1375 patches in SC\n",
      "6 patches in SNC\n",
      "1414 patches in IC_surround_noclass\n",
      "159 patches in IC_surround_SC\n",
      "1215 patches in Sp5C_surround_noclass\n",
      "588 patches in LPB_surround_noclass\n",
      "966 patches in APT_surround_noclass\n",
      "78 patches in APT_surround_SC\n",
      "547 patches in 7n_surround_noclass\n",
      "1015 patches in VLL_surround_noclass\n",
      "952 patches in 5N_surround_noclass\n",
      "437 patches in DC_surround_noclass\n",
      "722 patches in 7N_surround_noclass\n",
      "1516 patches in SNR_surround_noclass\n",
      "6 patches in SNR_surround_SNC\n",
      "1268 patches in SC_surround_noclass\n",
      "84 patches in SC_surround_APT\n",
      "190 patches in SC_surround_IC\n",
      "309 patches in SNC_surround_noclass\n",
      "175 patches in SNC_surround_SNR\n",
      "17891 patches in bg\n"
     ]
    },
    {
     "name": "stderr",
     "output_type": "stream",
     "text": [
      "Analyzing section 159..\n"
     ]
    },
    {
     "name": "stdout",
     "output_type": "stream",
     "text": [
      "6 patches in SNC\n",
      "1841 patches in IC\n",
      "406 patches in 5N\n",
      "463 patches in APT\n",
      "1457 patches in SC\n",
      "264 patches in 7N\n",
      "368 patches in VLL\n",
      "114 patches in LPB\n",
      "767 patches in SNR\n",
      "856 patches in Sp5C\n",
      "82 patches in 7n\n",
      "17 patches in DC\n",
      "310 patches in SNC_surround_noclass\n",
      "168 patches in SNC_surround_SNR\n",
      "1368 patches in IC_surround_noclass\n",
      "168 patches in IC_surround_SC\n",
      "916 patches in 5N_surround_noclass\n",
      "939 patches in APT_surround_noclass\n",
      "84 patches in APT_surround_SC\n",
      "1286 patches in SC_surround_noclass\n",
      "84 patches in SC_surround_APT\n",
      "203 patches in SC_surround_IC\n",
      "776 patches in 7N_surround_noclass\n",
      "1001 patches in VLL_surround_noclass\n",
      "607 patches in LPB_surround_noclass\n",
      "1451 patches in SNR_surround_noclass\n",
      "6 patches in SNR_surround_SNC\n",
      "1209 patches in Sp5C_surround_noclass\n",
      "563 patches in 7n_surround_noclass\n",
      "451 patches in DC_surround_noclass\n",
      "17731 patches in bg\n",
      "381 patches in 5N\n"
     ]
    },
    {
     "name": "stderr",
     "output_type": "stream",
     "text": [
      "Analyzing section 160..\n"
     ]
    },
    {
     "name": "stdout",
     "output_type": "stream",
     "text": [
      "375 patches in VLL\n",
      "899 patches in Sp5C\n",
      "1803 patches in IC\n",
      "82 patches in 7n\n",
      "120 patches in LPB\n",
      "290 patches in 7N\n",
      "1526 patches in SC\n",
      "16 patches in DC\n",
      "40 patches in LRt\n",
      "7 patches in SNC\n",
      "452 patches in APT\n",
      "754 patches in SNR\n",
      "891 patches in 5N_surround_noclass\n",
      "1010 patches in VLL_surround_noclass\n",
      "1212 patches in Sp5C_surround_noclass\n",
      "1365 patches in IC_surround_noclass\n",
      "157 patches in IC_surround_SC\n",
      "559 patches in 7n_surround_noclass\n",
      "624 patches in LPB_surround_noclass\n",
      "761 patches in 7N_surround_noclass\n",
      "1321 patches in SC_surround_noclass\n",
      "84 patches in SC_surround_APT\n",
      "187 patches in SC_surround_IC\n",
      "450 patches in DC_surround_noclass\n",
      "568 patches in LRt_surround_noclass\n",
      "302 patches in SNC_surround_noclass\n",
      "168 patches in SNC_surround_SNR\n",
      "919 patches in APT_surround_noclass\n",
      "88 patches in APT_surround_SC\n",
      "1404 patches in SNR_surround_noclass\n",
      "7 patches in SNR_surround_SNC\n",
      "17485 patches in bg\n"
     ]
    },
    {
     "name": "stderr",
     "output_type": "stream",
     "text": [
      "Analyzing section 161..\n"
     ]
    },
    {
     "name": "stdout",
     "output_type": "stream",
     "text": [
      "1775 patches in IC\n",
      "349 patches in 5N\n",
      "735 patches in SNR\n",
      "320 patches in 7N\n",
      "935 patches in Sp5C\n",
      "66 patches in LRt\n",
      "19 patches in DC\n",
      "384 patches in VLL\n",
      "11 patches in SNC\n",
      "134 patches in LPB\n",
      "447 patches in APT\n",
      "1609 patches in SC\n",
      "79 patches in 7n\n",
      "1344 patches in IC_surround_noclass\n",
      "161 patches in IC_surround_SC\n",
      "863 patches in 5N_surround_noclass\n",
      "1359 patches in SNR_surround_noclass\n",
      "11 patches in SNR_surround_SNC\n",
      "819 patches in 7N_surround_noclass\n",
      "1253 patches in Sp5C_surround_noclass\n",
      "565 patches in LRt_surround_noclass\n",
      "444 patches in DC_surround_noclass\n",
      "1024 patches in VLL_surround_noclass\n",
      "298 patches in SNC_surround_noclass\n",
      "161 patches in SNC_surround_SNR\n",
      "644 patches in LPB_surround_noclass\n",
      "896 patches in APT_surround_noclass\n",
      "95 patches in APT_surround_SC\n",
      "1342 patches in SC_surround_noclass\n",
      "92 patches in SC_surround_APT\n",
      "187 patches in SC_surround_IC\n",
      "558 patches in 7n_surround_noclass\n",
      "17082 patches in bg\n",
      "12 patches in SNC\n",
      "708 patches in SNR\n"
     ]
    },
    {
     "name": "stderr",
     "output_type": "stream",
     "text": [
      "Analyzing section 162..\n"
     ]
    },
    {
     "name": "stdout",
     "output_type": "stream",
     "text": [
      "358 patches in 7N\n",
      "442 patches in APT\n",
      "81 patches in 7n\n",
      "142 patches in LPB\n",
      "1672 patches in SC\n",
      "20 patches in DC\n",
      "1740 patches in IC\n",
      "101 patches in LRt\n",
      "323 patches in 5N\n",
      "379 patches in VLL\n",
      "969 patches in Sp5C\n",
      "299 patches in SNC_surround_noclass\n",
      "159 patches in SNC_surround_SNR\n",
      "1324 patches in SNR_surround_noclass\n",
      "12 patches in SNR_surround_SNC\n",
      "852 patches in 7N_surround_noclass\n",
      "892 patches in APT_surround_noclass\n",
      "97 patches in APT_surround_SC\n",
      "567 patches in 7n_surround_noclass\n",
      "656 patches in LPB_surround_noclass\n",
      "1375 patches in SC_surround_noclass\n",
      "94 patches in SC_surround_APT\n",
      "180 patches in SC_surround_IC\n",
      "441 patches in DC_surround_noclass\n",
      "1353 patches in IC_surround_noclass\n",
      "148 patches in IC_surround_SC\n",
      "629 patches in LRt_surround_noclass\n",
      "849 patches in 5N_surround_noclass\n",
      "1028 patches in VLL_surround_noclass\n",
      "1264 patches in Sp5C_surround_noclass\n",
      "16875 patches in bg\n",
      "690 patches in SNR\n",
      "1762 patches in SC\n"
     ]
    },
    {
     "name": "stderr",
     "output_type": "stream",
     "text": [
      "Analyzing section 163..\n"
     ]
    },
    {
     "name": "stdout",
     "output_type": "stream",
     "text": [
      "388 patches in VLL\n",
      "1713 patches in IC\n",
      "13 patches in SNC\n",
      "363 patches in 7N\n",
      "78 patches in 7n\n",
      "150 patches in LPB\n",
      "427 patches in APT\n",
      "1010 patches in Sp5C\n",
      "19 patches in DC\n",
      "291 patches in 5N\n",
      "131 patches in LRt\n",
      "1271 patches in SNR_surround_noclass\n",
      "13 patches in SNR_surround_SNC\n",
      "1415 patches in SC_surround_noclass\n",
      "97 patches in SC_surround_APT\n",
      "173 patches in SC_surround_IC\n",
      "1041 patches in VLL_surround_noclass\n",
      "1327 patches in IC_surround_noclass\n",
      "148 patches in IC_surround_SC\n",
      "291 patches in SNC_surround_noclass\n",
      "167 patches in SNC_surround_SNR\n",
      "865 patches in 7N_surround_noclass\n",
      "567 patches in 7n_surround_noclass\n",
      "676 patches in LPB_surround_noclass\n",
      "872 patches in APT_surround_noclass\n",
      "99 patches in APT_surround_SC\n",
      "1285 patches in Sp5C_surround_noclass\n",
      "432 patches in DC_surround_noclass\n",
      "828 patches in 5N_surround_noclass\n",
      "695 patches in LRt_surround_noclass\n",
      "16303 patches in bg\n"
     ]
    },
    {
     "name": "stderr",
     "output_type": "stream",
     "text": [
      "Analyzing section 164..\n"
     ]
    },
    {
     "name": "stdout",
     "output_type": "stream",
     "text": [
      "1675 patches in IC\n",
      "670 patches in SNR\n",
      "19 patches in DC\n",
      "393 patches in VLL\n",
      "163 patches in LRt\n",
      "163 patches in LPB\n",
      "13 patches in SNC\n",
      "1837 patches in SC\n",
      "271 patches in 5N\n",
      "384 patches in 7N\n",
      "77 patches in 7n\n",
      "419 patches in APT\n",
      "1044 patches in Sp5C\n",
      "1301 patches in IC_surround_noclass\n",
      "143 patches in IC_surround_SC\n",
      "1239 patches in SNR_surround_noclass\n",
      "13 patches in SNR_surround_SNC\n",
      "435 patches in DC_surround_noclass\n",
      "1048 patches in VLL_surround_noclass\n",
      "755 patches in LRt_surround_noclass\n",
      "707 patches in LPB_surround_noclass\n",
      "284 patches in SNC_surround_noclass\n",
      "166 patches in SNC_surround_SNR\n",
      "1431 patches in SC_surround_noclass\n",
      "100 patches in SC_surround_APT\n",
      "169 patches in SC_surround_IC\n",
      "816 patches in 5N_surround_noclass\n",
      "871 patches in 7N_surround_noclass\n",
      "562 patches in 7n_surround_noclass\n",
      "865 patches in APT_surround_noclass\n",
      "106 patches in APT_surround_SC\n",
      "1322 patches in Sp5C_surround_noclass\n",
      "16184 patches in bg\n",
      "405 patches in VLL\n",
      "1097 patches in Sp5C\n",
      "419 patches in 7N\n",
      "18 patches in DC\n",
      "417 patches in APT\n"
     ]
    },
    {
     "name": "stderr",
     "output_type": "stream",
     "text": [
      "Analyzing section 165..\n"
     ]
    },
    {
     "name": "stdout",
     "output_type": "stream",
     "text": [
      "256 patches in 5N\n",
      "1946 patches in SC\n",
      "661 patches in SNR\n",
      "206 patches in MPB\n",
      "14 patches in SNC\n",
      "60 patches in PTg\n",
      "95 patches in CnF\n",
      "81 patches in 7n\n",
      "211 patches in LRt\n",
      "178 patches in LPB\n",
      "1693 patches in IC\n",
      "1093 patches in VLL_surround_noclass\n",
      "1319 patches in Sp5C_surround_noclass\n",
      "849 patches in 7N_surround_noclass\n",
      "473 patches in DC_surround_noclass\n",
      "872 patches in APT_surround_noclass\n",
      "124 patches in APT_surround_SC\n",
      "816 patches in 5N_surround_noclass\n",
      "1460 patches in SC_surround_noclass\n",
      "115 patches in SC_surround_APT\n",
      "183 patches in SC_surround_IC\n",
      "1217 patches in SNR_surround_noclass\n",
      "14 patches in SNR_surround_SNC\n",
      "903 patches in MPB_surround_noclass\n",
      "11 patches in MPB_surround_LPB\n",
      "308 patches in SNC_surround_noclass\n",
      "179 patches in SNC_surround_SNR\n",
      "464 patches in PTg_surround_noclass\n",
      "7 patches in PTg_surround_CnF\n",
      "76 patches in PTg_surround_LPB\n",
      "508 patches in CnF_surround_noclass\n",
      "3 patches in CnF_surround_PTg\n",
      "84 patches in CnF_surround_IC\n",
      "41 patches in CnF_surround_LPB\n",
      "597 patches in 7n_surround_noclass\n",
      "892 patches in LRt_surround_noclass\n",
      "643 patches in LPB_surround_noclass\n",
      "11 patches in LPB_surround_MPB\n",
      "41 patches in LPB_surround_PTg\n",
      "41 patches in LPB_surround_CnF\n",
      "1205 patches in IC_surround_noclass\n",
      "73 patches in IC_surround_CnF\n",
      "148 patches in IC_surround_SC\n",
      "16132 patches in bg\n"
     ]
    },
    {
     "name": "stderr",
     "output_type": "stream",
     "text": [
      "Analyzing section 166..\n"
     ]
    },
    {
     "name": "stdout",
     "output_type": "stream",
     "text": [
      "1049 patches in Sp5C\n",
      "402 patches in 7N\n",
      "619 patches in SNR\n",
      "197 patches in 5N\n",
      "1928 patches in SC\n",
      "193 patches in LRt\n",
      "17 patches in SNC\n",
      "1677 patches in IC\n",
      "6 patches in Pn\n",
      "70 patches in 7n\n",
      "1299 patches in Sp5C_surround_noclass\n",
      "882 patches in 7N_surround_noclass\n",
      "1186 patches in SNR_surround_noclass\n",
      "17 patches in SNR_surround_SNC\n",
      "740 patches in 5N_surround_noclass\n",
      "1576 patches in SC_surround_noclass\n",
      "166 patches in SC_surround_IC\n",
      "858 patches in LRt_surround_noclass\n",
      "307 patches in SNC_surround_noclass\n",
      "171 patches in SNC_surround_SNR\n",
      "1292 patches in IC_surround_noclass\n",
      "135 patches in IC_surround_SC\n",
      "485 patches in Pn_surround_noclass\n",
      "560 patches in 7n_surround_noclass\n",
      "15985 patches in bg\n",
      "395 patches in 7N\n",
      "14 patches in Pn\n",
      "178 patches in LRt\n"
     ]
    },
    {
     "name": "stderr",
     "output_type": "stream",
     "text": [
      "Analyzing section 167..\n"
     ]
    },
    {
     "name": "stdout",
     "output_type": "stream",
     "text": [
      "1931 patches in SC\n",
      "19 patches in SNC\n",
      "1017 patches in Sp5C\n",
      "1701 patches in IC\n",
      "162 patches in 5N\n",
      "70 patches in 7n\n",
      "593 patches in SNR\n",
      "23 patches in Amb\n",
      "795 patches in 7N_surround_noclass\n",
      "492 patches in Pn_surround_noclass\n",
      "817 patches in LRt_surround_noclass\n",
      "1597 patches in SC_surround_noclass\n",
      "168 patches in SC_surround_IC\n",
      "313 patches in SNC_surround_noclass\n",
      "179 patches in SNC_surround_SNR\n",
      "1327 patches in Sp5C_surround_noclass\n",
      "1301 patches in IC_surround_noclass\n",
      "134 patches in IC_surround_SC\n",
      "685 patches in 5N_surround_noclass\n",
      "528 patches in 7n_surround_noclass\n",
      "1176 patches in SNR_surround_noclass\n",
      "19 patches in SNR_surround_SNC\n",
      "424 patches in Amb_surround_noclass\n",
      "16001 patches in bg\n",
      "32 patches in Pn\n",
      "1725 patches in IC\n"
     ]
    },
    {
     "name": "stderr",
     "output_type": "stream",
     "text": [
      "Analyzing section 168..\n"
     ]
    },
    {
     "name": "stdout",
     "output_type": "stream",
     "text": [
      "387 patches in 7N\n",
      "66 patches in 7n\n",
      "24 patches in Amb\n",
      "1939 patches in SC\n",
      "561 patches in SNR\n",
      "167 patches in LRt\n",
      "123 patches in 5N\n",
      "979 patches in Sp5C\n",
      "23 patches in SNC\n",
      "551 patches in Pn_surround_noclass\n",
      "1305 patches in IC_surround_noclass\n",
      "130 patches in IC_surround_SC\n",
      "891 patches in 7N_surround_noclass\n",
      "529 patches in 7n_surround_noclass\n",
      "436 patches in Amb_surround_noclass\n",
      "1619 patches in SC_surround_noclass\n",
      "168 patches in SC_surround_IC\n",
      "1154 patches in SNR_surround_noclass\n",
      "23 patches in SNR_surround_SNC\n",
      "825 patches in LRt_surround_noclass\n",
      "622 patches in 5N_surround_noclass\n",
      "1353 patches in Sp5C_surround_noclass\n",
      "332 patches in SNC_surround_noclass\n",
      "178 patches in SNC_surround_SNR\n",
      "15556 patches in bg\n"
     ]
    },
    {
     "name": "stderr",
     "output_type": "stream",
     "text": [
      "Analyzing section 169..\n"
     ]
    },
    {
     "name": "stdout",
     "output_type": "stream",
     "text": [
      "26 patches in SNC\n",
      "65 patches in 7n\n",
      "1945 patches in SC\n",
      "946 patches in Sp5C\n",
      "96 patches in 5N\n",
      "34 patches in Amb\n",
      "1736 patches in IC\n",
      "51 patches in Pn\n",
      "537 patches in SNR\n",
      "157 patches in LRt\n",
      "383 patches in 7N\n",
      "335 patches in SNC_surround_noclass\n",
      "191 patches in SNC_surround_SNR\n",
      "522 patches in 7n_surround_noclass\n",
      "1643 patches in SC_surround_noclass\n",
      "162 patches in SC_surround_IC\n",
      "1391 patches in Sp5C_surround_noclass\n",
      "574 patches in 5N_surround_noclass\n",
      "456 patches in Amb_surround_noclass\n",
      "1343 patches in IC_surround_noclass\n",
      "123 patches in IC_surround_SC\n",
      "584 patches in Pn_surround_noclass\n",
      "1155 patches in SNR_surround_noclass\n",
      "26 patches in SNR_surround_SNC\n",
      "819 patches in LRt_surround_noclass\n",
      "881 patches in 7N_surround_noclass\n",
      "15388 patches in bg\n"
     ]
    },
    {
     "name": "stderr",
     "output_type": "stream",
     "text": [
      "Analyzing section 170..\n"
     ]
    },
    {
     "name": "stdout",
     "output_type": "stream",
     "text": [
      "145 patches in LRt\n",
      "1947 patches in SC\n",
      "44 patches in Amb\n",
      "1754 patches in IC\n",
      "369 patches in 7N\n",
      "61 patches in 7n\n",
      "911 patches in Sp5C\n",
      "72 patches in 5N\n",
      "76 patches in Pn\n",
      "29 patches in SNC\n",
      "503 patches in SNR\n",
      "768 patches in LRt_surround_noclass\n",
      "1665 patches in SC_surround_noclass\n",
      "158 patches in SC_surround_IC\n",
      "490 patches in Amb_surround_noclass\n",
      "1353 patches in IC_surround_noclass\n",
      "120 patches in IC_surround_SC\n",
      "833 patches in 7N_surround_noclass\n",
      "493 patches in 7n_surround_noclass\n",
      "1422 patches in Sp5C_surround_noclass\n",
      "527 patches in 5N_surround_noclass\n",
      "632 patches in Pn_surround_noclass\n",
      "351 patches in SNC_surround_noclass\n",
      "194 patches in SNC_surround_SNR\n",
      "1154 patches in SNR_surround_noclass\n",
      "29 patches in SNR_surround_SNC\n",
      "15259 patches in bg\n",
      "474 patches in SNR\n",
      "56 patches in 7n\n",
      "365 patches in 7N\n",
      "32 patches in 5N\n",
      "52 patches in Amb\n"
     ]
    },
    {
     "name": "stderr",
     "output_type": "stream",
     "text": [
      "Analyzing section 171..\n"
     ]
    },
    {
     "name": "stdout",
     "output_type": "stream",
     "text": [
      "873 patches in Sp5C\n",
      "98 patches in Pn\n",
      "1968 patches in SC\n",
      "37 patches in SNC\n",
      "1770 patches in IC\n",
      "137 patches in LRt\n",
      "1142 patches in SNR_surround_noclass\n",
      "37 patches in SNR_surround_SNC\n",
      "495 patches in 7n_surround_noclass\n",
      "893 patches in 7N_surround_noclass\n",
      "413 patches in 5N_surround_noclass\n",
      "524 patches in Amb_surround_noclass\n",
      "1386 patches in Sp5C_surround_noclass\n",
      "661 patches in Pn_surround_noclass\n",
      "1680 patches in SC_surround_noclass\n",
      "159 patches in SC_surround_IC\n",
      "361 patches in SNC_surround_noclass\n",
      "207 patches in SNC_surround_SNR\n",
      "1356 patches in IC_surround_noclass\n",
      "122 patches in IC_surround_SC\n",
      "760 patches in LRt_surround_noclass\n",
      "15541 patches in bg\n",
      "1814 patches in IC\n",
      "1994 patches in SC\n",
      "462 patches in SNR\n",
      "8 patches in 5N\n",
      "288 patches in SuVe\n"
     ]
    },
    {
     "name": "stderr",
     "output_type": "stream",
     "text": [
      "Analyzing section 172..\n"
     ]
    },
    {
     "name": "stdout",
     "output_type": "stream",
     "text": [
      "853 patches in Sp5C\n",
      "127 patches in Pn\n",
      "59 patches in 7n\n",
      "67 patches in Amb\n",
      "368 patches in 7N\n",
      "134 patches in LRt\n",
      "42 patches in SNC\n",
      "1362 patches in IC_surround_noclass\n",
      "126 patches in IC_surround_SC\n",
      "1712 patches in SC_surround_noclass\n",
      "168 patches in SC_surround_IC\n",
      "1155 patches in SNR_surround_noclass\n",
      "42 patches in SNR_surround_SNC\n",
      "350 patches in 5N_surround_noclass\n",
      "874 patches in SuVe_surround_noclass\n",
      "1413 patches in Sp5C_surround_noclass\n",
      "730 patches in Pn_surround_noclass\n",
      "500 patches in 7n_surround_noclass\n",
      "589 patches in Amb_surround_noclass\n",
      "866 patches in 7N_surround_noclass\n",
      "796 patches in LRt_surround_noclass\n",
      "381 patches in SNC_surround_noclass\n",
      "211 patches in SNC_surround_SNR\n",
      "15361 patches in bg\n",
      "150 patches in LRt\n"
     ]
    },
    {
     "name": "stderr",
     "output_type": "stream",
     "text": [
      "Analyzing section 173..\n"
     ]
    },
    {
     "name": "stdout",
     "output_type": "stream",
     "text": [
      "423 patches in SNR\n",
      "140 patches in Pn\n",
      "57 patches in 7n\n",
      "2018 patches in SC\n",
      "37 patches in SNC\n",
      "853 patches in Sp5C\n",
      "345 patches in 7N\n",
      "1757 patches in IC\n",
      "832 patches in LRt_surround_noclass\n",
      "1108 patches in SNR_surround_noclass\n",
      "37 patches in SNR_surround_SNC\n",
      "701 patches in Pn_surround_noclass\n",
      "488 patches in 7n_surround_noclass\n",
      "1726 patches in SC_surround_noclass\n",
      "158 patches in SC_surround_IC\n",
      "382 patches in SNC_surround_noclass\n",
      "202 patches in SNC_surround_SNR\n",
      "1332 patches in Sp5C_surround_noclass\n",
      "869 patches in 7N_surround_noclass\n",
      "1351 patches in IC_surround_noclass\n",
      "116 patches in IC_surround_SC\n",
      "15211 patches in bg\n",
      "37 patches in SNC\n"
     ]
    },
    {
     "name": "stderr",
     "output_type": "stream",
     "text": [
      "Analyzing section 174..\n"
     ]
    },
    {
     "name": "stdout",
     "output_type": "stream",
     "text": [
      "57 patches in 7n\n",
      "858 patches in Sp5C\n",
      "325 patches in 7N\n",
      "156 patches in Pn\n",
      "2074 patches in SC\n",
      "1730 patches in IC\n",
      "411 patches in SNR\n",
      "169 patches in LRt\n",
      "374 patches in SNC_surround_noclass\n",
      "191 patches in SNC_surround_SNR\n",
      "478 patches in 7n_surround_noclass\n",
      "1432 patches in Sp5C_surround_noclass\n",
      "895 patches in 7N_surround_noclass\n",
      "697 patches in Pn_surround_noclass\n",
      "1737 patches in SC_surround_noclass\n",
      "154 patches in SC_surround_IC\n",
      "1376 patches in IC_surround_noclass\n",
      "113 patches in IC_surround_SC\n",
      "1076 patches in SNR_surround_noclass\n",
      "37 patches in SNR_surround_SNC\n",
      "852 patches in LRt_surround_noclass\n",
      "15008 patches in bg\n",
      "1698 patches in IC\n"
     ]
    },
    {
     "name": "stderr",
     "output_type": "stream",
     "text": [
      "Analyzing section 175..\n"
     ]
    },
    {
     "name": "stdout",
     "output_type": "stream",
     "text": [
      "314 patches in 7N\n",
      "174 patches in Pn\n",
      "59 patches in 7n\n",
      "2135 patches in SC\n",
      "194 patches in LRt\n",
      "863 patches in Sp5C\n",
      "386 patches in SNR\n",
      "36 patches in SNC\n",
      "1341 patches in IC_surround_noclass\n",
      "111 patches in IC_surround_SC\n",
      "873 patches in 7N_surround_noclass\n",
      "709 patches in Pn_surround_noclass\n",
      "492 patches in 7n_surround_noclass\n",
      "1755 patches in SC_surround_noclass\n",
      "149 patches in SC_surround_IC\n",
      "855 patches in LRt_surround_noclass\n",
      "1394 patches in Sp5C_surround_noclass\n",
      "1037 patches in SNR_surround_noclass\n",
      "36 patches in SNR_surround_SNC\n",
      "368 patches in SNC_surround_noclass\n",
      "181 patches in SNC_surround_SNR\n",
      "15168 patches in bg\n",
      "36 patches in SNC\n"
     ]
    },
    {
     "name": "stderr",
     "output_type": "stream",
     "text": [
      "Analyzing section 176..\n"
     ]
    },
    {
     "name": "stdout",
     "output_type": "stream",
     "text": [
      "371 patches in SNR\n",
      "59 patches in 7n\n",
      "228 patches in LRt\n",
      "192 patches in Pn\n",
      "296 patches in 7N\n",
      "1662 patches in IC\n",
      "863 patches in Sp5C\n",
      "2179 patches in SC\n",
      "373 patches in SNC_surround_noclass\n",
      "180 patches in SNC_surround_SNR\n",
      "1011 patches in SNR_surround_noclass\n",
      "36 patches in SNR_surround_SNC\n",
      "497 patches in 7n_surround_noclass\n",
      "925 patches in LRt_surround_noclass\n",
      "712 patches in Pn_surround_noclass\n",
      "881 patches in 7N_surround_noclass\n",
      "1332 patches in IC_surround_noclass\n",
      "111 patches in IC_surround_SC\n",
      "1413 patches in Sp5C_surround_noclass\n",
      "1783 patches in SC_surround_noclass\n",
      "144 patches in SC_surround_IC\n",
      "14890 patches in bg\n",
      "259 patches in LRt\n",
      "60 patches in 7n\n",
      "866 patches in Sp5C\n"
     ]
    },
    {
     "name": "stderr",
     "output_type": "stream",
     "text": [
      "Analyzing section 177..\n"
     ]
    },
    {
     "name": "stdout",
     "output_type": "stream",
     "text": [
      "37 patches in SNC\n",
      "344 patches in SNR\n",
      "1648 patches in IC\n",
      "2246 patches in SC\n",
      "215 patches in Pn\n",
      "285 patches in 7N\n",
      "949 patches in LRt_surround_noclass\n",
      "499 patches in 7n_surround_noclass\n",
      "1395 patches in Sp5C_surround_noclass\n",
      "366 patches in SNC_surround_noclass\n",
      "174 patches in SNC_surround_SNR\n",
      "985 patches in SNR_surround_noclass\n",
      "37 patches in SNR_surround_SNC\n",
      "1320 patches in IC_surround_noclass\n",
      "114 patches in IC_surround_SC\n",
      "1803 patches in SC_surround_noclass\n",
      "146 patches in SC_surround_IC\n",
      "733 patches in Pn_surround_noclass\n",
      "877 patches in 7N_surround_noclass\n",
      "14694 patches in bg\n"
     ]
    },
    {
     "name": "stderr",
     "output_type": "stream",
     "text": [
      "Analyzing section 178..\n"
     ]
    },
    {
     "name": "stdout",
     "output_type": "stream",
     "text": [
      "862 patches in Sp5C\n",
      "62 patches in 7n\n",
      "33 patches in SNC\n",
      "282 patches in LRt\n",
      "1607 patches in IC\n",
      "329 patches in SNR\n",
      "227 patches in Pn\n",
      "2295 patches in SC\n",
      "272 patches in 7N\n",
      "1405 patches in Sp5C_surround_noclass\n",
      "508 patches in 7n_surround_noclass\n",
      "359 patches in SNC_surround_noclass\n",
      "167 patches in SNC_surround_SNR\n",
      "997 patches in LRt_surround_noclass\n",
      "1318 patches in IC_surround_noclass\n",
      "109 patches in IC_surround_SC\n",
      "968 patches in SNR_surround_noclass\n",
      "33 patches in SNR_surround_SNC\n",
      "777 patches in Pn_surround_noclass\n",
      "1838 patches in SC_surround_noclass\n",
      "139 patches in SC_surround_IC\n",
      "872 patches in 7N_surround_noclass\n",
      "14556 patches in bg\n"
     ]
    },
    {
     "name": "stderr",
     "output_type": "stream",
     "text": [
      "Analyzing section 179..\n"
     ]
    },
    {
     "name": "stdout",
     "output_type": "stream",
     "text": [
      "866 patches in Sp5C\n",
      "59 patches in 7n\n",
      "316 patches in LRt\n",
      "246 patches in Pn\n",
      "2360 patches in SC\n",
      "254 patches in 7N\n",
      "309 patches in SNR\n",
      "35 patches in SNC\n",
      "1573 patches in IC\n",
      "1486 patches in Sp5C_surround_noclass\n",
      "505 patches in 7n_surround_noclass\n",
      "1000 patches in LRt_surround_noclass\n",
      "778 patches in Pn_surround_noclass\n",
      "1857 patches in SC_surround_noclass\n",
      "141 patches in SC_surround_IC\n",
      "868 patches in 7N_surround_noclass\n",
      "940 patches in SNR_surround_noclass\n",
      "35 patches in SNR_surround_SNC\n",
      "362 patches in SNC_surround_noclass\n",
      "162 patches in SNC_surround_SNR\n",
      "1316 patches in IC_surround_noclass\n",
      "113 patches in IC_surround_SC\n",
      "14450 patches in bg\n",
      "250 patches in 7N\n",
      "1061 patches in MVe\n",
      "1574 patches in IC\n",
      "2451 patches in SC\n"
     ]
    },
    {
     "name": "stderr",
     "output_type": "stream",
     "text": [
      "Analyzing section 180..\n"
     ]
    },
    {
     "name": "stdout",
     "output_type": "stream",
     "text": [
      "363 patches in LRt\n",
      "882 patches in Sp5C\n",
      "51 patches in LC\n",
      "295 patches in SNR\n",
      "68 patches in 7n\n",
      "36 patches in SNC\n",
      "275 patches in Pn\n",
      "871 patches in 7N_surround_noclass\n",
      "1551 patches in MVe_surround_noclass\n",
      "32 patches in MVe_surround_LC\n",
      "1313 patches in IC_surround_noclass\n",
      "120 patches in IC_surround_SC\n",
      "1893 patches in SC_surround_noclass\n",
      "160 patches in SC_surround_IC\n",
      "1104 patches in LRt_surround_noclass\n",
      "1526 patches in Sp5C_surround_noclass\n",
      "532 patches in LC_surround_noclass\n",
      "113 patches in LC_surround_MVe\n",
      "944 patches in SNR_surround_noclass\n",
      "36 patches in SNR_surround_SNC\n",
      "518 patches in 7n_surround_noclass\n",
      "371 patches in SNC_surround_noclass\n",
      "164 patches in SNC_surround_SNR\n",
      "865 patches in Pn_surround_noclass\n",
      "14333 patches in bg\n",
      "32 patches in SNC\n"
     ]
    },
    {
     "name": "stderr",
     "output_type": "stream",
     "text": [
      "Analyzing section 181..\n"
     ]
    },
    {
     "name": "stdout",
     "output_type": "stream",
     "text": [
      "2383 patches in SC\n",
      "334 patches in LRt\n",
      "283 patches in Pn\n",
      "79 patches in LC\n",
      "858 patches in Sp5C\n",
      "258 patches in SNR\n",
      "60 patches in 7n\n",
      "245 patches in 7N\n",
      "1531 patches in IC\n",
      "365 patches in SNC_surround_noclass\n",
      "148 patches in SNC_surround_SNR\n",
      "1852 patches in SC_surround_noclass\n",
      "139 patches in SC_surround_IC\n",
      "1043 patches in LRt_surround_noclass\n",
      "818 patches in Pn_surround_noclass\n",
      "651 patches in LC_surround_noclass\n",
      "1461 patches in Sp5C_surround_noclass\n",
      "870 patches in SNR_surround_noclass\n",
      "32 patches in SNR_surround_SNC\n",
      "504 patches in 7n_surround_noclass\n",
      "848 patches in 7N_surround_noclass\n",
      "1298 patches in IC_surround_noclass\n",
      "110 patches in IC_surround_SC\n",
      "14143 patches in bg\n",
      "58 patches in 7n\n",
      "31 patches in SNC\n",
      "118 patches in LC\n",
      "1508 patches in IC\n"
     ]
    },
    {
     "name": "stderr",
     "output_type": "stream",
     "text": [
      "Analyzing section 182..\n"
     ]
    },
    {
     "name": "stdout",
     "output_type": "stream",
     "text": [
      "257 patches in 7N\n",
      "218 patches in SNR\n",
      "292 patches in Pn\n",
      "318 patches in LRt\n",
      "849 patches in Sp5C\n",
      "2323 patches in SC\n",
      "491 patches in 7n_surround_noclass\n",
      "375 patches in SNC_surround_noclass\n",
      "137 patches in SNC_surround_SNR\n",
      "698 patches in LC_surround_noclass\n",
      "1288 patches in IC_surround_noclass\n",
      "108 patches in IC_surround_SC\n",
      "852 patches in 7N_surround_noclass\n",
      "808 patches in SNR_surround_noclass\n",
      "31 patches in SNR_surround_SNC\n",
      "760 patches in Pn_surround_noclass\n",
      "1017 patches in LRt_surround_noclass\n",
      "1388 patches in Sp5C_surround_noclass\n",
      "1834 patches in SC_surround_noclass\n",
      "140 patches in SC_surround_IC\n",
      "14097 patches in bg\n"
     ]
    },
    {
     "name": "stderr",
     "output_type": "stream",
     "text": [
      "Analyzing section 183..\n"
     ]
    },
    {
     "name": "stdout",
     "output_type": "stream",
     "text": [
      "830 patches in Sp5C\n",
      "56 patches in 7n\n",
      "297 patches in Pn\n",
      "262 patches in 7N\n",
      "157 patches in LC\n",
      "1488 patches in IC\n",
      "28 patches in SNC\n",
      "291 patches in LRt\n",
      "2277 patches in SC\n",
      "189 patches in SNR\n",
      "1345 patches in Sp5C_surround_noclass\n",
      "498 patches in 7n_surround_noclass\n",
      "768 patches in Pn_surround_noclass\n",
      "850 patches in 7N_surround_noclass\n",
      "772 patches in LC_surround_noclass\n",
      "1272 patches in IC_surround_noclass\n",
      "113 patches in IC_surround_SC\n",
      "374 patches in SNC_surround_noclass\n",
      "128 patches in SNC_surround_SNR\n",
      "992 patches in LRt_surround_noclass\n",
      "1804 patches in SC_surround_noclass\n",
      "146 patches in SC_surround_IC\n",
      "771 patches in SNR_surround_noclass\n",
      "28 patches in SNR_surround_SNC\n",
      "14012 patches in bg\n",
      "19 patches in RMC\n",
      "26 patches in SNC\n",
      "275 patches in LRt\n"
     ]
    },
    {
     "name": "stderr",
     "output_type": "stream",
     "text": [
      "Analyzing section 184..\n"
     ]
    },
    {
     "name": "stdout",
     "output_type": "stream",
     "text": [
      "304 patches in Pn\n",
      "2219 patches in SC\n",
      "55 patches in 7n\n",
      "1460 patches in IC\n",
      "270 patches in 7N\n",
      "154 patches in SNR\n",
      "807 patches in Sp5C\n",
      "173 patches in LC\n",
      "379 patches in RMC_surround_noclass\n",
      "385 patches in SNC_surround_noclass\n",
      "117 patches in SNC_surround_SNR\n",
      "978 patches in LRt_surround_noclass\n",
      "747 patches in Pn_surround_noclass\n",
      "1784 patches in SC_surround_noclass\n",
      "145 patches in SC_surround_IC\n",
      "486 patches in 7n_surround_noclass\n",
      "1263 patches in IC_surround_noclass\n",
      "113 patches in IC_surround_SC\n",
      "851 patches in 7N_surround_noclass\n",
      "719 patches in SNR_surround_noclass\n",
      "26 patches in SNR_surround_SNC\n",
      "1378 patches in Sp5C_surround_noclass\n",
      "746 patches in LC_surround_noclass\n",
      "13813 patches in bg\n",
      "2172 patches in SC\n"
     ]
    },
    {
     "name": "stderr",
     "output_type": "stream",
     "text": [
      "Analyzing section 185..\n"
     ]
    },
    {
     "name": "stdout",
     "output_type": "stream",
     "text": [
      "28 patches in SNC\n",
      "1441 patches in IC\n",
      "130 patches in SNR\n",
      "26 patches in RMC\n",
      "53 patches in 7n\n",
      "279 patches in 7N\n",
      "195 patches in LC\n",
      "796 patches in Sp5C\n",
      "261 patches in LRt\n",
      "307 patches in Pn\n",
      "1762 patches in SC_surround_noclass\n",
      "148 patches in SC_surround_IC\n",
      "392 patches in SNC_surround_noclass\n",
      "108 patches in SNC_surround_SNR\n",
      "1252 patches in IC_surround_noclass\n",
      "115 patches in IC_surround_SC\n",
      "680 patches in SNR_surround_noclass\n",
      "28 patches in SNR_surround_SNC\n",
      "400 patches in RMC_surround_noclass\n",
      "478 patches in 7n_surround_noclass\n",
      "853 patches in 7N_surround_noclass\n",
      "756 patches in LC_surround_noclass\n",
      "1314 patches in Sp5C_surround_noclass\n",
      "963 patches in LRt_surround_noclass\n",
      "760 patches in Pn_surround_noclass\n",
      "13844 patches in bg\n",
      "25 patches in SNC\n"
     ]
    },
    {
     "name": "stderr",
     "output_type": "stream",
     "text": [
      "Analyzing section 186..\n"
     ]
    },
    {
     "name": "stdout",
     "output_type": "stream",
     "text": [
      "1415 patches in IC\n",
      "101 patches in SNR\n",
      "307 patches in Pn\n",
      "2117 patches in SC\n",
      "216 patches in LC\n",
      "765 patches in Sp5C\n",
      "51 patches in 7n\n",
      "287 patches in 7N\n",
      "238 patches in LRt\n",
      "42 patches in RMC\n",
      "402 patches in SNC_surround_noclass\n",
      "92 patches in SNC_surround_SNR\n",
      "1259 patches in IC_surround_noclass\n",
      "115 patches in IC_surround_SC\n",
      "632 patches in SNR_surround_noclass\n",
      "25 patches in SNR_surround_SNC\n",
      "757 patches in Pn_surround_noclass\n",
      "1740 patches in SC_surround_noclass\n",
      "142 patches in SC_surround_IC\n",
      "777 patches in LC_surround_noclass\n",
      "1291 patches in Sp5C_surround_noclass\n",
      "475 patches in 7n_surround_noclass\n",
      "848 patches in 7N_surround_noclass\n",
      "935 patches in LRt_surround_noclass\n",
      "446 patches in RMC_surround_noclass\n",
      "13894 patches in bg\n",
      "318 patches in Pn\n",
      "259 patches in LC\n",
      "1402 patches in IC\n",
      "248 patches in Sol\n",
      "63 patches in SNR\n"
     ]
    },
    {
     "name": "stderr",
     "output_type": "stream",
     "text": [
      "Analyzing section 187..\n",
      "Analyzing section 188..\n"
     ]
    },
    {
     "name": "stdout",
     "output_type": "stream",
     "text": [
      "78 patches in RMC\n",
      "27 patches in SNC\n",
      "721 patches in Sp5C\n",
      "306 patches in 7N\n",
      "171 patches in RtTg\n",
      "1039 patches in MVe\n",
      "2041 patches in SC\n",
      "53 patches in 7n\n",
      "341 patches in RPC\n",
      "218 patches in LRt\n",
      "723 patches in Pn_surround_noclass\n",
      "39 patches in Pn_surround_RtTg\n",
      "741 patches in LC_surround_noclass\n",
      "115 patches in LC_surround_MVe\n",
      "1218 patches in IC_surround_noclass\n",
      "128 patches in IC_surround_SC\n",
      "726 patches in Sol_surround_noclass\n",
      "260 patches in Sol_surround_MVe\n",
      "570 patches in SNR_surround_noclass\n",
      "27 patches in SNR_surround_SNC\n",
      "389 patches in RMC_surround_noclass\n",
      "161 patches in RMC_surround_RPC\n",
      "468 patches in SNC_surround_noclass\n",
      "63 patches in SNC_surround_SNR\n",
      "1291 patches in Sp5C_surround_noclass\n",
      "862 patches in 7N_surround_noclass\n",
      "748 patches in RtTg_surround_noclass\n",
      "61 patches in RtTg_surround_Pn\n",
      "1275 patches in MVe_surround_noclass\n",
      "105 patches in MVe_surround_LC\n",
      "188 patches in MVe_surround_Sol\n",
      "31 patches in MVe_surround_7n\n",
      "1706 patches in SC_surround_noclass\n",
      "161 patches in SC_surround_IC\n",
      "416 patches in 7n_surround_noclass\n",
      "61 patches in 7n_surround_MVe\n",
      "817 patches in RPC_surround_noclass\n",
      "78 patches in RPC_surround_RMC\n",
      "927 patches in LRt_surround_noclass\n",
      "13854 patches in bg\n"
     ]
    },
    {
     "name": "stderr",
     "output_type": "stream",
     "text": [
      "Analyzing section 189..\n"
     ]
    },
    {
     "name": "stdout",
     "output_type": "stream",
     "text": [
      "190 patches in RtTg\n",
      "2163 patches in SC\n",
      "1336 patches in IC\n",
      "715 patches in Sp5C\n",
      "271 patches in 7N\n",
      "199 patches in LC\n",
      "47 patches in 7n\n",
      "306 patches in Pn\n",
      "79 patches in RMC\n",
      "219 patches in LRt\n",
      "750 patches in RtTg_surround_noclass\n",
      "48 patches in RtTg_surround_Pn\n",
      "1733 patches in SC_surround_noclass\n",
      "164 patches in SC_surround_IC\n",
      "1221 patches in IC_surround_noclass\n",
      "131 patches in IC_surround_SC\n",
      "1235 patches in Sp5C_surround_noclass\n",
      "821 patches in 7N_surround_noclass\n",
      "755 patches in LC_surround_noclass\n",
      "463 patches in 7n_surround_noclass\n",
      "727 patches in Pn_surround_noclass\n",
      "30 patches in Pn_surround_RtTg\n",
      "559 patches in RMC_surround_noclass\n",
      "885 patches in LRt_surround_noclass\n",
      "13713 patches in bg\n"
     ]
    },
    {
     "name": "stderr",
     "output_type": "stream",
     "text": [
      "Analyzing section 190..\n"
     ]
    },
    {
     "name": "stdout",
     "output_type": "stream",
     "text": [
      "714 patches in Sp5C\n",
      "46 patches in 7n\n",
      "218 patches in RtTg\n",
      "83 patches in RMC\n",
      "160 patches in LC\n",
      "304 patches in Pn\n",
      "2297 patches in SC\n",
      "233 patches in LRt\n",
      "12 patches in Tz\n",
      "1308 patches in IC\n",
      "257 patches in 7N\n",
      "1245 patches in Sp5C_surround_noclass\n",
      "465 patches in 7n_surround_noclass\n",
      "743 patches in RtTg_surround_noclass\n",
      "9 patches in RtTg_surround_Tz\n",
      "47 patches in RtTg_surround_Pn\n",
      "570 patches in RMC_surround_noclass\n",
      "730 patches in LC_surround_noclass\n",
      "715 patches in Pn_surround_noclass\n",
      "31 patches in Pn_surround_RtTg\n",
      "1777 patches in SC_surround_noclass\n",
      "174 patches in SC_surround_IC\n",
      "831 patches in LRt_surround_noclass\n",
      "349 patches in Tz_surround_noclass\n",
      "21 patches in Tz_surround_RtTg\n",
      "1197 patches in IC_surround_noclass\n",
      "143 patches in IC_surround_SC\n",
      "797 patches in 7N_surround_noclass\n",
      "13658 patches in bg\n",
      "252 patches in RtTg\n",
      "234 patches in 7N\n"
     ]
    },
    {
     "name": "stderr",
     "output_type": "stream",
     "text": [
      "Analyzing section 191..\n"
     ]
    },
    {
     "name": "stdout",
     "output_type": "stream",
     "text": [
      "2450 patches in SC\n",
      "137 patches in LC\n",
      "48 patches in 7n\n",
      "307 patches in Pn\n",
      "91 patches in RMC\n",
      "721 patches in Sp5C\n",
      "1273 patches in IC\n",
      "233 patches in LRt\n",
      "19 patches in Tz\n",
      "763 patches in RtTg_surround_noclass\n",
      "10 patches in RtTg_surround_Tz\n",
      "47 patches in RtTg_surround_Pn\n",
      "761 patches in 7N_surround_noclass\n",
      "1815 patches in SC_surround_noclass\n",
      "192 patches in SC_surround_IC\n",
      "707 patches in LC_surround_noclass\n",
      "467 patches in 7n_surround_noclass\n",
      "737 patches in Pn_surround_noclass\n",
      "24 patches in Pn_surround_RtTg\n",
      "590 patches in RMC_surround_noclass\n",
      "1166 patches in Sp5C_surround_noclass\n",
      "1177 patches in IC_surround_noclass\n",
      "159 patches in IC_surround_SC\n",
      "864 patches in LRt_surround_noclass\n",
      "367 patches in Tz_surround_noclass\n",
      "23 patches in Tz_surround_RtTg\n",
      "13566 patches in bg\n",
      "49 patches in 7n\n",
      "136 patches in LC\n"
     ]
    },
    {
     "name": "stderr",
     "output_type": "stream",
     "text": [
      "Analyzing section 192..\n"
     ]
    },
    {
     "name": "stdout",
     "output_type": "stream",
     "text": [
      "237 patches in LRt\n",
      "2577 patches in SC\n",
      "221 patches in 7N\n",
      "706 patches in Sp5C\n",
      "306 patches in Pn\n",
      "32 patches in Tz\n",
      "271 patches in RtTg\n",
      "1232 patches in IC\n",
      "97 patches in RMC\n",
      "463 patches in 7n_surround_noclass\n",
      "748 patches in LC_surround_noclass\n",
      "863 patches in LRt_surround_noclass\n",
      "1860 patches in SC_surround_noclass\n",
      "205 patches in SC_surround_IC\n",
      "727 patches in 7N_surround_noclass\n",
      "1197 patches in Sp5C_surround_noclass\n",
      "747 patches in Pn_surround_noclass\n",
      "22 patches in Pn_surround_RtTg\n",
      "421 patches in Tz_surround_noclass\n",
      "20 patches in Tz_surround_RtTg\n",
      "798 patches in RtTg_surround_noclass\n",
      "13 patches in RtTg_surround_Tz\n",
      "44 patches in RtTg_surround_Pn\n",
      "1157 patches in IC_surround_noclass\n",
      "172 patches in IC_surround_SC\n",
      "607 patches in RMC_surround_noclass\n",
      "13400 patches in bg\n",
      "1168 patches in IC\n"
     ]
    },
    {
     "name": "stderr",
     "output_type": "stream",
     "text": [
      "Analyzing section 193..\n",
      "Analyzing section 194..\n"
     ]
    },
    {
     "name": "stdout",
     "output_type": "stream",
     "text": [
      "309 patches in Pn\n",
      "257 patches in LRt\n",
      "108 patches in RMC\n",
      "320 patches in RtTg\n",
      "2890 patches in SC\n",
      "74 patches in Tz\n",
      "51 patches in 7n\n",
      "691 patches in Sp5C\n",
      "187 patches in 7N\n",
      "1122 patches in IC_surround_noclass\n",
      "203 patches in IC_surround_SC\n",
      "754 patches in Pn_surround_noclass\n",
      "20 patches in Pn_surround_RtTg\n",
      "842 patches in LRt_surround_noclass\n",
      "665 patches in RMC_surround_noclass\n",
      "848 patches in RtTg_surround_noclass\n",
      "15 patches in RtTg_surround_Tz\n",
      "41 patches in RtTg_surround_Pn\n",
      "1942 patches in SC_surround_noclass\n",
      "243 patches in SC_surround_IC\n",
      "514 patches in Tz_surround_noclass\n",
      "20 patches in Tz_surround_RtTg\n",
      "467 patches in 7n_surround_noclass\n",
      "1159 patches in Sp5C_surround_noclass\n",
      "685 patches in 7N_surround_noclass\n",
      "13319 patches in bg\n",
      "355 patches in RtTg\n",
      "58 patches in 7n\n",
      "684 patches in Sp5C\n"
     ]
    },
    {
     "name": "stderr",
     "output_type": "stream",
     "text": [
      "Analyzing section 195..\n"
     ]
    },
    {
     "name": "stdout",
     "output_type": "stream",
     "text": [
      "175 patches in 7N\n",
      "315 patches in Pn\n",
      "101 patches in Tz\n",
      "3069 patches in SC\n",
      "332 patches in RPC\n",
      "1152 patches in IC\n",
      "275 patches in LRt\n",
      "117 patches in RMC\n",
      "881 patches in RtTg_surround_noclass\n",
      "21 patches in RtTg_surround_Tz\n",
      "61 patches in RtTg_surround_Pn\n",
      "482 patches in 7n_surround_noclass\n",
      "1221 patches in Sp5C_surround_noclass\n",
      "660 patches in 7N_surround_noclass\n",
      "752 patches in Pn_surround_noclass\n",
      "31 patches in Pn_surround_RtTg\n",
      "567 patches in Tz_surround_noclass\n",
      "34 patches in Tz_surround_RtTg\n",
      "1 patches in Tz_surround_Pn\n",
      "2005 patches in SC_surround_noclass\n",
      "283 patches in SC_surround_IC\n",
      "779 patches in RPC_surround_noclass\n",
      "117 patches in RPC_surround_RMC\n",
      "1086 patches in IC_surround_noclass\n",
      "231 patches in IC_surround_SC\n",
      "858 patches in LRt_surround_noclass\n",
      "519 patches in RMC_surround_noclass\n",
      "188 patches in RMC_surround_RPC\n",
      "13414 patches in bg\n"
     ]
    },
    {
     "name": "stderr",
     "output_type": "stream",
     "text": [
      "Analyzing section 196..\n"
     ]
    },
    {
     "name": "stdout",
     "output_type": "stream",
     "text": [
      "130 patches in RMC\n",
      "61 patches in 7n\n",
      "314 patches in Pn\n",
      "2991 patches in SC\n",
      "102 patches in Tz\n",
      "1111 patches in IC\n",
      "358 patches in RtTg\n",
      "704 patches in RMC_surround_noclass\n",
      "496 patches in 7n_surround_noclass\n",
      "715 patches in Pn_surround_noclass\n",
      "25 patches in Pn_surround_RtTg\n",
      "1956 patches in SC_surround_noclass\n",
      "261 patches in SC_surround_IC\n",
      "591 patches in Tz_surround_noclass\n",
      "26 patches in Tz_surround_RtTg\n",
      "1047 patches in IC_surround_noclass\n",
      "220 patches in IC_surround_SC\n",
      "876 patches in RtTg_surround_noclass\n",
      "14 patches in RtTg_surround_Tz\n",
      "45 patches in RtTg_surround_Pn\n",
      "13940 patches in bg\n",
      "65 patches in 7n\n",
      "20 patches in IO\n",
      "112 patches in Tz\n",
      "1094 patches in IC\n"
     ]
    },
    {
     "name": "stderr",
     "output_type": "stream",
     "text": [
      "Analyzing section 197..\n"
     ]
    },
    {
     "name": "stdout",
     "output_type": "stream",
     "text": [
      "318 patches in Pn\n",
      "2951 patches in SC\n",
      "145 patches in RMC\n",
      "357 patches in RtTg\n",
      "512 patches in 7n_surround_noclass\n",
      "437 patches in IO_surround_noclass\n",
      "632 patches in Tz_surround_noclass\n",
      "21 patches in Tz_surround_RtTg\n",
      "1030 patches in IC_surround_noclass\n",
      "218 patches in IC_surround_SC\n",
      "794 patches in Pn_surround_noclass\n",
      "22 patches in Pn_surround_RtTg\n",
      "1937 patches in SC_surround_noclass\n",
      "260 patches in SC_surround_IC\n",
      "714 patches in RMC_surround_noclass\n",
      "869 patches in RtTg_surround_noclass\n",
      "12 patches in RtTg_surround_Tz\n",
      "39 patches in RtTg_surround_Pn\n",
      "13236 patches in bg\n",
      "121 patches in Tz\n"
     ]
    },
    {
     "name": "stderr",
     "output_type": "stream",
     "text": [
      "Analyzing section 198..\n"
     ]
    },
    {
     "name": "stdout",
     "output_type": "stream",
     "text": [
      "361 patches in RtTg\n",
      "2895 patches in SC\n",
      "71 patches in 7n\n",
      "25 patches in IO\n",
      "1058 patches in IC\n",
      "164 patches in RMC\n",
      "314 patches in Pn\n",
      "655 patches in Tz_surround_noclass\n",
      "22 patches in Tz_surround_RtTg\n",
      "865 patches in RtTg_surround_noclass\n",
      "11 patches in RtTg_surround_Tz\n",
      "37 patches in RtTg_surround_Pn\n",
      "1914 patches in SC_surround_noclass\n",
      "255 patches in SC_surround_IC\n",
      "526 patches in 7n_surround_noclass\n",
      "467 patches in IO_surround_noclass\n",
      "995 patches in IC_surround_noclass\n",
      "214 patches in IC_surround_SC\n",
      "732 patches in RMC_surround_noclass\n",
      "793 patches in Pn_surround_noclass\n",
      "23 patches in Pn_surround_RtTg\n",
      "13154 patches in bg\n",
      "127 patches in Tz\n",
      "323 patches in Pn\n"
     ]
    },
    {
     "name": "stderr",
     "output_type": "stream",
     "text": [
      "Analyzing section 199..\n"
     ]
    },
    {
     "name": "stdout",
     "output_type": "stream",
     "text": [
      "180 patches in RMC\n",
      "365 patches in RtTg\n",
      "29 patches in IO\n",
      "2860 patches in SC\n",
      "1042 patches in IC\n",
      "81 patches in 7n\n",
      "685 patches in Tz_surround_noclass\n",
      "28 patches in Tz_surround_RtTg\n",
      "783 patches in Pn_surround_noclass\n",
      "28 patches in Pn_surround_RtTg\n",
      "760 patches in RMC_surround_noclass\n",
      "866 patches in RtTg_surround_noclass\n",
      "10 patches in RtTg_surround_Tz\n",
      "43 patches in RtTg_surround_Pn\n",
      "509 patches in IO_surround_noclass\n",
      "1893 patches in SC_surround_noclass\n",
      "257 patches in SC_surround_IC\n",
      "970 patches in IC_surround_noclass\n",
      "214 patches in IC_surround_SC\n",
      "541 patches in 7n_surround_noclass\n",
      "13160 patches in bg\n"
     ]
    },
    {
     "name": "stderr",
     "output_type": "stream",
     "text": [
      "Analyzing section 200..\n"
     ]
    },
    {
     "name": "stdout",
     "output_type": "stream",
     "text": [
      "38 patches in IO\n",
      "327 patches in Pn\n",
      "2808 patches in SC\n",
      "89 patches in 7n\n",
      "1018 patches in IC\n",
      "202 patches in RMC\n",
      "363 patches in RtTg\n",
      "643 patches in VTA\n",
      "140 patches in Tz\n",
      "527 patches in IO_surround_noclass\n",
      "732 patches in Pn_surround_noclass\n",
      "31 patches in Pn_surround_RtTg\n",
      "1868 patches in SC_surround_noclass\n",
      "248 patches in SC_surround_IC\n",
      "561 patches in 7n_surround_noclass\n",
      "958 patches in IC_surround_noclass\n",
      "210 patches in IC_surround_SC\n",
      "759 patches in RMC_surround_noclass\n",
      "25 patches in RMC_surround_VTA\n",
      "856 patches in RtTg_surround_noclass\n",
      "11 patches in RtTg_surround_Tz\n",
      "43 patches in RtTg_surround_Pn\n",
      "1117 patches in VTA_surround_noclass\n",
      "11 patches in VTA_surround_RMC\n",
      "717 patches in Tz_surround_noclass\n",
      "21 patches in Tz_surround_RtTg\n",
      "13220 patches in bg\n",
      "218 patches in RMC\n",
      "97 patches in 7n\n"
     ]
    },
    {
     "name": "stderr",
     "output_type": "stream",
     "text": [
      "Analyzing section 201..\n"
     ]
    },
    {
     "name": "stdout",
     "output_type": "stream",
     "text": [
      "363 patches in RtTg\n",
      "2773 patches in SC\n",
      "150 patches in Tz\n",
      "330 patches in Pn\n",
      "997 patches in IC\n",
      "38 patches in IO\n",
      "800 patches in RMC_surround_noclass\n",
      "583 patches in 7n_surround_noclass\n",
      "859 patches in RtTg_surround_noclass\n",
      "11 patches in RtTg_surround_Tz\n",
      "45 patches in RtTg_surround_Pn\n",
      "1851 patches in SC_surround_noclass\n",
      "250 patches in SC_surround_IC\n",
      "735 patches in Tz_surround_noclass\n",
      "30 patches in Tz_surround_RtTg\n",
      "769 patches in Pn_surround_noclass\n",
      "36 patches in Pn_surround_RtTg\n",
      "941 patches in IC_surround_noclass\n",
      "210 patches in IC_surround_SC\n",
      "592 patches in IO_surround_noclass\n",
      "13046 patches in bg\n",
      "50 patches in IO\n",
      "2748 patches in SC\n",
      "994 patches in IC\n",
      "366 patches in RtTg\n",
      "114 patches in 7n\n"
     ]
    },
    {
     "name": "stderr",
     "output_type": "stream",
     "text": [
      "Analyzing section 202..\n"
     ]
    },
    {
     "name": "stdout",
     "output_type": "stream",
     "text": [
      "345 patches in Pn\n",
      "244 patches in RMC\n",
      "163 patches in Tz\n",
      "679 patches in IO_surround_noclass\n",
      "1876 patches in SC_surround_noclass\n",
      "266 patches in SC_surround_IC\n",
      "916 patches in IC_surround_noclass\n",
      "222 patches in IC_surround_SC\n",
      "878 patches in RtTg_surround_noclass\n",
      "13 patches in RtTg_surround_Tz\n",
      "55 patches in RtTg_surround_Pn\n",
      "616 patches in 7n_surround_noclass\n",
      "792 patches in Pn_surround_noclass\n",
      "46 patches in Pn_surround_RtTg\n",
      "850 patches in RMC_surround_noclass\n",
      "767 patches in Tz_surround_noclass\n",
      "41 patches in Tz_surround_RtTg\n",
      "13038 patches in bg\n",
      "149 patches in Tz\n",
      "217 patches in RMC\n",
      "74 patches in IO\n"
     ]
    },
    {
     "name": "stderr",
     "output_type": "stream",
     "text": [
      "Analyzing section 203..\n"
     ]
    },
    {
     "name": "stdout",
     "output_type": "stream",
     "text": [
      "934 patches in IC\n",
      "355 patches in Pn\n",
      "82 patches in 7n\n",
      "2661 patches in SC\n",
      "377 patches in RtTg\n",
      "762 patches in Tz_surround_noclass\n",
      "28 patches in Tz_surround_RtTg\n",
      "787 patches in RMC_surround_noclass\n",
      "784 patches in IO_surround_noclass\n",
      "921 patches in IC_surround_noclass\n",
      "193 patches in IC_surround_SC\n",
      "755 patches in Pn_surround_noclass\n",
      "48 patches in Pn_surround_RtTg\n",
      "553 patches in 7n_surround_noclass\n",
      "1859 patches in SC_surround_noclass\n",
      "226 patches in SC_surround_IC\n",
      "866 patches in RtTg_surround_noclass\n",
      "7 patches in RtTg_surround_Tz\n",
      "60 patches in RtTg_surround_Pn\n",
      "13125 patches in bg\n",
      "910 patches in IC\n"
     ]
    },
    {
     "name": "stderr",
     "output_type": "stream",
     "text": [
      "Analyzing section 204..\n"
     ]
    },
    {
     "name": "stdout",
     "output_type": "stream",
     "text": [
      "152 patches in Tz\n",
      "68 patches in 7n\n",
      "201 patches in RMC\n",
      "388 patches in RtTg\n",
      "371 patches in Pn\n",
      "2601 patches in SC\n",
      "106 patches in IO\n",
      "950 patches in IC_surround_noclass\n",
      "177 patches in IC_surround_SC\n",
      "759 patches in Tz_surround_noclass\n",
      "22 patches in Tz_surround_RtTg\n",
      "521 patches in 7n_surround_noclass\n",
      "774 patches in RMC_surround_noclass\n",
      "866 patches in RtTg_surround_noclass\n",
      "8 patches in RtTg_surround_Tz\n",
      "64 patches in RtTg_surround_Pn\n",
      "782 patches in Pn_surround_noclass\n",
      "54 patches in Pn_surround_RtTg\n",
      "1871 patches in SC_surround_noclass\n",
      "210 patches in SC_surround_IC\n",
      "846 patches in IO_surround_noclass\n",
      "12735 patches in bg\n",
      "156 patches in IO\n",
      "390 patches in Pn\n",
      "404 patches in RtTg\n"
     ]
    },
    {
     "name": "stderr",
     "output_type": "stream",
     "text": [
      "Analyzing section 205..\n"
     ]
    },
    {
     "name": "stdout",
     "output_type": "stream",
     "text": [
      "876 patches in IC\n",
      "2529 patches in SC\n",
      "177 patches in RMC\n",
      "51 patches in 7n\n",
      "141 patches in Tz\n",
      "904 patches in IO_surround_noclass\n",
      "775 patches in Pn_surround_noclass\n",
      "62 patches in Pn_surround_RtTg\n",
      "862 patches in RtTg_surround_noclass\n",
      "10 patches in RtTg_surround_Tz\n",
      "78 patches in RtTg_surround_Pn\n",
      "954 patches in IC_surround_noclass\n",
      "161 patches in IC_surround_SC\n",
      "1877 patches in SC_surround_noclass\n",
      "188 patches in SC_surround_IC\n",
      "752 patches in RMC_surround_noclass\n",
      "482 patches in 7n_surround_noclass\n",
      "752 patches in Tz_surround_noclass\n",
      "20 patches in Tz_surround_RtTg\n",
      "12957 patches in bg\n"
     ]
    },
    {
     "name": "stderr",
     "output_type": "stream",
     "text": [
      "Analyzing section 206..\n"
     ]
    },
    {
     "name": "stdout",
     "output_type": "stream",
     "text": [
      "2453 patches in SC\n",
      "406 patches in Pn\n",
      "134 patches in Tz\n",
      "413 patches in RtTg\n",
      "188 patches in IO\n",
      "42 patches in 7n\n",
      "167 patches in RMC\n",
      "837 patches in IC\n",
      "1893 patches in SC_surround_noclass\n",
      "174 patches in SC_surround_IC\n",
      "753 patches in Pn_surround_noclass\n",
      "64 patches in Pn_surround_RtTg\n",
      "753 patches in Tz_surround_noclass\n",
      "18 patches in Tz_surround_RtTg\n",
      "870 patches in RtTg_surround_noclass\n",
      "10 patches in RtTg_surround_Tz\n",
      "83 patches in RtTg_surround_Pn\n",
      "954 patches in IO_surround_noclass\n",
      "450 patches in 7n_surround_noclass\n",
      "715 patches in RMC_surround_noclass\n",
      "942 patches in IC_surround_noclass\n",
      "143 patches in IC_surround_SC\n",
      "13104 patches in bg\n",
      "148 patches in RMC\n",
      "807 patches in IC\n",
      "32 patches in 7n\n",
      "256 patches in IO\n"
     ]
    },
    {
     "name": "stderr",
     "output_type": "stream",
     "text": [
      "Analyzing section 207..\n"
     ]
    },
    {
     "name": "stdout",
     "output_type": "stream",
     "text": [
      "430 patches in RtTg\n",
      "423 patches in Pn\n",
      "2 patches in 6N\n",
      "2391 patches in SC\n",
      "130 patches in Tz\n",
      "689 patches in RMC_surround_noclass\n",
      "926 patches in IC_surround_noclass\n",
      "132 patches in IC_surround_SC\n",
      "422 patches in 7n_surround_noclass\n",
      "2 patches in 7n_surround_6N\n",
      "1037 patches in IO_surround_noclass\n",
      "884 patches in RtTg_surround_noclass\n",
      "9 patches in RtTg_surround_Tz\n",
      "98 patches in RtTg_surround_Pn\n",
      "725 patches in Pn_surround_noclass\n",
      "76 patches in Pn_surround_RtTg\n",
      "256 patches in 6N_surround_noclass\n",
      "32 patches in 6N_surround_7n\n",
      "1905 patches in SC_surround_noclass\n",
      "158 patches in SC_surround_IC\n",
      "740 patches in Tz_surround_noclass\n",
      "23 patches in Tz_surround_RtTg\n",
      "13272 patches in bg\n",
      "302 patches in IO\n",
      "127 patches in Tz\n"
     ]
    },
    {
     "name": "stderr",
     "output_type": "stream",
     "text": [
      "Analyzing section 208..\n"
     ]
    },
    {
     "name": "stdout",
     "output_type": "stream",
     "text": [
      "436 patches in RtTg\n",
      "778 patches in IC\n",
      "2325 patches in SC\n",
      "439 patches in Pn\n",
      "5 patches in 6N\n",
      "23 patches in 7n\n",
      "131 patches in RMC\n",
      "1092 patches in IO_surround_noclass\n",
      "749 patches in Tz_surround_noclass\n",
      "18 patches in Tz_surround_RtTg\n",
      "880 patches in RtTg_surround_noclass\n",
      "9 patches in RtTg_surround_Tz\n",
      "106 patches in RtTg_surround_Pn\n",
      "945 patches in IC_surround_noclass\n",
      "122 patches in IC_surround_SC\n",
      "1921 patches in SC_surround_noclass\n",
      "150 patches in SC_surround_IC\n",
      "741 patches in Pn_surround_noclass\n",
      "80 patches in Pn_surround_RtTg\n",
      "269 patches in 6N_surround_noclass\n",
      "23 patches in 6N_surround_7n\n",
      "388 patches in 7n_surround_noclass\n",
      "5 patches in 7n_surround_6N\n",
      "674 patches in RMC_surround_noclass\n",
      "13184 patches in bg\n",
      "19 patches in 7n\n",
      "7 patches in 6N\n",
      "448 patches in RtTg\n",
      "450 patches in Pn\n"
     ]
    },
    {
     "name": "stderr",
     "output_type": "stream",
     "text": [
      "Analyzing section 209..\n"
     ]
    },
    {
     "name": "stdout",
     "output_type": "stream",
     "text": [
      "2245 patches in SC\n",
      "6 patches in 4N\n",
      "370 patches in IO\n",
      "745 patches in IC\n",
      "123 patches in Tz\n",
      "117 patches in RMC\n",
      "378 patches in 7n_surround_noclass\n",
      "7 patches in 7n_surround_6N\n",
      "292 patches in 6N_surround_noclass\n",
      "19 patches in 6N_surround_7n\n",
      "902 patches in RtTg_surround_noclass\n",
      "9 patches in RtTg_surround_Tz\n",
      "112 patches in RtTg_surround_Pn\n",
      "752 patches in Pn_surround_noclass\n",
      "87 patches in Pn_surround_RtTg\n",
      "1936 patches in SC_surround_noclass\n",
      "138 patches in SC_surround_IC\n",
      "324 patches in 4N_surround_noclass\n",
      "1135 patches in IO_surround_noclass\n",
      "948 patches in IC_surround_noclass\n",
      "116 patches in IC_surround_SC\n",
      "730 patches in Tz_surround_noclass\n",
      "15 patches in Tz_surround_RtTg\n",
      "644 patches in RMC_surround_noclass\n",
      "13232 patches in bg\n",
      "22 patches in 7n\n",
      "692 patches in MVe\n"
     ]
    },
    {
     "name": "stderr",
     "output_type": "stream",
     "text": [
      "Analyzing section 210..\n"
     ]
    },
    {
     "name": "stdout",
     "output_type": "stream",
     "text": [
      "2 patches in 10N\n",
      "113 patches in RMC\n",
      "725 patches in IC\n",
      "463 patches in RtTg\n",
      "478 patches in Pn\n",
      "2199 patches in SC\n",
      "11 patches in 4N\n",
      "13 patches in 6N\n",
      "117 patches in Tz\n",
      "443 patches in IO\n",
      "264 patches in 7n_surround_noclass\n",
      "13 patches in 7n_surround_6N\n",
      "111 patches in 7n_surround_MVe\n",
      "1323 patches in MVe_surround_noclass\n",
      "22 patches in MVe_surround_7n\n",
      "13 patches in MVe_surround_6N\n",
      "561 patches in 10N_surround_noclass\n",
      "648 patches in RMC_surround_noclass\n",
      "969 patches in IC_surround_noclass\n",
      "115 patches in IC_surround_SC\n",
      "934 patches in RtTg_surround_noclass\n",
      "12 patches in RtTg_surround_Tz\n",
      "134 patches in RtTg_surround_Pn\n",
      "732 patches in Pn_surround_noclass\n",
      "98 patches in Pn_surround_RtTg\n",
      "1975 patches in SC_surround_noclass\n",
      "143 patches in SC_surround_IC\n",
      "342 patches in 4N_surround_noclass\n",
      "292 patches in 6N_surround_noclass\n",
      "22 patches in 6N_surround_7n\n",
      "35 patches in 6N_surround_MVe\n",
      "756 patches in Tz_surround_noclass\n",
      "32 patches in Tz_surround_RtTg\n",
      "1332 patches in IO_surround_noclass\n",
      "13219 patches in bg\n",
      "455 patches in RtTg\n",
      "14 patches in 4N\n",
      "54 patches in 3N\n"
     ]
    },
    {
     "name": "stderr",
     "output_type": "stream",
     "text": [
      "Analyzing section 211..\n"
     ]
    },
    {
     "name": "stdout",
     "output_type": "stream",
     "text": [
      "2194 patches in SC\n",
      "681 patches in IC\n",
      "13 patches in 6N\n",
      "469 patches in Pn\n",
      "4 patches in 10N\n",
      "432 patches in IO\n",
      "907 patches in RtTg_surround_noclass\n",
      "129 patches in RtTg_surround_Pn\n",
      "356 patches in 4N_surround_noclass\n",
      "3 patches in 4N_surround_3N\n",
      "512 patches in 3N_surround_noclass\n",
      "3 patches in 3N_surround_4N\n",
      "1945 patches in SC_surround_noclass\n",
      "122 patches in SC_surround_IC\n",
      "949 patches in IC_surround_noclass\n",
      "99 patches in IC_surround_SC\n",
      "339 patches in 6N_surround_noclass\n",
      "745 patches in Pn_surround_noclass\n",
      "98 patches in Pn_surround_RtTg\n",
      "545 patches in 10N_surround_noclass\n",
      "1267 patches in IO_surround_noclass\n",
      "13188 patches in bg\n"
     ]
    },
    {
     "name": "stderr",
     "output_type": "stream",
     "text": [
      "Analyzing section 212..\n"
     ]
    },
    {
     "name": "stdout",
     "output_type": "stream",
     "text": [
      "467 patches in Pn\n",
      "42 patches in 12N\n",
      "2200 patches in SC\n",
      "645 patches in IC\n",
      "419 patches in IO\n",
      "32 patches in 4N\n",
      "59 patches in 3N\n",
      "15 patches in 6N\n",
      "458 patches in RtTg\n",
      "4 patches in 10N\n",
      "755 patches in Pn_surround_noclass\n",
      "102 patches in Pn_surround_RtTg\n",
      "474 patches in 12N_surround_noclass\n",
      "4 patches in 12N_surround_10N\n",
      "1960 patches in SC_surround_noclass\n",
      "115 patches in SC_surround_IC\n",
      "938 patches in IC_surround_noclass\n",
      "93 patches in IC_surround_SC\n",
      "1299 patches in IO_surround_noclass\n",
      "412 patches in 4N_surround_noclass\n",
      "3 patches in 4N_surround_3N\n",
      "508 patches in 3N_surround_noclass\n",
      "6 patches in 3N_surround_4N\n",
      "358 patches in 6N_surround_noclass\n",
      "901 patches in RtTg_surround_noclass\n",
      "137 patches in RtTg_surround_Pn\n",
      "543 patches in 10N_surround_noclass\n",
      "38 patches in 10N_surround_12N\n",
      "13273 patches in bg\n",
      "613 patches in IC\n",
      "74 patches in 3N\n",
      "471 patches in Pn\n",
      "7 patches in 10N\n"
     ]
    },
    {
     "name": "stderr",
     "output_type": "stream",
     "text": [
      "Analyzing section 213..\n"
     ]
    },
    {
     "name": "stdout",
     "output_type": "stream",
     "text": [
      "406 patches in IO\n",
      "456 patches in RtTg\n",
      "20 patches in 6N\n",
      "2211 patches in SC\n",
      "17 patches in 4N\n",
      "60 patches in 12N\n",
      "918 patches in IC_surround_noclass\n",
      "88 patches in IC_surround_SC\n",
      "531 patches in 3N_surround_noclass\n",
      "5 patches in 3N_surround_4N\n",
      "765 patches in Pn_surround_noclass\n",
      "103 patches in Pn_surround_RtTg\n",
      "529 patches in 10N_surround_noclass\n",
      "56 patches in 10N_surround_12N\n",
      "1259 patches in IO_surround_noclass\n",
      "890 patches in RtTg_surround_noclass\n",
      "143 patches in RtTg_surround_Pn\n",
      "376 patches in 6N_surround_noclass\n",
      "1966 patches in SC_surround_noclass\n",
      "104 patches in SC_surround_IC\n",
      "359 patches in 4N_surround_noclass\n",
      "5 patches in 4N_surround_3N\n",
      "516 patches in 12N_surround_noclass\n",
      "6 patches in 12N_surround_10N\n",
      "13304 patches in bg\n",
      "465 patches in Pn\n"
     ]
    },
    {
     "name": "stderr",
     "output_type": "stream",
     "text": [
      "Analyzing section 214..\n"
     ]
    },
    {
     "name": "stdout",
     "output_type": "stream",
     "text": [
      "2223 patches in SC\n",
      "84 patches in 3N\n",
      "90 patches in 12N\n",
      "21 patches in 6N\n",
      "8 patches in 4N\n",
      "404 patches in IO\n",
      "13 patches in 10N\n",
      "29 patches in IF\n",
      "460 patches in RtTg\n",
      "581 patches in IC\n",
      "714 patches in Pn_surround_noclass\n",
      "107 patches in Pn_surround_RtTg\n",
      "1968 patches in SC_surround_noclass\n",
      "100 patches in SC_surround_IC\n",
      "564 patches in 3N_surround_noclass\n",
      "4 patches in 3N_surround_4N\n",
      "571 patches in 12N_surround_noclass\n",
      "13 patches in 12N_surround_10N\n",
      "386 patches in 6N_surround_noclass\n",
      "308 patches in 4N_surround_noclass\n",
      "7 patches in 4N_surround_3N\n",
      "1275 patches in IO_surround_noclass\n",
      "557 patches in 10N_surround_noclass\n",
      "81 patches in 10N_surround_12N\n",
      "562 patches in IF_surround_noclass\n",
      "889 patches in RtTg_surround_noclass\n",
      "151 patches in RtTg_surround_Pn\n",
      "925 patches in IC_surround_noclass\n",
      "83 patches in IC_surround_SC\n",
      "13306 patches in bg\n",
      "33 patches in 6N\n",
      "397 patches in IO\n"
     ]
    },
    {
     "name": "stderr",
     "output_type": "stream",
     "text": [
      "Analyzing section 215..\n"
     ]
    },
    {
     "name": "stdout",
     "output_type": "stream",
     "text": [
      "2227 patches in SC\n",
      "455 patches in Pn\n",
      "463 patches in RtTg\n",
      "96 patches in 3N\n",
      "7 patches in 4N\n",
      "553 patches in IC\n",
      "15 patches in 10N\n",
      "117 patches in 12N\n",
      "416 patches in 6N_surround_noclass\n",
      "1314 patches in IO_surround_noclass\n",
      "1979 patches in SC_surround_noclass\n",
      "95 patches in SC_surround_IC\n",
      "736 patches in Pn_surround_noclass\n",
      "112 patches in Pn_surround_RtTg\n",
      "889 patches in RtTg_surround_noclass\n",
      "154 patches in RtTg_surround_Pn\n",
      "597 patches in 3N_surround_noclass\n",
      "5 patches in 3N_surround_4N\n",
      "309 patches in 4N_surround_noclass\n",
      "11 patches in 4N_surround_3N\n",
      "913 patches in IC_surround_noclass\n",
      "78 patches in IC_surround_SC\n",
      "559 patches in 10N_surround_noclass\n",
      "101 patches in 10N_surround_12N\n",
      "630 patches in 12N_surround_noclass\n",
      "15 patches in 12N_surround_10N\n",
      "13379 patches in bg\n",
      "467 patches in RtTg\n",
      "18 patches in 6N\n",
      "153 patches in 12N\n",
      "8 patches in 4N\n"
     ]
    },
    {
     "name": "stderr",
     "output_type": "stream",
     "text": [
      "Analyzing section 216..\n"
     ]
    },
    {
     "name": "stdout",
     "output_type": "stream",
     "text": [
      "456 patches in Pn\n",
      "24 patches in 10N\n",
      "523 patches in IC\n",
      "111 patches in 3N\n",
      "378 patches in IO\n",
      "2243 patches in SC\n",
      "889 patches in RtTg_surround_noclass\n",
      "165 patches in RtTg_surround_Pn\n",
      "375 patches in 6N_surround_noclass\n",
      "703 patches in 12N_surround_noclass\n",
      "24 patches in 12N_surround_10N\n",
      "315 patches in 4N_surround_noclass\n",
      "15 patches in 4N_surround_3N\n",
      "764 patches in Pn_surround_noclass\n",
      "118 patches in Pn_surround_RtTg\n",
      "548 patches in 10N_surround_noclass\n",
      "129 patches in 10N_surround_12N\n",
      "891 patches in IC_surround_noclass\n",
      "71 patches in IC_surround_SC\n",
      "629 patches in 3N_surround_noclass\n",
      "8 patches in 3N_surround_4N\n",
      "1321 patches in IO_surround_noclass\n",
      "1981 patches in SC_surround_noclass\n",
      "86 patches in SC_surround_IC\n",
      "13487 patches in bg\n",
      "496 patches in IC\n",
      "123 patches in 3N\n",
      "382 patches in IO\n"
     ]
    },
    {
     "name": "stderr",
     "output_type": "stream",
     "text": [
      "Analyzing section 217..\n"
     ]
    },
    {
     "name": "stdout",
     "output_type": "stream",
     "text": [
      "465 patches in RtTg\n",
      "459 patches in Pn\n",
      "185 patches in 12N\n",
      "15 patches in 6N\n",
      "2250 patches in SC\n",
      "28 patches in 10N\n",
      "881 patches in IC_surround_noclass\n",
      "65 patches in IC_surround_SC\n",
      "660 patches in 3N_surround_noclass\n",
      "1306 patches in IO_surround_noclass\n",
      "887 patches in RtTg_surround_noclass\n",
      "175 patches in RtTg_surround_Pn\n",
      "776 patches in Pn_surround_noclass\n",
      "123 patches in Pn_surround_RtTg\n",
      "758 patches in 12N_surround_noclass\n",
      "28 patches in 12N_surround_10N\n",
      "365 patches in 6N_surround_noclass\n",
      "1951 patches in SC_surround_noclass\n",
      "81 patches in SC_surround_IC\n",
      "558 patches in 10N_surround_noclass\n",
      "150 patches in 10N_surround_12N\n",
      "13535 patches in bg\n",
      "38 patches in 10N\n",
      "2256 patches in SC\n"
     ]
    },
    {
     "name": "stderr",
     "output_type": "stream",
     "text": [
      "Analyzing section 218..\n"
     ]
    },
    {
     "name": "stdout",
     "output_type": "stream",
     "text": [
      "228 patches in 12N\n",
      "16 patches in DTgC\n",
      "13 patches in 6N\n",
      "468 patches in IC\n",
      "13 patches in IF\n",
      "148 patches in 3N\n",
      "381 patches in IO\n",
      "55 patches in DRD\n",
      "463 patches in RtTg\n",
      "465 patches in Pn\n",
      "27 patches in DTgP\n",
      "599 patches in 10N_surround_noclass\n",
      "183 patches in 10N_surround_12N\n",
      "1982 patches in SC_surround_noclass\n",
      "76 patches in SC_surround_IC\n",
      "838 patches in 12N_surround_noclass\n",
      "38 patches in 12N_surround_10N\n",
      "343 patches in DTgC_surround_noclass\n",
      "27 patches in DTgC_surround_DTgP\n",
      "353 patches in 6N_surround_noclass\n",
      "857 patches in IC_surround_noclass\n",
      "63 patches in IC_surround_SC\n",
      "444 patches in IF_surround_noclass\n",
      "715 patches in 3N_surround_noclass\n",
      "1356 patches in IO_surround_noclass\n",
      "495 patches in DRD_surround_noclass\n",
      "885 patches in RtTg_surround_noclass\n",
      "185 patches in RtTg_surround_Pn\n",
      "800 patches in Pn_surround_noclass\n",
      "126 patches in Pn_surround_RtTg\n",
      "504 patches in DTgP_surround_noclass\n",
      "16 patches in DTgP_surround_DTgC\n",
      "13445 patches in bg\n",
      "7 patches in 6N\n",
      "248 patches in 12N\n"
     ]
    },
    {
     "name": "stderr",
     "output_type": "stream",
     "text": [
      "Analyzing section 219..\n"
     ]
    },
    {
     "name": "stdout",
     "output_type": "stream",
     "text": [
      "435 patches in IC\n",
      "123 patches in 3N\n",
      "344 patches in IO\n",
      "38 patches in 10N\n",
      "2260 patches in SC\n",
      "462 patches in RtTg\n",
      "316 patches in 6N_surround_noclass\n",
      "887 patches in 12N_surround_noclass\n",
      "38 patches in 12N_surround_10N\n",
      "848 patches in IC_surround_noclass\n",
      "56 patches in IC_surround_SC\n",
      "661 patches in 3N_surround_noclass\n",
      "1277 patches in IO_surround_noclass\n",
      "549 patches in 10N_surround_noclass\n",
      "219 patches in 10N_surround_12N\n",
      "2001 patches in SC_surround_noclass\n",
      "70 patches in SC_surround_IC\n",
      "1078 patches in RtTg_surround_noclass\n",
      "13497 patches in bg\n",
      "114 patches in DRD\n",
      "43 patches in 10N\n",
      "9 patches in 6N\n",
      "323 patches in IO\n",
      "33 patches in DTgP\n"
     ]
    },
    {
     "name": "stderr",
     "output_type": "stream",
     "text": [
      "Analyzing section 220..\n"
     ]
    },
    {
     "name": "stdout",
     "output_type": "stream",
     "text": [
      "461 patches in RtTg\n",
      "159 patches in IPC\n",
      "172 patches in IPR\n",
      "35 patches in IF\n",
      "8 patches in DTgC\n",
      "412 patches in IC\n",
      "2274 patches in SC\n",
      "118 patches in 3N\n",
      "48 patches in IPA\n",
      "282 patches in 12N\n",
      "132 patches in EW\n",
      "640 patches in DRD_surround_noclass\n",
      "607 patches in 10N_surround_noclass\n",
      "247 patches in 10N_surround_12N\n",
      "327 patches in 6N_surround_noclass\n",
      "1309 patches in IO_surround_noclass\n",
      "516 patches in DTgP_surround_noclass\n",
      "8 patches in DTgP_surround_DTgC\n",
      "1072 patches in RtTg_surround_noclass\n",
      "10 patches in RtTg_surround_IPC\n",
      "535 patches in IPC_surround_noclass\n",
      "42 patches in IPC_surround_IPA\n",
      "110 patches in IPC_surround_IPR\n",
      "6 patches in IPC_surround_RtTg\n",
      "517 patches in IPR_surround_noclass\n",
      "115 patches in IPR_surround_IPC\n",
      "39 patches in IPR_surround_IPA\n",
      "35 patches in IPR_surround_IF\n",
      "468 patches in IF_surround_noclass\n",
      "35 patches in IF_surround_IPA\n",
      "87 patches in IF_surround_IPR\n",
      "300 patches in DTgC_surround_noclass\n",
      "33 patches in DTgC_surround_DTgP\n",
      "828 patches in IC_surround_noclass\n",
      "53 patches in IC_surround_SC\n",
      "1994 patches in SC_surround_noclass\n",
      "68 patches in SC_surround_IC\n",
      "638 patches in 3N_surround_noclass\n",
      "17 patches in 3N_surround_EW\n",
      "446 patches in IPA_surround_noclass\n",
      "49 patches in IPA_surround_IPC\n",
      "78 patches in IPA_surround_IPR\n",
      "26 patches in IPA_surround_IF\n",
      "970 patches in 12N_surround_noclass\n",
      "43 patches in 12N_surround_10N\n",
      "945 patches in EW_surround_noclass\n",
      "30 patches in EW_surround_3N\n",
      "13438 patches in bg\n"
     ]
    },
    {
     "name": "stderr",
     "output_type": "stream",
     "text": [
      "Analyzing section 221..\n"
     ]
    },
    {
     "name": "stdout",
     "output_type": "stream",
     "text": [
      "326 patches in IO\n",
      "384 patches in IC\n",
      "29 patches in 10N\n",
      "277 patches in 12N\n",
      "464 patches in RtTg\n",
      "15 patches in AP\n",
      "160 patches in EW\n",
      "106 patches in 3N\n",
      "2281 patches in SC\n",
      "1243 patches in IO_surround_noclass\n",
      "835 patches in IC_surround_noclass\n",
      "49 patches in IC_surround_SC\n",
      "536 patches in 10N_surround_noclass\n",
      "244 patches in 10N_surround_12N\n",
      "15 patches in 10N_surround_AP\n",
      "979 patches in 12N_surround_noclass\n",
      "29 patches in 12N_surround_10N\n",
      "3 patches in 12N_surround_AP\n",
      "1085 patches in RtTg_surround_noclass\n",
      "286 patches in AP_surround_noclass\n",
      "19 patches in AP_surround_10N\n",
      "8 patches in AP_surround_12N\n",
      "911 patches in EW_surround_noclass\n",
      "54 patches in EW_surround_3N\n",
      "580 patches in 3N_surround_noclass\n",
      "59 patches in 3N_surround_EW\n",
      "1997 patches in SC_surround_noclass\n",
      "64 patches in SC_surround_IC\n",
      "14111 patches in bg\n"
     ]
    },
    {
     "name": "stderr",
     "output_type": "stream",
     "text": [
      "Analyzing section 222..\n"
     ]
    },
    {
     "name": "stdout",
     "output_type": "stream",
     "text": [
      "18 patches in AP\n",
      "467 patches in RtTg\n",
      "357 patches in IC\n",
      "2285 patches in SC\n",
      "27 patches in 10N\n",
      "293 patches in 12N\n",
      "324 patches in IO\n",
      "444 patches in AP_surround_noclass\n",
      "13 patches in AP_surround_10N\n",
      "6 patches in AP_surround_12N\n",
      "1105 patches in RtTg_surround_noclass\n",
      "848 patches in IC_surround_noclass\n",
      "47 patches in IC_surround_SC\n",
      "2015 patches in SC_surround_noclass\n",
      "55 patches in SC_surround_IC\n",
      "513 patches in 10N_surround_noclass\n",
      "256 patches in 10N_surround_12N\n",
      "18 patches in 10N_surround_AP\n",
      "1001 patches in 12N_surround_noclass\n",
      "27 patches in 12N_surround_10N\n",
      "4 patches in 12N_surround_AP\n",
      "1253 patches in IO_surround_noclass\n",
      "13223 patches in bg\n",
      "306 patches in 12N\n",
      "2303 patches in SC\n"
     ]
    },
    {
     "name": "stderr",
     "output_type": "stream",
     "text": [
      "Analyzing section 223..\n"
     ]
    },
    {
     "name": "stdout",
     "output_type": "stream",
     "text": [
      "28 patches in AP\n",
      "463 patches in RtTg\n",
      "336 patches in IC\n",
      "22 patches in 10N\n",
      "338 patches in IO\n",
      "1035 patches in 12N_surround_noclass\n",
      "22 patches in 12N_surround_10N\n",
      "4 patches in 12N_surround_AP\n",
      "1892 patches in SC_surround_noclass\n",
      "54 patches in SC_surround_IC\n",
      "271 patches in AP_surround_noclass\n",
      "6 patches in AP_surround_10N\n",
      "5 patches in AP_surround_12N\n",
      "1107 patches in RtTg_surround_noclass\n",
      "817 patches in IC_surround_noclass\n",
      "47 patches in IC_surround_SC\n",
      "479 patches in 10N_surround_noclass\n",
      "253 patches in 10N_surround_12N\n",
      "23 patches in 10N_surround_AP\n",
      "1239 patches in IO_surround_noclass\n",
      "14250 patches in bg\n",
      "315 patches in IC\n"
     ]
    },
    {
     "name": "stderr",
     "output_type": "stream",
     "text": [
      "Analyzing section 224..\n"
     ]
    },
    {
     "name": "stdout",
     "output_type": "stream",
     "text": [
      "316 patches in 12N\n",
      "21 patches in 10N\n",
      "35 patches in AP\n",
      "356 patches in IO\n",
      "62 patches in 3N\n",
      "466 patches in RtTg\n",
      "2300 patches in SC\n",
      "800 patches in IC_surround_noclass\n",
      "42 patches in IC_surround_SC\n",
      "1075 patches in 12N_surround_noclass\n",
      "21 patches in 12N_surround_10N\n",
      "5 patches in 12N_surround_AP\n",
      "482 patches in 10N_surround_noclass\n",
      "234 patches in 10N_surround_12N\n",
      "24 patches in 10N_surround_AP\n",
      "273 patches in AP_surround_noclass\n",
      "3 patches in AP_surround_10N\n",
      "7 patches in AP_surround_12N\n",
      "1246 patches in IO_surround_noclass\n",
      "535 patches in 3N_surround_noclass\n",
      "1108 patches in RtTg_surround_noclass\n",
      "1897 patches in SC_surround_noclass\n",
      "48 patches in SC_surround_IC\n",
      "14183 patches in bg\n",
      "86 patches in Dk\n",
      "160 patches in IPR\n",
      "152 patches in IPC\n",
      "291 patches in DRI\n",
      "45 patches in DTg\n",
      "298 patches in IC\n"
     ]
    },
    {
     "name": "stderr",
     "output_type": "stream",
     "text": [
      "Analyzing section 225..\n"
     ]
    },
    {
     "name": "stdout",
     "output_type": "stream",
     "text": [
      "336 patches in 12N\n",
      "28 patches in IF\n",
      "43 patches in AP\n",
      "463 patches in RtTg\n",
      "103 patches in InC\n",
      "98 patches in 3N\n",
      "16 patches in 10N\n",
      "32 patches in IPA\n",
      "71 patches in DRD\n",
      "2308 patches in SC\n",
      "26 patches in LDTg\n",
      "369 patches in IO\n",
      "562 patches in Dk_surround_noclass\n",
      "88 patches in Dk_surround_InC\n",
      "497 patches in IPR_surround_noclass\n",
      "115 patches in IPR_surround_IPC\n",
      "32 patches in IPR_surround_IPA\n",
      "27 patches in IPR_surround_IF\n",
      "530 patches in IPC_surround_noclass\n",
      "28 patches in IPC_surround_IPA\n",
      "104 patches in IPC_surround_IPR\n",
      "9 patches in IPC_surround_RtTg\n",
      "898 patches in DRI_surround_noclass\n",
      "1 patches in DRI_surround_3N\n",
      "3 patches in DRI_surround_DTg\n",
      "20 patches in DRI_surround_DRD\n",
      "5 patches in DRI_surround_LDTg\n",
      "441 patches in DTg_surround_noclass\n",
      "4 patches in DTg_surround_DRI\n",
      "17 patches in DTg_surround_LDTg\n",
      "801 patches in IC_surround_noclass\n",
      "35 patches in IC_surround_SC\n",
      "1139 patches in 12N_surround_noclass\n",
      "16 patches in 12N_surround_10N\n",
      "7 patches in 12N_surround_AP\n",
      "466 patches in IF_surround_noclass\n",
      "30 patches in IF_surround_IPA\n",
      "70 patches in IF_surround_IPR\n",
      "302 patches in AP_surround_noclass\n",
      "7 patches in AP_surround_12N\n",
      "1105 patches in RtTg_surround_noclass\n",
      "11 patches in RtTg_surround_IPC\n",
      "569 patches in InC_surround_noclass\n",
      "3 patches in InC_surround_3N\n",
      "84 patches in InC_surround_Dk\n",
      "618 patches in 3N_surround_noclass\n",
      "1 patches in 3N_surround_DRI\n",
      "5 patches in 3N_surround_InC\n",
      "526 patches in 10N_surround_noclass\n",
      "229 patches in 10N_surround_12N\n",
      "30 patches in 10N_surround_AP\n",
      "334 patches in IPA_surround_noclass\n",
      "47 patches in IPA_surround_IPC\n",
      "78 patches in IPA_surround_IPR\n",
      "27 patches in IPA_surround_IF\n",
      "524 patches in DRD_surround_noclass\n",
      "14 patches in DRD_surround_DRI\n",
      "1922 patches in SC_surround_noclass\n",
      "41 patches in SC_surround_IC\n",
      "428 patches in LDTg_surround_noclass\n",
      "22 patches in LDTg_surround_DTg\n",
      "10 patches in LDTg_surround_DRI\n",
      "1288 patches in IO_surround_noclass\n",
      "14146 patches in bg\n",
      "318 patches in IC\n"
     ]
    },
    {
     "name": "stderr",
     "output_type": "stream",
     "text": [
      "Analyzing section 226..\n"
     ]
    },
    {
     "name": "stdout",
     "output_type": "stream",
     "text": [
      "465 patches in RtTg\n",
      "303 patches in 12N\n",
      "2333 patches in SC\n",
      "49 patches in AP\n",
      "104 patches in 3N\n",
      "801 patches in IC_surround_noclass\n",
      "38 patches in IC_surround_SC\n",
      "1122 patches in RtTg_surround_noclass\n",
      "1100 patches in 12N_surround_noclass\n",
      "4 patches in 12N_surround_AP\n",
      "1911 patches in SC_surround_noclass\n",
      "45 patches in SC_surround_IC\n",
      "311 patches in AP_surround_noclass\n",
      "4 patches in AP_surround_12N\n",
      "624 patches in 3N_surround_noclass\n",
      "14327 patches in bg\n",
      "2332 patches in SC\n"
     ]
    },
    {
     "name": "stderr",
     "output_type": "stream",
     "text": [
      "Analyzing section 227..\n"
     ]
    },
    {
     "name": "stdout",
     "output_type": "stream",
     "text": [
      "280 patches in 12N\n",
      "53 patches in AP\n",
      "110 patches in 3N\n",
      "335 patches in IC\n",
      "459 patches in RtTg\n",
      "1945 patches in SC_surround_noclass\n",
      "46 patches in SC_surround_IC\n",
      "1087 patches in 12N_surround_noclass\n",
      "3 patches in 12N_surround_AP\n",
      "337 patches in AP_surround_noclass\n",
      "3 patches in AP_surround_12N\n",
      "629 patches in 3N_surround_noclass\n",
      "820 patches in IC_surround_noclass\n",
      "35 patches in IC_surround_SC\n",
      "1145 patches in RtTg_surround_noclass\n",
      "14103 patches in bg\n",
      "123 patches in 3N\n"
     ]
    },
    {
     "name": "stderr",
     "output_type": "stream",
     "text": [
      "Analyzing section 228..\n"
     ]
    },
    {
     "name": "stdout",
     "output_type": "stream",
     "text": [
      "461 patches in RtTg\n",
      "260 patches in 12N\n",
      "357 patches in IC\n",
      "2335 patches in SC\n",
      "66 patches in AP\n",
      "639 patches in 3N_surround_noclass\n",
      "1146 patches in RtTg_surround_noclass\n",
      "1057 patches in 12N_surround_noclass\n",
      "1 patches in 12N_surround_AP\n",
      "824 patches in IC_surround_noclass\n",
      "36 patches in IC_surround_SC\n",
      "1955 patches in SC_surround_noclass\n",
      "44 patches in SC_surround_IC\n",
      "329 patches in AP_surround_noclass\n",
      "2 patches in AP_surround_12N\n",
      "14140 patches in bg\n",
      "75 patches in AP\n",
      "131 patches in 3N\n"
     ]
    },
    {
     "name": "stderr",
     "output_type": "stream",
     "text": [
      "Analyzing section 229..\n"
     ]
    },
    {
     "name": "stdout",
     "output_type": "stream",
     "text": [
      "2351 patches in SC\n",
      "238 patches in 12N\n",
      "378 patches in IC\n",
      "458 patches in RtTg\n",
      "342 patches in AP_surround_noclass\n",
      "651 patches in 3N_surround_noclass\n",
      "1925 patches in SC_surround_noclass\n",
      "48 patches in SC_surround_IC\n",
      "1061 patches in 12N_surround_noclass\n",
      "846 patches in IC_surround_noclass\n",
      "37 patches in IC_surround_SC\n",
      "1175 patches in RtTg_surround_noclass\n",
      "14264 patches in bg\n",
      "140 patches in 3N\n",
      "402 patches in IC\n",
      "89 patches in AP\n"
     ]
    },
    {
     "name": "stderr",
     "output_type": "stream",
     "text": [
      "Analyzing section 230..\n"
     ]
    },
    {
     "name": "stdout",
     "output_type": "stream",
     "text": [
      "2368 patches in SC\n",
      "463 patches in RtTg\n",
      "219 patches in 12N\n",
      "666 patches in 3N_surround_noclass\n",
      "872 patches in IC_surround_noclass\n",
      "35 patches in IC_surround_SC\n",
      "344 patches in AP_surround_noclass\n",
      "1907 patches in SC_surround_noclass\n",
      "45 patches in SC_surround_IC\n",
      "1176 patches in RtTg_surround_noclass\n",
      "1029 patches in 12N_surround_noclass\n",
      "14218 patches in bg\n"
     ]
    },
    {
     "name": "stderr",
     "output_type": "stream",
     "text": [
      "Analyzing section 231..\n"
     ]
    },
    {
     "name": "stdout",
     "output_type": "stream",
     "text": [
      "420 patches in IC\n",
      "2373 patches in SC\n",
      "460 patches in RtTg\n",
      "149 patches in 3N\n",
      "197 patches in 12N\n",
      "95 patches in AP\n",
      "880 patches in IC_surround_noclass\n",
      "37 patches in IC_surround_SC\n",
      "1882 patches in SC_surround_noclass\n",
      "47 patches in SC_surround_IC\n",
      "1183 patches in RtTg_surround_noclass\n",
      "680 patches in 3N_surround_noclass\n",
      "1019 patches in 12N_surround_noclass\n",
      "355 patches in AP_surround_noclass\n",
      "14741 patches in bg\n",
      "43 patches in DTgP\n",
      "31 patches in DRD\n",
      "115 patches in pc\n",
      "141 patches in Dk\n"
     ]
    },
    {
     "name": "stderr",
     "output_type": "stream",
     "text": [
      "Analyzing section 232..\n"
     ]
    },
    {
     "name": "stdout",
     "output_type": "stream",
     "text": [
      "113 patches in Op\n",
      "10 patches in DTgC\n",
      "186 patches in 12N\n",
      "8 patches in 4N\n",
      "117 patches in AP\n",
      "169 patches in 3N\n",
      "444 patches in IC\n",
      "466 patches in RtTg\n",
      "2372 patches in SC\n",
      "492 patches in DTgP_surround_noclass\n",
      "10 patches in DTgP_surround_DTgC\n",
      "456 patches in DRD_surround_noclass\n",
      "683 patches in pc_surround_noclass\n",
      "66 patches in pc_surround_SC\n",
      "865 patches in Dk_surround_noclass\n",
      "20 patches in Dk_surround_3N\n",
      "367 patches in Op_surround_noclass\n",
      "1098 patches in Op_surround_SC\n",
      "312 patches in DTgC_surround_noclass\n",
      "43 patches in DTgC_surround_DTgP\n",
      "1042 patches in 12N_surround_noclass\n",
      "287 patches in 4N_surround_noclass\n",
      "45 patches in 4N_surround_3N\n",
      "422 patches in AP_surround_noclass\n",
      "684 patches in 3N_surround_noclass\n",
      "17 patches in 3N_surround_Dk\n",
      "8 patches in 3N_surround_4N\n",
      "926 patches in IC_surround_noclass\n",
      "36 patches in IC_surround_SC\n",
      "1233 patches in RtTg_surround_noclass\n",
      "1916 patches in SC_surround_noclass\n",
      "33 patches in SC_surround_pc\n",
      "48 patches in SC_surround_IC\n",
      "113 patches in SC_surround_Op\n",
      "13894 patches in bg\n",
      "192 patches in 12N\n",
      "455 patches in RtTg\n",
      "130 patches in 3N\n",
      "101 patches in AP\n"
     ]
    },
    {
     "name": "stderr",
     "output_type": "stream",
     "text": [
      "Analyzing section 233..\n"
     ]
    },
    {
     "name": "stdout",
     "output_type": "stream",
     "text": [
      "469 patches in IC\n",
      "8 patches in 4N\n",
      "2382 patches in SC\n",
      "987 patches in 12N_surround_noclass\n",
      "1175 patches in RtTg_surround_noclass\n",
      "629 patches in 3N_surround_noclass\n",
      "8 patches in 3N_surround_4N\n",
      "349 patches in AP_surround_noclass\n",
      "937 patches in IC_surround_noclass\n",
      "38 patches in IC_surround_SC\n",
      "291 patches in 4N_surround_noclass\n",
      "30 patches in 4N_surround_3N\n",
      "1928 patches in SC_surround_noclass\n",
      "48 patches in SC_surround_IC\n",
      "14175 patches in bg\n",
      "212 patches in 12N\n",
      "488 patches in IC\n",
      "9 patches in 4N\n"
     ]
    },
    {
     "name": "stderr",
     "output_type": "stream",
     "text": [
      "Analyzing section 234..\n"
     ]
    },
    {
     "name": "stdout",
     "output_type": "stream",
     "text": [
      "2393 patches in SC\n",
      "451 patches in RtTg\n",
      "100 patches in 3N\n",
      "97 patches in RMC\n",
      "88 patches in AP\n",
      "990 patches in 12N_surround_noclass\n",
      "942 patches in IC_surround_noclass\n",
      "39 patches in IC_surround_SC\n",
      "309 patches in 4N_surround_noclass\n",
      "24 patches in 4N_surround_3N\n",
      "1938 patches in SC_surround_noclass\n",
      "50 patches in SC_surround_IC\n",
      "1152 patches in RtTg_surround_noclass\n",
      "584 patches in 3N_surround_noclass\n",
      "9 patches in 3N_surround_4N\n",
      "597 patches in RMC_surround_noclass\n",
      "367 patches in AP_surround_noclass\n",
      "14059 patches in bg\n",
      "76 patches in AP\n"
     ]
    },
    {
     "name": "stderr",
     "output_type": "stream",
     "text": [
      "Analyzing section 235..\n"
     ]
    },
    {
     "name": "stdout",
     "output_type": "stream",
     "text": [
      "448 patches in RtTg\n",
      "2398 patches in SC\n",
      "521 patches in IC\n",
      "81 patches in 3N\n",
      "106 patches in RMC\n",
      "225 patches in 12N\n",
      "19 patches in 4N\n",
      "383 patches in AP_surround_noclass\n",
      "2 patches in AP_surround_12N\n",
      "1120 patches in RtTg_surround_noclass\n",
      "1942 patches in SC_surround_noclass\n",
      "49 patches in SC_surround_IC\n",
      "973 patches in IC_surround_noclass\n",
      "40 patches in IC_surround_SC\n",
      "551 patches in 3N_surround_noclass\n",
      "19 patches in 3N_surround_4N\n",
      "598 patches in RMC_surround_noclass\n",
      "1003 patches in 12N_surround_noclass\n",
      "2 patches in 12N_surround_AP\n",
      "346 patches in 4N_surround_noclass\n",
      "25 patches in 4N_surround_3N\n",
      "13960 patches in bg\n"
     ]
    },
    {
     "name": "stderr",
     "output_type": "stream",
     "text": [
      "Analyzing section 236..\n"
     ]
    },
    {
     "name": "stdout",
     "output_type": "stream",
     "text": [
      "241 patches in 12N\n",
      "542 patches in IC\n",
      "127 patches in RMC\n",
      "2416 patches in SC\n",
      "18 patches in 4N\n",
      "446 patches in RtTg\n",
      "68 patches in AP\n",
      "990 patches in 12N_surround_noclass\n",
      "5 patches in 12N_surround_AP\n",
      "996 patches in IC_surround_noclass\n",
      "39 patches in IC_surround_SC\n",
      "633 patches in RMC_surround_noclass\n",
      "1998 patches in SC_surround_noclass\n",
      "47 patches in SC_surround_IC\n",
      "371 patches in 4N_surround_noclass\n",
      "1112 patches in RtTg_surround_noclass\n",
      "330 patches in AP_surround_noclass\n",
      "5 patches in AP_surround_12N\n",
      "13838 patches in bg\n"
     ]
    },
    {
     "name": "stderr",
     "output_type": "stream",
     "text": [
      "Analyzing section 237..\n"
     ]
    },
    {
     "name": "stdout",
     "output_type": "stream",
     "text": [
      "25 patches in 4N\n",
      "256 patches in 12N\n",
      "56 patches in AP\n",
      "574 patches in IC\n",
      "149 patches in RMC\n",
      "440 patches in RtTg\n",
      "2417 patches in SC\n",
      "397 patches in 4N_surround_noclass\n",
      "997 patches in 12N_surround_noclass\n",
      "6 patches in 12N_surround_AP\n",
      "323 patches in AP_surround_noclass\n",
      "7 patches in AP_surround_12N\n",
      "973 patches in IC_surround_noclass\n",
      "37 patches in IC_surround_SC\n",
      "675 patches in RMC_surround_noclass\n",
      "1087 patches in RtTg_surround_noclass\n",
      "1958 patches in SC_surround_noclass\n",
      "48 patches in SC_surround_IC\n",
      "14049 patches in bg\n"
     ]
    },
    {
     "name": "stderr",
     "output_type": "stream",
     "text": [
      "Analyzing section 238..\n",
      "Analyzing section 239..\n"
     ]
    },
    {
     "name": "stdout",
     "output_type": "stream",
     "text": [
      "44 patches in Tz\n",
      "199 patches in RMC\n",
      "422 patches in RtTg\n",
      "42 patches in 10N\n",
      "2434 patches in SC\n",
      "37 patches in AP\n",
      "632 patches in IC\n",
      "292 patches in 12N\n",
      "607 patches in Tz_surround_noclass\n",
      "744 patches in RMC_surround_noclass\n",
      "1042 patches in RtTg_surround_noclass\n",
      "488 patches in 10N_surround_noclass\n",
      "29 patches in 10N_surround_AP\n",
      "216 patches in 10N_surround_12N\n",
      "2040 patches in SC_surround_noclass\n",
      "52 patches in SC_surround_IC\n",
      "302 patches in AP_surround_noclass\n",
      "5 patches in AP_surround_10N\n",
      "13 patches in AP_surround_12N\n",
      "1101 patches in IC_surround_noclass\n",
      "44 patches in IC_surround_SC\n",
      "955 patches in 12N_surround_noclass\n",
      "42 patches in 12N_surround_10N\n",
      "10 patches in 12N_surround_AP\n",
      "13461 patches in bg\n",
      "38 patches in 10N\n",
      "32 patches in AP\n",
      "411 patches in MVe\n",
      "425 patches in RtTg\n",
      "479 patches in Pn\n"
     ]
    },
    {
     "name": "stderr",
     "output_type": "stream",
     "text": [
      "Analyzing section 240..\n"
     ]
    },
    {
     "name": "stdout",
     "output_type": "stream",
     "text": [
      "28 patches in DTg\n",
      "95 patches in VTg\n",
      "232 patches in RMC\n",
      "8 patches in 6N\n",
      "33 patches in IPL\n",
      "309 patches in IO\n",
      "2440 patches in SC\n",
      "663 patches in IC\n",
      "310 patches in 12N\n",
      "62 patches in Tz\n",
      "575 patches in 10N_surround_noclass\n",
      "231 patches in 10N_surround_12N\n",
      "32 patches in 10N_surround_AP\n",
      "8 patches in 10N_surround_MVe\n",
      "285 patches in AP_surround_noclass\n",
      "24 patches in AP_surround_10N\n",
      "19 patches in AP_surround_12N\n",
      "1279 patches in MVe_surround_noclass\n",
      "1 patches in MVe_surround_10N\n",
      "13 patches in MVe_surround_12N\n",
      "8 patches in MVe_surround_6N\n",
      "989 patches in RtTg_surround_noclass\n",
      "95 patches in RtTg_surround_Pn\n",
      "760 patches in Pn_surround_noclass\n",
      "6 patches in Pn_surround_IPL\n",
      "73 patches in Pn_surround_RtTg\n",
      "392 patches in DTg_surround_noclass\n",
      "30 patches in DTg_surround_VTg\n",
      "566 patches in VTg_surround_noclass\n",
      "28 patches in VTg_surround_DTg\n",
      "796 patches in RMC_surround_noclass\n",
      "270 patches in 6N_surround_noclass\n",
      "52 patches in 6N_surround_MVe\n",
      "431 patches in IPL_surround_noclass\n",
      "12 patches in IPL_surround_Pn\n",
      "1226 patches in IO_surround_noclass\n",
      "2053 patches in SC_surround_noclass\n",
      "50 patches in SC_surround_IC\n",
      "1082 patches in IC_surround_noclass\n",
      "44 patches in IC_surround_SC\n",
      "985 patches in 12N_surround_noclass\n",
      "38 patches in 12N_surround_10N\n",
      "12 patches in 12N_surround_AP\n",
      "14 patches in 12N_surround_MVe\n",
      "653 patches in Tz_surround_noclass\n",
      "13420 patches in bg\n",
      "289 patches in 12N\n"
     ]
    },
    {
     "name": "stderr",
     "output_type": "stream",
     "text": [
      "Analyzing section 241..\n"
     ]
    },
    {
     "name": "stdout",
     "output_type": "stream",
     "text": [
      "14 patches in 6N\n",
      "672 patches in IC\n",
      "300 patches in IO\n",
      "424 patches in RtTg\n",
      "464 patches in Pn\n",
      "63 patches in Tz\n",
      "2447 patches in SC\n",
      "206 patches in RMC\n",
      "35 patches in 10N\n",
      "958 patches in 12N_surround_noclass\n",
      "35 patches in 12N_surround_10N\n",
      "362 patches in 6N_surround_noclass\n",
      "1007 patches in IC_surround_noclass\n",
      "41 patches in IC_surround_SC\n",
      "1167 patches in IO_surround_noclass\n",
      "921 patches in RtTg_surround_noclass\n",
      "88 patches in RtTg_surround_Pn\n",
      "784 patches in Pn_surround_noclass\n",
      "73 patches in Pn_surround_RtTg\n",
      "631 patches in Tz_surround_noclass\n",
      "2025 patches in SC_surround_noclass\n",
      "53 patches in SC_surround_IC\n",
      "756 patches in RMC_surround_noclass\n",
      "548 patches in 10N_surround_noclass\n",
      "219 patches in 10N_surround_12N\n",
      "14951 patches in bg\n"
     ]
    },
    {
     "name": "stderr",
     "output_type": "stream",
     "text": [
      "Analyzing section 242..\n"
     ]
    },
    {
     "name": "stdout",
     "output_type": "stream",
     "text": [
      "695 patches in IC\n",
      "293 patches in IO\n",
      "461 patches in Pn\n",
      "188 patches in RMC\n",
      "76 patches in Tz\n",
      "12 patches in 6N\n",
      "415 patches in RtTg\n",
      "271 patches in 12N\n",
      "34 patches in 10N\n",
      "2464 patches in SC\n",
      "1076 patches in IC_surround_noclass\n",
      "47 patches in IC_surround_SC\n",
      "1206 patches in IO_surround_noclass\n",
      "783 patches in Pn_surround_noclass\n",
      "68 patches in Pn_surround_RtTg\n",
      "734 patches in RMC_surround_noclass\n",
      "653 patches in Tz_surround_noclass\n",
      "356 patches in 6N_surround_noclass\n",
      "908 patches in RtTg_surround_noclass\n",
      "86 patches in RtTg_surround_Pn\n",
      "926 patches in 12N_surround_noclass\n",
      "34 patches in 12N_surround_10N\n",
      "541 patches in 10N_surround_noclass\n",
      "213 patches in 10N_surround_12N\n",
      "2047 patches in SC_surround_noclass\n",
      "55 patches in SC_surround_IC\n",
      "13483 patches in bg\n",
      "173 patches in RMC\n",
      "84 patches in Tz\n"
     ]
    },
    {
     "name": "stderr",
     "output_type": "stream",
     "text": [
      "Analyzing section 243..\n"
     ]
    },
    {
     "name": "stdout",
     "output_type": "stream",
     "text": [
      "2472 patches in SC\n",
      "259 patches in 12N\n",
      "456 patches in Pn\n",
      "712 patches in IC\n",
      "30 patches in 10N\n",
      "18 patches in 6N\n",
      "413 patches in RtTg\n",
      "282 patches in IO\n",
      "714 patches in RMC_surround_noclass\n",
      "649 patches in Tz_surround_noclass\n",
      "2046 patches in SC_surround_noclass\n",
      "51 patches in SC_surround_IC\n",
      "902 patches in 12N_surround_noclass\n",
      "30 patches in 12N_surround_10N\n",
      "809 patches in Pn_surround_noclass\n",
      "71 patches in Pn_surround_RtTg\n",
      "1031 patches in IC_surround_noclass\n",
      "43 patches in IC_surround_SC\n",
      "529 patches in 10N_surround_noclass\n",
      "212 patches in 10N_surround_12N\n",
      "366 patches in 6N_surround_noclass\n",
      "889 patches in RtTg_surround_noclass\n",
      "86 patches in RtTg_surround_Pn\n",
      "1217 patches in IO_surround_noclass\n",
      "13414 patches in bg\n",
      "21 patches in 6N\n",
      "450 patches in Pn\n",
      "31 patches in 10N\n",
      "405 patches in RtTg\n"
     ]
    },
    {
     "name": "stderr",
     "output_type": "stream",
     "text": [
      "Analyzing section 244..\n"
     ]
    },
    {
     "name": "stdout",
     "output_type": "stream",
     "text": [
      "239 patches in 12N\n",
      "273 patches in IO\n",
      "82 patches in Tz\n",
      "2482 patches in SC\n",
      "732 patches in IC\n",
      "156 patches in RMC\n",
      "380 patches in 6N_surround_noclass\n",
      "789 patches in Pn_surround_noclass\n",
      "70 patches in Pn_surround_RtTg\n",
      "536 patches in 10N_surround_noclass\n",
      "203 patches in 10N_surround_12N\n",
      "875 patches in RtTg_surround_noclass\n",
      "83 patches in RtTg_surround_Pn\n",
      "870 patches in 12N_surround_noclass\n",
      "31 patches in 12N_surround_10N\n",
      "1225 patches in IO_surround_noclass\n",
      "682 patches in Tz_surround_noclass\n",
      "2051 patches in SC_surround_noclass\n",
      "59 patches in SC_surround_IC\n",
      "1093 patches in IC_surround_noclass\n",
      "50 patches in IC_surround_SC\n",
      "694 patches in RMC_surround_noclass\n",
      "13500 patches in bg\n"
     ]
    },
    {
     "name": "stderr",
     "output_type": "stream",
     "text": [
      "Analyzing section 245..\n"
     ]
    },
    {
     "name": "stdout",
     "output_type": "stream",
     "text": [
      "22 patches in 6N\n",
      "252 patches in IO\n",
      "146 patches in RMC\n",
      "31 patches in 10N\n",
      "2484 patches in SC\n",
      "230 patches in 12N\n",
      "751 patches in IC\n",
      "91 patches in Tz\n",
      "437 patches in Pn\n",
      "398 patches in RtTg\n",
      "391 patches in 6N_surround_noclass\n",
      "1219 patches in IO_surround_noclass\n",
      "673 patches in RMC_surround_noclass\n",
      "518 patches in 10N_surround_noclass\n",
      "196 patches in 10N_surround_12N\n",
      "2044 patches in SC_surround_noclass\n",
      "53 patches in SC_surround_IC\n",
      "855 patches in 12N_surround_noclass\n",
      "31 patches in 12N_surround_10N\n",
      "1046 patches in IC_surround_noclass\n",
      "48 patches in IC_surround_SC\n",
      "697 patches in Tz_surround_noclass\n",
      "810 patches in Pn_surround_noclass\n",
      "66 patches in Pn_surround_RtTg\n",
      "864 patches in RtTg_surround_noclass\n",
      "85 patches in RtTg_surround_Pn\n",
      "14317 patches in bg\n",
      "27 patches in 6N\n",
      "211 patches in 12N\n"
     ]
    },
    {
     "name": "stderr",
     "output_type": "stream",
     "text": [
      "Analyzing section 246..\n"
     ]
    },
    {
     "name": "stdout",
     "output_type": "stream",
     "text": [
      "31 patches in 10N\n",
      "394 patches in RtTg\n",
      "269 patches in IO\n",
      "777 patches in IC\n",
      "435 patches in Pn\n",
      "2490 patches in SC\n",
      "128 patches in RMC\n",
      "102 patches in Tz\n",
      "400 patches in 6N_surround_noclass\n",
      "828 patches in 12N_surround_noclass\n",
      "31 patches in 12N_surround_10N\n",
      "531 patches in 10N_surround_noclass\n",
      "185 patches in 10N_surround_12N\n",
      "849 patches in RtTg_surround_noclass\n",
      "2 patches in RtTg_surround_Tz\n",
      "87 patches in RtTg_surround_Pn\n",
      "1234 patches in IO_surround_noclass\n",
      "1098 patches in IC_surround_noclass\n",
      "52 patches in IC_surround_SC\n",
      "823 patches in Pn_surround_noclass\n",
      "72 patches in Pn_surround_RtTg\n",
      "2056 patches in SC_surround_noclass\n",
      "61 patches in SC_surround_IC\n",
      "656 patches in RMC_surround_noclass\n",
      "719 patches in Tz_surround_noclass\n",
      "1 patches in Tz_surround_RtTg\n",
      "13599 patches in bg\n",
      "125 patches in RMC\n",
      "804 patches in IC\n"
     ]
    },
    {
     "name": "stderr",
     "output_type": "stream",
     "text": [
      "Analyzing section 247..\n"
     ]
    },
    {
     "name": "stdout",
     "output_type": "stream",
     "text": [
      "2504 patches in SC\n",
      "34 patches in 6N\n",
      "396 patches in RtTg\n",
      "438 patches in Pn\n",
      "120 patches in Tz\n",
      "35 patches in 10N\n",
      "171 patches in LDTg\n",
      "270 patches in IO\n",
      "5 patches in 7n\n",
      "202 patches in 12N\n",
      "661 patches in RMC_surround_noclass\n",
      "1104 patches in IC_surround_noclass\n",
      "59 patches in IC_surround_SC\n",
      "2049 patches in SC_surround_noclass\n",
      "64 patches in SC_surround_IC\n",
      "427 patches in 6N_surround_noclass\n",
      "5 patches in 6N_surround_7n\n",
      "861 patches in RtTg_surround_noclass\n",
      "5 patches in RtTg_surround_Tz\n",
      "89 patches in RtTg_surround_Pn\n",
      "811 patches in Pn_surround_noclass\n",
      "78 patches in Pn_surround_RtTg\n",
      "750 patches in Tz_surround_noclass\n",
      "9 patches in Tz_surround_RtTg\n",
      "559 patches in 10N_surround_noclass\n",
      "182 patches in 10N_surround_12N\n",
      "762 patches in LDTg_surround_noclass\n",
      "1246 patches in IO_surround_noclass\n",
      "316 patches in 7n_surround_noclass\n",
      "34 patches in 7n_surround_6N\n",
      "830 patches in 12N_surround_noclass\n",
      "35 patches in 12N_surround_10N\n",
      "13553 patches in bg\n",
      "8 patches in 7n\n",
      "25 patches in 10N\n",
      "418 patches in Pn\n"
     ]
    },
    {
     "name": "stderr",
     "output_type": "stream",
     "text": [
      "Analyzing section 248..\n"
     ]
    },
    {
     "name": "stdout",
     "output_type": "stream",
     "text": [
      "151 patches in 12N\n",
      "20 patches in 6N\n",
      "381 patches in RtTg\n",
      "830 patches in IC\n",
      "120 patches in RMC\n",
      "2513 patches in SC\n",
      "287 patches in IO\n",
      "119 patches in Tz\n",
      "332 patches in 7n_surround_noclass\n",
      "20 patches in 7n_surround_6N\n",
      "516 patches in 10N_surround_noclass\n",
      "140 patches in 10N_surround_12N\n",
      "821 patches in Pn_surround_noclass\n",
      "61 patches in Pn_surround_RtTg\n",
      "719 patches in 12N_surround_noclass\n",
      "25 patches in 12N_surround_10N\n",
      "372 patches in 6N_surround_noclass\n",
      "8 patches in 6N_surround_7n\n",
      "847 patches in RtTg_surround_noclass\n",
      "2 patches in RtTg_surround_Tz\n",
      "70 patches in RtTg_surround_Pn\n",
      "1131 patches in IC_surround_noclass\n",
      "70 patches in IC_surround_SC\n",
      "647 patches in RMC_surround_noclass\n",
      "2041 patches in SC_surround_noclass\n",
      "73 patches in SC_surround_IC\n",
      "1192 patches in IO_surround_noclass\n",
      "746 patches in Tz_surround_noclass\n",
      "4 patches in Tz_surround_RtTg\n",
      "13799 patches in bg\n",
      "16 patches in 7n\n"
     ]
    },
    {
     "name": "stderr",
     "output_type": "stream",
     "text": [
      "Analyzing section 249..\n"
     ]
    },
    {
     "name": "stdout",
     "output_type": "stream",
     "text": [
      "2522 patches in SC\n",
      "18 patches in 10N\n",
      "123 patches in Tz\n",
      "404 patches in Pn\n",
      "122 patches in RMC\n",
      "98 patches in 12N\n",
      "373 patches in RtTg\n",
      "870 patches in IC\n",
      "11 patches in 6N\n",
      "285 patches in IO\n",
      "360 patches in 7n_surround_noclass\n",
      "11 patches in 7n_surround_6N\n",
      "2028 patches in SC_surround_noclass\n",
      "89 patches in SC_surround_IC\n",
      "514 patches in 10N_surround_noclass\n",
      "97 patches in 10N_surround_12N\n",
      "746 patches in Tz_surround_noclass\n",
      "4 patches in Tz_surround_RtTg\n",
      "829 patches in Pn_surround_noclass\n",
      "50 patches in Pn_surround_RtTg\n",
      "661 patches in RMC_surround_noclass\n",
      "610 patches in 12N_surround_noclass\n",
      "18 patches in 12N_surround_10N\n",
      "841 patches in RtTg_surround_noclass\n",
      "3 patches in RtTg_surround_Tz\n",
      "56 patches in RtTg_surround_Pn\n",
      "1068 patches in IC_surround_noclass\n",
      "82 patches in IC_surround_SC\n",
      "328 patches in 6N_surround_noclass\n",
      "16 patches in 6N_surround_7n\n",
      "1168 patches in IO_surround_noclass\n",
      "13589 patches in bg\n",
      "388 patches in Pn\n"
     ]
    },
    {
     "name": "stderr",
     "output_type": "stream",
     "text": [
      "Analyzing section 250..\n"
     ]
    },
    {
     "name": "stdout",
     "output_type": "stream",
     "text": [
      "24 patches in 7n\n",
      "64 patches in 12N\n",
      "2529 patches in SC\n",
      "11 patches in 10N\n",
      "901 patches in IC\n",
      "296 patches in IO\n",
      "366 patches in RtTg\n",
      "127 patches in Tz\n",
      "130 patches in RMC\n",
      "8 patches in 6N\n",
      "809 patches in Pn_surround_noclass\n",
      "39 patches in Pn_surround_RtTg\n",
      "400 patches in 7n_surround_noclass\n",
      "8 patches in 7n_surround_6N\n",
      "515 patches in 12N_surround_noclass\n",
      "11 patches in 12N_surround_10N\n",
      "2024 patches in SC_surround_noclass\n",
      "100 patches in SC_surround_IC\n",
      "492 patches in 10N_surround_noclass\n",
      "64 patches in 10N_surround_12N\n",
      "1096 patches in IC_surround_noclass\n",
      "91 patches in IC_surround_SC\n",
      "1184 patches in IO_surround_noclass\n",
      "849 patches in RtTg_surround_noclass\n",
      "3 patches in RtTg_surround_Tz\n",
      "44 patches in RtTg_surround_Pn\n",
      "757 patches in Tz_surround_noclass\n",
      "4 patches in Tz_surround_RtTg\n",
      "670 patches in RMC_surround_noclass\n",
      "284 patches in 6N_surround_noclass\n",
      "24 patches in 6N_surround_7n\n",
      "13585 patches in bg\n",
      "2 patches in 6N\n",
      "7 patches in 10N\n",
      "138 patches in Tz\n",
      "380 patches in Pn\n",
      "358 patches in RtTg\n"
     ]
    },
    {
     "name": "stderr",
     "output_type": "stream",
     "text": [
      "Analyzing section 251..\n"
     ]
    },
    {
     "name": "stdout",
     "output_type": "stream",
     "text": [
      "301 patches in IO\n",
      "2536 patches in SC\n",
      "947 patches in IC\n",
      "34 patches in 7n\n",
      "37 patches in 12N\n",
      "132 patches in RMC\n",
      "246 patches in 6N_surround_noclass\n",
      "34 patches in 6N_surround_7n\n",
      "481 patches in 10N_surround_noclass\n",
      "37 patches in 10N_surround_12N\n",
      "776 patches in Tz_surround_noclass\n",
      "5 patches in Tz_surround_RtTg\n",
      "799 patches in Pn_surround_noclass\n",
      "24 patches in Pn_surround_RtTg\n",
      "862 patches in RtTg_surround_noclass\n",
      "3 patches in RtTg_surround_Tz\n",
      "32 patches in RtTg_surround_Pn\n",
      "1165 patches in IO_surround_noclass\n",
      "2014 patches in SC_surround_noclass\n",
      "118 patches in SC_surround_IC\n",
      "1088 patches in IC_surround_noclass\n",
      "106 patches in IC_surround_SC\n",
      "433 patches in 7n_surround_noclass\n",
      "2 patches in 7n_surround_6N\n",
      "449 patches in 12N_surround_noclass\n",
      "7 patches in 12N_surround_10N\n",
      "691 patches in RMC_surround_noclass\n",
      "13504 patches in bg\n",
      "322 patches in IO\n",
      "981 patches in IC\n",
      "135 patches in RMC\n"
     ]
    },
    {
     "name": "stderr",
     "output_type": "stream",
     "text": [
      "Analyzing section 252..\n"
     ]
    },
    {
     "name": "stdout",
     "output_type": "stream",
     "text": [
      "361 patches in RtTg\n",
      "1 patches in 6N\n",
      "45 patches in 7n\n",
      "6 patches in 10N\n",
      "149 patches in Tz\n",
      "367 patches in Pn\n",
      "2545 patches in SC\n",
      "1120 patches in IO_surround_noclass\n",
      "1084 patches in IC_surround_noclass\n",
      "120 patches in IC_surround_SC\n",
      "702 patches in RMC_surround_noclass\n",
      "870 patches in RtTg_surround_noclass\n",
      "3 patches in RtTg_surround_Tz\n",
      "21 patches in RtTg_surround_Pn\n",
      "231 patches in 6N_surround_noclass\n",
      "45 patches in 6N_surround_7n\n",
      "467 patches in 7n_surround_noclass\n",
      "1 patches in 7n_surround_6N\n",
      "462 patches in 10N_surround_noclass\n",
      "777 patches in Tz_surround_noclass\n",
      "2 patches in Tz_surround_RtTg\n",
      "814 patches in Pn_surround_noclass\n",
      "17 patches in Pn_surround_RtTg\n",
      "1988 patches in SC_surround_noclass\n",
      "134 patches in SC_surround_IC\n",
      "13526 patches in bg\n",
      "348 patches in Pn\n",
      "3 patches in 10N\n",
      "61 patches in 7n\n"
     ]
    },
    {
     "name": "stderr",
     "output_type": "stream",
     "text": [
      "Analyzing section 253..\n"
     ]
    },
    {
     "name": "stdout",
     "output_type": "stream",
     "text": [
      "2552 patches in SC\n",
      "348 patches in RtTg\n",
      "1021 patches in IC\n",
      "146 patches in Tz\n",
      "139 patches in RMC\n",
      "322 patches in IO\n",
      "785 patches in Pn_surround_noclass\n",
      "4 patches in Pn_surround_RtTg\n",
      "407 patches in 10N_surround_noclass\n",
      "504 patches in 7n_surround_noclass\n",
      "1975 patches in SC_surround_noclass\n",
      "151 patches in SC_surround_IC\n",
      "884 patches in RtTg_surround_noclass\n",
      "2 patches in RtTg_surround_Tz\n",
      "4 patches in RtTg_surround_Pn\n",
      "1083 patches in IC_surround_noclass\n",
      "133 patches in IC_surround_SC\n",
      "801 patches in Tz_surround_noclass\n",
      "4 patches in Tz_surround_RtTg\n",
      "714 patches in RMC_surround_noclass\n",
      "1082 patches in IO_surround_noclass\n",
      "13665 patches in bg\n"
     ]
    },
    {
     "name": "stderr",
     "output_type": "stream",
     "text": [
      "Analyzing section 254..\n"
     ]
    },
    {
     "name": "stdout",
     "output_type": "stream",
     "text": [
      "1081 patches in IC\n",
      "351 patches in RtTg\n",
      "80 patches in 7n\n",
      "168 patches in Tz\n",
      "1 patches in 10N\n",
      "143 patches in RMC\n",
      "255 patches in RPC\n",
      "84 patches in 8n\n",
      "337 patches in IO\n",
      "357 patches in Pn\n",
      "2578 patches in SC\n",
      "61 patches in Gr\n",
      "1091 patches in IC_surround_noclass\n",
      "159 patches in IC_surround_SC\n",
      "933 patches in RtTg_surround_noclass\n",
      "7 patches in RtTg_surround_Tz\n",
      "1 patches in RtTg_surround_Pn\n",
      "533 patches in 7n_surround_noclass\n",
      "23 patches in 7n_surround_8n\n",
      "823 patches in Tz_surround_noclass\n",
      "9 patches in Tz_surround_RtTg\n",
      "390 patches in 10N_surround_noclass\n",
      "1 patches in 10N_surround_Gr\n",
      "599 patches in RMC_surround_noclass\n",
      "160 patches in RMC_surround_RPC\n",
      "725 patches in RPC_surround_noclass\n",
      "140 patches in RPC_surround_RMC\n",
      "515 patches in 8n_surround_noclass\n",
      "30 patches in 8n_surround_7n\n",
      "1145 patches in IO_surround_noclass\n",
      "819 patches in Pn_surround_noclass\n",
      "1 patches in Pn_surround_RtTg\n",
      "1984 patches in SC_surround_noclass\n",
      "187 patches in SC_surround_IC\n",
      "370 patches in Gr_surround_noclass\n",
      "13528 patches in bg\n",
      "263 patches in RtTg\n",
      "336 patches in Pn\n"
     ]
    },
    {
     "name": "stderr",
     "output_type": "stream",
     "text": [
      "Analyzing section 255..\n"
     ]
    },
    {
     "name": "stdout",
     "output_type": "stream",
     "text": [
      "271 patches in IO\n",
      "2482 patches in SC\n",
      "95 patches in RMC\n",
      "1084 patches in IC\n",
      "158 patches in Tz\n",
      "2 patches in 10N\n",
      "87 patches in 7n\n",
      "808 patches in RtTg_surround_noclass\n",
      "813 patches in Pn_surround_noclass\n",
      "1045 patches in IO_surround_noclass\n",
      "1946 patches in SC_surround_noclass\n",
      "162 patches in SC_surround_IC\n",
      "596 patches in RMC_surround_noclass\n",
      "1104 patches in IC_surround_noclass\n",
      "141 patches in IC_surround_SC\n",
      "820 patches in Tz_surround_noclass\n",
      "327 patches in 10N_surround_noclass\n",
      "567 patches in 7n_surround_noclass\n",
      "13613 patches in bg\n",
      "212 patches in RtTg\n",
      "17 patches in SNR\n",
      "342 patches in Pn\n"
     ]
    },
    {
     "name": "stderr",
     "output_type": "stream",
     "text": [
      "Analyzing section 256..\n"
     ]
    },
    {
     "name": "stdout",
     "output_type": "stream",
     "text": [
      "2416 patches in SC\n",
      "70 patches in RMC\n",
      "246 patches in IO\n",
      "182 patches in Tz\n",
      "134 patches in 7n\n",
      "1098 patches in IC\n",
      "768 patches in RtTg_surround_noclass\n",
      "429 patches in SNR_surround_noclass\n",
      "807 patches in Pn_surround_noclass\n",
      "1921 patches in SC_surround_noclass\n",
      "151 patches in SC_surround_IC\n",
      "530 patches in RMC_surround_noclass\n",
      "1020 patches in IO_surround_noclass\n",
      "829 patches in Tz_surround_noclass\n",
      "2 patches in Tz_surround_RtTg\n",
      "636 patches in 7n_surround_noclass\n",
      "1116 patches in IC_surround_noclass\n",
      "129 patches in IC_surround_SC\n",
      "13711 patches in bg\n",
      "168 patches in IO\n"
     ]
    },
    {
     "name": "stderr",
     "output_type": "stream",
     "text": [
      "Analyzing section 257..\n"
     ]
    },
    {
     "name": "stdout",
     "output_type": "stream",
     "text": [
      "31 patches in SNR\n",
      "49 patches in RMC\n",
      "323 patches in Pn\n",
      "1117 patches in IC\n",
      "113 patches in 7n\n",
      "182 patches in RtTg\n",
      "2351 patches in SC\n",
      "146 patches in Tz\n",
      "959 patches in IO_surround_noclass\n",
      "458 patches in SNR_surround_noclass\n",
      "473 patches in RMC_surround_noclass\n",
      "808 patches in Pn_surround_noclass\n",
      "1141 patches in IC_surround_noclass\n",
      "122 patches in IC_surround_SC\n",
      "608 patches in 7n_surround_noclass\n",
      "725 patches in RtTg_surround_noclass\n",
      "1914 patches in SC_surround_noclass\n",
      "147 patches in SC_surround_IC\n",
      "750 patches in Tz_surround_noclass\n",
      "13714 patches in bg\n",
      "35 patches in RMC\n",
      "103 patches in 7n\n",
      "157 patches in RtTg\n"
     ]
    },
    {
     "name": "stderr",
     "output_type": "stream",
     "text": [
      "Analyzing section 258..\n"
     ]
    },
    {
     "name": "stdout",
     "output_type": "stream",
     "text": [
      "2270 patches in SC\n",
      "108 patches in Tz\n",
      "59 patches in SNR\n",
      "114 patches in IO\n",
      "321 patches in Pn\n",
      "1143 patches in IC\n",
      "429 patches in RMC_surround_noclass\n",
      "581 patches in 7n_surround_noclass\n",
      "701 patches in RtTg_surround_noclass\n",
      "1 patches in RtTg_surround_Tz\n",
      "1896 patches in SC_surround_noclass\n",
      "141 patches in SC_surround_IC\n",
      "691 patches in Tz_surround_noclass\n",
      "3 patches in Tz_surround_RtTg\n",
      "522 patches in SNR_surround_noclass\n",
      "758 patches in IO_surround_noclass\n",
      "840 patches in Pn_surround_noclass\n",
      "1173 patches in IC_surround_noclass\n",
      "112 patches in IC_surround_SC\n",
      "13734 patches in bg\n",
      "87 patches in SNR\n"
     ]
    },
    {
     "name": "stderr",
     "output_type": "stream",
     "text": [
      "Analyzing section 259..\n"
     ]
    },
    {
     "name": "stdout",
     "output_type": "stream",
     "text": [
      "315 patches in Pn\n",
      "91 patches in 7n\n",
      "24 patches in RMC\n",
      "1159 patches in IC\n",
      "89 patches in Tz\n",
      "146 patches in RtTg\n",
      "2208 patches in SC\n",
      "69 patches in IO\n",
      "571 patches in SNR_surround_noclass\n",
      "829 patches in Pn_surround_noclass\n",
      "564 patches in 7n_surround_noclass\n",
      "417 patches in RMC_surround_noclass\n",
      "1176 patches in IC_surround_noclass\n",
      "105 patches in IC_surround_SC\n",
      "605 patches in Tz_surround_noclass\n",
      "5 patches in Tz_surround_RtTg\n",
      "682 patches in RtTg_surround_noclass\n",
      "3 patches in RtTg_surround_Tz\n",
      "1878 patches in SC_surround_noclass\n",
      "134 patches in SC_surround_IC\n",
      "610 patches in IO_surround_noclass\n",
      "13699 patches in bg\n",
      "39 patches in IO\n",
      "1181 patches in IC\n"
     ]
    },
    {
     "name": "stderr",
     "output_type": "stream",
     "text": [
      "Analyzing section 260..\n"
     ]
    },
    {
     "name": "stdout",
     "output_type": "stream",
     "text": [
      "79 patches in 7n\n",
      "89 patches in LC\n",
      "127 patches in SNR\n",
      "311 patches in Pn\n",
      "58 patches in Tz\n",
      "127 patches in RtTg\n",
      "2127 patches in SC\n",
      "478 patches in IO_surround_noclass\n",
      "1202 patches in IC_surround_noclass\n",
      "99 patches in IC_surround_SC\n",
      "544 patches in 7n_surround_noclass\n",
      "736 patches in LC_surround_noclass\n",
      "646 patches in SNR_surround_noclass\n",
      "825 patches in Pn_surround_noclass\n",
      "2 patches in Pn_surround_RtTg\n",
      "517 patches in Tz_surround_noclass\n",
      "10 patches in Tz_surround_RtTg\n",
      "656 patches in RtTg_surround_noclass\n",
      "6 patches in RtTg_surround_Tz\n",
      "2 patches in RtTg_surround_Pn\n",
      "1875 patches in SC_surround_noclass\n",
      "121 patches in SC_surround_IC\n",
      "13782 patches in bg\n",
      "21 patches in Tz\n",
      "7 patches in IO\n",
      "301 patches in Pn\n",
      "1230 patches in IC\n"
     ]
    },
    {
     "name": "stderr",
     "output_type": "stream",
     "text": [
      "Analyzing section 261..\n",
      "Analyzing section 262..\n"
     ]
    },
    {
     "name": "stdout",
     "output_type": "stream",
     "text": [
      "89 patches in RtTg\n",
      "1989 patches in SC\n",
      "106 patches in LC\n",
      "65 patches in 7n\n",
      "214 patches in SNR\n",
      "372 patches in Tz_surround_noclass\n",
      "17 patches in Tz_surround_RtTg\n",
      "362 patches in IO_surround_noclass\n",
      "797 patches in Pn_surround_noclass\n",
      "17 patches in Pn_surround_RtTg\n",
      "1236 patches in IC_surround_noclass\n",
      "84 patches in IC_surround_SC\n",
      "629 patches in RtTg_surround_noclass\n",
      "11 patches in RtTg_surround_Tz\n",
      "24 patches in RtTg_surround_Pn\n",
      "1853 patches in SC_surround_noclass\n",
      "115 patches in SC_surround_IC\n",
      "659 patches in LC_surround_noclass\n",
      "500 patches in 7n_surround_noclass\n",
      "772 patches in SNR_surround_noclass\n",
      "13855 patches in bg\n"
     ]
    },
    {
     "name": "stderr",
     "output_type": "stream",
     "text": [
      "Analyzing section 263..\n"
     ]
    },
    {
     "name": "stdout",
     "output_type": "stream",
     "text": [
      "83 patches in RtTg\n",
      "1260 patches in IC\n",
      "268 patches in SNR\n",
      "0 patches in IO\n",
      "109 patches in LC\n",
      "30 patches in SNC\n",
      "309 patches in Pn\n",
      "64 patches in 7n\n",
      "1943 patches in SC\n",
      "13 patches in Tz\n",
      "620 patches in RtTg_surround_noclass\n",
      "13 patches in RtTg_surround_Tz\n",
      "44 patches in RtTg_surround_Pn\n",
      "1280 patches in IC_surround_noclass\n",
      "83 patches in IC_surround_SC\n",
      "803 patches in SNR_surround_noclass\n",
      "30 patches in SNR_surround_SNC\n",
      "303 patches in IO_surround_noclass\n",
      "701 patches in LC_surround_noclass\n",
      "392 patches in SNC_surround_noclass\n",
      "148 patches in SNC_surround_SNR\n",
      "794 patches in Pn_surround_noclass\n",
      "2 patches in Pn_surround_Tz\n",
      "27 patches in Pn_surround_RtTg\n",
      "496 patches in 7n_surround_noclass\n",
      "1865 patches in SC_surround_noclass\n",
      "118 patches in SC_surround_IC\n",
      "313 patches in Tz_surround_noclass\n",
      "25 patches in Tz_surround_RtTg\n",
      "13993 patches in bg\n"
     ]
    },
    {
     "name": "stderr",
     "output_type": "stream",
     "text": [
      "Analyzing section 264..\n"
     ]
    },
    {
     "name": "stdout",
     "output_type": "stream",
     "text": [
      "1912 patches in SC\n",
      "55 patches in 7n\n",
      "273 patches in SNR\n",
      "296 patches in Pn\n",
      "114 patches in LC\n",
      "69 patches in RtTg\n",
      "1283 patches in IC\n",
      "25 patches in SNC\n",
      "1829 patches in SC_surround_noclass\n",
      "106 patches in SC_surround_IC\n",
      "482 patches in 7n_surround_noclass\n",
      "819 patches in SNR_surround_noclass\n",
      "25 patches in SNR_surround_SNC\n",
      "788 patches in Pn_surround_noclass\n",
      "27 patches in Pn_surround_RtTg\n",
      "679 patches in LC_surround_noclass\n",
      "590 patches in RtTg_surround_noclass\n",
      "45 patches in RtTg_surround_Pn\n",
      "1273 patches in IC_surround_noclass\n",
      "75 patches in IC_surround_SC\n",
      "367 patches in SNC_surround_noclass\n",
      "147 patches in SNC_surround_SNR\n",
      "13743 patches in bg\n",
      "24 patches in SNC\n",
      "124 patches in LC\n",
      "1313 patches in IC\n",
      "19 patches in 7N\n"
     ]
    },
    {
     "name": "stderr",
     "output_type": "stream",
     "text": [
      "Analyzing section 265..\n"
     ]
    },
    {
     "name": "stdout",
     "output_type": "stream",
     "text": [
      "1894 patches in SC\n",
      "54 patches in 7n\n",
      "293 patches in Pn\n",
      "64 patches in RtTg\n",
      "291 patches in SNR\n",
      "351 patches in SNC_surround_noclass\n",
      "155 patches in SNC_surround_SNR\n",
      "692 patches in LC_surround_noclass\n",
      "1292 patches in IC_surround_noclass\n",
      "76 patches in IC_surround_SC\n",
      "370 patches in 7N_surround_noclass\n",
      "1815 patches in SC_surround_noclass\n",
      "108 patches in SC_surround_IC\n",
      "480 patches in 7n_surround_noclass\n",
      "743 patches in Pn_surround_noclass\n",
      "31 patches in Pn_surround_RtTg\n",
      "578 patches in RtTg_surround_noclass\n",
      "51 patches in RtTg_surround_Pn\n",
      "836 patches in SNR_surround_noclass\n",
      "24 patches in SNR_surround_SNC\n",
      "14298 patches in bg\n",
      "1344 patches in IC\n"
     ]
    },
    {
     "name": "stderr",
     "output_type": "stream",
     "text": [
      "Analyzing section 266..\n"
     ]
    },
    {
     "name": "stdout",
     "output_type": "stream",
     "text": [
      "1871 patches in SC\n",
      "305 patches in SNR\n",
      "57 patches in 7n\n",
      "47 patches in 7N\n",
      "130 patches in LC\n",
      "59 patches in RtTg\n",
      "287 patches in Pn\n",
      "23 patches in SNC\n",
      "1307 patches in IC_surround_noclass\n",
      "77 patches in IC_surround_SC\n",
      "1798 patches in SC_surround_noclass\n",
      "111 patches in SC_surround_IC\n",
      "871 patches in SNR_surround_noclass\n",
      "23 patches in SNR_surround_SNC\n",
      "478 patches in 7n_surround_noclass\n",
      "457 patches in 7N_surround_noclass\n",
      "715 patches in LC_surround_noclass\n",
      "556 patches in RtTg_surround_noclass\n",
      "62 patches in RtTg_surround_Pn\n",
      "776 patches in Pn_surround_noclass\n",
      "38 patches in Pn_surround_RtTg\n",
      "349 patches in SNC_surround_noclass\n",
      "169 patches in SNC_surround_SNR\n",
      "13850 patches in bg\n"
     ]
    },
    {
     "name": "stderr",
     "output_type": "stream",
     "text": [
      "Analyzing section 267..\n"
     ]
    },
    {
     "name": "stdout",
     "output_type": "stream",
     "text": [
      "56 patches in 7n\n",
      "145 patches in LC\n",
      "1862 patches in SC\n",
      "1379 patches in IC\n",
      "25 patches in SNC\n",
      "51 patches in RtTg\n",
      "103 patches in 7N\n",
      "289 patches in Pn\n",
      "324 patches in SNR\n",
      "478 patches in 7n_surround_noclass\n",
      "745 patches in LC_surround_noclass\n",
      "1782 patches in SC_surround_noclass\n",
      "108 patches in SC_surround_IC\n",
      "1331 patches in IC_surround_noclass\n",
      "81 patches in IC_surround_SC\n",
      "335 patches in SNC_surround_noclass\n",
      "174 patches in SNC_surround_SNR\n",
      "536 patches in RtTg_surround_noclass\n",
      "73 patches in RtTg_surround_Pn\n",
      "557 patches in 7N_surround_noclass\n",
      "748 patches in Pn_surround_noclass\n",
      "43 patches in Pn_surround_RtTg\n",
      "891 patches in SNR_surround_noclass\n",
      "25 patches in SNR_surround_SNC\n",
      "14067 patches in bg\n",
      "1414 patches in IC\n",
      "113 patches in LC\n"
     ]
    },
    {
     "name": "stderr",
     "output_type": "stream",
     "text": [
      "Analyzing section 268..\n"
     ]
    },
    {
     "name": "stdout",
     "output_type": "stream",
     "text": [
      "1846 patches in SC\n",
      "184 patches in LRt\n",
      "47 patches in RtTg\n",
      "285 patches in Pn\n",
      "17 patches in SNC\n",
      "165 patches in 7N\n",
      "333 patches in SNR\n",
      "56 patches in 7n\n",
      "1315 patches in IC_surround_noclass\n",
      "82 patches in IC_surround_SC\n",
      "686 patches in LC_surround_noclass\n",
      "1769 patches in SC_surround_noclass\n",
      "110 patches in SC_surround_IC\n",
      "835 patches in LRt_surround_noclass\n",
      "517 patches in RtTg_surround_noclass\n",
      "84 patches in RtTg_surround_Pn\n",
      "714 patches in Pn_surround_noclass\n",
      "44 patches in Pn_surround_RtTg\n",
      "334 patches in SNC_surround_noclass\n",
      "175 patches in SNC_surround_SNR\n",
      "612 patches in 7N_surround_noclass\n",
      "929 patches in SNR_surround_noclass\n",
      "17 patches in SNR_surround_SNC\n",
      "478 patches in 7n_surround_noclass\n",
      "14577 patches in bg\n"
     ]
    },
    {
     "name": "stderr",
     "output_type": "stream",
     "text": [
      "Analyzing section 269..\n"
     ]
    },
    {
     "name": "stdout",
     "output_type": "stream",
     "text": [
      "42 patches in RtTg\n",
      "1827 patches in SC\n",
      "85 patches in LC\n",
      "260 patches in 7N\n",
      "20 patches in SNC\n",
      "347 patches in SNR\n",
      "278 patches in Pn\n",
      "53 patches in 7n\n",
      "191 patches in LRt\n",
      "1451 patches in IC\n",
      "499 patches in RtTg_surround_noclass\n",
      "94 patches in RtTg_surround_Pn\n",
      "1758 patches in SC_surround_noclass\n",
      "116 patches in SC_surround_IC\n",
      "635 patches in LC_surround_noclass\n",
      "715 patches in 7N_surround_noclass\n",
      "321 patches in SNC_surround_noclass\n",
      "181 patches in SNC_surround_SNR\n",
      "956 patches in SNR_surround_noclass\n",
      "20 patches in SNR_surround_SNC\n",
      "754 patches in Pn_surround_noclass\n",
      "42 patches in Pn_surround_RtTg\n",
      "476 patches in 7n_surround_noclass\n",
      "854 patches in LRt_surround_noclass\n",
      "1331 patches in IC_surround_noclass\n",
      "87 patches in IC_surround_SC\n",
      "14457 patches in bg\n",
      "360 patches in 7N\n",
      "1492 patches in IC\n",
      "68 patches in LC\n",
      "1835 patches in SC\n",
      "59 patches in 7n\n"
     ]
    },
    {
     "name": "stderr",
     "output_type": "stream",
     "text": [
      "Analyzing section 270..\n"
     ]
    },
    {
     "name": "stdout",
     "output_type": "stream",
     "text": [
      "40 patches in RtTg\n",
      "283 patches in Pn\n",
      "221 patches in LRt\n",
      "371 patches in SNR\n",
      "18 patches in SNC\n",
      "819 patches in 7N_surround_noclass\n",
      "1368 patches in IC_surround_noclass\n",
      "95 patches in IC_surround_SC\n",
      "611 patches in LC_surround_noclass\n",
      "1765 patches in SC_surround_noclass\n",
      "121 patches in SC_surround_IC\n",
      "492 patches in 7n_surround_noclass\n",
      "494 patches in RtTg_surround_noclass\n",
      "118 patches in RtTg_surround_Pn\n",
      "742 patches in Pn_surround_noclass\n",
      "39 patches in Pn_surround_RtTg\n",
      "936 patches in LRt_surround_noclass\n",
      "998 patches in SNR_surround_noclass\n",
      "18 patches in SNR_surround_SNC\n",
      "340 patches in SNC_surround_noclass\n",
      "195 patches in SNC_surround_SNR\n",
      "14592 patches in bg\n",
      "43 patches in LC\n",
      "2046 patches in SC\n"
     ]
    },
    {
     "name": "stderr",
     "output_type": "stream",
     "text": [
      "Analyzing section 271..\n"
     ]
    },
    {
     "name": "stdout",
     "output_type": "stream",
     "text": [
      "396 patches in SNR\n",
      "56 patches in 7n\n",
      "268 patches in Pn\n",
      "15 patches in SNC\n",
      "1480 patches in IC\n",
      "357 patches in 7N\n",
      "207 patches in LRt\n",
      "505 patches in LC_surround_noclass\n",
      "1761 patches in SC_surround_noclass\n",
      "122 patches in SC_surround_IC\n",
      "1012 patches in SNR_surround_noclass\n",
      "15 patches in SNR_surround_SNC\n",
      "473 patches in 7n_surround_noclass\n",
      "751 patches in Pn_surround_noclass\n",
      "301 patches in SNC_surround_noclass\n",
      "169 patches in SNC_surround_SNR\n",
      "1347 patches in IC_surround_noclass\n",
      "96 patches in IC_surround_SC\n",
      "822 patches in 7N_surround_noclass\n",
      "891 patches in LRt_surround_noclass\n",
      "14374 patches in bg\n",
      "441 patches in SNR\n",
      "364 patches in 7N\n"
     ]
    },
    {
     "name": "stderr",
     "output_type": "stream",
     "text": [
      "Analyzing section 272..\n"
     ]
    },
    {
     "name": "stdout",
     "output_type": "stream",
     "text": [
      "1476 patches in IC\n",
      "25 patches in LC\n",
      "2325 patches in SC\n",
      "12 patches in SNC\n",
      "257 patches in Pn\n",
      "202 patches in LRt\n",
      "54 patches in 7n\n",
      "1047 patches in SNR_surround_noclass\n",
      "12 patches in SNR_surround_SNC\n",
      "847 patches in 7N_surround_noclass\n",
      "1319 patches in IC_surround_noclass\n",
      "117 patches in IC_surround_SC\n",
      "466 patches in LC_surround_noclass\n",
      "1796 patches in SC_surround_noclass\n",
      "133 patches in SC_surround_IC\n",
      "296 patches in SNC_surround_noclass\n",
      "174 patches in SNC_surround_SNR\n",
      "752 patches in Pn_surround_noclass\n",
      "872 patches in LRt_surround_noclass\n",
      "479 patches in 7n_surround_noclass\n",
      "14563 patches in bg\n",
      "371 patches in 7N\n",
      "2570 patches in SC\n",
      "58 patches in 7n\n"
     ]
    },
    {
     "name": "stderr",
     "output_type": "stream",
     "text": [
      "Analyzing section 273..\n"
     ]
    },
    {
     "name": "stdout",
     "output_type": "stream",
     "text": [
      "1477 patches in IC\n",
      "10 patches in SNC\n",
      "244 patches in Pn\n",
      "198 patches in LRt\n",
      "481 patches in SNR\n",
      "861 patches in 7N_surround_noclass\n",
      "1819 patches in SC_surround_noclass\n",
      "157 patches in SC_surround_IC\n",
      "486 patches in 7n_surround_noclass\n",
      "1285 patches in IC_surround_noclass\n",
      "149 patches in IC_surround_SC\n",
      "281 patches in SNC_surround_noclass\n",
      "171 patches in SNC_surround_SNR\n",
      "762 patches in Pn_surround_noclass\n",
      "629 patches in LRt_surround_noclass\n",
      "1080 patches in SNR_surround_noclass\n",
      "10 patches in SNR_surround_SNC\n",
      "15470 patches in bg\n"
     ]
    },
    {
     "name": "stderr",
     "output_type": "stream",
     "text": [
      "Analyzing section 274..\n"
     ]
    },
    {
     "name": "stdout",
     "output_type": "stream",
     "text": [
      "1475 patches in IC\n",
      "59 patches in 7n\n",
      "2866 patches in SC\n",
      "7 patches in SNC\n",
      "375 patches in 7N\n",
      "239 patches in Pn\n",
      "197 patches in LRt\n",
      "529 patches in SNR\n",
      "1247 patches in IC_surround_noclass\n",
      "187 patches in IC_surround_SC\n",
      "487 patches in 7n_surround_noclass\n",
      "1852 patches in SC_surround_noclass\n",
      "193 patches in SC_surround_IC\n",
      "279 patches in SNC_surround_noclass\n",
      "171 patches in SNC_surround_SNR\n",
      "910 patches in 7N_surround_noclass\n",
      "754 patches in Pn_surround_noclass\n",
      "844 patches in LRt_surround_noclass\n",
      "1129 patches in SNR_surround_noclass\n",
      "7 patches in SNR_surround_SNC\n",
      "14979 patches in bg\n",
      "7 patches in SNC\n",
      "197 patches in LRt\n"
     ]
    },
    {
     "name": "stderr",
     "output_type": "stream",
     "text": [
      "Analyzing section 275..\n"
     ]
    },
    {
     "name": "stdout",
     "output_type": "stream",
     "text": [
      "194 patches in LRt\n",
      "237 patches in Pn\n",
      "68 patches in 7n\n",
      "394 patches in 7N\n",
      "3144 patches in SC\n",
      "568 patches in SNR\n",
      "1503 patches in IC\n",
      "292 patches in SNC_surround_noclass\n",
      "179 patches in SNC_surround_SNR\n",
      "912 patches in LRt_surround_noclass\n",
      "889 patches in LRt_surround_noclass\n",
      "793 patches in Pn_surround_noclass\n",
      "502 patches in 7n_surround_noclass\n",
      "921 patches in 7N_surround_noclass\n",
      "1909 patches in SC_surround_noclass\n",
      "247 patches in SC_surround_IC\n",
      "1199 patches in SNR_surround_noclass\n",
      "7 patches in SNR_surround_SNC\n",
      "1193 patches in IC_surround_noclass\n",
      "242 patches in IC_surround_SC\n",
      "15083 patches in bg\n",
      "644 patches in APT\n",
      "390 patches in 7N\n"
     ]
    },
    {
     "name": "stderr",
     "output_type": "stream",
     "text": [
      "Analyzing section 276..\n"
     ]
    },
    {
     "name": "stdout",
     "output_type": "stream",
     "text": [
      "591 patches in SNR\n",
      "202 patches in LRt\n",
      "8 patches in SNC\n",
      "63 patches in 7n\n",
      "1489 patches in IC\n",
      "183 patches in Pn\n",
      "2874 patches in SC\n",
      "1041 patches in APT_surround_noclass\n",
      "104 patches in APT_surround_SC\n",
      "913 patches in 7N_surround_noclass\n",
      "1198 patches in SNR_surround_noclass\n",
      "8 patches in SNR_surround_SNC\n",
      "890 patches in LRt_surround_noclass\n",
      "283 patches in SNC_surround_noclass\n",
      "171 patches in SNC_surround_SNR\n",
      "493 patches in 7n_surround_noclass\n",
      "1241 patches in IC_surround_noclass\n",
      "208 patches in IC_surround_SC\n",
      "743 patches in Pn_surround_noclass\n",
      "1733 patches in SC_surround_noclass\n",
      "96 patches in SC_surround_APT\n",
      "212 patches in SC_surround_IC\n",
      "14497 patches in bg\n"
     ]
    },
    {
     "name": "stderr",
     "output_type": "stream",
     "text": [
      "Analyzing section 277..\n"
     ]
    },
    {
     "name": "stdout",
     "output_type": "stream",
     "text": [
      "1502 patches in IC\n",
      "11 patches in SNC\n",
      "67 patches in 7n\n",
      "2674 patches in SC\n",
      "151 patches in Pn\n",
      "613 patches in APT\n",
      "220 patches in LRt\n",
      "393 patches in 7N\n",
      "609 patches in SNR\n",
      "1256 patches in IC_surround_noclass\n",
      "186 patches in IC_surround_SC\n",
      "299 patches in SNC_surround_noclass\n",
      "176 patches in SNC_surround_SNR\n",
      "497 patches in 7n_surround_noclass\n",
      "1725 patches in SC_surround_noclass\n",
      "79 patches in SC_surround_APT\n",
      "192 patches in SC_surround_IC\n",
      "731 patches in Pn_surround_noclass\n",
      "1037 patches in APT_surround_noclass\n",
      "78 patches in APT_surround_SC\n",
      "893 patches in LRt_surround_noclass\n",
      "916 patches in 7N_surround_noclass\n",
      "1201 patches in SNR_surround_noclass\n",
      "11 patches in SNR_surround_SNC\n",
      "15407 patches in bg\n"
     ]
    },
    {
     "name": "stderr",
     "output_type": "stream",
     "text": [
      "Analyzing section 278..\n"
     ]
    },
    {
     "name": "stdout",
     "output_type": "stream",
     "text": [
      "594 patches in APT\n",
      "1520 patches in IC\n",
      "392 patches in 7N\n",
      "66 patches in 7n\n",
      "117 patches in Pn\n",
      "637 patches in SNR\n",
      "236 patches in LRt\n",
      "2451 patches in SC\n",
      "11 patches in SNC\n",
      "1031 patches in APT_surround_noclass\n",
      "64 patches in APT_surround_SC\n",
      "1279 patches in IC_surround_noclass\n",
      "166 patches in IC_surround_SC\n",
      "914 patches in 7N_surround_noclass\n",
      "505 patches in 7n_surround_noclass\n",
      "692 patches in Pn_surround_noclass\n",
      "1239 patches in SNR_surround_noclass\n",
      "11 patches in SNR_surround_SNC\n",
      "906 patches in LRt_surround_noclass\n",
      "1683 patches in SC_surround_noclass\n",
      "60 patches in SC_surround_APT\n",
      "169 patches in SC_surround_IC\n",
      "304 patches in SNC_surround_noclass\n",
      "178 patches in SNC_surround_SNR\n",
      "15305 patches in bg\n",
      "2269 patches in SC\n"
     ]
    },
    {
     "name": "stderr",
     "output_type": "stream",
     "text": [
      "Analyzing section 279..\n"
     ]
    },
    {
     "name": "stdout",
     "output_type": "stream",
     "text": [
      "1533 patches in IC\n",
      "575 patches in APT\n",
      "661 patches in SNR\n",
      "249 patches in LRt\n",
      "11 patches in SNC\n",
      "396 patches in 7N\n",
      "87 patches in Pn\n",
      "68 patches in 7n\n",
      "1658 patches in SC_surround_noclass\n",
      "45 patches in SC_surround_APT\n",
      "149 patches in SC_surround_IC\n",
      "1306 patches in IC_surround_noclass\n",
      "144 patches in IC_surround_SC\n",
      "1035 patches in APT_surround_noclass\n",
      "45 patches in APT_surround_SC\n",
      "1251 patches in SNR_surround_noclass\n",
      "11 patches in SNR_surround_SNC\n",
      "935 patches in LRt_surround_noclass\n",
      "331 patches in SNC_surround_noclass\n",
      "180 patches in SNC_surround_SNR\n",
      "907 patches in 7N_surround_noclass\n",
      "677 patches in Pn_surround_noclass\n",
      "508 patches in 7n_surround_noclass\n",
      "15455 patches in bg\n"
     ]
    },
    {
     "name": "stderr",
     "output_type": "stream",
     "text": [
      "Analyzing section 280..\n"
     ]
    },
    {
     "name": "stdout",
     "output_type": "stream",
     "text": [
      "69 patches in 7n\n",
      "273 patches in LRt\n",
      "679 patches in SNR\n",
      "1541 patches in IC\n",
      "51 patches in 5N\n",
      "2094 patches in SC\n",
      "13 patches in SNC\n",
      "557 patches in APT\n",
      "58 patches in Pn\n",
      "404 patches in 7N\n",
      "517 patches in 7n_surround_noclass\n",
      "955 patches in LRt_surround_noclass\n",
      "1273 patches in SNR_surround_noclass\n",
      "13 patches in SNR_surround_SNC\n",
      "1332 patches in IC_surround_noclass\n",
      "130 patches in IC_surround_SC\n",
      "504 patches in 5N_surround_noclass\n",
      "1618 patches in SC_surround_noclass\n",
      "36 patches in SC_surround_APT\n",
      "138 patches in SC_surround_IC\n",
      "337 patches in SNC_surround_noclass\n",
      "184 patches in SNC_surround_SNR\n",
      "1033 patches in APT_surround_noclass\n",
      "35 patches in APT_surround_SC\n",
      "697 patches in Pn_surround_noclass\n",
      "904 patches in 7N_surround_noclass\n",
      "15431 patches in bg\n",
      "286 patches in LRt\n",
      "72 patches in 5N\n",
      "72 patches in 7n\n",
      "16 patches in SNC\n",
      "532"
     ]
    },
    {
     "name": "stderr",
     "output_type": "stream",
     "text": [
      "Analyzing section 281..\n"
     ]
    },
    {
     "name": "stdout",
     "output_type": "stream",
     "text": [
      " patches in APT\n",
      "27 patches in Pn\n",
      "409 patches in 7N\n",
      "710 patches in SNR\n",
      "1888 patches in SC\n",
      "1557 patches in IC\n",
      "995 patches in LRt_surround_noclass\n",
      "529 patches in 5N_surround_noclass\n",
      "523 patches in 7n_surround_noclass\n",
      "360 patches in SNC_surround_noclass\n",
      "188 patches in SNC_surround_SNR\n",
      "1023 patches in APT_surround_noclass\n",
      "25 patches in APT_surround_SC\n",
      "558 patches in Pn_surround_noclass\n",
      "911 patches in 7N_surround_noclass\n",
      "1292 patches in SNR_surround_noclass\n",
      "16 patches in SNR_surround_SNC\n",
      "1591 patches in SC_surround_noclass\n",
      "24 patches in SC_surround_APT\n",
      "118 patches in SC_surround_IC\n",
      "1355 patches in IC_surround_noclass\n",
      "107 patches in IC_surround_SC\n",
      "15872 patches in bg\n"
     ]
    },
    {
     "name": "stderr",
     "output_type": "stream",
     "text": [
      "Analyzing section 282..\n"
     ]
    },
    {
     "name": "stdout",
     "output_type": "stream",
     "text": [
      "308 patches in LRt\n",
      "412 patches in 7N\n",
      "1729 patches in SC\n",
      "19 patches in SNC\n",
      "12 patches in Pn\n",
      "1570 patches in IC\n",
      "100 patches in 5N\n",
      "726 patches in SNR\n",
      "516 patches in APT\n",
      "77 patches in 7n\n",
      "1006 patches in LRt_surround_noclass\n",
      "908 patches in 7N_surround_noclass\n",
      "1539 patches in SC_surround_noclass\n",
      "17 patches in SC_surround_APT\n",
      "108 patches in SC_surround_IC\n",
      "373 patches in SNC_surround_noclass\n",
      "191 patches in SNC_surround_SNR\n",
      "497 patches in Pn_surround_noclass\n",
      "1388 patches in IC_surround_noclass\n",
      "97 patches in IC_surround_SC\n",
      "582 patches in 5N_surround_noclass\n",
      "1319 patches in SNR_surround_noclass\n",
      "19 patches in SNR_surround_SNC\n",
      "1013 patches in APT_surround_noclass\n",
      "18 patches in APT_surround_SC\n",
      "524 patches in 7n_surround_noclass\n",
      "15965 patches in bg\n",
      "1577 patches in IC\n",
      "137 patches in 5N\n"
     ]
    },
    {
     "name": "stderr",
     "output_type": "stream",
     "text": [
      "Analyzing section 283..\n"
     ]
    },
    {
     "name": "stdout",
     "output_type": "stream",
     "text": [
      "750 patches in SNR\n",
      "415 patches in 7N\n",
      "78 patches in 7n\n",
      "326 patches in LRt\n",
      "0 patches in Pn\n",
      "495 patches in APT\n",
      "23 patches in SNC\n",
      "1545 patches in SC\n",
      "1406 patches in IC_surround_noclass\n",
      "78 patches in IC_surround_SC\n",
      "630 patches in 5N_surround_noclass\n",
      "1344 patches in SNR_surround_noclass\n",
      "23 patches in SNR_surround_SNC\n",
      "914 patches in 7N_surround_noclass\n",
      "534 patches in 7n_surround_noclass\n",
      "1033 patches in LRt_surround_noclass\n",
      "480 patches in Pn_surround_noclass\n",
      "1004 patches in APT_surround_noclass\n",
      "10 patches in APT_surround_SC\n",
      "383 patches in SNC_surround_noclass\n",
      "195 patches in SNC_surround_SNR\n",
      "1503 patches in SC_surround_noclass\n",
      "11 patches in SC_surround_APT\n",
      "92 patches in SC_surround_IC\n",
      "16637 patches in bg\n"
     ]
    },
    {
     "name": "stderr",
     "output_type": "stream",
     "text": [
      "Analyzing section 284..\n"
     ]
    },
    {
     "name": "stdout",
     "output_type": "stream",
     "text": [
      "174 patches in 5N\n",
      "81 patches in 7n\n",
      "23 patches in SNC\n",
      "345 patches in LRt\n",
      "766 patches in SNR\n",
      "1395 patches in SC\n",
      "1593 patches in IC\n",
      "477 patches in APT\n",
      "416 patches in 7N\n",
      "681 patches in 5N_surround_noclass\n",
      "541 patches in 7n_surround_noclass\n",
      "397 patches in SNC_surround_noclass\n",
      "200 patches in SNC_surround_SNR\n",
      "1044 patches in LRt_surround_noclass\n",
      "1377 patches in SNR_surround_noclass\n",
      "23 patches in SNR_surround_SNC\n",
      "1462 patches in SC_surround_noclass\n",
      "6 patches in SC_surround_APT\n",
      "88 patches in SC_surround_IC\n",
      "1427 patches in IC_surround_noclass\n",
      "72 patches in IC_surround_SC\n",
      "993 patches in APT_surround_noclass\n",
      "6 patches in APT_surround_SC\n",
      "920 patches in 7N_surround_noclass\n",
      "15969 patches in bg\n"
     ]
    },
    {
     "name": "stderr",
     "output_type": "stream",
     "text": [
      "Analyzing section 285..\n"
     ]
    },
    {
     "name": "stdout",
     "output_type": "stream",
     "text": [
      "767 patches in Sp5C\n",
      "225 patches in SuVe\n",
      "799 patches in SNR\n",
      "228 patches in 5N\n",
      "1627 patches in IC\n",
      "58 patches in LSO\n",
      "436 patches in 7N\n",
      "478 patches in APT\n",
      "31 patches in SNC\n",
      "386 patches in VLL\n",
      "92 patches in 7n\n",
      "1234 patches in SC\n",
      "381 patches in LRt\n",
      "1441 patches in Sp5C_surround_noclass\n",
      "909 patches in SuVe_surround_noclass\n",
      "1 patches in SuVe_surround_5N\n",
      "1450 patches in SNR_surround_noclass\n",
      "31 patches in SNR_surround_SNC\n",
      "766 patches in 5N_surround_noclass\n",
      "1 patches in 5N_surround_SuVe\n",
      "1439 patches in IC_surround_noclass\n",
      "72 patches in IC_surround_SC\n",
      "494 patches in LSO_surround_noclass\n",
      "922 patches in 7N_surround_noclass\n",
      "1018 patches in APT_surround_noclass\n",
      "3 patches in APT_surround_SC\n",
      "436 patches in SNC_surround_noclass\n",
      "211 patches in SNC_surround_SNR\n",
      "1081 patches in VLL_surround_noclass\n",
      "557 patches in 7n_surround_noclass\n",
      "1431 patches in SC_surround_noclass\n",
      "2 patches in SC_surround_APT\n",
      "83 patches in SC_surround_IC\n",
      "1103 patches in LRt_surround_noclass\n",
      "16378 patches in bg\n"
     ]
    },
    {
     "name": "stderr",
     "output_type": "stream",
     "text": [
      "Analyzing section 286..\n"
     ]
    },
    {
     "name": "stdout",
     "output_type": "stream",
     "text": [
      "795 patches in SNR\n",
      "729 patches in Sp5C\n",
      "382 patches in VLL\n",
      "28 patches in SNC\n",
      "83 patches in 7n\n",
      "1162 patches in SC\n",
      "53 patches in LSO\n",
      "357 patches in LRt\n",
      "234 patches in 5N\n",
      "432 patches in 7N\n",
      "1426 patches in SNR_surround_noclass\n",
      "28 patches in SNR_surround_SNC\n",
      "1416 patches in Sp5C_surround_noclass\n",
      "1058 patches in VLL_surround_noclass\n",
      "419 patches in SNC_surround_noclass\n",
      "195 patches in SNC_surround_SNR\n",
      "544 patches in 7n_surround_noclass\n",
      "1469 patches in SC_surround_noclass\n",
      "483 patches in LSO_surround_noclass\n",
      "1083 patches in LRt_surround_noclass\n",
      "754 patches in 5N_surround_noclass\n",
      "927 patches in 7N_surround_noclass\n",
      "16286 patches in bg\n",
      "1098 patches in SC\n",
      "38 patches in Amb\n",
      "345 patches in LRt\n"
     ]
    },
    {
     "name": "stderr",
     "output_type": "stream",
     "text": [
      "Analyzing section 287..\n"
     ]
    },
    {
     "name": "stdout",
     "output_type": "stream",
     "text": [
      "246 patches in 5N\n",
      "804 patches in SNR\n",
      "436 patches in 7N\n",
      "85 patches in 7n\n",
      "27 patches in SNC\n",
      "721 patches in Sp5C\n",
      "56 patches in LSO\n",
      "391 patches in VLL\n",
      "1426 patches in SC_surround_noclass\n",
      "484 patches in Amb_surround_noclass\n",
      "1096 patches in LRt_surround_noclass\n",
      "757 patches in 5N_surround_noclass\n",
      "1424 patches in SNR_surround_noclass\n",
      "27 patches in SNR_surround_SNC\n",
      "935 patches in 7N_surround_noclass\n",
      "552 patches in 7n_surround_noclass\n",
      "427 patches in SNC_surround_noclass\n",
      "209 patches in SNC_surround_SNR\n",
      "1388 patches in Sp5C_surround_noclass\n",
      "491 patches in LSO_surround_noclass\n",
      "1074 patches in VLL_surround_noclass\n",
      "16488 patches in bg\n",
      "438 patches in "
     ]
    },
    {
     "name": "stderr",
     "output_type": "stream",
     "text": [
      "Analyzing section 288..\n"
     ]
    },
    {
     "name": "stdout",
     "output_type": "stream",
     "text": [
      "7N\n",
      "27 patches in SNC\n",
      "1018 patches in SC\n",
      "60 patches in LSO\n",
      "341 patches in LRt\n",
      "46 patches in Amb\n",
      "261 patches in 5N\n",
      "400 patches in VLL\n",
      "690 patches in Sp5C\n",
      "85 patches in 7n\n",
      "815 patches in SNR\n",
      "934 patches in 7N_surround_noclass\n",
      "419 patches in SNC_surround_noclass\n",
      "209 patches in SNC_surround_SNR\n",
      "1395 patches in SC_surround_noclass\n",
      "494 patches in LSO_surround_noclass\n",
      "1101 patches in LRt_surround_noclass\n",
      "3 patches in LRt_surround_Amb\n",
      "484 patches in Amb_surround_noclass\n",
      "8 patches in Amb_surround_LRt\n",
      "771 patches in 5N_surround_noclass\n",
      "1069 patches in VLL_surround_noclass\n",
      "1331 patches in Sp5C_surround_noclass\n",
      "544 patches in 7n_surround_noclass\n",
      "1445 patches in SNR_surround_noclass\n",
      "27 patches in SNR_surround_SNC\n",
      "16672 patches in bg\n",
      "669 patches in Sp5C\n",
      "62 patches in LSO\n",
      "331 patches in LRt\n"
     ]
    },
    {
     "name": "stderr",
     "output_type": "stream",
     "text": [
      "Analyzing section 289..\n"
     ]
    },
    {
     "name": "stdout",
     "output_type": "stream",
     "text": [
      "445 patches in 7N\n",
      "416 patches in VLL\n",
      "87 patches in 7n\n",
      "960 patches in SC\n",
      "825 patches in SNR\n",
      "64 patches in Amb\n",
      "28 patches in SNC\n",
      "276 patches in 5N\n",
      "1297 patches in Sp5C_surround_noclass\n",
      "502 patches in LSO_surround_noclass\n",
      "1079 patches in LRt_surround_noclass\n",
      "24 patches in LRt_surround_Amb\n",
      "945 patches in 7N_surround_noclass\n",
      "1070 patches in VLL_surround_noclass\n",
      "549 patches in 7n_surround_noclass\n",
      "1353 patches in SC_surround_noclass\n",
      "1446 patches in SNR_surround_noclass\n",
      "28 patches in SNR_surround_SNC\n",
      "523 patches in Amb_surround_noclass\n",
      "37 patches in Amb_surround_LRt\n",
      "427 patches in SNC_surround_noclass\n",
      "216 patches in SNC_surround_SNR\n",
      "785 patches in 5N_surround_noclass\n",
      "17235 patches in bg\n",
      "660 patches in Sp5C\n"
     ]
    },
    {
     "name": "stderr",
     "output_type": "stream",
     "text": [
      "Analyzing section 290..\n"
     ]
    },
    {
     "name": "stdout",
     "output_type": "stream",
     "text": [
      "71 patches in LSO\n",
      "29 patches in SNC\n",
      "449 patches in 7N\n",
      "312 patches in LRt\n",
      "423 patches in VLL\n",
      "888 patches in SC\n",
      "290 patches in 5N\n",
      "86 patches in 7n\n",
      "49 patches in Amb\n",
      "837 patches in SNR\n",
      "1344 patches in Sp5C_surround_noclass\n",
      "507 patches in LSO_surround_noclass\n",
      "424 patches in SNC_surround_noclass\n",
      "211 patches in SNC_surround_SNR\n",
      "945 patches in 7N_surround_noclass\n",
      "1116 patches in LRt_surround_noclass\n",
      "15 patches in LRt_surround_Amb\n",
      "1094 patches in VLL_surround_noclass\n",
      "1317 patches in SC_surround_noclass\n",
      "804 patches in 5N_surround_noclass\n",
      "550 patches in 7n_surround_noclass\n",
      "470 patches in Amb_surround_noclass\n",
      "25 patches in Amb_surround_LRt\n",
      "1455 patches in SNR_surround_noclass\n",
      "29 patches in SNR_surround_SNC\n",
      "17154 patches in bg\n",
      "40 patches in Amb\n",
      "29 patches in SNC\n",
      "453 patches in 7N\n",
      "299 patches in LRt\n"
     ]
    },
    {
     "name": "stderr",
     "output_type": "stream",
     "text": [
      "Analyzing section 291..\n"
     ]
    },
    {
     "name": "stdout",
     "output_type": "stream",
     "text": [
      "649 patches in Sp5C\n",
      "70 patches in LSO\n",
      "841 patches in SNR\n",
      "839 patches in SC\n",
      "302 patches in 5N\n",
      "90 patches in 7n\n",
      "428 patches in VLL\n",
      "442 patches in Amb_surround_noclass\n",
      "17 patches in Amb_surround_LRt\n",
      "427 patches in SNC_surround_noclass\n",
      "217 patches in SNC_surround_SNR\n",
      "948 patches in 7N_surround_noclass\n",
      "1138 patches in LRt_surround_noclass\n",
      "13 patches in LRt_surround_Amb\n",
      "1319 patches in Sp5C_surround_noclass\n",
      "515 patches in LSO_surround_noclass\n",
      "1472 patches in SNR_surround_noclass\n",
      "29 patches in SNR_surround_SNC\n",
      "1290 patches in SC_surround_noclass\n",
      "813 patches in 5N_surround_noclass\n",
      "550 patches in 7n_surround_noclass\n",
      "1094 patches in VLL_surround_noclass\n",
      "17256 patches in bg\n",
      "624 patches in Sp5C\n",
      "74 patches in LSO\n",
      "91 patches in 7n\n"
     ]
    },
    {
     "name": "stderr",
     "output_type": "stream",
     "text": [
      "Analyzing section 292..\n"
     ]
    },
    {
     "name": "stdout",
     "output_type": "stream",
     "text": [
      "441 patches in VLL\n",
      "278 patches in LRt\n",
      "845 patches in SNR\n",
      "450 patches in 7N\n",
      "34 patches in SNC\n",
      "772 patches in SC\n",
      "38 patches in Amb\n",
      "316 patches in 5N\n",
      "1252 patches in Sp5C_surround_noclass\n",
      "518 patches in LSO_surround_noclass\n",
      "546 patches in 7n_surround_noclass\n",
      "1111 patches in VLL_surround_noclass\n",
      "1163 patches in LRt_surround_noclass\n",
      "14 patches in LRt_surround_Amb\n",
      "1479 patches in SNR_surround_noclass\n",
      "34 patches in SNR_surround_SNC\n",
      "952 patches in 7N_surround_noclass\n",
      "421 patches in SNC_surround_noclass\n",
      "224 patches in SNC_surround_SNR\n",
      "1246 patches in SC_surround_noclass\n",
      "436 patches in Amb_surround_noclass\n",
      "17 patches in Amb_surround_LRt\n",
      "834 patches in 5N_surround_noclass\n",
      "17956 patches in bg\n",
      "463 patches in 7N\n",
      "598 patches in Sp5C\n"
     ]
    },
    {
     "name": "stderr",
     "output_type": "stream",
     "text": [
      "Analyzing section 293..\n"
     ]
    },
    {
     "name": "stdout",
     "output_type": "stream",
     "text": [
      "722 patches in SC\n",
      "871 patches in SNR\n",
      "462 patches in VLL\n",
      "37 patches in SNC\n",
      "272 patches in LRt\n",
      "85 patches in LSO\n",
      "95 patches in 7n\n",
      "336 patches in 5N\n",
      "942 patches in 7N_surround_noclass\n",
      "2 patches in 7N_surround_LSO\n",
      "1287 patches in Sp5C_surround_noclass\n",
      "1207 patches in SC_surround_noclass\n",
      "1517 patches in SNR_surround_noclass\n",
      "37 patches in SNR_surround_SNC\n",
      "1142 patches in VLL_surround_noclass\n",
      "432 patches in SNC_surround_noclass\n",
      "248 patches in SNC_surround_SNR\n",
      "1222 patches in LRt_surround_noclass\n",
      "528 patches in LSO_surround_noclass\n",
      "2 patches in LSO_surround_7N\n",
      "6 patches in LSO_surround_7n\n",
      "555 patches in 7n_surround_noclass\n",
      "7 patches in 7n_surround_LSO\n",
      "875 patches in 5N_surround_noclass\n",
      "18306 patches in bg\n",
      "308 patches in 5N\n",
      "27 patches in SNC\n",
      "80 patches in 7n\n"
     ]
    },
    {
     "name": "stderr",
     "output_type": "stream",
     "text": [
      "Analyzing section 294..\n"
     ]
    },
    {
     "name": "stdout",
     "output_type": "stream",
     "text": [
      "870 patches in SNR\n",
      "417 patches in 7N\n",
      "399 patches in VLL\n",
      "257 patches in LRt\n",
      "584 patches in Sp5C\n",
      "673 patches in SC\n",
      "62 patches in LSO\n",
      "834 patches in 5N_surround_noclass\n",
      "417 patches in SNC_surround_noclass\n",
      "233 patches in SNC_surround_SNR\n",
      "533 patches in 7n_surround_noclass\n",
      "9 patches in 7n_surround_LSO\n",
      "1475 patches in SNR_surround_noclass\n",
      "27 patches in SNR_surround_SNC\n",
      "863 patches in 7N_surround_noclass\n",
      "960 patches in VLL_surround_noclass\n",
      "1197 patches in LRt_surround_noclass\n",
      "1438 patches in Sp5C_surround_noclass\n",
      "1168 patches in SC_surround_noclass\n",
      "485 patches in LSO_surround_noclass\n",
      "10 patches in LSO_surround_7n\n",
      "19188 patches in bg\n"
     ]
    },
    {
     "name": "stderr",
     "output_type": "stream",
     "text": [
      "Analyzing section 295..\n"
     ]
    },
    {
     "name": "stdout",
     "output_type": "stream",
     "text": [
      "338 patches in VLL\n",
      "892 patches in SNR\n",
      "566 patches in Sp5C\n",
      "45 patches in LSO\n",
      "226 patches in LRt\n",
      "377 patches in 7N\n",
      "24 patches in SNC\n",
      "290 patches in 5N\n",
      "609 patches in SC\n",
      "75 patches in 7n\n",
      "958 patches in VLL_surround_noclass\n",
      "1483 patches in SNR_surround_noclass\n",
      "24 patches in SNR_surround_SNC\n",
      "1309 patches in Sp5C_surround_noclass\n",
      "446 patches in LSO_surround_noclass\n",
      "15 patches in LSO_surround_7n\n",
      "1086 patches in LRt_surround_noclass\n",
      "868 patches in 7N_surround_noclass\n",
      "394 patches in SNC_surround_noclass\n",
      "222 patches in SNC_surround_SNR\n",
      "813 patches in 5N_surround_noclass\n",
      "1131 patches in SC_surround_noclass\n",
      "512 patches in 7n_surround_noclass\n",
      "14 patches in 7n_surround_LSO\n",
      "18815 patches in bg\n",
      "23 patches in SNC\n",
      "277 patches in 5N\n",
      "561 patches in SC\n",
      "70 patches in 7n\n"
     ]
    },
    {
     "name": "stderr",
     "output_type": "stream",
     "text": [
      "Analyzing section 296..\n"
     ]
    },
    {
     "name": "stdout",
     "output_type": "stream",
     "text": [
      "334 patches in 7N\n",
      "913 patches in SNR\n",
      "213 patches in LRt\n",
      "35 patches in LSO\n",
      "290 patches in VLL\n",
      "563 patches in Sp5C\n",
      "378 patches in SNC_surround_noclass\n",
      "224 patches in SNC_surround_SNR\n",
      "795 patches in 5N_surround_noclass\n",
      "1101 patches in SC_surround_noclass\n",
      "503 patches in 7n_surround_noclass\n",
      "15 patches in 7n_surround_LSO\n",
      "844 patches in 7N_surround_noclass\n",
      "1493 patches in SNR_surround_noclass\n",
      "23 patches in SNR_surround_SNC\n",
      "1026 patches in LRt_surround_noclass\n",
      "410 patches in LSO_surround_noclass\n",
      "18 patches in LSO_surround_7n\n",
      "890 patches in VLL_surround_noclass\n",
      "1289 patches in Sp5C_surround_noclass\n",
      "19012 patches in bg\n",
      "926 patches in SNR\n",
      "544 patches in Sp5C\n"
     ]
    },
    {
     "name": "stderr",
     "output_type": "stream",
     "text": [
      "Analyzing section 297..\n"
     ]
    },
    {
     "name": "stdout",
     "output_type": "stream",
     "text": [
      "512 patches in SC\n",
      "197 patches in LRt\n",
      "261 patches in 5N\n",
      "19 patches in SNC\n",
      "1404 patches in SNR_surround_noclass\n",
      "19 patches in SNR_surround_SNC\n",
      "1244 patches in Sp5C_surround_noclass\n",
      "1064 patches in SC_surround_noclass\n",
      "791 patches in LRt_surround_noclass\n",
      "775 patches in 5N_surround_noclass\n",
      "364 patches in SNC_surround_noclass\n",
      "223 patches in SNC_surround_SNR\n",
      "22328 patches in bg\n"
     ]
    },
    {
     "name": "stderr",
     "output_type": "stream",
     "text": [
      "Analyzing section 298..\n"
     ]
    },
    {
     "name": "stdout",
     "output_type": "stream",
     "text": [
      "261 patches in 5N\n",
      "526 patches in Sp5C\n",
      "942 patches in SNR\n",
      "14 patches in SNC\n",
      "192 patches in VLL\n",
      "21 patches in LSO\n",
      "65 patches in 7n\n",
      "260 patches in 7N\n",
      "181 patches in LRt\n",
      "467 patches in SC\n",
      "762 patches in 5N_surround_noclass\n",
      "1244 patches in Sp5C_surround_noclass\n",
      "1501 patches in SNR_surround_noclass\n",
      "14 patches in SNR_surround_SNC\n",
      "358 patches in SNC_surround_noclass\n",
      "215 patches in SNC_surround_SNR\n",
      "744 patches in VLL_surround_noclass\n",
      "335 patches in LSO_surround_noclass\n",
      "34 patches in LSO_surround_7n\n",
      "489 patches in 7n_surround_noclass\n",
      "19 patches in 7n_surround_LSO\n",
      "775 patches in 7N_surround_noclass\n",
      "911 patches in LRt_surround_noclass\n",
      "1039 patches in SC_surround_noclass\n",
      "19864 patches in bg\n"
     ]
    },
    {
     "name": "stderr",
     "output_type": "stream",
     "text": [
      "Analyzing section 299..\n"
     ]
    },
    {
     "name": "stdout",
     "output_type": "stream",
     "text": [
      "154 patches in VLL\n",
      "164 patches in LRt\n",
      "514 patches in Sp5C\n",
      "963 patches in SNR\n",
      "229 patches in 5N\n",
      "416 patches in SC\n",
      "55 patches in 7n\n",
      "12 patches in SNC\n",
      "217 patches in 7N\n",
      "629 patches in VLL_surround_noclass\n",
      "845 patches in LRt_surround_noclass\n",
      "1233 patches in Sp5C_surround_noclass\n",
      "1507 patches in SNR_surround_noclass\n",
      "12 patches in SNR_surround_SNC\n",
      "736 patches in 5N_surround_noclass\n",
      "991 patches in SC_surround_noclass\n",
      "499 patches in 7n_surround_noclass\n",
      "348 patches in SNC_surround_noclass\n",
      "219 patches in SNC_surround_SNR\n",
      "753 patches in 7N_surround_noclass\n",
      "20404 patches in bg\n",
      "218 patches in 5N\n",
      "994 patches in SNR\n",
      "387 patches in SC\n",
      "22 patches in RR\n"
     ]
    },
    {
     "name": "stderr",
     "output_type": "stream",
     "text": [
      "Analyzing section 300..\n"
     ]
    },
    {
     "name": "stdout",
     "output_type": "stream",
     "text": [
      "122 patches in VLL\n",
      "513 patches in Sp5C\n",
      "64 patches in LPB\n",
      "16 patches in SNC\n",
      "199 patches in 7N\n",
      "86 patches in VLL\n",
      "22 patches in X\n",
      "58 patches in 7n\n",
      "153 patches in LRt\n",
      "737 patches in 5N_surround_noclass\n",
      "1526 patches in SNR_surround_noclass\n",
      "20 patches in SNR_surround_RR\n",
      "16 patches in SNR_surround_SNC\n",
      "1000 patches in SC_surround_noclass\n",
      "396 patches in RR_surround_noclass\n",
      "47 patches in RR_surround_SNR\n",
      "654 patches in VLL_surround_noclass\n",
      "1328 patches in Sp5C_surround_noclass\n",
      "494 patches in LPB_surround_noclass\n",
      "348 patches in SNC_surround_noclass\n",
      "230 patches in SNC_surround_SNR\n",
      "726 patches in 7N_surround_noclass\n",
      "566 patches in VLL_surround_noclass\n",
      "442 patches in X_surround_noclass\n",
      "538 patches in 7n_surround_noclass\n",
      "844 patches in LRt_surround_noclass\n",
      "20429 patches in bg\n",
      "127 patches in 7N\n"
     ]
    },
    {
     "name": "stderr",
     "output_type": "stream",
     "text": [
      "Analyzing section 301..\n"
     ]
    },
    {
     "name": "stdout",
     "output_type": "stream",
     "text": [
      "304 patches in SC\n",
      "21 patches in X\n",
      "522 patches in Sp5C\n",
      "114 patches in LRt\n",
      "46 patches in 7n\n",
      "111 patches in 5N\n",
      "7 patches in SNC\n",
      "935 patches in SNR\n",
      "120 patches in VLL\n",
      "46 patches in LPB\n",
      "648 patches in 7N_surround_noclass\n",
      "895 patches in SC_surround_noclass\n",
      "456 patches in X_surround_noclass\n",
      "1249 patches in Sp5C_surround_noclass\n",
      "715 patches in LRt_surround_noclass\n",
      "489 patches in 7n_surround_noclass\n",
      "581 patches in 5N_surround_noclass\n",
      "322 patches in SNC_surround_noclass\n",
      "199 patches in SNC_surround_SNR\n",
      "1480 patches in SNR_surround_noclass\n",
      "7 patches in SNR_surround_SNC\n",
      "602 patches in VLL_surround_noclass\n",
      "457 patches in LPB_surround_noclass\n",
      "19897 patches in bg\n",
      "22 patches in X\n",
      "87 patches in LRt\n",
      "64 patches in 5N\n"
     ]
    },
    {
     "name": "stderr",
     "output_type": "stream",
     "text": [
      "Analyzing section 302..\n"
     ]
    },
    {
     "name": "stdout",
     "output_type": "stream",
     "text": [
      "5 patches in SNC\n",
      "43 patches in 7n\n",
      "38 patches in LPB\n",
      "253 patches in SC\n",
      "124 patches in VLL\n",
      "900 patches in SNR\n",
      "88 patches in 7N\n",
      "533 patches in Sp5C\n",
      "82 patches in 8n\n",
      "476 patches in X_surround_noclass\n",
      "646 patches in LRt_surround_noclass\n",
      "520 patches in 5N_surround_noclass\n",
      "309 patches in SNC_surround_noclass\n",
      "176 patches in SNC_surround_SNR\n",
      "479 patches in 7n_surround_noclass\n",
      "443 patches in LPB_surround_noclass\n",
      "848 patches in SC_surround_noclass\n",
      "608 patches in VLL_surround_noclass\n",
      "1448 patches in SNR_surround_noclass\n",
      "5 patches in SNR_surround_SNC\n",
      "567 patches in 7N_surround_noclass\n",
      "1170 patches in Sp5C_surround_noclass\n",
      "533 patches in 8n_surround_noclass\n",
      "20180 patches in bg\n",
      "30 patches in X\n",
      "547 patches in Sp5C\n",
      "64 patches in LRt\n"
     ]
    },
    {
     "name": "stderr",
     "output_type": "stream",
     "text": [
      "Analyzing section 303..\n"
     ]
    },
    {
     "name": "stdout",
     "output_type": "stream",
     "text": [
      "58 patches in 7N\n",
      "80 patches in 8n\n",
      "30 patches in LPB\n",
      "205 patches in SC\n",
      "855 patches in SNR\n",
      "39 patches in 7n\n",
      "4 patches in SNC\n",
      "123 patches in VLL\n",
      "478 patches in X_surround_noclass\n",
      "1166 patches in Sp5C_surround_noclass\n",
      "572 patches in LRt_surround_noclass\n",
      "498 patches in 7N_surround_noclass\n",
      "525 patches in 8n_surround_noclass\n",
      "421 patches in LPB_surround_noclass\n",
      "802 patches in SC_surround_noclass\n",
      "1426 patches in SNR_surround_noclass\n",
      "4 patches in SNR_surround_SNC\n",
      "481 patches in 7n_surround_noclass\n",
      "286 patches in SNC_surround_noclass\n",
      "158 patches in SNC_surround_SNR\n",
      "609 patches in VLL_surround_noclass\n",
      "20248 patches in bg\n",
      "127 patches in VLL\n"
     ]
    },
    {
     "name": "stderr",
     "output_type": "stream",
     "text": [
      "Analyzing section 304..\n"
     ]
    },
    {
     "name": "stdout",
     "output_type": "stream",
     "text": [
      "33 patches in 7n\n",
      "555 patches in Sp5C\n",
      "33 patches in X\n",
      "818 patches in SNR\n",
      "23 patches in LPB\n",
      "153 patches in SC\n",
      "43 patches in LRt\n",
      "84 patches in 8n\n",
      "31 patches in 7N\n",
      "5 patches in SNC\n",
      "612 patches in VLL_surround_noclass\n",
      "485 patches in 7n_surround_noclass\n",
      "1180 patches in Sp5C_surround_noclass\n",
      "502 patches in X_surround_noclass\n",
      "1375 patches in SNR_surround_noclass\n",
      "5 patches in SNR_surround_SNC\n",
      "395 patches in LPB_surround_noclass\n",
      "721 patches in SC_surround_noclass\n",
      "496 patches in LRt_surround_noclass\n",
      "532 patches in 8n_surround_noclass\n",
      "414 patches in 7N_surround_noclass\n",
      "285 patches in SNC_surround_noclass\n",
      "162 patches in SNC_surround_SNR\n",
      "20504 patches in bg\n",
      "15 patches in 7N\n",
      "131 patches in VLL\n",
      "18 patches in LPB\n",
      "0 patches in SNC\n",
      "43 patches in 7n\n",
      "113 patches in SC\n",
      "27 patches in LRt\n",
      "37 patches in X\n"
     ]
    },
    {
     "name": "stderr",
     "output_type": "stream",
     "text": [
      "Analyzing section 305..\n"
     ]
    },
    {
     "name": "stdout",
     "output_type": "stream",
     "text": [
      "27 patches in LRt\n",
      "569 patches in Sp5C\n",
      "87 patches in 8n\n",
      "780 patches in SNR\n",
      "359 patches in 7N_surround_noclass\n",
      "609 patches in VLL_surround_noclass\n",
      "372 patches in LPB_surround_noclass\n",
      "255 patches in SNC_surround_noclass\n",
      "122 patches in SNC_surround_SNR\n",
      "501 patches in 7n_surround_noclass\n",
      "686 patches in SC_surround_noclass\n",
      "428 patches in LRt_surround_noclass\n",
      "524 patches in X_surround_noclass\n",
      "440 patches in LRt_surround_noclass\n",
      "1122 patches in Sp5C_surround_noclass\n",
      "539 patches in 8n_surround_noclass\n",
      "1361 patches in SNR_surround_noclass\n",
      "20977 patches in bg\n",
      "737 patches in SNR\n",
      "77 patches in SC\n",
      "43 patches in X\n",
      "11 patches in LPB\n",
      "129 patches in VLL\n"
     ]
    },
    {
     "name": "stderr",
     "output_type": "stream",
     "text": [
      "Analyzing section 306..\n"
     ]
    },
    {
     "name": "stdout",
     "output_type": "stream",
     "text": [
      "586 patches in Sp5C\n",
      "88 patches in 8n\n",
      "0 patches in SNC\n",
      "29 patches in 7n\n",
      "1329 patches in SNR_surround_noclass\n",
      "657 patches in SC_surround_noclass\n",
      "526 patches in X_surround_noclass\n",
      "353 patches in LPB_surround_noclass\n",
      "614 patches in VLL_surround_noclass\n",
      "1105 patches in Sp5C_surround_noclass\n",
      "544 patches in 8n_surround_noclass\n",
      "268 patches in SNC_surround_noclass\n",
      "115 patches in SNC_surround_SNR\n",
      "448 patches in 7n_surround_noclass\n",
      "21651 patches in bg\n",
      "89 patches in 8n\n",
      "26 patches in 7n\n"
     ]
    },
    {
     "name": "stderr",
     "output_type": "stream",
     "text": [
      "Analyzing section 307..\n"
     ]
    },
    {
     "name": "stdout",
     "output_type": "stream",
     "text": [
      "46 patches in SC\n",
      "47 patches in X\n",
      "6 patches in PBG\n",
      "11 patches in LPB\n",
      "703 patches in SNR\n",
      "128 patches in VLL\n",
      "592 patches in Sp5C\n",
      "550 patches in 8n_surround_noclass\n",
      "436 patches in 7n_surround_noclass\n",
      "525 patches in SC_surround_noclass\n",
      "572 patches in X_surround_noclass\n",
      "332 patches in PBG_surround_noclass\n",
      "38 patches in PBG_surround_SNR\n",
      "346 patches in LPB_surround_noclass\n",
      "1295 patches in SNR_surround_noclass\n",
      "6 patches in SNR_surround_PBG\n",
      "624 patches in VLL_surround_noclass\n",
      "1103 patches in Sp5C_surround_noclass\n",
      "21045 patches in bg\n",
      "22 patches in 7n\n",
      "12 patches in PBG\n",
      "139 patches in VLL\n",
      "18 patches in SC\n",
      "52 patches in X\n",
      "91 patches in 8n\n",
      "631 patches in Sp5C\n"
     ]
    },
    {
     "name": "stderr",
     "output_type": "stream",
     "text": [
      "Analyzing section 308..\n"
     ]
    },
    {
     "name": "stdout",
     "output_type": "stream",
     "text": [
      "673 patches in SNR\n",
      "25 patches in VLL\n",
      "420 patches in 7n_surround_noclass\n",
      "345 patches in PBG_surround_noclass\n",
      "32 patches in PBG_surround_SNR\n",
      "794 patches in VLL_surround_noclass\n",
      "413 patches in SC_surround_noclass\n",
      "612 patches in X_surround_noclass\n",
      "556 patches in 8n_surround_noclass\n",
      "1108 patches in Sp5C_surround_noclass\n",
      "1277 patches in SNR_surround_noclass\n",
      "9 patches in SNR_surround_PBG\n",
      "422 patches in VLL_surround_noclass\n",
      "21440 patches in bg\n",
      "23 patches in 7n\n",
      "96 patches in 8n\n",
      "120 patches in VLL\n",
      "584 patches in SNR\n"
     ]
    },
    {
     "name": "stderr",
     "output_type": "stream",
     "text": [
      "Analyzing section 309..\n"
     ]
    },
    {
     "name": "stdout",
     "output_type": "stream",
     "text": [
      "618 patches in Sp5C\n",
      "19 patches in PBG\n",
      "6 patches in SC\n",
      "47 patches in X\n",
      "435 patches in 7n_surround_noclass\n",
      "558 patches in 8n_surround_noclass\n",
      "619 patches in VLL_surround_noclass\n",
      "1198 patches in SNR_surround_noclass\n",
      "8 patches in SNR_surround_PBG\n",
      "1086 patches in Sp5C_surround_noclass\n",
      "397 patches in PBG_surround_noclass\n",
      "22 patches in PBG_surround_SNR\n",
      "355 patches in SC_surround_noclass\n",
      "585 patches in X_surround_noclass\n",
      "1 patches in X_surround_8n\n",
      "21507 patches in bg\n",
      "100 patches in 8n\n",
      "28 patches in PBG\n"
     ]
    },
    {
     "name": "stderr",
     "output_type": "stream",
     "text": [
      "Analyzing section 310..\n"
     ]
    },
    {
     "name": "stdout",
     "output_type": "stream",
     "text": [
      "508 patches in SNR\n",
      "40 patches in X\n",
      "625 patches in Sp5C\n",
      "114 patches in VLL\n",
      "568 patches in 8n_surround_noclass\n",
      "1 patches in 8n_surround_X\n",
      "428 patches in PBG_surround_noclass\n",
      "14 patches in PBG_surround_SNR\n",
      "1147 patches in SNR_surround_noclass\n",
      "11 patches in SNR_surround_PBG\n",
      "580 patches in X_surround_noclass\n",
      "4 patches in X_surround_8n\n",
      "1083 patches in Sp5C_surround_noclass\n",
      "606 patches in VLL_surround_noclass\n",
      "21571 patches in bg\n",
      "426 patches in SNR\n",
      "636 patches in Sp5C\n"
     ]
    },
    {
     "name": "stderr",
     "output_type": "stream",
     "text": [
      "Analyzing section 311..\n"
     ]
    },
    {
     "name": "stdout",
     "output_type": "stream",
     "text": [
      "35 patches in X\n",
      "106 patches in VLL\n",
      "41 patches in PBG\n",
      "101 patches in 8n\n",
      "1080 patches in SNR_surround_noclass\n",
      "3 patches in SNR_surround_PBG\n",
      "980 patches in Sp5C_surround_noclass\n",
      "588 patches in X_surround_noclass\n",
      "10 patches in X_surround_8n\n",
      "590 patches in VLL_surround_noclass\n",
      "476 patches in PBG_surround_noclass\n",
      "6 patches in PBG_surround_SNR\n",
      "578 patches in 8n_surround_noclass\n",
      "21977 patches in bg\n"
     ]
    },
    {
     "name": "stderr",
     "output_type": "stream",
     "text": [
      "Analyzing section 312..\n"
     ]
    },
    {
     "name": "stdout",
     "output_type": "stream",
     "text": [
      "369 patches in SNR\n",
      "59 patches in PBG\n",
      "643 patches in Sp5C\n",
      "104 patches in 8n\n",
      "97 patches in VLL\n",
      "29 patches in X\n",
      "1012 patches in SNR_surround_noclass\n",
      "5 patches in SNR_surround_PBG\n",
      "514 patches in PBG_surround_noclass\n",
      "3 patches in PBG_surround_SNR\n",
      "1017 patches in Sp5C_surround_noclass\n",
      "581 patches in 8n_surround_noclass\n",
      "1 patches in 8n_surround_X\n",
      "580 patches in VLL_surround_noclass\n",
      "577 patches in X_surround_noclass\n",
      "9 patches in X_surround_8n\n",
      "21961 patches in bg\n",
      "645 patches in Sp5C\n",
      "89 patches in VLL\n",
      "27 patches in X\n"
     ]
    },
    {
     "name": "stderr",
     "output_type": "stream",
     "text": [
      "Analyzing section 313..\n"
     ]
    },
    {
     "name": "stdout",
     "output_type": "stream",
     "text": [
      "108 patches in 8n\n",
      "87 patches in PBG\n",
      "292 patches in SNR\n",
      "1038 patches in Sp5C_surround_noclass\n",
      "563 patches in VLL_surround_noclass\n",
      "553 patches in X_surround_noclass\n",
      "14 patches in X_surround_8n\n",
      "589 patches in 8n_surround_noclass\n",
      "2 patches in 8n_surround_X\n",
      "583 patches in PBG_surround_noclass\n",
      "941 patches in SNR_surround_noclass\n",
      "1 patches in SNR_surround_PBG\n",
      "22099 patches in bg\n",
      "21 patches in X\n",
      "82 patches in VLL\n",
      "105 patches in PBG\n",
      "241 patches in SNR\n"
     ]
    },
    {
     "name": "stderr",
     "output_type": "stream",
     "text": [
      "Analyzing section 314..\n"
     ]
    },
    {
     "name": "stdout",
     "output_type": "stream",
     "text": [
      "651 patches in Sp5C\n",
      "112 patches in 8n\n",
      "543 patches in X_surround_noclass\n",
      "20 patches in X_surround_8n\n",
      "560 patches in VLL_surround_noclass\n",
      "636 patches in PBG_surround_noclass\n",
      "888 patches in SNR_surround_noclass\n",
      "1046 patches in Sp5C_surround_noclass\n",
      "588 patches in 8n_surround_noclass\n",
      "2 patches in 8n_surround_X\n",
      "22244 patches in bg\n"
     ]
    },
    {
     "name": "stderr",
     "output_type": "stream",
     "text": [
      "Analyzing section 315..\n"
     ]
    },
    {
     "name": "stdout",
     "output_type": "stream",
     "text": [
      "204 patches in SNR\n",
      "435 patches in Pr5DM\n",
      "18 patches in X\n",
      "880 patches in Sp5I\n",
      "80 patches in VLL\n",
      "1462 patches in Sp5O\n",
      "45 patches in DC\n",
      "841 patches in Pr5VL\n",
      "145 patches in PBG\n",
      "658 patches in Sp5C\n",
      "127 patches in 8n\n",
      "866 patches in SNR_surround_noclass\n",
      "624 patches in Pr5DM_surround_noclass\n",
      "8 patches in Pr5DM_surround_Sp5O\n",
      "20 patches in Pr5DM_surround_8n\n",
      "260 patches in Pr5DM_surround_Pr5VL\n",
      "565 patches in X_surround_noclass\n",
      "32 patches in X_surround_8n\n",
      "1 patches in X_surround_DC\n",
      "747 patches in Sp5I_surround_noclass\n",
      "249 patches in Sp5I_surround_Sp5O\n",
      "289 patches in Sp5I_surround_Sp5C\n",
      "576 patches in VLL_surround_noclass\n",
      "1380 patches in Sp5O_surround_noclass\n",
      "150 patches in Sp5O_surround_Pr5VL\n",
      "280 patches in Sp5O_surround_Sp5I\n",
      "22 patches in Sp5O_surround_Pr5DM\n",
      "571 patches in DC_surround_noclass\n",
      "1 patches in DC_surround_X\n",
      "1060 patches in Pr5VL_surround_noclass\n",
      "147 patches in Pr5VL_surround_Sp5O\n",
      "218 patches in Pr5VL_surround_Pr5DM\n",
      "764 patches in PBG_surround_noclass\n",
      "709 patches in Sp5C_surround_noclass\n",
      "312 patches in Sp5C_surround_Sp5I\n",
      "579 patches in 8n_surround_noclass\n",
      "4 patches in 8n_surround_X\n",
      "30 patches in 8n_surround_Pr5DM\n",
      "22282 patches in bg\n",
      "42 patches in DC\n",
      "1305 patches in Sp5O\n",
      "382 patches in Pr5DM\n",
      "20 patches in X\n"
     ]
    },
    {
     "name": "stderr",
     "output_type": "stream",
     "text": [
      "Analyzing section 316..\n"
     ]
    },
    {
     "name": "stdout",
     "output_type": "stream",
     "text": [
      "113 patches in 8n\n",
      "128 patches in PBG\n",
      "744 patches in Pr5VL\n",
      "579 patches in Sp5C\n",
      "843 patches in Sp5I\n",
      "538 patches in DC_surround_noclass\n",
      "1378 patches in Sp5O_surround_noclass\n",
      "266 patches in Sp5O_surround_Sp5I\n",
      "626 patches in Pr5DM_surround_noclass\n",
      "240 patches in Pr5DM_surround_Pr5VL\n",
      "16 patches in Pr5DM_surround_8n\n",
      "511 patches in X_surround_noclass\n",
      "19 patches in X_surround_8n\n",
      "566 patches in 8n_surround_noclass\n",
      "3 patches in 8n_surround_X\n",
      "25 patches in 8n_surround_Pr5DM\n",
      "732 patches in PBG_surround_noclass\n",
      "1117 patches in Pr5VL_surround_noclass\n",
      "1 patches in Pr5VL_surround_Sp5O\n",
      "183 patches in Pr5VL_surround_Pr5DM\n",
      "677 patches in Sp5C_surround_noclass\n",
      "293 patches in Sp5C_surround_Sp5I\n",
      "764 patches in Sp5I_surround_noclass\n",
      "229 patches in Sp5I_surround_Sp5O\n",
      "272 patches in Sp5I_surround_Sp5C\n",
      "22142 patches in bg\n",
      "1166 patches in Sp5O\n",
      "19 patches in X\n",
      "119 patches in PBG\n"
     ]
    },
    {
     "name": "stderr",
     "output_type": "stream",
     "text": [
      "Analyzing section 317..\n"
     ]
    },
    {
     "name": "stdout",
     "output_type": "stream",
     "text": [
      "674 patches in Pr5VL\n",
      "352 patches in Pr5DM\n",
      "510 patches in Sp5C\n",
      "828 patches in Sp5I\n",
      "48 patches in DC\n",
      "108 patches in 8n\n",
      "1254 patches in Sp5O_surround_noclass\n",
      "260 patches in Sp5O_surround_Sp5I\n",
      "511 patches in X_surround_noclass\n",
      "11 patches in X_surround_8n\n",
      "724 patches in PBG_surround_noclass\n",
      "1044 patches in Pr5VL_surround_noclass\n",
      "171 patches in Pr5VL_surround_Pr5DM\n",
      "604 patches in Pr5DM_surround_noclass\n",
      "229 patches in Pr5DM_surround_Pr5VL\n",
      "17 patches in Pr5DM_surround_8n\n",
      "665 patches in Sp5C_surround_noclass\n",
      "289 patches in Sp5C_surround_Sp5I\n",
      "764 patches in Sp5I_surround_noclass\n",
      "222 patches in Sp5I_surround_Sp5O\n",
      "266 patches in Sp5I_surround_Sp5C\n",
      "542 patches in DC_surround_noclass\n",
      "555 patches in 8n_surround_noclass\n",
      "2 patches in 8n_surround_X\n",
      "25 patches in 8n_surround_Pr5DM\n",
      "23191 patches in bg\n",
      "1008 patches in Sp5O\n",
      "317 patches in Pr5DM\n",
      "117 patches in PBG\n",
      "54 patches in DC\n"
     ]
    },
    {
     "name": "stderr",
     "output_type": "stream",
     "text": [
      "Analyzing section 318..\n"
     ]
    },
    {
     "name": "stdout",
     "output_type": "stream",
     "text": [
      "22 patches in X\n",
      "592 patches in Pr5VL\n",
      "431 patches in Sp5C\n",
      "803 patches in Sp5I\n",
      "103 patches in 8n\n",
      "1113 patches in Sp5O_surround_noclass\n",
      "260 patches in Sp5O_surround_Sp5I\n",
      "587 patches in Pr5DM_surround_noclass\n",
      "210 patches in Pr5DM_surround_Pr5VL\n",
      "18 patches in Pr5DM_surround_8n\n",
      "769 patches in PBG_surround_noclass\n",
      "543 patches in DC_surround_noclass\n",
      "547 patches in X_surround_noclass\n",
      "11 patches in X_surround_8n\n",
      "977 patches in Pr5VL_surround_noclass\n",
      "150 patches in Pr5VL_surround_Pr5DM\n",
      "631 patches in Sp5C_surround_noclass\n",
      "275 patches in Sp5C_surround_Sp5I\n",
      "790 patches in Sp5I_surround_noclass\n",
      "213 patches in Sp5I_surround_Sp5O\n",
      "248 patches in Sp5I_surround_Sp5C\n",
      "548 patches in 8n_surround_noclass\n",
      "2 patches in 8n_surround_X\n",
      "29 patches in 8n_surround_Pr5DM\n",
      "22877 patches in bg\n",
      "373 patches in Sp5C\n",
      "788 patches in Sp5I\n"
     ]
    },
    {
     "name": "stderr",
     "output_type": "stream",
     "text": [
      "Analyzing section 319..\n"
     ]
    },
    {
     "name": "stdout",
     "output_type": "stream",
     "text": [
      "97 patches in 8n\n",
      "58 patches in DC\n",
      "871 patches in Sp5O\n",
      "291 patches in Pr5DM\n",
      "516 patches in Pr5VL\n",
      "577 patches in Sp5C_surround_noclass\n",
      "269 patches in Sp5C_surround_Sp5I\n",
      "808 patches in Sp5I_surround_noclass\n",
      "202 patches in Sp5I_surround_Sp5O\n",
      "237 patches in Sp5I_surround_Sp5C\n",
      "549 patches in 8n_surround_noclass\n",
      "30 patches in 8n_surround_Pr5DM\n",
      "556 patches in DC_surround_noclass\n",
      "1016 patches in Sp5O_surround_noclass\n",
      "249 patches in Sp5O_surround_Sp5I\n",
      "576 patches in Pr5DM_surround_noclass\n",
      "18 patches in Pr5DM_surround_8n\n",
      "194 patches in Pr5DM_surround_Pr5VL\n",
      "923 patches in Pr5VL_surround_noclass\n",
      "141 patches in Pr5VL_surround_Pr5DM\n",
      "22796 patches in bg\n"
     ]
    },
    {
     "name": "stderr",
     "output_type": "stream",
     "text": [
      "Analyzing section 320..\n"
     ]
    },
    {
     "name": "stdout",
     "output_type": "stream",
     "text": [
      "304 patches in Sp5C\n",
      "59 patches in DC\n",
      "251 patches in Pr5DM\n",
      "443 patches in Pr5VL\n",
      "722 patches in Sp5O\n",
      "93 patches in 8n\n",
      "762 patches in Sp5I\n",
      "537 patches in Sp5C_surround_noclass\n",
      "256 patches in Sp5C_surround_Sp5I\n",
      "560 patches in DC_surround_noclass\n",
      "567 patches in Pr5DM_surround_noclass\n",
      "19 patches in Pr5DM_surround_8n\n",
      "176 patches in Pr5DM_surround_Pr5VL\n",
      "864 patches in Pr5VL_surround_noclass\n",
      "119 patches in Pr5VL_surround_Pr5DM\n",
      "899 patches in Sp5O_surround_noclass\n",
      "236 patches in Sp5O_surround_Sp5I\n",
      "541 patches in 8n_surround_noclass\n",
      "29 patches in 8n_surround_Pr5DM\n",
      "817 patches in Sp5I_surround_noclass\n",
      "196 patches in Sp5I_surround_Sp5O\n",
      "218 patches in Sp5I_surround_Sp5C\n",
      "23138 patches in bg\n",
      "233 patches in Pr5DM\n",
      "739 patches in Sp5I\n",
      "379 patches in Pr5VL\n"
     ]
    },
    {
     "name": "stderr",
     "output_type": "stream",
     "text": [
      "Analyzing section 321..\n"
     ]
    },
    {
     "name": "stdout",
     "output_type": "stream",
     "text": [
      "252 patches in Sp5C\n",
      "596 patches in Sp5O\n",
      "61 patches in DC\n",
      "86 patches in 8n\n",
      "553 patches in Pr5DM_surround_noclass\n",
      "160 patches in Pr5DM_surround_Pr5VL\n",
      "21 patches in Pr5DM_surround_8n\n",
      "834 patches in Sp5I_surround_noclass\n",
      "190 patches in Sp5I_surround_Sp5O\n",
      "200 patches in Sp5I_surround_Sp5C\n",
      "809 patches in Pr5VL_surround_noclass\n",
      "114 patches in Pr5VL_surround_Pr5DM\n",
      "535 patches in Sp5C_surround_noclass\n",
      "249 patches in Sp5C_surround_Sp5I\n",
      "821 patches in Sp5O_surround_noclass\n",
      "226 patches in Sp5O_surround_Sp5I\n",
      "561 patches in DC_surround_noclass\n",
      "535 patches in 8n_surround_noclass\n",
      "28 patches in 8n_surround_Pr5DM\n",
      "23206 patches in bg\n",
      "317 patches in Pr5VL\n",
      "204 patches in Sp5C\n"
     ]
    },
    {
     "name": "stderr",
     "output_type": "stream",
     "text": [
      "Analyzing section 322..\n"
     ]
    },
    {
     "name": "stdout",
     "output_type": "stream",
     "text": [
      "461 patches in Sp5O\n",
      "91 patches in 8n\n",
      "72 patches in DC\n",
      "209 patches in Pr5DM\n",
      "74 patches in DC\n",
      "717 patches in Sp5I\n",
      "791 patches in Pr5VL_surround_noclass\n",
      "106 patches in Pr5VL_surround_Pr5DM\n",
      "481 patches in Sp5C_surround_noclass\n",
      "247 patches in Sp5C_surround_Sp5I\n",
      "754 patches in Sp5O_surround_noclass\n",
      "232 patches in Sp5O_surround_Sp5I\n",
      "537 patches in 8n_surround_noclass\n",
      "39 patches in 8n_surround_Pr5DM\n",
      "593 patches in DC_surround_noclass\n",
      "539 patches in Pr5DM_surround_noclass\n",
      "27 patches in Pr5DM_surround_8n\n",
      "143 patches in Pr5DM_surround_Pr5VL\n",
      "603 patches in DC_surround_noclass\n",
      "847 patches in Sp5I_surround_noclass\n",
      "218 patches in Sp5I_surround_Sp5O\n",
      "175 patches in Sp5I_surround_Sp5C\n",
      "23253 patches in bg\n",
      "168 patches in Sp5C\n"
     ]
    },
    {
     "name": "stderr",
     "output_type": "stream",
     "text": [
      "Analyzing section 323..\n"
     ]
    },
    {
     "name": "stdout",
     "output_type": "stream",
     "text": [
      "680 patches in Sp5I\n",
      "90 patches in 8n\n",
      "74 patches in DC\n",
      "179 patches in Pr5DM\n",
      "238 patches in Pr5VL\n",
      "385 patches in Sp5O\n",
      "470 patches in Sp5C_surround_noclass\n",
      "233 patches in Sp5C_surround_Sp5I\n",
      "827 patches in Sp5I_surround_noclass\n",
      "193 patches in Sp5I_surround_Sp5O\n",
      "156 patches in Sp5I_surround_Sp5C\n",
      "539 patches in 8n_surround_noclass\n",
      "31 patches in 8n_surround_Pr5DM\n",
      "598 patches in DC_surround_noclass\n",
      "537 patches in Pr5DM_surround_noclass\n",
      "113 patches in Pr5DM_surround_Pr5VL\n",
      "21 patches in Pr5DM_surround_8n\n",
      "692 patches in Pr5VL_surround_noclass\n",
      "88 patches in Pr5VL_surround_Pr5DM\n",
      "708 patches in Sp5O_surround_noclass\n",
      "223 patches in Sp5O_surround_Sp5I\n",
      "23494 patches in bg\n"
     ]
    },
    {
     "name": "stderr",
     "output_type": "stream",
     "text": [
      "Analyzing section 324..\n"
     ]
    },
    {
     "name": "stdout",
     "output_type": "stream",
     "text": [
      "139 patches in Sp5C\n",
      "152 patches in Pr5DM\n",
      "83 patches in DC\n",
      "163 patches in Pr5VL\n",
      "648 patches in Sp5I\n",
      "319 patches in Sp5O\n",
      "91 patches in 8n\n",
      "478 patches in Sp5C_surround_noclass\n",
      "223 patches in Sp5C_surround_Sp5I\n",
      "540 patches in Pr5DM_surround_noclass\n",
      "85 patches in Pr5DM_surround_Pr5VL\n",
      "20 patches in Pr5DM_surround_8n\n",
      "614 patches in DC_surround_noclass\n",
      "602 patches in Pr5VL_surround_noclass\n",
      "71 patches in Pr5VL_surround_Pr5DM\n",
      "827 patches in Sp5I_surround_noclass\n",
      "188 patches in Sp5I_surround_Sp5O\n",
      "135 patches in Sp5I_surround_Sp5C\n",
      "655 patches in Sp5O_surround_noclass\n",
      "221 patches in Sp5O_surround_Sp5I\n",
      "550 patches in 8n_surround_noclass\n",
      "30 patches in 8n_surround_Pr5DM\n",
      "23514 patches in bg\n",
      "115 patches in Pr5VL\n",
      "615 patches in Sp5I\n",
      "116 patches in Sp5C\n",
      "89 patches in DC\n"
     ]
    },
    {
     "name": "stderr",
     "output_type": "stream",
     "text": [
      "Analyzing section 325..\n"
     ]
    },
    {
     "name": "stdout",
     "output_type": "stream",
     "text": [
      "271 patches in Sp5O\n",
      "99 patches in 8n\n",
      "138 patches in Pr5DM\n",
      "536 patches in Pr5VL_surround_noclass\n",
      "61 patches in Pr5VL_surround_Pr5DM\n",
      "823 patches in Sp5I_surround_noclass\n",
      "180 patches in Sp5I_surround_Sp5O\n",
      "116 patches in Sp5I_surround_Sp5C\n",
      "455 patches in Sp5C_surround_noclass\n",
      "214 patches in Sp5C_surround_Sp5I\n",
      "620 patches in DC_surround_noclass\n",
      "611 patches in Sp5O_surround_noclass\n",
      "215 patches in Sp5O_surround_Sp5I\n",
      "558 patches in 8n_surround_noclass\n",
      "26 patches in 8n_surround_Pr5DM\n",
      "535 patches in Pr5DM_surround_noclass\n",
      "22 patches in Pr5DM_surround_8n\n",
      "68 patches in Pr5DM_surround_Pr5VL\n",
      "23677 patches in bg\n",
      "73 patches in Pr5VL\n",
      "220 patches in Sp5O\n",
      "102 patches in 8n\n",
      "95 patches in DC\n",
      "580 patches in Sp5I\n"
     ]
    },
    {
     "name": "stderr",
     "output_type": "stream",
     "text": [
      "Analyzing section 326..\n"
     ]
    },
    {
     "name": "stdout",
     "output_type": "stream",
     "text": [
      "118 patches in Pr5DM\n",
      "97 patches in Sp5C\n",
      "477 patches in Pr5VL_surround_noclass\n",
      "48 patches in Pr5VL_surround_Pr5DM\n",
      "584 patches in Sp5O_surround_noclass\n",
      "207 patches in Sp5O_surround_Sp5I\n",
      "575 patches in 8n_surround_noclass\n",
      "23 patches in 8n_surround_Pr5DM\n",
      "625 patches in DC_surround_noclass\n",
      "820 patches in Sp5I_surround_noclass\n",
      "168 patches in Sp5I_surround_Sp5O\n",
      "97 patches in Sp5I_surround_Sp5C\n",
      "540 patches in Pr5DM_surround_noclass\n",
      "18 patches in Pr5DM_surround_8n\n",
      "47 patches in Pr5DM_surround_Pr5VL\n",
      "438 patches in Sp5C_surround_noclass\n",
      "204 patches in Sp5C_surround_Sp5I\n",
      "23856 patches in bg\n"
     ]
    },
    {
     "name": "stderr",
     "output_type": "stream",
     "text": [
      "Analyzing section 327..\n"
     ]
    },
    {
     "name": "stdout",
     "output_type": "stream",
     "text": [
      "106 patches in Pr5DM\n",
      "73 patches in Sp5C\n",
      "169 patches in Sp5O\n",
      "549 patches in Sp5I\n",
      "42 patches in Pr5VL\n",
      "102 patches in DC\n",
      "102 patches in 8n\n",
      "546 patches in Pr5DM_surround_noclass\n",
      "33 patches in Pr5DM_surround_Pr5VL\n",
      "18 patches in Pr5DM_surround_8n\n",
      "415 patches in Sp5C_surround_noclass\n",
      "201 patches in Sp5C_surround_Sp5I\n",
      "535 patches in Sp5O_surround_noclass\n",
      "205 patches in Sp5O_surround_Sp5I\n",
      "828 patches in Sp5I_surround_noclass\n",
      "148 patches in Sp5I_surround_Sp5O\n",
      "73 patches in Sp5I_surround_Sp5C\n",
      "437 patches in Pr5VL_surround_noclass\n",
      "39 patches in Pr5VL_surround_Pr5DM\n",
      "654 patches in DC_surround_noclass\n",
      "584 patches in 8n_surround_noclass\n",
      "26 patches in 8n_surround_Pr5DM\n",
      "24049 patches in bg\n"
     ]
    },
    {
     "name": "stderr",
     "output_type": "stream",
     "text": [
      "Analyzing section 328..\n"
     ]
    },
    {
     "name": "stdout",
     "output_type": "stream",
     "text": [
      "133 patches in Sp5O\n",
      "111 patches in 8n\n",
      "530 patches in Sp5I\n",
      "111 patches in DC\n",
      "65 patches in Sp5C\n",
      "3 patches in VCA\n",
      "529 patches in Sp5O_surround_noclass\n",
      "205 patches in Sp5O_surround_Sp5I\n",
      "616 patches in 8n_surround_noclass\n",
      "3 patches in 8n_surround_VCA\n",
      "841 patches in Sp5I_surround_noclass\n",
      "127 patches in Sp5I_surround_Sp5O\n",
      "65 patches in Sp5I_surround_Sp5C\n",
      "676 patches in DC_surround_noclass\n",
      "414 patches in Sp5C_surround_noclass\n",
      "203 patches in Sp5C_surround_Sp5I\n",
      "291 patches in VCA_surround_noclass\n",
      "8 patches in VCA_surround_8n\n",
      "24237 patches in bg\n",
      "90 patches in Sp5O\n",
      "117 patches in 8n\n",
      "14 patches in VCA\n",
      "114 patches in DC\n",
      "510 patches in Sp5I\n"
     ]
    },
    {
     "name": "stderr",
     "output_type": "stream",
     "text": [
      "Analyzing section 329..\n"
     ]
    },
    {
     "name": "stdout",
     "output_type": "stream",
     "text": [
      "416 patches in Sp5O_surround_noclass\n",
      "166 patches in Sp5O_surround_Sp5I\n",
      "615 patches in 8n_surround_noclass\n",
      "12 patches in 8n_surround_VCA\n",
      "340 patches in VCA_surround_noclass\n",
      "24 patches in VCA_surround_8n\n",
      "688 patches in DC_surround_noclass\n",
      "879 patches in Sp5I_surround_noclass\n",
      "90 patches in Sp5I_surround_Sp5O\n",
      "24576 patches in bg\n",
      "494 patches in Sp5I\n",
      "22 patches in Pr5\n",
      "130 patches in 8n\n",
      "61 patches in Sp5O\n",
      "133 patches in DC\n",
      "34 patches in VCA\n"
     ]
    },
    {
     "name": "stderr",
     "output_type": "stream",
     "text": [
      "Analyzing section 330..\n"
     ]
    },
    {
     "name": "stdout",
     "output_type": "stream",
     "text": [
      "922 patches in Sp5I_surround_noclass\n",
      "61 patches in Sp5I_surround_Sp5O\n",
      "415 patches in Pr5_surround_noclass\n",
      "1 patches in Pr5_surround_VCA\n",
      "644 patches in 8n_surround_noclass\n",
      "30 patches in 8n_surround_VCA\n",
      "368 patches in Sp5O_surround_noclass\n",
      "145 patches in Sp5O_surround_Sp5I\n",
      "745 patches in DC_surround_noclass\n",
      "433 patches in VCA_surround_noclass\n",
      "53 patches in VCA_surround_8n\n",
      "1 patches in VCA_surround_Pr5\n",
      "24593 patches in bg\n",
      "1 patches in VCP\n",
      "161 patches in DC\n",
      "46 patches in VCA\n",
      "14 patches in Pr5\n",
      "163 patches in 8n\n",
      "41 patches in Sp5O\n"
     ]
    },
    {
     "name": "stderr",
     "output_type": "stream",
     "text": [
      "Analyzing section 331..\n"
     ]
    },
    {
     "name": "stdout",
     "output_type": "stream",
     "text": [
      "390 patches in Sp5I\n",
      "223 patches in VCP_surround_noclass\n",
      "73 patches in VCP_surround_DC\n",
      "740 patches in DC_surround_noclass\n",
      "1 patches in DC_surround_VCP\n",
      "450 patches in VCA_surround_noclass\n",
      "59 patches in VCA_surround_8n\n",
      "6 patches in VCA_surround_Pr5\n",
      "364 patches in Pr5_surround_noclass\n",
      "6 patches in Pr5_surround_VCA\n",
      "646 patches in 8n_surround_noclass\n",
      "35 patches in 8n_surround_VCA\n",
      "333 patches in Sp5O_surround_noclass\n",
      "128 patches in Sp5O_surround_Sp5I\n",
      "847 patches in Sp5I_surround_noclass\n",
      "41 patches in Sp5I_surround_Sp5O\n",
      "24876 patches in bg\n",
      "1 patches in VCP\n",
      "180 patches in DC\n"
     ]
    },
    {
     "name": "stderr",
     "output_type": "stream",
     "text": [
      "Analyzing section 332..\n"
     ]
    },
    {
     "name": "stdout",
     "output_type": "stream",
     "text": [
      "195 patches in 8n\n",
      "58 patches in VCA\n",
      "311 patches in Sp5I\n",
      "27 patches in Sp5O\n",
      "5 patches in VCP\n",
      "204 patches in VCP_surround_noclass\n",
      "80 patches in VCP_surround_DC\n",
      "769 patches in DC_surround_noclass\n",
      "5 patches in DC_surround_VCP\n",
      "664 patches in 8n_surround_noclass\n",
      "42 patches in 8n_surround_VCA\n",
      "490 patches in VCA_surround_noclass\n",
      "58 patches in VCA_surround_8n\n",
      "788 patches in Sp5I_surround_noclass\n",
      "27 patches in Sp5I_surround_Sp5O\n",
      "327 patches in Sp5O_surround_noclass\n",
      "118 patches in Sp5O_surround_Sp5I\n",
      "224 patches in VCP_surround_noclass\n",
      "82 patches in VCP_surround_DC\n",
      "22234 patches in bg\n"
     ]
    },
    {
     "name": "stderr",
     "output_type": "stream",
     "text": [
      "Analyzing section 333..\n"
     ]
    },
    {
     "name": "stdout",
     "output_type": "stream",
     "text": [
      "20 patches in Sp5O\n",
      "79 patches in VCA\n",
      "233 patches in 8n\n",
      "11 patches in VCP\n",
      "208 patches in DC\n",
      "247 patches in Sp5I\n",
      "326 patches in Sp5O_surround_noclass\n",
      "112 patches in Sp5O_surround_Sp5I\n",
      "519 patches in VCA_surround_noclass\n",
      "74 patches in VCA_surround_8n\n",
      "692 patches in 8n_surround_noclass\n",
      "54 patches in 8n_surround_VCA\n",
      "248 patches in VCP_surround_noclass\n",
      "97 patches in VCP_surround_DC\n",
      "781 patches in DC_surround_noclass\n",
      "11 patches in DC_surround_VCP\n",
      "735 patches in Sp5I_surround_noclass\n",
      "20 patches in Sp5I_surround_Sp5O\n",
      "25127 patches in bg\n",
      "23 patches in VCP\n",
      "241 patches in DC\n",
      "182 patches in Sp5I\n",
      "98 patches in VCA\n",
      "295 patches in 8n\n"
     ]
    },
    {
     "name": "stderr",
     "output_type": "stream",
     "text": [
      "Analyzing section 334..\n"
     ]
    },
    {
     "name": "stdout",
     "output_type": "stream",
     "text": [
      "310 patches in VCP_surround_noclass\n",
      "113 patches in VCP_surround_DC\n",
      "800 patches in DC_surround_noclass\n",
      "23 patches in DC_surround_VCP\n",
      "674 patches in Sp5I_surround_noclass\n",
      "559 patches in VCA_surround_noclass\n",
      "86 patches in VCA_surround_8n\n",
      "729 patches in 8n_surround_noclass\n",
      "68 patches in 8n_surround_VCA\n",
      "25308 patches in bg\n",
      "131 patches in Sp5I\n",
      "309 patches in 8n\n",
      "37 patches in VCP\n",
      "130 patches in VCA\n",
      "264 patches in DC\n"
     ]
    },
    {
     "name": "stderr",
     "output_type": "stream",
     "text": [
      "Analyzing section 335..\n"
     ]
    },
    {
     "name": "stdout",
     "output_type": "stream",
     "text": [
      "603 patches in Sp5I_surround_noclass\n",
      "731 patches in 8n_surround_noclass\n",
      "80 patches in 8n_surround_VCA\n",
      "363 patches in VCP_surround_noclass\n",
      "121 patches in VCP_surround_DC\n",
      "589 patches in VCA_surround_noclass\n",
      "91 patches in VCA_surround_8n\n",
      "827 patches in DC_surround_noclass\n",
      "37 patches in DC_surround_VCP\n",
      "25476 patches in bg\n",
      "63 patches in VCP\n",
      "299 patches in DC\n",
      "88 patches in Sp5I\n",
      "335 patches in 8n\n",
      "150 patches in VCA\n"
     ]
    },
    {
     "name": "stderr",
     "output_type": "stream",
     "text": [
      "Analyzing section 336..\n"
     ]
    },
    {
     "name": "stdout",
     "output_type": "stream",
     "text": [
      "60 patches in VCP\n",
      "457 patches in VCP_surround_noclass\n",
      "135 patches in VCP_surround_DC\n",
      "853 patches in DC_surround_noclass\n",
      "57 patches in DC_surround_VCP\n",
      "543 patches in Sp5I_surround_noclass\n",
      "750 patches in 8n_surround_noclass\n",
      "84 patches in 8n_surround_VCA\n",
      "651 patches in VCA_surround_noclass\n",
      "94 patches in VCA_surround_8n\n",
      "448 patches in VCP_surround_noclass\n",
      "135 patches in VCP_surround_DC\n",
      "25963 patches in bg\n",
      "41 patches in Sp5I\n"
     ]
    },
    {
     "name": "stderr",
     "output_type": "stream",
     "text": [
      "Analyzing section 337..\n"
     ]
    },
    {
     "name": "stdout",
     "output_type": "stream",
     "text": [
      "332 patches in DC\n",
      "182 patches in VCA\n",
      "363 patches in 8n\n",
      "187 patches in VCP\n",
      "439 patches in Sp5I_surround_noclass\n",
      "843 patches in DC_surround_noclass\n",
      "87 patches in DC_surround_VCP\n",
      "5 patches in DC_surround_VCA\n",
      "672 patches in VCA_surround_noclass\n",
      "93 patches in VCA_surround_8n\n",
      "4 patches in VCA_surround_DC\n",
      "737 patches in 8n_surround_noclass\n",
      "27 patches in 8n_surround_VCP\n",
      "94 patches in 8n_surround_VCA\n",
      "598 patches in VCP_surround_noclass\n",
      "38 patches in VCP_surround_8n\n",
      "138 patches in VCP_surround_DC\n",
      "26097 patches in bg\n",
      "217 patches in VCA\n",
      "382 patches in DC\n",
      "388 patches in 8n\n",
      "414 patches in VCP\n"
     ]
    },
    {
     "name": "stderr",
     "output_type": "stream",
     "text": [
      "Analyzing section 338..\n"
     ]
    },
    {
     "name": "stdout",
     "output_type": "stream",
     "text": [
      "705 patches in VCA_surround_noclass\n",
      "28 patches in VCA_surround_VCP\n",
      "102 patches in VCA_surround_8n\n",
      "32 patches in VCA_surround_DC\n",
      "870 patches in DC_surround_noclass\n",
      "109 patches in DC_surround_VCP\n",
      "32 patches in DC_surround_VCA\n",
      "631 patches in 8n_surround_noclass\n",
      "132 patches in 8n_surround_VCP\n",
      "105 patches in 8n_surround_VCA\n",
      "770 patches in VCP_surround_noclass\n",
      "7 patches in VCP_surround_VCA\n",
      "114 patches in VCP_surround_8n\n",
      "127 patches in VCP_surround_DC\n",
      "26350 patches in bg\n",
      "246 patches in VCA\n",
      "397 patches in VCP\n",
      "436 patches in 8n\n",
      "366 patches in DC\n"
     ]
    },
    {
     "name": "stderr",
     "output_type": "stream",
     "text": [
      "Analyzing section 339..\n"
     ]
    },
    {
     "name": "stdout",
     "output_type": "stream",
     "text": [
      "699 patches in VCA_surround_noclass\n",
      "25 patches in VCA_surround_VCP\n",
      "108 patches in VCA_surround_8n\n",
      "41 patches in VCA_surround_DC\n",
      "729 patches in VCP_surround_noclass\n",
      "13 patches in VCP_surround_VCA\n",
      "106 patches in VCP_surround_8n\n",
      "111 patches in VCP_surround_DC\n",
      "599 patches in 8n_surround_noclass\n",
      "114 patches in 8n_surround_VCP\n",
      "117 patches in 8n_surround_VCA\n",
      "846 patches in DC_surround_noclass\n",
      "87 patches in DC_surround_VCP\n",
      "44 patches in DC_surround_VCA\n",
      "26527 patches in bg\n",
      "372 patches in 8n\n",
      "366 patches in DC\n",
      "283 patches in VCA\n"
     ]
    },
    {
     "name": "stderr",
     "output_type": "stream",
     "text": [
      "Analyzing section 340..\n"
     ]
    },
    {
     "name": "stdout",
     "output_type": "stream",
     "text": [
      "391 patches in VCP\n",
      "558 patches in 8n_surround_noclass\n",
      "94 patches in 8n_surround_VCP\n",
      "126 patches in 8n_surround_VCA\n",
      "839 patches in DC_surround_noclass\n",
      "79 patches in DC_surround_VCP\n",
      "60 patches in DC_surround_VCA\n",
      "697 patches in VCA_surround_noclass\n",
      "28 patches in VCA_surround_VCP\n",
      "113 patches in VCA_surround_8n\n",
      "49 patches in VCA_surround_DC\n",
      "712 patches in VCP_surround_noclass\n",
      "23 patches in VCP_surround_VCA\n",
      "83 patches in VCP_surround_8n\n",
      "106 patches in VCP_surround_DC\n",
      "26765 patches in bg\n",
      "369 patches in VCP\n"
     ]
    },
    {
     "name": "stderr",
     "output_type": "stream",
     "text": [
      "Analyzing section 341..\n",
      "Analyzing section 342..\n"
     ]
    },
    {
     "name": "stdout",
     "output_type": "stream",
     "text": [
      "354 patches in DC\n",
      "362 patches in VCA\n",
      "278 patches in 8n\n",
      "653 patches in VCP_surround_noclass\n",
      "47 patches in VCP_surround_VCA\n",
      "65 patches in VCP_surround_8n\n",
      "102 patches in VCP_surround_DC\n",
      "827 patches in DC_surround_noclass\n",
      "71 patches in DC_surround_VCP\n",
      "89 patches in DC_surround_VCA\n",
      "736 patches in VCA_surround_noclass\n",
      "57 patches in VCA_surround_VCP\n",
      "117 patches in VCA_surround_8n\n",
      "65 patches in VCA_surround_DC\n",
      "500 patches in 8n_surround_noclass\n",
      "68 patches in 8n_surround_VCP\n",
      "137 patches in 8n_surround_VCA\n",
      "27318 patches in bg\n"
     ]
    },
    {
     "name": "stderr",
     "output_type": "stream",
     "text": [
      "Analyzing section 343..\n"
     ]
    },
    {
     "name": "stdout",
     "output_type": "stream",
     "text": [
      "358 patches in VCP\n",
      "410 patches in VCA\n",
      "232 patches in 8n\n",
      "349 patches in DC\n",
      "607 patches in VCP_surround_noclass\n",
      "67 patches in VCP_surround_VCA\n",
      "62 patches in VCP_surround_8n\n",
      "101 patches in VCP_surround_DC\n",
      "760 patches in VCA_surround_noclass\n",
      "75 patches in VCA_surround_VCP\n",
      "116 patches in VCA_surround_8n\n",
      "74 patches in VCA_surround_DC\n",
      "457 patches in 8n_surround_noclass\n",
      "61 patches in 8n_surround_VCP\n",
      "144 patches in 8n_surround_VCA\n",
      "824 patches in DC_surround_noclass\n",
      "70 patches in DC_surround_VCP\n",
      "97 patches in DC_surround_VCA\n",
      "28264 patches in bg\n",
      "453 patches in VCA\n",
      "352 patches in VCP\n",
      "193 patches in 8n\n"
     ]
    },
    {
     "name": "stderr",
     "output_type": "stream",
     "text": [
      "Analyzing section 344..\n"
     ]
    },
    {
     "name": "stdout",
     "output_type": "stream",
     "text": [
      "342 patches in DC\n",
      "767 patches in VCA_surround_noclass\n",
      "117 patches in VCA_surround_VCP\n",
      "116 patches in VCA_surround_8n\n",
      "77 patches in VCA_surround_DC\n",
      "485 patches in VCP_surround_noclass\n",
      "90 patches in VCP_surround_VCA\n",
      "56 patches in VCP_surround_8n\n",
      "107 patches in VCP_surround_DC\n",
      "424 patches in 8n_surround_noclass\n",
      "56 patches in 8n_surround_VCP\n",
      "151 patches in 8n_surround_VCA\n",
      "785 patches in DC_surround_noclass\n",
      "75 patches in DC_surround_VCP\n",
      "105 patches in DC_surround_VCA\n",
      "28460 patches in bg\n",
      "335 patches in DC\n",
      "342 patches in VCP\n"
     ]
    },
    {
     "name": "stderr",
     "output_type": "stream",
     "text": [
      "Analyzing section 345..\n"
     ]
    },
    {
     "name": "stdout",
     "output_type": "stream",
     "text": [
      "344 patches in VCP\n",
      "336 patches in DC\n",
      "505 patches in VCA\n",
      "165 patches in 8n\n",
      "844 patches in DC_surround_noclass\n",
      "80 patches in DC_surround_VCP\n",
      "122 patches in DC_surround_VCA\n",
      "478 patches in VCP_surround_noclass\n",
      "121 patches in VCP_surround_VCA\n",
      "54 patches in VCP_surround_8n\n",
      "113 patches in VCP_surround_DC\n",
      "477 patches in VCP_surround_noclass\n",
      "121 patches in VCP_surround_VCA\n",
      "55 patches in VCP_surround_8n\n",
      "115 patches in VCP_surround_DC\n",
      "854 patches in DC_surround_noclass\n",
      "80 patches in DC_surround_VCP\n",
      "127 patches in DC_surround_VCA\n",
      "791 patches in VCA_surround_noclass\n",
      "173 patches in VCA_surround_VCP\n",
      "117 patches in VCA_surround_8n\n",
      "89 patches in VCA_surround_DC\n",
      "400 patches in 8n_surround_noclass\n",
      "53 patches in 8n_surround_VCP\n",
      "159 patches in 8n_surround_VCA\n",
      "28022 patches in bg\n",
      "298 patches in VCP\n",
      "302 patches in DC\n",
      "530 patches in VCA\n"
     ]
    },
    {
     "name": "stderr",
     "output_type": "stream",
     "text": [
      "Analyzing section 346..\n"
     ]
    },
    {
     "name": "stdout",
     "output_type": "stream",
     "text": [
      "467 patches in VCP_surround_noclass\n",
      "124 patches in VCP_surround_VCA\n",
      "97 patches in VCP_surround_DC\n",
      "781 patches in DC_surround_noclass\n",
      "64 patches in DC_surround_VCP\n",
      "110 patches in DC_surround_VCA\n",
      "884 patches in VCA_surround_noclass\n",
      "150 patches in VCA_surround_VCP\n",
      "82 patches in VCA_surround_DC\n",
      "27566 patches in bg\n"
     ]
    },
    {
     "name": "stderr",
     "output_type": "stream",
     "text": [
      "Analyzing section 347..\n"
     ]
    },
    {
     "name": "stdout",
     "output_type": "stream",
     "text": [
      "264 patches in VCP\n",
      "265 patches in DC\n",
      "560 patches in VCA\n",
      "388 patches in VCP_surround_noclass\n",
      "139 patches in VCP_surround_VCA\n",
      "95 patches in VCP_surround_DC\n",
      "739 patches in DC_surround_noclass\n",
      "61 patches in DC_surround_VCP\n",
      "113 patches in DC_surround_VCA\n",
      "895 patches in VCA_surround_noclass\n",
      "139 patches in VCA_surround_VCP\n",
      "77 patches in VCA_surround_DC\n",
      "28841 patches in bg\n",
      "582 patches in VCA\n"
     ]
    },
    {
     "name": "stderr",
     "output_type": "stream",
     "text": [
      "Analyzing section 348..\n"
     ]
    },
    {
     "name": "stdout",
     "output_type": "stream",
     "text": [
      "237 patches in DC\n",
      "230 patches in VCP\n",
      "909 patches in VCA_surround_noclass\n",
      "123 patches in VCA_surround_VCP\n",
      "79 patches in VCA_surround_DC\n",
      "685 patches in DC_surround_noclass\n",
      "53 patches in DC_surround_VCP\n",
      "109 patches in DC_surround_VCA\n",
      "335 patches in VCP_surround_noclass\n",
      "143 patches in VCP_surround_VCA\n",
      "83 patches in VCP_surround_DC\n",
      "29106 patches in bg\n",
      "217 patches in DC\n",
      "610 patches in VCA\n",
      "203 patches in VCP\n",
      "216 patches in DC\n"
     ]
    },
    {
     "name": "stderr",
     "output_type": "stream",
     "text": [
      "Analyzing section 349..\n"
     ]
    },
    {
     "name": "stdout",
     "output_type": "stream",
     "text": [
      "688 patches in DC_surround_noclass\n",
      "51 patches in DC_surround_VCP\n",
      "123 patches in DC_surround_VCA\n",
      "861 patches in VCA_surround_noclass\n",
      "110 patches in VCA_surround_VCP\n",
      "76 patches in VCA_surround_DC\n",
      "336 patches in VCP_surround_noclass\n",
      "144 patches in VCP_surround_VCA\n",
      "80 patches in VCP_surround_DC\n",
      "695 patches in DC_surround_noclass\n",
      "49 patches in DC_surround_VCP\n",
      "121 patches in DC_surround_VCA\n",
      "29039 patches in bg\n",
      "179 patches in VCP\n",
      "173 patches in VCP\n",
      "649 patches in VCA\n",
      "194 patches in DC\n",
      "302 patches in VCP_surround_noclass\n",
      "141 patches in VCP_surround_VCA\n",
      "68 patches in VCP_surround_DC\n"
     ]
    },
    {
     "name": "stderr",
     "output_type": "stream",
     "text": [
      "Analyzing section 350..\n"
     ]
    },
    {
     "name": "stdout",
     "output_type": "stream",
     "text": [
      "300 patches in VCP_surround_noclass\n",
      "145 patches in VCP_surround_VCA\n",
      "72 patches in VCP_surround_DC\n",
      "817 patches in VCA_surround_noclass\n",
      "102 patches in VCA_surround_VCP\n",
      "79 patches in VCA_surround_DC\n",
      "660 patches in DC_surround_noclass\n",
      "45 patches in DC_surround_VCP\n",
      "109 patches in DC_surround_VCA\n",
      "29358 patches in bg\n"
     ]
    },
    {
     "name": "stderr",
     "output_type": "stream",
     "text": [
      "Analyzing section 351..\n"
     ]
    },
    {
     "name": "stdout",
     "output_type": "stream",
     "text": [
      "603 patches in VCA\n",
      "195 patches in DC\n",
      "188 patches in DC\n",
      "135 patches in VCP\n",
      "800 patches in VCA_surround_noclass\n",
      "86 patches in VCA_surround_VCP\n",
      "68 patches in VCA_surround_DC\n",
      "686 patches in DC_surround_noclass\n",
      "31 patches in DC_surround_VCP\n",
      "111 patches in DC_surround_VCA\n",
      "678 patches in DC_surround_noclass\n",
      "31 patches in DC_surround_VCP\n",
      "105 patches in DC_surround_VCA\n",
      "297 patches in VCP_surround_noclass\n",
      "121 patches in VCP_surround_VCA\n",
      "52 patches in VCP_surround_DC\n",
      "29452 patches in bg\n",
      "101 patches in VCP\n"
     ]
    },
    {
     "name": "stderr",
     "output_type": "stream",
     "text": [
      "Analyzing section 352..\n"
     ]
    },
    {
     "name": "stdout",
     "output_type": "stream",
     "text": [
      "573 patches in VCA\n",
      "105 patches in DC\n",
      "112 patches in DC\n",
      "284 patches in VCP_surround_noclass\n",
      "110 patches in VCP_surround_VCA\n",
      "43 patches in VCP_surround_DC\n",
      "826 patches in VCA_surround_noclass\n",
      "76 patches in VCA_surround_VCP\n",
      "45 patches in VCA_surround_DC\n",
      "564 patches in DC_surround_noclass\n",
      "18 patches in DC_surround_VCP\n",
      "77 patches in DC_surround_VCA\n",
      "574 patches in DC_surround_noclass\n",
      "20 patches in DC_surround_VCP\n",
      "86 patches in DC_surround_VCA\n",
      "29582 patches in bg\n",
      "552 patches in VCA\n"
     ]
    },
    {
     "name": "stderr",
     "output_type": "stream",
     "text": [
      "Analyzing section 353..\n"
     ]
    },
    {
     "name": "stdout",
     "output_type": "stream",
     "text": [
      "63 patches in DC\n",
      "75 patches in VCP\n",
      "819 patches in VCA_surround_noclass\n",
      "63 patches in VCA_surround_VCP\n",
      "33 patches in VCA_surround_DC\n",
      "462 patches in DC_surround_noclass\n",
      "16 patches in DC_surround_VCP\n",
      "56 patches in DC_surround_VCA\n",
      "259 patches in VCP_surround_noclass\n",
      "99 patches in VCP_surround_VCA\n",
      "32 patches in VCP_surround_DC\n",
      "29633 patches in bg\n",
      "28 patches in DC\n",
      "528 patches in VCA\n",
      "50 patches in VCP\n",
      "358 patches in DC_surround_noclass\n",
      "14 patches in DC_surround_VCP\n",
      "37 patches in DC_surround_VCA\n"
     ]
    },
    {
     "name": "stderr",
     "output_type": "stream",
     "text": [
      "Analyzing section 354..\n"
     ]
    },
    {
     "name": "stdout",
     "output_type": "stream",
     "text": [
      "826 patches in VCA_surround_noclass\n",
      "49 patches in VCA_surround_VCP\n",
      "25 patches in VCA_surround_DC\n",
      "228 patches in VCP_surround_noclass\n",
      "88 patches in VCP_surround_VCA\n",
      "24 patches in VCP_surround_DC\n",
      "29933 patches in bg\n",
      "507 patches in VCA\n",
      "12 patches in DC\n",
      "36 patches in VCP\n",
      "11 patches in DC\n",
      "38 patches in VCP\n"
     ]
    },
    {
     "name": "stderr",
     "output_type": "stream",
     "text": [
      "Analyzing section 355..\n"
     ]
    },
    {
     "name": "stdout",
     "output_type": "stream",
     "text": [
      "768 patches in VCA_surround_noclass\n",
      "38 patches in VCA_surround_VCP\n",
      "11 patches in VCA_surround_DC\n",
      "276 patches in DC_surround_noclass\n",
      "15 patches in DC_surround_VCP\n",
      "24 patches in DC_surround_VCA\n",
      "213 patches in VCP_surround_noclass\n",
      "84 patches in VCP_surround_VCA\n",
      "11 patches in VCP_surround_DC\n",
      "273 patches in DC_surround_noclass\n",
      "14 patches in DC_surround_VCP\n",
      "22 patches in DC_surround_VCA\n",
      "213 patches in VCP_surround_noclass\n",
      "85 patches in VCP_surround_VCA\n",
      "11 patches in VCP_surround_DC\n",
      "30131 patches in bg\n",
      "21 patches in VCP\n"
     ]
    },
    {
     "name": "stderr",
     "output_type": "stream",
     "text": [
      "Analyzing section 356..\n"
     ]
    },
    {
     "name": "stdout",
     "output_type": "stream",
     "text": [
      "453 patches in VCA\n",
      "189 patches in VCP_surround_noclass\n",
      "72 patches in VCP_surround_VCA\n",
      "719 patches in VCA_surround_noclass\n",
      "21 patches in VCA_surround_VCP\n",
      "30298 patches in bg\n",
      "8 patches in VCP\n"
     ]
    },
    {
     "name": "stderr",
     "output_type": "stream",
     "text": [
      "Analyzing section 357..\n",
      "Analyzing section 358..\n"
     ]
    },
    {
     "name": "stdout",
     "output_type": "stream",
     "text": [
      "391 patches in VCA\n",
      "166 patches in VCP_surround_noclass\n",
      "57 patches in VCP_surround_VCA\n",
      "680 patches in VCA_surround_noclass\n",
      "8 patches in VCA_surround_VCP\n",
      "30199 patches in bg\n",
      "3 patches in VCP\n",
      "342 patches in VCA\n",
      "3 patches in VCP\n",
      "146 patches in VCP_surround_noclass\n",
      "56 patches in VCP_surround_VCA\n",
      "584 patches in VCA_surround_noclass\n",
      "3 patches in VCA_surround_VCP\n",
      "143 patches in VCP_surround_noclass\n",
      "48 patches in VCP_surround_VCA\n",
      "31009 patches in bg\n"
     ]
    },
    {
     "name": "stderr",
     "output_type": "stream",
     "text": [
      "Analyzing section 359..\n",
      "Analyzing section 360..\n"
     ]
    },
    {
     "name": "stdout",
     "output_type": "stream",
     "text": [
      "293 patches in VCA\n",
      "510 patches in VCA_surround_noclass\n",
      "31513 patches in bg\n",
      "264 patches in VCA\n",
      "366 patches in VCA_surround_noclass\n",
      "32357 patches in bg\n"
     ]
    },
    {
     "name": "stderr",
     "output_type": "stream",
     "text": [
      "Analyzing section 361..\n",
      "Analyzing section 362..\n"
     ]
    },
    {
     "name": "stdout",
     "output_type": "stream",
     "text": [
      "185 patches in VCA\n",
      "408 patches in VCA_surround_noclass\n",
      "31862 patches in bg\n",
      "135 patches in VCA\n",
      "348 patches in VCA_surround_noclass\n",
      "32155 patches in bg\n"
     ]
    },
    {
     "name": "stderr",
     "output_type": "stream",
     "text": [
      "Analyzing section 363..\n"
     ]
    },
    {
     "name": "stdout",
     "output_type": "stream",
     "text": [
      "99 patches in VCA\n",
      "324 patches in VCA_surround_noclass\n",
      "32251 patches in bg\n"
     ]
    },
    {
     "name": "stderr",
     "output_type": "stream",
     "text": [
      "/oasis/projects/nsf/csd395/yuncong/brain_virtualenv/lib/python2.7/site-packages/pandas/core/generic.py:1101: PerformanceWarning: \n",
      "your performance may suffer as PyTables will pickle object types that it cannot\n",
      "map directly to c-types [inferred_type->mixed,key->block0_values] [items->[94, 95, 96, 97, 98, 99, 100, 101, 102, 103, 104, 105, 106, 107, 108, 109, 110, 111, 112, 113, 114, 115, 116, 117, 118, 119, 120, 121, 122, 123, 124, 125, 126, 127, 128, 129, 130, 132, 133, 134, 135, 136, 137, 138, 139, 140, 141, 142, 143, 144, 145, 146, 147, 148, 149, 150, 151, 152, 153, 154, 155, 156, 157, 158, 159, 160, 161, 162, 163, 164, 165, 166, 167, 168, 169, 170, 171, 172, 173, 174, 175, 176, 177, 178, 179, 180, 181, 182, 183, 184, 185, 186, 188, 189, 190, 191, 192, 194, 195, 196, 197, 198, 199, 200, 201, 202, 203, 204, 205, 206, 207, 208, 209, 210, 211, 212, 213, 214, 215, 216, 217, 218, 219, 220, 221, 222, 223, 224, 225, 226, 227, 228, 229, 230, 231, 232, 233, 234, 235, 236, 237, 239, 240, 241, 242, 243, 244, 245, 246, 247, 248, 249, 250, 251, 252, 253, 254, 255, 256, 257, 258, 259, 260, 262, 263, 264, 265, 266, 267, 268, 269, 270, 271, 272, 273, 274, 275, 276, 277, 278, 279, 280, 281, 282, 283, 284, 285, 286, 287, 288, 289, 290, 291, 292, 293, 294, 295, 296, 297, 298, 299, 300, 301, 302, 303, 304, 305, 306, 307, 308, 309, 310, 311, 312, 313, 314, 315, 316, 317, 318, 319, 320, 321, 322, 323, 324, 325, 326, 327, 328, 329, 330, 331, 332, 333, 334, 335, 336, 337, 338, 339, 340, 342, 343, 344, 345, 346, 347, 348, 349, 350, 351, 352, 353, 354, 355, 356, 357, 358, 359, 360, 361, 362, 363]]\n",
      "\n",
      "  return pytables.to_hdf(path_or_buf, key, self, **kwargs)\n",
      "Analyzing section 83..\n",
      "Analyzing section 84..\n",
      "Analyzing section 85..\n"
     ]
    },
    {
     "name": "stdout",
     "output_type": "stream",
     "text": [
      "27 patches in VCA\n",
      "213 patches in VCA_surround_noclass\n",
      "30734 patches in bg\n",
      "70 patches in VCA\n",
      "256 patches in VCA_surround_noclass\n",
      "30632 patches in bg\n",
      "153 patches in VCA\n",
      "478 patches in VCA_surround_noclass\n",
      "30223 patches in bg\n",
      "231 patches in VCA\n",
      "486 patches in VCA_surround_noclass\n",
      "30168 patches in bg\n"
     ]
    },
    {
     "name": "stderr",
     "output_type": "stream",
     "text": [
      "Analyzing section 86..\n",
      "Analyzing section 87..\n"
     ]
    },
    {
     "name": "stdout",
     "output_type": "stream",
     "text": [
      "9 patches in DC\n",
      "334 patches in VCA\n",
      "367 patches in DC_surround_noclass\n",
      "44 patches in DC_surround_VCA\n",
      "705 patches in VCA_surround_noclass\n",
      "9 patches in VCA_surround_DC\n",
      "29827 patches in bg\n"
     ]
    },
    {
     "name": "stderr",
     "output_type": "stream",
     "text": [
      "Analyzing section 88..\n"
     ]
    },
    {
     "name": "stdout",
     "output_type": "stream",
     "text": [
      "12 patches in DC\n",
      "371 patches in VCA\n",
      "332 patches in DC_surround_noclass\n",
      "39 patches in DC_surround_VCA\n",
      "750 patches in VCA_surround_noclass\n",
      "12 patches in VCA_surround_DC\n",
      "29903 patches in bg\n"
     ]
    },
    {
     "name": "stderr",
     "output_type": "stream",
     "text": [
      "Analyzing section 89..\n"
     ]
    },
    {
     "name": "stdout",
     "output_type": "stream",
     "text": [
      "398 patches in VCA\n",
      "19 patches in DC\n",
      "764 patches in VCA_surround_noclass\n",
      "19 patches in VCA_surround_DC\n",
      "385 patches in DC_surround_noclass\n",
      "44 patches in DC_surround_VCA\n",
      "29637 patches in bg\n",
      "29 patches in VCP\n"
     ]
    },
    {
     "name": "stderr",
     "output_type": "stream",
     "text": [
      "Analyzing section 90..\n"
     ]
    },
    {
     "name": "stdout",
     "output_type": "stream",
     "text": [
      "46 patches in DC\n",
      "444 patches in VCA\n",
      "290 patches in VCP_surround_noclass\n",
      "65 patches in VCP_surround_VCA\n",
      "37 patches in VCP_surround_DC\n",
      "444 patches in DC_surround_noclass\n",
      "16 patches in DC_surround_VCP\n",
      "57 patches in DC_surround_VCA\n",
      "759 patches in VCA_surround_noclass\n",
      "29 patches in VCA_surround_VCP\n",
      "42 patches in VCA_surround_DC\n",
      "29388 patches in bg\n",
      "480 patches in VCA\n",
      "104 patches in DC\n",
      "42 patches in VCP\n"
     ]
    },
    {
     "name": "stderr",
     "output_type": "stream",
     "text": [
      "Analyzing section 91..\n"
     ]
    },
    {
     "name": "stdout",
     "output_type": "stream",
     "text": [
      "735 patches in VCA_surround_noclass\n",
      "42 patches in VCA_surround_VCP\n",
      "76 patches in VCA_surround_DC\n",
      "515 patches in DC_surround_noclass\n",
      "13 patches in DC_surround_VCP\n",
      "60 patches in DC_surround_VCA\n",
      "303 patches in VCP_surround_noclass\n",
      "77 patches in VCP_surround_VCA\n",
      "32 patches in VCP_surround_DC\n",
      "29252 patches in bg\n",
      "59 patches in VCP\n",
      "215 patches in DC\n"
     ]
    },
    {
     "name": "stderr",
     "output_type": "stream",
     "text": [
      "Analyzing section 92..\n"
     ]
    },
    {
     "name": "stdout",
     "output_type": "stream",
     "text": [
      "521 patches in VCA\n",
      "329 patches in VCP_surround_noclass\n",
      "73 patches in VCP_surround_VCA\n",
      "31 patches in VCP_surround_DC\n",
      "695 patches in DC_surround_noclass\n",
      "16 patches in DC_surround_VCP\n",
      "80 patches in DC_surround_VCA\n",
      "706 patches in VCA_surround_noclass\n",
      "58 patches in VCA_surround_VCP\n",
      "99 patches in VCA_surround_DC\n",
      "29092 patches in bg\n"
     ]
    },
    {
     "name": "stderr",
     "output_type": "stream",
     "text": [
      "Analyzing section 93..\n"
     ]
    },
    {
     "name": "stdout",
     "output_type": "stream",
     "text": [
      "82 patches in VCP\n",
      "234 patches in DC\n",
      "559 patches in VCA\n",
      "371 patches in VCP_surround_noclass\n",
      "78 patches in VCP_surround_VCA\n",
      "28 patches in VCP_surround_DC\n",
      "704 patches in DC_surround_noclass\n",
      "15 patches in DC_surround_VCP\n",
      "82 patches in DC_surround_VCA\n",
      "734 patches in VCA_surround_noclass\n",
      "71 patches in VCA_surround_VCP\n",
      "91 patches in VCA_surround_DC\n",
      "28798 patches in bg\n",
      "104 patches in VCP\n",
      "610 patches in VCA\n"
     ]
    },
    {
     "name": "stderr",
     "output_type": "stream",
     "text": [
      "Analyzing section 94..\n"
     ]
    },
    {
     "name": "stdout",
     "output_type": "stream",
     "text": [
      "268 patches in DC\n",
      "406 patches in VCP_surround_noclass\n",
      "90 patches in VCP_surround_VCA\n",
      "27 patches in VCP_surround_DC\n",
      "796 patches in VCA_surround_noclass\n",
      "83 patches in VCA_surround_VCP\n",
      "98 patches in VCA_surround_DC\n",
      "712 patches in DC_surround_noclass\n",
      "14 patches in DC_surround_VCP\n",
      "91 patches in DC_surround_VCA\n",
      "28631 patches in bg\n"
     ]
    },
    {
     "name": "stderr",
     "output_type": "stream",
     "text": [
      "Analyzing section 95..\n"
     ]
    },
    {
     "name": "stdout",
     "output_type": "stream",
     "text": [
      "297 patches in DC\n",
      "137 patches in VCP\n",
      "597 patches in VCA\n",
      "764 patches in DC_surround_noclass\n",
      "14 patches in DC_surround_VCP\n",
      "71 patches in DC_surround_VCA\n",
      "451 patches in VCP_surround_noclass\n",
      "82 patches in VCP_surround_VCA\n",
      "26 patches in VCP_surround_DC\n",
      "855 patches in VCA_surround_noclass\n",
      "88 patches in VCA_surround_VCP\n",
      "66 patches in VCA_surround_DC\n",
      "28445 patches in bg\n",
      "647 patches in VCA\n"
     ]
    },
    {
     "name": "stderr",
     "output_type": "stream",
     "text": [
      "Analyzing section 96..\n"
     ]
    },
    {
     "name": "stdout",
     "output_type": "stream",
     "text": [
      "172 patches in VCP\n",
      "327 patches in DC\n",
      "869 patches in VCA_surround_noclass\n",
      "150 patches in VCA_surround_VCP\n",
      "57 patches in VCA_surround_DC\n",
      "451 patches in VCP_surround_noclass\n",
      "128 patches in VCP_surround_VCA\n",
      "28 patches in VCP_surround_DC\n",
      "820 patches in DC_surround_noclass\n",
      "13 patches in DC_surround_VCP\n",
      "59 patches in DC_surround_VCA\n",
      "28256 patches in bg\n",
      "717 patches in VCA\n",
      "189 patches in VCP\n",
      "367 patches in DC\n"
     ]
    },
    {
     "name": "stderr",
     "output_type": "stream",
     "text": [
      "Analyzing section 97..\n"
     ]
    },
    {
     "name": "stdout",
     "output_type": "stream",
     "text": [
      "1005 patches in VCA_surround_noclass\n",
      "171 patches in VCA_surround_VCP\n",
      "58 patches in VCA_surround_DC\n",
      "440 patches in VCP_surround_noclass\n",
      "189 patches in VCP_surround_VCA\n",
      "37 patches in VCP_surround_DC\n",
      "831 patches in DC_surround_noclass\n",
      "20 patches in DC_surround_VCP\n",
      "62 patches in DC_surround_VCA\n",
      "28485 patches in bg\n"
     ]
    },
    {
     "name": "stderr",
     "output_type": "stream",
     "text": [
      "Analyzing section 98..\n"
     ]
    },
    {
     "name": "stdout",
     "output_type": "stream",
     "text": [
      "407 patches in DC\n",
      "202 patches in VCP\n",
      "778 patches in VCA\n",
      "857 patches in DC_surround_noclass\n",
      "32 patches in DC_surround_VCP\n",
      "78 patches in DC_surround_VCA\n",
      "435 patches in VCP_surround_noclass\n",
      "226 patches in VCP_surround_VCA\n",
      "46 patches in VCP_surround_DC\n",
      "1040 patches in VCA_surround_noclass\n",
      "178 patches in VCA_surround_VCP\n",
      "71 patches in VCA_surround_DC\n",
      "27945 patches in bg\n",
      "230 patches in VCP\n",
      "386 patches in DC\n"
     ]
    },
    {
     "name": "stderr",
     "output_type": "stream",
     "text": [
      "Analyzing section 99..\n"
     ]
    },
    {
     "name": "stdout",
     "output_type": "stream",
     "text": [
      "718 patches in VCA\n",
      "451 patches in VCP_surround_noclass\n",
      "222 patches in VCP_surround_VCA\n",
      "48 patches in VCP_surround_DC\n",
      "838 patches in DC_surround_noclass\n",
      "41 patches in DC_surround_VCP\n",
      "65 patches in DC_surround_VCA\n",
      "1104 patches in VCA_surround_noclass\n",
      "172 patches in VCA_surround_VCP\n",
      "55 patches in VCA_surround_DC\n",
      "27588 patches in bg\n",
      "247 patches in VCP\n",
      "671 patches in VCA\n",
      "383 patches in DC\n"
     ]
    },
    {
     "name": "stderr",
     "output_type": "stream",
     "text": [
      "Analyzing section 100..\n"
     ]
    },
    {
     "name": "stdout",
     "output_type": "stream",
     "text": [
      "105 patches in 8n\n",
      "480 patches in VCP_surround_noclass\n",
      "211 patches in VCP_surround_VCA\n",
      "47 patches in VCP_surround_DC\n",
      "1038 patches in VCA_surround_noclass\n",
      "161 patches in VCA_surround_VCP\n",
      "76 patches in VCA_surround_8n\n",
      "43 patches in VCA_surround_DC\n",
      "850 patches in DC_surround_noclass\n",
      "33 patches in DC_surround_VCP\n",
      "53 patches in DC_surround_VCA\n",
      "283 patches in 8n_surround_noclass\n",
      "187 patches in 8n_surround_VCA\n",
      "26985 patches in bg\n",
      "372 patches in DC\n",
      "106 patches in 8n\n",
      "277 patches in VCP\n"
     ]
    },
    {
     "name": "stderr",
     "output_type": "stream",
     "text": [
      "Analyzing section 101..\n"
     ]
    },
    {
     "name": "stdout",
     "output_type": "stream",
     "text": [
      "628 patches in VCA\n",
      "872 patches in DC_surround_noclass\n",
      "34 patches in DC_surround_VCP\n",
      "52 patches in DC_surround_VCA\n",
      "339 patches in 8n_surround_noclass\n",
      "177 patches in 8n_surround_VCA\n",
      "529 patches in VCP_surround_noclass\n",
      "193 patches in VCP_surround_VCA\n",
      "48 patches in VCP_surround_DC\n",
      "1045 patches in VCA_surround_noclass\n",
      "152 patches in VCA_surround_VCP\n",
      "78 patches in VCA_surround_8n\n",
      "38 patches in VCA_surround_DC\n",
      "26672 patches in bg\n",
      "52 patches in Sp5I\n",
      "320 patches in VCP\n"
     ]
    },
    {
     "name": "stderr",
     "output_type": "stream",
     "text": [
      "Analyzing section 102..\n"
     ]
    },
    {
     "name": "stdout",
     "output_type": "stream",
     "text": [
      "590 patches in VCA\n",
      "366 patches in DC\n",
      "117 patches in 8n\n",
      "480 patches in Sp5I_surround_noclass\n",
      "585 patches in VCP_surround_noclass\n",
      "166 patches in VCP_surround_VCA\n",
      "46 patches in VCP_surround_DC\n",
      "1071 patches in VCA_surround_noclass\n",
      "140 patches in VCA_surround_VCP\n",
      "95 patches in VCA_surround_8n\n",
      "39 patches in VCA_surround_DC\n",
      "868 patches in DC_surround_noclass\n",
      "33 patches in DC_surround_VCP\n",
      "50 patches in DC_surround_VCA\n",
      "372 patches in 8n_surround_noclass\n",
      "212 patches in 8n_surround_VCA\n",
      "26437 patches in bg\n"
     ]
    },
    {
     "name": "stderr",
     "output_type": "stream",
     "text": [
      "Analyzing section 103..\n"
     ]
    },
    {
     "name": "stdout",
     "output_type": "stream",
     "text": [
      "361 patches in DC\n",
      "100 patches in Sp5I\n",
      "277 patches in VCP\n",
      "508 patches in VCA\n",
      "130 patches in 8n\n",
      "852 patches in DC_surround_noclass\n",
      "49 patches in DC_surround_VCP\n",
      "53 patches in DC_surround_VCA\n",
      "540 patches in Sp5I_surround_noclass\n",
      "608 patches in VCP_surround_noclass\n",
      "120 patches in VCP_surround_VCA\n",
      "75 patches in VCP_surround_DC\n",
      "1077 patches in VCA_surround_noclass\n",
      "102 patches in VCA_surround_VCP\n",
      "98 patches in VCA_surround_8n\n",
      "39 patches in VCA_surround_DC\n",
      "391 patches in 8n_surround_noclass\n",
      "219 patches in 8n_surround_VCA\n",
      "26269 patches in bg\n",
      "177 patches in Sp5I\n",
      "146 patches in 8n\n"
     ]
    },
    {
     "name": "stderr",
     "output_type": "stream",
     "text": [
      "Analyzing section 104..\n"
     ]
    },
    {
     "name": "stdout",
     "output_type": "stream",
     "text": [
      "361 patches in VCA\n",
      "343 patches in DC\n",
      "240 patches in VCP\n",
      "631 patches in Sp5I_surround_noclass\n",
      "451 patches in 8n_surround_noclass\n",
      "173 patches in 8n_surround_VCA\n",
      "1167 patches in VCA_surround_noclass\n",
      "67 patches in VCA_surround_VCP\n",
      "107 patches in VCA_surround_8n\n",
      "38 patches in VCA_surround_DC\n",
      "855 patches in DC_surround_noclass\n",
      "61 patches in DC_surround_VCP\n",
      "57 patches in DC_surround_VCA\n",
      "637 patches in VCP_surround_noclass\n",
      "59 patches in VCP_surround_VCA\n",
      "109 patches in VCP_surround_DC\n",
      "26140 patches in bg\n"
     ]
    },
    {
     "name": "stderr",
     "output_type": "stream",
     "text": [
      "Analyzing section 105..\n"
     ]
    },
    {
     "name": "stdout",
     "output_type": "stream",
     "text": [
      "339 patches in VCA\n",
      "270 patches in Sp5I\n",
      "353 patches in VCP\n",
      "152 patches in 8n\n",
      "342 patches in DC\n",
      "1077 patches in VCA_surround_noclass\n",
      "105 patches in VCA_surround_VCP\n",
      "130 patches in VCA_surround_8n\n",
      "46 patches in VCA_surround_DC\n",
      "708 patches in Sp5I_surround_noclass\n",
      "744 patches in VCP_surround_noclass\n",
      "83 patches in VCP_surround_VCA\n",
      "116 patches in VCP_surround_DC\n",
      "435 patches in 8n_surround_noclass\n",
      "207 patches in 8n_surround_VCA\n",
      "877 patches in DC_surround_noclass\n",
      "65 patches in DC_surround_VCP\n",
      "68 patches in DC_surround_VCA\n",
      "25789 patches in bg\n",
      "19 patches in Sp5O\n",
      "301 patches in DC\n",
      "165 patches in 8n\n",
      "230 patches in VCA\n"
     ]
    },
    {
     "name": "stderr",
     "output_type": "stream",
     "text": [
      "Analyzing section 106..\n"
     ]
    },
    {
     "name": "stdout",
     "output_type": "stream",
     "text": [
      "301 patches in Sp5I\n",
      "329 patches in Sp5O_surround_noclass\n",
      "133 patches in Sp5O_surround_Sp5I\n",
      "899 patches in DC_surround_noclass\n",
      "15 patches in DC_surround_VCA\n",
      "502 patches in 8n_surround_noclass\n",
      "178 patches in 8n_surround_VCA\n",
      "928 patches in VCA_surround_noclass\n",
      "154 patches in VCA_surround_8n\n",
      "10 patches in VCA_surround_DC\n",
      "713 patches in Sp5I_surround_noclass\n",
      "19 patches in Sp5I_surround_Sp5O\n",
      "25799 patches in bg\n",
      "156 patches in VCA\n",
      "176 patches in 8n\n"
     ]
    },
    {
     "name": "stderr",
     "output_type": "stream",
     "text": [
      "Analyzing section 107..\n"
     ]
    },
    {
     "name": "stdout",
     "output_type": "stream",
     "text": [
      "334 patches in Sp5I\n",
      "257 patches in DC\n",
      "25 patches in Sp5O\n",
      "732 patches in VCA_surround_noclass\n",
      "172 patches in VCA_surround_8n\n",
      "560 patches in 8n_surround_noclass\n",
      "132 patches in 8n_surround_VCA\n",
      "757 patches in Sp5I_surround_noclass\n",
      "25 patches in Sp5I_surround_Sp5O\n",
      "877 patches in DC_surround_noclass\n",
      "339 patches in Sp5O_surround_noclass\n",
      "135 patches in Sp5O_surround_Sp5I\n",
      "25630 patches in bg\n",
      "192 patches in 8n\n",
      "11 patches in Sp5C\n"
     ]
    },
    {
     "name": "stderr",
     "output_type": "stream",
     "text": [
      "Analyzing section 108..\n"
     ]
    },
    {
     "name": "stdout",
     "output_type": "stream",
     "text": [
      "90 patches in VCA\n",
      "46 patches in Sp5O\n",
      "217 patches in DC\n",
      "379 patches in Sp5I\n",
      "601 patches in 8n_surround_noclass\n",
      "88 patches in 8n_surround_VCA\n",
      "325 patches in Sp5C_surround_noclass\n",
      "135 patches in Sp5C_surround_Sp5I\n",
      "515 patches in VCA_surround_noclass\n",
      "161 patches in VCA_surround_8n\n",
      "377 patches in Sp5O_surround_noclass\n",
      "149 patches in Sp5O_surround_Sp5I\n",
      "823 patches in DC_surround_noclass\n",
      "730 patches in Sp5I_surround_noclass\n",
      "46 patches in Sp5I_surround_Sp5O\n",
      "11 patches in Sp5I_surround_Sp5C\n",
      "25466 patches in bg\n",
      "47 patches in VCA\n",
      "23 patches in Sp5C\n",
      "189 patches in DC\n",
      "66 patches in Sp5O\n",
      "412 patches in Sp5I\n"
     ]
    },
    {
     "name": "stderr",
     "output_type": "stream",
     "text": [
      "Analyzing section 109..\n"
     ]
    },
    {
     "name": "stdout",
     "output_type": "stream",
     "text": [
      "199 patches in 8n\n",
      "394 patches in VCA_surround_noclass\n",
      "105 patches in VCA_surround_8n\n",
      "342 patches in Sp5C_surround_noclass\n",
      "138 patches in Sp5C_surround_Sp5I\n",
      "768 patches in DC_surround_noclass\n",
      "403 patches in Sp5O_surround_noclass\n",
      "158 patches in Sp5O_surround_Sp5I\n",
      "791 patches in Sp5I_surround_noclass\n",
      "66 patches in Sp5I_surround_Sp5O\n",
      "23 patches in Sp5I_surround_Sp5C\n",
      "658 patches in 8n_surround_noclass\n",
      "47 patches in 8n_surround_VCA\n",
      "25121 patches in bg\n",
      "22 patches in VCA\n",
      "157 patches in DC\n",
      "33 patches in Sp5C\n"
     ]
    },
    {
     "name": "stderr",
     "output_type": "stream",
     "text": [
      "Analyzing section 110..\n"
     ]
    },
    {
     "name": "stdout",
     "output_type": "stream",
     "text": [
      "453 patches in Sp5I\n",
      "88 patches in Sp5O\n",
      "224 patches in 8n\n",
      "312 patches in VCA_surround_noclass\n",
      "64 patches in VCA_surround_8n\n",
      "765 patches in DC_surround_noclass\n",
      "375 patches in Sp5C_surround_noclass\n",
      "143 patches in Sp5C_surround_Sp5I\n",
      "755 patches in Sp5I_surround_noclass\n",
      "88 patches in Sp5I_surround_Sp5O\n",
      "33 patches in Sp5I_surround_Sp5C\n",
      "429 patches in Sp5O_surround_noclass\n",
      "171 patches in Sp5O_surround_Sp5I\n",
      "697 patches in 8n_surround_noclass\n",
      "22 patches in 8n_surround_VCA\n",
      "24770 patches in bg\n",
      "144 patches in DC\n",
      "125 patches in Sp5O\n",
      "56 patches in Sp5C\n"
     ]
    },
    {
     "name": "stderr",
     "output_type": "stream",
     "text": [
      "Analyzing section 111..\n"
     ]
    },
    {
     "name": "stdout",
     "output_type": "stream",
     "text": [
      "184 patches in 8n\n",
      "505 patches in Sp5I\n",
      "710 patches in DC_surround_noclass\n",
      "495 patches in Sp5O_surround_noclass\n",
      "197 patches in Sp5O_surround_Sp5I\n",
      "418 patches in Sp5C_surround_noclass\n",
      "155 patches in Sp5C_surround_Sp5I\n",
      "677 patches in 8n_surround_noclass\n",
      "735 patches in Sp5I_surround_noclass\n",
      "122 patches in Sp5I_surround_Sp5O\n",
      "56 patches in Sp5I_surround_Sp5C\n",
      "24646 patches in bg\n",
      "533 patches in Sp5I\n",
      "131 patches in DC\n",
      "79 patches in Sp5C\n"
     ]
    },
    {
     "name": "stderr",
     "output_type": "stream",
     "text": [
      "Analyzing section 112..\n"
     ]
    },
    {
     "name": "stdout",
     "output_type": "stream",
     "text": [
      "169 patches in Sp5O\n",
      "157 patches in 8n\n",
      "704 patches in Sp5I_surround_noclass\n",
      "157 patches in Sp5I_surround_Sp5O\n",
      "79 patches in Sp5I_surround_Sp5C\n",
      "698 patches in DC_surround_noclass\n",
      "429 patches in Sp5C_surround_noclass\n",
      "157 patches in Sp5C_surround_Sp5I\n",
      "490 patches in Sp5O_surround_noclass\n",
      "221 patches in Sp5O_surround_Sp5I\n",
      "652 patches in 8n_surround_noclass\n",
      "25022 patches in bg\n",
      "215 patches in Sp5O\n",
      "133 patches in 8n\n"
     ]
    },
    {
     "name": "stderr",
     "output_type": "stream",
     "text": [
      "Analyzing section 113..\n"
     ]
    },
    {
     "name": "stdout",
     "output_type": "stream",
     "text": [
      "81 patches in Pr5DM\n",
      "122 patches in Sp5C\n",
      "122 patches in DC\n",
      "585 patches in Sp5I\n",
      "525 patches in Sp5O_surround_noclass\n",
      "227 patches in Sp5O_surround_Sp5I\n",
      "607 patches in 8n_surround_noclass\n",
      "19 patches in 8n_surround_Pr5DM\n",
      "549 patches in Pr5DM_surround_noclass\n",
      "17 patches in Pr5DM_surround_8n\n",
      "437 patches in Sp5C_surround_noclass\n",
      "166 patches in Sp5C_surround_Sp5I\n",
      "659 patches in DC_surround_noclass\n",
      "691 patches in Sp5I_surround_noclass\n",
      "176 patches in Sp5I_surround_Sp5O\n",
      "106 patches in Sp5I_surround_Sp5C\n",
      "24989 patches in bg\n",
      "183 patches in Sp5C\n",
      "111 patches in 8n\n",
      "621 patches in Sp5I\n",
      "258 patches in Sp5O\n"
     ]
    },
    {
     "name": "stderr",
     "output_type": "stream",
     "text": [
      "Analyzing section 114..\n"
     ]
    },
    {
     "name": "stdout",
     "output_type": "stream",
     "text": [
      "127 patches in Pr5DM\n",
      "113 patches in DC\n",
      "453 patches in Sp5C_surround_noclass\n",
      "190 patches in Sp5C_surround_Sp5I\n",
      "571 patches in 8n_surround_noclass\n",
      "22 patches in 8n_surround_Pr5DM\n",
      "694 patches in Sp5I_surround_noclass\n",
      "186 patches in Sp5I_surround_Sp5O\n",
      "143 patches in Sp5I_surround_Sp5C\n",
      "589 patches in Sp5O_surround_noclass\n",
      "229 patches in Sp5O_surround_Sp5I\n",
      "613 patches in Pr5DM_surround_noclass\n",
      "17 patches in Pr5DM_surround_8n\n",
      "657 patches in DC_surround_noclass\n",
      "24848 patches in bg\n"
     ]
    },
    {
     "name": "stderr",
     "output_type": "stream",
     "text": [
      "Analyzing section 115..\n"
     ]
    },
    {
     "name": "stdout",
     "output_type": "stream",
     "text": [
      "205 patches in Pr5DM\n",
      "104 patches in DC\n",
      "281 patches in Sp5C\n",
      "96 patches in 8n\n",
      "676 patches in Sp5I\n",
      "326 patches in Sp5O\n",
      "709 patches in Pr5DM_surround_noclass\n",
      "19 patches in Pr5DM_surround_8n\n",
      "630 patches in DC_surround_noclass\n",
      "469 patches in Sp5C_surround_noclass\n",
      "237 patches in Sp5C_surround_Sp5I\n",
      "552 patches in 8n_surround_noclass\n",
      "34 patches in 8n_surround_Pr5DM\n",
      "726 patches in Sp5I_surround_noclass\n",
      "206 patches in Sp5I_surround_Sp5O\n",
      "194 patches in Sp5I_surround_Sp5C\n",
      "669 patches in Sp5O_surround_noclass\n",
      "230 patches in Sp5O_surround_Sp5I\n",
      "23910 patches in bg\n",
      "694 patches in Sp5I\n",
      "99 patches in DC\n"
     ]
    },
    {
     "name": "stderr",
     "output_type": "stream",
     "text": [
      "Analyzing section 116..\n"
     ]
    },
    {
     "name": "stdout",
     "output_type": "stream",
     "text": [
      "315 patches in Sp5C\n",
      "87 patches in 8n\n",
      "293 patches in Pr5DM\n",
      "462 patches in Sp5O\n",
      "741 patches in Sp5I_surround_noclass\n",
      "173 patches in Sp5I_surround_Sp5O\n",
      "199 patches in Sp5I_surround_Sp5C\n",
      "638 patches in DC_surround_noclass\n",
      "520 patches in Sp5C_surround_noclass\n",
      "232 patches in Sp5C_surround_Sp5I\n",
      "514 patches in 8n_surround_noclass\n",
      "45 patches in 8n_surround_Pr5DM\n",
      "797 patches in Pr5DM_surround_noclass\n",
      "27 patches in Pr5DM_surround_8n\n",
      "763 patches in Sp5O_surround_noclass\n",
      "223 patches in Sp5O_surround_Sp5I\n",
      "23671 patches in bg\n",
      "318 patches in Pr5DM\n",
      "86 patches in 8n\n",
      "721 patches in Sp5I\n"
     ]
    },
    {
     "name": "stderr",
     "output_type": "stream",
     "text": [
      "Analyzing section 117..\n"
     ]
    },
    {
     "name": "stdout",
     "output_type": "stream",
     "text": [
      "612 patches in Sp5O\n",
      "360 patches in Sp5C\n",
      "90 patches in DC\n",
      "823 patches in Pr5DM_surround_noclass\n",
      "23 patches in Pr5DM_surround_8n\n",
      "515 patches in 8n_surround_noclass\n",
      "39 patches in 8n_surround_Pr5DM\n",
      "726 patches in Sp5I_surround_noclass\n",
      "175 patches in Sp5I_surround_Sp5O\n",
      "219 patches in Sp5I_surround_Sp5C\n",
      "884 patches in Sp5O_surround_noclass\n",
      "237 patches in Sp5O_surround_Sp5I\n",
      "497 patches in Sp5C_surround_noclass\n",
      "249 patches in Sp5C_surround_Sp5I\n",
      "599 patches in DC_surround_noclass\n",
      "23724 patches in bg\n",
      "918 patches in Sp5O\n"
     ]
    },
    {
     "name": "stderr",
     "output_type": "stream",
     "text": [
      "Analyzing section 118..\n",
      "Analyzing section 119..\n"
     ]
    },
    {
     "name": "stdout",
     "output_type": "stream",
     "text": [
      "768 patches in Sp5I\n",
      "463 patches in Sp5C\n",
      "81 patches in DC\n",
      "81 patches in 8n\n",
      "404 patches in Pr5DM\n",
      "1268 patches in Sp5O_surround_noclass\n",
      "257 patches in Sp5O_surround_Sp5I\n",
      "704 patches in Sp5I_surround_noclass\n",
      "203 patches in Sp5I_surround_Sp5O\n",
      "236 patches in Sp5I_surround_Sp5C\n",
      "518 patches in Sp5C_surround_noclass\n",
      "270 patches in Sp5C_surround_Sp5I\n",
      "594 patches in DC_surround_noclass\n",
      "509 patches in 8n_surround_noclass\n",
      "40 patches in 8n_surround_Pr5DM\n",
      "893 patches in Pr5DM_surround_noclass\n",
      "20 patches in Pr5DM_surround_8n\n",
      "23601 patches in bg\n"
     ]
    },
    {
     "name": "stderr",
     "output_type": "stream",
     "text": [
      "Analyzing section 120..\n"
     ]
    },
    {
     "name": "stdout",
     "output_type": "stream",
     "text": [
      "447 patches in Pr5DM\n",
      "804 patches in Sp5I\n",
      "535 patches in Sp5C\n",
      "83 patches in DC\n",
      "79 patches in 8n\n",
      "1090 patches in Sp5O\n",
      "931 patches in Pr5DM_surround_noclass\n",
      "3 patches in Pr5DM_surround_Sp5O\n",
      "24 patches in Pr5DM_surround_8n\n",
      "715 patches in Sp5I_surround_noclass\n",
      "235 patches in Sp5I_surround_Sp5O\n",
      "256 patches in Sp5I_surround_Sp5C\n",
      "529 patches in Sp5C_surround_noclass\n",
      "294 patches in Sp5C_surround_Sp5I\n",
      "602 patches in DC_surround_noclass\n",
      "503 patches in 8n_surround_noclass\n",
      "42 patches in 8n_surround_Pr5DM\n",
      "1549 patches in Sp5O_surround_noclass\n",
      "279 patches in Sp5O_surround_Sp5I\n",
      "3 patches in Sp5O_surround_Pr5DM\n",
      "23247 patches in bg\n",
      "1257 patches in Sp5O\n",
      "71 patches in DC\n"
     ]
    },
    {
     "name": "stderr",
     "output_type": "stream",
     "text": [
      "Analyzing section 121..\n"
     ]
    },
    {
     "name": "stdout",
     "output_type": "stream",
     "text": [
      "502 patches in Pr5DM\n",
      "443 patches in Pr5VL\n",
      "719 patches in Sp5I\n",
      "645 patches in Sp5C\n",
      "78 patches in 8n\n",
      "1323 patches in Sp5O_surround_noclass\n",
      "71 patches in Sp5O_surround_Pr5VL\n",
      "294 patches in Sp5O_surround_Sp5I\n",
      "573 patches in DC_surround_noclass\n",
      "770 patches in Pr5DM_surround_noclass\n",
      "210 patches in Pr5DM_surround_Pr5VL\n",
      "23 patches in Pr5DM_surround_8n\n",
      "903 patches in Pr5VL_surround_noclass\n",
      "86 patches in Pr5VL_surround_Sp5O\n",
      "161 patches in Pr5VL_surround_Pr5DM\n",
      "666 patches in Sp5I_surround_noclass\n",
      "254 patches in Sp5I_surround_Sp5O\n",
      "277 patches in Sp5I_surround_Sp5C\n",
      "535 patches in Sp5C_surround_noclass\n",
      "306 patches in Sp5C_surround_Sp5I\n",
      "494 patches in 8n_surround_noclass\n",
      "45 patches in 8n_surround_Pr5DM\n",
      "23202 patches in bg\n",
      "80 patches in 8n\n",
      "57 patches in DC\n"
     ]
    },
    {
     "name": "stderr",
     "output_type": "stream",
     "text": [
      "Analyzing section 122..\n"
     ]
    },
    {
     "name": "stdout",
     "output_type": "stream",
     "text": [
      "698 patches in Sp5C\n",
      "1355 patches in Sp5O\n",
      "700 patches in Sp5I\n",
      "533 patches in 8n_surround_noclass\n",
      "556 patches in DC_surround_noclass\n",
      "671 patches in Sp5C_surround_noclass\n",
      "300 patches in Sp5C_surround_Sp5I\n",
      "1398 patches in Sp5O_surround_noclass\n",
      "289 patches in Sp5O_surround_Sp5I\n",
      "647 patches in Sp5I_surround_noclass\n",
      "256 patches in Sp5I_surround_Sp5O\n",
      "276 patches in Sp5I_surround_Sp5C\n",
      "22096 patches in bg\n",
      "80 patches in 8n\n"
     ]
    },
    {
     "name": "stderr",
     "output_type": "stream",
     "text": [
      "Analyzing section 123..\n"
     ]
    },
    {
     "name": "stdout",
     "output_type": "stream",
     "text": [
      "1442 patches in Sp5O\n",
      "693 patches in Sp5I\n",
      "759 patches in Sp5C\n",
      "54 patches in DC\n",
      "531 patches in 8n_surround_noclass\n",
      "1423 patches in Sp5O_surround_noclass\n",
      "292 patches in Sp5O_surround_Sp5I\n",
      "627 patches in Sp5I_surround_noclass\n",
      "258 patches in Sp5I_surround_Sp5O\n",
      "283 patches in Sp5I_surround_Sp5C\n",
      "583 patches in Sp5C_surround_noclass\n",
      "300 patches in Sp5C_surround_Sp5I\n",
      "539 patches in DC_surround_noclass\n",
      "22975 patches in bg\n",
      "1547 patches in Sp5O\n",
      "78 patches in 8n\n",
      "43 patches in DC\n"
     ]
    },
    {
     "name": "stderr",
     "output_type": "stream",
     "text": [
      "Analyzing section 124..\n"
     ]
    },
    {
     "name": "stdout",
     "output_type": "stream",
     "text": [
      "827 patches in Sp5C\n",
      "684 patches in Sp5I\n",
      "1443 patches in Sp5O_surround_noclass\n",
      "297 patches in Sp5O_surround_Sp5I\n",
      "529 patches in 8n_surround_noclass\n",
      "520 patches in DC_surround_noclass\n",
      "622 patches in Sp5C_surround_noclass\n",
      "302 patches in Sp5C_surround_Sp5I\n",
      "611 patches in Sp5I_surround_noclass\n",
      "272 patches in Sp5I_surround_Sp5O\n",
      "285 patches in Sp5I_surround_Sp5C\n",
      "22752 patches in bg\n",
      "75 patches in 8n\n",
      "917 patches in Sp5C\n",
      "1668 patches in Sp5O\n",
      "158 patches in VLL\n"
     ]
    },
    {
     "name": "stderr",
     "output_type": "stream",
     "text": [
      "Analyzing section 125..\n"
     ]
    },
    {
     "name": "stdout",
     "output_type": "stream",
     "text": [
      "683 patches in Sp5I\n",
      "52 patches in PBG\n",
      "47 patches in X\n",
      "40 patches in DC\n",
      "510 patches in 8n_surround_noclass\n",
      "19 patches in 8n_surround_X\n",
      "599 patches in Sp5C_surround_noclass\n",
      "316 patches in Sp5C_surround_Sp5I\n",
      "1474 patches in Sp5O_surround_noclass\n",
      "300 patches in Sp5O_surround_Sp5I\n",
      "674 patches in VLL_surround_noclass\n",
      "628 patches in Sp5I_surround_noclass\n",
      "278 patches in Sp5I_surround_Sp5O\n",
      "295 patches in Sp5I_surround_Sp5C\n",
      "540 patches in PBG_surround_noclass\n",
      "582 patches in X_surround_noclass\n",
      "58 patches in X_surround_8n\n",
      "536 patches in DC_surround_noclass\n",
      "22621 patches in bg\n",
      "1770 patches in Sp5O\n",
      "68 patches in SNR\n"
     ]
    },
    {
     "name": "stderr",
     "output_type": "stream",
     "text": [
      "Analyzing section 126..\n"
     ]
    },
    {
     "name": "stdout",
     "output_type": "stream",
     "text": [
      "49 patches in PBG\n",
      "898 patches in Sp5C\n",
      "746 patches in Sp5I\n",
      "149 patches in VLL\n",
      "73 patches in 8n\n",
      "32 patches in DC\n",
      "1501 patches in Sp5O_surround_noclass\n",
      "4 patches in Sp5O_surround_8n\n",
      "299 patches in Sp5O_surround_Sp5I\n",
      "660 patches in SNR_surround_noclass\n",
      "510 patches in PBG_surround_noclass\n",
      "669 patches in Sp5C_surround_noclass\n",
      "308 patches in Sp5C_surround_Sp5I\n",
      "637 patches in Sp5I_surround_noclass\n",
      "286 patches in Sp5I_surround_Sp5O\n",
      "290 patches in Sp5I_surround_Sp5C\n",
      "670 patches in VLL_surround_noclass\n",
      "517 patches in 8n_surround_noclass\n",
      "6 patches in 8n_surround_Sp5O\n",
      "495 patches in DC_surround_noclass\n",
      "22547 patches in bg\n"
     ]
    },
    {
     "name": "stderr",
     "output_type": "stream",
     "text": [
      "Analyzing section 127..\n"
     ]
    },
    {
     "name": "stdout",
     "output_type": "stream",
     "text": [
      "889 patches in Sp5C\n",
      "78 patches in 8n\n",
      "1895 patches in Sp5O\n",
      "50 patches in PBG\n",
      "25 patches in DC\n",
      "834 patches in Sp5I\n",
      "148 patches in VLL\n",
      "124 patches in SNR\n",
      "635 patches in Sp5C_surround_noclass\n",
      "294 patches in Sp5C_surround_Sp5I\n",
      "514 patches in 8n_surround_noclass\n",
      "26 patches in 8n_surround_Sp5O\n",
      "1518 patches in Sp5O_surround_noclass\n",
      "17 patches in Sp5O_surround_8n\n",
      "300 patches in Sp5O_surround_Sp5I\n",
      "511 patches in PBG_surround_noclass\n",
      "465 patches in DC_surround_noclass\n",
      "659 patches in Sp5I_surround_noclass\n",
      "288 patches in Sp5I_surround_Sp5O\n",
      "278 patches in Sp5I_surround_Sp5C\n",
      "670 patches in VLL_surround_noclass\n",
      "740 patches in SNR_surround_noclass\n",
      "22407 patches in bg\n",
      "911 patches in Sp5I\n",
      "193 patches in SNR\n"
     ]
    },
    {
     "name": "stderr",
     "output_type": "stream",
     "text": [
      "Analyzing section 128..\n"
     ]
    },
    {
     "name": "stdout",
     "output_type": "stream",
     "text": [
      "1997 patches in Sp5O\n",
      "49 patches in PBG\n",
      "883 patches in Sp5C\n",
      "21 patches in DC\n",
      "145 patches in VLL\n",
      "708 patches in Sp5I_surround_noclass\n",
      "291 patches in Sp5I_surround_Sp5O\n",
      "274 patches in Sp5I_surround_Sp5C\n",
      "899 patches in SNR_surround_noclass\n",
      "1572 patches in Sp5O_surround_noclass\n",
      "306 patches in Sp5O_surround_Sp5I\n",
      "498 patches in PBG_surround_noclass\n",
      "689 patches in Sp5C_surround_noclass\n",
      "296 patches in Sp5C_surround_Sp5I\n",
      "447 patches in DC_surround_noclass\n",
      "677 patches in VLL_surround_noclass\n",
      "22123 patches in bg\n",
      "16 patches in DC\n",
      "216 patches in SNR\n",
      "2124 patches in Sp5O\n"
     ]
    },
    {
     "name": "stderr",
     "output_type": "stream",
     "text": [
      "Analyzing section 129..\n"
     ]
    },
    {
     "name": "stdout",
     "output_type": "stream",
     "text": [
      "996 patches in Sp5I\n",
      "148 patches in VLL\n",
      "51 patches in PBG\n",
      "869 patches in Sp5C\n",
      "426 patches in DC_surround_noclass\n",
      "880 patches in SNR_surround_noclass\n",
      "1616 patches in Sp5O_surround_noclass\n",
      "311 patches in Sp5O_surround_Sp5I\n",
      "762 patches in Sp5I_surround_noclass\n",
      "301 patches in Sp5I_surround_Sp5O\n",
      "261 patches in Sp5I_surround_Sp5C\n",
      "678 patches in VLL_surround_noclass\n",
      "509 patches in PBG_surround_noclass\n",
      "656 patches in Sp5C_surround_noclass\n",
      "280 patches in Sp5C_surround_Sp5I\n",
      "22143 patches in bg\n",
      "241 patches in SNR\n",
      "51 patches in PBG\n",
      "868 patches in Sp5C\n"
     ]
    },
    {
     "name": "stderr",
     "output_type": "stream",
     "text": [
      "Analyzing section 130..\n"
     ]
    },
    {
     "name": "stdout",
     "output_type": "stream",
     "text": [
      "2249 patches in Sp5O\n",
      "152 patches in VLL\n",
      "1082 patches in Sp5I\n",
      "15 patches in DC\n",
      "904 patches in SNR_surround_noclass\n",
      "505 patches in PBG_surround_noclass\n",
      "799 patches in Sp5C_surround_noclass\n",
      "290 patches in Sp5C_surround_Sp5I\n",
      "1673 patches in Sp5O_surround_noclass\n",
      "326 patches in Sp5O_surround_Sp5I\n",
      "678 patches in VLL_surround_noclass\n",
      "825 patches in Sp5I_surround_noclass\n",
      "314 patches in Sp5I_surround_Sp5O\n",
      "272 patches in Sp5I_surround_Sp5C\n",
      "419 patches in DC_surround_noclass\n",
      "21785 patches in bg\n",
      "12 patches in DC\n"
     ]
    },
    {
     "name": "stderr",
     "output_type": "stream",
     "text": [
      "Analyzing section 131..\n"
     ]
    },
    {
     "name": "stdout",
     "output_type": "stream",
     "text": [
      "854 patches in Sp5C\n",
      "48 patches in PBG\n",
      "267 patches in SNR\n",
      "150 patches in VLL\n",
      "387 patches in DC_surround_noclass\n",
      "1124 patches in Sp5C_surround_noclass\n",
      "512 patches in PBG_surround_noclass\n",
      "922 patches in SNR_surround_noclass\n",
      "689 patches in VLL_surround_noclass\n",
      "21829 patches in bg\n"
     ]
    },
    {
     "name": "stderr",
     "output_type": "stream",
     "text": [
      "Analyzing section 132..\n"
     ]
    },
    {
     "name": "stdout",
     "output_type": "stream",
     "text": [
      "295 patches in SNR\n",
      "847 patches in Sp5C\n",
      "151 patches in VLL\n",
      "46 patches in PBG\n",
      "6 patches in DC\n",
      "943 patches in SNR_surround_noclass\n",
      "1164 patches in Sp5C_surround_noclass\n",
      "684 patches in VLL_surround_noclass\n",
      "512 patches in PBG_surround_noclass\n",
      "376 patches in DC_surround_noclass\n",
      "21455 patches in bg\n",
      "5 patches in DC\n",
      "52 patches in PBG\n",
      "320 patches in SNR\n",
      "152 patches in VLL\n"
     ]
    },
    {
     "name": "stderr",
     "output_type": "stream",
     "text": [
      "Analyzing section 133..\n"
     ]
    },
    {
     "name": "stdout",
     "output_type": "stream",
     "text": [
      "831 patches in Sp5C\n",
      "363 patches in DC_surround_noclass\n",
      "511 patches in PBG_surround_noclass\n",
      "944 patches in SNR_surround_noclass\n",
      "684 patches in VLL_surround_noclass\n",
      "1349 patches in Sp5C_surround_noclass\n",
      "9672 patches in bg\n"
     ]
    },
    {
     "name": "stderr",
     "output_type": "stream",
     "text": [
      "Analyzing section 134..\n"
     ]
    },
    {
     "name": "stdout",
     "output_type": "stream",
     "text": [
      "823 patches in Sp5C\n",
      "36 patches in LPB\n",
      "354 patches in SNR\n",
      "58 patches in PBG\n",
      "4 patches in DC\n",
      "160 patches in VLL\n",
      "41 patches in 7n\n",
      "1166 patches in Sp5C_surround_noclass\n",
      "455 patches in LPB_surround_noclass\n",
      "973 patches in SNR_surround_noclass\n",
      "532 patches in PBG_surround_noclass\n",
      "356 patches in DC_surround_noclass\n",
      "700 patches in VLL_surround_noclass\n",
      "495 patches in 7n_surround_noclass\n",
      "21259 patches in bg\n",
      "32 patches in LPB\n",
      "3 patches in DC\n"
     ]
    },
    {
     "name": "stderr",
     "output_type": "stream",
     "text": [
      "Analyzing section 135..\n"
     ]
    },
    {
     "name": "stdout",
     "output_type": "stream",
     "text": [
      "811 patches in Sp5C\n",
      "380 patches in SNR\n",
      "48 patches in 7n\n",
      "34 patches in PBG\n",
      "156 patches in VLL\n",
      "419 patches in LPB_surround_noclass\n",
      "367 patches in DC_surround_noclass\n",
      "1178 patches in Sp5C_surround_noclass\n",
      "995 patches in SNR_surround_noclass\n",
      "486 patches in 7n_surround_noclass\n",
      "460 patches in PBG_surround_noclass\n",
      "683 patches in VLL_surround_noclass\n",
      "21059 patches in bg\n"
     ]
    },
    {
     "name": "stderr",
     "output_type": "stream",
     "text": [
      "Analyzing section 136..\n"
     ]
    },
    {
     "name": "stdout",
     "output_type": "stream",
     "text": [
      "42 patches in SuVe\n",
      "26 patches in LPB\n",
      "828 patches in IC\n",
      "801 patches in Sp5C\n",
      "54 patches in 7n\n",
      "264 patches in LVe\n",
      "165 patches in VLL\n",
      "33 patches in SC\n",
      "88 patches in 5N\n",
      "411 patches in SNR\n",
      "18 patches in PBG\n",
      "506 patches in SuVe_surround_noclass\n",
      "114 patches in SuVe_surround_LVe\n",
      "409 patches in LPB_surround_noclass\n",
      "1090 patches in IC_surround_noclass\n",
      "1145 patches in Sp5C_surround_noclass\n",
      "541 patches in 7n_surround_noclass\n",
      "806 patches in LVe_surround_noclass\n",
      "42 patches in LVe_surround_SuVe\n",
      "692 patches in VLL_surround_noclass\n",
      "473 patches in SC_surround_noclass\n",
      "548 patches in 5N_surround_noclass\n",
      "1015 patches in SNR_surround_noclass\n",
      "405 patches in PBG_surround_noclass\n",
      "20919 patches in bg\n",
      "61 patches in 7n\n",
      "66 patches in SuVe\n",
      "184 patches in VLL\n",
      "28 patches in LPB\n"
     ]
    },
    {
     "name": "stderr",
     "output_type": "stream",
     "text": [
      "Analyzing section 137..\n"
     ]
    },
    {
     "name": "stdout",
     "output_type": "stream",
     "text": [
      "924 patches in IC\n",
      "792 patches in Sp5C\n",
      "274 patches in LVe\n",
      "57 patches in SC\n",
      "97 patches in 5N\n",
      "443 patches in SNR\n",
      "11 patches in PBG\n",
      "538 patches in 7n_surround_noclass\n",
      "509 patches in SuVe_surround_noclass\n",
      "111 patches in SuVe_surround_LVe\n",
      "717 patches in VLL_surround_noclass\n",
      "426 patches in LPB_surround_noclass\n",
      "1161 patches in IC_surround_noclass\n",
      "1204 patches in Sp5C_surround_noclass\n",
      "768 patches in LVe_surround_noclass\n",
      "66 patches in LVe_surround_SuVe\n",
      "541 patches in SC_surround_noclass\n",
      "556 patches in 5N_surround_noclass\n",
      "1034 patches in SNR_surround_noclass\n",
      "376 patches in PBG_surround_noclass\n",
      "20638 patches in bg\n",
      "107 patches in SC\n",
      "14 patches in PBG\n",
      "293 patches in LVe\n",
      "97 patches in SuVe\n"
     ]
    },
    {
     "name": "stderr",
     "output_type": "stream",
     "text": [
      "Analyzing section 138..\n"
     ]
    },
    {
     "name": "stdout",
     "output_type": "stream",
     "text": [
      "178 patches in VLL\n",
      "61 patches in 7n\n",
      "86 patches in LPB\n",
      "1075 patches in IC\n",
      "110 patches in 5N\n",
      "475 patches in SNR\n",
      "778 patches in Sp5C\n",
      "649 patches in SC_surround_noclass\n",
      "371 patches in PBG_surround_noclass\n",
      "754 patches in LVe_surround_noclass\n",
      "96 patches in LVe_surround_SuVe\n",
      "576 patches in SuVe_surround_noclass\n",
      "120 patches in SuVe_surround_LVe\n",
      "712 patches in VLL_surround_noclass\n",
      "539 patches in 7n_surround_noclass\n",
      "532 patches in LPB_surround_noclass\n",
      "1274 patches in IC_surround_noclass\n",
      "588 patches in 5N_surround_noclass\n",
      "1058 patches in SNR_surround_noclass\n",
      "1199 patches in Sp5C_surround_noclass\n",
      "20605 patches in bg\n",
      "307 patches in LVe\n"
     ]
    },
    {
     "name": "stderr",
     "output_type": "stream",
     "text": [
      "Analyzing section 139..\n"
     ]
    },
    {
     "name": "stdout",
     "output_type": "stream",
     "text": [
      "1195 patches in IC\n",
      "77 patches in LPB\n",
      "40 patches in RR\n",
      "70 patches in 7n\n",
      "157 patches in SC\n",
      "129 patches in SuVe\n",
      "768 patches in Sp5C\n",
      "190 patches in VLL\n",
      "127 patches in 5N\n",
      "512 patches in SNR\n",
      "764 patches in LVe_surround_noclass\n",
      "108 patches in LVe_surround_SuVe\n",
      "1205 patches in IC_surround_noclass\n",
      "521 patches in LPB_surround_noclass\n",
      "479 patches in RR_surround_noclass\n",
      "542 patches in 7n_surround_noclass\n",
      "726 patches in SC_surround_noclass\n",
      "615 patches in SuVe_surround_noclass\n",
      "122 patches in SuVe_surround_LVe\n",
      "977 patches in Sp5C_surround_noclass\n",
      "720 patches in VLL_surround_noclass\n",
      "611 patches in 5N_surround_noclass\n",
      "1075 patches in SNR_surround_noclass\n",
      "21195 patches in bg\n",
      "1338 patches in IC\n",
      "228 patches in SC\n"
     ]
    },
    {
     "name": "stderr",
     "output_type": "stream",
     "text": [
      "Analyzing section 140..\n"
     ]
    },
    {
     "name": "stdout",
     "output_type": "stream",
     "text": [
      "203 patches in VLL\n",
      "763 patches in Sp5C\n",
      "551 patches in SNR\n",
      "158 patches in SuVe\n",
      "82 patches in 7n\n",
      "324 patches in LVe\n",
      "149 patches in 5N\n",
      "27 patches in 7N\n",
      "86 patches in LPB\n",
      "1395 patches in IC_surround_noclass\n",
      "16 patches in IC_surround_SC\n",
      "828 patches in SC_surround_noclass\n",
      "12 patches in SC_surround_IC\n",
      "758 patches in VLL_surround_noclass\n",
      "1257 patches in Sp5C_surround_noclass\n",
      "1125 patches in SNR_surround_noclass\n",
      "657 patches in SuVe_surround_noclass\n",
      "123 patches in SuVe_surround_LVe\n",
      "568 patches in 7n_surround_noclass\n",
      "771 patches in LVe_surround_noclass\n",
      "109 patches in LVe_surround_SuVe\n",
      "649 patches in 5N_surround_noclass\n",
      "396 patches in 7N_surround_noclass\n",
      "537 patches in LPB_surround_noclass\n",
      "20532 patches in bg\n",
      "574 patches in SNR\n",
      "252 patches in SC\n",
      "79 patches in 7n\n"
     ]
    },
    {
     "name": "stderr",
     "output_type": "stream",
     "text": [
      "Analyzing section 141..\n"
     ]
    },
    {
     "name": "stdout",
     "output_type": "stream",
     "text": [
      "19 patches in SNC\n",
      "63 patches in LPB\n",
      "176 patches in 5N\n",
      "787 patches in Sp5C\n",
      "200 patches in VLL\n",
      "46 patches in 7N\n",
      "1377 patches in IC\n",
      "215 patches in SuVe\n",
      "93 patches in LRt\n",
      "341 patches in LVe\n",
      "1120 patches in SNR_surround_noclass\n",
      "19 patches in SNR_surround_SNC\n",
      "850 patches in SC_surround_noclass\n",
      "11 patches in SC_surround_IC\n",
      "545 patches in 7n_surround_noclass\n",
      "450 patches in SNC_surround_noclass\n",
      "196 patches in SNC_surround_SNR\n",
      "500 patches in LPB_surround_noclass\n",
      "677 patches in 5N_surround_noclass\n",
      "1218 patches in Sp5C_surround_noclass\n",
      "753 patches in VLL_surround_noclass\n",
      "442 patches in 7N_surround_noclass\n",
      "1386 patches in IC_surround_noclass\n",
      "11 patches in IC_surround_SC\n",
      "747 patches in SuVe_surround_noclass\n",
      "130 patches in SuVe_surround_LVe\n",
      "632 patches in LRt_surround_noclass\n",
      "813 patches in LVe_surround_noclass\n",
      "117 patches in LVe_surround_SuVe\n",
      "20564 patches in bg\n",
      "82 patches in 7n\n"
     ]
    },
    {
     "name": "stderr",
     "output_type": "stream",
     "text": [
      "Analyzing section 142..\n"
     ]
    },
    {
     "name": "stdout",
     "output_type": "stream",
     "text": [
      "1424 patches in IC\n",
      "280 patches in SC\n",
      "806 patches in Sp5C\n",
      "202 patches in 5N\n",
      "74 patches in 7N\n",
      "59 patches in LPB\n",
      "196 patches in VLL\n",
      "28 patches in SNC\n",
      "600 patches in SNR\n",
      "192 patches in SuVe\n",
      "548 patches in 7n_surround_noclass\n",
      "1560 patches in IC_surround_noclass\n",
      "12 patches in IC_surround_SC\n",
      "888 patches in SC_surround_noclass\n",
      "11 patches in SC_surround_IC\n",
      "1287 patches in Sp5C_surround_noclass\n",
      "706 patches in 5N_surround_noclass\n",
      "478 patches in 7N_surround_noclass\n",
      "487 patches in LPB_surround_noclass\n",
      "761 patches in VLL_surround_noclass\n",
      "476 patches in SNC_surround_noclass\n",
      "180 patches in SNC_surround_SNR\n",
      "1141 patches in SNR_surround_noclass\n",
      "28 patches in SNR_surround_SNC\n",
      "837 patches in SuVe_surround_noclass\n",
      "19946 patches in bg\n",
      "49 patches in LPB\n",
      "145 patches in LRt\n"
     ]
    },
    {
     "name": "stderr",
     "output_type": "stream",
     "text": [
      "Analyzing section 143..\n"
     ]
    },
    {
     "name": "stdout",
     "output_type": "stream",
     "text": [
      "329 patches in SC\n",
      "114 patches in 7N\n",
      "82 patches in 7n\n",
      "28 patches in SNC\n",
      "201 patches in VLL\n",
      "832 patches in Sp5C\n",
      "1469 patches in IC\n",
      "244 patches in 5N\n",
      "176 patches in SuVe\n",
      "634 patches in SNR\n",
      "471 patches in LPB_surround_noclass\n",
      "852 patches in LRt_surround_noclass\n",
      "928 patches in SC_surround_noclass\n",
      "9 patches in SC_surround_IC\n",
      "538 patches in 7N_surround_noclass\n",
      "551 patches in 7n_surround_noclass\n",
      "427 patches in SNC_surround_noclass\n",
      "168 patches in SNC_surround_SNR\n",
      "766 patches in VLL_surround_noclass\n",
      "1257 patches in Sp5C_surround_noclass\n",
      "1593 patches in IC_surround_noclass\n",
      "14 patches in IC_surround_SC\n",
      "756 patches in 5N_surround_noclass\n",
      "825 patches in SuVe_surround_noclass\n",
      "1180 patches in SNR_surround_noclass\n",
      "28 patches in SNR_surround_SNC\n",
      "19759 patches in bg\n"
     ]
    },
    {
     "name": "stderr",
     "output_type": "stream",
     "text": [
      "Analyzing section 144..\n"
     ]
    },
    {
     "name": "stdout",
     "output_type": "stream",
     "text": [
      "157 patches in 7N\n",
      "359 patches in SC\n",
      "166 patches in SuVe\n",
      "274 patches in 5N\n",
      "202 patches in VLL\n",
      "42 patches in LPB\n",
      "25 patches in SNC\n",
      "1519 patches in IC\n",
      "849 patches in Sp5C\n",
      "84 patches in 7n\n",
      "660 patches in SNR\n",
      "608 patches in 7N_surround_noclass\n",
      "954 patches in SC_surround_noclass\n",
      "9 patches in SC_surround_IC\n",
      "796 patches in SuVe_surround_noclass\n",
      "787 patches in 5N_surround_noclass\n",
      "775 patches in VLL_surround_noclass\n",
      "454 patches in LPB_surround_noclass\n",
      "430 patches in SNC_surround_noclass\n",
      "176 patches in SNC_surround_SNR\n",
      "1578 patches in IC_surround_noclass\n",
      "13 patches in IC_surround_SC\n",
      "1224 patches in Sp5C_surround_noclass\n",
      "561 patches in 7n_surround_noclass\n",
      "1207 patches in SNR_surround_noclass\n",
      "25 patches in SNR_surround_SNC\n",
      "19648 patches in bg\n"
     ]
    },
    {
     "name": "stderr",
     "output_type": "stream",
     "text": [
      "Analyzing section 145..\n"
     ]
    },
    {
     "name": "stdout",
     "output_type": "stream",
     "text": [
      "1567 patches in IC\n",
      "88 patches in 7n\n",
      "322 patches in 5N\n",
      "403 patches in SC\n",
      "207 patches in 7N\n",
      "880 patches in Sp5C\n",
      "158 patches in SuVe\n",
      "692 patches in SNR\n",
      "203 patches in VLL\n",
      "25 patches in SNC\n",
      "42 patches in LPB\n",
      "1464 patches in IC_surround_noclass\n",
      "10 patches in IC_surround_SC\n",
      "567 patches in 7n_surround_noclass\n",
      "830 patches in 5N_surround_noclass\n",
      "999 patches in SC_surround_noclass\n",
      "8 patches in SC_surround_IC\n",
      "633 patches in 7N_surround_noclass\n",
      "1174 patches in Sp5C_surround_noclass\n",
      "826 patches in SuVe_surround_noclass\n",
      "1249 patches in SNR_surround_noclass\n",
      "25 patches in SNR_surround_SNC\n",
      "774 patches in VLL_surround_noclass\n",
      "416 patches in SNC_surround_noclass\n",
      "173 patches in SNC_surround_SNR\n",
      "448 patches in LPB_surround_noclass\n",
      "20007 patches in bg\n",
      "90 patches in 7n\n",
      "362 patches in 5N\n"
     ]
    },
    {
     "name": "stderr",
     "output_type": "stream",
     "text": [
      "Analyzing section 146..\n"
     ]
    },
    {
     "name": "stdout",
     "output_type": "stream",
     "text": [
      "911 patches in Sp5C\n",
      "445 patches in SC\n",
      "1617 patches in IC\n",
      "28 patches in SNC\n",
      "262 patches in 7N\n",
      "720 patches in SNR\n",
      "202 patches in VLL\n",
      "571 patches in 7n_surround_noclass\n",
      "870 patches in 5N_surround_noclass\n",
      "1180 patches in Sp5C_surround_noclass\n",
      "1030 patches in SC_surround_noclass\n",
      "8 patches in SC_surround_IC\n",
      "1463 patches in IC_surround_noclass\n",
      "12 patches in IC_surround_SC\n",
      "400 patches in SNC_surround_noclass\n",
      "179 patches in SNC_surround_SNR\n",
      "706 patches in 7N_surround_noclass\n",
      "1283 patches in SNR_surround_noclass\n",
      "28 patches in SNR_surround_SNC\n",
      "792 patches in VLL_surround_noclass\n",
      "19593 patches in bg\n",
      "406 patches in 5N\n",
      "756 patches in SNR\n",
      "29 patches in SNC\n"
     ]
    },
    {
     "name": "stderr",
     "output_type": "stream",
     "text": [
      "Analyzing section 147..\n"
     ]
    },
    {
     "name": "stdout",
     "output_type": "stream",
     "text": [
      "489 patches in SC\n",
      "193 patches in LRt\n",
      "1662 patches in IC\n",
      "328 patches in 7N\n",
      "99 patches in 7n\n",
      "209 patches in VLL\n",
      "931 patches in Sp5C\n",
      "926 patches in 5N_surround_noclass\n",
      "1346 patches in SNR_surround_noclass\n",
      "29 patches in SNR_surround_SNC\n",
      "445 patches in SNC_surround_noclass\n",
      "192 patches in SNC_surround_SNR\n",
      "1073 patches in SC_surround_noclass\n",
      "10 patches in SC_surround_IC\n",
      "961 patches in LRt_surround_noclass\n",
      "1598 patches in IC_surround_noclass\n",
      "13 patches in IC_surround_SC\n",
      "747 patches in 7N_surround_noclass\n",
      "585 patches in 7n_surround_noclass\n",
      "836 patches in VLL_surround_noclass\n",
      "1244 patches in Sp5C_surround_noclass\n",
      "19394 patches in bg\n",
      "30 patches in SNC\n",
      "536 patches in SC\n",
      "955 patches in Sp5C\n"
     ]
    },
    {
     "name": "stderr",
     "output_type": "stream",
     "text": [
      "Analyzing section 148..\n"
     ]
    },
    {
     "name": "stdout",
     "output_type": "stream",
     "text": [
      "239 patches in VLL\n",
      "381 patches in 5N\n",
      "338 patches in 7N\n",
      "1721 patches in IC\n",
      "86 patches in 7n\n",
      "740 patches in SNR\n",
      "410 patches in SNC_surround_noclass\n",
      "187 patches in SNC_surround_SNR\n",
      "1113 patches in SC_surround_noclass\n",
      "7 patches in SC_surround_IC\n",
      "1228 patches in Sp5C_surround_noclass\n",
      "867 patches in VLL_surround_noclass\n",
      "886 patches in 5N_surround_noclass\n",
      "776 patches in 7N_surround_noclass\n",
      "1634 patches in IC_surround_noclass\n",
      "11 patches in IC_surround_SC\n",
      "575 patches in 7n_surround_noclass\n",
      "1297 patches in SNR_surround_noclass\n",
      "30 patches in SNR_surround_SNC\n",
      "19113 patches in bg\n"
     ]
    },
    {
     "name": "stderr",
     "output_type": "stream",
     "text": [
      "Analyzing section 149..\n"
     ]
    },
    {
     "name": "stdout",
     "output_type": "stream",
     "text": [
      "583 patches in SC\n",
      "393 patches in SpVe\n",
      "85 patches in 7n\n",
      "1763 patches in IC\n",
      "351 patches in 7N\n",
      "16 patches in Amb\n",
      "366 patches in 5N\n",
      "28 patches in SNC\n",
      "735 patches in SNR\n",
      "263 patches in VLL\n",
      "990 patches in Sp5C\n",
      "1142 patches in SC_surround_noclass\n",
      "8 patches in SC_surround_IC\n",
      "919 patches in SpVe_surround_noclass\n",
      "579 patches in 7n_surround_noclass\n",
      "1623 patches in IC_surround_noclass\n",
      "12 patches in IC_surround_SC\n",
      "764 patches in 7N_surround_noclass\n",
      "401 patches in Amb_surround_noclass\n",
      "876 patches in 5N_surround_noclass\n",
      "412 patches in SNC_surround_noclass\n",
      "185 patches in SNC_surround_SNR\n",
      "1308 patches in SNR_surround_noclass\n",
      "28 patches in SNR_surround_SNC\n",
      "910 patches in VLL_surround_noclass\n",
      "1208 patches in Sp5C_surround_noclass\n",
      "18972 patches in bg\n",
      "28 patches in SNC\n",
      "1011 patches in Sp5C\n",
      "86 patches in 7n\n"
     ]
    },
    {
     "name": "stderr",
     "output_type": "stream",
     "text": [
      "Analyzing section 150..\n"
     ]
    },
    {
     "name": "stdout",
     "output_type": "stream",
     "text": [
      "304 patches in VLL\n",
      "720 patches in SNR\n",
      "367 patches in 7N\n",
      "641 patches in SC\n",
      "344 patches in 5N\n",
      "1819 patches in IC\n",
      "415 patches in SNC_surround_noclass\n",
      "189 patches in SNC_surround_SNR\n",
      "1175 patches in Sp5C_surround_noclass\n",
      "570 patches in 7n_surround_noclass\n",
      "969 patches in VLL_surround_noclass\n",
      "1296 patches in SNR_surround_noclass\n",
      "28 patches in SNR_surround_SNC\n",
      "828 patches in 7N_surround_noclass\n",
      "1186 patches in SC_surround_noclass\n",
      "7 patches in SC_surround_IC\n",
      "859 patches in 5N_surround_noclass\n",
      "1689 patches in IC_surround_noclass\n",
      "12 patches in IC_surround_SC\n",
      "18922 patches in bg\n"
     ]
    },
    {
     "name": "stderr",
     "output_type": "stream",
     "text": [
      "Analyzing section 151..\n"
     ]
    },
    {
     "name": "stdout",
     "output_type": "stream",
     "text": [
      "331 patches in VLL\n",
      "1037 patches in Sp5C\n",
      "84 patches in 7n\n",
      "716 patches in SNR\n",
      "695 patches in SC\n",
      "380 patches in 7N\n",
      "332 patches in 5N\n",
      "1864 patches in IC\n",
      "27 patches in SNC\n",
      "1023 patches in VLL_surround_noclass\n",
      "407 patches in Sp5C_surround_noclass\n",
      "568 patches in 7n_surround_noclass\n",
      "1283 patches in SNR_surround_noclass\n",
      "27 patches in SNR_surround_SNC\n",
      "1211 patches in SC_surround_noclass\n",
      "8 patches in SC_surround_IC\n",
      "838 patches in 7N_surround_noclass\n",
      "841 patches in 5N_surround_noclass\n",
      "1510 patches in IC_surround_noclass\n",
      "11 patches in IC_surround_SC\n",
      "410 patches in SNC_surround_noclass\n",
      "190 patches in SNC_surround_SNR\n",
      "20864 patches in bg\n",
      "409 patches in 7N\n"
     ]
    },
    {
     "name": "stderr",
     "output_type": "stream",
     "text": [
      "Analyzing section 152..\n"
     ]
    },
    {
     "name": "stdout",
     "output_type": "stream",
     "text": [
      "1930 patches in IC\n",
      "749 patches in SC\n",
      "705 patches in SNR\n",
      "321 patches in 5N\n",
      "1060 patches in Sp5C\n",
      "29 patches in SNC\n",
      "92 patches in Amb\n",
      "87 patches in 7n\n",
      "375 patches in VLL\n",
      "140 patches in LRt\n",
      "872 patches in 7N_surround_noclass\n",
      "1484 patches in IC_surround_noclass\n",
      "11 patches in IC_surround_SC\n",
      "1259 patches in SC_surround_noclass\n",
      "5 patches in SC_surround_IC\n",
      "1278 patches in SNR_surround_noclass\n",
      "29 patches in SNR_surround_SNC\n",
      "1 patches in SNR_surround_VLL\n",
      "844 patches in 5N_surround_noclass\n",
      "1118 patches in Sp5C_surround_noclass\n",
      "404 patches in SNC_surround_noclass\n",
      "192 patches in SNC_surround_SNR\n",
      "684 patches in Amb_surround_noclass\n",
      "1 patches in Amb_surround_7N\n",
      "28 patches in Amb_surround_LRt\n",
      "589 patches in 7n_surround_noclass\n",
      "1101 patches in VLL_surround_noclass\n",
      "1 patches in VLL_surround_SNR\n",
      "819 patches in LRt_surround_noclass\n",
      "14 patches in LRt_surround_Amb\n",
      "19132 patches in bg\n",
      "252 patches in 5N\n",
      "701 patches in SNR\n"
     ]
    },
    {
     "name": "stderr",
     "output_type": "stream",
     "text": [
      "Analyzing section 153..\n"
     ]
    },
    {
     "name": "stdout",
     "output_type": "stream",
     "text": [
      "801 patches in SC\n",
      "395 patches in 7N\n",
      "1079 patches in Sp5C\n",
      "79 patches in 7n\n",
      "332 patches in VLL\n",
      "1969 patches in IC\n",
      "27 patches in SNC\n",
      "759 patches in 5N_surround_noclass\n",
      "1286 patches in SNR_surround_noclass\n",
      "27 patches in SNR_surround_SNC\n",
      "1301 patches in SC_surround_noclass\n",
      "6 patches in SC_surround_IC\n",
      "888 patches in 7N_surround_noclass\n",
      "1099 patches in Sp5C_surround_noclass\n",
      "557 patches in 7n_surround_noclass\n",
      "993 patches in VLL_surround_noclass\n",
      "1498 patches in IC_surround_noclass\n",
      "11 patches in IC_surround_SC\n",
      "404 patches in SNC_surround_noclass\n",
      "193 patches in SNC_surround_SNR\n",
      "18631 patches in bg\n",
      "2023 patches in IC\n"
     ]
    },
    {
     "name": "stderr",
     "output_type": "stream",
     "text": [
      "Analyzing section 154..\n"
     ]
    },
    {
     "name": "stdout",
     "output_type": "stream",
     "text": [
      "72 patches in 7n\n",
      "873 patches in SC\n",
      "387 patches in 7N\n",
      "283 patches in VLL\n",
      "1112 patches in Sp5C\n",
      "27 patches in SNC\n",
      "693 patches in SNR\n",
      "183 patches in 5N\n",
      "1533 patches in IC_surround_noclass\n",
      "10 patches in IC_surround_SC\n",
      "553 patches in 7n_surround_noclass\n",
      "1341 patches in SC_surround_noclass\n",
      "7 patches in SC_surround_IC\n",
      "881 patches in 7N_surround_noclass\n",
      "918 patches in VLL_surround_noclass\n",
      "1075 patches in Sp5C_surround_noclass\n",
      "389 patches in SNC_surround_noclass\n",
      "198 patches in SNC_surround_SNR\n",
      "1277 patches in SNR_surround_noclass\n",
      "27 patches in SNR_surround_SNC\n",
      "686 patches in 5N_surround_noclass\n",
      "18531 patches in bg\n",
      "62 patches in LRt\n",
      "70 patches in Amb\n",
      "31 patches in SNC\n",
      "2112 patches in IC\n",
      "140 patches in 5N\n"
     ]
    },
    {
     "name": "stderr",
     "output_type": "stream",
     "text": [
      "Analyzing section 155..\n"
     ]
    },
    {
     "name": "stdout",
     "output_type": "stream",
     "text": [
      "1149 patches in Sp5C\n",
      "696 patches in SNR\n",
      "944 patches in SC\n",
      "253 patches in VLL\n",
      "383 patches in 7N\n",
      "78 patches in 7n\n",
      "734 patches in LRt_surround_noclass\n",
      "1 patches in LRt_surround_Amb\n",
      "720 patches in Amb_surround_noclass\n",
      "411 patches in SNC_surround_noclass\n",
      "212 patches in SNC_surround_SNR\n",
      "1529 patches in IC_surround_noclass\n",
      "21 patches in IC_surround_SC\n",
      "636 patches in 5N_surround_noclass\n",
      "1113 patches in Sp5C_surround_noclass\n",
      "1292 patches in SNR_surround_noclass\n",
      "31 patches in SNR_surround_SNC\n",
      "1376 patches in SC_surround_noclass\n",
      "18 patches in SC_surround_IC\n",
      "885 patches in VLL_surround_noclass\n",
      "810 patches in 7N_surround_noclass\n",
      "565 patches in 7n_surround_noclass\n",
      "18478 patches in bg\n",
      "1020 patches in SC\n"
     ]
    },
    {
     "name": "stderr",
     "output_type": "stream",
     "text": [
      "Analyzing section 156..\n"
     ]
    },
    {
     "name": "stdout",
     "output_type": "stream",
     "text": [
      "679 patches in SNR\n",
      "366 patches in 7N\n",
      "2077 patches in IC\n",
      "139 patches in 5N\n",
      "30 patches in SNC\n",
      "74 patches in 7n\n",
      "1374 patches in SC_surround_noclass\n",
      "35 patches in SC_surround_IC\n",
      "1261 patches in SNR_surround_noclass\n",
      "30 patches in SNR_surround_SNC\n",
      "872 patches in 7N_surround_noclass\n",
      "1473 patches in IC_surround_noclass\n",
      "32 patches in IC_surround_SC\n",
      "628 patches in 5N_surround_noclass\n",
      "384 patches in SNC_surround_noclass\n",
      "201 patches in SNC_surround_SNR\n",
      "537 patches in 7n_surround_noclass\n",
      "2 patches in 7n_surround_5N\n",
      "18067 patches in bg\n"
     ]
    },
    {
     "name": "stderr",
     "output_type": "stream",
     "text": [
      "Analyzing section 157..\n"
     ]
    },
    {
     "name": "stdout",
     "output_type": "stream",
     "text": [
      "30 patches in SNC\n",
      "69 patches in 7n\n",
      "2062 patches in IC\n",
      "1125 patches in SC\n",
      "678 patches in SNR\n",
      "271 patches in MVeMC\n",
      "449 patches in APT\n",
      "184 patches in Sol\n",
      "460 patches in SpVe\n",
      "103 patches in MVePC\n",
      "136 patches in 5N\n",
      "344 patches in 7N\n",
      "109 patches in SuVe\n",
      "387 patches in SNC_surround_noclass\n",
      "201 patches in SNC_surround_SNR\n",
      "538 patches in 7n_surround_noclass\n",
      "1378 patches in IC_surround_noclass\n",
      "60 patches in IC_surround_SC\n",
      "1301 patches in SC_surround_noclass\n",
      "92 patches in SC_surround_APT\n",
      "64 patches in SC_surround_IC\n",
      "1254 patches in SNR_surround_noclass\n",
      "30 patches in SNR_surround_SNC\n",
      "568 patches in MVeMC_surround_noclass\n",
      "140 patches in MVeMC_surround_SpVe\n",
      "26 patches in MVeMC_surround_Sol\n",
      "99 patches in MVeMC_surround_MVePC\n",
      "12 patches in MVeMC_surround_SuVe\n",
      "912 patches in APT_surround_noclass\n",
      "78 patches in APT_surround_SC\n",
      "737 patches in Sol_surround_noclass\n",
      "211 patches in Sol_surround_SpVe\n",
      "54 patches in Sol_surround_MVeMC\n",
      "674 patches in SpVe_surround_noclass\n",
      "100 patches in SpVe_surround_MVeMC\n",
      "178 patches in SpVe_surround_Sol\n",
      "19 patches in SpVe_surround_MVePC\n",
      "413 patches in MVePC_surround_noclass\n",
      "27 patches in MVePC_surround_SpVe\n",
      "116 patches in MVePC_surround_MVeMC\n",
      "109 patches in MVePC_surround_SuVe\n",
      "627 patches in 5N_surround_noclass\n",
      "881 patches in 7N_surround_noclass\n",
      "600 patches in SuVe_surround_noclass\n",
      "9 patches in SuVe_surround_MVeMC\n",
      "82 patches in SuVe_surround_MVePC\n",
      "18419 patches in bg\n",
      "70 patches in 7n\n",
      "1211 patches in SC\n",
      "678 patches in SNR\n"
     ]
    },
    {
     "name": "stderr",
     "output_type": "stream",
     "text": [
      "Analyzing section 158..\n"
     ]
    },
    {
     "name": "stdout",
     "output_type": "stream",
     "text": [
      "138 patches in 5N\n",
      "333 patches in 7N\n",
      "31 patches in SNC\n",
      "2048 patches in IC\n",
      "530 patches in 7n_surround_noclass\n",
      "1403 patches in SC_surround_noclass\n",
      "91 patches in SC_surround_IC\n",
      "1237 patches in SNR_surround_noclass\n",
      "31 patches in SNR_surround_SNC\n",
      "670 patches in 5N_surround_noclass\n",
      "873 patches in 7N_surround_noclass\n",
      "387 patches in SNC_surround_noclass\n",
      "207 patches in SNC_surround_SNR\n",
      "1625 patches in IC_surround_noclass\n",
      "77 patches in IC_surround_SC\n",
      "18291 patches in bg\n",
      "672 patches in SNR\n",
      "305 patches in 7N\n",
      "37 patches in SNC\n"
     ]
    },
    {
     "name": "stderr",
     "output_type": "stream",
     "text": [
      "Analyzing section 159..\n"
     ]
    },
    {
     "name": "stdout",
     "output_type": "stream",
     "text": [
      "1318 patches in SC\n",
      "68 patches in 7n\n",
      "2031 patches in IC\n",
      "1222 patches in SNR_surround_noclass\n",
      "37 patches in SNR_surround_SNC\n",
      "860 patches in 7N_surround_noclass\n",
      "375 patches in SNC_surround_noclass\n",
      "199 patches in SNC_surround_SNR\n",
      "1419 patches in SC_surround_noclass\n",
      "119 patches in SC_surround_IC\n",
      "528 patches in 7n_surround_noclass\n",
      "1565 patches in IC_surround_noclass\n",
      "98 patches in IC_surround_SC\n",
      "17615 patches in bg\n",
      "304 patches in VLL\n",
      "669 patches in SNR\n",
      "2013"
     ]
    },
    {
     "name": "stderr",
     "output_type": "stream",
     "text": [
      "Analyzing section 160..\n"
     ]
    },
    {
     "name": "stdout",
     "output_type": "stream",
     "text": [
      " patches in IC\n",
      "172 patches in Sol\n",
      "35 patches in SNC\n",
      "395 patches in MVeMC\n",
      "426 patches in SpVe\n",
      "121 patches in LRt\n",
      "298 patches in 7N\n",
      "249 patches in MVePC\n",
      "1427 patches in SC\n",
      "144 patches in Cu\n",
      "68 patches in 7n\n",
      "926 patches in VLL_surround_noclass\n",
      "1213 patches in SNR_surround_noclass\n",
      "35 patches in SNR_surround_SNC\n",
      "1520 patches in IC_surround_noclass\n",
      "119 patches in IC_surround_SC\n",
      "634 patches in Sol_surround_noclass\n",
      "195 patches in Sol_surround_SpVe\n",
      "38 patches in Sol_surround_MVeMC\n",
      "20 patches in Sol_surround_Cu\n",
      "378 patches in SNC_surround_noclass\n",
      "210 patches in SNC_surround_SNR\n",
      "641 patches in MVeMC_surround_noclass\n",
      "155 patches in MVeMC_surround_SpVe\n",
      "25 patches in MVeMC_surround_Sol\n",
      "183 patches in MVeMC_surround_MVePC\n",
      "481 patches in SpVe_surround_noclass\n",
      "130 patches in SpVe_surround_MVeMC\n",
      "171 patches in SpVe_surround_Sol\n",
      "53 patches in SpVe_surround_MVePC\n",
      "6 patches in SpVe_surround_Cu\n",
      "755 patches in LRt_surround_noclass\n",
      "849 patches in 7N_surround_noclass\n",
      "579 patches in MVePC_surround_noclass\n",
      "48 patches in MVePC_surround_SpVe\n",
      "186 patches in MVePC_surround_MVeMC\n",
      "1432 patches in SC_surround_noclass\n",
      "136 patches in SC_surround_IC\n",
      "536 patches in Cu_surround_noclass\n",
      "7 patches in Cu_surround_SpVe\n",
      "15 patches in Cu_surround_Sol\n",
      "523 patches in 7n_surround_noclass\n",
      "17666 patches in bg\n",
      "68 patches in 7n\n"
     ]
    },
    {
     "name": "stderr",
     "output_type": "stream",
     "text": [
      "Analyzing section 161..\n"
     ]
    },
    {
     "name": "stdout",
     "output_type": "stream",
     "text": [
      "668 patches in SNR\n",
      "1981 patches in IC\n",
      "1544 patches in SC\n",
      "35 patches in SNC\n",
      "278 patches in 7N\n",
      "512 patches in 7n_surround_noclass\n",
      "1210 patches in SNR_surround_noclass\n",
      "35 patches in SNR_surround_SNC\n",
      "1473 patches in IC_surround_noclass\n",
      "136 patches in IC_surround_SC\n",
      "1470 patches in SC_surround_noclass\n",
      "160 patches in SC_surround_IC\n",
      "372 patches in SNC_surround_noclass\n",
      "214 patches in SNC_surround_SNR\n",
      "827 patches in 7N_surround_noclass\n",
      "17599 patches in bg\n",
      "1962 patches in IC\n"
     ]
    },
    {
     "name": "stderr",
     "output_type": "stream",
     "text": [
      "Analyzing section 162..\n"
     ]
    },
    {
     "name": "stdout",
     "output_type": "stream",
     "text": [
      "262 patches in 7N\n",
      "1651 patches in SC\n",
      "67 patches in 7n\n",
      "41 patches in SNC\n",
      "662 patches in SNR\n",
      "1453 patches in IC_surround_noclass\n",
      "150 patches in IC_surround_SC\n",
      "816 patches in 7N_surround_noclass\n",
      "1496 patches in SC_surround_noclass\n",
      "170 patches in SC_surround_IC\n",
      "510 patches in 7n_surround_noclass\n",
      "374 patches in SNC_surround_noclass\n",
      "207 patches in SNC_surround_SNR\n",
      "1199 patches in SNR_surround_noclass\n",
      "41 patches in SNR_surround_SNC\n",
      "17227 patches in bg\n"
     ]
    },
    {
     "name": "stderr",
     "output_type": "stream",
     "text": [
      "Analyzing section 163..\n"
     ]
    },
    {
     "name": "stdout",
     "output_type": "stream",
     "text": [
      "663 patches in SNR\n",
      "41 patches in SNC\n",
      "64 patches in 7n\n",
      "1953 patches in IC\n",
      "1758 patches in SC\n",
      "251 patches in 7N\n",
      "1176 patches in SNR_surround_noclass\n",
      "41 patches in SNR_surround_SNC\n",
      "368 patches in SNC_surround_noclass\n",
      "210 patches in SNC_surround_SNR\n",
      "512 patches in 7n_surround_noclass\n",
      "1397 patches in IC_surround_noclass\n",
      "163 patches in IC_surround_SC\n",
      "1532 patches in SC_surround_noclass\n",
      "190 patches in SC_surround_IC\n",
      "801 patches in 7N_surround_noclass\n",
      "17637 patches in bg\n",
      "656 patches in SNR\n"
     ]
    },
    {
     "name": "stderr",
     "output_type": "stream",
     "text": [
      "Analyzing section 164..\n"
     ]
    },
    {
     "name": "stdout",
     "output_type": "stream",
     "text": [
      "1925 patches in IC\n",
      "234 patches in 7N\n",
      "1896 patches in SC\n",
      "66 patches in 7n\n",
      "44 patches in SNC\n",
      "428 patches in Sol\n",
      "1172 patches in SNR_surround_noclass\n",
      "44 patches in SNR_surround_SNC\n",
      "1359 patches in IC_surround_noclass\n",
      "170 patches in IC_surround_SC\n",
      "793 patches in 7N_surround_noclass\n",
      "1577 patches in SC_surround_noclass\n",
      "193 patches in SC_surround_IC\n",
      "500 patches in 7n_surround_noclass\n",
      "371 patches in SNC_surround_noclass\n",
      "215 patches in SNC_surround_SNR\n",
      "1234 patches in Sol_surround_noclass\n",
      "17301 patches in bg\n"
     ]
    },
    {
     "name": "stderr",
     "output_type": "stream",
     "text": [
      "Analyzing section 165..\n"
     ]
    },
    {
     "name": "stdout",
     "output_type": "stream",
     "text": [
      "9 patches in Pn\n",
      "47 patches in SNC\n",
      "69 patches in 7n\n",
      "229 patches in LRt\n",
      "1923 patches in IC\n",
      "657 patches in SNR\n",
      "2026 patches in SC\n",
      "227 patches in 7N\n",
      "589 patches in Pn_surround_noclass\n",
      "377 patches in SNC_surround_noclass\n",
      "222 patches in SNC_surround_SNR\n",
      "515 patches in 7n_surround_noclass\n",
      "860 patches in LRt_surround_noclass\n",
      "1316 patches in IC_surround_noclass\n",
      "186 patches in IC_surround_SC\n",
      "1183 patches in SNR_surround_noclass\n",
      "47 patches in SNR_surround_SNC\n",
      "1619 patches in SC_surround_noclass\n",
      "213 patches in SC_surround_IC\n",
      "786 patches in 7N_surround_noclass\n",
      "17276 patches in bg\n",
      "49 patches in SNC\n"
     ]
    },
    {
     "name": "stderr",
     "output_type": "stream",
     "text": [
      "Analyzing section 166..\n"
     ]
    },
    {
     "name": "stdout",
     "output_type": "stream",
     "text": [
      "2061 patches in SC\n",
      "620 patches in SNR\n",
      "25 patches in Pn\n",
      "62 patches in 7n\n",
      "1899 patches in IC\n",
      "237 patches in 7N\n",
      "384 patches in SNC_surround_noclass\n",
      "222 patches in SNC_surround_SNR\n",
      "1617 patches in SC_surround_noclass\n",
      "197 patches in SC_surround_IC\n",
      "1128 patches in SNR_surround_noclass\n",
      "49 patches in SNR_surround_SNC\n",
      "581 patches in Pn_surround_noclass\n",
      "494 patches in 7n_surround_noclass\n",
      "1326 patches in IC_surround_noclass\n",
      "180 patches in IC_surround_SC\n",
      "796 patches in 7N_surround_noclass\n",
      "16897 patches in bg\n",
      "1896 patches in IC\n"
     ]
    },
    {
     "name": "stderr",
     "output_type": "stream",
     "text": [
      "Analyzing section 167..\n"
     ]
    },
    {
     "name": "stdout",
     "output_type": "stream",
     "text": [
      "59 patches in 7n\n",
      "297 patches in SpVe\n",
      "593 patches in SNR\n",
      "78 patches in LC\n",
      "261 patches in 7N\n",
      "2103 patches in SC\n",
      "51 patches in Pn\n",
      "396 patches in MVeMC\n",
      "52 patches in SNC\n",
      "230 patches in Sol\n",
      "306 patches in MVePC\n",
      "1308 patches in IC_surround_noclass\n",
      "186 patches in IC_surround_SC\n",
      "473 patches in 7n_surround_noclass\n",
      "15 patches in 7n_surround_MVeMC\n",
      "374 patches in SpVe_surround_noclass\n",
      "100 patches in SpVe_surround_MVeMC\n",
      "178 patches in SpVe_surround_Sol\n",
      "42 patches in SpVe_surround_MVePC\n",
      "1106 patches in SNR_surround_noclass\n",
      "52 patches in SNR_surround_SNC\n",
      "477 patches in LC_surround_noclass\n",
      "134 patches in LC_surround_MVePC\n",
      "812 patches in 7N_surround_noclass\n",
      "1622 patches in SC_surround_noclass\n",
      "201 patches in SC_surround_IC\n",
      "596 patches in Pn_surround_noclass\n",
      "621 patches in MVeMC_surround_noclass\n",
      "118 patches in MVeMC_surround_SpVe\n",
      "10 patches in MVeMC_surround_7n\n",
      "8 patches in MVeMC_surround_Sol\n",
      "249 patches in MVeMC_surround_MVePC\n",
      "399 patches in SNC_surround_noclass\n",
      "224 patches in SNC_surround_SNR\n",
      "832 patches in Sol_surround_noclass\n",
      "178 patches in Sol_surround_SpVe\n",
      "14 patches in Sol_surround_MVeMC\n",
      "553 patches in MVePC_surround_noclass\n",
      "78 patches in MVePC_surround_LC\n",
      "38 patches in MVePC_surround_SpVe\n",
      "239 patches in MVePC_surround_MVeMC\n",
      "17089 patches in bg\n",
      "291 patches in 7N\n",
      "555 patches in SNR\n"
     ]
    },
    {
     "name": "stderr",
     "output_type": "stream",
     "text": [
      "Analyzing section 168..\n"
     ]
    },
    {
     "name": "stdout",
     "output_type": "stream",
     "text": [
      "1906 patches in IC\n",
      "2139 patches in SC\n",
      "114 patches in LC\n",
      "62 patches in SNC\n",
      "51 patches in 7n\n",
      "79 patches in Pn\n",
      "825 patches in 7N_surround_noclass\n",
      "1066 patches in SNR_surround_noclass\n",
      "62 patches in SNR_surround_SNC\n",
      "1323 patches in IC_surround_noclass\n",
      "188 patches in IC_surround_SC\n",
      "1636 patches in SC_surround_noclass\n",
      "208 patches in SC_surround_IC\n",
      "661 patches in LC_surround_noclass\n",
      "412 patches in SNC_surround_noclass\n",
      "223 patches in SNC_surround_SNR\n",
      "478 patches in 7n_surround_noclass\n",
      "636 patches in Pn_surround_noclass\n",
      "16852 patches in bg\n"
     ]
    },
    {
     "name": "stderr",
     "output_type": "stream",
     "text": [
      "Analyzing section 169..\n"
     ]
    },
    {
     "name": "stdout",
     "output_type": "stream",
     "text": [
      "1900 patches in IC\n",
      "70 patches in SNC\n",
      "149 patches in LC\n",
      "2165 patches in SC\n",
      "106 patches in Pn\n",
      "310 patches in 7N\n",
      "48 patches in 7n\n",
      "529 patches in SNR\n",
      "1301 patches in IC_surround_noclass\n",
      "187 patches in IC_surround_SC\n",
      "435 patches in SNC_surround_noclass\n",
      "217 patches in SNC_surround_SNR\n",
      "741 patches in LC_surround_noclass\n",
      "1671 patches in SC_surround_noclass\n",
      "205 patches in SC_surround_IC\n",
      "639 patches in Pn_surround_noclass\n",
      "835 patches in 7N_surround_noclass\n",
      "466 patches in 7n_surround_noclass\n",
      "1025 patches in SNR_surround_noclass\n",
      "70 patches in SNR_surround_SNC\n",
      "16990 patches in bg\n",
      "47 patches in 7n\n",
      "159 patches in Cu\n",
      "319 patches in LRt\n",
      "334 patches in MVeMC\n"
     ]
    },
    {
     "name": "stderr",
     "output_type": "stream",
     "text": [
      "Analyzing section 170..\n"
     ]
    },
    {
     "name": "stdout",
     "output_type": "stream",
     "text": [
      "2225 patches in SC\n",
      "189 patches in LC\n",
      "295 patches in SpVe\n",
      "208 patches in MVePC\n",
      "139 patches in Pn\n",
      "342 patches in 7N\n",
      "1925 patches in IC\n",
      "77 patches in SNC\n",
      "514 patches in SNR\n",
      "243 patches in Sol\n",
      "461 patches in 7n_surround_noclass\n",
      "17 patches in 7n_surround_MVeMC\n",
      "410 patches in Cu_surround_noclass\n",
      "93 patches in Cu_surround_Sol\n",
      "1049 patches in LRt_surround_noclass\n",
      "681 patches in MVeMC_surround_noclass\n",
      "48 patches in MVeMC_surround_LC\n",
      "155 patches in MVeMC_surround_SpVe\n",
      "13 patches in MVeMC_surround_7n\n",
      "1 patches in MVeMC_surround_Sol\n",
      "168 patches in MVeMC_surround_MVePC\n",
      "1709 patches in SC_surround_noclass\n",
      "231 patches in SC_surround_IC\n",
      "712 patches in LC_surround_noclass\n",
      "25 patches in LC_surround_MVeMC\n",
      "107 patches in LC_surround_MVePC\n",
      "464 patches in SpVe_surround_noclass\n",
      "123 patches in SpVe_surround_MVeMC\n",
      "146 patches in SpVe_surround_Sol\n",
      "54 patches in SpVe_surround_MVePC\n",
      "417 patches in MVePC_surround_noclass\n",
      "150 patches in MVePC_surround_LC\n",
      "32 patches in MVePC_surround_SpVe\n",
      "218 patches in MVePC_surround_MVeMC\n",
      "708 patches in Pn_surround_noclass\n",
      "859 patches in 7N_surround_noclass\n",
      "1298 patches in IC_surround_noclass\n",
      "206 patches in IC_surround_SC\n",
      "472 patches in SNC_surround_noclass\n",
      "228 patches in SNC_surround_SNR\n",
      "1011 patches in SNR_surround_noclass\n",
      "77 patches in SNR_surround_SNC\n",
      "682 patches in Sol_surround_noclass\n",
      "139 patches in Sol_surround_SpVe\n",
      "1 patches in Sol_surround_MVeMC\n",
      "113 patches in Sol_surround_Cu\n",
      "16809 patches in bg\n",
      "161 patches in Pn\n"
     ]
    },
    {
     "name": "stderr",
     "output_type": "stream",
     "text": [
      "Analyzing section 171..\n"
     ]
    },
    {
     "name": "stdout",
     "output_type": "stream",
     "text": [
      "2159 patches in SC\n",
      "195 patches in LC\n",
      "477 patches in SNR\n",
      "331 patches in 7N\n",
      "49 patches in 7n\n",
      "1838 patches in IC\n",
      "682 patches in Pn_surround_noclass\n",
      "1654 patches in SC_surround_noclass\n",
      "216 patches in SC_surround_IC\n",
      "807 patches in LC_surround_noclass\n",
      "1043 patches in SNR_surround_noclass\n",
      "820 patches in 7N_surround_noclass\n",
      "468 patches in 7n_surround_noclass\n",
      "1281 patches in IC_surround_noclass\n",
      "196 patches in IC_surround_SC\n",
      "16624 patches in bg\n"
     ]
    },
    {
     "name": "stderr",
     "output_type": "stream",
     "text": [
      "Analyzing section 172..\n"
     ]
    },
    {
     "name": "stdout",
     "output_type": "stream",
     "text": [
      "48 patches in 7n\n",
      "201 patches in LC\n",
      "2108 patches in SC\n",
      "321 patches in 7N\n",
      "1785 patches in IC\n",
      "186 patches in Pn\n",
      "449 patches in SNR\n",
      "472 patches in 7n_surround_noclass\n",
      "814 patches in LC_surround_noclass\n",
      "1643 patches in SC_surround_noclass\n",
      "212 patches in SC_surround_IC\n",
      "808 patches in 7N_surround_noclass\n",
      "1275 patches in IC_surround_noclass\n",
      "189 patches in IC_surround_SC\n",
      "674 patches in Pn_surround_noclass\n",
      "1006 patches in SNR_surround_noclass\n",
      "16443 patches in bg\n"
     ]
    },
    {
     "name": "stderr",
     "output_type": "stream",
     "text": [
      "Analyzing section 173..\n"
     ]
    },
    {
     "name": "stdout",
     "output_type": "stream",
     "text": [
      "318 patches in 7N\n",
      "51 patches in 7n\n",
      "418 patches in SNR\n",
      "210 patches in Pn\n",
      "2066 patches in SC\n",
      "1729 patches in IC\n",
      "210 patches in LC\n",
      "769 patches in 7N_surround_noclass\n",
      "484 patches in 7n_surround_noclass\n",
      "986 patches in SNR_surround_noclass\n",
      "674 patches in Pn_surround_noclass\n",
      "1611 patches in SC_surround_noclass\n",
      "220 patches in SC_surround_IC\n",
      "1238 patches in IC_surround_noclass\n",
      "195 patches in IC_surround_SC\n",
      "830 patches in LC_surround_noclass\n",
      "16514 patches in bg\n",
      "1670 patches in IC\n"
     ]
    },
    {
     "name": "stderr",
     "output_type": "stream",
     "text": [
      "Analyzing section 174..\n"
     ]
    },
    {
     "name": "stdout",
     "output_type": "stream",
     "text": [
      "2026 patches in SC\n",
      "313 patches in 7N\n",
      "237 patches in Pn\n",
      "215 patches in LC\n",
      "395 patches in SNR\n",
      "55 patches in 7n\n",
      "1225 patches in IC_surround_noclass\n",
      "187 patches in IC_surround_SC\n",
      "1606 patches in SC_surround_noclass\n",
      "222 patches in SC_surround_IC\n",
      "752 patches in 7N_surround_noclass\n",
      "672 patches in Pn_surround_noclass\n",
      "841 patches in LC_surround_noclass\n",
      "970 patches in SNR_surround_noclass\n",
      "490 patches in 7n_surround_noclass\n",
      "16498 patches in bg\n",
      "191 patches in SolIM\n",
      "86 patches in Gr\n",
      "376 patches in SNR\n"
     ]
    },
    {
     "name": "stderr",
     "output_type": "stream",
     "text": [
      "Analyzing section 175..\n"
     ]
    },
    {
     "name": "stdout",
     "output_type": "stream",
     "text": [
      "225 patches in LC\n",
      "1984 patches in SC\n",
      "54 patches in SNC\n",
      "317 patches in 7N\n",
      "268 patches in Pn\n",
      "1620 patches in IC\n",
      "56 patches in 7n\n",
      "12 patches in 10N\n",
      "766 patches in SolIM_surround_noclass\n",
      "12 patches in SolIM_surround_10N\n",
      "67 patches in SolIM_surround_Gr\n",
      "346 patches in Gr_surround_noclass\n",
      "82 patches in Gr_surround_SolIM\n",
      "913 patches in SNR_surround_noclass\n",
      "54 patches in SNR_surround_SNC\n",
      "887 patches in LC_surround_noclass\n",
      "1625 patches in SC_surround_noclass\n",
      "238 patches in SC_surround_IC\n",
      "474 patches in SNC_surround_noclass\n",
      "175 patches in SNC_surround_SNR\n",
      "609 patches in 7N_surround_noclass\n",
      "682 patches in Pn_surround_noclass\n",
      "1206 patches in IC_surround_noclass\n",
      "194 patches in IC_surround_SC\n",
      "498 patches in 7n_surround_noclass\n",
      "290 patches in 10N_surround_noclass\n",
      "147 patches in 10N_surround_SolIM\n",
      "17583 patches in bg\n",
      "59 patches in 7n\n"
     ]
    },
    {
     "name": "stderr",
     "output_type": "stream",
     "text": [
      "Analyzing section 176..\n"
     ]
    },
    {
     "name": "stdout",
     "output_type": "stream",
     "text": [
      "2094 patches in SC\n",
      "12 patches in 10N\n",
      "342 patches in SNR\n",
      "276 patches in Pn\n",
      "1583 patches in IC\n",
      "124 patches in RtTg\n",
      "262 patches in 7N\n",
      "503 patches in 7n_surround_noclass\n",
      "1622 patches in SC_surround_noclass\n",
      "239 patches in SC_surround_IC\n",
      "452 patches in 10N_surround_noclass\n",
      "941 patches in SNR_surround_noclass\n",
      "624 patches in Pn_surround_noclass\n",
      "60 patches in Pn_surround_RtTg\n",
      "1188 patches in IC_surround_noclass\n",
      "203 patches in IC_surround_SC\n",
      "551 patches in RtTg_surround_noclass\n",
      "64 patches in RtTg_surround_Pn\n",
      "702 patches in 7N_surround_noclass\n",
      "16743 patches in bg\n",
      "61 patches in 7n\n",
      "150 patches in RtTg\n",
      "1545 patches in IC\n"
     ]
    },
    {
     "name": "stderr",
     "output_type": "stream",
     "text": [
      "Analyzing section 177..\n"
     ]
    },
    {
     "name": "stdout",
     "output_type": "stream",
     "text": [
      "297 patches in Pn\n",
      "2233 patches in SC\n",
      "322 patches in SNR\n",
      "199 patches in 7N\n",
      "16 patches in 10N\n",
      "508 patches in 7n_surround_noclass\n",
      "644 patches in RtTg_surround_noclass\n",
      "66 patches in RtTg_surround_Pn\n",
      "1156 patches in IC_surround_noclass\n",
      "208 patches in IC_surround_SC\n",
      "621 patches in Pn_surround_noclass\n",
      "53 patches in Pn_surround_RtTg\n",
      "1660 patches in SC_surround_noclass\n",
      "246 patches in SC_surround_IC\n",
      "912 patches in SNR_surround_noclass\n",
      "641 patches in 7N_surround_noclass\n",
      "488 patches in 10N_surround_noclass\n",
      "16178 patches in bg\n",
      "306 patches in Pn\n",
      "63 patches in 7n\n"
     ]
    },
    {
     "name": "stderr",
     "output_type": "stream",
     "text": [
      "Analyzing section 178..\n"
     ]
    },
    {
     "name": "stdout",
     "output_type": "stream",
     "text": [
      "166 patches in RtTg\n",
      "2361 patches in SC\n",
      "15 patches in 10N\n",
      "1519 patches in IC\n",
      "158 patches in 7N\n",
      "301 patches in SNR\n",
      "645 patches in Pn_surround_noclass\n",
      "48 patches in Pn_surround_RtTg\n",
      "517 patches in 7n_surround_noclass\n",
      "673 patches in RtTg_surround_noclass\n",
      "54 patches in RtTg_surround_Pn\n",
      "1679 patches in SC_surround_noclass\n",
      "260 patches in SC_surround_IC\n",
      "565 patches in 10N_surround_noclass\n",
      "1129 patches in IC_surround_noclass\n",
      "228 patches in IC_surround_SC\n",
      "605 patches in 7N_surround_noclass\n",
      "890 patches in SNR_surround_noclass\n",
      "16288 patches in bg\n",
      "187 patches in RtTg\n",
      "278 patches in SNR\n",
      "62 patches in 7n\n",
      "20 patches in 10N\n"
     ]
    },
    {
     "name": "stderr",
     "output_type": "stream",
     "text": [
      "Analyzing section 179..\n"
     ]
    },
    {
     "name": "stdout",
     "output_type": "stream",
     "text": [
      "2476 patches in SC\n",
      "1476 patches in IC\n",
      "316 patches in Pn\n",
      "120 patches in 7N\n",
      "697 patches in RtTg_surround_noclass\n",
      "50 patches in RtTg_surround_Pn\n",
      "871 patches in SNR_surround_noclass\n",
      "525 patches in 7n_surround_noclass\n",
      "575 patches in 10N_surround_noclass\n",
      "1726 patches in SC_surround_noclass\n",
      "257 patches in SC_surround_IC\n",
      "1100 patches in IC_surround_noclass\n",
      "227 patches in IC_surround_SC\n",
      "656 patches in Pn_surround_noclass\n",
      "45 patches in Pn_surround_RtTg\n",
      "566 patches in 7N_surround_noclass\n",
      "16073 patches in bg\n",
      "68 patches in 7n\n",
      "215 patches in RtTg\n"
     ]
    },
    {
     "name": "stderr",
     "output_type": "stream",
     "text": [
      "Analyzing section 180..\n"
     ]
    },
    {
     "name": "stdout",
     "output_type": "stream",
     "text": [
      "1458 patches in IC\n",
      "336 patches in Pn\n",
      "60 patches in Bar\n",
      "23 patches in 10N\n",
      "88 patches in 7N\n",
      "2626 patches in SC\n",
      "261 patches in SNR\n",
      "531 patches in 7n_surround_noclass\n",
      "721 patches in RtTg_surround_noclass\n",
      "52 patches in RtTg_surround_Pn\n",
      "1067 patches in IC_surround_noclass\n",
      "252 patches in IC_surround_SC\n",
      "659 patches in Pn_surround_noclass\n",
      "43 patches in Pn_surround_RtTg\n",
      "495 patches in Bar_surround_noclass\n",
      "589 patches in 10N_surround_noclass\n",
      "519 patches in 7N_surround_noclass\n",
      "1739 patches in SC_surround_noclass\n",
      "281 patches in SC_surround_IC\n",
      "840 patches in SNR_surround_noclass\n",
      "16025 patches in bg\n",
      "243 patches in SNR\n",
      "53 patches in Tz\n",
      "56 patches in 7N\n",
      "27 patches in 10N\n"
     ]
    },
    {
     "name": "stderr",
     "output_type": "stream",
     "text": [
      "Analyzing section 181..\n"
     ]
    },
    {
     "name": "stdout",
     "output_type": "stream",
     "text": [
      "1423 patches in IC\n",
      "2757 patches in SC\n",
      "237 patches in RtTg\n",
      "348 patches in Pn\n",
      "71 patches in 7n\n",
      "818 patches in SNR_surround_noclass\n",
      "470 patches in Tz_surround_noclass\n",
      "18 patches in Tz_surround_RtTg\n",
      "468 patches in 7N_surround_noclass\n",
      "619 patches in 10N_surround_noclass\n",
      "1068 patches in IC_surround_noclass\n",
      "245 patches in IC_surround_SC\n",
      "1786 patches in SC_surround_noclass\n",
      "274 patches in SC_surround_IC\n",
      "780 patches in RtTg_surround_noclass\n",
      "12 patches in RtTg_surround_Tz\n",
      "54 patches in RtTg_surround_Pn\n",
      "682 patches in Pn_surround_noclass\n",
      "43 patches in Pn_surround_RtTg\n",
      "535 patches in 7n_surround_noclass\n",
      "15817 patches in bg\n"
     ]
    },
    {
     "name": "stderr",
     "output_type": "stream",
     "text": [
      "Analyzing section 182..\n"
     ]
    },
    {
     "name": "stdout",
     "output_type": "stream",
     "text": [
      "221 patches in SNR\n",
      "33 patches in 7N\n",
      "38 patches in 10N\n",
      "249 patches in RtTg\n",
      "365 patches in Pn\n",
      "76 patches in 7n\n",
      "56 patches in Tz\n",
      "1388 patches in IC\n",
      "22 patches in 12N\n",
      "2916 patches in SC\n",
      "794 patches in SNR_surround_noclass\n",
      "432 patches in 7N_surround_noclass\n",
      "627 patches in 10N_surround_noclass\n",
      "22 patches in 10N_surround_12N\n",
      "753 patches in RtTg_surround_noclass\n",
      "12 patches in RtTg_surround_Tz\n",
      "43 patches in RtTg_surround_Pn\n",
      "691 patches in Pn_surround_noclass\n",
      "39 patches in Pn_surround_RtTg\n",
      "569 patches in 7n_surround_noclass\n",
      "464 patches in Tz_surround_noclass\n",
      "16 patches in Tz_surround_RtTg\n",
      "1025 patches in IC_surround_noclass\n",
      "260 patches in IC_surround_SC\n",
      "395 patches in 12N_surround_noclass\n",
      "34 patches in 12N_surround_10N\n",
      "1818 patches in SC_surround_noclass\n",
      "280 patches in SC_surround_IC\n",
      "15794 patches in bg\n",
      "202 patches in SNR\n",
      "60 patches in 7n\n",
      "1363 patches in IC\n"
     ]
    },
    {
     "name": "stderr",
     "output_type": "stream",
     "text": [
      "Analyzing section 183..\n"
     ]
    },
    {
     "name": "stdout",
     "output_type": "stream",
     "text": [
      "3052 patches in SC\n",
      "383 patches in Pn\n",
      "43 patches in 10N\n",
      "51 patches in 12N\n",
      "60 patches in Tz\n",
      "255 patches in RtTg\n",
      "772 patches in SNR_surround_noclass\n",
      "520 patches in 7n_surround_noclass\n",
      "1008 patches in IC_surround_noclass\n",
      "270 patches in IC_surround_SC\n",
      "1851 patches in SC_surround_noclass\n",
      "297 patches in SC_surround_IC\n",
      "693 patches in Pn_surround_noclass\n",
      "37 patches in Pn_surround_RtTg\n",
      "616 patches in 10N_surround_noclass\n",
      "51 patches in 10N_surround_12N\n",
      "482 patches in 12N_surround_noclass\n",
      "41 patches in 12N_surround_10N\n",
      "488 patches in Tz_surround_noclass\n",
      "18 patches in Tz_surround_RtTg\n",
      "756 patches in RtTg_surround_noclass\n",
      "12 patches in RtTg_surround_Tz\n",
      "36 patches in RtTg_surround_Pn\n",
      "15767 patches in bg\n"
     ]
    },
    {
     "name": "stderr",
     "output_type": "stream",
     "text": [
      "Analyzing section 184..\n"
     ]
    },
    {
     "name": "stdout",
     "output_type": "stream",
     "text": [
      "3225 patches in SC\n",
      "50 patches in 10N\n",
      "1327 patches in IC\n",
      "398 patches in Pn\n",
      "23 patches in RMC\n",
      "262 patches in RtTg\n",
      "45 patches in 7n\n",
      "67 patches in Tz\n",
      "110 patches in 12N\n",
      "182 patches in SNR\n",
      "1888 patches in SC_surround_noclass\n",
      "307 patches in SC_surround_IC\n",
      "599 patches in 10N_surround_noclass\n",
      "110 patches in 10N_surround_12N\n",
      "966 patches in IC_surround_noclass\n",
      "282 patches in IC_surround_SC\n",
      "708 patches in Pn_surround_noclass\n",
      "32 patches in Pn_surround_RtTg\n",
      "394 patches in RMC_surround_noclass\n",
      "770 patches in RtTg_surround_noclass\n",
      "14 patches in RtTg_surround_Tz\n",
      "33 patches in RtTg_surround_Pn\n",
      "484 patches in 7n_surround_noclass\n",
      "510 patches in Tz_surround_noclass\n",
      "20 patches in Tz_surround_RtTg\n",
      "610 patches in 12N_surround_noclass\n",
      "50 patches in 12N_surround_10N\n",
      "749 patches in SNR_surround_noclass\n",
      "15908 patches in bg\n",
      "1309 patches in IC\n",
      "3378 patches in SC\n"
     ]
    },
    {
     "name": "stderr",
     "output_type": "stream",
     "text": [
      "Analyzing section 185..\n"
     ]
    },
    {
     "name": "stdout",
     "output_type": "stream",
     "text": [
      "171 patches in SNR\n",
      "60 patches in 10N\n",
      "41 patches in 7n\n",
      "180 patches in 12N\n",
      "80 patches in Tz\n",
      "28 patches in RMC\n",
      "282 patches in RtTg\n",
      "412 patches in Pn\n",
      "981 patches in IC_surround_noclass\n",
      "298 patches in IC_surround_SC\n",
      "1943 patches in SC_surround_noclass\n",
      "320 patches in SC_surround_IC\n",
      "747 patches in SNR_surround_noclass\n",
      "584 patches in 10N_surround_noclass\n",
      "167 patches in 10N_surround_12N\n",
      "478 patches in 7n_surround_noclass\n",
      "732 patches in 12N_surround_noclass\n",
      "60 patches in 12N_surround_10N\n",
      "553 patches in Tz_surround_noclass\n",
      "25 patches in Tz_surround_RtTg\n",
      "1 patches in Tz_surround_Pn\n",
      "437 patches in RMC_surround_noclass\n",
      "797 patches in RtTg_surround_noclass\n",
      "17 patches in RtTg_surround_Tz\n",
      "36 patches in RtTg_surround_Pn\n",
      "746 patches in Pn_surround_noclass\n",
      "44 patches in Pn_surround_RtTg\n",
      "1 patches in Pn_surround_Tz\n",
      "15680 patches in bg\n"
     ]
    },
    {
     "name": "stderr",
     "output_type": "stream",
     "text": [
      "Analyzing section 186..\n"
     ]
    },
    {
     "name": "stdout",
     "output_type": "stream",
     "text": [
      "3356 patches in SC\n",
      "186 patches in 12N\n",
      "293 patches in RtTg\n",
      "410 patches in Pn\n",
      "29 patches in RMC\n",
      "9 patches in 6N\n",
      "21 patches in 7n\n",
      "66 patches in 10N\n",
      "90 patches in Tz\n",
      "1272 patches in IC\n",
      "1922 patches in SC_surround_noclass\n",
      "311 patches in SC_surround_IC\n",
      "738 patches in 12N_surround_noclass\n",
      "66 patches in 12N_surround_10N\n",
      "805 patches in RtTg_surround_noclass\n",
      "16 patches in RtTg_surround_Tz\n",
      "24 patches in RtTg_surround_Pn\n",
      "821 patches in Pn_surround_noclass\n",
      "30 patches in Pn_surround_RtTg\n",
      "427 patches in RMC_surround_noclass\n",
      "316 patches in 6N_surround_noclass\n",
      "21 patches in 6N_surround_7n\n",
      "396 patches in 7n_surround_noclass\n",
      "9 patches in 7n_surround_6N\n",
      "648 patches in 10N_surround_noclass\n",
      "172 patches in 10N_surround_12N\n",
      "581 patches in Tz_surround_noclass\n",
      "22 patches in Tz_surround_RtTg\n",
      "992 patches in IC_surround_noclass\n",
      "287 patches in IC_surround_SC\n",
      "14942 patches in bg\n",
      "11 patches in 6N\n",
      "13 patches in 7n\n"
     ]
    },
    {
     "name": "stderr",
     "output_type": "stream",
     "text": [
      "Analyzing section 187..\n"
     ]
    },
    {
     "name": "stdout",
     "output_type": "stream",
     "text": [
      "54 patches in 10N\n",
      "203 patches in 12N\n",
      "409 patches in Pn\n",
      "107 patches in Tz\n",
      "306 patches in RtTg\n",
      "1239 patches in IC\n",
      "3331 patches in SC\n",
      "34 patches in RMC\n",
      "320 patches in 6N_surround_noclass\n",
      "13 patches in 6N_surround_7n\n",
      "367 patches in 7n_surround_noclass\n",
      "11 patches in 7n_surround_6N\n",
      "601 patches in 10N_surround_noclass\n",
      "182 patches in 10N_surround_12N\n",
      "775 patches in 12N_surround_noclass\n",
      "54 patches in 12N_surround_10N\n",
      "794 patches in Pn_surround_noclass\n",
      "25 patches in Pn_surround_RtTg\n",
      "638 patches in Tz_surround_noclass\n",
      "20 patches in Tz_surround_RtTg\n",
      "824 patches in RtTg_surround_noclass\n",
      "15 patches in RtTg_surround_Tz\n",
      "22 patches in RtTg_surround_Pn\n",
      "999 patches in IC_surround_noclass\n",
      "284 patches in IC_surround_SC\n",
      "1928 patches in SC_surround_noclass\n",
      "305 patches in SC_surround_IC\n",
      "441 patches in RMC_surround_noclass\n",
      "16104 patches in bg\n",
      "322 patches in RtTg\n",
      "123 patches in Tz\n",
      "210 patches in 12N\n",
      "38 patches in RMC\n"
     ]
    },
    {
     "name": "stderr",
     "output_type": "stream",
     "text": [
      "Analyzing section 188..\n"
     ]
    },
    {
     "name": "stdout",
     "output_type": "stream",
     "text": [
      "407 patches in Pn\n",
      "1208 patches in IC\n",
      "8 patches in 7n\n",
      "49 patches in 10N\n",
      "3319 patches in SC\n",
      "14 patches in 6N\n",
      "831 patches in RtTg_surround_noclass\n",
      "14 patches in RtTg_surround_Tz\n",
      "16 patches in RtTg_surround_Pn\n",
      "697 patches in Tz_surround_noclass\n",
      "19 patches in Tz_surround_RtTg\n",
      "803 patches in 12N_surround_noclass\n",
      "49 patches in 12N_surround_10N\n",
      "460 patches in RMC_surround_noclass\n",
      "801 patches in Pn_surround_noclass\n",
      "19 patches in Pn_surround_RtTg\n",
      "1003 patches in IC_surround_noclass\n",
      "284 patches in IC_surround_SC\n",
      "326 patches in 7n_surround_noclass\n",
      "14 patches in 7n_surround_6N\n",
      "574 patches in 10N_surround_noclass\n",
      "184 patches in 10N_surround_12N\n",
      "1922 patches in SC_surround_noclass\n",
      "305 patches in SC_surround_IC\n",
      "346 patches in 6N_surround_noclass\n",
      "8 patches in 6N_surround_7n\n",
      "16031 patches in bg\n",
      "39 patches in 10N\n"
     ]
    },
    {
     "name": "stderr",
     "output_type": "stream",
     "text": [
      "Analyzing section 189..\n"
     ]
    },
    {
     "name": "stdout",
     "output_type": "stream",
     "text": [
      "3314 patches in SC\n",
      "338 patches in RtTg\n",
      "22 patches in 6N\n",
      "28 patches in AP\n",
      "1172 patches in IC\n",
      "410 patches in Pn\n",
      "12 patches in 7n\n",
      "138 patches in Tz\n",
      "45 patches in RMC\n",
      "229 patches in 12N\n",
      "524 patches in 10N_surround_noclass\n",
      "192 patches in 10N_surround_12N\n",
      "27 patches in 10N_surround_AP\n",
      "1910 patches in SC_surround_noclass\n",
      "312 patches in SC_surround_IC\n",
      "866 patches in RtTg_surround_noclass\n",
      "12 patches in RtTg_surround_Tz\n",
      "10 patches in RtTg_surround_Pn\n",
      "371 patches in 6N_surround_noclass\n",
      "12 patches in 6N_surround_7n\n",
      "289 patches in AP_surround_noclass\n",
      "18 patches in AP_surround_10N\n",
      "1008 patches in IC_surround_noclass\n",
      "287 patches in IC_surround_SC\n",
      "826 patches in Pn_surround_noclass\n",
      "13 patches in Pn_surround_RtTg\n",
      "323 patches in 7n_surround_noclass\n",
      "22 patches in 7n_surround_6N\n",
      "742 patches in Tz_surround_noclass\n",
      "18 patches in Tz_surround_RtTg\n",
      "484 patches in RMC_surround_noclass\n",
      "837 patches in 12N_surround_noclass\n",
      "39 patches in 12N_surround_10N\n",
      "15604 patches in bg\n",
      "411 patches in Pn\n",
      "171 patches in Tz\n"
     ]
    },
    {
     "name": "stderr",
     "output_type": "stream",
     "text": [
      "Analyzing section 190..\n"
     ]
    },
    {
     "name": "stdout",
     "output_type": "stream",
     "text": [
      "37 patches in 10N\n",
      "3292 patches in SC\n",
      "48 patches in RMC\n",
      "237 patches in 12N\n",
      "355 patches in RtTg\n",
      "1142 patches in IC\n",
      "27 patches in 6N\n",
      "33 patches in AP\n",
      "858 patches in Pn_surround_noclass\n",
      "12 patches in Pn_surround_RtTg\n",
      "783 patches in Tz_surround_noclass\n",
      "23 patches in Tz_surround_RtTg\n",
      "523 patches in 10N_surround_noclass\n",
      "30 patches in 10N_surround_AP\n",
      "192 patches in 10N_surround_12N\n",
      "1905 patches in SC_surround_noclass\n",
      "311 patches in SC_surround_IC\n",
      "490 patches in RMC_surround_noclass\n",
      "858 patches in 12N_surround_noclass\n",
      "37 patches in 12N_surround_10N\n",
      "869 patches in RtTg_surround_noclass\n",
      "15 patches in RtTg_surround_Tz\n",
      "11 patches in RtTg_surround_Pn\n",
      "1005 patches in IC_surround_noclass\n",
      "283 patches in IC_surround_SC\n",
      "410 patches in 6N_surround_noclass\n",
      "296 patches in AP_surround_noclass\n",
      "12 patches in AP_surround_10N\n",
      "16034 patches in bg\n",
      "34 patches in 10N\n",
      "416 patches in Pn\n"
     ]
    },
    {
     "name": "stderr",
     "output_type": "stream",
     "text": [
      "Analyzing section 191..\n"
     ]
    },
    {
     "name": "stdout",
     "output_type": "stream",
     "text": [
      "3278 patches in SC\n",
      "252 patches in 12N\n",
      "26 patches in 6N\n",
      "1116 patches in IC\n",
      "55 patches in RMC\n",
      "366 patches in RtTg\n",
      "144 patches in Tz\n",
      "46 patches in AP\n",
      "494 patches in 10N_surround_noclass\n",
      "23 patches in 10N_surround_AP\n",
      "173 patches in 10N_surround_12N\n",
      "799 patches in Pn_surround_noclass\n",
      "5 patches in Pn_surround_RtTg\n",
      "1901 patches in SC_surround_noclass\n",
      "310 patches in SC_surround_IC\n",
      "897 patches in 12N_surround_noclass\n",
      "34 patches in 12N_surround_10N\n",
      "400 patches in 6N_surround_noclass\n",
      "1011 patches in IC_surround_noclass\n",
      "282 patches in IC_surround_SC\n",
      "517 patches in RMC_surround_noclass\n",
      "908 patches in RtTg_surround_noclass\n",
      "7 patches in RtTg_surround_Tz\n",
      "5 patches in RtTg_surround_Pn\n",
      "767 patches in Tz_surround_noclass\n",
      "13 patches in Tz_surround_RtTg\n",
      "324 patches in AP_surround_noclass\n",
      "8 patches in AP_surround_10N\n",
      "16246 patches in bg\n"
     ]
    },
    {
     "name": "stderr",
     "output_type": "stream",
     "text": [
      "Analyzing section 192..\n"
     ]
    },
    {
     "name": "stdout",
     "output_type": "stream",
     "text": [
      "52 patches in AP\n",
      "3267 patches in SC\n",
      "384 patches in RtTg\n",
      "414 patches in Pn\n",
      "27 patches in 6N\n",
      "269 patches in 12N\n",
      "59 patches in RMC\n",
      "138 patches in Tz\n",
      "32 patches in 10N\n",
      "1086 patches in IC\n",
      "340 patches in AP_surround_noclass\n",
      "1 patches in AP_surround_12N\n",
      "5 patches in AP_surround_10N\n",
      "1903 patches in SC_surround_noclass\n",
      "306 patches in SC_surround_IC\n",
      "936 patches in RtTg_surround_noclass\n",
      "6 patches in RtTg_surround_Tz\n",
      "3 patches in RtTg_surround_Pn\n",
      "815 patches in Pn_surround_noclass\n",
      "3 patches in Pn_surround_RtTg\n",
      "402 patches in 6N_surround_noclass\n",
      "922 patches in 12N_surround_noclass\n",
      "1 patches in 12N_surround_AP\n",
      "32 patches in 12N_surround_10N\n",
      "535 patches in RMC_surround_noclass\n",
      "774 patches in Tz_surround_noclass\n",
      "11 patches in Tz_surround_RtTg\n",
      "506 patches in 10N_surround_noclass\n",
      "166 patches in 10N_surround_12N\n",
      "12 patches in 10N_surround_AP\n",
      "1016 patches in IC_surround_noclass\n",
      "273 patches in IC_surround_SC\n",
      "16375 patches in bg\n",
      "64 patches in AP\n"
     ]
    },
    {
     "name": "stderr",
     "output_type": "stream",
     "text": [
      "Analyzing section 193..\n"
     ]
    },
    {
     "name": "stdout",
     "output_type": "stream",
     "text": [
      "1057 patches in IC\n",
      "3254 patches in SC\n",
      "414 patches in Pn\n",
      "124 patches in Tz\n",
      "399 patches in RtTg\n",
      "30 patches in 10N\n",
      "68 patches in RMC\n",
      "280 patches in 12N\n",
      "26 patches in 6N\n",
      "326 patches in AP_surround_noclass\n",
      "5 patches in AP_surround_12N\n",
      "1 patches in AP_surround_10N\n",
      "1010 patches in IC_surround_noclass\n",
      "277 patches in IC_surround_SC\n",
      "1895 patches in SC_surround_noclass\n",
      "307 patches in SC_surround_IC\n",
      "808 patches in Pn_surround_noclass\n",
      "1 patches in Pn_surround_RtTg\n",
      "776 patches in Tz_surround_noclass\n",
      "7 patches in Tz_surround_RtTg\n",
      "958 patches in RtTg_surround_noclass\n",
      "3 patches in RtTg_surround_Tz\n",
      "2 patches in RtTg_surround_Pn\n",
      "520 patches in 10N_surround_noclass\n",
      "154 patches in 10N_surround_12N\n",
      "8 patches in 10N_surround_AP\n",
      "545 patches in RMC_surround_noclass\n",
      "956 patches in 12N_surround_noclass\n",
      "4 patches in 12N_surround_AP\n",
      "30 patches in 12N_surround_10N\n",
      "397 patches in 6N_surround_noclass\n",
      "16392 patches in bg\n",
      "33 patches in 10N\n",
      "3245 patches in SC\n"
     ]
    },
    {
     "name": "stderr",
     "output_type": "stream",
     "text": [
      "Analyzing section 194..\n"
     ]
    },
    {
     "name": "stdout",
     "output_type": "stream",
     "text": [
      "75 patches in RMC\n",
      "117 patches in Tz\n",
      "1030 patches in IC\n",
      "77 patches in AP\n",
      "411 patches in RtTg\n",
      "25 patches in 6N\n",
      "416 patches in Pn\n",
      "295 patches in 12N\n",
      "524 patches in 10N_surround_noclass\n",
      "2 patches in 10N_surround_AP\n",
      "133 patches in 10N_surround_12N\n",
      "1892 patches in SC_surround_noclass\n",
      "313 patches in SC_surround_IC\n",
      "564 patches in RMC_surround_noclass\n",
      "740 patches in Tz_surround_noclass\n",
      "2 patches in Tz_surround_RtTg\n",
      "1016 patches in IC_surround_noclass\n",
      "282 patches in IC_surround_SC\n",
      "338 patches in AP_surround_noclass\n",
      "9 patches in AP_surround_12N\n",
      "1 patches in AP_surround_10N\n",
      "974 patches in RtTg_surround_noclass\n",
      "1 patches in RtTg_surround_Tz\n",
      "6 patches in RtTg_surround_Pn\n",
      "395 patches in 6N_surround_noclass\n",
      "800 patches in Pn_surround_noclass\n",
      "6 patches in Pn_surround_RtTg\n",
      "952 patches in 12N_surround_noclass\n",
      "6 patches in 12N_surround_AP\n",
      "33 patches in 12N_surround_10N\n",
      "16149 patches in bg\n",
      "89 patches in RMC\n"
     ]
    },
    {
     "name": "stderr",
     "output_type": "stream",
     "text": [
      "Analyzing section 195..\n"
     ]
    },
    {
     "name": "stdout",
     "output_type": "stream",
     "text": [
      "3230 patches in SC\n",
      "421 patches in Pn\n",
      "1004 patches in IC\n",
      "456 patches in IO\n",
      "93 patches in AP\n",
      "26 patches in 6N\n",
      "435 patches in RtTg\n",
      "114 patches in Tz\n",
      "322 patches in 12N\n",
      "36 patches in 10N\n",
      "612 patches in RMC_surround_noclass\n",
      "1888 patches in SC_surround_noclass\n",
      "304 patches in SC_surround_IC\n",
      "772 patches in Pn_surround_noclass\n",
      "10 patches in Pn_surround_RtTg\n",
      "1012 patches in IC_surround_noclass\n",
      "274 patches in IC_surround_SC\n",
      "1277 patches in IO_surround_noclass\n",
      "384 patches in AP_surround_noclass\n",
      "15 patches in AP_surround_12N\n",
      "1 patches in AP_surround_10N\n",
      "413 patches in 6N_surround_noclass\n",
      "1016 patches in RtTg_surround_noclass\n",
      "1 patches in RtTg_surround_Tz\n",
      "19 patches in RtTg_surround_Pn\n",
      "746 patches in Tz_surround_noclass\n",
      "13 patches in Tz_surround_RtTg\n",
      "1014 patches in 12N_surround_noclass\n",
      "12 patches in 12N_surround_AP\n",
      "36 patches in 12N_surround_10N\n",
      "556 patches in 10N_surround_noclass\n",
      "3 patches in 10N_surround_AP\n",
      "126 patches in 10N_surround_12N\n",
      "15629 patches in bg\n"
     ]
    },
    {
     "name": "stderr",
     "output_type": "stream",
     "text": [
      "Analyzing section 196..\n"
     ]
    },
    {
     "name": "stdout",
     "output_type": "stream",
     "text": [
      "135 patches in Tz\n",
      "969 patches in IC\n",
      "25 patches in 10N\n",
      "419 patches in IO\n",
      "11 patches in 6N\n",
      "84 patches in AP\n",
      "449 patches in RtTg\n",
      "276 patches in 12N\n",
      "441 patches in Pn\n",
      "88 patches in RMC\n",
      "3201 patches in SC\n",
      "739 patches in Tz_surround_noclass\n",
      "4 patches in Tz_surround_RtTg\n",
      "1021 patches in IC_surround_noclass\n",
      "266 patches in IC_surround_SC\n",
      "472 patches in 10N_surround_noclass\n",
      "71 patches in 10N_surround_12N\n",
      "1292 patches in IO_surround_noclass\n",
      "330 patches in 6N_surround_noclass\n",
      "358 patches in AP_surround_noclass\n",
      "3 patches in AP_surround_12N\n",
      "970 patches in RtTg_surround_noclass\n",
      "2 patches in RtTg_surround_Tz\n",
      "20 patches in RtTg_surround_Pn\n",
      "987 patches in 12N_surround_noclass\n",
      "25 patches in 12N_surround_10N\n",
      "2 patches in 12N_surround_AP\n",
      "801 patches in Pn_surround_noclass\n",
      "13 patches in Pn_surround_RtTg\n",
      "582 patches in RMC_surround_noclass\n",
      "1900 patches in SC_surround_noclass\n",
      "299 patches in SC_surround_IC\n",
      "15541 patches in bg\n"
     ]
    },
    {
     "name": "stderr",
     "output_type": "stream",
     "text": [
      "Analyzing section 197..\n"
     ]
    },
    {
     "name": "stdout",
     "output_type": "stream",
     "text": [
      "6 patches in 6N\n",
      "19 patches in 10N\n",
      "944 patches in IC\n",
      "459 patches in RtTg\n",
      "88 patches in RMC\n",
      "392 patches in IO\n",
      "116 patches in Tz\n",
      "255 patches in 12N\n",
      "3191 patches in SC\n",
      "458 patches in Pn\n",
      "86 patches in AP\n",
      "323 patches in 6N_surround_noclass\n",
      "438 patches in 10N_surround_noclass\n",
      "46 patches in 10N_surround_12N\n",
      "1018 patches in IC_surround_noclass\n",
      "271 patches in IC_surround_SC\n",
      "970 patches in RtTg_surround_noclass\n",
      "2 patches in RtTg_surround_Tz\n",
      "29 patches in RtTg_surround_Pn\n",
      "583 patches in RMC_surround_noclass\n",
      "1284 patches in IO_surround_noclass\n",
      "726 patches in Tz_surround_noclass\n",
      "960 patches in 12N_surround_noclass\n",
      "19 patches in 12N_surround_10N\n",
      "1897 patches in SC_surround_noclass\n",
      "296 patches in SC_surround_IC\n",
      "747 patches in Pn_surround_noclass\n",
      "20 patches in Pn_surround_RtTg\n",
      "389 patches in AP_surround_noclass\n",
      "15466 patches in bg\n"
     ]
    },
    {
     "name": "stderr",
     "output_type": "stream",
     "text": [
      "Analyzing section 198..\n"
     ]
    },
    {
     "name": "stdout",
     "output_type": "stream",
     "text": [
      "485 patches in Pn\n",
      "90 patches in RMC\n",
      "352 patches in IO\n",
      "84 patches in AP\n",
      "479 patches in RtTg\n",
      "225 patches in 12N\n",
      "905 patches in IC\n",
      "3167 patches in SC\n",
      "103 patches in Tz\n",
      "757 patches in Pn_surround_noclass\n",
      "35 patches in Pn_surround_RtTg\n",
      "580 patches in RMC_surround_noclass\n",
      "1262 patches in IO_surround_noclass\n",
      "369 patches in AP_surround_noclass\n",
      "950 patches in RtTg_surround_noclass\n",
      "6 patches in RtTg_surround_Tz\n",
      "48 patches in RtTg_surround_Pn\n",
      "959 patches in 12N_surround_noclass\n",
      "1022 patches in IC_surround_noclass\n",
      "267 patches in IC_surround_SC\n",
      "1895 patches in SC_surround_noclass\n",
      "294 patches in SC_surround_IC\n",
      "730 patches in Tz_surround_noclass\n",
      "16 patches in Tz_surround_RtTg\n",
      "15456 patches in bg\n",
      "95 patches in RMC\n",
      "884 patches in IC\n"
     ]
    },
    {
     "name": "stderr",
     "output_type": "stream",
     "text": [
      "Analyzing section 199..\n"
     ]
    },
    {
     "name": "stdout",
     "output_type": "stream",
     "text": [
      "87 patches in Tz\n",
      "198 patches in 12N\n",
      "3146 patches in SC\n",
      "494 patches in RtTg\n",
      "508 patches in Pn\n",
      "328 patches in IO\n",
      "84 patches in AP\n",
      "579 patches in RMC_surround_noclass\n",
      "1034 patches in IC_surround_noclass\n",
      "265 patches in IC_surround_SC\n",
      "718 patches in Tz_surround_noclass\n",
      "22 patches in Tz_surround_RtTg\n",
      "946 patches in 12N_surround_noclass\n",
      "1893 patches in SC_surround_noclass\n",
      "291 patches in SC_surround_IC\n",
      "955 patches in RtTg_surround_noclass\n",
      "5 patches in RtTg_surround_Tz\n",
      "58 patches in RtTg_surround_Pn\n",
      "744 patches in Pn_surround_noclass\n",
      "46 patches in Pn_surround_RtTg\n",
      "1212 patches in IO_surround_noclass\n",
      "364 patches in AP_surround_noclass\n",
      "15456 patches in bg\n",
      "858 patches in IC\n",
      "514 patches in RtTg\n"
     ]
    },
    {
     "name": "stderr",
     "output_type": "stream",
     "text": [
      "Analyzing section 200..\n"
     ]
    },
    {
     "name": "stdout",
     "output_type": "stream",
     "text": [
      "300 patches in IO\n",
      "88 patches in AP\n",
      "3156 patches in SC\n",
      "79 patches in Tz\n",
      "107 patches in RMC\n",
      "181 patches in 12N\n",
      "536 patches in Pn\n",
      "1039 patches in IC_surround_noclass\n",
      "281 patches in IC_surround_SC\n",
      "958 patches in RtTg_surround_noclass\n",
      "9 patches in RtTg_surround_Tz\n",
      "76 patches in RtTg_surround_Pn\n",
      "1217 patches in IO_surround_noclass\n",
      "382 patches in AP_surround_noclass\n",
      "1892 patches in SC_surround_noclass\n",
      "311 patches in SC_surround_IC\n",
      "739 patches in Tz_surround_noclass\n",
      "42 patches in Tz_surround_RtTg\n",
      "598 patches in RMC_surround_noclass\n",
      "957 patches in 12N_surround_noclass\n",
      "774 patches in Pn_surround_noclass\n",
      "71 patches in Pn_surround_RtTg\n",
      "15618 patches in bg\n"
     ]
    },
    {
     "name": "stderr",
     "output_type": "stream",
     "text": [
      "Analyzing section 201..\n"
     ]
    },
    {
     "name": "stdout",
     "output_type": "stream",
     "text": [
      "311 patches in IO\n",
      "554 patches in RtTg\n",
      "3012 patches in SC\n",
      "554 patches in Pn\n",
      "806 patches in IC\n",
      "69 patches in AP\n",
      "181 patches in 12N\n",
      "60 patches in Tz\n",
      "109 patches in RMC\n",
      "1192 patches in IO_surround_noclass\n",
      "1000 patches in RtTg_surround_noclass\n",
      "3 patches in RtTg_surround_Tz\n",
      "94 patches in RtTg_surround_Pn\n",
      "1892 patches in SC_surround_noclass\n",
      "259 patches in SC_surround_IC\n",
      "724 patches in Pn_surround_noclass\n",
      "66 patches in Pn_surround_RtTg\n",
      "1015 patches in IC_surround_noclass\n",
      "243 patches in IC_surround_SC\n",
      "339 patches in AP_surround_noclass\n",
      "926 patches in 12N_surround_noclass\n",
      "660 patches in Tz_surround_noclass\n",
      "13 patches in Tz_surround_RtTg\n",
      "609 patches in RMC_surround_noclass\n",
      "15653 patches in bg\n",
      "47 patches in Tz\n",
      "586 patches in RtTg\n"
     ]
    },
    {
     "name": "stderr",
     "output_type": "stream",
     "text": [
      "Analyzing section 202..\n"
     ]
    },
    {
     "name": "stdout",
     "output_type": "stream",
     "text": [
      "2889 patches in SC\n",
      "771 patches in IC\n",
      "324 patches in IO\n",
      "119 patches in RMC\n",
      "194 patches in 12N\n",
      "60 patches in AP\n",
      "572 patches in Pn\n",
      "602 patches in Tz_surround_noclass\n",
      "1083 patches in RtTg_surround_noclass\n",
      "115 patches in RtTg_surround_Pn\n",
      "1890 patches in SC_surround_noclass\n",
      "242 patches in SC_surround_IC\n",
      "1000 patches in IC_surround_noclass\n",
      "222 patches in IC_surround_SC\n",
      "1171 patches in IO_surround_noclass\n",
      "625 patches in RMC_surround_noclass\n",
      "951 patches in 12N_surround_noclass\n",
      "333 patches in AP_surround_noclass\n",
      "720 patches in Pn_surround_noclass\n",
      "88 patches in Pn_surround_RtTg\n",
      "15685 patches in bg\n",
      "144 patches in RMC\n"
     ]
    },
    {
     "name": "stderr",
     "output_type": "stream",
     "text": [
      "Analyzing section 203..\n"
     ]
    },
    {
     "name": "stdout",
     "output_type": "stream",
     "text": [
      "40 patches in 10N\n",
      "725 patches in IC\n",
      "596 patches in Pn\n",
      "37 patches in Tz\n",
      "222 patches in 12N\n",
      "2753 patches in SC\n",
      "351 patches in IO\n",
      "53 patches in AP\n",
      "613 patches in RtTg\n",
      "677 patches in RMC_surround_noclass\n",
      "649 patches in 10N_surround_noclass\n",
      "11 patches in 10N_surround_AP\n",
      "78 patches in 10N_surround_12N\n",
      "986 patches in IC_surround_noclass\n",
      "201 patches in IC_surround_SC\n",
      "690 patches in Pn_surround_noclass\n",
      "125 patches in Pn_surround_RtTg\n",
      "552 patches in Tz_surround_noclass\n",
      "13 patches in Tz_surround_RtTg\n",
      "947 patches in 12N_surround_noclass\n",
      "8 patches in 12N_surround_AP\n",
      "40 patches in 12N_surround_10N\n",
      "1879 patches in SC_surround_noclass\n",
      "210 patches in SC_surround_IC\n",
      "1235 patches in IO_surround_noclass\n",
      "320 patches in AP_surround_noclass\n",
      "9 patches in AP_surround_12N\n",
      "3 patches in AP_surround_10N\n",
      "1220 patches in RtTg_surround_noclass\n",
      "6 patches in RtTg_surround_Tz\n",
      "149 patches in RtTg_surround_Pn\n",
      "15575 patches in bg\n"
     ]
    },
    {
     "name": "stderr",
     "output_type": "stream",
     "text": [
      "Analyzing section 204..\n"
     ]
    },
    {
     "name": "stdout",
     "output_type": "stream",
     "text": [
      "241 patches in 12N\n",
      "588 patches in Pn\n",
      "40 patches in AP\n",
      "2632 patches in SC\n",
      "269 patches in IO\n",
      "610 patches in RtTg\n",
      "25 patches in Tz\n",
      "126 patches in RMC\n",
      "19 patches in 4N\n",
      "38 patches in 10N\n",
      "683 patches in IC\n",
      "932 patches in 12N_surround_noclass\n",
      "8 patches in 12N_surround_AP\n",
      "38 patches in 12N_surround_10N\n",
      "694 patches in Pn_surround_noclass\n",
      "127 patches in Pn_surround_RtTg\n",
      "291 patches in AP_surround_noclass\n",
      "14 patches in AP_surround_12N\n",
      "3 patches in AP_surround_10N\n",
      "1883 patches in SC_surround_noclass\n",
      "193 patches in SC_surround_IC\n",
      "980 patches in IO_surround_noclass\n",
      "1176 patches in RtTg_surround_noclass\n",
      "1 patches in RtTg_surround_Tz\n",
      "156 patches in RtTg_surround_Pn\n",
      "476 patches in Tz_surround_noclass\n",
      "5 patches in Tz_surround_RtTg\n",
      "643 patches in RMC_surround_noclass\n",
      "379 patches in 4N_surround_noclass\n",
      "615 patches in 10N_surround_noclass\n",
      "103 patches in 10N_surround_12N\n",
      "4 patches in 10N_surround_AP\n",
      "955 patches in IC_surround_noclass\n",
      "175 patches in IC_surround_SC\n",
      "15722 patches in bg\n"
     ]
    },
    {
     "name": "stderr",
     "output_type": "stream",
     "text": [
      "Analyzing section 205..\n"
     ]
    },
    {
     "name": "stdout",
     "output_type": "stream",
     "text": [
      "115 patches in RMC\n",
      "618 patches in RtTg\n",
      "46 patches in 10N\n",
      "14 patches in Tz\n",
      "2492 patches in SC\n",
      "586 patches in Pn\n",
      "641 patches in IC\n",
      "263 patches in 12N\n",
      "14 patches in 4N\n",
      "621 patches in RMC_surround_noclass\n",
      "1153 patches in RtTg_surround_noclass\n",
      "166 patches in RtTg_surround_Pn\n",
      "623 patches in 10N_surround_noclass\n",
      "142 patches in 10N_surround_12N\n",
      "432 patches in Tz_surround_noclass\n",
      "1 patches in Tz_surround_RtTg\n",
      "1870 patches in SC_surround_noclass\n",
      "164 patches in SC_surround_IC\n",
      "736 patches in Pn_surround_noclass\n",
      "135 patches in Pn_surround_RtTg\n",
      "958 patches in IC_surround_noclass\n",
      "158 patches in IC_surround_SC\n",
      "957 patches in 12N_surround_noclass\n",
      "46 patches in 12N_surround_10N\n",
      "360 patches in 4N_surround_noclass\n",
      "15797 patches in bg\n",
      "47 patches in 10N\n",
      "596 patches in IC\n",
      "106 patches in RMC\n"
     ]
    },
    {
     "name": "stderr",
     "output_type": "stream",
     "text": [
      "Analyzing section 206..\n"
     ]
    },
    {
     "name": "stdout",
     "output_type": "stream",
     "text": [
      "582 patches in Pn\n",
      "2381 patches in SC\n",
      "12 patches in Tz\n",
      "613 patches in RtTg\n",
      "292 patches in 12N\n",
      "12 patches in 4N\n",
      "605 patches in 10N_surround_noclass\n",
      "176 patches in 10N_surround_12N\n",
      "925 patches in IC_surround_noclass\n",
      "143 patches in IC_surround_SC\n",
      "614 patches in RMC_surround_noclass\n",
      "688 patches in Pn_surround_noclass\n",
      "133 patches in Pn_surround_RtTg\n",
      "1845 patches in SC_surround_noclass\n",
      "146 patches in SC_surround_IC\n",
      "431 patches in Tz_surround_noclass\n",
      "2 patches in Tz_surround_RtTg\n",
      "1138 patches in RtTg_surround_noclass\n",
      "173 patches in RtTg_surround_Pn\n",
      "967 patches in 12N_surround_noclass\n",
      "47 patches in 12N_surround_10N\n",
      "358 patches in 4N_surround_noclass\n",
      "15826 patches in bg\n",
      "11 patches in 4N\n",
      "572 patches in IC\n"
     ]
    },
    {
     "name": "stderr",
     "output_type": "stream",
     "text": [
      "Analyzing section 207..\n"
     ]
    },
    {
     "name": "stdout",
     "output_type": "stream",
     "text": [
      "2253 patches in SC\n",
      "611 patches in RtTg\n",
      "321 patches in 12N\n",
      "99 patches in RMC\n",
      "587 patches in Pn\n",
      "55 patches in 10N\n",
      "334 patches in 4N_surround_noclass\n",
      "897 patches in IC_surround_noclass\n",
      "136 patches in IC_surround_SC\n",
      "1838 patches in SC_surround_noclass\n",
      "136 patches in SC_surround_IC\n",
      "1130 patches in RtTg_surround_noclass\n",
      "185 patches in RtTg_surround_Pn\n",
      "983 patches in 12N_surround_noclass\n",
      "55 patches in 12N_surround_10N\n",
      "600 patches in RMC_surround_noclass\n",
      "704 patches in Pn_surround_noclass\n",
      "139 patches in Pn_surround_RtTg\n",
      "586 patches in 10N_surround_noclass\n",
      "211 patches in 10N_surround_12N\n",
      "15639 patches in bg\n"
     ]
    },
    {
     "name": "stderr",
     "output_type": "stream",
     "text": [
      "Analyzing section 208..\n"
     ]
    },
    {
     "name": "stdout",
     "output_type": "stream",
     "text": [
      "92 patches in RMC\n",
      "56 patches in 10N\n",
      "586 patches in Pn\n",
      "621 patches in RtTg\n",
      "345 patches in 12N\n",
      "527 patches in IC\n",
      "12 patches in 4N\n",
      "2138 patches in SC\n",
      "580 patches in RMC_surround_noclass\n",
      "595 patches in 10N_surround_noclass\n",
      "233 patches in 10N_surround_12N\n",
      "678 patches in Pn_surround_noclass\n",
      "144 patches in Pn_surround_RtTg\n",
      "1108 patches in RtTg_surround_noclass\n",
      "193 patches in RtTg_surround_Pn\n",
      "1010 patches in 12N_surround_noclass\n",
      "56 patches in 12N_surround_10N\n",
      "870 patches in IC_surround_noclass\n",
      "120 patches in IC_surround_SC\n",
      "341 patches in 4N_surround_noclass\n",
      "1841 patches in SC_surround_noclass\n",
      "117 patches in SC_surround_IC\n",
      "15779 patches in bg\n"
     ]
    },
    {
     "name": "stderr",
     "output_type": "stream",
     "text": [
      "Analyzing section 209..\n"
     ]
    },
    {
     "name": "stdout",
     "output_type": "stream",
     "text": [
      "506 patches in IC\n",
      "61 patches in 10N\n",
      "379 patches in 12N\n",
      "94 patches in RMC\n",
      "2061 patches in SC\n",
      "10 patches in 4N\n",
      "589 patches in Pn\n",
      "635 patches in RtTg\n",
      "47 patches in 3N\n",
      "874 patches in IC_surround_noclass\n",
      "129 patches in IC_surround_SC\n",
      "633 patches in 10N_surround_noclass\n",
      "257 patches in 10N_surround_12N\n",
      "1058 patches in 12N_surround_noclass\n",
      "61 patches in 12N_surround_10N\n",
      "587 patches in RMC_surround_noclass\n",
      "1862 patches in SC_surround_noclass\n",
      "117 patches in SC_surround_IC\n",
      "314 patches in 4N_surround_noclass\n",
      "32 patches in 4N_surround_3N\n",
      "695 patches in Pn_surround_noclass\n",
      "162 patches in Pn_surround_RtTg\n",
      "1118 patches in RtTg_surround_noclass\n",
      "211 patches in RtTg_surround_Pn\n",
      "456 patches in 3N_surround_noclass\n",
      "10 patches in 3N_surround_4N\n",
      "15803 patches in bg\n",
      "226 patches in LC\n",
      "479 patches in IC\n"
     ]
    },
    {
     "name": "stderr",
     "output_type": "stream",
     "text": [
      "Analyzing section 210..\n"
     ]
    },
    {
     "name": "stdout",
     "output_type": "stream",
     "text": [
      "355 patches in 12N\n",
      "42 patches in 3N\n",
      "44 patches in 10N\n",
      "13 patches in 4N\n",
      "2049 patches in SC\n",
      "59 patches in RMC\n",
      "584 patches in RtTg\n",
      "832 patches in LC_surround_noclass\n",
      "836 patches in IC_surround_noclass\n",
      "114 patches in IC_surround_SC\n",
      "1012 patches in 12N_surround_noclass\n",
      "44 patches in 12N_surround_10N\n",
      "451 patches in 3N_surround_noclass\n",
      "13 patches in 3N_surround_4N\n",
      "582 patches in 10N_surround_noclass\n",
      "237 patches in 10N_surround_12N\n",
      "317 patches in 4N_surround_noclass\n",
      "24 patches in 4N_surround_3N\n",
      "1804 patches in SC_surround_noclass\n",
      "104 patches in SC_surround_IC\n",
      "511 patches in RMC_surround_noclass\n",
      "1285 patches in RtTg_surround_noclass\n",
      "15741 patches in bg\n",
      "4 patches in 4N\n"
     ]
    },
    {
     "name": "stderr",
     "output_type": "stream",
     "text": [
      "Analyzing section 211..\n"
     ]
    },
    {
     "name": "stdout",
     "output_type": "stream",
     "text": [
      "2046 patches in SC\n",
      "68 patches in 3N\n",
      "456 patches in IC\n",
      "37 patches in RMC\n",
      "42 patches in 10N\n",
      "547 patches in RtTg\n",
      "340 patches in 12N\n",
      "277 patches in 4N_surround_noclass\n",
      "30 patches in 4N_surround_3N\n",
      "1783 patches in SC_surround_noclass\n",
      "100 patches in SC_surround_IC\n",
      "510 patches in 3N_surround_noclass\n",
      "4 patches in 3N_surround_4N\n",
      "815 patches in IC_surround_noclass\n",
      "113 patches in IC_surround_SC\n",
      "457 patches in RMC_surround_noclass\n",
      "547 patches in 10N_surround_noclass\n",
      "234 patches in 10N_surround_12N\n",
      "1283 patches in RtTg_surround_noclass\n",
      "992 patches in 12N_surround_noclass\n",
      "42 patches in 12N_surround_10N\n",
      "15684 patches in bg\n"
     ]
    },
    {
     "name": "stderr",
     "output_type": "stream",
     "text": [
      "Analyzing section 212..\n"
     ]
    },
    {
     "name": "stdout",
     "output_type": "stream",
     "text": [
      "21 patches in RMC\n",
      "318 patches in 12N\n",
      "437 patches in IC\n",
      "507 patches in RtTg\n",
      "2 patches in 4N\n",
      "35 patches in 10N\n",
      "116 patches in 3N\n",
      "2046 patches in SC\n",
      "402 patches in RMC_surround_noclass\n",
      "980 patches in 12N_surround_noclass\n",
      "35 patches in 12N_surround_10N\n",
      "804 patches in IC_surround_noclass\n",
      "105 patches in IC_surround_SC\n",
      "1271 patches in RtTg_surround_noclass\n",
      "246 patches in 4N_surround_noclass\n",
      "42 patches in 4N_surround_3N\n",
      "522 patches in 10N_surround_noclass\n",
      "223 patches in 10N_surround_12N\n",
      "602 patches in 3N_surround_noclass\n",
      "2 patches in 3N_surround_4N\n",
      "1768 patches in SC_surround_noclass\n",
      "95 patches in SC_surround_IC\n",
      "15751 patches in bg\n",
      "480 patches in RtTg\n",
      "306 patches in 12N\n",
      "14 patches in RMC\n",
      "3 patches in 4N\n"
     ]
    },
    {
     "name": "stderr",
     "output_type": "stream",
     "text": [
      "Analyzing section 213..\n"
     ]
    },
    {
     "name": "stdout",
     "output_type": "stream",
     "text": [
      "120 patches in 3N\n",
      "419 patches in IC\n",
      "2044 patches in SC\n",
      "31 patches in 10N\n",
      "1264 patches in RtTg_surround_noclass\n",
      "936 patches in 12N_surround_noclass\n",
      "31 patches in 12N_surround_10N\n",
      "370 patches in RMC_surround_noclass\n",
      "250 patches in 4N_surround_noclass\n",
      "40 patches in 4N_surround_3N\n",
      "608 patches in 3N_surround_noclass\n",
      "3 patches in 3N_surround_4N\n",
      "791 patches in IC_surround_noclass\n",
      "109 patches in IC_surround_SC\n",
      "1760 patches in SC_surround_noclass\n",
      "92 patches in SC_surround_IC\n",
      "520 patches in 10N_surround_noclass\n",
      "217 patches in 10N_surround_12N\n",
      "15704 patches in bg\n",
      "2045 patches in SC\n",
      "26 patches in 10N\n"
     ]
    },
    {
     "name": "stderr",
     "output_type": "stream",
     "text": [
      "Analyzing section 214..\n"
     ]
    },
    {
     "name": "stdout",
     "output_type": "stream",
     "text": [
      "435 patches in RtTg\n",
      "130 patches in 3N\n",
      "282 patches in 12N\n",
      "398 patches in IC\n",
      "1749 patches in SC_surround_noclass\n",
      "90 patches in SC_surround_IC\n",
      "491 patches in 10N_surround_noclass\n",
      "211 patches in 10N_surround_12N\n",
      "1271 patches in RtTg_surround_noclass\n",
      "642 patches in 3N_surround_noclass\n",
      "917 patches in 12N_surround_noclass\n",
      "26 patches in 12N_surround_10N\n",
      "784 patches in IC_surround_noclass\n",
      "106 patches in IC_surround_SC\n",
      "15950 patches in bg\n"
     ]
    },
    {
     "name": "stderr",
     "output_type": "stream",
     "text": [
      "Analyzing section 215..\n"
     ]
    },
    {
     "name": "stdout",
     "output_type": "stream",
     "text": [
      "396 patches in IC\n",
      "25 patches in 10N\n",
      "149 patches in 3N\n",
      "2060 patches in SC\n",
      "405 patches in RtTg\n",
      "281 patches in 12N\n",
      "545 patches in Pn\n",
      "779 patches in IC_surround_noclass\n",
      "109 patches in IC_surround_SC\n",
      "502 patches in 10N_surround_noclass\n",
      "214 patches in 10N_surround_12N\n",
      "669 patches in 3N_surround_noclass\n",
      "1755 patches in SC_surround_noclass\n",
      "98 patches in SC_surround_IC\n",
      "1111 patches in RtTg_surround_noclass\n",
      "200 patches in RtTg_surround_Pn\n",
      "939 patches in 12N_surround_noclass\n",
      "25 patches in 12N_surround_10N\n",
      "718 patches in Pn_surround_noclass\n",
      "153 patches in Pn_surround_RtTg\n",
      "15951 patches in bg\n"
     ]
    },
    {
     "name": "stderr",
     "output_type": "stream",
     "text": [
      "Analyzing section 216..\n"
     ]
    },
    {
     "name": "stdout",
     "output_type": "stream",
     "text": [
      "2032 patches in SC\n",
      "186 patches in 12N\n",
      "23 patches in 10N\n",
      "416 patches in RtTg\n",
      "375 patches in IC\n",
      "127 patches in 3N\n",
      "1718 patches in SC_surround_noclass\n",
      "92 patches in SC_surround_IC\n",
      "763 patches in 12N_surround_noclass\n",
      "23 patches in 12N_surround_10N\n",
      "477 patches in 10N_surround_noclass\n",
      "151 patches in 10N_surround_12N\n",
      "1236 patches in RtTg_surround_noclass\n",
      "773 patches in IC_surround_noclass\n",
      "98 patches in IC_surround_SC\n",
      "632 patches in 3N_surround_noclass\n",
      "15878 patches in bg\n",
      "375 patches in IC\n",
      "20 patches in 10N\n"
     ]
    },
    {
     "name": "stderr",
     "output_type": "stream",
     "text": [
      "Analyzing section 217..\n"
     ]
    },
    {
     "name": "stdout",
     "output_type": "stream",
     "text": [
      "2022 patches in SC\n",
      "429 patches in RtTg\n",
      "101 patches in 12N\n",
      "110 patches in 3N\n",
      "783 patches in IC_surround_noclass\n",
      "92 patches in IC_surround_SC\n",
      "493 patches in 10N_surround_noclass\n",
      "93 patches in 10N_surround_12N\n",
      "1688 patches in SC_surround_noclass\n",
      "100 patches in SC_surround_IC\n",
      "1215 patches in RtTg_surround_noclass\n",
      "600 patches in 12N_surround_noclass\n",
      "20 patches in 12N_surround_10N\n",
      "605 patches in 3N_surround_noclass\n",
      "15770 patches in bg\n",
      "441 patches in RtTg\n"
     ]
    },
    {
     "name": "stderr",
     "output_type": "stream",
     "text": [
      "Analyzing section 218..\n"
     ]
    },
    {
     "name": "stdout",
     "output_type": "stream",
     "text": [
      "366 patches in IC\n",
      "96 patches in 3N\n",
      "52 patches in 12N\n",
      "20 patches in 10N\n",
      "2004 patches in SC\n",
      "1177 patches in RtTg_surround_noclass\n",
      "789 patches in IC_surround_noclass\n",
      "84 patches in IC_surround_SC\n",
      "583 patches in 3N_surround_noclass\n",
      "480 patches in 12N_surround_noclass\n",
      "20 patches in 12N_surround_10N\n",
      "497 patches in 10N_surround_noclass\n",
      "52 patches in 10N_surround_12N\n",
      "1687 patches in SC_surround_noclass\n",
      "95 patches in SC_surround_IC\n",
      "16200 patches in bg\n"
     ]
    },
    {
     "name": "stderr",
     "output_type": "stream",
     "text": [
      "Analyzing section 219..\n"
     ]
    },
    {
     "name": "stdout",
     "output_type": "stream",
     "text": [
      "20 patches in 12N\n",
      "449 patches in RtTg\n",
      "1999 patches in SC\n",
      "14 patches in 10N\n",
      "360 patches in IC\n",
      "82 patches in 3N\n",
      "357 patches in 12N_surround_noclass\n",
      "14 patches in 12N_surround_10N\n",
      "1155 patches in RtTg_surround_noclass\n",
      "1715 patches in SC_surround_noclass\n",
      "93 patches in SC_surround_IC\n",
      "491 patches in 10N_surround_noclass\n",
      "20 patches in 10N_surround_12N\n",
      "812 patches in IC_surround_noclass\n",
      "75 patches in IC_surround_SC\n",
      "553 patches in 3N_surround_noclass\n",
      "15834 patches in bg\n"
     ]
    },
    {
     "name": "stderr",
     "output_type": "stream",
     "text": [
      "Analyzing section 220..\n"
     ]
    },
    {
     "name": "stdout",
     "output_type": "stream",
     "text": [
      "357 patches in IC\n",
      "12 patches in 10N\n",
      "463 patches in RtTg\n",
      "66 patches in 3N\n",
      "1996 patches in SC\n",
      "810 patches in IC_surround_noclass\n",
      "70 patches in IC_surround_SC\n",
      "468 patches in 10N_surround_noclass\n",
      "1143 patches in RtTg_surround_noclass\n",
      "527 patches in 3N_surround_noclass\n",
      "1706 patches in SC_surround_noclass\n",
      "94 patches in SC_surround_IC\n",
      "15951 patches in bg\n",
      "13 patches in 10N\n",
      "362 patches in IC\n",
      "60 patches in 3N\n",
      "465 patches in RtTg\n",
      "1987 patches in SC\n"
     ]
    },
    {
     "name": "stderr",
     "output_type": "stream",
     "text": [
      "Analyzing section 221..\n"
     ]
    },
    {
     "name": "stdout",
     "output_type": "stream",
     "text": [
      "457 patches in 10N_surround_noclass\n",
      "835 patches in IC_surround_noclass\n",
      "66 patches in IC_surround_SC\n",
      "526 patches in 3N_surround_noclass\n",
      "1120 patches in RtTg_surround_noclass\n",
      "1700 patches in SC_surround_noclass\n",
      "96 patches in SC_surround_IC\n",
      "15949 patches in bg\n",
      "1938 patches in SC\n",
      "472 patches in RtTg\n"
     ]
    },
    {
     "name": "stderr",
     "output_type": "stream",
     "text": [
      "Analyzing section 222..\n"
     ]
    },
    {
     "name": "stdout",
     "output_type": "stream",
     "text": [
      "349 patches in IC\n",
      "5 patches in 10N\n",
      "9 patches in 6N\n",
      "1674 patches in SC_surround_noclass\n",
      "80 patches in SC_surround_IC\n",
      "1096 patches in RtTg_surround_noclass\n",
      "826 patches in IC_surround_noclass\n",
      "58 patches in IC_surround_SC\n",
      "380 patches in 10N_surround_noclass\n",
      "331 patches in 6N_surround_noclass\n",
      "16029 patches in bg\n"
     ]
    },
    {
     "name": "stderr",
     "output_type": "stream",
     "text": [
      "Analyzing section 223..\n"
     ]
    },
    {
     "name": "stdout",
     "output_type": "stream",
     "text": [
      "479 patches in RtTg\n",
      "9 patches in 6N\n",
      "1897 patches in SC\n",
      "344 patches in IC\n",
      "1061 patches in RtTg_surround_noclass\n",
      "322 patches in 6N_surround_noclass\n",
      "1692 patches in SC_surround_noclass\n",
      "80 patches in SC_surround_IC\n",
      "808 patches in IC_surround_noclass\n",
      "58 patches in IC_surround_SC\n",
      "16009 patches in bg\n",
      "479 patches in RtTg\n",
      "339 patches in IC\n"
     ]
    },
    {
     "name": "stderr",
     "output_type": "stream",
     "text": [
      "Analyzing section 224..\n"
     ]
    },
    {
     "name": "stdout",
     "output_type": "stream",
     "text": [
      "1857 patches in SC\n",
      "10 patches in 6N\n",
      "1049 patches in RtTg_surround_noclass\n",
      "779 patches in IC_surround_noclass\n",
      "51 patches in IC_surround_SC\n",
      "1665 patches in SC_surround_noclass\n",
      "73 patches in SC_surround_IC\n",
      "334 patches in 6N_surround_noclass\n",
      "16123 patches in bg\n",
      "285 patches in IO\n"
     ]
    },
    {
     "name": "stderr",
     "output_type": "stream",
     "text": [
      "Analyzing section 225..\n"
     ]
    },
    {
     "name": "stdout",
     "output_type": "stream",
     "text": [
      "1817 patches in SC\n",
      "481 patches in RtTg\n",
      "60 patches in 3N\n",
      "338 patches in IC\n",
      "13 patches in 6N\n",
      "1140 patches in IO_surround_noclass\n",
      "1655 patches in SC_surround_noclass\n",
      "69 patches in SC_surround_IC\n",
      "1035 patches in RtTg_surround_noclass\n",
      "523 patches in 3N_surround_noclass\n",
      "757 patches in IC_surround_noclass\n",
      "51 patches in IC_surround_SC\n",
      "348 patches in 6N_surround_noclass\n",
      "16242 patches in bg\n"
     ]
    },
    {
     "name": "stderr",
     "output_type": "stream",
     "text": [
      "Analyzing section 226..\n"
     ]
    },
    {
     "name": "stdout",
     "output_type": "stream",
     "text": [
      "334 patches in IC\n",
      "1782 patches in SC\n",
      "18 patches in 6N\n",
      "485 patches in RtTg\n",
      "7 patches in 7n\n",
      "72 patches in 3N\n",
      "287 patches in IO\n",
      "764 patches in IC_surround_noclass\n",
      "46 patches in IC_surround_SC\n",
      "1371 patches in SC_surround_noclass\n",
      "63 patches in SC_surround_IC\n",
      "362 patches in 6N_surround_noclass\n",
      "7 patches in 6N_surround_7n\n",
      "1019 patches in RtTg_surround_noclass\n",
      "310 patches in 7n_surround_noclass\n",
      "18 patches in 7n_surround_6N\n",
      "540 patches in 3N_surround_noclass\n",
      "1131 patches in IO_surround_noclass\n",
      "16659 patches in bg\n",
      "91 patches in 3N\n",
      "1754 patches in SC\n",
      "486 patches in RtTg\n"
     ]
    },
    {
     "name": "stderr",
     "output_type": "stream",
     "text": [
      "Analyzing section 227..\n"
     ]
    },
    {
     "name": "stdout",
     "output_type": "stream",
     "text": [
      "5 patches in 7n\n",
      "286 patches in IO\n",
      "329 patches in IC\n",
      "21 patches in 6N\n",
      "570 patches in 3N_surround_noclass\n",
      "1351 patches in SC_surround_noclass\n",
      "61 patches in SC_surround_IC\n",
      "1006 patches in RtTg_surround_noclass\n",
      "295 patches in 7n_surround_noclass\n",
      "21 patches in 7n_surround_6N\n",
      "1140 patches in IO_surround_noclass\n",
      "711 patches in IC_surround_noclass\n",
      "46 patches in IC_surround_SC\n",
      "378 patches in 6N_surround_noclass\n",
      "5 patches in 6N_surround_7n\n",
      "17126 patches in bg\n",
      "3 patches in 4N\n"
     ]
    },
    {
     "name": "stderr",
     "output_type": "stream",
     "text": [
      "Analyzing section 228..\n"
     ]
    },
    {
     "name": "stdout",
     "output_type": "stream",
     "text": [
      "287 patches in IO\n",
      "28 patches in 6N\n",
      "480 patches in RtTg\n",
      "6 patches in 7n\n",
      "334 patches in IC\n",
      "1712 patches in SC\n",
      "106 patches in 3N\n",
      "268 patches in 4N_surround_noclass\n",
      "14 patches in 4N_surround_3N\n",
      "1152 patches in IO_surround_noclass\n",
      "409 patches in 6N_surround_noclass\n",
      "6 patches in 6N_surround_7n\n",
      "987 patches in RtTg_surround_noclass\n",
      "291 patches in 7n_surround_noclass\n",
      "28 patches in 7n_surround_6N\n",
      "734 patches in IC_surround_noclass\n",
      "47 patches in IC_surround_SC\n",
      "1328 patches in SC_surround_noclass\n",
      "60 patches in SC_surround_IC\n",
      "617 patches in 3N_surround_noclass\n",
      "3 patches in 3N_surround_4N\n",
      "16619 patches in bg\n",
      "25 patches in 6N\n",
      "291 patches in IO\n",
      "131 patches in 3N\n"
     ]
    },
    {
     "name": "stderr",
     "output_type": "stream",
     "text": [
      "Analyzing section 229..\n"
     ]
    },
    {
     "name": "stdout",
     "output_type": "stream",
     "text": [
      "1675 patches in SC\n",
      "333 patches in IC\n",
      "11 patches in Tz\n",
      "11 patches in 4N\n",
      "479 patches in RtTg\n",
      "8 patches in 7n\n",
      "381 patches in 6N_surround_noclass\n",
      "8 patches in 6N_surround_7n\n",
      "1164 patches in IO_surround_noclass\n",
      "628 patches in 3N_surround_noclass\n",
      "11 patches in 3N_surround_4N\n",
      "1598 patches in SC_surround_noclass\n",
      "56 patches in SC_surround_IC\n",
      "740 patches in IC_surround_noclass\n",
      "43 patches in IC_surround_SC\n",
      "473 patches in Tz_surround_noclass\n",
      "320 patches in 4N_surround_noclass\n",
      "32 patches in 4N_surround_3N\n",
      "977 patches in RtTg_surround_noclass\n",
      "297 patches in 7n_surround_noclass\n",
      "25 patches in 7n_surround_6N\n",
      "15930 patches in bg\n",
      "11 patches in 7n\n",
      "26 patches in 6N\n",
      "1657 patches in SC\n",
      "21 patches in 4N\n",
      "479 patches in RtTg\n"
     ]
    },
    {
     "name": "stderr",
     "output_type": "stream",
     "text": [
      "Analyzing section 230..\n"
     ]
    },
    {
     "name": "stdout",
     "output_type": "stream",
     "text": [
      "342 patches in IC\n",
      "23 patches in Tz\n",
      "581 patches in Pn\n",
      "300 patches in IO\n",
      "162 patches in 3N\n",
      "338 patches in 7n_surround_noclass\n",
      "26 patches in 7n_surround_6N\n",
      "387 patches in 6N_surround_noclass\n",
      "11 patches in 6N_surround_7n\n",
      "1620 patches in SC_surround_noclass\n",
      "70 patches in SC_surround_IC\n",
      "350 patches in 4N_surround_noclass\n",
      "50 patches in 4N_surround_3N\n",
      "753 patches in RtTg_surround_noclass\n",
      "232 patches in RtTg_surround_Pn\n",
      "761 patches in IC_surround_noclass\n",
      "52 patches in IC_surround_SC\n",
      "472 patches in Tz_surround_noclass\n",
      "717 patches in Pn_surround_noclass\n",
      "180 patches in Pn_surround_RtTg\n",
      "1190 patches in IO_surround_noclass\n",
      "677 patches in 3N_surround_noclass\n",
      "21 patches in 3N_surround_4N\n",
      "16076 patches in bg\n"
     ]
    },
    {
     "name": "stderr",
     "output_type": "stream",
     "text": [
      "Analyzing section 231..\n"
     ]
    },
    {
     "name": "stdout",
     "output_type": "stream",
     "text": [
      "569 patches in Pn\n",
      "355 patches in IC\n",
      "126 patches in 3N\n",
      "22 patches in Tz\n",
      "467 patches in RtTg\n",
      "11 patches in 7n\n",
      "1662 patches in SC\n",
      "291 patches in IO\n",
      "16 patches in 4N\n",
      "732 patches in Pn_surround_noclass\n",
      "165 patches in Pn_surround_RtTg\n",
      "767 patches in IC_surround_noclass\n",
      "47 patches in IC_surround_SC\n",
      "623 patches in 3N_surround_noclass\n",
      "16 patches in 3N_surround_4N\n",
      "481 patches in Tz_surround_noclass\n",
      "754 patches in RtTg_surround_noclass\n",
      "218 patches in RtTg_surround_Pn\n",
      "356 patches in 7n_surround_noclass\n",
      "1636 patches in SC_surround_noclass\n",
      "58 patches in SC_surround_IC\n",
      "1145 patches in IO_surround_noclass\n",
      "330 patches in 4N_surround_noclass\n",
      "36 patches in 4N_surround_3N\n",
      "15993 patches in bg\n",
      "103 patches in 3N\n",
      "284 patches in IO\n",
      "387 patches in IC\n"
     ]
    },
    {
     "name": "stderr",
     "output_type": "stream",
     "text": [
      "Analyzing section 232..\n"
     ]
    },
    {
     "name": "stdout",
     "output_type": "stream",
     "text": [
      "561 patches in Pn\n",
      "29 patches in Tz\n",
      "469 patches in RtTg\n",
      "1676 patches in SC\n",
      "12 patches in 7n\n",
      "15 patches in 4N\n",
      "582 patches in 3N_surround_noclass\n",
      "15 patches in 3N_surround_4N\n",
      "1126 patches in IO_surround_noclass\n",
      "779 patches in IC_surround_noclass\n",
      "49 patches in IC_surround_SC\n",
      "727 patches in Pn_surround_noclass\n",
      "160 patches in Pn_surround_RtTg\n",
      "494 patches in Tz_surround_noclass\n",
      "768 patches in RtTg_surround_noclass\n",
      "205 patches in RtTg_surround_Pn\n",
      "1613 patches in SC_surround_noclass\n",
      "65 patches in SC_surround_IC\n",
      "357 patches in 7n_surround_noclass\n",
      "328 patches in 4N_surround_noclass\n",
      "30 patches in 4N_surround_3N\n",
      "15964 patches in bg\n",
      "552 patches in Pn\n",
      "422 patches in IC\n"
     ]
    },
    {
     "name": "stderr",
     "output_type": "stream",
     "text": [
      "Analyzing section 233..\n"
     ]
    },
    {
     "name": "stdout",
     "output_type": "stream",
     "text": [
      "14 patches in 7n\n",
      "14 patches in RMC\n",
      "37 patches in Tz\n",
      "79 patches in 3N\n",
      "1696 patches in SC\n",
      "279 patches in IO\n",
      "467 patches in RtTg\n",
      "15 patches in 4N\n",
      "703 patches in Pn_surround_noclass\n",
      "150 patches in Pn_surround_RtTg\n",
      "797 patches in IC_surround_noclass\n",
      "55 patches in IC_surround_SC\n",
      "366 patches in 7n_surround_noclass\n",
      "368 patches in RMC_surround_noclass\n",
      "561 patches in Tz_surround_noclass\n",
      "524 patches in 3N_surround_noclass\n",
      "15 patches in 3N_surround_4N\n",
      "1637 patches in SC_surround_noclass\n",
      "69 patches in SC_surround_IC\n",
      "1083 patches in IO_surround_noclass\n",
      "785 patches in RtTg_surround_noclass\n",
      "188 patches in RtTg_surround_Pn\n",
      "330 patches in 4N_surround_noclass\n",
      "20 patches in 4N_surround_3N\n",
      "15903 patches in bg\n",
      "464 patches in RtTg\n",
      "445 patches in IC\n",
      "13 patches in 4N\n",
      "273 patches in IO\n"
     ]
    },
    {
     "name": "stderr",
     "output_type": "stream",
     "text": [
      "Analyzing section 234..\n"
     ]
    },
    {
     "name": "stdout",
     "output_type": "stream",
     "text": [
      "42 patches in Tz\n",
      "17 patches in 7n\n",
      "55 patches in 3N\n",
      "553 patches in Pn\n",
      "1710 patches in SC\n",
      "23 patches in RMC\n",
      "793 patches in RtTg_surround_noclass\n",
      "1 patches in RtTg_surround_Tz\n",
      "172 patches in RtTg_surround_Pn\n",
      "813 patches in IC_surround_noclass\n",
      "57 patches in IC_surround_SC\n",
      "332 patches in 4N_surround_noclass\n",
      "16 patches in 4N_surround_3N\n",
      "1090 patches in IO_surround_noclass\n",
      "587 patches in Tz_surround_noclass\n",
      "1 patches in Tz_surround_RtTg\n",
      "376 patches in 7n_surround_noclass\n",
      "483 patches in 3N_surround_noclass\n",
      "13 patches in 3N_surround_4N\n",
      "728 patches in Pn_surround_noclass\n",
      "139 patches in Pn_surround_RtTg\n",
      "1660 patches in SC_surround_noclass\n",
      "68 patches in SC_surround_IC\n",
      "415 patches in RMC_surround_noclass\n",
      "15891 patches in bg\n"
     ]
    },
    {
     "name": "stderr",
     "output_type": "stream",
     "text": [
      "Analyzing section 235..\n"
     ]
    },
    {
     "name": "stdout",
     "output_type": "stream",
     "text": [
      "545 patches in Pn\n",
      "38 patches in RMC\n",
      "10 patches in 4N\n",
      "52 patches in Tz\n",
      "481 patches in IC\n",
      "1726 patches in SC\n",
      "461 patches in RtTg\n",
      "33 patches in 3N\n",
      "19 patches in 7n\n",
      "267 patches in IO\n",
      "776 patches in Pn_surround_noclass\n",
      "127 patches in Pn_surround_RtTg\n",
      "455 patches in RMC_surround_noclass\n",
      "327 patches in 4N_surround_noclass\n",
      "8 patches in 4N_surround_3N\n",
      "603 patches in Tz_surround_noclass\n",
      "3 patches in Tz_surround_RtTg\n",
      "853 patches in IC_surround_noclass\n",
      "53 patches in IC_surround_SC\n",
      "1669 patches in SC_surround_noclass\n",
      "66 patches in SC_surround_IC\n",
      "819 patches in RtTg_surround_noclass\n",
      "3 patches in RtTg_surround_Tz\n",
      "159 patches in RtTg_surround_Pn\n",
      "432 patches in 3N_surround_noclass\n",
      "7 patches in 3N_surround_4N\n",
      "392 patches in 7n_surround_noclass\n",
      "1070 patches in IO_surround_noclass\n",
      "15672 patches in bg\n"
     ]
    },
    {
     "name": "stderr",
     "output_type": "stream",
     "text": [
      "Analyzing section 236..\n"
     ]
    },
    {
     "name": "stdout",
     "output_type": "stream",
     "text": [
      "511 patches in IC\n",
      "57 patches in RMC\n",
      "541 patches in Pn\n",
      "259 patches in IO\n",
      "27 patches in 3N\n",
      "55 patches in Tz\n",
      "1747 patches in SC\n",
      "11 patches in 4N\n",
      "460 patches in RtTg\n",
      "26 patches in 7n\n",
      "865 patches in IC_surround_noclass\n",
      "54 patches in IC_surround_SC\n",
      "513 patches in RMC_surround_noclass\n",
      "759 patches in Pn_surround_noclass\n",
      "119 patches in Pn_surround_RtTg\n",
      "1072 patches in IO_surround_noclass\n",
      "400 patches in 3N_surround_noclass\n",
      "7 patches in 3N_surround_4N\n",
      "642 patches in Tz_surround_noclass\n",
      "8 patches in Tz_surround_RtTg\n",
      "1688 patches in SC_surround_noclass\n",
      "69 patches in SC_surround_IC\n",
      "322 patches in 4N_surround_noclass\n",
      "6 patches in 4N_surround_3N\n",
      "842 patches in RtTg_surround_noclass\n",
      "4 patches in RtTg_surround_Tz\n",
      "147 patches in RtTg_surround_Pn\n",
      "398 patches in 7n_surround_noclass\n",
      "15727 patches in bg\n",
      "12 patches in 4N\n"
     ]
    },
    {
     "name": "stderr",
     "output_type": "stream",
     "text": [
      "Analyzing section 237..\n"
     ]
    },
    {
     "name": "stdout",
     "output_type": "stream",
     "text": [
      "546 patches in IC\n",
      "30 patches in 7n\n",
      "458 patches in RtTg\n",
      "84 patches in RMC\n",
      "1758 patches in SC\n",
      "535 patches in Pn\n",
      "66 patches in Tz\n",
      "257 patches in IO\n",
      "349 patches in 4N_surround_noclass\n",
      "903 patches in IC_surround_noclass\n",
      "55 patches in IC_surround_SC\n",
      "406 patches in 7n_surround_noclass\n",
      "845 patches in RtTg_surround_noclass\n",
      "5 patches in RtTg_surround_Tz\n",
      "136 patches in RtTg_surround_Pn\n",
      "568 patches in RMC_surround_noclass\n",
      "1727 patches in SC_surround_noclass\n",
      "72 patches in SC_surround_IC\n",
      "766 patches in Pn_surround_noclass\n",
      "110 patches in Pn_surround_RtTg\n",
      "665 patches in Tz_surround_noclass\n",
      "14 patches in Tz_surround_RtTg\n",
      "1030 patches in IO_surround_noclass\n",
      "15639 patches in bg\n",
      "581 patches in IC\n",
      "249 patches in IO\n",
      "535 patches in Pn\n"
     ]
    },
    {
     "name": "stderr",
     "output_type": "stream",
     "text": [
      "Analyzing section 238..\n"
     ]
    },
    {
     "name": "stdout",
     "output_type": "stream",
     "text": [
      "71 patches in Tz\n",
      "110 patches in RMC\n",
      "1780 patches in SC\n",
      "450 patches in RtTg\n",
      "32 patches in 7n\n",
      "906 patches in IC_surround_noclass\n",
      "65 patches in IC_surround_SC\n",
      "1026 patches in IO_surround_noclass\n",
      "743 patches in Pn_surround_noclass\n",
      "97 patches in Pn_surround_RtTg\n",
      "701 patches in Tz_surround_noclass\n",
      "19 patches in Tz_surround_RtTg\n",
      "616 patches in RMC_surround_noclass\n",
      "1708 patches in SC_surround_noclass\n",
      "80 patches in SC_surround_IC\n",
      "865 patches in RtTg_surround_noclass\n",
      "7 patches in RtTg_surround_Tz\n",
      "124 patches in RtTg_surround_Pn\n",
      "419 patches in 7n_surround_noclass\n",
      "15771 patches in bg\n"
     ]
    },
    {
     "name": "stderr",
     "output_type": "stream",
     "text": [
      "Analyzing section 239..\n"
     ]
    },
    {
     "name": "stdout",
     "output_type": "stream",
     "text": [
      "1795 patches in SC\n",
      "527 patches in Pn\n",
      "246 patches in IO\n",
      "449 patches in RtTg\n",
      "138 patches in RMC\n",
      "612 patches in IC\n",
      "33 patches in 7n\n",
      "87 patches in Tz\n",
      "1691 patches in SC_surround_noclass\n",
      "83 patches in SC_surround_IC\n",
      "773 patches in Pn_surround_noclass\n",
      "91 patches in Pn_surround_RtTg\n",
      "1019 patches in IO_surround_noclass\n",
      "885 patches in RtTg_surround_noclass\n",
      "11 patches in RtTg_surround_Tz\n",
      "110 patches in RtTg_surround_Pn\n",
      "667 patches in RMC_surround_noclass\n",
      "931 patches in IC_surround_noclass\n",
      "69 patches in IC_surround_SC\n",
      "435 patches in 7n_surround_noclass\n",
      "722 patches in Tz_surround_noclass\n",
      "26 patches in Tz_surround_RtTg\n",
      "15747 patches in bg\n",
      "101 patches in Tz\n",
      "533 patches in Pn\n",
      "449 patches in RtTg\n",
      "193 patches in RMC\n"
     ]
    },
    {
     "name": "stderr",
     "output_type": "stream",
     "text": [
      "Analyzing section 240..\n"
     ]
    },
    {
     "name": "stdout",
     "output_type": "stream",
     "text": [
      "1815 patches in SC\n",
      "238 patches in IO\n",
      "651 patches in IC\n",
      "46 patches in 7n\n",
      "741 patches in Tz_surround_noclass\n",
      "41 patches in Tz_surround_RtTg\n",
      "785 patches in Pn_surround_noclass\n",
      "81 patches in Pn_surround_RtTg\n",
      "928 patches in RtTg_surround_noclass\n",
      "22 patches in RtTg_surround_Tz\n",
      "105 patches in RtTg_surround_Pn\n",
      "736 patches in RMC_surround_noclass\n",
      "1748 patches in SC_surround_noclass\n",
      "84 patches in SC_surround_IC\n",
      "959 patches in IO_surround_noclass\n",
      "952 patches in IC_surround_noclass\n",
      "72 patches in IC_surround_SC\n",
      "462 patches in 7n_surround_noclass\n",
      "15780 patches in bg\n",
      "230 patches in IO\n",
      "106 patches in Tz\n",
      "188 patches in RMC\n"
     ]
    },
    {
     "name": "stderr",
     "output_type": "stream",
     "text": [
      "Analyzing section 241..\n"
     ]
    },
    {
     "name": "stdout",
     "output_type": "stream",
     "text": [
      "684 patches in IC\n",
      "43 patches in 7n\n",
      "506 patches in Pn\n",
      "1830 patches in SC\n",
      "433 patches in RtTg\n",
      "982 patches in IO_surround_noclass\n",
      "759 patches in Tz_surround_noclass\n",
      "34 patches in Tz_surround_RtTg\n",
      "723 patches in RMC_surround_noclass\n",
      "1018 patches in IC_surround_noclass\n",
      "73 patches in IC_surround_SC\n",
      "444 patches in 7n_surround_noclass\n",
      "755 patches in Pn_surround_noclass\n",
      "63 patches in Pn_surround_RtTg\n",
      "1738 patches in SC_surround_noclass\n",
      "87 patches in SC_surround_IC\n",
      "900 patches in RtTg_surround_noclass\n",
      "17 patches in RtTg_surround_Tz\n",
      "82 patches in RtTg_surround_Pn\n",
      "16242 patches in bg\n",
      "1852 patches in SC\n",
      "41 patches in 7n\n",
      "124 patches in Tz\n"
     ]
    },
    {
     "name": "stderr",
     "output_type": "stream",
     "text": [
      "Analyzing section 242..\n"
     ]
    },
    {
     "name": "stdout",
     "output_type": "stream",
     "text": [
      "200 patches in RMC\n",
      "228 patches in IO\n",
      "487 patches in Pn\n",
      "727 patches in IC\n",
      "422 patches in RtTg\n",
      "1839 patches in SC_surround_noclass\n",
      "89 patches in SC_surround_IC\n",
      "444 patches in 7n_surround_noclass\n",
      "782 patches in Tz_surround_noclass\n",
      "32 patches in Tz_surround_RtTg\n",
      "727 patches in RMC_surround_noclass\n",
      "934 patches in IO_surround_noclass\n",
      "769 patches in Pn_surround_noclass\n",
      "49 patches in Pn_surround_RtTg\n",
      "1176 patches in IC_surround_noclass\n",
      "71 patches in IC_surround_SC\n",
      "896 patches in RtTg_surround_noclass\n",
      "15 patches in RtTg_surround_Tz\n",
      "67 patches in RtTg_surround_Pn\n",
      "15006 patches in bg\n"
     ]
    },
    {
     "name": "stderr",
     "output_type": "stream",
     "text": [
      "Analyzing section 243..\n"
     ]
    },
    {
     "name": "stdout",
     "output_type": "stream",
     "text": [
      "217 patches in IO\n",
      "40 patches in 7n\n",
      "136 patches in Tz\n",
      "414 patches in RtTg\n",
      "1879 patches in SC\n",
      "202 patches in RMC\n",
      "775 patches in IC\n",
      "471 patches in Pn\n",
      "934 patches in IO_surround_noclass\n",
      "442 patches in 7n_surround_noclass\n",
      "766 patches in Tz_surround_noclass\n",
      "34 patches in Tz_surround_RtTg\n",
      "906 patches in RtTg_surround_noclass\n",
      "14 patches in RtTg_surround_Tz\n",
      "55 patches in RtTg_surround_Pn\n",
      "1761 patches in SC_surround_noclass\n",
      "95 patches in SC_surround_IC\n",
      "734 patches in RMC_surround_noclass\n",
      "1087 patches in IC_surround_noclass\n",
      "78 patches in IC_surround_SC\n",
      "783 patches in Pn_surround_noclass\n",
      "39 patches in Pn_surround_RtTg\n",
      "15453 patches in bg\n",
      "401 patches in RtTg\n",
      "810 patches in IC\n",
      "149 patches in Tz\n"
     ]
    },
    {
     "name": "stderr",
     "output_type": "stream",
     "text": [
      "Analyzing section 244..\n"
     ]
    },
    {
     "name": "stdout",
     "output_type": "stream",
     "text": [
      "1892 patches in SC\n",
      "208 patches in RMC\n",
      "39 patches in 7n\n",
      "445 patches in Pn\n",
      "217 patches in IO\n",
      "925 patches in RtTg_surround_noclass\n",
      "13 patches in RtTg_surround_Tz\n",
      "38 patches in RtTg_surround_Pn\n",
      "1059 patches in IC_surround_noclass\n",
      "81 patches in IC_surround_SC\n",
      "783 patches in Tz_surround_noclass\n",
      "27 patches in Tz_surround_RtTg\n",
      "1772 patches in SC_surround_noclass\n",
      "103 patches in SC_surround_IC\n",
      "745 patches in RMC_surround_noclass\n",
      "442 patches in 7n_surround_noclass\n",
      "745 patches in Pn_surround_noclass\n",
      "26 patches in Pn_surround_RtTg\n",
      "913 patches in IO_surround_noclass\n",
      "15975 patches in bg\n",
      "174 patches in Tz\n",
      "222 patches in RMC\n",
      "42 patches in 7n\n",
      "405 patches in RtTg\n",
      "436 patches in Pn\n"
     ]
    },
    {
     "name": "stderr",
     "output_type": "stream",
     "text": [
      "Analyzing section 245..\n"
     ]
    },
    {
     "name": "stdout",
     "output_type": "stream",
     "text": [
      "221 patches in IO\n",
      "1923 patches in SC\n",
      "861 patches in IC\n",
      "797 patches in Tz_surround_noclass\n",
      "39 patches in Tz_surround_RtTg\n",
      "773 patches in RMC_surround_noclass\n",
      "459 patches in 7n_surround_noclass\n",
      "949 patches in RtTg_surround_noclass\n",
      "17 patches in RtTg_surround_Tz\n",
      "29 patches in RtTg_surround_Pn\n",
      "804 patches in Pn_surround_noclass\n",
      "18 patches in Pn_surround_RtTg\n",
      "902 patches in IO_surround_noclass\n",
      "1815 patches in SC_surround_noclass\n",
      "119 patches in SC_surround_IC\n",
      "1090 patches in IC_surround_noclass\n",
      "95 patches in IC_surround_SC\n",
      "15774 patches in bg\n",
      "424 patches in Pn\n"
     ]
    },
    {
     "name": "stderr",
     "output_type": "stream",
     "text": [
      "Analyzing section 246..\n"
     ]
    },
    {
     "name": "stdout",
     "output_type": "stream",
     "text": [
      "871 patches in IC\n",
      "1934 patches in SC\n",
      "151 patches in Tz\n",
      "208 patches in RMC\n",
      "41 patches in 7n\n",
      "375 patches in RtTg\n",
      "765 patches in Pn_surround_noclass\n",
      "25 patches in Pn_surround_RtTg\n",
      "1070 patches in IC_surround_noclass\n",
      "92 patches in IC_surround_SC\n",
      "1775 patches in SC_surround_noclass\n",
      "113 patches in SC_surround_IC\n",
      "750 patches in Tz_surround_noclass\n",
      "20 patches in Tz_surround_RtTg\n",
      "747 patches in RMC_surround_noclass\n",
      "447 patches in 7n_surround_noclass\n",
      "912 patches in RtTg_surround_noclass\n",
      "14 patches in RtTg_surround_Tz\n",
      "30 patches in RtTg_surround_Pn\n",
      "16011 patches in bg\n"
     ]
    },
    {
     "name": "stderr",
     "output_type": "stream",
     "text": [
      "Analyzing section 247..\n"
     ]
    },
    {
     "name": "stdout",
     "output_type": "stream",
     "text": [
      "203 patches in RMC\n",
      "422 patches in Pn\n",
      "41 patches in 7n\n",
      "879 patches in IC\n",
      "1963 patches in SC\n",
      "370 patches in RtTg\n",
      "141 patches in Tz\n",
      "737 patches in RMC_surround_noclass\n",
      "776 patches in Pn_surround_noclass\n",
      "33 patches in Pn_surround_RtTg\n",
      "448 patches in 7n_surround_noclass\n",
      "1030 patches in IC_surround_noclass\n",
      "95 patches in IC_surround_SC\n",
      "1747 patches in SC_surround_noclass\n",
      "114 patches in SC_surround_IC\n",
      "890 patches in RtTg_surround_noclass\n",
      "13 patches in RtTg_surround_Tz\n",
      "38 patches in RtTg_surround_Pn\n",
      "725 patches in Tz_surround_noclass\n",
      "19 patches in Tz_surround_RtTg\n",
      "15916 patches in bg\n"
     ]
    },
    {
     "name": "stderr",
     "output_type": "stream",
     "text": [
      "Analyzing section 248..\n"
     ]
    },
    {
     "name": "stdout",
     "output_type": "stream",
     "text": [
      "422 patches in Pn\n",
      "1984 patches in SC\n",
      "896 patches in IC\n",
      "196 patches in RMC\n",
      "128 patches in Tz\n",
      "44 patches in 7n\n",
      "355 patches in RtTg\n",
      "772 patches in Pn_surround_noclass\n",
      "38 patches in Pn_surround_RtTg\n",
      "1769 patches in SC_surround_noclass\n",
      "117 patches in SC_surround_IC\n",
      "1057 patches in IC_surround_noclass\n",
      "95 patches in IC_surround_SC\n",
      "733 patches in RMC_surround_noclass\n",
      "713 patches in Tz_surround_noclass\n",
      "22 patches in Tz_surround_RtTg\n",
      "451 patches in 7n_surround_noclass\n",
      "877 patches in RtTg_surround_noclass\n",
      "13 patches in RtTg_surround_Tz\n",
      "43 patches in RtTg_surround_Pn\n",
      "16108 patches in bg\n",
      "407 patches in Pn\n"
     ]
    },
    {
     "name": "stderr",
     "output_type": "stream",
     "text": [
      "Analyzing section 249..\n"
     ]
    },
    {
     "name": "stdout",
     "output_type": "stream",
     "text": [
      "341 patches in RtTg\n",
      "112 patches in Tz\n",
      "193 patches in RMC\n",
      "919 patches in IC\n",
      "2013 patches in SC\n",
      "46 patches in 7n\n",
      "793 patches in Pn_surround_noclass\n",
      "45 patches in Pn_surround_RtTg\n",
      "860 patches in RtTg_surround_noclass\n",
      "7 patches in RtTg_surround_Tz\n",
      "52 patches in RtTg_surround_Pn\n",
      "652 patches in Tz_surround_noclass\n",
      "17 patches in Tz_surround_RtTg\n",
      "725 patches in RMC_surround_noclass\n",
      "1054 patches in IC_surround_noclass\n",
      "99 patches in IC_surround_SC\n",
      "1749 patches in SC_surround_noclass\n",
      "130 patches in SC_surround_IC\n",
      "459 patches in 7n_surround_noclass\n",
      "16131 patches in bg\n",
      "409 patches in Pn\n",
      "187 patches in RMC\n"
     ]
    },
    {
     "name": "stderr",
     "output_type": "stream",
     "text": [
      "Analyzing section 250..\n"
     ]
    },
    {
     "name": "stdout",
     "output_type": "stream",
     "text": [
      "2029 patches in SC\n",
      "332 patches in RtTg\n",
      "47 patches in 7n\n",
      "932 patches in IC\n",
      "103 patches in Tz\n",
      "761 patches in Pn_surround_noclass\n",
      "52 patches in Pn_surround_RtTg\n",
      "719 patches in RMC_surround_noclass\n",
      "1742 patches in SC_surround_noclass\n",
      "130 patches in SC_surround_IC\n",
      "840 patches in RtTg_surround_noclass\n",
      "10 patches in RtTg_surround_Tz\n",
      "58 patches in RtTg_surround_Pn\n",
      "463 patches in 7n_surround_noclass\n",
      "1043 patches in IC_surround_noclass\n",
      "105 patches in IC_surround_SC\n",
      "642 patches in Tz_surround_noclass\n",
      "16 patches in Tz_surround_RtTg\n",
      "16257 patches in bg\n",
      "943 patches in IC\n",
      "186 patches in RMC\n"
     ]
    },
    {
     "name": "stderr",
     "output_type": "stream",
     "text": [
      "Analyzing section 251..\n"
     ]
    },
    {
     "name": "stdout",
     "output_type": "stream",
     "text": [
      "318 patches in RtTg\n",
      "404 patches in Pn\n",
      "2064 patches in SC\n",
      "89 patches in Tz\n",
      "51 patches in 7n\n",
      "1059 patches in IC_surround_noclass\n",
      "106 patches in IC_surround_SC\n",
      "722 patches in RMC_surround_noclass\n",
      "818 patches in RtTg_surround_noclass\n",
      "9 patches in RtTg_surround_Tz\n",
      "65 patches in RtTg_surround_Pn\n",
      "742 patches in Pn_surround_noclass\n",
      "60 patches in Pn_surround_RtTg\n",
      "1729 patches in SC_surround_noclass\n",
      "130 patches in SC_surround_IC\n",
      "604 patches in Tz_surround_noclass\n",
      "14 patches in Tz_surround_RtTg\n",
      "467 patches in 7n_surround_noclass\n",
      "16289 patches in bg\n",
      "181 patches in RMC\n",
      "86 patches in Tz\n"
     ]
    },
    {
     "name": "stderr",
     "output_type": "stream",
     "text": [
      "Analyzing section 252..\n"
     ]
    },
    {
     "name": "stdout",
     "output_type": "stream",
     "text": [
      "307 patches in RtTg\n",
      "399 patches in Pn\n",
      "2082 patches in SC\n",
      "962 patches in IC\n",
      "70 patches in 7N\n",
      "57 patches in 7n\n",
      "719 patches in RMC_surround_noclass\n",
      "587 patches in Tz_surround_noclass\n",
      "23 patches in Tz_surround_RtTg\n",
      "805 patches in RtTg_surround_noclass\n",
      "10 patches in RtTg_surround_Tz\n",
      "68 patches in RtTg_surround_Pn\n",
      "753 patches in Pn_surround_noclass\n",
      "61 patches in Pn_surround_RtTg\n",
      "1739 patches in SC_surround_noclass\n",
      "138 patches in SC_surround_IC\n",
      "1044 patches in IC_surround_noclass\n",
      "111 patches in IC_surround_SC\n",
      "511 patches in 7N_surround_noclass\n",
      "486 patches in 7n_surround_noclass\n",
      "16041 patches in bg\n",
      "996 patches in IC\n",
      "285 patches in LC\n",
      "45 patches in 7n\n",
      "96 patches in 7N\n"
     ]
    },
    {
     "name": "stderr",
     "output_type": "stream",
     "text": [
      "Analyzing section 253..\n"
     ]
    },
    {
     "name": "stdout",
     "output_type": "stream",
     "text": [
      "292 patches in RtTg\n",
      "2101 patches in SC\n",
      "391 patches in Pn\n",
      "178 patches in RMC\n",
      "61 patches in Tz\n",
      "1052 patches in IC_surround_noclass\n",
      "113 patches in IC_surround_SC\n",
      "894 patches in LC_surround_noclass\n",
      "475 patches in 7n_surround_noclass\n",
      "564 patches in 7N_surround_noclass\n",
      "778 patches in RtTg_surround_noclass\n",
      "8 patches in RtTg_surround_Tz\n",
      "81 patches in RtTg_surround_Pn\n",
      "1740 patches in SC_surround_noclass\n",
      "149 patches in SC_surround_IC\n",
      "752 patches in Pn_surround_noclass\n",
      "71 patches in Pn_surround_RtTg\n",
      "713 patches in RMC_surround_noclass\n",
      "524 patches in Tz_surround_noclass\n",
      "15 patches in Tz_surround_RtTg\n",
      "15392 patches in bg\n"
     ]
    },
    {
     "name": "stderr",
     "output_type": "stream",
     "text": [
      "Analyzing section 254..\n"
     ]
    },
    {
     "name": "stdout",
     "output_type": "stream",
     "text": [
      "388 patches in Pn\n",
      "2113 patches in SC\n",
      "1006 patches in IC\n",
      "171 patches in RMC\n",
      "271 patches in LC\n",
      "44 patches in 7n\n",
      "140 patches in 7N\n",
      "43 patches in Tz\n",
      "287 patches in RtTg\n",
      "749 patches in Pn_surround_noclass\n",
      "77 patches in Pn_surround_RtTg\n",
      "1723 patches in SC_surround_noclass\n",
      "148 patches in SC_surround_IC\n",
      "1061 patches in IC_surround_noclass\n",
      "116 patches in IC_surround_SC\n",
      "708 patches in RMC_surround_noclass\n",
      "834 patches in LC_surround_noclass\n",
      "455 patches in 7n_surround_noclass\n",
      "622 patches in 7N_surround_noclass\n",
      "472 patches in Tz_surround_noclass\n",
      "11 patches in Tz_surround_RtTg\n",
      "756 patches in RtTg_surround_noclass\n",
      "8 patches in RtTg_surround_Tz\n",
      "87 patches in RtTg_surround_Pn\n",
      "16129 patches in bg\n",
      "169 patches in RMC\n"
     ]
    },
    {
     "name": "stderr",
     "output_type": "stream",
     "text": [
      "Analyzing section 255..\n"
     ]
    },
    {
     "name": "stdout",
     "output_type": "stream",
     "text": [
      "278 patches in RtTg\n",
      "47 patches in 7n\n",
      "385 patches in Pn\n",
      "32 patches in Tz\n",
      "1015 patches in IC\n",
      "178 patches in 7N\n",
      "2135 patches in SC\n",
      "255 patches in LC\n",
      "700 patches in RMC_surround_noclass\n",
      "737 patches in RtTg_surround_noclass\n",
      "8 patches in RtTg_surround_Tz\n",
      "95 patches in RtTg_surround_Pn\n",
      "461 patches in 7n_surround_noclass\n",
      "737 patches in Pn_surround_noclass\n",
      "84 patches in Pn_surround_RtTg\n",
      "434 patches in Tz_surround_noclass\n",
      "16 patches in Tz_surround_RtTg\n",
      "1061 patches in IC_surround_noclass\n",
      "117 patches in IC_surround_SC\n",
      "672 patches in 7N_surround_noclass\n",
      "1721 patches in SC_surround_noclass\n",
      "152 patches in SC_surround_IC\n",
      "818 patches in LC_surround_noclass\n",
      "16690 patches in bg\n"
     ]
    },
    {
     "name": "stderr",
     "output_type": "stream",
     "text": [
      "Analyzing section 256..\n"
     ]
    },
    {
     "name": "stdout",
     "output_type": "stream",
     "text": [
      "2158 patches in SC\n",
      "261 patches in RtTg\n",
      "20 patches in Tz\n",
      "48 patches in 7n\n",
      "166 patches in RMC\n",
      "379 patches in Pn\n",
      "1036 patches in IC\n",
      "236 patches in LC\n",
      "247 patches in 7N\n",
      "1745 patches in SC_surround_noclass\n",
      "154 patches in SC_surround_IC\n",
      "723 patches in RtTg_surround_noclass\n",
      "6 patches in RtTg_surround_Tz\n",
      "104 patches in RtTg_surround_Pn\n",
      "379 patches in Tz_surround_noclass\n",
      "10 patches in Tz_surround_RtTg\n",
      "467 patches in 7n_surround_noclass\n",
      "703 patches in RMC_surround_noclass\n",
      "745 patches in Pn_surround_noclass\n",
      "85 patches in Pn_surround_RtTg\n",
      "1073 patches in IC_surround_noclass\n",
      "119 patches in IC_surround_SC\n",
      "819 patches in LC_surround_noclass\n",
      "739 patches in 7N_surround_noclass\n",
      "16368 patches in bg\n",
      "267 patches in RtTg\n",
      "311 patches in 7N\n",
      "381 patches in Pn\n",
      "1063 patches in IC\n"
     ]
    },
    {
     "name": "stderr",
     "output_type": "stream",
     "text": [
      "Analyzing section 257..\n"
     ]
    },
    {
     "name": "stdout",
     "output_type": "stream",
     "text": [
      "251 patches in LRt\n",
      "172 patches in RMC\n",
      "11 patches in Tz\n",
      "225 patches in LC\n",
      "2184 patches in SC\n",
      "50 patches in 7n\n",
      "733 patches in RtTg_surround_noclass\n",
      "7 patches in RtTg_surround_Tz\n",
      "116 patches in RtTg_surround_Pn\n",
      "781 patches in 7N_surround_noclass\n",
      "718 patches in Pn_surround_noclass\n",
      "96 patches in Pn_surround_RtTg\n",
      "1085 patches in IC_surround_noclass\n",
      "130 patches in IC_surround_SC\n",
      "1025 patches in LRt_surround_noclass\n",
      "709 patches in RMC_surround_noclass\n",
      "357 patches in Tz_surround_noclass\n",
      "19 patches in Tz_surround_RtTg\n",
      "837 patches in LC_surround_noclass\n",
      "1795 patches in SC_surround_noclass\n",
      "164 patches in SC_surround_IC\n",
      "471 patches in 7n_surround_noclass\n",
      "16601 patches in bg\n",
      "189 patches in RtTg\n",
      "193 patches in LC\n",
      "380 patches in Pn\n",
      "128 patches in RMC\n"
     ]
    },
    {
     "name": "stderr",
     "output_type": "stream",
     "text": [
      "Analyzing section 258..\n"
     ]
    },
    {
     "name": "stdout",
     "output_type": "stream",
     "text": [
      "2278 patches in SC\n",
      "1097 patches in IC\n",
      "54 patches in 7n\n",
      "333 patches in 7N\n",
      "631 patches in RtTg_surround_noclass\n",
      "104 patches in RtTg_surround_Pn\n",
      "804 patches in LC_surround_noclass\n",
      "741 patches in Pn_surround_noclass\n",
      "80 patches in Pn_surround_RtTg\n",
      "634 patches in RMC_surround_noclass\n",
      "1789 patches in SC_surround_noclass\n",
      "160 patches in SC_surround_IC\n",
      "1075 patches in IC_surround_noclass\n",
      "131 patches in IC_surround_SC\n",
      "481 patches in 7n_surround_noclass\n",
      "808 patches in 7N_surround_noclass\n",
      "16535 patches in bg\n",
      "169 patches in LC\n",
      "1138 patches in IC\n",
      "379 patches in Pn\n"
     ]
    },
    {
     "name": "stderr",
     "output_type": "stream",
     "text": [
      "Analyzing section 259..\n"
     ]
    },
    {
     "name": "stdout",
     "output_type": "stream",
     "text": [
      "54 patches in 7n\n",
      "101 patches in RMC\n",
      "134 patches in RtTg\n",
      "2361 patches in SC\n",
      "353 patches in 7N\n",
      "785 patches in LC_surround_noclass\n",
      "1072 patches in IC_surround_noclass\n",
      "143 patches in IC_surround_SC\n",
      "717 patches in Pn_surround_noclass\n",
      "74 patches in Pn_surround_RtTg\n",
      "485 patches in 7n_surround_noclass\n",
      "579 patches in RMC_surround_noclass\n",
      "565 patches in RtTg_surround_noclass\n",
      "107 patches in RtTg_surround_Pn\n",
      "1822 patches in SC_surround_noclass\n",
      "168 patches in SC_surround_IC\n",
      "799 patches in 7N_surround_noclass\n",
      "16236 patches in bg\n",
      "88 patches in RtTg\n",
      "1201 patches in IC\n",
      "152 patches in LC\n"
     ]
    },
    {
     "name": "stderr",
     "output_type": "stream",
     "text": [
      "Analyzing section 260..\n"
     ]
    },
    {
     "name": "stdout",
     "output_type": "stream",
     "text": [
      "76 patches in RMC\n",
      "13 patches in SNC\n",
      "358 patches in LRt\n",
      "69 patches in 7n\n",
      "392 patches in Pn\n",
      "2470 patches in SC\n",
      "393 patches in 7N\n",
      "133 patches in SNR\n",
      "514 patches in RtTg_surround_noclass\n",
      "117 patches in RtTg_surround_Pn\n",
      "1064 patches in IC_surround_noclass\n",
      "157 patches in IC_surround_SC\n",
      "827 patches in LC_surround_noclass\n",
      "540 patches in RMC_surround_noclass\n",
      "360 patches in SNC_surround_noclass\n",
      "116 patches in SNC_surround_SNR\n",
      "994 patches in LRt_surround_noclass\n",
      "512 patches in 7n_surround_noclass\n",
      "728 patches in Pn_surround_noclass\n",
      "70 patches in Pn_surround_RtTg\n",
      "1909 patches in SC_surround_noclass\n",
      "172 patches in SC_surround_IC\n",
      "837 patches in 7N_surround_noclass\n",
      "672 patches in SNR_surround_noclass\n",
      "13 patches in SNR_surround_SNC\n",
      "17120 patches in bg\n",
      "40 patches in LC\n"
     ]
    },
    {
     "name": "stderr",
     "output_type": "stream",
     "text": [
      "Analyzing section 261..\n"
     ]
    },
    {
     "name": "stdout",
     "output_type": "stream",
     "text": [
      "392 patches in Pn\n",
      "12 patches in SNC\n",
      "2457 patches in SC\n",
      "1219 patches in IC\n",
      "386 patches in 7N\n",
      "59 patches in 7n\n",
      "76 patches in RMC\n",
      "141 patches in SNR\n",
      "610 patches in LC_surround_noclass\n",
      "794 patches in Pn_surround_noclass\n",
      "326 patches in SNC_surround_noclass\n",
      "117 patches in SNC_surround_SNR\n",
      "1882 patches in SC_surround_noclass\n",
      "174 patches in SC_surround_IC\n",
      "1079 patches in IC_surround_noclass\n",
      "153 patches in IC_surround_SC\n",
      "834 patches in 7N_surround_noclass\n",
      "496 patches in 7n_surround_noclass\n",
      "524 patches in RMC_surround_noclass\n",
      "700 patches in SNR_surround_noclass\n",
      "12 patches in SNR_surround_SNC\n",
      "17242 patches in bg\n"
     ]
    },
    {
     "name": "stderr",
     "output_type": "stream",
     "text": [
      "Analyzing section 262..\n"
     ]
    },
    {
     "name": "stdout",
     "output_type": "stream",
     "text": [
      "377 patches in 7N\n",
      "57 patches in 7n\n",
      "1242 patches in IC\n",
      "159 patches in SNR\n",
      "81 patches in RMC\n",
      "18 patches in SNC\n",
      "2443 patches in SC\n",
      "403 patches in Pn\n",
      "835 patches in 7N_surround_noclass\n",
      "497 patches in 7n_surround_noclass\n",
      "1094 patches in IC_surround_noclass\n",
      "152 patches in IC_surround_SC\n",
      "726 patches in SNR_surround_noclass\n",
      "18 patches in SNR_surround_SNC\n",
      "535 patches in RMC_surround_noclass\n",
      "321 patches in SNC_surround_noclass\n",
      "123 patches in SNC_surround_SNR\n",
      "1885 patches in SC_surround_noclass\n",
      "170 patches in SC_surround_IC\n",
      "795 patches in Pn_surround_noclass\n",
      "17422 patches in bg\n",
      "1279 patches in IC\n"
     ]
    },
    {
     "name": "stderr",
     "output_type": "stream",
     "text": [
      "Analyzing section 263..\n"
     ]
    },
    {
     "name": "stdout",
     "output_type": "stream",
     "text": [
      "368 patches in 7N\n",
      "2441 patches in SC\n",
      "16 patches in SNC\n",
      "395 patches in Pn\n",
      "84 patches in RMC\n",
      "56 patches in 7n\n",
      "186 patches in SNR\n",
      "1094 patches in IC_surround_noclass\n",
      "156 patches in IC_surround_SC\n",
      "865 patches in 7N_surround_noclass\n",
      "1873 patches in SC_surround_noclass\n",
      "177 patches in SC_surround_IC\n",
      "326 patches in SNC_surround_noclass\n",
      "134 patches in SNC_surround_SNR\n",
      "820 patches in Pn_surround_noclass\n",
      "539 patches in RMC_surround_noclass\n",
      "496 patches in 7n_surround_noclass\n",
      "762 patches in SNR_surround_noclass\n",
      "16 patches in SNR_surround_SNC\n",
      "17103 patches in bg\n",
      "2430 patches in SC\n"
     ]
    },
    {
     "name": "stderr",
     "output_type": "stream",
     "text": [
      "Analyzing section 264..\n"
     ]
    },
    {
     "name": "stdout",
     "output_type": "stream",
     "text": [
      "1308 patches in IC\n",
      "19 patches in SNC\n",
      "371 patches in 7N\n",
      "57 patches in 7n\n",
      "87 patches in RMC\n",
      "204 patches in SNR\n",
      "394 patches in Pn\n",
      "1873 patches in SC_surround_noclass\n",
      "172 patches in SC_surround_IC\n",
      "1114 patches in IC_surround_noclass\n",
      "153 patches in IC_surround_SC\n",
      "321 patches in SNC_surround_noclass\n",
      "139 patches in SNC_surround_SNR\n",
      "824 patches in 7N_surround_noclass\n",
      "493 patches in 7n_surround_noclass\n",
      "552 patches in RMC_surround_noclass\n",
      "793 patches in SNR_surround_noclass\n",
      "19 patches in SNR_surround_SNC\n",
      "852 patches in Pn_surround_noclass\n",
      "17710 patches in bg\n",
      "230 patches in SNR\n",
      "97 patches in RMC\n"
     ]
    },
    {
     "name": "stderr",
     "output_type": "stream",
     "text": [
      "Analyzing section 265..\n"
     ]
    },
    {
     "name": "stdout",
     "output_type": "stream",
     "text": [
      "2426 patches in SC\n",
      "1340 patches in IC\n",
      "372 patches in 7N\n",
      "62 patches in 7n\n",
      "19 patches in SNC\n",
      "394 patches in Pn\n",
      "830 patches in SNR_surround_noclass\n",
      "19 patches in SNR_surround_SNC\n",
      "552 patches in RMC_surround_noclass\n",
      "1857 patches in SC_surround_noclass\n",
      "179 patches in SC_surround_IC\n",
      "1120 patches in IC_surround_noclass\n",
      "156 patches in IC_surround_SC\n",
      "863 patches in 7N_surround_noclass\n",
      "516 patches in 7n_surround_noclass\n",
      "326 patches in SNC_surround_noclass\n",
      "143 patches in SNC_surround_SNR\n",
      "943 patches in Pn_surround_noclass\n",
      "17957 patches in bg\n",
      "253 patches in SNR\n"
     ]
    },
    {
     "name": "stderr",
     "output_type": "stream",
     "text": [
      "Analyzing section 266..\n"
     ]
    },
    {
     "name": "stdout",
     "output_type": "stream",
     "text": [
      "55 patches in 7n\n",
      "2417 patches in SC\n",
      "102 patches in RMC\n",
      "368 patches in 7N\n",
      "21 patches in SNC\n",
      "350 patches in Pn\n",
      "1369 patches in IC\n",
      "858 patches in SNR_surround_noclass\n",
      "21 patches in SNR_surround_SNC\n",
      "492 patches in 7n_surround_noclass\n",
      "1853 patches in SC_surround_noclass\n",
      "176 patches in SC_surround_IC\n",
      "562 patches in RMC_surround_noclass\n",
      "865 patches in 7N_surround_noclass\n",
      "322 patches in SNC_surround_noclass\n",
      "151 patches in SNC_surround_SNR\n",
      "916 patches in Pn_surround_noclass\n",
      "1119 patches in IC_surround_noclass\n",
      "160 patches in IC_surround_SC\n",
      "17542 patches in bg\n",
      "106 patches in RMC\n"
     ]
    },
    {
     "name": "stderr",
     "output_type": "stream",
     "text": [
      "Analyzing section 267..\n"
     ]
    },
    {
     "name": "stdout",
     "output_type": "stream",
     "text": [
      "301 patches in Pn\n",
      "1400 patches in IC\n",
      "57 patches in 7n\n",
      "2414 patches in SC\n",
      "23 patches in SNC\n",
      "286 patches in SNR\n",
      "374 patches in 7N\n",
      "573 patches in RMC_surround_noclass\n",
      "853 patches in Pn_surround_noclass\n",
      "1154 patches in IC_surround_noclass\n",
      "159 patches in IC_surround_SC\n",
      "496 patches in 7n_surround_noclass\n",
      "1835 patches in SC_surround_noclass\n",
      "179 patches in SC_surround_IC\n",
      "331 patches in SNC_surround_noclass\n",
      "156 patches in SNC_surround_SNR\n",
      "899 patches in SNR_surround_noclass\n",
      "23 patches in SNR_surround_SNC\n",
      "882 patches in 7N_surround_noclass\n",
      "17731 patches in bg\n",
      "240 patches in Pn\n",
      "383 patches in 7N\n",
      "342 patches in SNR\n",
      "53 patches in 7n\n"
     ]
    },
    {
     "name": "stderr",
     "output_type": "stream",
     "text": [
      "Analyzing section 268..\n",
      "Analyzing section 269..\n"
     ]
    },
    {
     "name": "stdout",
     "output_type": "stream",
     "text": [
      "26 patches in SNC\n",
      "2391 patches in SC\n",
      "1464 patches in IC\n",
      "58 patches in Amb\n",
      "115 patches in RMC\n",
      "796 patches in Pn_surround_noclass\n",
      "868 patches in 7N_surround_noclass\n",
      "951 patches in SNR_surround_noclass\n",
      "26 patches in SNR_surround_SNC\n",
      "501 patches in 7n_surround_noclass\n",
      "341 patches in SNC_surround_noclass\n",
      "158 patches in SNC_surround_SNR\n",
      "1821 patches in SC_surround_noclass\n",
      "186 patches in SC_surround_IC\n",
      "1183 patches in IC_surround_noclass\n",
      "165 patches in IC_surround_SC\n",
      "549 patches in Amb_surround_noclass\n",
      "595 patches in RMC_surround_noclass\n",
      "17950 patches in bg\n",
      "27 patches in SNC\n",
      "366 patches in SNR\n",
      "55 patches in 7n\n",
      "50 patches in Amb\n"
     ]
    },
    {
     "name": "stderr",
     "output_type": "stream",
     "text": [
      "Analyzing section 270..\n"
     ]
    },
    {
     "name": "stdout",
     "output_type": "stream",
     "text": [
      "1500 patches in IC\n",
      "205 patches in Pn\n",
      "385 patches in 7N\n",
      "2387 patches in SC\n",
      "120 patches in RMC\n",
      "346 patches in SNC_surround_noclass\n",
      "160 patches in SNC_surround_SNR\n",
      "990 patches in SNR_surround_noclass\n",
      "27 patches in SNR_surround_SNC\n",
      "500 patches in 7n_surround_noclass\n",
      "500 patches in Amb_surround_noclass\n",
      "1163 patches in IC_surround_noclass\n",
      "165 patches in IC_surround_SC\n",
      "787 patches in Pn_surround_noclass\n",
      "900 patches in 7N_surround_noclass\n",
      "1817 patches in SC_surround_noclass\n",
      "189 patches in SC_surround_IC\n",
      "597 patches in RMC_surround_noclass\n",
      "18099 patches in bg\n",
      "181 patches in Pn\n",
      "29 patches in SNC\n",
      "43 patches in Amb\n",
      "122 patches in RMC\n",
      "386 patches in 7N\n"
     ]
    },
    {
     "name": "stderr",
     "output_type": "stream",
     "text": [
      "Analyzing section 271..\n"
     ]
    },
    {
     "name": "stdout",
     "output_type": "stream",
     "text": [
      "55 patches in 7n\n",
      "2381 patches in SC\n",
      "391 patches in SNR\n",
      "56 patches in 5N\n",
      "1529 patches in IC\n",
      "740 patches in Pn_surround_noclass\n",
      "338 patches in SNC_surround_noclass\n",
      "167 patches in SNC_surround_SNR\n",
      "487 patches in Amb_surround_noclass\n",
      "1 patches in Amb_surround_7N\n",
      "610 patches in RMC_surround_noclass\n",
      "915 patches in 7N_surround_noclass\n",
      "499 patches in 7n_surround_noclass\n",
      "1816 patches in SC_surround_noclass\n",
      "188 patches in SC_surround_IC\n",
      "1004 patches in SNR_surround_noclass\n",
      "29 patches in SNR_surround_SNC\n",
      "482 patches in 5N_surround_noclass\n",
      "1182 patches in IC_surround_noclass\n",
      "164 patches in IC_surround_SC\n",
      "18057 patches in bg\n",
      "431 patches in SNR\n",
      "77 patches in 5N\n",
      "154 patches in Pn\n",
      "30 patches in SNC\n"
     ]
    },
    {
     "name": "stderr",
     "output_type": "stream",
     "text": [
      "Analyzing section 272..\n"
     ]
    },
    {
     "name": "stdout",
     "output_type": "stream",
     "text": [
      "2365 patches in SC\n",
      "1568 patches in IC\n",
      "128 patches in RMC\n",
      "40 patches in Amb\n",
      "48 patches in 7n\n",
      "393 patches in 7N\n",
      "1041 patches in SNR_surround_noclass\n",
      "30 patches in SNR_surround_SNC\n",
      "518 patches in 5N_surround_noclass\n",
      "707 patches in Pn_surround_noclass\n",
      "343 patches in SNC_surround_noclass\n",
      "173 patches in SNC_surround_SNR\n",
      "1809 patches in SC_surround_noclass\n",
      "193 patches in SC_surround_IC\n",
      "1198 patches in IC_surround_noclass\n",
      "173 patches in IC_surround_SC\n",
      "622 patches in RMC_surround_noclass\n",
      "466 patches in Amb_surround_noclass\n",
      "2 patches in Amb_surround_7N\n",
      "516 patches in 7n_surround_noclass\n",
      "907 patches in 7N_surround_noclass\n",
      "3 patches in 7N_surround_Amb\n",
      "18462 patches in bg\n",
      "36 patches in Amb\n"
     ]
    },
    {
     "name": "stderr",
     "output_type": "stream",
     "text": [
      "Analyzing section 273..\n"
     ]
    },
    {
     "name": "stdout",
     "output_type": "stream",
     "text": [
      "389 patches in 7N\n",
      "1595 patches in IC\n",
      "2361 patches in SC\n",
      "134 patches in Pn\n",
      "103 patches in 5N\n",
      "135 patches in RMC\n",
      "459 patches in SNR\n",
      "54 patches in 7n\n",
      "32 patches in SNC\n",
      "446 patches in Amb_surround_noclass\n",
      "5 patches in Amb_surround_7N\n",
      "914 patches in 7N_surround_noclass\n",
      "4 patches in 7N_surround_Amb\n",
      "1212 patches in IC_surround_noclass\n",
      "169 patches in IC_surround_SC\n",
      "1812 patches in SC_surround_noclass\n",
      "194 patches in SC_surround_IC\n",
      "663 patches in Pn_surround_noclass\n",
      "572 patches in 5N_surround_noclass\n",
      "625 patches in RMC_surround_noclass\n",
      "1101 patches in SNR_surround_noclass\n",
      "32 patches in SNR_surround_SNC\n",
      "501 patches in 7n_surround_noclass\n",
      "348 patches in SNC_surround_noclass\n",
      "175 patches in SNC_surround_SNR\n",
      "18569 patches in bg\n",
      "1629 patches in IC\n"
     ]
    },
    {
     "name": "stderr",
     "output_type": "stream",
     "text": [
      "Analyzing section 274..\n"
     ]
    },
    {
     "name": "stdout",
     "output_type": "stream",
     "text": [
      "139 patches in 5N\n",
      "501 patches in SNR\n",
      "51 patches in 7n\n",
      "390 patches in 7N\n",
      "139 patches in RMC\n",
      "30 patches in Amb\n",
      "2360 patches in SC\n",
      "32 patches in SNC\n",
      "108 patches in Pn\n",
      "1223 patches in IC_surround_noclass\n",
      "176 patches in IC_surround_SC\n",
      "624 patches in 5N_surround_noclass\n",
      "1137 patches in SNR_surround_noclass\n",
      "32 patches in SNR_surround_SNC\n",
      "515 patches in 7n_surround_noclass\n",
      "892 patches in 7N_surround_noclass\n",
      "8 patches in 7N_surround_Amb\n",
      "635 patches in RMC_surround_noclass\n",
      "412 patches in Amb_surround_noclass\n",
      "9 patches in Amb_surround_7N\n",
      "1798 patches in SC_surround_noclass\n",
      "196 patches in SC_surround_IC\n",
      "355 patches in SNC_surround_noclass\n",
      "177 patches in SNC_surround_SNR\n",
      "642 patches in Pn_surround_noclass\n",
      "18735 patches in bg\n",
      "176 patches in 5N\n",
      "34 patches in SNC\n"
     ]
    },
    {
     "name": "stderr",
     "output_type": "stream",
     "text": [
      "Analyzing section 275..\n"
     ]
    },
    {
     "name": "stdout",
     "output_type": "stream",
     "text": [
      "547 patches in SNR\n",
      "400 patches in 7N\n",
      "179 patches in LRt\n",
      "149 patches in RMC\n",
      "58 patches in 7n\n",
      "1693 patches in IC\n",
      "96 patches in Pn\n",
      "2372 patches in SC\n",
      "35 patches in Amb\n",
      "687 patches in 5N_surround_noclass\n",
      "372 patches in SNC_surround_noclass\n",
      "195 patches in SNC_surround_SNR\n",
      "1181 patches in SNR_surround_noclass\n",
      "34 patches in SNR_surround_SNC\n",
      "1 patches in SNR_surround_RMC\n",
      "929 patches in 7N_surround_noclass\n",
      "15 patches in 7N_surround_Amb\n",
      "1037 patches in LRt_surround_noclass\n",
      "8 patches in LRt_surround_Amb\n",
      "661 patches in RMC_surround_noclass\n",
      "1 patches in RMC_surround_SNR\n",
      "540 patches in 7n_surround_noclass\n",
      "1221 patches in IC_surround_noclass\n",
      "188 patches in IC_surround_SC\n",
      "651 patches in Pn_surround_noclass\n",
      "1807 patches in SC_surround_noclass\n",
      "215 patches in SC_surround_IC\n",
      "405 patches in Amb_surround_noclass\n",
      "24 patches in Amb_surround_7N\n",
      "6 patches in Amb_surround_LRt\n",
      "19243 patches in bg\n"
     ]
    },
    {
     "name": "stderr",
     "output_type": "stream",
     "text": [
      "Analyzing section 276..\n"
     ]
    },
    {
     "name": "stdout",
     "output_type": "stream",
     "text": [
      "194 patches in 5N\n",
      "2290 patches in SC\n",
      "54 patches in 7n\n",
      "550 patches in SNR\n",
      "62 patches in Pn\n",
      "379 patches in 7N\n",
      "1686 patches in IC\n",
      "21 patches in Amb\n",
      "33 patches in SNC\n",
      "162 patches in LRt\n",
      "701 patches in 5N_surround_noclass\n",
      "1771 patches in SC_surround_noclass\n",
      "199 patches in SC_surround_IC\n",
      "515 patches in 7n_surround_noclass\n",
      "1175 patches in SNR_surround_noclass\n",
      "33 patches in SNR_surround_SNC\n",
      "588 patches in Pn_surround_noclass\n",
      "884 patches in 7N_surround_noclass\n",
      "7 patches in 7N_surround_Amb\n",
      "1253 patches in IC_surround_noclass\n",
      "174 patches in IC_surround_SC\n",
      "389 patches in Amb_surround_noclass\n",
      "6 patches in Amb_surround_LRt\n",
      "15 patches in Amb_surround_7N\n",
      "357 patches in SNC_surround_noclass\n",
      "184 patches in SNC_surround_SNR\n",
      "938 patches in LRt_surround_noclass\n",
      "7 patches in LRt_surround_Amb\n",
      "19411 patches in bg\n"
     ]
    },
    {
     "name": "stderr",
     "output_type": "stream",
     "text": [
      "Analyzing section 277..\n"
     ]
    },
    {
     "name": "stdout",
     "output_type": "stream",
     "text": [
      "561 patches in SNR\n",
      "41 patches in Pn\n",
      "147 patches in LRt\n",
      "211 patches in 5N\n",
      "351 patches in 7N\n",
      "53 patches in 7n\n",
      "31 patches in SNC\n",
      "2231 patches in SC\n",
      "1712 patches in IC\n",
      "1187 patches in SNR_surround_noclass\n",
      "31 patches in SNR_surround_SNC\n",
      "545 patches in Pn_surround_noclass\n",
      "862 patches in LRt_surround_noclass\n",
      "726 patches in 5N_surround_noclass\n",
      "905 patches in 7N_surround_noclass\n",
      "524 patches in 7n_surround_noclass\n",
      "353 patches in SNC_surround_noclass\n",
      "184 patches in SNC_surround_SNR\n",
      "1758 patches in SC_surround_noclass\n",
      "197 patches in SC_surround_IC\n",
      "1265 patches in IC_surround_noclass\n",
      "168 patches in IC_surround_SC\n",
      "19558 patches in bg\n"
     ]
    },
    {
     "name": "stderr",
     "output_type": "stream",
     "text": [
      "Analyzing section 278..\n"
     ]
    },
    {
     "name": "stdout",
     "output_type": "stream",
     "text": [
      "574 patches in SNR\n",
      "2192 patches in SC\n",
      "1720 patches in IC\n",
      "23 patches in Pn\n",
      "56 patches in 7n\n",
      "339 patches in 7N\n",
      "137 patches in LRt\n",
      "231 patches in 5N\n",
      "30 patches in SNC\n",
      "1158 patches in SNR_surround_noclass\n",
      "30 patches in SNR_surround_SNC\n",
      "1732 patches in SC_surround_noclass\n",
      "189 patches in SC_surround_IC\n",
      "1225 patches in IC_surround_noclass\n",
      "164 patches in IC_surround_SC\n",
      "519 patches in Pn_surround_noclass\n",
      "518 patches in 7n_surround_noclass\n",
      "864 patches in 7N_surround_noclass\n",
      "849 patches in LRt_surround_noclass\n",
      "746 patches in 5N_surround_noclass\n",
      "361 patches in SNC_surround_noclass\n",
      "184 patches in SNC_surround_SNR\n",
      "20331 patches in bg\n"
     ]
    },
    {
     "name": "stderr",
     "output_type": "stream",
     "text": [
      "Analyzing section 279..\n"
     ]
    },
    {
     "name": "stdout",
     "output_type": "stream",
     "text": [
      "1732 patches in IC\n",
      "317 patches in 7N\n",
      "5 patches in Pn\n",
      "58 patches in 7n\n",
      "2137 patches in SC\n",
      "125 patches in LRt\n",
      "251 patches in 5N\n",
      "591 patches in SNR\n",
      "30 patches in SNC\n",
      "1376 patches in IC_surround_noclass\n",
      "163 patches in IC_surround_SC\n",
      "837 patches in 7N_surround_noclass\n",
      "528 patches in Pn_surround_noclass\n",
      "517 patches in 7n_surround_noclass\n",
      "1721 patches in SC_surround_noclass\n",
      "191 patches in SC_surround_IC\n",
      "836 patches in LRt_surround_noclass\n",
      "771 patches in 5N_surround_noclass\n",
      "1213 patches in SNR_surround_noclass\n",
      "30 patches in SNR_surround_SNC\n",
      "360 patches in SNC_surround_noclass\n",
      "193 patches in SNC_surround_SNR\n",
      "19990 patches in bg\n",
      "1762 patches in IC\n",
      "54 patches in 7n\n"
     ]
    },
    {
     "name": "stderr",
     "output_type": "stream",
     "text": [
      "Analyzing section 280..\n"
     ]
    },
    {
     "name": "stdout",
     "output_type": "stream",
     "text": [
      "302 patches in 7N\n",
      "600 patches in SNR\n",
      "29 patches in SNC\n",
      "277 patches in 5N\n",
      "2097 patches in SC\n",
      "117 patches in LRt\n",
      "1365 patches in IC_surround_noclass\n",
      "160 patches in IC_surround_SC\n",
      "518 patches in 7n_surround_noclass\n",
      "807 patches in 7N_surround_noclass\n",
      "1223 patches in SNR_surround_noclass\n",
      "29 patches in SNR_surround_SNC\n",
      "368 patches in SNC_surround_noclass\n",
      "196 patches in SNC_surround_SNR\n",
      "789 patches in 5N_surround_noclass\n",
      "1705 patches in SC_surround_noclass\n",
      "188 patches in SC_surround_IC\n",
      "799 patches in LRt_surround_noclass\n",
      "20193 patches in bg\n",
      "2027 patches in SC\n"
     ]
    },
    {
     "name": "stderr",
     "output_type": "stream",
     "text": [
      "Analyzing section 281..\n"
     ]
    },
    {
     "name": "stdout",
     "output_type": "stream",
     "text": [
      "28 patches in SNC\n",
      "58 patches in 7n\n",
      "301 patches in 5N\n",
      "287 patches in 7N\n",
      "616 patches in SNR\n",
      "107 patches in LRt\n",
      "1785 patches in IC\n",
      "1705 patches in SC_surround_noclass\n",
      "179 patches in SC_surround_IC\n",
      "372 patches in SNC_surround_noclass\n",
      "197 patches in SNC_surround_SNR\n",
      "517 patches in 7n_surround_noclass\n",
      "820 patches in 5N_surround_noclass\n",
      "806 patches in 7N_surround_noclass\n",
      "1241 patches in SNR_surround_noclass\n",
      "28 patches in SNR_surround_SNC\n",
      "781 patches in LRt_surround_noclass\n",
      "1390 patches in IC_surround_noclass\n",
      "152 patches in IC_surround_SC\n",
      "20523 patches in bg\n",
      "28 patches in SNC\n",
      "59 patches in 7n\n",
      "1988 patches in SC\n"
     ]
    },
    {
     "name": "stderr",
     "output_type": "stream",
     "text": [
      "Analyzing section 282..\n"
     ]
    },
    {
     "name": "stdout",
     "output_type": "stream",
     "text": [
      "1797 patches in IC\n",
      "631 patches in SNR\n",
      "93 patches in LRt\n",
      "321 patches in 5N\n",
      "269 patches in 7N\n",
      "370 patches in SNC_surround_noclass\n",
      "199 patches in SNC_surround_SNR\n",
      "523 patches in 7n_surround_noclass\n",
      "1689 patches in SC_surround_noclass\n",
      "177 patches in SC_surround_IC\n",
      "1388 patches in IC_surround_noclass\n",
      "149 patches in IC_surround_SC\n",
      "1237 patches in SNR_surround_noclass\n",
      "28 patches in SNR_surround_SNC\n",
      "773 patches in LRt_surround_noclass\n",
      "837 patches in 5N_surround_noclass\n",
      "774 patches in 7N_surround_noclass\n",
      "20952 patches in bg\n",
      "1804 patches in IC\n",
      "351 patches in 5N\n",
      "248 patches in 7N\n"
     ]
    },
    {
     "name": "stderr",
     "output_type": "stream",
     "text": [
      "Analyzing section 283..\n"
     ]
    },
    {
     "name": "stdout",
     "output_type": "stream",
     "text": [
      "25 patches in SNC\n",
      "1933 patches in SC\n",
      "63 patches in 7n\n",
      "79 patches in LRt\n",
      "643 patches in SNR\n",
      "1410 patches in IC_surround_noclass\n",
      "145 patches in IC_surround_SC\n",
      "872 patches in 5N_surround_noclass\n",
      "770 patches in 7N_surround_noclass\n",
      "376 patches in SNC_surround_noclass\n",
      "202 patches in SNC_surround_SNR\n",
      "1666 patches in SC_surround_noclass\n",
      "173 patches in SC_surround_IC\n",
      "511 patches in 7n_surround_noclass\n",
      "757 patches in LRt_surround_noclass\n",
      "1264 patches in SNR_surround_noclass\n",
      "25 patches in SNR_surround_SNC\n",
      "21055 patches in bg\n",
      "26 patches in SNC\n",
      "234 patches in 7N\n",
      "59 patches in 7n\n",
      "73 patches in LRt\n"
     ]
    },
    {
     "name": "stderr",
     "output_type": "stream",
     "text": [
      "Analyzing section 284..\n"
     ]
    },
    {
     "name": "stdout",
     "output_type": "stream",
     "text": [
      "1832 patches in IC\n",
      "1885 patches in SC\n",
      "365 patches in VLL\n",
      "384 patches in 5N\n",
      "661 patches in SNR\n",
      "375 patches in SNC_surround_noclass\n",
      "201 patches in SNC_surround_SNR\n",
      "744 patches in 7N_surround_noclass\n",
      "518 patches in 7n_surround_noclass\n",
      "775 patches in LRt_surround_noclass\n",
      "1397 patches in IC_surround_noclass\n",
      "138 patches in IC_surround_SC\n",
      "1663 patches in SC_surround_noclass\n",
      "169 patches in SC_surround_IC\n",
      "1027 patches in VLL_surround_noclass\n",
      "897 patches in 5N_surround_noclass\n",
      "1255 patches in SNR_surround_noclass\n",
      "26 patches in SNR_surround_SNC\n",
      "21463 patches in bg\n",
      "0 patches in DC\n",
      "25 patches in SNC\n",
      "64 patches in 7n\n",
      "371 patches in VLL\n",
      "223 patches in 7N\n"
     ]
    },
    {
     "name": "stderr",
     "output_type": "stream",
     "text": [
      "Analyzing section 285..\n"
     ]
    },
    {
     "name": "stdout",
     "output_type": "stream",
     "text": [
      "1848 patches in IC\n",
      "674 patches in SNR\n",
      "365 patches in 5N\n",
      "1832 patches in SC\n",
      "411 patches in DC_surround_noclass\n",
      "377 patches in SNC_surround_noclass\n",
      "206 patches in SNC_surround_SNR\n",
      "521 patches in 7n_surround_noclass\n",
      "1029 patches in VLL_surround_noclass\n",
      "728 patches in 7N_surround_noclass\n",
      "1435 patches in IC_surround_noclass\n",
      "130 patches in IC_surround_SC\n",
      "1287 patches in SNR_surround_noclass\n",
      "25 patches in SNR_surround_SNC\n",
      "872 patches in 5N_surround_noclass\n",
      "1655 patches in SC_surround_noclass\n",
      "164 patches in SC_surround_IC\n",
      "21411 patches in bg\n",
      "406 patches in VLL\n",
      "3 patches in DC\n",
      "21 patches in SNC\n",
      "346 patches in 5N\n"
     ]
    },
    {
     "name": "stderr",
     "output_type": "stream",
     "text": [
      "Analyzing section 286..\n"
     ]
    },
    {
     "name": "stdout",
     "output_type": "stream",
     "text": [
      "683 patches in SNR\n",
      "1867 patches in IC\n",
      "207 patches in 7N\n",
      "1778 patches in SC\n",
      "65 patches in 7n\n",
      "1046 patches in VLL_surround_noclass\n",
      "382 patches in DC_surround_noclass\n",
      "378 patches in SNC_surround_noclass\n",
      "202 patches in SNC_surround_SNR\n",
      "852 patches in 5N_surround_noclass\n",
      "1306 patches in SNR_surround_noclass\n",
      "21 patches in SNR_surround_SNC\n",
      "1451 patches in IC_surround_noclass\n",
      "123 patches in IC_surround_SC\n",
      "707 patches in 7N_surround_noclass\n",
      "1640 patches in SC_surround_noclass\n",
      "155 patches in SC_surround_IC\n",
      "520 patches in 7n_surround_noclass\n",
      "21784 patches in bg\n",
      "5 patches in DC\n",
      "1883 patches in IC\n"
     ]
    },
    {
     "name": "stderr",
     "output_type": "stream",
     "text": [
      "Analyzing section 287..\n"
     ]
    },
    {
     "name": "stdout",
     "output_type": "stream",
     "text": [
      "696 patches in SNR\n",
      "420 patches in VLL\n",
      "23 patches in SNC\n",
      "1740 patches in SC\n",
      "331 patches in 5N\n",
      "67 patches in 7n\n",
      "185 patches in 7N\n",
      "387 patches in DC_surround_noclass\n",
      "1466 patches in IC_surround_noclass\n",
      "123 patches in IC_surround_SC\n",
      "1309 patches in SNR_surround_noclass\n",
      "23 patches in SNR_surround_SNC\n",
      "1058 patches in VLL_surround_noclass\n",
      "378 patches in SNC_surround_noclass\n",
      "204 patches in SNC_surround_SNR\n",
      "1612 patches in SC_surround_noclass\n",
      "156 patches in SC_surround_IC\n",
      "832 patches in 5N_surround_noclass\n",
      "522 patches in 7n_surround_noclass\n",
      "724 patches in 7N_surround_noclass\n",
      "21862 patches in bg\n"
     ]
    },
    {
     "name": "stderr",
     "output_type": "stream",
     "text": [
      "Analyzing section 288..\n"
     ]
    },
    {
     "name": "stdout",
     "output_type": "stream",
     "text": [
      "445 patches in VLL\n",
      "69 patches in 7n\n",
      "315 patches in 5N\n",
      "1694 patches in SC\n",
      "178 patches in 7N\n",
      "24 patches in SNC\n",
      "1904 patches in IC\n",
      "712 patches in SNR\n",
      "8 patches in DC\n",
      "1077 patches in VLL_surround_noclass\n",
      "529 patches in 7n_surround_noclass\n",
      "833 patches in 5N_surround_noclass\n",
      "1623 patches in SC_surround_noclass\n",
      "148 patches in SC_surround_IC\n",
      "698 patches in 7N_surround_noclass\n",
      "381 patches in SNC_surround_noclass\n",
      "210 patches in SNC_surround_SNR\n",
      "1455 patches in IC_surround_noclass\n",
      "115 patches in IC_surround_SC\n",
      "1321 patches in SNR_surround_noclass\n",
      "24 patches in SNR_surround_SNC\n",
      "398 patches in DC_surround_noclass\n",
      "22045 patches in bg\n"
     ]
    },
    {
     "name": "stderr",
     "output_type": "stream",
     "text": [
      "Analyzing section 289..\n"
     ]
    },
    {
     "name": "stdout",
     "output_type": "stream",
     "text": [
      "1950 patches in IC\n",
      "71 patches in 7n\n",
      "11 patches in DC\n",
      "28 patches in SNC\n",
      "478 patches in VLL\n",
      "1674 patches in SC\n",
      "307 patches in 5N\n",
      "169 patches in 7N\n",
      "735 patches in SNR\n",
      "1537 patches in IC_surround_noclass\n",
      "114 patches in IC_surround_SC\n",
      "540 patches in 7n_surround_noclass\n",
      "404 patches in DC_surround_noclass\n",
      "399 patches in SNC_surround_noclass\n",
      "226 patches in SNC_surround_SNR\n",
      "1115 patches in VLL_surround_noclass\n",
      "1619 patches in SC_surround_noclass\n",
      "140 patches in SC_surround_IC\n",
      "827 patches in 5N_surround_noclass\n",
      "700 patches in 7N_surround_noclass\n",
      "1363 patches in SNR_surround_noclass\n",
      "28 patches in SNR_surround_SNC\n",
      "21762 patches in bg\n",
      "155 patches in 7N\n"
     ]
    },
    {
     "name": "stderr",
     "output_type": "stream",
     "text": [
      "Analyzing section 290..\n"
     ]
    },
    {
     "name": "stdout",
     "output_type": "stream",
     "text": [
      "744 patches in SNR\n",
      "65 patches in 7n\n",
      "1559 patches in SC\n",
      "1883 patches in IC\n",
      "257 patches in 5N\n",
      "402 patches in VLL\n",
      "14 patches in DC\n",
      "24 patches in SNC\n",
      "653 patches in 7N_surround_noclass\n",
      "1348 patches in SNR_surround_noclass\n",
      "24 patches in SNR_surround_SNC\n",
      "520 patches in 7n_surround_noclass\n",
      "1580 patches in SC_surround_noclass\n",
      "136 patches in SC_surround_IC\n",
      "1502 patches in IC_surround_noclass\n",
      "102 patches in IC_surround_SC\n",
      "764 patches in 5N_surround_noclass\n",
      "1067 patches in VLL_surround_noclass\n",
      "413 patches in DC_surround_noclass\n",
      "388 patches in SNC_surround_noclass\n",
      "217 patches in SNC_surround_SNR\n",
      "22391 patches in bg\n",
      "1506 patches in SC\n"
     ]
    },
    {
     "name": "stderr",
     "output_type": "stream",
     "text": [
      "Analyzing section 291..\n"
     ]
    },
    {
     "name": "stdout",
     "output_type": "stream",
     "text": [
      "1848 patches in IC\n",
      "220 patches in 5N\n",
      "24 patches in SNC\n",
      "18 patches in DC\n",
      "66 patches in 7n\n",
      "762 patches in SNR\n",
      "155 patches in 7N\n",
      "362 patches in VLL\n",
      "1549 patches in SC_surround_noclass\n",
      "129 patches in SC_surround_IC\n",
      "1496 patches in IC_surround_noclass\n",
      "96 patches in IC_surround_SC\n",
      "737 patches in 5N_surround_noclass\n",
      "400 patches in SNC_surround_noclass\n",
      "220 patches in SNC_surround_SNR\n",
      "414 patches in DC_surround_noclass\n",
      "535 patches in 7n_surround_noclass\n",
      "1350 patches in SNR_surround_noclass\n",
      "24 patches in SNR_surround_SNC\n",
      "629 patches in 7N_surround_noclass\n",
      "1094 patches in VLL_surround_noclass\n",
      "23347 patches in bg\n",
      "1440 patches in SC\n",
      "26 patches in SNC\n"
     ]
    },
    {
     "name": "stderr",
     "output_type": "stream",
     "text": [
      "Analyzing section 292..\n"
     ]
    },
    {
     "name": "stdout",
     "output_type": "stream",
     "text": [
      "772 patches in SNR\n",
      "327 patches in VLL\n",
      "180 patches in 5N\n",
      "1812 patches in IC\n",
      "23 patches in DC\n",
      "67 patches in 7N\n",
      "60 patches in 7n\n",
      "1526 patches in SC_surround_noclass\n",
      "122 patches in SC_surround_IC\n",
      "387 patches in SNC_surround_noclass\n",
      "217 patches in SNC_surround_SNR\n",
      "1370 patches in SNR_surround_noclass\n",
      "26 patches in SNR_surround_SNC\n",
      "997 patches in VLL_surround_noclass\n",
      "695 patches in 5N_surround_noclass\n",
      "1503 patches in IC_surround_noclass\n",
      "93 patches in IC_surround_SC\n",
      "437 patches in DC_surround_noclass\n",
      "521 patches in 7N_surround_noclass\n",
      "511 patches in 7n_surround_noclass\n",
      "23294 patches in bg\n"
     ]
    },
    {
     "name": "stderr",
     "output_type": "stream",
     "text": [
      "Analyzing section 293..\n"
     ]
    },
    {
     "name": "stdout",
     "output_type": "stream",
     "text": [
      "306 patches in VLL\n",
      "154 patches in 5N\n",
      "58 patches in 7n\n",
      "22 patches in 7N\n",
      "27 patches in SNC\n",
      "27 patches in DC\n",
      "1375 patches in SC\n",
      "787 patches in SNR\n",
      "1784 patches in IC\n",
      "945 patches in VLL_surround_noclass\n",
      "664 patches in 5N_surround_noclass\n",
      "512 patches in 7n_surround_noclass\n",
      "429 patches in 7N_surround_noclass\n",
      "389 patches in SNC_surround_noclass\n",
      "221 patches in SNC_surround_SNR\n",
      "465 patches in DC_surround_noclass\n",
      "1505 patches in SC_surround_noclass\n",
      "122 patches in SC_surround_IC\n",
      "1350 patches in SNR_surround_noclass\n",
      "27 patches in SNR_surround_SNC\n",
      "1513 patches in IC_surround_noclass\n",
      "91 patches in IC_surround_SC\n",
      "23438 patches in bg\n"
     ]
    },
    {
     "name": "stderr",
     "output_type": "stream",
     "text": [
      "Analyzing section 294..\n"
     ]
    },
    {
     "name": "stdout",
     "output_type": "stream",
     "text": [
      "1744 patches in IC\n",
      "809 patches in SNR\n",
      "4 patches in 7N\n",
      "34 patches in DC\n",
      "128 patches in 5N\n",
      "28 patches in SNC\n",
      "1321 patches in SC\n",
      "56 patches in 7n\n",
      "281 patches in VLL\n",
      "1505 patches in IC_surround_noclass\n",
      "91 patches in IC_surround_SC\n",
      "1384 patches in SNR_surround_noclass\n",
      "28 patches in SNR_surround_SNC\n",
      "332 patches in 7N_surround_noclass\n",
      "478 patches in DC_surround_noclass\n",
      "638 patches in 5N_surround_noclass\n",
      "396 patches in SNC_surround_noclass\n",
      "231 patches in SNC_surround_SNR\n",
      "1476 patches in SC_surround_noclass\n",
      "116 patches in SC_surround_IC\n",
      "502 patches in 7n_surround_noclass\n",
      "891 patches in VLL_surround_noclass\n",
      "23513 patches in bg\n",
      "30 patches in SNC\n",
      "45 patches in DC\n"
     ]
    },
    {
     "name": "stderr",
     "output_type": "stream",
     "text": [
      "Analyzing section 295..\n"
     ]
    },
    {
     "name": "stdout",
     "output_type": "stream",
     "text": [
      "821 patches in SNR\n",
      "1253 patches in SC\n",
      "55 patches in 7n\n",
      "246 patches in VLL\n",
      "1715 patches in IC\n",
      "402 patches in SNC_surround_noclass\n",
      "233 patches in SNC_surround_SNR\n",
      "498 patches in DC_surround_noclass\n",
      "1359 patches in SNR_surround_noclass\n",
      "30 patches in SNR_surround_SNC\n",
      "1436 patches in SC_surround_noclass\n",
      "115 patches in SC_surround_IC\n",
      "513 patches in 7n_surround_noclass\n",
      "833 patches in VLL_surround_noclass\n",
      "1466 patches in IC_surround_noclass\n",
      "90 patches in IC_surround_SC\n",
      "23991 patches in bg\n"
     ]
    },
    {
     "name": "stderr",
     "output_type": "stream",
     "text": [
      "Analyzing section 296..\n"
     ]
    },
    {
     "name": "stdout",
     "output_type": "stream",
     "text": [
      "1687 patches in IC\n",
      "35 patches in SNC\n",
      "837 patches in SNR\n",
      "220 patches in VLL\n",
      "51 patches in DC\n",
      "51 patches in 7n\n",
      "1188 patches in SC\n",
      "1521 patches in IC_surround_noclass\n",
      "78 patches in IC_surround_SC\n",
      "400 patches in SNC_surround_noclass\n",
      "236 patches in SNC_surround_SNR\n",
      "1358 patches in SNR_surround_noclass\n",
      "35 patches in SNR_surround_SNC\n",
      "786 patches in VLL_surround_noclass\n",
      "504 patches in DC_surround_noclass\n",
      "518 patches in 7n_surround_noclass\n",
      "1423 patches in SC_surround_noclass\n",
      "107 patches in SC_surround_IC\n",
      "23834 patches in bg\n",
      "191 patches in VLL\n",
      "62 patches in DC\n",
      "38 patches in SNC\n",
      "1132 patches in SC\n"
     ]
    },
    {
     "name": "stderr",
     "output_type": "stream",
     "text": [
      "Analyzing section 297..\n"
     ]
    },
    {
     "name": "stdout",
     "output_type": "stream",
     "text": [
      "867 patches in SNR\n",
      "53 patches in 7n\n",
      "1646 patches in IC\n",
      "752 patches in VLL_surround_noclass\n",
      "565 patches in DC_surround_noclass\n",
      "432 patches in SNC_surround_noclass\n",
      "253 patches in SNC_surround_SNR\n",
      "1391 patches in SC_surround_noclass\n",
      "108 patches in SC_surround_IC\n",
      "1423 patches in SNR_surround_noclass\n",
      "38 patches in SNR_surround_SNC\n",
      "547 patches in 7n_surround_noclass\n",
      "1490 patches in IC_surround_noclass\n",
      "81 patches in IC_surround_SC\n",
      "24100 patches in bg\n"
     ]
    },
    {
     "name": "stderr",
     "output_type": "stream",
     "text": [
      "Analyzing section 298..\n"
     ]
    },
    {
     "name": "stdout",
     "output_type": "stream",
     "text": [
      "1078 patches in SC\n",
      "1622 patches in IC\n",
      "855 patches in SNR\n",
      "180 patches in VLL\n",
      "66 patches in DC\n",
      "30 patches in SNC\n",
      "1361 patches in SC_surround_noclass\n",
      "105 patches in SC_surround_IC\n",
      "1511 patches in IC_surround_noclass\n",
      "78 patches in IC_surround_SC\n",
      "1435 patches in SNR_surround_noclass\n",
      "30 patches in SNR_surround_SNC\n",
      "735 patches in VLL_surround_noclass\n",
      "548 patches in DC_surround_noclass\n",
      "400 patches in SNC_surround_noclass\n",
      "235 patches in SNC_surround_SNR\n",
      "24094 patches in bg\n",
      "852 patches in SNR\n"
     ]
    },
    {
     "name": "stderr",
     "output_type": "stream",
     "text": [
      "Analyzing section 299..\n",
      "Analyzing section 300..\n"
     ]
    },
    {
     "name": "stdout",
     "output_type": "stream",
     "text": [
      "1554 patches in IC\n",
      "15 patches in SNC\n",
      "81 patches in DC\n",
      "968 patches in SC\n",
      "176 patches in VLL\n",
      "1377 patches in SNR_surround_noclass\n",
      "15 patches in SNR_surround_SNC\n",
      "1519 patches in IC_surround_noclass\n",
      "81 patches in IC_surround_SC\n",
      "379 patches in SNC_surround_noclass\n",
      "212 patches in SNC_surround_SNR\n",
      "566 patches in DC_surround_noclass\n",
      "1302 patches in SC_surround_noclass\n",
      "105 patches in SC_surround_IC\n",
      "721 patches in VLL_surround_noclass\n",
      "24557 patches in bg\n",
      "173 patches in VLL\n",
      "917 patches in SC\n"
     ]
    },
    {
     "name": "stderr",
     "output_type": "stream",
     "text": [
      "Analyzing section 301..\n"
     ]
    },
    {
     "name": "stdout",
     "output_type": "stream",
     "text": [
      "1529 patches in IC\n",
      "13 patches in SNC\n",
      "851 patches in SNR\n",
      "83 patches in DC\n",
      "724 patches in VLL_surround_noclass\n",
      "1273 patches in SC_surround_noclass\n",
      "106 patches in SC_surround_IC\n",
      "1501 patches in IC_surround_noclass\n",
      "82 patches in IC_surround_SC\n",
      "398 patches in SNC_surround_noclass\n",
      "230 patches in SNC_surround_SNR\n",
      "1395 patches in SNR_surround_noclass\n",
      "13 patches in SNR_surround_SNC\n",
      "573 patches in DC_surround_noclass\n",
      "24770 patches in bg\n",
      "167 patches in VLL\n",
      "866 patches in SC\n"
     ]
    },
    {
     "name": "stderr",
     "output_type": "stream",
     "text": [
      "Analyzing section 302..\n"
     ]
    },
    {
     "name": "stdout",
     "output_type": "stream",
     "text": [
      "853 patches in SNR\n",
      "7 patches in SNC\n",
      "1482 patches in IC\n",
      "94 patches in DC\n",
      "717 patches in VLL_surround_noclass\n",
      "1236 patches in SC_surround_noclass\n",
      "107 patches in SC_surround_IC\n",
      "1377 patches in SNR_surround_noclass\n",
      "7 patches in SNR_surround_SNC\n",
      "358 patches in SNC_surround_noclass\n",
      "203 patches in SNC_surround_SNR\n",
      "1495 patches in IC_surround_noclass\n",
      "86 patches in IC_surround_SC\n",
      "590 patches in DC_surround_noclass\n",
      "24990 patches in bg\n",
      "1450 patches in IC\n"
     ]
    },
    {
     "name": "stderr",
     "output_type": "stream",
     "text": [
      "Analyzing section 303..\n"
     ]
    },
    {
     "name": "stdout",
     "output_type": "stream",
     "text": [
      "856 patches in SNR\n",
      "100 patches in DC\n",
      "818 patches in SC\n",
      "160 patches in VLL\n",
      "5 patches in SNC\n",
      "1513 patches in IC_surround_noclass\n",
      "84 patches in IC_surround_SC\n",
      "1365 patches in SNR_surround_noclass\n",
      "5 patches in SNR_surround_SNC\n",
      "598 patches in DC_surround_noclass\n",
      "1211 patches in SC_surround_noclass\n",
      "108 patches in SC_surround_IC\n",
      "717 patches in VLL_surround_noclass\n",
      "343 patches in SNC_surround_noclass\n",
      "195 patches in SNC_surround_SNR\n",
      "25112 patches in bg\n",
      "109 patches in DC\n"
     ]
    },
    {
     "name": "stderr",
     "output_type": "stream",
     "text": [
      "Analyzing section 304..\n"
     ]
    },
    {
     "name": "stdout",
     "output_type": "stream",
     "text": [
      "858 patches in SNR\n",
      "1418 patches in IC\n",
      "1 patches in SNC\n",
      "159 patches in VLL\n",
      "762 patches in SC\n",
      "620 patches in DC_surround_noclass\n",
      "1364 patches in SNR_surround_noclass\n",
      "1 patches in SNR_surround_SNC\n",
      "1500 patches in IC_surround_noclass\n",
      "87 patches in IC_surround_SC\n",
      "329 patches in SNC_surround_noclass\n",
      "196 patches in SNC_surround_SNR\n",
      "712 patches in VLL_surround_noclass\n",
      "1174 patches in SC_surround_noclass\n",
      "112 patches in SC_surround_IC\n",
      "25321 patches in bg\n",
      "731 patches in SC\n",
      "381 patches in Sp5I\n",
      "118 patches in DC\n",
      "112 patches in 8n\n",
      "616 patches in Pr5DM\n"
     ]
    },
    {
     "name": "stderr",
     "output_type": "stream",
     "text": [
      "Analyzing section 305..\n"
     ]
    },
    {
     "name": "stdout",
     "output_type": "stream",
     "text": [
      "1406 patches in IC\n",
      "2 patches in SNC\n",
      "859 patches in SNR\n",
      "862 patches in Pr5VL\n",
      "1570 patches in Sp5O\n",
      "157 patches in VLL\n",
      "1156 patches in SC_surround_noclass\n",
      "120 patches in SC_surround_IC\n",
      "689 patches in Sp5I_surround_noclass\n",
      "231 patches in Sp5I_surround_Sp5O\n",
      "642 patches in DC_surround_noclass\n",
      "483 patches in 8n_surround_noclass\n",
      "2 patches in 8n_surround_Sp5O\n",
      "117 patches in 8n_surround_Pr5DM\n",
      "648 patches in Pr5DM_surround_noclass\n",
      "55 patches in Pr5DM_surround_Sp5O\n",
      "73 patches in Pr5DM_surround_8n\n",
      "271 patches in Pr5DM_surround_Pr5VL\n",
      "1524 patches in IC_surround_noclass\n",
      "96 patches in IC_surround_SC\n",
      "324 patches in SNC_surround_noclass\n",
      "192 patches in SNC_surround_SNR\n",
      "1415 patches in SNR_surround_noclass\n",
      "2 patches in SNR_surround_SNC\n",
      "949 patches in Pr5VL_surround_noclass\n",
      "165 patches in Pr5VL_surround_Sp5O\n",
      "11 patches in Pr5VL_surround_VLL\n",
      "244 patches in Pr5VL_surround_Pr5DM\n",
      "1389 patches in Sp5O_surround_noclass\n",
      "2 patches in Sp5O_surround_8n\n",
      "229 patches in Sp5O_surround_Sp5I\n",
      "154 patches in Sp5O_surround_Pr5VL\n",
      "51 patches in Sp5O_surround_Pr5DM\n",
      "741 patches in VLL_surround_noclass\n",
      "12 patches in VLL_surround_Pr5VL\n",
      "25431 patches in bg\n"
     ]
    },
    {
     "name": "stderr",
     "output_type": "stream",
     "text": [
      "Analyzing section 306..\n"
     ]
    },
    {
     "name": "stdout",
     "output_type": "stream",
     "text": [
      "125 patches in DC\n",
      "553 patches in Pr5DM\n",
      "792 patches in SNR\n",
      "624 patches in SC\n",
      "110 patches in 8n\n",
      "352 patches in Sp5I\n",
      "1 patches in SNC\n",
      "1264 patches in Sp5O\n",
      "633 patches in DC_surround_noclass\n",
      "946 patches in Pr5DM_surround_noclass\n",
      "63 patches in Pr5DM_surround_8n\n",
      "1351 patches in SNR_surround_noclass\n",
      "1 patches in SNR_surround_SNC\n",
      "1181 patches in SC_surround_noclass\n",
      "488 patches in 8n_surround_noclass\n",
      "104 patches in 8n_surround_Pr5DM\n",
      "686 patches in Sp5I_surround_noclass\n",
      "198 patches in Sp5I_surround_Sp5O\n",
      "375 patches in SNC_surround_noclass\n",
      "186 patches in SNC_surround_SNR\n",
      "1413 patches in Sp5O_surround_noclass\n",
      "210 patches in Sp5O_surround_Sp5I\n",
      "25694 patches in bg\n",
      "319 patches in Sp5I\n",
      "552 patches in SC\n",
      "0 patches in SNC\n"
     ]
    },
    {
     "name": "stderr",
     "output_type": "stream",
     "text": [
      "Analyzing section 307..\n"
     ]
    },
    {
     "name": "stdout",
     "output_type": "stream",
     "text": [
      "1011 patches in Sp5O\n",
      "518 patches in Pr5DM\n",
      "116 patches in 8n\n",
      "5 patches in VCP\n",
      "741 patches in SNR\n",
      "137 patches in DC\n",
      "662 patches in Sp5I_surround_noclass\n",
      "178 patches in Sp5I_surround_Sp5O\n",
      "1131 patches in SC_surround_noclass\n",
      "373 patches in SNC_surround_noclass\n",
      "185 patches in SNC_surround_SNR\n",
      "1244 patches in Sp5O_surround_noclass\n",
      "199 patches in Sp5O_surround_Sp5I\n",
      "915 patches in Pr5DM_surround_noclass\n",
      "63 patches in Pr5DM_surround_8n\n",
      "505 patches in 8n_surround_noclass\n",
      "95 patches in 8n_surround_Pr5DM\n",
      "196 patches in VCP_surround_noclass\n",
      "113 patches in VCP_surround_DC\n",
      "1225 patches in SNR_surround_noclass\n",
      "636 patches in DC_surround_noclass\n",
      "5 patches in DC_surround_VCP\n",
      "26281 patches in bg\n",
      "477 patches in Pr5DM\n",
      "7 patches in PBG\n",
      "151 patches in DC\n"
     ]
    },
    {
     "name": "stderr",
     "output_type": "stream",
     "text": [
      "Analyzing section 308..\n"
     ]
    },
    {
     "name": "stdout",
     "output_type": "stream",
     "text": [
      "302 patches in Sp5I\n",
      "481 patches in SC\n",
      "774 patches in Sp5O\n",
      "3 patches in VCP\n",
      "1 patches in SNC\n",
      "115 patches in 8n\n",
      "689 patches in SNR\n",
      "894 patches in Pr5DM_surround_noclass\n",
      "58 patches in Pr5DM_surround_8n\n",
      "345 patches in PBG_surround_noclass\n",
      "25 patches in PBG_surround_SNR\n",
      "655 patches in DC_surround_noclass\n",
      "3 patches in DC_surround_VCP\n",
      "694 patches in Sp5I_surround_noclass\n",
      "157 patches in Sp5I_surround_Sp5O\n",
      "1079 patches in SC_surround_noclass\n",
      "1081 patches in Sp5O_surround_noclass\n",
      "187 patches in Sp5O_surround_Sp5I\n",
      "188 patches in VCP_surround_noclass\n",
      "111 patches in VCP_surround_DC\n",
      "402 patches in SNC_surround_noclass\n",
      "225 patches in SNC_surround_SNR\n",
      "512 patches in 8n_surround_noclass\n",
      "88 patches in 8n_surround_Pr5DM\n",
      "1272 patches in SNR_surround_noclass\n",
      "1 patches in SNR_surround_SNC\n",
      "6 patches in SNR_surround_PBG\n",
      "26025 patches in bg\n",
      "407 patches in SC\n",
      "545 patches in Sp5O\n",
      "627 patches in SNR\n"
     ]
    },
    {
     "name": "stderr",
     "output_type": "stream",
     "text": [
      "Analyzing section 309..\n"
     ]
    },
    {
     "name": "stdout",
     "output_type": "stream",
     "text": [
      "280 patches in Sp5I\n",
      "120 patches in 8n\n",
      "157 patches in DC\n",
      "21 patches in PBG\n",
      "5 patches in VCP\n",
      "436 patches in Pr5DM\n",
      "1000 patches in SC_surround_noclass\n",
      "887 patches in Sp5O_surround_noclass\n",
      "176 patches in Sp5O_surround_Sp5I\n",
      "1211 patches in SNR_surround_noclass\n",
      "14 patches in SNR_surround_PBG\n",
      "666 patches in Sp5I_surround_noclass\n",
      "147 patches in Sp5I_surround_Sp5O\n",
      "529 patches in 8n_surround_noclass\n",
      "78 patches in 8n_surround_Pr5DM\n",
      "677 patches in DC_surround_noclass\n",
      "5 patches in DC_surround_VCP\n",
      "391 patches in PBG_surround_noclass\n",
      "18 patches in PBG_surround_SNR\n",
      "208 patches in VCP_surround_noclass\n",
      "105 patches in VCP_surround_DC\n",
      "860 patches in Pr5DM_surround_noclass\n",
      "51 patches in Pr5DM_surround_8n\n",
      "26280 patches in bg\n",
      "393 patches in Pr5DM\n",
      "583 patches in SNR\n",
      "220 patches in VLL\n",
      "18 patches in PBG\n"
     ]
    },
    {
     "name": "stderr",
     "output_type": "stream",
     "text": [
      "Analyzing section 310..\n"
     ]
    },
    {
     "name": "stdout",
     "output_type": "stream",
     "text": [
      "374 patches in Sp5O\n",
      "168 patches in DC\n",
      "255 patches in Sp5I\n",
      "342 patches in SC\n",
      "121 patches in 8n\n",
      "6 patches in VCP\n",
      "843 patches in Pr5DM_surround_noclass\n",
      "45 patches in Pr5DM_surround_8n\n",
      "1178 patches in SNR_surround_noclass\n",
      "9 patches in SNR_surround_PBG\n",
      "850 patches in VLL_surround_noclass\n",
      "385 patches in PBG_surround_noclass\n",
      "13 patches in PBG_surround_SNR\n",
      "759 patches in Sp5O_surround_noclass\n",
      "162 patches in Sp5O_surround_Sp5I\n",
      "704 patches in DC_surround_noclass\n",
      "6 patches in DC_surround_VCP\n",
      "645 patches in Sp5I_surround_noclass\n",
      "133 patches in Sp5I_surround_Sp5O\n",
      "942 patches in SC_surround_noclass\n",
      "542 patches in 8n_surround_noclass\n",
      "68 patches in 8n_surround_Pr5DM\n",
      "222 patches in VCP_surround_noclass\n",
      "96 patches in VCP_surround_DC\n",
      "26326 patches in bg\n",
      "177 patches in DC\n"
     ]
    },
    {
     "name": "stderr",
     "output_type": "stream",
     "text": [
      "Analyzing section 311..\n"
     ]
    },
    {
     "name": "stdout",
     "output_type": "stream",
     "text": [
      "528 patches in SNR\n",
      "9 patches in VCP\n",
      "22 patches in PBG\n",
      "220 patches in Sp5O\n",
      "357 patches in Pr5DM\n",
      "280 patches in SC\n",
      "232 patches in Sp5I\n",
      "126 patches in 8n\n",
      "725 patches in DC_surround_noclass\n",
      "9 patches in DC_surround_VCP\n",
      "1124 patches in SNR_surround_noclass\n",
      "5 patches in SNR_surround_PBG\n",
      "240 patches in VCP_surround_noclass\n",
      "86 patches in VCP_surround_DC\n",
      "393 patches in PBG_surround_noclass\n",
      "8 patches in PBG_surround_SNR\n",
      "634 patches in Sp5O_surround_noclass\n",
      "176 patches in Sp5O_surround_Sp5I\n",
      "808 patches in Pr5DM_surround_noclass\n",
      "42 patches in Pr5DM_surround_8n\n",
      "880 patches in SC_surround_noclass\n",
      "609 patches in Sp5I_surround_noclass\n",
      "145 patches in Sp5I_surround_Sp5O\n",
      "560 patches in 8n_surround_noclass\n",
      "66 patches in 8n_surround_Pr5DM\n",
      "26714 patches in bg\n"
     ]
    },
    {
     "name": "stderr",
     "output_type": "stream",
     "text": [
      "Analyzing section 312..\n"
     ]
    },
    {
     "name": "stdout",
     "output_type": "stream",
     "text": [
      "488 patches in SNR\n",
      "233 patches in SC\n",
      "10 patches in VCP\n",
      "194 patches in DC\n",
      "26 patches in PBG\n",
      "154 patches in Sp5O\n",
      "225 patches in Sp5I\n",
      "129 patches in 8n\n",
      "320 patches in Pr5DM\n",
      "1082 patches in SNR_surround_noclass\n",
      "3 patches in SNR_surround_PBG\n",
      "829 patches in SC_surround_noclass\n",
      "255 patches in VCP_surround_noclass\n",
      "83 patches in VCP_surround_DC\n",
      "775 patches in DC_surround_noclass\n",
      "10 patches in DC_surround_VCP\n",
      "411 patches in PBG_surround_noclass\n",
      "6 patches in PBG_surround_SNR\n",
      "551 patches in Sp5O_surround_noclass\n",
      "170 patches in Sp5O_surround_Sp5I\n",
      "593 patches in Sp5I_surround_noclass\n",
      "131 patches in Sp5I_surround_Sp5O\n",
      "575 patches in 8n_surround_noclass\n",
      "57 patches in 8n_surround_Pr5DM\n",
      "782 patches in Pr5DM_surround_noclass\n",
      "40 patches in Pr5DM_surround_8n\n",
      "26790 patches in bg\n",
      "176 patches in SC\n",
      "13 patches in VCP\n",
      "104 patches in Sp5O\n"
     ]
    },
    {
     "name": "stderr",
     "output_type": "stream",
     "text": [
      "Analyzing section 313..\n"
     ]
    },
    {
     "name": "stdout",
     "output_type": "stream",
     "text": [
      "287 patches in Pr5DM\n",
      "133 patches in 8n\n",
      "228 patches in DC\n",
      "132 patches in Sp5I\n",
      "438 patches in SNR\n",
      "26 patches in PBG\n",
      "762 patches in SC_surround_noclass\n",
      "249 patches in VCP_surround_noclass\n",
      "97 patches in VCP_surround_DC\n",
      "490 patches in Sp5O_surround_noclass\n",
      "124 patches in Sp5O_surround_Sp5I\n",
      "756 patches in Pr5DM_surround_noclass\n",
      "34 patches in Pr5DM_surround_8n\n",
      "586 patches in 8n_surround_noclass\n",
      "47 patches in 8n_surround_Pr5DM\n",
      "745 patches in DC_surround_noclass\n",
      "13 patches in DC_surround_VCP\n",
      "548 patches in Sp5I_surround_noclass\n",
      "98 patches in Sp5I_surround_Sp5O\n",
      "1006 patches in SNR_surround_noclass\n",
      "1 patches in SNR_surround_PBG\n",
      "429 patches in PBG_surround_noclass\n",
      "27211 patches in bg\n",
      "256 patches in Pr5DM\n",
      "260 patches in DC\n",
      "134 patches in 8n\n"
     ]
    },
    {
     "name": "stderr",
     "output_type": "stream",
     "text": [
      "Analyzing section 314..\n"
     ]
    },
    {
     "name": "stdout",
     "output_type": "stream",
     "text": [
      "398 patches in SNR\n",
      "74 patches in Sp5O\n",
      "78 patches in Sp5I\n",
      "32 patches in PBG\n",
      "140 patches in SC\n",
      "14 patches in VCP\n",
      "732 patches in Pr5DM_surround_noclass\n",
      "29 patches in Pr5DM_surround_8n\n",
      "802 patches in DC_surround_noclass\n",
      "14 patches in DC_surround_VCP\n",
      "604 patches in 8n_surround_noclass\n",
      "44 patches in 8n_surround_Pr5DM\n",
      "996 patches in SNR_surround_noclass\n",
      "476 patches in Sp5O_surround_noclass\n",
      "78 patches in Sp5O_surround_Sp5I\n",
      "496 patches in Sp5I_surround_noclass\n",
      "74 patches in Sp5I_surround_Sp5O\n",
      "443 patches in PBG_surround_noclass\n",
      "688 patches in SC_surround_noclass\n",
      "242 patches in VCP_surround_noclass\n",
      "106 patches in VCP_surround_DC\n",
      "27231 patches in bg\n"
     ]
    },
    {
     "name": "stderr",
     "output_type": "stream",
     "text": [
      "Analyzing section 315..\n"
     ]
    },
    {
     "name": "stdout",
     "output_type": "stream",
     "text": [
      "104 patches in SC\n",
      "226 patches in Pr5DM\n",
      "23 patches in VCP\n",
      "43 patches in Sp5I\n",
      "357 patches in SNR\n",
      "142 patches in 8n\n",
      "294 patches in DC\n",
      "54 patches in Sp5O\n",
      "35 patches in PBG\n",
      "632 patches in SC_surround_noclass\n",
      "700 patches in Pr5DM_surround_noclass\n",
      "26 patches in Pr5DM_surround_8n\n",
      "264 patches in VCP_surround_noclass\n",
      "122 patches in VCP_surround_DC\n",
      "441 patches in Sp5I_surround_noclass\n",
      "54 patches in Sp5I_surround_Sp5O\n",
      "955 patches in SNR_surround_noclass\n",
      "611 patches in 8n_surround_noclass\n",
      "38 patches in 8n_surround_Pr5DM\n",
      "835 patches in DC_surround_noclass\n",
      "23 patches in DC_surround_VCP\n",
      "475 patches in Sp5O_surround_noclass\n",
      "43 patches in Sp5O_surround_Sp5I\n",
      "468 patches in PBG_surround_noclass\n",
      "27365 patches in bg\n",
      "191 patches in Pr5DM\n",
      "143 patches in 8n\n"
     ]
    },
    {
     "name": "stderr",
     "output_type": "stream",
     "text": [
      "Analyzing section 316..\n"
     ]
    },
    {
     "name": "stdout",
     "output_type": "stream",
     "text": [
      "329 patches in DC\n",
      "71 patches in SC\n",
      "320 patches in SNR\n",
      "26 patches in VCP\n",
      "41 patches in PBG\n",
      "680 patches in Pr5DM_surround_noclass\n",
      "21 patches in Pr5DM_surround_8n\n",
      "626 patches in 8n_surround_noclass\n",
      "29 patches in 8n_surround_Pr5DM\n",
      "860 patches in DC_surround_noclass\n",
      "26 patches in DC_surround_VCP\n",
      "576 patches in SC_surround_noclass\n",
      "924 patches in SNR_surround_noclass\n",
      "288 patches in VCP_surround_noclass\n",
      "124 patches in VCP_surround_DC\n",
      "475 patches in PBG_surround_noclass\n",
      "27481 patches in bg\n",
      "36 patches in VCP\n",
      "49 patches in SC\n",
      "146 patches in 8n\n",
      "40 patches in PBG\n"
     ]
    },
    {
     "name": "stderr",
     "output_type": "stream",
     "text": [
      "Analyzing section 317..\n"
     ]
    },
    {
     "name": "stdout",
     "output_type": "stream",
     "text": [
      "291 patches in SNR\n",
      "171 patches in Pr5DM\n",
      "359 patches in DC\n",
      "323 patches in VCP_surround_noclass\n",
      "123 patches in VCP_surround_DC\n",
      "511 patches in SC_surround_noclass\n",
      "633 patches in 8n_surround_noclass\n",
      "25 patches in 8n_surround_Pr5DM\n",
      "488 patches in PBG_surround_noclass\n",
      "902 patches in SNR_surround_noclass\n",
      "656 patches in Pr5DM_surround_noclass\n",
      "19 patches in Pr5DM_surround_8n\n",
      "907 patches in DC_surround_noclass\n",
      "36 patches in DC_surround_VCP\n",
      "27786 patches in bg\n",
      "251 patches in SNR\n",
      "33 patches in SC\n",
      "46 patches in PBG\n",
      "152 patches in 8n\n",
      "56 patches in VCP\n"
     ]
    },
    {
     "name": "stderr",
     "output_type": "stream",
     "text": [
      "Analyzing section 318..\n"
     ]
    },
    {
     "name": "stdout",
     "output_type": "stream",
     "text": [
      "145 patches in Pr5DM\n",
      "400 patches in DC\n",
      "837 patches in SNR_surround_noclass\n",
      "477 patches in SC_surround_noclass\n",
      "509 patches in PBG_surround_noclass\n",
      "652 patches in 8n_surround_noclass\n",
      "22 patches in 8n_surround_Pr5DM\n",
      "366 patches in VCP_surround_noclass\n",
      "125 patches in VCP_surround_DC\n",
      "618 patches in Pr5DM_surround_noclass\n",
      "16 patches in Pr5DM_surround_8n\n",
      "930 patches in DC_surround_noclass\n",
      "54 patches in DC_surround_VCP\n",
      "28062 patches in bg\n",
      "165 patches in 8n\n",
      "119 patches in Pr5DM\n",
      "442 patches in DC\n",
      "50 patches in PBG\n",
      "224 patches in SNR\n"
     ]
    },
    {
     "name": "stderr",
     "output_type": "stream",
     "text": [
      "Analyzing section 319..\n"
     ]
    },
    {
     "name": "stdout",
     "output_type": "stream",
     "text": [
      "72 patches in VCP\n",
      "670 patches in 8n_surround_noclass\n",
      "1 patches in 8n_surround_VCP\n",
      "14 patches in 8n_surround_Pr5DM\n",
      "597 patches in Pr5DM_surround_noclass\n",
      "14 patches in Pr5DM_surround_8n\n",
      "952 patches in DC_surround_noclass\n",
      "66 patches in DC_surround_VCP\n",
      "500 patches in PBG_surround_noclass\n",
      "779 patches in SNR_surround_noclass\n",
      "395 patches in VCP_surround_noclass\n",
      "2 patches in VCP_surround_8n\n",
      "128 patches in VCP_surround_DC\n",
      "28111 patches in bg\n",
      "177 patches in 8n\n",
      "198 patches in SNR\n"
     ]
    },
    {
     "name": "stderr",
     "output_type": "stream",
     "text": [
      "Analyzing section 320..\n"
     ]
    },
    {
     "name": "stdout",
     "output_type": "stream",
     "text": [
      "492 patches in DC\n",
      "108 patches in Pr5DM\n",
      "58 patches in PBG\n",
      "107 patches in VCP\n",
      "688 patches in 8n_surround_noclass\n",
      "3 patches in 8n_surround_DC\n",
      "17 patches in 8n_surround_VCP\n",
      "6 patches in 8n_surround_Pr5DM\n",
      "766 patches in SNR_surround_noclass\n",
      "1021 patches in DC_surround_noclass\n",
      "4 patches in DC_surround_8n\n",
      "82 patches in DC_surround_VCP\n",
      "587 patches in Pr5DM_surround_noclass\n",
      "6 patches in Pr5DM_surround_8n\n",
      "557 patches in PBG_surround_noclass\n",
      "433 patches in VCP_surround_noclass\n",
      "18 patches in VCP_surround_8n\n",
      "133 patches in VCP_surround_DC\n",
      "28180 patches in bg\n",
      "9 patches in VCA\n",
      "39 patches in PBG\n"
     ]
    },
    {
     "name": "stderr",
     "output_type": "stream",
     "text": [
      "Analyzing section 321..\n"
     ]
    },
    {
     "name": "stdout",
     "output_type": "stream",
     "text": [
      "95 patches in VCP\n",
      "445 patches in DC\n",
      "154 patches in SNR\n",
      "340 patches in VCA_surround_noclass\n",
      "476 patches in PBG_surround_noclass\n",
      "461 patches in VCP_surround_noclass\n",
      "95 patches in VCP_surround_DC\n",
      "1010 patches in DC_surround_noclass\n",
      "56 patches in DC_surround_VCP\n",
      "725 patches in SNR_surround_noclass\n",
      "28554 patches in bg\n",
      "134 patches in VCP\n",
      "464 patches in DC\n",
      "26 patches in VCA\n"
     ]
    },
    {
     "name": "stderr",
     "output_type": "stream",
     "text": [
      "Analyzing section 322..\n"
     ]
    },
    {
     "name": "stdout",
     "output_type": "stream",
     "text": [
      "23 patches in PBG\n",
      "113 patches in SNR\n",
      "530 patches in VCP_surround_noclass\n",
      "95 patches in VCP_surround_DC\n",
      "981 patches in DC_surround_noclass\n",
      "55 patches in DC_surround_VCP\n",
      "8 patches in DC_surround_VCA\n",
      "441 patches in VCA_surround_noclass\n",
      "12 patches in VCA_surround_DC\n",
      "422 patches in PBG_surround_noclass\n",
      "665 patches in SNR_surround_noclass\n",
      "28732 patches in bg\n",
      "485 patches in DC\n"
     ]
    },
    {
     "name": "stderr",
     "output_type": "stream",
     "text": [
      "Analyzing section 323..\n"
     ]
    },
    {
     "name": "stdout",
     "output_type": "stream",
     "text": [
      "88 patches in SNR\n",
      "176 patches in VCP\n",
      "57 patches in VCA\n",
      "16 patches in PBG\n",
      "982 patches in DC_surround_noclass\n",
      "58 patches in DC_surround_VCP\n",
      "32 patches in DC_surround_VCA\n",
      "611 patches in SNR_surround_noclass\n",
      "592 patches in VCP_surround_noclass\n",
      "98 patches in VCP_surround_DC\n",
      "535 patches in VCA_surround_noclass\n",
      "41 patches in VCA_surround_DC\n",
      "363 patches in PBG_surround_noclass\n",
      "29075 patches in bg\n"
     ]
    },
    {
     "name": "stderr",
     "output_type": "stream",
     "text": [
      "Analyzing section 324..\n"
     ]
    },
    {
     "name": "stdout",
     "output_type": "stream",
     "text": [
      "67 patches in SNR\n",
      "10 patches in PBG\n",
      "518 patches in DC\n",
      "225 patches in VCP\n",
      "109 patches in VCA\n",
      "584 patches in SNR_surround_noclass\n",
      "330 patches in PBG_surround_noclass\n",
      "995 patches in DC_surround_noclass\n",
      "75 patches in DC_surround_VCP\n",
      "70 patches in DC_surround_VCA\n",
      "640 patches in VCP_surround_noclass\n",
      "13 patches in VCP_surround_VCA\n",
      "113 patches in VCP_surround_DC\n",
      "624 patches in VCA_surround_noclass\n",
      "31 patches in VCA_surround_VCP\n",
      "81 patches in VCA_surround_DC\n",
      "29288 patches in bg\n"
     ]
    },
    {
     "name": "stderr",
     "output_type": "stream",
     "text": [
      "Analyzing section 325..\n"
     ]
    },
    {
     "name": "stdout",
     "output_type": "stream",
     "text": [
      "46 patches in SNR\n",
      "478 patches in DC\n",
      "300 patches in VCP\n",
      "158 patches in VCA\n",
      "550 patches in SNR_surround_noclass\n",
      "889 patches in DC_surround_noclass\n",
      "79 patches in DC_surround_VCP\n",
      "87 patches in DC_surround_VCA\n",
      "652 patches in VCP_surround_noclass\n",
      "30 patches in VCP_surround_VCA\n",
      "115 patches in VCP_surround_DC\n",
      "654 patches in VCA_surround_noclass\n",
      "49 patches in VCA_surround_VCP\n",
      "66 patches in VCA_surround_DC\n",
      "29753 patches in bg\n",
      "277 patches in VCP\n"
     ]
    },
    {
     "name": "stderr",
     "output_type": "stream",
     "text": [
      "Analyzing section 326..\n"
     ]
    },
    {
     "name": "stdout",
     "output_type": "stream",
     "text": [
      "459 patches in DC\n",
      "209 patches in VCA\n",
      "651 patches in VCP_surround_noclass\n",
      "41 patches in VCP_surround_VCA\n",
      "103 patches in VCP_surround_DC\n",
      "873 patches in DC_surround_noclass\n",
      "67 patches in DC_surround_VCP\n",
      "85 patches in DC_surround_VCA\n",
      "699 patches in VCA_surround_noclass\n",
      "55 patches in VCA_surround_VCP\n",
      "65 patches in VCA_surround_DC\n",
      "29922 patches in bg\n",
      "272 patches in VCA\n",
      "281 patches in VCP\n",
      "430 patches in DC\n"
     ]
    },
    {
     "name": "stderr",
     "output_type": "stream",
     "text": [
      "Analyzing section 327..\n"
     ]
    },
    {
     "name": "stdout",
     "output_type": "stream",
     "text": [
      "761 patches in VCA_surround_noclass\n",
      "69 patches in VCA_surround_VCP\n",
      "71 patches in VCA_surround_DC\n",
      "643 patches in VCP_surround_noclass\n",
      "57 patches in VCP_surround_VCA\n",
      "102 patches in VCP_surround_DC\n",
      "756 patches in DC_surround_noclass\n",
      "68 patches in DC_surround_VCP\n",
      "81 patches in DC_surround_VCA\n",
      "30344 patches in bg\n"
     ]
    },
    {
     "name": "stderr",
     "output_type": "stream",
     "text": [
      "Analyzing section 328..\n"
     ]
    },
    {
     "name": "stdout",
     "output_type": "stream",
     "text": [
      "326 patches in VCA\n",
      "410 patches in DC\n",
      "264 patches in VCP\n",
      "818 patches in VCA_surround_noclass\n",
      "80 patches in VCA_surround_VCP\n",
      "73 patches in VCA_surround_DC\n",
      "776 patches in DC_surround_noclass\n",
      "64 patches in DC_surround_VCP\n",
      "81 patches in DC_surround_VCA\n",
      "637 patches in VCP_surround_noclass\n",
      "72 patches in VCP_surround_VCA\n",
      "97 patches in VCP_surround_DC\n",
      "30149 patches in bg\n",
      "398 patches in VCA\n",
      "387 patches in DC\n"
     ]
    },
    {
     "name": "stderr",
     "output_type": "stream",
     "text": [
      "Analyzing section 329..\n"
     ]
    },
    {
     "name": "stdout",
     "output_type": "stream",
     "text": [
      "259 patches in VCP\n",
      "871 patches in VCA_surround_noclass\n",
      "95 patches in VCA_surround_VCP\n",
      "87 patches in VCA_surround_DC\n",
      "808 patches in DC_surround_noclass\n",
      "67 patches in DC_surround_VCP\n",
      "82 patches in DC_surround_VCA\n",
      "603 patches in VCP_surround_noclass\n",
      "91 patches in VCP_surround_VCA\n",
      "101 patches in VCP_surround_DC\n",
      "30267 patches in bg\n",
      "458 patches in VCA\n",
      "249 patches in VCP\n",
      "337 patches in DC\n"
     ]
    },
    {
     "name": "stderr",
     "output_type": "stream",
     "text": [
      "Analyzing section 330..\n"
     ]
    },
    {
     "name": "stdout",
     "output_type": "stream",
     "text": [
      "937 patches in VCA_surround_noclass\n",
      "117 patches in VCA_surround_VCP\n",
      "82 patches in VCA_surround_DC\n",
      "583 patches in VCP_surround_noclass\n",
      "111 patches in VCP_surround_VCA\n",
      "79 patches in VCP_surround_DC\n",
      "703 patches in DC_surround_noclass\n",
      "54 patches in DC_surround_VCP\n",
      "77 patches in DC_surround_VCA\n",
      "30939 patches in bg\n"
     ]
    },
    {
     "name": "stderr",
     "output_type": "stream",
     "text": [
      "Analyzing section 331..\n"
     ]
    },
    {
     "name": "stdout",
     "output_type": "stream",
     "text": [
      "287 patches in DC\n",
      "244 patches in VCP\n",
      "531 patches in VCA\n",
      "729 patches in DC_surround_noclass\n",
      "49 patches in DC_surround_VCP\n",
      "78 patches in DC_surround_VCA\n",
      "539 patches in VCP_surround_noclass\n",
      "143 patches in VCP_surround_VCA\n",
      "69 patches in VCP_surround_DC\n",
      "1036 patches in VCA_surround_noclass\n",
      "142 patches in VCA_surround_VCP\n",
      "93 patches in VCA_surround_DC\n",
      "30655 patches in bg\n",
      "593 patches in VCA\n",
      "238 patches in VCP\n"
     ]
    },
    {
     "name": "stderr",
     "output_type": "stream",
     "text": [
      "Analyzing section 332..\n"
     ]
    },
    {
     "name": "stdout",
     "output_type": "stream",
     "text": [
      "245 patches in DC\n",
      "1031 patches in VCA_surround_noclass\n",
      "129 patches in VCA_surround_VCP\n",
      "82 patches in VCA_surround_DC\n",
      "545 patches in VCP_surround_noclass\n",
      "139 patches in VCP_surround_VCA\n",
      "55 patches in VCP_surround_DC\n",
      "496 patches in DC_surround_noclass\n",
      "42 patches in DC_surround_VCP\n",
      "71 patches in DC_surround_VCA\n",
      "31503 patches in bg\n",
      "203 patches in DC\n",
      "641 patches in VCA\n",
      "224 patches in VCP\n"
     ]
    },
    {
     "name": "stderr",
     "output_type": "stream",
     "text": [
      "Analyzing section 333..\n"
     ]
    },
    {
     "name": "stdout",
     "output_type": "stream",
     "text": [
      "645 patches in DC_surround_noclass\n",
      "35 patches in DC_surround_VCP\n",
      "65 patches in DC_surround_VCA\n",
      "1055 patches in VCA_surround_noclass\n",
      "125 patches in VCA_surround_VCP\n",
      "79 patches in VCA_surround_DC\n",
      "523 patches in VCP_surround_noclass\n",
      "141 patches in VCP_surround_VCA\n",
      "50 patches in VCP_surround_DC\n",
      "29985 patches in bg\n"
     ]
    },
    {
     "name": "stderr",
     "output_type": "stream",
     "text": [
      "Analyzing section 334..\n"
     ]
    },
    {
     "name": "stdout",
     "output_type": "stream",
     "text": [
      "704 patches in VCA\n",
      "164 patches in DC\n",
      "225 patches in VCP\n",
      "1000 patches in VCA_surround_noclass\n",
      "130 patches in VCA_surround_VCP\n",
      "79 patches in VCA_surround_DC\n",
      "631 patches in DC_surround_noclass\n",
      "35 patches in DC_surround_VCP\n",
      "63 patches in DC_surround_VCA\n",
      "483 patches in VCP_surround_noclass\n",
      "147 patches in VCP_surround_VCA\n",
      "44 patches in VCP_surround_DC\n",
      "31771 patches in bg\n",
      "744 patches in VCA\n",
      "228 patches in VCP\n"
     ]
    },
    {
     "name": "stderr",
     "output_type": "stream",
     "text": [
      "Analyzing section 335..\n"
     ]
    },
    {
     "name": "stdout",
     "output_type": "stream",
     "text": [
      "184 patches in DC\n",
      "899 patches in VCA_surround_noclass\n",
      "150 patches in VCA_surround_VCP\n",
      "138 patches in VCA_surround_DC\n",
      "437 patches in VCP_surround_noclass\n",
      "153 patches in VCP_surround_VCA\n",
      "46 patches in VCP_surround_DC\n",
      "651 patches in DC_surround_noclass\n",
      "41 patches in DC_surround_VCP\n",
      "128 patches in DC_surround_VCA\n",
      "32099 patches in bg\n",
      "178 patches in VCP\n",
      "129 patches in DC\n",
      "707 patches in VCA\n"
     ]
    },
    {
     "name": "stderr",
     "output_type": "stream",
     "text": [
      "Analyzing section 336..\n"
     ]
    },
    {
     "name": "stdout",
     "output_type": "stream",
     "text": [
      "441 patches in VCP_surround_noclass\n",
      "133 patches in VCP_surround_VCA\n",
      "35 patches in VCP_surround_DC\n",
      "590 patches in DC_surround_noclass\n",
      "29 patches in DC_surround_VCP\n",
      "108 patches in DC_surround_VCA\n",
      "839 patches in VCA_surround_noclass\n",
      "114 patches in VCA_surround_VCP\n",
      "111 patches in VCA_surround_DC\n",
      "32091 patches in bg\n"
     ]
    },
    {
     "name": "stderr",
     "output_type": "stream",
     "text": [
      "Analyzing section 337..\n"
     ]
    },
    {
     "name": "stdout",
     "output_type": "stream",
     "text": [
      "153 patches in VCP\n",
      "99 patches in DC\n",
      "681 patches in VCA\n",
      "433 patches in VCP_surround_noclass\n",
      "123 patches in VCP_surround_VCA\n",
      "31 patches in VCP_surround_DC\n",
      "549 patches in DC_surround_noclass\n",
      "28 patches in DC_surround_VCP\n",
      "99 patches in DC_surround_VCA\n",
      "801 patches in VCA_surround_noclass\n",
      "105 patches in VCA_surround_VCP\n",
      "94 patches in VCA_surround_DC\n",
      "32149 patches in bg\n",
      "642 patches in VCA\n"
     ]
    },
    {
     "name": "stderr",
     "output_type": "stream",
     "text": [
      "Analyzing section 338..\n"
     ]
    },
    {
     "name": "stdout",
     "output_type": "stream",
     "text": [
      "65 patches in DC\n",
      "122 patches in VCP\n",
      "822 patches in VCA_surround_noclass\n",
      "89 patches in VCA_surround_VCP\n",
      "65 patches in VCA_surround_DC\n",
      "523 patches in DC_surround_noclass\n",
      "23 patches in DC_surround_VCP\n",
      "92 patches in DC_surround_VCA\n",
      "438 patches in VCP_surround_noclass\n",
      "104 patches in VCP_surround_VCA\n",
      "22 patches in VCP_surround_DC\n",
      "32018 patches in bg\n",
      "32 patches in DC\n",
      "99 patches in VCP\n",
      "616 patches in VCA\n",
      "462 patches in DC_surround_noclass\n",
      "10 patches in DC_surround_VCP\n",
      "77 patches in DC_surround_VCA\n"
     ]
    },
    {
     "name": "stderr",
     "output_type": "stream",
     "text": [
      "Analyzing section 339..\n"
     ]
    },
    {
     "name": "stdout",
     "output_type": "stream",
     "text": [
      "420 patches in VCP_surround_noclass\n",
      "91 patches in VCP_surround_VCA\n",
      "10 patches in VCP_surround_DC\n",
      "808 patches in VCA_surround_noclass\n",
      "81 patches in VCA_surround_VCP\n",
      "32 patches in VCA_surround_DC\n",
      "32051 patches in bg\n",
      "83 patches in VCP\n",
      "600 patches in VCA\n"
     ]
    },
    {
     "name": "stderr",
     "output_type": "stream",
     "text": [
      "Analyzing section 340..\n"
     ]
    },
    {
     "name": "stdout",
     "output_type": "stream",
     "text": [
      "349 patches in VCP_surround_noclass\n",
      "82 patches in VCP_surround_VCA\n",
      "793 patches in VCA_surround_noclass\n",
      "73 patches in VCA_surround_VCP\n",
      "32177 patches in bg\n",
      "61 patches in VCP\n",
      "519 patches in VCA\n"
     ]
    },
    {
     "name": "stderr",
     "output_type": "stream",
     "text": [
      "Analyzing section 341..\n"
     ]
    },
    {
     "name": "stdout",
     "output_type": "stream",
     "text": [
      "323 patches in VCP_surround_noclass\n",
      "74 patches in VCP_surround_VCA\n",
      "681 patches in VCA_surround_noclass\n",
      "60 patches in VCA_surround_VCP\n",
      "32127 patches in bg\n",
      "466 patches in VCA\n",
      "47 patches in VCP\n"
     ]
    },
    {
     "name": "stderr",
     "output_type": "stream",
     "text": [
      "Analyzing section 342..\n"
     ]
    },
    {
     "name": "stdout",
     "output_type": "stream",
     "text": [
      "606 patches in VCA_surround_noclass\n",
      "47 patches in VCA_surround_VCP\n",
      "249 patches in VCP_surround_noclass\n",
      "71 patches in VCP_surround_VCA\n",
      "32410 patches in bg\n",
      "403 patches in VCA\n",
      "34 patches in VCP\n"
     ]
    },
    {
     "name": "stderr",
     "output_type": "stream",
     "text": [
      "Analyzing section 343..\n"
     ]
    },
    {
     "name": "stdout",
     "output_type": "stream",
     "text": [
      "564 patches in VCA_surround_noclass\n",
      "34 patches in VCA_surround_VCP\n",
      "208 patches in VCP_surround_noclass\n",
      "70 patches in VCP_surround_VCA\n",
      "32341 patches in bg\n",
      "24 patches in VCP\n",
      "347 patches in VCA\n",
      "191 patches in VCP_surround_noclass\n",
      "77 patches in VCP_surround_VCA\n"
     ]
    },
    {
     "name": "stderr",
     "output_type": "stream",
     "text": [
      "Analyzing section 344..\n"
     ]
    },
    {
     "name": "stdout",
     "output_type": "stream",
     "text": [
      "531 patches in VCA_surround_noclass\n",
      "24 patches in VCA_surround_VCP\n",
      "32321 patches in bg\n",
      "291 patches in VCA\n",
      "506 patches in VCA_surround_noclass\n",
      "32380 patches in bg\n"
     ]
    },
    {
     "name": "stderr",
     "output_type": "stream",
     "text": [
      "Analyzing section 345..\n",
      "Analyzing section 346..\n"
     ]
    },
    {
     "name": "stdout",
     "output_type": "stream",
     "text": [
      "249 patches in VCA\n",
      "451 patches in VCA_surround_noclass\n",
      "32068 patches in bg\n",
      "216 patches in VCA\n",
      "370 patches in VCA_surround_noclass\n",
      "32286 patches in bg\n"
     ]
    },
    {
     "name": "stderr",
     "output_type": "stream",
     "text": [
      "Analyzing section 347..\n",
      "Analyzing section 348..\n"
     ]
    },
    {
     "name": "stdout",
     "output_type": "stream",
     "text": [
      "130 patches in VCA\n",
      "358 patches in VCA_surround_noclass\n",
      "32383 patches in bg\n",
      "86 patches in VCA\n",
      "340 patches in VCA_surround_noclass\n",
      "32404 patches in bg\n"
     ]
    },
    {
     "name": "stderr",
     "output_type": "stream",
     "text": [
      "Analyzing section 349..\n",
      "Analyzing section 350..\n"
     ]
    },
    {
     "name": "stdout",
     "output_type": "stream",
     "text": [
      "49 patches in VCA\n",
      "275 patches in VCA_surround_noclass\n",
      "32237 patches in bg\n"
     ]
    },
    {
     "name": "stderr",
     "output_type": "stream",
     "text": [
      "/oasis/projects/nsf/csd395/yuncong/brain_virtualenv/lib/python2.7/site-packages/pandas/core/generic.py:1101: PerformanceWarning: \n",
      "your performance may suffer as PyTables will pickle object types that it cannot\n",
      "map directly to c-types [inferred_type->mixed,key->block0_values] [items->[83, 84, 85, 86, 87, 88, 89, 90, 91, 92, 93, 94, 95, 96, 97, 98, 99, 100, 101, 102, 103, 104, 105, 106, 107, 108, 109, 110, 111, 112, 113, 114, 115, 116, 117, 119, 120, 121, 122, 123, 124, 125, 126, 127, 128, 129, 130, 131, 132, 133, 134, 135, 136, 137, 138, 139, 140, 141, 142, 143, 144, 145, 146, 147, 148, 149, 150, 151, 152, 153, 154, 155, 156, 157, 158, 159, 160, 161, 162, 163, 164, 165, 166, 167, 168, 169, 170, 171, 172, 173, 174, 175, 176, 177, 178, 179, 180, 181, 182, 183, 184, 185, 186, 187, 188, 189, 190, 191, 192, 193, 194, 195, 196, 197, 198, 199, 200, 201, 202, 203, 204, 205, 206, 207, 208, 209, 210, 211, 212, 213, 214, 215, 216, 217, 218, 219, 220, 221, 222, 223, 224, 225, 226, 227, 228, 229, 230, 231, 232, 233, 234, 235, 236, 237, 238, 239, 240, 241, 242, 243, 244, 245, 246, 247, 248, 249, 250, 251, 252, 253, 254, 255, 256, 257, 258, 259, 260, 261, 262, 263, 264, 265, 266, 267, 269, 270, 271, 272, 273, 274, 275, 276, 277, 278, 279, 280, 281, 282, 283, 284, 285, 286, 287, 288, 289, 290, 291, 292, 293, 294, 295, 296, 297, 298, 300, 301, 302, 303, 304, 305, 306, 307, 308, 309, 310, 311, 312, 313, 314, 315, 316, 317, 318, 319, 320, 321, 322, 323, 324, 325, 326, 327, 328, 329, 330, 331, 332, 333, 334, 335, 336, 337, 338, 339, 340, 341, 342, 343, 344, 345, 346, 347, 348, 349, 350]]\n",
      "\n",
      "  return pytables.to_hdf(path_or_buf, key, self, **kwargs)\n",
      "Analyzing section 94..\n",
      "Analyzing section 95..\n",
      "Analyzing section 96..\n"
     ]
    },
    {
     "name": "stdout",
     "output_type": "stream",
     "text": [
      "28 patches in VCA\n",
      "178 patches in VCA_surround_noclass\n",
      "27423 patches in bg\n",
      "55 patches in VCA\n",
      "270 patches in VCA_surround_noclass\n",
      "27330 patches in bg\n",
      "93 patches in VCA\n",
      "437 patches in VCA_surround_noclass\n",
      "26867 patches in bg\n",
      "148 patches in VCA\n",
      "494 patches in VCA_surround_noclass\n",
      "27019 patches in bg\n",
      "207 patches in VCA\n"
     ]
    },
    {
     "name": "stderr",
     "output_type": "stream",
     "text": [
      "Analyzing section 97..\n",
      "Analyzing section 98..\n"
     ]
    },
    {
     "name": "stdout",
     "output_type": "stream",
     "text": [
      "550 patches in VCA_surround_noclass\n",
      "26845 patches in bg\n",
      "287 patches in VCA\n",
      "641 patches in VCA_surround_noclass\n",
      "26844 patches in bg\n",
      "374 patches in VCA\n"
     ]
    },
    {
     "name": "stderr",
     "output_type": "stream",
     "text": [
      "Analyzing section 99..\n",
      "Analyzing section 100..\n"
     ]
    },
    {
     "name": "stdout",
     "output_type": "stream",
     "text": [
      "768 patches in VCA_surround_noclass\n",
      "26580 patches in bg\n",
      "477 patches in VCA\n",
      "847 patches in VCA_surround_noclass\n",
      "26420 patches in bg\n"
     ]
    },
    {
     "name": "stderr",
     "output_type": "stream",
     "text": [
      "Analyzing section 101..\n",
      "Analyzing section 102..\n"
     ]
    },
    {
     "name": "stdout",
     "output_type": "stream",
     "text": [
      "595 patches in VCA\n",
      "878 patches in VCA_surround_noclass\n",
      "26134 patches in bg\n",
      "106 patches in VCP\n",
      "645 patches in VCA\n",
      "340 patches in VCP_surround_noclass\n",
      "115 patches in VCP_surround_VCA\n"
     ]
    },
    {
     "name": "stderr",
     "output_type": "stream",
     "text": [
      "Analyzing section 103..\n",
      "Analyzing section 104..\n"
     ]
    },
    {
     "name": "stdout",
     "output_type": "stream",
     "text": [
      "895 patches in VCA_surround_noclass\n",
      "67 patches in VCA_surround_VCP\n",
      "25807 patches in bg\n",
      "130 patches in VCP\n",
      "681 patches in VCA\n",
      "173 patches in DC\n",
      "320 patches in VCP_surround_noclass\n",
      "114 patches in VCP_surround_VCA\n",
      "64 patches in VCP_surround_DC\n",
      "792 patches in VCA_surround_noclass\n",
      "69 patches in VCA_surround_VCP\n",
      "115 patches in VCA_surround_DC\n",
      "688 patches in DC_surround_noclass\n",
      "71 patches in DC_surround_VCP\n",
      "127 patches in DC_surround_VCA\n",
      "25485 patches in bg\n",
      "726 patches in VCA\n",
      "162 patches in VCP\n"
     ]
    },
    {
     "name": "stderr",
     "output_type": "stream",
     "text": [
      "Analyzing section 105..\n"
     ]
    },
    {
     "name": "stdout",
     "output_type": "stream",
     "text": [
      "242 patches in DC\n",
      "828 patches in VCA_surround_noclass\n",
      "84 patches in VCA_surround_VCP\n",
      "102 patches in VCA_surround_DC\n",
      "379 patches in VCP_surround_noclass\n",
      "121 patches in VCP_surround_VCA\n",
      "67 patches in VCP_surround_DC\n",
      "688 patches in DC_surround_noclass\n",
      "73 patches in DC_surround_VCP\n",
      "117 patches in DC_surround_VCA\n",
      "25461 patches in bg\n",
      "210 patches in VCP\n",
      "327 patches in DC\n",
      "720 patches in VCA\n"
     ]
    },
    {
     "name": "stderr",
     "output_type": "stream",
     "text": [
      "Analyzing section 106..\n"
     ]
    },
    {
     "name": "stdout",
     "output_type": "stream",
     "text": [
      "441 patches in VCP_surround_noclass\n",
      "121 patches in VCP_surround_VCA\n",
      "79 patches in VCP_surround_DC\n",
      "858 patches in DC_surround_noclass\n",
      "82 patches in DC_surround_VCP\n",
      "120 patches in DC_surround_VCA\n",
      "755 patches in VCA_surround_noclass\n",
      "97 patches in VCA_surround_VCP\n",
      "94 patches in VCA_surround_DC\n",
      "25272 patches in bg\n"
     ]
    },
    {
     "name": "stderr",
     "output_type": "stream",
     "text": [
      "Analyzing section 107..\n"
     ]
    },
    {
     "name": "stdout",
     "output_type": "stream",
     "text": [
      "708 patches in VCA\n",
      "254 patches in VCP\n",
      "370 patches in DC\n",
      "755 patches in VCA_surround_noclass\n",
      "105 patches in VCA_surround_VCP\n",
      "93 patches in VCA_surround_DC\n",
      "502 patches in VCP_surround_noclass\n",
      "115 patches in VCP_surround_VCA\n",
      "81 patches in VCP_surround_DC\n",
      "815 patches in DC_surround_noclass\n",
      "81 patches in DC_surround_VCP\n",
      "103 patches in DC_surround_VCA\n",
      "25397 patches in bg\n",
      "689 patches in VCA\n",
      "309 patches in VCP\n"
     ]
    },
    {
     "name": "stderr",
     "output_type": "stream",
     "text": [
      "Analyzing section 108..\n"
     ]
    },
    {
     "name": "stdout",
     "output_type": "stream",
     "text": [
      "425 patches in DC\n",
      "784 patches in VCA_surround_noclass\n",
      "106 patches in VCA_surround_VCP\n",
      "85 patches in VCA_surround_DC\n",
      "605 patches in VCP_surround_noclass\n",
      "95 patches in VCP_surround_VCA\n",
      "94 patches in VCP_surround_DC\n",
      "828 patches in DC_surround_noclass\n",
      "82 patches in DC_surround_VCP\n",
      "96 patches in DC_surround_VCA\n",
      "25059 patches in bg\n",
      "357 patches in VCP\n",
      "471 patches in DC\n",
      "662 patches in VCA\n"
     ]
    },
    {
     "name": "stderr",
     "output_type": "stream",
     "text": [
      "Analyzing section 109..\n"
     ]
    },
    {
     "name": "stdout",
     "output_type": "stream",
     "text": [
      "684 patches in VCP_surround_noclass\n",
      "76 patches in VCP_surround_VCA\n",
      "107 patches in VCP_surround_DC\n",
      "841 patches in DC_surround_noclass\n",
      "84 patches in DC_surround_VCP\n",
      "83 patches in DC_surround_VCA\n",
      "775 patches in VCA_surround_noclass\n",
      "110 patches in VCA_surround_VCP\n",
      "77 patches in VCA_surround_DC\n",
      "24993 patches in bg\n"
     ]
    },
    {
     "name": "stderr",
     "output_type": "stream",
     "text": [
      "Analyzing section 110..\n"
     ]
    },
    {
     "name": "stdout",
     "output_type": "stream",
     "text": [
      "426 patches in VCP\n",
      "639 patches in VCA\n",
      "513 patches in DC\n",
      "765 patches in VCP_surround_noclass\n",
      "71 patches in VCP_surround_VCA\n",
      "119 patches in VCP_surround_DC\n",
      "842 patches in VCA_surround_noclass\n",
      "115 patches in VCA_surround_VCP\n",
      "74 patches in VCA_surround_DC\n",
      "903 patches in DC_surround_noclass\n",
      "96 patches in DC_surround_VCP\n",
      "80 patches in DC_surround_VCA\n",
      "24740 patches in bg\n",
      "438 patches in VCP\n",
      "529 patches in VCA\n",
      "512 patches in DC\n"
     ]
    },
    {
     "name": "stderr",
     "output_type": "stream",
     "text": [
      "Analyzing section 111..\n"
     ]
    },
    {
     "name": "stdout",
     "output_type": "stream",
     "text": [
      "793 patches in VCP_surround_noclass\n",
      "61 patches in VCP_surround_VCA\n",
      "98 patches in VCP_surround_DC\n",
      "895 patches in VCA_surround_noclass\n",
      "87 patches in VCA_surround_VCP\n",
      "62 patches in VCA_surround_DC\n",
      "900 patches in DC_surround_noclass\n",
      "75 patches in DC_surround_VCP\n",
      "70 patches in DC_surround_VCA\n",
      "24607 patches in bg\n"
     ]
    },
    {
     "name": "stderr",
     "output_type": "stream",
     "text": [
      "Analyzing section 112..\n"
     ]
    },
    {
     "name": "stdout",
     "output_type": "stream",
     "text": [
      "460 patches in VCA\n",
      "460 patches in VCP\n",
      "513 patches in DC\n",
      "851 patches in VCA_surround_noclass\n",
      "76 patches in VCA_surround_VCP\n",
      "62 patches in VCA_surround_DC\n",
      "832 patches in VCP_surround_noclass\n",
      "59 patches in VCP_surround_VCA\n",
      "86 patches in VCP_surround_DC\n",
      "894 patches in DC_surround_noclass\n",
      "68 patches in DC_surround_VCP\n",
      "67 patches in DC_surround_VCA\n",
      "24340 patches in bg\n",
      "482 patches in VCP\n"
     ]
    },
    {
     "name": "stderr",
     "output_type": "stream",
     "text": [
      "Analyzing section 113..\n"
     ]
    },
    {
     "name": "stdout",
     "output_type": "stream",
     "text": [
      "517 patches in DC\n",
      "368 patches in VCA\n",
      "878 patches in VCP_surround_noclass\n",
      "55 patches in VCP_surround_VCA\n",
      "78 patches in VCP_surround_DC\n",
      "898 patches in DC_surround_noclass\n",
      "69 patches in DC_surround_VCP\n",
      "64 patches in DC_surround_VCA\n",
      "784 patches in VCA_surround_noclass\n",
      "72 patches in VCA_surround_VCP\n",
      "62 patches in VCA_surround_DC\n",
      "24108 patches in bg\n",
      "520 patches in DC\n",
      "303 patches in VCA\n"
     ]
    },
    {
     "name": "stderr",
     "output_type": "stream",
     "text": [
      "Analyzing section 114..\n"
     ]
    },
    {
     "name": "stdout",
     "output_type": "stream",
     "text": [
      "515 patches in VCP\n",
      "912 patches in DC_surround_noclass\n",
      "79 patches in DC_surround_VCP\n",
      "61 patches in DC_surround_VCA\n",
      "728 patches in VCA_surround_noclass\n",
      "66 patches in VCA_surround_VCP\n",
      "58 patches in VCA_surround_DC\n",
      "977 patches in VCP_surround_noclass\n",
      "50 patches in VCP_surround_VCA\n",
      "74 patches in VCP_surround_DC\n",
      "23842 patches in bg\n",
      "231 patches in VCA\n",
      "583 patches in VCP\n",
      "527 patches in DC\n",
      "107 patches in Sp5I\n"
     ]
    },
    {
     "name": "stderr",
     "output_type": "stream",
     "text": [
      "Analyzing section 115..\n"
     ]
    },
    {
     "name": "stdout",
     "output_type": "stream",
     "text": [
      "673 patches in VCA_surround_noclass\n",
      "73 patches in VCA_surround_VCP\n",
      "65 patches in VCA_surround_DC\n",
      "996 patches in VCP_surround_noclass\n",
      "47 patches in VCP_surround_VCA\n",
      "176 patches in VCP_surround_DC\n",
      "867 patches in DC_surround_noclass\n",
      "159 patches in DC_surround_VCP\n",
      "66 patches in DC_surround_VCA\n",
      "565 patches in Sp5I_surround_noclass\n",
      "23774 patches in bg\n"
     ]
    },
    {
     "name": "stderr",
     "output_type": "stream",
     "text": [
      "Analyzing section 116..\n"
     ]
    },
    {
     "name": "stdout",
     "output_type": "stream",
     "text": [
      "119 patches in Sp5I\n",
      "487 patches in VCP\n",
      "207 patches in VCA\n",
      "465 patches in DC\n",
      "596 patches in Sp5I_surround_noclass\n",
      "925 patches in VCP_surround_noclass\n",
      "38 patches in VCP_surround_VCA\n",
      "137 patches in VCP_surround_DC\n",
      "676 patches in VCA_surround_noclass\n",
      "60 patches in VCA_surround_VCP\n",
      "31 patches in VCA_surround_DC\n",
      "877 patches in DC_surround_noclass\n",
      "107 patches in DC_surround_VCP\n",
      "34 patches in DC_surround_VCA\n",
      "23653 patches in bg\n"
     ]
    },
    {
     "name": "stderr",
     "output_type": "stream",
     "text": [
      "Analyzing section 117..\n"
     ]
    },
    {
     "name": "stdout",
     "output_type": "stream",
     "text": [
      "386 patches in DC\n",
      "178 patches in VCA\n",
      "142 patches in Sp5I\n",
      "386 patches in VCP\n",
      "904 patches in DC_surround_noclass\n",
      "71 patches in DC_surround_VCP\n",
      "6 patches in DC_surround_VCA\n",
      "685 patches in VCA_surround_noclass\n",
      "55 patches in VCA_surround_VCP\n",
      "4 patches in VCA_surround_DC\n",
      "626 patches in Sp5I_surround_noclass\n",
      "863 patches in VCP_surround_noclass\n",
      "25 patches in VCP_surround_VCA\n",
      "91 patches in VCP_surround_DC\n",
      "23276 patches in bg\n",
      "245 patches in VCP\n"
     ]
    },
    {
     "name": "stderr",
     "output_type": "stream",
     "text": [
      "Analyzing section 118..\n",
      "Analyzing section 119..\n"
     ]
    },
    {
     "name": "stdout",
     "output_type": "stream",
     "text": [
      "283 patches in DC\n",
      "131 patches in VCA\n",
      "180 patches in Sp5I\n",
      "771 patches in VCP_surround_noclass\n",
      "18 patches in VCP_surround_VCA\n",
      "68 patches in VCP_surround_DC\n",
      "847 patches in DC_surround_noclass\n",
      "53 patches in DC_surround_VCP\n",
      "668 patches in VCA_surround_noclass\n",
      "55 patches in VCA_surround_VCP\n",
      "684 patches in Sp5I_surround_noclass\n",
      "23015 patches in bg\n",
      "181 patches in VCP\n",
      "109 patches in VCA\n",
      "0 patches in PBG\n"
     ]
    },
    {
     "name": "stderr",
     "output_type": "stream",
     "text": [
      "Analyzing section 120..\n"
     ]
    },
    {
     "name": "stdout",
     "output_type": "stream",
     "text": [
      "205 patches in Sp5I\n",
      "225 patches in DC\n",
      "762 patches in VCP_surround_noclass\n",
      "21 patches in VCP_surround_VCA\n",
      "78 patches in VCP_surround_DC\n",
      "701 patches in VCA_surround_noclass\n",
      "48 patches in VCA_surround_VCP\n",
      "255 patches in PBG_surround_noclass\n",
      "708 patches in Sp5I_surround_noclass\n",
      "844 patches in DC_surround_noclass\n",
      "60 patches in DC_surround_VCP\n",
      "22699 patches in bg\n",
      "0 patches in PBG\n",
      "227 patches in Sp5I\n",
      "201 patches in DC\n",
      "112 patches in VCP\n"
     ]
    },
    {
     "name": "stderr",
     "output_type": "stream",
     "text": [
      "Analyzing section 121..\n"
     ]
    },
    {
     "name": "stdout",
     "output_type": "stream",
     "text": [
      "54 patches in VCA\n",
      "269 patches in PBG_surround_noclass\n",
      "735 patches in Sp5I_surround_noclass\n",
      "796 patches in DC_surround_noclass\n",
      "43 patches in DC_surround_VCP\n",
      "591 patches in VCP_surround_noclass\n",
      "72 patches in VCP_surround_DC\n",
      "535 patches in VCA_surround_noclass\n",
      "22731 patches in bg\n",
      "256 patches in Sp5I\n",
      "54 patches in VCP\n",
      "40 patches in Pr5\n",
      "22 patches in VCA\n",
      "189 patches in DC\n",
      "1 patches in PBG\n"
     ]
    },
    {
     "name": "stderr",
     "output_type": "stream",
     "text": [
      "Analyzing section 122..\n"
     ]
    },
    {
     "name": "stdout",
     "output_type": "stream",
     "text": [
      "775 patches in Sp5I_surround_noclass\n",
      "396 patches in VCP_surround_noclass\n",
      "87 patches in VCP_surround_DC\n",
      "462 patches in Pr5_surround_noclass\n",
      "22 patches in Pr5_surround_VCA\n",
      "387 patches in VCA_surround_noclass\n",
      "23 patches in VCA_surround_Pr5\n",
      "766 patches in DC_surround_noclass\n",
      "44 patches in DC_surround_VCP\n",
      "299 patches in PBG_surround_noclass\n",
      "22687 patches in bg\n",
      "4 patches in PBG\n",
      "281 patches in Sp5I\n",
      "16 patches in VCP\n",
      "177 patches in DC\n",
      "342 patches in PBG_surround_noclass\n"
     ]
    },
    {
     "name": "stderr",
     "output_type": "stream",
     "text": [
      "Analyzing section 123..\n"
     ]
    },
    {
     "name": "stdout",
     "output_type": "stream",
     "text": [
      "788 patches in Sp5I_surround_noclass\n",
      "268 patches in VCP_surround_noclass\n",
      "105 patches in VCP_surround_DC\n",
      "764 patches in DC_surround_noclass\n",
      "16 patches in DC_surround_VCP\n",
      "22490 patches in bg\n",
      "313 patches in Sp5I\n",
      "163 patches in DC\n"
     ]
    },
    {
     "name": "stderr",
     "output_type": "stream",
     "text": [
      "Analyzing section 124..\n"
     ]
    },
    {
     "name": "stdout",
     "output_type": "stream",
     "text": [
      "10 patches in PBG\n",
      "810 patches in Sp5I_surround_noclass\n",
      "751 patches in DC_surround_noclass\n",
      "410 patches in PBG_surround_noclass\n",
      "22558 patches in bg\n"
     ]
    },
    {
     "name": "stderr",
     "output_type": "stream",
     "text": [
      "Analyzing section 125..\n"
     ]
    },
    {
     "name": "stdout",
     "output_type": "stream",
     "text": [
      "162 patches in DC\n",
      "151 patches in Sp5O\n",
      "11 patches in PBG\n",
      "338 patches in Sp5I\n",
      "155 patches in Pr5\n",
      "755 patches in DC_surround_noclass\n",
      "514 patches in Sp5O_surround_noclass\n",
      "157 patches in Sp5O_surround_Sp5I\n",
      "398 patches in PBG_surround_noclass\n",
      "711 patches in Sp5I_surround_noclass\n",
      "128 patches in Sp5I_surround_Sp5O\n",
      "671 patches in Pr5_surround_noclass\n",
      "22523 patches in bg\n"
     ]
    },
    {
     "name": "stderr",
     "output_type": "stream",
     "text": [
      "Analyzing section 126..\n"
     ]
    },
    {
     "name": "stdout",
     "output_type": "stream",
     "text": [
      "173 patches in Sp5O\n",
      "366 patches in Sp5I\n",
      "137 patches in DC\n",
      "16 patches in PBG\n",
      "538 patches in Sp5O_surround_noclass\n",
      "164 patches in Sp5O_surround_Sp5I\n",
      "738 patches in Sp5I_surround_noclass\n",
      "138 patches in Sp5I_surround_Sp5O\n",
      "691 patches in DC_surround_noclass\n",
      "400 patches in PBG_surround_noclass\n",
      "22256 patches in bg\n",
      "21 patches in PBG\n",
      "223 patches in Sp5O\n"
     ]
    },
    {
     "name": "stderr",
     "output_type": "stream",
     "text": [
      "Analyzing section 127..\n"
     ]
    },
    {
     "name": "stdout",
     "output_type": "stream",
     "text": [
      "406 patches in Sp5I\n",
      "124 patches in DC\n",
      "403 patches in PBG_surround_noclass\n",
      "583 patches in Sp5O_surround_noclass\n",
      "180 patches in Sp5O_surround_Sp5I\n",
      "725 patches in Sp5I_surround_noclass\n",
      "165 patches in Sp5I_surround_Sp5O\n",
      "673 patches in DC_surround_noclass\n",
      "22343 patches in bg\n",
      "108 patches in DC\n",
      "25 patches in PBG\n",
      "430 patches in Sp5I\n",
      "260 patches in Sp5O\n"
     ]
    },
    {
     "name": "stderr",
     "output_type": "stream",
     "text": [
      "Analyzing section 128..\n"
     ]
    },
    {
     "name": "stdout",
     "output_type": "stream",
     "text": [
      "640 patches in DC_surround_noclass\n",
      "422 patches in PBG_surround_noclass\n",
      "755 patches in Sp5I_surround_noclass\n",
      "179 patches in Sp5I_surround_Sp5O\n",
      "632 patches in Sp5O_surround_noclass\n",
      "192 patches in Sp5O_surround_Sp5I\n",
      "22262 patches in bg\n"
     ]
    },
    {
     "name": "stderr",
     "output_type": "stream",
     "text": [
      "Analyzing section 129..\n"
     ]
    },
    {
     "name": "stdout",
     "output_type": "stream",
     "text": [
      "314 patches in Sp5O\n",
      "91 patches in DC\n",
      "28 patches in PBG\n",
      "467 patches in Sp5I\n",
      "688 patches in Sp5O_surround_noclass\n",
      "215 patches in Sp5O_surround_Sp5I\n",
      "615 patches in DC_surround_noclass\n",
      "420 patches in PBG_surround_noclass\n",
      "757 patches in Sp5I_surround_noclass\n",
      "196 patches in Sp5I_surround_Sp5O\n",
      "22142 patches in bg\n",
      "370 patches in Sp5O\n"
     ]
    },
    {
     "name": "stderr",
     "output_type": "stream",
     "text": [
      "Analyzing section 130..\n"
     ]
    },
    {
     "name": "stdout",
     "output_type": "stream",
     "text": [
      "220 patches in SNR\n",
      "40 patches in PBG\n",
      "474 patches in Pr5\n",
      "83 patches in DC\n",
      "149 patches in Sp5C\n",
      "505 patches in Sp5I\n",
      "730 patches in Sp5O_surround_noclass\n",
      "234 patches in Sp5O_surround_Sp5I\n",
      "844 patches in SNR_surround_noclass\n",
      "454 patches in PBG_surround_noclass\n",
      "1023 patches in Pr5_surround_noclass\n",
      "627 patches in DC_surround_noclass\n",
      "423 patches in Sp5C_surround_noclass\n",
      "212 patches in Sp5C_surround_Sp5I\n",
      "644 patches in Sp5I_surround_noclass\n",
      "219 patches in Sp5I_surround_Sp5O\n",
      "140 patches in Sp5I_surround_Sp5C\n",
      "21633 patches in bg\n",
      "535 patches in Sp5I\n"
     ]
    },
    {
     "name": "stderr",
     "output_type": "stream",
     "text": [
      "Analyzing section 131..\n"
     ]
    },
    {
     "name": "stdout",
     "output_type": "stream",
     "text": [
      "242 patches in SNR\n",
      "29 patches in PBG\n",
      "314 patches in VLL\n",
      "80 patches in DC\n",
      "172 patches in Sp5C\n",
      "487 patches in Sp5O\n",
      "687 patches in Sp5I_surround_noclass\n",
      "181 patches in Sp5I_surround_Sp5O\n",
      "150 patches in Sp5I_surround_Sp5C\n",
      "869 patches in SNR_surround_noclass\n",
      "418 patches in PBG_surround_noclass\n",
      "19 patches in PBG_surround_VLL\n",
      "890 patches in VLL_surround_noclass\n",
      "15 patches in VLL_surround_PBG\n",
      "584 patches in DC_surround_noclass\n",
      "487 patches in Sp5C_surround_noclass\n",
      "204 patches in Sp5C_surround_Sp5I\n",
      "806 patches in Sp5O_surround_noclass\n",
      "217 patches in Sp5O_surround_Sp5I\n",
      "21729 patches in bg\n",
      "284 patches in SNR\n"
     ]
    },
    {
     "name": "stderr",
     "output_type": "stream",
     "text": [
      "Analyzing section 132..\n"
     ]
    },
    {
     "name": "stdout",
     "output_type": "stream",
     "text": [
      "563 patches in Sp5I\n",
      "354 patches in VLL\n",
      "601 patches in Sp5O\n",
      "23 patches in PBG\n",
      "208 patches in Sp5C\n",
      "78 patches in DC\n",
      "917 patches in SNR_surround_noclass\n",
      "1 patches in SNR_surround_PBG\n",
      "718 patches in Sp5I_surround_noclass\n",
      "176 patches in Sp5I_surround_Sp5O\n",
      "161 patches in Sp5I_surround_Sp5C\n",
      "909 patches in VLL_surround_noclass\n",
      "15 patches in VLL_surround_PBG\n",
      "876 patches in Sp5O_surround_noclass\n",
      "221 patches in Sp5O_surround_Sp5I\n",
      "383 patches in PBG_surround_noclass\n",
      "17 patches in PBG_surround_VLL\n",
      "2 patches in PBG_surround_SNR\n",
      "502 patches in Sp5C_surround_noclass\n",
      "206 patches in Sp5C_surround_Sp5I\n",
      "570 patches in DC_surround_noclass\n",
      "21490 patches in bg\n"
     ]
    },
    {
     "name": "stderr",
     "output_type": "stream",
     "text": [
      "Analyzing section 133..\n"
     ]
    },
    {
     "name": "stdout",
     "output_type": "stream",
     "text": [
      "712 patches in Sp5O\n",
      "72 patches in DC\n",
      "585 patches in Sp5I\n",
      "402 patches in VLL\n",
      "19 patches in PBG\n",
      "241 patches in Sp5C\n",
      "320 patches in SNR\n",
      "965 patches in Sp5O_surround_noclass\n",
      "225 patches in Sp5O_surround_Sp5I\n",
      "571 patches in DC_surround_noclass\n",
      "770 patches in Sp5I_surround_noclass\n",
      "177 patches in Sp5I_surround_Sp5O\n",
      "166 patches in Sp5I_surround_Sp5C\n",
      "973 patches in VLL_surround_noclass\n",
      "12 patches in VLL_surround_PBG\n",
      "377 patches in PBG_surround_noclass\n",
      "19 patches in PBG_surround_VLL\n",
      "8 patches in PBG_surround_SNR\n",
      "555 patches in Sp5C_surround_noclass\n",
      "209 patches in Sp5C_surround_Sp5I\n",
      "984 patches in SNR_surround_noclass\n",
      "7 patches in SNR_surround_PBG\n",
      "21117 patches in bg\n",
      "469 patches in VLL\n",
      "288 patches in Sp5C\n",
      "15 patches in PBG\n",
      "851 patches in Sp5O\n"
     ]
    },
    {
     "name": "stderr",
     "output_type": "stream",
     "text": [
      "Analyzing section 134..\n"
     ]
    },
    {
     "name": "stdout",
     "output_type": "stream",
     "text": [
      "614 patches in Sp5I\n",
      "70 patches in DC\n",
      "367 patches in SNR\n",
      "1047 patches in VLL_surround_noclass\n",
      "15 patches in VLL_surround_PBG\n",
      "538 patches in Sp5C_surround_noclass\n",
      "220 patches in Sp5C_surround_Sp5I\n",
      "351 patches in PBG_surround_noclass\n",
      "23 patches in PBG_surround_VLL\n",
      "10 patches in PBG_surround_SNR\n",
      "1085 patches in Sp5O_surround_noclass\n",
      "234 patches in Sp5O_surround_Sp5I\n",
      "777 patches in Sp5I_surround_noclass\n",
      "188 patches in Sp5I_surround_Sp5O\n",
      "178 patches in Sp5I_surround_Sp5C\n",
      "557 patches in DC_surround_noclass\n",
      "1048 patches in SNR_surround_noclass\n",
      "7 patches in SNR_surround_PBG\n",
      "21261 patches in bg\n",
      "337 patches in SC\n"
     ]
    },
    {
     "name": "stderr",
     "output_type": "stream",
     "text": [
      "Analyzing section 135..\n"
     ]
    },
    {
     "name": "stdout",
     "output_type": "stream",
     "text": [
      "727 patches in Pr5VL\n",
      "343 patches in Sp5C\n",
      "543 patches in VLL\n",
      "70 patches in DC\n",
      "611 patches in Pr5DM\n",
      "986 patches in Sp5O\n",
      "12 patches in PBG\n",
      "645 patches in Sp5I\n",
      "418 patches in SNR\n",
      "950 patches in SC_surround_noclass\n",
      "1076 patches in Pr5VL_surround_noclass\n",
      "79 patches in Pr5VL_surround_Sp5O\n",
      "181 patches in Pr5VL_surround_Pr5DM\n",
      "545 patches in Sp5C_surround_noclass\n",
      "235 patches in Sp5C_surround_Sp5I\n",
      "1126 patches in VLL_surround_noclass\n",
      "12 patches in VLL_surround_PBG\n",
      "2 patches in VLL_surround_Pr5DM\n",
      "561 patches in DC_surround_noclass\n",
      "814 patches in Pr5DM_surround_noclass\n",
      "217 patches in Pr5DM_surround_Pr5VL\n",
      "4 patches in Pr5DM_surround_VLL\n",
      "1160 patches in Sp5O_surround_noclass\n",
      "70 patches in Sp5O_surround_Pr5VL\n",
      "253 patches in Sp5O_surround_Sp5I\n",
      "354 patches in PBG_surround_noclass\n",
      "27 patches in PBG_surround_VLL\n",
      "18 patches in PBG_surround_SNR\n",
      "799 patches in Sp5I_surround_noclass\n",
      "216 patches in Sp5I_surround_Sp5O\n",
      "191 patches in Sp5I_surround_Sp5C\n",
      "1127 patches in SNR_surround_noclass\n",
      "11 patches in SNR_surround_PBG\n",
      "21091 patches in bg\n"
     ]
    },
    {
     "name": "stderr",
     "output_type": "stream",
     "text": [
      "Analyzing section 136..\n"
     ]
    },
    {
     "name": "stdout",
     "output_type": "stream",
     "text": [
      "1069 patches in Sp5O\n",
      "347 patches in SC\n",
      "57 patches in DC\n",
      "456 patches in SNR\n",
      "488 patches in VLL\n",
      "408 patches in Sp5C\n",
      "802 patches in Sp5I\n",
      "1145 patches in Sp5O_surround_noclass\n",
      "475 patches in Sp5O_surround_Sp5I\n",
      "942 patches in SC_surround_noclass\n",
      "529 patches in DC_surround_noclass\n",
      "1136 patches in SNR_surround_noclass\n",
      "1068 patches in VLL_surround_noclass\n",
      "617 patches in Sp5C_surround_noclass\n",
      "227 patches in Sp5C_surround_Sp5I\n",
      "782 patches in Sp5I_surround_noclass\n",
      "400 patches in Sp5I_surround_Sp5O\n",
      "197 patches in Sp5I_surround_Sp5C\n",
      "20932 patches in bg\n"
     ]
    },
    {
     "name": "stderr",
     "output_type": "stream",
     "text": [
      "Analyzing section 137..\n"
     ]
    },
    {
     "name": "stdout",
     "output_type": "stream",
     "text": [
      "474 patches in Sp5C\n",
      "457 patches in VLL\n",
      "367 patches in SC\n",
      "49 patches in DC\n",
      "1139 patches in Sp5O\n",
      "933 patches in Sp5I\n",
      "493 patches in SNR\n",
      "671 patches in Sp5C_surround_noclass\n",
      "227 patches in Sp5C_surround_Sp5I\n",
      "1024 patches in VLL_surround_noclass\n",
      "935 patches in SC_surround_noclass\n",
      "504 patches in DC_surround_noclass\n",
      "1159 patches in Sp5O_surround_noclass\n",
      "663 patches in Sp5O_surround_Sp5I\n",
      "820 patches in Sp5I_surround_noclass\n",
      "567 patches in Sp5I_surround_Sp5O\n",
      "210 patches in Sp5I_surround_Sp5C\n",
      "1133 patches in SNR_surround_noclass\n",
      "20791 patches in bg\n"
     ]
    },
    {
     "name": "stderr",
     "output_type": "stream",
     "text": [
      "Analyzing section 138..\n"
     ]
    },
    {
     "name": "stdout",
     "output_type": "stream",
     "text": [
      "413 patches in VLL\n",
      "1235 patches in Sp5O\n",
      "565 patches in Sp5C\n",
      "1088 patches in Sp5I\n",
      "41 patches in DC\n",
      "396 patches in SC\n",
      "533 patches in SNR\n",
      "985 patches in VLL_surround_noclass\n",
      "1199 patches in Sp5O_surround_noclass\n",
      "891 patches in Sp5O_surround_Sp5I\n",
      "720 patches in Sp5C_surround_noclass\n",
      "223 patches in Sp5C_surround_Sp5I\n",
      "862 patches in Sp5I_surround_noclass\n",
      "802 patches in Sp5I_surround_Sp5O\n",
      "221 patches in Sp5I_surround_Sp5C\n",
      "489 patches in DC_surround_noclass\n",
      "950 patches in SC_surround_noclass\n",
      "1157 patches in SNR_surround_noclass\n",
      "20455 patches in bg\n"
     ]
    },
    {
     "name": "stderr",
     "output_type": "stream",
     "text": [
      "Analyzing section 139..\n"
     ]
    },
    {
     "name": "stdout",
     "output_type": "stream",
     "text": [
      "1317 patches in Sp5O\n",
      "417 patches in SC\n",
      "640 patches in Sp5C\n",
      "385 patches in VLL\n",
      "569 patches in SNR\n",
      "1226 patches in Sp5I\n",
      "34 patches in DC\n",
      "1264 patches in Sp5O_surround_noclass\n",
      "1070 patches in Sp5O_surround_Sp5I\n",
      "960 patches in SC_surround_noclass\n",
      "720 patches in Sp5C_surround_noclass\n",
      "229 patches in Sp5C_surround_Sp5I\n",
      "946 patches in VLL_surround_noclass\n",
      "4 patches in VLL_surround_SNR\n",
      "1158 patches in SNR_surround_noclass\n",
      "5 patches in SNR_surround_VLL\n",
      "909 patches in Sp5I_surround_noclass\n",
      "995 patches in Sp5I_surround_Sp5O\n",
      "236 patches in Sp5I_surround_Sp5C\n",
      "465 patches in DC_surround_noclass\n",
      "20523 patches in bg\n"
     ]
    },
    {
     "name": "stderr",
     "output_type": "stream",
     "text": [
      "Analyzing section 140..\n"
     ]
    },
    {
     "name": "stdout",
     "output_type": "stream",
     "text": [
      "1401 patches in Sp5I\n",
      "1171 patches in Pr5VL\n",
      "754 patches in Sp5C\n",
      "26 patches in DC\n",
      "353 patches in VLL\n",
      "1421 patches in Sp5O\n",
      "627 patches in SNR\n",
      "457 patches in SC\n",
      "568 patches in Pr5DM\n",
      "2164 patches in IC\n",
      "932 patches in Sp5I_surround_noclass\n",
      "1258 patches in Sp5I_surround_Sp5O\n",
      "252 patches in Sp5I_surround_Sp5C\n",
      "1230 patches in Pr5VL_surround_noclass\n",
      "121 patches in Pr5VL_surround_Sp5O\n",
      "1 patches in Pr5VL_surround_VLL\n",
      "180 patches in Pr5VL_surround_Pr5DM\n",
      "794 patches in Sp5C_surround_noclass\n",
      "242 patches in Sp5C_surround_Sp5I\n",
      "473 patches in DC_surround_noclass\n",
      "898 patches in VLL_surround_noclass\n",
      "1 patches in VLL_surround_Pr5VL\n",
      "17 patches in VLL_surround_SNR\n",
      "1262 patches in Sp5O_surround_noclass\n",
      "111 patches in Sp5O_surround_Pr5VL\n",
      "1294 patches in Sp5O_surround_Sp5I\n",
      "1180 patches in SNR_surround_noclass\n",
      "20 patches in SNR_surround_VLL\n",
      "841 patches in SC_surround_noclass\n",
      "147 patches in SC_surround_IC\n",
      "794 patches in Pr5DM_surround_noclass\n",
      "253 patches in Pr5DM_surround_Pr5VL\n",
      "1744 patches in IC_surround_noclass\n",
      "91 patches in IC_surround_SC\n",
      "20228 patches in bg\n",
      "625 patches in SNR\n"
     ]
    },
    {
     "name": "stderr",
     "output_type": "stream",
     "text": [
      "Analyzing section 141..\n"
     ]
    },
    {
     "name": "stdout",
     "output_type": "stream",
     "text": [
      "784 patches in Sp5C\n",
      "1249 patches in Sp5O\n",
      "600 patches in SC\n",
      "2054 patches in IC\n",
      "1544 patches in Sp5I\n",
      "23 patches in DC\n",
      "48 patches in X\n",
      "321 patches in VLL\n",
      "1191 patches in SNR_surround_noclass\n",
      "11 patches in SNR_surround_VLL\n",
      "792 patches in Sp5C_surround_noclass\n",
      "225 patches in Sp5C_surround_Sp5I\n",
      "1185 patches in Sp5O_surround_noclass\n",
      "1033 patches in Sp5O_surround_Sp5I\n",
      "20 patches in Sp5O_surround_X\n",
      "909 patches in SC_surround_noclass\n",
      "155 patches in SC_surround_IC\n",
      "1633 patches in IC_surround_noclass\n",
      "114 patches in IC_surround_SC\n",
      "986 patches in Sp5I_surround_noclass\n",
      "1030 patches in Sp5I_surround_Sp5O\n",
      "243 patches in Sp5I_surround_Sp5C\n",
      "430 patches in DC_surround_noclass\n",
      "2 patches in DC_surround_X\n",
      "579 patches in X_surround_noclass\n",
      "21 patches in X_surround_Sp5O\n",
      "875 patches in VLL_surround_noclass\n",
      "9 patches in VLL_surround_SNR\n",
      "20186 patches in bg\n",
      "1104 patches in Sp5O\n"
     ]
    },
    {
     "name": "stderr",
     "output_type": "stream",
     "text": [
      "Analyzing section 142..\n"
     ]
    },
    {
     "name": "stdout",
     "output_type": "stream",
     "text": [
      "777 patches in SC\n",
      "1954 patches in IC\n",
      "16 patches in DC\n",
      "814 patches in Sp5C\n",
      "42 patches in X\n",
      "635 patches in SNR\n",
      "294 patches in VLL\n",
      "1689 patches in Sp5I\n",
      "1106 patches in Sp5O_surround_noclass\n",
      "766 patches in Sp5O_surround_Sp5I\n",
      "23 patches in Sp5O_surround_X\n",
      "979 patches in SC_surround_noclass\n",
      "178 patches in SC_surround_IC\n",
      "1568 patches in IC_surround_noclass\n",
      "144 patches in IC_surround_SC\n",
      "420 patches in DC_surround_noclass\n",
      "3 patches in DC_surround_X\n",
      "884 patches in Sp5C_surround_noclass\n",
      "202 patches in Sp5C_surround_Sp5I\n",
      "501 patches in X_surround_noclass\n",
      "37 patches in X_surround_Sp5O\n",
      "1 patches in X_surround_DC\n",
      "1202 patches in SNR_surround_noclass\n",
      "3 patches in SNR_surround_VLL\n",
      "848 patches in VLL_surround_noclass\n",
      "3 patches in VLL_surround_SNR\n",
      "1067 patches in Sp5I_surround_noclass\n",
      "824 patches in Sp5I_surround_Sp5O\n",
      "222 patches in Sp5I_surround_Sp5C\n",
      "19999 patches in bg\n",
      "13 patches in DC\n",
      "860 patches in Sp5C\n",
      "1872 patches in Sp5I\n"
     ]
    },
    {
     "name": "stderr",
     "output_type": "stream",
     "text": [
      "Analyzing section 143..\n"
     ]
    },
    {
     "name": "stdout",
     "output_type": "stream",
     "text": [
      "40 patches in X\n",
      "264 patches in VLL\n",
      "1004 patches in SC\n",
      "640 patches in SNR\n",
      "922 patches in Sp5O\n",
      "1858 patches in IC\n",
      "404 patches in DC_surround_noclass\n",
      "870 patches in Sp5C_surround_noclass\n",
      "188 patches in Sp5C_surround_Sp5I\n",
      "1237 patches in Sp5I_surround_noclass\n",
      "532 patches in Sp5I_surround_Sp5O\n",
      "205 patches in Sp5I_surround_Sp5C\n",
      "527 patches in X_surround_noclass\n",
      "812 patches in VLL_surround_noclass\n",
      "1073 patches in SC_surround_noclass\n",
      "216 patches in SC_surround_IC\n",
      "1241 patches in SNR_surround_noclass\n",
      "1056 patches in Sp5O_surround_noclass\n",
      "484 patches in Sp5O_surround_Sp5I\n",
      "1474 patches in IC_surround_noclass\n",
      "183 patches in IC_surround_SC\n",
      "20291 patches in bg\n",
      "241 patches in VLL\n",
      "781 patches in Sp5O\n",
      "44 patches in X\n",
      "10 patches in DC\n"
     ]
    },
    {
     "name": "stderr",
     "output_type": "stream",
     "text": [
      "Analyzing section 144..\n"
     ]
    },
    {
     "name": "stdout",
     "output_type": "stream",
     "text": [
      "2040 patches in Sp5I\n",
      "1212 patches in SC\n",
      "649 patches in SNR\n",
      "1767 patches in IC\n",
      "900 patches in Sp5C\n",
      "779 patches in VLL_surround_noclass\n",
      "1023 patches in Sp5O_surround_noclass\n",
      "298 patches in Sp5O_surround_Sp5I\n",
      "520 patches in X_surround_noclass\n",
      "387 patches in DC_surround_noclass\n",
      "7 patches in DC_surround_X\n",
      "1423 patches in Sp5I_surround_noclass\n",
      "331 patches in Sp5I_surround_Sp5O\n",
      "182 patches in Sp5I_surround_Sp5C\n",
      "1 patches in Sp5I_surround_X\n",
      "1155 patches in SC_surround_noclass\n",
      "238 patches in SC_surround_IC\n",
      "1258 patches in SNR_surround_noclass\n",
      "1395 patches in IC_surround_noclass\n",
      "213 patches in IC_surround_SC\n",
      "933 patches in Sp5C_surround_noclass\n",
      "163 patches in Sp5C_surround_Sp5I\n",
      "19993 patches in bg\n",
      "1508 patches in SC\n",
      "11 patches in SNC\n"
     ]
    },
    {
     "name": "stderr",
     "output_type": "stream",
     "text": [
      "Analyzing section 145..\n"
     ]
    },
    {
     "name": "stdout",
     "output_type": "stream",
     "text": [
      "2217 patches in Sp5I\n",
      "88 patches in LVe\n",
      "1678 patches in IC\n",
      "658 patches in SNR\n",
      "948 patches in Sp5C\n",
      "7 patches in DC\n",
      "65 patches in LPB\n",
      "45 patches in X\n",
      "219 patches in VLL\n",
      "101 patches in 8n\n",
      "646 patches in Sp5O\n",
      "341 patches in SuVe\n",
      "1268 patches in SC_surround_noclass\n",
      "263 patches in SC_surround_IC\n",
      "376 patches in SNC_surround_noclass\n",
      "222 patches in SNC_surround_SNR\n",
      "1634 patches in Sp5I_surround_noclass\n",
      "160 patches in Sp5I_surround_Sp5O\n",
      "172 patches in Sp5I_surround_Sp5C\n",
      "5 patches in Sp5I_surround_X\n",
      "562 patches in LVe_surround_noclass\n",
      "22 patches in LVe_surround_8n\n",
      "7 patches in LVe_surround_DC\n",
      "18 patches in LVe_surround_SuVe\n",
      "1319 patches in IC_surround_noclass\n",
      "243 patches in IC_surround_SC\n",
      "1310 patches in SNR_surround_noclass\n",
      "11 patches in SNR_surround_SNC\n",
      "1 patches in SNR_surround_VLL\n",
      "1018 patches in Sp5C_surround_noclass\n",
      "153 patches in Sp5C_surround_Sp5I\n",
      "333 patches in DC_surround_noclass\n",
      "57 patches in DC_surround_LVe\n",
      "11 patches in DC_surround_X\n",
      "519 patches in LPB_surround_noclass\n",
      "12 patches in LPB_surround_SuVe\n",
      "524 patches in X_surround_noclass\n",
      "5 patches in X_surround_Sp5I\n",
      "756 patches in VLL_surround_noclass\n",
      "1 patches in VLL_surround_SNR\n",
      "481 patches in 8n_surround_noclass\n",
      "29 patches in 8n_surround_LVe\n",
      "66 patches in 8n_surround_SuVe\n",
      "1045 patches in Sp5O_surround_noclass\n",
      "155 patches in Sp5O_surround_Sp5I\n",
      "969 patches in SuVe_surround_noclass\n",
      "58 patches in SuVe_surround_8n\n",
      "20 patches in SuVe_surround_LVe\n",
      "9 patches in SuVe_surround_LPB\n",
      "19874 patches in bg\n",
      "1650 patches in IC\n",
      "41 patches in X\n",
      "203 patches in VLL\n"
     ]
    },
    {
     "name": "stderr",
     "output_type": "stream",
     "text": [
      "Analyzing section 146..\n"
     ]
    },
    {
     "name": "stdout",
     "output_type": "stream",
     "text": [
      "967 patches in Sp5C\n",
      "12 patches in SNC\n",
      "649 patches in SNR\n",
      "312 patches in SuVe\n",
      "94 patches in 8n\n",
      "6 patches in DC\n",
      "1525 patches in SC\n",
      "1302 patches in IC_surround_noclass\n",
      "242 patches in IC_surround_SC\n",
      "512 patches in X_surround_noclass\n",
      "733 patches in VLL_surround_noclass\n",
      "1 patches in VLL_surround_SNR\n",
      "1229 patches in Sp5C_surround_noclass\n",
      "358 patches in SNC_surround_noclass\n",
      "208 patches in SNC_surround_SNR\n",
      "1263 patches in SNR_surround_noclass\n",
      "12 patches in SNR_surround_SNC\n",
      "930 patches in SuVe_surround_noclass\n",
      "50 patches in SuVe_surround_8n\n",
      "499 patches in 8n_surround_noclass\n",
      "58 patches in 8n_surround_SuVe\n",
      "392 patches in DC_surround_noclass\n",
      "4 patches in DC_surround_X\n",
      "1265 patches in SC_surround_noclass\n",
      "258 patches in SC_surround_IC\n",
      "19755 patches in bg\n",
      "1005 patches in Sp5C\n",
      "280 patches in SuVe\n",
      "12 patches in SNC\n",
      "91 patches in 8n\n"
     ]
    },
    {
     "name": "stderr",
     "output_type": "stream",
     "text": [
      "Analyzing section 147..\n"
     ]
    },
    {
     "name": "stdout",
     "output_type": "stream",
     "text": [
      "4 patches in DC\n",
      "42 patches in X\n",
      "1569 patches in SC\n",
      "191 patches in VLL\n",
      "1648 patches in IC\n",
      "640 patches in SNR\n",
      "1232 patches in Sp5C_surround_noclass\n",
      "891 patches in SuVe_surround_noclass\n",
      "38 patches in SuVe_surround_8n\n",
      "369 patches in SNC_surround_noclass\n",
      "208 patches in SNC_surround_SNR\n",
      "508 patches in 8n_surround_noclass\n",
      "47 patches in 8n_surround_SuVe\n",
      "400 patches in DC_surround_noclass\n",
      "4 patches in DC_surround_X\n",
      "509 patches in X_surround_noclass\n",
      "1267 patches in SC_surround_noclass\n",
      "266 patches in SC_surround_IC\n",
      "717 patches in VLL_surround_noclass\n",
      "1270 patches in IC_surround_noclass\n",
      "243 patches in IC_surround_SC\n",
      "1259 patches in SNR_surround_noclass\n",
      "12 patches in SNR_surround_SNC\n",
      "19494 patches in bg\n"
     ]
    },
    {
     "name": "stderr",
     "output_type": "stream",
     "text": [
      "Analyzing section 148..\n"
     ]
    },
    {
     "name": "stdout",
     "output_type": "stream",
     "text": [
      "1602 patches in SC\n",
      "40 patches in X\n",
      "631 patches in SNR\n",
      "4 patches in DC\n",
      "1026 patches in Sp5C\n",
      "13 patches in SNC\n",
      "88 patches in 8n\n",
      "253 patches in SuVe\n",
      "186 patches in VLL\n",
      "1643 patches in IC\n",
      "1280 patches in SC_surround_noclass\n",
      "268 patches in SC_surround_IC\n",
      "502 patches in X_surround_noclass\n",
      "1244 patches in SNR_surround_noclass\n",
      "13 patches in SNR_surround_SNC\n",
      "407 patches in DC_surround_noclass\n",
      "6 patches in DC_surround_X\n",
      "1318 patches in Sp5C_surround_noclass\n",
      "383 patches in SNC_surround_noclass\n",
      "216 patches in SNC_surround_SNR\n",
      "513 patches in 8n_surround_noclass\n",
      "36 patches in 8n_surround_SuVe\n",
      "837 patches in SuVe_surround_noclass\n",
      "27 patches in SuVe_surround_8n\n",
      "714 patches in VLL_surround_noclass\n",
      "1231 patches in IC_surround_noclass\n",
      "244 patches in IC_surround_SC\n",
      "19295 patches in bg\n"
     ]
    },
    {
     "name": "stderr",
     "output_type": "stream",
     "text": [
      "Analyzing section 149..\n"
     ]
    },
    {
     "name": "stdout",
     "output_type": "stream",
     "text": [
      "1635 patches in IC\n",
      "88 patches in 8n\n",
      "3 patches in DC\n",
      "622 patches in SNR\n",
      "177 patches in VLL\n",
      "36 patches in X\n",
      "15 patches in SNC\n",
      "1059 patches in Sp5C\n",
      "226 patches in SuVe\n",
      "1639 patches in SC\n",
      "1268 patches in IC_surround_noclass\n",
      "250 patches in IC_surround_SC\n",
      "517 patches in 8n_surround_noclass\n",
      "25 patches in 8n_surround_SuVe\n",
      "409 patches in DC_surround_noclass\n",
      "3 patches in DC_surround_X\n",
      "1256 patches in SNR_surround_noclass\n",
      "15 patches in SNR_surround_SNC\n",
      "714 patches in VLL_surround_noclass\n",
      "508 patches in X_surround_noclass\n",
      "403 patches in SNC_surround_noclass\n",
      "219 patches in SNC_surround_SNR\n",
      "1340 patches in Sp5C_surround_noclass\n",
      "803 patches in SuVe_surround_noclass\n",
      "20 patches in SuVe_surround_8n\n",
      "1284 patches in SC_surround_noclass\n",
      "270 patches in SC_surround_IC\n",
      "18750 patches in bg\n"
     ]
    },
    {
     "name": "stderr",
     "output_type": "stream",
     "text": [
      "Analyzing section 150..\n"
     ]
    },
    {
     "name": "stdout",
     "output_type": "stream",
     "text": [
      "144 patches in LVe\n",
      "1099 patches in Sp5C\n",
      "63 patches in 7n\n",
      "202 patches in SuVe\n",
      "37 patches in X\n",
      "84 patches in 5TT\n",
      "625 patches in SNR\n",
      "1686 patches in SC\n",
      "21 patches in SNC\n",
      "1650 patches in IC\n",
      "3 patches in DC\n",
      "92 patches in 8n\n",
      "178 patches in VLL\n",
      "237 patches in 5N\n",
      "577 patches in LVe_surround_noclass\n",
      "3 patches in LVe_surround_DC\n",
      "100 patches in LVe_surround_SuVe\n",
      "1366 patches in Sp5C_surround_noclass\n",
      "521 patches in 7n_surround_noclass\n",
      "684 patches in SuVe_surround_noclass\n",
      "10 patches in SuVe_surround_8n\n",
      "92 patches in SuVe_surround_LVe\n",
      "542 patches in X_surround_noclass\n",
      "538 patches in 5TT_surround_noclass\n",
      "78 patches in 5TT_surround_5N\n",
      "1270 patches in SNR_surround_noclass\n",
      "21 patches in SNR_surround_SNC\n",
      "1291 patches in SC_surround_noclass\n",
      "286 patches in SC_surround_IC\n",
      "457 patches in SNC_surround_noclass\n",
      "233 patches in SNC_surround_SNR\n",
      "1205 patches in IC_surround_noclass\n",
      "257 patches in IC_surround_SC\n",
      "385 patches in DC_surround_noclass\n",
      "90 patches in DC_surround_LVe\n",
      "14 patches in DC_surround_X\n",
      "535 patches in 8n_surround_noclass\n",
      "14 patches in 8n_surround_SuVe\n",
      "722 patches in VLL_surround_noclass\n",
      "679 patches in 5N_surround_noclass\n",
      "65 patches in 5N_surround_5TT\n",
      "18475 patches in bg\n",
      "194 patches in SuVe\n",
      "78 patches in 8n\n",
      "1716"
     ]
    },
    {
     "name": "stderr",
     "output_type": "stream",
     "text": [
      "Analyzing section 151..\n"
     ]
    },
    {
     "name": "stdout",
     "output_type": "stream",
     "text": [
      " patches in SC\n",
      "221 patches in 5N\n",
      "1663 patches in IC\n",
      "1 patches in DC\n",
      "59 patches in 7n\n",
      "1105 patches in Sp5C\n",
      "161 patches in VLL\n",
      "18 patches in SNC\n",
      "631 patches in SNR\n",
      "785 patches in SuVe_surround_noclass\n",
      "3 patches in SuVe_surround_8n\n",
      "521 patches in 8n_surround_noclass\n",
      "3 patches in 8n_surround_SuVe\n",
      "1311 patches in SC_surround_noclass\n",
      "279 patches in SC_surround_IC\n",
      "725 patches in 5N_surround_noclass\n",
      "1187 patches in IC_surround_noclass\n",
      "257 patches in IC_surround_SC\n",
      "453 patches in DC_surround_noclass\n",
      "507 patches in 7n_surround_noclass\n",
      "1322 patches in Sp5C_surround_noclass\n",
      "677 patches in VLL_surround_noclass\n",
      "425 patches in SNC_surround_noclass\n",
      "227 patches in SNC_surround_SNR\n",
      "1272 patches in SNR_surround_noclass\n",
      "18 patches in SNR_surround_SNC\n",
      "18464 patches in bg\n"
     ]
    },
    {
     "name": "stderr",
     "output_type": "stream",
     "text": [
      "Analyzing section 152..\n"
     ]
    },
    {
     "name": "stdout",
     "output_type": "stream",
     "text": [
      "62 patches in 7n\n",
      "68 patches in 8n\n",
      "151 patches in VLL\n",
      "1106 patches in Sp5C\n",
      "191 patches in SuVe\n",
      "658 patches in SNR\n",
      "1767 patches in SC\n",
      "1694 patches in IC\n",
      "214 patches in 5N\n",
      "42 patches in 7N\n",
      "1 patches in DC\n",
      "18 patches in SNC\n",
      "507 patches in 7n_surround_noclass\n",
      "511 patches in 8n_surround_noclass\n",
      "645 patches in VLL_surround_noclass\n",
      "1356 patches in Sp5C_surround_noclass\n",
      "810 patches in SuVe_surround_noclass\n",
      "1299 patches in SNR_surround_noclass\n",
      "18 patches in SNR_surround_SNC\n",
      "1342 patches in SC_surround_noclass\n",
      "273 patches in SC_surround_IC\n",
      "1203 patches in IC_surround_noclass\n",
      "259 patches in IC_surround_SC\n",
      "724 patches in 5N_surround_noclass\n",
      "453 patches in 7N_surround_noclass\n",
      "455 patches in DC_surround_noclass\n",
      "413 patches in SNC_surround_noclass\n",
      "233 patches in SNC_surround_SNR\n",
      "18065 patches in bg\n"
     ]
    },
    {
     "name": "stderr",
     "output_type": "stream",
     "text": [
      "Analyzing section 153..\n"
     ]
    },
    {
     "name": "stdout",
     "output_type": "stream",
     "text": [
      "1716 patches in IC\n",
      "1 patches in DC\n",
      "63 patches in 7N\n",
      "131 patches in VLL\n",
      "1816 patches in SC\n",
      "1120 patches in Sp5C\n",
      "190 patches in SuVe\n",
      "61 patches in 7n\n",
      "19 patches in SNC\n",
      "678 patches in SNR\n",
      "61 patches in 8n\n",
      "208 patches in 5N\n",
      "1187 patches in IC_surround_noclass\n",
      "261 patches in IC_surround_SC\n",
      "450 patches in DC_surround_noclass\n",
      "478 patches in 7N_surround_noclass\n",
      "639 patches in VLL_surround_noclass\n",
      "1359 patches in SC_surround_noclass\n",
      "279 patches in SC_surround_IC\n",
      "1342 patches in Sp5C_surround_noclass\n",
      "826 patches in SuVe_surround_noclass\n",
      "509 patches in 7n_surround_noclass\n",
      "402 patches in SNC_surround_noclass\n",
      "242 patches in SNC_surround_SNR\n",
      "1333 patches in SNR_surround_noclass\n",
      "19 patches in SNR_surround_SNC\n",
      "495 patches in 8n_surround_noclass\n",
      "729 patches in 5N_surround_noclass\n",
      "18048 patches in bg\n"
     ]
    },
    {
     "name": "stderr",
     "output_type": "stream",
     "text": [
      "Analyzing section 154..\n"
     ]
    },
    {
     "name": "stdout",
     "output_type": "stream",
     "text": [
      "1761 patches in IC\n",
      "55 patches in 8n\n",
      "61 patches in 7n\n",
      "125 patches in VLL\n",
      "701 patches in SNR\n",
      "1129 patches in Sp5C\n",
      "197 patches in 5N\n",
      "32 patches in LRt\n",
      "5 patches in DC\n",
      "99 patches in 7N\n",
      "21 patches in SNC\n",
      "182 patches in SuVe\n",
      "1867 patches in SC\n",
      "1204 patches in IC_surround_noclass\n",
      "271 patches in IC_surround_SC\n",
      "482 patches in 8n_surround_noclass\n",
      "513 patches in 7n_surround_noclass\n",
      "609 patches in VLL_surround_noclass\n",
      "1368 patches in SNR_surround_noclass\n",
      "21 patches in SNR_surround_SNC\n",
      "1379 patches in Sp5C_surround_noclass\n",
      "742 patches in 5N_surround_noclass\n",
      "543 patches in LRt_surround_noclass\n",
      "474 patches in DC_surround_noclass\n",
      "519 patches in 7N_surround_noclass\n",
      "406 patches in SNC_surround_noclass\n",
      "239 patches in SNC_surround_SNR\n",
      "858 patches in SuVe_surround_noclass\n",
      "1384 patches in SC_surround_noclass\n",
      "285 patches in SC_surround_IC\n",
      "17517 patches in bg\n",
      "46 patches in VLL\n",
      "8 patches in DC\n",
      "732 patches in SNR\n",
      "67 patches in LPB\n",
      "36 patches in LRt\n"
     ]
    },
    {
     "name": "stderr",
     "output_type": "stream",
     "text": [
      "Analyzing section 155..\n"
     ]
    },
    {
     "name": "stdout",
     "output_type": "stream",
     "text": [
      "1939 patches in SC\n",
      "1145 patches in Sp5C\n",
      "55 patches in 8n\n",
      "111 patches in ECu\n",
      "76 patches in MPB\n",
      "150 patches in LVe\n",
      "28 patches in SNC\n",
      "188 patches in 5N\n",
      "119 patches in VLL\n",
      "146 patches in 7N\n",
      "126 patches in MiTg\n",
      "185 patches in SuVe\n",
      "53 patches in RR\n",
      "1812 patches in IC\n",
      "69 patches in 7n\n",
      "510 patches in VLL_surround_noclass\n",
      "468 patches in DC_surround_noclass\n",
      "47 patches in DC_surround_LVe\n",
      "2 patches in DC_surround_ECu\n",
      "1366 patches in SNR_surround_noclass\n",
      "41 patches in SNR_surround_RR\n",
      "28 patches in SNR_surround_SNC\n",
      "552 patches in LPB_surround_noclass\n",
      "16 patches in LPB_surround_MPB\n",
      "526 patches in LRt_surround_noclass\n",
      "1403 patches in SC_surround_noclass\n",
      "311 patches in SC_surround_IC\n",
      "1341 patches in Sp5C_surround_noclass\n",
      "3 patches in Sp5C_surround_ECu\n",
      "437 patches in 8n_surround_noclass\n",
      "44 patches in 8n_surround_LVe\n",
      "701 patches in ECu_surround_noclass\n",
      "512 patches in MPB_surround_noclass\n",
      "26 patches in MPB_surround_SuVe\n",
      "3 patches in MPB_surround_5N\n",
      "15 patches in MPB_surround_LPB\n",
      "629 patches in LVe_surround_noclass\n",
      "35 patches in LVe_surround_8n\n",
      "62 patches in LVe_surround_SuVe\n",
      "6 patches in LVe_surround_DC\n",
      "425 patches in SNC_surround_noclass\n",
      "277 patches in SNC_surround_SNR\n",
      "770 patches in 5N_surround_noclass\n",
      "8 patches in 5N_surround_MPB\n",
      "611 patches in VLL_surround_noclass\n",
      "628 patches in 7N_surround_noclass\n",
      "743 patches in MiTg_surround_noclass\n",
      "864 patches in SuVe_surround_noclass\n",
      "38 patches in SuVe_surround_LVe\n",
      "18 patches in SuVe_surround_MPB\n",
      "445 patches in RR_surround_noclass\n",
      "46 patches in RR_surround_SNR\n",
      "1193 patches in IC_surround_noclass\n",
      "282 patches in IC_surround_SC\n",
      "523 patches in 7n_surround_noclass\n",
      "17194 patches in bg\n",
      "44 patches in LRt\n",
      "1087 patches in Sp5C\n"
     ]
    },
    {
     "name": "stderr",
     "output_type": "stream",
     "text": [
      "Analyzing section 156..\n"
     ]
    },
    {
     "name": "stdout",
     "output_type": "stream",
     "text": [
      "160 patches in 7N\n",
      "119 patches in VLL\n",
      "68 patches in 7n\n",
      "699 patches in SNR\n",
      "181 patches in SuVe\n",
      "2048 patches in SC\n",
      "25 patches in SNC\n",
      "225 patches in 5N\n",
      "1773 patches in IC\n",
      "8 patches in DC\n",
      "558 patches in LRt_surround_noclass\n",
      "1469 patches in Sp5C_surround_noclass\n",
      "617 patches in 7N_surround_noclass\n",
      "611 patches in VLL_surround_noclass\n",
      "515 patches in 7n_surround_noclass\n",
      "1354 patches in SNR_surround_noclass\n",
      "25 patches in SNR_surround_SNC\n",
      "888 patches in SuVe_surround_noclass\n",
      "1450 patches in SC_surround_noclass\n",
      "278 patches in SC_surround_IC\n",
      "406 patches in SNC_surround_noclass\n",
      "254 patches in SNC_surround_SNR\n",
      "769 patches in 5N_surround_noclass\n",
      "1207 patches in IC_surround_noclass\n",
      "274 patches in IC_surround_SC\n",
      "505 patches in DC_surround_noclass\n",
      "16654 patches in bg\n",
      "183 patches in SuVe\n",
      "25 patches in SNC\n",
      "9 patches in DC\n"
     ]
    },
    {
     "name": "stderr",
     "output_type": "stream",
     "text": [
      "Analyzing section 157..\n"
     ]
    },
    {
     "name": "stdout",
     "output_type": "stream",
     "text": [
      "668 patches in SNR\n",
      "127 patches in VLL\n",
      "76 patches in 7n\n",
      "267 patches in 5N\n",
      "191 patches in 7N\n",
      "1013 patches in Sp5C\n",
      "1766 patches in IC\n",
      "65 patches in LRt\n",
      "2193 patches in SC\n",
      "873 patches in SuVe_surround_noclass\n",
      "413 patches in SNC_surround_noclass\n",
      "239 patches in SNC_surround_SNR\n",
      "518 patches in DC_surround_noclass\n",
      "1310 patches in SNR_surround_noclass\n",
      "25 patches in SNR_surround_SNC\n",
      "624 patches in VLL_surround_noclass\n",
      "527 patches in 7n_surround_noclass\n",
      "817 patches in 5N_surround_noclass\n",
      "661 patches in 7N_surround_noclass\n",
      "1408 patches in Sp5C_surround_noclass\n",
      "1195 patches in IC_surround_noclass\n",
      "267 patches in IC_surround_SC\n",
      "590 patches in LRt_surround_noclass\n",
      "1502 patches in SC_surround_noclass\n",
      "276 patches in SC_surround_IC\n",
      "16527 patches in bg\n",
      "651 patches in SNR\n",
      "9 patches in DC\n",
      "77 patches in 7n\n",
      "133 patches in VLL\n",
      "27 patches in SNC\n"
     ]
    },
    {
     "name": "stderr",
     "output_type": "stream",
     "text": [
      "Analyzing section 158..\n"
     ]
    },
    {
     "name": "stdout",
     "output_type": "stream",
     "text": [
      "302 patches in 5N\n",
      "943 patches in Sp5C\n",
      "217 patches in 7N\n",
      "2314 patches in SC\n",
      "192 patches in SuVe\n",
      "75 patches in LRt\n",
      "1750 patches in IC\n",
      "1278 patches in SNR_surround_noclass\n",
      "27 patches in SNR_surround_SNC\n",
      "526 patches in DC_surround_noclass\n",
      "535 patches in 7n_surround_noclass\n",
      "639 patches in VLL_surround_noclass\n",
      "408 patches in SNC_surround_noclass\n",
      "228 patches in SNC_surround_SNR\n",
      "850 patches in 5N_surround_noclass\n",
      "1413 patches in Sp5C_surround_noclass\n",
      "653 patches in 7N_surround_noclass\n",
      "1546 patches in SC_surround_noclass\n",
      "279 patches in SC_surround_IC\n",
      "857 patches in SuVe_surround_noclass\n",
      "623 patches in LRt_surround_noclass\n",
      "1214 patches in IC_surround_noclass\n",
      "267 patches in IC_surround_SC\n",
      "16159 patches in bg\n",
      "2462 patches in SC\n",
      "252 patches in 7N\n",
      "84 patches in 7n\n"
     ]
    },
    {
     "name": "stderr",
     "output_type": "stream",
     "text": [
      "Analyzing section 159..\n"
     ]
    },
    {
     "name": "stdout",
     "output_type": "stream",
     "text": [
      "625 patches in SNR\n",
      "849 patches in Sp5C\n",
      "142 patches in VLL\n",
      "97 patches in LRt\n",
      "359 patches in 5N\n",
      "13 patches in DC\n",
      "1732 patches in IC\n",
      "199 patches in SuVe\n",
      "30 patches in SNC\n",
      "1618 patches in SC_surround_noclass\n",
      "277 patches in SC_surround_IC\n",
      "714 patches in 7N_surround_noclass\n",
      "554 patches in 7n_surround_noclass\n",
      "1235 patches in SNR_surround_noclass\n",
      "30 patches in SNR_surround_SNC\n",
      "1351 patches in Sp5C_surround_noclass\n",
      "655 patches in VLL_surround_noclass\n",
      "641 patches in LRt_surround_noclass\n",
      "900 patches in 5N_surround_noclass\n",
      "527 patches in DC_surround_noclass\n",
      "1193 patches in IC_surround_noclass\n",
      "264 patches in IC_surround_SC\n",
      "847 patches in SuVe_surround_noclass\n",
      "419 patches in SNC_surround_noclass\n",
      "230 patches in SNC_surround_SNR\n",
      "16518 patches in bg\n",
      "616 patches in SNR\n"
     ]
    },
    {
     "name": "stderr",
     "output_type": "stream",
     "text": [
      "Analyzing section 160..\n"
     ]
    },
    {
     "name": "stdout",
     "output_type": "stream",
     "text": [
      "156 patches in MPB\n",
      "90 patches in 7n\n",
      "780 patches in Sp5C\n",
      "13 patches in DC\n",
      "98 patches in ECu\n",
      "2608 patches in SC\n",
      "156 patches in VLL\n",
      "304 patches in LPB\n",
      "411 patches in 5N\n",
      "306 patches in LVe\n",
      "294 patches in 7N\n",
      "207 patches in SuVe\n",
      "30 patches in SNC\n",
      "115 patches in LRt\n",
      "1746 patches in IC\n",
      "1220 patches in SNR_surround_noclass\n",
      "30 patches in SNR_surround_SNC\n",
      "717 patches in MPB_surround_noclass\n",
      "52 patches in MPB_surround_SuVe\n",
      "10 patches in MPB_surround_5N\n",
      "35 patches in MPB_surround_LPB\n",
      "585 patches in 7n_surround_noclass\n",
      "1415 patches in Sp5C_surround_noclass\n",
      "4 patches in Sp5C_surround_ECu\n",
      "386 patches in DC_surround_noclass\n",
      "157 patches in DC_surround_LVe\n",
      "739 patches in ECu_surround_noclass\n",
      "3 patches in ECu_surround_Sp5C\n",
      "1673 patches in SC_surround_noclass\n",
      "301 patches in SC_surround_IC\n",
      "692 patches in VLL_surround_noclass\n",
      "903 patches in LPB_surround_noclass\n",
      "36 patches in LPB_surround_MPB\n",
      "8 patches in LPB_surround_SuVe\n",
      "944 patches in 5N_surround_noclass\n",
      "15 patches in 5N_surround_MPB\n",
      "694 patches in LVe_surround_noclass\n",
      "157 patches in LVe_surround_SuVe\n",
      "11 patches in LVe_surround_DC\n",
      "715 patches in 7N_surround_noclass\n",
      "694 patches in SuVe_surround_noclass\n",
      "15 patches in SuVe_surround_MPB\n",
      "156 patches in SuVe_surround_LVe\n",
      "5 patches in SuVe_surround_LPB\n",
      "434 patches in SNC_surround_noclass\n",
      "231 patches in SNC_surround_SNR\n",
      "703 patches in LRt_surround_noclass\n",
      "1188 patches in IC_surround_noclass\n",
      "287 patches in IC_surround_SC\n",
      "16472 patches in bg\n",
      "218 patches in VLL\n"
     ]
    },
    {
     "name": "stderr",
     "output_type": "stream",
     "text": [
      "Analyzing section 161..\n"
     ]
    },
    {
     "name": "stdout",
     "output_type": "stream",
     "text": [
      "2557 patches in SC\n",
      "204 patches in SuVe\n",
      "1635 patches in IC\n",
      "612 patches in SNR\n",
      "17 patches in DC\n",
      "31 patches in SNC\n",
      "298 patches in 7N\n",
      "383 patches in 5N\n",
      "84 patches in 7n\n",
      "773 patches in Sp5C\n",
      "115 patches in LRt\n",
      "905 patches in VLL_surround_noclass\n",
      "1642 patches in SC_surround_noclass\n",
      "294 patches in SC_surround_IC\n",
      "809 patches in SuVe_surround_noclass\n",
      "1155 patches in IC_surround_noclass\n",
      "279 patches in IC_surround_SC\n",
      "1221 patches in SNR_surround_noclass\n",
      "31 patches in SNR_surround_SNC\n",
      "564 patches in DC_surround_noclass\n",
      "414 patches in SNC_surround_noclass\n",
      "220 patches in SNC_surround_SNR\n",
      "747 patches in 7N_surround_noclass\n",
      "934 patches in 5N_surround_noclass\n",
      "557 patches in 7n_surround_noclass\n",
      "1358 patches in Sp5C_surround_noclass\n",
      "689 patches in LRt_surround_noclass\n",
      "16315 patches in bg\n",
      "313 patches in 7N\n",
      "203 patches in SuVe\n",
      "1592 patches in IC\n"
     ]
    },
    {
     "name": "stderr",
     "output_type": "stream",
     "text": [
      "Analyzing section 162..\n"
     ]
    },
    {
     "name": "stdout",
     "output_type": "stream",
     "text": [
      "603 patches in SNR\n",
      "126 patches in LRt\n",
      "85 patches in 7n\n",
      "373 patches in 5N\n",
      "19 patches in DC\n",
      "236 patches in VLL\n",
      "775 patches in Sp5C\n",
      "32 patches in SNC\n",
      "2539 patches in SC\n",
      "770 patches in 7N_surround_noclass\n",
      "793 patches in SuVe_surround_noclass\n",
      "2 patches in SuVe_surround_5N\n",
      "1113 patches in IC_surround_noclass\n",
      "298 patches in IC_surround_SC\n",
      "1224 patches in SNR_surround_noclass\n",
      "32 patches in SNR_surround_SNC\n",
      "698 patches in LRt_surround_noclass\n",
      "554 patches in 7n_surround_noclass\n",
      "913 patches in 5N_surround_noclass\n",
      "1 patches in 5N_surround_SuVe\n",
      "584 patches in DC_surround_noclass\n",
      "867 patches in VLL_surround_noclass\n",
      "1277 patches in Sp5C_surround_noclass\n",
      "417 patches in SNC_surround_noclass\n",
      "211 patches in SNC_surround_SNR\n",
      "1613 patches in SC_surround_noclass\n",
      "309 patches in SC_surround_IC\n",
      "16026 patches in bg\n"
     ]
    },
    {
     "name": "stderr",
     "output_type": "stream",
     "text": [
      "Analyzing section 163..\n"
     ]
    },
    {
     "name": "stdout",
     "output_type": "stream",
     "text": [
      "134 patches in LRt\n",
      "358 patches in 5N\n",
      "257 patches in VLL\n",
      "1506 patches in IC\n",
      "23 patches in DC\n",
      "607 patches in SNR\n",
      "197 patches in SuVe\n",
      "327 patches in 7N\n",
      "2506 patches in SC\n",
      "771 patches in Sp5C\n",
      "84 patches in 7n\n",
      "32 patches in SNC\n",
      "713 patches in LRt_surround_noclass\n",
      "894 patches in 5N_surround_noclass\n",
      "3 patches in 5N_surround_SuVe\n",
      "873 patches in VLL_surround_noclass\n",
      "1061 patches in IC_surround_noclass\n",
      "293 patches in IC_surround_SC\n",
      "597 patches in DC_surround_noclass\n",
      "1247 patches in SNR_surround_noclass\n",
      "32 patches in SNR_surround_SNC\n",
      "773 patches in SuVe_surround_noclass\n",
      "4 patches in SuVe_surround_5N\n",
      "792 patches in 7N_surround_noclass\n",
      "1612 patches in SC_surround_noclass\n",
      "310 patches in SC_surround_IC\n",
      "1313 patches in Sp5C_surround_noclass\n",
      "561 patches in 7n_surround_noclass\n",
      "417 patches in SNC_surround_noclass\n",
      "207 patches in SNC_surround_SNR\n",
      "15701 patches in bg\n",
      "341 patches in 5N\n",
      "340 patches in 7N\n",
      "22 patches in Amb\n",
      "277 patches in VLL\n",
      "33 patches in SNC\n"
     ]
    },
    {
     "name": "stderr",
     "output_type": "stream",
     "text": [
      "Analyzing section 164..\n"
     ]
    },
    {
     "name": "stdout",
     "output_type": "stream",
     "text": [
      "140 patches in LRt\n",
      "2493 patches in SC\n",
      "197 patches in SuVe\n",
      "84 patches in 7n\n",
      "1450 patches in IC\n",
      "775 patches in Sp5C\n",
      "613 patches in SNR\n",
      "24 patches in DC\n",
      "891 patches in 5N_surround_noclass\n",
      "5 patches in 5N_surround_SuVe\n",
      "789 patches in 7N_surround_noclass\n",
      "420 patches in Amb_surround_noclass\n",
      "859 patches in VLL_surround_noclass\n",
      "411 patches in SNC_surround_noclass\n",
      "202 patches in SNC_surround_SNR\n",
      "732 patches in LRt_surround_noclass\n",
      "1588 patches in SC_surround_noclass\n",
      "327 patches in SC_surround_IC\n",
      "762 patches in SuVe_surround_noclass\n",
      "6 patches in SuVe_surround_5N\n",
      "563 patches in 7n_surround_noclass\n",
      "1023 patches in IC_surround_noclass\n",
      "307 patches in IC_surround_SC\n",
      "1230 patches in Sp5C_surround_noclass\n",
      "1259 patches in SNR_surround_noclass\n",
      "33 patches in SNR_surround_SNC\n",
      "605 patches in DC_surround_noclass\n",
      "15839 patches in bg\n",
      "2472 patches in SC\n",
      "154 patches in LRt\n",
      "201 patches in SuVe\n",
      "38 patches in LVe\n"
     ]
    },
    {
     "name": "stderr",
     "output_type": "stream",
     "text": [
      "Analyzing section 165..\n"
     ]
    },
    {
     "name": "stdout",
     "output_type": "stream",
     "text": [
      "616 patches in SNR\n",
      "89 patches in 7n\n",
      "34 patches in SNC\n",
      "1417 patches in IC\n",
      "302 patches in VLL\n",
      "776 patches in Sp5C\n",
      "29 patches in DC\n",
      "105 patches in LSO\n",
      "36 patches in Amb\n",
      "366 patches in 7N\n",
      "462 patches in APT\n",
      "47 patches in Li\n",
      "330 patches in 5N\n",
      "1605 patches in SC_surround_noclass\n",
      "355 patches in SC_surround_IC\n",
      "788 patches in LRt_surround_noclass\n",
      "27 patches in LRt_surround_Li\n",
      "741 patches in SuVe_surround_noclass\n",
      "24 patches in SuVe_surround_LVe\n",
      "17 patches in SuVe_surround_5N\n",
      "371 patches in LVe_surround_noclass\n",
      "20 patches in LVe_surround_DC\n",
      "77 patches in LVe_surround_SuVe\n",
      "1307 patches in SNR_surround_noclass\n",
      "34 patches in SNR_surround_SNC\n",
      "592 patches in 7n_surround_noclass\n",
      "447 patches in SNC_surround_noclass\n",
      "209 patches in SNC_surround_SNR\n",
      "998 patches in IC_surround_noclass\n",
      "325 patches in IC_surround_SC\n",
      "892 patches in VLL_surround_noclass\n",
      "1270 patches in Sp5C_surround_noclass\n",
      "615 patches in DC_surround_noclass\n",
      "37 patches in DC_surround_LVe\n",
      "573 patches in LSO_surround_noclass\n",
      "6 patches in LSO_surround_7N\n",
      "428 patches in Amb_surround_noclass\n",
      "7 patches in Amb_surround_Li\n",
      "820 patches in 7N_surround_noclass\n",
      "8 patches in 7N_surround_LSO\n",
      "1000 patches in APT_surround_noclass\n",
      "442 patches in Li_surround_noclass\n",
      "6 patches in Li_surround_Amb\n",
      "16 patches in Li_surround_LRt\n",
      "894 patches in 5N_surround_noclass\n",
      "10 patches in 5N_surround_SuVe\n",
      "15292 patches in bg\n",
      "469 patches in APT\n",
      "263 patches in 5N\n",
      "305 patches in VLL\n",
      "349 patches in 7N\n"
     ]
    },
    {
     "name": "stderr",
     "output_type": "stream",
     "text": [
      "Analyzing section 166..\n"
     ]
    },
    {
     "name": "stdout",
     "output_type": "stream",
     "text": [
      "186 patches in SuVe\n",
      "780 patches in Sp5C\n",
      "25 patches in SNC\n",
      "2459 patches in SC\n",
      "86 patches in 7n\n",
      "1411 patches in IC\n",
      "90 patches in LSO\n",
      "602 patches in SNR\n",
      "36 patches in Amb\n",
      "147 patches in LRt\n",
      "995 patches in APT_surround_noclass\n",
      "825 patches in 5N_surround_noclass\n",
      "3 patches in 5N_surround_SuVe\n",
      "893 patches in VLL_surround_noclass\n",
      "820 patches in 7N_surround_noclass\n",
      "3 patches in 7N_surround_LSO\n",
      "733 patches in SuVe_surround_noclass\n",
      "3 patches in SuVe_surround_5N\n",
      "1225 patches in Sp5C_surround_noclass\n",
      "408 patches in SNC_surround_noclass\n",
      "193 patches in SNC_surround_SNR\n",
      "1590 patches in SC_surround_noclass\n",
      "327 patches in SC_surround_IC\n",
      "568 patches in 7n_surround_noclass\n",
      "1012 patches in IC_surround_noclass\n",
      "310 patches in IC_surround_SC\n",
      "553 patches in LSO_surround_noclass\n",
      "1 patches in LSO_surround_7N\n",
      "1266 patches in SNR_surround_noclass\n",
      "25 patches in SNR_surround_SNC\n",
      "453 patches in Amb_surround_noclass\n",
      "775 patches in LRt_surround_noclass\n",
      "15313 patches in bg\n"
     ]
    },
    {
     "name": "stderr",
     "output_type": "stream",
     "text": [
      "Analyzing section 167..\n"
     ]
    },
    {
     "name": "stdout",
     "output_type": "stream",
     "text": [
      "1431 patches in IC\n",
      "780 patches in Sp5C\n",
      "2449 patches in SC\n",
      "491 patches in APT\n",
      "22 patches in SNC\n",
      "313 patches in VLL\n",
      "148 patches in LRt\n",
      "212 patches in 5N\n",
      "595 patches in SNR\n",
      "85 patches in 7n\n",
      "89 patches in LSO\n",
      "345 patches in 7N\n",
      "41 patches in Amb\n",
      "181 patches in SuVe\n",
      "1026 patches in IC_surround_noclass\n",
      "306 patches in IC_surround_SC\n",
      "1225 patches in Sp5C_surround_noclass\n",
      "1590 patches in SC_surround_noclass\n",
      "323 patches in SC_surround_IC\n",
      "1013 patches in APT_surround_noclass\n",
      "387 patches in SNC_surround_noclass\n",
      "191 patches in SNC_surround_SNR\n",
      "924 patches in VLL_surround_noclass\n",
      "749 patches in LRt_surround_noclass\n",
      "783 patches in 5N_surround_noclass\n",
      "1251 patches in SNR_surround_noclass\n",
      "22 patches in SNR_surround_SNC\n",
      "578 patches in 7n_surround_noclass\n",
      "535 patches in LSO_surround_noclass\n",
      "1 patches in LSO_surround_7N\n",
      "832 patches in 7N_surround_noclass\n",
      "2 patches in 7N_surround_LSO\n",
      "462 patches in Amb_surround_noclass\n",
      "747 patches in SuVe_surround_noclass\n",
      "15046 patches in bg\n",
      "1452 patches in IC\n",
      "48 patches in Amb\n"
     ]
    },
    {
     "name": "stderr",
     "output_type": "stream",
     "text": [
      "Analyzing section 168..\n"
     ]
    },
    {
     "name": "stdout",
     "output_type": "stream",
     "text": [
      "585 patches in SNR\n",
      "163 patches in 5N\n",
      "17 patches in SNC\n",
      "526 patches in APT\n",
      "783 patches in Sp5C\n",
      "319 patches in VLL\n",
      "79 patches in LSO\n",
      "332 patches in 7N\n",
      "147 patches in LRt\n",
      "2455 patches in SC\n",
      "171 patches in SuVe\n",
      "90 patches in 7n\n",
      "1039 patches in IC_surround_noclass\n",
      "300 patches in IC_surround_SC\n",
      "483 patches in Amb_surround_noclass\n",
      "1237 patches in SNR_surround_noclass\n",
      "17 patches in SNR_surround_SNC\n",
      "730 patches in 5N_surround_noclass\n",
      "364 patches in SNC_surround_noclass\n",
      "188 patches in SNC_surround_SNR\n",
      "1031 patches in APT_surround_noclass\n",
      "1264 patches in Sp5C_surround_noclass\n",
      "964 patches in VLL_surround_noclass\n",
      "528 patches in LSO_surround_noclass\n",
      "853 patches in 7N_surround_noclass\n",
      "773 patches in LRt_surround_noclass\n",
      "1578 patches in SC_surround_noclass\n",
      "318 patches in SC_surround_IC\n",
      "729 patches in SuVe_surround_noclass\n",
      "571 patches in 7n_surround_noclass\n",
      "14691 patches in bg\n",
      "163 patches in SuVe\n",
      "319 patches in VLL\n",
      "119 patches in 5N\n"
     ]
    },
    {
     "name": "stderr",
     "output_type": "stream",
     "text": [
      "Analyzing section 169..\n"
     ]
    },
    {
     "name": "stdout",
     "output_type": "stream",
     "text": [
      "13 patches in SNC\n",
      "576 patches in SNR\n",
      "2439 patches in SC\n",
      "51 patches in Amb\n",
      "786 patches in Sp5C\n",
      "71 patches in LSO\n",
      "89 patches in 7n\n",
      "150 patches in LRt\n",
      "1461 patches in IC\n",
      "328 patches in 7N\n",
      "538 patches in APT\n",
      "742 patches in SuVe_surround_noclass\n",
      "994 patches in VLL_surround_noclass\n",
      "694 patches in 5N_surround_noclass\n",
      "339 patches in SNC_surround_noclass\n",
      "189 patches in SNC_surround_SNR\n",
      "1223 patches in SNR_surround_noclass\n",
      "13 patches in SNR_surround_SNC\n",
      "1593 patches in SC_surround_noclass\n",
      "307 patches in SC_surround_IC\n",
      "513 patches in Amb_surround_noclass\n",
      "1235 patches in Sp5C_surround_noclass\n",
      "515 patches in LSO_surround_noclass\n",
      "2 patches in LSO_surround_7N\n",
      "599 patches in 7n_surround_noclass\n",
      "770 patches in LRt_surround_noclass\n",
      "1049 patches in IC_surround_noclass\n",
      "283 patches in IC_surround_SC\n",
      "769 patches in 7N_surround_noclass\n",
      "1057 patches in APT_surround_noclass\n",
      "14763 patches in bg\n"
     ]
    },
    {
     "name": "stderr",
     "output_type": "stream",
     "text": [
      "Analyzing section 170..\n"
     ]
    },
    {
     "name": "stdout",
     "output_type": "stream",
     "text": [
      "314 patches in MPB\n",
      "95 patches in 5N\n",
      "588 patches in APT\n",
      "97 patches in 7n\n",
      "42 patches in LPB\n",
      "10 patches in SNC\n",
      "157 patches in SuVe\n",
      "1489 patches in IC\n",
      "73 patches in LSO\n",
      "2469 patches in SC\n",
      "575 patches in SNR\n",
      "321 patches in 7N\n",
      "322 patches in VLL\n",
      "151 patches in LRt\n",
      "61 patches in Amb\n",
      "799 patches in Sp5C\n",
      "870 patches in MPB_surround_noclass\n",
      "80 patches in MPB_surround_SuVe\n",
      "15 patches in MPB_surround_LPB\n",
      "664 patches in 5N_surround_noclass\n",
      "1089 patches in APT_surround_noclass\n",
      "613 patches in 7n_surround_noclass\n",
      "436 patches in LPB_surround_noclass\n",
      "52 patches in LPB_surround_MPB\n",
      "348 patches in SNC_surround_noclass\n",
      "198 patches in SNC_surround_SNR\n",
      "680 patches in SuVe_surround_noclass\n",
      "90 patches in SuVe_surround_MPB\n",
      "1077 patches in IC_surround_noclass\n",
      "291 patches in IC_surround_SC\n",
      "515 patches in LSO_surround_noclass\n",
      "4 patches in LSO_surround_7N\n",
      "1588 patches in SC_surround_noclass\n",
      "307 patches in SC_surround_IC\n",
      "1230 patches in SNR_surround_noclass\n",
      "10 patches in SNR_surround_SNC\n",
      "819 patches in 7N_surround_noclass\n",
      "2 patches in 7N_surround_LSO\n",
      "1064 patches in VLL_surround_noclass\n",
      "758 patches in LRt_surround_noclass\n",
      "547 patches in Amb_surround_noclass\n",
      "1293 patches in Sp5C_surround_noclass\n",
      "14570 patches in bg\n",
      "11 patches in SNC\n",
      "542 patches in SNR\n",
      "84 patches in 7n\n",
      "311 patches in 7N\n"
     ]
    },
    {
     "name": "stderr",
     "output_type": "stream",
     "text": [
      "Analyzing section 171..\n"
     ]
    },
    {
     "name": "stdout",
     "output_type": "stream",
     "text": [
      "1397 patches in IC\n",
      "146 patches in LRt\n",
      "2468 patches in SC\n",
      "333 patches in SNC_surround_noclass\n",
      "194 patches in SNC_surround_SNR\n",
      "1178 patches in SNR_surround_noclass\n",
      "11 patches in SNR_surround_SNC\n",
      "579 patches in 7n_surround_noclass\n",
      "759 patches in 7N_surround_noclass\n",
      "1076 patches in IC_surround_noclass\n",
      "256 patches in IC_surround_SC\n",
      "747 patches in LRt_surround_noclass\n",
      "1627 patches in SC_surround_noclass\n",
      "266 patches in SC_surround_IC\n",
      "14578 patches in bg\n",
      "18 patches in SNC\n",
      "85 patches in 7n\n",
      "521 patches in SNR\n",
      "154 patches in LRt\n"
     ]
    },
    {
     "name": "stderr",
     "output_type": "stream",
     "text": [
      "Analyzing section 172..\n"
     ]
    },
    {
     "name": "stdout",
     "output_type": "stream",
     "text": [
      "2480 patches in SC\n",
      "304 patches in 7N\n",
      "1330 patches in IC\n",
      "339 patches in SNC_surround_noclass\n",
      "190 patches in SNC_surround_SNR\n",
      "570 patches in 7n_surround_noclass\n",
      "1155 patches in SNR_surround_noclass\n",
      "18 patches in SNR_surround_SNC\n",
      "753 patches in LRt_surround_noclass\n",
      "1659 patches in SC_surround_noclass\n",
      "240 patches in SC_surround_IC\n",
      "808 patches in 7N_surround_noclass\n",
      "1073 patches in IC_surround_noclass\n",
      "225 patches in IC_surround_SC\n",
      "14338 patches in bg\n"
     ]
    },
    {
     "name": "stderr",
     "output_type": "stream",
     "text": [
      "Analyzing section 173..\n"
     ]
    },
    {
     "name": "stdout",
     "output_type": "stream",
     "text": [
      "155 patches in LRt\n",
      "23 patches in SNC\n",
      "2491 patches in SC\n",
      "496 patches in SNR\n",
      "1240 patches in IC\n",
      "299 patches in 7N\n",
      "78 patches in 7n\n",
      "755 patches in LRt_surround_noclass\n",
      "351 patches in SNC_surround_noclass\n",
      "196 patches in SNC_surround_SNR\n",
      "1700 patches in SC_surround_noclass\n",
      "208 patches in SC_surround_IC\n",
      "1122 patches in SNR_surround_noclass\n",
      "23 patches in SNR_surround_SNC\n",
      "1057 patches in IC_surround_noclass\n",
      "197 patches in IC_surround_SC\n",
      "782 patches in 7N_surround_noclass\n",
      "566 patches in 7n_surround_noclass\n",
      "14207 patches in bg\n"
     ]
    },
    {
     "name": "stderr",
     "output_type": "stream",
     "text": [
      "Analyzing section 174..\n"
     ]
    },
    {
     "name": "stdout",
     "output_type": "stream",
     "text": [
      "1178 patches in IC\n",
      "163 patches in LRt\n",
      "26 patches in SNC\n",
      "290 patches in 7N\n",
      "76 patches in 7n\n",
      "477 patches in SNR\n",
      "2505 patches in SC\n",
      "1064 patches in IC_surround_noclass\n",
      "179 patches in IC_surround_SC\n",
      "740 patches in LRt_surround_noclass\n",
      "367 patches in SNC_surround_noclass\n",
      "198 patches in SNC_surround_SNR\n",
      "792 patches in 7N_surround_noclass\n",
      "555 patches in 7n_surround_noclass\n",
      "1097 patches in SNR_surround_noclass\n",
      "26 patches in SNR_surround_SNC\n",
      "1719 patches in SC_surround_noclass\n",
      "196 patches in SC_surround_IC\n",
      "14421 patches in bg\n"
     ]
    },
    {
     "name": "stderr",
     "output_type": "stream",
     "text": [
      "Analyzing section 175..\n"
     ]
    },
    {
     "name": "stdout",
     "output_type": "stream",
     "text": [
      "36 patches in SNC\n",
      "2529 patches in SC\n",
      "289 patches in 7N\n",
      "460 patches in SNR\n",
      "11 patches in Pn\n",
      "174 patches in LRt\n",
      "1101 patches in IC\n",
      "35 patches in LC\n",
      "87 patches in 7n\n",
      "394 patches in SNC_surround_noclass\n",
      "213 patches in SNC_surround_SNR\n",
      "1757 patches in SC_surround_noclass\n",
      "154 patches in SC_surround_IC\n",
      "788 patches in 7N_surround_noclass\n",
      "1068 patches in SNR_surround_noclass\n",
      "36 patches in SNR_surround_SNC\n",
      "536 patches in Pn_surround_noclass\n",
      "751 patches in LRt_surround_noclass\n",
      "1067 patches in IC_surround_noclass\n",
      "149 patches in IC_surround_SC\n",
      "569 patches in LC_surround_noclass\n",
      "568 patches in 7n_surround_noclass\n",
      "14286 patches in bg\n"
     ]
    },
    {
     "name": "stderr",
     "output_type": "stream",
     "text": [
      "Analyzing section 176..\n"
     ]
    },
    {
     "name": "stdout",
     "output_type": "stream",
     "text": [
      "2549 patches in SC\n",
      "53 patches in LC\n",
      "39 patches in SNC\n",
      "239 patches in 7N\n",
      "1055 patches in IC\n",
      "27 patches in Pn\n",
      "185 patches in LRt\n",
      "441 patches in SNR\n",
      "77 patches in 7n\n",
      "1759 patches in SC_surround_noclass\n",
      "173 patches in SC_surround_IC\n",
      "579 patches in LC_surround_noclass\n",
      "392 patches in SNC_surround_noclass\n",
      "200 patches in SNC_surround_SNR\n",
      "768 patches in 7N_surround_noclass\n",
      "1045 patches in IC_surround_noclass\n",
      "160 patches in IC_surround_SC\n",
      "529 patches in Pn_surround_noclass\n",
      "766 patches in LRt_surround_noclass\n",
      "1038 patches in SNR_surround_noclass\n",
      "39 patches in SNR_surround_SNC\n",
      "537 patches in 7n_surround_noclass\n",
      "14012 patches in bg\n",
      "424 patches in SNR\n",
      "82 patches in 7n\n",
      "179 patches in 7N\n"
     ]
    },
    {
     "name": "stderr",
     "output_type": "stream",
     "text": [
      "Analyzing section 177..\n"
     ]
    },
    {
     "name": "stdout",
     "output_type": "stream",
     "text": [
      "2552 patches in SC\n",
      "224 patches in LRt\n",
      "47 patches in SNC\n",
      "1029 patches in IC\n",
      "79 patches in LC\n",
      "49 patches in Pn\n",
      "1001 patches in SNR_surround_noclass\n",
      "47 patches in SNR_surround_SNC\n",
      "542 patches in 7n_surround_noclass\n",
      "787 patches in 7N_surround_noclass\n",
      "1773 patches in SC_surround_noclass\n",
      "178 patches in SC_surround_IC\n",
      "817 patches in LRt_surround_noclass\n",
      "413 patches in SNC_surround_noclass\n",
      "198 patches in SNC_surround_SNR\n",
      "1017 patches in IC_surround_noclass\n",
      "164 patches in IC_surround_SC\n",
      "664 patches in LC_surround_noclass\n",
      "553 patches in Pn_surround_noclass\n",
      "13894 patches in bg\n",
      "75 patches in 7n\n",
      "197 patches in 7N\n"
     ]
    },
    {
     "name": "stderr",
     "output_type": "stream",
     "text": [
      "Analyzing section 178..\n"
     ]
    },
    {
     "name": "stdout",
     "output_type": "stream",
     "text": [
      "2575 patches in SC\n",
      "57 patches in SNC\n",
      "1001 patches in IC\n",
      "110 patches in LC\n",
      "67 patches in Pn\n",
      "219 patches in LRt\n",
      "415 patches in SNR\n",
      "538 patches in 7n_surround_noclass\n",
      "768 patches in 7N_surround_noclass\n",
      "1766 patches in SC_surround_noclass\n",
      "194 patches in SC_surround_IC\n",
      "423 patches in SNC_surround_noclass\n",
      "199 patches in SNC_surround_SNR\n",
      "993 patches in IC_surround_noclass\n",
      "182 patches in IC_surround_SC\n",
      "671 patches in LC_surround_noclass\n",
      "561 patches in Pn_surround_noclass\n",
      "808 patches in LRt_surround_noclass\n",
      "965 patches in SNR_surround_noclass\n",
      "57 patches in SNR_surround_SNC\n",
      "13737 patches in bg\n"
     ]
    },
    {
     "name": "stderr",
     "output_type": "stream",
     "text": [
      "Analyzing section 179..\n"
     ]
    },
    {
     "name": "stdout",
     "output_type": "stream",
     "text": [
      "220 patches in LRt\n",
      "63 patches in SNC\n",
      "73 patches in 7n\n",
      "972 patches in IC\n",
      "213 patches in 7N\n",
      "399 patches in SNR\n",
      "2589 patches in SC\n",
      "147 patches in LC\n",
      "95 patches in Pn\n",
      "814 patches in LRt_surround_noclass\n",
      "438 patches in SNC_surround_noclass\n",
      "200 patches in SNC_surround_SNR\n",
      "530 patches in 7n_surround_noclass\n",
      "973 patches in IC_surround_noclass\n",
      "185 patches in IC_surround_SC\n",
      "785 patches in 7N_surround_noclass\n",
      "947 patches in SNR_surround_noclass\n",
      "63 patches in SNR_surround_SNC\n",
      "1769 patches in SC_surround_noclass\n",
      "202 patches in SC_surround_IC\n",
      "727 patches in LC_surround_noclass\n",
      "587 patches in Pn_surround_noclass\n",
      "13702 patches in bg\n",
      "934 patches in IC\n",
      "78 patches in SNC\n",
      "395 patches in SNR\n",
      "286 patches in Sol\n"
     ]
    },
    {
     "name": "stderr",
     "output_type": "stream",
     "text": [
      "Analyzing section 180..\n"
     ]
    },
    {
     "name": "stdout",
     "output_type": "stream",
     "text": [
      "246 patches in 7N\n",
      "2611 patches in SC\n",
      "220 patches in LRt\n",
      "79 patches in 7n\n",
      "137 patches in Pn\n",
      "206 patches in LC\n",
      "935 patches in IC_surround_noclass\n",
      "194 patches in IC_surround_SC\n",
      "469 patches in SNC_surround_noclass\n",
      "220 patches in SNC_surround_SNR\n",
      "932 patches in SNR_surround_noclass\n",
      "78 patches in SNR_surround_SNC\n",
      "1142 patches in Sol_surround_noclass\n",
      "812 patches in 7N_surround_noclass\n",
      "1756 patches in SC_surround_noclass\n",
      "207 patches in SC_surround_IC\n",
      "817 patches in LRt_surround_noclass\n",
      "533 patches in 7n_surround_noclass\n",
      "628 patches in Pn_surround_noclass\n",
      "816 patches in LC_surround_noclass\n",
      "13539 patches in bg\n",
      "2620 patches in SC\n",
      "67 patches in SNC\n",
      "296 patches in LC\n"
     ]
    },
    {
     "name": "stderr",
     "output_type": "stream",
     "text": [
      "Analyzing section 181..\n"
     ]
    },
    {
     "name": "stdout",
     "output_type": "stream",
     "text": [
      "228 patches in LRt\n",
      "248 patches in 7N\n",
      "146 patches in Pn\n",
      "915 patches in IC\n",
      "350 patches in SNR\n",
      "69 patches in 7n\n",
      "1760 patches in SC_surround_noclass\n",
      "222 patches in SC_surround_IC\n",
      "423 patches in SNC_surround_noclass\n",
      "212 patches in SNC_surround_SNR\n",
      "874 patches in LC_surround_noclass\n",
      "824 patches in LRt_surround_noclass\n",
      "795 patches in 7N_surround_noclass\n",
      "625 patches in Pn_surround_noclass\n",
      "921 patches in IC_surround_noclass\n",
      "204 patches in IC_surround_SC\n",
      "877 patches in SNR_surround_noclass\n",
      "67 patches in SNR_surround_SNC\n",
      "513 patches in 7n_surround_noclass\n",
      "13558 patches in bg\n",
      "302 patches in SNR\n",
      "2635 patches in "
     ]
    },
    {
     "name": "stderr",
     "output_type": "stream",
     "text": [
      "Analyzing section 182..\n"
     ]
    },
    {
     "name": "stdout",
     "output_type": "stream",
     "text": [
      "SC\n",
      "230 patches in LRt\n",
      "53 patches in SNC\n",
      "168 patches in Pn\n",
      "264 patches in 7N\n",
      "68 patches in 7n\n",
      "241 patches in LC\n",
      "881 patches in IC\n",
      "864 patches in SNR_surround_noclass\n",
      "53 patches in SNR_surround_SNC\n",
      "1772 patches in SC_surround_noclass\n",
      "232 patches in SC_surround_IC\n",
      "831 patches in LRt_surround_noclass\n",
      "412 patches in SNC_surround_noclass\n",
      "203 patches in SNC_surround_SNR\n",
      "660 patches in Pn_surround_noclass\n",
      "795 patches in 7N_surround_noclass\n",
      "505 patches in 7n_surround_noclass\n",
      "804 patches in LC_surround_noclass\n",
      "898 patches in IC_surround_noclass\n",
      "214 patches in IC_surround_SC\n",
      "13910 patches in bg\n",
      "183 patches in Pn\n",
      "203 patches in LC\n",
      "2644 patches in SC\n"
     ]
    },
    {
     "name": "stderr",
     "output_type": "stream",
     "text": [
      "Analyzing section 183..\n"
     ]
    },
    {
     "name": "stdout",
     "output_type": "stream",
     "text": [
      "61 patches in 7n\n",
      "278 patches in 7N\n",
      "272 patches in SNR\n",
      "853 patches in IC\n",
      "231 patches in LRt\n",
      "45 patches in SNC\n",
      "670 patches in Pn_surround_noclass\n",
      "764 patches in LC_surround_noclass\n",
      "1775 patches in SC_surround_noclass\n",
      "237 patches in SC_surround_IC\n",
      "498 patches in 7n_surround_noclass\n",
      "796 patches in 7N_surround_noclass\n",
      "828 patches in SNR_surround_noclass\n",
      "45 patches in SNR_surround_SNC\n",
      "886 patches in IC_surround_noclass\n",
      "217 patches in IC_surround_SC\n",
      "832 patches in LRt_surround_noclass\n",
      "398 patches in SNC_surround_noclass\n",
      "202 patches in SNC_surround_SNR\n",
      "13872 patches in bg\n",
      "205 patches in Pn\n"
     ]
    },
    {
     "name": "stderr",
     "output_type": "stream",
     "text": [
      "Analyzing section 184..\n"
     ]
    },
    {
     "name": "stdout",
     "output_type": "stream",
     "text": [
      "293 patches in 7N\n",
      "2664 patches in SC\n",
      "820 patches in IC\n",
      "60 patches in 7n\n",
      "167 patches in LC\n",
      "39 patches in SNC\n",
      "232 patches in LRt\n",
      "224 patches in SNR\n",
      "693 patches in Pn_surround_noclass\n",
      "769 patches in 7N_surround_noclass\n",
      "1775 patches in SC_surround_noclass\n",
      "240 patches in SC_surround_IC\n",
      "848 patches in IC_surround_noclass\n",
      "223 patches in IC_surround_SC\n",
      "491 patches in 7n_surround_noclass\n",
      "714 patches in LC_surround_noclass\n",
      "387 patches in SNC_surround_noclass\n",
      "190 patches in SNC_surround_SNR\n",
      "842 patches in LRt_surround_noclass\n",
      "805 patches in SNR_surround_noclass\n",
      "39 patches in SNR_surround_SNC\n",
      "13864 patches in bg\n",
      "63 patches in 7n\n",
      "139 patches in LC\n",
      "318 patches in 7N\n"
     ]
    },
    {
     "name": "stderr",
     "output_type": "stream",
     "text": [
      "Analyzing section 185..\n"
     ]
    },
    {
     "name": "stdout",
     "output_type": "stream",
     "text": [
      "244 patches in LRt\n",
      "812 patches in IC\n",
      "31 patches in SNC\n",
      "213 patches in Pn\n",
      "2699 patches in SC\n",
      "290 patches in Sol\n",
      "207 patches in SNR\n",
      "494 patches in 7n_surround_noclass\n",
      "690 patches in LC_surround_noclass\n",
      "773 patches in 7N_surround_noclass\n",
      "844 patches in LRt_surround_noclass\n",
      "826 patches in IC_surround_noclass\n",
      "249 patches in IC_surround_SC\n",
      "406 patches in SNC_surround_noclass\n",
      "192 patches in SNC_surround_SNR\n",
      "736 patches in Pn_surround_noclass\n",
      "1779 patches in SC_surround_noclass\n",
      "267 patches in SC_surround_IC\n",
      "977 patches in Sol_surround_noclass\n",
      "796 patches in SNR_surround_noclass\n",
      "31 patches in SNR_surround_SNC\n",
      "13796 patches in bg\n",
      "2668 patches in SC\n"
     ]
    },
    {
     "name": "stderr",
     "output_type": "stream",
     "text": [
      "Analyzing section 186..\n"
     ]
    },
    {
     "name": "stdout",
     "output_type": "stream",
     "text": [
      "193 patches in SNR\n",
      "59 patches in 7n\n",
      "290 patches in 7N\n",
      "34 patches in SNC\n",
      "239 patches in Pn\n",
      "207 patches in LRt\n",
      "765 patches in IC\n",
      "1785 patches in SC_surround_noclass\n",
      "235 patches in SC_surround_IC\n",
      "760 patches in SNR_surround_noclass\n",
      "34 patches in SNR_surround_SNC\n",
      "486 patches in 7n_surround_noclass\n",
      "774 patches in 7N_surround_noclass\n",
      "373 patches in SNC_surround_noclass\n",
      "175 patches in SNC_surround_SNR\n",
      "744 patches in Pn_surround_noclass\n",
      "813 patches in LRt_surround_noclass\n",
      "809 patches in IC_surround_noclass\n",
      "226 patches in IC_surround_SC\n",
      "13649 patches in bg\n"
     ]
    },
    {
     "name": "stderr",
     "output_type": "stream",
     "text": [
      "Analyzing section 187..\n"
     ]
    },
    {
     "name": "stdout",
     "output_type": "stream",
     "text": [
      "257 patches in Pn\n",
      "744 patches in IC\n",
      "186 patches in SNR\n",
      "57 patches in 7n\n",
      "36 patches in SNC\n",
      "177 patches in LRt\n",
      "2657 patches in SC\n",
      "283 patches in 7N\n",
      "744 patches in Pn_surround_noclass\n",
      "828 patches in IC_surround_noclass\n",
      "209 patches in IC_surround_SC\n",
      "731 patches in SNR_surround_noclass\n",
      "36 patches in SNR_surround_SNC\n",
      "483 patches in 7n_surround_noclass\n",
      "381 patches in SNC_surround_noclass\n",
      "165 patches in SNC_surround_SNR\n",
      "785 patches in LRt_surround_noclass\n",
      "1793 patches in SC_surround_noclass\n",
      "219 patches in SC_surround_IC\n",
      "740 patches in 7N_surround_noclass\n",
      "13698 patches in bg\n",
      "154 patches in LRt\n",
      "278 patches in Pn\n"
     ]
    },
    {
     "name": "stderr",
     "output_type": "stream",
     "text": [
      "Analyzing section 188..\n"
     ]
    },
    {
     "name": "stdout",
     "output_type": "stream",
     "text": [
      "722 patches in IC\n",
      "58 patches in 7n\n",
      "2638 patches in SC\n",
      "38 patches in SNC\n",
      "177 patches in SNR\n",
      "271 patches in 7N\n",
      "732 patches in LRt_surround_noclass\n",
      "766 patches in Pn_surround_noclass\n",
      "830 patches in IC_surround_noclass\n",
      "198 patches in IC_surround_SC\n",
      "483 patches in 7n_surround_noclass\n",
      "1812 patches in SC_surround_noclass\n",
      "205 patches in SC_surround_IC\n",
      "396 patches in SNC_surround_noclass\n",
      "148 patches in SNC_surround_SNR\n",
      "721 patches in SNR_surround_noclass\n",
      "38 patches in SNR_surround_SNC\n",
      "705 patches in 7N_surround_noclass\n",
      "13799 patches in bg\n"
     ]
    },
    {
     "name": "stderr",
     "output_type": "stream",
     "text": [
      "Analyzing section 189..\n"
     ]
    },
    {
     "name": "stdout",
     "output_type": "stream",
     "text": [
      "2615 patches in SC\n",
      "42 patches in SNC\n",
      "260 patches in 7N\n",
      "55 patches in 7n\n",
      "125 patches in LRt\n",
      "694 patches in IC\n",
      "303 patches in Pn\n",
      "169 patches in SNR\n",
      "1813 patches in SC_surround_noclass\n",
      "194 patches in SC_surround_IC\n",
      "394 patches in SNC_surround_noclass\n",
      "138 patches in SNC_surround_SNR\n",
      "717 patches in 7N_surround_noclass\n",
      "483 patches in 7n_surround_noclass\n",
      "675 patches in LRt_surround_noclass\n",
      "830 patches in IC_surround_noclass\n",
      "186 patches in IC_surround_SC\n",
      "830 patches in Pn_surround_noclass\n",
      "698 patches in SNR_surround_noclass\n",
      "42 patches in SNR_surround_SNC\n",
      "13749 patches in bg\n",
      "45 patches in SNC\n"
     ]
    },
    {
     "name": "stderr",
     "output_type": "stream",
     "text": [
      "Analyzing section 190..\n"
     ]
    },
    {
     "name": "stdout",
     "output_type": "stream",
     "text": [
      "110 patches in LRt\n",
      "60 patches in 7n\n",
      "69 patches in Gr\n",
      "394 patches in R\n",
      "47 patches in RMC\n",
      "337 patches in Pn\n",
      "166 patches in SNR\n",
      "2587 patches in SC\n",
      "675 patches in IC\n",
      "260 patches in 7N\n",
      "429 patches in SNC_surround_noclass\n",
      "132 patches in SNC_surround_SNR\n",
      "666 patches in LRt_surround_noclass\n",
      "487 patches in 7n_surround_noclass\n",
      "433 patches in Gr_surround_noclass\n",
      "903 patches in R_surround_noclass\n",
      "47 patches in R_surround_RMC\n",
      "300 patches in RMC_surround_noclass\n",
      "208 patches in RMC_surround_R\n",
      "904 patches in Pn_surround_noclass\n",
      "710 patches in SNR_surround_noclass\n",
      "45 patches in SNR_surround_SNC\n",
      "1803 patches in SC_surround_noclass\n",
      "179 patches in SC_surround_IC\n",
      "823 patches in IC_surround_noclass\n",
      "173 patches in IC_surround_SC\n",
      "687 patches in 7N_surround_noclass\n",
      "13636 patches in bg\n",
      "208 patches in 7N\n",
      "641 patches in IC\n",
      "54 patches in RMC\n"
     ]
    },
    {
     "name": "stderr",
     "output_type": "stream",
     "text": [
      "Analyzing section 191..\n"
     ]
    },
    {
     "name": "stdout",
     "output_type": "stream",
     "text": [
      "52 patches in 7n\n",
      "333 patches in Pn\n",
      "2577 patches in SC\n",
      "680 patches in 7N_surround_noclass\n",
      "835 patches in IC_surround_noclass\n",
      "160 patches in IC_surround_SC\n",
      "474 patches in RMC_surround_noclass\n",
      "479 patches in 7n_surround_noclass\n",
      "819 patches in Pn_surround_noclass\n",
      "1842 patches in SC_surround_noclass\n",
      "159 patches in SC_surround_IC\n",
      "13584 patches in bg\n"
     ]
    },
    {
     "name": "stderr",
     "output_type": "stream",
     "text": [
      "Analyzing section 192..\n"
     ]
    },
    {
     "name": "stdout",
     "output_type": "stream",
     "text": [
      "54 patches in 7n\n",
      "337 patches in Pn\n",
      "612 patches in IC\n",
      "171 patches in 7N\n",
      "63 patches in RMC\n",
      "2557 patches in SC\n",
      "489 patches in 7n_surround_noclass\n",
      "780 patches in Pn_surround_noclass\n",
      "837 patches in IC_surround_noclass\n",
      "150 patches in IC_surround_SC\n",
      "650 patches in 7N_surround_noclass\n",
      "493 patches in RMC_surround_noclass\n",
      "1808 patches in SC_surround_noclass\n",
      "148 patches in SC_surround_IC\n",
      "13307 patches in bg\n"
     ]
    },
    {
     "name": "stderr",
     "output_type": "stream",
     "text": [
      "Analyzing section 193..\n"
     ]
    },
    {
     "name": "stdout",
     "output_type": "stream",
     "text": [
      "2537 patches in SC\n",
      "340 patches in Pn\n",
      "600 patches in IC\n",
      "61 patches in 7n\n",
      "142 patches in 7N\n",
      "75 patches in RMC\n",
      "1834 patches in SC_surround_noclass\n",
      "139 patches in SC_surround_IC\n",
      "778 patches in Pn_surround_noclass\n",
      "834 patches in IC_surround_noclass\n",
      "140 patches in IC_surround_SC\n",
      "489 patches in 7n_surround_noclass\n",
      "620 patches in 7N_surround_noclass\n",
      "521 patches in RMC_surround_noclass\n",
      "13652 patches in bg\n",
      "60 patches in 7n\n",
      "327 patches in Pn\n"
     ]
    },
    {
     "name": "stderr",
     "output_type": "stream",
     "text": [
      "Analyzing section 194..\n"
     ]
    },
    {
     "name": "stdout",
     "output_type": "stream",
     "text": [
      "581 patches in IC\n",
      "87 patches in RMC\n",
      "121 patches in 7N\n",
      "2520 patches in SC\n",
      "492 patches in 7n_surround_noclass\n",
      "776 patches in Pn_surround_noclass\n",
      "909 patches in IC_surround_noclass\n",
      "132 patches in IC_surround_SC\n",
      "543 patches in RMC_surround_noclass\n",
      "567 patches in 7N_surround_noclass\n",
      "1861 patches in SC_surround_noclass\n",
      "130 patches in SC_surround_IC\n",
      "13332 patches in bg\n",
      "130 patches in IO\n",
      "332 patches in Pn\n",
      "78 patches in 7N\n"
     ]
    },
    {
     "name": "stderr",
     "output_type": "stream",
     "text": [
      "Analyzing section 195..\n"
     ]
    },
    {
     "name": "stdout",
     "output_type": "stream",
     "text": [
      "2497 patches in SC\n",
      "62 patches in 7n\n",
      "98 patches in RMC\n",
      "553 patches in IC\n",
      "854 patches in IO_surround_noclass\n",
      "802 patches in Pn_surround_noclass\n",
      "527 patches in 7N_surround_noclass\n",
      "1798 patches in SC_surround_noclass\n",
      "113 patches in SC_surround_IC\n",
      "495 patches in 7n_surround_noclass\n",
      "573 patches in RMC_surround_noclass\n",
      "838 patches in IC_surround_noclass\n",
      "120 patches in IC_surround_SC\n",
      "13637 patches in bg\n",
      "531 patches in "
     ]
    },
    {
     "name": "stderr",
     "output_type": "stream",
     "text": [
      "Analyzing section 196..\n"
     ]
    },
    {
     "name": "stdout",
     "output_type": "stream",
     "text": [
      "IC\n",
      "146 patches in IO\n",
      "2476 patches in SC\n",
      "40 patches in 7N\n",
      "66 patches in 7n\n",
      "116 patches in RMC\n",
      "338 patches in Pn\n",
      "838 patches in IC_surround_noclass\n",
      "111 patches in IC_surround_SC\n",
      "781 patches in IO_surround_noclass\n",
      "1787 patches in SC_surround_noclass\n",
      "106 patches in SC_surround_IC\n",
      "463 patches in 7N_surround_noclass\n",
      "502 patches in 7n_surround_noclass\n",
      "598 patches in RMC_surround_noclass\n",
      "759 patches in Pn_surround_noclass\n",
      "13825 patches in bg\n",
      "67 patches in 7n\n"
     ]
    },
    {
     "name": "stderr",
     "output_type": "stream",
     "text": [
      "Analyzing section 197..\n"
     ]
    },
    {
     "name": "stdout",
     "output_type": "stream",
     "text": [
      "126 patches in RMC\n",
      "2447 patches in SC\n",
      "18 patches in 7N\n",
      "337 patches in Pn\n",
      "521 patches in IC\n",
      "162 patches in IO\n",
      "506 patches in 7n_surround_noclass\n",
      "615 patches in RMC_surround_noclass\n",
      "1779 patches in SC_surround_noclass\n",
      "92 patches in SC_surround_IC\n",
      "447 patches in 7N_surround_noclass\n",
      "788 patches in Pn_surround_noclass\n",
      "832 patches in IC_surround_noclass\n",
      "100 patches in IC_surround_SC\n",
      "840 patches in IO_surround_noclass\n",
      "13594 patches in bg\n",
      "142 patches in RMC\n",
      "172 patches in IO\n"
     ]
    },
    {
     "name": "stderr",
     "output_type": "stream",
     "text": [
      "Analyzing section 198..\n"
     ]
    },
    {
     "name": "stdout",
     "output_type": "stream",
     "text": [
      "494 patches in IC\n",
      "69 patches in 7n\n",
      "2417 patches in SC\n",
      "345 patches in Pn\n",
      "649 patches in RMC_surround_noclass\n",
      "851 patches in IO_surround_noclass\n",
      "814 patches in IC_surround_noclass\n",
      "87 patches in IC_surround_SC\n",
      "516 patches in 7n_surround_noclass\n",
      "1783 patches in SC_surround_noclass\n",
      "82 patches in SC_surround_IC\n",
      "778 patches in Pn_surround_noclass\n",
      "13745 patches in bg\n",
      "189 patches in IO\n",
      "153 patches in RMC\n"
     ]
    },
    {
     "name": "stderr",
     "output_type": "stream",
     "text": [
      "Analyzing section 199..\n"
     ]
    },
    {
     "name": "stdout",
     "output_type": "stream",
     "text": [
      "71 patches in 7n\n",
      "350 patches in Pn\n",
      "2415 patches in SC\n",
      "466 patches in IC\n",
      "844 patches in IO_surround_noclass\n",
      "673 patches in RMC_surround_noclass\n",
      "518 patches in 7n_surround_noclass\n",
      "752 patches in Pn_surround_noclass\n",
      "1765 patches in SC_surround_noclass\n",
      "74 patches in SC_surround_IC\n",
      "814 patches in IC_surround_noclass\n",
      "85 patches in IC_surround_SC\n",
      "13862 patches in bg\n",
      "214 patches in VTA\n",
      "189 patches in RMC\n",
      "49 patches in Tz\n"
     ]
    },
    {
     "name": "stderr",
     "output_type": "stream",
     "text": [
      "Analyzing section 200..\n"
     ]
    },
    {
     "name": "stdout",
     "output_type": "stream",
     "text": [
      "2386 patches in SC\n",
      "284 patches in RtTg\n",
      "354 patches in Pn\n",
      "84 patches in Gr\n",
      "450 patches in IC\n",
      "75 patches in 7n\n",
      "303 patches in RPC\n",
      "201 patches in IO\n",
      "747 patches in VTA_surround_noclass\n",
      "497 patches in RMC_surround_noclass\n",
      "223 patches in RMC_surround_RPC\n",
      "475 patches in Tz_surround_noclass\n",
      "13 patches in Tz_surround_RtTg\n",
      "1777 patches in SC_surround_noclass\n",
      "61 patches in SC_surround_IC\n",
      "863 patches in RtTg_surround_noclass\n",
      "14 patches in RtTg_surround_Tz\n",
      "15 patches in RtTg_surround_Pn\n",
      "771 patches in Pn_surround_noclass\n",
      "6 patches in Pn_surround_RtTg\n",
      "404 patches in Gr_surround_noclass\n",
      "826 patches in IC_surround_noclass\n",
      "78 patches in IC_surround_SC\n",
      "537 patches in 7n_surround_noclass\n",
      "815 patches in RPC_surround_noclass\n",
      "165 patches in RPC_surround_RMC\n",
      "841 patches in IO_surround_noclass\n",
      "13845 patches in bg\n"
     ]
    },
    {
     "name": "stderr",
     "output_type": "stream",
     "text": [
      "Analyzing section 201..\n"
     ]
    },
    {
     "name": "stdout",
     "output_type": "stream",
     "text": [
      "174 patches in RMC\n",
      "222 patches in IO\n",
      "2374 patches in SC\n",
      "55 patches in Tz\n",
      "52 patches in 7n\n",
      "438 patches in IC\n",
      "354 patches in Pn\n",
      "211 patches in VTA\n",
      "704 patches in RMC_surround_noclass\n",
      "907 patches in IO_surround_noclass\n",
      "1775 patches in SC_surround_noclass\n",
      "61 patches in SC_surround_IC\n",
      "514 patches in Tz_surround_noclass\n",
      "484 patches in 7n_surround_noclass\n",
      "811 patches in IC_surround_noclass\n",
      "73 patches in IC_surround_SC\n",
      "783 patches in Pn_surround_noclass\n",
      "736 patches in VTA_surround_noclass\n",
      "13771 patches in bg\n",
      "362 patches in Pn\n",
      "67 patches in Tz\n",
      "2341 patches in SC\n"
     ]
    },
    {
     "name": "stderr",
     "output_type": "stream",
     "text": [
      "Analyzing section 202..\n"
     ]
    },
    {
     "name": "stdout",
     "output_type": "stream",
     "text": [
      "426 patches in IC\n",
      "223 patches in VTA\n",
      "174 patches in RMC\n",
      "36 patches in 7n\n",
      "234 patches in IO\n",
      "861 patches in Pn_surround_noclass\n",
      "555 patches in Tz_surround_noclass\n",
      "1780 patches in SC_surround_noclass\n",
      "56 patches in SC_surround_IC\n",
      "821 patches in IC_surround_noclass\n",
      "65 patches in IC_surround_SC\n",
      "747 patches in VTA_surround_noclass\n",
      "700 patches in RMC_surround_noclass\n",
      "445 patches in 7n_surround_noclass\n",
      "907 patches in IO_surround_noclass\n",
      "13735 patches in bg\n",
      "365 patches in Pn\n"
     ]
    },
    {
     "name": "stderr",
     "output_type": "stream",
     "text": [
      "Analyzing section 203..\n"
     ]
    },
    {
     "name": "stdout",
     "output_type": "stream",
     "text": [
      "256 patches in IO\n",
      "81 patches in Tz\n",
      "2318 patches in SC\n",
      "20 patches in 7n\n",
      "242 patches in VTA\n",
      "176 patches in RMC\n",
      "413 patches in IC\n",
      "14 patches in 10N\n",
      "818 patches in Pn_surround_noclass\n",
      "957 patches in IO_surround_noclass\n",
      "653 patches in Tz_surround_noclass\n",
      "1790 patches in SC_surround_noclass\n",
      "52 patches in SC_surround_IC\n",
      "384 patches in 7n_surround_noclass\n",
      "774 patches in VTA_surround_noclass\n",
      "7 patches in VTA_surround_RMC\n",
      "690 patches in RMC_surround_noclass\n",
      "6 patches in RMC_surround_VTA\n",
      "825 patches in IC_surround_noclass\n",
      "63 patches in IC_surround_SC\n",
      "535 patches in 10N_surround_noclass\n",
      "13896 patches in bg\n",
      "2303 patches in SC\n"
     ]
    },
    {
     "name": "stderr",
     "output_type": "stream",
     "text": [
      "Analyzing section 204..\n"
     ]
    },
    {
     "name": "stdout",
     "output_type": "stream",
     "text": [
      "172 patches in RMC\n",
      "406 patches in IC\n",
      "12 patches in 7n\n",
      "266 patches in IO\n",
      "142 patches in Tz\n",
      "261 patches in VTA\n",
      "237 patches in RtTg\n",
      "370 patches in Pn\n",
      "13 patches in 10N\n",
      "1763 patches in SC_surround_noclass\n",
      "54 patches in SC_surround_IC\n",
      "650 patches in RMC_surround_noclass\n",
      "39 patches in RMC_surround_VTA\n",
      "809 patches in IC_surround_noclass\n",
      "66 patches in IC_surround_SC\n",
      "344 patches in 7n_surround_noclass\n",
      "935 patches in IO_surround_noclass\n",
      "850 patches in Tz_surround_noclass\n",
      "14 patches in Tz_surround_RtTg\n",
      "827 patches in VTA_surround_noclass\n",
      "34 patches in VTA_surround_RMC\n",
      "757 patches in RtTg_surround_noclass\n",
      "21 patches in RtTg_surround_Tz\n",
      "43 patches in RtTg_surround_Pn\n",
      "770 patches in Pn_surround_noclass\n",
      "25 patches in Pn_surround_RtTg\n",
      "506 patches in 10N_surround_noclass\n",
      "13924 patches in bg\n",
      "301 patches in IO\n",
      "171 patches in RMC\n",
      "390 patches in IC\n",
      "375 patches in Pn\n"
     ]
    },
    {
     "name": "stderr",
     "output_type": "stream",
     "text": [
      "Analyzing section 205..\n"
     ]
    },
    {
     "name": "stdout",
     "output_type": "stream",
     "text": [
      "139 patches in Tz\n",
      "3 patches in 7n\n",
      "16 patches in 10N\n",
      "16 patches in 6N\n",
      "2275 patches in SC\n",
      "988 patches in IO_surround_noclass\n",
      "682 patches in RMC_surround_noclass\n",
      "805 patches in IC_surround_noclass\n",
      "60 patches in IC_surround_SC\n",
      "784 patches in Pn_surround_noclass\n",
      "789 patches in Tz_surround_noclass\n",
      "312 patches in 7n_surround_noclass\n",
      "16 patches in 7n_surround_6N\n",
      "550 patches in 10N_surround_noclass\n",
      "361 patches in 6N_surround_noclass\n",
      "3 patches in 6N_surround_7n\n",
      "1770 patches in SC_surround_noclass\n",
      "49 patches in SC_surround_IC\n",
      "13970 patches in bg\n",
      "307 patches in IO\n",
      "2258 patches in SC\n"
     ]
    },
    {
     "name": "stderr",
     "output_type": "stream",
     "text": [
      "Analyzing section 206..\n"
     ]
    },
    {
     "name": "stdout",
     "output_type": "stream",
     "text": [
      "18 patches in 10N\n",
      "2 patches in 7n\n",
      "170 patches in RMC\n",
      "383 patches in IC\n",
      "78 patches in 12N\n",
      "153 patches in Tz\n",
      "375 patches in Pn\n",
      "1017 patches in IO_surround_noclass\n",
      "1752 patches in SC_surround_noclass\n",
      "51 patches in SC_surround_IC\n",
      "497 patches in 10N_surround_noclass\n",
      "78 patches in 10N_surround_12N\n",
      "297 patches in 7n_surround_noclass\n",
      "688 patches in RMC_surround_noclass\n",
      "780 patches in IC_surround_noclass\n",
      "61 patches in IC_surround_SC\n",
      "550 patches in 12N_surround_noclass\n",
      "18 patches in 12N_surround_10N\n",
      "837 patches in Tz_surround_noclass\n",
      "793 patches in Pn_surround_noclass\n",
      "13895 patches in bg\n"
     ]
    },
    {
     "name": "stderr",
     "output_type": "stream",
     "text": [
      "Analyzing section 207..\n"
     ]
    },
    {
     "name": "stdout",
     "output_type": "stream",
     "text": [
      "2234 patches in SC\n",
      "93 patches in 12N\n",
      "20 patches in 10N\n",
      "320 patches in IO\n",
      "170 patches in RMC\n",
      "379 patches in IC\n",
      "31 patches in VTg\n",
      "389 patches in Pn\n",
      "139 patches in Tz\n",
      "350 patches in VTA\n",
      "1743 patches in SC_surround_noclass\n",
      "53 patches in SC_surround_IC\n",
      "573 patches in 12N_surround_noclass\n",
      "20 patches in 12N_surround_10N\n",
      "501 patches in 10N_surround_noclass\n",
      "91 patches in 10N_surround_12N\n",
      "1058 patches in IO_surround_noclass\n",
      "629 patches in RMC_surround_noclass\n",
      "55 patches in RMC_surround_VTA\n",
      "740 patches in IC_surround_noclass\n",
      "61 patches in IC_surround_SC\n",
      "423 patches in VTg_surround_noclass\n",
      "742 patches in Pn_surround_noclass\n",
      "765 patches in Tz_surround_noclass\n",
      "868 patches in VTA_surround_noclass\n",
      "49 patches in VTA_surround_RMC\n",
      "15462 patches in bg\n",
      "296 patches in VTA\n",
      "136 patches in Tz\n"
     ]
    },
    {
     "name": "stderr",
     "output_type": "stream",
     "text": [
      "Analyzing section 208..\n"
     ]
    },
    {
     "name": "stdout",
     "output_type": "stream",
     "text": [
      "340 patches in IO\n",
      "2211 patches in SC\n",
      "369 patches in IC\n",
      "43 patches in VTg\n",
      "3 patches in 4N\n",
      "116 patches in 12N\n",
      "23 patches in 10N\n",
      "387 patches in Pn\n",
      "171 patches in RMC\n",
      "797 patches in VTA_surround_noclass\n",
      "32 patches in VTA_surround_RMC\n",
      "773 patches in Tz_surround_noclass\n",
      "1119 patches in IO_surround_noclass\n",
      "1744 patches in SC_surround_noclass\n",
      "51 patches in SC_surround_IC\n",
      "777 patches in IC_surround_noclass\n",
      "60 patches in IC_surround_SC\n",
      "451 patches in VTg_surround_noclass\n",
      "292 patches in 4N_surround_noclass\n",
      "607 patches in 12N_surround_noclass\n",
      "23 patches in 12N_surround_10N\n",
      "483 patches in 10N_surround_noclass\n",
      "110 patches in 10N_surround_12N\n",
      "813 patches in Pn_surround_noclass\n",
      "646 patches in RMC_surround_noclass\n",
      "33 patches in RMC_surround_VTA\n",
      "14136 patches in bg\n"
     ]
    },
    {
     "name": "stderr",
     "output_type": "stream",
     "text": [
      "Analyzing section 209..\n"
     ]
    },
    {
     "name": "stdout",
     "output_type": "stream",
     "text": [
      "356 patches in IC\n",
      "245 patches in VTA\n",
      "61 patches in VTg\n",
      "2190 patches in SC\n",
      "30 patches in 6N\n",
      "348 patches in IO\n",
      "396 patches in Pn\n",
      "2 patches in 4N\n",
      "141 patches in 12N\n",
      "127 patches in Tz\n",
      "178 patches in RMC\n",
      "28 patches in 10N\n",
      "754 patches in IC_surround_noclass\n",
      "57 patches in IC_surround_SC\n",
      "737 patches in VTA_surround_noclass\n",
      "19 patches in VTA_surround_RMC\n",
      "491 patches in VTg_surround_noclass\n",
      "1740 patches in SC_surround_noclass\n",
      "50 patches in SC_surround_IC\n",
      "421 patches in 6N_surround_noclass\n",
      "1155 patches in IO_surround_noclass\n",
      "842 patches in Pn_surround_noclass\n",
      "287 patches in 4N_surround_noclass\n",
      "664 patches in 12N_surround_noclass\n",
      "28 patches in 12N_surround_10N\n",
      "781 patches in Tz_surround_noclass\n",
      "672 patches in RMC_surround_noclass\n",
      "21 patches in RMC_surround_VTA\n",
      "492 patches in 10N_surround_noclass\n",
      "128 patches in 10N_surround_12N\n",
      "14219 patches in bg\n",
      "123 patches in Tz\n",
      "2165 patches in SC\n",
      "33 patches in 10N\n"
     ]
    },
    {
     "name": "stderr",
     "output_type": "stream",
     "text": [
      "Analyzing section 210..\n"
     ]
    },
    {
     "name": "stdout",
     "output_type": "stream",
     "text": [
      "372 patches in IO\n",
      "201 patches in VTA\n",
      "6 patches in 4N\n",
      "410 patches in Pn\n",
      "83 patches in VTg\n",
      "176 patches in 12N\n",
      "147 patches in Gr\n",
      "141 patches in RMC\n",
      "114 patches in Sol\n",
      "352 patches in IC\n",
      "767 patches in Tz_surround_noclass\n",
      "1725 patches in SC_surround_noclass\n",
      "49 patches in SC_surround_IC\n",
      "372 patches in 10N_surround_noclass\n",
      "50 patches in 10N_surround_Gr\n",
      "114 patches in 10N_surround_Sol\n",
      "154 patches in 10N_surround_12N\n",
      "1252 patches in IO_surround_noclass\n",
      "714 patches in VTA_surround_noclass\n",
      "2 patches in VTA_surround_RMC\n",
      "323 patches in 4N_surround_noclass\n",
      "795 patches in Pn_surround_noclass\n",
      "544 patches in VTg_surround_noclass\n",
      "617 patches in 12N_surround_noclass\n",
      "33 patches in 12N_surround_10N\n",
      "104 patches in 12N_surround_Sol\n",
      "435 patches in Gr_surround_noclass\n",
      "9 patches in Gr_surround_10N\n",
      "78 patches in Gr_surround_Sol\n",
      "642 patches in RMC_surround_noclass\n",
      "2 patches in RMC_surround_VTA\n",
      "462 patches in Sol_surround_noclass\n",
      "33 patches in Sol_surround_10N\n",
      "109 patches in Sol_surround_Gr\n",
      "99 patches in Sol_surround_12N\n",
      "739 patches in IC_surround_noclass\n",
      "57 patches in IC_surround_SC\n",
      "14399 patches in bg\n"
     ]
    },
    {
     "name": "stderr",
     "output_type": "stream",
     "text": [
      "Analyzing section 211..\n"
     ]
    },
    {
     "name": "stdout",
     "output_type": "stream",
     "text": [
      "341 patches in IO\n",
      "182 patches in 12N\n",
      "30 patches in 10N\n",
      "171 patches in VTA\n",
      "118 patches in Tz\n",
      "434 patches in Pn\n",
      "21 patches in IPL\n",
      "6 patches in 4N\n",
      "2150 patches in SC\n",
      "117 patches in RMC\n",
      "336 patches in IC\n",
      "43 patches in 3N\n",
      "1180 patches in IO_surround_noclass\n",
      "745 patches in 12N_surround_noclass\n",
      "30 patches in 12N_surround_10N\n",
      "534 patches in 10N_surround_noclass\n",
      "163 patches in 10N_surround_12N\n",
      "659 patches in VTA_surround_noclass\n",
      "20 patches in VTA_surround_IPL\n",
      "785 patches in Tz_surround_noclass\n",
      "822 patches in Pn_surround_noclass\n",
      "363 patches in IPL_surround_noclass\n",
      "64 patches in IPL_surround_VTA\n",
      "301 patches in 4N_surround_noclass\n",
      "20 patches in 4N_surround_3N\n",
      "1710 patches in SC_surround_noclass\n",
      "45 patches in SC_surround_IC\n",
      "606 patches in RMC_surround_noclass\n",
      "736 patches in IC_surround_noclass\n",
      "56 patches in IC_surround_SC\n",
      "488 patches in 3N_surround_noclass\n",
      "6 patches in 3N_surround_4N\n",
      "13923 patches in bg\n",
      "328 patches in IC\n"
     ]
    },
    {
     "name": "stderr",
     "output_type": "stream",
     "text": [
      "Analyzing section 212..\n"
     ]
    },
    {
     "name": "stdout",
     "output_type": "stream",
     "text": [
      "45 patches in 3N\n",
      "114 patches in Tz\n",
      "459 patches in Pn\n",
      "317 patches in IO\n",
      "201 patches in 12N\n",
      "2119 patches in SC\n",
      "89 patches in RMC\n",
      "29 patches in 10N\n",
      "729 patches in IC_surround_noclass\n",
      "54 patches in IC_surround_SC\n",
      "523 patches in 3N_surround_noclass\n",
      "763 patches in Tz_surround_noclass\n",
      "809 patches in Pn_surround_noclass\n",
      "1154 patches in IO_surround_noclass\n",
      "804 patches in 12N_surround_noclass\n",
      "29 patches in 12N_surround_10N\n",
      "1713 patches in SC_surround_noclass\n",
      "45 patches in SC_surround_IC\n",
      "557 patches in RMC_surround_noclass\n",
      "514 patches in 10N_surround_noclass\n",
      "179 patches in 10N_surround_12N\n",
      "13998 patches in bg\n",
      "31 patches in 10N\n",
      "479 patches in Pn\n",
      "70 patches in RMC\n"
     ]
    },
    {
     "name": "stderr",
     "output_type": "stream",
     "text": [
      "Analyzing section 213..\n"
     ]
    },
    {
     "name": "stdout",
     "output_type": "stream",
     "text": [
      "298 patches in IO\n",
      "220 patches in 12N\n",
      "118 patches in Tz\n",
      "58 patches in 3N\n",
      "321 patches in IC\n",
      "2097 patches in SC\n",
      "501 patches in 10N_surround_noclass\n",
      "196 patches in 10N_surround_12N\n",
      "785 patches in Pn_surround_noclass\n",
      "527 patches in RMC_surround_noclass\n",
      "1184 patches in IO_surround_noclass\n",
      "844 patches in 12N_surround_noclass\n",
      "31 patches in 12N_surround_10N\n",
      "756 patches in Tz_surround_noclass\n",
      "526 patches in 3N_surround_noclass\n",
      "725 patches in IC_surround_noclass\n",
      "55 patches in IC_surround_SC\n",
      "1458 patches in SC_surround_noclass\n",
      "45 patches in SC_surround_IC\n",
      "14345 patches in bg\n"
     ]
    },
    {
     "name": "stderr",
     "output_type": "stream",
     "text": [
      "Analyzing section 214..\n"
     ]
    },
    {
     "name": "stdout",
     "output_type": "stream",
     "text": [
      "238 patches in 12N\n",
      "84 patches in 3N\n",
      "15 patches in 6N\n",
      "46 patches in RMC\n",
      "312 patches in IC\n",
      "31 patches in 10N\n",
      "268 patches in IO\n",
      "2074 patches in SC\n",
      "117 patches in Tz\n",
      "498 patches in Pn\n",
      "896 patches in 12N_surround_noclass\n",
      "31 patches in 12N_surround_10N\n",
      "567 patches in 3N_surround_noclass\n",
      "371 patches in 6N_surround_noclass\n",
      "476 patches in RMC_surround_noclass\n",
      "701 patches in IC_surround_noclass\n",
      "56 patches in IC_surround_SC\n",
      "485 patches in 10N_surround_noclass\n",
      "213 patches in 10N_surround_12N\n",
      "1165 patches in IO_surround_noclass\n",
      "1418 patches in SC_surround_noclass\n",
      "44 patches in SC_surround_IC\n",
      "747 patches in Tz_surround_noclass\n",
      "818 patches in Pn_surround_noclass\n",
      "14691 patches in bg\n",
      "529 patches in Pn\n",
      "36 patches in RMC\n"
     ]
    },
    {
     "name": "stderr",
     "output_type": "stream",
     "text": [
      "Analyzing section 215..\n"
     ]
    },
    {
     "name": "stdout",
     "output_type": "stream",
     "text": [
      "8 patches in AP\n",
      "116 patches in Dk\n",
      "123 patches in Tz\n",
      "110 patches in Sol\n",
      "2047 patches in SC\n",
      "81 patches in Gr\n",
      "261 patches in 12N\n",
      "477 patches in RtTg\n",
      "305 patches in IC\n",
      "110 patches in 3N\n",
      "29 patches in 10N\n",
      "121 patches in VTg\n",
      "53 patches in DTgP\n",
      "254 patches in IO\n",
      "720 patches in Pn_surround_noclass\n",
      "103 patches in Pn_surround_RtTg\n",
      "466 patches in RMC_surround_noclass\n",
      "175 patches in AP_surround_noclass\n",
      "53 patches in AP_surround_Sol\n",
      "5 patches in AP_surround_12N\n",
      "9 patches in AP_surround_10N\n",
      "681 patches in Dk_surround_noclass\n",
      "743 patches in Tz_surround_noclass\n",
      "1 patches in Tz_surround_RtTg\n",
      "485 patches in Sol_surround_noclass\n",
      "8 patches in Sol_surround_AP\n",
      "147 patches in Sol_surround_12N\n",
      "29 patches in Sol_surround_10N\n",
      "68 patches in Sol_surround_Gr\n",
      "1648 patches in SC_surround_noclass\n",
      "41 patches in SC_surround_IC\n",
      "369 patches in Gr_surround_noclass\n",
      "82 patches in Gr_surround_Sol\n",
      "13 patches in Gr_surround_10N\n",
      "888 patches in 12N_surround_noclass\n",
      "4 patches in 12N_surround_AP\n",
      "84 patches in 12N_surround_Sol\n",
      "29 patches in 12N_surround_10N\n",
      "949 patches in RtTg_surround_noclass\n",
      "3 patches in RtTg_surround_Tz\n",
      "97 patches in RtTg_surround_Pn\n",
      "698 patches in IC_surround_noclass\n",
      "51 patches in IC_surround_SC\n",
      "612 patches in 3N_surround_noclass\n",
      "388 patches in 10N_surround_noclass\n",
      "8 patches in 10N_surround_AP\n",
      "110 patches in 10N_surround_Sol\n",
      "234 patches in 10N_surround_12N\n",
      "32 patches in 10N_surround_Gr\n",
      "618 patches in VTg_surround_noclass\n",
      "6 patches in VTg_surround_DTgP\n",
      "556 patches in DTgP_surround_noclass\n",
      "10 patches in DTgP_surround_VTg\n",
      "1239 patches in IO_surround_noclass\n",
      "14260 patches in bg\n",
      "2027 patches in SC\n",
      "105 patches in Tz\n",
      "15 patches in AP\n"
     ]
    },
    {
     "name": "stderr",
     "output_type": "stream",
     "text": [
      "Analyzing section 216..\n"
     ]
    },
    {
     "name": "stdout",
     "output_type": "stream",
     "text": [
      "523 patches in Pn\n",
      "30 patches in 10N\n",
      "296 patches in IC\n",
      "246 patches in IO\n",
      "104 patches in 3N\n",
      "257 patches in 12N\n",
      "1426 patches in SC_surround_noclass\n",
      "44 patches in SC_surround_IC\n",
      "703 patches in Tz_surround_noclass\n",
      "258 patches in AP_surround_noclass\n",
      "4 patches in AP_surround_10N\n",
      "5 patches in AP_surround_12N\n",
      "802 patches in Pn_surround_noclass\n",
      "486 patches in 10N_surround_noclass\n",
      "214 patches in 10N_surround_12N\n",
      "14 patches in 10N_surround_AP\n",
      "704 patches in IC_surround_noclass\n",
      "53 patches in IC_surround_SC\n",
      "1163 patches in IO_surround_noclass\n",
      "599 patches in 3N_surround_noclass\n",
      "953 patches in 12N_surround_noclass\n",
      "30 patches in 12N_surround_10N\n",
      "5 patches in 12N_surround_AP\n",
      "14460 patches in bg\n",
      "262 patches in 12N\n",
      "88 patches in Tz\n",
      "104 patches in 3N\n",
      "26 patches in AP\n"
     ]
    },
    {
     "name": "stderr",
     "output_type": "stream",
     "text": [
      "Analyzing section 217..\n"
     ]
    },
    {
     "name": "stdout",
     "output_type": "stream",
     "text": [
      "2007 patches in SC\n",
      "288 patches in IC\n",
      "244 patches in IO\n",
      "531 patches in Pn\n",
      "26 patches in 10N\n",
      "965 patches in 12N_surround_noclass\n",
      "7 patches in 12N_surround_AP\n",
      "26 patches in 12N_surround_10N\n",
      "707 patches in Tz_surround_noclass\n",
      "601 patches in 3N_surround_noclass\n",
      "254 patches in AP_surround_noclass\n",
      "6 patches in AP_surround_12N\n",
      "2 patches in AP_surround_10N\n",
      "1697 patches in SC_surround_noclass\n",
      "43 patches in SC_surround_IC\n",
      "710 patches in IC_surround_noclass\n",
      "48 patches in IC_surround_SC\n",
      "1149 patches in IO_surround_noclass\n",
      "809 patches in Pn_surround_noclass\n",
      "492 patches in 10N_surround_noclass\n",
      "194 patches in 10N_surround_12N\n",
      "16 patches in 10N_surround_AP\n",
      "13976 patches in bg\n",
      "279 patches in IC\n",
      "528 patches in Pn\n"
     ]
    },
    {
     "name": "stderr",
     "output_type": "stream",
     "text": [
      "Analyzing section 218..\n"
     ]
    },
    {
     "name": "stdout",
     "output_type": "stream",
     "text": [
      "269 patches in 12N\n",
      "240 patches in IO\n",
      "34 patches in AP\n",
      "1980 patches in SC\n",
      "24 patches in 10N\n",
      "76 patches in Tz\n",
      "107 patches in 3N\n",
      "725 patches in IC_surround_noclass\n",
      "45 patches in IC_surround_SC\n",
      "748 patches in Pn_surround_noclass\n",
      "947 patches in 12N_surround_noclass\n",
      "24 patches in 12N_surround_10N\n",
      "8 patches in 12N_surround_AP\n",
      "1152 patches in IO_surround_noclass\n",
      "276 patches in AP_surround_noclass\n",
      "1 patches in AP_surround_10N\n",
      "11 patches in AP_surround_12N\n",
      "1655 patches in SC_surround_noclass\n",
      "42 patches in SC_surround_IC\n",
      "518 patches in 10N_surround_noclass\n",
      "177 patches in 10N_surround_12N\n",
      "12 patches in 10N_surround_AP\n",
      "669 patches in Tz_surround_noclass\n",
      "608 patches in 3N_surround_noclass\n",
      "14312 patches in bg\n"
     ]
    },
    {
     "name": "stderr",
     "output_type": "stream",
     "text": [
      "Analyzing section 219..\n"
     ]
    },
    {
     "name": "stdout",
     "output_type": "stream",
     "text": [
      "26 patches in 10N\n",
      "1954 patches in SC\n",
      "248 patches in IO\n",
      "55 patches in AP\n",
      "65 patches in Tz\n",
      "274 patches in IC\n",
      "530 patches in Pn\n",
      "262 patches in 12N\n",
      "105 patches in 3N\n",
      "550 patches in 10N_surround_noclass\n",
      "145 patches in 10N_surround_12N\n",
      "11 patches in 10N_surround_AP\n",
      "1726 patches in SC_surround_noclass\n",
      "39 patches in SC_surround_IC\n",
      "1132 patches in IO_surround_noclass\n",
      "305 patches in AP_surround_noclass\n",
      "13 patches in AP_surround_12N\n",
      "1 patches in AP_surround_10N\n",
      "641 patches in Tz_surround_noclass\n",
      "722 patches in IC_surround_noclass\n",
      "47 patches in IC_surround_SC\n",
      "830 patches in Pn_surround_noclass\n",
      "931 patches in 12N_surround_noclass\n",
      "12 patches in 12N_surround_AP\n",
      "26 patches in 12N_surround_10N\n",
      "614 patches in 3N_surround_noclass\n",
      "13698 patches in bg\n",
      "39 patches in DTgP\n"
     ]
    },
    {
     "name": "stderr",
     "output_type": "stream",
     "text": [
      "Analyzing section 220..\n"
     ]
    },
    {
     "name": "stdout",
     "output_type": "stream",
     "text": [
      "1949 patches in SC\n",
      "77 patches in AP\n",
      "23 patches in 10N\n",
      "275 patches in IC\n",
      "540 patches in RtTg\n",
      "66 patches in RtTg\n",
      "529 patches in Pn\n",
      "60 patches in Tz\n",
      "114 patches in 3N\n",
      "473 patches in RtTg\n",
      "280 patches in 12N\n",
      "254 patches in IO\n",
      "521 patches in DTgP_surround_noclass\n",
      "1782 patches in SC_surround_noclass\n",
      "47 patches in SC_surround_IC\n",
      "339 patches in AP_surround_noclass\n",
      "1 patches in AP_surround_10N\n",
      "17 patches in AP_surround_12N\n",
      "583 patches in 10N_surround_noclass\n",
      "130 patches in 10N_surround_12N\n",
      "15 patches in 10N_surround_AP\n",
      "711 patches in IC_surround_noclass\n",
      "55 patches in IC_surround_SC\n",
      "702 patches in RtTg_surround_noclass\n",
      "529 patches in RtTg_surround_Pn\n",
      "599 patches in RtTg_surround_noclass\n",
      "704 patches in Pn_surround_noclass\n",
      "132 patches in Pn_surround_RtTg\n",
      "628 patches in Tz_surround_noclass\n",
      "14 patches in Tz_surround_RtTg\n",
      "634 patches in 3N_surround_noclass\n",
      "867 patches in RtTg_surround_noclass\n",
      "12 patches in RtTg_surround_Tz\n",
      "164 patches in RtTg_surround_Pn\n",
      "976 patches in 12N_surround_noclass\n",
      "23 patches in 12N_surround_10N\n",
      "15 patches in 12N_surround_AP\n",
      "1184 patches in IO_surround_noclass\n",
      "13610 patches in bg\n"
     ]
    },
    {
     "name": "stderr",
     "output_type": "stream",
     "text": [
      "Analyzing section 221..\n",
      "Analyzing section 222..\n"
     ]
    },
    {
     "name": "stdout",
     "output_type": "stream",
     "text": [
      "41 patches in Tz\n",
      "60 patches in 3N\n",
      "218 patches in IO\n",
      "527 patches in Pn\n",
      "210 patches in 12N\n",
      "530 patches in RtTg\n",
      "93 patches in AP\n",
      "288 patches in IC\n",
      "2044 patches in SC\n",
      "89 patches in RtTg\n",
      "528 patches in Tz_surround_noclass\n",
      "540 patches in 3N_surround_noclass\n",
      "1116 patches in IO_surround_noclass\n",
      "821 patches in Pn_surround_noclass\n",
      "942 patches in 12N_surround_noclass\n",
      "2 patches in 12N_surround_AP\n",
      "1341 patches in RtTg_surround_noclass\n",
      "1 patches in RtTg_surround_Tz\n",
      "216 patches in RtTg_surround_Pn\n",
      "351 patches in AP_surround_noclass\n",
      "2 patches in AP_surround_12N\n",
      "726 patches in IC_surround_noclass\n",
      "62 patches in IC_surround_SC\n",
      "1876 patches in SC_surround_noclass\n",
      "53 patches in SC_surround_IC\n",
      "549 patches in RtTg_surround_noclass\n",
      "13323 patches in bg\n",
      "529 patches in Pn\n",
      "2078 patches in SC\n"
     ]
    },
    {
     "name": "stderr",
     "output_type": "stream",
     "text": [
      "Analyzing section 223..\n"
     ]
    },
    {
     "name": "stdout",
     "output_type": "stream",
     "text": [
      "302 patches in IC\n",
      "208 patches in IO\n",
      "74 patches in RtTg\n",
      "521 patches in RtTg\n",
      "48 patches in 3N\n",
      "555 patches in RtTg\n",
      "103 patches in AP\n",
      "182 patches in 12N\n",
      "34 patches in Tz\n",
      "801 patches in Pn_surround_noclass\n",
      "555 patches in Pn_surround_RtTg\n",
      "1940 patches in SC_surround_noclass\n",
      "64 patches in SC_surround_IC\n",
      "726 patches in IC_surround_noclass\n",
      "67 patches in IC_surround_SC\n",
      "1082 patches in IO_surround_noclass\n",
      "644 patches in RtTg_surround_noclass\n",
      "1344 patches in RtTg_surround_noclass\n",
      "217 patches in RtTg_surround_Pn\n",
      "523 patches in 3N_surround_noclass\n",
      "872 patches in RtTg_surround_noclass\n",
      "529 patches in RtTg_surround_Pn\n",
      "349 patches in AP_surround_noclass\n",
      "912 patches in 12N_surround_noclass\n",
      "477 patches in Tz_surround_noclass\n",
      "13724 patches in bg\n",
      "318 patches in IC\n",
      "34 patches in Tz\n"
     ]
    },
    {
     "name": "stderr",
     "output_type": "stream",
     "text": [
      "Analyzing section 224..\n"
     ]
    },
    {
     "name": "stdout",
     "output_type": "stream",
     "text": [
      "2138 patches in SC\n",
      "111 patches in AP\n",
      "197 patches in IO\n",
      "156 patches in 12N\n",
      "528 patches in Pn\n",
      "715 patches in IC_surround_noclass\n",
      "80 patches in IC_surround_SC\n",
      "454 patches in Tz_surround_noclass\n",
      "1956 patches in SC_surround_noclass\n",
      "76 patches in SC_surround_IC\n",
      "507 patches in AP_surround_noclass\n",
      "1069 patches in IO_surround_noclass\n",
      "892 patches in 12N_surround_noclass\n",
      "816 patches in Pn_surround_noclass\n",
      "13374 patches in bg\n",
      "131 patches in AP\n",
      "31 patches in IPA\n",
      "148 patches in IPR\n"
     ]
    },
    {
     "name": "stderr",
     "output_type": "stream",
     "text": [
      "Analyzing section 225..\n"
     ]
    },
    {
     "name": "stdout",
     "output_type": "stream",
     "text": [
      "2173 patches in SC\n",
      "207 patches in EW\n",
      "198 patches in IO\n",
      "389 patches in RtTg\n",
      "540 patches in Pn\n",
      "132 patches in IPC\n",
      "329 patches in IC\n",
      "142 patches in 12N\n",
      "413 patches in AP_surround_noclass\n",
      "407 patches in IPA_surround_noclass\n",
      "22 patches in IPA_surround_IPC\n",
      "68 patches in IPA_surround_IPR\n",
      "546 patches in IPR_surround_noclass\n",
      "93 patches in IPR_surround_IPC\n",
      "25 patches in IPR_surround_IPA\n",
      "1987 patches in SC_surround_noclass\n",
      "83 patches in SC_surround_IC\n",
      "1058 patches in EW_surround_noclass\n",
      "1111 patches in IO_surround_noclass\n",
      "705 patches in RtTg_surround_noclass\n",
      "9 patches in RtTg_surround_IPC\n",
      "206 patches in RtTg_surround_Pn\n",
      "646 patches in Pn_surround_noclass\n",
      "57 patches in Pn_surround_IPC\n",
      "166 patches in Pn_surround_RtTg\n",
      "498 patches in IPC_surround_noclass\n",
      "19 patches in IPC_surround_IPA\n",
      "97 patches in IPC_surround_IPR\n",
      "11 patches in IPC_surround_RtTg\n",
      "24 patches in IPC_surround_Pn\n",
      "729 patches in IC_surround_noclass\n",
      "82 patches in IC_surround_SC\n",
      "915 patches in 12N_surround_noclass\n",
      "13765 patches in bg\n"
     ]
    },
    {
     "name": "stderr",
     "output_type": "stream",
     "text": [
      "Analyzing section 226..\n"
     ]
    },
    {
     "name": "stdout",
     "output_type": "stream",
     "text": [
      "155 patches in 12N\n",
      "2227 patches in SC\n",
      "341 patches in IC\n",
      "157 patches in IO\n",
      "103 patches in AP\n",
      "60 patches in 3N\n",
      "902 patches in 12N_surround_noclass\n",
      "2022 patches in SC_surround_noclass\n",
      "96 patches in SC_surround_IC\n",
      "724 patches in IC_surround_noclass\n",
      "97 patches in IC_surround_SC\n",
      "990 patches in IO_surround_noclass\n",
      "555 patches in AP_surround_noclass\n",
      "517 patches in 3N_surround_noclass\n",
      "13203 patches in bg\n",
      "356 patches in IC\n",
      "138 patches in IO\n",
      "106 patches in EW\n",
      "90 patches in DRD\n",
      "90 patches in AP\n"
     ]
    },
    {
     "name": "stderr",
     "output_type": "stream",
     "text": [
      "Analyzing section 227..\n"
     ]
    },
    {
     "name": "stdout",
     "output_type": "stream",
     "text": [
      "172 patches in 12N\n",
      "98 patches in 3N\n",
      "179 patches in Dk\n",
      "2279 patches in SC\n",
      "724 patches in IC_surround_noclass\n",
      "105 patches in IC_surround_SC\n",
      "919 patches in IO_surround_noclass\n",
      "738 patches in EW_surround_noclass\n",
      "12 patches in EW_surround_Dk\n",
      "31 patches in EW_surround_3N\n",
      "558 patches in DRD_surround_noclass\n",
      "2 patches in DRD_surround_3N\n",
      "364 patches in AP_surround_noclass\n",
      "939 patches in 12N_surround_noclass\n",
      "562 patches in 3N_surround_noclass\n",
      "1 patches in 3N_surround_DRD\n",
      "19 patches in 3N_surround_EW\n",
      "798 patches in Dk_surround_noclass\n",
      "8 patches in Dk_surround_EW\n",
      "2029 patches in SC_surround_noclass\n",
      "106 patches in SC_surround_IC\n",
      "13658 patches in bg\n",
      "75 patches in AP\n",
      "195 patches in 12N\n",
      "101 patches in IO\n",
      "142 patches in Dk\n",
      "117 patches in 3N\n"
     ]
    },
    {
     "name": "stderr",
     "output_type": "stream",
     "text": [
      "Analyzing section 228..\n"
     ]
    },
    {
     "name": "stdout",
     "output_type": "stream",
     "text": [
      "368 patches in IC\n",
      "2325 patches in SC\n",
      "369 patches in AP_surround_noclass\n",
      "978 patches in 12N_surround_noclass\n",
      "842 patches in IO_surround_noclass\n",
      "737 patches in Dk_surround_noclass\n",
      "630 patches in 3N_surround_noclass\n",
      "731 patches in IC_surround_noclass\n",
      "112 patches in IC_surround_SC\n",
      "2059 patches in SC_surround_noclass\n",
      "115 patches in SC_surround_IC\n",
      "13445 patches in bg\n"
     ]
    },
    {
     "name": "stderr",
     "output_type": "stream",
     "text": [
      "Analyzing section 229..\n"
     ]
    },
    {
     "name": "stdout",
     "output_type": "stream",
     "text": [
      "379 patches in IC\n",
      "64 patches in AP\n",
      "18 patches in 10N\n",
      "120 patches in Dk\n",
      "123 patches in 3N\n",
      "212 patches in 12N\n",
      "85 patches in IO\n",
      "2372 patches in SC\n",
      "707 patches in IC_surround_noclass\n",
      "126 patches in IC_surround_SC\n",
      "316 patches in AP_surround_noclass\n",
      "534 patches in 10N_surround_noclass\n",
      "27 patches in 10N_surround_12N\n",
      "713 patches in Dk_surround_noclass\n",
      "632 patches in 3N_surround_noclass\n",
      "974 patches in 12N_surround_noclass\n",
      "11 patches in 12N_surround_10N\n",
      "706 patches in IO_surround_noclass\n",
      "2044 patches in SC_surround_noclass\n",
      "132 patches in SC_surround_IC\n",
      "14040 patches in bg\n",
      "16 patches in IPA\n",
      "249 patches in 12N\n",
      "58 patches in AP\n",
      "67 patches in IO\n",
      "42 patches in IF\n",
      "136 patches in 3N\n"
     ]
    },
    {
     "name": "stderr",
     "output_type": "stream",
     "text": [
      "Analyzing section 230..\n"
     ]
    },
    {
     "name": "stdout",
     "output_type": "stream",
     "text": [
      "434 patches in RtTg\n",
      "160 patches in IPC\n",
      "409 patches in IC\n",
      "18 patches in 10N\n",
      "2450 patches in SC\n",
      "275 patches in MnR\n",
      "177 patches in IPR\n",
      "112 patches in Dk\n",
      "237 patches in IPA_surround_noclass\n",
      "1 patches in IPA_surround_IPC\n",
      "108 patches in IPA_surround_MnR\n",
      "66 patches in IPA_surround_IPR\n",
      "23 patches in IPA_surround_IF\n",
      "1065 patches in 12N_surround_noclass\n",
      "16 patches in 12N_surround_10N\n",
      "1 patches in 12N_surround_AP\n",
      "332 patches in AP_surround_noclass\n",
      "1 patches in AP_surround_12N\n",
      "687 patches in IO_surround_noclass\n",
      "450 patches in IF_surround_noclass\n",
      "16 patches in IF_surround_IPA\n",
      "87 patches in IF_surround_IPR\n",
      "689 patches in 3N_surround_noclass\n",
      "1017 patches in RtTg_surround_noclass\n",
      "495 patches in IPC_surround_noclass\n",
      "70 patches in IPC_surround_MnR\n",
      "123 patches in IPC_surround_IPR\n",
      "708 patches in IC_surround_noclass\n",
      "151 patches in IC_surround_SC\n",
      "502 patches in 10N_surround_noclass\n",
      "45 patches in 10N_surround_12N\n",
      "2077 patches in SC_surround_noclass\n",
      "153 patches in SC_surround_IC\n",
      "695 patches in MnR_surround_noclass\n",
      "85 patches in MnR_surround_IPC\n",
      "16 patches in MnR_surround_IPA\n",
      "57 patches in MnR_surround_IPR\n",
      "493 patches in IPR_surround_noclass\n",
      "103 patches in IPR_surround_IPC\n",
      "14 patches in IPR_surround_IPA\n",
      "55 patches in IPR_surround_MnR\n",
      "42 patches in IPR_surround_IF\n",
      "710 patches in Dk_surround_noclass\n",
      "13993 patches in bg\n",
      "134 patches in 3N\n",
      "418 patches in IC\n",
      "242"
     ]
    },
    {
     "name": "stderr",
     "output_type": "stream",
     "text": [
      "Analyzing section 231..\n"
     ]
    },
    {
     "name": "stdout",
     "output_type": "stream",
     "text": [
      " patches in 12N\n",
      "16 patches in 10N\n",
      "2453 patches in SC\n",
      "655 patches in 3N_surround_noclass\n",
      "720 patches in IC_surround_noclass\n",
      "142 patches in IC_surround_SC\n",
      "1020 patches in 12N_surround_noclass\n",
      "16 patches in 12N_surround_10N\n",
      "494 patches in 10N_surround_noclass\n",
      "56 patches in 10N_surround_12N\n",
      "2016 patches in SC_surround_noclass\n",
      "150 patches in SC_surround_IC\n",
      "14275 patches in bg\n",
      "441 patches in IC\n",
      "246 patches in 12N\n"
     ]
    },
    {
     "name": "stderr",
     "output_type": "stream",
     "text": [
      "Analyzing section 232..\n"
     ]
    },
    {
     "name": "stdout",
     "output_type": "stream",
     "text": [
      "2474 patches in SC\n",
      "18 patches in 10N\n",
      "137 patches in 3N\n",
      "735 patches in IC_surround_noclass\n",
      "148 patches in IC_surround_SC\n",
      "1005 patches in 12N_surround_noclass\n",
      "18 patches in 12N_surround_10N\n",
      "2035 patches in SC_surround_noclass\n",
      "153 patches in SC_surround_IC\n",
      "485 patches in 10N_surround_noclass\n",
      "79 patches in 10N_surround_12N\n",
      "648 patches in 3N_surround_noclass\n",
      "14210 patches in bg\n",
      "17 patches in 10N\n",
      "2 patches in 4N\n"
     ]
    },
    {
     "name": "stderr",
     "output_type": "stream",
     "text": [
      "Analyzing section 233..\n"
     ]
    },
    {
     "name": "stdout",
     "output_type": "stream",
     "text": [
      "2493 patches in SC\n",
      "466 patches in IC\n",
      "251 patches in 12N\n",
      "133 patches in 3N\n",
      "470 patches in 10N_surround_noclass\n",
      "104 patches in 10N_surround_12N\n",
      "248 patches in 4N_surround_noclass\n",
      "24 patches in 4N_surround_3N\n",
      "2051 patches in SC_surround_noclass\n",
      "149 patches in SC_surround_IC\n",
      "757 patches in IC_surround_noclass\n",
      "140 patches in IC_surround_SC\n",
      "998 patches in 12N_surround_noclass\n",
      "17 patches in 12N_surround_10N\n",
      "635 patches in 3N_surround_noclass\n",
      "2 patches in 3N_surround_4N\n",
      "14523 patches in bg\n",
      "7 patches in 4N\n",
      "142 patches in 3N\n",
      "20 patches in 10N\n",
      "255 patches in 12N\n",
      "497 patches in IC\n"
     ]
    },
    {
     "name": "stderr",
     "output_type": "stream",
     "text": [
      "Analyzing section 234..\n"
     ]
    },
    {
     "name": "stdout",
     "output_type": "stream",
     "text": [
      "2513 patches in SC\n",
      "284 patches in 4N_surround_noclass\n",
      "37 patches in 4N_surround_3N\n",
      "635 patches in 3N_surround_noclass\n",
      "7 patches in 3N_surround_4N\n",
      "463 patches in 10N_surround_noclass\n",
      "119 patches in 10N_surround_12N\n",
      "976 patches in 12N_surround_noclass\n",
      "20 patches in 12N_surround_10N\n",
      "772 patches in IC_surround_noclass\n",
      "145 patches in IC_surround_SC\n",
      "2044 patches in SC_surround_noclass\n",
      "159 patches in SC_surround_IC\n",
      "14584 patches in bg\n",
      "111 patches in 3N\n",
      "19 patches in IPA\n",
      "2542 patches in SC\n"
     ]
    },
    {
     "name": "stderr",
     "output_type": "stream",
     "text": [
      "Analyzing section 235..\n"
     ]
    },
    {
     "name": "stdout",
     "output_type": "stream",
     "text": [
      "20 patches in 10N\n",
      "180 patches in IPC\n",
      "519 patches in IC\n",
      "6 patches in 4N\n",
      "263 patches in 12N\n",
      "104 patches in IPR\n",
      "590 patches in 3N_surround_noclass\n",
      "6 patches in 3N_surround_4N\n",
      "353 patches in IPA_surround_noclass\n",
      "57 patches in IPA_surround_IPC\n",
      "55 patches in IPA_surround_IPR\n",
      "2059 patches in SC_surround_noclass\n",
      "161 patches in SC_surround_IC\n",
      "452 patches in 10N_surround_noclass\n",
      "154 patches in 10N_surround_12N\n",
      "607 patches in IPC_surround_noclass\n",
      "19 patches in IPC_surround_IPA\n",
      "89 patches in IPC_surround_IPR\n",
      "795 patches in IC_surround_noclass\n",
      "150 patches in IC_surround_SC\n",
      "266 patches in 4N_surround_noclass\n",
      "29 patches in 4N_surround_3N\n",
      "978 patches in 12N_surround_noclass\n",
      "20 patches in 12N_surround_10N\n",
      "467 patches in IPR_surround_noclass\n",
      "128 patches in IPR_surround_IPC\n",
      "19 patches in IPR_surround_IPA\n",
      "14585 patches in bg\n",
      "4 patches in 4N\n"
     ]
    },
    {
     "name": "stderr",
     "output_type": "stream",
     "text": [
      "Analyzing section 236..\n"
     ]
    },
    {
     "name": "stdout",
     "output_type": "stream",
     "text": [
      "262 patches in 12N\n",
      "100 patches in 3N\n",
      "539 patches in IC\n",
      "19 patches in 10N\n",
      "2568 patches in SC\n",
      "266 patches in 4N_surround_noclass\n",
      "30 patches in 4N_surround_3N\n",
      "978 patches in 12N_surround_noclass\n",
      "19 patches in 12N_surround_10N\n",
      "575 patches in 3N_surround_noclass\n",
      "4 patches in 3N_surround_4N\n",
      "807 patches in IC_surround_noclass\n",
      "156 patches in IC_surround_SC\n",
      "454 patches in 10N_surround_noclass\n",
      "172 patches in 10N_surround_12N\n",
      "2074 patches in SC_surround_noclass\n",
      "171 patches in SC_surround_IC\n",
      "14524 patches in bg\n",
      "264 patches in 12N\n",
      "2596 patches in SC\n"
     ]
    },
    {
     "name": "stderr",
     "output_type": "stream",
     "text": [
      "Analyzing section 237..\n"
     ]
    },
    {
     "name": "stdout",
     "output_type": "stream",
     "text": [
      "6 patches in 4N\n",
      "579 patches in IC\n",
      "21 patches in 10N\n",
      "88 patches in 3N\n",
      "958 patches in 12N_surround_noclass\n",
      "21 patches in 12N_surround_10N\n",
      "2042 patches in SC_surround_noclass\n",
      "180 patches in SC_surround_IC\n",
      "276 patches in 4N_surround_noclass\n",
      "32 patches in 4N_surround_3N\n",
      "815 patches in IC_surround_noclass\n",
      "162 patches in IC_surround_SC\n",
      "448 patches in 10N_surround_noclass\n",
      "197 patches in 10N_surround_12N\n",
      "558 patches in 3N_surround_noclass\n",
      "6 patches in 3N_surround_4N\n",
      "14665 patches in bg\n",
      "24 patches in 10N\n",
      "271 patches in 12N\n",
      "7 patches in 4N\n",
      "84 patches in RMC\n"
     ]
    },
    {
     "name": "stderr",
     "output_type": "stream",
     "text": [
      "Analyzing section 238..\n"
     ]
    },
    {
     "name": "stdout",
     "output_type": "stream",
     "text": [
      "2613 patches in SC\n",
      "598 patches in IC\n",
      "433 patches in 10N_surround_noclass\n",
      "210 patches in 10N_surround_12N\n",
      "959 patches in 12N_surround_noclass\n",
      "24 patches in 12N_surround_10N\n",
      "306 patches in 4N_surround_noclass\n",
      "562 patches in RMC_surround_noclass\n",
      "2036 patches in SC_surround_noclass\n",
      "169 patches in SC_surround_IC\n",
      "833 patches in IC_surround_noclass\n",
      "156 patches in IC_surround_SC\n",
      "14940 patches in bg\n",
      "8 patches in 4N\n",
      "275 patches in 12N\n"
     ]
    },
    {
     "name": "stderr",
     "output_type": "stream",
     "text": [
      "Analyzing section 239..\n"
     ]
    },
    {
     "name": "stdout",
     "output_type": "stream",
     "text": [
      "2635 patches in SC\n",
      "626 patches in IC\n",
      "95 patches in RMC\n",
      "22 patches in 10N\n",
      "152 patches in IO\n",
      "333 patches in 4N_surround_noclass\n",
      "941 patches in 12N_surround_noclass\n",
      "22 patches in 12N_surround_10N\n",
      "2074 patches in SC_surround_noclass\n",
      "177 patches in SC_surround_IC\n",
      "859 patches in IC_surround_noclass\n",
      "169 patches in IC_surround_SC\n",
      "579 patches in RMC_surround_noclass\n",
      "434 patches in 10N_surround_noclass\n",
      "213 patches in 10N_surround_12N\n",
      "971 patches in IO_surround_noclass\n",
      "14707 patches in bg\n"
     ]
    },
    {
     "name": "stderr",
     "output_type": "stream",
     "text": [
      "Analyzing section 240..\n"
     ]
    },
    {
     "name": "stdout",
     "output_type": "stream",
     "text": [
      "161 patches in IO\n",
      "657 patches in IC\n",
      "80 patches in RtTg\n",
      "0 patches in 4N\n",
      "289 patches in 12N\n",
      "356 patches in RtTg\n",
      "2653 patches in SC\n",
      "41 patches in Gr\n",
      "115 patches in RMC\n",
      "28 patches in 10N\n",
      "991 patches in IO_surround_noclass\n",
      "868 patches in IC_surround_noclass\n",
      "163 patches in IC_surround_SC\n",
      "643 patches in RtTg_surround_noclass\n",
      "260 patches in 4N_surround_noclass\n",
      "964 patches in 12N_surround_noclass\n",
      "28 patches in 12N_surround_10N\n",
      "924 patches in RtTg_surround_noclass\n",
      "2055 patches in SC_surround_noclass\n",
      "183 patches in SC_surround_IC\n",
      "306 patches in Gr_surround_noclass\n",
      "1 patches in Gr_surround_10N\n",
      "647 patches in RMC_surround_noclass\n",
      "470 patches in 10N_surround_noclass\n",
      "1 patches in 10N_surround_Gr\n",
      "222 patches in 10N_surround_12N\n",
      "14754 patches in bg\n"
     ]
    },
    {
     "name": "stderr",
     "output_type": "stream",
     "text": [
      "Analyzing section 241..\n"
     ]
    },
    {
     "name": "stdout",
     "output_type": "stream",
     "text": [
      "2675 patches in SC\n",
      "683 patches in IC\n",
      "257 patches in 12N\n",
      "167 patches in IO\n",
      "23 patches in 10N\n",
      "129 patches in RMC\n",
      "2066 patches in SC_surround_noclass\n",
      "192 patches in SC_surround_IC\n",
      "885 patches in IC_surround_noclass\n",
      "175 patches in IC_surround_SC\n",
      "902 patches in 12N_surround_noclass\n",
      "23 patches in 12N_surround_10N\n",
      "966 patches in IO_surround_noclass\n",
      "468 patches in 10N_surround_noclass\n",
      "200 patches in 10N_surround_12N\n",
      "655 patches in RMC_surround_noclass\n",
      "15586 patches in bg\n"
     ]
    },
    {
     "name": "stderr",
     "output_type": "stream",
     "text": [
      "Analyzing section 242..\n"
     ]
    },
    {
     "name": "stdout",
     "output_type": "stream",
     "text": [
      "2702 patches in SC\n",
      "154 patches in RMC\n",
      "237 patches in 12N\n",
      "28 patches in 10N\n",
      "717 patches in IC\n",
      "171 patches in IO\n",
      "2056 patches in SC_surround_noclass\n",
      "198 patches in SC_surround_IC\n",
      "696 patches in RMC_surround_noclass\n",
      "845 patches in 12N_surround_noclass\n",
      "28 patches in 12N_surround_10N\n",
      "460 patches in 10N_surround_noclass\n",
      "200 patches in 10N_surround_12N\n",
      "904 patches in IC_surround_noclass\n",
      "177 patches in IC_surround_SC\n",
      "998 patches in IO_surround_noclass\n",
      "14717 patches in bg\n",
      "177 patches in RMC\n",
      "174 patches in IO\n"
     ]
    },
    {
     "name": "stderr",
     "output_type": "stream",
     "text": [
      "Analyzing section 243..\n"
     ]
    },
    {
     "name": "stdout",
     "output_type": "stream",
     "text": [
      "747 patches in IC\n",
      "219 patches in 12N\n",
      "2729 patches in SC\n",
      "28 patches in 10N\n",
      "734 patches in RMC_surround_noclass\n",
      "1031 patches in IO_surround_noclass\n",
      "892 patches in IC_surround_noclass\n",
      "184 patches in IC_surround_SC\n",
      "823 patches in 12N_surround_noclass\n",
      "28 patches in 12N_surround_10N\n",
      "2056 patches in SC_surround_noclass\n",
      "203 patches in SC_surround_IC\n",
      "465 patches in 10N_surround_noclass\n",
      "196 patches in 10N_surround_12N\n",
      "14875 patches in bg\n",
      "204 patches in RMC\n",
      "778 patches in IC\n"
     ]
    },
    {
     "name": "stderr",
     "output_type": "stream",
     "text": [
      "Analyzing section 244..\n"
     ]
    },
    {
     "name": "stdout",
     "output_type": "stream",
     "text": [
      "2742 patches in SC\n",
      "191 patches in IO\n",
      "27 patches in 10N\n",
      "192 patches in 12N\n",
      "771 patches in RMC_surround_noclass\n",
      "934 patches in IC_surround_noclass\n",
      "181 patches in IC_surround_SC\n",
      "2056 patches in SC_surround_noclass\n",
      "202 patches in SC_surround_IC\n",
      "1057 patches in IO_surround_noclass\n",
      "492 patches in 10N_surround_noclass\n",
      "174 patches in 10N_surround_12N\n",
      "786 patches in 12N_surround_noclass\n",
      "27 patches in 12N_surround_10N\n",
      "14897 patches in bg\n"
     ]
    },
    {
     "name": "stderr",
     "output_type": "stream",
     "text": [
      "Analyzing section 245..\n"
     ]
    },
    {
     "name": "stdout",
     "output_type": "stream",
     "text": [
      "445 patches in Pn\n",
      "234 patches in RMC\n",
      "196 patches in IO\n",
      "78 patches in Gr\n",
      "5 patches in 6N\n",
      "98 patches in Sol\n",
      "631 patches in MVe\n",
      "29 patches in 10N\n",
      "385 patches in RtTg\n",
      "75 patches in RPF\n",
      "183 patches in 12N\n",
      "822 patches in IC\n",
      "2804 patches in SC\n",
      "650 patches in Pn_surround_noclass\n",
      "193 patches in Pn_surround_RtTg\n",
      "827 patches in RMC_surround_noclass\n",
      "1147 patches in IO_surround_noclass\n",
      "308 patches in Gr_surround_noclass\n",
      "16 patches in Gr_surround_10N\n",
      "84 patches in Gr_surround_Sol\n",
      "243 patches in 6N_surround_noclass\n",
      "57 patches in 6N_surround_MVe\n",
      "511 patches in Sol_surround_noclass\n",
      "29 patches in Sol_surround_10N\n",
      "78 patches in Sol_surround_Gr\n",
      "100 patches in Sol_surround_12N\n",
      "33 patches in Sol_surround_MVe\n",
      "1085 patches in MVe_surround_noclass\n",
      "7 patches in MVe_surround_10N\n",
      "19 patches in MVe_surround_12N\n",
      "15 patches in MVe_surround_Sol\n",
      "5 patches in MVe_surround_6N\n",
      "415 patches in 10N_surround_noclass\n",
      "23 patches in 10N_surround_Gr\n",
      "171 patches in 10N_surround_12N\n",
      "98 patches in 10N_surround_Sol\n",
      "46 patches in 10N_surround_MVe\n",
      "693 patches in RtTg_surround_noclass\n",
      "243 patches in RtTg_surround_Pn\n",
      "595 patches in RPF_surround_noclass\n",
      "45 patches in RPF_surround_SC\n",
      "629 patches in 12N_surround_noclass\n",
      "29 patches in 12N_surround_10N\n",
      "97 patches in 12N_surround_Sol\n",
      "44 patches in 12N_surround_MVe\n",
      "953 patches in IC_surround_noclass\n",
      "202 patches in IC_surround_SC\n",
      "2036 patches in SC_surround_noclass\n",
      "23 patches in SC_surround_RPF\n",
      "226 patches in SC_surround_IC\n",
      "14745 patches in bg\n",
      "2762 patches in SC\n",
      "23 patches in 10N\n"
     ]
    },
    {
     "name": "stderr",
     "output_type": "stream",
     "text": [
      "Analyzing section 246..\n"
     ]
    },
    {
     "name": "stdout",
     "output_type": "stream",
     "text": [
      "195 patches in IO\n",
      "225 patches in RMC\n",
      "820 patches in IC\n",
      "454 patches in Pn\n",
      "2026 patches in SC_surround_noclass\n",
      "207 patches in SC_surround_IC\n",
      "635 patches in 10N_surround_noclass\n",
      "1102 patches in IO_surround_noclass\n",
      "791 patches in RMC_surround_noclass\n",
      "939 patches in IC_surround_noclass\n",
      "178 patches in IC_surround_SC\n",
      "872 patches in Pn_surround_noclass\n",
      "15441 patches in bg\n",
      "832 patches in IC\n"
     ]
    },
    {
     "name": "stderr",
     "output_type": "stream",
     "text": [
      "Analyzing section 247..\n"
     ]
    },
    {
     "name": "stdout",
     "output_type": "stream",
     "text": [
      "458 patches in Pn\n",
      "195 patches in IO\n",
      "2750 patches in SC\n",
      "18 patches in 10N\n",
      "224 patches in RMC\n",
      "950 patches in IC_surround_noclass\n",
      "181 patches in IC_surround_SC\n",
      "847 patches in Pn_surround_noclass\n",
      "1131 patches in IO_surround_noclass\n",
      "2015 patches in SC_surround_noclass\n",
      "211 patches in SC_surround_IC\n",
      "581 patches in 10N_surround_noclass\n",
      "792 patches in RMC_surround_noclass\n",
      "15288 patches in bg\n",
      "223 patches in RMC\n",
      "849 patches in IC\n"
     ]
    },
    {
     "name": "stderr",
     "output_type": "stream",
     "text": [
      "Analyzing section 248..\n"
     ]
    },
    {
     "name": "stdout",
     "output_type": "stream",
     "text": [
      "197 patches in IO\n",
      "473 patches in Pn\n",
      "12 patches in 10N\n",
      "2742 patches in SC\n",
      "778 patches in RMC_surround_noclass\n",
      "946 patches in IC_surround_noclass\n",
      "188 patches in IC_surround_SC\n",
      "1124 patches in IO_surround_noclass\n",
      "859 patches in Pn_surround_noclass\n",
      "501 patches in 10N_surround_noclass\n",
      "1991 patches in SC_surround_noclass\n",
      "213 patches in SC_surround_IC\n",
      "14445 patches in bg\n",
      "2727 patches in SC\n",
      "223 patches in RMC\n"
     ]
    },
    {
     "name": "stderr",
     "output_type": "stream",
     "text": [
      "Analyzing section 249..\n"
     ]
    },
    {
     "name": "stdout",
     "output_type": "stream",
     "text": [
      "200 patches in IO\n",
      "875 patches in IC\n",
      "479 patches in Pn\n",
      "7 patches in 10N\n",
      "1967 patches in SC_surround_noclass\n",
      "213 patches in SC_surround_IC\n",
      "765 patches in RMC_surround_noclass\n",
      "1121 patches in IO_surround_noclass\n",
      "927 patches in IC_surround_noclass\n",
      "190 patches in IC_surround_SC\n",
      "854 patches in Pn_surround_noclass\n",
      "431 patches in 10N_surround_noclass\n",
      "14563 patches in bg\n"
     ]
    },
    {
     "name": "stderr",
     "output_type": "stream",
     "text": [
      "Analyzing section 250..\n"
     ]
    },
    {
     "name": "stdout",
     "output_type": "stream",
     "text": [
      "2728 patches in SC\n",
      "61 patches in Tz\n",
      "73 patches in Gr\n",
      "227 patches in RMC\n",
      "438 patches in RtTg\n",
      "652 patches in MVe\n",
      "26 patches in 7n\n",
      "5 patches in 10N\n",
      "499 patches in Pn\n",
      "201 patches in IO\n",
      "889 patches in IC\n",
      "1947 patches in SC_surround_noclass\n",
      "217 patches in SC_surround_IC\n",
      "641 patches in Tz_surround_noclass\n",
      "5 patches in Tz_surround_Pn\n",
      "31 patches in Tz_surround_RtTg\n",
      "386 patches in Gr_surround_noclass\n",
      "4 patches in Gr_surround_10N\n",
      "770 patches in RMC_surround_noclass\n",
      "757 patches in RtTg_surround_noclass\n",
      "13 patches in RtTg_surround_Tz\n",
      "192 patches in RtTg_surround_Pn\n",
      "1122 patches in MVe_surround_noclass\n",
      "26 patches in MVe_surround_7n\n",
      "345 patches in 7n_surround_noclass\n",
      "78 patches in 7n_surround_MVe\n",
      "380 patches in 10N_surround_noclass\n",
      "19 patches in 10N_surround_Gr\n",
      "705 patches in Pn_surround_noclass\n",
      "5 patches in Pn_surround_Tz\n",
      "141 patches in Pn_surround_RtTg\n",
      "1124 patches in IO_surround_noclass\n",
      "935 patches in IC_surround_noclass\n",
      "195 patches in IC_surround_SC\n",
      "14582 patches in bg\n"
     ]
    },
    {
     "name": "stderr",
     "output_type": "stream",
     "text": [
      "Analyzing section 251..\n"
     ]
    },
    {
     "name": "stdout",
     "output_type": "stream",
     "text": [
      "906 patches in IC\n",
      "18 patches in 6N\n",
      "4 patches in 10N\n",
      "481 patches in Pn\n",
      "199 patches in IO\n",
      "58 patches in Tz\n",
      "194 patches in RMC\n",
      "2718 patches in SC\n",
      "31 patches in 7n\n",
      "935 patches in IC_surround_noclass\n",
      "192 patches in IC_surround_SC\n",
      "343 patches in 6N_surround_noclass\n",
      "31 patches in 6N_surround_7n\n",
      "357 patches in 10N_surround_noclass\n",
      "813 patches in Pn_surround_noclass\n",
      "1164 patches in IO_surround_noclass\n",
      "655 patches in Tz_surround_noclass\n",
      "734 patches in RMC_surround_noclass\n",
      "1932 patches in SC_surround_noclass\n",
      "218 patches in SC_surround_IC\n",
      "395 patches in 7n_surround_noclass\n",
      "18 patches in 7n_surround_6N\n",
      "14438 patches in bg\n",
      "472 patches in Pn\n",
      "46 patches in 7n\n"
     ]
    },
    {
     "name": "stderr",
     "output_type": "stream",
     "text": [
      "Analyzing section 252..\n"
     ]
    },
    {
     "name": "stdout",
     "output_type": "stream",
     "text": [
      "2699 patches in SC\n",
      "3 patches in 10N\n",
      "910 patches in IC\n",
      "63 patches in Tz\n",
      "179 patches in RMC\n",
      "204 patches in IO\n",
      "827 patches in Pn_surround_noclass\n",
      "453 patches in 7n_surround_noclass\n",
      "1922 patches in SC_surround_noclass\n",
      "215 patches in SC_surround_IC\n",
      "326 patches in 10N_surround_noclass\n",
      "960 patches in IC_surround_noclass\n",
      "188 patches in IC_surround_SC\n",
      "660 patches in Tz_surround_noclass\n",
      "729 patches in RMC_surround_noclass\n",
      "1145 patches in IO_surround_noclass\n",
      "14552 patches in bg\n",
      "471 patches in Pn\n",
      "67 patches in Tz\n"
     ]
    },
    {
     "name": "stderr",
     "output_type": "stream",
     "text": [
      "Analyzing section 253..\n"
     ]
    },
    {
     "name": "stdout",
     "output_type": "stream",
     "text": [
      "161 patches in RMC\n",
      "2 patches in 10N\n",
      "2677 patches in SC\n",
      "200 patches in IO\n",
      "932 patches in IC\n",
      "37 patches in 7n\n",
      "799 patches in Pn_surround_noclass\n",
      "692 patches in Tz_surround_noclass\n",
      "700 patches in RMC_surround_noclass\n",
      "317 patches in 10N_surround_noclass\n",
      "1893 patches in SC_surround_noclass\n",
      "218 patches in SC_surround_IC\n",
      "1139 patches in IO_surround_noclass\n",
      "959 patches in IC_surround_noclass\n",
      "195 patches in IC_surround_SC\n",
      "441 patches in 7n_surround_noclass\n",
      "14611 patches in bg\n"
     ]
    },
    {
     "name": "stderr",
     "output_type": "stream",
     "text": [
      "Analyzing section 254..\n"
     ]
    },
    {
     "name": "stdout",
     "output_type": "stream",
     "text": [
      "463 patches in Pn\n",
      "2674 patches in SC\n",
      "201 patches in IO\n",
      "4 patches in 10N\n",
      "949 patches in IC\n",
      "74 patches in Tz\n",
      "39 patches in 7n\n",
      "155 patches in RMC\n",
      "821 patches in Pn_surround_noclass\n",
      "1875 patches in SC_surround_noclass\n",
      "219 patches in SC_surround_IC\n",
      "1161 patches in IO_surround_noclass\n",
      "321 patches in 10N_surround_noclass\n",
      "943 patches in IC_surround_noclass\n",
      "196 patches in IC_surround_SC\n",
      "687 patches in Tz_surround_noclass\n",
      "450 patches in 7n_surround_noclass\n",
      "690 patches in RMC_surround_noclass\n",
      "14550 patches in bg\n"
     ]
    },
    {
     "name": "stderr",
     "output_type": "stream",
     "text": [
      "Analyzing section 255..\n"
     ]
    },
    {
     "name": "stdout",
     "output_type": "stream",
     "text": [
      "151 patches in RMC\n",
      "963 patches in IC\n",
      "453 patches in Pn\n",
      "79 patches in Tz\n",
      "2649 patches in SC\n",
      "38 patches in 7n\n",
      "200 patches in IO\n",
      "679 patches in RMC_surround_noclass\n",
      "950 patches in IC_surround_noclass\n",
      "194 patches in IC_surround_SC\n",
      "817 patches in Pn_surround_noclass\n",
      "697 patches in Tz_surround_noclass\n",
      "1868 patches in SC_surround_noclass\n",
      "214 patches in SC_surround_IC\n",
      "448 patches in 7n_surround_noclass\n",
      "1200 patches in IO_surround_noclass\n",
      "14017 patches in bg\n",
      "80 patches in Tz\n"
     ]
    },
    {
     "name": "stderr",
     "output_type": "stream",
     "text": [
      "Analyzing section 256..\n"
     ]
    },
    {
     "name": "stdout",
     "output_type": "stream",
     "text": [
      "444 patches in Pn\n",
      "144 patches in RMC\n",
      "202 patches in IO\n",
      "39 patches in 7n\n",
      "976 patches in IC\n",
      "2637 patches in SC\n",
      "702 patches in Tz_surround_noclass\n",
      "811 patches in Pn_surround_noclass\n",
      "670 patches in RMC_surround_noclass\n",
      "1159 patches in IO_surround_noclass\n",
      "447 patches in 7n_surround_noclass\n",
      "960 patches in IC_surround_noclass\n",
      "195 patches in IC_surround_SC\n",
      "1843 patches in SC_surround_noclass\n",
      "222 patches in SC_surround_IC\n",
      "14178 patches in bg\n",
      "42 patches in 7n\n",
      "2617 patches in SC\n"
     ]
    },
    {
     "name": "stderr",
     "output_type": "stream",
     "text": [
      "Analyzing section 257..\n"
     ]
    },
    {
     "name": "stdout",
     "output_type": "stream",
     "text": [
      "201 patches in IO\n",
      "443 patches in Pn\n",
      "81 patches in Tz\n",
      "140 patches in RMC\n",
      "987 patches in IC\n",
      "447 patches in 7n_surround_noclass\n",
      "1841 patches in SC_surround_noclass\n",
      "217 patches in SC_surround_IC\n",
      "1194 patches in IO_surround_noclass\n",
      "805 patches in Pn_surround_noclass\n",
      "717 patches in Tz_surround_noclass\n",
      "661 patches in RMC_surround_noclass\n",
      "958 patches in IC_surround_noclass\n",
      "198 patches in IC_surround_SC\n",
      "14588 patches in bg\n",
      "433 patches in Pn\n",
      "2593 patches in SC\n"
     ]
    },
    {
     "name": "stderr",
     "output_type": "stream",
     "text": [
      "Analyzing section 258..\n"
     ]
    },
    {
     "name": "stdout",
     "output_type": "stream",
     "text": [
      "41 patches in 7n\n",
      "89 patches in Tz\n",
      "202 patches in IO\n",
      "1009 patches in IC\n",
      "129 patches in RMC\n",
      "796 patches in Pn_surround_noclass\n",
      "1822 patches in SC_surround_noclass\n",
      "219 patches in SC_surround_IC\n",
      "454 patches in 7n_surround_noclass\n",
      "730 patches in Tz_surround_noclass\n",
      "1211 patches in IO_surround_noclass\n",
      "939 patches in IC_surround_noclass\n",
      "195 patches in IC_surround_SC\n",
      "645 patches in RMC_surround_noclass\n",
      "14601 patches in bg\n",
      "424 patches in Pn\n"
     ]
    },
    {
     "name": "stderr",
     "output_type": "stream",
     "text": [
      "Analyzing section 259..\n"
     ]
    },
    {
     "name": "stdout",
     "output_type": "stream",
     "text": [
      "2584 patches in SC\n",
      "1016 patches in IC\n",
      "44 patches in 7n\n",
      "200 patches in IO\n",
      "92 patches in Tz\n",
      "122 patches in RMC\n",
      "792 patches in Pn_surround_noclass\n",
      "1814 patches in SC_surround_noclass\n",
      "219 patches in SC_surround_IC\n",
      "965 patches in IC_surround_noclass\n",
      "196 patches in IC_surround_SC\n",
      "456 patches in 7n_surround_noclass\n",
      "1236 patches in IO_surround_noclass\n",
      "742 patches in Tz_surround_noclass\n",
      "641 patches in RMC_surround_noclass\n",
      "14055 patches in bg\n",
      "415 patches in PF\n"
     ]
    },
    {
     "name": "stderr",
     "output_type": "stream",
     "text": [
      "Analyzing section 260..\n"
     ]
    },
    {
     "name": "stdout",
     "output_type": "stream",
     "text": [
      "2568 patches in SC\n",
      "97 patches in Tz\n",
      "122 patches in RMC\n",
      "798 patches in MVe\n",
      "1046 patches in IC\n",
      "421 patches in Pn\n",
      "49 patches in 7n\n",
      "341 patches in RtTg\n",
      "62 patches in Gr\n",
      "206 patches in IO\n",
      "1006 patches in PF_surround_noclass\n",
      "1816 patches in SC_surround_noclass\n",
      "231 patches in SC_surround_IC\n",
      "763 patches in Tz_surround_noclass\n",
      "31 patches in Tz_surround_RtTg\n",
      "640 patches in RMC_surround_noclass\n",
      "1178 patches in MVe_surround_noclass\n",
      "2 patches in MVe_surround_Gr\n",
      "44 patches in MVe_surround_7n\n",
      "964 patches in IC_surround_noclass\n",
      "204 patches in IC_surround_SC\n",
      "740 patches in Pn_surround_noclass\n",
      "27 patches in Pn_surround_RtTg\n",
      "404 patches in 7n_surround_noclass\n",
      "68 patches in 7n_surround_MVe\n",
      "885 patches in RtTg_surround_noclass\n",
      "18 patches in RtTg_surround_Tz\n",
      "31 patches in RtTg_surround_Pn\n",
      "408 patches in Gr_surround_noclass\n",
      "2 patches in Gr_surround_MVe\n",
      "1306 patches in IO_surround_noclass\n",
      "14557 patches in bg\n",
      "413 patches in Pn\n"
     ]
    },
    {
     "name": "stderr",
     "output_type": "stream",
     "text": [
      "Analyzing section 261..\n"
     ]
    },
    {
     "name": "stdout",
     "output_type": "stream",
     "text": [
      "1061 patches in IC\n",
      "97 patches in Tz\n",
      "46 patches in 7n\n",
      "191 patches in IO\n",
      "122 patches in RMC\n",
      "2493 patches in SC\n",
      "778 patches in Pn_surround_noclass\n",
      "955 patches in IC_surround_noclass\n",
      "195 patches in IC_surround_SC\n",
      "768 patches in Tz_surround_noclass\n",
      "456 patches in 7n_surround_noclass\n",
      "1200 patches in IO_surround_noclass\n",
      "630 patches in RMC_surround_noclass\n",
      "1782 patches in SC_surround_noclass\n",
      "221 patches in SC_surround_IC\n",
      "14567 patches in bg\n"
     ]
    },
    {
     "name": "stderr",
     "output_type": "stream",
     "text": [
      "Analyzing section 262..\n"
     ]
    },
    {
     "name": "stdout",
     "output_type": "stream",
     "text": [
      "87 patches in LC\n",
      "133 patches in RMC\n",
      "2413 patches in SC\n",
      "103 patches in Tz\n",
      "410 patches in Pn\n",
      "1103 patches in IC\n",
      "46 patches in 7n\n",
      "184 patches in IO\n",
      "636 patches in LC_surround_noclass\n",
      "644 patches in RMC_surround_noclass\n",
      "1766 patches in SC_surround_noclass\n",
      "221 patches in SC_surround_IC\n",
      "780 patches in Tz_surround_noclass\n",
      "754 patches in Pn_surround_noclass\n",
      "971 patches in IC_surround_noclass\n",
      "197 patches in IC_surround_SC\n",
      "458 patches in 7n_surround_noclass\n",
      "1103 patches in IO_surround_noclass\n",
      "14613 patches in bg\n",
      "111 patches in Tz\n",
      "47 patches in 7n\n"
     ]
    },
    {
     "name": "stderr",
     "output_type": "stream",
     "text": [
      "Analyzing section 263..\n"
     ]
    },
    {
     "name": "stdout",
     "output_type": "stream",
     "text": [
      "174 patches in IO\n",
      "2349 patches in SC\n",
      "141 patches in RMC\n",
      "149 patches in LC\n",
      "1127 patches in IC\n",
      "407 patches in Pn\n",
      "780 patches in Tz_surround_noclass\n",
      "460 patches in 7n_surround_noclass\n",
      "1044 patches in IO_surround_noclass\n",
      "1752 patches in SC_surround_noclass\n",
      "217 patches in SC_surround_IC\n",
      "652 patches in RMC_surround_noclass\n",
      "705 patches in LC_surround_noclass\n",
      "993 patches in IC_surround_noclass\n",
      "191 patches in IC_surround_SC\n",
      "796 patches in Pn_surround_noclass\n",
      "14684 patches in bg\n",
      "115 patches in Tz\n",
      "2291 patches in SC\n",
      "52 patches in 7n\n"
     ]
    },
    {
     "name": "stderr",
     "output_type": "stream",
     "text": [
      "Analyzing section 264..\n"
     ]
    },
    {
     "name": "stdout",
     "output_type": "stream",
     "text": [
      "400 patches in Pn\n",
      "165 patches in IO\n",
      "147 patches in RMC\n",
      "157 patches in LC\n",
      "1145 patches in IC\n",
      "802 patches in Tz_surround_noclass\n",
      "1748 patches in SC_surround_noclass\n",
      "205 patches in SC_surround_IC\n",
      "463 patches in 7n_surround_noclass\n",
      "788 patches in Pn_surround_noclass\n",
      "960 patches in IO_surround_noclass\n",
      "658 patches in RMC_surround_noclass\n",
      "717 patches in LC_surround_noclass\n",
      "996 patches in IC_surround_noclass\n",
      "183 patches in IC_surround_SC\n",
      "14831 patches in bg\n",
      "2217 patches in SC\n",
      "396 patches in Pn\n"
     ]
    },
    {
     "name": "stderr",
     "output_type": "stream",
     "text": [
      "Analyzing section 265..\n"
     ]
    },
    {
     "name": "stdout",
     "output_type": "stream",
     "text": [
      "1180 patches in IC\n",
      "118 patches in Tz\n",
      "48 patches in 7n\n",
      "173 patches in LC\n",
      "160 patches in RMC\n",
      "156 patches in IO\n",
      "1723 patches in SC_surround_noclass\n",
      "203 patches in SC_surround_IC\n",
      "758 patches in Pn_surround_noclass\n",
      "1013 patches in IC_surround_noclass\n",
      "182 patches in IC_surround_SC\n",
      "809 patches in Tz_surround_noclass\n",
      "470 patches in 7n_surround_noclass\n",
      "759 patches in LC_surround_noclass\n",
      "667 patches in RMC_surround_noclass\n",
      "844 patches in IO_surround_noclass\n",
      "14890 patches in bg\n",
      "395 patches in Pn\n",
      "146 patches in IO\n"
     ]
    },
    {
     "name": "stderr",
     "output_type": "stream",
     "text": [
      "Analyzing section 266..\n"
     ]
    },
    {
     "name": "stdout",
     "output_type": "stream",
     "text": [
      "172 patches in RMC\n",
      "2150 patches in SC\n",
      "49 patches in 7n\n",
      "1212 patches in IC\n",
      "193 patches in LC\n",
      "121 patches in Tz\n",
      "802 patches in Pn_surround_noclass\n",
      "773 patches in IO_surround_noclass\n",
      "673 patches in RMC_surround_noclass\n",
      "1713 patches in SC_surround_noclass\n",
      "200 patches in SC_surround_IC\n",
      "471 patches in 7n_surround_noclass\n",
      "1053 patches in IC_surround_noclass\n",
      "178 patches in IC_surround_SC\n",
      "792 patches in LC_surround_noclass\n",
      "810 patches in Tz_surround_noclass\n",
      "14584 patches in bg\n",
      "126 patches in Tz\n"
     ]
    },
    {
     "name": "stderr",
     "output_type": "stream",
     "text": [
      "Analyzing section 267..\n"
     ]
    },
    {
     "name": "stdout",
     "output_type": "stream",
     "text": [
      "392 patches in Pn\n",
      "133 patches in IO\n",
      "176 patches in RMC\n",
      "2079 patches in SC\n",
      "213 patches in LC\n",
      "1245 patches in IC\n",
      "54 patches in 7n\n",
      "826 patches in Tz_surround_noclass\n",
      "805 patches in Pn_surround_noclass\n",
      "725 patches in IO_surround_noclass\n",
      "691 patches in RMC_surround_noclass\n",
      "1691 patches in SC_surround_noclass\n",
      "197 patches in SC_surround_IC\n",
      "837 patches in LC_surround_noclass\n",
      "1068 patches in IC_surround_noclass\n",
      "176 patches in IC_surround_SC\n",
      "474 patches in 7n_surround_noclass\n",
      "14564 patches in bg\n",
      "1291 patches in IC\n",
      "274 patches in RtTg\n",
      "60 patches in 7n\n",
      "396 patches in Pn\n",
      "194 patches in MPB\n"
     ]
    },
    {
     "name": "stderr",
     "output_type": "stream",
     "text": [
      "Analyzing section 268..\n"
     ]
    },
    {
     "name": "stdout",
     "output_type": "stream",
     "text": [
      "970 patches in MVe\n",
      "131 patches in IO\n",
      "180 patches in Sol\n",
      "132 patches in Tz\n",
      "2034 patches in SC\n",
      "236 patches in LC\n",
      "195 patches in RMC\n",
      "1082 patches in IC_surround_noclass\n",
      "180 patches in IC_surround_SC\n",
      "857 patches in RtTg_surround_noclass\n",
      "9 patches in RtTg_surround_Tz\n",
      "32 patches in RtTg_surround_Pn\n",
      "397 patches in 7n_surround_noclass\n",
      "87 patches in 7n_surround_MVe\n",
      "759 patches in Pn_surround_noclass\n",
      "23 patches in Pn_surround_RtTg\n",
      "695 patches in MPB_surround_noclass\n",
      "170 patches in MPB_surround_LC\n",
      "1167 patches in MVe_surround_noclass\n",
      "162 patches in MVe_surround_LC\n",
      "47 patches in MVe_surround_7n\n",
      "105 patches in MVe_surround_Sol\n",
      "617 patches in IO_surround_noclass\n",
      "682 patches in Sol_surround_noclass\n",
      "124 patches in Sol_surround_MVe\n",
      "828 patches in Tz_surround_noclass\n",
      "27 patches in Tz_surround_RtTg\n",
      "1678 patches in SC_surround_noclass\n",
      "212 patches in SC_surround_IC\n",
      "534 patches in LC_surround_noclass\n",
      "185 patches in LC_surround_MPB\n",
      "172 patches in LC_surround_MVe\n",
      "709 patches in RMC_surround_noclass\n",
      "14928 patches in bg\n",
      "73 patches in IO\n",
      "1294 patches in IC\n",
      "194 patches in LC"
     ]
    },
    {
     "name": "stderr",
     "output_type": "stream",
     "text": [
      "Analyzing section 269..\n"
     ]
    },
    {
     "name": "stdout",
     "output_type": "stream",
     "text": [
      "\n",
      "50 patches in 7n\n",
      "380 patches in Pn\n",
      "106 patches in Tz\n",
      "1984 patches in SC\n",
      "552 patches in IO_surround_noclass\n",
      "1090 patches in IC_surround_noclass\n",
      "170 patches in IC_surround_SC\n",
      "814 patches in LC_surround_noclass\n",
      "473 patches in 7n_surround_noclass\n",
      "826 patches in Pn_surround_noclass\n",
      "753 patches in Tz_surround_noclass\n",
      "1659 patches in SC_surround_noclass\n",
      "193 patches in SC_surround_IC\n",
      "14863 patches in bg\n",
      "1319 patches in IC\n",
      "116 patches in RtTg\n",
      "86 patches in LRt\n"
     ]
    },
    {
     "name": "stderr",
     "output_type": "stream",
     "text": [
      "Analyzing section 270..\n"
     ]
    },
    {
     "name": "stdout",
     "output_type": "stream",
     "text": [
      "1954 patches in SC\n",
      "365 patches in Pn\n",
      "88 patches in Tz\n",
      "159 patches in LC\n",
      "52 patches in 7n\n",
      "43 patches in IO\n",
      "1084 patches in IC_surround_noclass\n",
      "175 patches in IC_surround_SC\n",
      "782 patches in RtTg_surround_noclass\n",
      "10 patches in RtTg_surround_Tz\n",
      "9 patches in RtTg_surround_Pn\n",
      "629 patches in LRt_surround_noclass\n",
      "1649 patches in SC_surround_noclass\n",
      "199 patches in SC_surround_IC\n",
      "717 patches in Pn_surround_noclass\n",
      "7 patches in Pn_surround_RtTg\n",
      "669 patches in Tz_surround_noclass\n",
      "24 patches in Tz_surround_RtTg\n",
      "756 patches in LC_surround_noclass\n",
      "473 patches in 7n_surround_noclass\n",
      "513 patches in IO_surround_noclass\n",
      "15041 patches in bg\n"
     ]
    },
    {
     "name": "stderr",
     "output_type": "stream",
     "text": [
      "Analyzing section 271..\n"
     ]
    },
    {
     "name": "stdout",
     "output_type": "stream",
     "text": [
      "1927 patches in SC\n",
      "130 patches in LC\n",
      "1341 patches in IC\n",
      "50 patches in 7n\n",
      "352 patches in Pn\n",
      "69 patches in Tz\n",
      "94 patches in LRt\n",
      "1630 patches in SC_surround_noclass\n",
      "196 patches in SC_surround_IC\n",
      "719 patches in LC_surround_noclass\n",
      "1084 patches in IC_surround_noclass\n",
      "172 patches in IC_surround_SC\n",
      "474 patches in 7n_surround_noclass\n",
      "779 patches in Pn_surround_noclass\n",
      "628 patches in Tz_surround_noclass\n",
      "636 patches in LRt_surround_noclass\n",
      "14965 patches in bg\n",
      "110 patches in LRt\n"
     ]
    },
    {
     "name": "stderr",
     "output_type": "stream",
     "text": [
      "Analyzing section 272..\n"
     ]
    },
    {
     "name": "stdout",
     "output_type": "stream",
     "text": [
      "342 patches in Pn\n",
      "49 patches in Tz\n",
      "94 patches in LC\n",
      "51 patches in 7n\n",
      "1887 patches in SC\n",
      "1352 patches in IC\n",
      "685 patches in LRt_surround_noclass\n",
      "790 patches in Pn_surround_noclass\n",
      "548 patches in Tz_surround_noclass\n",
      "704 patches in LC_surround_noclass\n",
      "470 patches in 7n_surround_noclass\n",
      "1634 patches in SC_surround_noclass\n",
      "196 patches in SC_surround_IC\n",
      "1110 patches in IC_surround_noclass\n",
      "169 patches in IC_surround_SC\n",
      "14974 patches in bg\n",
      "333 patches in Pn\n",
      "52 patches in 7n\n",
      "1863 patches in SC\n"
     ]
    },
    {
     "name": "stderr",
     "output_type": "stream",
     "text": [
      "Analyzing section 273..\n"
     ]
    },
    {
     "name": "stdout",
     "output_type": "stream",
     "text": [
      "1378 patches in IC\n",
      "79 patches in LC\n",
      "129 patches in LRt\n",
      "35 patches in Tz\n",
      "721 patches in Pn_surround_noclass\n",
      "475 patches in 7n_surround_noclass\n",
      "1618 patches in SC_surround_noclass\n",
      "202 patches in SC_surround_IC\n",
      "1101 patches in IC_surround_noclass\n",
      "173 patches in IC_surround_SC\n",
      "646 patches in LC_surround_noclass\n",
      "727 patches in LRt_surround_noclass\n",
      "482 patches in Tz_surround_noclass\n",
      "15432 patches in bg\n",
      "148 patches in LRt\n",
      "22 patches in Tz\n"
     ]
    },
    {
     "name": "stderr",
     "output_type": "stream",
     "text": [
      "Analyzing section 274..\n"
     ]
    },
    {
     "name": "stdout",
     "output_type": "stream",
     "text": [
      "1834 patches in SC\n",
      "53 patches in 7n\n",
      "317 patches in Pn\n",
      "6 patches in 7N\n",
      "75 patches in LC\n",
      "1398 patches in IC\n",
      "773 patches in LRt_surround_noclass\n",
      "409 patches in Tz_surround_noclass\n",
      "1599 patches in SC_surround_noclass\n",
      "205 patches in SC_surround_IC\n",
      "475 patches in 7n_surround_noclass\n",
      "751 patches in Pn_surround_noclass\n",
      "306 patches in 7N_surround_noclass\n",
      "670 patches in LC_surround_noclass\n",
      "1097 patches in IC_surround_noclass\n",
      "173 patches in IC_surround_SC\n",
      "15170 patches in bg\n",
      "45 patches in RtTg\n",
      "173 patches in LRt\n",
      "1429 patches in IC\n",
      "665 patches in Sp5C\n"
     ]
    },
    {
     "name": "stderr",
     "output_type": "stream",
     "text": [
      "Analyzing section 275..\n"
     ]
    },
    {
     "name": "stdout",
     "output_type": "stream",
     "text": [
      "34 patches in SNC\n",
      "57 patches in 7n\n",
      "226 patches in SNR\n",
      "39 patches in 7N\n",
      "1813 patches in SC\n",
      "307 patches in Pn\n",
      "14 patches in Tz\n",
      "594 patches in RtTg_surround_noclass\n",
      "11 patches in RtTg_surround_Tz\n",
      "19 patches in RtTg_surround_Pn\n",
      "856 patches in LRt_surround_noclass\n",
      "1113 patches in IC_surround_noclass\n",
      "177 patches in IC_surround_SC\n",
      "1171 patches in Sp5C_surround_noclass\n",
      "454 patches in SNC_surround_noclass\n",
      "150 patches in SNC_surround_SNR\n",
      "482 patches in 7n_surround_noclass\n",
      "762 patches in SNR_surround_noclass\n",
      "34 patches in SNR_surround_SNC\n",
      "467 patches in 7N_surround_noclass\n",
      "1595 patches in SC_surround_noclass\n",
      "214 patches in SC_surround_IC\n",
      "719 patches in Pn_surround_noclass\n",
      "9 patches in Pn_surround_RtTg\n",
      "349 patches in Tz_surround_noclass\n",
      "17 patches in Tz_surround_RtTg\n",
      "15482 patches in bg\n"
     ]
    },
    {
     "name": "stderr",
     "output_type": "stream",
     "text": [
      "Analyzing section 276..\n"
     ]
    },
    {
     "name": "stdout",
     "output_type": "stream",
     "text": [
      "703 patches in Sp5C\n",
      "56 patches in 7N\n",
      "51 patches in 7n\n",
      "233 patches in SNR\n",
      "169 patches in LRt\n",
      "1440 patches in IC\n",
      "1751 patches in SC\n",
      "29 patches in SNC\n",
      "308 patches in Pn\n",
      "1167 patches in Sp5C_surround_noclass\n",
      "512 patches in 7N_surround_noclass\n",
      "470 patches in 7n_surround_noclass\n",
      "785 patches in SNR_surround_noclass\n",
      "29 patches in SNR_surround_SNC\n",
      "826 patches in LRt_surround_noclass\n",
      "1105 patches in IC_surround_noclass\n",
      "168 patches in IC_surround_SC\n",
      "1563 patches in SC_surround_noclass\n",
      "200 patches in SC_surround_IC\n",
      "432 patches in SNC_surround_noclass\n",
      "148 patches in SNC_surround_SNR\n",
      "730 patches in Pn_surround_noclass\n",
      "15511 patches in bg\n",
      "756 patches in Sp5C\n",
      "178 patches in LRt\n",
      "29 patches in SNC\n"
     ]
    },
    {
     "name": "stderr",
     "output_type": "stream",
     "text": [
      "Analyzing section 277..\n"
     ]
    },
    {
     "name": "stdout",
     "output_type": "stream",
     "text": [
      "252 patches in SNR\n",
      "299 patches in Pn\n",
      "51 patches in 7n\n",
      "1457 patches in IC\n",
      "73 patches in 7N\n",
      "1712 patches in SC\n",
      "1196 patches in Sp5C_surround_noclass\n",
      "816 patches in LRt_surround_noclass\n",
      "417 patches in SNC_surround_noclass\n",
      "153 patches in SNC_surround_SNR\n",
      "801 patches in SNR_surround_noclass\n",
      "29 patches in SNR_surround_SNC\n",
      "711 patches in Pn_surround_noclass\n",
      "475 patches in 7n_surround_noclass\n",
      "1158 patches in IC_surround_noclass\n",
      "167 patches in IC_surround_SC\n",
      "546 patches in 7N_surround_noclass\n",
      "1540 patches in SC_surround_noclass\n",
      "197 patches in SC_surround_IC\n",
      "15346 patches in bg\n"
     ]
    },
    {
     "name": "stderr",
     "output_type": "stream",
     "text": [
      "Analyzing section 278..\n"
     ]
    },
    {
     "name": "stdout",
     "output_type": "stream",
     "text": [
      "817 patches in Sp5C\n",
      "31 patches in SNC\n",
      "303 patches in Pn\n",
      "266 patches in SNR\n",
      "1663 patches in SC\n",
      "98 patches in 7N\n",
      "182 patches in LRt\n",
      "51 patches in 7n\n",
      "1478 patches in IC\n",
      "1219 patches in Sp5C_surround_noclass\n",
      "405 patches in SNC_surround_noclass\n",
      "152 patches in SNC_surround_SNR\n",
      "716 patches in Pn_surround_noclass\n",
      "835 patches in SNR_surround_noclass\n",
      "31 patches in SNR_surround_SNC\n",
      "1512 patches in SC_surround_noclass\n",
      "199 patches in SC_surround_IC\n",
      "580 patches in 7N_surround_noclass\n",
      "820 patches in LRt_surround_noclass\n",
      "477 patches in 7n_surround_noclass\n",
      "1173 patches in IC_surround_noclass\n",
      "166 patches in IC_surround_SC\n",
      "15505 patches in bg\n",
      "54 patches in 7n\n",
      "191 patches in LRt\n",
      "123 patches in 7N\n",
      "30 patches in SNC\n",
      "297 patches in Pn\n"
     ]
    },
    {
     "name": "stderr",
     "output_type": "stream",
     "text": [
      "Analyzing section 279..\n"
     ]
    },
    {
     "name": "stdout",
     "output_type": "stream",
     "text": [
      "1625 patches in SC\n",
      "287 patches in SNR\n",
      "1490 patches in IC\n",
      "872 patches in Sp5C\n",
      "476 patches in 7n_surround_noclass\n",
      "814 patches in LRt_surround_noclass\n",
      "625 patches in 7N_surround_noclass\n",
      "390 patches in SNC_surround_noclass\n",
      "156 patches in SNC_surround_SNR\n",
      "683 patches in Pn_surround_noclass\n",
      "1503 patches in SC_surround_noclass\n",
      "192 patches in SC_surround_IC\n",
      "863 patches in SNR_surround_noclass\n",
      "30 patches in SNR_surround_SNC\n",
      "1171 patches in IC_surround_noclass\n",
      "163 patches in IC_surround_SC\n",
      "1231 patches in Sp5C_surround_noclass\n",
      "15741 patches in bg\n",
      "153 patches in 7N\n"
     ]
    },
    {
     "name": "stderr",
     "output_type": "stream",
     "text": [
      "Analyzing section 280..\n"
     ]
    },
    {
     "name": "stdout",
     "output_type": "stream",
     "text": [
      "298 patches in Pn\n",
      "304 patches in SNR\n",
      "193 patches in LRt\n",
      "1513 patches in IC\n",
      "1584 patches in SC\n",
      "935 patches in Sp5C\n",
      "53 patches in 7n\n",
      "29 patches in SNC\n",
      "668 patches in 7N_surround_noclass\n",
      "683 patches in Pn_surround_noclass\n",
      "891 patches in SNR_surround_noclass\n",
      "29 patches in SNR_surround_SNC\n",
      "823 patches in LRt_surround_noclass\n",
      "1199 patches in IC_surround_noclass\n",
      "165 patches in IC_surround_SC\n",
      "1476 patches in SC_surround_noclass\n",
      "194 patches in SC_surround_IC\n",
      "1233 patches in Sp5C_surround_noclass\n",
      "480 patches in 7n_surround_noclass\n",
      "383 patches in SNC_surround_noclass\n",
      "163 patches in SNC_surround_SNR\n",
      "15873 patches in bg\n",
      "1544 patches in SC\n"
     ]
    },
    {
     "name": "stderr",
     "output_type": "stream",
     "text": [
      "Analyzing section 281..\n"
     ]
    },
    {
     "name": "stdout",
     "output_type": "stream",
     "text": [
      "327 patches in SNR\n",
      "191 patches in LRt\n",
      "1007 patches in Sp5C\n",
      "293 patches in Pn\n",
      "185 patches in 7N\n",
      "29 patches in SNC\n",
      "1541 patches in IC\n",
      "55 patches in 7n\n",
      "1459 patches in SC_surround_noclass\n",
      "193 patches in SC_surround_IC\n",
      "924 patches in SNR_surround_noclass\n",
      "29 patches in SNR_surround_SNC\n",
      "827 patches in LRt_surround_noclass\n",
      "1272 patches in Sp5C_surround_noclass\n",
      "688 patches in Pn_surround_noclass\n",
      "719 patches in 7N_surround_noclass\n",
      "377 patches in SNC_surround_noclass\n",
      "155 patches in SNC_surround_SNR\n",
      "1244 patches in IC_surround_noclass\n",
      "159 patches in IC_surround_SC\n",
      "478 patches in 7n_surround_noclass\n",
      "15755 patches in bg\n",
      "344 patches in SNR\n"
     ]
    },
    {
     "name": "stderr",
     "output_type": "stream",
     "text": [
      "Analyzing section 282..\n"
     ]
    },
    {
     "name": "stdout",
     "output_type": "stream",
     "text": [
      "1508 patches in SC\n",
      "193 patches in LRt\n",
      "1553 patches in IC\n",
      "1060 patches in Sp5C\n",
      "292 patches in Pn\n",
      "26 patches in SNC\n",
      "225 patches in 7N\n",
      "54 patches in 7n\n",
      "950 patches in SNR_surround_noclass\n",
      "26 patches in SNR_surround_SNC\n",
      "1429 patches in SC_surround_noclass\n",
      "191 patches in SC_surround_IC\n",
      "841 patches in LRt_surround_noclass\n",
      "1247 patches in IC_surround_noclass\n",
      "160 patches in IC_surround_SC\n",
      "1318 patches in Sp5C_surround_noclass\n",
      "681 patches in Pn_surround_noclass\n",
      "373 patches in SNC_surround_noclass\n",
      "159 patches in SNC_surround_SNR\n",
      "742 patches in 7N_surround_noclass\n",
      "486 patches in 7n_surround_noclass\n",
      "16001 patches in bg\n",
      "195 patches in LRt\n",
      "265 patches in 7N\n",
      "1460 patches in SC\n"
     ]
    },
    {
     "name": "stderr",
     "output_type": "stream",
     "text": [
      "Analyzing section 283..\n"
     ]
    },
    {
     "name": "stdout",
     "output_type": "stream",
     "text": [
      "284 patches in Pn\n",
      "27 patches in SNC\n",
      "1572 patches in IC\n",
      "1147 patches in Sp5C\n",
      "59 patches in 7n\n",
      "365 patches in SNR\n",
      "855 patches in LRt_surround_noclass\n",
      "752 patches in 7N_surround_noclass\n",
      "1413 patches in SC_surround_noclass\n",
      "188 patches in SC_surround_IC\n",
      "699 patches in Pn_surround_noclass\n",
      "366 patches in SNC_surround_noclass\n",
      "163 patches in SNC_surround_SNR\n",
      "1257 patches in IC_surround_noclass\n",
      "158 patches in IC_surround_SC\n",
      "1390 patches in Sp5C_surround_noclass\n",
      "489 patches in 7n_surround_noclass\n",
      "985 patches in SNR_surround_noclass\n",
      "27 patches in SNR_surround_SNC\n",
      "16325 patches in bg\n",
      "27 patches in SNC\n",
      "1427 patches in SC\n",
      "307 patches in 7N\n",
      "62 patches in 7n\n"
     ]
    },
    {
     "name": "stderr",
     "output_type": "stream",
     "text": [
      "Analyzing section 284..\n"
     ]
    },
    {
     "name": "stdout",
     "output_type": "stream",
     "text": [
      "209 patches in LRt\n",
      "1604 patches in IC\n",
      "288 patches in Pn\n",
      "1221 patches in Sp5C\n",
      "390 patches in SNR\n",
      "384 patches in SNC_surround_noclass\n",
      "169 patches in SNC_surround_SNR\n",
      "1402 patches in SC_surround_noclass\n",
      "197 patches in SC_surround_IC\n",
      "829 patches in 7N_surround_noclass\n",
      "501 patches in 7n_surround_noclass\n",
      "888 patches in LRt_surround_noclass\n",
      "1306 patches in IC_surround_noclass\n",
      "163 patches in IC_surround_SC\n",
      "741 patches in Pn_surround_noclass\n",
      "1345 patches in Sp5C_surround_noclass\n",
      "1012 patches in SNR_surround_noclass\n",
      "27 patches in SNR_surround_SNC\n",
      "16118 patches in bg\n"
     ]
    },
    {
     "name": "stderr",
     "output_type": "stream",
     "text": [
      "Analyzing section 285..\n"
     ]
    },
    {
     "name": "stdout",
     "output_type": "stream",
     "text": [
      "300 patches in 7N\n",
      "1218 patches in Sp5C\n",
      "25 patches in SNC\n",
      "227 patches in LRt\n",
      "253 patches in Pn\n",
      "58 patches in 7n\n",
      "428 patches in SNR\n",
      "1393 patches in SC\n",
      "1557 patches in IC\n",
      "824 patches in 7N_surround_noclass\n",
      "1347 patches in Sp5C_surround_noclass\n",
      "352 patches in SNC_surround_noclass\n",
      "164 patches in SNC_surround_SNR\n",
      "845 patches in LRt_surround_noclass\n",
      "719 patches in Pn_surround_noclass\n",
      "490 patches in 7n_surround_noclass\n",
      "1053 patches in SNR_surround_noclass\n",
      "25 patches in SNR_surround_SNC\n",
      "1378 patches in SC_surround_noclass\n",
      "195 patches in SC_surround_IC\n",
      "1286 patches in IC_surround_noclass\n",
      "160 patches in IC_surround_SC\n",
      "16310 patches in bg\n"
     ]
    },
    {
     "name": "stderr",
     "output_type": "stream",
     "text": [
      "Analyzing section 286..\n"
     ]
    },
    {
     "name": "stdout",
     "output_type": "stream",
     "text": [
      "1237 patches in Sp5C\n",
      "303 patches in 7N\n",
      "223 patches in Pn\n",
      "1368 patches in SC\n",
      "26 patches in SNC\n",
      "247 patches in LRt\n",
      "467 patches in SNR\n",
      "1529 patches in IC\n",
      "55 patches in 7n\n",
      "1306 patches in Sp5C_surround_noclass\n",
      "828 patches in 7N_surround_noclass\n",
      "729 patches in Pn_surround_noclass\n",
      "1370 patches in SC_surround_noclass\n",
      "201 patches in SC_surround_IC\n",
      "346 patches in SNC_surround_noclass\n",
      "163 patches in SNC_surround_SNR\n",
      "822 patches in LRt_surround_noclass\n",
      "1086 patches in SNR_surround_noclass\n",
      "26 patches in SNR_surround_SNC\n",
      "1286 patches in IC_surround_noclass\n",
      "160 patches in IC_surround_SC\n",
      "490 patches in 7n_surround_noclass\n",
      "16535 patches in bg\n"
     ]
    },
    {
     "name": "stderr",
     "output_type": "stream",
     "text": [
      "Analyzing section 287..\n"
     ]
    },
    {
     "name": "stdout",
     "output_type": "stream",
     "text": [
      "197 patches in Pn\n",
      "66 patches in 5N\n",
      "18 patches in SNC\n",
      "301 patches in 7N\n",
      "268 patches in LRt\n",
      "52 patches in 7n\n",
      "508 patches in SNR\n",
      "1352 patches in SC\n",
      "1506 patches in IC\n",
      "1251 patches in Sp5C\n",
      "730 patches in Pn_surround_noclass\n",
      "528 patches in 5N_surround_noclass\n",
      "1 patches in 5N_surround_7n\n",
      "350 patches in SNC_surround_noclass\n",
      "165 patches in SNC_surround_SNR\n",
      "823 patches in 7N_surround_noclass\n",
      "872 patches in LRt_surround_noclass\n",
      "487 patches in 7n_surround_noclass\n",
      "1130 patches in SNR_surround_noclass\n",
      "18 patches in SNR_surround_SNC\n",
      "1359 patches in SC_surround_noclass\n",
      "206 patches in SC_surround_IC\n",
      "1278 patches in IC_surround_noclass\n",
      "169 patches in IC_surround_SC\n",
      "1299 patches in Sp5C_surround_noclass\n",
      "16462 patches in bg\n"
     ]
    },
    {
     "name": "stderr",
     "output_type": "stream",
     "text": [
      "Analyzing section 288..\n"
     ]
    },
    {
     "name": "stdout",
     "output_type": "stream",
     "text": [
      "24 patches in SNC\n",
      "99 patches in 5N\n",
      "294 patches in 7N\n",
      "1467 patches in IC\n",
      "298 patches in LRt\n",
      "165 patches in Pn\n",
      "1268 patches in Sp5C\n",
      "558 patches in SNR\n",
      "1324 patches in SC\n",
      "51 patches in 7n\n",
      "345 patches in SNC_surround_noclass\n",
      "168 patches in SNC_surround_SNR\n",
      "583 patches in 5N_surround_noclass\n",
      "823 patches in 7N_surround_noclass\n",
      "1268 patches in IC_surround_noclass\n",
      "173 patches in IC_surround_SC\n",
      "895 patches in LRt_surround_noclass\n",
      "711 patches in Pn_surround_noclass\n",
      "1308 patches in Sp5C_surround_noclass\n",
      "1163 patches in SNR_surround_noclass\n",
      "24 patches in SNR_surround_SNC\n",
      "1344 patches in SC_surround_noclass\n",
      "214 patches in SC_surround_IC\n",
      "479 patches in 7n_surround_noclass\n",
      "16635 patches in bg\n",
      "146 patches in 5N\n",
      "20 patches in SNC\n",
      "1307 patches in SC\n"
     ]
    },
    {
     "name": "stderr",
     "output_type": "stream",
     "text": [
      "Analyzing section 289..\n"
     ]
    },
    {
     "name": "stdout",
     "output_type": "stream",
     "text": [
      "1444 patches in IC\n",
      "1283 patches in Sp5C\n",
      "309 patches in LRt\n",
      "595 patches in SNR\n",
      "52 patches in 7n\n",
      "294 patches in 7N\n",
      "141 patches in Pn\n",
      "644 patches in 5N_surround_noclass\n",
      "2 patches in 5N_surround_7n\n",
      "345 patches in SNC_surround_noclass\n",
      "167 patches in SNC_surround_SNR\n",
      "1336 patches in SC_surround_noclass\n",
      "222 patches in SC_surround_IC\n",
      "1287 patches in IC_surround_noclass\n",
      "175 patches in IC_surround_SC\n",
      "1335 patches in Sp5C_surround_noclass\n",
      "924 patches in LRt_surround_noclass\n",
      "1217 patches in SNR_surround_noclass\n",
      "20 patches in SNR_surround_SNC\n",
      "481 patches in 7n_surround_noclass\n",
      "2 patches in 7n_surround_5N\n",
      "821 patches in 7N_surround_noclass\n",
      "721 patches in Pn_surround_noclass\n",
      "16536 patches in bg\n"
     ]
    },
    {
     "name": "stderr",
     "output_type": "stream",
     "text": [
      "Analyzing section 290..\n"
     ]
    },
    {
     "name": "stdout",
     "output_type": "stream",
     "text": [
      "649 patches in SNR\n",
      "115 patches in Pn\n",
      "391 patches in APT\n",
      "213 patches in Sol\n",
      "143 patches in SuVe\n",
      "1293 patches in SC\n",
      "347 patches in LPB\n",
      "212 patches in 5N\n",
      "24 patches in SNC\n",
      "54 patches in 7n\n",
      "340 patches in LRt\n",
      "1311 patches in Sp5C\n",
      "207 patches in LVe\n",
      "1422 patches in IC\n",
      "289 patches in 7N\n",
      "1284 patches in SNR_surround_noclass\n",
      "24 patches in SNR_surround_SNC\n",
      "722 patches in Pn_surround_noclass\n",
      "916 patches in APT_surround_noclass\n",
      "21 patches in APT_surround_SC\n",
      "855 patches in Sol_surround_noclass\n",
      "732 patches in SuVe_surround_noclass\n",
      "75 patches in SuVe_surround_LVe\n",
      "4 patches in SuVe_surround_5N\n",
      "1313 patches in SC_surround_noclass\n",
      "26 patches in SC_surround_APT\n",
      "236 patches in SC_surround_IC\n",
      "936 patches in LPB_surround_noclass\n",
      "731 patches in 5N_surround_noclass\n",
      "13 patches in 5N_surround_7n\n",
      "2 patches in 5N_surround_SuVe\n",
      "370 patches in SNC_surround_noclass\n",
      "179 patches in SNC_surround_SNR\n",
      "492 patches in 7n_surround_noclass\n",
      "10 patches in 7n_surround_5N\n",
      "909 patches in LRt_surround_noclass\n",
      "1338 patches in Sp5C_surround_noclass\n",
      "691 patches in LVe_surround_noclass\n",
      "48 patches in LVe_surround_SuVe\n",
      "1288 patches in IC_surround_noclass\n",
      "181 patches in IC_surround_SC\n",
      "841 patches in 7N_surround_noclass\n",
      "16950 patches in bg\n",
      "312 patches in LPB\n",
      "224 patches in 5N\n",
      "78 patches in Pn\n",
      "51 patches in 7n\n"
     ]
    },
    {
     "name": "stderr",
     "output_type": "stream",
     "text": [
      "Analyzing section 291..\n"
     ]
    },
    {
     "name": "stdout",
     "output_type": "stream",
     "text": [
      "1191 patches in SC\n",
      "1393 patches in IC\n",
      "304 patches in 7N\n",
      "670 patches in SNR\n",
      "327 patches in LRt\n",
      "17 patches in SNC\n",
      "1300 patches in Sp5C\n",
      "890 patches in LPB_surround_noclass\n",
      "748 patches in 5N_surround_noclass\n",
      "5 patches in 5N_surround_7n\n",
      "668 patches in Pn_surround_noclass\n",
      "482 patches in 7n_surround_noclass\n",
      "3 patches in 7n_surround_5N\n",
      "1313 patches in SC_surround_noclass\n",
      "202 patches in SC_surround_IC\n",
      "1309 patches in IC_surround_noclass\n",
      "159 patches in IC_surround_SC\n",
      "838 patches in 7N_surround_noclass\n",
      "1285 patches in SNR_surround_noclass\n",
      "17 patches in SNR_surround_SNC\n",
      "935 patches in LRt_surround_noclass\n",
      "364 patches in SNC_surround_noclass\n",
      "178 patches in SNC_surround_SNR\n",
      "1300 patches in Sp5C_surround_noclass\n",
      "16839 patches in bg\n",
      "47 patches in Pn\n",
      "309 patches in LRt\n",
      "1083 patches in SC\n"
     ]
    },
    {
     "name": "stderr",
     "output_type": "stream",
     "text": [
      "Analyzing section 292..\n"
     ]
    },
    {
     "name": "stdout",
     "output_type": "stream",
     "text": [
      "695 patches in SNR\n",
      "1366 patches in IC\n",
      "52 patches in 7n\n",
      "282 patches in LPB\n",
      "316 patches in 7N\n",
      "1287 patches in Sp5C\n",
      "14 patches in SNC\n",
      "241 patches in 5N\n",
      "618 patches in Pn_surround_noclass\n",
      "917 patches in LRt_surround_noclass\n",
      "1290 patches in SC_surround_noclass\n",
      "167 patches in SC_surround_IC\n",
      "1320 patches in SNR_surround_noclass\n",
      "14 patches in SNR_surround_SNC\n",
      "1349 patches in IC_surround_noclass\n",
      "136 patches in IC_surround_SC\n",
      "489 patches in 7n_surround_noclass\n",
      "2 patches in 7n_surround_5N\n",
      "845 patches in LPB_surround_noclass\n",
      "853 patches in 7N_surround_noclass\n",
      "1266 patches in Sp5C_surround_noclass\n",
      "365 patches in SNC_surround_noclass\n",
      "182 patches in SNC_surround_SNR\n",
      "776 patches in 5N_surround_noclass\n",
      "3 patches in 5N_surround_7n\n",
      "16954 patches in bg\n",
      "721"
     ]
    },
    {
     "name": "stderr",
     "output_type": "stream",
     "text": [
      "Analyzing section 293..\n"
     ]
    },
    {
     "name": "stdout",
     "output_type": "stream",
     "text": [
      " patches in SNR\n",
      "21 patches in Pn\n",
      "1346 patches in IC\n",
      "264 patches in LPB\n",
      "337 patches in 7N\n",
      "1007 patches in SC\n",
      "11 patches in SNC\n",
      "257 patches in 5N\n",
      "1275 patches in Sp5C\n",
      "52 patches in 7n\n",
      "293 patches in LRt\n",
      "1339 patches in SNR_surround_noclass\n",
      "11 patches in SNR_surround_SNC\n",
      "570 patches in Pn_surround_noclass\n",
      "1363 patches in IC_surround_noclass\n",
      "120 patches in IC_surround_SC\n",
      "819 patches in LPB_surround_noclass\n",
      "857 patches in 7N_surround_noclass\n",
      "1271 patches in SC_surround_noclass\n",
      "145 patches in SC_surround_IC\n",
      "374 patches in SNC_surround_noclass\n",
      "198 patches in SNC_surround_SNR\n",
      "800 patches in 5N_surround_noclass\n",
      "1 patches in 5N_surround_7n\n",
      "1297 patches in Sp5C_surround_noclass\n",
      "485 patches in 7n_surround_noclass\n",
      "902 patches in LRt_surround_noclass\n",
      "17036 patches in bg\n",
      "279 patches in 5N\n"
     ]
    },
    {
     "name": "stderr",
     "output_type": "stream",
     "text": [
      "Analyzing section 294..\n"
     ]
    },
    {
     "name": "stdout",
     "output_type": "stream",
     "text": [
      "3 patches in Pn\n",
      "48 patches in Amb\n",
      "52 patches in 7n\n",
      "242 patches in LPB\n",
      "166 patches in VLL\n",
      "920 patches in SC\n",
      "734 patches in SNR\n",
      "348 patches in 7N\n",
      "1264 patches in Sp5C\n",
      "8 patches in SNC\n",
      "280 patches in LRt\n",
      "1320 patches in IC\n",
      "823 patches in 5N_surround_noclass\n",
      "528 patches in Pn_surround_noclass\n",
      "50 patches in Pn_surround_VLL\n",
      "517 patches in Amb_surround_noclass\n",
      "12 patches in Amb_surround_LRt\n",
      "489 patches in 7n_surround_noclass\n",
      "790 patches in LPB_surround_noclass\n",
      "804 patches in VLL_surround_noclass\n",
      "3 patches in VLL_surround_Pn\n",
      "1260 patches in SC_surround_noclass\n",
      "119 patches in SC_surround_IC\n",
      "1379 patches in SNR_surround_noclass\n",
      "8 patches in SNR_surround_SNC\n",
      "862 patches in 7N_surround_noclass\n",
      "1255 patches in Sp5C_surround_noclass\n",
      "367 patches in SNC_surround_noclass\n",
      "207 patches in SNC_surround_SNR\n",
      "873 patches in LRt_surround_noclass\n",
      "6 patches in LRt_surround_Amb\n",
      "1394 patches in IC_surround_noclass\n",
      "98 patches in IC_surround_SC\n",
      "17398 patches in bg\n",
      "214 patches in LPB\n",
      "832 patches in SC\n",
      "5 patches in SNC\n"
     ]
    },
    {
     "name": "stderr",
     "output_type": "stream",
     "text": [
      "Analyzing section 295..\n"
     ]
    },
    {
     "name": "stdout",
     "output_type": "stream",
     "text": [
      "368 patches in 7N\n",
      "1251 patches in Sp5C\n",
      "302 patches in 5N\n",
      "0 patches in Pn\n",
      "54 patches in 7n\n",
      "1293 patches in IC\n",
      "178 patches in VLL\n",
      "264 patches in LRt\n",
      "773 patches in SNR\n",
      "45 patches in Amb\n",
      "753 patches in LPB_surround_noclass\n",
      "1226 patches in SC_surround_noclass\n",
      "98 patches in SC_surround_IC\n",
      "404 patches in SNC_surround_noclass\n",
      "236 patches in SNC_surround_SNR\n",
      "871 patches in 7N_surround_noclass\n",
      "1254 patches in Sp5C_surround_noclass\n",
      "846 patches in 5N_surround_noclass\n",
      "487 patches in Pn_surround_noclass\n",
      "17 patches in Pn_surround_VLL\n",
      "489 patches in 7n_surround_noclass\n",
      "1414 patches in IC_surround_noclass\n",
      "85 patches in IC_surround_SC\n",
      "814 patches in VLL_surround_noclass\n",
      "825 patches in LRt_surround_noclass\n",
      "3 patches in LRt_surround_Amb\n",
      "1443 patches in SNR_surround_noclass\n",
      "5 patches in SNR_surround_SNC\n",
      "487 patches in Amb_surround_noclass\n",
      "3 patches in Amb_surround_LRt\n",
      "17884 patches in bg\n",
      "46 patches in Amb\n",
      "249 patches in LRt\n",
      "54 patches in 7n\n",
      "210 patches in VLL\n",
      "195 patches in LPB\n"
     ]
    },
    {
     "name": "stderr",
     "output_type": "stream",
     "text": [
      "Analyzing section 296..\n"
     ]
    },
    {
     "name": "stdout",
     "output_type": "stream",
     "text": [
      "388 patches in 7N\n",
      "321 patches in 5N\n",
      "765 patches in SNR\n",
      "1277 patches in IC\n",
      "766 patches in SC\n",
      "1238 patches in Sp5C\n",
      "10 patches in SNC\n",
      "487 patches in Amb_surround_noclass\n",
      "819 patches in LRt_surround_noclass\n",
      "492 patches in 7n_surround_noclass\n",
      "846 patches in VLL_surround_noclass\n",
      "728 patches in LPB_surround_noclass\n",
      "855 patches in 7N_surround_noclass\n",
      "870 patches in 5N_surround_noclass\n",
      "1422 patches in SNR_surround_noclass\n",
      "10 patches in SNR_surround_SNC\n",
      "1417 patches in IC_surround_noclass\n",
      "73 patches in IC_surround_SC\n",
      "1195 patches in SC_surround_noclass\n",
      "82 patches in SC_surround_IC\n",
      "1298 patches in Sp5C_surround_noclass\n",
      "387 patches in SNC_surround_noclass\n",
      "207 patches in SNC_surround_SNR\n",
      "17932 patches in bg\n",
      "171 patches in LPB\n",
      "678 patches in SC\n",
      "61 patches in 7n\n"
     ]
    },
    {
     "name": "stderr",
     "output_type": "stream",
     "text": [
      "Analyzing section 297..\n"
     ]
    },
    {
     "name": "stdout",
     "output_type": "stream",
     "text": [
      "24 patches in SNC\n",
      "245 patches in VLL\n",
      "767 patches in SNR\n",
      "238 patches in LRt\n",
      "1231 patches in IC\n",
      "416 patches in 7N\n",
      "1228 patches in Sp5C\n",
      "52 patches in Amb\n",
      "363 patches in 5N\n",
      "692 patches in LPB_surround_noclass\n",
      "1158 patches in SC_surround_noclass\n",
      "58 patches in SC_surround_IC\n",
      "508 patches in 7n_surround_noclass\n",
      "446 patches in SNC_surround_noclass\n",
      "228 patches in SNC_surround_SNR\n",
      "879 patches in VLL_surround_noclass\n",
      "1458 patches in SNR_surround_noclass\n",
      "24 patches in SNR_surround_SNC\n",
      "805 patches in LRt_surround_noclass\n",
      "1435 patches in IC_surround_noclass\n",
      "57 patches in IC_surround_SC\n",
      "876 patches in 7N_surround_noclass\n",
      "1 patches in 7N_surround_Amb\n",
      "1270 patches in Sp5C_surround_noclass\n",
      "508 patches in Amb_surround_noclass\n",
      "2 patches in Amb_surround_7N\n",
      "920 patches in 5N_surround_noclass\n",
      "18163 patches in bg\n",
      "38 patches in Amb\n",
      "56 patches in 7n\n",
      "157 patches in LPB\n",
      "225 patches in LRt\n"
     ]
    },
    {
     "name": "stderr",
     "output_type": "stream",
     "text": [
      "Analyzing section 298..\n"
     ]
    },
    {
     "name": "stdout",
     "output_type": "stream",
     "text": [
      "357 patches in 5N\n",
      "1210 patches in Sp5C\n",
      "282 patches in VLL\n",
      "1215 patches in IC\n",
      "614 patches in SC\n",
      "25 patches in SNC\n",
      "396 patches in 7N\n",
      "761 patches in SNR\n",
      "470 patches in Amb_surround_noclass\n",
      "493 patches in 7n_surround_noclass\n",
      "664 patches in LPB_surround_noclass\n",
      "811 patches in LRt_surround_noclass\n",
      "900 patches in 5N_surround_noclass\n",
      "1198 patches in Sp5C_surround_noclass\n",
      "2 patches in Sp5C_surround_LRt\n",
      "909 patches in VLL_surround_noclass\n",
      "1434 patches in IC_surround_noclass\n",
      "46 patches in IC_surround_SC\n",
      "1132 patches in SC_surround_noclass\n",
      "45 patches in SC_surround_IC\n",
      "421 patches in SNC_surround_noclass\n",
      "223 patches in SNC_surround_SNR\n",
      "868 patches in 7N_surround_noclass\n",
      "1425 patches in SNR_surround_noclass\n",
      "25 patches in SNR_surround_SNC\n",
      "18367 patches in bg\n",
      "211 patches in LRt\n"
     ]
    },
    {
     "name": "stderr",
     "output_type": "stream",
     "text": [
      "Analyzing section 299..\n"
     ]
    },
    {
     "name": "stdout",
     "output_type": "stream",
     "text": [
      "765 patches in SNR\n",
      "26 patches in SNC\n",
      "135 patches in LPB\n",
      "36 patches in Amb\n",
      "1203 patches in Sp5C\n",
      "331 patches in VLL\n",
      "537 patches in SC\n",
      "358 patches in 5N\n",
      "394 patches in 7N\n",
      "1183 patches in IC\n",
      "59 patches in 7n\n",
      "787 patches in LRt_surround_noclass\n",
      "1 patches in LRt_surround_Amb\n",
      "3 patches in LRt_surround_Sp5C\n",
      "1425 patches in SNR_surround_noclass\n",
      "26 patches in SNR_surround_SNC\n",
      "415 patches in SNC_surround_noclass\n",
      "211 patches in SNC_surround_SNR\n",
      "630 patches in LPB_surround_noclass\n",
      "469 patches in Amb_surround_noclass\n",
      "1 patches in Amb_surround_LRt\n",
      "1162 patches in Sp5C_surround_noclass\n",
      "1 patches in Sp5C_surround_LRt\n",
      "966 patches in VLL_surround_noclass\n",
      "1091 patches in SC_surround_noclass\n",
      "36 patches in SC_surround_IC\n",
      "891 patches in 5N_surround_noclass\n",
      "816 patches in 7N_surround_noclass\n",
      "1442 patches in IC_surround_noclass\n",
      "31 patches in IC_surround_SC\n",
      "501 patches in 7n_surround_noclass\n",
      "18955 patches in bg\n"
     ]
    },
    {
     "name": "stderr",
     "output_type": "stream",
     "text": [
      "Analyzing section 300..\n",
      "Analyzing section 301..\n"
     ]
    },
    {
     "name": "stdout",
     "output_type": "stream",
     "text": [
      "99 patches in LPB\n",
      "411 patches in SC\n",
      "1116 patches in IC\n",
      "1170 patches in Sp5C\n",
      "372 patches in 5N\n",
      "784 patches in SNR\n",
      "323 patches in VLL\n",
      "42 patches in X\n",
      "82 patches in LSO\n",
      "184 patches in LRt\n",
      "31 patches in SNC\n",
      "62 patches in 7n\n",
      "372 patches in 7N\n",
      "568 patches in LPB_surround_noclass\n",
      "1010 patches in SC_surround_noclass\n",
      "19 patches in SC_surround_IC\n",
      "1463 patches in IC_surround_noclass\n",
      "17 patches in IC_surround_SC\n",
      "1173 patches in Sp5C_surround_noclass\n",
      "1 patches in Sp5C_surround_LRt\n",
      "875 patches in 5N_surround_noclass\n",
      "1406 patches in SNR_surround_noclass\n",
      "31 patches in SNR_surround_SNC\n",
      "989 patches in VLL_surround_noclass\n",
      "554 patches in X_surround_noclass\n",
      "530 patches in LSO_surround_noclass\n",
      "793 patches in LRt_surround_noclass\n",
      "7 patches in LRt_surround_Sp5C\n",
      "408 patches in SNC_surround_noclass\n",
      "219 patches in SNC_surround_SNR\n",
      "511 patches in 7n_surround_noclass\n",
      "803 patches in 7N_surround_noclass\n",
      "1 patches in 7N_surround_LSO\n",
      "19174 patches in bg\n"
     ]
    },
    {
     "name": "stderr",
     "output_type": "stream",
     "text": [
      "Analyzing section 302..\n"
     ]
    },
    {
     "name": "stdout",
     "output_type": "stream",
     "text": [
      "1085 patches in IC\n",
      "370 patches in 5N\n",
      "170 patches in LRt\n",
      "70 patches in LSO\n",
      "35 patches in SNC\n",
      "45 patches in X\n",
      "786 patches in SNR\n",
      "364 patches in 7N\n",
      "364 patches in SC\n",
      "64 patches in 7n\n",
      "86 patches in LPB\n",
      "321 patches in VLL\n",
      "1147 patches in Sp5C\n",
      "1485 patches in IC_surround_noclass\n",
      "15 patches in IC_surround_SC\n",
      "874 patches in 5N_surround_noclass\n",
      "770 patches in LRt_surround_noclass\n",
      "5 patches in LRt_surround_Sp5C\n",
      "507 patches in LSO_surround_noclass\n",
      "418 patches in SNC_surround_noclass\n",
      "216 patches in SNC_surround_SNR\n",
      "512 patches in X_surround_noclass\n",
      "1402 patches in SNR_surround_noclass\n",
      "35 patches in SNR_surround_SNC\n",
      "797 patches in 7N_surround_noclass\n",
      "971 patches in SC_surround_noclass\n",
      "13 patches in SC_surround_IC\n",
      "506 patches in 7n_surround_noclass\n",
      "547 patches in LPB_surround_noclass\n",
      "1009 patches in VLL_surround_noclass\n",
      "1192 patches in Sp5C_surround_noclass\n",
      "4 patches in Sp5C_surround_LRt\n",
      "19403 patches in bg\n"
     ]
    },
    {
     "name": "stderr",
     "output_type": "stream",
     "text": [
      "Analyzing section 303..\n"
     ]
    },
    {
     "name": "stdout",
     "output_type": "stream",
     "text": [
      "1051 patches in IC\n",
      "46 patches in X\n",
      "35 patches in SNC\n",
      "1133 patches in Sp5C\n",
      "789 patches in SNR\n",
      "69 patches in 7n\n",
      "73 patches in LPB\n",
      "165 patches in LRt\n",
      "312 patches in SC\n",
      "356 patches in 7N\n",
      "317 patches in VLL\n",
      "384 patches in 5N\n",
      "62 patches in LSO\n",
      "1512 patches in IC_surround_noclass\n",
      "6 patches in IC_surround_SC\n",
      "519 patches in X_surround_noclass\n",
      "412 patches in SNC_surround_noclass\n",
      "209 patches in SNC_surround_SNR\n",
      "1117 patches in Sp5C_surround_noclass\n",
      "5 patches in Sp5C_surround_LRt\n",
      "1393 patches in SNR_surround_noclass\n",
      "35 patches in SNR_surround_SNC\n",
      "513 patches in 7n_surround_noclass\n",
      "521 patches in LPB_surround_noclass\n",
      "767 patches in LRt_surround_noclass\n",
      "8 patches in LRt_surround_Sp5C\n",
      "951 patches in SC_surround_noclass\n",
      "6 patches in SC_surround_IC\n",
      "772 patches in 7N_surround_noclass\n",
      "1038 patches in VLL_surround_noclass\n",
      "887 patches in 5N_surround_noclass\n",
      "495 patches in LSO_surround_noclass\n",
      "19449 patches in bg\n",
      "47 patches in X\n",
      "58 patches in LPB\n",
      "340 patches in 7N\n",
      "144 patches in LRt\n"
     ]
    },
    {
     "name": "stderr",
     "output_type": "stream",
     "text": [
      "Analyzing section 304..\n"
     ]
    },
    {
     "name": "stdout",
     "output_type": "stream",
     "text": [
      "318 patches in VLL\n",
      "41 patches in SNC\n",
      "260 patches in SC\n",
      "55 patches in LSO\n",
      "799 patches in SNR\n",
      "1111 patches in Sp5C\n",
      "68 patches in 7n\n",
      "349 patches in 5N\n",
      "1010 patches in IC\n",
      "520 patches in X_surround_noclass\n",
      "486 patches in LPB_surround_noclass\n",
      "750 patches in 7N_surround_noclass\n",
      "775 patches in LRt_surround_noclass\n",
      "11 patches in LRt_surround_Sp5C\n",
      "1070 patches in VLL_surround_noclass\n",
      "418 patches in SNC_surround_noclass\n",
      "214 patches in SNC_surround_SNR\n",
      "898 patches in SC_surround_noclass\n",
      "477 patches in LSO_surround_noclass\n",
      "1397 patches in SNR_surround_noclass\n",
      "41 patches in SNR_surround_SNC\n",
      "1119 patches in Sp5C_surround_noclass\n",
      "6 patches in Sp5C_surround_LRt\n",
      "514 patches in 7n_surround_noclass\n",
      "857 patches in 5N_surround_noclass\n",
      "1517 patches in IC_surround_noclass\n",
      "4 patches in IC_surround_SC\n",
      "19867 patches in bg\n",
      "339 patches in 7N\n"
     ]
    },
    {
     "name": "stderr",
     "output_type": "stream",
     "text": [
      "Analyzing section 305..\n"
     ]
    },
    {
     "name": "stdout",
     "output_type": "stream",
     "text": [
      "48 patches in SNC\n",
      "52 patches in X\n",
      "996 patches in IC\n",
      "53 patches in LPB\n",
      "28 patches in DC\n",
      "1102 patches in Sp5C\n",
      "807 patches in SNR\n",
      "54 patches in LSO\n",
      "329 patches in 5N\n",
      "217 patches in SC\n",
      "156 patches in RR\n",
      "326 patches in VLL\n",
      "87 patches in 8n\n",
      "43 patches in MiTg\n",
      "75 patches in 7n\n",
      "147 patches in LRt\n",
      "734 patches in 7N_surround_noclass\n",
      "440 patches in SNC_surround_noclass\n",
      "218 patches in SNC_surround_SNR\n",
      "526 patches in X_surround_noclass\n",
      "9 patches in X_surround_8n\n",
      "2 patches in X_surround_DC\n",
      "1562 patches in IC_surround_noclass\n",
      "3 patches in IC_surround_SC\n",
      "480 patches in LPB_surround_noclass\n",
      "491 patches in DC_surround_noclass\n",
      "10 patches in DC_surround_X\n",
      "1082 patches in Sp5C_surround_noclass\n",
      "8 patches in Sp5C_surround_LRt\n",
      "1350 patches in SNR_surround_noclass\n",
      "1 patches in SNR_surround_MiTg\n",
      "48 patches in SNR_surround_SNC\n",
      "51 patches in SNR_surround_RR\n",
      "475 patches in LSO_surround_noclass\n",
      "847 patches in 5N_surround_noclass\n",
      "875 patches in SC_surround_noclass\n",
      "4 patches in SC_surround_IC\n",
      "605 patches in RR_surround_noclass\n",
      "30 patches in RR_surround_MiTg\n",
      "48 patches in RR_surround_SNR\n",
      "1119 patches in VLL_surround_noclass\n",
      "545 patches in 8n_surround_noclass\n",
      "6 patches in 8n_surround_X\n",
      "489 patches in MiTg_surround_noclass\n",
      "50 patches in MiTg_surround_RR\n",
      "1 patches in MiTg_surround_SNR\n",
      "534 patches in 7n_surround_noclass\n",
      "786 patches in LRt_surround_noclass\n",
      "20 patches in LRt_surround_Sp5C\n",
      "20228 patches in bg\n",
      "299 patches in 7N\n"
     ]
    },
    {
     "name": "stderr",
     "output_type": "stream",
     "text": [
      "Analyzing section 306..\n"
     ]
    },
    {
     "name": "stdout",
     "output_type": "stream",
     "text": [
      "260 patches in VLL\n",
      "315 patches in 5N\n",
      "115 patches in RR\n",
      "39 patches in LSO\n",
      "144 patches in SC\n",
      "93 patches in LRt\n",
      "38 patches in LPB\n",
      "66 patches in 7n\n",
      "1048 patches in Sp5C\n",
      "77 patches in 8n\n",
      "49 patches in X\n",
      "37 patches in SNC\n",
      "25 patches in DC\n",
      "781 patches in SNR\n",
      "693 patches in 7N_surround_noclass\n",
      "956 patches in VLL_surround_noclass\n",
      "824 patches in 5N_surround_noclass\n",
      "599 patches in RR_surround_noclass\n",
      "27 patches in RR_surround_SNR\n",
      "440 patches in LSO_surround_noclass\n",
      "1 patches in LSO_surround_7n\n",
      "747 patches in SC_surround_noclass\n",
      "674 patches in LRt_surround_noclass\n",
      "7 patches in LRt_surround_Sp5C\n",
      "438 patches in LPB_surround_noclass\n",
      "510 patches in 7n_surround_noclass\n",
      "994 patches in Sp5C_surround_noclass\n",
      "4 patches in Sp5C_surround_LRt\n",
      "528 patches in 8n_surround_noclass\n",
      "3 patches in 8n_surround_X\n",
      "512 patches in X_surround_noclass\n",
      "5 patches in X_surround_8n\n",
      "1 patches in X_surround_DC\n",
      "398 patches in SNC_surround_noclass\n",
      "215 patches in SNC_surround_SNR\n",
      "471 patches in DC_surround_noclass\n",
      "5 patches in DC_surround_X\n",
      "1351 patches in SNR_surround_noclass\n",
      "29 patches in SNR_surround_RR\n",
      "37 patches in SNR_surround_SNC\n",
      "20536 patches in bg\n",
      "31 patches in LPB\n",
      "269 patches in 7N\n",
      "65 patches in 7n\n",
      "1005 patches in Sp5C\n",
      "30 patches in LSO\n"
     ]
    },
    {
     "name": "stderr",
     "output_type": "stream",
     "text": [
      "Analyzing section 307..\n"
     ]
    },
    {
     "name": "stdout",
     "output_type": "stream",
     "text": [
      "73 patches in 8n\n",
      "296 patches in 5N\n",
      "92 patches in SC\n",
      "221 patches in VLL\n",
      "87 patches in RR\n",
      "62 patches in LRt\n",
      "29 patches in SNC\n",
      "765 patches in SNR\n",
      "53 patches in X\n",
      "26 patches in DC\n",
      "424 patches in LPB_surround_noclass\n",
      "660 patches in 7N_surround_noclass\n",
      "499 patches in 7n_surround_noclass\n",
      "4 patches in 7n_surround_LSO\n",
      "1051 patches in Sp5C_surround_noclass\n",
      "3 patches in Sp5C_surround_LRt\n",
      "412 patches in LSO_surround_noclass\n",
      "4 patches in LSO_surround_7n\n",
      "515 patches in 8n_surround_noclass\n",
      "4 patches in 8n_surround_X\n",
      "812 patches in 5N_surround_noclass\n",
      "690 patches in SC_surround_noclass\n",
      "845 patches in VLL_surround_noclass\n",
      "544 patches in RR_surround_noclass\n",
      "17 patches in RR_surround_SNR\n",
      "595 patches in LRt_surround_noclass\n",
      "7 patches in LRt_surround_Sp5C\n",
      "376 patches in SNC_surround_noclass\n",
      "212 patches in SNC_surround_SNR\n",
      "1360 patches in SNR_surround_noclass\n",
      "20 patches in SNR_surround_RR\n",
      "29 patches in SNR_surround_SNC\n",
      "517 patches in X_surround_noclass\n",
      "7 patches in X_surround_8n\n",
      "3 patches in X_surround_DC\n",
      "468 patches in DC_surround_noclass\n",
      "10 patches in DC_surround_X\n",
      "20679 patches in bg\n",
      "56 patches in 7n\n",
      "70 patches in 8n\n",
      "959 patches in Sp5C\n",
      "27 patches in LSO\n",
      "291 patches in 5N\n"
     ]
    },
    {
     "name": "stderr",
     "output_type": "stream",
     "text": [
      "Analyzing section 308..\n"
     ]
    },
    {
     "name": "stdout",
     "output_type": "stream",
     "text": [
      "756 patches in SNR\n",
      "54 patches in X\n",
      "235 patches in 7N\n",
      "37 patches in LRt\n",
      "58 patches in RR\n",
      "46 patches in SC\n",
      "184 patches in VLL\n",
      "20 patches in SNC\n",
      "26 patches in LPB\n",
      "32 patches in DC\n",
      "491 patches in 7n_surround_noclass\n",
      "8 patches in 7n_surround_LSO\n",
      "506 patches in 8n_surround_noclass\n",
      "5 patches in 8n_surround_X\n",
      "1005 patches in Sp5C_surround_noclass\n",
      "2 patches in Sp5C_surround_LRt\n",
      "392 patches in LSO_surround_noclass\n",
      "12 patches in LSO_surround_7n\n",
      "801 patches in 5N_surround_noclass\n",
      "1350 patches in SNR_surround_noclass\n",
      "10 patches in SNR_surround_RR\n",
      "20 patches in SNR_surround_SNC\n",
      "516 patches in X_surround_noclass\n",
      "8 patches in X_surround_8n\n",
      "7 patches in X_surround_DC\n",
      "631 patches in 7N_surround_noclass\n",
      "500 patches in LRt_surround_noclass\n",
      "3 patches in LRt_surround_Sp5C\n",
      "496 patches in RR_surround_noclass\n",
      "8 patches in RR_surround_SNR\n",
      "617 patches in SC_surround_noclass\n",
      "766 patches in VLL_surround_noclass\n",
      "362 patches in SNC_surround_noclass\n",
      "204 patches in SNC_surround_SNR\n",
      "409 patches in LPB_surround_noclass\n",
      "475 patches in DC_surround_noclass\n",
      "11 patches in DC_surround_X\n",
      "20888 patches in bg\n"
     ]
    },
    {
     "name": "stderr",
     "output_type": "stream",
     "text": [
      "Analyzing section 309..\n"
     ]
    },
    {
     "name": "stdout",
     "output_type": "stream",
     "text": [
      "742 patches in SNR\n",
      "55 patches in 7n\n",
      "65 patches in 8n\n",
      "56 patches in X\n",
      "173 patches in VLL\n",
      "20 patches in LRt\n",
      "37 patches in RR\n",
      "21 patches in SC\n",
      "277 patches in 5N\n",
      "23 patches in LPB\n",
      "917 patches in Sp5C\n",
      "32 patches in DC\n",
      "213 patches in 7N\n",
      "17 patches in SNC\n",
      "1352 patches in SNR_surround_noclass\n",
      "5 patches in SNR_surround_RR\n",
      "17 patches in SNR_surround_SNC\n",
      "497 patches in 7n_surround_noclass\n",
      "504 patches in 8n_surround_noclass\n",
      "3 patches in 8n_surround_X\n",
      "523 patches in X_surround_noclass\n",
      "7 patches in X_surround_8n\n",
      "6 patches in X_surround_DC\n",
      "723 patches in VLL_surround_noclass\n",
      "456 patches in LRt_surround_noclass\n",
      "457 patches in RR_surround_noclass\n",
      "4 patches in RR_surround_SNR\n",
      "475 patches in SC_surround_noclass\n",
      "794 patches in 5N_surround_noclass\n",
      "394 patches in LPB_surround_noclass\n",
      "1011 patches in Sp5C_surround_noclass\n",
      "1 patches in Sp5C_surround_LRt\n",
      "482 patches in DC_surround_noclass\n",
      "12 patches in DC_surround_X\n",
      "613 patches in 7N_surround_noclass\n",
      "345 patches in SNC_surround_noclass\n",
      "206 patches in SNC_surround_SNR\n",
      "20977 patches in bg\n"
     ]
    },
    {
     "name": "stderr",
     "output_type": "stream",
     "text": [
      "Analyzing section 310..\n"
     ]
    },
    {
     "name": "stdout",
     "output_type": "stream",
     "text": [
      "37 patches in DC\n",
      "21 patches in RR\n",
      "56 patches in 7n\n",
      "887 patches in Sp5C\n",
      "65 patches in 8n\n",
      "188 patches in 7N\n",
      "172 patches in VLL\n",
      "6 patches in SC\n",
      "10 patches in SNC\n",
      "57 patches in X\n",
      "268 patches in 5N\n",
      "22 patches in LPB\n",
      "732 patches in SNR\n",
      "500 patches in DC_surround_noclass\n",
      "10 patches in DC_surround_X\n",
      "456 patches in RR_surround_noclass\n",
      "490 patches in 7n_surround_noclass\n",
      "979 patches in Sp5C_surround_noclass\n",
      "489 patches in 8n_surround_noclass\n",
      "3 patches in 8n_surround_X\n",
      "597 patches in 7N_surround_noclass\n",
      "705 patches in VLL_surround_noclass\n",
      "361 patches in SC_surround_noclass\n",
      "327 patches in SNC_surround_noclass\n",
      "211 patches in SNC_surround_SNR\n",
      "526 patches in X_surround_noclass\n",
      "9 patches in X_surround_8n\n",
      "6 patches in X_surround_DC\n",
      "805 patches in 5N_surround_noclass\n",
      "404 patches in LPB_surround_noclass\n",
      "1351 patches in SNR_surround_noclass\n",
      "1 patches in SNR_surround_RR\n",
      "10 patches in SNR_surround_SNC\n",
      "21153 patches in bg\n",
      "174 patches in VLL\n"
     ]
    },
    {
     "name": "stderr",
     "output_type": "stream",
     "text": [
      "Analyzing section 311..\n"
     ]
    },
    {
     "name": "stdout",
     "output_type": "stream",
     "text": [
      "843 patches in Sp5C\n",
      "59 patches in X\n",
      "7 patches in SNC\n",
      "40 patches in DC\n",
      "57 patches in 8n\n",
      "714 patches in SNR\n",
      "157 patches in 7N\n",
      "0 patches in SC\n",
      "48 patches in 7n\n",
      "65 patches in MiTg\n",
      "10 patches in PBG\n",
      "701 patches in VLL_surround_noclass\n",
      "959 patches in Sp5C_surround_noclass\n",
      "542 patches in X_surround_noclass\n",
      "9 patches in X_surround_8n\n",
      "9 patches in X_surround_DC\n",
      "308 patches in SNC_surround_noclass\n",
      "191 patches in SNC_surround_SNR\n",
      "505 patches in DC_surround_noclass\n",
      "8 patches in DC_surround_X\n",
      "483 patches in 8n_surround_noclass\n",
      "4 patches in 8n_surround_X\n",
      "1340 patches in SNR_surround_noclass\n",
      "7 patches in SNR_surround_SNC\n",
      "7 patches in SNR_surround_PBG\n",
      "577 patches in 7N_surround_noclass\n",
      "279 patches in SC_surround_noclass\n",
      "482 patches in 7n_surround_noclass\n",
      "544 patches in MiTg_surround_noclass\n",
      "2 patches in MiTg_surround_PBG\n",
      "383 patches in PBG_surround_noclass\n",
      "14 patches in PBG_surround_SNR\n",
      "4 patches in PBG_surround_MiTg\n",
      "21186 patches in bg\n"
     ]
    },
    {
     "name": "stderr",
     "output_type": "stream",
     "text": [
      "Analyzing section 312..\n"
     ]
    },
    {
     "name": "stdout",
     "output_type": "stream",
     "text": [
      "140 patches in 7N\n",
      "12 patches in PBG\n",
      "70 patches in X\n",
      "3 patches in SNC\n",
      "176 patches in VLL\n",
      "710 patches in SNR\n",
      "42 patches in DC\n",
      "49 patches in 7n\n",
      "823 patches in Sp5C\n",
      "60 patches in 8n\n",
      "542 patches in 7N_surround_noclass\n",
      "393 patches in PBG_surround_noclass\n",
      "10 patches in PBG_surround_SNR\n",
      "565 patches in X_surround_noclass\n",
      "16 patches in X_surround_8n\n",
      "8 patches in X_surround_DC\n",
      "315 patches in SNC_surround_noclass\n",
      "213 patches in SNC_surround_SNR\n",
      "709 patches in VLL_surround_noclass\n",
      "1345 patches in SNR_surround_noclass\n",
      "3 patches in SNR_surround_SNC\n",
      "8 patches in SNR_surround_PBG\n",
      "515 patches in DC_surround_noclass\n",
      "8 patches in DC_surround_X\n",
      "494 patches in 7n_surround_noclass\n",
      "951 patches in Sp5C_surround_noclass\n",
      "487 patches in 8n_surround_noclass\n",
      "8 patches in 8n_surround_X\n",
      "21381 patches in bg\n",
      "160 patches in VLL\n",
      "98 patches in 7N\n",
      "66 patches in X\n"
     ]
    },
    {
     "name": "stderr",
     "output_type": "stream",
     "text": [
      "Analyzing section 313..\n"
     ]
    },
    {
     "name": "stdout",
     "output_type": "stream",
     "text": [
      "45 patches in 7n\n",
      "15 patches in PBG\n",
      "55 patches in 8n\n",
      "47 patches in DC\n",
      "658 patches in SNR\n",
      "684 patches in Sp5C\n",
      "686 patches in VLL_surround_noclass\n",
      "484 patches in 7N_surround_noclass\n",
      "534 patches in X_surround_noclass\n",
      "11 patches in X_surround_8n\n",
      "5 patches in X_surround_DC\n",
      "479 patches in 7n_surround_noclass\n",
      "420 patches in PBG_surround_noclass\n",
      "7 patches in PBG_surround_SNR\n",
      "478 patches in 8n_surround_noclass\n",
      "7 patches in 8n_surround_X\n",
      "538 patches in DC_surround_noclass\n",
      "4 patches in DC_surround_X\n",
      "1284 patches in SNR_surround_noclass\n",
      "1 patches in SNR_surround_PBG\n",
      "905 patches in Sp5C_surround_noclass\n",
      "21636 patches in bg\n",
      "622 patches in SNR\n",
      "36 patches in 7n\n",
      "51 patches in DC\n",
      "151 patches in VLL\n",
      "73 patches in 7N\n"
     ]
    },
    {
     "name": "stderr",
     "output_type": "stream",
     "text": [
      "Analyzing section 314..\n"
     ]
    },
    {
     "name": "stdout",
     "output_type": "stream",
     "text": [
      "22 patches in PBG\n",
      "590 patches in Sp5C\n",
      "57 patches in X\n",
      "62 patches in 8n\n",
      "1251 patches in SNR_surround_noclass\n",
      "1 patches in SNR_surround_PBG\n",
      "474 patches in 7n_surround_noclass\n",
      "556 patches in DC_surround_noclass\n",
      "1 patches in DC_surround_X\n",
      "692 patches in VLL_surround_noclass\n",
      "440 patches in 7N_surround_noclass\n",
      "439 patches in PBG_surround_noclass\n",
      "3 patches in PBG_surround_SNR\n",
      "850 patches in Sp5C_surround_noclass\n",
      "532 patches in X_surround_noclass\n",
      "12 patches in X_surround_8n\n",
      "1 patches in X_surround_DC\n",
      "482 patches in 8n_surround_noclass\n",
      "5 patches in 8n_surround_X\n",
      "22024 patches in bg\n",
      "62 patches in DC\n",
      "63 patches in 8n\n",
      "493 patches in Sp5C\n"
     ]
    },
    {
     "name": "stderr",
     "output_type": "stream",
     "text": [
      "Analyzing section 315..\n"
     ]
    },
    {
     "name": "stdout",
     "output_type": "stream",
     "text": [
      "580 patches in SNR\n",
      "36 patches in 7n\n",
      "57 patches in X\n",
      "154 patches in VLL\n",
      "51 patches in 7N\n",
      "32 patches in PBG\n",
      "580 patches in DC_surround_noclass\n",
      "1 patches in DC_surround_X\n",
      "492 patches in 8n_surround_noclass\n",
      "7 patches in 8n_surround_X\n",
      "867 patches in Sp5C_surround_noclass\n",
      "1208 patches in SNR_surround_noclass\n",
      "459 patches in 7n_surround_noclass\n",
      "512 patches in X_surround_noclass\n",
      "11 patches in X_surround_8n\n",
      "712 patches in VLL_surround_noclass\n",
      "418 patches in 7N_surround_noclass\n",
      "503 patches in PBG_surround_noclass\n",
      "2 patches in PBG_surround_SNR\n",
      "22161 patches in bg\n",
      "30 patches in 7n\n",
      "436 patches in Sp5C\n"
     ]
    },
    {
     "name": "stderr",
     "output_type": "stream",
     "text": [
      "Analyzing section 316..\n"
     ]
    },
    {
     "name": "stdout",
     "output_type": "stream",
     "text": [
      "143 patches in VLL\n",
      "34 patches in 7N\n",
      "548 patches in SNR\n",
      "66 patches in 8n\n",
      "64 patches in DC\n",
      "56 patches in X\n",
      "43 patches in PBG\n",
      "455 patches in 7n_surround_noclass\n",
      "870 patches in Sp5C_surround_noclass\n",
      "675 patches in VLL_surround_noclass\n",
      "374 patches in 7N_surround_noclass\n",
      "1181 patches in SNR_surround_noclass\n",
      "497 patches in 8n_surround_noclass\n",
      "7 patches in 8n_surround_X\n",
      "585 patches in DC_surround_noclass\n",
      "521 patches in X_surround_noclass\n",
      "17 patches in X_surround_8n\n",
      "523 patches in PBG_surround_noclass\n",
      "22170 patches in bg\n"
     ]
    },
    {
     "name": "stderr",
     "output_type": "stream",
     "text": [
      "Analyzing section 317..\n"
     ]
    },
    {
     "name": "stdout",
     "output_type": "stream",
     "text": [
      "28 patches in 7n\n",
      "72 patches in DC\n",
      "401 patches in Sp5C\n",
      "50 patches in X\n",
      "516 patches in SNR\n",
      "114 patches in MiTg\n",
      "72 patches in 8n\n",
      "137 patches in VLL\n",
      "71 patches in PBG\n",
      "22 patches in 7N\n",
      "453 patches in 7n_surround_noclass\n",
      "604 patches in DC_surround_noclass\n",
      "809 patches in Sp5C_surround_noclass\n",
      "522 patches in X_surround_noclass\n",
      "13 patches in X_surround_8n\n",
      "1154 patches in SNR_surround_noclass\n",
      "594 patches in MiTg_surround_noclass\n",
      "38 patches in MiTg_surround_PBG\n",
      "498 patches in 8n_surround_noclass\n",
      "7 patches in 8n_surround_X\n",
      "673 patches in VLL_surround_noclass\n",
      "518 patches in PBG_surround_noclass\n",
      "68 patches in PBG_surround_MiTg\n",
      "375 patches in 7N_surround_noclass\n",
      "22535 patches in bg\n",
      "131 patches in VLL\n"
     ]
    },
    {
     "name": "stderr",
     "output_type": "stream",
     "text": [
      "Analyzing section 318..\n"
     ]
    },
    {
     "name": "stdout",
     "output_type": "stream",
     "text": [
      "74 patches in 8n\n",
      "29 patches in 7n\n",
      "80 patches in DC\n",
      "45 patches in X\n",
      "479 patches in SNR\n",
      "363 patches in Sp5C\n",
      "78 patches in PBG\n",
      "667 patches in VLL_surround_noclass\n",
      "512 patches in 8n_surround_noclass\n",
      "7 patches in 8n_surround_X\n",
      "469 patches in 7n_surround_noclass\n",
      "621 patches in DC_surround_noclass\n",
      "520 patches in X_surround_noclass\n",
      "18 patches in X_surround_8n\n",
      "1105 patches in SNR_surround_noclass\n",
      "780 patches in Sp5C_surround_noclass\n",
      "581 patches in PBG_surround_noclass\n",
      "22693 patches in bg\n",
      "43 patches in X\n"
     ]
    },
    {
     "name": "stderr",
     "output_type": "stream",
     "text": [
      "Analyzing section 319..\n"
     ]
    },
    {
     "name": "stdout",
     "output_type": "stream",
     "text": [
      "85 patches in PBG\n",
      "126 patches in VLL\n",
      "98 patches in DC\n",
      "326 patches in Sp5C\n",
      "77 patches in 8n\n",
      "441 patches in SNR\n",
      "520 patches in X_surround_noclass\n",
      "12 patches in X_surround_8n\n",
      "608 patches in PBG_surround_noclass\n",
      "644 patches in VLL_surround_noclass\n",
      "689 patches in DC_surround_noclass\n",
      "783 patches in Sp5C_surround_noclass\n",
      "519 patches in 8n_surround_noclass\n",
      "7 patches in 8n_surround_X\n",
      "1088 patches in SNR_surround_noclass\n",
      "22800 patches in bg\n",
      "35 patches in DC\n"
     ]
    },
    {
     "name": "stderr",
     "output_type": "stream",
     "text": [
      "Analyzing section 320..\n"
     ]
    },
    {
     "name": "stdout",
     "output_type": "stream",
     "text": [
      "841 patches in Sp5I\n",
      "36 patches in X\n",
      "95 patches in PBG\n",
      "304 patches in Sp5C\n",
      "1713 patches in Sp5O\n",
      "414 patches in SNR\n",
      "127 patches in VLL\n",
      "89 patches in 8n\n",
      "872 patches in Pr5VL\n",
      "493 patches in Pr5DM\n",
      "559 patches in DC_surround_noclass\n",
      "832 patches in Sp5I_surround_noclass\n",
      "248 patches in Sp5I_surround_Sp5O\n",
      "195 patches in Sp5I_surround_Sp5C\n",
      "554 patches in X_surround_noclass\n",
      "23 patches in X_surround_8n\n",
      "660 patches in PBG_surround_noclass\n",
      "545 patches in Sp5C_surround_noclass\n",
      "211 patches in Sp5C_surround_Sp5I\n",
      "1322 patches in Sp5O_surround_noclass\n",
      "224 patches in Sp5O_surround_Pr5VL\n",
      "35 patches in Sp5O_surround_8n\n",
      "274 patches in Sp5O_surround_Sp5I\n",
      "82 patches in Sp5O_surround_Pr5DM\n",
      "1063 patches in SNR_surround_noclass\n",
      "669 patches in VLL_surround_noclass\n",
      "3 patches in VLL_surround_Pr5DM\n",
      "467 patches in 8n_surround_noclass\n",
      "40 patches in 8n_surround_Sp5O\n",
      "10 patches in 8n_surround_X\n",
      "27 patches in 8n_surround_Pr5DM\n",
      "898 patches in Pr5VL_surround_noclass\n",
      "263 patches in Pr5VL_surround_Sp5O\n",
      "194 patches in Pr5VL_surround_Pr5DM\n",
      "693 patches in Pr5DM_surround_noclass\n",
      "54 patches in Pr5DM_surround_Sp5O\n",
      "213 patches in Pr5DM_surround_Pr5VL\n",
      "21 patches in Pr5DM_surround_8n\n",
      "3 patches in Pr5DM_surround_VLL\n",
      "22854 patches in bg\n",
      "230 patches in Sp5C\n",
      "81 patches in 8n\n",
      "105 patches in VLL\n"
     ]
    },
    {
     "name": "stderr",
     "output_type": "stream",
     "text": [
      "Analyzing section 321..\n"
     ]
    },
    {
     "name": "stdout",
     "output_type": "stream",
     "text": [
      "494 patches in Pr5DM\n",
      "870 patches in Pr5VL\n",
      "1645 patches in Sp5O\n",
      "844 patches in Sp5I\n",
      "45 patches in DC\n",
      "394 patches in SNR\n",
      "498 patches in Sp5C_surround_noclass\n",
      "194 patches in Sp5C_surround_Sp5I\n",
      "487 patches in 8n_surround_noclass\n",
      "20 patches in 8n_surround_Sp5O\n",
      "31 patches in 8n_surround_Pr5DM\n",
      "639 patches in VLL_surround_noclass\n",
      "696 patches in Pr5DM_surround_noclass\n",
      "32 patches in Pr5DM_surround_Sp5O\n",
      "224 patches in Pr5DM_surround_Pr5VL\n",
      "22 patches in Pr5DM_surround_8n\n",
      "876 patches in Pr5VL_surround_noclass\n",
      "251 patches in Pr5VL_surround_Sp5O\n",
      "183 patches in Pr5VL_surround_Pr5DM\n",
      "1298 patches in Sp5O_surround_noclass\n",
      "223 patches in Sp5O_surround_Pr5VL\n",
      "260 patches in Sp5O_surround_Sp5I\n",
      "13 patches in Sp5O_surround_8n\n",
      "42 patches in Sp5O_surround_Pr5DM\n",
      "861 patches in Sp5I_surround_noclass\n",
      "236 patches in Sp5I_surround_Sp5O\n",
      "162 patches in Sp5I_surround_Sp5C\n",
      "544 patches in DC_surround_noclass\n",
      "1060 patches in SNR_surround_noclass\n",
      "23085 patches in bg\n",
      "164 patches in Sp5C\n",
      "66 patches in DC\n",
      "1548 patches in Sp5O\n"
     ]
    },
    {
     "name": "stderr",
     "output_type": "stream",
     "text": [
      "Analyzing section 322..\n"
     ]
    },
    {
     "name": "stdout",
     "output_type": "stream",
     "text": [
      "850 patches in Sp5I\n",
      "374 patches in SNR\n",
      "867 patches in Pr5VL\n",
      "86 patches in VLL\n",
      "504 patches in Pr5DM\n",
      "79 patches in 8n\n",
      "456 patches in Sp5C_surround_noclass\n",
      "179 patches in Sp5C_surround_Sp5I\n",
      "575 patches in DC_surround_noclass\n",
      "1268 patches in Sp5O_surround_noclass\n",
      "226 patches in Sp5O_surround_Pr5VL\n",
      "258 patches in Sp5O_surround_Sp5I\n",
      "14 patches in Sp5O_surround_Pr5DM\n",
      "887 patches in Sp5I_surround_noclass\n",
      "233 patches in Sp5I_surround_Sp5O\n",
      "137 patches in Sp5I_surround_Sp5C\n",
      "1060 patches in SNR_surround_noclass\n",
      "890 patches in Pr5VL_surround_noclass\n",
      "237 patches in Pr5VL_surround_Sp5O\n",
      "193 patches in Pr5VL_surround_Pr5DM\n",
      "632 patches in VLL_surround_noclass\n",
      "698 patches in Pr5DM_surround_noclass\n",
      "13 patches in Pr5DM_surround_Sp5O\n",
      "241 patches in Pr5DM_surround_Pr5VL\n",
      "23 patches in Pr5DM_surround_8n\n",
      "494 patches in 8n_surround_noclass\n",
      "38 patches in 8n_surround_Pr5DM\n",
      "23194 patches in bg\n"
     ]
    },
    {
     "name": "stderr",
     "output_type": "stream",
     "text": [
      "Analyzing section 323..\n"
     ]
    },
    {
     "name": "stdout",
     "output_type": "stream",
     "text": [
      "1475 patches in Sp5O\n",
      "353 patches in SNR\n",
      "129 patches in Sp5C\n",
      "509 patches in Pr5DM\n",
      "870 patches in Sp5I\n",
      "78 patches in 8n\n",
      "867 patches in Pr5VL\n",
      "82 patches in DC\n",
      "78 patches in VLL\n",
      "1245 patches in Sp5O_surround_noclass\n",
      "264 patches in Sp5O_surround_Sp5I\n",
      "225 patches in Sp5O_surround_Pr5VL\n",
      "1 patches in Sp5O_surround_Pr5DM\n",
      "1089 patches in SNR_surround_noclass\n",
      "372 patches in Sp5C_surround_noclass\n",
      "176 patches in Sp5C_surround_Sp5I\n",
      "691 patches in Pr5DM_surround_noclass\n",
      "2 patches in Pr5DM_surround_Sp5O\n",
      "24 patches in Pr5DM_surround_8n\n",
      "257 patches in Pr5DM_surround_Pr5VL\n",
      "879 patches in Sp5I_surround_noclass\n",
      "233 patches in Sp5I_surround_Sp5O\n",
      "122 patches in Sp5I_surround_Sp5C\n",
      "487 patches in 8n_surround_noclass\n",
      "41 patches in 8n_surround_Pr5DM\n",
      "899 patches in Pr5VL_surround_noclass\n",
      "219 patches in Pr5VL_surround_Sp5O\n",
      "196 patches in Pr5VL_surround_Pr5DM\n",
      "611 patches in DC_surround_noclass\n",
      "673 patches in VLL_surround_noclass\n",
      "23370 patches in bg\n",
      "903 patches in Sp5I\n"
     ]
    },
    {
     "name": "stderr",
     "output_type": "stream",
     "text": [
      "Analyzing section 324..\n",
      "Analyzing section 325..\n"
     ]
    },
    {
     "name": "stdout",
     "output_type": "stream",
     "text": [
      "881 patches in Pr5VL\n",
      "542 patches in Pr5DM\n",
      "74 patches in 8n\n",
      "1296 patches in Sp5O\n",
      "322 patches in SNR\n",
      "126 patches in DC\n",
      "59 patches in Sp5C\n",
      "918 patches in Sp5I_surround_noclass\n",
      "225 patches in Sp5I_surround_Sp5O\n",
      "59 patches in Sp5I_surround_Sp5C\n",
      "1010 patches in Pr5VL_surround_noclass\n",
      "160 patches in Pr5VL_surround_Sp5O\n",
      "229 patches in Pr5VL_surround_Pr5DM\n",
      "655 patches in Pr5DM_surround_noclass\n",
      "35 patches in Pr5DM_surround_8n\n",
      "306 patches in Pr5DM_surround_Pr5VL\n",
      "464 patches in 8n_surround_noclass\n",
      "61 patches in 8n_surround_Pr5DM\n",
      "1264 patches in Sp5O_surround_noclass\n",
      "260 patches in Sp5O_surround_Sp5I\n",
      "192 patches in Sp5O_surround_Pr5VL\n",
      "1143 patches in SNR_surround_noclass\n",
      "694 patches in DC_surround_noclass\n",
      "279 patches in Sp5C_surround_noclass\n",
      "165 patches in Sp5C_surround_Sp5I\n",
      "23555 patches in bg\n",
      "808 patches in Sp5I\n",
      "70 patches in 8n\n"
     ]
    },
    {
     "name": "stderr",
     "output_type": "stream",
     "text": [
      "Analyzing section 326..\n"
     ]
    },
    {
     "name": "stdout",
     "output_type": "stream",
     "text": [
      "1244 patches in Sp5O\n",
      "827 patches in Pr5VL\n",
      "141 patches in DC\n",
      "969 patches in Sp5I_surround_noclass\n",
      "207 patches in Sp5I_surround_Sp5O\n",
      "521 patches in 8n_surround_noclass\n",
      "1282 patches in Sp5O_surround_noclass\n",
      "158 patches in Sp5O_surround_Pr5VL\n",
      "243 patches in Sp5O_surround_Sp5I\n",
      "1172 patches in Pr5VL_surround_noclass\n",
      "135 patches in Pr5VL_surround_Sp5O\n",
      "693 patches in DC_surround_noclass\n",
      "23608 patches in bg\n",
      "1175 patches in Sp5O\n",
      "175 patches in DC\n"
     ]
    },
    {
     "name": "stderr",
     "output_type": "stream",
     "text": [
      "Analyzing section 327..\n"
     ]
    },
    {
     "name": "stdout",
     "output_type": "stream",
     "text": [
      "71 patches in 8n\n",
      "764 patches in Pr5VL\n",
      "714 patches in Sp5I\n",
      "1297 patches in Sp5O_surround_noclass\n",
      "129 patches in Sp5O_surround_Pr5VL\n",
      "241 patches in Sp5O_surround_Sp5I\n",
      "747 patches in DC_surround_noclass\n",
      "521 patches in 8n_surround_noclass\n",
      "1135 patches in Pr5VL_surround_noclass\n",
      "112 patches in Pr5VL_surround_Sp5O\n",
      "918 patches in Sp5I_surround_noclass\n",
      "201 patches in Sp5I_surround_Sp5O\n",
      "23826 patches in bg\n",
      "73 patches in 8n\n",
      "640 patches in Sp5I\n",
      "1105 patches in Sp5O\n"
     ]
    },
    {
     "name": "stderr",
     "output_type": "stream",
     "text": [
      "Analyzing section 328..\n"
     ]
    },
    {
     "name": "stdout",
     "output_type": "stream",
     "text": [
      "714 patches in Pr5VL\n",
      "157 patches in DC\n",
      "522 patches in 8n_surround_noclass\n",
      "896 patches in Sp5I_surround_noclass\n",
      "191 patches in Sp5I_surround_Sp5O\n",
      "1320 patches in Sp5O_surround_noclass\n",
      "112 patches in Sp5O_surround_Pr5VL\n",
      "232 patches in Sp5O_surround_Sp5I\n",
      "1095 patches in Pr5VL_surround_noclass\n",
      "95 patches in Pr5VL_surround_Sp5O\n",
      "710 patches in DC_surround_noclass\n",
      "23890 patches in bg\n"
     ]
    },
    {
     "name": "stderr",
     "output_type": "stream",
     "text": [
      "Analyzing section 329..\n"
     ]
    },
    {
     "name": "stdout",
     "output_type": "stream",
     "text": [
      "1056 patches in Sp5O\n",
      "553 patches in Sp5I\n",
      "65 patches in 8n\n",
      "659 patches in Pr5VL\n",
      "141 patches in DC\n",
      "1353 patches in Sp5O_surround_noclass\n",
      "96 patches in Sp5O_surround_Pr5VL\n",
      "238 patches in Sp5O_surround_Sp5I\n",
      "840 patches in Sp5I_surround_noclass\n",
      "192 patches in Sp5I_surround_Sp5O\n",
      "524 patches in 8n_surround_noclass\n",
      "1056 patches in Pr5VL_surround_noclass\n",
      "85 patches in Pr5VL_surround_Sp5O\n",
      "702 patches in DC_surround_noclass\n",
      "24270 patches in bg\n",
      "499 patches in Sp5I\n",
      "132 patches in DC\n",
      "626 patches in Pr5VL\n"
     ]
    },
    {
     "name": "stderr",
     "output_type": "stream",
     "text": [
      "Analyzing section 330..\n"
     ]
    },
    {
     "name": "stdout",
     "output_type": "stream",
     "text": [
      "244 patches in Pr5DM\n",
      "5 patches in VCP\n",
      "1021 patches in Sp5O\n",
      "75 patches in 8n\n",
      "788 patches in Sp5I_surround_noclass\n",
      "190 patches in Sp5I_surround_Sp5O\n",
      "709 patches in DC_surround_noclass\n",
      "5 patches in DC_surround_VCP\n",
      "951 patches in Pr5VL_surround_noclass\n",
      "85 patches in Pr5VL_surround_Sp5O\n",
      "96 patches in Pr5VL_surround_Pr5DM\n",
      "600 patches in Pr5DM_surround_noclass\n",
      "117 patches in Pr5DM_surround_Pr5VL\n",
      "27 patches in Pr5DM_surround_8n\n",
      "239 patches in VCP_surround_noclass\n",
      "71 patches in VCP_surround_DC\n",
      "1389 patches in Sp5O_surround_noclass\n",
      "91 patches in Sp5O_surround_Pr5VL\n",
      "234 patches in Sp5O_surround_Sp5I\n",
      "503 patches in 8n_surround_noclass\n",
      "37 patches in 8n_surround_Pr5DM\n",
      "24244 patches in bg\n"
     ]
    },
    {
     "name": "stderr",
     "output_type": "stream",
     "text": [
      "Analyzing section 331..\n"
     ]
    },
    {
     "name": "stdout",
     "output_type": "stream",
     "text": [
      "480 patches in Sp5I\n",
      "5 patches in VCP\n",
      "163 patches in DC\n",
      "83 patches in 8n\n",
      "769 patches in Sp5O\n",
      "772 patches in Sp5I_surround_noclass\n",
      "168 patches in Sp5I_surround_Sp5O\n",
      "230 patches in VCP_surround_noclass\n",
      "80 patches in VCP_surround_DC\n",
      "743 patches in DC_surround_noclass\n",
      "5 patches in DC_surround_VCP\n",
      "550 patches in 8n_surround_noclass\n",
      "1223 patches in Sp5O_surround_noclass\n",
      "214 patches in Sp5O_surround_Sp5I\n",
      "24456 patches in bg\n",
      "466 patches in Sp5I\n",
      "12 patches in VCP\n",
      "92 patches in 8n\n",
      "603 patches in Sp5O\n",
      "196 patches in DC\n"
     ]
    },
    {
     "name": "stderr",
     "output_type": "stream",
     "text": [
      "Analyzing section 332..\n"
     ]
    },
    {
     "name": "stdout",
     "output_type": "stream",
     "text": [
      "748 patches in Sp5I_surround_noclass\n",
      "163 patches in Sp5I_surround_Sp5O\n",
      "250 patches in VCP_surround_noclass\n",
      "88 patches in VCP_surround_DC\n",
      "575 patches in 8n_surround_noclass\n",
      "1055 patches in Sp5O_surround_noclass\n",
      "210 patches in Sp5O_surround_Sp5I\n",
      "775 patches in DC_surround_noclass\n",
      "12 patches in DC_surround_VCP\n",
      "24624 patches in bg\n",
      "422 patches in Sp5O\n",
      "17 patches in VCP\n",
      "102 patches in 8n\n",
      "3 patches in VCA\n",
      "470 patches in Sp5I\n"
     ]
    },
    {
     "name": "stderr",
     "output_type": "stream",
     "text": [
      "Analyzing section 333..\n"
     ]
    },
    {
     "name": "stdout",
     "output_type": "stream",
     "text": [
      "230 patches in DC\n",
      "816 patches in Sp5O_surround_noclass\n",
      "189 patches in Sp5O_surround_Sp5I\n",
      "274 patches in VCP_surround_noclass\n",
      "95 patches in VCP_surround_DC\n",
      "597 patches in 8n_surround_noclass\n",
      "3 patches in 8n_surround_VCA\n",
      "284 patches in VCA_surround_noclass\n",
      "15 patches in VCA_surround_8n\n",
      "726 patches in Sp5I_surround_noclass\n",
      "132 patches in Sp5I_surround_Sp5O\n",
      "811 patches in DC_surround_noclass\n",
      "17 patches in DC_surround_VCP\n",
      "24963 patches in bg\n",
      "121 patches in 8n\n",
      "234 patches in Sp5O\n",
      "458 patches in Sp5I\n"
     ]
    },
    {
     "name": "stderr",
     "output_type": "stream",
     "text": [
      "Analyzing section 334..\n"
     ]
    },
    {
     "name": "stdout",
     "output_type": "stream",
     "text": [
      "279 patches in DC\n",
      "7 patches in VCA\n",
      "21 patches in VCP\n",
      "617 patches in 8n_surround_noclass\n",
      "7 patches in 8n_surround_VCA\n",
      "601 patches in Sp5O_surround_noclass\n",
      "165 patches in Sp5O_surround_Sp5I\n",
      "729 patches in Sp5I_surround_noclass\n",
      "121 patches in Sp5I_surround_Sp5O\n",
      "849 patches in DC_surround_noclass\n",
      "21 patches in DC_surround_VCP\n",
      "306 patches in VCA_surround_noclass\n",
      "19 patches in VCA_surround_8n\n",
      "292 patches in VCP_surround_noclass\n",
      "99 patches in VCP_surround_DC\n",
      "25165 patches in bg\n",
      "129 patches in 8n\n",
      "20 patches in VCA\n"
     ]
    },
    {
     "name": "stderr",
     "output_type": "stream",
     "text": [
      "Analyzing section 335..\n"
     ]
    },
    {
     "name": "stdout",
     "output_type": "stream",
     "text": [
      "104 patches in Sp5O\n",
      "327 patches in DC\n",
      "64 patches in Pr5\n",
      "462 patches in Sp5I\n",
      "33 patches in VCP\n",
      "608 patches in 8n_surround_noclass\n",
      "15 patches in 8n_surround_VCA\n",
      "5 patches in 8n_surround_DC\n",
      "21 patches in 8n_surround_Pr5\n",
      "336 patches in VCA_surround_noclass\n",
      "26 patches in VCA_surround_8n\n",
      "32 patches in VCA_surround_Pr5\n",
      "474 patches in Sp5O_surround_noclass\n",
      "176 patches in Sp5O_surround_Sp5I\n",
      "902 patches in DC_surround_noclass\n",
      "6 patches in DC_surround_8n\n",
      "33 patches in DC_surround_VCP\n",
      "478 patches in Pr5_surround_noclass\n",
      "20 patches in Pr5_surround_VCA\n",
      "16 patches in Pr5_surround_8n\n",
      "748 patches in Sp5I_surround_noclass\n",
      "104 patches in Sp5I_surround_Sp5O\n",
      "326 patches in VCP_surround_noclass\n",
      "114 patches in VCP_surround_DC\n",
      "25165 patches in bg\n"
     ]
    },
    {
     "name": "stderr",
     "output_type": "stream",
     "text": [
      "Analyzing section 336..\n"
     ]
    },
    {
     "name": "stdout",
     "output_type": "stream",
     "text": [
      "334 patches in DC\n",
      "148 patches in 8n\n",
      "52 patches in VCP\n",
      "35 patches in VCA\n",
      "60 patches in Sp5O\n",
      "381 patches in Sp5I\n",
      "850 patches in DC_surround_noclass\n",
      "4 patches in DC_surround_VCA\n",
      "3 patches in DC_surround_8n\n",
      "50 patches in DC_surround_VCP\n",
      "650 patches in 8n_surround_noclass\n",
      "27 patches in 8n_surround_VCA\n",
      "4 patches in 8n_surround_DC\n",
      "362 patches in VCP_surround_noclass\n",
      "117 patches in VCP_surround_DC\n",
      "398 patches in VCA_surround_noclass\n",
      "42 patches in VCA_surround_8n\n",
      "2 patches in VCA_surround_DC\n",
      "388 patches in Sp5O_surround_noclass\n",
      "157 patches in Sp5O_surround_Sp5I\n",
      "762 patches in Sp5I_surround_noclass\n",
      "60 patches in Sp5I_surround_Sp5O\n",
      "25386 patches in bg\n",
      "342 patches in Sp5I\n",
      "27 patches in Sp5I\n",
      "342 patches in DC\n",
      "73 patches in VCP\n",
      "176 patches in 8n\n",
      "51 patches in VCA\n"
     ]
    },
    {
     "name": "stderr",
     "output_type": "stream",
     "text": [
      "Analyzing section 337..\n"
     ]
    },
    {
     "name": "stdout",
     "output_type": "stream",
     "text": [
      "1112 patches in Sp5I_surround_noclass\n",
      "464 patches in Sp5I_surround_noclass\n",
      "844 patches in DC_surround_noclass\n",
      "60 patches in DC_surround_VCP\n",
      "11 patches in DC_surround_VCA\n",
      "4 patches in DC_surround_8n\n",
      "402 patches in VCP_surround_noclass\n",
      "7 patches in VCP_surround_8n\n",
      "114 patches in VCP_surround_DC\n",
      "677 patches in 8n_surround_noclass\n",
      "4 patches in 8n_surround_VCP\n",
      "43 patches in 8n_surround_VCA\n",
      "4 patches in 8n_surround_DC\n",
      "422 patches in VCA_surround_noclass\n",
      "64 patches in VCA_surround_8n\n",
      "11 patches in VCA_surround_DC\n",
      "25410 patches in bg\n",
      "15 patches in Sp5O\n",
      "356 patches in DC\n",
      "75 patches in VCA\n",
      "178 patches in Sp5I\n",
      "172 patches in 8n\n",
      "97 patches in VCP\n"
     ]
    },
    {
     "name": "stderr",
     "output_type": "stream",
     "text": [
      "Analyzing section 338..\n"
     ]
    },
    {
     "name": "stdout",
     "output_type": "stream",
     "text": [
      "291 patches in Sp5O_surround_noclass\n",
      "110 patches in Sp5O_surround_Sp5I\n",
      "831 patches in DC_surround_noclass\n",
      "23 patches in DC_surround_VCA\n",
      "1 patches in DC_surround_8n\n",
      "69 patches in DC_surround_VCP\n",
      "484 patches in VCA_surround_noclass\n",
      "68 patches in VCA_surround_8n\n",
      "25 patches in VCA_surround_DC\n",
      "670 patches in Sp5I_surround_noclass\n",
      "15 patches in Sp5I_surround_Sp5O\n",
      "647 patches in 8n_surround_noclass\n",
      "54 patches in 8n_surround_VCA\n",
      "10 patches in 8n_surround_VCP\n",
      "452 patches in VCP_surround_noclass\n",
      "14 patches in VCP_surround_8n\n",
      "120 patches in VCP_surround_DC\n",
      "25600 patches in bg\n",
      "100 patches in VCA\n",
      "6 patches in Sp5O\n",
      "133 patches in VCP\n",
      "185 patches in 8n\n"
     ]
    },
    {
     "name": "stderr",
     "output_type": "stream",
     "text": [
      "Analyzing section 339..\n"
     ]
    },
    {
     "name": "stdout",
     "output_type": "stream",
     "text": [
      "85 patches in Sp5I\n",
      "365 patches in DC\n",
      "523 patches in VCA_surround_noclass\n",
      "78 patches in VCA_surround_8n\n",
      "42 patches in VCA_surround_DC\n",
      "277 patches in Sp5O_surround_noclass\n",
      "72 patches in Sp5O_surround_Sp5I\n",
      "485 patches in VCP_surround_noclass\n",
      "33 patches in VCP_surround_8n\n",
      "119 patches in VCP_surround_DC\n",
      "628 patches in 8n_surround_noclass\n",
      "65 patches in 8n_surround_VCA\n",
      "26 patches in 8n_surround_VCP\n",
      "534 patches in Sp5I_surround_noclass\n",
      "6 patches in Sp5I_surround_Sp5O\n",
      "826 patches in DC_surround_noclass\n",
      "36 patches in DC_surround_VCA\n",
      "81 patches in DC_surround_VCP\n",
      "25766 patches in bg\n",
      "191 patches in 8n\n"
     ]
    },
    {
     "name": "stderr",
     "output_type": "stream",
     "text": [
      "Analyzing section 340..\n"
     ]
    },
    {
     "name": "stdout",
     "output_type": "stream",
     "text": [
      "126 patches in VCA\n",
      "26 patches in Sp5I\n",
      "159 patches in VCP\n",
      "378 patches in DC\n",
      "615 patches in 8n_surround_noclass\n",
      "37 patches in 8n_surround_VCP\n",
      "72 patches in 8n_surround_VCA\n",
      "565 patches in VCA_surround_noclass\n",
      "3 patches in VCA_surround_VCP\n",
      "77 patches in VCA_surround_8n\n",
      "59 patches in VCA_surround_DC\n",
      "403 patches in Sp5I_surround_noclass\n",
      "514 patches in VCP_surround_noclass\n",
      "1 patches in VCP_surround_VCA\n",
      "53 patches in VCP_surround_8n\n",
      "120 patches in VCP_surround_DC\n",
      "809 patches in DC_surround_noclass\n",
      "87 patches in DC_surround_VCP\n",
      "48 patches in DC_surround_VCA\n",
      "25874 patches in bg\n"
     ]
    },
    {
     "name": "stderr",
     "output_type": "stream",
     "text": [
      "Analyzing section 341..\n"
     ]
    },
    {
     "name": "stdout",
     "output_type": "stream",
     "text": [
      "199 patches in VCP\n",
      "390 patches in DC\n",
      "204 patches in 8n\n",
      "170 patches in VCA\n",
      "15 patches in Sp5I\n",
      "538 patches in VCP_surround_noclass\n",
      "15 patches in VCP_surround_VCA\n",
      "82 patches in VCP_surround_8n\n",
      "111 patches in VCP_surround_DC\n",
      "786 patches in DC_surround_noclass\n",
      "85 patches in DC_surround_VCP\n",
      "72 patches in DC_surround_VCA\n",
      "578 patches in 8n_surround_noclass\n",
      "64 patches in 8n_surround_VCP\n",
      "90 patches in 8n_surround_VCA\n",
      "575 patches in VCA_surround_noclass\n",
      "28 patches in VCA_surround_VCP\n",
      "82 patches in VCA_surround_8n\n",
      "82 patches in VCA_surround_DC\n",
      "381 patches in Sp5I_surround_noclass\n",
      "25925 patches in bg\n"
     ]
    },
    {
     "name": "stderr",
     "output_type": "stream",
     "text": [
      "Analyzing section 342..\n"
     ]
    },
    {
     "name": "stdout",
     "output_type": "stream",
     "text": [
      "210 patches in 8n\n",
      "207 patches in VCA\n",
      "248 patches in VCP\n",
      "407 patches in DC\n",
      "559 patches in 8n_surround_noclass\n",
      "92 patches in 8n_surround_VCP\n",
      "106 patches in 8n_surround_VCA\n",
      "603 patches in VCA_surround_noclass\n",
      "71 patches in VCA_surround_VCP\n",
      "83 patches in VCA_surround_8n\n",
      "107 patches in VCA_surround_DC\n",
      "558 patches in VCP_surround_noclass\n",
      "31 patches in VCP_surround_VCA\n",
      "109 patches in VCP_surround_8n\n",
      "117 patches in VCP_surround_DC\n",
      "788 patches in DC_surround_noclass\n",
      "99 patches in DC_surround_VCP\n",
      "94 patches in DC_surround_VCA\n",
      "25998 patches in bg\n",
      "257 patches in VCP\n"
     ]
    },
    {
     "name": "stderr",
     "output_type": "stream",
     "text": [
      "Analyzing section 343..\n"
     ]
    },
    {
     "name": "stdout",
     "output_type": "stream",
     "text": [
      "229 patches in 8n\n",
      "227 patches in VCA\n",
      "380 patches in DC\n",
      "558 patches in VCP_surround_noclass\n",
      "37 patches in VCP_surround_VCA\n",
      "114 patches in VCP_surround_8n\n",
      "101 patches in VCP_surround_DC\n",
      "587 patches in 8n_surround_noclass\n",
      "98 patches in 8n_surround_VCP\n",
      "106 patches in 8n_surround_VCA\n",
      "608 patches in VCA_surround_noclass\n",
      "72 patches in VCA_surround_VCP\n",
      "79 patches in VCA_surround_8n\n",
      "107 patches in VCA_surround_DC\n",
      "753 patches in DC_surround_noclass\n",
      "83 patches in DC_surround_VCP\n",
      "101 patches in DC_surround_VCA\n",
      "26302 patches in bg\n",
      "254 patches in VCA\n",
      "212 patches in 8n\n"
     ]
    },
    {
     "name": "stderr",
     "output_type": "stream",
     "text": [
      "Analyzing section 344..\n"
     ]
    },
    {
     "name": "stdout",
     "output_type": "stream",
     "text": [
      "278 patches in VCP\n",
      "349 patches in DC\n",
      "642 patches in VCA_surround_noclass\n",
      "81 patches in VCA_surround_VCP\n",
      "56 patches in VCA_surround_8n\n",
      "101 patches in VCA_surround_DC\n",
      "580 patches in 8n_surround_noclass\n",
      "91 patches in 8n_surround_VCP\n",
      "78 patches in 8n_surround_VCA\n",
      "588 patches in VCP_surround_noclass\n",
      "46 patches in VCP_surround_VCA\n",
      "99 patches in VCP_surround_8n\n",
      "91 patches in VCP_surround_DC\n",
      "748 patches in DC_surround_noclass\n",
      "74 patches in DC_surround_VCP\n",
      "106 patches in DC_surround_VCA\n",
      "26372 patches in bg\n",
      "283 patches in VCA\n",
      "325 patches in DC\n"
     ]
    },
    {
     "name": "stderr",
     "output_type": "stream",
     "text": [
      "Analyzing section 345..\n"
     ]
    },
    {
     "name": "stdout",
     "output_type": "stream",
     "text": [
      "298 patches in VCP\n",
      "218 patches in 8n\n",
      "673 patches in VCA_surround_noclass\n",
      "93 patches in VCA_surround_VCP\n",
      "41 patches in VCA_surround_8n\n",
      "107 patches in VCA_surround_DC\n",
      "740 patches in DC_surround_noclass\n",
      "63 patches in DC_surround_VCP\n",
      "110 patches in DC_surround_VCA\n",
      "602 patches in VCP_surround_noclass\n",
      "57 patches in VCP_surround_VCA\n",
      "92 patches in VCP_surround_8n\n",
      "78 patches in VCP_surround_DC\n",
      "602 patches in 8n_surround_noclass\n",
      "88 patches in 8n_surround_VCP\n",
      "65 patches in 8n_surround_VCA\n",
      "26584 patches in bg\n",
      "310 patches in VCA\n",
      "314 patches in VCP\n",
      "305 patches in DC\n"
     ]
    },
    {
     "name": "stderr",
     "output_type": "stream",
     "text": [
      "Analyzing section 346..\n"
     ]
    },
    {
     "name": "stdout",
     "output_type": "stream",
     "text": [
      "734 patches in VCA_surround_noclass\n",
      "96 patches in VCA_surround_VCP\n",
      "102 patches in VCA_surround_DC\n",
      "712 patches in VCP_surround_noclass\n",
      "65 patches in VCP_surround_VCA\n",
      "72 patches in VCP_surround_DC\n",
      "744 patches in DC_surround_noclass\n",
      "59 patches in DC_surround_VCP\n",
      "111 patches in DC_surround_VCA\n",
      "26676 patches in bg\n"
     ]
    },
    {
     "name": "stderr",
     "output_type": "stream",
     "text": [
      "Analyzing section 347..\n"
     ]
    },
    {
     "name": "stdout",
     "output_type": "stream",
     "text": [
      "271 patches in DC\n",
      "337 patches in VCP\n",
      "343 patches in VCA\n",
      "750 patches in DC_surround_noclass\n",
      "53 patches in DC_surround_VCP\n",
      "111 patches in DC_surround_VCA\n",
      "703 patches in VCP_surround_noclass\n",
      "79 patches in VCP_surround_VCA\n",
      "65 patches in VCP_surround_DC\n",
      "756 patches in VCA_surround_noclass\n",
      "110 patches in VCA_surround_VCP\n",
      "95 patches in VCA_surround_DC\n",
      "26806 patches in bg\n",
      "363 patches in VCA\n",
      "250 patches in DC\n"
     ]
    },
    {
     "name": "stderr",
     "output_type": "stream",
     "text": [
      "Analyzing section 348..\n"
     ]
    },
    {
     "name": "stdout",
     "output_type": "stream",
     "text": [
      "360 patches in VCP\n",
      "759 patches in VCA_surround_noclass\n",
      "125 patches in VCA_surround_VCP\n",
      "95 patches in VCA_surround_DC\n",
      "746 patches in DC_surround_noclass\n",
      "52 patches in DC_surround_VCP\n",
      "114 patches in DC_surround_VCA\n",
      "696 patches in VCP_surround_noclass\n",
      "92 patches in VCP_surround_VCA\n",
      "61 patches in VCP_surround_DC\n",
      "27144 patches in bg\n",
      "227 patches in DC\n",
      "371 patches in VCP\n",
      "393 patches in VCA\n"
     ]
    },
    {
     "name": "stderr",
     "output_type": "stream",
     "text": [
      "Analyzing section 349..\n"
     ]
    },
    {
     "name": "stdout",
     "output_type": "stream",
     "text": [
      "744 patches in DC_surround_noclass\n",
      "49 patches in DC_surround_VCP\n",
      "117 patches in DC_surround_VCA\n",
      "707 patches in VCP_surround_noclass\n",
      "104 patches in VCP_surround_VCA\n",
      "56 patches in VCP_surround_DC\n",
      "777 patches in VCA_surround_noclass\n",
      "129 patches in VCA_surround_VCP\n",
      "89 patches in VCA_surround_DC\n",
      "27354 patches in bg\n"
     ]
    },
    {
     "name": "stderr",
     "output_type": "stream",
     "text": [
      "Analyzing section 350..\n"
     ]
    },
    {
     "name": "stdout",
     "output_type": "stream",
     "text": [
      "429 patches in VCA\n",
      "404 patches in VCP\n",
      "198 patches in DC\n",
      "831 patches in VCA_surround_noclass\n",
      "152 patches in VCA_surround_VCP\n",
      "90 patches in VCA_surround_DC\n",
      "671 patches in VCP_surround_noclass\n",
      "124 patches in VCP_surround_VCA\n",
      "52 patches in VCP_surround_DC\n",
      "782 patches in DC_surround_noclass\n",
      "53 patches in DC_surround_VCP\n",
      "132 patches in DC_surround_VCA\n",
      "27467 patches in bg\n",
      "447 patches in VCA\n",
      "328 patches in VCP\n"
     ]
    },
    {
     "name": "stderr",
     "output_type": "stream",
     "text": [
      "Analyzing section 351..\n"
     ]
    },
    {
     "name": "stdout",
     "output_type": "stream",
     "text": [
      "173 patches in DC\n",
      "820 patches in VCA_surround_noclass\n",
      "131 patches in VCA_surround_VCP\n",
      "87 patches in VCA_surround_DC\n",
      "649 patches in VCP_surround_noclass\n",
      "109 patches in VCP_surround_VCA\n",
      "53 patches in VCP_surround_DC\n",
      "681 patches in DC_surround_noclass\n",
      "45 patches in DC_surround_VCP\n",
      "115 patches in DC_surround_VCA\n",
      "27575 patches in bg\n",
      "478 patches in VCA\n",
      "149 patches in DC\n",
      "253 patches in VCP\n"
     ]
    },
    {
     "name": "stderr",
     "output_type": "stream",
     "text": [
      "Analyzing section 352..\n"
     ]
    },
    {
     "name": "stdout",
     "output_type": "stream",
     "text": [
      "871 patches in VCA_surround_noclass\n",
      "115 patches in VCA_surround_VCP\n",
      "90 patches in VCA_surround_DC\n",
      "603 patches in DC_surround_noclass\n",
      "39 patches in DC_surround_VCP\n",
      "98 patches in DC_surround_VCA\n",
      "604 patches in VCP_surround_noclass\n",
      "100 patches in VCP_surround_VCA\n",
      "44 patches in VCP_surround_DC\n",
      "27494 patches in bg\n",
      "129 patches in DC\n"
     ]
    },
    {
     "name": "stderr",
     "output_type": "stream",
     "text": [
      "Analyzing section 353..\n"
     ]
    },
    {
     "name": "stdout",
     "output_type": "stream",
     "text": [
      "199 patches in VCP\n",
      "501 patches in VCA\n",
      "558 patches in DC_surround_noclass\n",
      "39 patches in DC_surround_VCP\n",
      "90 patches in DC_surround_VCA\n",
      "572 patches in VCP_surround_noclass\n",
      "85 patches in VCP_surround_VCA\n",
      "48 patches in VCP_surround_DC\n",
      "873 patches in VCA_surround_noclass\n",
      "99 patches in VCA_surround_VCP\n",
      "86 patches in VCA_surround_DC\n",
      "27601 patches in bg\n",
      "145 patches in VCP\n",
      "534 patches in VCA\n",
      "52 patches in DC\n",
      "545 patches in VCP_surround_noclass\n",
      "79 patches in VCP_surround_VCA\n",
      "25 patches in VCP_surround_DC\n"
     ]
    },
    {
     "name": "stderr",
     "output_type": "stream",
     "text": [
      "Analyzing section 354..\n"
     ]
    },
    {
     "name": "stdout",
     "output_type": "stream",
     "text": [
      "975 patches in VCA_surround_noclass\n",
      "86 patches in VCA_surround_VCP\n",
      "52 patches in VCA_surround_DC\n",
      "433 patches in DC_surround_noclass\n",
      "31 patches in DC_surround_VCP\n",
      "69 patches in DC_surround_VCA\n",
      "27555 patches in bg\n",
      "18 patches in DC\n",
      "513 patches in VCA\n",
      "114 patches in VCP\n"
     ]
    },
    {
     "name": "stderr",
     "output_type": "stream",
     "text": [
      "Analyzing section 355..\n"
     ]
    },
    {
     "name": "stdout",
     "output_type": "stream",
     "text": [
      "370 patches in DC_surround_noclass\n",
      "27 patches in DC_surround_VCP\n",
      "59 patches in DC_surround_VCA\n",
      "971 patches in VCA_surround_noclass\n",
      "71 patches in VCA_surround_VCP\n",
      "18 patches in VCA_surround_DC\n",
      "505 patches in VCP_surround_noclass\n",
      "69 patches in VCP_surround_VCA\n",
      "15 patches in VCP_surround_DC\n",
      "27642 patches in bg\n"
     ]
    },
    {
     "name": "stderr",
     "output_type": "stream",
     "text": [
      "Analyzing section 356..\n"
     ]
    },
    {
     "name": "stdout",
     "output_type": "stream",
     "text": [
      "485 patches in VCA\n",
      "89 patches in VCP\n",
      "953 patches in VCA_surround_noclass\n",
      "64 patches in VCA_surround_VCP\n",
      "431 patches in VCP_surround_noclass\n",
      "62 patches in VCP_surround_VCA\n",
      "28246 patches in bg\n"
     ]
    },
    {
     "name": "stderr",
     "output_type": "stream",
     "text": [
      "Analyzing section 357..\n"
     ]
    },
    {
     "name": "stdout",
     "output_type": "stream",
     "text": [
      "72 patches in VCP\n",
      "459 patches in VCA\n",
      "390 patches in VCP_surround_noclass\n",
      "71 patches in VCP_surround_VCA\n",
      "974 patches in VCA_surround_noclass\n",
      "61 patches in VCA_surround_VCP\n",
      "27922 patches in bg\n"
     ]
    },
    {
     "name": "stderr",
     "output_type": "stream",
     "text": [
      "Analyzing section 358..\n",
      "Analyzing section 359..\n"
     ]
    },
    {
     "name": "stdout",
     "output_type": "stream",
     "text": [
      "462 patches in VCA\n",
      "991 patches in VCA_surround_noclass\n",
      "27814 patches in bg\n",
      "18 patches in VCP\n",
      "460 patches in VCA\n",
      "328 patches in VCP_surround_noclass\n",
      "53 patches in VCP_surround_VCA\n",
      "951 patches in VCA_surround_noclass\n",
      "18 patches in VCA_surround_VCP\n",
      "28507 patches in bg\n",
      "453 patches in VCA\n"
     ]
    },
    {
     "name": "stderr",
     "output_type": "stream",
     "text": [
      "Analyzing section 360..\n",
      "Analyzing section 361..\n"
     ]
    },
    {
     "name": "stdout",
     "output_type": "stream",
     "text": [
      "902 patches in VCA_surround_noclass\n",
      "29190 patches in bg\n",
      "438 patches in VCA\n",
      "843 patches in VCA_surround_noclass\n",
      "29415 patches in bg\n"
     ]
    },
    {
     "name": "stderr",
     "output_type": "stream",
     "text": [
      "Analyzing section 362..\n",
      "Analyzing section 363..\n"
     ]
    },
    {
     "name": "stdout",
     "output_type": "stream",
     "text": [
      "436 patches in VCA\n",
      "772 patches in VCA_surround_noclass\n",
      "29287 patches in bg\n",
      "399 patches in VCA\n",
      "663 patches in VCA_surround_noclass\n",
      "29570 patches in bg\n",
      "362 patches in VCA\n",
      "656 patches in VCA_surround_noclass\n",
      "29642 patches in bg\n"
     ]
    },
    {
     "name": "stderr",
     "output_type": "stream",
     "text": [
      "Analyzing section 364..\n",
      "Analyzing section 365..\n"
     ]
    },
    {
     "name": "stdout",
     "output_type": "stream",
     "text": [
      "339 patches in VCA\n",
      "598 patches in VCA_surround_noclass\n",
      "29789 patches in bg\n",
      "234 patches in VCA\n",
      "559 patches in VCA_surround_noclass\n",
      "29820 patches in bg\n"
     ]
    },
    {
     "name": "stderr",
     "output_type": "stream",
     "text": [
      "Analyzing section 366..\n",
      "Analyzing section 367..\n"
     ]
    },
    {
     "name": "stdout",
     "output_type": "stream",
     "text": [
      "166 patches in VCA\n",
      "472 patches in VCA_surround_noclass\n",
      "30011 patches in bg\n",
      "101 patches in VCA\n",
      "420 patches in VCA_surround_noclass\n",
      "30159 patches in bg\n"
     ]
    },
    {
     "name": "stderr",
     "output_type": "stream",
     "text": [
      "Analyzing section 368..\n",
      "Analyzing section 369..\n",
      "Analyzing section 370..\n"
     ]
    },
    {
     "name": "stdout",
     "output_type": "stream",
     "text": [
      "56 patches in VCA\n",
      "315 patches in VCA_surround_noclass\n",
      "30758 patches in bg\n",
      "33 patches in VCA\n",
      "268 patches in VCA_surround_noclass\n",
      "30935 patches in bg\n"
     ]
    },
    {
     "name": "stderr",
     "output_type": "stream",
     "text": [
      "/oasis/projects/nsf/csd395/yuncong/brain_virtualenv/lib/python2.7/site-packages/pandas/core/generic.py:1101: PerformanceWarning: \n",
      "your performance may suffer as PyTables will pickle object types that it cannot\n",
      "map directly to c-types [inferred_type->mixed,key->block0_values] [items->[94, 95, 96, 97, 98, 99, 100, 101, 102, 103, 104, 105, 106, 107, 108, 109, 110, 111, 112, 113, 114, 115, 116, 117, 119, 120, 121, 122, 123, 124, 125, 126, 127, 128, 129, 130, 131, 132, 133, 134, 135, 136, 137, 138, 139, 140, 141, 142, 143, 144, 145, 146, 147, 148, 149, 150, 151, 152, 153, 154, 155, 156, 157, 158, 159, 160, 161, 162, 163, 164, 165, 166, 167, 168, 169, 170, 171, 172, 173, 174, 175, 176, 177, 178, 179, 180, 181, 182, 183, 184, 185, 186, 187, 188, 189, 190, 191, 192, 193, 194, 195, 196, 197, 198, 199, 200, 201, 202, 203, 204, 205, 206, 207, 208, 209, 210, 211, 212, 213, 214, 215, 216, 217, 218, 219, 220, 222, 223, 224, 225, 226, 227, 228, 229, 230, 231, 232, 233, 234, 235, 236, 237, 238, 239, 240, 241, 242, 243, 244, 245, 246, 247, 248, 249, 250, 251, 252, 253, 254, 255, 256, 257, 258, 259, 260, 261, 262, 263, 264, 265, 266, 267, 268, 269, 270, 271, 272, 273, 274, 275, 276, 277, 278, 279, 280, 281, 282, 283, 284, 285, 286, 287, 288, 289, 290, 291, 292, 293, 294, 295, 296, 297, 298, 299, 301, 302, 303, 304, 305, 306, 307, 308, 309, 310, 311, 312, 313, 314, 315, 316, 317, 318, 319, 320, 321, 322, 323, 325, 326, 327, 328, 329, 330, 331, 332, 333, 334, 335, 336, 337, 338, 339, 340, 341, 342, 343, 344, 345, 346, 347, 348, 349, 350, 351, 352, 353, 354, 355, 356, 357, 358, 359, 360, 361, 362, 363, 364, 365, 366, 367, 368, 369, 370]]\n",
      "\n",
      "  return pytables.to_hdf(path_or_buf, key, self, **kwargs)\n"
     ]
    }
   ],
   "source": [
    "for stack in ['MD594', 'MD585', 'MD589']:\n",
    "    label_gridIndices = locate_annotated_patches_v2(stack=stack, \n",
    "                                                    annotation_rootdir=annotation_midbrainIncluded_v2_rootdir)\n",
    "    \n",
    "    annotation_grid_indices_fn = '/home/yuncong/csd395/CSHL_labelings_v3/%(stack)s/%(stack)s_annotation_grid_indices.h5' % dict(stack=stack)\n",
    "    label_gridIndices.to_hdf(annotation_grid_indices_fn, 'grid_indices')"
   ]
  },
  {
   "cell_type": "code",
   "execution_count": null,
   "metadata": {
    "collapsed": true
   },
   "outputs": [],
   "source": [
    "label_gridIndices = read_hdf(annotation_grid_indices_fn, 'grid_indices')"
   ]
  }
 ],
 "metadata": {
  "kernelspec": {
   "display_name": "Python 2",
   "language": "python",
   "name": "python2"
  },
  "language_info": {
   "codemirror_mode": {
    "name": "ipython",
    "version": 2
   },
   "file_extension": ".py",
   "mimetype": "text/x-python",
   "name": "python",
   "nbconvert_exporter": "python",
   "pygments_lexer": "ipython2",
   "version": "2.7.3"
  }
 },
 "nbformat": 4,
 "nbformat_minor": 0
}
