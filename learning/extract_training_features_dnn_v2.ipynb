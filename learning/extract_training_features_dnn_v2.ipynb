{
 "cells": [
  {
   "cell_type": "code",
   "execution_count": 1,
   "metadata": {
    "collapsed": false
   },
   "outputs": [
    {
     "name": "stdout",
     "output_type": "stream",
     "text": [
      "Setting environment for Gordon\n"
     ]
    },
    {
     "name": "stderr",
     "output_type": "stream",
     "text": [
      "Cannot import mxnet.\n"
     ]
    }
   ],
   "source": [
    "%load_ext autoreload\n",
    "%autoreload 2\n",
    "\n",
    "import numpy as np\n",
    "\n",
    "import sys\n",
    "import os\n",
    "\n",
    "sys.path.append(os.environ['REPO_DIR'] + '/utilities')\n",
    "from utilities2015 import *\n",
    "from metadata import *\n",
    "from data_manager import *\n",
    "\n",
    "from learning_utilities import *\n",
    "\n",
    "import matplotlib.pyplot as plt\n",
    "%matplotlib inline\n",
    "\n",
    "from joblib import Parallel, delayed\n",
    "import time"
   ]
  },
  {
   "cell_type": "code",
   "execution_count": 12,
   "metadata": {
    "collapsed": false
   },
   "outputs": [],
   "source": [
    "stack = 'MD594'"
   ]
  },
  {
   "cell_type": "code",
   "execution_count": 13,
   "metadata": {
    "collapsed": false
   },
   "outputs": [
    {
     "data": {
      "text/plain": [
       "(17216, 11104)"
      ]
     },
     "execution_count": 13,
     "metadata": {},
     "output_type": "execute_result"
    }
   ],
   "source": [
    "DataManager.get_image_dimension(stack)"
   ]
  },
  {
   "cell_type": "code",
   "execution_count": 14,
   "metadata": {
    "collapsed": false,
    "scrolled": true
   },
   "outputs": [
    {
     "name": "stderr",
     "output_type": "stream",
     "text": [
      "Analyzing section 94..\n",
      "Analyzing section 95..\n"
     ]
    },
    {
     "name": "stdout",
     "output_type": "stream",
     "text": [
      "22 patches in VCA\n",
      "279 patches in VCA_surround\n",
      "29398 patches in bg\n",
      "63 patches in VCA\n",
      "338 patches in VCA_surround\n",
      "29666 patches in bg\n"
     ]
    },
    {
     "name": "stderr",
     "output_type": "stream",
     "text": [
      "Analyzing section 96..\n",
      "Analyzing section 97..\n"
     ]
    },
    {
     "name": "stdout",
     "output_type": "stream",
     "text": [
      "143 patches in VCA\n",
      "444 patches in VCA_surround\n",
      "29541 patches in bg\n",
      "236 patches in VCA\n",
      "442 patches in VCA_surround\n",
      "28793 patches in bg\n"
     ]
    },
    {
     "name": "stderr",
     "output_type": "stream",
     "text": [
      "Analyzing section 98..\n",
      "Analyzing section 99..\n"
     ]
    },
    {
     "name": "stdout",
     "output_type": "stream",
     "text": [
      "340 patches in VCA\n",
      "545 patches in VCA_surround\n",
      "28932 patches in bg\n",
      "424 patches in VCA\n",
      "610 patches in VCA_surround\n",
      "28494 patches in bg\n"
     ]
    },
    {
     "name": "stderr",
     "output_type": "stream",
     "text": [
      "Analyzing section 100..\n",
      "Analyzing section 101..\n"
     ]
    },
    {
     "name": "stdout",
     "output_type": "stream",
     "text": [
      "514 patches in VCA\n",
      "794 patches in VCA_surround\n",
      "28587 patches in bg\n",
      "536 patches in VCA\n",
      "827 patches in VCA_surround\n",
      "27974 patches in bg\n"
     ]
    },
    {
     "name": "stderr",
     "output_type": "stream",
     "text": [
      "Analyzing section 102..\n",
      "Analyzing section 103..\n"
     ]
    },
    {
     "name": "stdout",
     "output_type": "stream",
     "text": [
      "568 patches in VCA\n",
      "902 patches in VCA_surround\n",
      "28073 patches in bg\n",
      "600 patches in VCA\n",
      "958 patches in VCA_surround\n",
      "27969 patches in bg\n",
      "634 patches in VCA\n",
      "1059 patches in VCA_surround\n",
      "27318 patches in bg\n"
     ]
    },
    {
     "name": "stderr",
     "output_type": "stream",
     "text": [
      "Analyzing section 104..\n",
      "Analyzing section 105..\n"
     ]
    },
    {
     "name": "stdout",
     "output_type": "stream",
     "text": [
      "119 patches in VCP\n",
      "676 patches in VCA\n",
      "13 patches in DC\n",
      "336 patches in VCP_surround\n",
      "1025 patches in VCA_surround\n",
      "534 patches in DC_surround\n",
      "28675 patches in bg\n"
     ]
    },
    {
     "name": "stderr",
     "output_type": "stream",
     "text": [
      "Analyzing section 106..\n"
     ]
    },
    {
     "name": "stdout",
     "output_type": "stream",
     "text": [
      "136 patches in VCP\n",
      "651 patches in VCA\n",
      "86 patches in DC\n",
      "390 patches in VCP_surround\n",
      "992 patches in VCA_surround\n",
      "555 patches in DC_surround\n",
      "26923 patches in bg\n"
     ]
    },
    {
     "name": "stderr",
     "output_type": "stream",
     "text": [
      "Analyzing section 107..\n"
     ]
    },
    {
     "name": "stdout",
     "output_type": "stream",
     "text": [
      "154 patches in VCP\n",
      "625 patches in VCA\n",
      "154 patches in DC\n",
      "353 patches in VCP_surround\n",
      "1035 patches in VCA_surround\n",
      "677 patches in DC_surround\n",
      "26300 patches in bg\n"
     ]
    },
    {
     "name": "stderr",
     "output_type": "stream",
     "text": [
      "Analyzing section 108..\n"
     ]
    },
    {
     "name": "stdout",
     "output_type": "stream",
     "text": [
      "182 patches in VCP\n",
      "599 patches in VCA\n",
      "194 patches in DC\n",
      "373 patches in VCP_surround\n",
      "1057 patches in VCA_surround\n",
      "685 patches in DC_surround\n",
      "26332 patches in bg\n"
     ]
    },
    {
     "name": "stderr",
     "output_type": "stream",
     "text": [
      "Analyzing section 109..\n"
     ]
    },
    {
     "name": "stdout",
     "output_type": "stream",
     "text": [
      "205 patches in VCP\n",
      "572 patches in VCA\n",
      "218 patches in DC\n",
      "404 patches in VCP_surround\n",
      "1080 patches in VCA_surround\n",
      "678 patches in DC_surround\n",
      "25683 patches in bg\n"
     ]
    },
    {
     "name": "stderr",
     "output_type": "stream",
     "text": [
      "Analyzing section 110..\n"
     ]
    },
    {
     "name": "stdout",
     "output_type": "stream",
     "text": [
      "232 patches in VCP\n",
      "539 patches in VCA\n",
      "250 patches in DC\n",
      "482 patches in VCP_surround\n",
      "1099 patches in VCA_surround\n",
      "709 patches in DC_surround\n",
      "25355 patches in bg\n"
     ]
    },
    {
     "name": "stderr",
     "output_type": "stream",
     "text": [
      "Analyzing section 111..\n"
     ]
    },
    {
     "name": "stdout",
     "output_type": "stream",
     "text": [
      "267 patches in VCP\n",
      "506 patches in VCA\n",
      "294 patches in DC\n",
      "464 patches in VCP_surround\n",
      "1198 patches in VCA_surround\n",
      "769 patches in DC_surround\n",
      "25213 patches in bg\n"
     ]
    },
    {
     "name": "stderr",
     "output_type": "stream",
     "text": [
      "Analyzing section 112..\n"
     ]
    },
    {
     "name": "stdout",
     "output_type": "stream",
     "text": [
      "287 patches in VCP\n",
      "451 patches in VCA\n",
      "305 patches in DC\n",
      "548 patches in VCP_surround\n",
      "1064 patches in VCA_surround\n",
      "755 patches in DC_surround\n",
      "24974 patches in bg\n"
     ]
    },
    {
     "name": "stderr",
     "output_type": "stream",
     "text": [
      "Analyzing section 113..\n"
     ]
    },
    {
     "name": "stdout",
     "output_type": "stream",
     "text": [
      "318 patches in VCP\n",
      "400 patches in VCA\n",
      "316 patches in DC\n",
      "628 patches in VCP_surround\n",
      "948 patches in VCA_surround\n",
      "780 patches in DC_surround\n",
      "24858 patches in bg\n"
     ]
    },
    {
     "name": "stderr",
     "output_type": "stream",
     "text": [
      "Analyzing section 114..\n"
     ]
    },
    {
     "name": "stdout",
     "output_type": "stream",
     "text": [
      "347 patches in VCP\n",
      "348 patches in VCA\n",
      "333 patches in DC\n",
      "690 patches in VCP_surround\n",
      "875 patches in VCA_surround\n",
      "791 patches in DC_surround\n",
      "24924 patches in bg\n"
     ]
    },
    {
     "name": "stderr",
     "output_type": "stream",
     "text": [
      "Analyzing section 115..\n"
     ]
    },
    {
     "name": "stdout",
     "output_type": "stream",
     "text": [
      "375 patches in VCP\n",
      "297 patches in VCA\n",
      "345 patches in DC\n",
      "755 patches in VCP_surround\n",
      "817 patches in VCA_surround\n",
      "809 patches in DC_surround\n",
      "24502 patches in bg\n"
     ]
    },
    {
     "name": "stderr",
     "output_type": "stream",
     "text": [
      "Analyzing section 116..\n"
     ]
    },
    {
     "name": "stdout",
     "output_type": "stream",
     "text": [
      "408 patches in VCP\n",
      "251 patches in VCA\n",
      "365 patches in DC\n",
      "795 patches in VCP_surround\n",
      "766 patches in VCA_surround\n",
      "830 patches in DC_surround\n",
      "24538 patches in bg\n"
     ]
    },
    {
     "name": "stderr",
     "output_type": "stream",
     "text": [
      "Analyzing section 117..\n"
     ]
    },
    {
     "name": "stdout",
     "output_type": "stream",
     "text": [
      "447 patches in VCP\n",
      "196 patches in VCA\n",
      "381 patches in DC\n",
      "845 patches in VCP_surround\n",
      "714 patches in VCA_surround\n",
      "838 patches in DC_surround\n",
      "24163 patches in bg\n"
     ]
    },
    {
     "name": "stderr",
     "output_type": "stream",
     "text": [
      "Analyzing section 118..\n"
     ]
    },
    {
     "name": "stdout",
     "output_type": "stream",
     "text": [
      "489 patches in VCP\n",
      "155 patches in VCA\n",
      "403 patches in DC\n",
      "880 patches in VCP_surround\n",
      "700 patches in VCA_surround\n",
      "877 patches in DC_surround\n",
      "24070 patches in bg\n"
     ]
    },
    {
     "name": "stderr",
     "output_type": "stream",
     "text": [
      "Analyzing section 119..\n"
     ]
    },
    {
     "name": "stdout",
     "output_type": "stream",
     "text": [
      "346 patches in VCP\n",
      "97 patches in VCA\n",
      "374 patches in DC\n",
      "809 patches in VCP_surround\n",
      "595 patches in VCA_surround\n",
      "870 patches in DC_surround\n",
      "23860 patches in bg\n"
     ]
    },
    {
     "name": "stderr",
     "output_type": "stream",
     "text": [
      "Analyzing section 120..\n"
     ]
    },
    {
     "name": "stdout",
     "output_type": "stream",
     "text": [
      "247 patches in VCP\n",
      "46 patches in VCA\n",
      "349 patches in DC\n",
      "845 patches in VCP_surround\n",
      "461 patches in VCA_surround\n",
      "895 patches in DC_surround\n",
      "23493 patches in bg\n"
     ]
    },
    {
     "name": "stderr",
     "output_type": "stream",
     "text": [
      "Analyzing section 121..\n"
     ]
    },
    {
     "name": "stdout",
     "output_type": "stream",
     "text": [
      "24 patches in Pr5\n",
      "27 patches in VCA\n",
      "318 patches in DC\n",
      "435 patches in Pr5_surround\n",
      "406 patches in VCA_surround\n",
      "909 patches in DC_surround\n",
      "23428 patches in bg\n"
     ]
    },
    {
     "name": "stderr",
     "output_type": "stream",
     "text": [
      "Analyzing section 122..\n"
     ]
    },
    {
     "name": "stdout",
     "output_type": "stream",
     "text": [
      "50 patches in Pr5\n",
      "14 patches in VCA\n",
      "225 patches in 8n\n",
      "292 patches in DC\n",
      "495 patches in Pr5_surround\n",
      "317 patches in VCA_surround\n",
      "745 patches in 8n_surround\n",
      "885 patches in DC_surround\n",
      "23201 patches in bg\n"
     ]
    },
    {
     "name": "stderr",
     "output_type": "stream",
     "text": [
      "Analyzing section 123..\n"
     ]
    },
    {
     "name": "stdout",
     "output_type": "stream",
     "text": [
      "84 patches in Pr5\n",
      "7 patches in VCA\n",
      "207 patches in 8n\n",
      "268 patches in DC\n",
      "577 patches in Pr5_surround\n",
      "290 patches in VCA_surround\n",
      "722 patches in 8n_surround\n",
      "859 patches in DC_surround\n",
      "23234 patches in bg\n"
     ]
    },
    {
     "name": "stderr",
     "output_type": "stream",
     "text": [
      "Analyzing section 124..\n"
     ]
    },
    {
     "name": "stdout",
     "output_type": "stream",
     "text": [
      "142 patches in Pr5\n",
      "3 patches in VCA\n",
      "196 patches in 8n\n",
      "239 patches in DC\n",
      "678 patches in Pr5_surround\n",
      "264 patches in VCA_surround\n",
      "707 patches in 8n_surround\n",
      "840 patches in DC_surround\n",
      "23372 patches in bg\n"
     ]
    },
    {
     "name": "stderr",
     "output_type": "stream",
     "text": [
      "Analyzing section 125..\n"
     ]
    },
    {
     "name": "stdout",
     "output_type": "stream",
     "text": [
      "197 patches in Pr5\n",
      "191 patches in 8n\n",
      "59 patches in SNR\n",
      "215 patches in DC\n",
      "134 patches in Sp5I\n",
      "755 patches in Pr5_surround\n",
      "693 patches in 8n_surround\n",
      "637 patches in SNR_surround\n",
      "843 patches in DC_surround\n",
      "629 patches in Sp5I_surround\n",
      "23183 patches in bg\n"
     ]
    },
    {
     "name": "stderr",
     "output_type": "stream",
     "text": [
      "Analyzing section 126..\n"
     ]
    },
    {
     "name": "stdout",
     "output_type": "stream",
     "text": [
      "53 patches in Sp5O\n",
      "183 patches in 8n\n",
      "193 patches in Sp5I\n",
      "203 patches in DC\n",
      "262 patches in Pr5\n",
      "94 patches in SNR\n",
      "426 patches in Sp5O_surround\n",
      "679 patches in 8n_surround\n",
      "635 patches in Sp5I_surround\n",
      "784 patches in DC_surround\n",
      "831 patches in Pr5_surround\n",
      "685 patches in SNR_surround\n",
      "23193 patches in bg\n"
     ]
    },
    {
     "name": "stderr",
     "output_type": "stream",
     "text": [
      "Analyzing section 127..\n"
     ]
    },
    {
     "name": "stdout",
     "output_type": "stream",
     "text": [
      "110 patches in Sp5O\n",
      "173 patches in 8n\n",
      "230 patches in Sp5I\n",
      "183 patches in DC\n",
      "353 patches in Pr5\n",
      "157 patches in SNR\n",
      "500 patches in Sp5O_surround\n",
      "655 patches in 8n_surround\n",
      "645 patches in Sp5I_surround\n",
      "748 patches in DC_surround\n",
      "911 patches in Pr5_surround\n",
      "805 patches in SNR_surround\n",
      "23132 patches in bg\n"
     ]
    },
    {
     "name": "stderr",
     "output_type": "stream",
     "text": [
      "Analyzing section 128..\n"
     ]
    },
    {
     "name": "stdout",
     "output_type": "stream",
     "text": [
      "175 patches in Sp5O\n",
      "164 patches in 8n\n",
      "277 patches in Sp5I\n",
      "164 patches in DC\n",
      "462 patches in Pr5\n",
      "74 patches in PBG\n",
      "222 patches in SNR\n",
      "598 patches in Sp5O_surround\n",
      "620 patches in 8n_surround\n",
      "676 patches in Sp5I_surround\n",
      "746 patches in DC_surround\n",
      "1020 patches in Pr5_surround\n",
      "629 patches in PBG_surround\n",
      "901 patches in SNR_surround\n",
      "22970 patches in bg\n"
     ]
    },
    {
     "name": "stderr",
     "output_type": "stream",
     "text": [
      "Analyzing section 129..\n"
     ]
    },
    {
     "name": "stdout",
     "output_type": "stream",
     "text": [
      "273 patches in Sp5O\n",
      "153 patches in 8n\n",
      "322 patches in Sp5I\n",
      "142 patches in DC\n",
      "78 patches in PBG\n",
      "315 patches in SNR\n",
      "745 patches in Sp5O_surround\n",
      "671 patches in 8n_surround\n",
      "713 patches in Sp5I_surround\n",
      "719 patches in DC_surround\n",
      "619 patches in PBG_surround\n",
      "1051 patches in SNR_surround\n",
      "22691 patches in bg\n"
     ]
    },
    {
     "name": "stderr",
     "output_type": "stream",
     "text": [
      "Analyzing section 130..\n"
     ]
    },
    {
     "name": "stdout",
     "output_type": "stream",
     "text": [
      "382 patches in Sp5O\n",
      "149 patches in 8n\n",
      "102 patches in VLL\n",
      "360 patches in Sp5I\n",
      "135 patches in DC\n",
      "87 patches in PBG\n",
      "357 patches in SNR\n",
      "866 patches in Sp5O_surround\n",
      "663 patches in 8n_surround\n",
      "612 patches in VLL_surround\n",
      "757 patches in Sp5I_surround\n",
      "692 patches in DC_surround\n",
      "641 patches in PBG_surround\n",
      "1047 patches in SNR_surround\n",
      "22597 patches in bg\n"
     ]
    },
    {
     "name": "stderr",
     "output_type": "stream",
     "text": [
      "Analyzing section 131..\n",
      "Analyzing section 132..\n"
     ]
    },
    {
     "name": "stdout",
     "output_type": "stream",
     "text": [
      "647 patches in Sp5O\n",
      "131 patches in 8n\n",
      "91 patches in VLL\n",
      "467 patches in Sp5I\n",
      "105 patches in DC\n",
      "109 patches in PBG\n",
      "454 patches in SNR\n",
      "1161 patches in Sp5O_surround\n",
      "650 patches in 8n_surround\n",
      "583 patches in VLL_surround\n",
      "813 patches in Sp5I_surround\n",
      "654 patches in DC_surround\n",
      "690 patches in PBG_surround\n",
      "1115 patches in SNR_surround\n",
      "22357 patches in bg\n"
     ]
    },
    {
     "name": "stderr",
     "output_type": "stream",
     "text": [
      "Analyzing section 133..\n"
     ]
    },
    {
     "name": "stdout",
     "output_type": "stream",
     "text": [
      "791 patches in Sp5O\n",
      "123 patches in 8n\n",
      "91 patches in VLL\n",
      "513 patches in Sp5I\n",
      "92 patches in DC\n",
      "97 patches in PBG\n",
      "501 patches in SNR\n",
      "1286 patches in Sp5O_surround\n",
      "639 patches in 8n_surround\n",
      "581 patches in VLL_surround\n",
      "825 patches in Sp5I_surround\n",
      "635 patches in DC_surround\n",
      "631 patches in PBG_surround\n",
      "1146 patches in SNR_surround\n",
      "22124 patches in bg\n"
     ]
    },
    {
     "name": "stderr",
     "output_type": "stream",
     "text": [
      "Analyzing section 134..\n"
     ]
    },
    {
     "name": "stdout",
     "output_type": "stream",
     "text": [
      "976 patches in Sp5O\n",
      "119 patches in 8n\n",
      "87 patches in VLL\n",
      "582 patches in Sp5I\n",
      "82 patches in DC\n",
      "87 patches in PBG\n",
      "565 patches in SNR\n",
      "1449 patches in Sp5O_surround\n",
      "626 patches in 8n_surround\n",
      "578 patches in VLL_surround\n",
      "854 patches in Sp5I_surround\n",
      "621 patches in DC_surround\n",
      "597 patches in PBG_surround\n",
      "1193 patches in SNR_surround\n",
      "22045 patches in bg\n"
     ]
    },
    {
     "name": "stderr",
     "output_type": "stream",
     "text": [
      "Analyzing section 135..\n"
     ]
    },
    {
     "name": "stdout",
     "output_type": "stream",
     "text": [
      "1151 patches in Sp5O\n",
      "791 patches in Pr5VL\n",
      "94 patches in VLL\n",
      "650 patches in Sp5I\n",
      "77 patches in DC\n",
      "81 patches in PBG\n",
      "631 patches in SNR\n",
      "119 patches in 8n\n",
      "409 patches in Pr5DM\n",
      "1491 patches in Sp5O_surround\n",
      "989 patches in Pr5VL_surround\n",
      "589 patches in VLL_surround\n",
      "838 patches in Sp5I_surround\n",
      "621 patches in DC_surround\n",
      "591 patches in PBG_surround\n",
      "1242 patches in SNR_surround\n",
      "577 patches in 8n_surround\n",
      "643 patches in Pr5DM_surround\n",
      "21871 patches in bg\n"
     ]
    },
    {
     "name": "stderr",
     "output_type": "stream",
     "text": [
      "Analyzing section 136..\n"
     ]
    },
    {
     "name": "stdout",
     "output_type": "stream",
     "text": [
      "102 patches in 8n\n",
      "90 patches in VLL\n",
      "709 patches in Sp5I\n",
      "82 patches in DC\n",
      "62 patches in PBG\n",
      "640 patches in SNR\n",
      "593 patches in 8n_surround\n",
      "572 patches in VLL_surround\n",
      "1058 patches in Sp5I_surround\n",
      "609 patches in DC_surround\n",
      "535 patches in PBG_surround\n",
      "1262 patches in SNR_surround\n",
      "21739 patches in bg\n"
     ]
    },
    {
     "name": "stderr",
     "output_type": "stream",
     "text": [
      "Analyzing section 137..\n"
     ]
    },
    {
     "name": "stdout",
     "output_type": "stream",
     "text": [
      "101 patches in 8n\n",
      "92 patches in VLL\n",
      "765 patches in Sp5I\n",
      "124 patches in Sp5C\n",
      "69 patches in DC\n",
      "46 patches in PBG\n",
      "655 patches in SNR\n",
      "67 patches in SC\n",
      "586 patches in 8n_surround\n",
      "574 patches in VLL_surround\n",
      "1061 patches in Sp5I_surround\n",
      "509 patches in Sp5C_surround\n",
      "561 patches in DC_surround\n",
      "501 patches in PBG_surround\n",
      "1292 patches in SNR_surround\n",
      "572 patches in SC_surround\n",
      "21461 patches in bg\n"
     ]
    },
    {
     "name": "stderr",
     "output_type": "stream",
     "text": [
      "Analyzing section 138..\n"
     ]
    },
    {
     "name": "stdout",
     "output_type": "stream",
     "text": [
      "97 patches in 8n\n",
      "95 patches in VLL\n",
      "62 patches in DC\n",
      "151 patches in Sp5C\n",
      "30 patches in PBG\n",
      "678 patches in SNR\n",
      "100 patches in SC\n",
      "569 patches in 8n_surround\n",
      "579 patches in VLL_surround\n",
      "556 patches in DC_surround\n",
      "708 patches in Sp5C_surround\n",
      "445 patches in PBG_surround\n",
      "1344 patches in SNR_surround\n",
      "595 patches in SC_surround\n",
      "21380 patches in bg\n"
     ]
    },
    {
     "name": "stderr",
     "output_type": "stream",
     "text": [
      "Analyzing section 139..\n"
     ]
    },
    {
     "name": "stdout",
     "output_type": "stream",
     "text": [
      "98 patches in 8n\n",
      "102 patches in VLL\n",
      "58 patches in DC\n",
      "180 patches in Sp5C\n",
      "24 patches in PBG\n",
      "696 patches in SNR\n",
      "145 patches in SC\n",
      "572 patches in 8n_surround\n",
      "580 patches in VLL_surround\n",
      "538 patches in DC_surround\n",
      "583 patches in Sp5C_surround\n",
      "429 patches in PBG_surround\n",
      "1361 patches in SNR_surround\n",
      "662 patches in SC_surround\n",
      "21547 patches in bg\n"
     ]
    },
    {
     "name": "stderr",
     "output_type": "stream",
     "text": [
      "Analyzing section 140..\n"
     ]
    },
    {
     "name": "stdout",
     "output_type": "stream",
     "text": [
      "102 patches in 8n\n",
      "102 patches in VLL\n",
      "219 patches in Sp5C\n",
      "46 patches in DC\n",
      "14 patches in PBG\n",
      "713 patches in SNR\n",
      "205 patches in SC\n",
      "570 patches in 8n_surround\n",
      "587 patches in VLL_surround\n",
      "808 patches in Sp5C_surround\n",
      "505 patches in DC_surround\n",
      "416 patches in PBG_surround\n",
      "1397 patches in SNR_surround\n",
      "745 patches in SC_surround\n",
      "20986 patches in bg\n"
     ]
    },
    {
     "name": "stderr",
     "output_type": "stream",
     "text": [
      "Analyzing section 141..\n"
     ]
    },
    {
     "name": "stdout",
     "output_type": "stream",
     "text": [
      "99 patches in 8n\n",
      "101 patches in VLL\n",
      "40 patches in DC\n",
      "249 patches in Sp5C\n",
      "4 patches in PBG\n",
      "733 patches in SNR\n",
      "264 patches in SC\n",
      "573 patches in 8n_surround\n",
      "591 patches in VLL_surround\n",
      "497 patches in DC_surround\n",
      "818 patches in Sp5C_surround\n",
      "308 patches in PBG_surround\n",
      "1454 patches in SNR_surround\n",
      "820 patches in SC_surround\n",
      "20860 patches in bg\n"
     ]
    },
    {
     "name": "stderr",
     "output_type": "stream",
     "text": [
      "Analyzing section 142..\n"
     ]
    },
    {
     "name": "stdout",
     "output_type": "stream",
     "text": [
      "99 patches in 8n\n",
      "111 patches in VLL\n",
      "289 patches in Sp5C\n",
      "37 patches in DC\n",
      "750 patches in SNR\n",
      "335 patches in SC\n",
      "23 patches in SNC\n",
      "573 patches in 8n_surround\n",
      "611 patches in VLL_surround\n",
      "900 patches in Sp5C_surround\n",
      "532 patches in DC_surround\n",
      "1501 patches in SNR_surround\n",
      "906 patches in SC_surround\n",
      "352 patches in SNC_surround\n",
      "20726 patches in bg\n"
     ]
    },
    {
     "name": "stderr",
     "output_type": "stream",
     "text": [
      "Analyzing section 143..\n"
     ]
    },
    {
     "name": "stdout",
     "output_type": "stream",
     "text": [
      "103 patches in 8n\n",
      "23 patches in SNC\n",
      "34 patches in DC\n",
      "333 patches in Sp5C\n",
      "745 patches in SNR\n",
      "358 patches in SC\n",
      "107 patches in VLL\n",
      "568 patches in 8n_surround\n",
      "356 patches in SNC_surround\n",
      "491 patches in DC_surround\n",
      "936 patches in Sp5C_surround\n",
      "1464 patches in SNR_surround\n",
      "920 patches in SC_surround\n",
      "584 patches in VLL_surround\n",
      "20583 patches in bg\n"
     ]
    },
    {
     "name": "stderr",
     "output_type": "stream",
     "text": [
      "Analyzing section 144..\n"
     ]
    },
    {
     "name": "stdout",
     "output_type": "stream",
     "text": [
      "102 patches in 8n\n",
      "27 patches in SNC\n",
      "32 patches in DC\n",
      "380 patches in Sp5C\n",
      "742 patches in SNR\n",
      "378 patches in SC\n",
      "37 patches in LPB\n",
      "105 patches in VLL\n",
      "570 patches in 8n_surround\n",
      "358 patches in SNC_surround\n",
      "491 patches in DC_surround\n",
      "985 patches in Sp5C_surround\n",
      "1432 patches in SNR_surround\n",
      "949 patches in SC_surround\n",
      "447 patches in LPB_surround\n",
      "584 patches in VLL_surround\n",
      "20168 patches in bg\n"
     ]
    },
    {
     "name": "stderr",
     "output_type": "stream",
     "text": [
      "Analyzing section 145..\n"
     ]
    },
    {
     "name": "stdout",
     "output_type": "stream",
     "text": [
      "103 patches in 8n\n",
      "104 patches in VLL\n",
      "60 patches in RR\n",
      "35 patches in 7n\n",
      "33 patches in DC\n",
      "432 patches in Sp5C\n",
      "742 patches in SNR\n",
      "412 patches in SC\n",
      "33 patches in LPB\n",
      "27 patches in SNC\n",
      "573 patches in 8n_surround\n",
      "574 patches in VLL_surround\n",
      "464 patches in RR_surround\n",
      "491 patches in 7n_surround\n",
      "485 patches in DC_surround\n",
      "985 patches in Sp5C_surround\n",
      "1414 patches in SNR_surround\n",
      "963 patches in SC_surround\n",
      "429 patches in LPB_surround\n",
      "383 patches in SNC_surround\n",
      "20187 patches in bg\n"
     ]
    },
    {
     "name": "stderr",
     "output_type": "stream",
     "text": [
      "Analyzing section 146..\n"
     ]
    },
    {
     "name": "stdout",
     "output_type": "stream",
     "text": [
      "101 patches in 8n\n",
      "105 patches in VLL\n",
      "33 patches in 7n\n",
      "476 patches in Sp5C\n",
      "34 patches in DC\n",
      "740 patches in SNR\n",
      "437 patches in SC\n",
      "36 patches in LPB\n",
      "31 patches in SNC\n",
      "571 patches in 8n_surround\n",
      "574 patches in VLL_surround\n",
      "468 patches in 7n_surround\n",
      "1044 patches in Sp5C_surround\n",
      "497 patches in DC_surround\n",
      "1417 patches in SNR_surround\n",
      "994 patches in SC_surround\n",
      "433 patches in LPB_surround\n",
      "393 patches in SNC_surround\n",
      "20004 patches in bg\n"
     ]
    },
    {
     "name": "stderr",
     "output_type": "stream",
     "text": [
      "Analyzing section 147..\n"
     ]
    },
    {
     "name": "stdout",
     "output_type": "stream",
     "text": [
      "105 patches in 8n\n",
      "102 patches in VLL\n",
      "38 patches in 7n\n",
      "535 patches in Sp5C\n",
      "32 patches in DC\n",
      "745 patches in SNR\n",
      "467 patches in SC\n",
      "39 patches in LPB\n",
      "30 patches in SNC\n",
      "576 patches in 8n_surround\n",
      "580 patches in VLL_surround\n",
      "489 patches in 7n_surround\n",
      "1096 patches in Sp5C_surround\n",
      "490 patches in DC_surround\n",
      "1404 patches in SNR_surround\n",
      "1025 patches in SC_surround\n",
      "442 patches in LPB_surround\n",
      "403 patches in SNC_surround\n",
      "19590 patches in bg\n"
     ]
    },
    {
     "name": "stderr",
     "output_type": "stream",
     "text": [
      "Analyzing section 148..\n"
     ]
    },
    {
     "name": "stdout",
     "output_type": "stream",
     "text": [
      "105 patches in 8n\n",
      "33 patches in SNC\n",
      "49 patches in 7n\n",
      "32 patches in DC\n",
      "589 patches in Sp5C\n",
      "93 patches in 5N\n",
      "749 patches in SNR\n",
      "494 patches in SC\n",
      "39 patches in LPB\n",
      "99 patches in VLL\n",
      "571 patches in 8n_surround\n",
      "426 patches in SNC_surround\n",
      "493 patches in 7n_surround\n",
      "469 patches in DC_surround\n",
      "1115 patches in Sp5C_surround\n",
      "549 patches in 5N_surround\n",
      "1394 patches in SNR_surround\n",
      "1053 patches in SC_surround\n",
      "451 patches in LPB_surround\n",
      "573 patches in VLL_surround\n",
      "19561 patches in bg\n"
     ]
    },
    {
     "name": "stderr",
     "output_type": "stream",
     "text": [
      "Analyzing section 149..\n"
     ]
    },
    {
     "name": "stdout",
     "output_type": "stream",
     "text": [
      "106 patches in 8n\n",
      "103 patches in VLL\n",
      "50 patches in 7n\n",
      "30 patches in DC\n",
      "638 patches in Sp5C\n",
      "120 patches in 5N\n",
      "740 patches in SNR\n",
      "526 patches in SC\n",
      "42 patches in LPB\n",
      "36 patches in SNC\n",
      "575 patches in 8n_surround\n",
      "583 patches in VLL_surround\n",
      "509 patches in 7n_surround\n",
      "476 patches in DC_surround\n",
      "1106 patches in Sp5C_surround\n",
      "600 patches in 5N_surround\n",
      "1388 patches in SNR_surround\n",
      "1077 patches in SC_surround\n",
      "454 patches in LPB_surround\n",
      "440 patches in SNC_surround\n",
      "19293 patches in bg\n"
     ]
    },
    {
     "name": "stderr",
     "output_type": "stream",
     "text": [
      "Analyzing section 150..\n"
     ]
    },
    {
     "name": "stdout",
     "output_type": "stream",
     "text": [
      "112 patches in 8n\n",
      "104 patches in VLL\n",
      "67 patches in 7n\n",
      "33 patches in DC\n",
      "203 patches in APT\n",
      "721 patches in Sp5C\n",
      "198 patches in 5N\n",
      "751 patches in SNR\n",
      "573 patches in SC\n",
      "38 patches in X\n",
      "1084 patches in IC\n",
      "49 patches in LPB\n",
      "43 patches in SNC\n",
      "582 patches in 8n_surround\n",
      "596 patches in VLL_surround\n",
      "550 patches in 7n_surround\n",
      "503 patches in DC_surround\n",
      "724 patches in APT_surround\n",
      "1149 patches in Sp5C_surround\n",
      "709 patches in 5N_surround\n",
      "1393 patches in SNR_surround\n",
      "1144 patches in SC_surround\n",
      "521 patches in X_surround\n",
      "1446 patches in IC_surround\n",
      "474 patches in LPB_surround\n",
      "474 patches in SNC_surround\n",
      "19443 patches in bg\n"
     ]
    },
    {
     "name": "stderr",
     "output_type": "stream",
     "text": [
      "Analyzing section 151..\n"
     ]
    },
    {
     "name": "stdout",
     "output_type": "stream",
     "text": [
      "82 patches in 8n\n",
      "123 patches in VLL\n",
      "63 patches in 7n\n",
      "29 patches in DC\n",
      "232 patches in APT\n",
      "720 patches in Sp5C\n",
      "215 patches in 5N\n",
      "744 patches in SNR\n",
      "12 patches in 7N\n",
      "648 patches in SC\n",
      "1160 patches in IC\n",
      "53 patches in LPB\n",
      "31 patches in SNC\n",
      "537 patches in 8n_surround\n",
      "637 patches in VLL_surround\n",
      "511 patches in 7n_surround\n",
      "477 patches in DC_surround\n",
      "764 patches in APT_surround\n",
      "1154 patches in Sp5C_surround\n",
      "717 patches in 5N_surround\n",
      "1409 patches in SNR_surround\n",
      "399 patches in 7N_surround\n",
      "1165 patches in SC_surround\n",
      "1429 patches in IC_surround\n",
      "478 patches in LPB_surround\n",
      "434 patches in SNC_surround\n",
      "19024 patches in bg\n"
     ]
    },
    {
     "name": "stderr",
     "output_type": "stream",
     "text": [
      "Analyzing section 152..\n"
     ]
    },
    {
     "name": "stdout",
     "output_type": "stream",
     "text": [
      "62 patches in 8n\n",
      "160 patches in VLL\n",
      "23 patches in 7N\n",
      "736 patches in Sp5C\n",
      "289 patches in APT\n",
      "25 patches in DC\n",
      "243 patches in 5N\n",
      "752 patches in SNR\n",
      "66 patches in 7n\n",
      "753 patches in SC\n",
      "1291 patches in IC\n",
      "57 patches in LPB\n",
      "24 patches in SNC\n",
      "497 patches in 8n_surround\n",
      "705 patches in VLL_surround\n",
      "419 patches in 7N_surround\n",
      "1199 patches in Sp5C_surround\n",
      "833 patches in APT_surround\n",
      "461 patches in DC_surround\n",
      "749 patches in 5N_surround\n",
      "1435 patches in SNR_surround\n",
      "529 patches in 7n_surround\n",
      "1226 patches in SC_surround\n",
      "1468 patches in IC_surround\n",
      "493 patches in LPB_surround\n",
      "406 patches in SNC_surround\n",
      "18769 patches in bg\n"
     ]
    },
    {
     "name": "stderr",
     "output_type": "stream",
     "text": [
      "Analyzing section 153..\n"
     ]
    },
    {
     "name": "stdout",
     "output_type": "stream",
     "text": [
      "47 patches in 8n\n",
      "187 patches in VLL\n",
      "69 patches in 7n\n",
      "22 patches in DC\n",
      "354 patches in APT\n",
      "744 patches in Sp5C\n",
      "271 patches in 5N\n",
      "765 patches in SNR\n",
      "46 patches in 7N\n",
      "844 patches in SC\n",
      "1393 patches in IC\n",
      "66 patches in LPB\n",
      "22 patches in SNC\n",
      "461 patches in 8n_surround\n",
      "755 patches in VLL_surround\n",
      "523 patches in 7n_surround\n",
      "447 patches in DC_surround\n",
      "902 patches in APT_surround\n",
      "1200 patches in Sp5C_surround\n",
      "775 patches in 5N_surround\n",
      "1449 patches in SNR_surround\n",
      "452 patches in 7N_surround\n",
      "1273 patches in SC_surround\n",
      "1492 patches in IC_surround\n",
      "511 patches in LPB_surround\n",
      "389 patches in SNC_surround\n",
      "18723 patches in bg\n"
     ]
    },
    {
     "name": "stderr",
     "output_type": "stream",
     "text": [
      "Analyzing section 154..\n"
     ]
    },
    {
     "name": "stdout",
     "output_type": "stream",
     "text": [
      "31 patches in 8n\n",
      "15 patches in SNC\n",
      "81 patches in 7N\n",
      "18 patches in DC\n",
      "372 patches in APT\n",
      "753 patches in Sp5C\n",
      "321 patches in 5N\n",
      "769 patches in SNR\n",
      "73 patches in 7n\n",
      "961 patches in SC\n",
      "1520 patches in IC\n",
      "72 patches in LPB\n",
      "233 patches in VLL\n",
      "418 patches in 8n_surround\n",
      "375 patches in SNC_surround\n",
      "581 patches in 7N_surround\n",
      "435 patches in DC_surround\n",
      "925 patches in APT_surround\n",
      "1203 patches in Sp5C_surround\n",
      "820 patches in 5N_surround\n",
      "1490 patches in SNR_surround\n",
      "534 patches in 7n_surround\n",
      "1302 patches in SC_surround\n",
      "1480 patches in IC_surround\n",
      "526 patches in LPB_surround\n",
      "815 patches in VLL_surround\n",
      "18592 patches in bg\n"
     ]
    },
    {
     "name": "stderr",
     "output_type": "stream",
     "text": [
      "Analyzing section 155..\n"
     ]
    },
    {
     "name": "stdout",
     "output_type": "stream",
     "text": [
      "28 patches in 8n\n",
      "270 patches in VLL\n",
      "72 patches in 7n\n",
      "771 patches in Sp5C\n",
      "403 patches in APT\n",
      "18 patches in DC\n",
      "358 patches in 5N\n",
      "782 patches in SNR\n",
      "113 patches in 7N\n",
      "1070 patches in SC\n",
      "1636 patches in IC\n",
      "79 patches in LPB\n",
      "14 patches in SNC\n",
      "392 patches in 8n_surround\n",
      "875 patches in VLL_surround\n",
      "538 patches in 7n_surround\n",
      "1254 patches in Sp5C_surround\n",
      "947 patches in APT_surround\n",
      "468 patches in DC_surround\n",
      "855 patches in 5N_surround\n",
      "1499 patches in SNR_surround\n",
      "581 patches in 7N_surround\n",
      "1291 patches in SC_surround\n",
      "1469 patches in IC_surround\n",
      "540 patches in LPB_surround\n",
      "354 patches in SNC_surround\n",
      "18273 patches in bg\n"
     ]
    },
    {
     "name": "stderr",
     "output_type": "stream",
     "text": [
      "Analyzing section 156..\n"
     ]
    },
    {
     "name": "stdout",
     "output_type": "stream",
     "text": [
      "9 patches in SNC\n",
      "155 patches in 7N\n",
      "780 patches in Sp5C\n",
      "431 patches in APT\n",
      "15 patches in DC\n",
      "405 patches in 5N\n",
      "779 patches in SNR\n",
      "81 patches in 7n\n",
      "1181 patches in SC\n",
      "1740 patches in IC\n",
      "86 patches in LPB\n",
      "306 patches in VLL\n",
      "334 patches in SNC_surround\n",
      "641 patches in 7N_surround\n",
      "1278 patches in Sp5C_surround\n",
      "963 patches in APT_surround\n",
      "444 patches in DC_surround\n",
      "909 patches in 5N_surround\n",
      "1535 patches in SNR_surround\n",
      "543 patches in 7n_surround\n",
      "1274 patches in SC_surround\n",
      "1488 patches in IC_surround\n",
      "557 patches in LPB_surround\n",
      "940 patches in VLL_surround\n",
      "17941 patches in bg\n"
     ]
    },
    {
     "name": "stderr",
     "output_type": "stream",
     "text": [
      "Analyzing section 157..\n"
     ]
    },
    {
     "name": "stdout",
     "output_type": "stream",
     "text": [
      "370 patches in VLL\n",
      "90 patches in 7n\n",
      "14 patches in DC\n",
      "487 patches in APT\n",
      "818 patches in Sp5C\n",
      "222 patches in 7N\n",
      "477 patches in 5N\n",
      "800 patches in SNR\n",
      "249 patches in SuVe\n",
      "1335 patches in SC\n",
      "67 patches in X\n",
      "1905 patches in IC\n",
      "98 patches in LPB\n",
      "5 patches in SNC\n",
      "1038 patches in VLL_surround\n",
      "582 patches in 7n_surround\n",
      "442 patches in DC_surround\n",
      "999 patches in APT_surround\n",
      "1269 patches in Sp5C_surround\n",
      "779 patches in 7N_surround\n",
      "988 patches in 5N_surround\n",
      "1595 patches in SNR_surround\n",
      "919 patches in SuVe_surround\n",
      "1243 patches in SC_surround\n",
      "699 patches in X_surround\n",
      "1456 patches in IC_surround\n",
      "575 patches in LPB_surround\n",
      "347 patches in SNC_surround\n",
      "17827 patches in bg\n"
     ]
    },
    {
     "name": "stderr",
     "output_type": "stream",
     "text": [
      "Analyzing section 158..\n"
     ]
    },
    {
     "name": "stdout",
     "output_type": "stream",
     "text": [
      "360 patches in VLL\n",
      "83 patches in 7n\n",
      "825 patches in Sp5C\n",
      "470 patches in APT\n",
      "20 patches in DC\n",
      "442 patches in 5N\n",
      "783 patches in SNR\n",
      "241 patches in 7N\n",
      "1375 patches in SC\n",
      "1856 patches in IC\n",
      "108 patches in LPB\n",
      "6 patches in SNC\n",
      "1015 patches in VLL_surround\n",
      "547 patches in 7n_surround\n",
      "1215 patches in Sp5C_surround\n",
      "966 patches in APT_surround\n",
      "437 patches in DC_surround\n",
      "952 patches in 5N_surround\n",
      "1516 patches in SNR_surround\n",
      "722 patches in 7N_surround\n",
      "1268 patches in SC_surround\n",
      "1414 patches in IC_surround\n",
      "588 patches in LPB_surround\n",
      "309 patches in SNC_surround\n",
      "17891 patches in bg\n"
     ]
    },
    {
     "name": "stderr",
     "output_type": "stream",
     "text": [
      "Analyzing section 159..\n"
     ]
    },
    {
     "name": "stdout",
     "output_type": "stream",
     "text": [
      "6 patches in SNC\n",
      "264 patches in 7N\n",
      "856 patches in Sp5C\n",
      "463 patches in APT\n",
      "17 patches in DC\n",
      "406 patches in 5N\n",
      "767 patches in SNR\n",
      "82 patches in 7n\n",
      "1457 patches in SC\n",
      "1841 patches in IC\n",
      "114 patches in LPB\n",
      "368 patches in VLL\n",
      "310 patches in SNC_surround\n",
      "776 patches in 7N_surround\n",
      "1209 patches in Sp5C_surround\n",
      "939 patches in APT_surround\n",
      "451 patches in DC_surround\n",
      "916 patches in 5N_surround\n",
      "1451 patches in SNR_surround\n",
      "563 patches in 7n_surround\n",
      "1286 patches in SC_surround\n",
      "1368 patches in IC_surround\n",
      "607 patches in LPB_surround\n",
      "1001 patches in VLL_surround\n",
      "17731 patches in bg\n"
     ]
    },
    {
     "name": "stderr",
     "output_type": "stream",
     "text": [
      "Analyzing section 160..\n"
     ]
    },
    {
     "name": "stdout",
     "output_type": "stream",
     "text": [
      "375 patches in VLL\n",
      "82 patches in 7n\n",
      "899 patches in Sp5C\n",
      "452 patches in APT\n",
      "16 patches in DC\n",
      "381 patches in 5N\n",
      "754 patches in SNR\n",
      "40 patches in LRt\n",
      "290 patches in 7N\n",
      "1526 patches in SC\n",
      "1803 patches in IC\n",
      "120 patches in LPB\n",
      "7 patches in SNC\n",
      "1010 patches in VLL_surround\n",
      "559 patches in 7n_surround\n",
      "1212 patches in Sp5C_surround\n",
      "919 patches in APT_surround\n",
      "450 patches in DC_surround\n",
      "891 patches in 5N_surround\n",
      "1404 patches in SNR_surround\n",
      "568 patches in LRt_surround\n",
      "761 patches in 7N_surround\n",
      "1321 patches in SC_surround\n",
      "1365 patches in IC_surround\n",
      "624 patches in LPB_surround\n",
      "302 patches in SNC_surround\n",
      "17485 patches in bg\n"
     ]
    },
    {
     "name": "stderr",
     "output_type": "stream",
     "text": [
      "Analyzing section 161..\n"
     ]
    },
    {
     "name": "stdout",
     "output_type": "stream",
     "text": [
      "384 patches in VLL\n",
      "320 patches in 7N\n",
      "935 patches in Sp5C\n",
      "447 patches in APT\n",
      "19 patches in DC\n",
      "349 patches in 5N\n",
      "735 patches in SNR\n",
      "66 patches in LRt\n",
      "79 patches in 7n\n",
      "1609 patches in SC\n",
      "1775 patches in IC\n",
      "134 patches in LPB\n",
      "11 patches in SNC\n",
      "1024 patches in VLL_surround\n",
      "819 patches in 7N_surround\n",
      "1253 patches in Sp5C_surround\n",
      "896 patches in APT_surround\n",
      "444 patches in DC_surround\n",
      "863 patches in 5N_surround\n",
      "1359 patches in SNR_surround\n",
      "565 patches in LRt_surround\n",
      "558 patches in 7n_surround\n",
      "1342 patches in SC_surround\n",
      "1344 patches in IC_surround\n",
      "644 patches in LPB_surround\n",
      "298 patches in SNC_surround\n",
      "17082 patches in bg\n"
     ]
    },
    {
     "name": "stderr",
     "output_type": "stream",
     "text": [
      "Analyzing section 162..\n"
     ]
    },
    {
     "name": "stdout",
     "output_type": "stream",
     "text": [
      "12 patches in SNC\n",
      "358 patches in 7N\n",
      "20 patches in DC\n",
      "442 patches in APT\n",
      "969 patches in Sp5C\n",
      "323 patches in 5N\n",
      "708 patches in SNR\n",
      "101 patches in LRt\n",
      "81 patches in 7n\n",
      "1672 patches in SC\n",
      "1740 patches in IC\n",
      "142 patches in LPB\n",
      "379 patches in VLL\n",
      "299 patches in SNC_surround\n",
      "852 patches in 7N_surround\n",
      "441 patches in DC_surround\n",
      "892 patches in APT_surround\n",
      "1264 patches in Sp5C_surround\n",
      "849 patches in 5N_surround\n",
      "1324 patches in SNR_surround\n",
      "629 patches in LRt_surround\n",
      "567 patches in 7n_surround\n",
      "1375 patches in SC_surround\n",
      "1353 patches in IC_surround\n",
      "656 patches in LPB_surround\n",
      "1028 patches in VLL_surround\n",
      "16875 patches in bg\n"
     ]
    },
    {
     "name": "stderr",
     "output_type": "stream",
     "text": [
      "Analyzing section 163..\n"
     ]
    },
    {
     "name": "stdout",
     "output_type": "stream",
     "text": [
      "388 patches in VLL\n",
      "363 patches in 7N\n",
      "1010 patches in Sp5C\n",
      "427 patches in APT\n",
      "19 patches in DC\n",
      "291 patches in 5N\n",
      "690 patches in SNR\n",
      "131 patches in LRt\n",
      "78 patches in 7n\n",
      "1762 patches in SC\n",
      "1713 patches in IC\n",
      "150 patches in LPB\n",
      "13 patches in SNC\n",
      "1041 patches in VLL_surround\n",
      "865 patches in 7N_surround\n",
      "1285 patches in Sp5C_surround\n",
      "872 patches in APT_surround\n",
      "432 patches in DC_surround\n",
      "828 patches in 5N_surround\n",
      "1271 patches in SNR_surround\n",
      "695 patches in LRt_surround\n",
      "567 patches in 7n_surround\n",
      "1415 patches in SC_surround\n",
      "1327 patches in IC_surround\n",
      "676 patches in LPB_surround\n",
      "291 patches in SNC_surround\n",
      "16303 patches in bg\n"
     ]
    },
    {
     "name": "stderr",
     "output_type": "stream",
     "text": [
      "Analyzing section 164..\n"
     ]
    },
    {
     "name": "stdout",
     "output_type": "stream",
     "text": [
      "393 patches in VLL\n",
      "384 patches in 7N\n",
      "19 patches in DC\n",
      "419 patches in APT\n",
      "1044 patches in Sp5C\n",
      "271 patches in 5N\n",
      "670 patches in SNR\n",
      "163 patches in LRt\n",
      "77 patches in 7n\n",
      "1837 patches in SC\n",
      "1675 patches in IC\n",
      "163 patches in LPB\n",
      "13 patches in SNC\n",
      "1048 patches in VLL_surround\n",
      "871 patches in 7N_surround\n",
      "435 patches in DC_surround\n",
      "865 patches in APT_surround\n",
      "1322 patches in Sp5C_surround\n",
      "816 patches in 5N_surround\n",
      "1239 patches in SNR_surround\n",
      "755 patches in LRt_surround\n",
      "562 patches in 7n_surround\n",
      "1431 patches in SC_surround\n",
      "1301 patches in IC_surround\n",
      "707 patches in LPB_surround\n",
      "284 patches in SNC_surround\n",
      "16184 patches in bg\n"
     ]
    },
    {
     "name": "stderr",
     "output_type": "stream",
     "text": [
      "Analyzing section 165..\n"
     ]
    },
    {
     "name": "stdout",
     "output_type": "stream",
     "text": [
      "206 patches in MPB\n",
      "405 patches in VLL\n",
      "60 patches in PTg\n",
      "419 patches in 7N\n",
      "18 patches in DC\n",
      "417 patches in APT\n",
      "1097 patches in Sp5C\n",
      "95 patches in CnF\n",
      "256 patches in 5N\n",
      "661 patches in SNR\n",
      "211 patches in LRt\n",
      "81 patches in 7n\n",
      "1946 patches in SC\n",
      "1693 patches in IC\n",
      "178 patches in LPB\n",
      "14 patches in SNC\n",
      "903 patches in MPB_surround\n",
      "1093 patches in VLL_surround\n",
      "464 patches in PTg_surround\n",
      "849 patches in 7N_surround\n",
      "473 patches in DC_surround\n",
      "872 patches in APT_surround\n",
      "1319 patches in Sp5C_surround\n",
      "508 patches in CnF_surround\n",
      "816 patches in 5N_surround\n",
      "1217 patches in SNR_surround\n",
      "892 patches in LRt_surround\n",
      "597 patches in 7n_surround\n",
      "1460 patches in SC_surround\n",
      "1205 patches in IC_surround\n",
      "643 patches in LPB_surround\n",
      "308 patches in SNC_surround\n",
      "16132 patches in bg\n"
     ]
    },
    {
     "name": "stderr",
     "output_type": "stream",
     "text": [
      "Analyzing section 166..\n"
     ]
    },
    {
     "name": "stdout",
     "output_type": "stream",
     "text": [
      "17 patches in SNC\n",
      "402 patches in 7N\n",
      "1049 patches in Sp5C\n",
      "197 patches in 5N\n",
      "619 patches in SNR\n",
      "193 patches in LRt\n",
      "70 patches in 7n\n",
      "1928 patches in SC\n",
      "1677 patches in IC\n",
      "6 patches in Pn\n",
      "307 patches in SNC_surround\n",
      "882 patches in 7N_surround\n",
      "1299 patches in Sp5C_surround\n",
      "740 patches in 5N_surround\n",
      "1186 patches in SNR_surround\n",
      "858 patches in LRt_surround\n",
      "560 patches in 7n_surround\n",
      "1576 patches in SC_surround\n",
      "1292 patches in IC_surround\n",
      "485 patches in Pn_surround\n",
      "15985 patches in bg\n"
     ]
    },
    {
     "name": "stderr",
     "output_type": "stream",
     "text": [
      "Analyzing section 167..\n"
     ]
    },
    {
     "name": "stdout",
     "output_type": "stream",
     "text": [
      "19 patches in SNC\n",
      "395 patches in 7N\n",
      "23 patches in Amb\n",
      "1017 patches in Sp5C\n",
      "162 patches in 5N\n",
      "593 patches in SNR\n",
      "178 patches in LRt\n",
      "70 patches in 7n\n",
      "1931 patches in SC\n",
      "1701 patches in IC\n",
      "14 patches in Pn\n",
      "313 patches in SNC_surround\n",
      "795 patches in 7N_surround\n",
      "424 patches in Amb_surround\n",
      "1327 patches in Sp5C_surround\n",
      "685 patches in 5N_surround\n",
      "1176 patches in SNR_surround\n",
      "817 patches in LRt_surround\n",
      "528 patches in 7n_surround\n",
      "1597 patches in SC_surround\n",
      "1301 patches in IC_surround\n",
      "492 patches in Pn_surround\n",
      "16001 patches in bg\n"
     ]
    },
    {
     "name": "stderr",
     "output_type": "stream",
     "text": [
      "Analyzing section 168..\n"
     ]
    },
    {
     "name": "stdout",
     "output_type": "stream",
     "text": [
      "23 patches in SNC\n",
      "387 patches in 7N\n",
      "24 patches in Amb\n",
      "979 patches in Sp5C\n",
      "123 patches in 5N\n",
      "561 patches in SNR\n",
      "167 patches in LRt\n",
      "66 patches in 7n\n",
      "1939 patches in SC\n",
      "1725 patches in IC\n",
      "32 patches in Pn\n",
      "332 patches in SNC_surround\n",
      "891 patches in 7N_surround\n",
      "436 patches in Amb_surround\n",
      "1353 patches in Sp5C_surround\n",
      "622 patches in 5N_surround\n",
      "1154 patches in SNR_surround\n",
      "825 patches in LRt_surround\n",
      "529 patches in 7n_surround\n",
      "1619 patches in SC_surround\n",
      "1305 patches in IC_surround\n",
      "551 patches in Pn_surround\n",
      "15556 patches in bg\n"
     ]
    },
    {
     "name": "stderr",
     "output_type": "stream",
     "text": [
      "Analyzing section 169..\n"
     ]
    },
    {
     "name": "stdout",
     "output_type": "stream",
     "text": [
      "26 patches in SNC\n",
      "65 patches in 7n\n",
      "34 patches in Amb\n",
      "946 patches in Sp5C\n",
      "96 patches in 5N\n",
      "537 patches in SNR\n",
      "157 patches in LRt\n",
      "383 patches in 7N\n",
      "1945 patches in SC\n",
      "1736 patches in IC\n",
      "51 patches in Pn\n",
      "335 patches in SNC_surround\n",
      "522 patches in 7n_surround\n",
      "456 patches in Amb_surround\n",
      "1391 patches in Sp5C_surround\n",
      "574 patches in 5N_surround\n",
      "1155 patches in SNR_surround\n",
      "819 patches in LRt_surround\n",
      "881 patches in 7N_surround\n",
      "1643 patches in SC_surround\n",
      "1343 patches in IC_surround\n",
      "584 patches in Pn_surround\n",
      "15388 patches in bg\n"
     ]
    },
    {
     "name": "stderr",
     "output_type": "stream",
     "text": [
      "Analyzing section 170..\n"
     ]
    },
    {
     "name": "stdout",
     "output_type": "stream",
     "text": [
      "29 patches in SNC\n",
      "369 patches in 7N\n",
      "44 patches in Amb\n",
      "911 patches in Sp5C\n",
      "72 patches in 5N\n",
      "503 patches in SNR\n",
      "145 patches in LRt\n",
      "61 patches in 7n\n",
      "1947 patches in SC\n",
      "1754 patches in IC\n",
      "76 patches in Pn\n",
      "351 patches in SNC_surround\n",
      "833 patches in 7N_surround\n",
      "490 patches in Amb_surround\n",
      "1422 patches in Sp5C_surround\n",
      "527 patches in 5N_surround\n",
      "1154 patches in SNR_surround\n",
      "768 patches in LRt_surround\n",
      "493 patches in 7n_surround\n",
      "1665 patches in SC_surround\n",
      "1353 patches in IC_surround\n",
      "632 patches in Pn_surround\n",
      "15259 patches in bg\n"
     ]
    },
    {
     "name": "stderr",
     "output_type": "stream",
     "text": [
      "Analyzing section 171..\n"
     ]
    },
    {
     "name": "stdout",
     "output_type": "stream",
     "text": [
      "37 patches in SNC\n",
      "56 patches in 7n\n",
      "52 patches in Amb\n",
      "873 patches in Sp5C\n",
      "32 patches in 5N\n",
      "474 patches in SNR\n",
      "137 patches in LRt\n",
      "365 patches in 7N\n",
      "1968 patches in SC\n",
      "1770 patches in IC\n",
      "98 patches in Pn\n",
      "361 patches in SNC_surround\n",
      "495 patches in 7n_surround\n",
      "524 patches in Amb_surround\n",
      "1386 patches in Sp5C_surround\n",
      "413 patches in 5N_surround\n",
      "1142 patches in SNR_surround\n",
      "760 patches in LRt_surround\n",
      "893 patches in 7N_surround\n",
      "1680 patches in SC_surround\n",
      "1356 patches in IC_surround\n",
      "661 patches in Pn_surround\n",
      "15541 patches in bg\n"
     ]
    },
    {
     "name": "stderr",
     "output_type": "stream",
     "text": [
      "Analyzing section 172..\n"
     ]
    },
    {
     "name": "stdout",
     "output_type": "stream",
     "text": [
      "42 patches in SNC\n",
      "59 patches in 7n\n",
      "67 patches in Amb\n",
      "853 patches in Sp5C\n",
      "368 patches in 7N\n",
      "8 patches in 5N\n",
      "462 patches in SNR\n",
      "134 patches in LRt\n",
      "288 patches in SuVe\n",
      "1994 patches in SC\n",
      "1814 patches in IC\n",
      "127 patches in Pn\n",
      "381 patches in SNC_surround\n",
      "500 patches in 7n_surround\n",
      "589 patches in Amb_surround\n",
      "1413 patches in Sp5C_surround\n",
      "866 patches in 7N_surround\n",
      "350 patches in 5N_surround\n",
      "1155 patches in SNR_surround\n",
      "796 patches in LRt_surround\n",
      "874 patches in SuVe_surround\n",
      "1712 patches in SC_surround\n",
      "1362 patches in IC_surround\n",
      "730 patches in Pn_surround\n",
      "15361 patches in bg\n"
     ]
    },
    {
     "name": "stderr",
     "output_type": "stream",
     "text": [
      "Analyzing section 173..\n"
     ]
    },
    {
     "name": "stdout",
     "output_type": "stream",
     "text": [
      "37 patches in SNC\n",
      "57 patches in 7n\n",
      "853 patches in Sp5C\n",
      "423 patches in SNR\n",
      "150 patches in LRt\n",
      "345 patches in 7N\n",
      "2018 patches in SC\n",
      "1757 patches in IC\n",
      "140 patches in Pn\n",
      "382 patches in SNC_surround\n",
      "488 patches in 7n_surround\n",
      "1332 patches in Sp5C_surround\n",
      "1108 patches in SNR_surround\n",
      "832 patches in LRt_surround\n",
      "869 patches in 7N_surround\n",
      "1726 patches in SC_surround\n",
      "1351 patches in IC_surround\n",
      "701 patches in Pn_surround\n",
      "15211 patches in bg\n"
     ]
    },
    {
     "name": "stderr",
     "output_type": "stream",
     "text": [
      "Analyzing section 174..\n"
     ]
    },
    {
     "name": "stdout",
     "output_type": "stream",
     "text": [
      "37 patches in SNC\n",
      "57 patches in 7n\n",
      "858 patches in Sp5C\n",
      "411 patches in SNR\n",
      "169 patches in LRt\n",
      "325 patches in 7N\n",
      "2074 patches in SC\n",
      "1730 patches in IC\n",
      "156 patches in Pn\n",
      "374 patches in SNC_surround\n",
      "478 patches in 7n_surround\n",
      "1432 patches in Sp5C_surround\n",
      "1076 patches in SNR_surround\n",
      "852 patches in LRt_surround\n",
      "895 patches in 7N_surround\n",
      "1737 patches in SC_surround\n",
      "1376 patches in IC_surround\n",
      "697 patches in Pn_surround\n",
      "15008 patches in bg\n"
     ]
    },
    {
     "name": "stderr",
     "output_type": "stream",
     "text": [
      "Analyzing section 175..\n"
     ]
    },
    {
     "name": "stdout",
     "output_type": "stream",
     "text": [
      "36 patches in SNC\n",
      "314 patches in 7N\n",
      "863 patches in Sp5C\n",
      "386 patches in SNR\n",
      "194 patches in LRt\n",
      "59 patches in 7n\n",
      "2135 patches in SC\n",
      "1698 patches in IC\n",
      "174 patches in Pn\n",
      "368 patches in SNC_surround\n",
      "873 patches in 7N_surround\n",
      "1394 patches in Sp5C_surround\n",
      "1037 patches in SNR_surround\n",
      "855 patches in LRt_surround\n",
      "492 patches in 7n_surround\n",
      "1755 patches in SC_surround\n",
      "1341 patches in IC_surround\n",
      "709 patches in Pn_surround\n",
      "15168 patches in bg\n"
     ]
    },
    {
     "name": "stderr",
     "output_type": "stream",
     "text": [
      "Analyzing section 176..\n"
     ]
    },
    {
     "name": "stdout",
     "output_type": "stream",
     "text": [
      "36 patches in SNC\n",
      "296 patches in 7N\n",
      "863 patches in Sp5C\n",
      "371 patches in SNR\n",
      "228 patches in LRt\n",
      "59 patches in 7n\n",
      "2179 patches in SC\n",
      "1662 patches in IC\n",
      "192 patches in Pn\n",
      "373 patches in SNC_surround\n",
      "881 patches in 7N_surround\n",
      "1413 patches in Sp5C_surround\n",
      "1011 patches in SNR_surround\n",
      "925 patches in LRt_surround\n",
      "497 patches in 7n_surround\n",
      "1783 patches in SC_surround\n",
      "1332 patches in IC_surround\n",
      "712 patches in Pn_surround\n",
      "14890 patches in bg\n"
     ]
    },
    {
     "name": "stderr",
     "output_type": "stream",
     "text": [
      "Analyzing section 177..\n"
     ]
    },
    {
     "name": "stdout",
     "output_type": "stream",
     "text": [
      "37 patches in SNC\n",
      "60 patches in 7n\n",
      "866 patches in Sp5C\n",
      "344 patches in SNR\n",
      "259 patches in LRt\n",
      "285 patches in 7N\n",
      "2246 patches in SC\n",
      "1648 patches in IC\n",
      "215 patches in Pn\n",
      "366 patches in SNC_surround\n",
      "499 patches in 7n_surround\n",
      "1395 patches in Sp5C_surround\n",
      "985 patches in SNR_surround\n",
      "949 patches in LRt_surround\n",
      "877 patches in 7N_surround\n",
      "1803 patches in SC_surround\n",
      "1320 patches in IC_surround\n",
      "733 patches in Pn_surround\n",
      "14694 patches in bg\n"
     ]
    },
    {
     "name": "stderr",
     "output_type": "stream",
     "text": [
      "Analyzing section 178..\n"
     ]
    },
    {
     "name": "stdout",
     "output_type": "stream",
     "text": [
      "33 patches in SNC\n",
      "62 patches in 7n\n",
      "862 patches in Sp5C\n",
      "329 patches in SNR\n",
      "282 patches in LRt\n",
      "272 patches in 7N\n",
      "2295 patches in SC\n",
      "1607 patches in IC\n",
      "227 patches in Pn\n",
      "359 patches in SNC_surround\n",
      "508 patches in 7n_surround\n",
      "1405 patches in Sp5C_surround\n",
      "968 patches in SNR_surround\n",
      "997 patches in LRt_surround\n",
      "872 patches in 7N_surround\n",
      "1838 patches in SC_surround\n",
      "1318 patches in IC_surround\n",
      "777 patches in Pn_surround\n",
      "14556 patches in bg\n"
     ]
    },
    {
     "name": "stderr",
     "output_type": "stream",
     "text": [
      "Analyzing section 179..\n"
     ]
    },
    {
     "name": "stdout",
     "output_type": "stream",
     "text": [
      "35 patches in SNC\n",
      "59 patches in 7n\n",
      "866 patches in Sp5C\n",
      "309 patches in SNR\n",
      "316 patches in LRt\n",
      "254 patches in 7N\n",
      "2360 patches in SC\n",
      "1573 patches in IC\n",
      "246 patches in Pn\n",
      "362 patches in SNC_surround\n",
      "505 patches in 7n_surround\n",
      "1486 patches in Sp5C_surround\n",
      "940 patches in SNR_surround\n",
      "1000 patches in LRt_surround\n",
      "868 patches in 7N_surround\n",
      "1857 patches in SC_surround\n",
      "1316 patches in IC_surround\n",
      "778 patches in Pn_surround\n",
      "14450 patches in bg\n"
     ]
    },
    {
     "name": "stderr",
     "output_type": "stream",
     "text": [
      "Analyzing section 180..\n"
     ]
    },
    {
     "name": "stdout",
     "output_type": "stream",
     "text": [
      "36 patches in SNC\n",
      "51 patches in LC\n",
      "250 patches in 7N\n",
      "882 patches in Sp5C\n",
      "295 patches in SNR\n",
      "1061 patches in MVe\n",
      "68 patches in 7n\n",
      "2451 patches in SC\n",
      "1574 patches in IC\n",
      "275 patches in Pn\n",
      "363 patches in LRt\n",
      "371 patches in SNC_surround\n",
      "532 patches in LC_surround\n",
      "871 patches in 7N_surround\n",
      "1526 patches in Sp5C_surround\n",
      "944 patches in SNR_surround\n",
      "1551 patches in MVe_surround\n",
      "518 patches in 7n_surround\n",
      "1893 patches in SC_surround\n",
      "1313 patches in IC_surround\n",
      "865 patches in Pn_surround\n",
      "1104 patches in LRt_surround\n",
      "14333 patches in bg\n"
     ]
    },
    {
     "name": "stderr",
     "output_type": "stream",
     "text": [
      "Analyzing section 181..\n"
     ]
    },
    {
     "name": "stdout",
     "output_type": "stream",
     "text": [
      "79 patches in LC\n",
      "60 patches in 7n\n",
      "858 patches in Sp5C\n",
      "258 patches in SNR\n",
      "334 patches in LRt\n",
      "245 patches in 7N\n",
      "2383 patches in SC\n",
      "1531 patches in IC\n",
      "283 patches in Pn\n",
      "32 patches in SNC\n",
      "651 patches in LC_surround\n",
      "504 patches in 7n_surround\n",
      "1461 patches in Sp5C_surround\n",
      "870 patches in SNR_surround\n",
      "1043 patches in LRt_surround\n",
      "848 patches in 7N_surround\n",
      "1852 patches in SC_surround\n",
      "1298 patches in IC_surround\n",
      "818 patches in Pn_surround\n",
      "365 patches in SNC_surround\n",
      "14143 patches in bg\n"
     ]
    },
    {
     "name": "stderr",
     "output_type": "stream",
     "text": [
      "Analyzing section 182..\n"
     ]
    },
    {
     "name": "stdout",
     "output_type": "stream",
     "text": [
      "31 patches in SNC\n",
      "257 patches in 7N\n",
      "849 patches in Sp5C\n",
      "218 patches in SNR\n",
      "318 patches in LRt\n",
      "58 patches in 7n\n",
      "2323 patches in SC\n",
      "1508 patches in IC\n",
      "292 patches in Pn\n",
      "118 patches in LC\n",
      "375 patches in SNC_surround\n",
      "852 patches in 7N_surround\n",
      "1388 patches in Sp5C_surround\n",
      "808 patches in SNR_surround\n",
      "1017 patches in LRt_surround\n",
      "491 patches in 7n_surround\n",
      "1834 patches in SC_surround\n",
      "1288 patches in IC_surround\n",
      "760 patches in Pn_surround\n",
      "698 patches in LC_surround\n",
      "14097 patches in bg\n"
     ]
    },
    {
     "name": "stderr",
     "output_type": "stream",
     "text": [
      "Analyzing section 183..\n"
     ]
    },
    {
     "name": "stdout",
     "output_type": "stream",
     "text": [
      "157 patches in LC\n",
      "56 patches in 7n\n",
      "830 patches in Sp5C\n",
      "189 patches in SNR\n",
      "291 patches in LRt\n",
      "262 patches in 7N\n",
      "2277 patches in SC\n",
      "1488 patches in IC\n",
      "297 patches in Pn\n",
      "28 patches in SNC\n",
      "772 patches in LC_surround\n",
      "498 patches in 7n_surround\n",
      "1345 patches in Sp5C_surround\n",
      "771 patches in SNR_surround\n",
      "992 patches in LRt_surround\n",
      "850 patches in 7N_surround\n",
      "1804 patches in SC_surround\n",
      "1272 patches in IC_surround\n",
      "768 patches in Pn_surround\n",
      "374 patches in SNC_surround\n",
      "14012 patches in bg\n"
     ]
    },
    {
     "name": "stderr",
     "output_type": "stream",
     "text": [
      "Analyzing section 184..\n"
     ]
    },
    {
     "name": "stdout",
     "output_type": "stream",
     "text": [
      "26 patches in SNC\n",
      "55 patches in 7n\n",
      "807 patches in Sp5C\n",
      "19 patches in RMC\n",
      "154 patches in SNR\n",
      "275 patches in LRt\n",
      "270 patches in 7N\n",
      "2219 patches in SC\n",
      "1460 patches in IC\n",
      "304 patches in Pn\n",
      "173 patches in LC\n",
      "385 patches in SNC_surround\n",
      "486 patches in 7n_surround\n",
      "1378 patches in Sp5C_surround\n",
      "379 patches in RMC_surround\n",
      "719 patches in SNR_surround\n",
      "978 patches in LRt_surround\n",
      "851 patches in 7N_surround\n",
      "1784 patches in SC_surround\n",
      "1263 patches in IC_surround\n",
      "747 patches in Pn_surround\n",
      "746 patches in LC_surround\n",
      "13813 patches in bg\n"
     ]
    },
    {
     "name": "stderr",
     "output_type": "stream",
     "text": [
      "Analyzing section 185..\n"
     ]
    },
    {
     "name": "stdout",
     "output_type": "stream",
     "text": [
      "28 patches in SNC\n",
      "53 patches in 7n\n",
      "796 patches in Sp5C\n",
      "26 patches in RMC\n",
      "130 patches in SNR\n",
      "261 patches in LRt\n",
      "279 patches in 7N\n",
      "2172 patches in SC\n",
      "1441 patches in IC\n",
      "307 patches in Pn\n",
      "195 patches in LC\n",
      "392 patches in SNC_surround\n",
      "478 patches in 7n_surround\n",
      "1314 patches in Sp5C_surround\n",
      "400 patches in RMC_surround\n",
      "680 patches in SNR_surround\n",
      "963 patches in LRt_surround\n",
      "853 patches in 7N_surround\n",
      "1762 patches in SC_surround\n",
      "1252 patches in IC_surround\n",
      "760 patches in Pn_surround\n",
      "756 patches in LC_surround\n",
      "13844 patches in bg\n"
     ]
    },
    {
     "name": "stderr",
     "output_type": "stream",
     "text": [
      "Analyzing section 186..\n"
     ]
    },
    {
     "name": "stdout",
     "output_type": "stream",
     "text": [
      "25 patches in SNC\n",
      "51 patches in 7n\n",
      "765 patches in Sp5C\n",
      "42 patches in RMC\n",
      "101 patches in SNR\n",
      "238 patches in LRt\n",
      "287 patches in 7N\n",
      "2117 patches in SC\n",
      "1415 patches in IC\n",
      "307 patches in Pn\n",
      "216 patches in LC\n",
      "402 patches in SNC_surround\n",
      "475 patches in 7n_surround\n",
      "1291 patches in Sp5C_surround\n",
      "446 patches in RMC_surround\n",
      "632 patches in SNR_surround\n",
      "935 patches in LRt_surround\n",
      "848 patches in 7N_surround\n",
      "1740 patches in SC_surround\n",
      "1259 patches in IC_surround\n",
      "757 patches in Pn_surround\n",
      "777 patches in LC_surround\n",
      "13894 patches in bg\n"
     ]
    },
    {
     "name": "stderr",
     "output_type": "stream",
     "text": [
      "Analyzing section 187..\n",
      "Analyzing section 188..\n"
     ]
    },
    {
     "name": "stdout",
     "output_type": "stream",
     "text": [
      "218 patches in LRt\n",
      "259 patches in LC\n",
      "1039 patches in MVe\n",
      "306 patches in 7N\n",
      "248 patches in Sol\n",
      "721 patches in Sp5C\n",
      "78 patches in RMC\n",
      "341 patches in RPC\n",
      "63 patches in SNR\n",
      "171 patches in RtTg\n",
      "53 patches in 7n\n",
      "2041 patches in SC\n",
      "1402 patches in IC\n",
      "318 patches in Pn\n",
      "27 patches in SNC\n",
      "927 patches in LRt_surround\n",
      "741 patches in LC_surround\n",
      "1275 patches in MVe_surround\n",
      "862 patches in 7N_surround\n",
      "726 patches in Sol_surround\n",
      "1291 patches in Sp5C_surround\n",
      "389 patches in RMC_surround\n",
      "817 patches in RPC_surround\n",
      "570 patches in SNR_surround\n",
      "748 patches in RtTg_surround\n",
      "416 patches in 7n_surround\n",
      "1706 patches in SC_surround\n",
      "1218 patches in IC_surround\n",
      "723 patches in Pn_surround\n",
      "468 patches in SNC_surround\n",
      "13854 patches in bg\n"
     ]
    },
    {
     "name": "stderr",
     "output_type": "stream",
     "text": [
      "Analyzing section 189..\n"
     ]
    },
    {
     "name": "stdout",
     "output_type": "stream",
     "text": [
      "199 patches in LC\n",
      "271 patches in 7N\n",
      "715 patches in Sp5C\n",
      "79 patches in RMC\n",
      "190 patches in RtTg\n",
      "47 patches in 7n\n",
      "2163 patches in SC\n",
      "1336 patches in IC\n",
      "306 patches in Pn\n",
      "219 patches in LRt\n",
      "755 patches in LC_surround\n",
      "821 patches in 7N_surround\n",
      "1235 patches in Sp5C_surround\n",
      "559 patches in RMC_surround\n",
      "750 patches in RtTg_surround\n",
      "463 patches in 7n_surround\n",
      "1733 patches in SC_surround\n",
      "1221 patches in IC_surround\n",
      "727 patches in Pn_surround\n",
      "885 patches in LRt_surround\n",
      "13713 patches in bg\n"
     ]
    },
    {
     "name": "stderr",
     "output_type": "stream",
     "text": [
      "Analyzing section 190..\n"
     ]
    },
    {
     "name": "stdout",
     "output_type": "stream",
     "text": [
      "12 patches in Tz\n",
      "160 patches in LC\n",
      "46 patches in 7n\n",
      "714 patches in Sp5C\n",
      "83 patches in RMC\n",
      "218 patches in RtTg\n",
      "257 patches in 7N\n",
      "2297 patches in SC\n",
      "1308 patches in IC\n",
      "304 patches in Pn\n",
      "233 patches in LRt\n",
      "349 patches in Tz_surround\n",
      "730 patches in LC_surround\n",
      "465 patches in 7n_surround\n",
      "1245 patches in Sp5C_surround\n",
      "570 patches in RMC_surround\n",
      "743 patches in RtTg_surround\n",
      "797 patches in 7N_surround\n",
      "1777 patches in SC_surround\n",
      "1197 patches in IC_surround\n",
      "715 patches in Pn_surround\n",
      "831 patches in LRt_surround\n",
      "13658 patches in bg\n"
     ]
    },
    {
     "name": "stderr",
     "output_type": "stream",
     "text": [
      "Analyzing section 191..\n"
     ]
    },
    {
     "name": "stdout",
     "output_type": "stream",
     "text": [
      "19 patches in Tz\n",
      "137 patches in LC\n",
      "234 patches in 7N\n",
      "721 patches in Sp5C\n",
      "91 patches in RMC\n",
      "252 patches in RtTg\n",
      "48 patches in 7n\n",
      "2450 patches in SC\n",
      "1273 patches in IC\n",
      "307 patches in Pn\n",
      "233 patches in LRt\n",
      "367 patches in Tz_surround\n",
      "707 patches in LC_surround\n",
      "761 patches in 7N_surround\n",
      "1166 patches in Sp5C_surround\n",
      "590 patches in RMC_surround\n",
      "763 patches in RtTg_surround\n",
      "467 patches in 7n_surround\n",
      "1815 patches in SC_surround\n",
      "1177 patches in IC_surround\n",
      "737 patches in Pn_surround\n",
      "864 patches in LRt_surround\n",
      "13566 patches in bg\n"
     ]
    },
    {
     "name": "stderr",
     "output_type": "stream",
     "text": [
      "Analyzing section 192..\n"
     ]
    },
    {
     "name": "stdout",
     "output_type": "stream",
     "text": [
      "32 patches in Tz\n",
      "136 patches in LC\n",
      "49 patches in 7n\n",
      "706 patches in Sp5C\n",
      "97 patches in RMC\n",
      "237 patches in LRt\n",
      "221 patches in 7N\n",
      "2577 patches in SC\n",
      "1232 patches in IC\n",
      "306 patches in Pn\n",
      "271 patches in RtTg\n",
      "421 patches in Tz_surround\n",
      "748 patches in LC_surround\n",
      "463 patches in 7n_surround\n",
      "1197 patches in Sp5C_surround\n",
      "607 patches in RMC_surround\n",
      "863 patches in LRt_surround\n",
      "727 patches in 7N_surround\n",
      "1860 patches in SC_surround\n",
      "1157 patches in IC_surround\n",
      "747 patches in Pn_surround\n",
      "798 patches in RtTg_surround\n",
      "13400 patches in bg\n"
     ]
    },
    {
     "name": "stderr",
     "output_type": "stream",
     "text": [
      "Analyzing section 193..\n",
      "Analyzing section 194..\n"
     ]
    },
    {
     "name": "stdout",
     "output_type": "stream",
     "text": [
      "74 patches in Tz\n",
      "51 patches in 7n\n",
      "691 patches in Sp5C\n",
      "108 patches in RMC\n",
      "257 patches in LRt\n",
      "187 patches in 7N\n",
      "2890 patches in SC\n",
      "1168 patches in IC\n",
      "309 patches in Pn\n",
      "320 patches in RtTg\n",
      "514 patches in Tz_surround\n",
      "467 patches in 7n_surround\n",
      "1159 patches in Sp5C_surround\n",
      "665 patches in RMC_surround\n",
      "842 patches in LRt_surround\n",
      "685 patches in 7N_surround\n",
      "1942 patches in SC_surround\n",
      "1122 patches in IC_surround\n",
      "754 patches in Pn_surround\n",
      "848 patches in RtTg_surround\n",
      "13319 patches in bg\n"
     ]
    },
    {
     "name": "stderr",
     "output_type": "stream",
     "text": [
      "Analyzing section 195..\n"
     ]
    },
    {
     "name": "stdout",
     "output_type": "stream",
     "text": [
      "101 patches in Tz\n",
      "58 patches in 7n\n",
      "684 patches in Sp5C\n",
      "117 patches in RMC\n",
      "332 patches in RPC\n",
      "355 patches in RtTg\n",
      "175 patches in 7N\n",
      "3069 patches in SC\n",
      "1152 patches in IC\n",
      "315 patches in Pn\n",
      "275 patches in LRt\n",
      "567 patches in Tz_surround\n",
      "482 patches in 7n_surround\n",
      "1221 patches in Sp5C_surround\n",
      "519 patches in RMC_surround\n",
      "779 patches in RPC_surround\n",
      "881 patches in RtTg_surround\n",
      "660 patches in 7N_surround\n",
      "2005 patches in SC_surround\n",
      "1086 patches in IC_surround\n",
      "752 patches in Pn_surround\n",
      "858 patches in LRt_surround\n",
      "13414 patches in bg\n"
     ]
    },
    {
     "name": "stderr",
     "output_type": "stream",
     "text": [
      "Analyzing section 196..\n"
     ]
    },
    {
     "name": "stdout",
     "output_type": "stream",
     "text": [
      "102 patches in Tz\n",
      "61 patches in 7n\n",
      "130 patches in RMC\n",
      "358 patches in RtTg\n",
      "2991 patches in SC\n",
      "1111 patches in IC\n",
      "314 patches in Pn\n",
      "591 patches in Tz_surround\n",
      "496 patches in 7n_surround\n",
      "704 patches in RMC_surround\n",
      "876 patches in RtTg_surround\n",
      "1956 patches in SC_surround\n",
      "1047 patches in IC_surround\n",
      "715 patches in Pn_surround\n",
      "13940 patches in bg\n"
     ]
    },
    {
     "name": "stderr",
     "output_type": "stream",
     "text": [
      "Analyzing section 197..\n"
     ]
    },
    {
     "name": "stdout",
     "output_type": "stream",
     "text": [
      "112 patches in Tz\n",
      "65 patches in 7n\n",
      "145 patches in RMC\n",
      "357 patches in RtTg\n",
      "20 patches in IO\n",
      "2951 patches in SC\n",
      "1094 patches in IC\n",
      "318 patches in Pn\n",
      "632 patches in Tz_surround\n",
      "512 patches in 7n_surround\n",
      "714 patches in RMC_surround\n",
      "869 patches in RtTg_surround\n",
      "437 patches in IO_surround\n",
      "1937 patches in SC_surround\n",
      "1030 patches in IC_surround\n",
      "794 patches in Pn_surround\n",
      "13236 patches in bg\n"
     ]
    },
    {
     "name": "stderr",
     "output_type": "stream",
     "text": [
      "Analyzing section 198..\n"
     ]
    },
    {
     "name": "stdout",
     "output_type": "stream",
     "text": [
      "121 patches in Tz\n",
      "71 patches in 7n\n",
      "164 patches in RMC\n",
      "361 patches in RtTg\n",
      "25 patches in IO\n",
      "2895 patches in SC\n",
      "1058 patches in IC\n",
      "314 patches in Pn\n",
      "655 patches in Tz_surround\n",
      "526 patches in 7n_surround\n",
      "732 patches in RMC_surround\n",
      "865 patches in RtTg_surround\n",
      "467 patches in IO_surround\n",
      "1914 patches in SC_surround\n",
      "995 patches in IC_surround\n",
      "793 patches in Pn_surround\n",
      "13154 patches in bg\n"
     ]
    },
    {
     "name": "stderr",
     "output_type": "stream",
     "text": [
      "Analyzing section 199..\n"
     ]
    },
    {
     "name": "stdout",
     "output_type": "stream",
     "text": [
      "127 patches in Tz\n",
      "81 patches in 7n\n",
      "180 patches in RMC\n",
      "365 patches in RtTg\n",
      "29 patches in IO\n",
      "2860 patches in SC\n",
      "1042 patches in IC\n",
      "323 patches in Pn\n",
      "685 patches in Tz_surround\n",
      "541 patches in 7n_surround\n",
      "760 patches in RMC_surround\n",
      "866 patches in RtTg_surround\n",
      "509 patches in IO_surround\n",
      "1893 patches in SC_surround\n",
      "970 patches in IC_surround\n",
      "783 patches in Pn_surround\n",
      "13160 patches in bg\n"
     ]
    },
    {
     "name": "stderr",
     "output_type": "stream",
     "text": [
      "Analyzing section 200..\n"
     ]
    },
    {
     "name": "stdout",
     "output_type": "stream",
     "text": [
      "643 patches in VTA\n",
      "140 patches in Tz\n",
      "89 patches in 7n\n",
      "202 patches in RMC\n",
      "363 patches in RtTg\n",
      "38 patches in IO\n",
      "2808 patches in SC\n",
      "1018 patches in IC\n",
      "327 patches in Pn\n",
      "1117 patches in VTA_surround\n",
      "717 patches in Tz_surround\n",
      "561 patches in 7n_surround\n",
      "759 patches in RMC_surround\n",
      "856 patches in RtTg_surround\n",
      "527 patches in IO_surround\n",
      "1868 patches in SC_surround\n",
      "958 patches in IC_surround\n",
      "732 patches in Pn_surround\n",
      "13220 patches in bg\n"
     ]
    },
    {
     "name": "stderr",
     "output_type": "stream",
     "text": [
      "Analyzing section 201..\n"
     ]
    },
    {
     "name": "stdout",
     "output_type": "stream",
     "text": [
      "150 patches in Tz\n",
      "97 patches in 7n\n",
      "218 patches in RMC\n",
      "363 patches in RtTg\n",
      "38 patches in IO\n",
      "2773 patches in SC\n",
      "997 patches in IC\n",
      "330 patches in Pn\n",
      "735 patches in Tz_surround\n",
      "583 patches in 7n_surround\n",
      "800 patches in RMC_surround\n",
      "859 patches in RtTg_surround\n",
      "592 patches in IO_surround\n",
      "1851 patches in SC_surround\n",
      "941 patches in IC_surround\n",
      "769 patches in Pn_surround\n",
      "13046 patches in bg\n"
     ]
    },
    {
     "name": "stderr",
     "output_type": "stream",
     "text": [
      "Analyzing section 202..\n"
     ]
    },
    {
     "name": "stdout",
     "output_type": "stream",
     "text": [
      "163 patches in Tz\n",
      "114 patches in 7n\n",
      "244 patches in RMC\n",
      "366 patches in RtTg\n",
      "50 patches in IO\n",
      "2748 patches in SC\n",
      "994 patches in IC\n",
      "345 patches in Pn\n",
      "767 patches in Tz_surround\n",
      "616 patches in 7n_surround\n",
      "850 patches in RMC_surround\n",
      "878 patches in RtTg_surround\n",
      "679 patches in IO_surround\n",
      "1876 patches in SC_surround\n",
      "916 patches in IC_surround\n",
      "792 patches in Pn_surround\n",
      "13038 patches in bg\n"
     ]
    },
    {
     "name": "stderr",
     "output_type": "stream",
     "text": [
      "Analyzing section 203..\n"
     ]
    },
    {
     "name": "stdout",
     "output_type": "stream",
     "text": [
      "149 patches in Tz\n",
      "82 patches in 7n\n",
      "217 patches in RMC\n",
      "377 patches in RtTg\n",
      "74 patches in IO\n",
      "2661 patches in SC\n",
      "934 patches in IC\n",
      "355 patches in Pn\n",
      "762 patches in Tz_surround\n",
      "553 patches in 7n_surround\n",
      "787 patches in RMC_surround\n",
      "866 patches in RtTg_surround\n",
      "784 patches in IO_surround\n",
      "1859 patches in SC_surround\n",
      "921 patches in IC_surround\n",
      "755 patches in Pn_surround\n",
      "13125 patches in bg\n"
     ]
    },
    {
     "name": "stderr",
     "output_type": "stream",
     "text": [
      "Analyzing section 204..\n"
     ]
    },
    {
     "name": "stdout",
     "output_type": "stream",
     "text": [
      "152 patches in Tz\n",
      "68 patches in 7n\n",
      "201 patches in RMC\n",
      "388 patches in RtTg\n",
      "106 patches in IO\n",
      "2601 patches in SC\n",
      "910 patches in IC\n",
      "371 patches in Pn\n",
      "759 patches in Tz_surround\n",
      "521 patches in 7n_surround\n",
      "774 patches in RMC_surround\n",
      "866 patches in RtTg_surround\n",
      "846 patches in IO_surround\n",
      "1871 patches in SC_surround\n",
      "950 patches in IC_surround\n",
      "782 patches in Pn_surround\n",
      "12735 patches in bg\n"
     ]
    },
    {
     "name": "stderr",
     "output_type": "stream",
     "text": [
      "Analyzing section 205..\n"
     ]
    },
    {
     "name": "stdout",
     "output_type": "stream",
     "text": [
      "141 patches in Tz\n",
      "51 patches in 7n\n",
      "177 patches in RMC\n",
      "404 patches in RtTg\n",
      "156 patches in IO\n",
      "2529 patches in SC\n",
      "876 patches in IC\n",
      "390 patches in Pn\n",
      "752 patches in Tz_surround\n",
      "482 patches in 7n_surround\n",
      "752 patches in RMC_surround\n",
      "862 patches in RtTg_surround\n",
      "904 patches in IO_surround\n",
      "1877 patches in SC_surround\n",
      "954 patches in IC_surround\n",
      "775 patches in Pn_surround\n",
      "12957 patches in bg\n"
     ]
    },
    {
     "name": "stderr",
     "output_type": "stream",
     "text": [
      "Analyzing section 206..\n"
     ]
    },
    {
     "name": "stdout",
     "output_type": "stream",
     "text": [
      "134 patches in Tz\n",
      "42 patches in 7n\n",
      "167 patches in RMC\n",
      "413 patches in RtTg\n",
      "188 patches in IO\n",
      "2453 patches in SC\n",
      "837 patches in IC\n",
      "406 patches in Pn\n",
      "753 patches in Tz_surround\n",
      "450 patches in 7n_surround\n",
      "715 patches in RMC_surround\n",
      "870 patches in RtTg_surround\n",
      "954 patches in IO_surround\n",
      "1893 patches in SC_surround\n",
      "942 patches in IC_surround\n",
      "753 patches in Pn_surround\n",
      "13104 patches in bg\n"
     ]
    },
    {
     "name": "stderr",
     "output_type": "stream",
     "text": [
      "Analyzing section 207..\n"
     ]
    },
    {
     "name": "stdout",
     "output_type": "stream",
     "text": [
      "130 patches in Tz\n",
      "32 patches in 7n\n",
      "2 patches in 6N\n",
      "148 patches in RMC\n",
      "430 patches in RtTg\n",
      "256 patches in IO\n",
      "2391 patches in SC\n",
      "807 patches in IC\n",
      "423 patches in Pn\n",
      "740 patches in Tz_surround\n",
      "422 patches in 7n_surround\n",
      "256 patches in 6N_surround\n",
      "689 patches in RMC_surround\n",
      "884 patches in RtTg_surround\n",
      "1037 patches in IO_surround\n",
      "1905 patches in SC_surround\n",
      "926 patches in IC_surround\n",
      "725 patches in Pn_surround\n",
      "13272 patches in bg\n"
     ]
    },
    {
     "name": "stderr",
     "output_type": "stream",
     "text": [
      "Analyzing section 208..\n"
     ]
    },
    {
     "name": "stdout",
     "output_type": "stream",
     "text": [
      "127 patches in Tz\n",
      "23 patches in 7n\n",
      "5 patches in 6N\n",
      "131 patches in RMC\n",
      "436 patches in RtTg\n",
      "302 patches in IO\n",
      "2325 patches in SC\n",
      "778 patches in IC\n",
      "439 patches in Pn\n",
      "749 patches in Tz_surround\n",
      "388 patches in 7n_surround\n",
      "269 patches in 6N_surround\n",
      "674 patches in RMC_surround\n",
      "880 patches in RtTg_surround\n",
      "1092 patches in IO_surround\n",
      "1921 patches in SC_surround\n",
      "945 patches in IC_surround\n",
      "741 patches in Pn_surround\n",
      "13184 patches in bg\n"
     ]
    },
    {
     "name": "stderr",
     "output_type": "stream",
     "text": [
      "Analyzing section 209..\n"
     ]
    },
    {
     "name": "stdout",
     "output_type": "stream",
     "text": [
      "123 patches in Tz\n",
      "19 patches in 7n\n",
      "7 patches in 6N\n",
      "6 patches in 4N\n",
      "117 patches in RMC\n",
      "448 patches in RtTg\n",
      "370 patches in IO\n",
      "2245 patches in SC\n",
      "745 patches in IC\n",
      "450 patches in Pn\n",
      "730 patches in Tz_surround\n",
      "378 patches in 7n_surround\n",
      "292 patches in 6N_surround\n",
      "324 patches in 4N_surround\n",
      "644 patches in RMC_surround\n",
      "902 patches in RtTg_surround\n",
      "1135 patches in IO_surround\n",
      "1936 patches in SC_surround\n",
      "948 patches in IC_surround\n",
      "752 patches in Pn_surround\n",
      "13232 patches in bg\n"
     ]
    },
    {
     "name": "stderr",
     "output_type": "stream",
     "text": [
      "Analyzing section 210..\n"
     ]
    },
    {
     "name": "stdout",
     "output_type": "stream",
     "text": [
      "2 patches in 10N\n",
      "22 patches in 7n\n",
      "13 patches in 6N\n",
      "11 patches in 4N\n",
      "113 patches in RMC\n",
      "463 patches in RtTg\n",
      "443 patches in IO\n",
      "2199 patches in SC\n",
      "117 patches in Tz\n",
      "725 patches in IC\n",
      "478 patches in Pn\n",
      "692 patches in MVe\n",
      "561 patches in 10N_surround\n",
      "264 patches in 7n_surround\n",
      "292 patches in 6N_surround\n",
      "342 patches in 4N_surround\n",
      "648 patches in RMC_surround\n",
      "934 patches in RtTg_surround\n",
      "1332 patches in IO_surround\n",
      "1975 patches in SC_surround\n",
      "756 patches in Tz_surround\n",
      "969 patches in IC_surround\n",
      "732 patches in Pn_surround\n",
      "1323 patches in MVe_surround\n",
      "13219 patches in bg\n"
     ]
    },
    {
     "name": "stderr",
     "output_type": "stream",
     "text": [
      "Analyzing section 211..\n"
     ]
    },
    {
     "name": "stdout",
     "output_type": "stream",
     "text": [
      "4 patches in 10N\n",
      "13 patches in 6N\n",
      "14 patches in 4N\n",
      "455 patches in RtTg\n",
      "432 patches in IO\n",
      "2194 patches in SC\n",
      "681 patches in IC\n",
      "469 patches in Pn\n",
      "54 patches in 3N\n",
      "545 patches in 10N_surround\n",
      "339 patches in 6N_surround\n",
      "356 patches in 4N_surround\n",
      "907 patches in RtTg_surround\n",
      "1267 patches in IO_surround\n",
      "1945 patches in SC_surround\n",
      "949 patches in IC_surround\n",
      "745 patches in Pn_surround\n",
      "512 patches in 3N_surround\n",
      "13188 patches in bg\n"
     ]
    },
    {
     "name": "stderr",
     "output_type": "stream",
     "text": [
      "Analyzing section 212..\n"
     ]
    },
    {
     "name": "stdout",
     "output_type": "stream",
     "text": [
      "4 patches in 10N\n",
      "15 patches in 6N\n",
      "42 patches in 12N\n",
      "32 patches in 4N\n",
      "59 patches in 3N\n",
      "419 patches in IO\n",
      "2200 patches in SC\n",
      "645 patches in IC\n",
      "467 patches in Pn\n",
      "458 patches in RtTg\n",
      "543 patches in 10N_surround\n",
      "358 patches in 6N_surround\n",
      "474 patches in 12N_surround\n",
      "412 patches in 4N_surround\n",
      "508 patches in 3N_surround\n",
      "1299 patches in IO_surround\n",
      "1960 patches in SC_surround\n",
      "938 patches in IC_surround\n",
      "755 patches in Pn_surround\n",
      "901 patches in RtTg_surround\n",
      "13273 patches in bg\n"
     ]
    },
    {
     "name": "stderr",
     "output_type": "stream",
     "text": [
      "Analyzing section 213..\n"
     ]
    },
    {
     "name": "stdout",
     "output_type": "stream",
     "text": [
      "7 patches in 10N\n",
      "60 patches in 12N\n",
      "20 patches in 6N\n",
      "17 patches in 4N\n",
      "74 patches in 3N\n",
      "406 patches in IO\n",
      "2211 patches in SC\n",
      "613 patches in IC\n",
      "471 patches in Pn\n",
      "456 patches in RtTg\n",
      "529 patches in 10N_surround\n",
      "516 patches in 12N_surround\n",
      "376 patches in 6N_surround\n",
      "359 patches in 4N_surround\n",
      "531 patches in 3N_surround\n",
      "1259 patches in IO_surround\n",
      "1966 patches in SC_surround\n",
      "918 patches in IC_surround\n",
      "765 patches in Pn_surround\n",
      "890 patches in RtTg_surround\n",
      "13304 patches in bg\n"
     ]
    },
    {
     "name": "stderr",
     "output_type": "stream",
     "text": [
      "Analyzing section 214..\n"
     ]
    },
    {
     "name": "stdout",
     "output_type": "stream",
     "text": [
      "460 patches in RtTg\n",
      "13 patches in 10N\n",
      "90 patches in 12N\n",
      "21 patches in 6N\n",
      "8 patches in 4N\n",
      "84 patches in 3N\n",
      "404 patches in IO\n",
      "2223 patches in SC\n",
      "581 patches in IC\n",
      "465 patches in Pn\n",
      "29 patches in IF\n",
      "889 patches in RtTg_surround\n",
      "557 patches in 10N_surround\n",
      "571 patches in 12N_surround\n",
      "386 patches in 6N_surround\n",
      "308 patches in 4N_surround\n",
      "564 patches in 3N_surround\n",
      "1275 patches in IO_surround\n",
      "1968 patches in SC_surround\n",
      "925 patches in IC_surround\n",
      "714 patches in Pn_surround\n",
      "562 patches in IF_surround\n",
      "13306 patches in bg\n"
     ]
    },
    {
     "name": "stderr",
     "output_type": "stream",
     "text": [
      "Analyzing section 215..\n"
     ]
    },
    {
     "name": "stdout",
     "output_type": "stream",
     "text": [
      "15 patches in 10N\n",
      "117 patches in 12N\n",
      "33 patches in 6N\n",
      "7 patches in 4N\n",
      "96 patches in 3N\n",
      "397 patches in IO\n",
      "2227 patches in SC\n",
      "553 patches in IC\n",
      "455 patches in Pn\n",
      "463 patches in RtTg\n",
      "559 patches in 10N_surround\n",
      "630 patches in 12N_surround\n",
      "416 patches in 6N_surround\n",
      "309 patches in 4N_surround\n",
      "597 patches in 3N_surround\n",
      "1314 patches in IO_surround\n",
      "1979 patches in SC_surround\n",
      "913 patches in IC_surround\n",
      "736 patches in Pn_surround\n",
      "889 patches in RtTg_surround\n",
      "13379 patches in bg\n"
     ]
    },
    {
     "name": "stderr",
     "output_type": "stream",
     "text": [
      "Analyzing section 216..\n"
     ]
    },
    {
     "name": "stdout",
     "output_type": "stream",
     "text": [
      "24 patches in 10N\n",
      "18 patches in 6N\n",
      "153 patches in 12N\n",
      "8 patches in 4N\n",
      "467 patches in RtTg\n",
      "378 patches in IO\n",
      "2243 patches in SC\n",
      "523 patches in IC\n",
      "456 patches in Pn\n",
      "111 patches in 3N\n",
      "548 patches in 10N_surround\n",
      "375 patches in 6N_surround\n",
      "703 patches in 12N_surround\n",
      "315 patches in 4N_surround\n",
      "889 patches in RtTg_surround\n",
      "1321 patches in IO_surround\n",
      "1981 patches in SC_surround\n",
      "891 patches in IC_surround\n",
      "764 patches in Pn_surround\n",
      "629 patches in 3N_surround\n",
      "13487 patches in bg\n"
     ]
    },
    {
     "name": "stderr",
     "output_type": "stream",
     "text": [
      "Analyzing section 217..\n"
     ]
    },
    {
     "name": "stdout",
     "output_type": "stream",
     "text": [
      "28 patches in 10N\n",
      "15 patches in 6N\n",
      "185 patches in 12N\n",
      "123 patches in 3N\n",
      "382 patches in IO\n",
      "2250 patches in SC\n",
      "496 patches in IC\n",
      "459 patches in Pn\n",
      "465 patches in RtTg\n",
      "558 patches in 10N_surround\n",
      "365 patches in 6N_surround\n",
      "758 patches in 12N_surround\n",
      "660 patches in 3N_surround\n",
      "1306 patches in IO_surround\n",
      "1951 patches in SC_surround\n",
      "881 patches in IC_surround\n",
      "776 patches in Pn_surround\n",
      "887 patches in RtTg_surround\n",
      "13535 patches in bg\n"
     ]
    },
    {
     "name": "stderr",
     "output_type": "stream",
     "text": [
      "Analyzing section 218..\n"
     ]
    },
    {
     "name": "stdout",
     "output_type": "stream",
     "text": [
      "148 patches in 3N\n",
      "38 patches in 10N\n",
      "16 patches in DTgC\n",
      "13 patches in 6N\n",
      "228 patches in 12N\n",
      "381 patches in IO\n",
      "27 patches in DTgP\n",
      "2256 patches in SC\n",
      "463 patches in RtTg\n",
      "468 patches in IC\n",
      "465 patches in Pn\n",
      "55 patches in DRD\n",
      "13 patches in IF\n",
      "715 patches in 3N_surround\n",
      "599 patches in 10N_surround\n",
      "343 patches in DTgC_surround\n",
      "353 patches in 6N_surround\n",
      "838 patches in 12N_surround\n",
      "1356 patches in IO_surround\n",
      "504 patches in DTgP_surround\n",
      "1982 patches in SC_surround\n",
      "885 patches in RtTg_surround\n",
      "857 patches in IC_surround\n",
      "800 patches in Pn_surround\n",
      "495 patches in DRD_surround\n",
      "444 patches in IF_surround\n",
      "13445 patches in bg\n"
     ]
    },
    {
     "name": "stderr",
     "output_type": "stream",
     "text": [
      "Analyzing section 219..\n"
     ]
    },
    {
     "name": "stdout",
     "output_type": "stream",
     "text": [
      "462 patches in RtTg\n",
      "38 patches in 10N\n",
      "248 patches in 12N\n",
      "7 patches in 6N\n",
      "344 patches in IO\n",
      "2260 patches in SC\n",
      "435 patches in IC\n",
      "123 patches in 3N\n",
      "1078 patches in RtTg_surround\n",
      "549 patches in 10N_surround\n",
      "887 patches in 12N_surround\n",
      "316 patches in 6N_surround\n",
      "1277 patches in IO_surround\n",
      "2001 patches in SC_surround\n",
      "848 patches in IC_surround\n",
      "661 patches in 3N_surround\n",
      "13497 patches in bg\n"
     ]
    },
    {
     "name": "stderr",
     "output_type": "stream",
     "text": [
      "Analyzing section 220..\n"
     ]
    },
    {
     "name": "stdout",
     "output_type": "stream",
     "text": [
      "118 patches in 3N\n",
      "159 patches in IPC\n",
      "48 patches in IPA\n",
      "43 patches in 10N\n",
      "132 patches in EW\n",
      "8 patches in DTgC\n",
      "282 patches in 12N\n",
      "9 patches in 6N\n",
      "172 patches in IPR\n",
      "461 patches in RtTg\n",
      "323 patches in IO\n",
      "2274 patches in SC\n",
      "33 patches in DTgP\n",
      "412 patches in IC\n",
      "114 patches in DRD\n",
      "35 patches in IF\n",
      "638 patches in 3N_surround\n",
      "535 patches in IPC_surround\n",
      "446 patches in IPA_surround\n",
      "607 patches in 10N_surround\n",
      "945 patches in EW_surround\n",
      "300 patches in DTgC_surround\n",
      "970 patches in 12N_surround\n",
      "327 patches in 6N_surround\n",
      "517 patches in IPR_surround\n",
      "1072 patches in RtTg_surround\n",
      "1309 patches in IO_surround\n",
      "1994 patches in SC_surround\n",
      "516 patches in DTgP_surround\n",
      "828 patches in IC_surround\n",
      "640 patches in DRD_surround\n",
      "468 patches in IF_surround\n",
      "13438 patches in bg\n"
     ]
    },
    {
     "name": "stderr",
     "output_type": "stream",
     "text": [
      "Analyzing section 221..\n"
     ]
    },
    {
     "name": "stdout",
     "output_type": "stream",
     "text": [
      "29 patches in 10N\n",
      "277 patches in 12N\n",
      "15 patches in AP\n",
      "464 patches in RtTg\n",
      "326 patches in IO\n",
      "2281 patches in SC\n",
      "384 patches in IC\n",
      "160 patches in EW\n",
      "106 patches in 3N\n",
      "536 patches in 10N_surround\n",
      "979 patches in 12N_surround\n",
      "286 patches in AP_surround\n",
      "1085 patches in RtTg_surround\n",
      "1243 patches in IO_surround\n",
      "1997 patches in SC_surround\n",
      "835 patches in IC_surround\n",
      "911 patches in EW_surround\n",
      "580 patches in 3N_surround\n",
      "14111 patches in bg\n"
     ]
    },
    {
     "name": "stderr",
     "output_type": "stream",
     "text": [
      "Analyzing section 222..\n"
     ]
    },
    {
     "name": "stdout",
     "output_type": "stream",
     "text": [
      "27 patches in 10N\n",
      "293 patches in 12N\n",
      "18 patches in AP\n",
      "467 patches in RtTg\n",
      "324 patches in IO\n",
      "2285 patches in SC\n",
      "357 patches in IC\n",
      "513 patches in 10N_surround\n",
      "1001 patches in 12N_surround\n",
      "444 patches in AP_surround\n",
      "1105 patches in RtTg_surround\n",
      "1253 patches in IO_surround\n",
      "2015 patches in SC_surround\n",
      "848 patches in IC_surround\n",
      "13223 patches in bg\n"
     ]
    },
    {
     "name": "stderr",
     "output_type": "stream",
     "text": [
      "Analyzing section 223..\n"
     ]
    },
    {
     "name": "stdout",
     "output_type": "stream",
     "text": [
      "22 patches in 10N\n",
      "306 patches in 12N\n",
      "28 patches in AP\n",
      "463 patches in RtTg\n",
      "338 patches in IO\n",
      "2303 patches in SC\n",
      "336 patches in IC\n",
      "479 patches in 10N_surround\n",
      "1035 patches in 12N_surround\n",
      "271 patches in AP_surround\n",
      "1107 patches in RtTg_surround\n",
      "1239 patches in IO_surround\n",
      "1892 patches in SC_surround\n",
      "817 patches in IC_surround\n",
      "14250 patches in bg\n"
     ]
    },
    {
     "name": "stderr",
     "output_type": "stream",
     "text": [
      "Analyzing section 224..\n"
     ]
    },
    {
     "name": "stdout",
     "output_type": "stream",
     "text": [
      "21 patches in 10N\n",
      "316 patches in 12N\n",
      "35 patches in AP\n",
      "62 patches in 3N\n",
      "356 patches in IO\n",
      "2300 patches in SC\n",
      "315 patches in IC\n",
      "466 patches in RtTg\n",
      "482 patches in 10N_surround\n",
      "1075 patches in 12N_surround\n",
      "273 patches in AP_surround\n",
      "535 patches in 3N_surround\n",
      "1246 patches in IO_surround\n",
      "1897 patches in SC_surround\n",
      "800 patches in IC_surround\n",
      "1108 patches in RtTg_surround\n",
      "14183 patches in bg\n"
     ]
    },
    {
     "name": "stderr",
     "output_type": "stream",
     "text": [
      "Analyzing section 225..\n"
     ]
    },
    {
     "name": "stdout",
     "output_type": "stream",
     "text": [
      "98 patches in 3N\n",
      "152 patches in IPC\n",
      "32 patches in IPA\n",
      "16 patches in 10N\n",
      "86 patches in Dk\n",
      "369 patches in IO\n",
      "45 patches in DTg\n",
      "336 patches in 12N\n",
      "160 patches in IPR\n",
      "43 patches in AP\n",
      "463 patches in RtTg\n",
      "291 patches in DRI\n",
      "2308 patches in SC\n",
      "298 patches in IC\n",
      "103 patches in InC\n",
      "71 patches in DRD\n",
      "26 patches in LDTg\n",
      "28 patches in IF\n",
      "618 patches in 3N_surround\n",
      "530 patches in IPC_surround\n",
      "334 patches in IPA_surround\n",
      "526 patches in 10N_surround\n",
      "562 patches in Dk_surround\n",
      "1288 patches in IO_surround\n",
      "441 patches in DTg_surround\n",
      "1139 patches in 12N_surround\n",
      "497 patches in IPR_surround\n",
      "302 patches in AP_surround\n",
      "1105 patches in RtTg_surround\n",
      "898 patches in DRI_surround\n",
      "1922 patches in SC_surround\n",
      "801 patches in IC_surround\n",
      "569 patches in InC_surround\n",
      "524 patches in DRD_surround\n",
      "428 patches in LDTg_surround\n",
      "466 patches in IF_surround\n",
      "14146 patches in bg\n"
     ]
    },
    {
     "name": "stderr",
     "output_type": "stream",
     "text": [
      "Analyzing section 226..\n"
     ]
    },
    {
     "name": "stdout",
     "output_type": "stream",
     "text": [
      "303 patches in 12N\n",
      "49 patches in AP\n",
      "465 patches in RtTg\n",
      "2333 patches in SC\n",
      "318 patches in IC\n",
      "104 patches in 3N\n",
      "1100 patches in 12N_surround\n",
      "311 patches in AP_surround\n",
      "1122 patches in RtTg_surround\n",
      "1911 patches in SC_surround\n",
      "801 patches in IC_surround\n",
      "624 patches in 3N_surround\n",
      "14327 patches in bg\n"
     ]
    },
    {
     "name": "stderr",
     "output_type": "stream",
     "text": [
      "Analyzing section 227..\n"
     ]
    },
    {
     "name": "stdout",
     "output_type": "stream",
     "text": [
      "280 patches in 12N\n",
      "53 patches in AP\n",
      "110 patches in 3N\n",
      "2332 patches in SC\n",
      "335 patches in IC\n",
      "459 patches in RtTg\n",
      "1087 patches in 12N_surround\n",
      "337 patches in AP_surround\n",
      "629 patches in 3N_surround\n",
      "1945 patches in SC_surround\n",
      "820 patches in IC_surround\n",
      "1145 patches in RtTg_surround\n",
      "14103 patches in bg\n"
     ]
    },
    {
     "name": "stderr",
     "output_type": "stream",
     "text": [
      "Analyzing section 228..\n"
     ]
    },
    {
     "name": "stdout",
     "output_type": "stream",
     "text": [
      "260 patches in 12N\n",
      "66 patches in AP\n",
      "123 patches in 3N\n",
      "2335 patches in SC\n",
      "357 patches in IC\n",
      "461 patches in RtTg\n",
      "1057 patches in 12N_surround\n",
      "329 patches in AP_surround\n",
      "639 patches in 3N_surround\n",
      "1955 patches in SC_surround\n",
      "824 patches in IC_surround\n",
      "1146 patches in RtTg_surround\n",
      "14140 patches in bg\n"
     ]
    },
    {
     "name": "stderr",
     "output_type": "stream",
     "text": [
      "Analyzing section 229..\n"
     ]
    },
    {
     "name": "stdout",
     "output_type": "stream",
     "text": [
      "238 patches in 12N\n",
      "75 patches in AP\n",
      "131 patches in 3N\n",
      "2351 patches in SC\n",
      "378 patches in IC\n",
      "458 patches in RtTg\n",
      "1061 patches in 12N_surround\n",
      "342 patches in AP_surround\n",
      "651 patches in 3N_surround\n",
      "1925 patches in SC_surround\n",
      "846 patches in IC_surround\n",
      "1175 patches in RtTg_surround\n",
      "14264 patches in bg\n"
     ]
    },
    {
     "name": "stderr",
     "output_type": "stream",
     "text": [
      "Analyzing section 230..\n"
     ]
    },
    {
     "name": "stdout",
     "output_type": "stream",
     "text": [
      "219 patches in 12N\n",
      "89 patches in AP\n",
      "140 patches in 3N\n",
      "2368 patches in SC\n",
      "402 patches in IC\n",
      "463 patches in RtTg\n",
      "1029 patches in 12N_surround\n",
      "344 patches in AP_surround\n",
      "666 patches in 3N_surround\n",
      "1907 patches in SC_surround\n",
      "872 patches in IC_surround\n",
      "1176 patches in RtTg_surround\n",
      "14218 patches in bg\n"
     ]
    },
    {
     "name": "stderr",
     "output_type": "stream",
     "text": [
      "Analyzing section 231..\n"
     ]
    },
    {
     "name": "stdout",
     "output_type": "stream",
     "text": [
      "197 patches in 12N\n",
      "95 patches in AP\n",
      "460 patches in RtTg\n",
      "2373 patches in SC\n",
      "420 patches in IC\n",
      "149 patches in 3N\n",
      "1019 patches in 12N_surround\n",
      "355 patches in AP_surround\n",
      "1183 patches in RtTg_surround\n",
      "1882 patches in SC_surround\n",
      "880 patches in IC_surround\n",
      "680 patches in 3N_surround\n",
      "14741 patches in bg\n"
     ]
    },
    {
     "name": "stderr",
     "output_type": "stream",
     "text": [
      "Analyzing section 232..\n"
     ]
    },
    {
     "name": "stdout",
     "output_type": "stream",
     "text": [
      "466 patches in RtTg\n",
      "141 patches in Dk\n",
      "117 patches in AP\n",
      "10 patches in DTgC\n",
      "186 patches in 12N\n",
      "8 patches in 4N\n",
      "115 patches in pc\n",
      "169 patches in 3N\n",
      "2372 patches in SC\n",
      "43 patches in DTgP\n",
      "444 patches in IC\n",
      "31 patches in DRD\n",
      "113 patches in Op\n",
      "1233 patches in RtTg_surround\n",
      "865 patches in Dk_surround\n",
      "422 patches in AP_surround\n",
      "312 patches in DTgC_surround\n",
      "1042 patches in 12N_surround\n",
      "287 patches in 4N_surround\n",
      "683 patches in pc_surround\n",
      "684 patches in 3N_surround\n",
      "1916 patches in SC_surround\n",
      "492 patches in DTgP_surround\n",
      "926 patches in IC_surround\n",
      "456 patches in DRD_surround\n",
      "367 patches in Op_surround\n",
      "13894 patches in bg\n"
     ]
    },
    {
     "name": "stderr",
     "output_type": "stream",
     "text": [
      "Analyzing section 233..\n"
     ]
    },
    {
     "name": "stdout",
     "output_type": "stream",
     "text": [
      "192 patches in 12N\n",
      "8 patches in 4N\n",
      "101 patches in AP\n",
      "455 patches in RtTg\n",
      "2382 patches in SC\n",
      "469 patches in IC\n",
      "130 patches in 3N\n",
      "987 patches in 12N_surround\n",
      "291 patches in 4N_surround\n",
      "349 patches in AP_surround\n",
      "1175 patches in RtTg_surround\n",
      "1928 patches in SC_surround\n",
      "937 patches in IC_surround\n",
      "629 patches in 3N_surround\n",
      "14175 patches in bg\n"
     ]
    },
    {
     "name": "stderr",
     "output_type": "stream",
     "text": [
      "Analyzing section 234..\n"
     ]
    },
    {
     "name": "stdout",
     "output_type": "stream",
     "text": [
      "88 patches in AP\n",
      "212 patches in 12N\n",
      "9 patches in 4N\n",
      "97 patches in RMC\n",
      "451 patches in RtTg\n",
      "2393 patches in SC\n",
      "488 patches in IC\n",
      "100 patches in 3N\n",
      "367 patches in AP_surround\n",
      "990 patches in 12N_surround\n",
      "309 patches in 4N_surround\n",
      "597 patches in RMC_surround\n",
      "1152 patches in RtTg_surround\n",
      "1938 patches in SC_surround\n",
      "942 patches in IC_surround\n",
      "584 patches in 3N_surround\n",
      "14059 patches in bg\n"
     ]
    },
    {
     "name": "stderr",
     "output_type": "stream",
     "text": [
      "Analyzing section 235..\n"
     ]
    },
    {
     "name": "stdout",
     "output_type": "stream",
     "text": [
      "106 patches in RMC\n",
      "225 patches in 12N\n",
      "19 patches in 4N\n",
      "76 patches in AP\n",
      "448 patches in RtTg\n",
      "2398 patches in SC\n",
      "521 patches in IC\n",
      "81 patches in 3N\n",
      "598 patches in RMC_surround\n",
      "1003 patches in 12N_surround\n",
      "346 patches in 4N_surround\n",
      "383 patches in AP_surround\n",
      "1120 patches in RtTg_surround\n",
      "1942 patches in SC_surround\n",
      "973 patches in IC_surround\n",
      "551 patches in 3N_surround\n",
      "13960 patches in bg\n"
     ]
    },
    {
     "name": "stderr",
     "output_type": "stream",
     "text": [
      "Analyzing section 236..\n"
     ]
    },
    {
     "name": "stdout",
     "output_type": "stream",
     "text": [
      "68 patches in AP\n",
      "241 patches in 12N\n",
      "18 patches in 4N\n",
      "127 patches in RMC\n",
      "446 patches in RtTg\n",
      "2416 patches in SC\n",
      "542 patches in IC\n",
      "330 patches in AP_surround\n",
      "990 patches in 12N_surround\n",
      "371 patches in 4N_surround\n",
      "633 patches in RMC_surround\n",
      "1112 patches in RtTg_surround\n",
      "1998 patches in SC_surround\n",
      "996 patches in IC_surround\n",
      "13838 patches in bg\n"
     ]
    },
    {
     "name": "stderr",
     "output_type": "stream",
     "text": [
      "Analyzing section 237..\n"
     ]
    },
    {
     "name": "stdout",
     "output_type": "stream",
     "text": [
      "149 patches in RMC\n",
      "256 patches in 12N\n",
      "25 patches in 4N\n",
      "56 patches in AP\n",
      "440 patches in RtTg\n",
      "2417 patches in SC\n",
      "574 patches in IC\n",
      "675 patches in RMC_surround\n",
      "997 patches in 12N_surround\n",
      "397 patches in 4N_surround\n",
      "323 patches in AP_surround\n",
      "1087 patches in RtTg_surround\n",
      "1958 patches in SC_surround\n",
      "973 patches in IC_surround\n",
      "14049 patches in bg\n"
     ]
    },
    {
     "name": "stderr",
     "output_type": "stream",
     "text": [
      "Analyzing section 238..\n",
      "Analyzing section 239..\n"
     ]
    },
    {
     "name": "stdout",
     "output_type": "stream",
     "text": [
      "42 patches in 10N\n",
      "37 patches in AP\n",
      "292 patches in 12N\n",
      "199 patches in RMC\n",
      "422 patches in RtTg\n",
      "2434 patches in SC\n",
      "44 patches in Tz\n",
      "632 patches in IC\n",
      "488 patches in 10N_surround\n",
      "302 patches in AP_surround\n",
      "955 patches in 12N_surround\n",
      "744 patches in RMC_surround\n",
      "1042 patches in RtTg_surround\n",
      "2040 patches in SC_surround\n",
      "607 patches in Tz_surround\n",
      "1101 patches in IC_surround\n",
      "13461 patches in bg\n"
     ]
    },
    {
     "name": "stderr",
     "output_type": "stream",
     "text": [
      "Analyzing section 240..\n"
     ]
    },
    {
     "name": "stdout",
     "output_type": "stream",
     "text": [
      "38 patches in 10N\n",
      "95 patches in VTg\n",
      "232 patches in RMC\n",
      "310 patches in 12N\n",
      "28 patches in DTg\n",
      "8 patches in 6N\n",
      "32 patches in AP\n",
      "411 patches in MVe\n",
      "309 patches in IO\n",
      "2440 patches in SC\n",
      "62 patches in Tz\n",
      "663 patches in IC\n",
      "479 patches in Pn\n",
      "33 patches in IPL\n",
      "425 patches in RtTg\n",
      "575 patches in 10N_surround\n",
      "566 patches in VTg_surround\n",
      "796 patches in RMC_surround\n",
      "985 patches in 12N_surround\n",
      "392 patches in DTg_surround\n",
      "270 patches in 6N_surround\n",
      "285 patches in AP_surround\n",
      "1279 patches in MVe_surround\n",
      "1226 patches in IO_surround\n",
      "2053 patches in SC_surround\n",
      "653 patches in Tz_surround\n",
      "1082 patches in IC_surround\n",
      "760 patches in Pn_surround\n",
      "431 patches in IPL_surround\n",
      "989 patches in RtTg_surround\n",
      "13420 patches in bg\n"
     ]
    },
    {
     "name": "stderr",
     "output_type": "stream",
     "text": [
      "Analyzing section 241..\n"
     ]
    },
    {
     "name": "stdout",
     "output_type": "stream",
     "text": [
      "63 patches in Tz\n",
      "14 patches in 6N\n",
      "206 patches in RMC\n",
      "289 patches in 12N\n",
      "300 patches in IO\n",
      "2447 patches in SC\n",
      "35 patches in 10N\n",
      "672 patches in IC\n",
      "464 patches in Pn\n",
      "424 patches in RtTg\n",
      "631 patches in Tz_surround\n",
      "362 patches in 6N_surround\n",
      "756 patches in RMC_surround\n",
      "958 patches in 12N_surround\n",
      "1167 patches in IO_surround\n",
      "2025 patches in SC_surround\n",
      "548 patches in 10N_surround\n",
      "1007 patches in IC_surround\n",
      "784 patches in Pn_surround\n",
      "921 patches in RtTg_surround\n",
      "14951 patches in bg\n"
     ]
    },
    {
     "name": "stderr",
     "output_type": "stream",
     "text": [
      "Analyzing section 242..\n"
     ]
    },
    {
     "name": "stdout",
     "output_type": "stream",
     "text": [
      "76 patches in Tz\n",
      "271 patches in 12N\n",
      "12 patches in 6N\n",
      "188 patches in RMC\n",
      "415 patches in RtTg\n",
      "293 patches in IO\n",
      "2464 patches in SC\n",
      "34 patches in 10N\n",
      "695 patches in IC\n",
      "461 patches in Pn\n",
      "653 patches in Tz_surround\n",
      "926 patches in 12N_surround\n",
      "356 patches in 6N_surround\n",
      "734 patches in RMC_surround\n",
      "908 patches in RtTg_surround\n",
      "1206 patches in IO_surround\n",
      "2047 patches in SC_surround\n",
      "541 patches in 10N_surround\n",
      "1076 patches in IC_surround\n",
      "783 patches in Pn_surround\n",
      "13483 patches in bg\n"
     ]
    },
    {
     "name": "stderr",
     "output_type": "stream",
     "text": [
      "Analyzing section 243..\n"
     ]
    },
    {
     "name": "stdout",
     "output_type": "stream",
     "text": [
      "84 patches in Tz\n",
      "259 patches in 12N\n",
      "173 patches in RMC\n",
      "18 patches in 6N\n",
      "282 patches in IO\n",
      "2472 patches in SC\n",
      "30 patches in 10N\n",
      "712 patches in IC\n",
      "456 patches in Pn\n",
      "413 patches in RtTg\n",
      "649 patches in Tz_surround\n",
      "902 patches in 12N_surround\n",
      "714 patches in RMC_surround\n",
      "366 patches in 6N_surround\n",
      "1217 patches in IO_surround\n",
      "2046 patches in SC_surround\n",
      "529 patches in 10N_surround\n",
      "1031 patches in IC_surround\n",
      "809 patches in Pn_surround\n",
      "889 patches in RtTg_surround\n",
      "13414 patches in bg\n"
     ]
    },
    {
     "name": "stderr",
     "output_type": "stream",
     "text": [
      "Analyzing section 244..\n"
     ]
    },
    {
     "name": "stdout",
     "output_type": "stream",
     "text": [
      "31 patches in 10N\n",
      "21 patches in 6N\n",
      "239 patches in 12N\n",
      "156 patches in RMC\n",
      "405 patches in RtTg\n",
      "273 patches in IO\n",
      "2482 patches in SC\n",
      "82 patches in Tz\n",
      "732 patches in IC\n",
      "450 patches in Pn\n",
      "536 patches in 10N_surround\n",
      "380 patches in 6N_surround\n",
      "870 patches in 12N_surround\n",
      "694 patches in RMC_surround\n",
      "875 patches in RtTg_surround\n",
      "1225 patches in IO_surround\n",
      "2051 patches in SC_surround\n",
      "682 patches in Tz_surround\n",
      "1093 patches in IC_surround\n",
      "789 patches in Pn_surround\n",
      "13500 patches in bg\n"
     ]
    },
    {
     "name": "stderr",
     "output_type": "stream",
     "text": [
      "Analyzing section 245..\n"
     ]
    },
    {
     "name": "stdout",
     "output_type": "stream",
     "text": [
      "31 patches in 10N\n",
      "230 patches in 12N\n",
      "146 patches in RMC\n",
      "22 patches in 6N\n",
      "252 patches in IO\n",
      "2484 patches in SC\n",
      "91 patches in Tz\n",
      "751 patches in IC\n",
      "437 patches in Pn\n",
      "398 patches in RtTg\n",
      "518 patches in 10N_surround\n",
      "855 patches in 12N_surround\n",
      "673 patches in RMC_surround\n",
      "391 patches in 6N_surround\n",
      "1219 patches in IO_surround\n",
      "2044 patches in SC_surround\n",
      "697 patches in Tz_surround\n",
      "1046 patches in IC_surround\n",
      "810 patches in Pn_surround\n",
      "864 patches in RtTg_surround\n",
      "14317 patches in bg\n"
     ]
    },
    {
     "name": "stderr",
     "output_type": "stream",
     "text": [
      "Analyzing section 246..\n"
     ]
    },
    {
     "name": "stdout",
     "output_type": "stream",
     "text": [
      "31 patches in 10N\n",
      "211 patches in 12N\n",
      "128 patches in RMC\n",
      "27 patches in 6N\n",
      "269 patches in IO\n",
      "2490 patches in SC\n",
      "102 patches in Tz\n",
      "777 patches in IC\n",
      "435 patches in Pn\n",
      "394 patches in RtTg\n",
      "531 patches in 10N_surround\n",
      "828 patches in 12N_surround\n",
      "656 patches in RMC_surround\n",
      "400 patches in 6N_surround\n",
      "1234 patches in IO_surround\n",
      "2056 patches in SC_surround\n",
      "719 patches in Tz_surround\n",
      "1098 patches in IC_surround\n",
      "823 patches in Pn_surround\n",
      "849 patches in RtTg_surround\n",
      "13599 patches in bg\n"
     ]
    },
    {
     "name": "stderr",
     "output_type": "stream",
     "text": [
      "Analyzing section 247..\n"
     ]
    },
    {
     "name": "stdout",
     "output_type": "stream",
     "text": [
      "120 patches in Tz\n",
      "5 patches in 7n\n",
      "202 patches in 12N\n",
      "34 patches in 6N\n",
      "125 patches in RMC\n",
      "396 patches in RtTg\n",
      "270 patches in IO\n",
      "2504 patches in SC\n",
      "35 patches in 10N\n",
      "804 patches in IC\n",
      "438 patches in Pn\n",
      "171 patches in LDTg\n",
      "750 patches in Tz_surround\n",
      "316 patches in 7n_surround\n",
      "830 patches in 12N_surround\n",
      "427 patches in 6N_surround\n",
      "661 patches in RMC_surround\n",
      "861 patches in RtTg_surround\n",
      "1246 patches in IO_surround\n",
      "2049 patches in SC_surround\n",
      "559 patches in 10N_surround\n",
      "1104 patches in IC_surround\n",
      "811 patches in Pn_surround\n",
      "762 patches in LDTg_surround\n",
      "13553 patches in bg\n"
     ]
    },
    {
     "name": "stderr",
     "output_type": "stream",
     "text": [
      "Analyzing section 248..\n"
     ]
    },
    {
     "name": "stdout",
     "output_type": "stream",
     "text": [
      "25 patches in 10N\n",
      "8 patches in 7n\n",
      "20 patches in 6N\n",
      "120 patches in RMC\n",
      "151 patches in 12N\n",
      "287 patches in IO\n",
      "2513 patches in SC\n",
      "119 patches in Tz\n",
      "830 patches in IC\n",
      "418 patches in Pn\n",
      "381 patches in RtTg\n",
      "516 patches in 10N_surround\n",
      "332 patches in 7n_surround\n",
      "372 patches in 6N_surround\n",
      "647 patches in RMC_surround\n",
      "719 patches in 12N_surround\n",
      "1192 patches in IO_surround\n",
      "2041 patches in SC_surround\n",
      "746 patches in Tz_surround\n",
      "1131 patches in IC_surround\n",
      "821 patches in Pn_surround\n",
      "847 patches in RtTg_surround\n",
      "13799 patches in bg\n"
     ]
    },
    {
     "name": "stderr",
     "output_type": "stream",
     "text": [
      "Analyzing section 249..\n"
     ]
    },
    {
     "name": "stdout",
     "output_type": "stream",
     "text": [
      "123 patches in Tz\n",
      "11 patches in 6N\n",
      "16 patches in 7n\n",
      "98 patches in 12N\n",
      "122 patches in RMC\n",
      "373 patches in RtTg\n",
      "285 patches in IO\n",
      "2522 patches in SC\n",
      "18 patches in 10N\n",
      "870 patches in IC\n",
      "404 patches in Pn\n",
      "746 patches in Tz_surround\n",
      "328 patches in 6N_surround\n",
      "360 patches in 7n_surround\n",
      "610 patches in 12N_surround\n",
      "661 patches in RMC_surround\n",
      "841 patches in RtTg_surround\n",
      "1168 patches in IO_surround\n",
      "2028 patches in SC_surround\n",
      "514 patches in 10N_surround\n",
      "1068 patches in IC_surround\n",
      "829 patches in Pn_surround\n",
      "13589 patches in bg\n"
     ]
    },
    {
     "name": "stderr",
     "output_type": "stream",
     "text": [
      "Analyzing section 250..\n"
     ]
    },
    {
     "name": "stdout",
     "output_type": "stream",
     "text": [
      "11 patches in 10N\n",
      "8 patches in 6N\n",
      "24 patches in 7n\n",
      "64 patches in 12N\n",
      "130 patches in RMC\n",
      "366 patches in RtTg\n",
      "296 patches in IO\n",
      "2529 patches in SC\n",
      "127 patches in Tz\n",
      "901 patches in IC\n",
      "388 patches in Pn\n",
      "492 patches in 10N_surround\n",
      "284 patches in 6N_surround\n",
      "400 patches in 7n_surround\n",
      "515 patches in 12N_surround\n",
      "670 patches in RMC_surround\n",
      "849 patches in RtTg_surround\n",
      "1184 patches in IO_surround\n",
      "2024 patches in SC_surround\n",
      "757 patches in Tz_surround\n",
      "1096 patches in IC_surround\n",
      "809 patches in Pn_surround\n",
      "13585 patches in bg\n"
     ]
    },
    {
     "name": "stderr",
     "output_type": "stream",
     "text": [
      "Analyzing section 251..\n"
     ]
    },
    {
     "name": "stdout",
     "output_type": "stream",
     "text": [
      "138 patches in Tz\n",
      "34 patches in 7n\n",
      "37 patches in 12N\n",
      "2 patches in 6N\n",
      "132 patches in RMC\n",
      "358 patches in RtTg\n",
      "301 patches in IO\n",
      "2536 patches in SC\n",
      "7 patches in 10N\n",
      "947 patches in IC\n",
      "380 patches in Pn\n",
      "776 patches in Tz_surround\n",
      "433 patches in 7n_surround\n",
      "449 patches in 12N_surround\n",
      "246 patches in 6N_surround\n",
      "691 patches in RMC_surround\n",
      "862 patches in RtTg_surround\n",
      "1165 patches in IO_surround\n",
      "2014 patches in SC_surround\n",
      "481 patches in 10N_surround\n",
      "1088 patches in IC_surround\n",
      "799 patches in Pn_surround\n",
      "13504 patches in bg\n"
     ]
    },
    {
     "name": "stderr",
     "output_type": "stream",
     "text": [
      "Analyzing section 252..\n"
     ]
    },
    {
     "name": "stdout",
     "output_type": "stream",
     "text": [
      "6 patches in 10N\n",
      "45 patches in 7n\n",
      "1 patches in 6N\n",
      "135 patches in RMC\n",
      "361 patches in RtTg\n",
      "322 patches in IO\n",
      "2545 patches in SC\n",
      "149 patches in Tz\n",
      "981 patches in IC\n",
      "367 patches in Pn\n",
      "462 patches in 10N_surround\n",
      "467 patches in 7n_surround\n",
      "231 patches in 6N_surround\n",
      "702 patches in RMC_surround\n",
      "870 patches in RtTg_surround\n",
      "1120 patches in IO_surround\n",
      "1988 patches in SC_surround\n",
      "777 patches in Tz_surround\n",
      "1084 patches in IC_surround\n",
      "814 patches in Pn_surround\n",
      "13526 patches in bg\n"
     ]
    },
    {
     "name": "stderr",
     "output_type": "stream",
     "text": [
      "Analyzing section 253..\n"
     ]
    },
    {
     "name": "stdout",
     "output_type": "stream",
     "text": [
      "3 patches in 10N\n",
      "61 patches in 7n\n",
      "139 patches in RMC\n",
      "348 patches in RtTg\n",
      "322 patches in IO\n",
      "2552 patches in SC\n",
      "146 patches in Tz\n",
      "1021 patches in IC\n",
      "348 patches in Pn\n",
      "407 patches in 10N_surround\n",
      "504 patches in 7n_surround\n",
      "714 patches in RMC_surround\n",
      "884 patches in RtTg_surround\n",
      "1082 patches in IO_surround\n",
      "1975 patches in SC_surround\n",
      "801 patches in Tz_surround\n",
      "1083 patches in IC_surround\n",
      "785 patches in Pn_surround\n",
      "13665 patches in bg\n"
     ]
    },
    {
     "name": "stderr",
     "output_type": "stream",
     "text": [
      "Analyzing section 254..\n"
     ]
    },
    {
     "name": "stdout",
     "output_type": "stream",
     "text": [
      "1 patches in 10N\n",
      "61 patches in Gr\n",
      "80 patches in 7n\n",
      "143 patches in RMC\n",
      "255 patches in RPC\n",
      "84 patches in 8n\n",
      "351 patches in RtTg\n",
      "337 patches in IO\n",
      "2578 patches in SC\n",
      "168 patches in Tz\n",
      "1081 patches in IC\n",
      "357 patches in Pn\n",
      "390 patches in 10N_surround\n",
      "370 patches in Gr_surround\n",
      "533 patches in 7n_surround\n",
      "599 patches in RMC_surround\n",
      "725 patches in RPC_surround\n",
      "515 patches in 8n_surround\n",
      "933 patches in RtTg_surround\n",
      "1145 patches in IO_surround\n",
      "1984 patches in SC_surround\n",
      "823 patches in Tz_surround\n",
      "1091 patches in IC_surround\n",
      "819 patches in Pn_surround\n",
      "13528 patches in bg\n"
     ]
    },
    {
     "name": "stderr",
     "output_type": "stream",
     "text": [
      "Analyzing section 255..\n"
     ]
    },
    {
     "name": "stdout",
     "output_type": "stream",
     "text": [
      "158 patches in Tz\n",
      "87 patches in 7n\n",
      "95 patches in RMC\n",
      "263 patches in RtTg\n",
      "271 patches in IO\n",
      "2482 patches in SC\n",
      "2 patches in 10N\n",
      "1084 patches in IC\n",
      "336 patches in Pn\n",
      "820 patches in Tz_surround\n",
      "567 patches in 7n_surround\n",
      "596 patches in RMC_surround\n",
      "808 patches in RtTg_surround\n",
      "1045 patches in IO_surround\n",
      "1946 patches in SC_surround\n",
      "327 patches in 10N_surround\n",
      "1104 patches in IC_surround\n",
      "813 patches in Pn_surround\n",
      "13613 patches in bg\n"
     ]
    },
    {
     "name": "stderr",
     "output_type": "stream",
     "text": [
      "Analyzing section 256..\n"
     ]
    },
    {
     "name": "stdout",
     "output_type": "stream",
     "text": [
      "182 patches in Tz\n",
      "134 patches in 7n\n",
      "70 patches in RMC\n",
      "17 patches in SNR\n",
      "212 patches in RtTg\n",
      "246 patches in IO\n",
      "2416 patches in SC\n",
      "1098 patches in IC\n",
      "342 patches in Pn\n",
      "829 patches in Tz_surround\n",
      "636 patches in 7n_surround\n",
      "530 patches in RMC_surround\n",
      "429 patches in SNR_surround\n",
      "768 patches in RtTg_surround\n",
      "1020 patches in IO_surround\n",
      "1921 patches in SC_surround\n",
      "1116 patches in IC_surround\n",
      "807 patches in Pn_surround\n",
      "13711 patches in bg\n"
     ]
    },
    {
     "name": "stderr",
     "output_type": "stream",
     "text": [
      "Analyzing section 257..\n"
     ]
    },
    {
     "name": "stdout",
     "output_type": "stream",
     "text": [
      "146 patches in Tz\n",
      "113 patches in 7n\n",
      "49 patches in RMC\n",
      "31 patches in SNR\n",
      "182 patches in RtTg\n",
      "168 patches in IO\n",
      "2351 patches in SC\n",
      "1117 patches in IC\n",
      "323 patches in Pn\n",
      "750 patches in Tz_surround\n",
      "608 patches in 7n_surround\n",
      "473 patches in RMC_surround\n",
      "458 patches in SNR_surround\n",
      "725 patches in RtTg_surround\n",
      "959 patches in IO_surround\n",
      "1914 patches in SC_surround\n",
      "1141 patches in IC_surround\n",
      "808 patches in Pn_surround\n",
      "13714 patches in bg\n"
     ]
    },
    {
     "name": "stderr",
     "output_type": "stream",
     "text": [
      "Analyzing section 258..\n"
     ]
    },
    {
     "name": "stdout",
     "output_type": "stream",
     "text": [
      "108 patches in Tz\n",
      "103 patches in 7n\n",
      "35 patches in RMC\n",
      "59 patches in SNR\n",
      "157 patches in RtTg\n",
      "114 patches in IO\n",
      "2270 patches in SC\n",
      "1143 patches in IC\n",
      "321 patches in Pn\n",
      "691 patches in Tz_surround\n",
      "581 patches in 7n_surround\n",
      "429 patches in RMC_surround\n",
      "522 patches in SNR_surround\n",
      "701 patches in RtTg_surround\n",
      "758 patches in IO_surround\n",
      "1896 patches in SC_surround\n",
      "1173 patches in IC_surround\n",
      "840 patches in Pn_surround\n",
      "13734 patches in bg\n"
     ]
    },
    {
     "name": "stderr",
     "output_type": "stream",
     "text": [
      "Analyzing section 259..\n"
     ]
    },
    {
     "name": "stdout",
     "output_type": "stream",
     "text": [
      "89 patches in Tz\n",
      "91 patches in 7n\n",
      "24 patches in RMC\n",
      "87 patches in SNR\n",
      "146 patches in RtTg\n",
      "69 patches in IO\n",
      "2208 patches in SC\n",
      "1159 patches in IC\n",
      "315 patches in Pn\n",
      "605 patches in Tz_surround\n",
      "564 patches in 7n_surround\n",
      "417 patches in RMC_surround\n",
      "571 patches in SNR_surround\n",
      "682 patches in RtTg_surround\n",
      "610 patches in IO_surround\n",
      "1878 patches in SC_surround\n",
      "1176 patches in IC_surround\n",
      "829 patches in Pn_surround\n",
      "13699 patches in bg\n"
     ]
    },
    {
     "name": "stderr",
     "output_type": "stream",
     "text": [
      "Analyzing section 260..\n"
     ]
    },
    {
     "name": "stdout",
     "output_type": "stream",
     "text": [
      "58 patches in Tz\n",
      "89 patches in LC\n",
      "79 patches in 7n\n",
      "127 patches in SNR\n",
      "127 patches in RtTg\n",
      "39 patches in IO\n",
      "2127 patches in SC\n",
      "1181 patches in IC\n",
      "311 patches in Pn\n",
      "517 patches in Tz_surround\n",
      "736 patches in LC_surround\n",
      "544 patches in 7n_surround\n",
      "646 patches in SNR_surround\n",
      "656 patches in RtTg_surround\n",
      "478 patches in IO_surround\n",
      "1875 patches in SC_surround\n",
      "1202 patches in IC_surround\n",
      "825 patches in Pn_surround\n",
      "13782 patches in bg\n"
     ]
    },
    {
     "name": "stderr",
     "output_type": "stream",
     "text": [
      "Analyzing section 261..\n",
      "Analyzing section 262..\n"
     ]
    },
    {
     "name": "stdout",
     "output_type": "stream",
     "text": [
      "21 patches in Tz\n",
      "106 patches in LC\n",
      "65 patches in 7n\n",
      "214 patches in SNR\n",
      "89 patches in RtTg\n",
      "7 patches in IO\n",
      "1989 patches in SC\n",
      "1230 patches in IC\n",
      "301 patches in Pn\n",
      "372 patches in Tz_surround\n",
      "659 patches in LC_surround\n",
      "500 patches in 7n_surround\n",
      "772 patches in SNR_surround\n",
      "629 patches in RtTg_surround\n",
      "362 patches in IO_surround\n",
      "1853 patches in SC_surround\n",
      "1236 patches in IC_surround\n",
      "797 patches in Pn_surround\n",
      "13855 patches in bg\n"
     ]
    },
    {
     "name": "stderr",
     "output_type": "stream",
     "text": [
      "Analyzing section 263..\n"
     ]
    },
    {
     "name": "stdout",
     "output_type": "stream",
     "text": [
      "13 patches in Tz\n",
      "30 patches in SNC\n",
      "64 patches in 7n\n",
      "268 patches in SNR\n",
      "83 patches in RtTg\n",
      "0 patches in IO\n",
      "1943 patches in SC\n",
      "1260 patches in IC\n",
      "309 patches in Pn\n",
      "109 patches in LC\n",
      "313 patches in Tz_surround\n",
      "392 patches in SNC_surround\n",
      "496 patches in 7n_surround\n",
      "803 patches in SNR_surround\n",
      "620 patches in RtTg_surround\n",
      "303 patches in IO_surround\n",
      "1865 patches in SC_surround\n",
      "1280 patches in IC_surround\n",
      "794 patches in Pn_surround\n",
      "701 patches in LC_surround\n",
      "13993 patches in bg\n"
     ]
    },
    {
     "name": "stderr",
     "output_type": "stream",
     "text": [
      "Analyzing section 264..\n"
     ]
    },
    {
     "name": "stdout",
     "output_type": "stream",
     "text": [
      "114 patches in LC\n",
      "55 patches in 7n\n",
      "273 patches in SNR\n",
      "69 patches in RtTg\n",
      "1912 patches in SC\n",
      "1283 patches in IC\n",
      "296 patches in Pn\n",
      "25 patches in SNC\n",
      "679 patches in LC_surround\n",
      "482 patches in 7n_surround\n",
      "819 patches in SNR_surround\n",
      "590 patches in RtTg_surround\n",
      "1829 patches in SC_surround\n",
      "1273 patches in IC_surround\n",
      "788 patches in Pn_surround\n",
      "367 patches in SNC_surround\n",
      "13743 patches in bg\n"
     ]
    },
    {
     "name": "stderr",
     "output_type": "stream",
     "text": [
      "Analyzing section 265..\n"
     ]
    },
    {
     "name": "stdout",
     "output_type": "stream",
     "text": [
      "24 patches in SNC\n",
      "19 patches in 7N\n",
      "291 patches in SNR\n",
      "64 patches in RtTg\n",
      "54 patches in 7n\n",
      "1894 patches in SC\n",
      "1313 patches in IC\n",
      "293 patches in Pn\n",
      "124 patches in LC\n",
      "351 patches in SNC_surround\n",
      "370 patches in 7N_surround\n",
      "836 patches in SNR_surround\n",
      "578 patches in RtTg_surround\n",
      "480 patches in 7n_surround\n",
      "1815 patches in SC_surround\n",
      "1292 patches in IC_surround\n",
      "743 patches in Pn_surround\n",
      "692 patches in LC_surround\n",
      "14298 patches in bg\n"
     ]
    },
    {
     "name": "stderr",
     "output_type": "stream",
     "text": [
      "Analyzing section 266..\n"
     ]
    },
    {
     "name": "stdout",
     "output_type": "stream",
     "text": [
      "130 patches in LC\n",
      "57 patches in 7n\n",
      "305 patches in SNR\n",
      "59 patches in RtTg\n",
      "47 patches in 7N\n",
      "1871 patches in SC\n",
      "1344 patches in IC\n",
      "287 patches in Pn\n",
      "23 patches in SNC\n",
      "715 patches in LC_surround\n",
      "478 patches in 7n_surround\n",
      "871 patches in SNR_surround\n",
      "556 patches in RtTg_surround\n",
      "457 patches in 7N_surround\n",
      "1798 patches in SC_surround\n",
      "1307 patches in IC_surround\n",
      "776 patches in Pn_surround\n",
      "349 patches in SNC_surround\n",
      "13850 patches in bg\n"
     ]
    },
    {
     "name": "stderr",
     "output_type": "stream",
     "text": [
      "Analyzing section 267..\n"
     ]
    },
    {
     "name": "stdout",
     "output_type": "stream",
     "text": [
      "145 patches in LC\n",
      "56 patches in 7n\n",
      "324 patches in SNR\n",
      "51 patches in RtTg\n",
      "103 patches in 7N\n",
      "1862 patches in SC\n",
      "1379 patches in IC\n",
      "289 patches in Pn\n",
      "25 patches in SNC\n",
      "745 patches in LC_surround\n",
      "478 patches in 7n_surround\n",
      "891 patches in SNR_surround\n",
      "536 patches in RtTg_surround\n",
      "557 patches in 7N_surround\n",
      "1782 patches in SC_surround\n",
      "1331 patches in IC_surround\n",
      "748 patches in Pn_surround\n",
      "335 patches in SNC_surround\n",
      "14067 patches in bg\n"
     ]
    },
    {
     "name": "stderr",
     "output_type": "stream",
     "text": [
      "Analyzing section 268..\n"
     ]
    },
    {
     "name": "stdout",
     "output_type": "stream",
     "text": [
      "17 patches in SNC\n",
      "113 patches in LC\n",
      "165 patches in 7N\n",
      "333 patches in SNR\n",
      "47 patches in RtTg\n",
      "56 patches in 7n\n",
      "1846 patches in SC\n",
      "1414 patches in IC\n",
      "285 patches in Pn\n",
      "184 patches in LRt\n",
      "334 patches in SNC_surround\n",
      "686 patches in LC_surround\n",
      "612 patches in 7N_surround\n",
      "929 patches in SNR_surround\n",
      "517 patches in RtTg_surround\n",
      "478 patches in 7n_surround\n",
      "1769 patches in SC_surround\n",
      "1315 patches in IC_surround\n",
      "714 patches in Pn_surround\n",
      "835 patches in LRt_surround\n",
      "14577 patches in bg\n"
     ]
    },
    {
     "name": "stderr",
     "output_type": "stream",
     "text": [
      "Analyzing section 269..\n"
     ]
    },
    {
     "name": "stdout",
     "output_type": "stream",
     "text": [
      "20 patches in SNC\n",
      "260 patches in 7N\n",
      "191 patches in LRt\n",
      "347 patches in SNR\n",
      "42 patches in RtTg\n",
      "53 patches in 7n\n",
      "1827 patches in SC\n",
      "1451 patches in IC\n",
      "278 patches in Pn\n",
      "85 patches in LC\n",
      "321 patches in SNC_surround\n",
      "715 patches in 7N_surround\n",
      "854 patches in LRt_surround\n",
      "956 patches in SNR_surround\n",
      "499 patches in RtTg_surround\n",
      "476 patches in 7n_surround\n",
      "1758 patches in SC_surround\n",
      "1331 patches in IC_surround\n",
      "754 patches in Pn_surround\n",
      "635 patches in LC_surround\n",
      "14457 patches in bg\n"
     ]
    },
    {
     "name": "stderr",
     "output_type": "stream",
     "text": [
      "Analyzing section 270..\n"
     ]
    },
    {
     "name": "stdout",
     "output_type": "stream",
     "text": [
      "18 patches in SNC\n",
      "68 patches in LC\n",
      "360 patches in 7N\n",
      "371 patches in SNR\n",
      "40 patches in RtTg\n",
      "59 patches in 7n\n",
      "1835 patches in SC\n",
      "1492 patches in IC\n",
      "283 patches in Pn\n",
      "221 patches in LRt\n",
      "340 patches in SNC_surround\n",
      "611 patches in LC_surround\n",
      "819 patches in 7N_surround\n",
      "998 patches in SNR_surround\n",
      "494 patches in RtTg_surround\n",
      "492 patches in 7n_surround\n",
      "1765 patches in SC_surround\n",
      "1368 patches in IC_surround\n",
      "742 patches in Pn_surround\n",
      "936 patches in LRt_surround\n",
      "14592 patches in bg\n"
     ]
    },
    {
     "name": "stderr",
     "output_type": "stream",
     "text": [
      "Analyzing section 271..\n"
     ]
    },
    {
     "name": "stdout",
     "output_type": "stream",
     "text": [
      "43 patches in LC\n",
      "56 patches in 7n\n",
      "396 patches in SNR\n",
      "207 patches in LRt\n",
      "357 patches in 7N\n",
      "2046 patches in SC\n",
      "1480 patches in IC\n",
      "268 patches in Pn\n",
      "15 patches in SNC\n",
      "505 patches in LC_surround\n",
      "473 patches in 7n_surround\n",
      "1012 patches in SNR_surround\n",
      "891 patches in LRt_surround\n",
      "822 patches in 7N_surround\n",
      "1761 patches in SC_surround\n",
      "1347 patches in IC_surround\n",
      "751 patches in Pn_surround\n",
      "301 patches in SNC_surround\n",
      "14374 patches in bg\n"
     ]
    },
    {
     "name": "stderr",
     "output_type": "stream",
     "text": [
      "Analyzing section 272..\n"
     ]
    },
    {
     "name": "stdout",
     "output_type": "stream",
     "text": [
      "25 patches in LC\n",
      "364 patches in 7N\n",
      "441 patches in SNR\n",
      "202 patches in LRt\n",
      "54 patches in 7n\n",
      "2325 patches in SC\n",
      "1476 patches in IC\n",
      "257 patches in Pn\n",
      "12 patches in SNC\n",
      "466 patches in LC_surround\n",
      "847 patches in 7N_surround\n",
      "1047 patches in SNR_surround\n",
      "872 patches in LRt_surround\n",
      "479 patches in 7n_surround\n",
      "1796 patches in SC_surround\n",
      "1319 patches in IC_surround\n",
      "752 patches in Pn_surround\n",
      "296 patches in SNC_surround\n",
      "14563 patches in bg\n"
     ]
    },
    {
     "name": "stderr",
     "output_type": "stream",
     "text": [
      "Analyzing section 273..\n"
     ]
    },
    {
     "name": "stdout",
     "output_type": "stream",
     "text": [
      "10 patches in SNC\n",
      "371 patches in 7N\n",
      "481 patches in SNR\n",
      "198 patches in LRt\n",
      "58 patches in 7n\n",
      "2570 patches in SC\n",
      "1477 patches in IC\n",
      "244 patches in Pn\n",
      "281 patches in SNC_surround\n",
      "861 patches in 7N_surround\n",
      "1080 patches in SNR_surround\n",
      "629 patches in LRt_surround\n",
      "486 patches in 7n_surround\n",
      "1819 patches in SC_surround\n",
      "1285 patches in IC_surround\n",
      "762 patches in Pn_surround\n",
      "15470 patches in bg\n"
     ]
    },
    {
     "name": "stderr",
     "output_type": "stream",
     "text": [
      "Analyzing section 274..\n"
     ]
    },
    {
     "name": "stdout",
     "output_type": "stream",
     "text": [
      "7 patches in SNC\n",
      "59 patches in 7n\n",
      "529 patches in SNR\n",
      "197 patches in LRt\n",
      "375 patches in 7N\n",
      "2866 patches in SC\n",
      "1475 patches in IC\n",
      "239 patches in Pn\n",
      "279 patches in SNC_surround\n",
      "487 patches in 7n_surround\n",
      "1129 patches in SNR_surround\n",
      "844 patches in LRt_surround\n",
      "910 patches in 7N_surround\n",
      "1852 patches in SC_surround\n",
      "1247 patches in IC_surround\n",
      "754 patches in Pn_surround\n",
      "14979 patches in bg\n"
     ]
    },
    {
     "name": "stderr",
     "output_type": "stream",
     "text": [
      "Analyzing section 275..\n"
     ]
    },
    {
     "name": "stdout",
     "output_type": "stream",
     "text": [
      "7 patches in SNC\n",
      "68 patches in 7n\n",
      "568 patches in SNR\n",
      "194 patches in LRt\n",
      "394 patches in 7N\n",
      "3144 patches in SC\n",
      "1503 patches in IC\n",
      "237 patches in Pn\n",
      "292 patches in SNC_surround\n",
      "502 patches in 7n_surround\n",
      "1199 patches in SNR_surround\n",
      "889 patches in LRt_surround\n",
      "921 patches in 7N_surround\n",
      "1909 patches in SC_surround\n",
      "1193 patches in IC_surround\n",
      "793 patches in Pn_surround\n",
      "15083 patches in bg\n"
     ]
    },
    {
     "name": "stderr",
     "output_type": "stream",
     "text": [
      "Analyzing section 276..\n"
     ]
    },
    {
     "name": "stdout",
     "output_type": "stream",
     "text": [
      "8 patches in SNC\n",
      "63 patches in 7n\n",
      "644 patches in APT\n",
      "591 patches in SNR\n",
      "202 patches in LRt\n",
      "390 patches in 7N\n",
      "2874 patches in SC\n",
      "1489 patches in IC\n",
      "183 patches in Pn\n",
      "283 patches in SNC_surround\n",
      "493 patches in 7n_surround\n",
      "1041 patches in APT_surround\n",
      "1198 patches in SNR_surround\n",
      "890 patches in LRt_surround\n",
      "913 patches in 7N_surround\n",
      "1733 patches in SC_surround\n",
      "1241 patches in IC_surround\n",
      "743 patches in Pn_surround\n",
      "14497 patches in bg\n"
     ]
    },
    {
     "name": "stderr",
     "output_type": "stream",
     "text": [
      "Analyzing section 277..\n"
     ]
    },
    {
     "name": "stdout",
     "output_type": "stream",
     "text": [
      "11 patches in SNC\n",
      "67 patches in 7n\n",
      "613 patches in APT\n",
      "609 patches in SNR\n",
      "220 patches in LRt\n",
      "393 patches in 7N\n",
      "2674 patches in SC\n",
      "1502 patches in IC\n",
      "151 patches in Pn\n",
      "299 patches in SNC_surround\n",
      "497 patches in 7n_surround\n",
      "1037 patches in APT_surround\n",
      "1201 patches in SNR_surround\n",
      "893 patches in LRt_surround\n",
      "916 patches in 7N_surround\n",
      "1725 patches in SC_surround\n",
      "1256 patches in IC_surround\n",
      "731 patches in Pn_surround\n",
      "15407 patches in bg\n"
     ]
    },
    {
     "name": "stderr",
     "output_type": "stream",
     "text": [
      "Analyzing section 278..\n"
     ]
    },
    {
     "name": "stdout",
     "output_type": "stream",
     "text": [
      "11 patches in SNC\n",
      "392 patches in 7N\n",
      "594 patches in APT\n",
      "637 patches in SNR\n",
      "236 patches in LRt\n",
      "66 patches in 7n\n",
      "2451 patches in SC\n",
      "1520 patches in IC\n",
      "117 patches in Pn\n",
      "304 patches in SNC_surround\n",
      "914 patches in 7N_surround\n",
      "1031 patches in APT_surround\n",
      "1239 patches in SNR_surround\n",
      "906 patches in LRt_surround\n",
      "505 patches in 7n_surround\n",
      "1683 patches in SC_surround\n",
      "1279 patches in IC_surround\n",
      "692 patches in Pn_surround\n",
      "15305 patches in bg\n"
     ]
    },
    {
     "name": "stderr",
     "output_type": "stream",
     "text": [
      "Analyzing section 279..\n"
     ]
    },
    {
     "name": "stdout",
     "output_type": "stream",
     "text": [
      "11 patches in SNC\n",
      "396 patches in 7N\n",
      "575 patches in APT\n",
      "661 patches in SNR\n",
      "249 patches in LRt\n",
      "68 patches in 7n\n",
      "2269 patches in SC\n",
      "1533 patches in IC\n",
      "87 patches in Pn\n",
      "331 patches in SNC_surround\n",
      "907 patches in 7N_surround\n",
      "1035 patches in APT_surround\n",
      "1251 patches in SNR_surround\n",
      "935 patches in LRt_surround\n",
      "508 patches in 7n_surround\n",
      "1658 patches in SC_surround\n",
      "1306 patches in IC_surround\n",
      "677 patches in Pn_surround\n",
      "15455 patches in bg\n"
     ]
    },
    {
     "name": "stderr",
     "output_type": "stream",
     "text": [
      "Analyzing section 280..\n"
     ]
    },
    {
     "name": "stdout",
     "output_type": "stream",
     "text": [
      "13 patches in SNC\n",
      "69 patches in 7n\n",
      "557 patches in APT\n",
      "51 patches in 5N\n",
      "679 patches in SNR\n",
      "273 patches in LRt\n",
      "404 patches in 7N\n",
      "2094 patches in SC\n",
      "1541 patches in IC\n",
      "58 patches in Pn\n",
      "337 patches in SNC_surround\n",
      "517 patches in 7n_surround\n",
      "1033 patches in APT_surround\n",
      "504 patches in 5N_surround\n",
      "1273 patches in SNR_surround\n",
      "955 patches in LRt_surround\n",
      "904 patches in 7N_surround\n",
      "1618 patches in SC_surround\n",
      "1332 patches in IC_surround\n",
      "697 patches in Pn_surround\n",
      "15431 patches in bg\n"
     ]
    },
    {
     "name": "stderr",
     "output_type": "stream",
     "text": [
      "Analyzing section 281..\n"
     ]
    },
    {
     "name": "stdout",
     "output_type": "stream",
     "text": [
      "16 patches in SNC\n",
      "72 patches in 7n\n",
      "532 patches in APT\n",
      "72 patches in 5N\n",
      "710 patches in SNR\n",
      "286 patches in LRt\n",
      "409 patches in 7N\n",
      "1888 patches in SC\n",
      "1557 patches in IC\n",
      "27 patches in Pn\n",
      "360 patches in SNC_surround\n",
      "523 patches in 7n_surround\n",
      "1023 patches in APT_surround\n",
      "529 patches in 5N_surround\n",
      "1292 patches in SNR_surround\n",
      "995 patches in LRt_surround\n",
      "911 patches in 7N_surround\n",
      "1591 patches in SC_surround\n",
      "1355 patches in IC_surround\n",
      "558 patches in Pn_surround\n",
      "15872 patches in bg\n"
     ]
    },
    {
     "name": "stderr",
     "output_type": "stream",
     "text": [
      "Analyzing section 282..\n"
     ]
    },
    {
     "name": "stdout",
     "output_type": "stream",
     "text": [
      "19 patches in SNC\n",
      "412 patches in 7N\n",
      "516 patches in APT\n",
      "100 patches in 5N\n",
      "726 patches in SNR\n",
      "308 patches in LRt\n",
      "77 patches in 7n\n",
      "1729 patches in SC\n",
      "1570 patches in IC\n",
      "12 patches in Pn\n",
      "373 patches in SNC_surround\n",
      "908 patches in 7N_surround\n",
      "1013 patches in APT_surround\n",
      "582 patches in 5N_surround\n",
      "1319 patches in SNR_surround\n",
      "1006 patches in LRt_surround\n",
      "524 patches in 7n_surround\n",
      "1539 patches in SC_surround\n",
      "1388 patches in IC_surround\n",
      "497 patches in Pn_surround\n",
      "15965 patches in bg\n"
     ]
    },
    {
     "name": "stderr",
     "output_type": "stream",
     "text": [
      "Analyzing section 283..\n"
     ]
    },
    {
     "name": "stdout",
     "output_type": "stream",
     "text": [
      "23 patches in SNC\n",
      "415 patches in 7N\n",
      "495 patches in APT\n",
      "137 patches in 5N\n",
      "750 patches in SNR\n",
      "326 patches in LRt\n",
      "78 patches in 7n\n",
      "1545 patches in SC\n",
      "1577 patches in IC\n",
      "0 patches in Pn\n",
      "383 patches in SNC_surround\n",
      "914 patches in 7N_surround\n",
      "1004 patches in APT_surround\n",
      "630 patches in 5N_surround\n",
      "1344 patches in SNR_surround\n",
      "1033 patches in LRt_surround\n",
      "534 patches in 7n_surround\n",
      "1503 patches in SC_surround\n",
      "1406 patches in IC_surround\n",
      "480 patches in Pn_surround\n",
      "16637 patches in bg\n"
     ]
    },
    {
     "name": "stderr",
     "output_type": "stream",
     "text": [
      "Analyzing section 284..\n"
     ]
    },
    {
     "name": "stdout",
     "output_type": "stream",
     "text": [
      "23 patches in SNC\n",
      "81 patches in 7n\n",
      "477 patches in APT\n",
      "174 patches in 5N\n",
      "766 patches in SNR\n",
      "345 patches in LRt\n",
      "416 patches in 7N\n",
      "1395 patches in SC\n",
      "1593 patches in IC\n",
      "397 patches in SNC_surround\n",
      "541 patches in 7n_surround\n",
      "993 patches in APT_surround\n",
      "681 patches in 5N_surround\n",
      "1377 patches in SNR_surround\n",
      "1044 patches in LRt_surround\n",
      "920 patches in 7N_surround\n",
      "1462 patches in SC_surround\n",
      "1427 patches in IC_surround\n",
      "15969 patches in bg\n"
     ]
    },
    {
     "name": "stderr",
     "output_type": "stream",
     "text": [
      "Analyzing section 285..\n"
     ]
    },
    {
     "name": "stdout",
     "output_type": "stream",
     "text": [
      "31 patches in SNC\n",
      "58 patches in LSO\n",
      "767 patches in Sp5C\n",
      "478 patches in APT\n",
      "92 patches in 7n\n",
      "436 patches in 7N\n",
      "228 patches in 5N\n",
      "799 patches in SNR\n",
      "381 patches in LRt\n",
      "225 patches in SuVe\n",
      "1234 patches in SC\n",
      "1627 patches in IC\n",
      "386 patches in VLL\n",
      "436 patches in SNC_surround\n",
      "494 patches in LSO_surround\n",
      "1441 patches in Sp5C_surround\n",
      "1018 patches in APT_surround\n",
      "557 patches in 7n_surround\n",
      "922 patches in 7N_surround\n",
      "766 patches in 5N_surround\n",
      "1450 patches in SNR_surround\n",
      "1103 patches in LRt_surround\n",
      "909 patches in SuVe_surround\n",
      "1431 patches in SC_surround\n",
      "1439 patches in IC_surround\n",
      "1081 patches in VLL_surround\n",
      "16378 patches in bg\n"
     ]
    },
    {
     "name": "stderr",
     "output_type": "stream",
     "text": [
      "Analyzing section 286..\n"
     ]
    },
    {
     "name": "stdout",
     "output_type": "stream",
     "text": [
      "28 patches in SNC\n",
      "83 patches in 7n\n",
      "729 patches in Sp5C\n",
      "432 patches in 7N\n",
      "234 patches in 5N\n",
      "795 patches in SNR\n",
      "357 patches in LRt\n",
      "53 patches in LSO\n",
      "1162 patches in SC\n",
      "382 patches in VLL\n",
      "419 patches in SNC_surround\n",
      "544 patches in 7n_surround\n",
      "1416 patches in Sp5C_surround\n",
      "927 patches in 7N_surround\n",
      "754 patches in 5N_surround\n",
      "1426 patches in SNR_surround\n",
      "1083 patches in LRt_surround\n",
      "483 patches in LSO_surround\n",
      "1469 patches in SC_surround\n",
      "1058 patches in VLL_surround\n",
      "16286 patches in bg\n"
     ]
    },
    {
     "name": "stderr",
     "output_type": "stream",
     "text": [
      "Analyzing section 287..\n"
     ]
    },
    {
     "name": "stdout",
     "output_type": "stream",
     "text": [
      "27 patches in SNC\n",
      "436 patches in 7N\n",
      "38 patches in Amb\n",
      "721 patches in Sp5C\n",
      "246 patches in 5N\n",
      "804 patches in SNR\n",
      "345 patches in LRt\n",
      "85 patches in 7n\n",
      "1098 patches in SC\n",
      "56 patches in LSO\n",
      "391 patches in VLL\n",
      "427 patches in SNC_surround\n",
      "935 patches in 7N_surround\n",
      "484 patches in Amb_surround\n",
      "1388 patches in Sp5C_surround\n",
      "757 patches in 5N_surround\n",
      "1424 patches in SNR_surround\n",
      "1096 patches in LRt_surround\n",
      "552 patches in 7n_surround\n",
      "1426 patches in SC_surround\n",
      "491 patches in LSO_surround\n",
      "1074 patches in VLL_surround\n",
      "16488 patches in bg\n"
     ]
    },
    {
     "name": "stderr",
     "output_type": "stream",
     "text": [
      "Analyzing section 288..\n"
     ]
    },
    {
     "name": "stdout",
     "output_type": "stream",
     "text": [
      "27 patches in SNC\n",
      "438 patches in 7N\n",
      "46 patches in Amb\n",
      "690 patches in Sp5C\n",
      "85 patches in 7n\n",
      "261 patches in 5N\n",
      "815 patches in SNR\n",
      "341 patches in LRt\n",
      "60 patches in LSO\n",
      "1018 patches in SC\n",
      "400 patches in VLL\n",
      "419 patches in SNC_surround\n",
      "934 patches in 7N_surround\n",
      "484 patches in Amb_surround\n",
      "1331 patches in Sp5C_surround\n",
      "544 patches in 7n_surround\n",
      "771 patches in 5N_surround\n",
      "1445 patches in SNR_surround\n",
      "1101 patches in LRt_surround\n",
      "494 patches in LSO_surround\n",
      "1395 patches in SC_surround\n",
      "1069 patches in VLL_surround\n",
      "16672 patches in bg\n"
     ]
    },
    {
     "name": "stderr",
     "output_type": "stream",
     "text": [
      "Analyzing section 289..\n"
     ]
    },
    {
     "name": "stdout",
     "output_type": "stream",
     "text": [
      "416 patches in VLL\n",
      "87 patches in 7n\n",
      "64 patches in Amb\n",
      "669 patches in Sp5C\n",
      "445 patches in 7N\n",
      "276 patches in 5N\n",
      "825 patches in SNR\n",
      "331 patches in LRt\n",
      "62 patches in LSO\n",
      "960 patches in SC\n",
      "28 patches in SNC\n",
      "1070 patches in VLL_surround\n",
      "549 patches in 7n_surround\n",
      "523 patches in Amb_surround\n",
      "1297 patches in Sp5C_surround\n",
      "945 patches in 7N_surround\n",
      "785 patches in 5N_surround\n",
      "1446 patches in SNR_surround\n",
      "1079 patches in LRt_surround\n",
      "502 patches in LSO_surround\n",
      "1353 patches in SC_surround\n",
      "427 patches in SNC_surround\n",
      "17235 patches in bg\n"
     ]
    },
    {
     "name": "stderr",
     "output_type": "stream",
     "text": [
      "Analyzing section 290..\n"
     ]
    },
    {
     "name": "stdout",
     "output_type": "stream",
     "text": [
      "423 patches in VLL\n",
      "71 patches in LSO\n",
      "49 patches in Amb\n",
      "660 patches in Sp5C\n",
      "86 patches in 7n\n",
      "290 patches in 5N\n",
      "837 patches in SNR\n",
      "312 patches in LRt\n",
      "449 patches in 7N\n",
      "888 patches in SC\n",
      "29 patches in SNC\n",
      "1094 patches in VLL_surround\n",
      "507 patches in LSO_surround\n",
      "470 patches in Amb_surround\n",
      "1344 patches in Sp5C_surround\n",
      "550 patches in 7n_surround\n",
      "804 patches in 5N_surround\n",
      "1455 patches in SNR_surround\n",
      "1116 patches in LRt_surround\n",
      "945 patches in 7N_surround\n",
      "1317 patches in SC_surround\n",
      "424 patches in SNC_surround\n",
      "17154 patches in bg\n"
     ]
    },
    {
     "name": "stderr",
     "output_type": "stream",
     "text": [
      "Analyzing section 291..\n"
     ]
    },
    {
     "name": "stdout",
     "output_type": "stream",
     "text": [
      "29 patches in SNC\n",
      "70 patches in LSO\n",
      "40 patches in Amb\n",
      "649 patches in Sp5C\n",
      "90 patches in 7n\n",
      "302 patches in 5N\n",
      "841 patches in SNR\n",
      "299 patches in LRt\n",
      "453 patches in 7N\n",
      "839 patches in SC\n",
      "428 patches in VLL\n",
      "427 patches in SNC_surround\n",
      "515 patches in LSO_surround\n",
      "442 patches in Amb_surround\n",
      "1319 patches in Sp5C_surround\n",
      "550 patches in 7n_surround\n",
      "813 patches in 5N_surround\n",
      "1472 patches in SNR_surround\n",
      "1138 patches in LRt_surround\n",
      "948 patches in 7N_surround\n",
      "1290 patches in SC_surround\n",
      "1094 patches in VLL_surround\n",
      "17256 patches in bg\n"
     ]
    },
    {
     "name": "stderr",
     "output_type": "stream",
     "text": [
      "Analyzing section 292..\n"
     ]
    },
    {
     "name": "stdout",
     "output_type": "stream",
     "text": [
      "441 patches in VLL\n",
      "74 patches in LSO\n",
      "38 patches in Amb\n",
      "624 patches in Sp5C\n",
      "450 patches in 7N\n",
      "316 patches in 5N\n",
      "845 patches in SNR\n",
      "278 patches in LRt\n",
      "91 patches in 7n\n",
      "772 patches in SC\n",
      "34 patches in SNC\n",
      "1111 patches in VLL_surround\n",
      "518 patches in LSO_surround\n",
      "436 patches in Amb_surround\n",
      "1252 patches in Sp5C_surround\n",
      "952 patches in 7N_surround\n",
      "834 patches in 5N_surround\n",
      "1479 patches in SNR_surround\n",
      "1163 patches in LRt_surround\n",
      "546 patches in 7n_surround\n",
      "1246 patches in SC_surround\n",
      "421 patches in SNC_surround\n",
      "17956 patches in bg\n"
     ]
    },
    {
     "name": "stderr",
     "output_type": "stream",
     "text": [
      "Analyzing section 293..\n"
     ]
    },
    {
     "name": "stdout",
     "output_type": "stream",
     "text": [
      "37 patches in SNC\n",
      "463 patches in 7N\n",
      "598 patches in Sp5C\n",
      "95 patches in 7n\n",
      "336 patches in 5N\n",
      "871 patches in SNR\n",
      "272 patches in LRt\n",
      "85 patches in LSO\n",
      "722 patches in SC\n",
      "462 patches in VLL\n",
      "432 patches in SNC_surround\n",
      "942 patches in 7N_surround\n",
      "1287 patches in Sp5C_surround\n",
      "555 patches in 7n_surround\n",
      "875 patches in 5N_surround\n",
      "1517 patches in SNR_surround\n",
      "1222 patches in LRt_surround\n",
      "528 patches in LSO_surround\n",
      "1207 patches in SC_surround\n",
      "1142 patches in VLL_surround\n",
      "18306 patches in bg\n"
     ]
    },
    {
     "name": "stderr",
     "output_type": "stream",
     "text": [
      "Analyzing section 294..\n"
     ]
    },
    {
     "name": "stdout",
     "output_type": "stream",
     "text": [
      "27 patches in SNC\n",
      "80 patches in 7n\n",
      "584 patches in Sp5C\n",
      "308 patches in 5N\n",
      "870 patches in SNR\n",
      "257 patches in LRt\n",
      "417 patches in 7N\n",
      "673 patches in SC\n",
      "62 patches in LSO\n",
      "399 patches in VLL\n",
      "417 patches in SNC_surround\n",
      "533 patches in 7n_surround\n",
      "1438 patches in Sp5C_surround\n",
      "834 patches in 5N_surround\n",
      "1475 patches in SNR_surround\n",
      "1197 patches in LRt_surround\n",
      "863 patches in 7N_surround\n",
      "1168 patches in SC_surround\n",
      "485 patches in LSO_surround\n",
      "960 patches in VLL_surround\n",
      "19188 patches in bg\n"
     ]
    },
    {
     "name": "stderr",
     "output_type": "stream",
     "text": [
      "Analyzing section 295..\n"
     ]
    },
    {
     "name": "stdout",
     "output_type": "stream",
     "text": [
      "338 patches in VLL\n",
      "377 patches in 7N\n",
      "566 patches in Sp5C\n",
      "75 patches in 7n\n",
      "290 patches in 5N\n",
      "892 patches in SNR\n",
      "226 patches in LRt\n",
      "45 patches in LSO\n",
      "609 patches in SC\n",
      "24 patches in SNC\n",
      "958 patches in VLL_surround\n",
      "868 patches in 7N_surround\n",
      "1309 patches in Sp5C_surround\n",
      "512 patches in 7n_surround\n",
      "813 patches in 5N_surround\n",
      "1483 patches in SNR_surround\n",
      "1086 patches in LRt_surround\n",
      "446 patches in LSO_surround\n",
      "1131 patches in SC_surround\n",
      "394 patches in SNC_surround\n",
      "18815 patches in bg\n"
     ]
    },
    {
     "name": "stderr",
     "output_type": "stream",
     "text": [
      "Analyzing section 296..\n"
     ]
    },
    {
     "name": "stdout",
     "output_type": "stream",
     "text": [
      "23 patches in SNC\n",
      "70 patches in 7n\n",
      "563 patches in Sp5C\n",
      "277 patches in 5N\n",
      "913 patches in SNR\n",
      "213 patches in LRt\n",
      "334 patches in 7N\n",
      "561 patches in SC\n",
      "35 patches in LSO\n",
      "290 patches in VLL\n",
      "378 patches in SNC_surround\n",
      "503 patches in 7n_surround\n",
      "1289 patches in Sp5C_surround\n",
      "795 patches in 5N_surround\n",
      "1493 patches in SNR_surround\n",
      "1026 patches in LRt_surround\n",
      "844 patches in 7N_surround\n",
      "1101 patches in SC_surround\n",
      "410 patches in LSO_surround\n",
      "890 patches in VLL_surround\n",
      "19012 patches in bg\n"
     ]
    },
    {
     "name": "stderr",
     "output_type": "stream",
     "text": [
      "Analyzing section 297..\n"
     ]
    },
    {
     "name": "stdout",
     "output_type": "stream",
     "text": [
      "19 patches in SNC\n",
      "544 patches in Sp5C\n",
      "261 patches in 5N\n",
      "926 patches in SNR\n",
      "197 patches in LRt\n",
      "512 patches in SC\n",
      "364 patches in SNC_surround\n",
      "1244 patches in Sp5C_surround\n",
      "775 patches in 5N_surround\n",
      "1404 patches in SNR_surround\n",
      "791 patches in LRt_surround\n",
      "1064 patches in SC_surround\n",
      "22328 patches in bg\n"
     ]
    },
    {
     "name": "stderr",
     "output_type": "stream",
     "text": [
      "Analyzing section 298..\n"
     ]
    },
    {
     "name": "stdout",
     "output_type": "stream",
     "text": [
      "192 patches in VLL\n",
      "21 patches in LSO\n",
      "526 patches in Sp5C\n",
      "260 patches in 7N\n",
      "261 patches in 5N\n",
      "942 patches in SNR\n",
      "181 patches in LRt\n",
      "65 patches in 7n\n",
      "467 patches in SC\n",
      "14 patches in SNC\n",
      "744 patches in VLL_surround\n",
      "335 patches in LSO_surround\n",
      "1244 patches in Sp5C_surround\n",
      "775 patches in 7N_surround\n",
      "762 patches in 5N_surround\n",
      "1501 patches in SNR_surround\n",
      "911 patches in LRt_surround\n",
      "489 patches in 7n_surround\n",
      "1039 patches in SC_surround\n",
      "358 patches in SNC_surround\n",
      "19864 patches in bg\n"
     ]
    },
    {
     "name": "stderr",
     "output_type": "stream",
     "text": [
      "Analyzing section 299..\n"
     ]
    },
    {
     "name": "stdout",
     "output_type": "stream",
     "text": [
      "154 patches in VLL\n",
      "55 patches in 7n\n",
      "514 patches in Sp5C\n",
      "229 patches in 5N\n",
      "963 patches in SNR\n",
      "164 patches in LRt\n",
      "217 patches in 7N\n",
      "416 patches in SC\n",
      "12 patches in SNC\n",
      "629 patches in VLL_surround\n",
      "499 patches in 7n_surround\n",
      "1233 patches in Sp5C_surround\n",
      "736 patches in 5N_surround\n",
      "1507 patches in SNR_surround\n",
      "845 patches in LRt_surround\n",
      "753 patches in 7N_surround\n",
      "991 patches in SC_surround\n",
      "348 patches in SNC_surround\n",
      "20404 patches in bg\n"
     ]
    },
    {
     "name": "stderr",
     "output_type": "stream",
     "text": [
      "Analyzing section 300..\n"
     ]
    },
    {
     "name": "stdout",
     "output_type": "stream",
     "text": [
      "86 patches in VLL\n",
      "22 patches in RR\n",
      "199 patches in 7N\n",
      "513 patches in Sp5C\n",
      "218 patches in 5N\n",
      "994 patches in SNR\n",
      "153 patches in LRt\n",
      "58 patches in 7n\n",
      "387 patches in SC\n",
      "22 patches in X\n",
      "64 patches in LPB\n",
      "16 patches in SNC\n",
      "566 patches in VLL_surround\n",
      "396 patches in RR_surround\n",
      "726 patches in 7N_surround\n",
      "1328 patches in Sp5C_surround\n",
      "737 patches in 5N_surround\n",
      "1526 patches in SNR_surround\n",
      "844 patches in LRt_surround\n",
      "538 patches in 7n_surround\n",
      "1000 patches in SC_surround\n",
      "442 patches in X_surround\n",
      "494 patches in LPB_surround\n",
      "348 patches in SNC_surround\n",
      "20429 patches in bg\n"
     ]
    },
    {
     "name": "stderr",
     "output_type": "stream",
     "text": [
      "Analyzing section 301..\n"
     ]
    },
    {
     "name": "stdout",
     "output_type": "stream",
     "text": [
      "7 patches in SNC\n",
      "127 patches in 7N\n",
      "522 patches in Sp5C\n",
      "111 patches in 5N\n",
      "935 patches in SNR\n",
      "114 patches in LRt\n",
      "46 patches in 7n\n",
      "304 patches in SC\n",
      "21 patches in X\n",
      "46 patches in LPB\n",
      "120 patches in VLL\n",
      "322 patches in SNC_surround\n",
      "648 patches in 7N_surround\n",
      "1249 patches in Sp5C_surround\n",
      "581 patches in 5N_surround\n",
      "1480 patches in SNR_surround\n",
      "715 patches in LRt_surround\n",
      "489 patches in 7n_surround\n",
      "895 patches in SC_surround\n",
      "456 patches in X_surround\n",
      "457 patches in LPB_surround\n",
      "602 patches in VLL_surround\n",
      "19897 patches in bg\n"
     ]
    },
    {
     "name": "stderr",
     "output_type": "stream",
     "text": [
      "Analyzing section 302..\n"
     ]
    },
    {
     "name": "stdout",
     "output_type": "stream",
     "text": [
      "82 patches in 8n\n",
      "5 patches in SNC\n",
      "43 patches in 7n\n",
      "533 patches in Sp5C\n",
      "64 patches in 5N\n",
      "900 patches in SNR\n",
      "87 patches in LRt\n",
      "88 patches in 7N\n",
      "253 patches in SC\n",
      "22 patches in X\n",
      "38 patches in LPB\n",
      "124 patches in VLL\n",
      "533 patches in 8n_surround\n",
      "309 patches in SNC_surround\n",
      "479 patches in 7n_surround\n",
      "1170 patches in Sp5C_surround\n",
      "520 patches in 5N_surround\n",
      "1448 patches in SNR_surround\n",
      "646 patches in LRt_surround\n",
      "567 patches in 7N_surround\n",
      "848 patches in SC_surround\n",
      "476 patches in X_surround\n",
      "443 patches in LPB_surround\n",
      "608 patches in VLL_surround\n",
      "20180 patches in bg\n"
     ]
    },
    {
     "name": "stderr",
     "output_type": "stream",
     "text": [
      "Analyzing section 303..\n"
     ]
    },
    {
     "name": "stdout",
     "output_type": "stream",
     "text": [
      "80 patches in 8n\n",
      "4 patches in SNC\n",
      "58 patches in 7N\n",
      "547 patches in Sp5C\n",
      "855 patches in SNR\n",
      "64 patches in LRt\n",
      "39 patches in 7n\n",
      "205 patches in SC\n",
      "30 patches in X\n",
      "30 patches in LPB\n",
      "123 patches in VLL\n",
      "525 patches in 8n_surround\n",
      "286 patches in SNC_surround\n",
      "498 patches in 7N_surround\n",
      "1166 patches in Sp5C_surround\n",
      "1426 patches in SNR_surround\n",
      "572 patches in LRt_surround\n",
      "481 patches in 7n_surround\n",
      "802 patches in SC_surround\n",
      "478 patches in X_surround\n",
      "421 patches in LPB_surround\n",
      "609 patches in VLL_surround\n",
      "20248 patches in bg\n"
     ]
    },
    {
     "name": "stderr",
     "output_type": "stream",
     "text": [
      "Analyzing section 304..\n"
     ]
    },
    {
     "name": "stdout",
     "output_type": "stream",
     "text": [
      "84 patches in 8n\n",
      "127 patches in VLL\n",
      "33 patches in 7n\n",
      "555 patches in Sp5C\n",
      "818 patches in SNR\n",
      "43 patches in LRt\n",
      "31 patches in 7N\n",
      "153 patches in SC\n",
      "33 patches in X\n",
      "23 patches in LPB\n",
      "5 patches in SNC\n",
      "532 patches in 8n_surround\n",
      "612 patches in VLL_surround\n",
      "485 patches in 7n_surround\n",
      "1180 patches in Sp5C_surround\n",
      "1375 patches in SNR_surround\n",
      "496 patches in LRt_surround\n",
      "414 patches in 7N_surround\n",
      "721 patches in SC_surround\n",
      "502 patches in X_surround\n",
      "395 patches in LPB_surround\n",
      "285 patches in SNC_surround\n",
      "20504 patches in bg\n"
     ]
    },
    {
     "name": "stderr",
     "output_type": "stream",
     "text": [
      "Analyzing section 305..\n"
     ]
    },
    {
     "name": "stdout",
     "output_type": "stream",
     "text": [
      "87 patches in 8n\n",
      "0 patches in SNC\n",
      "43 patches in 7n\n",
      "569 patches in Sp5C\n",
      "780 patches in SNR\n",
      "27 patches in LRt\n",
      "15 patches in 7N\n",
      "113 patches in SC\n",
      "37 patches in X\n",
      "18 patches in LPB\n",
      "131 patches in VLL\n",
      "539 patches in 8n_surround\n",
      "255 patches in SNC_surround\n",
      "501 patches in 7n_surround\n",
      "1122 patches in Sp5C_surround\n",
      "1361 patches in SNR_surround\n",
      "440 patches in LRt_surround\n",
      "359 patches in 7N_surround\n",
      "686 patches in SC_surround\n",
      "524 patches in X_surround\n",
      "372 patches in LPB_surround\n",
      "609 patches in VLL_surround\n",
      "20977 patches in bg\n"
     ]
    },
    {
     "name": "stderr",
     "output_type": "stream",
     "text": [
      "Analyzing section 306..\n"
     ]
    },
    {
     "name": "stdout",
     "output_type": "stream",
     "text": [
      "88 patches in 8n\n",
      "129 patches in VLL\n",
      "29 patches in 7n\n",
      "586 patches in Sp5C\n",
      "737 patches in SNR\n",
      "77 patches in SC\n",
      "43 patches in X\n",
      "11 patches in LPB\n",
      "0 patches in SNC\n",
      "544 patches in 8n_surround\n",
      "614 patches in VLL_surround\n",
      "448 patches in 7n_surround\n",
      "1105 patches in Sp5C_surround\n",
      "1329 patches in SNR_surround\n",
      "657 patches in SC_surround\n",
      "526 patches in X_surround\n",
      "353 patches in LPB_surround\n",
      "268 patches in SNC_surround\n",
      "21651 patches in bg\n"
     ]
    },
    {
     "name": "stderr",
     "output_type": "stream",
     "text": [
      "Analyzing section 307..\n"
     ]
    },
    {
     "name": "stdout",
     "output_type": "stream",
     "text": [
      "89 patches in 8n\n",
      "128 patches in VLL\n",
      "26 patches in 7n\n",
      "592 patches in Sp5C\n",
      "6 patches in PBG\n",
      "703 patches in SNR\n",
      "46 patches in SC\n",
      "47 patches in X\n",
      "11 patches in LPB\n",
      "550 patches in 8n_surround\n",
      "624 patches in VLL_surround\n",
      "436 patches in 7n_surround\n",
      "1103 patches in Sp5C_surround\n",
      "332 patches in PBG_surround\n",
      "1295 patches in SNR_surround\n",
      "525 patches in SC_surround\n",
      "572 patches in X_surround\n",
      "346 patches in LPB_surround\n",
      "21045 patches in bg\n"
     ]
    },
    {
     "name": "stderr",
     "output_type": "stream",
     "text": [
      "Analyzing section 308..\n"
     ]
    },
    {
     "name": "stdout",
     "output_type": "stream",
     "text": [
      "91 patches in 8n\n",
      "25 patches in VLL\n",
      "22 patches in 7n\n",
      "631 patches in Sp5C\n",
      "12 patches in PBG\n",
      "673 patches in SNR\n",
      "18 patches in SC\n",
      "52 patches in X\n",
      "556 patches in 8n_surround\n",
      "422 patches in VLL_surround\n",
      "420 patches in 7n_surround\n",
      "1108 patches in Sp5C_surround\n",
      "345 patches in PBG_surround\n",
      "1277 patches in SNR_surround\n",
      "413 patches in SC_surround\n",
      "612 patches in X_surround\n",
      "21440 patches in bg\n"
     ]
    },
    {
     "name": "stderr",
     "output_type": "stream",
     "text": [
      "Analyzing section 309..\n"
     ]
    },
    {
     "name": "stdout",
     "output_type": "stream",
     "text": [
      "96 patches in 8n\n",
      "120 patches in VLL\n",
      "23 patches in 7n\n",
      "618 patches in Sp5C\n",
      "19 patches in PBG\n",
      "584 patches in SNR\n",
      "6 patches in SC\n",
      "47 patches in X\n",
      "558 patches in 8n_surround\n",
      "619 patches in VLL_surround\n",
      "435 patches in 7n_surround\n",
      "1086 patches in Sp5C_surround\n",
      "397 patches in PBG_surround\n",
      "1198 patches in SNR_surround\n",
      "355 patches in SC_surround\n",
      "585 patches in X_surround\n",
      "21507 patches in bg\n"
     ]
    },
    {
     "name": "stderr",
     "output_type": "stream",
     "text": [
      "Analyzing section 310..\n"
     ]
    },
    {
     "name": "stdout",
     "output_type": "stream",
     "text": [
      "100 patches in 8n\n",
      "114 patches in VLL\n",
      "625 patches in Sp5C\n",
      "28 patches in PBG\n",
      "508 patches in SNR\n",
      "40 patches in X\n",
      "568 patches in 8n_surround\n",
      "606 patches in VLL_surround\n",
      "1083 patches in Sp5C_surround\n",
      "428 patches in PBG_surround\n",
      "1147 patches in SNR_surround\n",
      "580 patches in X_surround\n",
      "21571 patches in bg\n"
     ]
    },
    {
     "name": "stderr",
     "output_type": "stream",
     "text": [
      "Analyzing section 311..\n"
     ]
    },
    {
     "name": "stdout",
     "output_type": "stream",
     "text": [
      "101 patches in 8n\n",
      "106 patches in VLL\n",
      "636 patches in Sp5C\n",
      "41 patches in PBG\n",
      "426 patches in SNR\n",
      "35 patches in X\n",
      "578 patches in 8n_surround\n",
      "590 patches in VLL_surround\n",
      "980 patches in Sp5C_surround\n",
      "476 patches in PBG_surround\n",
      "1080 patches in SNR_surround\n",
      "588 patches in X_surround\n",
      "21977 patches in bg\n"
     ]
    },
    {
     "name": "stderr",
     "output_type": "stream",
     "text": [
      "Analyzing section 312..\n"
     ]
    },
    {
     "name": "stdout",
     "output_type": "stream",
     "text": [
      "104 patches in 8n\n",
      "97 patches in VLL\n",
      "643 patches in Sp5C\n",
      "59 patches in PBG\n",
      "369 patches in SNR\n",
      "29 patches in X\n",
      "581 patches in 8n_surround\n",
      "580 patches in VLL_surround\n",
      "1017 patches in Sp5C_surround\n",
      "514 patches in PBG_surround\n",
      "1012 patches in SNR_surround\n",
      "577 patches in X_surround\n",
      "21961 patches in bg\n"
     ]
    },
    {
     "name": "stderr",
     "output_type": "stream",
     "text": [
      "Analyzing section 313..\n"
     ]
    },
    {
     "name": "stdout",
     "output_type": "stream",
     "text": [
      "108 patches in 8n\n",
      "89 patches in VLL\n",
      "645 patches in Sp5C\n",
      "87 patches in PBG\n",
      "292 patches in SNR\n",
      "27 patches in X\n",
      "589 patches in 8n_surround\n",
      "563 patches in VLL_surround\n",
      "1038 patches in Sp5C_surround\n",
      "583 patches in PBG_surround\n",
      "941 patches in SNR_surround\n",
      "553 patches in X_surround\n",
      "22099 patches in bg\n"
     ]
    },
    {
     "name": "stderr",
     "output_type": "stream",
     "text": [
      "Analyzing section 314..\n"
     ]
    },
    {
     "name": "stdout",
     "output_type": "stream",
     "text": [
      "112 patches in 8n\n",
      "82 patches in VLL\n",
      "651 patches in Sp5C\n",
      "105 patches in PBG\n",
      "241 patches in SNR\n",
      "21 patches in X\n",
      "588 patches in 8n_surround\n",
      "560 patches in VLL_surround\n",
      "1046 patches in Sp5C_surround\n",
      "636 patches in PBG_surround\n",
      "888 patches in SNR_surround\n",
      "543 patches in X_surround\n",
      "22244 patches in bg\n"
     ]
    },
    {
     "name": "stderr",
     "output_type": "stream",
     "text": [
      "Analyzing section 315..\n"
     ]
    },
    {
     "name": "stdout",
     "output_type": "stream",
     "text": [
      "1462 patches in Sp5O\n",
      "127 patches in 8n\n",
      "841 patches in Pr5VL\n",
      "80 patches in VLL\n",
      "880 patches in Sp5I\n",
      "45 patches in DC\n",
      "658 patches in Sp5C\n",
      "145 patches in PBG\n",
      "204 patches in SNR\n",
      "18 patches in X\n",
      "435 patches in Pr5DM\n",
      "1380 patches in Sp5O_surround\n",
      "579 patches in 8n_surround\n",
      "1060 patches in Pr5VL_surround\n",
      "576 patches in VLL_surround\n",
      "747 patches in Sp5I_surround\n",
      "571 patches in DC_surround\n",
      "709 patches in Sp5C_surround\n",
      "764 patches in PBG_surround\n",
      "866 patches in SNR_surround\n",
      "565 patches in X_surround\n",
      "624 patches in Pr5DM_surround\n",
      "22282 patches in bg\n"
     ]
    },
    {
     "name": "stderr",
     "output_type": "stream",
     "text": [
      "Analyzing section 316..\n"
     ]
    },
    {
     "name": "stdout",
     "output_type": "stream",
     "text": [
      "1305 patches in Sp5O\n",
      "744 patches in Pr5VL\n",
      "113 patches in 8n\n",
      "843 patches in Sp5I\n",
      "42 patches in DC\n",
      "579 patches in Sp5C\n",
      "128 patches in PBG\n",
      "20 patches in X\n",
      "382 patches in Pr5DM\n",
      "1378 patches in Sp5O_surround\n",
      "1117 patches in Pr5VL_surround\n",
      "566 patches in 8n_surround\n",
      "764 patches in Sp5I_surround\n",
      "538 patches in DC_surround\n",
      "677 patches in Sp5C_surround\n",
      "732 patches in PBG_surround\n",
      "511 patches in X_surround\n",
      "626 patches in Pr5DM_surround\n",
      "22142 patches in bg\n"
     ]
    },
    {
     "name": "stderr",
     "output_type": "stream",
     "text": [
      "Analyzing section 317..\n"
     ]
    },
    {
     "name": "stdout",
     "output_type": "stream",
     "text": [
      "1166 patches in Sp5O\n",
      "674 patches in Pr5VL\n",
      "828 patches in Sp5I\n",
      "510 patches in Sp5C\n",
      "48 patches in DC\n",
      "119 patches in PBG\n",
      "108 patches in 8n\n",
      "19 patches in X\n",
      "352 patches in Pr5DM\n",
      "1254 patches in Sp5O_surround\n",
      "1044 patches in Pr5VL_surround\n",
      "764 patches in Sp5I_surround\n",
      "665 patches in Sp5C_surround\n",
      "542 patches in DC_surround\n",
      "724 patches in PBG_surround\n",
      "555 patches in 8n_surround\n",
      "511 patches in X_surround\n",
      "604 patches in Pr5DM_surround\n",
      "23191 patches in bg\n"
     ]
    },
    {
     "name": "stderr",
     "output_type": "stream",
     "text": [
      "Analyzing section 318..\n"
     ]
    },
    {
     "name": "stdout",
     "output_type": "stream",
     "text": [
      "1008 patches in Sp5O\n",
      "592 patches in Pr5VL\n",
      "803 patches in Sp5I\n",
      "54 patches in DC\n",
      "431 patches in Sp5C\n",
      "117 patches in PBG\n",
      "103 patches in 8n\n",
      "22 patches in X\n",
      "317 patches in Pr5DM\n",
      "1113 patches in Sp5O_surround\n",
      "977 patches in Pr5VL_surround\n",
      "790 patches in Sp5I_surround\n",
      "543 patches in DC_surround\n",
      "631 patches in Sp5C_surround\n",
      "769 patches in PBG_surround\n",
      "548 patches in 8n_surround\n",
      "547 patches in X_surround\n",
      "587 patches in Pr5DM_surround\n",
      "22877 patches in bg\n"
     ]
    },
    {
     "name": "stderr",
     "output_type": "stream",
     "text": [
      "Analyzing section 319..\n"
     ]
    },
    {
     "name": "stdout",
     "output_type": "stream",
     "text": [
      "871 patches in Sp5O\n",
      "97 patches in 8n\n",
      "788 patches in Sp5I\n",
      "58 patches in DC\n",
      "373 patches in Sp5C\n",
      "516 patches in Pr5VL\n",
      "291 patches in Pr5DM\n",
      "1016 patches in Sp5O_surround\n",
      "549 patches in 8n_surround\n",
      "808 patches in Sp5I_surround\n",
      "556 patches in DC_surround\n",
      "577 patches in Sp5C_surround\n",
      "923 patches in Pr5VL_surround\n",
      "576 patches in Pr5DM_surround\n",
      "22796 patches in bg\n"
     ]
    },
    {
     "name": "stderr",
     "output_type": "stream",
     "text": [
      "Analyzing section 320..\n"
     ]
    },
    {
     "name": "stdout",
     "output_type": "stream",
     "text": [
      "722 patches in Sp5O\n",
      "93 patches in 8n\n",
      "762 patches in Sp5I\n",
      "304 patches in Sp5C\n",
      "59 patches in DC\n",
      "443 patches in Pr5VL\n",
      "251 patches in Pr5DM\n",
      "899 patches in Sp5O_surround\n",
      "541 patches in 8n_surround\n",
      "817 patches in Sp5I_surround\n",
      "537 patches in Sp5C_surround\n",
      "560 patches in DC_surround\n",
      "864 patches in Pr5VL_surround\n",
      "567 patches in Pr5DM_surround\n",
      "23138 patches in bg\n"
     ]
    },
    {
     "name": "stderr",
     "output_type": "stream",
     "text": [
      "Analyzing section 321..\n"
     ]
    },
    {
     "name": "stdout",
     "output_type": "stream",
     "text": [
      "596 patches in Sp5O\n",
      "379 patches in Pr5VL\n",
      "739 patches in Sp5I\n",
      "61 patches in DC\n",
      "252 patches in Sp5C\n",
      "86 patches in 8n\n",
      "233 patches in Pr5DM\n",
      "821 patches in Sp5O_surround\n",
      "809 patches in Pr5VL_surround\n",
      "834 patches in Sp5I_surround\n",
      "561 patches in DC_surround\n",
      "535 patches in Sp5C_surround\n",
      "535 patches in 8n_surround\n",
      "553 patches in Pr5DM_surround\n",
      "23206 patches in bg\n"
     ]
    },
    {
     "name": "stderr",
     "output_type": "stream",
     "text": [
      "Analyzing section 322..\n"
     ]
    },
    {
     "name": "stdout",
     "output_type": "stream",
     "text": [
      "461 patches in Sp5O\n",
      "91 patches in 8n\n",
      "717 patches in Sp5I\n",
      "204 patches in Sp5C\n",
      "74 patches in DC\n",
      "317 patches in Pr5VL\n",
      "209 patches in Pr5DM\n",
      "754 patches in Sp5O_surround\n",
      "537 patches in 8n_surround\n",
      "847 patches in Sp5I_surround\n",
      "481 patches in Sp5C_surround\n",
      "603 patches in DC_surround\n",
      "791 patches in Pr5VL_surround\n",
      "539 patches in Pr5DM_surround\n",
      "23253 patches in bg\n"
     ]
    },
    {
     "name": "stderr",
     "output_type": "stream",
     "text": [
      "Analyzing section 323..\n"
     ]
    },
    {
     "name": "stdout",
     "output_type": "stream",
     "text": [
      "385 patches in Sp5O\n",
      "238 patches in Pr5VL\n",
      "680 patches in Sp5I\n",
      "74 patches in DC\n",
      "168 patches in Sp5C\n",
      "90 patches in 8n\n",
      "179 patches in Pr5DM\n",
      "708 patches in Sp5O_surround\n",
      "692 patches in Pr5VL_surround\n",
      "827 patches in Sp5I_surround\n",
      "598 patches in DC_surround\n",
      "470 patches in Sp5C_surround\n",
      "539 patches in 8n_surround\n",
      "537 patches in Pr5DM_surround\n",
      "23494 patches in bg\n"
     ]
    },
    {
     "name": "stderr",
     "output_type": "stream",
     "text": [
      "Analyzing section 324..\n"
     ]
    },
    {
     "name": "stdout",
     "output_type": "stream",
     "text": [
      "319 patches in Sp5O\n",
      "163 patches in Pr5VL\n",
      "648 patches in Sp5I\n",
      "83 patches in DC\n",
      "139 patches in Sp5C\n",
      "91 patches in 8n\n",
      "152 patches in Pr5DM\n",
      "655 patches in Sp5O_surround\n",
      "602 patches in Pr5VL_surround\n",
      "827 patches in Sp5I_surround\n",
      "614 patches in DC_surround\n",
      "478 patches in Sp5C_surround\n",
      "550 patches in 8n_surround\n",
      "540 patches in Pr5DM_surround\n",
      "23514 patches in bg\n"
     ]
    },
    {
     "name": "stderr",
     "output_type": "stream",
     "text": [
      "Analyzing section 325..\n"
     ]
    },
    {
     "name": "stdout",
     "output_type": "stream",
     "text": [
      "271 patches in Sp5O\n",
      "99 patches in 8n\n",
      "615 patches in Sp5I\n",
      "89 patches in DC\n",
      "116 patches in Sp5C\n",
      "115 patches in Pr5VL\n",
      "138 patches in Pr5DM\n",
      "611 patches in Sp5O_surround\n",
      "558 patches in 8n_surround\n",
      "823 patches in Sp5I_surround\n",
      "620 patches in DC_surround\n",
      "455 patches in Sp5C_surround\n",
      "536 patches in Pr5VL_surround\n",
      "535 patches in Pr5DM_surround\n",
      "23677 patches in bg\n"
     ]
    },
    {
     "name": "stderr",
     "output_type": "stream",
     "text": [
      "Analyzing section 326..\n"
     ]
    },
    {
     "name": "stdout",
     "output_type": "stream",
     "text": [
      "220 patches in Sp5O\n",
      "102 patches in 8n\n",
      "580 patches in Sp5I\n",
      "95 patches in DC\n",
      "97 patches in Sp5C\n",
      "73 patches in Pr5VL\n",
      "118 patches in Pr5DM\n",
      "584 patches in Sp5O_surround\n",
      "575 patches in 8n_surround\n",
      "820 patches in Sp5I_surround\n",
      "625 patches in DC_surround\n",
      "438 patches in Sp5C_surround\n",
      "477 patches in Pr5VL_surround\n",
      "540 patches in Pr5DM_surround\n",
      "23856 patches in bg\n"
     ]
    },
    {
     "name": "stderr",
     "output_type": "stream",
     "text": [
      "Analyzing section 327..\n"
     ]
    },
    {
     "name": "stdout",
     "output_type": "stream",
     "text": [
      "169 patches in Sp5O\n",
      "42 patches in Pr5VL\n",
      "549 patches in Sp5I\n",
      "102 patches in DC\n",
      "73 patches in Sp5C\n",
      "102 patches in 8n\n",
      "106 patches in Pr5DM\n",
      "535 patches in Sp5O_surround\n",
      "437 patches in Pr5VL_surround\n",
      "828 patches in Sp5I_surround\n",
      "654 patches in DC_surround\n",
      "415 patches in Sp5C_surround\n",
      "584 patches in 8n_surround\n",
      "546 patches in Pr5DM_surround\n",
      "24049 patches in bg\n"
     ]
    },
    {
     "name": "stderr",
     "output_type": "stream",
     "text": [
      "Analyzing section 328..\n"
     ]
    },
    {
     "name": "stdout",
     "output_type": "stream",
     "text": [
      "133 patches in Sp5O\n",
      "111 patches in 8n\n",
      "3 patches in VCA\n",
      "530 patches in Sp5I\n",
      "111 patches in DC\n",
      "65 patches in Sp5C\n",
      "529 patches in Sp5O_surround\n",
      "616 patches in 8n_surround\n",
      "291 patches in VCA_surround\n",
      "841 patches in Sp5I_surround\n",
      "676 patches in DC_surround\n",
      "414 patches in Sp5C_surround\n",
      "24237 patches in bg\n"
     ]
    },
    {
     "name": "stderr",
     "output_type": "stream",
     "text": [
      "Analyzing section 329..\n"
     ]
    },
    {
     "name": "stdout",
     "output_type": "stream",
     "text": [
      "90 patches in Sp5O\n",
      "510 patches in Sp5I\n",
      "117 patches in 8n\n",
      "114 patches in DC\n",
      "14 patches in VCA\n",
      "416 patches in Sp5O_surround\n",
      "879 patches in Sp5I_surround\n",
      "615 patches in 8n_surround\n",
      "688 patches in DC_surround\n",
      "340 patches in VCA_surround\n",
      "24576 patches in bg\n"
     ]
    },
    {
     "name": "stderr",
     "output_type": "stream",
     "text": [
      "Analyzing section 330..\n"
     ]
    },
    {
     "name": "stdout",
     "output_type": "stream",
     "text": [
      "61 patches in Sp5O\n",
      "130 patches in 8n\n",
      "34 patches in VCA\n",
      "494 patches in Sp5I\n",
      "133 patches in DC\n",
      "22 patches in Pr5\n",
      "368 patches in Sp5O_surround\n",
      "644 patches in 8n_surround\n",
      "433 patches in VCA_surround\n",
      "922 patches in Sp5I_surround\n",
      "745 patches in DC_surround\n",
      "415 patches in Pr5_surround\n",
      "24593 patches in bg\n"
     ]
    },
    {
     "name": "stderr",
     "output_type": "stream",
     "text": [
      "Analyzing section 331..\n"
     ]
    },
    {
     "name": "stdout",
     "output_type": "stream",
     "text": [
      "46 patches in VCA\n",
      "163 patches in 8n\n",
      "41 patches in Sp5O\n",
      "390 patches in Sp5I\n",
      "161 patches in DC\n",
      "1 patches in VCP\n",
      "14 patches in Pr5\n",
      "450 patches in VCA_surround\n",
      "646 patches in 8n_surround\n",
      "333 patches in Sp5O_surround\n",
      "847 patches in Sp5I_surround\n",
      "740 patches in DC_surround\n",
      "223 patches in VCP_surround\n",
      "364 patches in Pr5_surround\n",
      "24876 patches in bg\n"
     ]
    },
    {
     "name": "stderr",
     "output_type": "stream",
     "text": [
      "Analyzing section 332..\n"
     ]
    },
    {
     "name": "stdout",
     "output_type": "stream",
     "text": [
      "58 patches in VCA\n",
      "195 patches in 8n\n",
      "27 patches in Sp5O\n",
      "311 patches in Sp5I\n",
      "180 patches in DC\n",
      "5 patches in VCP\n",
      "490 patches in VCA_surround\n",
      "664 patches in 8n_surround\n",
      "327 patches in Sp5O_surround\n",
      "788 patches in Sp5I_surround\n",
      "769 patches in DC_surround\n",
      "224 patches in VCP_surround\n",
      "22234 patches in bg\n"
     ]
    },
    {
     "name": "stderr",
     "output_type": "stream",
     "text": [
      "Analyzing section 333..\n"
     ]
    },
    {
     "name": "stdout",
     "output_type": "stream",
     "text": [
      "20 patches in Sp5O\n",
      "79 patches in VCA\n",
      "233 patches in 8n\n",
      "247 patches in Sp5I\n",
      "208 patches in DC\n",
      "11 patches in VCP\n",
      "326 patches in Sp5O_surround\n",
      "519 patches in VCA_surround\n",
      "692 patches in 8n_surround\n",
      "735 patches in Sp5I_surround\n",
      "781 patches in DC_surround\n",
      "248 patches in VCP_surround\n",
      "25127 patches in bg\n"
     ]
    },
    {
     "name": "stderr",
     "output_type": "stream",
     "text": [
      "Analyzing section 334..\n"
     ]
    },
    {
     "name": "stdout",
     "output_type": "stream",
     "text": [
      "23 patches in VCP\n",
      "98 patches in VCA\n",
      "295 patches in 8n\n",
      "241 patches in DC\n",
      "182 patches in Sp5I\n",
      "310 patches in VCP_surround\n",
      "559 patches in VCA_surround\n",
      "729 patches in 8n_surround\n",
      "800 patches in DC_surround\n",
      "674 patches in Sp5I_surround\n",
      "25308 patches in bg\n"
     ]
    },
    {
     "name": "stderr",
     "output_type": "stream",
     "text": [
      "Analyzing section 335..\n"
     ]
    },
    {
     "name": "stdout",
     "output_type": "stream",
     "text": [
      "37 patches in VCP\n",
      "130 patches in VCA\n",
      "309 patches in 8n\n",
      "264 patches in DC\n",
      "131 patches in Sp5I\n",
      "363 patches in VCP_surround\n",
      "589 patches in VCA_surround\n",
      "731 patches in 8n_surround\n",
      "827 patches in DC_surround\n",
      "603 patches in Sp5I_surround\n",
      "25476 patches in bg\n"
     ]
    },
    {
     "name": "stderr",
     "output_type": "stream",
     "text": [
      "Analyzing section 336..\n"
     ]
    },
    {
     "name": "stdout",
     "output_type": "stream",
     "text": [
      "60 patches in VCP\n",
      "150 patches in VCA\n",
      "335 patches in 8n\n",
      "299 patches in DC\n",
      "88 patches in Sp5I\n",
      "448 patches in VCP_surround\n",
      "651 patches in VCA_surround\n",
      "750 patches in 8n_surround\n",
      "853 patches in DC_surround\n",
      "543 patches in Sp5I_surround\n",
      "25963 patches in bg\n"
     ]
    },
    {
     "name": "stderr",
     "output_type": "stream",
     "text": [
      "Analyzing section 337..\n"
     ]
    },
    {
     "name": "stdout",
     "output_type": "stream",
     "text": [
      "187 patches in VCP\n",
      "182 patches in VCA\n",
      "363 patches in 8n\n",
      "332 patches in DC\n",
      "41 patches in Sp5I\n",
      "598 patches in VCP_surround\n",
      "672 patches in VCA_surround\n",
      "737 patches in 8n_surround\n",
      "843 patches in DC_surround\n",
      "439 patches in Sp5I_surround\n",
      "26097 patches in bg\n"
     ]
    },
    {
     "name": "stderr",
     "output_type": "stream",
     "text": [
      "Analyzing section 338..\n"
     ]
    },
    {
     "name": "stdout",
     "output_type": "stream",
     "text": [
      "414 patches in VCP\n",
      "217 patches in VCA\n",
      "388 patches in 8n\n",
      "382 patches in DC\n",
      "770 patches in VCP_surround\n",
      "705 patches in VCA_surround\n",
      "631 patches in 8n_surround\n",
      "870 patches in DC_surround\n",
      "26350 patches in bg\n"
     ]
    },
    {
     "name": "stderr",
     "output_type": "stream",
     "text": [
      "Analyzing section 339..\n"
     ]
    },
    {
     "name": "stdout",
     "output_type": "stream",
     "text": [
      "397 patches in VCP\n",
      "246 patches in VCA\n",
      "436 patches in 8n\n",
      "366 patches in DC\n",
      "729 patches in VCP_surround\n",
      "699 patches in VCA_surround\n",
      "599 patches in 8n_surround\n",
      "846 patches in DC_surround\n",
      "26527 patches in bg\n"
     ]
    },
    {
     "name": "stderr",
     "output_type": "stream",
     "text": [
      "Analyzing section 340..\n"
     ]
    },
    {
     "name": "stdout",
     "output_type": "stream",
     "text": [
      "391 patches in VCP\n",
      "283 patches in VCA\n",
      "372 patches in 8n\n",
      "366 patches in DC\n",
      "712 patches in VCP_surround\n",
      "697 patches in VCA_surround\n",
      "558 patches in 8n_surround\n",
      "839 patches in DC_surround\n",
      "26765 patches in bg\n"
     ]
    },
    {
     "name": "stderr",
     "output_type": "stream",
     "text": [
      "Analyzing section 341..\n",
      "Analyzing section 342..\n"
     ]
    },
    {
     "name": "stdout",
     "output_type": "stream",
     "text": [
      "369 patches in VCP\n",
      "362 patches in VCA\n",
      "278 patches in 8n\n",
      "354 patches in DC\n",
      "653 patches in VCP_surround\n",
      "736 patches in VCA_surround\n",
      "500 patches in 8n_surround\n",
      "827 patches in DC_surround\n",
      "27318 patches in bg\n"
     ]
    },
    {
     "name": "stderr",
     "output_type": "stream",
     "text": [
      "Analyzing section 343..\n"
     ]
    },
    {
     "name": "stdout",
     "output_type": "stream",
     "text": [
      "358 patches in VCP\n",
      "410 patches in VCA\n",
      "232 patches in 8n\n",
      "349 patches in DC\n",
      "607 patches in VCP_surround\n",
      "760 patches in VCA_surround\n",
      "457 patches in 8n_surround\n",
      "824 patches in DC_surround\n",
      "28264 patches in bg\n"
     ]
    },
    {
     "name": "stderr",
     "output_type": "stream",
     "text": [
      "Analyzing section 344..\n"
     ]
    },
    {
     "name": "stdout",
     "output_type": "stream",
     "text": [
      "352 patches in VCP\n",
      "453 patches in VCA\n",
      "193 patches in 8n\n",
      "342 patches in DC\n",
      "485 patches in VCP_surround\n",
      "767 patches in VCA_surround\n",
      "424 patches in 8n_surround\n",
      "785 patches in DC_surround\n",
      "28460 patches in bg\n"
     ]
    },
    {
     "name": "stderr",
     "output_type": "stream",
     "text": [
      "Analyzing section 345..\n"
     ]
    },
    {
     "name": "stdout",
     "output_type": "stream",
     "text": [
      "344 patches in VCP\n",
      "505 patches in VCA\n",
      "165 patches in 8n\n",
      "336 patches in DC\n",
      "477 patches in VCP_surround\n",
      "791 patches in VCA_surround\n",
      "400 patches in 8n_surround\n",
      "854 patches in DC_surround\n",
      "28022 patches in bg\n"
     ]
    },
    {
     "name": "stderr",
     "output_type": "stream",
     "text": [
      "Analyzing section 346..\n"
     ]
    },
    {
     "name": "stdout",
     "output_type": "stream",
     "text": [
      "298 patches in VCP\n",
      "530 patches in VCA\n",
      "302 patches in DC\n",
      "467 patches in VCP_surround\n",
      "884 patches in VCA_surround\n",
      "781 patches in DC_surround\n",
      "27566 patches in bg\n"
     ]
    },
    {
     "name": "stderr",
     "output_type": "stream",
     "text": [
      "Analyzing section 347..\n"
     ]
    },
    {
     "name": "stdout",
     "output_type": "stream",
     "text": [
      "264 patches in VCP\n",
      "560 patches in VCA\n",
      "265 patches in DC\n",
      "388 patches in VCP_surround\n",
      "895 patches in VCA_surround\n",
      "739 patches in DC_surround\n",
      "28841 patches in bg\n"
     ]
    },
    {
     "name": "stderr",
     "output_type": "stream",
     "text": [
      "Analyzing section 348..\n"
     ]
    },
    {
     "name": "stdout",
     "output_type": "stream",
     "text": [
      "230 patches in VCP\n",
      "582 patches in VCA\n",
      "237 patches in DC\n",
      "335 patches in VCP_surround\n",
      "909 patches in VCA_surround\n",
      "685 patches in DC_surround\n",
      "29106 patches in bg\n"
     ]
    },
    {
     "name": "stderr",
     "output_type": "stream",
     "text": [
      "Analyzing section 349..\n"
     ]
    },
    {
     "name": "stdout",
     "output_type": "stream",
     "text": [
      "203 patches in VCP\n",
      "610 patches in VCA\n",
      "216 patches in DC\n",
      "336 patches in VCP_surround\n",
      "861 patches in VCA_surround\n",
      "695 patches in DC_surround\n",
      "29039 patches in bg\n"
     ]
    },
    {
     "name": "stderr",
     "output_type": "stream",
     "text": [
      "Analyzing section 350..\n"
     ]
    },
    {
     "name": "stdout",
     "output_type": "stream",
     "text": [
      "173 patches in VCP\n",
      "649 patches in VCA\n",
      "194 patches in DC\n",
      "300 patches in VCP_surround\n",
      "817 patches in VCA_surround\n",
      "660 patches in DC_surround\n",
      "29358 patches in bg\n"
     ]
    },
    {
     "name": "stderr",
     "output_type": "stream",
     "text": [
      "Analyzing section 351..\n"
     ]
    },
    {
     "name": "stdout",
     "output_type": "stream",
     "text": [
      "135 patches in VCP\n",
      "603 patches in VCA\n",
      "188 patches in DC\n",
      "297 patches in VCP_surround\n",
      "800 patches in VCA_surround\n",
      "678 patches in DC_surround\n",
      "29452 patches in bg\n"
     ]
    },
    {
     "name": "stderr",
     "output_type": "stream",
     "text": [
      "Analyzing section 352..\n"
     ]
    },
    {
     "name": "stdout",
     "output_type": "stream",
     "text": [
      "101 patches in VCP\n",
      "573 patches in VCA\n",
      "112 patches in DC\n",
      "284 patches in VCP_surround\n",
      "826 patches in VCA_surround\n",
      "574 patches in DC_surround\n",
      "29582 patches in bg\n"
     ]
    },
    {
     "name": "stderr",
     "output_type": "stream",
     "text": [
      "Analyzing section 353..\n"
     ]
    },
    {
     "name": "stdout",
     "output_type": "stream",
     "text": [
      "75 patches in VCP\n",
      "552 patches in VCA\n",
      "63 patches in DC\n",
      "259 patches in VCP_surround\n",
      "819 patches in VCA_surround\n",
      "462 patches in DC_surround\n",
      "29633 patches in bg\n"
     ]
    },
    {
     "name": "stderr",
     "output_type": "stream",
     "text": [
      "Analyzing section 354..\n"
     ]
    },
    {
     "name": "stdout",
     "output_type": "stream",
     "text": [
      "50 patches in VCP\n",
      "528 patches in VCA\n",
      "28 patches in DC\n",
      "228 patches in VCP_surround\n",
      "826 patches in VCA_surround\n",
      "358 patches in DC_surround\n",
      "29933 patches in bg\n"
     ]
    },
    {
     "name": "stderr",
     "output_type": "stream",
     "text": [
      "Analyzing section 355..\n"
     ]
    },
    {
     "name": "stdout",
     "output_type": "stream",
     "text": [
      "38 patches in VCP\n",
      "507 patches in VCA\n",
      "11 patches in DC\n",
      "213 patches in VCP_surround\n",
      "768 patches in VCA_surround\n",
      "273 patches in DC_surround\n",
      "30131 patches in bg\n"
     ]
    },
    {
     "name": "stderr",
     "output_type": "stream",
     "text": [
      "Analyzing section 356..\n"
     ]
    },
    {
     "name": "stdout",
     "output_type": "stream",
     "text": [
      "21 patches in VCP\n",
      "453 patches in VCA\n",
      "189 patches in VCP_surround\n",
      "719 patches in VCA_surround\n",
      "30298 patches in bg\n"
     ]
    },
    {
     "name": "stderr",
     "output_type": "stream",
     "text": [
      "Analyzing section 357..\n"
     ]
    },
    {
     "name": "stdout",
     "output_type": "stream",
     "text": [
      "8 patches in VCP\n",
      "391 patches in VCA\n",
      "166 patches in VCP_surround\n",
      "680 patches in VCA_surround\n",
      "30199 patches in bg\n"
     ]
    },
    {
     "name": "stderr",
     "output_type": "stream",
     "text": [
      "Analyzing section 358..\n"
     ]
    },
    {
     "name": "stdout",
     "output_type": "stream",
     "text": [
      "3 patches in VCP\n",
      "342 patches in VCA\n",
      "143 patches in VCP_surround\n",
      "584 patches in VCA_surround\n",
      "31009 patches in bg\n",
      "293 patches in VCA\n",
      "510 patches in VCA_surround\n",
      "31513 patches in bg\n"
     ]
    },
    {
     "name": "stderr",
     "output_type": "stream",
     "text": [
      "Analyzing section 359..\n",
      "Analyzing section 360..\n"
     ]
    },
    {
     "name": "stdout",
     "output_type": "stream",
     "text": [
      "264 patches in VCA\n",
      "366 patches in VCA_surround\n",
      "32357 patches in bg\n",
      "185 patches in VCA\n",
      "408 patches in VCA_surround\n",
      "31862 patches in bg\n"
     ]
    },
    {
     "name": "stderr",
     "output_type": "stream",
     "text": [
      "Analyzing section 361..\n",
      "Analyzing section 362..\n"
     ]
    },
    {
     "name": "stdout",
     "output_type": "stream",
     "text": [
      "135 patches in VCA\n",
      "348 patches in VCA_surround\n",
      "32155 patches in bg\n",
      "99 patches in VCA\n",
      "324 patches in VCA_surround\n",
      "32251 patches in bg\n"
     ]
    },
    {
     "name": "stderr",
     "output_type": "stream",
     "text": [
      "Analyzing section 363..\n"
     ]
    }
   ],
   "source": [
    "label_gridIndices = locate_annotated_patches_v2(stack=stack, annotation_rootdir=annotation_midbrainIncluded_v2_rootdir)"
   ]
  },
  {
   "cell_type": "code",
   "execution_count": 15,
   "metadata": {
    "collapsed": true
   },
   "outputs": [],
   "source": [
    "annotation_grid_indices_fn = '/home/yuncong/csd395/CSHL_labelings_v3/%(stack)s/%(stack)s_annotation_grid_indices.h5' % dict(stack=stack)"
   ]
  },
  {
   "cell_type": "code",
   "execution_count": 16,
   "metadata": {
    "collapsed": false,
    "scrolled": true
   },
   "outputs": [
    {
     "name": "stderr",
     "output_type": "stream",
     "text": [
      "/oasis/projects/nsf/csd395/yuncong/brain_virtualenv/lib/python2.7/site-packages/pandas/core/generic.py:1101: PerformanceWarning: \n",
      "your performance may suffer as PyTables will pickle object types that it cannot\n",
      "map directly to c-types [inferred_type->mixed,key->block0_values] [items->[94, 95, 96, 97, 98, 99, 100, 101, 102, 103, 104, 105, 106, 107, 108, 109, 110, 111, 112, 113, 114, 115, 116, 117, 118, 119, 120, 121, 122, 123, 124, 125, 126, 127, 128, 129, 130, 132, 133, 134, 135, 136, 137, 138, 139, 140, 141, 142, 143, 144, 145, 146, 147, 148, 149, 150, 151, 152, 153, 154, 155, 156, 157, 158, 159, 160, 161, 162, 163, 164, 165, 166, 167, 168, 169, 170, 171, 172, 173, 174, 175, 176, 177, 178, 179, 180, 181, 182, 183, 184, 185, 186, 188, 189, 190, 191, 192, 194, 195, 196, 197, 198, 199, 200, 201, 202, 203, 204, 205, 206, 207, 208, 209, 210, 211, 212, 213, 214, 215, 216, 217, 218, 219, 220, 221, 222, 223, 224, 225, 226, 227, 228, 229, 230, 231, 232, 233, 234, 235, 236, 237, 239, 240, 241, 242, 243, 244, 245, 246, 247, 248, 249, 250, 251, 252, 253, 254, 255, 256, 257, 258, 259, 260, 262, 263, 264, 265, 266, 267, 268, 269, 270, 271, 272, 273, 274, 275, 276, 277, 278, 279, 280, 281, 282, 283, 284, 285, 286, 287, 288, 289, 290, 291, 292, 293, 294, 295, 296, 297, 298, 299, 300, 301, 302, 303, 304, 305, 306, 307, 308, 309, 310, 311, 312, 313, 314, 315, 316, 317, 318, 319, 320, 321, 322, 323, 324, 325, 326, 327, 328, 329, 330, 331, 332, 333, 334, 335, 336, 337, 338, 339, 340, 342, 343, 344, 345, 346, 347, 348, 349, 350, 351, 352, 353, 354, 355, 356, 357, 358, 359, 360, 361, 362, 363]]\n",
      "\n",
      "  return pytables.to_hdf(path_or_buf, key, self, **kwargs)\n"
     ]
    }
   ],
   "source": [
    "label_gridIndices.to_hdf(annotation_grid_indices_fn, 'grid_indices')"
   ]
  },
  {
   "cell_type": "code",
   "execution_count": null,
   "metadata": {
    "collapsed": true
   },
   "outputs": [],
   "source": [
    "label_gridIndices = read_hdf(annotation_grid_indices_fn, 'grid_indices')"
   ]
  },
  {
   "cell_type": "code",
   "execution_count": null,
   "metadata": {
    "collapsed": true
   },
   "outputs": [],
   "source": [
    "# END"
   ]
  },
  {
   "cell_type": "code",
   "execution_count": null,
   "metadata": {
    "collapsed": true
   },
   "outputs": [],
   "source": []
  },
  {
   "cell_type": "code",
   "execution_count": null,
   "metadata": {
    "collapsed": true
   },
   "outputs": [],
   "source": [
    "# num_samples_per_landmark = 100\n",
    "# num_samples_per_polygon = None\n",
    "\n",
    "# # num_samples_per_polygon = 10\n",
    "# # num_samples_per_polygon = 9999"
   ]
  },
  {
   "cell_type": "code",
   "execution_count": null,
   "metadata": {
    "collapsed": true
   },
   "outputs": [],
   "source": [
    "all_names = list(label_gridIndices.index)"
   ]
  },
  {
   "cell_type": "code",
   "execution_count": null,
   "metadata": {
    "collapsed": true
   },
   "outputs": [],
   "source": [
    "structures_to_extract = ['5N', '7N', '7n', 'Pn', 'RtTg', 'VLL', 'SNR', 'SNC', 'SC', 'IC', 'DC', '8n', 'LSO', 'Amb', \n",
    "                        'LRt', 'LC', 'Tz', 'R', '6N', '12N', '10N', '3N', '4N', 'IO', 'Sol', 'Gr', 'Cu', 'AP']"
   ]
  },
  {
   "cell_type": "code",
   "execution_count": null,
   "metadata": {
    "collapsed": true
   },
   "outputs": [],
   "source": [
    "structures_to_extract = ['5N', '7N', '7n', 'Pn', 'RtTg', 'VLL', 'Amb', '6N', 'AP', 'LC', 'LRt', 'R', 'Tz', '12N']"
   ]
  },
  {
   "cell_type": "code",
   "execution_count": null,
   "metadata": {
    "collapsed": true
   },
   "outputs": [],
   "source": [
    "structures_to_extract = ['7N', '12N', '7N_surround', '12N_surround']"
   ]
  },
  {
   "cell_type": "code",
   "execution_count": null,
   "metadata": {
    "collapsed": false
   },
   "outputs": [],
   "source": [
    "def sample_locations(grid_indices_lookup, structures, num_samples_per_polygon=None, num_samples_per_landmark=None):\n",
    "\n",
    "    location_list = defaultdict(list)\n",
    "\n",
    "    for name in structures:\n",
    "\n",
    "        if name not in grid_indices_lookup.index:\n",
    "            continue\n",
    "\n",
    "        for sec, grid_indices in grid_indices_lookup.loc[name].dropna().to_dict().iteritems():\n",
    "\n",
    "            n = len(grid_indices)\n",
    "\n",
    "            if n == 0:\n",
    "                sys.stderr.write('Cell is empty.\\n')\n",
    "                continue\n",
    "\n",
    "\n",
    "            if num_samples_per_polygon is None:\n",
    "                location_list[name] += [(stack, sec, i) for i in grid_indices]\n",
    "\n",
    "            else:\n",
    "                random_sampled_indices = grid_indices[np.random.choice(range(n), min(n, num_samples_per_polygon), replace=False)]\n",
    "                location_list[name] += [(stack, sec, i) for i in random_sampled_indices]\n",
    "\n",
    "    if num_samples_per_landmark is not None:\n",
    "        \n",
    "        sampled_location_list = {}\n",
    "        for name_s, addresses in location_list.iteritems():\n",
    "            n = len(addresses)\n",
    "            random_sampled_indices = np.random.choice(range(n), min(n, num_samples_per_landmark), replace=False)\n",
    "            sampled_location_list[name_s] = [addresses[i] for i in random_sampled_indices]\n",
    "        return sampled_location_list\n",
    "    \n",
    "    else:\n",
    "        location_list.default_factory = None\n",
    "        return location_list"
   ]
  },
  {
   "cell_type": "code",
   "execution_count": null,
   "metadata": {
    "collapsed": true
   },
   "outputs": [],
   "source": [
    "sampled_addresses = sample_locations(label_gridIndices, structures_to_extract,\n",
    "                                num_samples_per_landmark=100)"
   ]
  },
  {
   "cell_type": "code",
   "execution_count": null,
   "metadata": {
    "collapsed": true
   },
   "outputs": [],
   "source": [
    "feature_fn = patch_features_rootdir + '/%(stack)s/%(fn)s_lossless_alignedTo_%(anchor_fn)s_cropped/\\\n",
    "%(fn)s_lossless_alignedTo_%(anchor_fn)s_cropped_features.hdf' % dict(stack=stack, fn=fn, anchor_fn=anchor_fn)\n"
   ]
  },
  {
   "cell_type": "code",
   "execution_count": null,
   "metadata": {
    "collapsed": false
   },
   "outputs": [],
   "source": [
    "def addresses_to_features(addresses):\n",
    "    \n",
    "    filename_to_section_allStacks = {}\n",
    "    section_to_filename_allStacks = {}\n",
    "    anchor_fn_allStacks = {}\n",
    "    for stack in ['MD585', 'MD589', 'MD594']:\n",
    "        filename_to_section, section_to_filename = DataManager.load_sorted_filenames(stack)\n",
    "        anchor_fn = DataManager.load_anchor_filename(stack)\n",
    "        \n",
    "        filename_to_section_allStacks[stack] = filename_to_section\n",
    "        section_to_filename_allStacks[stack] = section_to_filename\n",
    "        anchor_fn_allStacks[stack] = anchor_fn\n",
    "        \n",
    "    ###################################################\n",
    "    \n",
    "    feature_list = []\n",
    "    \n",
    "    list_indices_all_stack_section = []\n",
    "\n",
    "    for st_se, group in groupby(sorted(enumerate(addresses), key=lambda (i,(st,se,idx)): (st, se)),\n",
    "           key=lambda (i,(st,se,idx)): (st, se)):\n",
    "\n",
    "        list_indices, addrs = zip(*group)\n",
    "\n",
    "        sampled_grid_indices = [idx for st, se, idx in addrs]\n",
    "\n",
    "        stack, sec = st_se\n",
    "        \n",
    "        anchor_fn = anchor_fn_allStacks[stack]\n",
    "        fn = section_to_filename_allStacks[stack][sec]\n",
    "        \n",
    "        locations_fn = patch_features_rootdir + '/%(stack)s/%(fn)s_lossless_alignedTo_%(anchor_fn)s_cropped/\\\n",
    "%(fn)s_lossless_alignedTo_%(anchor_fn)s_cropped_patch_locations.txt' % dict(stack=stack, fn=fn, anchor_fn=anchor_fn)\n",
    "        \n",
    "        with open(locations_fn, 'r') as f:\n",
    "            locations = [map(int, line.split()) for line in f.readlines()]\n",
    "\n",
    "        all_locations = [idx for idx, x, y in locations]\n",
    "\n",
    "        sampled_list_indices = [all_locations.index(i) for i in sampled_grid_indices]\n",
    "\n",
    "        feature_fn = patch_features_rootdir + '/%(stack)s/%(fn)s_lossless_alignedTo_%(anchor_fn)s_cropped/\\\n",
    "%(fn)s_lossless_alignedTo_%(anchor_fn)s_cropped_features.hdf' % dict(stack=stack, fn=fn, anchor_fn=anchor_fn)\n",
    "\n",
    "        features = load_hdf(feature_fn)\n",
    "        sampled_features = features[sampled_list_indices]\n",
    "        \n",
    "        feature_list += list(sampled_features)\n",
    "\n",
    "        list_indices_all_stack_section += list_indices\n",
    "        \n",
    "    return np.array([feature_list[i] for i in np.argsort(list_indices_all_stack_section)])\n",
    "        "
   ]
  },
  {
   "cell_type": "code",
   "execution_count": null,
   "metadata": {
    "collapsed": true
   },
   "outputs": [],
   "source": [
    "def apply_function_to_dict(func, d):\n",
    "    \"\"\"\n",
    "    Func applies to the list consisting of all elements of d, and return a list.\n",
    "    \"\"\"\n",
    "    result = func(list(chain(*d.values())))\n",
    "    csum = np.cumsum(map(len, d.values()))\n",
    "    new_d = {k: result[(0 if i == 0 else csum[i-1]):csum[i]] for i, k in enumerate(d.keys())}  \n",
    "    return new_d"
   ]
  },
  {
   "cell_type": "code",
   "execution_count": null,
   "metadata": {
    "collapsed": false
   },
   "outputs": [],
   "source": [
    "features = apply_function_to_dict(addresses_to_features, sampled_addresses)"
   ]
  },
  {
   "cell_type": "code",
   "execution_count": null,
   "metadata": {
    "collapsed": true
   },
   "outputs": [],
   "source": []
  },
  {
   "cell_type": "code",
   "execution_count": null,
   "metadata": {
    "collapsed": true
   },
   "outputs": [],
   "source": [
    "# DEBUG region"
   ]
  },
  {
   "cell_type": "code",
   "execution_count": null,
   "metadata": {
    "collapsed": true
   },
   "outputs": [],
   "source": [
    "locations_fn = '/home/yuncong/csd395/CSHL_patch_features_Sat16ClassFinetuned_v2/MD585/MD585-IHC38-2015.07.16-17.00.35_MD585_1_0112_lossless_alignedTo_MD585-N47-2015.07.16-22.50.52_MD585_3_0141_cropped/MD585-IHC38-2015.07.16-17.00.35_MD585_1_0112_lossless_alignedTo_MD585-N47-2015.07.16-22.50.52_MD585_3_0141_cropped_patch_locations.txt'"
   ]
  },
  {
   "cell_type": "code",
   "execution_count": null,
   "metadata": {
    "collapsed": true
   },
   "outputs": [],
   "source": [
    "with open(locations_fn, 'r') as f:\n",
    "            locations = [map(int, line.split()) for line in f.readlines()]"
   ]
  },
  {
   "cell_type": "code",
   "execution_count": null,
   "metadata": {
    "collapsed": false
   },
   "outputs": [],
   "source": [
    "all_locations = [idx for idx, x, y in locations]"
   ]
  },
  {
   "cell_type": "code",
   "execution_count": null,
   "metadata": {
    "collapsed": false,
    "scrolled": true
   },
   "outputs": [],
   "source": [
    "label_gridIndices.loc['12N'].dropna()[212]"
   ]
  },
  {
   "cell_type": "code",
   "execution_count": null,
   "metadata": {
    "collapsed": false,
    "scrolled": true
   },
   "outputs": [],
   "source": [
    "[i for i in all_locations if i > 47800]"
   ]
  },
  {
   "cell_type": "code",
   "execution_count": null,
   "metadata": {
    "collapsed": true
   },
   "outputs": [],
   "source": []
  },
  {
   "cell_type": "code",
   "execution_count": null,
   "metadata": {
    "collapsed": false
   },
   "outputs": [],
   "source": [
    "create_if_not_exists(patch_training_features_rootdir)"
   ]
  },
  {
   "cell_type": "code",
   "execution_count": null,
   "metadata": {
    "collapsed": false
   },
   "outputs": [],
   "source": [
    "for name_u, feats in features.iteritems():\n",
    "    features_fn = os.path.join(patch_training_features_rootdir, name_u + '_features.bp')\n",
    "    bp.pack_ndarray_file(feats, features_fn)"
   ]
  },
  {
   "cell_type": "code",
   "execution_count": null,
   "metadata": {
    "collapsed": true
   },
   "outputs": [],
   "source": []
  },
  {
   "cell_type": "code",
   "execution_count": null,
   "metadata": {
    "collapsed": false,
    "scrolled": true
   },
   "outputs": [],
   "source": [
    "from functools import partial\n",
    "\n",
    "patches = apply_function_to_dict(partial(extract_patches_given_locations_multiple_sections, \n",
    "                                         location_or_grid_index='index', \n",
    "                                         version='rgb-jpg'), \n",
    "                                 location_list)"
   ]
  },
  {
   "cell_type": "code",
   "execution_count": null,
   "metadata": {
    "collapsed": true
   },
   "outputs": [],
   "source": [
    "def random_choice(arr, n, return_indices=False):\n",
    "    m = len(arr)\n",
    "    sampled_indices = np.random.choice(range(m), min(10, m), replace=False)\n",
    "    sampled_arr = [arr[i] for i in sampled_indices]\n",
    "    if return_indices:\n",
    "        return sampled_arr, sampled_indices\n",
    "    else:\n",
    "        return sampled_arr"
   ]
  },
  {
   "cell_type": "code",
   "execution_count": null,
   "metadata": {
    "collapsed": false,
    "scrolled": true
   },
   "outputs": [],
   "source": [
    "for name, patches_this_name in patches.iteritems():\n",
    "    random_patches, random_indices = random_choice(patches_this_name, 10, return_indices=True)\n",
    "    display_images_in_grids(random_patches, nc=5, titles=[location_list[name][i] for i in random_indices])"
   ]
  },
  {
   "cell_type": "code",
   "execution_count": null,
   "metadata": {
    "collapsed": false
   },
   "outputs": [],
   "source": [
    "patch_size, stride, _, _ = get_default_gridspec(stack)"
   ]
  },
  {
   "cell_type": "code",
   "execution_count": null,
   "metadata": {
    "collapsed": false
   },
   "outputs": [],
   "source": [
    "viz = patch_boxes_overlay_on('original', 4, \n",
    "                             [[grid_locations[idx] for st, sec, idx in locations if sec == 188] \n",
    "                              for locations in location_list.values()],\n",
    "                      patch_size=patch_size,\n",
    "                      stack='MD594',\n",
    "                       sec=188)"
   ]
  },
  {
   "cell_type": "code",
   "execution_count": null,
   "metadata": {
    "collapsed": false
   },
   "outputs": [],
   "source": [
    "viz = patch_boxes_overlay_on('original', 4, \n",
    "                             [grid_parameters_to_sample_locations(get_default_gridspec(stack))[47849]],\n",
    "                      patch_size=patch_size,\n",
    "                      stack=stack,\n",
    "                       sec=212)"
   ]
  },
  {
   "cell_type": "code",
   "execution_count": null,
   "metadata": {
    "collapsed": false
   },
   "outputs": [],
   "source": [
    "display_image(viz)"
   ]
  },
  {
   "cell_type": "code",
   "execution_count": null,
   "metadata": {
    "collapsed": true
   },
   "outputs": [],
   "source": []
  },
  {
   "cell_type": "code",
   "execution_count": null,
   "metadata": {
    "collapsed": true
   },
   "outputs": [],
   "source": []
  },
  {
   "cell_type": "code",
   "execution_count": null,
   "metadata": {
    "collapsed": true
   },
   "outputs": [],
   "source": [
    "contours_df = read_hdf(annotation_midbrainIncluded_v2_rootdir + '/%(stack)s/%(stack)s_annotation_v3.h5' % dict(stack=stack), 'contours')\n",
    "contours = contours_df[(contours_df['orientation'] == 'sagittal') & (contours_df['downsample'] == 1)]\n",
    "contours = convert_annotation_v3_original_to_aligned_cropped(contours, stack=stack)"
   ]
  },
  {
   "cell_type": "code",
   "execution_count": null,
   "metadata": {
    "collapsed": false
   },
   "outputs": [],
   "source": [
    "a = contours.loc['104149544493043']['vertices']"
   ]
  },
  {
   "cell_type": "code",
   "execution_count": null,
   "metadata": {
    "collapsed": false,
    "scrolled": true
   },
   "outputs": [],
   "source": [
    "a"
   ]
  },
  {
   "cell_type": "code",
   "execution_count": null,
   "metadata": {
    "collapsed": false
   },
   "outputs": [],
   "source": [
    "grid_parameters_to_sample_locations(get_default_gridspec(stack))[47849]"
   ]
  },
  {
   "cell_type": "code",
   "execution_count": null,
   "metadata": {
    "collapsed": false
   },
   "outputs": [],
   "source": [
    "locations"
   ]
  },
  {
   "cell_type": "code",
   "execution_count": null,
   "metadata": {
    "collapsed": false
   },
   "outputs": [],
   "source": [
    "section_to_filename"
   ]
  },
  {
   "cell_type": "code",
   "execution_count": null,
   "metadata": {
    "collapsed": false
   },
   "outputs": [],
   "source": [
    "plt.imshow(DataManager.load_thumbnail_mask_v2(stack, 212))"
   ]
  },
  {
   "cell_type": "code",
   "execution_count": null,
   "metadata": {
    "collapsed": false
   },
   "outputs": [],
   "source": [
    "plt.plot(a[:,1], a[:,0])\n",
    "plt.scatter([9240], [12768])"
   ]
  },
  {
   "cell_type": "code",
   "execution_count": null,
   "metadata": {
    "collapsed": true
   },
   "outputs": [],
   "source": []
  },
  {
   "cell_type": "code",
   "execution_count": null,
   "metadata": {
    "collapsed": false
   },
   "outputs": [],
   "source": [
    "# stack_section_list = set([(stk, sec) for name, loc_list in location_list.iteritems() for stk, sec, ind in loc_list ])"
   ]
  },
  {
   "cell_type": "code",
   "execution_count": null,
   "metadata": {
    "collapsed": false
   },
   "outputs": [],
   "source": [
    "# indices_locations_dict = {(stack, sec): np.loadtxt('/home/yuncong/CSHL_patch_locations/%(stack)s/%(stack)s_%(sec)04d_roi1_indices_locations.txt' % \\\n",
    "#                                                    {'stack':stack, 'sec':sec}, dtype=np.int)\n",
    "#                           for stk, sec in stack_section_list}"
   ]
  },
  {
   "cell_type": "code",
   "execution_count": null,
   "metadata": {
    "collapsed": true
   },
   "outputs": [],
   "source": [
    "from itertools import groupby"
   ]
  },
  {
   "cell_type": "code",
   "execution_count": null,
   "metadata": {
    "collapsed": true
   },
   "outputs": [],
   "source": [
    "def load_dnn_features(addresses):\n",
    "    \"\"\"\n",
    "    addresses: list of (stack, section, grid_index)\n",
    "    \"\"\"\n",
    "    \n",
    "    addresses_with_index = [x + (i,) for i, x in enumerate(addresses)]\n",
    "    \n",
    "    index_feature_tuple_list = []\n",
    "    for stack_section, addresses_this_group in groupby(addresses_with_index, lambda x: (x[0], x[1])):\n",
    "    \n",
    "        stack, sec = stack_section\n",
    "    \n",
    "        gridIndex_location_list = np.loadtxt('/home/yuncong/CSHL_patch_locations/%(stack)s/%(stack)s_%(sec)04d_roi1_indices_locations.txt' % \\\n",
    "                                                       {'stack':stack, 'sec':sec}, dtype=np.int)\n",
    "\n",
    "        feature_list_curr_section = load_hdf('/home/yuncong/CSHL_patch_features_Sat16ClassFinetuned/%(stack)s/%(stack)s_%(sec)04d_roi1_features.hdf' % \\\n",
    "                                                       {'stack':stack, 'sec':sec})\n",
    "        \n",
    "        gridIndex_list = [ind for ind, x, y in gridIndex_location_list]\n",
    "        index_feature_tuples = [(ind, feature_list_curr_section[gridIndex_list.index(grid_ind)]) for _, _, grid_ind, ind in addresses_this_group]\n",
    "        index_feature_tuple_list += index_feature_tuples\n",
    "    \n",
    "    features_list_originalOrder = [f for i, f in sorted(index_feature_tuple_list)]\n",
    "    return features_list_originalOrder"
   ]
  },
  {
   "cell_type": "code",
   "execution_count": null,
   "metadata": {
    "collapsed": false,
    "scrolled": true
   },
   "outputs": [],
   "source": [
    "features = apply_function_to_dict(load_dnn_features, location_list)"
   ]
  },
  {
   "cell_type": "code",
   "execution_count": null,
   "metadata": {
    "collapsed": true
   },
   "outputs": [],
   "source": []
  },
  {
   "cell_type": "code",
   "execution_count": null,
   "metadata": {
    "collapsed": false,
    "scrolled": true
   },
   "outputs": [],
   "source": [
    "## load\n",
    "patches_allClasses = {}\n",
    "\n",
    "for l in labels_surroundIncluded:\n",
    "    print l\n",
    "    vs = load_hdf(training_patches_dir + '/%(stack)s_%(label)s.hdf' % {'stack':stack, 'label':l})\n",
    "    patches_allClasses[l] = vs"
   ]
  },
  {
   "cell_type": "code",
   "execution_count": null,
   "metadata": {
    "collapsed": true
   },
   "outputs": [],
   "source": [
    "## save\n",
    "for l, vs in patches_allClasses_sat.iteritems():\n",
    "    save_hdf(vs, training_patches_dir + '/%(stack)s_%(label)s_sat.hdf' % {'stack':stack, 'label':l})"
   ]
  },
  {
   "cell_type": "code",
   "execution_count": null,
   "metadata": {
    "collapsed": false,
    "scrolled": true
   },
   "outputs": [],
   "source": [
    "## load\n",
    "patches_allClasses_sat = {}\n",
    "\n",
    "for l in labels_surroundIncluded:\n",
    "    print l\n",
    "    vs = load_hdf(training_patches_dir + '/%(stack)s_%(label)s_sat.hdf' % {'stack':stack, 'label':l})\n",
    "    patches_allClasses_sat[l] = vs"
   ]
  },
  {
   "cell_type": "code",
   "execution_count": null,
   "metadata": {
    "collapsed": true
   },
   "outputs": [],
   "source": [
    "# patches_allClasses_reshaped = dict([( l, np.rollaxis(patches, 3, 1) ) \n",
    "#                                     for l, patches in patches_allClasses.iteritems()])"
   ]
  },
  {
   "cell_type": "code",
   "execution_count": null,
   "metadata": {
    "collapsed": false
   },
   "outputs": [],
   "source": [
    "patches_allClasses_sat_reshaped = dict([(l, patches[:,None,:,:] ) \n",
    "                                        for l, patches in patches_allClasses_sat.iteritems()])"
   ]
  },
  {
   "cell_type": "code",
   "execution_count": null,
   "metadata": {
    "collapsed": false,
    "scrolled": true
   },
   "outputs": [],
   "source": [
    "class_len = dict(sorted([(label, len(patches)) for label, patches in patches_allClasses.iteritems()]))\n",
    "print class_len"
   ]
  },
  {
   "cell_type": "code",
   "execution_count": null,
   "metadata": {
    "collapsed": true
   },
   "outputs": [],
   "source": []
  },
  {
   "cell_type": "code",
   "execution_count": null,
   "metadata": {
    "collapsed": false
   },
   "outputs": [],
   "source": [
    "model_name='inception-stage1'\n",
    "model_iteration = 10\n",
    "init_model = mx.model.FeedForward.load(os.path.join(model_dir, model_name), \n",
    "                                     model_iteration, \n",
    "                                     ctx=mx.gpu())\n",
    "\n",
    "arg_params = init_model.arg_params.copy()\n",
    "arg_params.pop('fullc_bias');\n",
    "arg_params.pop('fullc_weight');\n",
    "arg_params['conv_1_weight'] = init_model.arg_params['conv_1_weight'].asnumpy()[:,[0],:,:]\n",
    "\n",
    "flatten_output = init_model.symbol.get_internals()['flatten_output']\n",
    "\n",
    "model = mx.model.FeedForward(ctx=mx.gpu(), symbol=flatten_output, num_epoch=model_iteration,\n",
    "                            arg_params=init_model.arg_params, aux_params=init_model.aux_params,\n",
    "                            allow_extra_params=True)"
   ]
  },
  {
   "cell_type": "code",
   "execution_count": null,
   "metadata": {
    "collapsed": true
   },
   "outputs": [],
   "source": [
    "# mean_img = mx.nd.load(os.path.join(model_dir, 'mean_224.nd'))['mean_img'].asnumpy()[0]"
   ]
  },
  {
   "cell_type": "code",
   "execution_count": null,
   "metadata": {
    "collapsed": true
   },
   "outputs": [],
   "source": [
    "# dm.set_slice(160)\n",
    "\n",
    "# img_hsv = rgb2hsv(dm.image_rgb_jpg[1500:1600, 1500:1600])\n",
    "\n",
    "# fig, axes = plt.subplots(3, 2, figsize=(2*3, 3*3))\n",
    "# axes[0, 0].imshow(img_hsv[..., 0], cmap=plt.cm.gray, vmin=0, vmax=1);\n",
    "# axes[0, 0].set_title('hue');\n",
    "# axes[0, 1].imshow(rescale_intensity(img_hsv[..., 0]), cmap=plt.cm.gray, vmin=0, vmax=1);\n",
    "# axes[0, 1].set_title('rescaled hue');\n",
    "# axes[1, 0].imshow((1-img_hsv[..., 1]), cmap=plt.cm.gray, vmin=0, vmax=1);\n",
    "# axes[1, 0].set_title('saturation');\n",
    "# axes[1, 1].imshow(rescale_intensity(1-img_hsv[..., 1]), cmap=plt.cm.gray, vmin=0, vmax=1);\n",
    "# axes[1, 1].set_title('rescaled saturation');\n",
    "# axes[2, 0].imshow(img_hsv[..., 2], cmap=plt.cm.gray, vmin=0, vmax=1);\n",
    "# axes[2, 0].set_title('value');\n",
    "# axes[2, 1].imshow(rescale_intensity(img_hsv[..., 2]), cmap=plt.cm.gray, vmin=0, vmax=1);\n",
    "# axes[2, 1].set_title('rescaled value');"
   ]
  },
  {
   "cell_type": "code",
   "execution_count": null,
   "metadata": {
    "collapsed": false
   },
   "outputs": [],
   "source": [
    "img_sat = patches_allClasses_sat['sp5'][np.random.randint(len(patches_allClasses_sat['sp5']))]\n",
    "# img_sat = patches_allClasses_sat_concatenated[np.random.randint(patches_allClasses_sat_concatenated.shape[0])]\n",
    "plt.imshow(img_sat, cmap=plt.cm.gray, vmin=0, vmax=255);\n",
    "plt.colorbar();"
   ]
  },
  {
   "cell_type": "code",
   "execution_count": null,
   "metadata": {
    "collapsed": false
   },
   "outputs": [],
   "source": [
    "mean_img = np.load(model_dir + '/saturation_mean_224.npy')\n",
    "\n",
    "plt.imshow(mean_img, cmap=plt.cm.gray, vmin=0, vmax=255);\n",
    "plt.title('mean image');\n",
    "plt.colorbar();"
   ]
  },
  {
   "cell_type": "code",
   "execution_count": null,
   "metadata": {
    "collapsed": true
   },
   "outputs": [],
   "source": [
    "patches_allClasses_normalized = dict([(label, patches - mean_img) \n",
    "                                      for label, patches in patches_allClasses_sat_reshaped.iteritems()])"
   ]
  },
  {
   "cell_type": "code",
   "execution_count": null,
   "metadata": {
    "collapsed": true
   },
   "outputs": [],
   "source": []
  },
  {
   "cell_type": "code",
   "execution_count": null,
   "metadata": {
    "collapsed": true
   },
   "outputs": [],
   "source": [
    "model_name = 'Sat16ClassFinetuned'\n",
    "model_iteration = 10\n",
    "\n",
    "model = mx.model.FeedForward.load(os.path.join(model_dir, model_name), model_iteration, ctx=mx.gpu())\n",
    "\n",
    "flatten_output = model.symbol.get_internals()['flatten_output']\n",
    "\n",
    "model = mx.model.FeedForward(ctx=mx.gpu(), symbol=flatten_output, num_epoch=model_iteration,\n",
    "                            arg_params=model.arg_params, aux_params=model.aux_params,\n",
    "                            allow_extra_params=True)"
   ]
  },
  {
   "cell_type": "code",
   "execution_count": null,
   "metadata": {
    "collapsed": false
   },
   "outputs": [],
   "source": [
    "training_features_dir = '/home/yuncong/CSHL_patch_features_%(model_name)s/train_v3' % {'model_name': model_name}\n",
    "create_if_not_exists(training_features_dir)"
   ]
  },
  {
   "cell_type": "code",
   "execution_count": null,
   "metadata": {
    "collapsed": false,
    "scrolled": true
   },
   "outputs": [],
   "source": [
    "for label, patches in patches_allClasses_normalized.iteritems():\n",
    "    \n",
    "    print label\n",
    "    \n",
    "    n = len(patches)\n",
    "    \n",
    "#     batch_size = 512 # increasing to 892 does not save any time\n",
    "    batch_size = min(class_len.values())\n",
    "\n",
    "    if n < batch_size:\n",
    "        sys.stderr.write('data size smaller than batch size: %s\\n' % label)\n",
    "        continue\n",
    "    \n",
    "    train_iter = mx.io.NDArrayIter(\n",
    "        patches, \n",
    "        np.zeros((n, ), np.int),\n",
    "        batch_size=batch_size,\n",
    "        shuffle=False\n",
    "    )\n",
    "\n",
    "    t = time.time()\n",
    "\n",
    "    features = model.predict(train_iter)\n",
    "\n",
    "    save_hdf(features, training_features_dir + '/%(stack)s_%(label)s_features.hdf' % \\\n",
    "             {'stack': stack, 'label': label})\n",
    "    \n",
    "    sys.stderr.write('predict: %.2f seconds\\n' % (time.time() - t)) # ~ 3s/class (sample per polygon 10)"
   ]
  },
  {
   "cell_type": "code",
   "execution_count": null,
   "metadata": {
    "collapsed": true
   },
   "outputs": [],
   "source": []
  }
 ],
 "metadata": {
  "kernelspec": {
   "display_name": "Python 2",
   "language": "python",
   "name": "python2"
  },
  "language_info": {
   "codemirror_mode": {
    "name": "ipython",
    "version": 2
   },
   "file_extension": ".py",
   "mimetype": "text/x-python",
   "name": "python",
   "nbconvert_exporter": "python",
   "pygments_lexer": "ipython2",
   "version": "2.7.3"
  }
 },
 "nbformat": 4,
 "nbformat_minor": 0
}
