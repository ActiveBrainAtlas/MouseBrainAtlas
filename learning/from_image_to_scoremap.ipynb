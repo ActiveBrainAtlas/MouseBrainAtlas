{
 "cells": [
  {
   "cell_type": "code",
   "execution_count": 1,
   "metadata": {
    "scrolled": true
   },
   "outputs": [
    {
     "name": "stdout",
     "output_type": "stream",
     "text": [
      "Setting environment for Precision WorkStation\n",
      "/media/yuncong/BstemAtlasData/CSHL_data_processed/MD585/MD585_prep2_thumbnail/MD585-N16-2015.07.16-20.32.33_MD585_2_0047_prep2_thumbnail.tif\n",
      "/media/yuncong/BstemAtlasData/CSHL_data_processed/MD589/MD589_prep2_thumbnail/MD589-N16-2015.07.30-17.03.43_MD589_3_0048_prep2_thumbnail.tif\n"
     ]
    },
    {
     "name": "stderr",
     "output_type": "stream",
     "text": [
      "No vtk\n",
      "No vtkNot using image_cache.\n",
      "Not using image_cache.\n",
      "Not using image_cache.\n",
      "Not using image_cache.\n",
      "Not using image_cache.\n",
      "Not using image_cache.\n",
      "Not using image_cache.\n",
      "Not using image_cache.\n",
      "Not using image_cache.\n",
      "Not using image_cache.\n",
      "Not using image_cache.\n",
      "Not using image_cache.\n",
      "Not using image_cache.\n",
      "Not using image_cache.\n"
     ]
    },
    {
     "name": "stdout",
     "output_type": "stream",
     "text": [
      "/media/yuncong/BstemAtlasData/CSHL_data_processed/MD590/MD590_prep2_thumbnail/MD590-IHC17-2015.08.10-19.09.09_MD590_2_0050_prep2_thumbnail.tif\n",
      "/media/yuncong/BstemAtlasData/CSHL_data_processed/MD591/MD591_prep2_thumbnail/MD591-IHC17-2015.08.28-04.23.47_MD591_1_0049_prep2_thumbnail.tif\n",
      "/media/yuncong/BstemAtlasData/CSHL_data_processed/MD592/MD592_prep2_thumbnail/MD592-N16-2015.08.22-00.50.39_MD592_2_0047_prep2_thumbnail.tif\n",
      "/media/yuncong/BstemAtlasData/CSHL_data_processed/MD593/MD593_prep2_thumbnail/MD593-N15-2015.08.21-16.53.02_MD593_3_0045_prep2_thumbnail.tif\n",
      "/media/yuncong/BstemAtlasData/CSHL_data_processed/MD594/MD594_prep2_thumbnail/MD594-IHC16-2015.08.26-16.11.01_MD594_1_0046_prep2_thumbnail.tif\n",
      "/media/yuncong/BstemAtlasData/CSHL_data_processed/MD595/MD595_prep2_thumbnail/MD595-IHC12-2015.09.15-01.21.39_MD595_2_0035_prep2_thumbnail.tif\n",
      "/media/yuncong/BstemAtlasData/CSHL_data_processed/MD598/MD598_prep2_thumbnail/MD598-N18-2015.09.29-17.40.03_MD598_3_0054_prep2_thumbnail.tif\n",
      "/media/yuncong/BstemAtlasData/CSHL_data_processed/MD599/MD599_prep2_thumbnail/MD599-N19-2015.10.02-18.12.13_MD599_3_0057_prep2_thumbnail.tif\n",
      "/media/yuncong/BstemAtlasData/CSHL_data_processed/MD602/MD602_prep2_thumbnail/MD602-N19-2015.12.01-16.24.09_MD602_2_0056_prep2_thumbnail.tif\n",
      "/media/yuncong/BstemAtlasData/CSHL_data_processed/MD603/MD603_prep2_thumbnail/MD603-N11-2016.03.02-12.51.47_MD603_1_0031_prep2_thumbnail.tif\n",
      "/media/yuncong/BstemAtlasData/CSHL_data_processed/MD635/MD635_prep2_thumbnail/MD635-F25-2016.05.18-21.02.30_MD635_3_0075_prep2_thumbnail.tif\n",
      "/media/yuncong/BstemAtlasData/CSHL_data_processed/MD653/MD653_prep2_thumbnail/MD653-F15-2016.12.20-21.04.12_MD653_1_0043_prep2_thumbnail.tif\n",
      "/media/yuncong/BstemAtlasData/CSHL_data_processed/MD652/MD652_prep2_thumbnail/MD652-F15-2016.12.16-20.45.52_MD652_3_0045_prep2_thumbnail.tif\n",
      "/media/yuncong/BstemAtlasData/CSHL_data_processed/MD642/MD642_prep2_thumbnail/MD642-N14-2017.01.18-16.25.58_MD642_2_0041_prep2_thumbnail.tif\n"
     ]
    },
    {
     "name": "stderr",
     "output_type": "stream",
     "text": [
      "Not using image_cache.\n",
      "Not using image_cache.\n",
      "Not using image_cache.\n",
      "Not using image_cache.\n",
      "Not using image_cache.\n",
      "Not using image_cache.\n"
     ]
    },
    {
     "name": "stdout",
     "output_type": "stream",
     "text": [
      "/media/yuncong/BstemAtlasData/CSHL_data_processed/MD657/MD657_prep2_thumbnail/MD657-N13-2017.02.22-14.33.34_MD657_3_0039_prep2_thumbnail.tif\n",
      "/media/yuncong/BstemAtlasData/CSHL_data_processed/MD658/MD658_prep2_thumbnail/MD658-N18-2017.03.31-17.34.22_MD658_2_0053_prep2_thumbnail.tif\n",
      "/media/yuncong/BstemAtlasData/CSHL_data_processed/MD661/MD661_prep2_thumbnail/MD662&661-F30-2017.06.05-14.49.48_MD661_1_0088_prep2_thumbnail.tif\n",
      "/media/yuncong/BstemAtlasData/CSHL_data_processed/MD662/MD662_prep2_thumbnail/MD662&661-F35-2017.06.05-17.08.18_MD662_1_0103_prep2_thumbnail.tif\n",
      "rm -rf \"/media/yuncong/BstemAtlasData/CSHL_data_processed/ChatCryoJane201710/ChatCryoJane201710_prep2_thumbnail/ChatCryoJane201710_slide1-S1_prep2_thumbnail.tif\" && mkdir -p \"/media/yuncong/BstemAtlasData/CSHL_data_processed/ChatCryoJane201710/ChatCryoJane201710_prep2_thumbnail\"\n",
      "0\n",
      "aws s3 cp \"s3://mousebrainatlas-data/CSHL_data_processed/ChatCryoJane201710/ChatCryoJane201710_prep2_thumbnail/ChatCryoJane201710_slide1-S1_prep2_thumbnail.tif\" \"/media/yuncong/BstemAtlasData/CSHL_data_processed/ChatCryoJane201710/ChatCryoJane201710_prep2_thumbnail/ChatCryoJane201710_slide1-S1_prep2_thumbnail.tif\"\n",
      "1\n",
      "/media/yuncong/BstemAtlasData/CSHL_data_processed/ChatCryoJane201710/ChatCryoJane201710_prep2_thumbnail/ChatCryoJane201710_slide1-S1_prep2_thumbnail.tif\n",
      "/media/yuncong/BstemAtlasData/CSHL_data_processed/ChatCryoJane201710/ChatCryoJane201710_prep2_thumbnail_Ntb/ChatCryoJane201710_slide1-S1_prep2_thumbnail_Ntb.tif\n"
     ]
    },
    {
     "name": "stderr",
     "output_type": "stream",
     "text": [
      "Not using image_cache.\n",
      "Not using image_cache.\n",
      "/usr/local/lib/python2.7/dist-packages/sklearn/cross_validation.py:44: DeprecationWarning: This module was deprecated in version 0.18 in favor of the model_selection module into which all the refactored classes and functions are moved. Also note that the interface of the new CV iterators are different from that of this module. This module will be removed in 0.20.\n",
      "  \"This module will be removed in 0.20.\", DeprecationWarning)\n"
     ]
    }
   ],
   "source": [
    "%reload_ext autoreload\n",
    "%autoreload 2\n",
    "\n",
    "import os\n",
    "import argparse\n",
    "import sys\n",
    "import time\n",
    "\n",
    "import numpy as np\n",
    "from multiprocess import Pool\n",
    "\n",
    "sys.path.append(os.path.join(os.environ['REPO_DIR'], 'utilities'))\n",
    "from utilities2015 import *\n",
    "from metadata import *\n",
    "from data_manager import *\n",
    "from learning_utilities import *\n",
    "\n",
    "%matplotlib inline"
   ]
  },
  {
   "cell_type": "code",
   "execution_count": 2,
   "metadata": {},
   "outputs": [
    {
     "name": "stderr",
     "output_type": "stream",
     "text": [
      "/usr/local/lib/python2.7/dist-packages/mxnet/module/base_module.py:53: UserWarning: \u001b[91mYou created Module with Module(..., label_names=['softmax_label']) but input with name 'softmax_label' is not found in symbol.list_arguments(). Did you mean one of:\n",
      "\tdata\u001b[0m\n",
      "  warnings.warn(msg)\n",
      "/usr/local/lib/python2.7/dist-packages/mxnet/module/base_module.py:65: UserWarning: Data provided by label_shapes don't match names specified by label_names ([] vs. ['softmax_label'])\n",
      "  warnings.warn(msg)\n"
     ]
    }
   ],
   "source": [
    "batch_size = 256\n",
    "model_dir_name = 'inception-bn-blue'\n",
    "model_name = 'inception-bn-blue'\n",
    "model, mean_img = load_mxnet_model(model_dir_name=model_dir_name, model_name=model_name, \n",
    "                                   num_gpus=1, batch_size=batch_size)"
   ]
  },
  {
   "cell_type": "code",
   "execution_count": 3,
   "metadata": {
    "scrolled": true
   },
   "outputs": [
    {
     "data": {
      "text/html": [
       "<div>\n",
       "<table border=\"1\" class=\"dataframe\">\n",
       "  <thead>\n",
       "    <tr style=\"text-align: right;\">\n",
       "      <th></th>\n",
       "      <th>input_version</th>\n",
       "      <th>windowing_id</th>\n",
       "      <th>feature_network</th>\n",
       "      <th>feature_classifier_id</th>\n",
       "      <th>comments</th>\n",
       "    </tr>\n",
       "    <tr>\n",
       "      <th>detector_id</th>\n",
       "      <th></th>\n",
       "      <th></th>\n",
       "      <th></th>\n",
       "      <th></th>\n",
       "      <th></th>\n",
       "    </tr>\n",
       "  </thead>\n",
       "  <tbody>\n",
       "    <tr>\n",
       "      <th>1</th>\n",
       "      <td>gray</td>\n",
       "      <td>1</td>\n",
       "      <td>inception-bn-blue</td>\n",
       "      <td>38</td>\n",
       "      <td>NaN</td>\n",
       "    </tr>\n",
       "    <tr>\n",
       "      <th>2</th>\n",
       "      <td>grayL500H0</td>\n",
       "      <td>1</td>\n",
       "      <td>inception-bn-blue</td>\n",
       "      <td>38</td>\n",
       "      <td>NaN</td>\n",
       "    </tr>\n",
       "    <tr>\n",
       "      <th>3</th>\n",
       "      <td>grayL1000H0</td>\n",
       "      <td>1</td>\n",
       "      <td>inception-bn-blue</td>\n",
       "      <td>38</td>\n",
       "      <td>NaN</td>\n",
       "    </tr>\n",
       "    <tr>\n",
       "      <th>4</th>\n",
       "      <td>grayL1500H0</td>\n",
       "      <td>1</td>\n",
       "      <td>inception-bn-blue</td>\n",
       "      <td>38</td>\n",
       "      <td>NaN</td>\n",
       "    </tr>\n",
       "    <tr>\n",
       "      <th>5</th>\n",
       "      <td>grayL2000H0</td>\n",
       "      <td>1</td>\n",
       "      <td>inception-bn-blue</td>\n",
       "      <td>38</td>\n",
       "      <td>NaN</td>\n",
       "    </tr>\n",
       "    <tr>\n",
       "      <th>6</th>\n",
       "      <td>grayL2500H0</td>\n",
       "      <td>1</td>\n",
       "      <td>inception-bn-blue</td>\n",
       "      <td>38</td>\n",
       "      <td>NaN</td>\n",
       "    </tr>\n",
       "    <tr>\n",
       "      <th>7</th>\n",
       "      <td>grayL600H0</td>\n",
       "      <td>1</td>\n",
       "      <td>inception-bn-blue</td>\n",
       "      <td>38</td>\n",
       "      <td>NaN</td>\n",
       "    </tr>\n",
       "    <tr>\n",
       "      <th>8</th>\n",
       "      <td>grayL700H0</td>\n",
       "      <td>1</td>\n",
       "      <td>inception-bn-blue</td>\n",
       "      <td>38</td>\n",
       "      <td>NaN</td>\n",
       "    </tr>\n",
       "    <tr>\n",
       "      <th>9</th>\n",
       "      <td>grayL800H0</td>\n",
       "      <td>1</td>\n",
       "      <td>inception-bn-blue</td>\n",
       "      <td>38</td>\n",
       "      <td>NaN</td>\n",
       "    </tr>\n",
       "    <tr>\n",
       "      <th>10</th>\n",
       "      <td>grayL900H0</td>\n",
       "      <td>1</td>\n",
       "      <td>inception-bn-blue</td>\n",
       "      <td>38</td>\n",
       "      <td>NaN</td>\n",
       "    </tr>\n",
       "    <tr>\n",
       "      <th>12</th>\n",
       "      <td>grayDefault</td>\n",
       "      <td>4</td>\n",
       "      <td>inception-bn-blue</td>\n",
       "      <td>72</td>\n",
       "      <td>NaN</td>\n",
       "    </tr>\n",
       "    <tr>\n",
       "      <th>13</th>\n",
       "      <td>grayDefault</td>\n",
       "      <td>5</td>\n",
       "      <td>inception-bn-blue</td>\n",
       "      <td>73</td>\n",
       "      <td>NaN</td>\n",
       "    </tr>\n",
       "    <tr>\n",
       "      <th>14</th>\n",
       "      <td>grayDefault</td>\n",
       "      <td>5</td>\n",
       "      <td>inception-bn-blue</td>\n",
       "      <td>72</td>\n",
       "      <td>NaN</td>\n",
       "    </tr>\n",
       "    <tr>\n",
       "      <th>15</th>\n",
       "      <td>gray</td>\n",
       "      <td>5</td>\n",
       "      <td>inception-bn-blue</td>\n",
       "      <td>73</td>\n",
       "      <td>NaN</td>\n",
       "    </tr>\n",
       "    <tr>\n",
       "      <th>16</th>\n",
       "      <td>gray</td>\n",
       "      <td>6</td>\n",
       "      <td>inception-bn-blue</td>\n",
       "      <td>130</td>\n",
       "      <td>twice as large patches</td>\n",
       "    </tr>\n",
       "    <tr>\n",
       "      <th>17</th>\n",
       "      <td>grayDefault</td>\n",
       "      <td>7</td>\n",
       "      <td>inception-bn-blue</td>\n",
       "      <td>73</td>\n",
       "      <td>for neurotrace data matched to CSHL nissl; For...</td>\n",
       "    </tr>\n",
       "    <tr>\n",
       "      <th>18</th>\n",
       "      <td>grayDefault</td>\n",
       "      <td>7</td>\n",
       "      <td>inception-bn-blue</td>\n",
       "      <td>38</td>\n",
       "      <td>for neurotrace data matched to CSHL nissl; For...</td>\n",
       "    </tr>\n",
       "    <tr>\n",
       "      <th>998</th>\n",
       "      <td>normalized_-1_5</td>\n",
       "      <td>7</td>\n",
       "      <td>inception-bn-blue</td>\n",
       "      <td>998</td>\n",
       "      <td>trained using normalized MD589/MD594/MD585 wit...</td>\n",
       "    </tr>\n",
       "    <tr>\n",
       "      <th>999</th>\n",
       "      <td>normalized_-1_5</td>\n",
       "      <td>7</td>\n",
       "      <td>inception-bn-blue</td>\n",
       "      <td>999</td>\n",
       "      <td>trained from auto-aligned MD661/MD662 before c...</td>\n",
       "    </tr>\n",
       "  </tbody>\n",
       "</table>\n",
       "</div>"
      ],
      "text/plain": [
       "               input_version  windowing_id    feature_network  \\\n",
       "detector_id                                                     \n",
       "1                       gray             1  inception-bn-blue   \n",
       "2                 grayL500H0             1  inception-bn-blue   \n",
       "3                grayL1000H0             1  inception-bn-blue   \n",
       "4                grayL1500H0             1  inception-bn-blue   \n",
       "5                grayL2000H0             1  inception-bn-blue   \n",
       "6                grayL2500H0             1  inception-bn-blue   \n",
       "7                 grayL600H0             1  inception-bn-blue   \n",
       "8                 grayL700H0             1  inception-bn-blue   \n",
       "9                 grayL800H0             1  inception-bn-blue   \n",
       "10                grayL900H0             1  inception-bn-blue   \n",
       "12               grayDefault             4  inception-bn-blue   \n",
       "13               grayDefault             5  inception-bn-blue   \n",
       "14               grayDefault             5  inception-bn-blue   \n",
       "15                      gray             5  inception-bn-blue   \n",
       "16                      gray             6  inception-bn-blue   \n",
       "17               grayDefault             7  inception-bn-blue   \n",
       "18               grayDefault             7  inception-bn-blue   \n",
       "998          normalized_-1_5             7  inception-bn-blue   \n",
       "999          normalized_-1_5             7  inception-bn-blue   \n",
       "\n",
       "             feature_classifier_id  \\\n",
       "detector_id                          \n",
       "1                               38   \n",
       "2                               38   \n",
       "3                               38   \n",
       "4                               38   \n",
       "5                               38   \n",
       "6                               38   \n",
       "7                               38   \n",
       "8                               38   \n",
       "9                               38   \n",
       "10                              38   \n",
       "12                              72   \n",
       "13                              73   \n",
       "14                              72   \n",
       "15                              73   \n",
       "16                             130   \n",
       "17                              73   \n",
       "18                              38   \n",
       "998                            998   \n",
       "999                            999   \n",
       "\n",
       "                                                      comments  \n",
       "detector_id                                                     \n",
       "1                                                          NaN  \n",
       "2                                                          NaN  \n",
       "3                                                          NaN  \n",
       "4                                                          NaN  \n",
       "5                                                          NaN  \n",
       "6                                                          NaN  \n",
       "7                                                          NaN  \n",
       "8                                                          NaN  \n",
       "9                                                          NaN  \n",
       "10                                                         NaN  \n",
       "12                                                         NaN  \n",
       "13                                                         NaN  \n",
       "14                                                         NaN  \n",
       "15                                                         NaN  \n",
       "16                                      twice as large patches  \n",
       "17           for neurotrace data matched to CSHL nissl; For...  \n",
       "18           for neurotrace data matched to CSHL nissl; For...  \n",
       "998          trained using normalized MD589/MD594/MD585 wit...  \n",
       "999          trained from auto-aligned MD661/MD662 before c...  "
      ]
     },
     "execution_count": 3,
     "metadata": {},
     "output_type": "execute_result"
    }
   ],
   "source": [
    "detector_settings"
   ]
  },
  {
   "cell_type": "code",
   "execution_count": 4,
   "metadata": {
    "collapsed": true
   },
   "outputs": [],
   "source": [
    "stack = 'MD589'\n",
    "# stack = 'ChatCryoJane201710'\n",
    "# stack = 'MD661'"
   ]
  },
  {
   "cell_type": "code",
   "execution_count": 5,
   "metadata": {},
   "outputs": [
    {
     "name": "stdout",
     "output_type": "stream",
     "text": [
      "input_version: normalized_-1_5\n"
     ]
    }
   ],
   "source": [
    "out_resolution_um = 10.\n",
    "out_resolution_str = '%.1fum' % out_resolution_um\n",
    "\n",
    "detector_id = 998\n",
    "print 'input_version:', detector_settings.loc[detector_id]['input_version']"
   ]
  },
  {
   "cell_type": "code",
   "execution_count": 6,
   "metadata": {
    "collapsed": true
   },
   "outputs": [],
   "source": [
    "detector_setting = detector_settings.loc[detector_id]"
   ]
  },
  {
   "cell_type": "code",
   "execution_count": 7,
   "metadata": {
    "collapsed": true,
    "scrolled": true
   },
   "outputs": [],
   "source": [
    "clfs = DataManager.load_classifiers(classifier_id=detector_setting['feature_classifier_id'])\n",
    "# clfs = {'5N': clfs['5N']}"
   ]
  },
  {
   "cell_type": "code",
   "execution_count": 8,
   "metadata": {
    "collapsed": true
   },
   "outputs": [],
   "source": [
    "win_id = detector_setting['windowing_id']"
   ]
  },
  {
   "cell_type": "code",
   "execution_count": 9,
   "metadata": {
    "scrolled": true
   },
   "outputs": [
    {
     "name": "stdout",
     "output_type": "stream",
     "text": [
      "aws s3 cp --recursive \"s3://mousebrainatlas-data/CSHL_labelings_v3/MD589\" \"/home/yuncong/CSHL_labelings_v3/MD589\" --exclude \"*\" --include \"*contours*\"\n",
      "0\n",
      "latest timestamp:  10042017100807\n",
      "150 170\n"
     ]
    }
   ],
   "source": [
    "sections = get_local_regions(stack=stack, by_human=True, suffix='contours', structures=['5N_L'], level=0.5)['5N_L'].keys()\n",
    "print np.min(sections), np.max(sections)"
   ]
  },
  {
   "cell_type": "code",
   "execution_count": null,
   "metadata": {
    "collapsed": true
   },
   "outputs": [],
   "source": [
    "# ChatCryoJane201710 107-121 5N\n",
    "# MD598 162-171 5N\n",
    "# MD661 139-163 5N"
   ]
  },
  {
   "cell_type": "code",
   "execution_count": 10,
   "metadata": {
    "scrolled": true
   },
   "outputs": [
    {
     "name": "stdout",
     "output_type": "stream",
     "text": [
      "0\n",
      "aws s3 cp \"/home/yuncong/CSHL_scoremap_viz/10.0um/12N/MD589/detector998/prep2/MD589-N68-2015.07.30-20.43.04_MD589_2_0203_prep2_10.0um_12N_detector998_scoremapViz.jpg\" \"s3://mousebrainatlas-data/CSHL_scoremap_viz/10.0um/12N/MD589/detector998/prep2/MD589-N68-2015.07.30-20.43.04_MD589_2_0203_prep2_10.0um_12N_detector998_scoremapViz.jpg\"\n",
      "0\n",
      "aws s3 cp \"/home/yuncong/CSHL_scoremaps/10.0um/MD589/MD589_prep2_10.0um_detector998/MD589-N68-2015.07.30-20.43.04_MD589_2_0203_prep2_10.0um_detector998/MD589-N68-2015.07.30-20.43.04_MD589_2_0203_prep2_10.0um_detector998_RMC_scoremap.bp\" \"s3://mousebrainatlas-data/CSHL_scoremaps/10.0um/MD589/MD589_prep2_10.0um_detector998/MD589-N68-2015.07.30-20.43.04_MD589_2_0203_prep2_10.0um_detector998/MD589-N68-2015.07.30-20.43.04_MD589_2_0203_prep2_10.0um_detector998_RMC_scoremap.bp\"\n",
      "0\n",
      "aws s3 cp \"/home/yuncong/CSHL_scoremap_viz/10.0um/RMC/MD589/detector998/prep2/MD589-N68-2015.07.30-20.43.04_MD589_2_0203_prep2_10.0um_RMC_detector998_scoremapViz.jpg\" \"s3://mousebrainatlas-data/CSHL_scoremap_viz/10.0um/RMC/MD589/detector998/prep2/MD589-N68-2015.07.30-20.43.04_MD589_2_0203_prep2_10.0um_RMC_detector998_scoremapViz.jpg\"\n",
      "0\n",
      "aws s3 cp \"/home/yuncong/CSHL_scoremaps/10.0um/MD589/MD589_prep2_10.0um_detector998/MD589-N68-2015.07.30-20.43.04_MD589_2_0203_prep2_10.0um_detector998/MD589-N68-2015.07.30-20.43.04_MD589_2_0203_prep2_10.0um_detector998_Sp5O_scoremap.bp\" \"s3://mousebrainatlas-data/CSHL_scoremaps/10.0um/MD589/MD589_prep2_10.0um_detector998/MD589-N68-2015.07.30-20.43.04_MD589_2_0203_prep2_10.0um_detector998/MD589-N68-2015.07.30-20.43.04_MD589_2_0203_prep2_10.0um_detector998_Sp5O_scoremap.bp\"\n",
      "0\n",
      "aws s3 cp \"/home/yuncong/CSHL_scoremap_viz/10.0um/Sp5O/MD589/detector998/prep2/MD589-N68-2015.07.30-20.43.04_MD589_2_0203_prep2_10.0um_Sp5O_detector998_scoremapViz.jpg\" \"s3://mousebrainatlas-data/CSHL_scoremap_viz/10.0um/Sp5O/MD589/detector998/prep2/MD589-N68-2015.07.30-20.43.04_MD589_2_0203_prep2_10.0um_Sp5O_detector998_scoremapViz.jpg\"\n",
      "0\n",
      "aws s3 cp \"/home/yuncong/CSHL_scoremaps/10.0um/MD589/MD589_prep2_10.0um_detector998/MD589-N68-2015.07.30-20.43.04_MD589_2_0203_prep2_10.0um_detector998/MD589-N68-2015.07.30-20.43.04_MD589_2_0203_prep2_10.0um_detector998_Sp5I_scoremap.bp\" \"s3://mousebrainatlas-data/CSHL_scoremaps/10.0um/MD589/MD589_prep2_10.0um_detector998/MD589-N68-2015.07.30-20.43.04_MD589_2_0203_prep2_10.0um_detector998/MD589-N68-2015.07.30-20.43.04_MD589_2_0203_prep2_10.0um_detector998_Sp5I_scoremap.bp\"\n",
      "0\n",
      "aws s3 cp \"/home/yuncong/CSHL_scoremap_viz/10.0um/Sp5I/MD589/detector998/prep2/MD589-N68-2015.07.30-20.43.04_MD589_2_0203_prep2_10.0um_Sp5I_detector998_scoremapViz.jpg\" \"s3://mousebrainatlas-data/CSHL_scoremap_viz/10.0um/Sp5I/MD589/detector998/prep2/MD589-N68-2015.07.30-20.43.04_MD589_2_0203_prep2_10.0um_Sp5I_detector998_scoremapViz.jpg\"\n",
      "0\n",
      "aws s3 cp \"/home/yuncong/CSHL_scoremaps/10.0um/MD589/MD589_prep2_10.0um_detector998/MD589-N68-2015.07.30-20.43.04_MD589_2_0203_prep2_10.0um_detector998/MD589-N68-2015.07.30-20.43.04_MD589_2_0203_prep2_10.0um_detector998_Sp5C_scoremap.bp\" \"s3://mousebrainatlas-data/CSHL_scoremaps/10.0um/MD589/MD589_prep2_10.0um_detector998/MD589-N68-2015.07.30-20.43.04_MD589_2_0203_prep2_10.0um_detector998/MD589-N68-2015.07.30-20.43.04_MD589_2_0203_prep2_10.0um_detector998_Sp5C_scoremap.bp\"\n",
      "0\n",
      "aws s3 cp \"/home/yuncong/CSHL_scoremap_viz/10.0um/Sp5C/MD589/detector998/prep2/MD589-N68-2015.07.30-20.43.04_MD589_2_0203_prep2_10.0um_Sp5C_detector998_scoremapViz.jpg\" \"s3://mousebrainatlas-data/CSHL_scoremap_viz/10.0um/Sp5C/MD589/detector998/prep2/MD589-N68-2015.07.30-20.43.04_MD589_2_0203_prep2_10.0um_Sp5C_detector998_scoremapViz.jpg\"\n",
      "0\n",
      "aws s3 cp \"/home/yuncong/CSHL_scoremaps/10.0um/MD589/MD589_prep2_10.0um_detector998/MD589-N68-2015.07.30-20.43.04_MD589_2_0203_prep2_10.0um_detector998/MD589-N68-2015.07.30-20.43.04_MD589_2_0203_prep2_10.0um_detector998_VCP_scoremap.bp\" \"s3://mousebrainatlas-data/CSHL_scoremaps/10.0um/MD589/MD589_prep2_10.0um_detector998/MD589-N68-2015.07.30-20.43.04_MD589_2_0203_prep2_10.0um_detector998/MD589-N68-2015.07.30-20.43.04_MD589_2_0203_prep2_10.0um_detector998_VCP_scoremap.bp\"\n",
      "0\n",
      "aws s3 cp \"/home/yuncong/CSHL_scoremap_viz/10.0um/VCP/MD589/detector998/prep2/MD589-N68-2015.07.30-20.43.04_MD589_2_0203_prep2_10.0um_VCP_detector998_scoremapViz.jpg\" \"s3://mousebrainatlas-data/CSHL_scoremap_viz/10.0um/VCP/MD589/detector998/prep2/MD589-N68-2015.07.30-20.43.04_MD589_2_0203_prep2_10.0um_VCP_detector998_scoremapViz.jpg\"\n",
      "0\n",
      "aws s3 cp \"/home/yuncong/CSHL_scoremaps/10.0um/MD589/MD589_prep2_10.0um_detector998/MD589-N68-2015.07.30-20.43.04_MD589_2_0203_prep2_10.0um_detector998/MD589-N68-2015.07.30-20.43.04_MD589_2_0203_prep2_10.0um_detector998_AP_scoremap.bp\" \"s3://mousebrainatlas-data/CSHL_scoremaps/10.0um/MD589/MD589_prep2_10.0um_detector998/MD589-N68-2015.07.30-20.43.04_MD589_2_0203_prep2_10.0um_detector998/MD589-N68-2015.07.30-20.43.04_MD589_2_0203_prep2_10.0um_detector998_AP_scoremap.bp\"\n",
      "0\n",
      "aws s3 cp \"/home/yuncong/CSHL_scoremap_viz/10.0um/AP/MD589/detector998/prep2/MD589-N68-2015.07.30-20.43.04_MD589_2_0203_prep2_10.0um_AP_detector998_scoremapViz.jpg\" \"s3://mousebrainatlas-data/CSHL_scoremap_viz/10.0um/AP/MD589/detector998/prep2/MD589-N68-2015.07.30-20.43.04_MD589_2_0203_prep2_10.0um_AP_detector998_scoremapViz.jpg\"\n",
      "0\n",
      "aws s3 cp \"/home/yuncong/CSHL_scoremaps/10.0um/MD589/MD589_prep2_10.0um_detector998/MD589-N68-2015.07.30-20.43.04_MD589_2_0203_prep2_10.0um_detector998/MD589-N68-2015.07.30-20.43.04_MD589_2_0203_prep2_10.0um_detector998_PBG_scoremap.bp\" \"s3://mousebrainatlas-data/CSHL_scoremaps/10.0um/MD589/MD589_prep2_10.0um_detector998/MD589-N68-2015.07.30-20.43.04_MD589_2_0203_prep2_10.0um_detector998/MD589-N68-2015.07.30-20.43.04_MD589_2_0203_prep2_10.0um_detector998_PBG_scoremap.bp\"\n",
      "0\n",
      "aws s3 cp \"/home/yuncong/CSHL_scoremap_viz/10.0um/PBG/MD589/detector998/prep2/MD589-N68-2015.07.30-20.43.04_MD589_2_0203_prep2_10.0um_PBG_detector998_scoremapViz.jpg\" \"s3://mousebrainatlas-data/CSHL_scoremap_viz/10.0um/PBG/MD589/detector998/prep2/MD589-N68-2015.07.30-20.43.04_MD589_2_0203_prep2_10.0um_PBG_detector998_scoremapViz.jpg\"\n",
      "0\n",
      "aws s3 cp \"/home/yuncong/CSHL_scoremaps/10.0um/MD589/MD589_prep2_10.0um_detector998/MD589-N68-2015.07.30-20.43.04_MD589_2_0203_prep2_10.0um_detector998/MD589-N68-2015.07.30-20.43.04_MD589_2_0203_prep2_10.0um_detector998_LRt_scoremap.bp\" \"s3://mousebrainatlas-data/CSHL_scoremaps/10.0um/MD589/MD589_prep2_10.0um_detector998/MD589-N68-2015.07.30-20.43.04_MD589_2_0203_prep2_10.0um_detector998/MD589-N68-2015.07.30-20.43.04_MD589_2_0203_prep2_10.0um_detector998_LRt_scoremap.bp\"\n",
      "0\n",
      "aws s3 cp \"/home/yuncong/CSHL_scoremap_viz/10.0um/LRt/MD589/detector998/prep2/MD589-N68-2015.07.30-20.43.04_MD589_2_0203_prep2_10.0um_LRt_detector998_scoremapViz.jpg\" \"s3://mousebrainatlas-data/CSHL_scoremap_viz/10.0um/LRt/MD589/detector998/prep2/MD589-N68-2015.07.30-20.43.04_MD589_2_0203_prep2_10.0um_LRt_detector998_scoremapViz.jpg\"\n",
      "0\n",
      "aws s3 cp \"/home/yuncong/CSHL_scoremaps/10.0um/MD589/MD589_prep2_10.0um_detector998/MD589-N68-2015.07.30-20.43.04_MD589_2_0203_prep2_10.0um_detector998/MD589-N68-2015.07.30-20.43.04_MD589_2_0203_prep2_10.0um_detector998_IC_scoremap.bp\" \"s3://mousebrainatlas-data/CSHL_scoremaps/10.0um/MD589/MD589_prep2_10.0um_detector998/MD589-N68-2015.07.30-20.43.04_MD589_2_0203_prep2_10.0um_detector998/MD589-N68-2015.07.30-20.43.04_MD589_2_0203_prep2_10.0um_detector998_IC_scoremap.bp\"\n",
      "0\n",
      "aws s3 cp \"/home/yuncong/CSHL_scoremap_viz/10.0um/IC/MD589/detector998/prep2/MD589-N68-2015.07.30-20.43.04_MD589_2_0203_prep2_10.0um_IC_detector998_scoremapViz.jpg\" \"s3://mousebrainatlas-data/CSHL_scoremap_viz/10.0um/IC/MD589/detector998/prep2/MD589-N68-2015.07.30-20.43.04_MD589_2_0203_prep2_10.0um_IC_detector998_scoremapViz.jpg\"\n",
      "0\n",
      "aws s3 cp \"/home/yuncong/CSHL_scoremaps/10.0um/MD589/MD589_prep2_10.0um_detector998/MD589-N68-2015.07.30-20.43.04_MD589_2_0203_prep2_10.0um_detector998/MD589-N68-2015.07.30-20.43.04_MD589_2_0203_prep2_10.0um_detector998_VLL_scoremap.bp\" \"s3://mousebrainatlas-data/CSHL_scoremaps/10.0um/MD589/MD589_prep2_10.0um_detector998/MD589-N68-2015.07.30-20.43.04_MD589_2_0203_prep2_10.0um_detector998/MD589-N68-2015.07.30-20.43.04_MD589_2_0203_prep2_10.0um_detector998_VLL_scoremap.bp\"\n",
      "0\n",
      "aws s3 cp \"/home/yuncong/CSHL_scoremap_viz/10.0um/VLL/MD589/detector998/prep2/MD589-N68-2015.07.30-20.43.04_MD589_2_0203_prep2_10.0um_VLL_detector998_scoremapViz.jpg\" \"s3://mousebrainatlas-data/CSHL_scoremap_viz/10.0um/VLL/MD589/detector998/prep2/MD589-N68-2015.07.30-20.43.04_MD589_2_0203_prep2_10.0um_VLL_detector998_scoremapViz.jpg\"\n"
     ]
    },
    {
     "name": "stdout",
     "output_type": "stream",
     "text": [
      "0\n",
      "aws s3 cp \"/home/yuncong/CSHL_scoremaps/10.0um/MD589/MD589_prep2_10.0um_detector998/MD589-N68-2015.07.30-20.43.04_MD589_2_0203_prep2_10.0um_detector998/MD589-N68-2015.07.30-20.43.04_MD589_2_0203_prep2_10.0um_detector998_4N_scoremap.bp\" \"s3://mousebrainatlas-data/CSHL_scoremaps/10.0um/MD589/MD589_prep2_10.0um_detector998/MD589-N68-2015.07.30-20.43.04_MD589_2_0203_prep2_10.0um_detector998/MD589-N68-2015.07.30-20.43.04_MD589_2_0203_prep2_10.0um_detector998_4N_scoremap.bp\"\n",
      "0\n",
      "aws s3 cp \"/home/yuncong/CSHL_scoremap_viz/10.0um/4N/MD589/detector998/prep2/MD589-N68-2015.07.30-20.43.04_MD589_2_0203_prep2_10.0um_4N_detector998_scoremapViz.jpg\" \"s3://mousebrainatlas-data/CSHL_scoremap_viz/10.0um/4N/MD589/detector998/prep2/MD589-N68-2015.07.30-20.43.04_MD589_2_0203_prep2_10.0um_4N_detector998_scoremapViz.jpg\"\n",
      "0\n",
      "aws s3 cp \"/home/yuncong/CSHL_scoremaps/10.0um/MD589/MD589_prep2_10.0um_detector998/MD589-N68-2015.07.30-20.43.04_MD589_2_0203_prep2_10.0um_detector998/MD589-N68-2015.07.30-20.43.04_MD589_2_0203_prep2_10.0um_detector998_SNC_scoremap.bp\" \"s3://mousebrainatlas-data/CSHL_scoremaps/10.0um/MD589/MD589_prep2_10.0um_detector998/MD589-N68-2015.07.30-20.43.04_MD589_2_0203_prep2_10.0um_detector998/MD589-N68-2015.07.30-20.43.04_MD589_2_0203_prep2_10.0um_detector998_SNC_scoremap.bp\"\n",
      "0\n",
      "aws s3 cp \"/home/yuncong/CSHL_scoremap_viz/10.0um/SNC/MD589/detector998/prep2/MD589-N68-2015.07.30-20.43.04_MD589_2_0203_prep2_10.0um_SNC_detector998_scoremapViz.jpg\" \"s3://mousebrainatlas-data/CSHL_scoremap_viz/10.0um/SNC/MD589/detector998/prep2/MD589-N68-2015.07.30-20.43.04_MD589_2_0203_prep2_10.0um_SNC_detector998_scoremapViz.jpg\"\n",
      "0\n",
      "aws s3 cp \"/home/yuncong/CSHL_scoremaps/10.0um/MD589/MD589_prep2_10.0um_detector998/MD589-N68-2015.07.30-20.43.04_MD589_2_0203_prep2_10.0um_detector998/MD589-N68-2015.07.30-20.43.04_MD589_2_0203_prep2_10.0um_detector998_6N_scoremap.bp\" \"s3://mousebrainatlas-data/CSHL_scoremaps/10.0um/MD589/MD589_prep2_10.0um_detector998/MD589-N68-2015.07.30-20.43.04_MD589_2_0203_prep2_10.0um_detector998/MD589-N68-2015.07.30-20.43.04_MD589_2_0203_prep2_10.0um_detector998_6N_scoremap.bp\"\n",
      "0\n",
      "aws s3 cp \"/home/yuncong/CSHL_scoremap_viz/10.0um/6N/MD589/detector998/prep2/MD589-N68-2015.07.30-20.43.04_MD589_2_0203_prep2_10.0um_6N_detector998_scoremapViz.jpg\" \"s3://mousebrainatlas-data/CSHL_scoremap_viz/10.0um/6N/MD589/detector998/prep2/MD589-N68-2015.07.30-20.43.04_MD589_2_0203_prep2_10.0um_6N_detector998_scoremapViz.jpg\"\n",
      "0\n",
      "aws s3 cp \"/home/yuncong/CSHL_scoremaps/10.0um/MD589/MD589_prep2_10.0um_detector998/MD589-N68-2015.07.30-20.43.04_MD589_2_0203_prep2_10.0um_detector998/MD589-N68-2015.07.30-20.43.04_MD589_2_0203_prep2_10.0um_detector998_SNR_scoremap.bp\" \"s3://mousebrainatlas-data/CSHL_scoremaps/10.0um/MD589/MD589_prep2_10.0um_detector998/MD589-N68-2015.07.30-20.43.04_MD589_2_0203_prep2_10.0um_detector998/MD589-N68-2015.07.30-20.43.04_MD589_2_0203_prep2_10.0um_detector998_SNR_scoremap.bp\"\n",
      "0\n",
      "aws s3 cp \"/home/yuncong/CSHL_scoremap_viz/10.0um/SNR/MD589/detector998/prep2/MD589-N68-2015.07.30-20.43.04_MD589_2_0203_prep2_10.0um_SNR_detector998_scoremapViz.jpg\" \"s3://mousebrainatlas-data/CSHL_scoremap_viz/10.0um/SNR/MD589/detector998/prep2/MD589-N68-2015.07.30-20.43.04_MD589_2_0203_prep2_10.0um_SNR_detector998_scoremapViz.jpg\"\n",
      "0\n",
      "aws s3 cp \"/home/yuncong/CSHL_scoremaps/10.0um/MD589/MD589_prep2_10.0um_detector998/MD589-N68-2015.07.30-20.43.04_MD589_2_0203_prep2_10.0um_detector998/MD589-N68-2015.07.30-20.43.04_MD589_2_0203_prep2_10.0um_detector998_SC_scoremap.bp\" \"s3://mousebrainatlas-data/CSHL_scoremaps/10.0um/MD589/MD589_prep2_10.0um_detector998/MD589-N68-2015.07.30-20.43.04_MD589_2_0203_prep2_10.0um_detector998/MD589-N68-2015.07.30-20.43.04_MD589_2_0203_prep2_10.0um_detector998_SC_scoremap.bp\"\n",
      "0\n",
      "aws s3 cp \"/home/yuncong/CSHL_scoremap_viz/10.0um/SC/MD589/detector998/prep2/MD589-N68-2015.07.30-20.43.04_MD589_2_0203_prep2_10.0um_SC_detector998_scoremapViz.jpg\" \"s3://mousebrainatlas-data/CSHL_scoremap_viz/10.0um/SC/MD589/detector998/prep2/MD589-N68-2015.07.30-20.43.04_MD589_2_0203_prep2_10.0um_SC_detector998_scoremapViz.jpg\"\n",
      "0\n",
      "aws s3 cp \"/home/yuncong/CSHL_scoremaps/10.0um/MD589/MD589_prep2_10.0um_detector998/MD589-N68-2015.07.30-20.43.04_MD589_2_0203_prep2_10.0um_detector998/MD589-N68-2015.07.30-20.43.04_MD589_2_0203_prep2_10.0um_detector998_RtTg_scoremap.bp\" \"s3://mousebrainatlas-data/CSHL_scoremaps/10.0um/MD589/MD589_prep2_10.0um_detector998/MD589-N68-2015.07.30-20.43.04_MD589_2_0203_prep2_10.0um_detector998/MD589-N68-2015.07.30-20.43.04_MD589_2_0203_prep2_10.0um_detector998_RtTg_scoremap.bp\"\n",
      "0\n",
      "aws s3 cp \"/home/yuncong/CSHL_scoremap_viz/10.0um/RtTg/MD589/detector998/prep2/MD589-N68-2015.07.30-20.43.04_MD589_2_0203_prep2_10.0um_RtTg_detector998_scoremapViz.jpg\" \"s3://mousebrainatlas-data/CSHL_scoremap_viz/10.0um/RtTg/MD589/detector998/prep2/MD589-N68-2015.07.30-20.43.04_MD589_2_0203_prep2_10.0um_RtTg_detector998_scoremapViz.jpg\"\n",
      "0\n"
     ]
    },
    {
     "name": "stderr",
     "output_type": "stream",
     "text": [
      "locate patches: 0.03 seconds\n",
      "Load pre-computed features: 1.16 seconds\n"
     ]
    },
    {
     "name": "stdout",
     "output_type": "stream",
     "text": [
      "rm -rf \"/media/yuncong/BstemAtlasData/CSHL_data_processed/MD589/MD589_prep2_lossless_grayJpeg/MD589-IHC68-2015.07.31-02.03.18_MD589_2_0203_prep2_lossless_grayJpeg.jpg\" && mkdir -p \"/media/yuncong/BstemAtlasData/CSHL_data_processed/MD589/MD589_prep2_lossless_grayJpeg\"\n",
      "0\n",
      "aws s3 cp \"s3://mousebrainatlas-data/CSHL_data_processed/MD589/MD589_prep2_lossless_grayJpeg/MD589-IHC68-2015.07.31-02.03.18_MD589_2_0203_prep2_lossless_grayJpeg.jpg\" \"/media/yuncong/BstemAtlasData/CSHL_data_processed/MD589/MD589_prep2_lossless_grayJpeg/MD589-IHC68-2015.07.31-02.03.18_MD589_2_0203_prep2_lossless_grayJpeg.jpg\"\n",
      "0\n"
     ]
    },
    {
     "name": "stderr",
     "output_type": "stream",
     "text": [
      "Not using image_cache.\n"
     ]
    },
    {
     "name": "stdout",
     "output_type": "stream",
     "text": [
      "/media/yuncong/BstemAtlasData/CSHL_data_processed/MD589/MD589_prep2_lossless_grayJpeg/MD589-IHC68-2015.07.31-02.03.18_MD589_2_0203_prep2_lossless_grayJpeg.jpg\n"
     ]
    },
    {
     "name": "stderr",
     "output_type": "stream",
     "text": [
      "Load background image: 2.96 seconds\n",
      "Rescale background image to output resolution: 2.18 seconds\n",
      "Predict scores Tz: 0.10 seconds\n",
      "Rescample scoremap Tz: 0.06 seconds\n",
      "Load and rescale background image: 0.00 seconds\n",
      "Generate scoremap overlay: 0.06 seconds.\n",
      "Scoremap size does not match background image size. Need to resize: 0.06 seconds.\n",
      "Genearte scoremap overlay image Tz: 0.14 seconds\n",
      "Predict scores VCA: 0.10 seconds\n"
     ]
    },
    {
     "name": "stdout",
     "output_type": "stream",
     "text": [
      "(549, 714, 3) (549, 714)\n"
     ]
    },
    {
     "name": "stderr",
     "output_type": "stream",
     "text": [
      "Rescample scoremap VCA: 0.06 seconds\n",
      "Load and rescale background image: 0.00 seconds\n",
      "Generate scoremap overlay: 0.05 seconds.\n",
      "Scoremap size does not match background image size. Need to resize: 0.05 seconds.\n",
      "Genearte scoremap overlay image VCA: 0.13 seconds\n"
     ]
    },
    {
     "name": "stdout",
     "output_type": "stream",
     "text": [
      "(549, 714, 3) (549, 714)\n"
     ]
    },
    {
     "name": "stderr",
     "output_type": "stream",
     "text": [
      "Predict scores 7n: 0.10 seconds\n",
      "Rescample scoremap 7n: 0.06 seconds\n",
      "Load and rescale background image: 0.00 seconds\n",
      "Generate scoremap overlay: 0.05 seconds.\n",
      "Scoremap size does not match background image size. Need to resize: 0.05 seconds.\n",
      "Genearte scoremap overlay image 7n: 0.13 seconds\n"
     ]
    },
    {
     "name": "stdout",
     "output_type": "stream",
     "text": [
      "(549, 714, 3) (549, 714)\n"
     ]
    },
    {
     "name": "stderr",
     "output_type": "stream",
     "text": [
      "Predict scores DC: 0.10 seconds\n",
      "Rescample scoremap DC: 0.06 seconds\n",
      "Load and rescale background image: 0.00 seconds\n",
      "Generate scoremap overlay: 0.05 seconds.\n",
      "Scoremap size does not match background image size. Need to resize: 0.05 seconds.\n",
      "Genearte scoremap overlay image DC: 0.14 seconds\n"
     ]
    },
    {
     "name": "stdout",
     "output_type": "stream",
     "text": [
      "(549, 714, 3) (549, 714)\n"
     ]
    },
    {
     "name": "stderr",
     "output_type": "stream",
     "text": [
      "Predict scores 5N: 0.10 seconds\n",
      "Rescample scoremap 5N: 0.06 seconds\n",
      "Load and rescale background image: 0.00 seconds\n",
      "Generate scoremap overlay: 0.05 seconds.\n",
      "Scoremap size does not match background image size. Need to resize: 0.05 seconds.\n",
      "Genearte scoremap overlay image 5N: 0.13 seconds\n"
     ]
    },
    {
     "name": "stdout",
     "output_type": "stream",
     "text": [
      "(549, 714, 3) (549, 714)\n"
     ]
    },
    {
     "name": "stderr",
     "output_type": "stream",
     "text": [
      "Predict scores 3N: 0.10 seconds\n",
      "Rescample scoremap 3N: 0.06 seconds\n",
      "Load and rescale background image: 0.00 seconds\n",
      "Generate scoremap overlay: 0.05 seconds.\n",
      "Scoremap size does not match background image size. Need to resize: 0.05 seconds.\n",
      "Genearte scoremap overlay image 3N: 0.13 seconds\n"
     ]
    },
    {
     "name": "stdout",
     "output_type": "stream",
     "text": [
      "(549, 714, 3) (549, 714)\n"
     ]
    },
    {
     "name": "stderr",
     "output_type": "stream",
     "text": [
      "Predict scores Pn: 0.10 seconds\n",
      "Rescample scoremap Pn: 0.06 seconds\n",
      "Load and rescale background image: 0.00 seconds\n",
      "Generate scoremap overlay: 0.05 seconds.\n",
      "Scoremap size does not match background image size. Need to resize: 0.05 seconds.\n",
      "Genearte scoremap overlay image Pn: 0.14 seconds\n"
     ]
    },
    {
     "name": "stdout",
     "output_type": "stream",
     "text": [
      "(549, 714, 3) (549, 714)\n"
     ]
    },
    {
     "name": "stderr",
     "output_type": "stream",
     "text": [
      "Predict scores 10N: 0.10 seconds\n",
      "Rescample scoremap 10N: 0.06 seconds\n",
      "Load and rescale background image: 0.00 seconds\n",
      "Generate scoremap overlay: 0.05 seconds.\n",
      "Scoremap size does not match background image size. Need to resize: 0.05 seconds.\n",
      "Genearte scoremap overlay image 10N: 0.13 seconds\n"
     ]
    },
    {
     "name": "stdout",
     "output_type": "stream",
     "text": [
      "(549, 714, 3) (549, 714)\n"
     ]
    },
    {
     "name": "stderr",
     "output_type": "stream",
     "text": [
      "Predict scores LC: 0.10 seconds\n",
      "Rescample scoremap LC: 0.06 seconds\n",
      "Load and rescale background image: 0.00 seconds\n",
      "Generate scoremap overlay: 0.05 seconds.\n",
      "Scoremap size does not match background image size. Need to resize: 0.05 seconds.\n",
      "Genearte scoremap overlay image LC: 0.13 seconds\n"
     ]
    },
    {
     "name": "stdout",
     "output_type": "stream",
     "text": [
      "(549, 714, 3) (549, 714)\n"
     ]
    },
    {
     "name": "stderr",
     "output_type": "stream",
     "text": [
      "Predict scores 7N: 0.10 seconds\n",
      "Rescample scoremap 7N: 0.06 seconds\n",
      "Load and rescale background image: 0.00 seconds\n",
      "Generate scoremap overlay: 0.05 seconds.\n",
      "Scoremap size does not match background image size. Need to resize: 0.05 seconds.\n",
      "Genearte scoremap overlay image 7N: 0.13 seconds\n"
     ]
    },
    {
     "name": "stdout",
     "output_type": "stream",
     "text": [
      "(549, 714, 3) (549, 714)\n"
     ]
    },
    {
     "name": "stderr",
     "output_type": "stream",
     "text": [
      "Predict scores Amb: 0.10 seconds\n",
      "Rescample scoremap Amb: 0.06 seconds\n",
      "Load and rescale background image: 0.00 seconds\n",
      "Generate scoremap overlay: 0.05 seconds.\n",
      "Scoremap size does not match background image size. Need to resize: 0.05 seconds.\n",
      "Genearte scoremap overlay image Amb: 0.13 seconds\n"
     ]
    },
    {
     "name": "stdout",
     "output_type": "stream",
     "text": [
      "(549, 714, 3) (549, 714)\n"
     ]
    },
    {
     "name": "stderr",
     "output_type": "stream",
     "text": [
      "Predict scores 12N: 0.10 seconds\n",
      "Rescample scoremap 12N: 0.06 seconds\n",
      "Load and rescale background image: 0.00 seconds\n",
      "Generate scoremap overlay: 0.05 seconds.\n",
      "Scoremap size does not match background image size. Need to resize: 0.05 seconds.\n",
      "Genearte scoremap overlay image 12N: 0.13 seconds\n"
     ]
    },
    {
     "name": "stdout",
     "output_type": "stream",
     "text": [
      "(549, 714, 3) (549, 714)\n"
     ]
    },
    {
     "name": "stderr",
     "output_type": "stream",
     "text": [
      "Predict scores RMC: 0.10 seconds\n",
      "Rescample scoremap RMC: 0.06 seconds\n",
      "Load and rescale background image: 0.00 seconds\n",
      "Generate scoremap overlay: 0.05 seconds.\n",
      "Scoremap size does not match background image size. Need to resize: 0.06 seconds.\n"
     ]
    },
    {
     "name": "stdout",
     "output_type": "stream",
     "text": [
      "(549, 714, 3) (549, 714)\n"
     ]
    },
    {
     "name": "stderr",
     "output_type": "stream",
     "text": [
      "Genearte scoremap overlay image RMC: 0.14 seconds\n",
      "Predict scores Sp5O: 0.10 seconds\n",
      "Rescample scoremap Sp5O: 0.06 seconds\n",
      "Load and rescale background image: 0.00 seconds\n",
      "Generate scoremap overlay: 0.05 seconds.\n",
      "Scoremap size does not match background image size. Need to resize: 0.05 seconds.\n",
      "Genearte scoremap overlay image Sp5O: 0.14 seconds\n",
      "Predict scores Sp5I: 0.10 seconds\n"
     ]
    },
    {
     "name": "stdout",
     "output_type": "stream",
     "text": [
      "(549, 714, 3) (549, 714)\n"
     ]
    },
    {
     "name": "stderr",
     "output_type": "stream",
     "text": [
      "Rescample scoremap Sp5I: 0.06 seconds\n",
      "Load and rescale background image: 0.00 seconds\n",
      "Generate scoremap overlay: 0.05 seconds.\n",
      "Scoremap size does not match background image size. Need to resize: 0.05 seconds.\n",
      "Genearte scoremap overlay image Sp5I: 0.14 seconds\n"
     ]
    },
    {
     "name": "stdout",
     "output_type": "stream",
     "text": [
      "(549, 714, 3) (549, 714)\n"
     ]
    },
    {
     "name": "stderr",
     "output_type": "stream",
     "text": [
      "Predict scores Sp5C: 0.10 seconds\n",
      "Rescample scoremap Sp5C: 0.07 seconds\n",
      "Load and rescale background image: 0.00 seconds\n",
      "Generate scoremap overlay: 0.06 seconds.\n",
      "Scoremap size does not match background image size. Need to resize: 0.06 seconds.\n"
     ]
    },
    {
     "name": "stdout",
     "output_type": "stream",
     "text": [
      "(549, 714, 3) (549, 714)\n"
     ]
    },
    {
     "name": "stderr",
     "output_type": "stream",
     "text": [
      "Genearte scoremap overlay image Sp5C: 0.16 seconds\n",
      "Predict scores VCP: 0.11 seconds\n",
      "Rescample scoremap VCP: 0.06 seconds\n",
      "Load and rescale background image: 0.00 seconds\n",
      "Generate scoremap overlay: 0.06 seconds.\n",
      "Scoremap size does not match background image size. Need to resize: 0.06 seconds.\n",
      "Genearte scoremap overlay image VCP: 0.17 seconds\n"
     ]
    },
    {
     "name": "stdout",
     "output_type": "stream",
     "text": [
      "(549, 714, 3) (549, 714)\n"
     ]
    },
    {
     "name": "stderr",
     "output_type": "stream",
     "text": [
      "Predict scores AP: 0.11 seconds\n",
      "Rescample scoremap AP: 0.07 seconds\n",
      "Load and rescale background image: 0.00 seconds\n",
      "Generate scoremap overlay: 0.05 seconds.\n",
      "Scoremap size does not match background image size. Need to resize: 0.05 seconds.\n",
      "Genearte scoremap overlay image AP: 0.12 seconds\n"
     ]
    },
    {
     "name": "stdout",
     "output_type": "stream",
     "text": [
      "(549, 714, 3) (549, 714)\n"
     ]
    },
    {
     "name": "stderr",
     "output_type": "stream",
     "text": [
      "Predict scores PBG: 0.13 seconds\n",
      "Rescample scoremap PBG: 0.05 seconds\n",
      "Load and rescale background image: 0.00 seconds\n",
      "Generate scoremap overlay: 0.05 seconds.\n",
      "Scoremap size does not match background image size. Need to resize: 0.06 seconds.\n",
      "Genearte scoremap overlay image PBG: 0.14 seconds\n"
     ]
    },
    {
     "name": "stdout",
     "output_type": "stream",
     "text": [
      "(549, 714, 3) (549, 714)\n"
     ]
    },
    {
     "name": "stderr",
     "output_type": "stream",
     "text": [
      "Predict scores LRt: 0.12 seconds\n",
      "Rescample scoremap LRt: 0.06 seconds\n",
      "Load and rescale background image: 0.00 seconds\n",
      "Generate scoremap overlay: 0.05 seconds.\n",
      "Scoremap size does not match background image size. Need to resize: 0.05 seconds.\n",
      "Genearte scoremap overlay image LRt: 0.14 seconds\n"
     ]
    },
    {
     "name": "stdout",
     "output_type": "stream",
     "text": [
      "(549, 714, 3) (549, 714)\n"
     ]
    },
    {
     "name": "stderr",
     "output_type": "stream",
     "text": [
      "Predict scores IC: 0.10 seconds\n",
      "Rescample scoremap IC: 0.06 seconds\n",
      "Load and rescale background image: 0.00 seconds\n",
      "Generate scoremap overlay: 0.05 seconds.\n",
      "Scoremap size does not match background image size. Need to resize: 0.05 seconds.\n",
      "Genearte scoremap overlay image IC: 0.14 seconds\n"
     ]
    },
    {
     "name": "stdout",
     "output_type": "stream",
     "text": [
      "(549, 714, 3) (549, 714)\n"
     ]
    },
    {
     "name": "stderr",
     "output_type": "stream",
     "text": [
      "Predict scores VLL: 0.10 seconds\n",
      "Rescample scoremap VLL: 0.06 seconds\n",
      "Load and rescale background image: 0.00 seconds\n",
      "Generate scoremap overlay: 0.05 seconds.\n",
      "Scoremap size does not match background image size. Need to resize: 0.05 seconds.\n",
      "Genearte scoremap overlay image VLL: 0.14 seconds\n"
     ]
    },
    {
     "name": "stdout",
     "output_type": "stream",
     "text": [
      "(549, 714, 3) (549, 714)\n"
     ]
    },
    {
     "name": "stderr",
     "output_type": "stream",
     "text": [
      "Predict scores 4N: 0.10 seconds\n",
      "Rescample scoremap 4N: 0.06 seconds\n",
      "Load and rescale background image: 0.00 seconds\n",
      "Generate scoremap overlay: 0.05 seconds.\n",
      "Scoremap size does not match background image size. Need to resize: 0.05 seconds.\n",
      "Genearte scoremap overlay image 4N: 0.13 seconds\n"
     ]
    },
    {
     "name": "stdout",
     "output_type": "stream",
     "text": [
      "(549, 714, 3) (549, 714)\n"
     ]
    },
    {
     "name": "stderr",
     "output_type": "stream",
     "text": [
      "Predict scores SNC: 0.10 seconds\n",
      "Rescample scoremap SNC: 0.06 seconds\n",
      "Load and rescale background image: 0.00 seconds\n",
      "Generate scoremap overlay: 0.05 seconds.\n",
      "Scoremap size does not match background image size. Need to resize: 0.05 seconds.\n",
      "Genearte scoremap overlay image SNC: 0.14 seconds\n"
     ]
    },
    {
     "name": "stdout",
     "output_type": "stream",
     "text": [
      "(549, 714, 3) (549, 714)\n"
     ]
    },
    {
     "name": "stderr",
     "output_type": "stream",
     "text": [
      "Predict scores 6N: 0.11 seconds\n",
      "Rescample scoremap 6N: 0.06 seconds\n",
      "Load and rescale background image: 0.00 seconds\n",
      "Generate scoremap overlay: 0.05 seconds.\n",
      "Scoremap size does not match background image size. Need to resize: 0.06 seconds.\n",
      "Genearte scoremap overlay image 6N: 0.14 seconds\n"
     ]
    },
    {
     "name": "stdout",
     "output_type": "stream",
     "text": [
      "(549, 714, 3) (549, 714)\n"
     ]
    },
    {
     "name": "stderr",
     "output_type": "stream",
     "text": [
      "Predict scores SNR: 0.11 seconds\n",
      "Rescample scoremap SNR: 0.06 seconds\n",
      "Load and rescale background image: 0.00 seconds\n",
      "Generate scoremap overlay: 0.05 seconds.\n",
      "Scoremap size does not match background image size. Need to resize: 0.05 seconds.\n",
      "Genearte scoremap overlay image SNR: 0.13 seconds\n"
     ]
    },
    {
     "name": "stdout",
     "output_type": "stream",
     "text": [
      "(549, 714, 3) (549, 714)\n"
     ]
    },
    {
     "name": "stderr",
     "output_type": "stream",
     "text": [
      "Predict scores SC: 0.10 seconds\n",
      "Rescample scoremap SC: 0.06 seconds\n",
      "Load and rescale background image: 0.00 seconds\n",
      "Generate scoremap overlay: 0.05 seconds.\n",
      "Scoremap size does not match background image size. Need to resize: 0.05 seconds.\n",
      "Genearte scoremap overlay image SC: 0.14 seconds\n"
     ]
    },
    {
     "name": "stdout",
     "output_type": "stream",
     "text": [
      "(549, 714, 3) (549, 714)\n"
     ]
    },
    {
     "name": "stderr",
     "output_type": "stream",
     "text": [
      "Predict scores RtTg: 0.10 seconds\n",
      "Rescample scoremap RtTg: 0.06 seconds\n",
      "Load and rescale background image: 0.00 seconds\n",
      "Generate scoremap overlay: 0.05 seconds.\n",
      "Scoremap size does not match background image size. Need to resize: 0.05 seconds.\n",
      "Genearte scoremap overlay image RtTg: 0.13 seconds\n"
     ]
    },
    {
     "name": "stdout",
     "output_type": "stream",
     "text": [
      "(549, 714, 3) (549, 714)\n",
      "aws s3 cp \"/home/yuncong/CSHL_scoremaps/10.0um/MD589/MD589_prep2_10.0um_detector998/MD589-IHC68-2015.07.31-02.03.18_MD589_2_0203_prep2_10.0um_detector998/MD589-IHC68-2015.07.31-02.03.18_MD589_2_0203_prep2_10.0um_detector998_Tz_scoremap.bp\" \"s3://mousebrainatlas-data/CSHL_scoremaps/10.0um/MD589/MD589_prep2_10.0um_detector998/MD589-IHC68-2015.07.31-02.03.18_MD589_2_0203_prep2_10.0um_detector998/MD589-IHC68-2015.07.31-02.03.18_MD589_2_0203_prep2_10.0um_detector998_Tz_scoremap.bp\"\n",
      "0\n",
      "aws s3 cp \"/home/yuncong/CSHL_scoremap_viz/10.0um/Tz/MD589/detector998/prep2/MD589-IHC68-2015.07.31-02.03.18_MD589_2_0203_prep2_10.0um_Tz_detector998_scoremapViz.jpg\" \"s3://mousebrainatlas-data/CSHL_scoremap_viz/10.0um/Tz/MD589/detector998/prep2/MD589-IHC68-2015.07.31-02.03.18_MD589_2_0203_prep2_10.0um_Tz_detector998_scoremapViz.jpg\"\n",
      "0\n",
      "aws s3 cp \"/home/yuncong/CSHL_scoremaps/10.0um/MD589/MD589_prep2_10.0um_detector998/MD589-IHC68-2015.07.31-02.03.18_MD589_2_0203_prep2_10.0um_detector998/MD589-IHC68-2015.07.31-02.03.18_MD589_2_0203_prep2_10.0um_detector998_VCA_scoremap.bp\" \"s3://mousebrainatlas-data/CSHL_scoremaps/10.0um/MD589/MD589_prep2_10.0um_detector998/MD589-IHC68-2015.07.31-02.03.18_MD589_2_0203_prep2_10.0um_detector998/MD589-IHC68-2015.07.31-02.03.18_MD589_2_0203_prep2_10.0um_detector998_VCA_scoremap.bp\"\n",
      "0\n",
      "aws s3 cp \"/home/yuncong/CSHL_scoremap_viz/10.0um/VCA/MD589/detector998/prep2/MD589-IHC68-2015.07.31-02.03.18_MD589_2_0203_prep2_10.0um_VCA_detector998_scoremapViz.jpg\" \"s3://mousebrainatlas-data/CSHL_scoremap_viz/10.0um/VCA/MD589/detector998/prep2/MD589-IHC68-2015.07.31-02.03.18_MD589_2_0203_prep2_10.0um_VCA_detector998_scoremapViz.jpg\"\n",
      "0\n",
      "aws s3 cp \"/home/yuncong/CSHL_scoremaps/10.0um/MD589/MD589_prep2_10.0um_detector998/MD589-IHC68-2015.07.31-02.03.18_MD589_2_0203_prep2_10.0um_detector998/MD589-IHC68-2015.07.31-02.03.18_MD589_2_0203_prep2_10.0um_detector998_7n_scoremap.bp\" \"s3://mousebrainatlas-data/CSHL_scoremaps/10.0um/MD589/MD589_prep2_10.0um_detector998/MD589-IHC68-2015.07.31-02.03.18_MD589_2_0203_prep2_10.0um_detector998/MD589-IHC68-2015.07.31-02.03.18_MD589_2_0203_prep2_10.0um_detector998_7n_scoremap.bp\"\n",
      "0\n",
      "aws s3 cp \"/home/yuncong/CSHL_scoremap_viz/10.0um/7n/MD589/detector998/prep2/MD589-IHC68-2015.07.31-02.03.18_MD589_2_0203_prep2_10.0um_7n_detector998_scoremapViz.jpg\" \"s3://mousebrainatlas-data/CSHL_scoremap_viz/10.0um/7n/MD589/detector998/prep2/MD589-IHC68-2015.07.31-02.03.18_MD589_2_0203_prep2_10.0um_7n_detector998_scoremapViz.jpg\"\n",
      "0\n",
      "aws s3 cp \"/home/yuncong/CSHL_scoremaps/10.0um/MD589/MD589_prep2_10.0um_detector998/MD589-IHC68-2015.07.31-02.03.18_MD589_2_0203_prep2_10.0um_detector998/MD589-IHC68-2015.07.31-02.03.18_MD589_2_0203_prep2_10.0um_detector998_DC_scoremap.bp\" \"s3://mousebrainatlas-data/CSHL_scoremaps/10.0um/MD589/MD589_prep2_10.0um_detector998/MD589-IHC68-2015.07.31-02.03.18_MD589_2_0203_prep2_10.0um_detector998/MD589-IHC68-2015.07.31-02.03.18_MD589_2_0203_prep2_10.0um_detector998_DC_scoremap.bp\"\n",
      "0\n",
      "aws s3 cp \"/home/yuncong/CSHL_scoremap_viz/10.0um/DC/MD589/detector998/prep2/MD589-IHC68-2015.07.31-02.03.18_MD589_2_0203_prep2_10.0um_DC_detector998_scoremapViz.jpg\" \"s3://mousebrainatlas-data/CSHL_scoremap_viz/10.0um/DC/MD589/detector998/prep2/MD589-IHC68-2015.07.31-02.03.18_MD589_2_0203_prep2_10.0um_DC_detector998_scoremapViz.jpg\"\n",
      "0\n",
      "aws s3 cp \"/home/yuncong/CSHL_scoremaps/10.0um/MD589/MD589_prep2_10.0um_detector998/MD589-IHC68-2015.07.31-02.03.18_MD589_2_0203_prep2_10.0um_detector998/MD589-IHC68-2015.07.31-02.03.18_MD589_2_0203_prep2_10.0um_detector998_5N_scoremap.bp\" \"s3://mousebrainatlas-data/CSHL_scoremaps/10.0um/MD589/MD589_prep2_10.0um_detector998/MD589-IHC68-2015.07.31-02.03.18_MD589_2_0203_prep2_10.0um_detector998/MD589-IHC68-2015.07.31-02.03.18_MD589_2_0203_prep2_10.0um_detector998_5N_scoremap.bp\"\n",
      "0\n",
      "aws s3 cp \"/home/yuncong/CSHL_scoremap_viz/10.0um/5N/MD589/detector998/prep2/MD589-IHC68-2015.07.31-02.03.18_MD589_2_0203_prep2_10.0um_5N_detector998_scoremapViz.jpg\" \"s3://mousebrainatlas-data/CSHL_scoremap_viz/10.0um/5N/MD589/detector998/prep2/MD589-IHC68-2015.07.31-02.03.18_MD589_2_0203_prep2_10.0um_5N_detector998_scoremapViz.jpg\"\n",
      "0\n",
      "aws s3 cp \"/home/yuncong/CSHL_scoremaps/10.0um/MD589/MD589_prep2_10.0um_detector998/MD589-IHC68-2015.07.31-02.03.18_MD589_2_0203_prep2_10.0um_detector998/MD589-IHC68-2015.07.31-02.03.18_MD589_2_0203_prep2_10.0um_detector998_3N_scoremap.bp\" \"s3://mousebrainatlas-data/CSHL_scoremaps/10.0um/MD589/MD589_prep2_10.0um_detector998/MD589-IHC68-2015.07.31-02.03.18_MD589_2_0203_prep2_10.0um_detector998/MD589-IHC68-2015.07.31-02.03.18_MD589_2_0203_prep2_10.0um_detector998_3N_scoremap.bp\"\n",
      "0\n",
      "aws s3 cp \"/home/yuncong/CSHL_scoremap_viz/10.0um/3N/MD589/detector998/prep2/MD589-IHC68-2015.07.31-02.03.18_MD589_2_0203_prep2_10.0um_3N_detector998_scoremapViz.jpg\" \"s3://mousebrainatlas-data/CSHL_scoremap_viz/10.0um/3N/MD589/detector998/prep2/MD589-IHC68-2015.07.31-02.03.18_MD589_2_0203_prep2_10.0um_3N_detector998_scoremapViz.jpg\"\n",
      "0\n",
      "aws s3 cp \"/home/yuncong/CSHL_scoremaps/10.0um/MD589/MD589_prep2_10.0um_detector998/MD589-IHC68-2015.07.31-02.03.18_MD589_2_0203_prep2_10.0um_detector998/MD589-IHC68-2015.07.31-02.03.18_MD589_2_0203_prep2_10.0um_detector998_Pn_scoremap.bp\" \"s3://mousebrainatlas-data/CSHL_scoremaps/10.0um/MD589/MD589_prep2_10.0um_detector998/MD589-IHC68-2015.07.31-02.03.18_MD589_2_0203_prep2_10.0um_detector998/MD589-IHC68-2015.07.31-02.03.18_MD589_2_0203_prep2_10.0um_detector998_Pn_scoremap.bp\"\n",
      "0\n",
      "aws s3 cp \"/home/yuncong/CSHL_scoremap_viz/10.0um/Pn/MD589/detector998/prep2/MD589-IHC68-2015.07.31-02.03.18_MD589_2_0203_prep2_10.0um_Pn_detector998_scoremapViz.jpg\" \"s3://mousebrainatlas-data/CSHL_scoremap_viz/10.0um/Pn/MD589/detector998/prep2/MD589-IHC68-2015.07.31-02.03.18_MD589_2_0203_prep2_10.0um_Pn_detector998_scoremapViz.jpg\"\n",
      "0\n",
      "aws s3 cp \"/home/yuncong/CSHL_scoremaps/10.0um/MD589/MD589_prep2_10.0um_detector998/MD589-IHC68-2015.07.31-02.03.18_MD589_2_0203_prep2_10.0um_detector998/MD589-IHC68-2015.07.31-02.03.18_MD589_2_0203_prep2_10.0um_detector998_10N_scoremap.bp\" \"s3://mousebrainatlas-data/CSHL_scoremaps/10.0um/MD589/MD589_prep2_10.0um_detector998/MD589-IHC68-2015.07.31-02.03.18_MD589_2_0203_prep2_10.0um_detector998/MD589-IHC68-2015.07.31-02.03.18_MD589_2_0203_prep2_10.0um_detector998_10N_scoremap.bp\"\n",
      "0\n",
      "aws s3 cp \"/home/yuncong/CSHL_scoremap_viz/10.0um/10N/MD589/detector998/prep2/MD589-IHC68-2015.07.31-02.03.18_MD589_2_0203_prep2_10.0um_10N_detector998_scoremapViz.jpg\" \"s3://mousebrainatlas-data/CSHL_scoremap_viz/10.0um/10N/MD589/detector998/prep2/MD589-IHC68-2015.07.31-02.03.18_MD589_2_0203_prep2_10.0um_10N_detector998_scoremapViz.jpg\"\n",
      "0\n",
      "aws s3 cp \"/home/yuncong/CSHL_scoremaps/10.0um/MD589/MD589_prep2_10.0um_detector998/MD589-IHC68-2015.07.31-02.03.18_MD589_2_0203_prep2_10.0um_detector998/MD589-IHC68-2015.07.31-02.03.18_MD589_2_0203_prep2_10.0um_detector998_LC_scoremap.bp\" \"s3://mousebrainatlas-data/CSHL_scoremaps/10.0um/MD589/MD589_prep2_10.0um_detector998/MD589-IHC68-2015.07.31-02.03.18_MD589_2_0203_prep2_10.0um_detector998/MD589-IHC68-2015.07.31-02.03.18_MD589_2_0203_prep2_10.0um_detector998_LC_scoremap.bp\"\n",
      "0\n",
      "aws s3 cp \"/home/yuncong/CSHL_scoremap_viz/10.0um/LC/MD589/detector998/prep2/MD589-IHC68-2015.07.31-02.03.18_MD589_2_0203_prep2_10.0um_LC_detector998_scoremapViz.jpg\" \"s3://mousebrainatlas-data/CSHL_scoremap_viz/10.0um/LC/MD589/detector998/prep2/MD589-IHC68-2015.07.31-02.03.18_MD589_2_0203_prep2_10.0um_LC_detector998_scoremapViz.jpg\"\n",
      "0\n",
      "aws s3 cp \"/home/yuncong/CSHL_scoremaps/10.0um/MD589/MD589_prep2_10.0um_detector998/MD589-IHC68-2015.07.31-02.03.18_MD589_2_0203_prep2_10.0um_detector998/MD589-IHC68-2015.07.31-02.03.18_MD589_2_0203_prep2_10.0um_detector998_7N_scoremap.bp\" \"s3://mousebrainatlas-data/CSHL_scoremaps/10.0um/MD589/MD589_prep2_10.0um_detector998/MD589-IHC68-2015.07.31-02.03.18_MD589_2_0203_prep2_10.0um_detector998/MD589-IHC68-2015.07.31-02.03.18_MD589_2_0203_prep2_10.0um_detector998_7N_scoremap.bp\"\n",
      "0\n",
      "aws s3 cp \"/home/yuncong/CSHL_scoremap_viz/10.0um/7N/MD589/detector998/prep2/MD589-IHC68-2015.07.31-02.03.18_MD589_2_0203_prep2_10.0um_7N_detector998_scoremapViz.jpg\" \"s3://mousebrainatlas-data/CSHL_scoremap_viz/10.0um/7N/MD589/detector998/prep2/MD589-IHC68-2015.07.31-02.03.18_MD589_2_0203_prep2_10.0um_7N_detector998_scoremapViz.jpg\"\n"
     ]
    },
    {
     "name": "stdout",
     "output_type": "stream",
     "text": [
      "0\n",
      "aws s3 cp \"/home/yuncong/CSHL_scoremaps/10.0um/MD589/MD589_prep2_10.0um_detector998/MD589-IHC68-2015.07.31-02.03.18_MD589_2_0203_prep2_10.0um_detector998/MD589-IHC68-2015.07.31-02.03.18_MD589_2_0203_prep2_10.0um_detector998_Amb_scoremap.bp\" \"s3://mousebrainatlas-data/CSHL_scoremaps/10.0um/MD589/MD589_prep2_10.0um_detector998/MD589-IHC68-2015.07.31-02.03.18_MD589_2_0203_prep2_10.0um_detector998/MD589-IHC68-2015.07.31-02.03.18_MD589_2_0203_prep2_10.0um_detector998_Amb_scoremap.bp\"\n",
      "0\n",
      "aws s3 cp \"/home/yuncong/CSHL_scoremap_viz/10.0um/Amb/MD589/detector998/prep2/MD589-IHC68-2015.07.31-02.03.18_MD589_2_0203_prep2_10.0um_Amb_detector998_scoremapViz.jpg\" \"s3://mousebrainatlas-data/CSHL_scoremap_viz/10.0um/Amb/MD589/detector998/prep2/MD589-IHC68-2015.07.31-02.03.18_MD589_2_0203_prep2_10.0um_Amb_detector998_scoremapViz.jpg\"\n",
      "0\n",
      "aws s3 cp \"/home/yuncong/CSHL_scoremaps/10.0um/MD589/MD589_prep2_10.0um_detector998/MD589-IHC68-2015.07.31-02.03.18_MD589_2_0203_prep2_10.0um_detector998/MD589-IHC68-2015.07.31-02.03.18_MD589_2_0203_prep2_10.0um_detector998_12N_scoremap.bp\" \"s3://mousebrainatlas-data/CSHL_scoremaps/10.0um/MD589/MD589_prep2_10.0um_detector998/MD589-IHC68-2015.07.31-02.03.18_MD589_2_0203_prep2_10.0um_detector998/MD589-IHC68-2015.07.31-02.03.18_MD589_2_0203_prep2_10.0um_detector998_12N_scoremap.bp\"\n",
      "0\n",
      "aws s3 cp \"/home/yuncong/CSHL_scoremap_viz/10.0um/12N/MD589/detector998/prep2/MD589-IHC68-2015.07.31-02.03.18_MD589_2_0203_prep2_10.0um_12N_detector998_scoremapViz.jpg\" \"s3://mousebrainatlas-data/CSHL_scoremap_viz/10.0um/12N/MD589/detector998/prep2/MD589-IHC68-2015.07.31-02.03.18_MD589_2_0203_prep2_10.0um_12N_detector998_scoremapViz.jpg\"\n",
      "0\n",
      "aws s3 cp \"/home/yuncong/CSHL_scoremaps/10.0um/MD589/MD589_prep2_10.0um_detector998/MD589-IHC68-2015.07.31-02.03.18_MD589_2_0203_prep2_10.0um_detector998/MD589-IHC68-2015.07.31-02.03.18_MD589_2_0203_prep2_10.0um_detector998_RMC_scoremap.bp\" \"s3://mousebrainatlas-data/CSHL_scoremaps/10.0um/MD589/MD589_prep2_10.0um_detector998/MD589-IHC68-2015.07.31-02.03.18_MD589_2_0203_prep2_10.0um_detector998/MD589-IHC68-2015.07.31-02.03.18_MD589_2_0203_prep2_10.0um_detector998_RMC_scoremap.bp\"\n",
      "0\n",
      "aws s3 cp \"/home/yuncong/CSHL_scoremap_viz/10.0um/RMC/MD589/detector998/prep2/MD589-IHC68-2015.07.31-02.03.18_MD589_2_0203_prep2_10.0um_RMC_detector998_scoremapViz.jpg\" \"s3://mousebrainatlas-data/CSHL_scoremap_viz/10.0um/RMC/MD589/detector998/prep2/MD589-IHC68-2015.07.31-02.03.18_MD589_2_0203_prep2_10.0um_RMC_detector998_scoremapViz.jpg\"\n",
      "0\n",
      "aws s3 cp \"/home/yuncong/CSHL_scoremaps/10.0um/MD589/MD589_prep2_10.0um_detector998/MD589-IHC68-2015.07.31-02.03.18_MD589_2_0203_prep2_10.0um_detector998/MD589-IHC68-2015.07.31-02.03.18_MD589_2_0203_prep2_10.0um_detector998_Sp5O_scoremap.bp\" \"s3://mousebrainatlas-data/CSHL_scoremaps/10.0um/MD589/MD589_prep2_10.0um_detector998/MD589-IHC68-2015.07.31-02.03.18_MD589_2_0203_prep2_10.0um_detector998/MD589-IHC68-2015.07.31-02.03.18_MD589_2_0203_prep2_10.0um_detector998_Sp5O_scoremap.bp\"\n",
      "0\n",
      "aws s3 cp \"/home/yuncong/CSHL_scoremap_viz/10.0um/Sp5O/MD589/detector998/prep2/MD589-IHC68-2015.07.31-02.03.18_MD589_2_0203_prep2_10.0um_Sp5O_detector998_scoremapViz.jpg\" \"s3://mousebrainatlas-data/CSHL_scoremap_viz/10.0um/Sp5O/MD589/detector998/prep2/MD589-IHC68-2015.07.31-02.03.18_MD589_2_0203_prep2_10.0um_Sp5O_detector998_scoremapViz.jpg\"\n",
      "0\n",
      "aws s3 cp \"/home/yuncong/CSHL_scoremaps/10.0um/MD589/MD589_prep2_10.0um_detector998/MD589-IHC68-2015.07.31-02.03.18_MD589_2_0203_prep2_10.0um_detector998/MD589-IHC68-2015.07.31-02.03.18_MD589_2_0203_prep2_10.0um_detector998_Sp5I_scoremap.bp\" \"s3://mousebrainatlas-data/CSHL_scoremaps/10.0um/MD589/MD589_prep2_10.0um_detector998/MD589-IHC68-2015.07.31-02.03.18_MD589_2_0203_prep2_10.0um_detector998/MD589-IHC68-2015.07.31-02.03.18_MD589_2_0203_prep2_10.0um_detector998_Sp5I_scoremap.bp\"\n",
      "0\n",
      "aws s3 cp \"/home/yuncong/CSHL_scoremap_viz/10.0um/Sp5I/MD589/detector998/prep2/MD589-IHC68-2015.07.31-02.03.18_MD589_2_0203_prep2_10.0um_Sp5I_detector998_scoremapViz.jpg\" \"s3://mousebrainatlas-data/CSHL_scoremap_viz/10.0um/Sp5I/MD589/detector998/prep2/MD589-IHC68-2015.07.31-02.03.18_MD589_2_0203_prep2_10.0um_Sp5I_detector998_scoremapViz.jpg\"\n",
      "0\n",
      "aws s3 cp \"/home/yuncong/CSHL_scoremaps/10.0um/MD589/MD589_prep2_10.0um_detector998/MD589-IHC68-2015.07.31-02.03.18_MD589_2_0203_prep2_10.0um_detector998/MD589-IHC68-2015.07.31-02.03.18_MD589_2_0203_prep2_10.0um_detector998_Sp5C_scoremap.bp\" \"s3://mousebrainatlas-data/CSHL_scoremaps/10.0um/MD589/MD589_prep2_10.0um_detector998/MD589-IHC68-2015.07.31-02.03.18_MD589_2_0203_prep2_10.0um_detector998/MD589-IHC68-2015.07.31-02.03.18_MD589_2_0203_prep2_10.0um_detector998_Sp5C_scoremap.bp\"\n",
      "0\n",
      "aws s3 cp \"/home/yuncong/CSHL_scoremap_viz/10.0um/Sp5C/MD589/detector998/prep2/MD589-IHC68-2015.07.31-02.03.18_MD589_2_0203_prep2_10.0um_Sp5C_detector998_scoremapViz.jpg\" \"s3://mousebrainatlas-data/CSHL_scoremap_viz/10.0um/Sp5C/MD589/detector998/prep2/MD589-IHC68-2015.07.31-02.03.18_MD589_2_0203_prep2_10.0um_Sp5C_detector998_scoremapViz.jpg\"\n",
      "0\n",
      "aws s3 cp \"/home/yuncong/CSHL_scoremaps/10.0um/MD589/MD589_prep2_10.0um_detector998/MD589-IHC68-2015.07.31-02.03.18_MD589_2_0203_prep2_10.0um_detector998/MD589-IHC68-2015.07.31-02.03.18_MD589_2_0203_prep2_10.0um_detector998_VCP_scoremap.bp\" \"s3://mousebrainatlas-data/CSHL_scoremaps/10.0um/MD589/MD589_prep2_10.0um_detector998/MD589-IHC68-2015.07.31-02.03.18_MD589_2_0203_prep2_10.0um_detector998/MD589-IHC68-2015.07.31-02.03.18_MD589_2_0203_prep2_10.0um_detector998_VCP_scoremap.bp\"\n",
      "0\n",
      "aws s3 cp \"/home/yuncong/CSHL_scoremap_viz/10.0um/VCP/MD589/detector998/prep2/MD589-IHC68-2015.07.31-02.03.18_MD589_2_0203_prep2_10.0um_VCP_detector998_scoremapViz.jpg\" \"s3://mousebrainatlas-data/CSHL_scoremap_viz/10.0um/VCP/MD589/detector998/prep2/MD589-IHC68-2015.07.31-02.03.18_MD589_2_0203_prep2_10.0um_VCP_detector998_scoremapViz.jpg\"\n",
      "0\n",
      "aws s3 cp \"/home/yuncong/CSHL_scoremaps/10.0um/MD589/MD589_prep2_10.0um_detector998/MD589-IHC68-2015.07.31-02.03.18_MD589_2_0203_prep2_10.0um_detector998/MD589-IHC68-2015.07.31-02.03.18_MD589_2_0203_prep2_10.0um_detector998_AP_scoremap.bp\" \"s3://mousebrainatlas-data/CSHL_scoremaps/10.0um/MD589/MD589_prep2_10.0um_detector998/MD589-IHC68-2015.07.31-02.03.18_MD589_2_0203_prep2_10.0um_detector998/MD589-IHC68-2015.07.31-02.03.18_MD589_2_0203_prep2_10.0um_detector998_AP_scoremap.bp\"\n",
      "0\n",
      "aws s3 cp \"/home/yuncong/CSHL_scoremap_viz/10.0um/AP/MD589/detector998/prep2/MD589-IHC68-2015.07.31-02.03.18_MD589_2_0203_prep2_10.0um_AP_detector998_scoremapViz.jpg\" \"s3://mousebrainatlas-data/CSHL_scoremap_viz/10.0um/AP/MD589/detector998/prep2/MD589-IHC68-2015.07.31-02.03.18_MD589_2_0203_prep2_10.0um_AP_detector998_scoremapViz.jpg\"\n",
      "0\n",
      "aws s3 cp \"/home/yuncong/CSHL_scoremaps/10.0um/MD589/MD589_prep2_10.0um_detector998/MD589-IHC68-2015.07.31-02.03.18_MD589_2_0203_prep2_10.0um_detector998/MD589-IHC68-2015.07.31-02.03.18_MD589_2_0203_prep2_10.0um_detector998_PBG_scoremap.bp\" \"s3://mousebrainatlas-data/CSHL_scoremaps/10.0um/MD589/MD589_prep2_10.0um_detector998/MD589-IHC68-2015.07.31-02.03.18_MD589_2_0203_prep2_10.0um_detector998/MD589-IHC68-2015.07.31-02.03.18_MD589_2_0203_prep2_10.0um_detector998_PBG_scoremap.bp\"\n",
      "0\n",
      "aws s3 cp \"/home/yuncong/CSHL_scoremap_viz/10.0um/PBG/MD589/detector998/prep2/MD589-IHC68-2015.07.31-02.03.18_MD589_2_0203_prep2_10.0um_PBG_detector998_scoremapViz.jpg\" \"s3://mousebrainatlas-data/CSHL_scoremap_viz/10.0um/PBG/MD589/detector998/prep2/MD589-IHC68-2015.07.31-02.03.18_MD589_2_0203_prep2_10.0um_PBG_detector998_scoremapViz.jpg\"\n",
      "0\n",
      "aws s3 cp \"/home/yuncong/CSHL_scoremaps/10.0um/MD589/MD589_prep2_10.0um_detector998/MD589-IHC68-2015.07.31-02.03.18_MD589_2_0203_prep2_10.0um_detector998/MD589-IHC68-2015.07.31-02.03.18_MD589_2_0203_prep2_10.0um_detector998_LRt_scoremap.bp\" \"s3://mousebrainatlas-data/CSHL_scoremaps/10.0um/MD589/MD589_prep2_10.0um_detector998/MD589-IHC68-2015.07.31-02.03.18_MD589_2_0203_prep2_10.0um_detector998/MD589-IHC68-2015.07.31-02.03.18_MD589_2_0203_prep2_10.0um_detector998_LRt_scoremap.bp\"\n",
      "0\n",
      "aws s3 cp \"/home/yuncong/CSHL_scoremap_viz/10.0um/LRt/MD589/detector998/prep2/MD589-IHC68-2015.07.31-02.03.18_MD589_2_0203_prep2_10.0um_LRt_detector998_scoremapViz.jpg\" \"s3://mousebrainatlas-data/CSHL_scoremap_viz/10.0um/LRt/MD589/detector998/prep2/MD589-IHC68-2015.07.31-02.03.18_MD589_2_0203_prep2_10.0um_LRt_detector998_scoremapViz.jpg\"\n"
     ]
    },
    {
     "name": "stdout",
     "output_type": "stream",
     "text": [
      "0\n",
      "aws s3 cp \"/home/yuncong/CSHL_scoremaps/10.0um/MD589/MD589_prep2_10.0um_detector998/MD589-IHC68-2015.07.31-02.03.18_MD589_2_0203_prep2_10.0um_detector998/MD589-IHC68-2015.07.31-02.03.18_MD589_2_0203_prep2_10.0um_detector998_IC_scoremap.bp\" \"s3://mousebrainatlas-data/CSHL_scoremaps/10.0um/MD589/MD589_prep2_10.0um_detector998/MD589-IHC68-2015.07.31-02.03.18_MD589_2_0203_prep2_10.0um_detector998/MD589-IHC68-2015.07.31-02.03.18_MD589_2_0203_prep2_10.0um_detector998_IC_scoremap.bp\"\n",
      "0\n",
      "aws s3 cp \"/home/yuncong/CSHL_scoremap_viz/10.0um/IC/MD589/detector998/prep2/MD589-IHC68-2015.07.31-02.03.18_MD589_2_0203_prep2_10.0um_IC_detector998_scoremapViz.jpg\" \"s3://mousebrainatlas-data/CSHL_scoremap_viz/10.0um/IC/MD589/detector998/prep2/MD589-IHC68-2015.07.31-02.03.18_MD589_2_0203_prep2_10.0um_IC_detector998_scoremapViz.jpg\"\n",
      "0\n",
      "aws s3 cp \"/home/yuncong/CSHL_scoremaps/10.0um/MD589/MD589_prep2_10.0um_detector998/MD589-IHC68-2015.07.31-02.03.18_MD589_2_0203_prep2_10.0um_detector998/MD589-IHC68-2015.07.31-02.03.18_MD589_2_0203_prep2_10.0um_detector998_VLL_scoremap.bp\" \"s3://mousebrainatlas-data/CSHL_scoremaps/10.0um/MD589/MD589_prep2_10.0um_detector998/MD589-IHC68-2015.07.31-02.03.18_MD589_2_0203_prep2_10.0um_detector998/MD589-IHC68-2015.07.31-02.03.18_MD589_2_0203_prep2_10.0um_detector998_VLL_scoremap.bp\"\n",
      "0\n",
      "aws s3 cp \"/home/yuncong/CSHL_scoremap_viz/10.0um/VLL/MD589/detector998/prep2/MD589-IHC68-2015.07.31-02.03.18_MD589_2_0203_prep2_10.0um_VLL_detector998_scoremapViz.jpg\" \"s3://mousebrainatlas-data/CSHL_scoremap_viz/10.0um/VLL/MD589/detector998/prep2/MD589-IHC68-2015.07.31-02.03.18_MD589_2_0203_prep2_10.0um_VLL_detector998_scoremapViz.jpg\"\n",
      "0\n",
      "aws s3 cp \"/home/yuncong/CSHL_scoremaps/10.0um/MD589/MD589_prep2_10.0um_detector998/MD589-IHC68-2015.07.31-02.03.18_MD589_2_0203_prep2_10.0um_detector998/MD589-IHC68-2015.07.31-02.03.18_MD589_2_0203_prep2_10.0um_detector998_4N_scoremap.bp\" \"s3://mousebrainatlas-data/CSHL_scoremaps/10.0um/MD589/MD589_prep2_10.0um_detector998/MD589-IHC68-2015.07.31-02.03.18_MD589_2_0203_prep2_10.0um_detector998/MD589-IHC68-2015.07.31-02.03.18_MD589_2_0203_prep2_10.0um_detector998_4N_scoremap.bp\"\n",
      "0\n",
      "aws s3 cp \"/home/yuncong/CSHL_scoremap_viz/10.0um/4N/MD589/detector998/prep2/MD589-IHC68-2015.07.31-02.03.18_MD589_2_0203_prep2_10.0um_4N_detector998_scoremapViz.jpg\" \"s3://mousebrainatlas-data/CSHL_scoremap_viz/10.0um/4N/MD589/detector998/prep2/MD589-IHC68-2015.07.31-02.03.18_MD589_2_0203_prep2_10.0um_4N_detector998_scoremapViz.jpg\"\n",
      "0\n",
      "aws s3 cp \"/home/yuncong/CSHL_scoremaps/10.0um/MD589/MD589_prep2_10.0um_detector998/MD589-IHC68-2015.07.31-02.03.18_MD589_2_0203_prep2_10.0um_detector998/MD589-IHC68-2015.07.31-02.03.18_MD589_2_0203_prep2_10.0um_detector998_SNC_scoremap.bp\" \"s3://mousebrainatlas-data/CSHL_scoremaps/10.0um/MD589/MD589_prep2_10.0um_detector998/MD589-IHC68-2015.07.31-02.03.18_MD589_2_0203_prep2_10.0um_detector998/MD589-IHC68-2015.07.31-02.03.18_MD589_2_0203_prep2_10.0um_detector998_SNC_scoremap.bp\"\n",
      "0\n",
      "aws s3 cp \"/home/yuncong/CSHL_scoremap_viz/10.0um/SNC/MD589/detector998/prep2/MD589-IHC68-2015.07.31-02.03.18_MD589_2_0203_prep2_10.0um_SNC_detector998_scoremapViz.jpg\" \"s3://mousebrainatlas-data/CSHL_scoremap_viz/10.0um/SNC/MD589/detector998/prep2/MD589-IHC68-2015.07.31-02.03.18_MD589_2_0203_prep2_10.0um_SNC_detector998_scoremapViz.jpg\"\n",
      "0\n",
      "aws s3 cp \"/home/yuncong/CSHL_scoremaps/10.0um/MD589/MD589_prep2_10.0um_detector998/MD589-IHC68-2015.07.31-02.03.18_MD589_2_0203_prep2_10.0um_detector998/MD589-IHC68-2015.07.31-02.03.18_MD589_2_0203_prep2_10.0um_detector998_6N_scoremap.bp\" \"s3://mousebrainatlas-data/CSHL_scoremaps/10.0um/MD589/MD589_prep2_10.0um_detector998/MD589-IHC68-2015.07.31-02.03.18_MD589_2_0203_prep2_10.0um_detector998/MD589-IHC68-2015.07.31-02.03.18_MD589_2_0203_prep2_10.0um_detector998_6N_scoremap.bp\"\n",
      "0\n",
      "aws s3 cp \"/home/yuncong/CSHL_scoremap_viz/10.0um/6N/MD589/detector998/prep2/MD589-IHC68-2015.07.31-02.03.18_MD589_2_0203_prep2_10.0um_6N_detector998_scoremapViz.jpg\" \"s3://mousebrainatlas-data/CSHL_scoremap_viz/10.0um/6N/MD589/detector998/prep2/MD589-IHC68-2015.07.31-02.03.18_MD589_2_0203_prep2_10.0um_6N_detector998_scoremapViz.jpg\"\n",
      "0\n",
      "aws s3 cp \"/home/yuncong/CSHL_scoremaps/10.0um/MD589/MD589_prep2_10.0um_detector998/MD589-IHC68-2015.07.31-02.03.18_MD589_2_0203_prep2_10.0um_detector998/MD589-IHC68-2015.07.31-02.03.18_MD589_2_0203_prep2_10.0um_detector998_SNR_scoremap.bp\" \"s3://mousebrainatlas-data/CSHL_scoremaps/10.0um/MD589/MD589_prep2_10.0um_detector998/MD589-IHC68-2015.07.31-02.03.18_MD589_2_0203_prep2_10.0um_detector998/MD589-IHC68-2015.07.31-02.03.18_MD589_2_0203_prep2_10.0um_detector998_SNR_scoremap.bp\"\n",
      "0\n",
      "aws s3 cp \"/home/yuncong/CSHL_scoremap_viz/10.0um/SNR/MD589/detector998/prep2/MD589-IHC68-2015.07.31-02.03.18_MD589_2_0203_prep2_10.0um_SNR_detector998_scoremapViz.jpg\" \"s3://mousebrainatlas-data/CSHL_scoremap_viz/10.0um/SNR/MD589/detector998/prep2/MD589-IHC68-2015.07.31-02.03.18_MD589_2_0203_prep2_10.0um_SNR_detector998_scoremapViz.jpg\"\n",
      "0\n",
      "aws s3 cp \"/home/yuncong/CSHL_scoremaps/10.0um/MD589/MD589_prep2_10.0um_detector998/MD589-IHC68-2015.07.31-02.03.18_MD589_2_0203_prep2_10.0um_detector998/MD589-IHC68-2015.07.31-02.03.18_MD589_2_0203_prep2_10.0um_detector998_SC_scoremap.bp\" \"s3://mousebrainatlas-data/CSHL_scoremaps/10.0um/MD589/MD589_prep2_10.0um_detector998/MD589-IHC68-2015.07.31-02.03.18_MD589_2_0203_prep2_10.0um_detector998/MD589-IHC68-2015.07.31-02.03.18_MD589_2_0203_prep2_10.0um_detector998_SC_scoremap.bp\"\n",
      "0\n",
      "aws s3 cp \"/home/yuncong/CSHL_scoremap_viz/10.0um/SC/MD589/detector998/prep2/MD589-IHC68-2015.07.31-02.03.18_MD589_2_0203_prep2_10.0um_SC_detector998_scoremapViz.jpg\" \"s3://mousebrainatlas-data/CSHL_scoremap_viz/10.0um/SC/MD589/detector998/prep2/MD589-IHC68-2015.07.31-02.03.18_MD589_2_0203_prep2_10.0um_SC_detector998_scoremapViz.jpg\"\n",
      "0\n",
      "aws s3 cp \"/home/yuncong/CSHL_scoremaps/10.0um/MD589/MD589_prep2_10.0um_detector998/MD589-IHC68-2015.07.31-02.03.18_MD589_2_0203_prep2_10.0um_detector998/MD589-IHC68-2015.07.31-02.03.18_MD589_2_0203_prep2_10.0um_detector998_RtTg_scoremap.bp\" \"s3://mousebrainatlas-data/CSHL_scoremaps/10.0um/MD589/MD589_prep2_10.0um_detector998/MD589-IHC68-2015.07.31-02.03.18_MD589_2_0203_prep2_10.0um_detector998/MD589-IHC68-2015.07.31-02.03.18_MD589_2_0203_prep2_10.0um_detector998_RtTg_scoremap.bp\"\n",
      "0\n",
      "aws s3 cp \"/home/yuncong/CSHL_scoremap_viz/10.0um/RtTg/MD589/detector998/prep2/MD589-IHC68-2015.07.31-02.03.18_MD589_2_0203_prep2_10.0um_RtTg_detector998_scoremapViz.jpg\" \"s3://mousebrainatlas-data/CSHL_scoremap_viz/10.0um/RtTg/MD589/detector998/prep2/MD589-IHC68-2015.07.31-02.03.18_MD589_2_0203_prep2_10.0um_RtTg_detector998_scoremapViz.jpg\"\n",
      "0\n"
     ]
    },
    {
     "name": "stderr",
     "output_type": "stream",
     "text": [
      "locate patches: 0.03 seconds\n",
      "Load pre-computed features: 1.13 seconds\n"
     ]
    },
    {
     "name": "stdout",
     "output_type": "stream",
     "text": [
      "rm -rf \"/media/yuncong/BstemAtlasData/CSHL_data_processed/MD589/MD589_prep2_lossless_grayJpeg/MD589-N68-2015.07.30-20.43.04_MD589_3_0204_prep2_lossless_grayJpeg.jpg\" && mkdir -p \"/media/yuncong/BstemAtlasData/CSHL_data_processed/MD589/MD589_prep2_lossless_grayJpeg\"\n",
      "0\n",
      "aws s3 cp \"s3://mousebrainatlas-data/CSHL_data_processed/MD589/MD589_prep2_lossless_grayJpeg/MD589-N68-2015.07.30-20.43.04_MD589_3_0204_prep2_lossless_grayJpeg.jpg\" \"/media/yuncong/BstemAtlasData/CSHL_data_processed/MD589/MD589_prep2_lossless_grayJpeg/MD589-N68-2015.07.30-20.43.04_MD589_3_0204_prep2_lossless_grayJpeg.jpg\"\n",
      "0\n"
     ]
    },
    {
     "name": "stderr",
     "output_type": "stream",
     "text": [
      "Not using image_cache.\n"
     ]
    },
    {
     "name": "stdout",
     "output_type": "stream",
     "text": [
      "/media/yuncong/BstemAtlasData/CSHL_data_processed/MD589/MD589_prep2_lossless_grayJpeg/MD589-N68-2015.07.30-20.43.04_MD589_3_0204_prep2_lossless_grayJpeg.jpg\n"
     ]
    },
    {
     "name": "stderr",
     "output_type": "stream",
     "text": [
      "Load background image: 3.20 seconds\n",
      "Rescale background image to output resolution: 2.24 seconds\n",
      "Predict scores Tz: 0.11 seconds\n",
      "Rescample scoremap Tz: 0.06 seconds\n",
      "Load and rescale background image: 0.00 seconds\n",
      "Generate scoremap overlay: 0.05 seconds.\n",
      "Scoremap size does not match background image size. Need to resize: 0.06 seconds.\n",
      "Genearte scoremap overlay image Tz: 0.14 seconds\n",
      "Predict scores VCA: 0.11 seconds\n"
     ]
    },
    {
     "name": "stdout",
     "output_type": "stream",
     "text": [
      "(549, 714, 3) (549, 714)\n"
     ]
    },
    {
     "name": "stderr",
     "output_type": "stream",
     "text": [
      "Rescample scoremap VCA: 0.06 seconds\n",
      "Load and rescale background image: 0.00 seconds\n",
      "Generate scoremap overlay: 0.05 seconds.\n",
      "Scoremap size does not match background image size. Need to resize: 0.05 seconds.\n",
      "Genearte scoremap overlay image VCA: 0.13 seconds\n"
     ]
    },
    {
     "name": "stdout",
     "output_type": "stream",
     "text": [
      "(549, 714, 3) (549, 714)\n"
     ]
    },
    {
     "name": "stderr",
     "output_type": "stream",
     "text": [
      "Predict scores 7n: 0.11 seconds\n",
      "Rescample scoremap 7n: 0.06 seconds\n",
      "Load and rescale background image: 0.00 seconds\n",
      "Generate scoremap overlay: 0.05 seconds.\n",
      "Scoremap size does not match background image size. Need to resize: 0.05 seconds.\n",
      "Genearte scoremap overlay image 7n: 0.13 seconds\n"
     ]
    },
    {
     "name": "stdout",
     "output_type": "stream",
     "text": [
      "(549, 714, 3) (549, 714)\n"
     ]
    },
    {
     "name": "stderr",
     "output_type": "stream",
     "text": [
      "Predict scores DC: 0.10 seconds\n",
      "Rescample scoremap DC: 0.06 seconds\n",
      "Load and rescale background image: 0.00 seconds\n",
      "Generate scoremap overlay: 0.05 seconds.\n",
      "Scoremap size does not match background image size. Need to resize: 0.05 seconds.\n",
      "Genearte scoremap overlay image DC: 0.14 seconds\n"
     ]
    },
    {
     "name": "stdout",
     "output_type": "stream",
     "text": [
      "(549, 714, 3) (549, 714)\n"
     ]
    },
    {
     "name": "stderr",
     "output_type": "stream",
     "text": [
      "Predict scores 5N: 0.11 seconds\n",
      "Rescample scoremap 5N: 0.06 seconds\n",
      "Load and rescale background image: 0.00 seconds\n",
      "Generate scoremap overlay: 0.05 seconds.\n",
      "Scoremap size does not match background image size. Need to resize: 0.05 seconds.\n",
      "Genearte scoremap overlay image 5N: 0.14 seconds\n"
     ]
    },
    {
     "name": "stdout",
     "output_type": "stream",
     "text": [
      "(549, 714, 3) (549, 714)\n"
     ]
    },
    {
     "name": "stderr",
     "output_type": "stream",
     "text": [
      "Predict scores 3N: 0.10 seconds\n",
      "Rescample scoremap 3N: 0.06 seconds\n",
      "Load and rescale background image: 0.00 seconds\n",
      "Generate scoremap overlay: 0.05 seconds.\n",
      "Scoremap size does not match background image size. Need to resize: 0.06 seconds.\n",
      "Genearte scoremap overlay image 3N: 0.14 seconds\n"
     ]
    },
    {
     "name": "stdout",
     "output_type": "stream",
     "text": [
      "(549, 714, 3) (549, 714)\n"
     ]
    },
    {
     "name": "stderr",
     "output_type": "stream",
     "text": [
      "Predict scores Pn: 0.10 seconds\n",
      "Rescample scoremap Pn: 0.06 seconds\n",
      "Load and rescale background image: 0.00 seconds\n",
      "Generate scoremap overlay: 0.05 seconds.\n",
      "Scoremap size does not match background image size. Need to resize: 0.05 seconds.\n",
      "Genearte scoremap overlay image Pn: 0.14 seconds\n"
     ]
    },
    {
     "name": "stdout",
     "output_type": "stream",
     "text": [
      "(549, 714, 3) (549, 714)\n"
     ]
    },
    {
     "name": "stderr",
     "output_type": "stream",
     "text": [
      "Predict scores 10N: 0.10 seconds\n",
      "Rescample scoremap 10N: 0.06 seconds\n",
      "Load and rescale background image: 0.00 seconds\n",
      "Generate scoremap overlay: 0.05 seconds.\n",
      "Scoremap size does not match background image size. Need to resize: 0.05 seconds.\n",
      "Genearte scoremap overlay image 10N: 0.13 seconds\n"
     ]
    },
    {
     "name": "stdout",
     "output_type": "stream",
     "text": [
      "(549, 714, 3) (549, 714)\n"
     ]
    },
    {
     "name": "stderr",
     "output_type": "stream",
     "text": [
      "Predict scores LC: 0.10 seconds\n",
      "Rescample scoremap LC: 0.06 seconds\n",
      "Load and rescale background image: 0.00 seconds\n",
      "Generate scoremap overlay: 0.05 seconds.\n",
      "Scoremap size does not match background image size. Need to resize: 0.05 seconds.\n",
      "Genearte scoremap overlay image LC: 0.13 seconds\n"
     ]
    },
    {
     "name": "stdout",
     "output_type": "stream",
     "text": [
      "(549, 714, 3) (549, 714)\n"
     ]
    },
    {
     "name": "stderr",
     "output_type": "stream",
     "text": [
      "Predict scores 7N: 0.10 seconds\n",
      "Rescample scoremap 7N: 0.06 seconds\n",
      "Load and rescale background image: 0.00 seconds\n",
      "Generate scoremap overlay: 0.05 seconds.\n",
      "Scoremap size does not match background image size. Need to resize: 0.05 seconds.\n",
      "Genearte scoremap overlay image 7N: 0.13 seconds\n"
     ]
    },
    {
     "name": "stdout",
     "output_type": "stream",
     "text": [
      "(549, 714, 3) (549, 714)\n"
     ]
    },
    {
     "name": "stderr",
     "output_type": "stream",
     "text": [
      "Predict scores Amb: 0.10 seconds\n",
      "Rescample scoremap Amb: 0.06 seconds\n",
      "Load and rescale background image: 0.00 seconds\n",
      "Generate scoremap overlay: 0.05 seconds.\n",
      "Scoremap size does not match background image size. Need to resize: 0.05 seconds.\n",
      "Genearte scoremap overlay image Amb: 0.14 seconds\n"
     ]
    },
    {
     "name": "stdout",
     "output_type": "stream",
     "text": [
      "(549, 714, 3) (549, 714)\n"
     ]
    },
    {
     "name": "stderr",
     "output_type": "stream",
     "text": [
      "Predict scores 12N: 0.10 seconds\n",
      "Rescample scoremap 12N: 0.06 seconds\n",
      "Load and rescale background image: 0.00 seconds\n",
      "Generate scoremap overlay: 0.05 seconds.\n",
      "Scoremap size does not match background image size. Need to resize: 0.06 seconds.\n",
      "Genearte scoremap overlay image 12N: 0.14 seconds\n"
     ]
    },
    {
     "name": "stdout",
     "output_type": "stream",
     "text": [
      "(549, 714, 3) (549, 714)\n"
     ]
    },
    {
     "name": "stderr",
     "output_type": "stream",
     "text": [
      "Predict scores RMC: 0.11 seconds\n",
      "Rescample scoremap RMC: 0.06 seconds\n",
      "Load and rescale background image: 0.00 seconds\n",
      "Generate scoremap overlay: 0.06 seconds.\n",
      "Scoremap size does not match background image size. Need to resize: 0.05 seconds.\n"
     ]
    },
    {
     "name": "stdout",
     "output_type": "stream",
     "text": [
      "(549, 714, 3) (549, 714)\n"
     ]
    },
    {
     "name": "stderr",
     "output_type": "stream",
     "text": [
      "Genearte scoremap overlay image RMC: 0.14 seconds\n",
      "Predict scores Sp5O: 0.11 seconds\n",
      "Rescample scoremap Sp5O: 0.06 seconds\n",
      "Load and rescale background image: 0.00 seconds\n",
      "Generate scoremap overlay: 0.05 seconds.\n",
      "Scoremap size does not match background image size. Need to resize: 0.06 seconds.\n",
      "Genearte scoremap overlay image Sp5O: 0.14 seconds\n",
      "Predict scores Sp5I: 0.11 seconds\n"
     ]
    },
    {
     "name": "stdout",
     "output_type": "stream",
     "text": [
      "(549, 714, 3) (549, 714)\n"
     ]
    },
    {
     "name": "stderr",
     "output_type": "stream",
     "text": [
      "Rescample scoremap Sp5I: 0.06 seconds\n",
      "Load and rescale background image: 0.00 seconds\n",
      "Generate scoremap overlay: 0.05 seconds.\n",
      "Scoremap size does not match background image size. Need to resize: 0.05 seconds.\n",
      "Genearte scoremap overlay image Sp5I: 0.14 seconds\n"
     ]
    },
    {
     "name": "stdout",
     "output_type": "stream",
     "text": [
      "(549, 714, 3) (549, 714)\n"
     ]
    },
    {
     "name": "stderr",
     "output_type": "stream",
     "text": [
      "Predict scores Sp5C: 0.10 seconds\n",
      "Rescample scoremap Sp5C: 0.06 seconds\n",
      "Load and rescale background image: 0.00 seconds\n",
      "Generate scoremap overlay: 0.05 seconds.\n",
      "Scoremap size does not match background image size. Need to resize: 0.05 seconds.\n"
     ]
    },
    {
     "name": "stdout",
     "output_type": "stream",
     "text": [
      "(549, 714, 3) (549, 714)\n"
     ]
    },
    {
     "name": "stderr",
     "output_type": "stream",
     "text": [
      "Genearte scoremap overlay image Sp5C: 0.14 seconds\n",
      "Predict scores VCP: 0.10 seconds\n",
      "Rescample scoremap VCP: 0.06 seconds\n",
      "Load and rescale background image: 0.00 seconds\n",
      "Generate scoremap overlay: 0.05 seconds.\n",
      "Scoremap size does not match background image size. Need to resize: 0.05 seconds.\n",
      "Genearte scoremap overlay image VCP: 0.14 seconds\n",
      "Predict scores AP: 0.10 seconds\n"
     ]
    },
    {
     "name": "stdout",
     "output_type": "stream",
     "text": [
      "(549, 714, 3) (549, 714)\n"
     ]
    },
    {
     "name": "stderr",
     "output_type": "stream",
     "text": [
      "Rescample scoremap AP: 0.07 seconds\n",
      "Load and rescale background image: 0.00 seconds\n",
      "Generate scoremap overlay: 0.05 seconds.\n",
      "Scoremap size does not match background image size. Need to resize: 0.05 seconds.\n",
      "Genearte scoremap overlay image AP: 0.13 seconds\n"
     ]
    },
    {
     "name": "stdout",
     "output_type": "stream",
     "text": [
      "(549, 714, 3) (549, 714)\n"
     ]
    },
    {
     "name": "stderr",
     "output_type": "stream",
     "text": [
      "Predict scores PBG: 0.10 seconds\n",
      "Rescample scoremap PBG: 0.03 seconds\n",
      "Load and rescale background image: 0.00 seconds\n",
      "Generate scoremap overlay: 0.05 seconds.\n",
      "Scoremap size does not match background image size. Need to resize: 0.05 seconds.\n",
      "Genearte scoremap overlay image PBG: 0.13 seconds\n"
     ]
    },
    {
     "name": "stdout",
     "output_type": "stream",
     "text": [
      "(549, 714, 3) (549, 714)\n"
     ]
    },
    {
     "name": "stderr",
     "output_type": "stream",
     "text": [
      "Predict scores LRt: 0.12 seconds\n",
      "Rescample scoremap LRt: 0.05 seconds\n",
      "Load and rescale background image: 0.00 seconds\n",
      "Generate scoremap overlay: 0.05 seconds.\n",
      "Scoremap size does not match background image size. Need to resize: 0.05 seconds.\n",
      "Genearte scoremap overlay image LRt: 0.14 seconds\n"
     ]
    },
    {
     "name": "stdout",
     "output_type": "stream",
     "text": [
      "(549, 714, 3) (549, 714)\n"
     ]
    },
    {
     "name": "stderr",
     "output_type": "stream",
     "text": [
      "Predict scores IC: 0.11 seconds\n",
      "Rescample scoremap IC: 0.06 seconds\n",
      "Load and rescale background image: 0.00 seconds\n",
      "Generate scoremap overlay: 0.05 seconds.\n",
      "Scoremap size does not match background image size. Need to resize: 0.06 seconds.\n",
      "Genearte scoremap overlay image IC: 0.14 seconds\n"
     ]
    },
    {
     "name": "stdout",
     "output_type": "stream",
     "text": [
      "(549, 714, 3) (549, 714)\n"
     ]
    },
    {
     "name": "stderr",
     "output_type": "stream",
     "text": [
      "Predict scores VLL: 0.12 seconds\n",
      "Rescample scoremap VLL: 0.06 seconds\n",
      "Load and rescale background image: 0.00 seconds\n",
      "Generate scoremap overlay: 0.05 seconds.\n",
      "Scoremap size does not match background image size. Need to resize: 0.05 seconds.\n"
     ]
    },
    {
     "name": "stdout",
     "output_type": "stream",
     "text": [
      "(549, 714, 3) (549, 714)\n"
     ]
    },
    {
     "name": "stderr",
     "output_type": "stream",
     "text": [
      "Genearte scoremap overlay image VLL: 0.15 seconds\n",
      "Predict scores 4N: 0.11 seconds\n",
      "Rescample scoremap 4N: 0.06 seconds\n",
      "Load and rescale background image: 0.00 seconds\n",
      "Generate scoremap overlay: 0.05 seconds.\n",
      "Scoremap size does not match background image size. Need to resize: 0.05 seconds.\n",
      "Genearte scoremap overlay image 4N: 0.14 seconds\n",
      "Predict scores SNC: 0.10 seconds\n"
     ]
    },
    {
     "name": "stdout",
     "output_type": "stream",
     "text": [
      "(549, 714, 3) (549, 714)\n"
     ]
    },
    {
     "name": "stderr",
     "output_type": "stream",
     "text": [
      "Rescample scoremap SNC: 0.06 seconds\n",
      "Load and rescale background image: 0.00 seconds\n",
      "Generate scoremap overlay: 0.05 seconds.\n",
      "Scoremap size does not match background image size. Need to resize: 0.05 seconds.\n",
      "Genearte scoremap overlay image SNC: 0.14 seconds\n"
     ]
    },
    {
     "name": "stdout",
     "output_type": "stream",
     "text": [
      "(549, 714, 3) (549, 714)\n"
     ]
    },
    {
     "name": "stderr",
     "output_type": "stream",
     "text": [
      "Predict scores 6N: 0.10 seconds\n",
      "Rescample scoremap 6N: 0.06 seconds\n",
      "Load and rescale background image: 0.00 seconds\n",
      "Generate scoremap overlay: 0.05 seconds.\n",
      "Scoremap size does not match background image size. Need to resize: 0.05 seconds.\n",
      "Genearte scoremap overlay image 6N: 0.14 seconds\n"
     ]
    },
    {
     "name": "stdout",
     "output_type": "stream",
     "text": [
      "(549, 714, 3) (549, 714)\n"
     ]
    },
    {
     "name": "stderr",
     "output_type": "stream",
     "text": [
      "Predict scores SNR: 0.10 seconds\n",
      "Rescample scoremap SNR: 0.06 seconds\n",
      "Load and rescale background image: 0.00 seconds\n",
      "Generate scoremap overlay: 0.05 seconds.\n",
      "Scoremap size does not match background image size. Need to resize: 0.05 seconds.\n",
      "Genearte scoremap overlay image SNR: 0.14 seconds\n"
     ]
    },
    {
     "name": "stdout",
     "output_type": "stream",
     "text": [
      "(549, 714, 3) (549, 714)\n"
     ]
    },
    {
     "name": "stderr",
     "output_type": "stream",
     "text": [
      "Predict scores SC: 0.11 seconds\n",
      "Rescample scoremap SC: 0.06 seconds\n",
      "Load and rescale background image: 0.00 seconds\n",
      "Generate scoremap overlay: 0.05 seconds.\n",
      "Scoremap size does not match background image size. Need to resize: 0.05 seconds.\n",
      "Genearte scoremap overlay image SC: 0.14 seconds\n"
     ]
    },
    {
     "name": "stdout",
     "output_type": "stream",
     "text": [
      "(549, 714, 3) (549, 714)\n"
     ]
    },
    {
     "name": "stderr",
     "output_type": "stream",
     "text": [
      "Predict scores RtTg: 0.11 seconds\n",
      "Rescample scoremap RtTg: 0.06 seconds\n",
      "Load and rescale background image: 0.00 seconds\n",
      "Generate scoremap overlay: 0.05 seconds.\n",
      "Scoremap size does not match background image size. Need to resize: 0.05 seconds.\n",
      "Genearte scoremap overlay image RtTg: 0.14 seconds\n"
     ]
    },
    {
     "name": "stdout",
     "output_type": "stream",
     "text": [
      "(549, 714, 3) (549, 714)\n",
      "aws s3 cp \"/home/yuncong/CSHL_scoremaps/10.0um/MD589/MD589_prep2_10.0um_detector998/MD589-N68-2015.07.30-20.43.04_MD589_3_0204_prep2_10.0um_detector998/MD589-N68-2015.07.30-20.43.04_MD589_3_0204_prep2_10.0um_detector998_Tz_scoremap.bp\" \"s3://mousebrainatlas-data/CSHL_scoremaps/10.0um/MD589/MD589_prep2_10.0um_detector998/MD589-N68-2015.07.30-20.43.04_MD589_3_0204_prep2_10.0um_detector998/MD589-N68-2015.07.30-20.43.04_MD589_3_0204_prep2_10.0um_detector998_Tz_scoremap.bp\"\n",
      "0\n",
      "aws s3 cp \"/home/yuncong/CSHL_scoremap_viz/10.0um/Tz/MD589/detector998/prep2/MD589-N68-2015.07.30-20.43.04_MD589_3_0204_prep2_10.0um_Tz_detector998_scoremapViz.jpg\" \"s3://mousebrainatlas-data/CSHL_scoremap_viz/10.0um/Tz/MD589/detector998/prep2/MD589-N68-2015.07.30-20.43.04_MD589_3_0204_prep2_10.0um_Tz_detector998_scoremapViz.jpg\"\n",
      "0\n",
      "aws s3 cp \"/home/yuncong/CSHL_scoremaps/10.0um/MD589/MD589_prep2_10.0um_detector998/MD589-N68-2015.07.30-20.43.04_MD589_3_0204_prep2_10.0um_detector998/MD589-N68-2015.07.30-20.43.04_MD589_3_0204_prep2_10.0um_detector998_VCA_scoremap.bp\" \"s3://mousebrainatlas-data/CSHL_scoremaps/10.0um/MD589/MD589_prep2_10.0um_detector998/MD589-N68-2015.07.30-20.43.04_MD589_3_0204_prep2_10.0um_detector998/MD589-N68-2015.07.30-20.43.04_MD589_3_0204_prep2_10.0um_detector998_VCA_scoremap.bp\"\n",
      "0\n",
      "aws s3 cp \"/home/yuncong/CSHL_scoremap_viz/10.0um/VCA/MD589/detector998/prep2/MD589-N68-2015.07.30-20.43.04_MD589_3_0204_prep2_10.0um_VCA_detector998_scoremapViz.jpg\" \"s3://mousebrainatlas-data/CSHL_scoremap_viz/10.0um/VCA/MD589/detector998/prep2/MD589-N68-2015.07.30-20.43.04_MD589_3_0204_prep2_10.0um_VCA_detector998_scoremapViz.jpg\"\n",
      "0\n",
      "aws s3 cp \"/home/yuncong/CSHL_scoremaps/10.0um/MD589/MD589_prep2_10.0um_detector998/MD589-N68-2015.07.30-20.43.04_MD589_3_0204_prep2_10.0um_detector998/MD589-N68-2015.07.30-20.43.04_MD589_3_0204_prep2_10.0um_detector998_7n_scoremap.bp\" \"s3://mousebrainatlas-data/CSHL_scoremaps/10.0um/MD589/MD589_prep2_10.0um_detector998/MD589-N68-2015.07.30-20.43.04_MD589_3_0204_prep2_10.0um_detector998/MD589-N68-2015.07.30-20.43.04_MD589_3_0204_prep2_10.0um_detector998_7n_scoremap.bp\"\n",
      "0\n",
      "aws s3 cp \"/home/yuncong/CSHL_scoremap_viz/10.0um/7n/MD589/detector998/prep2/MD589-N68-2015.07.30-20.43.04_MD589_3_0204_prep2_10.0um_7n_detector998_scoremapViz.jpg\" \"s3://mousebrainatlas-data/CSHL_scoremap_viz/10.0um/7n/MD589/detector998/prep2/MD589-N68-2015.07.30-20.43.04_MD589_3_0204_prep2_10.0um_7n_detector998_scoremapViz.jpg\"\n",
      "0\n",
      "aws s3 cp \"/home/yuncong/CSHL_scoremaps/10.0um/MD589/MD589_prep2_10.0um_detector998/MD589-N68-2015.07.30-20.43.04_MD589_3_0204_prep2_10.0um_detector998/MD589-N68-2015.07.30-20.43.04_MD589_3_0204_prep2_10.0um_detector998_DC_scoremap.bp\" \"s3://mousebrainatlas-data/CSHL_scoremaps/10.0um/MD589/MD589_prep2_10.0um_detector998/MD589-N68-2015.07.30-20.43.04_MD589_3_0204_prep2_10.0um_detector998/MD589-N68-2015.07.30-20.43.04_MD589_3_0204_prep2_10.0um_detector998_DC_scoremap.bp\"\n",
      "0\n",
      "aws s3 cp \"/home/yuncong/CSHL_scoremap_viz/10.0um/DC/MD589/detector998/prep2/MD589-N68-2015.07.30-20.43.04_MD589_3_0204_prep2_10.0um_DC_detector998_scoremapViz.jpg\" \"s3://mousebrainatlas-data/CSHL_scoremap_viz/10.0um/DC/MD589/detector998/prep2/MD589-N68-2015.07.30-20.43.04_MD589_3_0204_prep2_10.0um_DC_detector998_scoremapViz.jpg\"\n",
      "0\n",
      "aws s3 cp \"/home/yuncong/CSHL_scoremaps/10.0um/MD589/MD589_prep2_10.0um_detector998/MD589-N68-2015.07.30-20.43.04_MD589_3_0204_prep2_10.0um_detector998/MD589-N68-2015.07.30-20.43.04_MD589_3_0204_prep2_10.0um_detector998_5N_scoremap.bp\" \"s3://mousebrainatlas-data/CSHL_scoremaps/10.0um/MD589/MD589_prep2_10.0um_detector998/MD589-N68-2015.07.30-20.43.04_MD589_3_0204_prep2_10.0um_detector998/MD589-N68-2015.07.30-20.43.04_MD589_3_0204_prep2_10.0um_detector998_5N_scoremap.bp\"\n",
      "0\n",
      "aws s3 cp \"/home/yuncong/CSHL_scoremap_viz/10.0um/5N/MD589/detector998/prep2/MD589-N68-2015.07.30-20.43.04_MD589_3_0204_prep2_10.0um_5N_detector998_scoremapViz.jpg\" \"s3://mousebrainatlas-data/CSHL_scoremap_viz/10.0um/5N/MD589/detector998/prep2/MD589-N68-2015.07.30-20.43.04_MD589_3_0204_prep2_10.0um_5N_detector998_scoremapViz.jpg\"\n",
      "0\n",
      "aws s3 cp \"/home/yuncong/CSHL_scoremaps/10.0um/MD589/MD589_prep2_10.0um_detector998/MD589-N68-2015.07.30-20.43.04_MD589_3_0204_prep2_10.0um_detector998/MD589-N68-2015.07.30-20.43.04_MD589_3_0204_prep2_10.0um_detector998_3N_scoremap.bp\" \"s3://mousebrainatlas-data/CSHL_scoremaps/10.0um/MD589/MD589_prep2_10.0um_detector998/MD589-N68-2015.07.30-20.43.04_MD589_3_0204_prep2_10.0um_detector998/MD589-N68-2015.07.30-20.43.04_MD589_3_0204_prep2_10.0um_detector998_3N_scoremap.bp\"\n",
      "0\n",
      "aws s3 cp \"/home/yuncong/CSHL_scoremap_viz/10.0um/3N/MD589/detector998/prep2/MD589-N68-2015.07.30-20.43.04_MD589_3_0204_prep2_10.0um_3N_detector998_scoremapViz.jpg\" \"s3://mousebrainatlas-data/CSHL_scoremap_viz/10.0um/3N/MD589/detector998/prep2/MD589-N68-2015.07.30-20.43.04_MD589_3_0204_prep2_10.0um_3N_detector998_scoremapViz.jpg\"\n",
      "0\n",
      "aws s3 cp \"/home/yuncong/CSHL_scoremaps/10.0um/MD589/MD589_prep2_10.0um_detector998/MD589-N68-2015.07.30-20.43.04_MD589_3_0204_prep2_10.0um_detector998/MD589-N68-2015.07.30-20.43.04_MD589_3_0204_prep2_10.0um_detector998_Pn_scoremap.bp\" \"s3://mousebrainatlas-data/CSHL_scoremaps/10.0um/MD589/MD589_prep2_10.0um_detector998/MD589-N68-2015.07.30-20.43.04_MD589_3_0204_prep2_10.0um_detector998/MD589-N68-2015.07.30-20.43.04_MD589_3_0204_prep2_10.0um_detector998_Pn_scoremap.bp\"\n",
      "0\n",
      "aws s3 cp \"/home/yuncong/CSHL_scoremap_viz/10.0um/Pn/MD589/detector998/prep2/MD589-N68-2015.07.30-20.43.04_MD589_3_0204_prep2_10.0um_Pn_detector998_scoremapViz.jpg\" \"s3://mousebrainatlas-data/CSHL_scoremap_viz/10.0um/Pn/MD589/detector998/prep2/MD589-N68-2015.07.30-20.43.04_MD589_3_0204_prep2_10.0um_Pn_detector998_scoremapViz.jpg\"\n",
      "0\n",
      "aws s3 cp \"/home/yuncong/CSHL_scoremaps/10.0um/MD589/MD589_prep2_10.0um_detector998/MD589-N68-2015.07.30-20.43.04_MD589_3_0204_prep2_10.0um_detector998/MD589-N68-2015.07.30-20.43.04_MD589_3_0204_prep2_10.0um_detector998_10N_scoremap.bp\" \"s3://mousebrainatlas-data/CSHL_scoremaps/10.0um/MD589/MD589_prep2_10.0um_detector998/MD589-N68-2015.07.30-20.43.04_MD589_3_0204_prep2_10.0um_detector998/MD589-N68-2015.07.30-20.43.04_MD589_3_0204_prep2_10.0um_detector998_10N_scoremap.bp\"\n",
      "0\n",
      "aws s3 cp \"/home/yuncong/CSHL_scoremap_viz/10.0um/10N/MD589/detector998/prep2/MD589-N68-2015.07.30-20.43.04_MD589_3_0204_prep2_10.0um_10N_detector998_scoremapViz.jpg\" \"s3://mousebrainatlas-data/CSHL_scoremap_viz/10.0um/10N/MD589/detector998/prep2/MD589-N68-2015.07.30-20.43.04_MD589_3_0204_prep2_10.0um_10N_detector998_scoremapViz.jpg\"\n",
      "0\n",
      "aws s3 cp \"/home/yuncong/CSHL_scoremaps/10.0um/MD589/MD589_prep2_10.0um_detector998/MD589-N68-2015.07.30-20.43.04_MD589_3_0204_prep2_10.0um_detector998/MD589-N68-2015.07.30-20.43.04_MD589_3_0204_prep2_10.0um_detector998_LC_scoremap.bp\" \"s3://mousebrainatlas-data/CSHL_scoremaps/10.0um/MD589/MD589_prep2_10.0um_detector998/MD589-N68-2015.07.30-20.43.04_MD589_3_0204_prep2_10.0um_detector998/MD589-N68-2015.07.30-20.43.04_MD589_3_0204_prep2_10.0um_detector998_LC_scoremap.bp\"\n",
      "0\n",
      "aws s3 cp \"/home/yuncong/CSHL_scoremap_viz/10.0um/LC/MD589/detector998/prep2/MD589-N68-2015.07.30-20.43.04_MD589_3_0204_prep2_10.0um_LC_detector998_scoremapViz.jpg\" \"s3://mousebrainatlas-data/CSHL_scoremap_viz/10.0um/LC/MD589/detector998/prep2/MD589-N68-2015.07.30-20.43.04_MD589_3_0204_prep2_10.0um_LC_detector998_scoremapViz.jpg\"\n",
      "0\n",
      "aws s3 cp \"/home/yuncong/CSHL_scoremaps/10.0um/MD589/MD589_prep2_10.0um_detector998/MD589-N68-2015.07.30-20.43.04_MD589_3_0204_prep2_10.0um_detector998/MD589-N68-2015.07.30-20.43.04_MD589_3_0204_prep2_10.0um_detector998_7N_scoremap.bp\" \"s3://mousebrainatlas-data/CSHL_scoremaps/10.0um/MD589/MD589_prep2_10.0um_detector998/MD589-N68-2015.07.30-20.43.04_MD589_3_0204_prep2_10.0um_detector998/MD589-N68-2015.07.30-20.43.04_MD589_3_0204_prep2_10.0um_detector998_7N_scoremap.bp\"\n",
      "0\n",
      "aws s3 cp \"/home/yuncong/CSHL_scoremap_viz/10.0um/7N/MD589/detector998/prep2/MD589-N68-2015.07.30-20.43.04_MD589_3_0204_prep2_10.0um_7N_detector998_scoremapViz.jpg\" \"s3://mousebrainatlas-data/CSHL_scoremap_viz/10.0um/7N/MD589/detector998/prep2/MD589-N68-2015.07.30-20.43.04_MD589_3_0204_prep2_10.0um_7N_detector998_scoremapViz.jpg\"\n",
      "0\n",
      "aws s3 cp \"/home/yuncong/CSHL_scoremaps/10.0um/MD589/MD589_prep2_10.0um_detector998/MD589-N68-2015.07.30-20.43.04_MD589_3_0204_prep2_10.0um_detector998/MD589-N68-2015.07.30-20.43.04_MD589_3_0204_prep2_10.0um_detector998_Amb_scoremap.bp\" \"s3://mousebrainatlas-data/CSHL_scoremaps/10.0um/MD589/MD589_prep2_10.0um_detector998/MD589-N68-2015.07.30-20.43.04_MD589_3_0204_prep2_10.0um_detector998/MD589-N68-2015.07.30-20.43.04_MD589_3_0204_prep2_10.0um_detector998_Amb_scoremap.bp\"\n"
     ]
    },
    {
     "name": "stdout",
     "output_type": "stream",
     "text": [
      "0\n",
      "aws s3 cp \"/home/yuncong/CSHL_scoremap_viz/10.0um/Amb/MD589/detector998/prep2/MD589-N68-2015.07.30-20.43.04_MD589_3_0204_prep2_10.0um_Amb_detector998_scoremapViz.jpg\" \"s3://mousebrainatlas-data/CSHL_scoremap_viz/10.0um/Amb/MD589/detector998/prep2/MD589-N68-2015.07.30-20.43.04_MD589_3_0204_prep2_10.0um_Amb_detector998_scoremapViz.jpg\"\n",
      "0\n",
      "aws s3 cp \"/home/yuncong/CSHL_scoremaps/10.0um/MD589/MD589_prep2_10.0um_detector998/MD589-N68-2015.07.30-20.43.04_MD589_3_0204_prep2_10.0um_detector998/MD589-N68-2015.07.30-20.43.04_MD589_3_0204_prep2_10.0um_detector998_12N_scoremap.bp\" \"s3://mousebrainatlas-data/CSHL_scoremaps/10.0um/MD589/MD589_prep2_10.0um_detector998/MD589-N68-2015.07.30-20.43.04_MD589_3_0204_prep2_10.0um_detector998/MD589-N68-2015.07.30-20.43.04_MD589_3_0204_prep2_10.0um_detector998_12N_scoremap.bp\"\n",
      "0\n",
      "aws s3 cp \"/home/yuncong/CSHL_scoremap_viz/10.0um/12N/MD589/detector998/prep2/MD589-N68-2015.07.30-20.43.04_MD589_3_0204_prep2_10.0um_12N_detector998_scoremapViz.jpg\" \"s3://mousebrainatlas-data/CSHL_scoremap_viz/10.0um/12N/MD589/detector998/prep2/MD589-N68-2015.07.30-20.43.04_MD589_3_0204_prep2_10.0um_12N_detector998_scoremapViz.jpg\"\n",
      "0\n",
      "aws s3 cp \"/home/yuncong/CSHL_scoremaps/10.0um/MD589/MD589_prep2_10.0um_detector998/MD589-N68-2015.07.30-20.43.04_MD589_3_0204_prep2_10.0um_detector998/MD589-N68-2015.07.30-20.43.04_MD589_3_0204_prep2_10.0um_detector998_RMC_scoremap.bp\" \"s3://mousebrainatlas-data/CSHL_scoremaps/10.0um/MD589/MD589_prep2_10.0um_detector998/MD589-N68-2015.07.30-20.43.04_MD589_3_0204_prep2_10.0um_detector998/MD589-N68-2015.07.30-20.43.04_MD589_3_0204_prep2_10.0um_detector998_RMC_scoremap.bp\"\n",
      "0\n",
      "aws s3 cp \"/home/yuncong/CSHL_scoremap_viz/10.0um/RMC/MD589/detector998/prep2/MD589-N68-2015.07.30-20.43.04_MD589_3_0204_prep2_10.0um_RMC_detector998_scoremapViz.jpg\" \"s3://mousebrainatlas-data/CSHL_scoremap_viz/10.0um/RMC/MD589/detector998/prep2/MD589-N68-2015.07.30-20.43.04_MD589_3_0204_prep2_10.0um_RMC_detector998_scoremapViz.jpg\"\n",
      "0\n",
      "aws s3 cp \"/home/yuncong/CSHL_scoremaps/10.0um/MD589/MD589_prep2_10.0um_detector998/MD589-N68-2015.07.30-20.43.04_MD589_3_0204_prep2_10.0um_detector998/MD589-N68-2015.07.30-20.43.04_MD589_3_0204_prep2_10.0um_detector998_Sp5O_scoremap.bp\" \"s3://mousebrainatlas-data/CSHL_scoremaps/10.0um/MD589/MD589_prep2_10.0um_detector998/MD589-N68-2015.07.30-20.43.04_MD589_3_0204_prep2_10.0um_detector998/MD589-N68-2015.07.30-20.43.04_MD589_3_0204_prep2_10.0um_detector998_Sp5O_scoremap.bp\"\n",
      "0\n",
      "aws s3 cp \"/home/yuncong/CSHL_scoremap_viz/10.0um/Sp5O/MD589/detector998/prep2/MD589-N68-2015.07.30-20.43.04_MD589_3_0204_prep2_10.0um_Sp5O_detector998_scoremapViz.jpg\" \"s3://mousebrainatlas-data/CSHL_scoremap_viz/10.0um/Sp5O/MD589/detector998/prep2/MD589-N68-2015.07.30-20.43.04_MD589_3_0204_prep2_10.0um_Sp5O_detector998_scoremapViz.jpg\"\n",
      "0\n",
      "aws s3 cp \"/home/yuncong/CSHL_scoremaps/10.0um/MD589/MD589_prep2_10.0um_detector998/MD589-N68-2015.07.30-20.43.04_MD589_3_0204_prep2_10.0um_detector998/MD589-N68-2015.07.30-20.43.04_MD589_3_0204_prep2_10.0um_detector998_Sp5I_scoremap.bp\" \"s3://mousebrainatlas-data/CSHL_scoremaps/10.0um/MD589/MD589_prep2_10.0um_detector998/MD589-N68-2015.07.30-20.43.04_MD589_3_0204_prep2_10.0um_detector998/MD589-N68-2015.07.30-20.43.04_MD589_3_0204_prep2_10.0um_detector998_Sp5I_scoremap.bp\"\n",
      "0\n",
      "aws s3 cp \"/home/yuncong/CSHL_scoremap_viz/10.0um/Sp5I/MD589/detector998/prep2/MD589-N68-2015.07.30-20.43.04_MD589_3_0204_prep2_10.0um_Sp5I_detector998_scoremapViz.jpg\" \"s3://mousebrainatlas-data/CSHL_scoremap_viz/10.0um/Sp5I/MD589/detector998/prep2/MD589-N68-2015.07.30-20.43.04_MD589_3_0204_prep2_10.0um_Sp5I_detector998_scoremapViz.jpg\"\n",
      "0\n",
      "aws s3 cp \"/home/yuncong/CSHL_scoremaps/10.0um/MD589/MD589_prep2_10.0um_detector998/MD589-N68-2015.07.30-20.43.04_MD589_3_0204_prep2_10.0um_detector998/MD589-N68-2015.07.30-20.43.04_MD589_3_0204_prep2_10.0um_detector998_Sp5C_scoremap.bp\" \"s3://mousebrainatlas-data/CSHL_scoremaps/10.0um/MD589/MD589_prep2_10.0um_detector998/MD589-N68-2015.07.30-20.43.04_MD589_3_0204_prep2_10.0um_detector998/MD589-N68-2015.07.30-20.43.04_MD589_3_0204_prep2_10.0um_detector998_Sp5C_scoremap.bp\"\n",
      "0\n",
      "aws s3 cp \"/home/yuncong/CSHL_scoremap_viz/10.0um/Sp5C/MD589/detector998/prep2/MD589-N68-2015.07.30-20.43.04_MD589_3_0204_prep2_10.0um_Sp5C_detector998_scoremapViz.jpg\" \"s3://mousebrainatlas-data/CSHL_scoremap_viz/10.0um/Sp5C/MD589/detector998/prep2/MD589-N68-2015.07.30-20.43.04_MD589_3_0204_prep2_10.0um_Sp5C_detector998_scoremapViz.jpg\"\n",
      "0\n",
      "aws s3 cp \"/home/yuncong/CSHL_scoremaps/10.0um/MD589/MD589_prep2_10.0um_detector998/MD589-N68-2015.07.30-20.43.04_MD589_3_0204_prep2_10.0um_detector998/MD589-N68-2015.07.30-20.43.04_MD589_3_0204_prep2_10.0um_detector998_VCP_scoremap.bp\" \"s3://mousebrainatlas-data/CSHL_scoremaps/10.0um/MD589/MD589_prep2_10.0um_detector998/MD589-N68-2015.07.30-20.43.04_MD589_3_0204_prep2_10.0um_detector998/MD589-N68-2015.07.30-20.43.04_MD589_3_0204_prep2_10.0um_detector998_VCP_scoremap.bp\"\n",
      "0\n",
      "aws s3 cp \"/home/yuncong/CSHL_scoremap_viz/10.0um/VCP/MD589/detector998/prep2/MD589-N68-2015.07.30-20.43.04_MD589_3_0204_prep2_10.0um_VCP_detector998_scoremapViz.jpg\" \"s3://mousebrainatlas-data/CSHL_scoremap_viz/10.0um/VCP/MD589/detector998/prep2/MD589-N68-2015.07.30-20.43.04_MD589_3_0204_prep2_10.0um_VCP_detector998_scoremapViz.jpg\"\n",
      "0\n",
      "aws s3 cp \"/home/yuncong/CSHL_scoremaps/10.0um/MD589/MD589_prep2_10.0um_detector998/MD589-N68-2015.07.30-20.43.04_MD589_3_0204_prep2_10.0um_detector998/MD589-N68-2015.07.30-20.43.04_MD589_3_0204_prep2_10.0um_detector998_AP_scoremap.bp\" \"s3://mousebrainatlas-data/CSHL_scoremaps/10.0um/MD589/MD589_prep2_10.0um_detector998/MD589-N68-2015.07.30-20.43.04_MD589_3_0204_prep2_10.0um_detector998/MD589-N68-2015.07.30-20.43.04_MD589_3_0204_prep2_10.0um_detector998_AP_scoremap.bp\"\n",
      "0\n",
      "aws s3 cp \"/home/yuncong/CSHL_scoremap_viz/10.0um/AP/MD589/detector998/prep2/MD589-N68-2015.07.30-20.43.04_MD589_3_0204_prep2_10.0um_AP_detector998_scoremapViz.jpg\" \"s3://mousebrainatlas-data/CSHL_scoremap_viz/10.0um/AP/MD589/detector998/prep2/MD589-N68-2015.07.30-20.43.04_MD589_3_0204_prep2_10.0um_AP_detector998_scoremapViz.jpg\"\n",
      "0\n",
      "aws s3 cp \"/home/yuncong/CSHL_scoremaps/10.0um/MD589/MD589_prep2_10.0um_detector998/MD589-N68-2015.07.30-20.43.04_MD589_3_0204_prep2_10.0um_detector998/MD589-N68-2015.07.30-20.43.04_MD589_3_0204_prep2_10.0um_detector998_PBG_scoremap.bp\" \"s3://mousebrainatlas-data/CSHL_scoremaps/10.0um/MD589/MD589_prep2_10.0um_detector998/MD589-N68-2015.07.30-20.43.04_MD589_3_0204_prep2_10.0um_detector998/MD589-N68-2015.07.30-20.43.04_MD589_3_0204_prep2_10.0um_detector998_PBG_scoremap.bp\"\n",
      "0\n",
      "aws s3 cp \"/home/yuncong/CSHL_scoremap_viz/10.0um/PBG/MD589/detector998/prep2/MD589-N68-2015.07.30-20.43.04_MD589_3_0204_prep2_10.0um_PBG_detector998_scoremapViz.jpg\" \"s3://mousebrainatlas-data/CSHL_scoremap_viz/10.0um/PBG/MD589/detector998/prep2/MD589-N68-2015.07.30-20.43.04_MD589_3_0204_prep2_10.0um_PBG_detector998_scoremapViz.jpg\"\n",
      "0\n",
      "aws s3 cp \"/home/yuncong/CSHL_scoremaps/10.0um/MD589/MD589_prep2_10.0um_detector998/MD589-N68-2015.07.30-20.43.04_MD589_3_0204_prep2_10.0um_detector998/MD589-N68-2015.07.30-20.43.04_MD589_3_0204_prep2_10.0um_detector998_LRt_scoremap.bp\" \"s3://mousebrainatlas-data/CSHL_scoremaps/10.0um/MD589/MD589_prep2_10.0um_detector998/MD589-N68-2015.07.30-20.43.04_MD589_3_0204_prep2_10.0um_detector998/MD589-N68-2015.07.30-20.43.04_MD589_3_0204_prep2_10.0um_detector998_LRt_scoremap.bp\"\n",
      "0\n",
      "aws s3 cp \"/home/yuncong/CSHL_scoremap_viz/10.0um/LRt/MD589/detector998/prep2/MD589-N68-2015.07.30-20.43.04_MD589_3_0204_prep2_10.0um_LRt_detector998_scoremapViz.jpg\" \"s3://mousebrainatlas-data/CSHL_scoremap_viz/10.0um/LRt/MD589/detector998/prep2/MD589-N68-2015.07.30-20.43.04_MD589_3_0204_prep2_10.0um_LRt_detector998_scoremapViz.jpg\"\n",
      "0\n",
      "aws s3 cp \"/home/yuncong/CSHL_scoremaps/10.0um/MD589/MD589_prep2_10.0um_detector998/MD589-N68-2015.07.30-20.43.04_MD589_3_0204_prep2_10.0um_detector998/MD589-N68-2015.07.30-20.43.04_MD589_3_0204_prep2_10.0um_detector998_IC_scoremap.bp\" \"s3://mousebrainatlas-data/CSHL_scoremaps/10.0um/MD589/MD589_prep2_10.0um_detector998/MD589-N68-2015.07.30-20.43.04_MD589_3_0204_prep2_10.0um_detector998/MD589-N68-2015.07.30-20.43.04_MD589_3_0204_prep2_10.0um_detector998_IC_scoremap.bp\"\n",
      "0\n",
      "aws s3 cp \"/home/yuncong/CSHL_scoremap_viz/10.0um/IC/MD589/detector998/prep2/MD589-N68-2015.07.30-20.43.04_MD589_3_0204_prep2_10.0um_IC_detector998_scoremapViz.jpg\" \"s3://mousebrainatlas-data/CSHL_scoremap_viz/10.0um/IC/MD589/detector998/prep2/MD589-N68-2015.07.30-20.43.04_MD589_3_0204_prep2_10.0um_IC_detector998_scoremapViz.jpg\"\n"
     ]
    },
    {
     "name": "stdout",
     "output_type": "stream",
     "text": [
      "0\n",
      "aws s3 cp \"/home/yuncong/CSHL_scoremaps/10.0um/MD589/MD589_prep2_10.0um_detector998/MD589-N68-2015.07.30-20.43.04_MD589_3_0204_prep2_10.0um_detector998/MD589-N68-2015.07.30-20.43.04_MD589_3_0204_prep2_10.0um_detector998_VLL_scoremap.bp\" \"s3://mousebrainatlas-data/CSHL_scoremaps/10.0um/MD589/MD589_prep2_10.0um_detector998/MD589-N68-2015.07.30-20.43.04_MD589_3_0204_prep2_10.0um_detector998/MD589-N68-2015.07.30-20.43.04_MD589_3_0204_prep2_10.0um_detector998_VLL_scoremap.bp\"\n",
      "0\n",
      "aws s3 cp \"/home/yuncong/CSHL_scoremap_viz/10.0um/VLL/MD589/detector998/prep2/MD589-N68-2015.07.30-20.43.04_MD589_3_0204_prep2_10.0um_VLL_detector998_scoremapViz.jpg\" \"s3://mousebrainatlas-data/CSHL_scoremap_viz/10.0um/VLL/MD589/detector998/prep2/MD589-N68-2015.07.30-20.43.04_MD589_3_0204_prep2_10.0um_VLL_detector998_scoremapViz.jpg\"\n",
      "0\n",
      "aws s3 cp \"/home/yuncong/CSHL_scoremaps/10.0um/MD589/MD589_prep2_10.0um_detector998/MD589-N68-2015.07.30-20.43.04_MD589_3_0204_prep2_10.0um_detector998/MD589-N68-2015.07.30-20.43.04_MD589_3_0204_prep2_10.0um_detector998_4N_scoremap.bp\" \"s3://mousebrainatlas-data/CSHL_scoremaps/10.0um/MD589/MD589_prep2_10.0um_detector998/MD589-N68-2015.07.30-20.43.04_MD589_3_0204_prep2_10.0um_detector998/MD589-N68-2015.07.30-20.43.04_MD589_3_0204_prep2_10.0um_detector998_4N_scoremap.bp\"\n",
      "0\n",
      "aws s3 cp \"/home/yuncong/CSHL_scoremap_viz/10.0um/4N/MD589/detector998/prep2/MD589-N68-2015.07.30-20.43.04_MD589_3_0204_prep2_10.0um_4N_detector998_scoremapViz.jpg\" \"s3://mousebrainatlas-data/CSHL_scoremap_viz/10.0um/4N/MD589/detector998/prep2/MD589-N68-2015.07.30-20.43.04_MD589_3_0204_prep2_10.0um_4N_detector998_scoremapViz.jpg\"\n",
      "0\n",
      "aws s3 cp \"/home/yuncong/CSHL_scoremaps/10.0um/MD589/MD589_prep2_10.0um_detector998/MD589-N68-2015.07.30-20.43.04_MD589_3_0204_prep2_10.0um_detector998/MD589-N68-2015.07.30-20.43.04_MD589_3_0204_prep2_10.0um_detector998_SNC_scoremap.bp\" \"s3://mousebrainatlas-data/CSHL_scoremaps/10.0um/MD589/MD589_prep2_10.0um_detector998/MD589-N68-2015.07.30-20.43.04_MD589_3_0204_prep2_10.0um_detector998/MD589-N68-2015.07.30-20.43.04_MD589_3_0204_prep2_10.0um_detector998_SNC_scoremap.bp\"\n",
      "0\n",
      "aws s3 cp \"/home/yuncong/CSHL_scoremap_viz/10.0um/SNC/MD589/detector998/prep2/MD589-N68-2015.07.30-20.43.04_MD589_3_0204_prep2_10.0um_SNC_detector998_scoremapViz.jpg\" \"s3://mousebrainatlas-data/CSHL_scoremap_viz/10.0um/SNC/MD589/detector998/prep2/MD589-N68-2015.07.30-20.43.04_MD589_3_0204_prep2_10.0um_SNC_detector998_scoremapViz.jpg\"\n",
      "0\n",
      "aws s3 cp \"/home/yuncong/CSHL_scoremaps/10.0um/MD589/MD589_prep2_10.0um_detector998/MD589-N68-2015.07.30-20.43.04_MD589_3_0204_prep2_10.0um_detector998/MD589-N68-2015.07.30-20.43.04_MD589_3_0204_prep2_10.0um_detector998_6N_scoremap.bp\" \"s3://mousebrainatlas-data/CSHL_scoremaps/10.0um/MD589/MD589_prep2_10.0um_detector998/MD589-N68-2015.07.30-20.43.04_MD589_3_0204_prep2_10.0um_detector998/MD589-N68-2015.07.30-20.43.04_MD589_3_0204_prep2_10.0um_detector998_6N_scoremap.bp\"\n",
      "0\n",
      "aws s3 cp \"/home/yuncong/CSHL_scoremap_viz/10.0um/6N/MD589/detector998/prep2/MD589-N68-2015.07.30-20.43.04_MD589_3_0204_prep2_10.0um_6N_detector998_scoremapViz.jpg\" \"s3://mousebrainatlas-data/CSHL_scoremap_viz/10.0um/6N/MD589/detector998/prep2/MD589-N68-2015.07.30-20.43.04_MD589_3_0204_prep2_10.0um_6N_detector998_scoremapViz.jpg\"\n",
      "0\n",
      "aws s3 cp \"/home/yuncong/CSHL_scoremaps/10.0um/MD589/MD589_prep2_10.0um_detector998/MD589-N68-2015.07.30-20.43.04_MD589_3_0204_prep2_10.0um_detector998/MD589-N68-2015.07.30-20.43.04_MD589_3_0204_prep2_10.0um_detector998_SNR_scoremap.bp\" \"s3://mousebrainatlas-data/CSHL_scoremaps/10.0um/MD589/MD589_prep2_10.0um_detector998/MD589-N68-2015.07.30-20.43.04_MD589_3_0204_prep2_10.0um_detector998/MD589-N68-2015.07.30-20.43.04_MD589_3_0204_prep2_10.0um_detector998_SNR_scoremap.bp\"\n",
      "0\n",
      "aws s3 cp \"/home/yuncong/CSHL_scoremap_viz/10.0um/SNR/MD589/detector998/prep2/MD589-N68-2015.07.30-20.43.04_MD589_3_0204_prep2_10.0um_SNR_detector998_scoremapViz.jpg\" \"s3://mousebrainatlas-data/CSHL_scoremap_viz/10.0um/SNR/MD589/detector998/prep2/MD589-N68-2015.07.30-20.43.04_MD589_3_0204_prep2_10.0um_SNR_detector998_scoremapViz.jpg\"\n",
      "0\n",
      "aws s3 cp \"/home/yuncong/CSHL_scoremaps/10.0um/MD589/MD589_prep2_10.0um_detector998/MD589-N68-2015.07.30-20.43.04_MD589_3_0204_prep2_10.0um_detector998/MD589-N68-2015.07.30-20.43.04_MD589_3_0204_prep2_10.0um_detector998_SC_scoremap.bp\" \"s3://mousebrainatlas-data/CSHL_scoremaps/10.0um/MD589/MD589_prep2_10.0um_detector998/MD589-N68-2015.07.30-20.43.04_MD589_3_0204_prep2_10.0um_detector998/MD589-N68-2015.07.30-20.43.04_MD589_3_0204_prep2_10.0um_detector998_SC_scoremap.bp\"\n",
      "0\n",
      "aws s3 cp \"/home/yuncong/CSHL_scoremap_viz/10.0um/SC/MD589/detector998/prep2/MD589-N68-2015.07.30-20.43.04_MD589_3_0204_prep2_10.0um_SC_detector998_scoremapViz.jpg\" \"s3://mousebrainatlas-data/CSHL_scoremap_viz/10.0um/SC/MD589/detector998/prep2/MD589-N68-2015.07.30-20.43.04_MD589_3_0204_prep2_10.0um_SC_detector998_scoremapViz.jpg\"\n",
      "0\n",
      "aws s3 cp \"/home/yuncong/CSHL_scoremaps/10.0um/MD589/MD589_prep2_10.0um_detector998/MD589-N68-2015.07.30-20.43.04_MD589_3_0204_prep2_10.0um_detector998/MD589-N68-2015.07.30-20.43.04_MD589_3_0204_prep2_10.0um_detector998_RtTg_scoremap.bp\" \"s3://mousebrainatlas-data/CSHL_scoremaps/10.0um/MD589/MD589_prep2_10.0um_detector998/MD589-N68-2015.07.30-20.43.04_MD589_3_0204_prep2_10.0um_detector998/MD589-N68-2015.07.30-20.43.04_MD589_3_0204_prep2_10.0um_detector998_RtTg_scoremap.bp\"\n",
      "0\n",
      "aws s3 cp \"/home/yuncong/CSHL_scoremap_viz/10.0um/RtTg/MD589/detector998/prep2/MD589-N68-2015.07.30-20.43.04_MD589_3_0204_prep2_10.0um_RtTg_detector998_scoremapViz.jpg\" \"s3://mousebrainatlas-data/CSHL_scoremap_viz/10.0um/RtTg/MD589/detector998/prep2/MD589-N68-2015.07.30-20.43.04_MD589_3_0204_prep2_10.0um_RtTg_detector998_scoremapViz.jpg\"\n",
      "0\n"
     ]
    },
    {
     "name": "stderr",
     "output_type": "stream",
     "text": [
      "locate patches: 0.05 seconds\n",
      "Load pre-computed features: 1.23 seconds\n"
     ]
    },
    {
     "name": "stdout",
     "output_type": "stream",
     "text": [
      "rm -rf \"/media/yuncong/BstemAtlasData/CSHL_data_processed/MD589/MD589_prep2_lossless_grayJpeg/MD589-IHC68-2015.07.31-02.03.18_MD589_3_0204_prep2_lossless_grayJpeg.jpg\" && mkdir -p \"/media/yuncong/BstemAtlasData/CSHL_data_processed/MD589/MD589_prep2_lossless_grayJpeg\"\n",
      "0\n",
      "aws s3 cp \"s3://mousebrainatlas-data/CSHL_data_processed/MD589/MD589_prep2_lossless_grayJpeg/MD589-IHC68-2015.07.31-02.03.18_MD589_3_0204_prep2_lossless_grayJpeg.jpg\" \"/media/yuncong/BstemAtlasData/CSHL_data_processed/MD589/MD589_prep2_lossless_grayJpeg/MD589-IHC68-2015.07.31-02.03.18_MD589_3_0204_prep2_lossless_grayJpeg.jpg\"\n",
      "0\n"
     ]
    },
    {
     "name": "stderr",
     "output_type": "stream",
     "text": [
      "Not using image_cache.\n"
     ]
    },
    {
     "name": "stdout",
     "output_type": "stream",
     "text": [
      "/media/yuncong/BstemAtlasData/CSHL_data_processed/MD589/MD589_prep2_lossless_grayJpeg/MD589-IHC68-2015.07.31-02.03.18_MD589_3_0204_prep2_lossless_grayJpeg.jpg\n"
     ]
    },
    {
     "name": "stderr",
     "output_type": "stream",
     "text": [
      "Load background image: 3.19 seconds\n",
      "Rescale background image to output resolution: 2.23 seconds\n",
      "Predict scores Tz: 0.11 seconds\n",
      "Rescample scoremap Tz: 0.06 seconds\n",
      "Load and rescale background image: 0.00 seconds\n",
      "Generate scoremap overlay: 0.05 seconds.\n",
      "Scoremap size does not match background image size. Need to resize: 0.06 seconds.\n",
      "Genearte scoremap overlay image Tz: 0.14 seconds\n",
      "Predict scores VCA: 0.11 seconds\n"
     ]
    },
    {
     "name": "stdout",
     "output_type": "stream",
     "text": [
      "(549, 714, 3) (549, 714)\n"
     ]
    },
    {
     "name": "stderr",
     "output_type": "stream",
     "text": [
      "Rescample scoremap VCA: 0.06 seconds\n",
      "Load and rescale background image: 0.00 seconds\n",
      "Generate scoremap overlay: 0.05 seconds.\n",
      "Scoremap size does not match background image size. Need to resize: 0.05 seconds.\n",
      "Genearte scoremap overlay image VCA: 0.13 seconds\n"
     ]
    },
    {
     "name": "stdout",
     "output_type": "stream",
     "text": [
      "(549, 714, 3) (549, 714)\n"
     ]
    },
    {
     "name": "stderr",
     "output_type": "stream",
     "text": [
      "Predict scores 7n: 0.11 seconds\n",
      "Rescample scoremap 7n: 0.06 seconds\n",
      "Load and rescale background image: 0.00 seconds\n",
      "Generate scoremap overlay: 0.05 seconds.\n",
      "Scoremap size does not match background image size. Need to resize: 0.05 seconds.\n",
      "Genearte scoremap overlay image 7n: 0.13 seconds\n"
     ]
    },
    {
     "name": "stdout",
     "output_type": "stream",
     "text": [
      "(549, 714, 3) (549, 714)\n"
     ]
    },
    {
     "name": "stderr",
     "output_type": "stream",
     "text": [
      "Predict scores DC: 0.11 seconds\n",
      "Rescample scoremap DC: 0.06 seconds\n",
      "Load and rescale background image: 0.00 seconds\n",
      "Generate scoremap overlay: 0.05 seconds.\n",
      "Scoremap size does not match background image size. Need to resize: 0.05 seconds.\n",
      "Genearte scoremap overlay image DC: 0.14 seconds\n"
     ]
    },
    {
     "name": "stdout",
     "output_type": "stream",
     "text": [
      "(549, 714, 3) (549, 714)\n"
     ]
    },
    {
     "name": "stderr",
     "output_type": "stream",
     "text": [
      "Predict scores 5N: 0.11 seconds\n",
      "Rescample scoremap 5N: 0.06 seconds\n",
      "Load and rescale background image: 0.00 seconds\n",
      "Generate scoremap overlay: 0.05 seconds.\n",
      "Scoremap size does not match background image size. Need to resize: 0.05 seconds.\n",
      "Genearte scoremap overlay image 5N: 0.13 seconds\n"
     ]
    },
    {
     "name": "stdout",
     "output_type": "stream",
     "text": [
      "(549, 714, 3) (549, 714)\n"
     ]
    },
    {
     "name": "stderr",
     "output_type": "stream",
     "text": [
      "Predict scores 3N: 0.11 seconds\n",
      "Rescample scoremap 3N: 0.06 seconds\n",
      "Load and rescale background image: 0.00 seconds\n",
      "Generate scoremap overlay: 0.05 seconds.\n",
      "Scoremap size does not match background image size. Need to resize: 0.05 seconds.\n",
      "Genearte scoremap overlay image 3N: 0.13 seconds\n"
     ]
    },
    {
     "name": "stdout",
     "output_type": "stream",
     "text": [
      "(549, 714, 3) (549, 714)\n"
     ]
    },
    {
     "name": "stderr",
     "output_type": "stream",
     "text": [
      "Predict scores Pn: 0.11 seconds\n",
      "Rescample scoremap Pn: 0.06 seconds\n",
      "Load and rescale background image: 0.00 seconds\n",
      "Generate scoremap overlay: 0.05 seconds.\n",
      "Scoremap size does not match background image size. Need to resize: 0.05 seconds.\n",
      "Genearte scoremap overlay image Pn: 0.13 seconds\n"
     ]
    },
    {
     "name": "stdout",
     "output_type": "stream",
     "text": [
      "(549, 714, 3) (549, 714)\n"
     ]
    },
    {
     "name": "stderr",
     "output_type": "stream",
     "text": [
      "Predict scores 10N: 0.11 seconds\n",
      "Rescample scoremap 10N: 0.06 seconds\n",
      "Load and rescale background image: 0.00 seconds\n",
      "Generate scoremap overlay: 0.05 seconds.\n",
      "Scoremap size does not match background image size. Need to resize: 0.05 seconds.\n",
      "Genearte scoremap overlay image 10N: 0.13 seconds\n"
     ]
    },
    {
     "name": "stdout",
     "output_type": "stream",
     "text": [
      "(549, 714, 3) (549, 714)\n"
     ]
    },
    {
     "name": "stderr",
     "output_type": "stream",
     "text": [
      "Predict scores LC: 0.11 seconds\n",
      "Rescample scoremap LC: 0.06 seconds\n",
      "Load and rescale background image: 0.00 seconds\n",
      "Generate scoremap overlay: 0.05 seconds.\n",
      "Scoremap size does not match background image size. Need to resize: 0.05 seconds.\n",
      "Genearte scoremap overlay image LC: 0.13 seconds\n"
     ]
    },
    {
     "name": "stdout",
     "output_type": "stream",
     "text": [
      "(549, 714, 3) (549, 714)\n"
     ]
    },
    {
     "name": "stderr",
     "output_type": "stream",
     "text": [
      "Predict scores 7N: 0.11 seconds\n",
      "Rescample scoremap 7N: 0.06 seconds\n",
      "Load and rescale background image: 0.00 seconds\n",
      "Generate scoremap overlay: 0.05 seconds.\n",
      "Scoremap size does not match background image size. Need to resize: 0.05 seconds.\n",
      "Genearte scoremap overlay image 7N: 0.13 seconds\n"
     ]
    },
    {
     "name": "stdout",
     "output_type": "stream",
     "text": [
      "(549, 714, 3) (549, 714)\n"
     ]
    },
    {
     "name": "stderr",
     "output_type": "stream",
     "text": [
      "Predict scores Amb: 0.11 seconds\n",
      "Rescample scoremap Amb: 0.06 seconds\n",
      "Load and rescale background image: 0.00 seconds\n",
      "Generate scoremap overlay: 0.05 seconds.\n",
      "Scoremap size does not match background image size. Need to resize: 0.05 seconds.\n",
      "Genearte scoremap overlay image Amb: 0.13 seconds\n"
     ]
    },
    {
     "name": "stdout",
     "output_type": "stream",
     "text": [
      "(549, 714, 3) (549, 714)\n"
     ]
    },
    {
     "name": "stderr",
     "output_type": "stream",
     "text": [
      "Predict scores 12N: 0.11 seconds\n",
      "Rescample scoremap 12N: 0.06 seconds\n",
      "Load and rescale background image: 0.00 seconds\n",
      "Generate scoremap overlay: 0.05 seconds.\n",
      "Scoremap size does not match background image size. Need to resize: 0.05 seconds.\n",
      "Genearte scoremap overlay image 12N: 0.13 seconds\n"
     ]
    },
    {
     "name": "stdout",
     "output_type": "stream",
     "text": [
      "(549, 714, 3) (549, 714)\n"
     ]
    },
    {
     "name": "stderr",
     "output_type": "stream",
     "text": [
      "Predict scores RMC: 0.11 seconds\n",
      "Rescample scoremap RMC: 0.06 seconds\n",
      "Load and rescale background image: 0.00 seconds\n",
      "Generate scoremap overlay: 0.05 seconds.\n",
      "Scoremap size does not match background image size. Need to resize: 0.05 seconds.\n",
      "Genearte scoremap overlay image RMC: 0.14 seconds\n"
     ]
    },
    {
     "name": "stdout",
     "output_type": "stream",
     "text": [
      "(549, 714, 3) (549, 714)\n"
     ]
    },
    {
     "name": "stderr",
     "output_type": "stream",
     "text": [
      "Predict scores Sp5O: 0.11 seconds\n",
      "Rescample scoremap Sp5O: 0.06 seconds\n",
      "Load and rescale background image: 0.00 seconds\n",
      "Generate scoremap overlay: 0.05 seconds.\n",
      "Scoremap size does not match background image size. Need to resize: 0.05 seconds.\n",
      "Genearte scoremap overlay image Sp5O: 0.13 seconds\n"
     ]
    },
    {
     "name": "stdout",
     "output_type": "stream",
     "text": [
      "(549, 714, 3) (549, 714)\n"
     ]
    },
    {
     "name": "stderr",
     "output_type": "stream",
     "text": [
      "Predict scores Sp5I: 0.11 seconds\n",
      "Rescample scoremap Sp5I: 0.06 seconds\n",
      "Load and rescale background image: 0.00 seconds\n",
      "Generate scoremap overlay: 0.05 seconds.\n",
      "Scoremap size does not match background image size. Need to resize: 0.05 seconds.\n",
      "Genearte scoremap overlay image Sp5I: 0.14 seconds\n"
     ]
    },
    {
     "name": "stdout",
     "output_type": "stream",
     "text": [
      "(549, 714, 3) (549, 714)\n"
     ]
    },
    {
     "name": "stderr",
     "output_type": "stream",
     "text": [
      "Predict scores Sp5C: 0.11 seconds\n",
      "Rescample scoremap Sp5C: 0.06 seconds\n",
      "Load and rescale background image: 0.00 seconds\n",
      "Generate scoremap overlay: 0.05 seconds.\n",
      "Scoremap size does not match background image size. Need to resize: 0.05 seconds.\n",
      "Genearte scoremap overlay image Sp5C: 0.14 seconds\n"
     ]
    },
    {
     "name": "stdout",
     "output_type": "stream",
     "text": [
      "(549, 714, 3) (549, 714)\n"
     ]
    },
    {
     "name": "stderr",
     "output_type": "stream",
     "text": [
      "Predict scores VCP: 0.11 seconds\n",
      "Rescample scoremap VCP: 0.06 seconds\n",
      "Load and rescale background image: 0.00 seconds\n",
      "Generate scoremap overlay: 0.05 seconds.\n",
      "Scoremap size does not match background image size. Need to resize: 0.05 seconds.\n",
      "Genearte scoremap overlay image VCP: 0.13 seconds\n"
     ]
    },
    {
     "name": "stdout",
     "output_type": "stream",
     "text": [
      "(549, 714, 3) (549, 714)\n"
     ]
    },
    {
     "name": "stderr",
     "output_type": "stream",
     "text": [
      "Predict scores AP: 0.11 seconds\n",
      "Rescample scoremap AP: 0.07 seconds\n",
      "Load and rescale background image: 0.00 seconds\n",
      "Generate scoremap overlay: 0.05 seconds.\n",
      "Scoremap size does not match background image size. Need to resize: 0.05 seconds.\n",
      "Genearte scoremap overlay image AP: 0.12 seconds\n"
     ]
    },
    {
     "name": "stdout",
     "output_type": "stream",
     "text": [
      "(549, 714, 3) (549, 714)\n"
     ]
    },
    {
     "name": "stderr",
     "output_type": "stream",
     "text": [
      "Predict scores PBG: 0.15 seconds\n",
      "Rescample scoremap PBG: 0.05 seconds\n",
      "Load and rescale background image: 0.00 seconds\n",
      "Generate scoremap overlay: 0.05 seconds.\n",
      "Scoremap size does not match background image size. Need to resize: 0.05 seconds.\n",
      "Genearte scoremap overlay image PBG: 0.14 seconds\n"
     ]
    },
    {
     "name": "stdout",
     "output_type": "stream",
     "text": [
      "(549, 714, 3) (549, 714)\n"
     ]
    },
    {
     "name": "stderr",
     "output_type": "stream",
     "text": [
      "Predict scores LRt: 0.11 seconds\n",
      "Rescample scoremap LRt: 0.06 seconds\n",
      "Load and rescale background image: 0.00 seconds\n",
      "Generate scoremap overlay: 0.05 seconds.\n",
      "Scoremap size does not match background image size. Need to resize: 0.05 seconds.\n",
      "Genearte scoremap overlay image LRt: 0.14 seconds\n"
     ]
    },
    {
     "name": "stdout",
     "output_type": "stream",
     "text": [
      "(549, 714, 3) (549, 714)\n"
     ]
    },
    {
     "name": "stderr",
     "output_type": "stream",
     "text": [
      "Predict scores IC: 0.11 seconds\n",
      "Rescample scoremap IC: 0.06 seconds\n",
      "Load and rescale background image: 0.00 seconds\n",
      "Generate scoremap overlay: 0.05 seconds.\n",
      "Scoremap size does not match background image size. Need to resize: 0.05 seconds.\n",
      "Genearte scoremap overlay image IC: 0.14 seconds\n"
     ]
    },
    {
     "name": "stdout",
     "output_type": "stream",
     "text": [
      "(549, 714, 3) (549, 714)\n"
     ]
    },
    {
     "name": "stderr",
     "output_type": "stream",
     "text": [
      "Predict scores VLL: 0.12 seconds\n",
      "Rescample scoremap VLL: 0.06 seconds\n",
      "Load and rescale background image: 0.00 seconds\n",
      "Generate scoremap overlay: 0.05 seconds.\n",
      "Scoremap size does not match background image size. Need to resize: 0.05 seconds.\n",
      "Genearte scoremap overlay image VLL: 0.14 seconds\n"
     ]
    },
    {
     "name": "stdout",
     "output_type": "stream",
     "text": [
      "(549, 714, 3) (549, 714)\n"
     ]
    },
    {
     "name": "stderr",
     "output_type": "stream",
     "text": [
      "Predict scores 4N: 0.11 seconds\n",
      "Rescample scoremap 4N: 0.06 seconds\n",
      "Load and rescale background image: 0.00 seconds\n",
      "Generate scoremap overlay: 0.05 seconds.\n",
      "Scoremap size does not match background image size. Need to resize: 0.05 seconds.\n",
      "Genearte scoremap overlay image 4N: 0.14 seconds\n"
     ]
    },
    {
     "name": "stdout",
     "output_type": "stream",
     "text": [
      "(549, 714, 3) (549, 714)\n"
     ]
    },
    {
     "name": "stderr",
     "output_type": "stream",
     "text": [
      "Predict scores SNC: 0.11 seconds\n",
      "Rescample scoremap SNC: 0.06 seconds\n",
      "Load and rescale background image: 0.00 seconds\n",
      "Generate scoremap overlay: 0.05 seconds.\n",
      "Scoremap size does not match background image size. Need to resize: 0.05 seconds.\n",
      "Genearte scoremap overlay image SNC: 0.14 seconds\n"
     ]
    },
    {
     "name": "stdout",
     "output_type": "stream",
     "text": [
      "(549, 714, 3) (549, 714)\n"
     ]
    },
    {
     "name": "stderr",
     "output_type": "stream",
     "text": [
      "Predict scores 6N: 0.11 seconds\n",
      "Rescample scoremap 6N: 0.06 seconds\n",
      "Load and rescale background image: 0.00 seconds\n",
      "Generate scoremap overlay: 0.05 seconds.\n",
      "Scoremap size does not match background image size. Need to resize: 0.05 seconds.\n",
      "Genearte scoremap overlay image 6N: 0.14 seconds\n"
     ]
    },
    {
     "name": "stdout",
     "output_type": "stream",
     "text": [
      "(549, 714, 3) (549, 714)\n"
     ]
    },
    {
     "name": "stderr",
     "output_type": "stream",
     "text": [
      "Predict scores SNR: 0.11 seconds\n",
      "Rescample scoremap SNR: 0.06 seconds\n",
      "Load and rescale background image: 0.00 seconds\n",
      "Generate scoremap overlay: 0.05 seconds.\n",
      "Scoremap size does not match background image size. Need to resize: 0.05 seconds.\n",
      "Genearte scoremap overlay image SNR: 0.14 seconds\n"
     ]
    },
    {
     "name": "stdout",
     "output_type": "stream",
     "text": [
      "(549, 714, 3) (549, 714)\n"
     ]
    },
    {
     "name": "stderr",
     "output_type": "stream",
     "text": [
      "Predict scores SC: 0.11 seconds\n",
      "Rescample scoremap SC: 0.06 seconds\n",
      "Load and rescale background image: 0.00 seconds\n",
      "Generate scoremap overlay: 0.05 seconds.\n",
      "Scoremap size does not match background image size. Need to resize: 0.05 seconds.\n",
      "Genearte scoremap overlay image SC: 0.14 seconds\n"
     ]
    },
    {
     "name": "stdout",
     "output_type": "stream",
     "text": [
      "(549, 714, 3) (549, 714)\n"
     ]
    },
    {
     "name": "stderr",
     "output_type": "stream",
     "text": [
      "Predict scores RtTg: 0.11 seconds\n",
      "Rescample scoremap RtTg: 0.06 seconds\n",
      "Load and rescale background image: 0.00 seconds\n",
      "Generate scoremap overlay: 0.05 seconds.\n",
      "Scoremap size does not match background image size. Need to resize: 0.05 seconds.\n",
      "Genearte scoremap overlay image RtTg: 0.13 seconds\n"
     ]
    },
    {
     "name": "stdout",
     "output_type": "stream",
     "text": [
      "(549, 714, 3) (549, 714)\n",
      "aws s3 cp \"/home/yuncong/CSHL_scoremaps/10.0um/MD589/MD589_prep2_10.0um_detector998/MD589-IHC68-2015.07.31-02.03.18_MD589_3_0204_prep2_10.0um_detector998/MD589-IHC68-2015.07.31-02.03.18_MD589_3_0204_prep2_10.0um_detector998_Tz_scoremap.bp\" \"s3://mousebrainatlas-data/CSHL_scoremaps/10.0um/MD589/MD589_prep2_10.0um_detector998/MD589-IHC68-2015.07.31-02.03.18_MD589_3_0204_prep2_10.0um_detector998/MD589-IHC68-2015.07.31-02.03.18_MD589_3_0204_prep2_10.0um_detector998_Tz_scoremap.bp\"\n",
      "0\n",
      "aws s3 cp \"/home/yuncong/CSHL_scoremap_viz/10.0um/Tz/MD589/detector998/prep2/MD589-IHC68-2015.07.31-02.03.18_MD589_3_0204_prep2_10.0um_Tz_detector998_scoremapViz.jpg\" \"s3://mousebrainatlas-data/CSHL_scoremap_viz/10.0um/Tz/MD589/detector998/prep2/MD589-IHC68-2015.07.31-02.03.18_MD589_3_0204_prep2_10.0um_Tz_detector998_scoremapViz.jpg\"\n",
      "0\n",
      "aws s3 cp \"/home/yuncong/CSHL_scoremaps/10.0um/MD589/MD589_prep2_10.0um_detector998/MD589-IHC68-2015.07.31-02.03.18_MD589_3_0204_prep2_10.0um_detector998/MD589-IHC68-2015.07.31-02.03.18_MD589_3_0204_prep2_10.0um_detector998_VCA_scoremap.bp\" \"s3://mousebrainatlas-data/CSHL_scoremaps/10.0um/MD589/MD589_prep2_10.0um_detector998/MD589-IHC68-2015.07.31-02.03.18_MD589_3_0204_prep2_10.0um_detector998/MD589-IHC68-2015.07.31-02.03.18_MD589_3_0204_prep2_10.0um_detector998_VCA_scoremap.bp\"\n",
      "0\n",
      "aws s3 cp \"/home/yuncong/CSHL_scoremap_viz/10.0um/VCA/MD589/detector998/prep2/MD589-IHC68-2015.07.31-02.03.18_MD589_3_0204_prep2_10.0um_VCA_detector998_scoremapViz.jpg\" \"s3://mousebrainatlas-data/CSHL_scoremap_viz/10.0um/VCA/MD589/detector998/prep2/MD589-IHC68-2015.07.31-02.03.18_MD589_3_0204_prep2_10.0um_VCA_detector998_scoremapViz.jpg\"\n",
      "0\n",
      "aws s3 cp \"/home/yuncong/CSHL_scoremaps/10.0um/MD589/MD589_prep2_10.0um_detector998/MD589-IHC68-2015.07.31-02.03.18_MD589_3_0204_prep2_10.0um_detector998/MD589-IHC68-2015.07.31-02.03.18_MD589_3_0204_prep2_10.0um_detector998_7n_scoremap.bp\" \"s3://mousebrainatlas-data/CSHL_scoremaps/10.0um/MD589/MD589_prep2_10.0um_detector998/MD589-IHC68-2015.07.31-02.03.18_MD589_3_0204_prep2_10.0um_detector998/MD589-IHC68-2015.07.31-02.03.18_MD589_3_0204_prep2_10.0um_detector998_7n_scoremap.bp\"\n",
      "0\n",
      "aws s3 cp \"/home/yuncong/CSHL_scoremap_viz/10.0um/7n/MD589/detector998/prep2/MD589-IHC68-2015.07.31-02.03.18_MD589_3_0204_prep2_10.0um_7n_detector998_scoremapViz.jpg\" \"s3://mousebrainatlas-data/CSHL_scoremap_viz/10.0um/7n/MD589/detector998/prep2/MD589-IHC68-2015.07.31-02.03.18_MD589_3_0204_prep2_10.0um_7n_detector998_scoremapViz.jpg\"\n",
      "0\n",
      "aws s3 cp \"/home/yuncong/CSHL_scoremaps/10.0um/MD589/MD589_prep2_10.0um_detector998/MD589-IHC68-2015.07.31-02.03.18_MD589_3_0204_prep2_10.0um_detector998/MD589-IHC68-2015.07.31-02.03.18_MD589_3_0204_prep2_10.0um_detector998_DC_scoremap.bp\" \"s3://mousebrainatlas-data/CSHL_scoremaps/10.0um/MD589/MD589_prep2_10.0um_detector998/MD589-IHC68-2015.07.31-02.03.18_MD589_3_0204_prep2_10.0um_detector998/MD589-IHC68-2015.07.31-02.03.18_MD589_3_0204_prep2_10.0um_detector998_DC_scoremap.bp\"\n",
      "0\n",
      "aws s3 cp \"/home/yuncong/CSHL_scoremap_viz/10.0um/DC/MD589/detector998/prep2/MD589-IHC68-2015.07.31-02.03.18_MD589_3_0204_prep2_10.0um_DC_detector998_scoremapViz.jpg\" \"s3://mousebrainatlas-data/CSHL_scoremap_viz/10.0um/DC/MD589/detector998/prep2/MD589-IHC68-2015.07.31-02.03.18_MD589_3_0204_prep2_10.0um_DC_detector998_scoremapViz.jpg\"\n",
      "0\n",
      "aws s3 cp \"/home/yuncong/CSHL_scoremaps/10.0um/MD589/MD589_prep2_10.0um_detector998/MD589-IHC68-2015.07.31-02.03.18_MD589_3_0204_prep2_10.0um_detector998/MD589-IHC68-2015.07.31-02.03.18_MD589_3_0204_prep2_10.0um_detector998_5N_scoremap.bp\" \"s3://mousebrainatlas-data/CSHL_scoremaps/10.0um/MD589/MD589_prep2_10.0um_detector998/MD589-IHC68-2015.07.31-02.03.18_MD589_3_0204_prep2_10.0um_detector998/MD589-IHC68-2015.07.31-02.03.18_MD589_3_0204_prep2_10.0um_detector998_5N_scoremap.bp\"\n",
      "0\n",
      "aws s3 cp \"/home/yuncong/CSHL_scoremap_viz/10.0um/5N/MD589/detector998/prep2/MD589-IHC68-2015.07.31-02.03.18_MD589_3_0204_prep2_10.0um_5N_detector998_scoremapViz.jpg\" \"s3://mousebrainatlas-data/CSHL_scoremap_viz/10.0um/5N/MD589/detector998/prep2/MD589-IHC68-2015.07.31-02.03.18_MD589_3_0204_prep2_10.0um_5N_detector998_scoremapViz.jpg\"\n",
      "0\n",
      "aws s3 cp \"/home/yuncong/CSHL_scoremaps/10.0um/MD589/MD589_prep2_10.0um_detector998/MD589-IHC68-2015.07.31-02.03.18_MD589_3_0204_prep2_10.0um_detector998/MD589-IHC68-2015.07.31-02.03.18_MD589_3_0204_prep2_10.0um_detector998_3N_scoremap.bp\" \"s3://mousebrainatlas-data/CSHL_scoremaps/10.0um/MD589/MD589_prep2_10.0um_detector998/MD589-IHC68-2015.07.31-02.03.18_MD589_3_0204_prep2_10.0um_detector998/MD589-IHC68-2015.07.31-02.03.18_MD589_3_0204_prep2_10.0um_detector998_3N_scoremap.bp\"\n",
      "0\n",
      "aws s3 cp \"/home/yuncong/CSHL_scoremap_viz/10.0um/3N/MD589/detector998/prep2/MD589-IHC68-2015.07.31-02.03.18_MD589_3_0204_prep2_10.0um_3N_detector998_scoremapViz.jpg\" \"s3://mousebrainatlas-data/CSHL_scoremap_viz/10.0um/3N/MD589/detector998/prep2/MD589-IHC68-2015.07.31-02.03.18_MD589_3_0204_prep2_10.0um_3N_detector998_scoremapViz.jpg\"\n",
      "0\n",
      "aws s3 cp \"/home/yuncong/CSHL_scoremaps/10.0um/MD589/MD589_prep2_10.0um_detector998/MD589-IHC68-2015.07.31-02.03.18_MD589_3_0204_prep2_10.0um_detector998/MD589-IHC68-2015.07.31-02.03.18_MD589_3_0204_prep2_10.0um_detector998_Pn_scoremap.bp\" \"s3://mousebrainatlas-data/CSHL_scoremaps/10.0um/MD589/MD589_prep2_10.0um_detector998/MD589-IHC68-2015.07.31-02.03.18_MD589_3_0204_prep2_10.0um_detector998/MD589-IHC68-2015.07.31-02.03.18_MD589_3_0204_prep2_10.0um_detector998_Pn_scoremap.bp\"\n",
      "0\n",
      "aws s3 cp \"/home/yuncong/CSHL_scoremap_viz/10.0um/Pn/MD589/detector998/prep2/MD589-IHC68-2015.07.31-02.03.18_MD589_3_0204_prep2_10.0um_Pn_detector998_scoremapViz.jpg\" \"s3://mousebrainatlas-data/CSHL_scoremap_viz/10.0um/Pn/MD589/detector998/prep2/MD589-IHC68-2015.07.31-02.03.18_MD589_3_0204_prep2_10.0um_Pn_detector998_scoremapViz.jpg\"\n",
      "0\n",
      "aws s3 cp \"/home/yuncong/CSHL_scoremaps/10.0um/MD589/MD589_prep2_10.0um_detector998/MD589-IHC68-2015.07.31-02.03.18_MD589_3_0204_prep2_10.0um_detector998/MD589-IHC68-2015.07.31-02.03.18_MD589_3_0204_prep2_10.0um_detector998_10N_scoremap.bp\" \"s3://mousebrainatlas-data/CSHL_scoremaps/10.0um/MD589/MD589_prep2_10.0um_detector998/MD589-IHC68-2015.07.31-02.03.18_MD589_3_0204_prep2_10.0um_detector998/MD589-IHC68-2015.07.31-02.03.18_MD589_3_0204_prep2_10.0um_detector998_10N_scoremap.bp\"\n",
      "0\n",
      "aws s3 cp \"/home/yuncong/CSHL_scoremap_viz/10.0um/10N/MD589/detector998/prep2/MD589-IHC68-2015.07.31-02.03.18_MD589_3_0204_prep2_10.0um_10N_detector998_scoremapViz.jpg\" \"s3://mousebrainatlas-data/CSHL_scoremap_viz/10.0um/10N/MD589/detector998/prep2/MD589-IHC68-2015.07.31-02.03.18_MD589_3_0204_prep2_10.0um_10N_detector998_scoremapViz.jpg\"\n",
      "0\n",
      "aws s3 cp \"/home/yuncong/CSHL_scoremaps/10.0um/MD589/MD589_prep2_10.0um_detector998/MD589-IHC68-2015.07.31-02.03.18_MD589_3_0204_prep2_10.0um_detector998/MD589-IHC68-2015.07.31-02.03.18_MD589_3_0204_prep2_10.0um_detector998_LC_scoremap.bp\" \"s3://mousebrainatlas-data/CSHL_scoremaps/10.0um/MD589/MD589_prep2_10.0um_detector998/MD589-IHC68-2015.07.31-02.03.18_MD589_3_0204_prep2_10.0um_detector998/MD589-IHC68-2015.07.31-02.03.18_MD589_3_0204_prep2_10.0um_detector998_LC_scoremap.bp\"\n",
      "0\n",
      "aws s3 cp \"/home/yuncong/CSHL_scoremap_viz/10.0um/LC/MD589/detector998/prep2/MD589-IHC68-2015.07.31-02.03.18_MD589_3_0204_prep2_10.0um_LC_detector998_scoremapViz.jpg\" \"s3://mousebrainatlas-data/CSHL_scoremap_viz/10.0um/LC/MD589/detector998/prep2/MD589-IHC68-2015.07.31-02.03.18_MD589_3_0204_prep2_10.0um_LC_detector998_scoremapViz.jpg\"\n",
      "0\n",
      "aws s3 cp \"/home/yuncong/CSHL_scoremaps/10.0um/MD589/MD589_prep2_10.0um_detector998/MD589-IHC68-2015.07.31-02.03.18_MD589_3_0204_prep2_10.0um_detector998/MD589-IHC68-2015.07.31-02.03.18_MD589_3_0204_prep2_10.0um_detector998_7N_scoremap.bp\" \"s3://mousebrainatlas-data/CSHL_scoremaps/10.0um/MD589/MD589_prep2_10.0um_detector998/MD589-IHC68-2015.07.31-02.03.18_MD589_3_0204_prep2_10.0um_detector998/MD589-IHC68-2015.07.31-02.03.18_MD589_3_0204_prep2_10.0um_detector998_7N_scoremap.bp\"\n",
      "0\n",
      "aws s3 cp \"/home/yuncong/CSHL_scoremap_viz/10.0um/7N/MD589/detector998/prep2/MD589-IHC68-2015.07.31-02.03.18_MD589_3_0204_prep2_10.0um_7N_detector998_scoremapViz.jpg\" \"s3://mousebrainatlas-data/CSHL_scoremap_viz/10.0um/7N/MD589/detector998/prep2/MD589-IHC68-2015.07.31-02.03.18_MD589_3_0204_prep2_10.0um_7N_detector998_scoremapViz.jpg\"\n"
     ]
    },
    {
     "name": "stdout",
     "output_type": "stream",
     "text": [
      "0\n",
      "aws s3 cp \"/home/yuncong/CSHL_scoremaps/10.0um/MD589/MD589_prep2_10.0um_detector998/MD589-IHC68-2015.07.31-02.03.18_MD589_3_0204_prep2_10.0um_detector998/MD589-IHC68-2015.07.31-02.03.18_MD589_3_0204_prep2_10.0um_detector998_Amb_scoremap.bp\" \"s3://mousebrainatlas-data/CSHL_scoremaps/10.0um/MD589/MD589_prep2_10.0um_detector998/MD589-IHC68-2015.07.31-02.03.18_MD589_3_0204_prep2_10.0um_detector998/MD589-IHC68-2015.07.31-02.03.18_MD589_3_0204_prep2_10.0um_detector998_Amb_scoremap.bp\"\n",
      "0\n",
      "aws s3 cp \"/home/yuncong/CSHL_scoremap_viz/10.0um/Amb/MD589/detector998/prep2/MD589-IHC68-2015.07.31-02.03.18_MD589_3_0204_prep2_10.0um_Amb_detector998_scoremapViz.jpg\" \"s3://mousebrainatlas-data/CSHL_scoremap_viz/10.0um/Amb/MD589/detector998/prep2/MD589-IHC68-2015.07.31-02.03.18_MD589_3_0204_prep2_10.0um_Amb_detector998_scoremapViz.jpg\"\n",
      "0\n",
      "aws s3 cp \"/home/yuncong/CSHL_scoremaps/10.0um/MD589/MD589_prep2_10.0um_detector998/MD589-IHC68-2015.07.31-02.03.18_MD589_3_0204_prep2_10.0um_detector998/MD589-IHC68-2015.07.31-02.03.18_MD589_3_0204_prep2_10.0um_detector998_12N_scoremap.bp\" \"s3://mousebrainatlas-data/CSHL_scoremaps/10.0um/MD589/MD589_prep2_10.0um_detector998/MD589-IHC68-2015.07.31-02.03.18_MD589_3_0204_prep2_10.0um_detector998/MD589-IHC68-2015.07.31-02.03.18_MD589_3_0204_prep2_10.0um_detector998_12N_scoremap.bp\"\n",
      "0\n",
      "aws s3 cp \"/home/yuncong/CSHL_scoremap_viz/10.0um/12N/MD589/detector998/prep2/MD589-IHC68-2015.07.31-02.03.18_MD589_3_0204_prep2_10.0um_12N_detector998_scoremapViz.jpg\" \"s3://mousebrainatlas-data/CSHL_scoremap_viz/10.0um/12N/MD589/detector998/prep2/MD589-IHC68-2015.07.31-02.03.18_MD589_3_0204_prep2_10.0um_12N_detector998_scoremapViz.jpg\"\n",
      "0\n",
      "aws s3 cp \"/home/yuncong/CSHL_scoremaps/10.0um/MD589/MD589_prep2_10.0um_detector998/MD589-IHC68-2015.07.31-02.03.18_MD589_3_0204_prep2_10.0um_detector998/MD589-IHC68-2015.07.31-02.03.18_MD589_3_0204_prep2_10.0um_detector998_RMC_scoremap.bp\" \"s3://mousebrainatlas-data/CSHL_scoremaps/10.0um/MD589/MD589_prep2_10.0um_detector998/MD589-IHC68-2015.07.31-02.03.18_MD589_3_0204_prep2_10.0um_detector998/MD589-IHC68-2015.07.31-02.03.18_MD589_3_0204_prep2_10.0um_detector998_RMC_scoremap.bp\"\n",
      "0\n",
      "aws s3 cp \"/home/yuncong/CSHL_scoremap_viz/10.0um/RMC/MD589/detector998/prep2/MD589-IHC68-2015.07.31-02.03.18_MD589_3_0204_prep2_10.0um_RMC_detector998_scoremapViz.jpg\" \"s3://mousebrainatlas-data/CSHL_scoremap_viz/10.0um/RMC/MD589/detector998/prep2/MD589-IHC68-2015.07.31-02.03.18_MD589_3_0204_prep2_10.0um_RMC_detector998_scoremapViz.jpg\"\n",
      "0\n",
      "aws s3 cp \"/home/yuncong/CSHL_scoremaps/10.0um/MD589/MD589_prep2_10.0um_detector998/MD589-IHC68-2015.07.31-02.03.18_MD589_3_0204_prep2_10.0um_detector998/MD589-IHC68-2015.07.31-02.03.18_MD589_3_0204_prep2_10.0um_detector998_Sp5O_scoremap.bp\" \"s3://mousebrainatlas-data/CSHL_scoremaps/10.0um/MD589/MD589_prep2_10.0um_detector998/MD589-IHC68-2015.07.31-02.03.18_MD589_3_0204_prep2_10.0um_detector998/MD589-IHC68-2015.07.31-02.03.18_MD589_3_0204_prep2_10.0um_detector998_Sp5O_scoremap.bp\"\n",
      "0\n",
      "aws s3 cp \"/home/yuncong/CSHL_scoremap_viz/10.0um/Sp5O/MD589/detector998/prep2/MD589-IHC68-2015.07.31-02.03.18_MD589_3_0204_prep2_10.0um_Sp5O_detector998_scoremapViz.jpg\" \"s3://mousebrainatlas-data/CSHL_scoremap_viz/10.0um/Sp5O/MD589/detector998/prep2/MD589-IHC68-2015.07.31-02.03.18_MD589_3_0204_prep2_10.0um_Sp5O_detector998_scoremapViz.jpg\"\n",
      "0\n",
      "aws s3 cp \"/home/yuncong/CSHL_scoremaps/10.0um/MD589/MD589_prep2_10.0um_detector998/MD589-IHC68-2015.07.31-02.03.18_MD589_3_0204_prep2_10.0um_detector998/MD589-IHC68-2015.07.31-02.03.18_MD589_3_0204_prep2_10.0um_detector998_Sp5I_scoremap.bp\" \"s3://mousebrainatlas-data/CSHL_scoremaps/10.0um/MD589/MD589_prep2_10.0um_detector998/MD589-IHC68-2015.07.31-02.03.18_MD589_3_0204_prep2_10.0um_detector998/MD589-IHC68-2015.07.31-02.03.18_MD589_3_0204_prep2_10.0um_detector998_Sp5I_scoremap.bp\"\n",
      "0\n",
      "aws s3 cp \"/home/yuncong/CSHL_scoremap_viz/10.0um/Sp5I/MD589/detector998/prep2/MD589-IHC68-2015.07.31-02.03.18_MD589_3_0204_prep2_10.0um_Sp5I_detector998_scoremapViz.jpg\" \"s3://mousebrainatlas-data/CSHL_scoremap_viz/10.0um/Sp5I/MD589/detector998/prep2/MD589-IHC68-2015.07.31-02.03.18_MD589_3_0204_prep2_10.0um_Sp5I_detector998_scoremapViz.jpg\"\n",
      "0\n",
      "aws s3 cp \"/home/yuncong/CSHL_scoremaps/10.0um/MD589/MD589_prep2_10.0um_detector998/MD589-IHC68-2015.07.31-02.03.18_MD589_3_0204_prep2_10.0um_detector998/MD589-IHC68-2015.07.31-02.03.18_MD589_3_0204_prep2_10.0um_detector998_Sp5C_scoremap.bp\" \"s3://mousebrainatlas-data/CSHL_scoremaps/10.0um/MD589/MD589_prep2_10.0um_detector998/MD589-IHC68-2015.07.31-02.03.18_MD589_3_0204_prep2_10.0um_detector998/MD589-IHC68-2015.07.31-02.03.18_MD589_3_0204_prep2_10.0um_detector998_Sp5C_scoremap.bp\"\n",
      "0\n",
      "aws s3 cp \"/home/yuncong/CSHL_scoremap_viz/10.0um/Sp5C/MD589/detector998/prep2/MD589-IHC68-2015.07.31-02.03.18_MD589_3_0204_prep2_10.0um_Sp5C_detector998_scoremapViz.jpg\" \"s3://mousebrainatlas-data/CSHL_scoremap_viz/10.0um/Sp5C/MD589/detector998/prep2/MD589-IHC68-2015.07.31-02.03.18_MD589_3_0204_prep2_10.0um_Sp5C_detector998_scoremapViz.jpg\"\n",
      "0\n",
      "aws s3 cp \"/home/yuncong/CSHL_scoremaps/10.0um/MD589/MD589_prep2_10.0um_detector998/MD589-IHC68-2015.07.31-02.03.18_MD589_3_0204_prep2_10.0um_detector998/MD589-IHC68-2015.07.31-02.03.18_MD589_3_0204_prep2_10.0um_detector998_VCP_scoremap.bp\" \"s3://mousebrainatlas-data/CSHL_scoremaps/10.0um/MD589/MD589_prep2_10.0um_detector998/MD589-IHC68-2015.07.31-02.03.18_MD589_3_0204_prep2_10.0um_detector998/MD589-IHC68-2015.07.31-02.03.18_MD589_3_0204_prep2_10.0um_detector998_VCP_scoremap.bp\"\n",
      "0\n",
      "aws s3 cp \"/home/yuncong/CSHL_scoremap_viz/10.0um/VCP/MD589/detector998/prep2/MD589-IHC68-2015.07.31-02.03.18_MD589_3_0204_prep2_10.0um_VCP_detector998_scoremapViz.jpg\" \"s3://mousebrainatlas-data/CSHL_scoremap_viz/10.0um/VCP/MD589/detector998/prep2/MD589-IHC68-2015.07.31-02.03.18_MD589_3_0204_prep2_10.0um_VCP_detector998_scoremapViz.jpg\"\n",
      "0\n",
      "aws s3 cp \"/home/yuncong/CSHL_scoremaps/10.0um/MD589/MD589_prep2_10.0um_detector998/MD589-IHC68-2015.07.31-02.03.18_MD589_3_0204_prep2_10.0um_detector998/MD589-IHC68-2015.07.31-02.03.18_MD589_3_0204_prep2_10.0um_detector998_AP_scoremap.bp\" \"s3://mousebrainatlas-data/CSHL_scoremaps/10.0um/MD589/MD589_prep2_10.0um_detector998/MD589-IHC68-2015.07.31-02.03.18_MD589_3_0204_prep2_10.0um_detector998/MD589-IHC68-2015.07.31-02.03.18_MD589_3_0204_prep2_10.0um_detector998_AP_scoremap.bp\"\n",
      "0\n",
      "aws s3 cp \"/home/yuncong/CSHL_scoremap_viz/10.0um/AP/MD589/detector998/prep2/MD589-IHC68-2015.07.31-02.03.18_MD589_3_0204_prep2_10.0um_AP_detector998_scoremapViz.jpg\" \"s3://mousebrainatlas-data/CSHL_scoremap_viz/10.0um/AP/MD589/detector998/prep2/MD589-IHC68-2015.07.31-02.03.18_MD589_3_0204_prep2_10.0um_AP_detector998_scoremapViz.jpg\"\n",
      "0\n",
      "aws s3 cp \"/home/yuncong/CSHL_scoremaps/10.0um/MD589/MD589_prep2_10.0um_detector998/MD589-IHC68-2015.07.31-02.03.18_MD589_3_0204_prep2_10.0um_detector998/MD589-IHC68-2015.07.31-02.03.18_MD589_3_0204_prep2_10.0um_detector998_PBG_scoremap.bp\" \"s3://mousebrainatlas-data/CSHL_scoremaps/10.0um/MD589/MD589_prep2_10.0um_detector998/MD589-IHC68-2015.07.31-02.03.18_MD589_3_0204_prep2_10.0um_detector998/MD589-IHC68-2015.07.31-02.03.18_MD589_3_0204_prep2_10.0um_detector998_PBG_scoremap.bp\"\n",
      "0\n",
      "aws s3 cp \"/home/yuncong/CSHL_scoremap_viz/10.0um/PBG/MD589/detector998/prep2/MD589-IHC68-2015.07.31-02.03.18_MD589_3_0204_prep2_10.0um_PBG_detector998_scoremapViz.jpg\" \"s3://mousebrainatlas-data/CSHL_scoremap_viz/10.0um/PBG/MD589/detector998/prep2/MD589-IHC68-2015.07.31-02.03.18_MD589_3_0204_prep2_10.0um_PBG_detector998_scoremapViz.jpg\"\n",
      "0\n",
      "aws s3 cp \"/home/yuncong/CSHL_scoremaps/10.0um/MD589/MD589_prep2_10.0um_detector998/MD589-IHC68-2015.07.31-02.03.18_MD589_3_0204_prep2_10.0um_detector998/MD589-IHC68-2015.07.31-02.03.18_MD589_3_0204_prep2_10.0um_detector998_LRt_scoremap.bp\" \"s3://mousebrainatlas-data/CSHL_scoremaps/10.0um/MD589/MD589_prep2_10.0um_detector998/MD589-IHC68-2015.07.31-02.03.18_MD589_3_0204_prep2_10.0um_detector998/MD589-IHC68-2015.07.31-02.03.18_MD589_3_0204_prep2_10.0um_detector998_LRt_scoremap.bp\"\n",
      "0\n",
      "aws s3 cp \"/home/yuncong/CSHL_scoremap_viz/10.0um/LRt/MD589/detector998/prep2/MD589-IHC68-2015.07.31-02.03.18_MD589_3_0204_prep2_10.0um_LRt_detector998_scoremapViz.jpg\" \"s3://mousebrainatlas-data/CSHL_scoremap_viz/10.0um/LRt/MD589/detector998/prep2/MD589-IHC68-2015.07.31-02.03.18_MD589_3_0204_prep2_10.0um_LRt_detector998_scoremapViz.jpg\"\n"
     ]
    },
    {
     "name": "stdout",
     "output_type": "stream",
     "text": [
      "0\n",
      "aws s3 cp \"/home/yuncong/CSHL_scoremaps/10.0um/MD589/MD589_prep2_10.0um_detector998/MD589-IHC68-2015.07.31-02.03.18_MD589_3_0204_prep2_10.0um_detector998/MD589-IHC68-2015.07.31-02.03.18_MD589_3_0204_prep2_10.0um_detector998_IC_scoremap.bp\" \"s3://mousebrainatlas-data/CSHL_scoremaps/10.0um/MD589/MD589_prep2_10.0um_detector998/MD589-IHC68-2015.07.31-02.03.18_MD589_3_0204_prep2_10.0um_detector998/MD589-IHC68-2015.07.31-02.03.18_MD589_3_0204_prep2_10.0um_detector998_IC_scoremap.bp\"\n",
      "0\n",
      "aws s3 cp \"/home/yuncong/CSHL_scoremap_viz/10.0um/IC/MD589/detector998/prep2/MD589-IHC68-2015.07.31-02.03.18_MD589_3_0204_prep2_10.0um_IC_detector998_scoremapViz.jpg\" \"s3://mousebrainatlas-data/CSHL_scoremap_viz/10.0um/IC/MD589/detector998/prep2/MD589-IHC68-2015.07.31-02.03.18_MD589_3_0204_prep2_10.0um_IC_detector998_scoremapViz.jpg\"\n",
      "0\n",
      "aws s3 cp \"/home/yuncong/CSHL_scoremaps/10.0um/MD589/MD589_prep2_10.0um_detector998/MD589-IHC68-2015.07.31-02.03.18_MD589_3_0204_prep2_10.0um_detector998/MD589-IHC68-2015.07.31-02.03.18_MD589_3_0204_prep2_10.0um_detector998_VLL_scoremap.bp\" \"s3://mousebrainatlas-data/CSHL_scoremaps/10.0um/MD589/MD589_prep2_10.0um_detector998/MD589-IHC68-2015.07.31-02.03.18_MD589_3_0204_prep2_10.0um_detector998/MD589-IHC68-2015.07.31-02.03.18_MD589_3_0204_prep2_10.0um_detector998_VLL_scoremap.bp\"\n",
      "0\n",
      "aws s3 cp \"/home/yuncong/CSHL_scoremap_viz/10.0um/VLL/MD589/detector998/prep2/MD589-IHC68-2015.07.31-02.03.18_MD589_3_0204_prep2_10.0um_VLL_detector998_scoremapViz.jpg\" \"s3://mousebrainatlas-data/CSHL_scoremap_viz/10.0um/VLL/MD589/detector998/prep2/MD589-IHC68-2015.07.31-02.03.18_MD589_3_0204_prep2_10.0um_VLL_detector998_scoremapViz.jpg\"\n",
      "0\n",
      "aws s3 cp \"/home/yuncong/CSHL_scoremaps/10.0um/MD589/MD589_prep2_10.0um_detector998/MD589-IHC68-2015.07.31-02.03.18_MD589_3_0204_prep2_10.0um_detector998/MD589-IHC68-2015.07.31-02.03.18_MD589_3_0204_prep2_10.0um_detector998_4N_scoremap.bp\" \"s3://mousebrainatlas-data/CSHL_scoremaps/10.0um/MD589/MD589_prep2_10.0um_detector998/MD589-IHC68-2015.07.31-02.03.18_MD589_3_0204_prep2_10.0um_detector998/MD589-IHC68-2015.07.31-02.03.18_MD589_3_0204_prep2_10.0um_detector998_4N_scoremap.bp\"\n",
      "0\n",
      "aws s3 cp \"/home/yuncong/CSHL_scoremap_viz/10.0um/4N/MD589/detector998/prep2/MD589-IHC68-2015.07.31-02.03.18_MD589_3_0204_prep2_10.0um_4N_detector998_scoremapViz.jpg\" \"s3://mousebrainatlas-data/CSHL_scoremap_viz/10.0um/4N/MD589/detector998/prep2/MD589-IHC68-2015.07.31-02.03.18_MD589_3_0204_prep2_10.0um_4N_detector998_scoremapViz.jpg\"\n",
      "0\n",
      "aws s3 cp \"/home/yuncong/CSHL_scoremaps/10.0um/MD589/MD589_prep2_10.0um_detector998/MD589-IHC68-2015.07.31-02.03.18_MD589_3_0204_prep2_10.0um_detector998/MD589-IHC68-2015.07.31-02.03.18_MD589_3_0204_prep2_10.0um_detector998_SNC_scoremap.bp\" \"s3://mousebrainatlas-data/CSHL_scoremaps/10.0um/MD589/MD589_prep2_10.0um_detector998/MD589-IHC68-2015.07.31-02.03.18_MD589_3_0204_prep2_10.0um_detector998/MD589-IHC68-2015.07.31-02.03.18_MD589_3_0204_prep2_10.0um_detector998_SNC_scoremap.bp\"\n",
      "0\n",
      "aws s3 cp \"/home/yuncong/CSHL_scoremap_viz/10.0um/SNC/MD589/detector998/prep2/MD589-IHC68-2015.07.31-02.03.18_MD589_3_0204_prep2_10.0um_SNC_detector998_scoremapViz.jpg\" \"s3://mousebrainatlas-data/CSHL_scoremap_viz/10.0um/SNC/MD589/detector998/prep2/MD589-IHC68-2015.07.31-02.03.18_MD589_3_0204_prep2_10.0um_SNC_detector998_scoremapViz.jpg\"\n",
      "0\n",
      "aws s3 cp \"/home/yuncong/CSHL_scoremaps/10.0um/MD589/MD589_prep2_10.0um_detector998/MD589-IHC68-2015.07.31-02.03.18_MD589_3_0204_prep2_10.0um_detector998/MD589-IHC68-2015.07.31-02.03.18_MD589_3_0204_prep2_10.0um_detector998_6N_scoremap.bp\" \"s3://mousebrainatlas-data/CSHL_scoremaps/10.0um/MD589/MD589_prep2_10.0um_detector998/MD589-IHC68-2015.07.31-02.03.18_MD589_3_0204_prep2_10.0um_detector998/MD589-IHC68-2015.07.31-02.03.18_MD589_3_0204_prep2_10.0um_detector998_6N_scoremap.bp\"\n",
      "0\n",
      "aws s3 cp \"/home/yuncong/CSHL_scoremap_viz/10.0um/6N/MD589/detector998/prep2/MD589-IHC68-2015.07.31-02.03.18_MD589_3_0204_prep2_10.0um_6N_detector998_scoremapViz.jpg\" \"s3://mousebrainatlas-data/CSHL_scoremap_viz/10.0um/6N/MD589/detector998/prep2/MD589-IHC68-2015.07.31-02.03.18_MD589_3_0204_prep2_10.0um_6N_detector998_scoremapViz.jpg\"\n",
      "0\n",
      "aws s3 cp \"/home/yuncong/CSHL_scoremaps/10.0um/MD589/MD589_prep2_10.0um_detector998/MD589-IHC68-2015.07.31-02.03.18_MD589_3_0204_prep2_10.0um_detector998/MD589-IHC68-2015.07.31-02.03.18_MD589_3_0204_prep2_10.0um_detector998_SNR_scoremap.bp\" \"s3://mousebrainatlas-data/CSHL_scoremaps/10.0um/MD589/MD589_prep2_10.0um_detector998/MD589-IHC68-2015.07.31-02.03.18_MD589_3_0204_prep2_10.0um_detector998/MD589-IHC68-2015.07.31-02.03.18_MD589_3_0204_prep2_10.0um_detector998_SNR_scoremap.bp\"\n",
      "0\n",
      "aws s3 cp \"/home/yuncong/CSHL_scoremap_viz/10.0um/SNR/MD589/detector998/prep2/MD589-IHC68-2015.07.31-02.03.18_MD589_3_0204_prep2_10.0um_SNR_detector998_scoremapViz.jpg\" \"s3://mousebrainatlas-data/CSHL_scoremap_viz/10.0um/SNR/MD589/detector998/prep2/MD589-IHC68-2015.07.31-02.03.18_MD589_3_0204_prep2_10.0um_SNR_detector998_scoremapViz.jpg\"\n",
      "0\n",
      "aws s3 cp \"/home/yuncong/CSHL_scoremaps/10.0um/MD589/MD589_prep2_10.0um_detector998/MD589-IHC68-2015.07.31-02.03.18_MD589_3_0204_prep2_10.0um_detector998/MD589-IHC68-2015.07.31-02.03.18_MD589_3_0204_prep2_10.0um_detector998_SC_scoremap.bp\" \"s3://mousebrainatlas-data/CSHL_scoremaps/10.0um/MD589/MD589_prep2_10.0um_detector998/MD589-IHC68-2015.07.31-02.03.18_MD589_3_0204_prep2_10.0um_detector998/MD589-IHC68-2015.07.31-02.03.18_MD589_3_0204_prep2_10.0um_detector998_SC_scoremap.bp\"\n",
      "0\n",
      "aws s3 cp \"/home/yuncong/CSHL_scoremap_viz/10.0um/SC/MD589/detector998/prep2/MD589-IHC68-2015.07.31-02.03.18_MD589_3_0204_prep2_10.0um_SC_detector998_scoremapViz.jpg\" \"s3://mousebrainatlas-data/CSHL_scoremap_viz/10.0um/SC/MD589/detector998/prep2/MD589-IHC68-2015.07.31-02.03.18_MD589_3_0204_prep2_10.0um_SC_detector998_scoremapViz.jpg\"\n",
      "0\n",
      "aws s3 cp \"/home/yuncong/CSHL_scoremaps/10.0um/MD589/MD589_prep2_10.0um_detector998/MD589-IHC68-2015.07.31-02.03.18_MD589_3_0204_prep2_10.0um_detector998/MD589-IHC68-2015.07.31-02.03.18_MD589_3_0204_prep2_10.0um_detector998_RtTg_scoremap.bp\" \"s3://mousebrainatlas-data/CSHL_scoremaps/10.0um/MD589/MD589_prep2_10.0um_detector998/MD589-IHC68-2015.07.31-02.03.18_MD589_3_0204_prep2_10.0um_detector998/MD589-IHC68-2015.07.31-02.03.18_MD589_3_0204_prep2_10.0um_detector998_RtTg_scoremap.bp\"\n",
      "0\n",
      "aws s3 cp \"/home/yuncong/CSHL_scoremap_viz/10.0um/RtTg/MD589/detector998/prep2/MD589-IHC68-2015.07.31-02.03.18_MD589_3_0204_prep2_10.0um_RtTg_detector998_scoremapViz.jpg\" \"s3://mousebrainatlas-data/CSHL_scoremap_viz/10.0um/RtTg/MD589/detector998/prep2/MD589-IHC68-2015.07.31-02.03.18_MD589_3_0204_prep2_10.0um_RtTg_detector998_scoremapViz.jpg\"\n",
      "0\n"
     ]
    },
    {
     "name": "stderr",
     "output_type": "stream",
     "text": [
      "locate patches: 0.03 seconds\n",
      "Load pre-computed features: 1.12 seconds\n"
     ]
    },
    {
     "name": "stdout",
     "output_type": "stream",
     "text": [
      "rm -rf \"/media/yuncong/BstemAtlasData/CSHL_data_processed/MD589/MD589_prep2_lossless_grayJpeg/MD589-N69-2015.07.30-20.46.59_MD589_1_0205_prep2_lossless_grayJpeg.jpg\" && mkdir -p \"/media/yuncong/BstemAtlasData/CSHL_data_processed/MD589/MD589_prep2_lossless_grayJpeg\"\n",
      "0\n",
      "aws s3 cp \"s3://mousebrainatlas-data/CSHL_data_processed/MD589/MD589_prep2_lossless_grayJpeg/MD589-N69-2015.07.30-20.46.59_MD589_1_0205_prep2_lossless_grayJpeg.jpg\" \"/media/yuncong/BstemAtlasData/CSHL_data_processed/MD589/MD589_prep2_lossless_grayJpeg/MD589-N69-2015.07.30-20.46.59_MD589_1_0205_prep2_lossless_grayJpeg.jpg\"\n",
      "0\n"
     ]
    },
    {
     "name": "stderr",
     "output_type": "stream",
     "text": [
      "Not using image_cache.\n"
     ]
    },
    {
     "name": "stdout",
     "output_type": "stream",
     "text": [
      "/media/yuncong/BstemAtlasData/CSHL_data_processed/MD589/MD589_prep2_lossless_grayJpeg/MD589-N69-2015.07.30-20.46.59_MD589_1_0205_prep2_lossless_grayJpeg.jpg\n"
     ]
    },
    {
     "name": "stderr",
     "output_type": "stream",
     "text": [
      "Load background image: 3.24 seconds\n",
      "Rescale background image to output resolution: 2.25 seconds\n",
      "Predict scores Tz: 0.11 seconds\n",
      "Rescample scoremap Tz: 0.06 seconds\n",
      "Load and rescale background image: 0.00 seconds\n",
      "Generate scoremap overlay: 0.06 seconds.\n",
      "Scoremap size does not match background image size. Need to resize: 0.06 seconds.\n",
      "Genearte scoremap overlay image Tz: 0.14 seconds\n"
     ]
    },
    {
     "name": "stdout",
     "output_type": "stream",
     "text": [
      "(549, 714, 3) (549, 714)\n"
     ]
    },
    {
     "name": "stderr",
     "output_type": "stream",
     "text": [
      "Predict scores VCA: 0.12 seconds\n",
      "Rescample scoremap VCA: 0.06 seconds\n",
      "Load and rescale background image: 0.00 seconds\n",
      "Generate scoremap overlay: 0.06 seconds.\n",
      "Scoremap size does not match background image size. Need to resize: 0.06 seconds.\n"
     ]
    },
    {
     "name": "stdout",
     "output_type": "stream",
     "text": [
      "(549, 714, 3) (549, 714)\n"
     ]
    },
    {
     "name": "stderr",
     "output_type": "stream",
     "text": [
      "Genearte scoremap overlay image VCA: 0.15 seconds\n",
      "Predict scores 7n: 0.11 seconds\n",
      "Rescample scoremap 7n: 0.06 seconds\n",
      "Load and rescale background image: 0.00 seconds\n",
      "Generate scoremap overlay: 0.05 seconds.\n",
      "Scoremap size does not match background image size. Need to resize: 0.05 seconds.\n",
      "Genearte scoremap overlay image 7n: 0.13 seconds\n",
      "Predict scores DC: 0.11 seconds\n"
     ]
    },
    {
     "name": "stdout",
     "output_type": "stream",
     "text": [
      "(549, 714, 3) (549, 714)\n"
     ]
    },
    {
     "name": "stderr",
     "output_type": "stream",
     "text": [
      "Rescample scoremap DC: 0.06 seconds\n",
      "Load and rescale background image: 0.00 seconds\n",
      "Generate scoremap overlay: 0.05 seconds.\n",
      "Scoremap size does not match background image size. Need to resize: 0.05 seconds.\n",
      "Genearte scoremap overlay image DC: 0.14 seconds\n"
     ]
    },
    {
     "name": "stdout",
     "output_type": "stream",
     "text": [
      "(549, 714, 3) (549, 714)\n"
     ]
    },
    {
     "name": "stderr",
     "output_type": "stream",
     "text": [
      "Predict scores 5N: 0.11 seconds\n",
      "Rescample scoremap 5N: 0.06 seconds\n",
      "Load and rescale background image: 0.00 seconds\n",
      "Generate scoremap overlay: 0.05 seconds.\n",
      "Scoremap size does not match background image size. Need to resize: 0.06 seconds.\n",
      "Genearte scoremap overlay image 5N: 0.14 seconds\n"
     ]
    },
    {
     "name": "stdout",
     "output_type": "stream",
     "text": [
      "(549, 714, 3) (549, 714)\n"
     ]
    },
    {
     "name": "stderr",
     "output_type": "stream",
     "text": [
      "Predict scores 3N: 0.11 seconds\n",
      "Rescample scoremap 3N: 0.06 seconds\n",
      "Load and rescale background image: 0.00 seconds\n",
      "Generate scoremap overlay: 0.05 seconds.\n",
      "Scoremap size does not match background image size. Need to resize: 0.05 seconds.\n",
      "Genearte scoremap overlay image 3N: 0.14 seconds\n"
     ]
    },
    {
     "name": "stdout",
     "output_type": "stream",
     "text": [
      "(549, 714, 3) (549, 714)\n"
     ]
    },
    {
     "name": "stderr",
     "output_type": "stream",
     "text": [
      "Predict scores Pn: 0.11 seconds\n",
      "Rescample scoremap Pn: 0.06 seconds\n",
      "Load and rescale background image: 0.00 seconds\n",
      "Generate scoremap overlay: 0.05 seconds.\n",
      "Scoremap size does not match background image size. Need to resize: 0.05 seconds.\n",
      "Genearte scoremap overlay image Pn: 0.14 seconds\n"
     ]
    },
    {
     "name": "stdout",
     "output_type": "stream",
     "text": [
      "(549, 714, 3) (549, 714)\n"
     ]
    },
    {
     "name": "stderr",
     "output_type": "stream",
     "text": [
      "Predict scores 10N: 0.11 seconds\n",
      "Rescample scoremap 10N: 0.06 seconds\n",
      "Load and rescale background image: 0.00 seconds\n",
      "Generate scoremap overlay: 0.05 seconds.\n",
      "Scoremap size does not match background image size. Need to resize: 0.06 seconds.\n",
      "Genearte scoremap overlay image 10N: 0.13 seconds\n"
     ]
    },
    {
     "name": "stdout",
     "output_type": "stream",
     "text": [
      "(549, 714, 3) (549, 714)\n"
     ]
    },
    {
     "name": "stderr",
     "output_type": "stream",
     "text": [
      "Predict scores LC: 0.11 seconds\n",
      "Rescample scoremap LC: 0.06 seconds\n",
      "Load and rescale background image: 0.00 seconds\n",
      "Generate scoremap overlay: 0.05 seconds.\n",
      "Scoremap size does not match background image size. Need to resize: 0.06 seconds.\n",
      "Genearte scoremap overlay image LC: 0.14 seconds\n"
     ]
    },
    {
     "name": "stdout",
     "output_type": "stream",
     "text": [
      "(549, 714, 3) (549, 714)\n"
     ]
    },
    {
     "name": "stderr",
     "output_type": "stream",
     "text": [
      "Predict scores 7N: 0.11 seconds\n",
      "Rescample scoremap 7N: 0.06 seconds\n",
      "Load and rescale background image: 0.00 seconds\n",
      "Generate scoremap overlay: 0.05 seconds.\n",
      "Scoremap size does not match background image size. Need to resize: 0.05 seconds.\n",
      "Genearte scoremap overlay image 7N: 0.13 seconds\n"
     ]
    },
    {
     "name": "stdout",
     "output_type": "stream",
     "text": [
      "(549, 714, 3) (549, 714)\n"
     ]
    },
    {
     "name": "stderr",
     "output_type": "stream",
     "text": [
      "Predict scores Amb: 0.11 seconds\n",
      "Rescample scoremap Amb: 0.06 seconds\n",
      "Load and rescale background image: 0.00 seconds\n",
      "Generate scoremap overlay: 0.05 seconds.\n",
      "Scoremap size does not match background image size. Need to resize: 0.06 seconds.\n",
      "Genearte scoremap overlay image Amb: 0.14 seconds\n"
     ]
    },
    {
     "name": "stdout",
     "output_type": "stream",
     "text": [
      "(549, 714, 3) (549, 714)\n"
     ]
    },
    {
     "name": "stderr",
     "output_type": "stream",
     "text": [
      "Predict scores 12N: 0.11 seconds\n",
      "Rescample scoremap 12N: 0.06 seconds\n",
      "Load and rescale background image: 0.00 seconds\n",
      "Generate scoremap overlay: 0.05 seconds.\n",
      "Scoremap size does not match background image size. Need to resize: 0.06 seconds.\n",
      "Genearte scoremap overlay image 12N: 0.14 seconds\n"
     ]
    },
    {
     "name": "stdout",
     "output_type": "stream",
     "text": [
      "(549, 714, 3) (549, 714)\n"
     ]
    },
    {
     "name": "stderr",
     "output_type": "stream",
     "text": [
      "Predict scores RMC: 0.11 seconds\n",
      "Rescample scoremap RMC: 0.06 seconds\n",
      "Load and rescale background image: 0.00 seconds\n",
      "Generate scoremap overlay: 0.05 seconds.\n",
      "Scoremap size does not match background image size. Need to resize: 0.06 seconds.\n"
     ]
    },
    {
     "name": "stdout",
     "output_type": "stream",
     "text": [
      "(549, 714, 3) (549, 714)\n"
     ]
    },
    {
     "name": "stderr",
     "output_type": "stream",
     "text": [
      "Genearte scoremap overlay image RMC: 0.14 seconds\n",
      "Predict scores Sp5O: 0.11 seconds\n",
      "Rescample scoremap Sp5O: 0.06 seconds\n",
      "Load and rescale background image: 0.00 seconds\n",
      "Generate scoremap overlay: 0.05 seconds.\n",
      "Scoremap size does not match background image size. Need to resize: 0.06 seconds.\n",
      "Genearte scoremap overlay image Sp5O: 0.14 seconds\n",
      "Predict scores Sp5I: 0.11 seconds\n"
     ]
    },
    {
     "name": "stdout",
     "output_type": "stream",
     "text": [
      "(549, 714, 3) (549, 714)\n"
     ]
    },
    {
     "name": "stderr",
     "output_type": "stream",
     "text": [
      "Rescample scoremap Sp5I: 0.06 seconds\n",
      "Load and rescale background image: 0.00 seconds\n",
      "Generate scoremap overlay: 0.05 seconds.\n",
      "Scoremap size does not match background image size. Need to resize: 0.06 seconds.\n",
      "Genearte scoremap overlay image Sp5I: 0.14 seconds\n"
     ]
    },
    {
     "name": "stdout",
     "output_type": "stream",
     "text": [
      "(549, 714, 3) (549, 714)\n"
     ]
    },
    {
     "name": "stderr",
     "output_type": "stream",
     "text": [
      "Predict scores Sp5C: 0.11 seconds\n",
      "Rescample scoremap Sp5C: 0.06 seconds\n",
      "Load and rescale background image: 0.00 seconds\n",
      "Generate scoremap overlay: 0.05 seconds.\n",
      "Scoremap size does not match background image size. Need to resize: 0.06 seconds.\n"
     ]
    },
    {
     "name": "stdout",
     "output_type": "stream",
     "text": [
      "(549, 714, 3) (549, 714)\n"
     ]
    },
    {
     "name": "stderr",
     "output_type": "stream",
     "text": [
      "Genearte scoremap overlay image Sp5C: 0.14 seconds\n",
      "Predict scores VCP: 0.11 seconds\n",
      "Rescample scoremap VCP: 0.06 seconds\n",
      "Load and rescale background image: 0.00 seconds\n",
      "Generate scoremap overlay: 0.05 seconds.\n",
      "Scoremap size does not match background image size. Need to resize: 0.06 seconds.\n",
      "Genearte scoremap overlay image VCP: 0.14 seconds\n",
      "Predict scores AP: 0.11 seconds\n"
     ]
    },
    {
     "name": "stdout",
     "output_type": "stream",
     "text": [
      "(549, 714, 3) (549, 714)\n"
     ]
    },
    {
     "name": "stderr",
     "output_type": "stream",
     "text": [
      "Rescample scoremap AP: 0.07 seconds\n",
      "Load and rescale background image: 0.00 seconds\n",
      "Generate scoremap overlay: 0.05 seconds.\n",
      "Scoremap size does not match background image size. Need to resize: 0.06 seconds.\n",
      "Genearte scoremap overlay image AP: 0.13 seconds\n"
     ]
    },
    {
     "name": "stdout",
     "output_type": "stream",
     "text": [
      "(549, 714, 3) (549, 714)\n"
     ]
    },
    {
     "name": "stderr",
     "output_type": "stream",
     "text": [
      "Predict scores PBG: 0.11 seconds\n",
      "Rescample scoremap PBG: 0.06 seconds\n",
      "Load and rescale background image: 0.00 seconds\n",
      "Generate scoremap overlay: 0.05 seconds.\n",
      "Scoremap size does not match background image size. Need to resize: 0.05 seconds.\n",
      "Genearte scoremap overlay image PBG: 0.14 seconds\n"
     ]
    },
    {
     "name": "stdout",
     "output_type": "stream",
     "text": [
      "(549, 714, 3) (549, 714)\n"
     ]
    },
    {
     "name": "stderr",
     "output_type": "stream",
     "text": [
      "Predict scores LRt: 0.11 seconds\n",
      "Rescample scoremap LRt: 0.06 seconds\n",
      "Load and rescale background image: 0.00 seconds\n",
      "Generate scoremap overlay: 0.05 seconds.\n",
      "Scoremap size does not match background image size. Need to resize: 0.05 seconds.\n",
      "Genearte scoremap overlay image LRt: 0.14 seconds\n"
     ]
    },
    {
     "name": "stdout",
     "output_type": "stream",
     "text": [
      "(549, 714, 3) (549, 714)\n"
     ]
    },
    {
     "name": "stderr",
     "output_type": "stream",
     "text": [
      "Predict scores IC: 0.11 seconds\n",
      "Rescample scoremap IC: 0.06 seconds\n",
      "Load and rescale background image: 0.00 seconds\n",
      "Generate scoremap overlay: 0.05 seconds.\n",
      "Scoremap size does not match background image size. Need to resize: 0.05 seconds.\n",
      "Genearte scoremap overlay image IC: 0.14 seconds\n"
     ]
    },
    {
     "name": "stdout",
     "output_type": "stream",
     "text": [
      "(549, 714, 3) (549, 714)\n"
     ]
    },
    {
     "name": "stderr",
     "output_type": "stream",
     "text": [
      "Predict scores VLL: 0.11 seconds\n",
      "Rescample scoremap VLL: 0.06 seconds\n",
      "Load and rescale background image: 0.00 seconds\n",
      "Generate scoremap overlay: 0.05 seconds.\n",
      "Scoremap size does not match background image size. Need to resize: 0.05 seconds.\n"
     ]
    },
    {
     "name": "stdout",
     "output_type": "stream",
     "text": [
      "(549, 714, 3) (549, 714)\n"
     ]
    },
    {
     "name": "stderr",
     "output_type": "stream",
     "text": [
      "Genearte scoremap overlay image VLL: 0.14 seconds\n",
      "Predict scores 4N: 0.12 seconds\n",
      "Rescample scoremap 4N: 0.06 seconds\n",
      "Load and rescale background image: 0.00 seconds\n",
      "Generate scoremap overlay: 0.05 seconds.\n",
      "Scoremap size does not match background image size. Need to resize: 0.06 seconds.\n",
      "Genearte scoremap overlay image 4N: 0.14 seconds\n",
      "Predict scores SNC: 0.11 seconds\n"
     ]
    },
    {
     "name": "stdout",
     "output_type": "stream",
     "text": [
      "(549, 714, 3) (549, 714)\n"
     ]
    },
    {
     "name": "stderr",
     "output_type": "stream",
     "text": [
      "Rescample scoremap SNC: 0.06 seconds\n",
      "Load and rescale background image: 0.00 seconds\n",
      "Generate scoremap overlay: 0.05 seconds.\n",
      "Scoremap size does not match background image size. Need to resize: 0.05 seconds.\n",
      "Genearte scoremap overlay image SNC: 0.14 seconds\n"
     ]
    },
    {
     "name": "stdout",
     "output_type": "stream",
     "text": [
      "(549, 714, 3) (549, 714)\n"
     ]
    },
    {
     "name": "stderr",
     "output_type": "stream",
     "text": [
      "Predict scores 6N: 0.11 seconds\n",
      "Rescample scoremap 6N: 0.06 seconds\n",
      "Load and rescale background image: 0.00 seconds\n",
      "Generate scoremap overlay: 0.05 seconds.\n",
      "Scoremap size does not match background image size. Need to resize: 0.05 seconds.\n",
      "Genearte scoremap overlay image 6N: 0.14 seconds\n"
     ]
    },
    {
     "name": "stdout",
     "output_type": "stream",
     "text": [
      "(549, 714, 3) (549, 714)\n"
     ]
    },
    {
     "name": "stderr",
     "output_type": "stream",
     "text": [
      "Predict scores SNR: 0.11 seconds\n",
      "Rescample scoremap SNR: 0.06 seconds\n",
      "Load and rescale background image: 0.00 seconds\n",
      "Generate scoremap overlay: 0.05 seconds.\n",
      "Scoremap size does not match background image size. Need to resize: 0.05 seconds.\n",
      "Genearte scoremap overlay image SNR: 0.14 seconds\n"
     ]
    },
    {
     "name": "stdout",
     "output_type": "stream",
     "text": [
      "(549, 714, 3) (549, 714)\n"
     ]
    },
    {
     "name": "stderr",
     "output_type": "stream",
     "text": [
      "Predict scores SC: 0.11 seconds\n",
      "Rescample scoremap SC: 0.06 seconds\n",
      "Load and rescale background image: 0.00 seconds\n",
      "Generate scoremap overlay: 0.05 seconds.\n",
      "Scoremap size does not match background image size. Need to resize: 0.05 seconds.\n",
      "Genearte scoremap overlay image SC: 0.14 seconds\n"
     ]
    },
    {
     "name": "stdout",
     "output_type": "stream",
     "text": [
      "(549, 714, 3) (549, 714)\n"
     ]
    },
    {
     "name": "stderr",
     "output_type": "stream",
     "text": [
      "Predict scores RtTg: 0.11 seconds\n",
      "Rescample scoremap RtTg: 0.06 seconds\n",
      "Load and rescale background image: 0.00 seconds\n",
      "Generate scoremap overlay: 0.05 seconds.\n",
      "Scoremap size does not match background image size. Need to resize: 0.05 seconds.\n",
      "Genearte scoremap overlay image RtTg: 0.13 seconds\n"
     ]
    },
    {
     "name": "stdout",
     "output_type": "stream",
     "text": [
      "(549, 714, 3) (549, 714)\n",
      "aws s3 cp \"/home/yuncong/CSHL_scoremaps/10.0um/MD589/MD589_prep2_10.0um_detector998/MD589-N69-2015.07.30-20.46.59_MD589_1_0205_prep2_10.0um_detector998/MD589-N69-2015.07.30-20.46.59_MD589_1_0205_prep2_10.0um_detector998_Tz_scoremap.bp\" \"s3://mousebrainatlas-data/CSHL_scoremaps/10.0um/MD589/MD589_prep2_10.0um_detector998/MD589-N69-2015.07.30-20.46.59_MD589_1_0205_prep2_10.0um_detector998/MD589-N69-2015.07.30-20.46.59_MD589_1_0205_prep2_10.0um_detector998_Tz_scoremap.bp\"\n",
      "0\n",
      "aws s3 cp \"/home/yuncong/CSHL_scoremap_viz/10.0um/Tz/MD589/detector998/prep2/MD589-N69-2015.07.30-20.46.59_MD589_1_0205_prep2_10.0um_Tz_detector998_scoremapViz.jpg\" \"s3://mousebrainatlas-data/CSHL_scoremap_viz/10.0um/Tz/MD589/detector998/prep2/MD589-N69-2015.07.30-20.46.59_MD589_1_0205_prep2_10.0um_Tz_detector998_scoremapViz.jpg\"\n",
      "0\n",
      "aws s3 cp \"/home/yuncong/CSHL_scoremaps/10.0um/MD589/MD589_prep2_10.0um_detector998/MD589-N69-2015.07.30-20.46.59_MD589_1_0205_prep2_10.0um_detector998/MD589-N69-2015.07.30-20.46.59_MD589_1_0205_prep2_10.0um_detector998_VCA_scoremap.bp\" \"s3://mousebrainatlas-data/CSHL_scoremaps/10.0um/MD589/MD589_prep2_10.0um_detector998/MD589-N69-2015.07.30-20.46.59_MD589_1_0205_prep2_10.0um_detector998/MD589-N69-2015.07.30-20.46.59_MD589_1_0205_prep2_10.0um_detector998_VCA_scoremap.bp\"\n",
      "0\n",
      "aws s3 cp \"/home/yuncong/CSHL_scoremap_viz/10.0um/VCA/MD589/detector998/prep2/MD589-N69-2015.07.30-20.46.59_MD589_1_0205_prep2_10.0um_VCA_detector998_scoremapViz.jpg\" \"s3://mousebrainatlas-data/CSHL_scoremap_viz/10.0um/VCA/MD589/detector998/prep2/MD589-N69-2015.07.30-20.46.59_MD589_1_0205_prep2_10.0um_VCA_detector998_scoremapViz.jpg\"\n",
      "0\n",
      "aws s3 cp \"/home/yuncong/CSHL_scoremaps/10.0um/MD589/MD589_prep2_10.0um_detector998/MD589-N69-2015.07.30-20.46.59_MD589_1_0205_prep2_10.0um_detector998/MD589-N69-2015.07.30-20.46.59_MD589_1_0205_prep2_10.0um_detector998_7n_scoremap.bp\" \"s3://mousebrainatlas-data/CSHL_scoremaps/10.0um/MD589/MD589_prep2_10.0um_detector998/MD589-N69-2015.07.30-20.46.59_MD589_1_0205_prep2_10.0um_detector998/MD589-N69-2015.07.30-20.46.59_MD589_1_0205_prep2_10.0um_detector998_7n_scoremap.bp\"\n",
      "0\n",
      "aws s3 cp \"/home/yuncong/CSHL_scoremap_viz/10.0um/7n/MD589/detector998/prep2/MD589-N69-2015.07.30-20.46.59_MD589_1_0205_prep2_10.0um_7n_detector998_scoremapViz.jpg\" \"s3://mousebrainatlas-data/CSHL_scoremap_viz/10.0um/7n/MD589/detector998/prep2/MD589-N69-2015.07.30-20.46.59_MD589_1_0205_prep2_10.0um_7n_detector998_scoremapViz.jpg\"\n",
      "0\n",
      "aws s3 cp \"/home/yuncong/CSHL_scoremaps/10.0um/MD589/MD589_prep2_10.0um_detector998/MD589-N69-2015.07.30-20.46.59_MD589_1_0205_prep2_10.0um_detector998/MD589-N69-2015.07.30-20.46.59_MD589_1_0205_prep2_10.0um_detector998_DC_scoremap.bp\" \"s3://mousebrainatlas-data/CSHL_scoremaps/10.0um/MD589/MD589_prep2_10.0um_detector998/MD589-N69-2015.07.30-20.46.59_MD589_1_0205_prep2_10.0um_detector998/MD589-N69-2015.07.30-20.46.59_MD589_1_0205_prep2_10.0um_detector998_DC_scoremap.bp\"\n",
      "0\n",
      "aws s3 cp \"/home/yuncong/CSHL_scoremap_viz/10.0um/DC/MD589/detector998/prep2/MD589-N69-2015.07.30-20.46.59_MD589_1_0205_prep2_10.0um_DC_detector998_scoremapViz.jpg\" \"s3://mousebrainatlas-data/CSHL_scoremap_viz/10.0um/DC/MD589/detector998/prep2/MD589-N69-2015.07.30-20.46.59_MD589_1_0205_prep2_10.0um_DC_detector998_scoremapViz.jpg\"\n",
      "0\n",
      "aws s3 cp \"/home/yuncong/CSHL_scoremaps/10.0um/MD589/MD589_prep2_10.0um_detector998/MD589-N69-2015.07.30-20.46.59_MD589_1_0205_prep2_10.0um_detector998/MD589-N69-2015.07.30-20.46.59_MD589_1_0205_prep2_10.0um_detector998_5N_scoremap.bp\" \"s3://mousebrainatlas-data/CSHL_scoremaps/10.0um/MD589/MD589_prep2_10.0um_detector998/MD589-N69-2015.07.30-20.46.59_MD589_1_0205_prep2_10.0um_detector998/MD589-N69-2015.07.30-20.46.59_MD589_1_0205_prep2_10.0um_detector998_5N_scoremap.bp\"\n",
      "0\n",
      "aws s3 cp \"/home/yuncong/CSHL_scoremap_viz/10.0um/5N/MD589/detector998/prep2/MD589-N69-2015.07.30-20.46.59_MD589_1_0205_prep2_10.0um_5N_detector998_scoremapViz.jpg\" \"s3://mousebrainatlas-data/CSHL_scoremap_viz/10.0um/5N/MD589/detector998/prep2/MD589-N69-2015.07.30-20.46.59_MD589_1_0205_prep2_10.0um_5N_detector998_scoremapViz.jpg\"\n",
      "0\n",
      "aws s3 cp \"/home/yuncong/CSHL_scoremaps/10.0um/MD589/MD589_prep2_10.0um_detector998/MD589-N69-2015.07.30-20.46.59_MD589_1_0205_prep2_10.0um_detector998/MD589-N69-2015.07.30-20.46.59_MD589_1_0205_prep2_10.0um_detector998_3N_scoremap.bp\" \"s3://mousebrainatlas-data/CSHL_scoremaps/10.0um/MD589/MD589_prep2_10.0um_detector998/MD589-N69-2015.07.30-20.46.59_MD589_1_0205_prep2_10.0um_detector998/MD589-N69-2015.07.30-20.46.59_MD589_1_0205_prep2_10.0um_detector998_3N_scoremap.bp\"\n",
      "0\n",
      "aws s3 cp \"/home/yuncong/CSHL_scoremap_viz/10.0um/3N/MD589/detector998/prep2/MD589-N69-2015.07.30-20.46.59_MD589_1_0205_prep2_10.0um_3N_detector998_scoremapViz.jpg\" \"s3://mousebrainatlas-data/CSHL_scoremap_viz/10.0um/3N/MD589/detector998/prep2/MD589-N69-2015.07.30-20.46.59_MD589_1_0205_prep2_10.0um_3N_detector998_scoremapViz.jpg\"\n",
      "0\n",
      "aws s3 cp \"/home/yuncong/CSHL_scoremaps/10.0um/MD589/MD589_prep2_10.0um_detector998/MD589-N69-2015.07.30-20.46.59_MD589_1_0205_prep2_10.0um_detector998/MD589-N69-2015.07.30-20.46.59_MD589_1_0205_prep2_10.0um_detector998_Pn_scoremap.bp\" \"s3://mousebrainatlas-data/CSHL_scoremaps/10.0um/MD589/MD589_prep2_10.0um_detector998/MD589-N69-2015.07.30-20.46.59_MD589_1_0205_prep2_10.0um_detector998/MD589-N69-2015.07.30-20.46.59_MD589_1_0205_prep2_10.0um_detector998_Pn_scoremap.bp\"\n",
      "0\n",
      "aws s3 cp \"/home/yuncong/CSHL_scoremap_viz/10.0um/Pn/MD589/detector998/prep2/MD589-N69-2015.07.30-20.46.59_MD589_1_0205_prep2_10.0um_Pn_detector998_scoremapViz.jpg\" \"s3://mousebrainatlas-data/CSHL_scoremap_viz/10.0um/Pn/MD589/detector998/prep2/MD589-N69-2015.07.30-20.46.59_MD589_1_0205_prep2_10.0um_Pn_detector998_scoremapViz.jpg\"\n",
      "0\n",
      "aws s3 cp \"/home/yuncong/CSHL_scoremaps/10.0um/MD589/MD589_prep2_10.0um_detector998/MD589-N69-2015.07.30-20.46.59_MD589_1_0205_prep2_10.0um_detector998/MD589-N69-2015.07.30-20.46.59_MD589_1_0205_prep2_10.0um_detector998_10N_scoremap.bp\" \"s3://mousebrainatlas-data/CSHL_scoremaps/10.0um/MD589/MD589_prep2_10.0um_detector998/MD589-N69-2015.07.30-20.46.59_MD589_1_0205_prep2_10.0um_detector998/MD589-N69-2015.07.30-20.46.59_MD589_1_0205_prep2_10.0um_detector998_10N_scoremap.bp\"\n",
      "0\n",
      "aws s3 cp \"/home/yuncong/CSHL_scoremap_viz/10.0um/10N/MD589/detector998/prep2/MD589-N69-2015.07.30-20.46.59_MD589_1_0205_prep2_10.0um_10N_detector998_scoremapViz.jpg\" \"s3://mousebrainatlas-data/CSHL_scoremap_viz/10.0um/10N/MD589/detector998/prep2/MD589-N69-2015.07.30-20.46.59_MD589_1_0205_prep2_10.0um_10N_detector998_scoremapViz.jpg\"\n",
      "0\n",
      "aws s3 cp \"/home/yuncong/CSHL_scoremaps/10.0um/MD589/MD589_prep2_10.0um_detector998/MD589-N69-2015.07.30-20.46.59_MD589_1_0205_prep2_10.0um_detector998/MD589-N69-2015.07.30-20.46.59_MD589_1_0205_prep2_10.0um_detector998_LC_scoremap.bp\" \"s3://mousebrainatlas-data/CSHL_scoremaps/10.0um/MD589/MD589_prep2_10.0um_detector998/MD589-N69-2015.07.30-20.46.59_MD589_1_0205_prep2_10.0um_detector998/MD589-N69-2015.07.30-20.46.59_MD589_1_0205_prep2_10.0um_detector998_LC_scoremap.bp\"\n",
      "0\n",
      "aws s3 cp \"/home/yuncong/CSHL_scoremap_viz/10.0um/LC/MD589/detector998/prep2/MD589-N69-2015.07.30-20.46.59_MD589_1_0205_prep2_10.0um_LC_detector998_scoremapViz.jpg\" \"s3://mousebrainatlas-data/CSHL_scoremap_viz/10.0um/LC/MD589/detector998/prep2/MD589-N69-2015.07.30-20.46.59_MD589_1_0205_prep2_10.0um_LC_detector998_scoremapViz.jpg\"\n",
      "0\n",
      "aws s3 cp \"/home/yuncong/CSHL_scoremaps/10.0um/MD589/MD589_prep2_10.0um_detector998/MD589-N69-2015.07.30-20.46.59_MD589_1_0205_prep2_10.0um_detector998/MD589-N69-2015.07.30-20.46.59_MD589_1_0205_prep2_10.0um_detector998_7N_scoremap.bp\" \"s3://mousebrainatlas-data/CSHL_scoremaps/10.0um/MD589/MD589_prep2_10.0um_detector998/MD589-N69-2015.07.30-20.46.59_MD589_1_0205_prep2_10.0um_detector998/MD589-N69-2015.07.30-20.46.59_MD589_1_0205_prep2_10.0um_detector998_7N_scoremap.bp\"\n",
      "0\n",
      "aws s3 cp \"/home/yuncong/CSHL_scoremap_viz/10.0um/7N/MD589/detector998/prep2/MD589-N69-2015.07.30-20.46.59_MD589_1_0205_prep2_10.0um_7N_detector998_scoremapViz.jpg\" \"s3://mousebrainatlas-data/CSHL_scoremap_viz/10.0um/7N/MD589/detector998/prep2/MD589-N69-2015.07.30-20.46.59_MD589_1_0205_prep2_10.0um_7N_detector998_scoremapViz.jpg\"\n",
      "0\n",
      "aws s3 cp \"/home/yuncong/CSHL_scoremaps/10.0um/MD589/MD589_prep2_10.0um_detector998/MD589-N69-2015.07.30-20.46.59_MD589_1_0205_prep2_10.0um_detector998/MD589-N69-2015.07.30-20.46.59_MD589_1_0205_prep2_10.0um_detector998_Amb_scoremap.bp\" \"s3://mousebrainatlas-data/CSHL_scoremaps/10.0um/MD589/MD589_prep2_10.0um_detector998/MD589-N69-2015.07.30-20.46.59_MD589_1_0205_prep2_10.0um_detector998/MD589-N69-2015.07.30-20.46.59_MD589_1_0205_prep2_10.0um_detector998_Amb_scoremap.bp\"\n"
     ]
    },
    {
     "name": "stdout",
     "output_type": "stream",
     "text": [
      "0\n",
      "aws s3 cp \"/home/yuncong/CSHL_scoremap_viz/10.0um/Amb/MD589/detector998/prep2/MD589-N69-2015.07.30-20.46.59_MD589_1_0205_prep2_10.0um_Amb_detector998_scoremapViz.jpg\" \"s3://mousebrainatlas-data/CSHL_scoremap_viz/10.0um/Amb/MD589/detector998/prep2/MD589-N69-2015.07.30-20.46.59_MD589_1_0205_prep2_10.0um_Amb_detector998_scoremapViz.jpg\"\n",
      "0\n",
      "aws s3 cp \"/home/yuncong/CSHL_scoremaps/10.0um/MD589/MD589_prep2_10.0um_detector998/MD589-N69-2015.07.30-20.46.59_MD589_1_0205_prep2_10.0um_detector998/MD589-N69-2015.07.30-20.46.59_MD589_1_0205_prep2_10.0um_detector998_12N_scoremap.bp\" \"s3://mousebrainatlas-data/CSHL_scoremaps/10.0um/MD589/MD589_prep2_10.0um_detector998/MD589-N69-2015.07.30-20.46.59_MD589_1_0205_prep2_10.0um_detector998/MD589-N69-2015.07.30-20.46.59_MD589_1_0205_prep2_10.0um_detector998_12N_scoremap.bp\"\n",
      "0\n",
      "aws s3 cp \"/home/yuncong/CSHL_scoremap_viz/10.0um/12N/MD589/detector998/prep2/MD589-N69-2015.07.30-20.46.59_MD589_1_0205_prep2_10.0um_12N_detector998_scoremapViz.jpg\" \"s3://mousebrainatlas-data/CSHL_scoremap_viz/10.0um/12N/MD589/detector998/prep2/MD589-N69-2015.07.30-20.46.59_MD589_1_0205_prep2_10.0um_12N_detector998_scoremapViz.jpg\"\n",
      "0\n",
      "aws s3 cp \"/home/yuncong/CSHL_scoremaps/10.0um/MD589/MD589_prep2_10.0um_detector998/MD589-N69-2015.07.30-20.46.59_MD589_1_0205_prep2_10.0um_detector998/MD589-N69-2015.07.30-20.46.59_MD589_1_0205_prep2_10.0um_detector998_RMC_scoremap.bp\" \"s3://mousebrainatlas-data/CSHL_scoremaps/10.0um/MD589/MD589_prep2_10.0um_detector998/MD589-N69-2015.07.30-20.46.59_MD589_1_0205_prep2_10.0um_detector998/MD589-N69-2015.07.30-20.46.59_MD589_1_0205_prep2_10.0um_detector998_RMC_scoremap.bp\"\n",
      "0\n",
      "aws s3 cp \"/home/yuncong/CSHL_scoremap_viz/10.0um/RMC/MD589/detector998/prep2/MD589-N69-2015.07.30-20.46.59_MD589_1_0205_prep2_10.0um_RMC_detector998_scoremapViz.jpg\" \"s3://mousebrainatlas-data/CSHL_scoremap_viz/10.0um/RMC/MD589/detector998/prep2/MD589-N69-2015.07.30-20.46.59_MD589_1_0205_prep2_10.0um_RMC_detector998_scoremapViz.jpg\"\n",
      "0\n",
      "aws s3 cp \"/home/yuncong/CSHL_scoremaps/10.0um/MD589/MD589_prep2_10.0um_detector998/MD589-N69-2015.07.30-20.46.59_MD589_1_0205_prep2_10.0um_detector998/MD589-N69-2015.07.30-20.46.59_MD589_1_0205_prep2_10.0um_detector998_Sp5O_scoremap.bp\" \"s3://mousebrainatlas-data/CSHL_scoremaps/10.0um/MD589/MD589_prep2_10.0um_detector998/MD589-N69-2015.07.30-20.46.59_MD589_1_0205_prep2_10.0um_detector998/MD589-N69-2015.07.30-20.46.59_MD589_1_0205_prep2_10.0um_detector998_Sp5O_scoremap.bp\"\n",
      "0\n",
      "aws s3 cp \"/home/yuncong/CSHL_scoremap_viz/10.0um/Sp5O/MD589/detector998/prep2/MD589-N69-2015.07.30-20.46.59_MD589_1_0205_prep2_10.0um_Sp5O_detector998_scoremapViz.jpg\" \"s3://mousebrainatlas-data/CSHL_scoremap_viz/10.0um/Sp5O/MD589/detector998/prep2/MD589-N69-2015.07.30-20.46.59_MD589_1_0205_prep2_10.0um_Sp5O_detector998_scoremapViz.jpg\"\n",
      "0\n",
      "aws s3 cp \"/home/yuncong/CSHL_scoremaps/10.0um/MD589/MD589_prep2_10.0um_detector998/MD589-N69-2015.07.30-20.46.59_MD589_1_0205_prep2_10.0um_detector998/MD589-N69-2015.07.30-20.46.59_MD589_1_0205_prep2_10.0um_detector998_Sp5I_scoremap.bp\" \"s3://mousebrainatlas-data/CSHL_scoremaps/10.0um/MD589/MD589_prep2_10.0um_detector998/MD589-N69-2015.07.30-20.46.59_MD589_1_0205_prep2_10.0um_detector998/MD589-N69-2015.07.30-20.46.59_MD589_1_0205_prep2_10.0um_detector998_Sp5I_scoremap.bp\"\n",
      "0\n",
      "aws s3 cp \"/home/yuncong/CSHL_scoremap_viz/10.0um/Sp5I/MD589/detector998/prep2/MD589-N69-2015.07.30-20.46.59_MD589_1_0205_prep2_10.0um_Sp5I_detector998_scoremapViz.jpg\" \"s3://mousebrainatlas-data/CSHL_scoremap_viz/10.0um/Sp5I/MD589/detector998/prep2/MD589-N69-2015.07.30-20.46.59_MD589_1_0205_prep2_10.0um_Sp5I_detector998_scoremapViz.jpg\"\n",
      "0\n",
      "aws s3 cp \"/home/yuncong/CSHL_scoremaps/10.0um/MD589/MD589_prep2_10.0um_detector998/MD589-N69-2015.07.30-20.46.59_MD589_1_0205_prep2_10.0um_detector998/MD589-N69-2015.07.30-20.46.59_MD589_1_0205_prep2_10.0um_detector998_Sp5C_scoremap.bp\" \"s3://mousebrainatlas-data/CSHL_scoremaps/10.0um/MD589/MD589_prep2_10.0um_detector998/MD589-N69-2015.07.30-20.46.59_MD589_1_0205_prep2_10.0um_detector998/MD589-N69-2015.07.30-20.46.59_MD589_1_0205_prep2_10.0um_detector998_Sp5C_scoremap.bp\"\n",
      "0\n",
      "aws s3 cp \"/home/yuncong/CSHL_scoremap_viz/10.0um/Sp5C/MD589/detector998/prep2/MD589-N69-2015.07.30-20.46.59_MD589_1_0205_prep2_10.0um_Sp5C_detector998_scoremapViz.jpg\" \"s3://mousebrainatlas-data/CSHL_scoremap_viz/10.0um/Sp5C/MD589/detector998/prep2/MD589-N69-2015.07.30-20.46.59_MD589_1_0205_prep2_10.0um_Sp5C_detector998_scoremapViz.jpg\"\n",
      "0\n",
      "aws s3 cp \"/home/yuncong/CSHL_scoremaps/10.0um/MD589/MD589_prep2_10.0um_detector998/MD589-N69-2015.07.30-20.46.59_MD589_1_0205_prep2_10.0um_detector998/MD589-N69-2015.07.30-20.46.59_MD589_1_0205_prep2_10.0um_detector998_VCP_scoremap.bp\" \"s3://mousebrainatlas-data/CSHL_scoremaps/10.0um/MD589/MD589_prep2_10.0um_detector998/MD589-N69-2015.07.30-20.46.59_MD589_1_0205_prep2_10.0um_detector998/MD589-N69-2015.07.30-20.46.59_MD589_1_0205_prep2_10.0um_detector998_VCP_scoremap.bp\"\n",
      "0\n",
      "aws s3 cp \"/home/yuncong/CSHL_scoremap_viz/10.0um/VCP/MD589/detector998/prep2/MD589-N69-2015.07.30-20.46.59_MD589_1_0205_prep2_10.0um_VCP_detector998_scoremapViz.jpg\" \"s3://mousebrainatlas-data/CSHL_scoremap_viz/10.0um/VCP/MD589/detector998/prep2/MD589-N69-2015.07.30-20.46.59_MD589_1_0205_prep2_10.0um_VCP_detector998_scoremapViz.jpg\"\n",
      "0\n",
      "aws s3 cp \"/home/yuncong/CSHL_scoremaps/10.0um/MD589/MD589_prep2_10.0um_detector998/MD589-N69-2015.07.30-20.46.59_MD589_1_0205_prep2_10.0um_detector998/MD589-N69-2015.07.30-20.46.59_MD589_1_0205_prep2_10.0um_detector998_AP_scoremap.bp\" \"s3://mousebrainatlas-data/CSHL_scoremaps/10.0um/MD589/MD589_prep2_10.0um_detector998/MD589-N69-2015.07.30-20.46.59_MD589_1_0205_prep2_10.0um_detector998/MD589-N69-2015.07.30-20.46.59_MD589_1_0205_prep2_10.0um_detector998_AP_scoremap.bp\"\n",
      "0\n",
      "aws s3 cp \"/home/yuncong/CSHL_scoremap_viz/10.0um/AP/MD589/detector998/prep2/MD589-N69-2015.07.30-20.46.59_MD589_1_0205_prep2_10.0um_AP_detector998_scoremapViz.jpg\" \"s3://mousebrainatlas-data/CSHL_scoremap_viz/10.0um/AP/MD589/detector998/prep2/MD589-N69-2015.07.30-20.46.59_MD589_1_0205_prep2_10.0um_AP_detector998_scoremapViz.jpg\"\n",
      "0\n",
      "aws s3 cp \"/home/yuncong/CSHL_scoremaps/10.0um/MD589/MD589_prep2_10.0um_detector998/MD589-N69-2015.07.30-20.46.59_MD589_1_0205_prep2_10.0um_detector998/MD589-N69-2015.07.30-20.46.59_MD589_1_0205_prep2_10.0um_detector998_PBG_scoremap.bp\" \"s3://mousebrainatlas-data/CSHL_scoremaps/10.0um/MD589/MD589_prep2_10.0um_detector998/MD589-N69-2015.07.30-20.46.59_MD589_1_0205_prep2_10.0um_detector998/MD589-N69-2015.07.30-20.46.59_MD589_1_0205_prep2_10.0um_detector998_PBG_scoremap.bp\"\n",
      "0\n",
      "aws s3 cp \"/home/yuncong/CSHL_scoremap_viz/10.0um/PBG/MD589/detector998/prep2/MD589-N69-2015.07.30-20.46.59_MD589_1_0205_prep2_10.0um_PBG_detector998_scoremapViz.jpg\" \"s3://mousebrainatlas-data/CSHL_scoremap_viz/10.0um/PBG/MD589/detector998/prep2/MD589-N69-2015.07.30-20.46.59_MD589_1_0205_prep2_10.0um_PBG_detector998_scoremapViz.jpg\"\n",
      "0\n",
      "aws s3 cp \"/home/yuncong/CSHL_scoremaps/10.0um/MD589/MD589_prep2_10.0um_detector998/MD589-N69-2015.07.30-20.46.59_MD589_1_0205_prep2_10.0um_detector998/MD589-N69-2015.07.30-20.46.59_MD589_1_0205_prep2_10.0um_detector998_LRt_scoremap.bp\" \"s3://mousebrainatlas-data/CSHL_scoremaps/10.0um/MD589/MD589_prep2_10.0um_detector998/MD589-N69-2015.07.30-20.46.59_MD589_1_0205_prep2_10.0um_detector998/MD589-N69-2015.07.30-20.46.59_MD589_1_0205_prep2_10.0um_detector998_LRt_scoremap.bp\"\n",
      "0\n",
      "aws s3 cp \"/home/yuncong/CSHL_scoremap_viz/10.0um/LRt/MD589/detector998/prep2/MD589-N69-2015.07.30-20.46.59_MD589_1_0205_prep2_10.0um_LRt_detector998_scoremapViz.jpg\" \"s3://mousebrainatlas-data/CSHL_scoremap_viz/10.0um/LRt/MD589/detector998/prep2/MD589-N69-2015.07.30-20.46.59_MD589_1_0205_prep2_10.0um_LRt_detector998_scoremapViz.jpg\"\n",
      "0\n",
      "aws s3 cp \"/home/yuncong/CSHL_scoremaps/10.0um/MD589/MD589_prep2_10.0um_detector998/MD589-N69-2015.07.30-20.46.59_MD589_1_0205_prep2_10.0um_detector998/MD589-N69-2015.07.30-20.46.59_MD589_1_0205_prep2_10.0um_detector998_IC_scoremap.bp\" \"s3://mousebrainatlas-data/CSHL_scoremaps/10.0um/MD589/MD589_prep2_10.0um_detector998/MD589-N69-2015.07.30-20.46.59_MD589_1_0205_prep2_10.0um_detector998/MD589-N69-2015.07.30-20.46.59_MD589_1_0205_prep2_10.0um_detector998_IC_scoremap.bp\"\n",
      "0\n",
      "aws s3 cp \"/home/yuncong/CSHL_scoremap_viz/10.0um/IC/MD589/detector998/prep2/MD589-N69-2015.07.30-20.46.59_MD589_1_0205_prep2_10.0um_IC_detector998_scoremapViz.jpg\" \"s3://mousebrainatlas-data/CSHL_scoremap_viz/10.0um/IC/MD589/detector998/prep2/MD589-N69-2015.07.30-20.46.59_MD589_1_0205_prep2_10.0um_IC_detector998_scoremapViz.jpg\"\n"
     ]
    },
    {
     "name": "stdout",
     "output_type": "stream",
     "text": [
      "0\n",
      "aws s3 cp \"/home/yuncong/CSHL_scoremaps/10.0um/MD589/MD589_prep2_10.0um_detector998/MD589-N69-2015.07.30-20.46.59_MD589_1_0205_prep2_10.0um_detector998/MD589-N69-2015.07.30-20.46.59_MD589_1_0205_prep2_10.0um_detector998_VLL_scoremap.bp\" \"s3://mousebrainatlas-data/CSHL_scoremaps/10.0um/MD589/MD589_prep2_10.0um_detector998/MD589-N69-2015.07.30-20.46.59_MD589_1_0205_prep2_10.0um_detector998/MD589-N69-2015.07.30-20.46.59_MD589_1_0205_prep2_10.0um_detector998_VLL_scoremap.bp\"\n",
      "0\n",
      "aws s3 cp \"/home/yuncong/CSHL_scoremap_viz/10.0um/VLL/MD589/detector998/prep2/MD589-N69-2015.07.30-20.46.59_MD589_1_0205_prep2_10.0um_VLL_detector998_scoremapViz.jpg\" \"s3://mousebrainatlas-data/CSHL_scoremap_viz/10.0um/VLL/MD589/detector998/prep2/MD589-N69-2015.07.30-20.46.59_MD589_1_0205_prep2_10.0um_VLL_detector998_scoremapViz.jpg\"\n",
      "0\n",
      "aws s3 cp \"/home/yuncong/CSHL_scoremaps/10.0um/MD589/MD589_prep2_10.0um_detector998/MD589-N69-2015.07.30-20.46.59_MD589_1_0205_prep2_10.0um_detector998/MD589-N69-2015.07.30-20.46.59_MD589_1_0205_prep2_10.0um_detector998_4N_scoremap.bp\" \"s3://mousebrainatlas-data/CSHL_scoremaps/10.0um/MD589/MD589_prep2_10.0um_detector998/MD589-N69-2015.07.30-20.46.59_MD589_1_0205_prep2_10.0um_detector998/MD589-N69-2015.07.30-20.46.59_MD589_1_0205_prep2_10.0um_detector998_4N_scoremap.bp\"\n",
      "0\n",
      "aws s3 cp \"/home/yuncong/CSHL_scoremap_viz/10.0um/4N/MD589/detector998/prep2/MD589-N69-2015.07.30-20.46.59_MD589_1_0205_prep2_10.0um_4N_detector998_scoremapViz.jpg\" \"s3://mousebrainatlas-data/CSHL_scoremap_viz/10.0um/4N/MD589/detector998/prep2/MD589-N69-2015.07.30-20.46.59_MD589_1_0205_prep2_10.0um_4N_detector998_scoremapViz.jpg\"\n",
      "0\n",
      "aws s3 cp \"/home/yuncong/CSHL_scoremaps/10.0um/MD589/MD589_prep2_10.0um_detector998/MD589-N69-2015.07.30-20.46.59_MD589_1_0205_prep2_10.0um_detector998/MD589-N69-2015.07.30-20.46.59_MD589_1_0205_prep2_10.0um_detector998_SNC_scoremap.bp\" \"s3://mousebrainatlas-data/CSHL_scoremaps/10.0um/MD589/MD589_prep2_10.0um_detector998/MD589-N69-2015.07.30-20.46.59_MD589_1_0205_prep2_10.0um_detector998/MD589-N69-2015.07.30-20.46.59_MD589_1_0205_prep2_10.0um_detector998_SNC_scoremap.bp\"\n",
      "0\n",
      "aws s3 cp \"/home/yuncong/CSHL_scoremap_viz/10.0um/SNC/MD589/detector998/prep2/MD589-N69-2015.07.30-20.46.59_MD589_1_0205_prep2_10.0um_SNC_detector998_scoremapViz.jpg\" \"s3://mousebrainatlas-data/CSHL_scoremap_viz/10.0um/SNC/MD589/detector998/prep2/MD589-N69-2015.07.30-20.46.59_MD589_1_0205_prep2_10.0um_SNC_detector998_scoremapViz.jpg\"\n",
      "0\n",
      "aws s3 cp \"/home/yuncong/CSHL_scoremaps/10.0um/MD589/MD589_prep2_10.0um_detector998/MD589-N69-2015.07.30-20.46.59_MD589_1_0205_prep2_10.0um_detector998/MD589-N69-2015.07.30-20.46.59_MD589_1_0205_prep2_10.0um_detector998_6N_scoremap.bp\" \"s3://mousebrainatlas-data/CSHL_scoremaps/10.0um/MD589/MD589_prep2_10.0um_detector998/MD589-N69-2015.07.30-20.46.59_MD589_1_0205_prep2_10.0um_detector998/MD589-N69-2015.07.30-20.46.59_MD589_1_0205_prep2_10.0um_detector998_6N_scoremap.bp\"\n",
      "0\n",
      "aws s3 cp \"/home/yuncong/CSHL_scoremap_viz/10.0um/6N/MD589/detector998/prep2/MD589-N69-2015.07.30-20.46.59_MD589_1_0205_prep2_10.0um_6N_detector998_scoremapViz.jpg\" \"s3://mousebrainatlas-data/CSHL_scoremap_viz/10.0um/6N/MD589/detector998/prep2/MD589-N69-2015.07.30-20.46.59_MD589_1_0205_prep2_10.0um_6N_detector998_scoremapViz.jpg\"\n",
      "0\n",
      "aws s3 cp \"/home/yuncong/CSHL_scoremaps/10.0um/MD589/MD589_prep2_10.0um_detector998/MD589-N69-2015.07.30-20.46.59_MD589_1_0205_prep2_10.0um_detector998/MD589-N69-2015.07.30-20.46.59_MD589_1_0205_prep2_10.0um_detector998_SNR_scoremap.bp\" \"s3://mousebrainatlas-data/CSHL_scoremaps/10.0um/MD589/MD589_prep2_10.0um_detector998/MD589-N69-2015.07.30-20.46.59_MD589_1_0205_prep2_10.0um_detector998/MD589-N69-2015.07.30-20.46.59_MD589_1_0205_prep2_10.0um_detector998_SNR_scoremap.bp\"\n",
      "0\n",
      "aws s3 cp \"/home/yuncong/CSHL_scoremap_viz/10.0um/SNR/MD589/detector998/prep2/MD589-N69-2015.07.30-20.46.59_MD589_1_0205_prep2_10.0um_SNR_detector998_scoremapViz.jpg\" \"s3://mousebrainatlas-data/CSHL_scoremap_viz/10.0um/SNR/MD589/detector998/prep2/MD589-N69-2015.07.30-20.46.59_MD589_1_0205_prep2_10.0um_SNR_detector998_scoremapViz.jpg\"\n",
      "0\n",
      "aws s3 cp \"/home/yuncong/CSHL_scoremaps/10.0um/MD589/MD589_prep2_10.0um_detector998/MD589-N69-2015.07.30-20.46.59_MD589_1_0205_prep2_10.0um_detector998/MD589-N69-2015.07.30-20.46.59_MD589_1_0205_prep2_10.0um_detector998_SC_scoremap.bp\" \"s3://mousebrainatlas-data/CSHL_scoremaps/10.0um/MD589/MD589_prep2_10.0um_detector998/MD589-N69-2015.07.30-20.46.59_MD589_1_0205_prep2_10.0um_detector998/MD589-N69-2015.07.30-20.46.59_MD589_1_0205_prep2_10.0um_detector998_SC_scoremap.bp\"\n",
      "0\n",
      "aws s3 cp \"/home/yuncong/CSHL_scoremap_viz/10.0um/SC/MD589/detector998/prep2/MD589-N69-2015.07.30-20.46.59_MD589_1_0205_prep2_10.0um_SC_detector998_scoremapViz.jpg\" \"s3://mousebrainatlas-data/CSHL_scoremap_viz/10.0um/SC/MD589/detector998/prep2/MD589-N69-2015.07.30-20.46.59_MD589_1_0205_prep2_10.0um_SC_detector998_scoremapViz.jpg\"\n",
      "0\n",
      "aws s3 cp \"/home/yuncong/CSHL_scoremaps/10.0um/MD589/MD589_prep2_10.0um_detector998/MD589-N69-2015.07.30-20.46.59_MD589_1_0205_prep2_10.0um_detector998/MD589-N69-2015.07.30-20.46.59_MD589_1_0205_prep2_10.0um_detector998_RtTg_scoremap.bp\" \"s3://mousebrainatlas-data/CSHL_scoremaps/10.0um/MD589/MD589_prep2_10.0um_detector998/MD589-N69-2015.07.30-20.46.59_MD589_1_0205_prep2_10.0um_detector998/MD589-N69-2015.07.30-20.46.59_MD589_1_0205_prep2_10.0um_detector998_RtTg_scoremap.bp\"\n",
      "0\n",
      "aws s3 cp \"/home/yuncong/CSHL_scoremap_viz/10.0um/RtTg/MD589/detector998/prep2/MD589-N69-2015.07.30-20.46.59_MD589_1_0205_prep2_10.0um_RtTg_detector998_scoremapViz.jpg\" \"s3://mousebrainatlas-data/CSHL_scoremap_viz/10.0um/RtTg/MD589/detector998/prep2/MD589-N69-2015.07.30-20.46.59_MD589_1_0205_prep2_10.0um_RtTg_detector998_scoremapViz.jpg\"\n",
      "0\n"
     ]
    },
    {
     "name": "stderr",
     "output_type": "stream",
     "text": [
      "locate patches: 0.04 seconds\n",
      "Load pre-computed features: 1.11 seconds\n"
     ]
    },
    {
     "name": "stdout",
     "output_type": "stream",
     "text": [
      "rm -rf \"/media/yuncong/BstemAtlasData/CSHL_data_processed/MD589/MD589_prep2_lossless_grayJpeg/MD589-IHC69-2015.07.31-02.07.15_MD589_1_0205_prep2_lossless_grayJpeg.jpg\" && mkdir -p \"/media/yuncong/BstemAtlasData/CSHL_data_processed/MD589/MD589_prep2_lossless_grayJpeg\"\n",
      "0\n",
      "aws s3 cp \"s3://mousebrainatlas-data/CSHL_data_processed/MD589/MD589_prep2_lossless_grayJpeg/MD589-IHC69-2015.07.31-02.07.15_MD589_1_0205_prep2_lossless_grayJpeg.jpg\" \"/media/yuncong/BstemAtlasData/CSHL_data_processed/MD589/MD589_prep2_lossless_grayJpeg/MD589-IHC69-2015.07.31-02.07.15_MD589_1_0205_prep2_lossless_grayJpeg.jpg\"\n",
      "0\n"
     ]
    },
    {
     "name": "stderr",
     "output_type": "stream",
     "text": [
      "Not using image_cache.\n"
     ]
    },
    {
     "name": "stdout",
     "output_type": "stream",
     "text": [
      "/media/yuncong/BstemAtlasData/CSHL_data_processed/MD589/MD589_prep2_lossless_grayJpeg/MD589-IHC69-2015.07.31-02.07.15_MD589_1_0205_prep2_lossless_grayJpeg.jpg\n"
     ]
    },
    {
     "name": "stderr",
     "output_type": "stream",
     "text": [
      "Load background image: 2.66 seconds\n",
      "Rescale background image to output resolution: 2.30 seconds\n",
      "Predict scores Tz: 0.12 seconds\n",
      "Rescample scoremap Tz: 0.07 seconds\n",
      "Load and rescale background image: 0.00 seconds\n",
      "Generate scoremap overlay: 0.05 seconds.\n",
      "Scoremap size does not match background image size. Need to resize: 0.06 seconds.\n",
      "Genearte scoremap overlay image Tz: 0.14 seconds\n",
      "Predict scores VCA: 0.11 seconds\n"
     ]
    },
    {
     "name": "stdout",
     "output_type": "stream",
     "text": [
      "(549, 714, 3) (549, 714)\n"
     ]
    },
    {
     "name": "stderr",
     "output_type": "stream",
     "text": [
      "Rescample scoremap VCA: 0.06 seconds\n",
      "Load and rescale background image: 0.00 seconds\n",
      "Generate scoremap overlay: 0.05 seconds.\n",
      "Scoremap size does not match background image size. Need to resize: 0.06 seconds.\n",
      "Genearte scoremap overlay image VCA: 0.14 seconds\n"
     ]
    },
    {
     "name": "stdout",
     "output_type": "stream",
     "text": [
      "(549, 714, 3) (549, 714)\n"
     ]
    },
    {
     "name": "stderr",
     "output_type": "stream",
     "text": [
      "Predict scores 7n: 0.11 seconds\n",
      "Rescample scoremap 7n: 0.06 seconds\n",
      "Load and rescale background image: 0.00 seconds\n",
      "Generate scoremap overlay: 0.05 seconds.\n",
      "Scoremap size does not match background image size. Need to resize: 0.05 seconds.\n",
      "Genearte scoremap overlay image 7n: 0.13 seconds\n"
     ]
    },
    {
     "name": "stdout",
     "output_type": "stream",
     "text": [
      "(549, 714, 3) (549, 714)\n"
     ]
    },
    {
     "name": "stderr",
     "output_type": "stream",
     "text": [
      "Predict scores DC: 0.11 seconds\n",
      "Rescample scoremap DC: 0.06 seconds\n",
      "Load and rescale background image: 0.00 seconds\n",
      "Generate scoremap overlay: 0.05 seconds.\n",
      "Scoremap size does not match background image size. Need to resize: 0.05 seconds.\n",
      "Genearte scoremap overlay image DC: 0.14 seconds\n"
     ]
    },
    {
     "name": "stdout",
     "output_type": "stream",
     "text": [
      "(549, 714, 3) (549, 714)\n"
     ]
    },
    {
     "name": "stderr",
     "output_type": "stream",
     "text": [
      "Predict scores 5N: 0.11 seconds\n",
      "Rescample scoremap 5N: 0.06 seconds\n",
      "Load and rescale background image: 0.00 seconds\n",
      "Generate scoremap overlay: 0.05 seconds.\n",
      "Scoremap size does not match background image size. Need to resize: 0.05 seconds.\n",
      "Genearte scoremap overlay image 5N: 0.14 seconds\n"
     ]
    },
    {
     "name": "stdout",
     "output_type": "stream",
     "text": [
      "(549, 714, 3) (549, 714)\n"
     ]
    },
    {
     "name": "stderr",
     "output_type": "stream",
     "text": [
      "Predict scores 3N: 0.12 seconds\n",
      "Rescample scoremap 3N: 0.06 seconds\n",
      "Load and rescale background image: 0.00 seconds\n",
      "Generate scoremap overlay: 0.05 seconds.\n",
      "Scoremap size does not match background image size. Need to resize: 0.06 seconds.\n"
     ]
    },
    {
     "name": "stdout",
     "output_type": "stream",
     "text": [
      "(549, 714, 3) (549, 714)\n"
     ]
    },
    {
     "name": "stderr",
     "output_type": "stream",
     "text": [
      "Genearte scoremap overlay image 3N: 0.14 seconds\n",
      "Predict scores Pn: 0.11 seconds\n",
      "Rescample scoremap Pn: 0.06 seconds\n",
      "Load and rescale background image: 0.00 seconds\n",
      "Generate scoremap overlay: 0.05 seconds.\n",
      "Scoremap size does not match background image size. Need to resize: 0.05 seconds.\n",
      "Genearte scoremap overlay image Pn: 0.14 seconds\n",
      "Predict scores 10N: 0.11 seconds\n"
     ]
    },
    {
     "name": "stdout",
     "output_type": "stream",
     "text": [
      "(549, 714, 3) (549, 714)\n"
     ]
    },
    {
     "name": "stderr",
     "output_type": "stream",
     "text": [
      "Rescample scoremap 10N: 0.06 seconds\n",
      "Load and rescale background image: 0.00 seconds\n",
      "Generate scoremap overlay: 0.05 seconds.\n",
      "Scoremap size does not match background image size. Need to resize: 0.06 seconds.\n",
      "Genearte scoremap overlay image 10N: 0.13 seconds\n"
     ]
    },
    {
     "name": "stdout",
     "output_type": "stream",
     "text": [
      "(549, 714, 3) (549, 714)\n"
     ]
    },
    {
     "name": "stderr",
     "output_type": "stream",
     "text": [
      "Predict scores LC: 0.11 seconds\n",
      "Rescample scoremap LC: 0.06 seconds\n",
      "Load and rescale background image: 0.00 seconds\n",
      "Generate scoremap overlay: 0.05 seconds.\n",
      "Scoremap size does not match background image size. Need to resize: 0.05 seconds.\n",
      "Genearte scoremap overlay image LC: 0.13 seconds\n"
     ]
    },
    {
     "name": "stdout",
     "output_type": "stream",
     "text": [
      "(549, 714, 3) (549, 714)\n"
     ]
    },
    {
     "name": "stderr",
     "output_type": "stream",
     "text": [
      "Predict scores 7N: 0.11 seconds\n",
      "Rescample scoremap 7N: 0.06 seconds\n",
      "Load and rescale background image: 0.00 seconds\n",
      "Generate scoremap overlay: 0.05 seconds.\n",
      "Scoremap size does not match background image size. Need to resize: 0.05 seconds.\n",
      "Genearte scoremap overlay image 7N: 0.14 seconds\n"
     ]
    },
    {
     "name": "stdout",
     "output_type": "stream",
     "text": [
      "(549, 714, 3) (549, 714)\n"
     ]
    },
    {
     "name": "stderr",
     "output_type": "stream",
     "text": [
      "Predict scores Amb: 0.11 seconds\n",
      "Rescample scoremap Amb: 0.06 seconds\n",
      "Load and rescale background image: 0.00 seconds\n",
      "Generate scoremap overlay: 0.05 seconds.\n",
      "Scoremap size does not match background image size. Need to resize: 0.05 seconds.\n",
      "Genearte scoremap overlay image Amb: 0.14 seconds\n"
     ]
    },
    {
     "name": "stdout",
     "output_type": "stream",
     "text": [
      "(549, 714, 3) (549, 714)\n"
     ]
    },
    {
     "name": "stderr",
     "output_type": "stream",
     "text": [
      "Predict scores 12N: 0.13 seconds\n",
      "Rescample scoremap 12N: 0.06 seconds\n",
      "Load and rescale background image: 0.00 seconds\n",
      "Generate scoremap overlay: 0.08 seconds.\n",
      "Scoremap size does not match background image size. Need to resize: 0.05 seconds.\n"
     ]
    },
    {
     "name": "stdout",
     "output_type": "stream",
     "text": [
      "(549, 714, 3) (549, 714)\n"
     ]
    },
    {
     "name": "stderr",
     "output_type": "stream",
     "text": [
      "Genearte scoremap overlay image 12N: 0.16 seconds\n",
      "Predict scores RMC: 0.11 seconds\n",
      "Rescample scoremap RMC: 0.06 seconds\n",
      "Load and rescale background image: 0.00 seconds\n",
      "Generate scoremap overlay: 0.05 seconds.\n",
      "Scoremap size does not match background image size. Need to resize: 0.06 seconds.\n",
      "Genearte scoremap overlay image RMC: 0.14 seconds\n",
      "Predict scores Sp5O: 0.11 seconds\n"
     ]
    },
    {
     "name": "stdout",
     "output_type": "stream",
     "text": [
      "(549, 714, 3) (549, 714)\n"
     ]
    },
    {
     "name": "stderr",
     "output_type": "stream",
     "text": [
      "Rescample scoremap Sp5O: 0.05 seconds\n",
      "Load and rescale background image: 0.00 seconds\n",
      "Generate scoremap overlay: 0.06 seconds.\n",
      "Scoremap size does not match background image size. Need to resize: 0.05 seconds.\n",
      "Genearte scoremap overlay image Sp5O: 0.14 seconds\n"
     ]
    },
    {
     "name": "stdout",
     "output_type": "stream",
     "text": [
      "(549, 714, 3) (549, 714)\n"
     ]
    },
    {
     "name": "stderr",
     "output_type": "stream",
     "text": [
      "Predict scores Sp5I: 0.11 seconds\n",
      "Rescample scoremap Sp5I: 0.06 seconds\n",
      "Load and rescale background image: 0.00 seconds\n",
      "Generate scoremap overlay: 0.05 seconds.\n",
      "Scoremap size does not match background image size. Need to resize: 0.05 seconds.\n"
     ]
    },
    {
     "name": "stdout",
     "output_type": "stream",
     "text": [
      "(549, 714, 3) (549, 714)\n"
     ]
    },
    {
     "name": "stderr",
     "output_type": "stream",
     "text": [
      "Genearte scoremap overlay image Sp5I: 0.14 seconds\n",
      "Predict scores Sp5C: 0.11 seconds\n",
      "Rescample scoremap Sp5C: 0.06 seconds\n",
      "Load and rescale background image: 0.00 seconds\n",
      "Generate scoremap overlay: 0.06 seconds.\n",
      "Scoremap size does not match background image size. Need to resize: 0.05 seconds.\n",
      "Genearte scoremap overlay image Sp5C: 0.15 seconds\n"
     ]
    },
    {
     "name": "stdout",
     "output_type": "stream",
     "text": [
      "(549, 714, 3) (549, 714)\n"
     ]
    },
    {
     "name": "stderr",
     "output_type": "stream",
     "text": [
      "Predict scores VCP: 0.12 seconds\n",
      "Rescample scoremap VCP: 0.06 seconds\n",
      "Load and rescale background image: 0.00 seconds\n",
      "Generate scoremap overlay: 0.06 seconds.\n",
      "Scoremap size does not match background image size. Need to resize: 0.05 seconds.\n"
     ]
    },
    {
     "name": "stdout",
     "output_type": "stream",
     "text": [
      "(549, 714, 3) (549, 714)\n"
     ]
    },
    {
     "name": "stderr",
     "output_type": "stream",
     "text": [
      "Genearte scoremap overlay image VCP: 0.14 seconds\n",
      "Predict scores AP: 0.11 seconds\n",
      "Rescample scoremap AP: 0.04 seconds\n",
      "Load and rescale background image: 0.00 seconds\n",
      "Generate scoremap overlay: 0.06 seconds.\n",
      "Scoremap size does not match background image size. Need to resize: 0.05 seconds.\n",
      "Genearte scoremap overlay image AP: 0.14 seconds\n",
      "Predict scores PBG: 0.11 seconds\n"
     ]
    },
    {
     "name": "stdout",
     "output_type": "stream",
     "text": [
      "(549, 714, 3) (549, 714)\n"
     ]
    },
    {
     "name": "stderr",
     "output_type": "stream",
     "text": [
      "Rescample scoremap PBG: 0.06 seconds\n",
      "Load and rescale background image: 0.00 seconds\n",
      "Generate scoremap overlay: 0.05 seconds.\n",
      "Scoremap size does not match background image size. Need to resize: 0.05 seconds.\n",
      "Genearte scoremap overlay image PBG: 0.14 seconds\n"
     ]
    },
    {
     "name": "stdout",
     "output_type": "stream",
     "text": [
      "(549, 714, 3) (549, 714)\n"
     ]
    },
    {
     "name": "stderr",
     "output_type": "stream",
     "text": [
      "Predict scores LRt: 0.11 seconds\n",
      "Rescample scoremap LRt: 0.06 seconds\n",
      "Load and rescale background image: 0.00 seconds\n",
      "Generate scoremap overlay: 0.05 seconds.\n",
      "Scoremap size does not match background image size. Need to resize: 0.05 seconds.\n",
      "Genearte scoremap overlay image LRt: 0.14 seconds\n"
     ]
    },
    {
     "name": "stdout",
     "output_type": "stream",
     "text": [
      "(549, 714, 3) (549, 714)\n"
     ]
    },
    {
     "name": "stderr",
     "output_type": "stream",
     "text": [
      "Predict scores IC: 0.11 seconds\n",
      "Rescample scoremap IC: 0.06 seconds\n",
      "Load and rescale background image: 0.00 seconds\n",
      "Generate scoremap overlay: 0.05 seconds.\n",
      "Scoremap size does not match background image size. Need to resize: 0.05 seconds.\n",
      "Genearte scoremap overlay image IC: 0.14 seconds\n"
     ]
    },
    {
     "name": "stdout",
     "output_type": "stream",
     "text": [
      "(549, 714, 3) (549, 714)\n"
     ]
    },
    {
     "name": "stderr",
     "output_type": "stream",
     "text": [
      "Predict scores VLL: 0.11 seconds\n",
      "Rescample scoremap VLL: 0.06 seconds\n",
      "Load and rescale background image: 0.00 seconds\n",
      "Generate scoremap overlay: 0.05 seconds.\n",
      "Scoremap size does not match background image size. Need to resize: 0.05 seconds.\n",
      "Genearte scoremap overlay image VLL: 0.14 seconds\n"
     ]
    },
    {
     "name": "stdout",
     "output_type": "stream",
     "text": [
      "(549, 714, 3) (549, 714)\n"
     ]
    },
    {
     "name": "stderr",
     "output_type": "stream",
     "text": [
      "Predict scores 4N: 0.11 seconds\n",
      "Rescample scoremap 4N: 0.06 seconds\n",
      "Load and rescale background image: 0.00 seconds\n",
      "Generate scoremap overlay: 0.05 seconds.\n",
      "Scoremap size does not match background image size. Need to resize: 0.05 seconds.\n",
      "Genearte scoremap overlay image 4N: 0.13 seconds\n"
     ]
    },
    {
     "name": "stdout",
     "output_type": "stream",
     "text": [
      "(549, 714, 3) (549, 714)\n"
     ]
    },
    {
     "name": "stderr",
     "output_type": "stream",
     "text": [
      "Predict scores SNC: 0.11 seconds\n",
      "Rescample scoremap SNC: 0.06 seconds\n",
      "Load and rescale background image: 0.00 seconds\n",
      "Generate scoremap overlay: 0.05 seconds.\n",
      "Scoremap size does not match background image size. Need to resize: 0.05 seconds.\n",
      "Genearte scoremap overlay image SNC: 0.14 seconds\n"
     ]
    },
    {
     "name": "stdout",
     "output_type": "stream",
     "text": [
      "(549, 714, 3) (549, 714)\n"
     ]
    },
    {
     "name": "stderr",
     "output_type": "stream",
     "text": [
      "Predict scores 6N: 0.11 seconds\n",
      "Rescample scoremap 6N: 0.06 seconds\n",
      "Load and rescale background image: 0.00 seconds\n",
      "Generate scoremap overlay: 0.05 seconds.\n",
      "Scoremap size does not match background image size. Need to resize: 0.05 seconds.\n",
      "Genearte scoremap overlay image 6N: 0.13 seconds\n"
     ]
    },
    {
     "name": "stdout",
     "output_type": "stream",
     "text": [
      "(549, 714, 3) (549, 714)\n"
     ]
    },
    {
     "name": "stderr",
     "output_type": "stream",
     "text": [
      "Predict scores SNR: 0.11 seconds\n",
      "Rescample scoremap SNR: 0.06 seconds\n",
      "Load and rescale background image: 0.00 seconds\n",
      "Generate scoremap overlay: 0.05 seconds.\n",
      "Scoremap size does not match background image size. Need to resize: 0.05 seconds.\n",
      "Genearte scoremap overlay image SNR: 0.13 seconds\n"
     ]
    },
    {
     "name": "stdout",
     "output_type": "stream",
     "text": [
      "(549, 714, 3) (549, 714)\n"
     ]
    },
    {
     "name": "stderr",
     "output_type": "stream",
     "text": [
      "Predict scores SC: 0.11 seconds\n",
      "Rescample scoremap SC: 0.06 seconds\n",
      "Load and rescale background image: 0.00 seconds\n",
      "Generate scoremap overlay: 0.05 seconds.\n",
      "Scoremap size does not match background image size. Need to resize: 0.05 seconds.\n",
      "Genearte scoremap overlay image SC: 0.14 seconds\n"
     ]
    },
    {
     "name": "stdout",
     "output_type": "stream",
     "text": [
      "(549, 714, 3) (549, 714)\n"
     ]
    },
    {
     "name": "stderr",
     "output_type": "stream",
     "text": [
      "Predict scores RtTg: 0.11 seconds\n",
      "Rescample scoremap RtTg: 0.06 seconds\n",
      "Load and rescale background image: 0.00 seconds\n",
      "Generate scoremap overlay: 0.05 seconds.\n",
      "Scoremap size does not match background image size. Need to resize: 0.05 seconds.\n",
      "Genearte scoremap overlay image RtTg: 0.13 seconds\n"
     ]
    },
    {
     "name": "stdout",
     "output_type": "stream",
     "text": [
      "(549, 714, 3) (549, 714)\n",
      "aws s3 cp \"/home/yuncong/CSHL_scoremaps/10.0um/MD589/MD589_prep2_10.0um_detector998/MD589-IHC69-2015.07.31-02.07.15_MD589_1_0205_prep2_10.0um_detector998/MD589-IHC69-2015.07.31-02.07.15_MD589_1_0205_prep2_10.0um_detector998_Tz_scoremap.bp\" \"s3://mousebrainatlas-data/CSHL_scoremaps/10.0um/MD589/MD589_prep2_10.0um_detector998/MD589-IHC69-2015.07.31-02.07.15_MD589_1_0205_prep2_10.0um_detector998/MD589-IHC69-2015.07.31-02.07.15_MD589_1_0205_prep2_10.0um_detector998_Tz_scoremap.bp\"\n",
      "0\n",
      "aws s3 cp \"/home/yuncong/CSHL_scoremap_viz/10.0um/Tz/MD589/detector998/prep2/MD589-IHC69-2015.07.31-02.07.15_MD589_1_0205_prep2_10.0um_Tz_detector998_scoremapViz.jpg\" \"s3://mousebrainatlas-data/CSHL_scoremap_viz/10.0um/Tz/MD589/detector998/prep2/MD589-IHC69-2015.07.31-02.07.15_MD589_1_0205_prep2_10.0um_Tz_detector998_scoremapViz.jpg\"\n",
      "0\n",
      "aws s3 cp \"/home/yuncong/CSHL_scoremaps/10.0um/MD589/MD589_prep2_10.0um_detector998/MD589-IHC69-2015.07.31-02.07.15_MD589_1_0205_prep2_10.0um_detector998/MD589-IHC69-2015.07.31-02.07.15_MD589_1_0205_prep2_10.0um_detector998_VCA_scoremap.bp\" \"s3://mousebrainatlas-data/CSHL_scoremaps/10.0um/MD589/MD589_prep2_10.0um_detector998/MD589-IHC69-2015.07.31-02.07.15_MD589_1_0205_prep2_10.0um_detector998/MD589-IHC69-2015.07.31-02.07.15_MD589_1_0205_prep2_10.0um_detector998_VCA_scoremap.bp\"\n",
      "0\n",
      "aws s3 cp \"/home/yuncong/CSHL_scoremap_viz/10.0um/VCA/MD589/detector998/prep2/MD589-IHC69-2015.07.31-02.07.15_MD589_1_0205_prep2_10.0um_VCA_detector998_scoremapViz.jpg\" \"s3://mousebrainatlas-data/CSHL_scoremap_viz/10.0um/VCA/MD589/detector998/prep2/MD589-IHC69-2015.07.31-02.07.15_MD589_1_0205_prep2_10.0um_VCA_detector998_scoremapViz.jpg\"\n",
      "0\n",
      "aws s3 cp \"/home/yuncong/CSHL_scoremaps/10.0um/MD589/MD589_prep2_10.0um_detector998/MD589-IHC69-2015.07.31-02.07.15_MD589_1_0205_prep2_10.0um_detector998/MD589-IHC69-2015.07.31-02.07.15_MD589_1_0205_prep2_10.0um_detector998_7n_scoremap.bp\" \"s3://mousebrainatlas-data/CSHL_scoremaps/10.0um/MD589/MD589_prep2_10.0um_detector998/MD589-IHC69-2015.07.31-02.07.15_MD589_1_0205_prep2_10.0um_detector998/MD589-IHC69-2015.07.31-02.07.15_MD589_1_0205_prep2_10.0um_detector998_7n_scoremap.bp\"\n",
      "0\n",
      "aws s3 cp \"/home/yuncong/CSHL_scoremap_viz/10.0um/7n/MD589/detector998/prep2/MD589-IHC69-2015.07.31-02.07.15_MD589_1_0205_prep2_10.0um_7n_detector998_scoremapViz.jpg\" \"s3://mousebrainatlas-data/CSHL_scoremap_viz/10.0um/7n/MD589/detector998/prep2/MD589-IHC69-2015.07.31-02.07.15_MD589_1_0205_prep2_10.0um_7n_detector998_scoremapViz.jpg\"\n",
      "0\n",
      "aws s3 cp \"/home/yuncong/CSHL_scoremaps/10.0um/MD589/MD589_prep2_10.0um_detector998/MD589-IHC69-2015.07.31-02.07.15_MD589_1_0205_prep2_10.0um_detector998/MD589-IHC69-2015.07.31-02.07.15_MD589_1_0205_prep2_10.0um_detector998_DC_scoremap.bp\" \"s3://mousebrainatlas-data/CSHL_scoremaps/10.0um/MD589/MD589_prep2_10.0um_detector998/MD589-IHC69-2015.07.31-02.07.15_MD589_1_0205_prep2_10.0um_detector998/MD589-IHC69-2015.07.31-02.07.15_MD589_1_0205_prep2_10.0um_detector998_DC_scoremap.bp\"\n",
      "0\n",
      "aws s3 cp \"/home/yuncong/CSHL_scoremap_viz/10.0um/DC/MD589/detector998/prep2/MD589-IHC69-2015.07.31-02.07.15_MD589_1_0205_prep2_10.0um_DC_detector998_scoremapViz.jpg\" \"s3://mousebrainatlas-data/CSHL_scoremap_viz/10.0um/DC/MD589/detector998/prep2/MD589-IHC69-2015.07.31-02.07.15_MD589_1_0205_prep2_10.0um_DC_detector998_scoremapViz.jpg\"\n",
      "0\n",
      "aws s3 cp \"/home/yuncong/CSHL_scoremaps/10.0um/MD589/MD589_prep2_10.0um_detector998/MD589-IHC69-2015.07.31-02.07.15_MD589_1_0205_prep2_10.0um_detector998/MD589-IHC69-2015.07.31-02.07.15_MD589_1_0205_prep2_10.0um_detector998_5N_scoremap.bp\" \"s3://mousebrainatlas-data/CSHL_scoremaps/10.0um/MD589/MD589_prep2_10.0um_detector998/MD589-IHC69-2015.07.31-02.07.15_MD589_1_0205_prep2_10.0um_detector998/MD589-IHC69-2015.07.31-02.07.15_MD589_1_0205_prep2_10.0um_detector998_5N_scoremap.bp\"\n",
      "0\n",
      "aws s3 cp \"/home/yuncong/CSHL_scoremap_viz/10.0um/5N/MD589/detector998/prep2/MD589-IHC69-2015.07.31-02.07.15_MD589_1_0205_prep2_10.0um_5N_detector998_scoremapViz.jpg\" \"s3://mousebrainatlas-data/CSHL_scoremap_viz/10.0um/5N/MD589/detector998/prep2/MD589-IHC69-2015.07.31-02.07.15_MD589_1_0205_prep2_10.0um_5N_detector998_scoremapViz.jpg\"\n",
      "0\n",
      "aws s3 cp \"/home/yuncong/CSHL_scoremaps/10.0um/MD589/MD589_prep2_10.0um_detector998/MD589-IHC69-2015.07.31-02.07.15_MD589_1_0205_prep2_10.0um_detector998/MD589-IHC69-2015.07.31-02.07.15_MD589_1_0205_prep2_10.0um_detector998_3N_scoremap.bp\" \"s3://mousebrainatlas-data/CSHL_scoremaps/10.0um/MD589/MD589_prep2_10.0um_detector998/MD589-IHC69-2015.07.31-02.07.15_MD589_1_0205_prep2_10.0um_detector998/MD589-IHC69-2015.07.31-02.07.15_MD589_1_0205_prep2_10.0um_detector998_3N_scoremap.bp\"\n",
      "0\n",
      "aws s3 cp \"/home/yuncong/CSHL_scoremap_viz/10.0um/3N/MD589/detector998/prep2/MD589-IHC69-2015.07.31-02.07.15_MD589_1_0205_prep2_10.0um_3N_detector998_scoremapViz.jpg\" \"s3://mousebrainatlas-data/CSHL_scoremap_viz/10.0um/3N/MD589/detector998/prep2/MD589-IHC69-2015.07.31-02.07.15_MD589_1_0205_prep2_10.0um_3N_detector998_scoremapViz.jpg\"\n",
      "0\n",
      "aws s3 cp \"/home/yuncong/CSHL_scoremaps/10.0um/MD589/MD589_prep2_10.0um_detector998/MD589-IHC69-2015.07.31-02.07.15_MD589_1_0205_prep2_10.0um_detector998/MD589-IHC69-2015.07.31-02.07.15_MD589_1_0205_prep2_10.0um_detector998_Pn_scoremap.bp\" \"s3://mousebrainatlas-data/CSHL_scoremaps/10.0um/MD589/MD589_prep2_10.0um_detector998/MD589-IHC69-2015.07.31-02.07.15_MD589_1_0205_prep2_10.0um_detector998/MD589-IHC69-2015.07.31-02.07.15_MD589_1_0205_prep2_10.0um_detector998_Pn_scoremap.bp\"\n",
      "0\n",
      "aws s3 cp \"/home/yuncong/CSHL_scoremap_viz/10.0um/Pn/MD589/detector998/prep2/MD589-IHC69-2015.07.31-02.07.15_MD589_1_0205_prep2_10.0um_Pn_detector998_scoremapViz.jpg\" \"s3://mousebrainatlas-data/CSHL_scoremap_viz/10.0um/Pn/MD589/detector998/prep2/MD589-IHC69-2015.07.31-02.07.15_MD589_1_0205_prep2_10.0um_Pn_detector998_scoremapViz.jpg\"\n",
      "0\n",
      "aws s3 cp \"/home/yuncong/CSHL_scoremaps/10.0um/MD589/MD589_prep2_10.0um_detector998/MD589-IHC69-2015.07.31-02.07.15_MD589_1_0205_prep2_10.0um_detector998/MD589-IHC69-2015.07.31-02.07.15_MD589_1_0205_prep2_10.0um_detector998_10N_scoremap.bp\" \"s3://mousebrainatlas-data/CSHL_scoremaps/10.0um/MD589/MD589_prep2_10.0um_detector998/MD589-IHC69-2015.07.31-02.07.15_MD589_1_0205_prep2_10.0um_detector998/MD589-IHC69-2015.07.31-02.07.15_MD589_1_0205_prep2_10.0um_detector998_10N_scoremap.bp\"\n",
      "0\n",
      "aws s3 cp \"/home/yuncong/CSHL_scoremap_viz/10.0um/10N/MD589/detector998/prep2/MD589-IHC69-2015.07.31-02.07.15_MD589_1_0205_prep2_10.0um_10N_detector998_scoremapViz.jpg\" \"s3://mousebrainatlas-data/CSHL_scoremap_viz/10.0um/10N/MD589/detector998/prep2/MD589-IHC69-2015.07.31-02.07.15_MD589_1_0205_prep2_10.0um_10N_detector998_scoremapViz.jpg\"\n",
      "0\n",
      "aws s3 cp \"/home/yuncong/CSHL_scoremaps/10.0um/MD589/MD589_prep2_10.0um_detector998/MD589-IHC69-2015.07.31-02.07.15_MD589_1_0205_prep2_10.0um_detector998/MD589-IHC69-2015.07.31-02.07.15_MD589_1_0205_prep2_10.0um_detector998_LC_scoremap.bp\" \"s3://mousebrainatlas-data/CSHL_scoremaps/10.0um/MD589/MD589_prep2_10.0um_detector998/MD589-IHC69-2015.07.31-02.07.15_MD589_1_0205_prep2_10.0um_detector998/MD589-IHC69-2015.07.31-02.07.15_MD589_1_0205_prep2_10.0um_detector998_LC_scoremap.bp\"\n",
      "0\n",
      "aws s3 cp \"/home/yuncong/CSHL_scoremap_viz/10.0um/LC/MD589/detector998/prep2/MD589-IHC69-2015.07.31-02.07.15_MD589_1_0205_prep2_10.0um_LC_detector998_scoremapViz.jpg\" \"s3://mousebrainatlas-data/CSHL_scoremap_viz/10.0um/LC/MD589/detector998/prep2/MD589-IHC69-2015.07.31-02.07.15_MD589_1_0205_prep2_10.0um_LC_detector998_scoremapViz.jpg\"\n",
      "0\n",
      "aws s3 cp \"/home/yuncong/CSHL_scoremaps/10.0um/MD589/MD589_prep2_10.0um_detector998/MD589-IHC69-2015.07.31-02.07.15_MD589_1_0205_prep2_10.0um_detector998/MD589-IHC69-2015.07.31-02.07.15_MD589_1_0205_prep2_10.0um_detector998_7N_scoremap.bp\" \"s3://mousebrainatlas-data/CSHL_scoremaps/10.0um/MD589/MD589_prep2_10.0um_detector998/MD589-IHC69-2015.07.31-02.07.15_MD589_1_0205_prep2_10.0um_detector998/MD589-IHC69-2015.07.31-02.07.15_MD589_1_0205_prep2_10.0um_detector998_7N_scoremap.bp\"\n",
      "0\n",
      "aws s3 cp \"/home/yuncong/CSHL_scoremap_viz/10.0um/7N/MD589/detector998/prep2/MD589-IHC69-2015.07.31-02.07.15_MD589_1_0205_prep2_10.0um_7N_detector998_scoremapViz.jpg\" \"s3://mousebrainatlas-data/CSHL_scoremap_viz/10.0um/7N/MD589/detector998/prep2/MD589-IHC69-2015.07.31-02.07.15_MD589_1_0205_prep2_10.0um_7N_detector998_scoremapViz.jpg\"\n"
     ]
    },
    {
     "name": "stdout",
     "output_type": "stream",
     "text": [
      "0\n",
      "aws s3 cp \"/home/yuncong/CSHL_scoremaps/10.0um/MD589/MD589_prep2_10.0um_detector998/MD589-IHC69-2015.07.31-02.07.15_MD589_1_0205_prep2_10.0um_detector998/MD589-IHC69-2015.07.31-02.07.15_MD589_1_0205_prep2_10.0um_detector998_Amb_scoremap.bp\" \"s3://mousebrainatlas-data/CSHL_scoremaps/10.0um/MD589/MD589_prep2_10.0um_detector998/MD589-IHC69-2015.07.31-02.07.15_MD589_1_0205_prep2_10.0um_detector998/MD589-IHC69-2015.07.31-02.07.15_MD589_1_0205_prep2_10.0um_detector998_Amb_scoremap.bp\"\n",
      "0\n",
      "aws s3 cp \"/home/yuncong/CSHL_scoremap_viz/10.0um/Amb/MD589/detector998/prep2/MD589-IHC69-2015.07.31-02.07.15_MD589_1_0205_prep2_10.0um_Amb_detector998_scoremapViz.jpg\" \"s3://mousebrainatlas-data/CSHL_scoremap_viz/10.0um/Amb/MD589/detector998/prep2/MD589-IHC69-2015.07.31-02.07.15_MD589_1_0205_prep2_10.0um_Amb_detector998_scoremapViz.jpg\"\n",
      "0\n",
      "aws s3 cp \"/home/yuncong/CSHL_scoremaps/10.0um/MD589/MD589_prep2_10.0um_detector998/MD589-IHC69-2015.07.31-02.07.15_MD589_1_0205_prep2_10.0um_detector998/MD589-IHC69-2015.07.31-02.07.15_MD589_1_0205_prep2_10.0um_detector998_12N_scoremap.bp\" \"s3://mousebrainatlas-data/CSHL_scoremaps/10.0um/MD589/MD589_prep2_10.0um_detector998/MD589-IHC69-2015.07.31-02.07.15_MD589_1_0205_prep2_10.0um_detector998/MD589-IHC69-2015.07.31-02.07.15_MD589_1_0205_prep2_10.0um_detector998_12N_scoremap.bp\"\n",
      "0\n",
      "aws s3 cp \"/home/yuncong/CSHL_scoremap_viz/10.0um/12N/MD589/detector998/prep2/MD589-IHC69-2015.07.31-02.07.15_MD589_1_0205_prep2_10.0um_12N_detector998_scoremapViz.jpg\" \"s3://mousebrainatlas-data/CSHL_scoremap_viz/10.0um/12N/MD589/detector998/prep2/MD589-IHC69-2015.07.31-02.07.15_MD589_1_0205_prep2_10.0um_12N_detector998_scoremapViz.jpg\"\n",
      "0\n",
      "aws s3 cp \"/home/yuncong/CSHL_scoremaps/10.0um/MD589/MD589_prep2_10.0um_detector998/MD589-IHC69-2015.07.31-02.07.15_MD589_1_0205_prep2_10.0um_detector998/MD589-IHC69-2015.07.31-02.07.15_MD589_1_0205_prep2_10.0um_detector998_RMC_scoremap.bp\" \"s3://mousebrainatlas-data/CSHL_scoremaps/10.0um/MD589/MD589_prep2_10.0um_detector998/MD589-IHC69-2015.07.31-02.07.15_MD589_1_0205_prep2_10.0um_detector998/MD589-IHC69-2015.07.31-02.07.15_MD589_1_0205_prep2_10.0um_detector998_RMC_scoremap.bp\"\n",
      "0\n",
      "aws s3 cp \"/home/yuncong/CSHL_scoremap_viz/10.0um/RMC/MD589/detector998/prep2/MD589-IHC69-2015.07.31-02.07.15_MD589_1_0205_prep2_10.0um_RMC_detector998_scoremapViz.jpg\" \"s3://mousebrainatlas-data/CSHL_scoremap_viz/10.0um/RMC/MD589/detector998/prep2/MD589-IHC69-2015.07.31-02.07.15_MD589_1_0205_prep2_10.0um_RMC_detector998_scoremapViz.jpg\"\n",
      "0\n",
      "aws s3 cp \"/home/yuncong/CSHL_scoremaps/10.0um/MD589/MD589_prep2_10.0um_detector998/MD589-IHC69-2015.07.31-02.07.15_MD589_1_0205_prep2_10.0um_detector998/MD589-IHC69-2015.07.31-02.07.15_MD589_1_0205_prep2_10.0um_detector998_Sp5O_scoremap.bp\" \"s3://mousebrainatlas-data/CSHL_scoremaps/10.0um/MD589/MD589_prep2_10.0um_detector998/MD589-IHC69-2015.07.31-02.07.15_MD589_1_0205_prep2_10.0um_detector998/MD589-IHC69-2015.07.31-02.07.15_MD589_1_0205_prep2_10.0um_detector998_Sp5O_scoremap.bp\"\n",
      "0\n",
      "aws s3 cp \"/home/yuncong/CSHL_scoremap_viz/10.0um/Sp5O/MD589/detector998/prep2/MD589-IHC69-2015.07.31-02.07.15_MD589_1_0205_prep2_10.0um_Sp5O_detector998_scoremapViz.jpg\" \"s3://mousebrainatlas-data/CSHL_scoremap_viz/10.0um/Sp5O/MD589/detector998/prep2/MD589-IHC69-2015.07.31-02.07.15_MD589_1_0205_prep2_10.0um_Sp5O_detector998_scoremapViz.jpg\"\n",
      "0\n",
      "aws s3 cp \"/home/yuncong/CSHL_scoremaps/10.0um/MD589/MD589_prep2_10.0um_detector998/MD589-IHC69-2015.07.31-02.07.15_MD589_1_0205_prep2_10.0um_detector998/MD589-IHC69-2015.07.31-02.07.15_MD589_1_0205_prep2_10.0um_detector998_Sp5I_scoremap.bp\" \"s3://mousebrainatlas-data/CSHL_scoremaps/10.0um/MD589/MD589_prep2_10.0um_detector998/MD589-IHC69-2015.07.31-02.07.15_MD589_1_0205_prep2_10.0um_detector998/MD589-IHC69-2015.07.31-02.07.15_MD589_1_0205_prep2_10.0um_detector998_Sp5I_scoremap.bp\"\n",
      "0\n",
      "aws s3 cp \"/home/yuncong/CSHL_scoremap_viz/10.0um/Sp5I/MD589/detector998/prep2/MD589-IHC69-2015.07.31-02.07.15_MD589_1_0205_prep2_10.0um_Sp5I_detector998_scoremapViz.jpg\" \"s3://mousebrainatlas-data/CSHL_scoremap_viz/10.0um/Sp5I/MD589/detector998/prep2/MD589-IHC69-2015.07.31-02.07.15_MD589_1_0205_prep2_10.0um_Sp5I_detector998_scoremapViz.jpg\"\n",
      "0\n",
      "aws s3 cp \"/home/yuncong/CSHL_scoremaps/10.0um/MD589/MD589_prep2_10.0um_detector998/MD589-IHC69-2015.07.31-02.07.15_MD589_1_0205_prep2_10.0um_detector998/MD589-IHC69-2015.07.31-02.07.15_MD589_1_0205_prep2_10.0um_detector998_Sp5C_scoremap.bp\" \"s3://mousebrainatlas-data/CSHL_scoremaps/10.0um/MD589/MD589_prep2_10.0um_detector998/MD589-IHC69-2015.07.31-02.07.15_MD589_1_0205_prep2_10.0um_detector998/MD589-IHC69-2015.07.31-02.07.15_MD589_1_0205_prep2_10.0um_detector998_Sp5C_scoremap.bp\"\n",
      "0\n",
      "aws s3 cp \"/home/yuncong/CSHL_scoremap_viz/10.0um/Sp5C/MD589/detector998/prep2/MD589-IHC69-2015.07.31-02.07.15_MD589_1_0205_prep2_10.0um_Sp5C_detector998_scoremapViz.jpg\" \"s3://mousebrainatlas-data/CSHL_scoremap_viz/10.0um/Sp5C/MD589/detector998/prep2/MD589-IHC69-2015.07.31-02.07.15_MD589_1_0205_prep2_10.0um_Sp5C_detector998_scoremapViz.jpg\"\n",
      "0\n",
      "aws s3 cp \"/home/yuncong/CSHL_scoremaps/10.0um/MD589/MD589_prep2_10.0um_detector998/MD589-IHC69-2015.07.31-02.07.15_MD589_1_0205_prep2_10.0um_detector998/MD589-IHC69-2015.07.31-02.07.15_MD589_1_0205_prep2_10.0um_detector998_VCP_scoremap.bp\" \"s3://mousebrainatlas-data/CSHL_scoremaps/10.0um/MD589/MD589_prep2_10.0um_detector998/MD589-IHC69-2015.07.31-02.07.15_MD589_1_0205_prep2_10.0um_detector998/MD589-IHC69-2015.07.31-02.07.15_MD589_1_0205_prep2_10.0um_detector998_VCP_scoremap.bp\"\n",
      "0\n",
      "aws s3 cp \"/home/yuncong/CSHL_scoremap_viz/10.0um/VCP/MD589/detector998/prep2/MD589-IHC69-2015.07.31-02.07.15_MD589_1_0205_prep2_10.0um_VCP_detector998_scoremapViz.jpg\" \"s3://mousebrainatlas-data/CSHL_scoremap_viz/10.0um/VCP/MD589/detector998/prep2/MD589-IHC69-2015.07.31-02.07.15_MD589_1_0205_prep2_10.0um_VCP_detector998_scoremapViz.jpg\"\n",
      "0\n",
      "aws s3 cp \"/home/yuncong/CSHL_scoremaps/10.0um/MD589/MD589_prep2_10.0um_detector998/MD589-IHC69-2015.07.31-02.07.15_MD589_1_0205_prep2_10.0um_detector998/MD589-IHC69-2015.07.31-02.07.15_MD589_1_0205_prep2_10.0um_detector998_AP_scoremap.bp\" \"s3://mousebrainatlas-data/CSHL_scoremaps/10.0um/MD589/MD589_prep2_10.0um_detector998/MD589-IHC69-2015.07.31-02.07.15_MD589_1_0205_prep2_10.0um_detector998/MD589-IHC69-2015.07.31-02.07.15_MD589_1_0205_prep2_10.0um_detector998_AP_scoremap.bp\"\n",
      "0\n",
      "aws s3 cp \"/home/yuncong/CSHL_scoremap_viz/10.0um/AP/MD589/detector998/prep2/MD589-IHC69-2015.07.31-02.07.15_MD589_1_0205_prep2_10.0um_AP_detector998_scoremapViz.jpg\" \"s3://mousebrainatlas-data/CSHL_scoremap_viz/10.0um/AP/MD589/detector998/prep2/MD589-IHC69-2015.07.31-02.07.15_MD589_1_0205_prep2_10.0um_AP_detector998_scoremapViz.jpg\"\n",
      "0\n",
      "aws s3 cp \"/home/yuncong/CSHL_scoremaps/10.0um/MD589/MD589_prep2_10.0um_detector998/MD589-IHC69-2015.07.31-02.07.15_MD589_1_0205_prep2_10.0um_detector998/MD589-IHC69-2015.07.31-02.07.15_MD589_1_0205_prep2_10.0um_detector998_PBG_scoremap.bp\" \"s3://mousebrainatlas-data/CSHL_scoremaps/10.0um/MD589/MD589_prep2_10.0um_detector998/MD589-IHC69-2015.07.31-02.07.15_MD589_1_0205_prep2_10.0um_detector998/MD589-IHC69-2015.07.31-02.07.15_MD589_1_0205_prep2_10.0um_detector998_PBG_scoremap.bp\"\n",
      "0\n",
      "aws s3 cp \"/home/yuncong/CSHL_scoremap_viz/10.0um/PBG/MD589/detector998/prep2/MD589-IHC69-2015.07.31-02.07.15_MD589_1_0205_prep2_10.0um_PBG_detector998_scoremapViz.jpg\" \"s3://mousebrainatlas-data/CSHL_scoremap_viz/10.0um/PBG/MD589/detector998/prep2/MD589-IHC69-2015.07.31-02.07.15_MD589_1_0205_prep2_10.0um_PBG_detector998_scoremapViz.jpg\"\n",
      "0\n",
      "aws s3 cp \"/home/yuncong/CSHL_scoremaps/10.0um/MD589/MD589_prep2_10.0um_detector998/MD589-IHC69-2015.07.31-02.07.15_MD589_1_0205_prep2_10.0um_detector998/MD589-IHC69-2015.07.31-02.07.15_MD589_1_0205_prep2_10.0um_detector998_LRt_scoremap.bp\" \"s3://mousebrainatlas-data/CSHL_scoremaps/10.0um/MD589/MD589_prep2_10.0um_detector998/MD589-IHC69-2015.07.31-02.07.15_MD589_1_0205_prep2_10.0um_detector998/MD589-IHC69-2015.07.31-02.07.15_MD589_1_0205_prep2_10.0um_detector998_LRt_scoremap.bp\"\n",
      "0\n",
      "aws s3 cp \"/home/yuncong/CSHL_scoremap_viz/10.0um/LRt/MD589/detector998/prep2/MD589-IHC69-2015.07.31-02.07.15_MD589_1_0205_prep2_10.0um_LRt_detector998_scoremapViz.jpg\" \"s3://mousebrainatlas-data/CSHL_scoremap_viz/10.0um/LRt/MD589/detector998/prep2/MD589-IHC69-2015.07.31-02.07.15_MD589_1_0205_prep2_10.0um_LRt_detector998_scoremapViz.jpg\"\n"
     ]
    },
    {
     "name": "stdout",
     "output_type": "stream",
     "text": [
      "0\n",
      "aws s3 cp \"/home/yuncong/CSHL_scoremaps/10.0um/MD589/MD589_prep2_10.0um_detector998/MD589-IHC69-2015.07.31-02.07.15_MD589_1_0205_prep2_10.0um_detector998/MD589-IHC69-2015.07.31-02.07.15_MD589_1_0205_prep2_10.0um_detector998_IC_scoremap.bp\" \"s3://mousebrainatlas-data/CSHL_scoremaps/10.0um/MD589/MD589_prep2_10.0um_detector998/MD589-IHC69-2015.07.31-02.07.15_MD589_1_0205_prep2_10.0um_detector998/MD589-IHC69-2015.07.31-02.07.15_MD589_1_0205_prep2_10.0um_detector998_IC_scoremap.bp\"\n",
      "0\n",
      "aws s3 cp \"/home/yuncong/CSHL_scoremap_viz/10.0um/IC/MD589/detector998/prep2/MD589-IHC69-2015.07.31-02.07.15_MD589_1_0205_prep2_10.0um_IC_detector998_scoremapViz.jpg\" \"s3://mousebrainatlas-data/CSHL_scoremap_viz/10.0um/IC/MD589/detector998/prep2/MD589-IHC69-2015.07.31-02.07.15_MD589_1_0205_prep2_10.0um_IC_detector998_scoremapViz.jpg\"\n",
      "0\n",
      "aws s3 cp \"/home/yuncong/CSHL_scoremaps/10.0um/MD589/MD589_prep2_10.0um_detector998/MD589-IHC69-2015.07.31-02.07.15_MD589_1_0205_prep2_10.0um_detector998/MD589-IHC69-2015.07.31-02.07.15_MD589_1_0205_prep2_10.0um_detector998_VLL_scoremap.bp\" \"s3://mousebrainatlas-data/CSHL_scoremaps/10.0um/MD589/MD589_prep2_10.0um_detector998/MD589-IHC69-2015.07.31-02.07.15_MD589_1_0205_prep2_10.0um_detector998/MD589-IHC69-2015.07.31-02.07.15_MD589_1_0205_prep2_10.0um_detector998_VLL_scoremap.bp\"\n",
      "0\n",
      "aws s3 cp \"/home/yuncong/CSHL_scoremap_viz/10.0um/VLL/MD589/detector998/prep2/MD589-IHC69-2015.07.31-02.07.15_MD589_1_0205_prep2_10.0um_VLL_detector998_scoremapViz.jpg\" \"s3://mousebrainatlas-data/CSHL_scoremap_viz/10.0um/VLL/MD589/detector998/prep2/MD589-IHC69-2015.07.31-02.07.15_MD589_1_0205_prep2_10.0um_VLL_detector998_scoremapViz.jpg\"\n",
      "0\n",
      "aws s3 cp \"/home/yuncong/CSHL_scoremaps/10.0um/MD589/MD589_prep2_10.0um_detector998/MD589-IHC69-2015.07.31-02.07.15_MD589_1_0205_prep2_10.0um_detector998/MD589-IHC69-2015.07.31-02.07.15_MD589_1_0205_prep2_10.0um_detector998_4N_scoremap.bp\" \"s3://mousebrainatlas-data/CSHL_scoremaps/10.0um/MD589/MD589_prep2_10.0um_detector998/MD589-IHC69-2015.07.31-02.07.15_MD589_1_0205_prep2_10.0um_detector998/MD589-IHC69-2015.07.31-02.07.15_MD589_1_0205_prep2_10.0um_detector998_4N_scoremap.bp\"\n",
      "0\n",
      "aws s3 cp \"/home/yuncong/CSHL_scoremap_viz/10.0um/4N/MD589/detector998/prep2/MD589-IHC69-2015.07.31-02.07.15_MD589_1_0205_prep2_10.0um_4N_detector998_scoremapViz.jpg\" \"s3://mousebrainatlas-data/CSHL_scoremap_viz/10.0um/4N/MD589/detector998/prep2/MD589-IHC69-2015.07.31-02.07.15_MD589_1_0205_prep2_10.0um_4N_detector998_scoremapViz.jpg\"\n",
      "0\n",
      "aws s3 cp \"/home/yuncong/CSHL_scoremaps/10.0um/MD589/MD589_prep2_10.0um_detector998/MD589-IHC69-2015.07.31-02.07.15_MD589_1_0205_prep2_10.0um_detector998/MD589-IHC69-2015.07.31-02.07.15_MD589_1_0205_prep2_10.0um_detector998_SNC_scoremap.bp\" \"s3://mousebrainatlas-data/CSHL_scoremaps/10.0um/MD589/MD589_prep2_10.0um_detector998/MD589-IHC69-2015.07.31-02.07.15_MD589_1_0205_prep2_10.0um_detector998/MD589-IHC69-2015.07.31-02.07.15_MD589_1_0205_prep2_10.0um_detector998_SNC_scoremap.bp\"\n",
      "0\n",
      "aws s3 cp \"/home/yuncong/CSHL_scoremap_viz/10.0um/SNC/MD589/detector998/prep2/MD589-IHC69-2015.07.31-02.07.15_MD589_1_0205_prep2_10.0um_SNC_detector998_scoremapViz.jpg\" \"s3://mousebrainatlas-data/CSHL_scoremap_viz/10.0um/SNC/MD589/detector998/prep2/MD589-IHC69-2015.07.31-02.07.15_MD589_1_0205_prep2_10.0um_SNC_detector998_scoremapViz.jpg\"\n",
      "0\n",
      "aws s3 cp \"/home/yuncong/CSHL_scoremaps/10.0um/MD589/MD589_prep2_10.0um_detector998/MD589-IHC69-2015.07.31-02.07.15_MD589_1_0205_prep2_10.0um_detector998/MD589-IHC69-2015.07.31-02.07.15_MD589_1_0205_prep2_10.0um_detector998_6N_scoremap.bp\" \"s3://mousebrainatlas-data/CSHL_scoremaps/10.0um/MD589/MD589_prep2_10.0um_detector998/MD589-IHC69-2015.07.31-02.07.15_MD589_1_0205_prep2_10.0um_detector998/MD589-IHC69-2015.07.31-02.07.15_MD589_1_0205_prep2_10.0um_detector998_6N_scoremap.bp\"\n",
      "0\n",
      "aws s3 cp \"/home/yuncong/CSHL_scoremap_viz/10.0um/6N/MD589/detector998/prep2/MD589-IHC69-2015.07.31-02.07.15_MD589_1_0205_prep2_10.0um_6N_detector998_scoremapViz.jpg\" \"s3://mousebrainatlas-data/CSHL_scoremap_viz/10.0um/6N/MD589/detector998/prep2/MD589-IHC69-2015.07.31-02.07.15_MD589_1_0205_prep2_10.0um_6N_detector998_scoremapViz.jpg\"\n",
      "0\n",
      "aws s3 cp \"/home/yuncong/CSHL_scoremaps/10.0um/MD589/MD589_prep2_10.0um_detector998/MD589-IHC69-2015.07.31-02.07.15_MD589_1_0205_prep2_10.0um_detector998/MD589-IHC69-2015.07.31-02.07.15_MD589_1_0205_prep2_10.0um_detector998_SNR_scoremap.bp\" \"s3://mousebrainatlas-data/CSHL_scoremaps/10.0um/MD589/MD589_prep2_10.0um_detector998/MD589-IHC69-2015.07.31-02.07.15_MD589_1_0205_prep2_10.0um_detector998/MD589-IHC69-2015.07.31-02.07.15_MD589_1_0205_prep2_10.0um_detector998_SNR_scoremap.bp\"\n",
      "0\n",
      "aws s3 cp \"/home/yuncong/CSHL_scoremap_viz/10.0um/SNR/MD589/detector998/prep2/MD589-IHC69-2015.07.31-02.07.15_MD589_1_0205_prep2_10.0um_SNR_detector998_scoremapViz.jpg\" \"s3://mousebrainatlas-data/CSHL_scoremap_viz/10.0um/SNR/MD589/detector998/prep2/MD589-IHC69-2015.07.31-02.07.15_MD589_1_0205_prep2_10.0um_SNR_detector998_scoremapViz.jpg\"\n",
      "0\n",
      "aws s3 cp \"/home/yuncong/CSHL_scoremaps/10.0um/MD589/MD589_prep2_10.0um_detector998/MD589-IHC69-2015.07.31-02.07.15_MD589_1_0205_prep2_10.0um_detector998/MD589-IHC69-2015.07.31-02.07.15_MD589_1_0205_prep2_10.0um_detector998_SC_scoremap.bp\" \"s3://mousebrainatlas-data/CSHL_scoremaps/10.0um/MD589/MD589_prep2_10.0um_detector998/MD589-IHC69-2015.07.31-02.07.15_MD589_1_0205_prep2_10.0um_detector998/MD589-IHC69-2015.07.31-02.07.15_MD589_1_0205_prep2_10.0um_detector998_SC_scoremap.bp\"\n",
      "0\n",
      "aws s3 cp \"/home/yuncong/CSHL_scoremap_viz/10.0um/SC/MD589/detector998/prep2/MD589-IHC69-2015.07.31-02.07.15_MD589_1_0205_prep2_10.0um_SC_detector998_scoremapViz.jpg\" \"s3://mousebrainatlas-data/CSHL_scoremap_viz/10.0um/SC/MD589/detector998/prep2/MD589-IHC69-2015.07.31-02.07.15_MD589_1_0205_prep2_10.0um_SC_detector998_scoremapViz.jpg\"\n",
      "0\n",
      "aws s3 cp \"/home/yuncong/CSHL_scoremaps/10.0um/MD589/MD589_prep2_10.0um_detector998/MD589-IHC69-2015.07.31-02.07.15_MD589_1_0205_prep2_10.0um_detector998/MD589-IHC69-2015.07.31-02.07.15_MD589_1_0205_prep2_10.0um_detector998_RtTg_scoremap.bp\" \"s3://mousebrainatlas-data/CSHL_scoremaps/10.0um/MD589/MD589_prep2_10.0um_detector998/MD589-IHC69-2015.07.31-02.07.15_MD589_1_0205_prep2_10.0um_detector998/MD589-IHC69-2015.07.31-02.07.15_MD589_1_0205_prep2_10.0um_detector998_RtTg_scoremap.bp\"\n",
      "0\n",
      "aws s3 cp \"/home/yuncong/CSHL_scoremap_viz/10.0um/RtTg/MD589/detector998/prep2/MD589-IHC69-2015.07.31-02.07.15_MD589_1_0205_prep2_10.0um_RtTg_detector998_scoremapViz.jpg\" \"s3://mousebrainatlas-data/CSHL_scoremap_viz/10.0um/RtTg/MD589/detector998/prep2/MD589-IHC69-2015.07.31-02.07.15_MD589_1_0205_prep2_10.0um_RtTg_detector998_scoremapViz.jpg\"\n",
      "0\n"
     ]
    },
    {
     "name": "stderr",
     "output_type": "stream",
     "text": [
      "locate patches: 0.04 seconds\n",
      "Load pre-computed features: 1.18 seconds\n"
     ]
    },
    {
     "name": "stdout",
     "output_type": "stream",
     "text": [
      "rm -rf \"/media/yuncong/BstemAtlasData/CSHL_data_processed/MD589/MD589_prep2_lossless_grayJpeg/MD589-N69-2015.07.30-20.46.59_MD589_2_0206_prep2_lossless_grayJpeg.jpg\" && mkdir -p \"/media/yuncong/BstemAtlasData/CSHL_data_processed/MD589/MD589_prep2_lossless_grayJpeg\"\n",
      "0\n",
      "aws s3 cp \"s3://mousebrainatlas-data/CSHL_data_processed/MD589/MD589_prep2_lossless_grayJpeg/MD589-N69-2015.07.30-20.46.59_MD589_2_0206_prep2_lossless_grayJpeg.jpg\" \"/media/yuncong/BstemAtlasData/CSHL_data_processed/MD589/MD589_prep2_lossless_grayJpeg/MD589-N69-2015.07.30-20.46.59_MD589_2_0206_prep2_lossless_grayJpeg.jpg\"\n",
      "0\n"
     ]
    },
    {
     "name": "stderr",
     "output_type": "stream",
     "text": [
      "Not using image_cache.\n"
     ]
    },
    {
     "name": "stdout",
     "output_type": "stream",
     "text": [
      "/media/yuncong/BstemAtlasData/CSHL_data_processed/MD589/MD589_prep2_lossless_grayJpeg/MD589-N69-2015.07.30-20.46.59_MD589_2_0206_prep2_lossless_grayJpeg.jpg\n"
     ]
    },
    {
     "name": "stderr",
     "output_type": "stream",
     "text": [
      "Load background image: 3.01 seconds\n",
      "Rescale background image to output resolution: 2.49 seconds\n",
      "Predict scores Tz: 0.12 seconds\n",
      "Rescample scoremap Tz: 0.07 seconds\n",
      "Load and rescale background image: 0.00 seconds\n",
      "Generate scoremap overlay: 0.05 seconds.\n",
      "Scoremap size does not match background image size. Need to resize: 0.05 seconds.\n",
      "Genearte scoremap overlay image Tz: 0.14 seconds\n",
      "Predict scores VCA: 0.10 seconds\n"
     ]
    },
    {
     "name": "stdout",
     "output_type": "stream",
     "text": [
      "(549, 714, 3) (549, 714)\n"
     ]
    },
    {
     "name": "stderr",
     "output_type": "stream",
     "text": [
      "Rescample scoremap VCA: 0.07 seconds\n",
      "Load and rescale background image: 0.00 seconds\n",
      "Generate scoremap overlay: 0.05 seconds.\n",
      "Scoremap size does not match background image size. Need to resize: 0.05 seconds.\n",
      "Genearte scoremap overlay image VCA: 0.13 seconds\n"
     ]
    },
    {
     "name": "stdout",
     "output_type": "stream",
     "text": [
      "(549, 714, 3) (549, 714)\n"
     ]
    },
    {
     "name": "stderr",
     "output_type": "stream",
     "text": [
      "Predict scores 7n: 0.10 seconds\n",
      "Rescample scoremap 7n: 0.06 seconds\n",
      "Load and rescale background image: 0.00 seconds\n",
      "Generate scoremap overlay: 0.05 seconds.\n",
      "Scoremap size does not match background image size. Need to resize: 0.05 seconds.\n",
      "Genearte scoremap overlay image 7n: 0.13 seconds\n"
     ]
    },
    {
     "name": "stdout",
     "output_type": "stream",
     "text": [
      "(549, 714, 3) (549, 714)\n"
     ]
    },
    {
     "name": "stderr",
     "output_type": "stream",
     "text": [
      "Predict scores DC: 0.10 seconds\n",
      "Rescample scoremap DC: 0.06 seconds\n",
      "Load and rescale background image: 0.00 seconds\n",
      "Generate scoremap overlay: 0.05 seconds.\n",
      "Scoremap size does not match background image size. Need to resize: 0.05 seconds.\n",
      "Genearte scoremap overlay image DC: 0.14 seconds\n"
     ]
    },
    {
     "name": "stdout",
     "output_type": "stream",
     "text": [
      "(549, 714, 3) (549, 714)\n"
     ]
    },
    {
     "name": "stderr",
     "output_type": "stream",
     "text": [
      "Predict scores 5N: 0.10 seconds\n",
      "Rescample scoremap 5N: 0.06 seconds\n",
      "Load and rescale background image: 0.00 seconds\n",
      "Generate scoremap overlay: 0.05 seconds.\n",
      "Scoremap size does not match background image size. Need to resize: 0.05 seconds.\n",
      "Genearte scoremap overlay image 5N: 0.13 seconds\n"
     ]
    },
    {
     "name": "stdout",
     "output_type": "stream",
     "text": [
      "(549, 714, 3) (549, 714)\n"
     ]
    },
    {
     "name": "stderr",
     "output_type": "stream",
     "text": [
      "Predict scores 3N: 0.10 seconds\n",
      "Rescample scoremap 3N: 0.06 seconds\n",
      "Load and rescale background image: 0.00 seconds\n",
      "Generate scoremap overlay: 0.05 seconds.\n",
      "Scoremap size does not match background image size. Need to resize: 0.05 seconds.\n",
      "Genearte scoremap overlay image 3N: 0.14 seconds\n"
     ]
    },
    {
     "name": "stdout",
     "output_type": "stream",
     "text": [
      "(549, 714, 3) (549, 714)\n"
     ]
    },
    {
     "name": "stderr",
     "output_type": "stream",
     "text": [
      "Predict scores Pn: 0.11 seconds\n",
      "Rescample scoremap Pn: 0.06 seconds\n",
      "Load and rescale background image: 0.00 seconds\n",
      "Generate scoremap overlay: 0.05 seconds.\n",
      "Scoremap size does not match background image size. Need to resize: 0.05 seconds.\n",
      "Genearte scoremap overlay image Pn: 0.14 seconds\n"
     ]
    },
    {
     "name": "stdout",
     "output_type": "stream",
     "text": [
      "(549, 714, 3) (549, 714)\n"
     ]
    },
    {
     "name": "stderr",
     "output_type": "stream",
     "text": [
      "Predict scores 10N: 0.10 seconds\n",
      "Rescample scoremap 10N: 0.06 seconds\n",
      "Load and rescale background image: 0.00 seconds\n",
      "Generate scoremap overlay: 0.05 seconds.\n",
      "Scoremap size does not match background image size. Need to resize: 0.05 seconds.\n",
      "Genearte scoremap overlay image 10N: 0.13 seconds\n"
     ]
    },
    {
     "name": "stdout",
     "output_type": "stream",
     "text": [
      "(549, 714, 3) (549, 714)\n"
     ]
    },
    {
     "name": "stderr",
     "output_type": "stream",
     "text": [
      "Predict scores LC: 0.10 seconds\n",
      "Rescample scoremap LC: 0.06 seconds\n",
      "Load and rescale background image: 0.00 seconds\n",
      "Generate scoremap overlay: 0.05 seconds.\n",
      "Scoremap size does not match background image size. Need to resize: 0.05 seconds.\n",
      "Genearte scoremap overlay image LC: 0.13 seconds\n"
     ]
    },
    {
     "name": "stdout",
     "output_type": "stream",
     "text": [
      "(549, 714, 3) (549, 714)\n"
     ]
    },
    {
     "name": "stderr",
     "output_type": "stream",
     "text": [
      "Predict scores 7N: 0.10 seconds\n",
      "Rescample scoremap 7N: 0.06 seconds\n",
      "Load and rescale background image: 0.00 seconds\n",
      "Generate scoremap overlay: 0.05 seconds.\n",
      "Scoremap size does not match background image size. Need to resize: 0.05 seconds.\n",
      "Genearte scoremap overlay image 7N: 0.13 seconds\n"
     ]
    },
    {
     "name": "stdout",
     "output_type": "stream",
     "text": [
      "(549, 714, 3) (549, 714)\n"
     ]
    },
    {
     "name": "stderr",
     "output_type": "stream",
     "text": [
      "Predict scores Amb: 0.12 seconds\n",
      "Rescample scoremap Amb: 0.06 seconds\n",
      "Load and rescale background image: 0.00 seconds\n",
      "Generate scoremap overlay: 0.05 seconds.\n",
      "Scoremap size does not match background image size. Need to resize: 0.06 seconds.\n",
      "Genearte scoremap overlay image Amb: 0.13 seconds\n"
     ]
    },
    {
     "name": "stdout",
     "output_type": "stream",
     "text": [
      "(549, 714, 3) (549, 714)\n"
     ]
    },
    {
     "name": "stderr",
     "output_type": "stream",
     "text": [
      "Predict scores 12N: 0.12 seconds\n",
      "Rescample scoremap 12N: 0.06 seconds\n",
      "Load and rescale background image: 0.00 seconds\n",
      "Generate scoremap overlay: 0.06 seconds.\n",
      "Scoremap size does not match background image size. Need to resize: 0.06 seconds.\n",
      "Genearte scoremap overlay image 12N: 0.14 seconds\n"
     ]
    },
    {
     "name": "stdout",
     "output_type": "stream",
     "text": [
      "(549, 714, 3) (549, 714)\n"
     ]
    },
    {
     "name": "stderr",
     "output_type": "stream",
     "text": [
      "Predict scores RMC: 0.11 seconds\n",
      "Rescample scoremap RMC: 0.06 seconds\n",
      "Load and rescale background image: 0.00 seconds\n",
      "Generate scoremap overlay: 0.05 seconds.\n",
      "Scoremap size does not match background image size. Need to resize: 0.05 seconds.\n",
      "Genearte scoremap overlay image RMC: 0.14 seconds\n"
     ]
    },
    {
     "name": "stdout",
     "output_type": "stream",
     "text": [
      "(549, 714, 3) (549, 714)\n"
     ]
    },
    {
     "name": "stderr",
     "output_type": "stream",
     "text": [
      "Predict scores Sp5O: 0.10 seconds\n",
      "Rescample scoremap Sp5O: 0.06 seconds\n",
      "Load and rescale background image: 0.00 seconds\n",
      "Generate scoremap overlay: 0.05 seconds.\n",
      "Scoremap size does not match background image size. Need to resize: 0.05 seconds.\n",
      "Genearte scoremap overlay image Sp5O: 0.13 seconds\n"
     ]
    },
    {
     "name": "stdout",
     "output_type": "stream",
     "text": [
      "(549, 714, 3) (549, 714)\n"
     ]
    },
    {
     "name": "stderr",
     "output_type": "stream",
     "text": [
      "Predict scores Sp5I: 0.10 seconds\n",
      "Rescample scoremap Sp5I: 0.06 seconds\n",
      "Load and rescale background image: 0.00 seconds\n",
      "Generate scoremap overlay: 0.05 seconds.\n",
      "Scoremap size does not match background image size. Need to resize: 0.05 seconds.\n",
      "Genearte scoremap overlay image Sp5I: 0.13 seconds\n"
     ]
    },
    {
     "name": "stdout",
     "output_type": "stream",
     "text": [
      "(549, 714, 3) (549, 714)\n"
     ]
    },
    {
     "name": "stderr",
     "output_type": "stream",
     "text": [
      "Predict scores Sp5C: 0.10 seconds\n",
      "Rescample scoremap Sp5C: 0.06 seconds\n",
      "Load and rescale background image: 0.00 seconds\n",
      "Generate scoremap overlay: 0.05 seconds.\n",
      "Scoremap size does not match background image size. Need to resize: 0.05 seconds.\n",
      "Genearte scoremap overlay image Sp5C: 0.14 seconds\n"
     ]
    },
    {
     "name": "stdout",
     "output_type": "stream",
     "text": [
      "(549, 714, 3) (549, 714)\n"
     ]
    },
    {
     "name": "stderr",
     "output_type": "stream",
     "text": [
      "Predict scores VCP: 0.10 seconds\n",
      "Rescample scoremap VCP: 0.06 seconds\n",
      "Load and rescale background image: 0.00 seconds\n",
      "Generate scoremap overlay: 0.05 seconds.\n",
      "Scoremap size does not match background image size. Need to resize: 0.05 seconds.\n",
      "Genearte scoremap overlay image VCP: 0.13 seconds\n"
     ]
    },
    {
     "name": "stdout",
     "output_type": "stream",
     "text": [
      "(549, 714, 3) (549, 714)\n"
     ]
    },
    {
     "name": "stderr",
     "output_type": "stream",
     "text": [
      "Predict scores AP: 0.10 seconds\n",
      "Rescample scoremap AP: 0.07 seconds\n",
      "Load and rescale background image: 0.00 seconds\n",
      "Generate scoremap overlay: 0.05 seconds.\n",
      "Scoremap size does not match background image size. Need to resize: 0.05 seconds.\n",
      "Genearte scoremap overlay image AP: 0.13 seconds\n"
     ]
    },
    {
     "name": "stdout",
     "output_type": "stream",
     "text": [
      "(549, 714, 3) (549, 714)\n"
     ]
    },
    {
     "name": "stderr",
     "output_type": "stream",
     "text": [
      "Predict scores PBG: 0.10 seconds\n",
      "Rescample scoremap PBG: 0.06 seconds\n",
      "Load and rescale background image: 0.00 seconds\n",
      "Generate scoremap overlay: 0.05 seconds.\n",
      "Scoremap size does not match background image size. Need to resize: 0.05 seconds.\n",
      "Genearte scoremap overlay image PBG: 0.14 seconds\n"
     ]
    },
    {
     "name": "stdout",
     "output_type": "stream",
     "text": [
      "(549, 714, 3) (549, 714)\n"
     ]
    },
    {
     "name": "stderr",
     "output_type": "stream",
     "text": [
      "Predict scores LRt: 0.11 seconds\n",
      "Rescample scoremap LRt: 0.06 seconds\n",
      "Load and rescale background image: 0.00 seconds\n",
      "Generate scoremap overlay: 0.05 seconds.\n",
      "Scoremap size does not match background image size. Need to resize: 0.06 seconds.\n",
      "Genearte scoremap overlay image LRt: 0.14 seconds\n"
     ]
    },
    {
     "name": "stdout",
     "output_type": "stream",
     "text": [
      "(549, 714, 3) (549, 714)\n"
     ]
    },
    {
     "name": "stderr",
     "output_type": "stream",
     "text": [
      "Predict scores IC: 0.10 seconds\n",
      "Rescample scoremap IC: 0.06 seconds\n",
      "Load and rescale background image: 0.00 seconds\n",
      "Generate scoremap overlay: 0.05 seconds.\n",
      "Scoremap size does not match background image size. Need to resize: 0.05 seconds.\n",
      "Genearte scoremap overlay image IC: 0.14 seconds\n"
     ]
    },
    {
     "name": "stdout",
     "output_type": "stream",
     "text": [
      "(549, 714, 3) (549, 714)\n"
     ]
    },
    {
     "name": "stderr",
     "output_type": "stream",
     "text": [
      "Predict scores VLL: 0.10 seconds\n",
      "Rescample scoremap VLL: 0.06 seconds\n",
      "Load and rescale background image: 0.00 seconds\n",
      "Generate scoremap overlay: 0.05 seconds.\n",
      "Scoremap size does not match background image size. Need to resize: 0.05 seconds.\n",
      "Genearte scoremap overlay image VLL: 0.14 seconds\n"
     ]
    },
    {
     "name": "stdout",
     "output_type": "stream",
     "text": [
      "(549, 714, 3) (549, 714)\n"
     ]
    },
    {
     "name": "stderr",
     "output_type": "stream",
     "text": [
      "Predict scores 4N: 0.10 seconds\n",
      "Rescample scoremap 4N: 0.06 seconds\n",
      "Load and rescale background image: 0.00 seconds\n",
      "Generate scoremap overlay: 0.06 seconds.\n",
      "Scoremap size does not match background image size. Need to resize: 0.05 seconds.\n",
      "Genearte scoremap overlay image 4N: 0.14 seconds\n"
     ]
    },
    {
     "name": "stdout",
     "output_type": "stream",
     "text": [
      "(549, 714, 3) (549, 714)\n"
     ]
    },
    {
     "name": "stderr",
     "output_type": "stream",
     "text": [
      "Predict scores SNC: 0.10 seconds\n",
      "Rescample scoremap SNC: 0.06 seconds\n",
      "Load and rescale background image: 0.00 seconds\n",
      "Generate scoremap overlay: 0.05 seconds.\n",
      "Scoremap size does not match background image size. Need to resize: 0.05 seconds.\n",
      "Genearte scoremap overlay image SNC: 0.13 seconds\n"
     ]
    },
    {
     "name": "stdout",
     "output_type": "stream",
     "text": [
      "(549, 714, 3) (549, 714)\n"
     ]
    },
    {
     "name": "stderr",
     "output_type": "stream",
     "text": [
      "Predict scores 6N: 0.10 seconds\n",
      "Rescample scoremap 6N: 0.06 seconds\n",
      "Load and rescale background image: 0.00 seconds\n",
      "Generate scoremap overlay: 0.05 seconds.\n",
      "Scoremap size does not match background image size. Need to resize: 0.06 seconds.\n"
     ]
    },
    {
     "name": "stdout",
     "output_type": "stream",
     "text": [
      "(549, 714, 3) (549, 714)\n"
     ]
    },
    {
     "name": "stderr",
     "output_type": "stream",
     "text": [
      "Genearte scoremap overlay image 6N: 0.14 seconds\n",
      "Predict scores SNR: 0.11 seconds\n",
      "Rescample scoremap SNR: 0.06 seconds\n",
      "Load and rescale background image: 0.00 seconds\n",
      "Generate scoremap overlay: 0.06 seconds.\n",
      "Scoremap size does not match background image size. Need to resize: 0.06 seconds.\n",
      "Genearte scoremap overlay image SNR: 0.15 seconds\n"
     ]
    },
    {
     "name": "stdout",
     "output_type": "stream",
     "text": [
      "(549, 714, 3) (549, 714)\n"
     ]
    },
    {
     "name": "stderr",
     "output_type": "stream",
     "text": [
      "Predict scores SC: 0.12 seconds\n",
      "Rescample scoremap SC: 0.06 seconds\n",
      "Load and rescale background image: 0.00 seconds\n",
      "Generate scoremap overlay: 0.06 seconds.\n",
      "Scoremap size does not match background image size. Need to resize: 0.06 seconds.\n"
     ]
    },
    {
     "name": "stdout",
     "output_type": "stream",
     "text": [
      "(549, 714, 3) (549, 714)\n"
     ]
    },
    {
     "name": "stderr",
     "output_type": "stream",
     "text": [
      "Genearte scoremap overlay image SC: 0.15 seconds\n",
      "Predict scores RtTg: 0.12 seconds\n",
      "Rescample scoremap RtTg: 0.06 seconds\n",
      "Load and rescale background image: 0.00 seconds\n",
      "Generate scoremap overlay: 0.05 seconds.\n",
      "Scoremap size does not match background image size. Need to resize: 0.06 seconds.\n",
      "Genearte scoremap overlay image RtTg: 0.14 seconds\n"
     ]
    },
    {
     "name": "stdout",
     "output_type": "stream",
     "text": [
      "(549, 714, 3) (549, 714)\n",
      "aws s3 cp \"/home/yuncong/CSHL_scoremaps/10.0um/MD589/MD589_prep2_10.0um_detector998/MD589-N69-2015.07.30-20.46.59_MD589_2_0206_prep2_10.0um_detector998/MD589-N69-2015.07.30-20.46.59_MD589_2_0206_prep2_10.0um_detector998_Tz_scoremap.bp\" \"s3://mousebrainatlas-data/CSHL_scoremaps/10.0um/MD589/MD589_prep2_10.0um_detector998/MD589-N69-2015.07.30-20.46.59_MD589_2_0206_prep2_10.0um_detector998/MD589-N69-2015.07.30-20.46.59_MD589_2_0206_prep2_10.0um_detector998_Tz_scoremap.bp\"\n",
      "0\n",
      "aws s3 cp \"/home/yuncong/CSHL_scoremap_viz/10.0um/Tz/MD589/detector998/prep2/MD589-N69-2015.07.30-20.46.59_MD589_2_0206_prep2_10.0um_Tz_detector998_scoremapViz.jpg\" \"s3://mousebrainatlas-data/CSHL_scoremap_viz/10.0um/Tz/MD589/detector998/prep2/MD589-N69-2015.07.30-20.46.59_MD589_2_0206_prep2_10.0um_Tz_detector998_scoremapViz.jpg\"\n",
      "0\n",
      "aws s3 cp \"/home/yuncong/CSHL_scoremaps/10.0um/MD589/MD589_prep2_10.0um_detector998/MD589-N69-2015.07.30-20.46.59_MD589_2_0206_prep2_10.0um_detector998/MD589-N69-2015.07.30-20.46.59_MD589_2_0206_prep2_10.0um_detector998_VCA_scoremap.bp\" \"s3://mousebrainatlas-data/CSHL_scoremaps/10.0um/MD589/MD589_prep2_10.0um_detector998/MD589-N69-2015.07.30-20.46.59_MD589_2_0206_prep2_10.0um_detector998/MD589-N69-2015.07.30-20.46.59_MD589_2_0206_prep2_10.0um_detector998_VCA_scoremap.bp\"\n",
      "0\n",
      "aws s3 cp \"/home/yuncong/CSHL_scoremap_viz/10.0um/VCA/MD589/detector998/prep2/MD589-N69-2015.07.30-20.46.59_MD589_2_0206_prep2_10.0um_VCA_detector998_scoremapViz.jpg\" \"s3://mousebrainatlas-data/CSHL_scoremap_viz/10.0um/VCA/MD589/detector998/prep2/MD589-N69-2015.07.30-20.46.59_MD589_2_0206_prep2_10.0um_VCA_detector998_scoremapViz.jpg\"\n",
      "0\n",
      "aws s3 cp \"/home/yuncong/CSHL_scoremaps/10.0um/MD589/MD589_prep2_10.0um_detector998/MD589-N69-2015.07.30-20.46.59_MD589_2_0206_prep2_10.0um_detector998/MD589-N69-2015.07.30-20.46.59_MD589_2_0206_prep2_10.0um_detector998_7n_scoremap.bp\" \"s3://mousebrainatlas-data/CSHL_scoremaps/10.0um/MD589/MD589_prep2_10.0um_detector998/MD589-N69-2015.07.30-20.46.59_MD589_2_0206_prep2_10.0um_detector998/MD589-N69-2015.07.30-20.46.59_MD589_2_0206_prep2_10.0um_detector998_7n_scoremap.bp\"\n",
      "0\n",
      "aws s3 cp \"/home/yuncong/CSHL_scoremap_viz/10.0um/7n/MD589/detector998/prep2/MD589-N69-2015.07.30-20.46.59_MD589_2_0206_prep2_10.0um_7n_detector998_scoremapViz.jpg\" \"s3://mousebrainatlas-data/CSHL_scoremap_viz/10.0um/7n/MD589/detector998/prep2/MD589-N69-2015.07.30-20.46.59_MD589_2_0206_prep2_10.0um_7n_detector998_scoremapViz.jpg\"\n",
      "0\n",
      "aws s3 cp \"/home/yuncong/CSHL_scoremaps/10.0um/MD589/MD589_prep2_10.0um_detector998/MD589-N69-2015.07.30-20.46.59_MD589_2_0206_prep2_10.0um_detector998/MD589-N69-2015.07.30-20.46.59_MD589_2_0206_prep2_10.0um_detector998_DC_scoremap.bp\" \"s3://mousebrainatlas-data/CSHL_scoremaps/10.0um/MD589/MD589_prep2_10.0um_detector998/MD589-N69-2015.07.30-20.46.59_MD589_2_0206_prep2_10.0um_detector998/MD589-N69-2015.07.30-20.46.59_MD589_2_0206_prep2_10.0um_detector998_DC_scoremap.bp\"\n",
      "0\n",
      "aws s3 cp \"/home/yuncong/CSHL_scoremap_viz/10.0um/DC/MD589/detector998/prep2/MD589-N69-2015.07.30-20.46.59_MD589_2_0206_prep2_10.0um_DC_detector998_scoremapViz.jpg\" \"s3://mousebrainatlas-data/CSHL_scoremap_viz/10.0um/DC/MD589/detector998/prep2/MD589-N69-2015.07.30-20.46.59_MD589_2_0206_prep2_10.0um_DC_detector998_scoremapViz.jpg\"\n",
      "0\n",
      "aws s3 cp \"/home/yuncong/CSHL_scoremaps/10.0um/MD589/MD589_prep2_10.0um_detector998/MD589-N69-2015.07.30-20.46.59_MD589_2_0206_prep2_10.0um_detector998/MD589-N69-2015.07.30-20.46.59_MD589_2_0206_prep2_10.0um_detector998_5N_scoremap.bp\" \"s3://mousebrainatlas-data/CSHL_scoremaps/10.0um/MD589/MD589_prep2_10.0um_detector998/MD589-N69-2015.07.30-20.46.59_MD589_2_0206_prep2_10.0um_detector998/MD589-N69-2015.07.30-20.46.59_MD589_2_0206_prep2_10.0um_detector998_5N_scoremap.bp\"\n",
      "0\n",
      "aws s3 cp \"/home/yuncong/CSHL_scoremap_viz/10.0um/5N/MD589/detector998/prep2/MD589-N69-2015.07.30-20.46.59_MD589_2_0206_prep2_10.0um_5N_detector998_scoremapViz.jpg\" \"s3://mousebrainatlas-data/CSHL_scoremap_viz/10.0um/5N/MD589/detector998/prep2/MD589-N69-2015.07.30-20.46.59_MD589_2_0206_prep2_10.0um_5N_detector998_scoremapViz.jpg\"\n",
      "0\n",
      "aws s3 cp \"/home/yuncong/CSHL_scoremaps/10.0um/MD589/MD589_prep2_10.0um_detector998/MD589-N69-2015.07.30-20.46.59_MD589_2_0206_prep2_10.0um_detector998/MD589-N69-2015.07.30-20.46.59_MD589_2_0206_prep2_10.0um_detector998_3N_scoremap.bp\" \"s3://mousebrainatlas-data/CSHL_scoremaps/10.0um/MD589/MD589_prep2_10.0um_detector998/MD589-N69-2015.07.30-20.46.59_MD589_2_0206_prep2_10.0um_detector998/MD589-N69-2015.07.30-20.46.59_MD589_2_0206_prep2_10.0um_detector998_3N_scoremap.bp\"\n",
      "0\n",
      "aws s3 cp \"/home/yuncong/CSHL_scoremap_viz/10.0um/3N/MD589/detector998/prep2/MD589-N69-2015.07.30-20.46.59_MD589_2_0206_prep2_10.0um_3N_detector998_scoremapViz.jpg\" \"s3://mousebrainatlas-data/CSHL_scoremap_viz/10.0um/3N/MD589/detector998/prep2/MD589-N69-2015.07.30-20.46.59_MD589_2_0206_prep2_10.0um_3N_detector998_scoremapViz.jpg\"\n",
      "0\n",
      "aws s3 cp \"/home/yuncong/CSHL_scoremaps/10.0um/MD589/MD589_prep2_10.0um_detector998/MD589-N69-2015.07.30-20.46.59_MD589_2_0206_prep2_10.0um_detector998/MD589-N69-2015.07.30-20.46.59_MD589_2_0206_prep2_10.0um_detector998_Pn_scoremap.bp\" \"s3://mousebrainatlas-data/CSHL_scoremaps/10.0um/MD589/MD589_prep2_10.0um_detector998/MD589-N69-2015.07.30-20.46.59_MD589_2_0206_prep2_10.0um_detector998/MD589-N69-2015.07.30-20.46.59_MD589_2_0206_prep2_10.0um_detector998_Pn_scoremap.bp\"\n",
      "0\n",
      "aws s3 cp \"/home/yuncong/CSHL_scoremap_viz/10.0um/Pn/MD589/detector998/prep2/MD589-N69-2015.07.30-20.46.59_MD589_2_0206_prep2_10.0um_Pn_detector998_scoremapViz.jpg\" \"s3://mousebrainatlas-data/CSHL_scoremap_viz/10.0um/Pn/MD589/detector998/prep2/MD589-N69-2015.07.30-20.46.59_MD589_2_0206_prep2_10.0um_Pn_detector998_scoremapViz.jpg\"\n",
      "0\n",
      "aws s3 cp \"/home/yuncong/CSHL_scoremaps/10.0um/MD589/MD589_prep2_10.0um_detector998/MD589-N69-2015.07.30-20.46.59_MD589_2_0206_prep2_10.0um_detector998/MD589-N69-2015.07.30-20.46.59_MD589_2_0206_prep2_10.0um_detector998_10N_scoremap.bp\" \"s3://mousebrainatlas-data/CSHL_scoremaps/10.0um/MD589/MD589_prep2_10.0um_detector998/MD589-N69-2015.07.30-20.46.59_MD589_2_0206_prep2_10.0um_detector998/MD589-N69-2015.07.30-20.46.59_MD589_2_0206_prep2_10.0um_detector998_10N_scoremap.bp\"\n",
      "0\n",
      "aws s3 cp \"/home/yuncong/CSHL_scoremap_viz/10.0um/10N/MD589/detector998/prep2/MD589-N69-2015.07.30-20.46.59_MD589_2_0206_prep2_10.0um_10N_detector998_scoremapViz.jpg\" \"s3://mousebrainatlas-data/CSHL_scoremap_viz/10.0um/10N/MD589/detector998/prep2/MD589-N69-2015.07.30-20.46.59_MD589_2_0206_prep2_10.0um_10N_detector998_scoremapViz.jpg\"\n",
      "0\n",
      "aws s3 cp \"/home/yuncong/CSHL_scoremaps/10.0um/MD589/MD589_prep2_10.0um_detector998/MD589-N69-2015.07.30-20.46.59_MD589_2_0206_prep2_10.0um_detector998/MD589-N69-2015.07.30-20.46.59_MD589_2_0206_prep2_10.0um_detector998_LC_scoremap.bp\" \"s3://mousebrainatlas-data/CSHL_scoremaps/10.0um/MD589/MD589_prep2_10.0um_detector998/MD589-N69-2015.07.30-20.46.59_MD589_2_0206_prep2_10.0um_detector998/MD589-N69-2015.07.30-20.46.59_MD589_2_0206_prep2_10.0um_detector998_LC_scoremap.bp\"\n",
      "0\n",
      "aws s3 cp \"/home/yuncong/CSHL_scoremap_viz/10.0um/LC/MD589/detector998/prep2/MD589-N69-2015.07.30-20.46.59_MD589_2_0206_prep2_10.0um_LC_detector998_scoremapViz.jpg\" \"s3://mousebrainatlas-data/CSHL_scoremap_viz/10.0um/LC/MD589/detector998/prep2/MD589-N69-2015.07.30-20.46.59_MD589_2_0206_prep2_10.0um_LC_detector998_scoremapViz.jpg\"\n",
      "0\n",
      "aws s3 cp \"/home/yuncong/CSHL_scoremaps/10.0um/MD589/MD589_prep2_10.0um_detector998/MD589-N69-2015.07.30-20.46.59_MD589_2_0206_prep2_10.0um_detector998/MD589-N69-2015.07.30-20.46.59_MD589_2_0206_prep2_10.0um_detector998_7N_scoremap.bp\" \"s3://mousebrainatlas-data/CSHL_scoremaps/10.0um/MD589/MD589_prep2_10.0um_detector998/MD589-N69-2015.07.30-20.46.59_MD589_2_0206_prep2_10.0um_detector998/MD589-N69-2015.07.30-20.46.59_MD589_2_0206_prep2_10.0um_detector998_7N_scoremap.bp\"\n",
      "0\n",
      "aws s3 cp \"/home/yuncong/CSHL_scoremap_viz/10.0um/7N/MD589/detector998/prep2/MD589-N69-2015.07.30-20.46.59_MD589_2_0206_prep2_10.0um_7N_detector998_scoremapViz.jpg\" \"s3://mousebrainatlas-data/CSHL_scoremap_viz/10.0um/7N/MD589/detector998/prep2/MD589-N69-2015.07.30-20.46.59_MD589_2_0206_prep2_10.0um_7N_detector998_scoremapViz.jpg\"\n",
      "0\n",
      "aws s3 cp \"/home/yuncong/CSHL_scoremaps/10.0um/MD589/MD589_prep2_10.0um_detector998/MD589-N69-2015.07.30-20.46.59_MD589_2_0206_prep2_10.0um_detector998/MD589-N69-2015.07.30-20.46.59_MD589_2_0206_prep2_10.0um_detector998_Amb_scoremap.bp\" \"s3://mousebrainatlas-data/CSHL_scoremaps/10.0um/MD589/MD589_prep2_10.0um_detector998/MD589-N69-2015.07.30-20.46.59_MD589_2_0206_prep2_10.0um_detector998/MD589-N69-2015.07.30-20.46.59_MD589_2_0206_prep2_10.0um_detector998_Amb_scoremap.bp\"\n"
     ]
    },
    {
     "name": "stdout",
     "output_type": "stream",
     "text": [
      "0\n",
      "aws s3 cp \"/home/yuncong/CSHL_scoremap_viz/10.0um/Amb/MD589/detector998/prep2/MD589-N69-2015.07.30-20.46.59_MD589_2_0206_prep2_10.0um_Amb_detector998_scoremapViz.jpg\" \"s3://mousebrainatlas-data/CSHL_scoremap_viz/10.0um/Amb/MD589/detector998/prep2/MD589-N69-2015.07.30-20.46.59_MD589_2_0206_prep2_10.0um_Amb_detector998_scoremapViz.jpg\"\n",
      "0\n",
      "aws s3 cp \"/home/yuncong/CSHL_scoremaps/10.0um/MD589/MD589_prep2_10.0um_detector998/MD589-N69-2015.07.30-20.46.59_MD589_2_0206_prep2_10.0um_detector998/MD589-N69-2015.07.30-20.46.59_MD589_2_0206_prep2_10.0um_detector998_12N_scoremap.bp\" \"s3://mousebrainatlas-data/CSHL_scoremaps/10.0um/MD589/MD589_prep2_10.0um_detector998/MD589-N69-2015.07.30-20.46.59_MD589_2_0206_prep2_10.0um_detector998/MD589-N69-2015.07.30-20.46.59_MD589_2_0206_prep2_10.0um_detector998_12N_scoremap.bp\"\n",
      "0\n",
      "aws s3 cp \"/home/yuncong/CSHL_scoremap_viz/10.0um/12N/MD589/detector998/prep2/MD589-N69-2015.07.30-20.46.59_MD589_2_0206_prep2_10.0um_12N_detector998_scoremapViz.jpg\" \"s3://mousebrainatlas-data/CSHL_scoremap_viz/10.0um/12N/MD589/detector998/prep2/MD589-N69-2015.07.30-20.46.59_MD589_2_0206_prep2_10.0um_12N_detector998_scoremapViz.jpg\"\n",
      "0\n",
      "aws s3 cp \"/home/yuncong/CSHL_scoremaps/10.0um/MD589/MD589_prep2_10.0um_detector998/MD589-N69-2015.07.30-20.46.59_MD589_2_0206_prep2_10.0um_detector998/MD589-N69-2015.07.30-20.46.59_MD589_2_0206_prep2_10.0um_detector998_RMC_scoremap.bp\" \"s3://mousebrainatlas-data/CSHL_scoremaps/10.0um/MD589/MD589_prep2_10.0um_detector998/MD589-N69-2015.07.30-20.46.59_MD589_2_0206_prep2_10.0um_detector998/MD589-N69-2015.07.30-20.46.59_MD589_2_0206_prep2_10.0um_detector998_RMC_scoremap.bp\"\n",
      "0\n",
      "aws s3 cp \"/home/yuncong/CSHL_scoremap_viz/10.0um/RMC/MD589/detector998/prep2/MD589-N69-2015.07.30-20.46.59_MD589_2_0206_prep2_10.0um_RMC_detector998_scoremapViz.jpg\" \"s3://mousebrainatlas-data/CSHL_scoremap_viz/10.0um/RMC/MD589/detector998/prep2/MD589-N69-2015.07.30-20.46.59_MD589_2_0206_prep2_10.0um_RMC_detector998_scoremapViz.jpg\"\n",
      "0\n",
      "aws s3 cp \"/home/yuncong/CSHL_scoremaps/10.0um/MD589/MD589_prep2_10.0um_detector998/MD589-N69-2015.07.30-20.46.59_MD589_2_0206_prep2_10.0um_detector998/MD589-N69-2015.07.30-20.46.59_MD589_2_0206_prep2_10.0um_detector998_Sp5O_scoremap.bp\" \"s3://mousebrainatlas-data/CSHL_scoremaps/10.0um/MD589/MD589_prep2_10.0um_detector998/MD589-N69-2015.07.30-20.46.59_MD589_2_0206_prep2_10.0um_detector998/MD589-N69-2015.07.30-20.46.59_MD589_2_0206_prep2_10.0um_detector998_Sp5O_scoremap.bp\"\n",
      "0\n",
      "aws s3 cp \"/home/yuncong/CSHL_scoremap_viz/10.0um/Sp5O/MD589/detector998/prep2/MD589-N69-2015.07.30-20.46.59_MD589_2_0206_prep2_10.0um_Sp5O_detector998_scoremapViz.jpg\" \"s3://mousebrainatlas-data/CSHL_scoremap_viz/10.0um/Sp5O/MD589/detector998/prep2/MD589-N69-2015.07.30-20.46.59_MD589_2_0206_prep2_10.0um_Sp5O_detector998_scoremapViz.jpg\"\n",
      "0\n",
      "aws s3 cp \"/home/yuncong/CSHL_scoremaps/10.0um/MD589/MD589_prep2_10.0um_detector998/MD589-N69-2015.07.30-20.46.59_MD589_2_0206_prep2_10.0um_detector998/MD589-N69-2015.07.30-20.46.59_MD589_2_0206_prep2_10.0um_detector998_Sp5I_scoremap.bp\" \"s3://mousebrainatlas-data/CSHL_scoremaps/10.0um/MD589/MD589_prep2_10.0um_detector998/MD589-N69-2015.07.30-20.46.59_MD589_2_0206_prep2_10.0um_detector998/MD589-N69-2015.07.30-20.46.59_MD589_2_0206_prep2_10.0um_detector998_Sp5I_scoremap.bp\"\n",
      "0\n",
      "aws s3 cp \"/home/yuncong/CSHL_scoremap_viz/10.0um/Sp5I/MD589/detector998/prep2/MD589-N69-2015.07.30-20.46.59_MD589_2_0206_prep2_10.0um_Sp5I_detector998_scoremapViz.jpg\" \"s3://mousebrainatlas-data/CSHL_scoremap_viz/10.0um/Sp5I/MD589/detector998/prep2/MD589-N69-2015.07.30-20.46.59_MD589_2_0206_prep2_10.0um_Sp5I_detector998_scoremapViz.jpg\"\n",
      "0\n",
      "aws s3 cp \"/home/yuncong/CSHL_scoremaps/10.0um/MD589/MD589_prep2_10.0um_detector998/MD589-N69-2015.07.30-20.46.59_MD589_2_0206_prep2_10.0um_detector998/MD589-N69-2015.07.30-20.46.59_MD589_2_0206_prep2_10.0um_detector998_Sp5C_scoremap.bp\" \"s3://mousebrainatlas-data/CSHL_scoremaps/10.0um/MD589/MD589_prep2_10.0um_detector998/MD589-N69-2015.07.30-20.46.59_MD589_2_0206_prep2_10.0um_detector998/MD589-N69-2015.07.30-20.46.59_MD589_2_0206_prep2_10.0um_detector998_Sp5C_scoremap.bp\"\n",
      "0\n",
      "aws s3 cp \"/home/yuncong/CSHL_scoremap_viz/10.0um/Sp5C/MD589/detector998/prep2/MD589-N69-2015.07.30-20.46.59_MD589_2_0206_prep2_10.0um_Sp5C_detector998_scoremapViz.jpg\" \"s3://mousebrainatlas-data/CSHL_scoremap_viz/10.0um/Sp5C/MD589/detector998/prep2/MD589-N69-2015.07.30-20.46.59_MD589_2_0206_prep2_10.0um_Sp5C_detector998_scoremapViz.jpg\"\n",
      "0\n",
      "aws s3 cp \"/home/yuncong/CSHL_scoremaps/10.0um/MD589/MD589_prep2_10.0um_detector998/MD589-N69-2015.07.30-20.46.59_MD589_2_0206_prep2_10.0um_detector998/MD589-N69-2015.07.30-20.46.59_MD589_2_0206_prep2_10.0um_detector998_VCP_scoremap.bp\" \"s3://mousebrainatlas-data/CSHL_scoremaps/10.0um/MD589/MD589_prep2_10.0um_detector998/MD589-N69-2015.07.30-20.46.59_MD589_2_0206_prep2_10.0um_detector998/MD589-N69-2015.07.30-20.46.59_MD589_2_0206_prep2_10.0um_detector998_VCP_scoremap.bp\"\n",
      "0\n",
      "aws s3 cp \"/home/yuncong/CSHL_scoremap_viz/10.0um/VCP/MD589/detector998/prep2/MD589-N69-2015.07.30-20.46.59_MD589_2_0206_prep2_10.0um_VCP_detector998_scoremapViz.jpg\" \"s3://mousebrainatlas-data/CSHL_scoremap_viz/10.0um/VCP/MD589/detector998/prep2/MD589-N69-2015.07.30-20.46.59_MD589_2_0206_prep2_10.0um_VCP_detector998_scoremapViz.jpg\"\n",
      "0\n",
      "aws s3 cp \"/home/yuncong/CSHL_scoremaps/10.0um/MD589/MD589_prep2_10.0um_detector998/MD589-N69-2015.07.30-20.46.59_MD589_2_0206_prep2_10.0um_detector998/MD589-N69-2015.07.30-20.46.59_MD589_2_0206_prep2_10.0um_detector998_AP_scoremap.bp\" \"s3://mousebrainatlas-data/CSHL_scoremaps/10.0um/MD589/MD589_prep2_10.0um_detector998/MD589-N69-2015.07.30-20.46.59_MD589_2_0206_prep2_10.0um_detector998/MD589-N69-2015.07.30-20.46.59_MD589_2_0206_prep2_10.0um_detector998_AP_scoremap.bp\"\n",
      "0\n",
      "aws s3 cp \"/home/yuncong/CSHL_scoremap_viz/10.0um/AP/MD589/detector998/prep2/MD589-N69-2015.07.30-20.46.59_MD589_2_0206_prep2_10.0um_AP_detector998_scoremapViz.jpg\" \"s3://mousebrainatlas-data/CSHL_scoremap_viz/10.0um/AP/MD589/detector998/prep2/MD589-N69-2015.07.30-20.46.59_MD589_2_0206_prep2_10.0um_AP_detector998_scoremapViz.jpg\"\n",
      "0\n",
      "aws s3 cp \"/home/yuncong/CSHL_scoremaps/10.0um/MD589/MD589_prep2_10.0um_detector998/MD589-N69-2015.07.30-20.46.59_MD589_2_0206_prep2_10.0um_detector998/MD589-N69-2015.07.30-20.46.59_MD589_2_0206_prep2_10.0um_detector998_PBG_scoremap.bp\" \"s3://mousebrainatlas-data/CSHL_scoremaps/10.0um/MD589/MD589_prep2_10.0um_detector998/MD589-N69-2015.07.30-20.46.59_MD589_2_0206_prep2_10.0um_detector998/MD589-N69-2015.07.30-20.46.59_MD589_2_0206_prep2_10.0um_detector998_PBG_scoremap.bp\"\n",
      "0\n",
      "aws s3 cp \"/home/yuncong/CSHL_scoremap_viz/10.0um/PBG/MD589/detector998/prep2/MD589-N69-2015.07.30-20.46.59_MD589_2_0206_prep2_10.0um_PBG_detector998_scoremapViz.jpg\" \"s3://mousebrainatlas-data/CSHL_scoremap_viz/10.0um/PBG/MD589/detector998/prep2/MD589-N69-2015.07.30-20.46.59_MD589_2_0206_prep2_10.0um_PBG_detector998_scoremapViz.jpg\"\n",
      "0\n",
      "aws s3 cp \"/home/yuncong/CSHL_scoremaps/10.0um/MD589/MD589_prep2_10.0um_detector998/MD589-N69-2015.07.30-20.46.59_MD589_2_0206_prep2_10.0um_detector998/MD589-N69-2015.07.30-20.46.59_MD589_2_0206_prep2_10.0um_detector998_LRt_scoremap.bp\" \"s3://mousebrainatlas-data/CSHL_scoremaps/10.0um/MD589/MD589_prep2_10.0um_detector998/MD589-N69-2015.07.30-20.46.59_MD589_2_0206_prep2_10.0um_detector998/MD589-N69-2015.07.30-20.46.59_MD589_2_0206_prep2_10.0um_detector998_LRt_scoremap.bp\"\n",
      "0\n",
      "aws s3 cp \"/home/yuncong/CSHL_scoremap_viz/10.0um/LRt/MD589/detector998/prep2/MD589-N69-2015.07.30-20.46.59_MD589_2_0206_prep2_10.0um_LRt_detector998_scoremapViz.jpg\" \"s3://mousebrainatlas-data/CSHL_scoremap_viz/10.0um/LRt/MD589/detector998/prep2/MD589-N69-2015.07.30-20.46.59_MD589_2_0206_prep2_10.0um_LRt_detector998_scoremapViz.jpg\"\n",
      "0\n",
      "aws s3 cp \"/home/yuncong/CSHL_scoremaps/10.0um/MD589/MD589_prep2_10.0um_detector998/MD589-N69-2015.07.30-20.46.59_MD589_2_0206_prep2_10.0um_detector998/MD589-N69-2015.07.30-20.46.59_MD589_2_0206_prep2_10.0um_detector998_IC_scoremap.bp\" \"s3://mousebrainatlas-data/CSHL_scoremaps/10.0um/MD589/MD589_prep2_10.0um_detector998/MD589-N69-2015.07.30-20.46.59_MD589_2_0206_prep2_10.0um_detector998/MD589-N69-2015.07.30-20.46.59_MD589_2_0206_prep2_10.0um_detector998_IC_scoremap.bp\"\n",
      "0\n",
      "aws s3 cp \"/home/yuncong/CSHL_scoremap_viz/10.0um/IC/MD589/detector998/prep2/MD589-N69-2015.07.30-20.46.59_MD589_2_0206_prep2_10.0um_IC_detector998_scoremapViz.jpg\" \"s3://mousebrainatlas-data/CSHL_scoremap_viz/10.0um/IC/MD589/detector998/prep2/MD589-N69-2015.07.30-20.46.59_MD589_2_0206_prep2_10.0um_IC_detector998_scoremapViz.jpg\"\n"
     ]
    },
    {
     "name": "stdout",
     "output_type": "stream",
     "text": [
      "0\n",
      "aws s3 cp \"/home/yuncong/CSHL_scoremaps/10.0um/MD589/MD589_prep2_10.0um_detector998/MD589-N69-2015.07.30-20.46.59_MD589_2_0206_prep2_10.0um_detector998/MD589-N69-2015.07.30-20.46.59_MD589_2_0206_prep2_10.0um_detector998_VLL_scoremap.bp\" \"s3://mousebrainatlas-data/CSHL_scoremaps/10.0um/MD589/MD589_prep2_10.0um_detector998/MD589-N69-2015.07.30-20.46.59_MD589_2_0206_prep2_10.0um_detector998/MD589-N69-2015.07.30-20.46.59_MD589_2_0206_prep2_10.0um_detector998_VLL_scoremap.bp\"\n",
      "0\n",
      "aws s3 cp \"/home/yuncong/CSHL_scoremap_viz/10.0um/VLL/MD589/detector998/prep2/MD589-N69-2015.07.30-20.46.59_MD589_2_0206_prep2_10.0um_VLL_detector998_scoremapViz.jpg\" \"s3://mousebrainatlas-data/CSHL_scoremap_viz/10.0um/VLL/MD589/detector998/prep2/MD589-N69-2015.07.30-20.46.59_MD589_2_0206_prep2_10.0um_VLL_detector998_scoremapViz.jpg\"\n",
      "0\n",
      "aws s3 cp \"/home/yuncong/CSHL_scoremaps/10.0um/MD589/MD589_prep2_10.0um_detector998/MD589-N69-2015.07.30-20.46.59_MD589_2_0206_prep2_10.0um_detector998/MD589-N69-2015.07.30-20.46.59_MD589_2_0206_prep2_10.0um_detector998_4N_scoremap.bp\" \"s3://mousebrainatlas-data/CSHL_scoremaps/10.0um/MD589/MD589_prep2_10.0um_detector998/MD589-N69-2015.07.30-20.46.59_MD589_2_0206_prep2_10.0um_detector998/MD589-N69-2015.07.30-20.46.59_MD589_2_0206_prep2_10.0um_detector998_4N_scoremap.bp\"\n",
      "0\n",
      "aws s3 cp \"/home/yuncong/CSHL_scoremap_viz/10.0um/4N/MD589/detector998/prep2/MD589-N69-2015.07.30-20.46.59_MD589_2_0206_prep2_10.0um_4N_detector998_scoremapViz.jpg\" \"s3://mousebrainatlas-data/CSHL_scoremap_viz/10.0um/4N/MD589/detector998/prep2/MD589-N69-2015.07.30-20.46.59_MD589_2_0206_prep2_10.0um_4N_detector998_scoremapViz.jpg\"\n",
      "0\n",
      "aws s3 cp \"/home/yuncong/CSHL_scoremaps/10.0um/MD589/MD589_prep2_10.0um_detector998/MD589-N69-2015.07.30-20.46.59_MD589_2_0206_prep2_10.0um_detector998/MD589-N69-2015.07.30-20.46.59_MD589_2_0206_prep2_10.0um_detector998_SNC_scoremap.bp\" \"s3://mousebrainatlas-data/CSHL_scoremaps/10.0um/MD589/MD589_prep2_10.0um_detector998/MD589-N69-2015.07.30-20.46.59_MD589_2_0206_prep2_10.0um_detector998/MD589-N69-2015.07.30-20.46.59_MD589_2_0206_prep2_10.0um_detector998_SNC_scoremap.bp\"\n",
      "0\n",
      "aws s3 cp \"/home/yuncong/CSHL_scoremap_viz/10.0um/SNC/MD589/detector998/prep2/MD589-N69-2015.07.30-20.46.59_MD589_2_0206_prep2_10.0um_SNC_detector998_scoremapViz.jpg\" \"s3://mousebrainatlas-data/CSHL_scoremap_viz/10.0um/SNC/MD589/detector998/prep2/MD589-N69-2015.07.30-20.46.59_MD589_2_0206_prep2_10.0um_SNC_detector998_scoremapViz.jpg\"\n",
      "0\n",
      "aws s3 cp \"/home/yuncong/CSHL_scoremaps/10.0um/MD589/MD589_prep2_10.0um_detector998/MD589-N69-2015.07.30-20.46.59_MD589_2_0206_prep2_10.0um_detector998/MD589-N69-2015.07.30-20.46.59_MD589_2_0206_prep2_10.0um_detector998_6N_scoremap.bp\" \"s3://mousebrainatlas-data/CSHL_scoremaps/10.0um/MD589/MD589_prep2_10.0um_detector998/MD589-N69-2015.07.30-20.46.59_MD589_2_0206_prep2_10.0um_detector998/MD589-N69-2015.07.30-20.46.59_MD589_2_0206_prep2_10.0um_detector998_6N_scoremap.bp\"\n",
      "0\n",
      "aws s3 cp \"/home/yuncong/CSHL_scoremap_viz/10.0um/6N/MD589/detector998/prep2/MD589-N69-2015.07.30-20.46.59_MD589_2_0206_prep2_10.0um_6N_detector998_scoremapViz.jpg\" \"s3://mousebrainatlas-data/CSHL_scoremap_viz/10.0um/6N/MD589/detector998/prep2/MD589-N69-2015.07.30-20.46.59_MD589_2_0206_prep2_10.0um_6N_detector998_scoremapViz.jpg\"\n",
      "0\n",
      "aws s3 cp \"/home/yuncong/CSHL_scoremaps/10.0um/MD589/MD589_prep2_10.0um_detector998/MD589-N69-2015.07.30-20.46.59_MD589_2_0206_prep2_10.0um_detector998/MD589-N69-2015.07.30-20.46.59_MD589_2_0206_prep2_10.0um_detector998_SNR_scoremap.bp\" \"s3://mousebrainatlas-data/CSHL_scoremaps/10.0um/MD589/MD589_prep2_10.0um_detector998/MD589-N69-2015.07.30-20.46.59_MD589_2_0206_prep2_10.0um_detector998/MD589-N69-2015.07.30-20.46.59_MD589_2_0206_prep2_10.0um_detector998_SNR_scoremap.bp\"\n",
      "0\n",
      "aws s3 cp \"/home/yuncong/CSHL_scoremap_viz/10.0um/SNR/MD589/detector998/prep2/MD589-N69-2015.07.30-20.46.59_MD589_2_0206_prep2_10.0um_SNR_detector998_scoremapViz.jpg\" \"s3://mousebrainatlas-data/CSHL_scoremap_viz/10.0um/SNR/MD589/detector998/prep2/MD589-N69-2015.07.30-20.46.59_MD589_2_0206_prep2_10.0um_SNR_detector998_scoremapViz.jpg\"\n",
      "0\n",
      "aws s3 cp \"/home/yuncong/CSHL_scoremaps/10.0um/MD589/MD589_prep2_10.0um_detector998/MD589-N69-2015.07.30-20.46.59_MD589_2_0206_prep2_10.0um_detector998/MD589-N69-2015.07.30-20.46.59_MD589_2_0206_prep2_10.0um_detector998_SC_scoremap.bp\" \"s3://mousebrainatlas-data/CSHL_scoremaps/10.0um/MD589/MD589_prep2_10.0um_detector998/MD589-N69-2015.07.30-20.46.59_MD589_2_0206_prep2_10.0um_detector998/MD589-N69-2015.07.30-20.46.59_MD589_2_0206_prep2_10.0um_detector998_SC_scoremap.bp\"\n",
      "0\n",
      "aws s3 cp \"/home/yuncong/CSHL_scoremap_viz/10.0um/SC/MD589/detector998/prep2/MD589-N69-2015.07.30-20.46.59_MD589_2_0206_prep2_10.0um_SC_detector998_scoremapViz.jpg\" \"s3://mousebrainatlas-data/CSHL_scoremap_viz/10.0um/SC/MD589/detector998/prep2/MD589-N69-2015.07.30-20.46.59_MD589_2_0206_prep2_10.0um_SC_detector998_scoremapViz.jpg\"\n",
      "0\n",
      "aws s3 cp \"/home/yuncong/CSHL_scoremaps/10.0um/MD589/MD589_prep2_10.0um_detector998/MD589-N69-2015.07.30-20.46.59_MD589_2_0206_prep2_10.0um_detector998/MD589-N69-2015.07.30-20.46.59_MD589_2_0206_prep2_10.0um_detector998_RtTg_scoremap.bp\" \"s3://mousebrainatlas-data/CSHL_scoremaps/10.0um/MD589/MD589_prep2_10.0um_detector998/MD589-N69-2015.07.30-20.46.59_MD589_2_0206_prep2_10.0um_detector998/MD589-N69-2015.07.30-20.46.59_MD589_2_0206_prep2_10.0um_detector998_RtTg_scoremap.bp\"\n",
      "0\n",
      "aws s3 cp \"/home/yuncong/CSHL_scoremap_viz/10.0um/RtTg/MD589/detector998/prep2/MD589-N69-2015.07.30-20.46.59_MD589_2_0206_prep2_10.0um_RtTg_detector998_scoremapViz.jpg\" \"s3://mousebrainatlas-data/CSHL_scoremap_viz/10.0um/RtTg/MD589/detector998/prep2/MD589-N69-2015.07.30-20.46.59_MD589_2_0206_prep2_10.0um_RtTg_detector998_scoremapViz.jpg\"\n",
      "0\n"
     ]
    },
    {
     "name": "stderr",
     "output_type": "stream",
     "text": [
      "locate patches: 0.03 seconds\n",
      "Load pre-computed features: 1.13 seconds\n"
     ]
    },
    {
     "name": "stdout",
     "output_type": "stream",
     "text": [
      "rm -rf \"/media/yuncong/BstemAtlasData/CSHL_data_processed/MD589/MD589_prep2_lossless_grayJpeg/MD589-IHC69-2015.07.31-02.07.15_MD589_2_0206_prep2_lossless_grayJpeg.jpg\" && mkdir -p \"/media/yuncong/BstemAtlasData/CSHL_data_processed/MD589/MD589_prep2_lossless_grayJpeg\"\n",
      "0\n",
      "aws s3 cp \"s3://mousebrainatlas-data/CSHL_data_processed/MD589/MD589_prep2_lossless_grayJpeg/MD589-IHC69-2015.07.31-02.07.15_MD589_2_0206_prep2_lossless_grayJpeg.jpg\" \"/media/yuncong/BstemAtlasData/CSHL_data_processed/MD589/MD589_prep2_lossless_grayJpeg/MD589-IHC69-2015.07.31-02.07.15_MD589_2_0206_prep2_lossless_grayJpeg.jpg\"\n",
      "0\n"
     ]
    },
    {
     "name": "stderr",
     "output_type": "stream",
     "text": [
      "Not using image_cache.\n"
     ]
    },
    {
     "name": "stdout",
     "output_type": "stream",
     "text": [
      "/media/yuncong/BstemAtlasData/CSHL_data_processed/MD589/MD589_prep2_lossless_grayJpeg/MD589-IHC69-2015.07.31-02.07.15_MD589_2_0206_prep2_lossless_grayJpeg.jpg\n"
     ]
    },
    {
     "name": "stderr",
     "output_type": "stream",
     "text": [
      "Load background image: 2.93 seconds\n",
      "Rescale background image to output resolution: 2.20 seconds\n",
      "Predict scores Tz: 0.10 seconds\n",
      "Rescample scoremap Tz: 0.07 seconds\n",
      "Load and rescale background image: 0.00 seconds\n",
      "Generate scoremap overlay: 0.05 seconds.\n",
      "Scoremap size does not match background image size. Need to resize: 0.05 seconds.\n",
      "Genearte scoremap overlay image Tz: 0.14 seconds\n",
      "Predict scores VCA: 0.10 seconds\n"
     ]
    },
    {
     "name": "stdout",
     "output_type": "stream",
     "text": [
      "(549, 714, 3) (549, 714)\n"
     ]
    },
    {
     "name": "stderr",
     "output_type": "stream",
     "text": [
      "Rescample scoremap VCA: 0.06 seconds\n",
      "Load and rescale background image: 0.00 seconds\n",
      "Generate scoremap overlay: 0.05 seconds.\n",
      "Scoremap size does not match background image size. Need to resize: 0.05 seconds.\n",
      "Genearte scoremap overlay image VCA: 0.13 seconds\n"
     ]
    },
    {
     "name": "stdout",
     "output_type": "stream",
     "text": [
      "(549, 714, 3) (549, 714)\n"
     ]
    },
    {
     "name": "stderr",
     "output_type": "stream",
     "text": [
      "Predict scores 7n: 0.10 seconds\n",
      "Rescample scoremap 7n: 0.06 seconds\n",
      "Load and rescale background image: 0.00 seconds\n",
      "Generate scoremap overlay: 0.05 seconds.\n",
      "Scoremap size does not match background image size. Need to resize: 0.05 seconds.\n",
      "Genearte scoremap overlay image 7n: 0.13 seconds\n"
     ]
    },
    {
     "name": "stdout",
     "output_type": "stream",
     "text": [
      "(549, 714, 3) (549, 714)\n"
     ]
    },
    {
     "name": "stderr",
     "output_type": "stream",
     "text": [
      "Predict scores DC: 0.11 seconds\n",
      "Rescample scoremap DC: 0.06 seconds\n",
      "Load and rescale background image: 0.00 seconds\n",
      "Generate scoremap overlay: 0.05 seconds.\n",
      "Scoremap size does not match background image size. Need to resize: 0.05 seconds.\n",
      "Genearte scoremap overlay image DC: 0.14 seconds\n"
     ]
    },
    {
     "name": "stdout",
     "output_type": "stream",
     "text": [
      "(549, 714, 3) (549, 714)\n"
     ]
    },
    {
     "name": "stderr",
     "output_type": "stream",
     "text": [
      "Predict scores 5N: 0.10 seconds\n",
      "Rescample scoremap 5N: 0.06 seconds\n",
      "Load and rescale background image: 0.00 seconds\n",
      "Generate scoremap overlay: 0.05 seconds.\n",
      "Scoremap size does not match background image size. Need to resize: 0.05 seconds.\n",
      "Genearte scoremap overlay image 5N: 0.13 seconds\n"
     ]
    },
    {
     "name": "stdout",
     "output_type": "stream",
     "text": [
      "(549, 714, 3) (549, 714)\n"
     ]
    },
    {
     "name": "stderr",
     "output_type": "stream",
     "text": [
      "Predict scores 3N: 0.10 seconds\n",
      "Rescample scoremap 3N: 0.06 seconds\n",
      "Load and rescale background image: 0.00 seconds\n",
      "Generate scoremap overlay: 0.05 seconds.\n",
      "Scoremap size does not match background image size. Need to resize: 0.05 seconds.\n",
      "Genearte scoremap overlay image 3N: 0.13 seconds\n"
     ]
    },
    {
     "name": "stdout",
     "output_type": "stream",
     "text": [
      "(549, 714, 3) (549, 714)\n"
     ]
    },
    {
     "name": "stderr",
     "output_type": "stream",
     "text": [
      "Predict scores Pn: 0.10 seconds\n",
      "Rescample scoremap Pn: 0.06 seconds\n",
      "Load and rescale background image: 0.00 seconds\n",
      "Generate scoremap overlay: 0.05 seconds.\n",
      "Scoremap size does not match background image size. Need to resize: 0.05 seconds.\n",
      "Genearte scoremap overlay image Pn: 0.14 seconds\n"
     ]
    },
    {
     "name": "stdout",
     "output_type": "stream",
     "text": [
      "(549, 714, 3) (549, 714)\n"
     ]
    },
    {
     "name": "stderr",
     "output_type": "stream",
     "text": [
      "Predict scores 10N: 0.10 seconds\n",
      "Rescample scoremap 10N: 0.06 seconds\n",
      "Load and rescale background image: 0.00 seconds\n",
      "Generate scoremap overlay: 0.05 seconds.\n",
      "Scoremap size does not match background image size. Need to resize: 0.06 seconds.\n",
      "Genearte scoremap overlay image 10N: 0.13 seconds\n"
     ]
    },
    {
     "name": "stdout",
     "output_type": "stream",
     "text": [
      "(549, 714, 3) (549, 714)\n"
     ]
    },
    {
     "name": "stderr",
     "output_type": "stream",
     "text": [
      "Predict scores LC: 0.10 seconds\n",
      "Rescample scoremap LC: 0.06 seconds\n",
      "Load and rescale background image: 0.00 seconds\n",
      "Generate scoremap overlay: 0.05 seconds.\n",
      "Scoremap size does not match background image size. Need to resize: 0.05 seconds.\n",
      "Genearte scoremap overlay image LC: 0.13 seconds\n"
     ]
    },
    {
     "name": "stdout",
     "output_type": "stream",
     "text": [
      "(549, 714, 3) (549, 714)\n"
     ]
    },
    {
     "name": "stderr",
     "output_type": "stream",
     "text": [
      "Predict scores 7N: 0.10 seconds\n",
      "Rescample scoremap 7N: 0.06 seconds\n",
      "Load and rescale background image: 0.00 seconds\n",
      "Generate scoremap overlay: 0.05 seconds.\n",
      "Scoremap size does not match background image size. Need to resize: 0.05 seconds.\n",
      "Genearte scoremap overlay image 7N: 0.13 seconds\n"
     ]
    },
    {
     "name": "stdout",
     "output_type": "stream",
     "text": [
      "(549, 714, 3) (549, 714)\n"
     ]
    },
    {
     "name": "stderr",
     "output_type": "stream",
     "text": [
      "Predict scores Amb: 0.10 seconds\n",
      "Rescample scoremap Amb: 0.06 seconds\n",
      "Load and rescale background image: 0.00 seconds\n",
      "Generate scoremap overlay: 0.05 seconds.\n",
      "Scoremap size does not match background image size. Need to resize: 0.05 seconds.\n",
      "Genearte scoremap overlay image Amb: 0.13 seconds\n"
     ]
    },
    {
     "name": "stdout",
     "output_type": "stream",
     "text": [
      "(549, 714, 3) (549, 714)\n"
     ]
    },
    {
     "name": "stderr",
     "output_type": "stream",
     "text": [
      "Predict scores 12N: 0.10 seconds\n",
      "Rescample scoremap 12N: 0.06 seconds\n",
      "Load and rescale background image: 0.00 seconds\n",
      "Generate scoremap overlay: 0.05 seconds.\n",
      "Scoremap size does not match background image size. Need to resize: 0.05 seconds.\n",
      "Genearte scoremap overlay image 12N: 0.13 seconds\n"
     ]
    },
    {
     "name": "stdout",
     "output_type": "stream",
     "text": [
      "(549, 714, 3) (549, 714)\n"
     ]
    },
    {
     "name": "stderr",
     "output_type": "stream",
     "text": [
      "Predict scores RMC: 0.10 seconds\n",
      "Rescample scoremap RMC: 0.06 seconds\n",
      "Load and rescale background image: 0.00 seconds\n",
      "Generate scoremap overlay: 0.05 seconds.\n",
      "Scoremap size does not match background image size. Need to resize: 0.06 seconds.\n",
      "Genearte scoremap overlay image RMC: 0.14 seconds\n"
     ]
    },
    {
     "name": "stdout",
     "output_type": "stream",
     "text": [
      "(549, 714, 3) (549, 714)\n"
     ]
    },
    {
     "name": "stderr",
     "output_type": "stream",
     "text": [
      "Predict scores Sp5O: 0.10 seconds\n",
      "Rescample scoremap Sp5O: 0.06 seconds\n",
      "Load and rescale background image: 0.00 seconds\n",
      "Generate scoremap overlay: 0.05 seconds.\n",
      "Scoremap size does not match background image size. Need to resize: 0.05 seconds.\n",
      "Genearte scoremap overlay image Sp5O: 0.13 seconds\n"
     ]
    },
    {
     "name": "stdout",
     "output_type": "stream",
     "text": [
      "(549, 714, 3) (549, 714)\n"
     ]
    },
    {
     "name": "stderr",
     "output_type": "stream",
     "text": [
      "Predict scores Sp5I: 0.10 seconds\n",
      "Rescample scoremap Sp5I: 0.06 seconds\n",
      "Load and rescale background image: 0.00 seconds\n",
      "Generate scoremap overlay: 0.05 seconds.\n",
      "Scoremap size does not match background image size. Need to resize: 0.05 seconds.\n",
      "Genearte scoremap overlay image Sp5I: 0.14 seconds\n"
     ]
    },
    {
     "name": "stdout",
     "output_type": "stream",
     "text": [
      "(549, 714, 3) (549, 714)\n"
     ]
    },
    {
     "name": "stderr",
     "output_type": "stream",
     "text": [
      "Predict scores Sp5C: 0.10 seconds\n",
      "Rescample scoremap Sp5C: 0.06 seconds\n",
      "Load and rescale background image: 0.00 seconds\n",
      "Generate scoremap overlay: 0.05 seconds.\n",
      "Scoremap size does not match background image size. Need to resize: 0.05 seconds.\n",
      "Genearte scoremap overlay image Sp5C: 0.14 seconds\n"
     ]
    },
    {
     "name": "stdout",
     "output_type": "stream",
     "text": [
      "(549, 714, 3) (549, 714)\n"
     ]
    },
    {
     "name": "stderr",
     "output_type": "stream",
     "text": [
      "Predict scores VCP: 0.10 seconds\n",
      "Rescample scoremap VCP: 0.06 seconds\n",
      "Load and rescale background image: 0.00 seconds\n",
      "Generate scoremap overlay: 0.05 seconds.\n",
      "Scoremap size does not match background image size. Need to resize: 0.05 seconds.\n",
      "Genearte scoremap overlay image VCP: 0.14 seconds\n"
     ]
    },
    {
     "name": "stdout",
     "output_type": "stream",
     "text": [
      "(549, 714, 3) (549, 714)\n"
     ]
    },
    {
     "name": "stderr",
     "output_type": "stream",
     "text": [
      "Predict scores AP: 0.12 seconds\n",
      "Rescample scoremap AP: 0.07 seconds\n",
      "Load and rescale background image: 0.00 seconds\n",
      "Generate scoremap overlay: 0.05 seconds.\n",
      "Scoremap size does not match background image size. Need to resize: 0.05 seconds.\n",
      "Genearte scoremap overlay image AP: 0.13 seconds\n"
     ]
    },
    {
     "name": "stdout",
     "output_type": "stream",
     "text": [
      "(549, 714, 3) (549, 714)\n"
     ]
    },
    {
     "name": "stderr",
     "output_type": "stream",
     "text": [
      "Predict scores PBG: 0.10 seconds\n",
      "Rescample scoremap PBG: 0.06 seconds\n",
      "Load and rescale background image: 0.00 seconds\n",
      "Generate scoremap overlay: 0.05 seconds.\n",
      "Scoremap size does not match background image size. Need to resize: 0.05 seconds.\n",
      "Genearte scoremap overlay image PBG: 0.14 seconds\n"
     ]
    },
    {
     "name": "stdout",
     "output_type": "stream",
     "text": [
      "(549, 714, 3) (549, 714)\n"
     ]
    },
    {
     "name": "stderr",
     "output_type": "stream",
     "text": [
      "Predict scores LRt: 0.10 seconds\n",
      "Rescample scoremap LRt: 0.06 seconds\n",
      "Load and rescale background image: 0.00 seconds\n",
      "Generate scoremap overlay: 0.05 seconds.\n",
      "Scoremap size does not match background image size. Need to resize: 0.05 seconds.\n",
      "Genearte scoremap overlay image LRt: 0.13 seconds\n"
     ]
    },
    {
     "name": "stdout",
     "output_type": "stream",
     "text": [
      "(549, 714, 3) (549, 714)\n"
     ]
    },
    {
     "name": "stderr",
     "output_type": "stream",
     "text": [
      "Predict scores IC: 0.10 seconds\n",
      "Rescample scoremap IC: 0.08 seconds\n",
      "Load and rescale background image: 0.00 seconds\n",
      "Generate scoremap overlay: 0.05 seconds.\n",
      "Scoremap size does not match background image size. Need to resize: 0.05 seconds.\n"
     ]
    },
    {
     "name": "stdout",
     "output_type": "stream",
     "text": [
      "(549, 714, 3) (549, 714)\n"
     ]
    },
    {
     "name": "stderr",
     "output_type": "stream",
     "text": [
      "Genearte scoremap overlay image IC: 0.13 seconds\n",
      "Predict scores VLL: 0.10 seconds\n",
      "Rescample scoremap VLL: 0.06 seconds\n",
      "Load and rescale background image: 0.00 seconds\n",
      "Generate scoremap overlay: 0.05 seconds.\n",
      "Scoremap size does not match background image size. Need to resize: 0.05 seconds.\n",
      "Genearte scoremap overlay image VLL: 0.14 seconds\n",
      "Predict scores 4N: 0.10 seconds\n"
     ]
    },
    {
     "name": "stdout",
     "output_type": "stream",
     "text": [
      "(549, 714, 3) (549, 714)\n"
     ]
    },
    {
     "name": "stderr",
     "output_type": "stream",
     "text": [
      "Rescample scoremap 4N: 0.06 seconds\n",
      "Load and rescale background image: 0.00 seconds\n",
      "Generate scoremap overlay: 0.05 seconds.\n",
      "Scoremap size does not match background image size. Need to resize: 0.05 seconds.\n",
      "Genearte scoremap overlay image 4N: 0.13 seconds\n"
     ]
    },
    {
     "name": "stdout",
     "output_type": "stream",
     "text": [
      "(549, 714, 3) (549, 714)\n"
     ]
    },
    {
     "name": "stderr",
     "output_type": "stream",
     "text": [
      "Predict scores SNC: 0.10 seconds\n",
      "Rescample scoremap SNC: 0.06 seconds\n",
      "Load and rescale background image: 0.00 seconds\n",
      "Generate scoremap overlay: 0.05 seconds.\n",
      "Scoremap size does not match background image size. Need to resize: 0.05 seconds.\n",
      "Genearte scoremap overlay image SNC: 0.14 seconds\n"
     ]
    },
    {
     "name": "stdout",
     "output_type": "stream",
     "text": [
      "(549, 714, 3) (549, 714)\n"
     ]
    },
    {
     "name": "stderr",
     "output_type": "stream",
     "text": [
      "Predict scores 6N: 0.10 seconds\n",
      "Rescample scoremap 6N: 0.06 seconds\n",
      "Load and rescale background image: 0.00 seconds\n",
      "Generate scoremap overlay: 0.05 seconds.\n",
      "Scoremap size does not match background image size. Need to resize: 0.05 seconds.\n",
      "Genearte scoremap overlay image 6N: 0.13 seconds\n"
     ]
    },
    {
     "name": "stdout",
     "output_type": "stream",
     "text": [
      "(549, 714, 3) (549, 714)\n"
     ]
    },
    {
     "name": "stderr",
     "output_type": "stream",
     "text": [
      "Predict scores SNR: 0.10 seconds\n",
      "Rescample scoremap SNR: 0.06 seconds\n",
      "Load and rescale background image: 0.00 seconds\n",
      "Generate scoremap overlay: 0.05 seconds.\n",
      "Scoremap size does not match background image size. Need to resize: 0.05 seconds.\n",
      "Genearte scoremap overlay image SNR: 0.13 seconds\n"
     ]
    },
    {
     "name": "stdout",
     "output_type": "stream",
     "text": [
      "(549, 714, 3) (549, 714)\n"
     ]
    },
    {
     "name": "stderr",
     "output_type": "stream",
     "text": [
      "Predict scores SC: 0.10 seconds\n",
      "Rescample scoremap SC: 0.06 seconds\n",
      "Load and rescale background image: 0.00 seconds\n",
      "Generate scoremap overlay: 0.05 seconds.\n",
      "Scoremap size does not match background image size. Need to resize: 0.05 seconds.\n",
      "Genearte scoremap overlay image SC: 0.14 seconds\n"
     ]
    },
    {
     "name": "stdout",
     "output_type": "stream",
     "text": [
      "(549, 714, 3) (549, 714)\n"
     ]
    },
    {
     "name": "stderr",
     "output_type": "stream",
     "text": [
      "Predict scores RtTg: 0.10 seconds\n",
      "Rescample scoremap RtTg: 0.06 seconds\n",
      "Load and rescale background image: 0.00 seconds\n",
      "Generate scoremap overlay: 0.05 seconds.\n",
      "Scoremap size does not match background image size. Need to resize: 0.05 seconds.\n",
      "Genearte scoremap overlay image RtTg: 0.13 seconds\n"
     ]
    },
    {
     "name": "stdout",
     "output_type": "stream",
     "text": [
      "(549, 714, 3) (549, 714)\n",
      "aws s3 cp \"/home/yuncong/CSHL_scoremaps/10.0um/MD589/MD589_prep2_10.0um_detector998/MD589-IHC69-2015.07.31-02.07.15_MD589_2_0206_prep2_10.0um_detector998/MD589-IHC69-2015.07.31-02.07.15_MD589_2_0206_prep2_10.0um_detector998_Tz_scoremap.bp\" \"s3://mousebrainatlas-data/CSHL_scoremaps/10.0um/MD589/MD589_prep2_10.0um_detector998/MD589-IHC69-2015.07.31-02.07.15_MD589_2_0206_prep2_10.0um_detector998/MD589-IHC69-2015.07.31-02.07.15_MD589_2_0206_prep2_10.0um_detector998_Tz_scoremap.bp\"\n",
      "0\n",
      "aws s3 cp \"/home/yuncong/CSHL_scoremap_viz/10.0um/Tz/MD589/detector998/prep2/MD589-IHC69-2015.07.31-02.07.15_MD589_2_0206_prep2_10.0um_Tz_detector998_scoremapViz.jpg\" \"s3://mousebrainatlas-data/CSHL_scoremap_viz/10.0um/Tz/MD589/detector998/prep2/MD589-IHC69-2015.07.31-02.07.15_MD589_2_0206_prep2_10.0um_Tz_detector998_scoremapViz.jpg\"\n",
      "0\n",
      "aws s3 cp \"/home/yuncong/CSHL_scoremaps/10.0um/MD589/MD589_prep2_10.0um_detector998/MD589-IHC69-2015.07.31-02.07.15_MD589_2_0206_prep2_10.0um_detector998/MD589-IHC69-2015.07.31-02.07.15_MD589_2_0206_prep2_10.0um_detector998_VCA_scoremap.bp\" \"s3://mousebrainatlas-data/CSHL_scoremaps/10.0um/MD589/MD589_prep2_10.0um_detector998/MD589-IHC69-2015.07.31-02.07.15_MD589_2_0206_prep2_10.0um_detector998/MD589-IHC69-2015.07.31-02.07.15_MD589_2_0206_prep2_10.0um_detector998_VCA_scoremap.bp\"\n",
      "0\n",
      "aws s3 cp \"/home/yuncong/CSHL_scoremap_viz/10.0um/VCA/MD589/detector998/prep2/MD589-IHC69-2015.07.31-02.07.15_MD589_2_0206_prep2_10.0um_VCA_detector998_scoremapViz.jpg\" \"s3://mousebrainatlas-data/CSHL_scoremap_viz/10.0um/VCA/MD589/detector998/prep2/MD589-IHC69-2015.07.31-02.07.15_MD589_2_0206_prep2_10.0um_VCA_detector998_scoremapViz.jpg\"\n",
      "0\n",
      "aws s3 cp \"/home/yuncong/CSHL_scoremaps/10.0um/MD589/MD589_prep2_10.0um_detector998/MD589-IHC69-2015.07.31-02.07.15_MD589_2_0206_prep2_10.0um_detector998/MD589-IHC69-2015.07.31-02.07.15_MD589_2_0206_prep2_10.0um_detector998_7n_scoremap.bp\" \"s3://mousebrainatlas-data/CSHL_scoremaps/10.0um/MD589/MD589_prep2_10.0um_detector998/MD589-IHC69-2015.07.31-02.07.15_MD589_2_0206_prep2_10.0um_detector998/MD589-IHC69-2015.07.31-02.07.15_MD589_2_0206_prep2_10.0um_detector998_7n_scoremap.bp\"\n",
      "0\n",
      "aws s3 cp \"/home/yuncong/CSHL_scoremap_viz/10.0um/7n/MD589/detector998/prep2/MD589-IHC69-2015.07.31-02.07.15_MD589_2_0206_prep2_10.0um_7n_detector998_scoremapViz.jpg\" \"s3://mousebrainatlas-data/CSHL_scoremap_viz/10.0um/7n/MD589/detector998/prep2/MD589-IHC69-2015.07.31-02.07.15_MD589_2_0206_prep2_10.0um_7n_detector998_scoremapViz.jpg\"\n",
      "0\n",
      "aws s3 cp \"/home/yuncong/CSHL_scoremaps/10.0um/MD589/MD589_prep2_10.0um_detector998/MD589-IHC69-2015.07.31-02.07.15_MD589_2_0206_prep2_10.0um_detector998/MD589-IHC69-2015.07.31-02.07.15_MD589_2_0206_prep2_10.0um_detector998_DC_scoremap.bp\" \"s3://mousebrainatlas-data/CSHL_scoremaps/10.0um/MD589/MD589_prep2_10.0um_detector998/MD589-IHC69-2015.07.31-02.07.15_MD589_2_0206_prep2_10.0um_detector998/MD589-IHC69-2015.07.31-02.07.15_MD589_2_0206_prep2_10.0um_detector998_DC_scoremap.bp\"\n",
      "0\n",
      "aws s3 cp \"/home/yuncong/CSHL_scoremap_viz/10.0um/DC/MD589/detector998/prep2/MD589-IHC69-2015.07.31-02.07.15_MD589_2_0206_prep2_10.0um_DC_detector998_scoremapViz.jpg\" \"s3://mousebrainatlas-data/CSHL_scoremap_viz/10.0um/DC/MD589/detector998/prep2/MD589-IHC69-2015.07.31-02.07.15_MD589_2_0206_prep2_10.0um_DC_detector998_scoremapViz.jpg\"\n",
      "0\n",
      "aws s3 cp \"/home/yuncong/CSHL_scoremaps/10.0um/MD589/MD589_prep2_10.0um_detector998/MD589-IHC69-2015.07.31-02.07.15_MD589_2_0206_prep2_10.0um_detector998/MD589-IHC69-2015.07.31-02.07.15_MD589_2_0206_prep2_10.0um_detector998_5N_scoremap.bp\" \"s3://mousebrainatlas-data/CSHL_scoremaps/10.0um/MD589/MD589_prep2_10.0um_detector998/MD589-IHC69-2015.07.31-02.07.15_MD589_2_0206_prep2_10.0um_detector998/MD589-IHC69-2015.07.31-02.07.15_MD589_2_0206_prep2_10.0um_detector998_5N_scoremap.bp\"\n",
      "0\n",
      "aws s3 cp \"/home/yuncong/CSHL_scoremap_viz/10.0um/5N/MD589/detector998/prep2/MD589-IHC69-2015.07.31-02.07.15_MD589_2_0206_prep2_10.0um_5N_detector998_scoremapViz.jpg\" \"s3://mousebrainatlas-data/CSHL_scoremap_viz/10.0um/5N/MD589/detector998/prep2/MD589-IHC69-2015.07.31-02.07.15_MD589_2_0206_prep2_10.0um_5N_detector998_scoremapViz.jpg\"\n",
      "0\n",
      "aws s3 cp \"/home/yuncong/CSHL_scoremaps/10.0um/MD589/MD589_prep2_10.0um_detector998/MD589-IHC69-2015.07.31-02.07.15_MD589_2_0206_prep2_10.0um_detector998/MD589-IHC69-2015.07.31-02.07.15_MD589_2_0206_prep2_10.0um_detector998_3N_scoremap.bp\" \"s3://mousebrainatlas-data/CSHL_scoremaps/10.0um/MD589/MD589_prep2_10.0um_detector998/MD589-IHC69-2015.07.31-02.07.15_MD589_2_0206_prep2_10.0um_detector998/MD589-IHC69-2015.07.31-02.07.15_MD589_2_0206_prep2_10.0um_detector998_3N_scoremap.bp\"\n",
      "0\n",
      "aws s3 cp \"/home/yuncong/CSHL_scoremap_viz/10.0um/3N/MD589/detector998/prep2/MD589-IHC69-2015.07.31-02.07.15_MD589_2_0206_prep2_10.0um_3N_detector998_scoremapViz.jpg\" \"s3://mousebrainatlas-data/CSHL_scoremap_viz/10.0um/3N/MD589/detector998/prep2/MD589-IHC69-2015.07.31-02.07.15_MD589_2_0206_prep2_10.0um_3N_detector998_scoremapViz.jpg\"\n",
      "0\n",
      "aws s3 cp \"/home/yuncong/CSHL_scoremaps/10.0um/MD589/MD589_prep2_10.0um_detector998/MD589-IHC69-2015.07.31-02.07.15_MD589_2_0206_prep2_10.0um_detector998/MD589-IHC69-2015.07.31-02.07.15_MD589_2_0206_prep2_10.0um_detector998_Pn_scoremap.bp\" \"s3://mousebrainatlas-data/CSHL_scoremaps/10.0um/MD589/MD589_prep2_10.0um_detector998/MD589-IHC69-2015.07.31-02.07.15_MD589_2_0206_prep2_10.0um_detector998/MD589-IHC69-2015.07.31-02.07.15_MD589_2_0206_prep2_10.0um_detector998_Pn_scoremap.bp\"\n",
      "0\n",
      "aws s3 cp \"/home/yuncong/CSHL_scoremap_viz/10.0um/Pn/MD589/detector998/prep2/MD589-IHC69-2015.07.31-02.07.15_MD589_2_0206_prep2_10.0um_Pn_detector998_scoremapViz.jpg\" \"s3://mousebrainatlas-data/CSHL_scoremap_viz/10.0um/Pn/MD589/detector998/prep2/MD589-IHC69-2015.07.31-02.07.15_MD589_2_0206_prep2_10.0um_Pn_detector998_scoremapViz.jpg\"\n",
      "0\n",
      "aws s3 cp \"/home/yuncong/CSHL_scoremaps/10.0um/MD589/MD589_prep2_10.0um_detector998/MD589-IHC69-2015.07.31-02.07.15_MD589_2_0206_prep2_10.0um_detector998/MD589-IHC69-2015.07.31-02.07.15_MD589_2_0206_prep2_10.0um_detector998_10N_scoremap.bp\" \"s3://mousebrainatlas-data/CSHL_scoremaps/10.0um/MD589/MD589_prep2_10.0um_detector998/MD589-IHC69-2015.07.31-02.07.15_MD589_2_0206_prep2_10.0um_detector998/MD589-IHC69-2015.07.31-02.07.15_MD589_2_0206_prep2_10.0um_detector998_10N_scoremap.bp\"\n",
      "0\n",
      "aws s3 cp \"/home/yuncong/CSHL_scoremap_viz/10.0um/10N/MD589/detector998/prep2/MD589-IHC69-2015.07.31-02.07.15_MD589_2_0206_prep2_10.0um_10N_detector998_scoremapViz.jpg\" \"s3://mousebrainatlas-data/CSHL_scoremap_viz/10.0um/10N/MD589/detector998/prep2/MD589-IHC69-2015.07.31-02.07.15_MD589_2_0206_prep2_10.0um_10N_detector998_scoremapViz.jpg\"\n",
      "0\n",
      "aws s3 cp \"/home/yuncong/CSHL_scoremaps/10.0um/MD589/MD589_prep2_10.0um_detector998/MD589-IHC69-2015.07.31-02.07.15_MD589_2_0206_prep2_10.0um_detector998/MD589-IHC69-2015.07.31-02.07.15_MD589_2_0206_prep2_10.0um_detector998_LC_scoremap.bp\" \"s3://mousebrainatlas-data/CSHL_scoremaps/10.0um/MD589/MD589_prep2_10.0um_detector998/MD589-IHC69-2015.07.31-02.07.15_MD589_2_0206_prep2_10.0um_detector998/MD589-IHC69-2015.07.31-02.07.15_MD589_2_0206_prep2_10.0um_detector998_LC_scoremap.bp\"\n",
      "0\n",
      "aws s3 cp \"/home/yuncong/CSHL_scoremap_viz/10.0um/LC/MD589/detector998/prep2/MD589-IHC69-2015.07.31-02.07.15_MD589_2_0206_prep2_10.0um_LC_detector998_scoremapViz.jpg\" \"s3://mousebrainatlas-data/CSHL_scoremap_viz/10.0um/LC/MD589/detector998/prep2/MD589-IHC69-2015.07.31-02.07.15_MD589_2_0206_prep2_10.0um_LC_detector998_scoremapViz.jpg\"\n",
      "0\n",
      "aws s3 cp \"/home/yuncong/CSHL_scoremaps/10.0um/MD589/MD589_prep2_10.0um_detector998/MD589-IHC69-2015.07.31-02.07.15_MD589_2_0206_prep2_10.0um_detector998/MD589-IHC69-2015.07.31-02.07.15_MD589_2_0206_prep2_10.0um_detector998_7N_scoremap.bp\" \"s3://mousebrainatlas-data/CSHL_scoremaps/10.0um/MD589/MD589_prep2_10.0um_detector998/MD589-IHC69-2015.07.31-02.07.15_MD589_2_0206_prep2_10.0um_detector998/MD589-IHC69-2015.07.31-02.07.15_MD589_2_0206_prep2_10.0um_detector998_7N_scoremap.bp\"\n",
      "0\n",
      "aws s3 cp \"/home/yuncong/CSHL_scoremap_viz/10.0um/7N/MD589/detector998/prep2/MD589-IHC69-2015.07.31-02.07.15_MD589_2_0206_prep2_10.0um_7N_detector998_scoremapViz.jpg\" \"s3://mousebrainatlas-data/CSHL_scoremap_viz/10.0um/7N/MD589/detector998/prep2/MD589-IHC69-2015.07.31-02.07.15_MD589_2_0206_prep2_10.0um_7N_detector998_scoremapViz.jpg\"\n"
     ]
    },
    {
     "name": "stdout",
     "output_type": "stream",
     "text": [
      "0\n",
      "aws s3 cp \"/home/yuncong/CSHL_scoremaps/10.0um/MD589/MD589_prep2_10.0um_detector998/MD589-IHC69-2015.07.31-02.07.15_MD589_2_0206_prep2_10.0um_detector998/MD589-IHC69-2015.07.31-02.07.15_MD589_2_0206_prep2_10.0um_detector998_Amb_scoremap.bp\" \"s3://mousebrainatlas-data/CSHL_scoremaps/10.0um/MD589/MD589_prep2_10.0um_detector998/MD589-IHC69-2015.07.31-02.07.15_MD589_2_0206_prep2_10.0um_detector998/MD589-IHC69-2015.07.31-02.07.15_MD589_2_0206_prep2_10.0um_detector998_Amb_scoremap.bp\"\n",
      "0\n",
      "aws s3 cp \"/home/yuncong/CSHL_scoremap_viz/10.0um/Amb/MD589/detector998/prep2/MD589-IHC69-2015.07.31-02.07.15_MD589_2_0206_prep2_10.0um_Amb_detector998_scoremapViz.jpg\" \"s3://mousebrainatlas-data/CSHL_scoremap_viz/10.0um/Amb/MD589/detector998/prep2/MD589-IHC69-2015.07.31-02.07.15_MD589_2_0206_prep2_10.0um_Amb_detector998_scoremapViz.jpg\"\n",
      "0\n",
      "aws s3 cp \"/home/yuncong/CSHL_scoremaps/10.0um/MD589/MD589_prep2_10.0um_detector998/MD589-IHC69-2015.07.31-02.07.15_MD589_2_0206_prep2_10.0um_detector998/MD589-IHC69-2015.07.31-02.07.15_MD589_2_0206_prep2_10.0um_detector998_12N_scoremap.bp\" \"s3://mousebrainatlas-data/CSHL_scoremaps/10.0um/MD589/MD589_prep2_10.0um_detector998/MD589-IHC69-2015.07.31-02.07.15_MD589_2_0206_prep2_10.0um_detector998/MD589-IHC69-2015.07.31-02.07.15_MD589_2_0206_prep2_10.0um_detector998_12N_scoremap.bp\"\n",
      "0\n",
      "aws s3 cp \"/home/yuncong/CSHL_scoremap_viz/10.0um/12N/MD589/detector998/prep2/MD589-IHC69-2015.07.31-02.07.15_MD589_2_0206_prep2_10.0um_12N_detector998_scoremapViz.jpg\" \"s3://mousebrainatlas-data/CSHL_scoremap_viz/10.0um/12N/MD589/detector998/prep2/MD589-IHC69-2015.07.31-02.07.15_MD589_2_0206_prep2_10.0um_12N_detector998_scoremapViz.jpg\"\n",
      "0\n",
      "aws s3 cp \"/home/yuncong/CSHL_scoremaps/10.0um/MD589/MD589_prep2_10.0um_detector998/MD589-IHC69-2015.07.31-02.07.15_MD589_2_0206_prep2_10.0um_detector998/MD589-IHC69-2015.07.31-02.07.15_MD589_2_0206_prep2_10.0um_detector998_RMC_scoremap.bp\" \"s3://mousebrainatlas-data/CSHL_scoremaps/10.0um/MD589/MD589_prep2_10.0um_detector998/MD589-IHC69-2015.07.31-02.07.15_MD589_2_0206_prep2_10.0um_detector998/MD589-IHC69-2015.07.31-02.07.15_MD589_2_0206_prep2_10.0um_detector998_RMC_scoremap.bp\"\n",
      "0\n",
      "aws s3 cp \"/home/yuncong/CSHL_scoremap_viz/10.0um/RMC/MD589/detector998/prep2/MD589-IHC69-2015.07.31-02.07.15_MD589_2_0206_prep2_10.0um_RMC_detector998_scoremapViz.jpg\" \"s3://mousebrainatlas-data/CSHL_scoremap_viz/10.0um/RMC/MD589/detector998/prep2/MD589-IHC69-2015.07.31-02.07.15_MD589_2_0206_prep2_10.0um_RMC_detector998_scoremapViz.jpg\"\n",
      "0\n",
      "aws s3 cp \"/home/yuncong/CSHL_scoremaps/10.0um/MD589/MD589_prep2_10.0um_detector998/MD589-IHC69-2015.07.31-02.07.15_MD589_2_0206_prep2_10.0um_detector998/MD589-IHC69-2015.07.31-02.07.15_MD589_2_0206_prep2_10.0um_detector998_Sp5O_scoremap.bp\" \"s3://mousebrainatlas-data/CSHL_scoremaps/10.0um/MD589/MD589_prep2_10.0um_detector998/MD589-IHC69-2015.07.31-02.07.15_MD589_2_0206_prep2_10.0um_detector998/MD589-IHC69-2015.07.31-02.07.15_MD589_2_0206_prep2_10.0um_detector998_Sp5O_scoremap.bp\"\n",
      "0\n",
      "aws s3 cp \"/home/yuncong/CSHL_scoremap_viz/10.0um/Sp5O/MD589/detector998/prep2/MD589-IHC69-2015.07.31-02.07.15_MD589_2_0206_prep2_10.0um_Sp5O_detector998_scoremapViz.jpg\" \"s3://mousebrainatlas-data/CSHL_scoremap_viz/10.0um/Sp5O/MD589/detector998/prep2/MD589-IHC69-2015.07.31-02.07.15_MD589_2_0206_prep2_10.0um_Sp5O_detector998_scoremapViz.jpg\"\n",
      "0\n",
      "aws s3 cp \"/home/yuncong/CSHL_scoremaps/10.0um/MD589/MD589_prep2_10.0um_detector998/MD589-IHC69-2015.07.31-02.07.15_MD589_2_0206_prep2_10.0um_detector998/MD589-IHC69-2015.07.31-02.07.15_MD589_2_0206_prep2_10.0um_detector998_Sp5I_scoremap.bp\" \"s3://mousebrainatlas-data/CSHL_scoremaps/10.0um/MD589/MD589_prep2_10.0um_detector998/MD589-IHC69-2015.07.31-02.07.15_MD589_2_0206_prep2_10.0um_detector998/MD589-IHC69-2015.07.31-02.07.15_MD589_2_0206_prep2_10.0um_detector998_Sp5I_scoremap.bp\"\n",
      "0\n",
      "aws s3 cp \"/home/yuncong/CSHL_scoremap_viz/10.0um/Sp5I/MD589/detector998/prep2/MD589-IHC69-2015.07.31-02.07.15_MD589_2_0206_prep2_10.0um_Sp5I_detector998_scoremapViz.jpg\" \"s3://mousebrainatlas-data/CSHL_scoremap_viz/10.0um/Sp5I/MD589/detector998/prep2/MD589-IHC69-2015.07.31-02.07.15_MD589_2_0206_prep2_10.0um_Sp5I_detector998_scoremapViz.jpg\"\n",
      "0\n",
      "aws s3 cp \"/home/yuncong/CSHL_scoremaps/10.0um/MD589/MD589_prep2_10.0um_detector998/MD589-IHC69-2015.07.31-02.07.15_MD589_2_0206_prep2_10.0um_detector998/MD589-IHC69-2015.07.31-02.07.15_MD589_2_0206_prep2_10.0um_detector998_Sp5C_scoremap.bp\" \"s3://mousebrainatlas-data/CSHL_scoremaps/10.0um/MD589/MD589_prep2_10.0um_detector998/MD589-IHC69-2015.07.31-02.07.15_MD589_2_0206_prep2_10.0um_detector998/MD589-IHC69-2015.07.31-02.07.15_MD589_2_0206_prep2_10.0um_detector998_Sp5C_scoremap.bp\"\n",
      "0\n",
      "aws s3 cp \"/home/yuncong/CSHL_scoremap_viz/10.0um/Sp5C/MD589/detector998/prep2/MD589-IHC69-2015.07.31-02.07.15_MD589_2_0206_prep2_10.0um_Sp5C_detector998_scoremapViz.jpg\" \"s3://mousebrainatlas-data/CSHL_scoremap_viz/10.0um/Sp5C/MD589/detector998/prep2/MD589-IHC69-2015.07.31-02.07.15_MD589_2_0206_prep2_10.0um_Sp5C_detector998_scoremapViz.jpg\"\n",
      "0\n",
      "aws s3 cp \"/home/yuncong/CSHL_scoremaps/10.0um/MD589/MD589_prep2_10.0um_detector998/MD589-IHC69-2015.07.31-02.07.15_MD589_2_0206_prep2_10.0um_detector998/MD589-IHC69-2015.07.31-02.07.15_MD589_2_0206_prep2_10.0um_detector998_VCP_scoremap.bp\" \"s3://mousebrainatlas-data/CSHL_scoremaps/10.0um/MD589/MD589_prep2_10.0um_detector998/MD589-IHC69-2015.07.31-02.07.15_MD589_2_0206_prep2_10.0um_detector998/MD589-IHC69-2015.07.31-02.07.15_MD589_2_0206_prep2_10.0um_detector998_VCP_scoremap.bp\"\n",
      "0\n",
      "aws s3 cp \"/home/yuncong/CSHL_scoremap_viz/10.0um/VCP/MD589/detector998/prep2/MD589-IHC69-2015.07.31-02.07.15_MD589_2_0206_prep2_10.0um_VCP_detector998_scoremapViz.jpg\" \"s3://mousebrainatlas-data/CSHL_scoremap_viz/10.0um/VCP/MD589/detector998/prep2/MD589-IHC69-2015.07.31-02.07.15_MD589_2_0206_prep2_10.0um_VCP_detector998_scoremapViz.jpg\"\n",
      "0\n",
      "aws s3 cp \"/home/yuncong/CSHL_scoremaps/10.0um/MD589/MD589_prep2_10.0um_detector998/MD589-IHC69-2015.07.31-02.07.15_MD589_2_0206_prep2_10.0um_detector998/MD589-IHC69-2015.07.31-02.07.15_MD589_2_0206_prep2_10.0um_detector998_AP_scoremap.bp\" \"s3://mousebrainatlas-data/CSHL_scoremaps/10.0um/MD589/MD589_prep2_10.0um_detector998/MD589-IHC69-2015.07.31-02.07.15_MD589_2_0206_prep2_10.0um_detector998/MD589-IHC69-2015.07.31-02.07.15_MD589_2_0206_prep2_10.0um_detector998_AP_scoremap.bp\"\n",
      "0\n",
      "aws s3 cp \"/home/yuncong/CSHL_scoremap_viz/10.0um/AP/MD589/detector998/prep2/MD589-IHC69-2015.07.31-02.07.15_MD589_2_0206_prep2_10.0um_AP_detector998_scoremapViz.jpg\" \"s3://mousebrainatlas-data/CSHL_scoremap_viz/10.0um/AP/MD589/detector998/prep2/MD589-IHC69-2015.07.31-02.07.15_MD589_2_0206_prep2_10.0um_AP_detector998_scoremapViz.jpg\"\n",
      "0\n",
      "aws s3 cp \"/home/yuncong/CSHL_scoremaps/10.0um/MD589/MD589_prep2_10.0um_detector998/MD589-IHC69-2015.07.31-02.07.15_MD589_2_0206_prep2_10.0um_detector998/MD589-IHC69-2015.07.31-02.07.15_MD589_2_0206_prep2_10.0um_detector998_PBG_scoremap.bp\" \"s3://mousebrainatlas-data/CSHL_scoremaps/10.0um/MD589/MD589_prep2_10.0um_detector998/MD589-IHC69-2015.07.31-02.07.15_MD589_2_0206_prep2_10.0um_detector998/MD589-IHC69-2015.07.31-02.07.15_MD589_2_0206_prep2_10.0um_detector998_PBG_scoremap.bp\"\n",
      "0\n",
      "aws s3 cp \"/home/yuncong/CSHL_scoremap_viz/10.0um/PBG/MD589/detector998/prep2/MD589-IHC69-2015.07.31-02.07.15_MD589_2_0206_prep2_10.0um_PBG_detector998_scoremapViz.jpg\" \"s3://mousebrainatlas-data/CSHL_scoremap_viz/10.0um/PBG/MD589/detector998/prep2/MD589-IHC69-2015.07.31-02.07.15_MD589_2_0206_prep2_10.0um_PBG_detector998_scoremapViz.jpg\"\n",
      "0\n",
      "aws s3 cp \"/home/yuncong/CSHL_scoremaps/10.0um/MD589/MD589_prep2_10.0um_detector998/MD589-IHC69-2015.07.31-02.07.15_MD589_2_0206_prep2_10.0um_detector998/MD589-IHC69-2015.07.31-02.07.15_MD589_2_0206_prep2_10.0um_detector998_LRt_scoremap.bp\" \"s3://mousebrainatlas-data/CSHL_scoremaps/10.0um/MD589/MD589_prep2_10.0um_detector998/MD589-IHC69-2015.07.31-02.07.15_MD589_2_0206_prep2_10.0um_detector998/MD589-IHC69-2015.07.31-02.07.15_MD589_2_0206_prep2_10.0um_detector998_LRt_scoremap.bp\"\n",
      "0\n",
      "aws s3 cp \"/home/yuncong/CSHL_scoremap_viz/10.0um/LRt/MD589/detector998/prep2/MD589-IHC69-2015.07.31-02.07.15_MD589_2_0206_prep2_10.0um_LRt_detector998_scoremapViz.jpg\" \"s3://mousebrainatlas-data/CSHL_scoremap_viz/10.0um/LRt/MD589/detector998/prep2/MD589-IHC69-2015.07.31-02.07.15_MD589_2_0206_prep2_10.0um_LRt_detector998_scoremapViz.jpg\"\n"
     ]
    },
    {
     "name": "stdout",
     "output_type": "stream",
     "text": [
      "0\n",
      "aws s3 cp \"/home/yuncong/CSHL_scoremaps/10.0um/MD589/MD589_prep2_10.0um_detector998/MD589-IHC69-2015.07.31-02.07.15_MD589_2_0206_prep2_10.0um_detector998/MD589-IHC69-2015.07.31-02.07.15_MD589_2_0206_prep2_10.0um_detector998_IC_scoremap.bp\" \"s3://mousebrainatlas-data/CSHL_scoremaps/10.0um/MD589/MD589_prep2_10.0um_detector998/MD589-IHC69-2015.07.31-02.07.15_MD589_2_0206_prep2_10.0um_detector998/MD589-IHC69-2015.07.31-02.07.15_MD589_2_0206_prep2_10.0um_detector998_IC_scoremap.bp\"\n",
      "0\n",
      "aws s3 cp \"/home/yuncong/CSHL_scoremap_viz/10.0um/IC/MD589/detector998/prep2/MD589-IHC69-2015.07.31-02.07.15_MD589_2_0206_prep2_10.0um_IC_detector998_scoremapViz.jpg\" \"s3://mousebrainatlas-data/CSHL_scoremap_viz/10.0um/IC/MD589/detector998/prep2/MD589-IHC69-2015.07.31-02.07.15_MD589_2_0206_prep2_10.0um_IC_detector998_scoremapViz.jpg\"\n",
      "0\n",
      "aws s3 cp \"/home/yuncong/CSHL_scoremaps/10.0um/MD589/MD589_prep2_10.0um_detector998/MD589-IHC69-2015.07.31-02.07.15_MD589_2_0206_prep2_10.0um_detector998/MD589-IHC69-2015.07.31-02.07.15_MD589_2_0206_prep2_10.0um_detector998_VLL_scoremap.bp\" \"s3://mousebrainatlas-data/CSHL_scoremaps/10.0um/MD589/MD589_prep2_10.0um_detector998/MD589-IHC69-2015.07.31-02.07.15_MD589_2_0206_prep2_10.0um_detector998/MD589-IHC69-2015.07.31-02.07.15_MD589_2_0206_prep2_10.0um_detector998_VLL_scoremap.bp\"\n",
      "0\n",
      "aws s3 cp \"/home/yuncong/CSHL_scoremap_viz/10.0um/VLL/MD589/detector998/prep2/MD589-IHC69-2015.07.31-02.07.15_MD589_2_0206_prep2_10.0um_VLL_detector998_scoremapViz.jpg\" \"s3://mousebrainatlas-data/CSHL_scoremap_viz/10.0um/VLL/MD589/detector998/prep2/MD589-IHC69-2015.07.31-02.07.15_MD589_2_0206_prep2_10.0um_VLL_detector998_scoremapViz.jpg\"\n",
      "0\n",
      "aws s3 cp \"/home/yuncong/CSHL_scoremaps/10.0um/MD589/MD589_prep2_10.0um_detector998/MD589-IHC69-2015.07.31-02.07.15_MD589_2_0206_prep2_10.0um_detector998/MD589-IHC69-2015.07.31-02.07.15_MD589_2_0206_prep2_10.0um_detector998_4N_scoremap.bp\" \"s3://mousebrainatlas-data/CSHL_scoremaps/10.0um/MD589/MD589_prep2_10.0um_detector998/MD589-IHC69-2015.07.31-02.07.15_MD589_2_0206_prep2_10.0um_detector998/MD589-IHC69-2015.07.31-02.07.15_MD589_2_0206_prep2_10.0um_detector998_4N_scoremap.bp\"\n",
      "0\n",
      "aws s3 cp \"/home/yuncong/CSHL_scoremap_viz/10.0um/4N/MD589/detector998/prep2/MD589-IHC69-2015.07.31-02.07.15_MD589_2_0206_prep2_10.0um_4N_detector998_scoremapViz.jpg\" \"s3://mousebrainatlas-data/CSHL_scoremap_viz/10.0um/4N/MD589/detector998/prep2/MD589-IHC69-2015.07.31-02.07.15_MD589_2_0206_prep2_10.0um_4N_detector998_scoremapViz.jpg\"\n",
      "0\n",
      "aws s3 cp \"/home/yuncong/CSHL_scoremaps/10.0um/MD589/MD589_prep2_10.0um_detector998/MD589-IHC69-2015.07.31-02.07.15_MD589_2_0206_prep2_10.0um_detector998/MD589-IHC69-2015.07.31-02.07.15_MD589_2_0206_prep2_10.0um_detector998_SNC_scoremap.bp\" \"s3://mousebrainatlas-data/CSHL_scoremaps/10.0um/MD589/MD589_prep2_10.0um_detector998/MD589-IHC69-2015.07.31-02.07.15_MD589_2_0206_prep2_10.0um_detector998/MD589-IHC69-2015.07.31-02.07.15_MD589_2_0206_prep2_10.0um_detector998_SNC_scoremap.bp\"\n",
      "0\n",
      "aws s3 cp \"/home/yuncong/CSHL_scoremap_viz/10.0um/SNC/MD589/detector998/prep2/MD589-IHC69-2015.07.31-02.07.15_MD589_2_0206_prep2_10.0um_SNC_detector998_scoremapViz.jpg\" \"s3://mousebrainatlas-data/CSHL_scoremap_viz/10.0um/SNC/MD589/detector998/prep2/MD589-IHC69-2015.07.31-02.07.15_MD589_2_0206_prep2_10.0um_SNC_detector998_scoremapViz.jpg\"\n",
      "0\n",
      "aws s3 cp \"/home/yuncong/CSHL_scoremaps/10.0um/MD589/MD589_prep2_10.0um_detector998/MD589-IHC69-2015.07.31-02.07.15_MD589_2_0206_prep2_10.0um_detector998/MD589-IHC69-2015.07.31-02.07.15_MD589_2_0206_prep2_10.0um_detector998_6N_scoremap.bp\" \"s3://mousebrainatlas-data/CSHL_scoremaps/10.0um/MD589/MD589_prep2_10.0um_detector998/MD589-IHC69-2015.07.31-02.07.15_MD589_2_0206_prep2_10.0um_detector998/MD589-IHC69-2015.07.31-02.07.15_MD589_2_0206_prep2_10.0um_detector998_6N_scoremap.bp\"\n",
      "0\n",
      "aws s3 cp \"/home/yuncong/CSHL_scoremap_viz/10.0um/6N/MD589/detector998/prep2/MD589-IHC69-2015.07.31-02.07.15_MD589_2_0206_prep2_10.0um_6N_detector998_scoremapViz.jpg\" \"s3://mousebrainatlas-data/CSHL_scoremap_viz/10.0um/6N/MD589/detector998/prep2/MD589-IHC69-2015.07.31-02.07.15_MD589_2_0206_prep2_10.0um_6N_detector998_scoremapViz.jpg\"\n",
      "0\n",
      "aws s3 cp \"/home/yuncong/CSHL_scoremaps/10.0um/MD589/MD589_prep2_10.0um_detector998/MD589-IHC69-2015.07.31-02.07.15_MD589_2_0206_prep2_10.0um_detector998/MD589-IHC69-2015.07.31-02.07.15_MD589_2_0206_prep2_10.0um_detector998_SNR_scoremap.bp\" \"s3://mousebrainatlas-data/CSHL_scoremaps/10.0um/MD589/MD589_prep2_10.0um_detector998/MD589-IHC69-2015.07.31-02.07.15_MD589_2_0206_prep2_10.0um_detector998/MD589-IHC69-2015.07.31-02.07.15_MD589_2_0206_prep2_10.0um_detector998_SNR_scoremap.bp\"\n",
      "0\n",
      "aws s3 cp \"/home/yuncong/CSHL_scoremap_viz/10.0um/SNR/MD589/detector998/prep2/MD589-IHC69-2015.07.31-02.07.15_MD589_2_0206_prep2_10.0um_SNR_detector998_scoremapViz.jpg\" \"s3://mousebrainatlas-data/CSHL_scoremap_viz/10.0um/SNR/MD589/detector998/prep2/MD589-IHC69-2015.07.31-02.07.15_MD589_2_0206_prep2_10.0um_SNR_detector998_scoremapViz.jpg\"\n",
      "0\n",
      "aws s3 cp \"/home/yuncong/CSHL_scoremaps/10.0um/MD589/MD589_prep2_10.0um_detector998/MD589-IHC69-2015.07.31-02.07.15_MD589_2_0206_prep2_10.0um_detector998/MD589-IHC69-2015.07.31-02.07.15_MD589_2_0206_prep2_10.0um_detector998_SC_scoremap.bp\" \"s3://mousebrainatlas-data/CSHL_scoremaps/10.0um/MD589/MD589_prep2_10.0um_detector998/MD589-IHC69-2015.07.31-02.07.15_MD589_2_0206_prep2_10.0um_detector998/MD589-IHC69-2015.07.31-02.07.15_MD589_2_0206_prep2_10.0um_detector998_SC_scoremap.bp\"\n",
      "0\n",
      "aws s3 cp \"/home/yuncong/CSHL_scoremap_viz/10.0um/SC/MD589/detector998/prep2/MD589-IHC69-2015.07.31-02.07.15_MD589_2_0206_prep2_10.0um_SC_detector998_scoremapViz.jpg\" \"s3://mousebrainatlas-data/CSHL_scoremap_viz/10.0um/SC/MD589/detector998/prep2/MD589-IHC69-2015.07.31-02.07.15_MD589_2_0206_prep2_10.0um_SC_detector998_scoremapViz.jpg\"\n",
      "0\n",
      "aws s3 cp \"/home/yuncong/CSHL_scoremaps/10.0um/MD589/MD589_prep2_10.0um_detector998/MD589-IHC69-2015.07.31-02.07.15_MD589_2_0206_prep2_10.0um_detector998/MD589-IHC69-2015.07.31-02.07.15_MD589_2_0206_prep2_10.0um_detector998_RtTg_scoremap.bp\" \"s3://mousebrainatlas-data/CSHL_scoremaps/10.0um/MD589/MD589_prep2_10.0um_detector998/MD589-IHC69-2015.07.31-02.07.15_MD589_2_0206_prep2_10.0um_detector998/MD589-IHC69-2015.07.31-02.07.15_MD589_2_0206_prep2_10.0um_detector998_RtTg_scoremap.bp\"\n",
      "0\n",
      "aws s3 cp \"/home/yuncong/CSHL_scoremap_viz/10.0um/RtTg/MD589/detector998/prep2/MD589-IHC69-2015.07.31-02.07.15_MD589_2_0206_prep2_10.0um_RtTg_detector998_scoremapViz.jpg\" \"s3://mousebrainatlas-data/CSHL_scoremap_viz/10.0um/RtTg/MD589/detector998/prep2/MD589-IHC69-2015.07.31-02.07.15_MD589_2_0206_prep2_10.0um_RtTg_detector998_scoremapViz.jpg\"\n",
      "0\n"
     ]
    },
    {
     "name": "stderr",
     "output_type": "stream",
     "text": [
      "locate patches: 0.03 seconds\n",
      "Load pre-computed features: 1.11 seconds\n"
     ]
    },
    {
     "name": "stdout",
     "output_type": "stream",
     "text": [
      "rm -rf \"/media/yuncong/BstemAtlasData/CSHL_data_processed/MD589/MD589_prep2_lossless_grayJpeg/MD589-N69-2015.07.30-20.46.59_MD589_3_0207_prep2_lossless_grayJpeg.jpg\" && mkdir -p \"/media/yuncong/BstemAtlasData/CSHL_data_processed/MD589/MD589_prep2_lossless_grayJpeg\"\n",
      "0\n",
      "aws s3 cp \"s3://mousebrainatlas-data/CSHL_data_processed/MD589/MD589_prep2_lossless_grayJpeg/MD589-N69-2015.07.30-20.46.59_MD589_3_0207_prep2_lossless_grayJpeg.jpg\" \"/media/yuncong/BstemAtlasData/CSHL_data_processed/MD589/MD589_prep2_lossless_grayJpeg/MD589-N69-2015.07.30-20.46.59_MD589_3_0207_prep2_lossless_grayJpeg.jpg\"\n",
      "0\n"
     ]
    },
    {
     "name": "stderr",
     "output_type": "stream",
     "text": [
      "Not using image_cache.\n"
     ]
    },
    {
     "name": "stdout",
     "output_type": "stream",
     "text": [
      "/media/yuncong/BstemAtlasData/CSHL_data_processed/MD589/MD589_prep2_lossless_grayJpeg/MD589-N69-2015.07.30-20.46.59_MD589_3_0207_prep2_lossless_grayJpeg.jpg\n"
     ]
    },
    {
     "name": "stderr",
     "output_type": "stream",
     "text": [
      "Load background image: 3.09 seconds\n",
      "Rescale background image to output resolution: 2.18 seconds\n",
      "Predict scores Tz: 0.10 seconds\n",
      "Rescample scoremap Tz: 0.06 seconds\n",
      "Load and rescale background image: 0.00 seconds\n",
      "Generate scoremap overlay: 0.06 seconds.\n",
      "Scoremap size does not match background image size. Need to resize: 0.06 seconds.\n",
      "Genearte scoremap overlay image Tz: 0.14 seconds\n",
      "Predict scores VCA: 0.10 seconds\n"
     ]
    },
    {
     "name": "stdout",
     "output_type": "stream",
     "text": [
      "(549, 714, 3) (549, 714)\n"
     ]
    },
    {
     "name": "stderr",
     "output_type": "stream",
     "text": [
      "Rescample scoremap VCA: 0.06 seconds\n",
      "Load and rescale background image: 0.00 seconds\n",
      "Generate scoremap overlay: 0.05 seconds.\n",
      "Scoremap size does not match background image size. Need to resize: 0.05 seconds.\n",
      "Genearte scoremap overlay image VCA: 0.13 seconds\n"
     ]
    },
    {
     "name": "stdout",
     "output_type": "stream",
     "text": [
      "(549, 714, 3) (549, 714)\n"
     ]
    },
    {
     "name": "stderr",
     "output_type": "stream",
     "text": [
      "Predict scores 7n: 0.10 seconds\n",
      "Rescample scoremap 7n: 0.06 seconds\n",
      "Load and rescale background image: 0.00 seconds\n",
      "Generate scoremap overlay: 0.05 seconds.\n",
      "Scoremap size does not match background image size. Need to resize: 0.05 seconds.\n",
      "Genearte scoremap overlay image 7n: 0.13 seconds\n"
     ]
    },
    {
     "name": "stdout",
     "output_type": "stream",
     "text": [
      "(549, 714, 3) (549, 714)\n"
     ]
    },
    {
     "name": "stderr",
     "output_type": "stream",
     "text": [
      "Predict scores DC: 0.10 seconds\n",
      "Rescample scoremap DC: 0.06 seconds\n",
      "Load and rescale background image: 0.00 seconds\n",
      "Generate scoremap overlay: 0.05 seconds.\n",
      "Scoremap size does not match background image size. Need to resize: 0.05 seconds.\n",
      "Genearte scoremap overlay image DC: 0.14 seconds\n"
     ]
    },
    {
     "name": "stdout",
     "output_type": "stream",
     "text": [
      "(549, 714, 3) (549, 714)\n"
     ]
    },
    {
     "name": "stderr",
     "output_type": "stream",
     "text": [
      "Predict scores 5N: 0.10 seconds\n",
      "Rescample scoremap 5N: 0.06 seconds\n",
      "Load and rescale background image: 0.00 seconds\n",
      "Generate scoremap overlay: 0.05 seconds.\n",
      "Scoremap size does not match background image size. Need to resize: 0.05 seconds.\n",
      "Genearte scoremap overlay image 5N: 0.13 seconds\n"
     ]
    },
    {
     "name": "stdout",
     "output_type": "stream",
     "text": [
      "(549, 714, 3) (549, 714)\n"
     ]
    },
    {
     "name": "stderr",
     "output_type": "stream",
     "text": [
      "Predict scores 3N: 0.10 seconds\n",
      "Rescample scoremap 3N: 0.06 seconds\n",
      "Load and rescale background image: 0.00 seconds\n",
      "Generate scoremap overlay: 0.05 seconds.\n",
      "Scoremap size does not match background image size. Need to resize: 0.05 seconds.\n",
      "Genearte scoremap overlay image 3N: 0.14 seconds\n"
     ]
    },
    {
     "name": "stdout",
     "output_type": "stream",
     "text": [
      "(549, 714, 3) (549, 714)\n"
     ]
    },
    {
     "name": "stderr",
     "output_type": "stream",
     "text": [
      "Predict scores Pn: 0.10 seconds\n",
      "Rescample scoremap Pn: 0.06 seconds\n",
      "Load and rescale background image: 0.00 seconds\n",
      "Generate scoremap overlay: 0.05 seconds.\n",
      "Scoremap size does not match background image size. Need to resize: 0.05 seconds.\n",
      "Genearte scoremap overlay image Pn: 0.14 seconds\n"
     ]
    },
    {
     "name": "stdout",
     "output_type": "stream",
     "text": [
      "(549, 714, 3) (549, 714)\n"
     ]
    },
    {
     "name": "stderr",
     "output_type": "stream",
     "text": [
      "Predict scores 10N: 0.10 seconds\n",
      "Rescample scoremap 10N: 0.06 seconds\n",
      "Load and rescale background image: 0.00 seconds\n",
      "Generate scoremap overlay: 0.05 seconds.\n",
      "Scoremap size does not match background image size. Need to resize: 0.05 seconds.\n",
      "Genearte scoremap overlay image 10N: 0.13 seconds\n"
     ]
    },
    {
     "name": "stdout",
     "output_type": "stream",
     "text": [
      "(549, 714, 3) (549, 714)\n"
     ]
    },
    {
     "name": "stderr",
     "output_type": "stream",
     "text": [
      "Predict scores LC: 0.10 seconds\n",
      "Rescample scoremap LC: 0.06 seconds\n",
      "Load and rescale background image: 0.00 seconds\n",
      "Generate scoremap overlay: 0.05 seconds.\n",
      "Scoremap size does not match background image size. Need to resize: 0.05 seconds.\n",
      "Genearte scoremap overlay image LC: 0.13 seconds\n"
     ]
    },
    {
     "name": "stdout",
     "output_type": "stream",
     "text": [
      "(549, 714, 3) (549, 714)\n"
     ]
    },
    {
     "name": "stderr",
     "output_type": "stream",
     "text": [
      "Predict scores 7N: 0.10 seconds\n",
      "Rescample scoremap 7N: 0.06 seconds\n",
      "Load and rescale background image: 0.00 seconds\n",
      "Generate scoremap overlay: 0.05 seconds.\n",
      "Scoremap size does not match background image size. Need to resize: 0.05 seconds.\n",
      "Genearte scoremap overlay image 7N: 0.13 seconds\n"
     ]
    },
    {
     "name": "stdout",
     "output_type": "stream",
     "text": [
      "(549, 714, 3) (549, 714)\n"
     ]
    },
    {
     "name": "stderr",
     "output_type": "stream",
     "text": [
      "Predict scores Amb: 0.10 seconds\n",
      "Rescample scoremap Amb: 0.06 seconds\n",
      "Load and rescale background image: 0.00 seconds\n",
      "Generate scoremap overlay: 0.05 seconds.\n",
      "Scoremap size does not match background image size. Need to resize: 0.05 seconds.\n",
      "Genearte scoremap overlay image Amb: 0.13 seconds\n"
     ]
    },
    {
     "name": "stdout",
     "output_type": "stream",
     "text": [
      "(549, 714, 3) (549, 714)\n"
     ]
    },
    {
     "name": "stderr",
     "output_type": "stream",
     "text": [
      "Predict scores 12N: 0.10 seconds\n",
      "Rescample scoremap 12N: 0.06 seconds\n",
      "Load and rescale background image: 0.00 seconds\n",
      "Generate scoremap overlay: 0.05 seconds.\n",
      "Scoremap size does not match background image size. Need to resize: 0.05 seconds.\n",
      "Genearte scoremap overlay image 12N: 0.13 seconds\n"
     ]
    },
    {
     "name": "stdout",
     "output_type": "stream",
     "text": [
      "(549, 714, 3) (549, 714)\n"
     ]
    },
    {
     "name": "stderr",
     "output_type": "stream",
     "text": [
      "Predict scores RMC: 0.10 seconds\n",
      "Rescample scoremap RMC: 0.06 seconds\n",
      "Load and rescale background image: 0.00 seconds\n",
      "Generate scoremap overlay: 0.05 seconds.\n",
      "Scoremap size does not match background image size. Need to resize: 0.05 seconds.\n",
      "Genearte scoremap overlay image RMC: 0.14 seconds\n"
     ]
    },
    {
     "name": "stdout",
     "output_type": "stream",
     "text": [
      "(549, 714, 3) (549, 714)\n"
     ]
    },
    {
     "name": "stderr",
     "output_type": "stream",
     "text": [
      "Predict scores Sp5O: 0.10 seconds\n",
      "Rescample scoremap Sp5O: 0.06 seconds\n",
      "Load and rescale background image: 0.00 seconds\n",
      "Generate scoremap overlay: 0.05 seconds.\n",
      "Scoremap size does not match background image size. Need to resize: 0.05 seconds.\n",
      "Genearte scoremap overlay image Sp5O: 0.14 seconds\n"
     ]
    },
    {
     "name": "stdout",
     "output_type": "stream",
     "text": [
      "(549, 714, 3) (549, 714)\n"
     ]
    },
    {
     "name": "stderr",
     "output_type": "stream",
     "text": [
      "Predict scores Sp5I: 0.10 seconds\n",
      "Rescample scoremap Sp5I: 0.06 seconds\n",
      "Load and rescale background image: 0.00 seconds\n",
      "Generate scoremap overlay: 0.05 seconds.\n",
      "Scoremap size does not match background image size. Need to resize: 0.05 seconds.\n",
      "Genearte scoremap overlay image Sp5I: 0.14 seconds\n"
     ]
    },
    {
     "name": "stdout",
     "output_type": "stream",
     "text": [
      "(549, 714, 3) (549, 714)\n"
     ]
    },
    {
     "name": "stderr",
     "output_type": "stream",
     "text": [
      "Predict scores Sp5C: 0.11 seconds\n",
      "Rescample scoremap Sp5C: 0.06 seconds\n",
      "Load and rescale background image: 0.00 seconds\n",
      "Generate scoremap overlay: 0.06 seconds.\n",
      "Scoremap size does not match background image size. Need to resize: 0.05 seconds.\n"
     ]
    },
    {
     "name": "stdout",
     "output_type": "stream",
     "text": [
      "(549, 714, 3) (549, 714)\n"
     ]
    },
    {
     "name": "stderr",
     "output_type": "stream",
     "text": [
      "Genearte scoremap overlay image Sp5C: 0.15 seconds\n",
      "Predict scores VCP: 0.10 seconds\n",
      "Rescample scoremap VCP: 0.06 seconds\n",
      "Load and rescale background image: 0.00 seconds\n",
      "Generate scoremap overlay: 0.05 seconds.\n",
      "Scoremap size does not match background image size. Need to resize: 0.05 seconds.\n",
      "Genearte scoremap overlay image VCP: 0.14 seconds\n",
      "Predict scores AP: 0.10 seconds\n"
     ]
    },
    {
     "name": "stdout",
     "output_type": "stream",
     "text": [
      "(549, 714, 3) (549, 714)\n"
     ]
    },
    {
     "name": "stderr",
     "output_type": "stream",
     "text": [
      "Rescample scoremap AP: 0.06 seconds\n",
      "Load and rescale background image: 0.00 seconds\n",
      "Generate scoremap overlay: 0.05 seconds.\n",
      "Scoremap size does not match background image size. Need to resize: 0.05 seconds.\n",
      "Genearte scoremap overlay image AP: 0.13 seconds\n"
     ]
    },
    {
     "name": "stdout",
     "output_type": "stream",
     "text": [
      "(549, 714, 3) (549, 714)\n"
     ]
    },
    {
     "name": "stderr",
     "output_type": "stream",
     "text": [
      "Predict scores PBG: 0.10 seconds\n",
      "Rescample scoremap PBG: 0.06 seconds\n",
      "Load and rescale background image: 0.00 seconds\n",
      "Generate scoremap overlay: 0.05 seconds.\n",
      "Scoremap size does not match background image size. Need to resize: 0.05 seconds.\n",
      "Genearte scoremap overlay image PBG: 0.14 seconds\n"
     ]
    },
    {
     "name": "stdout",
     "output_type": "stream",
     "text": [
      "(549, 714, 3) (549, 714)\n"
     ]
    },
    {
     "name": "stderr",
     "output_type": "stream",
     "text": [
      "Predict scores LRt: 0.10 seconds\n",
      "Rescample scoremap LRt: 0.06 seconds\n",
      "Load and rescale background image: 0.00 seconds\n",
      "Generate scoremap overlay: 0.05 seconds.\n",
      "Scoremap size does not match background image size. Need to resize: 0.05 seconds.\n",
      "Genearte scoremap overlay image LRt: 0.14 seconds\n"
     ]
    },
    {
     "name": "stdout",
     "output_type": "stream",
     "text": [
      "(549, 714, 3) (549, 714)\n"
     ]
    },
    {
     "name": "stderr",
     "output_type": "stream",
     "text": [
      "Predict scores IC: 0.10 seconds\n",
      "Rescample scoremap IC: 0.06 seconds\n",
      "Load and rescale background image: 0.00 seconds\n",
      "Generate scoremap overlay: 0.05 seconds.\n",
      "Scoremap size does not match background image size. Need to resize: 0.05 seconds.\n",
      "Genearte scoremap overlay image IC: 0.14 seconds\n"
     ]
    },
    {
     "name": "stdout",
     "output_type": "stream",
     "text": [
      "(549, 714, 3) (549, 714)\n"
     ]
    },
    {
     "name": "stderr",
     "output_type": "stream",
     "text": [
      "Predict scores VLL: 0.10 seconds\n",
      "Rescample scoremap VLL: 0.06 seconds\n",
      "Load and rescale background image: 0.00 seconds\n",
      "Generate scoremap overlay: 0.05 seconds.\n",
      "Scoremap size does not match background image size. Need to resize: 0.05 seconds.\n",
      "Genearte scoremap overlay image VLL: 0.14 seconds\n"
     ]
    },
    {
     "name": "stdout",
     "output_type": "stream",
     "text": [
      "(549, 714, 3) (549, 714)\n"
     ]
    },
    {
     "name": "stderr",
     "output_type": "stream",
     "text": [
      "Predict scores 4N: 0.10 seconds\n",
      "Rescample scoremap 4N: 0.06 seconds\n",
      "Load and rescale background image: 0.00 seconds\n",
      "Generate scoremap overlay: 0.05 seconds.\n",
      "Scoremap size does not match background image size. Need to resize: 0.05 seconds.\n",
      "Genearte scoremap overlay image 4N: 0.13 seconds\n"
     ]
    },
    {
     "name": "stdout",
     "output_type": "stream",
     "text": [
      "(549, 714, 3) (549, 714)\n"
     ]
    },
    {
     "name": "stderr",
     "output_type": "stream",
     "text": [
      "Predict scores SNC: 0.10 seconds\n",
      "Rescample scoremap SNC: 0.06 seconds\n",
      "Load and rescale background image: 0.00 seconds\n",
      "Generate scoremap overlay: 0.05 seconds.\n",
      "Scoremap size does not match background image size. Need to resize: 0.05 seconds.\n",
      "Genearte scoremap overlay image SNC: 0.14 seconds\n"
     ]
    },
    {
     "name": "stdout",
     "output_type": "stream",
     "text": [
      "(549, 714, 3) (549, 714)\n"
     ]
    },
    {
     "name": "stderr",
     "output_type": "stream",
     "text": [
      "Predict scores 6N: 0.10 seconds\n",
      "Rescample scoremap 6N: 0.06 seconds\n",
      "Load and rescale background image: 0.00 seconds\n",
      "Generate scoremap overlay: 0.05 seconds.\n",
      "Scoremap size does not match background image size. Need to resize: 0.05 seconds.\n",
      "Genearte scoremap overlay image 6N: 0.14 seconds\n"
     ]
    },
    {
     "name": "stdout",
     "output_type": "stream",
     "text": [
      "(549, 714, 3) (549, 714)\n"
     ]
    },
    {
     "name": "stderr",
     "output_type": "stream",
     "text": [
      "Predict scores SNR: 0.11 seconds\n",
      "Rescample scoremap SNR: 0.06 seconds\n",
      "Load and rescale background image: 0.00 seconds\n",
      "Generate scoremap overlay: 0.05 seconds.\n",
      "Scoremap size does not match background image size. Need to resize: 0.05 seconds.\n",
      "Genearte scoremap overlay image SNR: 0.13 seconds\n"
     ]
    },
    {
     "name": "stdout",
     "output_type": "stream",
     "text": [
      "(549, 714, 3) (549, 714)\n"
     ]
    },
    {
     "name": "stderr",
     "output_type": "stream",
     "text": [
      "Predict scores SC: 0.10 seconds\n",
      "Rescample scoremap SC: 0.06 seconds\n",
      "Load and rescale background image: 0.00 seconds\n",
      "Generate scoremap overlay: 0.05 seconds.\n",
      "Scoremap size does not match background image size. Need to resize: 0.05 seconds.\n",
      "Genearte scoremap overlay image SC: 0.14 seconds\n"
     ]
    },
    {
     "name": "stdout",
     "output_type": "stream",
     "text": [
      "(549, 714, 3) (549, 714)\n"
     ]
    },
    {
     "name": "stderr",
     "output_type": "stream",
     "text": [
      "Predict scores RtTg: 0.10 seconds\n",
      "Rescample scoremap RtTg: 0.06 seconds\n",
      "Load and rescale background image: 0.00 seconds\n",
      "Generate scoremap overlay: 0.05 seconds.\n",
      "Scoremap size does not match background image size. Need to resize: 0.05 seconds.\n",
      "Genearte scoremap overlay image RtTg: 0.14 seconds\n"
     ]
    },
    {
     "name": "stdout",
     "output_type": "stream",
     "text": [
      "(549, 714, 3) (549, 714)\n",
      "aws s3 cp \"/home/yuncong/CSHL_scoremaps/10.0um/MD589/MD589_prep2_10.0um_detector998/MD589-N69-2015.07.30-20.46.59_MD589_3_0207_prep2_10.0um_detector998/MD589-N69-2015.07.30-20.46.59_MD589_3_0207_prep2_10.0um_detector998_Tz_scoremap.bp\" \"s3://mousebrainatlas-data/CSHL_scoremaps/10.0um/MD589/MD589_prep2_10.0um_detector998/MD589-N69-2015.07.30-20.46.59_MD589_3_0207_prep2_10.0um_detector998/MD589-N69-2015.07.30-20.46.59_MD589_3_0207_prep2_10.0um_detector998_Tz_scoremap.bp\"\n",
      "0\n",
      "aws s3 cp \"/home/yuncong/CSHL_scoremap_viz/10.0um/Tz/MD589/detector998/prep2/MD589-N69-2015.07.30-20.46.59_MD589_3_0207_prep2_10.0um_Tz_detector998_scoremapViz.jpg\" \"s3://mousebrainatlas-data/CSHL_scoremap_viz/10.0um/Tz/MD589/detector998/prep2/MD589-N69-2015.07.30-20.46.59_MD589_3_0207_prep2_10.0um_Tz_detector998_scoremapViz.jpg\"\n",
      "0\n",
      "aws s3 cp \"/home/yuncong/CSHL_scoremaps/10.0um/MD589/MD589_prep2_10.0um_detector998/MD589-N69-2015.07.30-20.46.59_MD589_3_0207_prep2_10.0um_detector998/MD589-N69-2015.07.30-20.46.59_MD589_3_0207_prep2_10.0um_detector998_VCA_scoremap.bp\" \"s3://mousebrainatlas-data/CSHL_scoremaps/10.0um/MD589/MD589_prep2_10.0um_detector998/MD589-N69-2015.07.30-20.46.59_MD589_3_0207_prep2_10.0um_detector998/MD589-N69-2015.07.30-20.46.59_MD589_3_0207_prep2_10.0um_detector998_VCA_scoremap.bp\"\n",
      "0\n",
      "aws s3 cp \"/home/yuncong/CSHL_scoremap_viz/10.0um/VCA/MD589/detector998/prep2/MD589-N69-2015.07.30-20.46.59_MD589_3_0207_prep2_10.0um_VCA_detector998_scoremapViz.jpg\" \"s3://mousebrainatlas-data/CSHL_scoremap_viz/10.0um/VCA/MD589/detector998/prep2/MD589-N69-2015.07.30-20.46.59_MD589_3_0207_prep2_10.0um_VCA_detector998_scoremapViz.jpg\"\n",
      "0\n",
      "aws s3 cp \"/home/yuncong/CSHL_scoremaps/10.0um/MD589/MD589_prep2_10.0um_detector998/MD589-N69-2015.07.30-20.46.59_MD589_3_0207_prep2_10.0um_detector998/MD589-N69-2015.07.30-20.46.59_MD589_3_0207_prep2_10.0um_detector998_7n_scoremap.bp\" \"s3://mousebrainatlas-data/CSHL_scoremaps/10.0um/MD589/MD589_prep2_10.0um_detector998/MD589-N69-2015.07.30-20.46.59_MD589_3_0207_prep2_10.0um_detector998/MD589-N69-2015.07.30-20.46.59_MD589_3_0207_prep2_10.0um_detector998_7n_scoremap.bp\"\n",
      "0\n",
      "aws s3 cp \"/home/yuncong/CSHL_scoremap_viz/10.0um/7n/MD589/detector998/prep2/MD589-N69-2015.07.30-20.46.59_MD589_3_0207_prep2_10.0um_7n_detector998_scoremapViz.jpg\" \"s3://mousebrainatlas-data/CSHL_scoremap_viz/10.0um/7n/MD589/detector998/prep2/MD589-N69-2015.07.30-20.46.59_MD589_3_0207_prep2_10.0um_7n_detector998_scoremapViz.jpg\"\n",
      "0\n",
      "aws s3 cp \"/home/yuncong/CSHL_scoremaps/10.0um/MD589/MD589_prep2_10.0um_detector998/MD589-N69-2015.07.30-20.46.59_MD589_3_0207_prep2_10.0um_detector998/MD589-N69-2015.07.30-20.46.59_MD589_3_0207_prep2_10.0um_detector998_DC_scoremap.bp\" \"s3://mousebrainatlas-data/CSHL_scoremaps/10.0um/MD589/MD589_prep2_10.0um_detector998/MD589-N69-2015.07.30-20.46.59_MD589_3_0207_prep2_10.0um_detector998/MD589-N69-2015.07.30-20.46.59_MD589_3_0207_prep2_10.0um_detector998_DC_scoremap.bp\"\n",
      "0\n",
      "aws s3 cp \"/home/yuncong/CSHL_scoremap_viz/10.0um/DC/MD589/detector998/prep2/MD589-N69-2015.07.30-20.46.59_MD589_3_0207_prep2_10.0um_DC_detector998_scoremapViz.jpg\" \"s3://mousebrainatlas-data/CSHL_scoremap_viz/10.0um/DC/MD589/detector998/prep2/MD589-N69-2015.07.30-20.46.59_MD589_3_0207_prep2_10.0um_DC_detector998_scoremapViz.jpg\"\n",
      "0\n",
      "aws s3 cp \"/home/yuncong/CSHL_scoremaps/10.0um/MD589/MD589_prep2_10.0um_detector998/MD589-N69-2015.07.30-20.46.59_MD589_3_0207_prep2_10.0um_detector998/MD589-N69-2015.07.30-20.46.59_MD589_3_0207_prep2_10.0um_detector998_5N_scoremap.bp\" \"s3://mousebrainatlas-data/CSHL_scoremaps/10.0um/MD589/MD589_prep2_10.0um_detector998/MD589-N69-2015.07.30-20.46.59_MD589_3_0207_prep2_10.0um_detector998/MD589-N69-2015.07.30-20.46.59_MD589_3_0207_prep2_10.0um_detector998_5N_scoremap.bp\"\n",
      "0\n",
      "aws s3 cp \"/home/yuncong/CSHL_scoremap_viz/10.0um/5N/MD589/detector998/prep2/MD589-N69-2015.07.30-20.46.59_MD589_3_0207_prep2_10.0um_5N_detector998_scoremapViz.jpg\" \"s3://mousebrainatlas-data/CSHL_scoremap_viz/10.0um/5N/MD589/detector998/prep2/MD589-N69-2015.07.30-20.46.59_MD589_3_0207_prep2_10.0um_5N_detector998_scoremapViz.jpg\"\n",
      "0\n",
      "aws s3 cp \"/home/yuncong/CSHL_scoremaps/10.0um/MD589/MD589_prep2_10.0um_detector998/MD589-N69-2015.07.30-20.46.59_MD589_3_0207_prep2_10.0um_detector998/MD589-N69-2015.07.30-20.46.59_MD589_3_0207_prep2_10.0um_detector998_3N_scoremap.bp\" \"s3://mousebrainatlas-data/CSHL_scoremaps/10.0um/MD589/MD589_prep2_10.0um_detector998/MD589-N69-2015.07.30-20.46.59_MD589_3_0207_prep2_10.0um_detector998/MD589-N69-2015.07.30-20.46.59_MD589_3_0207_prep2_10.0um_detector998_3N_scoremap.bp\"\n",
      "0\n",
      "aws s3 cp \"/home/yuncong/CSHL_scoremap_viz/10.0um/3N/MD589/detector998/prep2/MD589-N69-2015.07.30-20.46.59_MD589_3_0207_prep2_10.0um_3N_detector998_scoremapViz.jpg\" \"s3://mousebrainatlas-data/CSHL_scoremap_viz/10.0um/3N/MD589/detector998/prep2/MD589-N69-2015.07.30-20.46.59_MD589_3_0207_prep2_10.0um_3N_detector998_scoremapViz.jpg\"\n",
      "0\n",
      "aws s3 cp \"/home/yuncong/CSHL_scoremaps/10.0um/MD589/MD589_prep2_10.0um_detector998/MD589-N69-2015.07.30-20.46.59_MD589_3_0207_prep2_10.0um_detector998/MD589-N69-2015.07.30-20.46.59_MD589_3_0207_prep2_10.0um_detector998_Pn_scoremap.bp\" \"s3://mousebrainatlas-data/CSHL_scoremaps/10.0um/MD589/MD589_prep2_10.0um_detector998/MD589-N69-2015.07.30-20.46.59_MD589_3_0207_prep2_10.0um_detector998/MD589-N69-2015.07.30-20.46.59_MD589_3_0207_prep2_10.0um_detector998_Pn_scoremap.bp\"\n",
      "0\n",
      "aws s3 cp \"/home/yuncong/CSHL_scoremap_viz/10.0um/Pn/MD589/detector998/prep2/MD589-N69-2015.07.30-20.46.59_MD589_3_0207_prep2_10.0um_Pn_detector998_scoremapViz.jpg\" \"s3://mousebrainatlas-data/CSHL_scoremap_viz/10.0um/Pn/MD589/detector998/prep2/MD589-N69-2015.07.30-20.46.59_MD589_3_0207_prep2_10.0um_Pn_detector998_scoremapViz.jpg\"\n",
      "0\n",
      "aws s3 cp \"/home/yuncong/CSHL_scoremaps/10.0um/MD589/MD589_prep2_10.0um_detector998/MD589-N69-2015.07.30-20.46.59_MD589_3_0207_prep2_10.0um_detector998/MD589-N69-2015.07.30-20.46.59_MD589_3_0207_prep2_10.0um_detector998_10N_scoremap.bp\" \"s3://mousebrainatlas-data/CSHL_scoremaps/10.0um/MD589/MD589_prep2_10.0um_detector998/MD589-N69-2015.07.30-20.46.59_MD589_3_0207_prep2_10.0um_detector998/MD589-N69-2015.07.30-20.46.59_MD589_3_0207_prep2_10.0um_detector998_10N_scoremap.bp\"\n",
      "0\n",
      "aws s3 cp \"/home/yuncong/CSHL_scoremap_viz/10.0um/10N/MD589/detector998/prep2/MD589-N69-2015.07.30-20.46.59_MD589_3_0207_prep2_10.0um_10N_detector998_scoremapViz.jpg\" \"s3://mousebrainatlas-data/CSHL_scoremap_viz/10.0um/10N/MD589/detector998/prep2/MD589-N69-2015.07.30-20.46.59_MD589_3_0207_prep2_10.0um_10N_detector998_scoremapViz.jpg\"\n",
      "0\n",
      "aws s3 cp \"/home/yuncong/CSHL_scoremaps/10.0um/MD589/MD589_prep2_10.0um_detector998/MD589-N69-2015.07.30-20.46.59_MD589_3_0207_prep2_10.0um_detector998/MD589-N69-2015.07.30-20.46.59_MD589_3_0207_prep2_10.0um_detector998_LC_scoremap.bp\" \"s3://mousebrainatlas-data/CSHL_scoremaps/10.0um/MD589/MD589_prep2_10.0um_detector998/MD589-N69-2015.07.30-20.46.59_MD589_3_0207_prep2_10.0um_detector998/MD589-N69-2015.07.30-20.46.59_MD589_3_0207_prep2_10.0um_detector998_LC_scoremap.bp\"\n",
      "0\n",
      "aws s3 cp \"/home/yuncong/CSHL_scoremap_viz/10.0um/LC/MD589/detector998/prep2/MD589-N69-2015.07.30-20.46.59_MD589_3_0207_prep2_10.0um_LC_detector998_scoremapViz.jpg\" \"s3://mousebrainatlas-data/CSHL_scoremap_viz/10.0um/LC/MD589/detector998/prep2/MD589-N69-2015.07.30-20.46.59_MD589_3_0207_prep2_10.0um_LC_detector998_scoremapViz.jpg\"\n",
      "0\n",
      "aws s3 cp \"/home/yuncong/CSHL_scoremaps/10.0um/MD589/MD589_prep2_10.0um_detector998/MD589-N69-2015.07.30-20.46.59_MD589_3_0207_prep2_10.0um_detector998/MD589-N69-2015.07.30-20.46.59_MD589_3_0207_prep2_10.0um_detector998_7N_scoremap.bp\" \"s3://mousebrainatlas-data/CSHL_scoremaps/10.0um/MD589/MD589_prep2_10.0um_detector998/MD589-N69-2015.07.30-20.46.59_MD589_3_0207_prep2_10.0um_detector998/MD589-N69-2015.07.30-20.46.59_MD589_3_0207_prep2_10.0um_detector998_7N_scoremap.bp\"\n",
      "0\n",
      "aws s3 cp \"/home/yuncong/CSHL_scoremap_viz/10.0um/7N/MD589/detector998/prep2/MD589-N69-2015.07.30-20.46.59_MD589_3_0207_prep2_10.0um_7N_detector998_scoremapViz.jpg\" \"s3://mousebrainatlas-data/CSHL_scoremap_viz/10.0um/7N/MD589/detector998/prep2/MD589-N69-2015.07.30-20.46.59_MD589_3_0207_prep2_10.0um_7N_detector998_scoremapViz.jpg\"\n",
      "0\n",
      "aws s3 cp \"/home/yuncong/CSHL_scoremaps/10.0um/MD589/MD589_prep2_10.0um_detector998/MD589-N69-2015.07.30-20.46.59_MD589_3_0207_prep2_10.0um_detector998/MD589-N69-2015.07.30-20.46.59_MD589_3_0207_prep2_10.0um_detector998_Amb_scoremap.bp\" \"s3://mousebrainatlas-data/CSHL_scoremaps/10.0um/MD589/MD589_prep2_10.0um_detector998/MD589-N69-2015.07.30-20.46.59_MD589_3_0207_prep2_10.0um_detector998/MD589-N69-2015.07.30-20.46.59_MD589_3_0207_prep2_10.0um_detector998_Amb_scoremap.bp\"\n"
     ]
    },
    {
     "name": "stdout",
     "output_type": "stream",
     "text": [
      "0\n",
      "aws s3 cp \"/home/yuncong/CSHL_scoremap_viz/10.0um/Amb/MD589/detector998/prep2/MD589-N69-2015.07.30-20.46.59_MD589_3_0207_prep2_10.0um_Amb_detector998_scoremapViz.jpg\" \"s3://mousebrainatlas-data/CSHL_scoremap_viz/10.0um/Amb/MD589/detector998/prep2/MD589-N69-2015.07.30-20.46.59_MD589_3_0207_prep2_10.0um_Amb_detector998_scoremapViz.jpg\"\n",
      "0\n",
      "aws s3 cp \"/home/yuncong/CSHL_scoremaps/10.0um/MD589/MD589_prep2_10.0um_detector998/MD589-N69-2015.07.30-20.46.59_MD589_3_0207_prep2_10.0um_detector998/MD589-N69-2015.07.30-20.46.59_MD589_3_0207_prep2_10.0um_detector998_12N_scoremap.bp\" \"s3://mousebrainatlas-data/CSHL_scoremaps/10.0um/MD589/MD589_prep2_10.0um_detector998/MD589-N69-2015.07.30-20.46.59_MD589_3_0207_prep2_10.0um_detector998/MD589-N69-2015.07.30-20.46.59_MD589_3_0207_prep2_10.0um_detector998_12N_scoremap.bp\"\n",
      "0\n",
      "aws s3 cp \"/home/yuncong/CSHL_scoremap_viz/10.0um/12N/MD589/detector998/prep2/MD589-N69-2015.07.30-20.46.59_MD589_3_0207_prep2_10.0um_12N_detector998_scoremapViz.jpg\" \"s3://mousebrainatlas-data/CSHL_scoremap_viz/10.0um/12N/MD589/detector998/prep2/MD589-N69-2015.07.30-20.46.59_MD589_3_0207_prep2_10.0um_12N_detector998_scoremapViz.jpg\"\n",
      "0\n",
      "aws s3 cp \"/home/yuncong/CSHL_scoremaps/10.0um/MD589/MD589_prep2_10.0um_detector998/MD589-N69-2015.07.30-20.46.59_MD589_3_0207_prep2_10.0um_detector998/MD589-N69-2015.07.30-20.46.59_MD589_3_0207_prep2_10.0um_detector998_RMC_scoremap.bp\" \"s3://mousebrainatlas-data/CSHL_scoremaps/10.0um/MD589/MD589_prep2_10.0um_detector998/MD589-N69-2015.07.30-20.46.59_MD589_3_0207_prep2_10.0um_detector998/MD589-N69-2015.07.30-20.46.59_MD589_3_0207_prep2_10.0um_detector998_RMC_scoremap.bp\"\n",
      "0\n",
      "aws s3 cp \"/home/yuncong/CSHL_scoremap_viz/10.0um/RMC/MD589/detector998/prep2/MD589-N69-2015.07.30-20.46.59_MD589_3_0207_prep2_10.0um_RMC_detector998_scoremapViz.jpg\" \"s3://mousebrainatlas-data/CSHL_scoremap_viz/10.0um/RMC/MD589/detector998/prep2/MD589-N69-2015.07.30-20.46.59_MD589_3_0207_prep2_10.0um_RMC_detector998_scoremapViz.jpg\"\n",
      "0\n",
      "aws s3 cp \"/home/yuncong/CSHL_scoremaps/10.0um/MD589/MD589_prep2_10.0um_detector998/MD589-N69-2015.07.30-20.46.59_MD589_3_0207_prep2_10.0um_detector998/MD589-N69-2015.07.30-20.46.59_MD589_3_0207_prep2_10.0um_detector998_Sp5O_scoremap.bp\" \"s3://mousebrainatlas-data/CSHL_scoremaps/10.0um/MD589/MD589_prep2_10.0um_detector998/MD589-N69-2015.07.30-20.46.59_MD589_3_0207_prep2_10.0um_detector998/MD589-N69-2015.07.30-20.46.59_MD589_3_0207_prep2_10.0um_detector998_Sp5O_scoremap.bp\"\n",
      "0\n",
      "aws s3 cp \"/home/yuncong/CSHL_scoremap_viz/10.0um/Sp5O/MD589/detector998/prep2/MD589-N69-2015.07.30-20.46.59_MD589_3_0207_prep2_10.0um_Sp5O_detector998_scoremapViz.jpg\" \"s3://mousebrainatlas-data/CSHL_scoremap_viz/10.0um/Sp5O/MD589/detector998/prep2/MD589-N69-2015.07.30-20.46.59_MD589_3_0207_prep2_10.0um_Sp5O_detector998_scoremapViz.jpg\"\n",
      "0\n",
      "aws s3 cp \"/home/yuncong/CSHL_scoremaps/10.0um/MD589/MD589_prep2_10.0um_detector998/MD589-N69-2015.07.30-20.46.59_MD589_3_0207_prep2_10.0um_detector998/MD589-N69-2015.07.30-20.46.59_MD589_3_0207_prep2_10.0um_detector998_Sp5I_scoremap.bp\" \"s3://mousebrainatlas-data/CSHL_scoremaps/10.0um/MD589/MD589_prep2_10.0um_detector998/MD589-N69-2015.07.30-20.46.59_MD589_3_0207_prep2_10.0um_detector998/MD589-N69-2015.07.30-20.46.59_MD589_3_0207_prep2_10.0um_detector998_Sp5I_scoremap.bp\"\n",
      "0\n",
      "aws s3 cp \"/home/yuncong/CSHL_scoremap_viz/10.0um/Sp5I/MD589/detector998/prep2/MD589-N69-2015.07.30-20.46.59_MD589_3_0207_prep2_10.0um_Sp5I_detector998_scoremapViz.jpg\" \"s3://mousebrainatlas-data/CSHL_scoremap_viz/10.0um/Sp5I/MD589/detector998/prep2/MD589-N69-2015.07.30-20.46.59_MD589_3_0207_prep2_10.0um_Sp5I_detector998_scoremapViz.jpg\"\n",
      "0\n",
      "aws s3 cp \"/home/yuncong/CSHL_scoremaps/10.0um/MD589/MD589_prep2_10.0um_detector998/MD589-N69-2015.07.30-20.46.59_MD589_3_0207_prep2_10.0um_detector998/MD589-N69-2015.07.30-20.46.59_MD589_3_0207_prep2_10.0um_detector998_Sp5C_scoremap.bp\" \"s3://mousebrainatlas-data/CSHL_scoremaps/10.0um/MD589/MD589_prep2_10.0um_detector998/MD589-N69-2015.07.30-20.46.59_MD589_3_0207_prep2_10.0um_detector998/MD589-N69-2015.07.30-20.46.59_MD589_3_0207_prep2_10.0um_detector998_Sp5C_scoremap.bp\"\n",
      "0\n",
      "aws s3 cp \"/home/yuncong/CSHL_scoremap_viz/10.0um/Sp5C/MD589/detector998/prep2/MD589-N69-2015.07.30-20.46.59_MD589_3_0207_prep2_10.0um_Sp5C_detector998_scoremapViz.jpg\" \"s3://mousebrainatlas-data/CSHL_scoremap_viz/10.0um/Sp5C/MD589/detector998/prep2/MD589-N69-2015.07.30-20.46.59_MD589_3_0207_prep2_10.0um_Sp5C_detector998_scoremapViz.jpg\"\n",
      "0\n",
      "aws s3 cp \"/home/yuncong/CSHL_scoremaps/10.0um/MD589/MD589_prep2_10.0um_detector998/MD589-N69-2015.07.30-20.46.59_MD589_3_0207_prep2_10.0um_detector998/MD589-N69-2015.07.30-20.46.59_MD589_3_0207_prep2_10.0um_detector998_VCP_scoremap.bp\" \"s3://mousebrainatlas-data/CSHL_scoremaps/10.0um/MD589/MD589_prep2_10.0um_detector998/MD589-N69-2015.07.30-20.46.59_MD589_3_0207_prep2_10.0um_detector998/MD589-N69-2015.07.30-20.46.59_MD589_3_0207_prep2_10.0um_detector998_VCP_scoremap.bp\"\n",
      "0\n",
      "aws s3 cp \"/home/yuncong/CSHL_scoremap_viz/10.0um/VCP/MD589/detector998/prep2/MD589-N69-2015.07.30-20.46.59_MD589_3_0207_prep2_10.0um_VCP_detector998_scoremapViz.jpg\" \"s3://mousebrainatlas-data/CSHL_scoremap_viz/10.0um/VCP/MD589/detector998/prep2/MD589-N69-2015.07.30-20.46.59_MD589_3_0207_prep2_10.0um_VCP_detector998_scoremapViz.jpg\"\n",
      "0\n",
      "aws s3 cp \"/home/yuncong/CSHL_scoremaps/10.0um/MD589/MD589_prep2_10.0um_detector998/MD589-N69-2015.07.30-20.46.59_MD589_3_0207_prep2_10.0um_detector998/MD589-N69-2015.07.30-20.46.59_MD589_3_0207_prep2_10.0um_detector998_AP_scoremap.bp\" \"s3://mousebrainatlas-data/CSHL_scoremaps/10.0um/MD589/MD589_prep2_10.0um_detector998/MD589-N69-2015.07.30-20.46.59_MD589_3_0207_prep2_10.0um_detector998/MD589-N69-2015.07.30-20.46.59_MD589_3_0207_prep2_10.0um_detector998_AP_scoremap.bp\"\n",
      "0\n",
      "aws s3 cp \"/home/yuncong/CSHL_scoremap_viz/10.0um/AP/MD589/detector998/prep2/MD589-N69-2015.07.30-20.46.59_MD589_3_0207_prep2_10.0um_AP_detector998_scoremapViz.jpg\" \"s3://mousebrainatlas-data/CSHL_scoremap_viz/10.0um/AP/MD589/detector998/prep2/MD589-N69-2015.07.30-20.46.59_MD589_3_0207_prep2_10.0um_AP_detector998_scoremapViz.jpg\"\n",
      "0\n",
      "aws s3 cp \"/home/yuncong/CSHL_scoremaps/10.0um/MD589/MD589_prep2_10.0um_detector998/MD589-N69-2015.07.30-20.46.59_MD589_3_0207_prep2_10.0um_detector998/MD589-N69-2015.07.30-20.46.59_MD589_3_0207_prep2_10.0um_detector998_PBG_scoremap.bp\" \"s3://mousebrainatlas-data/CSHL_scoremaps/10.0um/MD589/MD589_prep2_10.0um_detector998/MD589-N69-2015.07.30-20.46.59_MD589_3_0207_prep2_10.0um_detector998/MD589-N69-2015.07.30-20.46.59_MD589_3_0207_prep2_10.0um_detector998_PBG_scoremap.bp\"\n",
      "0\n",
      "aws s3 cp \"/home/yuncong/CSHL_scoremap_viz/10.0um/PBG/MD589/detector998/prep2/MD589-N69-2015.07.30-20.46.59_MD589_3_0207_prep2_10.0um_PBG_detector998_scoremapViz.jpg\" \"s3://mousebrainatlas-data/CSHL_scoremap_viz/10.0um/PBG/MD589/detector998/prep2/MD589-N69-2015.07.30-20.46.59_MD589_3_0207_prep2_10.0um_PBG_detector998_scoremapViz.jpg\"\n",
      "0\n",
      "aws s3 cp \"/home/yuncong/CSHL_scoremaps/10.0um/MD589/MD589_prep2_10.0um_detector998/MD589-N69-2015.07.30-20.46.59_MD589_3_0207_prep2_10.0um_detector998/MD589-N69-2015.07.30-20.46.59_MD589_3_0207_prep2_10.0um_detector998_LRt_scoremap.bp\" \"s3://mousebrainatlas-data/CSHL_scoremaps/10.0um/MD589/MD589_prep2_10.0um_detector998/MD589-N69-2015.07.30-20.46.59_MD589_3_0207_prep2_10.0um_detector998/MD589-N69-2015.07.30-20.46.59_MD589_3_0207_prep2_10.0um_detector998_LRt_scoremap.bp\"\n",
      "0\n",
      "aws s3 cp \"/home/yuncong/CSHL_scoremap_viz/10.0um/LRt/MD589/detector998/prep2/MD589-N69-2015.07.30-20.46.59_MD589_3_0207_prep2_10.0um_LRt_detector998_scoremapViz.jpg\" \"s3://mousebrainatlas-data/CSHL_scoremap_viz/10.0um/LRt/MD589/detector998/prep2/MD589-N69-2015.07.30-20.46.59_MD589_3_0207_prep2_10.0um_LRt_detector998_scoremapViz.jpg\"\n",
      "0\n",
      "aws s3 cp \"/home/yuncong/CSHL_scoremaps/10.0um/MD589/MD589_prep2_10.0um_detector998/MD589-N69-2015.07.30-20.46.59_MD589_3_0207_prep2_10.0um_detector998/MD589-N69-2015.07.30-20.46.59_MD589_3_0207_prep2_10.0um_detector998_IC_scoremap.bp\" \"s3://mousebrainatlas-data/CSHL_scoremaps/10.0um/MD589/MD589_prep2_10.0um_detector998/MD589-N69-2015.07.30-20.46.59_MD589_3_0207_prep2_10.0um_detector998/MD589-N69-2015.07.30-20.46.59_MD589_3_0207_prep2_10.0um_detector998_IC_scoremap.bp\"\n",
      "0\n",
      "aws s3 cp \"/home/yuncong/CSHL_scoremap_viz/10.0um/IC/MD589/detector998/prep2/MD589-N69-2015.07.30-20.46.59_MD589_3_0207_prep2_10.0um_IC_detector998_scoremapViz.jpg\" \"s3://mousebrainatlas-data/CSHL_scoremap_viz/10.0um/IC/MD589/detector998/prep2/MD589-N69-2015.07.30-20.46.59_MD589_3_0207_prep2_10.0um_IC_detector998_scoremapViz.jpg\"\n"
     ]
    },
    {
     "name": "stdout",
     "output_type": "stream",
     "text": [
      "0\n",
      "aws s3 cp \"/home/yuncong/CSHL_scoremaps/10.0um/MD589/MD589_prep2_10.0um_detector998/MD589-N69-2015.07.30-20.46.59_MD589_3_0207_prep2_10.0um_detector998/MD589-N69-2015.07.30-20.46.59_MD589_3_0207_prep2_10.0um_detector998_VLL_scoremap.bp\" \"s3://mousebrainatlas-data/CSHL_scoremaps/10.0um/MD589/MD589_prep2_10.0um_detector998/MD589-N69-2015.07.30-20.46.59_MD589_3_0207_prep2_10.0um_detector998/MD589-N69-2015.07.30-20.46.59_MD589_3_0207_prep2_10.0um_detector998_VLL_scoremap.bp\"\n",
      "0\n",
      "aws s3 cp \"/home/yuncong/CSHL_scoremap_viz/10.0um/VLL/MD589/detector998/prep2/MD589-N69-2015.07.30-20.46.59_MD589_3_0207_prep2_10.0um_VLL_detector998_scoremapViz.jpg\" \"s3://mousebrainatlas-data/CSHL_scoremap_viz/10.0um/VLL/MD589/detector998/prep2/MD589-N69-2015.07.30-20.46.59_MD589_3_0207_prep2_10.0um_VLL_detector998_scoremapViz.jpg\"\n",
      "0\n",
      "aws s3 cp \"/home/yuncong/CSHL_scoremaps/10.0um/MD589/MD589_prep2_10.0um_detector998/MD589-N69-2015.07.30-20.46.59_MD589_3_0207_prep2_10.0um_detector998/MD589-N69-2015.07.30-20.46.59_MD589_3_0207_prep2_10.0um_detector998_4N_scoremap.bp\" \"s3://mousebrainatlas-data/CSHL_scoremaps/10.0um/MD589/MD589_prep2_10.0um_detector998/MD589-N69-2015.07.30-20.46.59_MD589_3_0207_prep2_10.0um_detector998/MD589-N69-2015.07.30-20.46.59_MD589_3_0207_prep2_10.0um_detector998_4N_scoremap.bp\"\n",
      "0\n",
      "aws s3 cp \"/home/yuncong/CSHL_scoremap_viz/10.0um/4N/MD589/detector998/prep2/MD589-N69-2015.07.30-20.46.59_MD589_3_0207_prep2_10.0um_4N_detector998_scoremapViz.jpg\" \"s3://mousebrainatlas-data/CSHL_scoremap_viz/10.0um/4N/MD589/detector998/prep2/MD589-N69-2015.07.30-20.46.59_MD589_3_0207_prep2_10.0um_4N_detector998_scoremapViz.jpg\"\n",
      "0\n",
      "aws s3 cp \"/home/yuncong/CSHL_scoremaps/10.0um/MD589/MD589_prep2_10.0um_detector998/MD589-N69-2015.07.30-20.46.59_MD589_3_0207_prep2_10.0um_detector998/MD589-N69-2015.07.30-20.46.59_MD589_3_0207_prep2_10.0um_detector998_SNC_scoremap.bp\" \"s3://mousebrainatlas-data/CSHL_scoremaps/10.0um/MD589/MD589_prep2_10.0um_detector998/MD589-N69-2015.07.30-20.46.59_MD589_3_0207_prep2_10.0um_detector998/MD589-N69-2015.07.30-20.46.59_MD589_3_0207_prep2_10.0um_detector998_SNC_scoremap.bp\"\n",
      "0\n",
      "aws s3 cp \"/home/yuncong/CSHL_scoremap_viz/10.0um/SNC/MD589/detector998/prep2/MD589-N69-2015.07.30-20.46.59_MD589_3_0207_prep2_10.0um_SNC_detector998_scoremapViz.jpg\" \"s3://mousebrainatlas-data/CSHL_scoremap_viz/10.0um/SNC/MD589/detector998/prep2/MD589-N69-2015.07.30-20.46.59_MD589_3_0207_prep2_10.0um_SNC_detector998_scoremapViz.jpg\"\n",
      "0\n",
      "aws s3 cp \"/home/yuncong/CSHL_scoremaps/10.0um/MD589/MD589_prep2_10.0um_detector998/MD589-N69-2015.07.30-20.46.59_MD589_3_0207_prep2_10.0um_detector998/MD589-N69-2015.07.30-20.46.59_MD589_3_0207_prep2_10.0um_detector998_6N_scoremap.bp\" \"s3://mousebrainatlas-data/CSHL_scoremaps/10.0um/MD589/MD589_prep2_10.0um_detector998/MD589-N69-2015.07.30-20.46.59_MD589_3_0207_prep2_10.0um_detector998/MD589-N69-2015.07.30-20.46.59_MD589_3_0207_prep2_10.0um_detector998_6N_scoremap.bp\"\n",
      "0\n",
      "aws s3 cp \"/home/yuncong/CSHL_scoremap_viz/10.0um/6N/MD589/detector998/prep2/MD589-N69-2015.07.30-20.46.59_MD589_3_0207_prep2_10.0um_6N_detector998_scoremapViz.jpg\" \"s3://mousebrainatlas-data/CSHL_scoremap_viz/10.0um/6N/MD589/detector998/prep2/MD589-N69-2015.07.30-20.46.59_MD589_3_0207_prep2_10.0um_6N_detector998_scoremapViz.jpg\"\n",
      "0\n",
      "aws s3 cp \"/home/yuncong/CSHL_scoremaps/10.0um/MD589/MD589_prep2_10.0um_detector998/MD589-N69-2015.07.30-20.46.59_MD589_3_0207_prep2_10.0um_detector998/MD589-N69-2015.07.30-20.46.59_MD589_3_0207_prep2_10.0um_detector998_SNR_scoremap.bp\" \"s3://mousebrainatlas-data/CSHL_scoremaps/10.0um/MD589/MD589_prep2_10.0um_detector998/MD589-N69-2015.07.30-20.46.59_MD589_3_0207_prep2_10.0um_detector998/MD589-N69-2015.07.30-20.46.59_MD589_3_0207_prep2_10.0um_detector998_SNR_scoremap.bp\"\n",
      "0\n",
      "aws s3 cp \"/home/yuncong/CSHL_scoremap_viz/10.0um/SNR/MD589/detector998/prep2/MD589-N69-2015.07.30-20.46.59_MD589_3_0207_prep2_10.0um_SNR_detector998_scoremapViz.jpg\" \"s3://mousebrainatlas-data/CSHL_scoremap_viz/10.0um/SNR/MD589/detector998/prep2/MD589-N69-2015.07.30-20.46.59_MD589_3_0207_prep2_10.0um_SNR_detector998_scoremapViz.jpg\"\n",
      "0\n",
      "aws s3 cp \"/home/yuncong/CSHL_scoremaps/10.0um/MD589/MD589_prep2_10.0um_detector998/MD589-N69-2015.07.30-20.46.59_MD589_3_0207_prep2_10.0um_detector998/MD589-N69-2015.07.30-20.46.59_MD589_3_0207_prep2_10.0um_detector998_SC_scoremap.bp\" \"s3://mousebrainatlas-data/CSHL_scoremaps/10.0um/MD589/MD589_prep2_10.0um_detector998/MD589-N69-2015.07.30-20.46.59_MD589_3_0207_prep2_10.0um_detector998/MD589-N69-2015.07.30-20.46.59_MD589_3_0207_prep2_10.0um_detector998_SC_scoremap.bp\"\n",
      "0\n",
      "aws s3 cp \"/home/yuncong/CSHL_scoremap_viz/10.0um/SC/MD589/detector998/prep2/MD589-N69-2015.07.30-20.46.59_MD589_3_0207_prep2_10.0um_SC_detector998_scoremapViz.jpg\" \"s3://mousebrainatlas-data/CSHL_scoremap_viz/10.0um/SC/MD589/detector998/prep2/MD589-N69-2015.07.30-20.46.59_MD589_3_0207_prep2_10.0um_SC_detector998_scoremapViz.jpg\"\n",
      "0\n",
      "aws s3 cp \"/home/yuncong/CSHL_scoremaps/10.0um/MD589/MD589_prep2_10.0um_detector998/MD589-N69-2015.07.30-20.46.59_MD589_3_0207_prep2_10.0um_detector998/MD589-N69-2015.07.30-20.46.59_MD589_3_0207_prep2_10.0um_detector998_RtTg_scoremap.bp\" \"s3://mousebrainatlas-data/CSHL_scoremaps/10.0um/MD589/MD589_prep2_10.0um_detector998/MD589-N69-2015.07.30-20.46.59_MD589_3_0207_prep2_10.0um_detector998/MD589-N69-2015.07.30-20.46.59_MD589_3_0207_prep2_10.0um_detector998_RtTg_scoremap.bp\"\n",
      "0\n",
      "aws s3 cp \"/home/yuncong/CSHL_scoremap_viz/10.0um/RtTg/MD589/detector998/prep2/MD589-N69-2015.07.30-20.46.59_MD589_3_0207_prep2_10.0um_RtTg_detector998_scoremapViz.jpg\" \"s3://mousebrainatlas-data/CSHL_scoremap_viz/10.0um/RtTg/MD589/detector998/prep2/MD589-N69-2015.07.30-20.46.59_MD589_3_0207_prep2_10.0um_RtTg_detector998_scoremapViz.jpg\"\n",
      "0\n"
     ]
    }
   ],
   "source": [
    "for sec in metadata_cache['valid_sections'][stack]:\n",
    "# for sec in range(150, 170):\n",
    "    if sec <= 260:\n",
    "        continue\n",
    "    \n",
    "#     for structure in clfs.keys():\n",
    "#     for structure in ['DC', '5N', '3N', 'Pn', '10N', 'LC', '7N', 'Amb', '12N', 'RMC', 'Sp5O', 'Sp5I', 'Sp5C', 'VCP', 'AP', 'PBG', 'LRt', 'IC', 'VLL', '4N', 'SNC', '6N', 'SNR', 'SC', 'RtTg']:\n",
    "\n",
    "    viz_all_landmarks, scoremap_all_landmarks = draw_scoremap(clfs=clfs, \n",
    "                            scheme='normalize_mu_region_sigma_wholeImage_(-1,5)', \n",
    "#                                 scheme='none', \n",
    "#                                                               scheme='median_curve', \n",
    "#                             bbox=(11217, 16886, 13859, 18404),\n",
    "                            win_id=win_id, prep_id=2,\n",
    "                            stack=stack, return_scoremap=True, sec=sec,\n",
    "                            model=model, model_name=model_name,\n",
    "                             mean_img=mean_img, \n",
    "                             batch_size=batch_size,\n",
    "                              output_patch_size=224,\n",
    "                              is_nissl=True,\n",
    "                           out_resolution_um=10.)\n",
    "\n",
    "    for name_u in clfs.keys():\n",
    "        \n",
    "        sm = scoremap_all_landmarks[name_u]\n",
    "        viz = viz_all_landmarks[name_u]\n",
    "    \n",
    "        scoremap_bp_filepath = \\\n",
    "        DataManager.get_downscaled_scoremap_filepath(stack=stack, section=sec, \n",
    "                                                     structure=name_u,\n",
    "                                                     detector_id=detector_id,\n",
    "                                                     out_resolution_um=out_resolution_um)\n",
    "\n",
    "        create_parent_dir_if_not_exists(scoremap_bp_filepath)\n",
    "        bp.pack_ndarray_file(sm.astype(np.float16), scoremap_bp_filepath)\n",
    "        upload_to_s3(scoremap_bp_filepath)\n",
    "\n",
    "\n",
    "        viz_filepath = \\\n",
    "        DataManager.get_scoremap_viz_filepath_v2(stack=stack, section=sec, \n",
    "                                                     structure=name_u,\n",
    "                                                     detector_id=detector_id,\n",
    "                                                     out_resolution=out_resolution_str)\n",
    "\n",
    "        create_parent_dir_if_not_exists(viz_filepath)\n",
    "        imsave(viz_filepath, viz)\n",
    "        upload_to_s3(viz_filepath)\n",
    "\n",
    "    del viz_all_landmarks, scoremap_all_landmarks"
   ]
  },
  {
   "cell_type": "code",
   "execution_count": 21,
   "metadata": {
    "collapsed": true
   },
   "outputs": [],
   "source": [
    "sec = 160"
   ]
  },
  {
   "cell_type": "code",
   "execution_count": 22,
   "metadata": {
    "collapsed": true,
    "scrolled": true
   },
   "outputs": [],
   "source": [
    "sm = \\\n",
    "DataManager.load_downscaled_scoremap(stack=stack, section=sec, \n",
    "                                     structure='5N',\n",
    "                                     detector_id=detector_id,\n",
    "                                     out_resolution_um=out_resolution_um)"
   ]
  },
  {
   "cell_type": "code",
   "execution_count": 24,
   "metadata": {
    "scrolled": true
   },
   "outputs": [
    {
     "name": "stdout",
     "output_type": "stream",
     "text": [
      "rm -rf \"/media/yuncong/BstemAtlasData/CSHL_data_processed/MD589/MD589_prep2_thumbnail_jpeg/MD589-N28-2015.07.30-17.53.43_MD589_1_0082_prep2_thumbnail_jpeg.jpg\" && mkdir -p \"/media/yuncong/BstemAtlasData/CSHL_data_processed/MD589/MD589_prep2_thumbnail_jpeg\"\n",
      "\n",
      "\n",
      "0\n",
      "aws s3 cp \"s3://mousebrainatlas-data/CSHL_data_processed/MD589/MD589_prep2_thumbnail_jpeg/MD589-N28-2015.07.30-17.53.43_MD589_1_0082_prep2_thumbnail_jpeg.jpg\" \"/media/yuncong/BstemAtlasData/CSHL_data_processed/MD589/MD589_prep2_thumbnail_jpeg/MD589-N28-2015.07.30-17.53.43_MD589_1_0082_prep2_thumbnail_jpeg.jpg\"\n",
      "\n",
      "fatal error: An error occurred (404) when calling the HeadObject operation: Key \"CSHL_data_processed/MD589/MD589_prep2_thumbnail_jpeg/MD589-N28-2015.07.30-17.53.43_MD589_1_0082_prep2_thumbnail_jpeg.jpg\" does not exist\n",
      "\n",
      "1\n",
      "/media/yuncong/BstemAtlasData/CSHL_data_processed/MD589/MD589_prep2_thumbnail_jpeg/MD589-N28-2015.07.30-17.53.43_MD589_1_0082_prep2_thumbnail_jpeg.jpg\n"
     ]
    },
    {
     "name": "stderr",
     "output_type": "stream",
     "text": [
      "Not using image_cache.\n"
     ]
    },
    {
     "ename": "Exception",
     "evalue": "Image loading failed.",
     "output_type": "error",
     "traceback": [
      "\u001b[0;31m---------------------------------------------------------------------------\u001b[0m",
      "\u001b[0;31mException\u001b[0m                                 Traceback (most recent call last)",
      "\u001b[0;32m<ipython-input-24-79f604099bd6>\u001b[0m in \u001b[0;36m<module>\u001b[0;34m()\u001b[0m\n\u001b[0;32m----> 1\u001b[0;31m \u001b[0mimg\u001b[0m \u001b[0;34m=\u001b[0m \u001b[0mDataManager\u001b[0m\u001b[0;34m.\u001b[0m\u001b[0mload_image_v2\u001b[0m\u001b[0;34m(\u001b[0m\u001b[0mstack\u001b[0m\u001b[0;34m=\u001b[0m\u001b[0mstack\u001b[0m\u001b[0;34m,\u001b[0m \u001b[0mprep_id\u001b[0m\u001b[0;34m=\u001b[0m\u001b[0;36m2\u001b[0m\u001b[0;34m,\u001b[0m \u001b[0mresol\u001b[0m\u001b[0;34m=\u001b[0m\u001b[0;34m'thumbnail'\u001b[0m\u001b[0;34m,\u001b[0m \u001b[0msection\u001b[0m\u001b[0;34m=\u001b[0m\u001b[0msec\u001b[0m\u001b[0;34m,\u001b[0m \u001b[0mversion\u001b[0m\u001b[0;34m=\u001b[0m\u001b[0;34m'jpeg'\u001b[0m\u001b[0;34m)\u001b[0m\u001b[0;34m\u001b[0m\u001b[0m\n\u001b[0m\u001b[1;32m      2\u001b[0m \u001b[0;31m# img = DataManager.load_image_v2(stack=stack, prep_id=2, resol='thumbnail', section=sec, version='grayJpeg')\u001b[0m\u001b[0;34m\u001b[0m\u001b[0;34m\u001b[0m\u001b[0m\n",
      "\u001b[0;32m/home/yuncong/Brain/utilities/data_manager.pyc\u001b[0m in \u001b[0;36mload_image_v2\u001b[0;34m(stack, prep_id, resol, version, section, fn, data_dir, ext, thumbnail_data_dir)\u001b[0m\n\u001b[1;32m   3511\u001b[0m                 \u001b[0mimg\u001b[0m \u001b[0;34m=\u001b[0m \u001b[0mimg\u001b[0m\u001b[0;34m[\u001b[0m\u001b[0;34m.\u001b[0m\u001b[0;34m.\u001b[0m\u001b[0;34m.\u001b[0m\u001b[0;34m,\u001b[0m \u001b[0;36m2\u001b[0m\u001b[0;34m]\u001b[0m\u001b[0;34m\u001b[0m\u001b[0m\n\u001b[1;32m   3512\u001b[0m             \u001b[0;32melse\u001b[0m\u001b[0;34m:\u001b[0m\u001b[0;34m\u001b[0m\u001b[0m\n\u001b[0;32m-> 3513\u001b[0;31m                 \u001b[0;32mraise\u001b[0m \u001b[0mException\u001b[0m\u001b[0;34m(\u001b[0m\u001b[0;34m\"Image loading failed.\"\u001b[0m\u001b[0;34m)\u001b[0m\u001b[0;34m\u001b[0m\u001b[0m\n\u001b[0m\u001b[1;32m   3514\u001b[0m \u001b[0;34m\u001b[0m\u001b[0m\n\u001b[1;32m   3515\u001b[0m         \u001b[0;32mif\u001b[0m \u001b[0mimg\u001b[0m\u001b[0;34m.\u001b[0m\u001b[0mndim\u001b[0m \u001b[0;34m==\u001b[0m \u001b[0;36m3\u001b[0m\u001b[0;34m:\u001b[0m\u001b[0;34m\u001b[0m\u001b[0m\n",
      "\u001b[0;31mException\u001b[0m: Image loading failed."
     ]
    }
   ],
   "source": [
    "img = DataManager.load_image_v2(stack=stack, prep_id=2, resol='thumbnail', section=sec, version='jpeg')\n",
    "# img = DataManager.load_image_v2(stack=stack, prep_id=2, resol='thumbnail', section=sec, version='grayJpeg')"
   ]
  },
  {
   "cell_type": "code",
   "execution_count": 15,
   "metadata": {
    "collapsed": true
   },
   "outputs": [],
   "source": [
    "ntb_to_nissl_map = np.load(DataManager.get_ntb_to_nissl_intensity_profile_mapping_filepath(stack=stack))\n",
    "img = ntb_to_nissl_map[img].astype(np.uint8)"
   ]
  },
  {
   "cell_type": "code",
   "execution_count": 16,
   "metadata": {
    "scrolled": true
   },
   "outputs": [
    {
     "data": {
      "image/png": "[encoded data removed]",
      "text/plain": [
       "<matplotlib.figure.Figure at 0x7f48824b9c10>"
      ]
     },
     "metadata": {},
     "output_type": "display_data"
    }
   ],
   "source": [
    "plt.figure(figsize=(10,10));\n",
    "plt.imshow(img, cmap=plt.cm.gray);\n",
    "plt.show();"
   ]
  },
  {
   "cell_type": "code",
   "execution_count": 25,
   "metadata": {
    "scrolled": true
   },
   "outputs": [
    {
     "data": {
      "image/png": "[encoded data removed]",
      "text/plain": [
       "<matplotlib.figure.Figure at 0x7f9aaf42f7d0>"
      ]
     },
     "metadata": {},
     "output_type": "display_data"
    }
   ],
   "source": [
    "plt.figure(figsize=(10, 10));\n",
    "plt.imshow(sm.astype(np.float), cmap=plt.cm.jet);\n",
    "# plt.colorbar();"
   ]
  },
  {
   "cell_type": "code",
   "execution_count": 41,
   "metadata": {},
   "outputs": [
    {
     "data": {
      "text/html": [
       "<a href='tmp.jpg' target='_blank'>tmp.jpg</a><br>"
      ],
      "text/plain": [
       "/home/yuncong/Brain/learning/tmp.jpg"
      ]
     },
     "execution_count": 41,
     "metadata": {},
     "output_type": "execute_result"
    }
   ],
   "source": [
    "display_image(viz)"
   ]
  },
  {
   "cell_type": "code",
   "execution_count": null,
   "metadata": {
    "collapsed": true
   },
   "outputs": [],
   "source": []
  }
 ],
 "metadata": {
  "kernelspec": {
   "display_name": "Python 2",
   "language": "python",
   "name": "python2"
  },
  "language_info": {
   "codemirror_mode": {
    "name": "ipython",
    "version": 2
   },
   "file_extension": ".py",
   "mimetype": "text/x-python",
   "name": "python",
   "nbconvert_exporter": "python",
   "pygments_lexer": "ipython2",
   "version": "2.7.12"
  }
 },
 "nbformat": 4,
 "nbformat_minor": 2
}
