{
 "cells": [
  {
   "cell_type": "code",
   "execution_count": 1,
   "metadata": {
    "scrolled": true
   },
   "outputs": [
    {
     "name": "stdout",
     "output_type": "stream",
     "text": [
      "Setting environment for Precision WorkStation\n"
     ]
    },
    {
     "name": "stderr",
     "output_type": "stream",
     "text": [
      "No vtk\n",
      "No vtkNot using image_cache.\n",
      "Not using image_cache.\n",
      "Not using image_cache.\n",
      "Not using image_cache.\n",
      "Not using image_cache.\n",
      "Not using image_cache.\n",
      "Not using image_cache.\n",
      "Not using image_cache.\n",
      "Not using image_cache.\n",
      "Not using image_cache.\n",
      "Not using image_cache.\n",
      "Not using image_cache.\n",
      "Not using image_cache.\n",
      "Not using image_cache.\n",
      "Not using image_cache.\n",
      "Not using image_cache.\n",
      "Not using image_cache.\n",
      "Not using image_cache.\n",
      "Not using image_cache.\n",
      "Not using image_cache.\n",
      "Not using image_cache.\n",
      "/usr/local/lib/python2.7/dist-packages/sklearn/cross_validation.py:44: DeprecationWarning: This module was deprecated in version 0.18 in favor of the model_selection module into which all the refactored classes and functions are moved. Also note that the interface of the new CV iterators are different from that of this module. This module will be removed in 0.20.\n",
      "  \"This module will be removed in 0.20.\", DeprecationWarning)\n"
     ]
    }
   ],
   "source": [
    "%reload_ext autoreload\n",
    "%autoreload 2\n",
    "\n",
    "import os\n",
    "import argparse\n",
    "import sys\n",
    "import time\n",
    "\n",
    "import numpy as np\n",
    "from multiprocess import Pool\n",
    "\n",
    "sys.path.append(os.path.join(os.environ['REPO_DIR'], 'utilities'))\n",
    "from utilities2015 import *\n",
    "from metadata import *\n",
    "from data_manager import *\n",
    "from learning_utilities import *"
   ]
  },
  {
   "cell_type": "code",
   "execution_count": 2,
   "metadata": {
    "collapsed": true
   },
   "outputs": [],
   "source": [
    "stack = 'ChatCryoJane201710'\n",
    "first_sec, last_sec = metadata_cache['section_limits'][stack]"
   ]
  },
  {
   "cell_type": "code",
   "execution_count": 3,
   "metadata": {},
   "outputs": [
    {
     "name": "stderr",
     "output_type": "stream",
     "text": [
      "/usr/local/lib/python2.7/dist-packages/mxnet/module/base_module.py:53: UserWarning: \u001b[91mYou created Module with Module(..., label_names=['softmax_label']) but input with name 'softmax_label' is not found in symbol.list_arguments(). Did you mean one of:\n",
      "\tdata\u001b[0m\n",
      "  warnings.warn(msg)\n",
      "/usr/local/lib/python2.7/dist-packages/mxnet/module/base_module.py:65: UserWarning: Data provided by label_shapes don't match names specified by label_names ([] vs. ['softmax_label'])\n",
      "  warnings.warn(msg)\n"
     ]
    }
   ],
   "source": [
    "batch_size = 256\n",
    "model_dir_name = 'inception-bn-blue'\n",
    "model_name = 'inception-bn-blue'\n",
    "model, mean_img = load_mxnet_model(model_dir_name=model_dir_name, model_name=model_name, \n",
    "                                   num_gpus=1, batch_size=batch_size)"
   ]
  },
  {
   "cell_type": "code",
   "execution_count": 4,
   "metadata": {
    "collapsed": true
   },
   "outputs": [],
   "source": [
    "clfs = DataManager.load_classifiers(classifier_id=999)"
   ]
  },
  {
   "cell_type": "code",
   "execution_count": 5,
   "metadata": {
    "scrolled": true
   },
   "outputs": [
    {
     "name": "stderr",
     "output_type": "stream",
     "text": [
      "locate patches: 0.11 seconds\n",
      "Not using image_cache.\n",
      "Load image: 8.56 seconds.\n",
      "Resize patches from 316 x 316 to 224 x 224.\n",
      "/usr/local/lib/python2.7/dist-packages/skimage/util/dtype.py:110: UserWarning: Possible precision loss when converting from float64 to uint8\n",
      "  \"%s to %s\" % (dtypeobj_in, dtypeobj))\n",
      "Extract patches: 105.89 seconds\n"
     ]
    },
    {
     "name": "stdout",
     "output_type": "stream",
     "text": [
      "(19551, 1, 224, 224)\n"
     ]
    },
    {
     "name": "stderr",
     "output_type": "stream",
     "text": [
      "Not using image_cache.\n"
     ]
    },
    {
     "name": "stdout",
     "output_type": "stream",
     "text": [
      "(724, 987, 3) (724, 987)\n",
      "aws s3 cp \"/home/yuncong/CSHL_scoremaps/10.0um/ChatCryoJane201710/ChatCryoJane201710_prep2_10.0um_detector999/ChatCryoJane201710_slide1-S1_prep2_10.0um_detector999/ChatCryoJane201710_slide1-S1_prep2_10.0um_detector999_Tz_scoremap.bp\" \"s3://mousebrainatlas-data/CSHL_scoremaps/10.0um/ChatCryoJane201710/ChatCryoJane201710_prep2_10.0um_detector999/ChatCryoJane201710_slide1-S1_prep2_10.0um_detector999/ChatCryoJane201710_slide1-S1_prep2_10.0um_detector999_Tz_scoremap.bp\"\n",
      "aws s3 cp \"/home/yuncong/CSHL_scoremap_viz/10.0um/Tz/ChatCryoJane201710/detector999/prep2/ChatCryoJane201710_slide1-S1_prep2_10.0um_Tz_detector999_scoremapViz.jpg\" \"s3://mousebrainatlas-data/CSHL_scoremap_viz/10.0um/Tz/ChatCryoJane201710/detector999/prep2/ChatCryoJane201710_slide1-S1_prep2_10.0um_Tz_detector999_scoremapViz.jpg\"\n"
     ]
    },
    {
     "name": "stderr",
     "output_type": "stream",
     "text": [
      "locate patches: 0.05 seconds\n",
      "Not using image_cache.\n",
      "Load image: 8.61 seconds.\n",
      "Resize patches from 316 x 316 to 224 x 224.\n",
      "Extract patches: 106.42 seconds\n"
     ]
    },
    {
     "name": "stdout",
     "output_type": "stream",
     "text": [
      "(19880, 1, 224, 224)\n"
     ]
    },
    {
     "name": "stderr",
     "output_type": "stream",
     "text": [
      "Not using image_cache.\n"
     ]
    },
    {
     "name": "stdout",
     "output_type": "stream",
     "text": [
      "(724, 987, 3) (724, 987)\n",
      "aws s3 cp \"/home/yuncong/CSHL_scoremaps/10.0um/ChatCryoJane201710/ChatCryoJane201710_prep2_10.0um_detector999/ChatCryoJane201710_slide2-S1_prep2_10.0um_detector999/ChatCryoJane201710_slide2-S1_prep2_10.0um_detector999_Tz_scoremap.bp\" \"s3://mousebrainatlas-data/CSHL_scoremaps/10.0um/ChatCryoJane201710/ChatCryoJane201710_prep2_10.0um_detector999/ChatCryoJane201710_slide2-S1_prep2_10.0um_detector999/ChatCryoJane201710_slide2-S1_prep2_10.0um_detector999_Tz_scoremap.bp\"\n",
      "aws s3 cp \"/home/yuncong/CSHL_scoremap_viz/10.0um/Tz/ChatCryoJane201710/detector999/prep2/ChatCryoJane201710_slide2-S1_prep2_10.0um_Tz_detector999_scoremapViz.jpg\" \"s3://mousebrainatlas-data/CSHL_scoremap_viz/10.0um/Tz/ChatCryoJane201710/detector999/prep2/ChatCryoJane201710_slide2-S1_prep2_10.0um_Tz_detector999_scoremapViz.jpg\"\n"
     ]
    },
    {
     "name": "stderr",
     "output_type": "stream",
     "text": [
      "locate patches: 0.05 seconds\n",
      "Not using image_cache.\n",
      "Load image: 8.16 seconds.\n",
      "Resize patches from 316 x 316 to 224 x 224.\n",
      "Extract patches: 104.24 seconds\n"
     ]
    },
    {
     "name": "stdout",
     "output_type": "stream",
     "text": [
      "(19457, 1, 224, 224)\n"
     ]
    },
    {
     "name": "stderr",
     "output_type": "stream",
     "text": [
      "Not using image_cache.\n"
     ]
    },
    {
     "name": "stdout",
     "output_type": "stream",
     "text": [
      "(724, 987, 3) (724, 987)\n",
      "aws s3 cp \"/home/yuncong/CSHL_scoremaps/10.0um/ChatCryoJane201710/ChatCryoJane201710_prep2_10.0um_detector999/ChatCryoJane201710_slide1-S2_prep2_10.0um_detector999/ChatCryoJane201710_slide1-S2_prep2_10.0um_detector999_Tz_scoremap.bp\" \"s3://mousebrainatlas-data/CSHL_scoremaps/10.0um/ChatCryoJane201710/ChatCryoJane201710_prep2_10.0um_detector999/ChatCryoJane201710_slide1-S2_prep2_10.0um_detector999/ChatCryoJane201710_slide1-S2_prep2_10.0um_detector999_Tz_scoremap.bp\"\n",
      "aws s3 cp \"/home/yuncong/CSHL_scoremap_viz/10.0um/Tz/ChatCryoJane201710/detector999/prep2/ChatCryoJane201710_slide1-S2_prep2_10.0um_Tz_detector999_scoremapViz.jpg\" \"s3://mousebrainatlas-data/CSHL_scoremap_viz/10.0um/Tz/ChatCryoJane201710/detector999/prep2/ChatCryoJane201710_slide1-S2_prep2_10.0um_Tz_detector999_scoremapViz.jpg\"\n"
     ]
    },
    {
     "name": "stderr",
     "output_type": "stream",
     "text": [
      "locate patches: 0.05 seconds\n",
      "Not using image_cache.\n",
      "Load image: 9.03 seconds.\n",
      "Resize patches from 316 x 316 to 224 x 224.\n",
      "Extract patches: 110.29 seconds\n"
     ]
    },
    {
     "name": "stdout",
     "output_type": "stream",
     "text": [
      "(20153, 1, 224, 224)\n"
     ]
    },
    {
     "name": "stderr",
     "output_type": "stream",
     "text": [
      "Not using image_cache.\n"
     ]
    },
    {
     "name": "stdout",
     "output_type": "stream",
     "text": [
      "(724, 987, 3) (724, 987)\n",
      "aws s3 cp \"/home/yuncong/CSHL_scoremaps/10.0um/ChatCryoJane201710/ChatCryoJane201710_prep2_10.0um_detector999/ChatCryoJane201710_slide2-S2_prep2_10.0um_detector999/ChatCryoJane201710_slide2-S2_prep2_10.0um_detector999_Tz_scoremap.bp\" \"s3://mousebrainatlas-data/CSHL_scoremaps/10.0um/ChatCryoJane201710/ChatCryoJane201710_prep2_10.0um_detector999/ChatCryoJane201710_slide2-S2_prep2_10.0um_detector999/ChatCryoJane201710_slide2-S2_prep2_10.0um_detector999_Tz_scoremap.bp\"\n",
      "aws s3 cp \"/home/yuncong/CSHL_scoremap_viz/10.0um/Tz/ChatCryoJane201710/detector999/prep2/ChatCryoJane201710_slide2-S2_prep2_10.0um_Tz_detector999_scoremapViz.jpg\" \"s3://mousebrainatlas-data/CSHL_scoremap_viz/10.0um/Tz/ChatCryoJane201710/detector999/prep2/ChatCryoJane201710_slide2-S2_prep2_10.0um_Tz_detector999_scoremapViz.jpg\"\n"
     ]
    },
    {
     "name": "stderr",
     "output_type": "stream",
     "text": [
      "locate patches: 0.06 seconds\n",
      "Not using image_cache.\n",
      "Load image: 7.64 seconds.\n",
      "Resize patches from 316 x 316 to 224 x 224.\n",
      "Extract patches: 97.69 seconds\n"
     ]
    },
    {
     "name": "stdout",
     "output_type": "stream",
     "text": [
      "(17319, 1, 224, 224)\n"
     ]
    },
    {
     "name": "stderr",
     "output_type": "stream",
     "text": [
      "Not using image_cache.\n"
     ]
    },
    {
     "name": "stdout",
     "output_type": "stream",
     "text": [
      "(724, 987, 3) (724, 987)\n",
      "aws s3 cp \"/home/yuncong/CSHL_scoremaps/10.0um/ChatCryoJane201710/ChatCryoJane201710_prep2_10.0um_detector999/ChatCryoJane201710_slide1-S3_prep2_10.0um_detector999/ChatCryoJane201710_slide1-S3_prep2_10.0um_detector999_Tz_scoremap.bp\" \"s3://mousebrainatlas-data/CSHL_scoremaps/10.0um/ChatCryoJane201710/ChatCryoJane201710_prep2_10.0um_detector999/ChatCryoJane201710_slide1-S3_prep2_10.0um_detector999/ChatCryoJane201710_slide1-S3_prep2_10.0um_detector999_Tz_scoremap.bp\"\n",
      "aws s3 cp \"/home/yuncong/CSHL_scoremap_viz/10.0um/Tz/ChatCryoJane201710/detector999/prep2/ChatCryoJane201710_slide1-S3_prep2_10.0um_Tz_detector999_scoremapViz.jpg\" \"s3://mousebrainatlas-data/CSHL_scoremap_viz/10.0um/Tz/ChatCryoJane201710/detector999/prep2/ChatCryoJane201710_slide1-S3_prep2_10.0um_Tz_detector999_scoremapViz.jpg\"\n"
     ]
    },
    {
     "name": "stderr",
     "output_type": "stream",
     "text": [
      "locate patches: 0.05 seconds\n",
      "Not using image_cache.\n",
      "Load image: 8.68 seconds.\n",
      "Resize patches from 316 x 316 to 224 x 224.\n",
      "Extract patches: 110.95 seconds\n"
     ]
    },
    {
     "name": "stdout",
     "output_type": "stream",
     "text": [
      "(20613, 1, 224, 224)\n"
     ]
    },
    {
     "name": "stderr",
     "output_type": "stream",
     "text": [
      "Not using image_cache.\n"
     ]
    },
    {
     "name": "stdout",
     "output_type": "stream",
     "text": [
      "(724, 987, 3) (724, 987)\n",
      "aws s3 cp \"/home/yuncong/CSHL_scoremaps/10.0um/ChatCryoJane201710/ChatCryoJane201710_prep2_10.0um_detector999/ChatCryoJane201710_slide2-S3_prep2_10.0um_detector999/ChatCryoJane201710_slide2-S3_prep2_10.0um_detector999_Tz_scoremap.bp\" \"s3://mousebrainatlas-data/CSHL_scoremaps/10.0um/ChatCryoJane201710/ChatCryoJane201710_prep2_10.0um_detector999/ChatCryoJane201710_slide2-S3_prep2_10.0um_detector999/ChatCryoJane201710_slide2-S3_prep2_10.0um_detector999_Tz_scoremap.bp\"\n",
      "aws s3 cp \"/home/yuncong/CSHL_scoremap_viz/10.0um/Tz/ChatCryoJane201710/detector999/prep2/ChatCryoJane201710_slide2-S3_prep2_10.0um_Tz_detector999_scoremapViz.jpg\" \"s3://mousebrainatlas-data/CSHL_scoremap_viz/10.0um/Tz/ChatCryoJane201710/detector999/prep2/ChatCryoJane201710_slide2-S3_prep2_10.0um_Tz_detector999_scoremapViz.jpg\"\n"
     ]
    },
    {
     "name": "stderr",
     "output_type": "stream",
     "text": [
      "locate patches: 0.07 seconds\n",
      "Not using image_cache.\n",
      "Load image: 8.32 seconds.\n",
      "Resize patches from 316 x 316 to 224 x 224.\n",
      "Extract patches: 112.83 seconds\n"
     ]
    },
    {
     "name": "stdout",
     "output_type": "stream",
     "text": [
      "(21090, 1, 224, 224)\n"
     ]
    },
    {
     "name": "stderr",
     "output_type": "stream",
     "text": [
      "Not using image_cache.\n"
     ]
    },
    {
     "name": "stdout",
     "output_type": "stream",
     "text": [
      "(724, 987, 3) (724, 987)\n",
      "aws s3 cp \"/home/yuncong/CSHL_scoremaps/10.0um/ChatCryoJane201710/ChatCryoJane201710_prep2_10.0um_detector999/ChatCryoJane201710_slide3-S1_prep2_10.0um_detector999/ChatCryoJane201710_slide3-S1_prep2_10.0um_detector999_Tz_scoremap.bp\" \"s3://mousebrainatlas-data/CSHL_scoremaps/10.0um/ChatCryoJane201710/ChatCryoJane201710_prep2_10.0um_detector999/ChatCryoJane201710_slide3-S1_prep2_10.0um_detector999/ChatCryoJane201710_slide3-S1_prep2_10.0um_detector999_Tz_scoremap.bp\"\n",
      "aws s3 cp \"/home/yuncong/CSHL_scoremap_viz/10.0um/Tz/ChatCryoJane201710/detector999/prep2/ChatCryoJane201710_slide3-S1_prep2_10.0um_Tz_detector999_scoremapViz.jpg\" \"s3://mousebrainatlas-data/CSHL_scoremap_viz/10.0um/Tz/ChatCryoJane201710/detector999/prep2/ChatCryoJane201710_slide3-S1_prep2_10.0um_Tz_detector999_scoremapViz.jpg\"\n"
     ]
    },
    {
     "name": "stderr",
     "output_type": "stream",
     "text": [
      "locate patches: 0.06 seconds\n",
      "Not using image_cache.\n",
      "Load image: 8.27 seconds.\n",
      "Resize patches from 316 x 316 to 224 x 224.\n",
      "Extract patches: 115.01 seconds\n"
     ]
    },
    {
     "name": "stdout",
     "output_type": "stream",
     "text": [
      "(21351, 1, 224, 224)\n"
     ]
    },
    {
     "name": "stderr",
     "output_type": "stream",
     "text": [
      "Not using image_cache.\n"
     ]
    },
    {
     "name": "stdout",
     "output_type": "stream",
     "text": [
      "(724, 987, 3) (724, 987)\n",
      "aws s3 cp \"/home/yuncong/CSHL_scoremaps/10.0um/ChatCryoJane201710/ChatCryoJane201710_prep2_10.0um_detector999/ChatCryoJane201710_slide4-S1_prep2_10.0um_detector999/ChatCryoJane201710_slide4-S1_prep2_10.0um_detector999_Tz_scoremap.bp\" \"s3://mousebrainatlas-data/CSHL_scoremaps/10.0um/ChatCryoJane201710/ChatCryoJane201710_prep2_10.0um_detector999/ChatCryoJane201710_slide4-S1_prep2_10.0um_detector999/ChatCryoJane201710_slide4-S1_prep2_10.0um_detector999_Tz_scoremap.bp\"\n",
      "aws s3 cp \"/home/yuncong/CSHL_scoremap_viz/10.0um/Tz/ChatCryoJane201710/detector999/prep2/ChatCryoJane201710_slide4-S1_prep2_10.0um_Tz_detector999_scoremapViz.jpg\" \"s3://mousebrainatlas-data/CSHL_scoremap_viz/10.0um/Tz/ChatCryoJane201710/detector999/prep2/ChatCryoJane201710_slide4-S1_prep2_10.0um_Tz_detector999_scoremapViz.jpg\"\n"
     ]
    },
    {
     "name": "stderr",
     "output_type": "stream",
     "text": [
      "locate patches: 0.05 seconds\n",
      "Not using image_cache.\n",
      "Load image: 8.11 seconds.\n",
      "Resize patches from 316 x 316 to 224 x 224.\n",
      "Extract patches: 114.26 seconds\n"
     ]
    },
    {
     "name": "stdout",
     "output_type": "stream",
     "text": [
      "(21587, 1, 224, 224)\n"
     ]
    },
    {
     "name": "stderr",
     "output_type": "stream",
     "text": [
      "Not using image_cache.\n"
     ]
    },
    {
     "name": "stdout",
     "output_type": "stream",
     "text": [
      "(724, 987, 3) (724, 987)\n",
      "aws s3 cp \"/home/yuncong/CSHL_scoremaps/10.0um/ChatCryoJane201710/ChatCryoJane201710_prep2_10.0um_detector999/ChatCryoJane201710_slide3-S2_prep2_10.0um_detector999/ChatCryoJane201710_slide3-S2_prep2_10.0um_detector999_Tz_scoremap.bp\" \"s3://mousebrainatlas-data/CSHL_scoremaps/10.0um/ChatCryoJane201710/ChatCryoJane201710_prep2_10.0um_detector999/ChatCryoJane201710_slide3-S2_prep2_10.0um_detector999/ChatCryoJane201710_slide3-S2_prep2_10.0um_detector999_Tz_scoremap.bp\"\n",
      "aws s3 cp \"/home/yuncong/CSHL_scoremap_viz/10.0um/Tz/ChatCryoJane201710/detector999/prep2/ChatCryoJane201710_slide3-S2_prep2_10.0um_Tz_detector999_scoremapViz.jpg\" \"s3://mousebrainatlas-data/CSHL_scoremap_viz/10.0um/Tz/ChatCryoJane201710/detector999/prep2/ChatCryoJane201710_slide3-S2_prep2_10.0um_Tz_detector999_scoremapViz.jpg\"\n"
     ]
    },
    {
     "name": "stderr",
     "output_type": "stream",
     "text": [
      "locate patches: 0.05 seconds\n",
      "Not using image_cache.\n",
      "Load image: 8.18 seconds.\n",
      "Resize patches from 316 x 316 to 224 x 224.\n",
      "Extract patches: 114.42 seconds\n"
     ]
    },
    {
     "name": "stdout",
     "output_type": "stream",
     "text": [
      "(21797, 1, 224, 224)\n"
     ]
    },
    {
     "name": "stderr",
     "output_type": "stream",
     "text": [
      "Not using image_cache.\n"
     ]
    },
    {
     "name": "stdout",
     "output_type": "stream",
     "text": [
      "(724, 987, 3) (724, 987)\n",
      "aws s3 cp \"/home/yuncong/CSHL_scoremaps/10.0um/ChatCryoJane201710/ChatCryoJane201710_prep2_10.0um_detector999/ChatCryoJane201710_slide4-S2_prep2_10.0um_detector999/ChatCryoJane201710_slide4-S2_prep2_10.0um_detector999_Tz_scoremap.bp\" \"s3://mousebrainatlas-data/CSHL_scoremaps/10.0um/ChatCryoJane201710/ChatCryoJane201710_prep2_10.0um_detector999/ChatCryoJane201710_slide4-S2_prep2_10.0um_detector999/ChatCryoJane201710_slide4-S2_prep2_10.0um_detector999_Tz_scoremap.bp\"\n",
      "aws s3 cp \"/home/yuncong/CSHL_scoremap_viz/10.0um/Tz/ChatCryoJane201710/detector999/prep2/ChatCryoJane201710_slide4-S2_prep2_10.0um_Tz_detector999_scoremapViz.jpg\" \"s3://mousebrainatlas-data/CSHL_scoremap_viz/10.0um/Tz/ChatCryoJane201710/detector999/prep2/ChatCryoJane201710_slide4-S2_prep2_10.0um_Tz_detector999_scoremapViz.jpg\"\n"
     ]
    },
    {
     "name": "stderr",
     "output_type": "stream",
     "text": [
      "locate patches: 0.05 seconds\n",
      "Not using image_cache.\n",
      "Load image: 8.14 seconds.\n",
      "Resize patches from 316 x 316 to 224 x 224.\n",
      "Extract patches: 116.68 seconds\n"
     ]
    },
    {
     "name": "stdout",
     "output_type": "stream",
     "text": [
      "(22017, 1, 224, 224)\n"
     ]
    },
    {
     "name": "stderr",
     "output_type": "stream",
     "text": [
      "Not using image_cache.\n"
     ]
    },
    {
     "name": "stdout",
     "output_type": "stream",
     "text": [
      "(724, 987, 3) (724, 987)\n",
      "aws s3 cp \"/home/yuncong/CSHL_scoremaps/10.0um/ChatCryoJane201710/ChatCryoJane201710_prep2_10.0um_detector999/ChatCryoJane201710_slide3-S3_prep2_10.0um_detector999/ChatCryoJane201710_slide3-S3_prep2_10.0um_detector999_Tz_scoremap.bp\" \"s3://mousebrainatlas-data/CSHL_scoremaps/10.0um/ChatCryoJane201710/ChatCryoJane201710_prep2_10.0um_detector999/ChatCryoJane201710_slide3-S3_prep2_10.0um_detector999/ChatCryoJane201710_slide3-S3_prep2_10.0um_detector999_Tz_scoremap.bp\"\n",
      "aws s3 cp \"/home/yuncong/CSHL_scoremap_viz/10.0um/Tz/ChatCryoJane201710/detector999/prep2/ChatCryoJane201710_slide3-S3_prep2_10.0um_Tz_detector999_scoremapViz.jpg\" \"s3://mousebrainatlas-data/CSHL_scoremap_viz/10.0um/Tz/ChatCryoJane201710/detector999/prep2/ChatCryoJane201710_slide3-S3_prep2_10.0um_Tz_detector999_scoremapViz.jpg\"\n"
     ]
    },
    {
     "name": "stderr",
     "output_type": "stream",
     "text": [
      "locate patches: 0.05 seconds\n",
      "Not using image_cache.\n",
      "Load image: 8.42 seconds.\n",
      "Resize patches from 316 x 316 to 224 x 224.\n",
      "Extract patches: 118.18 seconds\n"
     ]
    },
    {
     "name": "stdout",
     "output_type": "stream",
     "text": [
      "(22249, 1, 224, 224)\n"
     ]
    },
    {
     "name": "stderr",
     "output_type": "stream",
     "text": [
      "Not using image_cache.\n"
     ]
    },
    {
     "name": "stdout",
     "output_type": "stream",
     "text": [
      "(724, 987, 3) (724, 987)\n",
      "aws s3 cp \"/home/yuncong/CSHL_scoremaps/10.0um/ChatCryoJane201710/ChatCryoJane201710_prep2_10.0um_detector999/ChatCryoJane201710_slide4-S3_prep2_10.0um_detector999/ChatCryoJane201710_slide4-S3_prep2_10.0um_detector999_Tz_scoremap.bp\" \"s3://mousebrainatlas-data/CSHL_scoremaps/10.0um/ChatCryoJane201710/ChatCryoJane201710_prep2_10.0um_detector999/ChatCryoJane201710_slide4-S3_prep2_10.0um_detector999/ChatCryoJane201710_slide4-S3_prep2_10.0um_detector999_Tz_scoremap.bp\"\n",
      "aws s3 cp \"/home/yuncong/CSHL_scoremap_viz/10.0um/Tz/ChatCryoJane201710/detector999/prep2/ChatCryoJane201710_slide4-S3_prep2_10.0um_Tz_detector999_scoremapViz.jpg\" \"s3://mousebrainatlas-data/CSHL_scoremap_viz/10.0um/Tz/ChatCryoJane201710/detector999/prep2/ChatCryoJane201710_slide4-S3_prep2_10.0um_Tz_detector999_scoremapViz.jpg\"\n"
     ]
    },
    {
     "name": "stderr",
     "output_type": "stream",
     "text": [
      "locate patches: 0.05 seconds\n",
      "Not using image_cache.\n",
      "Load image: 8.21 seconds.\n",
      "Resize patches from 316 x 316 to 224 x 224.\n",
      "Extract patches: 120.63 seconds\n"
     ]
    },
    {
     "name": "stdout",
     "output_type": "stream",
     "text": [
      "(22510, 1, 224, 224)\n"
     ]
    },
    {
     "name": "stderr",
     "output_type": "stream",
     "text": [
      "Not using image_cache.\n"
     ]
    },
    {
     "name": "stdout",
     "output_type": "stream",
     "text": [
      "(724, 987, 3) (724, 987)\n",
      "aws s3 cp \"/home/yuncong/CSHL_scoremaps/10.0um/ChatCryoJane201710/ChatCryoJane201710_prep2_10.0um_detector999/ChatCryoJane201710_slide5-S1_prep2_10.0um_detector999/ChatCryoJane201710_slide5-S1_prep2_10.0um_detector999_Tz_scoremap.bp\" \"s3://mousebrainatlas-data/CSHL_scoremaps/10.0um/ChatCryoJane201710/ChatCryoJane201710_prep2_10.0um_detector999/ChatCryoJane201710_slide5-S1_prep2_10.0um_detector999/ChatCryoJane201710_slide5-S1_prep2_10.0um_detector999_Tz_scoremap.bp\"\n",
      "aws s3 cp \"/home/yuncong/CSHL_scoremap_viz/10.0um/Tz/ChatCryoJane201710/detector999/prep2/ChatCryoJane201710_slide5-S1_prep2_10.0um_Tz_detector999_scoremapViz.jpg\" \"s3://mousebrainatlas-data/CSHL_scoremap_viz/10.0um/Tz/ChatCryoJane201710/detector999/prep2/ChatCryoJane201710_slide5-S1_prep2_10.0um_Tz_detector999_scoremapViz.jpg\"\n"
     ]
    },
    {
     "name": "stderr",
     "output_type": "stream",
     "text": [
      "locate patches: 0.07 seconds\n",
      "Not using image_cache.\n",
      "Load image: 8.56 seconds.\n",
      "Resize patches from 316 x 316 to 224 x 224.\n",
      "Extract patches: 120.85 seconds\n"
     ]
    },
    {
     "name": "stdout",
     "output_type": "stream",
     "text": [
      "(22818, 1, 224, 224)\n"
     ]
    },
    {
     "name": "stderr",
     "output_type": "stream",
     "text": [
      "Not using image_cache.\n"
     ]
    },
    {
     "name": "stdout",
     "output_type": "stream",
     "text": [
      "(724, 987, 3) (724, 987)\n",
      "aws s3 cp \"/home/yuncong/CSHL_scoremaps/10.0um/ChatCryoJane201710/ChatCryoJane201710_prep2_10.0um_detector999/ChatCryoJane201710_slide6-S1_prep2_10.0um_detector999/ChatCryoJane201710_slide6-S1_prep2_10.0um_detector999_Tz_scoremap.bp\" \"s3://mousebrainatlas-data/CSHL_scoremaps/10.0um/ChatCryoJane201710/ChatCryoJane201710_prep2_10.0um_detector999/ChatCryoJane201710_slide6-S1_prep2_10.0um_detector999/ChatCryoJane201710_slide6-S1_prep2_10.0um_detector999_Tz_scoremap.bp\"\n",
      "aws s3 cp \"/home/yuncong/CSHL_scoremap_viz/10.0um/Tz/ChatCryoJane201710/detector999/prep2/ChatCryoJane201710_slide6-S1_prep2_10.0um_Tz_detector999_scoremapViz.jpg\" \"s3://mousebrainatlas-data/CSHL_scoremap_viz/10.0um/Tz/ChatCryoJane201710/detector999/prep2/ChatCryoJane201710_slide6-S1_prep2_10.0um_Tz_detector999_scoremapViz.jpg\"\n"
     ]
    },
    {
     "name": "stderr",
     "output_type": "stream",
     "text": [
      "locate patches: 0.05 seconds\n",
      "Not using image_cache.\n",
      "Load image: 8.16 seconds.\n",
      "Resize patches from 316 x 316 to 224 x 224.\n",
      "Extract patches: 122.02 seconds\n"
     ]
    },
    {
     "name": "stdout",
     "output_type": "stream",
     "text": [
      "(23091, 1, 224, 224)\n"
     ]
    },
    {
     "name": "stderr",
     "output_type": "stream",
     "text": [
      "Not using image_cache.\n"
     ]
    },
    {
     "name": "stdout",
     "output_type": "stream",
     "text": [
      "(724, 987, 3) (724, 987)\n",
      "aws s3 cp \"/home/yuncong/CSHL_scoremaps/10.0um/ChatCryoJane201710/ChatCryoJane201710_prep2_10.0um_detector999/ChatCryoJane201710_slide5-S2_prep2_10.0um_detector999/ChatCryoJane201710_slide5-S2_prep2_10.0um_detector999_Tz_scoremap.bp\" \"s3://mousebrainatlas-data/CSHL_scoremaps/10.0um/ChatCryoJane201710/ChatCryoJane201710_prep2_10.0um_detector999/ChatCryoJane201710_slide5-S2_prep2_10.0um_detector999/ChatCryoJane201710_slide5-S2_prep2_10.0um_detector999_Tz_scoremap.bp\"\n",
      "aws s3 cp \"/home/yuncong/CSHL_scoremap_viz/10.0um/Tz/ChatCryoJane201710/detector999/prep2/ChatCryoJane201710_slide5-S2_prep2_10.0um_Tz_detector999_scoremapViz.jpg\" \"s3://mousebrainatlas-data/CSHL_scoremap_viz/10.0um/Tz/ChatCryoJane201710/detector999/prep2/ChatCryoJane201710_slide5-S2_prep2_10.0um_Tz_detector999_scoremapViz.jpg\"\n"
     ]
    },
    {
     "name": "stderr",
     "output_type": "stream",
     "text": [
      "locate patches: 0.05 seconds\n",
      "Not using image_cache.\n",
      "Load image: 8.44 seconds.\n",
      "Resize patches from 316 x 316 to 224 x 224.\n",
      "Extract patches: 122.46 seconds\n"
     ]
    },
    {
     "name": "stdout",
     "output_type": "stream",
     "text": [
      "(23292, 1, 224, 224)\n"
     ]
    },
    {
     "name": "stderr",
     "output_type": "stream",
     "text": [
      "Not using image_cache.\n"
     ]
    },
    {
     "name": "stdout",
     "output_type": "stream",
     "text": [
      "(724, 987, 3) (724, 987)\n",
      "aws s3 cp \"/home/yuncong/CSHL_scoremaps/10.0um/ChatCryoJane201710/ChatCryoJane201710_prep2_10.0um_detector999/ChatCryoJane201710_slide6-S2_prep2_10.0um_detector999/ChatCryoJane201710_slide6-S2_prep2_10.0um_detector999_Tz_scoremap.bp\" \"s3://mousebrainatlas-data/CSHL_scoremaps/10.0um/ChatCryoJane201710/ChatCryoJane201710_prep2_10.0um_detector999/ChatCryoJane201710_slide6-S2_prep2_10.0um_detector999/ChatCryoJane201710_slide6-S2_prep2_10.0um_detector999_Tz_scoremap.bp\"\n",
      "aws s3 cp \"/home/yuncong/CSHL_scoremap_viz/10.0um/Tz/ChatCryoJane201710/detector999/prep2/ChatCryoJane201710_slide6-S2_prep2_10.0um_Tz_detector999_scoremapViz.jpg\" \"s3://mousebrainatlas-data/CSHL_scoremap_viz/10.0um/Tz/ChatCryoJane201710/detector999/prep2/ChatCryoJane201710_slide6-S2_prep2_10.0um_Tz_detector999_scoremapViz.jpg\"\n"
     ]
    },
    {
     "name": "stderr",
     "output_type": "stream",
     "text": [
      "locate patches: 0.05 seconds\n",
      "Not using image_cache.\n",
      "Load image: 8.09 seconds.\n",
      "Resize patches from 316 x 316 to 224 x 224.\n",
      "Extract patches: 124.88 seconds\n"
     ]
    },
    {
     "name": "stdout",
     "output_type": "stream",
     "text": [
      "(23526, 1, 224, 224)\n"
     ]
    },
    {
     "name": "stderr",
     "output_type": "stream",
     "text": [
      "Not using image_cache.\n"
     ]
    },
    {
     "name": "stdout",
     "output_type": "stream",
     "text": [
      "(724, 987, 3) (724, 987)\n",
      "aws s3 cp \"/home/yuncong/CSHL_scoremaps/10.0um/ChatCryoJane201710/ChatCryoJane201710_prep2_10.0um_detector999/ChatCryoJane201710_slide5-S3_prep2_10.0um_detector999/ChatCryoJane201710_slide5-S3_prep2_10.0um_detector999_Tz_scoremap.bp\" \"s3://mousebrainatlas-data/CSHL_scoremaps/10.0um/ChatCryoJane201710/ChatCryoJane201710_prep2_10.0um_detector999/ChatCryoJane201710_slide5-S3_prep2_10.0um_detector999/ChatCryoJane201710_slide5-S3_prep2_10.0um_detector999_Tz_scoremap.bp\"\n",
      "aws s3 cp \"/home/yuncong/CSHL_scoremap_viz/10.0um/Tz/ChatCryoJane201710/detector999/prep2/ChatCryoJane201710_slide5-S3_prep2_10.0um_Tz_detector999_scoremapViz.jpg\" \"s3://mousebrainatlas-data/CSHL_scoremap_viz/10.0um/Tz/ChatCryoJane201710/detector999/prep2/ChatCryoJane201710_slide5-S3_prep2_10.0um_Tz_detector999_scoremapViz.jpg\"\n"
     ]
    },
    {
     "name": "stderr",
     "output_type": "stream",
     "text": [
      "locate patches: 0.05 seconds\n",
      "Not using image_cache.\n",
      "Load image: 8.84 seconds.\n",
      "Resize patches from 316 x 316 to 224 x 224.\n",
      "Extract patches: 127.33 seconds\n"
     ]
    },
    {
     "name": "stdout",
     "output_type": "stream",
     "text": [
      "(23894, 1, 224, 224)\n"
     ]
    },
    {
     "name": "stderr",
     "output_type": "stream",
     "text": [
      "Not using image_cache.\n"
     ]
    },
    {
     "name": "stdout",
     "output_type": "stream",
     "text": [
      "(724, 987, 3) (724, 987)\n",
      "aws s3 cp \"/home/yuncong/CSHL_scoremaps/10.0um/ChatCryoJane201710/ChatCryoJane201710_prep2_10.0um_detector999/ChatCryoJane201710_slide6-S3_prep2_10.0um_detector999/ChatCryoJane201710_slide6-S3_prep2_10.0um_detector999_Tz_scoremap.bp\" \"s3://mousebrainatlas-data/CSHL_scoremaps/10.0um/ChatCryoJane201710/ChatCryoJane201710_prep2_10.0um_detector999/ChatCryoJane201710_slide6-S3_prep2_10.0um_detector999/ChatCryoJane201710_slide6-S3_prep2_10.0um_detector999_Tz_scoremap.bp\"\n",
      "aws s3 cp \"/home/yuncong/CSHL_scoremap_viz/10.0um/Tz/ChatCryoJane201710/detector999/prep2/ChatCryoJane201710_slide6-S3_prep2_10.0um_Tz_detector999_scoremapViz.jpg\" \"s3://mousebrainatlas-data/CSHL_scoremap_viz/10.0um/Tz/ChatCryoJane201710/detector999/prep2/ChatCryoJane201710_slide6-S3_prep2_10.0um_Tz_detector999_scoremapViz.jpg\"\n"
     ]
    },
    {
     "name": "stderr",
     "output_type": "stream",
     "text": [
      "locate patches: 0.06 seconds\n",
      "Not using image_cache.\n",
      "Load image: 8.59 seconds.\n",
      "Resize patches from 316 x 316 to 224 x 224.\n",
      "Extract patches: 126.82 seconds\n"
     ]
    },
    {
     "name": "stdout",
     "output_type": "stream",
     "text": [
      "(24053, 1, 224, 224)\n"
     ]
    },
    {
     "name": "stderr",
     "output_type": "stream",
     "text": [
      "Not using image_cache.\n"
     ]
    },
    {
     "name": "stdout",
     "output_type": "stream",
     "text": [
      "(724, 987, 3) (724, 987)\n",
      "aws s3 cp \"/home/yuncong/CSHL_scoremaps/10.0um/ChatCryoJane201710/ChatCryoJane201710_prep2_10.0um_detector999/ChatCryoJane201710_slide7-S1_prep2_10.0um_detector999/ChatCryoJane201710_slide7-S1_prep2_10.0um_detector999_Tz_scoremap.bp\" \"s3://mousebrainatlas-data/CSHL_scoremaps/10.0um/ChatCryoJane201710/ChatCryoJane201710_prep2_10.0um_detector999/ChatCryoJane201710_slide7-S1_prep2_10.0um_detector999/ChatCryoJane201710_slide7-S1_prep2_10.0um_detector999_Tz_scoremap.bp\"\n",
      "aws s3 cp \"/home/yuncong/CSHL_scoremap_viz/10.0um/Tz/ChatCryoJane201710/detector999/prep2/ChatCryoJane201710_slide7-S1_prep2_10.0um_Tz_detector999_scoremapViz.jpg\" \"s3://mousebrainatlas-data/CSHL_scoremap_viz/10.0um/Tz/ChatCryoJane201710/detector999/prep2/ChatCryoJane201710_slide7-S1_prep2_10.0um_Tz_detector999_scoremapViz.jpg\"\n"
     ]
    },
    {
     "name": "stderr",
     "output_type": "stream",
     "text": [
      "locate patches: 0.05 seconds\n",
      "Not using image_cache.\n",
      "Load image: 8.68 seconds.\n",
      "Resize patches from 316 x 316 to 224 x 224.\n",
      "Extract patches: 127.88 seconds\n"
     ]
    },
    {
     "name": "stdout",
     "output_type": "stream",
     "text": [
      "(24224, 1, 224, 224)\n"
     ]
    },
    {
     "name": "stderr",
     "output_type": "stream",
     "text": [
      "Not using image_cache.\n"
     ]
    },
    {
     "name": "stdout",
     "output_type": "stream",
     "text": [
      "(724, 987, 3) (724, 987)\n",
      "aws s3 cp \"/home/yuncong/CSHL_scoremaps/10.0um/ChatCryoJane201710/ChatCryoJane201710_prep2_10.0um_detector999/ChatCryoJane201710_slide8-S1_prep2_10.0um_detector999/ChatCryoJane201710_slide8-S1_prep2_10.0um_detector999_Tz_scoremap.bp\" \"s3://mousebrainatlas-data/CSHL_scoremaps/10.0um/ChatCryoJane201710/ChatCryoJane201710_prep2_10.0um_detector999/ChatCryoJane201710_slide8-S1_prep2_10.0um_detector999/ChatCryoJane201710_slide8-S1_prep2_10.0um_detector999_Tz_scoremap.bp\"\n",
      "aws s3 cp \"/home/yuncong/CSHL_scoremap_viz/10.0um/Tz/ChatCryoJane201710/detector999/prep2/ChatCryoJane201710_slide8-S1_prep2_10.0um_Tz_detector999_scoremapViz.jpg\" \"s3://mousebrainatlas-data/CSHL_scoremap_viz/10.0um/Tz/ChatCryoJane201710/detector999/prep2/ChatCryoJane201710_slide8-S1_prep2_10.0um_Tz_detector999_scoremapViz.jpg\"\n"
     ]
    },
    {
     "name": "stderr",
     "output_type": "stream",
     "text": [
      "locate patches: 0.05 seconds\n",
      "Not using image_cache.\n",
      "Load image: 8.54 seconds.\n",
      "Resize patches from 316 x 316 to 224 x 224.\n",
      "Extract patches: 128.89 seconds\n"
     ]
    },
    {
     "name": "stdout",
     "output_type": "stream",
     "text": [
      "(24409, 1, 224, 224)\n"
     ]
    },
    {
     "name": "stderr",
     "output_type": "stream",
     "text": [
      "Not using image_cache.\n"
     ]
    },
    {
     "name": "stdout",
     "output_type": "stream",
     "text": [
      "(724, 987, 3) (724, 987)\n",
      "aws s3 cp \"/home/yuncong/CSHL_scoremaps/10.0um/ChatCryoJane201710/ChatCryoJane201710_prep2_10.0um_detector999/ChatCryoJane201710_slide7-S2_prep2_10.0um_detector999/ChatCryoJane201710_slide7-S2_prep2_10.0um_detector999_Tz_scoremap.bp\" \"s3://mousebrainatlas-data/CSHL_scoremaps/10.0um/ChatCryoJane201710/ChatCryoJane201710_prep2_10.0um_detector999/ChatCryoJane201710_slide7-S2_prep2_10.0um_detector999/ChatCryoJane201710_slide7-S2_prep2_10.0um_detector999_Tz_scoremap.bp\"\n",
      "aws s3 cp \"/home/yuncong/CSHL_scoremap_viz/10.0um/Tz/ChatCryoJane201710/detector999/prep2/ChatCryoJane201710_slide7-S2_prep2_10.0um_Tz_detector999_scoremapViz.jpg\" \"s3://mousebrainatlas-data/CSHL_scoremap_viz/10.0um/Tz/ChatCryoJane201710/detector999/prep2/ChatCryoJane201710_slide7-S2_prep2_10.0um_Tz_detector999_scoremapViz.jpg\"\n"
     ]
    },
    {
     "name": "stderr",
     "output_type": "stream",
     "text": [
      "locate patches: 0.05 seconds\n",
      "Not using image_cache.\n",
      "Load image: 8.62 seconds.\n",
      "Resize patches from 316 x 316 to 224 x 224.\n",
      "Extract patches: 130.02 seconds\n"
     ]
    },
    {
     "name": "stdout",
     "output_type": "stream",
     "text": [
      "(24611, 1, 224, 224)\n"
     ]
    },
    {
     "name": "stderr",
     "output_type": "stream",
     "text": [
      "Not using image_cache.\n"
     ]
    },
    {
     "name": "stdout",
     "output_type": "stream",
     "text": [
      "(724, 987, 3) (724, 987)\n",
      "aws s3 cp \"/home/yuncong/CSHL_scoremaps/10.0um/ChatCryoJane201710/ChatCryoJane201710_prep2_10.0um_detector999/ChatCryoJane201710_slide8-S2_prep2_10.0um_detector999/ChatCryoJane201710_slide8-S2_prep2_10.0um_detector999_Tz_scoremap.bp\" \"s3://mousebrainatlas-data/CSHL_scoremaps/10.0um/ChatCryoJane201710/ChatCryoJane201710_prep2_10.0um_detector999/ChatCryoJane201710_slide8-S2_prep2_10.0um_detector999/ChatCryoJane201710_slide8-S2_prep2_10.0um_detector999_Tz_scoremap.bp\"\n",
      "aws s3 cp \"/home/yuncong/CSHL_scoremap_viz/10.0um/Tz/ChatCryoJane201710/detector999/prep2/ChatCryoJane201710_slide8-S2_prep2_10.0um_Tz_detector999_scoremapViz.jpg\" \"s3://mousebrainatlas-data/CSHL_scoremap_viz/10.0um/Tz/ChatCryoJane201710/detector999/prep2/ChatCryoJane201710_slide8-S2_prep2_10.0um_Tz_detector999_scoremapViz.jpg\"\n"
     ]
    },
    {
     "name": "stderr",
     "output_type": "stream",
     "text": [
      "locate patches: 0.06 seconds\n",
      "Not using image_cache.\n",
      "Load image: 8.93 seconds.\n",
      "Resize patches from 316 x 316 to 224 x 224.\n",
      "Extract patches: 132.04 seconds\n"
     ]
    },
    {
     "name": "stdout",
     "output_type": "stream",
     "text": [
      "(24763, 1, 224, 224)\n"
     ]
    },
    {
     "name": "stderr",
     "output_type": "stream",
     "text": [
      "Not using image_cache.\n"
     ]
    },
    {
     "name": "stdout",
     "output_type": "stream",
     "text": [
      "(724, 987, 3) (724, 987)\n",
      "aws s3 cp \"/home/yuncong/CSHL_scoremaps/10.0um/ChatCryoJane201710/ChatCryoJane201710_prep2_10.0um_detector999/ChatCryoJane201710_slide7-S3_prep2_10.0um_detector999/ChatCryoJane201710_slide7-S3_prep2_10.0um_detector999_Tz_scoremap.bp\" \"s3://mousebrainatlas-data/CSHL_scoremaps/10.0um/ChatCryoJane201710/ChatCryoJane201710_prep2_10.0um_detector999/ChatCryoJane201710_slide7-S3_prep2_10.0um_detector999/ChatCryoJane201710_slide7-S3_prep2_10.0um_detector999_Tz_scoremap.bp\"\n",
      "aws s3 cp \"/home/yuncong/CSHL_scoremap_viz/10.0um/Tz/ChatCryoJane201710/detector999/prep2/ChatCryoJane201710_slide7-S3_prep2_10.0um_Tz_detector999_scoremapViz.jpg\" \"s3://mousebrainatlas-data/CSHL_scoremap_viz/10.0um/Tz/ChatCryoJane201710/detector999/prep2/ChatCryoJane201710_slide7-S3_prep2_10.0um_Tz_detector999_scoremapViz.jpg\"\n"
     ]
    },
    {
     "name": "stderr",
     "output_type": "stream",
     "text": [
      "locate patches: 0.05 seconds\n",
      "Not using image_cache.\n",
      "Load image: 8.66 seconds.\n",
      "Resize patches from 316 x 316 to 224 x 224.\n",
      "Extract patches: 132.17 seconds\n"
     ]
    },
    {
     "name": "stdout",
     "output_type": "stream",
     "text": [
      "(25034, 1, 224, 224)\n"
     ]
    },
    {
     "name": "stderr",
     "output_type": "stream",
     "text": [
      "Not using image_cache.\n"
     ]
    },
    {
     "name": "stdout",
     "output_type": "stream",
     "text": [
      "(724, 987, 3) (724, 987)\n",
      "aws s3 cp \"/home/yuncong/CSHL_scoremaps/10.0um/ChatCryoJane201710/ChatCryoJane201710_prep2_10.0um_detector999/ChatCryoJane201710_slide8-S3_prep2_10.0um_detector999/ChatCryoJane201710_slide8-S3_prep2_10.0um_detector999_Tz_scoremap.bp\" \"s3://mousebrainatlas-data/CSHL_scoremaps/10.0um/ChatCryoJane201710/ChatCryoJane201710_prep2_10.0um_detector999/ChatCryoJane201710_slide8-S3_prep2_10.0um_detector999/ChatCryoJane201710_slide8-S3_prep2_10.0um_detector999_Tz_scoremap.bp\"\n",
      "aws s3 cp \"/home/yuncong/CSHL_scoremap_viz/10.0um/Tz/ChatCryoJane201710/detector999/prep2/ChatCryoJane201710_slide8-S3_prep2_10.0um_Tz_detector999_scoremapViz.jpg\" \"s3://mousebrainatlas-data/CSHL_scoremap_viz/10.0um/Tz/ChatCryoJane201710/detector999/prep2/ChatCryoJane201710_slide8-S3_prep2_10.0um_Tz_detector999_scoremapViz.jpg\"\n"
     ]
    },
    {
     "name": "stderr",
     "output_type": "stream",
     "text": [
      "locate patches: 0.05 seconds\n",
      "Not using image_cache.\n",
      "Load image: 9.00 seconds.\n",
      "Resize patches from 316 x 316 to 224 x 224.\n",
      "Extract patches: 133.95 seconds\n"
     ]
    },
    {
     "name": "stdout",
     "output_type": "stream",
     "text": [
      "(25326, 1, 224, 224)\n"
     ]
    },
    {
     "name": "stderr",
     "output_type": "stream",
     "text": [
      "Not using image_cache.\n"
     ]
    },
    {
     "name": "stdout",
     "output_type": "stream",
     "text": [
      "(724, 987, 3) (724, 987)\n",
      "aws s3 cp \"/home/yuncong/CSHL_scoremaps/10.0um/ChatCryoJane201710/ChatCryoJane201710_prep2_10.0um_detector999/ChatCryoJane201710_slide9-S1_prep2_10.0um_detector999/ChatCryoJane201710_slide9-S1_prep2_10.0um_detector999_Tz_scoremap.bp\" \"s3://mousebrainatlas-data/CSHL_scoremaps/10.0um/ChatCryoJane201710/ChatCryoJane201710_prep2_10.0um_detector999/ChatCryoJane201710_slide9-S1_prep2_10.0um_detector999/ChatCryoJane201710_slide9-S1_prep2_10.0um_detector999_Tz_scoremap.bp\"\n",
      "aws s3 cp \"/home/yuncong/CSHL_scoremap_viz/10.0um/Tz/ChatCryoJane201710/detector999/prep2/ChatCryoJane201710_slide9-S1_prep2_10.0um_Tz_detector999_scoremapViz.jpg\" \"s3://mousebrainatlas-data/CSHL_scoremap_viz/10.0um/Tz/ChatCryoJane201710/detector999/prep2/ChatCryoJane201710_slide9-S1_prep2_10.0um_Tz_detector999_scoremapViz.jpg\"\n"
     ]
    },
    {
     "name": "stderr",
     "output_type": "stream",
     "text": [
      "locate patches: 0.05 seconds\n",
      "Not using image_cache.\n",
      "Load image: 9.12 seconds.\n",
      "Resize patches from 316 x 316 to 224 x 224.\n",
      "Extract patches: 135.55 seconds\n"
     ]
    },
    {
     "name": "stdout",
     "output_type": "stream",
     "text": [
      "(25425, 1, 224, 224)\n"
     ]
    },
    {
     "name": "stderr",
     "output_type": "stream",
     "text": [
      "Not using image_cache.\n"
     ]
    },
    {
     "name": "stdout",
     "output_type": "stream",
     "text": [
      "(724, 987, 3) (724, 987)\n",
      "aws s3 cp \"/home/yuncong/CSHL_scoremaps/10.0um/ChatCryoJane201710/ChatCryoJane201710_prep2_10.0um_detector999/ChatCryoJane201710_slide10-S1_prep2_10.0um_detector999/ChatCryoJane201710_slide10-S1_prep2_10.0um_detector999_Tz_scoremap.bp\" \"s3://mousebrainatlas-data/CSHL_scoremaps/10.0um/ChatCryoJane201710/ChatCryoJane201710_prep2_10.0um_detector999/ChatCryoJane201710_slide10-S1_prep2_10.0um_detector999/ChatCryoJane201710_slide10-S1_prep2_10.0um_detector999_Tz_scoremap.bp\"\n",
      "aws s3 cp \"/home/yuncong/CSHL_scoremap_viz/10.0um/Tz/ChatCryoJane201710/detector999/prep2/ChatCryoJane201710_slide10-S1_prep2_10.0um_Tz_detector999_scoremapViz.jpg\" \"s3://mousebrainatlas-data/CSHL_scoremap_viz/10.0um/Tz/ChatCryoJane201710/detector999/prep2/ChatCryoJane201710_slide10-S1_prep2_10.0um_Tz_detector999_scoremapViz.jpg\"\n"
     ]
    },
    {
     "name": "stderr",
     "output_type": "stream",
     "text": [
      "locate patches: 0.06 seconds\n",
      "Not using image_cache.\n",
      "Load image: 8.85 seconds.\n",
      "Resize patches from 316 x 316 to 224 x 224.\n",
      "Extract patches: 135.51 seconds\n"
     ]
    },
    {
     "name": "stdout",
     "output_type": "stream",
     "text": [
      "(25630, 1, 224, 224)\n"
     ]
    },
    {
     "name": "stderr",
     "output_type": "stream",
     "text": [
      "Not using image_cache.\n"
     ]
    },
    {
     "name": "stdout",
     "output_type": "stream",
     "text": [
      "(724, 987, 3) (724, 987)\n",
      "aws s3 cp \"/home/yuncong/CSHL_scoremaps/10.0um/ChatCryoJane201710/ChatCryoJane201710_prep2_10.0um_detector999/ChatCryoJane201710_slide9-S2_prep2_10.0um_detector999/ChatCryoJane201710_slide9-S2_prep2_10.0um_detector999_Tz_scoremap.bp\" \"s3://mousebrainatlas-data/CSHL_scoremaps/10.0um/ChatCryoJane201710/ChatCryoJane201710_prep2_10.0um_detector999/ChatCryoJane201710_slide9-S2_prep2_10.0um_detector999/ChatCryoJane201710_slide9-S2_prep2_10.0um_detector999_Tz_scoremap.bp\"\n",
      "aws s3 cp \"/home/yuncong/CSHL_scoremap_viz/10.0um/Tz/ChatCryoJane201710/detector999/prep2/ChatCryoJane201710_slide9-S2_prep2_10.0um_Tz_detector999_scoremapViz.jpg\" \"s3://mousebrainatlas-data/CSHL_scoremap_viz/10.0um/Tz/ChatCryoJane201710/detector999/prep2/ChatCryoJane201710_slide9-S2_prep2_10.0um_Tz_detector999_scoremapViz.jpg\"\n"
     ]
    },
    {
     "name": "stderr",
     "output_type": "stream",
     "text": [
      "locate patches: 0.05 seconds\n",
      "Not using image_cache.\n",
      "Load image: 9.12 seconds.\n",
      "Resize patches from 316 x 316 to 224 x 224.\n",
      "Extract patches: 137.83 seconds\n"
     ]
    },
    {
     "name": "stdout",
     "output_type": "stream",
     "text": [
      "(25817, 1, 224, 224)\n"
     ]
    },
    {
     "name": "stderr",
     "output_type": "stream",
     "text": [
      "Not using image_cache.\n"
     ]
    },
    {
     "name": "stdout",
     "output_type": "stream",
     "text": [
      "(724, 987, 3) (724, 987)\n",
      "aws s3 cp \"/home/yuncong/CSHL_scoremaps/10.0um/ChatCryoJane201710/ChatCryoJane201710_prep2_10.0um_detector999/ChatCryoJane201710_slide10-S2_prep2_10.0um_detector999/ChatCryoJane201710_slide10-S2_prep2_10.0um_detector999_Tz_scoremap.bp\" \"s3://mousebrainatlas-data/CSHL_scoremaps/10.0um/ChatCryoJane201710/ChatCryoJane201710_prep2_10.0um_detector999/ChatCryoJane201710_slide10-S2_prep2_10.0um_detector999/ChatCryoJane201710_slide10-S2_prep2_10.0um_detector999_Tz_scoremap.bp\"\n",
      "aws s3 cp \"/home/yuncong/CSHL_scoremap_viz/10.0um/Tz/ChatCryoJane201710/detector999/prep2/ChatCryoJane201710_slide10-S2_prep2_10.0um_Tz_detector999_scoremapViz.jpg\" \"s3://mousebrainatlas-data/CSHL_scoremap_viz/10.0um/Tz/ChatCryoJane201710/detector999/prep2/ChatCryoJane201710_slide10-S2_prep2_10.0um_Tz_detector999_scoremapViz.jpg\"\n"
     ]
    },
    {
     "name": "stderr",
     "output_type": "stream",
     "text": [
      "locate patches: 0.04 seconds\n",
      "Not using image_cache.\n",
      "Load image: 8.84 seconds.\n",
      "Resize patches from 316 x 316 to 224 x 224.\n",
      "Extract patches: 136.42 seconds\n"
     ]
    },
    {
     "name": "stdout",
     "output_type": "stream",
     "text": [
      "(25951, 1, 224, 224)\n"
     ]
    },
    {
     "name": "stderr",
     "output_type": "stream",
     "text": [
      "Not using image_cache.\n"
     ]
    },
    {
     "name": "stdout",
     "output_type": "stream",
     "text": [
      "(724, 987, 3) (724, 987)\n",
      "aws s3 cp \"/home/yuncong/CSHL_scoremaps/10.0um/ChatCryoJane201710/ChatCryoJane201710_prep2_10.0um_detector999/ChatCryoJane201710_slide9-S3_prep2_10.0um_detector999/ChatCryoJane201710_slide9-S3_prep2_10.0um_detector999_Tz_scoremap.bp\" \"s3://mousebrainatlas-data/CSHL_scoremaps/10.0um/ChatCryoJane201710/ChatCryoJane201710_prep2_10.0um_detector999/ChatCryoJane201710_slide9-S3_prep2_10.0um_detector999/ChatCryoJane201710_slide9-S3_prep2_10.0um_detector999_Tz_scoremap.bp\"\n",
      "aws s3 cp \"/home/yuncong/CSHL_scoremap_viz/10.0um/Tz/ChatCryoJane201710/detector999/prep2/ChatCryoJane201710_slide9-S3_prep2_10.0um_Tz_detector999_scoremapViz.jpg\" \"s3://mousebrainatlas-data/CSHL_scoremap_viz/10.0um/Tz/ChatCryoJane201710/detector999/prep2/ChatCryoJane201710_slide9-S3_prep2_10.0um_Tz_detector999_scoremapViz.jpg\"\n"
     ]
    },
    {
     "name": "stderr",
     "output_type": "stream",
     "text": [
      "locate patches: 0.04 seconds\n",
      "Not using image_cache.\n",
      "Load image: 9.04 seconds.\n",
      "Resize patches from 316 x 316 to 224 x 224.\n",
      "Extract patches: 141.25 seconds\n"
     ]
    },
    {
     "name": "stdout",
     "output_type": "stream",
     "text": [
      "(26127, 1, 224, 224)\n"
     ]
    },
    {
     "name": "stderr",
     "output_type": "stream",
     "text": [
      "Not using image_cache.\n"
     ]
    },
    {
     "name": "stdout",
     "output_type": "stream",
     "text": [
      "(724, 987, 3) (724, 987)\n",
      "aws s3 cp \"/home/yuncong/CSHL_scoremaps/10.0um/ChatCryoJane201710/ChatCryoJane201710_prep2_10.0um_detector999/ChatCryoJane201710_slide10-S3_prep2_10.0um_detector999/ChatCryoJane201710_slide10-S3_prep2_10.0um_detector999_Tz_scoremap.bp\" \"s3://mousebrainatlas-data/CSHL_scoremaps/10.0um/ChatCryoJane201710/ChatCryoJane201710_prep2_10.0um_detector999/ChatCryoJane201710_slide10-S3_prep2_10.0um_detector999/ChatCryoJane201710_slide10-S3_prep2_10.0um_detector999_Tz_scoremap.bp\"\n",
      "aws s3 cp \"/home/yuncong/CSHL_scoremap_viz/10.0um/Tz/ChatCryoJane201710/detector999/prep2/ChatCryoJane201710_slide10-S3_prep2_10.0um_Tz_detector999_scoremapViz.jpg\" \"s3://mousebrainatlas-data/CSHL_scoremap_viz/10.0um/Tz/ChatCryoJane201710/detector999/prep2/ChatCryoJane201710_slide10-S3_prep2_10.0um_Tz_detector999_scoremapViz.jpg\"\n"
     ]
    },
    {
     "name": "stderr",
     "output_type": "stream",
     "text": [
      "locate patches: 0.04 seconds\n",
      "Not using image_cache.\n",
      "Load image: 9.21 seconds.\n",
      "Resize patches from 316 x 316 to 224 x 224.\n",
      "Extract patches: 135.90 seconds\n"
     ]
    },
    {
     "name": "stdout",
     "output_type": "stream",
     "text": [
      "(25082, 1, 224, 224)\n"
     ]
    },
    {
     "name": "stderr",
     "output_type": "stream",
     "text": [
      "Not using image_cache.\n"
     ]
    },
    {
     "name": "stdout",
     "output_type": "stream",
     "text": [
      "(724, 987, 3) (724, 987)\n",
      "aws s3 cp \"/home/yuncong/CSHL_scoremaps/10.0um/ChatCryoJane201710/ChatCryoJane201710_prep2_10.0um_detector999/ChatCryoJane201710_slide11-S1_prep2_10.0um_detector999/ChatCryoJane201710_slide11-S1_prep2_10.0um_detector999_Tz_scoremap.bp\" \"s3://mousebrainatlas-data/CSHL_scoremaps/10.0um/ChatCryoJane201710/ChatCryoJane201710_prep2_10.0um_detector999/ChatCryoJane201710_slide11-S1_prep2_10.0um_detector999/ChatCryoJane201710_slide11-S1_prep2_10.0um_detector999_Tz_scoremap.bp\"\n",
      "aws s3 cp \"/home/yuncong/CSHL_scoremap_viz/10.0um/Tz/ChatCryoJane201710/detector999/prep2/ChatCryoJane201710_slide11-S1_prep2_10.0um_Tz_detector999_scoremapViz.jpg\" \"s3://mousebrainatlas-data/CSHL_scoremap_viz/10.0um/Tz/ChatCryoJane201710/detector999/prep2/ChatCryoJane201710_slide11-S1_prep2_10.0um_Tz_detector999_scoremapViz.jpg\"\n"
     ]
    },
    {
     "name": "stderr",
     "output_type": "stream",
     "text": [
      "locate patches: 0.05 seconds\n",
      "Not using image_cache.\n",
      "Load image: 9.68 seconds.\n",
      "Resize patches from 316 x 316 to 224 x 224.\n",
      "Extract patches: 143.21 seconds\n"
     ]
    },
    {
     "name": "stdout",
     "output_type": "stream",
     "text": [
      "(26494, 1, 224, 224)\n"
     ]
    },
    {
     "name": "stderr",
     "output_type": "stream",
     "text": [
      "Not using image_cache.\n"
     ]
    },
    {
     "name": "stdout",
     "output_type": "stream",
     "text": [
      "(724, 987, 3) (724, 987)\n",
      "aws s3 cp \"/home/yuncong/CSHL_scoremaps/10.0um/ChatCryoJane201710/ChatCryoJane201710_prep2_10.0um_detector999/ChatCryoJane201710_slide12-S1_prep2_10.0um_detector999/ChatCryoJane201710_slide12-S1_prep2_10.0um_detector999_Tz_scoremap.bp\" \"s3://mousebrainatlas-data/CSHL_scoremaps/10.0um/ChatCryoJane201710/ChatCryoJane201710_prep2_10.0um_detector999/ChatCryoJane201710_slide12-S1_prep2_10.0um_detector999/ChatCryoJane201710_slide12-S1_prep2_10.0um_detector999_Tz_scoremap.bp\"\n",
      "aws s3 cp \"/home/yuncong/CSHL_scoremap_viz/10.0um/Tz/ChatCryoJane201710/detector999/prep2/ChatCryoJane201710_slide12-S1_prep2_10.0um_Tz_detector999_scoremapViz.jpg\" \"s3://mousebrainatlas-data/CSHL_scoremap_viz/10.0um/Tz/ChatCryoJane201710/detector999/prep2/ChatCryoJane201710_slide12-S1_prep2_10.0um_Tz_detector999_scoremapViz.jpg\"\n"
     ]
    },
    {
     "name": "stderr",
     "output_type": "stream",
     "text": [
      "locate patches: 0.05 seconds\n",
      "Not using image_cache.\n",
      "Load image: 9.27 seconds.\n",
      "Resize patches from 316 x 316 to 224 x 224.\n",
      "Extract patches: 139.99 seconds\n"
     ]
    },
    {
     "name": "stdout",
     "output_type": "stream",
     "text": [
      "(26670, 1, 224, 224)\n"
     ]
    },
    {
     "name": "stderr",
     "output_type": "stream",
     "text": [
      "Not using image_cache.\n"
     ]
    },
    {
     "name": "stdout",
     "output_type": "stream",
     "text": [
      "(724, 987, 3) (724, 987)\n",
      "aws s3 cp \"/home/yuncong/CSHL_scoremaps/10.0um/ChatCryoJane201710/ChatCryoJane201710_prep2_10.0um_detector999/ChatCryoJane201710_slide11-S2_prep2_10.0um_detector999/ChatCryoJane201710_slide11-S2_prep2_10.0um_detector999_Tz_scoremap.bp\" \"s3://mousebrainatlas-data/CSHL_scoremaps/10.0um/ChatCryoJane201710/ChatCryoJane201710_prep2_10.0um_detector999/ChatCryoJane201710_slide11-S2_prep2_10.0um_detector999/ChatCryoJane201710_slide11-S2_prep2_10.0um_detector999_Tz_scoremap.bp\"\n",
      "aws s3 cp \"/home/yuncong/CSHL_scoremap_viz/10.0um/Tz/ChatCryoJane201710/detector999/prep2/ChatCryoJane201710_slide11-S2_prep2_10.0um_Tz_detector999_scoremapViz.jpg\" \"s3://mousebrainatlas-data/CSHL_scoremap_viz/10.0um/Tz/ChatCryoJane201710/detector999/prep2/ChatCryoJane201710_slide11-S2_prep2_10.0um_Tz_detector999_scoremapViz.jpg\"\n"
     ]
    },
    {
     "name": "stderr",
     "output_type": "stream",
     "text": [
      "locate patches: 0.04 seconds\n",
      "Not using image_cache.\n",
      "Load image: 9.72 seconds.\n",
      "Resize patches from 316 x 316 to 224 x 224.\n",
      "Extract patches: 141.12 seconds\n"
     ]
    },
    {
     "name": "stdout",
     "output_type": "stream",
     "text": [
      "(26786, 1, 224, 224)\n"
     ]
    },
    {
     "name": "stderr",
     "output_type": "stream",
     "text": [
      "Not using image_cache.\n"
     ]
    },
    {
     "name": "stdout",
     "output_type": "stream",
     "text": [
      "(724, 987, 3) (724, 987)\n",
      "aws s3 cp \"/home/yuncong/CSHL_scoremaps/10.0um/ChatCryoJane201710/ChatCryoJane201710_prep2_10.0um_detector999/ChatCryoJane201710_slide12-S2_prep2_10.0um_detector999/ChatCryoJane201710_slide12-S2_prep2_10.0um_detector999_Tz_scoremap.bp\" \"s3://mousebrainatlas-data/CSHL_scoremaps/10.0um/ChatCryoJane201710/ChatCryoJane201710_prep2_10.0um_detector999/ChatCryoJane201710_slide12-S2_prep2_10.0um_detector999/ChatCryoJane201710_slide12-S2_prep2_10.0um_detector999_Tz_scoremap.bp\"\n",
      "aws s3 cp \"/home/yuncong/CSHL_scoremap_viz/10.0um/Tz/ChatCryoJane201710/detector999/prep2/ChatCryoJane201710_slide12-S2_prep2_10.0um_Tz_detector999_scoremapViz.jpg\" \"s3://mousebrainatlas-data/CSHL_scoremap_viz/10.0um/Tz/ChatCryoJane201710/detector999/prep2/ChatCryoJane201710_slide12-S2_prep2_10.0um_Tz_detector999_scoremapViz.jpg\"\n"
     ]
    },
    {
     "name": "stderr",
     "output_type": "stream",
     "text": [
      "locate patches: 0.05 seconds\n",
      "Not using image_cache.\n",
      "Load image: 9.21 seconds.\n",
      "Resize patches from 316 x 316 to 224 x 224.\n",
      "Extract patches: 140.85 seconds\n"
     ]
    },
    {
     "name": "stdout",
     "output_type": "stream",
     "text": [
      "(26941, 1, 224, 224)\n"
     ]
    },
    {
     "name": "stderr",
     "output_type": "stream",
     "text": [
      "Not using image_cache.\n"
     ]
    },
    {
     "name": "stdout",
     "output_type": "stream",
     "text": [
      "(724, 987, 3) (724, 987)\n",
      "aws s3 cp \"/home/yuncong/CSHL_scoremaps/10.0um/ChatCryoJane201710/ChatCryoJane201710_prep2_10.0um_detector999/ChatCryoJane201710_slide11-S3_prep2_10.0um_detector999/ChatCryoJane201710_slide11-S3_prep2_10.0um_detector999_Tz_scoremap.bp\" \"s3://mousebrainatlas-data/CSHL_scoremaps/10.0um/ChatCryoJane201710/ChatCryoJane201710_prep2_10.0um_detector999/ChatCryoJane201710_slide11-S3_prep2_10.0um_detector999/ChatCryoJane201710_slide11-S3_prep2_10.0um_detector999_Tz_scoremap.bp\"\n",
      "aws s3 cp \"/home/yuncong/CSHL_scoremap_viz/10.0um/Tz/ChatCryoJane201710/detector999/prep2/ChatCryoJane201710_slide11-S3_prep2_10.0um_Tz_detector999_scoremapViz.jpg\" \"s3://mousebrainatlas-data/CSHL_scoremap_viz/10.0um/Tz/ChatCryoJane201710/detector999/prep2/ChatCryoJane201710_slide11-S3_prep2_10.0um_Tz_detector999_scoremapViz.jpg\"\n"
     ]
    },
    {
     "name": "stderr",
     "output_type": "stream",
     "text": [
      "locate patches: 0.05 seconds\n",
      "Not using image_cache.\n",
      "Load image: 9.69 seconds.\n",
      "Resize patches from 316 x 316 to 224 x 224.\n",
      "Extract patches: 145.21 seconds\n"
     ]
    },
    {
     "name": "stdout",
     "output_type": "stream",
     "text": [
      "(27120, 1, 224, 224)\n"
     ]
    },
    {
     "name": "stderr",
     "output_type": "stream",
     "text": [
      "Not using image_cache.\n"
     ]
    },
    {
     "name": "stdout",
     "output_type": "stream",
     "text": [
      "(724, 987, 3) (724, 987)\n",
      "aws s3 cp \"/home/yuncong/CSHL_scoremaps/10.0um/ChatCryoJane201710/ChatCryoJane201710_prep2_10.0um_detector999/ChatCryoJane201710_slide12-S3_prep2_10.0um_detector999/ChatCryoJane201710_slide12-S3_prep2_10.0um_detector999_Tz_scoremap.bp\" \"s3://mousebrainatlas-data/CSHL_scoremaps/10.0um/ChatCryoJane201710/ChatCryoJane201710_prep2_10.0um_detector999/ChatCryoJane201710_slide12-S3_prep2_10.0um_detector999/ChatCryoJane201710_slide12-S3_prep2_10.0um_detector999_Tz_scoremap.bp\"\n",
      "aws s3 cp \"/home/yuncong/CSHL_scoremap_viz/10.0um/Tz/ChatCryoJane201710/detector999/prep2/ChatCryoJane201710_slide12-S3_prep2_10.0um_Tz_detector999_scoremapViz.jpg\" \"s3://mousebrainatlas-data/CSHL_scoremap_viz/10.0um/Tz/ChatCryoJane201710/detector999/prep2/ChatCryoJane201710_slide12-S3_prep2_10.0um_Tz_detector999_scoremapViz.jpg\"\n"
     ]
    },
    {
     "name": "stderr",
     "output_type": "stream",
     "text": [
      "locate patches: 0.04 seconds\n",
      "Not using image_cache.\n",
      "Load image: 9.18 seconds.\n",
      "Resize patches from 316 x 316 to 224 x 224.\n",
      "Extract patches: 143.00 seconds\n"
     ]
    },
    {
     "name": "stdout",
     "output_type": "stream",
     "text": [
      "(26872, 1, 224, 224)\n"
     ]
    },
    {
     "name": "stderr",
     "output_type": "stream",
     "text": [
      "Not using image_cache.\n"
     ]
    },
    {
     "name": "stdout",
     "output_type": "stream",
     "text": [
      "(724, 987, 3) (724, 987)\n",
      "aws s3 cp \"/home/yuncong/CSHL_scoremaps/10.0um/ChatCryoJane201710/ChatCryoJane201710_prep2_10.0um_detector999/ChatCryoJane201710_slide13-S1_prep2_10.0um_detector999/ChatCryoJane201710_slide13-S1_prep2_10.0um_detector999_Tz_scoremap.bp\" \"s3://mousebrainatlas-data/CSHL_scoremaps/10.0um/ChatCryoJane201710/ChatCryoJane201710_prep2_10.0um_detector999/ChatCryoJane201710_slide13-S1_prep2_10.0um_detector999/ChatCryoJane201710_slide13-S1_prep2_10.0um_detector999_Tz_scoremap.bp\"\n",
      "aws s3 cp \"/home/yuncong/CSHL_scoremap_viz/10.0um/Tz/ChatCryoJane201710/detector999/prep2/ChatCryoJane201710_slide13-S1_prep2_10.0um_Tz_detector999_scoremapViz.jpg\" \"s3://mousebrainatlas-data/CSHL_scoremap_viz/10.0um/Tz/ChatCryoJane201710/detector999/prep2/ChatCryoJane201710_slide13-S1_prep2_10.0um_Tz_detector999_scoremapViz.jpg\"\n"
     ]
    },
    {
     "name": "stderr",
     "output_type": "stream",
     "text": [
      "locate patches: 0.05 seconds\n",
      "Not using image_cache.\n",
      "Load image: 9.31 seconds.\n",
      "Resize patches from 316 x 316 to 224 x 224.\n",
      "Extract patches: 143.07 seconds\n"
     ]
    },
    {
     "name": "stdout",
     "output_type": "stream",
     "text": [
      "(27211, 1, 224, 224)\n"
     ]
    },
    {
     "name": "stderr",
     "output_type": "stream",
     "text": [
      "Not using image_cache.\n"
     ]
    },
    {
     "name": "stdout",
     "output_type": "stream",
     "text": [
      "(724, 987, 3) (724, 987)\n",
      "aws s3 cp \"/home/yuncong/CSHL_scoremaps/10.0um/ChatCryoJane201710/ChatCryoJane201710_prep2_10.0um_detector999/ChatCryoJane201710_slide14-S1_prep2_10.0um_detector999/ChatCryoJane201710_slide14-S1_prep2_10.0um_detector999_Tz_scoremap.bp\" \"s3://mousebrainatlas-data/CSHL_scoremaps/10.0um/ChatCryoJane201710/ChatCryoJane201710_prep2_10.0um_detector999/ChatCryoJane201710_slide14-S1_prep2_10.0um_detector999/ChatCryoJane201710_slide14-S1_prep2_10.0um_detector999_Tz_scoremap.bp\"\n",
      "aws s3 cp \"/home/yuncong/CSHL_scoremap_viz/10.0um/Tz/ChatCryoJane201710/detector999/prep2/ChatCryoJane201710_slide14-S1_prep2_10.0um_Tz_detector999_scoremapViz.jpg\" \"s3://mousebrainatlas-data/CSHL_scoremap_viz/10.0um/Tz/ChatCryoJane201710/detector999/prep2/ChatCryoJane201710_slide14-S1_prep2_10.0um_Tz_detector999_scoremapViz.jpg\"\n"
     ]
    },
    {
     "name": "stderr",
     "output_type": "stream",
     "text": [
      "locate patches: 0.05 seconds\n",
      "Not using image_cache.\n",
      "Load image: 9.32 seconds.\n",
      "Resize patches from 316 x 316 to 224 x 224.\n",
      "Extract patches: 145.88 seconds\n"
     ]
    },
    {
     "name": "stdout",
     "output_type": "stream",
     "text": [
      "(27529, 1, 224, 224)\n"
     ]
    },
    {
     "name": "stderr",
     "output_type": "stream",
     "text": [
      "Not using image_cache.\n"
     ]
    },
    {
     "name": "stdout",
     "output_type": "stream",
     "text": [
      "(724, 987, 3) (724, 987)\n",
      "aws s3 cp \"/home/yuncong/CSHL_scoremaps/10.0um/ChatCryoJane201710/ChatCryoJane201710_prep2_10.0um_detector999/ChatCryoJane201710_slide13-S2_prep2_10.0um_detector999/ChatCryoJane201710_slide13-S2_prep2_10.0um_detector999_Tz_scoremap.bp\" \"s3://mousebrainatlas-data/CSHL_scoremaps/10.0um/ChatCryoJane201710/ChatCryoJane201710_prep2_10.0um_detector999/ChatCryoJane201710_slide13-S2_prep2_10.0um_detector999/ChatCryoJane201710_slide13-S2_prep2_10.0um_detector999_Tz_scoremap.bp\"\n",
      "aws s3 cp \"/home/yuncong/CSHL_scoremap_viz/10.0um/Tz/ChatCryoJane201710/detector999/prep2/ChatCryoJane201710_slide13-S2_prep2_10.0um_Tz_detector999_scoremapViz.jpg\" \"s3://mousebrainatlas-data/CSHL_scoremap_viz/10.0um/Tz/ChatCryoJane201710/detector999/prep2/ChatCryoJane201710_slide13-S2_prep2_10.0um_Tz_detector999_scoremapViz.jpg\"\n"
     ]
    },
    {
     "name": "stderr",
     "output_type": "stream",
     "text": [
      "locate patches: 0.04 seconds\n",
      "Not using image_cache.\n",
      "Load image: 9.36 seconds.\n",
      "Resize patches from 316 x 316 to 224 x 224.\n",
      "Extract patches: 145.86 seconds\n"
     ]
    },
    {
     "name": "stdout",
     "output_type": "stream",
     "text": [
      "(27583, 1, 224, 224)\n"
     ]
    },
    {
     "name": "stderr",
     "output_type": "stream",
     "text": [
      "Not using image_cache.\n"
     ]
    },
    {
     "name": "stdout",
     "output_type": "stream",
     "text": [
      "(724, 987, 3) (724, 987)\n",
      "aws s3 cp \"/home/yuncong/CSHL_scoremaps/10.0um/ChatCryoJane201710/ChatCryoJane201710_prep2_10.0um_detector999/ChatCryoJane201710_slide14-S2_prep2_10.0um_detector999/ChatCryoJane201710_slide14-S2_prep2_10.0um_detector999_Tz_scoremap.bp\" \"s3://mousebrainatlas-data/CSHL_scoremaps/10.0um/ChatCryoJane201710/ChatCryoJane201710_prep2_10.0um_detector999/ChatCryoJane201710_slide14-S2_prep2_10.0um_detector999/ChatCryoJane201710_slide14-S2_prep2_10.0um_detector999_Tz_scoremap.bp\"\n",
      "aws s3 cp \"/home/yuncong/CSHL_scoremap_viz/10.0um/Tz/ChatCryoJane201710/detector999/prep2/ChatCryoJane201710_slide14-S2_prep2_10.0um_Tz_detector999_scoremapViz.jpg\" \"s3://mousebrainatlas-data/CSHL_scoremap_viz/10.0um/Tz/ChatCryoJane201710/detector999/prep2/ChatCryoJane201710_slide14-S2_prep2_10.0um_Tz_detector999_scoremapViz.jpg\"\n"
     ]
    },
    {
     "name": "stderr",
     "output_type": "stream",
     "text": [
      "locate patches: 0.06 seconds\n",
      "Not using image_cache.\n",
      "Load image: 9.27 seconds.\n",
      "Resize patches from 316 x 316 to 224 x 224.\n",
      "Extract patches: 147.72 seconds\n"
     ]
    },
    {
     "name": "stdout",
     "output_type": "stream",
     "text": [
      "(27940, 1, 224, 224)\n"
     ]
    },
    {
     "name": "stderr",
     "output_type": "stream",
     "text": [
      "Not using image_cache.\n"
     ]
    },
    {
     "name": "stdout",
     "output_type": "stream",
     "text": [
      "(724, 987, 3) (724, 987)\n",
      "aws s3 cp \"/home/yuncong/CSHL_scoremaps/10.0um/ChatCryoJane201710/ChatCryoJane201710_prep2_10.0um_detector999/ChatCryoJane201710_slide13-S3_prep2_10.0um_detector999/ChatCryoJane201710_slide13-S3_prep2_10.0um_detector999_Tz_scoremap.bp\" \"s3://mousebrainatlas-data/CSHL_scoremaps/10.0um/ChatCryoJane201710/ChatCryoJane201710_prep2_10.0um_detector999/ChatCryoJane201710_slide13-S3_prep2_10.0um_detector999/ChatCryoJane201710_slide13-S3_prep2_10.0um_detector999_Tz_scoremap.bp\"\n",
      "aws s3 cp \"/home/yuncong/CSHL_scoremap_viz/10.0um/Tz/ChatCryoJane201710/detector999/prep2/ChatCryoJane201710_slide13-S3_prep2_10.0um_Tz_detector999_scoremapViz.jpg\" \"s3://mousebrainatlas-data/CSHL_scoremap_viz/10.0um/Tz/ChatCryoJane201710/detector999/prep2/ChatCryoJane201710_slide13-S3_prep2_10.0um_Tz_detector999_scoremapViz.jpg\"\n"
     ]
    },
    {
     "name": "stderr",
     "output_type": "stream",
     "text": [
      "locate patches: 0.05 seconds\n",
      "Not using image_cache.\n",
      "Load image: 9.21 seconds.\n",
      "Resize patches from 316 x 316 to 224 x 224.\n",
      "Extract patches: 146.23 seconds\n"
     ]
    },
    {
     "name": "stdout",
     "output_type": "stream",
     "text": [
      "(27423, 1, 224, 224)\n"
     ]
    },
    {
     "name": "stderr",
     "output_type": "stream",
     "text": [
      "Not using image_cache.\n"
     ]
    },
    {
     "name": "stdout",
     "output_type": "stream",
     "text": [
      "(724, 987, 3) (724, 987)\n",
      "aws s3 cp \"/home/yuncong/CSHL_scoremaps/10.0um/ChatCryoJane201710/ChatCryoJane201710_prep2_10.0um_detector999/ChatCryoJane201710_slide14-S3_prep2_10.0um_detector999/ChatCryoJane201710_slide14-S3_prep2_10.0um_detector999_Tz_scoremap.bp\" \"s3://mousebrainatlas-data/CSHL_scoremaps/10.0um/ChatCryoJane201710/ChatCryoJane201710_prep2_10.0um_detector999/ChatCryoJane201710_slide14-S3_prep2_10.0um_detector999/ChatCryoJane201710_slide14-S3_prep2_10.0um_detector999_Tz_scoremap.bp\"\n",
      "aws s3 cp \"/home/yuncong/CSHL_scoremap_viz/10.0um/Tz/ChatCryoJane201710/detector999/prep2/ChatCryoJane201710_slide14-S3_prep2_10.0um_Tz_detector999_scoremapViz.jpg\" \"s3://mousebrainatlas-data/CSHL_scoremap_viz/10.0um/Tz/ChatCryoJane201710/detector999/prep2/ChatCryoJane201710_slide14-S3_prep2_10.0um_Tz_detector999_scoremapViz.jpg\"\n"
     ]
    },
    {
     "name": "stderr",
     "output_type": "stream",
     "text": [
      "locate patches: 0.04 seconds\n",
      "Not using image_cache.\n",
      "Load image: 9.62 seconds.\n",
      "Resize patches from 316 x 316 to 224 x 224.\n",
      "Extract patches: 149.29 seconds\n"
     ]
    },
    {
     "name": "stdout",
     "output_type": "stream",
     "text": [
      "(28102, 1, 224, 224)\n"
     ]
    },
    {
     "name": "stderr",
     "output_type": "stream",
     "text": [
      "Not using image_cache.\n"
     ]
    },
    {
     "name": "stdout",
     "output_type": "stream",
     "text": [
      "(724, 987, 3) (724, 987)\n",
      "aws s3 cp \"/home/yuncong/CSHL_scoremaps/10.0um/ChatCryoJane201710/ChatCryoJane201710_prep2_10.0um_detector999/ChatCryoJane201710_slide15-S1_prep2_10.0um_detector999/ChatCryoJane201710_slide15-S1_prep2_10.0um_detector999_Tz_scoremap.bp\" \"s3://mousebrainatlas-data/CSHL_scoremaps/10.0um/ChatCryoJane201710/ChatCryoJane201710_prep2_10.0um_detector999/ChatCryoJane201710_slide15-S1_prep2_10.0um_detector999/ChatCryoJane201710_slide15-S1_prep2_10.0um_detector999_Tz_scoremap.bp\"\n",
      "aws s3 cp \"/home/yuncong/CSHL_scoremap_viz/10.0um/Tz/ChatCryoJane201710/detector999/prep2/ChatCryoJane201710_slide15-S1_prep2_10.0um_Tz_detector999_scoremapViz.jpg\" \"s3://mousebrainatlas-data/CSHL_scoremap_viz/10.0um/Tz/ChatCryoJane201710/detector999/prep2/ChatCryoJane201710_slide15-S1_prep2_10.0um_Tz_detector999_scoremapViz.jpg\"\n"
     ]
    },
    {
     "name": "stderr",
     "output_type": "stream",
     "text": [
      "locate patches: 0.04 seconds\n",
      "Not using image_cache.\n",
      "Load image: 9.49 seconds.\n",
      "Resize patches from 316 x 316 to 224 x 224.\n",
      "Extract patches: 145.44 seconds\n"
     ]
    },
    {
     "name": "stdout",
     "output_type": "stream",
     "text": [
      "(28107, 1, 224, 224)\n"
     ]
    },
    {
     "name": "stderr",
     "output_type": "stream",
     "text": [
      "Not using image_cache.\n"
     ]
    },
    {
     "name": "stdout",
     "output_type": "stream",
     "text": [
      "(724, 987, 3) (724, 987)\n",
      "aws s3 cp \"/home/yuncong/CSHL_scoremaps/10.0um/ChatCryoJane201710/ChatCryoJane201710_prep2_10.0um_detector999/ChatCryoJane201710_slide16-S1_prep2_10.0um_detector999/ChatCryoJane201710_slide16-S1_prep2_10.0um_detector999_Tz_scoremap.bp\" \"s3://mousebrainatlas-data/CSHL_scoremaps/10.0um/ChatCryoJane201710/ChatCryoJane201710_prep2_10.0um_detector999/ChatCryoJane201710_slide16-S1_prep2_10.0um_detector999/ChatCryoJane201710_slide16-S1_prep2_10.0um_detector999_Tz_scoremap.bp\"\n",
      "aws s3 cp \"/home/yuncong/CSHL_scoremap_viz/10.0um/Tz/ChatCryoJane201710/detector999/prep2/ChatCryoJane201710_slide16-S1_prep2_10.0um_Tz_detector999_scoremapViz.jpg\" \"s3://mousebrainatlas-data/CSHL_scoremap_viz/10.0um/Tz/ChatCryoJane201710/detector999/prep2/ChatCryoJane201710_slide16-S1_prep2_10.0um_Tz_detector999_scoremapViz.jpg\"\n"
     ]
    },
    {
     "name": "stderr",
     "output_type": "stream",
     "text": [
      "locate patches: 0.04 seconds\n",
      "Not using image_cache.\n",
      "Load image: 9.62 seconds.\n",
      "Resize patches from 316 x 316 to 224 x 224.\n",
      "Extract patches: 146.44 seconds\n"
     ]
    },
    {
     "name": "stdout",
     "output_type": "stream",
     "text": [
      "(28333, 1, 224, 224)\n"
     ]
    },
    {
     "name": "stderr",
     "output_type": "stream",
     "text": [
      "Not using image_cache.\n"
     ]
    },
    {
     "name": "stdout",
     "output_type": "stream",
     "text": [
      "(724, 987, 3) (724, 987)\n",
      "aws s3 cp \"/home/yuncong/CSHL_scoremaps/10.0um/ChatCryoJane201710/ChatCryoJane201710_prep2_10.0um_detector999/ChatCryoJane201710_slide15-S2_prep2_10.0um_detector999/ChatCryoJane201710_slide15-S2_prep2_10.0um_detector999_Tz_scoremap.bp\" \"s3://mousebrainatlas-data/CSHL_scoremaps/10.0um/ChatCryoJane201710/ChatCryoJane201710_prep2_10.0um_detector999/ChatCryoJane201710_slide15-S2_prep2_10.0um_detector999/ChatCryoJane201710_slide15-S2_prep2_10.0um_detector999_Tz_scoremap.bp\"\n",
      "aws s3 cp \"/home/yuncong/CSHL_scoremap_viz/10.0um/Tz/ChatCryoJane201710/detector999/prep2/ChatCryoJane201710_slide15-S2_prep2_10.0um_Tz_detector999_scoremapViz.jpg\" \"s3://mousebrainatlas-data/CSHL_scoremap_viz/10.0um/Tz/ChatCryoJane201710/detector999/prep2/ChatCryoJane201710_slide15-S2_prep2_10.0um_Tz_detector999_scoremapViz.jpg\"\n"
     ]
    },
    {
     "name": "stderr",
     "output_type": "stream",
     "text": [
      "locate patches: 0.04 seconds\n",
      "Not using image_cache.\n",
      "Load image: 9.39 seconds.\n",
      "Resize patches from 316 x 316 to 224 x 224.\n",
      "Extract patches: 149.12 seconds\n"
     ]
    },
    {
     "name": "stdout",
     "output_type": "stream",
     "text": [
      "(29024, 1, 224, 224)\n"
     ]
    },
    {
     "name": "stderr",
     "output_type": "stream",
     "text": [
      "Not using image_cache.\n"
     ]
    },
    {
     "name": "stdout",
     "output_type": "stream",
     "text": [
      "(724, 987, 3) (724, 987)\n",
      "aws s3 cp \"/home/yuncong/CSHL_scoremaps/10.0um/ChatCryoJane201710/ChatCryoJane201710_prep2_10.0um_detector999/ChatCryoJane201710_slide16-S2_prep2_10.0um_detector999/ChatCryoJane201710_slide16-S2_prep2_10.0um_detector999_Tz_scoremap.bp\" \"s3://mousebrainatlas-data/CSHL_scoremaps/10.0um/ChatCryoJane201710/ChatCryoJane201710_prep2_10.0um_detector999/ChatCryoJane201710_slide16-S2_prep2_10.0um_detector999/ChatCryoJane201710_slide16-S2_prep2_10.0um_detector999_Tz_scoremap.bp\"\n",
      "aws s3 cp \"/home/yuncong/CSHL_scoremap_viz/10.0um/Tz/ChatCryoJane201710/detector999/prep2/ChatCryoJane201710_slide16-S2_prep2_10.0um_Tz_detector999_scoremapViz.jpg\" \"s3://mousebrainatlas-data/CSHL_scoremap_viz/10.0um/Tz/ChatCryoJane201710/detector999/prep2/ChatCryoJane201710_slide16-S2_prep2_10.0um_Tz_detector999_scoremapViz.jpg\"\n"
     ]
    },
    {
     "name": "stderr",
     "output_type": "stream",
     "text": [
      "locate patches: 0.04 seconds\n",
      "Not using image_cache.\n",
      "Load image: 9.51 seconds.\n",
      "Resize patches from 316 x 316 to 224 x 224.\n",
      "Extract patches: 148.87 seconds\n"
     ]
    },
    {
     "name": "stdout",
     "output_type": "stream",
     "text": [
      "(28879, 1, 224, 224)\n"
     ]
    },
    {
     "name": "stderr",
     "output_type": "stream",
     "text": [
      "Not using image_cache.\n"
     ]
    },
    {
     "name": "stdout",
     "output_type": "stream",
     "text": [
      "(724, 987, 3) (724, 987)\n",
      "aws s3 cp \"/home/yuncong/CSHL_scoremaps/10.0um/ChatCryoJane201710/ChatCryoJane201710_prep2_10.0um_detector999/ChatCryoJane201710_slide15-S3_prep2_10.0um_detector999/ChatCryoJane201710_slide15-S3_prep2_10.0um_detector999_Tz_scoremap.bp\" \"s3://mousebrainatlas-data/CSHL_scoremaps/10.0um/ChatCryoJane201710/ChatCryoJane201710_prep2_10.0um_detector999/ChatCryoJane201710_slide15-S3_prep2_10.0um_detector999/ChatCryoJane201710_slide15-S3_prep2_10.0um_detector999_Tz_scoremap.bp\"\n",
      "aws s3 cp \"/home/yuncong/CSHL_scoremap_viz/10.0um/Tz/ChatCryoJane201710/detector999/prep2/ChatCryoJane201710_slide15-S3_prep2_10.0um_Tz_detector999_scoremapViz.jpg\" \"s3://mousebrainatlas-data/CSHL_scoremap_viz/10.0um/Tz/ChatCryoJane201710/detector999/prep2/ChatCryoJane201710_slide15-S3_prep2_10.0um_Tz_detector999_scoremapViz.jpg\"\n"
     ]
    },
    {
     "name": "stderr",
     "output_type": "stream",
     "text": [
      "locate patches: 0.04 seconds\n",
      "Not using image_cache.\n",
      "Load image: 9.43 seconds.\n",
      "Resize patches from 316 x 316 to 224 x 224.\n",
      "Extract patches: 150.72 seconds\n"
     ]
    },
    {
     "name": "stdout",
     "output_type": "stream",
     "text": [
      "(29390, 1, 224, 224)\n"
     ]
    },
    {
     "name": "stderr",
     "output_type": "stream",
     "text": [
      "Not using image_cache.\n"
     ]
    },
    {
     "name": "stdout",
     "output_type": "stream",
     "text": [
      "(724, 987, 3) (724, 987)\n",
      "aws s3 cp \"/home/yuncong/CSHL_scoremaps/10.0um/ChatCryoJane201710/ChatCryoJane201710_prep2_10.0um_detector999/ChatCryoJane201710_slide16-S3_prep2_10.0um_detector999/ChatCryoJane201710_slide16-S3_prep2_10.0um_detector999_Tz_scoremap.bp\" \"s3://mousebrainatlas-data/CSHL_scoremaps/10.0um/ChatCryoJane201710/ChatCryoJane201710_prep2_10.0um_detector999/ChatCryoJane201710_slide16-S3_prep2_10.0um_detector999/ChatCryoJane201710_slide16-S3_prep2_10.0um_detector999_Tz_scoremap.bp\"\n",
      "aws s3 cp \"/home/yuncong/CSHL_scoremap_viz/10.0um/Tz/ChatCryoJane201710/detector999/prep2/ChatCryoJane201710_slide16-S3_prep2_10.0um_Tz_detector999_scoremapViz.jpg\" \"s3://mousebrainatlas-data/CSHL_scoremap_viz/10.0um/Tz/ChatCryoJane201710/detector999/prep2/ChatCryoJane201710_slide16-S3_prep2_10.0um_Tz_detector999_scoremapViz.jpg\"\n"
     ]
    },
    {
     "name": "stderr",
     "output_type": "stream",
     "text": [
      "locate patches: 0.04 seconds\n",
      "Not using image_cache.\n",
      "Load image: 9.65 seconds.\n",
      "Resize patches from 316 x 316 to 224 x 224.\n",
      "Extract patches: 152.52 seconds\n"
     ]
    },
    {
     "name": "stdout",
     "output_type": "stream",
     "text": [
      "(29609, 1, 224, 224)\n"
     ]
    },
    {
     "name": "stderr",
     "output_type": "stream",
     "text": [
      "Not using image_cache.\n"
     ]
    },
    {
     "name": "stdout",
     "output_type": "stream",
     "text": [
      "(724, 987, 3) (724, 987)\n",
      "aws s3 cp \"/home/yuncong/CSHL_scoremaps/10.0um/ChatCryoJane201710/ChatCryoJane201710_prep2_10.0um_detector999/ChatCryoJane201710_slide17-S1_prep2_10.0um_detector999/ChatCryoJane201710_slide17-S1_prep2_10.0um_detector999_Tz_scoremap.bp\" \"s3://mousebrainatlas-data/CSHL_scoremaps/10.0um/ChatCryoJane201710/ChatCryoJane201710_prep2_10.0um_detector999/ChatCryoJane201710_slide17-S1_prep2_10.0um_detector999/ChatCryoJane201710_slide17-S1_prep2_10.0um_detector999_Tz_scoremap.bp\"\n",
      "aws s3 cp \"/home/yuncong/CSHL_scoremap_viz/10.0um/Tz/ChatCryoJane201710/detector999/prep2/ChatCryoJane201710_slide17-S1_prep2_10.0um_Tz_detector999_scoremapViz.jpg\" \"s3://mousebrainatlas-data/CSHL_scoremap_viz/10.0um/Tz/ChatCryoJane201710/detector999/prep2/ChatCryoJane201710_slide17-S1_prep2_10.0um_Tz_detector999_scoremapViz.jpg\"\n"
     ]
    },
    {
     "name": "stderr",
     "output_type": "stream",
     "text": [
      "locate patches: 0.04 seconds\n",
      "Not using image_cache.\n",
      "Load image: 9.88 seconds.\n",
      "Resize patches from 316 x 316 to 224 x 224.\n",
      "Extract patches: 154.21 seconds\n"
     ]
    },
    {
     "name": "stdout",
     "output_type": "stream",
     "text": [
      "(29923, 1, 224, 224)\n"
     ]
    },
    {
     "name": "stderr",
     "output_type": "stream",
     "text": [
      "Not using image_cache.\n"
     ]
    },
    {
     "name": "stdout",
     "output_type": "stream",
     "text": [
      "(724, 987, 3) (724, 987)\n",
      "aws s3 cp \"/home/yuncong/CSHL_scoremaps/10.0um/ChatCryoJane201710/ChatCryoJane201710_prep2_10.0um_detector999/ChatCryoJane201710_slide18-S1_prep2_10.0um_detector999/ChatCryoJane201710_slide18-S1_prep2_10.0um_detector999_Tz_scoremap.bp\" \"s3://mousebrainatlas-data/CSHL_scoremaps/10.0um/ChatCryoJane201710/ChatCryoJane201710_prep2_10.0um_detector999/ChatCryoJane201710_slide18-S1_prep2_10.0um_detector999/ChatCryoJane201710_slide18-S1_prep2_10.0um_detector999_Tz_scoremap.bp\"\n",
      "aws s3 cp \"/home/yuncong/CSHL_scoremap_viz/10.0um/Tz/ChatCryoJane201710/detector999/prep2/ChatCryoJane201710_slide18-S1_prep2_10.0um_Tz_detector999_scoremapViz.jpg\" \"s3://mousebrainatlas-data/CSHL_scoremap_viz/10.0um/Tz/ChatCryoJane201710/detector999/prep2/ChatCryoJane201710_slide18-S1_prep2_10.0um_Tz_detector999_scoremapViz.jpg\"\n"
     ]
    },
    {
     "name": "stderr",
     "output_type": "stream",
     "text": [
      "locate patches: 0.05 seconds\n",
      "Not using image_cache.\n",
      "Load image: 9.46 seconds.\n",
      "Resize patches from 316 x 316 to 224 x 224.\n",
      "Extract patches: 153.95 seconds\n"
     ]
    },
    {
     "name": "stdout",
     "output_type": "stream",
     "text": [
      "(30079, 1, 224, 224)\n"
     ]
    },
    {
     "name": "stderr",
     "output_type": "stream",
     "text": [
      "Not using image_cache.\n"
     ]
    },
    {
     "name": "stdout",
     "output_type": "stream",
     "text": [
      "(724, 987, 3) (724, 987)\n",
      "aws s3 cp \"/home/yuncong/CSHL_scoremaps/10.0um/ChatCryoJane201710/ChatCryoJane201710_prep2_10.0um_detector999/ChatCryoJane201710_slide17-S2_prep2_10.0um_detector999/ChatCryoJane201710_slide17-S2_prep2_10.0um_detector999_Tz_scoremap.bp\" \"s3://mousebrainatlas-data/CSHL_scoremaps/10.0um/ChatCryoJane201710/ChatCryoJane201710_prep2_10.0um_detector999/ChatCryoJane201710_slide17-S2_prep2_10.0um_detector999/ChatCryoJane201710_slide17-S2_prep2_10.0um_detector999_Tz_scoremap.bp\"\n",
      "aws s3 cp \"/home/yuncong/CSHL_scoremap_viz/10.0um/Tz/ChatCryoJane201710/detector999/prep2/ChatCryoJane201710_slide17-S2_prep2_10.0um_Tz_detector999_scoremapViz.jpg\" \"s3://mousebrainatlas-data/CSHL_scoremap_viz/10.0um/Tz/ChatCryoJane201710/detector999/prep2/ChatCryoJane201710_slide17-S2_prep2_10.0um_Tz_detector999_scoremapViz.jpg\"\n"
     ]
    },
    {
     "name": "stderr",
     "output_type": "stream",
     "text": [
      "locate patches: 0.05 seconds\n",
      "Not using image_cache.\n",
      "Load image: 9.77 seconds.\n",
      "Resize patches from 316 x 316 to 224 x 224.\n",
      "Extract patches: 155.55 seconds\n"
     ]
    },
    {
     "name": "stdout",
     "output_type": "stream",
     "text": [
      "(30249, 1, 224, 224)\n"
     ]
    },
    {
     "name": "stderr",
     "output_type": "stream",
     "text": [
      "Not using image_cache.\n"
     ]
    },
    {
     "name": "stdout",
     "output_type": "stream",
     "text": [
      "(724, 987, 3) (724, 987)\n",
      "aws s3 cp \"/home/yuncong/CSHL_scoremaps/10.0um/ChatCryoJane201710/ChatCryoJane201710_prep2_10.0um_detector999/ChatCryoJane201710_slide18-S2_prep2_10.0um_detector999/ChatCryoJane201710_slide18-S2_prep2_10.0um_detector999_Tz_scoremap.bp\" \"s3://mousebrainatlas-data/CSHL_scoremaps/10.0um/ChatCryoJane201710/ChatCryoJane201710_prep2_10.0um_detector999/ChatCryoJane201710_slide18-S2_prep2_10.0um_detector999/ChatCryoJane201710_slide18-S2_prep2_10.0um_detector999_Tz_scoremap.bp\"\n",
      "aws s3 cp \"/home/yuncong/CSHL_scoremap_viz/10.0um/Tz/ChatCryoJane201710/detector999/prep2/ChatCryoJane201710_slide18-S2_prep2_10.0um_Tz_detector999_scoremapViz.jpg\" \"s3://mousebrainatlas-data/CSHL_scoremap_viz/10.0um/Tz/ChatCryoJane201710/detector999/prep2/ChatCryoJane201710_slide18-S2_prep2_10.0um_Tz_detector999_scoremapViz.jpg\"\n"
     ]
    },
    {
     "name": "stderr",
     "output_type": "stream",
     "text": [
      "locate patches: 0.05 seconds\n",
      "Not using image_cache.\n",
      "Load image: 9.69 seconds.\n",
      "Resize patches from 316 x 316 to 224 x 224.\n",
      "Extract patches: 159.70 seconds\n"
     ]
    },
    {
     "name": "stdout",
     "output_type": "stream",
     "text": [
      "(30934, 1, 224, 224)\n"
     ]
    },
    {
     "name": "stderr",
     "output_type": "stream",
     "text": [
      "Not using image_cache.\n"
     ]
    },
    {
     "name": "stdout",
     "output_type": "stream",
     "text": [
      "(724, 987, 3) (724, 987)\n",
      "aws s3 cp \"/home/yuncong/CSHL_scoremaps/10.0um/ChatCryoJane201710/ChatCryoJane201710_prep2_10.0um_detector999/ChatCryoJane201710_slide17-S3_prep2_10.0um_detector999/ChatCryoJane201710_slide17-S3_prep2_10.0um_detector999_Tz_scoremap.bp\" \"s3://mousebrainatlas-data/CSHL_scoremaps/10.0um/ChatCryoJane201710/ChatCryoJane201710_prep2_10.0um_detector999/ChatCryoJane201710_slide17-S3_prep2_10.0um_detector999/ChatCryoJane201710_slide17-S3_prep2_10.0um_detector999_Tz_scoremap.bp\"\n",
      "aws s3 cp \"/home/yuncong/CSHL_scoremap_viz/10.0um/Tz/ChatCryoJane201710/detector999/prep2/ChatCryoJane201710_slide17-S3_prep2_10.0um_Tz_detector999_scoremapViz.jpg\" \"s3://mousebrainatlas-data/CSHL_scoremap_viz/10.0um/Tz/ChatCryoJane201710/detector999/prep2/ChatCryoJane201710_slide17-S3_prep2_10.0um_Tz_detector999_scoremapViz.jpg\"\n"
     ]
    },
    {
     "name": "stderr",
     "output_type": "stream",
     "text": [
      "locate patches: 0.05 seconds\n",
      "Not using image_cache.\n",
      "Load image: 9.30 seconds.\n",
      "Resize patches from 316 x 316 to 224 x 224.\n",
      "Extract patches: 162.52 seconds\n"
     ]
    },
    {
     "name": "stdout",
     "output_type": "stream",
     "text": [
      "(30930, 1, 224, 224)\n"
     ]
    },
    {
     "name": "stderr",
     "output_type": "stream",
     "text": [
      "Not using image_cache.\n"
     ]
    },
    {
     "name": "stdout",
     "output_type": "stream",
     "text": [
      "(724, 987, 3) (724, 987)\n",
      "aws s3 cp \"/home/yuncong/CSHL_scoremaps/10.0um/ChatCryoJane201710/ChatCryoJane201710_prep2_10.0um_detector999/ChatCryoJane201710_slide18-S3_prep2_10.0um_detector999/ChatCryoJane201710_slide18-S3_prep2_10.0um_detector999_Tz_scoremap.bp\" \"s3://mousebrainatlas-data/CSHL_scoremaps/10.0um/ChatCryoJane201710/ChatCryoJane201710_prep2_10.0um_detector999/ChatCryoJane201710_slide18-S3_prep2_10.0um_detector999/ChatCryoJane201710_slide18-S3_prep2_10.0um_detector999_Tz_scoremap.bp\"\n",
      "aws s3 cp \"/home/yuncong/CSHL_scoremap_viz/10.0um/Tz/ChatCryoJane201710/detector999/prep2/ChatCryoJane201710_slide18-S3_prep2_10.0um_Tz_detector999_scoremapViz.jpg\" \"s3://mousebrainatlas-data/CSHL_scoremap_viz/10.0um/Tz/ChatCryoJane201710/detector999/prep2/ChatCryoJane201710_slide18-S3_prep2_10.0um_Tz_detector999_scoremapViz.jpg\"\n"
     ]
    },
    {
     "name": "stderr",
     "output_type": "stream",
     "text": [
      "locate patches: 0.05 seconds\n",
      "Not using image_cache.\n",
      "Load image: 10.55 seconds.\n",
      "Resize patches from 316 x 316 to 224 x 224.\n",
      "Extract patches: 160.28 seconds\n"
     ]
    },
    {
     "name": "stdout",
     "output_type": "stream",
     "text": [
      "(31070, 1, 224, 224)\n"
     ]
    },
    {
     "name": "stderr",
     "output_type": "stream",
     "text": [
      "Not using image_cache.\n"
     ]
    },
    {
     "name": "stdout",
     "output_type": "stream",
     "text": [
      "(724, 987, 3) (724, 987)\n",
      "aws s3 cp \"/home/yuncong/CSHL_scoremaps/10.0um/ChatCryoJane201710/ChatCryoJane201710_prep2_10.0um_detector999/ChatCryoJane201710_slide19-S1_prep2_10.0um_detector999/ChatCryoJane201710_slide19-S1_prep2_10.0um_detector999_Tz_scoremap.bp\" \"s3://mousebrainatlas-data/CSHL_scoremaps/10.0um/ChatCryoJane201710/ChatCryoJane201710_prep2_10.0um_detector999/ChatCryoJane201710_slide19-S1_prep2_10.0um_detector999/ChatCryoJane201710_slide19-S1_prep2_10.0um_detector999_Tz_scoremap.bp\"\n",
      "aws s3 cp \"/home/yuncong/CSHL_scoremap_viz/10.0um/Tz/ChatCryoJane201710/detector999/prep2/ChatCryoJane201710_slide19-S1_prep2_10.0um_Tz_detector999_scoremapViz.jpg\" \"s3://mousebrainatlas-data/CSHL_scoremap_viz/10.0um/Tz/ChatCryoJane201710/detector999/prep2/ChatCryoJane201710_slide19-S1_prep2_10.0um_Tz_detector999_scoremapViz.jpg\"\n"
     ]
    },
    {
     "name": "stderr",
     "output_type": "stream",
     "text": [
      "locate patches: 0.04 seconds\n",
      "Not using image_cache.\n",
      "Load image: 10.97 seconds.\n",
      "Resize patches from 316 x 316 to 224 x 224.\n",
      "Extract patches: 167.39 seconds\n"
     ]
    },
    {
     "name": "stdout",
     "output_type": "stream",
     "text": [
      "(31375, 1, 224, 224)\n"
     ]
    },
    {
     "name": "stderr",
     "output_type": "stream",
     "text": [
      "Not using image_cache.\n"
     ]
    },
    {
     "name": "stdout",
     "output_type": "stream",
     "text": [
      "(724, 987, 3) (724, 987)\n",
      "aws s3 cp \"/home/yuncong/CSHL_scoremaps/10.0um/ChatCryoJane201710/ChatCryoJane201710_prep2_10.0um_detector999/ChatCryoJane201710_slide20-S1_prep2_10.0um_detector999/ChatCryoJane201710_slide20-S1_prep2_10.0um_detector999_Tz_scoremap.bp\" \"s3://mousebrainatlas-data/CSHL_scoremaps/10.0um/ChatCryoJane201710/ChatCryoJane201710_prep2_10.0um_detector999/ChatCryoJane201710_slide20-S1_prep2_10.0um_detector999/ChatCryoJane201710_slide20-S1_prep2_10.0um_detector999_Tz_scoremap.bp\"\n",
      "aws s3 cp \"/home/yuncong/CSHL_scoremap_viz/10.0um/Tz/ChatCryoJane201710/detector999/prep2/ChatCryoJane201710_slide20-S1_prep2_10.0um_Tz_detector999_scoremapViz.jpg\" \"s3://mousebrainatlas-data/CSHL_scoremap_viz/10.0um/Tz/ChatCryoJane201710/detector999/prep2/ChatCryoJane201710_slide20-S1_prep2_10.0um_Tz_detector999_scoremapViz.jpg\"\n"
     ]
    },
    {
     "name": "stderr",
     "output_type": "stream",
     "text": [
      "locate patches: 0.06 seconds\n",
      "Not using image_cache.\n",
      "Load image: 9.95 seconds.\n",
      "Resize patches from 316 x 316 to 224 x 224.\n",
      "Extract patches: 164.38 seconds\n"
     ]
    },
    {
     "name": "stdout",
     "output_type": "stream",
     "text": [
      "(31462, 1, 224, 224)\n"
     ]
    },
    {
     "name": "stderr",
     "output_type": "stream",
     "text": [
      "Not using image_cache.\n"
     ]
    },
    {
     "name": "stdout",
     "output_type": "stream",
     "text": [
      "(724, 987, 3) (724, 987)\n",
      "aws s3 cp \"/home/yuncong/CSHL_scoremaps/10.0um/ChatCryoJane201710/ChatCryoJane201710_prep2_10.0um_detector999/ChatCryoJane201710_slide19-S2_prep2_10.0um_detector999/ChatCryoJane201710_slide19-S2_prep2_10.0um_detector999_Tz_scoremap.bp\" \"s3://mousebrainatlas-data/CSHL_scoremaps/10.0um/ChatCryoJane201710/ChatCryoJane201710_prep2_10.0um_detector999/ChatCryoJane201710_slide19-S2_prep2_10.0um_detector999/ChatCryoJane201710_slide19-S2_prep2_10.0um_detector999_Tz_scoremap.bp\"\n",
      "aws s3 cp \"/home/yuncong/CSHL_scoremap_viz/10.0um/Tz/ChatCryoJane201710/detector999/prep2/ChatCryoJane201710_slide19-S2_prep2_10.0um_Tz_detector999_scoremapViz.jpg\" \"s3://mousebrainatlas-data/CSHL_scoremap_viz/10.0um/Tz/ChatCryoJane201710/detector999/prep2/ChatCryoJane201710_slide19-S2_prep2_10.0um_Tz_detector999_scoremapViz.jpg\"\n"
     ]
    },
    {
     "name": "stderr",
     "output_type": "stream",
     "text": [
      "locate patches: 0.04 seconds\n",
      "Not using image_cache.\n",
      "Load image: 10.38 seconds.\n",
      "Resize patches from 316 x 316 to 224 x 224.\n",
      "Extract patches: 163.60 seconds\n"
     ]
    },
    {
     "name": "stdout",
     "output_type": "stream",
     "text": [
      "(31652, 1, 224, 224)\n"
     ]
    },
    {
     "name": "stderr",
     "output_type": "stream",
     "text": [
      "Not using image_cache.\n"
     ]
    },
    {
     "name": "stdout",
     "output_type": "stream",
     "text": [
      "(724, 987, 3) (724, 987)\n",
      "aws s3 cp \"/home/yuncong/CSHL_scoremaps/10.0um/ChatCryoJane201710/ChatCryoJane201710_prep2_10.0um_detector999/ChatCryoJane201710_slide20-S2_prep2_10.0um_detector999/ChatCryoJane201710_slide20-S2_prep2_10.0um_detector999_Tz_scoremap.bp\" \"s3://mousebrainatlas-data/CSHL_scoremaps/10.0um/ChatCryoJane201710/ChatCryoJane201710_prep2_10.0um_detector999/ChatCryoJane201710_slide20-S2_prep2_10.0um_detector999/ChatCryoJane201710_slide20-S2_prep2_10.0um_detector999_Tz_scoremap.bp\"\n",
      "aws s3 cp \"/home/yuncong/CSHL_scoremap_viz/10.0um/Tz/ChatCryoJane201710/detector999/prep2/ChatCryoJane201710_slide20-S2_prep2_10.0um_Tz_detector999_scoremapViz.jpg\" \"s3://mousebrainatlas-data/CSHL_scoremap_viz/10.0um/Tz/ChatCryoJane201710/detector999/prep2/ChatCryoJane201710_slide20-S2_prep2_10.0um_Tz_detector999_scoremapViz.jpg\"\n"
     ]
    },
    {
     "name": "stderr",
     "output_type": "stream",
     "text": [
      "locate patches: 0.05 seconds\n",
      "Not using image_cache.\n",
      "Load image: 10.02 seconds.\n",
      "Resize patches from 316 x 316 to 224 x 224.\n",
      "Extract patches: 162.71 seconds\n"
     ]
    },
    {
     "name": "stdout",
     "output_type": "stream",
     "text": [
      "(31786, 1, 224, 224)\n"
     ]
    },
    {
     "name": "stderr",
     "output_type": "stream",
     "text": [
      "Not using image_cache.\n"
     ]
    },
    {
     "name": "stdout",
     "output_type": "stream",
     "text": [
      "(724, 987, 3) (724, 987)\n",
      "aws s3 cp \"/home/yuncong/CSHL_scoremaps/10.0um/ChatCryoJane201710/ChatCryoJane201710_prep2_10.0um_detector999/ChatCryoJane201710_slide19-S3_prep2_10.0um_detector999/ChatCryoJane201710_slide19-S3_prep2_10.0um_detector999_Tz_scoremap.bp\" \"s3://mousebrainatlas-data/CSHL_scoremaps/10.0um/ChatCryoJane201710/ChatCryoJane201710_prep2_10.0um_detector999/ChatCryoJane201710_slide19-S3_prep2_10.0um_detector999/ChatCryoJane201710_slide19-S3_prep2_10.0um_detector999_Tz_scoremap.bp\"\n",
      "aws s3 cp \"/home/yuncong/CSHL_scoremap_viz/10.0um/Tz/ChatCryoJane201710/detector999/prep2/ChatCryoJane201710_slide19-S3_prep2_10.0um_Tz_detector999_scoremapViz.jpg\" \"s3://mousebrainatlas-data/CSHL_scoremap_viz/10.0um/Tz/ChatCryoJane201710/detector999/prep2/ChatCryoJane201710_slide19-S3_prep2_10.0um_Tz_detector999_scoremapViz.jpg\"\n"
     ]
    },
    {
     "name": "stderr",
     "output_type": "stream",
     "text": [
      "locate patches: 0.05 seconds\n",
      "Not using image_cache.\n",
      "Load image: 10.48 seconds.\n",
      "Resize patches from 316 x 316 to 224 x 224.\n",
      "Extract patches: 163.53 seconds\n"
     ]
    },
    {
     "name": "stdout",
     "output_type": "stream",
     "text": [
      "(31846, 1, 224, 224)\n"
     ]
    },
    {
     "name": "stderr",
     "output_type": "stream",
     "text": [
      "Not using image_cache.\n"
     ]
    },
    {
     "name": "stdout",
     "output_type": "stream",
     "text": [
      "(724, 987, 3) (724, 987)\n",
      "aws s3 cp \"/home/yuncong/CSHL_scoremaps/10.0um/ChatCryoJane201710/ChatCryoJane201710_prep2_10.0um_detector999/ChatCryoJane201710_slide20-S3_prep2_10.0um_detector999/ChatCryoJane201710_slide20-S3_prep2_10.0um_detector999_Tz_scoremap.bp\" \"s3://mousebrainatlas-data/CSHL_scoremaps/10.0um/ChatCryoJane201710/ChatCryoJane201710_prep2_10.0um_detector999/ChatCryoJane201710_slide20-S3_prep2_10.0um_detector999/ChatCryoJane201710_slide20-S3_prep2_10.0um_detector999_Tz_scoremap.bp\"\n",
      "aws s3 cp \"/home/yuncong/CSHL_scoremap_viz/10.0um/Tz/ChatCryoJane201710/detector999/prep2/ChatCryoJane201710_slide20-S3_prep2_10.0um_Tz_detector999_scoremapViz.jpg\" \"s3://mousebrainatlas-data/CSHL_scoremap_viz/10.0um/Tz/ChatCryoJane201710/detector999/prep2/ChatCryoJane201710_slide20-S3_prep2_10.0um_Tz_detector999_scoremapViz.jpg\"\n"
     ]
    },
    {
     "name": "stderr",
     "output_type": "stream",
     "text": [
      "locate patches: 0.05 seconds\n",
      "Not using image_cache.\n",
      "Load image: 10.17 seconds.\n",
      "Resize patches from 316 x 316 to 224 x 224.\n",
      "Extract patches: 162.32 seconds\n"
     ]
    },
    {
     "name": "stdout",
     "output_type": "stream",
     "text": [
      "(31657, 1, 224, 224)\n"
     ]
    },
    {
     "name": "stderr",
     "output_type": "stream",
     "text": [
      "Not using image_cache.\n"
     ]
    },
    {
     "name": "stdout",
     "output_type": "stream",
     "text": [
      "(724, 987, 3) (724, 987)\n",
      "aws s3 cp \"/home/yuncong/CSHL_scoremaps/10.0um/ChatCryoJane201710/ChatCryoJane201710_prep2_10.0um_detector999/ChatCryoJane201710_slide21-S1_prep2_10.0um_detector999/ChatCryoJane201710_slide21-S1_prep2_10.0um_detector999_Tz_scoremap.bp\" \"s3://mousebrainatlas-data/CSHL_scoremaps/10.0um/ChatCryoJane201710/ChatCryoJane201710_prep2_10.0um_detector999/ChatCryoJane201710_slide21-S1_prep2_10.0um_detector999/ChatCryoJane201710_slide21-S1_prep2_10.0um_detector999_Tz_scoremap.bp\"\n",
      "aws s3 cp \"/home/yuncong/CSHL_scoremap_viz/10.0um/Tz/ChatCryoJane201710/detector999/prep2/ChatCryoJane201710_slide21-S1_prep2_10.0um_Tz_detector999_scoremapViz.jpg\" \"s3://mousebrainatlas-data/CSHL_scoremap_viz/10.0um/Tz/ChatCryoJane201710/detector999/prep2/ChatCryoJane201710_slide21-S1_prep2_10.0um_Tz_detector999_scoremapViz.jpg\"\n"
     ]
    },
    {
     "name": "stderr",
     "output_type": "stream",
     "text": [
      "locate patches: 0.04 seconds\n",
      "Not using image_cache.\n",
      "Load image: 10.32 seconds.\n",
      "Resize patches from 316 x 316 to 224 x 224.\n",
      "Extract patches: 169.24 seconds\n"
     ]
    },
    {
     "name": "stdout",
     "output_type": "stream",
     "text": [
      "(31939, 1, 224, 224)\n"
     ]
    },
    {
     "name": "stderr",
     "output_type": "stream",
     "text": [
      "Not using image_cache.\n"
     ]
    },
    {
     "name": "stdout",
     "output_type": "stream",
     "text": [
      "(724, 987, 3) (724, 987)\n",
      "aws s3 cp \"/home/yuncong/CSHL_scoremaps/10.0um/ChatCryoJane201710/ChatCryoJane201710_prep2_10.0um_detector999/ChatCryoJane201710_slide22-S1_prep2_10.0um_detector999/ChatCryoJane201710_slide22-S1_prep2_10.0um_detector999_Tz_scoremap.bp\" \"s3://mousebrainatlas-data/CSHL_scoremaps/10.0um/ChatCryoJane201710/ChatCryoJane201710_prep2_10.0um_detector999/ChatCryoJane201710_slide22-S1_prep2_10.0um_detector999/ChatCryoJane201710_slide22-S1_prep2_10.0um_detector999_Tz_scoremap.bp\"\n",
      "aws s3 cp \"/home/yuncong/CSHL_scoremap_viz/10.0um/Tz/ChatCryoJane201710/detector999/prep2/ChatCryoJane201710_slide22-S1_prep2_10.0um_Tz_detector999_scoremapViz.jpg\" \"s3://mousebrainatlas-data/CSHL_scoremap_viz/10.0um/Tz/ChatCryoJane201710/detector999/prep2/ChatCryoJane201710_slide22-S1_prep2_10.0um_Tz_detector999_scoremapViz.jpg\"\n"
     ]
    },
    {
     "name": "stderr",
     "output_type": "stream",
     "text": [
      "locate patches: 0.05 seconds\n",
      "Not using image_cache.\n",
      "Load image: 10.50 seconds.\n",
      "Resize patches from 316 x 316 to 224 x 224.\n",
      "Extract patches: 167.10 seconds\n"
     ]
    },
    {
     "name": "stdout",
     "output_type": "stream",
     "text": [
      "(32055, 1, 224, 224)\n"
     ]
    },
    {
     "name": "stderr",
     "output_type": "stream",
     "text": [
      "Not using image_cache.\n"
     ]
    },
    {
     "name": "stdout",
     "output_type": "stream",
     "text": [
      "(724, 987, 3) (724, 987)\n",
      "aws s3 cp \"/home/yuncong/CSHL_scoremaps/10.0um/ChatCryoJane201710/ChatCryoJane201710_prep2_10.0um_detector999/ChatCryoJane201710_slide21-S2_prep2_10.0um_detector999/ChatCryoJane201710_slide21-S2_prep2_10.0um_detector999_Tz_scoremap.bp\" \"s3://mousebrainatlas-data/CSHL_scoremaps/10.0um/ChatCryoJane201710/ChatCryoJane201710_prep2_10.0um_detector999/ChatCryoJane201710_slide21-S2_prep2_10.0um_detector999/ChatCryoJane201710_slide21-S2_prep2_10.0um_detector999_Tz_scoremap.bp\"\n",
      "aws s3 cp \"/home/yuncong/CSHL_scoremap_viz/10.0um/Tz/ChatCryoJane201710/detector999/prep2/ChatCryoJane201710_slide21-S2_prep2_10.0um_Tz_detector999_scoremapViz.jpg\" \"s3://mousebrainatlas-data/CSHL_scoremap_viz/10.0um/Tz/ChatCryoJane201710/detector999/prep2/ChatCryoJane201710_slide21-S2_prep2_10.0um_Tz_detector999_scoremapViz.jpg\"\n"
     ]
    },
    {
     "name": "stderr",
     "output_type": "stream",
     "text": [
      "locate patches: 0.04 seconds\n",
      "Not using image_cache.\n",
      "Load image: 11.28 seconds.\n",
      "Resize patches from 316 x 316 to 224 x 224.\n",
      "Extract patches: 168.20 seconds\n"
     ]
    },
    {
     "name": "stdout",
     "output_type": "stream",
     "text": [
      "(31984, 1, 224, 224)\n"
     ]
    },
    {
     "name": "stderr",
     "output_type": "stream",
     "text": [
      "Not using image_cache.\n"
     ]
    },
    {
     "name": "stdout",
     "output_type": "stream",
     "text": [
      "(724, 987, 3) (724, 987)\n",
      "aws s3 cp \"/home/yuncong/CSHL_scoremaps/10.0um/ChatCryoJane201710/ChatCryoJane201710_prep2_10.0um_detector999/ChatCryoJane201710_slide22-S2_prep2_10.0um_detector999/ChatCryoJane201710_slide22-S2_prep2_10.0um_detector999_Tz_scoremap.bp\" \"s3://mousebrainatlas-data/CSHL_scoremaps/10.0um/ChatCryoJane201710/ChatCryoJane201710_prep2_10.0um_detector999/ChatCryoJane201710_slide22-S2_prep2_10.0um_detector999/ChatCryoJane201710_slide22-S2_prep2_10.0um_detector999_Tz_scoremap.bp\"\n",
      "aws s3 cp \"/home/yuncong/CSHL_scoremap_viz/10.0um/Tz/ChatCryoJane201710/detector999/prep2/ChatCryoJane201710_slide22-S2_prep2_10.0um_Tz_detector999_scoremapViz.jpg\" \"s3://mousebrainatlas-data/CSHL_scoremap_viz/10.0um/Tz/ChatCryoJane201710/detector999/prep2/ChatCryoJane201710_slide22-S2_prep2_10.0um_Tz_detector999_scoremapViz.jpg\"\n"
     ]
    },
    {
     "name": "stderr",
     "output_type": "stream",
     "text": [
      "locate patches: 0.05 seconds\n",
      "Not using image_cache.\n",
      "Load image: 9.97 seconds.\n",
      "Resize patches from 316 x 316 to 224 x 224.\n",
      "Extract patches: 169.71 seconds\n"
     ]
    },
    {
     "name": "stdout",
     "output_type": "stream",
     "text": [
      "(32599, 1, 224, 224)\n"
     ]
    },
    {
     "name": "stderr",
     "output_type": "stream",
     "text": [
      "Not using image_cache.\n"
     ]
    },
    {
     "name": "stdout",
     "output_type": "stream",
     "text": [
      "(724, 987, 3) (724, 987)\n",
      "aws s3 cp \"/home/yuncong/CSHL_scoremaps/10.0um/ChatCryoJane201710/ChatCryoJane201710_prep2_10.0um_detector999/ChatCryoJane201710_slide21-S3_prep2_10.0um_detector999/ChatCryoJane201710_slide21-S3_prep2_10.0um_detector999_Tz_scoremap.bp\" \"s3://mousebrainatlas-data/CSHL_scoremaps/10.0um/ChatCryoJane201710/ChatCryoJane201710_prep2_10.0um_detector999/ChatCryoJane201710_slide21-S3_prep2_10.0um_detector999/ChatCryoJane201710_slide21-S3_prep2_10.0um_detector999_Tz_scoremap.bp\"\n",
      "aws s3 cp \"/home/yuncong/CSHL_scoremap_viz/10.0um/Tz/ChatCryoJane201710/detector999/prep2/ChatCryoJane201710_slide21-S3_prep2_10.0um_Tz_detector999_scoremapViz.jpg\" \"s3://mousebrainatlas-data/CSHL_scoremap_viz/10.0um/Tz/ChatCryoJane201710/detector999/prep2/ChatCryoJane201710_slide21-S3_prep2_10.0um_Tz_detector999_scoremapViz.jpg\"\n"
     ]
    },
    {
     "name": "stderr",
     "output_type": "stream",
     "text": [
      "locate patches: 0.06 seconds\n",
      "Not using image_cache.\n",
      "Load image: 10.51 seconds.\n",
      "Resize patches from 316 x 316 to 224 x 224.\n",
      "Extract patches: 167.60 seconds\n"
     ]
    },
    {
     "name": "stdout",
     "output_type": "stream",
     "text": [
      "(32499, 1, 224, 224)\n"
     ]
    },
    {
     "name": "stderr",
     "output_type": "stream",
     "text": [
      "Not using image_cache.\n"
     ]
    },
    {
     "name": "stdout",
     "output_type": "stream",
     "text": [
      "(724, 987, 3) (724, 987)\n",
      "aws s3 cp \"/home/yuncong/CSHL_scoremaps/10.0um/ChatCryoJane201710/ChatCryoJane201710_prep2_10.0um_detector999/ChatCryoJane201710_slide22-S3_prep2_10.0um_detector999/ChatCryoJane201710_slide22-S3_prep2_10.0um_detector999_Tz_scoremap.bp\" \"s3://mousebrainatlas-data/CSHL_scoremaps/10.0um/ChatCryoJane201710/ChatCryoJane201710_prep2_10.0um_detector999/ChatCryoJane201710_slide22-S3_prep2_10.0um_detector999/ChatCryoJane201710_slide22-S3_prep2_10.0um_detector999_Tz_scoremap.bp\"\n",
      "aws s3 cp \"/home/yuncong/CSHL_scoremap_viz/10.0um/Tz/ChatCryoJane201710/detector999/prep2/ChatCryoJane201710_slide22-S3_prep2_10.0um_Tz_detector999_scoremapViz.jpg\" \"s3://mousebrainatlas-data/CSHL_scoremap_viz/10.0um/Tz/ChatCryoJane201710/detector999/prep2/ChatCryoJane201710_slide22-S3_prep2_10.0um_Tz_detector999_scoremapViz.jpg\"\n"
     ]
    },
    {
     "name": "stderr",
     "output_type": "stream",
     "text": [
      "locate patches: 0.06 seconds\n",
      "Not using image_cache.\n",
      "Load image: 10.29 seconds.\n",
      "Resize patches from 316 x 316 to 224 x 224.\n",
      "Extract patches: 160.59 seconds\n"
     ]
    },
    {
     "name": "stdout",
     "output_type": "stream",
     "text": [
      "(31163, 1, 224, 224)\n"
     ]
    },
    {
     "name": "stderr",
     "output_type": "stream",
     "text": [
      "Not using image_cache.\n"
     ]
    },
    {
     "name": "stdout",
     "output_type": "stream",
     "text": [
      "(724, 987, 3) (724, 987)\n",
      "aws s3 cp \"/home/yuncong/CSHL_scoremaps/10.0um/ChatCryoJane201710/ChatCryoJane201710_prep2_10.0um_detector999/ChatCryoJane201710_slide23-S1_prep2_10.0um_detector999/ChatCryoJane201710_slide23-S1_prep2_10.0um_detector999_Tz_scoremap.bp\" \"s3://mousebrainatlas-data/CSHL_scoremaps/10.0um/ChatCryoJane201710/ChatCryoJane201710_prep2_10.0um_detector999/ChatCryoJane201710_slide23-S1_prep2_10.0um_detector999/ChatCryoJane201710_slide23-S1_prep2_10.0um_detector999_Tz_scoremap.bp\"\n",
      "aws s3 cp \"/home/yuncong/CSHL_scoremap_viz/10.0um/Tz/ChatCryoJane201710/detector999/prep2/ChatCryoJane201710_slide23-S1_prep2_10.0um_Tz_detector999_scoremapViz.jpg\" \"s3://mousebrainatlas-data/CSHL_scoremap_viz/10.0um/Tz/ChatCryoJane201710/detector999/prep2/ChatCryoJane201710_slide23-S1_prep2_10.0um_Tz_detector999_scoremapViz.jpg\"\n"
     ]
    },
    {
     "name": "stderr",
     "output_type": "stream",
     "text": [
      "locate patches: 0.07 seconds\n",
      "Not using image_cache.\n",
      "Load image: 11.45 seconds.\n",
      "Resize patches from 316 x 316 to 224 x 224.\n",
      "Extract patches: 171.19 seconds\n"
     ]
    },
    {
     "name": "stdout",
     "output_type": "stream",
     "text": [
      "(33165, 1, 224, 224)\n"
     ]
    },
    {
     "name": "stderr",
     "output_type": "stream",
     "text": [
      "Not using image_cache.\n"
     ]
    },
    {
     "name": "stdout",
     "output_type": "stream",
     "text": [
      "(724, 987, 3) (724, 987)\n",
      "aws s3 cp \"/home/yuncong/CSHL_scoremaps/10.0um/ChatCryoJane201710/ChatCryoJane201710_prep2_10.0um_detector999/ChatCryoJane201710_slide24-S1_prep2_10.0um_detector999/ChatCryoJane201710_slide24-S1_prep2_10.0um_detector999_Tz_scoremap.bp\" \"s3://mousebrainatlas-data/CSHL_scoremaps/10.0um/ChatCryoJane201710/ChatCryoJane201710_prep2_10.0um_detector999/ChatCryoJane201710_slide24-S1_prep2_10.0um_detector999/ChatCryoJane201710_slide24-S1_prep2_10.0um_detector999_Tz_scoremap.bp\"\n",
      "aws s3 cp \"/home/yuncong/CSHL_scoremap_viz/10.0um/Tz/ChatCryoJane201710/detector999/prep2/ChatCryoJane201710_slide24-S1_prep2_10.0um_Tz_detector999_scoremapViz.jpg\" \"s3://mousebrainatlas-data/CSHL_scoremap_viz/10.0um/Tz/ChatCryoJane201710/detector999/prep2/ChatCryoJane201710_slide24-S1_prep2_10.0um_Tz_detector999_scoremapViz.jpg\"\n"
     ]
    },
    {
     "name": "stderr",
     "output_type": "stream",
     "text": [
      "locate patches: 0.04 seconds\n",
      "Not using image_cache.\n",
      "Load image: 10.36 seconds.\n",
      "Resize patches from 316 x 316 to 224 x 224.\n",
      "Extract patches: 160.45 seconds\n"
     ]
    },
    {
     "name": "stdout",
     "output_type": "stream",
     "text": [
      "(31092, 1, 224, 224)\n"
     ]
    },
    {
     "name": "stderr",
     "output_type": "stream",
     "text": [
      "Not using image_cache.\n"
     ]
    },
    {
     "name": "stdout",
     "output_type": "stream",
     "text": [
      "(724, 987, 3) (724, 987)\n",
      "aws s3 cp \"/home/yuncong/CSHL_scoremaps/10.0um/ChatCryoJane201710/ChatCryoJane201710_prep2_10.0um_detector999/ChatCryoJane201710_slide23-S2_prep2_10.0um_detector999/ChatCryoJane201710_slide23-S2_prep2_10.0um_detector999_Tz_scoremap.bp\" \"s3://mousebrainatlas-data/CSHL_scoremaps/10.0um/ChatCryoJane201710/ChatCryoJane201710_prep2_10.0um_detector999/ChatCryoJane201710_slide23-S2_prep2_10.0um_detector999/ChatCryoJane201710_slide23-S2_prep2_10.0um_detector999_Tz_scoremap.bp\"\n",
      "aws s3 cp \"/home/yuncong/CSHL_scoremap_viz/10.0um/Tz/ChatCryoJane201710/detector999/prep2/ChatCryoJane201710_slide23-S2_prep2_10.0um_Tz_detector999_scoremapViz.jpg\" \"s3://mousebrainatlas-data/CSHL_scoremap_viz/10.0um/Tz/ChatCryoJane201710/detector999/prep2/ChatCryoJane201710_slide23-S2_prep2_10.0um_Tz_detector999_scoremapViz.jpg\"\n"
     ]
    },
    {
     "name": "stderr",
     "output_type": "stream",
     "text": [
      "locate patches: 0.05 seconds\n",
      "Not using image_cache.\n",
      "Load image: 10.89 seconds.\n",
      "Resize patches from 316 x 316 to 224 x 224.\n",
      "Extract patches: 172.04 seconds\n"
     ]
    },
    {
     "name": "stdout",
     "output_type": "stream",
     "text": [
      "(33409, 1, 224, 224)\n"
     ]
    },
    {
     "name": "stderr",
     "output_type": "stream",
     "text": [
      "Not using image_cache.\n"
     ]
    },
    {
     "name": "stdout",
     "output_type": "stream",
     "text": [
      "(724, 987, 3) (724, 987)\n",
      "aws s3 cp \"/home/yuncong/CSHL_scoremaps/10.0um/ChatCryoJane201710/ChatCryoJane201710_prep2_10.0um_detector999/ChatCryoJane201710_slide24-S2_prep2_10.0um_detector999/ChatCryoJane201710_slide24-S2_prep2_10.0um_detector999_Tz_scoremap.bp\" \"s3://mousebrainatlas-data/CSHL_scoremaps/10.0um/ChatCryoJane201710/ChatCryoJane201710_prep2_10.0um_detector999/ChatCryoJane201710_slide24-S2_prep2_10.0um_detector999/ChatCryoJane201710_slide24-S2_prep2_10.0um_detector999_Tz_scoremap.bp\"\n",
      "aws s3 cp \"/home/yuncong/CSHL_scoremap_viz/10.0um/Tz/ChatCryoJane201710/detector999/prep2/ChatCryoJane201710_slide24-S2_prep2_10.0um_Tz_detector999_scoremapViz.jpg\" \"s3://mousebrainatlas-data/CSHL_scoremap_viz/10.0um/Tz/ChatCryoJane201710/detector999/prep2/ChatCryoJane201710_slide24-S2_prep2_10.0um_Tz_detector999_scoremapViz.jpg\"\n"
     ]
    },
    {
     "name": "stderr",
     "output_type": "stream",
     "text": [
      "locate patches: 0.04 seconds\n",
      "Not using image_cache.\n",
      "Load image: 10.30 seconds.\n",
      "Resize patches from 316 x 316 to 224 x 224.\n",
      "Extract patches: 163.28 seconds\n"
     ]
    },
    {
     "name": "stdout",
     "output_type": "stream",
     "text": [
      "(31744, 1, 224, 224)\n"
     ]
    },
    {
     "name": "stderr",
     "output_type": "stream",
     "text": [
      "Not using image_cache.\n"
     ]
    },
    {
     "name": "stdout",
     "output_type": "stream",
     "text": [
      "(724, 987, 3) (724, 987)\n",
      "aws s3 cp \"/home/yuncong/CSHL_scoremaps/10.0um/ChatCryoJane201710/ChatCryoJane201710_prep2_10.0um_detector999/ChatCryoJane201710_slide23-S3_prep2_10.0um_detector999/ChatCryoJane201710_slide23-S3_prep2_10.0um_detector999_Tz_scoremap.bp\" \"s3://mousebrainatlas-data/CSHL_scoremaps/10.0um/ChatCryoJane201710/ChatCryoJane201710_prep2_10.0um_detector999/ChatCryoJane201710_slide23-S3_prep2_10.0um_detector999/ChatCryoJane201710_slide23-S3_prep2_10.0um_detector999_Tz_scoremap.bp\"\n",
      "aws s3 cp \"/home/yuncong/CSHL_scoremap_viz/10.0um/Tz/ChatCryoJane201710/detector999/prep2/ChatCryoJane201710_slide23-S3_prep2_10.0um_Tz_detector999_scoremapViz.jpg\" \"s3://mousebrainatlas-data/CSHL_scoremap_viz/10.0um/Tz/ChatCryoJane201710/detector999/prep2/ChatCryoJane201710_slide23-S3_prep2_10.0um_Tz_detector999_scoremapViz.jpg\"\n"
     ]
    },
    {
     "name": "stderr",
     "output_type": "stream",
     "text": [
      "locate patches: 0.07 seconds\n",
      "Not using image_cache.\n",
      "Load image: 10.62 seconds.\n",
      "Resize patches from 316 x 316 to 224 x 224.\n",
      "Extract patches: 171.72 seconds\n"
     ]
    },
    {
     "name": "stdout",
     "output_type": "stream",
     "text": [
      "(33397, 1, 224, 224)\n"
     ]
    },
    {
     "name": "stderr",
     "output_type": "stream",
     "text": [
      "Not using image_cache.\n"
     ]
    },
    {
     "name": "stdout",
     "output_type": "stream",
     "text": [
      "(724, 987, 3) (724, 987)\n",
      "aws s3 cp \"/home/yuncong/CSHL_scoremaps/10.0um/ChatCryoJane201710/ChatCryoJane201710_prep2_10.0um_detector999/ChatCryoJane201710_slide24-S3_prep2_10.0um_detector999/ChatCryoJane201710_slide24-S3_prep2_10.0um_detector999_Tz_scoremap.bp\" \"s3://mousebrainatlas-data/CSHL_scoremaps/10.0um/ChatCryoJane201710/ChatCryoJane201710_prep2_10.0um_detector999/ChatCryoJane201710_slide24-S3_prep2_10.0um_detector999/ChatCryoJane201710_slide24-S3_prep2_10.0um_detector999_Tz_scoremap.bp\"\n",
      "aws s3 cp \"/home/yuncong/CSHL_scoremap_viz/10.0um/Tz/ChatCryoJane201710/detector999/prep2/ChatCryoJane201710_slide24-S3_prep2_10.0um_Tz_detector999_scoremapViz.jpg\" \"s3://mousebrainatlas-data/CSHL_scoremap_viz/10.0um/Tz/ChatCryoJane201710/detector999/prep2/ChatCryoJane201710_slide24-S3_prep2_10.0um_Tz_detector999_scoremapViz.jpg\"\n"
     ]
    },
    {
     "name": "stderr",
     "output_type": "stream",
     "text": [
      "locate patches: 0.04 seconds\n",
      "Not using image_cache.\n",
      "Load image: 10.34 seconds.\n",
      "Resize patches from 316 x 316 to 224 x 224.\n",
      "Extract patches: 173.40 seconds\n"
     ]
    },
    {
     "name": "stdout",
     "output_type": "stream",
     "text": [
      "(33882, 1, 224, 224)\n"
     ]
    },
    {
     "name": "stderr",
     "output_type": "stream",
     "text": [
      "Not using image_cache.\n"
     ]
    },
    {
     "name": "stdout",
     "output_type": "stream",
     "text": [
      "(724, 987, 3) (724, 987)\n",
      "aws s3 cp \"/home/yuncong/CSHL_scoremaps/10.0um/ChatCryoJane201710/ChatCryoJane201710_prep2_10.0um_detector999/ChatCryoJane201710_slide25-S1_prep2_10.0um_detector999/ChatCryoJane201710_slide25-S1_prep2_10.0um_detector999_Tz_scoremap.bp\" \"s3://mousebrainatlas-data/CSHL_scoremaps/10.0um/ChatCryoJane201710/ChatCryoJane201710_prep2_10.0um_detector999/ChatCryoJane201710_slide25-S1_prep2_10.0um_detector999/ChatCryoJane201710_slide25-S1_prep2_10.0um_detector999_Tz_scoremap.bp\"\n",
      "aws s3 cp \"/home/yuncong/CSHL_scoremap_viz/10.0um/Tz/ChatCryoJane201710/detector999/prep2/ChatCryoJane201710_slide25-S1_prep2_10.0um_Tz_detector999_scoremapViz.jpg\" \"s3://mousebrainatlas-data/CSHL_scoremap_viz/10.0um/Tz/ChatCryoJane201710/detector999/prep2/ChatCryoJane201710_slide25-S1_prep2_10.0um_Tz_detector999_scoremapViz.jpg\"\n"
     ]
    },
    {
     "name": "stderr",
     "output_type": "stream",
     "text": [
      "locate patches: 0.05 seconds\n",
      "Not using image_cache.\n",
      "Load image: 10.31 seconds.\n",
      "Resize patches from 316 x 316 to 224 x 224.\n",
      "Extract patches: 174.54 seconds\n"
     ]
    },
    {
     "name": "stdout",
     "output_type": "stream",
     "text": [
      "(34140, 1, 224, 224)\n"
     ]
    },
    {
     "name": "stderr",
     "output_type": "stream",
     "text": [
      "Not using image_cache.\n"
     ]
    },
    {
     "name": "stdout",
     "output_type": "stream",
     "text": [
      "(724, 987, 3) (724, 987)\n",
      "aws s3 cp \"/home/yuncong/CSHL_scoremaps/10.0um/ChatCryoJane201710/ChatCryoJane201710_prep2_10.0um_detector999/ChatCryoJane201710_slide26-S1_prep2_10.0um_detector999/ChatCryoJane201710_slide26-S1_prep2_10.0um_detector999_Tz_scoremap.bp\" \"s3://mousebrainatlas-data/CSHL_scoremaps/10.0um/ChatCryoJane201710/ChatCryoJane201710_prep2_10.0um_detector999/ChatCryoJane201710_slide26-S1_prep2_10.0um_detector999/ChatCryoJane201710_slide26-S1_prep2_10.0um_detector999_Tz_scoremap.bp\"\n",
      "aws s3 cp \"/home/yuncong/CSHL_scoremap_viz/10.0um/Tz/ChatCryoJane201710/detector999/prep2/ChatCryoJane201710_slide26-S1_prep2_10.0um_Tz_detector999_scoremapViz.jpg\" \"s3://mousebrainatlas-data/CSHL_scoremap_viz/10.0um/Tz/ChatCryoJane201710/detector999/prep2/ChatCryoJane201710_slide26-S1_prep2_10.0um_Tz_detector999_scoremapViz.jpg\"\n"
     ]
    },
    {
     "name": "stderr",
     "output_type": "stream",
     "text": [
      "locate patches: 0.06 seconds\n",
      "Not using image_cache.\n",
      "Load image: 10.65 seconds.\n",
      "Resize patches from 316 x 316 to 224 x 224.\n",
      "Extract patches: 175.02 seconds\n"
     ]
    },
    {
     "name": "stdout",
     "output_type": "stream",
     "text": [
      "(34205, 1, 224, 224)\n"
     ]
    },
    {
     "name": "stderr",
     "output_type": "stream",
     "text": [
      "Not using image_cache.\n"
     ]
    },
    {
     "name": "stdout",
     "output_type": "stream",
     "text": [
      "(724, 987, 3) (724, 987)\n",
      "aws s3 cp \"/home/yuncong/CSHL_scoremaps/10.0um/ChatCryoJane201710/ChatCryoJane201710_prep2_10.0um_detector999/ChatCryoJane201710_slide25-S2_prep2_10.0um_detector999/ChatCryoJane201710_slide25-S2_prep2_10.0um_detector999_Tz_scoremap.bp\" \"s3://mousebrainatlas-data/CSHL_scoremaps/10.0um/ChatCryoJane201710/ChatCryoJane201710_prep2_10.0um_detector999/ChatCryoJane201710_slide25-S2_prep2_10.0um_detector999/ChatCryoJane201710_slide25-S2_prep2_10.0um_detector999_Tz_scoremap.bp\"\n",
      "aws s3 cp \"/home/yuncong/CSHL_scoremap_viz/10.0um/Tz/ChatCryoJane201710/detector999/prep2/ChatCryoJane201710_slide25-S2_prep2_10.0um_Tz_detector999_scoremapViz.jpg\" \"s3://mousebrainatlas-data/CSHL_scoremap_viz/10.0um/Tz/ChatCryoJane201710/detector999/prep2/ChatCryoJane201710_slide25-S2_prep2_10.0um_Tz_detector999_scoremapViz.jpg\"\n"
     ]
    },
    {
     "name": "stderr",
     "output_type": "stream",
     "text": [
      "locate patches: 0.06 seconds\n",
      "Not using image_cache.\n",
      "Load image: 10.65 seconds.\n",
      "Resize patches from 316 x 316 to 224 x 224.\n",
      "Extract patches: 176.97 seconds\n"
     ]
    },
    {
     "name": "stdout",
     "output_type": "stream",
     "text": [
      "(34476, 1, 224, 224)\n"
     ]
    },
    {
     "name": "stderr",
     "output_type": "stream",
     "text": [
      "Not using image_cache.\n"
     ]
    },
    {
     "name": "stdout",
     "output_type": "stream",
     "text": [
      "(724, 987, 3) (724, 987)\n",
      "aws s3 cp \"/home/yuncong/CSHL_scoremaps/10.0um/ChatCryoJane201710/ChatCryoJane201710_prep2_10.0um_detector999/ChatCryoJane201710_slide26-S2_prep2_10.0um_detector999/ChatCryoJane201710_slide26-S2_prep2_10.0um_detector999_Tz_scoremap.bp\" \"s3://mousebrainatlas-data/CSHL_scoremaps/10.0um/ChatCryoJane201710/ChatCryoJane201710_prep2_10.0um_detector999/ChatCryoJane201710_slide26-S2_prep2_10.0um_detector999/ChatCryoJane201710_slide26-S2_prep2_10.0um_detector999_Tz_scoremap.bp\"\n",
      "aws s3 cp \"/home/yuncong/CSHL_scoremap_viz/10.0um/Tz/ChatCryoJane201710/detector999/prep2/ChatCryoJane201710_slide26-S2_prep2_10.0um_Tz_detector999_scoremapViz.jpg\" \"s3://mousebrainatlas-data/CSHL_scoremap_viz/10.0um/Tz/ChatCryoJane201710/detector999/prep2/ChatCryoJane201710_slide26-S2_prep2_10.0um_Tz_detector999_scoremapViz.jpg\"\n"
     ]
    },
    {
     "name": "stderr",
     "output_type": "stream",
     "text": [
      "locate patches: 0.06 seconds\n",
      "Not using image_cache.\n",
      "Load image: 10.58 seconds.\n",
      "Resize patches from 316 x 316 to 224 x 224.\n",
      "Extract patches: 178.20 seconds\n"
     ]
    },
    {
     "name": "stdout",
     "output_type": "stream",
     "text": [
      "(34573, 1, 224, 224)\n"
     ]
    },
    {
     "name": "stderr",
     "output_type": "stream",
     "text": [
      "Not using image_cache.\n"
     ]
    },
    {
     "name": "stdout",
     "output_type": "stream",
     "text": [
      "(724, 987, 3) (724, 987)\n",
      "aws s3 cp \"/home/yuncong/CSHL_scoremaps/10.0um/ChatCryoJane201710/ChatCryoJane201710_prep2_10.0um_detector999/ChatCryoJane201710_slide25-S3_prep2_10.0um_detector999/ChatCryoJane201710_slide25-S3_prep2_10.0um_detector999_Tz_scoremap.bp\" \"s3://mousebrainatlas-data/CSHL_scoremaps/10.0um/ChatCryoJane201710/ChatCryoJane201710_prep2_10.0um_detector999/ChatCryoJane201710_slide25-S3_prep2_10.0um_detector999/ChatCryoJane201710_slide25-S3_prep2_10.0um_detector999_Tz_scoremap.bp\"\n",
      "aws s3 cp \"/home/yuncong/CSHL_scoremap_viz/10.0um/Tz/ChatCryoJane201710/detector999/prep2/ChatCryoJane201710_slide25-S3_prep2_10.0um_Tz_detector999_scoremapViz.jpg\" \"s3://mousebrainatlas-data/CSHL_scoremap_viz/10.0um/Tz/ChatCryoJane201710/detector999/prep2/ChatCryoJane201710_slide25-S3_prep2_10.0um_Tz_detector999_scoremapViz.jpg\"\n"
     ]
    },
    {
     "name": "stderr",
     "output_type": "stream",
     "text": [
      "locate patches: 0.05 seconds\n",
      "Not using image_cache.\n",
      "Load image: 10.56 seconds.\n",
      "Resize patches from 316 x 316 to 224 x 224.\n",
      "Extract patches: 177.90 seconds\n"
     ]
    },
    {
     "name": "stdout",
     "output_type": "stream",
     "text": [
      "(34649, 1, 224, 224)\n"
     ]
    },
    {
     "name": "stderr",
     "output_type": "stream",
     "text": [
      "Not using image_cache.\n"
     ]
    },
    {
     "name": "stdout",
     "output_type": "stream",
     "text": [
      "(724, 987, 3) (724, 987)\n",
      "aws s3 cp \"/home/yuncong/CSHL_scoremaps/10.0um/ChatCryoJane201710/ChatCryoJane201710_prep2_10.0um_detector999/ChatCryoJane201710_slide26-S3_prep2_10.0um_detector999/ChatCryoJane201710_slide26-S3_prep2_10.0um_detector999_Tz_scoremap.bp\" \"s3://mousebrainatlas-data/CSHL_scoremaps/10.0um/ChatCryoJane201710/ChatCryoJane201710_prep2_10.0um_detector999/ChatCryoJane201710_slide26-S3_prep2_10.0um_detector999/ChatCryoJane201710_slide26-S3_prep2_10.0um_detector999_Tz_scoremap.bp\"\n",
      "aws s3 cp \"/home/yuncong/CSHL_scoremap_viz/10.0um/Tz/ChatCryoJane201710/detector999/prep2/ChatCryoJane201710_slide26-S3_prep2_10.0um_Tz_detector999_scoremapViz.jpg\" \"s3://mousebrainatlas-data/CSHL_scoremap_viz/10.0um/Tz/ChatCryoJane201710/detector999/prep2/ChatCryoJane201710_slide26-S3_prep2_10.0um_Tz_detector999_scoremapViz.jpg\"\n"
     ]
    },
    {
     "name": "stderr",
     "output_type": "stream",
     "text": [
      "locate patches: 0.05 seconds\n",
      "Not using image_cache.\n",
      "Load image: 10.43 seconds.\n",
      "Resize patches from 316 x 316 to 224 x 224.\n",
      "Extract patches: 179.13 seconds\n"
     ]
    },
    {
     "name": "stdout",
     "output_type": "stream",
     "text": [
      "(34906, 1, 224, 224)\n"
     ]
    },
    {
     "name": "stderr",
     "output_type": "stream",
     "text": [
      "Not using image_cache.\n"
     ]
    },
    {
     "name": "stdout",
     "output_type": "stream",
     "text": [
      "(724, 987, 3) (724, 987)\n",
      "aws s3 cp \"/home/yuncong/CSHL_scoremaps/10.0um/ChatCryoJane201710/ChatCryoJane201710_prep2_10.0um_detector999/ChatCryoJane201710_slide27-S1_prep2_10.0um_detector999/ChatCryoJane201710_slide27-S1_prep2_10.0um_detector999_Tz_scoremap.bp\" \"s3://mousebrainatlas-data/CSHL_scoremaps/10.0um/ChatCryoJane201710/ChatCryoJane201710_prep2_10.0um_detector999/ChatCryoJane201710_slide27-S1_prep2_10.0um_detector999/ChatCryoJane201710_slide27-S1_prep2_10.0um_detector999_Tz_scoremap.bp\"\n",
      "aws s3 cp \"/home/yuncong/CSHL_scoremap_viz/10.0um/Tz/ChatCryoJane201710/detector999/prep2/ChatCryoJane201710_slide27-S1_prep2_10.0um_Tz_detector999_scoremapViz.jpg\" \"s3://mousebrainatlas-data/CSHL_scoremap_viz/10.0um/Tz/ChatCryoJane201710/detector999/prep2/ChatCryoJane201710_slide27-S1_prep2_10.0um_Tz_detector999_scoremapViz.jpg\"\n"
     ]
    },
    {
     "name": "stderr",
     "output_type": "stream",
     "text": [
      "locate patches: 0.05 seconds\n",
      "Not using image_cache.\n",
      "Load image: 10.78 seconds.\n",
      "Resize patches from 316 x 316 to 224 x 224.\n",
      "Extract patches: 178.92 seconds\n"
     ]
    },
    {
     "name": "stdout",
     "output_type": "stream",
     "text": [
      "(34784, 1, 224, 224)\n"
     ]
    },
    {
     "name": "stderr",
     "output_type": "stream",
     "text": [
      "Not using image_cache.\n"
     ]
    },
    {
     "name": "stdout",
     "output_type": "stream",
     "text": [
      "(724, 987, 3) (724, 987)\n",
      "aws s3 cp \"/home/yuncong/CSHL_scoremaps/10.0um/ChatCryoJane201710/ChatCryoJane201710_prep2_10.0um_detector999/ChatCryoJane201710_slide28-S1_prep2_10.0um_detector999/ChatCryoJane201710_slide28-S1_prep2_10.0um_detector999_Tz_scoremap.bp\" \"s3://mousebrainatlas-data/CSHL_scoremaps/10.0um/ChatCryoJane201710/ChatCryoJane201710_prep2_10.0um_detector999/ChatCryoJane201710_slide28-S1_prep2_10.0um_detector999/ChatCryoJane201710_slide28-S1_prep2_10.0um_detector999_Tz_scoremap.bp\"\n",
      "aws s3 cp \"/home/yuncong/CSHL_scoremap_viz/10.0um/Tz/ChatCryoJane201710/detector999/prep2/ChatCryoJane201710_slide28-S1_prep2_10.0um_Tz_detector999_scoremapViz.jpg\" \"s3://mousebrainatlas-data/CSHL_scoremap_viz/10.0um/Tz/ChatCryoJane201710/detector999/prep2/ChatCryoJane201710_slide28-S1_prep2_10.0um_Tz_detector999_scoremapViz.jpg\"\n"
     ]
    },
    {
     "name": "stderr",
     "output_type": "stream",
     "text": [
      "locate patches: 0.04 seconds\n",
      "Not using image_cache.\n",
      "Load image: 10.02 seconds.\n",
      "Resize patches from 316 x 316 to 224 x 224.\n",
      "Extract patches: 179.15 seconds\n"
     ]
    },
    {
     "name": "stdout",
     "output_type": "stream",
     "text": [
      "(35153, 1, 224, 224)\n"
     ]
    },
    {
     "name": "stderr",
     "output_type": "stream",
     "text": [
      "Not using image_cache.\n"
     ]
    },
    {
     "name": "stdout",
     "output_type": "stream",
     "text": [
      "(724, 987, 3) (724, 987)\n",
      "aws s3 cp \"/home/yuncong/CSHL_scoremaps/10.0um/ChatCryoJane201710/ChatCryoJane201710_prep2_10.0um_detector999/ChatCryoJane201710_slide27-S2_prep2_10.0um_detector999/ChatCryoJane201710_slide27-S2_prep2_10.0um_detector999_Tz_scoremap.bp\" \"s3://mousebrainatlas-data/CSHL_scoremaps/10.0um/ChatCryoJane201710/ChatCryoJane201710_prep2_10.0um_detector999/ChatCryoJane201710_slide27-S2_prep2_10.0um_detector999/ChatCryoJane201710_slide27-S2_prep2_10.0um_detector999_Tz_scoremap.bp\"\n",
      "aws s3 cp \"/home/yuncong/CSHL_scoremap_viz/10.0um/Tz/ChatCryoJane201710/detector999/prep2/ChatCryoJane201710_slide27-S2_prep2_10.0um_Tz_detector999_scoremapViz.jpg\" \"s3://mousebrainatlas-data/CSHL_scoremap_viz/10.0um/Tz/ChatCryoJane201710/detector999/prep2/ChatCryoJane201710_slide27-S2_prep2_10.0um_Tz_detector999_scoremapViz.jpg\"\n"
     ]
    },
    {
     "name": "stderr",
     "output_type": "stream",
     "text": [
      "locate patches: 0.05 seconds\n",
      "Not using image_cache.\n",
      "Load image: 10.69 seconds.\n",
      "Resize patches from 316 x 316 to 224 x 224.\n",
      "Extract patches: 181.19 seconds\n"
     ]
    },
    {
     "name": "stdout",
     "output_type": "stream",
     "text": [
      "(35381, 1, 224, 224)\n"
     ]
    },
    {
     "name": "stderr",
     "output_type": "stream",
     "text": [
      "Not using image_cache.\n"
     ]
    },
    {
     "name": "stdout",
     "output_type": "stream",
     "text": [
      "(724, 987, 3) (724, 987)\n",
      "aws s3 cp \"/home/yuncong/CSHL_scoremaps/10.0um/ChatCryoJane201710/ChatCryoJane201710_prep2_10.0um_detector999/ChatCryoJane201710_slide28-S2_prep2_10.0um_detector999/ChatCryoJane201710_slide28-S2_prep2_10.0um_detector999_Tz_scoremap.bp\" \"s3://mousebrainatlas-data/CSHL_scoremaps/10.0um/ChatCryoJane201710/ChatCryoJane201710_prep2_10.0um_detector999/ChatCryoJane201710_slide28-S2_prep2_10.0um_detector999/ChatCryoJane201710_slide28-S2_prep2_10.0um_detector999_Tz_scoremap.bp\"\n",
      "aws s3 cp \"/home/yuncong/CSHL_scoremap_viz/10.0um/Tz/ChatCryoJane201710/detector999/prep2/ChatCryoJane201710_slide28-S2_prep2_10.0um_Tz_detector999_scoremapViz.jpg\" \"s3://mousebrainatlas-data/CSHL_scoremap_viz/10.0um/Tz/ChatCryoJane201710/detector999/prep2/ChatCryoJane201710_slide28-S2_prep2_10.0um_Tz_detector999_scoremapViz.jpg\"\n"
     ]
    },
    {
     "name": "stderr",
     "output_type": "stream",
     "text": [
      "locate patches: 0.04 seconds\n",
      "Not using image_cache.\n",
      "Load image: 10.24 seconds.\n",
      "Resize patches from 316 x 316 to 224 x 224.\n",
      "Extract patches: 182.61 seconds\n"
     ]
    },
    {
     "name": "stdout",
     "output_type": "stream",
     "text": [
      "(35599, 1, 224, 224)\n"
     ]
    },
    {
     "name": "stderr",
     "output_type": "stream",
     "text": [
      "Not using image_cache.\n"
     ]
    },
    {
     "name": "stdout",
     "output_type": "stream",
     "text": [
      "(724, 987, 3) (724, 987)\n",
      "aws s3 cp \"/home/yuncong/CSHL_scoremaps/10.0um/ChatCryoJane201710/ChatCryoJane201710_prep2_10.0um_detector999/ChatCryoJane201710_slide27-S3_prep2_10.0um_detector999/ChatCryoJane201710_slide27-S3_prep2_10.0um_detector999_Tz_scoremap.bp\" \"s3://mousebrainatlas-data/CSHL_scoremaps/10.0um/ChatCryoJane201710/ChatCryoJane201710_prep2_10.0um_detector999/ChatCryoJane201710_slide27-S3_prep2_10.0um_detector999/ChatCryoJane201710_slide27-S3_prep2_10.0um_detector999_Tz_scoremap.bp\"\n",
      "aws s3 cp \"/home/yuncong/CSHL_scoremap_viz/10.0um/Tz/ChatCryoJane201710/detector999/prep2/ChatCryoJane201710_slide27-S3_prep2_10.0um_Tz_detector999_scoremapViz.jpg\" \"s3://mousebrainatlas-data/CSHL_scoremap_viz/10.0um/Tz/ChatCryoJane201710/detector999/prep2/ChatCryoJane201710_slide27-S3_prep2_10.0um_Tz_detector999_scoremapViz.jpg\"\n"
     ]
    },
    {
     "name": "stderr",
     "output_type": "stream",
     "text": [
      "locate patches: 0.04 seconds\n",
      "Not using image_cache.\n",
      "Load image: 10.75 seconds.\n",
      "Resize patches from 316 x 316 to 224 x 224.\n",
      "Extract patches: 183.32 seconds\n"
     ]
    },
    {
     "name": "stdout",
     "output_type": "stream",
     "text": [
      "(35753, 1, 224, 224)\n"
     ]
    },
    {
     "name": "stderr",
     "output_type": "stream",
     "text": [
      "Not using image_cache.\n"
     ]
    },
    {
     "name": "stdout",
     "output_type": "stream",
     "text": [
      "(724, 987, 3) (724, 987)\n",
      "aws s3 cp \"/home/yuncong/CSHL_scoremaps/10.0um/ChatCryoJane201710/ChatCryoJane201710_prep2_10.0um_detector999/ChatCryoJane201710_slide28-S3_prep2_10.0um_detector999/ChatCryoJane201710_slide28-S3_prep2_10.0um_detector999_Tz_scoremap.bp\" \"s3://mousebrainatlas-data/CSHL_scoremaps/10.0um/ChatCryoJane201710/ChatCryoJane201710_prep2_10.0um_detector999/ChatCryoJane201710_slide28-S3_prep2_10.0um_detector999/ChatCryoJane201710_slide28-S3_prep2_10.0um_detector999_Tz_scoremap.bp\"\n",
      "aws s3 cp \"/home/yuncong/CSHL_scoremap_viz/10.0um/Tz/ChatCryoJane201710/detector999/prep2/ChatCryoJane201710_slide28-S3_prep2_10.0um_Tz_detector999_scoremapViz.jpg\" \"s3://mousebrainatlas-data/CSHL_scoremap_viz/10.0um/Tz/ChatCryoJane201710/detector999/prep2/ChatCryoJane201710_slide28-S3_prep2_10.0um_Tz_detector999_scoremapViz.jpg\"\n"
     ]
    },
    {
     "name": "stderr",
     "output_type": "stream",
     "text": [
      "locate patches: 0.04 seconds\n",
      "Not using image_cache.\n",
      "Load image: 10.78 seconds.\n",
      "Resize patches from 316 x 316 to 224 x 224.\n",
      "Extract patches: 185.77 seconds\n"
     ]
    },
    {
     "name": "stdout",
     "output_type": "stream",
     "text": [
      "(35989, 1, 224, 224)\n"
     ]
    },
    {
     "name": "stderr",
     "output_type": "stream",
     "text": [
      "Not using image_cache.\n"
     ]
    },
    {
     "name": "stdout",
     "output_type": "stream",
     "text": [
      "(724, 987, 3) (724, 987)\n",
      "aws s3 cp \"/home/yuncong/CSHL_scoremaps/10.0um/ChatCryoJane201710/ChatCryoJane201710_prep2_10.0um_detector999/ChatCryoJane201710_slide29-S1_prep2_10.0um_detector999/ChatCryoJane201710_slide29-S1_prep2_10.0um_detector999_Tz_scoremap.bp\" \"s3://mousebrainatlas-data/CSHL_scoremaps/10.0um/ChatCryoJane201710/ChatCryoJane201710_prep2_10.0um_detector999/ChatCryoJane201710_slide29-S1_prep2_10.0um_detector999/ChatCryoJane201710_slide29-S1_prep2_10.0um_detector999_Tz_scoremap.bp\"\n",
      "aws s3 cp \"/home/yuncong/CSHL_scoremap_viz/10.0um/Tz/ChatCryoJane201710/detector999/prep2/ChatCryoJane201710_slide29-S1_prep2_10.0um_Tz_detector999_scoremapViz.jpg\" \"s3://mousebrainatlas-data/CSHL_scoremap_viz/10.0um/Tz/ChatCryoJane201710/detector999/prep2/ChatCryoJane201710_slide29-S1_prep2_10.0um_Tz_detector999_scoremapViz.jpg\"\n"
     ]
    },
    {
     "name": "stderr",
     "output_type": "stream",
     "text": [
      "locate patches: 0.05 seconds\n",
      "Not using image_cache.\n",
      "Load image: 10.55 seconds.\n",
      "Resize patches from 316 x 316 to 224 x 224.\n",
      "Extract patches: 185.58 seconds\n"
     ]
    },
    {
     "name": "stdout",
     "output_type": "stream",
     "text": [
      "(36148, 1, 224, 224)\n"
     ]
    },
    {
     "name": "stderr",
     "output_type": "stream",
     "text": [
      "Not using image_cache.\n"
     ]
    },
    {
     "name": "stdout",
     "output_type": "stream",
     "text": [
      "(724, 987, 3) (724, 987)\n",
      "aws s3 cp \"/home/yuncong/CSHL_scoremaps/10.0um/ChatCryoJane201710/ChatCryoJane201710_prep2_10.0um_detector999/ChatCryoJane201710_slide30-S1_prep2_10.0um_detector999/ChatCryoJane201710_slide30-S1_prep2_10.0um_detector999_Tz_scoremap.bp\" \"s3://mousebrainatlas-data/CSHL_scoremaps/10.0um/ChatCryoJane201710/ChatCryoJane201710_prep2_10.0um_detector999/ChatCryoJane201710_slide30-S1_prep2_10.0um_detector999/ChatCryoJane201710_slide30-S1_prep2_10.0um_detector999_Tz_scoremap.bp\"\n",
      "aws s3 cp \"/home/yuncong/CSHL_scoremap_viz/10.0um/Tz/ChatCryoJane201710/detector999/prep2/ChatCryoJane201710_slide30-S1_prep2_10.0um_Tz_detector999_scoremapViz.jpg\" \"s3://mousebrainatlas-data/CSHL_scoremap_viz/10.0um/Tz/ChatCryoJane201710/detector999/prep2/ChatCryoJane201710_slide30-S1_prep2_10.0um_Tz_detector999_scoremapViz.jpg\"\n"
     ]
    },
    {
     "name": "stderr",
     "output_type": "stream",
     "text": [
      "locate patches: 0.05 seconds\n",
      "Not using image_cache.\n",
      "Load image: 10.66 seconds.\n",
      "Resize patches from 316 x 316 to 224 x 224.\n",
      "Extract patches: 185.28 seconds\n"
     ]
    },
    {
     "name": "stdout",
     "output_type": "stream",
     "text": [
      "(36261, 1, 224, 224)\n"
     ]
    },
    {
     "name": "stderr",
     "output_type": "stream",
     "text": [
      "Not using image_cache.\n"
     ]
    },
    {
     "name": "stdout",
     "output_type": "stream",
     "text": [
      "(724, 987, 3) (724, 987)\n",
      "aws s3 cp \"/home/yuncong/CSHL_scoremaps/10.0um/ChatCryoJane201710/ChatCryoJane201710_prep2_10.0um_detector999/ChatCryoJane201710_slide29-S2_prep2_10.0um_detector999/ChatCryoJane201710_slide29-S2_prep2_10.0um_detector999_Tz_scoremap.bp\" \"s3://mousebrainatlas-data/CSHL_scoremaps/10.0um/ChatCryoJane201710/ChatCryoJane201710_prep2_10.0um_detector999/ChatCryoJane201710_slide29-S2_prep2_10.0um_detector999/ChatCryoJane201710_slide29-S2_prep2_10.0um_detector999_Tz_scoremap.bp\"\n",
      "aws s3 cp \"/home/yuncong/CSHL_scoremap_viz/10.0um/Tz/ChatCryoJane201710/detector999/prep2/ChatCryoJane201710_slide29-S2_prep2_10.0um_Tz_detector999_scoremapViz.jpg\" \"s3://mousebrainatlas-data/CSHL_scoremap_viz/10.0um/Tz/ChatCryoJane201710/detector999/prep2/ChatCryoJane201710_slide29-S2_prep2_10.0um_Tz_detector999_scoremapViz.jpg\"\n"
     ]
    },
    {
     "name": "stderr",
     "output_type": "stream",
     "text": [
      "locate patches: 0.05 seconds\n",
      "Not using image_cache.\n",
      "Load image: 10.87 seconds.\n",
      "Resize patches from 316 x 316 to 224 x 224.\n",
      "Extract patches: 185.66 seconds\n"
     ]
    },
    {
     "name": "stdout",
     "output_type": "stream",
     "text": [
      "(36242, 1, 224, 224)\n"
     ]
    },
    {
     "name": "stderr",
     "output_type": "stream",
     "text": [
      "Not using image_cache.\n"
     ]
    },
    {
     "name": "stdout",
     "output_type": "stream",
     "text": [
      "(724, 987, 3) (724, 987)\n",
      "aws s3 cp \"/home/yuncong/CSHL_scoremaps/10.0um/ChatCryoJane201710/ChatCryoJane201710_prep2_10.0um_detector999/ChatCryoJane201710_slide30-S2_prep2_10.0um_detector999/ChatCryoJane201710_slide30-S2_prep2_10.0um_detector999_Tz_scoremap.bp\" \"s3://mousebrainatlas-data/CSHL_scoremaps/10.0um/ChatCryoJane201710/ChatCryoJane201710_prep2_10.0um_detector999/ChatCryoJane201710_slide30-S2_prep2_10.0um_detector999/ChatCryoJane201710_slide30-S2_prep2_10.0um_detector999_Tz_scoremap.bp\"\n",
      "aws s3 cp \"/home/yuncong/CSHL_scoremap_viz/10.0um/Tz/ChatCryoJane201710/detector999/prep2/ChatCryoJane201710_slide30-S2_prep2_10.0um_Tz_detector999_scoremapViz.jpg\" \"s3://mousebrainatlas-data/CSHL_scoremap_viz/10.0um/Tz/ChatCryoJane201710/detector999/prep2/ChatCryoJane201710_slide30-S2_prep2_10.0um_Tz_detector999_scoremapViz.jpg\"\n"
     ]
    },
    {
     "name": "stderr",
     "output_type": "stream",
     "text": [
      "locate patches: 0.04 seconds\n",
      "Not using image_cache.\n",
      "Load image: 10.43 seconds.\n",
      "Resize patches from 316 x 316 to 224 x 224.\n",
      "Extract patches: 189.21 seconds\n"
     ]
    },
    {
     "name": "stdout",
     "output_type": "stream",
     "text": [
      "(36664, 1, 224, 224)\n"
     ]
    },
    {
     "name": "stderr",
     "output_type": "stream",
     "text": [
      "Not using image_cache.\n"
     ]
    },
    {
     "name": "stdout",
     "output_type": "stream",
     "text": [
      "(724, 987, 3) (724, 987)\n",
      "aws s3 cp \"/home/yuncong/CSHL_scoremaps/10.0um/ChatCryoJane201710/ChatCryoJane201710_prep2_10.0um_detector999/ChatCryoJane201710_slide29-S3_prep2_10.0um_detector999/ChatCryoJane201710_slide29-S3_prep2_10.0um_detector999_Tz_scoremap.bp\" \"s3://mousebrainatlas-data/CSHL_scoremaps/10.0um/ChatCryoJane201710/ChatCryoJane201710_prep2_10.0um_detector999/ChatCryoJane201710_slide29-S3_prep2_10.0um_detector999/ChatCryoJane201710_slide29-S3_prep2_10.0um_detector999_Tz_scoremap.bp\"\n",
      "aws s3 cp \"/home/yuncong/CSHL_scoremap_viz/10.0um/Tz/ChatCryoJane201710/detector999/prep2/ChatCryoJane201710_slide29-S3_prep2_10.0um_Tz_detector999_scoremapViz.jpg\" \"s3://mousebrainatlas-data/CSHL_scoremap_viz/10.0um/Tz/ChatCryoJane201710/detector999/prep2/ChatCryoJane201710_slide29-S3_prep2_10.0um_Tz_detector999_scoremapViz.jpg\"\n"
     ]
    },
    {
     "name": "stderr",
     "output_type": "stream",
     "text": [
      "locate patches: 0.04 seconds\n",
      "Not using image_cache.\n",
      "Load image: 10.90 seconds.\n",
      "Resize patches from 316 x 316 to 224 x 224.\n",
      "Extract patches: 189.80 seconds\n"
     ]
    },
    {
     "name": "stdout",
     "output_type": "stream",
     "text": [
      "(36654, 1, 224, 224)\n"
     ]
    },
    {
     "name": "stderr",
     "output_type": "stream",
     "text": [
      "Not using image_cache.\n"
     ]
    },
    {
     "name": "stdout",
     "output_type": "stream",
     "text": [
      "(724, 987, 3) (724, 987)\n",
      "aws s3 cp \"/home/yuncong/CSHL_scoremaps/10.0um/ChatCryoJane201710/ChatCryoJane201710_prep2_10.0um_detector999/ChatCryoJane201710_slide30-S3_prep2_10.0um_detector999/ChatCryoJane201710_slide30-S3_prep2_10.0um_detector999_Tz_scoremap.bp\" \"s3://mousebrainatlas-data/CSHL_scoremaps/10.0um/ChatCryoJane201710/ChatCryoJane201710_prep2_10.0um_detector999/ChatCryoJane201710_slide30-S3_prep2_10.0um_detector999/ChatCryoJane201710_slide30-S3_prep2_10.0um_detector999_Tz_scoremap.bp\"\n",
      "aws s3 cp \"/home/yuncong/CSHL_scoremap_viz/10.0um/Tz/ChatCryoJane201710/detector999/prep2/ChatCryoJane201710_slide30-S3_prep2_10.0um_Tz_detector999_scoremapViz.jpg\" \"s3://mousebrainatlas-data/CSHL_scoremap_viz/10.0um/Tz/ChatCryoJane201710/detector999/prep2/ChatCryoJane201710_slide30-S3_prep2_10.0um_Tz_detector999_scoremapViz.jpg\"\n"
     ]
    },
    {
     "name": "stderr",
     "output_type": "stream",
     "text": [
      "locate patches: 0.05 seconds\n",
      "Not using image_cache.\n",
      "Load image: 10.83 seconds.\n",
      "Resize patches from 316 x 316 to 224 x 224.\n",
      "Extract patches: 189.97 seconds\n"
     ]
    },
    {
     "name": "stdout",
     "output_type": "stream",
     "text": [
      "(36928, 1, 224, 224)\n"
     ]
    },
    {
     "name": "stderr",
     "output_type": "stream",
     "text": [
      "Not using image_cache.\n"
     ]
    },
    {
     "name": "stdout",
     "output_type": "stream",
     "text": [
      "(724, 987, 3) (724, 987)\n",
      "aws s3 cp \"/home/yuncong/CSHL_scoremaps/10.0um/ChatCryoJane201710/ChatCryoJane201710_prep2_10.0um_detector999/ChatCryoJane201710_slide31-S1_prep2_10.0um_detector999/ChatCryoJane201710_slide31-S1_prep2_10.0um_detector999_Tz_scoremap.bp\" \"s3://mousebrainatlas-data/CSHL_scoremaps/10.0um/ChatCryoJane201710/ChatCryoJane201710_prep2_10.0um_detector999/ChatCryoJane201710_slide31-S1_prep2_10.0um_detector999/ChatCryoJane201710_slide31-S1_prep2_10.0um_detector999_Tz_scoremap.bp\"\n",
      "aws s3 cp \"/home/yuncong/CSHL_scoremap_viz/10.0um/Tz/ChatCryoJane201710/detector999/prep2/ChatCryoJane201710_slide31-S1_prep2_10.0um_Tz_detector999_scoremapViz.jpg\" \"s3://mousebrainatlas-data/CSHL_scoremap_viz/10.0um/Tz/ChatCryoJane201710/detector999/prep2/ChatCryoJane201710_slide31-S1_prep2_10.0um_Tz_detector999_scoremapViz.jpg\"\n"
     ]
    },
    {
     "name": "stderr",
     "output_type": "stream",
     "text": [
      "locate patches: 0.04 seconds\n",
      "Not using image_cache.\n",
      "Load image: 10.97 seconds.\n",
      "Resize patches from 316 x 316 to 224 x 224.\n",
      "Extract patches: 190.42 seconds\n"
     ]
    },
    {
     "name": "stdout",
     "output_type": "stream",
     "text": [
      "(37054, 1, 224, 224)\n"
     ]
    },
    {
     "name": "stderr",
     "output_type": "stream",
     "text": [
      "Not using image_cache.\n"
     ]
    },
    {
     "name": "stdout",
     "output_type": "stream",
     "text": [
      "(724, 987, 3) (724, 987)\n",
      "aws s3 cp \"/home/yuncong/CSHL_scoremaps/10.0um/ChatCryoJane201710/ChatCryoJane201710_prep2_10.0um_detector999/ChatCryoJane201710_slide32-S1_prep2_10.0um_detector999/ChatCryoJane201710_slide32-S1_prep2_10.0um_detector999_Tz_scoremap.bp\" \"s3://mousebrainatlas-data/CSHL_scoremaps/10.0um/ChatCryoJane201710/ChatCryoJane201710_prep2_10.0um_detector999/ChatCryoJane201710_slide32-S1_prep2_10.0um_detector999/ChatCryoJane201710_slide32-S1_prep2_10.0um_detector999_Tz_scoremap.bp\"\n",
      "aws s3 cp \"/home/yuncong/CSHL_scoremap_viz/10.0um/Tz/ChatCryoJane201710/detector999/prep2/ChatCryoJane201710_slide32-S1_prep2_10.0um_Tz_detector999_scoremapViz.jpg\" \"s3://mousebrainatlas-data/CSHL_scoremap_viz/10.0um/Tz/ChatCryoJane201710/detector999/prep2/ChatCryoJane201710_slide32-S1_prep2_10.0um_Tz_detector999_scoremapViz.jpg\"\n"
     ]
    },
    {
     "name": "stderr",
     "output_type": "stream",
     "text": [
      "locate patches: 0.05 seconds\n",
      "Not using image_cache.\n",
      "Load image: 10.73 seconds.\n",
      "Resize patches from 316 x 316 to 224 x 224.\n",
      "Extract patches: 192.21 seconds\n"
     ]
    },
    {
     "name": "stdout",
     "output_type": "stream",
     "text": [
      "(37180, 1, 224, 224)\n"
     ]
    },
    {
     "name": "stderr",
     "output_type": "stream",
     "text": [
      "Not using image_cache.\n"
     ]
    },
    {
     "name": "stdout",
     "output_type": "stream",
     "text": [
      "(724, 987, 3) (724, 987)\n",
      "aws s3 cp \"/home/yuncong/CSHL_scoremaps/10.0um/ChatCryoJane201710/ChatCryoJane201710_prep2_10.0um_detector999/ChatCryoJane201710_slide31-S2_prep2_10.0um_detector999/ChatCryoJane201710_slide31-S2_prep2_10.0um_detector999_Tz_scoremap.bp\" \"s3://mousebrainatlas-data/CSHL_scoremaps/10.0um/ChatCryoJane201710/ChatCryoJane201710_prep2_10.0um_detector999/ChatCryoJane201710_slide31-S2_prep2_10.0um_detector999/ChatCryoJane201710_slide31-S2_prep2_10.0um_detector999_Tz_scoremap.bp\"\n",
      "aws s3 cp \"/home/yuncong/CSHL_scoremap_viz/10.0um/Tz/ChatCryoJane201710/detector999/prep2/ChatCryoJane201710_slide31-S2_prep2_10.0um_Tz_detector999_scoremapViz.jpg\" \"s3://mousebrainatlas-data/CSHL_scoremap_viz/10.0um/Tz/ChatCryoJane201710/detector999/prep2/ChatCryoJane201710_slide31-S2_prep2_10.0um_Tz_detector999_scoremapViz.jpg\"\n"
     ]
    },
    {
     "name": "stderr",
     "output_type": "stream",
     "text": [
      "locate patches: 0.06 seconds\n",
      "Not using image_cache.\n",
      "Load image: 10.88 seconds.\n",
      "Resize patches from 316 x 316 to 224 x 224.\n",
      "Extract patches: 192.06 seconds\n"
     ]
    },
    {
     "name": "stdout",
     "output_type": "stream",
     "text": [
      "(37350, 1, 224, 224)\n"
     ]
    },
    {
     "name": "stderr",
     "output_type": "stream",
     "text": [
      "Not using image_cache.\n"
     ]
    },
    {
     "name": "stdout",
     "output_type": "stream",
     "text": [
      "(724, 987, 3) (724, 987)\n",
      "aws s3 cp \"/home/yuncong/CSHL_scoremaps/10.0um/ChatCryoJane201710/ChatCryoJane201710_prep2_10.0um_detector999/ChatCryoJane201710_slide32-S2_prep2_10.0um_detector999/ChatCryoJane201710_slide32-S2_prep2_10.0um_detector999_Tz_scoremap.bp\" \"s3://mousebrainatlas-data/CSHL_scoremaps/10.0um/ChatCryoJane201710/ChatCryoJane201710_prep2_10.0um_detector999/ChatCryoJane201710_slide32-S2_prep2_10.0um_detector999/ChatCryoJane201710_slide32-S2_prep2_10.0um_detector999_Tz_scoremap.bp\"\n",
      "aws s3 cp \"/home/yuncong/CSHL_scoremap_viz/10.0um/Tz/ChatCryoJane201710/detector999/prep2/ChatCryoJane201710_slide32-S2_prep2_10.0um_Tz_detector999_scoremapViz.jpg\" \"s3://mousebrainatlas-data/CSHL_scoremap_viz/10.0um/Tz/ChatCryoJane201710/detector999/prep2/ChatCryoJane201710_slide32-S2_prep2_10.0um_Tz_detector999_scoremapViz.jpg\"\n"
     ]
    },
    {
     "name": "stderr",
     "output_type": "stream",
     "text": [
      "locate patches: 0.04 seconds\n",
      "Not using image_cache.\n",
      "Load image: 10.50 seconds.\n",
      "Resize patches from 316 x 316 to 224 x 224.\n",
      "Extract patches: 192.72 seconds\n"
     ]
    },
    {
     "name": "stdout",
     "output_type": "stream",
     "text": [
      "(37603, 1, 224, 224)\n"
     ]
    },
    {
     "name": "stderr",
     "output_type": "stream",
     "text": [
      "Not using image_cache.\n"
     ]
    },
    {
     "name": "stdout",
     "output_type": "stream",
     "text": [
      "(724, 987, 3) (724, 987)\n",
      "aws s3 cp \"/home/yuncong/CSHL_scoremaps/10.0um/ChatCryoJane201710/ChatCryoJane201710_prep2_10.0um_detector999/ChatCryoJane201710_slide31-S3_prep2_10.0um_detector999/ChatCryoJane201710_slide31-S3_prep2_10.0um_detector999_Tz_scoremap.bp\" \"s3://mousebrainatlas-data/CSHL_scoremaps/10.0um/ChatCryoJane201710/ChatCryoJane201710_prep2_10.0um_detector999/ChatCryoJane201710_slide31-S3_prep2_10.0um_detector999/ChatCryoJane201710_slide31-S3_prep2_10.0um_detector999_Tz_scoremap.bp\"\n",
      "aws s3 cp \"/home/yuncong/CSHL_scoremap_viz/10.0um/Tz/ChatCryoJane201710/detector999/prep2/ChatCryoJane201710_slide31-S3_prep2_10.0um_Tz_detector999_scoremapViz.jpg\" \"s3://mousebrainatlas-data/CSHL_scoremap_viz/10.0um/Tz/ChatCryoJane201710/detector999/prep2/ChatCryoJane201710_slide31-S3_prep2_10.0um_Tz_detector999_scoremapViz.jpg\"\n"
     ]
    },
    {
     "name": "stderr",
     "output_type": "stream",
     "text": [
      "locate patches: 0.04 seconds\n",
      "Not using image_cache.\n",
      "Load image: 10.95 seconds.\n",
      "Resize patches from 316 x 316 to 224 x 224.\n",
      "Extract patches: 193.85 seconds\n"
     ]
    },
    {
     "name": "stdout",
     "output_type": "stream",
     "text": [
      "(37682, 1, 224, 224)\n"
     ]
    },
    {
     "name": "stderr",
     "output_type": "stream",
     "text": [
      "Not using image_cache.\n"
     ]
    },
    {
     "name": "stdout",
     "output_type": "stream",
     "text": [
      "(724, 987, 3) (724, 987)\n",
      "aws s3 cp \"/home/yuncong/CSHL_scoremaps/10.0um/ChatCryoJane201710/ChatCryoJane201710_prep2_10.0um_detector999/ChatCryoJane201710_slide32-S3_prep2_10.0um_detector999/ChatCryoJane201710_slide32-S3_prep2_10.0um_detector999_Tz_scoremap.bp\" \"s3://mousebrainatlas-data/CSHL_scoremaps/10.0um/ChatCryoJane201710/ChatCryoJane201710_prep2_10.0um_detector999/ChatCryoJane201710_slide32-S3_prep2_10.0um_detector999/ChatCryoJane201710_slide32-S3_prep2_10.0um_detector999_Tz_scoremap.bp\"\n",
      "aws s3 cp \"/home/yuncong/CSHL_scoremap_viz/10.0um/Tz/ChatCryoJane201710/detector999/prep2/ChatCryoJane201710_slide32-S3_prep2_10.0um_Tz_detector999_scoremapViz.jpg\" \"s3://mousebrainatlas-data/CSHL_scoremap_viz/10.0um/Tz/ChatCryoJane201710/detector999/prep2/ChatCryoJane201710_slide32-S3_prep2_10.0um_Tz_detector999_scoremapViz.jpg\"\n"
     ]
    },
    {
     "name": "stderr",
     "output_type": "stream",
     "text": [
      "locate patches: 0.05 seconds\n",
      "Not using image_cache.\n",
      "Load image: 11.17 seconds.\n",
      "Resize patches from 316 x 316 to 224 x 224.\n",
      "Extract patches: 193.50 seconds\n"
     ]
    },
    {
     "name": "stdout",
     "output_type": "stream",
     "text": [
      "(37898, 1, 224, 224)\n"
     ]
    },
    {
     "name": "stderr",
     "output_type": "stream",
     "text": [
      "Not using image_cache.\n"
     ]
    },
    {
     "name": "stdout",
     "output_type": "stream",
     "text": [
      "(724, 987, 3) (724, 987)\n",
      "aws s3 cp \"/home/yuncong/CSHL_scoremaps/10.0um/ChatCryoJane201710/ChatCryoJane201710_prep2_10.0um_detector999/ChatCryoJane201710_slide33-S1_prep2_10.0um_detector999/ChatCryoJane201710_slide33-S1_prep2_10.0um_detector999_Tz_scoremap.bp\" \"s3://mousebrainatlas-data/CSHL_scoremaps/10.0um/ChatCryoJane201710/ChatCryoJane201710_prep2_10.0um_detector999/ChatCryoJane201710_slide33-S1_prep2_10.0um_detector999/ChatCryoJane201710_slide33-S1_prep2_10.0um_detector999_Tz_scoremap.bp\"\n",
      "aws s3 cp \"/home/yuncong/CSHL_scoremap_viz/10.0um/Tz/ChatCryoJane201710/detector999/prep2/ChatCryoJane201710_slide33-S1_prep2_10.0um_Tz_detector999_scoremapViz.jpg\" \"s3://mousebrainatlas-data/CSHL_scoremap_viz/10.0um/Tz/ChatCryoJane201710/detector999/prep2/ChatCryoJane201710_slide33-S1_prep2_10.0um_Tz_detector999_scoremapViz.jpg\"\n"
     ]
    },
    {
     "name": "stderr",
     "output_type": "stream",
     "text": [
      "locate patches: 0.04 seconds\n",
      "Not using image_cache.\n",
      "Load image: 11.40 seconds.\n",
      "Resize patches from 316 x 316 to 224 x 224.\n",
      "Extract patches: 194.70 seconds\n"
     ]
    },
    {
     "name": "stdout",
     "output_type": "stream",
     "text": [
      "(37939, 1, 224, 224)\n"
     ]
    },
    {
     "name": "stderr",
     "output_type": "stream",
     "text": [
      "Not using image_cache.\n"
     ]
    },
    {
     "name": "stdout",
     "output_type": "stream",
     "text": [
      "(724, 987, 3) (724, 987)\n",
      "aws s3 cp \"/home/yuncong/CSHL_scoremaps/10.0um/ChatCryoJane201710/ChatCryoJane201710_prep2_10.0um_detector999/ChatCryoJane201710_slide34-S1_prep2_10.0um_detector999/ChatCryoJane201710_slide34-S1_prep2_10.0um_detector999_Tz_scoremap.bp\" \"s3://mousebrainatlas-data/CSHL_scoremaps/10.0um/ChatCryoJane201710/ChatCryoJane201710_prep2_10.0um_detector999/ChatCryoJane201710_slide34-S1_prep2_10.0um_detector999/ChatCryoJane201710_slide34-S1_prep2_10.0um_detector999_Tz_scoremap.bp\"\n",
      "aws s3 cp \"/home/yuncong/CSHL_scoremap_viz/10.0um/Tz/ChatCryoJane201710/detector999/prep2/ChatCryoJane201710_slide34-S1_prep2_10.0um_Tz_detector999_scoremapViz.jpg\" \"s3://mousebrainatlas-data/CSHL_scoremap_viz/10.0um/Tz/ChatCryoJane201710/detector999/prep2/ChatCryoJane201710_slide34-S1_prep2_10.0um_Tz_detector999_scoremapViz.jpg\"\n"
     ]
    },
    {
     "name": "stderr",
     "output_type": "stream",
     "text": [
      "locate patches: 0.04 seconds\n",
      "Not using image_cache.\n",
      "Load image: 11.43 seconds.\n",
      "Resize patches from 316 x 316 to 224 x 224.\n",
      "Extract patches: 196.25 seconds\n"
     ]
    },
    {
     "name": "stdout",
     "output_type": "stream",
     "text": [
      "(38020, 1, 224, 224)\n"
     ]
    },
    {
     "name": "stderr",
     "output_type": "stream",
     "text": [
      "Not using image_cache.\n"
     ]
    },
    {
     "name": "stdout",
     "output_type": "stream",
     "text": [
      "(724, 987, 3) (724, 987)\n",
      "aws s3 cp \"/home/yuncong/CSHL_scoremaps/10.0um/ChatCryoJane201710/ChatCryoJane201710_prep2_10.0um_detector999/ChatCryoJane201710_slide33-S2_prep2_10.0um_detector999/ChatCryoJane201710_slide33-S2_prep2_10.0um_detector999_Tz_scoremap.bp\" \"s3://mousebrainatlas-data/CSHL_scoremaps/10.0um/ChatCryoJane201710/ChatCryoJane201710_prep2_10.0um_detector999/ChatCryoJane201710_slide33-S2_prep2_10.0um_detector999/ChatCryoJane201710_slide33-S2_prep2_10.0um_detector999_Tz_scoremap.bp\"\n",
      "aws s3 cp \"/home/yuncong/CSHL_scoremap_viz/10.0um/Tz/ChatCryoJane201710/detector999/prep2/ChatCryoJane201710_slide33-S2_prep2_10.0um_Tz_detector999_scoremapViz.jpg\" \"s3://mousebrainatlas-data/CSHL_scoremap_viz/10.0um/Tz/ChatCryoJane201710/detector999/prep2/ChatCryoJane201710_slide33-S2_prep2_10.0um_Tz_detector999_scoremapViz.jpg\"\n"
     ]
    },
    {
     "name": "stderr",
     "output_type": "stream",
     "text": [
      "locate patches: 0.05 seconds\n",
      "Not using image_cache.\n",
      "Load image: 11.76 seconds.\n",
      "Resize patches from 316 x 316 to 224 x 224.\n",
      "Extract patches: 196.25 seconds\n"
     ]
    },
    {
     "name": "stdout",
     "output_type": "stream",
     "text": [
      "(38237, 1, 224, 224)\n"
     ]
    },
    {
     "name": "stderr",
     "output_type": "stream",
     "text": [
      "Not using image_cache.\n"
     ]
    },
    {
     "name": "stdout",
     "output_type": "stream",
     "text": [
      "(724, 987, 3) (724, 987)\n",
      "aws s3 cp \"/home/yuncong/CSHL_scoremaps/10.0um/ChatCryoJane201710/ChatCryoJane201710_prep2_10.0um_detector999/ChatCryoJane201710_slide34-S2_prep2_10.0um_detector999/ChatCryoJane201710_slide34-S2_prep2_10.0um_detector999_Tz_scoremap.bp\" \"s3://mousebrainatlas-data/CSHL_scoremaps/10.0um/ChatCryoJane201710/ChatCryoJane201710_prep2_10.0um_detector999/ChatCryoJane201710_slide34-S2_prep2_10.0um_detector999/ChatCryoJane201710_slide34-S2_prep2_10.0um_detector999_Tz_scoremap.bp\"\n",
      "aws s3 cp \"/home/yuncong/CSHL_scoremap_viz/10.0um/Tz/ChatCryoJane201710/detector999/prep2/ChatCryoJane201710_slide34-S2_prep2_10.0um_Tz_detector999_scoremapViz.jpg\" \"s3://mousebrainatlas-data/CSHL_scoremap_viz/10.0um/Tz/ChatCryoJane201710/detector999/prep2/ChatCryoJane201710_slide34-S2_prep2_10.0um_Tz_detector999_scoremapViz.jpg\"\n"
     ]
    },
    {
     "name": "stderr",
     "output_type": "stream",
     "text": [
      "locate patches: 0.04 seconds\n",
      "Not using image_cache.\n",
      "Load image: 11.81 seconds.\n",
      "Resize patches from 316 x 316 to 224 x 224.\n",
      "Extract patches: 196.77 seconds\n"
     ]
    },
    {
     "name": "stdout",
     "output_type": "stream",
     "text": [
      "(38259, 1, 224, 224)\n"
     ]
    },
    {
     "name": "stderr",
     "output_type": "stream",
     "text": [
      "Not using image_cache.\n"
     ]
    },
    {
     "name": "stdout",
     "output_type": "stream",
     "text": [
      "(724, 987, 3) (724, 987)\n",
      "aws s3 cp \"/home/yuncong/CSHL_scoremaps/10.0um/ChatCryoJane201710/ChatCryoJane201710_prep2_10.0um_detector999/ChatCryoJane201710_slide33-S3_prep2_10.0um_detector999/ChatCryoJane201710_slide33-S3_prep2_10.0um_detector999_Tz_scoremap.bp\" \"s3://mousebrainatlas-data/CSHL_scoremaps/10.0um/ChatCryoJane201710/ChatCryoJane201710_prep2_10.0um_detector999/ChatCryoJane201710_slide33-S3_prep2_10.0um_detector999/ChatCryoJane201710_slide33-S3_prep2_10.0um_detector999_Tz_scoremap.bp\"\n",
      "aws s3 cp \"/home/yuncong/CSHL_scoremap_viz/10.0um/Tz/ChatCryoJane201710/detector999/prep2/ChatCryoJane201710_slide33-S3_prep2_10.0um_Tz_detector999_scoremapViz.jpg\" \"s3://mousebrainatlas-data/CSHL_scoremap_viz/10.0um/Tz/ChatCryoJane201710/detector999/prep2/ChatCryoJane201710_slide33-S3_prep2_10.0um_Tz_detector999_scoremapViz.jpg\"\n"
     ]
    },
    {
     "name": "stderr",
     "output_type": "stream",
     "text": [
      "locate patches: 0.05 seconds\n",
      "Not using image_cache.\n",
      "Load image: 12.06 seconds.\n",
      "Resize patches from 316 x 316 to 224 x 224.\n",
      "Extract patches: 195.65 seconds\n"
     ]
    },
    {
     "name": "stdout",
     "output_type": "stream",
     "text": [
      "(38206, 1, 224, 224)\n"
     ]
    },
    {
     "name": "stderr",
     "output_type": "stream",
     "text": [
      "Not using image_cache.\n"
     ]
    },
    {
     "name": "stdout",
     "output_type": "stream",
     "text": [
      "(724, 987, 3) (724, 987)\n",
      "aws s3 cp \"/home/yuncong/CSHL_scoremaps/10.0um/ChatCryoJane201710/ChatCryoJane201710_prep2_10.0um_detector999/ChatCryoJane201710_slide34-S3_prep2_10.0um_detector999/ChatCryoJane201710_slide34-S3_prep2_10.0um_detector999_Tz_scoremap.bp\" \"s3://mousebrainatlas-data/CSHL_scoremaps/10.0um/ChatCryoJane201710/ChatCryoJane201710_prep2_10.0um_detector999/ChatCryoJane201710_slide34-S3_prep2_10.0um_detector999/ChatCryoJane201710_slide34-S3_prep2_10.0um_detector999_Tz_scoremap.bp\"\n",
      "aws s3 cp \"/home/yuncong/CSHL_scoremap_viz/10.0um/Tz/ChatCryoJane201710/detector999/prep2/ChatCryoJane201710_slide34-S3_prep2_10.0um_Tz_detector999_scoremapViz.jpg\" \"s3://mousebrainatlas-data/CSHL_scoremap_viz/10.0um/Tz/ChatCryoJane201710/detector999/prep2/ChatCryoJane201710_slide34-S3_prep2_10.0um_Tz_detector999_scoremapViz.jpg\"\n"
     ]
    },
    {
     "name": "stderr",
     "output_type": "stream",
     "text": [
      "locate patches: 0.05 seconds\n",
      "Not using image_cache.\n",
      "Load image: 11.63 seconds.\n",
      "Resize patches from 316 x 316 to 224 x 224.\n",
      "Extract patches: 199.29 seconds\n"
     ]
    },
    {
     "name": "stdout",
     "output_type": "stream",
     "text": [
      "(38358, 1, 224, 224)\n"
     ]
    },
    {
     "name": "stderr",
     "output_type": "stream",
     "text": [
      "Not using image_cache.\n"
     ]
    },
    {
     "name": "stdout",
     "output_type": "stream",
     "text": [
      "(724, 987, 3) (724, 987)\n",
      "aws s3 cp \"/home/yuncong/CSHL_scoremaps/10.0um/ChatCryoJane201710/ChatCryoJane201710_prep2_10.0um_detector999/ChatCryoJane201710_slide35-S1_prep2_10.0um_detector999/ChatCryoJane201710_slide35-S1_prep2_10.0um_detector999_Tz_scoremap.bp\" \"s3://mousebrainatlas-data/CSHL_scoremaps/10.0um/ChatCryoJane201710/ChatCryoJane201710_prep2_10.0um_detector999/ChatCryoJane201710_slide35-S1_prep2_10.0um_detector999/ChatCryoJane201710_slide35-S1_prep2_10.0um_detector999_Tz_scoremap.bp\"\n",
      "aws s3 cp \"/home/yuncong/CSHL_scoremap_viz/10.0um/Tz/ChatCryoJane201710/detector999/prep2/ChatCryoJane201710_slide35-S1_prep2_10.0um_Tz_detector999_scoremapViz.jpg\" \"s3://mousebrainatlas-data/CSHL_scoremap_viz/10.0um/Tz/ChatCryoJane201710/detector999/prep2/ChatCryoJane201710_slide35-S1_prep2_10.0um_Tz_detector999_scoremapViz.jpg\"\n"
     ]
    },
    {
     "name": "stderr",
     "output_type": "stream",
     "text": [
      "locate patches: 0.05 seconds\n",
      "Not using image_cache.\n",
      "Load image: 11.24 seconds.\n",
      "Resize patches from 316 x 316 to 224 x 224.\n",
      "Extract patches: 204.54 seconds\n"
     ]
    },
    {
     "name": "stdout",
     "output_type": "stream",
     "text": [
      "(38842, 1, 224, 224)\n"
     ]
    },
    {
     "name": "stderr",
     "output_type": "stream",
     "text": [
      "Not using image_cache.\n"
     ]
    },
    {
     "name": "stdout",
     "output_type": "stream",
     "text": [
      "(724, 987, 3) (724, 987)\n",
      "aws s3 cp \"/home/yuncong/CSHL_scoremaps/10.0um/ChatCryoJane201710/ChatCryoJane201710_prep2_10.0um_detector999/ChatCryoJane201710_slide36-S1_prep2_10.0um_detector999/ChatCryoJane201710_slide36-S1_prep2_10.0um_detector999_Tz_scoremap.bp\" \"s3://mousebrainatlas-data/CSHL_scoremaps/10.0um/ChatCryoJane201710/ChatCryoJane201710_prep2_10.0um_detector999/ChatCryoJane201710_slide36-S1_prep2_10.0um_detector999/ChatCryoJane201710_slide36-S1_prep2_10.0um_detector999_Tz_scoremap.bp\"\n",
      "aws s3 cp \"/home/yuncong/CSHL_scoremap_viz/10.0um/Tz/ChatCryoJane201710/detector999/prep2/ChatCryoJane201710_slide36-S1_prep2_10.0um_Tz_detector999_scoremapViz.jpg\" \"s3://mousebrainatlas-data/CSHL_scoremap_viz/10.0um/Tz/ChatCryoJane201710/detector999/prep2/ChatCryoJane201710_slide36-S1_prep2_10.0um_Tz_detector999_scoremapViz.jpg\"\n"
     ]
    },
    {
     "name": "stderr",
     "output_type": "stream",
     "text": [
      "locate patches: 0.05 seconds\n",
      "Not using image_cache.\n",
      "Load image: 10.90 seconds.\n",
      "Resize patches from 316 x 316 to 224 x 224.\n",
      "Extract patches: 200.82 seconds\n"
     ]
    },
    {
     "name": "stdout",
     "output_type": "stream",
     "text": [
      "(38686, 1, 224, 224)\n"
     ]
    },
    {
     "name": "stderr",
     "output_type": "stream",
     "text": [
      "Not using image_cache.\n"
     ]
    },
    {
     "name": "stdout",
     "output_type": "stream",
     "text": [
      "(724, 987, 3) (724, 987)\n",
      "aws s3 cp \"/home/yuncong/CSHL_scoremaps/10.0um/ChatCryoJane201710/ChatCryoJane201710_prep2_10.0um_detector999/ChatCryoJane201710_slide35-S2_prep2_10.0um_detector999/ChatCryoJane201710_slide35-S2_prep2_10.0um_detector999_Tz_scoremap.bp\" \"s3://mousebrainatlas-data/CSHL_scoremaps/10.0um/ChatCryoJane201710/ChatCryoJane201710_prep2_10.0um_detector999/ChatCryoJane201710_slide35-S2_prep2_10.0um_detector999/ChatCryoJane201710_slide35-S2_prep2_10.0um_detector999_Tz_scoremap.bp\"\n",
      "aws s3 cp \"/home/yuncong/CSHL_scoremap_viz/10.0um/Tz/ChatCryoJane201710/detector999/prep2/ChatCryoJane201710_slide35-S2_prep2_10.0um_Tz_detector999_scoremapViz.jpg\" \"s3://mousebrainatlas-data/CSHL_scoremap_viz/10.0um/Tz/ChatCryoJane201710/detector999/prep2/ChatCryoJane201710_slide35-S2_prep2_10.0um_Tz_detector999_scoremapViz.jpg\"\n"
     ]
    },
    {
     "name": "stderr",
     "output_type": "stream",
     "text": [
      "locate patches: 0.06 seconds\n",
      "Not using image_cache.\n",
      "Load image: 11.77 seconds.\n",
      "Resize patches from 316 x 316 to 224 x 224.\n",
      "Extract patches: 204.29 seconds\n"
     ]
    },
    {
     "name": "stdout",
     "output_type": "stream",
     "text": [
      "(38891, 1, 224, 224)\n"
     ]
    },
    {
     "name": "stderr",
     "output_type": "stream",
     "text": [
      "Not using image_cache.\n"
     ]
    },
    {
     "name": "stdout",
     "output_type": "stream",
     "text": [
      "(724, 987, 3) (724, 987)\n",
      "aws s3 cp \"/home/yuncong/CSHL_scoremaps/10.0um/ChatCryoJane201710/ChatCryoJane201710_prep2_10.0um_detector999/ChatCryoJane201710_slide36-S2_prep2_10.0um_detector999/ChatCryoJane201710_slide36-S2_prep2_10.0um_detector999_Tz_scoremap.bp\" \"s3://mousebrainatlas-data/CSHL_scoremaps/10.0um/ChatCryoJane201710/ChatCryoJane201710_prep2_10.0um_detector999/ChatCryoJane201710_slide36-S2_prep2_10.0um_detector999/ChatCryoJane201710_slide36-S2_prep2_10.0um_detector999_Tz_scoremap.bp\"\n",
      "aws s3 cp \"/home/yuncong/CSHL_scoremap_viz/10.0um/Tz/ChatCryoJane201710/detector999/prep2/ChatCryoJane201710_slide36-S2_prep2_10.0um_Tz_detector999_scoremapViz.jpg\" \"s3://mousebrainatlas-data/CSHL_scoremap_viz/10.0um/Tz/ChatCryoJane201710/detector999/prep2/ChatCryoJane201710_slide36-S2_prep2_10.0um_Tz_detector999_scoremapViz.jpg\"\n"
     ]
    },
    {
     "name": "stderr",
     "output_type": "stream",
     "text": [
      "locate patches: 0.04 seconds\n",
      "Not using image_cache.\n",
      "Load image: 11.13 seconds.\n",
      "Resize patches from 316 x 316 to 224 x 224.\n",
      "Extract patches: 204.27 seconds\n"
     ]
    },
    {
     "name": "stdout",
     "output_type": "stream",
     "text": [
      "(39301, 1, 224, 224)\n"
     ]
    },
    {
     "name": "stderr",
     "output_type": "stream",
     "text": [
      "Not using image_cache.\n"
     ]
    },
    {
     "name": "stdout",
     "output_type": "stream",
     "text": [
      "(724, 987, 3) (724, 987)\n",
      "aws s3 cp \"/home/yuncong/CSHL_scoremaps/10.0um/ChatCryoJane201710/ChatCryoJane201710_prep2_10.0um_detector999/ChatCryoJane201710_slide35-S3_prep2_10.0um_detector999/ChatCryoJane201710_slide35-S3_prep2_10.0um_detector999_Tz_scoremap.bp\" \"s3://mousebrainatlas-data/CSHL_scoremaps/10.0um/ChatCryoJane201710/ChatCryoJane201710_prep2_10.0um_detector999/ChatCryoJane201710_slide35-S3_prep2_10.0um_detector999/ChatCryoJane201710_slide35-S3_prep2_10.0um_detector999_Tz_scoremap.bp\"\n",
      "aws s3 cp \"/home/yuncong/CSHL_scoremap_viz/10.0um/Tz/ChatCryoJane201710/detector999/prep2/ChatCryoJane201710_slide35-S3_prep2_10.0um_Tz_detector999_scoremapViz.jpg\" \"s3://mousebrainatlas-data/CSHL_scoremap_viz/10.0um/Tz/ChatCryoJane201710/detector999/prep2/ChatCryoJane201710_slide35-S3_prep2_10.0um_Tz_detector999_scoremapViz.jpg\"\n"
     ]
    },
    {
     "name": "stderr",
     "output_type": "stream",
     "text": [
      "locate patches: 0.05 seconds\n",
      "Not using image_cache.\n",
      "Load image: 11.95 seconds.\n",
      "Resize patches from 316 x 316 to 224 x 224.\n",
      "Extract patches: 202.01 seconds\n"
     ]
    },
    {
     "name": "stdout",
     "output_type": "stream",
     "text": [
      "(39436, 1, 224, 224)\n"
     ]
    },
    {
     "name": "stderr",
     "output_type": "stream",
     "text": [
      "Not using image_cache.\n"
     ]
    },
    {
     "name": "stdout",
     "output_type": "stream",
     "text": [
      "(724, 987, 3) (724, 987)\n",
      "aws s3 cp \"/home/yuncong/CSHL_scoremaps/10.0um/ChatCryoJane201710/ChatCryoJane201710_prep2_10.0um_detector999/ChatCryoJane201710_slide36-S3_prep2_10.0um_detector999/ChatCryoJane201710_slide36-S3_prep2_10.0um_detector999_Tz_scoremap.bp\" \"s3://mousebrainatlas-data/CSHL_scoremaps/10.0um/ChatCryoJane201710/ChatCryoJane201710_prep2_10.0um_detector999/ChatCryoJane201710_slide36-S3_prep2_10.0um_detector999/ChatCryoJane201710_slide36-S3_prep2_10.0um_detector999_Tz_scoremap.bp\"\n",
      "aws s3 cp \"/home/yuncong/CSHL_scoremap_viz/10.0um/Tz/ChatCryoJane201710/detector999/prep2/ChatCryoJane201710_slide36-S3_prep2_10.0um_Tz_detector999_scoremapViz.jpg\" \"s3://mousebrainatlas-data/CSHL_scoremap_viz/10.0um/Tz/ChatCryoJane201710/detector999/prep2/ChatCryoJane201710_slide36-S3_prep2_10.0um_Tz_detector999_scoremapViz.jpg\"\n"
     ]
    },
    {
     "name": "stderr",
     "output_type": "stream",
     "text": [
      "locate patches: 0.04 seconds\n",
      "Not using image_cache.\n",
      "Load image: 12.02 seconds.\n",
      "Resize patches from 316 x 316 to 224 x 224.\n",
      "Extract patches: 202.59 seconds\n"
     ]
    },
    {
     "name": "stdout",
     "output_type": "stream",
     "text": [
      "(39660, 1, 224, 224)\n"
     ]
    },
    {
     "name": "stderr",
     "output_type": "stream",
     "text": [
      "Not using image_cache.\n"
     ]
    },
    {
     "name": "stdout",
     "output_type": "stream",
     "text": [
      "(724, 987, 3) (724, 987)\n",
      "aws s3 cp \"/home/yuncong/CSHL_scoremaps/10.0um/ChatCryoJane201710/ChatCryoJane201710_prep2_10.0um_detector999/ChatCryoJane201710_slide37-S1_prep2_10.0um_detector999/ChatCryoJane201710_slide37-S1_prep2_10.0um_detector999_Tz_scoremap.bp\" \"s3://mousebrainatlas-data/CSHL_scoremaps/10.0um/ChatCryoJane201710/ChatCryoJane201710_prep2_10.0um_detector999/ChatCryoJane201710_slide37-S1_prep2_10.0um_detector999/ChatCryoJane201710_slide37-S1_prep2_10.0um_detector999_Tz_scoremap.bp\"\n",
      "aws s3 cp \"/home/yuncong/CSHL_scoremap_viz/10.0um/Tz/ChatCryoJane201710/detector999/prep2/ChatCryoJane201710_slide37-S1_prep2_10.0um_Tz_detector999_scoremapViz.jpg\" \"s3://mousebrainatlas-data/CSHL_scoremap_viz/10.0um/Tz/ChatCryoJane201710/detector999/prep2/ChatCryoJane201710_slide37-S1_prep2_10.0um_Tz_detector999_scoremapViz.jpg\"\n"
     ]
    },
    {
     "name": "stderr",
     "output_type": "stream",
     "text": [
      "locate patches: 0.05 seconds\n",
      "Not using image_cache.\n",
      "Load image: 12.49 seconds.\n",
      "Resize patches from 316 x 316 to 224 x 224.\n",
      "Extract patches: 203.59 seconds\n"
     ]
    },
    {
     "name": "stdout",
     "output_type": "stream",
     "text": [
      "(39688, 1, 224, 224)\n"
     ]
    },
    {
     "name": "stderr",
     "output_type": "stream",
     "text": [
      "Not using image_cache.\n"
     ]
    },
    {
     "name": "stdout",
     "output_type": "stream",
     "text": [
      "(724, 987, 3) (724, 987)\n",
      "aws s3 cp \"/home/yuncong/CSHL_scoremaps/10.0um/ChatCryoJane201710/ChatCryoJane201710_prep2_10.0um_detector999/ChatCryoJane201710_slide38-S1_prep2_10.0um_detector999/ChatCryoJane201710_slide38-S1_prep2_10.0um_detector999_Tz_scoremap.bp\" \"s3://mousebrainatlas-data/CSHL_scoremaps/10.0um/ChatCryoJane201710/ChatCryoJane201710_prep2_10.0um_detector999/ChatCryoJane201710_slide38-S1_prep2_10.0um_detector999/ChatCryoJane201710_slide38-S1_prep2_10.0um_detector999_Tz_scoremap.bp\"\n",
      "aws s3 cp \"/home/yuncong/CSHL_scoremap_viz/10.0um/Tz/ChatCryoJane201710/detector999/prep2/ChatCryoJane201710_slide38-S1_prep2_10.0um_Tz_detector999_scoremapViz.jpg\" \"s3://mousebrainatlas-data/CSHL_scoremap_viz/10.0um/Tz/ChatCryoJane201710/detector999/prep2/ChatCryoJane201710_slide38-S1_prep2_10.0um_Tz_detector999_scoremapViz.jpg\"\n"
     ]
    },
    {
     "name": "stderr",
     "output_type": "stream",
     "text": [
      "locate patches: 0.04 seconds\n",
      "Not using image_cache.\n",
      "Load image: 12.22 seconds.\n",
      "Resize patches from 316 x 316 to 224 x 224.\n",
      "Extract patches: 203.26 seconds\n"
     ]
    },
    {
     "name": "stdout",
     "output_type": "stream",
     "text": [
      "(39873, 1, 224, 224)\n"
     ]
    },
    {
     "name": "stderr",
     "output_type": "stream",
     "text": [
      "Not using image_cache.\n"
     ]
    },
    {
     "name": "stdout",
     "output_type": "stream",
     "text": [
      "(724, 987, 3) (724, 987)\n",
      "aws s3 cp \"/home/yuncong/CSHL_scoremaps/10.0um/ChatCryoJane201710/ChatCryoJane201710_prep2_10.0um_detector999/ChatCryoJane201710_slide37-S2_prep2_10.0um_detector999/ChatCryoJane201710_slide37-S2_prep2_10.0um_detector999_Tz_scoremap.bp\" \"s3://mousebrainatlas-data/CSHL_scoremaps/10.0um/ChatCryoJane201710/ChatCryoJane201710_prep2_10.0um_detector999/ChatCryoJane201710_slide37-S2_prep2_10.0um_detector999/ChatCryoJane201710_slide37-S2_prep2_10.0um_detector999_Tz_scoremap.bp\"\n",
      "aws s3 cp \"/home/yuncong/CSHL_scoremap_viz/10.0um/Tz/ChatCryoJane201710/detector999/prep2/ChatCryoJane201710_slide37-S2_prep2_10.0um_Tz_detector999_scoremapViz.jpg\" \"s3://mousebrainatlas-data/CSHL_scoremap_viz/10.0um/Tz/ChatCryoJane201710/detector999/prep2/ChatCryoJane201710_slide37-S2_prep2_10.0um_Tz_detector999_scoremapViz.jpg\"\n"
     ]
    },
    {
     "name": "stderr",
     "output_type": "stream",
     "text": [
      "locate patches: 0.05 seconds\n",
      "Not using image_cache.\n",
      "Load image: 12.10 seconds.\n",
      "Resize patches from 316 x 316 to 224 x 224.\n",
      "Extract patches: 204.01 seconds\n"
     ]
    },
    {
     "name": "stdout",
     "output_type": "stream",
     "text": [
      "(39967, 1, 224, 224)\n"
     ]
    },
    {
     "name": "stderr",
     "output_type": "stream",
     "text": [
      "Not using image_cache.\n"
     ]
    },
    {
     "name": "stdout",
     "output_type": "stream",
     "text": [
      "(724, 987, 3) (724, 987)\n",
      "aws s3 cp \"/home/yuncong/CSHL_scoremaps/10.0um/ChatCryoJane201710/ChatCryoJane201710_prep2_10.0um_detector999/ChatCryoJane201710_slide38-S2_prep2_10.0um_detector999/ChatCryoJane201710_slide38-S2_prep2_10.0um_detector999_Tz_scoremap.bp\" \"s3://mousebrainatlas-data/CSHL_scoremaps/10.0um/ChatCryoJane201710/ChatCryoJane201710_prep2_10.0um_detector999/ChatCryoJane201710_slide38-S2_prep2_10.0um_detector999/ChatCryoJane201710_slide38-S2_prep2_10.0um_detector999_Tz_scoremap.bp\"\n",
      "aws s3 cp \"/home/yuncong/CSHL_scoremap_viz/10.0um/Tz/ChatCryoJane201710/detector999/prep2/ChatCryoJane201710_slide38-S2_prep2_10.0um_Tz_detector999_scoremapViz.jpg\" \"s3://mousebrainatlas-data/CSHL_scoremap_viz/10.0um/Tz/ChatCryoJane201710/detector999/prep2/ChatCryoJane201710_slide38-S2_prep2_10.0um_Tz_detector999_scoremapViz.jpg\"\n"
     ]
    },
    {
     "name": "stderr",
     "output_type": "stream",
     "text": [
      "locate patches: 0.05 seconds\n",
      "Not using image_cache.\n",
      "Load image: 12.04 seconds.\n",
      "Resize patches from 316 x 316 to 224 x 224.\n",
      "Extract patches: 205.73 seconds\n"
     ]
    },
    {
     "name": "stdout",
     "output_type": "stream",
     "text": [
      "(40161, 1, 224, 224)\n"
     ]
    },
    {
     "name": "stderr",
     "output_type": "stream",
     "text": [
      "Not using image_cache.\n"
     ]
    },
    {
     "name": "stdout",
     "output_type": "stream",
     "text": [
      "(724, 987, 3) (724, 987)\n",
      "aws s3 cp \"/home/yuncong/CSHL_scoremaps/10.0um/ChatCryoJane201710/ChatCryoJane201710_prep2_10.0um_detector999/ChatCryoJane201710_slide37-S3_prep2_10.0um_detector999/ChatCryoJane201710_slide37-S3_prep2_10.0um_detector999_Tz_scoremap.bp\" \"s3://mousebrainatlas-data/CSHL_scoremaps/10.0um/ChatCryoJane201710/ChatCryoJane201710_prep2_10.0um_detector999/ChatCryoJane201710_slide37-S3_prep2_10.0um_detector999/ChatCryoJane201710_slide37-S3_prep2_10.0um_detector999_Tz_scoremap.bp\"\n",
      "aws s3 cp \"/home/yuncong/CSHL_scoremap_viz/10.0um/Tz/ChatCryoJane201710/detector999/prep2/ChatCryoJane201710_slide37-S3_prep2_10.0um_Tz_detector999_scoremapViz.jpg\" \"s3://mousebrainatlas-data/CSHL_scoremap_viz/10.0um/Tz/ChatCryoJane201710/detector999/prep2/ChatCryoJane201710_slide37-S3_prep2_10.0um_Tz_detector999_scoremapViz.jpg\"\n"
     ]
    },
    {
     "name": "stderr",
     "output_type": "stream",
     "text": [
      "locate patches: 0.05 seconds\n",
      "Not using image_cache.\n",
      "Load image: 12.22 seconds.\n",
      "Resize patches from 316 x 316 to 224 x 224.\n",
      "Extract patches: 205.23 seconds\n"
     ]
    },
    {
     "name": "stdout",
     "output_type": "stream",
     "text": [
      "(40082, 1, 224, 224)\n"
     ]
    },
    {
     "name": "stderr",
     "output_type": "stream",
     "text": [
      "Not using image_cache.\n"
     ]
    },
    {
     "name": "stdout",
     "output_type": "stream",
     "text": [
      "(724, 987, 3) (724, 987)\n",
      "aws s3 cp \"/home/yuncong/CSHL_scoremaps/10.0um/ChatCryoJane201710/ChatCryoJane201710_prep2_10.0um_detector999/ChatCryoJane201710_slide38-S3_prep2_10.0um_detector999/ChatCryoJane201710_slide38-S3_prep2_10.0um_detector999_Tz_scoremap.bp\" \"s3://mousebrainatlas-data/CSHL_scoremaps/10.0um/ChatCryoJane201710/ChatCryoJane201710_prep2_10.0um_detector999/ChatCryoJane201710_slide38-S3_prep2_10.0um_detector999/ChatCryoJane201710_slide38-S3_prep2_10.0um_detector999_Tz_scoremap.bp\"\n",
      "aws s3 cp \"/home/yuncong/CSHL_scoremap_viz/10.0um/Tz/ChatCryoJane201710/detector999/prep2/ChatCryoJane201710_slide38-S3_prep2_10.0um_Tz_detector999_scoremapViz.jpg\" \"s3://mousebrainatlas-data/CSHL_scoremap_viz/10.0um/Tz/ChatCryoJane201710/detector999/prep2/ChatCryoJane201710_slide38-S3_prep2_10.0um_Tz_detector999_scoremapViz.jpg\"\n"
     ]
    },
    {
     "name": "stderr",
     "output_type": "stream",
     "text": [
      "locate patches: 0.05 seconds\n",
      "Not using image_cache.\n",
      "Load image: 12.49 seconds.\n",
      "Resize patches from 316 x 316 to 224 x 224.\n",
      "Extract patches: 206.13 seconds\n"
     ]
    },
    {
     "name": "stdout",
     "output_type": "stream",
     "text": [
      "(40410, 1, 224, 224)\n"
     ]
    },
    {
     "name": "stderr",
     "output_type": "stream",
     "text": [
      "Not using image_cache.\n"
     ]
    },
    {
     "name": "stdout",
     "output_type": "stream",
     "text": [
      "(724, 987, 3) (724, 987)\n",
      "aws s3 cp \"/home/yuncong/CSHL_scoremaps/10.0um/ChatCryoJane201710/ChatCryoJane201710_prep2_10.0um_detector999/ChatCryoJane201710_slide39-S1_prep2_10.0um_detector999/ChatCryoJane201710_slide39-S1_prep2_10.0um_detector999_Tz_scoremap.bp\" \"s3://mousebrainatlas-data/CSHL_scoremaps/10.0um/ChatCryoJane201710/ChatCryoJane201710_prep2_10.0um_detector999/ChatCryoJane201710_slide39-S1_prep2_10.0um_detector999/ChatCryoJane201710_slide39-S1_prep2_10.0um_detector999_Tz_scoremap.bp\"\n",
      "aws s3 cp \"/home/yuncong/CSHL_scoremap_viz/10.0um/Tz/ChatCryoJane201710/detector999/prep2/ChatCryoJane201710_slide39-S1_prep2_10.0um_Tz_detector999_scoremapViz.jpg\" \"s3://mousebrainatlas-data/CSHL_scoremap_viz/10.0um/Tz/ChatCryoJane201710/detector999/prep2/ChatCryoJane201710_slide39-S1_prep2_10.0um_Tz_detector999_scoremapViz.jpg\"\n"
     ]
    },
    {
     "name": "stderr",
     "output_type": "stream",
     "text": [
      "locate patches: 0.05 seconds\n",
      "Not using image_cache.\n",
      "Load image: 12.75 seconds.\n",
      "Resize patches from 316 x 316 to 224 x 224.\n",
      "Extract patches: 206.53 seconds\n"
     ]
    },
    {
     "name": "stdout",
     "output_type": "stream",
     "text": [
      "(40393, 1, 224, 224)\n"
     ]
    },
    {
     "name": "stderr",
     "output_type": "stream",
     "text": [
      "Not using image_cache.\n"
     ]
    },
    {
     "name": "stdout",
     "output_type": "stream",
     "text": [
      "(724, 987, 3) (724, 987)\n",
      "aws s3 cp \"/home/yuncong/CSHL_scoremaps/10.0um/ChatCryoJane201710/ChatCryoJane201710_prep2_10.0um_detector999/ChatCryoJane201710_slide40-S1_prep2_10.0um_detector999/ChatCryoJane201710_slide40-S1_prep2_10.0um_detector999_Tz_scoremap.bp\" \"s3://mousebrainatlas-data/CSHL_scoremaps/10.0um/ChatCryoJane201710/ChatCryoJane201710_prep2_10.0um_detector999/ChatCryoJane201710_slide40-S1_prep2_10.0um_detector999/ChatCryoJane201710_slide40-S1_prep2_10.0um_detector999_Tz_scoremap.bp\"\n",
      "aws s3 cp \"/home/yuncong/CSHL_scoremap_viz/10.0um/Tz/ChatCryoJane201710/detector999/prep2/ChatCryoJane201710_slide40-S1_prep2_10.0um_Tz_detector999_scoremapViz.jpg\" \"s3://mousebrainatlas-data/CSHL_scoremap_viz/10.0um/Tz/ChatCryoJane201710/detector999/prep2/ChatCryoJane201710_slide40-S1_prep2_10.0um_Tz_detector999_scoremapViz.jpg\"\n"
     ]
    },
    {
     "name": "stderr",
     "output_type": "stream",
     "text": [
      "locate patches: 0.04 seconds\n",
      "Not using image_cache.\n",
      "Load image: 12.67 seconds.\n",
      "Resize patches from 316 x 316 to 224 x 224.\n",
      "Extract patches: 207.48 seconds\n"
     ]
    },
    {
     "name": "stdout",
     "output_type": "stream",
     "text": [
      "(40533, 1, 224, 224)\n"
     ]
    },
    {
     "name": "stderr",
     "output_type": "stream",
     "text": [
      "Not using image_cache.\n"
     ]
    },
    {
     "name": "stdout",
     "output_type": "stream",
     "text": [
      "(724, 987, 3) (724, 987)\n",
      "aws s3 cp \"/home/yuncong/CSHL_scoremaps/10.0um/ChatCryoJane201710/ChatCryoJane201710_prep2_10.0um_detector999/ChatCryoJane201710_slide39-S2_prep2_10.0um_detector999/ChatCryoJane201710_slide39-S2_prep2_10.0um_detector999_Tz_scoremap.bp\" \"s3://mousebrainatlas-data/CSHL_scoremaps/10.0um/ChatCryoJane201710/ChatCryoJane201710_prep2_10.0um_detector999/ChatCryoJane201710_slide39-S2_prep2_10.0um_detector999/ChatCryoJane201710_slide39-S2_prep2_10.0um_detector999_Tz_scoremap.bp\"\n",
      "aws s3 cp \"/home/yuncong/CSHL_scoremap_viz/10.0um/Tz/ChatCryoJane201710/detector999/prep2/ChatCryoJane201710_slide39-S2_prep2_10.0um_Tz_detector999_scoremapViz.jpg\" \"s3://mousebrainatlas-data/CSHL_scoremap_viz/10.0um/Tz/ChatCryoJane201710/detector999/prep2/ChatCryoJane201710_slide39-S2_prep2_10.0um_Tz_detector999_scoremapViz.jpg\"\n"
     ]
    },
    {
     "name": "stderr",
     "output_type": "stream",
     "text": [
      "locate patches: 0.04 seconds\n",
      "Not using image_cache.\n",
      "Load image: 12.40 seconds.\n",
      "Resize patches from 316 x 316 to 224 x 224.\n",
      "Extract patches: 211.16 seconds\n"
     ]
    },
    {
     "name": "stdout",
     "output_type": "stream",
     "text": [
      "(40616, 1, 224, 224)\n"
     ]
    },
    {
     "name": "stderr",
     "output_type": "stream",
     "text": [
      "Not using image_cache.\n"
     ]
    },
    {
     "name": "stdout",
     "output_type": "stream",
     "text": [
      "(724, 987, 3) (724, 987)\n",
      "aws s3 cp \"/home/yuncong/CSHL_scoremaps/10.0um/ChatCryoJane201710/ChatCryoJane201710_prep2_10.0um_detector999/ChatCryoJane201710_slide40-S2_prep2_10.0um_detector999/ChatCryoJane201710_slide40-S2_prep2_10.0um_detector999_Tz_scoremap.bp\" \"s3://mousebrainatlas-data/CSHL_scoremaps/10.0um/ChatCryoJane201710/ChatCryoJane201710_prep2_10.0um_detector999/ChatCryoJane201710_slide40-S2_prep2_10.0um_detector999/ChatCryoJane201710_slide40-S2_prep2_10.0um_detector999_Tz_scoremap.bp\"\n",
      "aws s3 cp \"/home/yuncong/CSHL_scoremap_viz/10.0um/Tz/ChatCryoJane201710/detector999/prep2/ChatCryoJane201710_slide40-S2_prep2_10.0um_Tz_detector999_scoremapViz.jpg\" \"s3://mousebrainatlas-data/CSHL_scoremap_viz/10.0um/Tz/ChatCryoJane201710/detector999/prep2/ChatCryoJane201710_slide40-S2_prep2_10.0um_Tz_detector999_scoremapViz.jpg\"\n"
     ]
    },
    {
     "name": "stderr",
     "output_type": "stream",
     "text": [
      "locate patches: 0.06 seconds\n",
      "Not using image_cache.\n",
      "Load image: 11.81 seconds.\n",
      "Resize patches from 316 x 316 to 224 x 224.\n",
      "Extract patches: 212.60 seconds\n"
     ]
    },
    {
     "name": "stdout",
     "output_type": "stream",
     "text": [
      "(40623, 1, 224, 224)\n"
     ]
    },
    {
     "name": "stderr",
     "output_type": "stream",
     "text": [
      "Not using image_cache.\n"
     ]
    },
    {
     "name": "stdout",
     "output_type": "stream",
     "text": [
      "(724, 987, 3) (724, 987)\n",
      "aws s3 cp \"/home/yuncong/CSHL_scoremaps/10.0um/ChatCryoJane201710/ChatCryoJane201710_prep2_10.0um_detector999/ChatCryoJane201710_slide39-S3_prep2_10.0um_detector999/ChatCryoJane201710_slide39-S3_prep2_10.0um_detector999_Tz_scoremap.bp\" \"s3://mousebrainatlas-data/CSHL_scoremaps/10.0um/ChatCryoJane201710/ChatCryoJane201710_prep2_10.0um_detector999/ChatCryoJane201710_slide39-S3_prep2_10.0um_detector999/ChatCryoJane201710_slide39-S3_prep2_10.0um_detector999_Tz_scoremap.bp\"\n",
      "aws s3 cp \"/home/yuncong/CSHL_scoremap_viz/10.0um/Tz/ChatCryoJane201710/detector999/prep2/ChatCryoJane201710_slide39-S3_prep2_10.0um_Tz_detector999_scoremapViz.jpg\" \"s3://mousebrainatlas-data/CSHL_scoremap_viz/10.0um/Tz/ChatCryoJane201710/detector999/prep2/ChatCryoJane201710_slide39-S3_prep2_10.0um_Tz_detector999_scoremapViz.jpg\"\n"
     ]
    },
    {
     "name": "stderr",
     "output_type": "stream",
     "text": [
      "locate patches: 0.05 seconds\n",
      "Not using image_cache.\n",
      "Load image: 11.89 seconds.\n",
      "Resize patches from 316 x 316 to 224 x 224.\n",
      "Extract patches: 214.37 seconds\n"
     ]
    },
    {
     "name": "stdout",
     "output_type": "stream",
     "text": [
      "(40928, 1, 224, 224)\n"
     ]
    },
    {
     "name": "stderr",
     "output_type": "stream",
     "text": [
      "Not using image_cache.\n"
     ]
    },
    {
     "name": "stdout",
     "output_type": "stream",
     "text": [
      "(724, 987, 3) (724, 987)\n",
      "aws s3 cp \"/home/yuncong/CSHL_scoremaps/10.0um/ChatCryoJane201710/ChatCryoJane201710_prep2_10.0um_detector999/ChatCryoJane201710_slide40-S3_prep2_10.0um_detector999/ChatCryoJane201710_slide40-S3_prep2_10.0um_detector999_Tz_scoremap.bp\" \"s3://mousebrainatlas-data/CSHL_scoremaps/10.0um/ChatCryoJane201710/ChatCryoJane201710_prep2_10.0um_detector999/ChatCryoJane201710_slide40-S3_prep2_10.0um_detector999/ChatCryoJane201710_slide40-S3_prep2_10.0um_detector999_Tz_scoremap.bp\"\n",
      "aws s3 cp \"/home/yuncong/CSHL_scoremap_viz/10.0um/Tz/ChatCryoJane201710/detector999/prep2/ChatCryoJane201710_slide40-S3_prep2_10.0um_Tz_detector999_scoremapViz.jpg\" \"s3://mousebrainatlas-data/CSHL_scoremap_viz/10.0um/Tz/ChatCryoJane201710/detector999/prep2/ChatCryoJane201710_slide40-S3_prep2_10.0um_Tz_detector999_scoremapViz.jpg\"\n"
     ]
    },
    {
     "name": "stderr",
     "output_type": "stream",
     "text": [
      "locate patches: 0.04 seconds\n",
      "Not using image_cache.\n",
      "Load image: 11.08 seconds.\n",
      "Resize patches from 316 x 316 to 224 x 224.\n",
      "Extract patches: 211.76 seconds\n"
     ]
    },
    {
     "name": "stdout",
     "output_type": "stream",
     "text": [
      "(41241, 1, 224, 224)\n"
     ]
    },
    {
     "name": "stderr",
     "output_type": "stream",
     "text": [
      "Not using image_cache.\n"
     ]
    },
    {
     "name": "stdout",
     "output_type": "stream",
     "text": [
      "(724, 987, 3) (724, 987)\n",
      "aws s3 cp \"/home/yuncong/CSHL_scoremaps/10.0um/ChatCryoJane201710/ChatCryoJane201710_prep2_10.0um_detector999/ChatCryoJane201710_slide41-S1_prep2_10.0um_detector999/ChatCryoJane201710_slide41-S1_prep2_10.0um_detector999_Tz_scoremap.bp\" \"s3://mousebrainatlas-data/CSHL_scoremaps/10.0um/ChatCryoJane201710/ChatCryoJane201710_prep2_10.0um_detector999/ChatCryoJane201710_slide41-S1_prep2_10.0um_detector999/ChatCryoJane201710_slide41-S1_prep2_10.0um_detector999_Tz_scoremap.bp\"\n",
      "aws s3 cp \"/home/yuncong/CSHL_scoremap_viz/10.0um/Tz/ChatCryoJane201710/detector999/prep2/ChatCryoJane201710_slide41-S1_prep2_10.0um_Tz_detector999_scoremapViz.jpg\" \"s3://mousebrainatlas-data/CSHL_scoremap_viz/10.0um/Tz/ChatCryoJane201710/detector999/prep2/ChatCryoJane201710_slide41-S1_prep2_10.0um_Tz_detector999_scoremapViz.jpg\"\n"
     ]
    },
    {
     "name": "stderr",
     "output_type": "stream",
     "text": [
      "locate patches: 0.04 seconds\n",
      "Not using image_cache.\n",
      "Load image: 12.49 seconds.\n",
      "Resize patches from 316 x 316 to 224 x 224.\n",
      "Extract patches: 220.10 seconds\n"
     ]
    },
    {
     "name": "stdout",
     "output_type": "stream",
     "text": [
      "(41474, 1, 224, 224)\n"
     ]
    },
    {
     "name": "stderr",
     "output_type": "stream",
     "text": [
      "Not using image_cache.\n"
     ]
    },
    {
     "name": "stdout",
     "output_type": "stream",
     "text": [
      "(724, 987, 3) (724, 987)\n",
      "aws s3 cp \"/home/yuncong/CSHL_scoremaps/10.0um/ChatCryoJane201710/ChatCryoJane201710_prep2_10.0um_detector999/ChatCryoJane201710_slide42-S1_prep2_10.0um_detector999/ChatCryoJane201710_slide42-S1_prep2_10.0um_detector999_Tz_scoremap.bp\" \"s3://mousebrainatlas-data/CSHL_scoremaps/10.0um/ChatCryoJane201710/ChatCryoJane201710_prep2_10.0um_detector999/ChatCryoJane201710_slide42-S1_prep2_10.0um_detector999/ChatCryoJane201710_slide42-S1_prep2_10.0um_detector999_Tz_scoremap.bp\"\n",
      "aws s3 cp \"/home/yuncong/CSHL_scoremap_viz/10.0um/Tz/ChatCryoJane201710/detector999/prep2/ChatCryoJane201710_slide42-S1_prep2_10.0um_Tz_detector999_scoremapViz.jpg\" \"s3://mousebrainatlas-data/CSHL_scoremap_viz/10.0um/Tz/ChatCryoJane201710/detector999/prep2/ChatCryoJane201710_slide42-S1_prep2_10.0um_Tz_detector999_scoremapViz.jpg\"\n"
     ]
    },
    {
     "name": "stderr",
     "output_type": "stream",
     "text": [
      "locate patches: 0.05 seconds\n",
      "Not using image_cache.\n",
      "Load image: 11.75 seconds.\n",
      "Resize patches from 316 x 316 to 224 x 224.\n",
      "Extract patches: 207.25 seconds\n"
     ]
    },
    {
     "name": "stdout",
     "output_type": "stream",
     "text": [
      "(40525, 1, 224, 224)\n"
     ]
    },
    {
     "name": "stderr",
     "output_type": "stream",
     "text": [
      "Not using image_cache.\n"
     ]
    },
    {
     "name": "stdout",
     "output_type": "stream",
     "text": [
      "(724, 987, 3) (724, 987)\n",
      "aws s3 cp \"/home/yuncong/CSHL_scoremaps/10.0um/ChatCryoJane201710/ChatCryoJane201710_prep2_10.0um_detector999/ChatCryoJane201710_slide41-S2_prep2_10.0um_detector999/ChatCryoJane201710_slide41-S2_prep2_10.0um_detector999_Tz_scoremap.bp\" \"s3://mousebrainatlas-data/CSHL_scoremaps/10.0um/ChatCryoJane201710/ChatCryoJane201710_prep2_10.0um_detector999/ChatCryoJane201710_slide41-S2_prep2_10.0um_detector999/ChatCryoJane201710_slide41-S2_prep2_10.0um_detector999_Tz_scoremap.bp\"\n",
      "aws s3 cp \"/home/yuncong/CSHL_scoremap_viz/10.0um/Tz/ChatCryoJane201710/detector999/prep2/ChatCryoJane201710_slide41-S2_prep2_10.0um_Tz_detector999_scoremapViz.jpg\" \"s3://mousebrainatlas-data/CSHL_scoremap_viz/10.0um/Tz/ChatCryoJane201710/detector999/prep2/ChatCryoJane201710_slide41-S2_prep2_10.0um_Tz_detector999_scoremapViz.jpg\"\n"
     ]
    },
    {
     "name": "stderr",
     "output_type": "stream",
     "text": [
      "locate patches: 0.04 seconds\n",
      "Not using image_cache.\n",
      "Load image: 11.71 seconds.\n",
      "Resize patches from 316 x 316 to 224 x 224.\n",
      "Extract patches: 217.09 seconds\n"
     ]
    },
    {
     "name": "stdout",
     "output_type": "stream",
     "text": [
      "(41885, 1, 224, 224)\n"
     ]
    },
    {
     "name": "stderr",
     "output_type": "stream",
     "text": [
      "Not using image_cache.\n"
     ]
    },
    {
     "name": "stdout",
     "output_type": "stream",
     "text": [
      "(724, 987, 3) (724, 987)\n",
      "aws s3 cp \"/home/yuncong/CSHL_scoremaps/10.0um/ChatCryoJane201710/ChatCryoJane201710_prep2_10.0um_detector999/ChatCryoJane201710_slide42-S2_prep2_10.0um_detector999/ChatCryoJane201710_slide42-S2_prep2_10.0um_detector999_Tz_scoremap.bp\" \"s3://mousebrainatlas-data/CSHL_scoremaps/10.0um/ChatCryoJane201710/ChatCryoJane201710_prep2_10.0um_detector999/ChatCryoJane201710_slide42-S2_prep2_10.0um_detector999/ChatCryoJane201710_slide42-S2_prep2_10.0um_detector999_Tz_scoremap.bp\"\n",
      "aws s3 cp \"/home/yuncong/CSHL_scoremap_viz/10.0um/Tz/ChatCryoJane201710/detector999/prep2/ChatCryoJane201710_slide42-S2_prep2_10.0um_Tz_detector999_scoremapViz.jpg\" \"s3://mousebrainatlas-data/CSHL_scoremap_viz/10.0um/Tz/ChatCryoJane201710/detector999/prep2/ChatCryoJane201710_slide42-S2_prep2_10.0um_Tz_detector999_scoremapViz.jpg\"\n"
     ]
    },
    {
     "name": "stderr",
     "output_type": "stream",
     "text": [
      "locate patches: 0.05 seconds\n",
      "Not using image_cache.\n",
      "Load image: 12.19 seconds.\n",
      "Resize patches from 316 x 316 to 224 x 224.\n",
      "Extract patches: 217.31 seconds\n"
     ]
    },
    {
     "name": "stdout",
     "output_type": "stream",
     "text": [
      "(42033, 1, 224, 224)\n"
     ]
    },
    {
     "name": "stderr",
     "output_type": "stream",
     "text": [
      "Not using image_cache.\n"
     ]
    },
    {
     "name": "stdout",
     "output_type": "stream",
     "text": [
      "(724, 987, 3) (724, 987)\n",
      "aws s3 cp \"/home/yuncong/CSHL_scoremaps/10.0um/ChatCryoJane201710/ChatCryoJane201710_prep2_10.0um_detector999/ChatCryoJane201710_slide41-S3_prep2_10.0um_detector999/ChatCryoJane201710_slide41-S3_prep2_10.0um_detector999_Tz_scoremap.bp\" \"s3://mousebrainatlas-data/CSHL_scoremaps/10.0um/ChatCryoJane201710/ChatCryoJane201710_prep2_10.0um_detector999/ChatCryoJane201710_slide41-S3_prep2_10.0um_detector999/ChatCryoJane201710_slide41-S3_prep2_10.0um_detector999_Tz_scoremap.bp\"\n",
      "aws s3 cp \"/home/yuncong/CSHL_scoremap_viz/10.0um/Tz/ChatCryoJane201710/detector999/prep2/ChatCryoJane201710_slide41-S3_prep2_10.0um_Tz_detector999_scoremapViz.jpg\" \"s3://mousebrainatlas-data/CSHL_scoremap_viz/10.0um/Tz/ChatCryoJane201710/detector999/prep2/ChatCryoJane201710_slide41-S3_prep2_10.0um_Tz_detector999_scoremapViz.jpg\"\n"
     ]
    },
    {
     "name": "stderr",
     "output_type": "stream",
     "text": [
      "locate patches: 0.05 seconds\n",
      "Not using image_cache.\n",
      "Load image: 11.91 seconds.\n",
      "Resize patches from 316 x 316 to 224 x 224.\n",
      "Extract patches: 214.93 seconds\n"
     ]
    },
    {
     "name": "stdout",
     "output_type": "stream",
     "text": [
      "(42401, 1, 224, 224)\n"
     ]
    },
    {
     "name": "stderr",
     "output_type": "stream",
     "text": [
      "Not using image_cache.\n"
     ]
    },
    {
     "name": "stdout",
     "output_type": "stream",
     "text": [
      "(724, 987, 3) (724, 987)\n",
      "aws s3 cp \"/home/yuncong/CSHL_scoremaps/10.0um/ChatCryoJane201710/ChatCryoJane201710_prep2_10.0um_detector999/ChatCryoJane201710_slide42-S3_prep2_10.0um_detector999/ChatCryoJane201710_slide42-S3_prep2_10.0um_detector999_Tz_scoremap.bp\" \"s3://mousebrainatlas-data/CSHL_scoremaps/10.0um/ChatCryoJane201710/ChatCryoJane201710_prep2_10.0um_detector999/ChatCryoJane201710_slide42-S3_prep2_10.0um_detector999/ChatCryoJane201710_slide42-S3_prep2_10.0um_detector999_Tz_scoremap.bp\"\n",
      "aws s3 cp \"/home/yuncong/CSHL_scoremap_viz/10.0um/Tz/ChatCryoJane201710/detector999/prep2/ChatCryoJane201710_slide42-S3_prep2_10.0um_Tz_detector999_scoremapViz.jpg\" \"s3://mousebrainatlas-data/CSHL_scoremap_viz/10.0um/Tz/ChatCryoJane201710/detector999/prep2/ChatCryoJane201710_slide42-S3_prep2_10.0um_Tz_detector999_scoremapViz.jpg\"\n"
     ]
    },
    {
     "name": "stderr",
     "output_type": "stream",
     "text": [
      "locate patches: 0.05 seconds\n",
      "Not using image_cache.\n",
      "Load image: 12.56 seconds.\n",
      "Resize patches from 316 x 316 to 224 x 224.\n",
      "Extract patches: 223.61 seconds\n"
     ]
    },
    {
     "name": "stdout",
     "output_type": "stream",
     "text": [
      "(42708, 1, 224, 224)\n"
     ]
    },
    {
     "name": "stderr",
     "output_type": "stream",
     "text": [
      "Not using image_cache.\n"
     ]
    },
    {
     "name": "stdout",
     "output_type": "stream",
     "text": [
      "(724, 987, 3) (724, 987)\n",
      "aws s3 cp \"/home/yuncong/CSHL_scoremaps/10.0um/ChatCryoJane201710/ChatCryoJane201710_prep2_10.0um_detector999/ChatCryoJane201710_slide43-S1_prep2_10.0um_detector999/ChatCryoJane201710_slide43-S1_prep2_10.0um_detector999_Tz_scoremap.bp\" \"s3://mousebrainatlas-data/CSHL_scoremaps/10.0um/ChatCryoJane201710/ChatCryoJane201710_prep2_10.0um_detector999/ChatCryoJane201710_slide43-S1_prep2_10.0um_detector999/ChatCryoJane201710_slide43-S1_prep2_10.0um_detector999_Tz_scoremap.bp\"\n",
      "aws s3 cp \"/home/yuncong/CSHL_scoremap_viz/10.0um/Tz/ChatCryoJane201710/detector999/prep2/ChatCryoJane201710_slide43-S1_prep2_10.0um_Tz_detector999_scoremapViz.jpg\" \"s3://mousebrainatlas-data/CSHL_scoremap_viz/10.0um/Tz/ChatCryoJane201710/detector999/prep2/ChatCryoJane201710_slide43-S1_prep2_10.0um_Tz_detector999_scoremapViz.jpg\"\n"
     ]
    },
    {
     "name": "stderr",
     "output_type": "stream",
     "text": [
      "locate patches: 0.05 seconds\n",
      "Not using image_cache.\n",
      "Load image: 11.86 seconds.\n",
      "Resize patches from 316 x 316 to 224 x 224.\n",
      "Extract patches: 219.43 seconds\n"
     ]
    },
    {
     "name": "stdout",
     "output_type": "stream",
     "text": [
      "(42869, 1, 224, 224)\n"
     ]
    },
    {
     "name": "stderr",
     "output_type": "stream",
     "text": [
      "Not using image_cache.\n"
     ]
    },
    {
     "name": "stdout",
     "output_type": "stream",
     "text": [
      "(724, 987, 3) (724, 987)\n",
      "aws s3 cp \"/home/yuncong/CSHL_scoremaps/10.0um/ChatCryoJane201710/ChatCryoJane201710_prep2_10.0um_detector999/ChatCryoJane201710_slide44-S1_prep2_10.0um_detector999/ChatCryoJane201710_slide44-S1_prep2_10.0um_detector999_Tz_scoremap.bp\" \"s3://mousebrainatlas-data/CSHL_scoremaps/10.0um/ChatCryoJane201710/ChatCryoJane201710_prep2_10.0um_detector999/ChatCryoJane201710_slide44-S1_prep2_10.0um_detector999/ChatCryoJane201710_slide44-S1_prep2_10.0um_detector999_Tz_scoremap.bp\"\n",
      "aws s3 cp \"/home/yuncong/CSHL_scoremap_viz/10.0um/Tz/ChatCryoJane201710/detector999/prep2/ChatCryoJane201710_slide44-S1_prep2_10.0um_Tz_detector999_scoremapViz.jpg\" \"s3://mousebrainatlas-data/CSHL_scoremap_viz/10.0um/Tz/ChatCryoJane201710/detector999/prep2/ChatCryoJane201710_slide44-S1_prep2_10.0um_Tz_detector999_scoremapViz.jpg\"\n"
     ]
    },
    {
     "name": "stderr",
     "output_type": "stream",
     "text": [
      "locate patches: 0.05 seconds\n",
      "Not using image_cache.\n",
      "Load image: 12.72 seconds.\n",
      "Resize patches from 316 x 316 to 224 x 224.\n",
      "Extract patches: 226.39 seconds\n"
     ]
    },
    {
     "name": "stdout",
     "output_type": "stream",
     "text": [
      "(43335, 1, 224, 224)\n"
     ]
    },
    {
     "name": "stderr",
     "output_type": "stream",
     "text": [
      "Not using image_cache.\n"
     ]
    },
    {
     "name": "stdout",
     "output_type": "stream",
     "text": [
      "(724, 987, 3) (724, 987)\n",
      "aws s3 cp \"/home/yuncong/CSHL_scoremaps/10.0um/ChatCryoJane201710/ChatCryoJane201710_prep2_10.0um_detector999/ChatCryoJane201710_slide43-S2_prep2_10.0um_detector999/ChatCryoJane201710_slide43-S2_prep2_10.0um_detector999_Tz_scoremap.bp\" \"s3://mousebrainatlas-data/CSHL_scoremaps/10.0um/ChatCryoJane201710/ChatCryoJane201710_prep2_10.0um_detector999/ChatCryoJane201710_slide43-S2_prep2_10.0um_detector999/ChatCryoJane201710_slide43-S2_prep2_10.0um_detector999_Tz_scoremap.bp\"\n",
      "aws s3 cp \"/home/yuncong/CSHL_scoremap_viz/10.0um/Tz/ChatCryoJane201710/detector999/prep2/ChatCryoJane201710_slide43-S2_prep2_10.0um_Tz_detector999_scoremapViz.jpg\" \"s3://mousebrainatlas-data/CSHL_scoremap_viz/10.0um/Tz/ChatCryoJane201710/detector999/prep2/ChatCryoJane201710_slide43-S2_prep2_10.0um_Tz_detector999_scoremapViz.jpg\"\n"
     ]
    },
    {
     "name": "stderr",
     "output_type": "stream",
     "text": [
      "locate patches: 0.04 seconds\n",
      "Not using image_cache.\n",
      "Load image: 12.08 seconds.\n",
      "Resize patches from 316 x 316 to 224 x 224.\n",
      "Extract patches: 220.84 seconds\n"
     ]
    },
    {
     "name": "stdout",
     "output_type": "stream",
     "text": [
      "(43459, 1, 224, 224)\n"
     ]
    },
    {
     "name": "stderr",
     "output_type": "stream",
     "text": [
      "Not using image_cache.\n"
     ]
    },
    {
     "name": "stdout",
     "output_type": "stream",
     "text": [
      "(724, 987, 3) (724, 987)\n",
      "aws s3 cp \"/home/yuncong/CSHL_scoremaps/10.0um/ChatCryoJane201710/ChatCryoJane201710_prep2_10.0um_detector999/ChatCryoJane201710_slide44-S2_prep2_10.0um_detector999/ChatCryoJane201710_slide44-S2_prep2_10.0um_detector999_Tz_scoremap.bp\" \"s3://mousebrainatlas-data/CSHL_scoremaps/10.0um/ChatCryoJane201710/ChatCryoJane201710_prep2_10.0um_detector999/ChatCryoJane201710_slide44-S2_prep2_10.0um_detector999/ChatCryoJane201710_slide44-S2_prep2_10.0um_detector999_Tz_scoremap.bp\"\n",
      "aws s3 cp \"/home/yuncong/CSHL_scoremap_viz/10.0um/Tz/ChatCryoJane201710/detector999/prep2/ChatCryoJane201710_slide44-S2_prep2_10.0um_Tz_detector999_scoremapViz.jpg\" \"s3://mousebrainatlas-data/CSHL_scoremap_viz/10.0um/Tz/ChatCryoJane201710/detector999/prep2/ChatCryoJane201710_slide44-S2_prep2_10.0um_Tz_detector999_scoremapViz.jpg\"\n"
     ]
    },
    {
     "name": "stderr",
     "output_type": "stream",
     "text": [
      "locate patches: 0.05 seconds\n",
      "Not using image_cache.\n",
      "Load image: 12.23 seconds.\n",
      "Resize patches from 316 x 316 to 224 x 224.\n",
      "Extract patches: 225.49 seconds\n"
     ]
    },
    {
     "name": "stdout",
     "output_type": "stream",
     "text": [
      "(43773, 1, 224, 224)\n"
     ]
    },
    {
     "name": "stderr",
     "output_type": "stream",
     "text": [
      "Not using image_cache.\n"
     ]
    },
    {
     "name": "stdout",
     "output_type": "stream",
     "text": [
      "(724, 987, 3) (724, 987)\n",
      "aws s3 cp \"/home/yuncong/CSHL_scoremaps/10.0um/ChatCryoJane201710/ChatCryoJane201710_prep2_10.0um_detector999/ChatCryoJane201710_slide43-S3_prep2_10.0um_detector999/ChatCryoJane201710_slide43-S3_prep2_10.0um_detector999_Tz_scoremap.bp\" \"s3://mousebrainatlas-data/CSHL_scoremaps/10.0um/ChatCryoJane201710/ChatCryoJane201710_prep2_10.0um_detector999/ChatCryoJane201710_slide43-S3_prep2_10.0um_detector999/ChatCryoJane201710_slide43-S3_prep2_10.0um_detector999_Tz_scoremap.bp\"\n",
      "aws s3 cp \"/home/yuncong/CSHL_scoremap_viz/10.0um/Tz/ChatCryoJane201710/detector999/prep2/ChatCryoJane201710_slide43-S3_prep2_10.0um_Tz_detector999_scoremapViz.jpg\" \"s3://mousebrainatlas-data/CSHL_scoremap_viz/10.0um/Tz/ChatCryoJane201710/detector999/prep2/ChatCryoJane201710_slide43-S3_prep2_10.0um_Tz_detector999_scoremapViz.jpg\"\n"
     ]
    },
    {
     "name": "stderr",
     "output_type": "stream",
     "text": [
      "locate patches: 0.05 seconds\n",
      "Not using image_cache.\n",
      "Load image: 11.96 seconds.\n",
      "Resize patches from 316 x 316 to 224 x 224.\n",
      "Extract patches: 222.29 seconds\n"
     ]
    },
    {
     "name": "stdout",
     "output_type": "stream",
     "text": [
      "(43849, 1, 224, 224)\n"
     ]
    },
    {
     "name": "stderr",
     "output_type": "stream",
     "text": [
      "Not using image_cache.\n"
     ]
    },
    {
     "name": "stdout",
     "output_type": "stream",
     "text": [
      "(724, 987, 3) (724, 987)\n",
      "aws s3 cp \"/home/yuncong/CSHL_scoremaps/10.0um/ChatCryoJane201710/ChatCryoJane201710_prep2_10.0um_detector999/ChatCryoJane201710_slide44-S3_prep2_10.0um_detector999/ChatCryoJane201710_slide44-S3_prep2_10.0um_detector999_Tz_scoremap.bp\" \"s3://mousebrainatlas-data/CSHL_scoremaps/10.0um/ChatCryoJane201710/ChatCryoJane201710_prep2_10.0um_detector999/ChatCryoJane201710_slide44-S3_prep2_10.0um_detector999/ChatCryoJane201710_slide44-S3_prep2_10.0um_detector999_Tz_scoremap.bp\"\n",
      "aws s3 cp \"/home/yuncong/CSHL_scoremap_viz/10.0um/Tz/ChatCryoJane201710/detector999/prep2/ChatCryoJane201710_slide44-S3_prep2_10.0um_Tz_detector999_scoremapViz.jpg\" \"s3://mousebrainatlas-data/CSHL_scoremap_viz/10.0um/Tz/ChatCryoJane201710/detector999/prep2/ChatCryoJane201710_slide44-S3_prep2_10.0um_Tz_detector999_scoremapViz.jpg\"\n"
     ]
    },
    {
     "name": "stderr",
     "output_type": "stream",
     "text": [
      "locate patches: 0.05 seconds\n",
      "Not using image_cache.\n",
      "Load image: 11.80 seconds.\n",
      "Resize patches from 316 x 316 to 224 x 224.\n",
      "Extract patches: 230.73 seconds\n"
     ]
    },
    {
     "name": "stdout",
     "output_type": "stream",
     "text": [
      "(43895, 1, 224, 224)\n"
     ]
    },
    {
     "name": "stderr",
     "output_type": "stream",
     "text": [
      "Not using image_cache.\n"
     ]
    },
    {
     "name": "stdout",
     "output_type": "stream",
     "text": [
      "(724, 987, 3) (724, 987)\n",
      "aws s3 cp \"/home/yuncong/CSHL_scoremaps/10.0um/ChatCryoJane201710/ChatCryoJane201710_prep2_10.0um_detector999/ChatCryoJane201710_slide45-S1_prep2_10.0um_detector999/ChatCryoJane201710_slide45-S1_prep2_10.0um_detector999_Tz_scoremap.bp\" \"s3://mousebrainatlas-data/CSHL_scoremaps/10.0um/ChatCryoJane201710/ChatCryoJane201710_prep2_10.0um_detector999/ChatCryoJane201710_slide45-S1_prep2_10.0um_detector999/ChatCryoJane201710_slide45-S1_prep2_10.0um_detector999_Tz_scoremap.bp\"\n",
      "aws s3 cp \"/home/yuncong/CSHL_scoremap_viz/10.0um/Tz/ChatCryoJane201710/detector999/prep2/ChatCryoJane201710_slide45-S1_prep2_10.0um_Tz_detector999_scoremapViz.jpg\" \"s3://mousebrainatlas-data/CSHL_scoremap_viz/10.0um/Tz/ChatCryoJane201710/detector999/prep2/ChatCryoJane201710_slide45-S1_prep2_10.0um_Tz_detector999_scoremapViz.jpg\"\n"
     ]
    },
    {
     "name": "stderr",
     "output_type": "stream",
     "text": [
      "locate patches: 0.06 seconds\n",
      "Not using image_cache.\n",
      "Load image: 12.28 seconds.\n",
      "Resize patches from 316 x 316 to 224 x 224.\n",
      "Extract patches: 234.38 seconds\n"
     ]
    },
    {
     "name": "stdout",
     "output_type": "stream",
     "text": [
      "(44742, 1, 224, 224)\n"
     ]
    },
    {
     "name": "stderr",
     "output_type": "stream",
     "text": [
      "Not using image_cache.\n"
     ]
    },
    {
     "name": "stdout",
     "output_type": "stream",
     "text": [
      "(724, 987, 3) (724, 987)\n",
      "aws s3 cp \"/home/yuncong/CSHL_scoremaps/10.0um/ChatCryoJane201710/ChatCryoJane201710_prep2_10.0um_detector999/ChatCryoJane201710_slide46-S1_prep2_10.0um_detector999/ChatCryoJane201710_slide46-S1_prep2_10.0um_detector999_Tz_scoremap.bp\" \"s3://mousebrainatlas-data/CSHL_scoremaps/10.0um/ChatCryoJane201710/ChatCryoJane201710_prep2_10.0um_detector999/ChatCryoJane201710_slide46-S1_prep2_10.0um_detector999/ChatCryoJane201710_slide46-S1_prep2_10.0um_detector999_Tz_scoremap.bp\"\n",
      "aws s3 cp \"/home/yuncong/CSHL_scoremap_viz/10.0um/Tz/ChatCryoJane201710/detector999/prep2/ChatCryoJane201710_slide46-S1_prep2_10.0um_Tz_detector999_scoremapViz.jpg\" \"s3://mousebrainatlas-data/CSHL_scoremap_viz/10.0um/Tz/ChatCryoJane201710/detector999/prep2/ChatCryoJane201710_slide46-S1_prep2_10.0um_Tz_detector999_scoremapViz.jpg\"\n"
     ]
    },
    {
     "name": "stderr",
     "output_type": "stream",
     "text": [
      "locate patches: 0.05 seconds\n",
      "Not using image_cache.\n",
      "Load image: 12.07 seconds.\n",
      "Resize patches from 316 x 316 to 224 x 224.\n",
      "Extract patches: 229.91 seconds\n"
     ]
    },
    {
     "name": "stdout",
     "output_type": "stream",
     "text": [
      "(44257, 1, 224, 224)\n"
     ]
    },
    {
     "name": "stderr",
     "output_type": "stream",
     "text": [
      "Not using image_cache.\n"
     ]
    },
    {
     "name": "stdout",
     "output_type": "stream",
     "text": [
      "(724, 987, 3) (724, 987)\n",
      "aws s3 cp \"/home/yuncong/CSHL_scoremaps/10.0um/ChatCryoJane201710/ChatCryoJane201710_prep2_10.0um_detector999/ChatCryoJane201710_slide45-S2_prep2_10.0um_detector999/ChatCryoJane201710_slide45-S2_prep2_10.0um_detector999_Tz_scoremap.bp\" \"s3://mousebrainatlas-data/CSHL_scoremaps/10.0um/ChatCryoJane201710/ChatCryoJane201710_prep2_10.0um_detector999/ChatCryoJane201710_slide45-S2_prep2_10.0um_detector999/ChatCryoJane201710_slide45-S2_prep2_10.0um_detector999_Tz_scoremap.bp\"\n",
      "aws s3 cp \"/home/yuncong/CSHL_scoremap_viz/10.0um/Tz/ChatCryoJane201710/detector999/prep2/ChatCryoJane201710_slide45-S2_prep2_10.0um_Tz_detector999_scoremapViz.jpg\" \"s3://mousebrainatlas-data/CSHL_scoremap_viz/10.0um/Tz/ChatCryoJane201710/detector999/prep2/ChatCryoJane201710_slide45-S2_prep2_10.0um_Tz_detector999_scoremapViz.jpg\"\n"
     ]
    },
    {
     "name": "stderr",
     "output_type": "stream",
     "text": [
      "locate patches: 0.05 seconds\n",
      "Not using image_cache.\n",
      "Load image: 12.13 seconds.\n",
      "Resize patches from 316 x 316 to 224 x 224.\n",
      "Extract patches: 229.77 seconds\n"
     ]
    },
    {
     "name": "stdout",
     "output_type": "stream",
     "text": [
      "(44353, 1, 224, 224)\n"
     ]
    },
    {
     "name": "stderr",
     "output_type": "stream",
     "text": [
      "Not using image_cache.\n"
     ]
    },
    {
     "name": "stdout",
     "output_type": "stream",
     "text": [
      "(724, 987, 3) (724, 987)\n",
      "aws s3 cp \"/home/yuncong/CSHL_scoremaps/10.0um/ChatCryoJane201710/ChatCryoJane201710_prep2_10.0um_detector999/ChatCryoJane201710_slide46-S2_prep2_10.0um_detector999/ChatCryoJane201710_slide46-S2_prep2_10.0um_detector999_Tz_scoremap.bp\" \"s3://mousebrainatlas-data/CSHL_scoremaps/10.0um/ChatCryoJane201710/ChatCryoJane201710_prep2_10.0um_detector999/ChatCryoJane201710_slide46-S2_prep2_10.0um_detector999/ChatCryoJane201710_slide46-S2_prep2_10.0um_detector999_Tz_scoremap.bp\"\n",
      "aws s3 cp \"/home/yuncong/CSHL_scoremap_viz/10.0um/Tz/ChatCryoJane201710/detector999/prep2/ChatCryoJane201710_slide46-S2_prep2_10.0um_Tz_detector999_scoremapViz.jpg\" \"s3://mousebrainatlas-data/CSHL_scoremap_viz/10.0um/Tz/ChatCryoJane201710/detector999/prep2/ChatCryoJane201710_slide46-S2_prep2_10.0um_Tz_detector999_scoremapViz.jpg\"\n"
     ]
    },
    {
     "name": "stderr",
     "output_type": "stream",
     "text": [
      "locate patches: 0.05 seconds\n",
      "Not using image_cache.\n",
      "Load image: 11.78 seconds.\n",
      "Resize patches from 316 x 316 to 224 x 224.\n",
      "Extract patches: 225.50 seconds\n"
     ]
    },
    {
     "name": "stdout",
     "output_type": "stream",
     "text": [
      "(44565, 1, 224, 224)\n"
     ]
    },
    {
     "name": "stderr",
     "output_type": "stream",
     "text": [
      "Not using image_cache.\n"
     ]
    },
    {
     "name": "stdout",
     "output_type": "stream",
     "text": [
      "(724, 987, 3) (724, 987)\n",
      "aws s3 cp \"/home/yuncong/CSHL_scoremaps/10.0um/ChatCryoJane201710/ChatCryoJane201710_prep2_10.0um_detector999/ChatCryoJane201710_slide45-S3_prep2_10.0um_detector999/ChatCryoJane201710_slide45-S3_prep2_10.0um_detector999_Tz_scoremap.bp\" \"s3://mousebrainatlas-data/CSHL_scoremaps/10.0um/ChatCryoJane201710/ChatCryoJane201710_prep2_10.0um_detector999/ChatCryoJane201710_slide45-S3_prep2_10.0um_detector999/ChatCryoJane201710_slide45-S3_prep2_10.0um_detector999_Tz_scoremap.bp\"\n",
      "aws s3 cp \"/home/yuncong/CSHL_scoremap_viz/10.0um/Tz/ChatCryoJane201710/detector999/prep2/ChatCryoJane201710_slide45-S3_prep2_10.0um_Tz_detector999_scoremapViz.jpg\" \"s3://mousebrainatlas-data/CSHL_scoremap_viz/10.0um/Tz/ChatCryoJane201710/detector999/prep2/ChatCryoJane201710_slide45-S3_prep2_10.0um_Tz_detector999_scoremapViz.jpg\"\n"
     ]
    },
    {
     "name": "stderr",
     "output_type": "stream",
     "text": [
      "locate patches: 0.05 seconds\n",
      "Not using image_cache.\n",
      "Load image: 12.36 seconds.\n",
      "Resize patches from 316 x 316 to 224 x 224.\n",
      "Extract patches: 230.84 seconds\n"
     ]
    },
    {
     "name": "stdout",
     "output_type": "stream",
     "text": [
      "(44520, 1, 224, 224)\n"
     ]
    },
    {
     "name": "stderr",
     "output_type": "stream",
     "text": [
      "Not using image_cache.\n"
     ]
    },
    {
     "name": "stdout",
     "output_type": "stream",
     "text": [
      "(724, 987, 3) (724, 987)\n",
      "aws s3 cp \"/home/yuncong/CSHL_scoremaps/10.0um/ChatCryoJane201710/ChatCryoJane201710_prep2_10.0um_detector999/ChatCryoJane201710_slide46-S3_prep2_10.0um_detector999/ChatCryoJane201710_slide46-S3_prep2_10.0um_detector999_Tz_scoremap.bp\" \"s3://mousebrainatlas-data/CSHL_scoremaps/10.0um/ChatCryoJane201710/ChatCryoJane201710_prep2_10.0um_detector999/ChatCryoJane201710_slide46-S3_prep2_10.0um_detector999/ChatCryoJane201710_slide46-S3_prep2_10.0um_detector999_Tz_scoremap.bp\"\n",
      "aws s3 cp \"/home/yuncong/CSHL_scoremap_viz/10.0um/Tz/ChatCryoJane201710/detector999/prep2/ChatCryoJane201710_slide46-S3_prep2_10.0um_Tz_detector999_scoremapViz.jpg\" \"s3://mousebrainatlas-data/CSHL_scoremap_viz/10.0um/Tz/ChatCryoJane201710/detector999/prep2/ChatCryoJane201710_slide46-S3_prep2_10.0um_Tz_detector999_scoremapViz.jpg\"\n"
     ]
    },
    {
     "name": "stderr",
     "output_type": "stream",
     "text": [
      "locate patches: 0.07 seconds\n",
      "Not using image_cache.\n",
      "Load image: 11.96 seconds.\n",
      "Resize patches from 316 x 316 to 224 x 224.\n",
      "Extract patches: 237.42 seconds\n"
     ]
    },
    {
     "name": "stdout",
     "output_type": "stream",
     "text": [
      "(45029, 1, 224, 224)\n"
     ]
    },
    {
     "name": "stderr",
     "output_type": "stream",
     "text": [
      "Not using image_cache.\n"
     ]
    },
    {
     "name": "stdout",
     "output_type": "stream",
     "text": [
      "(724, 987, 3) (724, 987)\n",
      "aws s3 cp \"/home/yuncong/CSHL_scoremaps/10.0um/ChatCryoJane201710/ChatCryoJane201710_prep2_10.0um_detector999/ChatCryoJane201710_slide47-S1_prep2_10.0um_detector999/ChatCryoJane201710_slide47-S1_prep2_10.0um_detector999_Tz_scoremap.bp\" \"s3://mousebrainatlas-data/CSHL_scoremaps/10.0um/ChatCryoJane201710/ChatCryoJane201710_prep2_10.0um_detector999/ChatCryoJane201710_slide47-S1_prep2_10.0um_detector999/ChatCryoJane201710_slide47-S1_prep2_10.0um_detector999_Tz_scoremap.bp\"\n",
      "aws s3 cp \"/home/yuncong/CSHL_scoremap_viz/10.0um/Tz/ChatCryoJane201710/detector999/prep2/ChatCryoJane201710_slide47-S1_prep2_10.0um_Tz_detector999_scoremapViz.jpg\" \"s3://mousebrainatlas-data/CSHL_scoremap_viz/10.0um/Tz/ChatCryoJane201710/detector999/prep2/ChatCryoJane201710_slide47-S1_prep2_10.0um_Tz_detector999_scoremapViz.jpg\"\n"
     ]
    },
    {
     "name": "stderr",
     "output_type": "stream",
     "text": [
      "locate patches: 0.05 seconds\n",
      "Not using image_cache.\n",
      "Load image: 11.92 seconds.\n",
      "Resize patches from 316 x 316 to 224 x 224.\n",
      "Extract patches: 223.05 seconds\n"
     ]
    },
    {
     "name": "stdout",
     "output_type": "stream",
     "text": [
      "(43349, 1, 224, 224)\n"
     ]
    },
    {
     "name": "stderr",
     "output_type": "stream",
     "text": [
      "Not using image_cache.\n"
     ]
    },
    {
     "name": "stdout",
     "output_type": "stream",
     "text": [
      "(724, 987, 3) (724, 987)\n",
      "aws s3 cp \"/home/yuncong/CSHL_scoremaps/10.0um/ChatCryoJane201710/ChatCryoJane201710_prep2_10.0um_detector999/ChatCryoJane201710_slide48-S1_prep2_10.0um_detector999/ChatCryoJane201710_slide48-S1_prep2_10.0um_detector999_Tz_scoremap.bp\" \"s3://mousebrainatlas-data/CSHL_scoremaps/10.0um/ChatCryoJane201710/ChatCryoJane201710_prep2_10.0um_detector999/ChatCryoJane201710_slide48-S1_prep2_10.0um_detector999/ChatCryoJane201710_slide48-S1_prep2_10.0um_detector999_Tz_scoremap.bp\"\n",
      "aws s3 cp \"/home/yuncong/CSHL_scoremap_viz/10.0um/Tz/ChatCryoJane201710/detector999/prep2/ChatCryoJane201710_slide48-S1_prep2_10.0um_Tz_detector999_scoremapViz.jpg\" \"s3://mousebrainatlas-data/CSHL_scoremap_viz/10.0um/Tz/ChatCryoJane201710/detector999/prep2/ChatCryoJane201710_slide48-S1_prep2_10.0um_Tz_detector999_scoremapViz.jpg\"\n"
     ]
    },
    {
     "name": "stderr",
     "output_type": "stream",
     "text": [
      "locate patches: 0.05 seconds\n",
      "Not using image_cache.\n",
      "Load image: 12.56 seconds.\n",
      "Resize patches from 316 x 316 to 224 x 224.\n",
      "Extract patches: 232.17 seconds\n"
     ]
    },
    {
     "name": "stdout",
     "output_type": "stream",
     "text": [
      "(45009, 1, 224, 224)\n"
     ]
    },
    {
     "name": "stderr",
     "output_type": "stream",
     "text": [
      "Not using image_cache.\n"
     ]
    },
    {
     "name": "stdout",
     "output_type": "stream",
     "text": [
      "(724, 987, 3) (724, 987)\n",
      "aws s3 cp \"/home/yuncong/CSHL_scoremaps/10.0um/ChatCryoJane201710/ChatCryoJane201710_prep2_10.0um_detector999/ChatCryoJane201710_slide47-S2_prep2_10.0um_detector999/ChatCryoJane201710_slide47-S2_prep2_10.0um_detector999_Tz_scoremap.bp\" \"s3://mousebrainatlas-data/CSHL_scoremaps/10.0um/ChatCryoJane201710/ChatCryoJane201710_prep2_10.0um_detector999/ChatCryoJane201710_slide47-S2_prep2_10.0um_detector999/ChatCryoJane201710_slide47-S2_prep2_10.0um_detector999_Tz_scoremap.bp\"\n",
      "aws s3 cp \"/home/yuncong/CSHL_scoremap_viz/10.0um/Tz/ChatCryoJane201710/detector999/prep2/ChatCryoJane201710_slide47-S2_prep2_10.0um_Tz_detector999_scoremapViz.jpg\" \"s3://mousebrainatlas-data/CSHL_scoremap_viz/10.0um/Tz/ChatCryoJane201710/detector999/prep2/ChatCryoJane201710_slide47-S2_prep2_10.0um_Tz_detector999_scoremapViz.jpg\"\n"
     ]
    },
    {
     "name": "stderr",
     "output_type": "stream",
     "text": [
      "locate patches: 0.05 seconds\n",
      "Not using image_cache.\n",
      "Load image: 12.92 seconds.\n",
      "Resize patches from 316 x 316 to 224 x 224.\n",
      "Extract patches: 233.22 seconds\n"
     ]
    },
    {
     "name": "stdout",
     "output_type": "stream",
     "text": [
      "(44956, 1, 224, 224)\n"
     ]
    },
    {
     "name": "stderr",
     "output_type": "stream",
     "text": [
      "Not using image_cache.\n"
     ]
    },
    {
     "name": "stdout",
     "output_type": "stream",
     "text": [
      "(724, 987, 3) (724, 987)\n",
      "aws s3 cp \"/home/yuncong/CSHL_scoremaps/10.0um/ChatCryoJane201710/ChatCryoJane201710_prep2_10.0um_detector999/ChatCryoJane201710_slide48-S2_prep2_10.0um_detector999/ChatCryoJane201710_slide48-S2_prep2_10.0um_detector999_Tz_scoremap.bp\" \"s3://mousebrainatlas-data/CSHL_scoremaps/10.0um/ChatCryoJane201710/ChatCryoJane201710_prep2_10.0um_detector999/ChatCryoJane201710_slide48-S2_prep2_10.0um_detector999/ChatCryoJane201710_slide48-S2_prep2_10.0um_detector999_Tz_scoremap.bp\"\n",
      "aws s3 cp \"/home/yuncong/CSHL_scoremap_viz/10.0um/Tz/ChatCryoJane201710/detector999/prep2/ChatCryoJane201710_slide48-S2_prep2_10.0um_Tz_detector999_scoremapViz.jpg\" \"s3://mousebrainatlas-data/CSHL_scoremap_viz/10.0um/Tz/ChatCryoJane201710/detector999/prep2/ChatCryoJane201710_slide48-S2_prep2_10.0um_Tz_detector999_scoremapViz.jpg\"\n"
     ]
    },
    {
     "name": "stderr",
     "output_type": "stream",
     "text": [
      "locate patches: 0.05 seconds\n",
      "Not using image_cache.\n",
      "Load image: 12.06 seconds.\n",
      "Resize patches from 316 x 316 to 224 x 224.\n",
      "Extract patches: 233.73 seconds\n"
     ]
    },
    {
     "name": "stdout",
     "output_type": "stream",
     "text": [
      "(45514, 1, 224, 224)\n"
     ]
    },
    {
     "name": "stderr",
     "output_type": "stream",
     "text": [
      "Not using image_cache.\n"
     ]
    },
    {
     "name": "stdout",
     "output_type": "stream",
     "text": [
      "(724, 987, 3) (724, 987)\n",
      "aws s3 cp \"/home/yuncong/CSHL_scoremaps/10.0um/ChatCryoJane201710/ChatCryoJane201710_prep2_10.0um_detector999/ChatCryoJane201710_slide47-S3_prep2_10.0um_detector999/ChatCryoJane201710_slide47-S3_prep2_10.0um_detector999_Tz_scoremap.bp\" \"s3://mousebrainatlas-data/CSHL_scoremaps/10.0um/ChatCryoJane201710/ChatCryoJane201710_prep2_10.0um_detector999/ChatCryoJane201710_slide47-S3_prep2_10.0um_detector999/ChatCryoJane201710_slide47-S3_prep2_10.0um_detector999_Tz_scoremap.bp\"\n",
      "aws s3 cp \"/home/yuncong/CSHL_scoremap_viz/10.0um/Tz/ChatCryoJane201710/detector999/prep2/ChatCryoJane201710_slide47-S3_prep2_10.0um_Tz_detector999_scoremapViz.jpg\" \"s3://mousebrainatlas-data/CSHL_scoremap_viz/10.0um/Tz/ChatCryoJane201710/detector999/prep2/ChatCryoJane201710_slide47-S3_prep2_10.0um_Tz_detector999_scoremapViz.jpg\"\n"
     ]
    },
    {
     "name": "stderr",
     "output_type": "stream",
     "text": [
      "locate patches: 0.05 seconds\n",
      "Not using image_cache.\n",
      "Load image: 12.63 seconds.\n",
      "Resize patches from 316 x 316 to 224 x 224.\n",
      "Extract patches: 233.42 seconds\n"
     ]
    },
    {
     "name": "stdout",
     "output_type": "stream",
     "text": [
      "(44912, 1, 224, 224)\n"
     ]
    },
    {
     "name": "stderr",
     "output_type": "stream",
     "text": [
      "Not using image_cache.\n"
     ]
    },
    {
     "name": "stdout",
     "output_type": "stream",
     "text": [
      "(724, 987, 3) (724, 987)\n",
      "aws s3 cp \"/home/yuncong/CSHL_scoremaps/10.0um/ChatCryoJane201710/ChatCryoJane201710_prep2_10.0um_detector999/ChatCryoJane201710_slide48-S3_prep2_10.0um_detector999/ChatCryoJane201710_slide48-S3_prep2_10.0um_detector999_Tz_scoremap.bp\" \"s3://mousebrainatlas-data/CSHL_scoremaps/10.0um/ChatCryoJane201710/ChatCryoJane201710_prep2_10.0um_detector999/ChatCryoJane201710_slide48-S3_prep2_10.0um_detector999/ChatCryoJane201710_slide48-S3_prep2_10.0um_detector999_Tz_scoremap.bp\"\n",
      "aws s3 cp \"/home/yuncong/CSHL_scoremap_viz/10.0um/Tz/ChatCryoJane201710/detector999/prep2/ChatCryoJane201710_slide48-S3_prep2_10.0um_Tz_detector999_scoremapViz.jpg\" \"s3://mousebrainatlas-data/CSHL_scoremap_viz/10.0um/Tz/ChatCryoJane201710/detector999/prep2/ChatCryoJane201710_slide48-S3_prep2_10.0um_Tz_detector999_scoremapViz.jpg\"\n"
     ]
    },
    {
     "name": "stderr",
     "output_type": "stream",
     "text": [
      "locate patches: 0.05 seconds\n",
      "Not using image_cache.\n",
      "Load image: 13.22 seconds.\n",
      "Resize patches from 316 x 316 to 224 x 224.\n",
      "Extract patches: 238.04 seconds\n"
     ]
    },
    {
     "name": "stdout",
     "output_type": "stream",
     "text": [
      "(45844, 1, 224, 224)\n"
     ]
    },
    {
     "name": "stderr",
     "output_type": "stream",
     "text": [
      "Not using image_cache.\n"
     ]
    },
    {
     "name": "stdout",
     "output_type": "stream",
     "text": [
      "(724, 987, 3) (724, 987)\n",
      "aws s3 cp \"/home/yuncong/CSHL_scoremaps/10.0um/ChatCryoJane201710/ChatCryoJane201710_prep2_10.0um_detector999/ChatCryoJane201710_slide49-S1_prep2_10.0um_detector999/ChatCryoJane201710_slide49-S1_prep2_10.0um_detector999_Tz_scoremap.bp\" \"s3://mousebrainatlas-data/CSHL_scoremaps/10.0um/ChatCryoJane201710/ChatCryoJane201710_prep2_10.0um_detector999/ChatCryoJane201710_slide49-S1_prep2_10.0um_detector999/ChatCryoJane201710_slide49-S1_prep2_10.0um_detector999_Tz_scoremap.bp\"\n",
      "aws s3 cp \"/home/yuncong/CSHL_scoremap_viz/10.0um/Tz/ChatCryoJane201710/detector999/prep2/ChatCryoJane201710_slide49-S1_prep2_10.0um_Tz_detector999_scoremapViz.jpg\" \"s3://mousebrainatlas-data/CSHL_scoremap_viz/10.0um/Tz/ChatCryoJane201710/detector999/prep2/ChatCryoJane201710_slide49-S1_prep2_10.0um_Tz_detector999_scoremapViz.jpg\"\n"
     ]
    },
    {
     "name": "stderr",
     "output_type": "stream",
     "text": [
      "locate patches: 0.04 seconds\n",
      "Not using image_cache.\n",
      "Load image: 12.61 seconds.\n",
      "Resize patches from 316 x 316 to 224 x 224.\n",
      "Extract patches: 237.19 seconds\n"
     ]
    },
    {
     "name": "stdout",
     "output_type": "stream",
     "text": [
      "(45987, 1, 224, 224)\n"
     ]
    },
    {
     "name": "stderr",
     "output_type": "stream",
     "text": [
      "Not using image_cache.\n"
     ]
    },
    {
     "name": "stdout",
     "output_type": "stream",
     "text": [
      "(724, 987, 3) (724, 987)\n",
      "aws s3 cp \"/home/yuncong/CSHL_scoremaps/10.0um/ChatCryoJane201710/ChatCryoJane201710_prep2_10.0um_detector999/ChatCryoJane201710_slide50-S1_prep2_10.0um_detector999/ChatCryoJane201710_slide50-S1_prep2_10.0um_detector999_Tz_scoremap.bp\" \"s3://mousebrainatlas-data/CSHL_scoremaps/10.0um/ChatCryoJane201710/ChatCryoJane201710_prep2_10.0um_detector999/ChatCryoJane201710_slide50-S1_prep2_10.0um_detector999/ChatCryoJane201710_slide50-S1_prep2_10.0um_detector999_Tz_scoremap.bp\"\n",
      "aws s3 cp \"/home/yuncong/CSHL_scoremap_viz/10.0um/Tz/ChatCryoJane201710/detector999/prep2/ChatCryoJane201710_slide50-S1_prep2_10.0um_Tz_detector999_scoremapViz.jpg\" \"s3://mousebrainatlas-data/CSHL_scoremap_viz/10.0um/Tz/ChatCryoJane201710/detector999/prep2/ChatCryoJane201710_slide50-S1_prep2_10.0um_Tz_detector999_scoremapViz.jpg\"\n"
     ]
    },
    {
     "name": "stderr",
     "output_type": "stream",
     "text": [
      "locate patches: 0.05 seconds\n",
      "Not using image_cache.\n",
      "Load image: 12.99 seconds.\n",
      "Resize patches from 316 x 316 to 224 x 224.\n",
      "Extract patches: 238.97 seconds\n"
     ]
    },
    {
     "name": "stdout",
     "output_type": "stream",
     "text": [
      "(46035, 1, 224, 224)\n"
     ]
    },
    {
     "name": "stderr",
     "output_type": "stream",
     "text": [
      "Not using image_cache.\n"
     ]
    },
    {
     "name": "stdout",
     "output_type": "stream",
     "text": [
      "(724, 987, 3) (724, 987)\n",
      "aws s3 cp \"/home/yuncong/CSHL_scoremaps/10.0um/ChatCryoJane201710/ChatCryoJane201710_prep2_10.0um_detector999/ChatCryoJane201710_slide49-S2_prep2_10.0um_detector999/ChatCryoJane201710_slide49-S2_prep2_10.0um_detector999_Tz_scoremap.bp\" \"s3://mousebrainatlas-data/CSHL_scoremaps/10.0um/ChatCryoJane201710/ChatCryoJane201710_prep2_10.0um_detector999/ChatCryoJane201710_slide49-S2_prep2_10.0um_detector999/ChatCryoJane201710_slide49-S2_prep2_10.0um_detector999_Tz_scoremap.bp\"\n",
      "aws s3 cp \"/home/yuncong/CSHL_scoremap_viz/10.0um/Tz/ChatCryoJane201710/detector999/prep2/ChatCryoJane201710_slide49-S2_prep2_10.0um_Tz_detector999_scoremapViz.jpg\" \"s3://mousebrainatlas-data/CSHL_scoremap_viz/10.0um/Tz/ChatCryoJane201710/detector999/prep2/ChatCryoJane201710_slide49-S2_prep2_10.0um_Tz_detector999_scoremapViz.jpg\"\n"
     ]
    },
    {
     "name": "stderr",
     "output_type": "stream",
     "text": [
      "locate patches: 0.05 seconds\n",
      "Not using image_cache.\n",
      "Load image: 13.18 seconds.\n",
      "Resize patches from 316 x 316 to 224 x 224.\n",
      "Extract patches: 236.26 seconds\n"
     ]
    },
    {
     "name": "stdout",
     "output_type": "stream",
     "text": [
      "(45487, 1, 224, 224)\n"
     ]
    },
    {
     "name": "stderr",
     "output_type": "stream",
     "text": [
      "Not using image_cache.\n"
     ]
    },
    {
     "name": "stdout",
     "output_type": "stream",
     "text": [
      "(724, 987, 3) (724, 987)\n",
      "aws s3 cp \"/home/yuncong/CSHL_scoremaps/10.0um/ChatCryoJane201710/ChatCryoJane201710_prep2_10.0um_detector999/ChatCryoJane201710_slide50-S2_prep2_10.0um_detector999/ChatCryoJane201710_slide50-S2_prep2_10.0um_detector999_Tz_scoremap.bp\" \"s3://mousebrainatlas-data/CSHL_scoremaps/10.0um/ChatCryoJane201710/ChatCryoJane201710_prep2_10.0um_detector999/ChatCryoJane201710_slide50-S2_prep2_10.0um_detector999/ChatCryoJane201710_slide50-S2_prep2_10.0um_detector999_Tz_scoremap.bp\"\n",
      "aws s3 cp \"/home/yuncong/CSHL_scoremap_viz/10.0um/Tz/ChatCryoJane201710/detector999/prep2/ChatCryoJane201710_slide50-S2_prep2_10.0um_Tz_detector999_scoremapViz.jpg\" \"s3://mousebrainatlas-data/CSHL_scoremap_viz/10.0um/Tz/ChatCryoJane201710/detector999/prep2/ChatCryoJane201710_slide50-S2_prep2_10.0um_Tz_detector999_scoremapViz.jpg\"\n"
     ]
    },
    {
     "name": "stderr",
     "output_type": "stream",
     "text": [
      "locate patches: 0.05 seconds\n",
      "Not using image_cache.\n",
      "Load image: 13.30 seconds.\n",
      "Resize patches from 316 x 316 to 224 x 224.\n",
      "Extract patches: 235.72 seconds\n"
     ]
    },
    {
     "name": "stdout",
     "output_type": "stream",
     "text": [
      "(45859, 1, 224, 224)\n"
     ]
    },
    {
     "name": "stderr",
     "output_type": "stream",
     "text": [
      "Not using image_cache.\n"
     ]
    },
    {
     "name": "stdout",
     "output_type": "stream",
     "text": [
      "(724, 987, 3) (724, 987)\n",
      "aws s3 cp \"/home/yuncong/CSHL_scoremaps/10.0um/ChatCryoJane201710/ChatCryoJane201710_prep2_10.0um_detector999/ChatCryoJane201710_slide49-S3_prep2_10.0um_detector999/ChatCryoJane201710_slide49-S3_prep2_10.0um_detector999_Tz_scoremap.bp\" \"s3://mousebrainatlas-data/CSHL_scoremaps/10.0um/ChatCryoJane201710/ChatCryoJane201710_prep2_10.0um_detector999/ChatCryoJane201710_slide49-S3_prep2_10.0um_detector999/ChatCryoJane201710_slide49-S3_prep2_10.0um_detector999_Tz_scoremap.bp\"\n",
      "aws s3 cp \"/home/yuncong/CSHL_scoremap_viz/10.0um/Tz/ChatCryoJane201710/detector999/prep2/ChatCryoJane201710_slide49-S3_prep2_10.0um_Tz_detector999_scoremapViz.jpg\" \"s3://mousebrainatlas-data/CSHL_scoremap_viz/10.0um/Tz/ChatCryoJane201710/detector999/prep2/ChatCryoJane201710_slide49-S3_prep2_10.0um_Tz_detector999_scoremapViz.jpg\"\n"
     ]
    },
    {
     "name": "stderr",
     "output_type": "stream",
     "text": [
      "locate patches: 0.05 seconds\n",
      "Not using image_cache.\n",
      "Load image: 12.74 seconds.\n",
      "Resize patches from 316 x 316 to 224 x 224.\n",
      "Extract patches: 235.96 seconds\n"
     ]
    },
    {
     "name": "stdout",
     "output_type": "stream",
     "text": [
      "(45966, 1, 224, 224)\n"
     ]
    },
    {
     "name": "stderr",
     "output_type": "stream",
     "text": [
      "Not using image_cache.\n"
     ]
    },
    {
     "name": "stdout",
     "output_type": "stream",
     "text": [
      "(724, 987, 3) (724, 987)\n",
      "aws s3 cp \"/home/yuncong/CSHL_scoremaps/10.0um/ChatCryoJane201710/ChatCryoJane201710_prep2_10.0um_detector999/ChatCryoJane201710_slide50-S3_prep2_10.0um_detector999/ChatCryoJane201710_slide50-S3_prep2_10.0um_detector999_Tz_scoremap.bp\" \"s3://mousebrainatlas-data/CSHL_scoremaps/10.0um/ChatCryoJane201710/ChatCryoJane201710_prep2_10.0um_detector999/ChatCryoJane201710_slide50-S3_prep2_10.0um_detector999/ChatCryoJane201710_slide50-S3_prep2_10.0um_detector999_Tz_scoremap.bp\"\n",
      "aws s3 cp \"/home/yuncong/CSHL_scoremap_viz/10.0um/Tz/ChatCryoJane201710/detector999/prep2/ChatCryoJane201710_slide50-S3_prep2_10.0um_Tz_detector999_scoremapViz.jpg\" \"s3://mousebrainatlas-data/CSHL_scoremap_viz/10.0um/Tz/ChatCryoJane201710/detector999/prep2/ChatCryoJane201710_slide50-S3_prep2_10.0um_Tz_detector999_scoremapViz.jpg\"\n"
     ]
    },
    {
     "name": "stderr",
     "output_type": "stream",
     "text": [
      "locate patches: 0.05 seconds\n",
      "Not using image_cache.\n",
      "Load image: 12.92 seconds.\n",
      "Resize patches from 316 x 316 to 224 x 224.\n",
      "Extract patches: 212.76 seconds\n"
     ]
    },
    {
     "name": "stdout",
     "output_type": "stream",
     "text": [
      "(40615, 1, 224, 224)\n"
     ]
    },
    {
     "name": "stderr",
     "output_type": "stream",
     "text": [
      "Not using image_cache.\n"
     ]
    },
    {
     "name": "stdout",
     "output_type": "stream",
     "text": [
      "(724, 987, 3) (724, 987)\n",
      "aws s3 cp \"/home/yuncong/CSHL_scoremaps/10.0um/ChatCryoJane201710/ChatCryoJane201710_prep2_10.0um_detector999/ChatCryoJane201710_slide51-S1_prep2_10.0um_detector999/ChatCryoJane201710_slide51-S1_prep2_10.0um_detector999_Tz_scoremap.bp\" \"s3://mousebrainatlas-data/CSHL_scoremaps/10.0um/ChatCryoJane201710/ChatCryoJane201710_prep2_10.0um_detector999/ChatCryoJane201710_slide51-S1_prep2_10.0um_detector999/ChatCryoJane201710_slide51-S1_prep2_10.0um_detector999_Tz_scoremap.bp\"\n",
      "aws s3 cp \"/home/yuncong/CSHL_scoremap_viz/10.0um/Tz/ChatCryoJane201710/detector999/prep2/ChatCryoJane201710_slide51-S1_prep2_10.0um_Tz_detector999_scoremapViz.jpg\" \"s3://mousebrainatlas-data/CSHL_scoremap_viz/10.0um/Tz/ChatCryoJane201710/detector999/prep2/ChatCryoJane201710_slide51-S1_prep2_10.0um_Tz_detector999_scoremapViz.jpg\"\n"
     ]
    },
    {
     "name": "stderr",
     "output_type": "stream",
     "text": [
      "locate patches: 0.05 seconds\n",
      "Not using image_cache.\n",
      "Load image: 12.93 seconds.\n",
      "Resize patches from 316 x 316 to 224 x 224.\n",
      "Extract patches: 234.20 seconds\n"
     ]
    },
    {
     "name": "stdout",
     "output_type": "stream",
     "text": [
      "(45544, 1, 224, 224)\n"
     ]
    },
    {
     "name": "stderr",
     "output_type": "stream",
     "text": [
      "Not using image_cache.\n"
     ]
    },
    {
     "name": "stdout",
     "output_type": "stream",
     "text": [
      "(724, 987, 3) (724, 987)\n",
      "aws s3 cp \"/home/yuncong/CSHL_scoremaps/10.0um/ChatCryoJane201710/ChatCryoJane201710_prep2_10.0um_detector999/ChatCryoJane201710_slide52-S1_prep2_10.0um_detector999/ChatCryoJane201710_slide52-S1_prep2_10.0um_detector999_Tz_scoremap.bp\" \"s3://mousebrainatlas-data/CSHL_scoremaps/10.0um/ChatCryoJane201710/ChatCryoJane201710_prep2_10.0um_detector999/ChatCryoJane201710_slide52-S1_prep2_10.0um_detector999/ChatCryoJane201710_slide52-S1_prep2_10.0um_detector999_Tz_scoremap.bp\"\n",
      "aws s3 cp \"/home/yuncong/CSHL_scoremap_viz/10.0um/Tz/ChatCryoJane201710/detector999/prep2/ChatCryoJane201710_slide52-S1_prep2_10.0um_Tz_detector999_scoremapViz.jpg\" \"s3://mousebrainatlas-data/CSHL_scoremap_viz/10.0um/Tz/ChatCryoJane201710/detector999/prep2/ChatCryoJane201710_slide52-S1_prep2_10.0um_Tz_detector999_scoremapViz.jpg\"\n"
     ]
    },
    {
     "name": "stderr",
     "output_type": "stream",
     "text": [
      "locate patches: 0.05 seconds\n",
      "Not using image_cache.\n",
      "Load image: 12.38 seconds.\n",
      "Resize patches from 316 x 316 to 224 x 224.\n",
      "Extract patches: 241.30 seconds\n"
     ]
    },
    {
     "name": "stdout",
     "output_type": "stream",
     "text": [
      "(46268, 1, 224, 224)\n"
     ]
    },
    {
     "name": "stderr",
     "output_type": "stream",
     "text": [
      "Not using image_cache.\n"
     ]
    },
    {
     "name": "stdout",
     "output_type": "stream",
     "text": [
      "(724, 987, 3) (724, 987)\n",
      "aws s3 cp \"/home/yuncong/CSHL_scoremaps/10.0um/ChatCryoJane201710/ChatCryoJane201710_prep2_10.0um_detector999/ChatCryoJane201710_slide51-S2_prep2_10.0um_detector999/ChatCryoJane201710_slide51-S2_prep2_10.0um_detector999_Tz_scoremap.bp\" \"s3://mousebrainatlas-data/CSHL_scoremaps/10.0um/ChatCryoJane201710/ChatCryoJane201710_prep2_10.0um_detector999/ChatCryoJane201710_slide51-S2_prep2_10.0um_detector999/ChatCryoJane201710_slide51-S2_prep2_10.0um_detector999_Tz_scoremap.bp\"\n",
      "aws s3 cp \"/home/yuncong/CSHL_scoremap_viz/10.0um/Tz/ChatCryoJane201710/detector999/prep2/ChatCryoJane201710_slide51-S2_prep2_10.0um_Tz_detector999_scoremapViz.jpg\" \"s3://mousebrainatlas-data/CSHL_scoremap_viz/10.0um/Tz/ChatCryoJane201710/detector999/prep2/ChatCryoJane201710_slide51-S2_prep2_10.0um_Tz_detector999_scoremapViz.jpg\"\n"
     ]
    },
    {
     "name": "stderr",
     "output_type": "stream",
     "text": [
      "locate patches: 0.05 seconds\n",
      "Not using image_cache.\n",
      "Load image: 11.23 seconds.\n",
      "Resize patches from 316 x 316 to 224 x 224.\n",
      "Extract patches: 186.49 seconds\n"
     ]
    },
    {
     "name": "stdout",
     "output_type": "stream",
     "text": [
      "(36365, 1, 224, 224)\n"
     ]
    },
    {
     "name": "stderr",
     "output_type": "stream",
     "text": [
      "Not using image_cache.\n"
     ]
    },
    {
     "name": "stdout",
     "output_type": "stream",
     "text": [
      "(724, 987, 3) (724, 987)\n",
      "aws s3 cp \"/home/yuncong/CSHL_scoremaps/10.0um/ChatCryoJane201710/ChatCryoJane201710_prep2_10.0um_detector999/ChatCryoJane201710_slide52-S2_prep2_10.0um_detector999/ChatCryoJane201710_slide52-S2_prep2_10.0um_detector999_Tz_scoremap.bp\" \"s3://mousebrainatlas-data/CSHL_scoremaps/10.0um/ChatCryoJane201710/ChatCryoJane201710_prep2_10.0um_detector999/ChatCryoJane201710_slide52-S2_prep2_10.0um_detector999/ChatCryoJane201710_slide52-S2_prep2_10.0um_detector999_Tz_scoremap.bp\"\n",
      "aws s3 cp \"/home/yuncong/CSHL_scoremap_viz/10.0um/Tz/ChatCryoJane201710/detector999/prep2/ChatCryoJane201710_slide52-S2_prep2_10.0um_Tz_detector999_scoremapViz.jpg\" \"s3://mousebrainatlas-data/CSHL_scoremap_viz/10.0um/Tz/ChatCryoJane201710/detector999/prep2/ChatCryoJane201710_slide52-S2_prep2_10.0um_Tz_detector999_scoremapViz.jpg\"\n"
     ]
    },
    {
     "name": "stderr",
     "output_type": "stream",
     "text": [
      "locate patches: 0.05 seconds\n",
      "Not using image_cache.\n",
      "Load image: 11.86 seconds.\n",
      "Resize patches from 316 x 316 to 224 x 224.\n",
      "Extract patches: 223.71 seconds\n"
     ]
    },
    {
     "name": "stdout",
     "output_type": "stream",
     "text": [
      "(43136, 1, 224, 224)\n"
     ]
    },
    {
     "name": "stderr",
     "output_type": "stream",
     "text": [
      "Not using image_cache.\n"
     ]
    },
    {
     "name": "stdout",
     "output_type": "stream",
     "text": [
      "(724, 987, 3) (724, 987)\n",
      "aws s3 cp \"/home/yuncong/CSHL_scoremaps/10.0um/ChatCryoJane201710/ChatCryoJane201710_prep2_10.0um_detector999/ChatCryoJane201710_slide51-S3_prep2_10.0um_detector999/ChatCryoJane201710_slide51-S3_prep2_10.0um_detector999_Tz_scoremap.bp\" \"s3://mousebrainatlas-data/CSHL_scoremaps/10.0um/ChatCryoJane201710/ChatCryoJane201710_prep2_10.0um_detector999/ChatCryoJane201710_slide51-S3_prep2_10.0um_detector999/ChatCryoJane201710_slide51-S3_prep2_10.0um_detector999_Tz_scoremap.bp\"\n",
      "aws s3 cp \"/home/yuncong/CSHL_scoremap_viz/10.0um/Tz/ChatCryoJane201710/detector999/prep2/ChatCryoJane201710_slide51-S3_prep2_10.0um_Tz_detector999_scoremapViz.jpg\" \"s3://mousebrainatlas-data/CSHL_scoremap_viz/10.0um/Tz/ChatCryoJane201710/detector999/prep2/ChatCryoJane201710_slide51-S3_prep2_10.0um_Tz_detector999_scoremapViz.jpg\"\n"
     ]
    },
    {
     "name": "stderr",
     "output_type": "stream",
     "text": [
      "locate patches: 0.05 seconds\n",
      "Not using image_cache.\n",
      "Load image: 11.85 seconds.\n",
      "Resize patches from 316 x 316 to 224 x 224.\n",
      "Extract patches: 200.71 seconds\n"
     ]
    },
    {
     "name": "stdout",
     "output_type": "stream",
     "text": [
      "(39053, 1, 224, 224)\n"
     ]
    },
    {
     "name": "stderr",
     "output_type": "stream",
     "text": [
      "Not using image_cache.\n"
     ]
    },
    {
     "name": "stdout",
     "output_type": "stream",
     "text": [
      "(724, 987, 3) (724, 987)\n",
      "aws s3 cp \"/home/yuncong/CSHL_scoremaps/10.0um/ChatCryoJane201710/ChatCryoJane201710_prep2_10.0um_detector999/ChatCryoJane201710_slide52-S3_prep2_10.0um_detector999/ChatCryoJane201710_slide52-S3_prep2_10.0um_detector999_Tz_scoremap.bp\" \"s3://mousebrainatlas-data/CSHL_scoremaps/10.0um/ChatCryoJane201710/ChatCryoJane201710_prep2_10.0um_detector999/ChatCryoJane201710_slide52-S3_prep2_10.0um_detector999/ChatCryoJane201710_slide52-S3_prep2_10.0um_detector999_Tz_scoremap.bp\"\n",
      "aws s3 cp \"/home/yuncong/CSHL_scoremap_viz/10.0um/Tz/ChatCryoJane201710/detector999/prep2/ChatCryoJane201710_slide52-S3_prep2_10.0um_Tz_detector999_scoremapViz.jpg\" \"s3://mousebrainatlas-data/CSHL_scoremap_viz/10.0um/Tz/ChatCryoJane201710/detector999/prep2/ChatCryoJane201710_slide52-S3_prep2_10.0um_Tz_detector999_scoremapViz.jpg\"\n"
     ]
    },
    {
     "name": "stderr",
     "output_type": "stream",
     "text": [
      "locate patches: 0.04 seconds\n",
      "Not using image_cache.\n",
      "Load image: 13.11 seconds.\n",
      "Resize patches from 316 x 316 to 224 x 224.\n",
      "Extract patches: 238.20 seconds\n"
     ]
    },
    {
     "name": "stdout",
     "output_type": "stream",
     "text": [
      "(46420, 1, 224, 224)\n"
     ]
    },
    {
     "name": "stderr",
     "output_type": "stream",
     "text": [
      "Not using image_cache.\n"
     ]
    },
    {
     "name": "stdout",
     "output_type": "stream",
     "text": [
      "(724, 987, 3) (724, 987)\n",
      "aws s3 cp \"/home/yuncong/CSHL_scoremaps/10.0um/ChatCryoJane201710/ChatCryoJane201710_prep2_10.0um_detector999/ChatCryoJane201710_slide53-S1_prep2_10.0um_detector999/ChatCryoJane201710_slide53-S1_prep2_10.0um_detector999_Tz_scoremap.bp\" \"s3://mousebrainatlas-data/CSHL_scoremaps/10.0um/ChatCryoJane201710/ChatCryoJane201710_prep2_10.0um_detector999/ChatCryoJane201710_slide53-S1_prep2_10.0um_detector999/ChatCryoJane201710_slide53-S1_prep2_10.0um_detector999_Tz_scoremap.bp\"\n",
      "aws s3 cp \"/home/yuncong/CSHL_scoremap_viz/10.0um/Tz/ChatCryoJane201710/detector999/prep2/ChatCryoJane201710_slide53-S1_prep2_10.0um_Tz_detector999_scoremapViz.jpg\" \"s3://mousebrainatlas-data/CSHL_scoremap_viz/10.0um/Tz/ChatCryoJane201710/detector999/prep2/ChatCryoJane201710_slide53-S1_prep2_10.0um_Tz_detector999_scoremapViz.jpg\"\n"
     ]
    },
    {
     "name": "stderr",
     "output_type": "stream",
     "text": [
      "locate patches: 0.04 seconds\n",
      "Not using image_cache.\n",
      "Load image: 13.54 seconds.\n",
      "Resize patches from 316 x 316 to 224 x 224.\n",
      "Extract patches: 240.33 seconds\n"
     ]
    },
    {
     "name": "stdout",
     "output_type": "stream",
     "text": [
      "(46205, 1, 224, 224)\n"
     ]
    },
    {
     "name": "stderr",
     "output_type": "stream",
     "text": [
      "Not using image_cache.\n"
     ]
    },
    {
     "name": "stdout",
     "output_type": "stream",
     "text": [
      "(724, 987, 3) (724, 987)\n",
      "aws s3 cp \"/home/yuncong/CSHL_scoremaps/10.0um/ChatCryoJane201710/ChatCryoJane201710_prep2_10.0um_detector999/ChatCryoJane201710_slide54-S1_prep2_10.0um_detector999/ChatCryoJane201710_slide54-S1_prep2_10.0um_detector999_Tz_scoremap.bp\" \"s3://mousebrainatlas-data/CSHL_scoremaps/10.0um/ChatCryoJane201710/ChatCryoJane201710_prep2_10.0um_detector999/ChatCryoJane201710_slide54-S1_prep2_10.0um_detector999/ChatCryoJane201710_slide54-S1_prep2_10.0um_detector999_Tz_scoremap.bp\"\n",
      "aws s3 cp \"/home/yuncong/CSHL_scoremap_viz/10.0um/Tz/ChatCryoJane201710/detector999/prep2/ChatCryoJane201710_slide54-S1_prep2_10.0um_Tz_detector999_scoremapViz.jpg\" \"s3://mousebrainatlas-data/CSHL_scoremap_viz/10.0um/Tz/ChatCryoJane201710/detector999/prep2/ChatCryoJane201710_slide54-S1_prep2_10.0um_Tz_detector999_scoremapViz.jpg\"\n"
     ]
    },
    {
     "name": "stderr",
     "output_type": "stream",
     "text": [
      "locate patches: 0.04 seconds\n",
      "Not using image_cache.\n",
      "Load image: 13.37 seconds.\n",
      "Resize patches from 316 x 316 to 224 x 224.\n",
      "Extract patches: 240.72 seconds\n"
     ]
    },
    {
     "name": "stdout",
     "output_type": "stream",
     "text": [
      "(46300, 1, 224, 224)\n"
     ]
    },
    {
     "name": "stderr",
     "output_type": "stream",
     "text": [
      "Not using image_cache.\n"
     ]
    },
    {
     "name": "stdout",
     "output_type": "stream",
     "text": [
      "(724, 987, 3) (724, 987)\n",
      "aws s3 cp \"/home/yuncong/CSHL_scoremaps/10.0um/ChatCryoJane201710/ChatCryoJane201710_prep2_10.0um_detector999/ChatCryoJane201710_slide53-S2_prep2_10.0um_detector999/ChatCryoJane201710_slide53-S2_prep2_10.0um_detector999_Tz_scoremap.bp\" \"s3://mousebrainatlas-data/CSHL_scoremaps/10.0um/ChatCryoJane201710/ChatCryoJane201710_prep2_10.0um_detector999/ChatCryoJane201710_slide53-S2_prep2_10.0um_detector999/ChatCryoJane201710_slide53-S2_prep2_10.0um_detector999_Tz_scoremap.bp\"\n",
      "aws s3 cp \"/home/yuncong/CSHL_scoremap_viz/10.0um/Tz/ChatCryoJane201710/detector999/prep2/ChatCryoJane201710_slide53-S2_prep2_10.0um_Tz_detector999_scoremapViz.jpg\" \"s3://mousebrainatlas-data/CSHL_scoremap_viz/10.0um/Tz/ChatCryoJane201710/detector999/prep2/ChatCryoJane201710_slide53-S2_prep2_10.0um_Tz_detector999_scoremapViz.jpg\"\n"
     ]
    },
    {
     "name": "stderr",
     "output_type": "stream",
     "text": [
      "locate patches: 0.05 seconds\n",
      "Not using image_cache.\n",
      "Load image: 13.44 seconds.\n",
      "Resize patches from 316 x 316 to 224 x 224.\n",
      "Extract patches: 241.66 seconds\n"
     ]
    },
    {
     "name": "stdout",
     "output_type": "stream",
     "text": [
      "(46424, 1, 224, 224)\n"
     ]
    },
    {
     "name": "stderr",
     "output_type": "stream",
     "text": [
      "Not using image_cache.\n"
     ]
    },
    {
     "name": "stdout",
     "output_type": "stream",
     "text": [
      "(724, 987, 3) (724, 987)\n",
      "aws s3 cp \"/home/yuncong/CSHL_scoremaps/10.0um/ChatCryoJane201710/ChatCryoJane201710_prep2_10.0um_detector999/ChatCryoJane201710_slide54-S2_prep2_10.0um_detector999/ChatCryoJane201710_slide54-S2_prep2_10.0um_detector999_Tz_scoremap.bp\" \"s3://mousebrainatlas-data/CSHL_scoremaps/10.0um/ChatCryoJane201710/ChatCryoJane201710_prep2_10.0um_detector999/ChatCryoJane201710_slide54-S2_prep2_10.0um_detector999/ChatCryoJane201710_slide54-S2_prep2_10.0um_detector999_Tz_scoremap.bp\"\n",
      "aws s3 cp \"/home/yuncong/CSHL_scoremap_viz/10.0um/Tz/ChatCryoJane201710/detector999/prep2/ChatCryoJane201710_slide54-S2_prep2_10.0um_Tz_detector999_scoremapViz.jpg\" \"s3://mousebrainatlas-data/CSHL_scoremap_viz/10.0um/Tz/ChatCryoJane201710/detector999/prep2/ChatCryoJane201710_slide54-S2_prep2_10.0um_Tz_detector999_scoremapViz.jpg\"\n"
     ]
    },
    {
     "name": "stderr",
     "output_type": "stream",
     "text": [
      "locate patches: 0.05 seconds\n",
      "Not using image_cache.\n",
      "Load image: 12.88 seconds.\n",
      "Resize patches from 316 x 316 to 224 x 224.\n",
      "Extract patches: 234.36 seconds\n"
     ]
    },
    {
     "name": "stdout",
     "output_type": "stream",
     "text": [
      "(45206, 1, 224, 224)\n"
     ]
    },
    {
     "name": "stderr",
     "output_type": "stream",
     "text": [
      "Not using image_cache.\n"
     ]
    },
    {
     "name": "stdout",
     "output_type": "stream",
     "text": [
      "(724, 987, 3) (724, 987)\n",
      "aws s3 cp \"/home/yuncong/CSHL_scoremaps/10.0um/ChatCryoJane201710/ChatCryoJane201710_prep2_10.0um_detector999/ChatCryoJane201710_slide53-S3_prep2_10.0um_detector999/ChatCryoJane201710_slide53-S3_prep2_10.0um_detector999_Tz_scoremap.bp\" \"s3://mousebrainatlas-data/CSHL_scoremaps/10.0um/ChatCryoJane201710/ChatCryoJane201710_prep2_10.0um_detector999/ChatCryoJane201710_slide53-S3_prep2_10.0um_detector999/ChatCryoJane201710_slide53-S3_prep2_10.0um_detector999_Tz_scoremap.bp\"\n",
      "aws s3 cp \"/home/yuncong/CSHL_scoremap_viz/10.0um/Tz/ChatCryoJane201710/detector999/prep2/ChatCryoJane201710_slide53-S3_prep2_10.0um_Tz_detector999_scoremapViz.jpg\" \"s3://mousebrainatlas-data/CSHL_scoremap_viz/10.0um/Tz/ChatCryoJane201710/detector999/prep2/ChatCryoJane201710_slide53-S3_prep2_10.0um_Tz_detector999_scoremapViz.jpg\"\n"
     ]
    },
    {
     "name": "stderr",
     "output_type": "stream",
     "text": [
      "locate patches: 0.05 seconds\n",
      "Not using image_cache.\n",
      "Load image: 13.21 seconds.\n",
      "Resize patches from 316 x 316 to 224 x 224.\n",
      "Extract patches: 236.95 seconds\n"
     ]
    },
    {
     "name": "stdout",
     "output_type": "stream",
     "text": [
      "(46432, 1, 224, 224)\n"
     ]
    },
    {
     "name": "stderr",
     "output_type": "stream",
     "text": [
      "Not using image_cache.\n"
     ]
    },
    {
     "name": "stdout",
     "output_type": "stream",
     "text": [
      "(724, 987, 3) (724, 987)\n",
      "aws s3 cp \"/home/yuncong/CSHL_scoremaps/10.0um/ChatCryoJane201710/ChatCryoJane201710_prep2_10.0um_detector999/ChatCryoJane201710_slide54-S3_prep2_10.0um_detector999/ChatCryoJane201710_slide54-S3_prep2_10.0um_detector999_Tz_scoremap.bp\" \"s3://mousebrainatlas-data/CSHL_scoremaps/10.0um/ChatCryoJane201710/ChatCryoJane201710_prep2_10.0um_detector999/ChatCryoJane201710_slide54-S3_prep2_10.0um_detector999/ChatCryoJane201710_slide54-S3_prep2_10.0um_detector999_Tz_scoremap.bp\"\n",
      "aws s3 cp \"/home/yuncong/CSHL_scoremap_viz/10.0um/Tz/ChatCryoJane201710/detector999/prep2/ChatCryoJane201710_slide54-S3_prep2_10.0um_Tz_detector999_scoremapViz.jpg\" \"s3://mousebrainatlas-data/CSHL_scoremap_viz/10.0um/Tz/ChatCryoJane201710/detector999/prep2/ChatCryoJane201710_slide54-S3_prep2_10.0um_Tz_detector999_scoremapViz.jpg\"\n"
     ]
    },
    {
     "name": "stderr",
     "output_type": "stream",
     "text": [
      "locate patches: 0.06 seconds\n",
      "Not using image_cache.\n",
      "Load image: 13.22 seconds.\n",
      "Resize patches from 316 x 316 to 224 x 224.\n",
      "Extract patches: 238.69 seconds\n"
     ]
    },
    {
     "name": "stdout",
     "output_type": "stream",
     "text": [
      "(46409, 1, 224, 224)\n"
     ]
    },
    {
     "name": "stderr",
     "output_type": "stream",
     "text": [
      "Not using image_cache.\n"
     ]
    },
    {
     "name": "stdout",
     "output_type": "stream",
     "text": [
      "(724, 987, 3) (724, 987)\n",
      "aws s3 cp \"/home/yuncong/CSHL_scoremaps/10.0um/ChatCryoJane201710/ChatCryoJane201710_prep2_10.0um_detector999/ChatCryoJane201710_slide55-S1_prep2_10.0um_detector999/ChatCryoJane201710_slide55-S1_prep2_10.0um_detector999_Tz_scoremap.bp\" \"s3://mousebrainatlas-data/CSHL_scoremaps/10.0um/ChatCryoJane201710/ChatCryoJane201710_prep2_10.0um_detector999/ChatCryoJane201710_slide55-S1_prep2_10.0um_detector999/ChatCryoJane201710_slide55-S1_prep2_10.0um_detector999_Tz_scoremap.bp\"\n",
      "aws s3 cp \"/home/yuncong/CSHL_scoremap_viz/10.0um/Tz/ChatCryoJane201710/detector999/prep2/ChatCryoJane201710_slide55-S1_prep2_10.0um_Tz_detector999_scoremapViz.jpg\" \"s3://mousebrainatlas-data/CSHL_scoremap_viz/10.0um/Tz/ChatCryoJane201710/detector999/prep2/ChatCryoJane201710_slide55-S1_prep2_10.0um_Tz_detector999_scoremapViz.jpg\"\n"
     ]
    },
    {
     "name": "stderr",
     "output_type": "stream",
     "text": [
      "locate patches: 0.04 seconds\n",
      "Not using image_cache.\n",
      "Load image: 13.85 seconds.\n",
      "Resize patches from 316 x 316 to 224 x 224.\n",
      "Extract patches: 242.56 seconds\n"
     ]
    },
    {
     "name": "stdout",
     "output_type": "stream",
     "text": [
      "(46287, 1, 224, 224)\n"
     ]
    },
    {
     "name": "stderr",
     "output_type": "stream",
     "text": [
      "Not using image_cache.\n"
     ]
    },
    {
     "name": "stdout",
     "output_type": "stream",
     "text": [
      "(724, 987, 3) (724, 987)\n",
      "aws s3 cp \"/home/yuncong/CSHL_scoremaps/10.0um/ChatCryoJane201710/ChatCryoJane201710_prep2_10.0um_detector999/ChatCryoJane201710_slide56-S1_prep2_10.0um_detector999/ChatCryoJane201710_slide56-S1_prep2_10.0um_detector999_Tz_scoremap.bp\" \"s3://mousebrainatlas-data/CSHL_scoremaps/10.0um/ChatCryoJane201710/ChatCryoJane201710_prep2_10.0um_detector999/ChatCryoJane201710_slide56-S1_prep2_10.0um_detector999/ChatCryoJane201710_slide56-S1_prep2_10.0um_detector999_Tz_scoremap.bp\"\n",
      "aws s3 cp \"/home/yuncong/CSHL_scoremap_viz/10.0um/Tz/ChatCryoJane201710/detector999/prep2/ChatCryoJane201710_slide56-S1_prep2_10.0um_Tz_detector999_scoremapViz.jpg\" \"s3://mousebrainatlas-data/CSHL_scoremap_viz/10.0um/Tz/ChatCryoJane201710/detector999/prep2/ChatCryoJane201710_slide56-S1_prep2_10.0um_Tz_detector999_scoremapViz.jpg\"\n"
     ]
    },
    {
     "name": "stderr",
     "output_type": "stream",
     "text": [
      "locate patches: 0.04 seconds\n",
      "Not using image_cache.\n",
      "Load image: 13.33 seconds.\n",
      "Resize patches from 316 x 316 to 224 x 224.\n",
      "Extract patches: 234.91 seconds\n"
     ]
    },
    {
     "name": "stdout",
     "output_type": "stream",
     "text": [
      "(46255, 1, 224, 224)\n"
     ]
    },
    {
     "name": "stderr",
     "output_type": "stream",
     "text": [
      "Not using image_cache.\n"
     ]
    },
    {
     "name": "stdout",
     "output_type": "stream",
     "text": [
      "(724, 987, 3) (724, 987)\n",
      "aws s3 cp \"/home/yuncong/CSHL_scoremaps/10.0um/ChatCryoJane201710/ChatCryoJane201710_prep2_10.0um_detector999/ChatCryoJane201710_slide55-S2_prep2_10.0um_detector999/ChatCryoJane201710_slide55-S2_prep2_10.0um_detector999_Tz_scoremap.bp\" \"s3://mousebrainatlas-data/CSHL_scoremaps/10.0um/ChatCryoJane201710/ChatCryoJane201710_prep2_10.0um_detector999/ChatCryoJane201710_slide55-S2_prep2_10.0um_detector999/ChatCryoJane201710_slide55-S2_prep2_10.0um_detector999_Tz_scoremap.bp\"\n",
      "aws s3 cp \"/home/yuncong/CSHL_scoremap_viz/10.0um/Tz/ChatCryoJane201710/detector999/prep2/ChatCryoJane201710_slide55-S2_prep2_10.0um_Tz_detector999_scoremapViz.jpg\" \"s3://mousebrainatlas-data/CSHL_scoremap_viz/10.0um/Tz/ChatCryoJane201710/detector999/prep2/ChatCryoJane201710_slide55-S2_prep2_10.0um_Tz_detector999_scoremapViz.jpg\"\n"
     ]
    },
    {
     "name": "stderr",
     "output_type": "stream",
     "text": [
      "locate patches: 0.05 seconds\n",
      "Not using image_cache.\n",
      "Load image: 13.05 seconds.\n",
      "Resize patches from 316 x 316 to 224 x 224.\n",
      "Extract patches: 225.07 seconds\n"
     ]
    },
    {
     "name": "stdout",
     "output_type": "stream",
     "text": [
      "(43855, 1, 224, 224)\n"
     ]
    },
    {
     "name": "stderr",
     "output_type": "stream",
     "text": [
      "Not using image_cache.\n"
     ]
    },
    {
     "name": "stdout",
     "output_type": "stream",
     "text": [
      "(724, 987, 3) (724, 987)\n",
      "aws s3 cp \"/home/yuncong/CSHL_scoremaps/10.0um/ChatCryoJane201710/ChatCryoJane201710_prep2_10.0um_detector999/ChatCryoJane201710_slide56-S2_prep2_10.0um_detector999/ChatCryoJane201710_slide56-S2_prep2_10.0um_detector999_Tz_scoremap.bp\" \"s3://mousebrainatlas-data/CSHL_scoremaps/10.0um/ChatCryoJane201710/ChatCryoJane201710_prep2_10.0um_detector999/ChatCryoJane201710_slide56-S2_prep2_10.0um_detector999/ChatCryoJane201710_slide56-S2_prep2_10.0um_detector999_Tz_scoremap.bp\"\n",
      "aws s3 cp \"/home/yuncong/CSHL_scoremap_viz/10.0um/Tz/ChatCryoJane201710/detector999/prep2/ChatCryoJane201710_slide56-S2_prep2_10.0um_Tz_detector999_scoremapViz.jpg\" \"s3://mousebrainatlas-data/CSHL_scoremap_viz/10.0um/Tz/ChatCryoJane201710/detector999/prep2/ChatCryoJane201710_slide56-S2_prep2_10.0um_Tz_detector999_scoremapViz.jpg\"\n"
     ]
    },
    {
     "name": "stderr",
     "output_type": "stream",
     "text": [
      "locate patches: 0.05 seconds\n",
      "Not using image_cache.\n",
      "Load image: 12.68 seconds.\n",
      "Resize patches from 316 x 316 to 224 x 224.\n",
      "Extract patches: 239.16 seconds\n"
     ]
    },
    {
     "name": "stdout",
     "output_type": "stream",
     "text": [
      "(46168, 1, 224, 224)\n"
     ]
    },
    {
     "name": "stderr",
     "output_type": "stream",
     "text": [
      "Not using image_cache.\n"
     ]
    },
    {
     "name": "stdout",
     "output_type": "stream",
     "text": [
      "(724, 987, 3) (724, 987)\n",
      "aws s3 cp \"/home/yuncong/CSHL_scoremaps/10.0um/ChatCryoJane201710/ChatCryoJane201710_prep2_10.0um_detector999/ChatCryoJane201710_slide55-S3_prep2_10.0um_detector999/ChatCryoJane201710_slide55-S3_prep2_10.0um_detector999_Tz_scoremap.bp\" \"s3://mousebrainatlas-data/CSHL_scoremaps/10.0um/ChatCryoJane201710/ChatCryoJane201710_prep2_10.0um_detector999/ChatCryoJane201710_slide55-S3_prep2_10.0um_detector999/ChatCryoJane201710_slide55-S3_prep2_10.0um_detector999_Tz_scoremap.bp\"\n",
      "aws s3 cp \"/home/yuncong/CSHL_scoremap_viz/10.0um/Tz/ChatCryoJane201710/detector999/prep2/ChatCryoJane201710_slide55-S3_prep2_10.0um_Tz_detector999_scoremapViz.jpg\" \"s3://mousebrainatlas-data/CSHL_scoremap_viz/10.0um/Tz/ChatCryoJane201710/detector999/prep2/ChatCryoJane201710_slide55-S3_prep2_10.0um_Tz_detector999_scoremapViz.jpg\"\n"
     ]
    },
    {
     "name": "stderr",
     "output_type": "stream",
     "text": [
      "locate patches: 0.05 seconds\n",
      "Not using image_cache.\n",
      "Load image: 13.37 seconds.\n",
      "Resize patches from 316 x 316 to 224 x 224.\n",
      "Extract patches: 218.95 seconds\n"
     ]
    },
    {
     "name": "stdout",
     "output_type": "stream",
     "text": [
      "(42143, 1, 224, 224)\n"
     ]
    },
    {
     "name": "stderr",
     "output_type": "stream",
     "text": [
      "Not using image_cache.\n"
     ]
    },
    {
     "name": "stdout",
     "output_type": "stream",
     "text": [
      "(724, 987, 3) (724, 987)\n",
      "aws s3 cp \"/home/yuncong/CSHL_scoremaps/10.0um/ChatCryoJane201710/ChatCryoJane201710_prep2_10.0um_detector999/ChatCryoJane201710_slide56-S3_prep2_10.0um_detector999/ChatCryoJane201710_slide56-S3_prep2_10.0um_detector999_Tz_scoremap.bp\" \"s3://mousebrainatlas-data/CSHL_scoremaps/10.0um/ChatCryoJane201710/ChatCryoJane201710_prep2_10.0um_detector999/ChatCryoJane201710_slide56-S3_prep2_10.0um_detector999/ChatCryoJane201710_slide56-S3_prep2_10.0um_detector999_Tz_scoremap.bp\"\n",
      "aws s3 cp \"/home/yuncong/CSHL_scoremap_viz/10.0um/Tz/ChatCryoJane201710/detector999/prep2/ChatCryoJane201710_slide56-S3_prep2_10.0um_Tz_detector999_scoremapViz.jpg\" \"s3://mousebrainatlas-data/CSHL_scoremap_viz/10.0um/Tz/ChatCryoJane201710/detector999/prep2/ChatCryoJane201710_slide56-S3_prep2_10.0um_Tz_detector999_scoremapViz.jpg\"\n"
     ]
    },
    {
     "name": "stderr",
     "output_type": "stream",
     "text": [
      "locate patches: 0.05 seconds\n",
      "Not using image_cache.\n",
      "Load image: 13.19 seconds.\n",
      "Resize patches from 316 x 316 to 224 x 224.\n",
      "Extract patches: 231.98 seconds\n"
     ]
    },
    {
     "name": "stdout",
     "output_type": "stream",
     "text": [
      "(44932, 1, 224, 224)\n"
     ]
    },
    {
     "name": "stderr",
     "output_type": "stream",
     "text": [
      "Not using image_cache.\n"
     ]
    },
    {
     "name": "stdout",
     "output_type": "stream",
     "text": [
      "(724, 987, 3) (724, 987)\n",
      "aws s3 cp \"/home/yuncong/CSHL_scoremaps/10.0um/ChatCryoJane201710/ChatCryoJane201710_prep2_10.0um_detector999/ChatCryoJane201710_slide57-S1_prep2_10.0um_detector999/ChatCryoJane201710_slide57-S1_prep2_10.0um_detector999_Tz_scoremap.bp\" \"s3://mousebrainatlas-data/CSHL_scoremaps/10.0um/ChatCryoJane201710/ChatCryoJane201710_prep2_10.0um_detector999/ChatCryoJane201710_slide57-S1_prep2_10.0um_detector999/ChatCryoJane201710_slide57-S1_prep2_10.0um_detector999_Tz_scoremap.bp\"\n",
      "aws s3 cp \"/home/yuncong/CSHL_scoremap_viz/10.0um/Tz/ChatCryoJane201710/detector999/prep2/ChatCryoJane201710_slide57-S1_prep2_10.0um_Tz_detector999_scoremapViz.jpg\" \"s3://mousebrainatlas-data/CSHL_scoremap_viz/10.0um/Tz/ChatCryoJane201710/detector999/prep2/ChatCryoJane201710_slide57-S1_prep2_10.0um_Tz_detector999_scoremapViz.jpg\"\n"
     ]
    },
    {
     "name": "stderr",
     "output_type": "stream",
     "text": [
      "locate patches: 0.05 seconds\n",
      "Not using image_cache.\n",
      "Load image: 13.18 seconds.\n",
      "Resize patches from 316 x 316 to 224 x 224.\n",
      "Extract patches: 236.28 seconds\n"
     ]
    },
    {
     "name": "stdout",
     "output_type": "stream",
     "text": [
      "(46002, 1, 224, 224)\n"
     ]
    },
    {
     "name": "stderr",
     "output_type": "stream",
     "text": [
      "Not using image_cache.\n"
     ]
    },
    {
     "name": "stdout",
     "output_type": "stream",
     "text": [
      "(724, 987, 3) (724, 987)\n",
      "aws s3 cp \"/home/yuncong/CSHL_scoremaps/10.0um/ChatCryoJane201710/ChatCryoJane201710_prep2_10.0um_detector999/ChatCryoJane201710_slide58-S1_prep2_10.0um_detector999/ChatCryoJane201710_slide58-S1_prep2_10.0um_detector999_Tz_scoremap.bp\" \"s3://mousebrainatlas-data/CSHL_scoremaps/10.0um/ChatCryoJane201710/ChatCryoJane201710_prep2_10.0um_detector999/ChatCryoJane201710_slide58-S1_prep2_10.0um_detector999/ChatCryoJane201710_slide58-S1_prep2_10.0um_detector999_Tz_scoremap.bp\"\n",
      "aws s3 cp \"/home/yuncong/CSHL_scoremap_viz/10.0um/Tz/ChatCryoJane201710/detector999/prep2/ChatCryoJane201710_slide58-S1_prep2_10.0um_Tz_detector999_scoremapViz.jpg\" \"s3://mousebrainatlas-data/CSHL_scoremap_viz/10.0um/Tz/ChatCryoJane201710/detector999/prep2/ChatCryoJane201710_slide58-S1_prep2_10.0um_Tz_detector999_scoremapViz.jpg\"\n"
     ]
    },
    {
     "name": "stderr",
     "output_type": "stream",
     "text": [
      "locate patches: 0.05 seconds\n",
      "Not using image_cache.\n",
      "Load image: 13.39 seconds.\n",
      "Resize patches from 316 x 316 to 224 x 224.\n",
      "Extract patches: 238.64 seconds\n"
     ]
    },
    {
     "name": "stdout",
     "output_type": "stream",
     "text": [
      "(46408, 1, 224, 224)\n"
     ]
    },
    {
     "name": "stderr",
     "output_type": "stream",
     "text": [
      "Not using image_cache.\n"
     ]
    },
    {
     "name": "stdout",
     "output_type": "stream",
     "text": [
      "(724, 987, 3) (724, 987)\n",
      "aws s3 cp \"/home/yuncong/CSHL_scoremaps/10.0um/ChatCryoJane201710/ChatCryoJane201710_prep2_10.0um_detector999/ChatCryoJane201710_slide57-S2_prep2_10.0um_detector999/ChatCryoJane201710_slide57-S2_prep2_10.0um_detector999_Tz_scoremap.bp\" \"s3://mousebrainatlas-data/CSHL_scoremaps/10.0um/ChatCryoJane201710/ChatCryoJane201710_prep2_10.0um_detector999/ChatCryoJane201710_slide57-S2_prep2_10.0um_detector999/ChatCryoJane201710_slide57-S2_prep2_10.0um_detector999_Tz_scoremap.bp\"\n",
      "aws s3 cp \"/home/yuncong/CSHL_scoremap_viz/10.0um/Tz/ChatCryoJane201710/detector999/prep2/ChatCryoJane201710_slide57-S2_prep2_10.0um_Tz_detector999_scoremapViz.jpg\" \"s3://mousebrainatlas-data/CSHL_scoremap_viz/10.0um/Tz/ChatCryoJane201710/detector999/prep2/ChatCryoJane201710_slide57-S2_prep2_10.0um_Tz_detector999_scoremapViz.jpg\"\n"
     ]
    },
    {
     "name": "stderr",
     "output_type": "stream",
     "text": [
      "locate patches: 0.05 seconds\n",
      "Not using image_cache.\n",
      "Load image: 12.69 seconds.\n",
      "Resize patches from 316 x 316 to 224 x 224.\n",
      "Extract patches: 223.47 seconds\n"
     ]
    },
    {
     "name": "stdout",
     "output_type": "stream",
     "text": [
      "(43171, 1, 224, 224)\n"
     ]
    },
    {
     "name": "stderr",
     "output_type": "stream",
     "text": [
      "Not using image_cache.\n"
     ]
    },
    {
     "name": "stdout",
     "output_type": "stream",
     "text": [
      "(724, 987, 3) (724, 987)\n",
      "aws s3 cp \"/home/yuncong/CSHL_scoremaps/10.0um/ChatCryoJane201710/ChatCryoJane201710_prep2_10.0um_detector999/ChatCryoJane201710_slide58-S2_prep2_10.0um_detector999/ChatCryoJane201710_slide58-S2_prep2_10.0um_detector999_Tz_scoremap.bp\" \"s3://mousebrainatlas-data/CSHL_scoremaps/10.0um/ChatCryoJane201710/ChatCryoJane201710_prep2_10.0um_detector999/ChatCryoJane201710_slide58-S2_prep2_10.0um_detector999/ChatCryoJane201710_slide58-S2_prep2_10.0um_detector999_Tz_scoremap.bp\"\n",
      "aws s3 cp \"/home/yuncong/CSHL_scoremap_viz/10.0um/Tz/ChatCryoJane201710/detector999/prep2/ChatCryoJane201710_slide58-S2_prep2_10.0um_Tz_detector999_scoremapViz.jpg\" \"s3://mousebrainatlas-data/CSHL_scoremap_viz/10.0um/Tz/ChatCryoJane201710/detector999/prep2/ChatCryoJane201710_slide58-S2_prep2_10.0um_Tz_detector999_scoremapViz.jpg\"\n"
     ]
    },
    {
     "name": "stderr",
     "output_type": "stream",
     "text": [
      "locate patches: 0.05 seconds\n",
      "Not using image_cache.\n",
      "Load image: 12.83 seconds.\n",
      "Resize patches from 316 x 316 to 224 x 224.\n",
      "Extract patches: 234.20 seconds\n"
     ]
    },
    {
     "name": "stdout",
     "output_type": "stream",
     "text": [
      "(46048, 1, 224, 224)\n"
     ]
    },
    {
     "name": "stderr",
     "output_type": "stream",
     "text": [
      "Not using image_cache.\n"
     ]
    },
    {
     "name": "stdout",
     "output_type": "stream",
     "text": [
      "(724, 987, 3) (724, 987)\n",
      "aws s3 cp \"/home/yuncong/CSHL_scoremaps/10.0um/ChatCryoJane201710/ChatCryoJane201710_prep2_10.0um_detector999/ChatCryoJane201710_slide57-S3_prep2_10.0um_detector999/ChatCryoJane201710_slide57-S3_prep2_10.0um_detector999_Tz_scoremap.bp\" \"s3://mousebrainatlas-data/CSHL_scoremaps/10.0um/ChatCryoJane201710/ChatCryoJane201710_prep2_10.0um_detector999/ChatCryoJane201710_slide57-S3_prep2_10.0um_detector999/ChatCryoJane201710_slide57-S3_prep2_10.0um_detector999_Tz_scoremap.bp\"\n",
      "aws s3 cp \"/home/yuncong/CSHL_scoremap_viz/10.0um/Tz/ChatCryoJane201710/detector999/prep2/ChatCryoJane201710_slide57-S3_prep2_10.0um_Tz_detector999_scoremapViz.jpg\" \"s3://mousebrainatlas-data/CSHL_scoremap_viz/10.0um/Tz/ChatCryoJane201710/detector999/prep2/ChatCryoJane201710_slide57-S3_prep2_10.0um_Tz_detector999_scoremapViz.jpg\"\n"
     ]
    },
    {
     "name": "stderr",
     "output_type": "stream",
     "text": [
      "locate patches: 0.05 seconds\n",
      "Not using image_cache.\n",
      "Load image: 13.05 seconds.\n",
      "Resize patches from 316 x 316 to 224 x 224.\n",
      "Extract patches: 235.07 seconds\n"
     ]
    },
    {
     "name": "stdout",
     "output_type": "stream",
     "text": [
      "(46135, 1, 224, 224)\n"
     ]
    },
    {
     "name": "stderr",
     "output_type": "stream",
     "text": [
      "Not using image_cache.\n"
     ]
    },
    {
     "name": "stdout",
     "output_type": "stream",
     "text": [
      "(724, 987, 3) (724, 987)\n",
      "aws s3 cp \"/home/yuncong/CSHL_scoremaps/10.0um/ChatCryoJane201710/ChatCryoJane201710_prep2_10.0um_detector999/ChatCryoJane201710_slide59-S1_prep2_10.0um_detector999/ChatCryoJane201710_slide59-S1_prep2_10.0um_detector999_Tz_scoremap.bp\" \"s3://mousebrainatlas-data/CSHL_scoremaps/10.0um/ChatCryoJane201710/ChatCryoJane201710_prep2_10.0um_detector999/ChatCryoJane201710_slide59-S1_prep2_10.0um_detector999/ChatCryoJane201710_slide59-S1_prep2_10.0um_detector999_Tz_scoremap.bp\"\n",
      "aws s3 cp \"/home/yuncong/CSHL_scoremap_viz/10.0um/Tz/ChatCryoJane201710/detector999/prep2/ChatCryoJane201710_slide59-S1_prep2_10.0um_Tz_detector999_scoremapViz.jpg\" \"s3://mousebrainatlas-data/CSHL_scoremap_viz/10.0um/Tz/ChatCryoJane201710/detector999/prep2/ChatCryoJane201710_slide59-S1_prep2_10.0um_Tz_detector999_scoremapViz.jpg\"\n"
     ]
    },
    {
     "name": "stderr",
     "output_type": "stream",
     "text": [
      "locate patches: 0.05 seconds\n",
      "Not using image_cache.\n",
      "Load image: 13.26 seconds.\n",
      "Resize patches from 316 x 316 to 224 x 224.\n",
      "Extract patches: 236.96 seconds\n"
     ]
    },
    {
     "name": "stdout",
     "output_type": "stream",
     "text": [
      "(46147, 1, 224, 224)\n"
     ]
    },
    {
     "name": "stderr",
     "output_type": "stream",
     "text": [
      "Not using image_cache.\n"
     ]
    },
    {
     "name": "stdout",
     "output_type": "stream",
     "text": [
      "(724, 987, 3) (724, 987)\n",
      "aws s3 cp \"/home/yuncong/CSHL_scoremaps/10.0um/ChatCryoJane201710/ChatCryoJane201710_prep2_10.0um_detector999/ChatCryoJane201710_slide60-S1_prep2_10.0um_detector999/ChatCryoJane201710_slide60-S1_prep2_10.0um_detector999_Tz_scoremap.bp\" \"s3://mousebrainatlas-data/CSHL_scoremaps/10.0um/ChatCryoJane201710/ChatCryoJane201710_prep2_10.0um_detector999/ChatCryoJane201710_slide60-S1_prep2_10.0um_detector999/ChatCryoJane201710_slide60-S1_prep2_10.0um_detector999_Tz_scoremap.bp\"\n",
      "aws s3 cp \"/home/yuncong/CSHL_scoremap_viz/10.0um/Tz/ChatCryoJane201710/detector999/prep2/ChatCryoJane201710_slide60-S1_prep2_10.0um_Tz_detector999_scoremapViz.jpg\" \"s3://mousebrainatlas-data/CSHL_scoremap_viz/10.0um/Tz/ChatCryoJane201710/detector999/prep2/ChatCryoJane201710_slide60-S1_prep2_10.0um_Tz_detector999_scoremapViz.jpg\"\n"
     ]
    },
    {
     "name": "stderr",
     "output_type": "stream",
     "text": [
      "locate patches: 0.05 seconds\n",
      "Not using image_cache.\n",
      "Load image: 13.29 seconds.\n",
      "Resize patches from 316 x 316 to 224 x 224.\n",
      "Extract patches: 240.09 seconds\n"
     ]
    },
    {
     "name": "stdout",
     "output_type": "stream",
     "text": [
      "(46049, 1, 224, 224)\n"
     ]
    },
    {
     "name": "stderr",
     "output_type": "stream",
     "text": [
      "Not using image_cache.\n"
     ]
    },
    {
     "name": "stdout",
     "output_type": "stream",
     "text": [
      "(724, 987, 3) (724, 987)\n",
      "aws s3 cp \"/home/yuncong/CSHL_scoremaps/10.0um/ChatCryoJane201710/ChatCryoJane201710_prep2_10.0um_detector999/ChatCryoJane201710_slide59-S2_prep2_10.0um_detector999/ChatCryoJane201710_slide59-S2_prep2_10.0um_detector999_Tz_scoremap.bp\" \"s3://mousebrainatlas-data/CSHL_scoremaps/10.0um/ChatCryoJane201710/ChatCryoJane201710_prep2_10.0um_detector999/ChatCryoJane201710_slide59-S2_prep2_10.0um_detector999/ChatCryoJane201710_slide59-S2_prep2_10.0um_detector999_Tz_scoremap.bp\"\n",
      "aws s3 cp \"/home/yuncong/CSHL_scoremap_viz/10.0um/Tz/ChatCryoJane201710/detector999/prep2/ChatCryoJane201710_slide59-S2_prep2_10.0um_Tz_detector999_scoremapViz.jpg\" \"s3://mousebrainatlas-data/CSHL_scoremap_viz/10.0um/Tz/ChatCryoJane201710/detector999/prep2/ChatCryoJane201710_slide59-S2_prep2_10.0um_Tz_detector999_scoremapViz.jpg\"\n"
     ]
    },
    {
     "name": "stderr",
     "output_type": "stream",
     "text": [
      "locate patches: 0.04 seconds\n",
      "Not using image_cache.\n",
      "Load image: 12.76 seconds.\n",
      "Resize patches from 316 x 316 to 224 x 224.\n",
      "Extract patches: 232.95 seconds\n"
     ]
    },
    {
     "name": "stdout",
     "output_type": "stream",
     "text": [
      "(46039, 1, 224, 224)\n"
     ]
    },
    {
     "name": "stderr",
     "output_type": "stream",
     "text": [
      "Not using image_cache.\n"
     ]
    },
    {
     "name": "stdout",
     "output_type": "stream",
     "text": [
      "(724, 987, 3) (724, 987)\n",
      "aws s3 cp \"/home/yuncong/CSHL_scoremaps/10.0um/ChatCryoJane201710/ChatCryoJane201710_prep2_10.0um_detector999/ChatCryoJane201710_slide60-S2_prep2_10.0um_detector999/ChatCryoJane201710_slide60-S2_prep2_10.0um_detector999_Tz_scoremap.bp\" \"s3://mousebrainatlas-data/CSHL_scoremaps/10.0um/ChatCryoJane201710/ChatCryoJane201710_prep2_10.0um_detector999/ChatCryoJane201710_slide60-S2_prep2_10.0um_detector999/ChatCryoJane201710_slide60-S2_prep2_10.0um_detector999_Tz_scoremap.bp\"\n",
      "aws s3 cp \"/home/yuncong/CSHL_scoremap_viz/10.0um/Tz/ChatCryoJane201710/detector999/prep2/ChatCryoJane201710_slide60-S2_prep2_10.0um_Tz_detector999_scoremapViz.jpg\" \"s3://mousebrainatlas-data/CSHL_scoremap_viz/10.0um/Tz/ChatCryoJane201710/detector999/prep2/ChatCryoJane201710_slide60-S2_prep2_10.0um_Tz_detector999_scoremapViz.jpg\"\n"
     ]
    },
    {
     "name": "stderr",
     "output_type": "stream",
     "text": [
      "locate patches: 0.05 seconds\n",
      "Not using image_cache.\n",
      "Load image: 11.75 seconds.\n",
      "Resize patches from 316 x 316 to 224 x 224.\n",
      "Extract patches: 242.34 seconds\n"
     ]
    },
    {
     "name": "stdout",
     "output_type": "stream",
     "text": [
      "(46288, 1, 224, 224)\n"
     ]
    },
    {
     "name": "stderr",
     "output_type": "stream",
     "text": [
      "Not using image_cache.\n"
     ]
    },
    {
     "name": "stdout",
     "output_type": "stream",
     "text": [
      "(724, 987, 3) (724, 987)\n",
      "aws s3 cp \"/home/yuncong/CSHL_scoremaps/10.0um/ChatCryoJane201710/ChatCryoJane201710_prep2_10.0um_detector999/ChatCryoJane201710_slide59-S3_prep2_10.0um_detector999/ChatCryoJane201710_slide59-S3_prep2_10.0um_detector999_Tz_scoremap.bp\" \"s3://mousebrainatlas-data/CSHL_scoremaps/10.0um/ChatCryoJane201710/ChatCryoJane201710_prep2_10.0um_detector999/ChatCryoJane201710_slide59-S3_prep2_10.0um_detector999/ChatCryoJane201710_slide59-S3_prep2_10.0um_detector999_Tz_scoremap.bp\"\n",
      "aws s3 cp \"/home/yuncong/CSHL_scoremap_viz/10.0um/Tz/ChatCryoJane201710/detector999/prep2/ChatCryoJane201710_slide59-S3_prep2_10.0um_Tz_detector999_scoremapViz.jpg\" \"s3://mousebrainatlas-data/CSHL_scoremap_viz/10.0um/Tz/ChatCryoJane201710/detector999/prep2/ChatCryoJane201710_slide59-S3_prep2_10.0um_Tz_detector999_scoremapViz.jpg\"\n"
     ]
    },
    {
     "name": "stderr",
     "output_type": "stream",
     "text": [
      "locate patches: 0.05 seconds\n",
      "Not using image_cache.\n",
      "Load image: 10.96 seconds.\n",
      "Resize patches from 316 x 316 to 224 x 224.\n",
      "Extract patches: 235.80 seconds\n"
     ]
    },
    {
     "name": "stdout",
     "output_type": "stream",
     "text": [
      "(46077, 1, 224, 224)\n"
     ]
    },
    {
     "name": "stderr",
     "output_type": "stream",
     "text": [
      "Not using image_cache.\n"
     ]
    },
    {
     "name": "stdout",
     "output_type": "stream",
     "text": [
      "(724, 987, 3) (724, 987)\n",
      "aws s3 cp \"/home/yuncong/CSHL_scoremaps/10.0um/ChatCryoJane201710/ChatCryoJane201710_prep2_10.0um_detector999/ChatCryoJane201710_slide60-S3_prep2_10.0um_detector999/ChatCryoJane201710_slide60-S3_prep2_10.0um_detector999_Tz_scoremap.bp\" \"s3://mousebrainatlas-data/CSHL_scoremaps/10.0um/ChatCryoJane201710/ChatCryoJane201710_prep2_10.0um_detector999/ChatCryoJane201710_slide60-S3_prep2_10.0um_detector999/ChatCryoJane201710_slide60-S3_prep2_10.0um_detector999_Tz_scoremap.bp\"\n",
      "aws s3 cp \"/home/yuncong/CSHL_scoremap_viz/10.0um/Tz/ChatCryoJane201710/detector999/prep2/ChatCryoJane201710_slide60-S3_prep2_10.0um_Tz_detector999_scoremapViz.jpg\" \"s3://mousebrainatlas-data/CSHL_scoremap_viz/10.0um/Tz/ChatCryoJane201710/detector999/prep2/ChatCryoJane201710_slide60-S3_prep2_10.0um_Tz_detector999_scoremapViz.jpg\"\n"
     ]
    },
    {
     "name": "stderr",
     "output_type": "stream",
     "text": [
      "locate patches: 0.05 seconds\n",
      "Not using image_cache.\n",
      "Load image: 8.96 seconds.\n",
      "Resize patches from 316 x 316 to 224 x 224.\n",
      "Extract patches: 102.85 seconds\n"
     ]
    },
    {
     "name": "stdout",
     "output_type": "stream",
     "text": [
      "(19551, 1, 224, 224)\n"
     ]
    },
    {
     "name": "stderr",
     "output_type": "stream",
     "text": [
      "Not using image_cache.\n"
     ]
    },
    {
     "name": "stdout",
     "output_type": "stream",
     "text": [
      "(724, 987, 3) (724, 987)\n",
      "aws s3 cp \"/home/yuncong/CSHL_scoremaps/10.0um/ChatCryoJane201710/ChatCryoJane201710_prep2_10.0um_detector999/ChatCryoJane201710_slide1-S1_prep2_10.0um_detector999/ChatCryoJane201710_slide1-S1_prep2_10.0um_detector999_VCA_scoremap.bp\" \"s3://mousebrainatlas-data/CSHL_scoremaps/10.0um/ChatCryoJane201710/ChatCryoJane201710_prep2_10.0um_detector999/ChatCryoJane201710_slide1-S1_prep2_10.0um_detector999/ChatCryoJane201710_slide1-S1_prep2_10.0um_detector999_VCA_scoremap.bp\"\n",
      "aws s3 cp \"/home/yuncong/CSHL_scoremap_viz/10.0um/VCA/ChatCryoJane201710/detector999/prep2/ChatCryoJane201710_slide1-S1_prep2_10.0um_VCA_detector999_scoremapViz.jpg\" \"s3://mousebrainatlas-data/CSHL_scoremap_viz/10.0um/VCA/ChatCryoJane201710/detector999/prep2/ChatCryoJane201710_slide1-S1_prep2_10.0um_VCA_detector999_scoremapViz.jpg\"\n"
     ]
    },
    {
     "name": "stderr",
     "output_type": "stream",
     "text": [
      "locate patches: 0.05 seconds\n",
      "Not using image_cache.\n",
      "Load image: 8.96 seconds.\n",
      "Resize patches from 316 x 316 to 224 x 224.\n",
      "Extract patches: 107.20 seconds\n"
     ]
    },
    {
     "name": "stdout",
     "output_type": "stream",
     "text": [
      "(19880, 1, 224, 224)\n"
     ]
    },
    {
     "name": "stderr",
     "output_type": "stream",
     "text": [
      "Not using image_cache.\n"
     ]
    },
    {
     "name": "stdout",
     "output_type": "stream",
     "text": [
      "(724, 987, 3) (724, 987)\n",
      "aws s3 cp \"/home/yuncong/CSHL_scoremaps/10.0um/ChatCryoJane201710/ChatCryoJane201710_prep2_10.0um_detector999/ChatCryoJane201710_slide2-S1_prep2_10.0um_detector999/ChatCryoJane201710_slide2-S1_prep2_10.0um_detector999_VCA_scoremap.bp\" \"s3://mousebrainatlas-data/CSHL_scoremaps/10.0um/ChatCryoJane201710/ChatCryoJane201710_prep2_10.0um_detector999/ChatCryoJane201710_slide2-S1_prep2_10.0um_detector999/ChatCryoJane201710_slide2-S1_prep2_10.0um_detector999_VCA_scoremap.bp\"\n",
      "aws s3 cp \"/home/yuncong/CSHL_scoremap_viz/10.0um/VCA/ChatCryoJane201710/detector999/prep2/ChatCryoJane201710_slide2-S1_prep2_10.0um_VCA_detector999_scoremapViz.jpg\" \"s3://mousebrainatlas-data/CSHL_scoremap_viz/10.0um/VCA/ChatCryoJane201710/detector999/prep2/ChatCryoJane201710_slide2-S1_prep2_10.0um_VCA_detector999_scoremapViz.jpg\"\n"
     ]
    },
    {
     "name": "stderr",
     "output_type": "stream",
     "text": [
      "locate patches: 0.05 seconds\n",
      "Not using image_cache.\n",
      "Load image: 8.53 seconds.\n",
      "Resize patches from 316 x 316 to 224 x 224.\n",
      "Extract patches: 101.26 seconds\n"
     ]
    },
    {
     "name": "stdout",
     "output_type": "stream",
     "text": [
      "(19457, 1, 224, 224)\n"
     ]
    },
    {
     "name": "stderr",
     "output_type": "stream",
     "text": [
      "Not using image_cache.\n"
     ]
    },
    {
     "name": "stdout",
     "output_type": "stream",
     "text": [
      "(724, 987, 3) (724, 987)\n",
      "aws s3 cp \"/home/yuncong/CSHL_scoremaps/10.0um/ChatCryoJane201710/ChatCryoJane201710_prep2_10.0um_detector999/ChatCryoJane201710_slide1-S2_prep2_10.0um_detector999/ChatCryoJane201710_slide1-S2_prep2_10.0um_detector999_VCA_scoremap.bp\" \"s3://mousebrainatlas-data/CSHL_scoremaps/10.0um/ChatCryoJane201710/ChatCryoJane201710_prep2_10.0um_detector999/ChatCryoJane201710_slide1-S2_prep2_10.0um_detector999/ChatCryoJane201710_slide1-S2_prep2_10.0um_detector999_VCA_scoremap.bp\"\n",
      "aws s3 cp \"/home/yuncong/CSHL_scoremap_viz/10.0um/VCA/ChatCryoJane201710/detector999/prep2/ChatCryoJane201710_slide1-S2_prep2_10.0um_VCA_detector999_scoremapViz.jpg\" \"s3://mousebrainatlas-data/CSHL_scoremap_viz/10.0um/VCA/ChatCryoJane201710/detector999/prep2/ChatCryoJane201710_slide1-S2_prep2_10.0um_VCA_detector999_scoremapViz.jpg\"\n"
     ]
    },
    {
     "name": "stderr",
     "output_type": "stream",
     "text": [
      "locate patches: 0.05 seconds\n",
      "Not using image_cache.\n",
      "Load image: 9.24 seconds.\n",
      "Resize patches from 316 x 316 to 224 x 224.\n",
      "Extract patches: 105.01 seconds\n"
     ]
    },
    {
     "name": "stdout",
     "output_type": "stream",
     "text": [
      "(20153, 1, 224, 224)\n"
     ]
    },
    {
     "name": "stderr",
     "output_type": "stream",
     "text": [
      "Not using image_cache.\n"
     ]
    },
    {
     "name": "stdout",
     "output_type": "stream",
     "text": [
      "(724, 987, 3) (724, 987)\n",
      "aws s3 cp \"/home/yuncong/CSHL_scoremaps/10.0um/ChatCryoJane201710/ChatCryoJane201710_prep2_10.0um_detector999/ChatCryoJane201710_slide2-S2_prep2_10.0um_detector999/ChatCryoJane201710_slide2-S2_prep2_10.0um_detector999_VCA_scoremap.bp\" \"s3://mousebrainatlas-data/CSHL_scoremaps/10.0um/ChatCryoJane201710/ChatCryoJane201710_prep2_10.0um_detector999/ChatCryoJane201710_slide2-S2_prep2_10.0um_detector999/ChatCryoJane201710_slide2-S2_prep2_10.0um_detector999_VCA_scoremap.bp\"\n",
      "aws s3 cp \"/home/yuncong/CSHL_scoremap_viz/10.0um/VCA/ChatCryoJane201710/detector999/prep2/ChatCryoJane201710_slide2-S2_prep2_10.0um_VCA_detector999_scoremapViz.jpg\" \"s3://mousebrainatlas-data/CSHL_scoremap_viz/10.0um/VCA/ChatCryoJane201710/detector999/prep2/ChatCryoJane201710_slide2-S2_prep2_10.0um_VCA_detector999_scoremapViz.jpg\"\n"
     ]
    },
    {
     "name": "stderr",
     "output_type": "stream",
     "text": [
      "locate patches: 0.04 seconds\n",
      "Not using image_cache.\n",
      "Load image: 8.21 seconds.\n",
      "Resize patches from 316 x 316 to 224 x 224.\n",
      "Extract patches: 93.85 seconds\n"
     ]
    },
    {
     "name": "stdout",
     "output_type": "stream",
     "text": [
      "(17319, 1, 224, 224)\n"
     ]
    },
    {
     "name": "stderr",
     "output_type": "stream",
     "text": [
      "Not using image_cache.\n"
     ]
    },
    {
     "name": "stdout",
     "output_type": "stream",
     "text": [
      "(724, 987, 3) (724, 987)\n",
      "aws s3 cp \"/home/yuncong/CSHL_scoremaps/10.0um/ChatCryoJane201710/ChatCryoJane201710_prep2_10.0um_detector999/ChatCryoJane201710_slide1-S3_prep2_10.0um_detector999/ChatCryoJane201710_slide1-S3_prep2_10.0um_detector999_VCA_scoremap.bp\" \"s3://mousebrainatlas-data/CSHL_scoremaps/10.0um/ChatCryoJane201710/ChatCryoJane201710_prep2_10.0um_detector999/ChatCryoJane201710_slide1-S3_prep2_10.0um_detector999/ChatCryoJane201710_slide1-S3_prep2_10.0um_detector999_VCA_scoremap.bp\"\n",
      "aws s3 cp \"/home/yuncong/CSHL_scoremap_viz/10.0um/VCA/ChatCryoJane201710/detector999/prep2/ChatCryoJane201710_slide1-S3_prep2_10.0um_VCA_detector999_scoremapViz.jpg\" \"s3://mousebrainatlas-data/CSHL_scoremap_viz/10.0um/VCA/ChatCryoJane201710/detector999/prep2/ChatCryoJane201710_slide1-S3_prep2_10.0um_VCA_detector999_scoremapViz.jpg\"\n"
     ]
    },
    {
     "name": "stderr",
     "output_type": "stream",
     "text": [
      "locate patches: 0.05 seconds\n",
      "Not using image_cache.\n",
      "Load image: 9.60 seconds.\n",
      "Resize patches from 316 x 316 to 224 x 224.\n",
      "Extract patches: 108.61 seconds\n"
     ]
    },
    {
     "name": "stdout",
     "output_type": "stream",
     "text": [
      "(20613, 1, 224, 224)\n"
     ]
    },
    {
     "name": "stderr",
     "output_type": "stream",
     "text": [
      "Not using image_cache.\n"
     ]
    },
    {
     "name": "stdout",
     "output_type": "stream",
     "text": [
      "(724, 987, 3) (724, 987)\n",
      "aws s3 cp \"/home/yuncong/CSHL_scoremaps/10.0um/ChatCryoJane201710/ChatCryoJane201710_prep2_10.0um_detector999/ChatCryoJane201710_slide2-S3_prep2_10.0um_detector999/ChatCryoJane201710_slide2-S3_prep2_10.0um_detector999_VCA_scoremap.bp\" \"s3://mousebrainatlas-data/CSHL_scoremaps/10.0um/ChatCryoJane201710/ChatCryoJane201710_prep2_10.0um_detector999/ChatCryoJane201710_slide2-S3_prep2_10.0um_detector999/ChatCryoJane201710_slide2-S3_prep2_10.0um_detector999_VCA_scoremap.bp\"\n",
      "aws s3 cp \"/home/yuncong/CSHL_scoremap_viz/10.0um/VCA/ChatCryoJane201710/detector999/prep2/ChatCryoJane201710_slide2-S3_prep2_10.0um_VCA_detector999_scoremapViz.jpg\" \"s3://mousebrainatlas-data/CSHL_scoremap_viz/10.0um/VCA/ChatCryoJane201710/detector999/prep2/ChatCryoJane201710_slide2-S3_prep2_10.0um_VCA_detector999_scoremapViz.jpg\"\n"
     ]
    },
    {
     "name": "stderr",
     "output_type": "stream",
     "text": [
      "locate patches: 0.05 seconds\n",
      "Not using image_cache.\n",
      "Load image: 8.88 seconds.\n",
      "Resize patches from 316 x 316 to 224 x 224.\n",
      "Extract patches: 109.21 seconds\n"
     ]
    },
    {
     "name": "stdout",
     "output_type": "stream",
     "text": [
      "(21090, 1, 224, 224)\n"
     ]
    },
    {
     "name": "stderr",
     "output_type": "stream",
     "text": [
      "Not using image_cache.\n"
     ]
    },
    {
     "name": "stdout",
     "output_type": "stream",
     "text": [
      "(724, 987, 3) (724, 987)\n",
      "aws s3 cp \"/home/yuncong/CSHL_scoremaps/10.0um/ChatCryoJane201710/ChatCryoJane201710_prep2_10.0um_detector999/ChatCryoJane201710_slide3-S1_prep2_10.0um_detector999/ChatCryoJane201710_slide3-S1_prep2_10.0um_detector999_VCA_scoremap.bp\" \"s3://mousebrainatlas-data/CSHL_scoremaps/10.0um/ChatCryoJane201710/ChatCryoJane201710_prep2_10.0um_detector999/ChatCryoJane201710_slide3-S1_prep2_10.0um_detector999/ChatCryoJane201710_slide3-S1_prep2_10.0um_detector999_VCA_scoremap.bp\"\n",
      "aws s3 cp \"/home/yuncong/CSHL_scoremap_viz/10.0um/VCA/ChatCryoJane201710/detector999/prep2/ChatCryoJane201710_slide3-S1_prep2_10.0um_VCA_detector999_scoremapViz.jpg\" \"s3://mousebrainatlas-data/CSHL_scoremap_viz/10.0um/VCA/ChatCryoJane201710/detector999/prep2/ChatCryoJane201710_slide3-S1_prep2_10.0um_VCA_detector999_scoremapViz.jpg\"\n"
     ]
    },
    {
     "name": "stderr",
     "output_type": "stream",
     "text": [
      "locate patches: 0.05 seconds\n",
      "Not using image_cache.\n",
      "Load image: 8.83 seconds.\n",
      "Resize patches from 316 x 316 to 224 x 224.\n",
      "Extract patches: 111.26 seconds\n"
     ]
    },
    {
     "name": "stdout",
     "output_type": "stream",
     "text": [
      "(21351, 1, 224, 224)\n"
     ]
    },
    {
     "name": "stderr",
     "output_type": "stream",
     "text": [
      "Not using image_cache.\n"
     ]
    },
    {
     "name": "stdout",
     "output_type": "stream",
     "text": [
      "(724, 987, 3) (724, 987)\n",
      "aws s3 cp \"/home/yuncong/CSHL_scoremaps/10.0um/ChatCryoJane201710/ChatCryoJane201710_prep2_10.0um_detector999/ChatCryoJane201710_slide4-S1_prep2_10.0um_detector999/ChatCryoJane201710_slide4-S1_prep2_10.0um_detector999_VCA_scoremap.bp\" \"s3://mousebrainatlas-data/CSHL_scoremaps/10.0um/ChatCryoJane201710/ChatCryoJane201710_prep2_10.0um_detector999/ChatCryoJane201710_slide4-S1_prep2_10.0um_detector999/ChatCryoJane201710_slide4-S1_prep2_10.0um_detector999_VCA_scoremap.bp\"\n",
      "aws s3 cp \"/home/yuncong/CSHL_scoremap_viz/10.0um/VCA/ChatCryoJane201710/detector999/prep2/ChatCryoJane201710_slide4-S1_prep2_10.0um_VCA_detector999_scoremapViz.jpg\" \"s3://mousebrainatlas-data/CSHL_scoremap_viz/10.0um/VCA/ChatCryoJane201710/detector999/prep2/ChatCryoJane201710_slide4-S1_prep2_10.0um_VCA_detector999_scoremapViz.jpg\"\n"
     ]
    },
    {
     "name": "stderr",
     "output_type": "stream",
     "text": [
      "locate patches: 0.05 seconds\n",
      "Not using image_cache.\n",
      "Load image: 8.66 seconds.\n",
      "Resize patches from 316 x 316 to 224 x 224.\n",
      "Extract patches: 111.68 seconds\n"
     ]
    },
    {
     "name": "stdout",
     "output_type": "stream",
     "text": [
      "(21587, 1, 224, 224)\n"
     ]
    },
    {
     "name": "stderr",
     "output_type": "stream",
     "text": [
      "Not using image_cache.\n"
     ]
    },
    {
     "name": "stdout",
     "output_type": "stream",
     "text": [
      "(724, 987, 3) (724, 987)\n",
      "aws s3 cp \"/home/yuncong/CSHL_scoremaps/10.0um/ChatCryoJane201710/ChatCryoJane201710_prep2_10.0um_detector999/ChatCryoJane201710_slide3-S2_prep2_10.0um_detector999/ChatCryoJane201710_slide3-S2_prep2_10.0um_detector999_VCA_scoremap.bp\" \"s3://mousebrainatlas-data/CSHL_scoremaps/10.0um/ChatCryoJane201710/ChatCryoJane201710_prep2_10.0um_detector999/ChatCryoJane201710_slide3-S2_prep2_10.0um_detector999/ChatCryoJane201710_slide3-S2_prep2_10.0um_detector999_VCA_scoremap.bp\"\n",
      "aws s3 cp \"/home/yuncong/CSHL_scoremap_viz/10.0um/VCA/ChatCryoJane201710/detector999/prep2/ChatCryoJane201710_slide3-S2_prep2_10.0um_VCA_detector999_scoremapViz.jpg\" \"s3://mousebrainatlas-data/CSHL_scoremap_viz/10.0um/VCA/ChatCryoJane201710/detector999/prep2/ChatCryoJane201710_slide3-S2_prep2_10.0um_VCA_detector999_scoremapViz.jpg\"\n"
     ]
    },
    {
     "name": "stderr",
     "output_type": "stream",
     "text": [
      "locate patches: 0.04 seconds\n",
      "Not using image_cache.\n",
      "Load image: 8.96 seconds.\n",
      "Resize patches from 316 x 316 to 224 x 224.\n",
      "Extract patches: 114.53 seconds\n"
     ]
    },
    {
     "name": "stdout",
     "output_type": "stream",
     "text": [
      "(21797, 1, 224, 224)\n"
     ]
    },
    {
     "name": "stderr",
     "output_type": "stream",
     "text": [
      "Not using image_cache.\n"
     ]
    },
    {
     "name": "stdout",
     "output_type": "stream",
     "text": [
      "(724, 987, 3) (724, 987)\n",
      "aws s3 cp \"/home/yuncong/CSHL_scoremaps/10.0um/ChatCryoJane201710/ChatCryoJane201710_prep2_10.0um_detector999/ChatCryoJane201710_slide4-S2_prep2_10.0um_detector999/ChatCryoJane201710_slide4-S2_prep2_10.0um_detector999_VCA_scoremap.bp\" \"s3://mousebrainatlas-data/CSHL_scoremaps/10.0um/ChatCryoJane201710/ChatCryoJane201710_prep2_10.0um_detector999/ChatCryoJane201710_slide4-S2_prep2_10.0um_detector999/ChatCryoJane201710_slide4-S2_prep2_10.0um_detector999_VCA_scoremap.bp\"\n",
      "aws s3 cp \"/home/yuncong/CSHL_scoremap_viz/10.0um/VCA/ChatCryoJane201710/detector999/prep2/ChatCryoJane201710_slide4-S2_prep2_10.0um_VCA_detector999_scoremapViz.jpg\" \"s3://mousebrainatlas-data/CSHL_scoremap_viz/10.0um/VCA/ChatCryoJane201710/detector999/prep2/ChatCryoJane201710_slide4-S2_prep2_10.0um_VCA_detector999_scoremapViz.jpg\"\n"
     ]
    },
    {
     "name": "stderr",
     "output_type": "stream",
     "text": [
      "locate patches: 0.05 seconds\n",
      "Not using image_cache.\n",
      "Load image: 8.72 seconds.\n",
      "Resize patches from 316 x 316 to 224 x 224.\n",
      "Extract patches: 113.79 seconds\n"
     ]
    },
    {
     "name": "stdout",
     "output_type": "stream",
     "text": [
      "(22017, 1, 224, 224)\n"
     ]
    },
    {
     "name": "stderr",
     "output_type": "stream",
     "text": [
      "Not using image_cache.\n"
     ]
    },
    {
     "name": "stdout",
     "output_type": "stream",
     "text": [
      "(724, 987, 3) (724, 987)\n",
      "aws s3 cp \"/home/yuncong/CSHL_scoremaps/10.0um/ChatCryoJane201710/ChatCryoJane201710_prep2_10.0um_detector999/ChatCryoJane201710_slide3-S3_prep2_10.0um_detector999/ChatCryoJane201710_slide3-S3_prep2_10.0um_detector999_VCA_scoremap.bp\" \"s3://mousebrainatlas-data/CSHL_scoremaps/10.0um/ChatCryoJane201710/ChatCryoJane201710_prep2_10.0um_detector999/ChatCryoJane201710_slide3-S3_prep2_10.0um_detector999/ChatCryoJane201710_slide3-S3_prep2_10.0um_detector999_VCA_scoremap.bp\"\n",
      "aws s3 cp \"/home/yuncong/CSHL_scoremap_viz/10.0um/VCA/ChatCryoJane201710/detector999/prep2/ChatCryoJane201710_slide3-S3_prep2_10.0um_VCA_detector999_scoremapViz.jpg\" \"s3://mousebrainatlas-data/CSHL_scoremap_viz/10.0um/VCA/ChatCryoJane201710/detector999/prep2/ChatCryoJane201710_slide3-S3_prep2_10.0um_VCA_detector999_scoremapViz.jpg\"\n"
     ]
    },
    {
     "name": "stderr",
     "output_type": "stream",
     "text": [
      "locate patches: 0.05 seconds\n",
      "Not using image_cache.\n",
      "Load image: 9.07 seconds.\n",
      "Resize patches from 316 x 316 to 224 x 224.\n",
      "Extract patches: 118.00 seconds\n"
     ]
    },
    {
     "name": "stdout",
     "output_type": "stream",
     "text": [
      "(22249, 1, 224, 224)\n"
     ]
    },
    {
     "name": "stderr",
     "output_type": "stream",
     "text": [
      "Not using image_cache.\n"
     ]
    },
    {
     "name": "stdout",
     "output_type": "stream",
     "text": [
      "(724, 987, 3) (724, 987)\n",
      "aws s3 cp \"/home/yuncong/CSHL_scoremaps/10.0um/ChatCryoJane201710/ChatCryoJane201710_prep2_10.0um_detector999/ChatCryoJane201710_slide4-S3_prep2_10.0um_detector999/ChatCryoJane201710_slide4-S3_prep2_10.0um_detector999_VCA_scoremap.bp\" \"s3://mousebrainatlas-data/CSHL_scoremaps/10.0um/ChatCryoJane201710/ChatCryoJane201710_prep2_10.0um_detector999/ChatCryoJane201710_slide4-S3_prep2_10.0um_detector999/ChatCryoJane201710_slide4-S3_prep2_10.0um_detector999_VCA_scoremap.bp\"\n",
      "aws s3 cp \"/home/yuncong/CSHL_scoremap_viz/10.0um/VCA/ChatCryoJane201710/detector999/prep2/ChatCryoJane201710_slide4-S3_prep2_10.0um_VCA_detector999_scoremapViz.jpg\" \"s3://mousebrainatlas-data/CSHL_scoremap_viz/10.0um/VCA/ChatCryoJane201710/detector999/prep2/ChatCryoJane201710_slide4-S3_prep2_10.0um_VCA_detector999_scoremapViz.jpg\"\n"
     ]
    },
    {
     "name": "stderr",
     "output_type": "stream",
     "text": [
      "locate patches: 0.05 seconds\n",
      "Not using image_cache.\n",
      "Load image: 8.94 seconds.\n",
      "Resize patches from 316 x 316 to 224 x 224.\n",
      "Extract patches: 118.77 seconds\n"
     ]
    },
    {
     "name": "stdout",
     "output_type": "stream",
     "text": [
      "(22510, 1, 224, 224)\n"
     ]
    },
    {
     "name": "stderr",
     "output_type": "stream",
     "text": [
      "Not using image_cache.\n"
     ]
    },
    {
     "name": "stdout",
     "output_type": "stream",
     "text": [
      "(724, 987, 3) (724, 987)\n",
      "aws s3 cp \"/home/yuncong/CSHL_scoremaps/10.0um/ChatCryoJane201710/ChatCryoJane201710_prep2_10.0um_detector999/ChatCryoJane201710_slide5-S1_prep2_10.0um_detector999/ChatCryoJane201710_slide5-S1_prep2_10.0um_detector999_VCA_scoremap.bp\" \"s3://mousebrainatlas-data/CSHL_scoremaps/10.0um/ChatCryoJane201710/ChatCryoJane201710_prep2_10.0um_detector999/ChatCryoJane201710_slide5-S1_prep2_10.0um_detector999/ChatCryoJane201710_slide5-S1_prep2_10.0um_detector999_VCA_scoremap.bp\"\n",
      "aws s3 cp \"/home/yuncong/CSHL_scoremap_viz/10.0um/VCA/ChatCryoJane201710/detector999/prep2/ChatCryoJane201710_slide5-S1_prep2_10.0um_VCA_detector999_scoremapViz.jpg\" \"s3://mousebrainatlas-data/CSHL_scoremap_viz/10.0um/VCA/ChatCryoJane201710/detector999/prep2/ChatCryoJane201710_slide5-S1_prep2_10.0um_VCA_detector999_scoremapViz.jpg\"\n"
     ]
    },
    {
     "name": "stderr",
     "output_type": "stream",
     "text": [
      "locate patches: 0.05 seconds\n",
      "Not using image_cache.\n",
      "Load image: 8.96 seconds.\n",
      "Resize patches from 316 x 316 to 224 x 224.\n",
      "Extract patches: 118.05 seconds\n"
     ]
    },
    {
     "name": "stdout",
     "output_type": "stream",
     "text": [
      "(22818, 1, 224, 224)\n"
     ]
    },
    {
     "name": "stderr",
     "output_type": "stream",
     "text": [
      "Not using image_cache.\n"
     ]
    },
    {
     "name": "stdout",
     "output_type": "stream",
     "text": [
      "(724, 987, 3) (724, 987)\n",
      "aws s3 cp \"/home/yuncong/CSHL_scoremaps/10.0um/ChatCryoJane201710/ChatCryoJane201710_prep2_10.0um_detector999/ChatCryoJane201710_slide6-S1_prep2_10.0um_detector999/ChatCryoJane201710_slide6-S1_prep2_10.0um_detector999_VCA_scoremap.bp\" \"s3://mousebrainatlas-data/CSHL_scoremaps/10.0um/ChatCryoJane201710/ChatCryoJane201710_prep2_10.0um_detector999/ChatCryoJane201710_slide6-S1_prep2_10.0um_detector999/ChatCryoJane201710_slide6-S1_prep2_10.0um_detector999_VCA_scoremap.bp\"\n",
      "aws s3 cp \"/home/yuncong/CSHL_scoremap_viz/10.0um/VCA/ChatCryoJane201710/detector999/prep2/ChatCryoJane201710_slide6-S1_prep2_10.0um_VCA_detector999_scoremapViz.jpg\" \"s3://mousebrainatlas-data/CSHL_scoremap_viz/10.0um/VCA/ChatCryoJane201710/detector999/prep2/ChatCryoJane201710_slide6-S1_prep2_10.0um_VCA_detector999_scoremapViz.jpg\"\n"
     ]
    },
    {
     "name": "stderr",
     "output_type": "stream",
     "text": [
      "locate patches: 0.04 seconds\n",
      "Not using image_cache.\n",
      "Load image: 8.79 seconds.\n",
      "Resize patches from 316 x 316 to 224 x 224.\n",
      "Extract patches: 121.37 seconds\n"
     ]
    },
    {
     "name": "stdout",
     "output_type": "stream",
     "text": [
      "(23091, 1, 224, 224)\n"
     ]
    },
    {
     "name": "stderr",
     "output_type": "stream",
     "text": [
      "Not using image_cache.\n"
     ]
    },
    {
     "name": "stdout",
     "output_type": "stream",
     "text": [
      "(724, 987, 3) (724, 987)\n",
      "aws s3 cp \"/home/yuncong/CSHL_scoremaps/10.0um/ChatCryoJane201710/ChatCryoJane201710_prep2_10.0um_detector999/ChatCryoJane201710_slide5-S2_prep2_10.0um_detector999/ChatCryoJane201710_slide5-S2_prep2_10.0um_detector999_VCA_scoremap.bp\" \"s3://mousebrainatlas-data/CSHL_scoremaps/10.0um/ChatCryoJane201710/ChatCryoJane201710_prep2_10.0um_detector999/ChatCryoJane201710_slide5-S2_prep2_10.0um_detector999/ChatCryoJane201710_slide5-S2_prep2_10.0um_detector999_VCA_scoremap.bp\"\n",
      "aws s3 cp \"/home/yuncong/CSHL_scoremap_viz/10.0um/VCA/ChatCryoJane201710/detector999/prep2/ChatCryoJane201710_slide5-S2_prep2_10.0um_VCA_detector999_scoremapViz.jpg\" \"s3://mousebrainatlas-data/CSHL_scoremap_viz/10.0um/VCA/ChatCryoJane201710/detector999/prep2/ChatCryoJane201710_slide5-S2_prep2_10.0um_VCA_detector999_scoremapViz.jpg\"\n"
     ]
    },
    {
     "name": "stderr",
     "output_type": "stream",
     "text": [
      "locate patches: 0.04 seconds\n",
      "Not using image_cache.\n",
      "Load image: 8.93 seconds.\n",
      "Resize patches from 316 x 316 to 224 x 224.\n",
      "Extract patches: 120.35 seconds\n"
     ]
    },
    {
     "name": "stdout",
     "output_type": "stream",
     "text": [
      "(23292, 1, 224, 224)\n"
     ]
    },
    {
     "name": "stderr",
     "output_type": "stream",
     "text": [
      "Not using image_cache.\n"
     ]
    },
    {
     "name": "stdout",
     "output_type": "stream",
     "text": [
      "(724, 987, 3) (724, 987)\n",
      "aws s3 cp \"/home/yuncong/CSHL_scoremaps/10.0um/ChatCryoJane201710/ChatCryoJane201710_prep2_10.0um_detector999/ChatCryoJane201710_slide6-S2_prep2_10.0um_detector999/ChatCryoJane201710_slide6-S2_prep2_10.0um_detector999_VCA_scoremap.bp\" \"s3://mousebrainatlas-data/CSHL_scoremaps/10.0um/ChatCryoJane201710/ChatCryoJane201710_prep2_10.0um_detector999/ChatCryoJane201710_slide6-S2_prep2_10.0um_detector999/ChatCryoJane201710_slide6-S2_prep2_10.0um_detector999_VCA_scoremap.bp\"\n",
      "aws s3 cp \"/home/yuncong/CSHL_scoremap_viz/10.0um/VCA/ChatCryoJane201710/detector999/prep2/ChatCryoJane201710_slide6-S2_prep2_10.0um_VCA_detector999_scoremapViz.jpg\" \"s3://mousebrainatlas-data/CSHL_scoremap_viz/10.0um/VCA/ChatCryoJane201710/detector999/prep2/ChatCryoJane201710_slide6-S2_prep2_10.0um_VCA_detector999_scoremapViz.jpg\"\n"
     ]
    },
    {
     "name": "stderr",
     "output_type": "stream",
     "text": [
      "locate patches: 0.04 seconds\n",
      "Not using image_cache.\n",
      "Load image: 8.66 seconds.\n",
      "Resize patches from 316 x 316 to 224 x 224.\n",
      "Extract patches: 121.60 seconds\n"
     ]
    },
    {
     "name": "stdout",
     "output_type": "stream",
     "text": [
      "(23526, 1, 224, 224)\n"
     ]
    },
    {
     "name": "stderr",
     "output_type": "stream",
     "text": [
      "Not using image_cache.\n"
     ]
    },
    {
     "name": "stdout",
     "output_type": "stream",
     "text": [
      "(724, 987, 3) (724, 987)\n",
      "aws s3 cp \"/home/yuncong/CSHL_scoremaps/10.0um/ChatCryoJane201710/ChatCryoJane201710_prep2_10.0um_detector999/ChatCryoJane201710_slide5-S3_prep2_10.0um_detector999/ChatCryoJane201710_slide5-S3_prep2_10.0um_detector999_VCA_scoremap.bp\" \"s3://mousebrainatlas-data/CSHL_scoremaps/10.0um/ChatCryoJane201710/ChatCryoJane201710_prep2_10.0um_detector999/ChatCryoJane201710_slide5-S3_prep2_10.0um_detector999/ChatCryoJane201710_slide5-S3_prep2_10.0um_detector999_VCA_scoremap.bp\"\n",
      "aws s3 cp \"/home/yuncong/CSHL_scoremap_viz/10.0um/VCA/ChatCryoJane201710/detector999/prep2/ChatCryoJane201710_slide5-S3_prep2_10.0um_VCA_detector999_scoremapViz.jpg\" \"s3://mousebrainatlas-data/CSHL_scoremap_viz/10.0um/VCA/ChatCryoJane201710/detector999/prep2/ChatCryoJane201710_slide5-S3_prep2_10.0um_VCA_detector999_scoremapViz.jpg\"\n"
     ]
    },
    {
     "name": "stderr",
     "output_type": "stream",
     "text": [
      "locate patches: 0.05 seconds\n",
      "Not using image_cache.\n",
      "Load image: 9.31 seconds.\n",
      "Resize patches from 316 x 316 to 224 x 224.\n",
      "Extract patches: 126.98 seconds\n"
     ]
    },
    {
     "name": "stdout",
     "output_type": "stream",
     "text": [
      "(23894, 1, 224, 224)\n"
     ]
    },
    {
     "name": "stderr",
     "output_type": "stream",
     "text": [
      "Not using image_cache.\n"
     ]
    },
    {
     "name": "stdout",
     "output_type": "stream",
     "text": [
      "(724, 987, 3) (724, 987)\n",
      "aws s3 cp \"/home/yuncong/CSHL_scoremaps/10.0um/ChatCryoJane201710/ChatCryoJane201710_prep2_10.0um_detector999/ChatCryoJane201710_slide6-S3_prep2_10.0um_detector999/ChatCryoJane201710_slide6-S3_prep2_10.0um_detector999_VCA_scoremap.bp\" \"s3://mousebrainatlas-data/CSHL_scoremaps/10.0um/ChatCryoJane201710/ChatCryoJane201710_prep2_10.0um_detector999/ChatCryoJane201710_slide6-S3_prep2_10.0um_detector999/ChatCryoJane201710_slide6-S3_prep2_10.0um_detector999_VCA_scoremap.bp\"\n",
      "aws s3 cp \"/home/yuncong/CSHL_scoremap_viz/10.0um/VCA/ChatCryoJane201710/detector999/prep2/ChatCryoJane201710_slide6-S3_prep2_10.0um_VCA_detector999_scoremapViz.jpg\" \"s3://mousebrainatlas-data/CSHL_scoremap_viz/10.0um/VCA/ChatCryoJane201710/detector999/prep2/ChatCryoJane201710_slide6-S3_prep2_10.0um_VCA_detector999_scoremapViz.jpg\"\n"
     ]
    },
    {
     "name": "stderr",
     "output_type": "stream",
     "text": [
      "locate patches: 0.05 seconds\n",
      "Not using image_cache.\n",
      "Load image: 9.11 seconds.\n",
      "Resize patches from 316 x 316 to 224 x 224.\n",
      "Extract patches: 126.14 seconds\n"
     ]
    },
    {
     "name": "stdout",
     "output_type": "stream",
     "text": [
      "(24053, 1, 224, 224)\n"
     ]
    },
    {
     "name": "stderr",
     "output_type": "stream",
     "text": [
      "Not using image_cache.\n"
     ]
    },
    {
     "name": "stdout",
     "output_type": "stream",
     "text": [
      "(724, 987, 3) (724, 987)\n",
      "aws s3 cp \"/home/yuncong/CSHL_scoremaps/10.0um/ChatCryoJane201710/ChatCryoJane201710_prep2_10.0um_detector999/ChatCryoJane201710_slide7-S1_prep2_10.0um_detector999/ChatCryoJane201710_slide7-S1_prep2_10.0um_detector999_VCA_scoremap.bp\" \"s3://mousebrainatlas-data/CSHL_scoremaps/10.0um/ChatCryoJane201710/ChatCryoJane201710_prep2_10.0um_detector999/ChatCryoJane201710_slide7-S1_prep2_10.0um_detector999/ChatCryoJane201710_slide7-S1_prep2_10.0um_detector999_VCA_scoremap.bp\"\n",
      "aws s3 cp \"/home/yuncong/CSHL_scoremap_viz/10.0um/VCA/ChatCryoJane201710/detector999/prep2/ChatCryoJane201710_slide7-S1_prep2_10.0um_VCA_detector999_scoremapViz.jpg\" \"s3://mousebrainatlas-data/CSHL_scoremap_viz/10.0um/VCA/ChatCryoJane201710/detector999/prep2/ChatCryoJane201710_slide7-S1_prep2_10.0um_VCA_detector999_scoremapViz.jpg\"\n"
     ]
    },
    {
     "name": "stderr",
     "output_type": "stream",
     "text": [
      "locate patches: 0.04 seconds\n",
      "Not using image_cache.\n",
      "Load image: 9.24 seconds.\n",
      "Resize patches from 316 x 316 to 224 x 224.\n",
      "Extract patches: 125.54 seconds\n"
     ]
    },
    {
     "name": "stdout",
     "output_type": "stream",
     "text": [
      "(24224, 1, 224, 224)\n"
     ]
    },
    {
     "name": "stderr",
     "output_type": "stream",
     "text": [
      "Not using image_cache.\n"
     ]
    },
    {
     "name": "stdout",
     "output_type": "stream",
     "text": [
      "(724, 987, 3) (724, 987)\n",
      "aws s3 cp \"/home/yuncong/CSHL_scoremaps/10.0um/ChatCryoJane201710/ChatCryoJane201710_prep2_10.0um_detector999/ChatCryoJane201710_slide8-S1_prep2_10.0um_detector999/ChatCryoJane201710_slide8-S1_prep2_10.0um_detector999_VCA_scoremap.bp\" \"s3://mousebrainatlas-data/CSHL_scoremaps/10.0um/ChatCryoJane201710/ChatCryoJane201710_prep2_10.0um_detector999/ChatCryoJane201710_slide8-S1_prep2_10.0um_detector999/ChatCryoJane201710_slide8-S1_prep2_10.0um_detector999_VCA_scoremap.bp\"\n",
      "aws s3 cp \"/home/yuncong/CSHL_scoremap_viz/10.0um/VCA/ChatCryoJane201710/detector999/prep2/ChatCryoJane201710_slide8-S1_prep2_10.0um_VCA_detector999_scoremapViz.jpg\" \"s3://mousebrainatlas-data/CSHL_scoremap_viz/10.0um/VCA/ChatCryoJane201710/detector999/prep2/ChatCryoJane201710_slide8-S1_prep2_10.0um_VCA_detector999_scoremapViz.jpg\"\n"
     ]
    },
    {
     "name": "stderr",
     "output_type": "stream",
     "text": [
      "locate patches: 0.04 seconds\n",
      "Not using image_cache.\n",
      "Load image: 8.85 seconds.\n",
      "Resize patches from 316 x 316 to 224 x 224.\n",
      "Extract patches: 127.46 seconds\n"
     ]
    },
    {
     "name": "stdout",
     "output_type": "stream",
     "text": [
      "(24409, 1, 224, 224)\n"
     ]
    },
    {
     "name": "stderr",
     "output_type": "stream",
     "text": [
      "Not using image_cache.\n"
     ]
    },
    {
     "name": "stdout",
     "output_type": "stream",
     "text": [
      "(724, 987, 3) (724, 987)\n",
      "aws s3 cp \"/home/yuncong/CSHL_scoremaps/10.0um/ChatCryoJane201710/ChatCryoJane201710_prep2_10.0um_detector999/ChatCryoJane201710_slide7-S2_prep2_10.0um_detector999/ChatCryoJane201710_slide7-S2_prep2_10.0um_detector999_VCA_scoremap.bp\" \"s3://mousebrainatlas-data/CSHL_scoremaps/10.0um/ChatCryoJane201710/ChatCryoJane201710_prep2_10.0um_detector999/ChatCryoJane201710_slide7-S2_prep2_10.0um_detector999/ChatCryoJane201710_slide7-S2_prep2_10.0um_detector999_VCA_scoremap.bp\"\n",
      "aws s3 cp \"/home/yuncong/CSHL_scoremap_viz/10.0um/VCA/ChatCryoJane201710/detector999/prep2/ChatCryoJane201710_slide7-S2_prep2_10.0um_VCA_detector999_scoremapViz.jpg\" \"s3://mousebrainatlas-data/CSHL_scoremap_viz/10.0um/VCA/ChatCryoJane201710/detector999/prep2/ChatCryoJane201710_slide7-S2_prep2_10.0um_VCA_detector999_scoremapViz.jpg\"\n"
     ]
    },
    {
     "name": "stderr",
     "output_type": "stream",
     "text": [
      "locate patches: 0.05 seconds\n",
      "Not using image_cache.\n",
      "Load image: 8.97 seconds.\n",
      "Resize patches from 316 x 316 to 224 x 224.\n",
      "Extract patches: 126.29 seconds\n"
     ]
    },
    {
     "name": "stdout",
     "output_type": "stream",
     "text": [
      "(24611, 1, 224, 224)\n"
     ]
    },
    {
     "name": "stderr",
     "output_type": "stream",
     "text": [
      "Not using image_cache.\n"
     ]
    },
    {
     "name": "stdout",
     "output_type": "stream",
     "text": [
      "(724, 987, 3) (724, 987)\n",
      "aws s3 cp \"/home/yuncong/CSHL_scoremaps/10.0um/ChatCryoJane201710/ChatCryoJane201710_prep2_10.0um_detector999/ChatCryoJane201710_slide8-S2_prep2_10.0um_detector999/ChatCryoJane201710_slide8-S2_prep2_10.0um_detector999_VCA_scoremap.bp\" \"s3://mousebrainatlas-data/CSHL_scoremaps/10.0um/ChatCryoJane201710/ChatCryoJane201710_prep2_10.0um_detector999/ChatCryoJane201710_slide8-S2_prep2_10.0um_detector999/ChatCryoJane201710_slide8-S2_prep2_10.0um_detector999_VCA_scoremap.bp\"\n",
      "aws s3 cp \"/home/yuncong/CSHL_scoremap_viz/10.0um/VCA/ChatCryoJane201710/detector999/prep2/ChatCryoJane201710_slide8-S2_prep2_10.0um_VCA_detector999_scoremapViz.jpg\" \"s3://mousebrainatlas-data/CSHL_scoremap_viz/10.0um/VCA/ChatCryoJane201710/detector999/prep2/ChatCryoJane201710_slide8-S2_prep2_10.0um_VCA_detector999_scoremapViz.jpg\"\n"
     ]
    },
    {
     "name": "stderr",
     "output_type": "stream",
     "text": [
      "locate patches: 0.05 seconds\n",
      "Not using image_cache.\n",
      "Load image: 8.97 seconds.\n",
      "Resize patches from 316 x 316 to 224 x 224.\n",
      "Extract patches: 126.95 seconds\n"
     ]
    },
    {
     "name": "stdout",
     "output_type": "stream",
     "text": [
      "(24763, 1, 224, 224)\n"
     ]
    },
    {
     "name": "stderr",
     "output_type": "stream",
     "text": [
      "Not using image_cache.\n"
     ]
    },
    {
     "name": "stdout",
     "output_type": "stream",
     "text": [
      "(724, 987, 3) (724, 987)\n",
      "aws s3 cp \"/home/yuncong/CSHL_scoremaps/10.0um/ChatCryoJane201710/ChatCryoJane201710_prep2_10.0um_detector999/ChatCryoJane201710_slide7-S3_prep2_10.0um_detector999/ChatCryoJane201710_slide7-S3_prep2_10.0um_detector999_VCA_scoremap.bp\" \"s3://mousebrainatlas-data/CSHL_scoremaps/10.0um/ChatCryoJane201710/ChatCryoJane201710_prep2_10.0um_detector999/ChatCryoJane201710_slide7-S3_prep2_10.0um_detector999/ChatCryoJane201710_slide7-S3_prep2_10.0um_detector999_VCA_scoremap.bp\"\n",
      "aws s3 cp \"/home/yuncong/CSHL_scoremap_viz/10.0um/VCA/ChatCryoJane201710/detector999/prep2/ChatCryoJane201710_slide7-S3_prep2_10.0um_VCA_detector999_scoremapViz.jpg\" \"s3://mousebrainatlas-data/CSHL_scoremap_viz/10.0um/VCA/ChatCryoJane201710/detector999/prep2/ChatCryoJane201710_slide7-S3_prep2_10.0um_VCA_detector999_scoremapViz.jpg\"\n"
     ]
    },
    {
     "name": "stderr",
     "output_type": "stream",
     "text": [
      "locate patches: 0.04 seconds\n",
      "Not using image_cache.\n",
      "Load image: 9.04 seconds.\n",
      "Resize patches from 316 x 316 to 224 x 224.\n",
      "Extract patches: 132.14 seconds\n"
     ]
    },
    {
     "name": "stdout",
     "output_type": "stream",
     "text": [
      "(25034, 1, 224, 224)\n"
     ]
    },
    {
     "name": "stderr",
     "output_type": "stream",
     "text": [
      "Not using image_cache.\n"
     ]
    },
    {
     "name": "stdout",
     "output_type": "stream",
     "text": [
      "(724, 987, 3) (724, 987)\n",
      "aws s3 cp \"/home/yuncong/CSHL_scoremaps/10.0um/ChatCryoJane201710/ChatCryoJane201710_prep2_10.0um_detector999/ChatCryoJane201710_slide8-S3_prep2_10.0um_detector999/ChatCryoJane201710_slide8-S3_prep2_10.0um_detector999_VCA_scoremap.bp\" \"s3://mousebrainatlas-data/CSHL_scoremaps/10.0um/ChatCryoJane201710/ChatCryoJane201710_prep2_10.0um_detector999/ChatCryoJane201710_slide8-S3_prep2_10.0um_detector999/ChatCryoJane201710_slide8-S3_prep2_10.0um_detector999_VCA_scoremap.bp\"\n",
      "aws s3 cp \"/home/yuncong/CSHL_scoremap_viz/10.0um/VCA/ChatCryoJane201710/detector999/prep2/ChatCryoJane201710_slide8-S3_prep2_10.0um_VCA_detector999_scoremapViz.jpg\" \"s3://mousebrainatlas-data/CSHL_scoremap_viz/10.0um/VCA/ChatCryoJane201710/detector999/prep2/ChatCryoJane201710_slide8-S3_prep2_10.0um_VCA_detector999_scoremapViz.jpg\"\n"
     ]
    },
    {
     "name": "stderr",
     "output_type": "stream",
     "text": [
      "locate patches: 0.04 seconds\n",
      "Not using image_cache.\n",
      "Load image: 9.40 seconds.\n",
      "Resize patches from 316 x 316 to 224 x 224.\n",
      "Extract patches: 130.69 seconds\n"
     ]
    },
    {
     "name": "stdout",
     "output_type": "stream",
     "text": [
      "(25326, 1, 224, 224)\n"
     ]
    },
    {
     "name": "stderr",
     "output_type": "stream",
     "text": [
      "Not using image_cache.\n"
     ]
    },
    {
     "name": "stdout",
     "output_type": "stream",
     "text": [
      "(724, 987, 3) (724, 987)\n",
      "aws s3 cp \"/home/yuncong/CSHL_scoremaps/10.0um/ChatCryoJane201710/ChatCryoJane201710_prep2_10.0um_detector999/ChatCryoJane201710_slide9-S1_prep2_10.0um_detector999/ChatCryoJane201710_slide9-S1_prep2_10.0um_detector999_VCA_scoremap.bp\" \"s3://mousebrainatlas-data/CSHL_scoremaps/10.0um/ChatCryoJane201710/ChatCryoJane201710_prep2_10.0um_detector999/ChatCryoJane201710_slide9-S1_prep2_10.0um_detector999/ChatCryoJane201710_slide9-S1_prep2_10.0um_detector999_VCA_scoremap.bp\"\n",
      "aws s3 cp \"/home/yuncong/CSHL_scoremap_viz/10.0um/VCA/ChatCryoJane201710/detector999/prep2/ChatCryoJane201710_slide9-S1_prep2_10.0um_VCA_detector999_scoremapViz.jpg\" \"s3://mousebrainatlas-data/CSHL_scoremap_viz/10.0um/VCA/ChatCryoJane201710/detector999/prep2/ChatCryoJane201710_slide9-S1_prep2_10.0um_VCA_detector999_scoremapViz.jpg\"\n"
     ]
    },
    {
     "name": "stderr",
     "output_type": "stream",
     "text": [
      "locate patches: 0.05 seconds\n",
      "Not using image_cache.\n",
      "Load image: 9.70 seconds.\n",
      "Resize patches from 316 x 316 to 224 x 224.\n",
      "Extract patches: 131.56 seconds\n"
     ]
    },
    {
     "name": "stdout",
     "output_type": "stream",
     "text": [
      "(25425, 1, 224, 224)\n"
     ]
    },
    {
     "name": "stderr",
     "output_type": "stream",
     "text": [
      "Not using image_cache.\n"
     ]
    },
    {
     "name": "stdout",
     "output_type": "stream",
     "text": [
      "(724, 987, 3) (724, 987)\n",
      "aws s3 cp \"/home/yuncong/CSHL_scoremaps/10.0um/ChatCryoJane201710/ChatCryoJane201710_prep2_10.0um_detector999/ChatCryoJane201710_slide10-S1_prep2_10.0um_detector999/ChatCryoJane201710_slide10-S1_prep2_10.0um_detector999_VCA_scoremap.bp\" \"s3://mousebrainatlas-data/CSHL_scoremaps/10.0um/ChatCryoJane201710/ChatCryoJane201710_prep2_10.0um_detector999/ChatCryoJane201710_slide10-S1_prep2_10.0um_detector999/ChatCryoJane201710_slide10-S1_prep2_10.0um_detector999_VCA_scoremap.bp\"\n",
      "aws s3 cp \"/home/yuncong/CSHL_scoremap_viz/10.0um/VCA/ChatCryoJane201710/detector999/prep2/ChatCryoJane201710_slide10-S1_prep2_10.0um_VCA_detector999_scoremapViz.jpg\" \"s3://mousebrainatlas-data/CSHL_scoremap_viz/10.0um/VCA/ChatCryoJane201710/detector999/prep2/ChatCryoJane201710_slide10-S1_prep2_10.0um_VCA_detector999_scoremapViz.jpg\"\n"
     ]
    },
    {
     "name": "stderr",
     "output_type": "stream",
     "text": [
      "locate patches: 0.06 seconds\n",
      "Not using image_cache.\n",
      "Load image: 9.21 seconds.\n",
      "Resize patches from 316 x 316 to 224 x 224.\n",
      "Extract patches: 131.49 seconds\n"
     ]
    },
    {
     "name": "stdout",
     "output_type": "stream",
     "text": [
      "(25630, 1, 224, 224)\n"
     ]
    },
    {
     "name": "stderr",
     "output_type": "stream",
     "text": [
      "Not using image_cache.\n"
     ]
    },
    {
     "name": "stdout",
     "output_type": "stream",
     "text": [
      "(724, 987, 3) (724, 987)\n",
      "aws s3 cp \"/home/yuncong/CSHL_scoremaps/10.0um/ChatCryoJane201710/ChatCryoJane201710_prep2_10.0um_detector999/ChatCryoJane201710_slide9-S2_prep2_10.0um_detector999/ChatCryoJane201710_slide9-S2_prep2_10.0um_detector999_VCA_scoremap.bp\" \"s3://mousebrainatlas-data/CSHL_scoremaps/10.0um/ChatCryoJane201710/ChatCryoJane201710_prep2_10.0um_detector999/ChatCryoJane201710_slide9-S2_prep2_10.0um_detector999/ChatCryoJane201710_slide9-S2_prep2_10.0um_detector999_VCA_scoremap.bp\"\n",
      "aws s3 cp \"/home/yuncong/CSHL_scoremap_viz/10.0um/VCA/ChatCryoJane201710/detector999/prep2/ChatCryoJane201710_slide9-S2_prep2_10.0um_VCA_detector999_scoremapViz.jpg\" \"s3://mousebrainatlas-data/CSHL_scoremap_viz/10.0um/VCA/ChatCryoJane201710/detector999/prep2/ChatCryoJane201710_slide9-S2_prep2_10.0um_VCA_detector999_scoremapViz.jpg\"\n"
     ]
    },
    {
     "name": "stderr",
     "output_type": "stream",
     "text": [
      "locate patches: 0.04 seconds\n",
      "Not using image_cache.\n",
      "Load image: 9.49 seconds.\n",
      "Resize patches from 316 x 316 to 224 x 224.\n",
      "Extract patches: 132.96 seconds\n"
     ]
    },
    {
     "name": "stdout",
     "output_type": "stream",
     "text": [
      "(25817, 1, 224, 224)\n"
     ]
    },
    {
     "name": "stderr",
     "output_type": "stream",
     "text": [
      "Not using image_cache.\n"
     ]
    },
    {
     "name": "stdout",
     "output_type": "stream",
     "text": [
      "(724, 987, 3) (724, 987)\n",
      "aws s3 cp \"/home/yuncong/CSHL_scoremaps/10.0um/ChatCryoJane201710/ChatCryoJane201710_prep2_10.0um_detector999/ChatCryoJane201710_slide10-S2_prep2_10.0um_detector999/ChatCryoJane201710_slide10-S2_prep2_10.0um_detector999_VCA_scoremap.bp\" \"s3://mousebrainatlas-data/CSHL_scoremaps/10.0um/ChatCryoJane201710/ChatCryoJane201710_prep2_10.0um_detector999/ChatCryoJane201710_slide10-S2_prep2_10.0um_detector999/ChatCryoJane201710_slide10-S2_prep2_10.0um_detector999_VCA_scoremap.bp\"\n",
      "aws s3 cp \"/home/yuncong/CSHL_scoremap_viz/10.0um/VCA/ChatCryoJane201710/detector999/prep2/ChatCryoJane201710_slide10-S2_prep2_10.0um_VCA_detector999_scoremapViz.jpg\" \"s3://mousebrainatlas-data/CSHL_scoremap_viz/10.0um/VCA/ChatCryoJane201710/detector999/prep2/ChatCryoJane201710_slide10-S2_prep2_10.0um_VCA_detector999_scoremapViz.jpg\"\n"
     ]
    },
    {
     "name": "stderr",
     "output_type": "stream",
     "text": [
      "locate patches: 0.04 seconds\n",
      "Not using image_cache.\n",
      "Load image: 9.25 seconds.\n",
      "Resize patches from 316 x 316 to 224 x 224.\n",
      "Extract patches: 134.65 seconds\n"
     ]
    },
    {
     "name": "stdout",
     "output_type": "stream",
     "text": [
      "(25951, 1, 224, 224)\n"
     ]
    },
    {
     "name": "stderr",
     "output_type": "stream",
     "text": [
      "Not using image_cache.\n"
     ]
    },
    {
     "name": "stdout",
     "output_type": "stream",
     "text": [
      "(724, 987, 3) (724, 987)\n",
      "aws s3 cp \"/home/yuncong/CSHL_scoremaps/10.0um/ChatCryoJane201710/ChatCryoJane201710_prep2_10.0um_detector999/ChatCryoJane201710_slide9-S3_prep2_10.0um_detector999/ChatCryoJane201710_slide9-S3_prep2_10.0um_detector999_VCA_scoremap.bp\" \"s3://mousebrainatlas-data/CSHL_scoremaps/10.0um/ChatCryoJane201710/ChatCryoJane201710_prep2_10.0um_detector999/ChatCryoJane201710_slide9-S3_prep2_10.0um_detector999/ChatCryoJane201710_slide9-S3_prep2_10.0um_detector999_VCA_scoremap.bp\"\n",
      "aws s3 cp \"/home/yuncong/CSHL_scoremap_viz/10.0um/VCA/ChatCryoJane201710/detector999/prep2/ChatCryoJane201710_slide9-S3_prep2_10.0um_VCA_detector999_scoremapViz.jpg\" \"s3://mousebrainatlas-data/CSHL_scoremap_viz/10.0um/VCA/ChatCryoJane201710/detector999/prep2/ChatCryoJane201710_slide9-S3_prep2_10.0um_VCA_detector999_scoremapViz.jpg\"\n"
     ]
    },
    {
     "name": "stderr",
     "output_type": "stream",
     "text": [
      "locate patches: 0.06 seconds\n",
      "Not using image_cache.\n",
      "Load image: 9.40 seconds.\n",
      "Resize patches from 316 x 316 to 224 x 224.\n",
      "Extract patches: 134.10 seconds\n"
     ]
    },
    {
     "name": "stdout",
     "output_type": "stream",
     "text": [
      "(26127, 1, 224, 224)\n"
     ]
    },
    {
     "name": "stderr",
     "output_type": "stream",
     "text": [
      "Not using image_cache.\n"
     ]
    },
    {
     "name": "stdout",
     "output_type": "stream",
     "text": [
      "(724, 987, 3) (724, 987)\n",
      "aws s3 cp \"/home/yuncong/CSHL_scoremaps/10.0um/ChatCryoJane201710/ChatCryoJane201710_prep2_10.0um_detector999/ChatCryoJane201710_slide10-S3_prep2_10.0um_detector999/ChatCryoJane201710_slide10-S3_prep2_10.0um_detector999_VCA_scoremap.bp\" \"s3://mousebrainatlas-data/CSHL_scoremaps/10.0um/ChatCryoJane201710/ChatCryoJane201710_prep2_10.0um_detector999/ChatCryoJane201710_slide10-S3_prep2_10.0um_detector999/ChatCryoJane201710_slide10-S3_prep2_10.0um_detector999_VCA_scoremap.bp\"\n",
      "aws s3 cp \"/home/yuncong/CSHL_scoremap_viz/10.0um/VCA/ChatCryoJane201710/detector999/prep2/ChatCryoJane201710_slide10-S3_prep2_10.0um_VCA_detector999_scoremapViz.jpg\" \"s3://mousebrainatlas-data/CSHL_scoremap_viz/10.0um/VCA/ChatCryoJane201710/detector999/prep2/ChatCryoJane201710_slide10-S3_prep2_10.0um_VCA_detector999_scoremapViz.jpg\"\n"
     ]
    },
    {
     "name": "stderr",
     "output_type": "stream",
     "text": [
      "locate patches: 0.05 seconds\n",
      "Not using image_cache.\n",
      "Load image: 9.61 seconds.\n",
      "Resize patches from 316 x 316 to 224 x 224.\n",
      "Extract patches: 129.48 seconds\n"
     ]
    },
    {
     "name": "stdout",
     "output_type": "stream",
     "text": [
      "(25082, 1, 224, 224)\n"
     ]
    },
    {
     "name": "stderr",
     "output_type": "stream",
     "text": [
      "Not using image_cache.\n"
     ]
    },
    {
     "name": "stdout",
     "output_type": "stream",
     "text": [
      "(724, 987, 3) (724, 987)\n",
      "aws s3 cp \"/home/yuncong/CSHL_scoremaps/10.0um/ChatCryoJane201710/ChatCryoJane201710_prep2_10.0um_detector999/ChatCryoJane201710_slide11-S1_prep2_10.0um_detector999/ChatCryoJane201710_slide11-S1_prep2_10.0um_detector999_VCA_scoremap.bp\" \"s3://mousebrainatlas-data/CSHL_scoremaps/10.0um/ChatCryoJane201710/ChatCryoJane201710_prep2_10.0um_detector999/ChatCryoJane201710_slide11-S1_prep2_10.0um_detector999/ChatCryoJane201710_slide11-S1_prep2_10.0um_detector999_VCA_scoremap.bp\"\n",
      "aws s3 cp \"/home/yuncong/CSHL_scoremap_viz/10.0um/VCA/ChatCryoJane201710/detector999/prep2/ChatCryoJane201710_slide11-S1_prep2_10.0um_VCA_detector999_scoremapViz.jpg\" \"s3://mousebrainatlas-data/CSHL_scoremap_viz/10.0um/VCA/ChatCryoJane201710/detector999/prep2/ChatCryoJane201710_slide11-S1_prep2_10.0um_VCA_detector999_scoremapViz.jpg\"\n"
     ]
    },
    {
     "name": "stderr",
     "output_type": "stream",
     "text": [
      "locate patches: 0.04 seconds\n",
      "Not using image_cache.\n",
      "Load image: 9.96 seconds.\n",
      "Resize patches from 316 x 316 to 224 x 224.\n",
      "Extract patches: 136.84 seconds\n"
     ]
    },
    {
     "name": "stdout",
     "output_type": "stream",
     "text": [
      "(26494, 1, 224, 224)\n"
     ]
    },
    {
     "name": "stderr",
     "output_type": "stream",
     "text": [
      "Not using image_cache.\n"
     ]
    },
    {
     "name": "stdout",
     "output_type": "stream",
     "text": [
      "(724, 987, 3) (724, 987)\n",
      "aws s3 cp \"/home/yuncong/CSHL_scoremaps/10.0um/ChatCryoJane201710/ChatCryoJane201710_prep2_10.0um_detector999/ChatCryoJane201710_slide12-S1_prep2_10.0um_detector999/ChatCryoJane201710_slide12-S1_prep2_10.0um_detector999_VCA_scoremap.bp\" \"s3://mousebrainatlas-data/CSHL_scoremaps/10.0um/ChatCryoJane201710/ChatCryoJane201710_prep2_10.0um_detector999/ChatCryoJane201710_slide12-S1_prep2_10.0um_detector999/ChatCryoJane201710_slide12-S1_prep2_10.0um_detector999_VCA_scoremap.bp\"\n",
      "aws s3 cp \"/home/yuncong/CSHL_scoremap_viz/10.0um/VCA/ChatCryoJane201710/detector999/prep2/ChatCryoJane201710_slide12-S1_prep2_10.0um_VCA_detector999_scoremapViz.jpg\" \"s3://mousebrainatlas-data/CSHL_scoremap_viz/10.0um/VCA/ChatCryoJane201710/detector999/prep2/ChatCryoJane201710_slide12-S1_prep2_10.0um_VCA_detector999_scoremapViz.jpg\"\n"
     ]
    },
    {
     "name": "stderr",
     "output_type": "stream",
     "text": [
      "locate patches: 0.05 seconds\n",
      "Not using image_cache.\n",
      "Load image: 9.93 seconds.\n",
      "Resize patches from 316 x 316 to 224 x 224.\n",
      "Extract patches: 137.91 seconds\n"
     ]
    },
    {
     "name": "stdout",
     "output_type": "stream",
     "text": [
      "(26670, 1, 224, 224)\n"
     ]
    },
    {
     "name": "stderr",
     "output_type": "stream",
     "text": [
      "Not using image_cache.\n"
     ]
    },
    {
     "name": "stdout",
     "output_type": "stream",
     "text": [
      "(724, 987, 3) (724, 987)\n",
      "aws s3 cp \"/home/yuncong/CSHL_scoremaps/10.0um/ChatCryoJane201710/ChatCryoJane201710_prep2_10.0um_detector999/ChatCryoJane201710_slide11-S2_prep2_10.0um_detector999/ChatCryoJane201710_slide11-S2_prep2_10.0um_detector999_VCA_scoremap.bp\" \"s3://mousebrainatlas-data/CSHL_scoremaps/10.0um/ChatCryoJane201710/ChatCryoJane201710_prep2_10.0um_detector999/ChatCryoJane201710_slide11-S2_prep2_10.0um_detector999/ChatCryoJane201710_slide11-S2_prep2_10.0um_detector999_VCA_scoremap.bp\"\n",
      "aws s3 cp \"/home/yuncong/CSHL_scoremap_viz/10.0um/VCA/ChatCryoJane201710/detector999/prep2/ChatCryoJane201710_slide11-S2_prep2_10.0um_VCA_detector999_scoremapViz.jpg\" \"s3://mousebrainatlas-data/CSHL_scoremap_viz/10.0um/VCA/ChatCryoJane201710/detector999/prep2/ChatCryoJane201710_slide11-S2_prep2_10.0um_VCA_detector999_scoremapViz.jpg\"\n"
     ]
    },
    {
     "name": "stderr",
     "output_type": "stream",
     "text": [
      "locate patches: 0.05 seconds\n",
      "Not using image_cache.\n",
      "Load image: 10.02 seconds.\n",
      "Resize patches from 316 x 316 to 224 x 224.\n",
      "Extract patches: 138.29 seconds\n"
     ]
    },
    {
     "name": "stdout",
     "output_type": "stream",
     "text": [
      "(26786, 1, 224, 224)\n"
     ]
    },
    {
     "name": "stderr",
     "output_type": "stream",
     "text": [
      "Not using image_cache.\n"
     ]
    },
    {
     "name": "stdout",
     "output_type": "stream",
     "text": [
      "(724, 987, 3) (724, 987)\n",
      "aws s3 cp \"/home/yuncong/CSHL_scoremaps/10.0um/ChatCryoJane201710/ChatCryoJane201710_prep2_10.0um_detector999/ChatCryoJane201710_slide12-S2_prep2_10.0um_detector999/ChatCryoJane201710_slide12-S2_prep2_10.0um_detector999_VCA_scoremap.bp\" \"s3://mousebrainatlas-data/CSHL_scoremaps/10.0um/ChatCryoJane201710/ChatCryoJane201710_prep2_10.0um_detector999/ChatCryoJane201710_slide12-S2_prep2_10.0um_detector999/ChatCryoJane201710_slide12-S2_prep2_10.0um_detector999_VCA_scoremap.bp\"\n",
      "aws s3 cp \"/home/yuncong/CSHL_scoremap_viz/10.0um/VCA/ChatCryoJane201710/detector999/prep2/ChatCryoJane201710_slide12-S2_prep2_10.0um_VCA_detector999_scoremapViz.jpg\" \"s3://mousebrainatlas-data/CSHL_scoremap_viz/10.0um/VCA/ChatCryoJane201710/detector999/prep2/ChatCryoJane201710_slide12-S2_prep2_10.0um_VCA_detector999_scoremapViz.jpg\"\n"
     ]
    },
    {
     "name": "stderr",
     "output_type": "stream",
     "text": [
      "locate patches: 0.04 seconds\n",
      "Not using image_cache.\n",
      "Load image: 9.73 seconds.\n",
      "Resize patches from 316 x 316 to 224 x 224.\n",
      "Extract patches: 141.39 seconds\n"
     ]
    },
    {
     "name": "stdout",
     "output_type": "stream",
     "text": [
      "(26941, 1, 224, 224)\n"
     ]
    },
    {
     "name": "stderr",
     "output_type": "stream",
     "text": [
      "Not using image_cache.\n"
     ]
    },
    {
     "name": "stdout",
     "output_type": "stream",
     "text": [
      "(724, 987, 3) (724, 987)\n",
      "aws s3 cp \"/home/yuncong/CSHL_scoremaps/10.0um/ChatCryoJane201710/ChatCryoJane201710_prep2_10.0um_detector999/ChatCryoJane201710_slide11-S3_prep2_10.0um_detector999/ChatCryoJane201710_slide11-S3_prep2_10.0um_detector999_VCA_scoremap.bp\" \"s3://mousebrainatlas-data/CSHL_scoremaps/10.0um/ChatCryoJane201710/ChatCryoJane201710_prep2_10.0um_detector999/ChatCryoJane201710_slide11-S3_prep2_10.0um_detector999/ChatCryoJane201710_slide11-S3_prep2_10.0um_detector999_VCA_scoremap.bp\"\n",
      "aws s3 cp \"/home/yuncong/CSHL_scoremap_viz/10.0um/VCA/ChatCryoJane201710/detector999/prep2/ChatCryoJane201710_slide11-S3_prep2_10.0um_VCA_detector999_scoremapViz.jpg\" \"s3://mousebrainatlas-data/CSHL_scoremap_viz/10.0um/VCA/ChatCryoJane201710/detector999/prep2/ChatCryoJane201710_slide11-S3_prep2_10.0um_VCA_detector999_scoremapViz.jpg\"\n"
     ]
    },
    {
     "name": "stderr",
     "output_type": "stream",
     "text": [
      "locate patches: 0.05 seconds\n",
      "Not using image_cache.\n",
      "Load image: 10.19 seconds.\n",
      "Resize patches from 316 x 316 to 224 x 224.\n",
      "Extract patches: 140.66 seconds\n"
     ]
    },
    {
     "name": "stdout",
     "output_type": "stream",
     "text": [
      "(27120, 1, 224, 224)\n"
     ]
    },
    {
     "name": "stderr",
     "output_type": "stream",
     "text": [
      "Not using image_cache.\n"
     ]
    },
    {
     "name": "stdout",
     "output_type": "stream",
     "text": [
      "(724, 987, 3) (724, 987)\n",
      "aws s3 cp \"/home/yuncong/CSHL_scoremaps/10.0um/ChatCryoJane201710/ChatCryoJane201710_prep2_10.0um_detector999/ChatCryoJane201710_slide12-S3_prep2_10.0um_detector999/ChatCryoJane201710_slide12-S3_prep2_10.0um_detector999_VCA_scoremap.bp\" \"s3://mousebrainatlas-data/CSHL_scoremaps/10.0um/ChatCryoJane201710/ChatCryoJane201710_prep2_10.0um_detector999/ChatCryoJane201710_slide12-S3_prep2_10.0um_detector999/ChatCryoJane201710_slide12-S3_prep2_10.0um_detector999_VCA_scoremap.bp\"\n",
      "aws s3 cp \"/home/yuncong/CSHL_scoremap_viz/10.0um/VCA/ChatCryoJane201710/detector999/prep2/ChatCryoJane201710_slide12-S3_prep2_10.0um_VCA_detector999_scoremapViz.jpg\" \"s3://mousebrainatlas-data/CSHL_scoremap_viz/10.0um/VCA/ChatCryoJane201710/detector999/prep2/ChatCryoJane201710_slide12-S3_prep2_10.0um_VCA_detector999_scoremapViz.jpg\"\n"
     ]
    },
    {
     "name": "stderr",
     "output_type": "stream",
     "text": [
      "locate patches: 0.05 seconds\n",
      "Not using image_cache.\n",
      "Load image: 9.46 seconds.\n",
      "Resize patches from 316 x 316 to 224 x 224.\n",
      "Extract patches: 137.65 seconds\n"
     ]
    },
    {
     "name": "stdout",
     "output_type": "stream",
     "text": [
      "(26872, 1, 224, 224)\n"
     ]
    },
    {
     "name": "stderr",
     "output_type": "stream",
     "text": [
      "Not using image_cache.\n"
     ]
    },
    {
     "name": "stdout",
     "output_type": "stream",
     "text": [
      "(724, 987, 3) (724, 987)\n",
      "aws s3 cp \"/home/yuncong/CSHL_scoremaps/10.0um/ChatCryoJane201710/ChatCryoJane201710_prep2_10.0um_detector999/ChatCryoJane201710_slide13-S1_prep2_10.0um_detector999/ChatCryoJane201710_slide13-S1_prep2_10.0um_detector999_VCA_scoremap.bp\" \"s3://mousebrainatlas-data/CSHL_scoremaps/10.0um/ChatCryoJane201710/ChatCryoJane201710_prep2_10.0um_detector999/ChatCryoJane201710_slide13-S1_prep2_10.0um_detector999/ChatCryoJane201710_slide13-S1_prep2_10.0um_detector999_VCA_scoremap.bp\"\n",
      "aws s3 cp \"/home/yuncong/CSHL_scoremap_viz/10.0um/VCA/ChatCryoJane201710/detector999/prep2/ChatCryoJane201710_slide13-S1_prep2_10.0um_VCA_detector999_scoremapViz.jpg\" \"s3://mousebrainatlas-data/CSHL_scoremap_viz/10.0um/VCA/ChatCryoJane201710/detector999/prep2/ChatCryoJane201710_slide13-S1_prep2_10.0um_VCA_detector999_scoremapViz.jpg\"\n"
     ]
    },
    {
     "name": "stderr",
     "output_type": "stream",
     "text": [
      "locate patches: 0.06 seconds\n",
      "Not using image_cache.\n",
      "Load image: 9.73 seconds.\n",
      "Resize patches from 316 x 316 to 224 x 224.\n",
      "Extract patches: 144.38 seconds\n"
     ]
    },
    {
     "name": "stdout",
     "output_type": "stream",
     "text": [
      "(27211, 1, 224, 224)\n"
     ]
    },
    {
     "name": "stderr",
     "output_type": "stream",
     "text": [
      "Not using image_cache.\n"
     ]
    },
    {
     "name": "stdout",
     "output_type": "stream",
     "text": [
      "(724, 987, 3) (724, 987)\n",
      "aws s3 cp \"/home/yuncong/CSHL_scoremaps/10.0um/ChatCryoJane201710/ChatCryoJane201710_prep2_10.0um_detector999/ChatCryoJane201710_slide14-S1_prep2_10.0um_detector999/ChatCryoJane201710_slide14-S1_prep2_10.0um_detector999_VCA_scoremap.bp\" \"s3://mousebrainatlas-data/CSHL_scoremaps/10.0um/ChatCryoJane201710/ChatCryoJane201710_prep2_10.0um_detector999/ChatCryoJane201710_slide14-S1_prep2_10.0um_detector999/ChatCryoJane201710_slide14-S1_prep2_10.0um_detector999_VCA_scoremap.bp\"\n",
      "aws s3 cp \"/home/yuncong/CSHL_scoremap_viz/10.0um/VCA/ChatCryoJane201710/detector999/prep2/ChatCryoJane201710_slide14-S1_prep2_10.0um_VCA_detector999_scoremapViz.jpg\" \"s3://mousebrainatlas-data/CSHL_scoremap_viz/10.0um/VCA/ChatCryoJane201710/detector999/prep2/ChatCryoJane201710_slide14-S1_prep2_10.0um_VCA_detector999_scoremapViz.jpg\"\n"
     ]
    },
    {
     "name": "stderr",
     "output_type": "stream",
     "text": [
      "locate patches: 0.05 seconds\n",
      "Not using image_cache.\n",
      "Load image: 10.09 seconds.\n",
      "Resize patches from 316 x 316 to 224 x 224.\n",
      "Extract patches: 143.31 seconds\n"
     ]
    },
    {
     "name": "stdout",
     "output_type": "stream",
     "text": [
      "(27529, 1, 224, 224)\n"
     ]
    },
    {
     "name": "stderr",
     "output_type": "stream",
     "text": [
      "Not using image_cache.\n"
     ]
    },
    {
     "name": "stdout",
     "output_type": "stream",
     "text": [
      "(724, 987, 3) (724, 987)\n",
      "aws s3 cp \"/home/yuncong/CSHL_scoremaps/10.0um/ChatCryoJane201710/ChatCryoJane201710_prep2_10.0um_detector999/ChatCryoJane201710_slide13-S2_prep2_10.0um_detector999/ChatCryoJane201710_slide13-S2_prep2_10.0um_detector999_VCA_scoremap.bp\" \"s3://mousebrainatlas-data/CSHL_scoremaps/10.0um/ChatCryoJane201710/ChatCryoJane201710_prep2_10.0um_detector999/ChatCryoJane201710_slide13-S2_prep2_10.0um_detector999/ChatCryoJane201710_slide13-S2_prep2_10.0um_detector999_VCA_scoremap.bp\"\n",
      "aws s3 cp \"/home/yuncong/CSHL_scoremap_viz/10.0um/VCA/ChatCryoJane201710/detector999/prep2/ChatCryoJane201710_slide13-S2_prep2_10.0um_VCA_detector999_scoremapViz.jpg\" \"s3://mousebrainatlas-data/CSHL_scoremap_viz/10.0um/VCA/ChatCryoJane201710/detector999/prep2/ChatCryoJane201710_slide13-S2_prep2_10.0um_VCA_detector999_scoremapViz.jpg\"\n"
     ]
    },
    {
     "name": "stderr",
     "output_type": "stream",
     "text": [
      "locate patches: 0.05 seconds\n",
      "Not using image_cache.\n",
      "Load image: 9.70 seconds.\n",
      "Resize patches from 316 x 316 to 224 x 224.\n",
      "Extract patches: 141.97 seconds\n"
     ]
    },
    {
     "name": "stdout",
     "output_type": "stream",
     "text": [
      "(27583, 1, 224, 224)\n"
     ]
    },
    {
     "name": "stderr",
     "output_type": "stream",
     "text": [
      "Not using image_cache.\n"
     ]
    },
    {
     "name": "stdout",
     "output_type": "stream",
     "text": [
      "(724, 987, 3) (724, 987)\n",
      "aws s3 cp \"/home/yuncong/CSHL_scoremaps/10.0um/ChatCryoJane201710/ChatCryoJane201710_prep2_10.0um_detector999/ChatCryoJane201710_slide14-S2_prep2_10.0um_detector999/ChatCryoJane201710_slide14-S2_prep2_10.0um_detector999_VCA_scoremap.bp\" \"s3://mousebrainatlas-data/CSHL_scoremaps/10.0um/ChatCryoJane201710/ChatCryoJane201710_prep2_10.0um_detector999/ChatCryoJane201710_slide14-S2_prep2_10.0um_detector999/ChatCryoJane201710_slide14-S2_prep2_10.0um_detector999_VCA_scoremap.bp\"\n",
      "aws s3 cp \"/home/yuncong/CSHL_scoremap_viz/10.0um/VCA/ChatCryoJane201710/detector999/prep2/ChatCryoJane201710_slide14-S2_prep2_10.0um_VCA_detector999_scoremapViz.jpg\" \"s3://mousebrainatlas-data/CSHL_scoremap_viz/10.0um/VCA/ChatCryoJane201710/detector999/prep2/ChatCryoJane201710_slide14-S2_prep2_10.0um_VCA_detector999_scoremapViz.jpg\"\n"
     ]
    },
    {
     "name": "stderr",
     "output_type": "stream",
     "text": [
      "locate patches: 0.05 seconds\n",
      "Not using image_cache.\n",
      "Load image: 9.83 seconds.\n",
      "Resize patches from 316 x 316 to 224 x 224.\n",
      "Extract patches: 146.29 seconds\n"
     ]
    },
    {
     "name": "stdout",
     "output_type": "stream",
     "text": [
      "(27940, 1, 224, 224)\n"
     ]
    },
    {
     "name": "stderr",
     "output_type": "stream",
     "text": [
      "Not using image_cache.\n"
     ]
    },
    {
     "name": "stdout",
     "output_type": "stream",
     "text": [
      "(724, 987, 3) (724, 987)\n",
      "aws s3 cp \"/home/yuncong/CSHL_scoremaps/10.0um/ChatCryoJane201710/ChatCryoJane201710_prep2_10.0um_detector999/ChatCryoJane201710_slide13-S3_prep2_10.0um_detector999/ChatCryoJane201710_slide13-S3_prep2_10.0um_detector999_VCA_scoremap.bp\" \"s3://mousebrainatlas-data/CSHL_scoremaps/10.0um/ChatCryoJane201710/ChatCryoJane201710_prep2_10.0um_detector999/ChatCryoJane201710_slide13-S3_prep2_10.0um_detector999/ChatCryoJane201710_slide13-S3_prep2_10.0um_detector999_VCA_scoremap.bp\"\n",
      "aws s3 cp \"/home/yuncong/CSHL_scoremap_viz/10.0um/VCA/ChatCryoJane201710/detector999/prep2/ChatCryoJane201710_slide13-S3_prep2_10.0um_VCA_detector999_scoremapViz.jpg\" \"s3://mousebrainatlas-data/CSHL_scoremap_viz/10.0um/VCA/ChatCryoJane201710/detector999/prep2/ChatCryoJane201710_slide13-S3_prep2_10.0um_VCA_detector999_scoremapViz.jpg\"\n"
     ]
    },
    {
     "name": "stderr",
     "output_type": "stream",
     "text": [
      "locate patches: 0.05 seconds\n",
      "Not using image_cache.\n",
      "Load image: 10.12 seconds.\n",
      "Resize patches from 316 x 316 to 224 x 224.\n",
      "Extract patches: 143.82 seconds\n"
     ]
    },
    {
     "name": "stdout",
     "output_type": "stream",
     "text": [
      "(27423, 1, 224, 224)\n"
     ]
    },
    {
     "name": "stderr",
     "output_type": "stream",
     "text": [
      "Not using image_cache.\n"
     ]
    },
    {
     "name": "stdout",
     "output_type": "stream",
     "text": [
      "(724, 987, 3) (724, 987)\n",
      "aws s3 cp \"/home/yuncong/CSHL_scoremaps/10.0um/ChatCryoJane201710/ChatCryoJane201710_prep2_10.0um_detector999/ChatCryoJane201710_slide14-S3_prep2_10.0um_detector999/ChatCryoJane201710_slide14-S3_prep2_10.0um_detector999_VCA_scoremap.bp\" \"s3://mousebrainatlas-data/CSHL_scoremaps/10.0um/ChatCryoJane201710/ChatCryoJane201710_prep2_10.0um_detector999/ChatCryoJane201710_slide14-S3_prep2_10.0um_detector999/ChatCryoJane201710_slide14-S3_prep2_10.0um_detector999_VCA_scoremap.bp\"\n",
      "aws s3 cp \"/home/yuncong/CSHL_scoremap_viz/10.0um/VCA/ChatCryoJane201710/detector999/prep2/ChatCryoJane201710_slide14-S3_prep2_10.0um_VCA_detector999_scoremapViz.jpg\" \"s3://mousebrainatlas-data/CSHL_scoremap_viz/10.0um/VCA/ChatCryoJane201710/detector999/prep2/ChatCryoJane201710_slide14-S3_prep2_10.0um_VCA_detector999_scoremapViz.jpg\"\n"
     ]
    },
    {
     "name": "stderr",
     "output_type": "stream",
     "text": [
      "locate patches: 0.05 seconds\n",
      "Not using image_cache.\n",
      "Load image: 10.52 seconds.\n",
      "Resize patches from 316 x 316 to 224 x 224.\n",
      "Extract patches: 144.32 seconds\n"
     ]
    },
    {
     "name": "stdout",
     "output_type": "stream",
     "text": [
      "(28102, 1, 224, 224)\n"
     ]
    },
    {
     "name": "stderr",
     "output_type": "stream",
     "text": [
      "Not using image_cache.\n"
     ]
    },
    {
     "name": "stdout",
     "output_type": "stream",
     "text": [
      "(724, 987, 3) (724, 987)\n",
      "aws s3 cp \"/home/yuncong/CSHL_scoremaps/10.0um/ChatCryoJane201710/ChatCryoJane201710_prep2_10.0um_detector999/ChatCryoJane201710_slide15-S1_prep2_10.0um_detector999/ChatCryoJane201710_slide15-S1_prep2_10.0um_detector999_VCA_scoremap.bp\" \"s3://mousebrainatlas-data/CSHL_scoremaps/10.0um/ChatCryoJane201710/ChatCryoJane201710_prep2_10.0um_detector999/ChatCryoJane201710_slide15-S1_prep2_10.0um_detector999/ChatCryoJane201710_slide15-S1_prep2_10.0um_detector999_VCA_scoremap.bp\"\n",
      "aws s3 cp \"/home/yuncong/CSHL_scoremap_viz/10.0um/VCA/ChatCryoJane201710/detector999/prep2/ChatCryoJane201710_slide15-S1_prep2_10.0um_VCA_detector999_scoremapViz.jpg\" \"s3://mousebrainatlas-data/CSHL_scoremap_viz/10.0um/VCA/ChatCryoJane201710/detector999/prep2/ChatCryoJane201710_slide15-S1_prep2_10.0um_VCA_detector999_scoremapViz.jpg\"\n"
     ]
    },
    {
     "name": "stderr",
     "output_type": "stream",
     "text": [
      "locate patches: 0.05 seconds\n",
      "Not using image_cache.\n",
      "Load image: 10.05 seconds.\n",
      "Resize patches from 316 x 316 to 224 x 224.\n",
      "Extract patches: 148.01 seconds\n"
     ]
    },
    {
     "name": "stdout",
     "output_type": "stream",
     "text": [
      "(28107, 1, 224, 224)\n"
     ]
    },
    {
     "name": "stderr",
     "output_type": "stream",
     "text": [
      "Not using image_cache.\n"
     ]
    },
    {
     "name": "stdout",
     "output_type": "stream",
     "text": [
      "(724, 987, 3) (724, 987)\n",
      "aws s3 cp \"/home/yuncong/CSHL_scoremaps/10.0um/ChatCryoJane201710/ChatCryoJane201710_prep2_10.0um_detector999/ChatCryoJane201710_slide16-S1_prep2_10.0um_detector999/ChatCryoJane201710_slide16-S1_prep2_10.0um_detector999_VCA_scoremap.bp\" \"s3://mousebrainatlas-data/CSHL_scoremaps/10.0um/ChatCryoJane201710/ChatCryoJane201710_prep2_10.0um_detector999/ChatCryoJane201710_slide16-S1_prep2_10.0um_detector999/ChatCryoJane201710_slide16-S1_prep2_10.0um_detector999_VCA_scoremap.bp\"\n",
      "aws s3 cp \"/home/yuncong/CSHL_scoremap_viz/10.0um/VCA/ChatCryoJane201710/detector999/prep2/ChatCryoJane201710_slide16-S1_prep2_10.0um_VCA_detector999_scoremapViz.jpg\" \"s3://mousebrainatlas-data/CSHL_scoremap_viz/10.0um/VCA/ChatCryoJane201710/detector999/prep2/ChatCryoJane201710_slide16-S1_prep2_10.0um_VCA_detector999_scoremapViz.jpg\"\n"
     ]
    },
    {
     "name": "stderr",
     "output_type": "stream",
     "text": [
      "locate patches: 0.05 seconds\n",
      "Not using image_cache.\n",
      "Load image: 10.15 seconds.\n",
      "Resize patches from 316 x 316 to 224 x 224.\n",
      "Extract patches: 145.79 seconds\n"
     ]
    },
    {
     "name": "stdout",
     "output_type": "stream",
     "text": [
      "(28333, 1, 224, 224)\n"
     ]
    },
    {
     "name": "stderr",
     "output_type": "stream",
     "text": [
      "Not using image_cache.\n"
     ]
    },
    {
     "name": "stdout",
     "output_type": "stream",
     "text": [
      "(724, 987, 3) (724, 987)\n",
      "aws s3 cp \"/home/yuncong/CSHL_scoremaps/10.0um/ChatCryoJane201710/ChatCryoJane201710_prep2_10.0um_detector999/ChatCryoJane201710_slide15-S2_prep2_10.0um_detector999/ChatCryoJane201710_slide15-S2_prep2_10.0um_detector999_VCA_scoremap.bp\" \"s3://mousebrainatlas-data/CSHL_scoremaps/10.0um/ChatCryoJane201710/ChatCryoJane201710_prep2_10.0um_detector999/ChatCryoJane201710_slide15-S2_prep2_10.0um_detector999/ChatCryoJane201710_slide15-S2_prep2_10.0um_detector999_VCA_scoremap.bp\"\n",
      "aws s3 cp \"/home/yuncong/CSHL_scoremap_viz/10.0um/VCA/ChatCryoJane201710/detector999/prep2/ChatCryoJane201710_slide15-S2_prep2_10.0um_VCA_detector999_scoremapViz.jpg\" \"s3://mousebrainatlas-data/CSHL_scoremap_viz/10.0um/VCA/ChatCryoJane201710/detector999/prep2/ChatCryoJane201710_slide15-S2_prep2_10.0um_VCA_detector999_scoremapViz.jpg\"\n"
     ]
    },
    {
     "name": "stderr",
     "output_type": "stream",
     "text": [
      "locate patches: 0.06 seconds\n",
      "Not using image_cache.\n",
      "Load image: 10.20 seconds.\n",
      "Resize patches from 316 x 316 to 224 x 224.\n",
      "Extract patches: 151.79 seconds\n"
     ]
    },
    {
     "name": "stdout",
     "output_type": "stream",
     "text": [
      "(29024, 1, 224, 224)\n"
     ]
    },
    {
     "name": "stderr",
     "output_type": "stream",
     "text": [
      "Not using image_cache.\n"
     ]
    },
    {
     "name": "stdout",
     "output_type": "stream",
     "text": [
      "(724, 987, 3) (724, 987)\n",
      "aws s3 cp \"/home/yuncong/CSHL_scoremaps/10.0um/ChatCryoJane201710/ChatCryoJane201710_prep2_10.0um_detector999/ChatCryoJane201710_slide16-S2_prep2_10.0um_detector999/ChatCryoJane201710_slide16-S2_prep2_10.0um_detector999_VCA_scoremap.bp\" \"s3://mousebrainatlas-data/CSHL_scoremaps/10.0um/ChatCryoJane201710/ChatCryoJane201710_prep2_10.0um_detector999/ChatCryoJane201710_slide16-S2_prep2_10.0um_detector999/ChatCryoJane201710_slide16-S2_prep2_10.0um_detector999_VCA_scoremap.bp\"\n",
      "aws s3 cp \"/home/yuncong/CSHL_scoremap_viz/10.0um/VCA/ChatCryoJane201710/detector999/prep2/ChatCryoJane201710_slide16-S2_prep2_10.0um_VCA_detector999_scoremapViz.jpg\" \"s3://mousebrainatlas-data/CSHL_scoremap_viz/10.0um/VCA/ChatCryoJane201710/detector999/prep2/ChatCryoJane201710_slide16-S2_prep2_10.0um_VCA_detector999_scoremapViz.jpg\"\n"
     ]
    },
    {
     "name": "stderr",
     "output_type": "stream",
     "text": [
      "locate patches: 0.04 seconds\n",
      "Not using image_cache.\n",
      "Load image: 10.04 seconds.\n",
      "Resize patches from 316 x 316 to 224 x 224.\n",
      "Extract patches: 147.90 seconds\n"
     ]
    },
    {
     "name": "stdout",
     "output_type": "stream",
     "text": [
      "(28879, 1, 224, 224)\n"
     ]
    },
    {
     "name": "stderr",
     "output_type": "stream",
     "text": [
      "Not using image_cache.\n"
     ]
    },
    {
     "name": "stdout",
     "output_type": "stream",
     "text": [
      "(724, 987, 3) (724, 987)\n",
      "aws s3 cp \"/home/yuncong/CSHL_scoremaps/10.0um/ChatCryoJane201710/ChatCryoJane201710_prep2_10.0um_detector999/ChatCryoJane201710_slide15-S3_prep2_10.0um_detector999/ChatCryoJane201710_slide15-S3_prep2_10.0um_detector999_VCA_scoremap.bp\" \"s3://mousebrainatlas-data/CSHL_scoremaps/10.0um/ChatCryoJane201710/ChatCryoJane201710_prep2_10.0um_detector999/ChatCryoJane201710_slide15-S3_prep2_10.0um_detector999/ChatCryoJane201710_slide15-S3_prep2_10.0um_detector999_VCA_scoremap.bp\"\n",
      "aws s3 cp \"/home/yuncong/CSHL_scoremap_viz/10.0um/VCA/ChatCryoJane201710/detector999/prep2/ChatCryoJane201710_slide15-S3_prep2_10.0um_VCA_detector999_scoremapViz.jpg\" \"s3://mousebrainatlas-data/CSHL_scoremap_viz/10.0um/VCA/ChatCryoJane201710/detector999/prep2/ChatCryoJane201710_slide15-S3_prep2_10.0um_VCA_detector999_scoremapViz.jpg\"\n"
     ]
    },
    {
     "name": "stderr",
     "output_type": "stream",
     "text": [
      "locate patches: 0.04 seconds\n",
      "Not using image_cache.\n",
      "Load image: 9.91 seconds.\n",
      "Resize patches from 316 x 316 to 224 x 224.\n",
      "Extract patches: 153.66 seconds\n"
     ]
    },
    {
     "name": "stdout",
     "output_type": "stream",
     "text": [
      "(29390, 1, 224, 224)\n"
     ]
    },
    {
     "name": "stderr",
     "output_type": "stream",
     "text": [
      "Not using image_cache.\n"
     ]
    },
    {
     "name": "stdout",
     "output_type": "stream",
     "text": [
      "(724, 987, 3) (724, 987)\n",
      "aws s3 cp \"/home/yuncong/CSHL_scoremaps/10.0um/ChatCryoJane201710/ChatCryoJane201710_prep2_10.0um_detector999/ChatCryoJane201710_slide16-S3_prep2_10.0um_detector999/ChatCryoJane201710_slide16-S3_prep2_10.0um_detector999_VCA_scoremap.bp\" \"s3://mousebrainatlas-data/CSHL_scoremaps/10.0um/ChatCryoJane201710/ChatCryoJane201710_prep2_10.0um_detector999/ChatCryoJane201710_slide16-S3_prep2_10.0um_detector999/ChatCryoJane201710_slide16-S3_prep2_10.0um_detector999_VCA_scoremap.bp\"\n",
      "aws s3 cp \"/home/yuncong/CSHL_scoremap_viz/10.0um/VCA/ChatCryoJane201710/detector999/prep2/ChatCryoJane201710_slide16-S3_prep2_10.0um_VCA_detector999_scoremapViz.jpg\" \"s3://mousebrainatlas-data/CSHL_scoremap_viz/10.0um/VCA/ChatCryoJane201710/detector999/prep2/ChatCryoJane201710_slide16-S3_prep2_10.0um_VCA_detector999_scoremapViz.jpg\"\n"
     ]
    },
    {
     "name": "stderr",
     "output_type": "stream",
     "text": [
      "locate patches: 0.05 seconds\n",
      "Not using image_cache.\n",
      "Load image: 10.25 seconds.\n",
      "Resize patches from 316 x 316 to 224 x 224.\n",
      "Extract patches: 151.76 seconds\n"
     ]
    },
    {
     "name": "stdout",
     "output_type": "stream",
     "text": [
      "(29609, 1, 224, 224)\n"
     ]
    },
    {
     "name": "stderr",
     "output_type": "stream",
     "text": [
      "Not using image_cache.\n"
     ]
    },
    {
     "name": "stdout",
     "output_type": "stream",
     "text": [
      "(724, 987, 3) (724, 987)\n",
      "aws s3 cp \"/home/yuncong/CSHL_scoremaps/10.0um/ChatCryoJane201710/ChatCryoJane201710_prep2_10.0um_detector999/ChatCryoJane201710_slide17-S1_prep2_10.0um_detector999/ChatCryoJane201710_slide17-S1_prep2_10.0um_detector999_VCA_scoremap.bp\" \"s3://mousebrainatlas-data/CSHL_scoremaps/10.0um/ChatCryoJane201710/ChatCryoJane201710_prep2_10.0um_detector999/ChatCryoJane201710_slide17-S1_prep2_10.0um_detector999/ChatCryoJane201710_slide17-S1_prep2_10.0um_detector999_VCA_scoremap.bp\"\n",
      "aws s3 cp \"/home/yuncong/CSHL_scoremap_viz/10.0um/VCA/ChatCryoJane201710/detector999/prep2/ChatCryoJane201710_slide17-S1_prep2_10.0um_VCA_detector999_scoremapViz.jpg\" \"s3://mousebrainatlas-data/CSHL_scoremap_viz/10.0um/VCA/ChatCryoJane201710/detector999/prep2/ChatCryoJane201710_slide17-S1_prep2_10.0um_VCA_detector999_scoremapViz.jpg\"\n"
     ]
    },
    {
     "name": "stderr",
     "output_type": "stream",
     "text": [
      "locate patches: 0.05 seconds\n",
      "Not using image_cache.\n",
      "Load image: 10.38 seconds.\n",
      "Resize patches from 316 x 316 to 224 x 224.\n",
      "Extract patches: 157.23 seconds\n"
     ]
    },
    {
     "name": "stdout",
     "output_type": "stream",
     "text": [
      "(29923, 1, 224, 224)\n"
     ]
    },
    {
     "name": "stderr",
     "output_type": "stream",
     "text": [
      "Not using image_cache.\n"
     ]
    },
    {
     "name": "stdout",
     "output_type": "stream",
     "text": [
      "(724, 987, 3) (724, 987)\n",
      "aws s3 cp \"/home/yuncong/CSHL_scoremaps/10.0um/ChatCryoJane201710/ChatCryoJane201710_prep2_10.0um_detector999/ChatCryoJane201710_slide18-S1_prep2_10.0um_detector999/ChatCryoJane201710_slide18-S1_prep2_10.0um_detector999_VCA_scoremap.bp\" \"s3://mousebrainatlas-data/CSHL_scoremaps/10.0um/ChatCryoJane201710/ChatCryoJane201710_prep2_10.0um_detector999/ChatCryoJane201710_slide18-S1_prep2_10.0um_detector999/ChatCryoJane201710_slide18-S1_prep2_10.0um_detector999_VCA_scoremap.bp\"\n",
      "aws s3 cp \"/home/yuncong/CSHL_scoremap_viz/10.0um/VCA/ChatCryoJane201710/detector999/prep2/ChatCryoJane201710_slide18-S1_prep2_10.0um_VCA_detector999_scoremapViz.jpg\" \"s3://mousebrainatlas-data/CSHL_scoremap_viz/10.0um/VCA/ChatCryoJane201710/detector999/prep2/ChatCryoJane201710_slide18-S1_prep2_10.0um_VCA_detector999_scoremapViz.jpg\"\n"
     ]
    },
    {
     "name": "stderr",
     "output_type": "stream",
     "text": [
      "locate patches: 0.05 seconds\n",
      "Not using image_cache.\n",
      "Load image: 10.02 seconds.\n",
      "Resize patches from 316 x 316 to 224 x 224.\n",
      "Extract patches: 154.07 seconds\n"
     ]
    },
    {
     "name": "stdout",
     "output_type": "stream",
     "text": [
      "(30079, 1, 224, 224)\n"
     ]
    },
    {
     "name": "stderr",
     "output_type": "stream",
     "text": [
      "Not using image_cache.\n"
     ]
    },
    {
     "name": "stdout",
     "output_type": "stream",
     "text": [
      "(724, 987, 3) (724, 987)\n",
      "aws s3 cp \"/home/yuncong/CSHL_scoremaps/10.0um/ChatCryoJane201710/ChatCryoJane201710_prep2_10.0um_detector999/ChatCryoJane201710_slide17-S2_prep2_10.0um_detector999/ChatCryoJane201710_slide17-S2_prep2_10.0um_detector999_VCA_scoremap.bp\" \"s3://mousebrainatlas-data/CSHL_scoremaps/10.0um/ChatCryoJane201710/ChatCryoJane201710_prep2_10.0um_detector999/ChatCryoJane201710_slide17-S2_prep2_10.0um_detector999/ChatCryoJane201710_slide17-S2_prep2_10.0um_detector999_VCA_scoremap.bp\"\n",
      "aws s3 cp \"/home/yuncong/CSHL_scoremap_viz/10.0um/VCA/ChatCryoJane201710/detector999/prep2/ChatCryoJane201710_slide17-S2_prep2_10.0um_VCA_detector999_scoremapViz.jpg\" \"s3://mousebrainatlas-data/CSHL_scoremap_viz/10.0um/VCA/ChatCryoJane201710/detector999/prep2/ChatCryoJane201710_slide17-S2_prep2_10.0um_VCA_detector999_scoremapViz.jpg\"\n"
     ]
    },
    {
     "name": "stderr",
     "output_type": "stream",
     "text": [
      "locate patches: 0.04 seconds\n",
      "Not using image_cache.\n",
      "Load image: 10.33 seconds.\n",
      "Resize patches from 316 x 316 to 224 x 224.\n",
      "Extract patches: 155.34 seconds\n"
     ]
    },
    {
     "name": "stdout",
     "output_type": "stream",
     "text": [
      "(30249, 1, 224, 224)\n"
     ]
    },
    {
     "name": "stderr",
     "output_type": "stream",
     "text": [
      "Not using image_cache.\n"
     ]
    },
    {
     "name": "stdout",
     "output_type": "stream",
     "text": [
      "(724, 987, 3) (724, 987)\n",
      "aws s3 cp \"/home/yuncong/CSHL_scoremaps/10.0um/ChatCryoJane201710/ChatCryoJane201710_prep2_10.0um_detector999/ChatCryoJane201710_slide18-S2_prep2_10.0um_detector999/ChatCryoJane201710_slide18-S2_prep2_10.0um_detector999_VCA_scoremap.bp\" \"s3://mousebrainatlas-data/CSHL_scoremaps/10.0um/ChatCryoJane201710/ChatCryoJane201710_prep2_10.0um_detector999/ChatCryoJane201710_slide18-S2_prep2_10.0um_detector999/ChatCryoJane201710_slide18-S2_prep2_10.0um_detector999_VCA_scoremap.bp\"\n",
      "aws s3 cp \"/home/yuncong/CSHL_scoremap_viz/10.0um/VCA/ChatCryoJane201710/detector999/prep2/ChatCryoJane201710_slide18-S2_prep2_10.0um_VCA_detector999_scoremapViz.jpg\" \"s3://mousebrainatlas-data/CSHL_scoremap_viz/10.0um/VCA/ChatCryoJane201710/detector999/prep2/ChatCryoJane201710_slide18-S2_prep2_10.0um_VCA_detector999_scoremapViz.jpg\"\n"
     ]
    },
    {
     "name": "stderr",
     "output_type": "stream",
     "text": [
      "locate patches: 0.05 seconds\n",
      "Not using image_cache.\n",
      "Load image: 10.16 seconds.\n",
      "Resize patches from 316 x 316 to 224 x 224.\n",
      "Extract patches: 160.65 seconds\n"
     ]
    },
    {
     "name": "stdout",
     "output_type": "stream",
     "text": [
      "(30934, 1, 224, 224)\n"
     ]
    },
    {
     "name": "stderr",
     "output_type": "stream",
     "text": [
      "Not using image_cache.\n"
     ]
    },
    {
     "name": "stdout",
     "output_type": "stream",
     "text": [
      "(724, 987, 3) (724, 987)\n",
      "aws s3 cp \"/home/yuncong/CSHL_scoremaps/10.0um/ChatCryoJane201710/ChatCryoJane201710_prep2_10.0um_detector999/ChatCryoJane201710_slide17-S3_prep2_10.0um_detector999/ChatCryoJane201710_slide17-S3_prep2_10.0um_detector999_VCA_scoremap.bp\" \"s3://mousebrainatlas-data/CSHL_scoremaps/10.0um/ChatCryoJane201710/ChatCryoJane201710_prep2_10.0um_detector999/ChatCryoJane201710_slide17-S3_prep2_10.0um_detector999/ChatCryoJane201710_slide17-S3_prep2_10.0um_detector999_VCA_scoremap.bp\"\n",
      "aws s3 cp \"/home/yuncong/CSHL_scoremap_viz/10.0um/VCA/ChatCryoJane201710/detector999/prep2/ChatCryoJane201710_slide17-S3_prep2_10.0um_VCA_detector999_scoremapViz.jpg\" \"s3://mousebrainatlas-data/CSHL_scoremap_viz/10.0um/VCA/ChatCryoJane201710/detector999/prep2/ChatCryoJane201710_slide17-S3_prep2_10.0um_VCA_detector999_scoremapViz.jpg\"\n"
     ]
    },
    {
     "name": "stderr",
     "output_type": "stream",
     "text": [
      "locate patches: 0.05 seconds\n",
      "Not using image_cache.\n",
      "Load image: 9.89 seconds.\n",
      "Resize patches from 316 x 316 to 224 x 224.\n",
      "Extract patches: 157.03 seconds\n"
     ]
    },
    {
     "name": "stdout",
     "output_type": "stream",
     "text": [
      "(30930, 1, 224, 224)\n"
     ]
    },
    {
     "name": "stderr",
     "output_type": "stream",
     "text": [
      "Not using image_cache.\n"
     ]
    },
    {
     "name": "stdout",
     "output_type": "stream",
     "text": [
      "(724, 987, 3) (724, 987)\n",
      "aws s3 cp \"/home/yuncong/CSHL_scoremaps/10.0um/ChatCryoJane201710/ChatCryoJane201710_prep2_10.0um_detector999/ChatCryoJane201710_slide18-S3_prep2_10.0um_detector999/ChatCryoJane201710_slide18-S3_prep2_10.0um_detector999_VCA_scoremap.bp\" \"s3://mousebrainatlas-data/CSHL_scoremaps/10.0um/ChatCryoJane201710/ChatCryoJane201710_prep2_10.0um_detector999/ChatCryoJane201710_slide18-S3_prep2_10.0um_detector999/ChatCryoJane201710_slide18-S3_prep2_10.0um_detector999_VCA_scoremap.bp\"\n",
      "aws s3 cp \"/home/yuncong/CSHL_scoremap_viz/10.0um/VCA/ChatCryoJane201710/detector999/prep2/ChatCryoJane201710_slide18-S3_prep2_10.0um_VCA_detector999_scoremapViz.jpg\" \"s3://mousebrainatlas-data/CSHL_scoremap_viz/10.0um/VCA/ChatCryoJane201710/detector999/prep2/ChatCryoJane201710_slide18-S3_prep2_10.0um_VCA_detector999_scoremapViz.jpg\"\n"
     ]
    },
    {
     "name": "stderr",
     "output_type": "stream",
     "text": [
      "locate patches: 0.05 seconds\n",
      "Not using image_cache.\n",
      "Load image: 10.57 seconds.\n",
      "Resize patches from 316 x 316 to 224 x 224.\n",
      "Extract patches: 160.57 seconds\n"
     ]
    },
    {
     "name": "stdout",
     "output_type": "stream",
     "text": [
      "(31070, 1, 224, 224)\n"
     ]
    },
    {
     "name": "stderr",
     "output_type": "stream",
     "text": [
      "Not using image_cache.\n"
     ]
    },
    {
     "name": "stdout",
     "output_type": "stream",
     "text": [
      "(724, 987, 3) (724, 987)\n",
      "aws s3 cp \"/home/yuncong/CSHL_scoremaps/10.0um/ChatCryoJane201710/ChatCryoJane201710_prep2_10.0um_detector999/ChatCryoJane201710_slide19-S1_prep2_10.0um_detector999/ChatCryoJane201710_slide19-S1_prep2_10.0um_detector999_VCA_scoremap.bp\" \"s3://mousebrainatlas-data/CSHL_scoremaps/10.0um/ChatCryoJane201710/ChatCryoJane201710_prep2_10.0um_detector999/ChatCryoJane201710_slide19-S1_prep2_10.0um_detector999/ChatCryoJane201710_slide19-S1_prep2_10.0um_detector999_VCA_scoremap.bp\"\n",
      "aws s3 cp \"/home/yuncong/CSHL_scoremap_viz/10.0um/VCA/ChatCryoJane201710/detector999/prep2/ChatCryoJane201710_slide19-S1_prep2_10.0um_VCA_detector999_scoremapViz.jpg\" \"s3://mousebrainatlas-data/CSHL_scoremap_viz/10.0um/VCA/ChatCryoJane201710/detector999/prep2/ChatCryoJane201710_slide19-S1_prep2_10.0um_VCA_detector999_scoremapViz.jpg\"\n"
     ]
    },
    {
     "name": "stderr",
     "output_type": "stream",
     "text": [
      "locate patches: 0.05 seconds\n",
      "Not using image_cache.\n",
      "Load image: 10.60 seconds.\n",
      "Resize patches from 316 x 316 to 224 x 224.\n",
      "Extract patches: 160.94 seconds\n"
     ]
    },
    {
     "name": "stdout",
     "output_type": "stream",
     "text": [
      "(31375, 1, 224, 224)\n"
     ]
    },
    {
     "name": "stderr",
     "output_type": "stream",
     "text": [
      "Not using image_cache.\n"
     ]
    },
    {
     "name": "stdout",
     "output_type": "stream",
     "text": [
      "(724, 987, 3) (724, 987)\n",
      "aws s3 cp \"/home/yuncong/CSHL_scoremaps/10.0um/ChatCryoJane201710/ChatCryoJane201710_prep2_10.0um_detector999/ChatCryoJane201710_slide20-S1_prep2_10.0um_detector999/ChatCryoJane201710_slide20-S1_prep2_10.0um_detector999_VCA_scoremap.bp\" \"s3://mousebrainatlas-data/CSHL_scoremaps/10.0um/ChatCryoJane201710/ChatCryoJane201710_prep2_10.0um_detector999/ChatCryoJane201710_slide20-S1_prep2_10.0um_detector999/ChatCryoJane201710_slide20-S1_prep2_10.0um_detector999_VCA_scoremap.bp\"\n",
      "aws s3 cp \"/home/yuncong/CSHL_scoremap_viz/10.0um/VCA/ChatCryoJane201710/detector999/prep2/ChatCryoJane201710_slide20-S1_prep2_10.0um_VCA_detector999_scoremapViz.jpg\" \"s3://mousebrainatlas-data/CSHL_scoremap_viz/10.0um/VCA/ChatCryoJane201710/detector999/prep2/ChatCryoJane201710_slide20-S1_prep2_10.0um_VCA_detector999_scoremapViz.jpg\"\n"
     ]
    },
    {
     "name": "stderr",
     "output_type": "stream",
     "text": [
      "locate patches: 0.05 seconds\n",
      "Not using image_cache.\n",
      "Load image: 10.11 seconds.\n",
      "Resize patches from 316 x 316 to 224 x 224.\n",
      "Extract patches: 164.09 seconds\n"
     ]
    },
    {
     "name": "stdout",
     "output_type": "stream",
     "text": [
      "(31462, 1, 224, 224)\n"
     ]
    },
    {
     "name": "stderr",
     "output_type": "stream",
     "text": [
      "Not using image_cache.\n"
     ]
    },
    {
     "name": "stdout",
     "output_type": "stream",
     "text": [
      "(724, 987, 3) (724, 987)\n",
      "aws s3 cp \"/home/yuncong/CSHL_scoremaps/10.0um/ChatCryoJane201710/ChatCryoJane201710_prep2_10.0um_detector999/ChatCryoJane201710_slide19-S2_prep2_10.0um_detector999/ChatCryoJane201710_slide19-S2_prep2_10.0um_detector999_VCA_scoremap.bp\" \"s3://mousebrainatlas-data/CSHL_scoremaps/10.0um/ChatCryoJane201710/ChatCryoJane201710_prep2_10.0um_detector999/ChatCryoJane201710_slide19-S2_prep2_10.0um_detector999/ChatCryoJane201710_slide19-S2_prep2_10.0um_detector999_VCA_scoremap.bp\"\n",
      "aws s3 cp \"/home/yuncong/CSHL_scoremap_viz/10.0um/VCA/ChatCryoJane201710/detector999/prep2/ChatCryoJane201710_slide19-S2_prep2_10.0um_VCA_detector999_scoremapViz.jpg\" \"s3://mousebrainatlas-data/CSHL_scoremap_viz/10.0um/VCA/ChatCryoJane201710/detector999/prep2/ChatCryoJane201710_slide19-S2_prep2_10.0um_VCA_detector999_scoremapViz.jpg\"\n"
     ]
    },
    {
     "name": "stderr",
     "output_type": "stream",
     "text": [
      "locate patches: 0.04 seconds\n",
      "Not using image_cache.\n",
      "Load image: 10.69 seconds.\n",
      "Resize patches from 316 x 316 to 224 x 224.\n",
      "Extract patches: 165.05 seconds\n"
     ]
    },
    {
     "name": "stdout",
     "output_type": "stream",
     "text": [
      "(31652, 1, 224, 224)\n"
     ]
    },
    {
     "name": "stderr",
     "output_type": "stream",
     "text": [
      "Not using image_cache.\n"
     ]
    },
    {
     "name": "stdout",
     "output_type": "stream",
     "text": [
      "(724, 987, 3) (724, 987)\n",
      "aws s3 cp \"/home/yuncong/CSHL_scoremaps/10.0um/ChatCryoJane201710/ChatCryoJane201710_prep2_10.0um_detector999/ChatCryoJane201710_slide20-S2_prep2_10.0um_detector999/ChatCryoJane201710_slide20-S2_prep2_10.0um_detector999_VCA_scoremap.bp\" \"s3://mousebrainatlas-data/CSHL_scoremaps/10.0um/ChatCryoJane201710/ChatCryoJane201710_prep2_10.0um_detector999/ChatCryoJane201710_slide20-S2_prep2_10.0um_detector999/ChatCryoJane201710_slide20-S2_prep2_10.0um_detector999_VCA_scoremap.bp\"\n",
      "aws s3 cp \"/home/yuncong/CSHL_scoremap_viz/10.0um/VCA/ChatCryoJane201710/detector999/prep2/ChatCryoJane201710_slide20-S2_prep2_10.0um_VCA_detector999_scoremapViz.jpg\" \"s3://mousebrainatlas-data/CSHL_scoremap_viz/10.0um/VCA/ChatCryoJane201710/detector999/prep2/ChatCryoJane201710_slide20-S2_prep2_10.0um_VCA_detector999_scoremapViz.jpg\"\n"
     ]
    },
    {
     "name": "stderr",
     "output_type": "stream",
     "text": [
      "locate patches: 0.07 seconds\n",
      "Not using image_cache.\n",
      "Load image: 10.41 seconds.\n",
      "Resize patches from 316 x 316 to 224 x 224.\n",
      "Extract patches: 163.37 seconds\n"
     ]
    },
    {
     "name": "stdout",
     "output_type": "stream",
     "text": [
      "(31786, 1, 224, 224)\n"
     ]
    },
    {
     "name": "stderr",
     "output_type": "stream",
     "text": [
      "Not using image_cache.\n"
     ]
    },
    {
     "name": "stdout",
     "output_type": "stream",
     "text": [
      "(724, 987, 3) (724, 987)\n",
      "aws s3 cp \"/home/yuncong/CSHL_scoremaps/10.0um/ChatCryoJane201710/ChatCryoJane201710_prep2_10.0um_detector999/ChatCryoJane201710_slide19-S3_prep2_10.0um_detector999/ChatCryoJane201710_slide19-S3_prep2_10.0um_detector999_VCA_scoremap.bp\" \"s3://mousebrainatlas-data/CSHL_scoremaps/10.0um/ChatCryoJane201710/ChatCryoJane201710_prep2_10.0um_detector999/ChatCryoJane201710_slide19-S3_prep2_10.0um_detector999/ChatCryoJane201710_slide19-S3_prep2_10.0um_detector999_VCA_scoremap.bp\"\n",
      "aws s3 cp \"/home/yuncong/CSHL_scoremap_viz/10.0um/VCA/ChatCryoJane201710/detector999/prep2/ChatCryoJane201710_slide19-S3_prep2_10.0um_VCA_detector999_scoremapViz.jpg\" \"s3://mousebrainatlas-data/CSHL_scoremap_viz/10.0um/VCA/ChatCryoJane201710/detector999/prep2/ChatCryoJane201710_slide19-S3_prep2_10.0um_VCA_detector999_scoremapViz.jpg\"\n"
     ]
    },
    {
     "name": "stderr",
     "output_type": "stream",
     "text": [
      "locate patches: 0.04 seconds\n",
      "Not using image_cache.\n",
      "Load image: 10.39 seconds.\n",
      "Resize patches from 316 x 316 to 224 x 224.\n",
      "Extract patches: 162.92 seconds\n"
     ]
    },
    {
     "name": "stdout",
     "output_type": "stream",
     "text": [
      "(31846, 1, 224, 224)\n"
     ]
    },
    {
     "name": "stderr",
     "output_type": "stream",
     "text": [
      "Not using image_cache.\n"
     ]
    },
    {
     "name": "stdout",
     "output_type": "stream",
     "text": [
      "(724, 987, 3) (724, 987)\n",
      "aws s3 cp \"/home/yuncong/CSHL_scoremaps/10.0um/ChatCryoJane201710/ChatCryoJane201710_prep2_10.0um_detector999/ChatCryoJane201710_slide20-S3_prep2_10.0um_detector999/ChatCryoJane201710_slide20-S3_prep2_10.0um_detector999_VCA_scoremap.bp\" \"s3://mousebrainatlas-data/CSHL_scoremaps/10.0um/ChatCryoJane201710/ChatCryoJane201710_prep2_10.0um_detector999/ChatCryoJane201710_slide20-S3_prep2_10.0um_detector999/ChatCryoJane201710_slide20-S3_prep2_10.0um_detector999_VCA_scoremap.bp\"\n",
      "aws s3 cp \"/home/yuncong/CSHL_scoremap_viz/10.0um/VCA/ChatCryoJane201710/detector999/prep2/ChatCryoJane201710_slide20-S3_prep2_10.0um_VCA_detector999_scoremapViz.jpg\" \"s3://mousebrainatlas-data/CSHL_scoremap_viz/10.0um/VCA/ChatCryoJane201710/detector999/prep2/ChatCryoJane201710_slide20-S3_prep2_10.0um_VCA_detector999_scoremapViz.jpg\"\n"
     ]
    },
    {
     "name": "stderr",
     "output_type": "stream",
     "text": [
      "locate patches: 0.05 seconds\n",
      "Not using image_cache.\n",
      "Load image: 10.30 seconds.\n",
      "Resize patches from 316 x 316 to 224 x 224.\n",
      "Extract patches: 161.89 seconds\n"
     ]
    },
    {
     "name": "stdout",
     "output_type": "stream",
     "text": [
      "(31657, 1, 224, 224)\n"
     ]
    },
    {
     "name": "stderr",
     "output_type": "stream",
     "text": [
      "Not using image_cache.\n"
     ]
    },
    {
     "name": "stdout",
     "output_type": "stream",
     "text": [
      "(724, 987, 3) (724, 987)\n",
      "aws s3 cp \"/home/yuncong/CSHL_scoremaps/10.0um/ChatCryoJane201710/ChatCryoJane201710_prep2_10.0um_detector999/ChatCryoJane201710_slide21-S1_prep2_10.0um_detector999/ChatCryoJane201710_slide21-S1_prep2_10.0um_detector999_VCA_scoremap.bp\" \"s3://mousebrainatlas-data/CSHL_scoremaps/10.0um/ChatCryoJane201710/ChatCryoJane201710_prep2_10.0um_detector999/ChatCryoJane201710_slide21-S1_prep2_10.0um_detector999/ChatCryoJane201710_slide21-S1_prep2_10.0um_detector999_VCA_scoremap.bp\"\n",
      "aws s3 cp \"/home/yuncong/CSHL_scoremap_viz/10.0um/VCA/ChatCryoJane201710/detector999/prep2/ChatCryoJane201710_slide21-S1_prep2_10.0um_VCA_detector999_scoremapViz.jpg\" \"s3://mousebrainatlas-data/CSHL_scoremap_viz/10.0um/VCA/ChatCryoJane201710/detector999/prep2/ChatCryoJane201710_slide21-S1_prep2_10.0um_VCA_detector999_scoremapViz.jpg\"\n"
     ]
    },
    {
     "name": "stderr",
     "output_type": "stream",
     "text": [
      "locate patches: 0.05 seconds\n",
      "Not using image_cache.\n",
      "Load image: 10.73 seconds.\n",
      "Resize patches from 316 x 316 to 224 x 224.\n",
      "Extract patches: 164.00 seconds\n"
     ]
    },
    {
     "name": "stdout",
     "output_type": "stream",
     "text": [
      "(31939, 1, 224, 224)\n"
     ]
    },
    {
     "name": "stderr",
     "output_type": "stream",
     "text": [
      "Not using image_cache.\n"
     ]
    },
    {
     "name": "stdout",
     "output_type": "stream",
     "text": [
      "(724, 987, 3) (724, 987)\n",
      "aws s3 cp \"/home/yuncong/CSHL_scoremaps/10.0um/ChatCryoJane201710/ChatCryoJane201710_prep2_10.0um_detector999/ChatCryoJane201710_slide22-S1_prep2_10.0um_detector999/ChatCryoJane201710_slide22-S1_prep2_10.0um_detector999_VCA_scoremap.bp\" \"s3://mousebrainatlas-data/CSHL_scoremaps/10.0um/ChatCryoJane201710/ChatCryoJane201710_prep2_10.0um_detector999/ChatCryoJane201710_slide22-S1_prep2_10.0um_detector999/ChatCryoJane201710_slide22-S1_prep2_10.0um_detector999_VCA_scoremap.bp\"\n",
      "aws s3 cp \"/home/yuncong/CSHL_scoremap_viz/10.0um/VCA/ChatCryoJane201710/detector999/prep2/ChatCryoJane201710_slide22-S1_prep2_10.0um_VCA_detector999_scoremapViz.jpg\" \"s3://mousebrainatlas-data/CSHL_scoremap_viz/10.0um/VCA/ChatCryoJane201710/detector999/prep2/ChatCryoJane201710_slide22-S1_prep2_10.0um_VCA_detector999_scoremapViz.jpg\"\n"
     ]
    },
    {
     "name": "stderr",
     "output_type": "stream",
     "text": [
      "locate patches: 0.06 seconds\n",
      "Not using image_cache.\n",
      "Load image: 9.84 seconds.\n",
      "Resize patches from 316 x 316 to 224 x 224.\n",
      "Extract patches: 164.66 seconds\n"
     ]
    },
    {
     "name": "stdout",
     "output_type": "stream",
     "text": [
      "(32055, 1, 224, 224)\n"
     ]
    },
    {
     "name": "stderr",
     "output_type": "stream",
     "text": [
      "Not using image_cache.\n"
     ]
    },
    {
     "name": "stdout",
     "output_type": "stream",
     "text": [
      "(724, 987, 3) (724, 987)\n",
      "aws s3 cp \"/home/yuncong/CSHL_scoremaps/10.0um/ChatCryoJane201710/ChatCryoJane201710_prep2_10.0um_detector999/ChatCryoJane201710_slide21-S2_prep2_10.0um_detector999/ChatCryoJane201710_slide21-S2_prep2_10.0um_detector999_VCA_scoremap.bp\" \"s3://mousebrainatlas-data/CSHL_scoremaps/10.0um/ChatCryoJane201710/ChatCryoJane201710_prep2_10.0um_detector999/ChatCryoJane201710_slide21-S2_prep2_10.0um_detector999/ChatCryoJane201710_slide21-S2_prep2_10.0um_detector999_VCA_scoremap.bp\"\n",
      "aws s3 cp \"/home/yuncong/CSHL_scoremap_viz/10.0um/VCA/ChatCryoJane201710/detector999/prep2/ChatCryoJane201710_slide21-S2_prep2_10.0um_VCA_detector999_scoremapViz.jpg\" \"s3://mousebrainatlas-data/CSHL_scoremap_viz/10.0um/VCA/ChatCryoJane201710/detector999/prep2/ChatCryoJane201710_slide21-S2_prep2_10.0um_VCA_detector999_scoremapViz.jpg\"\n"
     ]
    },
    {
     "name": "stderr",
     "output_type": "stream",
     "text": [
      "locate patches: 0.05 seconds\n",
      "Not using image_cache.\n",
      "Load image: 10.90 seconds.\n",
      "Resize patches from 316 x 316 to 224 x 224.\n",
      "Extract patches: 168.11 seconds\n"
     ]
    },
    {
     "name": "stdout",
     "output_type": "stream",
     "text": [
      "(31984, 1, 224, 224)\n"
     ]
    },
    {
     "name": "stderr",
     "output_type": "stream",
     "text": [
      "Not using image_cache.\n"
     ]
    },
    {
     "name": "stdout",
     "output_type": "stream",
     "text": [
      "(724, 987, 3) (724, 987)\n",
      "aws s3 cp \"/home/yuncong/CSHL_scoremaps/10.0um/ChatCryoJane201710/ChatCryoJane201710_prep2_10.0um_detector999/ChatCryoJane201710_slide22-S2_prep2_10.0um_detector999/ChatCryoJane201710_slide22-S2_prep2_10.0um_detector999_VCA_scoremap.bp\" \"s3://mousebrainatlas-data/CSHL_scoremaps/10.0um/ChatCryoJane201710/ChatCryoJane201710_prep2_10.0um_detector999/ChatCryoJane201710_slide22-S2_prep2_10.0um_detector999/ChatCryoJane201710_slide22-S2_prep2_10.0um_detector999_VCA_scoremap.bp\"\n",
      "aws s3 cp \"/home/yuncong/CSHL_scoremap_viz/10.0um/VCA/ChatCryoJane201710/detector999/prep2/ChatCryoJane201710_slide22-S2_prep2_10.0um_VCA_detector999_scoremapViz.jpg\" \"s3://mousebrainatlas-data/CSHL_scoremap_viz/10.0um/VCA/ChatCryoJane201710/detector999/prep2/ChatCryoJane201710_slide22-S2_prep2_10.0um_VCA_detector999_scoremapViz.jpg\"\n"
     ]
    },
    {
     "name": "stderr",
     "output_type": "stream",
     "text": [
      "locate patches: 0.04 seconds\n",
      "Not using image_cache.\n",
      "Load image: 9.64 seconds.\n",
      "Resize patches from 316 x 316 to 224 x 224.\n",
      "Extract patches: 166.57 seconds\n"
     ]
    },
    {
     "name": "stdout",
     "output_type": "stream",
     "text": [
      "(32599, 1, 224, 224)\n"
     ]
    },
    {
     "name": "stderr",
     "output_type": "stream",
     "text": [
      "Not using image_cache.\n"
     ]
    },
    {
     "name": "stdout",
     "output_type": "stream",
     "text": [
      "(724, 987, 3) (724, 987)\n",
      "aws s3 cp \"/home/yuncong/CSHL_scoremaps/10.0um/ChatCryoJane201710/ChatCryoJane201710_prep2_10.0um_detector999/ChatCryoJane201710_slide21-S3_prep2_10.0um_detector999/ChatCryoJane201710_slide21-S3_prep2_10.0um_detector999_VCA_scoremap.bp\" \"s3://mousebrainatlas-data/CSHL_scoremaps/10.0um/ChatCryoJane201710/ChatCryoJane201710_prep2_10.0um_detector999/ChatCryoJane201710_slide21-S3_prep2_10.0um_detector999/ChatCryoJane201710_slide21-S3_prep2_10.0um_detector999_VCA_scoremap.bp\"\n",
      "aws s3 cp \"/home/yuncong/CSHL_scoremap_viz/10.0um/VCA/ChatCryoJane201710/detector999/prep2/ChatCryoJane201710_slide21-S3_prep2_10.0um_VCA_detector999_scoremapViz.jpg\" \"s3://mousebrainatlas-data/CSHL_scoremap_viz/10.0um/VCA/ChatCryoJane201710/detector999/prep2/ChatCryoJane201710_slide21-S3_prep2_10.0um_VCA_detector999_scoremapViz.jpg\"\n"
     ]
    },
    {
     "name": "stderr",
     "output_type": "stream",
     "text": [
      "locate patches: 0.05 seconds\n",
      "Not using image_cache.\n",
      "Load image: 10.24 seconds.\n",
      "Resize patches from 316 x 316 to 224 x 224.\n",
      "Extract patches: 168.76 seconds\n"
     ]
    },
    {
     "name": "stdout",
     "output_type": "stream",
     "text": [
      "(32499, 1, 224, 224)\n"
     ]
    },
    {
     "name": "stderr",
     "output_type": "stream",
     "text": [
      "Not using image_cache.\n"
     ]
    },
    {
     "name": "stdout",
     "output_type": "stream",
     "text": [
      "(724, 987, 3) (724, 987)\n",
      "aws s3 cp \"/home/yuncong/CSHL_scoremaps/10.0um/ChatCryoJane201710/ChatCryoJane201710_prep2_10.0um_detector999/ChatCryoJane201710_slide22-S3_prep2_10.0um_detector999/ChatCryoJane201710_slide22-S3_prep2_10.0um_detector999_VCA_scoremap.bp\" \"s3://mousebrainatlas-data/CSHL_scoremaps/10.0um/ChatCryoJane201710/ChatCryoJane201710_prep2_10.0um_detector999/ChatCryoJane201710_slide22-S3_prep2_10.0um_detector999/ChatCryoJane201710_slide22-S3_prep2_10.0um_detector999_VCA_scoremap.bp\"\n",
      "aws s3 cp \"/home/yuncong/CSHL_scoremap_viz/10.0um/VCA/ChatCryoJane201710/detector999/prep2/ChatCryoJane201710_slide22-S3_prep2_10.0um_VCA_detector999_scoremapViz.jpg\" \"s3://mousebrainatlas-data/CSHL_scoremap_viz/10.0um/VCA/ChatCryoJane201710/detector999/prep2/ChatCryoJane201710_slide22-S3_prep2_10.0um_VCA_detector999_scoremapViz.jpg\"\n"
     ]
    },
    {
     "name": "stderr",
     "output_type": "stream",
     "text": [
      "locate patches: 0.06 seconds\n",
      "Not using image_cache.\n",
      "Load image: 10.09 seconds.\n",
      "Resize patches from 316 x 316 to 224 x 224.\n",
      "Extract patches: 162.32 seconds\n"
     ]
    },
    {
     "name": "stdout",
     "output_type": "stream",
     "text": [
      "(31163, 1, 224, 224)\n"
     ]
    },
    {
     "name": "stderr",
     "output_type": "stream",
     "text": [
      "Not using image_cache.\n"
     ]
    },
    {
     "name": "stdout",
     "output_type": "stream",
     "text": [
      "(724, 987, 3) (724, 987)\n",
      "aws s3 cp \"/home/yuncong/CSHL_scoremaps/10.0um/ChatCryoJane201710/ChatCryoJane201710_prep2_10.0um_detector999/ChatCryoJane201710_slide23-S1_prep2_10.0um_detector999/ChatCryoJane201710_slide23-S1_prep2_10.0um_detector999_VCA_scoremap.bp\" \"s3://mousebrainatlas-data/CSHL_scoremaps/10.0um/ChatCryoJane201710/ChatCryoJane201710_prep2_10.0um_detector999/ChatCryoJane201710_slide23-S1_prep2_10.0um_detector999/ChatCryoJane201710_slide23-S1_prep2_10.0um_detector999_VCA_scoremap.bp\"\n",
      "aws s3 cp \"/home/yuncong/CSHL_scoremap_viz/10.0um/VCA/ChatCryoJane201710/detector999/prep2/ChatCryoJane201710_slide23-S1_prep2_10.0um_VCA_detector999_scoremapViz.jpg\" \"s3://mousebrainatlas-data/CSHL_scoremap_viz/10.0um/VCA/ChatCryoJane201710/detector999/prep2/ChatCryoJane201710_slide23-S1_prep2_10.0um_VCA_detector999_scoremapViz.jpg\"\n"
     ]
    },
    {
     "name": "stderr",
     "output_type": "stream",
     "text": [
      "locate patches: 0.04 seconds\n",
      "Not using image_cache.\n",
      "Load image: 11.17 seconds.\n",
      "Resize patches from 316 x 316 to 224 x 224.\n",
      "Extract patches: 172.05 seconds\n"
     ]
    },
    {
     "name": "stdout",
     "output_type": "stream",
     "text": [
      "(33165, 1, 224, 224)\n"
     ]
    },
    {
     "name": "stderr",
     "output_type": "stream",
     "text": [
      "Not using image_cache.\n"
     ]
    },
    {
     "name": "stdout",
     "output_type": "stream",
     "text": [
      "(724, 987, 3) (724, 987)\n",
      "aws s3 cp \"/home/yuncong/CSHL_scoremaps/10.0um/ChatCryoJane201710/ChatCryoJane201710_prep2_10.0um_detector999/ChatCryoJane201710_slide24-S1_prep2_10.0um_detector999/ChatCryoJane201710_slide24-S1_prep2_10.0um_detector999_VCA_scoremap.bp\" \"s3://mousebrainatlas-data/CSHL_scoremaps/10.0um/ChatCryoJane201710/ChatCryoJane201710_prep2_10.0um_detector999/ChatCryoJane201710_slide24-S1_prep2_10.0um_detector999/ChatCryoJane201710_slide24-S1_prep2_10.0um_detector999_VCA_scoremap.bp\"\n",
      "aws s3 cp \"/home/yuncong/CSHL_scoremap_viz/10.0um/VCA/ChatCryoJane201710/detector999/prep2/ChatCryoJane201710_slide24-S1_prep2_10.0um_VCA_detector999_scoremapViz.jpg\" \"s3://mousebrainatlas-data/CSHL_scoremap_viz/10.0um/VCA/ChatCryoJane201710/detector999/prep2/ChatCryoJane201710_slide24-S1_prep2_10.0um_VCA_detector999_scoremapViz.jpg\"\n"
     ]
    },
    {
     "name": "stderr",
     "output_type": "stream",
     "text": [
      "locate patches: 0.05 seconds\n",
      "Not using image_cache.\n",
      "Load image: 10.20 seconds.\n",
      "Resize patches from 316 x 316 to 224 x 224.\n",
      "Extract patches: 160.95 seconds\n"
     ]
    },
    {
     "name": "stdout",
     "output_type": "stream",
     "text": [
      "(31092, 1, 224, 224)\n"
     ]
    },
    {
     "name": "stderr",
     "output_type": "stream",
     "text": [
      "Not using image_cache.\n"
     ]
    },
    {
     "name": "stdout",
     "output_type": "stream",
     "text": [
      "(724, 987, 3) (724, 987)\n",
      "aws s3 cp \"/home/yuncong/CSHL_scoremaps/10.0um/ChatCryoJane201710/ChatCryoJane201710_prep2_10.0um_detector999/ChatCryoJane201710_slide23-S2_prep2_10.0um_detector999/ChatCryoJane201710_slide23-S2_prep2_10.0um_detector999_VCA_scoremap.bp\" \"s3://mousebrainatlas-data/CSHL_scoremaps/10.0um/ChatCryoJane201710/ChatCryoJane201710_prep2_10.0um_detector999/ChatCryoJane201710_slide23-S2_prep2_10.0um_detector999/ChatCryoJane201710_slide23-S2_prep2_10.0um_detector999_VCA_scoremap.bp\"\n",
      "aws s3 cp \"/home/yuncong/CSHL_scoremap_viz/10.0um/VCA/ChatCryoJane201710/detector999/prep2/ChatCryoJane201710_slide23-S2_prep2_10.0um_VCA_detector999_scoremapViz.jpg\" \"s3://mousebrainatlas-data/CSHL_scoremap_viz/10.0um/VCA/ChatCryoJane201710/detector999/prep2/ChatCryoJane201710_slide23-S2_prep2_10.0um_VCA_detector999_scoremapViz.jpg\"\n"
     ]
    },
    {
     "name": "stderr",
     "output_type": "stream",
     "text": [
      "locate patches: 0.04 seconds\n",
      "Not using image_cache.\n",
      "Load image: 10.74 seconds.\n",
      "Resize patches from 316 x 316 to 224 x 224.\n",
      "Extract patches: 172.58 seconds\n"
     ]
    },
    {
     "name": "stdout",
     "output_type": "stream",
     "text": [
      "(33409, 1, 224, 224)\n"
     ]
    },
    {
     "name": "stderr",
     "output_type": "stream",
     "text": [
      "Not using image_cache.\n"
     ]
    },
    {
     "name": "stdout",
     "output_type": "stream",
     "text": [
      "(724, 987, 3) (724, 987)\n",
      "aws s3 cp \"/home/yuncong/CSHL_scoremaps/10.0um/ChatCryoJane201710/ChatCryoJane201710_prep2_10.0um_detector999/ChatCryoJane201710_slide24-S2_prep2_10.0um_detector999/ChatCryoJane201710_slide24-S2_prep2_10.0um_detector999_VCA_scoremap.bp\" \"s3://mousebrainatlas-data/CSHL_scoremaps/10.0um/ChatCryoJane201710/ChatCryoJane201710_prep2_10.0um_detector999/ChatCryoJane201710_slide24-S2_prep2_10.0um_detector999/ChatCryoJane201710_slide24-S2_prep2_10.0um_detector999_VCA_scoremap.bp\"\n",
      "aws s3 cp \"/home/yuncong/CSHL_scoremap_viz/10.0um/VCA/ChatCryoJane201710/detector999/prep2/ChatCryoJane201710_slide24-S2_prep2_10.0um_VCA_detector999_scoremapViz.jpg\" \"s3://mousebrainatlas-data/CSHL_scoremap_viz/10.0um/VCA/ChatCryoJane201710/detector999/prep2/ChatCryoJane201710_slide24-S2_prep2_10.0um_VCA_detector999_scoremapViz.jpg\"\n"
     ]
    },
    {
     "name": "stderr",
     "output_type": "stream",
     "text": [
      "locate patches: 0.05 seconds\n",
      "Not using image_cache.\n",
      "Load image: 10.26 seconds.\n",
      "Resize patches from 316 x 316 to 224 x 224.\n",
      "Extract patches: 163.82 seconds\n"
     ]
    },
    {
     "name": "stdout",
     "output_type": "stream",
     "text": [
      "(31744, 1, 224, 224)\n"
     ]
    },
    {
     "name": "stderr",
     "output_type": "stream",
     "text": [
      "Not using image_cache.\n"
     ]
    },
    {
     "name": "stdout",
     "output_type": "stream",
     "text": [
      "(724, 987, 3) (724, 987)\n",
      "aws s3 cp \"/home/yuncong/CSHL_scoremaps/10.0um/ChatCryoJane201710/ChatCryoJane201710_prep2_10.0um_detector999/ChatCryoJane201710_slide23-S3_prep2_10.0um_detector999/ChatCryoJane201710_slide23-S3_prep2_10.0um_detector999_VCA_scoremap.bp\" \"s3://mousebrainatlas-data/CSHL_scoremaps/10.0um/ChatCryoJane201710/ChatCryoJane201710_prep2_10.0um_detector999/ChatCryoJane201710_slide23-S3_prep2_10.0um_detector999/ChatCryoJane201710_slide23-S3_prep2_10.0um_detector999_VCA_scoremap.bp\"\n",
      "aws s3 cp \"/home/yuncong/CSHL_scoremap_viz/10.0um/VCA/ChatCryoJane201710/detector999/prep2/ChatCryoJane201710_slide23-S3_prep2_10.0um_VCA_detector999_scoremapViz.jpg\" \"s3://mousebrainatlas-data/CSHL_scoremap_viz/10.0um/VCA/ChatCryoJane201710/detector999/prep2/ChatCryoJane201710_slide23-S3_prep2_10.0um_VCA_detector999_scoremapViz.jpg\"\n"
     ]
    },
    {
     "name": "stderr",
     "output_type": "stream",
     "text": [
      "locate patches: 0.06 seconds\n",
      "Not using image_cache.\n",
      "Load image: 10.78 seconds.\n",
      "Resize patches from 316 x 316 to 224 x 224.\n",
      "Extract patches: 171.73 seconds\n"
     ]
    },
    {
     "name": "stdout",
     "output_type": "stream",
     "text": [
      "(33397, 1, 224, 224)\n"
     ]
    },
    {
     "name": "stderr",
     "output_type": "stream",
     "text": [
      "Not using image_cache.\n"
     ]
    },
    {
     "name": "stdout",
     "output_type": "stream",
     "text": [
      "(724, 987, 3) (724, 987)\n",
      "aws s3 cp \"/home/yuncong/CSHL_scoremaps/10.0um/ChatCryoJane201710/ChatCryoJane201710_prep2_10.0um_detector999/ChatCryoJane201710_slide24-S3_prep2_10.0um_detector999/ChatCryoJane201710_slide24-S3_prep2_10.0um_detector999_VCA_scoremap.bp\" \"s3://mousebrainatlas-data/CSHL_scoremaps/10.0um/ChatCryoJane201710/ChatCryoJane201710_prep2_10.0um_detector999/ChatCryoJane201710_slide24-S3_prep2_10.0um_detector999/ChatCryoJane201710_slide24-S3_prep2_10.0um_detector999_VCA_scoremap.bp\"\n",
      "aws s3 cp \"/home/yuncong/CSHL_scoremap_viz/10.0um/VCA/ChatCryoJane201710/detector999/prep2/ChatCryoJane201710_slide24-S3_prep2_10.0um_VCA_detector999_scoremapViz.jpg\" \"s3://mousebrainatlas-data/CSHL_scoremap_viz/10.0um/VCA/ChatCryoJane201710/detector999/prep2/ChatCryoJane201710_slide24-S3_prep2_10.0um_VCA_detector999_scoremapViz.jpg\"\n"
     ]
    },
    {
     "name": "stderr",
     "output_type": "stream",
     "text": [
      "locate patches: 0.05 seconds\n",
      "Not using image_cache.\n",
      "Load image: 10.64 seconds.\n",
      "Resize patches from 316 x 316 to 224 x 224.\n",
      "Extract patches: 175.55 seconds\n"
     ]
    },
    {
     "name": "stdout",
     "output_type": "stream",
     "text": [
      "(33882, 1, 224, 224)\n"
     ]
    },
    {
     "name": "stderr",
     "output_type": "stream",
     "text": [
      "Not using image_cache.\n"
     ]
    },
    {
     "name": "stdout",
     "output_type": "stream",
     "text": [
      "(724, 987, 3) (724, 987)\n",
      "aws s3 cp \"/home/yuncong/CSHL_scoremaps/10.0um/ChatCryoJane201710/ChatCryoJane201710_prep2_10.0um_detector999/ChatCryoJane201710_slide25-S1_prep2_10.0um_detector999/ChatCryoJane201710_slide25-S1_prep2_10.0um_detector999_VCA_scoremap.bp\" \"s3://mousebrainatlas-data/CSHL_scoremaps/10.0um/ChatCryoJane201710/ChatCryoJane201710_prep2_10.0um_detector999/ChatCryoJane201710_slide25-S1_prep2_10.0um_detector999/ChatCryoJane201710_slide25-S1_prep2_10.0um_detector999_VCA_scoremap.bp\"\n",
      "aws s3 cp \"/home/yuncong/CSHL_scoremap_viz/10.0um/VCA/ChatCryoJane201710/detector999/prep2/ChatCryoJane201710_slide25-S1_prep2_10.0um_VCA_detector999_scoremapViz.jpg\" \"s3://mousebrainatlas-data/CSHL_scoremap_viz/10.0um/VCA/ChatCryoJane201710/detector999/prep2/ChatCryoJane201710_slide25-S1_prep2_10.0um_VCA_detector999_scoremapViz.jpg\"\n"
     ]
    },
    {
     "name": "stderr",
     "output_type": "stream",
     "text": [
      "locate patches: 0.04 seconds\n",
      "Not using image_cache.\n",
      "Load image: 10.63 seconds.\n",
      "Resize patches from 316 x 316 to 224 x 224.\n",
      "Extract patches: 174.35 seconds\n"
     ]
    },
    {
     "name": "stdout",
     "output_type": "stream",
     "text": [
      "(34140, 1, 224, 224)\n"
     ]
    },
    {
     "name": "stderr",
     "output_type": "stream",
     "text": [
      "Not using image_cache.\n"
     ]
    },
    {
     "name": "stdout",
     "output_type": "stream",
     "text": [
      "(724, 987, 3) (724, 987)\n",
      "aws s3 cp \"/home/yuncong/CSHL_scoremaps/10.0um/ChatCryoJane201710/ChatCryoJane201710_prep2_10.0um_detector999/ChatCryoJane201710_slide26-S1_prep2_10.0um_detector999/ChatCryoJane201710_slide26-S1_prep2_10.0um_detector999_VCA_scoremap.bp\" \"s3://mousebrainatlas-data/CSHL_scoremaps/10.0um/ChatCryoJane201710/ChatCryoJane201710_prep2_10.0um_detector999/ChatCryoJane201710_slide26-S1_prep2_10.0um_detector999/ChatCryoJane201710_slide26-S1_prep2_10.0um_detector999_VCA_scoremap.bp\"\n",
      "aws s3 cp \"/home/yuncong/CSHL_scoremap_viz/10.0um/VCA/ChatCryoJane201710/detector999/prep2/ChatCryoJane201710_slide26-S1_prep2_10.0um_VCA_detector999_scoremapViz.jpg\" \"s3://mousebrainatlas-data/CSHL_scoremap_viz/10.0um/VCA/ChatCryoJane201710/detector999/prep2/ChatCryoJane201710_slide26-S1_prep2_10.0um_VCA_detector999_scoremapViz.jpg\"\n"
     ]
    },
    {
     "name": "stderr",
     "output_type": "stream",
     "text": [
      "locate patches: 0.07 seconds\n",
      "Not using image_cache.\n",
      "Load image: 10.86 seconds.\n",
      "Resize patches from 316 x 316 to 224 x 224.\n",
      "Extract patches: 178.78 seconds\n"
     ]
    },
    {
     "name": "stdout",
     "output_type": "stream",
     "text": [
      "(34205, 1, 224, 224)\n"
     ]
    },
    {
     "name": "stderr",
     "output_type": "stream",
     "text": [
      "Not using image_cache.\n"
     ]
    },
    {
     "name": "stdout",
     "output_type": "stream",
     "text": [
      "(724, 987, 3) (724, 987)\n",
      "aws s3 cp \"/home/yuncong/CSHL_scoremaps/10.0um/ChatCryoJane201710/ChatCryoJane201710_prep2_10.0um_detector999/ChatCryoJane201710_slide25-S2_prep2_10.0um_detector999/ChatCryoJane201710_slide25-S2_prep2_10.0um_detector999_VCA_scoremap.bp\" \"s3://mousebrainatlas-data/CSHL_scoremaps/10.0um/ChatCryoJane201710/ChatCryoJane201710_prep2_10.0um_detector999/ChatCryoJane201710_slide25-S2_prep2_10.0um_detector999/ChatCryoJane201710_slide25-S2_prep2_10.0um_detector999_VCA_scoremap.bp\"\n",
      "aws s3 cp \"/home/yuncong/CSHL_scoremap_viz/10.0um/VCA/ChatCryoJane201710/detector999/prep2/ChatCryoJane201710_slide25-S2_prep2_10.0um_VCA_detector999_scoremapViz.jpg\" \"s3://mousebrainatlas-data/CSHL_scoremap_viz/10.0um/VCA/ChatCryoJane201710/detector999/prep2/ChatCryoJane201710_slide25-S2_prep2_10.0um_VCA_detector999_scoremapViz.jpg\"\n"
     ]
    },
    {
     "name": "stderr",
     "output_type": "stream",
     "text": [
      "locate patches: 0.04 seconds\n",
      "Not using image_cache.\n",
      "Load image: 11.41 seconds.\n",
      "Resize patches from 316 x 316 to 224 x 224.\n",
      "Extract patches: 180.23 seconds\n"
     ]
    },
    {
     "name": "stdout",
     "output_type": "stream",
     "text": [
      "(34476, 1, 224, 224)\n"
     ]
    },
    {
     "name": "stderr",
     "output_type": "stream",
     "text": [
      "Not using image_cache.\n"
     ]
    },
    {
     "name": "stdout",
     "output_type": "stream",
     "text": [
      "(724, 987, 3) (724, 987)\n",
      "aws s3 cp \"/home/yuncong/CSHL_scoremaps/10.0um/ChatCryoJane201710/ChatCryoJane201710_prep2_10.0um_detector999/ChatCryoJane201710_slide26-S2_prep2_10.0um_detector999/ChatCryoJane201710_slide26-S2_prep2_10.0um_detector999_VCA_scoremap.bp\" \"s3://mousebrainatlas-data/CSHL_scoremaps/10.0um/ChatCryoJane201710/ChatCryoJane201710_prep2_10.0um_detector999/ChatCryoJane201710_slide26-S2_prep2_10.0um_detector999/ChatCryoJane201710_slide26-S2_prep2_10.0um_detector999_VCA_scoremap.bp\"\n",
      "aws s3 cp \"/home/yuncong/CSHL_scoremap_viz/10.0um/VCA/ChatCryoJane201710/detector999/prep2/ChatCryoJane201710_slide26-S2_prep2_10.0um_VCA_detector999_scoremapViz.jpg\" \"s3://mousebrainatlas-data/CSHL_scoremap_viz/10.0um/VCA/ChatCryoJane201710/detector999/prep2/ChatCryoJane201710_slide26-S2_prep2_10.0um_VCA_detector999_scoremapViz.jpg\"\n"
     ]
    },
    {
     "name": "stderr",
     "output_type": "stream",
     "text": [
      "locate patches: 0.05 seconds\n",
      "Not using image_cache.\n",
      "Load image: 10.78 seconds.\n",
      "Resize patches from 316 x 316 to 224 x 224.\n",
      "Extract patches: 175.72 seconds\n"
     ]
    },
    {
     "name": "stdout",
     "output_type": "stream",
     "text": [
      "(34573, 1, 224, 224)\n"
     ]
    },
    {
     "name": "stderr",
     "output_type": "stream",
     "text": [
      "Not using image_cache.\n"
     ]
    },
    {
     "name": "stdout",
     "output_type": "stream",
     "text": [
      "(724, 987, 3) (724, 987)\n",
      "aws s3 cp \"/home/yuncong/CSHL_scoremaps/10.0um/ChatCryoJane201710/ChatCryoJane201710_prep2_10.0um_detector999/ChatCryoJane201710_slide25-S3_prep2_10.0um_detector999/ChatCryoJane201710_slide25-S3_prep2_10.0um_detector999_VCA_scoremap.bp\" \"s3://mousebrainatlas-data/CSHL_scoremaps/10.0um/ChatCryoJane201710/ChatCryoJane201710_prep2_10.0um_detector999/ChatCryoJane201710_slide25-S3_prep2_10.0um_detector999/ChatCryoJane201710_slide25-S3_prep2_10.0um_detector999_VCA_scoremap.bp\"\n",
      "aws s3 cp \"/home/yuncong/CSHL_scoremap_viz/10.0um/VCA/ChatCryoJane201710/detector999/prep2/ChatCryoJane201710_slide25-S3_prep2_10.0um_VCA_detector999_scoremapViz.jpg\" \"s3://mousebrainatlas-data/CSHL_scoremap_viz/10.0um/VCA/ChatCryoJane201710/detector999/prep2/ChatCryoJane201710_slide25-S3_prep2_10.0um_VCA_detector999_scoremapViz.jpg\"\n"
     ]
    },
    {
     "name": "stderr",
     "output_type": "stream",
     "text": [
      "locate patches: 0.05 seconds\n",
      "Not using image_cache.\n",
      "Load image: 10.65 seconds.\n",
      "Resize patches from 316 x 316 to 224 x 224.\n",
      "Extract patches: 179.21 seconds\n"
     ]
    },
    {
     "name": "stdout",
     "output_type": "stream",
     "text": [
      "(34649, 1, 224, 224)\n"
     ]
    },
    {
     "name": "stderr",
     "output_type": "stream",
     "text": [
      "Not using image_cache.\n"
     ]
    },
    {
     "name": "stdout",
     "output_type": "stream",
     "text": [
      "(724, 987, 3) (724, 987)\n",
      "aws s3 cp \"/home/yuncong/CSHL_scoremaps/10.0um/ChatCryoJane201710/ChatCryoJane201710_prep2_10.0um_detector999/ChatCryoJane201710_slide26-S3_prep2_10.0um_detector999/ChatCryoJane201710_slide26-S3_prep2_10.0um_detector999_VCA_scoremap.bp\" \"s3://mousebrainatlas-data/CSHL_scoremaps/10.0um/ChatCryoJane201710/ChatCryoJane201710_prep2_10.0um_detector999/ChatCryoJane201710_slide26-S3_prep2_10.0um_detector999/ChatCryoJane201710_slide26-S3_prep2_10.0um_detector999_VCA_scoremap.bp\"\n",
      "aws s3 cp \"/home/yuncong/CSHL_scoremap_viz/10.0um/VCA/ChatCryoJane201710/detector999/prep2/ChatCryoJane201710_slide26-S3_prep2_10.0um_VCA_detector999_scoremapViz.jpg\" \"s3://mousebrainatlas-data/CSHL_scoremap_viz/10.0um/VCA/ChatCryoJane201710/detector999/prep2/ChatCryoJane201710_slide26-S3_prep2_10.0um_VCA_detector999_scoremapViz.jpg\"\n"
     ]
    },
    {
     "name": "stderr",
     "output_type": "stream",
     "text": [
      "locate patches: 0.04 seconds\n",
      "Not using image_cache.\n",
      "Load image: 10.55 seconds.\n",
      "Resize patches from 316 x 316 to 224 x 224.\n",
      "Extract patches: 177.55 seconds\n"
     ]
    },
    {
     "name": "stdout",
     "output_type": "stream",
     "text": [
      "(34906, 1, 224, 224)\n"
     ]
    },
    {
     "name": "stderr",
     "output_type": "stream",
     "text": [
      "Not using image_cache.\n"
     ]
    },
    {
     "name": "stdout",
     "output_type": "stream",
     "text": [
      "(724, 987, 3) (724, 987)\n",
      "aws s3 cp \"/home/yuncong/CSHL_scoremaps/10.0um/ChatCryoJane201710/ChatCryoJane201710_prep2_10.0um_detector999/ChatCryoJane201710_slide27-S1_prep2_10.0um_detector999/ChatCryoJane201710_slide27-S1_prep2_10.0um_detector999_VCA_scoremap.bp\" \"s3://mousebrainatlas-data/CSHL_scoremaps/10.0um/ChatCryoJane201710/ChatCryoJane201710_prep2_10.0um_detector999/ChatCryoJane201710_slide27-S1_prep2_10.0um_detector999/ChatCryoJane201710_slide27-S1_prep2_10.0um_detector999_VCA_scoremap.bp\"\n",
      "aws s3 cp \"/home/yuncong/CSHL_scoremap_viz/10.0um/VCA/ChatCryoJane201710/detector999/prep2/ChatCryoJane201710_slide27-S1_prep2_10.0um_VCA_detector999_scoremapViz.jpg\" \"s3://mousebrainatlas-data/CSHL_scoremap_viz/10.0um/VCA/ChatCryoJane201710/detector999/prep2/ChatCryoJane201710_slide27-S1_prep2_10.0um_VCA_detector999_scoremapViz.jpg\"\n"
     ]
    },
    {
     "name": "stderr",
     "output_type": "stream",
     "text": [
      "locate patches: 0.04 seconds\n",
      "Not using image_cache.\n",
      "Load image: 11.31 seconds.\n",
      "Resize patches from 316 x 316 to 224 x 224.\n",
      "Extract patches: 180.57 seconds\n"
     ]
    },
    {
     "name": "stdout",
     "output_type": "stream",
     "text": [
      "(34784, 1, 224, 224)\n"
     ]
    },
    {
     "name": "stderr",
     "output_type": "stream",
     "text": [
      "Not using image_cache.\n"
     ]
    },
    {
     "name": "stdout",
     "output_type": "stream",
     "text": [
      "(724, 987, 3) (724, 987)\n",
      "aws s3 cp \"/home/yuncong/CSHL_scoremaps/10.0um/ChatCryoJane201710/ChatCryoJane201710_prep2_10.0um_detector999/ChatCryoJane201710_slide28-S1_prep2_10.0um_detector999/ChatCryoJane201710_slide28-S1_prep2_10.0um_detector999_VCA_scoremap.bp\" \"s3://mousebrainatlas-data/CSHL_scoremaps/10.0um/ChatCryoJane201710/ChatCryoJane201710_prep2_10.0um_detector999/ChatCryoJane201710_slide28-S1_prep2_10.0um_detector999/ChatCryoJane201710_slide28-S1_prep2_10.0um_detector999_VCA_scoremap.bp\"\n",
      "aws s3 cp \"/home/yuncong/CSHL_scoremap_viz/10.0um/VCA/ChatCryoJane201710/detector999/prep2/ChatCryoJane201710_slide28-S1_prep2_10.0um_VCA_detector999_scoremapViz.jpg\" \"s3://mousebrainatlas-data/CSHL_scoremap_viz/10.0um/VCA/ChatCryoJane201710/detector999/prep2/ChatCryoJane201710_slide28-S1_prep2_10.0um_VCA_detector999_scoremapViz.jpg\"\n"
     ]
    },
    {
     "name": "stderr",
     "output_type": "stream",
     "text": [
      "locate patches: 0.04 seconds\n",
      "Not using image_cache.\n",
      "Load image: 10.49 seconds.\n",
      "Resize patches from 316 x 316 to 224 x 224.\n",
      "Extract patches: 179.84 seconds\n"
     ]
    },
    {
     "name": "stdout",
     "output_type": "stream",
     "text": [
      "(35153, 1, 224, 224)\n"
     ]
    },
    {
     "name": "stderr",
     "output_type": "stream",
     "text": [
      "Not using image_cache.\n"
     ]
    },
    {
     "name": "stdout",
     "output_type": "stream",
     "text": [
      "(724, 987, 3) (724, 987)\n",
      "aws s3 cp \"/home/yuncong/CSHL_scoremaps/10.0um/ChatCryoJane201710/ChatCryoJane201710_prep2_10.0um_detector999/ChatCryoJane201710_slide27-S2_prep2_10.0um_detector999/ChatCryoJane201710_slide27-S2_prep2_10.0um_detector999_VCA_scoremap.bp\" \"s3://mousebrainatlas-data/CSHL_scoremaps/10.0um/ChatCryoJane201710/ChatCryoJane201710_prep2_10.0um_detector999/ChatCryoJane201710_slide27-S2_prep2_10.0um_detector999/ChatCryoJane201710_slide27-S2_prep2_10.0um_detector999_VCA_scoremap.bp\"\n",
      "aws s3 cp \"/home/yuncong/CSHL_scoremap_viz/10.0um/VCA/ChatCryoJane201710/detector999/prep2/ChatCryoJane201710_slide27-S2_prep2_10.0um_VCA_detector999_scoremapViz.jpg\" \"s3://mousebrainatlas-data/CSHL_scoremap_viz/10.0um/VCA/ChatCryoJane201710/detector999/prep2/ChatCryoJane201710_slide27-S2_prep2_10.0um_VCA_detector999_scoremapViz.jpg\"\n"
     ]
    },
    {
     "name": "stderr",
     "output_type": "stream",
     "text": [
      "locate patches: 0.05 seconds\n",
      "Not using image_cache.\n",
      "Load image: 11.12 seconds.\n",
      "Resize patches from 316 x 316 to 224 x 224.\n",
      "Extract patches: 183.06 seconds\n"
     ]
    },
    {
     "name": "stdout",
     "output_type": "stream",
     "text": [
      "(35381, 1, 224, 224)\n"
     ]
    },
    {
     "name": "stderr",
     "output_type": "stream",
     "text": [
      "Not using image_cache.\n"
     ]
    },
    {
     "name": "stdout",
     "output_type": "stream",
     "text": [
      "(724, 987, 3) (724, 987)\n",
      "aws s3 cp \"/home/yuncong/CSHL_scoremaps/10.0um/ChatCryoJane201710/ChatCryoJane201710_prep2_10.0um_detector999/ChatCryoJane201710_slide28-S2_prep2_10.0um_detector999/ChatCryoJane201710_slide28-S2_prep2_10.0um_detector999_VCA_scoremap.bp\" \"s3://mousebrainatlas-data/CSHL_scoremaps/10.0um/ChatCryoJane201710/ChatCryoJane201710_prep2_10.0um_detector999/ChatCryoJane201710_slide28-S2_prep2_10.0um_detector999/ChatCryoJane201710_slide28-S2_prep2_10.0um_detector999_VCA_scoremap.bp\"\n",
      "aws s3 cp \"/home/yuncong/CSHL_scoremap_viz/10.0um/VCA/ChatCryoJane201710/detector999/prep2/ChatCryoJane201710_slide28-S2_prep2_10.0um_VCA_detector999_scoremapViz.jpg\" \"s3://mousebrainatlas-data/CSHL_scoremap_viz/10.0um/VCA/ChatCryoJane201710/detector999/prep2/ChatCryoJane201710_slide28-S2_prep2_10.0um_VCA_detector999_scoremapViz.jpg\"\n"
     ]
    },
    {
     "name": "stderr",
     "output_type": "stream",
     "text": [
      "locate patches: 0.04 seconds\n",
      "Not using image_cache.\n",
      "Load image: 10.53 seconds.\n",
      "Resize patches from 316 x 316 to 224 x 224.\n",
      "Extract patches: 183.93 seconds\n"
     ]
    },
    {
     "name": "stdout",
     "output_type": "stream",
     "text": [
      "(35599, 1, 224, 224)\n"
     ]
    },
    {
     "name": "stderr",
     "output_type": "stream",
     "text": [
      "Not using image_cache.\n"
     ]
    },
    {
     "name": "stdout",
     "output_type": "stream",
     "text": [
      "(724, 987, 3) (724, 987)\n",
      "aws s3 cp \"/home/yuncong/CSHL_scoremaps/10.0um/ChatCryoJane201710/ChatCryoJane201710_prep2_10.0um_detector999/ChatCryoJane201710_slide27-S3_prep2_10.0um_detector999/ChatCryoJane201710_slide27-S3_prep2_10.0um_detector999_VCA_scoremap.bp\" \"s3://mousebrainatlas-data/CSHL_scoremaps/10.0um/ChatCryoJane201710/ChatCryoJane201710_prep2_10.0um_detector999/ChatCryoJane201710_slide27-S3_prep2_10.0um_detector999/ChatCryoJane201710_slide27-S3_prep2_10.0um_detector999_VCA_scoremap.bp\"\n",
      "aws s3 cp \"/home/yuncong/CSHL_scoremap_viz/10.0um/VCA/ChatCryoJane201710/detector999/prep2/ChatCryoJane201710_slide27-S3_prep2_10.0um_VCA_detector999_scoremapViz.jpg\" \"s3://mousebrainatlas-data/CSHL_scoremap_viz/10.0um/VCA/ChatCryoJane201710/detector999/prep2/ChatCryoJane201710_slide27-S3_prep2_10.0um_VCA_detector999_scoremapViz.jpg\"\n"
     ]
    },
    {
     "name": "stderr",
     "output_type": "stream",
     "text": [
      "locate patches: 0.04 seconds\n",
      "Not using image_cache.\n",
      "Load image: 11.16 seconds.\n",
      "Resize patches from 316 x 316 to 224 x 224.\n",
      "Extract patches: 182.81 seconds\n"
     ]
    },
    {
     "name": "stdout",
     "output_type": "stream",
     "text": [
      "(35753, 1, 224, 224)\n"
     ]
    },
    {
     "name": "stderr",
     "output_type": "stream",
     "text": [
      "Not using image_cache.\n"
     ]
    },
    {
     "name": "stdout",
     "output_type": "stream",
     "text": [
      "(724, 987, 3) (724, 987)\n",
      "aws s3 cp \"/home/yuncong/CSHL_scoremaps/10.0um/ChatCryoJane201710/ChatCryoJane201710_prep2_10.0um_detector999/ChatCryoJane201710_slide28-S3_prep2_10.0um_detector999/ChatCryoJane201710_slide28-S3_prep2_10.0um_detector999_VCA_scoremap.bp\" \"s3://mousebrainatlas-data/CSHL_scoremaps/10.0um/ChatCryoJane201710/ChatCryoJane201710_prep2_10.0um_detector999/ChatCryoJane201710_slide28-S3_prep2_10.0um_detector999/ChatCryoJane201710_slide28-S3_prep2_10.0um_detector999_VCA_scoremap.bp\"\n",
      "aws s3 cp \"/home/yuncong/CSHL_scoremap_viz/10.0um/VCA/ChatCryoJane201710/detector999/prep2/ChatCryoJane201710_slide28-S3_prep2_10.0um_VCA_detector999_scoremapViz.jpg\" \"s3://mousebrainatlas-data/CSHL_scoremap_viz/10.0um/VCA/ChatCryoJane201710/detector999/prep2/ChatCryoJane201710_slide28-S3_prep2_10.0um_VCA_detector999_scoremapViz.jpg\"\n"
     ]
    },
    {
     "name": "stderr",
     "output_type": "stream",
     "text": [
      "locate patches: 0.04 seconds\n",
      "Not using image_cache.\n",
      "Load image: 11.00 seconds.\n",
      "Resize patches from 316 x 316 to 224 x 224.\n",
      "Extract patches: 193.00 seconds\n"
     ]
    },
    {
     "name": "stdout",
     "output_type": "stream",
     "text": [
      "(35989, 1, 224, 224)\n"
     ]
    },
    {
     "name": "stderr",
     "output_type": "stream",
     "text": [
      "Not using image_cache.\n"
     ]
    },
    {
     "name": "stdout",
     "output_type": "stream",
     "text": [
      "(724, 987, 3) (724, 987)\n",
      "aws s3 cp \"/home/yuncong/CSHL_scoremaps/10.0um/ChatCryoJane201710/ChatCryoJane201710_prep2_10.0um_detector999/ChatCryoJane201710_slide29-S1_prep2_10.0um_detector999/ChatCryoJane201710_slide29-S1_prep2_10.0um_detector999_VCA_scoremap.bp\" \"s3://mousebrainatlas-data/CSHL_scoremaps/10.0um/ChatCryoJane201710/ChatCryoJane201710_prep2_10.0um_detector999/ChatCryoJane201710_slide29-S1_prep2_10.0um_detector999/ChatCryoJane201710_slide29-S1_prep2_10.0um_detector999_VCA_scoremap.bp\"\n",
      "aws s3 cp \"/home/yuncong/CSHL_scoremap_viz/10.0um/VCA/ChatCryoJane201710/detector999/prep2/ChatCryoJane201710_slide29-S1_prep2_10.0um_VCA_detector999_scoremapViz.jpg\" \"s3://mousebrainatlas-data/CSHL_scoremap_viz/10.0um/VCA/ChatCryoJane201710/detector999/prep2/ChatCryoJane201710_slide29-S1_prep2_10.0um_VCA_detector999_scoremapViz.jpg\"\n"
     ]
    },
    {
     "name": "stderr",
     "output_type": "stream",
     "text": [
      "locate patches: 0.07 seconds\n",
      "Not using image_cache.\n",
      "Load image: 11.25 seconds.\n",
      "Resize patches from 316 x 316 to 224 x 224.\n",
      "Extract patches: 203.06 seconds\n"
     ]
    },
    {
     "name": "stdout",
     "output_type": "stream",
     "text": [
      "(36148, 1, 224, 224)\n"
     ]
    },
    {
     "name": "stderr",
     "output_type": "stream",
     "text": [
      "Not using image_cache.\n"
     ]
    },
    {
     "name": "stdout",
     "output_type": "stream",
     "text": [
      "(724, 987, 3) (724, 987)\n",
      "aws s3 cp \"/home/yuncong/CSHL_scoremaps/10.0um/ChatCryoJane201710/ChatCryoJane201710_prep2_10.0um_detector999/ChatCryoJane201710_slide30-S1_prep2_10.0um_detector999/ChatCryoJane201710_slide30-S1_prep2_10.0um_detector999_VCA_scoremap.bp\" \"s3://mousebrainatlas-data/CSHL_scoremaps/10.0um/ChatCryoJane201710/ChatCryoJane201710_prep2_10.0um_detector999/ChatCryoJane201710_slide30-S1_prep2_10.0um_detector999/ChatCryoJane201710_slide30-S1_prep2_10.0um_detector999_VCA_scoremap.bp\"\n",
      "aws s3 cp \"/home/yuncong/CSHL_scoremap_viz/10.0um/VCA/ChatCryoJane201710/detector999/prep2/ChatCryoJane201710_slide30-S1_prep2_10.0um_VCA_detector999_scoremapViz.jpg\" \"s3://mousebrainatlas-data/CSHL_scoremap_viz/10.0um/VCA/ChatCryoJane201710/detector999/prep2/ChatCryoJane201710_slide30-S1_prep2_10.0um_VCA_detector999_scoremapViz.jpg\"\n"
     ]
    },
    {
     "name": "stderr",
     "output_type": "stream",
     "text": [
      "locate patches: 0.05 seconds\n",
      "Not using image_cache.\n",
      "Load image: 10.50 seconds.\n",
      "Resize patches from 316 x 316 to 224 x 224.\n",
      "Extract patches: 186.31 seconds\n"
     ]
    },
    {
     "name": "stdout",
     "output_type": "stream",
     "text": [
      "(36261, 1, 224, 224)\n"
     ]
    },
    {
     "name": "stderr",
     "output_type": "stream",
     "text": [
      "Not using image_cache.\n"
     ]
    },
    {
     "name": "stdout",
     "output_type": "stream",
     "text": [
      "(724, 987, 3) (724, 987)\n",
      "aws s3 cp \"/home/yuncong/CSHL_scoremaps/10.0um/ChatCryoJane201710/ChatCryoJane201710_prep2_10.0um_detector999/ChatCryoJane201710_slide29-S2_prep2_10.0um_detector999/ChatCryoJane201710_slide29-S2_prep2_10.0um_detector999_VCA_scoremap.bp\" \"s3://mousebrainatlas-data/CSHL_scoremaps/10.0um/ChatCryoJane201710/ChatCryoJane201710_prep2_10.0um_detector999/ChatCryoJane201710_slide29-S2_prep2_10.0um_detector999/ChatCryoJane201710_slide29-S2_prep2_10.0um_detector999_VCA_scoremap.bp\"\n",
      "aws s3 cp \"/home/yuncong/CSHL_scoremap_viz/10.0um/VCA/ChatCryoJane201710/detector999/prep2/ChatCryoJane201710_slide29-S2_prep2_10.0um_VCA_detector999_scoremapViz.jpg\" \"s3://mousebrainatlas-data/CSHL_scoremap_viz/10.0um/VCA/ChatCryoJane201710/detector999/prep2/ChatCryoJane201710_slide29-S2_prep2_10.0um_VCA_detector999_scoremapViz.jpg\"\n"
     ]
    },
    {
     "name": "stderr",
     "output_type": "stream",
     "text": [
      "locate patches: 0.05 seconds\n",
      "Not using image_cache.\n",
      "Load image: 10.61 seconds.\n",
      "Resize patches from 316 x 316 to 224 x 224.\n",
      "Extract patches: 185.00 seconds\n"
     ]
    },
    {
     "name": "stdout",
     "output_type": "stream",
     "text": [
      "(36242, 1, 224, 224)\n"
     ]
    },
    {
     "name": "stderr",
     "output_type": "stream",
     "text": [
      "Not using image_cache.\n"
     ]
    },
    {
     "name": "stdout",
     "output_type": "stream",
     "text": [
      "(724, 987, 3) (724, 987)\n",
      "aws s3 cp \"/home/yuncong/CSHL_scoremaps/10.0um/ChatCryoJane201710/ChatCryoJane201710_prep2_10.0um_detector999/ChatCryoJane201710_slide30-S2_prep2_10.0um_detector999/ChatCryoJane201710_slide30-S2_prep2_10.0um_detector999_VCA_scoremap.bp\" \"s3://mousebrainatlas-data/CSHL_scoremaps/10.0um/ChatCryoJane201710/ChatCryoJane201710_prep2_10.0um_detector999/ChatCryoJane201710_slide30-S2_prep2_10.0um_detector999/ChatCryoJane201710_slide30-S2_prep2_10.0um_detector999_VCA_scoremap.bp\"\n",
      "aws s3 cp \"/home/yuncong/CSHL_scoremap_viz/10.0um/VCA/ChatCryoJane201710/detector999/prep2/ChatCryoJane201710_slide30-S2_prep2_10.0um_VCA_detector999_scoremapViz.jpg\" \"s3://mousebrainatlas-data/CSHL_scoremap_viz/10.0um/VCA/ChatCryoJane201710/detector999/prep2/ChatCryoJane201710_slide30-S2_prep2_10.0um_VCA_detector999_scoremapViz.jpg\"\n"
     ]
    },
    {
     "name": "stderr",
     "output_type": "stream",
     "text": [
      "locate patches: 0.05 seconds\n",
      "Not using image_cache.\n",
      "Load image: 10.30 seconds.\n",
      "Resize patches from 316 x 316 to 224 x 224.\n",
      "Extract patches: 189.14 seconds\n"
     ]
    },
    {
     "name": "stdout",
     "output_type": "stream",
     "text": [
      "(36664, 1, 224, 224)\n"
     ]
    },
    {
     "name": "stderr",
     "output_type": "stream",
     "text": [
      "Not using image_cache.\n"
     ]
    },
    {
     "name": "stdout",
     "output_type": "stream",
     "text": [
      "(724, 987, 3) (724, 987)\n",
      "aws s3 cp \"/home/yuncong/CSHL_scoremaps/10.0um/ChatCryoJane201710/ChatCryoJane201710_prep2_10.0um_detector999/ChatCryoJane201710_slide29-S3_prep2_10.0um_detector999/ChatCryoJane201710_slide29-S3_prep2_10.0um_detector999_VCA_scoremap.bp\" \"s3://mousebrainatlas-data/CSHL_scoremaps/10.0um/ChatCryoJane201710/ChatCryoJane201710_prep2_10.0um_detector999/ChatCryoJane201710_slide29-S3_prep2_10.0um_detector999/ChatCryoJane201710_slide29-S3_prep2_10.0um_detector999_VCA_scoremap.bp\"\n",
      "aws s3 cp \"/home/yuncong/CSHL_scoremap_viz/10.0um/VCA/ChatCryoJane201710/detector999/prep2/ChatCryoJane201710_slide29-S3_prep2_10.0um_VCA_detector999_scoremapViz.jpg\" \"s3://mousebrainatlas-data/CSHL_scoremap_viz/10.0um/VCA/ChatCryoJane201710/detector999/prep2/ChatCryoJane201710_slide29-S3_prep2_10.0um_VCA_detector999_scoremapViz.jpg\"\n"
     ]
    },
    {
     "name": "stderr",
     "output_type": "stream",
     "text": [
      "locate patches: 0.06 seconds\n",
      "Not using image_cache.\n",
      "Load image: 10.78 seconds.\n",
      "Resize patches from 316 x 316 to 224 x 224.\n",
      "Extract patches: 188.40 seconds\n"
     ]
    },
    {
     "name": "stdout",
     "output_type": "stream",
     "text": [
      "(36654, 1, 224, 224)\n"
     ]
    },
    {
     "name": "stderr",
     "output_type": "stream",
     "text": [
      "Not using image_cache.\n"
     ]
    },
    {
     "name": "stdout",
     "output_type": "stream",
     "text": [
      "(724, 987, 3) (724, 987)\n",
      "aws s3 cp \"/home/yuncong/CSHL_scoremaps/10.0um/ChatCryoJane201710/ChatCryoJane201710_prep2_10.0um_detector999/ChatCryoJane201710_slide30-S3_prep2_10.0um_detector999/ChatCryoJane201710_slide30-S3_prep2_10.0um_detector999_VCA_scoremap.bp\" \"s3://mousebrainatlas-data/CSHL_scoremaps/10.0um/ChatCryoJane201710/ChatCryoJane201710_prep2_10.0um_detector999/ChatCryoJane201710_slide30-S3_prep2_10.0um_detector999/ChatCryoJane201710_slide30-S3_prep2_10.0um_detector999_VCA_scoremap.bp\"\n",
      "aws s3 cp \"/home/yuncong/CSHL_scoremap_viz/10.0um/VCA/ChatCryoJane201710/detector999/prep2/ChatCryoJane201710_slide30-S3_prep2_10.0um_VCA_detector999_scoremapViz.jpg\" \"s3://mousebrainatlas-data/CSHL_scoremap_viz/10.0um/VCA/ChatCryoJane201710/detector999/prep2/ChatCryoJane201710_slide30-S3_prep2_10.0um_VCA_detector999_scoremapViz.jpg\"\n"
     ]
    },
    {
     "name": "stderr",
     "output_type": "stream",
     "text": [
      "locate patches: 0.05 seconds\n",
      "Not using image_cache.\n",
      "Load image: 10.60 seconds.\n",
      "Resize patches from 316 x 316 to 224 x 224.\n",
      "Extract patches: 190.20 seconds\n"
     ]
    },
    {
     "name": "stdout",
     "output_type": "stream",
     "text": [
      "(36928, 1, 224, 224)\n"
     ]
    },
    {
     "name": "stderr",
     "output_type": "stream",
     "text": [
      "Not using image_cache.\n"
     ]
    },
    {
     "name": "stdout",
     "output_type": "stream",
     "text": [
      "(724, 987, 3) (724, 987)\n",
      "aws s3 cp \"/home/yuncong/CSHL_scoremaps/10.0um/ChatCryoJane201710/ChatCryoJane201710_prep2_10.0um_detector999/ChatCryoJane201710_slide31-S1_prep2_10.0um_detector999/ChatCryoJane201710_slide31-S1_prep2_10.0um_detector999_VCA_scoremap.bp\" \"s3://mousebrainatlas-data/CSHL_scoremaps/10.0um/ChatCryoJane201710/ChatCryoJane201710_prep2_10.0um_detector999/ChatCryoJane201710_slide31-S1_prep2_10.0um_detector999/ChatCryoJane201710_slide31-S1_prep2_10.0um_detector999_VCA_scoremap.bp\"\n",
      "aws s3 cp \"/home/yuncong/CSHL_scoremap_viz/10.0um/VCA/ChatCryoJane201710/detector999/prep2/ChatCryoJane201710_slide31-S1_prep2_10.0um_VCA_detector999_scoremapViz.jpg\" \"s3://mousebrainatlas-data/CSHL_scoremap_viz/10.0um/VCA/ChatCryoJane201710/detector999/prep2/ChatCryoJane201710_slide31-S1_prep2_10.0um_VCA_detector999_scoremapViz.jpg\"\n"
     ]
    },
    {
     "name": "stderr",
     "output_type": "stream",
     "text": [
      "locate patches: 0.05 seconds\n",
      "Not using image_cache.\n",
      "Load image: 10.85 seconds.\n",
      "Resize patches from 316 x 316 to 224 x 224.\n",
      "Extract patches: 187.52 seconds\n"
     ]
    },
    {
     "name": "stdout",
     "output_type": "stream",
     "text": [
      "(37054, 1, 224, 224)\n"
     ]
    },
    {
     "name": "stderr",
     "output_type": "stream",
     "text": [
      "Not using image_cache.\n"
     ]
    },
    {
     "name": "stdout",
     "output_type": "stream",
     "text": [
      "(724, 987, 3) (724, 987)\n",
      "aws s3 cp \"/home/yuncong/CSHL_scoremaps/10.0um/ChatCryoJane201710/ChatCryoJane201710_prep2_10.0um_detector999/ChatCryoJane201710_slide32-S1_prep2_10.0um_detector999/ChatCryoJane201710_slide32-S1_prep2_10.0um_detector999_VCA_scoremap.bp\" \"s3://mousebrainatlas-data/CSHL_scoremaps/10.0um/ChatCryoJane201710/ChatCryoJane201710_prep2_10.0um_detector999/ChatCryoJane201710_slide32-S1_prep2_10.0um_detector999/ChatCryoJane201710_slide32-S1_prep2_10.0um_detector999_VCA_scoremap.bp\"\n",
      "aws s3 cp \"/home/yuncong/CSHL_scoremap_viz/10.0um/VCA/ChatCryoJane201710/detector999/prep2/ChatCryoJane201710_slide32-S1_prep2_10.0um_VCA_detector999_scoremapViz.jpg\" \"s3://mousebrainatlas-data/CSHL_scoremap_viz/10.0um/VCA/ChatCryoJane201710/detector999/prep2/ChatCryoJane201710_slide32-S1_prep2_10.0um_VCA_detector999_scoremapViz.jpg\"\n"
     ]
    },
    {
     "name": "stderr",
     "output_type": "stream",
     "text": [
      "locate patches: 0.05 seconds\n",
      "Not using image_cache.\n",
      "Load image: 10.94 seconds.\n",
      "Resize patches from 316 x 316 to 224 x 224.\n",
      "Extract patches: 192.79 seconds\n"
     ]
    },
    {
     "name": "stdout",
     "output_type": "stream",
     "text": [
      "(37180, 1, 224, 224)\n"
     ]
    },
    {
     "name": "stderr",
     "output_type": "stream",
     "text": [
      "Not using image_cache.\n"
     ]
    },
    {
     "name": "stdout",
     "output_type": "stream",
     "text": [
      "(724, 987, 3) (724, 987)\n",
      "aws s3 cp \"/home/yuncong/CSHL_scoremaps/10.0um/ChatCryoJane201710/ChatCryoJane201710_prep2_10.0um_detector999/ChatCryoJane201710_slide31-S2_prep2_10.0um_detector999/ChatCryoJane201710_slide31-S2_prep2_10.0um_detector999_VCA_scoremap.bp\" \"s3://mousebrainatlas-data/CSHL_scoremaps/10.0um/ChatCryoJane201710/ChatCryoJane201710_prep2_10.0um_detector999/ChatCryoJane201710_slide31-S2_prep2_10.0um_detector999/ChatCryoJane201710_slide31-S2_prep2_10.0um_detector999_VCA_scoremap.bp\"\n",
      "aws s3 cp \"/home/yuncong/CSHL_scoremap_viz/10.0um/VCA/ChatCryoJane201710/detector999/prep2/ChatCryoJane201710_slide31-S2_prep2_10.0um_VCA_detector999_scoremapViz.jpg\" \"s3://mousebrainatlas-data/CSHL_scoremap_viz/10.0um/VCA/ChatCryoJane201710/detector999/prep2/ChatCryoJane201710_slide31-S2_prep2_10.0um_VCA_detector999_scoremapViz.jpg\"\n"
     ]
    },
    {
     "name": "stderr",
     "output_type": "stream",
     "text": [
      "locate patches: 0.06 seconds\n",
      "Not using image_cache.\n",
      "Load image: 10.82 seconds.\n",
      "Resize patches from 316 x 316 to 224 x 224.\n",
      "Extract patches: 190.45 seconds\n"
     ]
    },
    {
     "name": "stdout",
     "output_type": "stream",
     "text": [
      "(37350, 1, 224, 224)\n"
     ]
    },
    {
     "name": "stderr",
     "output_type": "stream",
     "text": [
      "Not using image_cache.\n"
     ]
    },
    {
     "name": "stdout",
     "output_type": "stream",
     "text": [
      "(724, 987, 3) (724, 987)\n",
      "aws s3 cp \"/home/yuncong/CSHL_scoremaps/10.0um/ChatCryoJane201710/ChatCryoJane201710_prep2_10.0um_detector999/ChatCryoJane201710_slide32-S2_prep2_10.0um_detector999/ChatCryoJane201710_slide32-S2_prep2_10.0um_detector999_VCA_scoremap.bp\" \"s3://mousebrainatlas-data/CSHL_scoremaps/10.0um/ChatCryoJane201710/ChatCryoJane201710_prep2_10.0um_detector999/ChatCryoJane201710_slide32-S2_prep2_10.0um_detector999/ChatCryoJane201710_slide32-S2_prep2_10.0um_detector999_VCA_scoremap.bp\"\n",
      "aws s3 cp \"/home/yuncong/CSHL_scoremap_viz/10.0um/VCA/ChatCryoJane201710/detector999/prep2/ChatCryoJane201710_slide32-S2_prep2_10.0um_VCA_detector999_scoremapViz.jpg\" \"s3://mousebrainatlas-data/CSHL_scoremap_viz/10.0um/VCA/ChatCryoJane201710/detector999/prep2/ChatCryoJane201710_slide32-S2_prep2_10.0um_VCA_detector999_scoremapViz.jpg\"\n"
     ]
    },
    {
     "name": "stderr",
     "output_type": "stream",
     "text": [
      "locate patches: 0.05 seconds\n",
      "Not using image_cache.\n",
      "Load image: 10.35 seconds.\n",
      "Resize patches from 316 x 316 to 224 x 224.\n",
      "Extract patches: 190.52 seconds\n"
     ]
    },
    {
     "name": "stdout",
     "output_type": "stream",
     "text": [
      "(37603, 1, 224, 224)\n"
     ]
    },
    {
     "name": "stderr",
     "output_type": "stream",
     "text": [
      "Not using image_cache.\n"
     ]
    },
    {
     "name": "stdout",
     "output_type": "stream",
     "text": [
      "(724, 987, 3) (724, 987)\n",
      "aws s3 cp \"/home/yuncong/CSHL_scoremaps/10.0um/ChatCryoJane201710/ChatCryoJane201710_prep2_10.0um_detector999/ChatCryoJane201710_slide31-S3_prep2_10.0um_detector999/ChatCryoJane201710_slide31-S3_prep2_10.0um_detector999_VCA_scoremap.bp\" \"s3://mousebrainatlas-data/CSHL_scoremaps/10.0um/ChatCryoJane201710/ChatCryoJane201710_prep2_10.0um_detector999/ChatCryoJane201710_slide31-S3_prep2_10.0um_detector999/ChatCryoJane201710_slide31-S3_prep2_10.0um_detector999_VCA_scoremap.bp\"\n",
      "aws s3 cp \"/home/yuncong/CSHL_scoremap_viz/10.0um/VCA/ChatCryoJane201710/detector999/prep2/ChatCryoJane201710_slide31-S3_prep2_10.0um_VCA_detector999_scoremapViz.jpg\" \"s3://mousebrainatlas-data/CSHL_scoremap_viz/10.0um/VCA/ChatCryoJane201710/detector999/prep2/ChatCryoJane201710_slide31-S3_prep2_10.0um_VCA_detector999_scoremapViz.jpg\"\n"
     ]
    },
    {
     "name": "stderr",
     "output_type": "stream",
     "text": [
      "locate patches: 0.06 seconds\n",
      "Not using image_cache.\n",
      "Load image: 10.74 seconds.\n",
      "Resize patches from 316 x 316 to 224 x 224.\n",
      "Extract patches: 194.21 seconds\n"
     ]
    },
    {
     "name": "stdout",
     "output_type": "stream",
     "text": [
      "(37682, 1, 224, 224)\n"
     ]
    },
    {
     "name": "stderr",
     "output_type": "stream",
     "text": [
      "Not using image_cache.\n"
     ]
    },
    {
     "name": "stdout",
     "output_type": "stream",
     "text": [
      "(724, 987, 3) (724, 987)\n",
      "aws s3 cp \"/home/yuncong/CSHL_scoremaps/10.0um/ChatCryoJane201710/ChatCryoJane201710_prep2_10.0um_detector999/ChatCryoJane201710_slide32-S3_prep2_10.0um_detector999/ChatCryoJane201710_slide32-S3_prep2_10.0um_detector999_VCA_scoremap.bp\" \"s3://mousebrainatlas-data/CSHL_scoremaps/10.0um/ChatCryoJane201710/ChatCryoJane201710_prep2_10.0um_detector999/ChatCryoJane201710_slide32-S3_prep2_10.0um_detector999/ChatCryoJane201710_slide32-S3_prep2_10.0um_detector999_VCA_scoremap.bp\"\n",
      "aws s3 cp \"/home/yuncong/CSHL_scoremap_viz/10.0um/VCA/ChatCryoJane201710/detector999/prep2/ChatCryoJane201710_slide32-S3_prep2_10.0um_VCA_detector999_scoremapViz.jpg\" \"s3://mousebrainatlas-data/CSHL_scoremap_viz/10.0um/VCA/ChatCryoJane201710/detector999/prep2/ChatCryoJane201710_slide32-S3_prep2_10.0um_VCA_detector999_scoremapViz.jpg\"\n"
     ]
    },
    {
     "name": "stderr",
     "output_type": "stream",
     "text": [
      "locate patches: 0.05 seconds\n",
      "Not using image_cache.\n",
      "Load image: 10.99 seconds.\n",
      "Resize patches from 316 x 316 to 224 x 224.\n",
      "Extract patches: 218.23 seconds\n"
     ]
    },
    {
     "name": "stdout",
     "output_type": "stream",
     "text": [
      "(37898, 1, 224, 224)\n"
     ]
    },
    {
     "name": "stderr",
     "output_type": "stream",
     "text": [
      "Not using image_cache.\n"
     ]
    },
    {
     "name": "stdout",
     "output_type": "stream",
     "text": [
      "(724, 987, 3) (724, 987)\n",
      "aws s3 cp \"/home/yuncong/CSHL_scoremaps/10.0um/ChatCryoJane201710/ChatCryoJane201710_prep2_10.0um_detector999/ChatCryoJane201710_slide33-S1_prep2_10.0um_detector999/ChatCryoJane201710_slide33-S1_prep2_10.0um_detector999_VCA_scoremap.bp\" \"s3://mousebrainatlas-data/CSHL_scoremaps/10.0um/ChatCryoJane201710/ChatCryoJane201710_prep2_10.0um_detector999/ChatCryoJane201710_slide33-S1_prep2_10.0um_detector999/ChatCryoJane201710_slide33-S1_prep2_10.0um_detector999_VCA_scoremap.bp\"\n",
      "aws s3 cp \"/home/yuncong/CSHL_scoremap_viz/10.0um/VCA/ChatCryoJane201710/detector999/prep2/ChatCryoJane201710_slide33-S1_prep2_10.0um_VCA_detector999_scoremapViz.jpg\" \"s3://mousebrainatlas-data/CSHL_scoremap_viz/10.0um/VCA/ChatCryoJane201710/detector999/prep2/ChatCryoJane201710_slide33-S1_prep2_10.0um_VCA_detector999_scoremapViz.jpg\"\n"
     ]
    },
    {
     "name": "stderr",
     "output_type": "stream",
     "text": [
      "locate patches: 0.19 seconds\n",
      "Not using image_cache.\n",
      "Load image: 11.49 seconds.\n",
      "Resize patches from 316 x 316 to 224 x 224.\n",
      "Extract patches: 270.70 seconds\n"
     ]
    },
    {
     "name": "stdout",
     "output_type": "stream",
     "text": [
      "(37939, 1, 224, 224)\n"
     ]
    },
    {
     "name": "stderr",
     "output_type": "stream",
     "text": [
      "Not using image_cache.\n"
     ]
    },
    {
     "name": "stdout",
     "output_type": "stream",
     "text": [
      "(724, 987, 3) (724, 987)\n",
      "aws s3 cp \"/home/yuncong/CSHL_scoremaps/10.0um/ChatCryoJane201710/ChatCryoJane201710_prep2_10.0um_detector999/ChatCryoJane201710_slide34-S1_prep2_10.0um_detector999/ChatCryoJane201710_slide34-S1_prep2_10.0um_detector999_VCA_scoremap.bp\" \"s3://mousebrainatlas-data/CSHL_scoremaps/10.0um/ChatCryoJane201710/ChatCryoJane201710_prep2_10.0um_detector999/ChatCryoJane201710_slide34-S1_prep2_10.0um_detector999/ChatCryoJane201710_slide34-S1_prep2_10.0um_detector999_VCA_scoremap.bp\"\n",
      "aws s3 cp \"/home/yuncong/CSHL_scoremap_viz/10.0um/VCA/ChatCryoJane201710/detector999/prep2/ChatCryoJane201710_slide34-S1_prep2_10.0um_VCA_detector999_scoremapViz.jpg\" \"s3://mousebrainatlas-data/CSHL_scoremap_viz/10.0um/VCA/ChatCryoJane201710/detector999/prep2/ChatCryoJane201710_slide34-S1_prep2_10.0um_VCA_detector999_scoremapViz.jpg\"\n"
     ]
    },
    {
     "name": "stderr",
     "output_type": "stream",
     "text": [
      "locate patches: 0.06 seconds\n",
      "Not using image_cache.\n",
      "Load image: 11.81 seconds.\n",
      "Resize patches from 316 x 316 to 224 x 224.\n",
      "Extract patches: 372.89 seconds\n"
     ]
    },
    {
     "name": "stdout",
     "output_type": "stream",
     "text": [
      "(38020, 1, 224, 224)\n"
     ]
    },
    {
     "name": "stderr",
     "output_type": "stream",
     "text": [
      "Not using image_cache.\n"
     ]
    },
    {
     "name": "stdout",
     "output_type": "stream",
     "text": [
      "(724, 987, 3) (724, 987)\n",
      "aws s3 cp \"/home/yuncong/CSHL_scoremaps/10.0um/ChatCryoJane201710/ChatCryoJane201710_prep2_10.0um_detector999/ChatCryoJane201710_slide33-S2_prep2_10.0um_detector999/ChatCryoJane201710_slide33-S2_prep2_10.0um_detector999_VCA_scoremap.bp\" \"s3://mousebrainatlas-data/CSHL_scoremaps/10.0um/ChatCryoJane201710/ChatCryoJane201710_prep2_10.0um_detector999/ChatCryoJane201710_slide33-S2_prep2_10.0um_detector999/ChatCryoJane201710_slide33-S2_prep2_10.0um_detector999_VCA_scoremap.bp\"\n",
      "aws s3 cp \"/home/yuncong/CSHL_scoremap_viz/10.0um/VCA/ChatCryoJane201710/detector999/prep2/ChatCryoJane201710_slide33-S2_prep2_10.0um_VCA_detector999_scoremapViz.jpg\" \"s3://mousebrainatlas-data/CSHL_scoremap_viz/10.0um/VCA/ChatCryoJane201710/detector999/prep2/ChatCryoJane201710_slide33-S2_prep2_10.0um_VCA_detector999_scoremapViz.jpg\"\n"
     ]
    },
    {
     "name": "stderr",
     "output_type": "stream",
     "text": [
      "locate patches: 0.09 seconds\n",
      "Not using image_cache.\n",
      "Load image: 11.38 seconds.\n",
      "Resize patches from 316 x 316 to 224 x 224.\n",
      "Extract patches: 212.67 seconds\n"
     ]
    },
    {
     "name": "stdout",
     "output_type": "stream",
     "text": [
      "(38237, 1, 224, 224)\n"
     ]
    },
    {
     "name": "stderr",
     "output_type": "stream",
     "text": [
      "Not using image_cache.\n"
     ]
    },
    {
     "name": "stdout",
     "output_type": "stream",
     "text": [
      "(724, 987, 3) (724, 987)\n",
      "aws s3 cp \"/home/yuncong/CSHL_scoremaps/10.0um/ChatCryoJane201710/ChatCryoJane201710_prep2_10.0um_detector999/ChatCryoJane201710_slide34-S2_prep2_10.0um_detector999/ChatCryoJane201710_slide34-S2_prep2_10.0um_detector999_VCA_scoremap.bp\" \"s3://mousebrainatlas-data/CSHL_scoremaps/10.0um/ChatCryoJane201710/ChatCryoJane201710_prep2_10.0um_detector999/ChatCryoJane201710_slide34-S2_prep2_10.0um_detector999/ChatCryoJane201710_slide34-S2_prep2_10.0um_detector999_VCA_scoremap.bp\"\n",
      "aws s3 cp \"/home/yuncong/CSHL_scoremap_viz/10.0um/VCA/ChatCryoJane201710/detector999/prep2/ChatCryoJane201710_slide34-S2_prep2_10.0um_VCA_detector999_scoremapViz.jpg\" \"s3://mousebrainatlas-data/CSHL_scoremap_viz/10.0um/VCA/ChatCryoJane201710/detector999/prep2/ChatCryoJane201710_slide34-S2_prep2_10.0um_VCA_detector999_scoremapViz.jpg\"\n"
     ]
    },
    {
     "name": "stderr",
     "output_type": "stream",
     "text": [
      "locate patches: 0.05 seconds\n",
      "Not using image_cache.\n",
      "Load image: 11.28 seconds.\n",
      "Resize patches from 316 x 316 to 224 x 224.\n",
      "Extract patches: 204.32 seconds\n"
     ]
    },
    {
     "name": "stdout",
     "output_type": "stream",
     "text": [
      "(38259, 1, 224, 224)\n"
     ]
    },
    {
     "name": "stderr",
     "output_type": "stream",
     "text": [
      "Not using image_cache.\n"
     ]
    },
    {
     "name": "stdout",
     "output_type": "stream",
     "text": [
      "(724, 987, 3) (724, 987)\n",
      "aws s3 cp \"/home/yuncong/CSHL_scoremaps/10.0um/ChatCryoJane201710/ChatCryoJane201710_prep2_10.0um_detector999/ChatCryoJane201710_slide33-S3_prep2_10.0um_detector999/ChatCryoJane201710_slide33-S3_prep2_10.0um_detector999_VCA_scoremap.bp\" \"s3://mousebrainatlas-data/CSHL_scoremaps/10.0um/ChatCryoJane201710/ChatCryoJane201710_prep2_10.0um_detector999/ChatCryoJane201710_slide33-S3_prep2_10.0um_detector999/ChatCryoJane201710_slide33-S3_prep2_10.0um_detector999_VCA_scoremap.bp\"\n",
      "aws s3 cp \"/home/yuncong/CSHL_scoremap_viz/10.0um/VCA/ChatCryoJane201710/detector999/prep2/ChatCryoJane201710_slide33-S3_prep2_10.0um_VCA_detector999_scoremapViz.jpg\" \"s3://mousebrainatlas-data/CSHL_scoremap_viz/10.0um/VCA/ChatCryoJane201710/detector999/prep2/ChatCryoJane201710_slide33-S3_prep2_10.0um_VCA_detector999_scoremapViz.jpg\"\n"
     ]
    },
    {
     "name": "stderr",
     "output_type": "stream",
     "text": [
      "locate patches: 0.06 seconds\n",
      "Not using image_cache.\n",
      "Load image: 11.42 seconds.\n",
      "Resize patches from 316 x 316 to 224 x 224.\n",
      "Extract patches: 207.18 seconds\n"
     ]
    },
    {
     "name": "stdout",
     "output_type": "stream",
     "text": [
      "(38206, 1, 224, 224)\n"
     ]
    },
    {
     "name": "stderr",
     "output_type": "stream",
     "text": [
      "Not using image_cache.\n"
     ]
    },
    {
     "name": "stdout",
     "output_type": "stream",
     "text": [
      "(724, 987, 3) (724, 987)\n",
      "aws s3 cp \"/home/yuncong/CSHL_scoremaps/10.0um/ChatCryoJane201710/ChatCryoJane201710_prep2_10.0um_detector999/ChatCryoJane201710_slide34-S3_prep2_10.0um_detector999/ChatCryoJane201710_slide34-S3_prep2_10.0um_detector999_VCA_scoremap.bp\" \"s3://mousebrainatlas-data/CSHL_scoremaps/10.0um/ChatCryoJane201710/ChatCryoJane201710_prep2_10.0um_detector999/ChatCryoJane201710_slide34-S3_prep2_10.0um_detector999/ChatCryoJane201710_slide34-S3_prep2_10.0um_detector999_VCA_scoremap.bp\"\n",
      "aws s3 cp \"/home/yuncong/CSHL_scoremap_viz/10.0um/VCA/ChatCryoJane201710/detector999/prep2/ChatCryoJane201710_slide34-S3_prep2_10.0um_VCA_detector999_scoremapViz.jpg\" \"s3://mousebrainatlas-data/CSHL_scoremap_viz/10.0um/VCA/ChatCryoJane201710/detector999/prep2/ChatCryoJane201710_slide34-S3_prep2_10.0um_VCA_detector999_scoremapViz.jpg\"\n"
     ]
    },
    {
     "name": "stderr",
     "output_type": "stream",
     "text": [
      "locate patches: 0.05 seconds\n",
      "Not using image_cache.\n",
      "Load image: 11.27 seconds.\n",
      "Resize patches from 316 x 316 to 224 x 224.\n",
      "Extract patches: 205.31 seconds\n"
     ]
    },
    {
     "name": "stdout",
     "output_type": "stream",
     "text": [
      "(38358, 1, 224, 224)\n"
     ]
    },
    {
     "name": "stderr",
     "output_type": "stream",
     "text": [
      "Not using image_cache.\n"
     ]
    },
    {
     "name": "stdout",
     "output_type": "stream",
     "text": [
      "(724, 987, 3) (724, 987)\n",
      "aws s3 cp \"/home/yuncong/CSHL_scoremaps/10.0um/ChatCryoJane201710/ChatCryoJane201710_prep2_10.0um_detector999/ChatCryoJane201710_slide35-S1_prep2_10.0um_detector999/ChatCryoJane201710_slide35-S1_prep2_10.0um_detector999_VCA_scoremap.bp\" \"s3://mousebrainatlas-data/CSHL_scoremaps/10.0um/ChatCryoJane201710/ChatCryoJane201710_prep2_10.0um_detector999/ChatCryoJane201710_slide35-S1_prep2_10.0um_detector999/ChatCryoJane201710_slide35-S1_prep2_10.0um_detector999_VCA_scoremap.bp\"\n",
      "aws s3 cp \"/home/yuncong/CSHL_scoremap_viz/10.0um/VCA/ChatCryoJane201710/detector999/prep2/ChatCryoJane201710_slide35-S1_prep2_10.0um_VCA_detector999_scoremapViz.jpg\" \"s3://mousebrainatlas-data/CSHL_scoremap_viz/10.0um/VCA/ChatCryoJane201710/detector999/prep2/ChatCryoJane201710_slide35-S1_prep2_10.0um_VCA_detector999_scoremapViz.jpg\"\n"
     ]
    },
    {
     "name": "stderr",
     "output_type": "stream",
     "text": [
      "locate patches: 0.06 seconds\n",
      "Not using image_cache.\n",
      "Load image: 11.86 seconds.\n",
      "Resize patches from 316 x 316 to 224 x 224.\n",
      "Extract patches: 211.24 seconds\n"
     ]
    },
    {
     "name": "stdout",
     "output_type": "stream",
     "text": [
      "(38842, 1, 224, 224)\n"
     ]
    },
    {
     "name": "stderr",
     "output_type": "stream",
     "text": [
      "Not using image_cache.\n"
     ]
    },
    {
     "name": "stdout",
     "output_type": "stream",
     "text": [
      "(724, 987, 3) (724, 987)\n",
      "aws s3 cp \"/home/yuncong/CSHL_scoremaps/10.0um/ChatCryoJane201710/ChatCryoJane201710_prep2_10.0um_detector999/ChatCryoJane201710_slide36-S1_prep2_10.0um_detector999/ChatCryoJane201710_slide36-S1_prep2_10.0um_detector999_VCA_scoremap.bp\" \"s3://mousebrainatlas-data/CSHL_scoremaps/10.0um/ChatCryoJane201710/ChatCryoJane201710_prep2_10.0um_detector999/ChatCryoJane201710_slide36-S1_prep2_10.0um_detector999/ChatCryoJane201710_slide36-S1_prep2_10.0um_detector999_VCA_scoremap.bp\"\n",
      "aws s3 cp \"/home/yuncong/CSHL_scoremap_viz/10.0um/VCA/ChatCryoJane201710/detector999/prep2/ChatCryoJane201710_slide36-S1_prep2_10.0um_VCA_detector999_scoremapViz.jpg\" \"s3://mousebrainatlas-data/CSHL_scoremap_viz/10.0um/VCA/ChatCryoJane201710/detector999/prep2/ChatCryoJane201710_slide36-S1_prep2_10.0um_VCA_detector999_scoremapViz.jpg\"\n"
     ]
    },
    {
     "name": "stderr",
     "output_type": "stream",
     "text": [
      "locate patches: 0.07 seconds\n",
      "Not using image_cache.\n",
      "Load image: 11.06 seconds.\n",
      "Resize patches from 316 x 316 to 224 x 224.\n"
     ]
    },
    {
     "ename": "KeyboardInterrupt",
     "evalue": "",
     "output_type": "error",
     "traceback": [
      "\u001b[0;31m---------------------------------------------------------------------------\u001b[0m",
      "\u001b[0;31mKeyboardInterrupt\u001b[0m                         Traceback (most recent call last)",
      "\u001b[0;32m<ipython-input-5-750293a3179a>\u001b[0m in \u001b[0;36m<module>\u001b[0;34m()\u001b[0m\n\u001b[1;32m     16\u001b[0m                                  \u001b[0mmean_img\u001b[0m\u001b[0;34m=\u001b[0m\u001b[0mmean_img\u001b[0m\u001b[0;34m,\u001b[0m\u001b[0;34m\u001b[0m\u001b[0m\n\u001b[1;32m     17\u001b[0m                                  \u001b[0mbatch_size\u001b[0m\u001b[0;34m=\u001b[0m\u001b[0mbatch_size\u001b[0m\u001b[0;34m,\u001b[0m\u001b[0;34m\u001b[0m\u001b[0m\n\u001b[0;32m---> 18\u001b[0;31m                                out_resolution_um=out_resolution_um)\n\u001b[0m\u001b[1;32m     19\u001b[0m \u001b[0;34m\u001b[0m\u001b[0m\n\u001b[1;32m     20\u001b[0m         scoremap_bp_filepath =         DataManager.get_downscaled_scoremap_filepath(stack=stack, section=sec, \n",
      "\u001b[0;32m/home/yuncong/Brain/utilities/learning_utilities.pyc\u001b[0m in \u001b[0;36mdraw_scoremap\u001b[0;34m(clf, scheme, stack, win_id, prep_id, bbox, sec, fn, bg_img, bg_img_local_region, return_scoremap, out_resolution_um, in_resolution_um, feature, model, mean_img, batch_size)\u001b[0m\n\u001b[1;32m   2127\u001b[0m     \u001b[0;32mif\u001b[0m \u001b[0mtest_patches\u001b[0m\u001b[0;34m[\u001b[0m\u001b[0;36m0\u001b[0m\u001b[0;34m]\u001b[0m\u001b[0;34m.\u001b[0m\u001b[0mshape\u001b[0m \u001b[0;34m!=\u001b[0m \u001b[0;34m(\u001b[0m\u001b[0;36m224\u001b[0m\u001b[0;34m,\u001b[0m\u001b[0;36m224\u001b[0m\u001b[0;34m)\u001b[0m\u001b[0;34m:\u001b[0m\u001b[0;34m\u001b[0m\u001b[0m\n\u001b[1;32m   2128\u001b[0m         \u001b[0msys\u001b[0m\u001b[0;34m.\u001b[0m\u001b[0mstderr\u001b[0m\u001b[0;34m.\u001b[0m\u001b[0mwrite\u001b[0m\u001b[0;34m(\u001b[0m\u001b[0;34m'Resize patches from %d x %d to 224 x 224.\\n'\u001b[0m \u001b[0;34m%\u001b[0m \u001b[0mtest_patches\u001b[0m\u001b[0;34m[\u001b[0m\u001b[0;36m0\u001b[0m\u001b[0;34m]\u001b[0m\u001b[0;34m.\u001b[0m\u001b[0mshape\u001b[0m\u001b[0;34m)\u001b[0m\u001b[0;34m\u001b[0m\u001b[0m\n\u001b[0;32m-> 2129\u001b[0;31m         \u001b[0mtest_patches\u001b[0m \u001b[0;34m=\u001b[0m \u001b[0;34m[\u001b[0m\u001b[0mimg_as_ubyte\u001b[0m\u001b[0;34m(\u001b[0m\u001b[0mresize\u001b[0m\u001b[0;34m(\u001b[0m\u001b[0mp\u001b[0m\u001b[0;34m,\u001b[0m \u001b[0;34m(\u001b[0m\u001b[0;36m224\u001b[0m\u001b[0;34m,\u001b[0m \u001b[0;36m224\u001b[0m\u001b[0;34m)\u001b[0m\u001b[0;34m)\u001b[0m\u001b[0;34m)\u001b[0m \u001b[0;32mfor\u001b[0m \u001b[0mp\u001b[0m \u001b[0;32min\u001b[0m \u001b[0mtest_patches\u001b[0m\u001b[0;34m]\u001b[0m\u001b[0;34m\u001b[0m\u001b[0m\n\u001b[0m\u001b[1;32m   2130\u001b[0m \u001b[0;34m\u001b[0m\u001b[0m\n\u001b[1;32m   2131\u001b[0m     \u001b[0msys\u001b[0m\u001b[0;34m.\u001b[0m\u001b[0mstderr\u001b[0m\u001b[0;34m.\u001b[0m\u001b[0mwrite\u001b[0m\u001b[0;34m(\u001b[0m\u001b[0;34m'Extract patches: %.2f seconds\\n'\u001b[0m \u001b[0;34m%\u001b[0m \u001b[0;34m(\u001b[0m\u001b[0mtime\u001b[0m\u001b[0;34m.\u001b[0m\u001b[0mtime\u001b[0m\u001b[0;34m(\u001b[0m\u001b[0;34m)\u001b[0m \u001b[0;34m-\u001b[0m \u001b[0mt\u001b[0m\u001b[0;34m)\u001b[0m\u001b[0;34m)\u001b[0m\u001b[0;34m\u001b[0m\u001b[0m\n",
      "\u001b[0;32m/usr/local/lib/python2.7/dist-packages/skimage/transform/_warps.pyc\u001b[0m in \u001b[0;36mresize\u001b[0;34m(image, output_shape, order, mode, cval, clip, preserve_range)\u001b[0m\n\u001b[1;32m    117\u001b[0m         out = warp(image, tform, output_shape=output_shape, order=order,\n\u001b[1;32m    118\u001b[0m                    \u001b[0mmode\u001b[0m\u001b[0;34m=\u001b[0m\u001b[0mmode\u001b[0m\u001b[0;34m,\u001b[0m \u001b[0mcval\u001b[0m\u001b[0;34m=\u001b[0m\u001b[0mcval\u001b[0m\u001b[0;34m,\u001b[0m \u001b[0mclip\u001b[0m\u001b[0;34m=\u001b[0m\u001b[0mclip\u001b[0m\u001b[0;34m,\u001b[0m\u001b[0;34m\u001b[0m\u001b[0m\n\u001b[0;32m--> 119\u001b[0;31m                    preserve_range=preserve_range)\n\u001b[0m\u001b[1;32m    120\u001b[0m \u001b[0;34m\u001b[0m\u001b[0m\n\u001b[1;32m    121\u001b[0m     \u001b[0;32mreturn\u001b[0m \u001b[0mout\u001b[0m\u001b[0;34m\u001b[0m\u001b[0m\n",
      "\u001b[0;32m/usr/local/lib/python2.7/dist-packages/skimage/transform/_geometric.pyc\u001b[0m in \u001b[0;36mwarp\u001b[0;34m(image, inverse_map, map_args, output_shape, order, mode, cval, clip, preserve_range)\u001b[0m\n\u001b[1;32m   1341\u001b[0m                 warped = _warp_fast(image, matrix,\n\u001b[1;32m   1342\u001b[0m                                  \u001b[0moutput_shape\u001b[0m\u001b[0;34m=\u001b[0m\u001b[0moutput_shape\u001b[0m\u001b[0;34m,\u001b[0m\u001b[0;34m\u001b[0m\u001b[0m\n\u001b[0;32m-> 1343\u001b[0;31m                                  order=order, mode=mode, cval=cval)\n\u001b[0m\u001b[1;32m   1344\u001b[0m             \u001b[0;32melif\u001b[0m \u001b[0mimage\u001b[0m\u001b[0;34m.\u001b[0m\u001b[0mndim\u001b[0m \u001b[0;34m==\u001b[0m \u001b[0;36m3\u001b[0m\u001b[0;34m:\u001b[0m\u001b[0;34m\u001b[0m\u001b[0m\n\u001b[1;32m   1345\u001b[0m                 \u001b[0mdims\u001b[0m \u001b[0;34m=\u001b[0m \u001b[0;34m[\u001b[0m\u001b[0;34m]\u001b[0m\u001b[0;34m\u001b[0m\u001b[0m\n",
      "\u001b[0;32mskimage/transform/_warps_cy.pyx\u001b[0m in \u001b[0;36mskimage.transform._warps_cy._warp_fast (skimage/transform/_warps_cy.c:2637)\u001b[0;34m()\u001b[0m\n",
      "\u001b[0;32m/usr/local/lib/python2.7/dist-packages/numpy/core/numeric.pyc\u001b[0m in \u001b[0;36masarray\u001b[0;34m(a, dtype, order)\u001b[0m\n\u001b[1;32m    461\u001b[0m \u001b[0;34m\u001b[0m\u001b[0m\n\u001b[1;32m    462\u001b[0m \u001b[0;34m\u001b[0m\u001b[0m\n\u001b[0;32m--> 463\u001b[0;31m \u001b[0;32mdef\u001b[0m \u001b[0masarray\u001b[0m\u001b[0;34m(\u001b[0m\u001b[0ma\u001b[0m\u001b[0;34m,\u001b[0m \u001b[0mdtype\u001b[0m\u001b[0;34m=\u001b[0m\u001b[0mNone\u001b[0m\u001b[0;34m,\u001b[0m \u001b[0morder\u001b[0m\u001b[0;34m=\u001b[0m\u001b[0mNone\u001b[0m\u001b[0;34m)\u001b[0m\u001b[0;34m:\u001b[0m\u001b[0;34m\u001b[0m\u001b[0m\n\u001b[0m\u001b[1;32m    464\u001b[0m     \"\"\"Convert the input to an array.\n\u001b[1;32m    465\u001b[0m \u001b[0;34m\u001b[0m\u001b[0m\n",
      "\u001b[0;31mKeyboardInterrupt\u001b[0m: "
     ]
    }
   ],
   "source": [
    "for sec in metadata_cache['valid_sections'][stack]:\n",
    "#     for sec in [130]:\n",
    "\n",
    "    for structure in clfs.keys():\n",
    "    # for structure in ['7N']:\n",
    "\n",
    "        out_resolution_um = 10.\n",
    "        \n",
    "        viz, sm = draw_scoremap(clf=clfs[structure], \n",
    "                                scheme='normalize_mu_region_sigma_wholeImage_(-1,5)', \n",
    "#                                 scheme='none', \n",
    "    #                             bbox=(11217, 16886, 13859, 18404),\n",
    "                                win_id=7,\n",
    "                                stack=stack, return_scoremap=True, sec=sec,\n",
    "                                model=model, \n",
    "                                 mean_img=mean_img, \n",
    "                                 batch_size=batch_size,\n",
    "                               out_resolution_um=out_resolution_um)\n",
    "\n",
    "        scoremap_bp_filepath = \\\n",
    "        DataManager.get_downscaled_scoremap_filepath(stack=stack, section=sec, \n",
    "                                                     structure=structure,\n",
    "                                                     detector_id=999,\n",
    "                                                     out_resolution_um=out_resolution_um)\n",
    "\n",
    "        create_parent_dir_if_not_exists(scoremap_bp_filepath)\n",
    "        bp.pack_ndarray_file(sm.astype(np.float16), scoremap_bp_filepath)\n",
    "        upload_to_s3(scoremap_bp_filepath)\n",
    "\n",
    "\n",
    "        viz_filepath = \\\n",
    "        DataManager.get_scoremap_viz_filepath_v2(stack=stack, section=sec, \n",
    "                                                     structure=structure,\n",
    "                                                     detector_id=999,\n",
    "                                                     out_resolution_um=out_resolution_um)\n",
    "\n",
    "        create_parent_dir_if_not_exists(viz_filepath)\n",
    "        imsave(viz_filepath, viz)\n",
    "        upload_to_s3(viz_filepath)\n",
    "\n",
    "        del viz, sm"
   ]
  },
  {
   "cell_type": "code",
   "execution_count": null,
   "metadata": {
    "collapsed": true
   },
   "outputs": [],
   "source": [
    "sm = \\\n",
    "DataManager.load_downscaled_scoremap(stack=stack, section=sec, \n",
    "                                             structure=structure,\n",
    "                                             detector_id=999,\n",
    "                                             out_resolution_um=out_resolution_um)"
   ]
  },
  {
   "cell_type": "code",
   "execution_count": 36,
   "metadata": {},
   "outputs": [
    {
     "name": "stderr",
     "output_type": "stream",
     "text": [
      "Not using image_cache.\n"
     ]
    }
   ],
   "source": [
    "img = DataManager.load_image_v2(stack='ChatCryoJane201710', prep_id=2, resol='thumbnail', section=120, version='Ntb')"
   ]
  },
  {
   "cell_type": "code",
   "execution_count": 37,
   "metadata": {},
   "outputs": [
    {
     "data": {
      "image/png": "[encoded data removed]",
      "text/plain": [
       "<matplotlib.figure.Figure at 0x7f84b7a46b50>"
      ]
     },
     "metadata": {},
     "output_type": "display_data"
    }
   ],
   "source": [
    "plt.figure(figsize=(10,10));\n",
    "plt.imshow(img, cmap=plt.cm.gray);\n",
    "plt.show();"
   ]
  },
  {
   "cell_type": "code",
   "execution_count": 35,
   "metadata": {},
   "outputs": [
    {
     "data": {
      "text/plain": [
       "<matplotlib.figure.Figure at 0x7f84b7c2f210>"
      ]
     },
     "metadata": {},
     "output_type": "display_data"
    },
    {
     "data": {
      "image/png": "[encoded data removed]",
      "text/plain": [
       "<matplotlib.figure.Figure at 0x7f84b805f350>"
      ]
     },
     "metadata": {},
     "output_type": "display_data"
    }
   ],
   "source": [
    "%matplotlib inline\n",
    "plt.figure(figsize=(10,10));\n",
    "plt.matshow(sm);\n",
    "plt.colorbar();"
   ]
  },
  {
   "cell_type": "code",
   "execution_count": 41,
   "metadata": {},
   "outputs": [
    {
     "data": {
      "text/html": [
       "<a href='tmp.jpg' target='_blank'>tmp.jpg</a><br>"
      ],
      "text/plain": [
       "/home/yuncong/Brain/learning/tmp.jpg"
      ]
     },
     "execution_count": 41,
     "metadata": {},
     "output_type": "execute_result"
    }
   ],
   "source": [
    "display_image(viz)"
   ]
  }
 ],
 "metadata": {
  "kernelspec": {
   "display_name": "Python 2",
   "language": "python",
   "name": "python2"
  },
  "language_info": {
   "codemirror_mode": {
    "name": "ipython",
    "version": 2
   },
   "file_extension": ".py",
   "mimetype": "text/x-python",
   "name": "python",
   "nbconvert_exporter": "python",
   "pygments_lexer": "ipython2",
   "version": "2.7.12"
  }
 },
 "nbformat": 4,
 "nbformat_minor": 2
}
