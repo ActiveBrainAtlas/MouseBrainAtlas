{
 "cells": [
  {
   "cell_type": "code",
   "execution_count": 1,
   "metadata": {
    "scrolled": true
   },
   "outputs": [
    {
     "name": "stdout",
     "output_type": "stream",
     "text": [
      "Setting environment for Precision WorkStation\n"
     ]
    },
    {
     "name": "stderr",
     "output_type": "stream",
     "text": [
      "No vtk\n",
      "No vtkNot using image_cache.\n",
      "Not using image_cache.\n",
      "Not using image_cache.\n",
      "Not using image_cache.\n",
      "Not using image_cache.\n",
      "Not using image_cache.\n",
      "Not using image_cache.\n",
      "Not using image_cache.\n",
      "Not using image_cache.\n",
      "Not using image_cache.\n",
      "Not using image_cache.\n",
      "Not using image_cache.\n",
      "Not using image_cache.\n",
      "Not using image_cache.\n",
      "Not using image_cache.\n",
      "Not using image_cache.\n",
      "Not using image_cache.\n",
      "Not using image_cache.\n",
      "Not using image_cache.\n",
      "Not using image_cache.\n",
      "Not using image_cache.\n",
      "/usr/local/lib/python2.7/dist-packages/sklearn/cross_validation.py:44: DeprecationWarning: This module was deprecated in version 0.18 in favor of the model_selection module into which all the refactored classes and functions are moved. Also note that the interface of the new CV iterators are different from that of this module. This module will be removed in 0.20.\n",
      "  \"This module will be removed in 0.20.\", DeprecationWarning)\n"
     ]
    }
   ],
   "source": [
    "%reload_ext autoreload\n",
    "%autoreload 2\n",
    "\n",
    "import os\n",
    "import argparse\n",
    "import sys\n",
    "import time\n",
    "\n",
    "import numpy as np\n",
    "from multiprocess import Pool\n",
    "\n",
    "sys.path.append(os.path.join(os.environ['REPO_DIR'], 'utilities'))\n",
    "from utilities2015 import *\n",
    "from metadata import *\n",
    "from data_manager import *\n",
    "from learning_utilities import *"
   ]
  },
  {
   "cell_type": "code",
   "execution_count": 5,
   "metadata": {
    "collapsed": true
   },
   "outputs": [],
   "source": [
    "stack = 'MD589'\n",
    "first_sec, last_sec = metadata_cache['section_limits'][stack]"
   ]
  },
  {
   "cell_type": "code",
   "execution_count": 6,
   "metadata": {},
   "outputs": [],
   "source": [
    "batch_size = 256\n",
    "model_dir_name = 'inception-bn-blue'\n",
    "model_name = 'inception-bn-blue'\n",
    "model, mean_img = load_mxnet_model(model_dir_name=model_dir_name, model_name=model_name, \n",
    "                                   num_gpus=1, batch_size=batch_size)"
   ]
  },
  {
   "cell_type": "code",
   "execution_count": 9,
   "metadata": {},
   "outputs": [],
   "source": [
    "clfs = DataManager.load_classifiers(classifier_id=73)"
   ]
  },
  {
   "cell_type": "code",
   "execution_count": null,
   "metadata": {},
   "outputs": [
    {
     "name": "stderr",
     "output_type": "stream",
     "text": [
      "locate patches: 0.02 seconds\n",
      "Not using image_cache.\n",
      "Load image: 14.23 seconds.\n",
      "Extract patches: 14.93 seconds\n"
     ]
    },
    {
     "name": "stdout",
     "output_type": "stream",
     "text": [
      "(22134, 1, 224, 224)\n"
     ]
    },
    {
     "name": "stderr",
     "output_type": "stream",
     "text": [
      "Not using image_cache.\n"
     ]
    },
    {
     "name": "stdout",
     "output_type": "stream",
     "text": [
      "(549, 714, 3) (549, 714)\n",
      "aws s3 cp \"/home/yuncong/CSHL_scoremaps/10.0um/MD589/MD589_prep2_10.0um_detector999/MD589-N16-2015.07.30-17.03.43_MD589_3_0048_prep2_10.0um_detector999/MD589-N16-2015.07.30-17.03.43_MD589_3_0048_prep2_10.0um_detector999_Tz_scoremap.bp\" \"s3://mousebrainatlas-data/CSHL_scoremaps/10.0um/MD589/MD589_prep2_10.0um_detector999/MD589-N16-2015.07.30-17.03.43_MD589_3_0048_prep2_10.0um_detector999/MD589-N16-2015.07.30-17.03.43_MD589_3_0048_prep2_10.0um_detector999_Tz_scoremap.bp\"\n",
      "aws s3 cp \"/home/yuncong/CSHL_scoremap_viz/10.0um/Tz/MD589/detector999/prep2/MD589-N16-2015.07.30-17.03.43_MD589_3_0048_prep2_10.0um_Tz_detector999_scoremapViz.jpg\" \"s3://mousebrainatlas-data/CSHL_scoremap_viz/10.0um/Tz/MD589/detector999/prep2/MD589-N16-2015.07.30-17.03.43_MD589_3_0048_prep2_10.0um_Tz_detector999_scoremapViz.jpg\"\n"
     ]
    },
    {
     "name": "stderr",
     "output_type": "stream",
     "text": [
      "locate patches: 0.03 seconds\n",
      "Not using image_cache.\n",
      "Load image: 14.53 seconds.\n",
      "Extract patches: 15.21 seconds\n"
     ]
    },
    {
     "name": "stdout",
     "output_type": "stream",
     "text": [
      "(21957, 1, 224, 224)\n"
     ]
    },
    {
     "name": "stderr",
     "output_type": "stream",
     "text": [
      "Not using image_cache.\n"
     ]
    },
    {
     "name": "stdout",
     "output_type": "stream",
     "text": [
      "(549, 714, 3) (549, 714)\n",
      "aws s3 cp \"/home/yuncong/CSHL_scoremaps/10.0um/MD589/MD589_prep2_10.0um_detector999/MD589-IHC16-2015.07.30-22.20.07_MD589_3_0048_prep2_10.0um_detector999/MD589-IHC16-2015.07.30-22.20.07_MD589_3_0048_prep2_10.0um_detector999_Tz_scoremap.bp\" \"s3://mousebrainatlas-data/CSHL_scoremaps/10.0um/MD589/MD589_prep2_10.0um_detector999/MD589-IHC16-2015.07.30-22.20.07_MD589_3_0048_prep2_10.0um_detector999/MD589-IHC16-2015.07.30-22.20.07_MD589_3_0048_prep2_10.0um_detector999_Tz_scoremap.bp\"\n",
      "aws s3 cp \"/home/yuncong/CSHL_scoremap_viz/10.0um/Tz/MD589/detector999/prep2/MD589-IHC16-2015.07.30-22.20.07_MD589_3_0048_prep2_10.0um_Tz_detector999_scoremapViz.jpg\" \"s3://mousebrainatlas-data/CSHL_scoremap_viz/10.0um/Tz/MD589/detector999/prep2/MD589-IHC16-2015.07.30-22.20.07_MD589_3_0048_prep2_10.0um_Tz_detector999_scoremapViz.jpg\"\n"
     ]
    },
    {
     "name": "stderr",
     "output_type": "stream",
     "text": [
      "locate patches: 0.03 seconds\n"
     ]
    },
    {
     "name": "stdout",
     "output_type": "stream",
     "text": [
      "rm -rf \"/media/yuncong/BstemAtlasData/CSHL_data_processed/MD589/MD589_prep2_lossless/MD589-N17-2015.07.30-17.07.32_MD589_1_0049_prep2_lossless.tif\" && mkdir -p \"/media/yuncong/BstemAtlasData/CSHL_data_processed/MD589/MD589_prep2_lossless\"\n",
      "aws s3 cp \"s3://mousebrainatlas-data/CSHL_data_processed/MD589/MD589_prep2_lossless/MD589-N17-2015.07.30-17.07.32_MD589_1_0049_prep2_lossless.tif\" \"/media/yuncong/BstemAtlasData/CSHL_data_processed/MD589/MD589_prep2_lossless/MD589-N17-2015.07.30-17.07.32_MD589_1_0049_prep2_lossless.tif\"\n"
     ]
    },
    {
     "name": "stderr",
     "output_type": "stream",
     "text": [
      "Not using image_cache.\n",
      "Load image: 19.91 seconds.\n",
      "Extract patches: 20.81 seconds\n"
     ]
    },
    {
     "name": "stdout",
     "output_type": "stream",
     "text": [
      "(22041, 1, 224, 224)\n",
      "rm -rf \"/media/yuncong/BstemAtlasData/CSHL_data_processed/MD589/MD589_prep2_lossless_grayJpeg/MD589-N17-2015.07.30-17.07.32_MD589_1_0049_prep2_lossless_grayJpeg.jpg\" && mkdir -p \"/media/yuncong/BstemAtlasData/CSHL_data_processed/MD589/MD589_prep2_lossless_grayJpeg\"\n",
      "aws s3 cp \"s3://mousebrainatlas-data/CSHL_data_processed/MD589/MD589_prep2_lossless_grayJpeg/MD589-N17-2015.07.30-17.07.32_MD589_1_0049_prep2_lossless_grayJpeg.jpg\" \"/media/yuncong/BstemAtlasData/CSHL_data_processed/MD589/MD589_prep2_lossless_grayJpeg/MD589-N17-2015.07.30-17.07.32_MD589_1_0049_prep2_lossless_grayJpeg.jpg\"\n"
     ]
    },
    {
     "name": "stderr",
     "output_type": "stream",
     "text": [
      "Not using image_cache.\n"
     ]
    },
    {
     "name": "stdout",
     "output_type": "stream",
     "text": [
      "(549, 714, 3) (549, 714)\n",
      "aws s3 cp \"/home/yuncong/CSHL_scoremaps/10.0um/MD589/MD589_prep2_10.0um_detector999/MD589-N17-2015.07.30-17.07.32_MD589_1_0049_prep2_10.0um_detector999/MD589-N17-2015.07.30-17.07.32_MD589_1_0049_prep2_10.0um_detector999_Tz_scoremap.bp\" \"s3://mousebrainatlas-data/CSHL_scoremaps/10.0um/MD589/MD589_prep2_10.0um_detector999/MD589-N17-2015.07.30-17.07.32_MD589_1_0049_prep2_10.0um_detector999/MD589-N17-2015.07.30-17.07.32_MD589_1_0049_prep2_10.0um_detector999_Tz_scoremap.bp\"\n",
      "aws s3 cp \"/home/yuncong/CSHL_scoremap_viz/10.0um/Tz/MD589/detector999/prep2/MD589-N17-2015.07.30-17.07.32_MD589_1_0049_prep2_10.0um_Tz_detector999_scoremapViz.jpg\" \"s3://mousebrainatlas-data/CSHL_scoremap_viz/10.0um/Tz/MD589/detector999/prep2/MD589-N17-2015.07.30-17.07.32_MD589_1_0049_prep2_10.0um_Tz_detector999_scoremapViz.jpg\"\n"
     ]
    },
    {
     "name": "stderr",
     "output_type": "stream",
     "text": [
      "locate patches: 0.03 seconds\n"
     ]
    },
    {
     "name": "stdout",
     "output_type": "stream",
     "text": [
      "rm -rf \"/media/yuncong/BstemAtlasData/CSHL_data_processed/MD589/MD589_prep2_lossless/MD589-IHC17-2015.07.30-22.23.59_MD589_1_0049_prep2_lossless.tif\" && mkdir -p \"/media/yuncong/BstemAtlasData/CSHL_data_processed/MD589/MD589_prep2_lossless\"\n",
      "aws s3 cp \"s3://mousebrainatlas-data/CSHL_data_processed/MD589/MD589_prep2_lossless/MD589-IHC17-2015.07.30-22.23.59_MD589_1_0049_prep2_lossless.tif\" \"/media/yuncong/BstemAtlasData/CSHL_data_processed/MD589/MD589_prep2_lossless/MD589-IHC17-2015.07.30-22.23.59_MD589_1_0049_prep2_lossless.tif\"\n"
     ]
    },
    {
     "name": "stderr",
     "output_type": "stream",
     "text": [
      "Not using image_cache.\n",
      "Load image: 20.27 seconds.\n",
      "Extract patches: 20.94 seconds\n"
     ]
    },
    {
     "name": "stdout",
     "output_type": "stream",
     "text": [
      "(22251, 1, 224, 224)\n",
      "rm -rf \"/media/yuncong/BstemAtlasData/CSHL_data_processed/MD589/MD589_prep2_lossless_grayJpeg/MD589-IHC17-2015.07.30-22.23.59_MD589_1_0049_prep2_lossless_grayJpeg.jpg\" && mkdir -p \"/media/yuncong/BstemAtlasData/CSHL_data_processed/MD589/MD589_prep2_lossless_grayJpeg\"\n",
      "aws s3 cp \"s3://mousebrainatlas-data/CSHL_data_processed/MD589/MD589_prep2_lossless_grayJpeg/MD589-IHC17-2015.07.30-22.23.59_MD589_1_0049_prep2_lossless_grayJpeg.jpg\" \"/media/yuncong/BstemAtlasData/CSHL_data_processed/MD589/MD589_prep2_lossless_grayJpeg/MD589-IHC17-2015.07.30-22.23.59_MD589_1_0049_prep2_lossless_grayJpeg.jpg\"\n"
     ]
    },
    {
     "name": "stderr",
     "output_type": "stream",
     "text": [
      "Not using image_cache.\n"
     ]
    },
    {
     "name": "stdout",
     "output_type": "stream",
     "text": [
      "(549, 714, 3) (549, 714)\n",
      "aws s3 cp \"/home/yuncong/CSHL_scoremaps/10.0um/MD589/MD589_prep2_10.0um_detector999/MD589-IHC17-2015.07.30-22.23.59_MD589_1_0049_prep2_10.0um_detector999/MD589-IHC17-2015.07.30-22.23.59_MD589_1_0049_prep2_10.0um_detector999_Tz_scoremap.bp\" \"s3://mousebrainatlas-data/CSHL_scoremaps/10.0um/MD589/MD589_prep2_10.0um_detector999/MD589-IHC17-2015.07.30-22.23.59_MD589_1_0049_prep2_10.0um_detector999/MD589-IHC17-2015.07.30-22.23.59_MD589_1_0049_prep2_10.0um_detector999_Tz_scoremap.bp\"\n",
      "aws s3 cp \"/home/yuncong/CSHL_scoremap_viz/10.0um/Tz/MD589/detector999/prep2/MD589-IHC17-2015.07.30-22.23.59_MD589_1_0049_prep2_10.0um_Tz_detector999_scoremapViz.jpg\" \"s3://mousebrainatlas-data/CSHL_scoremap_viz/10.0um/Tz/MD589/detector999/prep2/MD589-IHC17-2015.07.30-22.23.59_MD589_1_0049_prep2_10.0um_Tz_detector999_scoremapViz.jpg\"\n"
     ]
    },
    {
     "name": "stderr",
     "output_type": "stream",
     "text": [
      "locate patches: 0.04 seconds\n"
     ]
    },
    {
     "name": "stdout",
     "output_type": "stream",
     "text": [
      "rm -rf \"/media/yuncong/BstemAtlasData/CSHL_data_processed/MD589/MD589_prep2_lossless/MD589-N17-2015.07.30-17.07.32_MD589_2_0050_prep2_lossless.tif\" && mkdir -p \"/media/yuncong/BstemAtlasData/CSHL_data_processed/MD589/MD589_prep2_lossless\"\n",
      "aws s3 cp \"s3://mousebrainatlas-data/CSHL_data_processed/MD589/MD589_prep2_lossless/MD589-N17-2015.07.30-17.07.32_MD589_2_0050_prep2_lossless.tif\" \"/media/yuncong/BstemAtlasData/CSHL_data_processed/MD589/MD589_prep2_lossless/MD589-N17-2015.07.30-17.07.32_MD589_2_0050_prep2_lossless.tif\"\n"
     ]
    },
    {
     "name": "stderr",
     "output_type": "stream",
     "text": [
      "Not using image_cache.\n",
      "Load image: 20.00 seconds.\n",
      "Extract patches: 20.69 seconds\n"
     ]
    },
    {
     "name": "stdout",
     "output_type": "stream",
     "text": [
      "(22233, 1, 224, 224)\n",
      "rm -rf \"/media/yuncong/BstemAtlasData/CSHL_data_processed/MD589/MD589_prep2_lossless_grayJpeg/MD589-N17-2015.07.30-17.07.32_MD589_2_0050_prep2_lossless_grayJpeg.jpg\" && mkdir -p \"/media/yuncong/BstemAtlasData/CSHL_data_processed/MD589/MD589_prep2_lossless_grayJpeg\"\n",
      "aws s3 cp \"s3://mousebrainatlas-data/CSHL_data_processed/MD589/MD589_prep2_lossless_grayJpeg/MD589-N17-2015.07.30-17.07.32_MD589_2_0050_prep2_lossless_grayJpeg.jpg\" \"/media/yuncong/BstemAtlasData/CSHL_data_processed/MD589/MD589_prep2_lossless_grayJpeg/MD589-N17-2015.07.30-17.07.32_MD589_2_0050_prep2_lossless_grayJpeg.jpg\"\n"
     ]
    },
    {
     "name": "stderr",
     "output_type": "stream",
     "text": [
      "Not using image_cache.\n"
     ]
    },
    {
     "name": "stdout",
     "output_type": "stream",
     "text": [
      "(549, 714, 3) (549, 714)\n",
      "aws s3 cp \"/home/yuncong/CSHL_scoremaps/10.0um/MD589/MD589_prep2_10.0um_detector999/MD589-N17-2015.07.30-17.07.32_MD589_2_0050_prep2_10.0um_detector999/MD589-N17-2015.07.30-17.07.32_MD589_2_0050_prep2_10.0um_detector999_Tz_scoremap.bp\" \"s3://mousebrainatlas-data/CSHL_scoremaps/10.0um/MD589/MD589_prep2_10.0um_detector999/MD589-N17-2015.07.30-17.07.32_MD589_2_0050_prep2_10.0um_detector999/MD589-N17-2015.07.30-17.07.32_MD589_2_0050_prep2_10.0um_detector999_Tz_scoremap.bp\"\n",
      "aws s3 cp \"/home/yuncong/CSHL_scoremap_viz/10.0um/Tz/MD589/detector999/prep2/MD589-N17-2015.07.30-17.07.32_MD589_2_0050_prep2_10.0um_Tz_detector999_scoremapViz.jpg\" \"s3://mousebrainatlas-data/CSHL_scoremap_viz/10.0um/Tz/MD589/detector999/prep2/MD589-N17-2015.07.30-17.07.32_MD589_2_0050_prep2_10.0um_Tz_detector999_scoremapViz.jpg\"\n"
     ]
    },
    {
     "name": "stderr",
     "output_type": "stream",
     "text": [
      "locate patches: 0.04 seconds\n"
     ]
    },
    {
     "name": "stdout",
     "output_type": "stream",
     "text": [
      "rm -rf \"/media/yuncong/BstemAtlasData/CSHL_data_processed/MD589/MD589_prep2_lossless/MD589-IHC17-2015.07.30-22.23.59_MD589_2_0050_prep2_lossless.tif\" && mkdir -p \"/media/yuncong/BstemAtlasData/CSHL_data_processed/MD589/MD589_prep2_lossless\"\n",
      "aws s3 cp \"s3://mousebrainatlas-data/CSHL_data_processed/MD589/MD589_prep2_lossless/MD589-IHC17-2015.07.30-22.23.59_MD589_2_0050_prep2_lossless.tif\" \"/media/yuncong/BstemAtlasData/CSHL_data_processed/MD589/MD589_prep2_lossless/MD589-IHC17-2015.07.30-22.23.59_MD589_2_0050_prep2_lossless.tif\"\n"
     ]
    },
    {
     "name": "stderr",
     "output_type": "stream",
     "text": [
      "Not using image_cache.\n",
      "Load image: 20.07 seconds.\n",
      "Extract patches: 20.76 seconds\n"
     ]
    },
    {
     "name": "stdout",
     "output_type": "stream",
     "text": [
      "(22476, 1, 224, 224)\n",
      "rm -rf \"/media/yuncong/BstemAtlasData/CSHL_data_processed/MD589/MD589_prep2_lossless_grayJpeg/MD589-IHC17-2015.07.30-22.23.59_MD589_2_0050_prep2_lossless_grayJpeg.jpg\" && mkdir -p \"/media/yuncong/BstemAtlasData/CSHL_data_processed/MD589/MD589_prep2_lossless_grayJpeg\"\n",
      "aws s3 cp \"s3://mousebrainatlas-data/CSHL_data_processed/MD589/MD589_prep2_lossless_grayJpeg/MD589-IHC17-2015.07.30-22.23.59_MD589_2_0050_prep2_lossless_grayJpeg.jpg\" \"/media/yuncong/BstemAtlasData/CSHL_data_processed/MD589/MD589_prep2_lossless_grayJpeg/MD589-IHC17-2015.07.30-22.23.59_MD589_2_0050_prep2_lossless_grayJpeg.jpg\"\n"
     ]
    },
    {
     "name": "stderr",
     "output_type": "stream",
     "text": [
      "Not using image_cache.\n"
     ]
    },
    {
     "name": "stdout",
     "output_type": "stream",
     "text": [
      "(549, 714, 3) (549, 714)\n",
      "aws s3 cp \"/home/yuncong/CSHL_scoremaps/10.0um/MD589/MD589_prep2_10.0um_detector999/MD589-IHC17-2015.07.30-22.23.59_MD589_2_0050_prep2_10.0um_detector999/MD589-IHC17-2015.07.30-22.23.59_MD589_2_0050_prep2_10.0um_detector999_Tz_scoremap.bp\" \"s3://mousebrainatlas-data/CSHL_scoremaps/10.0um/MD589/MD589_prep2_10.0um_detector999/MD589-IHC17-2015.07.30-22.23.59_MD589_2_0050_prep2_10.0um_detector999/MD589-IHC17-2015.07.30-22.23.59_MD589_2_0050_prep2_10.0um_detector999_Tz_scoremap.bp\"\n",
      "aws s3 cp \"/home/yuncong/CSHL_scoremap_viz/10.0um/Tz/MD589/detector999/prep2/MD589-IHC17-2015.07.30-22.23.59_MD589_2_0050_prep2_10.0um_Tz_detector999_scoremapViz.jpg\" \"s3://mousebrainatlas-data/CSHL_scoremap_viz/10.0um/Tz/MD589/detector999/prep2/MD589-IHC17-2015.07.30-22.23.59_MD589_2_0050_prep2_10.0um_Tz_detector999_scoremapViz.jpg\"\n"
     ]
    },
    {
     "name": "stderr",
     "output_type": "stream",
     "text": [
      "locate patches: 0.03 seconds\n"
     ]
    },
    {
     "name": "stdout",
     "output_type": "stream",
     "text": [
      "rm -rf \"/media/yuncong/BstemAtlasData/CSHL_data_processed/MD589/MD589_prep2_lossless/MD589-N17-2015.07.30-17.07.32_MD589_3_0051_prep2_lossless.tif\" && mkdir -p \"/media/yuncong/BstemAtlasData/CSHL_data_processed/MD589/MD589_prep2_lossless\"\n",
      "aws s3 cp \"s3://mousebrainatlas-data/CSHL_data_processed/MD589/MD589_prep2_lossless/MD589-N17-2015.07.30-17.07.32_MD589_3_0051_prep2_lossless.tif\" \"/media/yuncong/BstemAtlasData/CSHL_data_processed/MD589/MD589_prep2_lossless/MD589-N17-2015.07.30-17.07.32_MD589_3_0051_prep2_lossless.tif\"\n"
     ]
    },
    {
     "name": "stderr",
     "output_type": "stream",
     "text": [
      "Not using image_cache.\n",
      "Load image: 20.10 seconds.\n",
      "Extract patches: 20.80 seconds\n"
     ]
    },
    {
     "name": "stdout",
     "output_type": "stream",
     "text": [
      "(22540, 1, 224, 224)\n",
      "rm -rf \"/media/yuncong/BstemAtlasData/CSHL_data_processed/MD589/MD589_prep2_lossless_grayJpeg/MD589-N17-2015.07.30-17.07.32_MD589_3_0051_prep2_lossless_grayJpeg.jpg\" && mkdir -p \"/media/yuncong/BstemAtlasData/CSHL_data_processed/MD589/MD589_prep2_lossless_grayJpeg\"\n",
      "aws s3 cp \"s3://mousebrainatlas-data/CSHL_data_processed/MD589/MD589_prep2_lossless_grayJpeg/MD589-N17-2015.07.30-17.07.32_MD589_3_0051_prep2_lossless_grayJpeg.jpg\" \"/media/yuncong/BstemAtlasData/CSHL_data_processed/MD589/MD589_prep2_lossless_grayJpeg/MD589-N17-2015.07.30-17.07.32_MD589_3_0051_prep2_lossless_grayJpeg.jpg\"\n"
     ]
    },
    {
     "name": "stderr",
     "output_type": "stream",
     "text": [
      "Not using image_cache.\n"
     ]
    },
    {
     "name": "stdout",
     "output_type": "stream",
     "text": [
      "(549, 714, 3) (549, 714)\n",
      "aws s3 cp \"/home/yuncong/CSHL_scoremaps/10.0um/MD589/MD589_prep2_10.0um_detector999/MD589-N17-2015.07.30-17.07.32_MD589_3_0051_prep2_10.0um_detector999/MD589-N17-2015.07.30-17.07.32_MD589_3_0051_prep2_10.0um_detector999_Tz_scoremap.bp\" \"s3://mousebrainatlas-data/CSHL_scoremaps/10.0um/MD589/MD589_prep2_10.0um_detector999/MD589-N17-2015.07.30-17.07.32_MD589_3_0051_prep2_10.0um_detector999/MD589-N17-2015.07.30-17.07.32_MD589_3_0051_prep2_10.0um_detector999_Tz_scoremap.bp\"\n",
      "aws s3 cp \"/home/yuncong/CSHL_scoremap_viz/10.0um/Tz/MD589/detector999/prep2/MD589-N17-2015.07.30-17.07.32_MD589_3_0051_prep2_10.0um_Tz_detector999_scoremapViz.jpg\" \"s3://mousebrainatlas-data/CSHL_scoremap_viz/10.0um/Tz/MD589/detector999/prep2/MD589-N17-2015.07.30-17.07.32_MD589_3_0051_prep2_10.0um_Tz_detector999_scoremapViz.jpg\"\n"
     ]
    },
    {
     "name": "stderr",
     "output_type": "stream",
     "text": [
      "locate patches: 0.03 seconds\n"
     ]
    },
    {
     "name": "stdout",
     "output_type": "stream",
     "text": [
      "rm -rf \"/media/yuncong/BstemAtlasData/CSHL_data_processed/MD589/MD589_prep2_lossless/MD589-IHC17-2015.07.30-22.23.59_MD589_3_0051_prep2_lossless.tif\" && mkdir -p \"/media/yuncong/BstemAtlasData/CSHL_data_processed/MD589/MD589_prep2_lossless\"\n",
      "aws s3 cp \"s3://mousebrainatlas-data/CSHL_data_processed/MD589/MD589_prep2_lossless/MD589-IHC17-2015.07.30-22.23.59_MD589_3_0051_prep2_lossless.tif\" \"/media/yuncong/BstemAtlasData/CSHL_data_processed/MD589/MD589_prep2_lossless/MD589-IHC17-2015.07.30-22.23.59_MD589_3_0051_prep2_lossless.tif\"\n"
     ]
    },
    {
     "name": "stderr",
     "output_type": "stream",
     "text": [
      "Not using image_cache.\n",
      "Load image: 20.67 seconds.\n",
      "Extract patches: 21.36 seconds\n"
     ]
    },
    {
     "name": "stdout",
     "output_type": "stream",
     "text": [
      "(22569, 1, 224, 224)\n",
      "rm -rf \"/media/yuncong/BstemAtlasData/CSHL_data_processed/MD589/MD589_prep2_lossless_grayJpeg/MD589-IHC17-2015.07.30-22.23.59_MD589_3_0051_prep2_lossless_grayJpeg.jpg\" && mkdir -p \"/media/yuncong/BstemAtlasData/CSHL_data_processed/MD589/MD589_prep2_lossless_grayJpeg\"\n",
      "aws s3 cp \"s3://mousebrainatlas-data/CSHL_data_processed/MD589/MD589_prep2_lossless_grayJpeg/MD589-IHC17-2015.07.30-22.23.59_MD589_3_0051_prep2_lossless_grayJpeg.jpg\" \"/media/yuncong/BstemAtlasData/CSHL_data_processed/MD589/MD589_prep2_lossless_grayJpeg/MD589-IHC17-2015.07.30-22.23.59_MD589_3_0051_prep2_lossless_grayJpeg.jpg\"\n"
     ]
    },
    {
     "name": "stderr",
     "output_type": "stream",
     "text": [
      "Not using image_cache.\n"
     ]
    },
    {
     "name": "stdout",
     "output_type": "stream",
     "text": [
      "(549, 714, 3) (549, 714)\n",
      "aws s3 cp \"/home/yuncong/CSHL_scoremaps/10.0um/MD589/MD589_prep2_10.0um_detector999/MD589-IHC17-2015.07.30-22.23.59_MD589_3_0051_prep2_10.0um_detector999/MD589-IHC17-2015.07.30-22.23.59_MD589_3_0051_prep2_10.0um_detector999_Tz_scoremap.bp\" \"s3://mousebrainatlas-data/CSHL_scoremaps/10.0um/MD589/MD589_prep2_10.0um_detector999/MD589-IHC17-2015.07.30-22.23.59_MD589_3_0051_prep2_10.0um_detector999/MD589-IHC17-2015.07.30-22.23.59_MD589_3_0051_prep2_10.0um_detector999_Tz_scoremap.bp\"\n",
      "aws s3 cp \"/home/yuncong/CSHL_scoremap_viz/10.0um/Tz/MD589/detector999/prep2/MD589-IHC17-2015.07.30-22.23.59_MD589_3_0051_prep2_10.0um_Tz_detector999_scoremapViz.jpg\" \"s3://mousebrainatlas-data/CSHL_scoremap_viz/10.0um/Tz/MD589/detector999/prep2/MD589-IHC17-2015.07.30-22.23.59_MD589_3_0051_prep2_10.0um_Tz_detector999_scoremapViz.jpg\"\n"
     ]
    },
    {
     "name": "stderr",
     "output_type": "stream",
     "text": [
      "locate patches: 0.04 seconds\n"
     ]
    },
    {
     "name": "stdout",
     "output_type": "stream",
     "text": [
      "rm -rf \"/media/yuncong/BstemAtlasData/CSHL_data_processed/MD589/MD589_prep2_lossless/MD589-N18-2015.07.30-17.11.24_MD589_1_0052_prep2_lossless.tif\" && mkdir -p \"/media/yuncong/BstemAtlasData/CSHL_data_processed/MD589/MD589_prep2_lossless\"\n",
      "aws s3 cp \"s3://mousebrainatlas-data/CSHL_data_processed/MD589/MD589_prep2_lossless/MD589-N18-2015.07.30-17.11.24_MD589_1_0052_prep2_lossless.tif\" \"/media/yuncong/BstemAtlasData/CSHL_data_processed/MD589/MD589_prep2_lossless/MD589-N18-2015.07.30-17.11.24_MD589_1_0052_prep2_lossless.tif\"\n"
     ]
    },
    {
     "name": "stderr",
     "output_type": "stream",
     "text": [
      "Not using image_cache.\n",
      "Load image: 20.15 seconds.\n",
      "Extract patches: 20.85 seconds\n"
     ]
    },
    {
     "name": "stdout",
     "output_type": "stream",
     "text": [
      "(22671, 1, 224, 224)\n",
      "rm -rf \"/media/yuncong/BstemAtlasData/CSHL_data_processed/MD589/MD589_prep2_lossless_grayJpeg/MD589-N18-2015.07.30-17.11.24_MD589_1_0052_prep2_lossless_grayJpeg.jpg\" && mkdir -p \"/media/yuncong/BstemAtlasData/CSHL_data_processed/MD589/MD589_prep2_lossless_grayJpeg\"\n",
      "aws s3 cp \"s3://mousebrainatlas-data/CSHL_data_processed/MD589/MD589_prep2_lossless_grayJpeg/MD589-N18-2015.07.30-17.11.24_MD589_1_0052_prep2_lossless_grayJpeg.jpg\" \"/media/yuncong/BstemAtlasData/CSHL_data_processed/MD589/MD589_prep2_lossless_grayJpeg/MD589-N18-2015.07.30-17.11.24_MD589_1_0052_prep2_lossless_grayJpeg.jpg\"\n"
     ]
    },
    {
     "name": "stderr",
     "output_type": "stream",
     "text": [
      "Not using image_cache.\n"
     ]
    },
    {
     "name": "stdout",
     "output_type": "stream",
     "text": [
      "(549, 714, 3) (549, 714)\n",
      "aws s3 cp \"/home/yuncong/CSHL_scoremaps/10.0um/MD589/MD589_prep2_10.0um_detector999/MD589-N18-2015.07.30-17.11.24_MD589_1_0052_prep2_10.0um_detector999/MD589-N18-2015.07.30-17.11.24_MD589_1_0052_prep2_10.0um_detector999_Tz_scoremap.bp\" \"s3://mousebrainatlas-data/CSHL_scoremaps/10.0um/MD589/MD589_prep2_10.0um_detector999/MD589-N18-2015.07.30-17.11.24_MD589_1_0052_prep2_10.0um_detector999/MD589-N18-2015.07.30-17.11.24_MD589_1_0052_prep2_10.0um_detector999_Tz_scoremap.bp\"\n",
      "aws s3 cp \"/home/yuncong/CSHL_scoremap_viz/10.0um/Tz/MD589/detector999/prep2/MD589-N18-2015.07.30-17.11.24_MD589_1_0052_prep2_10.0um_Tz_detector999_scoremapViz.jpg\" \"s3://mousebrainatlas-data/CSHL_scoremap_viz/10.0um/Tz/MD589/detector999/prep2/MD589-N18-2015.07.30-17.11.24_MD589_1_0052_prep2_10.0um_Tz_detector999_scoremapViz.jpg\"\n"
     ]
    },
    {
     "name": "stderr",
     "output_type": "stream",
     "text": [
      "locate patches: 0.04 seconds\n"
     ]
    },
    {
     "name": "stdout",
     "output_type": "stream",
     "text": [
      "rm -rf \"/media/yuncong/BstemAtlasData/CSHL_data_processed/MD589/MD589_prep2_lossless/MD589-IHC18-2015.07.30-22.27.59_MD589_1_0052_prep2_lossless.tif\" && mkdir -p \"/media/yuncong/BstemAtlasData/CSHL_data_processed/MD589/MD589_prep2_lossless\"\n",
      "aws s3 cp \"s3://mousebrainatlas-data/CSHL_data_processed/MD589/MD589_prep2_lossless/MD589-IHC18-2015.07.30-22.27.59_MD589_1_0052_prep2_lossless.tif\" \"/media/yuncong/BstemAtlasData/CSHL_data_processed/MD589/MD589_prep2_lossless/MD589-IHC18-2015.07.30-22.27.59_MD589_1_0052_prep2_lossless.tif\"\n"
     ]
    },
    {
     "name": "stderr",
     "output_type": "stream",
     "text": [
      "Not using image_cache.\n",
      "Load image: 21.09 seconds.\n",
      "Extract patches: 21.79 seconds\n"
     ]
    },
    {
     "name": "stdout",
     "output_type": "stream",
     "text": [
      "(22813, 1, 224, 224)\n",
      "rm -rf \"/media/yuncong/BstemAtlasData/CSHL_data_processed/MD589/MD589_prep2_lossless_grayJpeg/MD589-IHC18-2015.07.30-22.27.59_MD589_1_0052_prep2_lossless_grayJpeg.jpg\" && mkdir -p \"/media/yuncong/BstemAtlasData/CSHL_data_processed/MD589/MD589_prep2_lossless_grayJpeg\"\n",
      "aws s3 cp \"s3://mousebrainatlas-data/CSHL_data_processed/MD589/MD589_prep2_lossless_grayJpeg/MD589-IHC18-2015.07.30-22.27.59_MD589_1_0052_prep2_lossless_grayJpeg.jpg\" \"/media/yuncong/BstemAtlasData/CSHL_data_processed/MD589/MD589_prep2_lossless_grayJpeg/MD589-IHC18-2015.07.30-22.27.59_MD589_1_0052_prep2_lossless_grayJpeg.jpg\"\n"
     ]
    },
    {
     "name": "stderr",
     "output_type": "stream",
     "text": [
      "Not using image_cache.\n"
     ]
    },
    {
     "name": "stdout",
     "output_type": "stream",
     "text": [
      "(549, 714, 3) (549, 714)\n",
      "aws s3 cp \"/home/yuncong/CSHL_scoremaps/10.0um/MD589/MD589_prep2_10.0um_detector999/MD589-IHC18-2015.07.30-22.27.59_MD589_1_0052_prep2_10.0um_detector999/MD589-IHC18-2015.07.30-22.27.59_MD589_1_0052_prep2_10.0um_detector999_Tz_scoremap.bp\" \"s3://mousebrainatlas-data/CSHL_scoremaps/10.0um/MD589/MD589_prep2_10.0um_detector999/MD589-IHC18-2015.07.30-22.27.59_MD589_1_0052_prep2_10.0um_detector999/MD589-IHC18-2015.07.30-22.27.59_MD589_1_0052_prep2_10.0um_detector999_Tz_scoremap.bp\"\n",
      "aws s3 cp \"/home/yuncong/CSHL_scoremap_viz/10.0um/Tz/MD589/detector999/prep2/MD589-IHC18-2015.07.30-22.27.59_MD589_1_0052_prep2_10.0um_Tz_detector999_scoremapViz.jpg\" \"s3://mousebrainatlas-data/CSHL_scoremap_viz/10.0um/Tz/MD589/detector999/prep2/MD589-IHC18-2015.07.30-22.27.59_MD589_1_0052_prep2_10.0um_Tz_detector999_scoremapViz.jpg\"\n"
     ]
    },
    {
     "name": "stderr",
     "output_type": "stream",
     "text": [
      "locate patches: 0.03 seconds\n"
     ]
    },
    {
     "name": "stdout",
     "output_type": "stream",
     "text": [
      "rm -rf \"/media/yuncong/BstemAtlasData/CSHL_data_processed/MD589/MD589_prep2_lossless/MD589-N18-2015.07.30-17.11.24_MD589_2_0053_prep2_lossless.tif\" && mkdir -p \"/media/yuncong/BstemAtlasData/CSHL_data_processed/MD589/MD589_prep2_lossless\"\n",
      "aws s3 cp \"s3://mousebrainatlas-data/CSHL_data_processed/MD589/MD589_prep2_lossless/MD589-N18-2015.07.30-17.11.24_MD589_2_0053_prep2_lossless.tif\" \"/media/yuncong/BstemAtlasData/CSHL_data_processed/MD589/MD589_prep2_lossless/MD589-N18-2015.07.30-17.11.24_MD589_2_0053_prep2_lossless.tif\"\n"
     ]
    },
    {
     "name": "stderr",
     "output_type": "stream",
     "text": [
      "Not using image_cache.\n",
      "Load image: 19.62 seconds.\n",
      "Extract patches: 20.36 seconds\n"
     ]
    },
    {
     "name": "stdout",
     "output_type": "stream",
     "text": [
      "(22939, 1, 224, 224)\n",
      "rm -rf \"/media/yuncong/BstemAtlasData/CSHL_data_processed/MD589/MD589_prep2_lossless_grayJpeg/MD589-N18-2015.07.30-17.11.24_MD589_2_0053_prep2_lossless_grayJpeg.jpg\" && mkdir -p \"/media/yuncong/BstemAtlasData/CSHL_data_processed/MD589/MD589_prep2_lossless_grayJpeg\"\n",
      "aws s3 cp \"s3://mousebrainatlas-data/CSHL_data_processed/MD589/MD589_prep2_lossless_grayJpeg/MD589-N18-2015.07.30-17.11.24_MD589_2_0053_prep2_lossless_grayJpeg.jpg\" \"/media/yuncong/BstemAtlasData/CSHL_data_processed/MD589/MD589_prep2_lossless_grayJpeg/MD589-N18-2015.07.30-17.11.24_MD589_2_0053_prep2_lossless_grayJpeg.jpg\"\n"
     ]
    },
    {
     "name": "stderr",
     "output_type": "stream",
     "text": [
      "Not using image_cache.\n"
     ]
    },
    {
     "name": "stdout",
     "output_type": "stream",
     "text": [
      "(549, 714, 3) (549, 714)\n",
      "aws s3 cp \"/home/yuncong/CSHL_scoremaps/10.0um/MD589/MD589_prep2_10.0um_detector999/MD589-N18-2015.07.30-17.11.24_MD589_2_0053_prep2_10.0um_detector999/MD589-N18-2015.07.30-17.11.24_MD589_2_0053_prep2_10.0um_detector999_Tz_scoremap.bp\" \"s3://mousebrainatlas-data/CSHL_scoremaps/10.0um/MD589/MD589_prep2_10.0um_detector999/MD589-N18-2015.07.30-17.11.24_MD589_2_0053_prep2_10.0um_detector999/MD589-N18-2015.07.30-17.11.24_MD589_2_0053_prep2_10.0um_detector999_Tz_scoremap.bp\"\n",
      "aws s3 cp \"/home/yuncong/CSHL_scoremap_viz/10.0um/Tz/MD589/detector999/prep2/MD589-N18-2015.07.30-17.11.24_MD589_2_0053_prep2_10.0um_Tz_detector999_scoremapViz.jpg\" \"s3://mousebrainatlas-data/CSHL_scoremap_viz/10.0um/Tz/MD589/detector999/prep2/MD589-N18-2015.07.30-17.11.24_MD589_2_0053_prep2_10.0um_Tz_detector999_scoremapViz.jpg\"\n"
     ]
    },
    {
     "name": "stderr",
     "output_type": "stream",
     "text": [
      "locate patches: 0.04 seconds\n"
     ]
    },
    {
     "name": "stdout",
     "output_type": "stream",
     "text": [
      "rm -rf \"/media/yuncong/BstemAtlasData/CSHL_data_processed/MD589/MD589_prep2_lossless/MD589-IHC18-2015.07.30-22.27.59_MD589_2_0053_prep2_lossless.tif\" && mkdir -p \"/media/yuncong/BstemAtlasData/CSHL_data_processed/MD589/MD589_prep2_lossless\"\n",
      "aws s3 cp \"s3://mousebrainatlas-data/CSHL_data_processed/MD589/MD589_prep2_lossless/MD589-IHC18-2015.07.30-22.27.59_MD589_2_0053_prep2_lossless.tif\" \"/media/yuncong/BstemAtlasData/CSHL_data_processed/MD589/MD589_prep2_lossless/MD589-IHC18-2015.07.30-22.27.59_MD589_2_0053_prep2_lossless.tif\"\n"
     ]
    },
    {
     "name": "stderr",
     "output_type": "stream",
     "text": [
      "Not using image_cache.\n",
      "Load image: 20.48 seconds.\n",
      "Extract patches: 21.20 seconds\n"
     ]
    },
    {
     "name": "stdout",
     "output_type": "stream",
     "text": [
      "(23267, 1, 224, 224)\n",
      "rm -rf \"/media/yuncong/BstemAtlasData/CSHL_data_processed/MD589/MD589_prep2_lossless_grayJpeg/MD589-IHC18-2015.07.30-22.27.59_MD589_2_0053_prep2_lossless_grayJpeg.jpg\" && mkdir -p \"/media/yuncong/BstemAtlasData/CSHL_data_processed/MD589/MD589_prep2_lossless_grayJpeg\"\n",
      "aws s3 cp \"s3://mousebrainatlas-data/CSHL_data_processed/MD589/MD589_prep2_lossless_grayJpeg/MD589-IHC18-2015.07.30-22.27.59_MD589_2_0053_prep2_lossless_grayJpeg.jpg\" \"/media/yuncong/BstemAtlasData/CSHL_data_processed/MD589/MD589_prep2_lossless_grayJpeg/MD589-IHC18-2015.07.30-22.27.59_MD589_2_0053_prep2_lossless_grayJpeg.jpg\"\n"
     ]
    },
    {
     "name": "stderr",
     "output_type": "stream",
     "text": [
      "Not using image_cache.\n"
     ]
    },
    {
     "name": "stdout",
     "output_type": "stream",
     "text": [
      "(549, 714, 3) (549, 714)\n",
      "aws s3 cp \"/home/yuncong/CSHL_scoremaps/10.0um/MD589/MD589_prep2_10.0um_detector999/MD589-IHC18-2015.07.30-22.27.59_MD589_2_0053_prep2_10.0um_detector999/MD589-IHC18-2015.07.30-22.27.59_MD589_2_0053_prep2_10.0um_detector999_Tz_scoremap.bp\" \"s3://mousebrainatlas-data/CSHL_scoremaps/10.0um/MD589/MD589_prep2_10.0um_detector999/MD589-IHC18-2015.07.30-22.27.59_MD589_2_0053_prep2_10.0um_detector999/MD589-IHC18-2015.07.30-22.27.59_MD589_2_0053_prep2_10.0um_detector999_Tz_scoremap.bp\"\n",
      "aws s3 cp \"/home/yuncong/CSHL_scoremap_viz/10.0um/Tz/MD589/detector999/prep2/MD589-IHC18-2015.07.30-22.27.59_MD589_2_0053_prep2_10.0um_Tz_detector999_scoremapViz.jpg\" \"s3://mousebrainatlas-data/CSHL_scoremap_viz/10.0um/Tz/MD589/detector999/prep2/MD589-IHC18-2015.07.30-22.27.59_MD589_2_0053_prep2_10.0um_Tz_detector999_scoremapViz.jpg\"\n"
     ]
    },
    {
     "name": "stderr",
     "output_type": "stream",
     "text": [
      "locate patches: 0.03 seconds\n"
     ]
    },
    {
     "name": "stdout",
     "output_type": "stream",
     "text": [
      "rm -rf \"/media/yuncong/BstemAtlasData/CSHL_data_processed/MD589/MD589_prep2_lossless/MD589-N18-2015.07.30-17.11.24_MD589_3_0054_prep2_lossless.tif\" && mkdir -p \"/media/yuncong/BstemAtlasData/CSHL_data_processed/MD589/MD589_prep2_lossless\"\n",
      "aws s3 cp \"s3://mousebrainatlas-data/CSHL_data_processed/MD589/MD589_prep2_lossless/MD589-N18-2015.07.30-17.11.24_MD589_3_0054_prep2_lossless.tif\" \"/media/yuncong/BstemAtlasData/CSHL_data_processed/MD589/MD589_prep2_lossless/MD589-N18-2015.07.30-17.11.24_MD589_3_0054_prep2_lossless.tif\"\n"
     ]
    },
    {
     "name": "stderr",
     "output_type": "stream",
     "text": [
      "Not using image_cache.\n",
      "Load image: 19.40 seconds.\n",
      "Extract patches: 20.10 seconds\n"
     ]
    },
    {
     "name": "stdout",
     "output_type": "stream",
     "text": [
      "(23372, 1, 224, 224)\n",
      "rm -rf \"/media/yuncong/BstemAtlasData/CSHL_data_processed/MD589/MD589_prep2_lossless_grayJpeg/MD589-N18-2015.07.30-17.11.24_MD589_3_0054_prep2_lossless_grayJpeg.jpg\" && mkdir -p \"/media/yuncong/BstemAtlasData/CSHL_data_processed/MD589/MD589_prep2_lossless_grayJpeg\"\n",
      "aws s3 cp \"s3://mousebrainatlas-data/CSHL_data_processed/MD589/MD589_prep2_lossless_grayJpeg/MD589-N18-2015.07.30-17.11.24_MD589_3_0054_prep2_lossless_grayJpeg.jpg\" \"/media/yuncong/BstemAtlasData/CSHL_data_processed/MD589/MD589_prep2_lossless_grayJpeg/MD589-N18-2015.07.30-17.11.24_MD589_3_0054_prep2_lossless_grayJpeg.jpg\"\n"
     ]
    },
    {
     "name": "stderr",
     "output_type": "stream",
     "text": [
      "Not using image_cache.\n"
     ]
    },
    {
     "name": "stdout",
     "output_type": "stream",
     "text": [
      "(549, 714, 3) (549, 714)\n",
      "aws s3 cp \"/home/yuncong/CSHL_scoremaps/10.0um/MD589/MD589_prep2_10.0um_detector999/MD589-N18-2015.07.30-17.11.24_MD589_3_0054_prep2_10.0um_detector999/MD589-N18-2015.07.30-17.11.24_MD589_3_0054_prep2_10.0um_detector999_Tz_scoremap.bp\" \"s3://mousebrainatlas-data/CSHL_scoremaps/10.0um/MD589/MD589_prep2_10.0um_detector999/MD589-N18-2015.07.30-17.11.24_MD589_3_0054_prep2_10.0um_detector999/MD589-N18-2015.07.30-17.11.24_MD589_3_0054_prep2_10.0um_detector999_Tz_scoremap.bp\"\n",
      "aws s3 cp \"/home/yuncong/CSHL_scoremap_viz/10.0um/Tz/MD589/detector999/prep2/MD589-N18-2015.07.30-17.11.24_MD589_3_0054_prep2_10.0um_Tz_detector999_scoremapViz.jpg\" \"s3://mousebrainatlas-data/CSHL_scoremap_viz/10.0um/Tz/MD589/detector999/prep2/MD589-N18-2015.07.30-17.11.24_MD589_3_0054_prep2_10.0um_Tz_detector999_scoremapViz.jpg\"\n"
     ]
    },
    {
     "name": "stderr",
     "output_type": "stream",
     "text": [
      "locate patches: 0.05 seconds\n"
     ]
    },
    {
     "name": "stdout",
     "output_type": "stream",
     "text": [
      "rm -rf \"/media/yuncong/BstemAtlasData/CSHL_data_processed/MD589/MD589_prep2_lossless/MD589-IHC18-2015.07.30-22.27.59_MD589_3_0054_prep2_lossless.tif\" && mkdir -p \"/media/yuncong/BstemAtlasData/CSHL_data_processed/MD589/MD589_prep2_lossless\"\n",
      "aws s3 cp \"s3://mousebrainatlas-data/CSHL_data_processed/MD589/MD589_prep2_lossless/MD589-IHC18-2015.07.30-22.27.59_MD589_3_0054_prep2_lossless.tif\" \"/media/yuncong/BstemAtlasData/CSHL_data_processed/MD589/MD589_prep2_lossless/MD589-IHC18-2015.07.30-22.27.59_MD589_3_0054_prep2_lossless.tif\"\n"
     ]
    },
    {
     "name": "stderr",
     "output_type": "stream",
     "text": [
      "Not using image_cache.\n",
      "Load image: 19.77 seconds.\n",
      "Extract patches: 20.47 seconds\n"
     ]
    },
    {
     "name": "stdout",
     "output_type": "stream",
     "text": [
      "(23619, 1, 224, 224)\n",
      "rm -rf \"/media/yuncong/BstemAtlasData/CSHL_data_processed/MD589/MD589_prep2_lossless_grayJpeg/MD589-IHC18-2015.07.30-22.27.59_MD589_3_0054_prep2_lossless_grayJpeg.jpg\" && mkdir -p \"/media/yuncong/BstemAtlasData/CSHL_data_processed/MD589/MD589_prep2_lossless_grayJpeg\"\n",
      "aws s3 cp \"s3://mousebrainatlas-data/CSHL_data_processed/MD589/MD589_prep2_lossless_grayJpeg/MD589-IHC18-2015.07.30-22.27.59_MD589_3_0054_prep2_lossless_grayJpeg.jpg\" \"/media/yuncong/BstemAtlasData/CSHL_data_processed/MD589/MD589_prep2_lossless_grayJpeg/MD589-IHC18-2015.07.30-22.27.59_MD589_3_0054_prep2_lossless_grayJpeg.jpg\"\n"
     ]
    },
    {
     "name": "stderr",
     "output_type": "stream",
     "text": [
      "Not using image_cache.\n"
     ]
    },
    {
     "name": "stdout",
     "output_type": "stream",
     "text": [
      "(549, 714, 3) (549, 714)\n",
      "aws s3 cp \"/home/yuncong/CSHL_scoremaps/10.0um/MD589/MD589_prep2_10.0um_detector999/MD589-IHC18-2015.07.30-22.27.59_MD589_3_0054_prep2_10.0um_detector999/MD589-IHC18-2015.07.30-22.27.59_MD589_3_0054_prep2_10.0um_detector999_Tz_scoremap.bp\" \"s3://mousebrainatlas-data/CSHL_scoremaps/10.0um/MD589/MD589_prep2_10.0um_detector999/MD589-IHC18-2015.07.30-22.27.59_MD589_3_0054_prep2_10.0um_detector999/MD589-IHC18-2015.07.30-22.27.59_MD589_3_0054_prep2_10.0um_detector999_Tz_scoremap.bp\"\n",
      "aws s3 cp \"/home/yuncong/CSHL_scoremap_viz/10.0um/Tz/MD589/detector999/prep2/MD589-IHC18-2015.07.30-22.27.59_MD589_3_0054_prep2_10.0um_Tz_detector999_scoremapViz.jpg\" \"s3://mousebrainatlas-data/CSHL_scoremap_viz/10.0um/Tz/MD589/detector999/prep2/MD589-IHC18-2015.07.30-22.27.59_MD589_3_0054_prep2_10.0um_Tz_detector999_scoremapViz.jpg\"\n"
     ]
    },
    {
     "name": "stderr",
     "output_type": "stream",
     "text": [
      "locate patches: 0.07 seconds\n"
     ]
    },
    {
     "name": "stdout",
     "output_type": "stream",
     "text": [
      "rm -rf \"/media/yuncong/BstemAtlasData/CSHL_data_processed/MD589/MD589_prep2_lossless/MD589-N19-2015.07.30-17.15.15_MD589_1_0055_prep2_lossless.tif\" && mkdir -p \"/media/yuncong/BstemAtlasData/CSHL_data_processed/MD589/MD589_prep2_lossless\"\n",
      "aws s3 cp \"s3://mousebrainatlas-data/CSHL_data_processed/MD589/MD589_prep2_lossless/MD589-N19-2015.07.30-17.15.15_MD589_1_0055_prep2_lossless.tif\" \"/media/yuncong/BstemAtlasData/CSHL_data_processed/MD589/MD589_prep2_lossless/MD589-N19-2015.07.30-17.15.15_MD589_1_0055_prep2_lossless.tif\"\n"
     ]
    },
    {
     "name": "stderr",
     "output_type": "stream",
     "text": [
      "Not using image_cache.\n",
      "Load image: 19.35 seconds.\n",
      "Extract patches: 20.05 seconds\n"
     ]
    },
    {
     "name": "stdout",
     "output_type": "stream",
     "text": [
      "(23667, 1, 224, 224)\n",
      "rm -rf \"/media/yuncong/BstemAtlasData/CSHL_data_processed/MD589/MD589_prep2_lossless_grayJpeg/MD589-N19-2015.07.30-17.15.15_MD589_1_0055_prep2_lossless_grayJpeg.jpg\" && mkdir -p \"/media/yuncong/BstemAtlasData/CSHL_data_processed/MD589/MD589_prep2_lossless_grayJpeg\"\n",
      "aws s3 cp \"s3://mousebrainatlas-data/CSHL_data_processed/MD589/MD589_prep2_lossless_grayJpeg/MD589-N19-2015.07.30-17.15.15_MD589_1_0055_prep2_lossless_grayJpeg.jpg\" \"/media/yuncong/BstemAtlasData/CSHL_data_processed/MD589/MD589_prep2_lossless_grayJpeg/MD589-N19-2015.07.30-17.15.15_MD589_1_0055_prep2_lossless_grayJpeg.jpg\"\n"
     ]
    },
    {
     "name": "stderr",
     "output_type": "stream",
     "text": [
      "Not using image_cache.\n"
     ]
    },
    {
     "name": "stdout",
     "output_type": "stream",
     "text": [
      "(549, 714, 3) (549, 714)\n",
      "aws s3 cp \"/home/yuncong/CSHL_scoremaps/10.0um/MD589/MD589_prep2_10.0um_detector999/MD589-N19-2015.07.30-17.15.15_MD589_1_0055_prep2_10.0um_detector999/MD589-N19-2015.07.30-17.15.15_MD589_1_0055_prep2_10.0um_detector999_Tz_scoremap.bp\" \"s3://mousebrainatlas-data/CSHL_scoremaps/10.0um/MD589/MD589_prep2_10.0um_detector999/MD589-N19-2015.07.30-17.15.15_MD589_1_0055_prep2_10.0um_detector999/MD589-N19-2015.07.30-17.15.15_MD589_1_0055_prep2_10.0um_detector999_Tz_scoremap.bp\"\n",
      "aws s3 cp \"/home/yuncong/CSHL_scoremap_viz/10.0um/Tz/MD589/detector999/prep2/MD589-N19-2015.07.30-17.15.15_MD589_1_0055_prep2_10.0um_Tz_detector999_scoremapViz.jpg\" \"s3://mousebrainatlas-data/CSHL_scoremap_viz/10.0um/Tz/MD589/detector999/prep2/MD589-N19-2015.07.30-17.15.15_MD589_1_0055_prep2_10.0um_Tz_detector999_scoremapViz.jpg\"\n"
     ]
    },
    {
     "name": "stderr",
     "output_type": "stream",
     "text": [
      "locate patches: 0.04 seconds\n"
     ]
    },
    {
     "name": "stdout",
     "output_type": "stream",
     "text": [
      "rm -rf \"/media/yuncong/BstemAtlasData/CSHL_data_processed/MD589/MD589_prep2_lossless/MD589-IHC19-2015.07.30-22.32.05_MD589_1_0055_prep2_lossless.tif\" && mkdir -p \"/media/yuncong/BstemAtlasData/CSHL_data_processed/MD589/MD589_prep2_lossless\"\n",
      "aws s3 cp \"s3://mousebrainatlas-data/CSHL_data_processed/MD589/MD589_prep2_lossless/MD589-IHC19-2015.07.30-22.32.05_MD589_1_0055_prep2_lossless.tif\" \"/media/yuncong/BstemAtlasData/CSHL_data_processed/MD589/MD589_prep2_lossless/MD589-IHC19-2015.07.30-22.32.05_MD589_1_0055_prep2_lossless.tif\"\n"
     ]
    },
    {
     "name": "stderr",
     "output_type": "stream",
     "text": [
      "Not using image_cache.\n",
      "Load image: 22.10 seconds.\n",
      "Extract patches: 22.83 seconds\n"
     ]
    },
    {
     "name": "stdout",
     "output_type": "stream",
     "text": [
      "(23712, 1, 224, 224)\n",
      "rm -rf \"/media/yuncong/BstemAtlasData/CSHL_data_processed/MD589/MD589_prep2_lossless_grayJpeg/MD589-IHC19-2015.07.30-22.32.05_MD589_1_0055_prep2_lossless_grayJpeg.jpg\" && mkdir -p \"/media/yuncong/BstemAtlasData/CSHL_data_processed/MD589/MD589_prep2_lossless_grayJpeg\"\n",
      "aws s3 cp \"s3://mousebrainatlas-data/CSHL_data_processed/MD589/MD589_prep2_lossless_grayJpeg/MD589-IHC19-2015.07.30-22.32.05_MD589_1_0055_prep2_lossless_grayJpeg.jpg\" \"/media/yuncong/BstemAtlasData/CSHL_data_processed/MD589/MD589_prep2_lossless_grayJpeg/MD589-IHC19-2015.07.30-22.32.05_MD589_1_0055_prep2_lossless_grayJpeg.jpg\"\n"
     ]
    },
    {
     "name": "stderr",
     "output_type": "stream",
     "text": [
      "Not using image_cache.\n"
     ]
    },
    {
     "name": "stdout",
     "output_type": "stream",
     "text": [
      "(549, 714, 3) (549, 714)\n",
      "aws s3 cp \"/home/yuncong/CSHL_scoremaps/10.0um/MD589/MD589_prep2_10.0um_detector999/MD589-IHC19-2015.07.30-22.32.05_MD589_1_0055_prep2_10.0um_detector999/MD589-IHC19-2015.07.30-22.32.05_MD589_1_0055_prep2_10.0um_detector999_Tz_scoremap.bp\" \"s3://mousebrainatlas-data/CSHL_scoremaps/10.0um/MD589/MD589_prep2_10.0um_detector999/MD589-IHC19-2015.07.30-22.32.05_MD589_1_0055_prep2_10.0um_detector999/MD589-IHC19-2015.07.30-22.32.05_MD589_1_0055_prep2_10.0um_detector999_Tz_scoremap.bp\"\n",
      "aws s3 cp \"/home/yuncong/CSHL_scoremap_viz/10.0um/Tz/MD589/detector999/prep2/MD589-IHC19-2015.07.30-22.32.05_MD589_1_0055_prep2_10.0um_Tz_detector999_scoremapViz.jpg\" \"s3://mousebrainatlas-data/CSHL_scoremap_viz/10.0um/Tz/MD589/detector999/prep2/MD589-IHC19-2015.07.30-22.32.05_MD589_1_0055_prep2_10.0um_Tz_detector999_scoremapViz.jpg\"\n"
     ]
    },
    {
     "name": "stderr",
     "output_type": "stream",
     "text": [
      "locate patches: 0.04 seconds\n"
     ]
    },
    {
     "name": "stdout",
     "output_type": "stream",
     "text": [
      "rm -rf \"/media/yuncong/BstemAtlasData/CSHL_data_processed/MD589/MD589_prep2_lossless/MD589-N19-2015.07.30-17.15.15_MD589_2_0056_prep2_lossless.tif\" && mkdir -p \"/media/yuncong/BstemAtlasData/CSHL_data_processed/MD589/MD589_prep2_lossless\"\n",
      "aws s3 cp \"s3://mousebrainatlas-data/CSHL_data_processed/MD589/MD589_prep2_lossless/MD589-N19-2015.07.30-17.15.15_MD589_2_0056_prep2_lossless.tif\" \"/media/yuncong/BstemAtlasData/CSHL_data_processed/MD589/MD589_prep2_lossless/MD589-N19-2015.07.30-17.15.15_MD589_2_0056_prep2_lossless.tif\"\n"
     ]
    },
    {
     "name": "stderr",
     "output_type": "stream",
     "text": [
      "Not using image_cache.\n",
      "Load image: 20.45 seconds.\n",
      "Extract patches: 21.18 seconds\n"
     ]
    },
    {
     "name": "stdout",
     "output_type": "stream",
     "text": [
      "(23725, 1, 224, 224)\n",
      "rm -rf \"/media/yuncong/BstemAtlasData/CSHL_data_processed/MD589/MD589_prep2_lossless_grayJpeg/MD589-N19-2015.07.30-17.15.15_MD589_2_0056_prep2_lossless_grayJpeg.jpg\" && mkdir -p \"/media/yuncong/BstemAtlasData/CSHL_data_processed/MD589/MD589_prep2_lossless_grayJpeg\"\n",
      "aws s3 cp \"s3://mousebrainatlas-data/CSHL_data_processed/MD589/MD589_prep2_lossless_grayJpeg/MD589-N19-2015.07.30-17.15.15_MD589_2_0056_prep2_lossless_grayJpeg.jpg\" \"/media/yuncong/BstemAtlasData/CSHL_data_processed/MD589/MD589_prep2_lossless_grayJpeg/MD589-N19-2015.07.30-17.15.15_MD589_2_0056_prep2_lossless_grayJpeg.jpg\"\n"
     ]
    },
    {
     "name": "stderr",
     "output_type": "stream",
     "text": [
      "Not using image_cache.\n"
     ]
    },
    {
     "name": "stdout",
     "output_type": "stream",
     "text": [
      "(549, 714, 3) (549, 714)\n",
      "aws s3 cp \"/home/yuncong/CSHL_scoremaps/10.0um/MD589/MD589_prep2_10.0um_detector999/MD589-N19-2015.07.30-17.15.15_MD589_2_0056_prep2_10.0um_detector999/MD589-N19-2015.07.30-17.15.15_MD589_2_0056_prep2_10.0um_detector999_Tz_scoremap.bp\" \"s3://mousebrainatlas-data/CSHL_scoremaps/10.0um/MD589/MD589_prep2_10.0um_detector999/MD589-N19-2015.07.30-17.15.15_MD589_2_0056_prep2_10.0um_detector999/MD589-N19-2015.07.30-17.15.15_MD589_2_0056_prep2_10.0um_detector999_Tz_scoremap.bp\"\n",
      "aws s3 cp \"/home/yuncong/CSHL_scoremap_viz/10.0um/Tz/MD589/detector999/prep2/MD589-N19-2015.07.30-17.15.15_MD589_2_0056_prep2_10.0um_Tz_detector999_scoremapViz.jpg\" \"s3://mousebrainatlas-data/CSHL_scoremap_viz/10.0um/Tz/MD589/detector999/prep2/MD589-N19-2015.07.30-17.15.15_MD589_2_0056_prep2_10.0um_Tz_detector999_scoremapViz.jpg\"\n"
     ]
    },
    {
     "name": "stderr",
     "output_type": "stream",
     "text": [
      "locate patches: 0.04 seconds\n"
     ]
    },
    {
     "name": "stdout",
     "output_type": "stream",
     "text": [
      "rm -rf \"/media/yuncong/BstemAtlasData/CSHL_data_processed/MD589/MD589_prep2_lossless/MD589-IHC19-2015.07.30-22.32.05_MD589_2_0056_prep2_lossless.tif\" && mkdir -p \"/media/yuncong/BstemAtlasData/CSHL_data_processed/MD589/MD589_prep2_lossless\"\n",
      "aws s3 cp \"s3://mousebrainatlas-data/CSHL_data_processed/MD589/MD589_prep2_lossless/MD589-IHC19-2015.07.30-22.32.05_MD589_2_0056_prep2_lossless.tif\" \"/media/yuncong/BstemAtlasData/CSHL_data_processed/MD589/MD589_prep2_lossless/MD589-IHC19-2015.07.30-22.32.05_MD589_2_0056_prep2_lossless.tif\"\n"
     ]
    },
    {
     "name": "stderr",
     "output_type": "stream",
     "text": [
      "Not using image_cache.\n",
      "Load image: 19.82 seconds.\n",
      "Extract patches: 20.54 seconds\n"
     ]
    },
    {
     "name": "stdout",
     "output_type": "stream",
     "text": [
      "(24015, 1, 224, 224)\n",
      "rm -rf \"/media/yuncong/BstemAtlasData/CSHL_data_processed/MD589/MD589_prep2_lossless_grayJpeg/MD589-IHC19-2015.07.30-22.32.05_MD589_2_0056_prep2_lossless_grayJpeg.jpg\" && mkdir -p \"/media/yuncong/BstemAtlasData/CSHL_data_processed/MD589/MD589_prep2_lossless_grayJpeg\"\n",
      "aws s3 cp \"s3://mousebrainatlas-data/CSHL_data_processed/MD589/MD589_prep2_lossless_grayJpeg/MD589-IHC19-2015.07.30-22.32.05_MD589_2_0056_prep2_lossless_grayJpeg.jpg\" \"/media/yuncong/BstemAtlasData/CSHL_data_processed/MD589/MD589_prep2_lossless_grayJpeg/MD589-IHC19-2015.07.30-22.32.05_MD589_2_0056_prep2_lossless_grayJpeg.jpg\"\n"
     ]
    },
    {
     "name": "stderr",
     "output_type": "stream",
     "text": [
      "Not using image_cache.\n"
     ]
    },
    {
     "name": "stdout",
     "output_type": "stream",
     "text": [
      "(549, 714, 3) (549, 714)\n",
      "aws s3 cp \"/home/yuncong/CSHL_scoremaps/10.0um/MD589/MD589_prep2_10.0um_detector999/MD589-IHC19-2015.07.30-22.32.05_MD589_2_0056_prep2_10.0um_detector999/MD589-IHC19-2015.07.30-22.32.05_MD589_2_0056_prep2_10.0um_detector999_Tz_scoremap.bp\" \"s3://mousebrainatlas-data/CSHL_scoremaps/10.0um/MD589/MD589_prep2_10.0um_detector999/MD589-IHC19-2015.07.30-22.32.05_MD589_2_0056_prep2_10.0um_detector999/MD589-IHC19-2015.07.30-22.32.05_MD589_2_0056_prep2_10.0um_detector999_Tz_scoremap.bp\"\n",
      "aws s3 cp \"/home/yuncong/CSHL_scoremap_viz/10.0um/Tz/MD589/detector999/prep2/MD589-IHC19-2015.07.30-22.32.05_MD589_2_0056_prep2_10.0um_Tz_detector999_scoremapViz.jpg\" \"s3://mousebrainatlas-data/CSHL_scoremap_viz/10.0um/Tz/MD589/detector999/prep2/MD589-IHC19-2015.07.30-22.32.05_MD589_2_0056_prep2_10.0um_Tz_detector999_scoremapViz.jpg\"\n"
     ]
    },
    {
     "name": "stderr",
     "output_type": "stream",
     "text": [
      "locate patches: 0.04 seconds\n"
     ]
    },
    {
     "name": "stdout",
     "output_type": "stream",
     "text": [
      "rm -rf \"/media/yuncong/BstemAtlasData/CSHL_data_processed/MD589/MD589_prep2_lossless/MD589-N19-2015.07.30-17.15.15_MD589_3_0057_prep2_lossless.tif\" && mkdir -p \"/media/yuncong/BstemAtlasData/CSHL_data_processed/MD589/MD589_prep2_lossless\"\n",
      "aws s3 cp \"s3://mousebrainatlas-data/CSHL_data_processed/MD589/MD589_prep2_lossless/MD589-N19-2015.07.30-17.15.15_MD589_3_0057_prep2_lossless.tif\" \"/media/yuncong/BstemAtlasData/CSHL_data_processed/MD589/MD589_prep2_lossless/MD589-N19-2015.07.30-17.15.15_MD589_3_0057_prep2_lossless.tif\"\n"
     ]
    },
    {
     "name": "stderr",
     "output_type": "stream",
     "text": [
      "Not using image_cache.\n",
      "Load image: 21.20 seconds.\n",
      "Extract patches: 22.00 seconds\n"
     ]
    },
    {
     "name": "stdout",
     "output_type": "stream",
     "text": [
      "(24175, 1, 224, 224)\n",
      "rm -rf \"/media/yuncong/BstemAtlasData/CSHL_data_processed/MD589/MD589_prep2_lossless_grayJpeg/MD589-N19-2015.07.30-17.15.15_MD589_3_0057_prep2_lossless_grayJpeg.jpg\" && mkdir -p \"/media/yuncong/BstemAtlasData/CSHL_data_processed/MD589/MD589_prep2_lossless_grayJpeg\"\n",
      "aws s3 cp \"s3://mousebrainatlas-data/CSHL_data_processed/MD589/MD589_prep2_lossless_grayJpeg/MD589-N19-2015.07.30-17.15.15_MD589_3_0057_prep2_lossless_grayJpeg.jpg\" \"/media/yuncong/BstemAtlasData/CSHL_data_processed/MD589/MD589_prep2_lossless_grayJpeg/MD589-N19-2015.07.30-17.15.15_MD589_3_0057_prep2_lossless_grayJpeg.jpg\"\n"
     ]
    },
    {
     "name": "stderr",
     "output_type": "stream",
     "text": [
      "Not using image_cache.\n"
     ]
    },
    {
     "name": "stdout",
     "output_type": "stream",
     "text": [
      "(549, 714, 3) (549, 714)\n",
      "aws s3 cp \"/home/yuncong/CSHL_scoremaps/10.0um/MD589/MD589_prep2_10.0um_detector999/MD589-N19-2015.07.30-17.15.15_MD589_3_0057_prep2_10.0um_detector999/MD589-N19-2015.07.30-17.15.15_MD589_3_0057_prep2_10.0um_detector999_Tz_scoremap.bp\" \"s3://mousebrainatlas-data/CSHL_scoremaps/10.0um/MD589/MD589_prep2_10.0um_detector999/MD589-N19-2015.07.30-17.15.15_MD589_3_0057_prep2_10.0um_detector999/MD589-N19-2015.07.30-17.15.15_MD589_3_0057_prep2_10.0um_detector999_Tz_scoremap.bp\"\n",
      "aws s3 cp \"/home/yuncong/CSHL_scoremap_viz/10.0um/Tz/MD589/detector999/prep2/MD589-N19-2015.07.30-17.15.15_MD589_3_0057_prep2_10.0um_Tz_detector999_scoremapViz.jpg\" \"s3://mousebrainatlas-data/CSHL_scoremap_viz/10.0um/Tz/MD589/detector999/prep2/MD589-N19-2015.07.30-17.15.15_MD589_3_0057_prep2_10.0um_Tz_detector999_scoremapViz.jpg\"\n"
     ]
    },
    {
     "name": "stderr",
     "output_type": "stream",
     "text": [
      "locate patches: 0.04 seconds\n"
     ]
    },
    {
     "name": "stdout",
     "output_type": "stream",
     "text": [
      "rm -rf \"/media/yuncong/BstemAtlasData/CSHL_data_processed/MD589/MD589_prep2_lossless/MD589-IHC19-2015.07.30-22.32.05_MD589_3_0057_prep2_lossless.tif\" && mkdir -p \"/media/yuncong/BstemAtlasData/CSHL_data_processed/MD589/MD589_prep2_lossless\"\n",
      "aws s3 cp \"s3://mousebrainatlas-data/CSHL_data_processed/MD589/MD589_prep2_lossless/MD589-IHC19-2015.07.30-22.32.05_MD589_3_0057_prep2_lossless.tif\" \"/media/yuncong/BstemAtlasData/CSHL_data_processed/MD589/MD589_prep2_lossless/MD589-IHC19-2015.07.30-22.32.05_MD589_3_0057_prep2_lossless.tif\"\n"
     ]
    },
    {
     "name": "stderr",
     "output_type": "stream",
     "text": [
      "Not using image_cache.\n",
      "Load image: 20.18 seconds.\n",
      "Extract patches: 20.96 seconds\n"
     ]
    },
    {
     "name": "stdout",
     "output_type": "stream",
     "text": [
      "(24296, 1, 224, 224)\n",
      "rm -rf \"/media/yuncong/BstemAtlasData/CSHL_data_processed/MD589/MD589_prep2_lossless_grayJpeg/MD589-IHC19-2015.07.30-22.32.05_MD589_3_0057_prep2_lossless_grayJpeg.jpg\" && mkdir -p \"/media/yuncong/BstemAtlasData/CSHL_data_processed/MD589/MD589_prep2_lossless_grayJpeg\"\n",
      "aws s3 cp \"s3://mousebrainatlas-data/CSHL_data_processed/MD589/MD589_prep2_lossless_grayJpeg/MD589-IHC19-2015.07.30-22.32.05_MD589_3_0057_prep2_lossless_grayJpeg.jpg\" \"/media/yuncong/BstemAtlasData/CSHL_data_processed/MD589/MD589_prep2_lossless_grayJpeg/MD589-IHC19-2015.07.30-22.32.05_MD589_3_0057_prep2_lossless_grayJpeg.jpg\"\n"
     ]
    },
    {
     "name": "stderr",
     "output_type": "stream",
     "text": [
      "Not using image_cache.\n"
     ]
    },
    {
     "name": "stdout",
     "output_type": "stream",
     "text": [
      "(549, 714, 3) (549, 714)\n",
      "aws s3 cp \"/home/yuncong/CSHL_scoremaps/10.0um/MD589/MD589_prep2_10.0um_detector999/MD589-IHC19-2015.07.30-22.32.05_MD589_3_0057_prep2_10.0um_detector999/MD589-IHC19-2015.07.30-22.32.05_MD589_3_0057_prep2_10.0um_detector999_Tz_scoremap.bp\" \"s3://mousebrainatlas-data/CSHL_scoremaps/10.0um/MD589/MD589_prep2_10.0um_detector999/MD589-IHC19-2015.07.30-22.32.05_MD589_3_0057_prep2_10.0um_detector999/MD589-IHC19-2015.07.30-22.32.05_MD589_3_0057_prep2_10.0um_detector999_Tz_scoremap.bp\"\n",
      "aws s3 cp \"/home/yuncong/CSHL_scoremap_viz/10.0um/Tz/MD589/detector999/prep2/MD589-IHC19-2015.07.30-22.32.05_MD589_3_0057_prep2_10.0um_Tz_detector999_scoremapViz.jpg\" \"s3://mousebrainatlas-data/CSHL_scoremap_viz/10.0um/Tz/MD589/detector999/prep2/MD589-IHC19-2015.07.30-22.32.05_MD589_3_0057_prep2_10.0um_Tz_detector999_scoremapViz.jpg\"\n"
     ]
    },
    {
     "name": "stderr",
     "output_type": "stream",
     "text": [
      "locate patches: 0.04 seconds\n"
     ]
    },
    {
     "name": "stdout",
     "output_type": "stream",
     "text": [
      "rm -rf \"/media/yuncong/BstemAtlasData/CSHL_data_processed/MD589/MD589_prep2_lossless/MD589-N20-2015.07.30-17.19.14_MD589_1_0058_prep2_lossless.tif\" && mkdir -p \"/media/yuncong/BstemAtlasData/CSHL_data_processed/MD589/MD589_prep2_lossless\"\n",
      "aws s3 cp \"s3://mousebrainatlas-data/CSHL_data_processed/MD589/MD589_prep2_lossless/MD589-N20-2015.07.30-17.19.14_MD589_1_0058_prep2_lossless.tif\" \"/media/yuncong/BstemAtlasData/CSHL_data_processed/MD589/MD589_prep2_lossless/MD589-N20-2015.07.30-17.19.14_MD589_1_0058_prep2_lossless.tif\"\n"
     ]
    },
    {
     "name": "stderr",
     "output_type": "stream",
     "text": [
      "Not using image_cache.\n",
      "Load image: 20.32 seconds.\n",
      "Extract patches: 21.07 seconds\n"
     ]
    },
    {
     "name": "stdout",
     "output_type": "stream",
     "text": [
      "(24445, 1, 224, 224)\n",
      "rm -rf \"/media/yuncong/BstemAtlasData/CSHL_data_processed/MD589/MD589_prep2_lossless_grayJpeg/MD589-N20-2015.07.30-17.19.14_MD589_1_0058_prep2_lossless_grayJpeg.jpg\" && mkdir -p \"/media/yuncong/BstemAtlasData/CSHL_data_processed/MD589/MD589_prep2_lossless_grayJpeg\"\n",
      "aws s3 cp \"s3://mousebrainatlas-data/CSHL_data_processed/MD589/MD589_prep2_lossless_grayJpeg/MD589-N20-2015.07.30-17.19.14_MD589_1_0058_prep2_lossless_grayJpeg.jpg\" \"/media/yuncong/BstemAtlasData/CSHL_data_processed/MD589/MD589_prep2_lossless_grayJpeg/MD589-N20-2015.07.30-17.19.14_MD589_1_0058_prep2_lossless_grayJpeg.jpg\"\n"
     ]
    },
    {
     "name": "stderr",
     "output_type": "stream",
     "text": [
      "Not using image_cache.\n"
     ]
    },
    {
     "name": "stdout",
     "output_type": "stream",
     "text": [
      "(549, 714, 3) (549, 714)\n",
      "aws s3 cp \"/home/yuncong/CSHL_scoremaps/10.0um/MD589/MD589_prep2_10.0um_detector999/MD589-N20-2015.07.30-17.19.14_MD589_1_0058_prep2_10.0um_detector999/MD589-N20-2015.07.30-17.19.14_MD589_1_0058_prep2_10.0um_detector999_Tz_scoremap.bp\" \"s3://mousebrainatlas-data/CSHL_scoremaps/10.0um/MD589/MD589_prep2_10.0um_detector999/MD589-N20-2015.07.30-17.19.14_MD589_1_0058_prep2_10.0um_detector999/MD589-N20-2015.07.30-17.19.14_MD589_1_0058_prep2_10.0um_detector999_Tz_scoremap.bp\"\n",
      "aws s3 cp \"/home/yuncong/CSHL_scoremap_viz/10.0um/Tz/MD589/detector999/prep2/MD589-N20-2015.07.30-17.19.14_MD589_1_0058_prep2_10.0um_Tz_detector999_scoremapViz.jpg\" \"s3://mousebrainatlas-data/CSHL_scoremap_viz/10.0um/Tz/MD589/detector999/prep2/MD589-N20-2015.07.30-17.19.14_MD589_1_0058_prep2_10.0um_Tz_detector999_scoremapViz.jpg\"\n"
     ]
    },
    {
     "name": "stderr",
     "output_type": "stream",
     "text": [
      "locate patches: 0.03 seconds\n"
     ]
    },
    {
     "name": "stdout",
     "output_type": "stream",
     "text": [
      "rm -rf \"/media/yuncong/BstemAtlasData/CSHL_data_processed/MD589/MD589_prep2_lossless/MD589-IHC20-2015.07.30-22.36.03_MD589_1_0058_prep2_lossless.tif\" && mkdir -p \"/media/yuncong/BstemAtlasData/CSHL_data_processed/MD589/MD589_prep2_lossless\"\n",
      "aws s3 cp \"s3://mousebrainatlas-data/CSHL_data_processed/MD589/MD589_prep2_lossless/MD589-IHC20-2015.07.30-22.36.03_MD589_1_0058_prep2_lossless.tif\" \"/media/yuncong/BstemAtlasData/CSHL_data_processed/MD589/MD589_prep2_lossless/MD589-IHC20-2015.07.30-22.36.03_MD589_1_0058_prep2_lossless.tif\"\n"
     ]
    },
    {
     "name": "stderr",
     "output_type": "stream",
     "text": [
      "Not using image_cache.\n",
      "Load image: 20.30 seconds.\n",
      "Extract patches: 21.03 seconds\n"
     ]
    },
    {
     "name": "stdout",
     "output_type": "stream",
     "text": [
      "(24463, 1, 224, 224)\n",
      "rm -rf \"/media/yuncong/BstemAtlasData/CSHL_data_processed/MD589/MD589_prep2_lossless_grayJpeg/MD589-IHC20-2015.07.30-22.36.03_MD589_1_0058_prep2_lossless_grayJpeg.jpg\" && mkdir -p \"/media/yuncong/BstemAtlasData/CSHL_data_processed/MD589/MD589_prep2_lossless_grayJpeg\"\n",
      "aws s3 cp \"s3://mousebrainatlas-data/CSHL_data_processed/MD589/MD589_prep2_lossless_grayJpeg/MD589-IHC20-2015.07.30-22.36.03_MD589_1_0058_prep2_lossless_grayJpeg.jpg\" \"/media/yuncong/BstemAtlasData/CSHL_data_processed/MD589/MD589_prep2_lossless_grayJpeg/MD589-IHC20-2015.07.30-22.36.03_MD589_1_0058_prep2_lossless_grayJpeg.jpg\"\n"
     ]
    },
    {
     "name": "stderr",
     "output_type": "stream",
     "text": [
      "Not using image_cache.\n"
     ]
    },
    {
     "name": "stdout",
     "output_type": "stream",
     "text": [
      "(549, 714, 3) (549, 714)\n",
      "aws s3 cp \"/home/yuncong/CSHL_scoremaps/10.0um/MD589/MD589_prep2_10.0um_detector999/MD589-IHC20-2015.07.30-22.36.03_MD589_1_0058_prep2_10.0um_detector999/MD589-IHC20-2015.07.30-22.36.03_MD589_1_0058_prep2_10.0um_detector999_Tz_scoremap.bp\" \"s3://mousebrainatlas-data/CSHL_scoremaps/10.0um/MD589/MD589_prep2_10.0um_detector999/MD589-IHC20-2015.07.30-22.36.03_MD589_1_0058_prep2_10.0um_detector999/MD589-IHC20-2015.07.30-22.36.03_MD589_1_0058_prep2_10.0um_detector999_Tz_scoremap.bp\"\n",
      "aws s3 cp \"/home/yuncong/CSHL_scoremap_viz/10.0um/Tz/MD589/detector999/prep2/MD589-IHC20-2015.07.30-22.36.03_MD589_1_0058_prep2_10.0um_Tz_detector999_scoremapViz.jpg\" \"s3://mousebrainatlas-data/CSHL_scoremap_viz/10.0um/Tz/MD589/detector999/prep2/MD589-IHC20-2015.07.30-22.36.03_MD589_1_0058_prep2_10.0um_Tz_detector999_scoremapViz.jpg\"\n"
     ]
    },
    {
     "name": "stderr",
     "output_type": "stream",
     "text": [
      "locate patches: 0.04 seconds\n"
     ]
    },
    {
     "name": "stdout",
     "output_type": "stream",
     "text": [
      "rm -rf \"/media/yuncong/BstemAtlasData/CSHL_data_processed/MD589/MD589_prep2_lossless/MD589-N20-2015.07.30-17.19.14_MD589_2_0059_prep2_lossless.tif\" && mkdir -p \"/media/yuncong/BstemAtlasData/CSHL_data_processed/MD589/MD589_prep2_lossless\"\n",
      "aws s3 cp \"s3://mousebrainatlas-data/CSHL_data_processed/MD589/MD589_prep2_lossless/MD589-N20-2015.07.30-17.19.14_MD589_2_0059_prep2_lossless.tif\" \"/media/yuncong/BstemAtlasData/CSHL_data_processed/MD589/MD589_prep2_lossless/MD589-N20-2015.07.30-17.19.14_MD589_2_0059_prep2_lossless.tif\"\n"
     ]
    },
    {
     "name": "stderr",
     "output_type": "stream",
     "text": [
      "Not using image_cache.\n",
      "Load image: 20.15 seconds.\n",
      "Extract patches: 20.90 seconds\n"
     ]
    },
    {
     "name": "stdout",
     "output_type": "stream",
     "text": [
      "(24543, 1, 224, 224)\n",
      "rm -rf \"/media/yuncong/BstemAtlasData/CSHL_data_processed/MD589/MD589_prep2_lossless_grayJpeg/MD589-N20-2015.07.30-17.19.14_MD589_2_0059_prep2_lossless_grayJpeg.jpg\" && mkdir -p \"/media/yuncong/BstemAtlasData/CSHL_data_processed/MD589/MD589_prep2_lossless_grayJpeg\"\n",
      "aws s3 cp \"s3://mousebrainatlas-data/CSHL_data_processed/MD589/MD589_prep2_lossless_grayJpeg/MD589-N20-2015.07.30-17.19.14_MD589_2_0059_prep2_lossless_grayJpeg.jpg\" \"/media/yuncong/BstemAtlasData/CSHL_data_processed/MD589/MD589_prep2_lossless_grayJpeg/MD589-N20-2015.07.30-17.19.14_MD589_2_0059_prep2_lossless_grayJpeg.jpg\"\n"
     ]
    },
    {
     "name": "stderr",
     "output_type": "stream",
     "text": [
      "Not using image_cache.\n"
     ]
    },
    {
     "name": "stdout",
     "output_type": "stream",
     "text": [
      "(549, 714, 3) (549, 714)\n",
      "aws s3 cp \"/home/yuncong/CSHL_scoremaps/10.0um/MD589/MD589_prep2_10.0um_detector999/MD589-N20-2015.07.30-17.19.14_MD589_2_0059_prep2_10.0um_detector999/MD589-N20-2015.07.30-17.19.14_MD589_2_0059_prep2_10.0um_detector999_Tz_scoremap.bp\" \"s3://mousebrainatlas-data/CSHL_scoremaps/10.0um/MD589/MD589_prep2_10.0um_detector999/MD589-N20-2015.07.30-17.19.14_MD589_2_0059_prep2_10.0um_detector999/MD589-N20-2015.07.30-17.19.14_MD589_2_0059_prep2_10.0um_detector999_Tz_scoremap.bp\"\n",
      "aws s3 cp \"/home/yuncong/CSHL_scoremap_viz/10.0um/Tz/MD589/detector999/prep2/MD589-N20-2015.07.30-17.19.14_MD589_2_0059_prep2_10.0um_Tz_detector999_scoremapViz.jpg\" \"s3://mousebrainatlas-data/CSHL_scoremap_viz/10.0um/Tz/MD589/detector999/prep2/MD589-N20-2015.07.30-17.19.14_MD589_2_0059_prep2_10.0um_Tz_detector999_scoremapViz.jpg\"\n"
     ]
    },
    {
     "name": "stderr",
     "output_type": "stream",
     "text": [
      "locate patches: 0.02 seconds\n",
      "Not using image_cache.\n",
      "Load image: 14.82 seconds.\n",
      "Extract patches: 15.57 seconds\n"
     ]
    },
    {
     "name": "stdout",
     "output_type": "stream",
     "text": [
      "(24482, 1, 224, 224)\n"
     ]
    },
    {
     "name": "stderr",
     "output_type": "stream",
     "text": [
      "Not using image_cache.\n"
     ]
    },
    {
     "name": "stdout",
     "output_type": "stream",
     "text": [
      "(549, 714, 3) (549, 714)\n",
      "aws s3 cp \"/home/yuncong/CSHL_scoremaps/10.0um/MD589/MD589_prep2_10.0um_detector999/MD589-IHC20-2015.07.30-22.36.03_MD589_2_0059_prep2_10.0um_detector999/MD589-IHC20-2015.07.30-22.36.03_MD589_2_0059_prep2_10.0um_detector999_Tz_scoremap.bp\" \"s3://mousebrainatlas-data/CSHL_scoremaps/10.0um/MD589/MD589_prep2_10.0um_detector999/MD589-IHC20-2015.07.30-22.36.03_MD589_2_0059_prep2_10.0um_detector999/MD589-IHC20-2015.07.30-22.36.03_MD589_2_0059_prep2_10.0um_detector999_Tz_scoremap.bp\"\n",
      "aws s3 cp \"/home/yuncong/CSHL_scoremap_viz/10.0um/Tz/MD589/detector999/prep2/MD589-IHC20-2015.07.30-22.36.03_MD589_2_0059_prep2_10.0um_Tz_detector999_scoremapViz.jpg\" \"s3://mousebrainatlas-data/CSHL_scoremap_viz/10.0um/Tz/MD589/detector999/prep2/MD589-IHC20-2015.07.30-22.36.03_MD589_2_0059_prep2_10.0um_Tz_detector999_scoremapViz.jpg\"\n"
     ]
    },
    {
     "name": "stderr",
     "output_type": "stream",
     "text": [
      "locate patches: 0.05 seconds\n"
     ]
    },
    {
     "name": "stdout",
     "output_type": "stream",
     "text": [
      "rm -rf \"/media/yuncong/BstemAtlasData/CSHL_data_processed/MD589/MD589_prep2_lossless/MD589-N20-2015.07.30-17.19.14_MD589_3_0060_prep2_lossless.tif\" && mkdir -p \"/media/yuncong/BstemAtlasData/CSHL_data_processed/MD589/MD589_prep2_lossless\"\n",
      "aws s3 cp \"s3://mousebrainatlas-data/CSHL_data_processed/MD589/MD589_prep2_lossless/MD589-N20-2015.07.30-17.19.14_MD589_3_0060_prep2_lossless.tif\" \"/media/yuncong/BstemAtlasData/CSHL_data_processed/MD589/MD589_prep2_lossless/MD589-N20-2015.07.30-17.19.14_MD589_3_0060_prep2_lossless.tif\"\n"
     ]
    },
    {
     "name": "stderr",
     "output_type": "stream",
     "text": [
      "Not using image_cache.\n",
      "Load image: 20.32 seconds.\n",
      "Extract patches: 21.16 seconds\n"
     ]
    },
    {
     "name": "stdout",
     "output_type": "stream",
     "text": [
      "(24633, 1, 224, 224)\n",
      "rm -rf \"/media/yuncong/BstemAtlasData/CSHL_data_processed/MD589/MD589_prep2_lossless_grayJpeg/MD589-N20-2015.07.30-17.19.14_MD589_3_0060_prep2_lossless_grayJpeg.jpg\" && mkdir -p \"/media/yuncong/BstemAtlasData/CSHL_data_processed/MD589/MD589_prep2_lossless_grayJpeg\"\n",
      "aws s3 cp \"s3://mousebrainatlas-data/CSHL_data_processed/MD589/MD589_prep2_lossless_grayJpeg/MD589-N20-2015.07.30-17.19.14_MD589_3_0060_prep2_lossless_grayJpeg.jpg\" \"/media/yuncong/BstemAtlasData/CSHL_data_processed/MD589/MD589_prep2_lossless_grayJpeg/MD589-N20-2015.07.30-17.19.14_MD589_3_0060_prep2_lossless_grayJpeg.jpg\"\n"
     ]
    },
    {
     "name": "stderr",
     "output_type": "stream",
     "text": [
      "Not using image_cache.\n"
     ]
    },
    {
     "name": "stdout",
     "output_type": "stream",
     "text": [
      "(549, 714, 3) (549, 714)\n",
      "aws s3 cp \"/home/yuncong/CSHL_scoremaps/10.0um/MD589/MD589_prep2_10.0um_detector999/MD589-N20-2015.07.30-17.19.14_MD589_3_0060_prep2_10.0um_detector999/MD589-N20-2015.07.30-17.19.14_MD589_3_0060_prep2_10.0um_detector999_Tz_scoremap.bp\" \"s3://mousebrainatlas-data/CSHL_scoremaps/10.0um/MD589/MD589_prep2_10.0um_detector999/MD589-N20-2015.07.30-17.19.14_MD589_3_0060_prep2_10.0um_detector999/MD589-N20-2015.07.30-17.19.14_MD589_3_0060_prep2_10.0um_detector999_Tz_scoremap.bp\"\n",
      "aws s3 cp \"/home/yuncong/CSHL_scoremap_viz/10.0um/Tz/MD589/detector999/prep2/MD589-N20-2015.07.30-17.19.14_MD589_3_0060_prep2_10.0um_Tz_detector999_scoremapViz.jpg\" \"s3://mousebrainatlas-data/CSHL_scoremap_viz/10.0um/Tz/MD589/detector999/prep2/MD589-N20-2015.07.30-17.19.14_MD589_3_0060_prep2_10.0um_Tz_detector999_scoremapViz.jpg\"\n"
     ]
    },
    {
     "name": "stderr",
     "output_type": "stream",
     "text": [
      "locate patches: 0.04 seconds\n"
     ]
    },
    {
     "name": "stdout",
     "output_type": "stream",
     "text": [
      "rm -rf \"/media/yuncong/BstemAtlasData/CSHL_data_processed/MD589/MD589_prep2_lossless/MD589-IHC20-2015.07.30-22.36.03_MD589_3_0060_prep2_lossless.tif\" && mkdir -p \"/media/yuncong/BstemAtlasData/CSHL_data_processed/MD589/MD589_prep2_lossless\"\n",
      "aws s3 cp \"s3://mousebrainatlas-data/CSHL_data_processed/MD589/MD589_prep2_lossless/MD589-IHC20-2015.07.30-22.36.03_MD589_3_0060_prep2_lossless.tif\" \"/media/yuncong/BstemAtlasData/CSHL_data_processed/MD589/MD589_prep2_lossless/MD589-IHC20-2015.07.30-22.36.03_MD589_3_0060_prep2_lossless.tif\"\n"
     ]
    },
    {
     "name": "stderr",
     "output_type": "stream",
     "text": [
      "Not using image_cache.\n",
      "Load image: 19.57 seconds.\n",
      "Extract patches: 20.36 seconds\n"
     ]
    },
    {
     "name": "stdout",
     "output_type": "stream",
     "text": [
      "(24984, 1, 224, 224)\n",
      "rm -rf \"/media/yuncong/BstemAtlasData/CSHL_data_processed/MD589/MD589_prep2_lossless_grayJpeg/MD589-IHC20-2015.07.30-22.36.03_MD589_3_0060_prep2_lossless_grayJpeg.jpg\" && mkdir -p \"/media/yuncong/BstemAtlasData/CSHL_data_processed/MD589/MD589_prep2_lossless_grayJpeg\"\n",
      "aws s3 cp \"s3://mousebrainatlas-data/CSHL_data_processed/MD589/MD589_prep2_lossless_grayJpeg/MD589-IHC20-2015.07.30-22.36.03_MD589_3_0060_prep2_lossless_grayJpeg.jpg\" \"/media/yuncong/BstemAtlasData/CSHL_data_processed/MD589/MD589_prep2_lossless_grayJpeg/MD589-IHC20-2015.07.30-22.36.03_MD589_3_0060_prep2_lossless_grayJpeg.jpg\"\n"
     ]
    },
    {
     "name": "stderr",
     "output_type": "stream",
     "text": [
      "Not using image_cache.\n"
     ]
    },
    {
     "name": "stdout",
     "output_type": "stream",
     "text": [
      "(549, 714, 3) (549, 714)\n",
      "aws s3 cp \"/home/yuncong/CSHL_scoremaps/10.0um/MD589/MD589_prep2_10.0um_detector999/MD589-IHC20-2015.07.30-22.36.03_MD589_3_0060_prep2_10.0um_detector999/MD589-IHC20-2015.07.30-22.36.03_MD589_3_0060_prep2_10.0um_detector999_Tz_scoremap.bp\" \"s3://mousebrainatlas-data/CSHL_scoremaps/10.0um/MD589/MD589_prep2_10.0um_detector999/MD589-IHC20-2015.07.30-22.36.03_MD589_3_0060_prep2_10.0um_detector999/MD589-IHC20-2015.07.30-22.36.03_MD589_3_0060_prep2_10.0um_detector999_Tz_scoremap.bp\"\n",
      "aws s3 cp \"/home/yuncong/CSHL_scoremap_viz/10.0um/Tz/MD589/detector999/prep2/MD589-IHC20-2015.07.30-22.36.03_MD589_3_0060_prep2_10.0um_Tz_detector999_scoremapViz.jpg\" \"s3://mousebrainatlas-data/CSHL_scoremap_viz/10.0um/Tz/MD589/detector999/prep2/MD589-IHC20-2015.07.30-22.36.03_MD589_3_0060_prep2_10.0um_Tz_detector999_scoremapViz.jpg\"\n"
     ]
    },
    {
     "name": "stderr",
     "output_type": "stream",
     "text": [
      "locate patches: 0.08 seconds\n"
     ]
    },
    {
     "name": "stdout",
     "output_type": "stream",
     "text": [
      "rm -rf \"/media/yuncong/BstemAtlasData/CSHL_data_processed/MD589/MD589_prep2_lossless/MD589-IHC21-2015.07.30-22.40.00_MD589_1_0061_prep2_lossless.tif\" && mkdir -p \"/media/yuncong/BstemAtlasData/CSHL_data_processed/MD589/MD589_prep2_lossless\"\n",
      "aws s3 cp \"s3://mousebrainatlas-data/CSHL_data_processed/MD589/MD589_prep2_lossless/MD589-IHC21-2015.07.30-22.40.00_MD589_1_0061_prep2_lossless.tif\" \"/media/yuncong/BstemAtlasData/CSHL_data_processed/MD589/MD589_prep2_lossless/MD589-IHC21-2015.07.30-22.40.00_MD589_1_0061_prep2_lossless.tif\"\n"
     ]
    },
    {
     "name": "stderr",
     "output_type": "stream",
     "text": [
      "Not using image_cache.\n",
      "Load image: 20.51 seconds.\n",
      "Extract patches: 21.29 seconds\n"
     ]
    },
    {
     "name": "stdout",
     "output_type": "stream",
     "text": [
      "(25131, 1, 224, 224)\n",
      "rm -rf \"/media/yuncong/BstemAtlasData/CSHL_data_processed/MD589/MD589_prep2_lossless_grayJpeg/MD589-IHC21-2015.07.30-22.40.00_MD589_1_0061_prep2_lossless_grayJpeg.jpg\" && mkdir -p \"/media/yuncong/BstemAtlasData/CSHL_data_processed/MD589/MD589_prep2_lossless_grayJpeg\"\n",
      "aws s3 cp \"s3://mousebrainatlas-data/CSHL_data_processed/MD589/MD589_prep2_lossless_grayJpeg/MD589-IHC21-2015.07.30-22.40.00_MD589_1_0061_prep2_lossless_grayJpeg.jpg\" \"/media/yuncong/BstemAtlasData/CSHL_data_processed/MD589/MD589_prep2_lossless_grayJpeg/MD589-IHC21-2015.07.30-22.40.00_MD589_1_0061_prep2_lossless_grayJpeg.jpg\"\n"
     ]
    },
    {
     "name": "stderr",
     "output_type": "stream",
     "text": [
      "Not using image_cache.\n"
     ]
    },
    {
     "name": "stdout",
     "output_type": "stream",
     "text": [
      "(549, 714, 3) (549, 714)\n",
      "aws s3 cp \"/home/yuncong/CSHL_scoremaps/10.0um/MD589/MD589_prep2_10.0um_detector999/MD589-IHC21-2015.07.30-22.40.00_MD589_1_0061_prep2_10.0um_detector999/MD589-IHC21-2015.07.30-22.40.00_MD589_1_0061_prep2_10.0um_detector999_Tz_scoremap.bp\" \"s3://mousebrainatlas-data/CSHL_scoremaps/10.0um/MD589/MD589_prep2_10.0um_detector999/MD589-IHC21-2015.07.30-22.40.00_MD589_1_0061_prep2_10.0um_detector999/MD589-IHC21-2015.07.30-22.40.00_MD589_1_0061_prep2_10.0um_detector999_Tz_scoremap.bp\"\n",
      "aws s3 cp \"/home/yuncong/CSHL_scoremap_viz/10.0um/Tz/MD589/detector999/prep2/MD589-IHC21-2015.07.30-22.40.00_MD589_1_0061_prep2_10.0um_Tz_detector999_scoremapViz.jpg\" \"s3://mousebrainatlas-data/CSHL_scoremap_viz/10.0um/Tz/MD589/detector999/prep2/MD589-IHC21-2015.07.30-22.40.00_MD589_1_0061_prep2_10.0um_Tz_detector999_scoremapViz.jpg\"\n"
     ]
    },
    {
     "name": "stderr",
     "output_type": "stream",
     "text": [
      "locate patches: 0.03 seconds\n"
     ]
    },
    {
     "name": "stdout",
     "output_type": "stream",
     "text": [
      "rm -rf \"/media/yuncong/BstemAtlasData/CSHL_data_processed/MD589/MD589_prep2_lossless/MD589-N21-2015.07.30-17.23.23_MD589_2_0062_prep2_lossless.tif\" && mkdir -p \"/media/yuncong/BstemAtlasData/CSHL_data_processed/MD589/MD589_prep2_lossless\"\n",
      "aws s3 cp \"s3://mousebrainatlas-data/CSHL_data_processed/MD589/MD589_prep2_lossless/MD589-N21-2015.07.30-17.23.23_MD589_2_0062_prep2_lossless.tif\" \"/media/yuncong/BstemAtlasData/CSHL_data_processed/MD589/MD589_prep2_lossless/MD589-N21-2015.07.30-17.23.23_MD589_2_0062_prep2_lossless.tif\"\n"
     ]
    },
    {
     "name": "stderr",
     "output_type": "stream",
     "text": [
      "Not using image_cache.\n",
      "Load image: 20.16 seconds.\n",
      "Extract patches: 20.92 seconds\n"
     ]
    },
    {
     "name": "stdout",
     "output_type": "stream",
     "text": [
      "(24881, 1, 224, 224)\n",
      "rm -rf \"/media/yuncong/BstemAtlasData/CSHL_data_processed/MD589/MD589_prep2_lossless_grayJpeg/MD589-N21-2015.07.30-17.23.23_MD589_2_0062_prep2_lossless_grayJpeg.jpg\" && mkdir -p \"/media/yuncong/BstemAtlasData/CSHL_data_processed/MD589/MD589_prep2_lossless_grayJpeg\"\n",
      "aws s3 cp \"s3://mousebrainatlas-data/CSHL_data_processed/MD589/MD589_prep2_lossless_grayJpeg/MD589-N21-2015.07.30-17.23.23_MD589_2_0062_prep2_lossless_grayJpeg.jpg\" \"/media/yuncong/BstemAtlasData/CSHL_data_processed/MD589/MD589_prep2_lossless_grayJpeg/MD589-N21-2015.07.30-17.23.23_MD589_2_0062_prep2_lossless_grayJpeg.jpg\"\n"
     ]
    },
    {
     "name": "stderr",
     "output_type": "stream",
     "text": [
      "Not using image_cache.\n"
     ]
    },
    {
     "name": "stdout",
     "output_type": "stream",
     "text": [
      "(549, 714, 3) (549, 714)\n",
      "aws s3 cp \"/home/yuncong/CSHL_scoremaps/10.0um/MD589/MD589_prep2_10.0um_detector999/MD589-N21-2015.07.30-17.23.23_MD589_2_0062_prep2_10.0um_detector999/MD589-N21-2015.07.30-17.23.23_MD589_2_0062_prep2_10.0um_detector999_Tz_scoremap.bp\" \"s3://mousebrainatlas-data/CSHL_scoremaps/10.0um/MD589/MD589_prep2_10.0um_detector999/MD589-N21-2015.07.30-17.23.23_MD589_2_0062_prep2_10.0um_detector999/MD589-N21-2015.07.30-17.23.23_MD589_2_0062_prep2_10.0um_detector999_Tz_scoremap.bp\"\n",
      "aws s3 cp \"/home/yuncong/CSHL_scoremap_viz/10.0um/Tz/MD589/detector999/prep2/MD589-N21-2015.07.30-17.23.23_MD589_2_0062_prep2_10.0um_Tz_detector999_scoremapViz.jpg\" \"s3://mousebrainatlas-data/CSHL_scoremap_viz/10.0um/Tz/MD589/detector999/prep2/MD589-N21-2015.07.30-17.23.23_MD589_2_0062_prep2_10.0um_Tz_detector999_scoremapViz.jpg\"\n"
     ]
    },
    {
     "name": "stderr",
     "output_type": "stream",
     "text": [
      "locate patches: 0.04 seconds\n"
     ]
    },
    {
     "name": "stdout",
     "output_type": "stream",
     "text": [
      "rm -rf \"/media/yuncong/BstemAtlasData/CSHL_data_processed/MD589/MD589_prep2_lossless/MD589-IHC21-2015.07.30-22.40.00_MD589_2_0062_prep2_lossless.tif\" && mkdir -p \"/media/yuncong/BstemAtlasData/CSHL_data_processed/MD589/MD589_prep2_lossless\"\n",
      "aws s3 cp \"s3://mousebrainatlas-data/CSHL_data_processed/MD589/MD589_prep2_lossless/MD589-IHC21-2015.07.30-22.40.00_MD589_2_0062_prep2_lossless.tif\" \"/media/yuncong/BstemAtlasData/CSHL_data_processed/MD589/MD589_prep2_lossless/MD589-IHC21-2015.07.30-22.40.00_MD589_2_0062_prep2_lossless.tif\"\n"
     ]
    },
    {
     "name": "stderr",
     "output_type": "stream",
     "text": [
      "Not using image_cache.\n",
      "Load image: 20.54 seconds.\n",
      "Extract patches: 21.33 seconds\n"
     ]
    },
    {
     "name": "stdout",
     "output_type": "stream",
     "text": [
      "(25377, 1, 224, 224)\n",
      "rm -rf \"/media/yuncong/BstemAtlasData/CSHL_data_processed/MD589/MD589_prep2_lossless_grayJpeg/MD589-IHC21-2015.07.30-22.40.00_MD589_2_0062_prep2_lossless_grayJpeg.jpg\" && mkdir -p \"/media/yuncong/BstemAtlasData/CSHL_data_processed/MD589/MD589_prep2_lossless_grayJpeg\"\n",
      "aws s3 cp \"s3://mousebrainatlas-data/CSHL_data_processed/MD589/MD589_prep2_lossless_grayJpeg/MD589-IHC21-2015.07.30-22.40.00_MD589_2_0062_prep2_lossless_grayJpeg.jpg\" \"/media/yuncong/BstemAtlasData/CSHL_data_processed/MD589/MD589_prep2_lossless_grayJpeg/MD589-IHC21-2015.07.30-22.40.00_MD589_2_0062_prep2_lossless_grayJpeg.jpg\"\n"
     ]
    },
    {
     "name": "stderr",
     "output_type": "stream",
     "text": [
      "Not using image_cache.\n"
     ]
    },
    {
     "name": "stdout",
     "output_type": "stream",
     "text": [
      "(549, 714, 3) (549, 714)\n",
      "aws s3 cp \"/home/yuncong/CSHL_scoremaps/10.0um/MD589/MD589_prep2_10.0um_detector999/MD589-IHC21-2015.07.30-22.40.00_MD589_2_0062_prep2_10.0um_detector999/MD589-IHC21-2015.07.30-22.40.00_MD589_2_0062_prep2_10.0um_detector999_Tz_scoremap.bp\" \"s3://mousebrainatlas-data/CSHL_scoremaps/10.0um/MD589/MD589_prep2_10.0um_detector999/MD589-IHC21-2015.07.30-22.40.00_MD589_2_0062_prep2_10.0um_detector999/MD589-IHC21-2015.07.30-22.40.00_MD589_2_0062_prep2_10.0um_detector999_Tz_scoremap.bp\"\n",
      "aws s3 cp \"/home/yuncong/CSHL_scoremap_viz/10.0um/Tz/MD589/detector999/prep2/MD589-IHC21-2015.07.30-22.40.00_MD589_2_0062_prep2_10.0um_Tz_detector999_scoremapViz.jpg\" \"s3://mousebrainatlas-data/CSHL_scoremap_viz/10.0um/Tz/MD589/detector999/prep2/MD589-IHC21-2015.07.30-22.40.00_MD589_2_0062_prep2_10.0um_Tz_detector999_scoremapViz.jpg\"\n"
     ]
    },
    {
     "name": "stderr",
     "output_type": "stream",
     "text": [
      "locate patches: 0.04 seconds\n"
     ]
    },
    {
     "name": "stdout",
     "output_type": "stream",
     "text": [
      "rm -rf \"/media/yuncong/BstemAtlasData/CSHL_data_processed/MD589/MD589_prep2_lossless/MD589-N21-2015.07.30-17.23.23_MD589_3_0063_prep2_lossless.tif\" && mkdir -p \"/media/yuncong/BstemAtlasData/CSHL_data_processed/MD589/MD589_prep2_lossless\"\n",
      "aws s3 cp \"s3://mousebrainatlas-data/CSHL_data_processed/MD589/MD589_prep2_lossless/MD589-N21-2015.07.30-17.23.23_MD589_3_0063_prep2_lossless.tif\" \"/media/yuncong/BstemAtlasData/CSHL_data_processed/MD589/MD589_prep2_lossless/MD589-N21-2015.07.30-17.23.23_MD589_3_0063_prep2_lossless.tif\"\n"
     ]
    },
    {
     "name": "stderr",
     "output_type": "stream",
     "text": [
      "Not using image_cache.\n",
      "Load image: 20.21 seconds.\n",
      "Extract patches: 20.99 seconds\n"
     ]
    },
    {
     "name": "stdout",
     "output_type": "stream",
     "text": [
      "(25267, 1, 224, 224)\n",
      "rm -rf \"/media/yuncong/BstemAtlasData/CSHL_data_processed/MD589/MD589_prep2_lossless_grayJpeg/MD589-N21-2015.07.30-17.23.23_MD589_3_0063_prep2_lossless_grayJpeg.jpg\" && mkdir -p \"/media/yuncong/BstemAtlasData/CSHL_data_processed/MD589/MD589_prep2_lossless_grayJpeg\"\n",
      "aws s3 cp \"s3://mousebrainatlas-data/CSHL_data_processed/MD589/MD589_prep2_lossless_grayJpeg/MD589-N21-2015.07.30-17.23.23_MD589_3_0063_prep2_lossless_grayJpeg.jpg\" \"/media/yuncong/BstemAtlasData/CSHL_data_processed/MD589/MD589_prep2_lossless_grayJpeg/MD589-N21-2015.07.30-17.23.23_MD589_3_0063_prep2_lossless_grayJpeg.jpg\"\n"
     ]
    },
    {
     "name": "stderr",
     "output_type": "stream",
     "text": [
      "Not using image_cache.\n"
     ]
    },
    {
     "name": "stdout",
     "output_type": "stream",
     "text": [
      "(549, 714, 3) (549, 714)\n",
      "aws s3 cp \"/home/yuncong/CSHL_scoremaps/10.0um/MD589/MD589_prep2_10.0um_detector999/MD589-N21-2015.07.30-17.23.23_MD589_3_0063_prep2_10.0um_detector999/MD589-N21-2015.07.30-17.23.23_MD589_3_0063_prep2_10.0um_detector999_Tz_scoremap.bp\" \"s3://mousebrainatlas-data/CSHL_scoremaps/10.0um/MD589/MD589_prep2_10.0um_detector999/MD589-N21-2015.07.30-17.23.23_MD589_3_0063_prep2_10.0um_detector999/MD589-N21-2015.07.30-17.23.23_MD589_3_0063_prep2_10.0um_detector999_Tz_scoremap.bp\"\n",
      "aws s3 cp \"/home/yuncong/CSHL_scoremap_viz/10.0um/Tz/MD589/detector999/prep2/MD589-N21-2015.07.30-17.23.23_MD589_3_0063_prep2_10.0um_Tz_detector999_scoremapViz.jpg\" \"s3://mousebrainatlas-data/CSHL_scoremap_viz/10.0um/Tz/MD589/detector999/prep2/MD589-N21-2015.07.30-17.23.23_MD589_3_0063_prep2_10.0um_Tz_detector999_scoremapViz.jpg\"\n"
     ]
    },
    {
     "name": "stderr",
     "output_type": "stream",
     "text": [
      "locate patches: 0.05 seconds\n"
     ]
    },
    {
     "name": "stdout",
     "output_type": "stream",
     "text": [
      "rm -rf \"/media/yuncong/BstemAtlasData/CSHL_data_processed/MD589/MD589_prep2_lossless/MD589-IHC21-2015.07.30-22.40.00_MD589_3_0063_prep2_lossless.tif\" && mkdir -p \"/media/yuncong/BstemAtlasData/CSHL_data_processed/MD589/MD589_prep2_lossless\"\n",
      "aws s3 cp \"s3://mousebrainatlas-data/CSHL_data_processed/MD589/MD589_prep2_lossless/MD589-IHC21-2015.07.30-22.40.00_MD589_3_0063_prep2_lossless.tif\" \"/media/yuncong/BstemAtlasData/CSHL_data_processed/MD589/MD589_prep2_lossless/MD589-IHC21-2015.07.30-22.40.00_MD589_3_0063_prep2_lossless.tif\"\n"
     ]
    },
    {
     "name": "stderr",
     "output_type": "stream",
     "text": [
      "Not using image_cache.\n",
      "Load image: 20.25 seconds.\n",
      "Extract patches: 21.03 seconds\n"
     ]
    },
    {
     "name": "stdout",
     "output_type": "stream",
     "text": [
      "(25432, 1, 224, 224)\n",
      "rm -rf \"/media/yuncong/BstemAtlasData/CSHL_data_processed/MD589/MD589_prep2_lossless_grayJpeg/MD589-IHC21-2015.07.30-22.40.00_MD589_3_0063_prep2_lossless_grayJpeg.jpg\" && mkdir -p \"/media/yuncong/BstemAtlasData/CSHL_data_processed/MD589/MD589_prep2_lossless_grayJpeg\"\n",
      "aws s3 cp \"s3://mousebrainatlas-data/CSHL_data_processed/MD589/MD589_prep2_lossless_grayJpeg/MD589-IHC21-2015.07.30-22.40.00_MD589_3_0063_prep2_lossless_grayJpeg.jpg\" \"/media/yuncong/BstemAtlasData/CSHL_data_processed/MD589/MD589_prep2_lossless_grayJpeg/MD589-IHC21-2015.07.30-22.40.00_MD589_3_0063_prep2_lossless_grayJpeg.jpg\"\n"
     ]
    },
    {
     "name": "stderr",
     "output_type": "stream",
     "text": [
      "Not using image_cache.\n"
     ]
    },
    {
     "name": "stdout",
     "output_type": "stream",
     "text": [
      "(549, 714, 3) (549, 714)\n",
      "aws s3 cp \"/home/yuncong/CSHL_scoremaps/10.0um/MD589/MD589_prep2_10.0um_detector999/MD589-IHC21-2015.07.30-22.40.00_MD589_3_0063_prep2_10.0um_detector999/MD589-IHC21-2015.07.30-22.40.00_MD589_3_0063_prep2_10.0um_detector999_Tz_scoremap.bp\" \"s3://mousebrainatlas-data/CSHL_scoremaps/10.0um/MD589/MD589_prep2_10.0um_detector999/MD589-IHC21-2015.07.30-22.40.00_MD589_3_0063_prep2_10.0um_detector999/MD589-IHC21-2015.07.30-22.40.00_MD589_3_0063_prep2_10.0um_detector999_Tz_scoremap.bp\"\n",
      "aws s3 cp \"/home/yuncong/CSHL_scoremap_viz/10.0um/Tz/MD589/detector999/prep2/MD589-IHC21-2015.07.30-22.40.00_MD589_3_0063_prep2_10.0um_Tz_detector999_scoremapViz.jpg\" \"s3://mousebrainatlas-data/CSHL_scoremap_viz/10.0um/Tz/MD589/detector999/prep2/MD589-IHC21-2015.07.30-22.40.00_MD589_3_0063_prep2_10.0um_Tz_detector999_scoremapViz.jpg\"\n"
     ]
    },
    {
     "name": "stderr",
     "output_type": "stream",
     "text": [
      "locate patches: 0.04 seconds\n"
     ]
    },
    {
     "name": "stdout",
     "output_type": "stream",
     "text": [
      "rm -rf \"/media/yuncong/BstemAtlasData/CSHL_data_processed/MD589/MD589_prep2_lossless/MD589-N22-2015.07.30-17.27.26_MD589_1_0064_prep2_lossless.tif\" && mkdir -p \"/media/yuncong/BstemAtlasData/CSHL_data_processed/MD589/MD589_prep2_lossless\"\n",
      "aws s3 cp \"s3://mousebrainatlas-data/CSHL_data_processed/MD589/MD589_prep2_lossless/MD589-N22-2015.07.30-17.27.26_MD589_1_0064_prep2_lossless.tif\" \"/media/yuncong/BstemAtlasData/CSHL_data_processed/MD589/MD589_prep2_lossless/MD589-N22-2015.07.30-17.27.26_MD589_1_0064_prep2_lossless.tif\"\n"
     ]
    },
    {
     "name": "stderr",
     "output_type": "stream",
     "text": [
      "Not using image_cache.\n",
      "Load image: 20.37 seconds.\n",
      "Extract patches: 21.16 seconds\n"
     ]
    },
    {
     "name": "stdout",
     "output_type": "stream",
     "text": [
      "(25358, 1, 224, 224)\n",
      "rm -rf \"/media/yuncong/BstemAtlasData/CSHL_data_processed/MD589/MD589_prep2_lossless_grayJpeg/MD589-N22-2015.07.30-17.27.26_MD589_1_0064_prep2_lossless_grayJpeg.jpg\" && mkdir -p \"/media/yuncong/BstemAtlasData/CSHL_data_processed/MD589/MD589_prep2_lossless_grayJpeg\"\n",
      "aws s3 cp \"s3://mousebrainatlas-data/CSHL_data_processed/MD589/MD589_prep2_lossless_grayJpeg/MD589-N22-2015.07.30-17.27.26_MD589_1_0064_prep2_lossless_grayJpeg.jpg\" \"/media/yuncong/BstemAtlasData/CSHL_data_processed/MD589/MD589_prep2_lossless_grayJpeg/MD589-N22-2015.07.30-17.27.26_MD589_1_0064_prep2_lossless_grayJpeg.jpg\"\n"
     ]
    },
    {
     "name": "stderr",
     "output_type": "stream",
     "text": [
      "Not using image_cache.\n"
     ]
    },
    {
     "name": "stdout",
     "output_type": "stream",
     "text": [
      "(549, 714, 3) (549, 714)\n",
      "aws s3 cp \"/home/yuncong/CSHL_scoremaps/10.0um/MD589/MD589_prep2_10.0um_detector999/MD589-N22-2015.07.30-17.27.26_MD589_1_0064_prep2_10.0um_detector999/MD589-N22-2015.07.30-17.27.26_MD589_1_0064_prep2_10.0um_detector999_Tz_scoremap.bp\" \"s3://mousebrainatlas-data/CSHL_scoremaps/10.0um/MD589/MD589_prep2_10.0um_detector999/MD589-N22-2015.07.30-17.27.26_MD589_1_0064_prep2_10.0um_detector999/MD589-N22-2015.07.30-17.27.26_MD589_1_0064_prep2_10.0um_detector999_Tz_scoremap.bp\"\n",
      "aws s3 cp \"/home/yuncong/CSHL_scoremap_viz/10.0um/Tz/MD589/detector999/prep2/MD589-N22-2015.07.30-17.27.26_MD589_1_0064_prep2_10.0um_Tz_detector999_scoremapViz.jpg\" \"s3://mousebrainatlas-data/CSHL_scoremap_viz/10.0um/Tz/MD589/detector999/prep2/MD589-N22-2015.07.30-17.27.26_MD589_1_0064_prep2_10.0um_Tz_detector999_scoremapViz.jpg\"\n"
     ]
    },
    {
     "name": "stderr",
     "output_type": "stream",
     "text": [
      "locate patches: 0.03 seconds\n"
     ]
    },
    {
     "name": "stdout",
     "output_type": "stream",
     "text": [
      "rm -rf \"/media/yuncong/BstemAtlasData/CSHL_data_processed/MD589/MD589_prep2_lossless/MD589-IHC22-2015.07.30-22.44.25_MD589_1_0064_prep2_lossless.tif\" && mkdir -p \"/media/yuncong/BstemAtlasData/CSHL_data_processed/MD589/MD589_prep2_lossless\"\n",
      "aws s3 cp \"s3://mousebrainatlas-data/CSHL_data_processed/MD589/MD589_prep2_lossless/MD589-IHC22-2015.07.30-22.44.25_MD589_1_0064_prep2_lossless.tif\" \"/media/yuncong/BstemAtlasData/CSHL_data_processed/MD589/MD589_prep2_lossless/MD589-IHC22-2015.07.30-22.44.25_MD589_1_0064_prep2_lossless.tif\"\n"
     ]
    },
    {
     "name": "stderr",
     "output_type": "stream",
     "text": [
      "Not using image_cache.\n",
      "Load image: 20.26 seconds.\n",
      "Extract patches: 21.03 seconds\n"
     ]
    },
    {
     "name": "stdout",
     "output_type": "stream",
     "text": [
      "(25596, 1, 224, 224)\n",
      "rm -rf \"/media/yuncong/BstemAtlasData/CSHL_data_processed/MD589/MD589_prep2_lossless_grayJpeg/MD589-IHC22-2015.07.30-22.44.25_MD589_1_0064_prep2_lossless_grayJpeg.jpg\" && mkdir -p \"/media/yuncong/BstemAtlasData/CSHL_data_processed/MD589/MD589_prep2_lossless_grayJpeg\"\n",
      "aws s3 cp \"s3://mousebrainatlas-data/CSHL_data_processed/MD589/MD589_prep2_lossless_grayJpeg/MD589-IHC22-2015.07.30-22.44.25_MD589_1_0064_prep2_lossless_grayJpeg.jpg\" \"/media/yuncong/BstemAtlasData/CSHL_data_processed/MD589/MD589_prep2_lossless_grayJpeg/MD589-IHC22-2015.07.30-22.44.25_MD589_1_0064_prep2_lossless_grayJpeg.jpg\"\n"
     ]
    },
    {
     "name": "stderr",
     "output_type": "stream",
     "text": [
      "Not using image_cache.\n"
     ]
    },
    {
     "name": "stdout",
     "output_type": "stream",
     "text": [
      "(549, 714, 3) (549, 714)\n",
      "aws s3 cp \"/home/yuncong/CSHL_scoremaps/10.0um/MD589/MD589_prep2_10.0um_detector999/MD589-IHC22-2015.07.30-22.44.25_MD589_1_0064_prep2_10.0um_detector999/MD589-IHC22-2015.07.30-22.44.25_MD589_1_0064_prep2_10.0um_detector999_Tz_scoremap.bp\" \"s3://mousebrainatlas-data/CSHL_scoremaps/10.0um/MD589/MD589_prep2_10.0um_detector999/MD589-IHC22-2015.07.30-22.44.25_MD589_1_0064_prep2_10.0um_detector999/MD589-IHC22-2015.07.30-22.44.25_MD589_1_0064_prep2_10.0um_detector999_Tz_scoremap.bp\"\n",
      "aws s3 cp \"/home/yuncong/CSHL_scoremap_viz/10.0um/Tz/MD589/detector999/prep2/MD589-IHC22-2015.07.30-22.44.25_MD589_1_0064_prep2_10.0um_Tz_detector999_scoremapViz.jpg\" \"s3://mousebrainatlas-data/CSHL_scoremap_viz/10.0um/Tz/MD589/detector999/prep2/MD589-IHC22-2015.07.30-22.44.25_MD589_1_0064_prep2_10.0um_Tz_detector999_scoremapViz.jpg\"\n"
     ]
    },
    {
     "name": "stderr",
     "output_type": "stream",
     "text": [
      "locate patches: 0.04 seconds\n"
     ]
    },
    {
     "name": "stdout",
     "output_type": "stream",
     "text": [
      "rm -rf \"/media/yuncong/BstemAtlasData/CSHL_data_processed/MD589/MD589_prep2_lossless/MD589-N22-2015.07.30-17.27.26_MD589_2_0065_prep2_lossless.tif\" && mkdir -p \"/media/yuncong/BstemAtlasData/CSHL_data_processed/MD589/MD589_prep2_lossless\"\n",
      "aws s3 cp \"s3://mousebrainatlas-data/CSHL_data_processed/MD589/MD589_prep2_lossless/MD589-N22-2015.07.30-17.27.26_MD589_2_0065_prep2_lossless.tif\" \"/media/yuncong/BstemAtlasData/CSHL_data_processed/MD589/MD589_prep2_lossless/MD589-N22-2015.07.30-17.27.26_MD589_2_0065_prep2_lossless.tif\"\n"
     ]
    },
    {
     "name": "stderr",
     "output_type": "stream",
     "text": [
      "Not using image_cache.\n",
      "Load image: 20.87 seconds.\n",
      "Extract patches: 21.66 seconds\n"
     ]
    },
    {
     "name": "stdout",
     "output_type": "stream",
     "text": [
      "(25597, 1, 224, 224)\n",
      "rm -rf \"/media/yuncong/BstemAtlasData/CSHL_data_processed/MD589/MD589_prep2_lossless_grayJpeg/MD589-N22-2015.07.30-17.27.26_MD589_2_0065_prep2_lossless_grayJpeg.jpg\" && mkdir -p \"/media/yuncong/BstemAtlasData/CSHL_data_processed/MD589/MD589_prep2_lossless_grayJpeg\"\n",
      "aws s3 cp \"s3://mousebrainatlas-data/CSHL_data_processed/MD589/MD589_prep2_lossless_grayJpeg/MD589-N22-2015.07.30-17.27.26_MD589_2_0065_prep2_lossless_grayJpeg.jpg\" \"/media/yuncong/BstemAtlasData/CSHL_data_processed/MD589/MD589_prep2_lossless_grayJpeg/MD589-N22-2015.07.30-17.27.26_MD589_2_0065_prep2_lossless_grayJpeg.jpg\"\n"
     ]
    },
    {
     "name": "stderr",
     "output_type": "stream",
     "text": [
      "Not using image_cache.\n"
     ]
    },
    {
     "name": "stdout",
     "output_type": "stream",
     "text": [
      "(549, 714, 3) (549, 714)\n",
      "aws s3 cp \"/home/yuncong/CSHL_scoremaps/10.0um/MD589/MD589_prep2_10.0um_detector999/MD589-N22-2015.07.30-17.27.26_MD589_2_0065_prep2_10.0um_detector999/MD589-N22-2015.07.30-17.27.26_MD589_2_0065_prep2_10.0um_detector999_Tz_scoremap.bp\" \"s3://mousebrainatlas-data/CSHL_scoremaps/10.0um/MD589/MD589_prep2_10.0um_detector999/MD589-N22-2015.07.30-17.27.26_MD589_2_0065_prep2_10.0um_detector999/MD589-N22-2015.07.30-17.27.26_MD589_2_0065_prep2_10.0um_detector999_Tz_scoremap.bp\"\n",
      "aws s3 cp \"/home/yuncong/CSHL_scoremap_viz/10.0um/Tz/MD589/detector999/prep2/MD589-N22-2015.07.30-17.27.26_MD589_2_0065_prep2_10.0um_Tz_detector999_scoremapViz.jpg\" \"s3://mousebrainatlas-data/CSHL_scoremap_viz/10.0um/Tz/MD589/detector999/prep2/MD589-N22-2015.07.30-17.27.26_MD589_2_0065_prep2_10.0um_Tz_detector999_scoremapViz.jpg\"\n"
     ]
    },
    {
     "name": "stderr",
     "output_type": "stream",
     "text": [
      "locate patches: 0.03 seconds\n"
     ]
    },
    {
     "name": "stdout",
     "output_type": "stream",
     "text": [
      "rm -rf \"/media/yuncong/BstemAtlasData/CSHL_data_processed/MD589/MD589_prep2_lossless/MD589-IHC22-2015.07.30-22.44.25_MD589_2_0065_prep2_lossless.tif\" && mkdir -p \"/media/yuncong/BstemAtlasData/CSHL_data_processed/MD589/MD589_prep2_lossless\"\n",
      "aws s3 cp \"s3://mousebrainatlas-data/CSHL_data_processed/MD589/MD589_prep2_lossless/MD589-IHC22-2015.07.30-22.44.25_MD589_2_0065_prep2_lossless.tif\" \"/media/yuncong/BstemAtlasData/CSHL_data_processed/MD589/MD589_prep2_lossless/MD589-IHC22-2015.07.30-22.44.25_MD589_2_0065_prep2_lossless.tif\"\n"
     ]
    },
    {
     "name": "stderr",
     "output_type": "stream",
     "text": [
      "Not using image_cache.\n",
      "Load image: 19.92 seconds.\n",
      "Extract patches: 20.69 seconds\n"
     ]
    },
    {
     "name": "stdout",
     "output_type": "stream",
     "text": [
      "(25811, 1, 224, 224)\n",
      "rm -rf \"/media/yuncong/BstemAtlasData/CSHL_data_processed/MD589/MD589_prep2_lossless_grayJpeg/MD589-IHC22-2015.07.30-22.44.25_MD589_2_0065_prep2_lossless_grayJpeg.jpg\" && mkdir -p \"/media/yuncong/BstemAtlasData/CSHL_data_processed/MD589/MD589_prep2_lossless_grayJpeg\"\n",
      "aws s3 cp \"s3://mousebrainatlas-data/CSHL_data_processed/MD589/MD589_prep2_lossless_grayJpeg/MD589-IHC22-2015.07.30-22.44.25_MD589_2_0065_prep2_lossless_grayJpeg.jpg\" \"/media/yuncong/BstemAtlasData/CSHL_data_processed/MD589/MD589_prep2_lossless_grayJpeg/MD589-IHC22-2015.07.30-22.44.25_MD589_2_0065_prep2_lossless_grayJpeg.jpg\"\n"
     ]
    },
    {
     "name": "stderr",
     "output_type": "stream",
     "text": [
      "Not using image_cache.\n"
     ]
    },
    {
     "name": "stdout",
     "output_type": "stream",
     "text": [
      "(549, 714, 3) (549, 714)\n",
      "aws s3 cp \"/home/yuncong/CSHL_scoremaps/10.0um/MD589/MD589_prep2_10.0um_detector999/MD589-IHC22-2015.07.30-22.44.25_MD589_2_0065_prep2_10.0um_detector999/MD589-IHC22-2015.07.30-22.44.25_MD589_2_0065_prep2_10.0um_detector999_Tz_scoremap.bp\" \"s3://mousebrainatlas-data/CSHL_scoremaps/10.0um/MD589/MD589_prep2_10.0um_detector999/MD589-IHC22-2015.07.30-22.44.25_MD589_2_0065_prep2_10.0um_detector999/MD589-IHC22-2015.07.30-22.44.25_MD589_2_0065_prep2_10.0um_detector999_Tz_scoremap.bp\"\n",
      "aws s3 cp \"/home/yuncong/CSHL_scoremap_viz/10.0um/Tz/MD589/detector999/prep2/MD589-IHC22-2015.07.30-22.44.25_MD589_2_0065_prep2_10.0um_Tz_detector999_scoremapViz.jpg\" \"s3://mousebrainatlas-data/CSHL_scoremap_viz/10.0um/Tz/MD589/detector999/prep2/MD589-IHC22-2015.07.30-22.44.25_MD589_2_0065_prep2_10.0um_Tz_detector999_scoremapViz.jpg\"\n"
     ]
    },
    {
     "name": "stderr",
     "output_type": "stream",
     "text": [
      "locate patches: 0.03 seconds\n"
     ]
    },
    {
     "name": "stdout",
     "output_type": "stream",
     "text": [
      "rm -rf \"/media/yuncong/BstemAtlasData/CSHL_data_processed/MD589/MD589_prep2_lossless/MD589-N22-2015.07.30-17.27.26_MD589_3_0066_prep2_lossless.tif\" && mkdir -p \"/media/yuncong/BstemAtlasData/CSHL_data_processed/MD589/MD589_prep2_lossless\"\n",
      "aws s3 cp \"s3://mousebrainatlas-data/CSHL_data_processed/MD589/MD589_prep2_lossless/MD589-N22-2015.07.30-17.27.26_MD589_3_0066_prep2_lossless.tif\" \"/media/yuncong/BstemAtlasData/CSHL_data_processed/MD589/MD589_prep2_lossless/MD589-N22-2015.07.30-17.27.26_MD589_3_0066_prep2_lossless.tif\"\n"
     ]
    },
    {
     "name": "stderr",
     "output_type": "stream",
     "text": [
      "Not using image_cache.\n",
      "Load image: 20.13 seconds.\n",
      "Extract patches: 20.91 seconds\n"
     ]
    },
    {
     "name": "stdout",
     "output_type": "stream",
     "text": [
      "(25797, 1, 224, 224)\n",
      "rm -rf \"/media/yuncong/BstemAtlasData/CSHL_data_processed/MD589/MD589_prep2_lossless_grayJpeg/MD589-N22-2015.07.30-17.27.26_MD589_3_0066_prep2_lossless_grayJpeg.jpg\" && mkdir -p \"/media/yuncong/BstemAtlasData/CSHL_data_processed/MD589/MD589_prep2_lossless_grayJpeg\"\n",
      "aws s3 cp \"s3://mousebrainatlas-data/CSHL_data_processed/MD589/MD589_prep2_lossless_grayJpeg/MD589-N22-2015.07.30-17.27.26_MD589_3_0066_prep2_lossless_grayJpeg.jpg\" \"/media/yuncong/BstemAtlasData/CSHL_data_processed/MD589/MD589_prep2_lossless_grayJpeg/MD589-N22-2015.07.30-17.27.26_MD589_3_0066_prep2_lossless_grayJpeg.jpg\"\n"
     ]
    },
    {
     "name": "stderr",
     "output_type": "stream",
     "text": [
      "Not using image_cache.\n"
     ]
    },
    {
     "name": "stdout",
     "output_type": "stream",
     "text": [
      "(549, 714, 3) (549, 714)\n",
      "aws s3 cp \"/home/yuncong/CSHL_scoremaps/10.0um/MD589/MD589_prep2_10.0um_detector999/MD589-N22-2015.07.30-17.27.26_MD589_3_0066_prep2_10.0um_detector999/MD589-N22-2015.07.30-17.27.26_MD589_3_0066_prep2_10.0um_detector999_Tz_scoremap.bp\" \"s3://mousebrainatlas-data/CSHL_scoremaps/10.0um/MD589/MD589_prep2_10.0um_detector999/MD589-N22-2015.07.30-17.27.26_MD589_3_0066_prep2_10.0um_detector999/MD589-N22-2015.07.30-17.27.26_MD589_3_0066_prep2_10.0um_detector999_Tz_scoremap.bp\"\n",
      "aws s3 cp \"/home/yuncong/CSHL_scoremap_viz/10.0um/Tz/MD589/detector999/prep2/MD589-N22-2015.07.30-17.27.26_MD589_3_0066_prep2_10.0um_Tz_detector999_scoremapViz.jpg\" \"s3://mousebrainatlas-data/CSHL_scoremap_viz/10.0um/Tz/MD589/detector999/prep2/MD589-N22-2015.07.30-17.27.26_MD589_3_0066_prep2_10.0um_Tz_detector999_scoremapViz.jpg\"\n"
     ]
    },
    {
     "name": "stderr",
     "output_type": "stream",
     "text": [
      "locate patches: 0.04 seconds\n"
     ]
    },
    {
     "name": "stdout",
     "output_type": "stream",
     "text": [
      "rm -rf \"/media/yuncong/BstemAtlasData/CSHL_data_processed/MD589/MD589_prep2_lossless/MD589-IHC22-2015.07.30-22.44.25_MD589_3_0066_prep2_lossless.tif\" && mkdir -p \"/media/yuncong/BstemAtlasData/CSHL_data_processed/MD589/MD589_prep2_lossless\"\n",
      "aws s3 cp \"s3://mousebrainatlas-data/CSHL_data_processed/MD589/MD589_prep2_lossless/MD589-IHC22-2015.07.30-22.44.25_MD589_3_0066_prep2_lossless.tif\" \"/media/yuncong/BstemAtlasData/CSHL_data_processed/MD589/MD589_prep2_lossless/MD589-IHC22-2015.07.30-22.44.25_MD589_3_0066_prep2_lossless.tif\"\n"
     ]
    },
    {
     "name": "stderr",
     "output_type": "stream",
     "text": [
      "Not using image_cache.\n",
      "Load image: 21.26 seconds.\n",
      "Extract patches: 22.05 seconds\n"
     ]
    },
    {
     "name": "stdout",
     "output_type": "stream",
     "text": [
      "(25932, 1, 224, 224)\n",
      "rm -rf \"/media/yuncong/BstemAtlasData/CSHL_data_processed/MD589/MD589_prep2_lossless_grayJpeg/MD589-IHC22-2015.07.30-22.44.25_MD589_3_0066_prep2_lossless_grayJpeg.jpg\" && mkdir -p \"/media/yuncong/BstemAtlasData/CSHL_data_processed/MD589/MD589_prep2_lossless_grayJpeg\"\n",
      "aws s3 cp \"s3://mousebrainatlas-data/CSHL_data_processed/MD589/MD589_prep2_lossless_grayJpeg/MD589-IHC22-2015.07.30-22.44.25_MD589_3_0066_prep2_lossless_grayJpeg.jpg\" \"/media/yuncong/BstemAtlasData/CSHL_data_processed/MD589/MD589_prep2_lossless_grayJpeg/MD589-IHC22-2015.07.30-22.44.25_MD589_3_0066_prep2_lossless_grayJpeg.jpg\"\n"
     ]
    },
    {
     "name": "stderr",
     "output_type": "stream",
     "text": [
      "Not using image_cache.\n"
     ]
    },
    {
     "name": "stdout",
     "output_type": "stream",
     "text": [
      "(549, 714, 3) (549, 714)\n",
      "aws s3 cp \"/home/yuncong/CSHL_scoremaps/10.0um/MD589/MD589_prep2_10.0um_detector999/MD589-IHC22-2015.07.30-22.44.25_MD589_3_0066_prep2_10.0um_detector999/MD589-IHC22-2015.07.30-22.44.25_MD589_3_0066_prep2_10.0um_detector999_Tz_scoremap.bp\" \"s3://mousebrainatlas-data/CSHL_scoremaps/10.0um/MD589/MD589_prep2_10.0um_detector999/MD589-IHC22-2015.07.30-22.44.25_MD589_3_0066_prep2_10.0um_detector999/MD589-IHC22-2015.07.30-22.44.25_MD589_3_0066_prep2_10.0um_detector999_Tz_scoremap.bp\"\n",
      "aws s3 cp \"/home/yuncong/CSHL_scoremap_viz/10.0um/Tz/MD589/detector999/prep2/MD589-IHC22-2015.07.30-22.44.25_MD589_3_0066_prep2_10.0um_Tz_detector999_scoremapViz.jpg\" \"s3://mousebrainatlas-data/CSHL_scoremap_viz/10.0um/Tz/MD589/detector999/prep2/MD589-IHC22-2015.07.30-22.44.25_MD589_3_0066_prep2_10.0um_Tz_detector999_scoremapViz.jpg\"\n"
     ]
    },
    {
     "name": "stderr",
     "output_type": "stream",
     "text": [
      "locate patches: 0.04 seconds\n",
      "Not using image_cache.\n",
      "Load image: 15.33 seconds.\n",
      "Extract patches: 16.11 seconds\n"
     ]
    },
    {
     "name": "stdout",
     "output_type": "stream",
     "text": [
      "(26091, 1, 224, 224)\n",
      "rm -rf \"/media/yuncong/BstemAtlasData/CSHL_data_processed/MD589/MD589_prep2_lossless_grayJpeg/MD589-N23-2015.07.30-17.31.29_MD589_1_0067_prep2_lossless_grayJpeg.jpg\" && mkdir -p \"/media/yuncong/BstemAtlasData/CSHL_data_processed/MD589/MD589_prep2_lossless_grayJpeg\"\n",
      "aws s3 cp \"s3://mousebrainatlas-data/CSHL_data_processed/MD589/MD589_prep2_lossless_grayJpeg/MD589-N23-2015.07.30-17.31.29_MD589_1_0067_prep2_lossless_grayJpeg.jpg\" \"/media/yuncong/BstemAtlasData/CSHL_data_processed/MD589/MD589_prep2_lossless_grayJpeg/MD589-N23-2015.07.30-17.31.29_MD589_1_0067_prep2_lossless_grayJpeg.jpg\"\n"
     ]
    },
    {
     "name": "stderr",
     "output_type": "stream",
     "text": [
      "Not using image_cache.\n"
     ]
    },
    {
     "name": "stdout",
     "output_type": "stream",
     "text": [
      "(549, 714, 3) (549, 714)\n",
      "aws s3 cp \"/home/yuncong/CSHL_scoremaps/10.0um/MD589/MD589_prep2_10.0um_detector999/MD589-N23-2015.07.30-17.31.29_MD589_1_0067_prep2_10.0um_detector999/MD589-N23-2015.07.30-17.31.29_MD589_1_0067_prep2_10.0um_detector999_Tz_scoremap.bp\" \"s3://mousebrainatlas-data/CSHL_scoremaps/10.0um/MD589/MD589_prep2_10.0um_detector999/MD589-N23-2015.07.30-17.31.29_MD589_1_0067_prep2_10.0um_detector999/MD589-N23-2015.07.30-17.31.29_MD589_1_0067_prep2_10.0um_detector999_Tz_scoremap.bp\"\n",
      "aws s3 cp \"/home/yuncong/CSHL_scoremap_viz/10.0um/Tz/MD589/detector999/prep2/MD589-N23-2015.07.30-17.31.29_MD589_1_0067_prep2_10.0um_Tz_detector999_scoremapViz.jpg\" \"s3://mousebrainatlas-data/CSHL_scoremap_viz/10.0um/Tz/MD589/detector999/prep2/MD589-N23-2015.07.30-17.31.29_MD589_1_0067_prep2_10.0um_Tz_detector999_scoremapViz.jpg\"\n"
     ]
    },
    {
     "name": "stderr",
     "output_type": "stream",
     "text": [
      "locate patches: 0.04 seconds\n",
      "Not using image_cache.\n",
      "Load image: 15.82 seconds.\n",
      "Extract patches: 16.61 seconds\n"
     ]
    },
    {
     "name": "stdout",
     "output_type": "stream",
     "text": [
      "(26288, 1, 224, 224)\n",
      "rm -rf \"/media/yuncong/BstemAtlasData/CSHL_data_processed/MD589/MD589_prep2_lossless_grayJpeg/MD589-IHC23-2015.07.30-22.48.41_MD589_1_0067_prep2_lossless_grayJpeg.jpg\" && mkdir -p \"/media/yuncong/BstemAtlasData/CSHL_data_processed/MD589/MD589_prep2_lossless_grayJpeg\"\n",
      "aws s3 cp \"s3://mousebrainatlas-data/CSHL_data_processed/MD589/MD589_prep2_lossless_grayJpeg/MD589-IHC23-2015.07.30-22.48.41_MD589_1_0067_prep2_lossless_grayJpeg.jpg\" \"/media/yuncong/BstemAtlasData/CSHL_data_processed/MD589/MD589_prep2_lossless_grayJpeg/MD589-IHC23-2015.07.30-22.48.41_MD589_1_0067_prep2_lossless_grayJpeg.jpg\"\n"
     ]
    },
    {
     "name": "stderr",
     "output_type": "stream",
     "text": [
      "Not using image_cache.\n"
     ]
    },
    {
     "name": "stdout",
     "output_type": "stream",
     "text": [
      "(549, 714, 3) (549, 714)\n",
      "aws s3 cp \"/home/yuncong/CSHL_scoremaps/10.0um/MD589/MD589_prep2_10.0um_detector999/MD589-IHC23-2015.07.30-22.48.41_MD589_1_0067_prep2_10.0um_detector999/MD589-IHC23-2015.07.30-22.48.41_MD589_1_0067_prep2_10.0um_detector999_Tz_scoremap.bp\" \"s3://mousebrainatlas-data/CSHL_scoremaps/10.0um/MD589/MD589_prep2_10.0um_detector999/MD589-IHC23-2015.07.30-22.48.41_MD589_1_0067_prep2_10.0um_detector999/MD589-IHC23-2015.07.30-22.48.41_MD589_1_0067_prep2_10.0um_detector999_Tz_scoremap.bp\"\n",
      "aws s3 cp \"/home/yuncong/CSHL_scoremap_viz/10.0um/Tz/MD589/detector999/prep2/MD589-IHC23-2015.07.30-22.48.41_MD589_1_0067_prep2_10.0um_Tz_detector999_scoremapViz.jpg\" \"s3://mousebrainatlas-data/CSHL_scoremap_viz/10.0um/Tz/MD589/detector999/prep2/MD589-IHC23-2015.07.30-22.48.41_MD589_1_0067_prep2_10.0um_Tz_detector999_scoremapViz.jpg\"\n"
     ]
    },
    {
     "name": "stderr",
     "output_type": "stream",
     "text": [
      "locate patches: 0.04 seconds\n",
      "Not using image_cache.\n",
      "Load image: 16.28 seconds.\n",
      "Extract patches: 17.09 seconds\n"
     ]
    },
    {
     "name": "stdout",
     "output_type": "stream",
     "text": [
      "(26267, 1, 224, 224)\n",
      "rm -rf \"/media/yuncong/BstemAtlasData/CSHL_data_processed/MD589/MD589_prep2_lossless_grayJpeg/MD589-N23-2015.07.30-17.31.29_MD589_2_0068_prep2_lossless_grayJpeg.jpg\" && mkdir -p \"/media/yuncong/BstemAtlasData/CSHL_data_processed/MD589/MD589_prep2_lossless_grayJpeg\"\n",
      "aws s3 cp \"s3://mousebrainatlas-data/CSHL_data_processed/MD589/MD589_prep2_lossless_grayJpeg/MD589-N23-2015.07.30-17.31.29_MD589_2_0068_prep2_lossless_grayJpeg.jpg\" \"/media/yuncong/BstemAtlasData/CSHL_data_processed/MD589/MD589_prep2_lossless_grayJpeg/MD589-N23-2015.07.30-17.31.29_MD589_2_0068_prep2_lossless_grayJpeg.jpg\"\n"
     ]
    },
    {
     "name": "stderr",
     "output_type": "stream",
     "text": [
      "Not using image_cache.\n"
     ]
    },
    {
     "name": "stdout",
     "output_type": "stream",
     "text": [
      "(549, 714, 3) (549, 714)\n",
      "aws s3 cp \"/home/yuncong/CSHL_scoremaps/10.0um/MD589/MD589_prep2_10.0um_detector999/MD589-N23-2015.07.30-17.31.29_MD589_2_0068_prep2_10.0um_detector999/MD589-N23-2015.07.30-17.31.29_MD589_2_0068_prep2_10.0um_detector999_Tz_scoremap.bp\" \"s3://mousebrainatlas-data/CSHL_scoremaps/10.0um/MD589/MD589_prep2_10.0um_detector999/MD589-N23-2015.07.30-17.31.29_MD589_2_0068_prep2_10.0um_detector999/MD589-N23-2015.07.30-17.31.29_MD589_2_0068_prep2_10.0um_detector999_Tz_scoremap.bp\"\n",
      "aws s3 cp \"/home/yuncong/CSHL_scoremap_viz/10.0um/Tz/MD589/detector999/prep2/MD589-N23-2015.07.30-17.31.29_MD589_2_0068_prep2_10.0um_Tz_detector999_scoremapViz.jpg\" \"s3://mousebrainatlas-data/CSHL_scoremap_viz/10.0um/Tz/MD589/detector999/prep2/MD589-N23-2015.07.30-17.31.29_MD589_2_0068_prep2_10.0um_Tz_detector999_scoremapViz.jpg\"\n"
     ]
    },
    {
     "name": "stderr",
     "output_type": "stream",
     "text": [
      "locate patches: 0.03 seconds\n",
      "Not using image_cache.\n",
      "Load image: 16.20 seconds.\n",
      "Extract patches: 17.02 seconds\n"
     ]
    },
    {
     "name": "stdout",
     "output_type": "stream",
     "text": [
      "(26630, 1, 224, 224)\n",
      "rm -rf \"/media/yuncong/BstemAtlasData/CSHL_data_processed/MD589/MD589_prep2_lossless_grayJpeg/MD589-IHC23-2015.07.30-22.48.41_MD589_2_0068_prep2_lossless_grayJpeg.jpg\" && mkdir -p \"/media/yuncong/BstemAtlasData/CSHL_data_processed/MD589/MD589_prep2_lossless_grayJpeg\"\n",
      "aws s3 cp \"s3://mousebrainatlas-data/CSHL_data_processed/MD589/MD589_prep2_lossless_grayJpeg/MD589-IHC23-2015.07.30-22.48.41_MD589_2_0068_prep2_lossless_grayJpeg.jpg\" \"/media/yuncong/BstemAtlasData/CSHL_data_processed/MD589/MD589_prep2_lossless_grayJpeg/MD589-IHC23-2015.07.30-22.48.41_MD589_2_0068_prep2_lossless_grayJpeg.jpg\"\n"
     ]
    },
    {
     "name": "stderr",
     "output_type": "stream",
     "text": [
      "Not using image_cache.\n"
     ]
    },
    {
     "name": "stdout",
     "output_type": "stream",
     "text": [
      "(549, 714, 3) (549, 714)\n",
      "aws s3 cp \"/home/yuncong/CSHL_scoremaps/10.0um/MD589/MD589_prep2_10.0um_detector999/MD589-IHC23-2015.07.30-22.48.41_MD589_2_0068_prep2_10.0um_detector999/MD589-IHC23-2015.07.30-22.48.41_MD589_2_0068_prep2_10.0um_detector999_Tz_scoremap.bp\" \"s3://mousebrainatlas-data/CSHL_scoremaps/10.0um/MD589/MD589_prep2_10.0um_detector999/MD589-IHC23-2015.07.30-22.48.41_MD589_2_0068_prep2_10.0um_detector999/MD589-IHC23-2015.07.30-22.48.41_MD589_2_0068_prep2_10.0um_detector999_Tz_scoremap.bp\"\n",
      "aws s3 cp \"/home/yuncong/CSHL_scoremap_viz/10.0um/Tz/MD589/detector999/prep2/MD589-IHC23-2015.07.30-22.48.41_MD589_2_0068_prep2_10.0um_Tz_detector999_scoremapViz.jpg\" \"s3://mousebrainatlas-data/CSHL_scoremap_viz/10.0um/Tz/MD589/detector999/prep2/MD589-IHC23-2015.07.30-22.48.41_MD589_2_0068_prep2_10.0um_Tz_detector999_scoremapViz.jpg\"\n"
     ]
    },
    {
     "name": "stderr",
     "output_type": "stream",
     "text": [
      "locate patches: 0.04 seconds\n",
      "Not using image_cache.\n",
      "Load image: 15.72 seconds.\n",
      "Extract patches: 16.52 seconds\n"
     ]
    },
    {
     "name": "stdout",
     "output_type": "stream",
     "text": [
      "(26611, 1, 224, 224)\n",
      "rm -rf \"/media/yuncong/BstemAtlasData/CSHL_data_processed/MD589/MD589_prep2_lossless_grayJpeg/MD589-N23-2015.07.30-17.31.29_MD589_3_0069_prep2_lossless_grayJpeg.jpg\" && mkdir -p \"/media/yuncong/BstemAtlasData/CSHL_data_processed/MD589/MD589_prep2_lossless_grayJpeg\"\n",
      "aws s3 cp \"s3://mousebrainatlas-data/CSHL_data_processed/MD589/MD589_prep2_lossless_grayJpeg/MD589-N23-2015.07.30-17.31.29_MD589_3_0069_prep2_lossless_grayJpeg.jpg\" \"/media/yuncong/BstemAtlasData/CSHL_data_processed/MD589/MD589_prep2_lossless_grayJpeg/MD589-N23-2015.07.30-17.31.29_MD589_3_0069_prep2_lossless_grayJpeg.jpg\"\n"
     ]
    },
    {
     "name": "stderr",
     "output_type": "stream",
     "text": [
      "Not using image_cache.\n"
     ]
    },
    {
     "name": "stdout",
     "output_type": "stream",
     "text": [
      "(549, 714, 3) (549, 714)\n",
      "aws s3 cp \"/home/yuncong/CSHL_scoremaps/10.0um/MD589/MD589_prep2_10.0um_detector999/MD589-N23-2015.07.30-17.31.29_MD589_3_0069_prep2_10.0um_detector999/MD589-N23-2015.07.30-17.31.29_MD589_3_0069_prep2_10.0um_detector999_Tz_scoremap.bp\" \"s3://mousebrainatlas-data/CSHL_scoremaps/10.0um/MD589/MD589_prep2_10.0um_detector999/MD589-N23-2015.07.30-17.31.29_MD589_3_0069_prep2_10.0um_detector999/MD589-N23-2015.07.30-17.31.29_MD589_3_0069_prep2_10.0um_detector999_Tz_scoremap.bp\"\n",
      "aws s3 cp \"/home/yuncong/CSHL_scoremap_viz/10.0um/Tz/MD589/detector999/prep2/MD589-N23-2015.07.30-17.31.29_MD589_3_0069_prep2_10.0um_Tz_detector999_scoremapViz.jpg\" \"s3://mousebrainatlas-data/CSHL_scoremap_viz/10.0um/Tz/MD589/detector999/prep2/MD589-N23-2015.07.30-17.31.29_MD589_3_0069_prep2_10.0um_Tz_detector999_scoremapViz.jpg\"\n"
     ]
    },
    {
     "name": "stderr",
     "output_type": "stream",
     "text": [
      "locate patches: 0.04 seconds\n",
      "Not using image_cache.\n",
      "Load image: 16.09 seconds.\n",
      "Extract patches: 16.94 seconds\n"
     ]
    },
    {
     "name": "stdout",
     "output_type": "stream",
     "text": [
      "(26735, 1, 224, 224)\n",
      "rm -rf \"/media/yuncong/BstemAtlasData/CSHL_data_processed/MD589/MD589_prep2_lossless_grayJpeg/MD589-IHC23-2015.07.30-22.48.41_MD589_3_0069_prep2_lossless_grayJpeg.jpg\" && mkdir -p \"/media/yuncong/BstemAtlasData/CSHL_data_processed/MD589/MD589_prep2_lossless_grayJpeg\"\n",
      "aws s3 cp \"s3://mousebrainatlas-data/CSHL_data_processed/MD589/MD589_prep2_lossless_grayJpeg/MD589-IHC23-2015.07.30-22.48.41_MD589_3_0069_prep2_lossless_grayJpeg.jpg\" \"/media/yuncong/BstemAtlasData/CSHL_data_processed/MD589/MD589_prep2_lossless_grayJpeg/MD589-IHC23-2015.07.30-22.48.41_MD589_3_0069_prep2_lossless_grayJpeg.jpg\"\n"
     ]
    },
    {
     "name": "stderr",
     "output_type": "stream",
     "text": [
      "Not using image_cache.\n"
     ]
    },
    {
     "name": "stdout",
     "output_type": "stream",
     "text": [
      "(549, 714, 3) (549, 714)\n",
      "aws s3 cp \"/home/yuncong/CSHL_scoremaps/10.0um/MD589/MD589_prep2_10.0um_detector999/MD589-IHC23-2015.07.30-22.48.41_MD589_3_0069_prep2_10.0um_detector999/MD589-IHC23-2015.07.30-22.48.41_MD589_3_0069_prep2_10.0um_detector999_Tz_scoremap.bp\" \"s3://mousebrainatlas-data/CSHL_scoremaps/10.0um/MD589/MD589_prep2_10.0um_detector999/MD589-IHC23-2015.07.30-22.48.41_MD589_3_0069_prep2_10.0um_detector999/MD589-IHC23-2015.07.30-22.48.41_MD589_3_0069_prep2_10.0um_detector999_Tz_scoremap.bp\"\n",
      "aws s3 cp \"/home/yuncong/CSHL_scoremap_viz/10.0um/Tz/MD589/detector999/prep2/MD589-IHC23-2015.07.30-22.48.41_MD589_3_0069_prep2_10.0um_Tz_detector999_scoremapViz.jpg\" \"s3://mousebrainatlas-data/CSHL_scoremap_viz/10.0um/Tz/MD589/detector999/prep2/MD589-IHC23-2015.07.30-22.48.41_MD589_3_0069_prep2_10.0um_Tz_detector999_scoremapViz.jpg\"\n"
     ]
    },
    {
     "name": "stderr",
     "output_type": "stream",
     "text": [
      "locate patches: 0.04 seconds\n",
      "Not using image_cache.\n",
      "Load image: 17.09 seconds.\n",
      "Extract patches: 17.92 seconds\n"
     ]
    },
    {
     "name": "stdout",
     "output_type": "stream",
     "text": [
      "(26894, 1, 224, 224)\n",
      "rm -rf \"/media/yuncong/BstemAtlasData/CSHL_data_processed/MD589/MD589_prep2_lossless_grayJpeg/MD589-N24-2015.07.30-17.35.51_MD589_1_0070_prep2_lossless_grayJpeg.jpg\" && mkdir -p \"/media/yuncong/BstemAtlasData/CSHL_data_processed/MD589/MD589_prep2_lossless_grayJpeg\"\n",
      "aws s3 cp \"s3://mousebrainatlas-data/CSHL_data_processed/MD589/MD589_prep2_lossless_grayJpeg/MD589-N24-2015.07.30-17.35.51_MD589_1_0070_prep2_lossless_grayJpeg.jpg\" \"/media/yuncong/BstemAtlasData/CSHL_data_processed/MD589/MD589_prep2_lossless_grayJpeg/MD589-N24-2015.07.30-17.35.51_MD589_1_0070_prep2_lossless_grayJpeg.jpg\"\n"
     ]
    },
    {
     "name": "stderr",
     "output_type": "stream",
     "text": [
      "Not using image_cache.\n"
     ]
    },
    {
     "name": "stdout",
     "output_type": "stream",
     "text": [
      "(549, 714, 3) (549, 714)\n",
      "aws s3 cp \"/home/yuncong/CSHL_scoremaps/10.0um/MD589/MD589_prep2_10.0um_detector999/MD589-N24-2015.07.30-17.35.51_MD589_1_0070_prep2_10.0um_detector999/MD589-N24-2015.07.30-17.35.51_MD589_1_0070_prep2_10.0um_detector999_Tz_scoremap.bp\" \"s3://mousebrainatlas-data/CSHL_scoremaps/10.0um/MD589/MD589_prep2_10.0um_detector999/MD589-N24-2015.07.30-17.35.51_MD589_1_0070_prep2_10.0um_detector999/MD589-N24-2015.07.30-17.35.51_MD589_1_0070_prep2_10.0um_detector999_Tz_scoremap.bp\"\n",
      "aws s3 cp \"/home/yuncong/CSHL_scoremap_viz/10.0um/Tz/MD589/detector999/prep2/MD589-N24-2015.07.30-17.35.51_MD589_1_0070_prep2_10.0um_Tz_detector999_scoremapViz.jpg\" \"s3://mousebrainatlas-data/CSHL_scoremap_viz/10.0um/Tz/MD589/detector999/prep2/MD589-N24-2015.07.30-17.35.51_MD589_1_0070_prep2_10.0um_Tz_detector999_scoremapViz.jpg\"\n"
     ]
    },
    {
     "name": "stderr",
     "output_type": "stream",
     "text": [
      "locate patches: 0.04 seconds\n",
      "Not using image_cache.\n",
      "Load image: 16.42 seconds.\n",
      "Extract patches: 17.25 seconds\n"
     ]
    },
    {
     "name": "stdout",
     "output_type": "stream",
     "text": [
      "(27036, 1, 224, 224)\n",
      "rm -rf \"/media/yuncong/BstemAtlasData/CSHL_data_processed/MD589/MD589_prep2_lossless_grayJpeg/MD589-IHC24-2015.07.30-22.52.55_MD589_1_0070_prep2_lossless_grayJpeg.jpg\" && mkdir -p \"/media/yuncong/BstemAtlasData/CSHL_data_processed/MD589/MD589_prep2_lossless_grayJpeg\"\n",
      "aws s3 cp \"s3://mousebrainatlas-data/CSHL_data_processed/MD589/MD589_prep2_lossless_grayJpeg/MD589-IHC24-2015.07.30-22.52.55_MD589_1_0070_prep2_lossless_grayJpeg.jpg\" \"/media/yuncong/BstemAtlasData/CSHL_data_processed/MD589/MD589_prep2_lossless_grayJpeg/MD589-IHC24-2015.07.30-22.52.55_MD589_1_0070_prep2_lossless_grayJpeg.jpg\"\n"
     ]
    },
    {
     "name": "stderr",
     "output_type": "stream",
     "text": [
      "Not using image_cache.\n"
     ]
    },
    {
     "name": "stdout",
     "output_type": "stream",
     "text": [
      "(549, 714, 3) (549, 714)\n",
      "aws s3 cp \"/home/yuncong/CSHL_scoremaps/10.0um/MD589/MD589_prep2_10.0um_detector999/MD589-IHC24-2015.07.30-22.52.55_MD589_1_0070_prep2_10.0um_detector999/MD589-IHC24-2015.07.30-22.52.55_MD589_1_0070_prep2_10.0um_detector999_Tz_scoremap.bp\" \"s3://mousebrainatlas-data/CSHL_scoremaps/10.0um/MD589/MD589_prep2_10.0um_detector999/MD589-IHC24-2015.07.30-22.52.55_MD589_1_0070_prep2_10.0um_detector999/MD589-IHC24-2015.07.30-22.52.55_MD589_1_0070_prep2_10.0um_detector999_Tz_scoremap.bp\"\n",
      "aws s3 cp \"/home/yuncong/CSHL_scoremap_viz/10.0um/Tz/MD589/detector999/prep2/MD589-IHC24-2015.07.30-22.52.55_MD589_1_0070_prep2_10.0um_Tz_detector999_scoremapViz.jpg\" \"s3://mousebrainatlas-data/CSHL_scoremap_viz/10.0um/Tz/MD589/detector999/prep2/MD589-IHC24-2015.07.30-22.52.55_MD589_1_0070_prep2_10.0um_Tz_detector999_scoremapViz.jpg\"\n"
     ]
    },
    {
     "name": "stderr",
     "output_type": "stream",
     "text": [
      "locate patches: 0.04 seconds\n",
      "Not using image_cache.\n",
      "Load image: 17.20 seconds.\n",
      "Extract patches: 18.09 seconds\n"
     ]
    },
    {
     "name": "stdout",
     "output_type": "stream",
     "text": [
      "(27130, 1, 224, 224)\n",
      "rm -rf \"/media/yuncong/BstemAtlasData/CSHL_data_processed/MD589/MD589_prep2_lossless_grayJpeg/MD589-N24-2015.07.30-17.35.51_MD589_2_0071_prep2_lossless_grayJpeg.jpg\" && mkdir -p \"/media/yuncong/BstemAtlasData/CSHL_data_processed/MD589/MD589_prep2_lossless_grayJpeg\"\n",
      "aws s3 cp \"s3://mousebrainatlas-data/CSHL_data_processed/MD589/MD589_prep2_lossless_grayJpeg/MD589-N24-2015.07.30-17.35.51_MD589_2_0071_prep2_lossless_grayJpeg.jpg\" \"/media/yuncong/BstemAtlasData/CSHL_data_processed/MD589/MD589_prep2_lossless_grayJpeg/MD589-N24-2015.07.30-17.35.51_MD589_2_0071_prep2_lossless_grayJpeg.jpg\"\n"
     ]
    },
    {
     "name": "stderr",
     "output_type": "stream",
     "text": [
      "Not using image_cache.\n"
     ]
    },
    {
     "name": "stdout",
     "output_type": "stream",
     "text": [
      "(549, 714, 3) (549, 714)\n",
      "aws s3 cp \"/home/yuncong/CSHL_scoremaps/10.0um/MD589/MD589_prep2_10.0um_detector999/MD589-N24-2015.07.30-17.35.51_MD589_2_0071_prep2_10.0um_detector999/MD589-N24-2015.07.30-17.35.51_MD589_2_0071_prep2_10.0um_detector999_Tz_scoremap.bp\" \"s3://mousebrainatlas-data/CSHL_scoremaps/10.0um/MD589/MD589_prep2_10.0um_detector999/MD589-N24-2015.07.30-17.35.51_MD589_2_0071_prep2_10.0um_detector999/MD589-N24-2015.07.30-17.35.51_MD589_2_0071_prep2_10.0um_detector999_Tz_scoremap.bp\"\n",
      "aws s3 cp \"/home/yuncong/CSHL_scoremap_viz/10.0um/Tz/MD589/detector999/prep2/MD589-N24-2015.07.30-17.35.51_MD589_2_0071_prep2_10.0um_Tz_detector999_scoremapViz.jpg\" \"s3://mousebrainatlas-data/CSHL_scoremap_viz/10.0um/Tz/MD589/detector999/prep2/MD589-N24-2015.07.30-17.35.51_MD589_2_0071_prep2_10.0um_Tz_detector999_scoremapViz.jpg\"\n"
     ]
    },
    {
     "name": "stderr",
     "output_type": "stream",
     "text": [
      "locate patches: 0.04 seconds\n",
      "Not using image_cache.\n",
      "Load image: 16.46 seconds.\n",
      "Extract patches: 17.32 seconds\n"
     ]
    },
    {
     "name": "stdout",
     "output_type": "stream",
     "text": [
      "(27267, 1, 224, 224)\n",
      "rm -rf \"/media/yuncong/BstemAtlasData/CSHL_data_processed/MD589/MD589_prep2_lossless_grayJpeg/MD589-IHC24-2015.07.30-22.52.55_MD589_2_0071_prep2_lossless_grayJpeg.jpg\" && mkdir -p \"/media/yuncong/BstemAtlasData/CSHL_data_processed/MD589/MD589_prep2_lossless_grayJpeg\"\n",
      "aws s3 cp \"s3://mousebrainatlas-data/CSHL_data_processed/MD589/MD589_prep2_lossless_grayJpeg/MD589-IHC24-2015.07.30-22.52.55_MD589_2_0071_prep2_lossless_grayJpeg.jpg\" \"/media/yuncong/BstemAtlasData/CSHL_data_processed/MD589/MD589_prep2_lossless_grayJpeg/MD589-IHC24-2015.07.30-22.52.55_MD589_2_0071_prep2_lossless_grayJpeg.jpg\"\n"
     ]
    },
    {
     "name": "stderr",
     "output_type": "stream",
     "text": [
      "Not using image_cache.\n"
     ]
    },
    {
     "name": "stdout",
     "output_type": "stream",
     "text": [
      "(549, 714, 3) (549, 714)\n",
      "aws s3 cp \"/home/yuncong/CSHL_scoremaps/10.0um/MD589/MD589_prep2_10.0um_detector999/MD589-IHC24-2015.07.30-22.52.55_MD589_2_0071_prep2_10.0um_detector999/MD589-IHC24-2015.07.30-22.52.55_MD589_2_0071_prep2_10.0um_detector999_Tz_scoremap.bp\" \"s3://mousebrainatlas-data/CSHL_scoremaps/10.0um/MD589/MD589_prep2_10.0um_detector999/MD589-IHC24-2015.07.30-22.52.55_MD589_2_0071_prep2_10.0um_detector999/MD589-IHC24-2015.07.30-22.52.55_MD589_2_0071_prep2_10.0um_detector999_Tz_scoremap.bp\"\n",
      "aws s3 cp \"/home/yuncong/CSHL_scoremap_viz/10.0um/Tz/MD589/detector999/prep2/MD589-IHC24-2015.07.30-22.52.55_MD589_2_0071_prep2_10.0um_Tz_detector999_scoremapViz.jpg\" \"s3://mousebrainatlas-data/CSHL_scoremap_viz/10.0um/Tz/MD589/detector999/prep2/MD589-IHC24-2015.07.30-22.52.55_MD589_2_0071_prep2_10.0um_Tz_detector999_scoremapViz.jpg\"\n"
     ]
    },
    {
     "name": "stderr",
     "output_type": "stream",
     "text": [
      "locate patches: 0.04 seconds\n",
      "Not using image_cache.\n",
      "Load image: 17.06 seconds.\n",
      "Extract patches: 17.95 seconds\n"
     ]
    },
    {
     "name": "stdout",
     "output_type": "stream",
     "text": [
      "(27390, 1, 224, 224)\n",
      "rm -rf \"/media/yuncong/BstemAtlasData/CSHL_data_processed/MD589/MD589_prep2_lossless_grayJpeg/MD589-N24-2015.07.30-17.35.51_MD589_3_0072_prep2_lossless_grayJpeg.jpg\" && mkdir -p \"/media/yuncong/BstemAtlasData/CSHL_data_processed/MD589/MD589_prep2_lossless_grayJpeg\"\n",
      "aws s3 cp \"s3://mousebrainatlas-data/CSHL_data_processed/MD589/MD589_prep2_lossless_grayJpeg/MD589-N24-2015.07.30-17.35.51_MD589_3_0072_prep2_lossless_grayJpeg.jpg\" \"/media/yuncong/BstemAtlasData/CSHL_data_processed/MD589/MD589_prep2_lossless_grayJpeg/MD589-N24-2015.07.30-17.35.51_MD589_3_0072_prep2_lossless_grayJpeg.jpg\"\n"
     ]
    },
    {
     "name": "stderr",
     "output_type": "stream",
     "text": [
      "Not using image_cache.\n"
     ]
    },
    {
     "name": "stdout",
     "output_type": "stream",
     "text": [
      "(549, 714, 3) (549, 714)\n",
      "aws s3 cp \"/home/yuncong/CSHL_scoremaps/10.0um/MD589/MD589_prep2_10.0um_detector999/MD589-N24-2015.07.30-17.35.51_MD589_3_0072_prep2_10.0um_detector999/MD589-N24-2015.07.30-17.35.51_MD589_3_0072_prep2_10.0um_detector999_Tz_scoremap.bp\" \"s3://mousebrainatlas-data/CSHL_scoremaps/10.0um/MD589/MD589_prep2_10.0um_detector999/MD589-N24-2015.07.30-17.35.51_MD589_3_0072_prep2_10.0um_detector999/MD589-N24-2015.07.30-17.35.51_MD589_3_0072_prep2_10.0um_detector999_Tz_scoremap.bp\"\n",
      "aws s3 cp \"/home/yuncong/CSHL_scoremap_viz/10.0um/Tz/MD589/detector999/prep2/MD589-N24-2015.07.30-17.35.51_MD589_3_0072_prep2_10.0um_Tz_detector999_scoremapViz.jpg\" \"s3://mousebrainatlas-data/CSHL_scoremap_viz/10.0um/Tz/MD589/detector999/prep2/MD589-N24-2015.07.30-17.35.51_MD589_3_0072_prep2_10.0um_Tz_detector999_scoremapViz.jpg\"\n"
     ]
    },
    {
     "name": "stderr",
     "output_type": "stream",
     "text": [
      "locate patches: 0.03 seconds\n",
      "Not using image_cache.\n",
      "Load image: 16.75 seconds.\n",
      "Extract patches: 17.61 seconds\n"
     ]
    },
    {
     "name": "stdout",
     "output_type": "stream",
     "text": [
      "(27447, 1, 224, 224)\n",
      "rm -rf \"/media/yuncong/BstemAtlasData/CSHL_data_processed/MD589/MD589_prep2_lossless_grayJpeg/MD589-IHC24-2015.07.30-22.52.55_MD589_3_0072_prep2_lossless_grayJpeg.jpg\" && mkdir -p \"/media/yuncong/BstemAtlasData/CSHL_data_processed/MD589/MD589_prep2_lossless_grayJpeg\"\n",
      "aws s3 cp \"s3://mousebrainatlas-data/CSHL_data_processed/MD589/MD589_prep2_lossless_grayJpeg/MD589-IHC24-2015.07.30-22.52.55_MD589_3_0072_prep2_lossless_grayJpeg.jpg\" \"/media/yuncong/BstemAtlasData/CSHL_data_processed/MD589/MD589_prep2_lossless_grayJpeg/MD589-IHC24-2015.07.30-22.52.55_MD589_3_0072_prep2_lossless_grayJpeg.jpg\"\n"
     ]
    },
    {
     "name": "stderr",
     "output_type": "stream",
     "text": [
      "Not using image_cache.\n"
     ]
    },
    {
     "name": "stdout",
     "output_type": "stream",
     "text": [
      "(549, 714, 3) (549, 714)\n",
      "aws s3 cp \"/home/yuncong/CSHL_scoremaps/10.0um/MD589/MD589_prep2_10.0um_detector999/MD589-IHC24-2015.07.30-22.52.55_MD589_3_0072_prep2_10.0um_detector999/MD589-IHC24-2015.07.30-22.52.55_MD589_3_0072_prep2_10.0um_detector999_Tz_scoremap.bp\" \"s3://mousebrainatlas-data/CSHL_scoremaps/10.0um/MD589/MD589_prep2_10.0um_detector999/MD589-IHC24-2015.07.30-22.52.55_MD589_3_0072_prep2_10.0um_detector999/MD589-IHC24-2015.07.30-22.52.55_MD589_3_0072_prep2_10.0um_detector999_Tz_scoremap.bp\"\n",
      "aws s3 cp \"/home/yuncong/CSHL_scoremap_viz/10.0um/Tz/MD589/detector999/prep2/MD589-IHC24-2015.07.30-22.52.55_MD589_3_0072_prep2_10.0um_Tz_detector999_scoremapViz.jpg\" \"s3://mousebrainatlas-data/CSHL_scoremap_viz/10.0um/Tz/MD589/detector999/prep2/MD589-IHC24-2015.07.30-22.52.55_MD589_3_0072_prep2_10.0um_Tz_detector999_scoremapViz.jpg\"\n"
     ]
    },
    {
     "name": "stderr",
     "output_type": "stream",
     "text": [
      "locate patches: 0.04 seconds\n",
      "Not using image_cache.\n",
      "Load image: 16.77 seconds.\n",
      "Extract patches: 17.65 seconds\n"
     ]
    },
    {
     "name": "stdout",
     "output_type": "stream",
     "text": [
      "(27469, 1, 224, 224)\n",
      "rm -rf \"/media/yuncong/BstemAtlasData/CSHL_data_processed/MD589/MD589_prep2_lossless_grayJpeg/MD589-N25-2015.07.30-17.40.16_MD589_1_0073_prep2_lossless_grayJpeg.jpg\" && mkdir -p \"/media/yuncong/BstemAtlasData/CSHL_data_processed/MD589/MD589_prep2_lossless_grayJpeg\"\n",
      "aws s3 cp \"s3://mousebrainatlas-data/CSHL_data_processed/MD589/MD589_prep2_lossless_grayJpeg/MD589-N25-2015.07.30-17.40.16_MD589_1_0073_prep2_lossless_grayJpeg.jpg\" \"/media/yuncong/BstemAtlasData/CSHL_data_processed/MD589/MD589_prep2_lossless_grayJpeg/MD589-N25-2015.07.30-17.40.16_MD589_1_0073_prep2_lossless_grayJpeg.jpg\"\n"
     ]
    },
    {
     "name": "stderr",
     "output_type": "stream",
     "text": [
      "Not using image_cache.\n"
     ]
    },
    {
     "name": "stdout",
     "output_type": "stream",
     "text": [
      "(549, 714, 3) (549, 714)\n",
      "aws s3 cp \"/home/yuncong/CSHL_scoremaps/10.0um/MD589/MD589_prep2_10.0um_detector999/MD589-N25-2015.07.30-17.40.16_MD589_1_0073_prep2_10.0um_detector999/MD589-N25-2015.07.30-17.40.16_MD589_1_0073_prep2_10.0um_detector999_Tz_scoremap.bp\" \"s3://mousebrainatlas-data/CSHL_scoremaps/10.0um/MD589/MD589_prep2_10.0um_detector999/MD589-N25-2015.07.30-17.40.16_MD589_1_0073_prep2_10.0um_detector999/MD589-N25-2015.07.30-17.40.16_MD589_1_0073_prep2_10.0um_detector999_Tz_scoremap.bp\"\n",
      "aws s3 cp \"/home/yuncong/CSHL_scoremap_viz/10.0um/Tz/MD589/detector999/prep2/MD589-N25-2015.07.30-17.40.16_MD589_1_0073_prep2_10.0um_Tz_detector999_scoremapViz.jpg\" \"s3://mousebrainatlas-data/CSHL_scoremap_viz/10.0um/Tz/MD589/detector999/prep2/MD589-N25-2015.07.30-17.40.16_MD589_1_0073_prep2_10.0um_Tz_detector999_scoremapViz.jpg\"\n"
     ]
    },
    {
     "name": "stderr",
     "output_type": "stream",
     "text": [
      "locate patches: 0.04 seconds\n",
      "Not using image_cache.\n",
      "Load image: 17.30 seconds.\n",
      "Extract patches: 18.17 seconds\n"
     ]
    },
    {
     "name": "stdout",
     "output_type": "stream",
     "text": [
      "(27510, 1, 224, 224)\n",
      "rm -rf \"/media/yuncong/BstemAtlasData/CSHL_data_processed/MD589/MD589_prep2_lossless_grayJpeg/MD589-IHC25-2015.07.30-22.57.23_MD589_1_0073_prep2_lossless_grayJpeg.jpg\" && mkdir -p \"/media/yuncong/BstemAtlasData/CSHL_data_processed/MD589/MD589_prep2_lossless_grayJpeg\"\n",
      "aws s3 cp \"s3://mousebrainatlas-data/CSHL_data_processed/MD589/MD589_prep2_lossless_grayJpeg/MD589-IHC25-2015.07.30-22.57.23_MD589_1_0073_prep2_lossless_grayJpeg.jpg\" \"/media/yuncong/BstemAtlasData/CSHL_data_processed/MD589/MD589_prep2_lossless_grayJpeg/MD589-IHC25-2015.07.30-22.57.23_MD589_1_0073_prep2_lossless_grayJpeg.jpg\"\n"
     ]
    },
    {
     "name": "stderr",
     "output_type": "stream",
     "text": [
      "Not using image_cache.\n"
     ]
    },
    {
     "name": "stdout",
     "output_type": "stream",
     "text": [
      "(549, 714, 3) (549, 714)\n",
      "aws s3 cp \"/home/yuncong/CSHL_scoremaps/10.0um/MD589/MD589_prep2_10.0um_detector999/MD589-IHC25-2015.07.30-22.57.23_MD589_1_0073_prep2_10.0um_detector999/MD589-IHC25-2015.07.30-22.57.23_MD589_1_0073_prep2_10.0um_detector999_Tz_scoremap.bp\" \"s3://mousebrainatlas-data/CSHL_scoremaps/10.0um/MD589/MD589_prep2_10.0um_detector999/MD589-IHC25-2015.07.30-22.57.23_MD589_1_0073_prep2_10.0um_detector999/MD589-IHC25-2015.07.30-22.57.23_MD589_1_0073_prep2_10.0um_detector999_Tz_scoremap.bp\"\n",
      "aws s3 cp \"/home/yuncong/CSHL_scoremap_viz/10.0um/Tz/MD589/detector999/prep2/MD589-IHC25-2015.07.30-22.57.23_MD589_1_0073_prep2_10.0um_Tz_detector999_scoremapViz.jpg\" \"s3://mousebrainatlas-data/CSHL_scoremap_viz/10.0um/Tz/MD589/detector999/prep2/MD589-IHC25-2015.07.30-22.57.23_MD589_1_0073_prep2_10.0um_Tz_detector999_scoremapViz.jpg\"\n"
     ]
    },
    {
     "name": "stderr",
     "output_type": "stream",
     "text": [
      "locate patches: 0.03 seconds\n",
      "Not using image_cache.\n",
      "Load image: 17.20 seconds.\n",
      "Extract patches: 18.07 seconds\n"
     ]
    },
    {
     "name": "stdout",
     "output_type": "stream",
     "text": [
      "(27583, 1, 224, 224)\n",
      "rm -rf \"/media/yuncong/BstemAtlasData/CSHL_data_processed/MD589/MD589_prep2_lossless_grayJpeg/MD589-N25-2015.07.30-17.40.16_MD589_2_0074_prep2_lossless_grayJpeg.jpg\" && mkdir -p \"/media/yuncong/BstemAtlasData/CSHL_data_processed/MD589/MD589_prep2_lossless_grayJpeg\"\n",
      "aws s3 cp \"s3://mousebrainatlas-data/CSHL_data_processed/MD589/MD589_prep2_lossless_grayJpeg/MD589-N25-2015.07.30-17.40.16_MD589_2_0074_prep2_lossless_grayJpeg.jpg\" \"/media/yuncong/BstemAtlasData/CSHL_data_processed/MD589/MD589_prep2_lossless_grayJpeg/MD589-N25-2015.07.30-17.40.16_MD589_2_0074_prep2_lossless_grayJpeg.jpg\"\n"
     ]
    },
    {
     "name": "stderr",
     "output_type": "stream",
     "text": [
      "Not using image_cache.\n"
     ]
    },
    {
     "name": "stdout",
     "output_type": "stream",
     "text": [
      "(549, 714, 3) (549, 714)\n",
      "aws s3 cp \"/home/yuncong/CSHL_scoremaps/10.0um/MD589/MD589_prep2_10.0um_detector999/MD589-N25-2015.07.30-17.40.16_MD589_2_0074_prep2_10.0um_detector999/MD589-N25-2015.07.30-17.40.16_MD589_2_0074_prep2_10.0um_detector999_Tz_scoremap.bp\" \"s3://mousebrainatlas-data/CSHL_scoremaps/10.0um/MD589/MD589_prep2_10.0um_detector999/MD589-N25-2015.07.30-17.40.16_MD589_2_0074_prep2_10.0um_detector999/MD589-N25-2015.07.30-17.40.16_MD589_2_0074_prep2_10.0um_detector999_Tz_scoremap.bp\"\n",
      "aws s3 cp \"/home/yuncong/CSHL_scoremap_viz/10.0um/Tz/MD589/detector999/prep2/MD589-N25-2015.07.30-17.40.16_MD589_2_0074_prep2_10.0um_Tz_detector999_scoremapViz.jpg\" \"s3://mousebrainatlas-data/CSHL_scoremap_viz/10.0um/Tz/MD589/detector999/prep2/MD589-N25-2015.07.30-17.40.16_MD589_2_0074_prep2_10.0um_Tz_detector999_scoremapViz.jpg\"\n"
     ]
    },
    {
     "name": "stderr",
     "output_type": "stream",
     "text": [
      "locate patches: 0.04 seconds\n",
      "Not using image_cache.\n",
      "Load image: 16.71 seconds.\n",
      "Extract patches: 17.60 seconds\n"
     ]
    },
    {
     "name": "stdout",
     "output_type": "stream",
     "text": [
      "(27778, 1, 224, 224)\n",
      "rm -rf \"/media/yuncong/BstemAtlasData/CSHL_data_processed/MD589/MD589_prep2_lossless_grayJpeg/MD589-IHC25-2015.07.30-22.57.23_MD589_2_0074_prep2_lossless_grayJpeg.jpg\" && mkdir -p \"/media/yuncong/BstemAtlasData/CSHL_data_processed/MD589/MD589_prep2_lossless_grayJpeg\"\n",
      "aws s3 cp \"s3://mousebrainatlas-data/CSHL_data_processed/MD589/MD589_prep2_lossless_grayJpeg/MD589-IHC25-2015.07.30-22.57.23_MD589_2_0074_prep2_lossless_grayJpeg.jpg\" \"/media/yuncong/BstemAtlasData/CSHL_data_processed/MD589/MD589_prep2_lossless_grayJpeg/MD589-IHC25-2015.07.30-22.57.23_MD589_2_0074_prep2_lossless_grayJpeg.jpg\"\n"
     ]
    },
    {
     "name": "stderr",
     "output_type": "stream",
     "text": [
      "Not using image_cache.\n"
     ]
    },
    {
     "name": "stdout",
     "output_type": "stream",
     "text": [
      "(549, 714, 3) (549, 714)\n",
      "aws s3 cp \"/home/yuncong/CSHL_scoremaps/10.0um/MD589/MD589_prep2_10.0um_detector999/MD589-IHC25-2015.07.30-22.57.23_MD589_2_0074_prep2_10.0um_detector999/MD589-IHC25-2015.07.30-22.57.23_MD589_2_0074_prep2_10.0um_detector999_Tz_scoremap.bp\" \"s3://mousebrainatlas-data/CSHL_scoremaps/10.0um/MD589/MD589_prep2_10.0um_detector999/MD589-IHC25-2015.07.30-22.57.23_MD589_2_0074_prep2_10.0um_detector999/MD589-IHC25-2015.07.30-22.57.23_MD589_2_0074_prep2_10.0um_detector999_Tz_scoremap.bp\"\n",
      "aws s3 cp \"/home/yuncong/CSHL_scoremap_viz/10.0um/Tz/MD589/detector999/prep2/MD589-IHC25-2015.07.30-22.57.23_MD589_2_0074_prep2_10.0um_Tz_detector999_scoremapViz.jpg\" \"s3://mousebrainatlas-data/CSHL_scoremap_viz/10.0um/Tz/MD589/detector999/prep2/MD589-IHC25-2015.07.30-22.57.23_MD589_2_0074_prep2_10.0um_Tz_detector999_scoremapViz.jpg\"\n"
     ]
    },
    {
     "name": "stderr",
     "output_type": "stream",
     "text": [
      "locate patches: 0.03 seconds\n",
      "Not using image_cache.\n",
      "Load image: 17.60 seconds.\n",
      "Extract patches: 18.48 seconds\n"
     ]
    },
    {
     "name": "stdout",
     "output_type": "stream",
     "text": [
      "(27811, 1, 224, 224)\n",
      "rm -rf \"/media/yuncong/BstemAtlasData/CSHL_data_processed/MD589/MD589_prep2_lossless_grayJpeg/MD589-N25-2015.07.30-17.40.16_MD589_3_0075_prep2_lossless_grayJpeg.jpg\" && mkdir -p \"/media/yuncong/BstemAtlasData/CSHL_data_processed/MD589/MD589_prep2_lossless_grayJpeg\"\n",
      "aws s3 cp \"s3://mousebrainatlas-data/CSHL_data_processed/MD589/MD589_prep2_lossless_grayJpeg/MD589-N25-2015.07.30-17.40.16_MD589_3_0075_prep2_lossless_grayJpeg.jpg\" \"/media/yuncong/BstemAtlasData/CSHL_data_processed/MD589/MD589_prep2_lossless_grayJpeg/MD589-N25-2015.07.30-17.40.16_MD589_3_0075_prep2_lossless_grayJpeg.jpg\"\n"
     ]
    },
    {
     "name": "stderr",
     "output_type": "stream",
     "text": [
      "Not using image_cache.\n"
     ]
    },
    {
     "name": "stdout",
     "output_type": "stream",
     "text": [
      "(549, 714, 3) (549, 714)\n",
      "aws s3 cp \"/home/yuncong/CSHL_scoremaps/10.0um/MD589/MD589_prep2_10.0um_detector999/MD589-N25-2015.07.30-17.40.16_MD589_3_0075_prep2_10.0um_detector999/MD589-N25-2015.07.30-17.40.16_MD589_3_0075_prep2_10.0um_detector999_Tz_scoremap.bp\" \"s3://mousebrainatlas-data/CSHL_scoremaps/10.0um/MD589/MD589_prep2_10.0um_detector999/MD589-N25-2015.07.30-17.40.16_MD589_3_0075_prep2_10.0um_detector999/MD589-N25-2015.07.30-17.40.16_MD589_3_0075_prep2_10.0um_detector999_Tz_scoremap.bp\"\n",
      "aws s3 cp \"/home/yuncong/CSHL_scoremap_viz/10.0um/Tz/MD589/detector999/prep2/MD589-N25-2015.07.30-17.40.16_MD589_3_0075_prep2_10.0um_Tz_detector999_scoremapViz.jpg\" \"s3://mousebrainatlas-data/CSHL_scoremap_viz/10.0um/Tz/MD589/detector999/prep2/MD589-N25-2015.07.30-17.40.16_MD589_3_0075_prep2_10.0um_Tz_detector999_scoremapViz.jpg\"\n"
     ]
    },
    {
     "name": "stderr",
     "output_type": "stream",
     "text": [
      "locate patches: 0.03 seconds\n",
      "Not using image_cache.\n",
      "Load image: 17.06 seconds.\n",
      "Extract patches: 17.95 seconds\n"
     ]
    },
    {
     "name": "stdout",
     "output_type": "stream",
     "text": [
      "(28018, 1, 224, 224)\n",
      "rm -rf \"/media/yuncong/BstemAtlasData/CSHL_data_processed/MD589/MD589_prep2_lossless_grayJpeg/MD589-IHC25-2015.07.30-22.57.23_MD589_3_0075_prep2_lossless_grayJpeg.jpg\" && mkdir -p \"/media/yuncong/BstemAtlasData/CSHL_data_processed/MD589/MD589_prep2_lossless_grayJpeg\"\n",
      "aws s3 cp \"s3://mousebrainatlas-data/CSHL_data_processed/MD589/MD589_prep2_lossless_grayJpeg/MD589-IHC25-2015.07.30-22.57.23_MD589_3_0075_prep2_lossless_grayJpeg.jpg\" \"/media/yuncong/BstemAtlasData/CSHL_data_processed/MD589/MD589_prep2_lossless_grayJpeg/MD589-IHC25-2015.07.30-22.57.23_MD589_3_0075_prep2_lossless_grayJpeg.jpg\"\n"
     ]
    },
    {
     "name": "stderr",
     "output_type": "stream",
     "text": [
      "Not using image_cache.\n"
     ]
    },
    {
     "name": "stdout",
     "output_type": "stream",
     "text": [
      "(549, 714, 3) (549, 714)\n",
      "aws s3 cp \"/home/yuncong/CSHL_scoremaps/10.0um/MD589/MD589_prep2_10.0um_detector999/MD589-IHC25-2015.07.30-22.57.23_MD589_3_0075_prep2_10.0um_detector999/MD589-IHC25-2015.07.30-22.57.23_MD589_3_0075_prep2_10.0um_detector999_Tz_scoremap.bp\" \"s3://mousebrainatlas-data/CSHL_scoremaps/10.0um/MD589/MD589_prep2_10.0um_detector999/MD589-IHC25-2015.07.30-22.57.23_MD589_3_0075_prep2_10.0um_detector999/MD589-IHC25-2015.07.30-22.57.23_MD589_3_0075_prep2_10.0um_detector999_Tz_scoremap.bp\"\n",
      "aws s3 cp \"/home/yuncong/CSHL_scoremap_viz/10.0um/Tz/MD589/detector999/prep2/MD589-IHC25-2015.07.30-22.57.23_MD589_3_0075_prep2_10.0um_Tz_detector999_scoremapViz.jpg\" \"s3://mousebrainatlas-data/CSHL_scoremap_viz/10.0um/Tz/MD589/detector999/prep2/MD589-IHC25-2015.07.30-22.57.23_MD589_3_0075_prep2_10.0um_Tz_detector999_scoremapViz.jpg\"\n"
     ]
    },
    {
     "name": "stderr",
     "output_type": "stream",
     "text": [
      "locate patches: 0.03 seconds\n",
      "Not using image_cache.\n",
      "Load image: 19.09 seconds.\n",
      "Extract patches: 20.00 seconds\n"
     ]
    },
    {
     "name": "stdout",
     "output_type": "stream",
     "text": [
      "(28225, 1, 224, 224)\n",
      "rm -rf \"/media/yuncong/BstemAtlasData/CSHL_data_processed/MD589/MD589_prep2_lossless_grayJpeg/MD589-N26-2015.07.30-17.44.37_MD589_1_0076_prep2_lossless_grayJpeg.jpg\" && mkdir -p \"/media/yuncong/BstemAtlasData/CSHL_data_processed/MD589/MD589_prep2_lossless_grayJpeg\"\n",
      "aws s3 cp \"s3://mousebrainatlas-data/CSHL_data_processed/MD589/MD589_prep2_lossless_grayJpeg/MD589-N26-2015.07.30-17.44.37_MD589_1_0076_prep2_lossless_grayJpeg.jpg\" \"/media/yuncong/BstemAtlasData/CSHL_data_processed/MD589/MD589_prep2_lossless_grayJpeg/MD589-N26-2015.07.30-17.44.37_MD589_1_0076_prep2_lossless_grayJpeg.jpg\"\n"
     ]
    },
    {
     "name": "stderr",
     "output_type": "stream",
     "text": [
      "Not using image_cache.\n"
     ]
    },
    {
     "name": "stdout",
     "output_type": "stream",
     "text": [
      "(549, 714, 3) (549, 714)\n",
      "aws s3 cp \"/home/yuncong/CSHL_scoremaps/10.0um/MD589/MD589_prep2_10.0um_detector999/MD589-N26-2015.07.30-17.44.37_MD589_1_0076_prep2_10.0um_detector999/MD589-N26-2015.07.30-17.44.37_MD589_1_0076_prep2_10.0um_detector999_Tz_scoremap.bp\" \"s3://mousebrainatlas-data/CSHL_scoremaps/10.0um/MD589/MD589_prep2_10.0um_detector999/MD589-N26-2015.07.30-17.44.37_MD589_1_0076_prep2_10.0um_detector999/MD589-N26-2015.07.30-17.44.37_MD589_1_0076_prep2_10.0um_detector999_Tz_scoremap.bp\"\n",
      "aws s3 cp \"/home/yuncong/CSHL_scoremap_viz/10.0um/Tz/MD589/detector999/prep2/MD589-N26-2015.07.30-17.44.37_MD589_1_0076_prep2_10.0um_Tz_detector999_scoremapViz.jpg\" \"s3://mousebrainatlas-data/CSHL_scoremap_viz/10.0um/Tz/MD589/detector999/prep2/MD589-N26-2015.07.30-17.44.37_MD589_1_0076_prep2_10.0um_Tz_detector999_scoremapViz.jpg\"\n"
     ]
    },
    {
     "name": "stderr",
     "output_type": "stream",
     "text": [
      "locate patches: 0.03 seconds\n",
      "Not using image_cache.\n",
      "Load image: 17.46 seconds.\n",
      "Extract patches: 18.38 seconds\n"
     ]
    },
    {
     "name": "stdout",
     "output_type": "stream",
     "text": [
      "(28425, 1, 224, 224)\n",
      "rm -rf \"/media/yuncong/BstemAtlasData/CSHL_data_processed/MD589/MD589_prep2_lossless_grayJpeg/MD589-IHC26-2015.07.30-23.01.56_MD589_1_0076_prep2_lossless_grayJpeg.jpg\" && mkdir -p \"/media/yuncong/BstemAtlasData/CSHL_data_processed/MD589/MD589_prep2_lossless_grayJpeg\"\n",
      "aws s3 cp \"s3://mousebrainatlas-data/CSHL_data_processed/MD589/MD589_prep2_lossless_grayJpeg/MD589-IHC26-2015.07.30-23.01.56_MD589_1_0076_prep2_lossless_grayJpeg.jpg\" \"/media/yuncong/BstemAtlasData/CSHL_data_processed/MD589/MD589_prep2_lossless_grayJpeg/MD589-IHC26-2015.07.30-23.01.56_MD589_1_0076_prep2_lossless_grayJpeg.jpg\"\n"
     ]
    },
    {
     "name": "stderr",
     "output_type": "stream",
     "text": [
      "Not using image_cache.\n"
     ]
    },
    {
     "name": "stdout",
     "output_type": "stream",
     "text": [
      "(549, 714, 3) (549, 714)\n",
      "aws s3 cp \"/home/yuncong/CSHL_scoremaps/10.0um/MD589/MD589_prep2_10.0um_detector999/MD589-IHC26-2015.07.30-23.01.56_MD589_1_0076_prep2_10.0um_detector999/MD589-IHC26-2015.07.30-23.01.56_MD589_1_0076_prep2_10.0um_detector999_Tz_scoremap.bp\" \"s3://mousebrainatlas-data/CSHL_scoremaps/10.0um/MD589/MD589_prep2_10.0um_detector999/MD589-IHC26-2015.07.30-23.01.56_MD589_1_0076_prep2_10.0um_detector999/MD589-IHC26-2015.07.30-23.01.56_MD589_1_0076_prep2_10.0um_detector999_Tz_scoremap.bp\"\n",
      "aws s3 cp \"/home/yuncong/CSHL_scoremap_viz/10.0um/Tz/MD589/detector999/prep2/MD589-IHC26-2015.07.30-23.01.56_MD589_1_0076_prep2_10.0um_Tz_detector999_scoremapViz.jpg\" \"s3://mousebrainatlas-data/CSHL_scoremap_viz/10.0um/Tz/MD589/detector999/prep2/MD589-IHC26-2015.07.30-23.01.56_MD589_1_0076_prep2_10.0um_Tz_detector999_scoremapViz.jpg\"\n"
     ]
    },
    {
     "name": "stderr",
     "output_type": "stream",
     "text": [
      "locate patches: 0.04 seconds\n",
      "Not using image_cache.\n",
      "Load image: 17.80 seconds.\n",
      "Extract patches: 18.72 seconds\n"
     ]
    },
    {
     "name": "stdout",
     "output_type": "stream",
     "text": [
      "(28519, 1, 224, 224)\n",
      "rm -rf \"/media/yuncong/BstemAtlasData/CSHL_data_processed/MD589/MD589_prep2_lossless_grayJpeg/MD589-N26-2015.07.30-17.44.37_MD589_2_0077_prep2_lossless_grayJpeg.jpg\" && mkdir -p \"/media/yuncong/BstemAtlasData/CSHL_data_processed/MD589/MD589_prep2_lossless_grayJpeg\"\n",
      "aws s3 cp \"s3://mousebrainatlas-data/CSHL_data_processed/MD589/MD589_prep2_lossless_grayJpeg/MD589-N26-2015.07.30-17.44.37_MD589_2_0077_prep2_lossless_grayJpeg.jpg\" \"/media/yuncong/BstemAtlasData/CSHL_data_processed/MD589/MD589_prep2_lossless_grayJpeg/MD589-N26-2015.07.30-17.44.37_MD589_2_0077_prep2_lossless_grayJpeg.jpg\"\n"
     ]
    },
    {
     "name": "stderr",
     "output_type": "stream",
     "text": [
      "Not using image_cache.\n"
     ]
    },
    {
     "name": "stdout",
     "output_type": "stream",
     "text": [
      "(549, 714, 3) (549, 714)\n",
      "aws s3 cp \"/home/yuncong/CSHL_scoremaps/10.0um/MD589/MD589_prep2_10.0um_detector999/MD589-N26-2015.07.30-17.44.37_MD589_2_0077_prep2_10.0um_detector999/MD589-N26-2015.07.30-17.44.37_MD589_2_0077_prep2_10.0um_detector999_Tz_scoremap.bp\" \"s3://mousebrainatlas-data/CSHL_scoremaps/10.0um/MD589/MD589_prep2_10.0um_detector999/MD589-N26-2015.07.30-17.44.37_MD589_2_0077_prep2_10.0um_detector999/MD589-N26-2015.07.30-17.44.37_MD589_2_0077_prep2_10.0um_detector999_Tz_scoremap.bp\"\n",
      "aws s3 cp \"/home/yuncong/CSHL_scoremap_viz/10.0um/Tz/MD589/detector999/prep2/MD589-N26-2015.07.30-17.44.37_MD589_2_0077_prep2_10.0um_Tz_detector999_scoremapViz.jpg\" \"s3://mousebrainatlas-data/CSHL_scoremap_viz/10.0um/Tz/MD589/detector999/prep2/MD589-N26-2015.07.30-17.44.37_MD589_2_0077_prep2_10.0um_Tz_detector999_scoremapViz.jpg\"\n"
     ]
    },
    {
     "name": "stderr",
     "output_type": "stream",
     "text": [
      "locate patches: 0.03 seconds\n",
      "Not using image_cache.\n",
      "Load image: 17.10 seconds.\n",
      "Extract patches: 18.01 seconds\n"
     ]
    },
    {
     "name": "stdout",
     "output_type": "stream",
     "text": [
      "(28727, 1, 224, 224)\n",
      "rm -rf \"/media/yuncong/BstemAtlasData/CSHL_data_processed/MD589/MD589_prep2_lossless_grayJpeg/MD589-IHC26-2015.07.30-23.01.56_MD589_2_0077_prep2_lossless_grayJpeg.jpg\" && mkdir -p \"/media/yuncong/BstemAtlasData/CSHL_data_processed/MD589/MD589_prep2_lossless_grayJpeg\"\n",
      "aws s3 cp \"s3://mousebrainatlas-data/CSHL_data_processed/MD589/MD589_prep2_lossless_grayJpeg/MD589-IHC26-2015.07.30-23.01.56_MD589_2_0077_prep2_lossless_grayJpeg.jpg\" \"/media/yuncong/BstemAtlasData/CSHL_data_processed/MD589/MD589_prep2_lossless_grayJpeg/MD589-IHC26-2015.07.30-23.01.56_MD589_2_0077_prep2_lossless_grayJpeg.jpg\"\n"
     ]
    },
    {
     "name": "stderr",
     "output_type": "stream",
     "text": [
      "Not using image_cache.\n"
     ]
    },
    {
     "name": "stdout",
     "output_type": "stream",
     "text": [
      "(549, 714, 3) (549, 714)\n",
      "aws s3 cp \"/home/yuncong/CSHL_scoremaps/10.0um/MD589/MD589_prep2_10.0um_detector999/MD589-IHC26-2015.07.30-23.01.56_MD589_2_0077_prep2_10.0um_detector999/MD589-IHC26-2015.07.30-23.01.56_MD589_2_0077_prep2_10.0um_detector999_Tz_scoremap.bp\" \"s3://mousebrainatlas-data/CSHL_scoremaps/10.0um/MD589/MD589_prep2_10.0um_detector999/MD589-IHC26-2015.07.30-23.01.56_MD589_2_0077_prep2_10.0um_detector999/MD589-IHC26-2015.07.30-23.01.56_MD589_2_0077_prep2_10.0um_detector999_Tz_scoremap.bp\"\n",
      "aws s3 cp \"/home/yuncong/CSHL_scoremap_viz/10.0um/Tz/MD589/detector999/prep2/MD589-IHC26-2015.07.30-23.01.56_MD589_2_0077_prep2_10.0um_Tz_detector999_scoremapViz.jpg\" \"s3://mousebrainatlas-data/CSHL_scoremap_viz/10.0um/Tz/MD589/detector999/prep2/MD589-IHC26-2015.07.30-23.01.56_MD589_2_0077_prep2_10.0um_Tz_detector999_scoremapViz.jpg\"\n"
     ]
    },
    {
     "name": "stderr",
     "output_type": "stream",
     "text": [
      "locate patches: 0.04 seconds\n",
      "Not using image_cache.\n",
      "Load image: 18.16 seconds.\n",
      "Extract patches: 19.08 seconds\n"
     ]
    },
    {
     "name": "stdout",
     "output_type": "stream",
     "text": [
      "(28907, 1, 224, 224)\n",
      "rm -rf \"/media/yuncong/BstemAtlasData/CSHL_data_processed/MD589/MD589_prep2_lossless_grayJpeg/MD589-N26-2015.07.30-17.44.37_MD589_3_0078_prep2_lossless_grayJpeg.jpg\" && mkdir -p \"/media/yuncong/BstemAtlasData/CSHL_data_processed/MD589/MD589_prep2_lossless_grayJpeg\"\n",
      "aws s3 cp \"s3://mousebrainatlas-data/CSHL_data_processed/MD589/MD589_prep2_lossless_grayJpeg/MD589-N26-2015.07.30-17.44.37_MD589_3_0078_prep2_lossless_grayJpeg.jpg\" \"/media/yuncong/BstemAtlasData/CSHL_data_processed/MD589/MD589_prep2_lossless_grayJpeg/MD589-N26-2015.07.30-17.44.37_MD589_3_0078_prep2_lossless_grayJpeg.jpg\"\n"
     ]
    },
    {
     "name": "stderr",
     "output_type": "stream",
     "text": [
      "Not using image_cache.\n"
     ]
    },
    {
     "name": "stdout",
     "output_type": "stream",
     "text": [
      "(549, 714, 3) (549, 714)\n",
      "aws s3 cp \"/home/yuncong/CSHL_scoremaps/10.0um/MD589/MD589_prep2_10.0um_detector999/MD589-N26-2015.07.30-17.44.37_MD589_3_0078_prep2_10.0um_detector999/MD589-N26-2015.07.30-17.44.37_MD589_3_0078_prep2_10.0um_detector999_Tz_scoremap.bp\" \"s3://mousebrainatlas-data/CSHL_scoremaps/10.0um/MD589/MD589_prep2_10.0um_detector999/MD589-N26-2015.07.30-17.44.37_MD589_3_0078_prep2_10.0um_detector999/MD589-N26-2015.07.30-17.44.37_MD589_3_0078_prep2_10.0um_detector999_Tz_scoremap.bp\"\n",
      "aws s3 cp \"/home/yuncong/CSHL_scoremap_viz/10.0um/Tz/MD589/detector999/prep2/MD589-N26-2015.07.30-17.44.37_MD589_3_0078_prep2_10.0um_Tz_detector999_scoremapViz.jpg\" \"s3://mousebrainatlas-data/CSHL_scoremap_viz/10.0um/Tz/MD589/detector999/prep2/MD589-N26-2015.07.30-17.44.37_MD589_3_0078_prep2_10.0um_Tz_detector999_scoremapViz.jpg\"\n"
     ]
    },
    {
     "name": "stderr",
     "output_type": "stream",
     "text": [
      "locate patches: 0.03 seconds\n",
      "Not using image_cache.\n",
      "Load image: 17.71 seconds.\n",
      "Extract patches: 18.62 seconds\n"
     ]
    },
    {
     "name": "stdout",
     "output_type": "stream",
     "text": [
      "(28975, 1, 224, 224)\n",
      "rm -rf \"/media/yuncong/BstemAtlasData/CSHL_data_processed/MD589/MD589_prep2_lossless_grayJpeg/MD589-IHC26-2015.07.30-23.01.56_MD589_3_0078_prep2_lossless_grayJpeg.jpg\" && mkdir -p \"/media/yuncong/BstemAtlasData/CSHL_data_processed/MD589/MD589_prep2_lossless_grayJpeg\"\n",
      "aws s3 cp \"s3://mousebrainatlas-data/CSHL_data_processed/MD589/MD589_prep2_lossless_grayJpeg/MD589-IHC26-2015.07.30-23.01.56_MD589_3_0078_prep2_lossless_grayJpeg.jpg\" \"/media/yuncong/BstemAtlasData/CSHL_data_processed/MD589/MD589_prep2_lossless_grayJpeg/MD589-IHC26-2015.07.30-23.01.56_MD589_3_0078_prep2_lossless_grayJpeg.jpg\"\n"
     ]
    },
    {
     "name": "stderr",
     "output_type": "stream",
     "text": [
      "Not using image_cache.\n"
     ]
    },
    {
     "name": "stdout",
     "output_type": "stream",
     "text": [
      "(549, 714, 3) (549, 714)\n",
      "aws s3 cp \"/home/yuncong/CSHL_scoremaps/10.0um/MD589/MD589_prep2_10.0um_detector999/MD589-IHC26-2015.07.30-23.01.56_MD589_3_0078_prep2_10.0um_detector999/MD589-IHC26-2015.07.30-23.01.56_MD589_3_0078_prep2_10.0um_detector999_Tz_scoremap.bp\" \"s3://mousebrainatlas-data/CSHL_scoremaps/10.0um/MD589/MD589_prep2_10.0um_detector999/MD589-IHC26-2015.07.30-23.01.56_MD589_3_0078_prep2_10.0um_detector999/MD589-IHC26-2015.07.30-23.01.56_MD589_3_0078_prep2_10.0um_detector999_Tz_scoremap.bp\"\n",
      "aws s3 cp \"/home/yuncong/CSHL_scoremap_viz/10.0um/Tz/MD589/detector999/prep2/MD589-IHC26-2015.07.30-23.01.56_MD589_3_0078_prep2_10.0um_Tz_detector999_scoremapViz.jpg\" \"s3://mousebrainatlas-data/CSHL_scoremap_viz/10.0um/Tz/MD589/detector999/prep2/MD589-IHC26-2015.07.30-23.01.56_MD589_3_0078_prep2_10.0um_Tz_detector999_scoremapViz.jpg\"\n"
     ]
    },
    {
     "name": "stderr",
     "output_type": "stream",
     "text": [
      "locate patches: 0.03 seconds\n",
      "Not using image_cache.\n",
      "Load image: 20.30 seconds.\n",
      "Extract patches: 21.23 seconds\n"
     ]
    },
    {
     "name": "stdout",
     "output_type": "stream",
     "text": [
      "(29210, 1, 224, 224)\n",
      "rm -rf \"/media/yuncong/BstemAtlasData/CSHL_data_processed/MD589/MD589_prep2_lossless_grayJpeg/MD589-N27-2015.07.30-17.49.06_MD589_1_0079_prep2_lossless_grayJpeg.jpg\" && mkdir -p \"/media/yuncong/BstemAtlasData/CSHL_data_processed/MD589/MD589_prep2_lossless_grayJpeg\"\n",
      "aws s3 cp \"s3://mousebrainatlas-data/CSHL_data_processed/MD589/MD589_prep2_lossless_grayJpeg/MD589-N27-2015.07.30-17.49.06_MD589_1_0079_prep2_lossless_grayJpeg.jpg\" \"/media/yuncong/BstemAtlasData/CSHL_data_processed/MD589/MD589_prep2_lossless_grayJpeg/MD589-N27-2015.07.30-17.49.06_MD589_1_0079_prep2_lossless_grayJpeg.jpg\"\n"
     ]
    },
    {
     "name": "stderr",
     "output_type": "stream",
     "text": [
      "Not using image_cache.\n"
     ]
    },
    {
     "name": "stdout",
     "output_type": "stream",
     "text": [
      "(549, 714, 3) (549, 714)\n",
      "aws s3 cp \"/home/yuncong/CSHL_scoremaps/10.0um/MD589/MD589_prep2_10.0um_detector999/MD589-N27-2015.07.30-17.49.06_MD589_1_0079_prep2_10.0um_detector999/MD589-N27-2015.07.30-17.49.06_MD589_1_0079_prep2_10.0um_detector999_Tz_scoremap.bp\" \"s3://mousebrainatlas-data/CSHL_scoremaps/10.0um/MD589/MD589_prep2_10.0um_detector999/MD589-N27-2015.07.30-17.49.06_MD589_1_0079_prep2_10.0um_detector999/MD589-N27-2015.07.30-17.49.06_MD589_1_0079_prep2_10.0um_detector999_Tz_scoremap.bp\"\n",
      "aws s3 cp \"/home/yuncong/CSHL_scoremap_viz/10.0um/Tz/MD589/detector999/prep2/MD589-N27-2015.07.30-17.49.06_MD589_1_0079_prep2_10.0um_Tz_detector999_scoremapViz.jpg\" \"s3://mousebrainatlas-data/CSHL_scoremap_viz/10.0um/Tz/MD589/detector999/prep2/MD589-N27-2015.07.30-17.49.06_MD589_1_0079_prep2_10.0um_Tz_detector999_scoremapViz.jpg\"\n"
     ]
    },
    {
     "name": "stderr",
     "output_type": "stream",
     "text": [
      "locate patches: 0.04 seconds\n",
      "Not using image_cache.\n",
      "Load image: 19.05 seconds.\n",
      "Extract patches: 19.97 seconds\n"
     ]
    },
    {
     "name": "stdout",
     "output_type": "stream",
     "text": [
      "(29526, 1, 224, 224)\n",
      "rm -rf \"/media/yuncong/BstemAtlasData/CSHL_data_processed/MD589/MD589_prep2_lossless_grayJpeg/MD589-IHC27-2015.07.30-23.06.26_MD589_1_0079_prep2_lossless_grayJpeg.jpg\" && mkdir -p \"/media/yuncong/BstemAtlasData/CSHL_data_processed/MD589/MD589_prep2_lossless_grayJpeg\"\n",
      "aws s3 cp \"s3://mousebrainatlas-data/CSHL_data_processed/MD589/MD589_prep2_lossless_grayJpeg/MD589-IHC27-2015.07.30-23.06.26_MD589_1_0079_prep2_lossless_grayJpeg.jpg\" \"/media/yuncong/BstemAtlasData/CSHL_data_processed/MD589/MD589_prep2_lossless_grayJpeg/MD589-IHC27-2015.07.30-23.06.26_MD589_1_0079_prep2_lossless_grayJpeg.jpg\"\n"
     ]
    },
    {
     "name": "stderr",
     "output_type": "stream",
     "text": [
      "Not using image_cache.\n"
     ]
    },
    {
     "name": "stdout",
     "output_type": "stream",
     "text": [
      "(549, 714, 3) (549, 714)\n",
      "aws s3 cp \"/home/yuncong/CSHL_scoremaps/10.0um/MD589/MD589_prep2_10.0um_detector999/MD589-IHC27-2015.07.30-23.06.26_MD589_1_0079_prep2_10.0um_detector999/MD589-IHC27-2015.07.30-23.06.26_MD589_1_0079_prep2_10.0um_detector999_Tz_scoremap.bp\" \"s3://mousebrainatlas-data/CSHL_scoremaps/10.0um/MD589/MD589_prep2_10.0um_detector999/MD589-IHC27-2015.07.30-23.06.26_MD589_1_0079_prep2_10.0um_detector999/MD589-IHC27-2015.07.30-23.06.26_MD589_1_0079_prep2_10.0um_detector999_Tz_scoremap.bp\"\n",
      "aws s3 cp \"/home/yuncong/CSHL_scoremap_viz/10.0um/Tz/MD589/detector999/prep2/MD589-IHC27-2015.07.30-23.06.26_MD589_1_0079_prep2_10.0um_Tz_detector999_scoremapViz.jpg\" \"s3://mousebrainatlas-data/CSHL_scoremap_viz/10.0um/Tz/MD589/detector999/prep2/MD589-IHC27-2015.07.30-23.06.26_MD589_1_0079_prep2_10.0um_Tz_detector999_scoremapViz.jpg\"\n"
     ]
    },
    {
     "name": "stderr",
     "output_type": "stream",
     "text": [
      "locate patches: 0.03 seconds\n",
      "Not using image_cache.\n",
      "Load image: 17.96 seconds.\n",
      "Extract patches: 18.89 seconds\n"
     ]
    },
    {
     "name": "stdout",
     "output_type": "stream",
     "text": [
      "(29841, 1, 224, 224)\n",
      "rm -rf \"/media/yuncong/BstemAtlasData/CSHL_data_processed/MD589/MD589_prep2_lossless_grayJpeg/MD589-N27-2015.07.30-17.49.06_MD589_2_0080_prep2_lossless_grayJpeg.jpg\" && mkdir -p \"/media/yuncong/BstemAtlasData/CSHL_data_processed/MD589/MD589_prep2_lossless_grayJpeg\"\n",
      "aws s3 cp \"s3://mousebrainatlas-data/CSHL_data_processed/MD589/MD589_prep2_lossless_grayJpeg/MD589-N27-2015.07.30-17.49.06_MD589_2_0080_prep2_lossless_grayJpeg.jpg\" \"/media/yuncong/BstemAtlasData/CSHL_data_processed/MD589/MD589_prep2_lossless_grayJpeg/MD589-N27-2015.07.30-17.49.06_MD589_2_0080_prep2_lossless_grayJpeg.jpg\"\n"
     ]
    },
    {
     "name": "stderr",
     "output_type": "stream",
     "text": [
      "Not using image_cache.\n"
     ]
    },
    {
     "name": "stdout",
     "output_type": "stream",
     "text": [
      "(549, 714, 3) (549, 714)\n",
      "aws s3 cp \"/home/yuncong/CSHL_scoremaps/10.0um/MD589/MD589_prep2_10.0um_detector999/MD589-N27-2015.07.30-17.49.06_MD589_2_0080_prep2_10.0um_detector999/MD589-N27-2015.07.30-17.49.06_MD589_2_0080_prep2_10.0um_detector999_Tz_scoremap.bp\" \"s3://mousebrainatlas-data/CSHL_scoremaps/10.0um/MD589/MD589_prep2_10.0um_detector999/MD589-N27-2015.07.30-17.49.06_MD589_2_0080_prep2_10.0um_detector999/MD589-N27-2015.07.30-17.49.06_MD589_2_0080_prep2_10.0um_detector999_Tz_scoremap.bp\"\n",
      "aws s3 cp \"/home/yuncong/CSHL_scoremap_viz/10.0um/Tz/MD589/detector999/prep2/MD589-N27-2015.07.30-17.49.06_MD589_2_0080_prep2_10.0um_Tz_detector999_scoremapViz.jpg\" \"s3://mousebrainatlas-data/CSHL_scoremap_viz/10.0um/Tz/MD589/detector999/prep2/MD589-N27-2015.07.30-17.49.06_MD589_2_0080_prep2_10.0um_Tz_detector999_scoremapViz.jpg\"\n"
     ]
    },
    {
     "name": "stderr",
     "output_type": "stream",
     "text": [
      "locate patches: 0.04 seconds\n",
      "Not using image_cache.\n",
      "Load image: 18.13 seconds.\n",
      "Extract patches: 19.12 seconds\n"
     ]
    },
    {
     "name": "stdout",
     "output_type": "stream",
     "text": [
      "(29974, 1, 224, 224)\n",
      "rm -rf \"/media/yuncong/BstemAtlasData/CSHL_data_processed/MD589/MD589_prep2_lossless_grayJpeg/MD589-IHC27-2015.07.30-23.06.26_MD589_2_0080_prep2_lossless_grayJpeg.jpg\" && mkdir -p \"/media/yuncong/BstemAtlasData/CSHL_data_processed/MD589/MD589_prep2_lossless_grayJpeg\"\n",
      "aws s3 cp \"s3://mousebrainatlas-data/CSHL_data_processed/MD589/MD589_prep2_lossless_grayJpeg/MD589-IHC27-2015.07.30-23.06.26_MD589_2_0080_prep2_lossless_grayJpeg.jpg\" \"/media/yuncong/BstemAtlasData/CSHL_data_processed/MD589/MD589_prep2_lossless_grayJpeg/MD589-IHC27-2015.07.30-23.06.26_MD589_2_0080_prep2_lossless_grayJpeg.jpg\"\n"
     ]
    },
    {
     "name": "stderr",
     "output_type": "stream",
     "text": [
      "Not using image_cache.\n"
     ]
    },
    {
     "name": "stdout",
     "output_type": "stream",
     "text": [
      "(549, 714, 3) (549, 714)\n",
      "aws s3 cp \"/home/yuncong/CSHL_scoremaps/10.0um/MD589/MD589_prep2_10.0um_detector999/MD589-IHC27-2015.07.30-23.06.26_MD589_2_0080_prep2_10.0um_detector999/MD589-IHC27-2015.07.30-23.06.26_MD589_2_0080_prep2_10.0um_detector999_Tz_scoremap.bp\" \"s3://mousebrainatlas-data/CSHL_scoremaps/10.0um/MD589/MD589_prep2_10.0um_detector999/MD589-IHC27-2015.07.30-23.06.26_MD589_2_0080_prep2_10.0um_detector999/MD589-IHC27-2015.07.30-23.06.26_MD589_2_0080_prep2_10.0um_detector999_Tz_scoremap.bp\"\n",
      "aws s3 cp \"/home/yuncong/CSHL_scoremap_viz/10.0um/Tz/MD589/detector999/prep2/MD589-IHC27-2015.07.30-23.06.26_MD589_2_0080_prep2_10.0um_Tz_detector999_scoremapViz.jpg\" \"s3://mousebrainatlas-data/CSHL_scoremap_viz/10.0um/Tz/MD589/detector999/prep2/MD589-IHC27-2015.07.30-23.06.26_MD589_2_0080_prep2_10.0um_Tz_detector999_scoremapViz.jpg\"\n"
     ]
    },
    {
     "name": "stderr",
     "output_type": "stream",
     "text": [
      "locate patches: 0.06 seconds\n",
      "Not using image_cache.\n",
      "Load image: 19.40 seconds.\n",
      "Extract patches: 20.35 seconds\n"
     ]
    },
    {
     "name": "stdout",
     "output_type": "stream",
     "text": [
      "(30128, 1, 224, 224)\n",
      "rm -rf \"/media/yuncong/BstemAtlasData/CSHL_data_processed/MD589/MD589_prep2_lossless_grayJpeg/MD589-N27-2015.07.30-17.49.06_MD589_3_0081_prep2_lossless_grayJpeg.jpg\" && mkdir -p \"/media/yuncong/BstemAtlasData/CSHL_data_processed/MD589/MD589_prep2_lossless_grayJpeg\"\n",
      "aws s3 cp \"s3://mousebrainatlas-data/CSHL_data_processed/MD589/MD589_prep2_lossless_grayJpeg/MD589-N27-2015.07.30-17.49.06_MD589_3_0081_prep2_lossless_grayJpeg.jpg\" \"/media/yuncong/BstemAtlasData/CSHL_data_processed/MD589/MD589_prep2_lossless_grayJpeg/MD589-N27-2015.07.30-17.49.06_MD589_3_0081_prep2_lossless_grayJpeg.jpg\"\n"
     ]
    },
    {
     "name": "stderr",
     "output_type": "stream",
     "text": [
      "Not using image_cache.\n"
     ]
    },
    {
     "name": "stdout",
     "output_type": "stream",
     "text": [
      "(549, 714, 3) (549, 714)\n",
      "aws s3 cp \"/home/yuncong/CSHL_scoremaps/10.0um/MD589/MD589_prep2_10.0um_detector999/MD589-N27-2015.07.30-17.49.06_MD589_3_0081_prep2_10.0um_detector999/MD589-N27-2015.07.30-17.49.06_MD589_3_0081_prep2_10.0um_detector999_Tz_scoremap.bp\" \"s3://mousebrainatlas-data/CSHL_scoremaps/10.0um/MD589/MD589_prep2_10.0um_detector999/MD589-N27-2015.07.30-17.49.06_MD589_3_0081_prep2_10.0um_detector999/MD589-N27-2015.07.30-17.49.06_MD589_3_0081_prep2_10.0um_detector999_Tz_scoremap.bp\"\n",
      "aws s3 cp \"/home/yuncong/CSHL_scoremap_viz/10.0um/Tz/MD589/detector999/prep2/MD589-N27-2015.07.30-17.49.06_MD589_3_0081_prep2_10.0um_Tz_detector999_scoremapViz.jpg\" \"s3://mousebrainatlas-data/CSHL_scoremap_viz/10.0um/Tz/MD589/detector999/prep2/MD589-N27-2015.07.30-17.49.06_MD589_3_0081_prep2_10.0um_Tz_detector999_scoremapViz.jpg\"\n"
     ]
    },
    {
     "name": "stderr",
     "output_type": "stream",
     "text": [
      "locate patches: 0.03 seconds\n",
      "Not using image_cache.\n",
      "Load image: 19.87 seconds.\n",
      "Extract patches: 20.83 seconds\n"
     ]
    },
    {
     "name": "stdout",
     "output_type": "stream",
     "text": [
      "(30135, 1, 224, 224)\n",
      "rm -rf \"/media/yuncong/BstemAtlasData/CSHL_data_processed/MD589/MD589_prep2_lossless_grayJpeg/MD589-IHC27-2015.07.30-23.06.26_MD589_3_0081_prep2_lossless_grayJpeg.jpg\" && mkdir -p \"/media/yuncong/BstemAtlasData/CSHL_data_processed/MD589/MD589_prep2_lossless_grayJpeg\"\n",
      "aws s3 cp \"s3://mousebrainatlas-data/CSHL_data_processed/MD589/MD589_prep2_lossless_grayJpeg/MD589-IHC27-2015.07.30-23.06.26_MD589_3_0081_prep2_lossless_grayJpeg.jpg\" \"/media/yuncong/BstemAtlasData/CSHL_data_processed/MD589/MD589_prep2_lossless_grayJpeg/MD589-IHC27-2015.07.30-23.06.26_MD589_3_0081_prep2_lossless_grayJpeg.jpg\"\n"
     ]
    },
    {
     "name": "stderr",
     "output_type": "stream",
     "text": [
      "Not using image_cache.\n"
     ]
    },
    {
     "name": "stdout",
     "output_type": "stream",
     "text": [
      "(549, 714, 3) (549, 714)\n",
      "aws s3 cp \"/home/yuncong/CSHL_scoremaps/10.0um/MD589/MD589_prep2_10.0um_detector999/MD589-IHC27-2015.07.30-23.06.26_MD589_3_0081_prep2_10.0um_detector999/MD589-IHC27-2015.07.30-23.06.26_MD589_3_0081_prep2_10.0um_detector999_Tz_scoremap.bp\" \"s3://mousebrainatlas-data/CSHL_scoremaps/10.0um/MD589/MD589_prep2_10.0um_detector999/MD589-IHC27-2015.07.30-23.06.26_MD589_3_0081_prep2_10.0um_detector999/MD589-IHC27-2015.07.30-23.06.26_MD589_3_0081_prep2_10.0um_detector999_Tz_scoremap.bp\"\n",
      "aws s3 cp \"/home/yuncong/CSHL_scoremap_viz/10.0um/Tz/MD589/detector999/prep2/MD589-IHC27-2015.07.30-23.06.26_MD589_3_0081_prep2_10.0um_Tz_detector999_scoremapViz.jpg\" \"s3://mousebrainatlas-data/CSHL_scoremap_viz/10.0um/Tz/MD589/detector999/prep2/MD589-IHC27-2015.07.30-23.06.26_MD589_3_0081_prep2_10.0um_Tz_detector999_scoremapViz.jpg\"\n"
     ]
    },
    {
     "name": "stderr",
     "output_type": "stream",
     "text": [
      "locate patches: 0.03 seconds\n",
      "Not using image_cache.\n",
      "Load image: 20.28 seconds.\n",
      "Extract patches: 21.22 seconds\n"
     ]
    },
    {
     "name": "stdout",
     "output_type": "stream",
     "text": [
      "(30205, 1, 224, 224)\n",
      "rm -rf \"/media/yuncong/BstemAtlasData/CSHL_data_processed/MD589/MD589_prep2_lossless_grayJpeg/MD589-N28-2015.07.30-17.53.43_MD589_1_0082_prep2_lossless_grayJpeg.jpg\" && mkdir -p \"/media/yuncong/BstemAtlasData/CSHL_data_processed/MD589/MD589_prep2_lossless_grayJpeg\"\n",
      "aws s3 cp \"s3://mousebrainatlas-data/CSHL_data_processed/MD589/MD589_prep2_lossless_grayJpeg/MD589-N28-2015.07.30-17.53.43_MD589_1_0082_prep2_lossless_grayJpeg.jpg\" \"/media/yuncong/BstemAtlasData/CSHL_data_processed/MD589/MD589_prep2_lossless_grayJpeg/MD589-N28-2015.07.30-17.53.43_MD589_1_0082_prep2_lossless_grayJpeg.jpg\"\n"
     ]
    },
    {
     "name": "stderr",
     "output_type": "stream",
     "text": [
      "Not using image_cache.\n"
     ]
    },
    {
     "name": "stdout",
     "output_type": "stream",
     "text": [
      "(549, 714, 3) (549, 714)\n",
      "aws s3 cp \"/home/yuncong/CSHL_scoremaps/10.0um/MD589/MD589_prep2_10.0um_detector999/MD589-N28-2015.07.30-17.53.43_MD589_1_0082_prep2_10.0um_detector999/MD589-N28-2015.07.30-17.53.43_MD589_1_0082_prep2_10.0um_detector999_Tz_scoremap.bp\" \"s3://mousebrainatlas-data/CSHL_scoremaps/10.0um/MD589/MD589_prep2_10.0um_detector999/MD589-N28-2015.07.30-17.53.43_MD589_1_0082_prep2_10.0um_detector999/MD589-N28-2015.07.30-17.53.43_MD589_1_0082_prep2_10.0um_detector999_Tz_scoremap.bp\"\n",
      "aws s3 cp \"/home/yuncong/CSHL_scoremap_viz/10.0um/Tz/MD589/detector999/prep2/MD589-N28-2015.07.30-17.53.43_MD589_1_0082_prep2_10.0um_Tz_detector999_scoremapViz.jpg\" \"s3://mousebrainatlas-data/CSHL_scoremap_viz/10.0um/Tz/MD589/detector999/prep2/MD589-N28-2015.07.30-17.53.43_MD589_1_0082_prep2_10.0um_Tz_detector999_scoremapViz.jpg\"\n"
     ]
    },
    {
     "name": "stderr",
     "output_type": "stream",
     "text": [
      "locate patches: 0.03 seconds\n",
      "Not using image_cache.\n",
      "Load image: 20.81 seconds.\n",
      "Extract patches: 21.79 seconds\n"
     ]
    },
    {
     "name": "stdout",
     "output_type": "stream",
     "text": [
      "(30374, 1, 224, 224)\n",
      "rm -rf \"/media/yuncong/BstemAtlasData/CSHL_data_processed/MD589/MD589_prep2_lossless_grayJpeg/MD589-IHC28-2015.07.30-23.11.15_MD589_1_0082_prep2_lossless_grayJpeg.jpg\" && mkdir -p \"/media/yuncong/BstemAtlasData/CSHL_data_processed/MD589/MD589_prep2_lossless_grayJpeg\"\n",
      "aws s3 cp \"s3://mousebrainatlas-data/CSHL_data_processed/MD589/MD589_prep2_lossless_grayJpeg/MD589-IHC28-2015.07.30-23.11.15_MD589_1_0082_prep2_lossless_grayJpeg.jpg\" \"/media/yuncong/BstemAtlasData/CSHL_data_processed/MD589/MD589_prep2_lossless_grayJpeg/MD589-IHC28-2015.07.30-23.11.15_MD589_1_0082_prep2_lossless_grayJpeg.jpg\"\n"
     ]
    },
    {
     "name": "stderr",
     "output_type": "stream",
     "text": [
      "Not using image_cache.\n"
     ]
    },
    {
     "name": "stdout",
     "output_type": "stream",
     "text": [
      "(549, 714, 3) (549, 714)\n",
      "aws s3 cp \"/home/yuncong/CSHL_scoremaps/10.0um/MD589/MD589_prep2_10.0um_detector999/MD589-IHC28-2015.07.30-23.11.15_MD589_1_0082_prep2_10.0um_detector999/MD589-IHC28-2015.07.30-23.11.15_MD589_1_0082_prep2_10.0um_detector999_Tz_scoremap.bp\" \"s3://mousebrainatlas-data/CSHL_scoremaps/10.0um/MD589/MD589_prep2_10.0um_detector999/MD589-IHC28-2015.07.30-23.11.15_MD589_1_0082_prep2_10.0um_detector999/MD589-IHC28-2015.07.30-23.11.15_MD589_1_0082_prep2_10.0um_detector999_Tz_scoremap.bp\"\n",
      "aws s3 cp \"/home/yuncong/CSHL_scoremap_viz/10.0um/Tz/MD589/detector999/prep2/MD589-IHC28-2015.07.30-23.11.15_MD589_1_0082_prep2_10.0um_Tz_detector999_scoremapViz.jpg\" \"s3://mousebrainatlas-data/CSHL_scoremap_viz/10.0um/Tz/MD589/detector999/prep2/MD589-IHC28-2015.07.30-23.11.15_MD589_1_0082_prep2_10.0um_Tz_detector999_scoremapViz.jpg\"\n"
     ]
    },
    {
     "name": "stderr",
     "output_type": "stream",
     "text": [
      "locate patches: 0.04 seconds\n",
      "Not using image_cache.\n",
      "Load image: 19.15 seconds.\n",
      "Extract patches: 20.28 seconds\n"
     ]
    },
    {
     "name": "stdout",
     "output_type": "stream",
     "text": [
      "(30504, 1, 224, 224)\n",
      "rm -rf \"/media/yuncong/BstemAtlasData/CSHL_data_processed/MD589/MD589_prep2_lossless_grayJpeg/MD589-N28-2015.07.30-17.53.43_MD589_2_0083_prep2_lossless_grayJpeg.jpg\" && mkdir -p \"/media/yuncong/BstemAtlasData/CSHL_data_processed/MD589/MD589_prep2_lossless_grayJpeg\"\n",
      "aws s3 cp \"s3://mousebrainatlas-data/CSHL_data_processed/MD589/MD589_prep2_lossless_grayJpeg/MD589-N28-2015.07.30-17.53.43_MD589_2_0083_prep2_lossless_grayJpeg.jpg\" \"/media/yuncong/BstemAtlasData/CSHL_data_processed/MD589/MD589_prep2_lossless_grayJpeg/MD589-N28-2015.07.30-17.53.43_MD589_2_0083_prep2_lossless_grayJpeg.jpg\"\n"
     ]
    },
    {
     "name": "stderr",
     "output_type": "stream",
     "text": [
      "Not using image_cache.\n"
     ]
    },
    {
     "name": "stdout",
     "output_type": "stream",
     "text": [
      "(549, 714, 3) (549, 714)\n",
      "aws s3 cp \"/home/yuncong/CSHL_scoremaps/10.0um/MD589/MD589_prep2_10.0um_detector999/MD589-N28-2015.07.30-17.53.43_MD589_2_0083_prep2_10.0um_detector999/MD589-N28-2015.07.30-17.53.43_MD589_2_0083_prep2_10.0um_detector999_Tz_scoremap.bp\" \"s3://mousebrainatlas-data/CSHL_scoremaps/10.0um/MD589/MD589_prep2_10.0um_detector999/MD589-N28-2015.07.30-17.53.43_MD589_2_0083_prep2_10.0um_detector999/MD589-N28-2015.07.30-17.53.43_MD589_2_0083_prep2_10.0um_detector999_Tz_scoremap.bp\"\n",
      "aws s3 cp \"/home/yuncong/CSHL_scoremap_viz/10.0um/Tz/MD589/detector999/prep2/MD589-N28-2015.07.30-17.53.43_MD589_2_0083_prep2_10.0um_Tz_detector999_scoremapViz.jpg\" \"s3://mousebrainatlas-data/CSHL_scoremap_viz/10.0um/Tz/MD589/detector999/prep2/MD589-N28-2015.07.30-17.53.43_MD589_2_0083_prep2_10.0um_Tz_detector999_scoremapViz.jpg\"\n"
     ]
    },
    {
     "name": "stderr",
     "output_type": "stream",
     "text": [
      "locate patches: 0.04 seconds\n",
      "Not using image_cache.\n",
      "Load image: 18.25 seconds.\n",
      "Extract patches: 19.20 seconds\n"
     ]
    },
    {
     "name": "stdout",
     "output_type": "stream",
     "text": [
      "(30709, 1, 224, 224)\n",
      "rm -rf \"/media/yuncong/BstemAtlasData/CSHL_data_processed/MD589/MD589_prep2_lossless_grayJpeg/MD589-IHC28-2015.07.30-23.11.15_MD589_2_0083_prep2_lossless_grayJpeg.jpg\" && mkdir -p \"/media/yuncong/BstemAtlasData/CSHL_data_processed/MD589/MD589_prep2_lossless_grayJpeg\"\n",
      "aws s3 cp \"s3://mousebrainatlas-data/CSHL_data_processed/MD589/MD589_prep2_lossless_grayJpeg/MD589-IHC28-2015.07.30-23.11.15_MD589_2_0083_prep2_lossless_grayJpeg.jpg\" \"/media/yuncong/BstemAtlasData/CSHL_data_processed/MD589/MD589_prep2_lossless_grayJpeg/MD589-IHC28-2015.07.30-23.11.15_MD589_2_0083_prep2_lossless_grayJpeg.jpg\"\n"
     ]
    },
    {
     "name": "stderr",
     "output_type": "stream",
     "text": [
      "Not using image_cache.\n"
     ]
    },
    {
     "name": "stdout",
     "output_type": "stream",
     "text": [
      "(549, 714, 3) (549, 714)\n",
      "aws s3 cp \"/home/yuncong/CSHL_scoremaps/10.0um/MD589/MD589_prep2_10.0um_detector999/MD589-IHC28-2015.07.30-23.11.15_MD589_2_0083_prep2_10.0um_detector999/MD589-IHC28-2015.07.30-23.11.15_MD589_2_0083_prep2_10.0um_detector999_Tz_scoremap.bp\" \"s3://mousebrainatlas-data/CSHL_scoremaps/10.0um/MD589/MD589_prep2_10.0um_detector999/MD589-IHC28-2015.07.30-23.11.15_MD589_2_0083_prep2_10.0um_detector999/MD589-IHC28-2015.07.30-23.11.15_MD589_2_0083_prep2_10.0um_detector999_Tz_scoremap.bp\"\n",
      "aws s3 cp \"/home/yuncong/CSHL_scoremap_viz/10.0um/Tz/MD589/detector999/prep2/MD589-IHC28-2015.07.30-23.11.15_MD589_2_0083_prep2_10.0um_Tz_detector999_scoremapViz.jpg\" \"s3://mousebrainatlas-data/CSHL_scoremap_viz/10.0um/Tz/MD589/detector999/prep2/MD589-IHC28-2015.07.30-23.11.15_MD589_2_0083_prep2_10.0um_Tz_detector999_scoremapViz.jpg\"\n"
     ]
    },
    {
     "name": "stderr",
     "output_type": "stream",
     "text": [
      "locate patches: 0.05 seconds\n",
      "Not using image_cache.\n",
      "Load image: 19.05 seconds.\n",
      "Extract patches: 20.19 seconds\n"
     ]
    },
    {
     "name": "stdout",
     "output_type": "stream",
     "text": [
      "(30687, 1, 224, 224)\n",
      "rm -rf \"/media/yuncong/BstemAtlasData/CSHL_data_processed/MD589/MD589_prep2_lossless_grayJpeg/MD589-N28-2015.07.30-17.53.43_MD589_3_0084_prep2_lossless_grayJpeg.jpg\" && mkdir -p \"/media/yuncong/BstemAtlasData/CSHL_data_processed/MD589/MD589_prep2_lossless_grayJpeg\"\n",
      "aws s3 cp \"s3://mousebrainatlas-data/CSHL_data_processed/MD589/MD589_prep2_lossless_grayJpeg/MD589-N28-2015.07.30-17.53.43_MD589_3_0084_prep2_lossless_grayJpeg.jpg\" \"/media/yuncong/BstemAtlasData/CSHL_data_processed/MD589/MD589_prep2_lossless_grayJpeg/MD589-N28-2015.07.30-17.53.43_MD589_3_0084_prep2_lossless_grayJpeg.jpg\"\n"
     ]
    },
    {
     "name": "stderr",
     "output_type": "stream",
     "text": [
      "Not using image_cache.\n"
     ]
    },
    {
     "name": "stdout",
     "output_type": "stream",
     "text": [
      "(549, 714, 3) (549, 714)\n",
      "aws s3 cp \"/home/yuncong/CSHL_scoremaps/10.0um/MD589/MD589_prep2_10.0um_detector999/MD589-N28-2015.07.30-17.53.43_MD589_3_0084_prep2_10.0um_detector999/MD589-N28-2015.07.30-17.53.43_MD589_3_0084_prep2_10.0um_detector999_Tz_scoremap.bp\" \"s3://mousebrainatlas-data/CSHL_scoremaps/10.0um/MD589/MD589_prep2_10.0um_detector999/MD589-N28-2015.07.30-17.53.43_MD589_3_0084_prep2_10.0um_detector999/MD589-N28-2015.07.30-17.53.43_MD589_3_0084_prep2_10.0um_detector999_Tz_scoremap.bp\"\n",
      "aws s3 cp \"/home/yuncong/CSHL_scoremap_viz/10.0um/Tz/MD589/detector999/prep2/MD589-N28-2015.07.30-17.53.43_MD589_3_0084_prep2_10.0um_Tz_detector999_scoremapViz.jpg\" \"s3://mousebrainatlas-data/CSHL_scoremap_viz/10.0um/Tz/MD589/detector999/prep2/MD589-N28-2015.07.30-17.53.43_MD589_3_0084_prep2_10.0um_Tz_detector999_scoremapViz.jpg\"\n"
     ]
    },
    {
     "name": "stderr",
     "output_type": "stream",
     "text": [
      "locate patches: 0.03 seconds\n",
      "Not using image_cache.\n",
      "Load image: 18.89 seconds.\n",
      "Extract patches: 19.87 seconds\n"
     ]
    },
    {
     "name": "stdout",
     "output_type": "stream",
     "text": [
      "(30784, 1, 224, 224)\n",
      "rm -rf \"/media/yuncong/BstemAtlasData/CSHL_data_processed/MD589/MD589_prep2_lossless_grayJpeg/MD589-IHC28-2015.07.30-23.11.15_MD589_3_0084_prep2_lossless_grayJpeg.jpg\" && mkdir -p \"/media/yuncong/BstemAtlasData/CSHL_data_processed/MD589/MD589_prep2_lossless_grayJpeg\"\n",
      "aws s3 cp \"s3://mousebrainatlas-data/CSHL_data_processed/MD589/MD589_prep2_lossless_grayJpeg/MD589-IHC28-2015.07.30-23.11.15_MD589_3_0084_prep2_lossless_grayJpeg.jpg\" \"/media/yuncong/BstemAtlasData/CSHL_data_processed/MD589/MD589_prep2_lossless_grayJpeg/MD589-IHC28-2015.07.30-23.11.15_MD589_3_0084_prep2_lossless_grayJpeg.jpg\"\n"
     ]
    },
    {
     "name": "stderr",
     "output_type": "stream",
     "text": [
      "Not using image_cache.\n"
     ]
    },
    {
     "name": "stdout",
     "output_type": "stream",
     "text": [
      "(549, 714, 3) (549, 714)\n",
      "aws s3 cp \"/home/yuncong/CSHL_scoremaps/10.0um/MD589/MD589_prep2_10.0um_detector999/MD589-IHC28-2015.07.30-23.11.15_MD589_3_0084_prep2_10.0um_detector999/MD589-IHC28-2015.07.30-23.11.15_MD589_3_0084_prep2_10.0um_detector999_Tz_scoremap.bp\" \"s3://mousebrainatlas-data/CSHL_scoremaps/10.0um/MD589/MD589_prep2_10.0um_detector999/MD589-IHC28-2015.07.30-23.11.15_MD589_3_0084_prep2_10.0um_detector999/MD589-IHC28-2015.07.30-23.11.15_MD589_3_0084_prep2_10.0um_detector999_Tz_scoremap.bp\"\n",
      "aws s3 cp \"/home/yuncong/CSHL_scoremap_viz/10.0um/Tz/MD589/detector999/prep2/MD589-IHC28-2015.07.30-23.11.15_MD589_3_0084_prep2_10.0um_Tz_detector999_scoremapViz.jpg\" \"s3://mousebrainatlas-data/CSHL_scoremap_viz/10.0um/Tz/MD589/detector999/prep2/MD589-IHC28-2015.07.30-23.11.15_MD589_3_0084_prep2_10.0um_Tz_detector999_scoremapViz.jpg\"\n"
     ]
    },
    {
     "name": "stderr",
     "output_type": "stream",
     "text": [
      "locate patches: 0.03 seconds\n",
      "Not using image_cache.\n",
      "Load image: 19.16 seconds.\n",
      "Extract patches: 20.14 seconds\n"
     ]
    },
    {
     "name": "stdout",
     "output_type": "stream",
     "text": [
      "(31089, 1, 224, 224)\n",
      "rm -rf \"/media/yuncong/BstemAtlasData/CSHL_data_processed/MD589/MD589_prep2_lossless_grayJpeg/MD589-N29-2015.07.30-17.58.29_MD589_1_0085_prep2_lossless_grayJpeg.jpg\" && mkdir -p \"/media/yuncong/BstemAtlasData/CSHL_data_processed/MD589/MD589_prep2_lossless_grayJpeg\"\n",
      "aws s3 cp \"s3://mousebrainatlas-data/CSHL_data_processed/MD589/MD589_prep2_lossless_grayJpeg/MD589-N29-2015.07.30-17.58.29_MD589_1_0085_prep2_lossless_grayJpeg.jpg\" \"/media/yuncong/BstemAtlasData/CSHL_data_processed/MD589/MD589_prep2_lossless_grayJpeg/MD589-N29-2015.07.30-17.58.29_MD589_1_0085_prep2_lossless_grayJpeg.jpg\"\n"
     ]
    },
    {
     "name": "stderr",
     "output_type": "stream",
     "text": [
      "Not using image_cache.\n"
     ]
    },
    {
     "name": "stdout",
     "output_type": "stream",
     "text": [
      "(549, 714, 3) (549, 714)\n",
      "aws s3 cp \"/home/yuncong/CSHL_scoremaps/10.0um/MD589/MD589_prep2_10.0um_detector999/MD589-N29-2015.07.30-17.58.29_MD589_1_0085_prep2_10.0um_detector999/MD589-N29-2015.07.30-17.58.29_MD589_1_0085_prep2_10.0um_detector999_Tz_scoremap.bp\" \"s3://mousebrainatlas-data/CSHL_scoremaps/10.0um/MD589/MD589_prep2_10.0um_detector999/MD589-N29-2015.07.30-17.58.29_MD589_1_0085_prep2_10.0um_detector999/MD589-N29-2015.07.30-17.58.29_MD589_1_0085_prep2_10.0um_detector999_Tz_scoremap.bp\"\n",
      "aws s3 cp \"/home/yuncong/CSHL_scoremap_viz/10.0um/Tz/MD589/detector999/prep2/MD589-N29-2015.07.30-17.58.29_MD589_1_0085_prep2_10.0um_Tz_detector999_scoremapViz.jpg\" \"s3://mousebrainatlas-data/CSHL_scoremap_viz/10.0um/Tz/MD589/detector999/prep2/MD589-N29-2015.07.30-17.58.29_MD589_1_0085_prep2_10.0um_Tz_detector999_scoremapViz.jpg\"\n"
     ]
    },
    {
     "name": "stderr",
     "output_type": "stream",
     "text": [
      "locate patches: 0.04 seconds\n",
      "Not using image_cache.\n",
      "Load image: 21.84 seconds.\n",
      "Extract patches: 22.86 seconds\n"
     ]
    },
    {
     "name": "stdout",
     "output_type": "stream",
     "text": [
      "(31234, 1, 224, 224)\n",
      "rm -rf \"/media/yuncong/BstemAtlasData/CSHL_data_processed/MD589/MD589_prep2_lossless_grayJpeg/MD589-IHC29-2015.07.30-23.16.01_MD589_1_0085_prep2_lossless_grayJpeg.jpg\" && mkdir -p \"/media/yuncong/BstemAtlasData/CSHL_data_processed/MD589/MD589_prep2_lossless_grayJpeg\"\n",
      "aws s3 cp \"s3://mousebrainatlas-data/CSHL_data_processed/MD589/MD589_prep2_lossless_grayJpeg/MD589-IHC29-2015.07.30-23.16.01_MD589_1_0085_prep2_lossless_grayJpeg.jpg\" \"/media/yuncong/BstemAtlasData/CSHL_data_processed/MD589/MD589_prep2_lossless_grayJpeg/MD589-IHC29-2015.07.30-23.16.01_MD589_1_0085_prep2_lossless_grayJpeg.jpg\"\n"
     ]
    },
    {
     "name": "stderr",
     "output_type": "stream",
     "text": [
      "Not using image_cache.\n"
     ]
    },
    {
     "name": "stdout",
     "output_type": "stream",
     "text": [
      "(549, 714, 3) (549, 714)\n",
      "aws s3 cp \"/home/yuncong/CSHL_scoremaps/10.0um/MD589/MD589_prep2_10.0um_detector999/MD589-IHC29-2015.07.30-23.16.01_MD589_1_0085_prep2_10.0um_detector999/MD589-IHC29-2015.07.30-23.16.01_MD589_1_0085_prep2_10.0um_detector999_Tz_scoremap.bp\" \"s3://mousebrainatlas-data/CSHL_scoremaps/10.0um/MD589/MD589_prep2_10.0um_detector999/MD589-IHC29-2015.07.30-23.16.01_MD589_1_0085_prep2_10.0um_detector999/MD589-IHC29-2015.07.30-23.16.01_MD589_1_0085_prep2_10.0um_detector999_Tz_scoremap.bp\"\n",
      "aws s3 cp \"/home/yuncong/CSHL_scoremap_viz/10.0um/Tz/MD589/detector999/prep2/MD589-IHC29-2015.07.30-23.16.01_MD589_1_0085_prep2_10.0um_Tz_detector999_scoremapViz.jpg\" \"s3://mousebrainatlas-data/CSHL_scoremap_viz/10.0um/Tz/MD589/detector999/prep2/MD589-IHC29-2015.07.30-23.16.01_MD589_1_0085_prep2_10.0um_Tz_detector999_scoremapViz.jpg\"\n"
     ]
    },
    {
     "name": "stderr",
     "output_type": "stream",
     "text": [
      "locate patches: 0.04 seconds\n",
      "Not using image_cache.\n",
      "Load image: 18.69 seconds.\n",
      "Extract patches: 19.65 seconds\n"
     ]
    },
    {
     "name": "stdout",
     "output_type": "stream",
     "text": [
      "(31385, 1, 224, 224)\n",
      "rm -rf \"/media/yuncong/BstemAtlasData/CSHL_data_processed/MD589/MD589_prep2_lossless_grayJpeg/MD589-N29-2015.07.30-17.58.29_MD589_2_0086_prep2_lossless_grayJpeg.jpg\" && mkdir -p \"/media/yuncong/BstemAtlasData/CSHL_data_processed/MD589/MD589_prep2_lossless_grayJpeg\"\n",
      "aws s3 cp \"s3://mousebrainatlas-data/CSHL_data_processed/MD589/MD589_prep2_lossless_grayJpeg/MD589-N29-2015.07.30-17.58.29_MD589_2_0086_prep2_lossless_grayJpeg.jpg\" \"/media/yuncong/BstemAtlasData/CSHL_data_processed/MD589/MD589_prep2_lossless_grayJpeg/MD589-N29-2015.07.30-17.58.29_MD589_2_0086_prep2_lossless_grayJpeg.jpg\"\n"
     ]
    },
    {
     "name": "stderr",
     "output_type": "stream",
     "text": [
      "Not using image_cache.\n"
     ]
    },
    {
     "name": "stdout",
     "output_type": "stream",
     "text": [
      "(549, 714, 3) (549, 714)\n",
      "aws s3 cp \"/home/yuncong/CSHL_scoremaps/10.0um/MD589/MD589_prep2_10.0um_detector999/MD589-N29-2015.07.30-17.58.29_MD589_2_0086_prep2_10.0um_detector999/MD589-N29-2015.07.30-17.58.29_MD589_2_0086_prep2_10.0um_detector999_Tz_scoremap.bp\" \"s3://mousebrainatlas-data/CSHL_scoremaps/10.0um/MD589/MD589_prep2_10.0um_detector999/MD589-N29-2015.07.30-17.58.29_MD589_2_0086_prep2_10.0um_detector999/MD589-N29-2015.07.30-17.58.29_MD589_2_0086_prep2_10.0um_detector999_Tz_scoremap.bp\"\n",
      "aws s3 cp \"/home/yuncong/CSHL_scoremap_viz/10.0um/Tz/MD589/detector999/prep2/MD589-N29-2015.07.30-17.58.29_MD589_2_0086_prep2_10.0um_Tz_detector999_scoremapViz.jpg\" \"s3://mousebrainatlas-data/CSHL_scoremap_viz/10.0um/Tz/MD589/detector999/prep2/MD589-N29-2015.07.30-17.58.29_MD589_2_0086_prep2_10.0um_Tz_detector999_scoremapViz.jpg\"\n"
     ]
    },
    {
     "name": "stderr",
     "output_type": "stream",
     "text": [
      "locate patches: 0.03 seconds\n",
      "Not using image_cache.\n",
      "Load image: 18.61 seconds.\n",
      "Extract patches: 19.80 seconds\n"
     ]
    },
    {
     "name": "stdout",
     "output_type": "stream",
     "text": [
      "(31521, 1, 224, 224)\n",
      "rm -rf \"/media/yuncong/BstemAtlasData/CSHL_data_processed/MD589/MD589_prep2_lossless_grayJpeg/MD589-IHC29-2015.07.30-23.16.01_MD589_2_0086_prep2_lossless_grayJpeg.jpg\" && mkdir -p \"/media/yuncong/BstemAtlasData/CSHL_data_processed/MD589/MD589_prep2_lossless_grayJpeg\"\n",
      "aws s3 cp \"s3://mousebrainatlas-data/CSHL_data_processed/MD589/MD589_prep2_lossless_grayJpeg/MD589-IHC29-2015.07.30-23.16.01_MD589_2_0086_prep2_lossless_grayJpeg.jpg\" \"/media/yuncong/BstemAtlasData/CSHL_data_processed/MD589/MD589_prep2_lossless_grayJpeg/MD589-IHC29-2015.07.30-23.16.01_MD589_2_0086_prep2_lossless_grayJpeg.jpg\"\n"
     ]
    },
    {
     "name": "stderr",
     "output_type": "stream",
     "text": [
      "Not using image_cache.\n"
     ]
    },
    {
     "name": "stdout",
     "output_type": "stream",
     "text": [
      "(549, 714, 3) (549, 714)\n",
      "aws s3 cp \"/home/yuncong/CSHL_scoremaps/10.0um/MD589/MD589_prep2_10.0um_detector999/MD589-IHC29-2015.07.30-23.16.01_MD589_2_0086_prep2_10.0um_detector999/MD589-IHC29-2015.07.30-23.16.01_MD589_2_0086_prep2_10.0um_detector999_Tz_scoremap.bp\" \"s3://mousebrainatlas-data/CSHL_scoremaps/10.0um/MD589/MD589_prep2_10.0um_detector999/MD589-IHC29-2015.07.30-23.16.01_MD589_2_0086_prep2_10.0um_detector999/MD589-IHC29-2015.07.30-23.16.01_MD589_2_0086_prep2_10.0um_detector999_Tz_scoremap.bp\"\n",
      "aws s3 cp \"/home/yuncong/CSHL_scoremap_viz/10.0um/Tz/MD589/detector999/prep2/MD589-IHC29-2015.07.30-23.16.01_MD589_2_0086_prep2_10.0um_Tz_detector999_scoremapViz.jpg\" \"s3://mousebrainatlas-data/CSHL_scoremap_viz/10.0um/Tz/MD589/detector999/prep2/MD589-IHC29-2015.07.30-23.16.01_MD589_2_0086_prep2_10.0um_Tz_detector999_scoremapViz.jpg\"\n"
     ]
    },
    {
     "name": "stderr",
     "output_type": "stream",
     "text": [
      "locate patches: 0.04 seconds\n",
      "Not using image_cache.\n",
      "Load image: 19.62 seconds.\n",
      "Extract patches: 20.85 seconds\n"
     ]
    },
    {
     "name": "stdout",
     "output_type": "stream",
     "text": [
      "(31608, 1, 224, 224)\n"
     ]
    },
    {
     "name": "stderr",
     "output_type": "stream",
     "text": [
      "Not using image_cache.\n"
     ]
    },
    {
     "name": "stdout",
     "output_type": "stream",
     "text": [
      "(549, 714, 3) (549, 714)\n",
      "aws s3 cp \"/home/yuncong/CSHL_scoremaps/10.0um/MD589/MD589_prep2_10.0um_detector999/MD589-N29-2015.07.30-17.58.29_MD589_3_0087_prep2_10.0um_detector999/MD589-N29-2015.07.30-17.58.29_MD589_3_0087_prep2_10.0um_detector999_Tz_scoremap.bp\" \"s3://mousebrainatlas-data/CSHL_scoremaps/10.0um/MD589/MD589_prep2_10.0um_detector999/MD589-N29-2015.07.30-17.58.29_MD589_3_0087_prep2_10.0um_detector999/MD589-N29-2015.07.30-17.58.29_MD589_3_0087_prep2_10.0um_detector999_Tz_scoremap.bp\"\n",
      "aws s3 cp \"/home/yuncong/CSHL_scoremap_viz/10.0um/Tz/MD589/detector999/prep2/MD589-N29-2015.07.30-17.58.29_MD589_3_0087_prep2_10.0um_Tz_detector999_scoremapViz.jpg\" \"s3://mousebrainatlas-data/CSHL_scoremap_viz/10.0um/Tz/MD589/detector999/prep2/MD589-N29-2015.07.30-17.58.29_MD589_3_0087_prep2_10.0um_Tz_detector999_scoremapViz.jpg\"\n"
     ]
    },
    {
     "name": "stderr",
     "output_type": "stream",
     "text": [
      "locate patches: 0.03 seconds\n",
      "Not using image_cache.\n",
      "Load image: 18.27 seconds.\n",
      "Extract patches: 20.00 seconds\n"
     ]
    },
    {
     "name": "stdout",
     "output_type": "stream",
     "text": [
      "(31528, 1, 224, 224)\n",
      "rm -rf \"/media/yuncong/BstemAtlasData/CSHL_data_processed/MD589/MD589_prep2_lossless_grayJpeg/MD589-IHC29-2015.07.30-23.16.01_MD589_3_0087_prep2_lossless_grayJpeg.jpg\" && mkdir -p \"/media/yuncong/BstemAtlasData/CSHL_data_processed/MD589/MD589_prep2_lossless_grayJpeg\"\n",
      "aws s3 cp \"s3://mousebrainatlas-data/CSHL_data_processed/MD589/MD589_prep2_lossless_grayJpeg/MD589-IHC29-2015.07.30-23.16.01_MD589_3_0087_prep2_lossless_grayJpeg.jpg\" \"/media/yuncong/BstemAtlasData/CSHL_data_processed/MD589/MD589_prep2_lossless_grayJpeg/MD589-IHC29-2015.07.30-23.16.01_MD589_3_0087_prep2_lossless_grayJpeg.jpg\"\n"
     ]
    },
    {
     "name": "stderr",
     "output_type": "stream",
     "text": [
      "Not using image_cache.\n"
     ]
    },
    {
     "name": "stdout",
     "output_type": "stream",
     "text": [
      "(549, 714, 3) (549, 714)\n",
      "aws s3 cp \"/home/yuncong/CSHL_scoremaps/10.0um/MD589/MD589_prep2_10.0um_detector999/MD589-IHC29-2015.07.30-23.16.01_MD589_3_0087_prep2_10.0um_detector999/MD589-IHC29-2015.07.30-23.16.01_MD589_3_0087_prep2_10.0um_detector999_Tz_scoremap.bp\" \"s3://mousebrainatlas-data/CSHL_scoremaps/10.0um/MD589/MD589_prep2_10.0um_detector999/MD589-IHC29-2015.07.30-23.16.01_MD589_3_0087_prep2_10.0um_detector999/MD589-IHC29-2015.07.30-23.16.01_MD589_3_0087_prep2_10.0um_detector999_Tz_scoremap.bp\"\n",
      "aws s3 cp \"/home/yuncong/CSHL_scoremap_viz/10.0um/Tz/MD589/detector999/prep2/MD589-IHC29-2015.07.30-23.16.01_MD589_3_0087_prep2_10.0um_Tz_detector999_scoremapViz.jpg\" \"s3://mousebrainatlas-data/CSHL_scoremap_viz/10.0um/Tz/MD589/detector999/prep2/MD589-IHC29-2015.07.30-23.16.01_MD589_3_0087_prep2_10.0um_Tz_detector999_scoremapViz.jpg\"\n"
     ]
    },
    {
     "name": "stderr",
     "output_type": "stream",
     "text": [
      "locate patches: 0.03 seconds\n",
      "Not using image_cache.\n",
      "Load image: 19.33 seconds.\n",
      "Extract patches: 20.56 seconds\n"
     ]
    },
    {
     "name": "stdout",
     "output_type": "stream",
     "text": [
      "(31828, 1, 224, 224)\n",
      "rm -rf \"/media/yuncong/BstemAtlasData/CSHL_data_processed/MD589/MD589_prep2_lossless_grayJpeg/MD589-N30-2015.07.30-18.03.11_MD589_1_0088_prep2_lossless_grayJpeg.jpg\" && mkdir -p \"/media/yuncong/BstemAtlasData/CSHL_data_processed/MD589/MD589_prep2_lossless_grayJpeg\"\n",
      "aws s3 cp \"s3://mousebrainatlas-data/CSHL_data_processed/MD589/MD589_prep2_lossless_grayJpeg/MD589-N30-2015.07.30-18.03.11_MD589_1_0088_prep2_lossless_grayJpeg.jpg\" \"/media/yuncong/BstemAtlasData/CSHL_data_processed/MD589/MD589_prep2_lossless_grayJpeg/MD589-N30-2015.07.30-18.03.11_MD589_1_0088_prep2_lossless_grayJpeg.jpg\"\n"
     ]
    },
    {
     "name": "stderr",
     "output_type": "stream",
     "text": [
      "Not using image_cache.\n"
     ]
    },
    {
     "name": "stdout",
     "output_type": "stream",
     "text": [
      "(549, 714, 3) (549, 714)\n",
      "aws s3 cp \"/home/yuncong/CSHL_scoremaps/10.0um/MD589/MD589_prep2_10.0um_detector999/MD589-N30-2015.07.30-18.03.11_MD589_1_0088_prep2_10.0um_detector999/MD589-N30-2015.07.30-18.03.11_MD589_1_0088_prep2_10.0um_detector999_Tz_scoremap.bp\" \"s3://mousebrainatlas-data/CSHL_scoremaps/10.0um/MD589/MD589_prep2_10.0um_detector999/MD589-N30-2015.07.30-18.03.11_MD589_1_0088_prep2_10.0um_detector999/MD589-N30-2015.07.30-18.03.11_MD589_1_0088_prep2_10.0um_detector999_Tz_scoremap.bp\"\n",
      "aws s3 cp \"/home/yuncong/CSHL_scoremap_viz/10.0um/Tz/MD589/detector999/prep2/MD589-N30-2015.07.30-18.03.11_MD589_1_0088_prep2_10.0um_Tz_detector999_scoremapViz.jpg\" \"s3://mousebrainatlas-data/CSHL_scoremap_viz/10.0um/Tz/MD589/detector999/prep2/MD589-N30-2015.07.30-18.03.11_MD589_1_0088_prep2_10.0um_Tz_detector999_scoremapViz.jpg\"\n"
     ]
    },
    {
     "name": "stderr",
     "output_type": "stream",
     "text": [
      "locate patches: 0.03 seconds\n",
      "Not using image_cache.\n",
      "Load image: 19.33 seconds.\n",
      "Extract patches: 20.88 seconds\n"
     ]
    },
    {
     "name": "stdout",
     "output_type": "stream",
     "text": [
      "(31964, 1, 224, 224)\n",
      "rm -rf \"/media/yuncong/BstemAtlasData/CSHL_data_processed/MD589/MD589_prep2_lossless_grayJpeg/MD589-IHC30-2015.07.30-23.20.46_MD589_1_0088_prep2_lossless_grayJpeg.jpg\" && mkdir -p \"/media/yuncong/BstemAtlasData/CSHL_data_processed/MD589/MD589_prep2_lossless_grayJpeg\"\n",
      "aws s3 cp \"s3://mousebrainatlas-data/CSHL_data_processed/MD589/MD589_prep2_lossless_grayJpeg/MD589-IHC30-2015.07.30-23.20.46_MD589_1_0088_prep2_lossless_grayJpeg.jpg\" \"/media/yuncong/BstemAtlasData/CSHL_data_processed/MD589/MD589_prep2_lossless_grayJpeg/MD589-IHC30-2015.07.30-23.20.46_MD589_1_0088_prep2_lossless_grayJpeg.jpg\"\n"
     ]
    },
    {
     "name": "stderr",
     "output_type": "stream",
     "text": [
      "Not using image_cache.\n"
     ]
    },
    {
     "name": "stdout",
     "output_type": "stream",
     "text": [
      "(549, 714, 3) (549, 714)\n",
      "aws s3 cp \"/home/yuncong/CSHL_scoremaps/10.0um/MD589/MD589_prep2_10.0um_detector999/MD589-IHC30-2015.07.30-23.20.46_MD589_1_0088_prep2_10.0um_detector999/MD589-IHC30-2015.07.30-23.20.46_MD589_1_0088_prep2_10.0um_detector999_Tz_scoremap.bp\" \"s3://mousebrainatlas-data/CSHL_scoremaps/10.0um/MD589/MD589_prep2_10.0um_detector999/MD589-IHC30-2015.07.30-23.20.46_MD589_1_0088_prep2_10.0um_detector999/MD589-IHC30-2015.07.30-23.20.46_MD589_1_0088_prep2_10.0um_detector999_Tz_scoremap.bp\"\n",
      "aws s3 cp \"/home/yuncong/CSHL_scoremap_viz/10.0um/Tz/MD589/detector999/prep2/MD589-IHC30-2015.07.30-23.20.46_MD589_1_0088_prep2_10.0um_Tz_detector999_scoremapViz.jpg\" \"s3://mousebrainatlas-data/CSHL_scoremap_viz/10.0um/Tz/MD589/detector999/prep2/MD589-IHC30-2015.07.30-23.20.46_MD589_1_0088_prep2_10.0um_Tz_detector999_scoremapViz.jpg\"\n"
     ]
    },
    {
     "name": "stderr",
     "output_type": "stream",
     "text": [
      "locate patches: 0.03 seconds\n",
      "Not using image_cache.\n",
      "Load image: 19.98 seconds.\n",
      "Extract patches: 21.16 seconds\n"
     ]
    },
    {
     "name": "stdout",
     "output_type": "stream",
     "text": [
      "(31892, 1, 224, 224)\n",
      "rm -rf \"/media/yuncong/BstemAtlasData/CSHL_data_processed/MD589/MD589_prep2_lossless_grayJpeg/MD589-N30-2015.07.30-18.03.11_MD589_2_0089_prep2_lossless_grayJpeg.jpg\" && mkdir -p \"/media/yuncong/BstemAtlasData/CSHL_data_processed/MD589/MD589_prep2_lossless_grayJpeg\"\n",
      "aws s3 cp \"s3://mousebrainatlas-data/CSHL_data_processed/MD589/MD589_prep2_lossless_grayJpeg/MD589-N30-2015.07.30-18.03.11_MD589_2_0089_prep2_lossless_grayJpeg.jpg\" \"/media/yuncong/BstemAtlasData/CSHL_data_processed/MD589/MD589_prep2_lossless_grayJpeg/MD589-N30-2015.07.30-18.03.11_MD589_2_0089_prep2_lossless_grayJpeg.jpg\"\n"
     ]
    },
    {
     "name": "stderr",
     "output_type": "stream",
     "text": [
      "Not using image_cache.\n"
     ]
    },
    {
     "name": "stdout",
     "output_type": "stream",
     "text": [
      "(549, 714, 3) (549, 714)\n",
      "aws s3 cp \"/home/yuncong/CSHL_scoremaps/10.0um/MD589/MD589_prep2_10.0um_detector999/MD589-N30-2015.07.30-18.03.11_MD589_2_0089_prep2_10.0um_detector999/MD589-N30-2015.07.30-18.03.11_MD589_2_0089_prep2_10.0um_detector999_Tz_scoremap.bp\" \"s3://mousebrainatlas-data/CSHL_scoremaps/10.0um/MD589/MD589_prep2_10.0um_detector999/MD589-N30-2015.07.30-18.03.11_MD589_2_0089_prep2_10.0um_detector999/MD589-N30-2015.07.30-18.03.11_MD589_2_0089_prep2_10.0um_detector999_Tz_scoremap.bp\"\n",
      "aws s3 cp \"/home/yuncong/CSHL_scoremap_viz/10.0um/Tz/MD589/detector999/prep2/MD589-N30-2015.07.30-18.03.11_MD589_2_0089_prep2_10.0um_Tz_detector999_scoremapViz.jpg\" \"s3://mousebrainatlas-data/CSHL_scoremap_viz/10.0um/Tz/MD589/detector999/prep2/MD589-N30-2015.07.30-18.03.11_MD589_2_0089_prep2_10.0um_Tz_detector999_scoremapViz.jpg\"\n"
     ]
    },
    {
     "name": "stderr",
     "output_type": "stream",
     "text": [
      "locate patches: 0.03 seconds\n",
      "Not using image_cache.\n",
      "Load image: 22.35 seconds.\n",
      "Extract patches: 23.59 seconds\n"
     ]
    },
    {
     "name": "stdout",
     "output_type": "stream",
     "text": [
      "(31863, 1, 224, 224)\n",
      "rm -rf \"/media/yuncong/BstemAtlasData/CSHL_data_processed/MD589/MD589_prep2_lossless_grayJpeg/MD589-IHC30-2015.07.30-23.20.46_MD589_2_0089_prep2_lossless_grayJpeg.jpg\" && mkdir -p \"/media/yuncong/BstemAtlasData/CSHL_data_processed/MD589/MD589_prep2_lossless_grayJpeg\"\n",
      "aws s3 cp \"s3://mousebrainatlas-data/CSHL_data_processed/MD589/MD589_prep2_lossless_grayJpeg/MD589-IHC30-2015.07.30-23.20.46_MD589_2_0089_prep2_lossless_grayJpeg.jpg\" \"/media/yuncong/BstemAtlasData/CSHL_data_processed/MD589/MD589_prep2_lossless_grayJpeg/MD589-IHC30-2015.07.30-23.20.46_MD589_2_0089_prep2_lossless_grayJpeg.jpg\"\n"
     ]
    },
    {
     "name": "stderr",
     "output_type": "stream",
     "text": [
      "Not using image_cache.\n"
     ]
    },
    {
     "name": "stdout",
     "output_type": "stream",
     "text": [
      "(549, 714, 3) (549, 714)\n",
      "aws s3 cp \"/home/yuncong/CSHL_scoremaps/10.0um/MD589/MD589_prep2_10.0um_detector999/MD589-IHC30-2015.07.30-23.20.46_MD589_2_0089_prep2_10.0um_detector999/MD589-IHC30-2015.07.30-23.20.46_MD589_2_0089_prep2_10.0um_detector999_Tz_scoremap.bp\" \"s3://mousebrainatlas-data/CSHL_scoremaps/10.0um/MD589/MD589_prep2_10.0um_detector999/MD589-IHC30-2015.07.30-23.20.46_MD589_2_0089_prep2_10.0um_detector999/MD589-IHC30-2015.07.30-23.20.46_MD589_2_0089_prep2_10.0um_detector999_Tz_scoremap.bp\"\n",
      "aws s3 cp \"/home/yuncong/CSHL_scoremap_viz/10.0um/Tz/MD589/detector999/prep2/MD589-IHC30-2015.07.30-23.20.46_MD589_2_0089_prep2_10.0um_Tz_detector999_scoremapViz.jpg\" \"s3://mousebrainatlas-data/CSHL_scoremap_viz/10.0um/Tz/MD589/detector999/prep2/MD589-IHC30-2015.07.30-23.20.46_MD589_2_0089_prep2_10.0um_Tz_detector999_scoremapViz.jpg\"\n"
     ]
    },
    {
     "name": "stderr",
     "output_type": "stream",
     "text": [
      "locate patches: 0.03 seconds\n",
      "Not using image_cache.\n",
      "Load image: 19.66 seconds.\n",
      "Extract patches: 20.78 seconds\n"
     ]
    },
    {
     "name": "stdout",
     "output_type": "stream",
     "text": [
      "(31943, 1, 224, 224)\n",
      "rm -rf \"/media/yuncong/BstemAtlasData/CSHL_data_processed/MD589/MD589_prep2_lossless_grayJpeg/MD589-N30-2015.07.30-18.03.11_MD589_3_0090_prep2_lossless_grayJpeg.jpg\" && mkdir -p \"/media/yuncong/BstemAtlasData/CSHL_data_processed/MD589/MD589_prep2_lossless_grayJpeg\"\n",
      "aws s3 cp \"s3://mousebrainatlas-data/CSHL_data_processed/MD589/MD589_prep2_lossless_grayJpeg/MD589-N30-2015.07.30-18.03.11_MD589_3_0090_prep2_lossless_grayJpeg.jpg\" \"/media/yuncong/BstemAtlasData/CSHL_data_processed/MD589/MD589_prep2_lossless_grayJpeg/MD589-N30-2015.07.30-18.03.11_MD589_3_0090_prep2_lossless_grayJpeg.jpg\"\n"
     ]
    },
    {
     "name": "stderr",
     "output_type": "stream",
     "text": [
      "Not using image_cache.\n"
     ]
    },
    {
     "name": "stdout",
     "output_type": "stream",
     "text": [
      "(549, 714, 3) (549, 714)\n",
      "aws s3 cp \"/home/yuncong/CSHL_scoremaps/10.0um/MD589/MD589_prep2_10.0um_detector999/MD589-N30-2015.07.30-18.03.11_MD589_3_0090_prep2_10.0um_detector999/MD589-N30-2015.07.30-18.03.11_MD589_3_0090_prep2_10.0um_detector999_Tz_scoremap.bp\" \"s3://mousebrainatlas-data/CSHL_scoremaps/10.0um/MD589/MD589_prep2_10.0um_detector999/MD589-N30-2015.07.30-18.03.11_MD589_3_0090_prep2_10.0um_detector999/MD589-N30-2015.07.30-18.03.11_MD589_3_0090_prep2_10.0um_detector999_Tz_scoremap.bp\"\n",
      "aws s3 cp \"/home/yuncong/CSHL_scoremap_viz/10.0um/Tz/MD589/detector999/prep2/MD589-N30-2015.07.30-18.03.11_MD589_3_0090_prep2_10.0um_Tz_detector999_scoremapViz.jpg\" \"s3://mousebrainatlas-data/CSHL_scoremap_viz/10.0um/Tz/MD589/detector999/prep2/MD589-N30-2015.07.30-18.03.11_MD589_3_0090_prep2_10.0um_Tz_detector999_scoremapViz.jpg\"\n"
     ]
    },
    {
     "name": "stderr",
     "output_type": "stream",
     "text": [
      "locate patches: 0.03 seconds\n",
      "Not using image_cache.\n",
      "Load image: 19.51 seconds.\n",
      "Extract patches: 20.64 seconds\n"
     ]
    },
    {
     "name": "stdout",
     "output_type": "stream",
     "text": [
      "(31918, 1, 224, 224)\n",
      "rm -rf \"/media/yuncong/BstemAtlasData/CSHL_data_processed/MD589/MD589_prep2_lossless_grayJpeg/MD589-IHC30-2015.07.30-23.20.46_MD589_3_0090_prep2_lossless_grayJpeg.jpg\" && mkdir -p \"/media/yuncong/BstemAtlasData/CSHL_data_processed/MD589/MD589_prep2_lossless_grayJpeg\"\n",
      "aws s3 cp \"s3://mousebrainatlas-data/CSHL_data_processed/MD589/MD589_prep2_lossless_grayJpeg/MD589-IHC30-2015.07.30-23.20.46_MD589_3_0090_prep2_lossless_grayJpeg.jpg\" \"/media/yuncong/BstemAtlasData/CSHL_data_processed/MD589/MD589_prep2_lossless_grayJpeg/MD589-IHC30-2015.07.30-23.20.46_MD589_3_0090_prep2_lossless_grayJpeg.jpg\"\n"
     ]
    },
    {
     "name": "stderr",
     "output_type": "stream",
     "text": [
      "Not using image_cache.\n"
     ]
    },
    {
     "name": "stdout",
     "output_type": "stream",
     "text": [
      "(549, 714, 3) (549, 714)\n",
      "aws s3 cp \"/home/yuncong/CSHL_scoremaps/10.0um/MD589/MD589_prep2_10.0um_detector999/MD589-IHC30-2015.07.30-23.20.46_MD589_3_0090_prep2_10.0um_detector999/MD589-IHC30-2015.07.30-23.20.46_MD589_3_0090_prep2_10.0um_detector999_Tz_scoremap.bp\" \"s3://mousebrainatlas-data/CSHL_scoremaps/10.0um/MD589/MD589_prep2_10.0um_detector999/MD589-IHC30-2015.07.30-23.20.46_MD589_3_0090_prep2_10.0um_detector999/MD589-IHC30-2015.07.30-23.20.46_MD589_3_0090_prep2_10.0um_detector999_Tz_scoremap.bp\"\n",
      "aws s3 cp \"/home/yuncong/CSHL_scoremap_viz/10.0um/Tz/MD589/detector999/prep2/MD589-IHC30-2015.07.30-23.20.46_MD589_3_0090_prep2_10.0um_Tz_detector999_scoremapViz.jpg\" \"s3://mousebrainatlas-data/CSHL_scoremap_viz/10.0um/Tz/MD589/detector999/prep2/MD589-IHC30-2015.07.30-23.20.46_MD589_3_0090_prep2_10.0um_Tz_detector999_scoremapViz.jpg\"\n"
     ]
    },
    {
     "name": "stderr",
     "output_type": "stream",
     "text": [
      "locate patches: 0.04 seconds\n",
      "Not using image_cache.\n",
      "Load image: 18.80 seconds.\n",
      "Extract patches: 19.83 seconds\n"
     ]
    },
    {
     "name": "stdout",
     "output_type": "stream",
     "text": [
      "(32017, 1, 224, 224)\n",
      "rm -rf \"/media/yuncong/BstemAtlasData/CSHL_data_processed/MD589/MD589_prep2_lossless_grayJpeg/MD589-N31-2015.07.30-18.08.35_MD589_1_0091_prep2_lossless_grayJpeg.jpg\" && mkdir -p \"/media/yuncong/BstemAtlasData/CSHL_data_processed/MD589/MD589_prep2_lossless_grayJpeg\"\n",
      "aws s3 cp \"s3://mousebrainatlas-data/CSHL_data_processed/MD589/MD589_prep2_lossless_grayJpeg/MD589-N31-2015.07.30-18.08.35_MD589_1_0091_prep2_lossless_grayJpeg.jpg\" \"/media/yuncong/BstemAtlasData/CSHL_data_processed/MD589/MD589_prep2_lossless_grayJpeg/MD589-N31-2015.07.30-18.08.35_MD589_1_0091_prep2_lossless_grayJpeg.jpg\"\n"
     ]
    },
    {
     "name": "stderr",
     "output_type": "stream",
     "text": [
      "Not using image_cache.\n"
     ]
    },
    {
     "name": "stdout",
     "output_type": "stream",
     "text": [
      "(549, 714, 3) (549, 714)\n",
      "aws s3 cp \"/home/yuncong/CSHL_scoremaps/10.0um/MD589/MD589_prep2_10.0um_detector999/MD589-N31-2015.07.30-18.08.35_MD589_1_0091_prep2_10.0um_detector999/MD589-N31-2015.07.30-18.08.35_MD589_1_0091_prep2_10.0um_detector999_Tz_scoremap.bp\" \"s3://mousebrainatlas-data/CSHL_scoremaps/10.0um/MD589/MD589_prep2_10.0um_detector999/MD589-N31-2015.07.30-18.08.35_MD589_1_0091_prep2_10.0um_detector999/MD589-N31-2015.07.30-18.08.35_MD589_1_0091_prep2_10.0um_detector999_Tz_scoremap.bp\"\n",
      "aws s3 cp \"/home/yuncong/CSHL_scoremap_viz/10.0um/Tz/MD589/detector999/prep2/MD589-N31-2015.07.30-18.08.35_MD589_1_0091_prep2_10.0um_Tz_detector999_scoremapViz.jpg\" \"s3://mousebrainatlas-data/CSHL_scoremap_viz/10.0um/Tz/MD589/detector999/prep2/MD589-N31-2015.07.30-18.08.35_MD589_1_0091_prep2_10.0um_Tz_detector999_scoremapViz.jpg\"\n"
     ]
    },
    {
     "name": "stderr",
     "output_type": "stream",
     "text": [
      "locate patches: 0.03 seconds\n",
      "Not using image_cache.\n",
      "Load image: 19.28 seconds.\n",
      "Extract patches: 20.33 seconds\n"
     ]
    },
    {
     "name": "stdout",
     "output_type": "stream",
     "text": [
      "(31991, 1, 224, 224)\n",
      "rm -rf \"/media/yuncong/BstemAtlasData/CSHL_data_processed/MD589/MD589_prep2_lossless_grayJpeg/MD589-IHC31-2015.07.30-23.26.22_MD589_1_0091_prep2_lossless_grayJpeg.jpg\" && mkdir -p \"/media/yuncong/BstemAtlasData/CSHL_data_processed/MD589/MD589_prep2_lossless_grayJpeg\"\n",
      "aws s3 cp \"s3://mousebrainatlas-data/CSHL_data_processed/MD589/MD589_prep2_lossless_grayJpeg/MD589-IHC31-2015.07.30-23.26.22_MD589_1_0091_prep2_lossless_grayJpeg.jpg\" \"/media/yuncong/BstemAtlasData/CSHL_data_processed/MD589/MD589_prep2_lossless_grayJpeg/MD589-IHC31-2015.07.30-23.26.22_MD589_1_0091_prep2_lossless_grayJpeg.jpg\"\n"
     ]
    },
    {
     "name": "stderr",
     "output_type": "stream",
     "text": [
      "Not using image_cache.\n"
     ]
    },
    {
     "name": "stdout",
     "output_type": "stream",
     "text": [
      "(549, 714, 3) (549, 714)\n",
      "aws s3 cp \"/home/yuncong/CSHL_scoremaps/10.0um/MD589/MD589_prep2_10.0um_detector999/MD589-IHC31-2015.07.30-23.26.22_MD589_1_0091_prep2_10.0um_detector999/MD589-IHC31-2015.07.30-23.26.22_MD589_1_0091_prep2_10.0um_detector999_Tz_scoremap.bp\" \"s3://mousebrainatlas-data/CSHL_scoremaps/10.0um/MD589/MD589_prep2_10.0um_detector999/MD589-IHC31-2015.07.30-23.26.22_MD589_1_0091_prep2_10.0um_detector999/MD589-IHC31-2015.07.30-23.26.22_MD589_1_0091_prep2_10.0um_detector999_Tz_scoremap.bp\"\n",
      "aws s3 cp \"/home/yuncong/CSHL_scoremap_viz/10.0um/Tz/MD589/detector999/prep2/MD589-IHC31-2015.07.30-23.26.22_MD589_1_0091_prep2_10.0um_Tz_detector999_scoremapViz.jpg\" \"s3://mousebrainatlas-data/CSHL_scoremap_viz/10.0um/Tz/MD589/detector999/prep2/MD589-IHC31-2015.07.30-23.26.22_MD589_1_0091_prep2_10.0um_Tz_detector999_scoremapViz.jpg\"\n"
     ]
    },
    {
     "name": "stderr",
     "output_type": "stream",
     "text": [
      "locate patches: 0.03 seconds\n",
      "Not using image_cache.\n",
      "Load image: 19.32 seconds.\n",
      "Extract patches: 20.64 seconds\n"
     ]
    },
    {
     "name": "stdout",
     "output_type": "stream",
     "text": [
      "(32343, 1, 224, 224)\n",
      "rm -rf \"/media/yuncong/BstemAtlasData/CSHL_data_processed/MD589/MD589_prep2_lossless_grayJpeg/MD589-N31-2015.07.30-18.08.35_MD589_2_0092_prep2_lossless_grayJpeg.jpg\" && mkdir -p \"/media/yuncong/BstemAtlasData/CSHL_data_processed/MD589/MD589_prep2_lossless_grayJpeg\"\n",
      "aws s3 cp \"s3://mousebrainatlas-data/CSHL_data_processed/MD589/MD589_prep2_lossless_grayJpeg/MD589-N31-2015.07.30-18.08.35_MD589_2_0092_prep2_lossless_grayJpeg.jpg\" \"/media/yuncong/BstemAtlasData/CSHL_data_processed/MD589/MD589_prep2_lossless_grayJpeg/MD589-N31-2015.07.30-18.08.35_MD589_2_0092_prep2_lossless_grayJpeg.jpg\"\n"
     ]
    },
    {
     "name": "stderr",
     "output_type": "stream",
     "text": [
      "Not using image_cache.\n"
     ]
    },
    {
     "name": "stdout",
     "output_type": "stream",
     "text": [
      "(549, 714, 3) (549, 714)\n",
      "aws s3 cp \"/home/yuncong/CSHL_scoremaps/10.0um/MD589/MD589_prep2_10.0um_detector999/MD589-N31-2015.07.30-18.08.35_MD589_2_0092_prep2_10.0um_detector999/MD589-N31-2015.07.30-18.08.35_MD589_2_0092_prep2_10.0um_detector999_Tz_scoremap.bp\" \"s3://mousebrainatlas-data/CSHL_scoremaps/10.0um/MD589/MD589_prep2_10.0um_detector999/MD589-N31-2015.07.30-18.08.35_MD589_2_0092_prep2_10.0um_detector999/MD589-N31-2015.07.30-18.08.35_MD589_2_0092_prep2_10.0um_detector999_Tz_scoremap.bp\"\n"
     ]
    }
   ],
   "source": [
    "for structure in clfs.keys():\n",
    "\n",
    "# structure = '7N'\n",
    "\n",
    "    for sec in metadata_cache['valid_sections'][stack]:\n",
    "    # for sec in [170]:\n",
    "\n",
    "        out_resolution_um = 10.\n",
    "\n",
    "        viz, sm = draw_scoremap(clf=clfs[structure], \n",
    "    #                             scheme='normalize_mu_region_sigma_wholeImage_(-1,5)', \n",
    "                                scheme='none', \n",
    "    #                             bbox=(11217, 16886, 13859, 18404),\n",
    "                                win_id=7,\n",
    "                                stack=stack, return_scoremap=True, sec=sec,\n",
    "                                model=model, \n",
    "                                 mean_img=mean_img, \n",
    "                                 batch_size=batch_size,\n",
    "                               out_resolution_um=out_resolution_um)\n",
    "\n",
    "        scoremap_bp_filepath = \\\n",
    "        DataManager.get_downscaled_scoremap_filepath(stack=stack, section=sec, \n",
    "                                                     structure=structure,\n",
    "                                                     detector_id=999,\n",
    "                                                     out_resolution_um=out_resolution_um)\n",
    "\n",
    "        create_parent_dir_if_not_exists(scoremap_bp_filepath)\n",
    "        bp.pack_ndarray_file(sm.astype(np.float16), scoremap_bp_filepath)\n",
    "        upload_to_s3(scoremap_bp_filepath)\n",
    "\n",
    "\n",
    "        viz_filepath = \\\n",
    "        DataManager.get_scoremap_viz_filepath_v2(stack=stack, section=sec, \n",
    "                                                     structure=structure,\n",
    "                                                     detector_id=999,\n",
    "                                                     out_resolution_um=out_resolution_um)\n",
    "\n",
    "        create_parent_dir_if_not_exists(viz_filepath)\n",
    "        imsave(viz_filepath, viz)\n",
    "        upload_to_s3(viz_filepath)\n",
    "\n",
    "        del viz, sm"
   ]
  },
  {
   "cell_type": "code",
   "execution_count": 19,
   "metadata": {},
   "outputs": [
    {
     "data": {
      "text/plain": [
       "<matplotlib.figure.Figure at 0x7ff892b5c110>"
      ]
     },
     "metadata": {},
     "output_type": "display_data"
    },
    {
     "data": {
      "image/png": "[encoded data removed]",
      "text/plain": [
       "<matplotlib.figure.Figure at 0x7ff8540ae890>"
      ]
     },
     "metadata": {},
     "output_type": "display_data"
    }
   ],
   "source": [
    "%matplotlib inline\n",
    "plt.figure(figsize=(10,10));\n",
    "plt.matshow(sm);\n",
    "plt.colorbar();"
   ]
  },
  {
   "cell_type": "code",
   "execution_count": 41,
   "metadata": {},
   "outputs": [
    {
     "data": {
      "text/html": [
       "<a href='tmp.jpg' target='_blank'>tmp.jpg</a><br>"
      ],
      "text/plain": [
       "/home/yuncong/Brain/learning/tmp.jpg"
      ]
     },
     "execution_count": 41,
     "metadata": {},
     "output_type": "execute_result"
    }
   ],
   "source": [
    "display_image(viz)"
   ]
  }
 ],
 "metadata": {
  "kernelspec": {
   "display_name": "Python 2",
   "language": "python",
   "name": "python2"
  },
  "language_info": {
   "codemirror_mode": {
    "name": "ipython",
    "version": 2
   },
   "file_extension": ".py",
   "mimetype": "text/x-python",
   "name": "python",
   "nbconvert_exporter": "python",
   "pygments_lexer": "ipython2",
   "version": "2.7.12"
  }
 },
 "nbformat": 4,
 "nbformat_minor": 2
}
