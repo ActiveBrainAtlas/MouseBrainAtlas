{
 "cells": [
  {
   "cell_type": "code",
   "execution_count": 1,
   "metadata": {
    "collapsed": true
   },
   "outputs": [],
   "source": [
    "%reload_ext autoreload\n",
    "%autoreload 2\n",
    "\n",
    "import cv2\n",
    "\n",
    "import os\n",
    "import sys\n",
    "sys.path.append(os.path.join(os.environ['REPO_DIR'], 'utilities'))\n",
    "from utilities2015 import *\n",
    "\n",
    "from collections import defaultdict\n",
    "\n",
    "from matplotlib.path import Path\n",
    "%matplotlib inline"
   ]
  },
  {
   "cell_type": "code",
   "execution_count": null,
   "metadata": {
    "collapsed": true
   },
   "outputs": [],
   "source": [
    "stack = 'MD594'\n",
    "\n",
    "first, last = section_range_lookup[stack]\n",
    "dms = dict([(sc, DataManager(stack=stack, section=sc, segm_params_id='tSLIC200', load_mask=False)) \n",
    "            for sc in range(first, last+1)])"
   ]
  },
  {
   "cell_type": "code",
   "execution_count": null,
   "metadata": {
    "collapsed": true
   },
   "outputs": [],
   "source": [
    "label_polygon = pickle.load(open(os.environ['REPO_DIR']+'/database/label_polygon.pkl', 'r'))"
   ]
  },
  {
   "cell_type": "code",
   "execution_count": null,
   "metadata": {
    "collapsed": true
   },
   "outputs": [],
   "source": [
    "patch_dir = '/home/yuncong/CSHL_data_patches/'"
   ]
  },
  {
   "cell_type": "code",
   "execution_count": null,
   "metadata": {
    "collapsed": true
   },
   "outputs": [],
   "source": [
    "h, w = dms[first].image_height, dms[first].image_width\n",
    "\n",
    "patch_size = 224\n",
    "half_size = patch_size/2\n",
    "stride = 56"
   ]
  },
  {
   "cell_type": "code",
   "execution_count": null,
   "metadata": {
    "collapsed": true
   },
   "outputs": [],
   "source": [
    "# xs, ys = np.meshgrid(np.arange(half_size, h-half_size), np.arange(half_size, w-half_size), indexing='ij')\n",
    "\n",
    "grid_ys, grid_xs = np.meshgrid(np.arange(half_size, h-half_size, stride), \n",
    "                               np.arange(half_size, w-half_size, stride), \n",
    "                               indexing='ij')"
   ]
  },
  {
   "cell_type": "code",
   "execution_count": null,
   "metadata": {
    "collapsed": true
   },
   "outputs": [],
   "source": [
    "for sec in range(first, last+1):\n",
    "    labelmap = np.zeros((grid_ys.size,), np.uint8)\n",
    "\n",
    "    for label_ind, label in enumerate(labels):\n",
    "        if sec not in label_polygon[label]:\n",
    "            continue\n",
    "        vertices = label_polygon[label][sec]\n",
    "        polygon_path = Path(vertices)\n",
    "        indices_inside = np.where(polygon_path.contains_points(np.c_[grid_xs.flat, grid_ys.flat]))[0]\n",
    "#         labelmap[indices_inside] = label_ind + 1"
   ]
  }
 ],
 "metadata": {
  "kernelspec": {
   "display_name": "Python 2",
   "language": "python",
   "name": "python2"
  },
  "language_info": {
   "codemirror_mode": {
    "name": "ipython",
    "version": 2
   },
   "file_extension": ".py",
   "mimetype": "text/x-python",
   "name": "python",
   "nbconvert_exporter": "python",
   "pygments_lexer": "ipython2",
   "version": "2.7.3"
  }
 },
 "nbformat": 4,
 "nbformat_minor": 0
}
