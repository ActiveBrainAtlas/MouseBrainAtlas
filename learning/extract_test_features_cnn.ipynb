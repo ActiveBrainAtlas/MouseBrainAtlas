{
 "cells": [
  {
   "cell_type": "code",
   "execution_count": 1,
   "metadata": {
    "collapsed": false,
    "scrolled": true
   },
   "outputs": [
    {
     "name": "stderr",
     "output_type": "stream",
     "text": [
      "/usr/local/lib/python2.7/dist-packages/matplotlib/__init__.py:1350: UserWarning:  This call to matplotlib.use() has no effect\n",
      "because the backend has already been chosen;\n",
      "matplotlib.use() must be called *before* pylab, matplotlib.pyplot,\n",
      "or matplotlib.backends is imported for the first time.\n",
      "\n",
      "  warnings.warn(_use_error_msg)\n",
      "No vtk\n"
     ]
    },
    {
     "name": "stdout",
     "output_type": "stream",
     "text": [
      "Setting environment for Precision WorkStation\n"
     ]
    },
    {
     "name": "stderr",
     "output_type": "stream",
     "text": [
      "File does not exist: /media/yuncong/BstemAtlasData/CSHL_data_processed//MD653/MD653_anchor.txt\n",
      "File does not exist: /media/yuncong/BstemAtlasData/CSHL_data_processed/MD653/MD653_sorted_filenames.txt\n",
      "File does not exist: /media/yuncong/BstemAtlasData/CSHL_data_processed//MD653/MD653_cropbox.txt\n",
      "File does not exist: /media/yuncong/BstemAtlasData/CSHL_data_processed//MD653/MD653_cropbox.txt\n",
      "File does not exist: /media/yuncong/BstemAtlasData/CSHL_data_processed//MD652/MD652_anchor.txt\n",
      "File does not exist: /media/yuncong/BstemAtlasData/CSHL_data_processed/MD652/MD652_sorted_filenames.txt\n",
      "File does not exist: /media/yuncong/BstemAtlasData/CSHL_data_processed//MD652/MD652_cropbox.txt\n",
      "File does not exist: /media/yuncong/BstemAtlasData/CSHL_data_processed//MD652/MD652_cropbox.txt\n"
     ]
    }
   ],
   "source": [
    "%load_ext autoreload\n",
    "%autoreload 2\n",
    "\n",
    "import sys\n",
    "import os\n",
    "import time\n",
    "\n",
    "import numpy as np\n",
    "import mxnet as mx\n",
    "import matplotlib.pyplot as plt\n",
    "%matplotlib inline\n",
    "\n",
    "sys.path.append(os.environ['REPO_DIR'] + '/utilities')\n",
    "from utilities2015 import *\n",
    "from metadata import *\n",
    "from data_manager import *\n",
    "from learning_utilities import *\n",
    "from distributed_utilities import *"
   ]
  },
  {
   "cell_type": "code",
   "execution_count": 2,
   "metadata": {
    "collapsed": true
   },
   "outputs": [],
   "source": [
    "MODEL_ROOTDIR = '/home/yuncong/mxnet_models/'"
   ]
  },
  {
   "cell_type": "code",
   "execution_count": 3,
   "metadata": {
    "collapsed": false
   },
   "outputs": [
    {
     "name": "stderr",
     "output_type": "stream",
     "text": [
      "/home/yuncong/mxnet/python/mxnet/model.py:870: DeprecationWarning: \u001b[91mmxnet.model.FeedForward has been deprecated. Please use mxnet.mod.Module instead.\u001b[0m\n",
      "  **kwargs)\n",
      "/usr/local/lib/python2.7/dist-packages/ipykernel/__main__.py:30: DeprecationWarning: \u001b[91mmxnet.model.FeedForward has been deprecated. Please use mxnet.mod.Module instead.\u001b[0m\n"
     ]
    }
   ],
   "source": [
    "# Does not work for the mxnet version on 3/30/2017\n",
    "# model_dir_name = 'Sat16ClassFinetuned'\n",
    "# model_name = 'Sat16ClassFinetuned'\n",
    "# model_iteration = 10\n",
    "# output_symbol_name = 'flatten_output'\n",
    "# mean_img = np.load(os.path.join(MODEL_ROOTDIR, model_dir_name, 'saturation_mean_224.npy'))\n",
    "\n",
    "# model_dir_name = 'vgg16'\n",
    "# model_name = 'vgg16'\n",
    "# model_iteration = 0\n",
    "# output_symbol_name = 'fc8_output'\n",
    "\n",
    "# model_dir_name = 'vgg19'\n",
    "# model_name = 'vgg19'\n",
    "# model_iteration = 0\n",
    "# output_symbol_name = 'fc8_output'\n",
    "\n",
    "model_dir_name = 'inception-bn'\n",
    "model_name = 'Inception-BN'\n",
    "model_iteration = 126\n",
    "output_symbol_name = 'flatten_output'\n",
    "mean_img = mx.nd.load(os.path.join(MODEL_ROOTDIR, model_dir_name, 'mean_224.nd'))['mean_img'].asnumpy()\n",
    "\n",
    "model0 = mx.model.FeedForward.load(os.path.join(MODEL_ROOTDIR, model_dir_name, model_name), model_iteration, ctx=mx.gpu())\n",
    "flatten_output = model0.symbol.get_internals()[output_symbol_name]\n",
    "model = mx.model.FeedForward(ctx=mx.gpu(), \n",
    "                           symbol=flatten_output, \n",
    "                           arg_params = model0.arg_params, \n",
    "                           aux_params = model0.aux_params,\n",
    "                           allow_extra_params = True)\n",
    "\n",
    "# model_dir_name = 'inception-bn-sat'\n",
    "# model_name = 'inception-bn-sat'\n",
    "# model_iteration = 0\n",
    "# mean_img = np.load(os.path.join(MODEL_ROOTDIR, model_dir_name, 'mean_224.npy'))\n",
    "\n",
    "# model = mx.model.FeedForward.load(os.path.join(MODEL_ROOTDIR, model_dir_name, model_name), model_iteration, ctx=mx.gpu())"
   ]
  },
  {
   "cell_type": "code",
   "execution_count": 4,
   "metadata": {
    "collapsed": true
   },
   "outputs": [],
   "source": [
    "# Visualize network topology\n",
    "\n",
    "# a = mx.viz.plot_network(flatten_output, shape={\"data\":(1, 1, 224, 224)}, node_attrs={\"shape\":'rect',\"fixedsize\":'false'})\n",
    "# a.render(model_name)"
   ]
  },
  {
   "cell_type": "code",
   "execution_count": 5,
   "metadata": {
    "collapsed": true
   },
   "outputs": [],
   "source": [
    "patch_size = 224\n",
    "half_size = patch_size/2\n",
    "stride = 56"
   ]
  },
  {
   "cell_type": "code",
   "execution_count": 6,
   "metadata": {
    "collapsed": true
   },
   "outputs": [],
   "source": [
    "# def convert_to_saturation(img, rescale=True):\n",
    "#     \"\"\"\n",
    "#     Generate saturation channel as a grayscale image.\n",
    "#     \"\"\"\n",
    "#     ma = img.max(axis=-1)\n",
    "#     mi = img.min(axis=-1)\n",
    "# #     sys.stderr.write('compute min and max color components: %.2f seconds\\n' % (time.time() - t1)) # ~5s\n",
    "\n",
    "# #     t1 = time.time()\n",
    "#     s = np.nan_to_num(mi/ma.astype(np.float))\n",
    "# #     sys.stderr.write('min oiver max: %.2f seconds\\n' % (time.time() - t1)) # ~2s\n",
    "\n",
    "# #     t1 = time.time()\n",
    "#     if rescale:\n",
    "#         pmax = s.max()\n",
    "#         pmin = s.min()\n",
    "#         s = (s - pmin) / (pmax - pmin)\n",
    "# #     sys.stderr.write('rescale: %.2f seconds\\n' % (time.time() - t1)) # ~3s\n",
    "\n",
    "#     return img_as_ubyte(s)"
   ]
  },
  {
   "cell_type": "code",
   "execution_count": 15,
   "metadata": {
    "collapsed": false,
    "scrolled": true
   },
   "outputs": [
    {
     "name": "stderr",
     "output_type": "stream",
     "text": [
      "\n",
      "Section 105.\n",
      "97856 samples.\n",
      "/usr/local/lib/python2.7/dist-packages/skimage/external/tifffile/tifffile.py:1748: UserWarning: unpack: string size must be a multiple of element size\n",
      "  warnings.warn(\"unpack: %s\" % e)\n",
      "/usr/local/lib/python2.7/dist-packages/skimage/util/dtype.py:110: UserWarning: Possible precision loss when converting from uint16 to uint8\n",
      "  \"%s to %s\" % (dtypeobj_in, dtypeobj))\n",
      "load image: 117.15 seconds\n",
      "extract patches: 42.81 seconds\n",
      "predict: 206.70 seconds\n"
     ]
    },
    {
     "name": "stdout",
     "output_type": "stream",
     "text": [
      "MD658\n",
      "aws s3 cp /media/yuncong/BstemAtlasData/CSHL_patch_features/Inception-BN/MD658/MD658-F18-2017.04.04-19.29.18_MD658_2_0053_lossless_alignedTo_MD658-N58-2017.03.31-19.59.31_MD658_2_0173_cropped/MD658-F18-2017.04.04-19.29.18_MD658_2_0053_lossless_alignedTo_MD658-N58-2017.03.31-19.59.31_MD658_2_0173_cropped_features.hdf s3://mousebrainatlas-data/CSHL_patch_features/Inception-BN/MD658/MD658-F18-2017.04.04-19.29.18_MD658_2_0053_lossless_alignedTo_MD658-N58-2017.03.31-19.59.31_MD658_2_0173_cropped/MD658-F18-2017.04.04-19.29.18_MD658_2_0053_lossless_alignedTo_MD658-N58-2017.03.31-19.59.31_MD658_2_0173_cropped_features.hdf\n",
      "aws s3 cp /media/yuncong/BstemAtlasData/CSHL_patch_features/Inception-BN/MD658/MD658-F18-2017.04.04-19.29.18_MD658_2_0053_lossless_alignedTo_MD658-N58-2017.03.31-19.59.31_MD658_2_0173_cropped/MD658-F18-2017.04.04-19.29.18_MD658_2_0053_lossless_alignedTo_MD658-N58-2017.03.31-19.59.31_MD658_2_0173_cropped_patch_locations.txt s3://mousebrainatlas-data/CSHL_patch_features/Inception-BN/MD658/MD658-F18-2017.04.04-19.29.18_MD658_2_0053_lossless_alignedTo_MD658-N58-2017.03.31-19.59.31_MD658_2_0173_cropped/MD658-F18-2017.04.04-19.29.18_MD658_2_0053_lossless_alignedTo_MD658-N58-2017.03.31-19.59.31_MD658_2_0173_cropped_patch_locations.txt"
     ]
    },
    {
     "name": "stderr",
     "output_type": "stream",
     "text": [
      "Child returned 0\n",
      "1.76 seconds.\n",
      "Child returned 0\n",
      "0.92 seconds.\n",
      "save: 6.60 seconds\n",
      "\n",
      "Section 107.\n",
      "97856 samples.\n",
      "load image: 112.96 seconds\n",
      "extract patches: 44.34 seconds\n",
      "predict: 206.61 seconds\n"
     ]
    },
    {
     "name": "stdout",
     "output_type": "stream",
     "text": [
      "\n",
      "aws s3 cp /media/yuncong/BstemAtlasData/CSHL_patch_features/Inception-BN/MD658/MD658-F18-2017.04.04-19.29.18_MD658_3_0054_lossless_alignedTo_MD658-N58-2017.03.31-19.59.31_MD658_2_0173_cropped/MD658-F18-2017.04.04-19.29.18_MD658_3_0054_lossless_alignedTo_MD658-N58-2017.03.31-19.59.31_MD658_2_0173_cropped_features.hdf s3://mousebrainatlas-data/CSHL_patch_features/Inception-BN/MD658/MD658-F18-2017.04.04-19.29.18_MD658_3_0054_lossless_alignedTo_MD658-N58-2017.03.31-19.59.31_MD658_2_0173_cropped/MD658-F18-2017.04.04-19.29.18_MD658_3_0054_lossless_alignedTo_MD658-N58-2017.03.31-19.59.31_MD658_2_0173_cropped_features.hdf\n",
      "aws s3 cp /media/yuncong/BstemAtlasData/CSHL_patch_features/Inception-BN/MD658/MD658-F18-2017.04.04-19.29.18_MD658_3_0054_lossless_alignedTo_MD658-N58-2017.03.31-19.59.31_MD658_2_0173_cropped/MD658-F18-2017.04.04-19.29.18_MD658_3_0054_lossless_alignedTo_MD658-N58-2017.03.31-19.59.31_MD658_2_0173_cropped_patch_locations.txt s3://mousebrainatlas-data/CSHL_patch_features/Inception-BN/MD658/MD658-F18-2017.04.04-19.29.18_MD658_3_0054_lossless_alignedTo_MD658-N58-2017.03.31-19.59.31_MD658_2_0173_cropped/MD658-F18-2017.04.04-19.29.18_MD658_3_0054_lossless_alignedTo_MD658-N58-2017.03.31-19.59.31_MD658_2_0173_cropped_patch_locations.txt"
     ]
    },
    {
     "name": "stderr",
     "output_type": "stream",
     "text": [
      "Child returned 0\n",
      "1.86 seconds.\n",
      "Child returned 0\n",
      "1.02 seconds.\n",
      "save: 6.80 seconds\n",
      "\n",
      "Section 109.\n",
      "97856 samples.\n",
      "load image: 124.74 seconds\n",
      "extract patches: 41.62 seconds\n",
      "predict: 213.67 seconds\n"
     ]
    },
    {
     "name": "stdout",
     "output_type": "stream",
     "text": [
      "\n",
      "aws s3 cp /media/yuncong/BstemAtlasData/CSHL_patch_features/Inception-BN/MD658/MD658-F19-2017.04.12-19.31.00_MD658_1_0055_lossless_alignedTo_MD658-N58-2017.03.31-19.59.31_MD658_2_0173_cropped/MD658-F19-2017.04.12-19.31.00_MD658_1_0055_lossless_alignedTo_MD658-N58-2017.03.31-19.59.31_MD658_2_0173_cropped_features.hdf s3://mousebrainatlas-data/CSHL_patch_features/Inception-BN/MD658/MD658-F19-2017.04.12-19.31.00_MD658_1_0055_lossless_alignedTo_MD658-N58-2017.03.31-19.59.31_MD658_2_0173_cropped/MD658-F19-2017.04.12-19.31.00_MD658_1_0055_lossless_alignedTo_MD658-N58-2017.03.31-19.59.31_MD658_2_0173_cropped_features.hdf\n",
      "aws s3 cp /media/yuncong/BstemAtlasData/CSHL_patch_features/Inception-BN/MD658/MD658-F19-2017.04.12-19.31.00_MD658_1_0055_lossless_alignedTo_MD658-N58-2017.03.31-19.59.31_MD658_2_0173_cropped/MD658-F19-2017.04.12-19.31.00_MD658_1_0055_lossless_alignedTo_MD658-N58-2017.03.31-19.59.31_MD658_2_0173_cropped_patch_locations.txt s3://mousebrainatlas-data/CSHL_patch_features/Inception-BN/MD658/MD658-F19-2017.04.12-19.31.00_MD658_1_0055_lossless_alignedTo_MD658-N58-2017.03.31-19.59.31_MD658_2_0173_cropped/MD658-F19-2017.04.12-19.31.00_MD658_1_0055_lossless_alignedTo_MD658-N58-2017.03.31-19.59.31_MD658_2_0173_cropped_patch_locations.txt"
     ]
    },
    {
     "name": "stderr",
     "output_type": "stream",
     "text": [
      "Child returned 0\n",
      "1.72 seconds.\n",
      "Child returned 0\n",
      "0.93 seconds.\n",
      "save: 6.32 seconds\n",
      "\n",
      "Section 111.\n",
      "97856 samples.\n",
      "load image: 104.39 seconds\n",
      "extract patches: 42.44 seconds\n",
      "predict: 225.54 seconds\n"
     ]
    },
    {
     "name": "stdout",
     "output_type": "stream",
     "text": [
      "\n",
      "aws s3 cp /media/yuncong/BstemAtlasData/CSHL_patch_features/Inception-BN/MD658/MD658-F19-2017.04.12-19.31.00_MD658_2_0056_lossless_alignedTo_MD658-N58-2017.03.31-19.59.31_MD658_2_0173_cropped/MD658-F19-2017.04.12-19.31.00_MD658_2_0056_lossless_alignedTo_MD658-N58-2017.03.31-19.59.31_MD658_2_0173_cropped_features.hdf s3://mousebrainatlas-data/CSHL_patch_features/Inception-BN/MD658/MD658-F19-2017.04.12-19.31.00_MD658_2_0056_lossless_alignedTo_MD658-N58-2017.03.31-19.59.31_MD658_2_0173_cropped/MD658-F19-2017.04.12-19.31.00_MD658_2_0056_lossless_alignedTo_MD658-N58-2017.03.31-19.59.31_MD658_2_0173_cropped_features.hdf\n",
      "aws s3 cp /media/yuncong/BstemAtlasData/CSHL_patch_features/Inception-BN/MD658/MD658-F19-2017.04.12-19.31.00_MD658_2_0056_lossless_alignedTo_MD658-N58-2017.03.31-19.59.31_MD658_2_0173_cropped/MD658-F19-2017.04.12-19.31.00_MD658_2_0056_lossless_alignedTo_MD658-N58-2017.03.31-19.59.31_MD658_2_0173_cropped_patch_locations.txt s3://mousebrainatlas-data/CSHL_patch_features/Inception-BN/MD658/MD658-F19-2017.04.12-19.31.00_MD658_2_0056_lossless_alignedTo_MD658-N58-2017.03.31-19.59.31_MD658_2_0173_cropped/MD658-F19-2017.04.12-19.31.00_MD658_2_0056_lossless_alignedTo_MD658-N58-2017.03.31-19.59.31_MD658_2_0173_cropped_patch_locations.txt"
     ]
    },
    {
     "name": "stderr",
     "output_type": "stream",
     "text": [
      "Child returned 0\n",
      "1.74 seconds.\n",
      "Child returned 0\n",
      "1.03 seconds.\n",
      "save: 6.40 seconds\n",
      "\n",
      "Section 113.\n",
      "97856 samples.\n",
      "load image: 112.30 seconds\n",
      "extract patches: 44.03 seconds\n",
      "predict: 205.04 seconds\n"
     ]
    },
    {
     "name": "stdout",
     "output_type": "stream",
     "text": [
      "\n",
      "aws s3 cp /media/yuncong/BstemAtlasData/CSHL_patch_features/Inception-BN/MD658/MD658-F19-2017.04.04-19.44.45_MD658_3_0057_lossless_alignedTo_MD658-N58-2017.03.31-19.59.31_MD658_2_0173_cropped/MD658-F19-2017.04.04-19.44.45_MD658_3_0057_lossless_alignedTo_MD658-N58-2017.03.31-19.59.31_MD658_2_0173_cropped_features.hdf s3://mousebrainatlas-data/CSHL_patch_features/Inception-BN/MD658/MD658-F19-2017.04.04-19.44.45_MD658_3_0057_lossless_alignedTo_MD658-N58-2017.03.31-19.59.31_MD658_2_0173_cropped/MD658-F19-2017.04.04-19.44.45_MD658_3_0057_lossless_alignedTo_MD658-N58-2017.03.31-19.59.31_MD658_2_0173_cropped_features.hdf\n",
      "aws s3 cp /media/yuncong/BstemAtlasData/CSHL_patch_features/Inception-BN/MD658/MD658-F19-2017.04.04-19.44.45_MD658_3_0057_lossless_alignedTo_MD658-N58-2017.03.31-19.59.31_MD658_2_0173_cropped/MD658-F19-2017.04.04-19.44.45_MD658_3_0057_lossless_alignedTo_MD658-N58-2017.03.31-19.59.31_MD658_2_0173_cropped_patch_locations.txt s3://mousebrainatlas-data/CSHL_patch_features/Inception-BN/MD658/MD658-F19-2017.04.04-19.44.45_MD658_3_0057_lossless_alignedTo_MD658-N58-2017.03.31-19.59.31_MD658_2_0173_cropped/MD658-F19-2017.04.04-19.44.45_MD658_3_0057_lossless_alignedTo_MD658-N58-2017.03.31-19.59.31_MD658_2_0173_cropped_patch_locations.txt"
     ]
    },
    {
     "name": "stderr",
     "output_type": "stream",
     "text": [
      "Child returned 0\n",
      "1.82 seconds.\n",
      "Child returned 0\n",
      "0.99 seconds.\n",
      "save: 6.87 seconds\n",
      "\n",
      "Section 115.\n",
      "97856 samples.\n",
      "load image: 134.98 seconds\n",
      "extract patches: 42.85 seconds\n",
      "predict: 221.26 seconds\n"
     ]
    },
    {
     "name": "stdout",
     "output_type": "stream",
     "text": [
      "\n",
      "aws s3 cp /media/yuncong/BstemAtlasData/CSHL_patch_features/Inception-BN/MD658/MD658-F20-2017.04.12-19.48.14_MD658_1_0058_lossless_alignedTo_MD658-N58-2017.03.31-19.59.31_MD658_2_0173_cropped/MD658-F20-2017.04.12-19.48.14_MD658_1_0058_lossless_alignedTo_MD658-N58-2017.03.31-19.59.31_MD658_2_0173_cropped_features.hdf s3://mousebrainatlas-data/CSHL_patch_features/Inception-BN/MD658/MD658-F20-2017.04.12-19.48.14_MD658_1_0058_lossless_alignedTo_MD658-N58-2017.03.31-19.59.31_MD658_2_0173_cropped/MD658-F20-2017.04.12-19.48.14_MD658_1_0058_lossless_alignedTo_MD658-N58-2017.03.31-19.59.31_MD658_2_0173_cropped_features.hdf\n",
      "aws s3 cp /media/yuncong/BstemAtlasData/CSHL_patch_features/Inception-BN/MD658/MD658-F20-2017.04.12-19.48.14_MD658_1_0058_lossless_alignedTo_MD658-N58-2017.03.31-19.59.31_MD658_2_0173_cropped/MD658-F20-2017.04.12-19.48.14_MD658_1_0058_lossless_alignedTo_MD658-N58-2017.03.31-19.59.31_MD658_2_0173_cropped_patch_locations.txt s3://mousebrainatlas-data/CSHL_patch_features/Inception-BN/MD658/MD658-F20-2017.04.12-19.48.14_MD658_1_0058_lossless_alignedTo_MD658-N58-2017.03.31-19.59.31_MD658_2_0173_cropped/MD658-F20-2017.04.12-19.48.14_MD658_1_0058_lossless_alignedTo_MD658-N58-2017.03.31-19.59.31_MD658_2_0173_cropped_patch_locations.txt"
     ]
    },
    {
     "name": "stderr",
     "output_type": "stream",
     "text": [
      "Child returned 0\n",
      "1.83 seconds.\n",
      "Child returned 0\n",
      "0.96 seconds.\n",
      "save: 6.70 seconds\n",
      "\n",
      "Section 117.\n",
      "97856 samples.\n",
      "load image: 113.04 seconds\n",
      "extract patches: 43.96 seconds\n",
      "predict: 240.75 seconds\n"
     ]
    },
    {
     "name": "stdout",
     "output_type": "stream",
     "text": [
      "\n",
      "aws s3 cp /media/yuncong/BstemAtlasData/CSHL_patch_features/Inception-BN/MD658/MD658-F20-2017.04.04-20.00.33_MD658_2_0059_lossless_alignedTo_MD658-N58-2017.03.31-19.59.31_MD658_2_0173_cropped/MD658-F20-2017.04.04-20.00.33_MD658_2_0059_lossless_alignedTo_MD658-N58-2017.03.31-19.59.31_MD658_2_0173_cropped_features.hdf s3://mousebrainatlas-data/CSHL_patch_features/Inception-BN/MD658/MD658-F20-2017.04.04-20.00.33_MD658_2_0059_lossless_alignedTo_MD658-N58-2017.03.31-19.59.31_MD658_2_0173_cropped/MD658-F20-2017.04.04-20.00.33_MD658_2_0059_lossless_alignedTo_MD658-N58-2017.03.31-19.59.31_MD658_2_0173_cropped_features.hdf\n",
      "aws s3 cp /media/yuncong/BstemAtlasData/CSHL_patch_features/Inception-BN/MD658/MD658-F20-2017.04.04-20.00.33_MD658_2_0059_lossless_alignedTo_MD658-N58-2017.03.31-19.59.31_MD658_2_0173_cropped/MD658-F20-2017.04.04-20.00.33_MD658_2_0059_lossless_alignedTo_MD658-N58-2017.03.31-19.59.31_MD658_2_0173_cropped_patch_locations.txt s3://mousebrainatlas-data/CSHL_patch_features/Inception-BN/MD658/MD658-F20-2017.04.04-20.00.33_MD658_2_0059_lossless_alignedTo_MD658-N58-2017.03.31-19.59.31_MD658_2_0173_cropped/MD658-F20-2017.04.04-20.00.33_MD658_2_0059_lossless_alignedTo_MD658-N58-2017.03.31-19.59.31_MD658_2_0173_cropped_patch_locations.txt"
     ]
    },
    {
     "name": "stderr",
     "output_type": "stream",
     "text": [
      "Child returned 0\n",
      "1.86 seconds.\n",
      "Child returned 0\n",
      "1.08 seconds.\n",
      "save: 7.16 seconds\n",
      "\n",
      "Section 119.\n",
      "97856 samples.\n",
      "load image: 138.34 seconds\n",
      "extract patches: 44.45 seconds\n"
     ]
    },
    {
     "name": "stdout",
     "output_type": "stream",
     "text": [
      "\n",
      "aws s3 cp /media/yuncong/BstemAtlasData/CSHL_patch_features/Inception-BN/MD658/MD658-F20-2017.04.04-20.00.33_MD658_3_0060_lossless_alignedTo_MD658-N58-2017.03.31-19.59.31_MD658_2_0173_cropped/MD658-F20-2017.04.04-20.00.33_MD658_3_0060_lossless_alignedTo_MD658-N58-2017.03.31-19.59.31_MD658_2_0173_cropped_features.hdf s3://mousebrainatlas-data/CSHL_patch_features/Inception-BN/MD658/MD658-F20-2017.04.04-20.00.33_MD658_3_0060_lossless_alignedTo_MD658-N58-2017.03.31-19.59.31_MD658_2_0173_cropped/MD658-F20-2017.04.04-20.00.33_MD658_3_0060_lossless_alignedTo_MD658-N58-2017.03.31-19.59.31_MD658_2_0173_cropped_features.hdf"
     ]
    },
    {
     "name": "stderr",
     "output_type": "stream",
     "text": [
      "predict: 231.88 seconds\n",
      "Child returned"
     ]
    },
    {
     "name": "stdout",
     "output_type": "stream",
     "text": [
      "\n",
      "aws s3 cp /media/yuncong/BstemAtlasData/CSHL_patch_features/Inception-BN/MD658/MD658-F20-2017.04.04-20.00.33_MD658_3_0060_lossless_alignedTo_MD658-N58-2017.03.31-19.59.31_MD658_2_0173_cropped/MD658-F20-2017.04.04-20.00.33_MD658_3_0060_lossless_alignedTo_MD658-N58-2017.03.31-19.59.31_MD658_2_0173_cropped_patch_locations.txt s3://mousebrainatlas-data/CSHL_patch_features/Inception-BN/MD658/MD658-F20-2017.04.04-20.00.33_MD658_3_0060_lossless_alignedTo_MD658-N58-2017.03.31-19.59.31_MD658_2_0173_cropped/MD658-F20-2017.04.04-20.00.33_MD658_3_0060_lossless_alignedTo_MD658-N58-2017.03.31-19.59.31_MD658_2_0173_cropped_patch_locations.txt"
     ]
    },
    {
     "name": "stderr",
     "output_type": "stream",
     "text": [
      " 0\n",
      "2.00 seconds.\n",
      "Child returned 0\n",
      "1.11 seconds.\n",
      "save: 7.34 seconds\n",
      "\n",
      "Section 121.\n",
      "97856 samples.\n",
      "load image: 133.36 seconds\n",
      "extract patches: 43.90 seconds\n",
      "predict: 214.60 seconds\n"
     ]
    },
    {
     "name": "stdout",
     "output_type": "stream",
     "text": [
      "\n",
      "aws s3 cp /media/yuncong/BstemAtlasData/CSHL_patch_features/Inception-BN/MD658/MD658-F21-2017.04.04-20.15.37_MD658_1_0061_lossless_alignedTo_MD658-N58-2017.03.31-19.59.31_MD658_2_0173_cropped/MD658-F21-2017.04.04-20.15.37_MD658_1_0061_lossless_alignedTo_MD658-N58-2017.03.31-19.59.31_MD658_2_0173_cropped_features.hdf s3://mousebrainatlas-data/CSHL_patch_features/Inception-BN/MD658/MD658-F21-2017.04.04-20.15.37_MD658_1_0061_lossless_alignedTo_MD658-N58-2017.03.31-19.59.31_MD658_2_0173_cropped/MD658-F21-2017.04.04-20.15.37_MD658_1_0061_lossless_alignedTo_MD658-N58-2017.03.31-19.59.31_MD658_2_0173_cropped_features.hdf\n",
      "aws s3 cp /media/yuncong/BstemAtlasData/CSHL_patch_features/Inception-BN/MD658/MD658-F21-2017.04.04-20.15.37_MD658_1_0061_lossless_alignedTo_MD658-N58-2017.03.31-19.59.31_MD658_2_0173_cropped/MD658-F21-2017.04.04-20.15.37_MD658_1_0061_lossless_alignedTo_MD658-N58-2017.03.31-19.59.31_MD658_2_0173_cropped_patch_locations.txt s3://mousebrainatlas-data/CSHL_patch_features/Inception-BN/MD658/MD658-F21-2017.04.04-20.15.37_MD658_1_0061_lossless_alignedTo_MD658-N58-2017.03.31-19.59.31_MD658_2_0173_cropped/MD658-F21-2017.04.04-20.15.37_MD658_1_0061_lossless_alignedTo_MD658-N58-2017.03.31-19.59.31_MD658_2_0173_cropped_patch_locations.txt"
     ]
    },
    {
     "name": "stderr",
     "output_type": "stream",
     "text": [
      "Child returned 0\n",
      "2.00 seconds.\n",
      "Child returned 0\n",
      "1.01 seconds.\n",
      "save: 7.31 seconds\n",
      "\n",
      "Section 123.\n",
      "97856 samples.\n",
      "load image: 120.77 seconds\n",
      "extract patches: 45.91 seconds\n",
      "predict: 228.01 seconds\n"
     ]
    },
    {
     "name": "stdout",
     "output_type": "stream",
     "text": [
      "\n",
      "aws s3 cp /media/yuncong/BstemAtlasData/CSHL_patch_features/Inception-BN/MD658/MD658-F21-2017.04.04-20.15.37_MD658_2_0062_lossless_alignedTo_MD658-N58-2017.03.31-19.59.31_MD658_2_0173_cropped/MD658-F21-2017.04.04-20.15.37_MD658_2_0062_lossless_alignedTo_MD658-N58-2017.03.31-19.59.31_MD658_2_0173_cropped_features.hdf s3://mousebrainatlas-data/CSHL_patch_features/Inception-BN/MD658/MD658-F21-2017.04.04-20.15.37_MD658_2_0062_lossless_alignedTo_MD658-N58-2017.03.31-19.59.31_MD658_2_0173_cropped/MD658-F21-2017.04.04-20.15.37_MD658_2_0062_lossless_alignedTo_MD658-N58-2017.03.31-19.59.31_MD658_2_0173_cropped_features.hdf\n",
      "aws s3 cp /media/yuncong/BstemAtlasData/CSHL_patch_features/Inception-BN/MD658/MD658-F21-2017.04.04-20.15.37_MD658_2_0062_lossless_alignedTo_MD658-N58-2017.03.31-19.59.31_MD658_2_0173_cropped/MD658-F21-2017.04.04-20.15.37_MD658_2_0062_lossless_alignedTo_MD658-N58-2017.03.31-19.59.31_MD658_2_0173_cropped_patch_locations.txt s3://mousebrainatlas-data/CSHL_patch_features/Inception-BN/MD658/MD658-F21-2017.04.04-20.15.37_MD658_2_0062_lossless_alignedTo_MD658-N58-2017.03.31-19.59.31_MD658_2_0173_cropped/MD658-F21-2017.04.04-20.15.37_MD658_2_0062_lossless_alignedTo_MD658-N58-2017.03.31-19.59.31_MD658_2_0173_cropped_patch_locations.txt"
     ]
    },
    {
     "name": "stderr",
     "output_type": "stream",
     "text": [
      "Child returned 0\n",
      "1.87 seconds.\n",
      "Child returned 0\n",
      "1.01 seconds.\n",
      "save: 7.03 seconds\n",
      "\n",
      "Section 125.\n",
      "97856 samples.\n",
      "load image: 133.48 seconds\n",
      "extract patches: 43.81 seconds\n",
      "predict: 222.41 seconds\n"
     ]
    },
    {
     "name": "stdout",
     "output_type": "stream",
     "text": [
      "\n",
      "aws s3 cp /media/yuncong/BstemAtlasData/CSHL_patch_features/Inception-BN/MD658/MD658-F22-2017.04.04-20.27.54_MD658_1_0064_lossless_alignedTo_MD658-N58-2017.03.31-19.59.31_MD658_2_0173_cropped/MD658-F22-2017.04.04-20.27.54_MD658_1_0064_lossless_alignedTo_MD658-N58-2017.03.31-19.59.31_MD658_2_0173_cropped_features.hdf s3://mousebrainatlas-data/CSHL_patch_features/Inception-BN/MD658/MD658-F22-2017.04.04-20.27.54_MD658_1_0064_lossless_alignedTo_MD658-N58-2017.03.31-19.59.31_MD658_2_0173_cropped/MD658-F22-2017.04.04-20.27.54_MD658_1_0064_lossless_alignedTo_MD658-N58-2017.03.31-19.59.31_MD658_2_0173_cropped_features.hdf\n",
      "aws s3 cp /media/yuncong/BstemAtlasData/CSHL_patch_features/Inception-BN/MD658/MD658-F22-2017.04.04-20.27.54_MD658_1_0064_lossless_alignedTo_MD658-N58-2017.03.31-19.59.31_MD658_2_0173_cropped/MD658-F22-2017.04.04-20.27.54_MD658_1_0064_lossless_alignedTo_MD658-N58-2017.03.31-19.59.31_MD658_2_0173_cropped_patch_locations.txt s3://mousebrainatlas-data/CSHL_patch_features/Inception-BN/MD658/MD658-F22-2017.04.04-20.27.54_MD658_1_0064_lossless_alignedTo_MD658-N58-2017.03.31-19.59.31_MD658_2_0173_cropped/MD658-F22-2017.04.04-20.27.54_MD658_1_0064_lossless_alignedTo_MD658-N58-2017.03.31-19.59.31_MD658_2_0173_cropped_patch_locations.txt"
     ]
    },
    {
     "name": "stderr",
     "output_type": "stream",
     "text": [
      "Child returned 0\n",
      "2.03 seconds.\n",
      "Child returned 0\n",
      "1.03 seconds.\n",
      "save: 7.37 seconds\n",
      "\n",
      "Section 127.\n",
      "97856 samples.\n",
      "load image: 120.07 seconds\n",
      "extract patches: 42.86 seconds\n",
      "predict: 224.65 seconds\n"
     ]
    },
    {
     "name": "stdout",
     "output_type": "stream",
     "text": [
      "\n",
      "aws s3 cp /media/yuncong/BstemAtlasData/CSHL_patch_features/Inception-BN/MD658/MD658-F22-2017.04.04-20.27.54_MD658_2_0065_lossless_alignedTo_MD658-N58-2017.03.31-19.59.31_MD658_2_0173_cropped/MD658-F22-2017.04.04-20.27.54_MD658_2_0065_lossless_alignedTo_MD658-N58-2017.03.31-19.59.31_MD658_2_0173_cropped_features.hdf s3://mousebrainatlas-data/CSHL_patch_features/Inception-BN/MD658/MD658-F22-2017.04.04-20.27.54_MD658_2_0065_lossless_alignedTo_MD658-N58-2017.03.31-19.59.31_MD658_2_0173_cropped/MD658-F22-2017.04.04-20.27.54_MD658_2_0065_lossless_alignedTo_MD658-N58-2017.03.31-19.59.31_MD658_2_0173_cropped_features.hdf\n",
      "aws s3 cp /media/yuncong/BstemAtlasData/CSHL_patch_features/Inception-BN/MD658/MD658-F22-2017.04.04-20.27.54_MD658_2_0065_lossless_alignedTo_MD658-N58-2017.03.31-19.59.31_MD658_2_0173_cropped/MD658-F22-2017.04.04-20.27.54_MD658_2_0065_lossless_alignedTo_MD658-N58-2017.03.31-19.59.31_MD658_2_0173_cropped_patch_locations.txt s3://mousebrainatlas-data/CSHL_patch_features/Inception-BN/MD658/MD658-F22-2017.04.04-20.27.54_MD658_2_0065_lossless_alignedTo_MD658-N58-2017.03.31-19.59.31_MD658_2_0173_cropped/MD658-F22-2017.04.04-20.27.54_MD658_2_0065_lossless_alignedTo_MD658-N58-2017.03.31-19.59.31_MD658_2_0173_cropped_patch_locations.txt"
     ]
    },
    {
     "name": "stderr",
     "output_type": "stream",
     "text": [
      "Child returned 0\n",
      "1.93 seconds.\n",
      "Child returned 0\n",
      "1.13 seconds.\n",
      "save: 7.41 seconds\n",
      "\n",
      "Section 129.\n",
      "97856 samples.\n",
      "load image: 122.21 seconds\n",
      "extract patches: 43.17 seconds\n",
      "predict: 228.56 seconds\n"
     ]
    },
    {
     "name": "stdout",
     "output_type": "stream",
     "text": [
      "\n",
      "aws s3 cp /media/yuncong/BstemAtlasData/CSHL_patch_features/Inception-BN/MD658/MD658-F23-2017.04.04-20.42.02_MD658_1_0067_lossless_alignedTo_MD658-N58-2017.03.31-19.59.31_MD658_2_0173_cropped/MD658-F23-2017.04.04-20.42.02_MD658_1_0067_lossless_alignedTo_MD658-N58-2017.03.31-19.59.31_MD658_2_0173_cropped_features.hdf s3://mousebrainatlas-data/CSHL_patch_features/Inception-BN/MD658/MD658-F23-2017.04.04-20.42.02_MD658_1_0067_lossless_alignedTo_MD658-N58-2017.03.31-19.59.31_MD658_2_0173_cropped/MD658-F23-2017.04.04-20.42.02_MD658_1_0067_lossless_alignedTo_MD658-N58-2017.03.31-19.59.31_MD658_2_0173_cropped_features.hdf\n",
      "aws s3 cp /media/yuncong/BstemAtlasData/CSHL_patch_features/Inception-BN/MD658/MD658-F23-2017.04.04-20.42.02_MD658_1_0067_lossless_alignedTo_MD658-N58-2017.03.31-19.59.31_MD658_2_0173_cropped/MD658-F23-2017.04.04-20.42.02_MD658_1_0067_lossless_alignedTo_MD658-N58-2017.03.31-19.59.31_MD658_2_0173_cropped_patch_locations.txt s3://mousebrainatlas-data/CSHL_patch_features/Inception-BN/MD658/MD658-F23-2017.04.04-20.42.02_MD658_1_0067_lossless_alignedTo_MD658-N58-2017.03.31-19.59.31_MD658_2_0173_cropped/MD658-F23-2017.04.04-20.42.02_MD658_1_0067_lossless_alignedTo_MD658-N58-2017.03.31-19.59.31_MD658_2_0173_cropped_patch_locations.txt"
     ]
    },
    {
     "name": "stderr",
     "output_type": "stream",
     "text": [
      "Child returned 0\n",
      "3.70 seconds.\n",
      "Child returned 0\n",
      "1.02 seconds.\n",
      "save: 9.11 seconds\n",
      "\n",
      "Section 131.\n",
      "97856 samples.\n",
      "load image: 127.08 seconds\n",
      "extract patches: 42.84 seconds\n",
      "predict: 225.83 seconds\n"
     ]
    },
    {
     "name": "stdout",
     "output_type": "stream",
     "text": [
      "\n",
      "aws s3 cp /media/yuncong/BstemAtlasData/CSHL_patch_features/Inception-BN/MD658/MD658-F23-2017.04.04-20.42.02_MD658_2_0068_lossless_alignedTo_MD658-N58-2017.03.31-19.59.31_MD658_2_0173_cropped/MD658-F23-2017.04.04-20.42.02_MD658_2_0068_lossless_alignedTo_MD658-N58-2017.03.31-19.59.31_MD658_2_0173_cropped_features.hdf s3://mousebrainatlas-data/CSHL_patch_features/Inception-BN/MD658/MD658-F23-2017.04.04-20.42.02_MD658_2_0068_lossless_alignedTo_MD658-N58-2017.03.31-19.59.31_MD658_2_0173_cropped/MD658-F23-2017.04.04-20.42.02_MD658_2_0068_lossless_alignedTo_MD658-N58-2017.03.31-19.59.31_MD658_2_0173_cropped_features.hdf\n",
      "aws s3 cp /media/yuncong/BstemAtlasData/CSHL_patch_features/Inception-BN/MD658/MD658-F23-2017.04.04-20.42.02_MD658_2_0068_lossless_alignedTo_MD658-N58-2017.03.31-19.59.31_MD658_2_0173_cropped/MD658-F23-2017.04.04-20.42.02_MD658_2_0068_lossless_alignedTo_MD658-N58-2017.03.31-19.59.31_MD658_2_0173_cropped_patch_locations.txt s3://mousebrainatlas-data/CSHL_patch_features/Inception-BN/MD658/MD658-F23-2017.04.04-20.42.02_MD658_2_0068_lossless_alignedTo_MD658-N58-2017.03.31-19.59.31_MD658_2_0173_cropped/MD658-F23-2017.04.04-20.42.02_MD658_2_0068_lossless_alignedTo_MD658-N58-2017.03.31-19.59.31_MD658_2_0173_cropped_patch_locations.txt"
     ]
    },
    {
     "name": "stderr",
     "output_type": "stream",
     "text": [
      "Child returned 0\n",
      "1.99 seconds.\n",
      "Child returned 0\n",
      "1.07 seconds.\n",
      "save: 7.23 seconds\n",
      "\n",
      "Section 133.\n",
      "97856 samples.\n",
      "load image: 146.95 seconds\n",
      "extract patches: 46.84 seconds\n",
      "predict: 230.79 seconds\n"
     ]
    },
    {
     "name": "stdout",
     "output_type": "stream",
     "text": [
      "\n",
      "aws s3 cp /media/yuncong/BstemAtlasData/CSHL_patch_features/Inception-BN/MD658/MD658-F24-2017.04.04-20.54.05_MD658_1_0070_lossless_alignedTo_MD658-N58-2017.03.31-19.59.31_MD658_2_0173_cropped/MD658-F24-2017.04.04-20.54.05_MD658_1_0070_lossless_alignedTo_MD658-N58-2017.03.31-19.59.31_MD658_2_0173_cropped_features.hdf s3://mousebrainatlas-data/CSHL_patch_features/Inception-BN/MD658/MD658-F24-2017.04.04-20.54.05_MD658_1_0070_lossless_alignedTo_MD658-N58-2017.03.31-19.59.31_MD658_2_0173_cropped/MD658-F24-2017.04.04-20.54.05_MD658_1_0070_lossless_alignedTo_MD658-N58-2017.03.31-19.59.31_MD658_2_0173_cropped_features.hdf\n",
      "aws s3 cp /media/yuncong/BstemAtlasData/CSHL_patch_features/Inception-BN/MD658/MD658-F24-2017.04.04-20.54.05_MD658_1_0070_lossless_alignedTo_MD658-N58-2017.03.31-19.59.31_MD658_2_0173_cropped/MD658-F24-2017.04.04-20.54.05_MD658_1_0070_lossless_alignedTo_MD658-N58-2017.03.31-19.59.31_MD658_2_0173_cropped_patch_locations.txt s3://mousebrainatlas-data/CSHL_patch_features/Inception-BN/MD658/MD658-F24-2017.04.04-20.54.05_MD658_1_0070_lossless_alignedTo_MD658-N58-2017.03.31-19.59.31_MD658_2_0173_cropped/MD658-F24-2017.04.04-20.54.05_MD658_1_0070_lossless_alignedTo_MD658-N58-2017.03.31-19.59.31_MD658_2_0173_cropped_patch_locations.txt"
     ]
    },
    {
     "name": "stderr",
     "output_type": "stream",
     "text": [
      "Child returned 0\n",
      "1.93 seconds.\n",
      "Child returned 0\n",
      "1.02 seconds.\n",
      "save: 7.14 seconds\n",
      "\n",
      "Section 135.\n",
      "97856 samples.\n",
      "load image: 120.50 seconds\n",
      "extract patches: 42.61 seconds\n",
      "predict: 243.15 seconds\n"
     ]
    },
    {
     "name": "stdout",
     "output_type": "stream",
     "text": [
      "\n",
      "aws s3 cp /media/yuncong/BstemAtlasData/CSHL_patch_features/Inception-BN/MD658/MD658-F24-2017.04.04-20.54.05_MD658_2_0071_lossless_alignedTo_MD658-N58-2017.03.31-19.59.31_MD658_2_0173_cropped/MD658-F24-2017.04.04-20.54.05_MD658_2_0071_lossless_alignedTo_MD658-N58-2017.03.31-19.59.31_MD658_2_0173_cropped_features.hdf s3://mousebrainatlas-data/CSHL_patch_features/Inception-BN/MD658/MD658-F24-2017.04.04-20.54.05_MD658_2_0071_lossless_alignedTo_MD658-N58-2017.03.31-19.59.31_MD658_2_0173_cropped/MD658-F24-2017.04.04-20.54.05_MD658_2_0071_lossless_alignedTo_MD658-N58-2017.03.31-19.59.31_MD658_2_0173_cropped_features.hdf\n",
      "aws s3 cp /media/yuncong/BstemAtlasData/CSHL_patch_features/Inception-BN/MD658/MD658-F24-2017.04.04-20.54.05_MD658_2_0071_lossless_alignedTo_MD658-N58-2017.03.31-19.59.31_MD658_2_0173_cropped/MD658-F24-2017.04.04-20.54.05_MD658_2_0071_lossless_alignedTo_MD658-N58-2017.03.31-19.59.31_MD658_2_0173_cropped_patch_locations.txt s3://mousebrainatlas-data/CSHL_patch_features/Inception-BN/MD658/MD658-F24-2017.04.04-20.54.05_MD658_2_0071_lossless_alignedTo_MD658-N58-2017.03.31-19.59.31_MD658_2_0173_cropped/MD658-F24-2017.04.04-20.54.05_MD658_2_0071_lossless_alignedTo_MD658-N58-2017.03.31-19.59.31_MD658_2_0173_cropped_patch_locations.txt"
     ]
    },
    {
     "name": "stderr",
     "output_type": "stream",
     "text": [
      "Child returned 0\n",
      "2.03 seconds.\n",
      "Child returned 0\n",
      "1.07 seconds.\n",
      "save: 7.36 seconds\n",
      "\n",
      "Section 137.\n",
      "97856 samples.\n",
      "load image: 123.06 seconds\n",
      "extract patches: 42.80 seconds\n",
      "predict: 224.70 seconds\n"
     ]
    },
    {
     "name": "stdout",
     "output_type": "stream",
     "text": [
      "\n",
      "aws s3 cp /media/yuncong/BstemAtlasData/CSHL_patch_features/Inception-BN/MD658/MD658-F25-2017.04.04-21.07.22_MD658_1_0073_lossless_alignedTo_MD658-N58-2017.03.31-19.59.31_MD658_2_0173_cropped/MD658-F25-2017.04.04-21.07.22_MD658_1_0073_lossless_alignedTo_MD658-N58-2017.03.31-19.59.31_MD658_2_0173_cropped_features.hdf s3://mousebrainatlas-data/CSHL_patch_features/Inception-BN/MD658/MD658-F25-2017.04.04-21.07.22_MD658_1_0073_lossless_alignedTo_MD658-N58-2017.03.31-19.59.31_MD658_2_0173_cropped/MD658-F25-2017.04.04-21.07.22_MD658_1_0073_lossless_alignedTo_MD658-N58-2017.03.31-19.59.31_MD658_2_0173_cropped_features.hdf\n",
      "aws s3 cp /media/yuncong/BstemAtlasData/CSHL_patch_features/Inception-BN/MD658/MD658-F25-2017.04.04-21.07.22_MD658_1_0073_lossless_alignedTo_MD658-N58-2017.03.31-19.59.31_MD658_2_0173_cropped/MD658-F25-2017.04.04-21.07.22_MD658_1_0073_lossless_alignedTo_MD658-N58-2017.03.31-19.59.31_MD658_2_0173_cropped_patch_locations.txt s3://mousebrainatlas-data/CSHL_patch_features/Inception-BN/MD658/MD658-F25-2017.04.04-21.07.22_MD658_1_0073_lossless_alignedTo_MD658-N58-2017.03.31-19.59.31_MD658_2_0173_cropped/MD658-F25-2017.04.04-21.07.22_MD658_1_0073_lossless_alignedTo_MD658-N58-2017.03.31-19.59.31_MD658_2_0173_cropped_patch_locations.txt"
     ]
    },
    {
     "name": "stderr",
     "output_type": "stream",
     "text": [
      "Child returned 0\n",
      "2.98 seconds.\n",
      "Child returned 0\n",
      "1.07 seconds.\n",
      "save: 8.23 seconds\n",
      "\n",
      "Section 139.\n",
      "97856 samples.\n",
      "load image: 113.57 seconds\n",
      "extract patches: 42.50 seconds\n",
      "predict: 210.46 seconds\n"
     ]
    },
    {
     "name": "stdout",
     "output_type": "stream",
     "text": [
      "\n",
      "aws s3 cp /media/yuncong/BstemAtlasData/CSHL_patch_features/Inception-BN/MD658/MD658-F25-2017.04.04-21.07.22_MD658_2_0074_lossless_alignedTo_MD658-N58-2017.03.31-19.59.31_MD658_2_0173_cropped/MD658-F25-2017.04.04-21.07.22_MD658_2_0074_lossless_alignedTo_MD658-N58-2017.03.31-19.59.31_MD658_2_0173_cropped_features.hdf s3://mousebrainatlas-data/CSHL_patch_features/Inception-BN/MD658/MD658-F25-2017.04.04-21.07.22_MD658_2_0074_lossless_alignedTo_MD658-N58-2017.03.31-19.59.31_MD658_2_0173_cropped/MD658-F25-2017.04.04-21.07.22_MD658_2_0074_lossless_alignedTo_MD658-N58-2017.03.31-19.59.31_MD658_2_0173_cropped_features.hdf\n",
      "aws s3 cp /media/yuncong/BstemAtlasData/CSHL_patch_features/Inception-BN/MD658/MD658-F25-2017.04.04-21.07.22_MD658_2_0074_lossless_alignedTo_MD658-N58-2017.03.31-19.59.31_MD658_2_0173_cropped/MD658-F25-2017.04.04-21.07.22_MD658_2_0074_lossless_alignedTo_MD658-N58-2017.03.31-19.59.31_MD658_2_0173_cropped_patch_locations.txt s3://mousebrainatlas-data/CSHL_patch_features/Inception-BN/MD658/MD658-F25-2017.04.04-21.07.22_MD658_2_0074_lossless_alignedTo_MD658-N58-2017.03.31-19.59.31_MD658_2_0173_cropped/MD658-F25-2017.04.04-21.07.22_MD658_2_0074_lossless_alignedTo_MD658-N58-2017.03.31-19.59.31_MD658_2_0173_cropped_patch_locations.txt"
     ]
    },
    {
     "name": "stderr",
     "output_type": "stream",
     "text": [
      "Child returned 0\n",
      "2.04 seconds.\n",
      "Child returned 0\n",
      "1.03 seconds.\n",
      "save: 7.33 seconds\n",
      "\n",
      "Section 141.\n",
      "97856 samples.\n",
      "load image: 139.85 seconds\n",
      "extract patches: 43.12 seconds\n",
      "predict: 212.77 seconds\n"
     ]
    },
    {
     "name": "stdout",
     "output_type": "stream",
     "text": [
      "\n",
      "aws s3 cp /media/yuncong/BstemAtlasData/CSHL_patch_features/Inception-BN/MD658/MD658-F26-2017.04.04-21.20.41_MD658_1_0076_lossless_alignedTo_MD658-N58-2017.03.31-19.59.31_MD658_2_0173_cropped/MD658-F26-2017.04.04-21.20.41_MD658_1_0076_lossless_alignedTo_MD658-N58-2017.03.31-19.59.31_MD658_2_0173_cropped_features.hdf s3://mousebrainatlas-data/CSHL_patch_features/Inception-BN/MD658/MD658-F26-2017.04.04-21.20.41_MD658_1_0076_lossless_alignedTo_MD658-N58-2017.03.31-19.59.31_MD658_2_0173_cropped/MD658-F26-2017.04.04-21.20.41_MD658_1_0076_lossless_alignedTo_MD658-N58-2017.03.31-19.59.31_MD658_2_0173_cropped_features.hdf\n",
      "aws s3 cp /media/yuncong/BstemAtlasData/CSHL_patch_features/Inception-BN/MD658/MD658-F26-2017.04.04-21.20.41_MD658_1_0076_lossless_alignedTo_MD658-N58-2017.03.31-19.59.31_MD658_2_0173_cropped/MD658-F26-2017.04.04-21.20.41_MD658_1_0076_lossless_alignedTo_MD658-N58-2017.03.31-19.59.31_MD658_2_0173_cropped_patch_locations.txt s3://mousebrainatlas-data/CSHL_patch_features/Inception-BN/MD658/MD658-F26-2017.04.04-21.20.41_MD658_1_0076_lossless_alignedTo_MD658-N58-2017.03.31-19.59.31_MD658_2_0173_cropped/MD658-F26-2017.04.04-21.20.41_MD658_1_0076_lossless_alignedTo_MD658-N58-2017.03.31-19.59.31_MD658_2_0173_cropped_patch_locations.txt"
     ]
    },
    {
     "name": "stderr",
     "output_type": "stream",
     "text": [
      "Child returned 0\n",
      "2.03 seconds.\n",
      "Child returned 0\n",
      "1.04 seconds.\n",
      "save: 7.43 seconds\n",
      "\n",
      "Section 143.\n",
      "97856 samples.\n",
      "load image: 126.14 seconds\n",
      "extract patches: 44.31 seconds\n",
      "predict: 219.33 seconds\n"
     ]
    },
    {
     "name": "stdout",
     "output_type": "stream",
     "text": [
      "\n",
      "aws s3 cp /media/yuncong/BstemAtlasData/CSHL_patch_features/Inception-BN/MD658/MD658-F26-2017.04.04-21.20.41_MD658_2_0077_lossless_alignedTo_MD658-N58-2017.03.31-19.59.31_MD658_2_0173_cropped/MD658-F26-2017.04.04-21.20.41_MD658_2_0077_lossless_alignedTo_MD658-N58-2017.03.31-19.59.31_MD658_2_0173_cropped_features.hdf s3://mousebrainatlas-data/CSHL_patch_features/Inception-BN/MD658/MD658-F26-2017.04.04-21.20.41_MD658_2_0077_lossless_alignedTo_MD658-N58-2017.03.31-19.59.31_MD658_2_0173_cropped/MD658-F26-2017.04.04-21.20.41_MD658_2_0077_lossless_alignedTo_MD658-N58-2017.03.31-19.59.31_MD658_2_0173_cropped_features.hdf\n",
      "aws s3 cp /media/yuncong/BstemAtlasData/CSHL_patch_features/Inception-BN/MD658/MD658-F26-2017.04.04-21.20.41_MD658_2_0077_lossless_alignedTo_MD658-N58-2017.03.31-19.59.31_MD658_2_0173_cropped/MD658-F26-2017.04.04-21.20.41_MD658_2_0077_lossless_alignedTo_MD658-N58-2017.03.31-19.59.31_MD658_2_0173_cropped_patch_locations.txt s3://mousebrainatlas-data/CSHL_patch_features/Inception-BN/MD658/MD658-F26-2017.04.04-21.20.41_MD658_2_0077_lossless_alignedTo_MD658-N58-2017.03.31-19.59.31_MD658_2_0173_cropped/MD658-F26-2017.04.04-21.20.41_MD658_2_0077_lossless_alignedTo_MD658-N58-2017.03.31-19.59.31_MD658_2_0173_cropped_patch_locations.txt"
     ]
    },
    {
     "name": "stderr",
     "output_type": "stream",
     "text": [
      "Child returned 0\n",
      "2.78 seconds.\n",
      "Child returned 0\n",
      "0.98 seconds.\n",
      "save: 8.07 seconds\n",
      "\n",
      "Section 145.\n",
      "97856 samples.\n",
      "load image: 132.65 seconds\n",
      "extract patches: 42.15 seconds\n",
      "predict: 219.59 seconds\n"
     ]
    },
    {
     "name": "stdout",
     "output_type": "stream",
     "text": [
      "\n",
      "aws s3 cp /media/yuncong/BstemAtlasData/CSHL_patch_features/Inception-BN/MD658/MD658-F27-2017.04.04-21.35.33_MD658_1_0079_lossless_alignedTo_MD658-N58-2017.03.31-19.59.31_MD658_2_0173_cropped/MD658-F27-2017.04.04-21.35.33_MD658_1_0079_lossless_alignedTo_MD658-N58-2017.03.31-19.59.31_MD658_2_0173_cropped_features.hdf s3://mousebrainatlas-data/CSHL_patch_features/Inception-BN/MD658/MD658-F27-2017.04.04-21.35.33_MD658_1_0079_lossless_alignedTo_MD658-N58-2017.03.31-19.59.31_MD658_2_0173_cropped/MD658-F27-2017.04.04-21.35.33_MD658_1_0079_lossless_alignedTo_MD658-N58-2017.03.31-19.59.31_MD658_2_0173_cropped_features.hdf\n",
      "aws s3 cp /media/yuncong/BstemAtlasData/CSHL_patch_features/Inception-BN/MD658/MD658-F27-2017.04.04-21.35.33_MD658_1_0079_lossless_alignedTo_MD658-N58-2017.03.31-19.59.31_MD658_2_0173_cropped/MD658-F27-2017.04.04-21.35.33_MD658_1_0079_lossless_alignedTo_MD658-N58-2017.03.31-19.59.31_MD658_2_0173_cropped_patch_locations.txt s3://mousebrainatlas-data/CSHL_patch_features/Inception-BN/MD658/MD658-F27-2017.04.04-21.35.33_MD658_1_0079_lossless_alignedTo_MD658-N58-2017.03.31-19.59.31_MD658_2_0173_cropped/MD658-F27-2017.04.04-21.35.33_MD658_1_0079_lossless_alignedTo_MD658-N58-2017.03.31-19.59.31_MD658_2_0173_cropped_patch_locations.txt"
     ]
    },
    {
     "name": "stderr",
     "output_type": "stream",
     "text": [
      "Child returned 0\n",
      "1.96 seconds.\n",
      "Child returned 0\n",
      "0.99 seconds.\n",
      "save: 7.40 seconds\n",
      "\n",
      "Section 147.\n",
      "97856 samples.\n",
      "load image: 145.88 seconds\n",
      "extract patches: 44.71 seconds\n",
      "predict: 252.88 seconds\n"
     ]
    },
    {
     "name": "stdout",
     "output_type": "stream",
     "text": [
      "\n",
      "aws s3 cp /media/yuncong/BstemAtlasData/CSHL_patch_features/Inception-BN/MD658/MD658-F27-2017.04.04-21.35.33_MD658_2_0080_lossless_alignedTo_MD658-N58-2017.03.31-19.59.31_MD658_2_0173_cropped/MD658-F27-2017.04.04-21.35.33_MD658_2_0080_lossless_alignedTo_MD658-N58-2017.03.31-19.59.31_MD658_2_0173_cropped_features.hdf s3://mousebrainatlas-data/CSHL_patch_features/Inception-BN/MD658/MD658-F27-2017.04.04-21.35.33_MD658_2_0080_lossless_alignedTo_MD658-N58-2017.03.31-19.59.31_MD658_2_0173_cropped/MD658-F27-2017.04.04-21.35.33_MD658_2_0080_lossless_alignedTo_MD658-N58-2017.03.31-19.59.31_MD658_2_0173_cropped_features.hdf\n",
      "aws s3 cp /media/yuncong/BstemAtlasData/CSHL_patch_features/Inception-BN/MD658/MD658-F27-2017.04.04-21.35.33_MD658_2_0080_lossless_alignedTo_MD658-N58-2017.03.31-19.59.31_MD658_2_0173_cropped/MD658-F27-2017.04.04-21.35.33_MD658_2_0080_lossless_alignedTo_MD658-N58-2017.03.31-19.59.31_MD658_2_0173_cropped_patch_locations.txt s3://mousebrainatlas-data/CSHL_patch_features/Inception-BN/MD658/MD658-F27-2017.04.04-21.35.33_MD658_2_0080_lossless_alignedTo_MD658-N58-2017.03.31-19.59.31_MD658_2_0173_cropped/MD658-F27-2017.04.04-21.35.33_MD658_2_0080_lossless_alignedTo_MD658-N58-2017.03.31-19.59.31_MD658_2_0173_cropped_patch_locations.txt"
     ]
    },
    {
     "name": "stderr",
     "output_type": "stream",
     "text": [
      "Child returned 0\n",
      "1.97 seconds.\n",
      "Child returned 0\n",
      "1.04 seconds.\n",
      "save: 7.20 seconds\n",
      "\n",
      "Section 149.\n",
      "97856 samples.\n",
      "load image: 130.39 seconds\n"
     ]
    },
    {
     "name": "stdout",
     "output_type": "stream",
     "text": [
      "\n"
     ]
    },
    {
     "name": "stderr",
     "output_type": "stream",
     "text": [
      "extract patches: 42.61 seconds\n"
     ]
    },
    {
     "ename": "TypeError",
     "evalue": "Invalid type '<type 'numpy.ndarray'>' for data, should be NDArray or numpy.ndarray",
     "output_type": "error",
     "traceback": [
      "\u001b[1;31m---------------------------------------------------------------------------\u001b[0m",
      "\u001b[1;31mTypeError\u001b[0m                                 Traceback (most recent call last)",
      "\u001b[1;32m<ipython-input-15-94251b4cb7ce>\u001b[0m in \u001b[0;36m<module>\u001b[1;34m()\u001b[0m\n\u001b[0;32m     94\u001b[0m                 \u001b[0mnp\u001b[0m\u001b[1;33m.\u001b[0m\u001b[0mzeros\u001b[0m\u001b[1;33m(\u001b[0m\u001b[1;33m(\u001b[0m\u001b[0mn_each_iter\u001b[0m\u001b[1;33m,\u001b[0m \u001b[1;33m)\u001b[0m\u001b[1;33m,\u001b[0m \u001b[0mnp\u001b[0m\u001b[1;33m.\u001b[0m\u001b[0mint\u001b[0m\u001b[1;33m)\u001b[0m\u001b[1;33m,\u001b[0m \u001b[1;31m# labels are not important since it is just feed-forward\u001b[0m\u001b[1;33m\u001b[0m\u001b[0m\n\u001b[0;32m     95\u001b[0m                 \u001b[0mbatch_size\u001b[0m \u001b[1;33m=\u001b[0m \u001b[0mbatch_size\u001b[0m\u001b[1;33m,\u001b[0m\u001b[1;33m\u001b[0m\u001b[0m\n\u001b[1;32m---> 96\u001b[1;33m                 shuffle=False)\n\u001b[0m\u001b[0;32m     97\u001b[0m \u001b[1;33m\u001b[0m\u001b[0m\n\u001b[0;32m     98\u001b[0m \u001b[1;31m#             if b == 0:\u001b[0m\u001b[1;33m\u001b[0m\u001b[1;33m\u001b[0m\u001b[0m\n",
      "\u001b[1;32m/home/yuncong/mxnet/python/mxnet/io.pyc\u001b[0m in \u001b[0;36m__init__\u001b[1;34m(self, data, label, batch_size, shuffle, last_batch_handle, label_name)\u001b[0m\n\u001b[0;32m    419\u001b[0m         \u001b[0msuper\u001b[0m\u001b[1;33m(\u001b[0m\u001b[0mNDArrayIter\u001b[0m\u001b[1;33m,\u001b[0m \u001b[0mself\u001b[0m\u001b[1;33m)\u001b[0m\u001b[1;33m.\u001b[0m\u001b[0m__init__\u001b[0m\u001b[1;33m(\u001b[0m\u001b[1;33m)\u001b[0m\u001b[1;33m\u001b[0m\u001b[0m\n\u001b[0;32m    420\u001b[0m \u001b[1;33m\u001b[0m\u001b[0m\n\u001b[1;32m--> 421\u001b[1;33m         \u001b[0mself\u001b[0m\u001b[1;33m.\u001b[0m\u001b[0mdata\u001b[0m \u001b[1;33m=\u001b[0m \u001b[0m_init_data\u001b[0m\u001b[1;33m(\u001b[0m\u001b[0mdata\u001b[0m\u001b[1;33m,\u001b[0m \u001b[0mallow_empty\u001b[0m\u001b[1;33m=\u001b[0m\u001b[0mFalse\u001b[0m\u001b[1;33m,\u001b[0m \u001b[0mdefault_name\u001b[0m\u001b[1;33m=\u001b[0m\u001b[1;34m'data'\u001b[0m\u001b[1;33m)\u001b[0m\u001b[1;33m\u001b[0m\u001b[0m\n\u001b[0m\u001b[0;32m    422\u001b[0m         \u001b[0mself\u001b[0m\u001b[1;33m.\u001b[0m\u001b[0mlabel\u001b[0m \u001b[1;33m=\u001b[0m \u001b[0m_init_data\u001b[0m\u001b[1;33m(\u001b[0m\u001b[0mlabel\u001b[0m\u001b[1;33m,\u001b[0m \u001b[0mallow_empty\u001b[0m\u001b[1;33m=\u001b[0m\u001b[0mTrue\u001b[0m\u001b[1;33m,\u001b[0m \u001b[0mdefault_name\u001b[0m\u001b[1;33m=\u001b[0m\u001b[0mlabel_name\u001b[0m\u001b[1;33m)\u001b[0m\u001b[1;33m\u001b[0m\u001b[0m\n\u001b[0;32m    423\u001b[0m \u001b[1;33m\u001b[0m\u001b[0m\n",
      "\u001b[1;32m/home/yuncong/mxnet/python/mxnet/io.pyc\u001b[0m in \u001b[0;36m_init_data\u001b[1;34m(data, allow_empty, default_name)\u001b[0m\n\u001b[0;32m    387\u001b[0m             \u001b[1;32mexcept\u001b[0m\u001b[1;33m:\u001b[0m\u001b[1;33m\u001b[0m\u001b[0m\n\u001b[0;32m    388\u001b[0m                 raise TypeError((\"Invalid type '%s' for %s, \"  % (type(v), k)) + \\\n\u001b[1;32m--> 389\u001b[1;33m                     \"should be NDArray or numpy.ndarray\")\n\u001b[0m\u001b[0;32m    390\u001b[0m \u001b[1;33m\u001b[0m\u001b[0m\n\u001b[0;32m    391\u001b[0m     \u001b[1;32mreturn\u001b[0m \u001b[0mlist\u001b[0m\u001b[1;33m(\u001b[0m\u001b[0mdata\u001b[0m\u001b[1;33m.\u001b[0m\u001b[0mitems\u001b[0m\u001b[1;33m(\u001b[0m\u001b[1;33m)\u001b[0m\u001b[1;33m)\u001b[0m\u001b[1;33m\u001b[0m\u001b[0m\n",
      "\u001b[1;31mTypeError\u001b[0m: Invalid type '<type 'numpy.ndarray'>' for data, should be NDArray or numpy.ndarray"
     ]
    }
   ],
   "source": [
    "# for stack in all_stacks:\n",
    "for stack in ['MD658']:\n",
    "    \n",
    "#     if stack in ['MD585', 'MD589', 'MD594', 'MD657']:\n",
    "#         continue\n",
    "\n",
    "#     image_dir = DataManager.get_image_dir(stack, resol='lossless', version='cropped')\n",
    "#     download_from_s3(image_dir, is_dir=True)\n",
    "    # download takes 3000 sec.\n",
    "\n",
    "    print stack\n",
    "\n",
    "    section_to_filename = metadata_cache['sections_to_filenames'][stack]\n",
    "\n",
    "    image_width, image_height = metadata_cache['image_shape'][stack]\n",
    "    grid_spec = (patch_size, stride, image_width, image_height)\n",
    "\n",
    "    sample_locations = grid_parameters_to_sample_locations(grid_spec=grid_spec)\n",
    "\n",
    "    first_detect_sec, last_detect_sec = metadata_cache['section_limits'][stack]\n",
    "\n",
    "    bar = show_progress_bar(first_detect_sec, last_detect_sec)\n",
    "# \n",
    "#     for sec in range(192, 193):\n",
    "    for sec in range(first_detect_sec, last_detect_sec+1):\n",
    "#     for sec in range(143, last_detect_sec+1):\n",
    "        \n",
    "        if is_invalid(stack=stack, sec=sec):\n",
    "            continue\n",
    "            \n",
    "#         if section_to_filename[sec].split('-')[1][0] == 'F':\n",
    "#             continue\n",
    "        if section_to_filename[sec].split('-')[1][0] == 'N':\n",
    "            continue\n",
    "                \n",
    "        bar.value = sec\n",
    "        \n",
    "        sys.stderr.write('\\nSection %d.\\n' % sec)\n",
    "\n",
    "        # Use grids only on mask.\n",
    "#         t = time.time()\n",
    "#         mask_tb = DataManager.load_thumbnail_mask_v2(stack=stack, section=sec)\n",
    "#         indices_roi = locate_patches_v2(grid_spec=grid_spec, mask_tb=mask_tb)\n",
    "#         sys.stderr.write('locate patches: %.2f seconds\\n' % (time.time() - t))       \n",
    "        \n",
    "        # Use grids on the entire frame.\n",
    "        indices_roi = range(len(sample_locations))\n",
    "\n",
    "        n = len(indices_roi)\n",
    "        sys.stderr.write('%d samples.\\n' % n)\n",
    "\n",
    "        sample_locations_roi = sample_locations[indices_roi]\n",
    "        \n",
    "        t = time.time()\n",
    "        img_fp = DataManager.get_image_filepath(stack=stack, section=sec, version='cropped', resol='lossless')\n",
    "        download_from_s3(img_fp)\n",
    "        im = img_as_ubyte(imread(img_fp))\n",
    "        sys.stderr.write('load image: %.2f seconds\\n' % (time.time() - t)) # ~ 35s\n",
    "        \n",
    "#         t = time.time()\n",
    "#         sat = convert_to_saturation(im)\n",
    "#         del im\n",
    "#         sys.stderr.write('Convert to saturation: %.2f seconds\\n' % (time.time() - t)) # ~ 35s\n",
    "#         sat = imread(DataManager.get_image_filepath(stack=stack, section=sec, version='saturation'))\n",
    "        \n",
    "\n",
    "        t = time.time()\n",
    "\n",
    "#         patches = np.array([sat[y-half_size:y+half_size, x-half_size:x+half_size]\n",
    "#                             for x, y in sample_locations_roi]) # n x 224 x 224\n",
    "#         patches_mean_subtracted = patches - mean_img\n",
    "#         patches_mean_subtracted_input = patches_mean_subtracted[:, None, :, :] # n x 1 x 224 x 224\n",
    "\n",
    "        patches = np.array([im[y-half_size:y+half_size, x-half_size:x+half_size]\n",
    "                            for x, y in sample_locations_roi]) # n x 224 x 224 x 3\n",
    "        patches_mean_subtracted_input = np.rollaxis(patches, 3, 1) - mean_img # n x 3 x 224 x 224\n",
    "\n",
    "        sys.stderr.write('extract patches: %.2f seconds\\n' % (time.time() - t)) # ~ 20s / 140k patches\n",
    "\n",
    "        # Increase batch_size to 500 does not save any time.\n",
    "        batch_size = 256 \n",
    "#         batch_size = 16\n",
    "\n",
    "        # For mxnet 0.9.4, using 80000 patches in a NDArrayIter works but using 90000 patches causes error:\n",
    "        # TypeError: Invalid type '<type 'numpy.ndarray'>' for data, should be NDArray or numpy.ndarray\n",
    "\n",
    "        t1 = time.time()\n",
    "        features = np.empty((n, 1024))\n",
    "        \n",
    "        n_each_iter = 20000\n",
    "        for b in range(0, n, n_each_iter):\n",
    "            data_iter = mx.io.NDArrayIter(\n",
    "                patches_mean_subtracted_input[b:b+n_each_iter], \n",
    "                np.zeros((n_each_iter, ), np.int), # labels are not important since it is just feed-forward\n",
    "                batch_size = batch_size,\n",
    "                shuffle=False)\n",
    "\n",
    "#             if b == 0:\n",
    "#                 features = model.predict(data_iter)\n",
    "#             else:\n",
    "#                 features = np.vstack([features, model.predict(data_iter)])\n",
    "            features[b:b+n_each_iter] = model.predict(data_iter)\n",
    "        sys.stderr.write('predict: %.2f seconds\\n' % (time.time() - t1)) # 220s-250s\n",
    "        \n",
    "#         data_iter = mx.io.NDArrayIter(\n",
    "#             patches_mean_subtracted_input, \n",
    "#             np.zeros((n, ), np.int), # labels are not important since it is just feed-forward\n",
    "#             batch_size = batch_size,\n",
    "#             shuffle=False\n",
    "#         )\n",
    "\n",
    "#         t = time.time()\n",
    "#         features = model.predict(data_iter)\n",
    "#         sys.stderr.write('predict: %.2f seconds\\n' % (time.time() - t))\n",
    "\n",
    "    # The first time when CUDA needs to load model is very slow ~350s, but later runs are faster ~90s\n",
    "        \n",
    "    # Had to modify [model]-symbol.json according to this https://github.com/dmlc/mxnet/issues/2718\n",
    "    \n",
    "    # Out of memory after about 20 sections - had to modify storage code according to https://github.com/dmlc/mxnet/issues/3055\n",
    "    #    - don't think increasing kPoolThreshold to over 4GB will be beneficial, \n",
    "    # since the computation time is similar to before limiting the pool, computation is most likely compute-bound.\n",
    "    # Issue solved by developers.\n",
    "        \n",
    "        del patches_mean_subtracted_input, patches, im\n",
    "        \n",
    "        t = time.time()\n",
    "\n",
    "        features_fp = DataManager.get_dnn_features_filepath(stack=stack, model_name=model_name, \n",
    "                                                          section=sec)\n",
    "        create_parent_dir_if_not_exists(features_fp)\n",
    "        save_hdf(features.astype(np.float16), features_fp) # bloscpack produces files of similar size\n",
    "        \n",
    "        upload_to_s3(features_fp)\n",
    "\n",
    "        feature_locs_fp = DataManager.get_dnn_feature_locations_filepath(stack=stack, model_name=model_name, \n",
    "                                                  section=sec)\n",
    "        np.savetxt(feature_locs_fp, np.c_[indices_roi, sample_locations_roi], fmt='%d %d %d')\n",
    "        \n",
    "        upload_to_s3(feature_locs_fp)\n",
    "\n",
    "        sys.stderr.write('save: %.2f seconds\\n' % (time.time() - t)) # ~.5s\n",
    "        \n",
    "#         del patches_mean_subtracted_input, patches, im\n",
    "#         del patches_mean_subtracted_input, patches_mean_subtracted, patches, sat"
   ]
  },
  {
   "cell_type": "code",
   "execution_count": 20,
   "metadata": {
    "collapsed": false
   },
   "outputs": [
    {
     "name": "stdout",
     "output_type": "stream",
     "text": [
      "aws s3 cp --recursive /media/yuncong/BstemAtlasData/CSHL_patch_features/Inception-BN/MD589 s3://mousebrainatlas-data/CSHL_patch_features/Inception-BN/MD589\n"
     ]
    },
    {
     "name": "stderr",
     "output_type": "stream",
     "text": [
      "Child returned 0\n"
     ]
    }
   ],
   "source": [
    "# transfer_data_synced(os.path.join('CSHL_patch_features', model_name, 'MD589'), \n",
    "#                     from_hostname='workstation',\n",
    "#                     to_hostname='s3',\n",
    "#                     is_dir=True)"
   ]
  },
  {
   "cell_type": "markdown",
   "metadata": {
    "collapsed": true
   },
   "source": [
    "# Sync with Gordon"
   ]
  },
  {
   "cell_type": "code",
   "execution_count": null,
   "metadata": {
    "collapsed": false
   },
   "outputs": [],
   "source": [
    "cmd = 'cd /media/yuncong/BstemAtlasData/CSHL_patch_features/Sat16ClassFinetuned/%(stack)s/ && \\\n",
    "rsync -r . yuncong@oasis-dm.sdsc.edu:/home/yuncong/csd395/CSHL_patch_features/Sat16ClassFinetuned/%(stack)s' % \\\n",
    "{'stack': stack}\n",
    "\n",
    "os.system(cmd)"
   ]
  }
 ],
 "metadata": {
  "kernelspec": {
   "display_name": "Python 2",
   "language": "python",
   "name": "python2"
  },
  "language_info": {
   "codemirror_mode": {
    "name": "ipython",
    "version": 2
   },
   "file_extension": ".py",
   "mimetype": "text/x-python",
   "name": "python",
   "nbconvert_exporter": "python",
   "pygments_lexer": "ipython2",
   "version": "2.7.6"
  }
 },
 "nbformat": 4,
 "nbformat_minor": 0
}
