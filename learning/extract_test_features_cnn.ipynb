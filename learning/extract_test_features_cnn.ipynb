{
 "cells": [
  {
   "cell_type": "code",
   "execution_count": 1,
   "metadata": {
    "scrolled": true
   },
   "outputs": [
    {
     "name": "stderr",
     "output_type": "stream",
     "text": [
      "/usr/local/lib/python2.7/dist-packages/matplotlib/__init__.py:1405: UserWarning: \n",
      "This call to matplotlib.use() has no effect because the backend has already\n",
      "been chosen; matplotlib.use() must be called *before* pylab, matplotlib.pyplot,\n",
      "or matplotlib.backends is imported for the first time.\n",
      "\n",
      "  warnings.warn(_use_error_msg)\n",
      "No vtk\n",
      "Child returned 0\n"
     ]
    },
    {
     "name": "stdout",
     "output_type": "stream",
     "text": [
      "Setting environment for AWS compute node\n",
      "rm -rf /shared/CSHL_data_processed/MD635/MD635_alignedTo_MD635-F63-2016.05.19-08.39.03_MD635_2_0188_cropbox.txt && mkdir -p /shared/CSHL_data_processed/MD635\n",
      "aws s3 cp s3://mousebrainatlas-data/CSHL_data_processed/MD635/MD635_alignedTo_MD635-F63-2016.05.19-08.39.03_MD635_2_0188_cropbox.txt /shared/CSHL_data_processed/MD635/MD635_alignedTo_MD635-F63-2016.05.19-08.39.03_MD635_2_0188_cropbox.txt\n"
     ]
    },
    {
     "name": "stderr",
     "output_type": "stream",
     "text": [
      "Child returned 1\n",
      "0.52 seconds.\n",
      "Child returned 0\n"
     ]
    },
    {
     "name": "stdout",
     "output_type": "stream",
     "text": [
      "rm -rf /shared/CSHL_data_processed/MD635/MD635_alignedTo_MD635-F63-2016.05.19-08.39.03_MD635_2_0188_cropbox.txt && mkdir -p /shared/CSHL_data_processed/MD635\n",
      "aws s3 cp s3://mousebrainatlas-data/CSHL_data_processed/MD635/MD635_alignedTo_MD635-F63-2016.05.19-08.39.03_MD635_2_0188_cropbox.txt /shared/CSHL_data_processed/MD635/MD635_alignedTo_MD635-F63-2016.05.19-08.39.03_MD635_2_0188_cropbox.txt\n"
     ]
    },
    {
     "name": "stderr",
     "output_type": "stream",
     "text": [
      "Child returned 1\n",
      "0.42 seconds.\n",
      "File does not exist: /shared/CSHL_data_processed/MD635/MD635_alignedTo_MD635-F63-2016.05.19-08.39.03_MD635_2_0188_cropbox.txt\n",
      "Child returned 0\n"
     ]
    },
    {
     "name": "stdout",
     "output_type": "stream",
     "text": [
      "rm -rf /shared/CSHL_data_processed/MD635/MD635_alignedTo_MD635-F63-2016.05.19-08.39.03_MD635_2_0188_cropbox.txt && mkdir -p /shared/CSHL_data_processed/MD635\n",
      "aws s3 cp s3://mousebrainatlas-data/CSHL_data_processed/MD635/MD635_alignedTo_MD635-F63-2016.05.19-08.39.03_MD635_2_0188_cropbox.txt /shared/CSHL_data_processed/MD635/MD635_alignedTo_MD635-F63-2016.05.19-08.39.03_MD635_2_0188_cropbox.txt\n"
     ]
    },
    {
     "name": "stderr",
     "output_type": "stream",
     "text": [
      "Child returned 1\n",
      "0.41 seconds.\n",
      "File does not exist: /shared/CSHL_data_processed/MD635/MD635_alignedTo_MD635-F63-2016.05.19-08.39.03_MD635_2_0188_cropbox.txt\n"
     ]
    }
   ],
   "source": [
    "%load_ext autoreload\n",
    "%autoreload 2\n",
    "\n",
    "import sys\n",
    "import os\n",
    "import time\n",
    "\n",
    "import numpy as np\n",
    "import mxnet as mx\n",
    "import matplotlib.pyplot as plt\n",
    "%matplotlib inline\n",
    "\n",
    "sys.path.append(os.environ['REPO_DIR'] + '/utilities')\n",
    "from utilities2015 import *\n",
    "from metadata import *\n",
    "from data_manager import *\n",
    "from learning_utilities import *\n",
    "from distributed_utilities import *"
   ]
  },
  {
   "cell_type": "code",
   "execution_count": 2,
   "metadata": {},
   "outputs": [
    {
     "name": "stderr",
     "output_type": "stream",
     "text": [
      "/usr/local/lib/python2.7/dist-packages/mxnet/module/base_module.py:52: UserWarning: \u001b[91mYou created Module with Module(..., label_names=['softmax_label']) but input with name 'softmax_label' is not found in symbol.list_arguments(). Did you mean one of:\n",
      "\tdata\u001b[0m\n",
      "  warnings.warn(msg)\n",
      "/usr/local/lib/python2.7/dist-packages/mxnet/module/base_module.py:64: UserWarning: Data provided by label_shapes don't match names specified by label_names ([] vs. ['softmax_label'])\n",
      "  warnings.warn(msg)\n"
     ]
    }
   ],
   "source": [
    "# Does not work for the mxnet version on 3/30/2017\n",
    "# model_dir_name = 'Sat16ClassFinetuned'\n",
    "# model_name = 'Sat16ClassFinetuned'\n",
    "# model_iteration = 10\n",
    "# output_symbol_name = 'flatten_output'\n",
    "# mean_img = np.load(os.path.join(MODEL_ROOTDIR, model_dir_name, 'saturation_mean_224.npy'))\n",
    "\n",
    "# model_dir_name = 'vgg16-blue'\n",
    "# model_name = 'vgg16-blue'\n",
    "# model_iteration = 0\n",
    "# output_symbol_name = 'fc7_output'\n",
    "# output_dim = 4096\n",
    "# mean_img = np.load(os.path.join(MODEL_ROOTDIR, model_dir_name, 'vgg_mean.npy'))\n",
    "\n",
    "# model_dir_name = 'vgg19'\n",
    "# model_name = 'vgg19'\n",
    "# model_iteration = 0\n",
    "# output_symbol_name = 'fc8_output'\n",
    "\n",
    "# model_dir_name = 'inception-bn'\n",
    "# model_name = 'Inception-BN'\n",
    "# model_iteration = 126\n",
    "# output_symbol_name = 'flatten_output'\n",
    "# mean_img = mx.nd.load(os.path.join(MODEL_ROOTDIR, model_dir_name, 'mean_224.nd'))['mean_img'].asnumpy()\n",
    "\n",
    "model_dir_name = 'inception-bn-blue'\n",
    "download_from_s3(os.path.join(MXNET_MODEL_ROOTDIR, model_dir_name), is_dir=True)\n",
    "model_name = 'inception-bn-blue'\n",
    "model_iteration = 0\n",
    "output_symbol_name = 'flatten_output'\n",
    "output_dim = 1024\n",
    "mean_img = np.load(os.path.join(MXNET_MODEL_ROOTDIR, model_dir_name, 'mean_224.npy'))\n",
    "\n",
    "# Reference on how to predict with mxnet model:\n",
    "# https://github.com/dmlc/mxnet-notebooks/blob/master/python/how_to/predict.ipynb\n",
    "model0, arg_params, aux_params = mx.model.load_checkpoint(os.path.join(MXNET_MODEL_ROOTDIR, model_dir_name, model_name), 0)\n",
    "flatten_output = model0.get_internals()[output_symbol_name]\n",
    "model = mx.mod.Module(context=[mx.gpu(i) for i in range(8)], \n",
    "                        symbol=flatten_output)\n",
    "# Increase batch_size to 500 does not save any time.\n",
    "batch_size = 256\n",
    "model.bind(data_shapes=[('data', (batch_size,1,224,224))], for_training=False)\n",
    "model.set_params(arg_params=arg_params, aux_params=aux_params, allow_missing=True)\n",
    "\n",
    "# model_dir_name = 'inception-bn-sat'\n",
    "# model_name = 'inception-bn-sat'\n",
    "# model_iteration = 0\n",
    "# mean_img = np.load(os.path.join(MODEL_ROOTDIR, model_dir_name, 'mean_224.npy'))\n",
    "\n",
    "# model = mx.model.FeedForward.load(os.path.join(MODEL_ROOTDIR, model_dir_name, model_name), model_iteration, ctx=mx.gpu())"
   ]
  },
  {
   "cell_type": "code",
   "execution_count": 3,
   "metadata": {
    "collapsed": true
   },
   "outputs": [],
   "source": [
    "# Visualize network topology\n",
    "\n",
    "# a = mx.viz.plot_network(flatten_output, shape={\"data\":(1, 1, 224, 224)}, node_attrs={\"shape\":'rect',\"fixedsize\":'false'})\n",
    "# a.render(model_name)"
   ]
  },
  {
   "cell_type": "code",
   "execution_count": 4,
   "metadata": {
    "collapsed": true
   },
   "outputs": [],
   "source": [
    "patch_size = 224\n",
    "half_size = patch_size/2\n",
    "stride = 56"
   ]
  },
  {
   "cell_type": "code",
   "execution_count": 5,
   "metadata": {
    "scrolled": true
   },
   "outputs": [],
   "source": [
    "# for stack in ['MD642']:\n",
    "#     download_from_s3(DataManager.get_thumbnail_mask_dir_v3(stack=stack, version='cropped'), is_dir=True, redownload=True)"
   ]
  },
  {
   "cell_type": "code",
   "execution_count": 6,
   "metadata": {},
   "outputs": [],
   "source": [
    "# for stack in [\n",
    "#  'MD642']:\n",
    "#     # 450 second to download entire folder one stack\n",
    "#     # 1025 seconds to download file by file\n",
    "#     download_from_s3(DataManager.get_image_dir(stack=stack, version='cropped_gray'), is_dir=True, redownload=True)"
   ]
  },
  {
   "cell_type": "code",
   "execution_count": null,
   "metadata": {
    "scrolled": true
   },
   "outputs": [
    {
     "data": {
      "image/png": "[encoded data removed]",
      "text/plain": [
       "<matplotlib.figure.Figure at 0x7f6788ca9850>"
      ]
     },
     "metadata": {},
     "output_type": "display_data"
    }
   ],
   "source": [
    "# This shows that a mask covers 50% to 75% of the full area, so predicting only on masks roughly halves the time.\n",
    "\n",
    "stack = 'MD652'\n",
    "image_width, image_height = metadata_cache['image_shape'][stack]\n",
    "first_detect_sec, last_detect_sec = metadata_cache['section_limits'][stack]\n",
    "a = image_width / 32 * image_height / 32\n",
    "mask_coverage = {sec: np.count_nonzero(DataManager.load_thumbnail_mask_v3(stack=stack, section=sec))/float(a)\n",
    "for sec in range(first_detect_sec, last_detect_sec+1) if not is_invalid(stack=stack, sec=sec)}\n",
    "plt.plot(mask_coverage.keys(), mask_coverage.values());\n",
    "plt.xlabel('section');\n",
    "plt.ylabel('mask converage');"
   ]
  },
  {
   "cell_type": "code",
   "execution_count": null,
   "metadata": {
    "scrolled": true
   },
   "outputs": [
    {
     "name": "stdout",
     "output_type": "stream",
     "text": [
      "MD652\n"
     ]
    },
    {
     "name": "stderr",
     "output_type": "stream",
     "text": [
      "Widget Javascript not detected.  It may not be installed or enabled properly.\n"
     ]
    },
    {
     "data": {
      "application/vnd.jupyter.widget-view+json": {
       "model_id": "188b4e16731e487e840c61405f677086"
      }
     },
     "metadata": {},
     "output_type": "display_data"
    },
    {
     "name": "stderr",
     "output_type": "stream",
     "text": [
      "\n",
      "Section 90.\n",
      "locate patches: 0.02 seconds\n",
      "32886 samples.\n",
      "load image: 0.26 seconds\n",
      "extract patches: 95.21 seconds\n",
      "predict: 47.96 seconds\n"
     ]
    },
    {
     "name": "stdout",
     "output_type": "stream",
     "text": [
      "aws s3 cp /shared/CSHL_patch_features/inception-bn-blue/MD652/MD652-F15-2016.12.16-20.45.52_MD652_3_0045_lossless_alignedTo_MD652-F45-2016.12.17-05.56.31_MD652_2_0134_cropped/MD652-F15-2016.12.16-20.45.52_MD652_3_0045_lossless_alignedTo_MD652-F45-2016.12.17-05.56.31_MD652_2_0134_cropped_features.bp s3://mousebrainatlas-data/CSHL_patch_features/inception-bn-blue/MD652/MD652-F15-2016.12.16-20.45.52_MD652_3_0045_lossless_alignedTo_MD652-F45-2016.12.17-05.56.31_MD652_2_0134_cropped/MD652-F15-2016.12.16-20.45.52_MD652_3_0045_lossless_alignedTo_MD652-F45-2016.12.17-05.56.31_MD652_2_0134_cropped_features.bp\n"
     ]
    },
    {
     "name": "stderr",
     "output_type": "stream",
     "text": [
      "Child returned 0\n",
      "1.84 seconds.\n"
     ]
    },
    {
     "name": "stdout",
     "output_type": "stream",
     "text": [
      "aws s3 cp /shared/CSHL_patch_features/inception-bn-blue/MD652/MD652-F15-2016.12.16-20.45.52_MD652_3_0045_lossless_alignedTo_MD652-F45-2016.12.17-05.56.31_MD652_2_0134_cropped/MD652-F15-2016.12.16-20.45.52_MD652_3_0045_lossless_alignedTo_MD652-F45-2016.12.17-05.56.31_MD652_2_0134_cropped_patch_locations.txt s3://mousebrainatlas-data/CSHL_patch_features/inception-bn-blue/MD652/MD652-F15-2016.12.16-20.45.52_MD652_3_0045_lossless_alignedTo_MD652-F45-2016.12.17-05.56.31_MD652_2_0134_cropped/MD652-F15-2016.12.16-20.45.52_MD652_3_0045_lossless_alignedTo_MD652-F45-2016.12.17-05.56.31_MD652_2_0134_cropped_patch_locations.txt\n"
     ]
    },
    {
     "name": "stderr",
     "output_type": "stream",
     "text": [
      "Child returned 0\n",
      "0.77 seconds.\n",
      "save: 3.30 seconds\n",
      "\n",
      "Section 91.\n",
      "locate patches: 0.02 seconds\n",
      "32822 samples.\n",
      "load image: 0.27 seconds\n",
      "extract patches: 3.67 seconds\n",
      "predict: 133.61 seconds\n"
     ]
    },
    {
     "name": "stdout",
     "output_type": "stream",
     "text": [
      "aws s3 cp /shared/CSHL_patch_features/inception-bn-blue/MD652/MD652-N16-2016.12.16-06.00.10_MD652_1_0046_lossless_alignedTo_MD652-F45-2016.12.17-05.56.31_MD652_2_0134_cropped/MD652-N16-2016.12.16-06.00.10_MD652_1_0046_lossless_alignedTo_MD652-F45-2016.12.17-05.56.31_MD652_2_0134_cropped_features.bp s3://mousebrainatlas-data/CSHL_patch_features/inception-bn-blue/MD652/MD652-N16-2016.12.16-06.00.10_MD652_1_0046_lossless_alignedTo_MD652-F45-2016.12.17-05.56.31_MD652_2_0134_cropped/MD652-N16-2016.12.16-06.00.10_MD652_1_0046_lossless_alignedTo_MD652-F45-2016.12.17-05.56.31_MD652_2_0134_cropped_features.bp\n"
     ]
    },
    {
     "name": "stderr",
     "output_type": "stream",
     "text": [
      "Child returned 0\n",
      "1.94 seconds.\n"
     ]
    },
    {
     "name": "stdout",
     "output_type": "stream",
     "text": [
      "aws s3 cp /shared/CSHL_patch_features/inception-bn-blue/MD652/MD652-N16-2016.12.16-06.00.10_MD652_1_0046_lossless_alignedTo_MD652-F45-2016.12.17-05.56.31_MD652_2_0134_cropped/MD652-N16-2016.12.16-06.00.10_MD652_1_0046_lossless_alignedTo_MD652-F45-2016.12.17-05.56.31_MD652_2_0134_cropped_patch_locations.txt s3://mousebrainatlas-data/CSHL_patch_features/inception-bn-blue/MD652/MD652-N16-2016.12.16-06.00.10_MD652_1_0046_lossless_alignedTo_MD652-F45-2016.12.17-05.56.31_MD652_2_0134_cropped/MD652-N16-2016.12.16-06.00.10_MD652_1_0046_lossless_alignedTo_MD652-F45-2016.12.17-05.56.31_MD652_2_0134_cropped_patch_locations.txt\n"
     ]
    },
    {
     "name": "stderr",
     "output_type": "stream",
     "text": [
      "Child returned 0\n",
      "0.73 seconds.\n",
      "save: 3.35 seconds\n",
      "\n",
      "Section 92.\n",
      "locate patches: 0.02 seconds\n",
      "33132 samples.\n",
      "load image: 0.28 seconds\n",
      "extract patches: 3.30 seconds\n",
      "predict: 49.45 seconds\n"
     ]
    },
    {
     "name": "stdout",
     "output_type": "stream",
     "text": [
      "aws s3 cp /shared/CSHL_patch_features/inception-bn-blue/MD652/MD652-F16-2016.12.16-21.00.10_MD652_1_0046_lossless_alignedTo_MD652-F45-2016.12.17-05.56.31_MD652_2_0134_cropped/MD652-F16-2016.12.16-21.00.10_MD652_1_0046_lossless_alignedTo_MD652-F45-2016.12.17-05.56.31_MD652_2_0134_cropped_features.bp s3://mousebrainatlas-data/CSHL_patch_features/inception-bn-blue/MD652/MD652-F16-2016.12.16-21.00.10_MD652_1_0046_lossless_alignedTo_MD652-F45-2016.12.17-05.56.31_MD652_2_0134_cropped/MD652-F16-2016.12.16-21.00.10_MD652_1_0046_lossless_alignedTo_MD652-F45-2016.12.17-05.56.31_MD652_2_0134_cropped_features.bp\n"
     ]
    },
    {
     "name": "stderr",
     "output_type": "stream",
     "text": [
      "Child returned 0\n",
      "1.61 seconds.\n"
     ]
    },
    {
     "name": "stdout",
     "output_type": "stream",
     "text": [
      "aws s3 cp /shared/CSHL_patch_features/inception-bn-blue/MD652/MD652-F16-2016.12.16-21.00.10_MD652_1_0046_lossless_alignedTo_MD652-F45-2016.12.17-05.56.31_MD652_2_0134_cropped/MD652-F16-2016.12.16-21.00.10_MD652_1_0046_lossless_alignedTo_MD652-F45-2016.12.17-05.56.31_MD652_2_0134_cropped_patch_locations.txt s3://mousebrainatlas-data/CSHL_patch_features/inception-bn-blue/MD652/MD652-F16-2016.12.16-21.00.10_MD652_1_0046_lossless_alignedTo_MD652-F45-2016.12.17-05.56.31_MD652_2_0134_cropped/MD652-F16-2016.12.16-21.00.10_MD652_1_0046_lossless_alignedTo_MD652-F45-2016.12.17-05.56.31_MD652_2_0134_cropped_patch_locations.txt\n"
     ]
    },
    {
     "name": "stderr",
     "output_type": "stream",
     "text": [
      "Child returned 0\n",
      "0.73 seconds.\n",
      "save: 3.03 seconds\n",
      "\n",
      "Section 93.\n",
      "locate patches: 0.02 seconds\n",
      "34581 samples.\n",
      "load image: 0.28 seconds\n",
      "extract patches: 3.43 seconds\n",
      "predict: 68.47 seconds\n"
     ]
    },
    {
     "name": "stdout",
     "output_type": "stream",
     "text": [
      "aws s3 cp /shared/CSHL_patch_features/inception-bn-blue/MD652/MD652-N16-2016.12.16-06.00.10_MD652_2_0047_lossless_alignedTo_MD652-F45-2016.12.17-05.56.31_MD652_2_0134_cropped/MD652-N16-2016.12.16-06.00.10_MD652_2_0047_lossless_alignedTo_MD652-F45-2016.12.17-05.56.31_MD652_2_0134_cropped_features.bp s3://mousebrainatlas-data/CSHL_patch_features/inception-bn-blue/MD652/MD652-N16-2016.12.16-06.00.10_MD652_2_0047_lossless_alignedTo_MD652-F45-2016.12.17-05.56.31_MD652_2_0134_cropped/MD652-N16-2016.12.16-06.00.10_MD652_2_0047_lossless_alignedTo_MD652-F45-2016.12.17-05.56.31_MD652_2_0134_cropped_features.bp\n"
     ]
    },
    {
     "name": "stderr",
     "output_type": "stream",
     "text": [
      "Child returned 0\n",
      "1.90 seconds.\n"
     ]
    },
    {
     "name": "stdout",
     "output_type": "stream",
     "text": [
      "aws s3 cp /shared/CSHL_patch_features/inception-bn-blue/MD652/MD652-N16-2016.12.16-06.00.10_MD652_2_0047_lossless_alignedTo_MD652-F45-2016.12.17-05.56.31_MD652_2_0134_cropped/MD652-N16-2016.12.16-06.00.10_MD652_2_0047_lossless_alignedTo_MD652-F45-2016.12.17-05.56.31_MD652_2_0134_cropped_patch_locations.txt s3://mousebrainatlas-data/CSHL_patch_features/inception-bn-blue/MD652/MD652-N16-2016.12.16-06.00.10_MD652_2_0047_lossless_alignedTo_MD652-F45-2016.12.17-05.56.31_MD652_2_0134_cropped/MD652-N16-2016.12.16-06.00.10_MD652_2_0047_lossless_alignedTo_MD652-F45-2016.12.17-05.56.31_MD652_2_0134_cropped_patch_locations.txt\n"
     ]
    },
    {
     "name": "stderr",
     "output_type": "stream",
     "text": [
      "Child returned 0\n",
      "0.83 seconds.\n",
      "save: 3.45 seconds\n",
      "\n",
      "Section 94.\n",
      "locate patches: 0.02 seconds\n",
      "35399 samples.\n",
      "load image: 0.28 seconds\n",
      "extract patches: 3.52 seconds\n",
      "predict: 75.44 seconds\n"
     ]
    },
    {
     "name": "stdout",
     "output_type": "stream",
     "text": [
      "aws s3 cp /shared/CSHL_patch_features/inception-bn-blue/MD652/MD652-F16-2016.12.16-21.00.10_MD652_2_0047_lossless_alignedTo_MD652-F45-2016.12.17-05.56.31_MD652_2_0134_cropped/MD652-F16-2016.12.16-21.00.10_MD652_2_0047_lossless_alignedTo_MD652-F45-2016.12.17-05.56.31_MD652_2_0134_cropped_features.bp s3://mousebrainatlas-data/CSHL_patch_features/inception-bn-blue/MD652/MD652-F16-2016.12.16-21.00.10_MD652_2_0047_lossless_alignedTo_MD652-F45-2016.12.17-05.56.31_MD652_2_0134_cropped/MD652-F16-2016.12.16-21.00.10_MD652_2_0047_lossless_alignedTo_MD652-F45-2016.12.17-05.56.31_MD652_2_0134_cropped_features.bp\n"
     ]
    },
    {
     "name": "stderr",
     "output_type": "stream",
     "text": [
      "Child returned 0\n",
      "1.71 seconds.\n"
     ]
    },
    {
     "name": "stdout",
     "output_type": "stream",
     "text": [
      "aws s3 cp /shared/CSHL_patch_features/inception-bn-blue/MD652/MD652-F16-2016.12.16-21.00.10_MD652_2_0047_lossless_alignedTo_MD652-F45-2016.12.17-05.56.31_MD652_2_0134_cropped/MD652-F16-2016.12.16-21.00.10_MD652_2_0047_lossless_alignedTo_MD652-F45-2016.12.17-05.56.31_MD652_2_0134_cropped_patch_locations.txt s3://mousebrainatlas-data/CSHL_patch_features/inception-bn-blue/MD652/MD652-F16-2016.12.16-21.00.10_MD652_2_0047_lossless_alignedTo_MD652-F45-2016.12.17-05.56.31_MD652_2_0134_cropped/MD652-F16-2016.12.16-21.00.10_MD652_2_0047_lossless_alignedTo_MD652-F45-2016.12.17-05.56.31_MD652_2_0134_cropped_patch_locations.txt\n"
     ]
    },
    {
     "name": "stderr",
     "output_type": "stream",
     "text": [
      "Child returned 0\n",
      "0.87 seconds.\n",
      "save: 3.32 seconds\n",
      "\n",
      "Section 95.\n",
      "locate patches: 0.02 seconds\n",
      "34884 samples.\n",
      "load image: 0.28 seconds\n",
      "extract patches: 4.03 seconds\n",
      "predict: 38.64 seconds\n"
     ]
    },
    {
     "name": "stdout",
     "output_type": "stream",
     "text": [
      "aws s3 cp /shared/CSHL_patch_features/inception-bn-blue/MD652/MD652-N16-2016.12.16-06.00.10_MD652_3_0048_lossless_alignedTo_MD652-F45-2016.12.17-05.56.31_MD652_2_0134_cropped/MD652-N16-2016.12.16-06.00.10_MD652_3_0048_lossless_alignedTo_MD652-F45-2016.12.17-05.56.31_MD652_2_0134_cropped_features.bp s3://mousebrainatlas-data/CSHL_patch_features/inception-bn-blue/MD652/MD652-N16-2016.12.16-06.00.10_MD652_3_0048_lossless_alignedTo_MD652-F45-2016.12.17-05.56.31_MD652_2_0134_cropped/MD652-N16-2016.12.16-06.00.10_MD652_3_0048_lossless_alignedTo_MD652-F45-2016.12.17-05.56.31_MD652_2_0134_cropped_features.bp\n"
     ]
    },
    {
     "name": "stderr",
     "output_type": "stream",
     "text": [
      "Child returned 0\n",
      "2.29 seconds.\n"
     ]
    },
    {
     "name": "stdout",
     "output_type": "stream",
     "text": [
      "aws s3 cp /shared/CSHL_patch_features/inception-bn-blue/MD652/MD652-N16-2016.12.16-06.00.10_MD652_3_0048_lossless_alignedTo_MD652-F45-2016.12.17-05.56.31_MD652_2_0134_cropped/MD652-N16-2016.12.16-06.00.10_MD652_3_0048_lossless_alignedTo_MD652-F45-2016.12.17-05.56.31_MD652_2_0134_cropped_patch_locations.txt s3://mousebrainatlas-data/CSHL_patch_features/inception-bn-blue/MD652/MD652-N16-2016.12.16-06.00.10_MD652_3_0048_lossless_alignedTo_MD652-F45-2016.12.17-05.56.31_MD652_2_0134_cropped/MD652-N16-2016.12.16-06.00.10_MD652_3_0048_lossless_alignedTo_MD652-F45-2016.12.17-05.56.31_MD652_2_0134_cropped_patch_locations.txt\n"
     ]
    },
    {
     "name": "stderr",
     "output_type": "stream",
     "text": [
      "Child returned 0\n",
      "0.82 seconds.\n",
      "save: 3.84 seconds\n",
      "\n",
      "Section 96.\n",
      "locate patches: 0.02 seconds\n",
      "36362 samples.\n",
      "load image: 0.28 seconds\n",
      "extract patches: 3.61 seconds\n",
      "predict: 64.70 seconds\n"
     ]
    },
    {
     "name": "stdout",
     "output_type": "stream",
     "text": [
      "aws s3 cp /shared/CSHL_patch_features/inception-bn-blue/MD652/MD652-F16-2016.12.16-21.00.10_MD652_3_0048_lossless_alignedTo_MD652-F45-2016.12.17-05.56.31_MD652_2_0134_cropped/MD652-F16-2016.12.16-21.00.10_MD652_3_0048_lossless_alignedTo_MD652-F45-2016.12.17-05.56.31_MD652_2_0134_cropped_features.bp s3://mousebrainatlas-data/CSHL_patch_features/inception-bn-blue/MD652/MD652-F16-2016.12.16-21.00.10_MD652_3_0048_lossless_alignedTo_MD652-F45-2016.12.17-05.56.31_MD652_2_0134_cropped/MD652-F16-2016.12.16-21.00.10_MD652_3_0048_lossless_alignedTo_MD652-F45-2016.12.17-05.56.31_MD652_2_0134_cropped_features.bp\n"
     ]
    },
    {
     "name": "stderr",
     "output_type": "stream",
     "text": [
      "Child returned 0\n",
      "1.80 seconds.\n"
     ]
    },
    {
     "name": "stdout",
     "output_type": "stream",
     "text": [
      "aws s3 cp /shared/CSHL_patch_features/inception-bn-blue/MD652/MD652-F16-2016.12.16-21.00.10_MD652_3_0048_lossless_alignedTo_MD652-F45-2016.12.17-05.56.31_MD652_2_0134_cropped/MD652-F16-2016.12.16-21.00.10_MD652_3_0048_lossless_alignedTo_MD652-F45-2016.12.17-05.56.31_MD652_2_0134_cropped_patch_locations.txt s3://mousebrainatlas-data/CSHL_patch_features/inception-bn-blue/MD652/MD652-F16-2016.12.16-21.00.10_MD652_3_0048_lossless_alignedTo_MD652-F45-2016.12.17-05.56.31_MD652_2_0134_cropped/MD652-F16-2016.12.16-21.00.10_MD652_3_0048_lossless_alignedTo_MD652-F45-2016.12.17-05.56.31_MD652_2_0134_cropped_patch_locations.txt\n"
     ]
    },
    {
     "name": "stderr",
     "output_type": "stream",
     "text": [
      "Child returned 0\n",
      "0.78 seconds.\n",
      "save: 3.33 seconds\n",
      "\n",
      "Section 97.\n",
      "locate patches: 0.02 seconds\n",
      "36438 samples.\n",
      "load image: 0.28 seconds\n",
      "extract patches: 4.21 seconds\n",
      "predict: 61.74 seconds\n"
     ]
    },
    {
     "name": "stdout",
     "output_type": "stream",
     "text": [
      "aws s3 cp /shared/CSHL_patch_features/inception-bn-blue/MD652/MD652-N17-2016.12.16-06.05.01_MD652_1_0049_lossless_alignedTo_MD652-F45-2016.12.17-05.56.31_MD652_2_0134_cropped/MD652-N17-2016.12.16-06.05.01_MD652_1_0049_lossless_alignedTo_MD652-F45-2016.12.17-05.56.31_MD652_2_0134_cropped_features.bp s3://mousebrainatlas-data/CSHL_patch_features/inception-bn-blue/MD652/MD652-N17-2016.12.16-06.05.01_MD652_1_0049_lossless_alignedTo_MD652-F45-2016.12.17-05.56.31_MD652_2_0134_cropped/MD652-N17-2016.12.16-06.05.01_MD652_1_0049_lossless_alignedTo_MD652-F45-2016.12.17-05.56.31_MD652_2_0134_cropped_features.bp\n"
     ]
    },
    {
     "name": "stderr",
     "output_type": "stream",
     "text": [
      "Child returned 0\n",
      "4.34 seconds.\n"
     ]
    },
    {
     "name": "stdout",
     "output_type": "stream",
     "text": [
      "aws s3 cp /shared/CSHL_patch_features/inception-bn-blue/MD652/MD652-N17-2016.12.16-06.05.01_MD652_1_0049_lossless_alignedTo_MD652-F45-2016.12.17-05.56.31_MD652_2_0134_cropped/MD652-N17-2016.12.16-06.05.01_MD652_1_0049_lossless_alignedTo_MD652-F45-2016.12.17-05.56.31_MD652_2_0134_cropped_patch_locations.txt s3://mousebrainatlas-data/CSHL_patch_features/inception-bn-blue/MD652/MD652-N17-2016.12.16-06.05.01_MD652_1_0049_lossless_alignedTo_MD652-F45-2016.12.17-05.56.31_MD652_2_0134_cropped/MD652-N17-2016.12.16-06.05.01_MD652_1_0049_lossless_alignedTo_MD652-F45-2016.12.17-05.56.31_MD652_2_0134_cropped_patch_locations.txt\n"
     ]
    },
    {
     "name": "stderr",
     "output_type": "stream",
     "text": [
      "Child returned 0\n",
      "0.77 seconds.\n",
      "save: 5.87 seconds\n",
      "\n",
      "Section 98.\n",
      "locate patches: 0.02 seconds\n",
      "35109 samples.\n",
      "load image: 0.27 seconds\n",
      "extract patches: 3.93 seconds\n",
      "predict: 37.91 seconds\n"
     ]
    },
    {
     "name": "stdout",
     "output_type": "stream",
     "text": [
      "aws s3 cp /shared/CSHL_patch_features/inception-bn-blue/MD652/MD652-F17-2016.12.16-21.14.41_MD652_1_0049_lossless_alignedTo_MD652-F45-2016.12.17-05.56.31_MD652_2_0134_cropped/MD652-F17-2016.12.16-21.14.41_MD652_1_0049_lossless_alignedTo_MD652-F45-2016.12.17-05.56.31_MD652_2_0134_cropped_features.bp s3://mousebrainatlas-data/CSHL_patch_features/inception-bn-blue/MD652/MD652-F17-2016.12.16-21.14.41_MD652_1_0049_lossless_alignedTo_MD652-F45-2016.12.17-05.56.31_MD652_2_0134_cropped/MD652-F17-2016.12.16-21.14.41_MD652_1_0049_lossless_alignedTo_MD652-F45-2016.12.17-05.56.31_MD652_2_0134_cropped_features.bp\n"
     ]
    },
    {
     "name": "stderr",
     "output_type": "stream",
     "text": [
      "Child returned 0\n",
      "2.00 seconds.\n"
     ]
    },
    {
     "name": "stdout",
     "output_type": "stream",
     "text": [
      "aws s3 cp /shared/CSHL_patch_features/inception-bn-blue/MD652/MD652-F17-2016.12.16-21.14.41_MD652_1_0049_lossless_alignedTo_MD652-F45-2016.12.17-05.56.31_MD652_2_0134_cropped/MD652-F17-2016.12.16-21.14.41_MD652_1_0049_lossless_alignedTo_MD652-F45-2016.12.17-05.56.31_MD652_2_0134_cropped_patch_locations.txt s3://mousebrainatlas-data/CSHL_patch_features/inception-bn-blue/MD652/MD652-F17-2016.12.16-21.14.41_MD652_1_0049_lossless_alignedTo_MD652-F45-2016.12.17-05.56.31_MD652_2_0134_cropped/MD652-F17-2016.12.16-21.14.41_MD652_1_0049_lossless_alignedTo_MD652-F45-2016.12.17-05.56.31_MD652_2_0134_cropped_patch_locations.txt\n"
     ]
    },
    {
     "name": "stderr",
     "output_type": "stream",
     "text": [
      "Child returned 0\n",
      "0.72 seconds.\n",
      "save: 3.44 seconds\n",
      "\n",
      "Section 99.\n",
      "locate patches: 0.02 seconds\n",
      "36319 samples.\n",
      "load image: 0.27 seconds\n",
      "extract patches: 4.06 seconds\n",
      "predict: 26.41 seconds\n"
     ]
    },
    {
     "name": "stdout",
     "output_type": "stream",
     "text": [
      "aws s3 cp /shared/CSHL_patch_features/inception-bn-blue/MD652/MD652-N17-2016.12.16-06.05.01_MD652_2_0050_lossless_alignedTo_MD652-F45-2016.12.17-05.56.31_MD652_2_0134_cropped/MD652-N17-2016.12.16-06.05.01_MD652_2_0050_lossless_alignedTo_MD652-F45-2016.12.17-05.56.31_MD652_2_0134_cropped_features.bp s3://mousebrainatlas-data/CSHL_patch_features/inception-bn-blue/MD652/MD652-N17-2016.12.16-06.05.01_MD652_2_0050_lossless_alignedTo_MD652-F45-2016.12.17-05.56.31_MD652_2_0134_cropped/MD652-N17-2016.12.16-06.05.01_MD652_2_0050_lossless_alignedTo_MD652-F45-2016.12.17-05.56.31_MD652_2_0134_cropped_features.bp\n"
     ]
    },
    {
     "name": "stderr",
     "output_type": "stream",
     "text": [
      "Child returned 0\n",
      "1.96 seconds.\n"
     ]
    },
    {
     "name": "stdout",
     "output_type": "stream",
     "text": [
      "aws s3 cp /shared/CSHL_patch_features/inception-bn-blue/MD652/MD652-N17-2016.12.16-06.05.01_MD652_2_0050_lossless_alignedTo_MD652-F45-2016.12.17-05.56.31_MD652_2_0134_cropped/MD652-N17-2016.12.16-06.05.01_MD652_2_0050_lossless_alignedTo_MD652-F45-2016.12.17-05.56.31_MD652_2_0134_cropped_patch_locations.txt s3://mousebrainatlas-data/CSHL_patch_features/inception-bn-blue/MD652/MD652-N17-2016.12.16-06.05.01_MD652_2_0050_lossless_alignedTo_MD652-F45-2016.12.17-05.56.31_MD652_2_0134_cropped/MD652-N17-2016.12.16-06.05.01_MD652_2_0050_lossless_alignedTo_MD652-F45-2016.12.17-05.56.31_MD652_2_0134_cropped_patch_locations.txt\n"
     ]
    },
    {
     "name": "stderr",
     "output_type": "stream",
     "text": [
      "Child returned 0\n",
      "0.78 seconds.\n",
      "save: 3.49 seconds\n",
      "\n",
      "Section 100.\n",
      "locate patches: 0.02 seconds\n",
      "36107 samples.\n",
      "load image: 0.27 seconds\n",
      "extract patches: 4.04 seconds\n",
      "predict: 24.12 seconds\n"
     ]
    },
    {
     "name": "stdout",
     "output_type": "stream",
     "text": [
      "aws s3 cp /shared/CSHL_patch_features/inception-bn-blue/MD652/MD652-F17-2016.12.16-21.14.41_MD652_2_0050_lossless_alignedTo_MD652-F45-2016.12.17-05.56.31_MD652_2_0134_cropped/MD652-F17-2016.12.16-21.14.41_MD652_2_0050_lossless_alignedTo_MD652-F45-2016.12.17-05.56.31_MD652_2_0134_cropped_features.bp s3://mousebrainatlas-data/CSHL_patch_features/inception-bn-blue/MD652/MD652-F17-2016.12.16-21.14.41_MD652_2_0050_lossless_alignedTo_MD652-F45-2016.12.17-05.56.31_MD652_2_0134_cropped/MD652-F17-2016.12.16-21.14.41_MD652_2_0050_lossless_alignedTo_MD652-F45-2016.12.17-05.56.31_MD652_2_0134_cropped_features.bp\n"
     ]
    },
    {
     "name": "stderr",
     "output_type": "stream",
     "text": [
      "Child returned 0\n",
      "2.11 seconds.\n"
     ]
    },
    {
     "name": "stdout",
     "output_type": "stream",
     "text": [
      "aws s3 cp /shared/CSHL_patch_features/inception-bn-blue/MD652/MD652-F17-2016.12.16-21.14.41_MD652_2_0050_lossless_alignedTo_MD652-F45-2016.12.17-05.56.31_MD652_2_0134_cropped/MD652-F17-2016.12.16-21.14.41_MD652_2_0050_lossless_alignedTo_MD652-F45-2016.12.17-05.56.31_MD652_2_0134_cropped_patch_locations.txt s3://mousebrainatlas-data/CSHL_patch_features/inception-bn-blue/MD652/MD652-F17-2016.12.16-21.14.41_MD652_2_0050_lossless_alignedTo_MD652-F45-2016.12.17-05.56.31_MD652_2_0134_cropped/MD652-F17-2016.12.16-21.14.41_MD652_2_0050_lossless_alignedTo_MD652-F45-2016.12.17-05.56.31_MD652_2_0134_cropped_patch_locations.txt\n"
     ]
    },
    {
     "name": "stderr",
     "output_type": "stream",
     "text": [
      "Child returned 0\n",
      "0.77 seconds.\n",
      "save: 3.56 seconds\n",
      "\n",
      "Section 101.\n",
      "locate patches: 0.02 seconds\n",
      "37041 samples.\n",
      "load image: 0.27 seconds\n",
      "extract patches: 4.16 seconds\n",
      "predict: 32.13 seconds\n"
     ]
    },
    {
     "name": "stdout",
     "output_type": "stream",
     "text": [
      "aws s3 cp /shared/CSHL_patch_features/inception-bn-blue/MD652/MD652-N17-2016.12.16-06.05.01_MD652_3_0051_lossless_alignedTo_MD652-F45-2016.12.17-05.56.31_MD652_2_0134_cropped/MD652-N17-2016.12.16-06.05.01_MD652_3_0051_lossless_alignedTo_MD652-F45-2016.12.17-05.56.31_MD652_2_0134_cropped_features.bp s3://mousebrainatlas-data/CSHL_patch_features/inception-bn-blue/MD652/MD652-N17-2016.12.16-06.05.01_MD652_3_0051_lossless_alignedTo_MD652-F45-2016.12.17-05.56.31_MD652_2_0134_cropped/MD652-N17-2016.12.16-06.05.01_MD652_3_0051_lossless_alignedTo_MD652-F45-2016.12.17-05.56.31_MD652_2_0134_cropped_features.bp\n"
     ]
    },
    {
     "name": "stderr",
     "output_type": "stream",
     "text": [
      "Child returned 0\n",
      "2.06 seconds.\n"
     ]
    },
    {
     "name": "stdout",
     "output_type": "stream",
     "text": [
      "aws s3 cp /shared/CSHL_patch_features/inception-bn-blue/MD652/MD652-N17-2016.12.16-06.05.01_MD652_3_0051_lossless_alignedTo_MD652-F45-2016.12.17-05.56.31_MD652_2_0134_cropped/MD652-N17-2016.12.16-06.05.01_MD652_3_0051_lossless_alignedTo_MD652-F45-2016.12.17-05.56.31_MD652_2_0134_cropped_patch_locations.txt s3://mousebrainatlas-data/CSHL_patch_features/inception-bn-blue/MD652/MD652-N17-2016.12.16-06.05.01_MD652_3_0051_lossless_alignedTo_MD652-F45-2016.12.17-05.56.31_MD652_2_0134_cropped/MD652-N17-2016.12.16-06.05.01_MD652_3_0051_lossless_alignedTo_MD652-F45-2016.12.17-05.56.31_MD652_2_0134_cropped_patch_locations.txt\n"
     ]
    },
    {
     "name": "stderr",
     "output_type": "stream",
     "text": [
      "Child returned 0\n",
      "0.83 seconds.\n",
      "save: 3.58 seconds\n",
      "\n",
      "Section 102.\n",
      "locate patches: 0.02 seconds\n",
      "37063 samples.\n",
      "load image: 0.27 seconds\n",
      "extract patches: 3.54 seconds\n",
      "predict: 32.70 seconds\n"
     ]
    },
    {
     "name": "stdout",
     "output_type": "stream",
     "text": [
      "aws s3 cp /shared/CSHL_patch_features/inception-bn-blue/MD652/MD652-F17-2016.12.16-21.14.41_MD652_3_0051_lossless_alignedTo_MD652-F45-2016.12.17-05.56.31_MD652_2_0134_cropped/MD652-F17-2016.12.16-21.14.41_MD652_3_0051_lossless_alignedTo_MD652-F45-2016.12.17-05.56.31_MD652_2_0134_cropped_features.bp s3://mousebrainatlas-data/CSHL_patch_features/inception-bn-blue/MD652/MD652-F17-2016.12.16-21.14.41_MD652_3_0051_lossless_alignedTo_MD652-F45-2016.12.17-05.56.31_MD652_2_0134_cropped/MD652-F17-2016.12.16-21.14.41_MD652_3_0051_lossless_alignedTo_MD652-F45-2016.12.17-05.56.31_MD652_2_0134_cropped_features.bp\n"
     ]
    },
    {
     "name": "stderr",
     "output_type": "stream",
     "text": [
      "Child returned 0\n",
      "2.00 seconds.\n"
     ]
    },
    {
     "name": "stdout",
     "output_type": "stream",
     "text": [
      "aws s3 cp /shared/CSHL_patch_features/inception-bn-blue/MD652/MD652-F17-2016.12.16-21.14.41_MD652_3_0051_lossless_alignedTo_MD652-F45-2016.12.17-05.56.31_MD652_2_0134_cropped/MD652-F17-2016.12.16-21.14.41_MD652_3_0051_lossless_alignedTo_MD652-F45-2016.12.17-05.56.31_MD652_2_0134_cropped_patch_locations.txt s3://mousebrainatlas-data/CSHL_patch_features/inception-bn-blue/MD652/MD652-F17-2016.12.16-21.14.41_MD652_3_0051_lossless_alignedTo_MD652-F45-2016.12.17-05.56.31_MD652_2_0134_cropped/MD652-F17-2016.12.16-21.14.41_MD652_3_0051_lossless_alignedTo_MD652-F45-2016.12.17-05.56.31_MD652_2_0134_cropped_patch_locations.txt\n"
     ]
    },
    {
     "name": "stderr",
     "output_type": "stream",
     "text": [
      "Child returned 0\n",
      "0.78 seconds.\n",
      "save: 3.47 seconds\n",
      "\n",
      "Section 103.\n",
      "locate patches: 0.02 seconds\n",
      "38008 samples.\n",
      "load image: 0.27 seconds\n",
      "extract patches: 3.65 seconds\n",
      "predict: 40.55 seconds\n"
     ]
    },
    {
     "name": "stdout",
     "output_type": "stream",
     "text": [
      "aws s3 cp /shared/CSHL_patch_features/inception-bn-blue/MD652/MD652-N18-2016.12.16-06.09.52_MD652_1_0052_lossless_alignedTo_MD652-F45-2016.12.17-05.56.31_MD652_2_0134_cropped/MD652-N18-2016.12.16-06.09.52_MD652_1_0052_lossless_alignedTo_MD652-F45-2016.12.17-05.56.31_MD652_2_0134_cropped_features.bp s3://mousebrainatlas-data/CSHL_patch_features/inception-bn-blue/MD652/MD652-N18-2016.12.16-06.09.52_MD652_1_0052_lossless_alignedTo_MD652-F45-2016.12.17-05.56.31_MD652_2_0134_cropped/MD652-N18-2016.12.16-06.09.52_MD652_1_0052_lossless_alignedTo_MD652-F45-2016.12.17-05.56.31_MD652_2_0134_cropped_features.bp\n"
     ]
    },
    {
     "name": "stderr",
     "output_type": "stream",
     "text": [
      "Child returned 0\n",
      "1.99 seconds.\n"
     ]
    },
    {
     "name": "stdout",
     "output_type": "stream",
     "text": [
      "aws s3 cp /shared/CSHL_patch_features/inception-bn-blue/MD652/MD652-N18-2016.12.16-06.09.52_MD652_1_0052_lossless_alignedTo_MD652-F45-2016.12.17-05.56.31_MD652_2_0134_cropped/MD652-N18-2016.12.16-06.09.52_MD652_1_0052_lossless_alignedTo_MD652-F45-2016.12.17-05.56.31_MD652_2_0134_cropped_patch_locations.txt s3://mousebrainatlas-data/CSHL_patch_features/inception-bn-blue/MD652/MD652-N18-2016.12.16-06.09.52_MD652_1_0052_lossless_alignedTo_MD652-F45-2016.12.17-05.56.31_MD652_2_0134_cropped/MD652-N18-2016.12.16-06.09.52_MD652_1_0052_lossless_alignedTo_MD652-F45-2016.12.17-05.56.31_MD652_2_0134_cropped_patch_locations.txt\n"
     ]
    },
    {
     "name": "stderr",
     "output_type": "stream",
     "text": [
      "Child returned 0\n",
      "0.78 seconds.\n",
      "save: 3.49 seconds\n",
      "\n",
      "Section 104.\n",
      "locate patches: 0.02 seconds\n",
      "38318 samples.\n",
      "load image: 0.27 seconds\n",
      "extract patches: 3.65 seconds\n",
      "predict: 45.17 seconds\n"
     ]
    },
    {
     "name": "stdout",
     "output_type": "stream",
     "text": [
      "aws s3 cp /shared/CSHL_patch_features/inception-bn-blue/MD652/MD652-F18-2016.12.16-21.30.08_MD652_1_0052_lossless_alignedTo_MD652-F45-2016.12.17-05.56.31_MD652_2_0134_cropped/MD652-F18-2016.12.16-21.30.08_MD652_1_0052_lossless_alignedTo_MD652-F45-2016.12.17-05.56.31_MD652_2_0134_cropped_features.bp s3://mousebrainatlas-data/CSHL_patch_features/inception-bn-blue/MD652/MD652-F18-2016.12.16-21.30.08_MD652_1_0052_lossless_alignedTo_MD652-F45-2016.12.17-05.56.31_MD652_2_0134_cropped/MD652-F18-2016.12.16-21.30.08_MD652_1_0052_lossless_alignedTo_MD652-F45-2016.12.17-05.56.31_MD652_2_0134_cropped_features.bp\n"
     ]
    },
    {
     "name": "stderr",
     "output_type": "stream",
     "text": [
      "Child returned 0\n",
      "2.11 seconds.\n"
     ]
    },
    {
     "name": "stdout",
     "output_type": "stream",
     "text": [
      "aws s3 cp /shared/CSHL_patch_features/inception-bn-blue/MD652/MD652-F18-2016.12.16-21.30.08_MD652_1_0052_lossless_alignedTo_MD652-F45-2016.12.17-05.56.31_MD652_2_0134_cropped/MD652-F18-2016.12.16-21.30.08_MD652_1_0052_lossless_alignedTo_MD652-F45-2016.12.17-05.56.31_MD652_2_0134_cropped_patch_locations.txt s3://mousebrainatlas-data/CSHL_patch_features/inception-bn-blue/MD652/MD652-F18-2016.12.16-21.30.08_MD652_1_0052_lossless_alignedTo_MD652-F45-2016.12.17-05.56.31_MD652_2_0134_cropped/MD652-F18-2016.12.16-21.30.08_MD652_1_0052_lossless_alignedTo_MD652-F45-2016.12.17-05.56.31_MD652_2_0134_cropped_patch_locations.txt\n"
     ]
    },
    {
     "name": "stderr",
     "output_type": "stream",
     "text": [
      "Child returned 0\n",
      "0.78 seconds.\n",
      "save: 3.61 seconds\n",
      "\n",
      "Section 105.\n",
      "locate patches: 0.02 seconds\n",
      "38971 samples.\n",
      "load image: 0.27 seconds\n",
      "extract patches: 4.37 seconds\n",
      "predict: 49.19 seconds\n"
     ]
    },
    {
     "name": "stdout",
     "output_type": "stream",
     "text": [
      "aws s3 cp /shared/CSHL_patch_features/inception-bn-blue/MD652/MD652-N18-2016.12.16-06.09.52_MD652_2_0053_lossless_alignedTo_MD652-F45-2016.12.17-05.56.31_MD652_2_0134_cropped/MD652-N18-2016.12.16-06.09.52_MD652_2_0053_lossless_alignedTo_MD652-F45-2016.12.17-05.56.31_MD652_2_0134_cropped_features.bp s3://mousebrainatlas-data/CSHL_patch_features/inception-bn-blue/MD652/MD652-N18-2016.12.16-06.09.52_MD652_2_0053_lossless_alignedTo_MD652-F45-2016.12.17-05.56.31_MD652_2_0134_cropped/MD652-N18-2016.12.16-06.09.52_MD652_2_0053_lossless_alignedTo_MD652-F45-2016.12.17-05.56.31_MD652_2_0134_cropped_features.bp\n"
     ]
    },
    {
     "name": "stderr",
     "output_type": "stream",
     "text": [
      "Child returned 0\n",
      "1.81 seconds.\n"
     ]
    },
    {
     "name": "stdout",
     "output_type": "stream",
     "text": [
      "aws s3 cp /shared/CSHL_patch_features/inception-bn-blue/MD652/MD652-N18-2016.12.16-06.09.52_MD652_2_0053_lossless_alignedTo_MD652-F45-2016.12.17-05.56.31_MD652_2_0134_cropped/MD652-N18-2016.12.16-06.09.52_MD652_2_0053_lossless_alignedTo_MD652-F45-2016.12.17-05.56.31_MD652_2_0134_cropped_patch_locations.txt s3://mousebrainatlas-data/CSHL_patch_features/inception-bn-blue/MD652/MD652-N18-2016.12.16-06.09.52_MD652_2_0053_lossless_alignedTo_MD652-F45-2016.12.17-05.56.31_MD652_2_0134_cropped/MD652-N18-2016.12.16-06.09.52_MD652_2_0053_lossless_alignedTo_MD652-F45-2016.12.17-05.56.31_MD652_2_0134_cropped_patch_locations.txt\n"
     ]
    },
    {
     "name": "stderr",
     "output_type": "stream",
     "text": [
      "Child returned 0\n",
      "0.82 seconds.\n",
      "save: 3.37 seconds\n",
      "\n",
      "Section 106.\n",
      "locate patches: 0.02 seconds\n",
      "37383 samples.\n",
      "load image: 0.27 seconds\n",
      "extract patches: 3.58 seconds\n",
      "predict: 35.02 seconds\n"
     ]
    },
    {
     "name": "stdout",
     "output_type": "stream",
     "text": [
      "aws s3 cp /shared/CSHL_patch_features/inception-bn-blue/MD652/MD652-F18-2016.12.16-21.30.08_MD652_2_0053_lossless_alignedTo_MD652-F45-2016.12.17-05.56.31_MD652_2_0134_cropped/MD652-F18-2016.12.16-21.30.08_MD652_2_0053_lossless_alignedTo_MD652-F45-2016.12.17-05.56.31_MD652_2_0134_cropped_features.bp s3://mousebrainatlas-data/CSHL_patch_features/inception-bn-blue/MD652/MD652-F18-2016.12.16-21.30.08_MD652_2_0053_lossless_alignedTo_MD652-F45-2016.12.17-05.56.31_MD652_2_0134_cropped/MD652-F18-2016.12.16-21.30.08_MD652_2_0053_lossless_alignedTo_MD652-F45-2016.12.17-05.56.31_MD652_2_0134_cropped_features.bp\n"
     ]
    },
    {
     "name": "stderr",
     "output_type": "stream",
     "text": [
      "Child returned 0\n",
      "2.06 seconds.\n"
     ]
    },
    {
     "name": "stdout",
     "output_type": "stream",
     "text": [
      "aws s3 cp /shared/CSHL_patch_features/inception-bn-blue/MD652/MD652-F18-2016.12.16-21.30.08_MD652_2_0053_lossless_alignedTo_MD652-F45-2016.12.17-05.56.31_MD652_2_0134_cropped/MD652-F18-2016.12.16-21.30.08_MD652_2_0053_lossless_alignedTo_MD652-F45-2016.12.17-05.56.31_MD652_2_0134_cropped_patch_locations.txt s3://mousebrainatlas-data/CSHL_patch_features/inception-bn-blue/MD652/MD652-F18-2016.12.16-21.30.08_MD652_2_0053_lossless_alignedTo_MD652-F45-2016.12.17-05.56.31_MD652_2_0134_cropped/MD652-F18-2016.12.16-21.30.08_MD652_2_0053_lossless_alignedTo_MD652-F45-2016.12.17-05.56.31_MD652_2_0134_cropped_patch_locations.txt\n"
     ]
    },
    {
     "name": "stderr",
     "output_type": "stream",
     "text": [
      "Child returned 0\n",
      "0.77 seconds.\n",
      "save: 3.54 seconds\n",
      "\n",
      "Section 107.\n",
      "locate patches: 0.02 seconds\n",
      "38777 samples.\n",
      "load image: 0.27 seconds\n",
      "extract patches: 3.70 seconds\n",
      "predict: 47.50 seconds\n"
     ]
    },
    {
     "name": "stdout",
     "output_type": "stream",
     "text": [
      "aws s3 cp /shared/CSHL_patch_features/inception-bn-blue/MD652/MD652-N18-2016.12.16-06.09.52_MD652_3_0054_lossless_alignedTo_MD652-F45-2016.12.17-05.56.31_MD652_2_0134_cropped/MD652-N18-2016.12.16-06.09.52_MD652_3_0054_lossless_alignedTo_MD652-F45-2016.12.17-05.56.31_MD652_2_0134_cropped_features.bp s3://mousebrainatlas-data/CSHL_patch_features/inception-bn-blue/MD652/MD652-N18-2016.12.16-06.09.52_MD652_3_0054_lossless_alignedTo_MD652-F45-2016.12.17-05.56.31_MD652_2_0134_cropped/MD652-N18-2016.12.16-06.09.52_MD652_3_0054_lossless_alignedTo_MD652-F45-2016.12.17-05.56.31_MD652_2_0134_cropped_features.bp\n"
     ]
    },
    {
     "name": "stderr",
     "output_type": "stream",
     "text": [
      "Child returned 0\n",
      "1.79 seconds.\n"
     ]
    },
    {
     "name": "stdout",
     "output_type": "stream",
     "text": [
      "aws s3 cp /shared/CSHL_patch_features/inception-bn-blue/MD652/MD652-N18-2016.12.16-06.09.52_MD652_3_0054_lossless_alignedTo_MD652-F45-2016.12.17-05.56.31_MD652_2_0134_cropped/MD652-N18-2016.12.16-06.09.52_MD652_3_0054_lossless_alignedTo_MD652-F45-2016.12.17-05.56.31_MD652_2_0134_cropped_patch_locations.txt s3://mousebrainatlas-data/CSHL_patch_features/inception-bn-blue/MD652/MD652-N18-2016.12.16-06.09.52_MD652_3_0054_lossless_alignedTo_MD652-F45-2016.12.17-05.56.31_MD652_2_0134_cropped/MD652-N18-2016.12.16-06.09.52_MD652_3_0054_lossless_alignedTo_MD652-F45-2016.12.17-05.56.31_MD652_2_0134_cropped_patch_locations.txt\n"
     ]
    },
    {
     "name": "stderr",
     "output_type": "stream",
     "text": [
      "Child returned 0\n",
      "0.77 seconds.\n",
      "save: 3.30 seconds\n",
      "\n",
      "Section 108.\n",
      "locate patches: 0.02 seconds\n",
      "39680 samples.\n",
      "load image: 0.27 seconds\n",
      "extract patches: 3.79 seconds\n",
      "predict: 56.25 seconds\n"
     ]
    },
    {
     "name": "stdout",
     "output_type": "stream",
     "text": [
      "aws s3 cp /shared/CSHL_patch_features/inception-bn-blue/MD652/MD652-F18-2016.12.16-21.30.08_MD652_3_0054_lossless_alignedTo_MD652-F45-2016.12.17-05.56.31_MD652_2_0134_cropped/MD652-F18-2016.12.16-21.30.08_MD652_3_0054_lossless_alignedTo_MD652-F45-2016.12.17-05.56.31_MD652_2_0134_cropped_features.bp s3://mousebrainatlas-data/CSHL_patch_features/inception-bn-blue/MD652/MD652-F18-2016.12.16-21.30.08_MD652_3_0054_lossless_alignedTo_MD652-F45-2016.12.17-05.56.31_MD652_2_0134_cropped/MD652-F18-2016.12.16-21.30.08_MD652_3_0054_lossless_alignedTo_MD652-F45-2016.12.17-05.56.31_MD652_2_0134_cropped_features.bp\n"
     ]
    },
    {
     "name": "stderr",
     "output_type": "stream",
     "text": [
      "Child returned 0\n",
      "2.00 seconds.\n"
     ]
    },
    {
     "name": "stdout",
     "output_type": "stream",
     "text": [
      "aws s3 cp /shared/CSHL_patch_features/inception-bn-blue/MD652/MD652-F18-2016.12.16-21.30.08_MD652_3_0054_lossless_alignedTo_MD652-F45-2016.12.17-05.56.31_MD652_2_0134_cropped/MD652-F18-2016.12.16-21.30.08_MD652_3_0054_lossless_alignedTo_MD652-F45-2016.12.17-05.56.31_MD652_2_0134_cropped_patch_locations.txt s3://mousebrainatlas-data/CSHL_patch_features/inception-bn-blue/MD652/MD652-F18-2016.12.16-21.30.08_MD652_3_0054_lossless_alignedTo_MD652-F45-2016.12.17-05.56.31_MD652_2_0134_cropped/MD652-F18-2016.12.16-21.30.08_MD652_3_0054_lossless_alignedTo_MD652-F45-2016.12.17-05.56.31_MD652_2_0134_cropped_patch_locations.txt\n"
     ]
    },
    {
     "name": "stderr",
     "output_type": "stream",
     "text": [
      "Child returned 0\n",
      "0.88 seconds.\n",
      "save: 3.61 seconds\n",
      "\n",
      "Section 109.\n",
      "locate patches: 0.02 seconds\n",
      "38643 samples.\n",
      "load image: 0.27 seconds\n",
      "extract patches: 3.69 seconds\n",
      "predict: 45.48 seconds\n"
     ]
    },
    {
     "name": "stdout",
     "output_type": "stream",
     "text": [
      "aws s3 cp /shared/CSHL_patch_features/inception-bn-blue/MD652/MD652-N19-2016.12.16-06.14.44_MD652_1_0055_lossless_alignedTo_MD652-F45-2016.12.17-05.56.31_MD652_2_0134_cropped/MD652-N19-2016.12.16-06.14.44_MD652_1_0055_lossless_alignedTo_MD652-F45-2016.12.17-05.56.31_MD652_2_0134_cropped_features.bp s3://mousebrainatlas-data/CSHL_patch_features/inception-bn-blue/MD652/MD652-N19-2016.12.16-06.14.44_MD652_1_0055_lossless_alignedTo_MD652-F45-2016.12.17-05.56.31_MD652_2_0134_cropped/MD652-N19-2016.12.16-06.14.44_MD652_1_0055_lossless_alignedTo_MD652-F45-2016.12.17-05.56.31_MD652_2_0134_cropped_features.bp\n"
     ]
    },
    {
     "name": "stderr",
     "output_type": "stream",
     "text": [
      "Child returned 0\n",
      "2.90 seconds.\n"
     ]
    },
    {
     "name": "stdout",
     "output_type": "stream",
     "text": [
      "aws s3 cp /shared/CSHL_patch_features/inception-bn-blue/MD652/MD652-N19-2016.12.16-06.14.44_MD652_1_0055_lossless_alignedTo_MD652-F45-2016.12.17-05.56.31_MD652_2_0134_cropped/MD652-N19-2016.12.16-06.14.44_MD652_1_0055_lossless_alignedTo_MD652-F45-2016.12.17-05.56.31_MD652_2_0134_cropped_patch_locations.txt s3://mousebrainatlas-data/CSHL_patch_features/inception-bn-blue/MD652/MD652-N19-2016.12.16-06.14.44_MD652_1_0055_lossless_alignedTo_MD652-F45-2016.12.17-05.56.31_MD652_2_0134_cropped/MD652-N19-2016.12.16-06.14.44_MD652_1_0055_lossless_alignedTo_MD652-F45-2016.12.17-05.56.31_MD652_2_0134_cropped_patch_locations.txt\n"
     ]
    },
    {
     "name": "stderr",
     "output_type": "stream",
     "text": [
      "Child returned 0\n",
      "0.78 seconds.\n",
      "save: 4.41 seconds\n",
      "\n",
      "Section 110.\n",
      "locate patches: 0.02 seconds\n",
      "39220 samples.\n",
      "load image: 0.27 seconds\n",
      "extract patches: 3.76 seconds\n",
      "predict: 43.22 seconds\n"
     ]
    },
    {
     "name": "stdout",
     "output_type": "stream",
     "text": [
      "aws s3 cp /shared/CSHL_patch_features/inception-bn-blue/MD652/MD652-F19-2016.12.16-21.46.59_MD652_1_0055_lossless_alignedTo_MD652-F45-2016.12.17-05.56.31_MD652_2_0134_cropped/MD652-F19-2016.12.16-21.46.59_MD652_1_0055_lossless_alignedTo_MD652-F45-2016.12.17-05.56.31_MD652_2_0134_cropped_features.bp s3://mousebrainatlas-data/CSHL_patch_features/inception-bn-blue/MD652/MD652-F19-2016.12.16-21.46.59_MD652_1_0055_lossless_alignedTo_MD652-F45-2016.12.17-05.56.31_MD652_2_0134_cropped/MD652-F19-2016.12.16-21.46.59_MD652_1_0055_lossless_alignedTo_MD652-F45-2016.12.17-05.56.31_MD652_2_0134_cropped_features.bp\n"
     ]
    },
    {
     "name": "stderr",
     "output_type": "stream",
     "text": [
      "Child returned 0\n",
      "2.25 seconds.\n"
     ]
    },
    {
     "name": "stdout",
     "output_type": "stream",
     "text": [
      "aws s3 cp /shared/CSHL_patch_features/inception-bn-blue/MD652/MD652-F19-2016.12.16-21.46.59_MD652_1_0055_lossless_alignedTo_MD652-F45-2016.12.17-05.56.31_MD652_2_0134_cropped/MD652-F19-2016.12.16-21.46.59_MD652_1_0055_lossless_alignedTo_MD652-F45-2016.12.17-05.56.31_MD652_2_0134_cropped_patch_locations.txt s3://mousebrainatlas-data/CSHL_patch_features/inception-bn-blue/MD652/MD652-F19-2016.12.16-21.46.59_MD652_1_0055_lossless_alignedTo_MD652-F45-2016.12.17-05.56.31_MD652_2_0134_cropped/MD652-F19-2016.12.16-21.46.59_MD652_1_0055_lossless_alignedTo_MD652-F45-2016.12.17-05.56.31_MD652_2_0134_cropped_patch_locations.txt\n"
     ]
    },
    {
     "name": "stderr",
     "output_type": "stream",
     "text": [
      "Child returned 0\n",
      "0.77 seconds.\n",
      "save: 3.76 seconds\n",
      "\n",
      "Section 111.\n",
      "locate patches: 0.02 seconds\n",
      "39368 samples.\n",
      "load image: 0.27 seconds\n",
      "extract patches: 3.76 seconds\n",
      "predict: 41.60 seconds\n"
     ]
    },
    {
     "name": "stdout",
     "output_type": "stream",
     "text": [
      "aws s3 cp /shared/CSHL_patch_features/inception-bn-blue/MD652/MD652-N19-2016.12.16-06.14.44_MD652_2_0056_lossless_alignedTo_MD652-F45-2016.12.17-05.56.31_MD652_2_0134_cropped/MD652-N19-2016.12.16-06.14.44_MD652_2_0056_lossless_alignedTo_MD652-F45-2016.12.17-05.56.31_MD652_2_0134_cropped_features.bp s3://mousebrainatlas-data/CSHL_patch_features/inception-bn-blue/MD652/MD652-N19-2016.12.16-06.14.44_MD652_2_0056_lossless_alignedTo_MD652-F45-2016.12.17-05.56.31_MD652_2_0134_cropped/MD652-N19-2016.12.16-06.14.44_MD652_2_0056_lossless_alignedTo_MD652-F45-2016.12.17-05.56.31_MD652_2_0134_cropped_features.bp\n"
     ]
    },
    {
     "name": "stderr",
     "output_type": "stream",
     "text": [
      "Child returned 0\n",
      "2.00 seconds.\n"
     ]
    },
    {
     "name": "stdout",
     "output_type": "stream",
     "text": [
      "aws s3 cp /shared/CSHL_patch_features/inception-bn-blue/MD652/MD652-N19-2016.12.16-06.14.44_MD652_2_0056_lossless_alignedTo_MD652-F45-2016.12.17-05.56.31_MD652_2_0134_cropped/MD652-N19-2016.12.16-06.14.44_MD652_2_0056_lossless_alignedTo_MD652-F45-2016.12.17-05.56.31_MD652_2_0134_cropped_patch_locations.txt s3://mousebrainatlas-data/CSHL_patch_features/inception-bn-blue/MD652/MD652-N19-2016.12.16-06.14.44_MD652_2_0056_lossless_alignedTo_MD652-F45-2016.12.17-05.56.31_MD652_2_0134_cropped/MD652-N19-2016.12.16-06.14.44_MD652_2_0056_lossless_alignedTo_MD652-F45-2016.12.17-05.56.31_MD652_2_0134_cropped_patch_locations.txt\n"
     ]
    },
    {
     "name": "stderr",
     "output_type": "stream",
     "text": [
      "Child returned 0\n",
      "0.83 seconds.\n",
      "save: 3.56 seconds\n",
      "\n",
      "Section 112.\n",
      "locate patches: 0.02 seconds\n",
      "40374 samples.\n",
      "load image: 0.27 seconds\n",
      "extract patches: 3.85 seconds\n",
      "predict: 53.83 seconds\n"
     ]
    },
    {
     "name": "stdout",
     "output_type": "stream",
     "text": [
      "aws s3 cp /shared/CSHL_patch_features/inception-bn-blue/MD652/MD652-F19-2016.12.16-21.46.59_MD652_2_0056_lossless_alignedTo_MD652-F45-2016.12.17-05.56.31_MD652_2_0134_cropped/MD652-F19-2016.12.16-21.46.59_MD652_2_0056_lossless_alignedTo_MD652-F45-2016.12.17-05.56.31_MD652_2_0134_cropped_features.bp s3://mousebrainatlas-data/CSHL_patch_features/inception-bn-blue/MD652/MD652-F19-2016.12.16-21.46.59_MD652_2_0056_lossless_alignedTo_MD652-F45-2016.12.17-05.56.31_MD652_2_0134_cropped/MD652-F19-2016.12.16-21.46.59_MD652_2_0056_lossless_alignedTo_MD652-F45-2016.12.17-05.56.31_MD652_2_0134_cropped_features.bp\n"
     ]
    },
    {
     "name": "stderr",
     "output_type": "stream",
     "text": [
      "Child returned 0\n",
      "2.06 seconds.\n"
     ]
    },
    {
     "name": "stdout",
     "output_type": "stream",
     "text": [
      "aws s3 cp /shared/CSHL_patch_features/inception-bn-blue/MD652/MD652-F19-2016.12.16-21.46.59_MD652_2_0056_lossless_alignedTo_MD652-F45-2016.12.17-05.56.31_MD652_2_0134_cropped/MD652-F19-2016.12.16-21.46.59_MD652_2_0056_lossless_alignedTo_MD652-F45-2016.12.17-05.56.31_MD652_2_0134_cropped_patch_locations.txt s3://mousebrainatlas-data/CSHL_patch_features/inception-bn-blue/MD652/MD652-F19-2016.12.16-21.46.59_MD652_2_0056_lossless_alignedTo_MD652-F45-2016.12.17-05.56.31_MD652_2_0134_cropped/MD652-F19-2016.12.16-21.46.59_MD652_2_0056_lossless_alignedTo_MD652-F45-2016.12.17-05.56.31_MD652_2_0134_cropped_patch_locations.txt\n"
     ]
    },
    {
     "name": "stderr",
     "output_type": "stream",
     "text": [
      "Child returned 0\n",
      "0.78 seconds.\n",
      "save: 3.60 seconds\n",
      "\n",
      "Section 113.\n",
      "locate patches: 0.02 seconds\n",
      "40597 samples.\n",
      "load image: 0.27 seconds\n",
      "extract patches: 3.88 seconds\n",
      "predict: 44.07 seconds\n"
     ]
    },
    {
     "name": "stdout",
     "output_type": "stream",
     "text": [
      "aws s3 cp /shared/CSHL_patch_features/inception-bn-blue/MD652/MD652-N19-2016.12.16-06.14.44_MD652_3_0057_lossless_alignedTo_MD652-F45-2016.12.17-05.56.31_MD652_2_0134_cropped/MD652-N19-2016.12.16-06.14.44_MD652_3_0057_lossless_alignedTo_MD652-F45-2016.12.17-05.56.31_MD652_2_0134_cropped_features.bp s3://mousebrainatlas-data/CSHL_patch_features/inception-bn-blue/MD652/MD652-N19-2016.12.16-06.14.44_MD652_3_0057_lossless_alignedTo_MD652-F45-2016.12.17-05.56.31_MD652_2_0134_cropped/MD652-N19-2016.12.16-06.14.44_MD652_3_0057_lossless_alignedTo_MD652-F45-2016.12.17-05.56.31_MD652_2_0134_cropped_features.bp\n"
     ]
    },
    {
     "name": "stderr",
     "output_type": "stream",
     "text": [
      "Child returned 0\n",
      "1.88 seconds.\n"
     ]
    },
    {
     "name": "stdout",
     "output_type": "stream",
     "text": [
      "aws s3 cp /shared/CSHL_patch_features/inception-bn-blue/MD652/MD652-N19-2016.12.16-06.14.44_MD652_3_0057_lossless_alignedTo_MD652-F45-2016.12.17-05.56.31_MD652_2_0134_cropped/MD652-N19-2016.12.16-06.14.44_MD652_3_0057_lossless_alignedTo_MD652-F45-2016.12.17-05.56.31_MD652_2_0134_cropped_patch_locations.txt s3://mousebrainatlas-data/CSHL_patch_features/inception-bn-blue/MD652/MD652-N19-2016.12.16-06.14.44_MD652_3_0057_lossless_alignedTo_MD652-F45-2016.12.17-05.56.31_MD652_2_0134_cropped/MD652-N19-2016.12.16-06.14.44_MD652_3_0057_lossless_alignedTo_MD652-F45-2016.12.17-05.56.31_MD652_2_0134_cropped_patch_locations.txt\n"
     ]
    },
    {
     "name": "stderr",
     "output_type": "stream",
     "text": [
      "Child returned 0\n",
      "0.78 seconds.\n",
      "save: 3.42 seconds\n",
      "\n",
      "Section 114.\n",
      "locate patches: 0.02 seconds\n",
      "40765 samples.\n",
      "load image: 0.27 seconds\n",
      "extract patches: 3.89 seconds\n",
      "predict: 43.98 seconds\n"
     ]
    },
    {
     "name": "stdout",
     "output_type": "stream",
     "text": [
      "aws s3 cp /shared/CSHL_patch_features/inception-bn-blue/MD652/MD652-F19-2016.12.16-21.46.59_MD652_3_0057_lossless_alignedTo_MD652-F45-2016.12.17-05.56.31_MD652_2_0134_cropped/MD652-F19-2016.12.16-21.46.59_MD652_3_0057_lossless_alignedTo_MD652-F45-2016.12.17-05.56.31_MD652_2_0134_cropped_features.bp s3://mousebrainatlas-data/CSHL_patch_features/inception-bn-blue/MD652/MD652-F19-2016.12.16-21.46.59_MD652_3_0057_lossless_alignedTo_MD652-F45-2016.12.17-05.56.31_MD652_2_0134_cropped/MD652-F19-2016.12.16-21.46.59_MD652_3_0057_lossless_alignedTo_MD652-F45-2016.12.17-05.56.31_MD652_2_0134_cropped_features.bp\n"
     ]
    },
    {
     "name": "stderr",
     "output_type": "stream",
     "text": [
      "Child returned 0\n",
      "2.04 seconds.\n"
     ]
    },
    {
     "name": "stdout",
     "output_type": "stream",
     "text": [
      "aws s3 cp /shared/CSHL_patch_features/inception-bn-blue/MD652/MD652-F19-2016.12.16-21.46.59_MD652_3_0057_lossless_alignedTo_MD652-F45-2016.12.17-05.56.31_MD652_2_0134_cropped/MD652-F19-2016.12.16-21.46.59_MD652_3_0057_lossless_alignedTo_MD652-F45-2016.12.17-05.56.31_MD652_2_0134_cropped_patch_locations.txt s3://mousebrainatlas-data/CSHL_patch_features/inception-bn-blue/MD652/MD652-F19-2016.12.16-21.46.59_MD652_3_0057_lossless_alignedTo_MD652-F45-2016.12.17-05.56.31_MD652_2_0134_cropped/MD652-F19-2016.12.16-21.46.59_MD652_3_0057_lossless_alignedTo_MD652-F45-2016.12.17-05.56.31_MD652_2_0134_cropped_patch_locations.txt\n"
     ]
    },
    {
     "name": "stderr",
     "output_type": "stream",
     "text": [
      "Child returned 0\n",
      "0.77 seconds.\n",
      "save: 3.59 seconds\n",
      "\n",
      "Section 115.\n",
      "locate patches: 0.02 seconds\n",
      "40755 samples.\n",
      "load image: 0.27 seconds\n",
      "extract patches: 4.59 seconds\n",
      "predict: 42.03 seconds\n"
     ]
    },
    {
     "name": "stdout",
     "output_type": "stream",
     "text": [
      "aws s3 cp /shared/CSHL_patch_features/inception-bn-blue/MD652/MD652-N20-2016.12.16-06.19.41_MD652_1_0058_lossless_alignedTo_MD652-F45-2016.12.17-05.56.31_MD652_2_0134_cropped/MD652-N20-2016.12.16-06.19.41_MD652_1_0058_lossless_alignedTo_MD652-F45-2016.12.17-05.56.31_MD652_2_0134_cropped_features.bp s3://mousebrainatlas-data/CSHL_patch_features/inception-bn-blue/MD652/MD652-N20-2016.12.16-06.19.41_MD652_1_0058_lossless_alignedTo_MD652-F45-2016.12.17-05.56.31_MD652_2_0134_cropped/MD652-N20-2016.12.16-06.19.41_MD652_1_0058_lossless_alignedTo_MD652-F45-2016.12.17-05.56.31_MD652_2_0134_cropped_features.bp\n"
     ]
    },
    {
     "name": "stderr",
     "output_type": "stream",
     "text": [
      "Child returned 0\n",
      "2.10 seconds.\n"
     ]
    },
    {
     "name": "stdout",
     "output_type": "stream",
     "text": [
      "aws s3 cp /shared/CSHL_patch_features/inception-bn-blue/MD652/MD652-N20-2016.12.16-06.19.41_MD652_1_0058_lossless_alignedTo_MD652-F45-2016.12.17-05.56.31_MD652_2_0134_cropped/MD652-N20-2016.12.16-06.19.41_MD652_1_0058_lossless_alignedTo_MD652-F45-2016.12.17-05.56.31_MD652_2_0134_cropped_patch_locations.txt s3://mousebrainatlas-data/CSHL_patch_features/inception-bn-blue/MD652/MD652-N20-2016.12.16-06.19.41_MD652_1_0058_lossless_alignedTo_MD652-F45-2016.12.17-05.56.31_MD652_2_0134_cropped/MD652-N20-2016.12.16-06.19.41_MD652_1_0058_lossless_alignedTo_MD652-F45-2016.12.17-05.56.31_MD652_2_0134_cropped_patch_locations.txt\n"
     ]
    },
    {
     "name": "stderr",
     "output_type": "stream",
     "text": [
      "Child returned 0\n",
      "0.83 seconds.\n",
      "save: 3.69 seconds\n",
      "\n",
      "Section 116.\n",
      "locate patches: 0.02 seconds\n",
      "40740 samples.\n",
      "load image: 0.27 seconds\n",
      "extract patches: 3.90 seconds\n",
      "predict: 38.11 seconds\n"
     ]
    },
    {
     "name": "stdout",
     "output_type": "stream",
     "text": [
      "aws s3 cp /shared/CSHL_patch_features/inception-bn-blue/MD652/MD652-F20-2016.12.16-22.03.21_MD652_1_0058_lossless_alignedTo_MD652-F45-2016.12.17-05.56.31_MD652_2_0134_cropped/MD652-F20-2016.12.16-22.03.21_MD652_1_0058_lossless_alignedTo_MD652-F45-2016.12.17-05.56.31_MD652_2_0134_cropped_features.bp s3://mousebrainatlas-data/CSHL_patch_features/inception-bn-blue/MD652/MD652-F20-2016.12.16-22.03.21_MD652_1_0058_lossless_alignedTo_MD652-F45-2016.12.17-05.56.31_MD652_2_0134_cropped/MD652-F20-2016.12.16-22.03.21_MD652_1_0058_lossless_alignedTo_MD652-F45-2016.12.17-05.56.31_MD652_2_0134_cropped_features.bp\n"
     ]
    },
    {
     "name": "stderr",
     "output_type": "stream",
     "text": [
      "Child returned 0\n",
      "2.39 seconds.\n"
     ]
    },
    {
     "name": "stdout",
     "output_type": "stream",
     "text": [
      "aws s3 cp /shared/CSHL_patch_features/inception-bn-blue/MD652/MD652-F20-2016.12.16-22.03.21_MD652_1_0058_lossless_alignedTo_MD652-F45-2016.12.17-05.56.31_MD652_2_0134_cropped/MD652-F20-2016.12.16-22.03.21_MD652_1_0058_lossless_alignedTo_MD652-F45-2016.12.17-05.56.31_MD652_2_0134_cropped_patch_locations.txt s3://mousebrainatlas-data/CSHL_patch_features/inception-bn-blue/MD652/MD652-F20-2016.12.16-22.03.21_MD652_1_0058_lossless_alignedTo_MD652-F45-2016.12.17-05.56.31_MD652_2_0134_cropped/MD652-F20-2016.12.16-22.03.21_MD652_1_0058_lossless_alignedTo_MD652-F45-2016.12.17-05.56.31_MD652_2_0134_cropped_patch_locations.txt\n"
     ]
    },
    {
     "name": "stderr",
     "output_type": "stream",
     "text": [
      "Child returned 0\n",
      "0.78 seconds.\n",
      "save: 3.93 seconds\n",
      "\n",
      "Section 117.\n",
      "locate patches: 0.02 seconds\n",
      "40876 samples.\n",
      "load image: 0.27 seconds\n",
      "extract patches: 4.59 seconds\n",
      "predict: 42.62 seconds\n"
     ]
    },
    {
     "name": "stdout",
     "output_type": "stream",
     "text": [
      "aws s3 cp /shared/CSHL_patch_features/inception-bn-blue/MD652/MD652-N20-2016.12.16-06.19.41_MD652_2_0059_lossless_alignedTo_MD652-F45-2016.12.17-05.56.31_MD652_2_0134_cropped/MD652-N20-2016.12.16-06.19.41_MD652_2_0059_lossless_alignedTo_MD652-F45-2016.12.17-05.56.31_MD652_2_0134_cropped_features.bp s3://mousebrainatlas-data/CSHL_patch_features/inception-bn-blue/MD652/MD652-N20-2016.12.16-06.19.41_MD652_2_0059_lossless_alignedTo_MD652-F45-2016.12.17-05.56.31_MD652_2_0134_cropped/MD652-N20-2016.12.16-06.19.41_MD652_2_0059_lossless_alignedTo_MD652-F45-2016.12.17-05.56.31_MD652_2_0134_cropped_features.bp\n"
     ]
    },
    {
     "name": "stderr",
     "output_type": "stream",
     "text": [
      "Child returned 0\n",
      "1.95 seconds.\n"
     ]
    },
    {
     "name": "stdout",
     "output_type": "stream",
     "text": [
      "aws s3 cp /shared/CSHL_patch_features/inception-bn-blue/MD652/MD652-N20-2016.12.16-06.19.41_MD652_2_0059_lossless_alignedTo_MD652-F45-2016.12.17-05.56.31_MD652_2_0134_cropped/MD652-N20-2016.12.16-06.19.41_MD652_2_0059_lossless_alignedTo_MD652-F45-2016.12.17-05.56.31_MD652_2_0134_cropped_patch_locations.txt s3://mousebrainatlas-data/CSHL_patch_features/inception-bn-blue/MD652/MD652-N20-2016.12.16-06.19.41_MD652_2_0059_lossless_alignedTo_MD652-F45-2016.12.17-05.56.31_MD652_2_0134_cropped/MD652-N20-2016.12.16-06.19.41_MD652_2_0059_lossless_alignedTo_MD652-F45-2016.12.17-05.56.31_MD652_2_0134_cropped_patch_locations.txt\n"
     ]
    },
    {
     "name": "stderr",
     "output_type": "stream",
     "text": [
      "Child returned 0\n",
      "0.84 seconds.\n",
      "save: 3.55 seconds\n",
      "\n",
      "Section 118.\n",
      "locate patches: 0.02 seconds\n",
      "41500 samples.\n",
      "load image: 0.27 seconds\n",
      "extract patches: 4.00 seconds\n",
      "predict: 44.13 seconds\n"
     ]
    },
    {
     "name": "stdout",
     "output_type": "stream",
     "text": [
      "aws s3 cp /shared/CSHL_patch_features/inception-bn-blue/MD652/MD652-F20-2016.12.16-22.03.21_MD652_2_0059_lossless_alignedTo_MD652-F45-2016.12.17-05.56.31_MD652_2_0134_cropped/MD652-F20-2016.12.16-22.03.21_MD652_2_0059_lossless_alignedTo_MD652-F45-2016.12.17-05.56.31_MD652_2_0134_cropped_features.bp s3://mousebrainatlas-data/CSHL_patch_features/inception-bn-blue/MD652/MD652-F20-2016.12.16-22.03.21_MD652_2_0059_lossless_alignedTo_MD652-F45-2016.12.17-05.56.31_MD652_2_0134_cropped/MD652-F20-2016.12.16-22.03.21_MD652_2_0059_lossless_alignedTo_MD652-F45-2016.12.17-05.56.31_MD652_2_0134_cropped_features.bp\n"
     ]
    },
    {
     "name": "stderr",
     "output_type": "stream",
     "text": [
      "Child returned 0\n",
      "1.80 seconds.\n"
     ]
    },
    {
     "name": "stdout",
     "output_type": "stream",
     "text": [
      "aws s3 cp /shared/CSHL_patch_features/inception-bn-blue/MD652/MD652-F20-2016.12.16-22.03.21_MD652_2_0059_lossless_alignedTo_MD652-F45-2016.12.17-05.56.31_MD652_2_0134_cropped/MD652-F20-2016.12.16-22.03.21_MD652_2_0059_lossless_alignedTo_MD652-F45-2016.12.17-05.56.31_MD652_2_0134_cropped_patch_locations.txt s3://mousebrainatlas-data/CSHL_patch_features/inception-bn-blue/MD652/MD652-F20-2016.12.16-22.03.21_MD652_2_0059_lossless_alignedTo_MD652-F45-2016.12.17-05.56.31_MD652_2_0134_cropped/MD652-F20-2016.12.16-22.03.21_MD652_2_0059_lossless_alignedTo_MD652-F45-2016.12.17-05.56.31_MD652_2_0134_cropped_patch_locations.txt\n"
     ]
    },
    {
     "name": "stderr",
     "output_type": "stream",
     "text": [
      "Child returned 0\n",
      "0.78 seconds.\n",
      "save: 3.35 seconds\n",
      "\n",
      "Section 119.\n",
      "locate patches: 0.02 seconds\n",
      "41674 samples.\n",
      "load image: 0.27 seconds\n",
      "extract patches: 3.97 seconds\n",
      "predict: 47.92 seconds\n"
     ]
    },
    {
     "name": "stdout",
     "output_type": "stream",
     "text": [
      "aws s3 cp /shared/CSHL_patch_features/inception-bn-blue/MD652/MD652-N20-2016.12.16-06.19.41_MD652_3_0060_lossless_alignedTo_MD652-F45-2016.12.17-05.56.31_MD652_2_0134_cropped/MD652-N20-2016.12.16-06.19.41_MD652_3_0060_lossless_alignedTo_MD652-F45-2016.12.17-05.56.31_MD652_2_0134_cropped_features.bp s3://mousebrainatlas-data/CSHL_patch_features/inception-bn-blue/MD652/MD652-N20-2016.12.16-06.19.41_MD652_3_0060_lossless_alignedTo_MD652-F45-2016.12.17-05.56.31_MD652_2_0134_cropped/MD652-N20-2016.12.16-06.19.41_MD652_3_0060_lossless_alignedTo_MD652-F45-2016.12.17-05.56.31_MD652_2_0134_cropped_features.bp\n"
     ]
    },
    {
     "name": "stderr",
     "output_type": "stream",
     "text": [
      "Child returned 0\n",
      "2.06 seconds.\n"
     ]
    },
    {
     "name": "stdout",
     "output_type": "stream",
     "text": [
      "aws s3 cp /shared/CSHL_patch_features/inception-bn-blue/MD652/MD652-N20-2016.12.16-06.19.41_MD652_3_0060_lossless_alignedTo_MD652-F45-2016.12.17-05.56.31_MD652_2_0134_cropped/MD652-N20-2016.12.16-06.19.41_MD652_3_0060_lossless_alignedTo_MD652-F45-2016.12.17-05.56.31_MD652_2_0134_cropped_patch_locations.txt s3://mousebrainatlas-data/CSHL_patch_features/inception-bn-blue/MD652/MD652-N20-2016.12.16-06.19.41_MD652_3_0060_lossless_alignedTo_MD652-F45-2016.12.17-05.56.31_MD652_2_0134_cropped/MD652-N20-2016.12.16-06.19.41_MD652_3_0060_lossless_alignedTo_MD652-F45-2016.12.17-05.56.31_MD652_2_0134_cropped_patch_locations.txt\n"
     ]
    },
    {
     "name": "stderr",
     "output_type": "stream",
     "text": [
      "Child returned 0\n",
      "0.83 seconds.\n",
      "save: 3.67 seconds\n",
      "\n",
      "Section 120.\n",
      "locate patches: 0.02 seconds\n",
      "42163 samples.\n",
      "load image: 0.27 seconds\n",
      "extract patches: 4.02 seconds\n",
      "predict: 42.51 seconds\n"
     ]
    },
    {
     "name": "stdout",
     "output_type": "stream",
     "text": [
      "aws s3 cp /shared/CSHL_patch_features/inception-bn-blue/MD652/MD652-F20-2016.12.16-22.03.21_MD652_3_0060_lossless_alignedTo_MD652-F45-2016.12.17-05.56.31_MD652_2_0134_cropped/MD652-F20-2016.12.16-22.03.21_MD652_3_0060_lossless_alignedTo_MD652-F45-2016.12.17-05.56.31_MD652_2_0134_cropped_features.bp s3://mousebrainatlas-data/CSHL_patch_features/inception-bn-blue/MD652/MD652-F20-2016.12.16-22.03.21_MD652_3_0060_lossless_alignedTo_MD652-F45-2016.12.17-05.56.31_MD652_2_0134_cropped/MD652-F20-2016.12.16-22.03.21_MD652_3_0060_lossless_alignedTo_MD652-F45-2016.12.17-05.56.31_MD652_2_0134_cropped_features.bp\n"
     ]
    },
    {
     "name": "stderr",
     "output_type": "stream",
     "text": [
      "Child returned 0\n",
      "2.10 seconds.\n"
     ]
    },
    {
     "name": "stdout",
     "output_type": "stream",
     "text": [
      "aws s3 cp /shared/CSHL_patch_features/inception-bn-blue/MD652/MD652-F20-2016.12.16-22.03.21_MD652_3_0060_lossless_alignedTo_MD652-F45-2016.12.17-05.56.31_MD652_2_0134_cropped/MD652-F20-2016.12.16-22.03.21_MD652_3_0060_lossless_alignedTo_MD652-F45-2016.12.17-05.56.31_MD652_2_0134_cropped_patch_locations.txt s3://mousebrainatlas-data/CSHL_patch_features/inception-bn-blue/MD652/MD652-F20-2016.12.16-22.03.21_MD652_3_0060_lossless_alignedTo_MD652-F45-2016.12.17-05.56.31_MD652_2_0134_cropped/MD652-F20-2016.12.16-22.03.21_MD652_3_0060_lossless_alignedTo_MD652-F45-2016.12.17-05.56.31_MD652_2_0134_cropped_patch_locations.txt\n"
     ]
    },
    {
     "name": "stderr",
     "output_type": "stream",
     "text": [
      "Child returned 0\n",
      "0.78 seconds.\n",
      "save: 3.67 seconds\n",
      "\n",
      "Section 121.\n",
      "locate patches: 0.02 seconds\n",
      "42397 samples.\n",
      "load image: 0.27 seconds\n",
      "extract patches: 4.04 seconds\n",
      "predict: 45.68 seconds\n"
     ]
    },
    {
     "name": "stdout",
     "output_type": "stream",
     "text": [
      "aws s3 cp /shared/CSHL_patch_features/inception-bn-blue/MD652/MD652-N21-2016.12.16-06.24.42_MD652_1_0061_lossless_alignedTo_MD652-F45-2016.12.17-05.56.31_MD652_2_0134_cropped/MD652-N21-2016.12.16-06.24.42_MD652_1_0061_lossless_alignedTo_MD652-F45-2016.12.17-05.56.31_MD652_2_0134_cropped_features.bp s3://mousebrainatlas-data/CSHL_patch_features/inception-bn-blue/MD652/MD652-N21-2016.12.16-06.24.42_MD652_1_0061_lossless_alignedTo_MD652-F45-2016.12.17-05.56.31_MD652_2_0134_cropped/MD652-N21-2016.12.16-06.24.42_MD652_1_0061_lossless_alignedTo_MD652-F45-2016.12.17-05.56.31_MD652_2_0134_cropped_features.bp\n"
     ]
    },
    {
     "name": "stderr",
     "output_type": "stream",
     "text": [
      "Child returned 0\n",
      "2.04 seconds.\n"
     ]
    },
    {
     "name": "stdout",
     "output_type": "stream",
     "text": [
      "aws s3 cp /shared/CSHL_patch_features/inception-bn-blue/MD652/MD652-N21-2016.12.16-06.24.42_MD652_1_0061_lossless_alignedTo_MD652-F45-2016.12.17-05.56.31_MD652_2_0134_cropped/MD652-N21-2016.12.16-06.24.42_MD652_1_0061_lossless_alignedTo_MD652-F45-2016.12.17-05.56.31_MD652_2_0134_cropped_patch_locations.txt s3://mousebrainatlas-data/CSHL_patch_features/inception-bn-blue/MD652/MD652-N21-2016.12.16-06.24.42_MD652_1_0061_lossless_alignedTo_MD652-F45-2016.12.17-05.56.31_MD652_2_0134_cropped/MD652-N21-2016.12.16-06.24.42_MD652_1_0061_lossless_alignedTo_MD652-F45-2016.12.17-05.56.31_MD652_2_0134_cropped_patch_locations.txt\n"
     ]
    },
    {
     "name": "stderr",
     "output_type": "stream",
     "text": [
      "Child returned 0\n",
      "0.78 seconds.\n",
      "save: 3.62 seconds\n",
      "\n",
      "Section 122.\n",
      "locate patches: 0.02 seconds\n",
      "42063 samples.\n",
      "load image: 0.27 seconds\n",
      "extract patches: 4.02 seconds\n",
      "predict: 42.88 seconds\n"
     ]
    },
    {
     "name": "stdout",
     "output_type": "stream",
     "text": [
      "aws s3 cp /shared/CSHL_patch_features/inception-bn-blue/MD652/MD652-F21-2016.12.16-22.20.12_MD652_1_0061_lossless_alignedTo_MD652-F45-2016.12.17-05.56.31_MD652_2_0134_cropped/MD652-F21-2016.12.16-22.20.12_MD652_1_0061_lossless_alignedTo_MD652-F45-2016.12.17-05.56.31_MD652_2_0134_cropped_features.bp s3://mousebrainatlas-data/CSHL_patch_features/inception-bn-blue/MD652/MD652-F21-2016.12.16-22.20.12_MD652_1_0061_lossless_alignedTo_MD652-F45-2016.12.17-05.56.31_MD652_2_0134_cropped/MD652-F21-2016.12.16-22.20.12_MD652_1_0061_lossless_alignedTo_MD652-F45-2016.12.17-05.56.31_MD652_2_0134_cropped_features.bp\n"
     ]
    },
    {
     "name": "stderr",
     "output_type": "stream",
     "text": [
      "Child returned 0\n",
      "2.01 seconds.\n"
     ]
    },
    {
     "name": "stdout",
     "output_type": "stream",
     "text": [
      "aws s3 cp /shared/CSHL_patch_features/inception-bn-blue/MD652/MD652-F21-2016.12.16-22.20.12_MD652_1_0061_lossless_alignedTo_MD652-F45-2016.12.17-05.56.31_MD652_2_0134_cropped/MD652-F21-2016.12.16-22.20.12_MD652_1_0061_lossless_alignedTo_MD652-F45-2016.12.17-05.56.31_MD652_2_0134_cropped_patch_locations.txt s3://mousebrainatlas-data/CSHL_patch_features/inception-bn-blue/MD652/MD652-F21-2016.12.16-22.20.12_MD652_1_0061_lossless_alignedTo_MD652-F45-2016.12.17-05.56.31_MD652_2_0134_cropped/MD652-F21-2016.12.16-22.20.12_MD652_1_0061_lossless_alignedTo_MD652-F45-2016.12.17-05.56.31_MD652_2_0134_cropped_patch_locations.txt\n"
     ]
    },
    {
     "name": "stderr",
     "output_type": "stream",
     "text": [
      "Child returned 0\n",
      "0.77 seconds.\n",
      "save: 3.58 seconds\n",
      "\n",
      "Section 123.\n",
      "locate patches: 0.02 seconds\n",
      "42203 samples.\n",
      "load image: 0.27 seconds\n",
      "extract patches: 4.03 seconds\n",
      "predict: 43.80 seconds\n"
     ]
    },
    {
     "name": "stdout",
     "output_type": "stream",
     "text": [
      "aws s3 cp /shared/CSHL_patch_features/inception-bn-blue/MD652/MD652-N21-2016.12.16-06.24.42_MD652_2_0062_lossless_alignedTo_MD652-F45-2016.12.17-05.56.31_MD652_2_0134_cropped/MD652-N21-2016.12.16-06.24.42_MD652_2_0062_lossless_alignedTo_MD652-F45-2016.12.17-05.56.31_MD652_2_0134_cropped_features.bp s3://mousebrainatlas-data/CSHL_patch_features/inception-bn-blue/MD652/MD652-N21-2016.12.16-06.24.42_MD652_2_0062_lossless_alignedTo_MD652-F45-2016.12.17-05.56.31_MD652_2_0134_cropped/MD652-N21-2016.12.16-06.24.42_MD652_2_0062_lossless_alignedTo_MD652-F45-2016.12.17-05.56.31_MD652_2_0134_cropped_features.bp\n"
     ]
    },
    {
     "name": "stderr",
     "output_type": "stream",
     "text": [
      "Child returned 0\n",
      "2.37 seconds.\n"
     ]
    },
    {
     "name": "stdout",
     "output_type": "stream",
     "text": [
      "aws s3 cp /shared/CSHL_patch_features/inception-bn-blue/MD652/MD652-N21-2016.12.16-06.24.42_MD652_2_0062_lossless_alignedTo_MD652-F45-2016.12.17-05.56.31_MD652_2_0134_cropped/MD652-N21-2016.12.16-06.24.42_MD652_2_0062_lossless_alignedTo_MD652-F45-2016.12.17-05.56.31_MD652_2_0134_cropped_patch_locations.txt s3://mousebrainatlas-data/CSHL_patch_features/inception-bn-blue/MD652/MD652-N21-2016.12.16-06.24.42_MD652_2_0062_lossless_alignedTo_MD652-F45-2016.12.17-05.56.31_MD652_2_0134_cropped/MD652-N21-2016.12.16-06.24.42_MD652_2_0062_lossless_alignedTo_MD652-F45-2016.12.17-05.56.31_MD652_2_0134_cropped_patch_locations.txt\n"
     ]
    },
    {
     "name": "stderr",
     "output_type": "stream",
     "text": [
      "Child returned 0\n",
      "0.82 seconds.\n",
      "save: 3.98 seconds\n",
      "\n",
      "Section 124.\n",
      "locate patches: 0.02 seconds\n",
      "42758 samples.\n",
      "load image: 0.27 seconds\n",
      "extract patches: 4.07 seconds\n",
      "predict: 44.10 seconds\n"
     ]
    },
    {
     "name": "stdout",
     "output_type": "stream",
     "text": [
      "aws s3 cp /shared/CSHL_patch_features/inception-bn-blue/MD652/MD652-F21-2016.12.16-22.20.12_MD652_2_0062_lossless_alignedTo_MD652-F45-2016.12.17-05.56.31_MD652_2_0134_cropped/MD652-F21-2016.12.16-22.20.12_MD652_2_0062_lossless_alignedTo_MD652-F45-2016.12.17-05.56.31_MD652_2_0134_cropped_features.bp s3://mousebrainatlas-data/CSHL_patch_features/inception-bn-blue/MD652/MD652-F21-2016.12.16-22.20.12_MD652_2_0062_lossless_alignedTo_MD652-F45-2016.12.17-05.56.31_MD652_2_0134_cropped/MD652-F21-2016.12.16-22.20.12_MD652_2_0062_lossless_alignedTo_MD652-F45-2016.12.17-05.56.31_MD652_2_0134_cropped_features.bp\n"
     ]
    },
    {
     "name": "stderr",
     "output_type": "stream",
     "text": [
      "Child returned 0\n",
      "2.47 seconds.\n"
     ]
    },
    {
     "name": "stdout",
     "output_type": "stream",
     "text": [
      "aws s3 cp /shared/CSHL_patch_features/inception-bn-blue/MD652/MD652-F21-2016.12.16-22.20.12_MD652_2_0062_lossless_alignedTo_MD652-F45-2016.12.17-05.56.31_MD652_2_0134_cropped/MD652-F21-2016.12.16-22.20.12_MD652_2_0062_lossless_alignedTo_MD652-F45-2016.12.17-05.56.31_MD652_2_0134_cropped_patch_locations.txt s3://mousebrainatlas-data/CSHL_patch_features/inception-bn-blue/MD652/MD652-F21-2016.12.16-22.20.12_MD652_2_0062_lossless_alignedTo_MD652-F45-2016.12.17-05.56.31_MD652_2_0134_cropped/MD652-F21-2016.12.16-22.20.12_MD652_2_0062_lossless_alignedTo_MD652-F45-2016.12.17-05.56.31_MD652_2_0134_cropped_patch_locations.txt\n"
     ]
    },
    {
     "name": "stderr",
     "output_type": "stream",
     "text": [
      "Child returned 0\n",
      "0.82 seconds.\n",
      "save: 4.09 seconds\n",
      "\n",
      "Section 125.\n",
      "locate patches: 0.02 seconds\n",
      "42679 samples.\n",
      "load image: 0.27 seconds\n",
      "extract patches: 4.07 seconds\n",
      "predict: 53.35 seconds\n"
     ]
    },
    {
     "name": "stdout",
     "output_type": "stream",
     "text": [
      "aws s3 cp /shared/CSHL_patch_features/inception-bn-blue/MD652/MD652-N21-2016.12.16-06.24.42_MD652_3_0063_lossless_alignedTo_MD652-F45-2016.12.17-05.56.31_MD652_2_0134_cropped/MD652-N21-2016.12.16-06.24.42_MD652_3_0063_lossless_alignedTo_MD652-F45-2016.12.17-05.56.31_MD652_2_0134_cropped_features.bp s3://mousebrainatlas-data/CSHL_patch_features/inception-bn-blue/MD652/MD652-N21-2016.12.16-06.24.42_MD652_3_0063_lossless_alignedTo_MD652-F45-2016.12.17-05.56.31_MD652_2_0134_cropped/MD652-N21-2016.12.16-06.24.42_MD652_3_0063_lossless_alignedTo_MD652-F45-2016.12.17-05.56.31_MD652_2_0134_cropped_features.bp\n"
     ]
    },
    {
     "name": "stderr",
     "output_type": "stream",
     "text": [
      "Child returned 0\n",
      "2.05 seconds.\n"
     ]
    },
    {
     "name": "stdout",
     "output_type": "stream",
     "text": [
      "aws s3 cp /shared/CSHL_patch_features/inception-bn-blue/MD652/MD652-N21-2016.12.16-06.24.42_MD652_3_0063_lossless_alignedTo_MD652-F45-2016.12.17-05.56.31_MD652_2_0134_cropped/MD652-N21-2016.12.16-06.24.42_MD652_3_0063_lossless_alignedTo_MD652-F45-2016.12.17-05.56.31_MD652_2_0134_cropped_patch_locations.txt s3://mousebrainatlas-data/CSHL_patch_features/inception-bn-blue/MD652/MD652-N21-2016.12.16-06.24.42_MD652_3_0063_lossless_alignedTo_MD652-F45-2016.12.17-05.56.31_MD652_2_0134_cropped/MD652-N21-2016.12.16-06.24.42_MD652_3_0063_lossless_alignedTo_MD652-F45-2016.12.17-05.56.31_MD652_2_0134_cropped_patch_locations.txt\n"
     ]
    },
    {
     "name": "stderr",
     "output_type": "stream",
     "text": [
      "Child returned 0\n",
      "0.83 seconds.\n",
      "save: 3.68 seconds\n",
      "\n",
      "Section 126.\n",
      "locate patches: 0.02 seconds\n",
      "43285 samples.\n",
      "load image: 0.27 seconds\n",
      "extract patches: 4.15 seconds\n",
      "predict: 56.86 seconds\n"
     ]
    },
    {
     "name": "stdout",
     "output_type": "stream",
     "text": [
      "aws s3 cp /shared/CSHL_patch_features/inception-bn-blue/MD652/MD652-F21-2016.12.16-22.20.12_MD652_3_0063_lossless_alignedTo_MD652-F45-2016.12.17-05.56.31_MD652_2_0134_cropped/MD652-F21-2016.12.16-22.20.12_MD652_3_0063_lossless_alignedTo_MD652-F45-2016.12.17-05.56.31_MD652_2_0134_cropped_features.bp s3://mousebrainatlas-data/CSHL_patch_features/inception-bn-blue/MD652/MD652-F21-2016.12.16-22.20.12_MD652_3_0063_lossless_alignedTo_MD652-F45-2016.12.17-05.56.31_MD652_2_0134_cropped/MD652-F21-2016.12.16-22.20.12_MD652_3_0063_lossless_alignedTo_MD652-F45-2016.12.17-05.56.31_MD652_2_0134_cropped_features.bp\n"
     ]
    },
    {
     "name": "stderr",
     "output_type": "stream",
     "text": [
      "Child returned 0\n",
      "1.91 seconds.\n"
     ]
    },
    {
     "name": "stdout",
     "output_type": "stream",
     "text": [
      "aws s3 cp /shared/CSHL_patch_features/inception-bn-blue/MD652/MD652-F21-2016.12.16-22.20.12_MD652_3_0063_lossless_alignedTo_MD652-F45-2016.12.17-05.56.31_MD652_2_0134_cropped/MD652-F21-2016.12.16-22.20.12_MD652_3_0063_lossless_alignedTo_MD652-F45-2016.12.17-05.56.31_MD652_2_0134_cropped_patch_locations.txt s3://mousebrainatlas-data/CSHL_patch_features/inception-bn-blue/MD652/MD652-F21-2016.12.16-22.20.12_MD652_3_0063_lossless_alignedTo_MD652-F45-2016.12.17-05.56.31_MD652_2_0134_cropped/MD652-F21-2016.12.16-22.20.12_MD652_3_0063_lossless_alignedTo_MD652-F45-2016.12.17-05.56.31_MD652_2_0134_cropped_patch_locations.txt\n"
     ]
    },
    {
     "name": "stderr",
     "output_type": "stream",
     "text": [
      "Child returned 0\n",
      "0.83 seconds.\n",
      "save: 3.55 seconds\n",
      "\n",
      "Section 127.\n",
      "locate patches: 0.02 seconds\n",
      "43333 samples.\n",
      "load image: 0.27 seconds\n",
      "extract patches: 4.84 seconds\n",
      "predict: 56.78 seconds\n"
     ]
    },
    {
     "name": "stdout",
     "output_type": "stream",
     "text": [
      "aws s3 cp /shared/CSHL_patch_features/inception-bn-blue/MD652/MD652-N22-2016.12.16-06.29.48_MD652_1_0064_lossless_alignedTo_MD652-F45-2016.12.17-05.56.31_MD652_2_0134_cropped/MD652-N22-2016.12.16-06.29.48_MD652_1_0064_lossless_alignedTo_MD652-F45-2016.12.17-05.56.31_MD652_2_0134_cropped_features.bp s3://mousebrainatlas-data/CSHL_patch_features/inception-bn-blue/MD652/MD652-N22-2016.12.16-06.29.48_MD652_1_0064_lossless_alignedTo_MD652-F45-2016.12.17-05.56.31_MD652_2_0134_cropped/MD652-N22-2016.12.16-06.29.48_MD652_1_0064_lossless_alignedTo_MD652-F45-2016.12.17-05.56.31_MD652_2_0134_cropped_features.bp\n"
     ]
    },
    {
     "name": "stderr",
     "output_type": "stream",
     "text": [
      "Child returned 0\n",
      "1.99 seconds.\n"
     ]
    },
    {
     "name": "stdout",
     "output_type": "stream",
     "text": [
      "aws s3 cp /shared/CSHL_patch_features/inception-bn-blue/MD652/MD652-N22-2016.12.16-06.29.48_MD652_1_0064_lossless_alignedTo_MD652-F45-2016.12.17-05.56.31_MD652_2_0134_cropped/MD652-N22-2016.12.16-06.29.48_MD652_1_0064_lossless_alignedTo_MD652-F45-2016.12.17-05.56.31_MD652_2_0134_cropped_patch_locations.txt s3://mousebrainatlas-data/CSHL_patch_features/inception-bn-blue/MD652/MD652-N22-2016.12.16-06.29.48_MD652_1_0064_lossless_alignedTo_MD652-F45-2016.12.17-05.56.31_MD652_2_0134_cropped/MD652-N22-2016.12.16-06.29.48_MD652_1_0064_lossless_alignedTo_MD652-F45-2016.12.17-05.56.31_MD652_2_0134_cropped_patch_locations.txt\n"
     ]
    },
    {
     "name": "stderr",
     "output_type": "stream",
     "text": [
      "Child returned 0\n",
      "0.78 seconds.\n",
      "save: 3.59 seconds\n",
      "\n",
      "Section 128.\n",
      "locate patches: 0.02 seconds\n",
      "43280 samples.\n",
      "load image: 0.27 seconds\n",
      "extract patches: 4.85 seconds\n",
      "predict: 59.66 seconds\n"
     ]
    },
    {
     "name": "stdout",
     "output_type": "stream",
     "text": [
      "aws s3 cp /shared/CSHL_patch_features/inception-bn-blue/MD652/MD652-F22-2016.12.16-22.38.10_MD652_1_0064_lossless_alignedTo_MD652-F45-2016.12.17-05.56.31_MD652_2_0134_cropped/MD652-F22-2016.12.16-22.38.10_MD652_1_0064_lossless_alignedTo_MD652-F45-2016.12.17-05.56.31_MD652_2_0134_cropped_features.bp s3://mousebrainatlas-data/CSHL_patch_features/inception-bn-blue/MD652/MD652-F22-2016.12.16-22.38.10_MD652_1_0064_lossless_alignedTo_MD652-F45-2016.12.17-05.56.31_MD652_2_0134_cropped/MD652-F22-2016.12.16-22.38.10_MD652_1_0064_lossless_alignedTo_MD652-F45-2016.12.17-05.56.31_MD652_2_0134_cropped_features.bp\n"
     ]
    },
    {
     "name": "stderr",
     "output_type": "stream",
     "text": [
      "Child returned 0\n",
      "1.96 seconds.\n"
     ]
    },
    {
     "name": "stdout",
     "output_type": "stream",
     "text": [
      "aws s3 cp /shared/CSHL_patch_features/inception-bn-blue/MD652/MD652-F22-2016.12.16-22.38.10_MD652_1_0064_lossless_alignedTo_MD652-F45-2016.12.17-05.56.31_MD652_2_0134_cropped/MD652-F22-2016.12.16-22.38.10_MD652_1_0064_lossless_alignedTo_MD652-F45-2016.12.17-05.56.31_MD652_2_0134_cropped_patch_locations.txt s3://mousebrainatlas-data/CSHL_patch_features/inception-bn-blue/MD652/MD652-F22-2016.12.16-22.38.10_MD652_1_0064_lossless_alignedTo_MD652-F45-2016.12.17-05.56.31_MD652_2_0134_cropped/MD652-F22-2016.12.16-22.38.10_MD652_1_0064_lossless_alignedTo_MD652-F45-2016.12.17-05.56.31_MD652_2_0134_cropped_patch_locations.txt\n"
     ]
    },
    {
     "name": "stderr",
     "output_type": "stream",
     "text": [
      "Child returned 0\n",
      "0.82 seconds.\n",
      "save: 3.60 seconds\n",
      "\n",
      "Section 129.\n",
      "locate patches: 0.02 seconds\n",
      "43581 samples.\n",
      "load image: 0.27 seconds\n",
      "extract patches: 4.17 seconds\n",
      "predict: 59.20 seconds\n"
     ]
    },
    {
     "name": "stdout",
     "output_type": "stream",
     "text": [
      "aws s3 cp /shared/CSHL_patch_features/inception-bn-blue/MD652/MD652-N22-2016.12.16-06.29.48_MD652_2_0065_lossless_alignedTo_MD652-F45-2016.12.17-05.56.31_MD652_2_0134_cropped/MD652-N22-2016.12.16-06.29.48_MD652_2_0065_lossless_alignedTo_MD652-F45-2016.12.17-05.56.31_MD652_2_0134_cropped_features.bp s3://mousebrainatlas-data/CSHL_patch_features/inception-bn-blue/MD652/MD652-N22-2016.12.16-06.29.48_MD652_2_0065_lossless_alignedTo_MD652-F45-2016.12.17-05.56.31_MD652_2_0134_cropped/MD652-N22-2016.12.16-06.29.48_MD652_2_0065_lossless_alignedTo_MD652-F45-2016.12.17-05.56.31_MD652_2_0134_cropped_features.bp\n"
     ]
    },
    {
     "name": "stderr",
     "output_type": "stream",
     "text": [
      "Child returned 0\n",
      "2.41 seconds.\n"
     ]
    },
    {
     "name": "stdout",
     "output_type": "stream",
     "text": [
      "aws s3 cp /shared/CSHL_patch_features/inception-bn-blue/MD652/MD652-N22-2016.12.16-06.29.48_MD652_2_0065_lossless_alignedTo_MD652-F45-2016.12.17-05.56.31_MD652_2_0134_cropped/MD652-N22-2016.12.16-06.29.48_MD652_2_0065_lossless_alignedTo_MD652-F45-2016.12.17-05.56.31_MD652_2_0134_cropped_patch_locations.txt s3://mousebrainatlas-data/CSHL_patch_features/inception-bn-blue/MD652/MD652-N22-2016.12.16-06.29.48_MD652_2_0065_lossless_alignedTo_MD652-F45-2016.12.17-05.56.31_MD652_2_0134_cropped/MD652-N22-2016.12.16-06.29.48_MD652_2_0065_lossless_alignedTo_MD652-F45-2016.12.17-05.56.31_MD652_2_0134_cropped_patch_locations.txt\n"
     ]
    },
    {
     "name": "stderr",
     "output_type": "stream",
     "text": [
      "Child returned 0\n",
      "0.82 seconds.\n",
      "save: 4.06 seconds\n",
      "\n",
      "Section 130.\n",
      "locate patches: 0.02 seconds\n",
      "44027 samples.\n",
      "load image: 0.27 seconds\n",
      "extract patches: 4.19 seconds\n",
      "predict: 68.76 seconds\n"
     ]
    },
    {
     "name": "stdout",
     "output_type": "stream",
     "text": [
      "aws s3 cp /shared/CSHL_patch_features/inception-bn-blue/MD652/MD652-F22-2016.12.16-22.38.10_MD652_2_0065_lossless_alignedTo_MD652-F45-2016.12.17-05.56.31_MD652_2_0134_cropped/MD652-F22-2016.12.16-22.38.10_MD652_2_0065_lossless_alignedTo_MD652-F45-2016.12.17-05.56.31_MD652_2_0134_cropped_features.bp s3://mousebrainatlas-data/CSHL_patch_features/inception-bn-blue/MD652/MD652-F22-2016.12.16-22.38.10_MD652_2_0065_lossless_alignedTo_MD652-F45-2016.12.17-05.56.31_MD652_2_0134_cropped/MD652-F22-2016.12.16-22.38.10_MD652_2_0065_lossless_alignedTo_MD652-F45-2016.12.17-05.56.31_MD652_2_0134_cropped_features.bp\n"
     ]
    },
    {
     "name": "stderr",
     "output_type": "stream",
     "text": [
      "Child returned 0\n",
      "2.52 seconds.\n"
     ]
    },
    {
     "name": "stdout",
     "output_type": "stream",
     "text": [
      "aws s3 cp /shared/CSHL_patch_features/inception-bn-blue/MD652/MD652-F22-2016.12.16-22.38.10_MD652_2_0065_lossless_alignedTo_MD652-F45-2016.12.17-05.56.31_MD652_2_0134_cropped/MD652-F22-2016.12.16-22.38.10_MD652_2_0065_lossless_alignedTo_MD652-F45-2016.12.17-05.56.31_MD652_2_0134_cropped_patch_locations.txt s3://mousebrainatlas-data/CSHL_patch_features/inception-bn-blue/MD652/MD652-F22-2016.12.16-22.38.10_MD652_2_0065_lossless_alignedTo_MD652-F45-2016.12.17-05.56.31_MD652_2_0134_cropped/MD652-F22-2016.12.16-22.38.10_MD652_2_0065_lossless_alignedTo_MD652-F45-2016.12.17-05.56.31_MD652_2_0134_cropped_patch_locations.txt\n"
     ]
    },
    {
     "name": "stderr",
     "output_type": "stream",
     "text": [
      "Child returned 0\n",
      "0.83 seconds.\n",
      "save: 4.18 seconds\n",
      "\n",
      "Section 131.\n",
      "locate patches: 0.02 seconds\n",
      "43906 samples.\n",
      "load image: 0.27 seconds\n",
      "extract patches: 4.18 seconds\n",
      "predict: 65.74 seconds\n"
     ]
    },
    {
     "name": "stdout",
     "output_type": "stream",
     "text": [
      "aws s3 cp /shared/CSHL_patch_features/inception-bn-blue/MD652/MD652-N22-2016.12.16-06.29.48_MD652_3_0066_lossless_alignedTo_MD652-F45-2016.12.17-05.56.31_MD652_2_0134_cropped/MD652-N22-2016.12.16-06.29.48_MD652_3_0066_lossless_alignedTo_MD652-F45-2016.12.17-05.56.31_MD652_2_0134_cropped_features.bp s3://mousebrainatlas-data/CSHL_patch_features/inception-bn-blue/MD652/MD652-N22-2016.12.16-06.29.48_MD652_3_0066_lossless_alignedTo_MD652-F45-2016.12.17-05.56.31_MD652_2_0134_cropped/MD652-N22-2016.12.16-06.29.48_MD652_3_0066_lossless_alignedTo_MD652-F45-2016.12.17-05.56.31_MD652_2_0134_cropped_features.bp\n"
     ]
    },
    {
     "name": "stderr",
     "output_type": "stream",
     "text": [
      "Child returned 0\n",
      "2.17 seconds.\n"
     ]
    },
    {
     "name": "stdout",
     "output_type": "stream",
     "text": [
      "aws s3 cp /shared/CSHL_patch_features/inception-bn-blue/MD652/MD652-N22-2016.12.16-06.29.48_MD652_3_0066_lossless_alignedTo_MD652-F45-2016.12.17-05.56.31_MD652_2_0134_cropped/MD652-N22-2016.12.16-06.29.48_MD652_3_0066_lossless_alignedTo_MD652-F45-2016.12.17-05.56.31_MD652_2_0134_cropped_patch_locations.txt s3://mousebrainatlas-data/CSHL_patch_features/inception-bn-blue/MD652/MD652-N22-2016.12.16-06.29.48_MD652_3_0066_lossless_alignedTo_MD652-F45-2016.12.17-05.56.31_MD652_2_0134_cropped/MD652-N22-2016.12.16-06.29.48_MD652_3_0066_lossless_alignedTo_MD652-F45-2016.12.17-05.56.31_MD652_2_0134_cropped_patch_locations.txt\n"
     ]
    },
    {
     "name": "stderr",
     "output_type": "stream",
     "text": [
      "Child returned 0\n",
      "0.83 seconds.\n",
      "save: 3.82 seconds\n",
      "\n",
      "Section 132.\n",
      "locate patches: 0.02 seconds\n",
      "44727 samples.\n",
      "load image: 0.27 seconds\n",
      "extract patches: 4.29 seconds\n",
      "predict: 71.31 seconds\n"
     ]
    },
    {
     "name": "stdout",
     "output_type": "stream",
     "text": [
      "aws s3 cp /shared/CSHL_patch_features/inception-bn-blue/MD652/MD652-F22-2016.12.16-22.38.10_MD652_3_0066_lossless_alignedTo_MD652-F45-2016.12.17-05.56.31_MD652_2_0134_cropped/MD652-F22-2016.12.16-22.38.10_MD652_3_0066_lossless_alignedTo_MD652-F45-2016.12.17-05.56.31_MD652_2_0134_cropped_features.bp s3://mousebrainatlas-data/CSHL_patch_features/inception-bn-blue/MD652/MD652-F22-2016.12.16-22.38.10_MD652_3_0066_lossless_alignedTo_MD652-F45-2016.12.17-05.56.31_MD652_2_0134_cropped/MD652-F22-2016.12.16-22.38.10_MD652_3_0066_lossless_alignedTo_MD652-F45-2016.12.17-05.56.31_MD652_2_0134_cropped_features.bp\n"
     ]
    },
    {
     "name": "stderr",
     "output_type": "stream",
     "text": [
      "Child returned 0\n",
      "2.66 seconds.\n"
     ]
    },
    {
     "name": "stdout",
     "output_type": "stream",
     "text": [
      "aws s3 cp /shared/CSHL_patch_features/inception-bn-blue/MD652/MD652-F22-2016.12.16-22.38.10_MD652_3_0066_lossless_alignedTo_MD652-F45-2016.12.17-05.56.31_MD652_2_0134_cropped/MD652-F22-2016.12.16-22.38.10_MD652_3_0066_lossless_alignedTo_MD652-F45-2016.12.17-05.56.31_MD652_2_0134_cropped_patch_locations.txt s3://mousebrainatlas-data/CSHL_patch_features/inception-bn-blue/MD652/MD652-F22-2016.12.16-22.38.10_MD652_3_0066_lossless_alignedTo_MD652-F45-2016.12.17-05.56.31_MD652_2_0134_cropped/MD652-F22-2016.12.16-22.38.10_MD652_3_0066_lossless_alignedTo_MD652-F45-2016.12.17-05.56.31_MD652_2_0134_cropped_patch_locations.txt\n"
     ]
    },
    {
     "name": "stderr",
     "output_type": "stream",
     "text": [
      "Child returned 0\n",
      "0.83 seconds.\n",
      "save: 4.34 seconds\n",
      "\n",
      "Section 133.\n",
      "locate patches: 0.02 seconds\n",
      "44181 samples.\n",
      "load image: 0.27 seconds\n",
      "extract patches: 4.22 seconds\n",
      "predict: 64.13 seconds\n"
     ]
    },
    {
     "name": "stdout",
     "output_type": "stream",
     "text": [
      "aws s3 cp /shared/CSHL_patch_features/inception-bn-blue/MD652/MD652-N23-2016.12.16-06.35.05_MD652_1_0067_lossless_alignedTo_MD652-F45-2016.12.17-05.56.31_MD652_2_0134_cropped/MD652-N23-2016.12.16-06.35.05_MD652_1_0067_lossless_alignedTo_MD652-F45-2016.12.17-05.56.31_MD652_2_0134_cropped_features.bp s3://mousebrainatlas-data/CSHL_patch_features/inception-bn-blue/MD652/MD652-N23-2016.12.16-06.35.05_MD652_1_0067_lossless_alignedTo_MD652-F45-2016.12.17-05.56.31_MD652_2_0134_cropped/MD652-N23-2016.12.16-06.35.05_MD652_1_0067_lossless_alignedTo_MD652-F45-2016.12.17-05.56.31_MD652_2_0134_cropped_features.bp\n"
     ]
    },
    {
     "name": "stderr",
     "output_type": "stream",
     "text": [
      "Child returned 0\n",
      "2.73 seconds.\n"
     ]
    },
    {
     "name": "stdout",
     "output_type": "stream",
     "text": [
      "aws s3 cp /shared/CSHL_patch_features/inception-bn-blue/MD652/MD652-N23-2016.12.16-06.35.05_MD652_1_0067_lossless_alignedTo_MD652-F45-2016.12.17-05.56.31_MD652_2_0134_cropped/MD652-N23-2016.12.16-06.35.05_MD652_1_0067_lossless_alignedTo_MD652-F45-2016.12.17-05.56.31_MD652_2_0134_cropped_patch_locations.txt s3://mousebrainatlas-data/CSHL_patch_features/inception-bn-blue/MD652/MD652-N23-2016.12.16-06.35.05_MD652_1_0067_lossless_alignedTo_MD652-F45-2016.12.17-05.56.31_MD652_2_0134_cropped/MD652-N23-2016.12.16-06.35.05_MD652_1_0067_lossless_alignedTo_MD652-F45-2016.12.17-05.56.31_MD652_2_0134_cropped_patch_locations.txt\n"
     ]
    },
    {
     "name": "stderr",
     "output_type": "stream",
     "text": [
      "Child returned 0\n",
      "0.82 seconds.\n",
      "save: 4.39 seconds\n",
      "\n",
      "Section 134.\n",
      "locate patches: 0.02 seconds\n",
      "44774 samples.\n",
      "load image: 0.27 seconds\n",
      "extract patches: 4.27 seconds\n",
      "predict: 61.46 seconds\n"
     ]
    },
    {
     "name": "stdout",
     "output_type": "stream",
     "text": [
      "aws s3 cp /shared/CSHL_patch_features/inception-bn-blue/MD652/MD652-F23-2016.12.16-22.55.44_MD652_1_0067_lossless_alignedTo_MD652-F45-2016.12.17-05.56.31_MD652_2_0134_cropped/MD652-F23-2016.12.16-22.55.44_MD652_1_0067_lossless_alignedTo_MD652-F45-2016.12.17-05.56.31_MD652_2_0134_cropped_features.bp s3://mousebrainatlas-data/CSHL_patch_features/inception-bn-blue/MD652/MD652-F23-2016.12.16-22.55.44_MD652_1_0067_lossless_alignedTo_MD652-F45-2016.12.17-05.56.31_MD652_2_0134_cropped/MD652-F23-2016.12.16-22.55.44_MD652_1_0067_lossless_alignedTo_MD652-F45-2016.12.17-05.56.31_MD652_2_0134_cropped_features.bp\n"
     ]
    },
    {
     "name": "stderr",
     "output_type": "stream",
     "text": [
      "Child returned 0\n",
      "2.08 seconds.\n"
     ]
    },
    {
     "name": "stdout",
     "output_type": "stream",
     "text": [
      "aws s3 cp /shared/CSHL_patch_features/inception-bn-blue/MD652/MD652-F23-2016.12.16-22.55.44_MD652_1_0067_lossless_alignedTo_MD652-F45-2016.12.17-05.56.31_MD652_2_0134_cropped/MD652-F23-2016.12.16-22.55.44_MD652_1_0067_lossless_alignedTo_MD652-F45-2016.12.17-05.56.31_MD652_2_0134_cropped_patch_locations.txt s3://mousebrainatlas-data/CSHL_patch_features/inception-bn-blue/MD652/MD652-F23-2016.12.16-22.55.44_MD652_1_0067_lossless_alignedTo_MD652-F45-2016.12.17-05.56.31_MD652_2_0134_cropped/MD652-F23-2016.12.16-22.55.44_MD652_1_0067_lossless_alignedTo_MD652-F45-2016.12.17-05.56.31_MD652_2_0134_cropped_patch_locations.txt\n"
     ]
    },
    {
     "name": "stderr",
     "output_type": "stream",
     "text": [
      "Child returned 0\n",
      "0.84 seconds.\n",
      "save: 3.77 seconds\n",
      "\n",
      "Section 135.\n",
      "locate patches: 0.02 seconds\n",
      "44902 samples.\n",
      "load image: 0.28 seconds\n",
      "extract patches: 4.31 seconds\n",
      "predict: 69.98 seconds\n"
     ]
    },
    {
     "name": "stdout",
     "output_type": "stream",
     "text": [
      "aws s3 cp /shared/CSHL_patch_features/inception-bn-blue/MD652/MD652-N23-2016.12.16-06.35.05_MD652_2_0068_lossless_alignedTo_MD652-F45-2016.12.17-05.56.31_MD652_2_0134_cropped/MD652-N23-2016.12.16-06.35.05_MD652_2_0068_lossless_alignedTo_MD652-F45-2016.12.17-05.56.31_MD652_2_0134_cropped_features.bp s3://mousebrainatlas-data/CSHL_patch_features/inception-bn-blue/MD652/MD652-N23-2016.12.16-06.35.05_MD652_2_0068_lossless_alignedTo_MD652-F45-2016.12.17-05.56.31_MD652_2_0134_cropped/MD652-N23-2016.12.16-06.35.05_MD652_2_0068_lossless_alignedTo_MD652-F45-2016.12.17-05.56.31_MD652_2_0134_cropped_features.bp\n"
     ]
    },
    {
     "name": "stderr",
     "output_type": "stream",
     "text": [
      "Child returned 0\n",
      "2.55 seconds.\n"
     ]
    },
    {
     "name": "stdout",
     "output_type": "stream",
     "text": [
      "aws s3 cp /shared/CSHL_patch_features/inception-bn-blue/MD652/MD652-N23-2016.12.16-06.35.05_MD652_2_0068_lossless_alignedTo_MD652-F45-2016.12.17-05.56.31_MD652_2_0134_cropped/MD652-N23-2016.12.16-06.35.05_MD652_2_0068_lossless_alignedTo_MD652-F45-2016.12.17-05.56.31_MD652_2_0134_cropped_patch_locations.txt s3://mousebrainatlas-data/CSHL_patch_features/inception-bn-blue/MD652/MD652-N23-2016.12.16-06.35.05_MD652_2_0068_lossless_alignedTo_MD652-F45-2016.12.17-05.56.31_MD652_2_0134_cropped/MD652-N23-2016.12.16-06.35.05_MD652_2_0068_lossless_alignedTo_MD652-F45-2016.12.17-05.56.31_MD652_2_0134_cropped_patch_locations.txt\n"
     ]
    },
    {
     "name": "stderr",
     "output_type": "stream",
     "text": [
      "Child returned 0\n",
      "0.78 seconds.\n",
      "save: 4.18 seconds\n",
      "\n",
      "Section 136.\n",
      "locate patches: 0.02 seconds\n",
      "42855 samples.\n",
      "load image: 0.27 seconds\n",
      "extract patches: 4.08 seconds\n",
      "predict: 40.33 seconds\n"
     ]
    },
    {
     "name": "stdout",
     "output_type": "stream",
     "text": [
      "aws s3 cp /shared/CSHL_patch_features/inception-bn-blue/MD652/MD652-F23-2016.12.16-22.55.44_MD652_2_0068_lossless_alignedTo_MD652-F45-2016.12.17-05.56.31_MD652_2_0134_cropped/MD652-F23-2016.12.16-22.55.44_MD652_2_0068_lossless_alignedTo_MD652-F45-2016.12.17-05.56.31_MD652_2_0134_cropped_features.bp s3://mousebrainatlas-data/CSHL_patch_features/inception-bn-blue/MD652/MD652-F23-2016.12.16-22.55.44_MD652_2_0068_lossless_alignedTo_MD652-F45-2016.12.17-05.56.31_MD652_2_0134_cropped/MD652-F23-2016.12.16-22.55.44_MD652_2_0068_lossless_alignedTo_MD652-F45-2016.12.17-05.56.31_MD652_2_0134_cropped_features.bp\n"
     ]
    },
    {
     "name": "stderr",
     "output_type": "stream",
     "text": [
      "Child returned 0\n",
      "1.98 seconds.\n"
     ]
    },
    {
     "name": "stdout",
     "output_type": "stream",
     "text": [
      "aws s3 cp /shared/CSHL_patch_features/inception-bn-blue/MD652/MD652-F23-2016.12.16-22.55.44_MD652_2_0068_lossless_alignedTo_MD652-F45-2016.12.17-05.56.31_MD652_2_0134_cropped/MD652-F23-2016.12.16-22.55.44_MD652_2_0068_lossless_alignedTo_MD652-F45-2016.12.17-05.56.31_MD652_2_0134_cropped_patch_locations.txt s3://mousebrainatlas-data/CSHL_patch_features/inception-bn-blue/MD652/MD652-F23-2016.12.16-22.55.44_MD652_2_0068_lossless_alignedTo_MD652-F45-2016.12.17-05.56.31_MD652_2_0134_cropped/MD652-F23-2016.12.16-22.55.44_MD652_2_0068_lossless_alignedTo_MD652-F45-2016.12.17-05.56.31_MD652_2_0134_cropped_patch_locations.txt\n"
     ]
    },
    {
     "name": "stderr",
     "output_type": "stream",
     "text": [
      "Child returned 0\n",
      "0.78 seconds.\n",
      "save: 3.57 seconds\n",
      "\n",
      "Section 137.\n",
      "locate patches: 0.02 seconds\n",
      "45190 samples.\n",
      "load image: 0.27 seconds\n",
      "extract patches: 4.31 seconds\n",
      "predict: 68.07 seconds\n"
     ]
    },
    {
     "name": "stdout",
     "output_type": "stream",
     "text": [
      "aws s3 cp /shared/CSHL_patch_features/inception-bn-blue/MD652/MD652-N23-2016.12.16-06.35.05_MD652_3_0069_lossless_alignedTo_MD652-F45-2016.12.17-05.56.31_MD652_2_0134_cropped/MD652-N23-2016.12.16-06.35.05_MD652_3_0069_lossless_alignedTo_MD652-F45-2016.12.17-05.56.31_MD652_2_0134_cropped_features.bp s3://mousebrainatlas-data/CSHL_patch_features/inception-bn-blue/MD652/MD652-N23-2016.12.16-06.35.05_MD652_3_0069_lossless_alignedTo_MD652-F45-2016.12.17-05.56.31_MD652_2_0134_cropped/MD652-N23-2016.12.16-06.35.05_MD652_3_0069_lossless_alignedTo_MD652-F45-2016.12.17-05.56.31_MD652_2_0134_cropped_features.bp\n"
     ]
    },
    {
     "name": "stderr",
     "output_type": "stream",
     "text": [
      "Child returned 0\n",
      "2.37 seconds.\n"
     ]
    },
    {
     "name": "stdout",
     "output_type": "stream",
     "text": [
      "aws s3 cp /shared/CSHL_patch_features/inception-bn-blue/MD652/MD652-N23-2016.12.16-06.35.05_MD652_3_0069_lossless_alignedTo_MD652-F45-2016.12.17-05.56.31_MD652_2_0134_cropped/MD652-N23-2016.12.16-06.35.05_MD652_3_0069_lossless_alignedTo_MD652-F45-2016.12.17-05.56.31_MD652_2_0134_cropped_patch_locations.txt s3://mousebrainatlas-data/CSHL_patch_features/inception-bn-blue/MD652/MD652-N23-2016.12.16-06.35.05_MD652_3_0069_lossless_alignedTo_MD652-F45-2016.12.17-05.56.31_MD652_2_0134_cropped/MD652-N23-2016.12.16-06.35.05_MD652_3_0069_lossless_alignedTo_MD652-F45-2016.12.17-05.56.31_MD652_2_0134_cropped_patch_locations.txt\n"
     ]
    },
    {
     "name": "stderr",
     "output_type": "stream",
     "text": [
      "Child returned 0\n",
      "0.78 seconds.\n",
      "save: 4.01 seconds\n",
      "\n",
      "Section 138.\n",
      "locate patches: 0.02 seconds\n",
      "45468 samples.\n",
      "load image: 0.27 seconds\n",
      "extract patches: 4.33 seconds\n",
      "predict: 59.49 seconds\n"
     ]
    },
    {
     "name": "stdout",
     "output_type": "stream",
     "text": [
      "aws s3 cp /shared/CSHL_patch_features/inception-bn-blue/MD652/MD652-F23-2016.12.16-22.55.44_MD652_3_0069_lossless_alignedTo_MD652-F45-2016.12.17-05.56.31_MD652_2_0134_cropped/MD652-F23-2016.12.16-22.55.44_MD652_3_0069_lossless_alignedTo_MD652-F45-2016.12.17-05.56.31_MD652_2_0134_cropped_features.bp s3://mousebrainatlas-data/CSHL_patch_features/inception-bn-blue/MD652/MD652-F23-2016.12.16-22.55.44_MD652_3_0069_lossless_alignedTo_MD652-F45-2016.12.17-05.56.31_MD652_2_0134_cropped/MD652-F23-2016.12.16-22.55.44_MD652_3_0069_lossless_alignedTo_MD652-F45-2016.12.17-05.56.31_MD652_2_0134_cropped_features.bp\n"
     ]
    },
    {
     "name": "stderr",
     "output_type": "stream",
     "text": [
      "Child returned 0\n",
      "2.76 seconds.\n"
     ]
    },
    {
     "name": "stdout",
     "output_type": "stream",
     "text": [
      "aws s3 cp /shared/CSHL_patch_features/inception-bn-blue/MD652/MD652-F23-2016.12.16-22.55.44_MD652_3_0069_lossless_alignedTo_MD652-F45-2016.12.17-05.56.31_MD652_2_0134_cropped/MD652-F23-2016.12.16-22.55.44_MD652_3_0069_lossless_alignedTo_MD652-F45-2016.12.17-05.56.31_MD652_2_0134_cropped_patch_locations.txt s3://mousebrainatlas-data/CSHL_patch_features/inception-bn-blue/MD652/MD652-F23-2016.12.16-22.55.44_MD652_3_0069_lossless_alignedTo_MD652-F45-2016.12.17-05.56.31_MD652_2_0134_cropped/MD652-F23-2016.12.16-22.55.44_MD652_3_0069_lossless_alignedTo_MD652-F45-2016.12.17-05.56.31_MD652_2_0134_cropped_patch_locations.txt\n"
     ]
    },
    {
     "name": "stderr",
     "output_type": "stream",
     "text": [
      "Child returned 0\n",
      "0.83 seconds.\n",
      "save: 4.45 seconds\n",
      "\n",
      "Section 139.\n",
      "locate patches: 0.02 seconds\n",
      "45274 samples.\n",
      "load image: 0.27 seconds\n",
      "extract patches: 4.32 seconds\n",
      "predict: 64.12 seconds\n"
     ]
    },
    {
     "name": "stdout",
     "output_type": "stream",
     "text": [
      "aws s3 cp /shared/CSHL_patch_features/inception-bn-blue/MD652/MD652-N24-2016.12.16-06.40.27_MD652_1_0070_lossless_alignedTo_MD652-F45-2016.12.17-05.56.31_MD652_2_0134_cropped/MD652-N24-2016.12.16-06.40.27_MD652_1_0070_lossless_alignedTo_MD652-F45-2016.12.17-05.56.31_MD652_2_0134_cropped_features.bp s3://mousebrainatlas-data/CSHL_patch_features/inception-bn-blue/MD652/MD652-N24-2016.12.16-06.40.27_MD652_1_0070_lossless_alignedTo_MD652-F45-2016.12.17-05.56.31_MD652_2_0134_cropped/MD652-N24-2016.12.16-06.40.27_MD652_1_0070_lossless_alignedTo_MD652-F45-2016.12.17-05.56.31_MD652_2_0134_cropped_features.bp\n"
     ]
    },
    {
     "name": "stderr",
     "output_type": "stream",
     "text": [
      "Child returned 0\n",
      "2.41 seconds.\n"
     ]
    },
    {
     "name": "stdout",
     "output_type": "stream",
     "text": [
      "aws s3 cp /shared/CSHL_patch_features/inception-bn-blue/MD652/MD652-N24-2016.12.16-06.40.27_MD652_1_0070_lossless_alignedTo_MD652-F45-2016.12.17-05.56.31_MD652_2_0134_cropped/MD652-N24-2016.12.16-06.40.27_MD652_1_0070_lossless_alignedTo_MD652-F45-2016.12.17-05.56.31_MD652_2_0134_cropped_patch_locations.txt s3://mousebrainatlas-data/CSHL_patch_features/inception-bn-blue/MD652/MD652-N24-2016.12.16-06.40.27_MD652_1_0070_lossless_alignedTo_MD652-F45-2016.12.17-05.56.31_MD652_2_0134_cropped/MD652-N24-2016.12.16-06.40.27_MD652_1_0070_lossless_alignedTo_MD652-F45-2016.12.17-05.56.31_MD652_2_0134_cropped_patch_locations.txt\n"
     ]
    },
    {
     "name": "stderr",
     "output_type": "stream",
     "text": [
      "Child returned 0\n",
      "0.78 seconds.\n",
      "save: 4.05 seconds\n",
      "\n",
      "Section 140.\n",
      "locate patches: 0.02 seconds\n",
      "46125 samples.\n",
      "load image: 0.27 seconds\n",
      "extract patches: 4.40 seconds\n",
      "predict: 76.96 seconds\n"
     ]
    },
    {
     "name": "stdout",
     "output_type": "stream",
     "text": [
      "aws s3 cp /shared/CSHL_patch_features/inception-bn-blue/MD652/MD652-F24-2016.12.16-23.13.26_MD652_1_0070_lossless_alignedTo_MD652-F45-2016.12.17-05.56.31_MD652_2_0134_cropped/MD652-F24-2016.12.16-23.13.26_MD652_1_0070_lossless_alignedTo_MD652-F45-2016.12.17-05.56.31_MD652_2_0134_cropped_features.bp s3://mousebrainatlas-data/CSHL_patch_features/inception-bn-blue/MD652/MD652-F24-2016.12.16-23.13.26_MD652_1_0070_lossless_alignedTo_MD652-F45-2016.12.17-05.56.31_MD652_2_0134_cropped/MD652-F24-2016.12.16-23.13.26_MD652_1_0070_lossless_alignedTo_MD652-F45-2016.12.17-05.56.31_MD652_2_0134_cropped_features.bp\n"
     ]
    },
    {
     "name": "stderr",
     "output_type": "stream",
     "text": [
      "Child returned 0\n",
      "3.49 seconds.\n"
     ]
    },
    {
     "name": "stdout",
     "output_type": "stream",
     "text": [
      "aws s3 cp /shared/CSHL_patch_features/inception-bn-blue/MD652/MD652-F24-2016.12.16-23.13.26_MD652_1_0070_lossless_alignedTo_MD652-F45-2016.12.17-05.56.31_MD652_2_0134_cropped/MD652-F24-2016.12.16-23.13.26_MD652_1_0070_lossless_alignedTo_MD652-F45-2016.12.17-05.56.31_MD652_2_0134_cropped_patch_locations.txt s3://mousebrainatlas-data/CSHL_patch_features/inception-bn-blue/MD652/MD652-F24-2016.12.16-23.13.26_MD652_1_0070_lossless_alignedTo_MD652-F45-2016.12.17-05.56.31_MD652_2_0134_cropped/MD652-F24-2016.12.16-23.13.26_MD652_1_0070_lossless_alignedTo_MD652-F45-2016.12.17-05.56.31_MD652_2_0134_cropped_patch_locations.txt\n"
     ]
    },
    {
     "name": "stderr",
     "output_type": "stream",
     "text": [
      "Child returned 0\n",
      "0.83 seconds.\n",
      "save: 5.20 seconds\n",
      "\n",
      "Section 141.\n",
      "locate patches: 0.02 seconds\n",
      "45607 samples.\n",
      "load image: 0.27 seconds\n",
      "extract patches: 4.35 seconds\n",
      "predict: 70.21 seconds\n"
     ]
    },
    {
     "name": "stdout",
     "output_type": "stream",
     "text": [
      "aws s3 cp /shared/CSHL_patch_features/inception-bn-blue/MD652/MD652-N24-2016.12.16-06.40.27_MD652_2_0071_lossless_alignedTo_MD652-F45-2016.12.17-05.56.31_MD652_2_0134_cropped/MD652-N24-2016.12.16-06.40.27_MD652_2_0071_lossless_alignedTo_MD652-F45-2016.12.17-05.56.31_MD652_2_0134_cropped_features.bp s3://mousebrainatlas-data/CSHL_patch_features/inception-bn-blue/MD652/MD652-N24-2016.12.16-06.40.27_MD652_2_0071_lossless_alignedTo_MD652-F45-2016.12.17-05.56.31_MD652_2_0134_cropped/MD652-N24-2016.12.16-06.40.27_MD652_2_0071_lossless_alignedTo_MD652-F45-2016.12.17-05.56.31_MD652_2_0134_cropped_features.bp\n"
     ]
    },
    {
     "name": "stderr",
     "output_type": "stream",
     "text": [
      "Child returned 0\n",
      "2.41 seconds.\n"
     ]
    },
    {
     "name": "stdout",
     "output_type": "stream",
     "text": [
      "aws s3 cp /shared/CSHL_patch_features/inception-bn-blue/MD652/MD652-N24-2016.12.16-06.40.27_MD652_2_0071_lossless_alignedTo_MD652-F45-2016.12.17-05.56.31_MD652_2_0134_cropped/MD652-N24-2016.12.16-06.40.27_MD652_2_0071_lossless_alignedTo_MD652-F45-2016.12.17-05.56.31_MD652_2_0134_cropped_patch_locations.txt s3://mousebrainatlas-data/CSHL_patch_features/inception-bn-blue/MD652/MD652-N24-2016.12.16-06.40.27_MD652_2_0071_lossless_alignedTo_MD652-F45-2016.12.17-05.56.31_MD652_2_0134_cropped/MD652-N24-2016.12.16-06.40.27_MD652_2_0071_lossless_alignedTo_MD652-F45-2016.12.17-05.56.31_MD652_2_0134_cropped_patch_locations.txt\n"
     ]
    },
    {
     "name": "stderr",
     "output_type": "stream",
     "text": [
      "Child returned 0\n",
      "0.83 seconds.\n",
      "save: 4.10 seconds\n",
      "\n",
      "Section 142.\n",
      "locate patches: 0.02 seconds\n",
      "44961 samples.\n",
      "load image: 0.27 seconds\n",
      "extract patches: 4.28 seconds\n",
      "predict: 43.30 seconds\n"
     ]
    },
    {
     "name": "stdout",
     "output_type": "stream",
     "text": [
      "aws s3 cp /shared/CSHL_patch_features/inception-bn-blue/MD652/MD652-F24-2016.12.16-23.13.26_MD652_2_0071_lossless_alignedTo_MD652-F45-2016.12.17-05.56.31_MD652_2_0134_cropped/MD652-F24-2016.12.16-23.13.26_MD652_2_0071_lossless_alignedTo_MD652-F45-2016.12.17-05.56.31_MD652_2_0134_cropped_features.bp s3://mousebrainatlas-data/CSHL_patch_features/inception-bn-blue/MD652/MD652-F24-2016.12.16-23.13.26_MD652_2_0071_lossless_alignedTo_MD652-F45-2016.12.17-05.56.31_MD652_2_0134_cropped/MD652-F24-2016.12.16-23.13.26_MD652_2_0071_lossless_alignedTo_MD652-F45-2016.12.17-05.56.31_MD652_2_0134_cropped_features.bp\n"
     ]
    },
    {
     "name": "stderr",
     "output_type": "stream",
     "text": [
      "Child returned 0\n",
      "2.08 seconds.\n"
     ]
    },
    {
     "name": "stdout",
     "output_type": "stream",
     "text": [
      "aws s3 cp /shared/CSHL_patch_features/inception-bn-blue/MD652/MD652-F24-2016.12.16-23.13.26_MD652_2_0071_lossless_alignedTo_MD652-F45-2016.12.17-05.56.31_MD652_2_0134_cropped/MD652-F24-2016.12.16-23.13.26_MD652_2_0071_lossless_alignedTo_MD652-F45-2016.12.17-05.56.31_MD652_2_0134_cropped_patch_locations.txt s3://mousebrainatlas-data/CSHL_patch_features/inception-bn-blue/MD652/MD652-F24-2016.12.16-23.13.26_MD652_2_0071_lossless_alignedTo_MD652-F45-2016.12.17-05.56.31_MD652_2_0134_cropped/MD652-F24-2016.12.16-23.13.26_MD652_2_0071_lossless_alignedTo_MD652-F45-2016.12.17-05.56.31_MD652_2_0134_cropped_patch_locations.txt\n"
     ]
    },
    {
     "name": "stderr",
     "output_type": "stream",
     "text": [
      "Child returned 0\n",
      "0.77 seconds.\n",
      "save: 3.70 seconds\n",
      "\n",
      "Section 143.\n",
      "locate patches: 0.02 seconds\n",
      "45879 samples.\n",
      "load image: 0.27 seconds\n",
      "extract patches: 4.38 seconds\n",
      "predict: 53.64 seconds\n"
     ]
    },
    {
     "name": "stdout",
     "output_type": "stream",
     "text": [
      "aws s3 cp /shared/CSHL_patch_features/inception-bn-blue/MD652/MD652-N24-2016.12.16-06.40.27_MD652_3_0072_lossless_alignedTo_MD652-F45-2016.12.17-05.56.31_MD652_2_0134_cropped/MD652-N24-2016.12.16-06.40.27_MD652_3_0072_lossless_alignedTo_MD652-F45-2016.12.17-05.56.31_MD652_2_0134_cropped_features.bp s3://mousebrainatlas-data/CSHL_patch_features/inception-bn-blue/MD652/MD652-N24-2016.12.16-06.40.27_MD652_3_0072_lossless_alignedTo_MD652-F45-2016.12.17-05.56.31_MD652_2_0134_cropped/MD652-N24-2016.12.16-06.40.27_MD652_3_0072_lossless_alignedTo_MD652-F45-2016.12.17-05.56.31_MD652_2_0134_cropped_features.bp\n"
     ]
    },
    {
     "name": "stderr",
     "output_type": "stream",
     "text": [
      "Child returned 0\n",
      "2.36 seconds.\n"
     ]
    },
    {
     "name": "stdout",
     "output_type": "stream",
     "text": [
      "aws s3 cp /shared/CSHL_patch_features/inception-bn-blue/MD652/MD652-N24-2016.12.16-06.40.27_MD652_3_0072_lossless_alignedTo_MD652-F45-2016.12.17-05.56.31_MD652_2_0134_cropped/MD652-N24-2016.12.16-06.40.27_MD652_3_0072_lossless_alignedTo_MD652-F45-2016.12.17-05.56.31_MD652_2_0134_cropped_patch_locations.txt s3://mousebrainatlas-data/CSHL_patch_features/inception-bn-blue/MD652/MD652-N24-2016.12.16-06.40.27_MD652_3_0072_lossless_alignedTo_MD652-F45-2016.12.17-05.56.31_MD652_2_0134_cropped/MD652-N24-2016.12.16-06.40.27_MD652_3_0072_lossless_alignedTo_MD652-F45-2016.12.17-05.56.31_MD652_2_0134_cropped_patch_locations.txt\n"
     ]
    },
    {
     "name": "stderr",
     "output_type": "stream",
     "text": [
      "Child returned 0\n",
      "0.78 seconds.\n",
      "save: 4.00 seconds\n",
      "\n",
      "Section 144.\n",
      "locate patches: 0.02 seconds\n",
      "46601 samples.\n",
      "load image: 0.27 seconds\n",
      "extract patches: 4.44 seconds\n",
      "predict: 61.96 seconds\n"
     ]
    },
    {
     "name": "stdout",
     "output_type": "stream",
     "text": [
      "aws s3 cp /shared/CSHL_patch_features/inception-bn-blue/MD652/MD652-F24-2016.12.16-23.13.26_MD652_3_0072_lossless_alignedTo_MD652-F45-2016.12.17-05.56.31_MD652_2_0134_cropped/MD652-F24-2016.12.16-23.13.26_MD652_3_0072_lossless_alignedTo_MD652-F45-2016.12.17-05.56.31_MD652_2_0134_cropped_features.bp s3://mousebrainatlas-data/CSHL_patch_features/inception-bn-blue/MD652/MD652-F24-2016.12.16-23.13.26_MD652_3_0072_lossless_alignedTo_MD652-F45-2016.12.17-05.56.31_MD652_2_0134_cropped/MD652-F24-2016.12.16-23.13.26_MD652_3_0072_lossless_alignedTo_MD652-F45-2016.12.17-05.56.31_MD652_2_0134_cropped_features.bp\n"
     ]
    },
    {
     "name": "stderr",
     "output_type": "stream",
     "text": [
      "Child returned 0\n",
      "2.41 seconds.\n"
     ]
    },
    {
     "name": "stdout",
     "output_type": "stream",
     "text": [
      "aws s3 cp /shared/CSHL_patch_features/inception-bn-blue/MD652/MD652-F24-2016.12.16-23.13.26_MD652_3_0072_lossless_alignedTo_MD652-F45-2016.12.17-05.56.31_MD652_2_0134_cropped/MD652-F24-2016.12.16-23.13.26_MD652_3_0072_lossless_alignedTo_MD652-F45-2016.12.17-05.56.31_MD652_2_0134_cropped_patch_locations.txt s3://mousebrainatlas-data/CSHL_patch_features/inception-bn-blue/MD652/MD652-F24-2016.12.16-23.13.26_MD652_3_0072_lossless_alignedTo_MD652-F45-2016.12.17-05.56.31_MD652_2_0134_cropped/MD652-F24-2016.12.16-23.13.26_MD652_3_0072_lossless_alignedTo_MD652-F45-2016.12.17-05.56.31_MD652_2_0134_cropped_patch_locations.txt\n"
     ]
    },
    {
     "name": "stderr",
     "output_type": "stream",
     "text": [
      "Child returned 0\n",
      "0.77 seconds.\n",
      "save: 4.07 seconds\n",
      "\n",
      "Section 145.\n",
      "locate patches: 0.02 seconds\n",
      "47081 samples.\n",
      "load image: 0.27 seconds\n",
      "extract patches: 5.26 seconds\n",
      "predict: 68.03 seconds\n"
     ]
    },
    {
     "name": "stdout",
     "output_type": "stream",
     "text": [
      "aws s3 cp /shared/CSHL_patch_features/inception-bn-blue/MD652/MD652-N25-2016.12.16-06.45.45_MD652_1_0073_lossless_alignedTo_MD652-F45-2016.12.17-05.56.31_MD652_2_0134_cropped/MD652-N25-2016.12.16-06.45.45_MD652_1_0073_lossless_alignedTo_MD652-F45-2016.12.17-05.56.31_MD652_2_0134_cropped_features.bp s3://mousebrainatlas-data/CSHL_patch_features/inception-bn-blue/MD652/MD652-N25-2016.12.16-06.45.45_MD652_1_0073_lossless_alignedTo_MD652-F45-2016.12.17-05.56.31_MD652_2_0134_cropped/MD652-N25-2016.12.16-06.45.45_MD652_1_0073_lossless_alignedTo_MD652-F45-2016.12.17-05.56.31_MD652_2_0134_cropped_features.bp\n"
     ]
    },
    {
     "name": "stderr",
     "output_type": "stream",
     "text": [
      "Child returned 0\n",
      "2.05 seconds.\n"
     ]
    },
    {
     "name": "stdout",
     "output_type": "stream",
     "text": [
      "aws s3 cp /shared/CSHL_patch_features/inception-bn-blue/MD652/MD652-N25-2016.12.16-06.45.45_MD652_1_0073_lossless_alignedTo_MD652-F45-2016.12.17-05.56.31_MD652_2_0134_cropped/MD652-N25-2016.12.16-06.45.45_MD652_1_0073_lossless_alignedTo_MD652-F45-2016.12.17-05.56.31_MD652_2_0134_cropped_patch_locations.txt s3://mousebrainatlas-data/CSHL_patch_features/inception-bn-blue/MD652/MD652-N25-2016.12.16-06.45.45_MD652_1_0073_lossless_alignedTo_MD652-F45-2016.12.17-05.56.31_MD652_2_0134_cropped/MD652-N25-2016.12.16-06.45.45_MD652_1_0073_lossless_alignedTo_MD652-F45-2016.12.17-05.56.31_MD652_2_0134_cropped_patch_locations.txt\n"
     ]
    },
    {
     "name": "stderr",
     "output_type": "stream",
     "text": [
      "Child returned 0\n",
      "0.78 seconds.\n",
      "save: 3.71 seconds\n",
      "\n",
      "Section 146.\n",
      "locate patches: 0.02 seconds\n",
      "45888 samples.\n",
      "load image: 0.27 seconds\n",
      "extract patches: 4.37 seconds\n",
      "predict: 53.52 seconds\n"
     ]
    },
    {
     "name": "stdout",
     "output_type": "stream",
     "text": [
      "aws s3 cp /shared/CSHL_patch_features/inception-bn-blue/MD652/MD652-F25-2016.12.21-19.17.55_MD652_1_0073_lossless_alignedTo_MD652-F45-2016.12.17-05.56.31_MD652_2_0134_cropped/MD652-F25-2016.12.21-19.17.55_MD652_1_0073_lossless_alignedTo_MD652-F45-2016.12.17-05.56.31_MD652_2_0134_cropped_features.bp s3://mousebrainatlas-data/CSHL_patch_features/inception-bn-blue/MD652/MD652-F25-2016.12.21-19.17.55_MD652_1_0073_lossless_alignedTo_MD652-F45-2016.12.17-05.56.31_MD652_2_0134_cropped/MD652-F25-2016.12.21-19.17.55_MD652_1_0073_lossless_alignedTo_MD652-F45-2016.12.17-05.56.31_MD652_2_0134_cropped_features.bp\n"
     ]
    },
    {
     "name": "stderr",
     "output_type": "stream",
     "text": [
      "Child returned 0\n",
      "2.42 seconds.\n"
     ]
    },
    {
     "name": "stdout",
     "output_type": "stream",
     "text": [
      "aws s3 cp /shared/CSHL_patch_features/inception-bn-blue/MD652/MD652-F25-2016.12.21-19.17.55_MD652_1_0073_lossless_alignedTo_MD652-F45-2016.12.17-05.56.31_MD652_2_0134_cropped/MD652-F25-2016.12.21-19.17.55_MD652_1_0073_lossless_alignedTo_MD652-F45-2016.12.17-05.56.31_MD652_2_0134_cropped_patch_locations.txt s3://mousebrainatlas-data/CSHL_patch_features/inception-bn-blue/MD652/MD652-F25-2016.12.21-19.17.55_MD652_1_0073_lossless_alignedTo_MD652-F45-2016.12.17-05.56.31_MD652_2_0134_cropped/MD652-F25-2016.12.21-19.17.55_MD652_1_0073_lossless_alignedTo_MD652-F45-2016.12.17-05.56.31_MD652_2_0134_cropped_patch_locations.txt\n"
     ]
    },
    {
     "name": "stderr",
     "output_type": "stream",
     "text": [
      "Child returned 0\n",
      "0.77 seconds.\n",
      "save: 4.07 seconds\n",
      "\n",
      "Section 147.\n",
      "locate patches: 0.02 seconds\n",
      "46588 samples.\n",
      "load image: 0.27 seconds\n",
      "extract patches: 4.43 seconds\n",
      "predict: 63.40 seconds\n"
     ]
    },
    {
     "name": "stdout",
     "output_type": "stream",
     "text": [
      "aws s3 cp /shared/CSHL_patch_features/inception-bn-blue/MD652/MD652-N25-2016.12.16-06.45.45_MD652_2_0074_lossless_alignedTo_MD652-F45-2016.12.17-05.56.31_MD652_2_0134_cropped/MD652-N25-2016.12.16-06.45.45_MD652_2_0074_lossless_alignedTo_MD652-F45-2016.12.17-05.56.31_MD652_2_0134_cropped_features.bp s3://mousebrainatlas-data/CSHL_patch_features/inception-bn-blue/MD652/MD652-N25-2016.12.16-06.45.45_MD652_2_0074_lossless_alignedTo_MD652-F45-2016.12.17-05.56.31_MD652_2_0134_cropped/MD652-N25-2016.12.16-06.45.45_MD652_2_0074_lossless_alignedTo_MD652-F45-2016.12.17-05.56.31_MD652_2_0134_cropped_features.bp\n"
     ]
    },
    {
     "name": "stderr",
     "output_type": "stream",
     "text": [
      "Child returned 0\n",
      "2.36 seconds.\n"
     ]
    },
    {
     "name": "stdout",
     "output_type": "stream",
     "text": [
      "aws s3 cp /shared/CSHL_patch_features/inception-bn-blue/MD652/MD652-N25-2016.12.16-06.45.45_MD652_2_0074_lossless_alignedTo_MD652-F45-2016.12.17-05.56.31_MD652_2_0134_cropped/MD652-N25-2016.12.16-06.45.45_MD652_2_0074_lossless_alignedTo_MD652-F45-2016.12.17-05.56.31_MD652_2_0134_cropped_patch_locations.txt s3://mousebrainatlas-data/CSHL_patch_features/inception-bn-blue/MD652/MD652-N25-2016.12.16-06.45.45_MD652_2_0074_lossless_alignedTo_MD652-F45-2016.12.17-05.56.31_MD652_2_0134_cropped/MD652-N25-2016.12.16-06.45.45_MD652_2_0074_lossless_alignedTo_MD652-F45-2016.12.17-05.56.31_MD652_2_0134_cropped_patch_locations.txt\n"
     ]
    },
    {
     "name": "stderr",
     "output_type": "stream",
     "text": [
      "Child returned 0\n",
      "0.83 seconds.\n",
      "save: 4.07 seconds\n",
      "\n",
      "Section 148.\n",
      "locate patches: 0.02 seconds\n",
      "46028 samples.\n",
      "load image: 0.27 seconds\n",
      "extract patches: 4.40 seconds\n",
      "predict: 48.04 seconds\n"
     ]
    },
    {
     "name": "stdout",
     "output_type": "stream",
     "text": [
      "aws s3 cp /shared/CSHL_patch_features/inception-bn-blue/MD652/MD652-F25-2016.12.21-19.17.55_MD652_2_0074_lossless_alignedTo_MD652-F45-2016.12.17-05.56.31_MD652_2_0134_cropped/MD652-F25-2016.12.21-19.17.55_MD652_2_0074_lossless_alignedTo_MD652-F45-2016.12.17-05.56.31_MD652_2_0134_cropped_features.bp s3://mousebrainatlas-data/CSHL_patch_features/inception-bn-blue/MD652/MD652-F25-2016.12.21-19.17.55_MD652_2_0074_lossless_alignedTo_MD652-F45-2016.12.17-05.56.31_MD652_2_0134_cropped/MD652-F25-2016.12.21-19.17.55_MD652_2_0074_lossless_alignedTo_MD652-F45-2016.12.17-05.56.31_MD652_2_0134_cropped_features.bp\n"
     ]
    },
    {
     "name": "stderr",
     "output_type": "stream",
     "text": [
      "Child returned 0\n",
      "1.89 seconds.\n"
     ]
    },
    {
     "name": "stdout",
     "output_type": "stream",
     "text": [
      "aws s3 cp /shared/CSHL_patch_features/inception-bn-blue/MD652/MD652-F25-2016.12.21-19.17.55_MD652_2_0074_lossless_alignedTo_MD652-F45-2016.12.17-05.56.31_MD652_2_0134_cropped/MD652-F25-2016.12.21-19.17.55_MD652_2_0074_lossless_alignedTo_MD652-F45-2016.12.17-05.56.31_MD652_2_0134_cropped_patch_locations.txt s3://mousebrainatlas-data/CSHL_patch_features/inception-bn-blue/MD652/MD652-F25-2016.12.21-19.17.55_MD652_2_0074_lossless_alignedTo_MD652-F45-2016.12.17-05.56.31_MD652_2_0134_cropped/MD652-F25-2016.12.21-19.17.55_MD652_2_0074_lossless_alignedTo_MD652-F45-2016.12.17-05.56.31_MD652_2_0134_cropped_patch_locations.txt\n"
     ]
    },
    {
     "name": "stderr",
     "output_type": "stream",
     "text": [
      "Child returned 0\n",
      "0.78 seconds.\n",
      "save: 3.54 seconds\n",
      "\n",
      "Section 149.\n",
      "locate patches: 0.02 seconds\n",
      "47079 samples.\n",
      "load image: 0.27 seconds\n",
      "extract patches: 4.48 seconds\n",
      "predict: 57.66 seconds\n"
     ]
    },
    {
     "name": "stdout",
     "output_type": "stream",
     "text": [
      "aws s3 cp /shared/CSHL_patch_features/inception-bn-blue/MD652/MD652-N25-2016.12.16-06.45.45_MD652_3_0075_lossless_alignedTo_MD652-F45-2016.12.17-05.56.31_MD652_2_0134_cropped/MD652-N25-2016.12.16-06.45.45_MD652_3_0075_lossless_alignedTo_MD652-F45-2016.12.17-05.56.31_MD652_2_0134_cropped_features.bp s3://mousebrainatlas-data/CSHL_patch_features/inception-bn-blue/MD652/MD652-N25-2016.12.16-06.45.45_MD652_3_0075_lossless_alignedTo_MD652-F45-2016.12.17-05.56.31_MD652_2_0134_cropped/MD652-N25-2016.12.16-06.45.45_MD652_3_0075_lossless_alignedTo_MD652-F45-2016.12.17-05.56.31_MD652_2_0134_cropped_features.bp\n"
     ]
    },
    {
     "name": "stderr",
     "output_type": "stream",
     "text": [
      "Child returned 0\n",
      "2.84 seconds.\n"
     ]
    },
    {
     "name": "stdout",
     "output_type": "stream",
     "text": [
      "aws s3 cp /shared/CSHL_patch_features/inception-bn-blue/MD652/MD652-N25-2016.12.16-06.45.45_MD652_3_0075_lossless_alignedTo_MD652-F45-2016.12.17-05.56.31_MD652_2_0134_cropped/MD652-N25-2016.12.16-06.45.45_MD652_3_0075_lossless_alignedTo_MD652-F45-2016.12.17-05.56.31_MD652_2_0134_cropped_patch_locations.txt s3://mousebrainatlas-data/CSHL_patch_features/inception-bn-blue/MD652/MD652-N25-2016.12.16-06.45.45_MD652_3_0075_lossless_alignedTo_MD652-F45-2016.12.17-05.56.31_MD652_2_0134_cropped/MD652-N25-2016.12.16-06.45.45_MD652_3_0075_lossless_alignedTo_MD652-F45-2016.12.17-05.56.31_MD652_2_0134_cropped_patch_locations.txt\n"
     ]
    },
    {
     "name": "stderr",
     "output_type": "stream",
     "text": [
      "Child returned 0\n",
      "0.78 seconds.\n",
      "save: 4.51 seconds\n",
      "\n",
      "Section 150.\n",
      "locate patches: 0.02 seconds\n",
      "46479 samples.\n",
      "load image: 0.27 seconds\n",
      "extract patches: 5.19 seconds\n",
      "predict: 52.57 seconds\n"
     ]
    },
    {
     "name": "stdout",
     "output_type": "stream",
     "text": [
      "aws s3 cp /shared/CSHL_patch_features/inception-bn-blue/MD652/MD652-F25-2016.12.21-19.17.55_MD652_3_0075_lossless_alignedTo_MD652-F45-2016.12.17-05.56.31_MD652_2_0134_cropped/MD652-F25-2016.12.21-19.17.55_MD652_3_0075_lossless_alignedTo_MD652-F45-2016.12.17-05.56.31_MD652_2_0134_cropped_features.bp s3://mousebrainatlas-data/CSHL_patch_features/inception-bn-blue/MD652/MD652-F25-2016.12.21-19.17.55_MD652_3_0075_lossless_alignedTo_MD652-F45-2016.12.17-05.56.31_MD652_2_0134_cropped/MD652-F25-2016.12.21-19.17.55_MD652_3_0075_lossless_alignedTo_MD652-F45-2016.12.17-05.56.31_MD652_2_0134_cropped_features.bp\n"
     ]
    },
    {
     "name": "stderr",
     "output_type": "stream",
     "text": [
      "Child returned 0\n",
      "2.14 seconds.\n"
     ]
    },
    {
     "name": "stdout",
     "output_type": "stream",
     "text": [
      "aws s3 cp /shared/CSHL_patch_features/inception-bn-blue/MD652/MD652-F25-2016.12.21-19.17.55_MD652_3_0075_lossless_alignedTo_MD652-F45-2016.12.17-05.56.31_MD652_2_0134_cropped/MD652-F25-2016.12.21-19.17.55_MD652_3_0075_lossless_alignedTo_MD652-F45-2016.12.17-05.56.31_MD652_2_0134_cropped_patch_locations.txt s3://mousebrainatlas-data/CSHL_patch_features/inception-bn-blue/MD652/MD652-F25-2016.12.21-19.17.55_MD652_3_0075_lossless_alignedTo_MD652-F45-2016.12.17-05.56.31_MD652_2_0134_cropped/MD652-F25-2016.12.21-19.17.55_MD652_3_0075_lossless_alignedTo_MD652-F45-2016.12.17-05.56.31_MD652_2_0134_cropped_patch_locations.txt\n"
     ]
    },
    {
     "name": "stderr",
     "output_type": "stream",
     "text": [
      "Child returned 0\n",
      "0.78 seconds.\n",
      "save: 3.80 seconds\n",
      "\n",
      "Section 151.\n",
      "locate patches: 0.02 seconds\n",
      "46934 samples.\n",
      "load image: 0.27 seconds\n",
      "extract patches: 5.24 seconds\n",
      "predict: 61.26 seconds\n"
     ]
    },
    {
     "name": "stdout",
     "output_type": "stream",
     "text": [
      "aws s3 cp /shared/CSHL_patch_features/inception-bn-blue/MD652/MD652-N26-2016.12.16-06.51.17_MD652_1_0076_lossless_alignedTo_MD652-F45-2016.12.17-05.56.31_MD652_2_0134_cropped/MD652-N26-2016.12.16-06.51.17_MD652_1_0076_lossless_alignedTo_MD652-F45-2016.12.17-05.56.31_MD652_2_0134_cropped_features.bp s3://mousebrainatlas-data/CSHL_patch_features/inception-bn-blue/MD652/MD652-N26-2016.12.16-06.51.17_MD652_1_0076_lossless_alignedTo_MD652-F45-2016.12.17-05.56.31_MD652_2_0134_cropped/MD652-N26-2016.12.16-06.51.17_MD652_1_0076_lossless_alignedTo_MD652-F45-2016.12.17-05.56.31_MD652_2_0134_cropped_features.bp\n"
     ]
    },
    {
     "name": "stderr",
     "output_type": "stream",
     "text": [
      "Child returned 0\n",
      "1.96 seconds.\n"
     ]
    },
    {
     "name": "stdout",
     "output_type": "stream",
     "text": [
      "aws s3 cp /shared/CSHL_patch_features/inception-bn-blue/MD652/MD652-N26-2016.12.16-06.51.17_MD652_1_0076_lossless_alignedTo_MD652-F45-2016.12.17-05.56.31_MD652_2_0134_cropped/MD652-N26-2016.12.16-06.51.17_MD652_1_0076_lossless_alignedTo_MD652-F45-2016.12.17-05.56.31_MD652_2_0134_cropped_patch_locations.txt s3://mousebrainatlas-data/CSHL_patch_features/inception-bn-blue/MD652/MD652-N26-2016.12.16-06.51.17_MD652_1_0076_lossless_alignedTo_MD652-F45-2016.12.17-05.56.31_MD652_2_0134_cropped/MD652-N26-2016.12.16-06.51.17_MD652_1_0076_lossless_alignedTo_MD652-F45-2016.12.17-05.56.31_MD652_2_0134_cropped_patch_locations.txt\n"
     ]
    },
    {
     "name": "stderr",
     "output_type": "stream",
     "text": [
      "Child returned 0\n",
      "0.78 seconds.\n",
      "save: 3.62 seconds\n",
      "\n",
      "Section 152.\n",
      "locate patches: 0.02 seconds\n",
      "49120 samples.\n",
      "load image: 0.27 seconds\n",
      "extract patches: 4.70 seconds\n",
      "predict: 265.79 seconds\n"
     ]
    },
    {
     "name": "stdout",
     "output_type": "stream",
     "text": [
      "aws s3 cp /shared/CSHL_patch_features/inception-bn-blue/MD652/MD652-F26-2016.12.16-23.32.06_MD652_1_0076_lossless_alignedTo_MD652-F45-2016.12.17-05.56.31_MD652_2_0134_cropped/MD652-F26-2016.12.16-23.32.06_MD652_1_0076_lossless_alignedTo_MD652-F45-2016.12.17-05.56.31_MD652_2_0134_cropped_features.bp s3://mousebrainatlas-data/CSHL_patch_features/inception-bn-blue/MD652/MD652-F26-2016.12.16-23.32.06_MD652_1_0076_lossless_alignedTo_MD652-F45-2016.12.17-05.56.31_MD652_2_0134_cropped/MD652-F26-2016.12.16-23.32.06_MD652_1_0076_lossless_alignedTo_MD652-F45-2016.12.17-05.56.31_MD652_2_0134_cropped_features.bp\n"
     ]
    },
    {
     "name": "stderr",
     "output_type": "stream",
     "text": [
      "Child returned 0\n",
      "2.68 seconds.\n"
     ]
    },
    {
     "name": "stdout",
     "output_type": "stream",
     "text": [
      "aws s3 cp /shared/CSHL_patch_features/inception-bn-blue/MD652/MD652-F26-2016.12.16-23.32.06_MD652_1_0076_lossless_alignedTo_MD652-F45-2016.12.17-05.56.31_MD652_2_0134_cropped/MD652-F26-2016.12.16-23.32.06_MD652_1_0076_lossless_alignedTo_MD652-F45-2016.12.17-05.56.31_MD652_2_0134_cropped_patch_locations.txt s3://mousebrainatlas-data/CSHL_patch_features/inception-bn-blue/MD652/MD652-F26-2016.12.16-23.32.06_MD652_1_0076_lossless_alignedTo_MD652-F45-2016.12.17-05.56.31_MD652_2_0134_cropped/MD652-F26-2016.12.16-23.32.06_MD652_1_0076_lossless_alignedTo_MD652-F45-2016.12.17-05.56.31_MD652_2_0134_cropped_patch_locations.txt\n"
     ]
    },
    {
     "name": "stderr",
     "output_type": "stream",
     "text": [
      "Child returned 0\n",
      "0.78 seconds.\n",
      "save: 4.41 seconds\n",
      "\n",
      "Section 153.\n",
      "locate patches: 0.02 seconds\n",
      "47401 samples.\n",
      "load image: 0.27 seconds\n",
      "extract patches: 4.53 seconds\n",
      "predict: 32.00 seconds\n"
     ]
    },
    {
     "name": "stdout",
     "output_type": "stream",
     "text": [
      "aws s3 cp /shared/CSHL_patch_features/inception-bn-blue/MD652/MD652-N26-2016.12.16-06.51.17_MD652_2_0077_lossless_alignedTo_MD652-F45-2016.12.17-05.56.31_MD652_2_0134_cropped/MD652-N26-2016.12.16-06.51.17_MD652_2_0077_lossless_alignedTo_MD652-F45-2016.12.17-05.56.31_MD652_2_0134_cropped_features.bp s3://mousebrainatlas-data/CSHL_patch_features/inception-bn-blue/MD652/MD652-N26-2016.12.16-06.51.17_MD652_2_0077_lossless_alignedTo_MD652-F45-2016.12.17-05.56.31_MD652_2_0134_cropped/MD652-N26-2016.12.16-06.51.17_MD652_2_0077_lossless_alignedTo_MD652-F45-2016.12.17-05.56.31_MD652_2_0134_cropped_features.bp\n"
     ]
    },
    {
     "name": "stderr",
     "output_type": "stream",
     "text": [
      "Child returned 0\n",
      "1.98 seconds.\n"
     ]
    },
    {
     "name": "stdout",
     "output_type": "stream",
     "text": [
      "aws s3 cp /shared/CSHL_patch_features/inception-bn-blue/MD652/MD652-N26-2016.12.16-06.51.17_MD652_2_0077_lossless_alignedTo_MD652-F45-2016.12.17-05.56.31_MD652_2_0134_cropped/MD652-N26-2016.12.16-06.51.17_MD652_2_0077_lossless_alignedTo_MD652-F45-2016.12.17-05.56.31_MD652_2_0134_cropped_patch_locations.txt s3://mousebrainatlas-data/CSHL_patch_features/inception-bn-blue/MD652/MD652-N26-2016.12.16-06.51.17_MD652_2_0077_lossless_alignedTo_MD652-F45-2016.12.17-05.56.31_MD652_2_0134_cropped/MD652-N26-2016.12.16-06.51.17_MD652_2_0077_lossless_alignedTo_MD652-F45-2016.12.17-05.56.31_MD652_2_0134_cropped_patch_locations.txt\n"
     ]
    },
    {
     "name": "stderr",
     "output_type": "stream",
     "text": [
      "Child returned 0\n",
      "0.78 seconds.\n",
      "save: 3.66 seconds\n",
      "\n",
      "Section 154.\n",
      "locate patches: 0.02 seconds\n",
      "48694 samples.\n",
      "load image: 0.27 seconds\n",
      "extract patches: 4.64 seconds\n",
      "predict: 46.90 seconds\n"
     ]
    },
    {
     "name": "stdout",
     "output_type": "stream",
     "text": [
      "aws s3 cp /shared/CSHL_patch_features/inception-bn-blue/MD652/MD652-F26-2016.12.16-23.32.06_MD652_2_0077_lossless_alignedTo_MD652-F45-2016.12.17-05.56.31_MD652_2_0134_cropped/MD652-F26-2016.12.16-23.32.06_MD652_2_0077_lossless_alignedTo_MD652-F45-2016.12.17-05.56.31_MD652_2_0134_cropped_features.bp s3://mousebrainatlas-data/CSHL_patch_features/inception-bn-blue/MD652/MD652-F26-2016.12.16-23.32.06_MD652_2_0077_lossless_alignedTo_MD652-F45-2016.12.17-05.56.31_MD652_2_0134_cropped/MD652-F26-2016.12.16-23.32.06_MD652_2_0077_lossless_alignedTo_MD652-F45-2016.12.17-05.56.31_MD652_2_0134_cropped_features.bp\n"
     ]
    },
    {
     "name": "stderr",
     "output_type": "stream",
     "text": [
      "Child returned 0\n",
      "2.21 seconds.\n"
     ]
    },
    {
     "name": "stdout",
     "output_type": "stream",
     "text": [
      "aws s3 cp /shared/CSHL_patch_features/inception-bn-blue/MD652/MD652-F26-2016.12.16-23.32.06_MD652_2_0077_lossless_alignedTo_MD652-F45-2016.12.17-05.56.31_MD652_2_0134_cropped/MD652-F26-2016.12.16-23.32.06_MD652_2_0077_lossless_alignedTo_MD652-F45-2016.12.17-05.56.31_MD652_2_0134_cropped_patch_locations.txt s3://mousebrainatlas-data/CSHL_patch_features/inception-bn-blue/MD652/MD652-F26-2016.12.16-23.32.06_MD652_2_0077_lossless_alignedTo_MD652-F45-2016.12.17-05.56.31_MD652_2_0134_cropped/MD652-F26-2016.12.16-23.32.06_MD652_2_0077_lossless_alignedTo_MD652-F45-2016.12.17-05.56.31_MD652_2_0134_cropped_patch_locations.txt\n"
     ]
    },
    {
     "name": "stderr",
     "output_type": "stream",
     "text": [
      "Child returned 0\n",
      "0.78 seconds.\n",
      "save: 3.92 seconds\n",
      "\n",
      "Section 155.\n",
      "locate patches: 0.02 seconds\n",
      "48893 samples.\n",
      "load image: 0.27 seconds\n",
      "extract patches: 4.66 seconds\n",
      "predict: 39.96 seconds\n"
     ]
    },
    {
     "name": "stdout",
     "output_type": "stream",
     "text": [
      "aws s3 cp /shared/CSHL_patch_features/inception-bn-blue/MD652/MD652-N27-2016.12.16-06.55.08_MD652_1_0079_lossless_alignedTo_MD652-F45-2016.12.17-05.56.31_MD652_2_0134_cropped/MD652-N27-2016.12.16-06.55.08_MD652_1_0079_lossless_alignedTo_MD652-F45-2016.12.17-05.56.31_MD652_2_0134_cropped_features.bp s3://mousebrainatlas-data/CSHL_patch_features/inception-bn-blue/MD652/MD652-N27-2016.12.16-06.55.08_MD652_1_0079_lossless_alignedTo_MD652-F45-2016.12.17-05.56.31_MD652_2_0134_cropped/MD652-N27-2016.12.16-06.55.08_MD652_1_0079_lossless_alignedTo_MD652-F45-2016.12.17-05.56.31_MD652_2_0134_cropped_features.bp\n"
     ]
    },
    {
     "name": "stderr",
     "output_type": "stream",
     "text": [
      "Child returned 0\n",
      "2.18 seconds.\n"
     ]
    },
    {
     "name": "stdout",
     "output_type": "stream",
     "text": [
      "aws s3 cp /shared/CSHL_patch_features/inception-bn-blue/MD652/MD652-N27-2016.12.16-06.55.08_MD652_1_0079_lossless_alignedTo_MD652-F45-2016.12.17-05.56.31_MD652_2_0134_cropped/MD652-N27-2016.12.16-06.55.08_MD652_1_0079_lossless_alignedTo_MD652-F45-2016.12.17-05.56.31_MD652_2_0134_cropped_patch_locations.txt s3://mousebrainatlas-data/CSHL_patch_features/inception-bn-blue/MD652/MD652-N27-2016.12.16-06.55.08_MD652_1_0079_lossless_alignedTo_MD652-F45-2016.12.17-05.56.31_MD652_2_0134_cropped/MD652-N27-2016.12.16-06.55.08_MD652_1_0079_lossless_alignedTo_MD652-F45-2016.12.17-05.56.31_MD652_2_0134_cropped_patch_locations.txt\n"
     ]
    },
    {
     "name": "stderr",
     "output_type": "stream",
     "text": [
      "Child returned 0\n",
      "0.78 seconds.\n",
      "save: 3.88 seconds\n",
      "\n",
      "Section 156.\n",
      "locate patches: 0.02 seconds\n",
      "47573 samples.\n",
      "load image: 0.27 seconds\n",
      "extract patches: 4.55 seconds\n",
      "predict: 27.21 seconds\n"
     ]
    },
    {
     "name": "stdout",
     "output_type": "stream",
     "text": [
      "aws s3 cp /shared/CSHL_patch_features/inception-bn-blue/MD652/MD652-F27-2016.12.16-23.47.41_MD652_1_0079_lossless_alignedTo_MD652-F45-2016.12.17-05.56.31_MD652_2_0134_cropped/MD652-F27-2016.12.16-23.47.41_MD652_1_0079_lossless_alignedTo_MD652-F45-2016.12.17-05.56.31_MD652_2_0134_cropped_features.bp s3://mousebrainatlas-data/CSHL_patch_features/inception-bn-blue/MD652/MD652-F27-2016.12.16-23.47.41_MD652_1_0079_lossless_alignedTo_MD652-F45-2016.12.17-05.56.31_MD652_2_0134_cropped/MD652-F27-2016.12.16-23.47.41_MD652_1_0079_lossless_alignedTo_MD652-F45-2016.12.17-05.56.31_MD652_2_0134_cropped_features.bp\n"
     ]
    },
    {
     "name": "stderr",
     "output_type": "stream",
     "text": [
      "Child returned 0\n",
      "2.08 seconds.\n"
     ]
    },
    {
     "name": "stdout",
     "output_type": "stream",
     "text": [
      "aws s3 cp /shared/CSHL_patch_features/inception-bn-blue/MD652/MD652-F27-2016.12.16-23.47.41_MD652_1_0079_lossless_alignedTo_MD652-F45-2016.12.17-05.56.31_MD652_2_0134_cropped/MD652-F27-2016.12.16-23.47.41_MD652_1_0079_lossless_alignedTo_MD652-F45-2016.12.17-05.56.31_MD652_2_0134_cropped_patch_locations.txt s3://mousebrainatlas-data/CSHL_patch_features/inception-bn-blue/MD652/MD652-F27-2016.12.16-23.47.41_MD652_1_0079_lossless_alignedTo_MD652-F45-2016.12.17-05.56.31_MD652_2_0134_cropped/MD652-F27-2016.12.16-23.47.41_MD652_1_0079_lossless_alignedTo_MD652-F45-2016.12.17-05.56.31_MD652_2_0134_cropped_patch_locations.txt\n"
     ]
    },
    {
     "name": "stderr",
     "output_type": "stream",
     "text": [
      "Child returned 0\n",
      "0.77 seconds.\n",
      "save: 3.75 seconds\n",
      "\n",
      "Section 157.\n",
      "locate patches: 0.02 seconds\n",
      "49462 samples.\n",
      "load image: 0.27 seconds\n",
      "extract patches: 4.72 seconds\n",
      "predict: 47.46 seconds\n"
     ]
    },
    {
     "name": "stdout",
     "output_type": "stream",
     "text": [
      "aws s3 cp /shared/CSHL_patch_features/inception-bn-blue/MD652/MD652-N27-2016.12.16-06.55.08_MD652_2_0080_lossless_alignedTo_MD652-F45-2016.12.17-05.56.31_MD652_2_0134_cropped/MD652-N27-2016.12.16-06.55.08_MD652_2_0080_lossless_alignedTo_MD652-F45-2016.12.17-05.56.31_MD652_2_0134_cropped_features.bp s3://mousebrainatlas-data/CSHL_patch_features/inception-bn-blue/MD652/MD652-N27-2016.12.16-06.55.08_MD652_2_0080_lossless_alignedTo_MD652-F45-2016.12.17-05.56.31_MD652_2_0134_cropped/MD652-N27-2016.12.16-06.55.08_MD652_2_0080_lossless_alignedTo_MD652-F45-2016.12.17-05.56.31_MD652_2_0134_cropped_features.bp\n"
     ]
    },
    {
     "name": "stderr",
     "output_type": "stream",
     "text": [
      "Child returned 0\n",
      "2.46 seconds.\n"
     ]
    },
    {
     "name": "stdout",
     "output_type": "stream",
     "text": [
      "aws s3 cp /shared/CSHL_patch_features/inception-bn-blue/MD652/MD652-N27-2016.12.16-06.55.08_MD652_2_0080_lossless_alignedTo_MD652-F45-2016.12.17-05.56.31_MD652_2_0134_cropped/MD652-N27-2016.12.16-06.55.08_MD652_2_0080_lossless_alignedTo_MD652-F45-2016.12.17-05.56.31_MD652_2_0134_cropped_patch_locations.txt s3://mousebrainatlas-data/CSHL_patch_features/inception-bn-blue/MD652/MD652-N27-2016.12.16-06.55.08_MD652_2_0080_lossless_alignedTo_MD652-F45-2016.12.17-05.56.31_MD652_2_0134_cropped/MD652-N27-2016.12.16-06.55.08_MD652_2_0080_lossless_alignedTo_MD652-F45-2016.12.17-05.56.31_MD652_2_0134_cropped_patch_locations.txt\n"
     ]
    },
    {
     "name": "stderr",
     "output_type": "stream",
     "text": [
      "Child returned 0\n",
      "0.77 seconds.\n",
      "save: 4.16 seconds\n",
      "\n",
      "Section 158.\n",
      "locate patches: 0.02 seconds\n",
      "48581 samples.\n",
      "load image: 0.27 seconds\n",
      "extract patches: 4.63 seconds\n",
      "predict: 27.65 seconds\n"
     ]
    },
    {
     "name": "stdout",
     "output_type": "stream",
     "text": [
      "aws s3 cp /shared/CSHL_patch_features/inception-bn-blue/MD652/MD652-F27-2016.12.16-23.47.41_MD652_2_0080_lossless_alignedTo_MD652-F45-2016.12.17-05.56.31_MD652_2_0134_cropped/MD652-F27-2016.12.16-23.47.41_MD652_2_0080_lossless_alignedTo_MD652-F45-2016.12.17-05.56.31_MD652_2_0134_cropped_features.bp s3://mousebrainatlas-data/CSHL_patch_features/inception-bn-blue/MD652/MD652-F27-2016.12.16-23.47.41_MD652_2_0080_lossless_alignedTo_MD652-F45-2016.12.17-05.56.31_MD652_2_0134_cropped/MD652-F27-2016.12.16-23.47.41_MD652_2_0080_lossless_alignedTo_MD652-F45-2016.12.17-05.56.31_MD652_2_0134_cropped_features.bp\n"
     ]
    },
    {
     "name": "stderr",
     "output_type": "stream",
     "text": [
      "Child returned 0\n",
      "2.94 seconds.\n"
     ]
    },
    {
     "name": "stdout",
     "output_type": "stream",
     "text": [
      "aws s3 cp /shared/CSHL_patch_features/inception-bn-blue/MD652/MD652-F27-2016.12.16-23.47.41_MD652_2_0080_lossless_alignedTo_MD652-F45-2016.12.17-05.56.31_MD652_2_0134_cropped/MD652-F27-2016.12.16-23.47.41_MD652_2_0080_lossless_alignedTo_MD652-F45-2016.12.17-05.56.31_MD652_2_0134_cropped_patch_locations.txt s3://mousebrainatlas-data/CSHL_patch_features/inception-bn-blue/MD652/MD652-F27-2016.12.16-23.47.41_MD652_2_0080_lossless_alignedTo_MD652-F45-2016.12.17-05.56.31_MD652_2_0134_cropped/MD652-F27-2016.12.16-23.47.41_MD652_2_0080_lossless_alignedTo_MD652-F45-2016.12.17-05.56.31_MD652_2_0134_cropped_patch_locations.txt\n"
     ]
    },
    {
     "name": "stderr",
     "output_type": "stream",
     "text": [
      "Child returned 0\n",
      "0.82 seconds.\n",
      "save: 4.67 seconds\n",
      "\n",
      "Section 159.\n",
      "locate patches: 0.02 seconds\n",
      "49399 samples.\n",
      "load image: 0.27 seconds\n",
      "extract patches: 4.72 seconds\n",
      "predict: 32.57 seconds\n"
     ]
    },
    {
     "name": "stdout",
     "output_type": "stream",
     "text": [
      "aws s3 cp /shared/CSHL_patch_features/inception-bn-blue/MD652/MD652-N28-2016.12.16-06.59.20_MD652_1_0082_lossless_alignedTo_MD652-F45-2016.12.17-05.56.31_MD652_2_0134_cropped/MD652-N28-2016.12.16-06.59.20_MD652_1_0082_lossless_alignedTo_MD652-F45-2016.12.17-05.56.31_MD652_2_0134_cropped_features.bp s3://mousebrainatlas-data/CSHL_patch_features/inception-bn-blue/MD652/MD652-N28-2016.12.16-06.59.20_MD652_1_0082_lossless_alignedTo_MD652-F45-2016.12.17-05.56.31_MD652_2_0134_cropped/MD652-N28-2016.12.16-06.59.20_MD652_1_0082_lossless_alignedTo_MD652-F45-2016.12.17-05.56.31_MD652_2_0134_cropped_features.bp\n"
     ]
    },
    {
     "name": "stderr",
     "output_type": "stream",
     "text": [
      "Child returned 0\n",
      "2.28 seconds.\n"
     ]
    },
    {
     "name": "stdout",
     "output_type": "stream",
     "text": [
      "aws s3 cp /shared/CSHL_patch_features/inception-bn-blue/MD652/MD652-N28-2016.12.16-06.59.20_MD652_1_0082_lossless_alignedTo_MD652-F45-2016.12.17-05.56.31_MD652_2_0134_cropped/MD652-N28-2016.12.16-06.59.20_MD652_1_0082_lossless_alignedTo_MD652-F45-2016.12.17-05.56.31_MD652_2_0134_cropped_patch_locations.txt s3://mousebrainatlas-data/CSHL_patch_features/inception-bn-blue/MD652/MD652-N28-2016.12.16-06.59.20_MD652_1_0082_lossless_alignedTo_MD652-F45-2016.12.17-05.56.31_MD652_2_0134_cropped/MD652-N28-2016.12.16-06.59.20_MD652_1_0082_lossless_alignedTo_MD652-F45-2016.12.17-05.56.31_MD652_2_0134_cropped_patch_locations.txt\n"
     ]
    },
    {
     "name": "stderr",
     "output_type": "stream",
     "text": [
      "Child returned 0\n",
      "0.78 seconds.\n",
      "save: 3.98 seconds\n",
      "\n",
      "Section 160.\n",
      "locate patches: 0.02 seconds\n",
      "50216 samples.\n",
      "load image: 0.27 seconds\n",
      "extract patches: 4.80 seconds\n",
      "predict: 41.23 seconds\n"
     ]
    },
    {
     "name": "stdout",
     "output_type": "stream",
     "text": [
      "aws s3 cp /shared/CSHL_patch_features/inception-bn-blue/MD652/MD652-F28-2016.12.17-00.07.19_MD652_1_0082_lossless_alignedTo_MD652-F45-2016.12.17-05.56.31_MD652_2_0134_cropped/MD652-F28-2016.12.17-00.07.19_MD652_1_0082_lossless_alignedTo_MD652-F45-2016.12.17-05.56.31_MD652_2_0134_cropped_features.bp s3://mousebrainatlas-data/CSHL_patch_features/inception-bn-blue/MD652/MD652-F28-2016.12.17-00.07.19_MD652_1_0082_lossless_alignedTo_MD652-F45-2016.12.17-05.56.31_MD652_2_0134_cropped/MD652-F28-2016.12.17-00.07.19_MD652_1_0082_lossless_alignedTo_MD652-F45-2016.12.17-05.56.31_MD652_2_0134_cropped_features.bp\n"
     ]
    },
    {
     "name": "stderr",
     "output_type": "stream",
     "text": [
      "Child returned 0\n",
      "2.18 seconds.\n"
     ]
    },
    {
     "name": "stdout",
     "output_type": "stream",
     "text": [
      "aws s3 cp /shared/CSHL_patch_features/inception-bn-blue/MD652/MD652-F28-2016.12.17-00.07.19_MD652_1_0082_lossless_alignedTo_MD652-F45-2016.12.17-05.56.31_MD652_2_0134_cropped/MD652-F28-2016.12.17-00.07.19_MD652_1_0082_lossless_alignedTo_MD652-F45-2016.12.17-05.56.31_MD652_2_0134_cropped_patch_locations.txt s3://mousebrainatlas-data/CSHL_patch_features/inception-bn-blue/MD652/MD652-F28-2016.12.17-00.07.19_MD652_1_0082_lossless_alignedTo_MD652-F45-2016.12.17-05.56.31_MD652_2_0134_cropped/MD652-F28-2016.12.17-00.07.19_MD652_1_0082_lossless_alignedTo_MD652-F45-2016.12.17-05.56.31_MD652_2_0134_cropped_patch_locations.txt\n"
     ]
    },
    {
     "name": "stderr",
     "output_type": "stream",
     "text": [
      "Child returned 0\n",
      "0.83 seconds.\n",
      "save: 3.96 seconds\n",
      "\n",
      "Section 161.\n",
      "locate patches: 0.02 seconds\n",
      "50052 samples.\n",
      "load image: 0.27 seconds\n",
      "extract patches: 4.80 seconds\n",
      "predict: 43.86 seconds\n"
     ]
    },
    {
     "name": "stdout",
     "output_type": "stream",
     "text": [
      "aws s3 cp /shared/CSHL_patch_features/inception-bn-blue/MD652/MD652-N28-2016.12.16-06.59.20_MD652_2_0083_lossless_alignedTo_MD652-F45-2016.12.17-05.56.31_MD652_2_0134_cropped/MD652-N28-2016.12.16-06.59.20_MD652_2_0083_lossless_alignedTo_MD652-F45-2016.12.17-05.56.31_MD652_2_0134_cropped_features.bp s3://mousebrainatlas-data/CSHL_patch_features/inception-bn-blue/MD652/MD652-N28-2016.12.16-06.59.20_MD652_2_0083_lossless_alignedTo_MD652-F45-2016.12.17-05.56.31_MD652_2_0134_cropped/MD652-N28-2016.12.16-06.59.20_MD652_2_0083_lossless_alignedTo_MD652-F45-2016.12.17-05.56.31_MD652_2_0134_cropped_features.bp\n"
     ]
    },
    {
     "name": "stderr",
     "output_type": "stream",
     "text": [
      "Child returned 0\n",
      "2.33 seconds.\n"
     ]
    },
    {
     "name": "stdout",
     "output_type": "stream",
     "text": [
      "aws s3 cp /shared/CSHL_patch_features/inception-bn-blue/MD652/MD652-N28-2016.12.16-06.59.20_MD652_2_0083_lossless_alignedTo_MD652-F45-2016.12.17-05.56.31_MD652_2_0134_cropped/MD652-N28-2016.12.16-06.59.20_MD652_2_0083_lossless_alignedTo_MD652-F45-2016.12.17-05.56.31_MD652_2_0134_cropped_patch_locations.txt s3://mousebrainatlas-data/CSHL_patch_features/inception-bn-blue/MD652/MD652-N28-2016.12.16-06.59.20_MD652_2_0083_lossless_alignedTo_MD652-F45-2016.12.17-05.56.31_MD652_2_0134_cropped/MD652-N28-2016.12.16-06.59.20_MD652_2_0083_lossless_alignedTo_MD652-F45-2016.12.17-05.56.31_MD652_2_0134_cropped_patch_locations.txt\n"
     ]
    },
    {
     "name": "stderr",
     "output_type": "stream",
     "text": [
      "Child returned 0\n",
      "0.83 seconds.\n",
      "save: 4.11 seconds\n",
      "\n",
      "Section 162.\n",
      "locate patches: 0.02 seconds\n",
      "52872 samples.\n",
      "load image: 0.27 seconds\n",
      "extract patches: 5.07 seconds\n",
      "predict: 75.31 seconds\n"
     ]
    },
    {
     "name": "stdout",
     "output_type": "stream",
     "text": [
      "aws s3 cp /shared/CSHL_patch_features/inception-bn-blue/MD652/MD652-F28-2016.12.17-00.07.19_MD652_2_0083_lossless_alignedTo_MD652-F45-2016.12.17-05.56.31_MD652_2_0134_cropped/MD652-F28-2016.12.17-00.07.19_MD652_2_0083_lossless_alignedTo_MD652-F45-2016.12.17-05.56.31_MD652_2_0134_cropped_features.bp s3://mousebrainatlas-data/CSHL_patch_features/inception-bn-blue/MD652/MD652-F28-2016.12.17-00.07.19_MD652_2_0083_lossless_alignedTo_MD652-F45-2016.12.17-05.56.31_MD652_2_0134_cropped/MD652-F28-2016.12.17-00.07.19_MD652_2_0083_lossless_alignedTo_MD652-F45-2016.12.17-05.56.31_MD652_2_0134_cropped_features.bp\n"
     ]
    },
    {
     "name": "stderr",
     "output_type": "stream",
     "text": [
      "Child returned 0\n",
      "2.28 seconds.\n"
     ]
    },
    {
     "name": "stdout",
     "output_type": "stream",
     "text": [
      "aws s3 cp /shared/CSHL_patch_features/inception-bn-blue/MD652/MD652-F28-2016.12.17-00.07.19_MD652_2_0083_lossless_alignedTo_MD652-F45-2016.12.17-05.56.31_MD652_2_0134_cropped/MD652-F28-2016.12.17-00.07.19_MD652_2_0083_lossless_alignedTo_MD652-F45-2016.12.17-05.56.31_MD652_2_0134_cropped_patch_locations.txt s3://mousebrainatlas-data/CSHL_patch_features/inception-bn-blue/MD652/MD652-F28-2016.12.17-00.07.19_MD652_2_0083_lossless_alignedTo_MD652-F45-2016.12.17-05.56.31_MD652_2_0134_cropped/MD652-F28-2016.12.17-00.07.19_MD652_2_0083_lossless_alignedTo_MD652-F45-2016.12.17-05.56.31_MD652_2_0134_cropped_patch_locations.txt\n"
     ]
    },
    {
     "name": "stderr",
     "output_type": "stream",
     "text": [
      "Child returned 0\n",
      "0.78 seconds.\n",
      "save: 4.06 seconds\n",
      "\n",
      "Section 163.\n",
      "locate patches: 0.02 seconds\n",
      "50281 samples.\n",
      "load image: 0.27 seconds\n",
      "extract patches: 4.80 seconds\n",
      "predict: 51.84 seconds\n"
     ]
    },
    {
     "name": "stdout",
     "output_type": "stream",
     "text": [
      "aws s3 cp /shared/CSHL_patch_features/inception-bn-blue/MD652/MD652-N29-2016.12.16-07.03.34_MD652_1_0085_lossless_alignedTo_MD652-F45-2016.12.17-05.56.31_MD652_2_0134_cropped/MD652-N29-2016.12.16-07.03.34_MD652_1_0085_lossless_alignedTo_MD652-F45-2016.12.17-05.56.31_MD652_2_0134_cropped_features.bp s3://mousebrainatlas-data/CSHL_patch_features/inception-bn-blue/MD652/MD652-N29-2016.12.16-07.03.34_MD652_1_0085_lossless_alignedTo_MD652-F45-2016.12.17-05.56.31_MD652_2_0134_cropped/MD652-N29-2016.12.16-07.03.34_MD652_1_0085_lossless_alignedTo_MD652-F45-2016.12.17-05.56.31_MD652_2_0134_cropped_features.bp\n"
     ]
    },
    {
     "name": "stderr",
     "output_type": "stream",
     "text": [
      "Child returned 0\n",
      "3.12 seconds.\n"
     ]
    },
    {
     "name": "stdout",
     "output_type": "stream",
     "text": [
      "aws s3 cp /shared/CSHL_patch_features/inception-bn-blue/MD652/MD652-N29-2016.12.16-07.03.34_MD652_1_0085_lossless_alignedTo_MD652-F45-2016.12.17-05.56.31_MD652_2_0134_cropped/MD652-N29-2016.12.16-07.03.34_MD652_1_0085_lossless_alignedTo_MD652-F45-2016.12.17-05.56.31_MD652_2_0134_cropped_patch_locations.txt s3://mousebrainatlas-data/CSHL_patch_features/inception-bn-blue/MD652/MD652-N29-2016.12.16-07.03.34_MD652_1_0085_lossless_alignedTo_MD652-F45-2016.12.17-05.56.31_MD652_2_0134_cropped/MD652-N29-2016.12.16-07.03.34_MD652_1_0085_lossless_alignedTo_MD652-F45-2016.12.17-05.56.31_MD652_2_0134_cropped_patch_locations.txt\n"
     ]
    },
    {
     "name": "stderr",
     "output_type": "stream",
     "text": [
      "Child returned 0\n",
      "0.83 seconds.\n",
      "save: 4.90 seconds\n",
      "\n",
      "Section 164.\n",
      "locate patches: 0.02 seconds\n",
      "50345 samples.\n",
      "load image: 0.27 seconds\n",
      "extract patches: 4.82 seconds\n",
      "predict: 53.10 seconds\n"
     ]
    },
    {
     "name": "stdout",
     "output_type": "stream",
     "text": [
      "aws s3 cp /shared/CSHL_patch_features/inception-bn-blue/MD652/MD652-F29-2016.12.17-00.27.10_MD652_1_0085_lossless_alignedTo_MD652-F45-2016.12.17-05.56.31_MD652_2_0134_cropped/MD652-F29-2016.12.17-00.27.10_MD652_1_0085_lossless_alignedTo_MD652-F45-2016.12.17-05.56.31_MD652_2_0134_cropped_features.bp s3://mousebrainatlas-data/CSHL_patch_features/inception-bn-blue/MD652/MD652-F29-2016.12.17-00.27.10_MD652_1_0085_lossless_alignedTo_MD652-F45-2016.12.17-05.56.31_MD652_2_0134_cropped/MD652-F29-2016.12.17-00.27.10_MD652_1_0085_lossless_alignedTo_MD652-F45-2016.12.17-05.56.31_MD652_2_0134_cropped_features.bp\n"
     ]
    },
    {
     "name": "stderr",
     "output_type": "stream",
     "text": [
      "Child returned 0\n",
      "2.19 seconds.\n"
     ]
    },
    {
     "name": "stdout",
     "output_type": "stream",
     "text": [
      "aws s3 cp /shared/CSHL_patch_features/inception-bn-blue/MD652/MD652-F29-2016.12.17-00.27.10_MD652_1_0085_lossless_alignedTo_MD652-F45-2016.12.17-05.56.31_MD652_2_0134_cropped/MD652-F29-2016.12.17-00.27.10_MD652_1_0085_lossless_alignedTo_MD652-F45-2016.12.17-05.56.31_MD652_2_0134_cropped_patch_locations.txt s3://mousebrainatlas-data/CSHL_patch_features/inception-bn-blue/MD652/MD652-F29-2016.12.17-00.27.10_MD652_1_0085_lossless_alignedTo_MD652-F45-2016.12.17-05.56.31_MD652_2_0134_cropped/MD652-F29-2016.12.17-00.27.10_MD652_1_0085_lossless_alignedTo_MD652-F45-2016.12.17-05.56.31_MD652_2_0134_cropped_patch_locations.txt\n"
     ]
    },
    {
     "name": "stderr",
     "output_type": "stream",
     "text": [
      "Child returned 0\n",
      "0.83 seconds.\n",
      "save: 3.98 seconds\n",
      "\n",
      "Section 165.\n",
      "locate patches: 0.02 seconds\n",
      "50706 samples.\n",
      "load image: 0.27 seconds\n",
      "extract patches: 4.84 seconds\n",
      "predict: 57.40 seconds\n"
     ]
    },
    {
     "name": "stdout",
     "output_type": "stream",
     "text": [
      "aws s3 cp /shared/CSHL_patch_features/inception-bn-blue/MD652/MD652-N29-2016.12.16-07.03.34_MD652_2_0086_lossless_alignedTo_MD652-F45-2016.12.17-05.56.31_MD652_2_0134_cropped/MD652-N29-2016.12.16-07.03.34_MD652_2_0086_lossless_alignedTo_MD652-F45-2016.12.17-05.56.31_MD652_2_0134_cropped_features.bp s3://mousebrainatlas-data/CSHL_patch_features/inception-bn-blue/MD652/MD652-N29-2016.12.16-07.03.34_MD652_2_0086_lossless_alignedTo_MD652-F45-2016.12.17-05.56.31_MD652_2_0134_cropped/MD652-N29-2016.12.16-07.03.34_MD652_2_0086_lossless_alignedTo_MD652-F45-2016.12.17-05.56.31_MD652_2_0134_cropped_features.bp\n"
     ]
    },
    {
     "name": "stderr",
     "output_type": "stream",
     "text": [
      "Child returned 0\n",
      "1.96 seconds.\n"
     ]
    },
    {
     "name": "stdout",
     "output_type": "stream",
     "text": [
      "aws s3 cp /shared/CSHL_patch_features/inception-bn-blue/MD652/MD652-N29-2016.12.16-07.03.34_MD652_2_0086_lossless_alignedTo_MD652-F45-2016.12.17-05.56.31_MD652_2_0134_cropped/MD652-N29-2016.12.16-07.03.34_MD652_2_0086_lossless_alignedTo_MD652-F45-2016.12.17-05.56.31_MD652_2_0134_cropped_patch_locations.txt s3://mousebrainatlas-data/CSHL_patch_features/inception-bn-blue/MD652/MD652-N29-2016.12.16-07.03.34_MD652_2_0086_lossless_alignedTo_MD652-F45-2016.12.17-05.56.31_MD652_2_0134_cropped/MD652-N29-2016.12.16-07.03.34_MD652_2_0086_lossless_alignedTo_MD652-F45-2016.12.17-05.56.31_MD652_2_0134_cropped_patch_locations.txt\n"
     ]
    },
    {
     "name": "stderr",
     "output_type": "stream",
     "text": [
      "Child returned 0\n",
      "0.78 seconds.\n",
      "save: 3.70 seconds\n",
      "\n",
      "Section 166.\n",
      "locate patches: 0.02 seconds\n",
      "54203 samples.\n",
      "load image: 0.27 seconds\n",
      "extract patches: 5.19 seconds\n",
      "predict: 100.04 seconds\n"
     ]
    },
    {
     "name": "stdout",
     "output_type": "stream",
     "text": [
      "aws s3 cp /shared/CSHL_patch_features/inception-bn-blue/MD652/MD652-F29-2016.12.17-00.27.10_MD652_2_0086_lossless_alignedTo_MD652-F45-2016.12.17-05.56.31_MD652_2_0134_cropped/MD652-F29-2016.12.17-00.27.10_MD652_2_0086_lossless_alignedTo_MD652-F45-2016.12.17-05.56.31_MD652_2_0134_cropped_features.bp s3://mousebrainatlas-data/CSHL_patch_features/inception-bn-blue/MD652/MD652-F29-2016.12.17-00.27.10_MD652_2_0086_lossless_alignedTo_MD652-F45-2016.12.17-05.56.31_MD652_2_0134_cropped/MD652-F29-2016.12.17-00.27.10_MD652_2_0086_lossless_alignedTo_MD652-F45-2016.12.17-05.56.31_MD652_2_0134_cropped_features.bp\n"
     ]
    },
    {
     "name": "stderr",
     "output_type": "stream",
     "text": [
      "Child returned 0\n",
      "2.18 seconds.\n"
     ]
    },
    {
     "name": "stdout",
     "output_type": "stream",
     "text": [
      "aws s3 cp /shared/CSHL_patch_features/inception-bn-blue/MD652/MD652-F29-2016.12.17-00.27.10_MD652_2_0086_lossless_alignedTo_MD652-F45-2016.12.17-05.56.31_MD652_2_0134_cropped/MD652-F29-2016.12.17-00.27.10_MD652_2_0086_lossless_alignedTo_MD652-F45-2016.12.17-05.56.31_MD652_2_0134_cropped_patch_locations.txt s3://mousebrainatlas-data/CSHL_patch_features/inception-bn-blue/MD652/MD652-F29-2016.12.17-00.27.10_MD652_2_0086_lossless_alignedTo_MD652-F45-2016.12.17-05.56.31_MD652_2_0134_cropped/MD652-F29-2016.12.17-00.27.10_MD652_2_0086_lossless_alignedTo_MD652-F45-2016.12.17-05.56.31_MD652_2_0134_cropped_patch_locations.txt\n"
     ]
    },
    {
     "name": "stderr",
     "output_type": "stream",
     "text": [
      "Child returned 0\n",
      "0.83 seconds.\n",
      "save: 4.04 seconds\n",
      "\n",
      "Section 167.\n",
      "locate patches: 0.02 seconds\n",
      "50691 samples.\n",
      "load image: 0.27 seconds\n",
      "extract patches: 4.83 seconds\n",
      "predict: 44.59 seconds\n"
     ]
    },
    {
     "name": "stdout",
     "output_type": "stream",
     "text": [
      "aws s3 cp /shared/CSHL_patch_features/inception-bn-blue/MD652/MD652-N30-2016.12.16-07.07.49_MD652_1_0088_lossless_alignedTo_MD652-F45-2016.12.17-05.56.31_MD652_2_0134_cropped/MD652-N30-2016.12.16-07.07.49_MD652_1_0088_lossless_alignedTo_MD652-F45-2016.12.17-05.56.31_MD652_2_0134_cropped_features.bp s3://mousebrainatlas-data/CSHL_patch_features/inception-bn-blue/MD652/MD652-N30-2016.12.16-07.07.49_MD652_1_0088_lossless_alignedTo_MD652-F45-2016.12.17-05.56.31_MD652_2_0134_cropped/MD652-N30-2016.12.16-07.07.49_MD652_1_0088_lossless_alignedTo_MD652-F45-2016.12.17-05.56.31_MD652_2_0134_cropped_features.bp\n"
     ]
    },
    {
     "name": "stderr",
     "output_type": "stream",
     "text": [
      "Child returned 0\n",
      "2.21 seconds.\n"
     ]
    },
    {
     "name": "stdout",
     "output_type": "stream",
     "text": [
      "aws s3 cp /shared/CSHL_patch_features/inception-bn-blue/MD652/MD652-N30-2016.12.16-07.07.49_MD652_1_0088_lossless_alignedTo_MD652-F45-2016.12.17-05.56.31_MD652_2_0134_cropped/MD652-N30-2016.12.16-07.07.49_MD652_1_0088_lossless_alignedTo_MD652-F45-2016.12.17-05.56.31_MD652_2_0134_cropped_patch_locations.txt s3://mousebrainatlas-data/CSHL_patch_features/inception-bn-blue/MD652/MD652-N30-2016.12.16-07.07.49_MD652_1_0088_lossless_alignedTo_MD652-F45-2016.12.17-05.56.31_MD652_2_0134_cropped/MD652-N30-2016.12.16-07.07.49_MD652_1_0088_lossless_alignedTo_MD652-F45-2016.12.17-05.56.31_MD652_2_0134_cropped_patch_locations.txt\n"
     ]
    },
    {
     "name": "stderr",
     "output_type": "stream",
     "text": [
      "Child returned 0\n",
      "0.82 seconds.\n",
      "save: 3.98 seconds\n",
      "\n",
      "Section 168.\n",
      "locate patches: 0.02 seconds\n",
      "53481 samples.\n",
      "load image: 0.27 seconds\n",
      "extract patches: 5.10 seconds\n",
      "predict: 39.36 seconds\n"
     ]
    },
    {
     "name": "stdout",
     "output_type": "stream",
     "text": [
      "aws s3 cp /shared/CSHL_patch_features/inception-bn-blue/MD652/MD652-F30-2016.12.17-00.43.54_MD652_1_0088_lossless_alignedTo_MD652-F45-2016.12.17-05.56.31_MD652_2_0134_cropped/MD652-F30-2016.12.17-00.43.54_MD652_1_0088_lossless_alignedTo_MD652-F45-2016.12.17-05.56.31_MD652_2_0134_cropped_features.bp s3://mousebrainatlas-data/CSHL_patch_features/inception-bn-blue/MD652/MD652-F30-2016.12.17-00.43.54_MD652_1_0088_lossless_alignedTo_MD652-F45-2016.12.17-05.56.31_MD652_2_0134_cropped/MD652-F30-2016.12.17-00.43.54_MD652_1_0088_lossless_alignedTo_MD652-F45-2016.12.17-05.56.31_MD652_2_0134_cropped_features.bp\n"
     ]
    },
    {
     "name": "stderr",
     "output_type": "stream",
     "text": [
      "Child returned 0\n",
      "2.23 seconds.\n"
     ]
    },
    {
     "name": "stdout",
     "output_type": "stream",
     "text": [
      "aws s3 cp /shared/CSHL_patch_features/inception-bn-blue/MD652/MD652-F30-2016.12.17-00.43.54_MD652_1_0088_lossless_alignedTo_MD652-F45-2016.12.17-05.56.31_MD652_2_0134_cropped/MD652-F30-2016.12.17-00.43.54_MD652_1_0088_lossless_alignedTo_MD652-F45-2016.12.17-05.56.31_MD652_2_0134_cropped_patch_locations.txt s3://mousebrainatlas-data/CSHL_patch_features/inception-bn-blue/MD652/MD652-F30-2016.12.17-00.43.54_MD652_1_0088_lossless_alignedTo_MD652-F45-2016.12.17-05.56.31_MD652_2_0134_cropped/MD652-F30-2016.12.17-00.43.54_MD652_1_0088_lossless_alignedTo_MD652-F45-2016.12.17-05.56.31_MD652_2_0134_cropped_patch_locations.txt\n"
     ]
    },
    {
     "name": "stderr",
     "output_type": "stream",
     "text": [
      "Child returned 0\n",
      "0.78 seconds.\n",
      "save: 4.02 seconds\n",
      "\n",
      "Section 169.\n",
      "locate patches: 0.02 seconds\n",
      "51085 samples.\n",
      "load image: 0.27 seconds\n",
      "extract patches: 4.87 seconds\n",
      "predict: 29.02 seconds\n"
     ]
    },
    {
     "name": "stdout",
     "output_type": "stream",
     "text": [
      "aws s3 cp /shared/CSHL_patch_features/inception-bn-blue/MD652/MD652-N30-2016.12.16-07.07.49_MD652_2_0089_lossless_alignedTo_MD652-F45-2016.12.17-05.56.31_MD652_2_0134_cropped/MD652-N30-2016.12.16-07.07.49_MD652_2_0089_lossless_alignedTo_MD652-F45-2016.12.17-05.56.31_MD652_2_0134_cropped_features.bp s3://mousebrainatlas-data/CSHL_patch_features/inception-bn-blue/MD652/MD652-N30-2016.12.16-07.07.49_MD652_2_0089_lossless_alignedTo_MD652-F45-2016.12.17-05.56.31_MD652_2_0134_cropped/MD652-N30-2016.12.16-07.07.49_MD652_2_0089_lossless_alignedTo_MD652-F45-2016.12.17-05.56.31_MD652_2_0134_cropped_features.bp\n"
     ]
    },
    {
     "name": "stderr",
     "output_type": "stream",
     "text": [
      "Child returned 0\n",
      "2.28 seconds.\n"
     ]
    },
    {
     "name": "stdout",
     "output_type": "stream",
     "text": [
      "aws s3 cp /shared/CSHL_patch_features/inception-bn-blue/MD652/MD652-N30-2016.12.16-07.07.49_MD652_2_0089_lossless_alignedTo_MD652-F45-2016.12.17-05.56.31_MD652_2_0134_cropped/MD652-N30-2016.12.16-07.07.49_MD652_2_0089_lossless_alignedTo_MD652-F45-2016.12.17-05.56.31_MD652_2_0134_cropped_patch_locations.txt s3://mousebrainatlas-data/CSHL_patch_features/inception-bn-blue/MD652/MD652-N30-2016.12.16-07.07.49_MD652_2_0089_lossless_alignedTo_MD652-F45-2016.12.17-05.56.31_MD652_2_0134_cropped/MD652-N30-2016.12.16-07.07.49_MD652_2_0089_lossless_alignedTo_MD652-F45-2016.12.17-05.56.31_MD652_2_0134_cropped_patch_locations.txt\n"
     ]
    },
    {
     "name": "stderr",
     "output_type": "stream",
     "text": [
      "Child returned 0\n",
      "0.82 seconds.\n",
      "save: 4.07 seconds\n",
      "\n",
      "Section 170.\n",
      "locate patches: 0.02 seconds\n",
      "55585 samples.\n",
      "load image: 0.27 seconds\n",
      "extract patches: 5.31 seconds\n",
      "predict: 54.70 seconds\n"
     ]
    },
    {
     "name": "stdout",
     "output_type": "stream",
     "text": [
      "aws s3 cp /shared/CSHL_patch_features/inception-bn-blue/MD652/MD652-F30-2016.12.17-00.43.54_MD652_2_0089_lossless_alignedTo_MD652-F45-2016.12.17-05.56.31_MD652_2_0134_cropped/MD652-F30-2016.12.17-00.43.54_MD652_2_0089_lossless_alignedTo_MD652-F45-2016.12.17-05.56.31_MD652_2_0134_cropped_features.bp s3://mousebrainatlas-data/CSHL_patch_features/inception-bn-blue/MD652/MD652-F30-2016.12.17-00.43.54_MD652_2_0089_lossless_alignedTo_MD652-F45-2016.12.17-05.56.31_MD652_2_0134_cropped/MD652-F30-2016.12.17-00.43.54_MD652_2_0089_lossless_alignedTo_MD652-F45-2016.12.17-05.56.31_MD652_2_0134_cropped_features.bp\n"
     ]
    },
    {
     "name": "stderr",
     "output_type": "stream",
     "text": [
      "Child returned 0\n",
      "2.15 seconds.\n"
     ]
    },
    {
     "name": "stdout",
     "output_type": "stream",
     "text": [
      "aws s3 cp /shared/CSHL_patch_features/inception-bn-blue/MD652/MD652-F30-2016.12.17-00.43.54_MD652_2_0089_lossless_alignedTo_MD652-F45-2016.12.17-05.56.31_MD652_2_0134_cropped/MD652-F30-2016.12.17-00.43.54_MD652_2_0089_lossless_alignedTo_MD652-F45-2016.12.17-05.56.31_MD652_2_0134_cropped_patch_locations.txt s3://mousebrainatlas-data/CSHL_patch_features/inception-bn-blue/MD652/MD652-F30-2016.12.17-00.43.54_MD652_2_0089_lossless_alignedTo_MD652-F45-2016.12.17-05.56.31_MD652_2_0134_cropped/MD652-F30-2016.12.17-00.43.54_MD652_2_0089_lossless_alignedTo_MD652-F45-2016.12.17-05.56.31_MD652_2_0134_cropped_patch_locations.txt\n"
     ]
    },
    {
     "name": "stderr",
     "output_type": "stream",
     "text": [
      "Child returned 0\n",
      "0.83 seconds.\n",
      "save: 4.03 seconds\n",
      "\n",
      "Section 171.\n",
      "locate patches: 0.02 seconds\n",
      "53460 samples.\n",
      "load image: 0.28 seconds\n",
      "extract patches: 5.18 seconds\n",
      "predict: 35.58 seconds\n"
     ]
    },
    {
     "name": "stdout",
     "output_type": "stream",
     "text": [
      "aws s3 cp /shared/CSHL_patch_features/inception-bn-blue/MD652/MD652-N31-2016.12.16-07.12.04_MD652_1_0091_lossless_alignedTo_MD652-F45-2016.12.17-05.56.31_MD652_2_0134_cropped/MD652-N31-2016.12.16-07.12.04_MD652_1_0091_lossless_alignedTo_MD652-F45-2016.12.17-05.56.31_MD652_2_0134_cropped_features.bp s3://mousebrainatlas-data/CSHL_patch_features/inception-bn-blue/MD652/MD652-N31-2016.12.16-07.12.04_MD652_1_0091_lossless_alignedTo_MD652-F45-2016.12.17-05.56.31_MD652_2_0134_cropped/MD652-N31-2016.12.16-07.12.04_MD652_1_0091_lossless_alignedTo_MD652-F45-2016.12.17-05.56.31_MD652_2_0134_cropped_features.bp\n"
     ]
    },
    {
     "name": "stderr",
     "output_type": "stream",
     "text": [
      "Child returned 0\n",
      "2.32 seconds.\n"
     ]
    },
    {
     "name": "stdout",
     "output_type": "stream",
     "text": [
      "aws s3 cp /shared/CSHL_patch_features/inception-bn-blue/MD652/MD652-N31-2016.12.16-07.12.04_MD652_1_0091_lossless_alignedTo_MD652-F45-2016.12.17-05.56.31_MD652_2_0134_cropped/MD652-N31-2016.12.16-07.12.04_MD652_1_0091_lossless_alignedTo_MD652-F45-2016.12.17-05.56.31_MD652_2_0134_cropped_patch_locations.txt s3://mousebrainatlas-data/CSHL_patch_features/inception-bn-blue/MD652/MD652-N31-2016.12.16-07.12.04_MD652_1_0091_lossless_alignedTo_MD652-F45-2016.12.17-05.56.31_MD652_2_0134_cropped/MD652-N31-2016.12.16-07.12.04_MD652_1_0091_lossless_alignedTo_MD652-F45-2016.12.17-05.56.31_MD652_2_0134_cropped_patch_locations.txt\n"
     ]
    },
    {
     "name": "stderr",
     "output_type": "stream",
     "text": [
      "Child returned 0\n",
      "0.83 seconds.\n",
      "save: 4.15 seconds\n",
      "\n",
      "Section 172.\n",
      "locate patches: 0.02 seconds\n",
      "54583 samples.\n",
      "load image: 0.28 seconds\n",
      "extract patches: 5.30 seconds\n",
      "predict: 44.40 seconds\n"
     ]
    },
    {
     "name": "stdout",
     "output_type": "stream",
     "text": [
      "aws s3 cp /shared/CSHL_patch_features/inception-bn-blue/MD652/MD652-F31-2016.12.17-01.03.29_MD652_1_0091_lossless_alignedTo_MD652-F45-2016.12.17-05.56.31_MD652_2_0134_cropped/MD652-F31-2016.12.17-01.03.29_MD652_1_0091_lossless_alignedTo_MD652-F45-2016.12.17-05.56.31_MD652_2_0134_cropped_features.bp s3://mousebrainatlas-data/CSHL_patch_features/inception-bn-blue/MD652/MD652-F31-2016.12.17-01.03.29_MD652_1_0091_lossless_alignedTo_MD652-F45-2016.12.17-05.56.31_MD652_2_0134_cropped/MD652-F31-2016.12.17-01.03.29_MD652_1_0091_lossless_alignedTo_MD652-F45-2016.12.17-05.56.31_MD652_2_0134_cropped_features.bp\n"
     ]
    },
    {
     "name": "stderr",
     "output_type": "stream",
     "text": [
      "Child returned 0\n",
      "2.33 seconds.\n"
     ]
    },
    {
     "name": "stdout",
     "output_type": "stream",
     "text": [
      "aws s3 cp /shared/CSHL_patch_features/inception-bn-blue/MD652/MD652-F31-2016.12.17-01.03.29_MD652_1_0091_lossless_alignedTo_MD652-F45-2016.12.17-05.56.31_MD652_2_0134_cropped/MD652-F31-2016.12.17-01.03.29_MD652_1_0091_lossless_alignedTo_MD652-F45-2016.12.17-05.56.31_MD652_2_0134_cropped_patch_locations.txt s3://mousebrainatlas-data/CSHL_patch_features/inception-bn-blue/MD652/MD652-F31-2016.12.17-01.03.29_MD652_1_0091_lossless_alignedTo_MD652-F45-2016.12.17-05.56.31_MD652_2_0134_cropped/MD652-F31-2016.12.17-01.03.29_MD652_1_0091_lossless_alignedTo_MD652-F45-2016.12.17-05.56.31_MD652_2_0134_cropped_patch_locations.txt\n"
     ]
    },
    {
     "name": "stderr",
     "output_type": "stream",
     "text": [
      "Child returned 0\n",
      "0.93 seconds.\n",
      "save: 4.30 seconds\n",
      "\n",
      "Section 173.\n",
      "locate patches: 0.02 seconds\n",
      "54725 samples.\n",
      "load image: 0.28 seconds\n",
      "extract patches: 5.31 seconds\n",
      "predict: 46.77 seconds\n"
     ]
    },
    {
     "name": "stdout",
     "output_type": "stream",
     "text": [
      "aws s3 cp /shared/CSHL_patch_features/inception-bn-blue/MD652/MD652-N31-2016.12.16-07.12.04_MD652_2_0092_lossless_alignedTo_MD652-F45-2016.12.17-05.56.31_MD652_2_0134_cropped/MD652-N31-2016.12.16-07.12.04_MD652_2_0092_lossless_alignedTo_MD652-F45-2016.12.17-05.56.31_MD652_2_0134_cropped_features.bp s3://mousebrainatlas-data/CSHL_patch_features/inception-bn-blue/MD652/MD652-N31-2016.12.16-07.12.04_MD652_2_0092_lossless_alignedTo_MD652-F45-2016.12.17-05.56.31_MD652_2_0134_cropped/MD652-N31-2016.12.16-07.12.04_MD652_2_0092_lossless_alignedTo_MD652-F45-2016.12.17-05.56.31_MD652_2_0134_cropped_features.bp\n"
     ]
    },
    {
     "name": "stderr",
     "output_type": "stream",
     "text": [
      "Child returned 0\n",
      "2.05 seconds.\n"
     ]
    },
    {
     "name": "stdout",
     "output_type": "stream",
     "text": [
      "aws s3 cp /shared/CSHL_patch_features/inception-bn-blue/MD652/MD652-N31-2016.12.16-07.12.04_MD652_2_0092_lossless_alignedTo_MD652-F45-2016.12.17-05.56.31_MD652_2_0134_cropped/MD652-N31-2016.12.16-07.12.04_MD652_2_0092_lossless_alignedTo_MD652-F45-2016.12.17-05.56.31_MD652_2_0134_cropped_patch_locations.txt s3://mousebrainatlas-data/CSHL_patch_features/inception-bn-blue/MD652/MD652-N31-2016.12.16-07.12.04_MD652_2_0092_lossless_alignedTo_MD652-F45-2016.12.17-05.56.31_MD652_2_0134_cropped/MD652-N31-2016.12.16-07.12.04_MD652_2_0092_lossless_alignedTo_MD652-F45-2016.12.17-05.56.31_MD652_2_0134_cropped_patch_locations.txt\n"
     ]
    },
    {
     "name": "stderr",
     "output_type": "stream",
     "text": [
      "Child returned 0\n",
      "0.83 seconds.\n",
      "save: 3.92 seconds\n",
      "\n",
      "Section 174.\n",
      "locate patches: 0.02 seconds\n",
      "56826 samples.\n",
      "load image: 0.28 seconds\n",
      "extract patches: 6.46 seconds\n",
      "predict: 63.89 seconds\n"
     ]
    },
    {
     "name": "stdout",
     "output_type": "stream",
     "text": [
      "aws s3 cp /shared/CSHL_patch_features/inception-bn-blue/MD652/MD652-F31-2016.12.17-01.03.29_MD652_2_0092_lossless_alignedTo_MD652-F45-2016.12.17-05.56.31_MD652_2_0134_cropped/MD652-F31-2016.12.17-01.03.29_MD652_2_0092_lossless_alignedTo_MD652-F45-2016.12.17-05.56.31_MD652_2_0134_cropped_features.bp s3://mousebrainatlas-data/CSHL_patch_features/inception-bn-blue/MD652/MD652-F31-2016.12.17-01.03.29_MD652_2_0092_lossless_alignedTo_MD652-F45-2016.12.17-05.56.31_MD652_2_0134_cropped/MD652-F31-2016.12.17-01.03.29_MD652_2_0092_lossless_alignedTo_MD652-F45-2016.12.17-05.56.31_MD652_2_0134_cropped_features.bp\n"
     ]
    },
    {
     "name": "stderr",
     "output_type": "stream",
     "text": [
      "Child returned 0\n",
      "2.27 seconds.\n"
     ]
    },
    {
     "name": "stdout",
     "output_type": "stream",
     "text": [
      "aws s3 cp /shared/CSHL_patch_features/inception-bn-blue/MD652/MD652-F31-2016.12.17-01.03.29_MD652_2_0092_lossless_alignedTo_MD652-F45-2016.12.17-05.56.31_MD652_2_0134_cropped/MD652-F31-2016.12.17-01.03.29_MD652_2_0092_lossless_alignedTo_MD652-F45-2016.12.17-05.56.31_MD652_2_0134_cropped_patch_locations.txt s3://mousebrainatlas-data/CSHL_patch_features/inception-bn-blue/MD652/MD652-F31-2016.12.17-01.03.29_MD652_2_0092_lossless_alignedTo_MD652-F45-2016.12.17-05.56.31_MD652_2_0134_cropped/MD652-F31-2016.12.17-01.03.29_MD652_2_0092_lossless_alignedTo_MD652-F45-2016.12.17-05.56.31_MD652_2_0134_cropped_patch_locations.txt\n"
     ]
    },
    {
     "name": "stderr",
     "output_type": "stream",
     "text": [
      "Child returned 0\n",
      "0.83 seconds.\n",
      "save: 4.18 seconds\n",
      "\n",
      "Section 175.\n",
      "locate patches: 0.02 seconds\n",
      "53145 samples.\n",
      "load image: 0.27 seconds\n",
      "extract patches: 5.07 seconds\n",
      "predict: 33.04 seconds\n"
     ]
    },
    {
     "name": "stdout",
     "output_type": "stream",
     "text": [
      "aws s3 cp /shared/CSHL_patch_features/inception-bn-blue/MD652/MD652-N32-2016.12.16-07.16.28_MD652_1_0094_lossless_alignedTo_MD652-F45-2016.12.17-05.56.31_MD652_2_0134_cropped/MD652-N32-2016.12.16-07.16.28_MD652_1_0094_lossless_alignedTo_MD652-F45-2016.12.17-05.56.31_MD652_2_0134_cropped_features.bp s3://mousebrainatlas-data/CSHL_patch_features/inception-bn-blue/MD652/MD652-N32-2016.12.16-07.16.28_MD652_1_0094_lossless_alignedTo_MD652-F45-2016.12.17-05.56.31_MD652_2_0134_cropped/MD652-N32-2016.12.16-07.16.28_MD652_1_0094_lossless_alignedTo_MD652-F45-2016.12.17-05.56.31_MD652_2_0134_cropped_features.bp\n"
     ]
    },
    {
     "name": "stderr",
     "output_type": "stream",
     "text": [
      "Child returned 0\n",
      "2.13 seconds.\n"
     ]
    },
    {
     "name": "stdout",
     "output_type": "stream",
     "text": [
      "aws s3 cp /shared/CSHL_patch_features/inception-bn-blue/MD652/MD652-N32-2016.12.16-07.16.28_MD652_1_0094_lossless_alignedTo_MD652-F45-2016.12.17-05.56.31_MD652_2_0134_cropped/MD652-N32-2016.12.16-07.16.28_MD652_1_0094_lossless_alignedTo_MD652-F45-2016.12.17-05.56.31_MD652_2_0134_cropped_patch_locations.txt s3://mousebrainatlas-data/CSHL_patch_features/inception-bn-blue/MD652/MD652-N32-2016.12.16-07.16.28_MD652_1_0094_lossless_alignedTo_MD652-F45-2016.12.17-05.56.31_MD652_2_0134_cropped/MD652-N32-2016.12.16-07.16.28_MD652_1_0094_lossless_alignedTo_MD652-F45-2016.12.17-05.56.31_MD652_2_0134_cropped_patch_locations.txt\n"
     ]
    },
    {
     "name": "stderr",
     "output_type": "stream",
     "text": [
      "Child returned 0\n",
      "0.78 seconds.\n",
      "save: 3.90 seconds\n",
      "\n",
      "Section 176.\n",
      "locate patches: 0.02 seconds\n",
      "54150 samples.\n",
      "load image: 0.27 seconds\n",
      "extract patches: 5.16 seconds\n",
      "predict: 41.26 seconds\n"
     ]
    },
    {
     "name": "stdout",
     "output_type": "stream",
     "text": [
      "aws s3 cp /shared/CSHL_patch_features/inception-bn-blue/MD652/MD652-F32-2016.12.17-01.20.56_MD652_1_0094_lossless_alignedTo_MD652-F45-2016.12.17-05.56.31_MD652_2_0134_cropped/MD652-F32-2016.12.17-01.20.56_MD652_1_0094_lossless_alignedTo_MD652-F45-2016.12.17-05.56.31_MD652_2_0134_cropped_features.bp s3://mousebrainatlas-data/CSHL_patch_features/inception-bn-blue/MD652/MD652-F32-2016.12.17-01.20.56_MD652_1_0094_lossless_alignedTo_MD652-F45-2016.12.17-05.56.31_MD652_2_0134_cropped/MD652-F32-2016.12.17-01.20.56_MD652_1_0094_lossless_alignedTo_MD652-F45-2016.12.17-05.56.31_MD652_2_0134_cropped_features.bp\n"
     ]
    },
    {
     "name": "stderr",
     "output_type": "stream",
     "text": [
      "Child returned 0\n",
      "2.52 seconds.\n"
     ]
    },
    {
     "name": "stdout",
     "output_type": "stream",
     "text": [
      "aws s3 cp /shared/CSHL_patch_features/inception-bn-blue/MD652/MD652-F32-2016.12.17-01.20.56_MD652_1_0094_lossless_alignedTo_MD652-F45-2016.12.17-05.56.31_MD652_2_0134_cropped/MD652-F32-2016.12.17-01.20.56_MD652_1_0094_lossless_alignedTo_MD652-F45-2016.12.17-05.56.31_MD652_2_0134_cropped_patch_locations.txt s3://mousebrainatlas-data/CSHL_patch_features/inception-bn-blue/MD652/MD652-F32-2016.12.17-01.20.56_MD652_1_0094_lossless_alignedTo_MD652-F45-2016.12.17-05.56.31_MD652_2_0134_cropped/MD652-F32-2016.12.17-01.20.56_MD652_1_0094_lossless_alignedTo_MD652-F45-2016.12.17-05.56.31_MD652_2_0134_cropped_patch_locations.txt\n"
     ]
    },
    {
     "name": "stderr",
     "output_type": "stream",
     "text": [
      "Child returned 0\n",
      "0.79 seconds.\n",
      "save: 4.33 seconds\n",
      "\n",
      "Section 177.\n",
      "locate patches: 0.02 seconds\n",
      "52379 samples.\n",
      "load image: 0.27 seconds\n",
      "extract patches: 5.00 seconds\n",
      "predict: 29.67 seconds\n"
     ]
    },
    {
     "name": "stdout",
     "output_type": "stream",
     "text": [
      "aws s3 cp /shared/CSHL_patch_features/inception-bn-blue/MD652/MD652-N32-2016.12.16-07.16.28_MD652_2_0095_lossless_alignedTo_MD652-F45-2016.12.17-05.56.31_MD652_2_0134_cropped/MD652-N32-2016.12.16-07.16.28_MD652_2_0095_lossless_alignedTo_MD652-F45-2016.12.17-05.56.31_MD652_2_0134_cropped_features.bp s3://mousebrainatlas-data/CSHL_patch_features/inception-bn-blue/MD652/MD652-N32-2016.12.16-07.16.28_MD652_2_0095_lossless_alignedTo_MD652-F45-2016.12.17-05.56.31_MD652_2_0134_cropped/MD652-N32-2016.12.16-07.16.28_MD652_2_0095_lossless_alignedTo_MD652-F45-2016.12.17-05.56.31_MD652_2_0134_cropped_features.bp\n"
     ]
    },
    {
     "name": "stderr",
     "output_type": "stream",
     "text": [
      "Child returned 0\n",
      "2.36 seconds.\n"
     ]
    },
    {
     "name": "stdout",
     "output_type": "stream",
     "text": [
      "aws s3 cp /shared/CSHL_patch_features/inception-bn-blue/MD652/MD652-N32-2016.12.16-07.16.28_MD652_2_0095_lossless_alignedTo_MD652-F45-2016.12.17-05.56.31_MD652_2_0134_cropped/MD652-N32-2016.12.16-07.16.28_MD652_2_0095_lossless_alignedTo_MD652-F45-2016.12.17-05.56.31_MD652_2_0134_cropped_patch_locations.txt s3://mousebrainatlas-data/CSHL_patch_features/inception-bn-blue/MD652/MD652-N32-2016.12.16-07.16.28_MD652_2_0095_lossless_alignedTo_MD652-F45-2016.12.17-05.56.31_MD652_2_0134_cropped/MD652-N32-2016.12.16-07.16.28_MD652_2_0095_lossless_alignedTo_MD652-F45-2016.12.17-05.56.31_MD652_2_0134_cropped_patch_locations.txt\n"
     ]
    },
    {
     "name": "stderr",
     "output_type": "stream",
     "text": [
      "Child returned 0\n",
      "0.83 seconds.\n",
      "save: 4.17 seconds\n",
      "\n",
      "Section 178.\n",
      "locate patches: 0.02 seconds\n",
      "56349 samples.\n",
      "load image: 0.27 seconds\n",
      "extract patches: 5.41 seconds\n",
      "predict: 62.07 seconds\n"
     ]
    },
    {
     "name": "stdout",
     "output_type": "stream",
     "text": [
      "aws s3 cp /shared/CSHL_patch_features/inception-bn-blue/MD652/MD652-F32-2016.12.17-01.20.56_MD652_2_0095_lossless_alignedTo_MD652-F45-2016.12.17-05.56.31_MD652_2_0134_cropped/MD652-F32-2016.12.17-01.20.56_MD652_2_0095_lossless_alignedTo_MD652-F45-2016.12.17-05.56.31_MD652_2_0134_cropped_features.bp s3://mousebrainatlas-data/CSHL_patch_features/inception-bn-blue/MD652/MD652-F32-2016.12.17-01.20.56_MD652_2_0095_lossless_alignedTo_MD652-F45-2016.12.17-05.56.31_MD652_2_0134_cropped/MD652-F32-2016.12.17-01.20.56_MD652_2_0095_lossless_alignedTo_MD652-F45-2016.12.17-05.56.31_MD652_2_0134_cropped_features.bp\n"
     ]
    },
    {
     "name": "stderr",
     "output_type": "stream",
     "text": [
      "Child returned 0\n",
      "2.98 seconds.\n"
     ]
    },
    {
     "name": "stdout",
     "output_type": "stream",
     "text": [
      "aws s3 cp /shared/CSHL_patch_features/inception-bn-blue/MD652/MD652-F32-2016.12.17-01.20.56_MD652_2_0095_lossless_alignedTo_MD652-F45-2016.12.17-05.56.31_MD652_2_0134_cropped/MD652-F32-2016.12.17-01.20.56_MD652_2_0095_lossless_alignedTo_MD652-F45-2016.12.17-05.56.31_MD652_2_0134_cropped_patch_locations.txt s3://mousebrainatlas-data/CSHL_patch_features/inception-bn-blue/MD652/MD652-F32-2016.12.17-01.20.56_MD652_2_0095_lossless_alignedTo_MD652-F45-2016.12.17-05.56.31_MD652_2_0134_cropped/MD652-F32-2016.12.17-01.20.56_MD652_2_0095_lossless_alignedTo_MD652-F45-2016.12.17-05.56.31_MD652_2_0134_cropped_patch_locations.txt\n"
     ]
    },
    {
     "name": "stderr",
     "output_type": "stream",
     "text": [
      "Child returned 0\n",
      "0.83 seconds.\n",
      "save: 4.87 seconds\n",
      "\n",
      "Section 179.\n",
      "locate patches: 0.02 seconds\n",
      "53548 samples.\n",
      "load image: 0.27 seconds\n",
      "extract patches: 5.12 seconds\n",
      "predict: 36.50 seconds\n"
     ]
    },
    {
     "name": "stdout",
     "output_type": "stream",
     "text": [
      "aws s3 cp /shared/CSHL_patch_features/inception-bn-blue/MD652/MD652-N33-2016.12.16-07.20.49_MD652_1_0097_lossless_alignedTo_MD652-F45-2016.12.17-05.56.31_MD652_2_0134_cropped/MD652-N33-2016.12.16-07.20.49_MD652_1_0097_lossless_alignedTo_MD652-F45-2016.12.17-05.56.31_MD652_2_0134_cropped_features.bp s3://mousebrainatlas-data/CSHL_patch_features/inception-bn-blue/MD652/MD652-N33-2016.12.16-07.20.49_MD652_1_0097_lossless_alignedTo_MD652-F45-2016.12.17-05.56.31_MD652_2_0134_cropped/MD652-N33-2016.12.16-07.20.49_MD652_1_0097_lossless_alignedTo_MD652-F45-2016.12.17-05.56.31_MD652_2_0134_cropped_features.bp\n"
     ]
    },
    {
     "name": "stderr",
     "output_type": "stream",
     "text": [
      "Child returned 0\n",
      "2.28 seconds.\n"
     ]
    },
    {
     "name": "stdout",
     "output_type": "stream",
     "text": [
      "aws s3 cp /shared/CSHL_patch_features/inception-bn-blue/MD652/MD652-N33-2016.12.16-07.20.49_MD652_1_0097_lossless_alignedTo_MD652-F45-2016.12.17-05.56.31_MD652_2_0134_cropped/MD652-N33-2016.12.16-07.20.49_MD652_1_0097_lossless_alignedTo_MD652-F45-2016.12.17-05.56.31_MD652_2_0134_cropped_patch_locations.txt s3://mousebrainatlas-data/CSHL_patch_features/inception-bn-blue/MD652/MD652-N33-2016.12.16-07.20.49_MD652_1_0097_lossless_alignedTo_MD652-F45-2016.12.17-05.56.31_MD652_2_0134_cropped/MD652-N33-2016.12.16-07.20.49_MD652_1_0097_lossless_alignedTo_MD652-F45-2016.12.17-05.56.31_MD652_2_0134_cropped_patch_locations.txt\n"
     ]
    },
    {
     "name": "stderr",
     "output_type": "stream",
     "text": [
      "Child returned 0\n",
      "0.83 seconds.\n",
      "save: 4.12 seconds\n",
      "\n",
      "Section 180.\n",
      "locate patches: 0.02 seconds\n",
      "57120 samples.\n",
      "load image: 0.27 seconds\n",
      "extract patches: 5.46 seconds\n",
      "predict: 57.53 seconds\n"
     ]
    },
    {
     "name": "stdout",
     "output_type": "stream",
     "text": [
      "aws s3 cp /shared/CSHL_patch_features/inception-bn-blue/MD652/MD652-F33-2016.12.17-01.41.02_MD652_1_0097_lossless_alignedTo_MD652-F45-2016.12.17-05.56.31_MD652_2_0134_cropped/MD652-F33-2016.12.17-01.41.02_MD652_1_0097_lossless_alignedTo_MD652-F45-2016.12.17-05.56.31_MD652_2_0134_cropped_features.bp s3://mousebrainatlas-data/CSHL_patch_features/inception-bn-blue/MD652/MD652-F33-2016.12.17-01.41.02_MD652_1_0097_lossless_alignedTo_MD652-F45-2016.12.17-05.56.31_MD652_2_0134_cropped/MD652-F33-2016.12.17-01.41.02_MD652_1_0097_lossless_alignedTo_MD652-F45-2016.12.17-05.56.31_MD652_2_0134_cropped_features.bp\n"
     ]
    },
    {
     "name": "stderr",
     "output_type": "stream",
     "text": [
      "Child returned 0\n",
      "2.24 seconds.\n"
     ]
    },
    {
     "name": "stdout",
     "output_type": "stream",
     "text": [
      "aws s3 cp /shared/CSHL_patch_features/inception-bn-blue/MD652/MD652-F33-2016.12.17-01.41.02_MD652_1_0097_lossless_alignedTo_MD652-F45-2016.12.17-05.56.31_MD652_2_0134_cropped/MD652-F33-2016.12.17-01.41.02_MD652_1_0097_lossless_alignedTo_MD652-F45-2016.12.17-05.56.31_MD652_2_0134_cropped_patch_locations.txt s3://mousebrainatlas-data/CSHL_patch_features/inception-bn-blue/MD652/MD652-F33-2016.12.17-01.41.02_MD652_1_0097_lossless_alignedTo_MD652-F45-2016.12.17-05.56.31_MD652_2_0134_cropped/MD652-F33-2016.12.17-01.41.02_MD652_1_0097_lossless_alignedTo_MD652-F45-2016.12.17-05.56.31_MD652_2_0134_cropped_patch_locations.txt\n"
     ]
    },
    {
     "name": "stderr",
     "output_type": "stream",
     "text": [
      "Child returned 0\n",
      "0.77 seconds.\n",
      "save: 4.09 seconds\n",
      "\n",
      "Section 181.\n",
      "locate patches: 0.02 seconds\n",
      "53843 samples.\n",
      "load image: 0.27 seconds\n",
      "extract patches: 5.14 seconds\n",
      "predict: 30.84 seconds\n"
     ]
    },
    {
     "name": "stdout",
     "output_type": "stream",
     "text": [
      "aws s3 cp /shared/CSHL_patch_features/inception-bn-blue/MD652/MD652-N33-2016.12.16-07.20.49_MD652_2_0098_lossless_alignedTo_MD652-F45-2016.12.17-05.56.31_MD652_2_0134_cropped/MD652-N33-2016.12.16-07.20.49_MD652_2_0098_lossless_alignedTo_MD652-F45-2016.12.17-05.56.31_MD652_2_0134_cropped_features.bp s3://mousebrainatlas-data/CSHL_patch_features/inception-bn-blue/MD652/MD652-N33-2016.12.16-07.20.49_MD652_2_0098_lossless_alignedTo_MD652-F45-2016.12.17-05.56.31_MD652_2_0134_cropped/MD652-N33-2016.12.16-07.20.49_MD652_2_0098_lossless_alignedTo_MD652-F45-2016.12.17-05.56.31_MD652_2_0134_cropped_features.bp\n"
     ]
    },
    {
     "name": "stderr",
     "output_type": "stream",
     "text": [
      "Child returned 0\n",
      "2.47 seconds.\n"
     ]
    },
    {
     "name": "stdout",
     "output_type": "stream",
     "text": [
      "aws s3 cp /shared/CSHL_patch_features/inception-bn-blue/MD652/MD652-N33-2016.12.16-07.20.49_MD652_2_0098_lossless_alignedTo_MD652-F45-2016.12.17-05.56.31_MD652_2_0134_cropped/MD652-N33-2016.12.16-07.20.49_MD652_2_0098_lossless_alignedTo_MD652-F45-2016.12.17-05.56.31_MD652_2_0134_cropped_patch_locations.txt s3://mousebrainatlas-data/CSHL_patch_features/inception-bn-blue/MD652/MD652-N33-2016.12.16-07.20.49_MD652_2_0098_lossless_alignedTo_MD652-F45-2016.12.17-05.56.31_MD652_2_0134_cropped/MD652-N33-2016.12.16-07.20.49_MD652_2_0098_lossless_alignedTo_MD652-F45-2016.12.17-05.56.31_MD652_2_0134_cropped_patch_locations.txt\n"
     ]
    },
    {
     "name": "stderr",
     "output_type": "stream",
     "text": [
      "Child returned 0\n",
      "1.88 seconds.\n",
      "save: 5.36 seconds\n",
      "\n",
      "Section 182.\n",
      "locate patches: 0.02 seconds\n",
      "56821 samples.\n",
      "load image: 0.28 seconds\n",
      "extract patches: 5.52 seconds\n",
      "predict: 44.79 seconds\n"
     ]
    },
    {
     "name": "stdout",
     "output_type": "stream",
     "text": [
      "aws s3 cp /shared/CSHL_patch_features/inception-bn-blue/MD652/MD652-F33-2016.12.17-01.41.02_MD652_2_0098_lossless_alignedTo_MD652-F45-2016.12.17-05.56.31_MD652_2_0134_cropped/MD652-F33-2016.12.17-01.41.02_MD652_2_0098_lossless_alignedTo_MD652-F45-2016.12.17-05.56.31_MD652_2_0134_cropped_features.bp s3://mousebrainatlas-data/CSHL_patch_features/inception-bn-blue/MD652/MD652-F33-2016.12.17-01.41.02_MD652_2_0098_lossless_alignedTo_MD652-F45-2016.12.17-05.56.31_MD652_2_0134_cropped/MD652-F33-2016.12.17-01.41.02_MD652_2_0098_lossless_alignedTo_MD652-F45-2016.12.17-05.56.31_MD652_2_0134_cropped_features.bp\n"
     ]
    },
    {
     "name": "stderr",
     "output_type": "stream",
     "text": [
      "Child returned 0\n",
      "2.14 seconds.\n"
     ]
    },
    {
     "name": "stdout",
     "output_type": "stream",
     "text": [
      "aws s3 cp /shared/CSHL_patch_features/inception-bn-blue/MD652/MD652-F33-2016.12.17-01.41.02_MD652_2_0098_lossless_alignedTo_MD652-F45-2016.12.17-05.56.31_MD652_2_0134_cropped/MD652-F33-2016.12.17-01.41.02_MD652_2_0098_lossless_alignedTo_MD652-F45-2016.12.17-05.56.31_MD652_2_0134_cropped_patch_locations.txt s3://mousebrainatlas-data/CSHL_patch_features/inception-bn-blue/MD652/MD652-F33-2016.12.17-01.41.02_MD652_2_0098_lossless_alignedTo_MD652-F45-2016.12.17-05.56.31_MD652_2_0134_cropped/MD652-F33-2016.12.17-01.41.02_MD652_2_0098_lossless_alignedTo_MD652-F45-2016.12.17-05.56.31_MD652_2_0134_cropped_patch_locations.txt\n"
     ]
    },
    {
     "name": "stderr",
     "output_type": "stream",
     "text": [
      "Child returned 0\n",
      "0.83 seconds.\n",
      "save: 4.05 seconds\n",
      "\n",
      "Section 183.\n",
      "locate patches: 0.02 seconds\n",
      "54995 samples.\n",
      "load image: 0.28 seconds\n",
      "extract patches: 5.35 seconds\n",
      "predict: 31.38 seconds\n"
     ]
    },
    {
     "name": "stdout",
     "output_type": "stream",
     "text": [
      "aws s3 cp /shared/CSHL_patch_features/inception-bn-blue/MD652/MD652-N34-2016.12.16-07.25.09_MD652_1_0100_lossless_alignedTo_MD652-F45-2016.12.17-05.56.31_MD652_2_0134_cropped/MD652-N34-2016.12.16-07.25.09_MD652_1_0100_lossless_alignedTo_MD652-F45-2016.12.17-05.56.31_MD652_2_0134_cropped_features.bp s3://mousebrainatlas-data/CSHL_patch_features/inception-bn-blue/MD652/MD652-N34-2016.12.16-07.25.09_MD652_1_0100_lossless_alignedTo_MD652-F45-2016.12.17-05.56.31_MD652_2_0134_cropped/MD652-N34-2016.12.16-07.25.09_MD652_1_0100_lossless_alignedTo_MD652-F45-2016.12.17-05.56.31_MD652_2_0134_cropped_features.bp\n"
     ]
    },
    {
     "name": "stderr",
     "output_type": "stream",
     "text": [
      "Child returned 0\n",
      "2.22 seconds.\n"
     ]
    },
    {
     "name": "stdout",
     "output_type": "stream",
     "text": [
      "aws s3 cp /shared/CSHL_patch_features/inception-bn-blue/MD652/MD652-N34-2016.12.16-07.25.09_MD652_1_0100_lossless_alignedTo_MD652-F45-2016.12.17-05.56.31_MD652_2_0134_cropped/MD652-N34-2016.12.16-07.25.09_MD652_1_0100_lossless_alignedTo_MD652-F45-2016.12.17-05.56.31_MD652_2_0134_cropped_patch_locations.txt s3://mousebrainatlas-data/CSHL_patch_features/inception-bn-blue/MD652/MD652-N34-2016.12.16-07.25.09_MD652_1_0100_lossless_alignedTo_MD652-F45-2016.12.17-05.56.31_MD652_2_0134_cropped/MD652-N34-2016.12.16-07.25.09_MD652_1_0100_lossless_alignedTo_MD652-F45-2016.12.17-05.56.31_MD652_2_0134_cropped_patch_locations.txt\n"
     ]
    },
    {
     "name": "stderr",
     "output_type": "stream",
     "text": [
      "Child returned 0\n",
      "0.77 seconds.\n",
      "save: 4.02 seconds\n",
      "\n",
      "Section 184.\n",
      "locate patches: 0.02 seconds\n",
      "57145 samples.\n",
      "load image: 0.27 seconds\n",
      "extract patches: 5.48 seconds\n",
      "predict: 48.43 seconds\n"
     ]
    },
    {
     "name": "stdout",
     "output_type": "stream",
     "text": [
      "aws s3 cp /shared/CSHL_patch_features/inception-bn-blue/MD652/MD652-F34-2016.12.17-02.01.21_MD652_1_0100_lossless_alignedTo_MD652-F45-2016.12.17-05.56.31_MD652_2_0134_cropped/MD652-F34-2016.12.17-02.01.21_MD652_1_0100_lossless_alignedTo_MD652-F45-2016.12.17-05.56.31_MD652_2_0134_cropped_features.bp s3://mousebrainatlas-data/CSHL_patch_features/inception-bn-blue/MD652/MD652-F34-2016.12.17-02.01.21_MD652_1_0100_lossless_alignedTo_MD652-F45-2016.12.17-05.56.31_MD652_2_0134_cropped/MD652-F34-2016.12.17-02.01.21_MD652_1_0100_lossless_alignedTo_MD652-F45-2016.12.17-05.56.31_MD652_2_0134_cropped_features.bp\n"
     ]
    },
    {
     "name": "stderr",
     "output_type": "stream",
     "text": [
      "Child returned 0\n",
      "2.40 seconds.\n"
     ]
    },
    {
     "name": "stdout",
     "output_type": "stream",
     "text": [
      "aws s3 cp /shared/CSHL_patch_features/inception-bn-blue/MD652/MD652-F34-2016.12.17-02.01.21_MD652_1_0100_lossless_alignedTo_MD652-F45-2016.12.17-05.56.31_MD652_2_0134_cropped/MD652-F34-2016.12.17-02.01.21_MD652_1_0100_lossless_alignedTo_MD652-F45-2016.12.17-05.56.31_MD652_2_0134_cropped_patch_locations.txt s3://mousebrainatlas-data/CSHL_patch_features/inception-bn-blue/MD652/MD652-F34-2016.12.17-02.01.21_MD652_1_0100_lossless_alignedTo_MD652-F45-2016.12.17-05.56.31_MD652_2_0134_cropped/MD652-F34-2016.12.17-02.01.21_MD652_1_0100_lossless_alignedTo_MD652-F45-2016.12.17-05.56.31_MD652_2_0134_cropped_patch_locations.txt\n"
     ]
    },
    {
     "name": "stderr",
     "output_type": "stream",
     "text": [
      "Child returned 0\n",
      "0.89 seconds.\n",
      "save: 4.37 seconds\n",
      "\n",
      "Section 185.\n",
      "locate patches: 0.02 seconds\n",
      "55499 samples.\n",
      "load image: 0.27 seconds\n",
      "extract patches: 5.30 seconds\n",
      "predict: 31.98 seconds\n"
     ]
    },
    {
     "name": "stdout",
     "output_type": "stream",
     "text": [
      "aws s3 cp /shared/CSHL_patch_features/inception-bn-blue/MD652/MD652-N34-2016.12.16-07.25.09_MD652_2_0101_lossless_alignedTo_MD652-F45-2016.12.17-05.56.31_MD652_2_0134_cropped/MD652-N34-2016.12.16-07.25.09_MD652_2_0101_lossless_alignedTo_MD652-F45-2016.12.17-05.56.31_MD652_2_0134_cropped_features.bp s3://mousebrainatlas-data/CSHL_patch_features/inception-bn-blue/MD652/MD652-N34-2016.12.16-07.25.09_MD652_2_0101_lossless_alignedTo_MD652-F45-2016.12.17-05.56.31_MD652_2_0134_cropped/MD652-N34-2016.12.16-07.25.09_MD652_2_0101_lossless_alignedTo_MD652-F45-2016.12.17-05.56.31_MD652_2_0134_cropped_features.bp\n"
     ]
    },
    {
     "name": "stderr",
     "output_type": "stream",
     "text": [
      "Child returned 0\n",
      "2.21 seconds.\n"
     ]
    },
    {
     "name": "stdout",
     "output_type": "stream",
     "text": [
      "aws s3 cp /shared/CSHL_patch_features/inception-bn-blue/MD652/MD652-N34-2016.12.16-07.25.09_MD652_2_0101_lossless_alignedTo_MD652-F45-2016.12.17-05.56.31_MD652_2_0134_cropped/MD652-N34-2016.12.16-07.25.09_MD652_2_0101_lossless_alignedTo_MD652-F45-2016.12.17-05.56.31_MD652_2_0134_cropped_patch_locations.txt s3://mousebrainatlas-data/CSHL_patch_features/inception-bn-blue/MD652/MD652-N34-2016.12.16-07.25.09_MD652_2_0101_lossless_alignedTo_MD652-F45-2016.12.17-05.56.31_MD652_2_0134_cropped/MD652-N34-2016.12.16-07.25.09_MD652_2_0101_lossless_alignedTo_MD652-F45-2016.12.17-05.56.31_MD652_2_0134_cropped_patch_locations.txt\n"
     ]
    },
    {
     "name": "stderr",
     "output_type": "stream",
     "text": [
      "Child returned 0\n",
      "0.82 seconds.\n",
      "save: 3.62 seconds\n",
      "\n",
      "Section 186.\n",
      "locate patches: 0.02 seconds\n",
      "56294 samples.\n",
      "load image: 0.27 seconds\n",
      "extract patches: 5.38 seconds\n",
      "predict: 39.07 seconds\n"
     ]
    },
    {
     "name": "stdout",
     "output_type": "stream",
     "text": [
      "aws s3 cp /shared/CSHL_patch_features/inception-bn-blue/MD652/MD652-F34-2016.12.17-02.01.21_MD652_2_0101_lossless_alignedTo_MD652-F45-2016.12.17-05.56.31_MD652_2_0134_cropped/MD652-F34-2016.12.17-02.01.21_MD652_2_0101_lossless_alignedTo_MD652-F45-2016.12.17-05.56.31_MD652_2_0134_cropped_features.bp s3://mousebrainatlas-data/CSHL_patch_features/inception-bn-blue/MD652/MD652-F34-2016.12.17-02.01.21_MD652_2_0101_lossless_alignedTo_MD652-F45-2016.12.17-05.56.31_MD652_2_0134_cropped/MD652-F34-2016.12.17-02.01.21_MD652_2_0101_lossless_alignedTo_MD652-F45-2016.12.17-05.56.31_MD652_2_0134_cropped_features.bp\n"
     ]
    },
    {
     "name": "stderr",
     "output_type": "stream",
     "text": [
      "Child returned 0\n",
      "2.46 seconds.\n"
     ]
    },
    {
     "name": "stdout",
     "output_type": "stream",
     "text": [
      "aws s3 cp /shared/CSHL_patch_features/inception-bn-blue/MD652/MD652-F34-2016.12.17-02.01.21_MD652_2_0101_lossless_alignedTo_MD652-F45-2016.12.17-05.56.31_MD652_2_0134_cropped/MD652-F34-2016.12.17-02.01.21_MD652_2_0101_lossless_alignedTo_MD652-F45-2016.12.17-05.56.31_MD652_2_0134_cropped_patch_locations.txt s3://mousebrainatlas-data/CSHL_patch_features/inception-bn-blue/MD652/MD652-F34-2016.12.17-02.01.21_MD652_2_0101_lossless_alignedTo_MD652-F45-2016.12.17-05.56.31_MD652_2_0134_cropped/MD652-F34-2016.12.17-02.01.21_MD652_2_0101_lossless_alignedTo_MD652-F45-2016.12.17-05.56.31_MD652_2_0134_cropped_patch_locations.txt\n"
     ]
    },
    {
     "name": "stderr",
     "output_type": "stream",
     "text": [
      "Child returned 0\n",
      "0.83 seconds.\n",
      "save: 4.35 seconds\n",
      "\n",
      "Section 187.\n",
      "locate patches: 0.02 seconds\n",
      "54839 samples.\n",
      "load image: 0.27 seconds\n",
      "extract patches: 5.24 seconds\n",
      "predict: 31.45 seconds\n"
     ]
    },
    {
     "name": "stdout",
     "output_type": "stream",
     "text": [
      "aws s3 cp /shared/CSHL_patch_features/inception-bn-blue/MD652/MD652-N35-2016.12.16-07.29.35_MD652_1_0103_lossless_alignedTo_MD652-F45-2016.12.17-05.56.31_MD652_2_0134_cropped/MD652-N35-2016.12.16-07.29.35_MD652_1_0103_lossless_alignedTo_MD652-F45-2016.12.17-05.56.31_MD652_2_0134_cropped_features.bp s3://mousebrainatlas-data/CSHL_patch_features/inception-bn-blue/MD652/MD652-N35-2016.12.16-07.29.35_MD652_1_0103_lossless_alignedTo_MD652-F45-2016.12.17-05.56.31_MD652_2_0134_cropped/MD652-N35-2016.12.16-07.29.35_MD652_1_0103_lossless_alignedTo_MD652-F45-2016.12.17-05.56.31_MD652_2_0134_cropped_features.bp\n"
     ]
    },
    {
     "name": "stderr",
     "output_type": "stream",
     "text": [
      "Child returned 0\n",
      "2.38 seconds.\n"
     ]
    },
    {
     "name": "stdout",
     "output_type": "stream",
     "text": [
      "aws s3 cp /shared/CSHL_patch_features/inception-bn-blue/MD652/MD652-N35-2016.12.16-07.29.35_MD652_1_0103_lossless_alignedTo_MD652-F45-2016.12.17-05.56.31_MD652_2_0134_cropped/MD652-N35-2016.12.16-07.29.35_MD652_1_0103_lossless_alignedTo_MD652-F45-2016.12.17-05.56.31_MD652_2_0134_cropped_patch_locations.txt s3://mousebrainatlas-data/CSHL_patch_features/inception-bn-blue/MD652/MD652-N35-2016.12.16-07.29.35_MD652_1_0103_lossless_alignedTo_MD652-F45-2016.12.17-05.56.31_MD652_2_0134_cropped/MD652-N35-2016.12.16-07.29.35_MD652_1_0103_lossless_alignedTo_MD652-F45-2016.12.17-05.56.31_MD652_2_0134_cropped_patch_locations.txt\n"
     ]
    },
    {
     "name": "stderr",
     "output_type": "stream",
     "text": [
      "Child returned 0\n",
      "0.87 seconds.\n",
      "save: 4.28 seconds\n",
      "\n",
      "Section 188.\n",
      "locate patches: 0.02 seconds\n",
      "56549 samples.\n",
      "load image: 0.27 seconds\n",
      "extract patches: 5.42 seconds\n",
      "predict: 42.40 seconds\n"
     ]
    },
    {
     "name": "stdout",
     "output_type": "stream",
     "text": [
      "aws s3 cp /shared/CSHL_patch_features/inception-bn-blue/MD652/MD652-F35-2016.12.17-02.22.15_MD652_1_0103_lossless_alignedTo_MD652-F45-2016.12.17-05.56.31_MD652_2_0134_cropped/MD652-F35-2016.12.17-02.22.15_MD652_1_0103_lossless_alignedTo_MD652-F45-2016.12.17-05.56.31_MD652_2_0134_cropped_features.bp s3://mousebrainatlas-data/CSHL_patch_features/inception-bn-blue/MD652/MD652-F35-2016.12.17-02.22.15_MD652_1_0103_lossless_alignedTo_MD652-F45-2016.12.17-05.56.31_MD652_2_0134_cropped/MD652-F35-2016.12.17-02.22.15_MD652_1_0103_lossless_alignedTo_MD652-F45-2016.12.17-05.56.31_MD652_2_0134_cropped_features.bp\n"
     ]
    },
    {
     "name": "stderr",
     "output_type": "stream",
     "text": [
      "Child returned 0\n",
      "2.47 seconds.\n"
     ]
    },
    {
     "name": "stdout",
     "output_type": "stream",
     "text": [
      "aws s3 cp /shared/CSHL_patch_features/inception-bn-blue/MD652/MD652-F35-2016.12.17-02.22.15_MD652_1_0103_lossless_alignedTo_MD652-F45-2016.12.17-05.56.31_MD652_2_0134_cropped/MD652-F35-2016.12.17-02.22.15_MD652_1_0103_lossless_alignedTo_MD652-F45-2016.12.17-05.56.31_MD652_2_0134_cropped_patch_locations.txt s3://mousebrainatlas-data/CSHL_patch_features/inception-bn-blue/MD652/MD652-F35-2016.12.17-02.22.15_MD652_1_0103_lossless_alignedTo_MD652-F45-2016.12.17-05.56.31_MD652_2_0134_cropped/MD652-F35-2016.12.17-02.22.15_MD652_1_0103_lossless_alignedTo_MD652-F45-2016.12.17-05.56.31_MD652_2_0134_cropped_patch_locations.txt\n"
     ]
    },
    {
     "name": "stderr",
     "output_type": "stream",
     "text": [
      "Child returned 0\n",
      "0.88 seconds.\n",
      "save: 4.42 seconds\n",
      "\n",
      "Section 189.\n",
      "locate patches: 0.02 seconds\n",
      "55191 samples.\n",
      "load image: 0.27 seconds\n",
      "extract patches: 5.28 seconds\n",
      "predict: 31.41 seconds\n"
     ]
    },
    {
     "name": "stdout",
     "output_type": "stream",
     "text": [
      "aws s3 cp /shared/CSHL_patch_features/inception-bn-blue/MD652/MD652-N35-2016.12.16-07.29.35_MD652_2_0104_lossless_alignedTo_MD652-F45-2016.12.17-05.56.31_MD652_2_0134_cropped/MD652-N35-2016.12.16-07.29.35_MD652_2_0104_lossless_alignedTo_MD652-F45-2016.12.17-05.56.31_MD652_2_0134_cropped_features.bp s3://mousebrainatlas-data/CSHL_patch_features/inception-bn-blue/MD652/MD652-N35-2016.12.16-07.29.35_MD652_2_0104_lossless_alignedTo_MD652-F45-2016.12.17-05.56.31_MD652_2_0134_cropped/MD652-N35-2016.12.16-07.29.35_MD652_2_0104_lossless_alignedTo_MD652-F45-2016.12.17-05.56.31_MD652_2_0134_cropped_features.bp\n"
     ]
    },
    {
     "name": "stderr",
     "output_type": "stream",
     "text": [
      "Child returned 0\n",
      "2.26 seconds.\n"
     ]
    },
    {
     "name": "stdout",
     "output_type": "stream",
     "text": [
      "aws s3 cp /shared/CSHL_patch_features/inception-bn-blue/MD652/MD652-N35-2016.12.16-07.29.35_MD652_2_0104_lossless_alignedTo_MD652-F45-2016.12.17-05.56.31_MD652_2_0134_cropped/MD652-N35-2016.12.16-07.29.35_MD652_2_0104_lossless_alignedTo_MD652-F45-2016.12.17-05.56.31_MD652_2_0134_cropped_patch_locations.txt s3://mousebrainatlas-data/CSHL_patch_features/inception-bn-blue/MD652/MD652-N35-2016.12.16-07.29.35_MD652_2_0104_lossless_alignedTo_MD652-F45-2016.12.17-05.56.31_MD652_2_0134_cropped/MD652-N35-2016.12.16-07.29.35_MD652_2_0104_lossless_alignedTo_MD652-F45-2016.12.17-05.56.31_MD652_2_0134_cropped_patch_locations.txt\n"
     ]
    },
    {
     "name": "stderr",
     "output_type": "stream",
     "text": [
      "Child returned 0\n",
      "0.77 seconds.\n",
      "save: 4.07 seconds\n",
      "\n",
      "Section 190.\n",
      "locate patches: 0.02 seconds\n",
      "58624 samples.\n",
      "load image: 0.27 seconds\n",
      "extract patches: 5.60 seconds\n",
      "predict: 66.49 seconds\n"
     ]
    },
    {
     "name": "stdout",
     "output_type": "stream",
     "text": [
      "aws s3 cp /shared/CSHL_patch_features/inception-bn-blue/MD652/MD652-F35-2016.12.17-02.22.15_MD652_2_0104_lossless_alignedTo_MD652-F45-2016.12.17-05.56.31_MD652_2_0134_cropped/MD652-F35-2016.12.17-02.22.15_MD652_2_0104_lossless_alignedTo_MD652-F45-2016.12.17-05.56.31_MD652_2_0134_cropped_features.bp s3://mousebrainatlas-data/CSHL_patch_features/inception-bn-blue/MD652/MD652-F35-2016.12.17-02.22.15_MD652_2_0104_lossless_alignedTo_MD652-F45-2016.12.17-05.56.31_MD652_2_0134_cropped/MD652-F35-2016.12.17-02.22.15_MD652_2_0104_lossless_alignedTo_MD652-F45-2016.12.17-05.56.31_MD652_2_0134_cropped_features.bp\n"
     ]
    },
    {
     "name": "stderr",
     "output_type": "stream",
     "text": [
      "Child returned 0\n",
      "2.30 seconds.\n"
     ]
    },
    {
     "name": "stdout",
     "output_type": "stream",
     "text": [
      "aws s3 cp /shared/CSHL_patch_features/inception-bn-blue/MD652/MD652-F35-2016.12.17-02.22.15_MD652_2_0104_lossless_alignedTo_MD652-F45-2016.12.17-05.56.31_MD652_2_0134_cropped/MD652-F35-2016.12.17-02.22.15_MD652_2_0104_lossless_alignedTo_MD652-F45-2016.12.17-05.56.31_MD652_2_0134_cropped_patch_locations.txt s3://mousebrainatlas-data/CSHL_patch_features/inception-bn-blue/MD652/MD652-F35-2016.12.17-02.22.15_MD652_2_0104_lossless_alignedTo_MD652-F45-2016.12.17-05.56.31_MD652_2_0134_cropped/MD652-F35-2016.12.17-02.22.15_MD652_2_0104_lossless_alignedTo_MD652-F45-2016.12.17-05.56.31_MD652_2_0134_cropped_patch_locations.txt\n"
     ]
    },
    {
     "name": "stderr",
     "output_type": "stream",
     "text": [
      "Child returned 0\n",
      "0.78 seconds.\n",
      "save: 4.19 seconds\n",
      "\n",
      "Section 191.\n",
      "locate patches: 0.02 seconds\n",
      "56493 samples.\n",
      "load image: 0.27 seconds\n",
      "extract patches: 6.32 seconds\n",
      "predict: 35.08 seconds\n"
     ]
    },
    {
     "name": "stdout",
     "output_type": "stream",
     "text": [
      "aws s3 cp /shared/CSHL_patch_features/inception-bn-blue/MD652/MD652-N36-2016.12.16-07.34.00_MD652_1_0106_lossless_alignedTo_MD652-F45-2016.12.17-05.56.31_MD652_2_0134_cropped/MD652-N36-2016.12.16-07.34.00_MD652_1_0106_lossless_alignedTo_MD652-F45-2016.12.17-05.56.31_MD652_2_0134_cropped_features.bp s3://mousebrainatlas-data/CSHL_patch_features/inception-bn-blue/MD652/MD652-N36-2016.12.16-07.34.00_MD652_1_0106_lossless_alignedTo_MD652-F45-2016.12.17-05.56.31_MD652_2_0134_cropped/MD652-N36-2016.12.16-07.34.00_MD652_1_0106_lossless_alignedTo_MD652-F45-2016.12.17-05.56.31_MD652_2_0134_cropped_features.bp\n"
     ]
    },
    {
     "name": "stderr",
     "output_type": "stream",
     "text": [
      "Child returned 0\n",
      "2.26 seconds.\n"
     ]
    },
    {
     "name": "stdout",
     "output_type": "stream",
     "text": [
      "aws s3 cp /shared/CSHL_patch_features/inception-bn-blue/MD652/MD652-N36-2016.12.16-07.34.00_MD652_1_0106_lossless_alignedTo_MD652-F45-2016.12.17-05.56.31_MD652_2_0134_cropped/MD652-N36-2016.12.16-07.34.00_MD652_1_0106_lossless_alignedTo_MD652-F45-2016.12.17-05.56.31_MD652_2_0134_cropped_patch_locations.txt s3://mousebrainatlas-data/CSHL_patch_features/inception-bn-blue/MD652/MD652-N36-2016.12.16-07.34.00_MD652_1_0106_lossless_alignedTo_MD652-F45-2016.12.17-05.56.31_MD652_2_0134_cropped/MD652-N36-2016.12.16-07.34.00_MD652_1_0106_lossless_alignedTo_MD652-F45-2016.12.17-05.56.31_MD652_2_0134_cropped_patch_locations.txt\n"
     ]
    },
    {
     "name": "stderr",
     "output_type": "stream",
     "text": [
      "Child returned 0\n",
      "0.83 seconds.\n",
      "save: 4.14 seconds\n",
      "\n",
      "Section 192.\n",
      "locate patches: 0.02 seconds\n",
      "56729 samples.\n",
      "load image: 0.27 seconds\n",
      "extract patches: 6.36 seconds\n",
      "predict: 38.25 seconds\n"
     ]
    },
    {
     "name": "stdout",
     "output_type": "stream",
     "text": [
      "aws s3 cp /shared/CSHL_patch_features/inception-bn-blue/MD652/MD652-F36-2016.12.17-02.42.25_MD652_1_0106_lossless_alignedTo_MD652-F45-2016.12.17-05.56.31_MD652_2_0134_cropped/MD652-F36-2016.12.17-02.42.25_MD652_1_0106_lossless_alignedTo_MD652-F45-2016.12.17-05.56.31_MD652_2_0134_cropped_features.bp s3://mousebrainatlas-data/CSHL_patch_features/inception-bn-blue/MD652/MD652-F36-2016.12.17-02.42.25_MD652_1_0106_lossless_alignedTo_MD652-F45-2016.12.17-05.56.31_MD652_2_0134_cropped/MD652-F36-2016.12.17-02.42.25_MD652_1_0106_lossless_alignedTo_MD652-F45-2016.12.17-05.56.31_MD652_2_0134_cropped_features.bp\n"
     ]
    },
    {
     "name": "stderr",
     "output_type": "stream",
     "text": [
      "Child returned 0\n",
      "2.43 seconds.\n"
     ]
    },
    {
     "name": "stdout",
     "output_type": "stream",
     "text": [
      "aws s3 cp /shared/CSHL_patch_features/inception-bn-blue/MD652/MD652-F36-2016.12.17-02.42.25_MD652_1_0106_lossless_alignedTo_MD652-F45-2016.12.17-05.56.31_MD652_2_0134_cropped/MD652-F36-2016.12.17-02.42.25_MD652_1_0106_lossless_alignedTo_MD652-F45-2016.12.17-05.56.31_MD652_2_0134_cropped_patch_locations.txt s3://mousebrainatlas-data/CSHL_patch_features/inception-bn-blue/MD652/MD652-F36-2016.12.17-02.42.25_MD652_1_0106_lossless_alignedTo_MD652-F45-2016.12.17-05.56.31_MD652_2_0134_cropped/MD652-F36-2016.12.17-02.42.25_MD652_1_0106_lossless_alignedTo_MD652-F45-2016.12.17-05.56.31_MD652_2_0134_cropped_patch_locations.txt\n"
     ]
    },
    {
     "name": "stderr",
     "output_type": "stream",
     "text": [
      "Child returned 0\n",
      "0.83 seconds.\n",
      "save: 4.33 seconds\n",
      "\n",
      "Section 193.\n",
      "locate patches: 0.02 seconds\n",
      "56981 samples.\n",
      "load image: 0.27 seconds\n",
      "extract patches: 6.37 seconds\n",
      "predict: 41.01 seconds\n"
     ]
    },
    {
     "name": "stdout",
     "output_type": "stream",
     "text": [
      "aws s3 cp /shared/CSHL_patch_features/inception-bn-blue/MD652/MD652-N36-2016.12.16-07.34.00_MD652_2_0107_lossless_alignedTo_MD652-F45-2016.12.17-05.56.31_MD652_2_0134_cropped/MD652-N36-2016.12.16-07.34.00_MD652_2_0107_lossless_alignedTo_MD652-F45-2016.12.17-05.56.31_MD652_2_0134_cropped_features.bp s3://mousebrainatlas-data/CSHL_patch_features/inception-bn-blue/MD652/MD652-N36-2016.12.16-07.34.00_MD652_2_0107_lossless_alignedTo_MD652-F45-2016.12.17-05.56.31_MD652_2_0134_cropped/MD652-N36-2016.12.16-07.34.00_MD652_2_0107_lossless_alignedTo_MD652-F45-2016.12.17-05.56.31_MD652_2_0134_cropped_features.bp\n"
     ]
    },
    {
     "name": "stderr",
     "output_type": "stream",
     "text": [
      "Child returned 0\n",
      "3.25 seconds.\n"
     ]
    },
    {
     "name": "stdout",
     "output_type": "stream",
     "text": [
      "aws s3 cp /shared/CSHL_patch_features/inception-bn-blue/MD652/MD652-N36-2016.12.16-07.34.00_MD652_2_0107_lossless_alignedTo_MD652-F45-2016.12.17-05.56.31_MD652_2_0134_cropped/MD652-N36-2016.12.16-07.34.00_MD652_2_0107_lossless_alignedTo_MD652-F45-2016.12.17-05.56.31_MD652_2_0134_cropped_patch_locations.txt s3://mousebrainatlas-data/CSHL_patch_features/inception-bn-blue/MD652/MD652-N36-2016.12.16-07.34.00_MD652_2_0107_lossless_alignedTo_MD652-F45-2016.12.17-05.56.31_MD652_2_0134_cropped/MD652-N36-2016.12.16-07.34.00_MD652_2_0107_lossless_alignedTo_MD652-F45-2016.12.17-05.56.31_MD652_2_0134_cropped_patch_locations.txt\n"
     ]
    },
    {
     "name": "stderr",
     "output_type": "stream",
     "text": [
      "Child returned 0\n",
      "0.84 seconds.\n",
      "save: 5.16 seconds\n",
      "\n",
      "Section 194.\n",
      "locate patches: 0.02 seconds\n",
      "60797 samples.\n",
      "load image: 0.27 seconds\n",
      "extract patches: 5.78 seconds\n",
      "predict: 96.73 seconds\n"
     ]
    },
    {
     "name": "stdout",
     "output_type": "stream",
     "text": [
      "aws s3 cp /shared/CSHL_patch_features/inception-bn-blue/MD652/MD652-F36-2016.12.17-02.42.25_MD652_2_0107_lossless_alignedTo_MD652-F45-2016.12.17-05.56.31_MD652_2_0134_cropped/MD652-F36-2016.12.17-02.42.25_MD652_2_0107_lossless_alignedTo_MD652-F45-2016.12.17-05.56.31_MD652_2_0134_cropped_features.bp s3://mousebrainatlas-data/CSHL_patch_features/inception-bn-blue/MD652/MD652-F36-2016.12.17-02.42.25_MD652_2_0107_lossless_alignedTo_MD652-F45-2016.12.17-05.56.31_MD652_2_0134_cropped/MD652-F36-2016.12.17-02.42.25_MD652_2_0107_lossless_alignedTo_MD652-F45-2016.12.17-05.56.31_MD652_2_0134_cropped_features.bp\n"
     ]
    },
    {
     "name": "stderr",
     "output_type": "stream",
     "text": [
      "Child returned 0\n",
      "2.66 seconds.\n"
     ]
    },
    {
     "name": "stdout",
     "output_type": "stream",
     "text": [
      "aws s3 cp /shared/CSHL_patch_features/inception-bn-blue/MD652/MD652-F36-2016.12.17-02.42.25_MD652_2_0107_lossless_alignedTo_MD652-F45-2016.12.17-05.56.31_MD652_2_0134_cropped/MD652-F36-2016.12.17-02.42.25_MD652_2_0107_lossless_alignedTo_MD652-F45-2016.12.17-05.56.31_MD652_2_0134_cropped_patch_locations.txt s3://mousebrainatlas-data/CSHL_patch_features/inception-bn-blue/MD652/MD652-F36-2016.12.17-02.42.25_MD652_2_0107_lossless_alignedTo_MD652-F45-2016.12.17-05.56.31_MD652_2_0134_cropped/MD652-F36-2016.12.17-02.42.25_MD652_2_0107_lossless_alignedTo_MD652-F45-2016.12.17-05.56.31_MD652_2_0134_cropped_patch_locations.txt\n"
     ]
    },
    {
     "name": "stderr",
     "output_type": "stream",
     "text": [
      "Child returned 0\n",
      "0.84 seconds.\n",
      "save: 4.64 seconds\n",
      "\n",
      "Section 195.\n",
      "locate patches: 0.02 seconds\n",
      "58468 samples.\n",
      "load image: 0.27 seconds\n",
      "extract patches: 5.57 seconds\n",
      "predict: 68.46 seconds\n"
     ]
    },
    {
     "name": "stdout",
     "output_type": "stream",
     "text": [
      "aws s3 cp /shared/CSHL_patch_features/inception-bn-blue/MD652/MD652-N37-2016.12.16-07.38.28_MD652_1_0109_lossless_alignedTo_MD652-F45-2016.12.17-05.56.31_MD652_2_0134_cropped/MD652-N37-2016.12.16-07.38.28_MD652_1_0109_lossless_alignedTo_MD652-F45-2016.12.17-05.56.31_MD652_2_0134_cropped_features.bp s3://mousebrainatlas-data/CSHL_patch_features/inception-bn-blue/MD652/MD652-N37-2016.12.16-07.38.28_MD652_1_0109_lossless_alignedTo_MD652-F45-2016.12.17-05.56.31_MD652_2_0134_cropped/MD652-N37-2016.12.16-07.38.28_MD652_1_0109_lossless_alignedTo_MD652-F45-2016.12.17-05.56.31_MD652_2_0134_cropped_features.bp\n"
     ]
    },
    {
     "name": "stderr",
     "output_type": "stream",
     "text": [
      "Child returned 0\n",
      "2.43 seconds.\n"
     ]
    },
    {
     "name": "stdout",
     "output_type": "stream",
     "text": [
      "aws s3 cp /shared/CSHL_patch_features/inception-bn-blue/MD652/MD652-N37-2016.12.16-07.38.28_MD652_1_0109_lossless_alignedTo_MD652-F45-2016.12.17-05.56.31_MD652_2_0134_cropped/MD652-N37-2016.12.16-07.38.28_MD652_1_0109_lossless_alignedTo_MD652-F45-2016.12.17-05.56.31_MD652_2_0134_cropped_patch_locations.txt s3://mousebrainatlas-data/CSHL_patch_features/inception-bn-blue/MD652/MD652-N37-2016.12.16-07.38.28_MD652_1_0109_lossless_alignedTo_MD652-F45-2016.12.17-05.56.31_MD652_2_0134_cropped/MD652-N37-2016.12.16-07.38.28_MD652_1_0109_lossless_alignedTo_MD652-F45-2016.12.17-05.56.31_MD652_2_0134_cropped_patch_locations.txt\n"
     ]
    },
    {
     "name": "stderr",
     "output_type": "stream",
     "text": [
      "Child returned 0\n",
      "0.83 seconds.\n",
      "save: 4.37 seconds\n",
      "\n",
      "Section 196.\n",
      "locate patches: 0.02 seconds\n",
      "58812 samples.\n",
      "load image: 0.27 seconds\n",
      "extract patches: 5.59 seconds\n",
      "predict: 63.51 seconds\n"
     ]
    },
    {
     "name": "stdout",
     "output_type": "stream",
     "text": [
      "aws s3 cp /shared/CSHL_patch_features/inception-bn-blue/MD652/MD652-F37-2016.12.17-03.03.35_MD652_1_0109_lossless_alignedTo_MD652-F45-2016.12.17-05.56.31_MD652_2_0134_cropped/MD652-F37-2016.12.17-03.03.35_MD652_1_0109_lossless_alignedTo_MD652-F45-2016.12.17-05.56.31_MD652_2_0134_cropped_features.bp s3://mousebrainatlas-data/CSHL_patch_features/inception-bn-blue/MD652/MD652-F37-2016.12.17-03.03.35_MD652_1_0109_lossless_alignedTo_MD652-F45-2016.12.17-05.56.31_MD652_2_0134_cropped/MD652-F37-2016.12.17-03.03.35_MD652_1_0109_lossless_alignedTo_MD652-F45-2016.12.17-05.56.31_MD652_2_0134_cropped_features.bp\n"
     ]
    },
    {
     "name": "stderr",
     "output_type": "stream",
     "text": [
      "Child returned 0\n",
      "2.73 seconds.\n"
     ]
    },
    {
     "name": "stdout",
     "output_type": "stream",
     "text": [
      "aws s3 cp /shared/CSHL_patch_features/inception-bn-blue/MD652/MD652-F37-2016.12.17-03.03.35_MD652_1_0109_lossless_alignedTo_MD652-F45-2016.12.17-05.56.31_MD652_2_0134_cropped/MD652-F37-2016.12.17-03.03.35_MD652_1_0109_lossless_alignedTo_MD652-F45-2016.12.17-05.56.31_MD652_2_0134_cropped_patch_locations.txt s3://mousebrainatlas-data/CSHL_patch_features/inception-bn-blue/MD652/MD652-F37-2016.12.17-03.03.35_MD652_1_0109_lossless_alignedTo_MD652-F45-2016.12.17-05.56.31_MD652_2_0134_cropped/MD652-F37-2016.12.17-03.03.35_MD652_1_0109_lossless_alignedTo_MD652-F45-2016.12.17-05.56.31_MD652_2_0134_cropped_patch_locations.txt\n"
     ]
    },
    {
     "name": "stderr",
     "output_type": "stream",
     "text": [
      "Child returned 0\n",
      "0.84 seconds.\n",
      "save: 4.68 seconds\n",
      "\n",
      "Section 197.\n",
      "locate patches: 0.02 seconds\n",
      "60958 samples.\n",
      "load image: 0.27 seconds\n",
      "extract patches: 5.80 seconds\n",
      "predict: 81.70 seconds\n"
     ]
    },
    {
     "name": "stdout",
     "output_type": "stream",
     "text": [
      "aws s3 cp /shared/CSHL_patch_features/inception-bn-blue/MD652/MD652-N37-2016.12.16-07.38.28_MD652_2_0110_lossless_alignedTo_MD652-F45-2016.12.17-05.56.31_MD652_2_0134_cropped/MD652-N37-2016.12.16-07.38.28_MD652_2_0110_lossless_alignedTo_MD652-F45-2016.12.17-05.56.31_MD652_2_0134_cropped_features.bp s3://mousebrainatlas-data/CSHL_patch_features/inception-bn-blue/MD652/MD652-N37-2016.12.16-07.38.28_MD652_2_0110_lossless_alignedTo_MD652-F45-2016.12.17-05.56.31_MD652_2_0134_cropped/MD652-N37-2016.12.16-07.38.28_MD652_2_0110_lossless_alignedTo_MD652-F45-2016.12.17-05.56.31_MD652_2_0134_cropped_features.bp\n"
     ]
    },
    {
     "name": "stderr",
     "output_type": "stream",
     "text": [
      "Child returned 0\n",
      "2.46 seconds.\n"
     ]
    },
    {
     "name": "stdout",
     "output_type": "stream",
     "text": [
      "aws s3 cp /shared/CSHL_patch_features/inception-bn-blue/MD652/MD652-N37-2016.12.16-07.38.28_MD652_2_0110_lossless_alignedTo_MD652-F45-2016.12.17-05.56.31_MD652_2_0134_cropped/MD652-N37-2016.12.16-07.38.28_MD652_2_0110_lossless_alignedTo_MD652-F45-2016.12.17-05.56.31_MD652_2_0134_cropped_patch_locations.txt s3://mousebrainatlas-data/CSHL_patch_features/inception-bn-blue/MD652/MD652-N37-2016.12.16-07.38.28_MD652_2_0110_lossless_alignedTo_MD652-F45-2016.12.17-05.56.31_MD652_2_0134_cropped/MD652-N37-2016.12.16-07.38.28_MD652_2_0110_lossless_alignedTo_MD652-F45-2016.12.17-05.56.31_MD652_2_0134_cropped_patch_locations.txt\n"
     ]
    },
    {
     "name": "stderr",
     "output_type": "stream",
     "text": [
      "Child returned 0\n",
      "0.83 seconds.\n",
      "save: 4.45 seconds\n",
      "\n",
      "Section 198.\n",
      "locate patches: 0.02 seconds\n",
      "60832 samples.\n",
      "load image: 0.27 seconds\n",
      "extract patches: 5.79 seconds\n",
      "predict: 91.22 seconds\n"
     ]
    },
    {
     "name": "stdout",
     "output_type": "stream",
     "text": [
      "aws s3 cp /shared/CSHL_patch_features/inception-bn-blue/MD652/MD652-F37-2016.12.17-03.03.35_MD652_2_0110_lossless_alignedTo_MD652-F45-2016.12.17-05.56.31_MD652_2_0134_cropped/MD652-F37-2016.12.17-03.03.35_MD652_2_0110_lossless_alignedTo_MD652-F45-2016.12.17-05.56.31_MD652_2_0134_cropped_features.bp s3://mousebrainatlas-data/CSHL_patch_features/inception-bn-blue/MD652/MD652-F37-2016.12.17-03.03.35_MD652_2_0110_lossless_alignedTo_MD652-F45-2016.12.17-05.56.31_MD652_2_0134_cropped/MD652-F37-2016.12.17-03.03.35_MD652_2_0110_lossless_alignedTo_MD652-F45-2016.12.17-05.56.31_MD652_2_0134_cropped_features.bp\n"
     ]
    },
    {
     "name": "stderr",
     "output_type": "stream",
     "text": [
      "Child returned 0\n",
      "2.92 seconds.\n"
     ]
    },
    {
     "name": "stdout",
     "output_type": "stream",
     "text": [
      "aws s3 cp /shared/CSHL_patch_features/inception-bn-blue/MD652/MD652-F37-2016.12.17-03.03.35_MD652_2_0110_lossless_alignedTo_MD652-F45-2016.12.17-05.56.31_MD652_2_0134_cropped/MD652-F37-2016.12.17-03.03.35_MD652_2_0110_lossless_alignedTo_MD652-F45-2016.12.17-05.56.31_MD652_2_0134_cropped_patch_locations.txt s3://mousebrainatlas-data/CSHL_patch_features/inception-bn-blue/MD652/MD652-F37-2016.12.17-03.03.35_MD652_2_0110_lossless_alignedTo_MD652-F45-2016.12.17-05.56.31_MD652_2_0134_cropped/MD652-F37-2016.12.17-03.03.35_MD652_2_0110_lossless_alignedTo_MD652-F45-2016.12.17-05.56.31_MD652_2_0134_cropped_patch_locations.txt\n"
     ]
    },
    {
     "name": "stderr",
     "output_type": "stream",
     "text": [
      "Child returned 0\n",
      "0.79 seconds.\n",
      "save: 4.85 seconds\n",
      "\n",
      "Section 199.\n",
      "locate patches: 0.02 seconds\n",
      "60830 samples.\n",
      "load image: 0.27 seconds\n",
      "extract patches: 5.79 seconds\n",
      "predict: 81.72 seconds\n"
     ]
    },
    {
     "name": "stdout",
     "output_type": "stream",
     "text": [
      "aws s3 cp /shared/CSHL_patch_features/inception-bn-blue/MD652/MD652-N38-2016.12.16-07.43.16_MD652_1_0112_lossless_alignedTo_MD652-F45-2016.12.17-05.56.31_MD652_2_0134_cropped/MD652-N38-2016.12.16-07.43.16_MD652_1_0112_lossless_alignedTo_MD652-F45-2016.12.17-05.56.31_MD652_2_0134_cropped_features.bp s3://mousebrainatlas-data/CSHL_patch_features/inception-bn-blue/MD652/MD652-N38-2016.12.16-07.43.16_MD652_1_0112_lossless_alignedTo_MD652-F45-2016.12.17-05.56.31_MD652_2_0134_cropped/MD652-N38-2016.12.16-07.43.16_MD652_1_0112_lossless_alignedTo_MD652-F45-2016.12.17-05.56.31_MD652_2_0134_cropped_features.bp\n"
     ]
    },
    {
     "name": "stderr",
     "output_type": "stream",
     "text": [
      "Child returned 0\n",
      "2.78 seconds.\n"
     ]
    },
    {
     "name": "stdout",
     "output_type": "stream",
     "text": [
      "aws s3 cp /shared/CSHL_patch_features/inception-bn-blue/MD652/MD652-N38-2016.12.16-07.43.16_MD652_1_0112_lossless_alignedTo_MD652-F45-2016.12.17-05.56.31_MD652_2_0134_cropped/MD652-N38-2016.12.16-07.43.16_MD652_1_0112_lossless_alignedTo_MD652-F45-2016.12.17-05.56.31_MD652_2_0134_cropped_patch_locations.txt s3://mousebrainatlas-data/CSHL_patch_features/inception-bn-blue/MD652/MD652-N38-2016.12.16-07.43.16_MD652_1_0112_lossless_alignedTo_MD652-F45-2016.12.17-05.56.31_MD652_2_0134_cropped/MD652-N38-2016.12.16-07.43.16_MD652_1_0112_lossless_alignedTo_MD652-F45-2016.12.17-05.56.31_MD652_2_0134_cropped_patch_locations.txt\n"
     ]
    },
    {
     "name": "stderr",
     "output_type": "stream",
     "text": [
      "Child returned 0\n",
      "0.83 seconds.\n",
      "save: 4.76 seconds\n",
      "\n",
      "Section 200.\n",
      "locate patches: 0.02 seconds\n",
      "60052 samples.\n",
      "load image: 0.27 seconds\n",
      "extract patches: 5.72 seconds\n",
      "predict: 70.14 seconds\n"
     ]
    },
    {
     "name": "stdout",
     "output_type": "stream",
     "text": [
      "aws s3 cp /shared/CSHL_patch_features/inception-bn-blue/MD652/MD652-F38-2016.12.17-03.26.49_MD652_1_0112_lossless_alignedTo_MD652-F45-2016.12.17-05.56.31_MD652_2_0134_cropped/MD652-F38-2016.12.17-03.26.49_MD652_1_0112_lossless_alignedTo_MD652-F45-2016.12.17-05.56.31_MD652_2_0134_cropped_features.bp s3://mousebrainatlas-data/CSHL_patch_features/inception-bn-blue/MD652/MD652-F38-2016.12.17-03.26.49_MD652_1_0112_lossless_alignedTo_MD652-F45-2016.12.17-05.56.31_MD652_2_0134_cropped/MD652-F38-2016.12.17-03.26.49_MD652_1_0112_lossless_alignedTo_MD652-F45-2016.12.17-05.56.31_MD652_2_0134_cropped_features.bp\n"
     ]
    },
    {
     "name": "stderr",
     "output_type": "stream",
     "text": [
      "Child returned 0\n",
      "2.40 seconds.\n"
     ]
    },
    {
     "name": "stdout",
     "output_type": "stream",
     "text": [
      "aws s3 cp /shared/CSHL_patch_features/inception-bn-blue/MD652/MD652-F38-2016.12.17-03.26.49_MD652_1_0112_lossless_alignedTo_MD652-F45-2016.12.17-05.56.31_MD652_2_0134_cropped/MD652-F38-2016.12.17-03.26.49_MD652_1_0112_lossless_alignedTo_MD652-F45-2016.12.17-05.56.31_MD652_2_0134_cropped_patch_locations.txt s3://mousebrainatlas-data/CSHL_patch_features/inception-bn-blue/MD652/MD652-F38-2016.12.17-03.26.49_MD652_1_0112_lossless_alignedTo_MD652-F45-2016.12.17-05.56.31_MD652_2_0134_cropped/MD652-F38-2016.12.17-03.26.49_MD652_1_0112_lossless_alignedTo_MD652-F45-2016.12.17-05.56.31_MD652_2_0134_cropped_patch_locations.txt\n"
     ]
    },
    {
     "name": "stderr",
     "output_type": "stream",
     "text": [
      "Child returned 0\n",
      "0.83 seconds.\n",
      "save: 4.37 seconds\n",
      "\n",
      "Section 201.\n",
      "locate patches: 0.02 seconds\n",
      "61506 samples.\n",
      "load image: 0.27 seconds\n",
      "extract patches: 6.87 seconds\n",
      "predict: 71.78 seconds\n"
     ]
    },
    {
     "name": "stdout",
     "output_type": "stream",
     "text": [
      "aws s3 cp /shared/CSHL_patch_features/inception-bn-blue/MD652/MD652-N38-2016.12.16-07.43.16_MD652_2_0113_lossless_alignedTo_MD652-F45-2016.12.17-05.56.31_MD652_2_0134_cropped/MD652-N38-2016.12.16-07.43.16_MD652_2_0113_lossless_alignedTo_MD652-F45-2016.12.17-05.56.31_MD652_2_0134_cropped_features.bp s3://mousebrainatlas-data/CSHL_patch_features/inception-bn-blue/MD652/MD652-N38-2016.12.16-07.43.16_MD652_2_0113_lossless_alignedTo_MD652-F45-2016.12.17-05.56.31_MD652_2_0134_cropped/MD652-N38-2016.12.16-07.43.16_MD652_2_0113_lossless_alignedTo_MD652-F45-2016.12.17-05.56.31_MD652_2_0134_cropped_features.bp\n"
     ]
    },
    {
     "name": "stderr",
     "output_type": "stream",
     "text": [
      "Child returned 0\n",
      "2.37 seconds.\n"
     ]
    },
    {
     "name": "stdout",
     "output_type": "stream",
     "text": [
      "aws s3 cp /shared/CSHL_patch_features/inception-bn-blue/MD652/MD652-N38-2016.12.16-07.43.16_MD652_2_0113_lossless_alignedTo_MD652-F45-2016.12.17-05.56.31_MD652_2_0134_cropped/MD652-N38-2016.12.16-07.43.16_MD652_2_0113_lossless_alignedTo_MD652-F45-2016.12.17-05.56.31_MD652_2_0134_cropped_patch_locations.txt s3://mousebrainatlas-data/CSHL_patch_features/inception-bn-blue/MD652/MD652-N38-2016.12.16-07.43.16_MD652_2_0113_lossless_alignedTo_MD652-F45-2016.12.17-05.56.31_MD652_2_0134_cropped/MD652-N38-2016.12.16-07.43.16_MD652_2_0113_lossless_alignedTo_MD652-F45-2016.12.17-05.56.31_MD652_2_0134_cropped_patch_locations.txt\n"
     ]
    },
    {
     "name": "stderr",
     "output_type": "stream",
     "text": [
      "Child returned 0\n",
      "0.78 seconds.\n",
      "save: 4.31 seconds\n",
      "\n",
      "Section 202.\n",
      "locate patches: 0.03 seconds\n",
      "62298 samples.\n",
      "load image: 0.27 seconds\n",
      "extract patches: 6.96 seconds\n",
      "predict: 78.80 seconds\n"
     ]
    },
    {
     "name": "stdout",
     "output_type": "stream",
     "text": [
      "aws s3 cp /shared/CSHL_patch_features/inception-bn-blue/MD652/MD652-F38-2016.12.17-03.26.49_MD652_2_0113_lossless_alignedTo_MD652-F45-2016.12.17-05.56.31_MD652_2_0134_cropped/MD652-F38-2016.12.17-03.26.49_MD652_2_0113_lossless_alignedTo_MD652-F45-2016.12.17-05.56.31_MD652_2_0134_cropped_features.bp s3://mousebrainatlas-data/CSHL_patch_features/inception-bn-blue/MD652/MD652-F38-2016.12.17-03.26.49_MD652_2_0113_lossless_alignedTo_MD652-F45-2016.12.17-05.56.31_MD652_2_0134_cropped/MD652-F38-2016.12.17-03.26.49_MD652_2_0113_lossless_alignedTo_MD652-F45-2016.12.17-05.56.31_MD652_2_0134_cropped_features.bp\n"
     ]
    },
    {
     "name": "stderr",
     "output_type": "stream",
     "text": [
      "Child returned 0\n",
      "2.41 seconds.\n"
     ]
    },
    {
     "name": "stdout",
     "output_type": "stream",
     "text": [
      "aws s3 cp /shared/CSHL_patch_features/inception-bn-blue/MD652/MD652-F38-2016.12.17-03.26.49_MD652_2_0113_lossless_alignedTo_MD652-F45-2016.12.17-05.56.31_MD652_2_0134_cropped/MD652-F38-2016.12.17-03.26.49_MD652_2_0113_lossless_alignedTo_MD652-F45-2016.12.17-05.56.31_MD652_2_0134_cropped_patch_locations.txt s3://mousebrainatlas-data/CSHL_patch_features/inception-bn-blue/MD652/MD652-F38-2016.12.17-03.26.49_MD652_2_0113_lossless_alignedTo_MD652-F45-2016.12.17-05.56.31_MD652_2_0134_cropped/MD652-F38-2016.12.17-03.26.49_MD652_2_0113_lossless_alignedTo_MD652-F45-2016.12.17-05.56.31_MD652_2_0134_cropped_patch_locations.txt\n"
     ]
    },
    {
     "name": "stderr",
     "output_type": "stream",
     "text": [
      "Child returned 0\n",
      "0.79 seconds.\n",
      "save: 4.38 seconds\n",
      "\n",
      "Section 203.\n",
      "locate patches: 0.02 seconds\n",
      "61157 samples.\n",
      "load image: 0.27 seconds\n",
      "extract patches: 6.86 seconds\n",
      "predict: 73.43 seconds\n"
     ]
    },
    {
     "name": "stdout",
     "output_type": "stream",
     "text": [
      "aws s3 cp /shared/CSHL_patch_features/inception-bn-blue/MD652/MD652-N39-2016.12.16-07.48.08_MD652_1_0115_lossless_alignedTo_MD652-F45-2016.12.17-05.56.31_MD652_2_0134_cropped/MD652-N39-2016.12.16-07.48.08_MD652_1_0115_lossless_alignedTo_MD652-F45-2016.12.17-05.56.31_MD652_2_0134_cropped_features.bp s3://mousebrainatlas-data/CSHL_patch_features/inception-bn-blue/MD652/MD652-N39-2016.12.16-07.48.08_MD652_1_0115_lossless_alignedTo_MD652-F45-2016.12.17-05.56.31_MD652_2_0134_cropped/MD652-N39-2016.12.16-07.48.08_MD652_1_0115_lossless_alignedTo_MD652-F45-2016.12.17-05.56.31_MD652_2_0134_cropped_features.bp\n"
     ]
    },
    {
     "name": "stderr",
     "output_type": "stream",
     "text": [
      "Child returned 0\n",
      "2.50 seconds.\n"
     ]
    },
    {
     "name": "stdout",
     "output_type": "stream",
     "text": [
      "aws s3 cp /shared/CSHL_patch_features/inception-bn-blue/MD652/MD652-N39-2016.12.16-07.48.08_MD652_1_0115_lossless_alignedTo_MD652-F45-2016.12.17-05.56.31_MD652_2_0134_cropped/MD652-N39-2016.12.16-07.48.08_MD652_1_0115_lossless_alignedTo_MD652-F45-2016.12.17-05.56.31_MD652_2_0134_cropped_patch_locations.txt s3://mousebrainatlas-data/CSHL_patch_features/inception-bn-blue/MD652/MD652-N39-2016.12.16-07.48.08_MD652_1_0115_lossless_alignedTo_MD652-F45-2016.12.17-05.56.31_MD652_2_0134_cropped/MD652-N39-2016.12.16-07.48.08_MD652_1_0115_lossless_alignedTo_MD652-F45-2016.12.17-05.56.31_MD652_2_0134_cropped_patch_locations.txt\n"
     ]
    },
    {
     "name": "stderr",
     "output_type": "stream",
     "text": [
      "Child returned 0\n",
      "0.78 seconds.\n",
      "save: 4.44 seconds\n",
      "\n",
      "Section 204.\n",
      "locate patches: 0.02 seconds\n",
      "60438 samples.\n",
      "load image: 0.27 seconds\n",
      "extract patches: 5.76 seconds\n",
      "predict: 59.52 seconds\n"
     ]
    },
    {
     "name": "stdout",
     "output_type": "stream",
     "text": [
      "aws s3 cp /shared/CSHL_patch_features/inception-bn-blue/MD652/MD652-F39-2016.12.17-03.48.57_MD652_1_0115_lossless_alignedTo_MD652-F45-2016.12.17-05.56.31_MD652_2_0134_cropped/MD652-F39-2016.12.17-03.48.57_MD652_1_0115_lossless_alignedTo_MD652-F45-2016.12.17-05.56.31_MD652_2_0134_cropped_features.bp s3://mousebrainatlas-data/CSHL_patch_features/inception-bn-blue/MD652/MD652-F39-2016.12.17-03.48.57_MD652_1_0115_lossless_alignedTo_MD652-F45-2016.12.17-05.56.31_MD652_2_0134_cropped/MD652-F39-2016.12.17-03.48.57_MD652_1_0115_lossless_alignedTo_MD652-F45-2016.12.17-05.56.31_MD652_2_0134_cropped_features.bp\n"
     ]
    },
    {
     "name": "stderr",
     "output_type": "stream",
     "text": [
      "Child returned 0\n",
      "2.36 seconds.\n"
     ]
    },
    {
     "name": "stdout",
     "output_type": "stream",
     "text": [
      "aws s3 cp /shared/CSHL_patch_features/inception-bn-blue/MD652/MD652-F39-2016.12.17-03.48.57_MD652_1_0115_lossless_alignedTo_MD652-F45-2016.12.17-05.56.31_MD652_2_0134_cropped/MD652-F39-2016.12.17-03.48.57_MD652_1_0115_lossless_alignedTo_MD652-F45-2016.12.17-05.56.31_MD652_2_0134_cropped_patch_locations.txt s3://mousebrainatlas-data/CSHL_patch_features/inception-bn-blue/MD652/MD652-F39-2016.12.17-03.48.57_MD652_1_0115_lossless_alignedTo_MD652-F45-2016.12.17-05.56.31_MD652_2_0134_cropped/MD652-F39-2016.12.17-03.48.57_MD652_1_0115_lossless_alignedTo_MD652-F45-2016.12.17-05.56.31_MD652_2_0134_cropped_patch_locations.txt\n"
     ]
    },
    {
     "name": "stderr",
     "output_type": "stream",
     "text": [
      "Child returned 0\n",
      "0.83 seconds.\n",
      "save: 4.32 seconds\n",
      "\n",
      "Section 205.\n",
      "locate patches: 0.02 seconds\n",
      "61386 samples.\n",
      "load image: 0.27 seconds\n",
      "extract patches: 6.88 seconds\n",
      "predict: 61.02 seconds\n"
     ]
    },
    {
     "name": "stdout",
     "output_type": "stream",
     "text": [
      "aws s3 cp /shared/CSHL_patch_features/inception-bn-blue/MD652/MD652-N39-2016.12.16-07.48.08_MD652_2_0116_lossless_alignedTo_MD652-F45-2016.12.17-05.56.31_MD652_2_0134_cropped/MD652-N39-2016.12.16-07.48.08_MD652_2_0116_lossless_alignedTo_MD652-F45-2016.12.17-05.56.31_MD652_2_0134_cropped_features.bp s3://mousebrainatlas-data/CSHL_patch_features/inception-bn-blue/MD652/MD652-N39-2016.12.16-07.48.08_MD652_2_0116_lossless_alignedTo_MD652-F45-2016.12.17-05.56.31_MD652_2_0134_cropped/MD652-N39-2016.12.16-07.48.08_MD652_2_0116_lossless_alignedTo_MD652-F45-2016.12.17-05.56.31_MD652_2_0134_cropped_features.bp\n"
     ]
    },
    {
     "name": "stderr",
     "output_type": "stream",
     "text": [
      "Child returned 0\n",
      "2.53 seconds.\n"
     ]
    },
    {
     "name": "stdout",
     "output_type": "stream",
     "text": [
      "aws s3 cp /shared/CSHL_patch_features/inception-bn-blue/MD652/MD652-N39-2016.12.16-07.48.08_MD652_2_0116_lossless_alignedTo_MD652-F45-2016.12.17-05.56.31_MD652_2_0134_cropped/MD652-N39-2016.12.16-07.48.08_MD652_2_0116_lossless_alignedTo_MD652-F45-2016.12.17-05.56.31_MD652_2_0134_cropped_patch_locations.txt s3://mousebrainatlas-data/CSHL_patch_features/inception-bn-blue/MD652/MD652-N39-2016.12.16-07.48.08_MD652_2_0116_lossless_alignedTo_MD652-F45-2016.12.17-05.56.31_MD652_2_0134_cropped/MD652-N39-2016.12.16-07.48.08_MD652_2_0116_lossless_alignedTo_MD652-F45-2016.12.17-05.56.31_MD652_2_0134_cropped_patch_locations.txt\n"
     ]
    },
    {
     "name": "stderr",
     "output_type": "stream",
     "text": [
      "Child returned 0\n",
      "0.84 seconds.\n",
      "save: 4.53 seconds\n",
      "\n",
      "Section 206.\n",
      "locate patches: 0.02 seconds\n",
      "62212 samples.\n",
      "load image: 0.27 seconds\n",
      "extract patches: 6.97 seconds\n",
      "predict: 59.89 seconds\n"
     ]
    },
    {
     "name": "stdout",
     "output_type": "stream",
     "text": [
      "aws s3 cp /shared/CSHL_patch_features/inception-bn-blue/MD652/MD652-F39-2016.12.17-03.48.57_MD652_2_0116_lossless_alignedTo_MD652-F45-2016.12.17-05.56.31_MD652_2_0134_cropped/MD652-F39-2016.12.17-03.48.57_MD652_2_0116_lossless_alignedTo_MD652-F45-2016.12.17-05.56.31_MD652_2_0134_cropped_features.bp s3://mousebrainatlas-data/CSHL_patch_features/inception-bn-blue/MD652/MD652-F39-2016.12.17-03.48.57_MD652_2_0116_lossless_alignedTo_MD652-F45-2016.12.17-05.56.31_MD652_2_0134_cropped/MD652-F39-2016.12.17-03.48.57_MD652_2_0116_lossless_alignedTo_MD652-F45-2016.12.17-05.56.31_MD652_2_0134_cropped_features.bp\n"
     ]
    },
    {
     "name": "stderr",
     "output_type": "stream",
     "text": [
      "Child returned 0\n",
      "2.51 seconds.\n"
     ]
    },
    {
     "name": "stdout",
     "output_type": "stream",
     "text": [
      "aws s3 cp /shared/CSHL_patch_features/inception-bn-blue/MD652/MD652-F39-2016.12.17-03.48.57_MD652_2_0116_lossless_alignedTo_MD652-F45-2016.12.17-05.56.31_MD652_2_0134_cropped/MD652-F39-2016.12.17-03.48.57_MD652_2_0116_lossless_alignedTo_MD652-F45-2016.12.17-05.56.31_MD652_2_0134_cropped_patch_locations.txt s3://mousebrainatlas-data/CSHL_patch_features/inception-bn-blue/MD652/MD652-F39-2016.12.17-03.48.57_MD652_2_0116_lossless_alignedTo_MD652-F45-2016.12.17-05.56.31_MD652_2_0134_cropped/MD652-F39-2016.12.17-03.48.57_MD652_2_0116_lossless_alignedTo_MD652-F45-2016.12.17-05.56.31_MD652_2_0134_cropped_patch_locations.txt\n"
     ]
    },
    {
     "name": "stderr",
     "output_type": "stream",
     "text": [
      "Child returned 0\n",
      "0.84 seconds.\n",
      "save: 4.53 seconds\n",
      "\n",
      "Section 207.\n",
      "locate patches: 0.02 seconds\n",
      "61652 samples.\n",
      "load image: 0.27 seconds\n",
      "extract patches: 6.91 seconds\n",
      "predict: 57.21 seconds\n"
     ]
    },
    {
     "name": "stdout",
     "output_type": "stream",
     "text": [
      "aws s3 cp /shared/CSHL_patch_features/inception-bn-blue/MD652/MD652-N40-2016.12.16-07.53.01_MD652_1_0118_lossless_alignedTo_MD652-F45-2016.12.17-05.56.31_MD652_2_0134_cropped/MD652-N40-2016.12.16-07.53.01_MD652_1_0118_lossless_alignedTo_MD652-F45-2016.12.17-05.56.31_MD652_2_0134_cropped_features.bp s3://mousebrainatlas-data/CSHL_patch_features/inception-bn-blue/MD652/MD652-N40-2016.12.16-07.53.01_MD652_1_0118_lossless_alignedTo_MD652-F45-2016.12.17-05.56.31_MD652_2_0134_cropped/MD652-N40-2016.12.16-07.53.01_MD652_1_0118_lossless_alignedTo_MD652-F45-2016.12.17-05.56.31_MD652_2_0134_cropped_features.bp\n"
     ]
    },
    {
     "name": "stderr",
     "output_type": "stream",
     "text": [
      "Child returned 0\n",
      "2.64 seconds.\n"
     ]
    },
    {
     "name": "stdout",
     "output_type": "stream",
     "text": [
      "aws s3 cp /shared/CSHL_patch_features/inception-bn-blue/MD652/MD652-N40-2016.12.16-07.53.01_MD652_1_0118_lossless_alignedTo_MD652-F45-2016.12.17-05.56.31_MD652_2_0134_cropped/MD652-N40-2016.12.16-07.53.01_MD652_1_0118_lossless_alignedTo_MD652-F45-2016.12.17-05.56.31_MD652_2_0134_cropped_patch_locations.txt s3://mousebrainatlas-data/CSHL_patch_features/inception-bn-blue/MD652/MD652-N40-2016.12.16-07.53.01_MD652_1_0118_lossless_alignedTo_MD652-F45-2016.12.17-05.56.31_MD652_2_0134_cropped/MD652-N40-2016.12.16-07.53.01_MD652_1_0118_lossless_alignedTo_MD652-F45-2016.12.17-05.56.31_MD652_2_0134_cropped_patch_locations.txt\n"
     ]
    },
    {
     "name": "stderr",
     "output_type": "stream",
     "text": [
      "Child returned 0\n",
      "0.80 seconds.\n",
      "save: 4.60 seconds\n",
      "\n",
      "Section 208.\n",
      "locate patches: 0.03 seconds\n",
      "62530 samples.\n",
      "load image: 0.27 seconds\n",
      "extract patches: 6.99 seconds\n",
      "predict: 80.90 seconds\n"
     ]
    },
    {
     "name": "stdout",
     "output_type": "stream",
     "text": [
      "aws s3 cp /shared/CSHL_patch_features/inception-bn-blue/MD652/MD652-F40-2016.12.17-04.11.06_MD652_1_0118_lossless_alignedTo_MD652-F45-2016.12.17-05.56.31_MD652_2_0134_cropped/MD652-F40-2016.12.17-04.11.06_MD652_1_0118_lossless_alignedTo_MD652-F45-2016.12.17-05.56.31_MD652_2_0134_cropped_features.bp s3://mousebrainatlas-data/CSHL_patch_features/inception-bn-blue/MD652/MD652-F40-2016.12.17-04.11.06_MD652_1_0118_lossless_alignedTo_MD652-F45-2016.12.17-05.56.31_MD652_2_0134_cropped/MD652-F40-2016.12.17-04.11.06_MD652_1_0118_lossless_alignedTo_MD652-F45-2016.12.17-05.56.31_MD652_2_0134_cropped_features.bp\n"
     ]
    },
    {
     "name": "stderr",
     "output_type": "stream",
     "text": [
      "Child returned 0\n",
      "2.32 seconds.\n"
     ]
    },
    {
     "name": "stdout",
     "output_type": "stream",
     "text": [
      "aws s3 cp /shared/CSHL_patch_features/inception-bn-blue/MD652/MD652-F40-2016.12.17-04.11.06_MD652_1_0118_lossless_alignedTo_MD652-F45-2016.12.17-05.56.31_MD652_2_0134_cropped/MD652-F40-2016.12.17-04.11.06_MD652_1_0118_lossless_alignedTo_MD652-F45-2016.12.17-05.56.31_MD652_2_0134_cropped_patch_locations.txt s3://mousebrainatlas-data/CSHL_patch_features/inception-bn-blue/MD652/MD652-F40-2016.12.17-04.11.06_MD652_1_0118_lossless_alignedTo_MD652-F45-2016.12.17-05.56.31_MD652_2_0134_cropped/MD652-F40-2016.12.17-04.11.06_MD652_1_0118_lossless_alignedTo_MD652-F45-2016.12.17-05.56.31_MD652_2_0134_cropped_patch_locations.txt\n"
     ]
    },
    {
     "name": "stderr",
     "output_type": "stream",
     "text": [
      "Child returned 0\n",
      "0.77 seconds.\n",
      "save: 4.27 seconds\n",
      "\n",
      "Section 209.\n",
      "locate patches: 0.02 seconds\n",
      "61892 samples.\n",
      "load image: 0.27 seconds\n",
      "extract patches: 6.92 seconds\n",
      "predict: 35.46 seconds\n"
     ]
    },
    {
     "name": "stdout",
     "output_type": "stream",
     "text": [
      "aws s3 cp /shared/CSHL_patch_features/inception-bn-blue/MD652/MD652-N40-2016.12.16-07.53.01_MD652_2_0119_lossless_alignedTo_MD652-F45-2016.12.17-05.56.31_MD652_2_0134_cropped/MD652-N40-2016.12.16-07.53.01_MD652_2_0119_lossless_alignedTo_MD652-F45-2016.12.17-05.56.31_MD652_2_0134_cropped_features.bp s3://mousebrainatlas-data/CSHL_patch_features/inception-bn-blue/MD652/MD652-N40-2016.12.16-07.53.01_MD652_2_0119_lossless_alignedTo_MD652-F45-2016.12.17-05.56.31_MD652_2_0134_cropped/MD652-N40-2016.12.16-07.53.01_MD652_2_0119_lossless_alignedTo_MD652-F45-2016.12.17-05.56.31_MD652_2_0134_cropped_features.bp\n"
     ]
    },
    {
     "name": "stderr",
     "output_type": "stream",
     "text": [
      "Child returned 0\n",
      "2.67 seconds.\n"
     ]
    },
    {
     "name": "stdout",
     "output_type": "stream",
     "text": [
      "aws s3 cp /shared/CSHL_patch_features/inception-bn-blue/MD652/MD652-N40-2016.12.16-07.53.01_MD652_2_0119_lossless_alignedTo_MD652-F45-2016.12.17-05.56.31_MD652_2_0134_cropped/MD652-N40-2016.12.16-07.53.01_MD652_2_0119_lossless_alignedTo_MD652-F45-2016.12.17-05.56.31_MD652_2_0134_cropped_patch_locations.txt s3://mousebrainatlas-data/CSHL_patch_features/inception-bn-blue/MD652/MD652-N40-2016.12.16-07.53.01_MD652_2_0119_lossless_alignedTo_MD652-F45-2016.12.17-05.56.31_MD652_2_0134_cropped/MD652-N40-2016.12.16-07.53.01_MD652_2_0119_lossless_alignedTo_MD652-F45-2016.12.17-05.56.31_MD652_2_0134_cropped_patch_locations.txt\n"
     ]
    },
    {
     "name": "stderr",
     "output_type": "stream",
     "text": [
      "Child returned 0\n",
      "0.83 seconds.\n",
      "save: 4.67 seconds\n",
      "\n",
      "Section 210.\n",
      "locate patches: 0.03 seconds\n",
      "62288 samples.\n",
      "load image: 0.27 seconds\n",
      "extract patches: 6.96 seconds\n",
      "predict: 39.66 seconds\n"
     ]
    },
    {
     "name": "stdout",
     "output_type": "stream",
     "text": [
      "aws s3 cp /shared/CSHL_patch_features/inception-bn-blue/MD652/MD652-F40-2016.12.17-04.11.06_MD652_2_0119_lossless_alignedTo_MD652-F45-2016.12.17-05.56.31_MD652_2_0134_cropped/MD652-F40-2016.12.17-04.11.06_MD652_2_0119_lossless_alignedTo_MD652-F45-2016.12.17-05.56.31_MD652_2_0134_cropped_features.bp s3://mousebrainatlas-data/CSHL_patch_features/inception-bn-blue/MD652/MD652-F40-2016.12.17-04.11.06_MD652_2_0119_lossless_alignedTo_MD652-F45-2016.12.17-05.56.31_MD652_2_0134_cropped/MD652-F40-2016.12.17-04.11.06_MD652_2_0119_lossless_alignedTo_MD652-F45-2016.12.17-05.56.31_MD652_2_0134_cropped_features.bp\n"
     ]
    },
    {
     "name": "stderr",
     "output_type": "stream",
     "text": [
      "Child returned 0\n",
      "2.14 seconds.\n"
     ]
    },
    {
     "name": "stdout",
     "output_type": "stream",
     "text": [
      "aws s3 cp /shared/CSHL_patch_features/inception-bn-blue/MD652/MD652-F40-2016.12.17-04.11.06_MD652_2_0119_lossless_alignedTo_MD652-F45-2016.12.17-05.56.31_MD652_2_0134_cropped/MD652-F40-2016.12.17-04.11.06_MD652_2_0119_lossless_alignedTo_MD652-F45-2016.12.17-05.56.31_MD652_2_0134_cropped_patch_locations.txt s3://mousebrainatlas-data/CSHL_patch_features/inception-bn-blue/MD652/MD652-F40-2016.12.17-04.11.06_MD652_2_0119_lossless_alignedTo_MD652-F45-2016.12.17-05.56.31_MD652_2_0134_cropped/MD652-F40-2016.12.17-04.11.06_MD652_2_0119_lossless_alignedTo_MD652-F45-2016.12.17-05.56.31_MD652_2_0134_cropped_patch_locations.txt\n"
     ]
    },
    {
     "name": "stderr",
     "output_type": "stream",
     "text": [
      "Child returned 0\n",
      "0.88 seconds.\n",
      "save: 4.20 seconds\n",
      "\n",
      "Section 211.\n",
      "locate patches: 0.02 seconds\n",
      "61879 samples.\n",
      "load image: 0.27 seconds\n",
      "extract patches: 5.89 seconds\n",
      "predict: 35.23 seconds\n"
     ]
    },
    {
     "name": "stdout",
     "output_type": "stream",
     "text": [
      "aws s3 cp /shared/CSHL_patch_features/inception-bn-blue/MD652/MD652-N41-2016.12.16-07.57.55_MD652_1_0121_lossless_alignedTo_MD652-F45-2016.12.17-05.56.31_MD652_2_0134_cropped/MD652-N41-2016.12.16-07.57.55_MD652_1_0121_lossless_alignedTo_MD652-F45-2016.12.17-05.56.31_MD652_2_0134_cropped_features.bp s3://mousebrainatlas-data/CSHL_patch_features/inception-bn-blue/MD652/MD652-N41-2016.12.16-07.57.55_MD652_1_0121_lossless_alignedTo_MD652-F45-2016.12.17-05.56.31_MD652_2_0134_cropped/MD652-N41-2016.12.16-07.57.55_MD652_1_0121_lossless_alignedTo_MD652-F45-2016.12.17-05.56.31_MD652_2_0134_cropped_features.bp\n"
     ]
    },
    {
     "name": "stderr",
     "output_type": "stream",
     "text": [
      "Child returned 0\n",
      "2.69 seconds.\n"
     ]
    },
    {
     "name": "stdout",
     "output_type": "stream",
     "text": [
      "aws s3 cp /shared/CSHL_patch_features/inception-bn-blue/MD652/MD652-N41-2016.12.16-07.57.55_MD652_1_0121_lossless_alignedTo_MD652-F45-2016.12.17-05.56.31_MD652_2_0134_cropped/MD652-N41-2016.12.16-07.57.55_MD652_1_0121_lossless_alignedTo_MD652-F45-2016.12.17-05.56.31_MD652_2_0134_cropped_patch_locations.txt s3://mousebrainatlas-data/CSHL_patch_features/inception-bn-blue/MD652/MD652-N41-2016.12.16-07.57.55_MD652_1_0121_lossless_alignedTo_MD652-F45-2016.12.17-05.56.31_MD652_2_0134_cropped/MD652-N41-2016.12.16-07.57.55_MD652_1_0121_lossless_alignedTo_MD652-F45-2016.12.17-05.56.31_MD652_2_0134_cropped_patch_locations.txt\n"
     ]
    },
    {
     "name": "stderr",
     "output_type": "stream",
     "text": [
      "Child returned 0\n",
      "0.83 seconds.\n",
      "save: 4.68 seconds\n",
      "\n",
      "Section 212.\n",
      "locate patches: 0.03 seconds\n",
      "61195 samples.\n",
      "load image: 0.27 seconds\n",
      "extract patches: 5.83 seconds\n",
      "predict: 35.01 seconds\n"
     ]
    },
    {
     "name": "stdout",
     "output_type": "stream",
     "text": [
      "aws s3 cp /shared/CSHL_patch_features/inception-bn-blue/MD652/MD652-F41-2016.12.17-04.32.16_MD652_1_0121_lossless_alignedTo_MD652-F45-2016.12.17-05.56.31_MD652_2_0134_cropped/MD652-F41-2016.12.17-04.32.16_MD652_1_0121_lossless_alignedTo_MD652-F45-2016.12.17-05.56.31_MD652_2_0134_cropped_features.bp s3://mousebrainatlas-data/CSHL_patch_features/inception-bn-blue/MD652/MD652-F41-2016.12.17-04.32.16_MD652_1_0121_lossless_alignedTo_MD652-F45-2016.12.17-05.56.31_MD652_2_0134_cropped/MD652-F41-2016.12.17-04.32.16_MD652_1_0121_lossless_alignedTo_MD652-F45-2016.12.17-05.56.31_MD652_2_0134_cropped_features.bp\n"
     ]
    },
    {
     "name": "stderr",
     "output_type": "stream",
     "text": [
      "Child returned 0\n",
      "2.38 seconds.\n"
     ]
    },
    {
     "name": "stdout",
     "output_type": "stream",
     "text": [
      "aws s3 cp /shared/CSHL_patch_features/inception-bn-blue/MD652/MD652-F41-2016.12.17-04.32.16_MD652_1_0121_lossless_alignedTo_MD652-F45-2016.12.17-05.56.31_MD652_2_0134_cropped/MD652-F41-2016.12.17-04.32.16_MD652_1_0121_lossless_alignedTo_MD652-F45-2016.12.17-05.56.31_MD652_2_0134_cropped_patch_locations.txt s3://mousebrainatlas-data/CSHL_patch_features/inception-bn-blue/MD652/MD652-F41-2016.12.17-04.32.16_MD652_1_0121_lossless_alignedTo_MD652-F45-2016.12.17-05.56.31_MD652_2_0134_cropped/MD652-F41-2016.12.17-04.32.16_MD652_1_0121_lossless_alignedTo_MD652-F45-2016.12.17-05.56.31_MD652_2_0134_cropped_patch_locations.txt\n"
     ]
    },
    {
     "name": "stderr",
     "output_type": "stream",
     "text": [
      "Child returned 0\n",
      "0.82 seconds.\n",
      "save: 4.36 seconds\n",
      "\n",
      "Section 213.\n",
      "locate patches: 0.02 seconds\n",
      "61769 samples.\n",
      "load image: 0.27 seconds\n",
      "extract patches: 5.92 seconds\n",
      "predict: 35.15 seconds\n"
     ]
    },
    {
     "name": "stdout",
     "output_type": "stream",
     "text": [
      "aws s3 cp /shared/CSHL_patch_features/inception-bn-blue/MD652/MD652-N41-2016.12.16-07.57.55_MD652_2_0122_lossless_alignedTo_MD652-F45-2016.12.17-05.56.31_MD652_2_0134_cropped/MD652-N41-2016.12.16-07.57.55_MD652_2_0122_lossless_alignedTo_MD652-F45-2016.12.17-05.56.31_MD652_2_0134_cropped_features.bp s3://mousebrainatlas-data/CSHL_patch_features/inception-bn-blue/MD652/MD652-N41-2016.12.16-07.57.55_MD652_2_0122_lossless_alignedTo_MD652-F45-2016.12.17-05.56.31_MD652_2_0134_cropped/MD652-N41-2016.12.16-07.57.55_MD652_2_0122_lossless_alignedTo_MD652-F45-2016.12.17-05.56.31_MD652_2_0134_cropped_features.bp\n"
     ]
    },
    {
     "name": "stderr",
     "output_type": "stream",
     "text": [
      "Child returned 0\n",
      "2.25 seconds.\n"
     ]
    },
    {
     "name": "stdout",
     "output_type": "stream",
     "text": [
      "aws s3 cp /shared/CSHL_patch_features/inception-bn-blue/MD652/MD652-N41-2016.12.16-07.57.55_MD652_2_0122_lossless_alignedTo_MD652-F45-2016.12.17-05.56.31_MD652_2_0134_cropped/MD652-N41-2016.12.16-07.57.55_MD652_2_0122_lossless_alignedTo_MD652-F45-2016.12.17-05.56.31_MD652_2_0134_cropped_patch_locations.txt s3://mousebrainatlas-data/CSHL_patch_features/inception-bn-blue/MD652/MD652-N41-2016.12.16-07.57.55_MD652_2_0122_lossless_alignedTo_MD652-F45-2016.12.17-05.56.31_MD652_2_0134_cropped/MD652-N41-2016.12.16-07.57.55_MD652_2_0122_lossless_alignedTo_MD652-F45-2016.12.17-05.56.31_MD652_2_0134_cropped_patch_locations.txt\n"
     ]
    },
    {
     "name": "stderr",
     "output_type": "stream",
     "text": [
      "Child returned 0\n",
      "0.93 seconds.\n",
      "save: 4.34 seconds\n",
      "\n",
      "Section 214.\n",
      "locate patches: 0.03 seconds\n",
      "63052 samples.\n",
      "load image: 0.27 seconds\n",
      "extract patches: 6.02 seconds\n",
      "predict: 49.45 seconds\n"
     ]
    },
    {
     "name": "stdout",
     "output_type": "stream",
     "text": [
      "aws s3 cp /shared/CSHL_patch_features/inception-bn-blue/MD652/MD652-F41-2016.12.17-04.32.16_MD652_2_0122_lossless_alignedTo_MD652-F45-2016.12.17-05.56.31_MD652_2_0134_cropped/MD652-F41-2016.12.17-04.32.16_MD652_2_0122_lossless_alignedTo_MD652-F45-2016.12.17-05.56.31_MD652_2_0134_cropped_features.bp s3://mousebrainatlas-data/CSHL_patch_features/inception-bn-blue/MD652/MD652-F41-2016.12.17-04.32.16_MD652_2_0122_lossless_alignedTo_MD652-F45-2016.12.17-05.56.31_MD652_2_0134_cropped/MD652-F41-2016.12.17-04.32.16_MD652_2_0122_lossless_alignedTo_MD652-F45-2016.12.17-05.56.31_MD652_2_0134_cropped_features.bp\n"
     ]
    },
    {
     "name": "stderr",
     "output_type": "stream",
     "text": [
      "Child returned 0\n",
      "2.56 seconds.\n"
     ]
    },
    {
     "name": "stdout",
     "output_type": "stream",
     "text": [
      "aws s3 cp /shared/CSHL_patch_features/inception-bn-blue/MD652/MD652-F41-2016.12.17-04.32.16_MD652_2_0122_lossless_alignedTo_MD652-F45-2016.12.17-05.56.31_MD652_2_0134_cropped/MD652-F41-2016.12.17-04.32.16_MD652_2_0122_lossless_alignedTo_MD652-F45-2016.12.17-05.56.31_MD652_2_0134_cropped_patch_locations.txt s3://mousebrainatlas-data/CSHL_patch_features/inception-bn-blue/MD652/MD652-F41-2016.12.17-04.32.16_MD652_2_0122_lossless_alignedTo_MD652-F45-2016.12.17-05.56.31_MD652_2_0134_cropped/MD652-F41-2016.12.17-04.32.16_MD652_2_0122_lossless_alignedTo_MD652-F45-2016.12.17-05.56.31_MD652_2_0134_cropped_patch_locations.txt\n"
     ]
    },
    {
     "name": "stderr",
     "output_type": "stream",
     "text": [
      "Child returned 0\n",
      "0.79 seconds.\n",
      "save: 4.55 seconds\n",
      "\n",
      "Section 215.\n",
      "locate patches: 0.02 seconds\n",
      "60837 samples.\n",
      "load image: 0.27 seconds\n",
      "extract patches: 5.86 seconds\n",
      "predict: 34.53 seconds\n"
     ]
    },
    {
     "name": "stdout",
     "output_type": "stream",
     "text": [
      "aws s3 cp /shared/CSHL_patch_features/inception-bn-blue/MD652/MD652-N42-2016.12.16-08.02.35_MD652_1_0124_lossless_alignedTo_MD652-F45-2016.12.17-05.56.31_MD652_2_0134_cropped/MD652-N42-2016.12.16-08.02.35_MD652_1_0124_lossless_alignedTo_MD652-F45-2016.12.17-05.56.31_MD652_2_0134_cropped_features.bp s3://mousebrainatlas-data/CSHL_patch_features/inception-bn-blue/MD652/MD652-N42-2016.12.16-08.02.35_MD652_1_0124_lossless_alignedTo_MD652-F45-2016.12.17-05.56.31_MD652_2_0134_cropped/MD652-N42-2016.12.16-08.02.35_MD652_1_0124_lossless_alignedTo_MD652-F45-2016.12.17-05.56.31_MD652_2_0134_cropped_features.bp\n"
     ]
    },
    {
     "name": "stderr",
     "output_type": "stream",
     "text": [
      "Child returned 0\n",
      "2.55 seconds.\n"
     ]
    },
    {
     "name": "stdout",
     "output_type": "stream",
     "text": [
      "aws s3 cp /shared/CSHL_patch_features/inception-bn-blue/MD652/MD652-N42-2016.12.16-08.02.35_MD652_1_0124_lossless_alignedTo_MD652-F45-2016.12.17-05.56.31_MD652_2_0134_cropped/MD652-N42-2016.12.16-08.02.35_MD652_1_0124_lossless_alignedTo_MD652-F45-2016.12.17-05.56.31_MD652_2_0134_cropped_patch_locations.txt s3://mousebrainatlas-data/CSHL_patch_features/inception-bn-blue/MD652/MD652-N42-2016.12.16-08.02.35_MD652_1_0124_lossless_alignedTo_MD652-F45-2016.12.17-05.56.31_MD652_2_0134_cropped/MD652-N42-2016.12.16-08.02.35_MD652_1_0124_lossless_alignedTo_MD652-F45-2016.12.17-05.56.31_MD652_2_0134_cropped_patch_locations.txt\n"
     ]
    },
    {
     "name": "stderr",
     "output_type": "stream",
     "text": [
      "Child returned 0\n",
      "0.83 seconds.\n",
      "save: 4.52 seconds\n",
      "\n",
      "Section 216.\n",
      "locate patches: 0.03 seconds\n",
      "61554 samples.\n",
      "load image: 0.27 seconds\n",
      "extract patches: 5.90 seconds\n",
      "predict: 34.79 seconds\n"
     ]
    },
    {
     "name": "stdout",
     "output_type": "stream",
     "text": [
      "aws s3 cp /shared/CSHL_patch_features/inception-bn-blue/MD652/MD652-F42-2016.12.17-04.52.39_MD652_1_0124_lossless_alignedTo_MD652-F45-2016.12.17-05.56.31_MD652_2_0134_cropped/MD652-F42-2016.12.17-04.52.39_MD652_1_0124_lossless_alignedTo_MD652-F45-2016.12.17-05.56.31_MD652_2_0134_cropped_features.bp s3://mousebrainatlas-data/CSHL_patch_features/inception-bn-blue/MD652/MD652-F42-2016.12.17-04.52.39_MD652_1_0124_lossless_alignedTo_MD652-F45-2016.12.17-05.56.31_MD652_2_0134_cropped/MD652-F42-2016.12.17-04.52.39_MD652_1_0124_lossless_alignedTo_MD652-F45-2016.12.17-05.56.31_MD652_2_0134_cropped_features.bp\n"
     ]
    },
    {
     "name": "stderr",
     "output_type": "stream",
     "text": [
      "Child returned 0\n",
      "2.43 seconds.\n"
     ]
    },
    {
     "name": "stdout",
     "output_type": "stream",
     "text": [
      "aws s3 cp /shared/CSHL_patch_features/inception-bn-blue/MD652/MD652-F42-2016.12.17-04.52.39_MD652_1_0124_lossless_alignedTo_MD652-F45-2016.12.17-05.56.31_MD652_2_0134_cropped/MD652-F42-2016.12.17-04.52.39_MD652_1_0124_lossless_alignedTo_MD652-F45-2016.12.17-05.56.31_MD652_2_0134_cropped_patch_locations.txt s3://mousebrainatlas-data/CSHL_patch_features/inception-bn-blue/MD652/MD652-F42-2016.12.17-04.52.39_MD652_1_0124_lossless_alignedTo_MD652-F45-2016.12.17-05.56.31_MD652_2_0134_cropped/MD652-F42-2016.12.17-04.52.39_MD652_1_0124_lossless_alignedTo_MD652-F45-2016.12.17-05.56.31_MD652_2_0134_cropped_patch_locations.txt\n"
     ]
    },
    {
     "name": "stderr",
     "output_type": "stream",
     "text": [
      "Child returned 0\n",
      "0.83 seconds.\n",
      "save: 4.42 seconds\n",
      "\n",
      "Section 217.\n",
      "locate patches: 0.02 seconds\n",
      "61628 samples.\n",
      "load image: 0.27 seconds\n",
      "extract patches: 6.89 seconds\n",
      "predict: 35.09 seconds\n"
     ]
    },
    {
     "name": "stdout",
     "output_type": "stream",
     "text": [
      "aws s3 cp /shared/CSHL_patch_features/inception-bn-blue/MD652/MD652-N42-2016.12.16-08.02.35_MD652_2_0125_lossless_alignedTo_MD652-F45-2016.12.17-05.56.31_MD652_2_0134_cropped/MD652-N42-2016.12.16-08.02.35_MD652_2_0125_lossless_alignedTo_MD652-F45-2016.12.17-05.56.31_MD652_2_0134_cropped_features.bp s3://mousebrainatlas-data/CSHL_patch_features/inception-bn-blue/MD652/MD652-N42-2016.12.16-08.02.35_MD652_2_0125_lossless_alignedTo_MD652-F45-2016.12.17-05.56.31_MD652_2_0134_cropped/MD652-N42-2016.12.16-08.02.35_MD652_2_0125_lossless_alignedTo_MD652-F45-2016.12.17-05.56.31_MD652_2_0134_cropped_features.bp\n"
     ]
    },
    {
     "name": "stderr",
     "output_type": "stream",
     "text": [
      "Child returned 0\n",
      "2.23 seconds.\n"
     ]
    },
    {
     "name": "stdout",
     "output_type": "stream",
     "text": [
      "aws s3 cp /shared/CSHL_patch_features/inception-bn-blue/MD652/MD652-N42-2016.12.16-08.02.35_MD652_2_0125_lossless_alignedTo_MD652-F45-2016.12.17-05.56.31_MD652_2_0134_cropped/MD652-N42-2016.12.16-08.02.35_MD652_2_0125_lossless_alignedTo_MD652-F45-2016.12.17-05.56.31_MD652_2_0134_cropped_patch_locations.txt s3://mousebrainatlas-data/CSHL_patch_features/inception-bn-blue/MD652/MD652-N42-2016.12.16-08.02.35_MD652_2_0125_lossless_alignedTo_MD652-F45-2016.12.17-05.56.31_MD652_2_0134_cropped/MD652-N42-2016.12.16-08.02.35_MD652_2_0125_lossless_alignedTo_MD652-F45-2016.12.17-05.56.31_MD652_2_0134_cropped_patch_locations.txt\n"
     ]
    },
    {
     "name": "stderr",
     "output_type": "stream",
     "text": [
      "Child returned 0\n",
      "0.78 seconds.\n",
      "save: 4.17 seconds\n",
      "\n",
      "Section 218.\n",
      "locate patches: 0.02 seconds\n",
      "62371 samples.\n",
      "load image: 0.27 seconds\n",
      "extract patches: 5.95 seconds\n",
      "predict: 35.36 seconds\n"
     ]
    },
    {
     "name": "stdout",
     "output_type": "stream",
     "text": [
      "aws s3 cp /shared/CSHL_patch_features/inception-bn-blue/MD652/MD652-F42-2016.12.17-04.52.39_MD652_2_0125_lossless_alignedTo_MD652-F45-2016.12.17-05.56.31_MD652_2_0134_cropped/MD652-F42-2016.12.17-04.52.39_MD652_2_0125_lossless_alignedTo_MD652-F45-2016.12.17-05.56.31_MD652_2_0134_cropped_features.bp s3://mousebrainatlas-data/CSHL_patch_features/inception-bn-blue/MD652/MD652-F42-2016.12.17-04.52.39_MD652_2_0125_lossless_alignedTo_MD652-F45-2016.12.17-05.56.31_MD652_2_0134_cropped/MD652-F42-2016.12.17-04.52.39_MD652_2_0125_lossless_alignedTo_MD652-F45-2016.12.17-05.56.31_MD652_2_0134_cropped_features.bp\n"
     ]
    },
    {
     "name": "stderr",
     "output_type": "stream",
     "text": [
      "Child returned 0\n",
      "2.52 seconds.\n"
     ]
    },
    {
     "name": "stdout",
     "output_type": "stream",
     "text": [
      "aws s3 cp /shared/CSHL_patch_features/inception-bn-blue/MD652/MD652-F42-2016.12.17-04.52.39_MD652_2_0125_lossless_alignedTo_MD652-F45-2016.12.17-05.56.31_MD652_2_0134_cropped/MD652-F42-2016.12.17-04.52.39_MD652_2_0125_lossless_alignedTo_MD652-F45-2016.12.17-05.56.31_MD652_2_0134_cropped_patch_locations.txt s3://mousebrainatlas-data/CSHL_patch_features/inception-bn-blue/MD652/MD652-F42-2016.12.17-04.52.39_MD652_2_0125_lossless_alignedTo_MD652-F45-2016.12.17-05.56.31_MD652_2_0134_cropped/MD652-F42-2016.12.17-04.52.39_MD652_2_0125_lossless_alignedTo_MD652-F45-2016.12.17-05.56.31_MD652_2_0134_cropped_patch_locations.txt\n"
     ]
    },
    {
     "name": "stderr",
     "output_type": "stream",
     "text": [
      "Child returned 0\n",
      "0.78 seconds.\n",
      "save: 4.47 seconds\n",
      "\n",
      "Section 219.\n",
      "locate patches: 0.02 seconds\n",
      "62209 samples.\n",
      "load image: 0.27 seconds\n",
      "extract patches: 6.97 seconds\n",
      "predict: 35.45 seconds\n"
     ]
    },
    {
     "name": "stdout",
     "output_type": "stream",
     "text": [
      "aws s3 cp /shared/CSHL_patch_features/inception-bn-blue/MD652/MD652-N43-2016.12.16-08.07.23_MD652_1_0127_lossless_alignedTo_MD652-F45-2016.12.17-05.56.31_MD652_2_0134_cropped/MD652-N43-2016.12.16-08.07.23_MD652_1_0127_lossless_alignedTo_MD652-F45-2016.12.17-05.56.31_MD652_2_0134_cropped_features.bp s3://mousebrainatlas-data/CSHL_patch_features/inception-bn-blue/MD652/MD652-N43-2016.12.16-08.07.23_MD652_1_0127_lossless_alignedTo_MD652-F45-2016.12.17-05.56.31_MD652_2_0134_cropped/MD652-N43-2016.12.16-08.07.23_MD652_1_0127_lossless_alignedTo_MD652-F45-2016.12.17-05.56.31_MD652_2_0134_cropped_features.bp\n"
     ]
    },
    {
     "name": "stderr",
     "output_type": "stream",
     "text": [
      "Child returned 0\n",
      "2.53 seconds.\n"
     ]
    },
    {
     "name": "stdout",
     "output_type": "stream",
     "text": [
      "aws s3 cp /shared/CSHL_patch_features/inception-bn-blue/MD652/MD652-N43-2016.12.16-08.07.23_MD652_1_0127_lossless_alignedTo_MD652-F45-2016.12.17-05.56.31_MD652_2_0134_cropped/MD652-N43-2016.12.16-08.07.23_MD652_1_0127_lossless_alignedTo_MD652-F45-2016.12.17-05.56.31_MD652_2_0134_cropped_patch_locations.txt s3://mousebrainatlas-data/CSHL_patch_features/inception-bn-blue/MD652/MD652-N43-2016.12.16-08.07.23_MD652_1_0127_lossless_alignedTo_MD652-F45-2016.12.17-05.56.31_MD652_2_0134_cropped/MD652-N43-2016.12.16-08.07.23_MD652_1_0127_lossless_alignedTo_MD652-F45-2016.12.17-05.56.31_MD652_2_0134_cropped_patch_locations.txt\n"
     ]
    },
    {
     "name": "stderr",
     "output_type": "stream",
     "text": [
      "Child returned 0\n",
      "0.84 seconds.\n",
      "save: 4.53 seconds\n",
      "\n",
      "Section 220.\n",
      "locate patches: 0.02 seconds\n",
      "62438 samples.\n",
      "load image: 0.27 seconds\n",
      "extract patches: 7.01 seconds\n",
      "predict: 35.73 seconds\n"
     ]
    },
    {
     "name": "stdout",
     "output_type": "stream",
     "text": [
      "aws s3 cp /shared/CSHL_patch_features/inception-bn-blue/MD652/MD652-F43-2016.12.17-05.14.08_MD652_1_0127_lossless_alignedTo_MD652-F45-2016.12.17-05.56.31_MD652_2_0134_cropped/MD652-F43-2016.12.17-05.14.08_MD652_1_0127_lossless_alignedTo_MD652-F45-2016.12.17-05.56.31_MD652_2_0134_cropped_features.bp s3://mousebrainatlas-data/CSHL_patch_features/inception-bn-blue/MD652/MD652-F43-2016.12.17-05.14.08_MD652_1_0127_lossless_alignedTo_MD652-F45-2016.12.17-05.56.31_MD652_2_0134_cropped/MD652-F43-2016.12.17-05.14.08_MD652_1_0127_lossless_alignedTo_MD652-F45-2016.12.17-05.56.31_MD652_2_0134_cropped_features.bp\n"
     ]
    },
    {
     "name": "stderr",
     "output_type": "stream",
     "text": [
      "Child returned 0\n",
      "2.35 seconds.\n"
     ]
    },
    {
     "name": "stdout",
     "output_type": "stream",
     "text": [
      "aws s3 cp /shared/CSHL_patch_features/inception-bn-blue/MD652/MD652-F43-2016.12.17-05.14.08_MD652_1_0127_lossless_alignedTo_MD652-F45-2016.12.17-05.56.31_MD652_2_0134_cropped/MD652-F43-2016.12.17-05.14.08_MD652_1_0127_lossless_alignedTo_MD652-F45-2016.12.17-05.56.31_MD652_2_0134_cropped_patch_locations.txt s3://mousebrainatlas-data/CSHL_patch_features/inception-bn-blue/MD652/MD652-F43-2016.12.17-05.14.08_MD652_1_0127_lossless_alignedTo_MD652-F45-2016.12.17-05.56.31_MD652_2_0134_cropped/MD652-F43-2016.12.17-05.14.08_MD652_1_0127_lossless_alignedTo_MD652-F45-2016.12.17-05.56.31_MD652_2_0134_cropped_patch_locations.txt\n"
     ]
    },
    {
     "name": "stderr",
     "output_type": "stream",
     "text": [
      "Child returned 0\n",
      "0.84 seconds.\n",
      "save: 4.36 seconds\n",
      "\n",
      "Section 221.\n",
      "locate patches: 0.02 seconds\n",
      "62428 samples.\n",
      "load image: 0.27 seconds\n",
      "extract patches: 7.01 seconds\n",
      "predict: 35.70 seconds\n"
     ]
    },
    {
     "name": "stdout",
     "output_type": "stream",
     "text": [
      "aws s3 cp /shared/CSHL_patch_features/inception-bn-blue/MD652/MD652-N43-2016.12.16-08.07.23_MD652_2_0128_lossless_alignedTo_MD652-F45-2016.12.17-05.56.31_MD652_2_0134_cropped/MD652-N43-2016.12.16-08.07.23_MD652_2_0128_lossless_alignedTo_MD652-F45-2016.12.17-05.56.31_MD652_2_0134_cropped_features.bp s3://mousebrainatlas-data/CSHL_patch_features/inception-bn-blue/MD652/MD652-N43-2016.12.16-08.07.23_MD652_2_0128_lossless_alignedTo_MD652-F45-2016.12.17-05.56.31_MD652_2_0134_cropped/MD652-N43-2016.12.16-08.07.23_MD652_2_0128_lossless_alignedTo_MD652-F45-2016.12.17-05.56.31_MD652_2_0134_cropped_features.bp\n"
     ]
    },
    {
     "name": "stderr",
     "output_type": "stream",
     "text": [
      "Child returned 0\n",
      "2.39 seconds.\n"
     ]
    },
    {
     "name": "stdout",
     "output_type": "stream",
     "text": [
      "aws s3 cp /shared/CSHL_patch_features/inception-bn-blue/MD652/MD652-N43-2016.12.16-08.07.23_MD652_2_0128_lossless_alignedTo_MD652-F45-2016.12.17-05.56.31_MD652_2_0134_cropped/MD652-N43-2016.12.16-08.07.23_MD652_2_0128_lossless_alignedTo_MD652-F45-2016.12.17-05.56.31_MD652_2_0134_cropped_patch_locations.txt s3://mousebrainatlas-data/CSHL_patch_features/inception-bn-blue/MD652/MD652-N43-2016.12.16-08.07.23_MD652_2_0128_lossless_alignedTo_MD652-F45-2016.12.17-05.56.31_MD652_2_0134_cropped/MD652-N43-2016.12.16-08.07.23_MD652_2_0128_lossless_alignedTo_MD652-F45-2016.12.17-05.56.31_MD652_2_0134_cropped_patch_locations.txt\n"
     ]
    },
    {
     "name": "stderr",
     "output_type": "stream",
     "text": [
      "Child returned 0\n",
      "0.88 seconds.\n",
      "save: 4.45 seconds\n",
      "\n",
      "Section 222.\n",
      "locate patches: 0.03 seconds\n",
      "63023 samples.\n",
      "load image: 0.27 seconds\n",
      "extract patches: 6.03 seconds\n",
      "predict: 40.67 seconds\n"
     ]
    },
    {
     "name": "stdout",
     "output_type": "stream",
     "text": [
      "aws s3 cp /shared/CSHL_patch_features/inception-bn-blue/MD652/MD652-F43-2016.12.17-05.14.08_MD652_2_0128_lossless_alignedTo_MD652-F45-2016.12.17-05.56.31_MD652_2_0134_cropped/MD652-F43-2016.12.17-05.14.08_MD652_2_0128_lossless_alignedTo_MD652-F45-2016.12.17-05.56.31_MD652_2_0134_cropped_features.bp s3://mousebrainatlas-data/CSHL_patch_features/inception-bn-blue/MD652/MD652-F43-2016.12.17-05.14.08_MD652_2_0128_lossless_alignedTo_MD652-F45-2016.12.17-05.56.31_MD652_2_0134_cropped/MD652-F43-2016.12.17-05.14.08_MD652_2_0128_lossless_alignedTo_MD652-F45-2016.12.17-05.56.31_MD652_2_0134_cropped_features.bp\n"
     ]
    },
    {
     "name": "stderr",
     "output_type": "stream",
     "text": [
      "Child returned 0\n",
      "2.47 seconds.\n"
     ]
    },
    {
     "name": "stdout",
     "output_type": "stream",
     "text": [
      "aws s3 cp /shared/CSHL_patch_features/inception-bn-blue/MD652/MD652-F43-2016.12.17-05.14.08_MD652_2_0128_lossless_alignedTo_MD652-F45-2016.12.17-05.56.31_MD652_2_0134_cropped/MD652-F43-2016.12.17-05.14.08_MD652_2_0128_lossless_alignedTo_MD652-F45-2016.12.17-05.56.31_MD652_2_0134_cropped_patch_locations.txt s3://mousebrainatlas-data/CSHL_patch_features/inception-bn-blue/MD652/MD652-F43-2016.12.17-05.14.08_MD652_2_0128_lossless_alignedTo_MD652-F45-2016.12.17-05.56.31_MD652_2_0134_cropped/MD652-F43-2016.12.17-05.14.08_MD652_2_0128_lossless_alignedTo_MD652-F45-2016.12.17-05.56.31_MD652_2_0134_cropped_patch_locations.txt\n"
     ]
    },
    {
     "name": "stderr",
     "output_type": "stream",
     "text": [
      "Child returned 0\n",
      "0.83 seconds.\n",
      "save: 4.49 seconds\n",
      "\n",
      "Section 223.\n",
      "locate patches: 0.02 seconds\n",
      "62046 samples.\n",
      "load image: 0.27 seconds\n",
      "extract patches: 6.98 seconds\n",
      "predict: 35.67 seconds\n"
     ]
    },
    {
     "name": "stdout",
     "output_type": "stream",
     "text": [
      "aws s3 cp /shared/CSHL_patch_features/inception-bn-blue/MD652/MD652-N44-2016.12.16-08.12.21_MD652_1_0130_lossless_alignedTo_MD652-F45-2016.12.17-05.56.31_MD652_2_0134_cropped/MD652-N44-2016.12.16-08.12.21_MD652_1_0130_lossless_alignedTo_MD652-F45-2016.12.17-05.56.31_MD652_2_0134_cropped_features.bp s3://mousebrainatlas-data/CSHL_patch_features/inception-bn-blue/MD652/MD652-N44-2016.12.16-08.12.21_MD652_1_0130_lossless_alignedTo_MD652-F45-2016.12.17-05.56.31_MD652_2_0134_cropped/MD652-N44-2016.12.16-08.12.21_MD652_1_0130_lossless_alignedTo_MD652-F45-2016.12.17-05.56.31_MD652_2_0134_cropped_features.bp\n"
     ]
    },
    {
     "name": "stderr",
     "output_type": "stream",
     "text": [
      "Child returned 0\n",
      "2.12 seconds.\n"
     ]
    },
    {
     "name": "stdout",
     "output_type": "stream",
     "text": [
      "aws s3 cp /shared/CSHL_patch_features/inception-bn-blue/MD652/MD652-N44-2016.12.16-08.12.21_MD652_1_0130_lossless_alignedTo_MD652-F45-2016.12.17-05.56.31_MD652_2_0134_cropped/MD652-N44-2016.12.16-08.12.21_MD652_1_0130_lossless_alignedTo_MD652-F45-2016.12.17-05.56.31_MD652_2_0134_cropped_patch_locations.txt s3://mousebrainatlas-data/CSHL_patch_features/inception-bn-blue/MD652/MD652-N44-2016.12.16-08.12.21_MD652_1_0130_lossless_alignedTo_MD652-F45-2016.12.17-05.56.31_MD652_2_0134_cropped/MD652-N44-2016.12.16-08.12.21_MD652_1_0130_lossless_alignedTo_MD652-F45-2016.12.17-05.56.31_MD652_2_0134_cropped_patch_locations.txt\n"
     ]
    },
    {
     "name": "stderr",
     "output_type": "stream",
     "text": [
      "Child returned 0\n",
      "0.83 seconds.\n",
      "save: 4.12 seconds\n",
      "\n",
      "Section 224.\n",
      "locate patches: 0.02 seconds\n",
      "62428 samples.\n",
      "load image: 0.27 seconds\n",
      "extract patches: 5.99 seconds\n",
      "predict: 35.41 seconds\n"
     ]
    },
    {
     "name": "stdout",
     "output_type": "stream",
     "text": [
      "aws s3 cp /shared/CSHL_patch_features/inception-bn-blue/MD652/MD652-F44-2016.12.17-05.33.57_MD652_1_0130_lossless_alignedTo_MD652-F45-2016.12.17-05.56.31_MD652_2_0134_cropped/MD652-F44-2016.12.17-05.33.57_MD652_1_0130_lossless_alignedTo_MD652-F45-2016.12.17-05.56.31_MD652_2_0134_cropped_features.bp s3://mousebrainatlas-data/CSHL_patch_features/inception-bn-blue/MD652/MD652-F44-2016.12.17-05.33.57_MD652_1_0130_lossless_alignedTo_MD652-F45-2016.12.17-05.56.31_MD652_2_0134_cropped/MD652-F44-2016.12.17-05.33.57_MD652_1_0130_lossless_alignedTo_MD652-F45-2016.12.17-05.56.31_MD652_2_0134_cropped_features.bp\n"
     ]
    },
    {
     "name": "stderr",
     "output_type": "stream",
     "text": [
      "Child returned 0\n",
      "3.38 seconds.\n"
     ]
    },
    {
     "name": "stdout",
     "output_type": "stream",
     "text": [
      "aws s3 cp /shared/CSHL_patch_features/inception-bn-blue/MD652/MD652-F44-2016.12.17-05.33.57_MD652_1_0130_lossless_alignedTo_MD652-F45-2016.12.17-05.56.31_MD652_2_0134_cropped/MD652-F44-2016.12.17-05.33.57_MD652_1_0130_lossless_alignedTo_MD652-F45-2016.12.17-05.56.31_MD652_2_0134_cropped_patch_locations.txt s3://mousebrainatlas-data/CSHL_patch_features/inception-bn-blue/MD652/MD652-F44-2016.12.17-05.33.57_MD652_1_0130_lossless_alignedTo_MD652-F45-2016.12.17-05.56.31_MD652_2_0134_cropped/MD652-F44-2016.12.17-05.33.57_MD652_1_0130_lossless_alignedTo_MD652-F45-2016.12.17-05.56.31_MD652_2_0134_cropped_patch_locations.txt\n"
     ]
    },
    {
     "name": "stderr",
     "output_type": "stream",
     "text": [
      "Child returned 0\n",
      "0.79 seconds.\n",
      "save: 5.34 seconds\n",
      "\n",
      "Section 225.\n",
      "locate patches: 0.02 seconds\n",
      "61927 samples.\n",
      "load image: 0.28 seconds\n",
      "extract patches: 5.89 seconds\n",
      "predict: 35.33 seconds\n"
     ]
    },
    {
     "name": "stdout",
     "output_type": "stream",
     "text": [
      "aws s3 cp /shared/CSHL_patch_features/inception-bn-blue/MD652/MD652-N44-2016.12.16-08.12.21_MD652_2_0131_lossless_alignedTo_MD652-F45-2016.12.17-05.56.31_MD652_2_0134_cropped/MD652-N44-2016.12.16-08.12.21_MD652_2_0131_lossless_alignedTo_MD652-F45-2016.12.17-05.56.31_MD652_2_0134_cropped_features.bp s3://mousebrainatlas-data/CSHL_patch_features/inception-bn-blue/MD652/MD652-N44-2016.12.16-08.12.21_MD652_2_0131_lossless_alignedTo_MD652-F45-2016.12.17-05.56.31_MD652_2_0134_cropped/MD652-N44-2016.12.16-08.12.21_MD652_2_0131_lossless_alignedTo_MD652-F45-2016.12.17-05.56.31_MD652_2_0134_cropped_features.bp\n"
     ]
    },
    {
     "name": "stderr",
     "output_type": "stream",
     "text": [
      "Child returned 0\n",
      "2.53 seconds.\n"
     ]
    },
    {
     "name": "stdout",
     "output_type": "stream",
     "text": [
      "aws s3 cp /shared/CSHL_patch_features/inception-bn-blue/MD652/MD652-N44-2016.12.16-08.12.21_MD652_2_0131_lossless_alignedTo_MD652-F45-2016.12.17-05.56.31_MD652_2_0134_cropped/MD652-N44-2016.12.16-08.12.21_MD652_2_0131_lossless_alignedTo_MD652-F45-2016.12.17-05.56.31_MD652_2_0134_cropped_patch_locations.txt s3://mousebrainatlas-data/CSHL_patch_features/inception-bn-blue/MD652/MD652-N44-2016.12.16-08.12.21_MD652_2_0131_lossless_alignedTo_MD652-F45-2016.12.17-05.56.31_MD652_2_0134_cropped/MD652-N44-2016.12.16-08.12.21_MD652_2_0131_lossless_alignedTo_MD652-F45-2016.12.17-05.56.31_MD652_2_0134_cropped_patch_locations.txt\n"
     ]
    },
    {
     "name": "stderr",
     "output_type": "stream",
     "text": [
      "Child returned 0\n",
      "0.78 seconds.\n",
      "save: 4.47 seconds\n",
      "\n",
      "Section 226.\n",
      "locate patches: 0.03 seconds\n",
      "62953 samples.\n",
      "load image: 0.27 seconds\n",
      "extract patches: 6.03 seconds\n",
      "predict: 40.00 seconds\n"
     ]
    },
    {
     "name": "stdout",
     "output_type": "stream",
     "text": [
      "aws s3 cp /shared/CSHL_patch_features/inception-bn-blue/MD652/MD652-F44-2016.12.17-05.33.57_MD652_2_0131_lossless_alignedTo_MD652-F45-2016.12.17-05.56.31_MD652_2_0134_cropped/MD652-F44-2016.12.17-05.33.57_MD652_2_0131_lossless_alignedTo_MD652-F45-2016.12.17-05.56.31_MD652_2_0134_cropped_features.bp s3://mousebrainatlas-data/CSHL_patch_features/inception-bn-blue/MD652/MD652-F44-2016.12.17-05.33.57_MD652_2_0131_lossless_alignedTo_MD652-F45-2016.12.17-05.56.31_MD652_2_0134_cropped/MD652-F44-2016.12.17-05.33.57_MD652_2_0131_lossless_alignedTo_MD652-F45-2016.12.17-05.56.31_MD652_2_0134_cropped_features.bp\n"
     ]
    },
    {
     "name": "stderr",
     "output_type": "stream",
     "text": [
      "Child returned 0\n",
      "2.81 seconds.\n"
     ]
    },
    {
     "name": "stdout",
     "output_type": "stream",
     "text": [
      "aws s3 cp /shared/CSHL_patch_features/inception-bn-blue/MD652/MD652-F44-2016.12.17-05.33.57_MD652_2_0131_lossless_alignedTo_MD652-F45-2016.12.17-05.56.31_MD652_2_0134_cropped/MD652-F44-2016.12.17-05.33.57_MD652_2_0131_lossless_alignedTo_MD652-F45-2016.12.17-05.56.31_MD652_2_0134_cropped_patch_locations.txt s3://mousebrainatlas-data/CSHL_patch_features/inception-bn-blue/MD652/MD652-F44-2016.12.17-05.33.57_MD652_2_0131_lossless_alignedTo_MD652-F45-2016.12.17-05.56.31_MD652_2_0134_cropped/MD652-F44-2016.12.17-05.33.57_MD652_2_0131_lossless_alignedTo_MD652-F45-2016.12.17-05.56.31_MD652_2_0134_cropped_patch_locations.txt\n"
     ]
    },
    {
     "name": "stderr",
     "output_type": "stream",
     "text": [
      "Child returned 0\n",
      "0.88 seconds.\n",
      "save: 4.88 seconds\n",
      "\n",
      "Section 227.\n",
      "locate patches: 0.02 seconds\n",
      "61883 samples.\n",
      "load image: 0.27 seconds\n",
      "extract patches: 5.90 seconds\n",
      "predict: 35.35 seconds\n"
     ]
    },
    {
     "name": "stdout",
     "output_type": "stream",
     "text": [
      "aws s3 cp /shared/CSHL_patch_features/inception-bn-blue/MD652/MD652-N45-2016.12.16-08.17.19_MD652_1_0133_lossless_alignedTo_MD652-F45-2016.12.17-05.56.31_MD652_2_0134_cropped/MD652-N45-2016.12.16-08.17.19_MD652_1_0133_lossless_alignedTo_MD652-F45-2016.12.17-05.56.31_MD652_2_0134_cropped_features.bp s3://mousebrainatlas-data/CSHL_patch_features/inception-bn-blue/MD652/MD652-N45-2016.12.16-08.17.19_MD652_1_0133_lossless_alignedTo_MD652-F45-2016.12.17-05.56.31_MD652_2_0134_cropped/MD652-N45-2016.12.16-08.17.19_MD652_1_0133_lossless_alignedTo_MD652-F45-2016.12.17-05.56.31_MD652_2_0134_cropped_features.bp\n"
     ]
    },
    {
     "name": "stderr",
     "output_type": "stream",
     "text": [
      "Child returned 0\n",
      "2.43 seconds.\n"
     ]
    },
    {
     "name": "stdout",
     "output_type": "stream",
     "text": [
      "aws s3 cp /shared/CSHL_patch_features/inception-bn-blue/MD652/MD652-N45-2016.12.16-08.17.19_MD652_1_0133_lossless_alignedTo_MD652-F45-2016.12.17-05.56.31_MD652_2_0134_cropped/MD652-N45-2016.12.16-08.17.19_MD652_1_0133_lossless_alignedTo_MD652-F45-2016.12.17-05.56.31_MD652_2_0134_cropped_patch_locations.txt s3://mousebrainatlas-data/CSHL_patch_features/inception-bn-blue/MD652/MD652-N45-2016.12.16-08.17.19_MD652_1_0133_lossless_alignedTo_MD652-F45-2016.12.17-05.56.31_MD652_2_0134_cropped/MD652-N45-2016.12.16-08.17.19_MD652_1_0133_lossless_alignedTo_MD652-F45-2016.12.17-05.56.31_MD652_2_0134_cropped_patch_locations.txt\n"
     ]
    },
    {
     "name": "stderr",
     "output_type": "stream",
     "text": [
      "Child returned 0\n",
      "0.88 seconds.\n",
      "save: 4.46 seconds\n",
      "\n",
      "Section 228.\n",
      "locate patches: 0.02 seconds\n",
      "61873 samples.\n",
      "load image: 0.27 seconds\n",
      "extract patches: 6.93 seconds\n",
      "predict: 35.35 seconds\n"
     ]
    },
    {
     "name": "stdout",
     "output_type": "stream",
     "text": [
      "aws s3 cp /shared/CSHL_patch_features/inception-bn-blue/MD652/MD652-F45-2016.12.17-05.56.31_MD652_1_0133_lossless_alignedTo_MD652-F45-2016.12.17-05.56.31_MD652_2_0134_cropped/MD652-F45-2016.12.17-05.56.31_MD652_1_0133_lossless_alignedTo_MD652-F45-2016.12.17-05.56.31_MD652_2_0134_cropped_features.bp s3://mousebrainatlas-data/CSHL_patch_features/inception-bn-blue/MD652/MD652-F45-2016.12.17-05.56.31_MD652_1_0133_lossless_alignedTo_MD652-F45-2016.12.17-05.56.31_MD652_2_0134_cropped/MD652-F45-2016.12.17-05.56.31_MD652_1_0133_lossless_alignedTo_MD652-F45-2016.12.17-05.56.31_MD652_2_0134_cropped_features.bp\n"
     ]
    },
    {
     "name": "stderr",
     "output_type": "stream",
     "text": [
      "Child returned 0\n",
      "2.39 seconds.\n"
     ]
    },
    {
     "name": "stdout",
     "output_type": "stream",
     "text": [
      "aws s3 cp /shared/CSHL_patch_features/inception-bn-blue/MD652/MD652-F45-2016.12.17-05.56.31_MD652_1_0133_lossless_alignedTo_MD652-F45-2016.12.17-05.56.31_MD652_2_0134_cropped/MD652-F45-2016.12.17-05.56.31_MD652_1_0133_lossless_alignedTo_MD652-F45-2016.12.17-05.56.31_MD652_2_0134_cropped_patch_locations.txt s3://mousebrainatlas-data/CSHL_patch_features/inception-bn-blue/MD652/MD652-F45-2016.12.17-05.56.31_MD652_1_0133_lossless_alignedTo_MD652-F45-2016.12.17-05.56.31_MD652_2_0134_cropped/MD652-F45-2016.12.17-05.56.31_MD652_1_0133_lossless_alignedTo_MD652-F45-2016.12.17-05.56.31_MD652_2_0134_cropped_patch_locations.txt\n"
     ]
    },
    {
     "name": "stderr",
     "output_type": "stream",
     "text": [
      "Child returned 0\n",
      "0.78 seconds.\n",
      "save: 4.33 seconds\n",
      "\n",
      "Section 229.\n",
      "locate patches: 0.02 seconds\n",
      "61957 samples.\n",
      "load image: 0.27 seconds\n",
      "extract patches: 5.92 seconds\n",
      "predict: 35.18 seconds\n"
     ]
    },
    {
     "name": "stdout",
     "output_type": "stream",
     "text": [
      "aws s3 cp /shared/CSHL_patch_features/inception-bn-blue/MD652/MD652-N45-2016.12.16-08.17.19_MD652_2_0134_lossless_alignedTo_MD652-F45-2016.12.17-05.56.31_MD652_2_0134_cropped/MD652-N45-2016.12.16-08.17.19_MD652_2_0134_lossless_alignedTo_MD652-F45-2016.12.17-05.56.31_MD652_2_0134_cropped_features.bp s3://mousebrainatlas-data/CSHL_patch_features/inception-bn-blue/MD652/MD652-N45-2016.12.16-08.17.19_MD652_2_0134_lossless_alignedTo_MD652-F45-2016.12.17-05.56.31_MD652_2_0134_cropped/MD652-N45-2016.12.16-08.17.19_MD652_2_0134_lossless_alignedTo_MD652-F45-2016.12.17-05.56.31_MD652_2_0134_cropped_features.bp\n"
     ]
    },
    {
     "name": "stderr",
     "output_type": "stream",
     "text": [
      "Child returned 0\n",
      "2.51 seconds.\n"
     ]
    },
    {
     "name": "stdout",
     "output_type": "stream",
     "text": [
      "aws s3 cp /shared/CSHL_patch_features/inception-bn-blue/MD652/MD652-N45-2016.12.16-08.17.19_MD652_2_0134_lossless_alignedTo_MD652-F45-2016.12.17-05.56.31_MD652_2_0134_cropped/MD652-N45-2016.12.16-08.17.19_MD652_2_0134_lossless_alignedTo_MD652-F45-2016.12.17-05.56.31_MD652_2_0134_cropped_patch_locations.txt s3://mousebrainatlas-data/CSHL_patch_features/inception-bn-blue/MD652/MD652-N45-2016.12.16-08.17.19_MD652_2_0134_lossless_alignedTo_MD652-F45-2016.12.17-05.56.31_MD652_2_0134_cropped/MD652-N45-2016.12.16-08.17.19_MD652_2_0134_lossless_alignedTo_MD652-F45-2016.12.17-05.56.31_MD652_2_0134_cropped_patch_locations.txt\n"
     ]
    },
    {
     "name": "stderr",
     "output_type": "stream",
     "text": [
      "Child returned 0\n",
      "0.88 seconds.\n",
      "save: 4.55 seconds\n",
      "\n",
      "Section 230.\n",
      "locate patches: 0.03 seconds\n",
      "62911 samples.\n",
      "load image: 0.27 seconds\n",
      "extract patches: 6.00 seconds\n",
      "predict: 35.84 seconds\n"
     ]
    },
    {
     "name": "stdout",
     "output_type": "stream",
     "text": [
      "aws s3 cp /shared/CSHL_patch_features/inception-bn-blue/MD652/MD652-F45-2016.12.17-05.56.31_MD652_2_0134_lossless_alignedTo_MD652-F45-2016.12.17-05.56.31_MD652_2_0134_cropped/MD652-F45-2016.12.17-05.56.31_MD652_2_0134_lossless_alignedTo_MD652-F45-2016.12.17-05.56.31_MD652_2_0134_cropped_features.bp s3://mousebrainatlas-data/CSHL_patch_features/inception-bn-blue/MD652/MD652-F45-2016.12.17-05.56.31_MD652_2_0134_lossless_alignedTo_MD652-F45-2016.12.17-05.56.31_MD652_2_0134_cropped/MD652-F45-2016.12.17-05.56.31_MD652_2_0134_lossless_alignedTo_MD652-F45-2016.12.17-05.56.31_MD652_2_0134_cropped_features.bp\n"
     ]
    },
    {
     "name": "stderr",
     "output_type": "stream",
     "text": [
      "Child returned 0\n",
      "2.48 seconds.\n"
     ]
    },
    {
     "name": "stdout",
     "output_type": "stream",
     "text": [
      "aws s3 cp /shared/CSHL_patch_features/inception-bn-blue/MD652/MD652-F45-2016.12.17-05.56.31_MD652_2_0134_lossless_alignedTo_MD652-F45-2016.12.17-05.56.31_MD652_2_0134_cropped/MD652-F45-2016.12.17-05.56.31_MD652_2_0134_lossless_alignedTo_MD652-F45-2016.12.17-05.56.31_MD652_2_0134_cropped_patch_locations.txt s3://mousebrainatlas-data/CSHL_patch_features/inception-bn-blue/MD652/MD652-F45-2016.12.17-05.56.31_MD652_2_0134_lossless_alignedTo_MD652-F45-2016.12.17-05.56.31_MD652_2_0134_cropped/MD652-F45-2016.12.17-05.56.31_MD652_2_0134_lossless_alignedTo_MD652-F45-2016.12.17-05.56.31_MD652_2_0134_cropped_patch_locations.txt\n"
     ]
    },
    {
     "name": "stderr",
     "output_type": "stream",
     "text": [
      "Child returned 0\n",
      "0.88 seconds.\n",
      "save: 4.54 seconds\n",
      "\n",
      "Section 231.\n",
      "locate patches: 0.02 seconds\n",
      "61765 samples.\n",
      "load image: 0.27 seconds\n",
      "extract patches: 5.91 seconds\n",
      "predict: 35.49 seconds\n"
     ]
    },
    {
     "name": "stdout",
     "output_type": "stream",
     "text": [
      "aws s3 cp /shared/CSHL_patch_features/inception-bn-blue/MD652/MD652-N46-2016.12.16-08.22.33_MD652_1_0136_lossless_alignedTo_MD652-F45-2016.12.17-05.56.31_MD652_2_0134_cropped/MD652-N46-2016.12.16-08.22.33_MD652_1_0136_lossless_alignedTo_MD652-F45-2016.12.17-05.56.31_MD652_2_0134_cropped_features.bp s3://mousebrainatlas-data/CSHL_patch_features/inception-bn-blue/MD652/MD652-N46-2016.12.16-08.22.33_MD652_1_0136_lossless_alignedTo_MD652-F45-2016.12.17-05.56.31_MD652_2_0134_cropped/MD652-N46-2016.12.16-08.22.33_MD652_1_0136_lossless_alignedTo_MD652-F45-2016.12.17-05.56.31_MD652_2_0134_cropped_features.bp\n"
     ]
    },
    {
     "name": "stderr",
     "output_type": "stream",
     "text": [
      "Child returned 0\n",
      "2.76 seconds.\n"
     ]
    },
    {
     "name": "stdout",
     "output_type": "stream",
     "text": [
      "aws s3 cp /shared/CSHL_patch_features/inception-bn-blue/MD652/MD652-N46-2016.12.16-08.22.33_MD652_1_0136_lossless_alignedTo_MD652-F45-2016.12.17-05.56.31_MD652_2_0134_cropped/MD652-N46-2016.12.16-08.22.33_MD652_1_0136_lossless_alignedTo_MD652-F45-2016.12.17-05.56.31_MD652_2_0134_cropped_patch_locations.txt s3://mousebrainatlas-data/CSHL_patch_features/inception-bn-blue/MD652/MD652-N46-2016.12.16-08.22.33_MD652_1_0136_lossless_alignedTo_MD652-F45-2016.12.17-05.56.31_MD652_2_0134_cropped/MD652-N46-2016.12.16-08.22.33_MD652_1_0136_lossless_alignedTo_MD652-F45-2016.12.17-05.56.31_MD652_2_0134_cropped_patch_locations.txt\n"
     ]
    },
    {
     "name": "stderr",
     "output_type": "stream",
     "text": [
      "Child returned 0\n",
      "0.83 seconds.\n",
      "save: 4.74 seconds\n",
      "\n",
      "Section 232.\n",
      "locate patches: 0.02 seconds\n",
      "62995 samples.\n",
      "load image: 0.27 seconds\n",
      "extract patches: 6.04 seconds\n",
      "predict: 35.73 seconds\n"
     ]
    },
    {
     "name": "stdout",
     "output_type": "stream",
     "text": [
      "aws s3 cp /shared/CSHL_patch_features/inception-bn-blue/MD652/MD652-F46-2016.12.17-06.19.10_MD652_1_0136_lossless_alignedTo_MD652-F45-2016.12.17-05.56.31_MD652_2_0134_cropped/MD652-F46-2016.12.17-06.19.10_MD652_1_0136_lossless_alignedTo_MD652-F45-2016.12.17-05.56.31_MD652_2_0134_cropped_features.bp s3://mousebrainatlas-data/CSHL_patch_features/inception-bn-blue/MD652/MD652-F46-2016.12.17-06.19.10_MD652_1_0136_lossless_alignedTo_MD652-F45-2016.12.17-05.56.31_MD652_2_0134_cropped/MD652-F46-2016.12.17-06.19.10_MD652_1_0136_lossless_alignedTo_MD652-F45-2016.12.17-05.56.31_MD652_2_0134_cropped_features.bp\n"
     ]
    },
    {
     "name": "stderr",
     "output_type": "stream",
     "text": [
      "Child returned 0\n",
      "2.29 seconds.\n"
     ]
    },
    {
     "name": "stdout",
     "output_type": "stream",
     "text": [
      "aws s3 cp /shared/CSHL_patch_features/inception-bn-blue/MD652/MD652-F46-2016.12.17-06.19.10_MD652_1_0136_lossless_alignedTo_MD652-F45-2016.12.17-05.56.31_MD652_2_0134_cropped/MD652-F46-2016.12.17-06.19.10_MD652_1_0136_lossless_alignedTo_MD652-F45-2016.12.17-05.56.31_MD652_2_0134_cropped_patch_locations.txt s3://mousebrainatlas-data/CSHL_patch_features/inception-bn-blue/MD652/MD652-F46-2016.12.17-06.19.10_MD652_1_0136_lossless_alignedTo_MD652-F45-2016.12.17-05.56.31_MD652_2_0134_cropped/MD652-F46-2016.12.17-06.19.10_MD652_1_0136_lossless_alignedTo_MD652-F45-2016.12.17-05.56.31_MD652_2_0134_cropped_patch_locations.txt\n"
     ]
    },
    {
     "name": "stderr",
     "output_type": "stream",
     "text": [
      "Child returned 0\n",
      "0.77 seconds.\n",
      "save: 4.25 seconds\n",
      "\n",
      "Section 233.\n",
      "locate patches: 0.02 seconds\n",
      "61421 samples.\n",
      "load image: 0.27 seconds\n",
      "extract patches: 5.86 seconds\n",
      "predict: 34.79 seconds\n"
     ]
    },
    {
     "name": "stdout",
     "output_type": "stream",
     "text": [
      "aws s3 cp /shared/CSHL_patch_features/inception-bn-blue/MD652/MD652-N46-2016.12.16-08.22.33_MD652_2_0137_lossless_alignedTo_MD652-F45-2016.12.17-05.56.31_MD652_2_0134_cropped/MD652-N46-2016.12.16-08.22.33_MD652_2_0137_lossless_alignedTo_MD652-F45-2016.12.17-05.56.31_MD652_2_0134_cropped_features.bp s3://mousebrainatlas-data/CSHL_patch_features/inception-bn-blue/MD652/MD652-N46-2016.12.16-08.22.33_MD652_2_0137_lossless_alignedTo_MD652-F45-2016.12.17-05.56.31_MD652_2_0134_cropped/MD652-N46-2016.12.16-08.22.33_MD652_2_0137_lossless_alignedTo_MD652-F45-2016.12.17-05.56.31_MD652_2_0134_cropped_features.bp\n"
     ]
    },
    {
     "name": "stderr",
     "output_type": "stream",
     "text": [
      "Child returned 0\n",
      "2.34 seconds.\n"
     ]
    },
    {
     "name": "stdout",
     "output_type": "stream",
     "text": [
      "aws s3 cp /shared/CSHL_patch_features/inception-bn-blue/MD652/MD652-N46-2016.12.16-08.22.33_MD652_2_0137_lossless_alignedTo_MD652-F45-2016.12.17-05.56.31_MD652_2_0134_cropped/MD652-N46-2016.12.16-08.22.33_MD652_2_0137_lossless_alignedTo_MD652-F45-2016.12.17-05.56.31_MD652_2_0134_cropped_patch_locations.txt s3://mousebrainatlas-data/CSHL_patch_features/inception-bn-blue/MD652/MD652-N46-2016.12.16-08.22.33_MD652_2_0137_lossless_alignedTo_MD652-F45-2016.12.17-05.56.31_MD652_2_0134_cropped/MD652-N46-2016.12.16-08.22.33_MD652_2_0137_lossless_alignedTo_MD652-F45-2016.12.17-05.56.31_MD652_2_0134_cropped_patch_locations.txt\n"
     ]
    },
    {
     "name": "stderr",
     "output_type": "stream",
     "text": [
      "Child returned 0\n",
      "0.78 seconds.\n",
      "save: 4.27 seconds\n",
      "\n",
      "Section 234.\n",
      "locate patches: 0.03 seconds\n",
      "63667 samples.\n",
      "load image: 0.27 seconds\n",
      "extract patches: 6.06 seconds\n",
      "predict: 42.04 seconds\n"
     ]
    },
    {
     "name": "stdout",
     "output_type": "stream",
     "text": [
      "aws s3 cp /shared/CSHL_patch_features/inception-bn-blue/MD652/MD652-F46-2016.12.17-06.19.10_MD652_2_0137_lossless_alignedTo_MD652-F45-2016.12.17-05.56.31_MD652_2_0134_cropped/MD652-F46-2016.12.17-06.19.10_MD652_2_0137_lossless_alignedTo_MD652-F45-2016.12.17-05.56.31_MD652_2_0134_cropped_features.bp s3://mousebrainatlas-data/CSHL_patch_features/inception-bn-blue/MD652/MD652-F46-2016.12.17-06.19.10_MD652_2_0137_lossless_alignedTo_MD652-F45-2016.12.17-05.56.31_MD652_2_0134_cropped/MD652-F46-2016.12.17-06.19.10_MD652_2_0137_lossless_alignedTo_MD652-F45-2016.12.17-05.56.31_MD652_2_0134_cropped_features.bp\n"
     ]
    },
    {
     "name": "stderr",
     "output_type": "stream",
     "text": [
      "Child returned 0\n",
      "2.38 seconds.\n"
     ]
    },
    {
     "name": "stdout",
     "output_type": "stream",
     "text": [
      "aws s3 cp /shared/CSHL_patch_features/inception-bn-blue/MD652/MD652-F46-2016.12.17-06.19.10_MD652_2_0137_lossless_alignedTo_MD652-F45-2016.12.17-05.56.31_MD652_2_0134_cropped/MD652-F46-2016.12.17-06.19.10_MD652_2_0137_lossless_alignedTo_MD652-F45-2016.12.17-05.56.31_MD652_2_0134_cropped_patch_locations.txt s3://mousebrainatlas-data/CSHL_patch_features/inception-bn-blue/MD652/MD652-F46-2016.12.17-06.19.10_MD652_2_0137_lossless_alignedTo_MD652-F45-2016.12.17-05.56.31_MD652_2_0134_cropped/MD652-F46-2016.12.17-06.19.10_MD652_2_0137_lossless_alignedTo_MD652-F45-2016.12.17-05.56.31_MD652_2_0134_cropped_patch_locations.txt\n"
     ]
    },
    {
     "name": "stderr",
     "output_type": "stream",
     "text": [
      "Child returned 0\n",
      "0.83 seconds.\n",
      "save: 4.41 seconds\n",
      "\n",
      "Section 235.\n",
      "locate patches: 0.02 seconds\n",
      "61228 samples.\n",
      "load image: 0.27 seconds\n",
      "extract patches: 5.82 seconds\n",
      "predict: 34.72 seconds\n"
     ]
    },
    {
     "name": "stdout",
     "output_type": "stream",
     "text": [
      "aws s3 cp /shared/CSHL_patch_features/inception-bn-blue/MD652/MD652-N47-2016.12.16-08.27.41_MD652_1_0139_lossless_alignedTo_MD652-F45-2016.12.17-05.56.31_MD652_2_0134_cropped/MD652-N47-2016.12.16-08.27.41_MD652_1_0139_lossless_alignedTo_MD652-F45-2016.12.17-05.56.31_MD652_2_0134_cropped_features.bp s3://mousebrainatlas-data/CSHL_patch_features/inception-bn-blue/MD652/MD652-N47-2016.12.16-08.27.41_MD652_1_0139_lossless_alignedTo_MD652-F45-2016.12.17-05.56.31_MD652_2_0134_cropped/MD652-N47-2016.12.16-08.27.41_MD652_1_0139_lossless_alignedTo_MD652-F45-2016.12.17-05.56.31_MD652_2_0134_cropped_features.bp\n"
     ]
    },
    {
     "name": "stderr",
     "output_type": "stream",
     "text": [
      "Child returned 0\n",
      "2.36 seconds.\n"
     ]
    },
    {
     "name": "stdout",
     "output_type": "stream",
     "text": [
      "aws s3 cp /shared/CSHL_patch_features/inception-bn-blue/MD652/MD652-N47-2016.12.16-08.27.41_MD652_1_0139_lossless_alignedTo_MD652-F45-2016.12.17-05.56.31_MD652_2_0134_cropped/MD652-N47-2016.12.16-08.27.41_MD652_1_0139_lossless_alignedTo_MD652-F45-2016.12.17-05.56.31_MD652_2_0134_cropped_patch_locations.txt s3://mousebrainatlas-data/CSHL_patch_features/inception-bn-blue/MD652/MD652-N47-2016.12.16-08.27.41_MD652_1_0139_lossless_alignedTo_MD652-F45-2016.12.17-05.56.31_MD652_2_0134_cropped/MD652-N47-2016.12.16-08.27.41_MD652_1_0139_lossless_alignedTo_MD652-F45-2016.12.17-05.56.31_MD652_2_0134_cropped_patch_locations.txt\n"
     ]
    },
    {
     "name": "stderr",
     "output_type": "stream",
     "text": [
      "Child returned 0\n",
      "0.83 seconds.\n",
      "save: 4.34 seconds\n",
      "\n",
      "Section 236.\n",
      "locate patches: 0.02 seconds\n",
      "59186 samples.\n",
      "load image: 0.27 seconds\n",
      "extract patches: 5.64 seconds\n",
      "predict: 33.73 seconds\n"
     ]
    },
    {
     "name": "stdout",
     "output_type": "stream",
     "text": [
      "aws s3 cp /shared/CSHL_patch_features/inception-bn-blue/MD652/MD652-F47-2016.12.17-06.39.51_MD652_1_0139_lossless_alignedTo_MD652-F45-2016.12.17-05.56.31_MD652_2_0134_cropped/MD652-F47-2016.12.17-06.39.51_MD652_1_0139_lossless_alignedTo_MD652-F45-2016.12.17-05.56.31_MD652_2_0134_cropped_features.bp s3://mousebrainatlas-data/CSHL_patch_features/inception-bn-blue/MD652/MD652-F47-2016.12.17-06.39.51_MD652_1_0139_lossless_alignedTo_MD652-F45-2016.12.17-05.56.31_MD652_2_0134_cropped/MD652-F47-2016.12.17-06.39.51_MD652_1_0139_lossless_alignedTo_MD652-F45-2016.12.17-05.56.31_MD652_2_0134_cropped_features.bp\n"
     ]
    },
    {
     "name": "stderr",
     "output_type": "stream",
     "text": [
      "Child returned 0\n",
      "2.47 seconds.\n"
     ]
    },
    {
     "name": "stdout",
     "output_type": "stream",
     "text": [
      "aws s3 cp /shared/CSHL_patch_features/inception-bn-blue/MD652/MD652-F47-2016.12.17-06.39.51_MD652_1_0139_lossless_alignedTo_MD652-F45-2016.12.17-05.56.31_MD652_2_0134_cropped/MD652-F47-2016.12.17-06.39.51_MD652_1_0139_lossless_alignedTo_MD652-F45-2016.12.17-05.56.31_MD652_2_0134_cropped_patch_locations.txt s3://mousebrainatlas-data/CSHL_patch_features/inception-bn-blue/MD652/MD652-F47-2016.12.17-06.39.51_MD652_1_0139_lossless_alignedTo_MD652-F45-2016.12.17-05.56.31_MD652_2_0134_cropped/MD652-F47-2016.12.17-06.39.51_MD652_1_0139_lossless_alignedTo_MD652-F45-2016.12.17-05.56.31_MD652_2_0134_cropped_patch_locations.txt\n"
     ]
    },
    {
     "name": "stderr",
     "output_type": "stream",
     "text": [
      "Child returned 0\n",
      "0.83 seconds.\n",
      "save: 4.41 seconds\n",
      "\n",
      "Section 237.\n",
      "locate patches: 0.02 seconds\n",
      "61683 samples.\n",
      "load image: 0.27 seconds\n",
      "extract patches: 5.88 seconds\n",
      "predict: 35.18 seconds\n"
     ]
    },
    {
     "name": "stdout",
     "output_type": "stream",
     "text": [
      "aws s3 cp /shared/CSHL_patch_features/inception-bn-blue/MD652/MD652-N47-2016.12.16-08.27.41_MD652_2_0140_lossless_alignedTo_MD652-F45-2016.12.17-05.56.31_MD652_2_0134_cropped/MD652-N47-2016.12.16-08.27.41_MD652_2_0140_lossless_alignedTo_MD652-F45-2016.12.17-05.56.31_MD652_2_0134_cropped_features.bp s3://mousebrainatlas-data/CSHL_patch_features/inception-bn-blue/MD652/MD652-N47-2016.12.16-08.27.41_MD652_2_0140_lossless_alignedTo_MD652-F45-2016.12.17-05.56.31_MD652_2_0134_cropped/MD652-N47-2016.12.16-08.27.41_MD652_2_0140_lossless_alignedTo_MD652-F45-2016.12.17-05.56.31_MD652_2_0134_cropped_features.bp\n"
     ]
    },
    {
     "name": "stderr",
     "output_type": "stream",
     "text": [
      "Child returned 0\n",
      "2.21 seconds.\n"
     ]
    },
    {
     "name": "stdout",
     "output_type": "stream",
     "text": [
      "aws s3 cp /shared/CSHL_patch_features/inception-bn-blue/MD652/MD652-N47-2016.12.16-08.27.41_MD652_2_0140_lossless_alignedTo_MD652-F45-2016.12.17-05.56.31_MD652_2_0134_cropped/MD652-N47-2016.12.16-08.27.41_MD652_2_0140_lossless_alignedTo_MD652-F45-2016.12.17-05.56.31_MD652_2_0134_cropped_patch_locations.txt s3://mousebrainatlas-data/CSHL_patch_features/inception-bn-blue/MD652/MD652-N47-2016.12.16-08.27.41_MD652_2_0140_lossless_alignedTo_MD652-F45-2016.12.17-05.56.31_MD652_2_0134_cropped/MD652-N47-2016.12.16-08.27.41_MD652_2_0140_lossless_alignedTo_MD652-F45-2016.12.17-05.56.31_MD652_2_0134_cropped_patch_locations.txt\n"
     ]
    },
    {
     "name": "stderr",
     "output_type": "stream",
     "text": [
      "Child returned 0\n",
      "0.78 seconds.\n",
      "save: 4.14 seconds\n",
      "\n",
      "Section 238.\n",
      "locate patches: 0.02 seconds\n",
      "62347 samples.\n",
      "load image: 0.27 seconds\n",
      "extract patches: 5.93 seconds\n",
      "predict: 35.43 seconds\n"
     ]
    },
    {
     "name": "stdout",
     "output_type": "stream",
     "text": [
      "aws s3 cp /shared/CSHL_patch_features/inception-bn-blue/MD652/MD652-F47-2016.12.17-06.39.51_MD652_2_0140_lossless_alignedTo_MD652-F45-2016.12.17-05.56.31_MD652_2_0134_cropped/MD652-F47-2016.12.17-06.39.51_MD652_2_0140_lossless_alignedTo_MD652-F45-2016.12.17-05.56.31_MD652_2_0134_cropped_features.bp s3://mousebrainatlas-data/CSHL_patch_features/inception-bn-blue/MD652/MD652-F47-2016.12.17-06.39.51_MD652_2_0140_lossless_alignedTo_MD652-F45-2016.12.17-05.56.31_MD652_2_0134_cropped/MD652-F47-2016.12.17-06.39.51_MD652_2_0140_lossless_alignedTo_MD652-F45-2016.12.17-05.56.31_MD652_2_0134_cropped_features.bp\n"
     ]
    },
    {
     "name": "stderr",
     "output_type": "stream",
     "text": [
      "Child returned 0\n",
      "2.64 seconds.\n"
     ]
    },
    {
     "name": "stdout",
     "output_type": "stream",
     "text": [
      "aws s3 cp /shared/CSHL_patch_features/inception-bn-blue/MD652/MD652-F47-2016.12.17-06.39.51_MD652_2_0140_lossless_alignedTo_MD652-F45-2016.12.17-05.56.31_MD652_2_0134_cropped/MD652-F47-2016.12.17-06.39.51_MD652_2_0140_lossless_alignedTo_MD652-F45-2016.12.17-05.56.31_MD652_2_0134_cropped_patch_locations.txt s3://mousebrainatlas-data/CSHL_patch_features/inception-bn-blue/MD652/MD652-F47-2016.12.17-06.39.51_MD652_2_0140_lossless_alignedTo_MD652-F45-2016.12.17-05.56.31_MD652_2_0134_cropped/MD652-F47-2016.12.17-06.39.51_MD652_2_0140_lossless_alignedTo_MD652-F45-2016.12.17-05.56.31_MD652_2_0134_cropped_patch_locations.txt\n"
     ]
    },
    {
     "name": "stderr",
     "output_type": "stream",
     "text": [
      "Child returned 0\n",
      "0.83 seconds.\n",
      "save: 4.64 seconds\n",
      "\n",
      "Section 239.\n",
      "locate patches: 0.02 seconds\n",
      "61783 samples.\n",
      "load image: 0.27 seconds\n",
      "extract patches: 5.89 seconds\n",
      "predict: 35.07 seconds\n"
     ]
    },
    {
     "name": "stdout",
     "output_type": "stream",
     "text": [
      "aws s3 cp /shared/CSHL_patch_features/inception-bn-blue/MD652/MD652-N48-2016.12.16-08.32.56_MD652_1_0142_lossless_alignedTo_MD652-F45-2016.12.17-05.56.31_MD652_2_0134_cropped/MD652-N48-2016.12.16-08.32.56_MD652_1_0142_lossless_alignedTo_MD652-F45-2016.12.17-05.56.31_MD652_2_0134_cropped_features.bp s3://mousebrainatlas-data/CSHL_patch_features/inception-bn-blue/MD652/MD652-N48-2016.12.16-08.32.56_MD652_1_0142_lossless_alignedTo_MD652-F45-2016.12.17-05.56.31_MD652_2_0134_cropped/MD652-N48-2016.12.16-08.32.56_MD652_1_0142_lossless_alignedTo_MD652-F45-2016.12.17-05.56.31_MD652_2_0134_cropped_features.bp\n"
     ]
    },
    {
     "name": "stderr",
     "output_type": "stream",
     "text": [
      "Child returned 0\n",
      "2.39 seconds.\n"
     ]
    },
    {
     "name": "stdout",
     "output_type": "stream",
     "text": [
      "aws s3 cp /shared/CSHL_patch_features/inception-bn-blue/MD652/MD652-N48-2016.12.16-08.32.56_MD652_1_0142_lossless_alignedTo_MD652-F45-2016.12.17-05.56.31_MD652_2_0134_cropped/MD652-N48-2016.12.16-08.32.56_MD652_1_0142_lossless_alignedTo_MD652-F45-2016.12.17-05.56.31_MD652_2_0134_cropped_patch_locations.txt s3://mousebrainatlas-data/CSHL_patch_features/inception-bn-blue/MD652/MD652-N48-2016.12.16-08.32.56_MD652_1_0142_lossless_alignedTo_MD652-F45-2016.12.17-05.56.31_MD652_2_0134_cropped/MD652-N48-2016.12.16-08.32.56_MD652_1_0142_lossless_alignedTo_MD652-F45-2016.12.17-05.56.31_MD652_2_0134_cropped_patch_locations.txt\n"
     ]
    },
    {
     "name": "stderr",
     "output_type": "stream",
     "text": [
      "Child returned 0\n",
      "0.83 seconds.\n",
      "save: 4.38 seconds\n",
      "\n",
      "Section 240.\n",
      "locate patches: 0.02 seconds\n",
      "61308 samples.\n",
      "load image: 0.27 seconds\n",
      "extract patches: 5.83 seconds\n",
      "predict: 35.11 seconds\n"
     ]
    },
    {
     "name": "stdout",
     "output_type": "stream",
     "text": [
      "aws s3 cp /shared/CSHL_patch_features/inception-bn-blue/MD652/MD652-F48-2016.12.17-07.02.21_MD652_1_0142_lossless_alignedTo_MD652-F45-2016.12.17-05.56.31_MD652_2_0134_cropped/MD652-F48-2016.12.17-07.02.21_MD652_1_0142_lossless_alignedTo_MD652-F45-2016.12.17-05.56.31_MD652_2_0134_cropped_features.bp s3://mousebrainatlas-data/CSHL_patch_features/inception-bn-blue/MD652/MD652-F48-2016.12.17-07.02.21_MD652_1_0142_lossless_alignedTo_MD652-F45-2016.12.17-05.56.31_MD652_2_0134_cropped/MD652-F48-2016.12.17-07.02.21_MD652_1_0142_lossless_alignedTo_MD652-F45-2016.12.17-05.56.31_MD652_2_0134_cropped_features.bp\n"
     ]
    },
    {
     "name": "stderr",
     "output_type": "stream",
     "text": [
      "Child returned 0\n",
      "2.53 seconds.\n"
     ]
    },
    {
     "name": "stdout",
     "output_type": "stream",
     "text": [
      "aws s3 cp /shared/CSHL_patch_features/inception-bn-blue/MD652/MD652-F48-2016.12.17-07.02.21_MD652_1_0142_lossless_alignedTo_MD652-F45-2016.12.17-05.56.31_MD652_2_0134_cropped/MD652-F48-2016.12.17-07.02.21_MD652_1_0142_lossless_alignedTo_MD652-F45-2016.12.17-05.56.31_MD652_2_0134_cropped_patch_locations.txt s3://mousebrainatlas-data/CSHL_patch_features/inception-bn-blue/MD652/MD652-F48-2016.12.17-07.02.21_MD652_1_0142_lossless_alignedTo_MD652-F45-2016.12.17-05.56.31_MD652_2_0134_cropped/MD652-F48-2016.12.17-07.02.21_MD652_1_0142_lossless_alignedTo_MD652-F45-2016.12.17-05.56.31_MD652_2_0134_cropped_patch_locations.txt\n"
     ]
    },
    {
     "name": "stderr",
     "output_type": "stream",
     "text": [
      "Child returned 0\n",
      "0.83 seconds.\n",
      "save: 4.50 seconds\n",
      "\n",
      "Section 241.\n",
      "locate patches: 0.02 seconds\n",
      "61370 samples.\n",
      "load image: 0.27 seconds\n",
      "extract patches: 5.86 seconds\n",
      "predict: 34.98 seconds\n"
     ]
    },
    {
     "name": "stdout",
     "output_type": "stream",
     "text": [
      "aws s3 cp /shared/CSHL_patch_features/inception-bn-blue/MD652/MD652-N48-2016.12.16-08.32.56_MD652_2_0143_lossless_alignedTo_MD652-F45-2016.12.17-05.56.31_MD652_2_0134_cropped/MD652-N48-2016.12.16-08.32.56_MD652_2_0143_lossless_alignedTo_MD652-F45-2016.12.17-05.56.31_MD652_2_0134_cropped_features.bp s3://mousebrainatlas-data/CSHL_patch_features/inception-bn-blue/MD652/MD652-N48-2016.12.16-08.32.56_MD652_2_0143_lossless_alignedTo_MD652-F45-2016.12.17-05.56.31_MD652_2_0134_cropped/MD652-N48-2016.12.16-08.32.56_MD652_2_0143_lossless_alignedTo_MD652-F45-2016.12.17-05.56.31_MD652_2_0134_cropped_features.bp\n"
     ]
    },
    {
     "name": "stderr",
     "output_type": "stream",
     "text": [
      "Child returned 0\n",
      "2.46 seconds.\n"
     ]
    },
    {
     "name": "stdout",
     "output_type": "stream",
     "text": [
      "aws s3 cp /shared/CSHL_patch_features/inception-bn-blue/MD652/MD652-N48-2016.12.16-08.32.56_MD652_2_0143_lossless_alignedTo_MD652-F45-2016.12.17-05.56.31_MD652_2_0134_cropped/MD652-N48-2016.12.16-08.32.56_MD652_2_0143_lossless_alignedTo_MD652-F45-2016.12.17-05.56.31_MD652_2_0134_cropped_patch_locations.txt s3://mousebrainatlas-data/CSHL_patch_features/inception-bn-blue/MD652/MD652-N48-2016.12.16-08.32.56_MD652_2_0143_lossless_alignedTo_MD652-F45-2016.12.17-05.56.31_MD652_2_0134_cropped/MD652-N48-2016.12.16-08.32.56_MD652_2_0143_lossless_alignedTo_MD652-F45-2016.12.17-05.56.31_MD652_2_0134_cropped_patch_locations.txt\n"
     ]
    },
    {
     "name": "stderr",
     "output_type": "stream",
     "text": [
      "Child returned 0\n",
      "0.78 seconds.\n",
      "save: 4.39 seconds\n",
      "\n",
      "Section 242.\n",
      "locate patches: 0.02 seconds\n",
      "61963 samples.\n",
      "load image: 0.27 seconds\n",
      "extract patches: 5.91 seconds\n",
      "predict: 35.27 seconds\n"
     ]
    },
    {
     "name": "stdout",
     "output_type": "stream",
     "text": [
      "aws s3 cp /shared/CSHL_patch_features/inception-bn-blue/MD652/MD652-F48-2016.12.17-07.02.21_MD652_2_0143_lossless_alignedTo_MD652-F45-2016.12.17-05.56.31_MD652_2_0134_cropped/MD652-F48-2016.12.17-07.02.21_MD652_2_0143_lossless_alignedTo_MD652-F45-2016.12.17-05.56.31_MD652_2_0134_cropped_features.bp s3://mousebrainatlas-data/CSHL_patch_features/inception-bn-blue/MD652/MD652-F48-2016.12.17-07.02.21_MD652_2_0143_lossless_alignedTo_MD652-F45-2016.12.17-05.56.31_MD652_2_0134_cropped/MD652-F48-2016.12.17-07.02.21_MD652_2_0143_lossless_alignedTo_MD652-F45-2016.12.17-05.56.31_MD652_2_0134_cropped_features.bp\n"
     ]
    },
    {
     "name": "stderr",
     "output_type": "stream",
     "text": [
      "Child returned 0\n",
      "2.38 seconds.\n"
     ]
    },
    {
     "name": "stdout",
     "output_type": "stream",
     "text": [
      "aws s3 cp /shared/CSHL_patch_features/inception-bn-blue/MD652/MD652-F48-2016.12.17-07.02.21_MD652_2_0143_lossless_alignedTo_MD652-F45-2016.12.17-05.56.31_MD652_2_0134_cropped/MD652-F48-2016.12.17-07.02.21_MD652_2_0143_lossless_alignedTo_MD652-F45-2016.12.17-05.56.31_MD652_2_0134_cropped_patch_locations.txt s3://mousebrainatlas-data/CSHL_patch_features/inception-bn-blue/MD652/MD652-F48-2016.12.17-07.02.21_MD652_2_0143_lossless_alignedTo_MD652-F45-2016.12.17-05.56.31_MD652_2_0134_cropped/MD652-F48-2016.12.17-07.02.21_MD652_2_0143_lossless_alignedTo_MD652-F45-2016.12.17-05.56.31_MD652_2_0134_cropped_patch_locations.txt\n"
     ]
    },
    {
     "name": "stderr",
     "output_type": "stream",
     "text": [
      "Child returned 0\n",
      "0.83 seconds.\n",
      "save: 4.37 seconds\n",
      "\n",
      "Section 243.\n",
      "locate patches: 0.02 seconds\n",
      "62163 samples.\n",
      "load image: 0.27 seconds\n",
      "extract patches: 5.92 seconds\n",
      "predict: 35.50 seconds\n"
     ]
    },
    {
     "name": "stdout",
     "output_type": "stream",
     "text": [
      "aws s3 cp /shared/CSHL_patch_features/inception-bn-blue/MD652/MD652-N49-2016.12.16-08.37.58_MD652_1_0145_lossless_alignedTo_MD652-F45-2016.12.17-05.56.31_MD652_2_0134_cropped/MD652-N49-2016.12.16-08.37.58_MD652_1_0145_lossless_alignedTo_MD652-F45-2016.12.17-05.56.31_MD652_2_0134_cropped_features.bp s3://mousebrainatlas-data/CSHL_patch_features/inception-bn-blue/MD652/MD652-N49-2016.12.16-08.37.58_MD652_1_0145_lossless_alignedTo_MD652-F45-2016.12.17-05.56.31_MD652_2_0134_cropped/MD652-N49-2016.12.16-08.37.58_MD652_1_0145_lossless_alignedTo_MD652-F45-2016.12.17-05.56.31_MD652_2_0134_cropped_features.bp\n"
     ]
    },
    {
     "name": "stderr",
     "output_type": "stream",
     "text": [
      "Child returned 0\n",
      "2.56 seconds.\n"
     ]
    },
    {
     "name": "stdout",
     "output_type": "stream",
     "text": [
      "aws s3 cp /shared/CSHL_patch_features/inception-bn-blue/MD652/MD652-N49-2016.12.16-08.37.58_MD652_1_0145_lossless_alignedTo_MD652-F45-2016.12.17-05.56.31_MD652_2_0134_cropped/MD652-N49-2016.12.16-08.37.58_MD652_1_0145_lossless_alignedTo_MD652-F45-2016.12.17-05.56.31_MD652_2_0134_cropped_patch_locations.txt s3://mousebrainatlas-data/CSHL_patch_features/inception-bn-blue/MD652/MD652-N49-2016.12.16-08.37.58_MD652_1_0145_lossless_alignedTo_MD652-F45-2016.12.17-05.56.31_MD652_2_0134_cropped/MD652-N49-2016.12.16-08.37.58_MD652_1_0145_lossless_alignedTo_MD652-F45-2016.12.17-05.56.31_MD652_2_0134_cropped_patch_locations.txt\n"
     ]
    },
    {
     "name": "stderr",
     "output_type": "stream",
     "text": [
      "Child returned 0\n",
      "0.79 seconds.\n",
      "save: 4.51 seconds\n",
      "\n",
      "Section 244.\n",
      "locate patches: 0.02 seconds\n",
      "61530 samples.\n",
      "load image: 0.27 seconds\n",
      "extract patches: 5.87 seconds\n",
      "predict: 34.98 seconds\n"
     ]
    },
    {
     "name": "stdout",
     "output_type": "stream",
     "text": [
      "aws s3 cp /shared/CSHL_patch_features/inception-bn-blue/MD652/MD652-F49-2016.12.17-07.24.25_MD652_1_0145_lossless_alignedTo_MD652-F45-2016.12.17-05.56.31_MD652_2_0134_cropped/MD652-F49-2016.12.17-07.24.25_MD652_1_0145_lossless_alignedTo_MD652-F45-2016.12.17-05.56.31_MD652_2_0134_cropped_features.bp s3://mousebrainatlas-data/CSHL_patch_features/inception-bn-blue/MD652/MD652-F49-2016.12.17-07.24.25_MD652_1_0145_lossless_alignedTo_MD652-F45-2016.12.17-05.56.31_MD652_2_0134_cropped/MD652-F49-2016.12.17-07.24.25_MD652_1_0145_lossless_alignedTo_MD652-F45-2016.12.17-05.56.31_MD652_2_0134_cropped_features.bp\n"
     ]
    },
    {
     "name": "stderr",
     "output_type": "stream",
     "text": [
      "Child returned 0\n",
      "2.50 seconds.\n"
     ]
    },
    {
     "name": "stdout",
     "output_type": "stream",
     "text": [
      "aws s3 cp /shared/CSHL_patch_features/inception-bn-blue/MD652/MD652-F49-2016.12.17-07.24.25_MD652_1_0145_lossless_alignedTo_MD652-F45-2016.12.17-05.56.31_MD652_2_0134_cropped/MD652-F49-2016.12.17-07.24.25_MD652_1_0145_lossless_alignedTo_MD652-F45-2016.12.17-05.56.31_MD652_2_0134_cropped_patch_locations.txt s3://mousebrainatlas-data/CSHL_patch_features/inception-bn-blue/MD652/MD652-F49-2016.12.17-07.24.25_MD652_1_0145_lossless_alignedTo_MD652-F45-2016.12.17-05.56.31_MD652_2_0134_cropped/MD652-F49-2016.12.17-07.24.25_MD652_1_0145_lossless_alignedTo_MD652-F45-2016.12.17-05.56.31_MD652_2_0134_cropped_patch_locations.txt\n"
     ]
    },
    {
     "name": "stderr",
     "output_type": "stream",
     "text": [
      "Child returned 0\n",
      "0.83 seconds.\n",
      "save: 4.49 seconds\n",
      "\n",
      "Section 245.\n",
      "locate patches: 0.02 seconds\n",
      "61143 samples.\n",
      "load image: 0.27 seconds\n",
      "extract patches: 5.85 seconds\n",
      "predict: 34.71 seconds\n"
     ]
    },
    {
     "name": "stdout",
     "output_type": "stream",
     "text": [
      "aws s3 cp /shared/CSHL_patch_features/inception-bn-blue/MD652/MD652-N49-2016.12.16-08.37.58_MD652_2_0146_lossless_alignedTo_MD652-F45-2016.12.17-05.56.31_MD652_2_0134_cropped/MD652-N49-2016.12.16-08.37.58_MD652_2_0146_lossless_alignedTo_MD652-F45-2016.12.17-05.56.31_MD652_2_0134_cropped_features.bp s3://mousebrainatlas-data/CSHL_patch_features/inception-bn-blue/MD652/MD652-N49-2016.12.16-08.37.58_MD652_2_0146_lossless_alignedTo_MD652-F45-2016.12.17-05.56.31_MD652_2_0134_cropped/MD652-N49-2016.12.16-08.37.58_MD652_2_0146_lossless_alignedTo_MD652-F45-2016.12.17-05.56.31_MD652_2_0134_cropped_features.bp\n"
     ]
    },
    {
     "name": "stderr",
     "output_type": "stream",
     "text": [
      "Child returned 0\n",
      "2.77 seconds.\n"
     ]
    },
    {
     "name": "stdout",
     "output_type": "stream",
     "text": [
      "aws s3 cp /shared/CSHL_patch_features/inception-bn-blue/MD652/MD652-N49-2016.12.16-08.37.58_MD652_2_0146_lossless_alignedTo_MD652-F45-2016.12.17-05.56.31_MD652_2_0134_cropped/MD652-N49-2016.12.16-08.37.58_MD652_2_0146_lossless_alignedTo_MD652-F45-2016.12.17-05.56.31_MD652_2_0134_cropped_patch_locations.txt s3://mousebrainatlas-data/CSHL_patch_features/inception-bn-blue/MD652/MD652-N49-2016.12.16-08.37.58_MD652_2_0146_lossless_alignedTo_MD652-F45-2016.12.17-05.56.31_MD652_2_0134_cropped/MD652-N49-2016.12.16-08.37.58_MD652_2_0146_lossless_alignedTo_MD652-F45-2016.12.17-05.56.31_MD652_2_0134_cropped_patch_locations.txt\n"
     ]
    },
    {
     "name": "stderr",
     "output_type": "stream",
     "text": [
      "Child returned 0\n",
      "0.84 seconds.\n",
      "save: 4.75 seconds\n",
      "\n",
      "Section 246.\n",
      "locate patches: 0.02 seconds\n",
      "61269 samples.\n",
      "load image: 0.27 seconds\n",
      "extract patches: 5.84 seconds\n",
      "predict: 35.04 seconds\n"
     ]
    },
    {
     "name": "stdout",
     "output_type": "stream",
     "text": [
      "aws s3 cp /shared/CSHL_patch_features/inception-bn-blue/MD652/MD652-F49-2016.12.17-07.24.25_MD652_2_0146_lossless_alignedTo_MD652-F45-2016.12.17-05.56.31_MD652_2_0134_cropped/MD652-F49-2016.12.17-07.24.25_MD652_2_0146_lossless_alignedTo_MD652-F45-2016.12.17-05.56.31_MD652_2_0134_cropped_features.bp s3://mousebrainatlas-data/CSHL_patch_features/inception-bn-blue/MD652/MD652-F49-2016.12.17-07.24.25_MD652_2_0146_lossless_alignedTo_MD652-F45-2016.12.17-05.56.31_MD652_2_0134_cropped/MD652-F49-2016.12.17-07.24.25_MD652_2_0146_lossless_alignedTo_MD652-F45-2016.12.17-05.56.31_MD652_2_0134_cropped_features.bp\n"
     ]
    },
    {
     "name": "stderr",
     "output_type": "stream",
     "text": [
      "Child returned 0\n",
      "2.66 seconds.\n"
     ]
    },
    {
     "name": "stdout",
     "output_type": "stream",
     "text": [
      "aws s3 cp /shared/CSHL_patch_features/inception-bn-blue/MD652/MD652-F49-2016.12.17-07.24.25_MD652_2_0146_lossless_alignedTo_MD652-F45-2016.12.17-05.56.31_MD652_2_0134_cropped/MD652-F49-2016.12.17-07.24.25_MD652_2_0146_lossless_alignedTo_MD652-F45-2016.12.17-05.56.31_MD652_2_0134_cropped_patch_locations.txt s3://mousebrainatlas-data/CSHL_patch_features/inception-bn-blue/MD652/MD652-F49-2016.12.17-07.24.25_MD652_2_0146_lossless_alignedTo_MD652-F45-2016.12.17-05.56.31_MD652_2_0134_cropped/MD652-F49-2016.12.17-07.24.25_MD652_2_0146_lossless_alignedTo_MD652-F45-2016.12.17-05.56.31_MD652_2_0134_cropped_patch_locations.txt\n"
     ]
    },
    {
     "name": "stderr",
     "output_type": "stream",
     "text": [
      "Child returned 0\n",
      "0.83 seconds.\n",
      "save: 4.65 seconds\n",
      "\n",
      "Section 247.\n",
      "locate patches: 0.03 seconds\n",
      "61278 samples.\n",
      "load image: 0.28 seconds\n",
      "extract patches: 5.95 seconds\n",
      "predict: 34.98 seconds\n"
     ]
    },
    {
     "name": "stdout",
     "output_type": "stream",
     "text": [
      "aws s3 cp /shared/CSHL_patch_features/inception-bn-blue/MD652/MD652-N50-2016.12.16-08.43.08_MD652_1_0148_lossless_alignedTo_MD652-F45-2016.12.17-05.56.31_MD652_2_0134_cropped/MD652-N50-2016.12.16-08.43.08_MD652_1_0148_lossless_alignedTo_MD652-F45-2016.12.17-05.56.31_MD652_2_0134_cropped_features.bp s3://mousebrainatlas-data/CSHL_patch_features/inception-bn-blue/MD652/MD652-N50-2016.12.16-08.43.08_MD652_1_0148_lossless_alignedTo_MD652-F45-2016.12.17-05.56.31_MD652_2_0134_cropped/MD652-N50-2016.12.16-08.43.08_MD652_1_0148_lossless_alignedTo_MD652-F45-2016.12.17-05.56.31_MD652_2_0134_cropped_features.bp\n"
     ]
    },
    {
     "name": "stderr",
     "output_type": "stream",
     "text": [
      "Child returned 0\n",
      "2.63 seconds.\n"
     ]
    },
    {
     "name": "stdout",
     "output_type": "stream",
     "text": [
      "aws s3 cp /shared/CSHL_patch_features/inception-bn-blue/MD652/MD652-N50-2016.12.16-08.43.08_MD652_1_0148_lossless_alignedTo_MD652-F45-2016.12.17-05.56.31_MD652_2_0134_cropped/MD652-N50-2016.12.16-08.43.08_MD652_1_0148_lossless_alignedTo_MD652-F45-2016.12.17-05.56.31_MD652_2_0134_cropped_patch_locations.txt s3://mousebrainatlas-data/CSHL_patch_features/inception-bn-blue/MD652/MD652-N50-2016.12.16-08.43.08_MD652_1_0148_lossless_alignedTo_MD652-F45-2016.12.17-05.56.31_MD652_2_0134_cropped/MD652-N50-2016.12.16-08.43.08_MD652_1_0148_lossless_alignedTo_MD652-F45-2016.12.17-05.56.31_MD652_2_0134_cropped_patch_locations.txt\n"
     ]
    },
    {
     "name": "stderr",
     "output_type": "stream",
     "text": [
      "Child returned 0\n",
      "0.78 seconds.\n",
      "save: 4.56 seconds\n",
      "\n",
      "Section 248.\n",
      "locate patches: 0.02 seconds\n",
      "60147 samples.\n",
      "load image: 0.28 seconds\n",
      "extract patches: 6.82 seconds\n",
      "predict: 34.21 seconds\n"
     ]
    },
    {
     "name": "stdout",
     "output_type": "stream",
     "text": [
      "aws s3 cp /shared/CSHL_patch_features/inception-bn-blue/MD652/MD652-F50-2016.12.17-07.45.18_MD652_1_0148_lossless_alignedTo_MD652-F45-2016.12.17-05.56.31_MD652_2_0134_cropped/MD652-F50-2016.12.17-07.45.18_MD652_1_0148_lossless_alignedTo_MD652-F45-2016.12.17-05.56.31_MD652_2_0134_cropped_features.bp s3://mousebrainatlas-data/CSHL_patch_features/inception-bn-blue/MD652/MD652-F50-2016.12.17-07.45.18_MD652_1_0148_lossless_alignedTo_MD652-F45-2016.12.17-05.56.31_MD652_2_0134_cropped/MD652-F50-2016.12.17-07.45.18_MD652_1_0148_lossless_alignedTo_MD652-F45-2016.12.17-05.56.31_MD652_2_0134_cropped_features.bp\n"
     ]
    },
    {
     "name": "stderr",
     "output_type": "stream",
     "text": [
      "Child returned 0\n",
      "2.30 seconds.\n"
     ]
    },
    {
     "name": "stdout",
     "output_type": "stream",
     "text": [
      "aws s3 cp /shared/CSHL_patch_features/inception-bn-blue/MD652/MD652-F50-2016.12.17-07.45.18_MD652_1_0148_lossless_alignedTo_MD652-F45-2016.12.17-05.56.31_MD652_2_0134_cropped/MD652-F50-2016.12.17-07.45.18_MD652_1_0148_lossless_alignedTo_MD652-F45-2016.12.17-05.56.31_MD652_2_0134_cropped_patch_locations.txt s3://mousebrainatlas-data/CSHL_patch_features/inception-bn-blue/MD652/MD652-F50-2016.12.17-07.45.18_MD652_1_0148_lossless_alignedTo_MD652-F45-2016.12.17-05.56.31_MD652_2_0134_cropped/MD652-F50-2016.12.17-07.45.18_MD652_1_0148_lossless_alignedTo_MD652-F45-2016.12.17-05.56.31_MD652_2_0134_cropped_patch_locations.txt\n"
     ]
    },
    {
     "name": "stderr",
     "output_type": "stream",
     "text": [
      "Child returned 0\n",
      "0.83 seconds.\n",
      "save: 4.26 seconds\n",
      "\n",
      "Section 249.\n",
      "locate patches: 0.02 seconds\n",
      "60521 samples.\n",
      "load image: 0.28 seconds\n",
      "extract patches: 5.88 seconds\n",
      "predict: 53.49 seconds\n"
     ]
    },
    {
     "name": "stdout",
     "output_type": "stream",
     "text": [
      "aws s3 cp /shared/CSHL_patch_features/inception-bn-blue/MD652/MD652-N50-2016.12.16-08.43.08_MD652_2_0149_lossless_alignedTo_MD652-F45-2016.12.17-05.56.31_MD652_2_0134_cropped/MD652-N50-2016.12.16-08.43.08_MD652_2_0149_lossless_alignedTo_MD652-F45-2016.12.17-05.56.31_MD652_2_0134_cropped_features.bp s3://mousebrainatlas-data/CSHL_patch_features/inception-bn-blue/MD652/MD652-N50-2016.12.16-08.43.08_MD652_2_0149_lossless_alignedTo_MD652-F45-2016.12.17-05.56.31_MD652_2_0134_cropped/MD652-N50-2016.12.16-08.43.08_MD652_2_0149_lossless_alignedTo_MD652-F45-2016.12.17-05.56.31_MD652_2_0134_cropped_features.bp\n"
     ]
    },
    {
     "name": "stderr",
     "output_type": "stream",
     "text": [
      "Child returned 0\n",
      "2.33 seconds.\n"
     ]
    },
    {
     "name": "stdout",
     "output_type": "stream",
     "text": [
      "aws s3 cp /shared/CSHL_patch_features/inception-bn-blue/MD652/MD652-N50-2016.12.16-08.43.08_MD652_2_0149_lossless_alignedTo_MD652-F45-2016.12.17-05.56.31_MD652_2_0134_cropped/MD652-N50-2016.12.16-08.43.08_MD652_2_0149_lossless_alignedTo_MD652-F45-2016.12.17-05.56.31_MD652_2_0134_cropped_patch_locations.txt s3://mousebrainatlas-data/CSHL_patch_features/inception-bn-blue/MD652/MD652-N50-2016.12.16-08.43.08_MD652_2_0149_lossless_alignedTo_MD652-F45-2016.12.17-05.56.31_MD652_2_0134_cropped/MD652-N50-2016.12.16-08.43.08_MD652_2_0149_lossless_alignedTo_MD652-F45-2016.12.17-05.56.31_MD652_2_0134_cropped_patch_locations.txt\n"
     ]
    },
    {
     "name": "stderr",
     "output_type": "stream",
     "text": [
      "Child returned 0\n",
      "0.86 seconds.\n",
      "save: 4.34 seconds\n",
      "\n",
      "Section 250.\n",
      "locate patches: 0.02 seconds\n",
      "60324 samples.\n",
      "load image: 0.28 seconds\n",
      "extract patches: 5.87 seconds\n",
      "predict: 34.33 seconds\n"
     ]
    },
    {
     "name": "stdout",
     "output_type": "stream",
     "text": [
      "aws s3 cp /shared/CSHL_patch_features/inception-bn-blue/MD652/MD652-F50-2016.12.17-07.45.18_MD652_2_0149_lossless_alignedTo_MD652-F45-2016.12.17-05.56.31_MD652_2_0134_cropped/MD652-F50-2016.12.17-07.45.18_MD652_2_0149_lossless_alignedTo_MD652-F45-2016.12.17-05.56.31_MD652_2_0134_cropped_features.bp s3://mousebrainatlas-data/CSHL_patch_features/inception-bn-blue/MD652/MD652-F50-2016.12.17-07.45.18_MD652_2_0149_lossless_alignedTo_MD652-F45-2016.12.17-05.56.31_MD652_2_0134_cropped/MD652-F50-2016.12.17-07.45.18_MD652_2_0149_lossless_alignedTo_MD652-F45-2016.12.17-05.56.31_MD652_2_0134_cropped_features.bp\n"
     ]
    },
    {
     "name": "stderr",
     "output_type": "stream",
     "text": [
      "Child returned 0\n",
      "2.41 seconds.\n"
     ]
    },
    {
     "name": "stdout",
     "output_type": "stream",
     "text": [
      "aws s3 cp /shared/CSHL_patch_features/inception-bn-blue/MD652/MD652-F50-2016.12.17-07.45.18_MD652_2_0149_lossless_alignedTo_MD652-F45-2016.12.17-05.56.31_MD652_2_0134_cropped/MD652-F50-2016.12.17-07.45.18_MD652_2_0149_lossless_alignedTo_MD652-F45-2016.12.17-05.56.31_MD652_2_0134_cropped_patch_locations.txt s3://mousebrainatlas-data/CSHL_patch_features/inception-bn-blue/MD652/MD652-F50-2016.12.17-07.45.18_MD652_2_0149_lossless_alignedTo_MD652-F45-2016.12.17-05.56.31_MD652_2_0134_cropped/MD652-F50-2016.12.17-07.45.18_MD652_2_0149_lossless_alignedTo_MD652-F45-2016.12.17-05.56.31_MD652_2_0134_cropped_patch_locations.txt\n"
     ]
    },
    {
     "name": "stderr",
     "output_type": "stream",
     "text": [
      "Child returned 0\n",
      "0.88 seconds.\n",
      "save: 4.43 seconds\n",
      "\n",
      "Section 251.\n",
      "locate patches: 0.02 seconds\n",
      "60443 samples.\n",
      "load image: 0.28 seconds\n",
      "extract patches: 5.86 seconds\n",
      "predict: 34.39 seconds\n"
     ]
    },
    {
     "name": "stdout",
     "output_type": "stream",
     "text": [
      "aws s3 cp /shared/CSHL_patch_features/inception-bn-blue/MD652/MD652-N51-2016.12.16-08.48.37_MD652_1_0151_lossless_alignedTo_MD652-F45-2016.12.17-05.56.31_MD652_2_0134_cropped/MD652-N51-2016.12.16-08.48.37_MD652_1_0151_lossless_alignedTo_MD652-F45-2016.12.17-05.56.31_MD652_2_0134_cropped_features.bp s3://mousebrainatlas-data/CSHL_patch_features/inception-bn-blue/MD652/MD652-N51-2016.12.16-08.48.37_MD652_1_0151_lossless_alignedTo_MD652-F45-2016.12.17-05.56.31_MD652_2_0134_cropped/MD652-N51-2016.12.16-08.48.37_MD652_1_0151_lossless_alignedTo_MD652-F45-2016.12.17-05.56.31_MD652_2_0134_cropped_features.bp\n"
     ]
    },
    {
     "name": "stderr",
     "output_type": "stream",
     "text": [
      "Child returned 0\n",
      "2.66 seconds.\n"
     ]
    },
    {
     "name": "stdout",
     "output_type": "stream",
     "text": [
      "aws s3 cp /shared/CSHL_patch_features/inception-bn-blue/MD652/MD652-N51-2016.12.16-08.48.37_MD652_1_0151_lossless_alignedTo_MD652-F45-2016.12.17-05.56.31_MD652_2_0134_cropped/MD652-N51-2016.12.16-08.48.37_MD652_1_0151_lossless_alignedTo_MD652-F45-2016.12.17-05.56.31_MD652_2_0134_cropped_patch_locations.txt s3://mousebrainatlas-data/CSHL_patch_features/inception-bn-blue/MD652/MD652-N51-2016.12.16-08.48.37_MD652_1_0151_lossless_alignedTo_MD652-F45-2016.12.17-05.56.31_MD652_2_0134_cropped/MD652-N51-2016.12.16-08.48.37_MD652_1_0151_lossless_alignedTo_MD652-F45-2016.12.17-05.56.31_MD652_2_0134_cropped_patch_locations.txt\n"
     ]
    },
    {
     "name": "stderr",
     "output_type": "stream",
     "text": [
      "Child returned 0\n",
      "0.78 seconds.\n",
      "save: 4.58 seconds\n",
      "\n",
      "Section 252.\n",
      "locate patches: 0.02 seconds\n",
      "60276 samples.\n",
      "load image: 0.28 seconds\n",
      "extract patches: 5.87 seconds\n",
      "predict: 34.49 seconds\n"
     ]
    },
    {
     "name": "stdout",
     "output_type": "stream",
     "text": [
      "aws s3 cp /shared/CSHL_patch_features/inception-bn-blue/MD652/MD652-F51-2016.12.17-08.06.38_MD652_1_0151_lossless_alignedTo_MD652-F45-2016.12.17-05.56.31_MD652_2_0134_cropped/MD652-F51-2016.12.17-08.06.38_MD652_1_0151_lossless_alignedTo_MD652-F45-2016.12.17-05.56.31_MD652_2_0134_cropped_features.bp s3://mousebrainatlas-data/CSHL_patch_features/inception-bn-blue/MD652/MD652-F51-2016.12.17-08.06.38_MD652_1_0151_lossless_alignedTo_MD652-F45-2016.12.17-05.56.31_MD652_2_0134_cropped/MD652-F51-2016.12.17-08.06.38_MD652_1_0151_lossless_alignedTo_MD652-F45-2016.12.17-05.56.31_MD652_2_0134_cropped_features.bp\n"
     ]
    },
    {
     "name": "stderr",
     "output_type": "stream",
     "text": [
      "Child returned 0\n",
      "2.29 seconds.\n"
     ]
    },
    {
     "name": "stdout",
     "output_type": "stream",
     "text": [
      "aws s3 cp /shared/CSHL_patch_features/inception-bn-blue/MD652/MD652-F51-2016.12.17-08.06.38_MD652_1_0151_lossless_alignedTo_MD652-F45-2016.12.17-05.56.31_MD652_2_0134_cropped/MD652-F51-2016.12.17-08.06.38_MD652_1_0151_lossless_alignedTo_MD652-F45-2016.12.17-05.56.31_MD652_2_0134_cropped_patch_locations.txt s3://mousebrainatlas-data/CSHL_patch_features/inception-bn-blue/MD652/MD652-F51-2016.12.17-08.06.38_MD652_1_0151_lossless_alignedTo_MD652-F45-2016.12.17-05.56.31_MD652_2_0134_cropped/MD652-F51-2016.12.17-08.06.38_MD652_1_0151_lossless_alignedTo_MD652-F45-2016.12.17-05.56.31_MD652_2_0134_cropped_patch_locations.txt\n"
     ]
    },
    {
     "name": "stderr",
     "output_type": "stream",
     "text": [
      "Child returned 0\n",
      "0.79 seconds.\n",
      "save: 4.21 seconds\n",
      "\n",
      "Section 253.\n",
      "locate patches: 0.02 seconds\n",
      "60896 samples.\n",
      "load image: 0.27 seconds\n",
      "extract patches: 5.82 seconds\n",
      "predict: 34.77 seconds\n"
     ]
    },
    {
     "name": "stdout",
     "output_type": "stream",
     "text": [
      "aws s3 cp /shared/CSHL_patch_features/inception-bn-blue/MD652/MD652-N51-2016.12.16-08.48.37_MD652_2_0152_lossless_alignedTo_MD652-F45-2016.12.17-05.56.31_MD652_2_0134_cropped/MD652-N51-2016.12.16-08.48.37_MD652_2_0152_lossless_alignedTo_MD652-F45-2016.12.17-05.56.31_MD652_2_0134_cropped_features.bp s3://mousebrainatlas-data/CSHL_patch_features/inception-bn-blue/MD652/MD652-N51-2016.12.16-08.48.37_MD652_2_0152_lossless_alignedTo_MD652-F45-2016.12.17-05.56.31_MD652_2_0134_cropped/MD652-N51-2016.12.16-08.48.37_MD652_2_0152_lossless_alignedTo_MD652-F45-2016.12.17-05.56.31_MD652_2_0134_cropped_features.bp\n"
     ]
    },
    {
     "name": "stderr",
     "output_type": "stream",
     "text": [
      "Child returned 0\n",
      "2.43 seconds.\n"
     ]
    },
    {
     "name": "stdout",
     "output_type": "stream",
     "text": [
      "aws s3 cp /shared/CSHL_patch_features/inception-bn-blue/MD652/MD652-N51-2016.12.16-08.48.37_MD652_2_0152_lossless_alignedTo_MD652-F45-2016.12.17-05.56.31_MD652_2_0134_cropped/MD652-N51-2016.12.16-08.48.37_MD652_2_0152_lossless_alignedTo_MD652-F45-2016.12.17-05.56.31_MD652_2_0134_cropped_patch_locations.txt s3://mousebrainatlas-data/CSHL_patch_features/inception-bn-blue/MD652/MD652-N51-2016.12.16-08.48.37_MD652_2_0152_lossless_alignedTo_MD652-F45-2016.12.17-05.56.31_MD652_2_0134_cropped/MD652-N51-2016.12.16-08.48.37_MD652_2_0152_lossless_alignedTo_MD652-F45-2016.12.17-05.56.31_MD652_2_0134_cropped_patch_locations.txt\n"
     ]
    },
    {
     "name": "stderr",
     "output_type": "stream",
     "text": [
      "Child returned 0\n",
      "0.83 seconds.\n",
      "save: 4.41 seconds\n",
      "\n",
      "Section 254.\n",
      "locate patches: 0.02 seconds\n",
      "59298 samples.\n",
      "load image: 0.27 seconds\n",
      "extract patches: 5.65 seconds\n",
      "predict: 33.77 seconds\n"
     ]
    },
    {
     "name": "stdout",
     "output_type": "stream",
     "text": [
      "aws s3 cp /shared/CSHL_patch_features/inception-bn-blue/MD652/MD652-F51-2016.12.17-08.06.38_MD652_2_0152_lossless_alignedTo_MD652-F45-2016.12.17-05.56.31_MD652_2_0134_cropped/MD652-F51-2016.12.17-08.06.38_MD652_2_0152_lossless_alignedTo_MD652-F45-2016.12.17-05.56.31_MD652_2_0134_cropped_features.bp s3://mousebrainatlas-data/CSHL_patch_features/inception-bn-blue/MD652/MD652-F51-2016.12.17-08.06.38_MD652_2_0152_lossless_alignedTo_MD652-F45-2016.12.17-05.56.31_MD652_2_0134_cropped/MD652-F51-2016.12.17-08.06.38_MD652_2_0152_lossless_alignedTo_MD652-F45-2016.12.17-05.56.31_MD652_2_0134_cropped_features.bp\n"
     ]
    },
    {
     "name": "stderr",
     "output_type": "stream",
     "text": [
      "Child returned 0\n",
      "2.36 seconds.\n"
     ]
    },
    {
     "name": "stdout",
     "output_type": "stream",
     "text": [
      "aws s3 cp /shared/CSHL_patch_features/inception-bn-blue/MD652/MD652-F51-2016.12.17-08.06.38_MD652_2_0152_lossless_alignedTo_MD652-F45-2016.12.17-05.56.31_MD652_2_0134_cropped/MD652-F51-2016.12.17-08.06.38_MD652_2_0152_lossless_alignedTo_MD652-F45-2016.12.17-05.56.31_MD652_2_0134_cropped_patch_locations.txt s3://mousebrainatlas-data/CSHL_patch_features/inception-bn-blue/MD652/MD652-F51-2016.12.17-08.06.38_MD652_2_0152_lossless_alignedTo_MD652-F45-2016.12.17-05.56.31_MD652_2_0134_cropped/MD652-F51-2016.12.17-08.06.38_MD652_2_0152_lossless_alignedTo_MD652-F45-2016.12.17-05.56.31_MD652_2_0134_cropped_patch_locations.txt\n"
     ]
    },
    {
     "name": "stderr",
     "output_type": "stream",
     "text": [
      "Child returned 0\n",
      "0.88 seconds.\n",
      "save: 4.35 seconds\n",
      "\n",
      "Section 255.\n",
      "locate patches: 0.02 seconds\n",
      "60904 samples.\n",
      "load image: 0.27 seconds\n",
      "extract patches: 5.80 seconds\n",
      "predict: 34.78 seconds\n"
     ]
    },
    {
     "name": "stdout",
     "output_type": "stream",
     "text": [
      "aws s3 cp /shared/CSHL_patch_features/inception-bn-blue/MD652/MD652-N52-2016.12.16-08.53.31_MD652_1_0154_lossless_alignedTo_MD652-F45-2016.12.17-05.56.31_MD652_2_0134_cropped/MD652-N52-2016.12.16-08.53.31_MD652_1_0154_lossless_alignedTo_MD652-F45-2016.12.17-05.56.31_MD652_2_0134_cropped_features.bp s3://mousebrainatlas-data/CSHL_patch_features/inception-bn-blue/MD652/MD652-N52-2016.12.16-08.53.31_MD652_1_0154_lossless_alignedTo_MD652-F45-2016.12.17-05.56.31_MD652_2_0134_cropped/MD652-N52-2016.12.16-08.53.31_MD652_1_0154_lossless_alignedTo_MD652-F45-2016.12.17-05.56.31_MD652_2_0134_cropped_features.bp\n"
     ]
    },
    {
     "name": "stderr",
     "output_type": "stream",
     "text": [
      "Child returned 0\n",
      "2.48 seconds.\n"
     ]
    },
    {
     "name": "stdout",
     "output_type": "stream",
     "text": [
      "aws s3 cp /shared/CSHL_patch_features/inception-bn-blue/MD652/MD652-N52-2016.12.16-08.53.31_MD652_1_0154_lossless_alignedTo_MD652-F45-2016.12.17-05.56.31_MD652_2_0134_cropped/MD652-N52-2016.12.16-08.53.31_MD652_1_0154_lossless_alignedTo_MD652-F45-2016.12.17-05.56.31_MD652_2_0134_cropped_patch_locations.txt s3://mousebrainatlas-data/CSHL_patch_features/inception-bn-blue/MD652/MD652-N52-2016.12.16-08.53.31_MD652_1_0154_lossless_alignedTo_MD652-F45-2016.12.17-05.56.31_MD652_2_0134_cropped/MD652-N52-2016.12.16-08.53.31_MD652_1_0154_lossless_alignedTo_MD652-F45-2016.12.17-05.56.31_MD652_2_0134_cropped_patch_locations.txt\n"
     ]
    },
    {
     "name": "stderr",
     "output_type": "stream",
     "text": [
      "Child returned 0\n",
      "0.88 seconds.\n",
      "save: 4.50 seconds\n",
      "\n",
      "Section 256.\n",
      "locate patches: 0.02 seconds\n",
      "60689 samples.\n",
      "load image: 0.27 seconds\n",
      "extract patches: 5.79 seconds\n",
      "predict: 34.56 seconds\n"
     ]
    },
    {
     "name": "stdout",
     "output_type": "stream",
     "text": [
      "aws s3 cp /shared/CSHL_patch_features/inception-bn-blue/MD652/MD652-F52-2016.12.17-08.27.19_MD652_1_0154_lossless_alignedTo_MD652-F45-2016.12.17-05.56.31_MD652_2_0134_cropped/MD652-F52-2016.12.17-08.27.19_MD652_1_0154_lossless_alignedTo_MD652-F45-2016.12.17-05.56.31_MD652_2_0134_cropped_features.bp s3://mousebrainatlas-data/CSHL_patch_features/inception-bn-blue/MD652/MD652-F52-2016.12.17-08.27.19_MD652_1_0154_lossless_alignedTo_MD652-F45-2016.12.17-05.56.31_MD652_2_0134_cropped/MD652-F52-2016.12.17-08.27.19_MD652_1_0154_lossless_alignedTo_MD652-F45-2016.12.17-05.56.31_MD652_2_0134_cropped_features.bp\n"
     ]
    },
    {
     "name": "stderr",
     "output_type": "stream",
     "text": [
      "Child returned 0\n",
      "2.44 seconds.\n"
     ]
    },
    {
     "name": "stdout",
     "output_type": "stream",
     "text": [
      "aws s3 cp /shared/CSHL_patch_features/inception-bn-blue/MD652/MD652-F52-2016.12.17-08.27.19_MD652_1_0154_lossless_alignedTo_MD652-F45-2016.12.17-05.56.31_MD652_2_0134_cropped/MD652-F52-2016.12.17-08.27.19_MD652_1_0154_lossless_alignedTo_MD652-F45-2016.12.17-05.56.31_MD652_2_0134_cropped_patch_locations.txt s3://mousebrainatlas-data/CSHL_patch_features/inception-bn-blue/MD652/MD652-F52-2016.12.17-08.27.19_MD652_1_0154_lossless_alignedTo_MD652-F45-2016.12.17-05.56.31_MD652_2_0134_cropped/MD652-F52-2016.12.17-08.27.19_MD652_1_0154_lossless_alignedTo_MD652-F45-2016.12.17-05.56.31_MD652_2_0134_cropped_patch_locations.txt\n"
     ]
    },
    {
     "name": "stderr",
     "output_type": "stream",
     "text": [
      "Child returned 0\n",
      "0.83 seconds.\n",
      "save: 4.41 seconds\n",
      "\n",
      "Section 257.\n",
      "locate patches: 0.02 seconds\n",
      "59945 samples.\n",
      "load image: 0.27 seconds\n",
      "extract patches: 5.72 seconds\n",
      "predict: 34.07 seconds\n"
     ]
    },
    {
     "name": "stdout",
     "output_type": "stream",
     "text": [
      "aws s3 cp /shared/CSHL_patch_features/inception-bn-blue/MD652/MD652-N52-2016.12.16-08.53.31_MD652_2_0155_lossless_alignedTo_MD652-F45-2016.12.17-05.56.31_MD652_2_0134_cropped/MD652-N52-2016.12.16-08.53.31_MD652_2_0155_lossless_alignedTo_MD652-F45-2016.12.17-05.56.31_MD652_2_0134_cropped_features.bp s3://mousebrainatlas-data/CSHL_patch_features/inception-bn-blue/MD652/MD652-N52-2016.12.16-08.53.31_MD652_2_0155_lossless_alignedTo_MD652-F45-2016.12.17-05.56.31_MD652_2_0134_cropped/MD652-N52-2016.12.16-08.53.31_MD652_2_0155_lossless_alignedTo_MD652-F45-2016.12.17-05.56.31_MD652_2_0134_cropped_features.bp\n"
     ]
    },
    {
     "name": "stderr",
     "output_type": "stream",
     "text": [
      "Child returned 0\n",
      "2.17 seconds.\n"
     ]
    },
    {
     "name": "stdout",
     "output_type": "stream",
     "text": [
      "aws s3 cp /shared/CSHL_patch_features/inception-bn-blue/MD652/MD652-N52-2016.12.16-08.53.31_MD652_2_0155_lossless_alignedTo_MD652-F45-2016.12.17-05.56.31_MD652_2_0134_cropped/MD652-N52-2016.12.16-08.53.31_MD652_2_0155_lossless_alignedTo_MD652-F45-2016.12.17-05.56.31_MD652_2_0134_cropped_patch_locations.txt s3://mousebrainatlas-data/CSHL_patch_features/inception-bn-blue/MD652/MD652-N52-2016.12.16-08.53.31_MD652_2_0155_lossless_alignedTo_MD652-F45-2016.12.17-05.56.31_MD652_2_0134_cropped/MD652-N52-2016.12.16-08.53.31_MD652_2_0155_lossless_alignedTo_MD652-F45-2016.12.17-05.56.31_MD652_2_0134_cropped_patch_locations.txt\n"
     ]
    },
    {
     "name": "stderr",
     "output_type": "stream",
     "text": [
      "Child returned 0\n",
      "0.85 seconds.\n",
      "save: 4.14 seconds\n",
      "\n",
      "Section 258.\n",
      "locate patches: 0.02 seconds\n",
      "61315 samples.\n",
      "load image: 0.27 seconds\n",
      "extract patches: 5.87 seconds\n",
      "predict: 35.08 seconds\n"
     ]
    },
    {
     "name": "stdout",
     "output_type": "stream",
     "text": [
      "aws s3 cp /shared/CSHL_patch_features/inception-bn-blue/MD652/MD652-F52-2016.12.17-08.27.19_MD652_2_0155_lossless_alignedTo_MD652-F45-2016.12.17-05.56.31_MD652_2_0134_cropped/MD652-F52-2016.12.17-08.27.19_MD652_2_0155_lossless_alignedTo_MD652-F45-2016.12.17-05.56.31_MD652_2_0134_cropped_features.bp s3://mousebrainatlas-data/CSHL_patch_features/inception-bn-blue/MD652/MD652-F52-2016.12.17-08.27.19_MD652_2_0155_lossless_alignedTo_MD652-F45-2016.12.17-05.56.31_MD652_2_0134_cropped/MD652-F52-2016.12.17-08.27.19_MD652_2_0155_lossless_alignedTo_MD652-F45-2016.12.17-05.56.31_MD652_2_0134_cropped_features.bp\n"
     ]
    },
    {
     "name": "stderr",
     "output_type": "stream",
     "text": [
      "Child returned 0\n",
      "2.53 seconds.\n"
     ]
    },
    {
     "name": "stdout",
     "output_type": "stream",
     "text": [
      "aws s3 cp /shared/CSHL_patch_features/inception-bn-blue/MD652/MD652-F52-2016.12.17-08.27.19_MD652_2_0155_lossless_alignedTo_MD652-F45-2016.12.17-05.56.31_MD652_2_0134_cropped/MD652-F52-2016.12.17-08.27.19_MD652_2_0155_lossless_alignedTo_MD652-F45-2016.12.17-05.56.31_MD652_2_0134_cropped_patch_locations.txt s3://mousebrainatlas-data/CSHL_patch_features/inception-bn-blue/MD652/MD652-F52-2016.12.17-08.27.19_MD652_2_0155_lossless_alignedTo_MD652-F45-2016.12.17-05.56.31_MD652_2_0134_cropped/MD652-F52-2016.12.17-08.27.19_MD652_2_0155_lossless_alignedTo_MD652-F45-2016.12.17-05.56.31_MD652_2_0134_cropped_patch_locations.txt\n"
     ]
    },
    {
     "name": "stderr",
     "output_type": "stream",
     "text": [
      "Child returned 0\n",
      "0.88 seconds.\n",
      "save: 4.56 seconds\n",
      "\n",
      "Section 259.\n",
      "locate patches: 0.02 seconds\n",
      "60898 samples.\n",
      "load image: 0.27 seconds\n",
      "extract patches: 5.79 seconds\n",
      "predict: 34.49 seconds\n"
     ]
    },
    {
     "name": "stdout",
     "output_type": "stream",
     "text": [
      "aws s3 cp /shared/CSHL_patch_features/inception-bn-blue/MD652/MD652-N53-2016.12.16-08.58.44_MD652_1_0157_lossless_alignedTo_MD652-F45-2016.12.17-05.56.31_MD652_2_0134_cropped/MD652-N53-2016.12.16-08.58.44_MD652_1_0157_lossless_alignedTo_MD652-F45-2016.12.17-05.56.31_MD652_2_0134_cropped_features.bp s3://mousebrainatlas-data/CSHL_patch_features/inception-bn-blue/MD652/MD652-N53-2016.12.16-08.58.44_MD652_1_0157_lossless_alignedTo_MD652-F45-2016.12.17-05.56.31_MD652_2_0134_cropped/MD652-N53-2016.12.16-08.58.44_MD652_1_0157_lossless_alignedTo_MD652-F45-2016.12.17-05.56.31_MD652_2_0134_cropped_features.bp\n"
     ]
    },
    {
     "name": "stderr",
     "output_type": "stream",
     "text": [
      "Child returned 0\n",
      "2.42 seconds.\n"
     ]
    },
    {
     "name": "stdout",
     "output_type": "stream",
     "text": [
      "aws s3 cp /shared/CSHL_patch_features/inception-bn-blue/MD652/MD652-N53-2016.12.16-08.58.44_MD652_1_0157_lossless_alignedTo_MD652-F45-2016.12.17-05.56.31_MD652_2_0134_cropped/MD652-N53-2016.12.16-08.58.44_MD652_1_0157_lossless_alignedTo_MD652-F45-2016.12.17-05.56.31_MD652_2_0134_cropped_patch_locations.txt s3://mousebrainatlas-data/CSHL_patch_features/inception-bn-blue/MD652/MD652-N53-2016.12.16-08.58.44_MD652_1_0157_lossless_alignedTo_MD652-F45-2016.12.17-05.56.31_MD652_2_0134_cropped/MD652-N53-2016.12.16-08.58.44_MD652_1_0157_lossless_alignedTo_MD652-F45-2016.12.17-05.56.31_MD652_2_0134_cropped_patch_locations.txt\n"
     ]
    },
    {
     "name": "stderr",
     "output_type": "stream",
     "text": [
      "Child returned 0\n",
      "0.83 seconds.\n",
      "save: 4.39 seconds\n",
      "\n",
      "Section 260.\n",
      "locate patches: 0.02 seconds\n",
      "61250 samples.\n",
      "load image: 0.27 seconds\n",
      "extract patches: 5.86 seconds\n",
      "predict: 53.52 seconds\n"
     ]
    },
    {
     "name": "stdout",
     "output_type": "stream",
     "text": [
      "aws s3 cp /shared/CSHL_patch_features/inception-bn-blue/MD652/MD652-F53-2016.12.17-08.49.58_MD652_1_0157_lossless_alignedTo_MD652-F45-2016.12.17-05.56.31_MD652_2_0134_cropped/MD652-F53-2016.12.17-08.49.58_MD652_1_0157_lossless_alignedTo_MD652-F45-2016.12.17-05.56.31_MD652_2_0134_cropped_features.bp s3://mousebrainatlas-data/CSHL_patch_features/inception-bn-blue/MD652/MD652-F53-2016.12.17-08.49.58_MD652_1_0157_lossless_alignedTo_MD652-F45-2016.12.17-05.56.31_MD652_2_0134_cropped/MD652-F53-2016.12.17-08.49.58_MD652_1_0157_lossless_alignedTo_MD652-F45-2016.12.17-05.56.31_MD652_2_0134_cropped_features.bp\n"
     ]
    },
    {
     "name": "stderr",
     "output_type": "stream",
     "text": [
      "Child returned 0\n",
      "2.61 seconds.\n"
     ]
    },
    {
     "name": "stdout",
     "output_type": "stream",
     "text": [
      "aws s3 cp /shared/CSHL_patch_features/inception-bn-blue/MD652/MD652-F53-2016.12.17-08.49.58_MD652_1_0157_lossless_alignedTo_MD652-F45-2016.12.17-05.56.31_MD652_2_0134_cropped/MD652-F53-2016.12.17-08.49.58_MD652_1_0157_lossless_alignedTo_MD652-F45-2016.12.17-05.56.31_MD652_2_0134_cropped_patch_locations.txt s3://mousebrainatlas-data/CSHL_patch_features/inception-bn-blue/MD652/MD652-F53-2016.12.17-08.49.58_MD652_1_0157_lossless_alignedTo_MD652-F45-2016.12.17-05.56.31_MD652_2_0134_cropped/MD652-F53-2016.12.17-08.49.58_MD652_1_0157_lossless_alignedTo_MD652-F45-2016.12.17-05.56.31_MD652_2_0134_cropped_patch_locations.txt\n"
     ]
    },
    {
     "name": "stderr",
     "output_type": "stream",
     "text": [
      "Child returned 0\n",
      "0.87 seconds.\n",
      "save: 4.64 seconds\n",
      "\n",
      "Section 261.\n",
      "locate patches: 0.02 seconds\n",
      "60871 samples.\n",
      "load image: 0.27 seconds\n",
      "extract patches: 5.82 seconds\n",
      "predict: 34.80 seconds\n"
     ]
    },
    {
     "name": "stdout",
     "output_type": "stream",
     "text": [
      "aws s3 cp /shared/CSHL_patch_features/inception-bn-blue/MD652/MD652-N53-2016.12.16-08.58.44_MD652_2_0158_lossless_alignedTo_MD652-F45-2016.12.17-05.56.31_MD652_2_0134_cropped/MD652-N53-2016.12.16-08.58.44_MD652_2_0158_lossless_alignedTo_MD652-F45-2016.12.17-05.56.31_MD652_2_0134_cropped_features.bp s3://mousebrainatlas-data/CSHL_patch_features/inception-bn-blue/MD652/MD652-N53-2016.12.16-08.58.44_MD652_2_0158_lossless_alignedTo_MD652-F45-2016.12.17-05.56.31_MD652_2_0134_cropped/MD652-N53-2016.12.16-08.58.44_MD652_2_0158_lossless_alignedTo_MD652-F45-2016.12.17-05.56.31_MD652_2_0134_cropped_features.bp\n"
     ]
    },
    {
     "name": "stderr",
     "output_type": "stream",
     "text": [
      "Child returned 0\n",
      "2.43 seconds.\n"
     ]
    },
    {
     "name": "stdout",
     "output_type": "stream",
     "text": [
      "aws s3 cp /shared/CSHL_patch_features/inception-bn-blue/MD652/MD652-N53-2016.12.16-08.58.44_MD652_2_0158_lossless_alignedTo_MD652-F45-2016.12.17-05.56.31_MD652_2_0134_cropped/MD652-N53-2016.12.16-08.58.44_MD652_2_0158_lossless_alignedTo_MD652-F45-2016.12.17-05.56.31_MD652_2_0134_cropped_patch_locations.txt s3://mousebrainatlas-data/CSHL_patch_features/inception-bn-blue/MD652/MD652-N53-2016.12.16-08.58.44_MD652_2_0158_lossless_alignedTo_MD652-F45-2016.12.17-05.56.31_MD652_2_0134_cropped/MD652-N53-2016.12.16-08.58.44_MD652_2_0158_lossless_alignedTo_MD652-F45-2016.12.17-05.56.31_MD652_2_0134_cropped_patch_locations.txt\n"
     ]
    },
    {
     "name": "stderr",
     "output_type": "stream",
     "text": [
      "Child returned 0\n",
      "0.83 seconds.\n",
      "save: 4.40 seconds\n",
      "\n",
      "Section 262.\n",
      "locate patches: 0.02 seconds\n",
      "61836 samples.\n",
      "load image: 0.27 seconds\n",
      "extract patches: 5.90 seconds\n",
      "predict: 35.28 seconds\n"
     ]
    },
    {
     "name": "stdout",
     "output_type": "stream",
     "text": [
      "aws s3 cp /shared/CSHL_patch_features/inception-bn-blue/MD652/MD652-F53-2016.12.17-08.49.58_MD652_2_0158_lossless_alignedTo_MD652-F45-2016.12.17-05.56.31_MD652_2_0134_cropped/MD652-F53-2016.12.17-08.49.58_MD652_2_0158_lossless_alignedTo_MD652-F45-2016.12.17-05.56.31_MD652_2_0134_cropped_features.bp s3://mousebrainatlas-data/CSHL_patch_features/inception-bn-blue/MD652/MD652-F53-2016.12.17-08.49.58_MD652_2_0158_lossless_alignedTo_MD652-F45-2016.12.17-05.56.31_MD652_2_0134_cropped/MD652-F53-2016.12.17-08.49.58_MD652_2_0158_lossless_alignedTo_MD652-F45-2016.12.17-05.56.31_MD652_2_0134_cropped_features.bp\n"
     ]
    },
    {
     "name": "stderr",
     "output_type": "stream",
     "text": [
      "Child returned 0\n",
      "2.43 seconds.\n"
     ]
    },
    {
     "name": "stdout",
     "output_type": "stream",
     "text": [
      "aws s3 cp /shared/CSHL_patch_features/inception-bn-blue/MD652/MD652-F53-2016.12.17-08.49.58_MD652_2_0158_lossless_alignedTo_MD652-F45-2016.12.17-05.56.31_MD652_2_0134_cropped/MD652-F53-2016.12.17-08.49.58_MD652_2_0158_lossless_alignedTo_MD652-F45-2016.12.17-05.56.31_MD652_2_0134_cropped_patch_locations.txt s3://mousebrainatlas-data/CSHL_patch_features/inception-bn-blue/MD652/MD652-F53-2016.12.17-08.49.58_MD652_2_0158_lossless_alignedTo_MD652-F45-2016.12.17-05.56.31_MD652_2_0134_cropped/MD652-F53-2016.12.17-08.49.58_MD652_2_0158_lossless_alignedTo_MD652-F45-2016.12.17-05.56.31_MD652_2_0134_cropped_patch_locations.txt\n"
     ]
    },
    {
     "name": "stderr",
     "output_type": "stream",
     "text": [
      "Child returned 0\n",
      "0.83 seconds.\n",
      "save: 4.42 seconds\n",
      "\n",
      "Section 263.\n",
      "locate patches: 0.02 seconds\n",
      "60779 samples.\n",
      "load image: 0.27 seconds\n",
      "extract patches: 5.83 seconds\n",
      "predict: 34.56 seconds\n"
     ]
    },
    {
     "name": "stdout",
     "output_type": "stream",
     "text": [
      "aws s3 cp /shared/CSHL_patch_features/inception-bn-blue/MD652/MD652-N54-2016.12.16-09.04.08_MD652_1_0160_lossless_alignedTo_MD652-F45-2016.12.17-05.56.31_MD652_2_0134_cropped/MD652-N54-2016.12.16-09.04.08_MD652_1_0160_lossless_alignedTo_MD652-F45-2016.12.17-05.56.31_MD652_2_0134_cropped_features.bp s3://mousebrainatlas-data/CSHL_patch_features/inception-bn-blue/MD652/MD652-N54-2016.12.16-09.04.08_MD652_1_0160_lossless_alignedTo_MD652-F45-2016.12.17-05.56.31_MD652_2_0134_cropped/MD652-N54-2016.12.16-09.04.08_MD652_1_0160_lossless_alignedTo_MD652-F45-2016.12.17-05.56.31_MD652_2_0134_cropped_features.bp\n"
     ]
    },
    {
     "name": "stderr",
     "output_type": "stream",
     "text": [
      "Child returned 0\n",
      "2.83 seconds.\n"
     ]
    },
    {
     "name": "stdout",
     "output_type": "stream",
     "text": [
      "aws s3 cp /shared/CSHL_patch_features/inception-bn-blue/MD652/MD652-N54-2016.12.16-09.04.08_MD652_1_0160_lossless_alignedTo_MD652-F45-2016.12.17-05.56.31_MD652_2_0134_cropped/MD652-N54-2016.12.16-09.04.08_MD652_1_0160_lossless_alignedTo_MD652-F45-2016.12.17-05.56.31_MD652_2_0134_cropped_patch_locations.txt s3://mousebrainatlas-data/CSHL_patch_features/inception-bn-blue/MD652/MD652-N54-2016.12.16-09.04.08_MD652_1_0160_lossless_alignedTo_MD652-F45-2016.12.17-05.56.31_MD652_2_0134_cropped/MD652-N54-2016.12.16-09.04.08_MD652_1_0160_lossless_alignedTo_MD652-F45-2016.12.17-05.56.31_MD652_2_0134_cropped_patch_locations.txt\n"
     ]
    },
    {
     "name": "stderr",
     "output_type": "stream",
     "text": [
      "Child returned 0\n",
      "0.83 seconds.\n",
      "save: 4.81 seconds\n",
      "\n",
      "Section 264.\n",
      "locate patches: 0.02 seconds\n",
      "61577 samples.\n",
      "load image: 0.41 seconds\n",
      "extract patches: 5.89 seconds\n",
      "predict: 35.17 seconds\n"
     ]
    },
    {
     "name": "stdout",
     "output_type": "stream",
     "text": [
      "aws s3 cp /shared/CSHL_patch_features/inception-bn-blue/MD652/MD652-F54-2016.12.17-09.11.29_MD652_1_0160_lossless_alignedTo_MD652-F45-2016.12.17-05.56.31_MD652_2_0134_cropped/MD652-F54-2016.12.17-09.11.29_MD652_1_0160_lossless_alignedTo_MD652-F45-2016.12.17-05.56.31_MD652_2_0134_cropped_features.bp s3://mousebrainatlas-data/CSHL_patch_features/inception-bn-blue/MD652/MD652-F54-2016.12.17-09.11.29_MD652_1_0160_lossless_alignedTo_MD652-F45-2016.12.17-05.56.31_MD652_2_0134_cropped/MD652-F54-2016.12.17-09.11.29_MD652_1_0160_lossless_alignedTo_MD652-F45-2016.12.17-05.56.31_MD652_2_0134_cropped_features.bp\n"
     ]
    },
    {
     "name": "stderr",
     "output_type": "stream",
     "text": [
      "Child returned 0\n",
      "2.37 seconds.\n"
     ]
    },
    {
     "name": "stdout",
     "output_type": "stream",
     "text": [
      "aws s3 cp /shared/CSHL_patch_features/inception-bn-blue/MD652/MD652-F54-2016.12.17-09.11.29_MD652_1_0160_lossless_alignedTo_MD652-F45-2016.12.17-05.56.31_MD652_2_0134_cropped/MD652-F54-2016.12.17-09.11.29_MD652_1_0160_lossless_alignedTo_MD652-F45-2016.12.17-05.56.31_MD652_2_0134_cropped_patch_locations.txt s3://mousebrainatlas-data/CSHL_patch_features/inception-bn-blue/MD652/MD652-F54-2016.12.17-09.11.29_MD652_1_0160_lossless_alignedTo_MD652-F45-2016.12.17-05.56.31_MD652_2_0134_cropped/MD652-F54-2016.12.17-09.11.29_MD652_1_0160_lossless_alignedTo_MD652-F45-2016.12.17-05.56.31_MD652_2_0134_cropped_patch_locations.txt\n"
     ]
    },
    {
     "name": "stderr",
     "output_type": "stream",
     "text": [
      "Child returned 0\n",
      "0.83 seconds.\n",
      "save: 4.36 seconds\n",
      "\n",
      "Section 265.\n",
      "locate patches: 0.02 seconds\n",
      "60524 samples.\n",
      "load image: 0.27 seconds\n",
      "extract patches: 5.78 seconds\n",
      "predict: 34.54 seconds\n"
     ]
    },
    {
     "name": "stdout",
     "output_type": "stream",
     "text": [
      "aws s3 cp /shared/CSHL_patch_features/inception-bn-blue/MD652/MD652-N54-2016.12.16-09.04.08_MD652_2_0161_lossless_alignedTo_MD652-F45-2016.12.17-05.56.31_MD652_2_0134_cropped/MD652-N54-2016.12.16-09.04.08_MD652_2_0161_lossless_alignedTo_MD652-F45-2016.12.17-05.56.31_MD652_2_0134_cropped_features.bp s3://mousebrainatlas-data/CSHL_patch_features/inception-bn-blue/MD652/MD652-N54-2016.12.16-09.04.08_MD652_2_0161_lossless_alignedTo_MD652-F45-2016.12.17-05.56.31_MD652_2_0134_cropped/MD652-N54-2016.12.16-09.04.08_MD652_2_0161_lossless_alignedTo_MD652-F45-2016.12.17-05.56.31_MD652_2_0134_cropped_features.bp\n"
     ]
    },
    {
     "name": "stderr",
     "output_type": "stream",
     "text": [
      "Child returned 0\n",
      "2.65 seconds.\n"
     ]
    },
    {
     "name": "stdout",
     "output_type": "stream",
     "text": [
      "aws s3 cp /shared/CSHL_patch_features/inception-bn-blue/MD652/MD652-N54-2016.12.16-09.04.08_MD652_2_0161_lossless_alignedTo_MD652-F45-2016.12.17-05.56.31_MD652_2_0134_cropped/MD652-N54-2016.12.16-09.04.08_MD652_2_0161_lossless_alignedTo_MD652-F45-2016.12.17-05.56.31_MD652_2_0134_cropped_patch_locations.txt s3://mousebrainatlas-data/CSHL_patch_features/inception-bn-blue/MD652/MD652-N54-2016.12.16-09.04.08_MD652_2_0161_lossless_alignedTo_MD652-F45-2016.12.17-05.56.31_MD652_2_0134_cropped/MD652-N54-2016.12.16-09.04.08_MD652_2_0161_lossless_alignedTo_MD652-F45-2016.12.17-05.56.31_MD652_2_0134_cropped_patch_locations.txt\n"
     ]
    },
    {
     "name": "stderr",
     "output_type": "stream",
     "text": [
      "Child returned 0\n",
      "0.84 seconds.\n",
      "save: 4.63 seconds\n",
      "\n",
      "Section 266.\n",
      "locate patches: 0.02 seconds\n",
      "60962 samples.\n",
      "load image: 0.47 seconds\n",
      "extract patches: 5.86 seconds\n",
      "predict: 34.59 seconds\n"
     ]
    },
    {
     "name": "stdout",
     "output_type": "stream",
     "text": [
      "aws s3 cp /shared/CSHL_patch_features/inception-bn-blue/MD652/MD652-F54-2016.12.17-09.11.29_MD652_2_0161_lossless_alignedTo_MD652-F45-2016.12.17-05.56.31_MD652_2_0134_cropped/MD652-F54-2016.12.17-09.11.29_MD652_2_0161_lossless_alignedTo_MD652-F45-2016.12.17-05.56.31_MD652_2_0134_cropped_features.bp s3://mousebrainatlas-data/CSHL_patch_features/inception-bn-blue/MD652/MD652-F54-2016.12.17-09.11.29_MD652_2_0161_lossless_alignedTo_MD652-F45-2016.12.17-05.56.31_MD652_2_0134_cropped/MD652-F54-2016.12.17-09.11.29_MD652_2_0161_lossless_alignedTo_MD652-F45-2016.12.17-05.56.31_MD652_2_0134_cropped_features.bp\n"
     ]
    },
    {
     "name": "stderr",
     "output_type": "stream",
     "text": [
      "Child returned 0\n",
      "2.61 seconds.\n"
     ]
    },
    {
     "name": "stdout",
     "output_type": "stream",
     "text": [
      "aws s3 cp /shared/CSHL_patch_features/inception-bn-blue/MD652/MD652-F54-2016.12.17-09.11.29_MD652_2_0161_lossless_alignedTo_MD652-F45-2016.12.17-05.56.31_MD652_2_0134_cropped/MD652-F54-2016.12.17-09.11.29_MD652_2_0161_lossless_alignedTo_MD652-F45-2016.12.17-05.56.31_MD652_2_0134_cropped_patch_locations.txt s3://mousebrainatlas-data/CSHL_patch_features/inception-bn-blue/MD652/MD652-F54-2016.12.17-09.11.29_MD652_2_0161_lossless_alignedTo_MD652-F45-2016.12.17-05.56.31_MD652_2_0134_cropped/MD652-F54-2016.12.17-09.11.29_MD652_2_0161_lossless_alignedTo_MD652-F45-2016.12.17-05.56.31_MD652_2_0134_cropped_patch_locations.txt\n"
     ]
    },
    {
     "name": "stderr",
     "output_type": "stream",
     "text": [
      "Child returned 0\n",
      "0.83 seconds.\n",
      "save: 4.58 seconds\n",
      "\n",
      "Section 267.\n",
      "locate patches: 0.02 seconds\n",
      "59886 samples.\n",
      "load image: 0.27 seconds\n",
      "extract patches: 5.72 seconds\n",
      "predict: 33.96 seconds\n"
     ]
    },
    {
     "name": "stdout",
     "output_type": "stream",
     "text": [
      "aws s3 cp /shared/CSHL_patch_features/inception-bn-blue/MD652/MD652-N55-2016.12.16-09.09.34_MD652_1_0163_lossless_alignedTo_MD652-F45-2016.12.17-05.56.31_MD652_2_0134_cropped/MD652-N55-2016.12.16-09.09.34_MD652_1_0163_lossless_alignedTo_MD652-F45-2016.12.17-05.56.31_MD652_2_0134_cropped_features.bp s3://mousebrainatlas-data/CSHL_patch_features/inception-bn-blue/MD652/MD652-N55-2016.12.16-09.09.34_MD652_1_0163_lossless_alignedTo_MD652-F45-2016.12.17-05.56.31_MD652_2_0134_cropped/MD652-N55-2016.12.16-09.09.34_MD652_1_0163_lossless_alignedTo_MD652-F45-2016.12.17-05.56.31_MD652_2_0134_cropped_features.bp\n"
     ]
    },
    {
     "name": "stderr",
     "output_type": "stream",
     "text": [
      "Child returned 0\n",
      "2.18 seconds.\n"
     ]
    },
    {
     "name": "stdout",
     "output_type": "stream",
     "text": [
      "aws s3 cp /shared/CSHL_patch_features/inception-bn-blue/MD652/MD652-N55-2016.12.16-09.09.34_MD652_1_0163_lossless_alignedTo_MD652-F45-2016.12.17-05.56.31_MD652_2_0134_cropped/MD652-N55-2016.12.16-09.09.34_MD652_1_0163_lossless_alignedTo_MD652-F45-2016.12.17-05.56.31_MD652_2_0134_cropped_patch_locations.txt s3://mousebrainatlas-data/CSHL_patch_features/inception-bn-blue/MD652/MD652-N55-2016.12.16-09.09.34_MD652_1_0163_lossless_alignedTo_MD652-F45-2016.12.17-05.56.31_MD652_2_0134_cropped/MD652-N55-2016.12.16-09.09.34_MD652_1_0163_lossless_alignedTo_MD652-F45-2016.12.17-05.56.31_MD652_2_0134_cropped_patch_locations.txt\n"
     ]
    },
    {
     "name": "stderr",
     "output_type": "stream",
     "text": [
      "Child returned 0\n",
      "0.88 seconds.\n",
      "save: 4.18 seconds\n",
      "\n",
      "Section 268.\n",
      "locate patches: 0.02 seconds\n",
      "60075 samples.\n",
      "load image: 1.02 seconds\n",
      "extract patches: 5.75 seconds\n",
      "predict: 34.31 seconds\n"
     ]
    },
    {
     "name": "stdout",
     "output_type": "stream",
     "text": [
      "aws s3 cp /shared/CSHL_patch_features/inception-bn-blue/MD652/MD652-F55-2016.12.17-09.33.02_MD652_1_0163_lossless_alignedTo_MD652-F45-2016.12.17-05.56.31_MD652_2_0134_cropped/MD652-F55-2016.12.17-09.33.02_MD652_1_0163_lossless_alignedTo_MD652-F45-2016.12.17-05.56.31_MD652_2_0134_cropped_features.bp s3://mousebrainatlas-data/CSHL_patch_features/inception-bn-blue/MD652/MD652-F55-2016.12.17-09.33.02_MD652_1_0163_lossless_alignedTo_MD652-F45-2016.12.17-05.56.31_MD652_2_0134_cropped/MD652-F55-2016.12.17-09.33.02_MD652_1_0163_lossless_alignedTo_MD652-F45-2016.12.17-05.56.31_MD652_2_0134_cropped_features.bp\n"
     ]
    },
    {
     "name": "stderr",
     "output_type": "stream",
     "text": [
      "Child returned 0\n",
      "2.27 seconds.\n"
     ]
    },
    {
     "name": "stdout",
     "output_type": "stream",
     "text": [
      "aws s3 cp /shared/CSHL_patch_features/inception-bn-blue/MD652/MD652-F55-2016.12.17-09.33.02_MD652_1_0163_lossless_alignedTo_MD652-F45-2016.12.17-05.56.31_MD652_2_0134_cropped/MD652-F55-2016.12.17-09.33.02_MD652_1_0163_lossless_alignedTo_MD652-F45-2016.12.17-05.56.31_MD652_2_0134_cropped_patch_locations.txt s3://mousebrainatlas-data/CSHL_patch_features/inception-bn-blue/MD652/MD652-F55-2016.12.17-09.33.02_MD652_1_0163_lossless_alignedTo_MD652-F45-2016.12.17-05.56.31_MD652_2_0134_cropped/MD652-F55-2016.12.17-09.33.02_MD652_1_0163_lossless_alignedTo_MD652-F45-2016.12.17-05.56.31_MD652_2_0134_cropped_patch_locations.txt\n"
     ]
    },
    {
     "name": "stderr",
     "output_type": "stream",
     "text": [
      "Child returned 0\n",
      "0.83 seconds.\n",
      "save: 4.22 seconds\n",
      "\n",
      "Section 269.\n",
      "locate patches: 0.02 seconds\n",
      "60417 samples.\n",
      "load image: 0.27 seconds\n",
      "extract patches: 5.78 seconds\n",
      "predict: 34.48 seconds\n"
     ]
    },
    {
     "name": "stdout",
     "output_type": "stream",
     "text": [
      "aws s3 cp /shared/CSHL_patch_features/inception-bn-blue/MD652/MD652-N55-2016.12.16-09.09.34_MD652_2_0164_lossless_alignedTo_MD652-F45-2016.12.17-05.56.31_MD652_2_0134_cropped/MD652-N55-2016.12.16-09.09.34_MD652_2_0164_lossless_alignedTo_MD652-F45-2016.12.17-05.56.31_MD652_2_0134_cropped_features.bp s3://mousebrainatlas-data/CSHL_patch_features/inception-bn-blue/MD652/MD652-N55-2016.12.16-09.09.34_MD652_2_0164_lossless_alignedTo_MD652-F45-2016.12.17-05.56.31_MD652_2_0134_cropped/MD652-N55-2016.12.16-09.09.34_MD652_2_0164_lossless_alignedTo_MD652-F45-2016.12.17-05.56.31_MD652_2_0134_cropped_features.bp\n"
     ]
    },
    {
     "name": "stderr",
     "output_type": "stream",
     "text": [
      "Child returned 0\n",
      "3.17 seconds.\n"
     ]
    },
    {
     "name": "stdout",
     "output_type": "stream",
     "text": [
      "aws s3 cp /shared/CSHL_patch_features/inception-bn-blue/MD652/MD652-N55-2016.12.16-09.09.34_MD652_2_0164_lossless_alignedTo_MD652-F45-2016.12.17-05.56.31_MD652_2_0134_cropped/MD652-N55-2016.12.16-09.09.34_MD652_2_0164_lossless_alignedTo_MD652-F45-2016.12.17-05.56.31_MD652_2_0134_cropped_patch_locations.txt s3://mousebrainatlas-data/CSHL_patch_features/inception-bn-blue/MD652/MD652-N55-2016.12.16-09.09.34_MD652_2_0164_lossless_alignedTo_MD652-F45-2016.12.17-05.56.31_MD652_2_0134_cropped/MD652-N55-2016.12.16-09.09.34_MD652_2_0164_lossless_alignedTo_MD652-F45-2016.12.17-05.56.31_MD652_2_0134_cropped_patch_locations.txt\n"
     ]
    },
    {
     "name": "stderr",
     "output_type": "stream",
     "text": [
      "Child returned 0\n",
      "0.89 seconds.\n",
      "save: 5.19 seconds\n",
      "\n",
      "Section 270.\n",
      "locate patches: 0.02 seconds\n",
      "61481 samples.\n",
      "load image: 2.04 seconds\n",
      "extract patches: 5.87 seconds\n",
      "predict: 34.98 seconds\n"
     ]
    },
    {
     "name": "stdout",
     "output_type": "stream",
     "text": [
      "aws s3 cp /shared/CSHL_patch_features/inception-bn-blue/MD652/MD652-F55-2016.12.17-09.33.02_MD652_2_0164_lossless_alignedTo_MD652-F45-2016.12.17-05.56.31_MD652_2_0134_cropped/MD652-F55-2016.12.17-09.33.02_MD652_2_0164_lossless_alignedTo_MD652-F45-2016.12.17-05.56.31_MD652_2_0134_cropped_features.bp s3://mousebrainatlas-data/CSHL_patch_features/inception-bn-blue/MD652/MD652-F55-2016.12.17-09.33.02_MD652_2_0164_lossless_alignedTo_MD652-F45-2016.12.17-05.56.31_MD652_2_0134_cropped/MD652-F55-2016.12.17-09.33.02_MD652_2_0164_lossless_alignedTo_MD652-F45-2016.12.17-05.56.31_MD652_2_0134_cropped_features.bp\n"
     ]
    },
    {
     "name": "stderr",
     "output_type": "stream",
     "text": [
      "Child returned 0\n",
      "3.22 seconds.\n"
     ]
    },
    {
     "name": "stdout",
     "output_type": "stream",
     "text": [
      "aws s3 cp /shared/CSHL_patch_features/inception-bn-blue/MD652/MD652-F55-2016.12.17-09.33.02_MD652_2_0164_lossless_alignedTo_MD652-F45-2016.12.17-05.56.31_MD652_2_0134_cropped/MD652-F55-2016.12.17-09.33.02_MD652_2_0164_lossless_alignedTo_MD652-F45-2016.12.17-05.56.31_MD652_2_0134_cropped_patch_locations.txt s3://mousebrainatlas-data/CSHL_patch_features/inception-bn-blue/MD652/MD652-F55-2016.12.17-09.33.02_MD652_2_0164_lossless_alignedTo_MD652-F45-2016.12.17-05.56.31_MD652_2_0134_cropped/MD652-F55-2016.12.17-09.33.02_MD652_2_0164_lossless_alignedTo_MD652-F45-2016.12.17-05.56.31_MD652_2_0134_cropped_patch_locations.txt\n"
     ]
    },
    {
     "name": "stderr",
     "output_type": "stream",
     "text": [
      "Child returned 0\n",
      "0.83 seconds.\n",
      "save: 5.21 seconds\n",
      "\n",
      "Section 271.\n",
      "locate patches: 0.02 seconds\n",
      "60025 samples.\n",
      "load image: 0.27 seconds\n",
      "extract patches: 5.73 seconds\n",
      "predict: 34.08 seconds\n"
     ]
    },
    {
     "name": "stdout",
     "output_type": "stream",
     "text": [
      "aws s3 cp /shared/CSHL_patch_features/inception-bn-blue/MD652/MD652-N56-2016.12.16-09.14.38_MD652_1_0166_lossless_alignedTo_MD652-F45-2016.12.17-05.56.31_MD652_2_0134_cropped/MD652-N56-2016.12.16-09.14.38_MD652_1_0166_lossless_alignedTo_MD652-F45-2016.12.17-05.56.31_MD652_2_0134_cropped_features.bp s3://mousebrainatlas-data/CSHL_patch_features/inception-bn-blue/MD652/MD652-N56-2016.12.16-09.14.38_MD652_1_0166_lossless_alignedTo_MD652-F45-2016.12.17-05.56.31_MD652_2_0134_cropped/MD652-N56-2016.12.16-09.14.38_MD652_1_0166_lossless_alignedTo_MD652-F45-2016.12.17-05.56.31_MD652_2_0134_cropped_features.bp\n"
     ]
    },
    {
     "name": "stderr",
     "output_type": "stream",
     "text": [
      "Child returned 0\n",
      "2.47 seconds.\n"
     ]
    },
    {
     "name": "stdout",
     "output_type": "stream",
     "text": [
      "aws s3 cp /shared/CSHL_patch_features/inception-bn-blue/MD652/MD652-N56-2016.12.16-09.14.38_MD652_1_0166_lossless_alignedTo_MD652-F45-2016.12.17-05.56.31_MD652_2_0134_cropped/MD652-N56-2016.12.16-09.14.38_MD652_1_0166_lossless_alignedTo_MD652-F45-2016.12.17-05.56.31_MD652_2_0134_cropped_patch_locations.txt s3://mousebrainatlas-data/CSHL_patch_features/inception-bn-blue/MD652/MD652-N56-2016.12.16-09.14.38_MD652_1_0166_lossless_alignedTo_MD652-F45-2016.12.17-05.56.31_MD652_2_0134_cropped/MD652-N56-2016.12.16-09.14.38_MD652_1_0166_lossless_alignedTo_MD652-F45-2016.12.17-05.56.31_MD652_2_0134_cropped_patch_locations.txt\n"
     ]
    },
    {
     "name": "stderr",
     "output_type": "stream",
     "text": [
      "Child returned 0\n",
      "0.85 seconds.\n",
      "save: 4.45 seconds\n",
      "\n",
      "Section 272.\n",
      "locate patches: 0.02 seconds\n",
      "59229 samples.\n",
      "load image: 1.36 seconds\n",
      "extract patches: 5.66 seconds\n",
      "predict: 33.80 seconds\n"
     ]
    },
    {
     "name": "stdout",
     "output_type": "stream",
     "text": [
      "aws s3 cp /shared/CSHL_patch_features/inception-bn-blue/MD652/MD652-F56-2016.12.17-09.52.35_MD652_1_0166_lossless_alignedTo_MD652-F45-2016.12.17-05.56.31_MD652_2_0134_cropped/MD652-F56-2016.12.17-09.52.35_MD652_1_0166_lossless_alignedTo_MD652-F45-2016.12.17-05.56.31_MD652_2_0134_cropped_features.bp s3://mousebrainatlas-data/CSHL_patch_features/inception-bn-blue/MD652/MD652-F56-2016.12.17-09.52.35_MD652_1_0166_lossless_alignedTo_MD652-F45-2016.12.17-05.56.31_MD652_2_0134_cropped/MD652-F56-2016.12.17-09.52.35_MD652_1_0166_lossless_alignedTo_MD652-F45-2016.12.17-05.56.31_MD652_2_0134_cropped_features.bp\n"
     ]
    },
    {
     "name": "stderr",
     "output_type": "stream",
     "text": [
      "Child returned 0\n",
      "6.43 seconds.\n"
     ]
    },
    {
     "name": "stdout",
     "output_type": "stream",
     "text": [
      "aws s3 cp /shared/CSHL_patch_features/inception-bn-blue/MD652/MD652-F56-2016.12.17-09.52.35_MD652_1_0166_lossless_alignedTo_MD652-F45-2016.12.17-05.56.31_MD652_2_0134_cropped/MD652-F56-2016.12.17-09.52.35_MD652_1_0166_lossless_alignedTo_MD652-F45-2016.12.17-05.56.31_MD652_2_0134_cropped_patch_locations.txt s3://mousebrainatlas-data/CSHL_patch_features/inception-bn-blue/MD652/MD652-F56-2016.12.17-09.52.35_MD652_1_0166_lossless_alignedTo_MD652-F45-2016.12.17-05.56.31_MD652_2_0134_cropped/MD652-F56-2016.12.17-09.52.35_MD652_1_0166_lossless_alignedTo_MD652-F45-2016.12.17-05.56.31_MD652_2_0134_cropped_patch_locations.txt\n"
     ]
    },
    {
     "name": "stderr",
     "output_type": "stream",
     "text": [
      "Child returned 0\n",
      "0.83 seconds.\n",
      "save: 8.38 seconds\n",
      "\n",
      "Section 273.\n",
      "locate patches: 0.02 seconds\n",
      "59410 samples.\n",
      "load image: 0.27 seconds\n",
      "extract patches: 5.69 seconds\n",
      "predict: 33.72 seconds\n"
     ]
    },
    {
     "name": "stdout",
     "output_type": "stream",
     "text": [
      "aws s3 cp /shared/CSHL_patch_features/inception-bn-blue/MD652/MD652-N56-2016.12.16-09.14.38_MD652_2_0167_lossless_alignedTo_MD652-F45-2016.12.17-05.56.31_MD652_2_0134_cropped/MD652-N56-2016.12.16-09.14.38_MD652_2_0167_lossless_alignedTo_MD652-F45-2016.12.17-05.56.31_MD652_2_0134_cropped_features.bp s3://mousebrainatlas-data/CSHL_patch_features/inception-bn-blue/MD652/MD652-N56-2016.12.16-09.14.38_MD652_2_0167_lossless_alignedTo_MD652-F45-2016.12.17-05.56.31_MD652_2_0134_cropped/MD652-N56-2016.12.16-09.14.38_MD652_2_0167_lossless_alignedTo_MD652-F45-2016.12.17-05.56.31_MD652_2_0134_cropped_features.bp\n"
     ]
    },
    {
     "name": "stderr",
     "output_type": "stream",
     "text": [
      "Child returned 0\n",
      "2.36 seconds.\n"
     ]
    },
    {
     "name": "stdout",
     "output_type": "stream",
     "text": [
      "aws s3 cp /shared/CSHL_patch_features/inception-bn-blue/MD652/MD652-N56-2016.12.16-09.14.38_MD652_2_0167_lossless_alignedTo_MD652-F45-2016.12.17-05.56.31_MD652_2_0134_cropped/MD652-N56-2016.12.16-09.14.38_MD652_2_0167_lossless_alignedTo_MD652-F45-2016.12.17-05.56.31_MD652_2_0134_cropped_patch_locations.txt s3://mousebrainatlas-data/CSHL_patch_features/inception-bn-blue/MD652/MD652-N56-2016.12.16-09.14.38_MD652_2_0167_lossless_alignedTo_MD652-F45-2016.12.17-05.56.31_MD652_2_0134_cropped/MD652-N56-2016.12.16-09.14.38_MD652_2_0167_lossless_alignedTo_MD652-F45-2016.12.17-05.56.31_MD652_2_0134_cropped_patch_locations.txt\n"
     ]
    },
    {
     "name": "stderr",
     "output_type": "stream",
     "text": [
      "Child returned 0\n",
      "0.84 seconds.\n",
      "save: 4.31 seconds\n",
      "\n",
      "Section 274.\n",
      "locate patches: 0.02 seconds\n",
      "60181 samples.\n",
      "load image: 0.71 seconds\n",
      "extract patches: 5.75 seconds\n",
      "predict: 34.20 seconds\n"
     ]
    },
    {
     "name": "stdout",
     "output_type": "stream",
     "text": [
      "aws s3 cp /shared/CSHL_patch_features/inception-bn-blue/MD652/MD652-F56-2016.12.17-09.52.35_MD652_2_0167_lossless_alignedTo_MD652-F45-2016.12.17-05.56.31_MD652_2_0134_cropped/MD652-F56-2016.12.17-09.52.35_MD652_2_0167_lossless_alignedTo_MD652-F45-2016.12.17-05.56.31_MD652_2_0134_cropped_features.bp s3://mousebrainatlas-data/CSHL_patch_features/inception-bn-blue/MD652/MD652-F56-2016.12.17-09.52.35_MD652_2_0167_lossless_alignedTo_MD652-F45-2016.12.17-05.56.31_MD652_2_0134_cropped/MD652-F56-2016.12.17-09.52.35_MD652_2_0167_lossless_alignedTo_MD652-F45-2016.12.17-05.56.31_MD652_2_0134_cropped_features.bp\n"
     ]
    },
    {
     "name": "stderr",
     "output_type": "stream",
     "text": [
      "Child returned 0\n",
      "2.33 seconds.\n"
     ]
    },
    {
     "name": "stdout",
     "output_type": "stream",
     "text": [
      "aws s3 cp /shared/CSHL_patch_features/inception-bn-blue/MD652/MD652-F56-2016.12.17-09.52.35_MD652_2_0167_lossless_alignedTo_MD652-F45-2016.12.17-05.56.31_MD652_2_0134_cropped/MD652-F56-2016.12.17-09.52.35_MD652_2_0167_lossless_alignedTo_MD652-F45-2016.12.17-05.56.31_MD652_2_0134_cropped_patch_locations.txt s3://mousebrainatlas-data/CSHL_patch_features/inception-bn-blue/MD652/MD652-F56-2016.12.17-09.52.35_MD652_2_0167_lossless_alignedTo_MD652-F45-2016.12.17-05.56.31_MD652_2_0134_cropped/MD652-F56-2016.12.17-09.52.35_MD652_2_0167_lossless_alignedTo_MD652-F45-2016.12.17-05.56.31_MD652_2_0134_cropped_patch_locations.txt\n"
     ]
    },
    {
     "name": "stderr",
     "output_type": "stream",
     "text": [
      "Child returned 0\n",
      "0.83 seconds.\n",
      "save: 4.29 seconds\n",
      "\n",
      "Section 275.\n",
      "locate patches: 0.02 seconds\n",
      "59150 samples.\n",
      "load image: 0.27 seconds\n",
      "extract patches: 5.62 seconds\n",
      "predict: 33.81 seconds\n"
     ]
    },
    {
     "name": "stdout",
     "output_type": "stream",
     "text": [
      "aws s3 cp /shared/CSHL_patch_features/inception-bn-blue/MD652/MD652-N57-2016.12.16-09.19.48_MD652_1_0169_lossless_alignedTo_MD652-F45-2016.12.17-05.56.31_MD652_2_0134_cropped/MD652-N57-2016.12.16-09.19.48_MD652_1_0169_lossless_alignedTo_MD652-F45-2016.12.17-05.56.31_MD652_2_0134_cropped_features.bp s3://mousebrainatlas-data/CSHL_patch_features/inception-bn-blue/MD652/MD652-N57-2016.12.16-09.19.48_MD652_1_0169_lossless_alignedTo_MD652-F45-2016.12.17-05.56.31_MD652_2_0134_cropped/MD652-N57-2016.12.16-09.19.48_MD652_1_0169_lossless_alignedTo_MD652-F45-2016.12.17-05.56.31_MD652_2_0134_cropped_features.bp\n"
     ]
    },
    {
     "name": "stderr",
     "output_type": "stream",
     "text": [
      "Child returned 0\n",
      "2.38 seconds.\n"
     ]
    },
    {
     "name": "stdout",
     "output_type": "stream",
     "text": [
      "aws s3 cp /shared/CSHL_patch_features/inception-bn-blue/MD652/MD652-N57-2016.12.16-09.19.48_MD652_1_0169_lossless_alignedTo_MD652-F45-2016.12.17-05.56.31_MD652_2_0134_cropped/MD652-N57-2016.12.16-09.19.48_MD652_1_0169_lossless_alignedTo_MD652-F45-2016.12.17-05.56.31_MD652_2_0134_cropped_patch_locations.txt s3://mousebrainatlas-data/CSHL_patch_features/inception-bn-blue/MD652/MD652-N57-2016.12.16-09.19.48_MD652_1_0169_lossless_alignedTo_MD652-F45-2016.12.17-05.56.31_MD652_2_0134_cropped/MD652-N57-2016.12.16-09.19.48_MD652_1_0169_lossless_alignedTo_MD652-F45-2016.12.17-05.56.31_MD652_2_0134_cropped_patch_locations.txt\n"
     ]
    },
    {
     "name": "stderr",
     "output_type": "stream",
     "text": [
      "Child returned 0\n",
      "0.79 seconds.\n",
      "save: 4.29 seconds\n",
      "\n",
      "Section 276.\n",
      "locate patches: 0.02 seconds\n",
      "59064 samples.\n",
      "load image: 0.27 seconds\n",
      "extract patches: 5.63 seconds\n",
      "predict: 33.29 seconds\n"
     ]
    },
    {
     "name": "stdout",
     "output_type": "stream",
     "text": [
      "aws s3 cp /shared/CSHL_patch_features/inception-bn-blue/MD652/MD652-F57-2016.12.17-10.12.43_MD652_1_0169_lossless_alignedTo_MD652-F45-2016.12.17-05.56.31_MD652_2_0134_cropped/MD652-F57-2016.12.17-10.12.43_MD652_1_0169_lossless_alignedTo_MD652-F45-2016.12.17-05.56.31_MD652_2_0134_cropped_features.bp s3://mousebrainatlas-data/CSHL_patch_features/inception-bn-blue/MD652/MD652-F57-2016.12.17-10.12.43_MD652_1_0169_lossless_alignedTo_MD652-F45-2016.12.17-05.56.31_MD652_2_0134_cropped/MD652-F57-2016.12.17-10.12.43_MD652_1_0169_lossless_alignedTo_MD652-F45-2016.12.17-05.56.31_MD652_2_0134_cropped_features.bp\n"
     ]
    },
    {
     "name": "stderr",
     "output_type": "stream",
     "text": [
      "Child returned 0\n",
      "2.33 seconds.\n"
     ]
    },
    {
     "name": "stdout",
     "output_type": "stream",
     "text": [
      "aws s3 cp /shared/CSHL_patch_features/inception-bn-blue/MD652/MD652-F57-2016.12.17-10.12.43_MD652_1_0169_lossless_alignedTo_MD652-F45-2016.12.17-05.56.31_MD652_2_0134_cropped/MD652-F57-2016.12.17-10.12.43_MD652_1_0169_lossless_alignedTo_MD652-F45-2016.12.17-05.56.31_MD652_2_0134_cropped_patch_locations.txt s3://mousebrainatlas-data/CSHL_patch_features/inception-bn-blue/MD652/MD652-F57-2016.12.17-10.12.43_MD652_1_0169_lossless_alignedTo_MD652-F45-2016.12.17-05.56.31_MD652_2_0134_cropped/MD652-F57-2016.12.17-10.12.43_MD652_1_0169_lossless_alignedTo_MD652-F45-2016.12.17-05.56.31_MD652_2_0134_cropped_patch_locations.txt\n"
     ]
    },
    {
     "name": "stderr",
     "output_type": "stream",
     "text": [
      "Child returned 0\n",
      "0.83 seconds.\n",
      "save: 4.27 seconds\n",
      "\n",
      "Section 277.\n",
      "locate patches: 0.02 seconds\n",
      "59498 samples.\n",
      "load image: 0.28 seconds\n",
      "extract patches: 5.76 seconds\n",
      "predict: 34.11 seconds\n"
     ]
    },
    {
     "name": "stdout",
     "output_type": "stream",
     "text": [
      "aws s3 cp /shared/CSHL_patch_features/inception-bn-blue/MD652/MD652-N57-2016.12.16-09.19.48_MD652_2_0170_lossless_alignedTo_MD652-F45-2016.12.17-05.56.31_MD652_2_0134_cropped/MD652-N57-2016.12.16-09.19.48_MD652_2_0170_lossless_alignedTo_MD652-F45-2016.12.17-05.56.31_MD652_2_0134_cropped_features.bp s3://mousebrainatlas-data/CSHL_patch_features/inception-bn-blue/MD652/MD652-N57-2016.12.16-09.19.48_MD652_2_0170_lossless_alignedTo_MD652-F45-2016.12.17-05.56.31_MD652_2_0134_cropped/MD652-N57-2016.12.16-09.19.48_MD652_2_0170_lossless_alignedTo_MD652-F45-2016.12.17-05.56.31_MD652_2_0134_cropped_features.bp\n"
     ]
    },
    {
     "name": "stderr",
     "output_type": "stream",
     "text": [
      "Child returned 0\n",
      "2.27 seconds.\n"
     ]
    },
    {
     "name": "stdout",
     "output_type": "stream",
     "text": [
      "aws s3 cp /shared/CSHL_patch_features/inception-bn-blue/MD652/MD652-N57-2016.12.16-09.19.48_MD652_2_0170_lossless_alignedTo_MD652-F45-2016.12.17-05.56.31_MD652_2_0134_cropped/MD652-N57-2016.12.16-09.19.48_MD652_2_0170_lossless_alignedTo_MD652-F45-2016.12.17-05.56.31_MD652_2_0134_cropped_patch_locations.txt s3://mousebrainatlas-data/CSHL_patch_features/inception-bn-blue/MD652/MD652-N57-2016.12.16-09.19.48_MD652_2_0170_lossless_alignedTo_MD652-F45-2016.12.17-05.56.31_MD652_2_0134_cropped/MD652-N57-2016.12.16-09.19.48_MD652_2_0170_lossless_alignedTo_MD652-F45-2016.12.17-05.56.31_MD652_2_0134_cropped_patch_locations.txt\n"
     ]
    },
    {
     "name": "stderr",
     "output_type": "stream",
     "text": [
      "Child returned 0\n",
      "0.78 seconds.\n",
      "save: 4.16 seconds\n",
      "\n",
      "Section 278.\n",
      "locate patches: 0.02 seconds\n",
      "60570 samples.\n",
      "load image: 0.27 seconds\n",
      "extract patches: 5.76 seconds\n",
      "predict: 34.61 seconds\n"
     ]
    },
    {
     "name": "stdout",
     "output_type": "stream",
     "text": [
      "aws s3 cp /shared/CSHL_patch_features/inception-bn-blue/MD652/MD652-F57-2016.12.17-10.12.43_MD652_2_0170_lossless_alignedTo_MD652-F45-2016.12.17-05.56.31_MD652_2_0134_cropped/MD652-F57-2016.12.17-10.12.43_MD652_2_0170_lossless_alignedTo_MD652-F45-2016.12.17-05.56.31_MD652_2_0134_cropped_features.bp s3://mousebrainatlas-data/CSHL_patch_features/inception-bn-blue/MD652/MD652-F57-2016.12.17-10.12.43_MD652_2_0170_lossless_alignedTo_MD652-F45-2016.12.17-05.56.31_MD652_2_0134_cropped/MD652-F57-2016.12.17-10.12.43_MD652_2_0170_lossless_alignedTo_MD652-F45-2016.12.17-05.56.31_MD652_2_0134_cropped_features.bp\n"
     ]
    },
    {
     "name": "stderr",
     "output_type": "stream",
     "text": [
      "Child returned 0\n",
      "2.40 seconds.\n"
     ]
    },
    {
     "name": "stdout",
     "output_type": "stream",
     "text": [
      "aws s3 cp /shared/CSHL_patch_features/inception-bn-blue/MD652/MD652-F57-2016.12.17-10.12.43_MD652_2_0170_lossless_alignedTo_MD652-F45-2016.12.17-05.56.31_MD652_2_0134_cropped/MD652-F57-2016.12.17-10.12.43_MD652_2_0170_lossless_alignedTo_MD652-F45-2016.12.17-05.56.31_MD652_2_0134_cropped_patch_locations.txt s3://mousebrainatlas-data/CSHL_patch_features/inception-bn-blue/MD652/MD652-F57-2016.12.17-10.12.43_MD652_2_0170_lossless_alignedTo_MD652-F45-2016.12.17-05.56.31_MD652_2_0134_cropped/MD652-F57-2016.12.17-10.12.43_MD652_2_0170_lossless_alignedTo_MD652-F45-2016.12.17-05.56.31_MD652_2_0134_cropped_patch_locations.txt\n"
     ]
    },
    {
     "name": "stderr",
     "output_type": "stream",
     "text": [
      "Child returned 0\n",
      "0.78 seconds.\n",
      "save: 4.31 seconds\n",
      "\n",
      "Section 279.\n",
      "locate patches: 0.02 seconds\n",
      "58479 samples.\n",
      "load image: 0.27 seconds\n",
      "extract patches: 5.56 seconds\n",
      "predict: 33.24 seconds\n"
     ]
    },
    {
     "name": "stdout",
     "output_type": "stream",
     "text": [
      "aws s3 cp /shared/CSHL_patch_features/inception-bn-blue/MD652/MD652-N58-2016.12.16-09.25.05_MD652_1_0172_lossless_alignedTo_MD652-F45-2016.12.17-05.56.31_MD652_2_0134_cropped/MD652-N58-2016.12.16-09.25.05_MD652_1_0172_lossless_alignedTo_MD652-F45-2016.12.17-05.56.31_MD652_2_0134_cropped_features.bp s3://mousebrainatlas-data/CSHL_patch_features/inception-bn-blue/MD652/MD652-N58-2016.12.16-09.25.05_MD652_1_0172_lossless_alignedTo_MD652-F45-2016.12.17-05.56.31_MD652_2_0134_cropped/MD652-N58-2016.12.16-09.25.05_MD652_1_0172_lossless_alignedTo_MD652-F45-2016.12.17-05.56.31_MD652_2_0134_cropped_features.bp\n"
     ]
    },
    {
     "name": "stderr",
     "output_type": "stream",
     "text": [
      "Child returned 0\n",
      "2.58 seconds.\n"
     ]
    },
    {
     "name": "stdout",
     "output_type": "stream",
     "text": [
      "aws s3 cp /shared/CSHL_patch_features/inception-bn-blue/MD652/MD652-N58-2016.12.16-09.25.05_MD652_1_0172_lossless_alignedTo_MD652-F45-2016.12.17-05.56.31_MD652_2_0134_cropped/MD652-N58-2016.12.16-09.25.05_MD652_1_0172_lossless_alignedTo_MD652-F45-2016.12.17-05.56.31_MD652_2_0134_cropped_patch_locations.txt s3://mousebrainatlas-data/CSHL_patch_features/inception-bn-blue/MD652/MD652-N58-2016.12.16-09.25.05_MD652_1_0172_lossless_alignedTo_MD652-F45-2016.12.17-05.56.31_MD652_2_0134_cropped/MD652-N58-2016.12.16-09.25.05_MD652_1_0172_lossless_alignedTo_MD652-F45-2016.12.17-05.56.31_MD652_2_0134_cropped_patch_locations.txt\n"
     ]
    },
    {
     "name": "stderr",
     "output_type": "stream",
     "text": [
      "Child returned 0\n",
      "0.83 seconds.\n",
      "save: 4.51 seconds\n",
      "\n",
      "Section 280.\n",
      "locate patches: 0.02 seconds\n",
      "58645 samples.\n",
      "load image: 0.27 seconds\n",
      "extract patches: 5.59 seconds\n",
      "predict: 33.34 seconds\n"
     ]
    },
    {
     "name": "stdout",
     "output_type": "stream",
     "text": [
      "aws s3 cp /shared/CSHL_patch_features/inception-bn-blue/MD652/MD652-F58-2016.12.17-10.32.53_MD652_1_0172_lossless_alignedTo_MD652-F45-2016.12.17-05.56.31_MD652_2_0134_cropped/MD652-F58-2016.12.17-10.32.53_MD652_1_0172_lossless_alignedTo_MD652-F45-2016.12.17-05.56.31_MD652_2_0134_cropped_features.bp s3://mousebrainatlas-data/CSHL_patch_features/inception-bn-blue/MD652/MD652-F58-2016.12.17-10.32.53_MD652_1_0172_lossless_alignedTo_MD652-F45-2016.12.17-05.56.31_MD652_2_0134_cropped/MD652-F58-2016.12.17-10.32.53_MD652_1_0172_lossless_alignedTo_MD652-F45-2016.12.17-05.56.31_MD652_2_0134_cropped_features.bp\n"
     ]
    },
    {
     "name": "stderr",
     "output_type": "stream",
     "text": [
      "Child returned 0\n",
      "2.27 seconds.\n"
     ]
    },
    {
     "name": "stdout",
     "output_type": "stream",
     "text": [
      "aws s3 cp /shared/CSHL_patch_features/inception-bn-blue/MD652/MD652-F58-2016.12.17-10.32.53_MD652_1_0172_lossless_alignedTo_MD652-F45-2016.12.17-05.56.31_MD652_2_0134_cropped/MD652-F58-2016.12.17-10.32.53_MD652_1_0172_lossless_alignedTo_MD652-F45-2016.12.17-05.56.31_MD652_2_0134_cropped_patch_locations.txt s3://mousebrainatlas-data/CSHL_patch_features/inception-bn-blue/MD652/MD652-F58-2016.12.17-10.32.53_MD652_1_0172_lossless_alignedTo_MD652-F45-2016.12.17-05.56.31_MD652_2_0134_cropped/MD652-F58-2016.12.17-10.32.53_MD652_1_0172_lossless_alignedTo_MD652-F45-2016.12.17-05.56.31_MD652_2_0134_cropped_patch_locations.txt\n"
     ]
    },
    {
     "name": "stderr",
     "output_type": "stream",
     "text": [
      "Child returned 0\n",
      "0.83 seconds.\n",
      "save: 4.20 seconds\n",
      "\n",
      "Section 281.\n",
      "locate patches: 0.02 seconds\n",
      "57838 samples.\n",
      "load image: 0.27 seconds\n",
      "extract patches: 5.50 seconds\n",
      "predict: 32.82 seconds\n"
     ]
    },
    {
     "name": "stdout",
     "output_type": "stream",
     "text": [
      "aws s3 cp /shared/CSHL_patch_features/inception-bn-blue/MD652/MD652-N58-2016.12.16-09.25.05_MD652_2_0173_lossless_alignedTo_MD652-F45-2016.12.17-05.56.31_MD652_2_0134_cropped/MD652-N58-2016.12.16-09.25.05_MD652_2_0173_lossless_alignedTo_MD652-F45-2016.12.17-05.56.31_MD652_2_0134_cropped_features.bp s3://mousebrainatlas-data/CSHL_patch_features/inception-bn-blue/MD652/MD652-N58-2016.12.16-09.25.05_MD652_2_0173_lossless_alignedTo_MD652-F45-2016.12.17-05.56.31_MD652_2_0134_cropped/MD652-N58-2016.12.16-09.25.05_MD652_2_0173_lossless_alignedTo_MD652-F45-2016.12.17-05.56.31_MD652_2_0134_cropped_features.bp\n"
     ]
    },
    {
     "name": "stderr",
     "output_type": "stream",
     "text": [
      "Child returned 0\n",
      "2.42 seconds.\n"
     ]
    },
    {
     "name": "stdout",
     "output_type": "stream",
     "text": [
      "aws s3 cp /shared/CSHL_patch_features/inception-bn-blue/MD652/MD652-N58-2016.12.16-09.25.05_MD652_2_0173_lossless_alignedTo_MD652-F45-2016.12.17-05.56.31_MD652_2_0134_cropped/MD652-N58-2016.12.16-09.25.05_MD652_2_0173_lossless_alignedTo_MD652-F45-2016.12.17-05.56.31_MD652_2_0134_cropped_patch_locations.txt s3://mousebrainatlas-data/CSHL_patch_features/inception-bn-blue/MD652/MD652-N58-2016.12.16-09.25.05_MD652_2_0173_lossless_alignedTo_MD652-F45-2016.12.17-05.56.31_MD652_2_0134_cropped/MD652-N58-2016.12.16-09.25.05_MD652_2_0173_lossless_alignedTo_MD652-F45-2016.12.17-05.56.31_MD652_2_0134_cropped_patch_locations.txt\n"
     ]
    },
    {
     "name": "stderr",
     "output_type": "stream",
     "text": [
      "Child returned 0\n",
      "0.89 seconds.\n",
      "save: 4.40 seconds\n",
      "\n",
      "Section 282.\n",
      "locate patches: 0.02 seconds\n",
      "58534 samples.\n",
      "load image: 0.28 seconds\n",
      "extract patches: 5.80 seconds\n",
      "predict: 33.29 seconds\n"
     ]
    },
    {
     "name": "stdout",
     "output_type": "stream",
     "text": [
      "aws s3 cp /shared/CSHL_patch_features/inception-bn-blue/MD652/MD652-F58-2016.12.17-10.32.53_MD652_2_0173_lossless_alignedTo_MD652-F45-2016.12.17-05.56.31_MD652_2_0134_cropped/MD652-F58-2016.12.17-10.32.53_MD652_2_0173_lossless_alignedTo_MD652-F45-2016.12.17-05.56.31_MD652_2_0134_cropped_features.bp s3://mousebrainatlas-data/CSHL_patch_features/inception-bn-blue/MD652/MD652-F58-2016.12.17-10.32.53_MD652_2_0173_lossless_alignedTo_MD652-F45-2016.12.17-05.56.31_MD652_2_0134_cropped/MD652-F58-2016.12.17-10.32.53_MD652_2_0173_lossless_alignedTo_MD652-F45-2016.12.17-05.56.31_MD652_2_0134_cropped_features.bp\n"
     ]
    },
    {
     "name": "stderr",
     "output_type": "stream",
     "text": [
      "Child returned 0\n",
      "2.36 seconds.\n"
     ]
    },
    {
     "name": "stdout",
     "output_type": "stream",
     "text": [
      "aws s3 cp /shared/CSHL_patch_features/inception-bn-blue/MD652/MD652-F58-2016.12.17-10.32.53_MD652_2_0173_lossless_alignedTo_MD652-F45-2016.12.17-05.56.31_MD652_2_0134_cropped/MD652-F58-2016.12.17-10.32.53_MD652_2_0173_lossless_alignedTo_MD652-F45-2016.12.17-05.56.31_MD652_2_0134_cropped_patch_locations.txt s3://mousebrainatlas-data/CSHL_patch_features/inception-bn-blue/MD652/MD652-F58-2016.12.17-10.32.53_MD652_2_0173_lossless_alignedTo_MD652-F45-2016.12.17-05.56.31_MD652_2_0134_cropped/MD652-F58-2016.12.17-10.32.53_MD652_2_0173_lossless_alignedTo_MD652-F45-2016.12.17-05.56.31_MD652_2_0134_cropped_patch_locations.txt\n"
     ]
    },
    {
     "name": "stderr",
     "output_type": "stream",
     "text": [
      "Child returned 0\n",
      "0.79 seconds.\n",
      "save: 4.26 seconds\n",
      "\n",
      "Section 283.\n",
      "locate patches: 0.02 seconds\n",
      "56944 samples.\n",
      "load image: 0.28 seconds\n",
      "extract patches: 5.65 seconds\n",
      "predict: 32.39 seconds\n"
     ]
    },
    {
     "name": "stdout",
     "output_type": "stream",
     "text": [
      "aws s3 cp /shared/CSHL_patch_features/inception-bn-blue/MD652/MD652-N59-2016.12.16-12.13.21_MD652_1_0175_lossless_alignedTo_MD652-F45-2016.12.17-05.56.31_MD652_2_0134_cropped/MD652-N59-2016.12.16-12.13.21_MD652_1_0175_lossless_alignedTo_MD652-F45-2016.12.17-05.56.31_MD652_2_0134_cropped_features.bp s3://mousebrainatlas-data/CSHL_patch_features/inception-bn-blue/MD652/MD652-N59-2016.12.16-12.13.21_MD652_1_0175_lossless_alignedTo_MD652-F45-2016.12.17-05.56.31_MD652_2_0134_cropped/MD652-N59-2016.12.16-12.13.21_MD652_1_0175_lossless_alignedTo_MD652-F45-2016.12.17-05.56.31_MD652_2_0134_cropped_features.bp\n"
     ]
    },
    {
     "name": "stderr",
     "output_type": "stream",
     "text": [
      "Child returned 0\n",
      "2.37 seconds.\n"
     ]
    },
    {
     "name": "stdout",
     "output_type": "stream",
     "text": [
      "aws s3 cp /shared/CSHL_patch_features/inception-bn-blue/MD652/MD652-N59-2016.12.16-12.13.21_MD652_1_0175_lossless_alignedTo_MD652-F45-2016.12.17-05.56.31_MD652_2_0134_cropped/MD652-N59-2016.12.16-12.13.21_MD652_1_0175_lossless_alignedTo_MD652-F45-2016.12.17-05.56.31_MD652_2_0134_cropped_patch_locations.txt s3://mousebrainatlas-data/CSHL_patch_features/inception-bn-blue/MD652/MD652-N59-2016.12.16-12.13.21_MD652_1_0175_lossless_alignedTo_MD652-F45-2016.12.17-05.56.31_MD652_2_0134_cropped/MD652-N59-2016.12.16-12.13.21_MD652_1_0175_lossless_alignedTo_MD652-F45-2016.12.17-05.56.31_MD652_2_0134_cropped_patch_locations.txt\n"
     ]
    },
    {
     "name": "stderr",
     "output_type": "stream",
     "text": [
      "Child returned 0\n",
      "0.83 seconds.\n",
      "save: 4.28 seconds\n",
      "\n",
      "Section 284.\n",
      "locate patches: 0.02 seconds\n",
      "56833 samples.\n",
      "load image: 0.27 seconds\n",
      "extract patches: 5.44 seconds\n",
      "predict: 32.53 seconds\n"
     ]
    },
    {
     "name": "stdout",
     "output_type": "stream",
     "text": [
      "aws s3 cp /shared/CSHL_patch_features/inception-bn-blue/MD652/MD652-F59-2016.12.17-10.54.18_MD652_1_0175_lossless_alignedTo_MD652-F45-2016.12.17-05.56.31_MD652_2_0134_cropped/MD652-F59-2016.12.17-10.54.18_MD652_1_0175_lossless_alignedTo_MD652-F45-2016.12.17-05.56.31_MD652_2_0134_cropped_features.bp s3://mousebrainatlas-data/CSHL_patch_features/inception-bn-blue/MD652/MD652-F59-2016.12.17-10.54.18_MD652_1_0175_lossless_alignedTo_MD652-F45-2016.12.17-05.56.31_MD652_2_0134_cropped/MD652-F59-2016.12.17-10.54.18_MD652_1_0175_lossless_alignedTo_MD652-F45-2016.12.17-05.56.31_MD652_2_0134_cropped_features.bp\n"
     ]
    },
    {
     "name": "stderr",
     "output_type": "stream",
     "text": [
      "Child returned 0\n",
      "2.52 seconds.\n"
     ]
    },
    {
     "name": "stdout",
     "output_type": "stream",
     "text": [
      "aws s3 cp /shared/CSHL_patch_features/inception-bn-blue/MD652/MD652-F59-2016.12.17-10.54.18_MD652_1_0175_lossless_alignedTo_MD652-F45-2016.12.17-05.56.31_MD652_2_0134_cropped/MD652-F59-2016.12.17-10.54.18_MD652_1_0175_lossless_alignedTo_MD652-F45-2016.12.17-05.56.31_MD652_2_0134_cropped_patch_locations.txt s3://mousebrainatlas-data/CSHL_patch_features/inception-bn-blue/MD652/MD652-F59-2016.12.17-10.54.18_MD652_1_0175_lossless_alignedTo_MD652-F45-2016.12.17-05.56.31_MD652_2_0134_cropped/MD652-F59-2016.12.17-10.54.18_MD652_1_0175_lossless_alignedTo_MD652-F45-2016.12.17-05.56.31_MD652_2_0134_cropped_patch_locations.txt\n"
     ]
    },
    {
     "name": "stderr",
     "output_type": "stream",
     "text": [
      "Child returned 0\n",
      "0.83 seconds.\n",
      "save: 4.42 seconds\n",
      "\n",
      "Section 285.\n",
      "locate patches: 0.02 seconds\n",
      "56789 samples.\n",
      "load image: 0.27 seconds\n",
      "extract patches: 5.41 seconds\n",
      "predict: 32.31 seconds\n"
     ]
    },
    {
     "name": "stdout",
     "output_type": "stream",
     "text": [
      "aws s3 cp /shared/CSHL_patch_features/inception-bn-blue/MD652/MD652-N59-2016.12.16-12.13.21_MD652_2_0176_lossless_alignedTo_MD652-F45-2016.12.17-05.56.31_MD652_2_0134_cropped/MD652-N59-2016.12.16-12.13.21_MD652_2_0176_lossless_alignedTo_MD652-F45-2016.12.17-05.56.31_MD652_2_0134_cropped_features.bp s3://mousebrainatlas-data/CSHL_patch_features/inception-bn-blue/MD652/MD652-N59-2016.12.16-12.13.21_MD652_2_0176_lossless_alignedTo_MD652-F45-2016.12.17-05.56.31_MD652_2_0134_cropped/MD652-N59-2016.12.16-12.13.21_MD652_2_0176_lossless_alignedTo_MD652-F45-2016.12.17-05.56.31_MD652_2_0134_cropped_features.bp\n"
     ]
    },
    {
     "name": "stderr",
     "output_type": "stream",
     "text": [
      "Child returned 0\n",
      "2.30 seconds.\n"
     ]
    },
    {
     "name": "stdout",
     "output_type": "stream",
     "text": [
      "aws s3 cp /shared/CSHL_patch_features/inception-bn-blue/MD652/MD652-N59-2016.12.16-12.13.21_MD652_2_0176_lossless_alignedTo_MD652-F45-2016.12.17-05.56.31_MD652_2_0134_cropped/MD652-N59-2016.12.16-12.13.21_MD652_2_0176_lossless_alignedTo_MD652-F45-2016.12.17-05.56.31_MD652_2_0134_cropped_patch_locations.txt s3://mousebrainatlas-data/CSHL_patch_features/inception-bn-blue/MD652/MD652-N59-2016.12.16-12.13.21_MD652_2_0176_lossless_alignedTo_MD652-F45-2016.12.17-05.56.31_MD652_2_0134_cropped/MD652-N59-2016.12.16-12.13.21_MD652_2_0176_lossless_alignedTo_MD652-F45-2016.12.17-05.56.31_MD652_2_0134_cropped_patch_locations.txt\n"
     ]
    },
    {
     "name": "stderr",
     "output_type": "stream",
     "text": [
      "Child returned 0\n",
      "0.83 seconds.\n",
      "save: 4.19 seconds\n",
      "\n",
      "Section 286.\n",
      "locate patches: 0.02 seconds\n",
      "58064 samples.\n",
      "load image: 0.27 seconds\n",
      "extract patches: 5.53 seconds\n",
      "predict: 33.34 seconds\n"
     ]
    },
    {
     "name": "stdout",
     "output_type": "stream",
     "text": [
      "aws s3 cp /shared/CSHL_patch_features/inception-bn-blue/MD652/MD652-F59-2016.12.17-10.54.18_MD652_2_0176_lossless_alignedTo_MD652-F45-2016.12.17-05.56.31_MD652_2_0134_cropped/MD652-F59-2016.12.17-10.54.18_MD652_2_0176_lossless_alignedTo_MD652-F45-2016.12.17-05.56.31_MD652_2_0134_cropped_features.bp s3://mousebrainatlas-data/CSHL_patch_features/inception-bn-blue/MD652/MD652-F59-2016.12.17-10.54.18_MD652_2_0176_lossless_alignedTo_MD652-F45-2016.12.17-05.56.31_MD652_2_0134_cropped/MD652-F59-2016.12.17-10.54.18_MD652_2_0176_lossless_alignedTo_MD652-F45-2016.12.17-05.56.31_MD652_2_0134_cropped_features.bp\n"
     ]
    },
    {
     "name": "stderr",
     "output_type": "stream",
     "text": [
      "Child returned 0\n",
      "2.27 seconds.\n"
     ]
    },
    {
     "name": "stdout",
     "output_type": "stream",
     "text": [
      "aws s3 cp /shared/CSHL_patch_features/inception-bn-blue/MD652/MD652-F59-2016.12.17-10.54.18_MD652_2_0176_lossless_alignedTo_MD652-F45-2016.12.17-05.56.31_MD652_2_0134_cropped/MD652-F59-2016.12.17-10.54.18_MD652_2_0176_lossless_alignedTo_MD652-F45-2016.12.17-05.56.31_MD652_2_0134_cropped_patch_locations.txt s3://mousebrainatlas-data/CSHL_patch_features/inception-bn-blue/MD652/MD652-F59-2016.12.17-10.54.18_MD652_2_0176_lossless_alignedTo_MD652-F45-2016.12.17-05.56.31_MD652_2_0134_cropped/MD652-F59-2016.12.17-10.54.18_MD652_2_0176_lossless_alignedTo_MD652-F45-2016.12.17-05.56.31_MD652_2_0134_cropped_patch_locations.txt\n"
     ]
    },
    {
     "name": "stderr",
     "output_type": "stream",
     "text": [
      "Child returned 0\n",
      "0.83 seconds.\n",
      "save: 4.19 seconds\n",
      "\n",
      "Section 287.\n",
      "locate patches: 0.02 seconds\n",
      "56133 samples.\n",
      "load image: 0.27 seconds\n",
      "extract patches: 5.37 seconds\n",
      "predict: 31.71 seconds\n"
     ]
    },
    {
     "name": "stdout",
     "output_type": "stream",
     "text": [
      "aws s3 cp /shared/CSHL_patch_features/inception-bn-blue/MD652/MD652-N60-2016.12.16-12.18.31_MD652_1_0178_lossless_alignedTo_MD652-F45-2016.12.17-05.56.31_MD652_2_0134_cropped/MD652-N60-2016.12.16-12.18.31_MD652_1_0178_lossless_alignedTo_MD652-F45-2016.12.17-05.56.31_MD652_2_0134_cropped_features.bp s3://mousebrainatlas-data/CSHL_patch_features/inception-bn-blue/MD652/MD652-N60-2016.12.16-12.18.31_MD652_1_0178_lossless_alignedTo_MD652-F45-2016.12.17-05.56.31_MD652_2_0134_cropped/MD652-N60-2016.12.16-12.18.31_MD652_1_0178_lossless_alignedTo_MD652-F45-2016.12.17-05.56.31_MD652_2_0134_cropped_features.bp\n"
     ]
    },
    {
     "name": "stderr",
     "output_type": "stream",
     "text": [
      "Child returned 0\n",
      "2.30 seconds.\n"
     ]
    },
    {
     "name": "stdout",
     "output_type": "stream",
     "text": [
      "aws s3 cp /shared/CSHL_patch_features/inception-bn-blue/MD652/MD652-N60-2016.12.16-12.18.31_MD652_1_0178_lossless_alignedTo_MD652-F45-2016.12.17-05.56.31_MD652_2_0134_cropped/MD652-N60-2016.12.16-12.18.31_MD652_1_0178_lossless_alignedTo_MD652-F45-2016.12.17-05.56.31_MD652_2_0134_cropped_patch_locations.txt s3://mousebrainatlas-data/CSHL_patch_features/inception-bn-blue/MD652/MD652-N60-2016.12.16-12.18.31_MD652_1_0178_lossless_alignedTo_MD652-F45-2016.12.17-05.56.31_MD652_2_0134_cropped/MD652-N60-2016.12.16-12.18.31_MD652_1_0178_lossless_alignedTo_MD652-F45-2016.12.17-05.56.31_MD652_2_0134_cropped_patch_locations.txt\n"
     ]
    },
    {
     "name": "stderr",
     "output_type": "stream",
     "text": [
      "Child returned 0\n",
      "0.84 seconds.\n",
      "save: 4.18 seconds\n",
      "\n",
      "Section 288.\n",
      "locate patches: 0.02 seconds\n",
      "55636 samples.\n",
      "load image: 0.27 seconds\n",
      "extract patches: 5.30 seconds\n",
      "predict: 31.33 seconds\n"
     ]
    },
    {
     "name": "stdout",
     "output_type": "stream",
     "text": [
      "aws s3 cp /shared/CSHL_patch_features/inception-bn-blue/MD652/MD652-F60-2016.12.17-11.14.14_MD652_1_0178_lossless_alignedTo_MD652-F45-2016.12.17-05.56.31_MD652_2_0134_cropped/MD652-F60-2016.12.17-11.14.14_MD652_1_0178_lossless_alignedTo_MD652-F45-2016.12.17-05.56.31_MD652_2_0134_cropped_features.bp s3://mousebrainatlas-data/CSHL_patch_features/inception-bn-blue/MD652/MD652-F60-2016.12.17-11.14.14_MD652_1_0178_lossless_alignedTo_MD652-F45-2016.12.17-05.56.31_MD652_2_0134_cropped/MD652-F60-2016.12.17-11.14.14_MD652_1_0178_lossless_alignedTo_MD652-F45-2016.12.17-05.56.31_MD652_2_0134_cropped_features.bp\n"
     ]
    },
    {
     "name": "stderr",
     "output_type": "stream",
     "text": [
      "Child returned 0\n",
      "2.51 seconds.\n"
     ]
    },
    {
     "name": "stdout",
     "output_type": "stream",
     "text": [
      "aws s3 cp /shared/CSHL_patch_features/inception-bn-blue/MD652/MD652-F60-2016.12.17-11.14.14_MD652_1_0178_lossless_alignedTo_MD652-F45-2016.12.17-05.56.31_MD652_2_0134_cropped/MD652-F60-2016.12.17-11.14.14_MD652_1_0178_lossless_alignedTo_MD652-F45-2016.12.17-05.56.31_MD652_2_0134_cropped_patch_locations.txt s3://mousebrainatlas-data/CSHL_patch_features/inception-bn-blue/MD652/MD652-F60-2016.12.17-11.14.14_MD652_1_0178_lossless_alignedTo_MD652-F45-2016.12.17-05.56.31_MD652_2_0134_cropped/MD652-F60-2016.12.17-11.14.14_MD652_1_0178_lossless_alignedTo_MD652-F45-2016.12.17-05.56.31_MD652_2_0134_cropped_patch_locations.txt\n"
     ]
    },
    {
     "name": "stderr",
     "output_type": "stream",
     "text": [
      "Child returned 0\n",
      "0.78 seconds.\n",
      "save: 4.33 seconds\n",
      "\n",
      "Section 289.\n",
      "locate patches: 0.02 seconds\n",
      "55615 samples.\n",
      "load image: 0.27 seconds\n",
      "extract patches: 5.35 seconds\n",
      "predict: 31.59 seconds\n"
     ]
    },
    {
     "name": "stdout",
     "output_type": "stream",
     "text": [
      "aws s3 cp /shared/CSHL_patch_features/inception-bn-blue/MD652/MD652-N60-2016.12.16-12.18.31_MD652_2_0179_lossless_alignedTo_MD652-F45-2016.12.17-05.56.31_MD652_2_0134_cropped/MD652-N60-2016.12.16-12.18.31_MD652_2_0179_lossless_alignedTo_MD652-F45-2016.12.17-05.56.31_MD652_2_0134_cropped_features.bp s3://mousebrainatlas-data/CSHL_patch_features/inception-bn-blue/MD652/MD652-N60-2016.12.16-12.18.31_MD652_2_0179_lossless_alignedTo_MD652-F45-2016.12.17-05.56.31_MD652_2_0134_cropped/MD652-N60-2016.12.16-12.18.31_MD652_2_0179_lossless_alignedTo_MD652-F45-2016.12.17-05.56.31_MD652_2_0134_cropped_features.bp\n"
     ]
    },
    {
     "name": "stderr",
     "output_type": "stream",
     "text": [
      "Child returned 0\n",
      "2.38 seconds.\n"
     ]
    },
    {
     "name": "stdout",
     "output_type": "stream",
     "text": [
      "aws s3 cp /shared/CSHL_patch_features/inception-bn-blue/MD652/MD652-N60-2016.12.16-12.18.31_MD652_2_0179_lossless_alignedTo_MD652-F45-2016.12.17-05.56.31_MD652_2_0134_cropped/MD652-N60-2016.12.16-12.18.31_MD652_2_0179_lossless_alignedTo_MD652-F45-2016.12.17-05.56.31_MD652_2_0134_cropped_patch_locations.txt s3://mousebrainatlas-data/CSHL_patch_features/inception-bn-blue/MD652/MD652-N60-2016.12.16-12.18.31_MD652_2_0179_lossless_alignedTo_MD652-F45-2016.12.17-05.56.31_MD652_2_0134_cropped/MD652-N60-2016.12.16-12.18.31_MD652_2_0179_lossless_alignedTo_MD652-F45-2016.12.17-05.56.31_MD652_2_0134_cropped_patch_locations.txt\n"
     ]
    },
    {
     "name": "stderr",
     "output_type": "stream",
     "text": [
      "Child returned 0\n",
      "0.89 seconds.\n",
      "save: 4.31 seconds\n",
      "\n",
      "Section 290.\n",
      "locate patches: 0.02 seconds\n",
      "56315 samples.\n",
      "load image: 0.27 seconds\n",
      "extract patches: 5.40 seconds\n",
      "predict: 31.90 seconds\n"
     ]
    },
    {
     "name": "stdout",
     "output_type": "stream",
     "text": [
      "aws s3 cp /shared/CSHL_patch_features/inception-bn-blue/MD652/MD652-F60-2016.12.17-11.14.14_MD652_2_0179_lossless_alignedTo_MD652-F45-2016.12.17-05.56.31_MD652_2_0134_cropped/MD652-F60-2016.12.17-11.14.14_MD652_2_0179_lossless_alignedTo_MD652-F45-2016.12.17-05.56.31_MD652_2_0134_cropped_features.bp s3://mousebrainatlas-data/CSHL_patch_features/inception-bn-blue/MD652/MD652-F60-2016.12.17-11.14.14_MD652_2_0179_lossless_alignedTo_MD652-F45-2016.12.17-05.56.31_MD652_2_0134_cropped/MD652-F60-2016.12.17-11.14.14_MD652_2_0179_lossless_alignedTo_MD652-F45-2016.12.17-05.56.31_MD652_2_0134_cropped_features.bp\n"
     ]
    },
    {
     "name": "stderr",
     "output_type": "stream",
     "text": [
      "Child returned 0\n",
      "2.37 seconds.\n"
     ]
    },
    {
     "name": "stdout",
     "output_type": "stream",
     "text": [
      "aws s3 cp /shared/CSHL_patch_features/inception-bn-blue/MD652/MD652-F60-2016.12.17-11.14.14_MD652_2_0179_lossless_alignedTo_MD652-F45-2016.12.17-05.56.31_MD652_2_0134_cropped/MD652-F60-2016.12.17-11.14.14_MD652_2_0179_lossless_alignedTo_MD652-F45-2016.12.17-05.56.31_MD652_2_0134_cropped_patch_locations.txt s3://mousebrainatlas-data/CSHL_patch_features/inception-bn-blue/MD652/MD652-F60-2016.12.17-11.14.14_MD652_2_0179_lossless_alignedTo_MD652-F45-2016.12.17-05.56.31_MD652_2_0134_cropped/MD652-F60-2016.12.17-11.14.14_MD652_2_0179_lossless_alignedTo_MD652-F45-2016.12.17-05.56.31_MD652_2_0134_cropped_patch_locations.txt\n"
     ]
    },
    {
     "name": "stderr",
     "output_type": "stream",
     "text": [
      "Child returned 0\n",
      "0.83 seconds.\n",
      "save: 4.26 seconds\n",
      "\n",
      "Section 291.\n",
      "locate patches: 0.02 seconds\n",
      "54955 samples.\n",
      "load image: 0.27 seconds\n",
      "extract patches: 5.26 seconds\n",
      "predict: 31.11 seconds\n"
     ]
    },
    {
     "name": "stdout",
     "output_type": "stream",
     "text": [
      "aws s3 cp /shared/CSHL_patch_features/inception-bn-blue/MD652/MD652-N61-2016.12.16-12.23.48_MD652_1_0181_lossless_alignedTo_MD652-F45-2016.12.17-05.56.31_MD652_2_0134_cropped/MD652-N61-2016.12.16-12.23.48_MD652_1_0181_lossless_alignedTo_MD652-F45-2016.12.17-05.56.31_MD652_2_0134_cropped_features.bp s3://mousebrainatlas-data/CSHL_patch_features/inception-bn-blue/MD652/MD652-N61-2016.12.16-12.23.48_MD652_1_0181_lossless_alignedTo_MD652-F45-2016.12.17-05.56.31_MD652_2_0134_cropped/MD652-N61-2016.12.16-12.23.48_MD652_1_0181_lossless_alignedTo_MD652-F45-2016.12.17-05.56.31_MD652_2_0134_cropped_features.bp\n"
     ]
    },
    {
     "name": "stderr",
     "output_type": "stream",
     "text": [
      "Child returned 0\n",
      "2.27 seconds.\n"
     ]
    },
    {
     "name": "stdout",
     "output_type": "stream",
     "text": [
      "aws s3 cp /shared/CSHL_patch_features/inception-bn-blue/MD652/MD652-N61-2016.12.16-12.23.48_MD652_1_0181_lossless_alignedTo_MD652-F45-2016.12.17-05.56.31_MD652_2_0134_cropped/MD652-N61-2016.12.16-12.23.48_MD652_1_0181_lossless_alignedTo_MD652-F45-2016.12.17-05.56.31_MD652_2_0134_cropped_patch_locations.txt s3://mousebrainatlas-data/CSHL_patch_features/inception-bn-blue/MD652/MD652-N61-2016.12.16-12.23.48_MD652_1_0181_lossless_alignedTo_MD652-F45-2016.12.17-05.56.31_MD652_2_0134_cropped/MD652-N61-2016.12.16-12.23.48_MD652_1_0181_lossless_alignedTo_MD652-F45-2016.12.17-05.56.31_MD652_2_0134_cropped_patch_locations.txt\n"
     ]
    },
    {
     "name": "stderr",
     "output_type": "stream",
     "text": [
      "Child returned 0\n",
      "0.84 seconds.\n",
      "save: 4.13 seconds\n",
      "\n",
      "Section 292.\n",
      "locate patches: 0.02 seconds\n",
      "54982 samples.\n",
      "load image: 0.27 seconds\n",
      "extract patches: 5.25 seconds\n",
      "predict: 31.12 seconds\n"
     ]
    },
    {
     "name": "stdout",
     "output_type": "stream",
     "text": [
      "aws s3 cp /shared/CSHL_patch_features/inception-bn-blue/MD652/MD652-F61-2016.12.17-11.34.22_MD652_1_0181_lossless_alignedTo_MD652-F45-2016.12.17-05.56.31_MD652_2_0134_cropped/MD652-F61-2016.12.17-11.34.22_MD652_1_0181_lossless_alignedTo_MD652-F45-2016.12.17-05.56.31_MD652_2_0134_cropped_features.bp s3://mousebrainatlas-data/CSHL_patch_features/inception-bn-blue/MD652/MD652-F61-2016.12.17-11.34.22_MD652_1_0181_lossless_alignedTo_MD652-F45-2016.12.17-05.56.31_MD652_2_0134_cropped/MD652-F61-2016.12.17-11.34.22_MD652_1_0181_lossless_alignedTo_MD652-F45-2016.12.17-05.56.31_MD652_2_0134_cropped_features.bp\n"
     ]
    },
    {
     "name": "stderr",
     "output_type": "stream",
     "text": [
      "Child returned 0\n",
      "2.37 seconds.\n"
     ]
    },
    {
     "name": "stdout",
     "output_type": "stream",
     "text": [
      "aws s3 cp /shared/CSHL_patch_features/inception-bn-blue/MD652/MD652-F61-2016.12.17-11.34.22_MD652_1_0181_lossless_alignedTo_MD652-F45-2016.12.17-05.56.31_MD652_2_0134_cropped/MD652-F61-2016.12.17-11.34.22_MD652_1_0181_lossless_alignedTo_MD652-F45-2016.12.17-05.56.31_MD652_2_0134_cropped_patch_locations.txt s3://mousebrainatlas-data/CSHL_patch_features/inception-bn-blue/MD652/MD652-F61-2016.12.17-11.34.22_MD652_1_0181_lossless_alignedTo_MD652-F45-2016.12.17-05.56.31_MD652_2_0134_cropped/MD652-F61-2016.12.17-11.34.22_MD652_1_0181_lossless_alignedTo_MD652-F45-2016.12.17-05.56.31_MD652_2_0134_cropped_patch_locations.txt\n"
     ]
    },
    {
     "name": "stderr",
     "output_type": "stream",
     "text": [
      "Child returned 0\n",
      "0.78 seconds.\n",
      "save: 4.18 seconds\n",
      "\n",
      "Section 293.\n",
      "locate patches: 0.02 seconds\n",
      "53803 samples.\n",
      "load image: 0.27 seconds\n",
      "extract patches: 5.15 seconds\n",
      "predict: 30.51 seconds\n"
     ]
    },
    {
     "name": "stdout",
     "output_type": "stream",
     "text": [
      "aws s3 cp /shared/CSHL_patch_features/inception-bn-blue/MD652/MD652-N61-2016.12.16-12.23.48_MD652_2_0182_lossless_alignedTo_MD652-F45-2016.12.17-05.56.31_MD652_2_0134_cropped/MD652-N61-2016.12.16-12.23.48_MD652_2_0182_lossless_alignedTo_MD652-F45-2016.12.17-05.56.31_MD652_2_0134_cropped_features.bp s3://mousebrainatlas-data/CSHL_patch_features/inception-bn-blue/MD652/MD652-N61-2016.12.16-12.23.48_MD652_2_0182_lossless_alignedTo_MD652-F45-2016.12.17-05.56.31_MD652_2_0134_cropped/MD652-N61-2016.12.16-12.23.48_MD652_2_0182_lossless_alignedTo_MD652-F45-2016.12.17-05.56.31_MD652_2_0134_cropped_features.bp\n"
     ]
    },
    {
     "name": "stderr",
     "output_type": "stream",
     "text": [
      "Child returned 0\n",
      "2.33 seconds.\n"
     ]
    },
    {
     "name": "stdout",
     "output_type": "stream",
     "text": [
      "aws s3 cp /shared/CSHL_patch_features/inception-bn-blue/MD652/MD652-N61-2016.12.16-12.23.48_MD652_2_0182_lossless_alignedTo_MD652-F45-2016.12.17-05.56.31_MD652_2_0134_cropped/MD652-N61-2016.12.16-12.23.48_MD652_2_0182_lossless_alignedTo_MD652-F45-2016.12.17-05.56.31_MD652_2_0134_cropped_patch_locations.txt s3://mousebrainatlas-data/CSHL_patch_features/inception-bn-blue/MD652/MD652-N61-2016.12.16-12.23.48_MD652_2_0182_lossless_alignedTo_MD652-F45-2016.12.17-05.56.31_MD652_2_0134_cropped/MD652-N61-2016.12.16-12.23.48_MD652_2_0182_lossless_alignedTo_MD652-F45-2016.12.17-05.56.31_MD652_2_0134_cropped_patch_locations.txt\n"
     ]
    },
    {
     "name": "stderr",
     "output_type": "stream",
     "text": [
      "Child returned 0\n",
      "0.83 seconds.\n",
      "save: 4.17 seconds\n",
      "\n",
      "Section 294.\n",
      "locate patches: 0.02 seconds\n",
      "53621 samples.\n",
      "load image: 0.27 seconds\n",
      "extract patches: 5.14 seconds\n",
      "predict: 30.42 seconds\n"
     ]
    },
    {
     "name": "stdout",
     "output_type": "stream",
     "text": [
      "aws s3 cp /shared/CSHL_patch_features/inception-bn-blue/MD652/MD652-F61-2016.12.17-11.34.22_MD652_2_0182_lossless_alignedTo_MD652-F45-2016.12.17-05.56.31_MD652_2_0134_cropped/MD652-F61-2016.12.17-11.34.22_MD652_2_0182_lossless_alignedTo_MD652-F45-2016.12.17-05.56.31_MD652_2_0134_cropped_features.bp s3://mousebrainatlas-data/CSHL_patch_features/inception-bn-blue/MD652/MD652-F61-2016.12.17-11.34.22_MD652_2_0182_lossless_alignedTo_MD652-F45-2016.12.17-05.56.31_MD652_2_0134_cropped/MD652-F61-2016.12.17-11.34.22_MD652_2_0182_lossless_alignedTo_MD652-F45-2016.12.17-05.56.31_MD652_2_0134_cropped_features.bp\n"
     ]
    },
    {
     "name": "stderr",
     "output_type": "stream",
     "text": [
      "Child returned 0\n",
      "2.27 seconds.\n"
     ]
    },
    {
     "name": "stdout",
     "output_type": "stream",
     "text": [
      "aws s3 cp /shared/CSHL_patch_features/inception-bn-blue/MD652/MD652-F61-2016.12.17-11.34.22_MD652_2_0182_lossless_alignedTo_MD652-F45-2016.12.17-05.56.31_MD652_2_0134_cropped/MD652-F61-2016.12.17-11.34.22_MD652_2_0182_lossless_alignedTo_MD652-F45-2016.12.17-05.56.31_MD652_2_0134_cropped_patch_locations.txt s3://mousebrainatlas-data/CSHL_patch_features/inception-bn-blue/MD652/MD652-F61-2016.12.17-11.34.22_MD652_2_0182_lossless_alignedTo_MD652-F45-2016.12.17-05.56.31_MD652_2_0134_cropped/MD652-F61-2016.12.17-11.34.22_MD652_2_0182_lossless_alignedTo_MD652-F45-2016.12.17-05.56.31_MD652_2_0134_cropped_patch_locations.txt\n"
     ]
    },
    {
     "name": "stderr",
     "output_type": "stream",
     "text": [
      "Child returned 0\n",
      "0.79 seconds.\n",
      "save: 4.07 seconds\n",
      "\n",
      "Section 295.\n",
      "locate patches: 0.02 seconds\n",
      "47018 samples.\n",
      "load image: 0.27 seconds\n",
      "extract patches: 4.51 seconds\n",
      "predict: 26.39 seconds\n"
     ]
    },
    {
     "name": "stdout",
     "output_type": "stream",
     "text": [
      "aws s3 cp /shared/CSHL_patch_features/inception-bn-blue/MD652/MD652-N62-2016.12.16-12.46.01_MD652_1_0184_lossless_alignedTo_MD652-F45-2016.12.17-05.56.31_MD652_2_0134_cropped/MD652-N62-2016.12.16-12.46.01_MD652_1_0184_lossless_alignedTo_MD652-F45-2016.12.17-05.56.31_MD652_2_0134_cropped_features.bp s3://mousebrainatlas-data/CSHL_patch_features/inception-bn-blue/MD652/MD652-N62-2016.12.16-12.46.01_MD652_1_0184_lossless_alignedTo_MD652-F45-2016.12.17-05.56.31_MD652_2_0134_cropped/MD652-N62-2016.12.16-12.46.01_MD652_1_0184_lossless_alignedTo_MD652-F45-2016.12.17-05.56.31_MD652_2_0134_cropped_features.bp\n"
     ]
    },
    {
     "name": "stderr",
     "output_type": "stream",
     "text": [
      "Child returned 0\n",
      "2.74 seconds.\n"
     ]
    },
    {
     "name": "stdout",
     "output_type": "stream",
     "text": [
      "aws s3 cp /shared/CSHL_patch_features/inception-bn-blue/MD652/MD652-N62-2016.12.16-12.46.01_MD652_1_0184_lossless_alignedTo_MD652-F45-2016.12.17-05.56.31_MD652_2_0134_cropped/MD652-N62-2016.12.16-12.46.01_MD652_1_0184_lossless_alignedTo_MD652-F45-2016.12.17-05.56.31_MD652_2_0134_cropped_patch_locations.txt s3://mousebrainatlas-data/CSHL_patch_features/inception-bn-blue/MD652/MD652-N62-2016.12.16-12.46.01_MD652_1_0184_lossless_alignedTo_MD652-F45-2016.12.17-05.56.31_MD652_2_0134_cropped/MD652-N62-2016.12.16-12.46.01_MD652_1_0184_lossless_alignedTo_MD652-F45-2016.12.17-05.56.31_MD652_2_0134_cropped_patch_locations.txt\n"
     ]
    },
    {
     "name": "stderr",
     "output_type": "stream",
     "text": [
      "Child returned 0\n",
      "0.79 seconds.\n",
      "save: 4.41 seconds\n",
      "\n",
      "Section 296.\n",
      "locate patches: 0.02 seconds\n",
      "49799 samples.\n",
      "load image: 0.27 seconds\n",
      "extract patches: 4.77 seconds\n",
      "predict: 28.08 seconds\n"
     ]
    },
    {
     "name": "stdout",
     "output_type": "stream",
     "text": [
      "aws s3 cp /shared/CSHL_patch_features/inception-bn-blue/MD652/MD652-F62-2016.12.17-11.54.35_MD652_1_0184_lossless_alignedTo_MD652-F45-2016.12.17-05.56.31_MD652_2_0134_cropped/MD652-F62-2016.12.17-11.54.35_MD652_1_0184_lossless_alignedTo_MD652-F45-2016.12.17-05.56.31_MD652_2_0134_cropped_features.bp s3://mousebrainatlas-data/CSHL_patch_features/inception-bn-blue/MD652/MD652-F62-2016.12.17-11.54.35_MD652_1_0184_lossless_alignedTo_MD652-F45-2016.12.17-05.56.31_MD652_2_0134_cropped/MD652-F62-2016.12.17-11.54.35_MD652_1_0184_lossless_alignedTo_MD652-F45-2016.12.17-05.56.31_MD652_2_0134_cropped_features.bp\n"
     ]
    },
    {
     "name": "stderr",
     "output_type": "stream",
     "text": [
      "Child returned 0\n",
      "2.48 seconds.\n"
     ]
    },
    {
     "name": "stdout",
     "output_type": "stream",
     "text": [
      "aws s3 cp /shared/CSHL_patch_features/inception-bn-blue/MD652/MD652-F62-2016.12.17-11.54.35_MD652_1_0184_lossless_alignedTo_MD652-F45-2016.12.17-05.56.31_MD652_2_0134_cropped/MD652-F62-2016.12.17-11.54.35_MD652_1_0184_lossless_alignedTo_MD652-F45-2016.12.17-05.56.31_MD652_2_0134_cropped_patch_locations.txt s3://mousebrainatlas-data/CSHL_patch_features/inception-bn-blue/MD652/MD652-F62-2016.12.17-11.54.35_MD652_1_0184_lossless_alignedTo_MD652-F45-2016.12.17-05.56.31_MD652_2_0134_cropped/MD652-F62-2016.12.17-11.54.35_MD652_1_0184_lossless_alignedTo_MD652-F45-2016.12.17-05.56.31_MD652_2_0134_cropped_patch_locations.txt\n"
     ]
    },
    {
     "name": "stderr",
     "output_type": "stream",
     "text": [
      "Child returned 0\n",
      "0.78 seconds.\n",
      "save: 4.20 seconds\n",
      "\n",
      "Section 297.\n",
      "locate patches: 0.02 seconds\n",
      "51377 samples.\n",
      "load image: 0.27 seconds\n",
      "extract patches: 4.90 seconds\n",
      "predict: 29.14 seconds\n"
     ]
    },
    {
     "name": "stdout",
     "output_type": "stream",
     "text": [
      "aws s3 cp /shared/CSHL_patch_features/inception-bn-blue/MD652/MD652-N62-2016.12.16-12.46.01_MD652_2_0185_lossless_alignedTo_MD652-F45-2016.12.17-05.56.31_MD652_2_0134_cropped/MD652-N62-2016.12.16-12.46.01_MD652_2_0185_lossless_alignedTo_MD652-F45-2016.12.17-05.56.31_MD652_2_0134_cropped_features.bp s3://mousebrainatlas-data/CSHL_patch_features/inception-bn-blue/MD652/MD652-N62-2016.12.16-12.46.01_MD652_2_0185_lossless_alignedTo_MD652-F45-2016.12.17-05.56.31_MD652_2_0134_cropped/MD652-N62-2016.12.16-12.46.01_MD652_2_0185_lossless_alignedTo_MD652-F45-2016.12.17-05.56.31_MD652_2_0134_cropped_features.bp\n"
     ]
    },
    {
     "name": "stderr",
     "output_type": "stream",
     "text": [
      "Child returned 0\n",
      "2.47 seconds.\n"
     ]
    },
    {
     "name": "stdout",
     "output_type": "stream",
     "text": [
      "aws s3 cp /shared/CSHL_patch_features/inception-bn-blue/MD652/MD652-N62-2016.12.16-12.46.01_MD652_2_0185_lossless_alignedTo_MD652-F45-2016.12.17-05.56.31_MD652_2_0134_cropped/MD652-N62-2016.12.16-12.46.01_MD652_2_0185_lossless_alignedTo_MD652-F45-2016.12.17-05.56.31_MD652_2_0134_cropped_patch_locations.txt s3://mousebrainatlas-data/CSHL_patch_features/inception-bn-blue/MD652/MD652-N62-2016.12.16-12.46.01_MD652_2_0185_lossless_alignedTo_MD652-F45-2016.12.17-05.56.31_MD652_2_0134_cropped/MD652-N62-2016.12.16-12.46.01_MD652_2_0185_lossless_alignedTo_MD652-F45-2016.12.17-05.56.31_MD652_2_0134_cropped_patch_locations.txt\n"
     ]
    },
    {
     "name": "stderr",
     "output_type": "stream",
     "text": [
      "Child returned 0\n",
      "0.83 seconds.\n",
      "save: 4.26 seconds\n",
      "\n",
      "Section 298.\n",
      "locate patches: 0.02 seconds\n",
      "51814 samples.\n",
      "load image: 0.27 seconds\n",
      "extract patches: 4.96 seconds\n",
      "predict: 29.13 seconds\n"
     ]
    },
    {
     "name": "stdout",
     "output_type": "stream",
     "text": [
      "aws s3 cp /shared/CSHL_patch_features/inception-bn-blue/MD652/MD652-F62-2016.12.17-11.54.35_MD652_2_0185_lossless_alignedTo_MD652-F45-2016.12.17-05.56.31_MD652_2_0134_cropped/MD652-F62-2016.12.17-11.54.35_MD652_2_0185_lossless_alignedTo_MD652-F45-2016.12.17-05.56.31_MD652_2_0134_cropped_features.bp s3://mousebrainatlas-data/CSHL_patch_features/inception-bn-blue/MD652/MD652-F62-2016.12.17-11.54.35_MD652_2_0185_lossless_alignedTo_MD652-F45-2016.12.17-05.56.31_MD652_2_0134_cropped/MD652-F62-2016.12.17-11.54.35_MD652_2_0185_lossless_alignedTo_MD652-F45-2016.12.17-05.56.31_MD652_2_0134_cropped_features.bp\n"
     ]
    },
    {
     "name": "stderr",
     "output_type": "stream",
     "text": [
      "Child returned 0\n",
      "2.32 seconds.\n"
     ]
    },
    {
     "name": "stdout",
     "output_type": "stream",
     "text": [
      "aws s3 cp /shared/CSHL_patch_features/inception-bn-blue/MD652/MD652-F62-2016.12.17-11.54.35_MD652_2_0185_lossless_alignedTo_MD652-F45-2016.12.17-05.56.31_MD652_2_0134_cropped/MD652-F62-2016.12.17-11.54.35_MD652_2_0185_lossless_alignedTo_MD652-F45-2016.12.17-05.56.31_MD652_2_0134_cropped_patch_locations.txt s3://mousebrainatlas-data/CSHL_patch_features/inception-bn-blue/MD652/MD652-F62-2016.12.17-11.54.35_MD652_2_0185_lossless_alignedTo_MD652-F45-2016.12.17-05.56.31_MD652_2_0134_cropped/MD652-F62-2016.12.17-11.54.35_MD652_2_0185_lossless_alignedTo_MD652-F45-2016.12.17-05.56.31_MD652_2_0134_cropped_patch_locations.txt\n"
     ]
    },
    {
     "name": "stderr",
     "output_type": "stream",
     "text": [
      "Child returned 0\n",
      "0.84 seconds.\n",
      "save: 4.13 seconds\n",
      "\n",
      "Section 299.\n",
      "locate patches: 0.02 seconds\n",
      "40919 samples.\n",
      "load image: 0.27 seconds\n",
      "extract patches: 3.92 seconds\n",
      "predict: 23.02 seconds\n"
     ]
    },
    {
     "name": "stdout",
     "output_type": "stream",
     "text": [
      "aws s3 cp /shared/CSHL_patch_features/inception-bn-blue/MD652/MD652-N62-2016.12.16-12.46.01_MD652_3_0186_lossless_alignedTo_MD652-F45-2016.12.17-05.56.31_MD652_2_0134_cropped/MD652-N62-2016.12.16-12.46.01_MD652_3_0186_lossless_alignedTo_MD652-F45-2016.12.17-05.56.31_MD652_2_0134_cropped_features.bp s3://mousebrainatlas-data/CSHL_patch_features/inception-bn-blue/MD652/MD652-N62-2016.12.16-12.46.01_MD652_3_0186_lossless_alignedTo_MD652-F45-2016.12.17-05.56.31_MD652_2_0134_cropped/MD652-N62-2016.12.16-12.46.01_MD652_3_0186_lossless_alignedTo_MD652-F45-2016.12.17-05.56.31_MD652_2_0134_cropped_features.bp\n"
     ]
    },
    {
     "name": "stderr",
     "output_type": "stream",
     "text": [
      "Child returned 0\n",
      "2.32 seconds.\n"
     ]
    },
    {
     "name": "stdout",
     "output_type": "stream",
     "text": [
      "aws s3 cp /shared/CSHL_patch_features/inception-bn-blue/MD652/MD652-N62-2016.12.16-12.46.01_MD652_3_0186_lossless_alignedTo_MD652-F45-2016.12.17-05.56.31_MD652_2_0134_cropped/MD652-N62-2016.12.16-12.46.01_MD652_3_0186_lossless_alignedTo_MD652-F45-2016.12.17-05.56.31_MD652_2_0134_cropped_patch_locations.txt s3://mousebrainatlas-data/CSHL_patch_features/inception-bn-blue/MD652/MD652-N62-2016.12.16-12.46.01_MD652_3_0186_lossless_alignedTo_MD652-F45-2016.12.17-05.56.31_MD652_2_0134_cropped/MD652-N62-2016.12.16-12.46.01_MD652_3_0186_lossless_alignedTo_MD652-F45-2016.12.17-05.56.31_MD652_2_0134_cropped_patch_locations.txt\n"
     ]
    },
    {
     "name": "stderr",
     "output_type": "stream",
     "text": [
      "Child returned 0\n",
      "0.84 seconds.\n",
      "save: 3.93 seconds\n",
      "\n",
      "Section 300.\n",
      "locate patches: 0.02 seconds\n",
      "52953 samples.\n",
      "load image: 0.27 seconds\n",
      "extract patches: 5.06 seconds\n",
      "predict: 32.10 seconds\n"
     ]
    },
    {
     "name": "stdout",
     "output_type": "stream",
     "text": [
      "aws s3 cp /shared/CSHL_patch_features/inception-bn-blue/MD652/MD652-F62-2016.12.17-11.54.35_MD652_3_0186_lossless_alignedTo_MD652-F45-2016.12.17-05.56.31_MD652_2_0134_cropped/MD652-F62-2016.12.17-11.54.35_MD652_3_0186_lossless_alignedTo_MD652-F45-2016.12.17-05.56.31_MD652_2_0134_cropped_features.bp s3://mousebrainatlas-data/CSHL_patch_features/inception-bn-blue/MD652/MD652-F62-2016.12.17-11.54.35_MD652_3_0186_lossless_alignedTo_MD652-F45-2016.12.17-05.56.31_MD652_2_0134_cropped/MD652-F62-2016.12.17-11.54.35_MD652_3_0186_lossless_alignedTo_MD652-F45-2016.12.17-05.56.31_MD652_2_0134_cropped_features.bp\n"
     ]
    },
    {
     "name": "stderr",
     "output_type": "stream",
     "text": [
      "Child returned 0\n",
      "2.43 seconds.\n"
     ]
    },
    {
     "name": "stdout",
     "output_type": "stream",
     "text": [
      "aws s3 cp /shared/CSHL_patch_features/inception-bn-blue/MD652/MD652-F62-2016.12.17-11.54.35_MD652_3_0186_lossless_alignedTo_MD652-F45-2016.12.17-05.56.31_MD652_2_0134_cropped/MD652-F62-2016.12.17-11.54.35_MD652_3_0186_lossless_alignedTo_MD652-F45-2016.12.17-05.56.31_MD652_2_0134_cropped_patch_locations.txt s3://mousebrainatlas-data/CSHL_patch_features/inception-bn-blue/MD652/MD652-F62-2016.12.17-11.54.35_MD652_3_0186_lossless_alignedTo_MD652-F45-2016.12.17-05.56.31_MD652_2_0134_cropped/MD652-F62-2016.12.17-11.54.35_MD652_3_0186_lossless_alignedTo_MD652-F45-2016.12.17-05.56.31_MD652_2_0134_cropped_patch_locations.txt\n"
     ]
    },
    {
     "name": "stderr",
     "output_type": "stream",
     "text": [
      "Child returned 0\n",
      "0.78 seconds.\n",
      "save: 4.20 seconds\n",
      "\n",
      "Section 301.\n",
      "locate patches: 0.02 seconds\n",
      "51145 samples.\n",
      "load image: 0.27 seconds\n",
      "extract patches: 4.91 seconds\n",
      "predict: 29.08 seconds\n"
     ]
    },
    {
     "name": "stdout",
     "output_type": "stream",
     "text": [
      "aws s3 cp /shared/CSHL_patch_features/inception-bn-blue/MD652/MD652-N63-2016.12.16-12.51.42_MD652_1_0187_lossless_alignedTo_MD652-F45-2016.12.17-05.56.31_MD652_2_0134_cropped/MD652-N63-2016.12.16-12.51.42_MD652_1_0187_lossless_alignedTo_MD652-F45-2016.12.17-05.56.31_MD652_2_0134_cropped_features.bp s3://mousebrainatlas-data/CSHL_patch_features/inception-bn-blue/MD652/MD652-N63-2016.12.16-12.51.42_MD652_1_0187_lossless_alignedTo_MD652-F45-2016.12.17-05.56.31_MD652_2_0134_cropped/MD652-N63-2016.12.16-12.51.42_MD652_1_0187_lossless_alignedTo_MD652-F45-2016.12.17-05.56.31_MD652_2_0134_cropped_features.bp\n"
     ]
    },
    {
     "name": "stderr",
     "output_type": "stream",
     "text": [
      "Child returned 0\n",
      "2.43 seconds.\n"
     ]
    },
    {
     "name": "stdout",
     "output_type": "stream",
     "text": [
      "aws s3 cp /shared/CSHL_patch_features/inception-bn-blue/MD652/MD652-N63-2016.12.16-12.51.42_MD652_1_0187_lossless_alignedTo_MD652-F45-2016.12.17-05.56.31_MD652_2_0134_cropped/MD652-N63-2016.12.16-12.51.42_MD652_1_0187_lossless_alignedTo_MD652-F45-2016.12.17-05.56.31_MD652_2_0134_cropped_patch_locations.txt s3://mousebrainatlas-data/CSHL_patch_features/inception-bn-blue/MD652/MD652-N63-2016.12.16-12.51.42_MD652_1_0187_lossless_alignedTo_MD652-F45-2016.12.17-05.56.31_MD652_2_0134_cropped/MD652-N63-2016.12.16-12.51.42_MD652_1_0187_lossless_alignedTo_MD652-F45-2016.12.17-05.56.31_MD652_2_0134_cropped_patch_locations.txt\n"
     ]
    },
    {
     "name": "stderr",
     "output_type": "stream",
     "text": [
      "Child returned 0\n",
      "0.78 seconds.\n",
      "save: 4.17 seconds\n",
      "\n",
      "Section 302.\n",
      "locate patches: 0.02 seconds\n",
      "50271 samples.\n",
      "load image: 0.27 seconds\n",
      "extract patches: 4.80 seconds\n",
      "predict: 28.31 seconds\n"
     ]
    },
    {
     "name": "stdout",
     "output_type": "stream",
     "text": [
      "aws s3 cp /shared/CSHL_patch_features/inception-bn-blue/MD652/MD652-F63-2016.12.17-12.13.44_MD652_1_0187_lossless_alignedTo_MD652-F45-2016.12.17-05.56.31_MD652_2_0134_cropped/MD652-F63-2016.12.17-12.13.44_MD652_1_0187_lossless_alignedTo_MD652-F45-2016.12.17-05.56.31_MD652_2_0134_cropped_features.bp s3://mousebrainatlas-data/CSHL_patch_features/inception-bn-blue/MD652/MD652-F63-2016.12.17-12.13.44_MD652_1_0187_lossless_alignedTo_MD652-F45-2016.12.17-05.56.31_MD652_2_0134_cropped/MD652-F63-2016.12.17-12.13.44_MD652_1_0187_lossless_alignedTo_MD652-F45-2016.12.17-05.56.31_MD652_2_0134_cropped_features.bp\n"
     ]
    },
    {
     "name": "stderr",
     "output_type": "stream",
     "text": [
      "Child returned 0\n",
      "2.25 seconds.\n"
     ]
    },
    {
     "name": "stdout",
     "output_type": "stream",
     "text": [
      "aws s3 cp /shared/CSHL_patch_features/inception-bn-blue/MD652/MD652-F63-2016.12.17-12.13.44_MD652_1_0187_lossless_alignedTo_MD652-F45-2016.12.17-05.56.31_MD652_2_0134_cropped/MD652-F63-2016.12.17-12.13.44_MD652_1_0187_lossless_alignedTo_MD652-F45-2016.12.17-05.56.31_MD652_2_0134_cropped_patch_locations.txt s3://mousebrainatlas-data/CSHL_patch_features/inception-bn-blue/MD652/MD652-F63-2016.12.17-12.13.44_MD652_1_0187_lossless_alignedTo_MD652-F45-2016.12.17-05.56.31_MD652_2_0134_cropped/MD652-F63-2016.12.17-12.13.44_MD652_1_0187_lossless_alignedTo_MD652-F45-2016.12.17-05.56.31_MD652_2_0134_cropped_patch_locations.txt\n"
     ]
    },
    {
     "name": "stderr",
     "output_type": "stream",
     "text": [
      "Child returned 0\n",
      "0.84 seconds.\n",
      "save: 4.03 seconds\n",
      "\n",
      "Section 303.\n",
      "locate patches: 0.02 seconds\n",
      "50917 samples.\n",
      "load image: 0.27 seconds\n",
      "extract patches: 4.86 seconds\n",
      "predict: 28.57 seconds\n"
     ]
    },
    {
     "name": "stdout",
     "output_type": "stream",
     "text": [
      "aws s3 cp /shared/CSHL_patch_features/inception-bn-blue/MD652/MD652-N63-2016.12.16-12.51.42_MD652_2_0188_lossless_alignedTo_MD652-F45-2016.12.17-05.56.31_MD652_2_0134_cropped/MD652-N63-2016.12.16-12.51.42_MD652_2_0188_lossless_alignedTo_MD652-F45-2016.12.17-05.56.31_MD652_2_0134_cropped_features.bp s3://mousebrainatlas-data/CSHL_patch_features/inception-bn-blue/MD652/MD652-N63-2016.12.16-12.51.42_MD652_2_0188_lossless_alignedTo_MD652-F45-2016.12.17-05.56.31_MD652_2_0134_cropped/MD652-N63-2016.12.16-12.51.42_MD652_2_0188_lossless_alignedTo_MD652-F45-2016.12.17-05.56.31_MD652_2_0134_cropped_features.bp\n"
     ]
    },
    {
     "name": "stderr",
     "output_type": "stream",
     "text": [
      "Child returned 0\n",
      "2.47 seconds.\n"
     ]
    },
    {
     "name": "stdout",
     "output_type": "stream",
     "text": [
      "aws s3 cp /shared/CSHL_patch_features/inception-bn-blue/MD652/MD652-N63-2016.12.16-12.51.42_MD652_2_0188_lossless_alignedTo_MD652-F45-2016.12.17-05.56.31_MD652_2_0134_cropped/MD652-N63-2016.12.16-12.51.42_MD652_2_0188_lossless_alignedTo_MD652-F45-2016.12.17-05.56.31_MD652_2_0134_cropped_patch_locations.txt s3://mousebrainatlas-data/CSHL_patch_features/inception-bn-blue/MD652/MD652-N63-2016.12.16-12.51.42_MD652_2_0188_lossless_alignedTo_MD652-F45-2016.12.17-05.56.31_MD652_2_0134_cropped/MD652-N63-2016.12.16-12.51.42_MD652_2_0188_lossless_alignedTo_MD652-F45-2016.12.17-05.56.31_MD652_2_0134_cropped_patch_locations.txt\n"
     ]
    },
    {
     "name": "stderr",
     "output_type": "stream",
     "text": [
      "Child returned 0\n",
      "0.79 seconds.\n",
      "save: 4.21 seconds\n",
      "\n",
      "Section 304.\n",
      "locate patches: 0.02 seconds\n",
      "51197 samples.\n",
      "load image: 0.27 seconds\n",
      "extract patches: 4.89 seconds\n",
      "predict: 28.99 seconds\n"
     ]
    },
    {
     "name": "stdout",
     "output_type": "stream",
     "text": [
      "aws s3 cp /shared/CSHL_patch_features/inception-bn-blue/MD652/MD652-F63-2016.12.17-12.13.44_MD652_2_0188_lossless_alignedTo_MD652-F45-2016.12.17-05.56.31_MD652_2_0134_cropped/MD652-F63-2016.12.17-12.13.44_MD652_2_0188_lossless_alignedTo_MD652-F45-2016.12.17-05.56.31_MD652_2_0134_cropped_features.bp s3://mousebrainatlas-data/CSHL_patch_features/inception-bn-blue/MD652/MD652-F63-2016.12.17-12.13.44_MD652_2_0188_lossless_alignedTo_MD652-F45-2016.12.17-05.56.31_MD652_2_0134_cropped/MD652-F63-2016.12.17-12.13.44_MD652_2_0188_lossless_alignedTo_MD652-F45-2016.12.17-05.56.31_MD652_2_0134_cropped_features.bp\n"
     ]
    },
    {
     "name": "stderr",
     "output_type": "stream",
     "text": [
      "Child returned 0\n",
      "2.15 seconds.\n"
     ]
    },
    {
     "name": "stdout",
     "output_type": "stream",
     "text": [
      "aws s3 cp /shared/CSHL_patch_features/inception-bn-blue/MD652/MD652-F63-2016.12.17-12.13.44_MD652_2_0188_lossless_alignedTo_MD652-F45-2016.12.17-05.56.31_MD652_2_0134_cropped/MD652-F63-2016.12.17-12.13.44_MD652_2_0188_lossless_alignedTo_MD652-F45-2016.12.17-05.56.31_MD652_2_0134_cropped_patch_locations.txt s3://mousebrainatlas-data/CSHL_patch_features/inception-bn-blue/MD652/MD652-F63-2016.12.17-12.13.44_MD652_2_0188_lossless_alignedTo_MD652-F45-2016.12.17-05.56.31_MD652_2_0134_cropped/MD652-F63-2016.12.17-12.13.44_MD652_2_0188_lossless_alignedTo_MD652-F45-2016.12.17-05.56.31_MD652_2_0134_cropped_patch_locations.txt\n"
     ]
    },
    {
     "name": "stderr",
     "output_type": "stream",
     "text": [
      "Child returned 0\n",
      "0.78 seconds.\n",
      "save: 3.89 seconds\n",
      "\n",
      "Section 305.\n",
      "locate patches: 0.02 seconds\n",
      "49663 samples.\n",
      "load image: 0.27 seconds\n",
      "extract patches: 4.77 seconds\n",
      "predict: 28.10 seconds\n"
     ]
    },
    {
     "name": "stdout",
     "output_type": "stream",
     "text": [
      "aws s3 cp /shared/CSHL_patch_features/inception-bn-blue/MD652/MD652-N63-2016.12.16-12.51.42_MD652_3_0189_lossless_alignedTo_MD652-F45-2016.12.17-05.56.31_MD652_2_0134_cropped/MD652-N63-2016.12.16-12.51.42_MD652_3_0189_lossless_alignedTo_MD652-F45-2016.12.17-05.56.31_MD652_2_0134_cropped_features.bp s3://mousebrainatlas-data/CSHL_patch_features/inception-bn-blue/MD652/MD652-N63-2016.12.16-12.51.42_MD652_3_0189_lossless_alignedTo_MD652-F45-2016.12.17-05.56.31_MD652_2_0134_cropped/MD652-N63-2016.12.16-12.51.42_MD652_3_0189_lossless_alignedTo_MD652-F45-2016.12.17-05.56.31_MD652_2_0134_cropped_features.bp\n"
     ]
    },
    {
     "name": "stderr",
     "output_type": "stream",
     "text": [
      "Child returned 0\n",
      "2.18 seconds.\n"
     ]
    },
    {
     "name": "stdout",
     "output_type": "stream",
     "text": [
      "aws s3 cp /shared/CSHL_patch_features/inception-bn-blue/MD652/MD652-N63-2016.12.16-12.51.42_MD652_3_0189_lossless_alignedTo_MD652-F45-2016.12.17-05.56.31_MD652_2_0134_cropped/MD652-N63-2016.12.16-12.51.42_MD652_3_0189_lossless_alignedTo_MD652-F45-2016.12.17-05.56.31_MD652_2_0134_cropped_patch_locations.txt s3://mousebrainatlas-data/CSHL_patch_features/inception-bn-blue/MD652/MD652-N63-2016.12.16-12.51.42_MD652_3_0189_lossless_alignedTo_MD652-F45-2016.12.17-05.56.31_MD652_2_0134_cropped/MD652-N63-2016.12.16-12.51.42_MD652_3_0189_lossless_alignedTo_MD652-F45-2016.12.17-05.56.31_MD652_2_0134_cropped_patch_locations.txt\n"
     ]
    },
    {
     "name": "stderr",
     "output_type": "stream",
     "text": [
      "Child returned 0\n",
      "0.83 seconds.\n",
      "save: 3.95 seconds\n",
      "\n",
      "Section 306.\n",
      "locate patches: 0.02 seconds\n",
      "49421 samples.\n",
      "load image: 0.27 seconds\n",
      "extract patches: 4.72 seconds\n",
      "predict: 27.97 seconds\n"
     ]
    },
    {
     "name": "stdout",
     "output_type": "stream",
     "text": [
      "aws s3 cp /shared/CSHL_patch_features/inception-bn-blue/MD652/MD652-F63-2016.12.17-12.13.44_MD652_3_0189_lossless_alignedTo_MD652-F45-2016.12.17-05.56.31_MD652_2_0134_cropped/MD652-F63-2016.12.17-12.13.44_MD652_3_0189_lossless_alignedTo_MD652-F45-2016.12.17-05.56.31_MD652_2_0134_cropped_features.bp s3://mousebrainatlas-data/CSHL_patch_features/inception-bn-blue/MD652/MD652-F63-2016.12.17-12.13.44_MD652_3_0189_lossless_alignedTo_MD652-F45-2016.12.17-05.56.31_MD652_2_0134_cropped/MD652-F63-2016.12.17-12.13.44_MD652_3_0189_lossless_alignedTo_MD652-F45-2016.12.17-05.56.31_MD652_2_0134_cropped_features.bp\n"
     ]
    },
    {
     "name": "stderr",
     "output_type": "stream",
     "text": [
      "Child returned 0\n",
      "2.20 seconds.\n"
     ]
    },
    {
     "name": "stdout",
     "output_type": "stream",
     "text": [
      "aws s3 cp /shared/CSHL_patch_features/inception-bn-blue/MD652/MD652-F63-2016.12.17-12.13.44_MD652_3_0189_lossless_alignedTo_MD652-F45-2016.12.17-05.56.31_MD652_2_0134_cropped/MD652-F63-2016.12.17-12.13.44_MD652_3_0189_lossless_alignedTo_MD652-F45-2016.12.17-05.56.31_MD652_2_0134_cropped_patch_locations.txt s3://mousebrainatlas-data/CSHL_patch_features/inception-bn-blue/MD652/MD652-F63-2016.12.17-12.13.44_MD652_3_0189_lossless_alignedTo_MD652-F45-2016.12.17-05.56.31_MD652_2_0134_cropped/MD652-F63-2016.12.17-12.13.44_MD652_3_0189_lossless_alignedTo_MD652-F45-2016.12.17-05.56.31_MD652_2_0134_cropped_patch_locations.txt\n"
     ]
    },
    {
     "name": "stderr",
     "output_type": "stream",
     "text": [
      "Child returned 0\n",
      "0.79 seconds.\n",
      "save: 3.92 seconds\n",
      "\n",
      "Section 307.\n",
      "locate patches: 0.02 seconds\n",
      "50006 samples.\n",
      "load image: 0.27 seconds\n",
      "extract patches: 4.77 seconds\n",
      "predict: 28.41 seconds\n"
     ]
    },
    {
     "name": "stdout",
     "output_type": "stream",
     "text": [
      "aws s3 cp /shared/CSHL_patch_features/inception-bn-blue/MD652/MD652-N64-2016.12.16-12.57.33_MD652_1_0190_lossless_alignedTo_MD652-F45-2016.12.17-05.56.31_MD652_2_0134_cropped/MD652-N64-2016.12.16-12.57.33_MD652_1_0190_lossless_alignedTo_MD652-F45-2016.12.17-05.56.31_MD652_2_0134_cropped_features.bp s3://mousebrainatlas-data/CSHL_patch_features/inception-bn-blue/MD652/MD652-N64-2016.12.16-12.57.33_MD652_1_0190_lossless_alignedTo_MD652-F45-2016.12.17-05.56.31_MD652_2_0134_cropped/MD652-N64-2016.12.16-12.57.33_MD652_1_0190_lossless_alignedTo_MD652-F45-2016.12.17-05.56.31_MD652_2_0134_cropped_features.bp\n"
     ]
    },
    {
     "name": "stderr",
     "output_type": "stream",
     "text": [
      "Child returned 0\n",
      "2.28 seconds.\n"
     ]
    },
    {
     "name": "stdout",
     "output_type": "stream",
     "text": [
      "aws s3 cp /shared/CSHL_patch_features/inception-bn-blue/MD652/MD652-N64-2016.12.16-12.57.33_MD652_1_0190_lossless_alignedTo_MD652-F45-2016.12.17-05.56.31_MD652_2_0134_cropped/MD652-N64-2016.12.16-12.57.33_MD652_1_0190_lossless_alignedTo_MD652-F45-2016.12.17-05.56.31_MD652_2_0134_cropped_patch_locations.txt s3://mousebrainatlas-data/CSHL_patch_features/inception-bn-blue/MD652/MD652-N64-2016.12.16-12.57.33_MD652_1_0190_lossless_alignedTo_MD652-F45-2016.12.17-05.56.31_MD652_2_0134_cropped/MD652-N64-2016.12.16-12.57.33_MD652_1_0190_lossless_alignedTo_MD652-F45-2016.12.17-05.56.31_MD652_2_0134_cropped_patch_locations.txt\n"
     ]
    },
    {
     "name": "stderr",
     "output_type": "stream",
     "text": [
      "Child returned 0\n",
      "0.78 seconds.\n",
      "save: 4.01 seconds\n",
      "\n",
      "Section 308.\n",
      "locate patches: 0.02 seconds\n",
      "49917 samples.\n",
      "load image: 0.27 seconds\n",
      "extract patches: 4.77 seconds\n",
      "predict: 28.26 seconds\n"
     ]
    },
    {
     "name": "stdout",
     "output_type": "stream",
     "text": [
      "aws s3 cp /shared/CSHL_patch_features/inception-bn-blue/MD652/MD652-F64-2016.12.17-12.36.08_MD652_1_0190_lossless_alignedTo_MD652-F45-2016.12.17-05.56.31_MD652_2_0134_cropped/MD652-F64-2016.12.17-12.36.08_MD652_1_0190_lossless_alignedTo_MD652-F45-2016.12.17-05.56.31_MD652_2_0134_cropped_features.bp s3://mousebrainatlas-data/CSHL_patch_features/inception-bn-blue/MD652/MD652-F64-2016.12.17-12.36.08_MD652_1_0190_lossless_alignedTo_MD652-F45-2016.12.17-05.56.31_MD652_2_0134_cropped/MD652-F64-2016.12.17-12.36.08_MD652_1_0190_lossless_alignedTo_MD652-F45-2016.12.17-05.56.31_MD652_2_0134_cropped_features.bp\n"
     ]
    },
    {
     "name": "stderr",
     "output_type": "stream",
     "text": [
      "Child returned 0\n",
      "2.19 seconds.\n"
     ]
    },
    {
     "name": "stdout",
     "output_type": "stream",
     "text": [
      "aws s3 cp /shared/CSHL_patch_features/inception-bn-blue/MD652/MD652-F64-2016.12.17-12.36.08_MD652_1_0190_lossless_alignedTo_MD652-F45-2016.12.17-05.56.31_MD652_2_0134_cropped/MD652-F64-2016.12.17-12.36.08_MD652_1_0190_lossless_alignedTo_MD652-F45-2016.12.17-05.56.31_MD652_2_0134_cropped_patch_locations.txt s3://mousebrainatlas-data/CSHL_patch_features/inception-bn-blue/MD652/MD652-F64-2016.12.17-12.36.08_MD652_1_0190_lossless_alignedTo_MD652-F45-2016.12.17-05.56.31_MD652_2_0134_cropped/MD652-F64-2016.12.17-12.36.08_MD652_1_0190_lossless_alignedTo_MD652-F45-2016.12.17-05.56.31_MD652_2_0134_cropped_patch_locations.txt\n"
     ]
    },
    {
     "name": "stderr",
     "output_type": "stream",
     "text": [
      "Child returned 0\n",
      "0.83 seconds.\n",
      "save: 3.96 seconds\n",
      "\n",
      "Section 309.\n",
      "locate patches: 0.02 seconds\n",
      "49620 samples.\n",
      "load image: 0.27 seconds\n",
      "extract patches: 4.77 seconds\n",
      "predict: 27.91 seconds\n"
     ]
    },
    {
     "name": "stdout",
     "output_type": "stream",
     "text": [
      "aws s3 cp /shared/CSHL_patch_features/inception-bn-blue/MD652/MD652-N64-2016.12.16-12.57.33_MD652_2_0191_lossless_alignedTo_MD652-F45-2016.12.17-05.56.31_MD652_2_0134_cropped/MD652-N64-2016.12.16-12.57.33_MD652_2_0191_lossless_alignedTo_MD652-F45-2016.12.17-05.56.31_MD652_2_0134_cropped_features.bp s3://mousebrainatlas-data/CSHL_patch_features/inception-bn-blue/MD652/MD652-N64-2016.12.16-12.57.33_MD652_2_0191_lossless_alignedTo_MD652-F45-2016.12.17-05.56.31_MD652_2_0134_cropped/MD652-N64-2016.12.16-12.57.33_MD652_2_0191_lossless_alignedTo_MD652-F45-2016.12.17-05.56.31_MD652_2_0134_cropped_features.bp\n"
     ]
    },
    {
     "name": "stderr",
     "output_type": "stream",
     "text": [
      "Child returned 0\n",
      "1.97 seconds.\n"
     ]
    },
    {
     "name": "stdout",
     "output_type": "stream",
     "text": [
      "aws s3 cp /shared/CSHL_patch_features/inception-bn-blue/MD652/MD652-N64-2016.12.16-12.57.33_MD652_2_0191_lossless_alignedTo_MD652-F45-2016.12.17-05.56.31_MD652_2_0134_cropped/MD652-N64-2016.12.16-12.57.33_MD652_2_0191_lossless_alignedTo_MD652-F45-2016.12.17-05.56.31_MD652_2_0134_cropped_patch_locations.txt s3://mousebrainatlas-data/CSHL_patch_features/inception-bn-blue/MD652/MD652-N64-2016.12.16-12.57.33_MD652_2_0191_lossless_alignedTo_MD652-F45-2016.12.17-05.56.31_MD652_2_0134_cropped/MD652-N64-2016.12.16-12.57.33_MD652_2_0191_lossless_alignedTo_MD652-F45-2016.12.17-05.56.31_MD652_2_0134_cropped_patch_locations.txt\n"
     ]
    },
    {
     "name": "stderr",
     "output_type": "stream",
     "text": [
      "Child returned 0\n",
      "0.78 seconds.\n",
      "save: 3.68 seconds\n",
      "\n",
      "Section 310.\n",
      "locate patches: 0.02 seconds\n",
      "49663 samples.\n",
      "load image: 0.27 seconds\n",
      "extract patches: 4.74 seconds\n",
      "predict: 27.91 seconds\n"
     ]
    },
    {
     "name": "stdout",
     "output_type": "stream",
     "text": [
      "aws s3 cp /shared/CSHL_patch_features/inception-bn-blue/MD652/MD652-F64-2016.12.17-12.36.08_MD652_2_0191_lossless_alignedTo_MD652-F45-2016.12.17-05.56.31_MD652_2_0134_cropped/MD652-F64-2016.12.17-12.36.08_MD652_2_0191_lossless_alignedTo_MD652-F45-2016.12.17-05.56.31_MD652_2_0134_cropped_features.bp s3://mousebrainatlas-data/CSHL_patch_features/inception-bn-blue/MD652/MD652-F64-2016.12.17-12.36.08_MD652_2_0191_lossless_alignedTo_MD652-F45-2016.12.17-05.56.31_MD652_2_0134_cropped/MD652-F64-2016.12.17-12.36.08_MD652_2_0191_lossless_alignedTo_MD652-F45-2016.12.17-05.56.31_MD652_2_0134_cropped_features.bp\n"
     ]
    },
    {
     "name": "stderr",
     "output_type": "stream",
     "text": [
      "Child returned 0\n",
      "2.36 seconds.\n"
     ]
    },
    {
     "name": "stdout",
     "output_type": "stream",
     "text": [
      "aws s3 cp /shared/CSHL_patch_features/inception-bn-blue/MD652/MD652-F64-2016.12.17-12.36.08_MD652_2_0191_lossless_alignedTo_MD652-F45-2016.12.17-05.56.31_MD652_2_0134_cropped/MD652-F64-2016.12.17-12.36.08_MD652_2_0191_lossless_alignedTo_MD652-F45-2016.12.17-05.56.31_MD652_2_0134_cropped_patch_locations.txt s3://mousebrainatlas-data/CSHL_patch_features/inception-bn-blue/MD652/MD652-F64-2016.12.17-12.36.08_MD652_2_0191_lossless_alignedTo_MD652-F45-2016.12.17-05.56.31_MD652_2_0134_cropped/MD652-F64-2016.12.17-12.36.08_MD652_2_0191_lossless_alignedTo_MD652-F45-2016.12.17-05.56.31_MD652_2_0134_cropped_patch_locations.txt\n"
     ]
    },
    {
     "name": "stderr",
     "output_type": "stream",
     "text": [
      "Child returned 0\n",
      "0.88 seconds.\n",
      "save: 4.17 seconds\n",
      "\n",
      "Section 311.\n",
      "locate patches: 0.02 seconds\n",
      "49508 samples.\n",
      "load image: 0.27 seconds\n",
      "extract patches: 4.75 seconds\n",
      "predict: 28.10 seconds\n"
     ]
    },
    {
     "name": "stdout",
     "output_type": "stream",
     "text": [
      "aws s3 cp /shared/CSHL_patch_features/inception-bn-blue/MD652/MD652-N64-2016.12.16-12.57.33_MD652_3_0192_lossless_alignedTo_MD652-F45-2016.12.17-05.56.31_MD652_2_0134_cropped/MD652-N64-2016.12.16-12.57.33_MD652_3_0192_lossless_alignedTo_MD652-F45-2016.12.17-05.56.31_MD652_2_0134_cropped_features.bp s3://mousebrainatlas-data/CSHL_patch_features/inception-bn-blue/MD652/MD652-N64-2016.12.16-12.57.33_MD652_3_0192_lossless_alignedTo_MD652-F45-2016.12.17-05.56.31_MD652_2_0134_cropped/MD652-N64-2016.12.16-12.57.33_MD652_3_0192_lossless_alignedTo_MD652-F45-2016.12.17-05.56.31_MD652_2_0134_cropped_features.bp\n"
     ]
    },
    {
     "name": "stderr",
     "output_type": "stream",
     "text": [
      "Child returned 0\n",
      "2.47 seconds.\n"
     ]
    },
    {
     "name": "stdout",
     "output_type": "stream",
     "text": [
      "aws s3 cp /shared/CSHL_patch_features/inception-bn-blue/MD652/MD652-N64-2016.12.16-12.57.33_MD652_3_0192_lossless_alignedTo_MD652-F45-2016.12.17-05.56.31_MD652_2_0134_cropped/MD652-N64-2016.12.16-12.57.33_MD652_3_0192_lossless_alignedTo_MD652-F45-2016.12.17-05.56.31_MD652_2_0134_cropped_patch_locations.txt s3://mousebrainatlas-data/CSHL_patch_features/inception-bn-blue/MD652/MD652-N64-2016.12.16-12.57.33_MD652_3_0192_lossless_alignedTo_MD652-F45-2016.12.17-05.56.31_MD652_2_0134_cropped/MD652-N64-2016.12.16-12.57.33_MD652_3_0192_lossless_alignedTo_MD652-F45-2016.12.17-05.56.31_MD652_2_0134_cropped_patch_locations.txt\n"
     ]
    },
    {
     "name": "stderr",
     "output_type": "stream",
     "text": [
      "Child returned 0\n",
      "0.79 seconds.\n",
      "save: 4.18 seconds\n",
      "\n",
      "Section 312.\n",
      "locate patches: 0.02 seconds\n",
      "48926 samples.\n",
      "load image: 0.27 seconds\n",
      "extract patches: 4.68 seconds\n",
      "predict: 27.88 seconds\n"
     ]
    },
    {
     "name": "stdout",
     "output_type": "stream",
     "text": [
      "aws s3 cp /shared/CSHL_patch_features/inception-bn-blue/MD652/MD652-F64-2016.12.17-12.36.08_MD652_3_0192_lossless_alignedTo_MD652-F45-2016.12.17-05.56.31_MD652_2_0134_cropped/MD652-F64-2016.12.17-12.36.08_MD652_3_0192_lossless_alignedTo_MD652-F45-2016.12.17-05.56.31_MD652_2_0134_cropped_features.bp s3://mousebrainatlas-data/CSHL_patch_features/inception-bn-blue/MD652/MD652-F64-2016.12.17-12.36.08_MD652_3_0192_lossless_alignedTo_MD652-F45-2016.12.17-05.56.31_MD652_2_0134_cropped/MD652-F64-2016.12.17-12.36.08_MD652_3_0192_lossless_alignedTo_MD652-F45-2016.12.17-05.56.31_MD652_2_0134_cropped_features.bp\n"
     ]
    },
    {
     "name": "stderr",
     "output_type": "stream",
     "text": [
      "Child returned 0\n",
      "2.18 seconds.\n"
     ]
    },
    {
     "name": "stdout",
     "output_type": "stream",
     "text": [
      "aws s3 cp /shared/CSHL_patch_features/inception-bn-blue/MD652/MD652-F64-2016.12.17-12.36.08_MD652_3_0192_lossless_alignedTo_MD652-F45-2016.12.17-05.56.31_MD652_2_0134_cropped/MD652-F64-2016.12.17-12.36.08_MD652_3_0192_lossless_alignedTo_MD652-F45-2016.12.17-05.56.31_MD652_2_0134_cropped_patch_locations.txt s3://mousebrainatlas-data/CSHL_patch_features/inception-bn-blue/MD652/MD652-F64-2016.12.17-12.36.08_MD652_3_0192_lossless_alignedTo_MD652-F45-2016.12.17-05.56.31_MD652_2_0134_cropped/MD652-F64-2016.12.17-12.36.08_MD652_3_0192_lossless_alignedTo_MD652-F45-2016.12.17-05.56.31_MD652_2_0134_cropped_patch_locations.txt\n"
     ]
    },
    {
     "name": "stderr",
     "output_type": "stream",
     "text": [
      "Child returned 0\n",
      "0.83 seconds.\n",
      "save: 3.93 seconds\n",
      "\n",
      "Section 313.\n",
      "locate patches: 0.02 seconds\n",
      "48460 samples.\n",
      "load image: 0.27 seconds\n",
      "extract patches: 4.63 seconds\n",
      "predict: 27.50 seconds\n"
     ]
    },
    {
     "name": "stdout",
     "output_type": "stream",
     "text": [
      "aws s3 cp /shared/CSHL_patch_features/inception-bn-blue/MD652/MD652-N65-2016.12.21-19.42.51_MD652_1_0193_lossless_alignedTo_MD652-F45-2016.12.17-05.56.31_MD652_2_0134_cropped/MD652-N65-2016.12.21-19.42.51_MD652_1_0193_lossless_alignedTo_MD652-F45-2016.12.17-05.56.31_MD652_2_0134_cropped_features.bp s3://mousebrainatlas-data/CSHL_patch_features/inception-bn-blue/MD652/MD652-N65-2016.12.21-19.42.51_MD652_1_0193_lossless_alignedTo_MD652-F45-2016.12.17-05.56.31_MD652_2_0134_cropped/MD652-N65-2016.12.21-19.42.51_MD652_1_0193_lossless_alignedTo_MD652-F45-2016.12.17-05.56.31_MD652_2_0134_cropped_features.bp\n"
     ]
    },
    {
     "name": "stderr",
     "output_type": "stream",
     "text": [
      "Child returned 0\n",
      "2.57 seconds.\n"
     ]
    },
    {
     "name": "stdout",
     "output_type": "stream",
     "text": [
      "aws s3 cp /shared/CSHL_patch_features/inception-bn-blue/MD652/MD652-N65-2016.12.21-19.42.51_MD652_1_0193_lossless_alignedTo_MD652-F45-2016.12.17-05.56.31_MD652_2_0134_cropped/MD652-N65-2016.12.21-19.42.51_MD652_1_0193_lossless_alignedTo_MD652-F45-2016.12.17-05.56.31_MD652_2_0134_cropped_patch_locations.txt s3://mousebrainatlas-data/CSHL_patch_features/inception-bn-blue/MD652/MD652-N65-2016.12.21-19.42.51_MD652_1_0193_lossless_alignedTo_MD652-F45-2016.12.17-05.56.31_MD652_2_0134_cropped/MD652-N65-2016.12.21-19.42.51_MD652_1_0193_lossless_alignedTo_MD652-F45-2016.12.17-05.56.31_MD652_2_0134_cropped_patch_locations.txt\n"
     ]
    },
    {
     "name": "stderr",
     "output_type": "stream",
     "text": [
      "Child returned 0\n",
      "0.79 seconds.\n",
      "save: 4.26 seconds\n",
      "\n",
      "Section 314.\n",
      "locate patches: 0.02 seconds\n",
      "48490 samples.\n",
      "load image: 0.27 seconds\n",
      "extract patches: 4.63 seconds\n",
      "predict: 27.48 seconds\n"
     ]
    },
    {
     "name": "stdout",
     "output_type": "stream",
     "text": [
      "aws s3 cp /shared/CSHL_patch_features/inception-bn-blue/MD652/MD652-F65-2016.12.17-12.56.37_MD652_1_0193_lossless_alignedTo_MD652-F45-2016.12.17-05.56.31_MD652_2_0134_cropped/MD652-F65-2016.12.17-12.56.37_MD652_1_0193_lossless_alignedTo_MD652-F45-2016.12.17-05.56.31_MD652_2_0134_cropped_features.bp s3://mousebrainatlas-data/CSHL_patch_features/inception-bn-blue/MD652/MD652-F65-2016.12.17-12.56.37_MD652_1_0193_lossless_alignedTo_MD652-F45-2016.12.17-05.56.31_MD652_2_0134_cropped/MD652-F65-2016.12.17-12.56.37_MD652_1_0193_lossless_alignedTo_MD652-F45-2016.12.17-05.56.31_MD652_2_0134_cropped_features.bp\n"
     ]
    },
    {
     "name": "stderr",
     "output_type": "stream",
     "text": [
      "Child returned 0\n",
      "2.30 seconds.\n"
     ]
    },
    {
     "name": "stdout",
     "output_type": "stream",
     "text": [
      "aws s3 cp /shared/CSHL_patch_features/inception-bn-blue/MD652/MD652-F65-2016.12.17-12.56.37_MD652_1_0193_lossless_alignedTo_MD652-F45-2016.12.17-05.56.31_MD652_2_0134_cropped/MD652-F65-2016.12.17-12.56.37_MD652_1_0193_lossless_alignedTo_MD652-F45-2016.12.17-05.56.31_MD652_2_0134_cropped_patch_locations.txt s3://mousebrainatlas-data/CSHL_patch_features/inception-bn-blue/MD652/MD652-F65-2016.12.17-12.56.37_MD652_1_0193_lossless_alignedTo_MD652-F45-2016.12.17-05.56.31_MD652_2_0134_cropped/MD652-F65-2016.12.17-12.56.37_MD652_1_0193_lossless_alignedTo_MD652-F45-2016.12.17-05.56.31_MD652_2_0134_cropped_patch_locations.txt\n"
     ]
    },
    {
     "name": "stderr",
     "output_type": "stream",
     "text": [
      "Child returned 0\n",
      "0.85 seconds.\n",
      "save: 4.05 seconds\n",
      "\n",
      "Section 315.\n",
      "locate patches: 0.02 seconds\n",
      "48512 samples.\n",
      "load image: 0.28 seconds\n",
      "extract patches: 4.65 seconds\n",
      "predict: 27.49 seconds\n"
     ]
    },
    {
     "name": "stdout",
     "output_type": "stream",
     "text": [
      "aws s3 cp /shared/CSHL_patch_features/inception-bn-blue/MD652/MD652-N65-2016.12.21-19.42.51_MD652_2_0194_lossless_alignedTo_MD652-F45-2016.12.17-05.56.31_MD652_2_0134_cropped/MD652-N65-2016.12.21-19.42.51_MD652_2_0194_lossless_alignedTo_MD652-F45-2016.12.17-05.56.31_MD652_2_0134_cropped_features.bp s3://mousebrainatlas-data/CSHL_patch_features/inception-bn-blue/MD652/MD652-N65-2016.12.21-19.42.51_MD652_2_0194_lossless_alignedTo_MD652-F45-2016.12.17-05.56.31_MD652_2_0134_cropped/MD652-N65-2016.12.21-19.42.51_MD652_2_0194_lossless_alignedTo_MD652-F45-2016.12.17-05.56.31_MD652_2_0134_cropped_features.bp\n"
     ]
    },
    {
     "name": "stderr",
     "output_type": "stream",
     "text": [
      "Child returned 0\n",
      "2.32 seconds.\n"
     ]
    },
    {
     "name": "stdout",
     "output_type": "stream",
     "text": [
      "aws s3 cp /shared/CSHL_patch_features/inception-bn-blue/MD652/MD652-N65-2016.12.21-19.42.51_MD652_2_0194_lossless_alignedTo_MD652-F45-2016.12.17-05.56.31_MD652_2_0134_cropped/MD652-N65-2016.12.21-19.42.51_MD652_2_0194_lossless_alignedTo_MD652-F45-2016.12.17-05.56.31_MD652_2_0134_cropped_patch_locations.txt s3://mousebrainatlas-data/CSHL_patch_features/inception-bn-blue/MD652/MD652-N65-2016.12.21-19.42.51_MD652_2_0194_lossless_alignedTo_MD652-F45-2016.12.17-05.56.31_MD652_2_0134_cropped/MD652-N65-2016.12.21-19.42.51_MD652_2_0194_lossless_alignedTo_MD652-F45-2016.12.17-05.56.31_MD652_2_0134_cropped_patch_locations.txt\n"
     ]
    },
    {
     "name": "stderr",
     "output_type": "stream",
     "text": [
      "Child returned 0\n",
      "0.78 seconds.\n",
      "save: 4.01 seconds\n",
      "\n",
      "Section 316.\n",
      "locate patches: 0.02 seconds\n",
      "48759 samples.\n",
      "load image: 0.27 seconds\n",
      "extract patches: 4.65 seconds\n",
      "predict: 27.59 seconds\n"
     ]
    },
    {
     "name": "stdout",
     "output_type": "stream",
     "text": [
      "aws s3 cp /shared/CSHL_patch_features/inception-bn-blue/MD652/MD652-F65-2016.12.17-12.56.37_MD652_2_0194_lossless_alignedTo_MD652-F45-2016.12.17-05.56.31_MD652_2_0134_cropped/MD652-F65-2016.12.17-12.56.37_MD652_2_0194_lossless_alignedTo_MD652-F45-2016.12.17-05.56.31_MD652_2_0134_cropped_features.bp s3://mousebrainatlas-data/CSHL_patch_features/inception-bn-blue/MD652/MD652-F65-2016.12.17-12.56.37_MD652_2_0194_lossless_alignedTo_MD652-F45-2016.12.17-05.56.31_MD652_2_0134_cropped/MD652-F65-2016.12.17-12.56.37_MD652_2_0194_lossless_alignedTo_MD652-F45-2016.12.17-05.56.31_MD652_2_0134_cropped_features.bp\n"
     ]
    },
    {
     "name": "stderr",
     "output_type": "stream",
     "text": [
      "Child returned 0\n",
      "2.27 seconds.\n"
     ]
    },
    {
     "name": "stdout",
     "output_type": "stream",
     "text": [
      "aws s3 cp /shared/CSHL_patch_features/inception-bn-blue/MD652/MD652-F65-2016.12.17-12.56.37_MD652_2_0194_lossless_alignedTo_MD652-F45-2016.12.17-05.56.31_MD652_2_0134_cropped/MD652-F65-2016.12.17-12.56.37_MD652_2_0194_lossless_alignedTo_MD652-F45-2016.12.17-05.56.31_MD652_2_0134_cropped_patch_locations.txt s3://mousebrainatlas-data/CSHL_patch_features/inception-bn-blue/MD652/MD652-F65-2016.12.17-12.56.37_MD652_2_0194_lossless_alignedTo_MD652-F45-2016.12.17-05.56.31_MD652_2_0134_cropped/MD652-F65-2016.12.17-12.56.37_MD652_2_0194_lossless_alignedTo_MD652-F45-2016.12.17-05.56.31_MD652_2_0134_cropped_patch_locations.txt\n"
     ]
    },
    {
     "name": "stderr",
     "output_type": "stream",
     "text": [
      "Child returned 0\n",
      "0.83 seconds.\n",
      "save: 4.02 seconds\n",
      "\n",
      "Section 317.\n",
      "locate patches: 0.02 seconds\n",
      "48378 samples.\n",
      "load image: 0.27 seconds\n",
      "extract patches: 4.61 seconds\n",
      "predict: 27.33 seconds\n"
     ]
    },
    {
     "name": "stdout",
     "output_type": "stream",
     "text": [
      "aws s3 cp /shared/CSHL_patch_features/inception-bn-blue/MD652/MD652-N65-2016.12.21-19.42.51_MD652_3_0195_lossless_alignedTo_MD652-F45-2016.12.17-05.56.31_MD652_2_0134_cropped/MD652-N65-2016.12.21-19.42.51_MD652_3_0195_lossless_alignedTo_MD652-F45-2016.12.17-05.56.31_MD652_2_0134_cropped_features.bp s3://mousebrainatlas-data/CSHL_patch_features/inception-bn-blue/MD652/MD652-N65-2016.12.21-19.42.51_MD652_3_0195_lossless_alignedTo_MD652-F45-2016.12.17-05.56.31_MD652_2_0134_cropped/MD652-N65-2016.12.21-19.42.51_MD652_3_0195_lossless_alignedTo_MD652-F45-2016.12.17-05.56.31_MD652_2_0134_cropped_features.bp\n"
     ]
    },
    {
     "name": "stderr",
     "output_type": "stream",
     "text": [
      "Child returned 0\n",
      "2.24 seconds.\n"
     ]
    },
    {
     "name": "stdout",
     "output_type": "stream",
     "text": [
      "aws s3 cp /shared/CSHL_patch_features/inception-bn-blue/MD652/MD652-N65-2016.12.21-19.42.51_MD652_3_0195_lossless_alignedTo_MD652-F45-2016.12.17-05.56.31_MD652_2_0134_cropped/MD652-N65-2016.12.21-19.42.51_MD652_3_0195_lossless_alignedTo_MD652-F45-2016.12.17-05.56.31_MD652_2_0134_cropped_patch_locations.txt s3://mousebrainatlas-data/CSHL_patch_features/inception-bn-blue/MD652/MD652-N65-2016.12.21-19.42.51_MD652_3_0195_lossless_alignedTo_MD652-F45-2016.12.17-05.56.31_MD652_2_0134_cropped/MD652-N65-2016.12.21-19.42.51_MD652_3_0195_lossless_alignedTo_MD652-F45-2016.12.17-05.56.31_MD652_2_0134_cropped_patch_locations.txt\n"
     ]
    },
    {
     "name": "stderr",
     "output_type": "stream",
     "text": [
      "Child returned 0\n",
      "0.83 seconds.\n",
      "save: 3.98 seconds\n",
      "\n",
      "Section 318.\n",
      "locate patches: 0.02 seconds\n",
      "48308 samples.\n",
      "load image: 0.27 seconds\n",
      "extract patches: 4.61 seconds\n",
      "predict: 27.28 seconds\n"
     ]
    },
    {
     "name": "stdout",
     "output_type": "stream",
     "text": [
      "aws s3 cp /shared/CSHL_patch_features/inception-bn-blue/MD652/MD652-F65-2016.12.17-12.56.37_MD652_3_0195_lossless_alignedTo_MD652-F45-2016.12.17-05.56.31_MD652_2_0134_cropped/MD652-F65-2016.12.17-12.56.37_MD652_3_0195_lossless_alignedTo_MD652-F45-2016.12.17-05.56.31_MD652_2_0134_cropped_features.bp s3://mousebrainatlas-data/CSHL_patch_features/inception-bn-blue/MD652/MD652-F65-2016.12.17-12.56.37_MD652_3_0195_lossless_alignedTo_MD652-F45-2016.12.17-05.56.31_MD652_2_0134_cropped/MD652-F65-2016.12.17-12.56.37_MD652_3_0195_lossless_alignedTo_MD652-F45-2016.12.17-05.56.31_MD652_2_0134_cropped_features.bp\n"
     ]
    },
    {
     "name": "stderr",
     "output_type": "stream",
     "text": [
      "Child returned 0\n",
      "2.13 seconds.\n"
     ]
    },
    {
     "name": "stdout",
     "output_type": "stream",
     "text": [
      "aws s3 cp /shared/CSHL_patch_features/inception-bn-blue/MD652/MD652-F65-2016.12.17-12.56.37_MD652_3_0195_lossless_alignedTo_MD652-F45-2016.12.17-05.56.31_MD652_2_0134_cropped/MD652-F65-2016.12.17-12.56.37_MD652_3_0195_lossless_alignedTo_MD652-F45-2016.12.17-05.56.31_MD652_2_0134_cropped_patch_locations.txt s3://mousebrainatlas-data/CSHL_patch_features/inception-bn-blue/MD652/MD652-F65-2016.12.17-12.56.37_MD652_3_0195_lossless_alignedTo_MD652-F45-2016.12.17-05.56.31_MD652_2_0134_cropped/MD652-F65-2016.12.17-12.56.37_MD652_3_0195_lossless_alignedTo_MD652-F45-2016.12.17-05.56.31_MD652_2_0134_cropped_patch_locations.txt\n"
     ]
    },
    {
     "name": "stderr",
     "output_type": "stream",
     "text": [
      "Child returned 0\n",
      "0.73 seconds.\n",
      "save: 3.77 seconds\n",
      "\n",
      "Section 319.\n",
      "locate patches: 0.02 seconds\n",
      "48126 samples.\n",
      "load image: 0.27 seconds\n",
      "extract patches: 4.59 seconds\n",
      "predict: 27.05 seconds\n"
     ]
    },
    {
     "name": "stdout",
     "output_type": "stream",
     "text": [
      "aws s3 cp /shared/CSHL_patch_features/inception-bn-blue/MD652/MD652-N66-2016.12.16-13.08.48_MD652_1_0196_lossless_alignedTo_MD652-F45-2016.12.17-05.56.31_MD652_2_0134_cropped/MD652-N66-2016.12.16-13.08.48_MD652_1_0196_lossless_alignedTo_MD652-F45-2016.12.17-05.56.31_MD652_2_0134_cropped_features.bp s3://mousebrainatlas-data/CSHL_patch_features/inception-bn-blue/MD652/MD652-N66-2016.12.16-13.08.48_MD652_1_0196_lossless_alignedTo_MD652-F45-2016.12.17-05.56.31_MD652_2_0134_cropped/MD652-N66-2016.12.16-13.08.48_MD652_1_0196_lossless_alignedTo_MD652-F45-2016.12.17-05.56.31_MD652_2_0134_cropped_features.bp\n"
     ]
    },
    {
     "name": "stderr",
     "output_type": "stream",
     "text": [
      "Child returned 0\n",
      "2.09 seconds.\n"
     ]
    },
    {
     "name": "stdout",
     "output_type": "stream",
     "text": [
      "aws s3 cp /shared/CSHL_patch_features/inception-bn-blue/MD652/MD652-N66-2016.12.16-13.08.48_MD652_1_0196_lossless_alignedTo_MD652-F45-2016.12.17-05.56.31_MD652_2_0134_cropped/MD652-N66-2016.12.16-13.08.48_MD652_1_0196_lossless_alignedTo_MD652-F45-2016.12.17-05.56.31_MD652_2_0134_cropped_patch_locations.txt s3://mousebrainatlas-data/CSHL_patch_features/inception-bn-blue/MD652/MD652-N66-2016.12.16-13.08.48_MD652_1_0196_lossless_alignedTo_MD652-F45-2016.12.17-05.56.31_MD652_2_0134_cropped/MD652-N66-2016.12.16-13.08.48_MD652_1_0196_lossless_alignedTo_MD652-F45-2016.12.17-05.56.31_MD652_2_0134_cropped_patch_locations.txt\n"
     ]
    },
    {
     "name": "stderr",
     "output_type": "stream",
     "text": [
      "Child returned 0\n",
      "0.88 seconds.\n",
      "save: 3.87 seconds\n",
      "\n",
      "Section 320.\n",
      "locate patches: 0.02 seconds\n",
      "48456 samples.\n",
      "load image: 0.27 seconds\n",
      "extract patches: 4.63 seconds\n",
      "predict: 27.23 seconds\n"
     ]
    },
    {
     "name": "stdout",
     "output_type": "stream",
     "text": [
      "aws s3 cp /shared/CSHL_patch_features/inception-bn-blue/MD652/MD652-F66-2016.12.17-13.17.05_MD652_1_0196_lossless_alignedTo_MD652-F45-2016.12.17-05.56.31_MD652_2_0134_cropped/MD652-F66-2016.12.17-13.17.05_MD652_1_0196_lossless_alignedTo_MD652-F45-2016.12.17-05.56.31_MD652_2_0134_cropped_features.bp s3://mousebrainatlas-data/CSHL_patch_features/inception-bn-blue/MD652/MD652-F66-2016.12.17-13.17.05_MD652_1_0196_lossless_alignedTo_MD652-F45-2016.12.17-05.56.31_MD652_2_0134_cropped/MD652-F66-2016.12.17-13.17.05_MD652_1_0196_lossless_alignedTo_MD652-F45-2016.12.17-05.56.31_MD652_2_0134_cropped_features.bp\n"
     ]
    },
    {
     "name": "stderr",
     "output_type": "stream",
     "text": [
      "Child returned 0\n",
      "2.83 seconds.\n"
     ]
    },
    {
     "name": "stdout",
     "output_type": "stream",
     "text": [
      "aws s3 cp /shared/CSHL_patch_features/inception-bn-blue/MD652/MD652-F66-2016.12.17-13.17.05_MD652_1_0196_lossless_alignedTo_MD652-F45-2016.12.17-05.56.31_MD652_2_0134_cropped/MD652-F66-2016.12.17-13.17.05_MD652_1_0196_lossless_alignedTo_MD652-F45-2016.12.17-05.56.31_MD652_2_0134_cropped_patch_locations.txt s3://mousebrainatlas-data/CSHL_patch_features/inception-bn-blue/MD652/MD652-F66-2016.12.17-13.17.05_MD652_1_0196_lossless_alignedTo_MD652-F45-2016.12.17-05.56.31_MD652_2_0134_cropped/MD652-F66-2016.12.17-13.17.05_MD652_1_0196_lossless_alignedTo_MD652-F45-2016.12.17-05.56.31_MD652_2_0134_cropped_patch_locations.txt\n"
     ]
    },
    {
     "name": "stderr",
     "output_type": "stream",
     "text": [
      "Child returned 0\n",
      "0.78 seconds.\n",
      "save: 4.53 seconds\n",
      "\n",
      "Section 321.\n",
      "locate patches: 0.02 seconds\n",
      "47892 samples.\n",
      "load image: 0.27 seconds\n",
      "extract patches: 4.58 seconds\n",
      "predict: 27.21 seconds\n"
     ]
    },
    {
     "name": "stdout",
     "output_type": "stream",
     "text": [
      "aws s3 cp /shared/CSHL_patch_features/inception-bn-blue/MD652/MD652-N66-2016.12.16-13.08.48_MD652_2_0197_lossless_alignedTo_MD652-F45-2016.12.17-05.56.31_MD652_2_0134_cropped/MD652-N66-2016.12.16-13.08.48_MD652_2_0197_lossless_alignedTo_MD652-F45-2016.12.17-05.56.31_MD652_2_0134_cropped_features.bp s3://mousebrainatlas-data/CSHL_patch_features/inception-bn-blue/MD652/MD652-N66-2016.12.16-13.08.48_MD652_2_0197_lossless_alignedTo_MD652-F45-2016.12.17-05.56.31_MD652_2_0134_cropped/MD652-N66-2016.12.16-13.08.48_MD652_2_0197_lossless_alignedTo_MD652-F45-2016.12.17-05.56.31_MD652_2_0134_cropped_features.bp\n"
     ]
    },
    {
     "name": "stderr",
     "output_type": "stream",
     "text": [
      "Child returned 0\n",
      "2.02 seconds.\n"
     ]
    },
    {
     "name": "stdout",
     "output_type": "stream",
     "text": [
      "aws s3 cp /shared/CSHL_patch_features/inception-bn-blue/MD652/MD652-N66-2016.12.16-13.08.48_MD652_2_0197_lossless_alignedTo_MD652-F45-2016.12.17-05.56.31_MD652_2_0134_cropped/MD652-N66-2016.12.16-13.08.48_MD652_2_0197_lossless_alignedTo_MD652-F45-2016.12.17-05.56.31_MD652_2_0134_cropped_patch_locations.txt s3://mousebrainatlas-data/CSHL_patch_features/inception-bn-blue/MD652/MD652-N66-2016.12.16-13.08.48_MD652_2_0197_lossless_alignedTo_MD652-F45-2016.12.17-05.56.31_MD652_2_0134_cropped/MD652-N66-2016.12.16-13.08.48_MD652_2_0197_lossless_alignedTo_MD652-F45-2016.12.17-05.56.31_MD652_2_0134_cropped_patch_locations.txt\n"
     ]
    },
    {
     "name": "stderr",
     "output_type": "stream",
     "text": [
      "Child returned 0\n",
      "0.78 seconds.\n",
      "save: 3.70 seconds\n",
      "\n",
      "Section 322.\n",
      "locate patches: 0.02 seconds\n",
      "48070 samples.\n",
      "load image: 0.28 seconds\n",
      "extract patches: 4.68 seconds\n",
      "predict: 27.37 seconds\n"
     ]
    },
    {
     "name": "stdout",
     "output_type": "stream",
     "text": [
      "aws s3 cp /shared/CSHL_patch_features/inception-bn-blue/MD652/MD652-F66-2016.12.17-13.17.05_MD652_2_0197_lossless_alignedTo_MD652-F45-2016.12.17-05.56.31_MD652_2_0134_cropped/MD652-F66-2016.12.17-13.17.05_MD652_2_0197_lossless_alignedTo_MD652-F45-2016.12.17-05.56.31_MD652_2_0134_cropped_features.bp s3://mousebrainatlas-data/CSHL_patch_features/inception-bn-blue/MD652/MD652-F66-2016.12.17-13.17.05_MD652_2_0197_lossless_alignedTo_MD652-F45-2016.12.17-05.56.31_MD652_2_0134_cropped/MD652-F66-2016.12.17-13.17.05_MD652_2_0197_lossless_alignedTo_MD652-F45-2016.12.17-05.56.31_MD652_2_0134_cropped_features.bp\n"
     ]
    },
    {
     "name": "stderr",
     "output_type": "stream",
     "text": [
      "Child returned 0\n",
      "2.21 seconds.\n"
     ]
    },
    {
     "name": "stdout",
     "output_type": "stream",
     "text": [
      "aws s3 cp /shared/CSHL_patch_features/inception-bn-blue/MD652/MD652-F66-2016.12.17-13.17.05_MD652_2_0197_lossless_alignedTo_MD652-F45-2016.12.17-05.56.31_MD652_2_0134_cropped/MD652-F66-2016.12.17-13.17.05_MD652_2_0197_lossless_alignedTo_MD652-F45-2016.12.17-05.56.31_MD652_2_0134_cropped_patch_locations.txt s3://mousebrainatlas-data/CSHL_patch_features/inception-bn-blue/MD652/MD652-F66-2016.12.17-13.17.05_MD652_2_0197_lossless_alignedTo_MD652-F45-2016.12.17-05.56.31_MD652_2_0134_cropped/MD652-F66-2016.12.17-13.17.05_MD652_2_0197_lossless_alignedTo_MD652-F45-2016.12.17-05.56.31_MD652_2_0134_cropped_patch_locations.txt\n"
     ]
    },
    {
     "name": "stderr",
     "output_type": "stream",
     "text": [
      "Child returned 0\n",
      "0.78 seconds.\n",
      "save: 3.89 seconds\n",
      "\n",
      "Section 323.\n",
      "locate patches: 0.02 seconds\n",
      "47902 samples.\n",
      "load image: 0.28 seconds\n",
      "extract patches: 4.66 seconds\n",
      "predict: 27.22 seconds\n"
     ]
    },
    {
     "name": "stdout",
     "output_type": "stream",
     "text": [
      "aws s3 cp /shared/CSHL_patch_features/inception-bn-blue/MD652/MD652-N66-2016.12.16-13.08.48_MD652_3_0198_lossless_alignedTo_MD652-F45-2016.12.17-05.56.31_MD652_2_0134_cropped/MD652-N66-2016.12.16-13.08.48_MD652_3_0198_lossless_alignedTo_MD652-F45-2016.12.17-05.56.31_MD652_2_0134_cropped_features.bp s3://mousebrainatlas-data/CSHL_patch_features/inception-bn-blue/MD652/MD652-N66-2016.12.16-13.08.48_MD652_3_0198_lossless_alignedTo_MD652-F45-2016.12.17-05.56.31_MD652_2_0134_cropped/MD652-N66-2016.12.16-13.08.48_MD652_3_0198_lossless_alignedTo_MD652-F45-2016.12.17-05.56.31_MD652_2_0134_cropped_features.bp\n"
     ]
    },
    {
     "name": "stderr",
     "output_type": "stream",
     "text": [
      "Child returned 0\n",
      "2.21 seconds.\n"
     ]
    },
    {
     "name": "stdout",
     "output_type": "stream",
     "text": [
      "aws s3 cp /shared/CSHL_patch_features/inception-bn-blue/MD652/MD652-N66-2016.12.16-13.08.48_MD652_3_0198_lossless_alignedTo_MD652-F45-2016.12.17-05.56.31_MD652_2_0134_cropped/MD652-N66-2016.12.16-13.08.48_MD652_3_0198_lossless_alignedTo_MD652-F45-2016.12.17-05.56.31_MD652_2_0134_cropped_patch_locations.txt s3://mousebrainatlas-data/CSHL_patch_features/inception-bn-blue/MD652/MD652-N66-2016.12.16-13.08.48_MD652_3_0198_lossless_alignedTo_MD652-F45-2016.12.17-05.56.31_MD652_2_0134_cropped/MD652-N66-2016.12.16-13.08.48_MD652_3_0198_lossless_alignedTo_MD652-F45-2016.12.17-05.56.31_MD652_2_0134_cropped_patch_locations.txt\n"
     ]
    },
    {
     "name": "stderr",
     "output_type": "stream",
     "text": [
      "Child returned 0\n",
      "0.78 seconds.\n",
      "save: 3.89 seconds\n",
      "\n",
      "Section 324.\n",
      "locate patches: 0.02 seconds\n",
      "48033 samples.\n",
      "load image: 0.28 seconds\n",
      "extract patches: 4.67 seconds\n",
      "predict: 27.14 seconds\n"
     ]
    },
    {
     "name": "stdout",
     "output_type": "stream",
     "text": [
      "aws s3 cp /shared/CSHL_patch_features/inception-bn-blue/MD652/MD652-F66-2016.12.17-13.17.05_MD652_3_0198_lossless_alignedTo_MD652-F45-2016.12.17-05.56.31_MD652_2_0134_cropped/MD652-F66-2016.12.17-13.17.05_MD652_3_0198_lossless_alignedTo_MD652-F45-2016.12.17-05.56.31_MD652_2_0134_cropped_features.bp s3://mousebrainatlas-data/CSHL_patch_features/inception-bn-blue/MD652/MD652-F66-2016.12.17-13.17.05_MD652_3_0198_lossless_alignedTo_MD652-F45-2016.12.17-05.56.31_MD652_2_0134_cropped/MD652-F66-2016.12.17-13.17.05_MD652_3_0198_lossless_alignedTo_MD652-F45-2016.12.17-05.56.31_MD652_2_0134_cropped_features.bp\n"
     ]
    },
    {
     "name": "stderr",
     "output_type": "stream",
     "text": [
      "Child returned 0\n",
      "1.93 seconds.\n"
     ]
    },
    {
     "name": "stdout",
     "output_type": "stream",
     "text": [
      "aws s3 cp /shared/CSHL_patch_features/inception-bn-blue/MD652/MD652-F66-2016.12.17-13.17.05_MD652_3_0198_lossless_alignedTo_MD652-F45-2016.12.17-05.56.31_MD652_2_0134_cropped/MD652-F66-2016.12.17-13.17.05_MD652_3_0198_lossless_alignedTo_MD652-F45-2016.12.17-05.56.31_MD652_2_0134_cropped_patch_locations.txt s3://mousebrainatlas-data/CSHL_patch_features/inception-bn-blue/MD652/MD652-F66-2016.12.17-13.17.05_MD652_3_0198_lossless_alignedTo_MD652-F45-2016.12.17-05.56.31_MD652_2_0134_cropped/MD652-F66-2016.12.17-13.17.05_MD652_3_0198_lossless_alignedTo_MD652-F45-2016.12.17-05.56.31_MD652_2_0134_cropped_patch_locations.txt\n"
     ]
    },
    {
     "name": "stderr",
     "output_type": "stream",
     "text": [
      "Child returned 0\n",
      "0.88 seconds.\n",
      "save: 3.71 seconds\n",
      "\n",
      "Section 325.\n",
      "locate patches: 0.02 seconds\n",
      "47611 samples.\n",
      "load image: 0.28 seconds\n",
      "extract patches: 4.63 seconds\n",
      "predict: 27.04 seconds\n"
     ]
    },
    {
     "name": "stdout",
     "output_type": "stream",
     "text": [
      "aws s3 cp /shared/CSHL_patch_features/inception-bn-blue/MD652/MD652-N67-2016.12.16-13.14.13_MD652_1_0199_lossless_alignedTo_MD652-F45-2016.12.17-05.56.31_MD652_2_0134_cropped/MD652-N67-2016.12.16-13.14.13_MD652_1_0199_lossless_alignedTo_MD652-F45-2016.12.17-05.56.31_MD652_2_0134_cropped_features.bp s3://mousebrainatlas-data/CSHL_patch_features/inception-bn-blue/MD652/MD652-N67-2016.12.16-13.14.13_MD652_1_0199_lossless_alignedTo_MD652-F45-2016.12.17-05.56.31_MD652_2_0134_cropped/MD652-N67-2016.12.16-13.14.13_MD652_1_0199_lossless_alignedTo_MD652-F45-2016.12.17-05.56.31_MD652_2_0134_cropped_features.bp\n"
     ]
    },
    {
     "name": "stderr",
     "output_type": "stream",
     "text": [
      "Child returned 0\n",
      "1.94 seconds.\n"
     ]
    },
    {
     "name": "stdout",
     "output_type": "stream",
     "text": [
      "aws s3 cp /shared/CSHL_patch_features/inception-bn-blue/MD652/MD652-N67-2016.12.16-13.14.13_MD652_1_0199_lossless_alignedTo_MD652-F45-2016.12.17-05.56.31_MD652_2_0134_cropped/MD652-N67-2016.12.16-13.14.13_MD652_1_0199_lossless_alignedTo_MD652-F45-2016.12.17-05.56.31_MD652_2_0134_cropped_patch_locations.txt s3://mousebrainatlas-data/CSHL_patch_features/inception-bn-blue/MD652/MD652-N67-2016.12.16-13.14.13_MD652_1_0199_lossless_alignedTo_MD652-F45-2016.12.17-05.56.31_MD652_2_0134_cropped/MD652-N67-2016.12.16-13.14.13_MD652_1_0199_lossless_alignedTo_MD652-F45-2016.12.17-05.56.31_MD652_2_0134_cropped_patch_locations.txt\n"
     ]
    },
    {
     "name": "stderr",
     "output_type": "stream",
     "text": [
      "Child returned 0\n",
      "0.83 seconds.\n",
      "save: 3.67 seconds\n",
      "\n",
      "Section 326.\n",
      "locate patches: 0.02 seconds\n",
      "47815 samples.\n",
      "load image: 0.28 seconds\n",
      "extract patches: 4.65 seconds\n",
      "predict: 27.27 seconds\n"
     ]
    },
    {
     "name": "stdout",
     "output_type": "stream",
     "text": [
      "aws s3 cp /shared/CSHL_patch_features/inception-bn-blue/MD652/MD652-F67-2016.12.17-13.38.34_MD652_1_0199_lossless_alignedTo_MD652-F45-2016.12.17-05.56.31_MD652_2_0134_cropped/MD652-F67-2016.12.17-13.38.34_MD652_1_0199_lossless_alignedTo_MD652-F45-2016.12.17-05.56.31_MD652_2_0134_cropped_features.bp s3://mousebrainatlas-data/CSHL_patch_features/inception-bn-blue/MD652/MD652-F67-2016.12.17-13.38.34_MD652_1_0199_lossless_alignedTo_MD652-F45-2016.12.17-05.56.31_MD652_2_0134_cropped/MD652-F67-2016.12.17-13.38.34_MD652_1_0199_lossless_alignedTo_MD652-F45-2016.12.17-05.56.31_MD652_2_0134_cropped_features.bp\n"
     ]
    },
    {
     "name": "stderr",
     "output_type": "stream",
     "text": [
      "Child returned 0\n",
      "2.12 seconds.\n"
     ]
    },
    {
     "name": "stdout",
     "output_type": "stream",
     "text": [
      "aws s3 cp /shared/CSHL_patch_features/inception-bn-blue/MD652/MD652-F67-2016.12.17-13.38.34_MD652_1_0199_lossless_alignedTo_MD652-F45-2016.12.17-05.56.31_MD652_2_0134_cropped/MD652-F67-2016.12.17-13.38.34_MD652_1_0199_lossless_alignedTo_MD652-F45-2016.12.17-05.56.31_MD652_2_0134_cropped_patch_locations.txt s3://mousebrainatlas-data/CSHL_patch_features/inception-bn-blue/MD652/MD652-F67-2016.12.17-13.38.34_MD652_1_0199_lossless_alignedTo_MD652-F45-2016.12.17-05.56.31_MD652_2_0134_cropped/MD652-F67-2016.12.17-13.38.34_MD652_1_0199_lossless_alignedTo_MD652-F45-2016.12.17-05.56.31_MD652_2_0134_cropped_patch_locations.txt\n"
     ]
    },
    {
     "name": "stderr",
     "output_type": "stream",
     "text": [
      "Child returned 0\n",
      "0.83 seconds.\n",
      "save: 3.85 seconds\n",
      "\n",
      "Section 327.\n",
      "locate patches: 0.02 seconds\n",
      "47534 samples.\n",
      "load image: 0.28 seconds\n",
      "extract patches: 4.63 seconds\n",
      "predict: 26.79 seconds\n"
     ]
    },
    {
     "name": "stdout",
     "output_type": "stream",
     "text": [
      "aws s3 cp /shared/CSHL_patch_features/inception-bn-blue/MD652/MD652-N67-2016.12.16-13.14.13_MD652_2_0200_lossless_alignedTo_MD652-F45-2016.12.17-05.56.31_MD652_2_0134_cropped/MD652-N67-2016.12.16-13.14.13_MD652_2_0200_lossless_alignedTo_MD652-F45-2016.12.17-05.56.31_MD652_2_0134_cropped_features.bp s3://mousebrainatlas-data/CSHL_patch_features/inception-bn-blue/MD652/MD652-N67-2016.12.16-13.14.13_MD652_2_0200_lossless_alignedTo_MD652-F45-2016.12.17-05.56.31_MD652_2_0134_cropped/MD652-N67-2016.12.16-13.14.13_MD652_2_0200_lossless_alignedTo_MD652-F45-2016.12.17-05.56.31_MD652_2_0134_cropped_features.bp\n"
     ]
    },
    {
     "name": "stderr",
     "output_type": "stream",
     "text": [
      "Child returned 0\n",
      "2.10 seconds.\n"
     ]
    },
    {
     "name": "stdout",
     "output_type": "stream",
     "text": [
      "aws s3 cp /shared/CSHL_patch_features/inception-bn-blue/MD652/MD652-N67-2016.12.16-13.14.13_MD652_2_0200_lossless_alignedTo_MD652-F45-2016.12.17-05.56.31_MD652_2_0134_cropped/MD652-N67-2016.12.16-13.14.13_MD652_2_0200_lossless_alignedTo_MD652-F45-2016.12.17-05.56.31_MD652_2_0134_cropped_patch_locations.txt s3://mousebrainatlas-data/CSHL_patch_features/inception-bn-blue/MD652/MD652-N67-2016.12.16-13.14.13_MD652_2_0200_lossless_alignedTo_MD652-F45-2016.12.17-05.56.31_MD652_2_0134_cropped/MD652-N67-2016.12.16-13.14.13_MD652_2_0200_lossless_alignedTo_MD652-F45-2016.12.17-05.56.31_MD652_2_0134_cropped_patch_locations.txt\n"
     ]
    },
    {
     "name": "stderr",
     "output_type": "stream",
     "text": [
      "Child returned 0\n",
      "0.84 seconds.\n",
      "save: 3.83 seconds\n",
      "\n",
      "Section 328.\n",
      "locate patches: 0.02 seconds\n",
      "48154 samples.\n",
      "load image: 0.28 seconds\n",
      "extract patches: 4.69 seconds\n",
      "predict: 29.39 seconds\n"
     ]
    },
    {
     "name": "stdout",
     "output_type": "stream",
     "text": [
      "aws s3 cp /shared/CSHL_patch_features/inception-bn-blue/MD652/MD652-F67-2016.12.17-13.38.34_MD652_2_0200_lossless_alignedTo_MD652-F45-2016.12.17-05.56.31_MD652_2_0134_cropped/MD652-F67-2016.12.17-13.38.34_MD652_2_0200_lossless_alignedTo_MD652-F45-2016.12.17-05.56.31_MD652_2_0134_cropped_features.bp s3://mousebrainatlas-data/CSHL_patch_features/inception-bn-blue/MD652/MD652-F67-2016.12.17-13.38.34_MD652_2_0200_lossless_alignedTo_MD652-F45-2016.12.17-05.56.31_MD652_2_0134_cropped/MD652-F67-2016.12.17-13.38.34_MD652_2_0200_lossless_alignedTo_MD652-F45-2016.12.17-05.56.31_MD652_2_0134_cropped_features.bp\n"
     ]
    },
    {
     "name": "stderr",
     "output_type": "stream",
     "text": [
      "Child returned 0\n",
      "3.00 seconds.\n"
     ]
    },
    {
     "name": "stdout",
     "output_type": "stream",
     "text": [
      "aws s3 cp /shared/CSHL_patch_features/inception-bn-blue/MD652/MD652-F67-2016.12.17-13.38.34_MD652_2_0200_lossless_alignedTo_MD652-F45-2016.12.17-05.56.31_MD652_2_0134_cropped/MD652-F67-2016.12.17-13.38.34_MD652_2_0200_lossless_alignedTo_MD652-F45-2016.12.17-05.56.31_MD652_2_0134_cropped_patch_locations.txt s3://mousebrainatlas-data/CSHL_patch_features/inception-bn-blue/MD652/MD652-F67-2016.12.17-13.38.34_MD652_2_0200_lossless_alignedTo_MD652-F45-2016.12.17-05.56.31_MD652_2_0134_cropped/MD652-F67-2016.12.17-13.38.34_MD652_2_0200_lossless_alignedTo_MD652-F45-2016.12.17-05.56.31_MD652_2_0134_cropped_patch_locations.txt\n"
     ]
    },
    {
     "name": "stderr",
     "output_type": "stream",
     "text": [
      "Child returned 0\n",
      "0.78 seconds.\n",
      "save: 4.69 seconds\n",
      "\n",
      "Section 329.\n",
      "locate patches: 0.02 seconds\n",
      "47056 samples.\n",
      "load image: 0.28 seconds\n",
      "extract patches: 4.58 seconds\n",
      "predict: 26.76 seconds\n"
     ]
    },
    {
     "name": "stdout",
     "output_type": "stream",
     "text": [
      "aws s3 cp /shared/CSHL_patch_features/inception-bn-blue/MD652/MD652-N67-2016.12.16-13.14.13_MD652_3_0201_lossless_alignedTo_MD652-F45-2016.12.17-05.56.31_MD652_2_0134_cropped/MD652-N67-2016.12.16-13.14.13_MD652_3_0201_lossless_alignedTo_MD652-F45-2016.12.17-05.56.31_MD652_2_0134_cropped_features.bp s3://mousebrainatlas-data/CSHL_patch_features/inception-bn-blue/MD652/MD652-N67-2016.12.16-13.14.13_MD652_3_0201_lossless_alignedTo_MD652-F45-2016.12.17-05.56.31_MD652_2_0134_cropped/MD652-N67-2016.12.16-13.14.13_MD652_3_0201_lossless_alignedTo_MD652-F45-2016.12.17-05.56.31_MD652_2_0134_cropped_features.bp\n"
     ]
    },
    {
     "name": "stderr",
     "output_type": "stream",
     "text": [
      "Child returned 0\n",
      "1.98 seconds.\n"
     ]
    },
    {
     "name": "stdout",
     "output_type": "stream",
     "text": [
      "aws s3 cp /shared/CSHL_patch_features/inception-bn-blue/MD652/MD652-N67-2016.12.16-13.14.13_MD652_3_0201_lossless_alignedTo_MD652-F45-2016.12.17-05.56.31_MD652_2_0134_cropped/MD652-N67-2016.12.16-13.14.13_MD652_3_0201_lossless_alignedTo_MD652-F45-2016.12.17-05.56.31_MD652_2_0134_cropped_patch_locations.txt s3://mousebrainatlas-data/CSHL_patch_features/inception-bn-blue/MD652/MD652-N67-2016.12.16-13.14.13_MD652_3_0201_lossless_alignedTo_MD652-F45-2016.12.17-05.56.31_MD652_2_0134_cropped/MD652-N67-2016.12.16-13.14.13_MD652_3_0201_lossless_alignedTo_MD652-F45-2016.12.17-05.56.31_MD652_2_0134_cropped_patch_locations.txt\n"
     ]
    },
    {
     "name": "stderr",
     "output_type": "stream",
     "text": [
      "Child returned 0\n",
      "0.83 seconds.\n",
      "save: 3.69 seconds\n",
      "\n",
      "Section 330.\n",
      "locate patches: 0.02 seconds\n",
      "47407 samples.\n",
      "load image: 0.27 seconds\n",
      "extract patches: 4.55 seconds\n",
      "predict: 26.99 seconds\n"
     ]
    },
    {
     "name": "stdout",
     "output_type": "stream",
     "text": [
      "aws s3 cp /shared/CSHL_patch_features/inception-bn-blue/MD652/MD652-F67-2016.12.17-13.38.34_MD652_3_0201_lossless_alignedTo_MD652-F45-2016.12.17-05.56.31_MD652_2_0134_cropped/MD652-F67-2016.12.17-13.38.34_MD652_3_0201_lossless_alignedTo_MD652-F45-2016.12.17-05.56.31_MD652_2_0134_cropped_features.bp s3://mousebrainatlas-data/CSHL_patch_features/inception-bn-blue/MD652/MD652-F67-2016.12.17-13.38.34_MD652_3_0201_lossless_alignedTo_MD652-F45-2016.12.17-05.56.31_MD652_2_0134_cropped/MD652-F67-2016.12.17-13.38.34_MD652_3_0201_lossless_alignedTo_MD652-F45-2016.12.17-05.56.31_MD652_2_0134_cropped_features.bp\n"
     ]
    },
    {
     "name": "stderr",
     "output_type": "stream",
     "text": [
      "Child returned 0\n",
      "2.03 seconds.\n"
     ]
    },
    {
     "name": "stdout",
     "output_type": "stream",
     "text": [
      "aws s3 cp /shared/CSHL_patch_features/inception-bn-blue/MD652/MD652-F67-2016.12.17-13.38.34_MD652_3_0201_lossless_alignedTo_MD652-F45-2016.12.17-05.56.31_MD652_2_0134_cropped/MD652-F67-2016.12.17-13.38.34_MD652_3_0201_lossless_alignedTo_MD652-F45-2016.12.17-05.56.31_MD652_2_0134_cropped_patch_locations.txt s3://mousebrainatlas-data/CSHL_patch_features/inception-bn-blue/MD652/MD652-F67-2016.12.17-13.38.34_MD652_3_0201_lossless_alignedTo_MD652-F45-2016.12.17-05.56.31_MD652_2_0134_cropped/MD652-F67-2016.12.17-13.38.34_MD652_3_0201_lossless_alignedTo_MD652-F45-2016.12.17-05.56.31_MD652_2_0134_cropped_patch_locations.txt\n"
     ]
    },
    {
     "name": "stderr",
     "output_type": "stream",
     "text": [
      "Child returned 0\n",
      "0.78 seconds.\n",
      "save: 3.70 seconds\n",
      "\n",
      "Section 331.\n",
      "locate patches: 0.02 seconds\n",
      "46283 samples.\n",
      "load image: 0.27 seconds\n",
      "extract patches: 4.42 seconds\n",
      "predict: 26.23 seconds\n"
     ]
    },
    {
     "name": "stdout",
     "output_type": "stream",
     "text": [
      "aws s3 cp /shared/CSHL_patch_features/inception-bn-blue/MD652/MD652-N68-2016.12.16-13.19.41_MD652_1_0202_lossless_alignedTo_MD652-F45-2016.12.17-05.56.31_MD652_2_0134_cropped/MD652-N68-2016.12.16-13.19.41_MD652_1_0202_lossless_alignedTo_MD652-F45-2016.12.17-05.56.31_MD652_2_0134_cropped_features.bp s3://mousebrainatlas-data/CSHL_patch_features/inception-bn-blue/MD652/MD652-N68-2016.12.16-13.19.41_MD652_1_0202_lossless_alignedTo_MD652-F45-2016.12.17-05.56.31_MD652_2_0134_cropped/MD652-N68-2016.12.16-13.19.41_MD652_1_0202_lossless_alignedTo_MD652-F45-2016.12.17-05.56.31_MD652_2_0134_cropped_features.bp\n"
     ]
    },
    {
     "name": "stderr",
     "output_type": "stream",
     "text": [
      "Child returned 0\n",
      "2.07 seconds.\n"
     ]
    },
    {
     "name": "stdout",
     "output_type": "stream",
     "text": [
      "aws s3 cp /shared/CSHL_patch_features/inception-bn-blue/MD652/MD652-N68-2016.12.16-13.19.41_MD652_1_0202_lossless_alignedTo_MD652-F45-2016.12.17-05.56.31_MD652_2_0134_cropped/MD652-N68-2016.12.16-13.19.41_MD652_1_0202_lossless_alignedTo_MD652-F45-2016.12.17-05.56.31_MD652_2_0134_cropped_patch_locations.txt s3://mousebrainatlas-data/CSHL_patch_features/inception-bn-blue/MD652/MD652-N68-2016.12.16-13.19.41_MD652_1_0202_lossless_alignedTo_MD652-F45-2016.12.17-05.56.31_MD652_2_0134_cropped/MD652-N68-2016.12.16-13.19.41_MD652_1_0202_lossless_alignedTo_MD652-F45-2016.12.17-05.56.31_MD652_2_0134_cropped_patch_locations.txt\n"
     ]
    },
    {
     "name": "stderr",
     "output_type": "stream",
     "text": [
      "Child returned 0\n",
      "0.83 seconds.\n",
      "save: 3.77 seconds\n",
      "\n",
      "Section 332.\n",
      "locate patches: 0.02 seconds\n",
      "46372 samples.\n",
      "load image: 0.27 seconds\n",
      "extract patches: 4.42 seconds\n",
      "predict: 26.27 seconds\n"
     ]
    },
    {
     "name": "stdout",
     "output_type": "stream",
     "text": [
      "aws s3 cp /shared/CSHL_patch_features/inception-bn-blue/MD652/MD652-F68-2016.12.17-14.00.21_MD652_1_0202_lossless_alignedTo_MD652-F45-2016.12.17-05.56.31_MD652_2_0134_cropped/MD652-F68-2016.12.17-14.00.21_MD652_1_0202_lossless_alignedTo_MD652-F45-2016.12.17-05.56.31_MD652_2_0134_cropped_features.bp s3://mousebrainatlas-data/CSHL_patch_features/inception-bn-blue/MD652/MD652-F68-2016.12.17-14.00.21_MD652_1_0202_lossless_alignedTo_MD652-F45-2016.12.17-05.56.31_MD652_2_0134_cropped/MD652-F68-2016.12.17-14.00.21_MD652_1_0202_lossless_alignedTo_MD652-F45-2016.12.17-05.56.31_MD652_2_0134_cropped_features.bp\n"
     ]
    },
    {
     "name": "stderr",
     "output_type": "stream",
     "text": [
      "Child returned 0\n",
      "2.31 seconds.\n"
     ]
    },
    {
     "name": "stdout",
     "output_type": "stream",
     "text": [
      "aws s3 cp /shared/CSHL_patch_features/inception-bn-blue/MD652/MD652-F68-2016.12.17-14.00.21_MD652_1_0202_lossless_alignedTo_MD652-F45-2016.12.17-05.56.31_MD652_2_0134_cropped/MD652-F68-2016.12.17-14.00.21_MD652_1_0202_lossless_alignedTo_MD652-F45-2016.12.17-05.56.31_MD652_2_0134_cropped_patch_locations.txt s3://mousebrainatlas-data/CSHL_patch_features/inception-bn-blue/MD652/MD652-F68-2016.12.17-14.00.21_MD652_1_0202_lossless_alignedTo_MD652-F45-2016.12.17-05.56.31_MD652_2_0134_cropped/MD652-F68-2016.12.17-14.00.21_MD652_1_0202_lossless_alignedTo_MD652-F45-2016.12.17-05.56.31_MD652_2_0134_cropped_patch_locations.txt\n"
     ]
    },
    {
     "name": "stderr",
     "output_type": "stream",
     "text": [
      "Child returned 0\n",
      "0.83 seconds.\n",
      "save: 4.01 seconds\n",
      "\n",
      "Section 333.\n",
      "locate patches: 0.02 seconds\n",
      "46075 samples.\n",
      "load image: 0.27 seconds\n",
      "extract patches: 4.40 seconds\n",
      "predict: 26.06 seconds\n"
     ]
    },
    {
     "name": "stdout",
     "output_type": "stream",
     "text": [
      "aws s3 cp /shared/CSHL_patch_features/inception-bn-blue/MD652/MD652-N68-2016.12.16-13.19.41_MD652_2_0203_lossless_alignedTo_MD652-F45-2016.12.17-05.56.31_MD652_2_0134_cropped/MD652-N68-2016.12.16-13.19.41_MD652_2_0203_lossless_alignedTo_MD652-F45-2016.12.17-05.56.31_MD652_2_0134_cropped_features.bp s3://mousebrainatlas-data/CSHL_patch_features/inception-bn-blue/MD652/MD652-N68-2016.12.16-13.19.41_MD652_2_0203_lossless_alignedTo_MD652-F45-2016.12.17-05.56.31_MD652_2_0134_cropped/MD652-N68-2016.12.16-13.19.41_MD652_2_0203_lossless_alignedTo_MD652-F45-2016.12.17-05.56.31_MD652_2_0134_cropped_features.bp\n"
     ]
    },
    {
     "name": "stderr",
     "output_type": "stream",
     "text": [
      "Child returned 0\n",
      "2.10 seconds.\n"
     ]
    },
    {
     "name": "stdout",
     "output_type": "stream",
     "text": [
      "aws s3 cp /shared/CSHL_patch_features/inception-bn-blue/MD652/MD652-N68-2016.12.16-13.19.41_MD652_2_0203_lossless_alignedTo_MD652-F45-2016.12.17-05.56.31_MD652_2_0134_cropped/MD652-N68-2016.12.16-13.19.41_MD652_2_0203_lossless_alignedTo_MD652-F45-2016.12.17-05.56.31_MD652_2_0134_cropped_patch_locations.txt s3://mousebrainatlas-data/CSHL_patch_features/inception-bn-blue/MD652/MD652-N68-2016.12.16-13.19.41_MD652_2_0203_lossless_alignedTo_MD652-F45-2016.12.17-05.56.31_MD652_2_0134_cropped/MD652-N68-2016.12.16-13.19.41_MD652_2_0203_lossless_alignedTo_MD652-F45-2016.12.17-05.56.31_MD652_2_0134_cropped_patch_locations.txt\n"
     ]
    },
    {
     "name": "stderr",
     "output_type": "stream",
     "text": [
      "Child returned 0\n",
      "0.83 seconds.\n",
      "save: 3.79 seconds\n",
      "\n",
      "Section 334.\n",
      "locate patches: 0.02 seconds\n",
      "46051 samples.\n",
      "load image: 0.27 seconds\n",
      "extract patches: 4.40 seconds\n",
      "predict: 26.06 seconds\n"
     ]
    },
    {
     "name": "stdout",
     "output_type": "stream",
     "text": [
      "aws s3 cp /shared/CSHL_patch_features/inception-bn-blue/MD652/MD652-F68-2016.12.17-14.00.21_MD652_2_0203_lossless_alignedTo_MD652-F45-2016.12.17-05.56.31_MD652_2_0134_cropped/MD652-F68-2016.12.17-14.00.21_MD652_2_0203_lossless_alignedTo_MD652-F45-2016.12.17-05.56.31_MD652_2_0134_cropped_features.bp s3://mousebrainatlas-data/CSHL_patch_features/inception-bn-blue/MD652/MD652-F68-2016.12.17-14.00.21_MD652_2_0203_lossless_alignedTo_MD652-F45-2016.12.17-05.56.31_MD652_2_0134_cropped/MD652-F68-2016.12.17-14.00.21_MD652_2_0203_lossless_alignedTo_MD652-F45-2016.12.17-05.56.31_MD652_2_0134_cropped_features.bp\n"
     ]
    },
    {
     "name": "stderr",
     "output_type": "stream",
     "text": [
      "Child returned 0\n",
      "2.18 seconds.\n"
     ]
    },
    {
     "name": "stdout",
     "output_type": "stream",
     "text": [
      "aws s3 cp /shared/CSHL_patch_features/inception-bn-blue/MD652/MD652-F68-2016.12.17-14.00.21_MD652_2_0203_lossless_alignedTo_MD652-F45-2016.12.17-05.56.31_MD652_2_0134_cropped/MD652-F68-2016.12.17-14.00.21_MD652_2_0203_lossless_alignedTo_MD652-F45-2016.12.17-05.56.31_MD652_2_0134_cropped_patch_locations.txt s3://mousebrainatlas-data/CSHL_patch_features/inception-bn-blue/MD652/MD652-F68-2016.12.17-14.00.21_MD652_2_0203_lossless_alignedTo_MD652-F45-2016.12.17-05.56.31_MD652_2_0134_cropped/MD652-F68-2016.12.17-14.00.21_MD652_2_0203_lossless_alignedTo_MD652-F45-2016.12.17-05.56.31_MD652_2_0134_cropped_patch_locations.txt\n"
     ]
    },
    {
     "name": "stderr",
     "output_type": "stream",
     "text": [
      "Child returned 0\n",
      "0.78 seconds.\n",
      "save: 3.82 seconds\n",
      "\n",
      "Section 335.\n",
      "locate patches: 0.02 seconds\n",
      "45517 samples.\n",
      "load image: 0.27 seconds\n",
      "extract patches: 4.35 seconds\n",
      "predict: 25.75 seconds\n"
     ]
    },
    {
     "name": "stdout",
     "output_type": "stream",
     "text": [
      "aws s3 cp /shared/CSHL_patch_features/inception-bn-blue/MD652/MD652-N68-2016.12.16-13.19.41_MD652_3_0204_lossless_alignedTo_MD652-F45-2016.12.17-05.56.31_MD652_2_0134_cropped/MD652-N68-2016.12.16-13.19.41_MD652_3_0204_lossless_alignedTo_MD652-F45-2016.12.17-05.56.31_MD652_2_0134_cropped_features.bp s3://mousebrainatlas-data/CSHL_patch_features/inception-bn-blue/MD652/MD652-N68-2016.12.16-13.19.41_MD652_3_0204_lossless_alignedTo_MD652-F45-2016.12.17-05.56.31_MD652_2_0134_cropped/MD652-N68-2016.12.16-13.19.41_MD652_3_0204_lossless_alignedTo_MD652-F45-2016.12.17-05.56.31_MD652_2_0134_cropped_features.bp\n"
     ]
    },
    {
     "name": "stderr",
     "output_type": "stream",
     "text": [
      "Child returned 0\n",
      "2.24 seconds.\n"
     ]
    },
    {
     "name": "stdout",
     "output_type": "stream",
     "text": [
      "aws s3 cp /shared/CSHL_patch_features/inception-bn-blue/MD652/MD652-N68-2016.12.16-13.19.41_MD652_3_0204_lossless_alignedTo_MD652-F45-2016.12.17-05.56.31_MD652_2_0134_cropped/MD652-N68-2016.12.16-13.19.41_MD652_3_0204_lossless_alignedTo_MD652-F45-2016.12.17-05.56.31_MD652_2_0134_cropped_patch_locations.txt s3://mousebrainatlas-data/CSHL_patch_features/inception-bn-blue/MD652/MD652-N68-2016.12.16-13.19.41_MD652_3_0204_lossless_alignedTo_MD652-F45-2016.12.17-05.56.31_MD652_2_0134_cropped/MD652-N68-2016.12.16-13.19.41_MD652_3_0204_lossless_alignedTo_MD652-F45-2016.12.17-05.56.31_MD652_2_0134_cropped_patch_locations.txt\n"
     ]
    },
    {
     "name": "stderr",
     "output_type": "stream",
     "text": [
      "Child returned 0\n",
      "0.78 seconds.\n",
      "save: 3.87 seconds\n",
      "\n",
      "Section 336.\n",
      "locate patches: 0.02 seconds\n",
      "45927 samples.\n",
      "load image: 0.27 seconds\n",
      "extract patches: 4.38 seconds\n",
      "predict: 26.04 seconds\n"
     ]
    },
    {
     "name": "stdout",
     "output_type": "stream",
     "text": [
      "aws s3 cp /shared/CSHL_patch_features/inception-bn-blue/MD652/MD652-F68-2016.12.17-14.00.21_MD652_3_0204_lossless_alignedTo_MD652-F45-2016.12.17-05.56.31_MD652_2_0134_cropped/MD652-F68-2016.12.17-14.00.21_MD652_3_0204_lossless_alignedTo_MD652-F45-2016.12.17-05.56.31_MD652_2_0134_cropped_features.bp s3://mousebrainatlas-data/CSHL_patch_features/inception-bn-blue/MD652/MD652-F68-2016.12.17-14.00.21_MD652_3_0204_lossless_alignedTo_MD652-F45-2016.12.17-05.56.31_MD652_2_0134_cropped/MD652-F68-2016.12.17-14.00.21_MD652_3_0204_lossless_alignedTo_MD652-F45-2016.12.17-05.56.31_MD652_2_0134_cropped_features.bp\n"
     ]
    },
    {
     "name": "stderr",
     "output_type": "stream",
     "text": [
      "Child returned 0\n",
      "3.31 seconds.\n"
     ]
    },
    {
     "name": "stdout",
     "output_type": "stream",
     "text": [
      "aws s3 cp /shared/CSHL_patch_features/inception-bn-blue/MD652/MD652-F68-2016.12.17-14.00.21_MD652_3_0204_lossless_alignedTo_MD652-F45-2016.12.17-05.56.31_MD652_2_0134_cropped/MD652-F68-2016.12.17-14.00.21_MD652_3_0204_lossless_alignedTo_MD652-F45-2016.12.17-05.56.31_MD652_2_0134_cropped_patch_locations.txt s3://mousebrainatlas-data/CSHL_patch_features/inception-bn-blue/MD652/MD652-F68-2016.12.17-14.00.21_MD652_3_0204_lossless_alignedTo_MD652-F45-2016.12.17-05.56.31_MD652_2_0134_cropped/MD652-F68-2016.12.17-14.00.21_MD652_3_0204_lossless_alignedTo_MD652-F45-2016.12.17-05.56.31_MD652_2_0134_cropped_patch_locations.txt\n"
     ]
    },
    {
     "name": "stderr",
     "output_type": "stream",
     "text": [
      "Child returned 0\n",
      "0.84 seconds.\n",
      "save: 5.01 seconds\n",
      "\n",
      "Section 337.\n",
      "locate patches: 0.02 seconds\n",
      "45490 samples.\n",
      "load image: 0.27 seconds\n",
      "extract patches: 4.35 seconds\n",
      "predict: 25.71 seconds\n"
     ]
    },
    {
     "name": "stdout",
     "output_type": "stream",
     "text": [
      "aws s3 cp /shared/CSHL_patch_features/inception-bn-blue/MD652/MD652-N69-2016.12.16-13.25.06_MD652_1_0205_lossless_alignedTo_MD652-F45-2016.12.17-05.56.31_MD652_2_0134_cropped/MD652-N69-2016.12.16-13.25.06_MD652_1_0205_lossless_alignedTo_MD652-F45-2016.12.17-05.56.31_MD652_2_0134_cropped_features.bp s3://mousebrainatlas-data/CSHL_patch_features/inception-bn-blue/MD652/MD652-N69-2016.12.16-13.25.06_MD652_1_0205_lossless_alignedTo_MD652-F45-2016.12.17-05.56.31_MD652_2_0134_cropped/MD652-N69-2016.12.16-13.25.06_MD652_1_0205_lossless_alignedTo_MD652-F45-2016.12.17-05.56.31_MD652_2_0134_cropped_features.bp\n"
     ]
    },
    {
     "name": "stderr",
     "output_type": "stream",
     "text": [
      "Child returned 0\n",
      "2.17 seconds.\n"
     ]
    },
    {
     "name": "stdout",
     "output_type": "stream",
     "text": [
      "aws s3 cp /shared/CSHL_patch_features/inception-bn-blue/MD652/MD652-N69-2016.12.16-13.25.06_MD652_1_0205_lossless_alignedTo_MD652-F45-2016.12.17-05.56.31_MD652_2_0134_cropped/MD652-N69-2016.12.16-13.25.06_MD652_1_0205_lossless_alignedTo_MD652-F45-2016.12.17-05.56.31_MD652_2_0134_cropped_patch_locations.txt s3://mousebrainatlas-data/CSHL_patch_features/inception-bn-blue/MD652/MD652-N69-2016.12.16-13.25.06_MD652_1_0205_lossless_alignedTo_MD652-F45-2016.12.17-05.56.31_MD652_2_0134_cropped/MD652-N69-2016.12.16-13.25.06_MD652_1_0205_lossless_alignedTo_MD652-F45-2016.12.17-05.56.31_MD652_2_0134_cropped_patch_locations.txt\n"
     ]
    },
    {
     "name": "stderr",
     "output_type": "stream",
     "text": [
      "Child returned 0\n",
      "0.84 seconds.\n",
      "save: 3.85 seconds\n",
      "\n",
      "Section 338.\n",
      "locate patches: 0.02 seconds\n",
      "45216 samples.\n",
      "load image: 0.27 seconds\n",
      "extract patches: 4.30 seconds\n",
      "predict: 25.59 seconds\n"
     ]
    },
    {
     "name": "stdout",
     "output_type": "stream",
     "text": [
      "aws s3 cp /shared/CSHL_patch_features/inception-bn-blue/MD652/MD652-F69-2016.12.17-14.21.17_MD652_1_0205_lossless_alignedTo_MD652-F45-2016.12.17-05.56.31_MD652_2_0134_cropped/MD652-F69-2016.12.17-14.21.17_MD652_1_0205_lossless_alignedTo_MD652-F45-2016.12.17-05.56.31_MD652_2_0134_cropped_features.bp s3://mousebrainatlas-data/CSHL_patch_features/inception-bn-blue/MD652/MD652-F69-2016.12.17-14.21.17_MD652_1_0205_lossless_alignedTo_MD652-F45-2016.12.17-05.56.31_MD652_2_0134_cropped/MD652-F69-2016.12.17-14.21.17_MD652_1_0205_lossless_alignedTo_MD652-F45-2016.12.17-05.56.31_MD652_2_0134_cropped_features.bp\n"
     ]
    },
    {
     "name": "stderr",
     "output_type": "stream",
     "text": [
      "Child returned 0\n",
      "2.21 seconds.\n"
     ]
    },
    {
     "name": "stdout",
     "output_type": "stream",
     "text": [
      "aws s3 cp /shared/CSHL_patch_features/inception-bn-blue/MD652/MD652-F69-2016.12.17-14.21.17_MD652_1_0205_lossless_alignedTo_MD652-F45-2016.12.17-05.56.31_MD652_2_0134_cropped/MD652-F69-2016.12.17-14.21.17_MD652_1_0205_lossless_alignedTo_MD652-F45-2016.12.17-05.56.31_MD652_2_0134_cropped_patch_locations.txt s3://mousebrainatlas-data/CSHL_patch_features/inception-bn-blue/MD652/MD652-F69-2016.12.17-14.21.17_MD652_1_0205_lossless_alignedTo_MD652-F45-2016.12.17-05.56.31_MD652_2_0134_cropped/MD652-F69-2016.12.17-14.21.17_MD652_1_0205_lossless_alignedTo_MD652-F45-2016.12.17-05.56.31_MD652_2_0134_cropped_patch_locations.txt\n"
     ]
    },
    {
     "name": "stderr",
     "output_type": "stream",
     "text": [
      "Child returned 0\n",
      "0.78 seconds.\n",
      "save: 3.84 seconds\n",
      "\n",
      "Section 339.\n",
      "locate patches: 0.02 seconds\n",
      "45072 samples.\n",
      "load image: 0.27 seconds\n",
      "extract patches: 5.04 seconds\n",
      "predict: 25.44 seconds\n"
     ]
    },
    {
     "name": "stdout",
     "output_type": "stream",
     "text": [
      "aws s3 cp /shared/CSHL_patch_features/inception-bn-blue/MD652/MD652-N69-2016.12.16-13.25.06_MD652_2_0206_lossless_alignedTo_MD652-F45-2016.12.17-05.56.31_MD652_2_0134_cropped/MD652-N69-2016.12.16-13.25.06_MD652_2_0206_lossless_alignedTo_MD652-F45-2016.12.17-05.56.31_MD652_2_0134_cropped_features.bp s3://mousebrainatlas-data/CSHL_patch_features/inception-bn-blue/MD652/MD652-N69-2016.12.16-13.25.06_MD652_2_0206_lossless_alignedTo_MD652-F45-2016.12.17-05.56.31_MD652_2_0134_cropped/MD652-N69-2016.12.16-13.25.06_MD652_2_0206_lossless_alignedTo_MD652-F45-2016.12.17-05.56.31_MD652_2_0134_cropped_features.bp\n"
     ]
    },
    {
     "name": "stderr",
     "output_type": "stream",
     "text": [
      "Child returned 0\n",
      "2.14 seconds.\n"
     ]
    },
    {
     "name": "stdout",
     "output_type": "stream",
     "text": [
      "aws s3 cp /shared/CSHL_patch_features/inception-bn-blue/MD652/MD652-N69-2016.12.16-13.25.06_MD652_2_0206_lossless_alignedTo_MD652-F45-2016.12.17-05.56.31_MD652_2_0134_cropped/MD652-N69-2016.12.16-13.25.06_MD652_2_0206_lossless_alignedTo_MD652-F45-2016.12.17-05.56.31_MD652_2_0134_cropped_patch_locations.txt s3://mousebrainatlas-data/CSHL_patch_features/inception-bn-blue/MD652/MD652-N69-2016.12.16-13.25.06_MD652_2_0206_lossless_alignedTo_MD652-F45-2016.12.17-05.56.31_MD652_2_0134_cropped/MD652-N69-2016.12.16-13.25.06_MD652_2_0206_lossless_alignedTo_MD652-F45-2016.12.17-05.56.31_MD652_2_0134_cropped_patch_locations.txt\n"
     ]
    },
    {
     "name": "stderr",
     "output_type": "stream",
     "text": [
      "Child returned 0\n",
      "0.78 seconds.\n",
      "save: 3.76 seconds\n",
      "\n",
      "Section 340.\n",
      "locate patches: 0.02 seconds\n",
      "45062 samples.\n",
      "load image: 0.27 seconds\n",
      "extract patches: 5.03 seconds\n",
      "predict: 25.37 seconds\n"
     ]
    },
    {
     "name": "stdout",
     "output_type": "stream",
     "text": [
      "aws s3 cp /shared/CSHL_patch_features/inception-bn-blue/MD652/MD652-F69-2016.12.17-14.21.17_MD652_2_0206_lossless_alignedTo_MD652-F45-2016.12.17-05.56.31_MD652_2_0134_cropped/MD652-F69-2016.12.17-14.21.17_MD652_2_0206_lossless_alignedTo_MD652-F45-2016.12.17-05.56.31_MD652_2_0134_cropped_features.bp s3://mousebrainatlas-data/CSHL_patch_features/inception-bn-blue/MD652/MD652-F69-2016.12.17-14.21.17_MD652_2_0206_lossless_alignedTo_MD652-F45-2016.12.17-05.56.31_MD652_2_0134_cropped/MD652-F69-2016.12.17-14.21.17_MD652_2_0206_lossless_alignedTo_MD652-F45-2016.12.17-05.56.31_MD652_2_0134_cropped_features.bp\n"
     ]
    },
    {
     "name": "stderr",
     "output_type": "stream",
     "text": [
      "Child returned 0\n",
      "2.23 seconds.\n"
     ]
    },
    {
     "name": "stdout",
     "output_type": "stream",
     "text": [
      "aws s3 cp /shared/CSHL_patch_features/inception-bn-blue/MD652/MD652-F69-2016.12.17-14.21.17_MD652_2_0206_lossless_alignedTo_MD652-F45-2016.12.17-05.56.31_MD652_2_0134_cropped/MD652-F69-2016.12.17-14.21.17_MD652_2_0206_lossless_alignedTo_MD652-F45-2016.12.17-05.56.31_MD652_2_0134_cropped_patch_locations.txt s3://mousebrainatlas-data/CSHL_patch_features/inception-bn-blue/MD652/MD652-F69-2016.12.17-14.21.17_MD652_2_0206_lossless_alignedTo_MD652-F45-2016.12.17-05.56.31_MD652_2_0134_cropped/MD652-F69-2016.12.17-14.21.17_MD652_2_0206_lossless_alignedTo_MD652-F45-2016.12.17-05.56.31_MD652_2_0134_cropped_patch_locations.txt\n"
     ]
    },
    {
     "name": "stderr",
     "output_type": "stream",
     "text": [
      "Child returned 0\n",
      "0.78 seconds.\n",
      "save: 3.86 seconds\n",
      "\n",
      "Section 341.\n",
      "locate patches: 0.02 seconds\n",
      "43942 samples.\n",
      "load image: 0.27 seconds\n",
      "extract patches: 4.90 seconds\n",
      "predict: 24.87 seconds\n"
     ]
    },
    {
     "name": "stdout",
     "output_type": "stream",
     "text": [
      "aws s3 cp /shared/CSHL_patch_features/inception-bn-blue/MD652/MD652-N69-2016.12.16-13.25.06_MD652_3_0207_lossless_alignedTo_MD652-F45-2016.12.17-05.56.31_MD652_2_0134_cropped/MD652-N69-2016.12.16-13.25.06_MD652_3_0207_lossless_alignedTo_MD652-F45-2016.12.17-05.56.31_MD652_2_0134_cropped_features.bp s3://mousebrainatlas-data/CSHL_patch_features/inception-bn-blue/MD652/MD652-N69-2016.12.16-13.25.06_MD652_3_0207_lossless_alignedTo_MD652-F45-2016.12.17-05.56.31_MD652_2_0134_cropped/MD652-N69-2016.12.16-13.25.06_MD652_3_0207_lossless_alignedTo_MD652-F45-2016.12.17-05.56.31_MD652_2_0134_cropped_features.bp\n"
     ]
    },
    {
     "name": "stderr",
     "output_type": "stream",
     "text": [
      "Child returned 0\n",
      "1.93 seconds.\n"
     ]
    },
    {
     "name": "stdout",
     "output_type": "stream",
     "text": [
      "aws s3 cp /shared/CSHL_patch_features/inception-bn-blue/MD652/MD652-N69-2016.12.16-13.25.06_MD652_3_0207_lossless_alignedTo_MD652-F45-2016.12.17-05.56.31_MD652_2_0134_cropped/MD652-N69-2016.12.16-13.25.06_MD652_3_0207_lossless_alignedTo_MD652-F45-2016.12.17-05.56.31_MD652_2_0134_cropped_patch_locations.txt s3://mousebrainatlas-data/CSHL_patch_features/inception-bn-blue/MD652/MD652-N69-2016.12.16-13.25.06_MD652_3_0207_lossless_alignedTo_MD652-F45-2016.12.17-05.56.31_MD652_2_0134_cropped/MD652-N69-2016.12.16-13.25.06_MD652_3_0207_lossless_alignedTo_MD652-F45-2016.12.17-05.56.31_MD652_2_0134_cropped_patch_locations.txt\n"
     ]
    },
    {
     "name": "stderr",
     "output_type": "stream",
     "text": [
      "Child returned 0\n",
      "0.79 seconds.\n",
      "save: 3.54 seconds\n",
      "\n",
      "Section 342.\n",
      "locate patches: 0.02 seconds\n",
      "44214 samples.\n",
      "load image: 0.27 seconds\n",
      "extract patches: 4.95 seconds\n",
      "predict: 25.08 seconds\n"
     ]
    },
    {
     "name": "stdout",
     "output_type": "stream",
     "text": [
      "aws s3 cp /shared/CSHL_patch_features/inception-bn-blue/MD652/MD652-F69-2016.12.17-14.21.17_MD652_3_0207_lossless_alignedTo_MD652-F45-2016.12.17-05.56.31_MD652_2_0134_cropped/MD652-F69-2016.12.17-14.21.17_MD652_3_0207_lossless_alignedTo_MD652-F45-2016.12.17-05.56.31_MD652_2_0134_cropped_features.bp s3://mousebrainatlas-data/CSHL_patch_features/inception-bn-blue/MD652/MD652-F69-2016.12.17-14.21.17_MD652_3_0207_lossless_alignedTo_MD652-F45-2016.12.17-05.56.31_MD652_2_0134_cropped/MD652-F69-2016.12.17-14.21.17_MD652_3_0207_lossless_alignedTo_MD652-F45-2016.12.17-05.56.31_MD652_2_0134_cropped_features.bp\n"
     ]
    },
    {
     "name": "stderr",
     "output_type": "stream",
     "text": [
      "Child returned 0\n",
      "2.15 seconds.\n"
     ]
    },
    {
     "name": "stdout",
     "output_type": "stream",
     "text": [
      "aws s3 cp /shared/CSHL_patch_features/inception-bn-blue/MD652/MD652-F69-2016.12.17-14.21.17_MD652_3_0207_lossless_alignedTo_MD652-F45-2016.12.17-05.56.31_MD652_2_0134_cropped/MD652-F69-2016.12.17-14.21.17_MD652_3_0207_lossless_alignedTo_MD652-F45-2016.12.17-05.56.31_MD652_2_0134_cropped_patch_locations.txt s3://mousebrainatlas-data/CSHL_patch_features/inception-bn-blue/MD652/MD652-F69-2016.12.17-14.21.17_MD652_3_0207_lossless_alignedTo_MD652-F45-2016.12.17-05.56.31_MD652_2_0134_cropped/MD652-F69-2016.12.17-14.21.17_MD652_3_0207_lossless_alignedTo_MD652-F45-2016.12.17-05.56.31_MD652_2_0134_cropped_patch_locations.txt\n"
     ]
    },
    {
     "name": "stderr",
     "output_type": "stream",
     "text": [
      "Child returned 0\n",
      "0.78 seconds.\n",
      "save: 3.76 seconds\n",
      "\n",
      "Section 343.\n",
      "locate patches: 0.02 seconds\n",
      "43574 samples.\n",
      "load image: 0.27 seconds\n",
      "extract patches: 4.90 seconds\n",
      "predict: 24.59 seconds\n"
     ]
    },
    {
     "name": "stdout",
     "output_type": "stream",
     "text": [
      "aws s3 cp /shared/CSHL_patch_features/inception-bn-blue/MD652/MD652-N70-2016.12.16-13.30.25_MD652_1_0208_lossless_alignedTo_MD652-F45-2016.12.17-05.56.31_MD652_2_0134_cropped/MD652-N70-2016.12.16-13.30.25_MD652_1_0208_lossless_alignedTo_MD652-F45-2016.12.17-05.56.31_MD652_2_0134_cropped_features.bp s3://mousebrainatlas-data/CSHL_patch_features/inception-bn-blue/MD652/MD652-N70-2016.12.16-13.30.25_MD652_1_0208_lossless_alignedTo_MD652-F45-2016.12.17-05.56.31_MD652_2_0134_cropped/MD652-N70-2016.12.16-13.30.25_MD652_1_0208_lossless_alignedTo_MD652-F45-2016.12.17-05.56.31_MD652_2_0134_cropped_features.bp\n"
     ]
    },
    {
     "name": "stderr",
     "output_type": "stream",
     "text": [
      "Child returned 0\n",
      "1.76 seconds.\n"
     ]
    },
    {
     "name": "stdout",
     "output_type": "stream",
     "text": [
      "aws s3 cp /shared/CSHL_patch_features/inception-bn-blue/MD652/MD652-N70-2016.12.16-13.30.25_MD652_1_0208_lossless_alignedTo_MD652-F45-2016.12.17-05.56.31_MD652_2_0134_cropped/MD652-N70-2016.12.16-13.30.25_MD652_1_0208_lossless_alignedTo_MD652-F45-2016.12.17-05.56.31_MD652_2_0134_cropped_patch_locations.txt s3://mousebrainatlas-data/CSHL_patch_features/inception-bn-blue/MD652/MD652-N70-2016.12.16-13.30.25_MD652_1_0208_lossless_alignedTo_MD652-F45-2016.12.17-05.56.31_MD652_2_0134_cropped/MD652-N70-2016.12.16-13.30.25_MD652_1_0208_lossless_alignedTo_MD652-F45-2016.12.17-05.56.31_MD652_2_0134_cropped_patch_locations.txt\n"
     ]
    },
    {
     "name": "stderr",
     "output_type": "stream",
     "text": [
      "Child returned 0\n",
      "0.73 seconds.\n",
      "save: 3.31 seconds\n",
      "\n",
      "Section 344.\n",
      "locate patches: 0.02 seconds\n",
      "43452 samples.\n",
      "load image: 0.27 seconds\n",
      "extract patches: 4.87 seconds\n",
      "predict: 24.41 seconds\n"
     ]
    },
    {
     "name": "stdout",
     "output_type": "stream",
     "text": [
      "aws s3 cp /shared/CSHL_patch_features/inception-bn-blue/MD652/MD652-F70-2016.12.17-14.40.15_MD652_1_0208_lossless_alignedTo_MD652-F45-2016.12.17-05.56.31_MD652_2_0134_cropped/MD652-F70-2016.12.17-14.40.15_MD652_1_0208_lossless_alignedTo_MD652-F45-2016.12.17-05.56.31_MD652_2_0134_cropped_features.bp s3://mousebrainatlas-data/CSHL_patch_features/inception-bn-blue/MD652/MD652-F70-2016.12.17-14.40.15_MD652_1_0208_lossless_alignedTo_MD652-F45-2016.12.17-05.56.31_MD652_2_0134_cropped/MD652-F70-2016.12.17-14.40.15_MD652_1_0208_lossless_alignedTo_MD652-F45-2016.12.17-05.56.31_MD652_2_0134_cropped_features.bp\n"
     ]
    },
    {
     "name": "stderr",
     "output_type": "stream",
     "text": [
      "Child returned 0\n",
      "1.87 seconds.\n"
     ]
    },
    {
     "name": "stdout",
     "output_type": "stream",
     "text": [
      "aws s3 cp /shared/CSHL_patch_features/inception-bn-blue/MD652/MD652-F70-2016.12.17-14.40.15_MD652_1_0208_lossless_alignedTo_MD652-F45-2016.12.17-05.56.31_MD652_2_0134_cropped/MD652-F70-2016.12.17-14.40.15_MD652_1_0208_lossless_alignedTo_MD652-F45-2016.12.17-05.56.31_MD652_2_0134_cropped_patch_locations.txt s3://mousebrainatlas-data/CSHL_patch_features/inception-bn-blue/MD652/MD652-F70-2016.12.17-14.40.15_MD652_1_0208_lossless_alignedTo_MD652-F45-2016.12.17-05.56.31_MD652_2_0134_cropped/MD652-F70-2016.12.17-14.40.15_MD652_1_0208_lossless_alignedTo_MD652-F45-2016.12.17-05.56.31_MD652_2_0134_cropped_patch_locations.txt\n"
     ]
    },
    {
     "name": "stderr",
     "output_type": "stream",
     "text": [
      "Child returned 0\n",
      "0.78 seconds.\n",
      "save: 3.47 seconds\n",
      "\n",
      "Section 345.\n",
      "locate patches: 0.02 seconds\n",
      "43156 samples.\n",
      "load image: 0.27 seconds\n",
      "extract patches: 4.83 seconds\n",
      "predict: 24.41 seconds\n"
     ]
    },
    {
     "name": "stdout",
     "output_type": "stream",
     "text": [
      "aws s3 cp /shared/CSHL_patch_features/inception-bn-blue/MD652/MD652-N70-2016.12.16-13.30.25_MD652_2_0209_lossless_alignedTo_MD652-F45-2016.12.17-05.56.31_MD652_2_0134_cropped/MD652-N70-2016.12.16-13.30.25_MD652_2_0209_lossless_alignedTo_MD652-F45-2016.12.17-05.56.31_MD652_2_0134_cropped_features.bp s3://mousebrainatlas-data/CSHL_patch_features/inception-bn-blue/MD652/MD652-N70-2016.12.16-13.30.25_MD652_2_0209_lossless_alignedTo_MD652-F45-2016.12.17-05.56.31_MD652_2_0134_cropped/MD652-N70-2016.12.16-13.30.25_MD652_2_0209_lossless_alignedTo_MD652-F45-2016.12.17-05.56.31_MD652_2_0134_cropped_features.bp\n"
     ]
    },
    {
     "name": "stderr",
     "output_type": "stream",
     "text": [
      "Child returned 0\n",
      "2.16 seconds.\n"
     ]
    },
    {
     "name": "stdout",
     "output_type": "stream",
     "text": [
      "aws s3 cp /shared/CSHL_patch_features/inception-bn-blue/MD652/MD652-N70-2016.12.16-13.30.25_MD652_2_0209_lossless_alignedTo_MD652-F45-2016.12.17-05.56.31_MD652_2_0134_cropped/MD652-N70-2016.12.16-13.30.25_MD652_2_0209_lossless_alignedTo_MD652-F45-2016.12.17-05.56.31_MD652_2_0134_cropped_patch_locations.txt s3://mousebrainatlas-data/CSHL_patch_features/inception-bn-blue/MD652/MD652-N70-2016.12.16-13.30.25_MD652_2_0209_lossless_alignedTo_MD652-F45-2016.12.17-05.56.31_MD652_2_0134_cropped/MD652-N70-2016.12.16-13.30.25_MD652_2_0209_lossless_alignedTo_MD652-F45-2016.12.17-05.56.31_MD652_2_0134_cropped_patch_locations.txt\n"
     ]
    },
    {
     "name": "stderr",
     "output_type": "stream",
     "text": [
      "Child returned 0\n",
      "0.78 seconds.\n",
      "save: 3.75 seconds\n",
      "\n",
      "Section 346.\n",
      "locate patches: 0.02 seconds\n",
      "43294 samples.\n",
      "load image: 0.27 seconds\n",
      "extract patches: 4.86 seconds\n",
      "predict: 24.68 seconds\n"
     ]
    },
    {
     "name": "stdout",
     "output_type": "stream",
     "text": [
      "aws s3 cp /shared/CSHL_patch_features/inception-bn-blue/MD652/MD652-F70-2016.12.17-14.40.15_MD652_2_0209_lossless_alignedTo_MD652-F45-2016.12.17-05.56.31_MD652_2_0134_cropped/MD652-F70-2016.12.17-14.40.15_MD652_2_0209_lossless_alignedTo_MD652-F45-2016.12.17-05.56.31_MD652_2_0134_cropped_features.bp s3://mousebrainatlas-data/CSHL_patch_features/inception-bn-blue/MD652/MD652-F70-2016.12.17-14.40.15_MD652_2_0209_lossless_alignedTo_MD652-F45-2016.12.17-05.56.31_MD652_2_0134_cropped/MD652-F70-2016.12.17-14.40.15_MD652_2_0209_lossless_alignedTo_MD652-F45-2016.12.17-05.56.31_MD652_2_0134_cropped_features.bp\n"
     ]
    },
    {
     "name": "stderr",
     "output_type": "stream",
     "text": [
      "Child returned 0\n",
      "2.70 seconds.\n"
     ]
    },
    {
     "name": "stdout",
     "output_type": "stream",
     "text": [
      "aws s3 cp /shared/CSHL_patch_features/inception-bn-blue/MD652/MD652-F70-2016.12.17-14.40.15_MD652_2_0209_lossless_alignedTo_MD652-F45-2016.12.17-05.56.31_MD652_2_0134_cropped/MD652-F70-2016.12.17-14.40.15_MD652_2_0209_lossless_alignedTo_MD652-F45-2016.12.17-05.56.31_MD652_2_0134_cropped_patch_locations.txt s3://mousebrainatlas-data/CSHL_patch_features/inception-bn-blue/MD652/MD652-F70-2016.12.17-14.40.15_MD652_2_0209_lossless_alignedTo_MD652-F45-2016.12.17-05.56.31_MD652_2_0134_cropped/MD652-F70-2016.12.17-14.40.15_MD652_2_0209_lossless_alignedTo_MD652-F45-2016.12.17-05.56.31_MD652_2_0134_cropped_patch_locations.txt\n"
     ]
    },
    {
     "name": "stderr",
     "output_type": "stream",
     "text": [
      "Child returned 0\n",
      "0.83 seconds.\n",
      "save: 4.35 seconds\n",
      "\n",
      "Section 347.\n",
      "locate patches: 0.02 seconds\n",
      "42723 samples.\n",
      "load image: 0.27 seconds\n",
      "extract patches: 4.78 seconds\n",
      "predict: 24.26 seconds\n"
     ]
    },
    {
     "name": "stdout",
     "output_type": "stream",
     "text": [
      "aws s3 cp /shared/CSHL_patch_features/inception-bn-blue/MD652/MD652-N70-2016.12.16-13.30.25_MD652_3_0210_lossless_alignedTo_MD652-F45-2016.12.17-05.56.31_MD652_2_0134_cropped/MD652-N70-2016.12.16-13.30.25_MD652_3_0210_lossless_alignedTo_MD652-F45-2016.12.17-05.56.31_MD652_2_0134_cropped_features.bp s3://mousebrainatlas-data/CSHL_patch_features/inception-bn-blue/MD652/MD652-N70-2016.12.16-13.30.25_MD652_3_0210_lossless_alignedTo_MD652-F45-2016.12.17-05.56.31_MD652_2_0134_cropped/MD652-N70-2016.12.16-13.30.25_MD652_3_0210_lossless_alignedTo_MD652-F45-2016.12.17-05.56.31_MD652_2_0134_cropped_features.bp\n"
     ]
    },
    {
     "name": "stderr",
     "output_type": "stream",
     "text": [
      "Child returned 0\n",
      "1.94 seconds.\n"
     ]
    },
    {
     "name": "stdout",
     "output_type": "stream",
     "text": [
      "aws s3 cp /shared/CSHL_patch_features/inception-bn-blue/MD652/MD652-N70-2016.12.16-13.30.25_MD652_3_0210_lossless_alignedTo_MD652-F45-2016.12.17-05.56.31_MD652_2_0134_cropped/MD652-N70-2016.12.16-13.30.25_MD652_3_0210_lossless_alignedTo_MD652-F45-2016.12.17-05.56.31_MD652_2_0134_cropped_patch_locations.txt s3://mousebrainatlas-data/CSHL_patch_features/inception-bn-blue/MD652/MD652-N70-2016.12.16-13.30.25_MD652_3_0210_lossless_alignedTo_MD652-F45-2016.12.17-05.56.31_MD652_2_0134_cropped/MD652-N70-2016.12.16-13.30.25_MD652_3_0210_lossless_alignedTo_MD652-F45-2016.12.17-05.56.31_MD652_2_0134_cropped_patch_locations.txt\n"
     ]
    },
    {
     "name": "stderr",
     "output_type": "stream",
     "text": [
      "Child returned 0\n",
      "0.83 seconds.\n",
      "save: 3.57 seconds\n",
      "\n",
      "Section 348.\n",
      "locate patches: 0.02 seconds\n",
      "43386 samples.\n",
      "load image: 0.27 seconds\n",
      "extract patches: 4.85 seconds\n",
      "predict: 24.56 seconds\n"
     ]
    },
    {
     "name": "stdout",
     "output_type": "stream",
     "text": [
      "aws s3 cp /shared/CSHL_patch_features/inception-bn-blue/MD652/MD652-F70-2016.12.17-14.40.15_MD652_3_0210_lossless_alignedTo_MD652-F45-2016.12.17-05.56.31_MD652_2_0134_cropped/MD652-F70-2016.12.17-14.40.15_MD652_3_0210_lossless_alignedTo_MD652-F45-2016.12.17-05.56.31_MD652_2_0134_cropped_features.bp s3://mousebrainatlas-data/CSHL_patch_features/inception-bn-blue/MD652/MD652-F70-2016.12.17-14.40.15_MD652_3_0210_lossless_alignedTo_MD652-F45-2016.12.17-05.56.31_MD652_2_0134_cropped/MD652-F70-2016.12.17-14.40.15_MD652_3_0210_lossless_alignedTo_MD652-F45-2016.12.17-05.56.31_MD652_2_0134_cropped_features.bp\n"
     ]
    },
    {
     "name": "stderr",
     "output_type": "stream",
     "text": [
      "Child returned 0\n",
      "2.30 seconds.\n"
     ]
    },
    {
     "name": "stdout",
     "output_type": "stream",
     "text": [
      "aws s3 cp /shared/CSHL_patch_features/inception-bn-blue/MD652/MD652-F70-2016.12.17-14.40.15_MD652_3_0210_lossless_alignedTo_MD652-F45-2016.12.17-05.56.31_MD652_2_0134_cropped/MD652-F70-2016.12.17-14.40.15_MD652_3_0210_lossless_alignedTo_MD652-F45-2016.12.17-05.56.31_MD652_2_0134_cropped_patch_locations.txt s3://mousebrainatlas-data/CSHL_patch_features/inception-bn-blue/MD652/MD652-F70-2016.12.17-14.40.15_MD652_3_0210_lossless_alignedTo_MD652-F45-2016.12.17-05.56.31_MD652_2_0134_cropped/MD652-F70-2016.12.17-14.40.15_MD652_3_0210_lossless_alignedTo_MD652-F45-2016.12.17-05.56.31_MD652_2_0134_cropped_patch_locations.txt\n"
     ]
    },
    {
     "name": "stderr",
     "output_type": "stream",
     "text": [
      "Child returned 0\n",
      "0.79 seconds.\n",
      "save: 3.90 seconds\n",
      "\n",
      "Section 349.\n",
      "locate patches: 0.02 seconds\n",
      "42343 samples.\n",
      "load image: 0.27 seconds\n",
      "extract patches: 4.79 seconds\n",
      "predict: 24.07 seconds\n"
     ]
    },
    {
     "name": "stdout",
     "output_type": "stream",
     "text": [
      "aws s3 cp /shared/CSHL_patch_features/inception-bn-blue/MD652/MD652-N71-2016.12.16-13.35.37_MD652_1_0211_lossless_alignedTo_MD652-F45-2016.12.17-05.56.31_MD652_2_0134_cropped/MD652-N71-2016.12.16-13.35.37_MD652_1_0211_lossless_alignedTo_MD652-F45-2016.12.17-05.56.31_MD652_2_0134_cropped_features.bp s3://mousebrainatlas-data/CSHL_patch_features/inception-bn-blue/MD652/MD652-N71-2016.12.16-13.35.37_MD652_1_0211_lossless_alignedTo_MD652-F45-2016.12.17-05.56.31_MD652_2_0134_cropped/MD652-N71-2016.12.16-13.35.37_MD652_1_0211_lossless_alignedTo_MD652-F45-2016.12.17-05.56.31_MD652_2_0134_cropped_features.bp\n"
     ]
    },
    {
     "name": "stderr",
     "output_type": "stream",
     "text": [
      "Child returned 0\n",
      "1.92 seconds.\n"
     ]
    },
    {
     "name": "stdout",
     "output_type": "stream",
     "text": [
      "aws s3 cp /shared/CSHL_patch_features/inception-bn-blue/MD652/MD652-N71-2016.12.16-13.35.37_MD652_1_0211_lossless_alignedTo_MD652-F45-2016.12.17-05.56.31_MD652_2_0134_cropped/MD652-N71-2016.12.16-13.35.37_MD652_1_0211_lossless_alignedTo_MD652-F45-2016.12.17-05.56.31_MD652_2_0134_cropped_patch_locations.txt s3://mousebrainatlas-data/CSHL_patch_features/inception-bn-blue/MD652/MD652-N71-2016.12.16-13.35.37_MD652_1_0211_lossless_alignedTo_MD652-F45-2016.12.17-05.56.31_MD652_2_0134_cropped/MD652-N71-2016.12.16-13.35.37_MD652_1_0211_lossless_alignedTo_MD652-F45-2016.12.17-05.56.31_MD652_2_0134_cropped_patch_locations.txt\n"
     ]
    },
    {
     "name": "stderr",
     "output_type": "stream",
     "text": [
      "Child returned 0\n",
      "0.83 seconds.\n",
      "save: 3.54 seconds\n",
      "\n",
      "Section 350.\n",
      "locate patches: 0.02 seconds\n",
      "42062 samples.\n",
      "load image: 0.27 seconds\n",
      "extract patches: 4.71 seconds\n",
      "predict: 23.81 seconds\n"
     ]
    },
    {
     "name": "stdout",
     "output_type": "stream",
     "text": [
      "aws s3 cp /shared/CSHL_patch_features/inception-bn-blue/MD652/MD652-F71-2016.12.17-14.57.58_MD652_1_0211_lossless_alignedTo_MD652-F45-2016.12.17-05.56.31_MD652_2_0134_cropped/MD652-F71-2016.12.17-14.57.58_MD652_1_0211_lossless_alignedTo_MD652-F45-2016.12.17-05.56.31_MD652_2_0134_cropped_features.bp s3://mousebrainatlas-data/CSHL_patch_features/inception-bn-blue/MD652/MD652-F71-2016.12.17-14.57.58_MD652_1_0211_lossless_alignedTo_MD652-F45-2016.12.17-05.56.31_MD652_2_0134_cropped/MD652-F71-2016.12.17-14.57.58_MD652_1_0211_lossless_alignedTo_MD652-F45-2016.12.17-05.56.31_MD652_2_0134_cropped_features.bp\n"
     ]
    },
    {
     "name": "stderr",
     "output_type": "stream",
     "text": [
      "Child returned 0\n",
      "2.21 seconds.\n"
     ]
    },
    {
     "name": "stdout",
     "output_type": "stream",
     "text": [
      "aws s3 cp /shared/CSHL_patch_features/inception-bn-blue/MD652/MD652-F71-2016.12.17-14.57.58_MD652_1_0211_lossless_alignedTo_MD652-F45-2016.12.17-05.56.31_MD652_2_0134_cropped/MD652-F71-2016.12.17-14.57.58_MD652_1_0211_lossless_alignedTo_MD652-F45-2016.12.17-05.56.31_MD652_2_0134_cropped_patch_locations.txt s3://mousebrainatlas-data/CSHL_patch_features/inception-bn-blue/MD652/MD652-F71-2016.12.17-14.57.58_MD652_1_0211_lossless_alignedTo_MD652-F45-2016.12.17-05.56.31_MD652_2_0134_cropped/MD652-F71-2016.12.17-14.57.58_MD652_1_0211_lossless_alignedTo_MD652-F45-2016.12.17-05.56.31_MD652_2_0134_cropped_patch_locations.txt\n"
     ]
    },
    {
     "name": "stderr",
     "output_type": "stream",
     "text": [
      "Child returned 0\n",
      "0.78 seconds.\n",
      "save: 3.78 seconds\n",
      "\n",
      "Section 351.\n",
      "locate patches: 0.02 seconds\n",
      "42165 samples.\n",
      "load image: 0.27 seconds\n",
      "extract patches: 4.69 seconds\n",
      "predict: 23.84 seconds\n"
     ]
    },
    {
     "name": "stdout",
     "output_type": "stream",
     "text": [
      "aws s3 cp /shared/CSHL_patch_features/inception-bn-blue/MD652/MD652-N71-2016.12.16-13.35.37_MD652_2_0212_lossless_alignedTo_MD652-F45-2016.12.17-05.56.31_MD652_2_0134_cropped/MD652-N71-2016.12.16-13.35.37_MD652_2_0212_lossless_alignedTo_MD652-F45-2016.12.17-05.56.31_MD652_2_0134_cropped_features.bp s3://mousebrainatlas-data/CSHL_patch_features/inception-bn-blue/MD652/MD652-N71-2016.12.16-13.35.37_MD652_2_0212_lossless_alignedTo_MD652-F45-2016.12.17-05.56.31_MD652_2_0134_cropped/MD652-N71-2016.12.16-13.35.37_MD652_2_0212_lossless_alignedTo_MD652-F45-2016.12.17-05.56.31_MD652_2_0134_cropped_features.bp\n"
     ]
    },
    {
     "name": "stderr",
     "output_type": "stream",
     "text": [
      "Child returned 0\n",
      "2.07 seconds.\n"
     ]
    },
    {
     "name": "stdout",
     "output_type": "stream",
     "text": [
      "aws s3 cp /shared/CSHL_patch_features/inception-bn-blue/MD652/MD652-N71-2016.12.16-13.35.37_MD652_2_0212_lossless_alignedTo_MD652-F45-2016.12.17-05.56.31_MD652_2_0134_cropped/MD652-N71-2016.12.16-13.35.37_MD652_2_0212_lossless_alignedTo_MD652-F45-2016.12.17-05.56.31_MD652_2_0134_cropped_patch_locations.txt s3://mousebrainatlas-data/CSHL_patch_features/inception-bn-blue/MD652/MD652-N71-2016.12.16-13.35.37_MD652_2_0212_lossless_alignedTo_MD652-F45-2016.12.17-05.56.31_MD652_2_0134_cropped/MD652-N71-2016.12.16-13.35.37_MD652_2_0212_lossless_alignedTo_MD652-F45-2016.12.17-05.56.31_MD652_2_0134_cropped_patch_locations.txt\n"
     ]
    },
    {
     "name": "stderr",
     "output_type": "stream",
     "text": [
      "Child returned 0\n",
      "0.83 seconds.\n",
      "save: 3.68 seconds\n",
      "\n",
      "Section 352.\n",
      "locate patches: 0.02 seconds\n",
      "42180 samples.\n",
      "load image: 0.27 seconds\n",
      "extract patches: 4.70 seconds\n",
      "predict: 23.86 seconds\n"
     ]
    },
    {
     "name": "stdout",
     "output_type": "stream",
     "text": [
      "aws s3 cp /shared/CSHL_patch_features/inception-bn-blue/MD652/MD652-F71-2016.12.17-14.57.58_MD652_2_0212_lossless_alignedTo_MD652-F45-2016.12.17-05.56.31_MD652_2_0134_cropped/MD652-F71-2016.12.17-14.57.58_MD652_2_0212_lossless_alignedTo_MD652-F45-2016.12.17-05.56.31_MD652_2_0134_cropped_features.bp s3://mousebrainatlas-data/CSHL_patch_features/inception-bn-blue/MD652/MD652-F71-2016.12.17-14.57.58_MD652_2_0212_lossless_alignedTo_MD652-F45-2016.12.17-05.56.31_MD652_2_0134_cropped/MD652-F71-2016.12.17-14.57.58_MD652_2_0212_lossless_alignedTo_MD652-F45-2016.12.17-05.56.31_MD652_2_0134_cropped_features.bp\n"
     ]
    },
    {
     "name": "stderr",
     "output_type": "stream",
     "text": [
      "Child returned 0\n",
      "1.86 seconds.\n"
     ]
    },
    {
     "name": "stdout",
     "output_type": "stream",
     "text": [
      "aws s3 cp /shared/CSHL_patch_features/inception-bn-blue/MD652/MD652-F71-2016.12.17-14.57.58_MD652_2_0212_lossless_alignedTo_MD652-F45-2016.12.17-05.56.31_MD652_2_0134_cropped/MD652-F71-2016.12.17-14.57.58_MD652_2_0212_lossless_alignedTo_MD652-F45-2016.12.17-05.56.31_MD652_2_0134_cropped_patch_locations.txt s3://mousebrainatlas-data/CSHL_patch_features/inception-bn-blue/MD652/MD652-F71-2016.12.17-14.57.58_MD652_2_0212_lossless_alignedTo_MD652-F45-2016.12.17-05.56.31_MD652_2_0134_cropped/MD652-F71-2016.12.17-14.57.58_MD652_2_0212_lossless_alignedTo_MD652-F45-2016.12.17-05.56.31_MD652_2_0134_cropped_patch_locations.txt\n"
     ]
    },
    {
     "name": "stderr",
     "output_type": "stream",
     "text": [
      "Child returned 0\n",
      "0.78 seconds.\n",
      "save: 3.43 seconds\n",
      "\n",
      "Section 353.\n",
      "locate patches: 0.02 seconds\n",
      "41396 samples.\n",
      "load image: 0.27 seconds\n",
      "extract patches: 3.94 seconds\n",
      "predict: 23.36 seconds\n"
     ]
    },
    {
     "name": "stdout",
     "output_type": "stream",
     "text": [
      "aws s3 cp /shared/CSHL_patch_features/inception-bn-blue/MD652/MD652-N71-2016.12.16-13.35.37_MD652_3_0213_lossless_alignedTo_MD652-F45-2016.12.17-05.56.31_MD652_2_0134_cropped/MD652-N71-2016.12.16-13.35.37_MD652_3_0213_lossless_alignedTo_MD652-F45-2016.12.17-05.56.31_MD652_2_0134_cropped_features.bp s3://mousebrainatlas-data/CSHL_patch_features/inception-bn-blue/MD652/MD652-N71-2016.12.16-13.35.37_MD652_3_0213_lossless_alignedTo_MD652-F45-2016.12.17-05.56.31_MD652_2_0134_cropped/MD652-N71-2016.12.16-13.35.37_MD652_3_0213_lossless_alignedTo_MD652-F45-2016.12.17-05.56.31_MD652_2_0134_cropped_features.bp\n"
     ]
    },
    {
     "name": "stderr",
     "output_type": "stream",
     "text": [
      "Child returned 0\n",
      "2.01 seconds.\n"
     ]
    },
    {
     "name": "stdout",
     "output_type": "stream",
     "text": [
      "aws s3 cp /shared/CSHL_patch_features/inception-bn-blue/MD652/MD652-N71-2016.12.16-13.35.37_MD652_3_0213_lossless_alignedTo_MD652-F45-2016.12.17-05.56.31_MD652_2_0134_cropped/MD652-N71-2016.12.16-13.35.37_MD652_3_0213_lossless_alignedTo_MD652-F45-2016.12.17-05.56.31_MD652_2_0134_cropped_patch_locations.txt s3://mousebrainatlas-data/CSHL_patch_features/inception-bn-blue/MD652/MD652-N71-2016.12.16-13.35.37_MD652_3_0213_lossless_alignedTo_MD652-F45-2016.12.17-05.56.31_MD652_2_0134_cropped/MD652-N71-2016.12.16-13.35.37_MD652_3_0213_lossless_alignedTo_MD652-F45-2016.12.17-05.56.31_MD652_2_0134_cropped_patch_locations.txt\n"
     ]
    },
    {
     "name": "stderr",
     "output_type": "stream",
     "text": [
      "Child returned 0\n",
      "0.78 seconds.\n",
      "save: 3.57 seconds\n",
      "\n",
      "Section 354.\n",
      "locate patches: 0.02 seconds\n",
      "41402 samples.\n",
      "load image: 0.27 seconds\n",
      "extract patches: 3.96 seconds\n",
      "predict: 23.22 seconds\n"
     ]
    },
    {
     "name": "stdout",
     "output_type": "stream",
     "text": [
      "aws s3 cp /shared/CSHL_patch_features/inception-bn-blue/MD652/MD652-F71-2016.12.17-14.57.58_MD652_3_0213_lossless_alignedTo_MD652-F45-2016.12.17-05.56.31_MD652_2_0134_cropped/MD652-F71-2016.12.17-14.57.58_MD652_3_0213_lossless_alignedTo_MD652-F45-2016.12.17-05.56.31_MD652_2_0134_cropped_features.bp s3://mousebrainatlas-data/CSHL_patch_features/inception-bn-blue/MD652/MD652-F71-2016.12.17-14.57.58_MD652_3_0213_lossless_alignedTo_MD652-F45-2016.12.17-05.56.31_MD652_2_0134_cropped/MD652-F71-2016.12.17-14.57.58_MD652_3_0213_lossless_alignedTo_MD652-F45-2016.12.17-05.56.31_MD652_2_0134_cropped_features.bp\n"
     ]
    },
    {
     "name": "stderr",
     "output_type": "stream",
     "text": [
      "Child returned 0\n",
      "1.84 seconds.\n"
     ]
    },
    {
     "name": "stdout",
     "output_type": "stream",
     "text": [
      "aws s3 cp /shared/CSHL_patch_features/inception-bn-blue/MD652/MD652-F71-2016.12.17-14.57.58_MD652_3_0213_lossless_alignedTo_MD652-F45-2016.12.17-05.56.31_MD652_2_0134_cropped/MD652-F71-2016.12.17-14.57.58_MD652_3_0213_lossless_alignedTo_MD652-F45-2016.12.17-05.56.31_MD652_2_0134_cropped_patch_locations.txt s3://mousebrainatlas-data/CSHL_patch_features/inception-bn-blue/MD652/MD652-F71-2016.12.17-14.57.58_MD652_3_0213_lossless_alignedTo_MD652-F45-2016.12.17-05.56.31_MD652_2_0134_cropped/MD652-F71-2016.12.17-14.57.58_MD652_3_0213_lossless_alignedTo_MD652-F45-2016.12.17-05.56.31_MD652_2_0134_cropped_patch_locations.txt\n"
     ]
    },
    {
     "name": "stderr",
     "output_type": "stream",
     "text": [
      "Child returned 0\n",
      "0.78 seconds.\n",
      "save: 3.39 seconds\n",
      "\n",
      "Section 355.\n",
      "locate patches: 0.02 seconds\n",
      "39688 samples.\n",
      "load image: 0.27 seconds\n",
      "extract patches: 3.79 seconds\n",
      "predict: 22.59 seconds\n"
     ]
    },
    {
     "name": "stdout",
     "output_type": "stream",
     "text": [
      "aws s3 cp /shared/CSHL_patch_features/inception-bn-blue/MD652/MD652-N72-2016.12.16-13.40.42_MD652_1_0214_lossless_alignedTo_MD652-F45-2016.12.17-05.56.31_MD652_2_0134_cropped/MD652-N72-2016.12.16-13.40.42_MD652_1_0214_lossless_alignedTo_MD652-F45-2016.12.17-05.56.31_MD652_2_0134_cropped_features.bp s3://mousebrainatlas-data/CSHL_patch_features/inception-bn-blue/MD652/MD652-N72-2016.12.16-13.40.42_MD652_1_0214_lossless_alignedTo_MD652-F45-2016.12.17-05.56.31_MD652_2_0134_cropped/MD652-N72-2016.12.16-13.40.42_MD652_1_0214_lossless_alignedTo_MD652-F45-2016.12.17-05.56.31_MD652_2_0134_cropped_features.bp\n"
     ]
    },
    {
     "name": "stderr",
     "output_type": "stream",
     "text": [
      "Child returned 0\n",
      "1.98 seconds.\n"
     ]
    },
    {
     "name": "stdout",
     "output_type": "stream",
     "text": [
      "aws s3 cp /shared/CSHL_patch_features/inception-bn-blue/MD652/MD652-N72-2016.12.16-13.40.42_MD652_1_0214_lossless_alignedTo_MD652-F45-2016.12.17-05.56.31_MD652_2_0134_cropped/MD652-N72-2016.12.16-13.40.42_MD652_1_0214_lossless_alignedTo_MD652-F45-2016.12.17-05.56.31_MD652_2_0134_cropped_patch_locations.txt s3://mousebrainatlas-data/CSHL_patch_features/inception-bn-blue/MD652/MD652-N72-2016.12.16-13.40.42_MD652_1_0214_lossless_alignedTo_MD652-F45-2016.12.17-05.56.31_MD652_2_0134_cropped/MD652-N72-2016.12.16-13.40.42_MD652_1_0214_lossless_alignedTo_MD652-F45-2016.12.17-05.56.31_MD652_2_0134_cropped_patch_locations.txt\n"
     ]
    },
    {
     "name": "stderr",
     "output_type": "stream",
     "text": [
      "Child returned 0\n",
      "0.84 seconds.\n",
      "save: 3.56 seconds\n",
      "\n",
      "Section 356.\n",
      "locate patches: 0.02 seconds\n",
      "36783 samples.\n",
      "load image: 0.27 seconds\n",
      "extract patches: 3.50 seconds\n",
      "predict: 20.90 seconds\n"
     ]
    },
    {
     "name": "stdout",
     "output_type": "stream",
     "text": [
      "aws s3 cp /shared/CSHL_patch_features/inception-bn-blue/MD652/MD652-F72-2016.12.17-15.15.41_MD652_1_0214_lossless_alignedTo_MD652-F45-2016.12.17-05.56.31_MD652_2_0134_cropped/MD652-F72-2016.12.17-15.15.41_MD652_1_0214_lossless_alignedTo_MD652-F45-2016.12.17-05.56.31_MD652_2_0134_cropped_features.bp s3://mousebrainatlas-data/CSHL_patch_features/inception-bn-blue/MD652/MD652-F72-2016.12.17-15.15.41_MD652_1_0214_lossless_alignedTo_MD652-F45-2016.12.17-05.56.31_MD652_2_0134_cropped/MD652-F72-2016.12.17-15.15.41_MD652_1_0214_lossless_alignedTo_MD652-F45-2016.12.17-05.56.31_MD652_2_0134_cropped_features.bp\n"
     ]
    },
    {
     "name": "stderr",
     "output_type": "stream",
     "text": [
      "Child returned 0\n",
      "1.81 seconds.\n"
     ]
    },
    {
     "name": "stdout",
     "output_type": "stream",
     "text": [
      "aws s3 cp /shared/CSHL_patch_features/inception-bn-blue/MD652/MD652-F72-2016.12.17-15.15.41_MD652_1_0214_lossless_alignedTo_MD652-F45-2016.12.17-05.56.31_MD652_2_0134_cropped/MD652-F72-2016.12.17-15.15.41_MD652_1_0214_lossless_alignedTo_MD652-F45-2016.12.17-05.56.31_MD652_2_0134_cropped_patch_locations.txt s3://mousebrainatlas-data/CSHL_patch_features/inception-bn-blue/MD652/MD652-F72-2016.12.17-15.15.41_MD652_1_0214_lossless_alignedTo_MD652-F45-2016.12.17-05.56.31_MD652_2_0134_cropped/MD652-F72-2016.12.17-15.15.41_MD652_1_0214_lossless_alignedTo_MD652-F45-2016.12.17-05.56.31_MD652_2_0134_cropped_patch_locations.txt\n"
     ]
    },
    {
     "name": "stderr",
     "output_type": "stream",
     "text": [
      "Child returned 0\n",
      "0.88 seconds.\n",
      "save: 3.38 seconds\n",
      "\n",
      "Section 357.\n",
      "locate patches: 0.02 seconds\n",
      "39810 samples.\n",
      "load image: 0.27 seconds\n",
      "extract patches: 3.79 seconds\n",
      "predict: 22.63 seconds\n"
     ]
    },
    {
     "name": "stdout",
     "output_type": "stream",
     "text": [
      "aws s3 cp /shared/CSHL_patch_features/inception-bn-blue/MD652/MD652-N72-2016.12.16-13.40.42_MD652_2_0215_lossless_alignedTo_MD652-F45-2016.12.17-05.56.31_MD652_2_0134_cropped/MD652-N72-2016.12.16-13.40.42_MD652_2_0215_lossless_alignedTo_MD652-F45-2016.12.17-05.56.31_MD652_2_0134_cropped_features.bp s3://mousebrainatlas-data/CSHL_patch_features/inception-bn-blue/MD652/MD652-N72-2016.12.16-13.40.42_MD652_2_0215_lossless_alignedTo_MD652-F45-2016.12.17-05.56.31_MD652_2_0134_cropped/MD652-N72-2016.12.16-13.40.42_MD652_2_0215_lossless_alignedTo_MD652-F45-2016.12.17-05.56.31_MD652_2_0134_cropped_features.bp\n"
     ]
    },
    {
     "name": "stderr",
     "output_type": "stream",
     "text": [
      "Child returned 0\n",
      "1.75 seconds.\n"
     ]
    },
    {
     "name": "stdout",
     "output_type": "stream",
     "text": [
      "aws s3 cp /shared/CSHL_patch_features/inception-bn-blue/MD652/MD652-N72-2016.12.16-13.40.42_MD652_2_0215_lossless_alignedTo_MD652-F45-2016.12.17-05.56.31_MD652_2_0134_cropped/MD652-N72-2016.12.16-13.40.42_MD652_2_0215_lossless_alignedTo_MD652-F45-2016.12.17-05.56.31_MD652_2_0134_cropped_patch_locations.txt s3://mousebrainatlas-data/CSHL_patch_features/inception-bn-blue/MD652/MD652-N72-2016.12.16-13.40.42_MD652_2_0215_lossless_alignedTo_MD652-F45-2016.12.17-05.56.31_MD652_2_0134_cropped/MD652-N72-2016.12.16-13.40.42_MD652_2_0215_lossless_alignedTo_MD652-F45-2016.12.17-05.56.31_MD652_2_0134_cropped_patch_locations.txt\n"
     ]
    },
    {
     "name": "stderr",
     "output_type": "stream",
     "text": [
      "Child returned 0\n",
      "0.78 seconds.\n",
      "save: 3.28 seconds\n",
      "\n",
      "Section 358.\n",
      "locate patches: 0.02 seconds\n",
      "38360 samples.\n",
      "load image: 0.27 seconds\n",
      "extract patches: 3.67 seconds\n",
      "predict: 21.53 seconds\n"
     ]
    },
    {
     "name": "stdout",
     "output_type": "stream",
     "text": [
      "aws s3 cp /shared/CSHL_patch_features/inception-bn-blue/MD652/MD652-F72-2016.12.17-15.15.41_MD652_2_0215_lossless_alignedTo_MD652-F45-2016.12.17-05.56.31_MD652_2_0134_cropped/MD652-F72-2016.12.17-15.15.41_MD652_2_0215_lossless_alignedTo_MD652-F45-2016.12.17-05.56.31_MD652_2_0134_cropped_features.bp s3://mousebrainatlas-data/CSHL_patch_features/inception-bn-blue/MD652/MD652-F72-2016.12.17-15.15.41_MD652_2_0215_lossless_alignedTo_MD652-F45-2016.12.17-05.56.31_MD652_2_0134_cropped/MD652-F72-2016.12.17-15.15.41_MD652_2_0215_lossless_alignedTo_MD652-F45-2016.12.17-05.56.31_MD652_2_0134_cropped_features.bp\n"
     ]
    },
    {
     "name": "stderr",
     "output_type": "stream",
     "text": [
      "Child returned 0\n",
      "1.92 seconds.\n"
     ]
    },
    {
     "name": "stdout",
     "output_type": "stream",
     "text": [
      "aws s3 cp /shared/CSHL_patch_features/inception-bn-blue/MD652/MD652-F72-2016.12.17-15.15.41_MD652_2_0215_lossless_alignedTo_MD652-F45-2016.12.17-05.56.31_MD652_2_0134_cropped/MD652-F72-2016.12.17-15.15.41_MD652_2_0215_lossless_alignedTo_MD652-F45-2016.12.17-05.56.31_MD652_2_0134_cropped_patch_locations.txt s3://mousebrainatlas-data/CSHL_patch_features/inception-bn-blue/MD652/MD652-F72-2016.12.17-15.15.41_MD652_2_0215_lossless_alignedTo_MD652-F45-2016.12.17-05.56.31_MD652_2_0134_cropped/MD652-F72-2016.12.17-15.15.41_MD652_2_0215_lossless_alignedTo_MD652-F45-2016.12.17-05.56.31_MD652_2_0134_cropped_patch_locations.txt\n"
     ]
    },
    {
     "name": "stderr",
     "output_type": "stream",
     "text": [
      "Child returned 0\n",
      "0.83 seconds.\n",
      "save: 3.47 seconds\n",
      "\n",
      "Section 359.\n",
      "locate patches: 0.02 seconds\n",
      "38669 samples.\n",
      "load image: 0.27 seconds\n",
      "extract patches: 3.70 seconds\n",
      "predict: 21.91 seconds\n"
     ]
    },
    {
     "name": "stdout",
     "output_type": "stream",
     "text": [
      "aws s3 cp /shared/CSHL_patch_features/inception-bn-blue/MD652/MD652-N72-2016.12.16-13.40.42_MD652_3_0216_lossless_alignedTo_MD652-F45-2016.12.17-05.56.31_MD652_2_0134_cropped/MD652-N72-2016.12.16-13.40.42_MD652_3_0216_lossless_alignedTo_MD652-F45-2016.12.17-05.56.31_MD652_2_0134_cropped_features.bp s3://mousebrainatlas-data/CSHL_patch_features/inception-bn-blue/MD652/MD652-N72-2016.12.16-13.40.42_MD652_3_0216_lossless_alignedTo_MD652-F45-2016.12.17-05.56.31_MD652_2_0134_cropped/MD652-N72-2016.12.16-13.40.42_MD652_3_0216_lossless_alignedTo_MD652-F45-2016.12.17-05.56.31_MD652_2_0134_cropped_features.bp\n"
     ]
    },
    {
     "name": "stderr",
     "output_type": "stream",
     "text": [
      "Child returned 0\n",
      "2.05 seconds.\n"
     ]
    },
    {
     "name": "stdout",
     "output_type": "stream",
     "text": [
      "aws s3 cp /shared/CSHL_patch_features/inception-bn-blue/MD652/MD652-N72-2016.12.16-13.40.42_MD652_3_0216_lossless_alignedTo_MD652-F45-2016.12.17-05.56.31_MD652_2_0134_cropped/MD652-N72-2016.12.16-13.40.42_MD652_3_0216_lossless_alignedTo_MD652-F45-2016.12.17-05.56.31_MD652_2_0134_cropped_patch_locations.txt s3://mousebrainatlas-data/CSHL_patch_features/inception-bn-blue/MD652/MD652-N72-2016.12.16-13.40.42_MD652_3_0216_lossless_alignedTo_MD652-F45-2016.12.17-05.56.31_MD652_2_0134_cropped/MD652-N72-2016.12.16-13.40.42_MD652_3_0216_lossless_alignedTo_MD652-F45-2016.12.17-05.56.31_MD652_2_0134_cropped_patch_locations.txt\n"
     ]
    },
    {
     "name": "stderr",
     "output_type": "stream",
     "text": [
      "Child returned 0\n",
      "0.78 seconds.\n",
      "save: 3.55 seconds\n",
      "\n",
      "Section 360.\n",
      "locate patches: 0.02 seconds\n",
      "38738 samples.\n",
      "load image: 0.27 seconds\n",
      "extract patches: 3.69 seconds\n",
      "predict: 21.86 seconds\n"
     ]
    },
    {
     "name": "stdout",
     "output_type": "stream",
     "text": [
      "aws s3 cp /shared/CSHL_patch_features/inception-bn-blue/MD652/MD652-F72-2016.12.17-15.15.41_MD652_3_0216_lossless_alignedTo_MD652-F45-2016.12.17-05.56.31_MD652_2_0134_cropped/MD652-F72-2016.12.17-15.15.41_MD652_3_0216_lossless_alignedTo_MD652-F45-2016.12.17-05.56.31_MD652_2_0134_cropped_features.bp s3://mousebrainatlas-data/CSHL_patch_features/inception-bn-blue/MD652/MD652-F72-2016.12.17-15.15.41_MD652_3_0216_lossless_alignedTo_MD652-F45-2016.12.17-05.56.31_MD652_2_0134_cropped/MD652-F72-2016.12.17-15.15.41_MD652_3_0216_lossless_alignedTo_MD652-F45-2016.12.17-05.56.31_MD652_2_0134_cropped_features.bp\n"
     ]
    },
    {
     "name": "stderr",
     "output_type": "stream",
     "text": [
      "Child returned 0\n",
      "1.76 seconds.\n"
     ]
    },
    {
     "name": "stdout",
     "output_type": "stream",
     "text": [
      "aws s3 cp /shared/CSHL_patch_features/inception-bn-blue/MD652/MD652-F72-2016.12.17-15.15.41_MD652_3_0216_lossless_alignedTo_MD652-F45-2016.12.17-05.56.31_MD652_2_0134_cropped/MD652-F72-2016.12.17-15.15.41_MD652_3_0216_lossless_alignedTo_MD652-F45-2016.12.17-05.56.31_MD652_2_0134_cropped_patch_locations.txt s3://mousebrainatlas-data/CSHL_patch_features/inception-bn-blue/MD652/MD652-F72-2016.12.17-15.15.41_MD652_3_0216_lossless_alignedTo_MD652-F45-2016.12.17-05.56.31_MD652_2_0134_cropped/MD652-F72-2016.12.17-15.15.41_MD652_3_0216_lossless_alignedTo_MD652-F45-2016.12.17-05.56.31_MD652_2_0134_cropped_patch_locations.txt\n"
     ]
    },
    {
     "name": "stderr",
     "output_type": "stream",
     "text": [
      "Child returned 0\n",
      "0.79 seconds.\n",
      "save: 3.28 seconds\n",
      "\n",
      "Section 361.\n",
      "locate patches: 0.02 seconds\n",
      "38842 samples.\n",
      "load image: 0.27 seconds\n",
      "extract patches: 3.72 seconds\n",
      "predict: 22.07 seconds\n"
     ]
    },
    {
     "name": "stdout",
     "output_type": "stream",
     "text": [
      "aws s3 cp /shared/CSHL_patch_features/inception-bn-blue/MD652/MD652-N73-2016.12.16-13.45.53_MD652_1_0217_lossless_alignedTo_MD652-F45-2016.12.17-05.56.31_MD652_2_0134_cropped/MD652-N73-2016.12.16-13.45.53_MD652_1_0217_lossless_alignedTo_MD652-F45-2016.12.17-05.56.31_MD652_2_0134_cropped_features.bp s3://mousebrainatlas-data/CSHL_patch_features/inception-bn-blue/MD652/MD652-N73-2016.12.16-13.45.53_MD652_1_0217_lossless_alignedTo_MD652-F45-2016.12.17-05.56.31_MD652_2_0134_cropped/MD652-N73-2016.12.16-13.45.53_MD652_1_0217_lossless_alignedTo_MD652-F45-2016.12.17-05.56.31_MD652_2_0134_cropped_features.bp\n"
     ]
    },
    {
     "name": "stderr",
     "output_type": "stream",
     "text": [
      "Child returned 0\n",
      "1.80 seconds.\n"
     ]
    },
    {
     "name": "stdout",
     "output_type": "stream",
     "text": [
      "aws s3 cp /shared/CSHL_patch_features/inception-bn-blue/MD652/MD652-N73-2016.12.16-13.45.53_MD652_1_0217_lossless_alignedTo_MD652-F45-2016.12.17-05.56.31_MD652_2_0134_cropped/MD652-N73-2016.12.16-13.45.53_MD652_1_0217_lossless_alignedTo_MD652-F45-2016.12.17-05.56.31_MD652_2_0134_cropped_patch_locations.txt s3://mousebrainatlas-data/CSHL_patch_features/inception-bn-blue/MD652/MD652-N73-2016.12.16-13.45.53_MD652_1_0217_lossless_alignedTo_MD652-F45-2016.12.17-05.56.31_MD652_2_0134_cropped/MD652-N73-2016.12.16-13.45.53_MD652_1_0217_lossless_alignedTo_MD652-F45-2016.12.17-05.56.31_MD652_2_0134_cropped_patch_locations.txt\n"
     ]
    },
    {
     "name": "stderr",
     "output_type": "stream",
     "text": [
      "Child returned 0\n",
      "0.83 seconds.\n",
      "save: 3.35 seconds\n",
      "\n",
      "Section 362.\n",
      "locate patches: 0.02 seconds\n",
      "39432 samples.\n",
      "load image: 0.27 seconds\n",
      "extract patches: 3.77 seconds\n",
      "predict: 22.29 seconds\n"
     ]
    },
    {
     "name": "stdout",
     "output_type": "stream",
     "text": [
      "aws s3 cp /shared/CSHL_patch_features/inception-bn-blue/MD652/MD652-F73-2016.12.17-15.32.01_MD652_1_0217_lossless_alignedTo_MD652-F45-2016.12.17-05.56.31_MD652_2_0134_cropped/MD652-F73-2016.12.17-15.32.01_MD652_1_0217_lossless_alignedTo_MD652-F45-2016.12.17-05.56.31_MD652_2_0134_cropped_features.bp s3://mousebrainatlas-data/CSHL_patch_features/inception-bn-blue/MD652/MD652-F73-2016.12.17-15.32.01_MD652_1_0217_lossless_alignedTo_MD652-F45-2016.12.17-05.56.31_MD652_2_0134_cropped/MD652-F73-2016.12.17-15.32.01_MD652_1_0217_lossless_alignedTo_MD652-F45-2016.12.17-05.56.31_MD652_2_0134_cropped_features.bp\n"
     ]
    },
    {
     "name": "stderr",
     "output_type": "stream",
     "text": [
      "Child returned 0\n",
      "2.20 seconds.\n"
     ]
    },
    {
     "name": "stdout",
     "output_type": "stream",
     "text": [
      "aws s3 cp /shared/CSHL_patch_features/inception-bn-blue/MD652/MD652-F73-2016.12.17-15.32.01_MD652_1_0217_lossless_alignedTo_MD652-F45-2016.12.17-05.56.31_MD652_2_0134_cropped/MD652-F73-2016.12.17-15.32.01_MD652_1_0217_lossless_alignedTo_MD652-F45-2016.12.17-05.56.31_MD652_2_0134_cropped_patch_locations.txt s3://mousebrainatlas-data/CSHL_patch_features/inception-bn-blue/MD652/MD652-F73-2016.12.17-15.32.01_MD652_1_0217_lossless_alignedTo_MD652-F45-2016.12.17-05.56.31_MD652_2_0134_cropped/MD652-F73-2016.12.17-15.32.01_MD652_1_0217_lossless_alignedTo_MD652-F45-2016.12.17-05.56.31_MD652_2_0134_cropped_patch_locations.txt\n"
     ]
    },
    {
     "name": "stderr",
     "output_type": "stream",
     "text": [
      "Child returned 0\n",
      "0.73 seconds.\n",
      "save: 3.67 seconds\n",
      "\n",
      "Section 363.\n",
      "locate patches: 0.02 seconds\n",
      "39256 samples.\n",
      "load image: 0.27 seconds\n",
      "extract patches: 3.77 seconds\n",
      "predict: 22.15 seconds\n"
     ]
    },
    {
     "name": "stdout",
     "output_type": "stream",
     "text": [
      "aws s3 cp /shared/CSHL_patch_features/inception-bn-blue/MD652/MD652-N73-2016.12.16-13.45.53_MD652_2_0218_lossless_alignedTo_MD652-F45-2016.12.17-05.56.31_MD652_2_0134_cropped/MD652-N73-2016.12.16-13.45.53_MD652_2_0218_lossless_alignedTo_MD652-F45-2016.12.17-05.56.31_MD652_2_0134_cropped_features.bp s3://mousebrainatlas-data/CSHL_patch_features/inception-bn-blue/MD652/MD652-N73-2016.12.16-13.45.53_MD652_2_0218_lossless_alignedTo_MD652-F45-2016.12.17-05.56.31_MD652_2_0134_cropped/MD652-N73-2016.12.16-13.45.53_MD652_2_0218_lossless_alignedTo_MD652-F45-2016.12.17-05.56.31_MD652_2_0134_cropped_features.bp\n"
     ]
    },
    {
     "name": "stderr",
     "output_type": "stream",
     "text": [
      "Child returned 0\n",
      "1.87 seconds.\n"
     ]
    },
    {
     "name": "stdout",
     "output_type": "stream",
     "text": [
      "aws s3 cp /shared/CSHL_patch_features/inception-bn-blue/MD652/MD652-N73-2016.12.16-13.45.53_MD652_2_0218_lossless_alignedTo_MD652-F45-2016.12.17-05.56.31_MD652_2_0134_cropped/MD652-N73-2016.12.16-13.45.53_MD652_2_0218_lossless_alignedTo_MD652-F45-2016.12.17-05.56.31_MD652_2_0134_cropped_patch_locations.txt s3://mousebrainatlas-data/CSHL_patch_features/inception-bn-blue/MD652/MD652-N73-2016.12.16-13.45.53_MD652_2_0218_lossless_alignedTo_MD652-F45-2016.12.17-05.56.31_MD652_2_0134_cropped/MD652-N73-2016.12.16-13.45.53_MD652_2_0218_lossless_alignedTo_MD652-F45-2016.12.17-05.56.31_MD652_2_0134_cropped_patch_locations.txt\n"
     ]
    },
    {
     "name": "stderr",
     "output_type": "stream",
     "text": [
      "Child returned 0\n",
      "0.83 seconds.\n",
      "save: 3.43 seconds\n",
      "\n",
      "Section 364.\n",
      "locate patches: 0.02 seconds\n",
      "38975 samples.\n",
      "load image: 0.27 seconds\n",
      "extract patches: 3.73 seconds\n",
      "predict: 21.95 seconds\n"
     ]
    },
    {
     "name": "stdout",
     "output_type": "stream",
     "text": [
      "aws s3 cp /shared/CSHL_patch_features/inception-bn-blue/MD652/MD652-F73-2016.12.17-15.32.01_MD652_2_0218_lossless_alignedTo_MD652-F45-2016.12.17-05.56.31_MD652_2_0134_cropped/MD652-F73-2016.12.17-15.32.01_MD652_2_0218_lossless_alignedTo_MD652-F45-2016.12.17-05.56.31_MD652_2_0134_cropped_features.bp s3://mousebrainatlas-data/CSHL_patch_features/inception-bn-blue/MD652/MD652-F73-2016.12.17-15.32.01_MD652_2_0218_lossless_alignedTo_MD652-F45-2016.12.17-05.56.31_MD652_2_0134_cropped/MD652-F73-2016.12.17-15.32.01_MD652_2_0218_lossless_alignedTo_MD652-F45-2016.12.17-05.56.31_MD652_2_0134_cropped_features.bp\n"
     ]
    },
    {
     "name": "stderr",
     "output_type": "stream",
     "text": [
      "Child returned 0\n",
      "2.05 seconds.\n"
     ]
    },
    {
     "name": "stdout",
     "output_type": "stream",
     "text": [
      "aws s3 cp /shared/CSHL_patch_features/inception-bn-blue/MD652/MD652-F73-2016.12.17-15.32.01_MD652_2_0218_lossless_alignedTo_MD652-F45-2016.12.17-05.56.31_MD652_2_0134_cropped/MD652-F73-2016.12.17-15.32.01_MD652_2_0218_lossless_alignedTo_MD652-F45-2016.12.17-05.56.31_MD652_2_0134_cropped_patch_locations.txt s3://mousebrainatlas-data/CSHL_patch_features/inception-bn-blue/MD652/MD652-F73-2016.12.17-15.32.01_MD652_2_0218_lossless_alignedTo_MD652-F45-2016.12.17-05.56.31_MD652_2_0134_cropped/MD652-F73-2016.12.17-15.32.01_MD652_2_0218_lossless_alignedTo_MD652-F45-2016.12.17-05.56.31_MD652_2_0134_cropped_patch_locations.txt\n"
     ]
    },
    {
     "name": "stderr",
     "output_type": "stream",
     "text": [
      "Child returned 0\n",
      "0.73 seconds.\n",
      "save: 3.51 seconds\n",
      "\n",
      "Section 365.\n",
      "locate patches: 0.02 seconds\n",
      "39049 samples.\n",
      "load image: 0.27 seconds\n",
      "extract patches: 3.74 seconds\n",
      "predict: 22.21 seconds\n"
     ]
    },
    {
     "name": "stdout",
     "output_type": "stream",
     "text": [
      "aws s3 cp /shared/CSHL_patch_features/inception-bn-blue/MD652/MD652-N73-2016.12.16-13.45.53_MD652_3_0219_lossless_alignedTo_MD652-F45-2016.12.17-05.56.31_MD652_2_0134_cropped/MD652-N73-2016.12.16-13.45.53_MD652_3_0219_lossless_alignedTo_MD652-F45-2016.12.17-05.56.31_MD652_2_0134_cropped_features.bp s3://mousebrainatlas-data/CSHL_patch_features/inception-bn-blue/MD652/MD652-N73-2016.12.16-13.45.53_MD652_3_0219_lossless_alignedTo_MD652-F45-2016.12.17-05.56.31_MD652_2_0134_cropped/MD652-N73-2016.12.16-13.45.53_MD652_3_0219_lossless_alignedTo_MD652-F45-2016.12.17-05.56.31_MD652_2_0134_cropped_features.bp\n"
     ]
    },
    {
     "name": "stderr",
     "output_type": "stream",
     "text": [
      "Child returned 0\n",
      "1.92 seconds.\n"
     ]
    },
    {
     "name": "stdout",
     "output_type": "stream",
     "text": [
      "aws s3 cp /shared/CSHL_patch_features/inception-bn-blue/MD652/MD652-N73-2016.12.16-13.45.53_MD652_3_0219_lossless_alignedTo_MD652-F45-2016.12.17-05.56.31_MD652_2_0134_cropped/MD652-N73-2016.12.16-13.45.53_MD652_3_0219_lossless_alignedTo_MD652-F45-2016.12.17-05.56.31_MD652_2_0134_cropped_patch_locations.txt s3://mousebrainatlas-data/CSHL_patch_features/inception-bn-blue/MD652/MD652-N73-2016.12.16-13.45.53_MD652_3_0219_lossless_alignedTo_MD652-F45-2016.12.17-05.56.31_MD652_2_0134_cropped/MD652-N73-2016.12.16-13.45.53_MD652_3_0219_lossless_alignedTo_MD652-F45-2016.12.17-05.56.31_MD652_2_0134_cropped_patch_locations.txt\n"
     ]
    },
    {
     "name": "stderr",
     "output_type": "stream",
     "text": [
      "Child returned 0\n",
      "0.73 seconds.\n",
      "save: 3.38 seconds\n",
      "\n",
      "Section 366.\n",
      "locate patches: 0.02 seconds\n",
      "39402 samples.\n",
      "load image: 0.27 seconds\n",
      "extract patches: 3.79 seconds\n",
      "predict: 22.27 seconds\n"
     ]
    },
    {
     "name": "stdout",
     "output_type": "stream",
     "text": [
      "aws s3 cp /shared/CSHL_patch_features/inception-bn-blue/MD652/MD652-F73-2016.12.17-15.32.01_MD652_3_0219_lossless_alignedTo_MD652-F45-2016.12.17-05.56.31_MD652_2_0134_cropped/MD652-F73-2016.12.17-15.32.01_MD652_3_0219_lossless_alignedTo_MD652-F45-2016.12.17-05.56.31_MD652_2_0134_cropped_features.bp s3://mousebrainatlas-data/CSHL_patch_features/inception-bn-blue/MD652/MD652-F73-2016.12.17-15.32.01_MD652_3_0219_lossless_alignedTo_MD652-F45-2016.12.17-05.56.31_MD652_2_0134_cropped/MD652-F73-2016.12.17-15.32.01_MD652_3_0219_lossless_alignedTo_MD652-F45-2016.12.17-05.56.31_MD652_2_0134_cropped_features.bp\n"
     ]
    },
    {
     "name": "stderr",
     "output_type": "stream",
     "text": [
      "Child returned 0\n",
      "2.10 seconds.\n"
     ]
    },
    {
     "name": "stdout",
     "output_type": "stream",
     "text": [
      "aws s3 cp /shared/CSHL_patch_features/inception-bn-blue/MD652/MD652-F73-2016.12.17-15.32.01_MD652_3_0219_lossless_alignedTo_MD652-F45-2016.12.17-05.56.31_MD652_2_0134_cropped/MD652-F73-2016.12.17-15.32.01_MD652_3_0219_lossless_alignedTo_MD652-F45-2016.12.17-05.56.31_MD652_2_0134_cropped_patch_locations.txt s3://mousebrainatlas-data/CSHL_patch_features/inception-bn-blue/MD652/MD652-F73-2016.12.17-15.32.01_MD652_3_0219_lossless_alignedTo_MD652-F45-2016.12.17-05.56.31_MD652_2_0134_cropped/MD652-F73-2016.12.17-15.32.01_MD652_3_0219_lossless_alignedTo_MD652-F45-2016.12.17-05.56.31_MD652_2_0134_cropped_patch_locations.txt\n"
     ]
    },
    {
     "name": "stderr",
     "output_type": "stream",
     "text": [
      "Child returned 0\n",
      "0.83 seconds.\n",
      "save: 3.67 seconds\n",
      "\n",
      "Section 367.\n",
      "locate patches: 0.02 seconds\n",
      "37586 samples.\n",
      "load image: 0.27 seconds\n",
      "extract patches: 3.59 seconds\n",
      "predict: 21.16 seconds\n"
     ]
    },
    {
     "name": "stdout",
     "output_type": "stream",
     "text": [
      "aws s3 cp /shared/CSHL_patch_features/inception-bn-blue/MD652/MD652-N74-2016.12.16-13.50.52_MD652_1_0220_lossless_alignedTo_MD652-F45-2016.12.17-05.56.31_MD652_2_0134_cropped/MD652-N74-2016.12.16-13.50.52_MD652_1_0220_lossless_alignedTo_MD652-F45-2016.12.17-05.56.31_MD652_2_0134_cropped_features.bp s3://mousebrainatlas-data/CSHL_patch_features/inception-bn-blue/MD652/MD652-N74-2016.12.16-13.50.52_MD652_1_0220_lossless_alignedTo_MD652-F45-2016.12.17-05.56.31_MD652_2_0134_cropped/MD652-N74-2016.12.16-13.50.52_MD652_1_0220_lossless_alignedTo_MD652-F45-2016.12.17-05.56.31_MD652_2_0134_cropped_features.bp\n"
     ]
    },
    {
     "name": "stderr",
     "output_type": "stream",
     "text": [
      "Child returned 0\n",
      "2.25 seconds.\n"
     ]
    },
    {
     "name": "stdout",
     "output_type": "stream",
     "text": [
      "aws s3 cp /shared/CSHL_patch_features/inception-bn-blue/MD652/MD652-N74-2016.12.16-13.50.52_MD652_1_0220_lossless_alignedTo_MD652-F45-2016.12.17-05.56.31_MD652_2_0134_cropped/MD652-N74-2016.12.16-13.50.52_MD652_1_0220_lossless_alignedTo_MD652-F45-2016.12.17-05.56.31_MD652_2_0134_cropped_patch_locations.txt s3://mousebrainatlas-data/CSHL_patch_features/inception-bn-blue/MD652/MD652-N74-2016.12.16-13.50.52_MD652_1_0220_lossless_alignedTo_MD652-F45-2016.12.17-05.56.31_MD652_2_0134_cropped/MD652-N74-2016.12.16-13.50.52_MD652_1_0220_lossless_alignedTo_MD652-F45-2016.12.17-05.56.31_MD652_2_0134_cropped_patch_locations.txt\n"
     ]
    },
    {
     "name": "stderr",
     "output_type": "stream",
     "text": [
      "Child returned 0\n",
      "0.83 seconds.\n",
      "save: 3.78 seconds\n",
      "\n",
      "Section 368.\n",
      "locate patches: 0.02 seconds\n",
      "37236 samples.\n",
      "load image: 0.27 seconds\n",
      "extract patches: 3.55 seconds\n",
      "predict: 20.93 seconds\n"
     ]
    },
    {
     "name": "stdout",
     "output_type": "stream",
     "text": [
      "aws s3 cp /shared/CSHL_patch_features/inception-bn-blue/MD652/MD652-F74-2016.12.17-15.50.00_MD652_1_0220_lossless_alignedTo_MD652-F45-2016.12.17-05.56.31_MD652_2_0134_cropped/MD652-F74-2016.12.17-15.50.00_MD652_1_0220_lossless_alignedTo_MD652-F45-2016.12.17-05.56.31_MD652_2_0134_cropped_features.bp s3://mousebrainatlas-data/CSHL_patch_features/inception-bn-blue/MD652/MD652-F74-2016.12.17-15.50.00_MD652_1_0220_lossless_alignedTo_MD652-F45-2016.12.17-05.56.31_MD652_2_0134_cropped/MD652-F74-2016.12.17-15.50.00_MD652_1_0220_lossless_alignedTo_MD652-F45-2016.12.17-05.56.31_MD652_2_0134_cropped_features.bp\n"
     ]
    },
    {
     "name": "stderr",
     "output_type": "stream",
     "text": [
      "Child returned 0\n",
      "1.97 seconds.\n"
     ]
    },
    {
     "name": "stdout",
     "output_type": "stream",
     "text": [
      "aws s3 cp /shared/CSHL_patch_features/inception-bn-blue/MD652/MD652-F74-2016.12.17-15.50.00_MD652_1_0220_lossless_alignedTo_MD652-F45-2016.12.17-05.56.31_MD652_2_0134_cropped/MD652-F74-2016.12.17-15.50.00_MD652_1_0220_lossless_alignedTo_MD652-F45-2016.12.17-05.56.31_MD652_2_0134_cropped_patch_locations.txt s3://mousebrainatlas-data/CSHL_patch_features/inception-bn-blue/MD652/MD652-F74-2016.12.17-15.50.00_MD652_1_0220_lossless_alignedTo_MD652-F45-2016.12.17-05.56.31_MD652_2_0134_cropped/MD652-F74-2016.12.17-15.50.00_MD652_1_0220_lossless_alignedTo_MD652-F45-2016.12.17-05.56.31_MD652_2_0134_cropped_patch_locations.txt\n"
     ]
    },
    {
     "name": "stderr",
     "output_type": "stream",
     "text": [
      "Child returned 0\n",
      "0.79 seconds.\n",
      "save: 3.45 seconds\n",
      "\n",
      "Section 369.\n",
      "locate patches: 0.02 seconds\n",
      "39556 samples.\n",
      "load image: 0.27 seconds\n",
      "extract patches: 3.78 seconds\n",
      "predict: 22.34 seconds\n"
     ]
    },
    {
     "name": "stdout",
     "output_type": "stream",
     "text": [
      "aws s3 cp /shared/CSHL_patch_features/inception-bn-blue/MD652/MD652-N74-2016.12.16-13.50.52_MD652_2_0221_lossless_alignedTo_MD652-F45-2016.12.17-05.56.31_MD652_2_0134_cropped/MD652-N74-2016.12.16-13.50.52_MD652_2_0221_lossless_alignedTo_MD652-F45-2016.12.17-05.56.31_MD652_2_0134_cropped_features.bp s3://mousebrainatlas-data/CSHL_patch_features/inception-bn-blue/MD652/MD652-N74-2016.12.16-13.50.52_MD652_2_0221_lossless_alignedTo_MD652-F45-2016.12.17-05.56.31_MD652_2_0134_cropped/MD652-N74-2016.12.16-13.50.52_MD652_2_0221_lossless_alignedTo_MD652-F45-2016.12.17-05.56.31_MD652_2_0134_cropped_features.bp\n"
     ]
    },
    {
     "name": "stderr",
     "output_type": "stream",
     "text": [
      "Child returned 0\n",
      "1.92 seconds.\n"
     ]
    },
    {
     "name": "stdout",
     "output_type": "stream",
     "text": [
      "aws s3 cp /shared/CSHL_patch_features/inception-bn-blue/MD652/MD652-N74-2016.12.16-13.50.52_MD652_2_0221_lossless_alignedTo_MD652-F45-2016.12.17-05.56.31_MD652_2_0134_cropped/MD652-N74-2016.12.16-13.50.52_MD652_2_0221_lossless_alignedTo_MD652-F45-2016.12.17-05.56.31_MD652_2_0134_cropped_patch_locations.txt s3://mousebrainatlas-data/CSHL_patch_features/inception-bn-blue/MD652/MD652-N74-2016.12.16-13.50.52_MD652_2_0221_lossless_alignedTo_MD652-F45-2016.12.17-05.56.31_MD652_2_0134_cropped/MD652-N74-2016.12.16-13.50.52_MD652_2_0221_lossless_alignedTo_MD652-F45-2016.12.17-05.56.31_MD652_2_0134_cropped_patch_locations.txt\n"
     ]
    },
    {
     "name": "stderr",
     "output_type": "stream",
     "text": [
      "Child returned 0\n",
      "0.79 seconds.\n",
      "save: 3.45 seconds\n",
      "\n",
      "Section 370.\n",
      "locate patches: 0.02 seconds\n",
      "36375 samples.\n",
      "load image: 0.27 seconds\n",
      "extract patches: 3.47 seconds\n",
      "predict: 20.72 seconds\n"
     ]
    },
    {
     "name": "stdout",
     "output_type": "stream",
     "text": [
      "aws s3 cp /shared/CSHL_patch_features/inception-bn-blue/MD652/MD652-F74-2016.12.17-15.50.00_MD652_2_0221_lossless_alignedTo_MD652-F45-2016.12.17-05.56.31_MD652_2_0134_cropped/MD652-F74-2016.12.17-15.50.00_MD652_2_0221_lossless_alignedTo_MD652-F45-2016.12.17-05.56.31_MD652_2_0134_cropped_features.bp s3://mousebrainatlas-data/CSHL_patch_features/inception-bn-blue/MD652/MD652-F74-2016.12.17-15.50.00_MD652_2_0221_lossless_alignedTo_MD652-F45-2016.12.17-05.56.31_MD652_2_0134_cropped/MD652-F74-2016.12.17-15.50.00_MD652_2_0221_lossless_alignedTo_MD652-F45-2016.12.17-05.56.31_MD652_2_0134_cropped_features.bp\n"
     ]
    },
    {
     "name": "stderr",
     "output_type": "stream",
     "text": [
      "Child returned 0\n",
      "1.92 seconds.\n"
     ]
    },
    {
     "name": "stdout",
     "output_type": "stream",
     "text": [
      "aws s3 cp /shared/CSHL_patch_features/inception-bn-blue/MD652/MD652-F74-2016.12.17-15.50.00_MD652_2_0221_lossless_alignedTo_MD652-F45-2016.12.17-05.56.31_MD652_2_0134_cropped/MD652-F74-2016.12.17-15.50.00_MD652_2_0221_lossless_alignedTo_MD652-F45-2016.12.17-05.56.31_MD652_2_0134_cropped_patch_locations.txt s3://mousebrainatlas-data/CSHL_patch_features/inception-bn-blue/MD652/MD652-F74-2016.12.17-15.50.00_MD652_2_0221_lossless_alignedTo_MD652-F45-2016.12.17-05.56.31_MD652_2_0134_cropped/MD652-F74-2016.12.17-15.50.00_MD652_2_0221_lossless_alignedTo_MD652-F45-2016.12.17-05.56.31_MD652_2_0134_cropped_patch_locations.txt\n"
     ]
    },
    {
     "name": "stderr",
     "output_type": "stream",
     "text": [
      "Child returned 0\n",
      "0.84 seconds.\n",
      "save: 3.43 seconds\n",
      "\n",
      "Section 371.\n",
      "locate patches: 0.02 seconds\n",
      "37643 samples.\n",
      "load image: 0.27 seconds\n",
      "extract patches: 4.21 seconds\n",
      "predict: 21.33 seconds\n"
     ]
    },
    {
     "name": "stdout",
     "output_type": "stream",
     "text": [
      "aws s3 cp /shared/CSHL_patch_features/inception-bn-blue/MD652/MD652-N74-2016.12.16-13.50.52_MD652_3_0222_lossless_alignedTo_MD652-F45-2016.12.17-05.56.31_MD652_2_0134_cropped/MD652-N74-2016.12.16-13.50.52_MD652_3_0222_lossless_alignedTo_MD652-F45-2016.12.17-05.56.31_MD652_2_0134_cropped_features.bp s3://mousebrainatlas-data/CSHL_patch_features/inception-bn-blue/MD652/MD652-N74-2016.12.16-13.50.52_MD652_3_0222_lossless_alignedTo_MD652-F45-2016.12.17-05.56.31_MD652_2_0134_cropped/MD652-N74-2016.12.16-13.50.52_MD652_3_0222_lossless_alignedTo_MD652-F45-2016.12.17-05.56.31_MD652_2_0134_cropped_features.bp\n"
     ]
    },
    {
     "name": "stderr",
     "output_type": "stream",
     "text": [
      "Child returned 0\n",
      "2.26 seconds.\n"
     ]
    },
    {
     "name": "stdout",
     "output_type": "stream",
     "text": [
      "aws s3 cp /shared/CSHL_patch_features/inception-bn-blue/MD652/MD652-N74-2016.12.16-13.50.52_MD652_3_0222_lossless_alignedTo_MD652-F45-2016.12.17-05.56.31_MD652_2_0134_cropped/MD652-N74-2016.12.16-13.50.52_MD652_3_0222_lossless_alignedTo_MD652-F45-2016.12.17-05.56.31_MD652_2_0134_cropped_patch_locations.txt s3://mousebrainatlas-data/CSHL_patch_features/inception-bn-blue/MD652/MD652-N74-2016.12.16-13.50.52_MD652_3_0222_lossless_alignedTo_MD652-F45-2016.12.17-05.56.31_MD652_2_0134_cropped/MD652-N74-2016.12.16-13.50.52_MD652_3_0222_lossless_alignedTo_MD652-F45-2016.12.17-05.56.31_MD652_2_0134_cropped_patch_locations.txt\n"
     ]
    },
    {
     "name": "stderr",
     "output_type": "stream",
     "text": [
      "Child returned 0\n",
      "0.84 seconds.\n",
      "save: 3.80 seconds\n",
      "\n",
      "Section 372.\n",
      "locate patches: 0.02 seconds\n",
      "36515 samples.\n",
      "load image: 0.27 seconds\n",
      "extract patches: 3.49 seconds\n",
      "predict: 20.52 seconds\n"
     ]
    },
    {
     "name": "stdout",
     "output_type": "stream",
     "text": [
      "aws s3 cp /shared/CSHL_patch_features/inception-bn-blue/MD652/MD652-F74-2016.12.17-15.50.00_MD652_3_0222_lossless_alignedTo_MD652-F45-2016.12.17-05.56.31_MD652_2_0134_cropped/MD652-F74-2016.12.17-15.50.00_MD652_3_0222_lossless_alignedTo_MD652-F45-2016.12.17-05.56.31_MD652_2_0134_cropped_features.bp s3://mousebrainatlas-data/CSHL_patch_features/inception-bn-blue/MD652/MD652-F74-2016.12.17-15.50.00_MD652_3_0222_lossless_alignedTo_MD652-F45-2016.12.17-05.56.31_MD652_2_0134_cropped/MD652-F74-2016.12.17-15.50.00_MD652_3_0222_lossless_alignedTo_MD652-F45-2016.12.17-05.56.31_MD652_2_0134_cropped_features.bp\n"
     ]
    },
    {
     "name": "stderr",
     "output_type": "stream",
     "text": [
      "Child returned 0\n",
      "1.76 seconds.\n"
     ]
    },
    {
     "name": "stdout",
     "output_type": "stream",
     "text": [
      "aws s3 cp /shared/CSHL_patch_features/inception-bn-blue/MD652/MD652-F74-2016.12.17-15.50.00_MD652_3_0222_lossless_alignedTo_MD652-F45-2016.12.17-05.56.31_MD652_2_0134_cropped/MD652-F74-2016.12.17-15.50.00_MD652_3_0222_lossless_alignedTo_MD652-F45-2016.12.17-05.56.31_MD652_2_0134_cropped_patch_locations.txt s3://mousebrainatlas-data/CSHL_patch_features/inception-bn-blue/MD652/MD652-F74-2016.12.17-15.50.00_MD652_3_0222_lossless_alignedTo_MD652-F45-2016.12.17-05.56.31_MD652_2_0134_cropped/MD652-F74-2016.12.17-15.50.00_MD652_3_0222_lossless_alignedTo_MD652-F45-2016.12.17-05.56.31_MD652_2_0134_cropped_patch_locations.txt\n"
     ]
    },
    {
     "name": "stderr",
     "output_type": "stream",
     "text": [
      "Child returned 0\n",
      "0.78 seconds.\n",
      "save: 3.23 seconds\n",
      "\n",
      "Section 373.\n",
      "locate patches: 0.02 seconds\n",
      "36252 samples.\n",
      "load image: 0.27 seconds\n",
      "extract patches: 3.48 seconds\n",
      "predict: 20.46 seconds\n"
     ]
    },
    {
     "name": "stdout",
     "output_type": "stream",
     "text": [
      "aws s3 cp /shared/CSHL_patch_features/inception-bn-blue/MD652/MD652-N75-2016.12.16-13.55.48_MD652_1_0223_lossless_alignedTo_MD652-F45-2016.12.17-05.56.31_MD652_2_0134_cropped/MD652-N75-2016.12.16-13.55.48_MD652_1_0223_lossless_alignedTo_MD652-F45-2016.12.17-05.56.31_MD652_2_0134_cropped_features.bp s3://mousebrainatlas-data/CSHL_patch_features/inception-bn-blue/MD652/MD652-N75-2016.12.16-13.55.48_MD652_1_0223_lossless_alignedTo_MD652-F45-2016.12.17-05.56.31_MD652_2_0134_cropped/MD652-N75-2016.12.16-13.55.48_MD652_1_0223_lossless_alignedTo_MD652-F45-2016.12.17-05.56.31_MD652_2_0134_cropped_features.bp\n"
     ]
    },
    {
     "name": "stderr",
     "output_type": "stream",
     "text": [
      "Child returned 0\n",
      "1.80 seconds.\n"
     ]
    },
    {
     "name": "stdout",
     "output_type": "stream",
     "text": [
      "aws s3 cp /shared/CSHL_patch_features/inception-bn-blue/MD652/MD652-N75-2016.12.16-13.55.48_MD652_1_0223_lossless_alignedTo_MD652-F45-2016.12.17-05.56.31_MD652_2_0134_cropped/MD652-N75-2016.12.16-13.55.48_MD652_1_0223_lossless_alignedTo_MD652-F45-2016.12.17-05.56.31_MD652_2_0134_cropped_patch_locations.txt s3://mousebrainatlas-data/CSHL_patch_features/inception-bn-blue/MD652/MD652-N75-2016.12.16-13.55.48_MD652_1_0223_lossless_alignedTo_MD652-F45-2016.12.17-05.56.31_MD652_2_0134_cropped/MD652-N75-2016.12.16-13.55.48_MD652_1_0223_lossless_alignedTo_MD652-F45-2016.12.17-05.56.31_MD652_2_0134_cropped_patch_locations.txt\n"
     ]
    },
    {
     "name": "stderr",
     "output_type": "stream",
     "text": [
      "Child returned 0\n",
      "0.78 seconds.\n",
      "save: 3.26 seconds\n",
      "\n",
      "Section 374.\n",
      "locate patches: 0.02 seconds\n",
      "35001 samples.\n",
      "load image: 0.27 seconds\n",
      "extract patches: 3.36 seconds\n",
      "predict: 19.79 seconds\n"
     ]
    },
    {
     "name": "stdout",
     "output_type": "stream",
     "text": [
      "aws s3 cp /shared/CSHL_patch_features/inception-bn-blue/MD652/MD652-F75-2016.12.17-16.07.27_MD652_1_0223_lossless_alignedTo_MD652-F45-2016.12.17-05.56.31_MD652_2_0134_cropped/MD652-F75-2016.12.17-16.07.27_MD652_1_0223_lossless_alignedTo_MD652-F45-2016.12.17-05.56.31_MD652_2_0134_cropped_features.bp s3://mousebrainatlas-data/CSHL_patch_features/inception-bn-blue/MD652/MD652-F75-2016.12.17-16.07.27_MD652_1_0223_lossless_alignedTo_MD652-F45-2016.12.17-05.56.31_MD652_2_0134_cropped/MD652-F75-2016.12.17-16.07.27_MD652_1_0223_lossless_alignedTo_MD652-F45-2016.12.17-05.56.31_MD652_2_0134_cropped_features.bp\n"
     ]
    },
    {
     "name": "stderr",
     "output_type": "stream",
     "text": [
      "Child returned 0\n",
      "1.81 seconds.\n"
     ]
    },
    {
     "name": "stdout",
     "output_type": "stream",
     "text": [
      "aws s3 cp /shared/CSHL_patch_features/inception-bn-blue/MD652/MD652-F75-2016.12.17-16.07.27_MD652_1_0223_lossless_alignedTo_MD652-F45-2016.12.17-05.56.31_MD652_2_0134_cropped/MD652-F75-2016.12.17-16.07.27_MD652_1_0223_lossless_alignedTo_MD652-F45-2016.12.17-05.56.31_MD652_2_0134_cropped_patch_locations.txt s3://mousebrainatlas-data/CSHL_patch_features/inception-bn-blue/MD652/MD652-F75-2016.12.17-16.07.27_MD652_1_0223_lossless_alignedTo_MD652-F45-2016.12.17-05.56.31_MD652_2_0134_cropped/MD652-F75-2016.12.17-16.07.27_MD652_1_0223_lossless_alignedTo_MD652-F45-2016.12.17-05.56.31_MD652_2_0134_cropped_patch_locations.txt\n"
     ]
    },
    {
     "name": "stderr",
     "output_type": "stream",
     "text": [
      "Child returned 0\n",
      "0.78 seconds.\n",
      "save: 3.25 seconds\n",
      "\n",
      "Section 375.\n",
      "locate patches: 0.02 seconds\n",
      "35744 samples.\n",
      "load image: 0.27 seconds\n",
      "extract patches: 3.43 seconds\n",
      "predict: 20.36 seconds\n"
     ]
    },
    {
     "name": "stdout",
     "output_type": "stream",
     "text": [
      "aws s3 cp /shared/CSHL_patch_features/inception-bn-blue/MD652/MD652-N75-2016.12.16-13.55.48_MD652_2_0224_lossless_alignedTo_MD652-F45-2016.12.17-05.56.31_MD652_2_0134_cropped/MD652-N75-2016.12.16-13.55.48_MD652_2_0224_lossless_alignedTo_MD652-F45-2016.12.17-05.56.31_MD652_2_0134_cropped_features.bp s3://mousebrainatlas-data/CSHL_patch_features/inception-bn-blue/MD652/MD652-N75-2016.12.16-13.55.48_MD652_2_0224_lossless_alignedTo_MD652-F45-2016.12.17-05.56.31_MD652_2_0134_cropped/MD652-N75-2016.12.16-13.55.48_MD652_2_0224_lossless_alignedTo_MD652-F45-2016.12.17-05.56.31_MD652_2_0134_cropped_features.bp\n"
     ]
    },
    {
     "name": "stderr",
     "output_type": "stream",
     "text": [
      "Child returned 0\n",
      "1.77 seconds.\n"
     ]
    },
    {
     "name": "stdout",
     "output_type": "stream",
     "text": [
      "aws s3 cp /shared/CSHL_patch_features/inception-bn-blue/MD652/MD652-N75-2016.12.16-13.55.48_MD652_2_0224_lossless_alignedTo_MD652-F45-2016.12.17-05.56.31_MD652_2_0134_cropped/MD652-N75-2016.12.16-13.55.48_MD652_2_0224_lossless_alignedTo_MD652-F45-2016.12.17-05.56.31_MD652_2_0134_cropped_patch_locations.txt s3://mousebrainatlas-data/CSHL_patch_features/inception-bn-blue/MD652/MD652-N75-2016.12.16-13.55.48_MD652_2_0224_lossless_alignedTo_MD652-F45-2016.12.17-05.56.31_MD652_2_0134_cropped/MD652-N75-2016.12.16-13.55.48_MD652_2_0224_lossless_alignedTo_MD652-F45-2016.12.17-05.56.31_MD652_2_0134_cropped_patch_locations.txt\n"
     ]
    },
    {
     "name": "stderr",
     "output_type": "stream",
     "text": [
      "Child returned 0\n",
      "0.78 seconds.\n",
      "save: 3.22 seconds\n",
      "\n",
      "Section 376.\n",
      "locate patches: 0.02 seconds\n",
      "35508 samples.\n",
      "load image: 0.27 seconds\n",
      "extract patches: 3.40 seconds\n",
      "predict: 20.12 seconds\n"
     ]
    },
    {
     "name": "stdout",
     "output_type": "stream",
     "text": [
      "aws s3 cp /shared/CSHL_patch_features/inception-bn-blue/MD652/MD652-F75-2016.12.17-16.07.27_MD652_2_0224_lossless_alignedTo_MD652-F45-2016.12.17-05.56.31_MD652_2_0134_cropped/MD652-F75-2016.12.17-16.07.27_MD652_2_0224_lossless_alignedTo_MD652-F45-2016.12.17-05.56.31_MD652_2_0134_cropped_features.bp s3://mousebrainatlas-data/CSHL_patch_features/inception-bn-blue/MD652/MD652-F75-2016.12.17-16.07.27_MD652_2_0224_lossless_alignedTo_MD652-F45-2016.12.17-05.56.31_MD652_2_0134_cropped/MD652-F75-2016.12.17-16.07.27_MD652_2_0224_lossless_alignedTo_MD652-F45-2016.12.17-05.56.31_MD652_2_0134_cropped_features.bp\n"
     ]
    },
    {
     "name": "stderr",
     "output_type": "stream",
     "text": [
      "Child returned 0\n",
      "1.90 seconds.\n"
     ]
    },
    {
     "name": "stdout",
     "output_type": "stream",
     "text": [
      "aws s3 cp /shared/CSHL_patch_features/inception-bn-blue/MD652/MD652-F75-2016.12.17-16.07.27_MD652_2_0224_lossless_alignedTo_MD652-F45-2016.12.17-05.56.31_MD652_2_0134_cropped/MD652-F75-2016.12.17-16.07.27_MD652_2_0224_lossless_alignedTo_MD652-F45-2016.12.17-05.56.31_MD652_2_0134_cropped_patch_locations.txt s3://mousebrainatlas-data/CSHL_patch_features/inception-bn-blue/MD652/MD652-F75-2016.12.17-16.07.27_MD652_2_0224_lossless_alignedTo_MD652-F45-2016.12.17-05.56.31_MD652_2_0134_cropped/MD652-F75-2016.12.17-16.07.27_MD652_2_0224_lossless_alignedTo_MD652-F45-2016.12.17-05.56.31_MD652_2_0134_cropped_patch_locations.txt\n"
     ]
    },
    {
     "name": "stderr",
     "output_type": "stream",
     "text": [
      "Child returned 0\n",
      "0.78 seconds.\n",
      "save: 3.35 seconds\n",
      "\n",
      "Section 377.\n",
      "locate patches: 0.02 seconds\n",
      "35970 samples.\n",
      "load image: 0.27 seconds\n",
      "extract patches: 3.45 seconds\n",
      "predict: 20.39 seconds\n"
     ]
    },
    {
     "name": "stdout",
     "output_type": "stream",
     "text": [
      "aws s3 cp /shared/CSHL_patch_features/inception-bn-blue/MD652/MD652-N75-2016.12.16-13.55.48_MD652_3_0225_lossless_alignedTo_MD652-F45-2016.12.17-05.56.31_MD652_2_0134_cropped/MD652-N75-2016.12.16-13.55.48_MD652_3_0225_lossless_alignedTo_MD652-F45-2016.12.17-05.56.31_MD652_2_0134_cropped_features.bp s3://mousebrainatlas-data/CSHL_patch_features/inception-bn-blue/MD652/MD652-N75-2016.12.16-13.55.48_MD652_3_0225_lossless_alignedTo_MD652-F45-2016.12.17-05.56.31_MD652_2_0134_cropped/MD652-N75-2016.12.16-13.55.48_MD652_3_0225_lossless_alignedTo_MD652-F45-2016.12.17-05.56.31_MD652_2_0134_cropped_features.bp\n"
     ]
    },
    {
     "name": "stderr",
     "output_type": "stream",
     "text": [
      "Child returned 0\n",
      "1.80 seconds.\n"
     ]
    },
    {
     "name": "stdout",
     "output_type": "stream",
     "text": [
      "aws s3 cp /shared/CSHL_patch_features/inception-bn-blue/MD652/MD652-N75-2016.12.16-13.55.48_MD652_3_0225_lossless_alignedTo_MD652-F45-2016.12.17-05.56.31_MD652_2_0134_cropped/MD652-N75-2016.12.16-13.55.48_MD652_3_0225_lossless_alignedTo_MD652-F45-2016.12.17-05.56.31_MD652_2_0134_cropped_patch_locations.txt s3://mousebrainatlas-data/CSHL_patch_features/inception-bn-blue/MD652/MD652-N75-2016.12.16-13.55.48_MD652_3_0225_lossless_alignedTo_MD652-F45-2016.12.17-05.56.31_MD652_2_0134_cropped/MD652-N75-2016.12.16-13.55.48_MD652_3_0225_lossless_alignedTo_MD652-F45-2016.12.17-05.56.31_MD652_2_0134_cropped_patch_locations.txt\n"
     ]
    },
    {
     "name": "stderr",
     "output_type": "stream",
     "text": [
      "Child returned 0\n",
      "0.78 seconds.\n",
      "save: 3.26 seconds\n",
      "\n",
      "Section 378.\n",
      "locate patches: 0.02 seconds\n",
      "35542 samples.\n",
      "load image: 0.27 seconds\n",
      "extract patches: 3.43 seconds\n",
      "predict: 20.10 seconds\n"
     ]
    },
    {
     "name": "stdout",
     "output_type": "stream",
     "text": [
      "aws s3 cp /shared/CSHL_patch_features/inception-bn-blue/MD652/MD652-F75-2016.12.17-16.07.27_MD652_3_0225_lossless_alignedTo_MD652-F45-2016.12.17-05.56.31_MD652_2_0134_cropped/MD652-F75-2016.12.17-16.07.27_MD652_3_0225_lossless_alignedTo_MD652-F45-2016.12.17-05.56.31_MD652_2_0134_cropped_features.bp s3://mousebrainatlas-data/CSHL_patch_features/inception-bn-blue/MD652/MD652-F75-2016.12.17-16.07.27_MD652_3_0225_lossless_alignedTo_MD652-F45-2016.12.17-05.56.31_MD652_2_0134_cropped/MD652-F75-2016.12.17-16.07.27_MD652_3_0225_lossless_alignedTo_MD652-F45-2016.12.17-05.56.31_MD652_2_0134_cropped_features.bp\n"
     ]
    },
    {
     "name": "stderr",
     "output_type": "stream",
     "text": [
      "Child returned 0\n",
      "1.65 seconds.\n"
     ]
    },
    {
     "name": "stdout",
     "output_type": "stream",
     "text": [
      "aws s3 cp /shared/CSHL_patch_features/inception-bn-blue/MD652/MD652-F75-2016.12.17-16.07.27_MD652_3_0225_lossless_alignedTo_MD652-F45-2016.12.17-05.56.31_MD652_2_0134_cropped/MD652-F75-2016.12.17-16.07.27_MD652_3_0225_lossless_alignedTo_MD652-F45-2016.12.17-05.56.31_MD652_2_0134_cropped_patch_locations.txt s3://mousebrainatlas-data/CSHL_patch_features/inception-bn-blue/MD652/MD652-F75-2016.12.17-16.07.27_MD652_3_0225_lossless_alignedTo_MD652-F45-2016.12.17-05.56.31_MD652_2_0134_cropped/MD652-F75-2016.12.17-16.07.27_MD652_3_0225_lossless_alignedTo_MD652-F45-2016.12.17-05.56.31_MD652_2_0134_cropped_patch_locations.txt\n"
     ]
    },
    {
     "name": "stderr",
     "output_type": "stream",
     "text": [
      "Child returned 0\n",
      "0.78 seconds.\n",
      "save: 3.10 seconds\n",
      "\n",
      "Section 379.\n",
      "locate patches: 0.02 seconds\n",
      "34945 samples.\n",
      "load image: 0.27 seconds\n",
      "extract patches: 3.36 seconds\n",
      "predict: 19.89 seconds\n"
     ]
    },
    {
     "name": "stdout",
     "output_type": "stream",
     "text": [
      "aws s3 cp /shared/CSHL_patch_features/inception-bn-blue/MD652/MD652-N76-2016.12.16-14.00.44_MD652_1_0226_lossless_alignedTo_MD652-F45-2016.12.17-05.56.31_MD652_2_0134_cropped/MD652-N76-2016.12.16-14.00.44_MD652_1_0226_lossless_alignedTo_MD652-F45-2016.12.17-05.56.31_MD652_2_0134_cropped_features.bp s3://mousebrainatlas-data/CSHL_patch_features/inception-bn-blue/MD652/MD652-N76-2016.12.16-14.00.44_MD652_1_0226_lossless_alignedTo_MD652-F45-2016.12.17-05.56.31_MD652_2_0134_cropped/MD652-N76-2016.12.16-14.00.44_MD652_1_0226_lossless_alignedTo_MD652-F45-2016.12.17-05.56.31_MD652_2_0134_cropped_features.bp\n"
     ]
    },
    {
     "name": "stderr",
     "output_type": "stream",
     "text": [
      "Child returned 0\n",
      "1.70 seconds.\n"
     ]
    },
    {
     "name": "stdout",
     "output_type": "stream",
     "text": [
      "aws s3 cp /shared/CSHL_patch_features/inception-bn-blue/MD652/MD652-N76-2016.12.16-14.00.44_MD652_1_0226_lossless_alignedTo_MD652-F45-2016.12.17-05.56.31_MD652_2_0134_cropped/MD652-N76-2016.12.16-14.00.44_MD652_1_0226_lossless_alignedTo_MD652-F45-2016.12.17-05.56.31_MD652_2_0134_cropped_patch_locations.txt s3://mousebrainatlas-data/CSHL_patch_features/inception-bn-blue/MD652/MD652-N76-2016.12.16-14.00.44_MD652_1_0226_lossless_alignedTo_MD652-F45-2016.12.17-05.56.31_MD652_2_0134_cropped/MD652-N76-2016.12.16-14.00.44_MD652_1_0226_lossless_alignedTo_MD652-F45-2016.12.17-05.56.31_MD652_2_0134_cropped_patch_locations.txt\n"
     ]
    },
    {
     "name": "stderr",
     "output_type": "stream",
     "text": [
      "Child returned 0\n",
      "0.78 seconds.\n",
      "save: 3.13 seconds\n",
      "\n",
      "Section 380.\n",
      "locate patches: 0.02 seconds\n",
      "34930 samples.\n",
      "load image: 0.27 seconds\n",
      "extract patches: 3.36 seconds\n",
      "predict: 19.66 seconds\n"
     ]
    },
    {
     "name": "stdout",
     "output_type": "stream",
     "text": [
      "aws s3 cp /shared/CSHL_patch_features/inception-bn-blue/MD652/MD652-F76-2016.12.17-16.24.34_MD652_1_0226_lossless_alignedTo_MD652-F45-2016.12.17-05.56.31_MD652_2_0134_cropped/MD652-F76-2016.12.17-16.24.34_MD652_1_0226_lossless_alignedTo_MD652-F45-2016.12.17-05.56.31_MD652_2_0134_cropped_features.bp s3://mousebrainatlas-data/CSHL_patch_features/inception-bn-blue/MD652/MD652-F76-2016.12.17-16.24.34_MD652_1_0226_lossless_alignedTo_MD652-F45-2016.12.17-05.56.31_MD652_2_0134_cropped/MD652-F76-2016.12.17-16.24.34_MD652_1_0226_lossless_alignedTo_MD652-F45-2016.12.17-05.56.31_MD652_2_0134_cropped_features.bp\n"
     ]
    },
    {
     "name": "stderr",
     "output_type": "stream",
     "text": [
      "Child returned 0\n",
      "1.85 seconds.\n"
     ]
    },
    {
     "name": "stdout",
     "output_type": "stream",
     "text": [
      "aws s3 cp /shared/CSHL_patch_features/inception-bn-blue/MD652/MD652-F76-2016.12.17-16.24.34_MD652_1_0226_lossless_alignedTo_MD652-F45-2016.12.17-05.56.31_MD652_2_0134_cropped/MD652-F76-2016.12.17-16.24.34_MD652_1_0226_lossless_alignedTo_MD652-F45-2016.12.17-05.56.31_MD652_2_0134_cropped_patch_locations.txt s3://mousebrainatlas-data/CSHL_patch_features/inception-bn-blue/MD652/MD652-F76-2016.12.17-16.24.34_MD652_1_0226_lossless_alignedTo_MD652-F45-2016.12.17-05.56.31_MD652_2_0134_cropped/MD652-F76-2016.12.17-16.24.34_MD652_1_0226_lossless_alignedTo_MD652-F45-2016.12.17-05.56.31_MD652_2_0134_cropped_patch_locations.txt\n"
     ]
    },
    {
     "name": "stderr",
     "output_type": "stream",
     "text": [
      "Child returned 0\n",
      "0.73 seconds.\n",
      "save: 3.24 seconds\n",
      "\n",
      "Section 381.\n",
      "locate patches: 0.02 seconds\n",
      "35023 samples.\n",
      "load image: 0.27 seconds\n",
      "extract patches: 3.35 seconds\n",
      "predict: 19.71 seconds\n"
     ]
    },
    {
     "name": "stdout",
     "output_type": "stream",
     "text": [
      "aws s3 cp /shared/CSHL_patch_features/inception-bn-blue/MD652/MD652-N76-2016.12.16-14.00.44_MD652_2_0227_lossless_alignedTo_MD652-F45-2016.12.17-05.56.31_MD652_2_0134_cropped/MD652-N76-2016.12.16-14.00.44_MD652_2_0227_lossless_alignedTo_MD652-F45-2016.12.17-05.56.31_MD652_2_0134_cropped_features.bp s3://mousebrainatlas-data/CSHL_patch_features/inception-bn-blue/MD652/MD652-N76-2016.12.16-14.00.44_MD652_2_0227_lossless_alignedTo_MD652-F45-2016.12.17-05.56.31_MD652_2_0134_cropped/MD652-N76-2016.12.16-14.00.44_MD652_2_0227_lossless_alignedTo_MD652-F45-2016.12.17-05.56.31_MD652_2_0134_cropped_features.bp\n"
     ]
    },
    {
     "name": "stderr",
     "output_type": "stream",
     "text": [
      "Child returned 0\n",
      "2.00 seconds.\n"
     ]
    },
    {
     "name": "stdout",
     "output_type": "stream",
     "text": [
      "aws s3 cp /shared/CSHL_patch_features/inception-bn-blue/MD652/MD652-N76-2016.12.16-14.00.44_MD652_2_0227_lossless_alignedTo_MD652-F45-2016.12.17-05.56.31_MD652_2_0134_cropped/MD652-N76-2016.12.16-14.00.44_MD652_2_0227_lossless_alignedTo_MD652-F45-2016.12.17-05.56.31_MD652_2_0134_cropped_patch_locations.txt s3://mousebrainatlas-data/CSHL_patch_features/inception-bn-blue/MD652/MD652-N76-2016.12.16-14.00.44_MD652_2_0227_lossless_alignedTo_MD652-F45-2016.12.17-05.56.31_MD652_2_0134_cropped/MD652-N76-2016.12.16-14.00.44_MD652_2_0227_lossless_alignedTo_MD652-F45-2016.12.17-05.56.31_MD652_2_0134_cropped_patch_locations.txt\n"
     ]
    },
    {
     "name": "stderr",
     "output_type": "stream",
     "text": [
      "Child returned 0\n",
      "0.78 seconds.\n",
      "save: 3.43 seconds\n",
      "\n",
      "Section 382.\n",
      "locate patches: 0.02 seconds\n",
      "34679 samples.\n",
      "load image: 0.27 seconds\n",
      "extract patches: 3.31 seconds\n",
      "predict: 19.48 seconds\n"
     ]
    },
    {
     "name": "stdout",
     "output_type": "stream",
     "text": [
      "aws s3 cp /shared/CSHL_patch_features/inception-bn-blue/MD652/MD652-F76-2016.12.17-16.24.34_MD652_2_0227_lossless_alignedTo_MD652-F45-2016.12.17-05.56.31_MD652_2_0134_cropped/MD652-F76-2016.12.17-16.24.34_MD652_2_0227_lossless_alignedTo_MD652-F45-2016.12.17-05.56.31_MD652_2_0134_cropped_features.bp s3://mousebrainatlas-data/CSHL_patch_features/inception-bn-blue/MD652/MD652-F76-2016.12.17-16.24.34_MD652_2_0227_lossless_alignedTo_MD652-F45-2016.12.17-05.56.31_MD652_2_0134_cropped/MD652-F76-2016.12.17-16.24.34_MD652_2_0227_lossless_alignedTo_MD652-F45-2016.12.17-05.56.31_MD652_2_0134_cropped_features.bp\n"
     ]
    },
    {
     "name": "stderr",
     "output_type": "stream",
     "text": [
      "Child returned 0\n",
      "2.21 seconds.\n"
     ]
    },
    {
     "name": "stdout",
     "output_type": "stream",
     "text": [
      "aws s3 cp /shared/CSHL_patch_features/inception-bn-blue/MD652/MD652-F76-2016.12.17-16.24.34_MD652_2_0227_lossless_alignedTo_MD652-F45-2016.12.17-05.56.31_MD652_2_0134_cropped/MD652-F76-2016.12.17-16.24.34_MD652_2_0227_lossless_alignedTo_MD652-F45-2016.12.17-05.56.31_MD652_2_0134_cropped_patch_locations.txt s3://mousebrainatlas-data/CSHL_patch_features/inception-bn-blue/MD652/MD652-F76-2016.12.17-16.24.34_MD652_2_0227_lossless_alignedTo_MD652-F45-2016.12.17-05.56.31_MD652_2_0134_cropped/MD652-F76-2016.12.17-16.24.34_MD652_2_0227_lossless_alignedTo_MD652-F45-2016.12.17-05.56.31_MD652_2_0134_cropped_patch_locations.txt\n"
     ]
    },
    {
     "name": "stderr",
     "output_type": "stream",
     "text": [
      "Child returned 0\n",
      "0.83 seconds.\n",
      "save: 3.70 seconds\n",
      "\n",
      "Section 383.\n",
      "locate patches: 0.02 seconds\n",
      "34605 samples.\n",
      "load image: 0.27 seconds\n",
      "extract patches: 3.32 seconds\n",
      "predict: 19.62 seconds\n"
     ]
    },
    {
     "name": "stdout",
     "output_type": "stream",
     "text": [
      "aws s3 cp /shared/CSHL_patch_features/inception-bn-blue/MD652/MD652-N76-2016.12.16-14.00.44_MD652_3_0228_lossless_alignedTo_MD652-F45-2016.12.17-05.56.31_MD652_2_0134_cropped/MD652-N76-2016.12.16-14.00.44_MD652_3_0228_lossless_alignedTo_MD652-F45-2016.12.17-05.56.31_MD652_2_0134_cropped_features.bp s3://mousebrainatlas-data/CSHL_patch_features/inception-bn-blue/MD652/MD652-N76-2016.12.16-14.00.44_MD652_3_0228_lossless_alignedTo_MD652-F45-2016.12.17-05.56.31_MD652_2_0134_cropped/MD652-N76-2016.12.16-14.00.44_MD652_3_0228_lossless_alignedTo_MD652-F45-2016.12.17-05.56.31_MD652_2_0134_cropped_features.bp\n"
     ]
    },
    {
     "name": "stderr",
     "output_type": "stream",
     "text": [
      "Child returned 0\n",
      "1.85 seconds.\n"
     ]
    },
    {
     "name": "stdout",
     "output_type": "stream",
     "text": [
      "aws s3 cp /shared/CSHL_patch_features/inception-bn-blue/MD652/MD652-N76-2016.12.16-14.00.44_MD652_3_0228_lossless_alignedTo_MD652-F45-2016.12.17-05.56.31_MD652_2_0134_cropped/MD652-N76-2016.12.16-14.00.44_MD652_3_0228_lossless_alignedTo_MD652-F45-2016.12.17-05.56.31_MD652_2_0134_cropped_patch_locations.txt s3://mousebrainatlas-data/CSHL_patch_features/inception-bn-blue/MD652/MD652-N76-2016.12.16-14.00.44_MD652_3_0228_lossless_alignedTo_MD652-F45-2016.12.17-05.56.31_MD652_2_0134_cropped/MD652-N76-2016.12.16-14.00.44_MD652_3_0228_lossless_alignedTo_MD652-F45-2016.12.17-05.56.31_MD652_2_0134_cropped_patch_locations.txt\n"
     ]
    },
    {
     "name": "stderr",
     "output_type": "stream",
     "text": [
      "Child returned 0\n",
      "0.78 seconds.\n",
      "save: 3.28 seconds\n",
      "Child returned "
     ]
    },
    {
     "name": "stdout",
     "output_type": "stream",
     "text": [
      "rm -rf /shared/CSHL_data_processed/MD653/MD653_alignedTo_MD653-F64-2016.12.21-12.03.55_MD653_2_0191_masks_cropped && mkdir -p /shared/CSHL_data_processed/MD653\n"
     ]
    },
    {
     "name": "stderr",
     "output_type": "stream",
     "text": [
      "0\n",
      "Child returned 0\n",
      "4.09 seconds.\n",
      "Child returned 0\n"
     ]
    },
    {
     "name": "stdout",
     "output_type": "stream",
     "text": [
      "aws s3 cp --recursive s3://mousebrainatlas-data/CSHL_data_processed/MD653/MD653_alignedTo_MD653-F64-2016.12.21-12.03.55_MD653_2_0191_masks_cropped /shared/CSHL_data_processed/MD653/MD653_alignedTo_MD653-F64-2016.12.21-12.03.55_MD653_2_0191_masks_cropped\n",
      "rm -rf /shared/CSHL_data_processed/MD653/MD653_lossless_alignedTo_MD653-F64-2016.12.21-12.03.55_MD653_2_0191_cropped_gray && mkdir -p /shared/CSHL_data_processed/MD653\n",
      "aws s3 cp --recursive s3://mousebrainatlas-data/CSHL_data_processed/MD653/MD653_lossless_alignedTo_MD653-F64-2016.12.21-12.03.55_MD653_2_0191_cropped_gray /shared/CSHL_data_processed/MD653/MD653_lossless_alignedTo_MD653-F64-2016.12.21-12.03.55_MD653_2_0191_cropped_gray\n",
      "MD653\n"
     ]
    },
    {
     "name": "stderr",
     "output_type": "stream",
     "text": [
      "Child returned 0\n",
      "941.80 seconds.\n",
      "Widget Javascript not detected.  It may not be installed or enabled properly.\n"
     ]
    },
    {
     "data": {
      "application/vnd.jupyter.widget-view+json": {
       "model_id": "a54bc12c929b4529ab20618aecaf399c"
      }
     },
     "metadata": {},
     "output_type": "display_data"
    },
    {
     "name": "stderr",
     "output_type": "stream",
     "text": [
      "\n",
      "Section 86.\n",
      "locate patches: 0.02 seconds\n",
      "25467 samples.\n",
      "load image: 21.04 seconds\n",
      "extract patches: 117.70 seconds\n",
      "predict: 126.85 seconds\n"
     ]
    },
    {
     "name": "stdout",
     "output_type": "stream",
     "text": [
      "aws s3 cp /shared/CSHL_patch_features/inception-bn-blue/MD653/MD653-F15-2016.12.20-21.04.12_MD653_1_0043_lossless_alignedTo_MD653-F64-2016.12.21-12.03.55_MD653_2_0191_cropped/MD653-F15-2016.12.20-21.04.12_MD653_1_0043_lossless_alignedTo_MD653-F64-2016.12.21-12.03.55_MD653_2_0191_cropped_features.bp s3://mousebrainatlas-data/CSHL_patch_features/inception-bn-blue/MD653/MD653-F15-2016.12.20-21.04.12_MD653_1_0043_lossless_alignedTo_MD653-F64-2016.12.21-12.03.55_MD653_2_0191_cropped/MD653-F15-2016.12.20-21.04.12_MD653_1_0043_lossless_alignedTo_MD653-F64-2016.12.21-12.03.55_MD653_2_0191_cropped_features.bp\n"
     ]
    },
    {
     "name": "stderr",
     "output_type": "stream",
     "text": [
      "Child returned 0\n",
      "1.67 seconds.\n"
     ]
    },
    {
     "name": "stdout",
     "output_type": "stream",
     "text": [
      "aws s3 cp /shared/CSHL_patch_features/inception-bn-blue/MD653/MD653-F15-2016.12.20-21.04.12_MD653_1_0043_lossless_alignedTo_MD653-F64-2016.12.21-12.03.55_MD653_2_0191_cropped/MD653-F15-2016.12.20-21.04.12_MD653_1_0043_lossless_alignedTo_MD653-F64-2016.12.21-12.03.55_MD653_2_0191_cropped_patch_locations.txt s3://mousebrainatlas-data/CSHL_patch_features/inception-bn-blue/MD653/MD653-F15-2016.12.20-21.04.12_MD653_1_0043_lossless_alignedTo_MD653-F64-2016.12.21-12.03.55_MD653_2_0191_cropped/MD653-F15-2016.12.20-21.04.12_MD653_1_0043_lossless_alignedTo_MD653-F64-2016.12.21-12.03.55_MD653_2_0191_cropped_patch_locations.txt\n"
     ]
    },
    {
     "name": "stderr",
     "output_type": "stream",
     "text": [
      "Child returned 0\n",
      "0.74 seconds.\n",
      "save: 2.90 seconds\n",
      "\n",
      "Section 87.\n",
      "locate patches: 0.02 seconds\n",
      "25534 samples.\n",
      "load image: 0.34 seconds\n",
      "extract patches: 79.58 seconds\n",
      "predict: 100.85 seconds\n"
     ]
    },
    {
     "name": "stdout",
     "output_type": "stream",
     "text": [
      "aws s3 cp /shared/CSHL_patch_features/inception-bn-blue/MD653/MD653-N15-2016.12.17-03.37.17_MD653_2_0044_lossless_alignedTo_MD653-F64-2016.12.21-12.03.55_MD653_2_0191_cropped/MD653-N15-2016.12.17-03.37.17_MD653_2_0044_lossless_alignedTo_MD653-F64-2016.12.21-12.03.55_MD653_2_0191_cropped_features.bp s3://mousebrainatlas-data/CSHL_patch_features/inception-bn-blue/MD653/MD653-N15-2016.12.17-03.37.17_MD653_2_0044_lossless_alignedTo_MD653-F64-2016.12.21-12.03.55_MD653_2_0191_cropped/MD653-N15-2016.12.17-03.37.17_MD653_2_0044_lossless_alignedTo_MD653-F64-2016.12.21-12.03.55_MD653_2_0191_cropped_features.bp\n"
     ]
    },
    {
     "name": "stderr",
     "output_type": "stream",
     "text": [
      "Child returned 0\n",
      "1.63 seconds.\n"
     ]
    },
    {
     "name": "stdout",
     "output_type": "stream",
     "text": [
      "aws s3 cp /shared/CSHL_patch_features/inception-bn-blue/MD653/MD653-N15-2016.12.17-03.37.17_MD653_2_0044_lossless_alignedTo_MD653-F64-2016.12.21-12.03.55_MD653_2_0191_cropped/MD653-N15-2016.12.17-03.37.17_MD653_2_0044_lossless_alignedTo_MD653-F64-2016.12.21-12.03.55_MD653_2_0191_cropped_patch_locations.txt s3://mousebrainatlas-data/CSHL_patch_features/inception-bn-blue/MD653/MD653-N15-2016.12.17-03.37.17_MD653_2_0044_lossless_alignedTo_MD653-F64-2016.12.21-12.03.55_MD653_2_0191_cropped/MD653-N15-2016.12.17-03.37.17_MD653_2_0044_lossless_alignedTo_MD653-F64-2016.12.21-12.03.55_MD653_2_0191_cropped_patch_locations.txt\n"
     ]
    },
    {
     "name": "stderr",
     "output_type": "stream",
     "text": [
      "Child returned 0\n",
      "0.74 seconds.\n",
      "save: 2.86 seconds\n",
      "\n",
      "Section 88.\n",
      "locate patches: 0.02 seconds\n",
      "25801 samples.\n",
      "load image: 0.34 seconds\n",
      "extract patches: 55.90 seconds\n",
      "predict: 105.46 seconds\n"
     ]
    },
    {
     "name": "stdout",
     "output_type": "stream",
     "text": [
      "aws s3 cp /shared/CSHL_patch_features/inception-bn-blue/MD653/MD653-F15-2016.12.20-21.04.12_MD653_2_0044_lossless_alignedTo_MD653-F64-2016.12.21-12.03.55_MD653_2_0191_cropped/MD653-F15-2016.12.20-21.04.12_MD653_2_0044_lossless_alignedTo_MD653-F64-2016.12.21-12.03.55_MD653_2_0191_cropped_features.bp s3://mousebrainatlas-data/CSHL_patch_features/inception-bn-blue/MD653/MD653-F15-2016.12.20-21.04.12_MD653_2_0044_lossless_alignedTo_MD653-F64-2016.12.21-12.03.55_MD653_2_0191_cropped/MD653-F15-2016.12.20-21.04.12_MD653_2_0044_lossless_alignedTo_MD653-F64-2016.12.21-12.03.55_MD653_2_0191_cropped_features.bp\n"
     ]
    },
    {
     "name": "stderr",
     "output_type": "stream",
     "text": [
      "Child returned 0\n",
      "1.64 seconds.\n"
     ]
    },
    {
     "name": "stdout",
     "output_type": "stream",
     "text": [
      "aws s3 cp /shared/CSHL_patch_features/inception-bn-blue/MD653/MD653-F15-2016.12.20-21.04.12_MD653_2_0044_lossless_alignedTo_MD653-F64-2016.12.21-12.03.55_MD653_2_0191_cropped/MD653-F15-2016.12.20-21.04.12_MD653_2_0044_lossless_alignedTo_MD653-F64-2016.12.21-12.03.55_MD653_2_0191_cropped_patch_locations.txt s3://mousebrainatlas-data/CSHL_patch_features/inception-bn-blue/MD653/MD653-F15-2016.12.20-21.04.12_MD653_2_0044_lossless_alignedTo_MD653-F64-2016.12.21-12.03.55_MD653_2_0191_cropped/MD653-F15-2016.12.20-21.04.12_MD653_2_0044_lossless_alignedTo_MD653-F64-2016.12.21-12.03.55_MD653_2_0191_cropped_patch_locations.txt\n"
     ]
    },
    {
     "name": "stderr",
     "output_type": "stream",
     "text": [
      "Child returned 0\n",
      "0.80 seconds.\n",
      "save: 2.93 seconds\n",
      "\n",
      "Section 89.\n",
      "locate patches: 0.02 seconds\n",
      "25961 samples.\n",
      "load image: 0.34 seconds\n",
      "extract patches: 56.26 seconds\n",
      "predict: 106.79 seconds\n"
     ]
    },
    {
     "name": "stdout",
     "output_type": "stream",
     "text": [
      "aws s3 cp /shared/CSHL_patch_features/inception-bn-blue/MD653/MD653-N15-2016.12.17-03.37.17_MD653_3_0045_lossless_alignedTo_MD653-F64-2016.12.21-12.03.55_MD653_2_0191_cropped/MD653-N15-2016.12.17-03.37.17_MD653_3_0045_lossless_alignedTo_MD653-F64-2016.12.21-12.03.55_MD653_2_0191_cropped_features.bp s3://mousebrainatlas-data/CSHL_patch_features/inception-bn-blue/MD653/MD653-N15-2016.12.17-03.37.17_MD653_3_0045_lossless_alignedTo_MD653-F64-2016.12.21-12.03.55_MD653_2_0191_cropped/MD653-N15-2016.12.17-03.37.17_MD653_3_0045_lossless_alignedTo_MD653-F64-2016.12.21-12.03.55_MD653_2_0191_cropped_features.bp\n"
     ]
    },
    {
     "name": "stderr",
     "output_type": "stream",
     "text": [
      "Child returned 0\n",
      "1.60 seconds.\n"
     ]
    },
    {
     "name": "stdout",
     "output_type": "stream",
     "text": [
      "aws s3 cp /shared/CSHL_patch_features/inception-bn-blue/MD653/MD653-N15-2016.12.17-03.37.17_MD653_3_0045_lossless_alignedTo_MD653-F64-2016.12.21-12.03.55_MD653_2_0191_cropped/MD653-N15-2016.12.17-03.37.17_MD653_3_0045_lossless_alignedTo_MD653-F64-2016.12.21-12.03.55_MD653_2_0191_cropped_patch_locations.txt s3://mousebrainatlas-data/CSHL_patch_features/inception-bn-blue/MD653/MD653-N15-2016.12.17-03.37.17_MD653_3_0045_lossless_alignedTo_MD653-F64-2016.12.21-12.03.55_MD653_2_0191_cropped/MD653-N15-2016.12.17-03.37.17_MD653_3_0045_lossless_alignedTo_MD653-F64-2016.12.21-12.03.55_MD653_2_0191_cropped_patch_locations.txt\n"
     ]
    },
    {
     "name": "stderr",
     "output_type": "stream",
     "text": [
      "Child returned 0\n",
      "0.74 seconds.\n",
      "save: 2.83 seconds\n",
      "\n",
      "Section 90.\n",
      "locate patches: 0.02 seconds\n",
      "26154 samples.\n",
      "load image: 0.33 seconds\n",
      "extract patches: 57.14 seconds\n",
      "predict: 107.13 seconds\n"
     ]
    },
    {
     "name": "stdout",
     "output_type": "stream",
     "text": [
      "aws s3 cp /shared/CSHL_patch_features/inception-bn-blue/MD653/MD653-F15-2016.12.20-21.04.12_MD653_3_0045_lossless_alignedTo_MD653-F64-2016.12.21-12.03.55_MD653_2_0191_cropped/MD653-F15-2016.12.20-21.04.12_MD653_3_0045_lossless_alignedTo_MD653-F64-2016.12.21-12.03.55_MD653_2_0191_cropped_features.bp s3://mousebrainatlas-data/CSHL_patch_features/inception-bn-blue/MD653/MD653-F15-2016.12.20-21.04.12_MD653_3_0045_lossless_alignedTo_MD653-F64-2016.12.21-12.03.55_MD653_2_0191_cropped/MD653-F15-2016.12.20-21.04.12_MD653_3_0045_lossless_alignedTo_MD653-F64-2016.12.21-12.03.55_MD653_2_0191_cropped_features.bp\n"
     ]
    },
    {
     "name": "stderr",
     "output_type": "stream",
     "text": [
      "Child returned 0\n",
      "1.75 seconds.\n"
     ]
    },
    {
     "name": "stdout",
     "output_type": "stream",
     "text": [
      "aws s3 cp /shared/CSHL_patch_features/inception-bn-blue/MD653/MD653-F15-2016.12.20-21.04.12_MD653_3_0045_lossless_alignedTo_MD653-F64-2016.12.21-12.03.55_MD653_2_0191_cropped/MD653-F15-2016.12.20-21.04.12_MD653_3_0045_lossless_alignedTo_MD653-F64-2016.12.21-12.03.55_MD653_2_0191_cropped_patch_locations.txt s3://mousebrainatlas-data/CSHL_patch_features/inception-bn-blue/MD653/MD653-F15-2016.12.20-21.04.12_MD653_3_0045_lossless_alignedTo_MD653-F64-2016.12.21-12.03.55_MD653_2_0191_cropped/MD653-F15-2016.12.20-21.04.12_MD653_3_0045_lossless_alignedTo_MD653-F64-2016.12.21-12.03.55_MD653_2_0191_cropped_patch_locations.txt\n"
     ]
    },
    {
     "name": "stderr",
     "output_type": "stream",
     "text": [
      "Child returned 0\n",
      "0.78 seconds.\n",
      "save: 3.04 seconds\n",
      "\n",
      "Section 91.\n",
      "locate patches: 0.02 seconds\n",
      "26104 samples.\n",
      "load image: 0.34 seconds\n",
      "extract patches: 57.09 seconds\n",
      "predict: 106.76 seconds\n"
     ]
    },
    {
     "name": "stdout",
     "output_type": "stream",
     "text": [
      "aws s3 cp /shared/CSHL_patch_features/inception-bn-blue/MD653/MD653-N16-2016.12.17-03.41.18_MD653_1_0046_lossless_alignedTo_MD653-F64-2016.12.21-12.03.55_MD653_2_0191_cropped/MD653-N16-2016.12.17-03.41.18_MD653_1_0046_lossless_alignedTo_MD653-F64-2016.12.21-12.03.55_MD653_2_0191_cropped_features.bp s3://mousebrainatlas-data/CSHL_patch_features/inception-bn-blue/MD653/MD653-N16-2016.12.17-03.41.18_MD653_1_0046_lossless_alignedTo_MD653-F64-2016.12.21-12.03.55_MD653_2_0191_cropped/MD653-N16-2016.12.17-03.41.18_MD653_1_0046_lossless_alignedTo_MD653-F64-2016.12.21-12.03.55_MD653_2_0191_cropped_features.bp\n"
     ]
    },
    {
     "name": "stderr",
     "output_type": "stream",
     "text": [
      "Child returned 0\n",
      "1.65 seconds.\n"
     ]
    },
    {
     "name": "stdout",
     "output_type": "stream",
     "text": [
      "aws s3 cp /shared/CSHL_patch_features/inception-bn-blue/MD653/MD653-N16-2016.12.17-03.41.18_MD653_1_0046_lossless_alignedTo_MD653-F64-2016.12.21-12.03.55_MD653_2_0191_cropped/MD653-N16-2016.12.17-03.41.18_MD653_1_0046_lossless_alignedTo_MD653-F64-2016.12.21-12.03.55_MD653_2_0191_cropped_patch_locations.txt s3://mousebrainatlas-data/CSHL_patch_features/inception-bn-blue/MD653/MD653-N16-2016.12.17-03.41.18_MD653_1_0046_lossless_alignedTo_MD653-F64-2016.12.21-12.03.55_MD653_2_0191_cropped/MD653-N16-2016.12.17-03.41.18_MD653_1_0046_lossless_alignedTo_MD653-F64-2016.12.21-12.03.55_MD653_2_0191_cropped_patch_locations.txt\n"
     ]
    },
    {
     "name": "stderr",
     "output_type": "stream",
     "text": [
      "Child returned 0\n",
      "0.79 seconds.\n",
      "save: 2.94 seconds\n",
      "\n",
      "Section 92.\n",
      "locate patches: 0.02 seconds\n",
      "26755 samples.\n",
      "load image: 0.33 seconds\n",
      "extract patches: 59.42 seconds\n",
      "predict: 102.97 seconds\n"
     ]
    },
    {
     "name": "stdout",
     "output_type": "stream",
     "text": [
      "aws s3 cp /shared/CSHL_patch_features/inception-bn-blue/MD653/MD653-F16-2016.12.20-21.19.34_MD653_1_0046_lossless_alignedTo_MD653-F64-2016.12.21-12.03.55_MD653_2_0191_cropped/MD653-F16-2016.12.20-21.19.34_MD653_1_0046_lossless_alignedTo_MD653-F64-2016.12.21-12.03.55_MD653_2_0191_cropped_features.bp s3://mousebrainatlas-data/CSHL_patch_features/inception-bn-blue/MD653/MD653-F16-2016.12.20-21.19.34_MD653_1_0046_lossless_alignedTo_MD653-F64-2016.12.21-12.03.55_MD653_2_0191_cropped/MD653-F16-2016.12.20-21.19.34_MD653_1_0046_lossless_alignedTo_MD653-F64-2016.12.21-12.03.55_MD653_2_0191_cropped_features.bp\n"
     ]
    },
    {
     "name": "stderr",
     "output_type": "stream",
     "text": [
      "Child returned 0\n",
      "1.73 seconds.\n"
     ]
    },
    {
     "name": "stdout",
     "output_type": "stream",
     "text": [
      "aws s3 cp /shared/CSHL_patch_features/inception-bn-blue/MD653/MD653-F16-2016.12.20-21.19.34_MD653_1_0046_lossless_alignedTo_MD653-F64-2016.12.21-12.03.55_MD653_2_0191_cropped/MD653-F16-2016.12.20-21.19.34_MD653_1_0046_lossless_alignedTo_MD653-F64-2016.12.21-12.03.55_MD653_2_0191_cropped_patch_locations.txt s3://mousebrainatlas-data/CSHL_patch_features/inception-bn-blue/MD653/MD653-F16-2016.12.20-21.19.34_MD653_1_0046_lossless_alignedTo_MD653-F64-2016.12.21-12.03.55_MD653_2_0191_cropped/MD653-F16-2016.12.20-21.19.34_MD653_1_0046_lossless_alignedTo_MD653-F64-2016.12.21-12.03.55_MD653_2_0191_cropped_patch_locations.txt\n"
     ]
    },
    {
     "name": "stderr",
     "output_type": "stream",
     "text": [
      "Child returned 0\n",
      "0.78 seconds.\n",
      "save: 3.02 seconds\n",
      "\n",
      "Section 93.\n",
      "locate patches: 0.02 seconds\n",
      "26875 samples.\n",
      "load image: 0.34 seconds\n",
      "extract patches: 52.70 seconds\n",
      "predict: 107.08 seconds\n"
     ]
    },
    {
     "name": "stdout",
     "output_type": "stream",
     "text": [
      "aws s3 cp /shared/CSHL_patch_features/inception-bn-blue/MD653/MD653-N16-2016.12.17-03.41.18_MD653_2_0047_lossless_alignedTo_MD653-F64-2016.12.21-12.03.55_MD653_2_0191_cropped/MD653-N16-2016.12.17-03.41.18_MD653_2_0047_lossless_alignedTo_MD653-F64-2016.12.21-12.03.55_MD653_2_0191_cropped_features.bp s3://mousebrainatlas-data/CSHL_patch_features/inception-bn-blue/MD653/MD653-N16-2016.12.17-03.41.18_MD653_2_0047_lossless_alignedTo_MD653-F64-2016.12.21-12.03.55_MD653_2_0191_cropped/MD653-N16-2016.12.17-03.41.18_MD653_2_0047_lossless_alignedTo_MD653-F64-2016.12.21-12.03.55_MD653_2_0191_cropped_features.bp\n"
     ]
    },
    {
     "name": "stderr",
     "output_type": "stream",
     "text": [
      "Child returned 0\n",
      "1.70 seconds.\n"
     ]
    },
    {
     "name": "stdout",
     "output_type": "stream",
     "text": [
      "aws s3 cp /shared/CSHL_patch_features/inception-bn-blue/MD653/MD653-N16-2016.12.17-03.41.18_MD653_2_0047_lossless_alignedTo_MD653-F64-2016.12.21-12.03.55_MD653_2_0191_cropped/MD653-N16-2016.12.17-03.41.18_MD653_2_0047_lossless_alignedTo_MD653-F64-2016.12.21-12.03.55_MD653_2_0191_cropped_patch_locations.txt s3://mousebrainatlas-data/CSHL_patch_features/inception-bn-blue/MD653/MD653-N16-2016.12.17-03.41.18_MD653_2_0047_lossless_alignedTo_MD653-F64-2016.12.21-12.03.55_MD653_2_0191_cropped/MD653-N16-2016.12.17-03.41.18_MD653_2_0047_lossless_alignedTo_MD653-F64-2016.12.21-12.03.55_MD653_2_0191_cropped_patch_locations.txt\n"
     ]
    },
    {
     "name": "stderr",
     "output_type": "stream",
     "text": [
      "Child returned 0\n",
      "0.79 seconds.\n",
      "save: 2.99 seconds\n",
      "\n",
      "Section 94.\n",
      "locate patches: 0.02 seconds\n",
      "27230 samples.\n",
      "load image: 0.33 seconds\n",
      "extract patches: 49.39 seconds\n",
      "predict: 108.74 seconds\n"
     ]
    },
    {
     "name": "stdout",
     "output_type": "stream",
     "text": [
      "aws s3 cp /shared/CSHL_patch_features/inception-bn-blue/MD653/MD653-F16-2016.12.20-21.19.34_MD653_2_0047_lossless_alignedTo_MD653-F64-2016.12.21-12.03.55_MD653_2_0191_cropped/MD653-F16-2016.12.20-21.19.34_MD653_2_0047_lossless_alignedTo_MD653-F64-2016.12.21-12.03.55_MD653_2_0191_cropped_features.bp s3://mousebrainatlas-data/CSHL_patch_features/inception-bn-blue/MD653/MD653-F16-2016.12.20-21.19.34_MD653_2_0047_lossless_alignedTo_MD653-F64-2016.12.21-12.03.55_MD653_2_0191_cropped/MD653-F16-2016.12.20-21.19.34_MD653_2_0047_lossless_alignedTo_MD653-F64-2016.12.21-12.03.55_MD653_2_0191_cropped_features.bp\n"
     ]
    },
    {
     "name": "stderr",
     "output_type": "stream",
     "text": [
      "Child returned 0\n",
      "1.69 seconds.\n"
     ]
    },
    {
     "name": "stdout",
     "output_type": "stream",
     "text": [
      "aws s3 cp /shared/CSHL_patch_features/inception-bn-blue/MD653/MD653-F16-2016.12.20-21.19.34_MD653_2_0047_lossless_alignedTo_MD653-F64-2016.12.21-12.03.55_MD653_2_0191_cropped/MD653-F16-2016.12.20-21.19.34_MD653_2_0047_lossless_alignedTo_MD653-F64-2016.12.21-12.03.55_MD653_2_0191_cropped_patch_locations.txt s3://mousebrainatlas-data/CSHL_patch_features/inception-bn-blue/MD653/MD653-F16-2016.12.20-21.19.34_MD653_2_0047_lossless_alignedTo_MD653-F64-2016.12.21-12.03.55_MD653_2_0191_cropped/MD653-F16-2016.12.20-21.19.34_MD653_2_0047_lossless_alignedTo_MD653-F64-2016.12.21-12.03.55_MD653_2_0191_cropped_patch_locations.txt\n"
     ]
    },
    {
     "name": "stderr",
     "output_type": "stream",
     "text": [
      "Child returned 0\n",
      "0.80 seconds.\n",
      "save: 3.00 seconds\n",
      "\n",
      "Section 95.\n",
      "locate patches: 0.02 seconds\n",
      "27058 samples.\n",
      "load image: 0.33 seconds\n",
      "extract patches: 48.97 seconds\n",
      "predict: 108.93 seconds\n"
     ]
    },
    {
     "name": "stdout",
     "output_type": "stream",
     "text": [
      "aws s3 cp /shared/CSHL_patch_features/inception-bn-blue/MD653/MD653-N16-2016.12.17-03.41.18_MD653_3_0048_lossless_alignedTo_MD653-F64-2016.12.21-12.03.55_MD653_2_0191_cropped/MD653-N16-2016.12.17-03.41.18_MD653_3_0048_lossless_alignedTo_MD653-F64-2016.12.21-12.03.55_MD653_2_0191_cropped_features.bp s3://mousebrainatlas-data/CSHL_patch_features/inception-bn-blue/MD653/MD653-N16-2016.12.17-03.41.18_MD653_3_0048_lossless_alignedTo_MD653-F64-2016.12.21-12.03.55_MD653_2_0191_cropped/MD653-N16-2016.12.17-03.41.18_MD653_3_0048_lossless_alignedTo_MD653-F64-2016.12.21-12.03.55_MD653_2_0191_cropped_features.bp\n"
     ]
    },
    {
     "name": "stderr",
     "output_type": "stream",
     "text": [
      "Child returned 0\n",
      "1.73 seconds.\n"
     ]
    },
    {
     "name": "stdout",
     "output_type": "stream",
     "text": [
      "aws s3 cp /shared/CSHL_patch_features/inception-bn-blue/MD653/MD653-N16-2016.12.17-03.41.18_MD653_3_0048_lossless_alignedTo_MD653-F64-2016.12.21-12.03.55_MD653_2_0191_cropped/MD653-N16-2016.12.17-03.41.18_MD653_3_0048_lossless_alignedTo_MD653-F64-2016.12.21-12.03.55_MD653_2_0191_cropped_patch_locations.txt s3://mousebrainatlas-data/CSHL_patch_features/inception-bn-blue/MD653/MD653-N16-2016.12.17-03.41.18_MD653_3_0048_lossless_alignedTo_MD653-F64-2016.12.21-12.03.55_MD653_2_0191_cropped/MD653-N16-2016.12.17-03.41.18_MD653_3_0048_lossless_alignedTo_MD653-F64-2016.12.21-12.03.55_MD653_2_0191_cropped_patch_locations.txt\n"
     ]
    },
    {
     "name": "stderr",
     "output_type": "stream",
     "text": [
      "Child returned 0\n",
      "0.74 seconds.\n",
      "save: 2.99 seconds\n",
      "\n",
      "Section 96.\n",
      "locate patches: 0.02 seconds\n",
      "27435 samples.\n",
      "load image: 0.33 seconds\n",
      "extract patches: 50.10 seconds\n",
      "predict: 108.90 seconds\n"
     ]
    },
    {
     "name": "stdout",
     "output_type": "stream",
     "text": [
      "aws s3 cp /shared/CSHL_patch_features/inception-bn-blue/MD653/MD653-F16-2016.12.20-21.19.34_MD653_3_0048_lossless_alignedTo_MD653-F64-2016.12.21-12.03.55_MD653_2_0191_cropped/MD653-F16-2016.12.20-21.19.34_MD653_3_0048_lossless_alignedTo_MD653-F64-2016.12.21-12.03.55_MD653_2_0191_cropped_features.bp s3://mousebrainatlas-data/CSHL_patch_features/inception-bn-blue/MD653/MD653-F16-2016.12.20-21.19.34_MD653_3_0048_lossless_alignedTo_MD653-F64-2016.12.21-12.03.55_MD653_2_0191_cropped/MD653-F16-2016.12.20-21.19.34_MD653_3_0048_lossless_alignedTo_MD653-F64-2016.12.21-12.03.55_MD653_2_0191_cropped_features.bp\n"
     ]
    },
    {
     "name": "stderr",
     "output_type": "stream",
     "text": [
      "Child returned 0\n",
      "1.72 seconds.\n"
     ]
    },
    {
     "name": "stdout",
     "output_type": "stream",
     "text": [
      "aws s3 cp /shared/CSHL_patch_features/inception-bn-blue/MD653/MD653-F16-2016.12.20-21.19.34_MD653_3_0048_lossless_alignedTo_MD653-F64-2016.12.21-12.03.55_MD653_2_0191_cropped/MD653-F16-2016.12.20-21.19.34_MD653_3_0048_lossless_alignedTo_MD653-F64-2016.12.21-12.03.55_MD653_2_0191_cropped_patch_locations.txt s3://mousebrainatlas-data/CSHL_patch_features/inception-bn-blue/MD653/MD653-F16-2016.12.20-21.19.34_MD653_3_0048_lossless_alignedTo_MD653-F64-2016.12.21-12.03.55_MD653_2_0191_cropped/MD653-F16-2016.12.20-21.19.34_MD653_3_0048_lossless_alignedTo_MD653-F64-2016.12.21-12.03.55_MD653_2_0191_cropped_patch_locations.txt\n"
     ]
    },
    {
     "name": "stderr",
     "output_type": "stream",
     "text": [
      "Child returned 0\n",
      "0.79 seconds.\n",
      "save: 3.03 seconds\n",
      "\n",
      "Section 97.\n",
      "locate patches: 0.02 seconds\n",
      "27595 samples.\n",
      "load image: 0.33 seconds\n",
      "extract patches: 51.42 seconds\n",
      "predict: 110.65 seconds\n"
     ]
    },
    {
     "name": "stdout",
     "output_type": "stream",
     "text": [
      "aws s3 cp /shared/CSHL_patch_features/inception-bn-blue/MD653/MD653-N17-2016.12.17-03.45.21_MD653_1_0049_lossless_alignedTo_MD653-F64-2016.12.21-12.03.55_MD653_2_0191_cropped/MD653-N17-2016.12.17-03.45.21_MD653_1_0049_lossless_alignedTo_MD653-F64-2016.12.21-12.03.55_MD653_2_0191_cropped_features.bp s3://mousebrainatlas-data/CSHL_patch_features/inception-bn-blue/MD653/MD653-N17-2016.12.17-03.45.21_MD653_1_0049_lossless_alignedTo_MD653-F64-2016.12.21-12.03.55_MD653_2_0191_cropped/MD653-N17-2016.12.17-03.45.21_MD653_1_0049_lossless_alignedTo_MD653-F64-2016.12.21-12.03.55_MD653_2_0191_cropped_features.bp\n"
     ]
    },
    {
     "name": "stderr",
     "output_type": "stream",
     "text": [
      "Child returned 0\n",
      "1.65 seconds.\n"
     ]
    },
    {
     "name": "stdout",
     "output_type": "stream",
     "text": [
      "aws s3 cp /shared/CSHL_patch_features/inception-bn-blue/MD653/MD653-N17-2016.12.17-03.45.21_MD653_1_0049_lossless_alignedTo_MD653-F64-2016.12.21-12.03.55_MD653_2_0191_cropped/MD653-N17-2016.12.17-03.45.21_MD653_1_0049_lossless_alignedTo_MD653-F64-2016.12.21-12.03.55_MD653_2_0191_cropped_patch_locations.txt s3://mousebrainatlas-data/CSHL_patch_features/inception-bn-blue/MD653/MD653-N17-2016.12.17-03.45.21_MD653_1_0049_lossless_alignedTo_MD653-F64-2016.12.21-12.03.55_MD653_2_0191_cropped/MD653-N17-2016.12.17-03.45.21_MD653_1_0049_lossless_alignedTo_MD653-F64-2016.12.21-12.03.55_MD653_2_0191_cropped_patch_locations.txt\n"
     ]
    },
    {
     "name": "stderr",
     "output_type": "stream",
     "text": [
      "Child returned 0\n",
      "0.74 seconds.\n",
      "save: 2.91 seconds\n",
      "\n",
      "Section 98.\n",
      "locate patches: 0.02 seconds\n",
      "27905 samples.\n",
      "load image: 0.33 seconds\n",
      "extract patches: 52.10 seconds\n",
      "predict: 112.58 seconds\n"
     ]
    },
    {
     "name": "stdout",
     "output_type": "stream",
     "text": [
      "aws s3 cp /shared/CSHL_patch_features/inception-bn-blue/MD653/MD653-F17-2016.12.22-15.35.56_MD653_1_0049_lossless_alignedTo_MD653-F64-2016.12.21-12.03.55_MD653_2_0191_cropped/MD653-F17-2016.12.22-15.35.56_MD653_1_0049_lossless_alignedTo_MD653-F64-2016.12.21-12.03.55_MD653_2_0191_cropped_features.bp s3://mousebrainatlas-data/CSHL_patch_features/inception-bn-blue/MD653/MD653-F17-2016.12.22-15.35.56_MD653_1_0049_lossless_alignedTo_MD653-F64-2016.12.21-12.03.55_MD653_2_0191_cropped/MD653-F17-2016.12.22-15.35.56_MD653_1_0049_lossless_alignedTo_MD653-F64-2016.12.21-12.03.55_MD653_2_0191_cropped_features.bp\n"
     ]
    },
    {
     "name": "stderr",
     "output_type": "stream",
     "text": [
      "Child returned 0\n",
      "1.76 seconds.\n"
     ]
    },
    {
     "name": "stdout",
     "output_type": "stream",
     "text": [
      "aws s3 cp /shared/CSHL_patch_features/inception-bn-blue/MD653/MD653-F17-2016.12.22-15.35.56_MD653_1_0049_lossless_alignedTo_MD653-F64-2016.12.21-12.03.55_MD653_2_0191_cropped/MD653-F17-2016.12.22-15.35.56_MD653_1_0049_lossless_alignedTo_MD653-F64-2016.12.21-12.03.55_MD653_2_0191_cropped_patch_locations.txt s3://mousebrainatlas-data/CSHL_patch_features/inception-bn-blue/MD653/MD653-F17-2016.12.22-15.35.56_MD653_1_0049_lossless_alignedTo_MD653-F64-2016.12.21-12.03.55_MD653_2_0191_cropped/MD653-F17-2016.12.22-15.35.56_MD653_1_0049_lossless_alignedTo_MD653-F64-2016.12.21-12.03.55_MD653_2_0191_cropped_patch_locations.txt\n"
     ]
    },
    {
     "name": "stderr",
     "output_type": "stream",
     "text": [
      "Child returned 0\n",
      "0.79 seconds.\n",
      "save: 3.08 seconds\n",
      "\n",
      "Section 99.\n",
      "locate patches: 0.02 seconds\n",
      "27889 samples.\n",
      "load image: 0.33 seconds\n",
      "extract patches: 52.34 seconds\n",
      "predict: 110.07 seconds\n"
     ]
    },
    {
     "name": "stdout",
     "output_type": "stream",
     "text": [
      "aws s3 cp /shared/CSHL_patch_features/inception-bn-blue/MD653/MD653-N17-2016.12.17-03.45.21_MD653_2_0050_lossless_alignedTo_MD653-F64-2016.12.21-12.03.55_MD653_2_0191_cropped/MD653-N17-2016.12.17-03.45.21_MD653_2_0050_lossless_alignedTo_MD653-F64-2016.12.21-12.03.55_MD653_2_0191_cropped_features.bp s3://mousebrainatlas-data/CSHL_patch_features/inception-bn-blue/MD653/MD653-N17-2016.12.17-03.45.21_MD653_2_0050_lossless_alignedTo_MD653-F64-2016.12.21-12.03.55_MD653_2_0191_cropped/MD653-N17-2016.12.17-03.45.21_MD653_2_0050_lossless_alignedTo_MD653-F64-2016.12.21-12.03.55_MD653_2_0191_cropped_features.bp\n"
     ]
    },
    {
     "name": "stderr",
     "output_type": "stream",
     "text": [
      "Child returned 0\n",
      "1.63 seconds.\n"
     ]
    },
    {
     "name": "stdout",
     "output_type": "stream",
     "text": [
      "aws s3 cp /shared/CSHL_patch_features/inception-bn-blue/MD653/MD653-N17-2016.12.17-03.45.21_MD653_2_0050_lossless_alignedTo_MD653-F64-2016.12.21-12.03.55_MD653_2_0191_cropped/MD653-N17-2016.12.17-03.45.21_MD653_2_0050_lossless_alignedTo_MD653-F64-2016.12.21-12.03.55_MD653_2_0191_cropped_patch_locations.txt s3://mousebrainatlas-data/CSHL_patch_features/inception-bn-blue/MD653/MD653-N17-2016.12.17-03.45.21_MD653_2_0050_lossless_alignedTo_MD653-F64-2016.12.21-12.03.55_MD653_2_0191_cropped/MD653-N17-2016.12.17-03.45.21_MD653_2_0050_lossless_alignedTo_MD653-F64-2016.12.21-12.03.55_MD653_2_0191_cropped_patch_locations.txt\n"
     ]
    },
    {
     "name": "stderr",
     "output_type": "stream",
     "text": [
      "Child returned 0\n",
      "0.74 seconds.\n",
      "save: 2.90 seconds\n",
      "\n",
      "Section 100.\n",
      "locate patches: 0.02 seconds\n",
      "28208 samples.\n",
      "load image: 0.33 seconds\n",
      "extract patches: 53.69 seconds\n"
     ]
    }
   ],
   "source": [
    "# for stack in all_stacks:\n",
    "for stack in [\n",
    " 'MD652', 'MD653', 'MD657', 'MD658']:\n",
    "    \n",
    "#     if stack in ['MD585', 'MD589']:\n",
    "#         continue\n",
    "\n",
    "    download_from_s3(DataManager.get_thumbnail_mask_dir_v3(stack=stack, version='cropped'), is_dir=True)\n",
    "    download_from_s3(DataManager.get_image_dir(stack=stack, version='cropped_gray'), is_dir=True)\n",
    "    # download takes 3000 sec.\n",
    "\n",
    "    print stack\n",
    "\n",
    "    section_to_filename = metadata_cache['sections_to_filenames'][stack]\n",
    "\n",
    "    image_width, image_height = metadata_cache['image_shape'][stack]\n",
    "    grid_spec = (patch_size, stride, image_width, image_height)\n",
    "\n",
    "    sample_locations = grid_parameters_to_sample_locations(grid_spec=grid_spec)\n",
    "\n",
    "    first_sec, last_sec = metadata_cache['section_limits'][stack]\n",
    "\n",
    "    bar = show_progress_bar(first_sec, last_sec)\n",
    "    \n",
    "    for sec in range(first_sec, last_sec+1):\n",
    "        \n",
    "        if is_invalid(stack=stack, sec=sec):\n",
    "            continue\n",
    "            \n",
    "#         if section_to_filename[sec].split('-')[1][0] == 'F':\n",
    "#             continue\n",
    "#         if section_to_filename[sec].split('-')[1][0] == 'N':\n",
    "#             continue\n",
    "                \n",
    "        bar.value = sec\n",
    "        \n",
    "        sys.stderr.write('\\nSection %d.\\n' % sec)\n",
    "\n",
    "        # Use grids only on mask.\n",
    "        t = time.time()\n",
    "        mask_tb = DataManager.load_thumbnail_mask_v3(stack=stack, section=sec, version='aligned_cropped')\n",
    "        indices_roi = locate_patches_v2(grid_spec=grid_spec, mask_tb=mask_tb)\n",
    "        sys.stderr.write('locate patches: %.2f seconds\\n' % (time.time() - t))       \n",
    "        \n",
    "#         Use grids on the entire frame.\n",
    "#         indices_roi = range(len(sample_locations))\n",
    "\n",
    "        n = len(indices_roi)\n",
    "        sys.stderr.write('%d samples.\\n' % n)\n",
    "\n",
    "        sample_locations_roi = sample_locations[indices_roi]\n",
    "        \n",
    "        t = time.time()\n",
    "        img_fp = DataManager.get_image_filepath(stack=stack, section=sec, version='cropped_gray', resol='lossless')\n",
    "        download_from_s3(img_fp)\n",
    "        im = img_as_ubyte(imread(img_fp))\n",
    "        sys.stderr.write('load image: %.2f seconds\\n' % (time.time() - t)) # ~ 35s\n",
    "\n",
    "        t = time.time()\n",
    "\n",
    "        patches = np.array([im[y-half_size:y+half_size, x-half_size:x+half_size]\n",
    "                            for x, y in sample_locations_roi]) # n x 224 x 224\n",
    "        patches_mean_subtracted = patches - mean_img\n",
    "        patches_mean_subtracted_input = patches_mean_subtracted[:, None, :, :] # n x 1 x 224 x 224\n",
    "\n",
    "#         patches = np.array([im[y-half_size:y+half_size, x-half_size:x+half_size]\n",
    "#                             for x, y in sample_locations_roi]) # n x 224 x 224 x 1\n",
    "#         patches_mean_subtracted_input = np.rollaxis(patches, 3, 1) - mean_img # n x 3 x 224 x 224\n",
    "\n",
    "        sys.stderr.write('extract patches: %.2f seconds\\n' % (time.time() - t)) # ~ 20s / 140k patches\n",
    "\n",
    "        # For mxnet 0.9.4, using 80000 patches in a NDArrayIter works but using 90000 patches causes error:\n",
    "        # TypeError: Invalid type '<type 'numpy.ndarray'>' for data, should be NDArray or numpy.ndarray\n",
    "\n",
    "        t1 = time.time()        \n",
    "        data_iter = mx.io.NDArrayIter(\n",
    "                        patches_mean_subtracted_input, \n",
    "                        batch_size=batch_size,\n",
    "                        shuffle=False)\n",
    "        outputs = model.predict(data_iter, always_output_list=True)\n",
    "        features = outputs[0].asnumpy()\n",
    "        \n",
    "#         n_each_iter = 80000\n",
    "#         for b in range(0, n, n_each_iter):\n",
    "#             data_iter = mx.io.NDArrayIter(\n",
    "#                             patches_mean_subtracted_input[b:b+n_each_iter], \n",
    "#                             batch_size=batch_size,\n",
    "#                             shuffle=False)\n",
    "            \n",
    "#             # Reference on how to predict with mxnet model:\n",
    "#             # https://github.com/dmlc/mxnet-notebooks/blob/master/python/how_to/predict.ipynb\n",
    "# #             model.bind(data_iter.provide_data, for_training=False)\n",
    "# #             model.set_params(arg_params=arg_params, aux_params=aux_params, allow_missing=True)\n",
    "#             outputs = model.predict(data_iter, always_output_list=True)\n",
    "#             features[b:b+n_each_iter] = outputs[0].asnumpy()\n",
    "        \n",
    "#             del data_iter\n",
    "        \n",
    "        sys.stderr.write('predict: %.2f seconds\\n' % (time.time() - t1)) \n",
    "        # All times below are after the first iteration (which is slow due to model loading into GPU).\n",
    "        # inception-bn-blue ~125s / 48k patches on workstation single Titan X\n",
    "        # inception-bn-blue ~27s / 48k patches on AWS p2.8xlarge 8 Tesla K80\n",
    "\n",
    "    # Had to modify [model]-symbol.json according to this https://github.com/dmlc/mxnet/issues/2718\n",
    "        \n",
    "#         del patches_mean_subtracted_input, patches, im\n",
    "        del patches_mean_subtracted_input, patches_mean_subtracted, patches, im\n",
    "        \n",
    "        t = time.time()\n",
    "\n",
    "        features_fp = DataManager.get_dnn_features_filepath(stack=stack, model_name=model_name, \n",
    "                                                          section=sec)\n",
    "        create_parent_dir_if_not_exists(features_fp)\n",
    "        bp.pack_ndarray_file(features.astype(np.float16), features_fp) # bloscpack produces files of similar size\n",
    "        upload_to_s3(features_fp, local_root=DATA_ROOTDIR)\n",
    "\n",
    "        feature_locs_fp = DataManager.get_dnn_feature_locations_filepath(stack=stack, model_name=model_name, \n",
    "                                                  section=sec)\n",
    "        np.savetxt(feature_locs_fp, np.c_[indices_roi, sample_locations_roi], fmt='%d %d %d')\n",
    "        upload_to_s3(feature_locs_fp, local_root=DATA_ROOTDIR)\n",
    "\n",
    "        sys.stderr.write('save: %.2f seconds\\n' % (time.time() - t)) # ~.5s\n",
    "        \n",
    "# Overall time: 2.5 hours / stack, on AWS using p2.8xlarge 8 Tesla K80."
   ]
  },
  {
   "cell_type": "code",
   "execution_count": null,
   "metadata": {
    "collapsed": true
   },
   "outputs": [],
   "source": []
  }
 ],
 "metadata": {
  "kernelspec": {
   "display_name": "Python 2",
   "language": "python",
   "name": "python2"
  },
  "language_info": {
   "codemirror_mode": {
    "name": "ipython",
    "version": 2
   },
   "file_extension": ".py",
   "mimetype": "text/x-python",
   "name": "python",
   "nbconvert_exporter": "python",
   "pygments_lexer": "ipython2",
   "version": "2.7.12"
  }
 },
 "nbformat": 4,
 "nbformat_minor": 1
}
