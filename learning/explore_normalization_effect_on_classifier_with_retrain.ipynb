{
 "cells": [
  {
   "cell_type": "code",
   "execution_count": 1,
   "metadata": {},
   "outputs": [
    {
     "name": "stderr",
     "output_type": "stream",
     "text": [
      "/usr/local/lib/python2.7/dist-packages/matplotlib/__init__.py:1350: UserWarning:  This call to matplotlib.use() has no effect\n",
      "because the backend has already been chosen;\n",
      "matplotlib.use() must be called *before* pylab, matplotlib.pyplot,\n",
      "or matplotlib.backends is imported for the first time.\n",
      "\n",
      "  warnings.warn(_use_error_msg)\n",
      "No vtk\n"
     ]
    },
    {
     "name": "stdout",
     "output_type": "stream",
     "text": [
      "Setting environment for Precision WorkStation\n"
     ]
    }
   ],
   "source": [
    "%load_ext autoreload\n",
    "%autoreload 2\n",
    "\n",
    "import sys\n",
    "import os\n",
    "import time\n",
    "\n",
    "import numpy as np\n",
    "try:\n",
    "    import mxnet as mx\n",
    "except:\n",
    "    sys.stderr.write(\"Cannot import mxnet.\\n\")\n",
    "import matplotlib.pyplot as plt\n",
    "%matplotlib inline\n",
    "from scipy.ndimage.interpolation import map_coordinates\n",
    "from skimage.exposure import rescale_intensity\n",
    "from skimage.transform import rotate\n",
    "\n",
    "sys.path.append(os.environ['REPO_DIR'] + '/utilities')\n",
    "from utilities2015 import *\n",
    "from metadata import *\n",
    "from data_manager import *\n",
    "from learning_utilities import *\n",
    "from distributed_utilities import *\n",
    "from visualization_utilities import *"
   ]
  },
  {
   "cell_type": "code",
   "execution_count": 2,
   "metadata": {},
   "outputs": [
    {
     "name": "stderr",
     "output_type": "stream",
     "text": [
      "xgboost is not loaded."
     ]
    }
   ],
   "source": [
    "from sklearn.externals import joblib\n",
    "\n",
    "from sklearn.linear_model import LogisticRegression\n",
    "from sklearn.svm import LinearSVC, SVC\n",
    "from sklearn.calibration import CalibratedClassifierCV\n",
    "from sklearn.ensemble import GradientBoostingClassifier \n",
    "\n",
    "sys.path.append('/home/yuncong/csd395/xgboost/python-package')\n",
    "try:\n",
    "    from xgboost.sklearn import XGBClassifier\n",
    "except:\n",
    "    sys.stderr.write('xgboost is not loaded.')"
   ]
  },
  {
   "cell_type": "code",
   "execution_count": 3,
   "metadata": {},
   "outputs": [
    {
     "name": "stderr",
     "output_type": "stream",
     "text": [
      "/usr/local/lib/python2.7/dist-packages/mxnet/module/base_module.py:53: UserWarning: \u001b[91mYou created Module with Module(..., label_names=['softmax_label']) but input with name 'softmax_label' is not found in symbol.list_arguments(). Did you mean one of:\n",
      "\tdata\u001b[0m\n",
      "  warnings.warn(msg)\n",
      "/usr/local/lib/python2.7/dist-packages/mxnet/module/base_module.py:65: UserWarning: Data provided by label_shapes don't match names specified by label_names ([] vs. ['softmax_label'])\n",
      "  warnings.warn(msg)\n"
     ]
    }
   ],
   "source": [
    "batch_size = 256\n",
    "model_dir_name = 'inception-bn-blue'\n",
    "model_name = 'inception-bn-blue'\n",
    "model, mean_img = load_mxnet_model(model_dir_name=model_dir_name, model_name=model_name, \n",
    "                                   num_gpus=1, batch_size=batch_size)"
   ]
  },
  {
   "cell_type": "code",
   "execution_count": 10,
   "metadata": {
    "scrolled": true
   },
   "outputs": [
    {
     "name": "stdout",
     "output_type": "stream",
     "text": [
      "aws s3 cp --recursive \"s3://mousebrainatlas-data/CSHL_labelings_v3/MD661\" \"/home/yuncong/CSHL_labelings_v3/MD661\" --exclude \"*\" --include \"*contours*\"\n",
      "latest timestamp:  08022017175151\n"
     ]
    },
    {
     "name": "stderr",
     "output_type": "stream",
     "text": [
      "Read: 0.80 seconds\n",
      "Sample addresses (stack MD661): 0. seconds.\n",
      "Sample addresses: 0.82 seconds\n"
     ]
    },
    {
     "name": "stdout",
     "output_type": "stream",
     "text": [
      "rm -rf \"/media/yuncong/BstemAtlasData/CSHL_data_processed/MD661/MD661_prep2_lossless_gray/MD662&661-F116-2017.06.07-04.39.41_MD661_2_0347_prep2_lossless_gray.tif\" && mkdir -p \"/media/yuncong/BstemAtlasData/CSHL_data_processed/MD661/MD661_prep2_lossless_gray\"\n",
      "aws s3 cp \"s3://mousebrainatlas-data/CSHL_data_processed/MD661/MD661_prep2_lossless_gray/MD662&661-F116-2017.06.07-04.39.41_MD661_2_0347_prep2_lossless_gray.tif\" \"/media/yuncong/BstemAtlasData/CSHL_data_processed/MD661/MD661_prep2_lossless_gray/MD662&661-F116-2017.06.07-04.39.41_MD661_2_0347_prep2_lossless_gray.tif\"\n"
     ]
    },
    {
     "name": "stderr",
     "output_type": "stream",
     "text": [
      "Load image: 6.16 seconds.\n"
     ]
    },
    {
     "name": "stdout",
     "output_type": "stream",
     "text": [
      "rm -rf \"/media/yuncong/BstemAtlasData/CSHL_data_processed/MD661/MD661_prep2_lossless_gray/MD662&661-F110-2017.06.07-02.03.05_MD661_1_0328_prep2_lossless_gray.tif\" && mkdir -p \"/media/yuncong/BstemAtlasData/CSHL_data_processed/MD661/MD661_prep2_lossless_gray\"\n",
      "aws s3 cp \"s3://mousebrainatlas-data/CSHL_data_processed/MD661/MD661_prep2_lossless_gray/MD662&661-F110-2017.06.07-02.03.05_MD661_1_0328_prep2_lossless_gray.tif\" \"/media/yuncong/BstemAtlasData/CSHL_data_processed/MD661/MD661_prep2_lossless_gray/MD662&661-F110-2017.06.07-02.03.05_MD661_1_0328_prep2_lossless_gray.tif\"\n"
     ]
    },
    {
     "name": "stderr",
     "output_type": "stream",
     "text": [
      "Load image: 6.47 seconds.\n"
     ]
    },
    {
     "name": "stdout",
     "output_type": "stream",
     "text": [
      "rm -rf \"/media/yuncong/BstemAtlasData/CSHL_data_processed/MD661/MD661_prep2_lossless_gray/MD662&661-F55-2017.06.22-17.33.34_MD661_1_0163_prep2_lossless_gray.tif\" && mkdir -p \"/media/yuncong/BstemAtlasData/CSHL_data_processed/MD661/MD661_prep2_lossless_gray\"\n",
      "aws s3 cp \"s3://mousebrainatlas-data/CSHL_data_processed/MD661/MD661_prep2_lossless_gray/MD662&661-F55-2017.06.22-17.33.34_MD661_1_0163_prep2_lossless_gray.tif\" \"/media/yuncong/BstemAtlasData/CSHL_data_processed/MD661/MD661_prep2_lossless_gray/MD662&661-F55-2017.06.22-17.33.34_MD661_1_0163_prep2_lossless_gray.tif\"\n"
     ]
    },
    {
     "name": "stderr",
     "output_type": "stream",
     "text": [
      "Load image: 6.78 seconds.\n"
     ]
    },
    {
     "name": "stdout",
     "output_type": "stream",
     "text": [
      "rm -rf \"/media/yuncong/BstemAtlasData/CSHL_data_processed/MD661/MD661_prep2_lossless_gray/MD662&661-F125-2017.06.07-16.50.51_MD661_2_0374_prep2_lossless_gray.tif\" && mkdir -p \"/media/yuncong/BstemAtlasData/CSHL_data_processed/MD661/MD661_prep2_lossless_gray\"\n",
      "aws s3 cp \"s3://mousebrainatlas-data/CSHL_data_processed/MD661/MD661_prep2_lossless_gray/MD662&661-F125-2017.06.07-16.50.51_MD661_2_0374_prep2_lossless_gray.tif\" \"/media/yuncong/BstemAtlasData/CSHL_data_processed/MD661/MD661_prep2_lossless_gray/MD662&661-F125-2017.06.07-16.50.51_MD661_2_0374_prep2_lossless_gray.tif\"\n"
     ]
    },
    {
     "name": "stderr",
     "output_type": "stream",
     "text": [
      "Load image: 6.36 seconds.\n"
     ]
    },
    {
     "name": "stdout",
     "output_type": "stream",
     "text": [
      "rm -rf \"/media/yuncong/BstemAtlasData/CSHL_data_processed/MD661/MD661_prep2_lossless_gray/MD662&661-F114-2017.06.07-03.45.47_MD661_1_0340_prep2_lossless_gray.tif\" && mkdir -p \"/media/yuncong/BstemAtlasData/CSHL_data_processed/MD661/MD661_prep2_lossless_gray\"\n",
      "aws s3 cp \"s3://mousebrainatlas-data/CSHL_data_processed/MD661/MD661_prep2_lossless_gray/MD662&661-F114-2017.06.07-03.45.47_MD661_1_0340_prep2_lossless_gray.tif\" \"/media/yuncong/BstemAtlasData/CSHL_data_processed/MD661/MD661_prep2_lossless_gray/MD662&661-F114-2017.06.07-03.45.47_MD661_1_0340_prep2_lossless_gray.tif\"\n"
     ]
    },
    {
     "name": "stderr",
     "output_type": "stream",
     "text": [
      "Load image: 6.12 seconds.\n"
     ]
    },
    {
     "name": "stdout",
     "output_type": "stream",
     "text": [
      "rm -rf \"/media/yuncong/BstemAtlasData/CSHL_data_processed/MD661/MD661_prep2_lossless_gray/MD662&661-F43-2017.06.05-21.05.21_MD661_1_0127_prep2_lossless_gray.tif\" && mkdir -p \"/media/yuncong/BstemAtlasData/CSHL_data_processed/MD661/MD661_prep2_lossless_gray\"\n",
      "aws s3 cp \"s3://mousebrainatlas-data/CSHL_data_processed/MD661/MD661_prep2_lossless_gray/MD662&661-F43-2017.06.05-21.05.21_MD661_1_0127_prep2_lossless_gray.tif\" \"/media/yuncong/BstemAtlasData/CSHL_data_processed/MD661/MD661_prep2_lossless_gray/MD662&661-F43-2017.06.05-21.05.21_MD661_1_0127_prep2_lossless_gray.tif\"\n"
     ]
    },
    {
     "name": "stderr",
     "output_type": "stream",
     "text": [
      "Load image: 7.92 seconds.\n"
     ]
    },
    {
     "name": "stdout",
     "output_type": "stream",
     "text": [
      "rm -rf \"/media/yuncong/BstemAtlasData/CSHL_data_processed/MD661/MD661_prep2_lossless_gray/MD662&661-F45-2017.06.05-22.05.50_MD661_1_0133_prep2_lossless_gray.tif\" && mkdir -p \"/media/yuncong/BstemAtlasData/CSHL_data_processed/MD661/MD661_prep2_lossless_gray\"\n",
      "aws s3 cp \"s3://mousebrainatlas-data/CSHL_data_processed/MD661/MD661_prep2_lossless_gray/MD662&661-F45-2017.06.05-22.05.50_MD661_1_0133_prep2_lossless_gray.tif\" \"/media/yuncong/BstemAtlasData/CSHL_data_processed/MD661/MD661_prep2_lossless_gray/MD662&661-F45-2017.06.05-22.05.50_MD661_1_0133_prep2_lossless_gray.tif\"\n"
     ]
    },
    {
     "name": "stderr",
     "output_type": "stream",
     "text": [
      "Load image: 8.63 seconds.\n"
     ]
    },
    {
     "name": "stdout",
     "output_type": "stream",
     "text": [
      "rm -rf \"/media/yuncong/BstemAtlasData/CSHL_data_processed/MD661/MD661_prep2_lossless_gray/MD662&661-F118-2017.06.07-11.26.45_MD661_2_0353_prep2_lossless_gray.tif\" && mkdir -p \"/media/yuncong/BstemAtlasData/CSHL_data_processed/MD661/MD661_prep2_lossless_gray\"\n",
      "aws s3 cp \"s3://mousebrainatlas-data/CSHL_data_processed/MD661/MD661_prep2_lossless_gray/MD662&661-F118-2017.06.07-11.26.45_MD661_2_0353_prep2_lossless_gray.tif\" \"/media/yuncong/BstemAtlasData/CSHL_data_processed/MD661/MD661_prep2_lossless_gray/MD662&661-F118-2017.06.07-11.26.45_MD661_2_0353_prep2_lossless_gray.tif\"\n"
     ]
    },
    {
     "name": "stderr",
     "output_type": "stream",
     "text": [
      "Load image: 6.99 seconds.\n"
     ]
    },
    {
     "name": "stdout",
     "output_type": "stream",
     "text": [
      "rm -rf \"/media/yuncong/BstemAtlasData/CSHL_data_processed/MD661/MD661_prep2_lossless_gray/MD662&661-F47-2017.06.05-23.06.43_MD661_3_0141_prep2_lossless_gray.tif\" && mkdir -p \"/media/yuncong/BstemAtlasData/CSHL_data_processed/MD661/MD661_prep2_lossless_gray\"\n",
      "aws s3 cp \"s3://mousebrainatlas-data/CSHL_data_processed/MD661/MD661_prep2_lossless_gray/MD662&661-F47-2017.06.05-23.06.43_MD661_3_0141_prep2_lossless_gray.tif\" \"/media/yuncong/BstemAtlasData/CSHL_data_processed/MD661/MD661_prep2_lossless_gray/MD662&661-F47-2017.06.05-23.06.43_MD661_3_0141_prep2_lossless_gray.tif\"\n"
     ]
    },
    {
     "name": "stderr",
     "output_type": "stream",
     "text": [
      "Load image: 6.46 seconds.\n"
     ]
    },
    {
     "name": "stdout",
     "output_type": "stream",
     "text": [
      "rm -rf \"/media/yuncong/BstemAtlasData/CSHL_data_processed/MD661/MD661_prep2_lossless_gray/MD662&661-F126-2017.06.07-17.13.02_MD661_1_0376_prep2_lossless_gray.tif\" && mkdir -p \"/media/yuncong/BstemAtlasData/CSHL_data_processed/MD661/MD661_prep2_lossless_gray\"\n",
      "aws s3 cp \"s3://mousebrainatlas-data/CSHL_data_processed/MD661/MD661_prep2_lossless_gray/MD662&661-F126-2017.06.07-17.13.02_MD661_1_0376_prep2_lossless_gray.tif\" \"/media/yuncong/BstemAtlasData/CSHL_data_processed/MD661/MD661_prep2_lossless_gray/MD662&661-F126-2017.06.07-17.13.02_MD661_1_0376_prep2_lossless_gray.tif\"\n"
     ]
    },
    {
     "name": "stderr",
     "output_type": "stream",
     "text": [
      "Load image: 6.11 seconds.\n"
     ]
    },
    {
     "name": "stdout",
     "output_type": "stream",
     "text": [
      "rm -rf \"/media/yuncong/BstemAtlasData/CSHL_data_processed/MD661/MD661_prep2_lossless_gray/MD662&661-F121-2017.06.07-14.55.33_MD661_2_0362_prep2_lossless_gray.tif\" && mkdir -p \"/media/yuncong/BstemAtlasData/CSHL_data_processed/MD661/MD661_prep2_lossless_gray\"\n",
      "aws s3 cp \"s3://mousebrainatlas-data/CSHL_data_processed/MD661/MD661_prep2_lossless_gray/MD662&661-F121-2017.06.07-14.55.33_MD661_2_0362_prep2_lossless_gray.tif\" \"/media/yuncong/BstemAtlasData/CSHL_data_processed/MD661/MD661_prep2_lossless_gray/MD662&661-F121-2017.06.07-14.55.33_MD661_2_0362_prep2_lossless_gray.tif\"\n"
     ]
    },
    {
     "name": "stderr",
     "output_type": "stream",
     "text": [
      "Load image: 9.82 seconds.\n"
     ]
    },
    {
     "name": "stdout",
     "output_type": "stream",
     "text": [
      "rm -rf \"/media/yuncong/BstemAtlasData/CSHL_data_processed/MD661/MD661_prep2_lossless_gray/MD662&661-F50-2017.06.06-00.35.44_MD661_1_0148_prep2_lossless_gray.tif\" && mkdir -p \"/media/yuncong/BstemAtlasData/CSHL_data_processed/MD661/MD661_prep2_lossless_gray\"\n",
      "aws s3 cp \"s3://mousebrainatlas-data/CSHL_data_processed/MD661/MD661_prep2_lossless_gray/MD662&661-F50-2017.06.06-00.35.44_MD661_1_0148_prep2_lossless_gray.tif\" \"/media/yuncong/BstemAtlasData/CSHL_data_processed/MD661/MD661_prep2_lossless_gray/MD662&661-F50-2017.06.06-00.35.44_MD661_1_0148_prep2_lossless_gray.tif\"\n"
     ]
    },
    {
     "name": "stderr",
     "output_type": "stream",
     "text": [
      "Load image: 7.00 seconds.\n"
     ]
    },
    {
     "name": "stdout",
     "output_type": "stream",
     "text": [
      "rm -rf \"/media/yuncong/BstemAtlasData/CSHL_data_processed/MD661/MD661_prep2_lossless_gray/MD662&661-F57-2017.06.06-02.06.22_MD661_2_0170_prep2_lossless_gray.tif\" && mkdir -p \"/media/yuncong/BstemAtlasData/CSHL_data_processed/MD661/MD661_prep2_lossless_gray\"\n",
      "aws s3 cp \"s3://mousebrainatlas-data/CSHL_data_processed/MD661/MD661_prep2_lossless_gray/MD662&661-F57-2017.06.06-02.06.22_MD661_2_0170_prep2_lossless_gray.tif\" \"/media/yuncong/BstemAtlasData/CSHL_data_processed/MD661/MD661_prep2_lossless_gray/MD662&661-F57-2017.06.06-02.06.22_MD661_2_0170_prep2_lossless_gray.tif\"\n"
     ]
    },
    {
     "name": "stderr",
     "output_type": "stream",
     "text": [
      "Load image: 6.48 seconds.\n"
     ]
    },
    {
     "name": "stdout",
     "output_type": "stream",
     "text": [
      "rm -rf \"/media/yuncong/BstemAtlasData/CSHL_data_processed/MD661/MD661_prep2_lossless_gray/MD662&661-F119-2017.06.07-11.50.55_MD661_2_0356_prep2_lossless_gray.tif\" && mkdir -p \"/media/yuncong/BstemAtlasData/CSHL_data_processed/MD661/MD661_prep2_lossless_gray\"\n",
      "aws s3 cp \"s3://mousebrainatlas-data/CSHL_data_processed/MD661/MD661_prep2_lossless_gray/MD662&661-F119-2017.06.07-11.50.55_MD661_2_0356_prep2_lossless_gray.tif\" \"/media/yuncong/BstemAtlasData/CSHL_data_processed/MD661/MD661_prep2_lossless_gray/MD662&661-F119-2017.06.07-11.50.55_MD661_2_0356_prep2_lossless_gray.tif\"\n"
     ]
    },
    {
     "name": "stderr",
     "output_type": "stream",
     "text": [
      "Load image: 7.17 seconds.\n"
     ]
    },
    {
     "name": "stdout",
     "output_type": "stream",
     "text": [
      "rm -rf \"/media/yuncong/BstemAtlasData/CSHL_data_processed/MD661/MD661_prep2_lossless_gray/MD662&661-F52-2017.06.06-01.35.53_MD661_2_0155_prep2_lossless_gray.tif\" && mkdir -p \"/media/yuncong/BstemAtlasData/CSHL_data_processed/MD661/MD661_prep2_lossless_gray\"\n",
      "aws s3 cp \"s3://mousebrainatlas-data/CSHL_data_processed/MD661/MD661_prep2_lossless_gray/MD662&661-F52-2017.06.06-01.35.53_MD661_2_0155_prep2_lossless_gray.tif\" \"/media/yuncong/BstemAtlasData/CSHL_data_processed/MD661/MD661_prep2_lossless_gray/MD662&661-F52-2017.06.06-01.35.53_MD661_2_0155_prep2_lossless_gray.tif\"\n"
     ]
    },
    {
     "name": "stderr",
     "output_type": "stream",
     "text": [
      "Load image: 7.47 seconds.\n"
     ]
    },
    {
     "name": "stdout",
     "output_type": "stream",
     "text": [
      "rm -rf \"/media/yuncong/BstemAtlasData/CSHL_data_processed/MD661/MD661_prep2_lossless_gray/MD662&661-F106-2017.06.07-00.20.03_MD661_2_0317_prep2_lossless_gray.tif\" && mkdir -p \"/media/yuncong/BstemAtlasData/CSHL_data_processed/MD661/MD661_prep2_lossless_gray\"\n",
      "aws s3 cp \"s3://mousebrainatlas-data/CSHL_data_processed/MD661/MD661_prep2_lossless_gray/MD662&661-F106-2017.06.07-00.20.03_MD661_2_0317_prep2_lossless_gray.tif\" \"/media/yuncong/BstemAtlasData/CSHL_data_processed/MD661/MD661_prep2_lossless_gray/MD662&661-F106-2017.06.07-00.20.03_MD661_2_0317_prep2_lossless_gray.tif\"\n"
     ]
    },
    {
     "name": "stderr",
     "output_type": "stream",
     "text": [
      "Load image: 6.95 seconds.\n"
     ]
    }
   ],
   "source": [
    "classes = ['pos', 'surPos', 'surNoclass']\n",
    "num_samples_per_label = 1000\n",
    "stacks = ['MD661']\n",
    "win_id = 5\n",
    "\n",
    "#############################################\n",
    "\n",
    "structures_to_sample = ['SNR']\n",
    "\n",
    "negative_labels_to_sample = [s + '_negative' for s in structures_to_sample]\n",
    "\n",
    "margins_to_sample = [500]\n",
    "surround_positive_labels_to_sample = [convert_to_surround_name(s, margin=m, suffix=surr_l) \n",
    "                             for m in margins_to_sample\n",
    "                             for s in structures_to_sample \n",
    "                             for surr_l in all_known_structures\n",
    "                             if surr_l != s]\n",
    "surround_noclass_labels_to_sample = [convert_to_surround_name(s, margin=m, suffix='noclass') \n",
    "                             for m in margins_to_sample\n",
    "                             for s in structures_to_sample]\n",
    "\n",
    "labels_to_sample = []\n",
    "if 'pos' in classes:\n",
    "    labels_to_sample += structures_to_sample\n",
    "if 'neg' in classes:\n",
    "    labels_to_sample += negative_labels_to_sample\n",
    "if 'surPos' in classes:\n",
    "    labels_to_sample += surround_positive_labels_to_sample\n",
    "if 'surNoclass' in classes:\n",
    "    labels_to_sample += surround_noclass_labels_to_sample\n",
    "\n",
    "###################################################\n",
    "\n",
    "grid_indices_lookup_fps = {stack: DataManager.get_annotation_to_grid_indices_lookup_filepath(stack=stack, \n",
    "                                                                                             win_id=win_id,\n",
    "                                                                         by_human=True, timestamp='latest')\n",
    "                          for stack in stacks}    \n",
    "addresses = generate_dataset_addresses(num_samples_per_label=num_samples_per_label, \n",
    "                                     stacks=stacks,\n",
    "                                     labels_to_sample=labels_to_sample,\n",
    "                                      grid_indices_lookup_fps=grid_indices_lookup_fps)\n",
    "\n",
    "patches = apply_function_to_dict(lambda addrs: \\\n",
    "                                 extract_patches_given_locations_multiple_sections(addrs, location_or_grid_index='grid_index', \n",
    "                                                                                   version='gray',\n",
    "                                                                                  win_id=win_id), \n",
    "               addresses)\n",
    "\n",
    "#     variants = [0] # No rotation augmentation\n",
    "\n",
    "#     addresses_vars = {}\n",
    "#     for s, ps in patches.iteritems():\n",
    "#         ps_vars = []\n",
    "#         addrs_vars = []\n",
    "#         for v in variants:\n",
    "#             ps_var = rotate_all_patches_variant(ps, variant=v)\n",
    "#             ps_vars.append(ps_var)\n",
    "#             addrs_vars += addresses[s]\n",
    "#         ps_vars = np.concatenate(ps_vars)\n",
    "\n",
    "#         patch_images_fp = DataManager.get_dataset_patches_filepath(dataset_id=dataset_id, structure=s)      \n",
    "# #         os.path.join(CLF_ROOTDIR, 'datasets', 'dataset_%d' % dataset_id, 'patch_images_%s.hdf' % s)\n",
    "#         create_parent_dir_if_not_exists(patch_images_fp)\n",
    "#         bp.pack_ndarray_file(ps_vars, patch_images_fp)\n",
    "#         upload_to_s3(patch_images_fp, local_root=DATA_ROOTDIR)\n",
    "\n",
    "#         # Save training addresses\n",
    "#         addresses_fp = DataManager.get_dataset_addresses_filepath(dataset_id=dataset_id, structure=s)\n",
    "#         save_pickle(addrs_vars, addresses_fp)\n",
    "#         upload_to_s3(addresses_fp, DATA_ROOTDIR)\n",
    "\n",
    "#     del ps_vars, addrs_vars, patches, addresses"
   ]
  },
  {
   "cell_type": "code",
   "execution_count": 16,
   "metadata": {
    "scrolled": true
   },
   "outputs": [],
   "source": [
    "windowing_properties = windowing_settings[win_id]\n",
    "patch_size = windowing_properties['patch_size']\n",
    "half_size = patch_size/2\n",
    "spacing = windowing_properties['spacing']\n",
    "\n",
    "sample_locations_allStacks = {}\n",
    "for stack in stacks:\n",
    "    w, h = metadata_cache['image_shape'][stack]\n",
    "    sample_locations_allStacks[stack] = grid_parameters_to_sample_locations(grid_spec=(patch_size, spacing, w, h))"
   ]
  },
  {
   "cell_type": "code",
   "execution_count": 31,
   "metadata": {},
   "outputs": [],
   "source": [
    "patch_locations = {label: [(st, sec, sample_locations_allStacks[st][grid_idx]) for st, sec, grid_idx in addrs] \n",
    " for label, addrs in addresses.iteritems()}"
   ]
  },
  {
   "cell_type": "code",
   "execution_count": null,
   "metadata": {
    "collapsed": true
   },
   "outputs": [],
   "source": []
  },
  {
   "cell_type": "code",
   "execution_count": 44,
   "metadata": {
    "collapsed": true
   },
   "outputs": [],
   "source": [
    "training_patches = patches"
   ]
  },
  {
   "cell_type": "code",
   "execution_count": 45,
   "metadata": {},
   "outputs": [
    {
     "name": "stdout",
     "output_type": "stream",
     "text": [
      "SNR_surround_500_SNC 411\n",
      "(411, 1, 224, 224)\n",
      "SNR_surround_500_PBG 257\n",
      "(257, 1, 224, 224)\n",
      "SNR_surround_500_VLL 732\n",
      "(732, 1, 224, 224)\n",
      "SNR 1000\n",
      "(1000, 1, 224, 224)\n",
      "SNR_surround_500_noclass 1000\n",
      "(1000, 1, 224, 224)\n",
      "SNR_surround_500_Pn 6\n",
      "(256, 1, 224, 224)\n"
     ]
    }
   ],
   "source": [
    "features_allLabels = {}\n",
    "\n",
    "for label in patches.iterkeys():\n",
    "\n",
    "    print label, len(training_patches[label])\n",
    "\n",
    "    # If using patch size different from 224x224, resize the patches before feeding to CNN.\n",
    "    if windowing_settings[win_id]['patch_size'] == 448:\n",
    "        training_patches[label] = [p[::2, ::2] for p in training_patches[label]]\n",
    "\n",
    "    features = convert_image_patches_to_features(patches=training_patches[label], model=model, mean_img=mean_img, batch_size=batch_size)\n",
    "    features_allLabels[label] = features\n",
    "    \n",
    "    ##################################################\n",
    "\n",
    "#     # Save training features\n",
    "#     features_fp = DataManager.get_dataset_features_filepath(dataset_id=feature_dataset_id, structure=label, ext='bp')\n",
    "#     create_parent_dir_if_not_exists(features_fp)\n",
    "#     bp.pack_ndarray_file(features, features_fp)\n",
    "#     upload_to_s3(features_fp, local_root=DATA_ROOTDIR)\n",
    "\n",
    "#     # Save training addresses\n",
    "#     addresses_fp = DataManager.get_dataset_addresses_filepath(dataset_id=feature_dataset_id, structure=label)\n",
    "#     save_pickle(training_addresses, addresses_fp)\n",
    "#     upload_to_s3(addresses_fp, local_root=DATA_ROOTDIR)"
   ]
  },
  {
   "cell_type": "code",
   "execution_count": null,
   "metadata": {
    "collapsed": true
   },
   "outputs": [],
   "source": []
  },
  {
   "cell_type": "code",
   "execution_count": 46,
   "metadata": {
    "collapsed": true
   },
   "outputs": [],
   "source": [
    "training_accuracies = {}"
   ]
  },
  {
   "cell_type": "code",
   "execution_count": 75,
   "metadata": {
    "collapsed": true
   },
   "outputs": [],
   "source": [
    "trained_classifiers = {}"
   ]
  },
  {
   "cell_type": "code",
   "execution_count": 97,
   "metadata": {},
   "outputs": [
    {
     "name": "stdout",
     "output_type": "stream",
     "text": [
      "SNR\n",
      "500 positive examples\n",
      "500 negative examples\n",
      "0.952\n"
     ]
    },
    {
     "name": "stderr",
     "output_type": "stream",
     "text": [
      "Fitting classifier: 0.24 seconds\n"
     ]
    }
   ],
   "source": [
    "margin_um = 500\n",
    "feature_classifier_model = 'lr'\n",
    "sample_weighting = None\n",
    "neg_composition = 'neg_has_all_surround'\n",
    "svm_id = None\n",
    "num_samples_per_class = 500\n",
    "\n",
    "for structure in ['SNR']:\n",
    "#     for structure in all_known_structures:\n",
    "\n",
    "    # Determine which labels to load.\n",
    "\n",
    "    structures_to_sample = [structure]\n",
    "    # structures_to_sample = all_known_structures\n",
    "    # structures_to_sample = ['Pn']\n",
    "\n",
    "    negative_labels_to_sample = [s + '_negative' for s in structures_to_sample]\n",
    "\n",
    "    margins_to_sample = [margin_um]\n",
    "    surround_positive_labels_to_sample = [convert_to_surround_name(s, margin=m, suffix=surr_l) \n",
    "                                 for m in margins_to_sample\n",
    "                                 for s in structures_to_sample \n",
    "                                 for surr_l in all_known_structures\n",
    "                                 if surr_l != s]\n",
    "    surround_noclass_labels_to_sample = [convert_to_surround_name(s, margin=m, suffix='noclass') \n",
    "                                 for m in margins_to_sample\n",
    "                                 for s in structures_to_sample]\n",
    "\n",
    "    if neg_composition == 'neg_has_everything_else':\n",
    "        labels_to_sample = structures_to_sample + negative_labels_to_sample\n",
    "    elif neg_composition == 'neg_has_only_surround_noclass':\n",
    "        labels_to_sample = structures_to_sample + surround_noclass_labels_to_sample + ['noclass']\n",
    "    elif neg_composition == 'neg_has_all_surround':\n",
    "        labels_to_sample = structures_to_sample + surround_positive_labels_to_sample + surround_noclass_labels_to_sample + ['noclass']\n",
    "    elif neg_composition == 'neg_has_surround_and_negative':\n",
    "        labels_to_sample = structures_to_sample + negative_labels_to_sample + surround_positive_labels_to_sample + surround_noclass_labels_to_sample\n",
    "    else:\n",
    "        raise Exception(\"neg_composition %s not recognized\" % neg_composition)\n",
    "\n",
    "    ######################\n",
    "\n",
    "#     training_set_ids = map(int, str(classifier_properties['train_set_id']).split('/'))\n",
    "#     training_features, training_addresses = DataManager.load_datasets_bp(training_set_ids, \n",
    "#                                                                          labels_to_sample=labels_to_sample)\n",
    "    training_features = {}\n",
    "    for l in labels_to_sample:\n",
    "        if l in features_allLabels:\n",
    "            training_features[l] = features_allLabels[l]\n",
    "\n",
    "    ########################\n",
    "\n",
    "    labels_found = training_features.keys()\n",
    "    structures_found = set([convert_to_original_name(l) for l in labels_found \n",
    "                        if convert_to_original_name(l) in labels_found]) - {'noclass'}\n",
    "\n",
    "    ######################\n",
    "\n",
    "    print structure\n",
    "\n",
    "    #############################\n",
    "    ## Define Positive Samples ##\n",
    "    #############################\n",
    "\n",
    "    features_pos = training_features[structure]\n",
    "\n",
    "    if num_samples_per_class is not None:\n",
    "        \n",
    "        features_pos_sample_indices = np.random.choice(range(len(features_pos)), \n",
    "                                                     replace=False, \n",
    "                                                     size=(min(num_samples_per_class, len(features_pos)),))\n",
    "        features_pos_unused_indices = np.setdiff1d(range(len(features_pos)), features_pos_sample_indices)\n",
    "        features_pos_unused = features_pos[features_pos_unused_indices]\n",
    "        \n",
    "        features_pos = features_pos[features_pos_sample_indices]\n",
    "\n",
    "    n_pos = len(features_pos)\n",
    "    print n_pos, 'positive examples'\n",
    "\n",
    "    #############################\n",
    "    ## Define Negative Samples ##\n",
    "    #############################\n",
    "\n",
    "    if neg_composition == 'neg_has_only_surround_noclass':\n",
    "        neg_classes = [convert_to_surround_name(structure, margin=margin_um, suffix='noclass')]\n",
    "    elif neg_composition == 'neg_has_all_surround':\n",
    "        neg_classes = [convert_to_surround_name(structure, margin=margin_um, suffix='noclass')]\n",
    "        for surr_s in all_known_structures:\n",
    "            c = convert_to_surround_name(structure, margin=margin_um, suffix=surr_s)\n",
    "            if c in labels_found:\n",
    "                neg_classes.append(c)\n",
    "    elif neg_composition == 'neg_has_everything_else':\n",
    "        neg_classes = [structure + '_negative']\n",
    "    elif neg_composition == 'neg_has_surround_and_negative':\n",
    "        neg_classes = [convert_to_surround_name(structure, margin=margin_um, suffix='noclass')]\n",
    "        for surr_s in all_known_structures:\n",
    "            c = convert_to_surround_name(structure, margin=margin_um, suffix=surr_s)\n",
    "            if c in labels_found:\n",
    "                neg_classes.append(c)\n",
    "        neg_classes += [structure + '_negative']\n",
    "    else:\n",
    "        raise Exception('neg_composition %s is not recognized.' % neg_composition)\n",
    "\n",
    "    features_neg = np.concatenate([training_features[neg_class] for neg_class in neg_classes])\n",
    "\n",
    "    if num_samples_per_class is not None:\n",
    "        features_neg_sample_indices = np.random.choice(range(len(features_neg)), \n",
    "                                                       replace=False,\n",
    "                                                       size=(min(num_samples_per_class, len(features_neg)),))\n",
    "        \n",
    "        features_neg_unused_indices = np.setdiff1d(range(len(features_neg)), features_neg_sample_indices)\n",
    "        features_neg_unused = features_neg[features_neg_unused_indices]\n",
    "        \n",
    "        features_neg = features_neg[features_neg_sample_indices]\n",
    "        \n",
    "\n",
    "    n_neg = len(features_neg)\n",
    "    print n_neg, 'negative examples'\n",
    "\n",
    "    ###########################\n",
    "    ## Define Sample Weights ##\n",
    "    ###########################\n",
    "\n",
    "    if sample_weighting == 'weighted':\n",
    "        neg_distances = np.concatenate([distances_to_structures[neg_class][structure] for neg_class in neg_classes])\n",
    "\n",
    "        sample_weights_neg = np.ones((n_neg,))\n",
    "        sample_weights_neg[neg_distances > thresh] = diminishing(neg_distances[neg_distances > thresh])\n",
    "        sample_weights = np.r_[np.ones((n_pos,)), sample_weights_neg]\n",
    "    else:\n",
    "        sample_weights = None\n",
    "\n",
    "    ###########################################################################################\n",
    "\n",
    "    train_data = np.r_[features_pos, features_neg]\n",
    "    train_labels = np.r_[np.ones((features_pos.shape[0], )), \n",
    "                         -np.ones((features_neg.shape[0], ))]\n",
    "\n",
    "    #     n_train = len(train_labels0)\n",
    "    #     ri = np.random.choice(range(n_train), size=100, replace=False)\n",
    "    #     train_data = train_data0[ri]\n",
    "    #     train_labels = train_labels0[ri]\n",
    "\n",
    "    #####################################\n",
    "    ## Define feature_classifier_model ##\n",
    "    #####################################\n",
    "\n",
    "    if feature_classifier_model == 'lr':\n",
    "        clf = LogisticRegression(penalty='l2', dual=False, tol=0.0001, C=1.0, \n",
    "                                 fit_intercept=True, intercept_scaling=1, class_weight=None, \n",
    "                                 random_state=None, solver='liblinear', max_iter=100, multi_class='ovr', \n",
    "                                 verbose=0, warm_start=False, n_jobs=1)\n",
    "\n",
    "    elif feature_classifier_model == 'lin_svc':\n",
    "        clf = SVC(C=1.0, kernel='linear', degree=3, gamma='auto', coef0=0.0, shrinking=True, \n",
    "                  probability=True, tol=0.001, cache_size=1000, max_iter=-1,\n",
    "              decision_function_shape=None, random_state=None)\n",
    "\n",
    "\n",
    "    elif feature_classifier_model == 'lin_svc_calib':\n",
    "\n",
    "        sv_uncalibrated = LinearSVC(penalty='l2', loss='squared_hinge', dual=True, tol=0.0001, \n",
    "                                C=1.0, multi_class='ovr', \n",
    "                                fit_intercept=True, intercept_scaling=1, max_iter=100)\n",
    "        clf = CalibratedClassifierCV(sv_uncalibrated)\n",
    "\n",
    "\n",
    "    elif feature_classifier_model == 'xgb1':\n",
    "        clf = XGBClassifier(max_depth=3, learning_rate=0.2, n_estimators=200, \n",
    "                            silent=False, objective='binary:logistic', nthread=-1, gamma=0, \n",
    "                            min_child_weight=20, max_delta_step=0, subsample=.8, \n",
    "                            colsample_bytree=.8, colsample_bylevel=1, reg_alpha=0, reg_lambda=1, \n",
    "                            scale_pos_weight=1, base_score=0.5, seed=0, missing=None)\n",
    "\n",
    "    elif feature_classifier_model == 'xgb2':\n",
    "        clf = XGBClassifier(max_depth=5, learning_rate=0.2, n_estimators=100, \n",
    "                            silent=False, objective='binary:logistic')\n",
    "        # 40s, 10,000 pos and 10,000 neg samples\n",
    "\n",
    "    elif feature_classifier_model == 'gb1':\n",
    "        clf = GradientBoostingClassifier(loss='deviance', learning_rate=0.3, n_estimators=200, \n",
    "                                         subsample=1., criterion='friedman_mse', \n",
    "                                         min_samples_split=50, min_samples_leaf=20, \n",
    "                                         min_weight_fraction_leaf=0.0, max_depth=3, \n",
    "                                         min_impurity_split=1e-07, init=None, random_state=None, \n",
    "                                         max_features=None, verbose=1, max_leaf_nodes=None, \n",
    "                                         warm_start=False, presort='auto')\n",
    "\n",
    "    elif feature_classifier_model == 'gb2':\n",
    "        clf = GradientBoostingClassifier(loss='deviance', learning_rate=0.3, n_estimators=100, \n",
    "                                         subsample=1., criterion='friedman_mse', \n",
    "                                         min_samples_split=50, min_samples_leaf=20, \n",
    "                                         min_weight_fraction_leaf=0.0, max_depth=5, \n",
    "                                         min_impurity_split=1e-07, init=None, random_state=None, \n",
    "                                         max_features=None, verbose=1, max_leaf_nodes=None, \n",
    "                                         warm_start=False, presort='auto')\n",
    "\n",
    "\n",
    "    else:\n",
    "        sys.stderr.write('Setting is not recognized.\\n')\n",
    "\n",
    "    t = time.time()    \n",
    "    clf.fit(train_data, train_labels, sample_weight=sample_weights)\n",
    "    sys.stderr.write('Fitting classifier: %.2f seconds\\n' % (time.time() - t))\n",
    "\n",
    "    trained_classifiers[structure] = clf\n",
    "    \n",
    "#         clf_fp = DataManager.get_classifier_filepath(classifier_id=svm_id, structure=structure)\n",
    "#         create_parent_dir_if_not_exists(clf_fp)\n",
    "#         joblib.dump(clf, clf_fp)\n",
    "#         upload_to_s3(clf_fp)\n",
    "\n",
    "    from sklearn.metrics import accuracy_score\n",
    "    train_acc = accuracy_score(train_labels, clf.predict(train_data), normalize=True)\n",
    "    print train_acc\n",
    "\n",
    "    training_accuracies[structure] = train_acc"
   ]
  },
  {
   "cell_type": "code",
   "execution_count": null,
   "metadata": {
    "collapsed": true
   },
   "outputs": [],
   "source": []
  },
  {
   "cell_type": "code",
   "execution_count": 98,
   "metadata": {
    "collapsed": true
   },
   "outputs": [],
   "source": [
    "negative_composition_rules = ['surround500']"
   ]
  },
  {
   "cell_type": "code",
   "execution_count": 104,
   "metadata": {
    "collapsed": true
   },
   "outputs": [],
   "source": [
    "fixed_n_pos = 500\n",
    "fixed_n_neg = 500"
   ]
  },
  {
   "cell_type": "code",
   "execution_count": 105,
   "metadata": {},
   "outputs": [
    {
     "name": "stdout",
     "output_type": "stream",
     "text": [
      "SNR 500 positive\n",
      "SNR 500 negative\n"
     ]
    }
   ],
   "source": [
    "acc_all_clfs_all_structures_all_negcomprule = defaultdict(lambda: defaultdict(dict))\n",
    "tp_normalized_all_clfs_all_structures_all_negcomprule = defaultdict(lambda: defaultdict(dict))\n",
    "# fn_normalized_all_clfs_all_structures_all_negcomprule = defaultdict(lambda: defaultdict(dict))\n",
    "fp_normalized_all_clfs_all_structures_all_negcomprule = defaultdict(lambda: defaultdict(dict))\n",
    "# tn_normalized_all_clfs_all_structures_all_negcomprule = defaultdict(lambda: defaultdict(dict))\n",
    "precision_normalized_all_clfs_all_structures_all_negcomprule = defaultdict(lambda: defaultdict(dict))\n",
    "recall_normalized_all_clfs_all_structures_all_negcomprule = defaultdict(lambda: defaultdict(dict))\n",
    "f1score_normalized_all_clfs_all_structures_all_negcomprule =  defaultdict(lambda: defaultdict(dict))\n",
    "\n",
    "classifier_ids = [0]\n",
    "\n",
    "for classifier_id in classifier_ids:\n",
    "    \n",
    "    clf_allClasses = trained_classifiers\n",
    "\n",
    "    ####################################################\n",
    "    # Compute accuracy against each structure surround #\n",
    "    ####################################################\n",
    "    \n",
    "    for neg_composition_rule in negative_composition_rules:\n",
    "            \n",
    "        ncols = 5\n",
    "        nrows = int(np.ceil(len(structures_found)/float(ncols)))\n",
    "\n",
    "    #     fig, axes = plt.subplots(nrows, ncols, figsize=(ncols*2, nrows*2), sharex=True, sharey=True)\n",
    "    #     axes = axes.flatten()\n",
    "\n",
    "        for i, structure in enumerate(structures_found):\n",
    "\n",
    "#             features_pos = test_features[structure]\n",
    "            features_pos = features_pos_unused\n",
    "    \n",
    "            if fixed_n_pos is not None:\n",
    "                features_pos = features_pos[np.random.choice(range( len(features_pos)), replace=False, size=(min(fixed_n_pos, len(features_pos)),))]\n",
    "\n",
    "            n_pos = len(features_pos)\n",
    "            print structure, n_pos, 'positive'\n",
    "\n",
    "            if neg_composition_rule.startswith('surround'):\n",
    "                if neg_composition_rule == 'surround200':\n",
    "                    margin_um = 200\n",
    "                elif neg_composition_rule == 'surround500':\n",
    "                    margin_um = 500\n",
    "                elif neg_composition_rule == 'surround1000':\n",
    "                    margin_um = 1000\n",
    "                else:\n",
    "                    margin_um = None\n",
    "                neg_classes = [convert_to_surround_name(structure, margin=margin_um, suffix='noclass')] + \\\n",
    "                [convert_to_surround_name(structure, margin=margin_um, suffix=surr_l) for surr_l in structures_found]\n",
    "            elif neg_composition_rule == 'negative':\n",
    "                neg_classes = [structure + '_negative']\n",
    "            else:\n",
    "                raise\n",
    "            \n",
    "            neg_classes = list(set(neg_classes) & set(labels_found))\n",
    "\n",
    "#             features_neg = np.vstack([test_features[neg_class] for neg_class in neg_classes])\n",
    "            features_neg = features_neg_unused\n",
    "    \n",
    "            if fixed_n_neg is not None:\n",
    "                features_neg = features_neg[np.random.choice(range( len(features_neg)), replace=False, size=(min(fixed_n_neg, len(features_neg)),))]        \n",
    "\n",
    "            n_neg = len(features_neg)\n",
    "            print structure, n_neg, 'negative'\n",
    "\n",
    "            test_data = np.r_[features_pos, features_neg]\n",
    "            test_labels = np.r_[np.ones((features_pos.shape[0], )), \n",
    "                                 -np.ones((features_neg.shape[0], ))]\n",
    "\n",
    "            if structure not in clf_allClasses:\n",
    "                sys.stderr.write('Classifier for structure %s does not exist.\\n' %  structure)\n",
    "                continue\n",
    "\n",
    "            clf = clf_allClasses[structure]\n",
    "\n",
    "            probs = clf.predict_proba(test_data)[:, clf.classes_.tolist().index(1.)]\n",
    "            \n",
    "            \n",
    "            ######### SOFT ########\n",
    "#             cm = compute_confusion_matrix(np.c_[probs, 1-probs], [0 if l==1. else 1 for l in test_labels], soft=True,\n",
    "#                                              normalize=False)\n",
    "#             tp = cm[0,0]\n",
    "#             fn = cm[0,1]\n",
    "#             fp = cm[1,0]\n",
    "#             tn = cm[1,1]\n",
    "\n",
    "#             acc = (tp + tn) / (n_pos + n_neg)\n",
    "#             acc_all_clfs_all_structures_all_negcomprule[classifier_id][structure][neg_composition_rule] = acc\n",
    "\n",
    "            ######## PRECISION-RECALL ########\n",
    "            precision_allthresh = {}\n",
    "            recall_allthresh = {}\n",
    "            f1score_allthresh = {}\n",
    "            tp_normalized_allthresh = {}\n",
    "            fp_normalized_allthresh = {}\n",
    "            for th in np.arange(0., 1., 0.01):\n",
    "            \n",
    "                cm = compute_confusion_matrix(np.c_[probs, 1-probs], [0 if l==1. else 1 for l in test_labels], soft=False,\n",
    "                                             normalize=False, binary=True, decision_thresh=th)\n",
    "\n",
    "                tp = cm[0,0]\n",
    "                fn = cm[0,1]\n",
    "                fp = cm[1,0]\n",
    "                tn = cm[1,1]\n",
    "                \n",
    "                tp_normalized = tp / n_pos\n",
    "#                 fn_normalized = fn / n_pos\n",
    "                fp_normalized = fp / n_neg\n",
    "#                 tn_normalized = tn / n_neg\n",
    "\n",
    "                precision = float(tp) / (tp + fp)\n",
    "                recall = float(tp) / (tp + fn)\n",
    "                f1score = 2*recall*precision/(recall+precision)\n",
    "                \n",
    "                tp_normalized_allthresh[float(th)] = tp_normalized\n",
    "                fp_normalized_allthresh[float(th)] = fp_normalized\n",
    "                precision_allthresh[float(th)] = precision\n",
    "                recall_allthresh[float(th)] = recall\n",
    "                f1score_allthresh[float(th)] = f1score\n",
    "\n",
    "            tp_normalized_all_clfs_all_structures_all_negcomprule[classifier_id][structure][neg_composition_rule] = tp_normalized_allthresh\n",
    "#             fn_normalized_all_clfs_all_structures_all_negcomprule[classifier_id][structure][neg_composition_rule] = fn_normalized_allthresh\n",
    "            fp_normalized_all_clfs_all_structures_all_negcomprule[classifier_id][structure][neg_composition_rule] = fp_normalized_allthresh\n",
    "#             tn_normalized_all_clfs_all_structures_all_negcomprule[classifier_id][structure][neg_composition_rule] = tn_normalized_allthresh\n",
    "            precision_normalized_all_clfs_all_structures_all_negcomprule[classifier_id][structure][neg_composition_rule] = precision_allthresh\n",
    "            recall_normalized_all_clfs_all_structures_all_negcomprule[classifier_id][structure][neg_composition_rule] = recall_allthresh\n",
    "            f1score_normalized_all_clfs_all_structures_all_negcomprule[classifier_id][structure][neg_composition_rule] = f1score_allthresh\n",
    "    #     plt.tight_layout()\n",
    "\n",
    "        ############################\n",
    "\n",
    "#         xticks = range(1, 1 + len(structures_sorted_by_size))\n",
    "\n",
    "#         plt.figure(figsize=(10, 1.2));\n",
    "#         plt.stem(xticks, [acc_all_clfs_all_structures[classifier_id][s] for s in structures_sorted_by_size]);\n",
    "#         plt.xticks(xticks, structures_sorted_by_size, rotation='60');\n",
    "#         plt.ylim([0.6, 1]);\n",
    "#         plt.ylabel('Accuracy');\n",
    "#         plt.xlabel('Structure Name');\n",
    "#         plt.title('Accuracy, %s, classifier %d' % (neg_composition_rule, classifier_id));\n",
    "#         plt.show();\n",
    "\n",
    "#         print 'test accuracy:', np.mean(acc_all_clfs_all_structures[classifier_id].values())\n",
    "\n",
    "#         plt.figure(figsize=(10, 1.2));\n",
    "#         plt.stem(xticks, [tp_normalized_all_clfs_all_structures[classifier_id][s] for s in structures_sorted_by_size], label='tp', markerfmt='bo');\n",
    "#         plt.stem(xticks, [fn_normalized_all_clfs_all_structures[classifier_id][s] for s in structures_sorted_by_size], label='fn', markerfmt='ro');\n",
    "#         plt.stem(xticks, [fp_normalized_all_clfs_all_structures[classifier_id][s] for s in structures_sorted_by_size], label='fp', markerfmt='ko');\n",
    "#         plt.stem(xticks, [tn_normalized_all_clfs_all_structures[classifier_id][s] for s in structures_sorted_by_size], label='tn', markerfmt='go');\n",
    "#         plt.xticks(xticks, structures_sorted_by_size, rotation='60');\n",
    "#         plt.ylabel('Percentage');\n",
    "#         plt.xlabel('Structure Name');\n",
    "#         plt.title('Accuracy, %s, classifier %d' % (neg_composition_rule, classifier_id));\n",
    "#         plt.legend();\n",
    "#         plt.show();\n",
    "\n",
    "tp_normalized_all_clfs_all_structures_all_negcomprule.default_factory = None\n",
    "# fn_normalized_all_clfs_all_structures_all_negcomprule.default_factory = None\n",
    "fp_normalized_all_clfs_all_structures_all_negcomprule.default_factory = None\n",
    "# tn_normalized_all_clfs_all_structures_all_negcomprule.default_factory = None\n",
    "precision_normalized_all_clfs_all_structures_all_negcomprule.default_factory = None\n",
    "recall_normalized_all_clfs_all_structures_all_negcomprule.default_factory = None\n",
    "f1score_normalized_all_clfs_all_structures_all_negcomprule.default_factory = None"
   ]
  },
  {
   "cell_type": "code",
   "execution_count": 106,
   "metadata": {
    "collapsed": true
   },
   "outputs": [],
   "source": [
    "structures_sorted_by_size = ['SNR']"
   ]
  },
  {
   "cell_type": "code",
   "execution_count": 107,
   "metadata": {},
   "outputs": [],
   "source": [
    "fopt_normalized_all_clfs_all_structures_all_negcomprule = defaultdict(lambda: defaultdict(dict))\n",
    "optthresh_normalized_all_clfs_all_structures_all_negcomprule = defaultdict(lambda: defaultdict(dict))\n",
    "\n",
    "for classifier_id in classifier_ids:\n",
    "\n",
    "    for neg_composition_rule in negative_composition_rules:\n",
    "\n",
    "        for s in structures_sorted_by_size:\n",
    "            fp_allthresh = fp_normalized_all_clfs_all_structures_all_negcomprule[classifier_id][s][neg_composition_rule]\n",
    "            tp_allthresh = tp_normalized_all_clfs_all_structures_all_negcomprule[classifier_id][s][neg_composition_rule]\n",
    "            f_allthresh = f1score_normalized_all_clfs_all_structures_all_negcomprule[classifier_id][s][neg_composition_rule]\n",
    "\n",
    "            optimal_th = np.arange(0, 1, 0.01)[np.nanargmax([f_allthresh[th] for th in np.arange(0, 1, 0.01)])]\n",
    "            optthresh_normalized_all_clfs_all_structures_all_negcomprule[classifier_id][s][neg_composition_rule] = optimal_th\n",
    "            fopt_normalized_all_clfs_all_structures_all_negcomprule[classifier_id][s][neg_composition_rule] = f_allthresh[optimal_th]"
   ]
  },
  {
   "cell_type": "code",
   "execution_count": 108,
   "metadata": {},
   "outputs": [
    {
     "data": {
      "image/png": "[encoded data removed]",
      "text/plain": [
       "<matplotlib.figure.Figure at 0x7f015c37ae90>"
      ]
     },
     "metadata": {},
     "output_type": "display_data"
    },
    {
     "data": {
      "image/png": "[encoded data removed]",
      "text/plain": [
       "<matplotlib.figure.Figure at 0x7f015c45be90>"
      ]
     },
     "metadata": {},
     "output_type": "display_data"
    }
   ],
   "source": [
    "for classifier_id in classifier_ids:\n",
    "    for neg_composition_rule in negative_composition_rules:\n",
    "\n",
    "    #     plt.figure(figsize=(15, 10));\n",
    "        plt.figure(figsize=(10, 10));\n",
    "        plt.plot(np.arange(0, 1, 0.01), np.arange(0, 1, 0.01), c='k', linestyle='--');\n",
    "\n",
    "        fopt = {}\n",
    "        for s in structures_sorted_by_size:\n",
    "            fp_allthresh = fp_normalized_all_clfs_all_structures_all_negcomprule[classifier_id][s][neg_composition_rule]\n",
    "            tp_allthresh = tp_normalized_all_clfs_all_structures_all_negcomprule[classifier_id][s][neg_composition_rule]\n",
    "            f_allthresh = f1score_normalized_all_clfs_all_structures_all_negcomprule[classifier_id][s][neg_composition_rule]\n",
    "\n",
    "            plt.plot([fp_allthresh[float(th)] for th in np.arange(0, 1, 0.01)],\n",
    "                 [tp_allthresh[float(th)] for th in np.arange(0, 1, 0.01)]);\n",
    "\n",
    "            optimal_th = optthresh_normalized_all_clfs_all_structures_all_negcomprule[classifier_id][s][neg_composition_rule]\n",
    "            fopt = f_allthresh[optimal_th]\n",
    "\n",
    "    #         plt.scatter(fp_allthresh[optimal_th], tp_allthresh[optimal_th], \n",
    "    #             marker='o', facecolors='none', edgecolors='k')\n",
    "    #         plt.text(fp_allthresh[optimal_th], tp_allthresh[optimal_th], '%.2f' % (fopt[s]))\n",
    "            plt.text(fp_allthresh[optimal_th], tp_allthresh[optimal_th], s, fontsize=10)\n",
    "\n",
    "    #     plt.legend();\n",
    "        plt.ylabel('True positive rate');\n",
    "        plt.xlabel('False positive rate');\n",
    "    #     plt.xticks(np.arange(0,1,.1));\n",
    "        plt.axis('equal');\n",
    "        plt.ylim([0,1.01]);\n",
    "        plt.xlim([0,1]);\n",
    "        plt.title('ROC curves for each structure, %s' % (neg_composition_rule));\n",
    "        plt.show();\n",
    "\n",
    "    #     plt.figure();\n",
    "    #     plt.hist(fopt.values(), bins=np.arange(0.7, 1.0, 0.01));\n",
    "    #     plt.ylabel(\"Number of structures\");\n",
    "    #     plt.xlabel(\"Optimal f1 score\");\n",
    "    #     plt.show();\n",
    "\n",
    "        plt.figure();\n",
    "        xticks = range(1, 1 + len(structures_sorted_by_size))\n",
    "        (markerLines, stemLines, baseLines) = plt.stem(xticks, \n",
    "                                                       [fopt_normalized_all_clfs_all_structures_all_negcomprule[classifier_id][s][neg_composition_rule] \n",
    "                                                        for s in structures_sorted_by_size],\n",
    "         markerfmt='o', markevery=[4,8]);\n",
    "        plt.setp(markerLines, markersize=20, alpha=1.)\n",
    "        plt.xticks(xticks, structures_sorted_by_size, rotation='60');\n",
    "        plt.ylabel('Optimal F1-score');\n",
    "        plt.xlabel('Structure Name');\n",
    "        plt.ylim(np.min([fopt_normalized_all_clfs_all_structures_all_negcomprule[classifier_id][s][neg_composition_rule] \n",
    "                                                        for s in structures_sorted_by_size])-.05, 1);\n",
    "        plt.title('F1 score, %s' % (neg_composition_rule));\n",
    "        plt.legend();\n",
    "        plt.show();"
   ]
  },
  {
   "cell_type": "code",
   "execution_count": null,
   "metadata": {
    "collapsed": true
   },
   "outputs": [],
   "source": []
  }
 ],
 "metadata": {
  "kernelspec": {
   "display_name": "Python 2",
   "language": "python",
   "name": "python2"
  },
  "language_info": {
   "codemirror_mode": {
    "name": "ipython",
    "version": 2
   },
   "file_extension": ".py",
   "mimetype": "text/x-python",
   "name": "python",
   "nbconvert_exporter": "python",
   "pygments_lexer": "ipython2",
   "version": "2.7.12"
  }
 },
 "nbformat": 4,
 "nbformat_minor": 2
}
