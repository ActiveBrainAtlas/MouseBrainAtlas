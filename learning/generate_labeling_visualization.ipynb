{
 "cells": [
  {
   "cell_type": "code",
   "execution_count": 1,
   "metadata": {
    "collapsed": true
   },
   "outputs": [],
   "source": [
    "%reload_ext autoreload\n",
    "%autoreload 2\n",
    "\n",
    "import cv2\n",
    "\n",
    "import os\n",
    "import sys\n",
    "sys.path.append(os.path.join(os.environ['REPO_DIR'], 'utilities'))\n",
    "from utilities2015 import *\n",
    "\n",
    "from collections import defaultdict\n",
    "\n",
    "from matplotlib.path import Path\n",
    "%matplotlib inline"
   ]
  },
  {
   "cell_type": "code",
   "execution_count": 2,
   "metadata": {
    "collapsed": true
   },
   "outputs": [],
   "source": [
    "from enum import Enum\n",
    "\n",
    "class PolygonType(Enum):\n",
    "    CLOSED = 'closed'\n",
    "    OPEN = 'open'\n",
    "    TEXTURE = 'textured'\n",
    "    TEXTURE_WITH_CONTOUR = 'texture with contour'\n",
    "    DIRECTION = 'directionality'"
   ]
  },
  {
   "cell_type": "code",
   "execution_count": 3,
   "metadata": {
    "collapsed": true
   },
   "outputs": [],
   "source": [
    "# stack = 'MD589'\n",
    "stack = 'MD594'"
   ]
  },
  {
   "cell_type": "code",
   "execution_count": 4,
   "metadata": {
    "collapsed": true
   },
   "outputs": [],
   "source": [
    "from skimage.transform import rescale"
   ]
  },
  {
   "cell_type": "code",
   "execution_count": 5,
   "metadata": {
    "collapsed": false
   },
   "outputs": [],
   "source": [
    "labelingViz_root = '/oasis/projects/nsf/csd395/yuncong/CSHL_labelingsViz'\n",
    "labelingViz_dir = os.path.join(labelingViz_root, stack)\n",
    "if not os.path.exists(labelingViz_dir):\n",
    "    os.makedirs(labelingViz_dir)"
   ]
  },
  {
   "cell_type": "code",
   "execution_count": 6,
   "metadata": {
    "collapsed": false,
    "scrolled": true
   },
   "outputs": [
    {
     "name": "stdout",
     "output_type": "stream",
     "text": [
      "93\n",
      "94"
     ]
    },
    {
     "name": "stderr",
     "output_type": "stream",
     "text": [
      "username yuncong does not have any labelings\n",
      "/oasis/projects/nsf/csd181/yuncong/virtualenv-1.9.1/yuncongve/lib/python2.7/site-packages/PIL/Image.py:2224: DecompressionBombWarning: Image size (167180288 pixels) exceeds limit of 89478485 pixels, could be decompression bomb DOS attack.\n",
      "  DecompressionBombWarning)\n"
     ]
    },
    {
     "name": "stdout",
     "output_type": "stream",
     "text": [
      "\n",
      "95"
     ]
    },
    {
     "name": "stderr",
     "output_type": "stream",
     "text": [
      "/oasis/projects/nsf/csd181/yuncong/virtualenv-1.9.1/yuncongve/lib/python2.7/site-packages/skimage/util/dtype.py:110: UserWarning: Possible precision loss when converting from float64 to uint8\n",
      "  \"%s to %s\" % (dtypeobj_in, dtypeobj))\n",
      "username yuncong does not have any labelings\n"
     ]
    },
    {
     "name": "stdout",
     "output_type": "stream",
     "text": [
      "\n",
      "96\n",
      "97\n",
      "98\n",
      "99"
     ]
    },
    {
     "name": "stderr",
     "output_type": "stream",
     "text": [
      "username yuncong does not have any labelings\n",
      "username yuncong does not have any labelings\n"
     ]
    },
    {
     "name": "stdout",
     "output_type": "stream",
     "text": [
      "\n",
      "100\n",
      "101\n",
      "102\n",
      "103"
     ]
    },
    {
     "name": "stderr",
     "output_type": "stream",
     "text": [
      "username yuncong does not have any labelings\n",
      "username yuncong does not have any labelings\n"
     ]
    },
    {
     "name": "stdout",
     "output_type": "stream",
     "text": [
      "\n",
      "104\n",
      "105\n",
      "106\n",
      "107"
     ]
    },
    {
     "name": "stderr",
     "output_type": "stream",
     "text": [
      "username yuncong does not have any labelings\n",
      "username yuncong does not have any labelings\n"
     ]
    },
    {
     "name": "stdout",
     "output_type": "stream",
     "text": [
      "\n",
      "108\n",
      "109\n",
      "110\n",
      "111"
     ]
    },
    {
     "name": "stderr",
     "output_type": "stream",
     "text": [
      "username yuncong does not have any labelings\n",
      "username yuncong does not have any labelings\n"
     ]
    },
    {
     "name": "stdout",
     "output_type": "stream",
     "text": [
      "\n",
      "112\n",
      "113\n",
      "114\n",
      "115"
     ]
    },
    {
     "name": "stderr",
     "output_type": "stream",
     "text": [
      "username yuncong does not have any labelings\n",
      "username yuncong does not have any labelings\n"
     ]
    },
    {
     "name": "stdout",
     "output_type": "stream",
     "text": [
      "\n",
      "116\n",
      "117\n",
      "118\n",
      "119"
     ]
    },
    {
     "name": "stderr",
     "output_type": "stream",
     "text": [
      "username yuncong does not have any labelings\n",
      "username yuncong does not have any labelings\n"
     ]
    },
    {
     "name": "stdout",
     "output_type": "stream",
     "text": [
      "\n",
      "120\n",
      "121\n",
      "122\n",
      "123"
     ]
    },
    {
     "name": "stderr",
     "output_type": "stream",
     "text": [
      "username yuncong does not have any labelings\n",
      "username yuncong does not have any labelings\n"
     ]
    },
    {
     "name": "stdout",
     "output_type": "stream",
     "text": [
      "\n",
      "124\n",
      "125\n",
      "126\n",
      "127"
     ]
    },
    {
     "name": "stderr",
     "output_type": "stream",
     "text": [
      "username yuncong does not have any labelings\n",
      "username yuncong does not have any labelings\n"
     ]
    },
    {
     "name": "stdout",
     "output_type": "stream",
     "text": [
      "\n",
      "128\n",
      "129\n",
      "130\n",
      "131"
     ]
    },
    {
     "name": "stderr",
     "output_type": "stream",
     "text": [
      "username yuncong does not have any labelings\n",
      "username yuncong does not have any labelings\n"
     ]
    },
    {
     "name": "stdout",
     "output_type": "stream",
     "text": [
      "\n",
      "132\n",
      "133\n",
      "134\n",
      "135"
     ]
    },
    {
     "name": "stderr",
     "output_type": "stream",
     "text": [
      "username yuncong does not have any labelings\n",
      "username yuncong does not have any labelings\n"
     ]
    },
    {
     "name": "stdout",
     "output_type": "stream",
     "text": [
      "\n",
      "136\n",
      "137\n",
      "138\n",
      "139"
     ]
    },
    {
     "name": "stderr",
     "output_type": "stream",
     "text": [
      "username yuncong does not have any labelings\n",
      "username yuncong does not have any labelings\n"
     ]
    },
    {
     "name": "stdout",
     "output_type": "stream",
     "text": [
      "\n",
      "140\n",
      "141\n",
      "142\n",
      "143"
     ]
    },
    {
     "name": "stderr",
     "output_type": "stream",
     "text": [
      "username yuncong does not have any labelings\n",
      "username yuncong does not have any labelings\n"
     ]
    },
    {
     "name": "stdout",
     "output_type": "stream",
     "text": [
      "\n",
      "144\n",
      "145\n",
      "146\n",
      "147"
     ]
    },
    {
     "name": "stderr",
     "output_type": "stream",
     "text": [
      "username yuncong does not have any labelings\n",
      "username yuncong does not have any labelings\n"
     ]
    },
    {
     "name": "stdout",
     "output_type": "stream",
     "text": [
      "\n",
      "148\n",
      "149\n",
      "150\n",
      "151"
     ]
    },
    {
     "name": "stderr",
     "output_type": "stream",
     "text": [
      "username yuncong does not have any labelings\n",
      "username yuncong does not have any labelings\n"
     ]
    },
    {
     "name": "stdout",
     "output_type": "stream",
     "text": [
      "\n",
      "152\n",
      "153\n",
      "154\n",
      "155"
     ]
    },
    {
     "name": "stderr",
     "output_type": "stream",
     "text": [
      "username yuncong does not have any labelings\n",
      "username yuncong does not have any labelings\n"
     ]
    },
    {
     "name": "stdout",
     "output_type": "stream",
     "text": [
      "\n",
      "156\n",
      "157\n",
      "158\n",
      "159"
     ]
    },
    {
     "name": "stderr",
     "output_type": "stream",
     "text": [
      "username yuncong does not have any labelings\n",
      "username yuncong does not have any labelings\n"
     ]
    },
    {
     "name": "stdout",
     "output_type": "stream",
     "text": [
      "\n",
      "160\n",
      "161\n",
      "162\n",
      "163"
     ]
    },
    {
     "name": "stderr",
     "output_type": "stream",
     "text": [
      "username yuncong does not have any labelings\n",
      "username yuncong does not have any labelings\n"
     ]
    },
    {
     "name": "stdout",
     "output_type": "stream",
     "text": [
      "\n",
      "164\n",
      "165\n",
      "166\n",
      "167"
     ]
    },
    {
     "name": "stderr",
     "output_type": "stream",
     "text": [
      "username yuncong does not have any labelings\n",
      "username yuncong does not have any labelings\n"
     ]
    },
    {
     "name": "stdout",
     "output_type": "stream",
     "text": [
      "\n",
      "168\n",
      "169\n",
      "170\n",
      "171"
     ]
    },
    {
     "name": "stderr",
     "output_type": "stream",
     "text": [
      "username yuncong does not have any labelings\n",
      "username yuncong does not have any labelings\n"
     ]
    },
    {
     "name": "stdout",
     "output_type": "stream",
     "text": [
      "\n",
      "172\n",
      "173\n",
      "174\n",
      "175"
     ]
    },
    {
     "name": "stderr",
     "output_type": "stream",
     "text": [
      "username yuncong does not have any labelings\n",
      "username yuncong does not have any labelings\n"
     ]
    },
    {
     "name": "stdout",
     "output_type": "stream",
     "text": [
      "\n",
      "176\n",
      "177\n",
      "178\n",
      "179"
     ]
    },
    {
     "name": "stderr",
     "output_type": "stream",
     "text": [
      "username yuncong does not have any labelings\n",
      "username yuncong does not have any labelings\n"
     ]
    },
    {
     "name": "stdout",
     "output_type": "stream",
     "text": [
      "\n",
      "180\n",
      "181\n",
      "182\n",
      "183"
     ]
    },
    {
     "name": "stderr",
     "output_type": "stream",
     "text": [
      "username yuncong does not have any labelings\n",
      "username yuncong does not have any labelings\n"
     ]
    },
    {
     "name": "stdout",
     "output_type": "stream",
     "text": [
      "\n",
      "184\n",
      "185\n",
      "186\n",
      "187"
     ]
    },
    {
     "name": "stderr",
     "output_type": "stream",
     "text": [
      "username yuncong does not have any labelings\n",
      "username yuncong does not have any labelings\n"
     ]
    },
    {
     "name": "stdout",
     "output_type": "stream",
     "text": [
      "\n",
      "188\n",
      "189\n",
      "190\n",
      "191"
     ]
    },
    {
     "name": "stderr",
     "output_type": "stream",
     "text": [
      "username yuncong does not have any labelings\n",
      "username yuncong does not have any labelings\n"
     ]
    },
    {
     "name": "stdout",
     "output_type": "stream",
     "text": [
      "\n",
      "192\n",
      "193\n",
      "194\n",
      "195"
     ]
    },
    {
     "name": "stderr",
     "output_type": "stream",
     "text": [
      "username yuncong does not have any labelings\n",
      "username yuncong does not have any labelings\n"
     ]
    },
    {
     "name": "stdout",
     "output_type": "stream",
     "text": [
      "\n",
      "196\n",
      "197\n",
      "198\n",
      "199"
     ]
    },
    {
     "name": "stderr",
     "output_type": "stream",
     "text": [
      "username yuncong does not have any labelings\n",
      "username yuncong does not have any labelings\n"
     ]
    },
    {
     "name": "stdout",
     "output_type": "stream",
     "text": [
      "\n",
      "200\n",
      "201\n",
      "202\n",
      "203"
     ]
    },
    {
     "name": "stderr",
     "output_type": "stream",
     "text": [
      "username yuncong does not have any labelings\n",
      "username yuncong does not have any labelings\n"
     ]
    },
    {
     "name": "stdout",
     "output_type": "stream",
     "text": [
      "\n",
      "204\n",
      "205\n",
      "206\n",
      "207"
     ]
    },
    {
     "name": "stderr",
     "output_type": "stream",
     "text": [
      "username yuncong does not have any labelings\n",
      "username yuncong does not have any labelings\n"
     ]
    },
    {
     "name": "stdout",
     "output_type": "stream",
     "text": [
      "\n",
      "208\n",
      "209\n",
      "210\n",
      "211"
     ]
    },
    {
     "name": "stderr",
     "output_type": "stream",
     "text": [
      "username yuncong does not have any labelings\n",
      "username yuncong does not have any labelings\n"
     ]
    },
    {
     "name": "stdout",
     "output_type": "stream",
     "text": [
      "\n",
      "212\n",
      "213\n",
      "214\n",
      "215"
     ]
    },
    {
     "name": "stderr",
     "output_type": "stream",
     "text": [
      "username yuncong does not have any labelings\n",
      "username yuncong does not have any labelings\n"
     ]
    },
    {
     "name": "stdout",
     "output_type": "stream",
     "text": [
      "\n",
      "216\n",
      "217\n",
      "218\n",
      "219"
     ]
    },
    {
     "name": "stderr",
     "output_type": "stream",
     "text": [
      "username yuncong does not have any labelings\n",
      "username yuncong does not have any labelings\n"
     ]
    },
    {
     "name": "stdout",
     "output_type": "stream",
     "text": [
      "\n",
      "220\n",
      "221\n",
      "222\n",
      "223"
     ]
    },
    {
     "name": "stderr",
     "output_type": "stream",
     "text": [
      "username yuncong does not have any labelings\n",
      "username yuncong does not have any labelings\n"
     ]
    },
    {
     "name": "stdout",
     "output_type": "stream",
     "text": [
      "\n",
      "224\n",
      "225\n",
      "226\n",
      "227"
     ]
    },
    {
     "name": "stderr",
     "output_type": "stream",
     "text": [
      "username yuncong does not have any labelings\n",
      "username yuncong does not have any labelings\n"
     ]
    },
    {
     "name": "stdout",
     "output_type": "stream",
     "text": [
      "\n",
      "228\n",
      "229\n",
      "230\n",
      "231"
     ]
    },
    {
     "name": "stderr",
     "output_type": "stream",
     "text": [
      "username yuncong does not have any labelings\n",
      "username yuncong does not have any labelings\n"
     ]
    },
    {
     "name": "stdout",
     "output_type": "stream",
     "text": [
      "\n",
      "232\n",
      "233\n",
      "234\n",
      "235"
     ]
    },
    {
     "name": "stderr",
     "output_type": "stream",
     "text": [
      "username yuncong does not have any labelings\n",
      "username yuncong does not have any labelings\n"
     ]
    },
    {
     "name": "stdout",
     "output_type": "stream",
     "text": [
      "\n",
      "236\n",
      "237\n",
      "238\n",
      "239\n",
      "240\n",
      "241"
     ]
    },
    {
     "name": "stderr",
     "output_type": "stream",
     "text": [
      "username yuncong does not have any labelings\n",
      "username yuncong does not have any labelings\n"
     ]
    },
    {
     "name": "stdout",
     "output_type": "stream",
     "text": [
      "\n",
      "242\n",
      "243\n",
      "244\n",
      "245"
     ]
    },
    {
     "name": "stderr",
     "output_type": "stream",
     "text": [
      "username yuncong does not have any labelings\n",
      "username yuncong does not have any labelings\n"
     ]
    },
    {
     "name": "stdout",
     "output_type": "stream",
     "text": [
      "\n",
      "246\n",
      "247\n",
      "248\n",
      "249"
     ]
    },
    {
     "name": "stderr",
     "output_type": "stream",
     "text": [
      "username yuncong does not have any labelings\n",
      "username yuncong does not have any labelings\n"
     ]
    },
    {
     "name": "stdout",
     "output_type": "stream",
     "text": [
      "\n",
      "250\n",
      "251\n",
      "252\n",
      "253"
     ]
    },
    {
     "name": "stderr",
     "output_type": "stream",
     "text": [
      "username yuncong does not have any labelings\n",
      "username yuncong does not have any labelings\n"
     ]
    },
    {
     "name": "stdout",
     "output_type": "stream",
     "text": [
      "\n",
      "254\n",
      "255\n",
      "256\n",
      "257"
     ]
    },
    {
     "name": "stderr",
     "output_type": "stream",
     "text": [
      "username yuncong does not have any labelings\n",
      "username yuncong does not have any labelings\n"
     ]
    },
    {
     "name": "stdout",
     "output_type": "stream",
     "text": [
      "\n",
      "258\n",
      "259\n",
      "260\n",
      "261"
     ]
    },
    {
     "name": "stderr",
     "output_type": "stream",
     "text": [
      "username yuncong does not have any labelings\n",
      "username yuncong does not have any labelings\n"
     ]
    },
    {
     "name": "stdout",
     "output_type": "stream",
     "text": [
      "\n",
      "262\n",
      "263\n",
      "264\n",
      "265"
     ]
    },
    {
     "name": "stderr",
     "output_type": "stream",
     "text": [
      "username yuncong does not have any labelings\n",
      "username yuncong does not have any labelings\n"
     ]
    },
    {
     "name": "stdout",
     "output_type": "stream",
     "text": [
      "\n",
      "266\n",
      "267\n",
      "268\n",
      "269"
     ]
    },
    {
     "name": "stderr",
     "output_type": "stream",
     "text": [
      "username yuncong does not have any labelings\n",
      "username yuncong does not have any labelings\n"
     ]
    },
    {
     "name": "stdout",
     "output_type": "stream",
     "text": [
      "\n",
      "270\n",
      "271\n",
      "272\n",
      "273"
     ]
    },
    {
     "name": "stderr",
     "output_type": "stream",
     "text": [
      "username yuncong does not have any labelings\n",
      "username yuncong does not have any labelings\n"
     ]
    },
    {
     "name": "stdout",
     "output_type": "stream",
     "text": [
      "\n",
      "274\n",
      "275\n",
      "276\n",
      "277"
     ]
    },
    {
     "name": "stderr",
     "output_type": "stream",
     "text": [
      "username yuncong does not have any labelings\n",
      "username yuncong does not have any labelings\n"
     ]
    },
    {
     "name": "stdout",
     "output_type": "stream",
     "text": [
      "\n",
      "278\n",
      "279\n",
      "280\n",
      "281"
     ]
    },
    {
     "name": "stderr",
     "output_type": "stream",
     "text": [
      "username yuncong does not have any labelings\n",
      "username yuncong does not have any labelings\n"
     ]
    },
    {
     "name": "stdout",
     "output_type": "stream",
     "text": [
      "\n",
      "282\n",
      "283\n",
      "284\n",
      "285"
     ]
    },
    {
     "name": "stderr",
     "output_type": "stream",
     "text": [
      "username yuncong does not have any labelings\n",
      "username yuncong does not have any labelings\n"
     ]
    },
    {
     "name": "stdout",
     "output_type": "stream",
     "text": [
      "\n",
      "286\n",
      "287\n",
      "288\n",
      "289"
     ]
    },
    {
     "name": "stderr",
     "output_type": "stream",
     "text": [
      "username yuncong does not have any labelings\n",
      "username yuncong does not have any labelings\n"
     ]
    },
    {
     "name": "stdout",
     "output_type": "stream",
     "text": [
      "\n",
      "290\n",
      "291\n",
      "292\n",
      "293"
     ]
    },
    {
     "name": "stderr",
     "output_type": "stream",
     "text": [
      "username yuncong does not have any labelings\n",
      "username yuncong does not have any labelings\n"
     ]
    },
    {
     "name": "stdout",
     "output_type": "stream",
     "text": [
      "\n",
      "294\n",
      "295\n",
      "296\n",
      "297"
     ]
    },
    {
     "name": "stderr",
     "output_type": "stream",
     "text": [
      "username yuncong does not have any labelings\n",
      "username yuncong does not have any labelings\n"
     ]
    },
    {
     "name": "stdout",
     "output_type": "stream",
     "text": [
      "\n",
      "298\n",
      "299\n",
      "300\n",
      "301"
     ]
    },
    {
     "name": "stderr",
     "output_type": "stream",
     "text": [
      "username yuncong does not have any labelings\n",
      "username yuncong does not have any labelings\n"
     ]
    },
    {
     "name": "stdout",
     "output_type": "stream",
     "text": [
      "\n",
      "302\n",
      "303\n",
      "304\n",
      "305"
     ]
    },
    {
     "name": "stderr",
     "output_type": "stream",
     "text": [
      "username yuncong does not have any labelings\n",
      "username yuncong does not have any labelings\n"
     ]
    },
    {
     "name": "stdout",
     "output_type": "stream",
     "text": [
      "\n",
      "306\n",
      "307\n",
      "308\n",
      "309"
     ]
    },
    {
     "name": "stderr",
     "output_type": "stream",
     "text": [
      "username yuncong does not have any labelings\n",
      "username yuncong does not have any labelings\n"
     ]
    },
    {
     "name": "stdout",
     "output_type": "stream",
     "text": [
      "\n",
      "310\n",
      "311\n",
      "312\n",
      "313"
     ]
    },
    {
     "name": "stderr",
     "output_type": "stream",
     "text": [
      "username yuncong does not have any labelings\n",
      "username yuncong does not have any labelings\n"
     ]
    },
    {
     "name": "stdout",
     "output_type": "stream",
     "text": [
      "\n",
      "314\n",
      "315\n",
      "316\n",
      "317"
     ]
    },
    {
     "name": "stderr",
     "output_type": "stream",
     "text": [
      "username yuncong does not have any labelings\n",
      "username yuncong does not have any labelings\n"
     ]
    },
    {
     "name": "stdout",
     "output_type": "stream",
     "text": [
      "\n",
      "318\n",
      "319\n",
      "320\n",
      "321"
     ]
    },
    {
     "name": "stderr",
     "output_type": "stream",
     "text": [
      "username yuncong does not have any labelings\n",
      "username yuncong does not have any labelings\n"
     ]
    },
    {
     "name": "stdout",
     "output_type": "stream",
     "text": [
      "\n",
      "322\n",
      "323\n",
      "324\n",
      "325"
     ]
    },
    {
     "name": "stderr",
     "output_type": "stream",
     "text": [
      "username yuncong does not have any labelings\n",
      "username yuncong does not have any labelings\n"
     ]
    },
    {
     "name": "stdout",
     "output_type": "stream",
     "text": [
      "\n",
      "326\n",
      "327\n",
      "328\n",
      "329"
     ]
    },
    {
     "name": "stderr",
     "output_type": "stream",
     "text": [
      "username yuncong does not have any labelings\n",
      "username yuncong does not have any labelings\n"
     ]
    },
    {
     "name": "stdout",
     "output_type": "stream",
     "text": [
      "\n",
      "330\n",
      "331\n",
      "332\n",
      "333"
     ]
    },
    {
     "name": "stderr",
     "output_type": "stream",
     "text": [
      "username yuncong does not have any labelings\n",
      "username yuncong does not have any labelings\n"
     ]
    },
    {
     "name": "stdout",
     "output_type": "stream",
     "text": [
      "\n",
      "334\n",
      "335\n",
      "336\n",
      "337"
     ]
    },
    {
     "name": "stderr",
     "output_type": "stream",
     "text": [
      "username yuncong does not have any labelings\n",
      "username yuncong does not have any labelings\n"
     ]
    },
    {
     "name": "stdout",
     "output_type": "stream",
     "text": [
      "\n",
      "338\n",
      "339\n",
      "340\n",
      "341"
     ]
    },
    {
     "name": "stderr",
     "output_type": "stream",
     "text": [
      "username yuncong does not have any labelings\n",
      "username yuncong does not have any labelings\n"
     ]
    },
    {
     "name": "stdout",
     "output_type": "stream",
     "text": [
      "\n",
      "342\n",
      "343\n",
      "344\n",
      "345"
     ]
    },
    {
     "name": "stderr",
     "output_type": "stream",
     "text": [
      "username yuncong does not have any labelings\n",
      "username yuncong does not have any labelings\n"
     ]
    },
    {
     "name": "stdout",
     "output_type": "stream",
     "text": [
      "\n",
      "346\n",
      "347\n",
      "348\n",
      "349"
     ]
    },
    {
     "name": "stderr",
     "output_type": "stream",
     "text": [
      "username yuncong does not have any labelings\n",
      "username yuncong does not have any labelings\n"
     ]
    },
    {
     "name": "stdout",
     "output_type": "stream",
     "text": [
      "\n",
      "350\n",
      "351\n",
      "352\n",
      "353"
     ]
    },
    {
     "name": "stderr",
     "output_type": "stream",
     "text": [
      "username yuncong does not have any labelings\n",
      "username yuncong does not have any labelings\n"
     ]
    },
    {
     "name": "stdout",
     "output_type": "stream",
     "text": [
      "\n",
      "354\n",
      "355\n",
      "356\n",
      "357"
     ]
    },
    {
     "name": "stderr",
     "output_type": "stream",
     "text": [
      "username yuncong does not have any labelings\n",
      "username yuncong does not have any labelings\n"
     ]
    },
    {
     "name": "stdout",
     "output_type": "stream",
     "text": [
      "\n",
      "358\n",
      "359\n",
      "360\n",
      "361"
     ]
    },
    {
     "name": "stderr",
     "output_type": "stream",
     "text": [
      "username yuncong does not have any labelings\n",
      "username yuncong does not have any labelings\n"
     ]
    },
    {
     "name": "stdout",
     "output_type": "stream",
     "text": [
      "\n",
      "362\n",
      "363\n",
      "364"
     ]
    },
    {
     "name": "stderr",
     "output_type": "stream",
     "text": [
      "username yuncong does not have any labelings\n",
      "username yuncong does not have any labelings\n"
     ]
    },
    {
     "name": "stdout",
     "output_type": "stream",
     "text": [
      "\n"
     ]
    }
   ],
   "source": [
    "first_bs_sec, last_bs_sec = section_range_lookup[stack]\n",
    "\n",
    "for sec in range(first_bs_sec, last_bs_sec+1):\n",
    "    print sec\n",
    "# sec = 158\n",
    "\n",
    "    dm = DataManager(stack=stack, section=sec)\n",
    "    try:\n",
    "        user, ts, _, res = dm.load_proposal_review_result('yuncong', 'latest', 'consolidated')\n",
    "    except:\n",
    "        continue\n",
    "\n",
    "    img = imread(os.path.join(os.environ['DATA_DIR'], '%(stack)s_lossless_aligned_cropped_downscaled', \n",
    "                  '%(stack)s_%(sec)04d_lossless_aligned_cropped_downscaled.jpg') % {'stack': stack, 'sec': sec})\n",
    "\n",
    "    downscale_factor = 4\n",
    "    img_small = rescale(img, 1./downscale_factor)\n",
    "\n",
    "    viz = img_as_ubyte(img_small)\n",
    "\n",
    "    for ann in res:\n",
    "\n",
    "        vertices = np.array(ann['vertices']) / downscale_factor\n",
    "#         cx, cy = np.mean(vertices, axis=0)\n",
    "\n",
    "        \n",
    "\n",
    "    #     for x,y in vertices:\n",
    "    #         cv2.circle(viz, (int(x), int(y)), 5, (255,0,0), -1)\n",
    "        cv2.polylines(viz, [vertices.astype(np.int)], True, (255,0,0), 5)\n",
    "\n",
    "        lx, ly = ann['labelPos']\n",
    "        cv2.putText(viz, ann['label'], (int(lx)-10, int(ly)+10), \n",
    "                    cv2.FONT_HERSHEY_DUPLEX, 2, ((0,0,0)), 3)\n",
    "\n",
    "\n",
    "    output_fn = os.path.join(labelingViz_dir, '%(stack)s_%(sec)04d_%(user)s_%(ts)s_viz.jpg'%{'stack':stack, 'sec':sec,\n",
    "                                                                                           'user': user, 'ts': ts})\n",
    "    cv2.imwrite(output_fn, viz[..., ::-1])"
   ]
  },
  {
   "cell_type": "code",
   "execution_count": null,
   "metadata": {
    "collapsed": true
   },
   "outputs": [],
   "source": []
  }
 ],
 "metadata": {
  "kernelspec": {
   "display_name": "Python 2",
   "language": "python",
   "name": "python2"
  },
  "language_info": {
   "codemirror_mode": {
    "name": "ipython",
    "version": 2
   },
   "file_extension": ".py",
   "mimetype": "text/x-python",
   "name": "python",
   "nbconvert_exporter": "python",
   "pygments_lexer": "ipython2",
   "version": "2.7.3"
  }
 },
 "nbformat": 4,
 "nbformat_minor": 0
}
