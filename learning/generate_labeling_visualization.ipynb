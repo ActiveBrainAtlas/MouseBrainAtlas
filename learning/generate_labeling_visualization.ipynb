{
 "cells": [
  {
   "cell_type": "code",
   "execution_count": 34,
   "metadata": {
    "collapsed": true
   },
   "outputs": [],
   "source": [
    "%reload_ext autoreload\n",
    "%autoreload 2\n",
    "\n",
    "import cv2\n",
    "\n",
    "import os\n",
    "import sys\n",
    "sys.path.append(os.path.join(os.environ['REPO_DIR'], 'utilities'))\n",
    "from utilities2015 import *\n",
    "\n",
    "from collections import defaultdict\n",
    "\n",
    "from matplotlib.path import Path\n",
    "%matplotlib inline"
   ]
  },
  {
   "cell_type": "code",
   "execution_count": 3,
   "metadata": {
    "collapsed": true
   },
   "outputs": [],
   "source": [
    "from enum import Enum\n",
    "\n",
    "class PolygonType(Enum):\n",
    "    CLOSED = 'closed'\n",
    "    OPEN = 'open'\n",
    "    TEXTURE = 'textured'\n",
    "    TEXTURE_WITH_CONTOUR = 'texture with contour'\n",
    "    DIRECTION = 'directionality'"
   ]
  },
  {
   "cell_type": "code",
   "execution_count": 4,
   "metadata": {
    "collapsed": true
   },
   "outputs": [],
   "source": [
    "# stack = 'MD589'\n",
    "stack = 'MD585'"
   ]
  },
  {
   "cell_type": "code",
   "execution_count": 5,
   "metadata": {
    "collapsed": true
   },
   "outputs": [],
   "source": [
    "from skimage.transform import rescale"
   ]
  },
  {
   "cell_type": "code",
   "execution_count": 6,
   "metadata": {
    "collapsed": false
   },
   "outputs": [],
   "source": [
    "labelingViz_root = '/oasis/projects/nsf/csd395/yuncong/CSHL_labelingsViz'\n",
    "labelingViz_dir = os.path.join(labelingViz_root, stack)\n",
    "if not os.path.exists(labelingViz_dir):\n",
    "    os.makedirs(labelingViz_dir)"
   ]
  },
  {
   "cell_type": "code",
   "execution_count": 7,
   "metadata": {
    "collapsed": true
   },
   "outputs": [],
   "source": [
    "downscale_factor = 8"
   ]
  },
  {
   "cell_type": "code",
   "execution_count": 8,
   "metadata": {
    "collapsed": true
   },
   "outputs": [],
   "source": [
    "dm = DataManager(stack=stack)"
   ]
  },
  {
   "cell_type": "code",
   "execution_count": 39,
   "metadata": {
    "collapsed": false,
    "scrolled": true
   },
   "outputs": [
    {
     "name": "stdout",
     "output_type": "stream",
     "text": [
      "\n",
      "\n",
      "181\n",
      "Tz"
     ]
    },
    {
     "name": "stderr",
     "output_type": "stream",
     "text": [
      "username yuncong does not have any annotations for current section 181 \n",
      "username yuncong does not have any annotations for current section 182 \n"
     ]
    },
    {
     "name": "stdout",
     "output_type": "stream",
     "text": [
      "\n",
      "sp5\n",
      "R\n",
      "12N\n",
      "7N\n",
      "Pn\n",
      "\n",
      "\n",
      "182\n",
      "Tz\n",
      "sp5\n",
      "R\n",
      "12N\n",
      "7N\n",
      "Pn\n",
      "\n",
      "\n",
      "183\n",
      "Tz"
     ]
    },
    {
     "name": "stderr",
     "output_type": "stream",
     "text": [
      "username yuncong does not have any annotations for current section 183 \n",
      "username yuncong does not have any annotations for current section 184 \n"
     ]
    },
    {
     "name": "stdout",
     "output_type": "stream",
     "text": [
      "\n",
      "sp5\n",
      "12N\n",
      "AP\n",
      "R\n",
      "7N\n",
      "Pn\n",
      "\n",
      "\n",
      "184\n",
      "Tz\n",
      "sp5\n",
      "12N\n",
      "AP\n",
      "R\n",
      "7N\n",
      "Pn\n",
      "\n",
      "\n",
      "185\n",
      "Tz"
     ]
    },
    {
     "name": "stderr",
     "output_type": "stream",
     "text": [
      "username yuncong does not have any annotations for current section 185 \n",
      "username yuncong does not have any annotations for current section 186 \n"
     ]
    },
    {
     "name": "stdout",
     "output_type": "stream",
     "text": [
      "\n",
      "sp5\n",
      "AP\n",
      "R\n",
      "12N\n",
      "7N\n",
      "Pn\n",
      "\n",
      "\n",
      "186\n",
      "Tz\n",
      "sp5\n",
      "AP\n",
      "R\n",
      "12N\n",
      "7N\n",
      "Pn\n",
      "\n",
      "\n",
      "187\n",
      "Tz"
     ]
    },
    {
     "name": "stderr",
     "output_type": "stream",
     "text": [
      "username yuncong does not have any annotations for current section 187 \n",
      "username yuncong does not have any annotations for current section 188 \n"
     ]
    },
    {
     "name": "stdout",
     "output_type": "stream",
     "text": [
      "\n",
      "sp5\n",
      "AP\n",
      "R\n",
      "12N\n",
      "Pn\n",
      "\n",
      "\n",
      "188\n",
      "Tz\n",
      "sp5\n",
      "AP\n",
      "R\n",
      "12N\n",
      "Pn\n",
      "\n",
      "\n",
      "189\n",
      "Tz"
     ]
    },
    {
     "name": "stderr",
     "output_type": "stream",
     "text": [
      "username yuncong does not have any annotations for current section 189 \n",
      "username yuncong does not have any annotations for current section 190 \n"
     ]
    },
    {
     "name": "stdout",
     "output_type": "stream",
     "text": [
      "\n",
      "sp5\n",
      "AP\n",
      "R\n",
      "12N\n",
      "Pn\n",
      "\n",
      "\n",
      "190\n",
      "Tz\n",
      "sp5\n",
      "AP\n",
      "R\n",
      "12N\n",
      "Pn\n",
      "\n",
      "\n",
      "191\n",
      "Tz"
     ]
    },
    {
     "name": "stderr",
     "output_type": "stream",
     "text": [
      "username yuncong does not have any annotations for current section 191 \n",
      "username yuncong does not have any annotations for current section 192 \n"
     ]
    },
    {
     "name": "stdout",
     "output_type": "stream",
     "text": [
      "\n",
      "7n\n",
      "sp5\n",
      "AP\n",
      "R\n",
      "12N\n",
      "Pn\n",
      "\n",
      "\n",
      "192\n",
      "Tz\n",
      "sp5\n",
      "AP\n",
      "R\n",
      "12N\n",
      "Pn\n",
      "\n",
      "\n",
      "193\n",
      "Tz"
     ]
    },
    {
     "name": "stderr",
     "output_type": "stream",
     "text": [
      "username yuncong does not have any annotations for current section 193 \n",
      "username yuncong does not have any annotations for current section 194 \n"
     ]
    },
    {
     "name": "stdout",
     "output_type": "stream",
     "text": [
      "\n",
      "sp5\n",
      "AP\n",
      "R\n",
      "12N\n",
      "Pn\n",
      "\n",
      "\n",
      "194\n",
      "Tz\n",
      "sp5\n",
      "12N\n",
      "AP\n",
      "R\n",
      "Pn\n",
      "\n",
      "\n",
      "195\n",
      "Tz"
     ]
    },
    {
     "name": "stderr",
     "output_type": "stream",
     "text": [
      "username yuncong does not have any annotations for current section 195 \n",
      "username yuncong does not have any annotations for current section 196 \n"
     ]
    },
    {
     "name": "stdout",
     "output_type": "stream",
     "text": [
      "\n",
      "sp5\n",
      "AP\n",
      "R\n",
      "12N\n",
      "Pn\n",
      "\n",
      "\n",
      "196\n",
      "Tz\n",
      "sp5\n",
      "AP\n",
      "R\n",
      "12N\n",
      "Pn\n",
      "\n",
      "\n",
      "197\n",
      "sp5"
     ]
    },
    {
     "name": "stderr",
     "output_type": "stream",
     "text": [
      "username yuncong does not have any annotations for current section 197 \n",
      "username yuncong does not have any annotations for current section 198 \n"
     ]
    },
    {
     "name": "stdout",
     "output_type": "stream",
     "text": [
      "\n",
      "AP\n",
      "R\n",
      "12N\n",
      "Pn\n",
      "\n",
      "\n",
      "198\n",
      "Tz\n",
      "sp5\n",
      "AP\n",
      "R\n",
      "12N\n",
      "Pn\n",
      "\n",
      "\n",
      "199\n",
      "sp5"
     ]
    },
    {
     "name": "stderr",
     "output_type": "stream",
     "text": [
      "username yuncong does not have any annotations for current section 199 \n",
      "username yuncong does not have any annotations for current section 200 \n"
     ]
    },
    {
     "name": "stdout",
     "output_type": "stream",
     "text": [
      "\n",
      "AP\n",
      "R\n",
      "12N\n",
      "Pn\n",
      "\n",
      "\n",
      "200\n",
      "sp5\n",
      "AP\n",
      "R\n",
      "12N\n",
      "Pn\n",
      "\n",
      "\n",
      "201\n",
      "sp5"
     ]
    },
    {
     "name": "stderr",
     "output_type": "stream",
     "text": [
      "username yuncong does not have any annotations for current section 201 \n",
      "username yuncong does not have any annotations for current section 202 \n"
     ]
    },
    {
     "name": "stdout",
     "output_type": "stream",
     "text": [
      "\n",
      "AP\n",
      "R\n",
      "12N\n",
      "Pn\n",
      "\n",
      "\n",
      "202\n",
      "Tz\n",
      "sp5\n",
      "AP\n",
      "R\n",
      "12N\n",
      "Pn\n",
      "\n",
      "\n",
      "203\n",
      "sp5"
     ]
    },
    {
     "name": "stderr",
     "output_type": "stream",
     "text": [
      "username yuncong does not have any annotations for current section 203 \n",
      "username yuncong does not have any annotations for current section 204 \n"
     ]
    },
    {
     "name": "stdout",
     "output_type": "stream",
     "text": [
      "\n",
      "AP\n",
      "R\n",
      "12N\n",
      "Pn\n",
      "\n",
      "\n",
      "204\n",
      "Tz\n",
      "sp5\n",
      "12N\n",
      "R\n",
      "Pn\n",
      "\n",
      "\n",
      "205\n",
      "sp5"
     ]
    },
    {
     "name": "stderr",
     "output_type": "stream",
     "text": [
      "username yuncong does not have any annotations for current section 205 \n",
      "username yuncong does not have any annotations for current section 206 \n"
     ]
    },
    {
     "name": "stdout",
     "output_type": "stream",
     "text": [
      "\n",
      "12N\n",
      "AP\n",
      "R\n",
      "Pn\n",
      "\n",
      "\n",
      "206\n",
      "Tz\n",
      "sp5\n",
      "12N\n",
      "AP\n",
      "R\n",
      "Pn\n",
      "\n",
      "\n",
      "207\n",
      "AP"
     ]
    },
    {
     "name": "stderr",
     "output_type": "stream",
     "text": [
      "username yuncong does not have any annotations for current section 207 \n",
      "username yuncong does not have any annotations for current section 208 \n"
     ]
    },
    {
     "name": "stdout",
     "output_type": "stream",
     "text": [
      "\n",
      "Pn\n",
      "Tz\n",
      "sp5\n",
      "12N\n",
      "\n",
      "\n",
      "208\n",
      "AP\n",
      "Pn\n",
      "Tz\n",
      "sp5\n",
      "12N\n",
      "\n",
      "\n",
      "209\n",
      "Tz"
     ]
    },
    {
     "name": "stderr",
     "output_type": "stream",
     "text": [
      "username yuncong does not have any annotations for current section 209 \n",
      "username yuncong does not have any annotations for current section 210 \n"
     ]
    },
    {
     "name": "stdout",
     "output_type": "stream",
     "text": [
      "\n",
      "sp5\n",
      "12N\n",
      "AP\n",
      "Pn\n",
      "\n",
      "\n",
      "210\n",
      "Tz\n",
      "sp5\n",
      "12N\n",
      "AP\n",
      "Pn\n",
      "\n",
      "\n",
      "211\n",
      "Tz"
     ]
    },
    {
     "name": "stderr",
     "output_type": "stream",
     "text": [
      "username yuncong does not have any annotations for current section 211 \n",
      "username yuncong does not have any annotations for current section 212 \n"
     ]
    },
    {
     "name": "stdout",
     "output_type": "stream",
     "text": [
      "\n",
      "sp5\n",
      "12N\n",
      "AP\n",
      "Pn\n",
      "\n",
      "\n",
      "212\n",
      "AP\n",
      "R\n",
      "Pn\n",
      "sp5\n",
      "12N\n",
      "\n",
      "\n",
      "213\n",
      "AP"
     ]
    },
    {
     "name": "stderr",
     "output_type": "stream",
     "text": [
      "username yuncong does not have any annotations for current section 213 \n",
      "username yuncong does not have any annotations for current section 214 \n"
     ]
    },
    {
     "name": "stdout",
     "output_type": "stream",
     "text": [
      "\n",
      "Pn\n",
      "sp5\n",
      "12N\n",
      "\n",
      "\n",
      "214\n",
      "AP\n",
      "R\n",
      "Pn\n",
      "sp5\n",
      "12N\n",
      "\n",
      "\n",
      "215\n",
      "Pn"
     ]
    },
    {
     "name": "stderr",
     "output_type": "stream",
     "text": [
      "username yuncong does not have any annotations for current section 215 \n",
      "username yuncong does not have any annotations for current section 216 \n"
     ]
    },
    {
     "name": "stdout",
     "output_type": "stream",
     "text": [
      "\n",
      "sp5\n",
      "\n",
      "\n",
      "216\n",
      "AP\n",
      "Pn\n",
      "sp5\n",
      "\n",
      "\n",
      "217\n",
      "AP"
     ]
    },
    {
     "name": "stderr",
     "output_type": "stream",
     "text": [
      "username yuncong does not have any annotations for current section 217 \n",
      "username yuncong does not have any annotations for current section 218 \n"
     ]
    },
    {
     "name": "stdout",
     "output_type": "stream",
     "text": [
      "\n",
      "Pn\n",
      "sp5\n",
      "12N\n",
      "\n",
      "\n",
      "218\n",
      "Pn\n",
      "sp5\n",
      "12N\n",
      "\n",
      "\n",
      "219\n",
      "Pn"
     ]
    },
    {
     "name": "stderr",
     "output_type": "stream",
     "text": [
      "username yuncong does not have any annotations for current section 219 \n",
      "username yuncong does not have any annotations for current section 220 \n"
     ]
    },
    {
     "name": "stdout",
     "output_type": "stream",
     "text": [
      "\n",
      "sp5\n",
      "\n",
      "\n",
      "220\n",
      "Pn\n",
      "sp5\n",
      "\n",
      "\n",
      "221\n",
      "Pn"
     ]
    },
    {
     "name": "stderr",
     "output_type": "stream",
     "text": [
      "username yuncong does not have any annotations for current section 221 \n",
      "username yuncong does not have any annotations for current section 222 \n"
     ]
    },
    {
     "name": "stdout",
     "output_type": "stream",
     "text": [
      "\n",
      "sp5\n",
      "12N\n",
      "\n",
      "\n",
      "222\n",
      "Pn\n",
      "Tz\n",
      "sp5\n",
      "12N\n",
      "\n",
      "\n",
      "223\n",
      "Pn"
     ]
    },
    {
     "name": "stderr",
     "output_type": "stream",
     "text": [
      "username yuncong does not have any annotations for current section 223 \n",
      "username yuncong does not have any annotations for current section 224 \n"
     ]
    },
    {
     "name": "stdout",
     "output_type": "stream",
     "text": [
      "\n",
      "sp5\n",
      "12N\n",
      "\n",
      "\n",
      "224\n",
      "Pn\n",
      "Tz\n",
      "sp5\n",
      "12N\n",
      "\n",
      "\n",
      "225\n",
      "Pn"
     ]
    },
    {
     "name": "stderr",
     "output_type": "stream",
     "text": [
      "username yuncong does not have any annotations for current section 225 \n",
      "username yuncong does not have any annotations for current section 226 \n"
     ]
    },
    {
     "name": "stdout",
     "output_type": "stream",
     "text": [
      "\n",
      "R\n",
      "Tz\n",
      "sp5\n",
      "\n",
      "\n",
      "226\n",
      "Pn\n",
      "Tz\n",
      "sp5\n",
      "12N\n",
      "\n",
      "\n",
      "227\n",
      "sp5"
     ]
    },
    {
     "name": "stderr",
     "output_type": "stream",
     "text": [
      "username yuncong does not have any annotations for current section 227 \n",
      "username yuncong does not have any annotations for current section 228 \n"
     ]
    },
    {
     "name": "stdout",
     "output_type": "stream",
     "text": [
      "\n",
      "Pn\n",
      "\n",
      "\n",
      "228\n",
      "Tz\n",
      "sp5\n",
      "12N\n",
      "R\n",
      "Pn\n",
      "\n",
      "\n",
      "229\n",
      "sp5"
     ]
    },
    {
     "name": "stderr",
     "output_type": "stream",
     "text": [
      "username yuncong does not have any annotations for current section 229 \n",
      "username yuncong does not have any annotations for current section 230 \n"
     ]
    },
    {
     "name": "stdout",
     "output_type": "stream",
     "text": [
      "\n",
      "12N\n",
      "R\n",
      "Pn\n",
      "\n",
      "\n",
      "230\n",
      "Tz\n",
      "sp5\n",
      "12N\n",
      "R\n",
      "Pn\n",
      "\n",
      "\n",
      "231\n",
      "Tz"
     ]
    },
    {
     "name": "stderr",
     "output_type": "stream",
     "text": [
      "username yuncong does not have any annotations for current section 231 \n",
      "username yuncong does not have any annotations for current section 232 \n"
     ]
    },
    {
     "name": "stdout",
     "output_type": "stream",
     "text": [
      "\n",
      "sp5\n",
      "12N\n",
      "R\n",
      "Pn\n",
      "\n",
      "\n",
      "232\n",
      "Tz\n",
      "sp5\n",
      "12N\n",
      "R\n",
      "Pn\n",
      "\n",
      "\n",
      "233\n",
      "Tz"
     ]
    },
    {
     "name": "stderr",
     "output_type": "stream",
     "text": [
      "username yuncong does not have any annotations for current section 233 \n",
      "username yuncong does not have any annotations for current section 234 \n"
     ]
    },
    {
     "name": "stdout",
     "output_type": "stream",
     "text": [
      "\n",
      "sp5\n",
      "R\n",
      "Pn\n",
      "\n",
      "\n",
      "234\n",
      "Tz\n",
      "sp5\n",
      "R\n",
      "Pn\n",
      "\n",
      "\n",
      "235\n",
      "Pn"
     ]
    },
    {
     "name": "stderr",
     "output_type": "stream",
     "text": [
      "username yuncong does not have any annotations for current section 235 \n",
      "username yuncong does not have any annotations for current section 236 \n"
     ]
    },
    {
     "name": "stdout",
     "output_type": "stream",
     "text": [
      "\n",
      "Tz\n",
      "sp5\n",
      "\n",
      "\n",
      "236\n",
      "Pn\n",
      "Tz\n",
      "sp5\n",
      "\n",
      "\n",
      "237\n",
      "7n"
     ]
    },
    {
     "name": "stderr",
     "output_type": "stream",
     "text": [
      "username yuncong does not have any annotations for current section 237 \n",
      "username yuncong does not have any annotations for current section 238 \n"
     ]
    },
    {
     "name": "stdout",
     "output_type": "stream",
     "text": [
      "\n",
      "Pn\n",
      "Tz\n",
      "sp5\n",
      "\n",
      "\n",
      "238\n",
      "Pn\n",
      "Tz\n",
      "sp5\n",
      "\n",
      "\n",
      "239\n",
      "Pn"
     ]
    },
    {
     "name": "stderr",
     "output_type": "stream",
     "text": [
      "username yuncong does not have any annotations for current section 239 \n",
      "username yuncong does not have any annotations for current section 240 \n"
     ]
    },
    {
     "name": "stdout",
     "output_type": "stream",
     "text": [
      "\n",
      "Tz\n",
      "sp5\n",
      "\n",
      "\n",
      "240\n",
      "Pn\n",
      "Tz\n",
      "sp5\n",
      "\n",
      "\n",
      "241\n",
      "7n"
     ]
    },
    {
     "name": "stderr",
     "output_type": "stream",
     "text": [
      "username yuncong does not have any annotations for current section 241 \n",
      "username yuncong does not have any annotations for current section 242 \n"
     ]
    },
    {
     "name": "stdout",
     "output_type": "stream",
     "text": [
      "\n",
      "Pn\n",
      "Tz\n",
      "sp5\n",
      "\n",
      "\n",
      "242\n",
      "Pn\n",
      "Tz\n",
      "sp5\n",
      "\n",
      "\n",
      "243\n",
      "Pn"
     ]
    },
    {
     "name": "stderr",
     "output_type": "stream",
     "text": [
      "username yuncong does not have any annotations for current section 243 \n",
      "username yuncong does not have any annotations for current section 244 \n"
     ]
    },
    {
     "name": "stdout",
     "output_type": "stream",
     "text": [
      "\n",
      "Tz\n",
      "sp5\n",
      "\n",
      "\n",
      "244\n",
      "Pn\n",
      "Tz\n",
      "sp5\n",
      "LC\n",
      "\n",
      "\n",
      "245\n",
      "Pn"
     ]
    },
    {
     "name": "stderr",
     "output_type": "stream",
     "text": [
      "username yuncong does not have any annotations for current section 245 \n",
      "username yuncong does not have any annotations for current section 246 \n"
     ]
    },
    {
     "name": "stdout",
     "output_type": "stream",
     "text": [
      "\n",
      "Tz\n",
      "sp5\n",
      "LC\n",
      "\n",
      "\n",
      "246\n",
      "Pn\n",
      "Tz\n",
      "sp5\n",
      "LC\n",
      "\n",
      "\n",
      "247\n",
      "Pn"
     ]
    },
    {
     "name": "stderr",
     "output_type": "stream",
     "text": [
      "username yuncong does not have any annotations for current section 247 \n",
      "username yuncong does not have any annotations for current section 248 \n"
     ]
    },
    {
     "name": "stdout",
     "output_type": "stream",
     "text": [
      "\n",
      "Tz\n",
      "sp5\n",
      "LC\n",
      "\n",
      "\n",
      "248\n",
      "Pn\n",
      "Tz\n",
      "sp5\n",
      "LC\n",
      "\n",
      "\n",
      "249\n",
      "Pn"
     ]
    },
    {
     "name": "stderr",
     "output_type": "stream",
     "text": [
      "username yuncong does not have any annotations for current section 249 \n",
      "username yuncong does not have any annotations for current section 250 \n"
     ]
    },
    {
     "name": "stdout",
     "output_type": "stream",
     "text": [
      "\n",
      "sp5\n",
      "LC\n",
      "\n",
      "\n",
      "250\n",
      "Pn\n",
      "Tz\n",
      "LC\n",
      "\n",
      "\n",
      "251\n",
      "Pn"
     ]
    },
    {
     "name": "stderr",
     "output_type": "stream",
     "text": [
      "username yuncong does not have any annotations for current section 251 \n",
      "username yuncong does not have any annotations for current section 252 \n"
     ]
    },
    {
     "name": "stdout",
     "output_type": "stream",
     "text": [
      "\n",
      "sp5\n",
      "LC\n",
      "\n",
      "\n",
      "252\n",
      "Pn\n",
      "sp5\n",
      "LC\n",
      "\n",
      "\n",
      "253\n",
      "Pn"
     ]
    },
    {
     "name": "stderr",
     "output_type": "stream",
     "text": [
      "username yuncong does not have any annotations for current section 253 \n",
      "username yuncong does not have any annotations for current section 254 \n"
     ]
    },
    {
     "name": "stdout",
     "output_type": "stream",
     "text": [
      "\n",
      "LC\n",
      "\n",
      "\n",
      "254\n",
      "Tz\n",
      "LC\n",
      "sp5\n",
      "7N\n",
      "Pn\n",
      "\n",
      "\n",
      "255\n",
      "LC"
     ]
    },
    {
     "name": "stderr",
     "output_type": "stream",
     "text": [
      "username yuncong does not have any annotations for current section 255 \n",
      "username yuncong does not have any annotations for current section 256 \n"
     ]
    },
    {
     "name": "stdout",
     "output_type": "stream",
     "text": [
      "\n",
      "sp5\n",
      "7N\n",
      "Pn\n",
      "\n",
      "\n",
      "256\n",
      "Pn\n",
      "Tz\n",
      "sp5\n",
      "7N\n",
      "\n",
      "\n",
      "257\n",
      "Pn"
     ]
    },
    {
     "name": "stderr",
     "output_type": "stream",
     "text": [
      "username yuncong does not have any annotations for current section 257 \n",
      "username yuncong does not have any annotations for current section 258 \n"
     ]
    },
    {
     "name": "stdout",
     "output_type": "stream",
     "text": [
      "\n",
      "sp5\n",
      "7N\n",
      "\n",
      "\n",
      "258\n",
      "Pn\n",
      "Tz\n",
      "sp5\n",
      "7N\n",
      "\n",
      "\n",
      "259\n",
      "Pn"
     ]
    },
    {
     "name": "stderr",
     "output_type": "stream",
     "text": [
      "username yuncong does not have any annotations for current section 259 \n",
      "username yuncong does not have any annotations for current section 260 \n"
     ]
    },
    {
     "name": "stdout",
     "output_type": "stream",
     "text": [
      "\n",
      "sp5\n",
      "7N\n",
      "\n",
      "\n",
      "260\n",
      "Pn\n",
      "sp5\n",
      "7N\n",
      "\n"
     ]
    },
    {
     "name": "stderr",
     "output_type": "stream",
     "text": [
      "username yuncong does not have any annotations for current section 261 \n",
      "username yuncong does not have any annotations for current section 262 \n"
     ]
    },
    {
     "name": "stdout",
     "output_type": "stream",
     "text": [
      "\n",
      "261\n",
      "\n",
      "\n",
      "262\n",
      "Pn\n",
      "sp5\n",
      "7N\n"
     ]
    }
   ],
   "source": [
    "first_bs_sec, last_bs_sec = section_range_lookup[stack]\n",
    "\n",
    "# for sec in range(first_bs_sec, last_bs_sec+1):\n",
    "for sec in range(181, 262+1):\n",
    "# for sec in [135]:\n",
    "\n",
    "    dm.set_slice(sec)\n",
    "    \n",
    "    ret = dm.load_proposal_review_result('yuncong', 'latest', 'consolidated')\n",
    "    if ret is not None:\n",
    "        user, ts, _, annotations = ret\n",
    "        \n",
    "    ret_autoAnno = dm.load_proposal_review_result('autoAnnotate', 'latest', 'consolidated')\n",
    "    if ret_autoAnno is not None:\n",
    "        user2, ts2, _, annotations_autoAnno = ret_autoAnno\n",
    "        \n",
    "    if ret is None and ret_autoAnno is None:\n",
    "        continue\n",
    "    \n",
    "    print '\\n'\n",
    "    print sec\n",
    "    \n",
    "    img = imread(os.path.join(os.environ['DATA_DIR'], '%(stack)s_lossless_aligned_cropped_downscaled', \n",
    "                  '%(stack)s_%(sec)04d_lossless_aligned_cropped_downscaled.jpg') % {'stack': stack, 'sec': sec})\n",
    "\n",
    "#     viz = img_as_ubyte(rescale(img, 1./downscale_factor))\n",
    "    viz = img[::downscale_factor, ::downscale_factor].copy()\n",
    "    \n",
    "    label_texts = set([])\n",
    "    \n",
    "    if ret is not None and len(annotations) > 0:\n",
    "            \n",
    "        for ann in annotations:\n",
    "\n",
    "            vertices = np.array(ann['vertices']) / downscale_factor\n",
    "\n",
    "        #     for x,y in vertices:\n",
    "        #         cv2.circle(viz, (int(x), int(y)), 5, (0,0,255), -1)\n",
    "            cv2.polylines(viz, [vertices.astype(np.int)], True, (0,0,255), 5)\n",
    "\n",
    "#             lx, ly = np.array(ann['labelPos']) / downscale_factor\n",
    "#             cv2.putText(viz, ann['label'], (int(lx)-10, int(ly)+10), \n",
    "#                         cv2.FONT_HERSHEY_DUPLEX, 1, ((0,0,0)), 2)\n",
    "\n",
    "            label_texts.add(ann['label'])\n",
    "            \n",
    "            \n",
    "    if ret_autoAnno is not None and len(annotations_autoAnno) > 0:\n",
    "        \n",
    "        for ann in annotations_autoAnno:\n",
    "            \n",
    "            \n",
    "#             vertices_ref = np.array(ann['vertices']) / downscale_factor\n",
    "            \n",
    "            vertices = np.array(ann['vertices']) / downscale_factor\n",
    "\n",
    "        #     for x,y in vertices:\n",
    "        #         cv2.circle(viz, (int(x), int(y)), 5, (255,0,0), -1)\n",
    "            cv2.polylines(viz, [vertices.astype(np.int)], True, (255,0,0), 2)\n",
    "            \n",
    "            print ann['label']\n",
    "\n",
    "#             if ann['label'] not in label_texts:            \n",
    "#                 lx, ly = np.array(ann['labelPos']) / downscale_factor\n",
    "#                 cv2.putText(viz, ann['label'], (int(lx)-10, int(ly)+10), \n",
    "#                             cv2.FONT_HERSHEY_DUPLEX, 1, ((0,0,0)), 2)\n",
    "\n",
    "\n",
    "    if ret is not None and ret_autoAnno is not None:\n",
    "        output_fn = os.path.join(labelingViz_dir, \n",
    "                     '%(stack)s_%(sec)04d_%(user)s_%(ts)s_%(user2)s_%(ts2)s_viz.jpg'% \\\n",
    "                                 {'stack':stack, 'sec':sec, 'user': user, 'ts': ts, 'user2':user2, 'ts2':ts2})\n",
    "    elif ret is not None:\n",
    "        output_fn = os.path.join(labelingViz_dir, \n",
    "                     '%(stack)s_%(sec)04d_%(user)s_%(ts)s_viz.jpg'% \\\n",
    "                                 {'stack':stack, 'sec':sec, 'user': user, 'ts': ts})            \n",
    "    else:\n",
    "        output_fn = os.path.join(labelingViz_dir, \n",
    "             '%(stack)s_%(sec)04d_%(user2)s_%(ts2)s_viz.jpg'% \\\n",
    "                         {'stack':stack, 'sec':sec, 'user2': user2, 'ts2': ts2})\n",
    "        \n",
    "    cv2.imwrite(output_fn, viz[..., ::-1])"
   ]
  },
  {
   "cell_type": "code",
   "execution_count": null,
   "metadata": {
    "collapsed": true
   },
   "outputs": [],
   "source": [
    "# For MICCAI paper (image, scoremap, auto annotation contours)"
   ]
  },
  {
   "cell_type": "code",
   "execution_count": 32,
   "metadata": {
    "collapsed": false
   },
   "outputs": [
    {
     "name": "stdout",
     "output_type": "stream",
     "text": [
      "141\n"
     ]
    }
   ],
   "source": [
    "first_bs_sec, last_bs_sec = section_range_lookup[stack]\n",
    "\n",
    "# for sec in range(first_bs_sec, last_bs_sec+1):\n",
    "for sec in [141]:\n",
    "\n",
    "    dm.set_slice(sec)\n",
    "        \n",
    "    ret_autoAnno = dm.load_proposal_review_result('autoAnnotate', 'latest', 'consolidated')\n",
    "    if ret_autoAnno is not None:\n",
    "        user2, ts2, _, annotations_autoAnno = ret_autoAnno\n",
    "        \n",
    "    if ret is None and ret_autoAnno is None:\n",
    "        continue\n",
    "    \n",
    "    print sec\n",
    "    \n",
    "    \n",
    "    dm._load_image(versions=['rgb-jpg'])\n",
    "    cropped_img = dm.image_rgb_jpg[::8, ::8]\n",
    "    \n",
    "    scoremaps_rootdir = '/home/yuncong/csd395/CSHL_scoremaps_lossless/'\n",
    "    scoremaps_dir = os.path.join(scoremaps_rootdir, stack, '%04d'%sec)\n",
    "\n",
    "    l = '7N'\n",
    "    \n",
    "    scoremap_whole = bp.unpack_ndarray_file(os.path.join(scoremaps_dir, \n",
    "                                           '%(stack)s_%(sec)04d_roi1_denseScoreMapLossless_%(label)s.bp' % \\\n",
    "                                           {'stack': stack, 'sec': sec, 'label': l}))\n",
    "    # except:\n",
    "    #     sys.stderr.write('No scoremap of %s exists\\n' % (l))\n",
    "    #     continue\n",
    "\n",
    "\n",
    "    dataset = stack + '_' + '%04d'%sec + '_roi1'\n",
    "\n",
    "    interpolation_xmin, interpolation_xmax, \\\n",
    "    interpolation_ymin, interpolation_ymax = np.loadtxt(os.path.join(scoremaps_dir, \n",
    "                                                                     '%(dataset)s_denseScoreMapLossless_%(label)s_interpBox.txt' % \\\n",
    "                                    {'dataset': dataset, 'label': l})).astype(np.int)\n",
    "\n",
    "    dense_scoremap_lossless = np.zeros((dm.image_height, dm.image_width), np.float32)\n",
    "    dense_scoremap_lossless[interpolation_ymin:interpolation_ymax+1,\n",
    "                            interpolation_xmin:interpolation_xmax+1] = scoremap_whole\n",
    "\n",
    "    scoremap = dense_scoremap_lossless[::8, ::8]\n",
    "    scoremap_height, scoremap_width = scoremap.shape[:2]\n",
    "\n",
    "    scoremap_layer_viz = img_as_ubyte(plt.cm.hot(scoremap)[..., :3])\n",
    "    scoremap_viz = img_as_ubyte(alpha_blending(scoremap_layer_viz,\n",
    "                                               cropped_img,\n",
    "                                               .3, 1)[..., :3])\n",
    "    \n",
    "\n",
    "#     viz = img_as_ubyte(rescale(scoremap_viz, 1./downscale_factor))\n",
    "#     viz = scoremap_viz[::downscale_factor, ::downscale_factor]\n",
    "                \n",
    "    if ret_autoAnno is not None and len(annotations_autoAnno) > 0:\n",
    "        \n",
    "        for ann in annotations_autoAnno:\n",
    "            \n",
    "            if ann['label'] == l:\n",
    "            \n",
    "                vertices = np.array(ann['vertices']) / downscale_factor\n",
    "                cv2.polylines(scoremap_viz, [vertices.astype(np.int)], True, (255,0,0), 2)\n",
    "\n",
    "    #             print ann['label']\n"
   ]
  },
  {
   "cell_type": "code",
   "execution_count": 33,
   "metadata": {
    "collapsed": false
   },
   "outputs": [
    {
     "data": {
      "text/html": [
       "<a href='tmp.jpg' target='_blank'>tmp.jpg</a><br>"
      ],
      "text/plain": [
       "/oasis/projects/nsf/csd395/yuncong/Brain/learning/tmp.jpg"
      ]
     },
     "execution_count": 33,
     "metadata": {},
     "output_type": "execute_result"
    }
   ],
   "source": [
    "display(scoremap_viz)"
   ]
  }
 ],
 "metadata": {
  "kernelspec": {
   "display_name": "Python 2",
   "language": "python",
   "name": "python2"
  },
  "language_info": {
   "codemirror_mode": {
    "name": "ipython",
    "version": 2
   },
   "file_extension": ".py",
   "mimetype": "text/x-python",
   "name": "python",
   "nbconvert_exporter": "python",
   "pygments_lexer": "ipython2",
   "version": "2.7.3"
  }
 },
 "nbformat": 4,
 "nbformat_minor": 0
}
