{
 "cells": [
  {
   "cell_type": "code",
   "execution_count": 1,
   "metadata": {
    "collapsed": true
   },
   "outputs": [],
   "source": [
    "%reload_ext autoreload\n",
    "%autoreload 2\n",
    "\n",
    "import cv2\n",
    "\n",
    "import os\n",
    "import sys\n",
    "sys.path.append(os.path.join(os.environ['REPO_DIR'], 'utilities'))\n",
    "from utilities2015 import *\n",
    "\n",
    "from collections import defaultdict\n",
    "\n",
    "from matplotlib.path import Path\n",
    "%matplotlib inline"
   ]
  },
  {
   "cell_type": "code",
   "execution_count": 3,
   "metadata": {
    "collapsed": true
   },
   "outputs": [],
   "source": [
    "from enum import Enum\n",
    "\n",
    "class PolygonType(Enum):\n",
    "    CLOSED = 'closed'\n",
    "    OPEN = 'open'\n",
    "    TEXTURE = 'textured'\n",
    "    TEXTURE_WITH_CONTOUR = 'texture with contour'\n",
    "    DIRECTION = 'directionality'"
   ]
  },
  {
   "cell_type": "code",
   "execution_count": 4,
   "metadata": {
    "collapsed": true
   },
   "outputs": [],
   "source": [
    "stack = 'MD589'\n",
    "\n",
    "if stack == 'MD589':\n",
    "    cropbox_xmin = 645\n",
    "    cropbox_ymin = 132\n",
    "elif stack == 'MD594':\n",
    "    cropbox_xmin = 635\n",
    "    cropbox_ymin = 107"
   ]
  },
  {
   "cell_type": "code",
   "execution_count": 18,
   "metadata": {
    "collapsed": true
   },
   "outputs": [],
   "source": [
    "from skimage.transform import rescale"
   ]
  },
  {
   "cell_type": "code",
   "execution_count": 41,
   "metadata": {
    "collapsed": false
   },
   "outputs": [],
   "source": [
    "labelingViz_root = '/oasis/projects/nsf/csd395/yuncong/CSHL_labelingsViz'\n",
    "labelingViz_dir = os.path.join(labelingViz_root, stack)\n",
    "if not os.path.exists(labelingViz_dir):\n",
    "    os.makedirs(labelingViz_dir)"
   ]
  },
  {
   "cell_type": "code",
   "execution_count": 47,
   "metadata": {
    "collapsed": false,
    "scrolled": true
   },
   "outputs": [
    {
     "name": "stderr",
     "output_type": "stream",
     "text": [
      "username yuncong does not have any labelings\n",
      "username yuncong does not have any labelings\n",
      "username yuncong does not have any labelings\n",
      "username yuncong does not have any labelings\n",
      "username yuncong does not have any labelings\n",
      "username yuncong does not have any labelings\n",
      "username yuncong does not have any labelings\n",
      "username yuncong does not have any labelings\n",
      "username yuncong does not have any labelings\n",
      "username yuncong does not have any labelings\n",
      "username yuncong does not have any labelings\n",
      "username yuncong does not have any labelings\n",
      "username yuncong does not have any labelings\n",
      "username yuncong does not have any labelings\n",
      "username yuncong does not have any labelings\n",
      "username yuncong does not have any labelings\n",
      "username yuncong does not have any labelings\n",
      "username yuncong does not have any labelings\n",
      "username yuncong does not have any labelings\n",
      "username yuncong does not have any labelings\n",
      "username yuncong does not have any labelings\n",
      "username yuncong does not have any labelings\n",
      "username yuncong does not have any labelings\n",
      "username yuncong does not have any labelings\n",
      "username yuncong does not have any labelings\n",
      "username yuncong does not have any labelings\n",
      "username yuncong does not have any labelings\n",
      "username yuncong does not have any labelings\n",
      "username yuncong does not have any labelings\n",
      "username yuncong does not have any labelings\n",
      "username yuncong does not have any labelings\n",
      "username yuncong does not have any labelings\n",
      "username yuncong does not have any labelings\n",
      "username yuncong does not have any labelings\n",
      "username yuncong does not have any labelings\n",
      "username yuncong does not have any labelings\n",
      "username yuncong does not have any labelings\n",
      "username yuncong does not have any labelings\n",
      "username yuncong does not have any labelings\n",
      "username yuncong does not have any labelings\n",
      "username yuncong does not have any labelings\n",
      "username yuncong does not have any labelings\n",
      "username yuncong does not have any labelings\n",
      "username yuncong does not have any labelings\n",
      "username yuncong does not have any labelings\n",
      "username yuncong does not have any labelings\n",
      "username yuncong does not have any labelings\n",
      "username yuncong does not have any labelings\n",
      "username yuncong does not have any labelings\n",
      "username yuncong does not have any labelings\n",
      "username yuncong does not have any labelings\n",
      "username yuncong does not have any labelings\n",
      "username yuncong does not have any labelings\n",
      "username yuncong does not have any labelings\n",
      "username yuncong does not have any labelings\n",
      "username yuncong does not have any labelings\n",
      "username yuncong does not have any labelings\n",
      "username yuncong does not have any labelings\n",
      "username yuncong does not have any labelings\n",
      "username yuncong does not have any labelings\n",
      "username yuncong does not have any labelings\n",
      "username yuncong does not have any labelings\n",
      "username yuncong does not have any labelings\n",
      "username yuncong does not have any labelings\n",
      "username yuncong does not have any labelings\n",
      "username yuncong does not have any labelings\n",
      "username yuncong does not have any labelings\n",
      "username yuncong does not have any labelings\n",
      "username yuncong does not have any labelings\n",
      "username yuncong does not have any labelings\n",
      "username yuncong does not have any labelings\n",
      "username yuncong does not have any labelings\n",
      "username yuncong does not have any labelings\n",
      "username yuncong does not have any labelings\n",
      "username yuncong does not have any labelings\n",
      "username yuncong does not have any labelings\n",
      "username yuncong does not have any labelings\n",
      "username yuncong does not have any labelings\n",
      "username yuncong does not have any labelings\n",
      "username yuncong does not have any labelings\n",
      "username yuncong does not have any labelings\n",
      "username yuncong does not have any labelings\n",
      "username yuncong does not have any labelings\n",
      "username yuncong does not have any labelings\n",
      "username yuncong does not have any labelings\n",
      "username yuncong does not have any labelings\n",
      "username yuncong does not have any labelings\n",
      "username yuncong does not have any labelings\n",
      "username yuncong does not have any labelings\n",
      "username yuncong does not have any labelings\n",
      "username yuncong does not have any labelings\n",
      "username yuncong does not have any labelings\n",
      "username yuncong does not have any labelings\n",
      "username yuncong does not have any labelings\n",
      "username yuncong does not have any labelings\n",
      "username yuncong does not have any labelings\n",
      "username yuncong does not have any labelings\n",
      "username yuncong does not have any labelings\n",
      "username yuncong does not have any labelings\n",
      "username yuncong does not have any labelings\n",
      "username yuncong does not have any labelings\n",
      "username yuncong does not have any labelings\n",
      "username yuncong does not have any labelings\n",
      "username yuncong does not have any labelings\n",
      "username yuncong does not have any labelings\n",
      "username yuncong does not have any labelings\n",
      "username yuncong does not have any labelings\n",
      "username yuncong does not have any labelings\n",
      "username yuncong does not have any labelings\n",
      "username yuncong does not have any labelings\n",
      "username yuncong does not have any labelings\n",
      "username yuncong does not have any labelings\n",
      "username yuncong does not have any labelings\n",
      "username yuncong does not have any labelings\n",
      "username yuncong does not have any labelings\n",
      "username yuncong does not have any labelings\n",
      "username yuncong does not have any labelings\n",
      "username yuncong does not have any labelings\n",
      "username yuncong does not have any labelings\n",
      "username yuncong does not have any labelings\n",
      "username yuncong does not have any labelings\n",
      "username yuncong does not have any labelings\n",
      "username yuncong does not have any labelings\n",
      "username yuncong does not have any labelings\n",
      "username yuncong does not have any labelings\n",
      "username yuncong does not have any labelings\n"
     ]
    }
   ],
   "source": [
    "first_bs_sec, last_bs_sec = section_range_lookup[stack]\n",
    "\n",
    "for sec in range(first_bs_sec, last_bs_sec+1):\n",
    "    print sec\n",
    "# sec = 158\n",
    "\n",
    "    dm = DataManager(stack=stack, section=sec)\n",
    "    try:\n",
    "        user, ts, _, res = dm.load_proposal_review_result('yuncong', 'latest', 'consolidated')\n",
    "    except:\n",
    "        continue\n",
    "\n",
    "    img = imread(os.path.join(os.environ['DATA_DIR'], '%(stack)s_lossless_aligned_cropped_downscaled', \n",
    "                  '%(stack)s_%(sec)04d_lossless_aligned_cropped_downscaled.jpg') % {'stack': stack, 'sec': sec})\n",
    "\n",
    "    downscale_factor = 4\n",
    "    img_small = rescale(img, 1./downscale_factor)\n",
    "\n",
    "    viz = img_as_ubyte(img_small)\n",
    "\n",
    "    for ann in res:\n",
    "\n",
    "        vertices = np.array(ann['vertices']) / downscale_factor\n",
    "        cx, cy = np.mean(vertices, axis=0)\n",
    "\n",
    "    #     for x,y in vertices:\n",
    "    #         cv2.circle(viz, (int(x), int(y)), 5, (255,0,0), -1)\n",
    "        cv2.polylines(viz, [vertices.astype(np.int)], True, (255,0,0), 5)\n",
    "\n",
    "        cv2.putText(viz, ann['label'], (int(cx)-10, int(cy)+10), \n",
    "                    cv2.FONT_HERSHEY_DUPLEX, 2, ((0,0,0)), 3)\n",
    "\n",
    "\n",
    "    output_fn = os.path.join(labelingViz_dir, '%(stack)s_%(sec)04d_%(user)s_%(ts)s_viz.jpg'%{'stack':stack, 'sec':sec,\n",
    "                                                                                           'user': user, 'ts': ts})\n",
    "    cv2.imwrite(output_fn, viz[..., ::-1])"
   ]
  },
  {
   "cell_type": "code",
   "execution_count": null,
   "metadata": {
    "collapsed": true
   },
   "outputs": [],
   "source": []
  }
 ],
 "metadata": {
  "kernelspec": {
   "display_name": "Python 2",
   "language": "python",
   "name": "python2"
  },
  "language_info": {
   "codemirror_mode": {
    "name": "ipython",
    "version": 2
   },
   "file_extension": ".py",
   "mimetype": "text/x-python",
   "name": "python",
   "nbconvert_exporter": "python",
   "pygments_lexer": "ipython2",
   "version": "2.7.3"
  }
 },
 "nbformat": 4,
 "nbformat_minor": 0
}
