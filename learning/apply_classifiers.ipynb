{
 "cells": [
  {
   "cell_type": "code",
   "execution_count": 17,
   "metadata": {
    "collapsed": false
   },
   "outputs": [],
   "source": [
    "%reload_ext autoreload\n",
    "%autoreload 2\n",
    "\n",
    "import os\n",
    "import argparse\n",
    "import sys\n",
    "import time\n",
    "\n",
    "sys.path.append(os.path.join(os.environ['REPO_DIR'], 'utilities'))\n",
    "from utilities2015 import *\n",
    "from metadata import *\n",
    "from data_manager import *\n",
    "\n",
    "import numpy as np\n",
    "\n",
    "from learning_utilities import *\n",
    "from sklearn.externals import joblib\n",
    "from multiprocess import Pool"
   ]
  },
  {
   "cell_type": "code",
   "execution_count": 2,
   "metadata": {
    "collapsed": true
   },
   "outputs": [],
   "source": [
    "stack = 'MD635'\n",
    "first_sec, last_sec = DataManager.load_cropbox(stack)[4:]\n",
    "train_sample_scheme = 1"
   ]
  },
  {
   "cell_type": "code",
   "execution_count": 7,
   "metadata": {
    "collapsed": false,
    "scrolled": false
   },
   "outputs": [
    {
     "name": "stderr",
     "output_type": "stream",
     "text": [
      "[Errno 2] No such file or directory: '/home/yuncong/csd395/CSHL_patch_features_Sat16ClassFinetuned_v2_classifiers_neurotraceBlue//classifiers/Amb_svm_trainSampleScheme_1.pkl'\n",
      "NTB detector for Amb is not trained.\n",
      "[Errno 2] No such file or directory: '/home/yuncong/csd395/CSHL_patch_features_Sat16ClassFinetuned_v2_classifiers_neurotraceBlue//classifiers/LRt_svm_trainSampleScheme_1.pkl'\n",
      "NTB detector for LRt is not trained.\n",
      "[Errno 2] No such file or directory: '/home/yuncong/csd395/CSHL_patch_features_Sat16ClassFinetuned_v2_classifiers_neurotraceBlue//classifiers/RMC_svm_trainSampleScheme_1.pkl'\n",
      "NTB detector for RMC is not trained.\n",
      "[Errno 2] No such file or directory: '/home/yuncong/csd395/CSHL_patch_features_Sat16ClassFinetuned_v2_classifiers_neurotraceBlue//classifiers/3N_svm_trainSampleScheme_1.pkl'\n",
      "NTB detector for 3N is not trained.\n",
      "[Errno 2] No such file or directory: '/home/yuncong/csd395/CSHL_patch_features_Sat16ClassFinetuned_v2_classifiers_neurotraceBlue//classifiers/4N_svm_trainSampleScheme_1.pkl'\n",
      "NTB detector for 4N is not trained.\n",
      "[Errno 2] No such file or directory: '/home/yuncong/csd395/CSHL_patch_features_Sat16ClassFinetuned_v2_classifiers_neurotraceBlue//classifiers/Sp5I_svm_trainSampleScheme_1.pkl'\n",
      "NTB detector for Sp5I is not trained.\n",
      "[Errno 2] No such file or directory: '/home/yuncong/csd395/CSHL_patch_features_Sat16ClassFinetuned_v2_classifiers_neurotraceBlue//classifiers/Sp5O_svm_trainSampleScheme_1.pkl'\n",
      "NTB detector for Sp5O is not trained.\n",
      "[Errno 2] No such file or directory: '/home/yuncong/csd395/CSHL_patch_features_Sat16ClassFinetuned_v2_classifiers_neurotraceBlue//classifiers/PBG_svm_trainSampleScheme_1.pkl'\n",
      "NTB detector for PBG is not trained.\n"
     ]
    }
   ],
   "source": [
    "clf_ntb_allClasses = {}\n",
    "for label in structures:\n",
    "    try:\n",
    "        clf_ntb_allClasses[label] = joblib.load(DataManager.get_svm_neurotraceBlue_filepath(label=label, train_sample_scheme=train_sample_scheme))\n",
    "    except Exception as e:\n",
    "        sys.stderr.write('%s\\n' % e)\n",
    "        sys.stderr.write('NTB detector for %s is not trained.\\n' % label)\n",
    "\n",
    "clf_nissl_allClasses = {}\n",
    "for label in structures:\n",
    "    try:\n",
    "        clf_nissl_allClasses[label] = joblib.load(DataManager.get_svm_filepath(label=label, train_sample_scheme=train_sample_scheme))\n",
    "    except Exception as e:\n",
    "        sys.stderr.write('%s\\n' % e)\n",
    "        sys.stderr.write('Nissl detector for %s is not trained.\\n' % label)"
   ]
  },
  {
   "cell_type": "code",
   "execution_count": 6,
   "metadata": {
    "collapsed": true
   },
   "outputs": [],
   "source": [
    "paired_structures = ['5N', '6N', '7N', '7n', 'Amb', 'LC', 'LRt', 'Pn', 'Tz', 'VLL', 'RMC', 'SNC', 'SNR', '3N', '4N',\n",
    "                    'Sp5I', 'Sp5O', 'Sp5C', 'PBG', '10N', 'VCA', 'VCP', 'DC']\n",
    "singular_structures = ['AP', '12N', 'RtTg', 'SC', 'IC']\n",
    "structures = paired_structures + singular_structures"
   ]
  },
  {
   "cell_type": "code",
   "execution_count": 9,
   "metadata": {
    "collapsed": false
   },
   "outputs": [],
   "source": [
    "structures = set(clf_ntb_allClasses.keys()) & set(clf_nissl_allClasses.keys())"
   ]
  },
  {
   "cell_type": "code",
   "execution_count": 28,
   "metadata": {
    "collapsed": true
   },
   "outputs": [],
   "source": [
    "def clf_predict(stack, sec):\n",
    "\n",
    "    try:\n",
    "        features = DataManager.load_dnn_features(stack=stack, section=sec)\n",
    "    except Exception as e:\n",
    "        sys.stderr.write(e.message + '\\n')\n",
    "        return\n",
    "\n",
    "    for label in structures:\n",
    "        \n",
    "        if stack in all_ntb_stacks:\n",
    "            clf = clf_ntb_allClasses[label]\n",
    "        elif stack in all_nissl_stacks:\n",
    "            clf = clf_nissl_allClasses[label]\n",
    "        else:\n",
    "            raise Exception('Not implemented.')\n",
    "        \n",
    "        probs = clf.predict_proba(features)[:, clf.classes_.tolist().index(1.)]\n",
    "        \n",
    "        output_fn = DataManager.get_sparse_scores_filepath(stack=stack, sec=sec, label=label, train_sample_scheme=train_sample_scheme)\n",
    "        create_if_not_exists(os.path.dirname(output_fn))\n",
    "        \n",
    "        bp.pack_ndarray_file(probs, output_fn)"
   ]
  },
  {
   "cell_type": "code",
   "execution_count": 29,
   "metadata": {
    "collapsed": false
   },
   "outputs": [
    {
     "name": "stderr",
     "output_type": "stream",
     "text": [
      "Classifier predict: 20.62\n"
     ]
    }
   ],
   "source": [
    "t = time.time()\n",
    "\n",
    "pool = Pool(8)\n",
    "pool.map(lambda sec: clf_predict(stack=stack, sec=sec), range(200, 201))\n",
    "pool.close()\n",
    "pool.join()\n",
    "\n",
    "sys.stderr.write('Classifier predict: %.2f\\n' % (time.time()-t)) # 35 s / 10 section; 863 seconds /stack"
   ]
  },
  {
   "cell_type": "code",
   "execution_count": null,
   "metadata": {
    "collapsed": true
   },
   "outputs": [],
   "source": []
  }
 ],
 "metadata": {
  "kernelspec": {
   "display_name": "Python 2",
   "language": "python",
   "name": "python2"
  },
  "language_info": {
   "codemirror_mode": {
    "name": "ipython",
    "version": 2
   },
   "file_extension": ".py",
   "mimetype": "text/x-python",
   "name": "python",
   "nbconvert_exporter": "python",
   "pygments_lexer": "ipython2",
   "version": "2.7.3"
  }
 },
 "nbformat": 4,
 "nbformat_minor": 1
}
