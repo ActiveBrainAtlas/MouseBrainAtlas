{
 "cells": [
  {
   "cell_type": "code",
   "execution_count": 3,
   "metadata": {
    "collapsed": false
   },
   "outputs": [],
   "source": [
    "%reload_ext autoreload\n",
    "%autoreload 2\n",
    "\n",
    "import cv2\n",
    "\n",
    "import os\n",
    "import sys\n",
    "sys.path.append(os.path.join(os.environ['REPO_DIR'], 'utilities'))\n",
    "from utilities2015 import *\n",
    "\n",
    "from collections import defaultdict\n",
    "\n",
    "from matplotlib.path import Path\n",
    "%matplotlib inline"
   ]
  },
  {
   "cell_type": "code",
   "execution_count": 4,
   "metadata": {
    "collapsed": false
   },
   "outputs": [],
   "source": [
    "label_polygon = pickle.load(open(os.environ['REPO_DIR']+'/database/label_polygon.pkl', 'r'))"
   ]
  },
  {
   "cell_type": "code",
   "execution_count": 5,
   "metadata": {
    "collapsed": false,
    "scrolled": true
   },
   "outputs": [],
   "source": [
    "first, last = section_range_lookup['MD589']\n",
    "dms = dict([(sc, DataManager(stack='MD589', section=sc, segm_params_id='tSLIC200', load_mask=False)) \n",
    "            for sc in range(first, last)])"
   ]
  },
  {
   "cell_type": "code",
   "execution_count": 6,
   "metadata": {
    "collapsed": false
   },
   "outputs": [
    {
     "name": "stdout",
     "output_type": "stream",
     "text": [
      "['PrVv', 'Vcd', 'BC', 'CereNuc', '7n', 'DC', 'PrVd', '5N', 'RtTg', 'PnO', 'Tz', 'Pn', 'scp', 'SuVe', 'Pr5VL', 'VLL', '9N', '7N', 'Amb', '12N', 'Pr5', '5TT', 'Sp5O', 'VCA', 'UDFtr', 'VIpp', 'TrVdes', 'VOrp', 'Sp5C', 'sp5', 'VCP', 'VOri', 'R', 'LRt', 'IO', '10N', 'VOra', 'VMu', 'Pr5DM', 'MVePC', 'Gr', 'VTg', 'LC', 'Sp5I', 'Sol', '6N', 'LVe', 'UDF', 'MVe', 'LSO', 'LDTg']\n"
     ]
    }
   ],
   "source": [
    "print label_polygon.keys()"
   ]
  },
  {
   "cell_type": "code",
   "execution_count": 7,
   "metadata": {
    "collapsed": false
   },
   "outputs": [],
   "source": [
    "# label = 'Pn'\n",
    "# label = '12N'\n",
    "# label = 'Gr'\n",
    "# label = \"7N\"\n",
    "# label = '7n'\n",
    "# label = \"5N\"\n",
    "# label = 'sp5'\n",
    "# label = 'VLL'\n",
    "# label = 'LVe'\n",
    "# label = 'SuVe'\n",
    "labels = ['Pn', '12N', 'Gr', \"7N\", '7n', \"5N\", 'VLL', 'LVe', 'SuVe']"
   ]
  },
  {
   "cell_type": "code",
   "execution_count": 8,
   "metadata": {
    "collapsed": false
   },
   "outputs": [
    {
     "name": "stdout",
     "output_type": "stream",
     "text": [
      "89\n",
      "90\n"
     ]
    },
    {
     "name": "stderr",
     "output_type": "stream",
     "text": [
      "/oasis/projects/nsf/csd181/yuncong/virtualenv-1.9.1/yuncongve/lib/python2.7/site-packages/PIL/Image.py:2261: DecompressionBombWarning: Image size (294524928 pixels) exceeds limit of 89478485 pixels, could be decompression bomb DOS attack.\n",
      "  DecompressionBombWarning)\n"
     ]
    },
    {
     "ename": "KeyboardInterrupt",
     "evalue": "",
     "output_type": "error",
     "traceback": [
      "\u001b[1;31m---------------------------------------------------------------------------\u001b[0m",
      "\u001b[1;31mKeyboardInterrupt\u001b[0m                         Traceback (most recent call last)",
      "\u001b[1;32m<ipython-input-8-634ba446e935>\u001b[0m in \u001b[0;36m<module>\u001b[1;34m()\u001b[0m\n\u001b[0;32m     14\u001b[0m         \u001b[0mxmax\u001b[0m\u001b[1;33m,\u001b[0m \u001b[0mymax\u001b[0m  \u001b[1;33m=\u001b[0m \u001b[0mnp\u001b[0m\u001b[1;33m.\u001b[0m\u001b[0mmax\u001b[0m\u001b[1;33m(\u001b[0m\u001b[0mvertices\u001b[0m\u001b[1;33m,\u001b[0m \u001b[0maxis\u001b[0m\u001b[1;33m=\u001b[0m\u001b[1;36m0\u001b[0m\u001b[1;33m)\u001b[0m\u001b[1;33m.\u001b[0m\u001b[0mastype\u001b[0m\u001b[1;33m(\u001b[0m\u001b[0mnp\u001b[0m\u001b[1;33m.\u001b[0m\u001b[0mint\u001b[0m\u001b[1;33m)\u001b[0m \u001b[1;33m+\u001b[0m \u001b[1;36m300\u001b[0m\u001b[1;33m\u001b[0m\u001b[0m\n\u001b[0;32m     15\u001b[0m \u001b[1;33m\u001b[0m\u001b[0m\n\u001b[1;32m---> 16\u001b[1;33m         \u001b[0mdms\u001b[0m\u001b[1;33m[\u001b[0m\u001b[0msec\u001b[0m\u001b[1;33m]\u001b[0m\u001b[1;33m.\u001b[0m\u001b[0m_load_image\u001b[0m\u001b[1;33m(\u001b[0m\u001b[1;33m[\u001b[0m\u001b[1;34m'rgb'\u001b[0m\u001b[1;33m]\u001b[0m\u001b[1;33m)\u001b[0m\u001b[1;33m\u001b[0m\u001b[0m\n\u001b[0m\u001b[0;32m     17\u001b[0m         \u001b[0mviz\u001b[0m \u001b[1;33m=\u001b[0m \u001b[0mdms\u001b[0m\u001b[1;33m[\u001b[0m\u001b[0msec\u001b[0m\u001b[1;33m]\u001b[0m\u001b[1;33m.\u001b[0m\u001b[0mimage_rgb\u001b[0m\u001b[1;33m[\u001b[0m\u001b[0mymin\u001b[0m\u001b[1;33m:\u001b[0m\u001b[0mymax\u001b[0m\u001b[1;33m+\u001b[0m\u001b[1;36m1\u001b[0m\u001b[1;33m,\u001b[0m \u001b[0mxmin\u001b[0m\u001b[1;33m:\u001b[0m\u001b[0mxmax\u001b[0m\u001b[1;33m+\u001b[0m\u001b[1;36m1\u001b[0m\u001b[1;33m]\u001b[0m\u001b[1;33m.\u001b[0m\u001b[0mcopy\u001b[0m\u001b[1;33m(\u001b[0m\u001b[1;33m)\u001b[0m\u001b[1;33m\u001b[0m\u001b[0m\n\u001b[0;32m     18\u001b[0m         \u001b[0mlandmark_images\u001b[0m\u001b[1;33m[\u001b[0m\u001b[0msec\u001b[0m\u001b[1;33m]\u001b[0m \u001b[1;33m=\u001b[0m \u001b[0mviz\u001b[0m\u001b[1;33m\u001b[0m\u001b[0m\n",
      "\u001b[1;32m/home/yuncong/Brain/utilities/utilities2015.pyc\u001b[0m in \u001b[0;36m_load_image\u001b[1;34m(self, versions)\u001b[0m\n\u001b[0;32m   1034\u001b[0m             \u001b[0mimage_filename\u001b[0m \u001b[1;33m=\u001b[0m \u001b[0mself\u001b[0m\u001b[1;33m.\u001b[0m\u001b[0m_get_image_filepath\u001b[0m\u001b[1;33m(\u001b[0m\u001b[0mversion\u001b[0m\u001b[1;33m=\u001b[0m\u001b[1;34m'rgb'\u001b[0m\u001b[1;33m)\u001b[0m\u001b[1;33m\u001b[0m\u001b[0m\n\u001b[0;32m   1035\u001b[0m             \u001b[1;31m# assert os.path.exists(image_filename), \"Image '%s' does not exist\" % (self.image_name + '.tif')\u001b[0m\u001b[1;33m\u001b[0m\u001b[1;33m\u001b[0m\u001b[0m\n\u001b[1;32m-> 1036\u001b[1;33m             \u001b[0mself\u001b[0m\u001b[1;33m.\u001b[0m\u001b[0mimage_rgb\u001b[0m \u001b[1;33m=\u001b[0m \u001b[0mself\u001b[0m\u001b[1;33m.\u001b[0m\u001b[0m_read_image\u001b[0m\u001b[1;33m(\u001b[0m\u001b[0mimage_filename\u001b[0m\u001b[1;33m)\u001b[0m\u001b[1;33m\u001b[0m\u001b[0m\n\u001b[0m\u001b[0;32m   1037\u001b[0m \u001b[1;33m\u001b[0m\u001b[0m\n\u001b[0;32m   1038\u001b[0m         \u001b[1;32mif\u001b[0m \u001b[1;34m'gray'\u001b[0m \u001b[1;32min\u001b[0m \u001b[0mversions\u001b[0m \u001b[1;32mand\u001b[0m \u001b[1;32mnot\u001b[0m \u001b[0mhasattr\u001b[0m\u001b[1;33m(\u001b[0m\u001b[0mself\u001b[0m\u001b[1;33m,\u001b[0m \u001b[1;34m'image'\u001b[0m\u001b[1;33m)\u001b[0m\u001b[1;33m:\u001b[0m\u001b[1;33m\u001b[0m\u001b[0m\n",
      "\u001b[1;32m/home/yuncong/Brain/utilities/utilities2015.pyc\u001b[0m in \u001b[0;36m_read_image\u001b[1;34m(self, image_filename)\u001b[0m\n\u001b[0;32m   1017\u001b[0m         \u001b[1;32mif\u001b[0m \u001b[0mimage_filename\u001b[0m\u001b[1;33m.\u001b[0m\u001b[0mendswith\u001b[0m\u001b[1;33m(\u001b[0m\u001b[1;34m'tif'\u001b[0m\u001b[1;33m)\u001b[0m \u001b[1;32mor\u001b[0m \u001b[0mimage_filename\u001b[0m\u001b[1;33m.\u001b[0m\u001b[0mendswith\u001b[0m\u001b[1;33m(\u001b[0m\u001b[1;34m'tiff'\u001b[0m\u001b[1;33m)\u001b[0m\u001b[1;33m:\u001b[0m\u001b[1;33m\u001b[0m\u001b[0m\n\u001b[0;32m   1018\u001b[0m             \u001b[1;32mfrom\u001b[0m \u001b[0mPIL\u001b[0m\u001b[1;33m.\u001b[0m\u001b[0mImage\u001b[0m \u001b[1;32mimport\u001b[0m \u001b[0mopen\u001b[0m\u001b[1;33m\u001b[0m\u001b[0m\n\u001b[1;32m-> 1019\u001b[1;33m             \u001b[0mimg\u001b[0m \u001b[1;33m=\u001b[0m \u001b[0mnp\u001b[0m\u001b[1;33m.\u001b[0m\u001b[0marray\u001b[0m\u001b[1;33m(\u001b[0m\u001b[0mopen\u001b[0m\u001b[1;33m(\u001b[0m\u001b[0mimage_filename\u001b[0m\u001b[1;33m)\u001b[0m\u001b[1;33m)\u001b[0m\u001b[1;33m/\u001b[0m\u001b[1;36m255.\u001b[0m\u001b[1;33m\u001b[0m\u001b[0m\n\u001b[0m\u001b[0;32m   1020\u001b[0m         \u001b[1;32melse\u001b[0m\u001b[1;33m:\u001b[0m\u001b[1;33m\u001b[0m\u001b[0m\n\u001b[0;32m   1021\u001b[0m             \u001b[0mimg\u001b[0m \u001b[1;33m=\u001b[0m \u001b[0mimread\u001b[0m\u001b[1;33m(\u001b[0m\u001b[0mimage_filename\u001b[0m\u001b[1;33m)\u001b[0m\u001b[1;33m\u001b[0m\u001b[0m\n",
      "\u001b[1;31mKeyboardInterrupt\u001b[0m: "
     ]
    }
   ],
   "source": [
    "for label in labels:\n",
    "# for label in ['Gr']:\n",
    "    \n",
    "    landmark_images = {}\n",
    "    adjusted_vertices = {}\n",
    "\n",
    "    for i, sec in enumerate(sorted(label_polygon[label].keys())):\n",
    "\n",
    "        print sec\n",
    "\n",
    "        vertices = np.array(label_polygon[label][sec])\n",
    "\n",
    "        xmin, ymin  = np.min(vertices, axis=0).astype(np.int) - 300\n",
    "        xmax, ymax  = np.max(vertices, axis=0).astype(np.int) + 300\n",
    "\n",
    "        dms[sec]._load_image(['rgb'])\n",
    "        viz = dms[sec].image_rgb[ymin:ymax+1, xmin:xmax+1].copy()\n",
    "        landmark_images[sec] = viz\n",
    "        del dms[sec].image_rgb\n",
    "\n",
    "        adjusted_vertices[sec] = vertices - (xmin, ymin)\n",
    "        \n",
    "        # ncol = 3\n",
    "\n",
    "        # nimgs = len(label_polygon[label])\n",
    "\n",
    "        # fig, axes = plt.subplots(int((nimgs-1)/ncol)+1, ncol, figsize=(30,50), squeeze=True)\n",
    "        # axes = axes.flatten()\n",
    "        # # axes = np.atleast_1d(axes)\n",
    "\n",
    "        # for i, sec in enumerate(sorted(label_polygon[label].keys())):\n",
    "\n",
    "        #     vs = adjusted_vertices[sec]\n",
    "        #     viz = landmark_images[sec].copy()\n",
    "        #     cv2.polylines(viz, [np.int32(vs)], True, (255,0,0), 5)\n",
    "        #     axes[i].imshow(viz)\n",
    "        #     axes[i].set_title('section %d' % sec)\n",
    "        #     axes[i].axis('off')\n",
    "\n",
    "        # plt.show()\n",
    "        \n",
    "    patch_size = 224\n",
    "    half_size = patch_size/2\n",
    "    stride = 112\n",
    "\n",
    "    patches_allSections = {}\n",
    "    patches = []\n",
    "    for i, sec in enumerate(sorted(label_polygon[label].keys())):\n",
    "        h, w = landmark_images[sec].shape[:2]\n",
    "        ys, xs = np.meshgrid(np.arange(half_size, h-half_size, stride), np.arange(half_size, w-half_size, stride))\n",
    "        polygon_path = Path(adjusted_vertices[sec])\n",
    "        for x, y in np.c_[xs.flat, ys.flat]:\n",
    "            if np.all(polygon_path.contains_points([(x-half_size, y-half_size),(x+half_size, y-half_size),\n",
    "                                                    (x+half_size, y+half_size),(x-half_size, y+half_size)])):\n",
    "                patch = landmark_images[sec][y-half_size:y+half_size, x-half_size:x+half_size].copy()\n",
    "                patches.append(patch)\n",
    "        patches_allSections[sec] = patches\n",
    "\n",
    "#     np.save(os.environ['LABELING_DIR']+'/landmark_patches/'+label+'_patches.npy', patches_allSections)\n",
    "            \n",
    "    all_patches = [p for sec, patches in patches_allSections.iteritems() for p in patches]\n",
    "    print len(all_patches), 'patches'\n",
    "\n",
    "    # randomly visualize a few patches\n",
    "    nimgs = 20\n",
    "    ncol = 10\n",
    "    fig, axes = plt.subplots(int((nimgs-1)/ncol)+1, ncol, figsize=(30,5), squeeze=True)\n",
    "    axes = axes.flatten()\n",
    "\n",
    "    for i, patch_ind in enumerate(np.random.randint(0, len(all_patches), nimgs)):\n",
    "        axes[i].imshow(all_patches[patch_ind])\n",
    "        axes[i].axis('off')\n",
    "\n",
    "    if len(all_patches) <= 10000:\n",
    "        fewer_patches_arr = np.array([img_as_ubyte(p) for p in all_patches], np.uint8)\n",
    "    else:\n",
    "        fewer_patches = [all_patches[i] for i in np.random.choice(range(len(all_patches)), 10000, replace=False)]\n",
    "        fewer_patches_arr = np.array([img_as_ubyte(p) for p in fewer_patches], np.uint8)\n",
    "    # fewer_patches_arr = np.array(map(rgb2gray, fewer_patches), np.uint8)\n",
    "    \n",
    "    np.save(os.environ['LABELING_DIR']+'/landmark_patches/'+label+'_patches.npy', fewer_patches_arr)"
   ]
  },
  {
   "cell_type": "code",
   "execution_count": null,
   "metadata": {
    "collapsed": true
   },
   "outputs": [],
   "source": [
    "# filters = Filters(complevel=9, complib='blosc')\n",
    "# with open_file(os.environ['LABELING_DIR']+'/landmark_patches/'+label+'_patches.hdf', mode=\"w\") as f:\n",
    "#     _ = f.create_carray('/', 'data', Atom.from_dtype(fewer_patches_arr.dtype), filters=filters, obj=fewer_patches_arr)"
   ]
  },
  {
   "cell_type": "code",
   "execution_count": null,
   "metadata": {
    "collapsed": true
   },
   "outputs": [],
   "source": [
    "# data = np.load(os.environ['LABELING_DIR']+'/landmark_patches/'+label+'_patches.npy')\n",
    "\n",
    "# with open_file(os.environ['LABELING_DIR']+'/landmark_patches/'+label+'_patches.hdf', mode=\"r\") as f:\n",
    "#     data = f.get_node('/data').read()"
   ]
  }
 ],
 "metadata": {
  "kernelspec": {
   "display_name": "Python 2",
   "language": "python",
   "name": "python2"
  }
 },
 "nbformat": 4,
 "nbformat_minor": 0
}
