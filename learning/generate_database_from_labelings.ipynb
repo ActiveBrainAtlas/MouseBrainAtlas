{
 "cells": [
  {
   "cell_type": "code",
   "execution_count": 2,
   "metadata": {
    "collapsed": true
   },
   "outputs": [],
   "source": [
    "%reload_ext autoreload\n",
    "%autoreload 2\n",
    "\n",
    "import os\n",
    "import argparse\n",
    "import sys\n",
    "import time\n",
    "import cv2\n",
    "\n",
    "from joblib import Parallel, delayed\n",
    "\n",
    "sys.path.append(os.path.join(os.environ['GORDON_REPO_DIR'], 'utilities'))\n",
    "from utilities2015 import *\n",
    "\n",
    "from collections import defaultdict\n",
    "\n",
    "from enum import Enum\n",
    "\n",
    "class ProposalType(Enum):\n",
    "    GLOBAL = 'global'\n",
    "    LOCAL = 'local'\n",
    "    FREEFORM = 'freeform'\n",
    "    ALGORITHM = 'algorithm'\n",
    "    \n",
    "class PolygonType(Enum):\n",
    "    CLOSED = 'closed'\n",
    "    OPEN = 'open'\n",
    "    TEXTURE = 'textured'\n",
    "    TEXTURE_WITH_CONTOUR = 'texture with contour'\n",
    "    DIRECTION = 'directionality'\n",
    "    \n",
    "%matplotlib inline"
   ]
  },
  {
   "cell_type": "code",
   "execution_count": 3,
   "metadata": {
    "collapsed": false
   },
   "outputs": [],
   "source": [
    "dms = dict([(sc, DataManager(stack='MD594', section=sc, segm_params_id='tSLIC200', load_mask=False)) \n",
    "\t\t\tfor sc in range(47, 185)])"
   ]
  },
  {
   "cell_type": "code",
   "execution_count": 4,
   "metadata": {
    "collapsed": false
   },
   "outputs": [],
   "source": [
    "for dm in dms.itervalues():\n",
    "    dm.reload_labelings()"
   ]
  },
  {
   "cell_type": "code",
   "execution_count": 5,
   "metadata": {
    "collapsed": true
   },
   "outputs": [],
   "source": [
    "from matplotlib.path import Path\n",
    "from shapely.geometry import Polygon, Point"
   ]
  },
  {
   "cell_type": "code",
   "execution_count": 16,
   "metadata": {
    "collapsed": false
   },
   "outputs": [
    {
     "data": {
      "text/plain": [
       "{'label': 'EmGr',\n",
       " 'subtype': <PolygonType.CLOSED: 'closed'>,\n",
       " 'type': <ProposalType.FREEFORM: 'freeform'>,\n",
       " 'vertices': array([[ 6205.76018871,  1086.55773067],\n",
       "        [ 6174.15127773,  1060.21697152],\n",
       "        [ 6147.81051857,  1044.41251603],\n",
       "        [ 6103.03122801,  1015.43768096],\n",
       "        [ 5987.13188774,   965.39023857],\n",
       "        [ 6089.91236761,   850.56852897],\n",
       "        [ 6060.48762496,   884.24745129],\n",
       "        [ 6010.83857097,   833.6864428 ],\n",
       "        [ 5934.45036943,   825.78421505],\n",
       "        [ 5863.33031971,   844.22274646],\n",
       "        [ 5808.01472549,   841.58867054],\n",
       "        [ 5789.57619408,   791.54122815],\n",
       "        [ 5871.23254746,   802.07753181],\n",
       "        [ 5931.81629351,   765.200469  ],\n",
       "        [ 5971.32743224,   720.42117844],\n",
       "        [ 6024.00895055,   675.64188787],\n",
       "        [ 6055.61786154,   622.96036957],\n",
       "        [ 6089.86084844,   591.35145858],\n",
       "        [ 6160.98089815,   562.37662351],\n",
       "        [ 6258.44170702,   620.32629365],\n",
       "        [ 6266.34393477,   667.73966013],\n",
       "        [ 6255.80763111,   754.66416534],\n",
       "        [ 6276.88023843,   820.51606322],\n",
       "        [ 6261.07578294,   891.63611294],\n",
       "        [ 6240.00317561,   983.82876997],\n",
       "        [ 6237.3690997 ,  1054.94881969]])}"
      ]
     },
     "execution_count": 16,
     "metadata": {},
     "output_type": "execute_result"
    }
   ],
   "source": [
    "props"
   ]
  },
  {
   "cell_type": "code",
   "execution_count": 6,
   "metadata": {
    "collapsed": false,
    "scrolled": true
   },
   "outputs": [
    {
     "ename": "AssertionError",
     "evalue": "65: Pipeline result 'texHist.npy' does not exist, trying to find /oasis/projects/nsf/csd395/yuncong/CSHL_data_results/MD594/0065/MD594_0065_lossless_gabor-blueNisslWide-segm-tSLIC200-vq-blueNissl_texHist.npy",
     "output_type": "error",
     "traceback": [
      "\u001b[1;31m---------------------------------------------------------------------------\u001b[0m",
      "\u001b[1;31mAssertionError\u001b[0m                            Traceback (most recent call last)",
      "\u001b[1;32m<ipython-input-6-e08d650b9a29>\u001b[0m in \u001b[0;36m<module>\u001b[1;34m()\u001b[0m\n\u001b[0;32m      9\u001b[0m         \u001b[1;32mcontinue\u001b[0m\u001b[1;33m\u001b[0m\u001b[0m\n\u001b[0;32m     10\u001b[0m \u001b[1;33m\u001b[0m\u001b[0m\n\u001b[1;32m---> 11\u001b[1;33m     \u001b[0mdm\u001b[0m\u001b[1;33m.\u001b[0m\u001b[0mload_multiple_results\u001b[0m\u001b[1;33m(\u001b[0m\u001b[1;33m[\u001b[0m\u001b[1;34m'texHist'\u001b[0m\u001b[1;33m,\u001b[0m \u001b[1;34m'spCentroids'\u001b[0m\u001b[1;33m,\u001b[0m \u001b[1;34m'edgeMidpoints'\u001b[0m\u001b[1;33m,\u001b[0m \u001b[1;34m'edgeEndpoints'\u001b[0m\u001b[1;33m]\u001b[0m\u001b[1;33m)\u001b[0m\u001b[1;33m\u001b[0m\u001b[0m\n\u001b[0m\u001b[0;32m     12\u001b[0m \u001b[1;33m\u001b[0m\u001b[0m\n\u001b[0;32m     13\u001b[0m     \u001b[0musr\u001b[0m\u001b[1;33m,\u001b[0m \u001b[0mts\u001b[0m\u001b[1;33m,\u001b[0m \u001b[0msuffix\u001b[0m\u001b[1;33m,\u001b[0m \u001b[0mresult\u001b[0m \u001b[1;33m=\u001b[0m \u001b[0mres\u001b[0m\u001b[1;33m\u001b[0m\u001b[0m\n",
      "\u001b[1;32m/oasis/projects/nsf/csd395/yuncong/Brain/utilities/utilities2015.pyc\u001b[0m in \u001b[0;36mload_multiple_results\u001b[1;34m(self, results, download_if_not_exist)\u001b[0m\n\u001b[0;32m    392\u001b[0m         \u001b[1;32mif\u001b[0m \u001b[1;34m'texHist'\u001b[0m \u001b[1;32min\u001b[0m \u001b[0mresults\u001b[0m \u001b[1;32mand\u001b[0m \u001b[1;32mnot\u001b[0m \u001b[0mhasattr\u001b[0m\u001b[1;33m(\u001b[0m\u001b[0mself\u001b[0m\u001b[1;33m,\u001b[0m \u001b[1;34m'texton_hists'\u001b[0m\u001b[1;33m)\u001b[0m\u001b[1;33m:\u001b[0m\u001b[1;33m\u001b[0m\u001b[0m\n\u001b[0;32m    393\u001b[0m \u001b[1;33m\u001b[0m\u001b[0m\n\u001b[1;32m--> 394\u001b[1;33m             \u001b[0mself\u001b[0m\u001b[1;33m.\u001b[0m\u001b[0mtexton_hists\u001b[0m \u001b[1;33m=\u001b[0m \u001b[0mself\u001b[0m\u001b[1;33m.\u001b[0m\u001b[0mload_pipeline_result\u001b[0m\u001b[1;33m(\u001b[0m\u001b[1;34m'texHist'\u001b[0m\u001b[1;33m)\u001b[0m\u001b[1;33m\u001b[0m\u001b[0m\n\u001b[0m\u001b[0;32m    395\u001b[0m \u001b[1;33m\u001b[0m\u001b[0m\n\u001b[0;32m    396\u001b[0m         \u001b[1;32mif\u001b[0m \u001b[1;34m'segmentation'\u001b[0m \u001b[1;32min\u001b[0m \u001b[0mresults\u001b[0m \u001b[1;32mand\u001b[0m \u001b[1;32mnot\u001b[0m \u001b[0mhasattr\u001b[0m\u001b[1;33m(\u001b[0m\u001b[0mself\u001b[0m\u001b[1;33m,\u001b[0m \u001b[1;34m'segmentation'\u001b[0m\u001b[1;33m)\u001b[0m\u001b[1;33m:\u001b[0m\u001b[1;33m\u001b[0m\u001b[0m\n",
      "\u001b[1;32m/oasis/projects/nsf/csd395/yuncong/Brain/utilities/utilities2015.pyc\u001b[0m in \u001b[0;36mload_pipeline_result\u001b[1;34m(self, result_name, is_rgb, section)\u001b[0m\n\u001b[0;32m   1227\u001b[0m \u001b[1;33m\u001b[0m\u001b[0m\n\u001b[0;32m   1228\u001b[0m         \u001b[1;32mif\u001b[0m \u001b[0mext\u001b[0m \u001b[1;33m==\u001b[0m \u001b[1;34m'npy'\u001b[0m\u001b[1;33m:\u001b[0m\u001b[1;33m\u001b[0m\u001b[0m\n\u001b[1;32m-> 1229\u001b[1;33m             \u001b[1;32massert\u001b[0m \u001b[0mos\u001b[0m\u001b[1;33m.\u001b[0m\u001b[0mpath\u001b[0m\u001b[1;33m.\u001b[0m\u001b[0mexists\u001b[0m\u001b[1;33m(\u001b[0m\u001b[0mresult_filename\u001b[0m\u001b[1;33m)\u001b[0m\u001b[1;33m,\u001b[0m \u001b[1;34m\"%d: Pipeline result '%s' does not exist, trying to find %s\"\u001b[0m \u001b[1;33m%\u001b[0m \u001b[1;33m(\u001b[0m\u001b[0mself\u001b[0m\u001b[1;33m.\u001b[0m\u001b[0mslice_ind\u001b[0m\u001b[1;33m,\u001b[0m \u001b[0mresult_name\u001b[0m \u001b[1;33m+\u001b[0m \u001b[1;34m'.'\u001b[0m \u001b[1;33m+\u001b[0m \u001b[0mext\u001b[0m\u001b[1;33m,\u001b[0m \u001b[0mresult_filename\u001b[0m\u001b[1;33m)\u001b[0m\u001b[1;33m\u001b[0m\u001b[0m\n\u001b[0m\u001b[0;32m   1230\u001b[0m             \u001b[0mdata\u001b[0m \u001b[1;33m=\u001b[0m \u001b[0mnp\u001b[0m\u001b[1;33m.\u001b[0m\u001b[0mload\u001b[0m\u001b[1;33m(\u001b[0m\u001b[0mresult_filename\u001b[0m\u001b[1;33m)\u001b[0m\u001b[1;33m\u001b[0m\u001b[0m\n\u001b[0;32m   1231\u001b[0m         \u001b[1;32melif\u001b[0m \u001b[0mext\u001b[0m \u001b[1;33m==\u001b[0m \u001b[1;34m'tif'\u001b[0m \u001b[1;32mor\u001b[0m \u001b[0mext\u001b[0m \u001b[1;33m==\u001b[0m \u001b[1;34m'png'\u001b[0m \u001b[1;32mor\u001b[0m \u001b[0mext\u001b[0m \u001b[1;33m==\u001b[0m \u001b[1;34m'jpg'\u001b[0m\u001b[1;33m:\u001b[0m\u001b[1;33m\u001b[0m\u001b[0m\n",
      "\u001b[1;31mAssertionError\u001b[0m: 65: Pipeline result 'texHist.npy' does not exist, trying to find /oasis/projects/nsf/csd395/yuncong/CSHL_data_results/MD594/0065/MD594_0065_lossless_gabor-blueNisslWide-segm-tSLIC200-vq-blueNissl_texHist.npy"
     ]
    }
   ],
   "source": [
    "label_examples = defaultdict(list) # cluster, dedges, sig, stack, sec, proposal_type, labeling username, timestamp\n",
    "\n",
    "for sec, dm in dms.iteritems():\n",
    "    \n",
    "    res = dm.load_proposal_review_result('yuncong', 'latest', 'consolidated')\n",
    "#     res = dm.load_proposal_review_result('HJK', 'latest', 'consolidated')\n",
    "    \n",
    "    if res is None:\n",
    "        continue\n",
    "    \n",
    "    dm.load_multiple_results(['texHist', 'spCentroids', 'edgeMidpoints', 'edgeEndpoints'])\n",
    "        \n",
    "    usr, ts, suffix, result = res\n",
    "    \n",
    "    for props in result:\n",
    "#         if props['type'] == ProposalType.FREEFORM:\n",
    "#             pg = Polygon(props['vertices'])\n",
    "#             cl = np.where([pg.contains(Point(x,y)) for y,x in dm.sp_centroids])[0]\n",
    "        pp = Path(props['vertices'])\n",
    "        cl = np.where([pp.contains_point((x,y)) for y,x in dm.sp_centroids])[0]\n",
    "        if len(cl) == 0:\n",
    "            continue\n",
    "\n",
    "        de = dm.find_boundary_dedges_ordered(cl)\n",
    "        sig = dm.compute_cluster_score(cl, method='rc-mean')[0]\n",
    "        label_examples[props['label']].append((cl, de, sig, dm.stack, dm.slice_ind, \n",
    "                                               ProposalType.FREEFORM, usr, ts))            \n",
    "#         else:\n",
    "#             label_examples[props['label']].append((props['sps'], props['dedges'], props['sig'], \n",
    "#                                       dm.stack, dm.slice_ind, props['type'], usr, ts))\n",
    "\n",
    "label_examples.default_factory = None"
   ]
  },
  {
   "cell_type": "code",
   "execution_count": 20,
   "metadata": {
    "collapsed": false
   },
   "outputs": [],
   "source": [
    "label_texture = {}\n",
    "\n",
    "for label, proposals in label_examples.iteritems():\n",
    "    w = []\n",
    "    for prop in proposals:\n",
    "        cluster, dedges, sig, stack, sec, proposal_type, username, timestamp = prop\n",
    "        w.append(dms[sec].texton_hists[cluster].mean(axis=0))\n",
    "        \n",
    "    label_texture[label] = np.mean(w, axis=0)"
   ]
  },
  {
   "cell_type": "code",
   "execution_count": 21,
   "metadata": {
    "collapsed": true
   },
   "outputs": [],
   "source": [
    "def fit_ellipse_to_points(pts):\n",
    "\n",
    "    pts = np.array(list(pts) if isinstance(pts, set) else pts)\n",
    "\n",
    "    c0 = pts.mean(axis=0)\n",
    "\n",
    "    coords0 = pts - c0\n",
    "\n",
    "    U,S,V = np.linalg.svd(np.dot(coords0.T, coords0)/coords0.shape[0])\n",
    "    v1 = U[:,0]\n",
    "    v2 = U[:,1]\n",
    "    s1 = np.sqrt(S[0])\n",
    "    s2 = np.sqrt(S[1])\n",
    "\n",
    "    return v1, v2, s1, s2, c0"
   ]
  },
  {
   "cell_type": "code",
   "execution_count": null,
   "metadata": {
    "collapsed": false
   },
   "outputs": [],
   "source": [
    "# label_position = {}\n",
    "\n",
    "# for label, proposals in label_examples.iteritems():\n",
    "#     all_pts = []\n",
    "#     for prop in proposals:\n",
    "#         cluster, dedges, sig, stack, sec, proposal_type, username, timestamp = prop\n",
    "#         pts = np.vstack([ dms[sec].sp_coords[sp][:, ::-1] for sp in cluster])\n",
    "#         all_pts.append(pts)\n",
    "        \n",
    "#     all_pts = np.vstack(all_pts)\n",
    "    \n",
    "#     ell = fit_ellipse_to_points(all_pts)\n",
    "    \n",
    "#     label_position[label] = ell"
   ]
  },
  {
   "cell_type": "code",
   "execution_count": 22,
   "metadata": {
    "collapsed": true
   },
   "outputs": [],
   "source": [
    "label_position = defaultdict(lambda: {})\n",
    "\n",
    "for label, proposals in label_examples.iteritems():\n",
    "\n",
    "    for prop in proposals:\n",
    "        cluster, dedges, sig, stack, sec, proposal_type, username, timestamp = prop\n",
    "        \n",
    "#         dms[sec].load_multiple_results(['spCoords'])\n",
    "#         pts = np.vstack([ dms[sec].sp_coords[sp][:, ::-1] for sp in cluster])\n",
    "        \n",
    "        ell = fit_ellipse_to_points(dms[sec].sp_centroids[cluster][:,::-1])\n",
    "        label_position[label][sec] = ell\n",
    "        \n",
    "label_position.default_factory=None"
   ]
  },
  {
   "cell_type": "code",
   "execution_count": 23,
   "metadata": {
    "collapsed": false
   },
   "outputs": [
    {
     "data": {
      "text/plain": [
       "['VIntpolaris',\n",
       " 'PrVv',\n",
       " 'udff',\n",
       " 'BC',\n",
       " 'VOrp',\n",
       " 'DC',\n",
       " 'PrVd',\n",
       " 'EmGr',\n",
       " 'VMu',\n",
       " 'VIpp']"
      ]
     },
     "execution_count": 23,
     "metadata": {},
     "output_type": "execute_result"
    }
   ],
   "source": [
    "label_position.keys()"
   ]
  },
  {
   "cell_type": "code",
   "execution_count": 24,
   "metadata": {
    "collapsed": false
   },
   "outputs": [],
   "source": [
    "label_polygon = defaultdict(lambda: {})\n",
    "\n",
    "for label, proposals in label_examples.iteritems():\n",
    "\n",
    "    for prop in proposals:\n",
    "        cluster, dedges, sig, stack, sec, proposal_type, username, timestamp = prop\n",
    "        vs = dms[sec].vertices_from_dedges(dedges)\n",
    "        polygon = Polygon(vs)\n",
    "        label_polygon[label][sec] = polygon\n",
    "        \n",
    "#         pts = np.vstack([ dms[sec].sp_coords[sp][:, ::-1] for sp in cluster])\n",
    "#         label_coords[label][sec] = pts\n",
    "\n",
    "label_polygon.default_factory=None"
   ]
  },
  {
   "cell_type": "code",
   "execution_count": 25,
   "metadata": {
    "collapsed": false
   },
   "outputs": [],
   "source": [
    "pickle.dump(label_examples, open(os.environ['GORDON_RESULT_DIR']+'/database/label_examples.pkl', 'w'))\n",
    "pickle.dump(label_position, open(os.environ['GORDON_RESULT_DIR']+'/database/label_position.pkl', 'w'))\n",
    "pickle.dump(label_polygon, open(os.environ['GORDON_RESULT_DIR']+'/database/label_polygon.pkl', 'w'))\n",
    "pickle.dump(label_texture, open(os.environ['GORDON_RESULT_DIR']+'/database/label_texture.pkl', 'w'))"
   ]
  },
  {
   "cell_type": "code",
   "execution_count": null,
   "metadata": {
    "collapsed": true
   },
   "outputs": [],
   "source": []
  }
 ],
 "metadata": {
  "kernelspec": {
   "display_name": "Python 2",
   "language": "python",
   "name": "python2"
  },
  "language_info": {
   "codemirror_mode": {
    "name": "ipython",
    "version": 2
   },
   "file_extension": ".py",
   "mimetype": "text/x-python",
   "name": "python",
   "nbconvert_exporter": "python",
   "pygments_lexer": "ipython2",
   "version": "2.7.3"
  }
 },
 "nbformat": 4,
 "nbformat_minor": 0
}
