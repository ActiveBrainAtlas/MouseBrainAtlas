{
 "cells": [
  {
   "cell_type": "code",
   "execution_count": 1,
   "metadata": {
    "collapsed": true
   },
   "outputs": [],
   "source": [
    "%reload_ext autoreload\n",
    "%autoreload 2\n",
    "\n",
    "import os\n",
    "import argparse\n",
    "import sys\n",
    "import time\n",
    "import cv2\n",
    "\n",
    "from joblib import Parallel, delayed\n",
    "\n",
    "sys.path.append(os.path.join(os.environ['GORDON_REPO_DIR'], 'utilities'))\n",
    "from utilities2015 import *\n",
    "\n",
    "from collections import defaultdict\n",
    "\n",
    "from enum import Enum\n",
    "\n",
    "class ProposalType(Enum):\n",
    "    GLOBAL = 'global'\n",
    "    LOCAL = 'local'\n",
    "    FREEFORM = 'freeform'\n",
    "    \n",
    "class PolygonType(Enum):\n",
    "    CLOSED = 'closed'\n",
    "    OPEN = 'open'\n",
    "    TEXTURE = 'textured'\n",
    "    TEXTURE_WITH_CONTOUR = 'texture with contour'\n",
    "    DIRECTION = 'directionality'\n",
    "    \n",
    "from matplotlib.path import Path\n",
    "%matplotlib inline"
   ]
  },
  {
   "cell_type": "code",
   "execution_count": 3,
   "metadata": {
    "collapsed": false
   },
   "outputs": [],
   "source": [
    "dms = dict([(sc, DataManager(stack='MD593', section=sc, segm_params_id='tSLIC200', load_mask=False)) \n",
    "            for sc in range(60, 151)])"
   ]
  },
  {
   "cell_type": "code",
   "execution_count": 4,
   "metadata": {
    "collapsed": false
   },
   "outputs": [],
   "source": [
    "for dm in dms.itervalues():\n",
    "    dm.load_multiple_results(['texHist', 'spCentroids', 'edgeMidpoints', 'edgeEndpoints'])"
   ]
  },
  {
   "cell_type": "code",
   "execution_count": 5,
   "metadata": {
    "collapsed": false
   },
   "outputs": [],
   "source": [
    "label_examples = defaultdict(list) # cluster, dedges, sig, stack, sec, proposal_type, labeling username, timestamp\n",
    "\n",
    "for sec, dm in dms.iteritems():\n",
    "    \n",
    "    results = dm.load_proposal_review_result('yuncong', 'latest', 'all')\n",
    "    \n",
    "    if len(results) == 0:\n",
    "        continue\n",
    "    \n",
    "    for usr, ts, suf, res in results:\n",
    "\n",
    "        global_proposals = dm.load_pipeline_result('proposals')\n",
    "        local_proposals = dm.load_pipeline_result('allSeedClusterScoreDedgeTuples')\n",
    "\n",
    "        if suf == 'globalProposalReviewResult':\n",
    "            for i, (label, accepted) in enumerate(zip(*res)): \n",
    "                if accepted == 1:\n",
    "                    cl, de, sig = global_proposals[i]\n",
    "                    label_examples[label].append((cl, de, sig, dm.stack, dm.slice_ind, ProposalType.GLOBAL, usr, ts))\n",
    "\n",
    "        if suf == 'localProposalReviewResult':\n",
    "            for i, (label, accepted) in enumerate(zip(*res)): \n",
    "                if accepted == 1:\n",
    "                    se, cl, sig, de = local_proposals[i]\n",
    "                    label_examples[label].append((cl,de,sig, dm.stack, dm.slice_ind, ProposalType.LOCAL, usr, ts))\n",
    "\n",
    "        if suf == 'freeformProposals':\n",
    "\n",
    "\n",
    "            for label, typed_polygons in res.iteritems(): \n",
    "                for poly_type, vertices in typed_polygons:\n",
    "                    pp = Path(vertices)\n",
    "                    cl = np.where([pp.contains_point(s) for s in dm.sp_centroids[:, ::-1]])[0]\n",
    "                    de = dm.find_boundary_dedges_ordered(cl)\n",
    "                    sig = dm.compute_cluster_score(cl, method='rc-mean')[0]\n",
    "                    \n",
    "                    label_examples[label].append((cl, de, sig, dm.stack, dm.slice_ind, ProposalType.FREEFORM, usr, ts))\n",
    "\n",
    "label_examples.default_factory = None"
   ]
  },
  {
   "cell_type": "code",
   "execution_count": 6,
   "metadata": {
    "collapsed": false
   },
   "outputs": [
    {
     "data": {
      "text/plain": [
       "['spinal nerve',\n",
       " 'pontine',\n",
       " 'facial motor nerve',\n",
       " 'lateral reticular nucleus',\n",
       " 'nucleus ambuggus',\n",
       " 'facial motor nucleus']"
      ]
     },
     "execution_count": 6,
     "metadata": {},
     "output_type": "execute_result"
    }
   ],
   "source": [
    "label_examples.keys()"
   ]
  },
  {
   "cell_type": "code",
   "execution_count": 7,
   "metadata": {
    "collapsed": false
   },
   "outputs": [],
   "source": [
    "label_texture = {}\n",
    "\n",
    "for label, proposals in label_examples.iteritems():\n",
    "    w = []\n",
    "    for prop in proposals:\n",
    "        cluster, dedges, sig, stack, sec, proposal_type, username, timestamp = prop\n",
    "        w.append(dms[sec].texton_hists[cluster].mean(axis=0))\n",
    "        \n",
    "    label_texture[label] = np.mean(w, axis=0)"
   ]
  },
  {
   "cell_type": "code",
   "execution_count": 8,
   "metadata": {
    "collapsed": true
   },
   "outputs": [],
   "source": [
    "def fit_ellipse_to_points(pts):\n",
    "\n",
    "    pts = np.array(list(pts) if isinstance(pts, set) else pts)\n",
    "\n",
    "    c0 = pts.mean(axis=0)\n",
    "\n",
    "    coords0 = pts - c0\n",
    "\n",
    "    U,S,V = np.linalg.svd(np.dot(coords0.T, coords0)/coords0.shape[0])\n",
    "    v1 = U[:,0]\n",
    "    v2 = U[:,1]\n",
    "    s1 = np.sqrt(S[0])\n",
    "    s2 = np.sqrt(S[1])\n",
    "\n",
    "    return v1, v2, s1, s2, c0"
   ]
  },
  {
   "cell_type": "code",
   "execution_count": null,
   "metadata": {
    "collapsed": false
   },
   "outputs": [],
   "source": [
    "# label_position = {}\n",
    "\n",
    "# for label, proposals in label_examples.iteritems():\n",
    "#     all_pts = []\n",
    "#     for prop in proposals:\n",
    "#         cluster, dedges, sig, stack, sec, proposal_type, username, timestamp = prop\n",
    "#         pts = np.vstack([ dms[sec].sp_coords[sp][:, ::-1] for sp in cluster])\n",
    "#         all_pts.append(pts)\n",
    "        \n",
    "#     all_pts = np.vstack(all_pts)\n",
    "    \n",
    "#     ell = fit_ellipse_to_points(all_pts)\n",
    "    \n",
    "#     label_position[label] = ell"
   ]
  },
  {
   "cell_type": "code",
   "execution_count": 9,
   "metadata": {
    "collapsed": true
   },
   "outputs": [],
   "source": [
    "label_position = defaultdict(lambda: {})\n",
    "\n",
    "for label, proposals in label_examples.iteritems():\n",
    "\n",
    "    for prop in proposals:\n",
    "        cluster, dedges, sig, stack, sec, proposal_type, username, timestamp = prop\n",
    "        \n",
    "        dms[sec].load_multiple_results(['spCoords'])\n",
    "        \n",
    "        pts = np.vstack([ dms[sec].sp_coords[sp][:, ::-1] for sp in cluster])\n",
    "        ell = fit_ellipse_to_points(pts)\n",
    "        label_position[label][sec] = ell\n",
    "        \n",
    "label_position.default_factory=None"
   ]
  },
  {
   "cell_type": "code",
   "execution_count": 10,
   "metadata": {
    "collapsed": false
   },
   "outputs": [
    {
     "data": {
      "text/plain": [
       "{135: (array([-0.41929907, -0.90784816]),\n",
       "  array([-0.90784816,  0.41929907]),\n",
       "  309.44362804375578,\n",
       "  142.4915779486322,\n",
       "  array([ 2010.68032119,  5401.04844145])),\n",
       " 136: (array([-0.43456888, -0.9006386 ]),\n",
       "  array([-0.9006386 ,  0.43456888]),\n",
       "  282.16509208085409,\n",
       "  114.96831207450401,\n",
       "  array([ 1972.24087338,  5346.35578873])),\n",
       " 137: (array([ 0.40027477,  0.91639517]),\n",
       "  array([ 0.91639517, -0.40027477]),\n",
       "  254.71360173433311,\n",
       "  117.40960090041217,\n",
       "  array([ 1947.6710254 ,  5261.16708957]))}"
      ]
     },
     "execution_count": 10,
     "metadata": {},
     "output_type": "execute_result"
    }
   ],
   "source": [
    "label_position['pontine']"
   ]
  },
  {
   "cell_type": "code",
   "execution_count": 11,
   "metadata": {
    "collapsed": false,
    "scrolled": true
   },
   "outputs": [],
   "source": [
    "from shapely.geometry import Polygon"
   ]
  },
  {
   "cell_type": "code",
   "execution_count": 12,
   "metadata": {
    "collapsed": true
   },
   "outputs": [],
   "source": [
    "def vertices_from_dedges(sec, dedges):\n",
    "\n",
    "    vertices = []\n",
    "    for de_ind, de in enumerate(dedges):\n",
    "        midpt = dms[sec].edge_midpoints[frozenset(de)]\n",
    "        endpts = dms[sec].edge_endpoints[frozenset(de)]\n",
    "        endpts_next_dedge = dms[sec].edge_endpoints[frozenset(dedges[(de_ind+1)%len(dedges)])]\n",
    "\n",
    "        dij = cdist([endpts[0], endpts[-1]], [endpts_next_dedge[0], endpts_next_dedge[-1]])\n",
    "        i,j = np.unravel_index(np.argmin(dij), (2,2))\n",
    "        if i == 0:\n",
    "            vertices += [endpts[-1], midpt, endpts[0]]\n",
    "        else:\n",
    "            vertices += [endpts[0], midpt, endpts[-1]]\n",
    "        \n",
    "    return vertices\n"
   ]
  },
  {
   "cell_type": "code",
   "execution_count": 33,
   "metadata": {
    "collapsed": false
   },
   "outputs": [],
   "source": [
    "label_polygon = defaultdict(lambda: {})\n",
    "\n",
    "for label, proposals in label_examples.iteritems():\n",
    "\n",
    "    for prop in proposals:\n",
    "        cluster, dedges, sig, stack, sec, proposal_type, username, timestamp = prop\n",
    "        vs = vertices_from_dedges(sec, dedges)\n",
    "        polygon = Polygon(vs)\n",
    "        label_polygon[label][sec] = polygon\n",
    "        \n",
    "#         pts = np.vstack([ dms[sec].sp_coords[sp][:, ::-1] for sp in cluster])\n",
    "#         label_coords[label][sec] = pts\n",
    "\n",
    "label_polygon.default_factory=None"
   ]
  },
  {
   "cell_type": "code",
   "execution_count": null,
   "metadata": {
    "collapsed": true
   },
   "outputs": [],
   "source": [
    "atlas = img_as_ubyte(dms[139].image_rgb_jpg)\n",
    "for label, (v1,v2,s1,s2,c0) in label_position.iteritems():\n",
    "    angle = np.rad2deg(np.arctan2(v1[1], v1[0]))\n",
    "    cv2.ellipse(atlas, tuple(c0.astype(np.int)), (int(2*1.5*s1), int(2*1.5*s2)), int(angle), 0, 360, (0,255,0), 10)\n",
    "display(atlas)"
   ]
  },
  {
   "cell_type": "code",
   "execution_count": 35,
   "metadata": {
    "collapsed": false
   },
   "outputs": [],
   "source": [
    "pickle.dump(label_examples, open(os.environ['GORDON_RESULT_DIR']+'/database/label_examples.pkl', 'w'))\n",
    "pickle.dump(label_position, open(os.environ['GORDON_RESULT_DIR']+'/database/label_position.pkl', 'w'))\n",
    "pickle.dump(label_polygon, open(os.environ['GORDON_RESULT_DIR']+'/database/label_polygon.pkl', 'w'))\n",
    "pickle.dump(label_texture, open(os.environ['GORDON_RESULT_DIR']+'/database/label_texture.pkl', 'w'))"
   ]
  }
 ],
 "metadata": {
  "kernelspec": {
   "display_name": "Python 2",
   "language": "python",
   "name": "python2"
  },
  "language_info": {
   "codemirror_mode": {
    "name": "ipython",
    "version": 2
   },
   "file_extension": ".py",
   "mimetype": "text/x-python",
   "name": "python",
   "nbconvert_exporter": "python",
   "pygments_lexer": "ipython2",
   "version": "2.7.3"
  }
 },
 "nbformat": 4,
 "nbformat_minor": 0
}
