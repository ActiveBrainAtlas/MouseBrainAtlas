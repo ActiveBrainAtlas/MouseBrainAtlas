{
 "cells": [
  {
   "cell_type": "code",
   "execution_count": null,
   "metadata": {
    "collapsed": true
   },
   "outputs": [],
   "source": [
    "%load_ext autoreload\n",
    "%autoreload 2"
   ]
  },
  {
   "cell_type": "code",
   "execution_count": null,
   "metadata": {
    "collapsed": true
   },
   "outputs": [],
   "source": [
    "import os\n",
    "import logging\n",
    "import numpy as np\n",
    "import socket\n",
    "hostname = socket.gethostname()\n",
    "\n",
    "import sys\n",
    "import mxnet as mx"
   ]
  },
  {
   "cell_type": "code",
   "execution_count": null,
   "metadata": {
    "collapsed": true
   },
   "outputs": [],
   "source": [
    "labels = ['5N', '7n', '7N', '12N', 'Gr', 'LVe', 'Pn', 'SuVe', 'VLL' , 'BackG']\n",
    "label_dict = dict([(l,i) for i, l in enumerate(labels)])"
   ]
  },
  {
   "cell_type": "code",
   "execution_count": null,
   "metadata": {
    "collapsed": true
   },
   "outputs": [],
   "source": [
    "logging.basicConfig(level=logging.DEBUG)\n",
    "\n",
    "stack = 'MD589'\n",
    "sec = 195\n",
    "\n",
    "if hostname.startswith('gcn'):\n",
    "    data_dir = '/oasis/projects/nsf/csd395/yuncong/CSHL_data_patches/%s_byLandmark'%(stack)\n",
    "    model_dir = '/oasis/projects/nsf/csd395/yuncong/jiaxu_repo/model_publish'\n",
    "elif hostname == 'yuncong-MacbookPro':\n",
    "    data_dir = '/home/yuncong/CSHL_data_patches/%s_byLandmark'%(stack)\n",
    "    model_dir = '/home/yuncong/inception_model' \n",
    "    init_model_dir = '/home/yuncong/jiaxu_repo/model_publish'"
   ]
  },
  {
   "cell_type": "code",
   "execution_count": null,
   "metadata": {
    "collapsed": true
   },
   "outputs": [],
   "source": [
    "dataset = '%s'%(stack)"
   ]
  },
  {
   "cell_type": "code",
   "execution_count": null,
   "metadata": {
    "collapsed": true
   },
   "outputs": [],
   "source": [
    "import random"
   ]
  },
  {
   "cell_type": "code",
   "execution_count": null,
   "metadata": {
    "collapsed": false
   },
   "outputs": [],
   "source": [
    "all_image_names = []\n",
    "for label in os.listdir(data_dir):\n",
    "    if label == 'BackG':\n",
    "        # limit the number of BackG examples\n",
    "        for img_filename in os.listdir(data_dir + '/' + label)[:300]:\n",
    "            all_image_names.append((label_dict[label], label + '/' + img_filename))\n",
    "    else:            \n",
    "        for img_filename in os.listdir(data_dir + '/' + label):\n",
    "            all_image_names.append((label_dict[label], label + '/' + img_filename))\n",
    "        \n",
    "random.shuffle(all_image_names)\n",
    "n = len(all_image_names)"
   ]
  },
  {
   "cell_type": "code",
   "execution_count": null,
   "metadata": {
    "collapsed": false
   },
   "outputs": [],
   "source": [
    "with open('/home/yuncong/CSHL_data_patches/%s_train.lst'%(dataset), 'w') as lst_file:\n",
    "    for index, (l, fn) in enumerate(all_image_names[:n/2]):\n",
    "        lst_file.write('%s\\t%d\\t%s\\n'%(index, l, fn))\n",
    "        \n",
    "with open('/home/yuncong/CSHL_data_patches/%s_eval.lst'%(dataset), 'w') as lst_file:\n",
    "    for index, (l, fn)  in enumerate(all_image_names[n/2:n*3/4]):\n",
    "        lst_file.write('%s\\t%d\\t%s\\n'%(index, l, fn))\n",
    "        \n",
    "with open('/home/yuncong/CSHL_data_patches/%s_test.lst'%(dataset), 'w') as lst_file:\n",
    "    for index, (l, fn)  in enumerate(all_image_names[n/2:n*3/4]):\n",
    "        lst_file.write('%s\\t%d\\t%s\\n'%(index, l, fn))"
   ]
  },
  {
   "cell_type": "code",
   "execution_count": null,
   "metadata": {
    "collapsed": false
   },
   "outputs": [],
   "source": [
    "os.system(os.environ['MXNET_DIR']+'/bin/im2rec /home/yuncong/CSHL_data_patches/%(dataset)s_train.lst \\\n",
    "%(data_dir)s/ \\\n",
    "/home/yuncong/CSHL_data_patches/%(dataset)s_train.rec' % \\\n",
    "          {'dataset': dataset,\n",
    "          'data_dir': data_dir})"
   ]
  },
  {
   "cell_type": "code",
   "execution_count": null,
   "metadata": {
    "collapsed": false
   },
   "outputs": [],
   "source": [
    "os.system(os.environ['MXNET_DIR']+'/bin/im2rec /home/yuncong/CSHL_data_patches/%(dataset)s_eval.lst \\\n",
    "%(data_dir)s/ \\\n",
    "/home/yuncong/CSHL_data_patches/%(dataset)s_eval.rec' % \\\n",
    "          {'dataset': dataset,\n",
    "          'data_dir': data_dir})\n",
    "\n",
    "# on mbp, scanning 1000 images take 1.8s\n",
    "# on gordon, scanning 16 image, 0.06s"
   ]
  },
  {
   "cell_type": "code",
   "execution_count": null,
   "metadata": {
    "collapsed": false
   },
   "outputs": [],
   "source": [
    "os.system(os.environ['MXNET_DIR']+'/bin/im2rec /home/yuncong/CSHL_data_patches/%(dataset)s_test.lst \\\n",
    "%(data_dir)s/ \\\n",
    "/home/yuncong/CSHL_data_patches/%(dataset)s_test.rec' % \\\n",
    "          {'dataset': dataset,\n",
    "          'data_dir': data_dir})"
   ]
  },
  {
   "cell_type": "code",
   "execution_count": null,
   "metadata": {
    "collapsed": true
   },
   "outputs": [],
   "source": []
  },
  {
   "cell_type": "code",
   "execution_count": null,
   "metadata": {
    "collapsed": true
   },
   "outputs": [],
   "source": [
    "batch_size = 16"
   ]
  },
  {
   "cell_type": "code",
   "execution_count": null,
   "metadata": {
    "collapsed": false
   },
   "outputs": [],
   "source": [
    "train_iter = mx.io.ImageRecordIter(\n",
    "    path_imgrec='/home/yuncong/CSHL_data_patches/%(dataset)s_train.rec' % {'dataset': dataset},\n",
    "    batch_size=batch_size,\n",
    "    data_shape=(3, 224, 224),\n",
    "    mean_img=os.path.join(model_dir, 'mean_224.nd'),\n",
    ")\n",
    "\n",
    "eval_iter = mx.io.ImageRecordIter(\n",
    "    path_imgrec='/home/yuncong/CSHL_data_patches/%(dataset)s_eval.rec' % {'dataset': dataset},\n",
    "    batch_size=batch_size,\n",
    "    data_shape=(3, 224, 224),\n",
    "    mean_img=os.path.join(model_dir, 'mean_224.nd'),\n",
    ")\n",
    "\n",
    "test_iter = mx.io.ImageRecordIter(\n",
    "    path_imgrec='/home/yuncong/CSHL_data_patches/%(dataset)s_test.rec' % {'dataset': dataset},\n",
    "    batch_size=batch_size,\n",
    "    data_shape=(3, 224, 224),\n",
    "    mean_img=os.path.join(model_dir, 'mean_224.nd'),\n",
    ")"
   ]
  },
  {
   "cell_type": "code",
   "execution_count": null,
   "metadata": {
    "collapsed": false
   },
   "outputs": [],
   "source": [
    "n_iter = 6\n",
    "n_class = 10\n",
    "prefix = 'inception-stage1'\n",
    "\n",
    "init_model = mx.model.FeedForward.load(os.path.join(init_model_dir, prefix), n_iter, ctx=mx.gpu())\n",
    "internals = init_model.symbol.get_internals()\n",
    "symbol = internals['flatten_output']\n",
    "symbol = mx.symbol.FullyConnected(data=symbol, name='fullc', num_hidden=n_class)\n",
    "symbol = mx.symbol.SoftmaxOutput(data=symbol, name='softmax')"
   ]
  },
  {
   "cell_type": "code",
   "execution_count": null,
   "metadata": {
    "collapsed": true
   },
   "outputs": [],
   "source": [
    "n_epoch = 10\n",
    "l_rate = 0.001\n",
    "checkpoint_prefix = os.path.join(model_dir, 'inception-stage1')"
   ]
  },
  {
   "cell_type": "code",
   "execution_count": null,
   "metadata": {
    "collapsed": true
   },
   "outputs": [],
   "source": [
    "opt = mx.optimizer.SGD(learning_rate=l_rate)\n",
    "net = mx.model.FeedForward(ctx=mx.gpu(), symbol=symbol, num_epoch=n_epoch, optimizer=opt,\n",
    "                                arg_params=init_model.arg_params, aux_params=init_model.aux_params,\n",
    "                                allow_extra_params=True)"
   ]
  },
  {
   "cell_type": "code",
   "execution_count": null,
   "metadata": {
    "collapsed": false
   },
   "outputs": [],
   "source": [
    "net.fit(train_iter, eval_data=eval_iter,\n",
    "        batch_end_callback=mx.callback.Speedometer(batch_size, 30),\n",
    "        epoch_end_callback=mx.callback.do_checkpoint(checkpoint_prefix))\n",
    "\n",
    "net.save(checkpoint_prefix)"
   ]
  },
  {
   "cell_type": "code",
   "execution_count": null,
   "metadata": {
    "collapsed": true
   },
   "outputs": [],
   "source": []
  }
 ],
 "metadata": {
  "kernelspec": {
   "display_name": "Python 2",
   "language": "python",
   "name": "python2"
  },
  "language_info": {
   "codemirror_mode": {
    "name": "ipython",
    "version": 2
   },
   "file_extension": ".py",
   "mimetype": "text/x-python",
   "name": "python",
   "nbconvert_exporter": "python",
   "pygments_lexer": "ipython2",
   "version": "2.7.6"
  }
 },
 "nbformat": 4,
 "nbformat_minor": 0
}
