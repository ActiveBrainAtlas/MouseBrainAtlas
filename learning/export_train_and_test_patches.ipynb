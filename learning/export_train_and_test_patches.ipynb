{
 "cells": [
  {
   "cell_type": "code",
   "execution_count": 1,
   "metadata": {},
   "outputs": [
    {
     "name": "stdout",
     "output_type": "stream",
     "text": [
      "Setting environment for Precision WorkStation\n",
      "/media/yuncong/BstemAtlasData/CSHL_data_processed/MD585/MD585_prep2_thumbnail/MD585-N16-2015.07.16-20.32.33_MD585_2_0047_prep2_thumbnail.tif\n",
      "/media/yuncong/BstemAtlasData/CSHL_data_processed/MD589/MD589_prep2_thumbnail/MD589-N16-2015.07.30-17.03.43_MD589_3_0048_prep2_thumbnail.tif\n"
     ]
    },
    {
     "name": "stderr",
     "output_type": "stream",
     "text": [
      "No vtk\n",
      "No vtkNot using image_cache.\n",
      "Not using image_cache.\n",
      "Not using image_cache.\n",
      "Not using image_cache.\n",
      "Not using image_cache.\n",
      "Not using image_cache.\n",
      "Not using image_cache.\n",
      "Not using image_cache.\n",
      "Not using image_cache.\n",
      "Not using image_cache.\n",
      "Not using image_cache.\n",
      "Not using image_cache.\n",
      "Not using image_cache.\n",
      "Not using image_cache.\n",
      "Not using image_cache.\n"
     ]
    },
    {
     "name": "stdout",
     "output_type": "stream",
     "text": [
      "/media/yuncong/BstemAtlasData/CSHL_data_processed/MD590/MD590_prep2_thumbnail/MD590-IHC17-2015.08.10-19.09.09_MD590_2_0050_prep2_thumbnail.tif\n",
      "/media/yuncong/BstemAtlasData/CSHL_data_processed/MD591/MD591_prep2_thumbnail/MD591-IHC17-2015.08.28-04.23.47_MD591_1_0049_prep2_thumbnail.tif\n",
      "/media/yuncong/BstemAtlasData/CSHL_data_processed/MD592/MD592_prep2_thumbnail/MD592-N16-2015.08.22-00.50.39_MD592_2_0047_prep2_thumbnail.tif\n",
      "/media/yuncong/BstemAtlasData/CSHL_data_processed/MD593/MD593_prep2_thumbnail/MD593-N15-2015.08.21-16.53.02_MD593_3_0045_prep2_thumbnail.tif\n",
      "/media/yuncong/BstemAtlasData/CSHL_data_processed/MD594/MD594_prep2_thumbnail/MD594-IHC16-2015.08.26-16.11.01_MD594_1_0046_prep2_thumbnail.tif\n",
      "/media/yuncong/BstemAtlasData/CSHL_data_processed/MD595/MD595_prep2_thumbnail/MD595-IHC12-2015.09.15-01.21.39_MD595_2_0035_prep2_thumbnail.tif\n",
      "/media/yuncong/BstemAtlasData/CSHL_data_processed/MD598/MD598_prep2_thumbnail/MD598-N18-2015.09.29-17.40.03_MD598_3_0054_prep2_thumbnail.tif\n",
      "/media/yuncong/BstemAtlasData/CSHL_data_processed/MD599/MD599_prep2_thumbnail/MD599-N19-2015.10.02-18.12.13_MD599_3_0057_prep2_thumbnail.tif\n",
      "/media/yuncong/BstemAtlasData/CSHL_data_processed/MD602/MD602_prep2_thumbnail/MD602-N19-2015.12.01-16.24.09_MD602_2_0056_prep2_thumbnail.tif\n",
      "/media/yuncong/BstemAtlasData/CSHL_data_processed/MD603/MD603_prep2_thumbnail/MD603-N11-2016.03.02-12.51.47_MD603_1_0031_prep2_thumbnail.tif\n",
      "/media/yuncong/BstemAtlasData/CSHL_data_processed/MD635/MD635_prep2_thumbnail/MD635-F25-2016.05.18-21.02.30_MD635_3_0075_prep2_thumbnail.tif\n",
      "/media/yuncong/BstemAtlasData/CSHL_data_processed/MD653/MD653_prep2_thumbnail/MD653-F15-2016.12.20-21.04.12_MD653_1_0043_prep2_thumbnail.tif\n",
      "/media/yuncong/BstemAtlasData/CSHL_data_processed/MD652/MD652_prep2_thumbnail/MD652-F15-2016.12.16-20.45.52_MD652_3_0045_prep2_thumbnail.tif\n",
      "/media/yuncong/BstemAtlasData/CSHL_data_processed/MD642/MD642_prep2_thumbnail/MD642-N14-2017.01.18-16.25.58_MD642_2_0041_prep2_thumbnail.tif\n",
      "/media/yuncong/BstemAtlasData/CSHL_data_processed/MD657/MD657_prep2_thumbnail/MD657-N13-2017.02.22-14.33.34_MD657_3_0039_prep2_thumbnail.tif\n"
     ]
    },
    {
     "name": "stderr",
     "output_type": "stream",
     "text": [
      "Not using image_cache.\n",
      "Not using image_cache.\n",
      "Not using image_cache.\n",
      "Not using image_cache.\n",
      "Not using image_cache.\n",
      "Not using image_cache.\n",
      "/usr/local/lib/python2.7/dist-packages/sklearn/cross_validation.py:44: DeprecationWarning: This module was deprecated in version 0.18 in favor of the model_selection module into which all the refactored classes and functions are moved. Also note that the interface of the new CV iterators are different from that of this module. This module will be removed in 0.20.\n",
      "  \"This module will be removed in 0.20.\", DeprecationWarning)\n"
     ]
    },
    {
     "name": "stdout",
     "output_type": "stream",
     "text": [
      "/media/yuncong/BstemAtlasData/CSHL_data_processed/MD658/MD658_prep2_thumbnail/MD658-N18-2017.03.31-17.34.22_MD658_2_0053_prep2_thumbnail.tif\n",
      "/media/yuncong/BstemAtlasData/CSHL_data_processed/MD661/MD661_prep2_thumbnail/MD662&661-F30-2017.06.05-14.49.48_MD661_1_0088_prep2_thumbnail.tif\n",
      "/media/yuncong/BstemAtlasData/CSHL_data_processed/MD662/MD662_prep2_thumbnail/MD662&661-F35-2017.06.05-17.08.18_MD662_1_0103_prep2_thumbnail.tif\n",
      "/media/yuncong/BstemAtlasData/CSHL_data_processed/ChatCryoJane201710/ChatCryoJane201710_prep2_thumbnail_Ntb/ChatCryoJane201710_slide1-S1_prep2_thumbnail_Ntb.tif\n"
     ]
    }
   ],
   "source": [
    "%load_ext autoreload\n",
    "%autoreload 2\n",
    "\n",
    "import sys\n",
    "import os\n",
    "import time\n",
    "\n",
    "import numpy as np\n",
    "try:\n",
    "    import mxnet as mx\n",
    "except:\n",
    "    sys.stderr.write(\"Cannot import mxnet.\\n\")\n",
    "import matplotlib.pyplot as plt\n",
    "%matplotlib inline\n",
    "from skimage.exposure import rescale_intensity\n",
    "from skimage.transform import rotate\n",
    "\n",
    "sys.path.append(os.environ['REPO_DIR'] + '/utilities')\n",
    "from utilities2015 import *\n",
    "from metadata import *\n",
    "from data_manager import *\n",
    "from learning_utilities import *\n",
    "from distributed_utilities import *\n",
    "from visualization_utilities import *"
   ]
  },
  {
   "cell_type": "code",
   "execution_count": 2,
   "metadata": {
    "collapsed": true
   },
   "outputs": [],
   "source": [
    "from sklearn.externals import joblib\n",
    "\n",
    "from sklearn.linear_model import LogisticRegression\n",
    "from sklearn.svm import LinearSVC, SVC\n",
    "from sklearn.calibration import CalibratedClassifierCV\n",
    "from sklearn.ensemble import GradientBoostingClassifier \n",
    "\n",
    "sys.path.append('/home/yuncong/csd395/xgboost/python-package')\n",
    "try:\n",
    "    from xgboost.sklearn import XGBClassifier\n",
    "except:\n",
    "    sys.stderr.write('xgboost is not loaded.')"
   ]
  },
  {
   "cell_type": "code",
   "execution_count": 3,
   "metadata": {},
   "outputs": [
    {
     "name": "stderr",
     "output_type": "stream",
     "text": [
      "/usr/local/lib/python2.7/dist-packages/mxnet/module/base_module.py:53: UserWarning: \u001b[91mYou created Module with Module(..., label_names=['softmax_label']) but input with name 'softmax_label' is not found in symbol.list_arguments(). Did you mean one of:\n",
      "\tdata\u001b[0m\n",
      "  warnings.warn(msg)\n",
      "/usr/local/lib/python2.7/dist-packages/mxnet/module/base_module.py:65: UserWarning: Data provided by label_shapes don't match names specified by label_names ([] vs. ['softmax_label'])\n",
      "  warnings.warn(msg)\n"
     ]
    }
   ],
   "source": [
    "batch_size = 256\n",
    "model_dir_name = 'inception-bn-blue'\n",
    "model_name = 'inception-bn-blue'\n",
    "model, mean_img = load_mxnet_model(model_dir_name=model_dir_name, model_name=model_name, \n",
    "                                   num_gpus=1, batch_size=batch_size)"
   ]
  },
  {
   "cell_type": "code",
   "execution_count": 13,
   "metadata": {
    "collapsed": true
   },
   "outputs": [],
   "source": [
    "train_scheme = 'normalize_mu_region_sigma_wholeImage_(-1,5)'"
   ]
  },
  {
   "cell_type": "code",
   "execution_count": 17,
   "metadata": {},
   "outputs": [
    {
     "name": "stdout",
     "output_type": "stream",
     "text": [
      "aws s3 cp --recursive \"s3://mousebrainatlas-data/CSHL_labelings_v3/MD589\" \"/home/yuncong/CSHL_labelings_v3/MD589\" --exclude \"*\" --include \"*win7*grid_indices_lookup*\"\n",
      "latest timestamp:  10042017100807\n",
      "# positive train = 2142\n",
      "# negative train = 17367\n"
     ]
    },
    {
     "name": "stderr",
     "output_type": "stream",
     "text": [
      "No images are provided. Load instead.\n",
      "Not using image_cache.\n"
     ]
    },
    {
     "name": "stdout",
     "output_type": "stream",
     "text": [
      "/media/yuncong/BstemAtlasData/CSHL_data_processed/MD589/MD589_prep2_lossless/MD589-N27-2015.07.30-17.49.06_MD589_3_0081_prep2_lossless.tif\n"
     ]
    },
    {
     "name": "stderr",
     "output_type": "stream",
     "text": [
      "/usr/local/lib/python2.7/dist-packages/skimage/util/dtype.py:122: UserWarning: Possible precision loss when converting from float64 to uint8\n",
      "  .format(dtypeobj_in, dtypeobj_out))\n",
      "Load image: 18.41 seconds.\n",
      "Crop patches: 0.00 seconds.\n",
      "No images are provided. Load instead.\n",
      "Not using image_cache.\n"
     ]
    },
    {
     "name": "stdout",
     "output_type": "stream",
     "text": [
      "/media/yuncong/BstemAtlasData/CSHL_data_processed/MD589/MD589_prep2_lossless/MD589-N59-2015.07.30-20.07.00_MD589_1_0175_prep2_lossless.tif\n"
     ]
    },
    {
     "name": "stderr",
     "output_type": "stream",
     "text": [
      "Load image: 21.66 seconds.\n",
      "Crop patches: 0.00 seconds.\n",
      "No images are provided. Load instead.\n",
      "Not using image_cache.\n"
     ]
    },
    {
     "name": "stdout",
     "output_type": "stream",
     "text": [
      "/media/yuncong/BstemAtlasData/CSHL_data_processed/MD589/MD589_prep2_lossless/MD589-IHC58-2015.07.31-01.22.39_MD589_3_0174_prep2_lossless.tif\n"
     ]
    },
    {
     "name": "stderr",
     "output_type": "stream",
     "text": [
      "Load image: 19.51 seconds.\n",
      "Crop patches: 0.00 seconds.\n",
      "No images are provided. Load instead.\n",
      "Not using image_cache.\n"
     ]
    },
    {
     "name": "stdout",
     "output_type": "stream",
     "text": [
      "/media/yuncong/BstemAtlasData/CSHL_data_processed/MD589/MD589_prep2_lossless/MD589-N58-2015.07.30-20.03.53_MD589_2_0173_prep2_lossless.tif\n"
     ]
    },
    {
     "name": "stderr",
     "output_type": "stream",
     "text": [
      "Load image: 19.45 seconds.\n",
      "Crop patches: 0.00 seconds.\n",
      "No images are provided. Load instead.\n",
      "Not using image_cache.\n"
     ]
    },
    {
     "name": "stdout",
     "output_type": "stream",
     "text": [
      "/media/yuncong/BstemAtlasData/CSHL_data_processed/MD589/MD589_prep2_lossless/MD589-IHC56-2015.07.31-01.13.31_MD589_2_0167_prep2_lossless.tif\n"
     ]
    },
    {
     "name": "stderr",
     "output_type": "stream",
     "text": [
      "Load image: 21.29 seconds.\n",
      "Crop patches: 0.00 seconds.\n",
      "No images are provided. Load instead.\n",
      "Not using image_cache.\n"
     ]
    },
    {
     "name": "stdout",
     "output_type": "stream",
     "text": [
      "/media/yuncong/BstemAtlasData/CSHL_data_processed/MD589/MD589_prep2_lossless/MD589-IHC26-2015.07.30-23.01.56_MD589_3_0078_prep2_lossless.tif\n"
     ]
    },
    {
     "name": "stderr",
     "output_type": "stream",
     "text": [
      "Load image: 20.56 seconds.\n",
      "Crop patches: 0.00 seconds.\n",
      "No images are provided. Load instead.\n",
      "Not using image_cache.\n"
     ]
    },
    {
     "name": "stdout",
     "output_type": "stream",
     "text": [
      "/media/yuncong/BstemAtlasData/CSHL_data_processed/MD589/MD589_prep2_lossless/MD589-N58-2015.07.30-20.03.53_MD589_1_0172_prep2_lossless.tif\n"
     ]
    },
    {
     "name": "stderr",
     "output_type": "stream",
     "text": [
      "Load image: 21.99 seconds.\n",
      "Crop patches: 0.00 seconds.\n",
      "No images are provided. Load instead.\n",
      "Not using image_cache.\n"
     ]
    },
    {
     "name": "stdout",
     "output_type": "stream",
     "text": [
      "/media/yuncong/BstemAtlasData/CSHL_data_processed/MD589/MD589_prep2_lossless/MD589-IHC28-2015.07.30-23.11.15_MD589_2_0083_prep2_lossless.tif\n"
     ]
    },
    {
     "name": "stderr",
     "output_type": "stream",
     "text": [
      "Load image: 21.07 seconds.\n",
      "Crop patches: 0.00 seconds.\n",
      "No images are provided. Load instead.\n",
      "Not using image_cache.\n"
     ]
    },
    {
     "name": "stdout",
     "output_type": "stream",
     "text": [
      "/media/yuncong/BstemAtlasData/CSHL_data_processed/MD589/MD589_prep2_lossless/MD589-IHC27-2015.07.30-23.06.26_MD589_3_0081_prep2_lossless.tif\n"
     ]
    },
    {
     "name": "stderr",
     "output_type": "stream",
     "text": [
      "Load image: 19.42 seconds.\n",
      "Crop patches: 0.00 seconds.\n"
     ]
    },
    {
     "name": "stdout",
     "output_type": "stream",
     "text": [
      "# positive train = 63\n",
      "# negative train = 5014\n"
     ]
    },
    {
     "name": "stderr",
     "output_type": "stream",
     "text": [
      "No images are provided. Load instead.\n",
      "Not using image_cache.\n"
     ]
    },
    {
     "name": "stdout",
     "output_type": "stream",
     "text": [
      "/media/yuncong/BstemAtlasData/CSHL_data_processed/MD589/MD589_prep2_lossless/MD589-IHC38-2015.07.30-23.54.24_MD589_2_0113_prep2_lossless.tif\n"
     ]
    },
    {
     "name": "stderr",
     "output_type": "stream",
     "text": [
      "Load image: 18.89 seconds.\n",
      "Crop patches: 0.00 seconds.\n",
      "No images are provided. Load instead.\n",
      "Not using image_cache.\n"
     ]
    },
    {
     "name": "stdout",
     "output_type": "stream",
     "text": [
      "/media/yuncong/BstemAtlasData/CSHL_data_processed/MD589/MD589_prep2_lossless/MD589-N40-2015.07.30-18.44.48_MD589_1_0118_prep2_lossless.tif\n"
     ]
    },
    {
     "name": "stderr",
     "output_type": "stream",
     "text": [
      "Load image: 18.41 seconds.\n",
      "Crop patches: 0.00 seconds.\n",
      "No images are provided. Load instead.\n",
      "Not using image_cache.\n"
     ]
    },
    {
     "name": "stdout",
     "output_type": "stream",
     "text": [
      "/media/yuncong/BstemAtlasData/CSHL_data_processed/MD589/MD589_prep2_lossless/MD589-IHC49-2015.07.31-00.39.15_MD589_1_0145_prep2_lossless.tif\n"
     ]
    },
    {
     "name": "stderr",
     "output_type": "stream",
     "text": [
      "Load image: 21.11 seconds.\n",
      "Crop patches: 0.00 seconds.\n",
      "No images are provided. Load instead.\n",
      "Not using image_cache.\n"
     ]
    },
    {
     "name": "stdout",
     "output_type": "stream",
     "text": [
      "/media/yuncong/BstemAtlasData/CSHL_data_processed/MD589/MD589_prep2_lossless/MD589-IHC37-2015.07.30-23.50.39_MD589_2_0110_prep2_lossless.tif\n"
     ]
    },
    {
     "name": "stderr",
     "output_type": "stream",
     "text": [
      "Load image: 20.89 seconds.\n",
      "Crop patches: 0.00 seconds.\n",
      "No images are provided. Load instead.\n",
      "Not using image_cache.\n"
     ]
    },
    {
     "name": "stdout",
     "output_type": "stream",
     "text": [
      "/media/yuncong/BstemAtlasData/CSHL_data_processed/MD589/MD589_prep2_lossless/MD589-IHC47-2015.07.31-00.31.08_MD589_2_0140_prep2_lossless.tif\n"
     ]
    },
    {
     "name": "stderr",
     "output_type": "stream",
     "text": [
      "Load image: 20.97 seconds.\n",
      "Crop patches: 0.00 seconds.\n",
      "No images are provided. Load instead.\n",
      "Not using image_cache.\n"
     ]
    },
    {
     "name": "stdout",
     "output_type": "stream",
     "text": [
      "# positive train = 1701\n",
      "# negative train = 12799\n",
      "/media/yuncong/BstemAtlasData/CSHL_data_processed/MD589/MD589_prep2_lossless/MD589-IHC27-2015.07.30-23.06.26_MD589_2_0080_prep2_lossless.tif\n"
     ]
    },
    {
     "name": "stderr",
     "output_type": "stream",
     "text": [
      "Load image: 18.83 seconds.\n",
      "Crop patches: 0.00 seconds.\n",
      "No images are provided. Load instead.\n",
      "Not using image_cache.\n"
     ]
    },
    {
     "name": "stdout",
     "output_type": "stream",
     "text": [
      "/media/yuncong/BstemAtlasData/CSHL_data_processed/MD589/MD589_prep2_lossless/MD589-N29-2015.07.30-17.58.29_MD589_1_0085_prep2_lossless.tif\n"
     ]
    },
    {
     "name": "stderr",
     "output_type": "stream",
     "text": [
      "Load image: 18.32 seconds.\n",
      "Crop patches: 0.00 seconds.\n",
      "No images are provided. Load instead.\n",
      "Not using image_cache.\n"
     ]
    },
    {
     "name": "stdout",
     "output_type": "stream",
     "text": [
      "/media/yuncong/BstemAtlasData/CSHL_data_processed/MD589/MD589_prep2_lossless/MD589-IHC33-2015.07.30-23.34.35_MD589_1_0097_prep2_lossless.tif\n"
     ]
    },
    {
     "name": "stderr",
     "output_type": "stream",
     "text": [
      "Load image: 18.57 seconds.\n",
      "Crop patches: 0.00 seconds.\n",
      "No images are provided. Load instead.\n",
      "Not using image_cache.\n"
     ]
    },
    {
     "name": "stdout",
     "output_type": "stream",
     "text": [
      "/media/yuncong/BstemAtlasData/CSHL_data_processed/MD589/MD589_prep2_lossless/MD589-N58-2015.07.30-20.03.53_MD589_2_0173_prep2_lossless.tif\n"
     ]
    },
    {
     "name": "stderr",
     "output_type": "stream",
     "text": [
      "Load image: 18.78 seconds.\n",
      "Crop patches: 0.00 seconds.\n",
      "No images are provided. Load instead.\n",
      "Not using image_cache.\n"
     ]
    },
    {
     "name": "stdout",
     "output_type": "stream",
     "text": [
      "/media/yuncong/BstemAtlasData/CSHL_data_processed/MD589/MD589_prep2_lossless/MD589-N26-2015.07.30-17.44.37_MD589_3_0078_prep2_lossless.tif\n"
     ]
    },
    {
     "name": "stderr",
     "output_type": "stream",
     "text": [
      "Load image: 19.34 seconds.\n",
      "Crop patches: 0.00 seconds.\n",
      "No images are provided. Load instead.\n",
      "Not using image_cache.\n"
     ]
    },
    {
     "name": "stdout",
     "output_type": "stream",
     "text": [
      "/media/yuncong/BstemAtlasData/CSHL_data_processed/MD589/MD589_prep2_lossless/MD589-N28-2015.07.30-17.53.43_MD589_2_0083_prep2_lossless.tif\n"
     ]
    },
    {
     "name": "stderr",
     "output_type": "stream",
     "text": [
      "Load image: 18.76 seconds.\n",
      "Crop patches: 0.00 seconds.\n",
      "No images are provided. Load instead.\n",
      "Not using image_cache.\n"
     ]
    },
    {
     "name": "stdout",
     "output_type": "stream",
     "text": [
      "/media/yuncong/BstemAtlasData/CSHL_data_processed/MD589/MD589_prep2_lossless/MD589-N34-2015.07.30-18.20.43_MD589_2_0101_prep2_lossless.tif\n"
     ]
    },
    {
     "name": "stderr",
     "output_type": "stream",
     "text": [
      "Load image: 20.73 seconds.\n",
      "Crop patches: 0.00 seconds.\n",
      "No images are provided. Load instead.\n",
      "Not using image_cache.\n"
     ]
    },
    {
     "name": "stdout",
     "output_type": "stream",
     "text": [
      "/media/yuncong/BstemAtlasData/CSHL_data_processed/MD589/MD589_prep2_lossless/MD589-N59-2015.07.30-20.07.00_MD589_2_0176_prep2_lossless.tif\n"
     ]
    },
    {
     "name": "stderr",
     "output_type": "stream",
     "text": [
      "Load image: 18.87 seconds.\n",
      "Crop patches: 0.00 seconds.\n",
      "No images are provided. Load instead.\n",
      "Not using image_cache.\n"
     ]
    },
    {
     "name": "stdout",
     "output_type": "stream",
     "text": [
      "# positive train = 516\n",
      "# negative train = 12384\n",
      "/media/yuncong/BstemAtlasData/CSHL_data_processed/MD589/MD589_prep2_lossless/MD589-N51-2015.07.30-19.28.17_MD589_2_0152_prep2_lossless.tif\n"
     ]
    },
    {
     "name": "stderr",
     "output_type": "stream",
     "text": [
      "Load image: 19.39 seconds.\n",
      "Crop patches: 0.00 seconds.\n",
      "No images are provided. Load instead.\n",
      "Not using image_cache.\n"
     ]
    },
    {
     "name": "stdout",
     "output_type": "stream",
     "text": [
      "/media/yuncong/BstemAtlasData/CSHL_data_processed/MD589/MD589_prep2_lossless/MD589-IHC36-2015.07.30-23.46.36_MD589_1_0106_prep2_lossless.tif\n"
     ]
    },
    {
     "name": "stderr",
     "output_type": "stream",
     "text": [
      "Load image: 19.29 seconds.\n",
      "Crop patches: 0.00 seconds.\n",
      "No images are provided. Load instead.\n",
      "Not using image_cache.\n"
     ]
    },
    {
     "name": "stdout",
     "output_type": "stream",
     "text": [
      "/media/yuncong/BstemAtlasData/CSHL_data_processed/MD589/MD589_prep2_lossless/MD589-N55-2015.07.30-19.49.42_MD589_2_0164_prep2_lossless.tif\n"
     ]
    },
    {
     "name": "stderr",
     "output_type": "stream",
     "text": [
      "Load image: 19.57 seconds.\n",
      "Crop patches: 0.00 seconds.\n",
      "No images are provided. Load instead.\n",
      "Not using image_cache.\n"
     ]
    },
    {
     "name": "stdout",
     "output_type": "stream",
     "text": [
      "/media/yuncong/BstemAtlasData/CSHL_data_processed/MD589/MD589_prep2_lossless/MD589-IHC35-2015.07.30-23.42.32_MD589_2_0104_prep2_lossless.tif\n"
     ]
    },
    {
     "name": "stderr",
     "output_type": "stream",
     "text": [
      "Load image: 19.68 seconds.\n",
      "Crop patches: 0.00 seconds.\n",
      "No images are provided. Load instead.\n",
      "Not using image_cache.\n"
     ]
    },
    {
     "name": "stdout",
     "output_type": "stream",
     "text": [
      "/media/yuncong/BstemAtlasData/CSHL_data_processed/MD589/MD589_prep2_lossless/MD589-N35-2015.07.30-18.24.53_MD589_2_0104_prep2_lossless.tif\n"
     ]
    },
    {
     "name": "stderr",
     "output_type": "stream",
     "text": [
      "Load image: 20.47 seconds.\n",
      "Crop patches: 0.00 seconds.\n",
      "No images are provided. Load instead.\n",
      "Not using image_cache.\n"
     ]
    },
    {
     "name": "stdout",
     "output_type": "stream",
     "text": [
      "/media/yuncong/BstemAtlasData/CSHL_data_processed/MD589/MD589_prep2_lossless/MD589-N58-2015.07.30-20.03.53_MD589_1_0172_prep2_lossless.tif\n"
     ]
    },
    {
     "name": "stderr",
     "output_type": "stream",
     "text": [
      "Load image: 18.99 seconds.\n",
      "Crop patches: 0.00 seconds.\n",
      "No images are provided. Load instead.\n",
      "Not using image_cache.\n"
     ]
    },
    {
     "name": "stdout",
     "output_type": "stream",
     "text": [
      "/media/yuncong/BstemAtlasData/CSHL_data_processed/MD589/MD589_prep2_lossless/MD589-N26-2015.07.30-17.44.37_MD589_3_0078_prep2_lossless.tif\n"
     ]
    },
    {
     "name": "stderr",
     "output_type": "stream",
     "text": [
      "Load image: 19.00 seconds.\n",
      "Crop patches: 0.00 seconds.\n",
      "No images are provided. Load instead.\n",
      "Not using image_cache.\n"
     ]
    },
    {
     "name": "stdout",
     "output_type": "stream",
     "text": [
      "/media/yuncong/BstemAtlasData/CSHL_data_processed/MD589/MD589_prep2_lossless/MD589-IHC29-2015.07.30-23.16.01_MD589_3_0087_prep2_lossless.tif\n"
     ]
    },
    {
     "name": "stderr",
     "output_type": "stream",
     "text": [
      "Load image: 19.88 seconds.\n",
      "Crop patches: 0.00 seconds.\n",
      "No images are provided. Load instead.\n",
      "Not using image_cache.\n"
     ]
    },
    {
     "name": "stdout",
     "output_type": "stream",
     "text": [
      "/media/yuncong/BstemAtlasData/CSHL_data_processed/MD589/MD589_prep2_lossless/MD589-N28-2015.07.30-17.53.43_MD589_3_0084_prep2_lossless.tif\n"
     ]
    },
    {
     "name": "stderr",
     "output_type": "stream",
     "text": [
      "Load image: 20.41 seconds.\n",
      "Crop patches: 0.00 seconds.\n",
      "No images are provided. Load instead.\n",
      "Not using image_cache.\n"
     ]
    },
    {
     "name": "stdout",
     "output_type": "stream",
     "text": [
      "/media/yuncong/BstemAtlasData/CSHL_data_processed/MD589/MD589_prep2_lossless/MD589-N31-2015.07.30-18.08.35_MD589_2_0092_prep2_lossless.tif\n"
     ]
    },
    {
     "name": "stderr",
     "output_type": "stream",
     "text": [
      "Load image: 20.36 seconds.\n",
      "Crop patches: 0.00 seconds.\n",
      "No images are provided. Load instead.\n",
      "Not using image_cache.\n"
     ]
    },
    {
     "name": "stdout",
     "output_type": "stream",
     "text": [
      "# positive train = 326\n",
      "# negative train = 11916\n",
      "/media/yuncong/BstemAtlasData/CSHL_data_processed/MD589/MD589_prep2_lossless/MD589-IHC29-2015.07.30-23.16.01_MD589_2_0086_prep2_lossless.tif\n"
     ]
    },
    {
     "name": "stderr",
     "output_type": "stream",
     "text": [
      "Load image: 21.42 seconds.\n",
      "Crop patches: 0.00 seconds.\n",
      "No images are provided. Load instead.\n",
      "Not using image_cache.\n"
     ]
    },
    {
     "name": "stdout",
     "output_type": "stream",
     "text": [
      "/media/yuncong/BstemAtlasData/CSHL_data_processed/MD589/MD589_prep2_lossless/MD589-N29-2015.07.30-17.58.29_MD589_2_0086_prep2_lossless.tif\n"
     ]
    },
    {
     "name": "stderr",
     "output_type": "stream",
     "text": [
      "Load image: 20.78 seconds.\n",
      "Crop patches: 0.00 seconds.\n",
      "No images are provided. Load instead.\n",
      "Not using image_cache.\n"
     ]
    },
    {
     "name": "stdout",
     "output_type": "stream",
     "text": [
      "/media/yuncong/BstemAtlasData/CSHL_data_processed/MD589/MD589_prep2_lossless/MD589-IHC57-2015.07.31-01.18.16_MD589_1_0169_prep2_lossless.tif\n"
     ]
    },
    {
     "name": "stderr",
     "output_type": "stream",
     "text": [
      "Load image: 21.10 seconds.\n",
      "Crop patches: 0.00 seconds.\n",
      "No images are provided. Load instead.\n",
      "Not using image_cache.\n"
     ]
    },
    {
     "name": "stdout",
     "output_type": "stream",
     "text": [
      "/media/yuncong/BstemAtlasData/CSHL_data_processed/MD589/MD589_prep2_lossless/MD589-IHC29-2015.07.30-23.16.01_MD589_1_0085_prep2_lossless.tif\n"
     ]
    },
    {
     "name": "stderr",
     "output_type": "stream",
     "text": [
      "Load image: 20.42 seconds.\n",
      "Crop patches: 0.00 seconds.\n",
      "No images are provided. Load instead.\n",
      "Not using image_cache.\n"
     ]
    },
    {
     "name": "stdout",
     "output_type": "stream",
     "text": [
      "/media/yuncong/BstemAtlasData/CSHL_data_processed/MD589/MD589_prep2_lossless/MD589-N29-2015.07.30-17.58.29_MD589_1_0085_prep2_lossless.tif\n"
     ]
    },
    {
     "name": "stderr",
     "output_type": "stream",
     "text": [
      "Load image: 20.73 seconds.\n",
      "Crop patches: 0.00 seconds.\n",
      "No images are provided. Load instead.\n",
      "Not using image_cache.\n"
     ]
    },
    {
     "name": "stdout",
     "output_type": "stream",
     "text": [
      "/media/yuncong/BstemAtlasData/CSHL_data_processed/MD589/MD589_prep2_lossless/MD589-IHC28-2015.07.30-23.11.15_MD589_3_0084_prep2_lossless.tif\n"
     ]
    },
    {
     "name": "stderr",
     "output_type": "stream",
     "text": [
      "Load image: 20.27 seconds.\n",
      "Crop patches: 0.00 seconds.\n",
      "No images are provided. Load instead.\n",
      "Not using image_cache.\n"
     ]
    },
    {
     "name": "stdout",
     "output_type": "stream",
     "text": [
      "/media/yuncong/BstemAtlasData/CSHL_data_processed/MD589/MD589_prep2_lossless/MD589-N57-2015.07.30-19.59.14_MD589_3_0171_prep2_lossless.tif\n"
     ]
    },
    {
     "name": "stderr",
     "output_type": "stream",
     "text": [
      "Load image: 20.66 seconds.\n",
      "Crop patches: 0.00 seconds.\n",
      "No images are provided. Load instead.\n",
      "Not using image_cache.\n"
     ]
    },
    {
     "name": "stdout",
     "output_type": "stream",
     "text": [
      "/media/yuncong/BstemAtlasData/CSHL_data_processed/MD589/MD589_prep2_lossless/MD589-N57-2015.07.30-19.59.14_MD589_2_0170_prep2_lossless.tif\n"
     ]
    },
    {
     "name": "stderr",
     "output_type": "stream",
     "text": [
      "Load image: 20.74 seconds.\n",
      "Crop patches: 0.00 seconds.\n",
      "No images are provided. Load instead.\n",
      "Not using image_cache.\n"
     ]
    },
    {
     "name": "stdout",
     "output_type": "stream",
     "text": [
      "/media/yuncong/BstemAtlasData/CSHL_data_processed/MD589/MD589_prep2_lossless/MD589-IHC57-2015.07.31-01.18.16_MD589_3_0171_prep2_lossless.tif\n"
     ]
    },
    {
     "name": "stderr",
     "output_type": "stream",
     "text": [
      "Load image: 20.37 seconds.\n",
      "Crop patches: 0.00 seconds.\n",
      "No images are provided. Load instead.\n",
      "Not using image_cache.\n"
     ]
    },
    {
     "name": "stdout",
     "output_type": "stream",
     "text": [
      "/media/yuncong/BstemAtlasData/CSHL_data_processed/MD589/MD589_prep2_lossless/MD589-N29-2015.07.30-17.58.29_MD589_3_0087_prep2_lossless.tif\n"
     ]
    },
    {
     "name": "stderr",
     "output_type": "stream",
     "text": [
      "Load image: 19.95 seconds.\n",
      "Crop patches: 0.00 seconds.\n",
      "No images are provided. Load instead.\n",
      "Not using image_cache.\n"
     ]
    },
    {
     "name": "stdout",
     "output_type": "stream",
     "text": [
      "# positive train = 1127\n",
      "# negative train = 15646\n",
      "/media/yuncong/BstemAtlasData/CSHL_data_processed/MD589/MD589_prep2_lossless/MD589-IHC52-2015.07.31-00.52.41_MD589_1_0154_prep2_lossless.tif\n"
     ]
    },
    {
     "name": "stderr",
     "output_type": "stream",
     "text": [
      "Load image: 21.27 seconds.\n",
      "Crop patches: 0.00 seconds.\n",
      "No images are provided. Load instead.\n",
      "Not using image_cache.\n"
     ]
    },
    {
     "name": "stdout",
     "output_type": "stream",
     "text": [
      "/media/yuncong/BstemAtlasData/CSHL_data_processed/MD589/MD589_prep2_lossless/MD589-N31-2015.07.30-18.08.35_MD589_1_0091_prep2_lossless.tif\n"
     ]
    },
    {
     "name": "stderr",
     "output_type": "stream",
     "text": [
      "Load image: 20.45 seconds.\n",
      "Crop patches: 0.00 seconds.\n",
      "No images are provided. Load instead.\n",
      "Not using image_cache.\n"
     ]
    },
    {
     "name": "stdout",
     "output_type": "stream",
     "text": [
      "/media/yuncong/BstemAtlasData/CSHL_data_processed/MD589/MD589_prep2_lossless/MD589-IHC51-2015.07.31-00.47.11_MD589_3_0153_prep2_lossless.tif\n"
     ]
    },
    {
     "name": "stderr",
     "output_type": "stream",
     "text": [
      "Load image: 21.20 seconds.\n",
      "Crop patches: 0.00 seconds.\n",
      "No images are provided. Load instead.\n",
      "Not using image_cache.\n"
     ]
    },
    {
     "name": "stdout",
     "output_type": "stream",
     "text": [
      "/media/yuncong/BstemAtlasData/CSHL_data_processed/MD589/MD589_prep2_lossless/MD589-IHC53-2015.07.31-00.58.06_MD589_2_0158_prep2_lossless.tif\n"
     ]
    },
    {
     "name": "stderr",
     "output_type": "stream",
     "text": [
      "Load image: 21.06 seconds.\n",
      "Crop patches: 0.00 seconds.\n",
      "No images are provided. Load instead.\n",
      "Not using image_cache.\n"
     ]
    },
    {
     "name": "stdout",
     "output_type": "stream",
     "text": [
      "/media/yuncong/BstemAtlasData/CSHL_data_processed/MD589/MD589_prep2_lossless/MD589-N32-2015.07.30-18.12.36_MD589_2_0095_prep2_lossless.tif\n"
     ]
    },
    {
     "name": "stderr",
     "output_type": "stream",
     "text": [
      "Load image: 18.56 seconds.\n",
      "Crop patches: 0.00 seconds.\n",
      "No images are provided. Load instead.\n",
      "Not using image_cache.\n"
     ]
    },
    {
     "name": "stdout",
     "output_type": "stream",
     "text": [
      "/media/yuncong/BstemAtlasData/CSHL_data_processed/MD589/MD589_prep2_lossless/MD589-IHC32-2015.07.30-23.30.34_MD589_1_0094_prep2_lossless.tif\n"
     ]
    },
    {
     "name": "stderr",
     "output_type": "stream",
     "text": [
      "Load image: 20.52 seconds.\n",
      "Crop patches: 0.00 seconds.\n",
      "No images are provided. Load instead.\n",
      "Not using image_cache.\n"
     ]
    },
    {
     "name": "stdout",
     "output_type": "stream",
     "text": [
      "/media/yuncong/BstemAtlasData/CSHL_data_processed/MD589/MD589_prep2_lossless/MD589-N52-2015.07.30-19.33.44_MD589_3_0156_prep2_lossless.tif\n"
     ]
    },
    {
     "name": "stderr",
     "output_type": "stream",
     "text": [
      "Load image: 19.33 seconds.\n",
      "Crop patches: 0.00 seconds.\n",
      "No images are provided. Load instead.\n",
      "Not using image_cache.\n"
     ]
    },
    {
     "name": "stdout",
     "output_type": "stream",
     "text": [
      "/media/yuncong/BstemAtlasData/CSHL_data_processed/MD589/MD589_prep2_lossless/MD589-IHC31-2015.07.30-23.26.22_MD589_2_0092_prep2_lossless.tif\n"
     ]
    },
    {
     "name": "stderr",
     "output_type": "stream",
     "text": [
      "Load image: 19.82 seconds.\n",
      "Crop patches: 0.00 seconds.\n",
      "No images are provided. Load instead.\n",
      "Not using image_cache.\n"
     ]
    },
    {
     "name": "stdout",
     "output_type": "stream",
     "text": [
      "/media/yuncong/BstemAtlasData/CSHL_data_processed/MD589/MD589_prep2_lossless/MD589-N53-2015.07.30-19.39.11_MD589_3_0159_prep2_lossless.tif\n"
     ]
    },
    {
     "name": "stderr",
     "output_type": "stream",
     "text": [
      "Load image: 19.88 seconds.\n",
      "Crop patches: 0.00 seconds.\n",
      "No images are provided. Load instead.\n",
      "Not using image_cache.\n"
     ]
    },
    {
     "name": "stdout",
     "output_type": "stream",
     "text": [
      "# positive train = 1338\n",
      "# negative train = 13884\n",
      "/media/yuncong/BstemAtlasData/CSHL_data_processed/MD589/MD589_prep2_lossless/MD589-N55-2015.07.30-19.49.42_MD589_3_0165_prep2_lossless.tif\n"
     ]
    },
    {
     "name": "stderr",
     "output_type": "stream",
     "text": [
      "Load image: 19.23 seconds.\n",
      "Crop patches: 0.00 seconds.\n",
      "No images are provided. Load instead.\n",
      "Not using image_cache.\n"
     ]
    },
    {
     "name": "stdout",
     "output_type": "stream",
     "text": [
      "/media/yuncong/BstemAtlasData/CSHL_data_processed/MD589/MD589_prep2_lossless/MD589-N33-2015.07.30-18.16.40_MD589_2_0098_prep2_lossless.tif\n"
     ]
    },
    {
     "name": "stderr",
     "output_type": "stream",
     "text": [
      "Load image: 19.86 seconds.\n",
      "Crop patches: 0.00 seconds.\n",
      "No images are provided. Load instead.\n",
      "Not using image_cache.\n"
     ]
    },
    {
     "name": "stdout",
     "output_type": "stream",
     "text": [
      "/media/yuncong/BstemAtlasData/CSHL_data_processed/MD589/MD589_prep2_lossless/MD589-N30-2015.07.30-18.03.11_MD589_3_0090_prep2_lossless.tif\n"
     ]
    },
    {
     "name": "stderr",
     "output_type": "stream",
     "text": [
      "Load image: 21.83 seconds.\n",
      "Crop patches: 0.00 seconds.\n",
      "No images are provided. Load instead.\n",
      "Not using image_cache.\n"
     ]
    },
    {
     "name": "stdout",
     "output_type": "stream",
     "text": [
      "/media/yuncong/BstemAtlasData/CSHL_data_processed/MD589/MD589_prep2_lossless/MD589-N32-2015.07.30-18.12.36_MD589_1_0094_prep2_lossless.tif\n"
     ]
    },
    {
     "name": "stderr",
     "output_type": "stream",
     "text": [
      "Load image: 20.24 seconds.\n",
      "Crop patches: 0.00 seconds.\n",
      "No images are provided. Load instead.\n",
      "Not using image_cache.\n"
     ]
    },
    {
     "name": "stdout",
     "output_type": "stream",
     "text": [
      "/media/yuncong/BstemAtlasData/CSHL_data_processed/MD589/MD589_prep2_lossless/MD589-IHC57-2015.07.31-01.18.16_MD589_3_0171_prep2_lossless.tif\n"
     ]
    },
    {
     "name": "stderr",
     "output_type": "stream",
     "text": [
      "Load image: 18.79 seconds.\n",
      "Crop patches: 0.00 seconds.\n",
      "No images are provided. Load instead.\n",
      "Not using image_cache.\n"
     ]
    },
    {
     "name": "stdout",
     "output_type": "stream",
     "text": [
      "/media/yuncong/BstemAtlasData/CSHL_data_processed/MD589/MD589_prep2_lossless/MD589-N57-2015.07.30-19.59.14_MD589_3_0171_prep2_lossless.tif\n"
     ]
    },
    {
     "name": "stderr",
     "output_type": "stream",
     "text": [
      "Load image: 18.58 seconds.\n",
      "Crop patches: 0.00 seconds.\n",
      "No images are provided. Load instead.\n",
      "Not using image_cache.\n"
     ]
    },
    {
     "name": "stdout",
     "output_type": "stream",
     "text": [
      "/media/yuncong/BstemAtlasData/CSHL_data_processed/MD589/MD589_prep2_lossless/MD589-IHC55-2015.07.31-01.08.44_MD589_3_0165_prep2_lossless.tif\n"
     ]
    },
    {
     "name": "stderr",
     "output_type": "stream",
     "text": [
      "Load image: 19.08 seconds.\n",
      "Crop patches: 0.00 seconds.\n",
      "No images are provided. Load instead.\n",
      "Not using image_cache.\n"
     ]
    },
    {
     "name": "stdout",
     "output_type": "stream",
     "text": [
      "/media/yuncong/BstemAtlasData/CSHL_data_processed/MD589/MD589_prep2_lossless/MD589-N54-2015.07.30-19.44.32_MD589_1_0160_prep2_lossless.tif\n"
     ]
    },
    {
     "name": "stderr",
     "output_type": "stream",
     "text": [
      "Load image: 18.90 seconds.\n",
      "Crop patches: 0.00 seconds.\n",
      "No images are provided. Load instead.\n",
      "Not using image_cache.\n"
     ]
    },
    {
     "name": "stdout",
     "output_type": "stream",
     "text": [
      "# positive train = 2166\n",
      "# negative train = 12924\n",
      "/media/yuncong/BstemAtlasData/CSHL_data_processed/MD589/MD589_prep2_lossless/MD589-IHC39-2015.07.30-23.58.27_MD589_1_0115_prep2_lossless.tif\n"
     ]
    },
    {
     "name": "stderr",
     "output_type": "stream",
     "text": [
      "Load image: 21.76 seconds.\n",
      "Crop patches: 0.00 seconds.\n",
      "No images are provided. Load instead.\n",
      "Not using image_cache.\n"
     ]
    },
    {
     "name": "stdout",
     "output_type": "stream",
     "text": [
      "/media/yuncong/BstemAtlasData/CSHL_data_processed/MD589/MD589_prep2_lossless/MD589-N36-2015.07.30-18.28.52_MD589_1_0106_prep2_lossless.tif\n"
     ]
    },
    {
     "name": "stderr",
     "output_type": "stream",
     "text": [
      "Load image: 21.29 seconds.\n",
      "Crop patches: 0.00 seconds.\n",
      "No images are provided. Load instead.\n",
      "Not using image_cache.\n"
     ]
    },
    {
     "name": "stdout",
     "output_type": "stream",
     "text": [
      "/media/yuncong/BstemAtlasData/CSHL_data_processed/MD589/MD589_prep2_lossless/MD589-N53-2015.07.30-19.39.11_MD589_2_0158_prep2_lossless.tif\n"
     ]
    },
    {
     "name": "stderr",
     "output_type": "stream",
     "text": [
      "Load image: 20.17 seconds.\n",
      "Crop patches: 0.00 seconds.\n",
      "No images are provided. Load instead.\n",
      "Not using image_cache.\n"
     ]
    },
    {
     "name": "stdout",
     "output_type": "stream",
     "text": [
      "/media/yuncong/BstemAtlasData/CSHL_data_processed/MD589/MD589_prep2_lossless/MD589-N51-2015.07.30-19.28.17_MD589_2_0152_prep2_lossless.tif\n"
     ]
    },
    {
     "name": "stderr",
     "output_type": "stream",
     "text": [
      "Load image: 21.06 seconds.\n",
      "Crop patches: 0.00 seconds.\n",
      "No images are provided. Load instead.\n",
      "Not using image_cache.\n"
     ]
    },
    {
     "name": "stdout",
     "output_type": "stream",
     "text": [
      "/media/yuncong/BstemAtlasData/CSHL_data_processed/MD589/MD589_prep2_lossless/MD589-N38-2015.07.30-18.36.50_MD589_1_0112_prep2_lossless.tif\n"
     ]
    },
    {
     "name": "stderr",
     "output_type": "stream",
     "text": [
      "Load image: 20.20 seconds.\n",
      "Crop patches: 0.00 seconds.\n",
      "No images are provided. Load instead.\n",
      "Not using image_cache.\n"
     ]
    },
    {
     "name": "stdout",
     "output_type": "stream",
     "text": [
      "/media/yuncong/BstemAtlasData/CSHL_data_processed/MD589/MD589_prep2_lossless/MD589-N56-2015.07.30-19.54.42_MD589_3_0168_prep2_lossless.tif\n"
     ]
    },
    {
     "name": "stderr",
     "output_type": "stream",
     "text": [
      "Load image: 19.94 seconds.\n",
      "Crop patches: 0.00 seconds.\n",
      "No images are provided. Load instead.\n",
      "Not using image_cache.\n"
     ]
    },
    {
     "name": "stdout",
     "output_type": "stream",
     "text": [
      "/media/yuncong/BstemAtlasData/CSHL_data_processed/MD589/MD589_prep2_lossless/MD589-IHC37-2015.07.30-23.50.39_MD589_2_0110_prep2_lossless.tif\n"
     ]
    },
    {
     "name": "stderr",
     "output_type": "stream",
     "text": [
      "Load image: 20.09 seconds.\n",
      "Crop patches: 0.00 seconds.\n",
      "No images are provided. Load instead.\n",
      "Not using image_cache.\n"
     ]
    },
    {
     "name": "stdout",
     "output_type": "stream",
     "text": [
      "/media/yuncong/BstemAtlasData/CSHL_data_processed/MD589/MD589_prep2_lossless/MD589-N56-2015.07.30-19.54.42_MD589_2_0167_prep2_lossless.tif\n"
     ]
    },
    {
     "name": "stderr",
     "output_type": "stream",
     "text": [
      "Load image: 20.73 seconds.\n",
      "Crop patches: 0.00 seconds.\n",
      "No images are provided. Load instead.\n",
      "Not using image_cache.\n"
     ]
    },
    {
     "name": "stdout",
     "output_type": "stream",
     "text": [
      "/media/yuncong/BstemAtlasData/CSHL_data_processed/MD589/MD589_prep2_lossless/MD589-N50-2015.07.30-19.24.13_MD589_2_0149_prep2_lossless.tif\n"
     ]
    },
    {
     "name": "stderr",
     "output_type": "stream",
     "text": [
      "Load image: 20.76 seconds.\n",
      "Crop patches: 0.00 seconds.\n",
      "No images are provided. Load instead.\n",
      "Not using image_cache.\n"
     ]
    },
    {
     "name": "stdout",
     "output_type": "stream",
     "text": [
      "# positive train = 682\n",
      "# negative train = 13045\n",
      "/media/yuncong/BstemAtlasData/CSHL_data_processed/MD589/MD589_prep2_lossless/MD589-IHC52-2015.07.31-00.52.41_MD589_1_0154_prep2_lossless.tif\n"
     ]
    },
    {
     "name": "stderr",
     "output_type": "stream",
     "text": [
      "Load image: 20.88 seconds.\n",
      "Crop patches: 0.00 seconds.\n",
      "No images are provided. Load instead.\n",
      "Not using image_cache.\n"
     ]
    },
    {
     "name": "stdout",
     "output_type": "stream",
     "text": [
      "/media/yuncong/BstemAtlasData/CSHL_data_processed/MD589/MD589_prep2_lossless/MD589-N50-2015.07.30-19.24.13_MD589_1_0148_prep2_lossless.tif\n"
     ]
    },
    {
     "name": "stderr",
     "output_type": "stream",
     "text": [
      "Load image: 19.75 seconds.\n",
      "Crop patches: 0.00 seconds.\n",
      "No images are provided. Load instead.\n",
      "Not using image_cache.\n"
     ]
    },
    {
     "name": "stdout",
     "output_type": "stream",
     "text": [
      "/media/yuncong/BstemAtlasData/CSHL_data_processed/MD589/MD589_prep2_lossless/MD589-IHC53-2015.07.31-00.58.06_MD589_3_0159_prep2_lossless.tif\n"
     ]
    },
    {
     "name": "stderr",
     "output_type": "stream",
     "text": [
      "Load image: 19.37 seconds.\n",
      "Crop patches: 0.00 seconds.\n",
      "No images are provided. Load instead.\n",
      "Not using image_cache.\n"
     ]
    },
    {
     "name": "stdout",
     "output_type": "stream",
     "text": [
      "/media/yuncong/BstemAtlasData/CSHL_data_processed/MD589/MD589_prep2_lossless/MD589-IHC49-2015.07.31-00.39.15_MD589_2_0146_prep2_lossless.tif\n"
     ]
    },
    {
     "name": "stderr",
     "output_type": "stream",
     "text": [
      "Load image: 19.77 seconds.\n",
      "Crop patches: 0.00 seconds.\n",
      "No images are provided. Load instead.\n",
      "Not using image_cache.\n"
     ]
    },
    {
     "name": "stdout",
     "output_type": "stream",
     "text": [
      "/media/yuncong/BstemAtlasData/CSHL_data_processed/MD589/MD589_prep2_lossless/MD589-N41-2015.07.30-18.48.44_MD589_2_0122_prep2_lossless.tif\n"
     ]
    },
    {
     "name": "stderr",
     "output_type": "stream",
     "text": [
      "Load image: 20.02 seconds.\n",
      "Crop patches: 0.00 seconds.\n",
      "No images are provided. Load instead.\n",
      "Not using image_cache.\n"
     ]
    },
    {
     "name": "stdout",
     "output_type": "stream",
     "text": [
      "/media/yuncong/BstemAtlasData/CSHL_data_processed/MD589/MD589_prep2_lossless/MD589-IHC38-2015.07.30-23.54.24_MD589_2_0113_prep2_lossless.tif\n"
     ]
    },
    {
     "name": "stderr",
     "output_type": "stream",
     "text": [
      "Load image: 21.00 seconds.\n",
      "Crop patches: 0.00 seconds.\n",
      "No images are provided. Load instead.\n",
      "Not using image_cache.\n"
     ]
    },
    {
     "name": "stdout",
     "output_type": "stream",
     "text": [
      "/media/yuncong/BstemAtlasData/CSHL_data_processed/MD589/MD589_prep2_lossless/MD589-IHC38-2015.07.30-23.54.24_MD589_1_0112_prep2_lossless.tif\n"
     ]
    },
    {
     "name": "stderr",
     "output_type": "stream",
     "text": [
      "Load image: 20.87 seconds.\n",
      "Crop patches: 0.00 seconds.\n",
      "No images are provided. Load instead.\n",
      "Not using image_cache.\n"
     ]
    },
    {
     "name": "stdout",
     "output_type": "stream",
     "text": [
      "/media/yuncong/BstemAtlasData/CSHL_data_processed/MD589/MD589_prep2_lossless/MD589-N40-2015.07.30-18.44.48_MD589_1_0118_prep2_lossless.tif\n"
     ]
    },
    {
     "name": "stderr",
     "output_type": "stream",
     "text": [
      "Load image: 21.91 seconds.\n",
      "Crop patches: 0.00 seconds.\n",
      "No images are provided. Load instead.\n",
      "Not using image_cache.\n"
     ]
    },
    {
     "name": "stdout",
     "output_type": "stream",
     "text": [
      "/media/yuncong/BstemAtlasData/CSHL_data_processed/MD589/MD589_prep2_lossless/MD589-IHC52-2015.07.31-00.52.41_MD589_2_0155_prep2_lossless.tif\n"
     ]
    },
    {
     "name": "stderr",
     "output_type": "stream",
     "text": [
      "Load image: 21.46 seconds.\n",
      "Crop patches: 0.00 seconds.\n",
      "No images are provided. Load instead.\n",
      "Not using image_cache.\n"
     ]
    },
    {
     "name": "stdout",
     "output_type": "stream",
     "text": [
      "/media/yuncong/BstemAtlasData/CSHL_data_processed/MD589/MD589_prep2_lossless/MD589-N37-2015.07.30-18.32.51_MD589_1_0109_prep2_lossless.tif\n"
     ]
    },
    {
     "name": "stderr",
     "output_type": "stream",
     "text": [
      "Load image: 21.95 seconds.\n",
      "Crop patches: 0.00 seconds.\n",
      "No images are provided. Load instead.\n",
      "Not using image_cache.\n"
     ]
    },
    {
     "name": "stdout",
     "output_type": "stream",
     "text": [
      "# positive train = 1819\n",
      "# negative train = 16778\n",
      "/media/yuncong/BstemAtlasData/CSHL_data_processed/MD589/MD589_prep2_lossless/MD589-IHC59-2015.07.31-01.26.55_MD589_1_0175_prep2_lossless.tif\n"
     ]
    },
    {
     "name": "stderr",
     "output_type": "stream",
     "text": [
      "Load image: 20.93 seconds.\n",
      "Crop patches: 0.00 seconds.\n",
      "No images are provided. Load instead.\n",
      "Not using image_cache.\n"
     ]
    },
    {
     "name": "stdout",
     "output_type": "stream",
     "text": [
      "/media/yuncong/BstemAtlasData/CSHL_data_processed/MD589/MD589_prep2_lossless/MD589-N59-2015.07.30-20.07.00_MD589_1_0175_prep2_lossless.tif\n"
     ]
    },
    {
     "name": "stderr",
     "output_type": "stream",
     "text": [
      "Load image: 20.39 seconds.\n",
      "Crop patches: 0.00 seconds.\n",
      "No images are provided. Load instead.\n",
      "Not using image_cache.\n"
     ]
    },
    {
     "name": "stdout",
     "output_type": "stream",
     "text": [
      "/media/yuncong/BstemAtlasData/CSHL_data_processed/MD589/MD589_prep2_lossless/MD589-N60-2015.07.30-20.11.20_MD589_3_0180_prep2_lossless.tif\n"
     ]
    },
    {
     "name": "stderr",
     "output_type": "stream",
     "text": [
      "Load image: 20.19 seconds.\n",
      "Crop patches: 0.00 seconds.\n",
      "No images are provided. Load instead.\n",
      "Not using image_cache.\n"
     ]
    },
    {
     "name": "stdout",
     "output_type": "stream",
     "text": [
      "/media/yuncong/BstemAtlasData/CSHL_data_processed/MD589/MD589_prep2_lossless/MD589-IHC23-2015.07.30-22.48.41_MD589_1_0067_prep2_lossless.tif\n"
     ]
    },
    {
     "name": "stderr",
     "output_type": "stream",
     "text": [
      "Load image: 19.67 seconds.\n",
      "Crop patches: 0.00 seconds.\n",
      "No images are provided. Load instead.\n",
      "Not using image_cache.\n"
     ]
    },
    {
     "name": "stdout",
     "output_type": "stream",
     "text": [
      "/media/yuncong/BstemAtlasData/CSHL_data_processed/MD589/MD589_prep2_lossless/MD589-IHC58-2015.07.31-01.22.39_MD589_1_0172_prep2_lossless.tif\n"
     ]
    },
    {
     "name": "stderr",
     "output_type": "stream",
     "text": [
      "Load image: 20.25 seconds.\n",
      "Crop patches: 0.00 seconds.\n",
      "No images are provided. Load instead.\n",
      "Not using image_cache.\n"
     ]
    },
    {
     "name": "stdout",
     "output_type": "stream",
     "text": [
      "/media/yuncong/BstemAtlasData/CSHL_data_processed/MD589/MD589_prep2_lossless/MD589-IHC26-2015.07.30-23.01.56_MD589_2_0077_prep2_lossless.tif\n"
     ]
    },
    {
     "name": "stderr",
     "output_type": "stream",
     "text": [
      "Load image: 19.66 seconds.\n",
      "Crop patches: 0.00 seconds.\n",
      "No images are provided. Load instead.\n",
      "Not using image_cache.\n"
     ]
    },
    {
     "name": "stdout",
     "output_type": "stream",
     "text": [
      "/media/yuncong/BstemAtlasData/CSHL_data_processed/MD589/MD589_prep2_lossless/MD589-N24-2015.07.30-17.35.51_MD589_3_0072_prep2_lossless.tif\n"
     ]
    },
    {
     "name": "stderr",
     "output_type": "stream",
     "text": [
      "Load image: 19.02 seconds.\n",
      "Crop patches: 0.00 seconds.\n",
      "No images are provided. Load instead.\n",
      "Not using image_cache.\n"
     ]
    },
    {
     "name": "stdout",
     "output_type": "stream",
     "text": [
      "/media/yuncong/BstemAtlasData/CSHL_data_processed/MD589/MD589_prep2_lossless/MD589-IHC57-2015.07.31-01.18.16_MD589_3_0171_prep2_lossless.tif\n"
     ]
    },
    {
     "name": "stderr",
     "output_type": "stream",
     "text": [
      "Load image: 19.02 seconds.\n",
      "Crop patches: 0.00 seconds.\n",
      "No images are provided. Load instead.\n",
      "Not using image_cache.\n"
     ]
    },
    {
     "name": "stdout",
     "output_type": "stream",
     "text": [
      "/media/yuncong/BstemAtlasData/CSHL_data_processed/MD589/MD589_prep2_lossless/MD589-N28-2015.07.30-17.53.43_MD589_1_0082_prep2_lossless.tif\n"
     ]
    },
    {
     "name": "stderr",
     "output_type": "stream",
     "text": [
      "Load image: 19.04 seconds.\n",
      "Crop patches: 0.00 seconds.\n",
      "No images are provided. Load instead.\n",
      "Not using image_cache.\n"
     ]
    },
    {
     "name": "stdout",
     "output_type": "stream",
     "text": [
      "/media/yuncong/BstemAtlasData/CSHL_data_processed/MD589/MD589_prep2_lossless/MD589-IHC26-2015.07.30-23.01.56_MD589_1_0076_prep2_lossless.tif\n"
     ]
    },
    {
     "name": "stderr",
     "output_type": "stream",
     "text": [
      "Load image: 18.46 seconds.\n",
      "Crop patches: 0.00 seconds.\n",
      "No images are provided. Load instead.\n",
      "Not using image_cache.\n"
     ]
    },
    {
     "name": "stdout",
     "output_type": "stream",
     "text": [
      "# positive train = 1003\n",
      "# negative train = 14528\n",
      "/media/yuncong/BstemAtlasData/CSHL_data_processed/MD589/MD589_prep2_lossless/MD589-IHC39-2015.07.30-23.58.27_MD589_1_0115_prep2_lossless.tif\n"
     ]
    },
    {
     "name": "stderr",
     "output_type": "stream",
     "text": [
      "Load image: 18.33 seconds.\n",
      "Crop patches: 0.00 seconds.\n",
      "No images are provided. Load instead.\n",
      "Not using image_cache.\n"
     ]
    },
    {
     "name": "stdout",
     "output_type": "stream",
     "text": [
      "/media/yuncong/BstemAtlasData/CSHL_data_processed/MD589/MD589_prep2_lossless/MD589-IHC51-2015.07.31-00.47.11_MD589_3_0153_prep2_lossless.tif\n"
     ]
    },
    {
     "name": "stderr",
     "output_type": "stream",
     "text": [
      "Load image: 19.55 seconds.\n",
      "Crop patches: 0.00 seconds.\n",
      "No images are provided. Load instead.\n",
      "Not using image_cache.\n"
     ]
    },
    {
     "name": "stdout",
     "output_type": "stream",
     "text": [
      "/media/yuncong/BstemAtlasData/CSHL_data_processed/MD589/MD589_prep2_lossless/MD589-IHC38-2015.07.30-23.54.24_MD589_2_0113_prep2_lossless.tif\n"
     ]
    },
    {
     "name": "stderr",
     "output_type": "stream",
     "text": [
      "Load image: 19.85 seconds.\n",
      "Crop patches: 0.00 seconds.\n",
      "No images are provided. Load instead.\n",
      "Not using image_cache.\n"
     ]
    },
    {
     "name": "stdout",
     "output_type": "stream",
     "text": [
      "/media/yuncong/BstemAtlasData/CSHL_data_processed/MD589/MD589_prep2_lossless/MD589-IHC35-2015.07.30-23.42.32_MD589_2_0104_prep2_lossless.tif\n"
     ]
    },
    {
     "name": "stderr",
     "output_type": "stream",
     "text": [
      "Load image: 19.24 seconds.\n",
      "Crop patches: 0.00 seconds.\n",
      "No images are provided. Load instead.\n",
      "Not using image_cache.\n"
     ]
    },
    {
     "name": "stdout",
     "output_type": "stream",
     "text": [
      "/media/yuncong/BstemAtlasData/CSHL_data_processed/MD589/MD589_prep2_lossless/MD589-N51-2015.07.30-19.28.17_MD589_2_0152_prep2_lossless.tif\n"
     ]
    },
    {
     "name": "stderr",
     "output_type": "stream",
     "text": [
      "Load image: 17.95 seconds.\n",
      "Crop patches: 0.00 seconds.\n",
      "No images are provided. Load instead.\n",
      "Not using image_cache.\n"
     ]
    },
    {
     "name": "stdout",
     "output_type": "stream",
     "text": [
      "/media/yuncong/BstemAtlasData/CSHL_data_processed/MD589/MD589_prep2_lossless/MD589-IHC48-2015.07.31-00.35.14_MD589_2_0143_prep2_lossless.tif\n"
     ]
    },
    {
     "name": "stderr",
     "output_type": "stream",
     "text": [
      "Load image: 18.06 seconds.\n",
      "Crop patches: 0.00 seconds.\n",
      "No images are provided. Load instead.\n",
      "Not using image_cache.\n"
     ]
    },
    {
     "name": "stdout",
     "output_type": "stream",
     "text": [
      "/media/yuncong/BstemAtlasData/CSHL_data_processed/MD589/MD589_prep2_lossless/MD589-N46-2015.07.30-19.08.29_MD589_1_0136_prep2_lossless.tif\n"
     ]
    },
    {
     "name": "stderr",
     "output_type": "stream",
     "text": [
      "Load image: 19.90 seconds.\n",
      "Crop patches: 0.00 seconds.\n",
      "No images are provided. Load instead.\n",
      "Not using image_cache.\n"
     ]
    },
    {
     "name": "stdout",
     "output_type": "stream",
     "text": [
      "/media/yuncong/BstemAtlasData/CSHL_data_processed/MD589/MD589_prep2_lossless/MD589-N35-2015.07.30-18.24.53_MD589_1_0103_prep2_lossless.tif\n"
     ]
    },
    {
     "name": "stderr",
     "output_type": "stream",
     "text": [
      "Load image: 19.28 seconds.\n",
      "Crop patches: 0.00 seconds.\n",
      "No images are provided. Load instead.\n",
      "Not using image_cache.\n"
     ]
    },
    {
     "name": "stdout",
     "output_type": "stream",
     "text": [
      "/media/yuncong/BstemAtlasData/CSHL_data_processed/MD589/MD589_prep2_lossless/MD589-IHC48-2015.07.31-00.35.14_MD589_1_0142_prep2_lossless.tif\n"
     ]
    },
    {
     "name": "stderr",
     "output_type": "stream",
     "text": [
      "Load image: 19.23 seconds.\n",
      "Crop patches: 0.00 seconds.\n",
      "No images are provided. Load instead.\n",
      "Not using image_cache.\n"
     ]
    },
    {
     "name": "stdout",
     "output_type": "stream",
     "text": [
      "/media/yuncong/BstemAtlasData/CSHL_data_processed/MD589/MD589_prep2_lossless/MD589-N40-2015.07.30-18.44.48_MD589_1_0118_prep2_lossless.tif\n"
     ]
    },
    {
     "name": "stderr",
     "output_type": "stream",
     "text": [
      "Load image: 17.85 seconds.\n",
      "Crop patches: 0.00 seconds.\n",
      "No images are provided. Load instead.\n",
      "Not using image_cache.\n"
     ]
    },
    {
     "name": "stdout",
     "output_type": "stream",
     "text": [
      "# positive train = 193\n",
      "# negative train = 14072\n",
      "/media/yuncong/BstemAtlasData/CSHL_data_processed/MD589/MD589_prep2_lossless/MD589-IHC59-2015.07.31-01.26.55_MD589_1_0175_prep2_lossless.tif\n"
     ]
    },
    {
     "name": "stderr",
     "output_type": "stream",
     "text": [
      "Load image: 17.72 seconds.\n",
      "Crop patches: 0.00 seconds.\n",
      "No images are provided. Load instead.\n",
      "Not using image_cache.\n"
     ]
    },
    {
     "name": "stdout",
     "output_type": "stream",
     "text": [
      "/media/yuncong/BstemAtlasData/CSHL_data_processed/MD589/MD589_prep2_lossless/MD589-N59-2015.07.30-20.07.00_MD589_1_0175_prep2_lossless.tif\n"
     ]
    },
    {
     "name": "stderr",
     "output_type": "stream",
     "text": [
      "Load image: 18.03 seconds.\n",
      "Crop patches: 0.00 seconds.\n",
      "No images are provided. Load instead.\n",
      "Not using image_cache.\n"
     ]
    },
    {
     "name": "stdout",
     "output_type": "stream",
     "text": [
      "/media/yuncong/BstemAtlasData/CSHL_data_processed/MD589/MD589_prep2_lossless/MD589-N58-2015.07.30-20.03.53_MD589_2_0173_prep2_lossless.tif\n"
     ]
    },
    {
     "name": "stderr",
     "output_type": "stream",
     "text": [
      "Load image: 17.74 seconds.\n",
      "Crop patches: 0.00 seconds.\n",
      "No images are provided. Load instead.\n",
      "Not using image_cache.\n"
     ]
    },
    {
     "name": "stdout",
     "output_type": "stream",
     "text": [
      "/media/yuncong/BstemAtlasData/CSHL_data_processed/MD589/MD589_prep2_lossless/MD589-N56-2015.07.30-19.54.42_MD589_3_0168_prep2_lossless.tif\n"
     ]
    },
    {
     "name": "stderr",
     "output_type": "stream",
     "text": [
      "Load image: 20.02 seconds.\n",
      "Crop patches: 0.00 seconds.\n",
      "No images are provided. Load instead.\n",
      "Not using image_cache.\n"
     ]
    },
    {
     "name": "stdout",
     "output_type": "stream",
     "text": [
      "/media/yuncong/BstemAtlasData/CSHL_data_processed/MD589/MD589_prep2_lossless/MD589-N58-2015.07.30-20.03.53_MD589_1_0172_prep2_lossless.tif\n"
     ]
    },
    {
     "name": "stderr",
     "output_type": "stream",
     "text": [
      "Load image: 19.07 seconds.\n",
      "Crop patches: 0.00 seconds.\n",
      "No images are provided. Load instead.\n",
      "Not using image_cache.\n"
     ]
    },
    {
     "name": "stdout",
     "output_type": "stream",
     "text": [
      "/media/yuncong/BstemAtlasData/CSHL_data_processed/MD589/MD589_prep2_lossless/MD589-N54-2015.07.30-19.44.32_MD589_3_0162_prep2_lossless.tif\n"
     ]
    },
    {
     "name": "stderr",
     "output_type": "stream",
     "text": [
      "Load image: 22.21 seconds.\n",
      "Crop patches: 0.00 seconds.\n",
      "No images are provided. Load instead.\n",
      "Not using image_cache.\n"
     ]
    },
    {
     "name": "stdout",
     "output_type": "stream",
     "text": [
      "/media/yuncong/BstemAtlasData/CSHL_data_processed/MD589/MD589_prep2_lossless/MD589-N26-2015.07.30-17.44.37_MD589_2_0077_prep2_lossless.tif\n"
     ]
    },
    {
     "name": "stderr",
     "output_type": "stream",
     "text": [
      "Load image: 18.70 seconds.\n",
      "Crop patches: 0.00 seconds.\n",
      "No images are provided. Load instead.\n",
      "Not using image_cache.\n"
     ]
    },
    {
     "name": "stdout",
     "output_type": "stream",
     "text": [
      "/media/yuncong/BstemAtlasData/CSHL_data_processed/MD589/MD589_prep2_lossless/MD589-N57-2015.07.30-19.59.14_MD589_3_0171_prep2_lossless.tif\n"
     ]
    },
    {
     "name": "stderr",
     "output_type": "stream",
     "text": [
      "Load image: 17.94 seconds.\n",
      "Crop patches: 0.00 seconds.\n",
      "No images are provided. Load instead.\n",
      "Not using image_cache.\n"
     ]
    },
    {
     "name": "stdout",
     "output_type": "stream",
     "text": [
      "/media/yuncong/BstemAtlasData/CSHL_data_processed/MD589/MD589_prep2_lossless/MD589-N26-2015.07.30-17.44.37_MD589_1_0076_prep2_lossless.tif\n"
     ]
    },
    {
     "name": "stderr",
     "output_type": "stream",
     "text": [
      "Load image: 19.78 seconds.\n",
      "Crop patches: 0.00 seconds.\n",
      "No images are provided. Load instead.\n",
      "Not using image_cache.\n"
     ]
    },
    {
     "name": "stdout",
     "output_type": "stream",
     "text": [
      "# positive train = 3886\n",
      "# negative train = 22348\n",
      "/media/yuncong/BstemAtlasData/CSHL_data_processed/MD589/MD589_prep2_lossless/MD589-IHC24-2015.07.30-22.52.55_MD589_1_0070_prep2_lossless.tif\n"
     ]
    },
    {
     "name": "stderr",
     "output_type": "stream",
     "text": [
      "Load image: 19.41 seconds.\n",
      "Crop patches: 0.00 seconds.\n",
      "No images are provided. Load instead.\n",
      "Not using image_cache.\n"
     ]
    },
    {
     "name": "stdout",
     "output_type": "stream",
     "text": [
      "/media/yuncong/BstemAtlasData/CSHL_data_processed/MD589/MD589_prep2_lossless/MD589-N27-2015.07.30-17.49.06_MD589_3_0081_prep2_lossless.tif\n"
     ]
    },
    {
     "name": "stderr",
     "output_type": "stream",
     "text": [
      "Load image: 18.42 seconds.\n",
      "Crop patches: 0.00 seconds.\n",
      "No images are provided. Load instead.\n",
      "Not using image_cache.\n"
     ]
    },
    {
     "name": "stdout",
     "output_type": "stream",
     "text": [
      "/media/yuncong/BstemAtlasData/CSHL_data_processed/MD589/MD589_prep2_lossless/MD589-IHC25-2015.07.30-22.57.23_MD589_3_0075_prep2_lossless.tif\n"
     ]
    },
    {
     "name": "stderr",
     "output_type": "stream",
     "text": [
      "Load image: 18.41 seconds.\n",
      "Crop patches: 0.00 seconds.\n",
      "No images are provided. Load instead.\n",
      "Not using image_cache.\n"
     ]
    },
    {
     "name": "stdout",
     "output_type": "stream",
     "text": [
      "/media/yuncong/BstemAtlasData/CSHL_data_processed/MD589/MD589_prep2_lossless/MD589-IHC53-2015.07.31-00.58.06_MD589_3_0159_prep2_lossless.tif\n"
     ]
    },
    {
     "name": "stderr",
     "output_type": "stream",
     "text": [
      "Load image: 19.35 seconds.\n",
      "Crop patches: 0.00 seconds.\n",
      "No images are provided. Load instead.\n",
      "Not using image_cache.\n"
     ]
    },
    {
     "name": "stdout",
     "output_type": "stream",
     "text": [
      "/media/yuncong/BstemAtlasData/CSHL_data_processed/MD589/MD589_prep2_lossless/MD589-N55-2015.07.30-19.49.42_MD589_1_0163_prep2_lossless.tif\n"
     ]
    },
    {
     "name": "stderr",
     "output_type": "stream",
     "text": [
      "Load image: 20.50 seconds.\n",
      "Crop patches: 0.00 seconds.\n",
      "No images are provided. Load instead.\n",
      "Not using image_cache.\n"
     ]
    },
    {
     "name": "stdout",
     "output_type": "stream",
     "text": [
      "/media/yuncong/BstemAtlasData/CSHL_data_processed/MD589/MD589_prep2_lossless/MD589-IHC58-2015.07.31-01.22.39_MD589_1_0172_prep2_lossless.tif\n"
     ]
    },
    {
     "name": "stderr",
     "output_type": "stream",
     "text": [
      "Load image: 20.80 seconds.\n",
      "Crop patches: 0.00 seconds.\n",
      "No images are provided. Load instead.\n",
      "Not using image_cache.\n"
     ]
    },
    {
     "name": "stdout",
     "output_type": "stream",
     "text": [
      "/media/yuncong/BstemAtlasData/CSHL_data_processed/MD589/MD589_prep2_lossless/MD589-N24-2015.07.30-17.35.51_MD589_3_0072_prep2_lossless.tif\n"
     ]
    },
    {
     "name": "stderr",
     "output_type": "stream",
     "text": [
      "Load image: 18.61 seconds.\n",
      "Crop patches: 0.00 seconds.\n",
      "No images are provided. Load instead.\n",
      "Not using image_cache.\n"
     ]
    },
    {
     "name": "stdout",
     "output_type": "stream",
     "text": [
      "/media/yuncong/BstemAtlasData/CSHL_data_processed/MD589/MD589_prep2_lossless/MD589-IHC61-2015.07.31-01.35.17_MD589_2_0182_prep2_lossless.tif\n"
     ]
    },
    {
     "name": "stderr",
     "output_type": "stream",
     "text": [
      "Load image: 17.86 seconds.\n",
      "Crop patches: 0.00 seconds.\n",
      "No images are provided. Load instead.\n",
      "Not using image_cache.\n"
     ]
    },
    {
     "name": "stdout",
     "output_type": "stream",
     "text": [
      "/media/yuncong/BstemAtlasData/CSHL_data_processed/MD589/MD589_prep2_lossless/MD589-IHC59-2015.07.31-01.26.55_MD589_2_0176_prep2_lossless.tif\n"
     ]
    },
    {
     "name": "stderr",
     "output_type": "stream",
     "text": [
      "Load image: 18.16 seconds.\n",
      "Crop patches: 0.00 seconds.\n",
      "No images are provided. Load instead.\n",
      "Not using image_cache.\n"
     ]
    },
    {
     "name": "stdout",
     "output_type": "stream",
     "text": [
      "# positive train = 820\n",
      "# negative train = 13967\n",
      "/media/yuncong/BstemAtlasData/CSHL_data_processed/MD589/MD589_prep2_lossless/MD589-IHC44-2015.07.31-00.18.50_MD589_2_0131_prep2_lossless.tif\n"
     ]
    },
    {
     "name": "stderr",
     "output_type": "stream",
     "text": [
      "Load image: 19.61 seconds.\n",
      "Crop patches: 0.00 seconds.\n",
      "No images are provided. Load instead.\n",
      "Not using image_cache.\n"
     ]
    },
    {
     "name": "stdout",
     "output_type": "stream",
     "text": [
      "/media/yuncong/BstemAtlasData/CSHL_data_processed/MD589/MD589_prep2_lossless/MD589-IHC44-2015.07.31-00.18.50_MD589_1_0130_prep2_lossless.tif\n"
     ]
    },
    {
     "name": "stderr",
     "output_type": "stream",
     "text": [
      "Load image: 19.11 seconds.\n",
      "Crop patches: 0.00 seconds.\n",
      "No images are provided. Load instead.\n",
      "Not using image_cache.\n"
     ]
    },
    {
     "name": "stdout",
     "output_type": "stream",
     "text": [
      "/media/yuncong/BstemAtlasData/CSHL_data_processed/MD589/MD589_prep2_lossless/MD589-N44-2015.07.30-19.00.35_MD589_1_0130_prep2_lossless.tif\n"
     ]
    },
    {
     "name": "stderr",
     "output_type": "stream",
     "text": [
      "Load image: 18.22 seconds.\n",
      "Crop patches: 0.00 seconds.\n",
      "No images are provided. Load instead.\n",
      "Not using image_cache.\n"
     ]
    },
    {
     "name": "stdout",
     "output_type": "stream",
     "text": [
      "/media/yuncong/BstemAtlasData/CSHL_data_processed/MD589/MD589_prep2_lossless/MD589-IHC43-2015.07.31-00.14.56_MD589_2_0128_prep2_lossless.tif\n"
     ]
    },
    {
     "name": "stderr",
     "output_type": "stream",
     "text": [
      "Load image: 18.14 seconds.\n",
      "Crop patches: 0.00 seconds.\n",
      "No images are provided. Load instead.\n",
      "Not using image_cache.\n"
     ]
    },
    {
     "name": "stdout",
     "output_type": "stream",
     "text": [
      "/media/yuncong/BstemAtlasData/CSHL_data_processed/MD589/MD589_prep2_lossless/MD589-N43-2015.07.30-18.56.33_MD589_2_0128_prep2_lossless.tif\n"
     ]
    },
    {
     "name": "stderr",
     "output_type": "stream",
     "text": [
      "Load image: 18.34 seconds.\n",
      "Crop patches: 0.00 seconds.\n",
      "No images are provided. Load instead.\n",
      "Not using image_cache.\n"
     ]
    },
    {
     "name": "stdout",
     "output_type": "stream",
     "text": [
      "/media/yuncong/BstemAtlasData/CSHL_data_processed/MD589/MD589_prep2_lossless/MD589-IHC43-2015.07.31-00.14.56_MD589_1_0127_prep2_lossless.tif\n"
     ]
    },
    {
     "name": "stderr",
     "output_type": "stream",
     "text": [
      "Load image: 21.08 seconds.\n",
      "Crop patches: 0.00 seconds.\n",
      "No images are provided. Load instead.\n",
      "Not using image_cache.\n"
     ]
    },
    {
     "name": "stdout",
     "output_type": "stream",
     "text": [
      "/media/yuncong/BstemAtlasData/CSHL_data_processed/MD589/MD589_prep2_lossless/MD589-N40-2015.07.30-18.44.48_MD589_2_0119_prep2_lossless.tif\n"
     ]
    },
    {
     "name": "stderr",
     "output_type": "stream",
     "text": [
      "Load image: 18.83 seconds.\n",
      "Crop patches: 0.00 seconds.\n",
      "No images are provided. Load instead.\n",
      "Not using image_cache.\n"
     ]
    },
    {
     "name": "stdout",
     "output_type": "stream",
     "text": [
      "/media/yuncong/BstemAtlasData/CSHL_data_processed/MD589/MD589_prep2_lossless/MD589-IHC45-2015.07.31-00.23.02_MD589_2_0134_prep2_lossless.tif\n"
     ]
    },
    {
     "name": "stderr",
     "output_type": "stream",
     "text": [
      "Load image: 18.23 seconds.\n",
      "Crop patches: 0.00 seconds.\n",
      "No images are provided. Load instead.\n",
      "Not using image_cache.\n"
     ]
    },
    {
     "name": "stdout",
     "output_type": "stream",
     "text": [
      "/media/yuncong/BstemAtlasData/CSHL_data_processed/MD589/MD589_prep2_lossless/MD589-N43-2015.07.30-18.56.33_MD589_1_0127_prep2_lossless.tif\n"
     ]
    },
    {
     "name": "stderr",
     "output_type": "stream",
     "text": [
      "Load image: 19.81 seconds.\n",
      "Crop patches: 0.00 seconds.\n",
      "No images are provided. Load instead.\n",
      "Not using image_cache.\n"
     ]
    },
    {
     "name": "stdout",
     "output_type": "stream",
     "text": [
      "/media/yuncong/BstemAtlasData/CSHL_data_processed/MD589/MD589_prep2_lossless/MD589-N45-2015.07.30-19.04.31_MD589_2_0134_prep2_lossless.tif\n",
      "# positive train = 39\n",
      "# negative train = 9156\n"
     ]
    },
    {
     "name": "stderr",
     "output_type": "stream",
     "text": [
      "Load image: 20.30 seconds.\n",
      "Crop patches: 0.00 seconds.\n"
     ]
    },
    {
     "ename": "ValueError",
     "evalue": "sample larger than population",
     "output_type": "error",
     "traceback": [
      "\u001b[0;31m---------------------------------------------------------------------------\u001b[0m",
      "\u001b[0;31mValueError\u001b[0m                                Traceback (most recent call last)",
      "\u001b[0;32m<ipython-input-17-2cc52e3de7c9>\u001b[0m in \u001b[0;36m<module>\u001b[0;34m()\u001b[0m\n\u001b[1;32m     98\u001b[0m         \u001b[0;32mprint\u001b[0m \u001b[0;34m'# negative train ='\u001b[0m\u001b[0;34m,\u001b[0m \u001b[0mlen\u001b[0m\u001b[0;34m(\u001b[0m\u001b[0mnegative_addresses_traindata\u001b[0m\u001b[0;34m)\u001b[0m\u001b[0;34m\u001b[0m\u001b[0m\n\u001b[1;32m     99\u001b[0m \u001b[0;34m\u001b[0m\u001b[0m\n\u001b[0;32m--> 100\u001b[0;31m         q =     extract_patches_given_locations_multiple_sections(addresses=random.sample(positive_addresses_traindata, 50),\n\u001b[0m\u001b[1;32m    101\u001b[0m                                                       \u001b[0mwin_id\u001b[0m\u001b[0;34m=\u001b[0m\u001b[0mwin_id\u001b[0m\u001b[0;34m,\u001b[0m \u001b[0mnormalization_scheme\u001b[0m\u001b[0;34m=\u001b[0m\u001b[0mtrain_scheme\u001b[0m\u001b[0;34m,\u001b[0m\u001b[0;34m\u001b[0m\u001b[0m\n\u001b[1;32m    102\u001b[0m                                                       location_or_grid_index='location')\n",
      "\u001b[0;32m/usr/lib/python2.7/random.pyc\u001b[0m in \u001b[0;36msample\u001b[0;34m(self, population, k)\u001b[0m\n\u001b[1;32m    321\u001b[0m         \u001b[0mn\u001b[0m \u001b[0;34m=\u001b[0m \u001b[0mlen\u001b[0m\u001b[0;34m(\u001b[0m\u001b[0mpopulation\u001b[0m\u001b[0;34m)\u001b[0m\u001b[0;34m\u001b[0m\u001b[0m\n\u001b[1;32m    322\u001b[0m         \u001b[0;32mif\u001b[0m \u001b[0;32mnot\u001b[0m \u001b[0;36m0\u001b[0m \u001b[0;34m<=\u001b[0m \u001b[0mk\u001b[0m \u001b[0;34m<=\u001b[0m \u001b[0mn\u001b[0m\u001b[0;34m:\u001b[0m\u001b[0;34m\u001b[0m\u001b[0m\n\u001b[0;32m--> 323\u001b[0;31m             \u001b[0;32mraise\u001b[0m \u001b[0mValueError\u001b[0m\u001b[0;34m(\u001b[0m\u001b[0;34m\"sample larger than population\"\u001b[0m\u001b[0;34m)\u001b[0m\u001b[0;34m\u001b[0m\u001b[0m\n\u001b[0m\u001b[1;32m    324\u001b[0m         \u001b[0mrandom\u001b[0m \u001b[0;34m=\u001b[0m \u001b[0mself\u001b[0m\u001b[0;34m.\u001b[0m\u001b[0mrandom\u001b[0m\u001b[0;34m\u001b[0m\u001b[0m\n\u001b[1;32m    325\u001b[0m         \u001b[0m_int\u001b[0m \u001b[0;34m=\u001b[0m \u001b[0mint\u001b[0m\u001b[0;34m\u001b[0m\u001b[0m\n",
      "\u001b[0;31mValueError\u001b[0m: sample larger than population"
     ]
    }
   ],
   "source": [
    "stacks = ['MD589', 'MD661']\n",
    "# test_stacks = ['MD635'] + all_alt_nissl_ntb_stacks + all_alt_nissl_tracing_stacks + 'ChatCryoJane201710'\n",
    "\n",
    "for stack in stacks:\n",
    "\n",
    "    stack_stain = {stack: 'N'}\n",
    "\n",
    "    # Number of sections on which to sample examples from.\n",
    "    stack_section_number = defaultdict(dict)\n",
    "\n",
    "    for name_u in all_known_structures:\n",
    "        stack_section_number[stack][name_u] = 10\n",
    "    #         if name_u == '4N' or name_u == '10N':\n",
    "    #             stack_section_number[st][name_u] = 20\n",
    "    #         else:\n",
    "    #             stack_section_number[st][name_u] = 10\n",
    "\n",
    "    stack_section_number.default_factory = None\n",
    "\n",
    "    \n",
    "    win_id = 7\n",
    "    \n",
    "    grid_indices_lookup_allStacks = {}\n",
    "\n",
    "\n",
    "    try:\n",
    "        \n",
    "        if stack in ['MD661']:        \n",
    "            grid_indices_lookup_allStacks[stack] = \\\n",
    "            DataManager.load_annotation_to_grid_indices_lookup(stack=stack, win_id=win_id,\n",
    "                                                               by_human=False, timestamp='latest',\n",
    "                                                               detector_id_f=1,\n",
    "                                                              return_locations=True)            \n",
    "        else:\n",
    "            grid_indices_lookup_allStacks[stack] = \\\n",
    "            DataManager.load_annotation_to_grid_indices_lookup(stack=stack, win_id=win_id,\n",
    "                                                               by_human=True, timestamp='latest',\n",
    "                                                              return_locations=True)            \n",
    "\n",
    "    except Exception as e:\n",
    "        print e\n",
    "        sys.stderr.write(\"Fail to load annotation grid lookup for %s.\\n\" % stack)\n",
    "        \n",
    "    from itertools import chain\n",
    "    all_labels = sorted(list(set(chain.from_iterable(set(grid_indices_lookup_allStacks[st].columns.tolist()) \n",
    "                                                 for st in [stack]))))\n",
    "    \n",
    "    def sample_addresses(stacks, structure):\n",
    "\n",
    "        positive_labels = [structure]\n",
    "        negative_labels = get_negative_labels(structure, 'neg_has_all_surround', \n",
    "                                              margin_um=500, labels_found=all_labels)\n",
    "\n",
    "        positive_addresses_all_stacks = {}\n",
    "        negative_addresses_all_stacks = {}\n",
    "\n",
    "        for stack in stacks:\n",
    "\n",
    "            candidate_sections = list(chain(*[grid_indices_lookup_allStacks[stack][pl].dropna(how='any').index.tolist() \n",
    "                                          for pl in positive_labels]))\n",
    "\n",
    "            n_sections = stack_section_number[stack][structure]\n",
    "\n",
    "            if stack_stain[stack] == 'F':\n",
    "                neurotrace_sections = []\n",
    "                nissl_sections = []\n",
    "                for sec in candidate_sections:\n",
    "                    if metadata_cache['sections_to_filenames'][stack][sec].split('-')[1][0] == 'F':\n",
    "                        neurotrace_sections.append(sec)\n",
    "                    else:\n",
    "                        nissl_sections.append(sec)\n",
    "                sampled_sections = np.random.choice(neurotrace_sections, min(len(neurotrace_sections), n_sections), replace=False)\n",
    "            else:\n",
    "                sampled_sections = np.random.choice(candidate_sections, min(len(candidate_sections), n_sections), replace=False)\n",
    "\n",
    "            positive_addresses_all_stacks[stack] = sorted([(stack, sec, tuple(loc))\n",
    "    for nl in set(positive_labels) & set(grid_indices_lookup_allStacks[stack].columns)\n",
    "      for sec, locs in grid_indices_lookup_allStacks[stack][nl].loc[sampled_sections].dropna().iteritems()\n",
    "      for loc in locs])\n",
    "\n",
    "            negative_addresses_all_stacks[stack] = sorted([(stack, sec, tuple(loc))\n",
    "    for nl in set(negative_labels) & set(grid_indices_lookup_allStacks[stack].columns)\n",
    "      for sec, locs in grid_indices_lookup_allStacks[stack][nl].loc[sampled_sections].dropna().iteritems()\n",
    "      for loc in locs])\n",
    "\n",
    "        positive_addresses = sum(positive_addresses_all_stacks.values(), [])\n",
    "        negative_addresses = sum(negative_addresses_all_stacks.values(), [])\n",
    "\n",
    "        del positive_addresses_all_stacks, negative_addresses_all_stacks\n",
    "\n",
    "        return positive_addresses, negative_addresses\n",
    "    \n",
    "    \n",
    "    import random\n",
    "\n",
    "    for structure in all_known_structures:\n",
    "        positive_addresses_traindata, negative_addresses_traindata = sample_addresses([stack], structure)\n",
    "\n",
    "        print '# positive train =', len(positive_addresses_traindata)\n",
    "        print '# negative train =', len(negative_addresses_traindata)\n",
    "\n",
    "        q = \\\n",
    "    extract_patches_given_locations_multiple_sections(addresses=random.sample(positive_addresses_traindata, min(50, len(positive_addresses_traindata))),\n",
    "                                                      win_id=win_id, normalization_scheme=train_scheme,\n",
    "                                                      location_or_grid_index='location')\n",
    "\n",
    "        export_fp = '/home/yuncong/training_examples/%s.png' % structure\n",
    "        create_parent_dir_if_not_exists(export_fp)\n",
    "\n",
    "        display_images_in_grids(q, nc=10, cmap=plt.cm.gray, vmin=0, vmax=255, export_fn=export_fp)\n",
    "    "
   ]
  },
  {
   "cell_type": "code",
   "execution_count": null,
   "metadata": {
    "collapsed": true
   },
   "outputs": [],
   "source": []
  }
 ],
 "metadata": {
  "kernelspec": {
   "display_name": "Python 2",
   "language": "python",
   "name": "python2"
  },
  "language_info": {
   "codemirror_mode": {
    "name": "ipython",
    "version": 2
   },
   "file_extension": ".py",
   "mimetype": "text/x-python",
   "name": "python",
   "nbconvert_exporter": "python",
   "pygments_lexer": "ipython2",
   "version": "2.7.12"
  }
 },
 "nbformat": 4,
 "nbformat_minor": 2
}
