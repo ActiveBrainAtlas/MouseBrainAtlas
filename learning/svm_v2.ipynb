{
 "cells": [
  {
   "cell_type": "code",
   "execution_count": 1,
   "metadata": {
    "collapsed": false
   },
   "outputs": [
    {
     "name": "stdout",
     "output_type": "stream",
     "text": [
      "Setting environment for Gordon\n"
     ]
    },
    {
     "name": "stderr",
     "output_type": "stream",
     "text": [
      "Cannot import mxnet.\n"
     ]
    }
   ],
   "source": [
    "%reload_ext autoreload\n",
    "%autoreload 2\n",
    "\n",
    "import os\n",
    "import argparse\n",
    "import sys\n",
    "import time\n",
    "import cv2\n",
    "\n",
    "from joblib import Parallel, delayed\n",
    "\n",
    "sys.path.append(os.path.join(os.environ['REPO_DIR'], 'utilities'))\n",
    "from utilities2015 import *\n",
    "from metadata import *\n",
    "from data_manager import *\n",
    "\n",
    "from matplotlib.path import Path\n",
    "%matplotlib inline\n",
    "\n",
    "import numpy as np\n",
    "\n",
    "from learning_utilities import *"
   ]
  },
  {
   "cell_type": "code",
   "execution_count": 2,
   "metadata": {
    "collapsed": true
   },
   "outputs": [],
   "source": [
    "from sklearn.svm import SVC\n",
    "from sklearn.externals import joblib"
   ]
  },
  {
   "cell_type": "code",
   "execution_count": 3,
   "metadata": {
    "collapsed": false
   },
   "outputs": [],
   "source": [
    "def convert_to_surround_name(name_u, suffix):\n",
    "    return name_u + '_surround_' + suffix"
   ]
  },
  {
   "cell_type": "code",
   "execution_count": 4,
   "metadata": {
    "collapsed": true
   },
   "outputs": [],
   "source": [
    "paired_structures = ['5N', '6N', '7N', '7n', 'Amb', 'LC', 'LRt', 'Pn', 'Tz', 'VLL', 'RMC', 'SNC', 'SNR', '3N', '4N',\n",
    "                    'Sp5I', 'Sp5O', 'Sp5C', 'PBG', '10N', 'VCA', 'VCP', 'DC']\n",
    "singular_structures = ['AP', '12N', 'RtTg', 'SC', 'IC']\n",
    "structures = paired_structures + singular_structures"
   ]
  },
  {
   "cell_type": "code",
   "execution_count": 5,
   "metadata": {
    "collapsed": false
   },
   "outputs": [],
   "source": [
    "# structures = ['7N', '12N']\n",
    "# labels_to_sample = structures + map(convert_to_surround_name, structures)\n",
    "labels_to_sample = structures + [convert_to_surround_name(l, surr_l) for l in structures for surr_l in structures + ['noclass'] if surr_l not in l]"
   ]
  },
  {
   "cell_type": "code",
   "execution_count": null,
   "metadata": {
    "collapsed": true
   },
   "outputs": [],
   "source": []
  },
  {
   "cell_type": "code",
   "execution_count": 6,
   "metadata": {
    "collapsed": false
   },
   "outputs": [
    {
     "name": "stderr",
     "output_type": "stream",
     "text": [
      "Cell is empty.\n",
      "Cell is empty.\n",
      "Cell is empty.\n",
      "Cell is empty.\n",
      "Cell is empty.\n",
      "Cell is empty.\n",
      "Cell is empty.\n",
      "Cell is empty.\n",
      "Cell is empty.\n",
      "Cell is empty.\n"
     ]
    }
   ],
   "source": [
    "training_addresses = defaultdict(list)\n",
    "\n",
    "labels = set([])\n",
    "\n",
    "for stack in ['MD589', 'MD585', 'MD594']:\n",
    "    annotation_grid_indices_fn = '/home/yuncong/csd395/CSHL_labelings_v3/%(stack)s/%(stack)s_annotation_grid_indices.h5' % dict(stack=stack)\n",
    "    label_gridIndices = read_hdf(annotation_grid_indices_fn, 'grid_indices')\n",
    "    \n",
    "    labels_this_stack = set(label_gridIndices.index) & set(labels_to_sample)\n",
    "    labels = labels | labels_this_stack\n",
    "    \n",
    "    training_addresses_sec_idx = sample_locations(label_gridIndices, labels_this_stack, num_samples_per_landmark=1000)\n",
    "    \n",
    "    for name_u, addresses in training_addresses_sec_idx.iteritems():\n",
    "        training_addresses[name_u] += [(stack, ) + addr for addr in addresses]\n",
    "        \n",
    "training_addresses.default_factory = None\n",
    "        \n",
    "# sampled_addresses = {name_u: np.array(addresses) for name_u, addresses in sampled_addresses.iteritems()}"
   ]
  },
  {
   "cell_type": "code",
   "execution_count": 65,
   "metadata": {
    "collapsed": true
   },
   "outputs": [],
   "source": [
    "# See if we can use location on image frame as feature\n",
    "\n",
    "# def addresses_to_locations(addresses):\n",
    "    \n",
    "#     key_func = lambda (i, (st, se, idx)): st\n",
    "    \n",
    "#     locations = []\n",
    "    \n",
    "#     for stack, group in groupby(sorted(enumerate(addresses), key=key_func), key=key_func):\n",
    "#         sample_locations = grid_parameters_to_sample_locations(get_default_gridspec(stack))\n",
    "#         for i, (st, se, idx) in group:\n",
    "#             locations.append((i, sample_locations[idx]))\n",
    "    \n",
    "#     return [loc for i, loc in sorted(locations)]"
   ]
  },
  {
   "cell_type": "code",
   "execution_count": 66,
   "metadata": {
    "collapsed": false
   },
   "outputs": [],
   "source": [
    "# locations = np.array(addresses_to_locations(training_addresses['10N']))\n",
    "\n",
    "# plt.scatter(locations[:,0], locations[:,1]);\n",
    "# plt.xlim([0, 15000]);\n",
    "# plt.ylim([0, 12000]);"
   ]
  },
  {
   "cell_type": "code",
   "execution_count": 26,
   "metadata": {
    "collapsed": false,
    "scrolled": true
   },
   "outputs": [
    {
     "name": "stdout",
     "output_type": "stream",
     "text": [
      "('MD585', 83)\n",
      "('MD585', 84)\n",
      "('MD585', 85)\n",
      "('MD585', 86)\n",
      "('MD585', 87)\n",
      "('MD585', 88)\n",
      "('MD585', 89)\n",
      "('MD585', 90)\n",
      "('MD585', 91)\n",
      "('MD585', 92)\n",
      "('MD585', 93)\n",
      "('MD585', 94)\n",
      "('MD585', 95)\n",
      "('MD585', 96)\n",
      "('MD585', 97)\n",
      "('MD585', 98)\n",
      "('MD585', 99)\n",
      "('MD585', 100)\n",
      "('MD585', 101)\n",
      "('MD585', 102)\n",
      "('MD585', 103)\n",
      "('MD585', 104)\n",
      "('MD585', 105)\n",
      "('MD585', 106)\n",
      "('MD585', 107)\n",
      "('MD585', 108)\n",
      "('MD585', 109)\n",
      "('MD585', 110)\n",
      "('MD585', 111)\n",
      "('MD585', 112)\n",
      "('MD585', 113)\n",
      "('MD585', 114)\n",
      "('MD585', 115)\n",
      "('MD585', 116)\n",
      "('MD585', 117)\n",
      "('MD585', 119)\n",
      "('MD585', 120)\n",
      "('MD585', 121)\n",
      "('MD585', 122)\n",
      "('MD585', 123)\n",
      "('MD585', 124)\n",
      "('MD585', 125)\n",
      "('MD585', 126)\n",
      "('MD585', 127)\n",
      "('MD585', 128)\n",
      "('MD585', 129)\n",
      "('MD585', 130)\n",
      "('MD585', 131)\n",
      "('MD585', 132)\n",
      "('MD585', 133)\n",
      "('MD585', 134)\n",
      "('MD585', 135)\n",
      "('MD585', 136)\n",
      "('MD585', 137)\n",
      "('MD585', 138)\n",
      "('MD585', 139)\n"
     ]
    },
    {
     "name": "stderr",
     "output_type": "stream",
     "text": [
      "Patch in annotation but not in mask: MD585 139 MD585-N26-2015.08.19-15.37.53_MD585_1_0076 alignedTo MD585-N47-2015.07.16-22.50.52_MD585_3_0141 @53782\n"
     ]
    },
    {
     "name": "stdout",
     "output_type": "stream",
     "text": [
      "('MD585', 140)\n",
      "('MD585', 141)\n",
      "('MD585', 142)\n",
      "('MD585', 143)\n",
      "('MD585', 144)\n",
      "('MD585', 145)\n",
      "('MD585', 146)\n",
      "('MD585', 147)\n",
      "('MD585', 148)\n",
      "('MD585', 149)\n",
      "('MD585', 150)\n",
      "('MD585', 151)\n"
     ]
    },
    {
     "name": "stderr",
     "output_type": "stream",
     "text": [
      "Patch in annotation but not in mask: MD585 151 MD585-N28-2015.08.19-15.47.09_MD585_1_0082 alignedTo MD585-N47-2015.07.16-22.50.52_MD585_3_0141 @53343\n",
      "Patch in annotation but not in mask: MD585 151 MD585-N28-2015.08.19-15.47.09_MD585_1_0082 alignedTo MD585-N47-2015.07.16-22.50.52_MD585_3_0141 @50392\n",
      "Patch in annotation but not in mask: MD585 151 MD585-N28-2015.08.19-15.47.09_MD585_1_0082 alignedTo MD585-N47-2015.07.16-22.50.52_MD585_3_0141 @52722\n",
      "Patch in annotation but not in mask: MD585 151 MD585-N28-2015.08.19-15.47.09_MD585_1_0082 alignedTo MD585-N47-2015.07.16-22.50.52_MD585_3_0141 @52522\n",
      "Patch in annotation but not in mask: MD585 151 MD585-N28-2015.08.19-15.47.09_MD585_1_0082 alignedTo MD585-N47-2015.07.16-22.50.52_MD585_3_0141 @55056\n",
      "Patch in annotation but not in mask: MD585 151 MD585-N28-2015.08.19-15.47.09_MD585_1_0082 alignedTo MD585-N47-2015.07.16-22.50.52_MD585_3_0141 @55259\n",
      "Patch in annotation but not in mask: MD585 151 MD585-N28-2015.08.19-15.47.09_MD585_1_0082 alignedTo MD585-N47-2015.07.16-22.50.52_MD585_3_0141 @52706\n",
      "Patch in annotation but not in mask: MD585 151 MD585-N28-2015.08.19-15.47.09_MD585_1_0082 alignedTo MD585-N47-2015.07.16-22.50.52_MD585_3_0141 @52094\n",
      "Patch in annotation but not in mask: MD585 151 MD585-N28-2015.08.19-15.47.09_MD585_1_0082 alignedTo MD585-N47-2015.07.16-22.50.52_MD585_3_0141 @51663\n",
      "Patch in annotation but not in mask: MD585 151 MD585-N28-2015.08.19-15.47.09_MD585_1_0082 alignedTo MD585-N47-2015.07.16-22.50.52_MD585_3_0141 @51037\n",
      "Patch in annotation but not in mask: MD585 151 MD585-N28-2015.08.19-15.47.09_MD585_1_0082 alignedTo MD585-N47-2015.07.16-22.50.52_MD585_3_0141 @55043\n",
      "Patch in annotation but not in mask: MD585 151 MD585-N28-2015.08.19-15.47.09_MD585_1_0082 alignedTo MD585-N47-2015.07.16-22.50.52_MD585_3_0141 @50178\n",
      "Patch in annotation but not in mask: MD585 151 MD585-N28-2015.08.19-15.47.09_MD585_1_0082 alignedTo MD585-N47-2015.07.16-22.50.52_MD585_3_0141 @55892\n",
      "Patch in annotation but not in mask: MD585 151 MD585-N28-2015.08.19-15.47.09_MD585_1_0082 alignedTo MD585-N47-2015.07.16-22.50.52_MD585_3_0141 @53557\n",
      "Patch in annotation but not in mask: MD585 151 MD585-N28-2015.08.19-15.47.09_MD585_1_0082 alignedTo MD585-N47-2015.07.16-22.50.52_MD585_3_0141 @54195\n",
      "Patch in annotation but not in mask: MD585 151 MD585-N28-2015.08.19-15.47.09_MD585_1_0082 alignedTo MD585-N47-2015.07.16-22.50.52_MD585_3_0141 @51018\n",
      "Patch in annotation but not in mask: MD585 151 MD585-N28-2015.08.19-15.47.09_MD585_1_0082 alignedTo MD585-N47-2015.07.16-22.50.52_MD585_3_0141 @52930\n",
      "Patch in annotation but not in mask: MD585 151 MD585-N28-2015.08.19-15.47.09_MD585_1_0082 alignedTo MD585-N47-2015.07.16-22.50.52_MD585_3_0141 @52071\n",
      "Patch in annotation but not in mask: MD585 151 MD585-N28-2015.08.19-15.47.09_MD585_1_0082 alignedTo MD585-N47-2015.07.16-22.50.52_MD585_3_0141 @53796\n",
      "Patch in annotation but not in mask: MD585 151 MD585-N28-2015.08.19-15.47.09_MD585_1_0082 alignedTo MD585-N47-2015.07.16-22.50.52_MD585_3_0141 @55262\n",
      "Patch in annotation but not in mask: MD585 151 MD585-N28-2015.08.19-15.47.09_MD585_1_0082 alignedTo MD585-N47-2015.07.16-22.50.52_MD585_3_0141 @50375\n",
      "Patch in annotation but not in mask: MD585 151 MD585-N28-2015.08.19-15.47.09_MD585_1_0082 alignedTo MD585-N47-2015.07.16-22.50.52_MD585_3_0141 @54211\n",
      "Patch in annotation but not in mask: MD585 151 MD585-N28-2015.08.19-15.47.09_MD585_1_0082 alignedTo MD585-N47-2015.07.16-22.50.52_MD585_3_0141 @49536\n",
      "Patch in annotation but not in mask: MD585 151 MD585-N28-2015.08.19-15.47.09_MD585_1_0082 alignedTo MD585-N47-2015.07.16-22.50.52_MD585_3_0141 @54844\n",
      "Patch in annotation but not in mask: MD585 151 MD585-N28-2015.08.19-15.47.09_MD585_1_0082 alignedTo MD585-N47-2015.07.16-22.50.52_MD585_3_0141 @53986\n",
      "Patch in annotation but not in mask: MD585 151 MD585-N28-2015.08.19-15.47.09_MD585_1_0082 alignedTo MD585-N47-2015.07.16-22.50.52_MD585_3_0141 @53587\n",
      "Patch in annotation but not in mask: MD585 151 MD585-N28-2015.08.19-15.47.09_MD585_1_0082 alignedTo MD585-N47-2015.07.16-22.50.52_MD585_3_0141 @54640\n",
      "Patch in annotation but not in mask: MD585 151 MD585-N28-2015.08.19-15.47.09_MD585_1_0082 alignedTo MD585-N47-2015.07.16-22.50.52_MD585_3_0141 @53375\n"
     ]
    },
    {
     "name": "stdout",
     "output_type": "stream",
     "text": [
      "('MD585', 152)\n",
      "('MD585', 153)\n",
      "('MD585', 154)\n",
      "('MD585', 155)\n",
      "('MD585', 156)\n",
      "('MD585', 157)\n",
      "('MD585', 158)\n",
      "('MD585', 159)\n",
      "('MD585', 160)\n",
      "('MD585', 161)\n",
      "('MD585', 162)\n",
      "('MD585', 163)\n",
      "('MD585', 164)\n",
      "('MD585', 165)\n",
      "('MD585', 166)\n",
      "('MD585', 167)\n",
      "('MD585', 168)\n",
      "('MD585', 169)\n",
      "('MD585', 170)\n",
      "('MD585', 171)\n",
      "('MD585', 172)\n",
      "('MD585', 173)\n",
      "('MD585', 174)\n",
      "('MD585', 175)\n",
      "('MD585', 176)\n",
      "('MD585', 177)\n",
      "('MD585', 178)\n",
      "('MD585', 179)\n",
      "('MD585', 180)\n",
      "('MD585', 181)\n",
      "('MD585', 182)\n",
      "('MD585', 183)\n",
      "('MD585', 184)\n",
      "('MD585', 185)\n",
      "('MD585', 186)\n",
      "('MD585', 187)\n",
      "('MD585', 188)\n",
      "('MD585', 189)\n",
      "('MD585', 190)\n",
      "('MD585', 191)\n",
      "('MD585', 192)\n",
      "('MD585', 193)\n",
      "('MD585', 194)\n",
      "('MD585', 195)\n",
      "('MD585', 196)\n",
      "('MD585', 197)\n",
      "('MD585', 198)\n",
      "('MD585', 199)\n",
      "('MD585', 200)\n",
      "('MD585', 201)\n",
      "('MD585', 202)\n",
      "('MD585', 203)\n",
      "('MD585', 204)\n",
      "('MD585', 205)\n",
      "('MD585', 206)\n",
      "('MD585', 207)\n",
      "('MD585', 208)\n",
      "('MD585', 209)\n",
      "('MD585', 210)\n",
      "('MD585', 211)\n",
      "('MD585', 212)\n",
      "('MD585', 213)\n",
      "('MD585', 214)\n",
      "('MD585', 215)\n",
      "('MD585', 216)\n",
      "('MD585', 217)\n",
      "('MD585', 218)\n",
      "('MD585', 219)\n",
      "('MD585', 220)\n",
      "('MD585', 221)\n",
      "('MD585', 222)\n",
      "('MD585', 223)\n",
      "('MD585', 224)\n",
      "('MD585', 225)\n"
     ]
    },
    {
     "name": "stderr",
     "output_type": "stream",
     "text": [
      "Patch in annotation but not in mask: MD585 225 MD585-N40-2015.07.16-22.14.28_MD585_2_0119 alignedTo MD585-N47-2015.07.16-22.50.52_MD585_3_0141 @25762\n"
     ]
    },
    {
     "name": "stdout",
     "output_type": "stream",
     "text": [
      "('MD585', 226)\n",
      "('MD585', 227)\n",
      "('MD585', 228)\n",
      "('MD585', 229)\n",
      "('MD585', 230)\n",
      "('MD585', 231)\n",
      "('MD585', 232)\n",
      "('MD585', 233)\n",
      "('MD585', 234)\n",
      "('MD585', 235)\n",
      "('MD585', 236)\n",
      "('MD585', 237)\n",
      "('MD585', 238)\n",
      "('MD585', 239)\n",
      "('MD585', 240)\n",
      "('MD585', 241)\n",
      "('MD585', 242)\n",
      "('MD585', 243)\n",
      "('MD585', 244)\n",
      "('MD585', 245)\n",
      "('MD585', 246)\n",
      "('MD585', 247)\n",
      "('MD585', 248)\n",
      "('MD585', 249)\n",
      "('MD585', 250)\n",
      "('MD585', 251)\n",
      "('MD585', 252)\n",
      "('MD585', 253)\n",
      "('MD585', 254)\n",
      "('MD585', 255)\n",
      "('MD585', 256)\n",
      "('MD585', 257)\n",
      "('MD585', 258)\n",
      "('MD585', 259)\n",
      "('MD585', 260)\n",
      "('MD585', 261)\n",
      "('MD585', 262)\n",
      "('MD585', 263)\n",
      "('MD585', 264)\n",
      "('MD585', 265)\n",
      "('MD585', 266)\n",
      "('MD585', 267)\n",
      "('MD585', 269)\n",
      "('MD585', 270)\n",
      "('MD585', 271)\n",
      "('MD585', 272)\n",
      "('MD585', 273)\n",
      "('MD585', 274)\n",
      "('MD585', 275)\n",
      "('MD585', 276)\n",
      "('MD585', 277)\n",
      "('MD585', 278)\n",
      "('MD585', 279)\n",
      "('MD585', 280)\n",
      "('MD585', 281)\n",
      "('MD585', 282)\n",
      "('MD585', 283)\n",
      "('MD585', 284)\n",
      "('MD585', 285)\n",
      "('MD585', 286)\n",
      "('MD585', 287)\n",
      "('MD585', 288)\n",
      "('MD585', 289)\n",
      "('MD585', 290)\n",
      "('MD585', 291)\n",
      "('MD585', 292)\n",
      "('MD585', 293)\n",
      "('MD585', 294)\n",
      "('MD585', 295)\n",
      "('MD585', 296)\n",
      "('MD585', 297)\n",
      "('MD585', 298)\n",
      "('MD585', 300)\n",
      "('MD585', 301)\n",
      "('MD585', 302)\n",
      "('MD585', 303)\n",
      "('MD585', 304)\n",
      "('MD585', 305)\n",
      "('MD585', 306)\n",
      "('MD585', 307)\n",
      "('MD585', 308)\n",
      "('MD585', 309)\n",
      "('MD585', 310)\n",
      "('MD585', 311)\n",
      "('MD585', 312)\n",
      "('MD585', 313)\n",
      "('MD585', 314)\n",
      "('MD585', 315)\n",
      "('MD585', 316)\n",
      "('MD585', 317)\n",
      "('MD585', 318)\n",
      "('MD585', 319)\n",
      "('MD585', 320)\n",
      "('MD585', 321)\n",
      "('MD585', 322)\n",
      "('MD585', 323)\n",
      "('MD585', 324)\n",
      "('MD585', 325)\n",
      "('MD585', 326)\n",
      "('MD585', 327)\n",
      "('MD585', 328)\n",
      "('MD585', 329)\n",
      "('MD585', 330)\n",
      "('MD585', 331)\n",
      "('MD585', 332)\n",
      "('MD585', 333)\n",
      "('MD585', 334)\n",
      "('MD585', 335)\n",
      "('MD585', 336)\n",
      "('MD585', 337)\n",
      "('MD585', 338)\n",
      "('MD585', 339)\n",
      "('MD585', 340)\n",
      "('MD585', 341)\n",
      "('MD585', 342)\n",
      "('MD585', 343)\n",
      "('MD585', 344)\n",
      "('MD585', 345)\n",
      "('MD585', 346)\n",
      "('MD585', 347)\n",
      "('MD585', 348)\n",
      "('MD585', 349)\n",
      "('MD585', 350)\n",
      "('MD589', 96)\n",
      "('MD589', 97)\n",
      "('MD589', 98)\n",
      "('MD589', 99)\n",
      "('MD589', 100)\n",
      "('MD589', 101)\n",
      "('MD589', 102)\n",
      "('MD589', 103)\n",
      "('MD589', 104)\n",
      "('MD589', 105)\n",
      "('MD589', 106)\n",
      "('MD589', 107)\n",
      "('MD589', 108)\n",
      "('MD589', 109)\n",
      "('MD589', 110)\n",
      "('MD589', 111)\n",
      "('MD589', 112)\n",
      "('MD589', 113)\n",
      "('MD589', 114)\n",
      "('MD589', 115)\n",
      "('MD589', 116)\n",
      "('MD589', 117)\n",
      "('MD589', 119)\n",
      "('MD589', 120)\n",
      "('MD589', 121)\n",
      "('MD589', 122)\n",
      "('MD589', 123)\n",
      "('MD589', 124)\n",
      "('MD589', 125)\n",
      "('MD589', 126)\n",
      "('MD589', 127)\n",
      "('MD589', 128)\n",
      "('MD589', 129)\n",
      "('MD589', 130)\n",
      "('MD589', 131)\n",
      "('MD589', 132)\n",
      "('MD589', 133)\n",
      "('MD589', 134)\n",
      "('MD589', 135)\n",
      "('MD589', 136)\n",
      "('MD589', 137)\n",
      "('MD589', 138)\n",
      "('MD589', 139)\n",
      "('MD589', 140)\n",
      "('MD589', 141)\n",
      "('MD589', 142)\n",
      "('MD589', 143)\n",
      "('MD589', 144)\n",
      "('MD589', 145)\n",
      "('MD589', 146)\n",
      "('MD589', 147)\n",
      "('MD589', 148)\n",
      "('MD589', 149)\n",
      "('MD589', 150)\n",
      "('MD589', 151)\n",
      "('MD589', 152)\n",
      "('MD589', 153)\n",
      "('MD589', 154)\n",
      "('MD589', 155)\n",
      "('MD589', 156)\n",
      "('MD589', 157)\n",
      "('MD589', 158)\n",
      "('MD589', 159)\n",
      "('MD589', 160)\n",
      "('MD589', 161)\n",
      "('MD589', 162)\n",
      "('MD589', 163)\n",
      "('MD589', 164)\n",
      "('MD589', 165)\n",
      "('MD589', 166)\n",
      "('MD589', 167)\n",
      "('MD589', 168)\n",
      "('MD589', 169)\n",
      "('MD589', 170)\n",
      "('MD589', 171)\n",
      "('MD589', 172)\n",
      "('MD589', 173)\n",
      "('MD589', 174)\n",
      "('MD589', 175)\n",
      "('MD589', 176)\n",
      "('MD589', 177)\n",
      "('MD589', 178)\n",
      "('MD589', 179)\n",
      "('MD589', 180)\n",
      "('MD589', 181)\n",
      "('MD589', 182)\n",
      "('MD589', 183)\n",
      "('MD589', 184)\n",
      "('MD589', 185)\n",
      "('MD589', 186)\n",
      "('MD589', 187)\n",
      "('MD589', 188)\n",
      "('MD589', 189)\n",
      "('MD589', 190)\n",
      "('MD589', 191)\n",
      "('MD589', 192)\n",
      "('MD589', 193)\n",
      "('MD589', 194)\n",
      "('MD589', 195)\n",
      "('MD589', 196)\n",
      "('MD589', 197)\n",
      "('MD589', 198)\n",
      "('MD589', 199)\n",
      "('MD589', 200)\n",
      "('MD589', 201)\n",
      "('MD589', 202)\n",
      "('MD589', 203)\n",
      "('MD589', 204)\n",
      "('MD589', 205)\n",
      "('MD589', 206)\n",
      "('MD589', 207)\n",
      "('MD589', 208)\n",
      "('MD589', 209)\n",
      "('MD589', 210)\n",
      "('MD589', 211)\n",
      "('MD589', 212)\n",
      "('MD589', 213)\n",
      "('MD589', 214)\n",
      "('MD589', 215)\n",
      "('MD589', 216)\n",
      "('MD589', 217)\n",
      "('MD589', 218)\n",
      "('MD589', 219)\n",
      "('MD589', 220)\n",
      "('MD589', 222)\n",
      "('MD589', 223)\n",
      "('MD589', 224)\n",
      "('MD589', 225)\n",
      "('MD589', 226)\n",
      "('MD589', 227)\n",
      "('MD589', 228)\n",
      "('MD589', 229)\n",
      "('MD589', 230)\n",
      "('MD589', 231)\n",
      "('MD589', 232)\n",
      "('MD589', 233)\n",
      "('MD589', 234)\n",
      "('MD589', 235)\n",
      "('MD589', 236)\n",
      "('MD589', 237)\n",
      "('MD589', 238)\n",
      "('MD589', 239)\n",
      "('MD589', 240)\n",
      "('MD589', 241)\n",
      "('MD589', 242)\n",
      "('MD589', 243)\n",
      "('MD589', 244)\n",
      "('MD589', 245)\n",
      "('MD589', 246)\n",
      "('MD589', 247)\n",
      "('MD589', 248)\n",
      "('MD589', 249)\n",
      "('MD589', 250)\n",
      "('MD589', 251)\n",
      "('MD589', 252)\n",
      "('MD589', 253)\n",
      "('MD589', 254)\n",
      "('MD589', 255)\n",
      "('MD589', 256)\n",
      "('MD589', 257)\n",
      "('MD589', 258)\n",
      "('MD589', 259)\n",
      "('MD589', 260)\n",
      "('MD589', 261)\n",
      "('MD589', 262)\n",
      "('MD589', 263)\n",
      "('MD589', 264)\n",
      "('MD589', 265)\n",
      "('MD589', 266)\n",
      "('MD589', 267)\n",
      "('MD589', 268)\n",
      "('MD589', 269)\n",
      "('MD589', 270)\n",
      "('MD589', 271)\n",
      "('MD589', 272)\n",
      "('MD589', 273)\n",
      "('MD589', 274)\n",
      "('MD589', 275)\n",
      "('MD589', 276)\n",
      "('MD589', 277)\n",
      "('MD589', 278)\n",
      "('MD589', 279)\n",
      "('MD589', 280)\n",
      "('MD589', 281)\n",
      "('MD589', 282)\n",
      "('MD589', 283)\n",
      "('MD589', 284)\n",
      "('MD589', 285)\n",
      "('MD589', 286)\n",
      "('MD589', 287)\n",
      "('MD589', 288)\n",
      "('MD589', 289)\n",
      "('MD589', 290)\n",
      "('MD589', 291)\n",
      "('MD589', 292)\n",
      "('MD589', 293)\n",
      "('MD589', 294)\n",
      "('MD589', 295)\n",
      "('MD589', 296)\n",
      "('MD589', 297)\n",
      "('MD589', 298)\n",
      "('MD589', 299)\n",
      "('MD589', 301)\n",
      "('MD589', 302)\n",
      "('MD589', 303)\n",
      "('MD589', 304)\n",
      "('MD589', 305)\n",
      "('MD589', 306)\n",
      "('MD589', 307)\n",
      "('MD589', 308)\n",
      "('MD589', 309)\n",
      "('MD589', 310)\n",
      "('MD589', 311)\n",
      "('MD589', 312)\n",
      "('MD589', 313)\n",
      "('MD589', 314)\n",
      "('MD589', 315)\n",
      "('MD589', 316)\n",
      "('MD589', 317)\n",
      "('MD589', 318)\n",
      "('MD589', 319)\n",
      "('MD589', 320)\n",
      "('MD589', 321)\n",
      "('MD589', 322)\n",
      "('MD589', 323)\n",
      "('MD589', 325)\n",
      "('MD589', 326)\n",
      "('MD589', 327)\n",
      "('MD589', 328)\n",
      "('MD589', 329)\n",
      "('MD589', 330)\n",
      "('MD589', 331)\n",
      "('MD589', 332)\n",
      "('MD589', 333)\n",
      "('MD589', 334)\n",
      "('MD589', 335)\n",
      "('MD589', 336)\n",
      "('MD589', 337)\n",
      "('MD589', 338)\n",
      "('MD589', 339)\n",
      "('MD589', 340)\n",
      "('MD589', 341)\n",
      "('MD589', 342)\n",
      "('MD589', 343)\n",
      "('MD589', 344)\n",
      "('MD589', 345)\n",
      "('MD589', 346)\n",
      "('MD589', 347)\n",
      "('MD589', 348)\n",
      "('MD589', 349)\n",
      "('MD589', 350)\n",
      "('MD589', 351)\n",
      "('MD589', 352)\n",
      "('MD589', 353)\n",
      "('MD589', 354)\n",
      "('MD589', 355)\n",
      "('MD589', 356)\n",
      "('MD589', 357)\n",
      "('MD589', 358)\n",
      "('MD589', 359)\n",
      "('MD589', 360)\n",
      "('MD589', 361)\n",
      "('MD589', 362)\n",
      "('MD589', 363)\n",
      "('MD589', 364)\n",
      "('MD589', 365)\n",
      "('MD589', 366)\n",
      "('MD589', 367)\n",
      "('MD589', 368)\n",
      "('MD589', 369)\n",
      "('MD589', 370)\n",
      "('MD594', 94)\n",
      "('MD594', 95)\n",
      "('MD594', 96)\n",
      "('MD594', 97)\n",
      "('MD594', 98)\n",
      "('MD594', 99)\n",
      "('MD594', 100)\n",
      "('MD594', 101)\n",
      "('MD594', 102)\n",
      "('MD594', 103)\n",
      "('MD594', 104)\n",
      "('MD594', 105)\n",
      "('MD594', 106)\n",
      "('MD594', 107)\n",
      "('MD594', 108)\n",
      "('MD594', 109)\n",
      "('MD594', 110)\n",
      "('MD594', 111)\n",
      "('MD594', 112)\n",
      "('MD594', 113)\n",
      "('MD594', 114)\n",
      "('MD594', 115)\n",
      "('MD594', 116)\n",
      "('MD594', 117)\n",
      "('MD594', 118)\n",
      "('MD594', 119)\n",
      "('MD594', 120)\n",
      "('MD594', 121)\n",
      "('MD594', 122)\n",
      "('MD594', 123)\n",
      "('MD594', 124)\n",
      "('MD594', 125)\n",
      "('MD594', 126)\n",
      "('MD594', 127)\n",
      "('MD594', 128)\n",
      "('MD594', 129)\n",
      "('MD594', 130)\n",
      "('MD594', 132)\n",
      "('MD594', 133)\n",
      "('MD594', 134)\n",
      "('MD594', 135)\n",
      "('MD594', 136)\n",
      "('MD594', 137)\n",
      "('MD594', 138)\n",
      "('MD594', 139)\n",
      "('MD594', 140)\n",
      "('MD594', 141)\n",
      "('MD594', 142)\n",
      "('MD594', 143)\n",
      "('MD594', 144)\n",
      "('MD594', 145)\n",
      "('MD594', 146)\n",
      "('MD594', 147)\n",
      "('MD594', 148)\n",
      "('MD594', 149)\n",
      "('MD594', 150)\n",
      "('MD594', 151)\n",
      "('MD594', 152)\n",
      "('MD594', 153)\n",
      "('MD594', 154)\n",
      "('MD594', 155)\n",
      "('MD594', 156)\n",
      "('MD594', 157)\n",
      "('MD594', 158)\n",
      "('MD594', 159)\n",
      "('MD594', 160)\n",
      "('MD594', 161)\n",
      "('MD594', 162)\n",
      "('MD594', 163)\n",
      "('MD594', 164)\n",
      "('MD594', 165)\n",
      "('MD594', 166)\n",
      "('MD594', 167)\n",
      "('MD594', 168)\n",
      "('MD594', 169)\n",
      "('MD594', 170)\n",
      "('MD594', 171)\n",
      "('MD594', 172)\n",
      "('MD594', 173)\n",
      "('MD594', 174)\n",
      "('MD594', 175)\n",
      "('MD594', 176)\n",
      "('MD594', 177)\n",
      "('MD594', 178)\n",
      "('MD594', 179)\n",
      "('MD594', 180)\n",
      "('MD594', 181)\n",
      "('MD594', 182)\n",
      "('MD594', 183)\n",
      "('MD594', 184)\n",
      "('MD594', 185)\n",
      "('MD594', 186)\n",
      "('MD594', 188)\n",
      "('MD594', 189)\n",
      "('MD594', 190)\n",
      "('MD594', 191)\n",
      "('MD594', 192)\n",
      "('MD594', 194)\n",
      "('MD594', 195)\n",
      "('MD594', 196)\n",
      "('MD594', 197)\n",
      "('MD594', 198)\n",
      "('MD594', 199)\n",
      "('MD594', 200)\n",
      "('MD594', 201)\n",
      "('MD594', 202)\n",
      "('MD594', 203)\n",
      "('MD594', 204)\n",
      "('MD594', 205)\n",
      "('MD594', 206)\n",
      "('MD594', 207)\n",
      "('MD594', 208)\n",
      "('MD594', 209)\n",
      "('MD594', 210)\n",
      "('MD594', 211)\n",
      "('MD594', 212)\n",
      "('MD594', 213)\n",
      "('MD594', 214)\n",
      "('MD594', 215)\n",
      "('MD594', 216)\n",
      "('MD594', 217)\n",
      "('MD594', 218)\n",
      "('MD594', 219)\n",
      "('MD594', 220)\n",
      "('MD594', 221)\n",
      "('MD594', 222)\n",
      "('MD594', 223)\n",
      "('MD594', 224)\n",
      "('MD594', 225)\n",
      "('MD594', 226)\n",
      "('MD594', 227)\n",
      "('MD594', 228)\n",
      "('MD594', 229)\n",
      "('MD594', 230)\n",
      "('MD594', 231)\n",
      "('MD594', 232)\n",
      "('MD594', 233)\n",
      "('MD594', 234)\n",
      "('MD594', 235)\n",
      "('MD594', 236)\n",
      "('MD594', 237)\n",
      "('MD594', 239)\n",
      "('MD594', 240)\n",
      "('MD594', 241)\n",
      "('MD594', 242)\n",
      "('MD594', 243)\n",
      "('MD594', 244)\n",
      "('MD594', 245)\n",
      "('MD594', 246)\n",
      "('MD594', 247)\n",
      "('MD594', 248)\n",
      "('MD594', 249)\n",
      "('MD594', 250)\n",
      "('MD594', 251)\n",
      "('MD594', 252)\n",
      "('MD594', 253)\n",
      "('MD594', 254)\n",
      "('MD594', 255)\n",
      "('MD594', 256)\n",
      "('MD594', 257)\n",
      "('MD594', 258)\n",
      "('MD594', 259)\n",
      "('MD594', 260)\n",
      "('MD594', 262)\n",
      "('MD594', 263)\n",
      "('MD594', 264)\n",
      "('MD594', 265)\n",
      "('MD594', 266)\n",
      "('MD594', 267)\n",
      "('MD594', 268)\n",
      "('MD594', 269)\n",
      "('MD594', 270)\n",
      "('MD594', 271)\n",
      "('MD594', 272)\n",
      "('MD594', 273)\n"
     ]
    },
    {
     "name": "stderr",
     "output_type": "stream",
     "text": [
      "Patch in annotation but not in mask: MD594 273 MD594-N61-2015.08.27-00.31.50_MD594_1_0181 alignedTo MD594-IHC58-2015.08.26-18.48.50_MD594_1_0172 @45210\n",
      "Patch in annotation but not in mask: MD594 273 MD594-N61-2015.08.27-00.31.50_MD594_1_0181 alignedTo MD594-IHC58-2015.08.26-18.48.50_MD594_1_0172 @44819\n",
      "Patch in annotation but not in mask: MD594 273 MD594-N61-2015.08.27-00.31.50_MD594_1_0181 alignedTo MD594-IHC58-2015.08.26-18.48.50_MD594_1_0172 @44626\n",
      "Patch in annotation but not in mask: MD594 273 MD594-N61-2015.08.27-00.31.50_MD594_1_0181 alignedTo MD594-IHC58-2015.08.26-18.48.50_MD594_1_0172 @43845\n",
      "Patch in annotation but not in mask: MD594 273 MD594-N61-2015.08.27-00.31.50_MD594_1_0181 alignedTo MD594-IHC58-2015.08.26-18.48.50_MD594_1_0172 @44820\n",
      "Patch in annotation but not in mask: MD594 273 MD594-N61-2015.08.27-00.31.50_MD594_1_0181 alignedTo MD594-IHC58-2015.08.26-18.48.50_MD594_1_0172 @44040\n",
      "Patch in annotation but not in mask: MD594 273 MD594-N61-2015.08.27-00.31.50_MD594_1_0181 alignedTo MD594-IHC58-2015.08.26-18.48.50_MD594_1_0172 @43259\n"
     ]
    },
    {
     "name": "stdout",
     "output_type": "stream",
     "text": [
      "('MD594', 274)\n",
      "('MD594', 275)\n",
      "('MD594', 276)\n",
      "('MD594', 277)\n",
      "('MD594', 278)\n",
      "('MD594', 279)\n",
      "('MD594', 280)\n",
      "('MD594', 281)\n",
      "('MD594', 282)\n",
      "('MD594', 283)\n",
      "('MD594', 284)\n",
      "('MD594', 285)\n",
      "('MD594', 286)\n",
      "('MD594', 287)\n",
      "('MD594', 288)\n",
      "('MD594', 289)\n",
      "('MD594', 290)\n",
      "('MD594', 291)\n",
      "('MD594', 292)\n",
      "('MD594', 293)\n",
      "('MD594', 294)\n",
      "('MD594', 295)\n",
      "('MD594', 296)\n",
      "('MD594', 297)\n",
      "('MD594', 298)\n",
      "('MD594', 299)\n",
      "('MD594', 300)\n",
      "('MD594', 301)\n",
      "('MD594', 302)\n",
      "('MD594', 303)\n",
      "('MD594', 304)\n",
      "('MD594', 305)\n",
      "('MD594', 306)\n",
      "('MD594', 307)\n",
      "('MD594', 308)\n",
      "('MD594', 309)\n",
      "('MD594', 310)\n",
      "('MD594', 311)\n",
      "('MD594', 312)\n",
      "('MD594', 313)\n",
      "('MD594', 314)\n",
      "('MD594', 315)\n",
      "('MD594', 316)\n",
      "('MD594', 317)\n",
      "('MD594', 318)\n",
      "('MD594', 319)\n",
      "('MD594', 320)\n",
      "('MD594', 321)\n",
      "('MD594', 322)\n",
      "('MD594', 323)\n",
      "('MD594', 324)\n",
      "('MD594', 325)\n",
      "('MD594', 326)\n",
      "('MD594', 327)\n",
      "('MD594', 328)\n",
      "('MD594', 329)\n",
      "('MD594', 330)\n",
      "('MD594', 331)\n",
      "('MD594', 332)\n",
      "('MD594', 333)\n",
      "('MD594', 334)\n",
      "('MD594', 335)\n",
      "('MD594', 336)\n",
      "('MD594', 337)\n",
      "('MD594', 338)\n",
      "('MD594', 339)\n",
      "('MD594', 340)\n",
      "('MD594', 342)\n",
      "('MD594', 343)\n",
      "('MD594', 344)\n",
      "('MD594', 345)\n",
      "('MD594', 346)\n",
      "('MD594', 347)\n",
      "('MD594', 348)\n",
      "('MD594', 349)\n",
      "('MD594', 350)\n",
      "('MD594', 351)\n",
      "('MD594', 352)\n",
      "('MD594', 353)\n",
      "('MD594', 354)\n",
      "('MD594', 355)\n",
      "('MD594', 356)\n",
      "('MD594', 357)\n",
      "('MD594', 358)\n",
      "('MD594', 359)\n",
      "('MD594', 360)\n",
      "('MD594', 361)\n",
      "('MD594', 362)\n",
      "('MD594', 363)\n"
     ]
    }
   ],
   "source": [
    "training_features = apply_function_to_dict(addresses_to_features, training_addresses)"
   ]
  },
  {
   "cell_type": "code",
   "execution_count": 41,
   "metadata": {
    "collapsed": false
   },
   "outputs": [],
   "source": [
    "training_features = {name: np.array([f for f in feats if f is not None]) \n",
    "                     for name, feats in training_features.iteritems()}"
   ]
  },
  {
   "cell_type": "code",
   "execution_count": 42,
   "metadata": {
    "collapsed": false,
    "scrolled": true
   },
   "outputs": [
    {
     "name": "stdout",
     "output_type": "stream",
     "text": [
      "10N 2609\n",
      "10N_surround_12N 3000\n",
      "10N_surround_AP 367\n",
      "10N_surround_noclass 3000\n",
      "12N 3000\n",
      "12N_surround_10N 2460\n",
      "12N_surround_AP 161\n",
      "12N_surround_noclass 3000\n",
      "3N 3000\n",
      "3N_surround_4N 246\n",
      "3N_surround_noclass 3000\n",
      "4N 474\n",
      "4N_surround_3N 720\n",
      "4N_surround_noclass 3000\n",
      "5N 3000\n",
      "5N_surround_7n 25\n",
      "5N_surround_noclass 3000\n",
      "6N 862\n",
      "6N_surround_7n 353\n",
      "6N_surround_noclass 3000\n",
      "7N 3000\n",
      "7N_surround_Amb 38\n",
      "7N_surround_noclass 3000\n",
      "7n 3000\n",
      "7n_surround_5N 19\n",
      "7n_surround_6N 311\n",
      "7n_surround_noclass 3000\n",
      "AP 3000\n",
      "AP_surround_10N 140\n",
      "AP_surround_12N 204\n",
      "AP_surround_noclass 3000\n",
      "Amb 1570\n",
      "Amb_surround_7N 59\n",
      "Amb_surround_LRt 160\n",
      "Amb_surround_noclass 3000\n",
      "DC 2999\n",
      "DC_surround_VCA 3000\n",
      "DC_surround_VCP 3000\n",
      "DC_surround_noclass 3000\n",
      "IC 3000\n",
      "IC_surround_SC 3000\n",
      "IC_surround_noclass 3000\n",
      "LC 3000\n",
      "LC_surround_noclass 3000\n",
      "LRt 2995\n",
      "LRt_surround_Amb 109\n",
      "LRt_surround_Sp5C 71\n",
      "LRt_surround_noclass 3000\n",
      "PBG 2717\n",
      "PBG_surround_SNR 350\n",
      "PBG_surround_VLL 105\n",
      "PBG_surround_noclass 3000\n",
      "Pn 3000\n",
      "Pn_surround_RtTg 3000\n",
      "Pn_surround_Tz 8\n",
      "Pn_surround_VLL 67\n",
      "Pn_surround_noclass 3000\n",
      "RMC 3000\n",
      "RMC_surround_SNR 1\n",
      "RMC_surround_noclass 3000\n",
      "RtTg 3000\n",
      "RtTg_surround_Pn 3000\n",
      "RtTg_surround_Tz 833\n",
      "RtTg_surround_noclass 3000\n",
      "SC 2998\n",
      "SC_surround_IC 2999\n",
      "SC_surround_noclass 3000\n",
      "SNC 3000\n",
      "SNC_surround_SNR 3000\n",
      "SNC_surround_noclass 3000\n",
      "SNR 3000\n",
      "SNR_surround_PBG 177\n",
      "SNR_surround_RMC 1\n",
      "SNR_surround_SNC 3000\n",
      "SNR_surround_VLL 43\n",
      "SNR_surround_noclass 3000\n",
      "Sp5C 2962\n",
      "Sp5C_surround_LRt 37\n",
      "Sp5C_surround_Sp5I 3000\n",
      "Sp5C_surround_noclass 3000\n",
      "Sp5I 3000\n",
      "Sp5I_surround_Sp5C 3000\n",
      "Sp5I_surround_Sp5O 3000\n",
      "Sp5I_surround_noclass 3000\n",
      "Sp5O 3000\n",
      "Sp5O_surround_Sp5I 3000\n",
      "Sp5O_surround_noclass 3000\n",
      "Tz 3000\n",
      "Tz_surround_Pn 7\n",
      "Tz_surround_RtTg 1602\n",
      "Tz_surround_noclass 3000\n",
      "VCA 3000\n",
      "VCA_surround_DC 3000\n",
      "VCA_surround_VCP 3000\n",
      "VCA_surround_noclass 3000\n",
      "VCP 3000\n",
      "VCP_surround_DC 3000\n",
      "VCP_surround_VCA 3000\n",
      "VCP_surround_noclass 3000\n",
      "VLL 3000\n",
      "VLL_surround_PBG 69\n",
      "VLL_surround_Pn 3\n",
      "VLL_surround_SNR 38\n",
      "VLL_surround_noclass 3000\n"
     ]
    }
   ],
   "source": [
    "for name in sorted(training_features.iterkeys()):\n",
    "    print name, len(training_features[name])"
   ]
  },
  {
   "cell_type": "code",
   "execution_count": 30,
   "metadata": {
    "collapsed": true
   },
   "outputs": [],
   "source": [
    "from sklearn.linear_model import LogisticRegression"
   ]
  },
  {
   "cell_type": "code",
   "execution_count": 31,
   "metadata": {
    "collapsed": true
   },
   "outputs": [],
   "source": [
    "train_sample_scheme = 1"
   ]
  },
  {
   "cell_type": "code",
   "execution_count": 32,
   "metadata": {
    "collapsed": false
   },
   "outputs": [],
   "source": [
    "# svm_dir = create_if_not_exists(os.path.join(SVM_ROOTDIR + '/trainSampleScheme_%(scheme)d' % {'scheme':train_sample_scheme}))"
   ]
  },
  {
   "cell_type": "code",
   "execution_count": 59,
   "metadata": {
    "collapsed": false,
    "scrolled": true
   },
   "outputs": [
    {
     "name": "stdout",
     "output_type": "stream",
     "text": [
      "5N\n"
     ]
    },
    {
     "name": "stderr",
     "output_type": "stream",
     "text": [
      "svm train: 6.86 seconds\n"
     ]
    },
    {
     "name": "stdout",
     "output_type": "stream",
     "text": [
      "6N\n"
     ]
    },
    {
     "name": "stderr",
     "output_type": "stream",
     "text": [
      "svm train: 2.53 seconds\n"
     ]
    },
    {
     "name": "stdout",
     "output_type": "stream",
     "text": [
      "7N\n"
     ]
    },
    {
     "name": "stderr",
     "output_type": "stream",
     "text": [
      "svm train: 8.96 seconds\n"
     ]
    },
    {
     "name": "stdout",
     "output_type": "stream",
     "text": [
      "7n\n"
     ]
    },
    {
     "name": "stderr",
     "output_type": "stream",
     "text": [
      "svm train: 5.47 seconds\n"
     ]
    },
    {
     "name": "stdout",
     "output_type": "stream",
     "text": [
      "Amb\n"
     ]
    },
    {
     "name": "stderr",
     "output_type": "stream",
     "text": [
      "svm train: 5.18 seconds\n"
     ]
    },
    {
     "name": "stdout",
     "output_type": "stream",
     "text": [
      "LC\n"
     ]
    },
    {
     "name": "stderr",
     "output_type": "stream",
     "text": [
      "svm train: 11.18 seconds\n"
     ]
    },
    {
     "name": "stdout",
     "output_type": "stream",
     "text": [
      "LRt\n"
     ]
    },
    {
     "name": "stderr",
     "output_type": "stream",
     "text": [
      "svm train: 16.26 seconds\n"
     ]
    },
    {
     "name": "stdout",
     "output_type": "stream",
     "text": [
      "Pn\n"
     ]
    },
    {
     "name": "stderr",
     "output_type": "stream",
     "text": [
      "svm train: 10.61 seconds\n"
     ]
    },
    {
     "name": "stdout",
     "output_type": "stream",
     "text": [
      "Tz\n"
     ]
    },
    {
     "name": "stderr",
     "output_type": "stream",
     "text": [
      "svm train: 7.26 seconds\n"
     ]
    },
    {
     "name": "stdout",
     "output_type": "stream",
     "text": [
      "VLL\n"
     ]
    },
    {
     "name": "stderr",
     "output_type": "stream",
     "text": [
      "svm train: 8.26 seconds\n"
     ]
    },
    {
     "name": "stdout",
     "output_type": "stream",
     "text": [
      "RMC\n"
     ]
    },
    {
     "name": "stderr",
     "output_type": "stream",
     "text": [
      "svm train: 9.54 seconds\n"
     ]
    },
    {
     "name": "stdout",
     "output_type": "stream",
     "text": [
      "SNC\n"
     ]
    },
    {
     "name": "stderr",
     "output_type": "stream",
     "text": [
      "svm train: 9.93 seconds\n"
     ]
    },
    {
     "name": "stdout",
     "output_type": "stream",
     "text": [
      "SNR\n"
     ]
    },
    {
     "name": "stderr",
     "output_type": "stream",
     "text": [
      "svm train: 10.60 seconds\n"
     ]
    },
    {
     "name": "stdout",
     "output_type": "stream",
     "text": [
      "3N\n"
     ]
    },
    {
     "name": "stderr",
     "output_type": "stream",
     "text": [
      "svm train: 5.96 seconds\n"
     ]
    },
    {
     "name": "stdout",
     "output_type": "stream",
     "text": [
      "4N\n"
     ]
    },
    {
     "name": "stderr",
     "output_type": "stream",
     "text": [
      "svm train: 2.12 seconds\n"
     ]
    },
    {
     "name": "stdout",
     "output_type": "stream",
     "text": [
      "Sp5I\n"
     ]
    },
    {
     "name": "stderr",
     "output_type": "stream",
     "text": [
      "svm train: 8.04 seconds\n"
     ]
    },
    {
     "name": "stdout",
     "output_type": "stream",
     "text": [
      "Sp5O\n"
     ]
    },
    {
     "name": "stderr",
     "output_type": "stream",
     "text": [
      "svm train: 11.53 seconds\n"
     ]
    },
    {
     "name": "stdout",
     "output_type": "stream",
     "text": [
      "Sp5C\n"
     ]
    },
    {
     "name": "stderr",
     "output_type": "stream",
     "text": [
      "svm train: 20.77 seconds\n"
     ]
    },
    {
     "name": "stdout",
     "output_type": "stream",
     "text": [
      "PBG\n"
     ]
    },
    {
     "name": "stderr",
     "output_type": "stream",
     "text": [
      "svm train: 11.73 seconds\n"
     ]
    },
    {
     "name": "stdout",
     "output_type": "stream",
     "text": [
      "10N\n"
     ]
    },
    {
     "name": "stderr",
     "output_type": "stream",
     "text": [
      "svm train: 13.14 seconds\n"
     ]
    },
    {
     "name": "stdout",
     "output_type": "stream",
     "text": [
      "VCA\n"
     ]
    },
    {
     "name": "stderr",
     "output_type": "stream",
     "text": [
      "svm train: 9.98 seconds\n"
     ]
    },
    {
     "name": "stdout",
     "output_type": "stream",
     "text": [
      "VCP\n"
     ]
    },
    {
     "name": "stderr",
     "output_type": "stream",
     "text": [
      "svm train: 9.97 seconds\n"
     ]
    },
    {
     "name": "stdout",
     "output_type": "stream",
     "text": [
      "DC\n"
     ]
    },
    {
     "name": "stderr",
     "output_type": "stream",
     "text": [
      "svm train: 16.16 seconds\n"
     ]
    },
    {
     "name": "stdout",
     "output_type": "stream",
     "text": [
      "AP\n"
     ]
    },
    {
     "name": "stderr",
     "output_type": "stream",
     "text": [
      "svm train: 12.26 seconds\n"
     ]
    },
    {
     "name": "stdout",
     "output_type": "stream",
     "text": [
      "12N\n"
     ]
    },
    {
     "name": "stderr",
     "output_type": "stream",
     "text": [
      "svm train: 7.83 seconds\n"
     ]
    },
    {
     "name": "stdout",
     "output_type": "stream",
     "text": [
      "RtTg\n"
     ]
    },
    {
     "name": "stderr",
     "output_type": "stream",
     "text": [
      "svm train: 7.51 seconds\n"
     ]
    },
    {
     "name": "stdout",
     "output_type": "stream",
     "text": [
      "SC\n"
     ]
    },
    {
     "name": "stderr",
     "output_type": "stream",
     "text": [
      "svm train: 11.69 seconds\n"
     ]
    },
    {
     "name": "stdout",
     "output_type": "stream",
     "text": [
      "IC\n"
     ]
    },
    {
     "name": "stderr",
     "output_type": "stream",
     "text": [
      "svm train: 10.69 seconds\n"
     ]
    }
   ],
   "source": [
    "# train svm classifiers\n",
    "\n",
    "svm_dir = create_if_not_exists(os.path.join(SVM_ROOTDIR, 'classifiers'))\n",
    "\n",
    "for label in structures:\n",
    "            \n",
    "    print label\n",
    "\n",
    "    t = time.time()\n",
    "\n",
    "    features_pos = training_features[label]\n",
    "    \n",
    "    if train_sample_scheme == 1:\n",
    "        features_neg = training_features[convert_to_surround_name(label, 'noclass')]\n",
    "    elif train_sample_scheme == 2:\n",
    "        features_neg = np.vstack([training_features[convert_to_surround_name(label, 'noclass')]] + \\\n",
    "                                  [training_features[convert_to_surround_name(label, surr_l)] \n",
    "                                  for surr_l in structures if convert_to_surround_name(label, surr_l) in labels])\n",
    "    \n",
    "    train_data = np.r_[features_pos, features_neg]\n",
    "    train_labels = np.r_[np.ones((features_pos.shape[0], )), \n",
    "                         -np.ones((features_neg.shape[0], ))]\n",
    "    \n",
    "#     svc = SVC(C=1.0, kernel='rbf', degree=3, gamma='auto', coef0=0.0, shrinking=True, \n",
    "#           probability=True, tol=0.001, cache_size=1000, class_weight=None, verbose=False, \n",
    "#           max_iter=-1, decision_function_shape=None, random_state=None)\n",
    "\n",
    "#     svc = SVC(C=1.0, kernel='linear', degree=3, gamma='auto', coef0=0.0, shrinking=True, \n",
    "#           probability=True, tol=0.001, cache_size=1000, class_weight=None, verbose=False, \n",
    "#           max_iter=-1, decision_function_shape=None, random_state=None)\n",
    "    \n",
    "#     svc = LinearSVC(penalty='l2', loss='squared_hinge', dual=True, tol=0.0001, C=1.0, multi_class='ovr', \n",
    "#                     fit_intercept=True, intercept_scaling=1, class_weight=None, verbose=0, random_state=None, max_iter=100)\n",
    "\n",
    "    svc = LogisticRegression(penalty='l2', dual=False, tol=0.0001, C=1.0, \n",
    "                             fit_intercept=True, intercept_scaling=1, class_weight=None, \n",
    "                             random_state=None, solver='liblinear', max_iter=100, multi_class='ovr', \n",
    "                             verbose=0, warm_start=False, n_jobs=1)\n",
    "    \n",
    "    svc.fit(train_data, train_labels)\n",
    "    \n",
    "    sys.stderr.write('svm train: %.2f seconds\\n' % (time.time() - t))\n",
    "    \n",
    "#     t = time.time()\n",
    "\n",
    "    joblib.dump(svc, svm_dir + '/%(label)s_svm_trainSampleScheme_%(scheme)d.pkl' % {'label': label, 'scheme':train_sample_scheme})\n",
    "    \n",
    "#     sys.stderr.write('svm dump: %.2f seconds\\n' % (time.time() - t))\n",
    "    \n",
    "#     del features_pos, features_neg, train_data, train_labels, svc"
   ]
  },
  {
   "cell_type": "code",
   "execution_count": 60,
   "metadata": {
    "collapsed": false,
    "scrolled": true
   },
   "outputs": [],
   "source": [
    "train_feat_dir = create_if_not_exists(os.path.join(SVM_ROOTDIR, 'training_features/'))\n",
    "\n",
    "for name_u, feats in training_features.iteritems():\n",
    "    bp.pack_ndarray_file(feats, os.path.join(train_feat_dir, name_u + '_trainSampleScheme_%(scheme)d.bp' % dict(scheme=train_sample_scheme)))"
   ]
  },
  {
   "cell_type": "code",
   "execution_count": 61,
   "metadata": {
    "collapsed": false
   },
   "outputs": [],
   "source": [
    "# Load pre-computed svm classifiers\n",
    "\n",
    "svc_allClasses = {}\n",
    "for label in structures:\n",
    "    svc_allClasses[label] = joblib.load(SVM_ROOTDIR + '/classifiers/%(label)s_svm_trainSampleScheme_%(scheme)d.pkl' % {'label': label, 'scheme':train_sample_scheme})"
   ]
  },
  {
   "cell_type": "code",
   "execution_count": 65,
   "metadata": {
    "collapsed": false
   },
   "outputs": [],
   "source": [
    "training_features = {name_u: bp.unpack_ndarray_file(os.path.join(SVM_ROOTDIR, 'training_features', \\\n",
    "                                 name_u + '_trainSampleScheme_%(scheme)d.bp' % dict(scheme=train_sample_scheme)))\n",
    "                     for name_u in labels}"
   ]
  },
  {
   "cell_type": "code",
   "execution_count": 34,
   "metadata": {
    "collapsed": true
   },
   "outputs": [],
   "source": [
    "# visualize training patches"
   ]
  },
  {
   "cell_type": "code",
   "execution_count": null,
   "metadata": {
    "collapsed": false
   },
   "outputs": [],
   "source": [
    "patches = extract_patches_given_locations_multiple_sections(sampled_addresses['AP'], 'grid_index')"
   ]
  },
  {
   "cell_type": "code",
   "execution_count": null,
   "metadata": {
    "collapsed": false,
    "scrolled": true
   },
   "outputs": [],
   "source": [
    "display_images_in_grids(patches, 5)"
   ]
  },
  {
   "cell_type": "code",
   "execution_count": null,
   "metadata": {
    "collapsed": false,
    "scrolled": true
   },
   "outputs": [],
   "source": [
    "patches = extract_patches_given_locations_multiple_sections(sampled_addresses['AP_surround'], 'grid_index')"
   ]
  },
  {
   "cell_type": "code",
   "execution_count": null,
   "metadata": {
    "collapsed": false,
    "scrolled": true
   },
   "outputs": [],
   "source": [
    "display_images_in_grids(patches, 5, titles=sampled_addresses['AP_surround'])"
   ]
  },
  {
   "cell_type": "code",
   "execution_count": null,
   "metadata": {
    "collapsed": true
   },
   "outputs": [],
   "source": [
    "# Visualize a patch in context\n",
    "\n",
    "patch_size, stride, _, _ = get_default_gridspec('MD589')\n",
    "grid_locations = grid_parameters_to_sample_locations(get_default_gridspec('MD589'))\n",
    "viz = patch_boxes_overlay_on('original', 8, \n",
    "                       [grid_locations[44453]],\n",
    "                      patch_size=patch_size,\n",
    "                      stack='MD589',\n",
    "                       sec=219)\n",
    "display_image(viz)"
   ]
  },
  {
   "cell_type": "code",
   "execution_count": 66,
   "metadata": {
    "collapsed": false
   },
   "outputs": [
    {
     "data": {
      "image/png": "[encoded data removed]",
      "text/plain": [
       "<matplotlib.figure.Figure at 0x47235a90>"
      ]
     },
     "metadata": {},
     "output_type": "display_data"
    }
   ],
   "source": [
    "# Compute training accuracy\n",
    "\n",
    "nrows = len(structures)/5 + 1\n",
    "ncols = 5\n",
    "\n",
    "fig, axes = plt.subplots(nrows, ncols, figsize=(ncols*2, nrows*2), sharex=True, sharey=True)\n",
    "axes = axes.flatten()\n",
    "\n",
    "for i, label in enumerate(structures):\n",
    "    \n",
    "    features_pos = training_features[label]\n",
    "    \n",
    "    if train_sample_scheme == 1:\n",
    "        features_neg = training_features[convert_to_surround_name(label, 'noclass')]\n",
    "    elif train_sample_scheme == 2:\n",
    "        features_neg = np.vstack([training_features[convert_to_surround_name(label, 'noclass')]] + \\\n",
    "                                  [training_features[convert_to_surround_name(label, surr_l)] \n",
    "                                  for surr_l in structures if convert_to_surround_name(label, surr_l) in labels])\n",
    "    \n",
    "    train_data = np.r_[features_pos, features_neg]\n",
    "    train_labels = np.r_[np.ones((features_pos.shape[0], )), \n",
    "                         -np.ones((features_neg.shape[0], ))]\n",
    "    \n",
    "    svc = svc_allClasses[label]\n",
    "    \n",
    "    probs = svc.predict_proba(train_data)[:, svc.classes_.tolist().index(1.)]\n",
    "    cm = compute_confusion_matrix(np.c_[probs, 1-probs], [0 if l==1. else 1 for l in train_labels], soft=True)\n",
    "    \n",
    "    plot_confusion_matrix(cm, title='%(label)s'% {'label':label},\n",
    "                          labels=['',''],\n",
    "#                           labels=[label, convert_to_surround_name(label)],\n",
    "                         axis=axes[i])\n",
    "#     plt.show();\n",
    "\n",
    "plt.tight_layout()"
   ]
  },
  {
   "cell_type": "code",
   "execution_count": null,
   "metadata": {
    "collapsed": false
   },
   "outputs": [],
   "source": [
    "# for label in structures:\n",
    "# # for label in ['AP']:\n",
    "            \n",
    "#     print label\n",
    "\n",
    "#     features_pos = training_features[label]\n",
    "#     features_neg = training_features[convert_to_surround_name(label)]\n",
    "    \n",
    "#     train_data = np.r_[features_pos, features_neg]\n",
    "#     train_labels = np.r_[np.ones((features_pos.shape[0], )), \n",
    "#                          -np.ones((features_neg.shape[0], ))]\n",
    "    \n",
    "#     svc = svc_allClasses[label]\n",
    "    \n",
    "#     probs = svc.predict_proba(train_data)[:, svc.classes_.tolist().index(1.)]\n",
    "#     cm = compute_confusion_matrix(np.c_[probs, 1-probs], [0 if l==1. else 1 for l in train_labels], soft=True)\n",
    "#     plot_confusion_matrix(cm, [label, convert_to_surround_name(label)])\n",
    "#     plt.show();"
   ]
  },
  {
   "cell_type": "code",
   "execution_count": null,
   "metadata": {
    "collapsed": true
   },
   "outputs": [],
   "source": []
  },
  {
   "cell_type": "code",
   "execution_count": 44,
   "metadata": {
    "collapsed": false
   },
   "outputs": [
    {
     "name": "stderr",
     "output_type": "stream",
     "text": [
      "Cell is empty.\n",
      "Cell is empty.\n",
      "Cell is empty.\n",
      "Cell is empty.\n",
      "Cell is empty.\n",
      "Cell is empty.\n",
      "Cell is empty.\n",
      "Cell is empty.\n",
      "Cell is empty.\n",
      "Cell is empty.\n"
     ]
    }
   ],
   "source": [
    "# Test\n",
    "\n",
    "test_addresses = defaultdict(list)\n",
    "\n",
    "for stack in ['MD589', 'MD585', 'MD594']:\n",
    "    annotation_grid_indices_fn = '/home/yuncong/csd395/CSHL_labelings_v3/%(stack)s/%(stack)s_annotation_grid_indices_%(scheme)d.h5' % dict(stack=stack, scheme=train_sample_scheme)    \n",
    "    label_gridIndices = read_hdf(annotation_grid_indices_fn, 'grid_indices')\n",
    "    sampled_addresses_sec_idx = sample_locations(label_gridIndices, labels, num_samples_per_landmark=1000)\n",
    "    \n",
    "    for name_u, addresses in sampled_addresses_sec_idx.iteritems():\n",
    "        test_addresses[name_u] += [(stack, ) + addr for addr in addresses]\n",
    "        \n",
    "test_addresses.default_factory = None\n",
    "        \n",
    "# sampled_addresses = {name_u: np.array(addresses) for name_u, addresses in sampled_addresses.iteritems()}"
   ]
  },
  {
   "cell_type": "code",
   "execution_count": 10,
   "metadata": {
    "collapsed": false,
    "scrolled": true
   },
   "outputs": [
    {
     "name": "stdout",
     "output_type": "stream",
     "text": [
      "('MD585', 83)\n",
      "('MD585', 84)\n"
     ]
    },
    {
     "name": "stderr",
     "output_type": "stream",
     "text": [
      "Patch in annotation but not in mask: MD585 84 MD585-IHC16-2015.08.19-13.14.51_MD585_3_0048 alignedTo MD585-N47-2015.07.16-22.50.52_MD585_3_0141 @28211\n"
     ]
    },
    {
     "name": "stdout",
     "output_type": "stream",
     "text": [
      "('MD585', 85)\n",
      "('MD585', 86)\n",
      "('MD585', 87)\n",
      "('MD585', 88)\n",
      "('MD585', 89)\n",
      "('MD585', 90)\n",
      "('MD585', 91)\n",
      "('MD585', 92)\n",
      "('MD585', 93)\n",
      "('MD585', 94)\n",
      "('MD585', 95)\n",
      "('MD585', 96)\n",
      "('MD585', 97)\n",
      "('MD585', 98)\n",
      "('MD585', 99)\n",
      "('MD585', 100)\n",
      "('MD585', 101)\n",
      "('MD585', 102)\n",
      "('MD585', 103)\n",
      "('MD585', 104)\n",
      "('MD585', 105)\n",
      "('MD585', 106)\n",
      "('MD585', 107)\n",
      "('MD585', 108)\n",
      "('MD585', 109)\n",
      "('MD585', 110)\n",
      "('MD585', 111)\n",
      "('MD585', 112)\n",
      "('MD585', 113)\n",
      "('MD585', 114)\n",
      "('MD585', 115)\n",
      "('MD585', 116)\n",
      "('MD585', 117)\n",
      "('MD585', 119)\n",
      "('MD585', 120)\n",
      "('MD585', 121)\n",
      "('MD585', 122)\n",
      "('MD585', 123)\n",
      "('MD585', 124)\n",
      "('MD585', 125)\n",
      "('MD585', 126)\n",
      "('MD585', 127)\n",
      "('MD585', 128)\n",
      "('MD585', 129)\n",
      "('MD585', 130)\n",
      "('MD585', 131)\n",
      "('MD585', 132)\n",
      "('MD585', 133)\n",
      "('MD585', 134)\n",
      "('MD585', 135)\n",
      "('MD585', 136)\n",
      "('MD585', 137)\n",
      "('MD585', 138)\n",
      "('MD585', 139)\n"
     ]
    },
    {
     "name": "stderr",
     "output_type": "stream",
     "text": [
      "Patch in annotation but not in mask: MD585 139 MD585-N26-2015.08.19-15.37.53_MD585_1_0076 alignedTo MD585-N47-2015.07.16-22.50.52_MD585_3_0141 @53568\n",
      "Patch in annotation but not in mask: MD585 139 MD585-N26-2015.08.19-15.37.53_MD585_1_0076 alignedTo MD585-N47-2015.07.16-22.50.52_MD585_3_0141 @53780\n"
     ]
    },
    {
     "name": "stdout",
     "output_type": "stream",
     "text": [
      "('MD585', 140)\n",
      "('MD585', 141)\n",
      "('MD585', 142)\n",
      "('MD585', 143)\n",
      "('MD585', 144)\n",
      "('MD585', 145)\n",
      "('MD585', 146)\n",
      "('MD585', 147)\n",
      "('MD585', 148)\n",
      "('MD585', 149)\n",
      "('MD585', 150)\n",
      "('MD585', 151)\n"
     ]
    },
    {
     "name": "stderr",
     "output_type": "stream",
     "text": [
      "Patch in annotation but not in mask: MD585 151 MD585-N28-2015.08.19-15.47.09_MD585_1_0082 alignedTo MD585-N47-2015.07.16-22.50.52_MD585_3_0141 @53146\n",
      "Patch in annotation but not in mask: MD585 151 MD585-N28-2015.08.19-15.47.09_MD585_1_0082 alignedTo MD585-N47-2015.07.16-22.50.52_MD585_3_0141 @52298\n",
      "Patch in annotation but not in mask: MD585 151 MD585-N28-2015.08.19-15.47.09_MD585_1_0082 alignedTo MD585-N47-2015.07.16-22.50.52_MD585_3_0141 @52082\n",
      "Patch in annotation but not in mask: MD585 151 MD585-N28-2015.08.19-15.47.09_MD585_1_0082 alignedTo MD585-N47-2015.07.16-22.50.52_MD585_3_0141 @50835\n",
      "Patch in annotation but not in mask: MD585 151 MD585-N28-2015.08.19-15.47.09_MD585_1_0082 alignedTo MD585-N47-2015.07.16-22.50.52_MD585_3_0141 @54417\n",
      "Patch in annotation but not in mask: MD585 151 MD585-N28-2015.08.19-15.47.09_MD585_1_0082 alignedTo MD585-N47-2015.07.16-22.50.52_MD585_3_0141 @51438\n",
      "Patch in annotation but not in mask: MD585 151 MD585-N28-2015.08.19-15.47.09_MD585_1_0082 alignedTo MD585-N47-2015.07.16-22.50.52_MD585_3_0141 @55263\n",
      "Patch in annotation but not in mask: MD585 151 MD585-N28-2015.08.19-15.47.09_MD585_1_0082 alignedTo MD585-N47-2015.07.16-22.50.52_MD585_3_0141 @52079\n",
      "Patch in annotation but not in mask: MD585 151 MD585-N28-2015.08.19-15.47.09_MD585_1_0082 alignedTo MD585-N47-2015.07.16-22.50.52_MD585_3_0141 @49530\n",
      "Patch in annotation but not in mask: MD585 151 MD585-N28-2015.08.19-15.47.09_MD585_1_0082 alignedTo MD585-N47-2015.07.16-22.50.52_MD585_3_0141 @52717\n",
      "Patch in annotation but not in mask: MD585 151 MD585-N28-2015.08.19-15.47.09_MD585_1_0082 alignedTo MD585-N47-2015.07.16-22.50.52_MD585_3_0141 @50389\n",
      "Patch in annotation but not in mask: MD585 151 MD585-N28-2015.08.19-15.47.09_MD585_1_0082 alignedTo MD585-N47-2015.07.16-22.50.52_MD585_3_0141 @52302\n",
      "Patch in annotation but not in mask: MD585 151 MD585-N28-2015.08.19-15.47.09_MD585_1_0082 alignedTo MD585-N47-2015.07.16-22.50.52_MD585_3_0141 @51020\n",
      "Patch in annotation but not in mask: MD585 151 MD585-N28-2015.08.19-15.47.09_MD585_1_0082 alignedTo MD585-N47-2015.07.16-22.50.52_MD585_3_0141 @51890\n",
      "Patch in annotation but not in mask: MD585 151 MD585-N28-2015.08.19-15.47.09_MD585_1_0082 alignedTo MD585-N47-2015.07.16-22.50.52_MD585_3_0141 @51889\n",
      "Patch in annotation but not in mask: MD585 151 MD585-N28-2015.08.19-15.47.09_MD585_1_0082 alignedTo MD585-N47-2015.07.16-22.50.52_MD585_3_0141 @53570\n",
      "Patch in annotation but not in mask: MD585 151 MD585-N28-2015.08.19-15.47.09_MD585_1_0082 alignedTo MD585-N47-2015.07.16-22.50.52_MD585_3_0141 @54191\n",
      "Patch in annotation but not in mask: MD585 151 MD585-N28-2015.08.19-15.47.09_MD585_1_0082 alignedTo MD585-N47-2015.07.16-22.50.52_MD585_3_0141 @53141\n",
      "Patch in annotation but not in mask: MD585 151 MD585-N28-2015.08.19-15.47.09_MD585_1_0082 alignedTo MD585-N47-2015.07.16-22.50.52_MD585_3_0141 @54838\n",
      "Patch in annotation but not in mask: MD585 151 MD585-N28-2015.08.19-15.47.09_MD585_1_0082 alignedTo MD585-N47-2015.07.16-22.50.52_MD585_3_0141 @54835\n",
      "Patch in annotation but not in mask: MD585 151 MD585-N28-2015.08.19-15.47.09_MD585_1_0082 alignedTo MD585-N47-2015.07.16-22.50.52_MD585_3_0141 @54842\n",
      "Patch in annotation but not in mask: MD585 151 MD585-N28-2015.08.19-15.47.09_MD585_1_0082 alignedTo MD585-N47-2015.07.16-22.50.52_MD585_3_0141 @51253\n",
      "Patch in annotation but not in mask: MD585 151 MD585-N28-2015.08.19-15.47.09_MD585_1_0082 alignedTo MD585-N47-2015.07.16-22.50.52_MD585_3_0141 @51472\n",
      "Patch in annotation but not in mask: MD585 151 MD585-N28-2015.08.19-15.47.09_MD585_1_0082 alignedTo MD585-N47-2015.07.16-22.50.52_MD585_3_0141 @52924\n",
      "Patch in annotation but not in mask: MD585 151 MD585-N28-2015.08.19-15.47.09_MD585_1_0082 alignedTo MD585-N47-2015.07.16-22.50.52_MD585_3_0141 @55061\n"
     ]
    },
    {
     "name": "stdout",
     "output_type": "stream",
     "text": [
      "('MD585', 152)\n",
      "('MD585', 153)\n",
      "('MD585', 154)\n",
      "('MD585', 155)\n",
      "('MD585', 156)\n",
      "('MD585', 157)\n",
      "('MD585', 158)\n",
      "('MD585', 159)\n",
      "('MD585', 160)\n",
      "('MD585', 161)\n",
      "('MD585', 162)\n",
      "('MD585', 163)\n",
      "('MD585', 164)\n",
      "('MD585', 165)\n",
      "('MD585', 166)\n",
      "('MD585', 167)\n",
      "('MD585', 168)\n",
      "('MD585', 169)\n",
      "('MD585', 170)\n",
      "('MD585', 171)\n",
      "('MD585', 172)\n",
      "('MD585', 173)\n",
      "('MD585', 174)\n",
      "('MD585', 175)\n",
      "('MD585', 176)\n",
      "('MD585', 177)\n",
      "('MD585', 178)\n",
      "('MD585', 179)\n",
      "('MD585', 180)\n",
      "('MD585', 181)\n",
      "('MD585', 182)\n",
      "('MD585', 183)\n",
      "('MD585', 184)\n",
      "('MD585', 185)\n",
      "('MD585', 186)\n",
      "('MD585', 187)\n",
      "('MD585', 188)\n",
      "('MD585', 189)\n",
      "('MD585', 190)\n",
      "('MD585', 191)\n",
      "('MD585', 192)\n",
      "('MD585', 193)\n",
      "('MD585', 194)\n",
      "('MD585', 195)\n",
      "('MD585', 196)\n",
      "('MD585', 197)\n",
      "('MD585', 198)\n",
      "('MD585', 199)\n",
      "('MD585', 200)\n",
      "('MD585', 201)\n",
      "('MD585', 202)\n",
      "('MD585', 203)\n",
      "('MD585', 204)\n",
      "('MD585', 205)\n",
      "('MD585', 206)\n",
      "('MD585', 207)\n",
      "('MD585', 208)\n",
      "('MD585', 209)\n",
      "('MD585', 210)\n",
      "('MD585', 211)\n",
      "('MD585', 212)\n",
      "('MD585', 213)\n",
      "('MD585', 214)\n",
      "('MD585', 215)\n",
      "('MD585', 216)\n",
      "('MD585', 217)\n",
      "('MD585', 218)\n",
      "('MD585', 219)\n",
      "('MD585', 220)\n",
      "('MD585', 221)\n",
      "('MD585', 222)\n",
      "('MD585', 223)\n",
      "('MD585', 224)\n",
      "('MD585', 225)\n",
      "('MD585', 226)\n",
      "('MD585', 227)\n",
      "('MD585', 228)\n",
      "('MD585', 229)\n",
      "('MD585', 230)\n",
      "('MD585', 231)\n",
      "('MD585', 232)\n",
      "('MD585', 233)\n",
      "('MD585', 234)\n",
      "('MD585', 235)\n",
      "('MD585', 236)\n",
      "('MD585', 237)\n",
      "('MD585', 238)\n",
      "('MD585', 239)\n",
      "('MD585', 240)\n",
      "('MD585', 241)\n",
      "('MD585', 242)\n",
      "('MD585', 243)\n",
      "('MD585', 244)\n",
      "('MD585', 245)\n",
      "('MD585', 246)\n",
      "('MD585', 247)\n",
      "('MD585', 248)\n",
      "('MD585', 249)\n",
      "('MD585', 250)\n",
      "('MD585', 251)\n",
      "('MD585', 252)\n",
      "('MD585', 253)\n",
      "('MD585', 254)\n",
      "('MD585', 255)\n",
      "('MD585', 256)\n",
      "('MD585', 257)\n",
      "('MD585', 258)\n",
      "('MD585', 259)\n",
      "('MD585', 260)\n",
      "('MD585', 261)\n",
      "('MD585', 262)\n",
      "('MD585', 263)\n",
      "('MD585', 264)\n",
      "('MD585', 265)\n",
      "('MD585', 266)\n",
      "('MD585', 267)\n",
      "('MD585', 269)\n",
      "('MD585', 270)\n",
      "('MD585', 271)\n",
      "('MD585', 272)\n",
      "('MD585', 273)\n",
      "('MD585', 274)\n",
      "('MD585', 275)\n",
      "('MD585', 276)\n",
      "('MD585', 277)\n",
      "('MD585', 278)\n",
      "('MD585', 279)\n",
      "('MD585', 280)\n",
      "('MD585', 281)\n",
      "('MD585', 282)\n",
      "('MD585', 283)\n",
      "('MD585', 284)\n",
      "('MD585', 285)\n",
      "('MD585', 286)\n",
      "('MD585', 287)\n",
      "('MD585', 288)\n",
      "('MD585', 289)\n",
      "('MD585', 290)\n",
      "('MD585', 291)\n",
      "('MD585', 292)\n",
      "('MD585', 293)\n",
      "('MD585', 294)\n",
      "('MD585', 295)\n",
      "('MD585', 296)\n",
      "('MD585', 297)\n",
      "('MD585', 298)\n",
      "('MD585', 300)\n",
      "('MD585', 301)\n",
      "('MD585', 302)\n",
      "('MD585', 303)\n",
      "('MD585', 304)\n",
      "('MD585', 305)\n",
      "('MD585', 306)\n",
      "('MD585', 307)\n",
      "('MD585', 308)\n",
      "('MD585', 309)\n",
      "('MD585', 310)\n",
      "('MD585', 311)\n",
      "('MD585', 312)\n",
      "('MD585', 313)\n",
      "('MD585', 314)\n",
      "('MD585', 315)\n",
      "('MD585', 316)\n",
      "('MD585', 317)\n",
      "('MD585', 318)\n",
      "('MD585', 319)\n",
      "('MD585', 320)\n",
      "('MD585', 321)\n",
      "('MD585', 322)\n",
      "('MD585', 323)\n",
      "('MD585', 324)\n",
      "('MD585', 325)\n",
      "('MD585', 326)\n",
      "('MD585', 327)\n",
      "('MD585', 328)\n",
      "('MD585', 329)\n",
      "('MD585', 330)\n",
      "('MD585', 331)\n",
      "('MD585', 332)\n"
     ]
    },
    {
     "name": "stderr",
     "output_type": "stream",
     "text": [
      "Patch in annotation but not in mask: MD585 332 MD585-IHC58-2015.07.16-18.38.08_MD585_1_0172 alignedTo MD585-N47-2015.07.16-22.50.52_MD585_3_0141 @37038\n",
      "Patch in annotation but not in mask: MD585 332 MD585-IHC58-2015.07.16-18.38.08_MD585_1_0172 alignedTo MD585-N47-2015.07.16-22.50.52_MD585_3_0141 @35134\n"
     ]
    },
    {
     "name": "stdout",
     "output_type": "stream",
     "text": [
      "('MD585', 333)\n",
      "('MD585', 334)\n",
      "('MD585', 335)\n",
      "('MD585', 336)\n",
      "('MD585', 337)\n",
      "('MD585', 338)\n",
      "('MD585', 339)\n",
      "('MD585', 340)\n",
      "('MD585', 341)\n",
      "('MD585', 342)\n",
      "('MD585', 343)\n",
      "('MD585', 344)\n",
      "('MD585', 345)\n",
      "('MD585', 346)\n",
      "('MD585', 347)\n",
      "('MD585', 348)\n",
      "('MD585', 349)\n",
      "('MD585', 350)\n",
      "('MD589', 94)\n",
      "('MD589', 95)\n",
      "('MD589', 96)\n",
      "('MD589', 97)\n",
      "('MD589', 98)\n",
      "('MD589', 99)\n",
      "('MD589', 100)\n",
      "('MD589', 101)\n",
      "('MD589', 102)\n",
      "('MD589', 103)\n",
      "('MD589', 104)\n",
      "('MD589', 105)\n",
      "('MD589', 106)\n",
      "('MD589', 107)\n",
      "('MD589', 108)\n",
      "('MD589', 109)\n",
      "('MD589', 110)\n",
      "('MD589', 111)\n",
      "('MD589', 112)\n",
      "('MD589', 113)\n",
      "('MD589', 114)\n",
      "('MD589', 115)\n",
      "('MD589', 116)\n",
      "('MD589', 117)\n",
      "('MD589', 119)\n",
      "('MD589', 120)\n",
      "('MD589', 121)\n",
      "('MD589', 122)\n",
      "('MD589', 123)\n",
      "('MD589', 124)\n",
      "('MD589', 125)\n",
      "('MD589', 126)\n",
      "('MD589', 127)\n",
      "('MD589', 128)\n",
      "('MD589', 129)\n",
      "('MD589', 130)\n",
      "('MD589', 131)\n",
      "('MD589', 132)\n",
      "('MD589', 133)\n",
      "('MD589', 134)\n",
      "('MD589', 135)\n",
      "('MD589', 136)\n",
      "('MD589', 137)\n",
      "('MD589', 138)\n",
      "('MD589', 139)\n",
      "('MD589', 140)\n",
      "('MD589', 141)\n",
      "('MD589', 142)\n",
      "('MD589', 143)\n",
      "('MD589', 144)\n",
      "('MD589', 145)\n",
      "('MD589', 146)\n",
      "('MD589', 147)\n",
      "('MD589', 148)\n",
      "('MD589', 149)\n",
      "('MD589', 150)\n",
      "('MD589', 151)\n",
      "('MD589', 152)\n",
      "('MD589', 153)\n",
      "('MD589', 154)\n",
      "('MD589', 155)\n",
      "('MD589', 156)\n",
      "('MD589', 157)\n",
      "('MD589', 158)\n",
      "('MD589', 159)\n",
      "('MD589', 160)\n",
      "('MD589', 161)\n",
      "('MD589', 162)\n",
      "('MD589', 163)\n",
      "('MD589', 164)\n",
      "('MD589', 165)\n",
      "('MD589', 166)\n",
      "('MD589', 167)\n",
      "('MD589', 168)\n",
      "('MD589', 169)\n",
      "('MD589', 170)\n",
      "('MD589', 171)\n",
      "('MD589', 172)\n",
      "('MD589', 173)\n",
      "('MD589', 174)\n",
      "('MD589', 175)\n",
      "('MD589', 176)\n",
      "('MD589', 177)\n",
      "('MD589', 178)\n",
      "('MD589', 179)\n",
      "('MD589', 180)\n",
      "('MD589', 181)\n",
      "('MD589', 182)\n",
      "('MD589', 183)\n",
      "('MD589', 184)\n",
      "('MD589', 185)\n",
      "('MD589', 186)\n",
      "('MD589', 187)\n",
      "('MD589', 188)\n",
      "('MD589', 189)\n",
      "('MD589', 190)\n",
      "('MD589', 191)\n",
      "('MD589', 192)\n",
      "('MD589', 193)\n",
      "('MD589', 194)\n",
      "('MD589', 195)\n",
      "('MD589', 196)\n",
      "('MD589', 197)\n",
      "('MD589', 198)\n",
      "('MD589', 199)\n",
      "('MD589', 200)\n",
      "('MD589', 201)\n",
      "('MD589', 202)\n",
      "('MD589', 203)\n",
      "('MD589', 204)\n",
      "('MD589', 205)\n",
      "('MD589', 206)\n",
      "('MD589', 207)\n",
      "('MD589', 208)\n",
      "('MD589', 209)\n",
      "('MD589', 210)\n",
      "('MD589', 211)\n",
      "('MD589', 212)\n",
      "('MD589', 213)\n",
      "('MD589', 214)\n",
      "('MD589', 215)\n",
      "('MD589', 216)\n",
      "('MD589', 217)\n",
      "('MD589', 218)\n",
      "('MD589', 219)\n",
      "('MD589', 220)\n",
      "('MD589', 222)\n",
      "('MD589', 223)\n",
      "('MD589', 224)\n",
      "('MD589', 225)\n",
      "('MD589', 226)\n",
      "('MD589', 227)\n",
      "('MD589', 228)\n",
      "('MD589', 229)\n",
      "('MD589', 230)\n",
      "('MD589', 231)\n",
      "('MD589', 232)\n",
      "('MD589', 233)\n",
      "('MD589', 234)\n",
      "('MD589', 235)\n",
      "('MD589', 236)\n",
      "('MD589', 237)\n",
      "('MD589', 238)\n",
      "('MD589', 239)\n",
      "('MD589', 240)\n",
      "('MD589', 241)\n",
      "('MD589', 242)\n",
      "('MD589', 243)\n",
      "('MD589', 244)\n",
      "('MD589', 245)\n",
      "('MD589', 246)\n",
      "('MD589', 247)\n",
      "('MD589', 248)\n",
      "('MD589', 249)\n",
      "('MD589', 250)\n",
      "('MD589', 251)\n",
      "('MD589', 252)\n",
      "('MD589', 253)\n",
      "('MD589', 254)\n",
      "('MD589', 255)\n",
      "('MD589', 256)\n",
      "('MD589', 257)\n",
      "('MD589', 258)\n",
      "('MD589', 259)\n",
      "('MD589', 260)\n",
      "('MD589', 261)\n",
      "('MD589', 262)\n",
      "('MD589', 263)\n",
      "('MD589', 264)\n",
      "('MD589', 265)\n",
      "('MD589', 266)\n",
      "('MD589', 267)\n",
      "('MD589', 268)\n",
      "('MD589', 269)\n",
      "('MD589', 270)\n",
      "('MD589', 271)\n",
      "('MD589', 272)\n",
      "('MD589', 273)\n",
      "('MD589', 274)\n",
      "('MD589', 275)\n",
      "('MD589', 276)\n",
      "('MD589', 277)\n",
      "('MD589', 278)\n",
      "('MD589', 279)\n",
      "('MD589', 280)\n",
      "('MD589', 281)\n",
      "('MD589', 282)\n",
      "('MD589', 283)\n",
      "('MD589', 284)\n",
      "('MD589', 285)\n",
      "('MD589', 286)\n",
      "('MD589', 287)\n",
      "('MD589', 288)\n",
      "('MD589', 289)\n",
      "('MD589', 290)\n",
      "('MD589', 291)\n",
      "('MD589', 292)\n",
      "('MD589', 293)\n",
      "('MD589', 294)\n",
      "('MD589', 295)\n",
      "('MD589', 296)\n",
      "('MD589', 297)\n",
      "('MD589', 298)\n",
      "('MD589', 299)\n",
      "('MD589', 301)\n",
      "('MD589', 302)\n",
      "('MD589', 303)\n",
      "('MD589', 304)\n",
      "('MD589', 305)\n",
      "('MD589', 306)\n",
      "('MD589', 307)\n",
      "('MD589', 308)\n",
      "('MD589', 309)\n",
      "('MD589', 310)\n",
      "('MD589', 311)\n",
      "('MD589', 312)\n",
      "('MD589', 313)\n",
      "('MD589', 314)\n",
      "('MD589', 315)\n",
      "('MD589', 316)\n",
      "('MD589', 317)\n",
      "('MD589', 318)\n",
      "('MD589', 319)\n",
      "('MD589', 320)\n",
      "('MD589', 321)\n",
      "('MD589', 322)\n",
      "('MD589', 323)\n",
      "('MD589', 325)\n",
      "('MD589', 326)\n",
      "('MD589', 327)\n",
      "('MD589', 328)\n",
      "('MD589', 329)\n",
      "('MD589', 330)\n",
      "('MD589', 331)\n",
      "('MD589', 332)\n",
      "('MD589', 333)\n",
      "('MD589', 334)\n",
      "('MD589', 335)\n",
      "('MD589', 336)\n",
      "('MD589', 337)\n",
      "('MD589', 338)\n",
      "('MD589', 339)\n",
      "('MD589', 340)\n",
      "('MD589', 341)\n",
      "('MD589', 342)\n",
      "('MD589', 343)\n",
      "('MD589', 344)\n",
      "('MD589', 345)\n",
      "('MD589', 346)\n",
      "('MD589', 347)\n",
      "('MD589', 348)\n",
      "('MD589', 349)\n",
      "('MD589', 350)\n",
      "('MD589', 351)\n",
      "('MD589', 352)\n",
      "('MD589', 353)\n",
      "('MD589', 354)\n",
      "('MD589', 355)\n",
      "('MD589', 356)\n",
      "('MD589', 357)\n",
      "('MD589', 358)\n",
      "('MD589', 359)\n",
      "('MD589', 360)\n",
      "('MD589', 361)\n",
      "('MD589', 362)\n",
      "('MD589', 363)\n",
      "('MD589', 364)\n",
      "('MD589', 365)\n",
      "('MD589', 366)\n",
      "('MD589', 367)\n",
      "('MD589', 368)\n",
      "('MD589', 369)\n",
      "('MD589', 370)\n",
      "('MD594', 94)\n",
      "('MD594', 95)\n",
      "('MD594', 96)\n",
      "('MD594', 97)\n",
      "('MD594', 98)\n",
      "('MD594', 99)\n",
      "('MD594', 100)\n",
      "('MD594', 101)\n",
      "('MD594', 102)\n",
      "('MD594', 103)\n",
      "('MD594', 104)\n",
      "('MD594', 105)\n",
      "('MD594', 106)\n",
      "('MD594', 107)\n",
      "('MD594', 108)\n",
      "('MD594', 109)\n",
      "('MD594', 110)\n",
      "('MD594', 111)\n",
      "('MD594', 112)\n",
      "('MD594', 113)\n",
      "('MD594', 114)\n",
      "('MD594', 115)\n",
      "('MD594', 116)\n",
      "('MD594', 117)\n",
      "('MD594', 118)\n",
      "('MD594', 119)\n",
      "('MD594', 120)\n",
      "('MD594', 121)\n",
      "('MD594', 122)\n",
      "('MD594', 123)\n",
      "('MD594', 124)\n",
      "('MD594', 125)\n",
      "('MD594', 126)\n",
      "('MD594', 127)\n",
      "('MD594', 128)\n",
      "('MD594', 129)\n",
      "('MD594', 130)\n",
      "('MD594', 132)\n",
      "('MD594', 133)\n",
      "('MD594', 134)\n",
      "('MD594', 135)\n",
      "('MD594', 136)\n",
      "('MD594', 137)\n",
      "('MD594', 138)\n",
      "('MD594', 139)\n",
      "('MD594', 140)\n",
      "('MD594', 141)\n",
      "('MD594', 142)\n",
      "('MD594', 143)\n",
      "('MD594', 144)\n",
      "('MD594', 145)\n",
      "('MD594', 146)\n",
      "('MD594', 147)\n",
      "('MD594', 148)\n",
      "('MD594', 149)\n",
      "('MD594', 150)\n",
      "('MD594', 151)\n",
      "('MD594', 152)\n",
      "('MD594', 153)\n",
      "('MD594', 154)\n",
      "('MD594', 155)\n",
      "('MD594', 156)\n",
      "('MD594', 157)\n",
      "('MD594', 158)\n",
      "('MD594', 159)\n",
      "('MD594', 160)\n",
      "('MD594', 161)\n",
      "('MD594', 162)\n",
      "('MD594', 163)\n",
      "('MD594', 164)\n",
      "('MD594', 165)\n",
      "('MD594', 166)\n",
      "('MD594', 167)\n",
      "('MD594', 168)\n",
      "('MD594', 169)\n",
      "('MD594', 170)\n",
      "('MD594', 171)\n",
      "('MD594', 172)\n",
      "('MD594', 173)\n",
      "('MD594', 174)\n",
      "('MD594', 175)\n",
      "('MD594', 176)\n",
      "('MD594', 177)\n",
      "('MD594', 178)\n",
      "('MD594', 179)\n",
      "('MD594', 180)\n",
      "('MD594', 181)\n",
      "('MD594', 182)\n",
      "('MD594', 183)\n",
      "('MD594', 184)\n",
      "('MD594', 185)\n",
      "('MD594', 186)\n",
      "('MD594', 188)\n",
      "('MD594', 189)\n",
      "('MD594', 190)\n",
      "('MD594', 191)\n",
      "('MD594', 192)\n",
      "('MD594', 194)\n",
      "('MD594', 195)\n",
      "('MD594', 196)\n",
      "('MD594', 197)\n",
      "('MD594', 198)\n",
      "('MD594', 199)\n"
     ]
    },
    {
     "name": "stderr",
     "output_type": "stream",
     "text": [
      "Patch in annotation but not in mask: MD594 199 MD594-N42-2015.08.26-23.18.56_MD594_1_0124 alignedTo MD594-IHC58-2015.08.26-18.48.50_MD594_1_0172 @23985\n"
     ]
    },
    {
     "name": "stdout",
     "output_type": "stream",
     "text": [
      "('MD594', 200)\n",
      "('MD594', 201)\n",
      "('MD594', 202)\n",
      "('MD594', 203)\n",
      "('MD594', 204)\n",
      "('MD594', 205)\n",
      "('MD594', 206)\n",
      "('MD594', 207)\n",
      "('MD594', 208)\n",
      "('MD594', 209)\n",
      "('MD594', 210)\n",
      "('MD594', 211)\n",
      "('MD594', 212)\n",
      "('MD594', 213)\n",
      "('MD594', 214)\n",
      "('MD594', 215)\n",
      "('MD594', 216)\n",
      "('MD594', 217)\n",
      "('MD594', 218)\n",
      "('MD594', 219)\n",
      "('MD594', 220)\n",
      "('MD594', 221)\n",
      "('MD594', 222)\n",
      "('MD594', 223)\n",
      "('MD594', 224)\n",
      "('MD594', 225)\n",
      "('MD594', 226)\n",
      "('MD594', 227)\n",
      "('MD594', 228)\n",
      "('MD594', 229)\n",
      "('MD594', 230)\n",
      "('MD594', 231)\n",
      "('MD594', 232)\n",
      "('MD594', 233)\n",
      "('MD594', 234)\n",
      "('MD594', 235)\n",
      "('MD594', 236)\n",
      "('MD594', 237)\n",
      "('MD594', 239)\n",
      "('MD594', 240)\n",
      "('MD594', 241)\n",
      "('MD594', 242)\n",
      "('MD594', 243)\n",
      "('MD594', 244)\n",
      "('MD594', 245)\n",
      "('MD594', 246)\n",
      "('MD594', 247)\n"
     ]
    },
    {
     "name": "stderr",
     "output_type": "stream",
     "text": [
      "Patch in annotation but not in mask: MD594 247 MD594-N54-2015.08.27-00.02.48_MD594_2_0161 alignedTo MD594-IHC58-2015.08.26-18.48.50_MD594_1_0172 @21840\n"
     ]
    },
    {
     "name": "stdout",
     "output_type": "stream",
     "text": [
      "('MD594', 248)\n",
      "('MD594', 249)\n",
      "('MD594', 250)\n",
      "('MD594', 251)\n",
      "('MD594', 252)\n",
      "('MD594', 253)\n",
      "('MD594', 254)\n",
      "('MD594', 255)\n",
      "('MD594', 256)\n",
      "('MD594', 257)\n",
      "('MD594', 258)\n",
      "('MD594', 259)\n",
      "('MD594', 260)\n",
      "('MD594', 262)\n",
      "('MD594', 263)\n",
      "('MD594', 264)\n",
      "('MD594', 265)\n",
      "('MD594', 266)\n",
      "('MD594', 267)\n",
      "('MD594', 268)\n",
      "('MD594', 269)\n",
      "('MD594', 270)\n",
      "('MD594', 271)\n",
      "('MD594', 272)\n",
      "('MD594', 273)\n"
     ]
    },
    {
     "name": "stderr",
     "output_type": "stream",
     "text": [
      "Patch in annotation but not in mask: MD594 273 MD594-N61-2015.08.27-00.31.50_MD594_1_0181 alignedTo MD594-IHC58-2015.08.26-18.48.50_MD594_1_0172 @43649\n"
     ]
    },
    {
     "name": "stdout",
     "output_type": "stream",
     "text": [
      "('MD594', 274)\n",
      "('MD594', 275)\n",
      "('MD594', 276)\n",
      "('MD594', 277)\n",
      "('MD594', 278)\n",
      "('MD594', 279)\n",
      "('MD594', 280)\n",
      "('MD594', 281)\n",
      "('MD594', 282)\n",
      "('MD594', 283)\n",
      "('MD594', 284)\n",
      "('MD594', 285)\n",
      "('MD594', 286)\n",
      "('MD594', 287)\n",
      "('MD594', 288)\n",
      "('MD594', 289)\n",
      "('MD594', 290)\n",
      "('MD594', 291)\n",
      "('MD594', 292)\n",
      "('MD594', 293)\n",
      "('MD594', 294)\n",
      "('MD594', 295)\n",
      "('MD594', 296)\n",
      "('MD594', 297)\n",
      "('MD594', 298)\n",
      "('MD594', 299)\n",
      "('MD594', 300)\n",
      "('MD594', 301)\n",
      "('MD594', 302)\n",
      "('MD594', 303)\n",
      "('MD594', 304)\n",
      "('MD594', 305)\n",
      "('MD594', 306)\n",
      "('MD594', 307)\n",
      "('MD594', 308)\n",
      "('MD594', 309)\n",
      "('MD594', 310)\n",
      "('MD594', 311)\n",
      "('MD594', 312)\n",
      "('MD594', 313)\n",
      "('MD594', 314)\n",
      "('MD594', 315)\n",
      "('MD594', 316)\n",
      "('MD594', 317)\n",
      "('MD594', 318)\n",
      "('MD594', 319)\n",
      "('MD594', 320)\n",
      "('MD594', 321)\n",
      "('MD594', 322)\n",
      "('MD594', 323)\n",
      "('MD594', 324)\n",
      "('MD594', 325)\n",
      "('MD594', 326)\n",
      "('MD594', 327)\n",
      "('MD594', 328)\n",
      "('MD594', 329)\n",
      "('MD594', 330)\n",
      "('MD594', 331)\n",
      "('MD594', 332)\n",
      "('MD594', 333)\n",
      "('MD594', 334)\n",
      "('MD594', 335)\n",
      "('MD594', 336)\n",
      "('MD594', 337)\n",
      "('MD594', 338)\n",
      "('MD594', 339)\n",
      "('MD594', 340)\n",
      "('MD594', 342)\n",
      "('MD594', 343)\n",
      "('MD594', 344)\n",
      "('MD594', 345)\n",
      "('MD594', 346)\n",
      "('MD594', 347)\n",
      "('MD594', 348)\n",
      "('MD594', 349)\n",
      "('MD594', 350)\n",
      "('MD594', 351)\n",
      "('MD594', 352)\n",
      "('MD594', 353)\n",
      "('MD594', 354)\n",
      "('MD594', 355)\n",
      "('MD594', 356)\n",
      "('MD594', 357)\n",
      "('MD594', 358)\n",
      "('MD594', 359)\n",
      "('MD594', 360)\n",
      "('MD594', 361)\n",
      "('MD594', 362)\n",
      "('MD594', 363)\n"
     ]
    }
   ],
   "source": [
    "test_features = apply_function_to_dict(addresses_to_features, test_addresses)"
   ]
  },
  {
   "cell_type": "code",
   "execution_count": 11,
   "metadata": {
    "collapsed": false
   },
   "outputs": [
    {
     "name": "stderr",
     "output_type": "stream",
     "text": [
      "Cannot import mxnet.\n"
     ]
    }
   ],
   "source": [
    "test_features = {name: np.array([f for f in feats if f is not None]) for name, feats in test_features.iteritems()}"
   ]
  },
  {
   "cell_type": "code",
   "execution_count": 13,
   "metadata": {
    "collapsed": false
   },
   "outputs": [],
   "source": [
    "test_feat_dir = create_if_not_exists(os.path.join(SVM_ROOTDIR, 'test_features'))\n",
    "\n",
    "for name_u, feats in test_features.iteritems():\n",
    "    bp.pack_ndarray_file(feats, os.path.join(test_feat_dir, name_u + '.bp'))"
   ]
  },
  {
   "cell_type": "code",
   "execution_count": null,
   "metadata": {
    "collapsed": true
   },
   "outputs": [],
   "source": [
    "test_feat_dir = create_if_not_exists(os.path.join(SVM_ROOTDIR, 'test_features'))\n",
    "\n",
    "test_features = {name_u: bp.unpack_ndarray_file(os.path.join(test_feat_dir, name_u + '.bp'))\n",
    "                     for name_u in labels_to_sample}"
   ]
  },
  {
   "cell_type": "code",
   "execution_count": 1,
   "metadata": {
    "collapsed": false
   },
   "outputs": [],
   "source": [
    "# for label in structures:\n",
    "            \n",
    "#     print label\n",
    "\n",
    "#     features_pos = test_features[label]\n",
    "#     features_neg = np.vstack([test_features[l] for l in set(labels_to_sample) - set(label)])\n",
    "    \n",
    "#     test_data = np.r_[features_pos, features_neg]\n",
    "#     test_labels = np.r_[np.ones((features_pos.shape[0], )), \n",
    "#                          -np.ones((features_neg.shape[0], ))]\n",
    "    \n",
    "#     svc = svc_allClasses[label]\n",
    "    \n",
    "#     probs = svc.predict_proba(test_data)[:, svc.classes_.tolist().index(1.)]\n",
    "#     cm = compute_confusion_matrix(np.c_[probs, 1-probs], [0 if l==1. else 1 for l in test_labels], soft=True)\n",
    "#     plot_confusion_matrix(cm, [label, 'non-'+label])\n",
    "#     plt.show();"
   ]
  },
  {
   "cell_type": "code",
   "execution_count": 28,
   "metadata": {
    "collapsed": true
   },
   "outputs": [],
   "source": [
    "acc_all_structures = {}"
   ]
  },
  {
   "cell_type": "code",
   "execution_count": 29,
   "metadata": {
    "collapsed": false
   },
   "outputs": [
    {
     "data": {
      "image/png": "[encoded data removed]",
      "text/plain": [
       "<matplotlib.figure.Figure at 0x190e72d0>"
      ]
     },
     "metadata": {},
     "output_type": "display_data"
    }
   ],
   "source": [
    "nrows = len(structures)/5 + 1\n",
    "ncols = 5\n",
    "\n",
    "fig, axes = plt.subplots(nrows, ncols, figsize=(ncols*2, nrows*2), sharex=True, sharey=True)\n",
    "axes = axes.flatten()\n",
    "\n",
    "for i, label in enumerate(structures):\n",
    "    \n",
    "    features_pos = test_features[label]\n",
    "    features_neg = test_features[convert_to_surround_name(label)]\n",
    "    \n",
    "    test_data = np.r_[features_pos, features_neg]\n",
    "    test_labels = np.r_[np.ones((features_pos.shape[0], )), \n",
    "                         -np.ones((features_neg.shape[0], ))]\n",
    "    \n",
    "    svc = svc_allClasses[label]\n",
    "    \n",
    "    probs = svc.predict_proba(test_data)[:, svc.classes_.tolist().index(1.)]\n",
    "    cm = compute_confusion_matrix(np.c_[probs, 1-probs], [0 if l==1. else 1 for l in test_labels], soft=True)\n",
    "    \n",
    "    acc_all_structures[label] = .5 * (cm[0,0] + cm[1,1])\n",
    "    \n",
    "    plot_confusion_matrix(cm, title='%(label)s'% {'label':label},\n",
    "                          labels=['',''],\n",
    "#                           labels=[label, convert_to_surround_name(label)],\n",
    "                         axis=axes[i])\n",
    "#     plt.show();\n",
    "\n",
    "plt.tight_layout()"
   ]
  },
  {
   "cell_type": "code",
   "execution_count": 30,
   "metadata": {
    "collapsed": false
   },
   "outputs": [
    {
     "data": {
      "text/plain": [
       "0.8357240846034365"
      ]
     },
     "execution_count": 30,
     "metadata": {},
     "output_type": "execute_result"
    }
   ],
   "source": [
    "np.mean(acc_all_structures.values())"
   ]
  },
  {
   "cell_type": "code",
   "execution_count": null,
   "metadata": {
    "collapsed": true
   },
   "outputs": [],
   "source": []
  },
  {
   "cell_type": "code",
   "execution_count": null,
   "metadata": {
    "collapsed": true
   },
   "outputs": [],
   "source": [
    "# Predict full frame"
   ]
  },
  {
   "cell_type": "code",
   "execution_count": null,
   "metadata": {
    "collapsed": false
   },
   "outputs": [],
   "source": [
    "stack = 'MD591'\n",
    "\n",
    "filenames_to_sections, sections_to_filenames = DataManager.load_sorted_filenames(stack)\n",
    "first_sec, last_sec = DataManager.load_cropbox(stack)[4:]\n",
    "anchor_fn = DataManager.load_anchor_filename(stack)"
   ]
  },
  {
   "cell_type": "code",
   "execution_count": null,
   "metadata": {
    "collapsed": true
   },
   "outputs": [],
   "source": [
    "def svm_predict(stack, sec):\n",
    "    fn = sections_to_filenames[sec]\n",
    "    if fn in ['Nonexisting', 'Rescan', 'Placeholder']:\n",
    "        return\n",
    "\n",
    "    feature_fn = PATCH_FEATURES_ROOTDIR + '/%(stack)s/%(fn)s_lossless_alignedTo_%(anchor_fn)s_cropped/%(fn)s_lossless_alignedTo_%(anchor_fn)s_cropped_features.hdf' % dict(stack=stack, fn=fn, anchor_fn=anchor_fn)\n",
    "    \n",
    "    try:\n",
    "        features = load_hdf(feature_fn)\n",
    "    except Exception as e:\n",
    "        sys.stderr.write(e.message + '\\n')\n",
    "        return\n",
    "    \n",
    "    output_dir = create_if_not_exists(os.path.join(SPARSE_SCORES_ROOTDIR, stack, '%(fn)s_lossless_alignedTo_%(anchor_fn)s_cropped' % \\\n",
    "                                      {'fn': fn, 'anchor_fn': anchor_fn}))\n",
    "    \n",
    "    for label in structures:\n",
    "        svc = svc_allClasses[label]\n",
    "        probs = svc.predict_proba(features)[:, svc.classes_.tolist().index(1.)]\n",
    "        output_fn = output_dir + '/%(fn)s_lossless_alignedTo_%(anchor_fn)s_cropped_%(label)s_sparseScores.hdf' % \\\n",
    "                    {'fn': fn, 'anchor_fn': anchor_fn, 'label':label}\n",
    "        bp.pack_ndarray_file(probs, output_fn)"
   ]
  },
  {
   "cell_type": "code",
   "execution_count": null,
   "metadata": {
    "collapsed": false
   },
   "outputs": [],
   "source": [
    "t = time.time()\n",
    "# Parallel(n_jobs=8)(delayed(svm_predict)(stack=stack, sec=sec) for sec in range(first_sec, last_sec+1))\n",
    "Parallel(n_jobs=8)(delayed(svm_predict)(stack=stack, sec=sec) for sec in range(200, 201))\n",
    "sys.stderr.write('svm predict: %.2f seconds\\n' % (time.time() - t)) # 35 s / 10 section; 863 seconds /stack"
   ]
  },
  {
   "cell_type": "code",
   "execution_count": null,
   "metadata": {
    "collapsed": true
   },
   "outputs": [],
   "source": []
  }
 ],
 "metadata": {
  "kernelspec": {
   "display_name": "Python 2",
   "language": "python",
   "name": "python2"
  },
  "language_info": {
   "codemirror_mode": {
    "name": "ipython",
    "version": 2
   },
   "file_extension": ".py",
   "mimetype": "text/x-python",
   "name": "python",
   "nbconvert_exporter": "python",
   "pygments_lexer": "ipython2",
   "version": "2.7.3"
  }
 },
 "nbformat": 4,
 "nbformat_minor": 0
}
