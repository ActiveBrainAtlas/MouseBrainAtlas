{
 "cells": [
  {
   "cell_type": "code",
   "execution_count": null,
   "metadata": {
    "collapsed": true
   },
   "outputs": [],
   "source": [
    "all_sps_secs =[(sps, sec) for sps, dedges, sig, stack, sec, prop_type, usr, ts in label_examples['Pn']]"
   ]
  },
  {
   "cell_type": "code",
   "execution_count": null,
   "metadata": {
    "collapsed": true
   },
   "outputs": [],
   "source": [
    "ncol = 3\n",
    "\n",
    "n_cls = len(label_examples['Pn'])\n",
    "fig, axes = plt.subplots(int((n_cls-1)/ncol)+1, ncol, figsize=(20,20), squeeze=True)\n",
    "axes = axes.flatten()\n",
    "# axes = np.atleast_1d(axes)\n",
    "\n",
    "for i, (sps, sec) in enumerate(all_sps_secs):\n",
    "    center = dms[sec].sp_centroids[sps]\n",
    "    \n",
    "    ymin, xmin  = center.min(axis=0) - 300\n",
    "    ymax, xmax  = center.max(axis=0) + 300\n",
    "    \n",
    "    viz = dms[sec].visualize_cluster(sps, xmin=xmin, ymin=ymin, xmax=xmax, ymax=ymax)\n",
    "    axes[i].imshow(viz)\n",
    "    axes[i].set_title('section %d' % sec)\n",
    "    axes[i].axis('off')\n",
    "    \n",
    "plt.show()"
   ]
  },
  {
   "cell_type": "code",
   "execution_count": null,
   "metadata": {
    "collapsed": true
   },
   "outputs": [],
   "source": [
    "# atlas = img_as_ubyte(dms[139].image_rgb_jpg)\n",
    "# for label, (v1,v2,s1,s2,c0) in label_position.iteritems():\n",
    "#     angle = np.rad2deg(np.arctan2(v1[1], v1[0]))\n",
    "#     cv2.ellipse(atlas, tuple(c0.astype(np.int)), (int(2*1.5*s1), int(2*1.5*s2)), int(angle), 0, 360, (0,255,0), 10)\n",
    "# display(atlas)"
   ]
  }
 ],
 "metadata": {
  "kernelspec": {
   "display_name": "Python 2",
   "language": "python",
   "name": "python2"
  },
  "language_info": {
   "codemirror_mode": {
    "name": "ipython",
    "version": 2
   },
   "file_extension": ".py",
   "mimetype": "text/x-python",
   "name": "python",
   "nbconvert_exporter": "python",
   "pygments_lexer": "ipython2",
   "version": "2.7.3"
  }
 },
 "nbformat": 4,
 "nbformat_minor": 0
}
