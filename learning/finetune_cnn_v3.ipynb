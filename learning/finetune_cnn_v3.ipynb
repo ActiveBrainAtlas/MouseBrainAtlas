{
 "cells": [
  {
   "cell_type": "code",
   "execution_count": 1,
   "metadata": {
    "collapsed": false,
    "scrolled": true
   },
   "outputs": [
    {
     "name": "stderr",
     "output_type": "stream",
     "text": [
      "/usr/local/lib/python2.7/dist-packages/matplotlib/__init__.py:1350: UserWarning:  This call to matplotlib.use() has no effect\n",
      "because the backend has already been chosen;\n",
      "matplotlib.use() must be called *before* pylab, matplotlib.pyplot,\n",
      "or matplotlib.backends is imported for the first time.\n",
      "\n",
      "  warnings.warn(_use_error_msg)\n",
      "Cannot load cv2.\n"
     ]
    },
    {
     "name": "stdout",
     "output_type": "stream",
     "text": [
      "Setting environment for Precision WorkStation\n"
     ]
    },
    {
     "name": "stderr",
     "output_type": "stream",
     "text": [
      "No vtk\n",
      "Cannot load cv2.\n"
     ]
    }
   ],
   "source": [
    "%load_ext autoreload\n",
    "%autoreload 2\n",
    "\n",
    "import sys\n",
    "import os\n",
    "import time\n",
    "\n",
    "import numpy as np\n",
    "import mxnet as mx\n",
    "import matplotlib.pyplot as plt\n",
    "%matplotlib inline\n",
    "\n",
    "sys.path.append(os.environ['REPO_DIR'] + '/utilities')\n",
    "from utilities2015 import *\n",
    "from metadata import *\n",
    "from data_manager import *\n",
    "from learning_utilities import *"
   ]
  },
  {
   "cell_type": "code",
   "execution_count": 2,
   "metadata": {
    "collapsed": true
   },
   "outputs": [],
   "source": [
    "import logging\n",
    "\n",
    "# This does not output anything on workstation, for some reason\n",
    "# See https://stackoverflow.com/questions/18786912/get-output-from-the-logging-module-in-ipython-notebook/21475297#21475297\n",
    "# head = '%(asctime)-15s %(message)s'\n",
    "#logging.basicConfig(level=logging.DEBUG, format=head) \n",
    "\n",
    "# This works on workstation\n",
    "logger = logging.getLogger()\n",
    "fhandler = logging.FileHandler(filename='mylog.log', mode='a')\n",
    "formatter = logging.Formatter( '%(asctime)-15s %(message)s')\n",
    "fhandler.setFormatter(formatter)\n",
    "logger.addHandler(fhandler)\n",
    "logger.setLevel(logging.DEBUG)"
   ]
  },
  {
   "cell_type": "code",
   "execution_count": 3,
   "metadata": {
    "collapsed": false
   },
   "outputs": [],
   "source": [
    "classifier_id = 70\n",
    "classifier_properties = classifier_settings.loc[classifier_id]\n",
    "\n",
    "margin = classifier_properties['margin']\n",
    "# model = classifier_properties['model']\n",
    "sample_weighting = classifier_properties['sample_weighting']\n",
    "neg_composition = classifier_properties['neg_composition']"
   ]
  },
  {
   "cell_type": "code",
<<<<<<< HEAD
   "execution_count": 4,
   "metadata": {
    "collapsed": false
   },
=======
   "execution_count": 3,
   "metadata": {},
>>>>>>> 666df553fa81c06a1e50dace45aa13e495ea3dfa
   "outputs": [],
   "source": [
    "model_dir_name = 'inception-bn-blue-softmax'\n",
    "download_from_s3(os.path.join(MXNET_MODEL_ROOTDIR, model_dir_name), is_dir=True)\n",
    "model_name = 'inception-bn-blue-softmax'\n",
    "model_iteration = 0\n",
    "output_symbol_name = 'softmax_output'\n",
    "output_dim = 1024\n",
    "mean_img = np.load(os.path.join(MXNET_MODEL_ROOTDIR, model_dir_name, 'mean_224.npy'))\n",
    "\n",
    "# Reference on how to predict with mxnet model:\n",
    "# https://github.com/dmlc/mxnet-notebooks/blob/master/python/how_to/predict.ipynb\n",
    "model_prefix = os.path.join(MXNET_MODEL_ROOTDIR, model_dir_name, model_name)\n",
    "model0, arg_params, aux_params = mx.model.load_checkpoint(model_prefix, 0)"
   ]
  },
  {
   "cell_type": "code",
   "execution_count": 4,
   "metadata": {
    "collapsed": true
   },
   "outputs": [],
   "source": [
    "# Finetune\n",
    "# http://mxnet.io/how_to/finetune.html"
   ]
  },
  {
   "cell_type": "code",
   "execution_count": 5,
   "metadata": {
    "collapsed": true
   },
   "outputs": [],
   "source": [
    "def get_fine_tune_model(symbol, arg_params, num_classes, layer_name='flatten'):\n",
    "    \"\"\"\n",
    "    symbol: the pretrained network symbol\n",
    "    arg_params: the argument parameters of the pretrained model\n",
    "    num_classes: the number of classes for the fine-tune datasets\n",
    "    layer_name: the layer name before the last fully-connected layer\n",
    "    \"\"\"\n",
    "    all_layers = symbol.get_internals()\n",
    "    net = all_layers[layer_name + '_output']\n",
    "    net = mx.symbol.FullyConnected(data=net, num_hidden=num_classes, name='fc1')\n",
    "    net = mx.symbol.SoftmaxOutput(data=net, name='softmax')\n",
    "    new_args = {k: arg_params[k] for k in arg_params if 'fc1' not in k}\n",
    "    return (net, new_args)"
   ]
  },
  {
   "cell_type": "code",
   "execution_count": 6,
   "metadata": {
    "collapsed": true
   },
   "outputs": [],
   "source": [
    "num_classes = 2\n",
    "(new_sym, new_args) = get_fine_tune_model(model0, arg_params, num_classes)"
   ]
  },
  {
   "cell_type": "code",
<<<<<<< HEAD
   "execution_count": 8,
=======
   "execution_count": 7,
>>>>>>> 666df553fa81c06a1e50dace45aa13e495ea3dfa
   "metadata": {
    "collapsed": true
   },
   "outputs": [],
   "source": [
    "def fit(symbol, arg_params, aux_params, train, val, batch_size, num_gpus, num_epoch, epoch_end_callback):\n",
    "    devs = [mx.gpu(i) for i in range(num_gpus)]\n",
    "    mod = mx.mod.Module(symbol=symbol, context=devs)\n",
    "    mod.fit(train, val,\n",
    "        num_epoch=num_epoch,\n",
    "        arg_params=arg_params,\n",
    "        aux_params=aux_params,\n",
    "        allow_missing=True,\n",
    "        batch_end_callback = mx.callback.Speedometer(batch_size, 10),\n",
    "        kvstore='device',\n",
    "        optimizer='sgd',\n",
    "        optimizer_params={'learning_rate':0.01},\n",
    "        initializer=mx.init.Xavier(rnd_type='gaussian', factor_type=\"in\", magnitude=2),\n",
    "        eval_metric='acc',\n",
    "           epoch_end_callback=epoch_end_callback)\n",
    "    metric = mx.metric.Accuracy()\n",
    "    return mod.score(val, metric)"
   ]
  },
  {
   "cell_type": "code",
<<<<<<< HEAD
   "execution_count": 9,
=======
   "execution_count": 8,
>>>>>>> 666df553fa81c06a1e50dace45aa13e495ea3dfa
   "metadata": {
    "collapsed": true
   },
   "outputs": [],
   "source": [
    "batch_per_gpu = 16\n",
    "num_gpus = 1\n",
    "batch_size = batch_per_gpu * num_gpus"
   ]
  },
  {
   "cell_type": "code",
<<<<<<< HEAD
   "execution_count": 10,
=======
   "execution_count": 9,
>>>>>>> 666df553fa81c06a1e50dace45aa13e495ea3dfa
   "metadata": {
    "collapsed": true
   },
   "outputs": [],
   "source": [
    "from mxnet.model import save_checkpoint\n",
    "\n",
    "def my_epoch_end_callback(prefix, period=1):\n",
    "    def _callback(epoch, sym, arg, aux):    \n",
    "        if epoch % period == 0:\n",
    "            save_checkpoint(prefix, epoch, sym, arg, aux)\n",
    "            symbol_fp = '%s-symbol.json' % prefix\n",
    "            param_fp = '%s-%04d.params' % (prefix, epoch)\n",
    "            upload_to_s3(symbol_fp)\n",
    "            upload_to_s3(param_fp)\n",
    "    return _callback"
   ]
  },
  {
   "cell_type": "code",
<<<<<<< HEAD
   "execution_count": null,
=======
   "execution_count": 10,
>>>>>>> 666df553fa81c06a1e50dace45aa13e495ea3dfa
   "metadata": {
    "collapsed": false,
    "scrolled": true
   },
   "outputs": [
    {
     "name": "stdout",
     "output_type": "stream",
     "text": [
      "LRt\n",
      "rm -rf /home/yuncong/CSHL_classifiers/datasets/dataset_60/patch_images_LRt_surround_500_5N.hdf && mkdir -p /home/yuncong/CSHL_classifiers/datasets/dataset_60\n",
      "aws s3 cp s3://mousebrainatlas-data/CSHL_classifiers/datasets/dataset_60/patch_images_LRt_surround_500_5N.hdf /home/yuncong/CSHL_classifiers/datasets/dataset_60/patch_images_LRt_surround_500_5N.hdf\n"
     ]
    },
    {
     "name": "stderr",
     "output_type": "stream",
     "text": [
      "Child returned 0\n",
      "Child returned 1\n",
<<<<<<< HEAD
      "0.73 seconds.\n",
      "Cannot load dataset images for label LRt_surround_500_5N: [Errno 2] No such file or directory: '/home/yuncong/CSHL_classifiers/datasets/dataset_60/patch_images_LRt_surround_500_5N.hdf'\n",
=======
      "0.56 seconds.\n",
      "Cannot load dataset images for label LRt_surround_500_5N: [Errno 2] No such file or directory: '/shared/CSHL_classifiers/datasets/dataset_60/patch_images_LRt_surround_500_5N.hdf'\n",
>>>>>>> 666df553fa81c06a1e50dace45aa13e495ea3dfa
      "Child returned 0\n"
     ]
    },
    {
     "name": "stdout",
     "output_type": "stream",
     "text": [
      "rm -rf /home/yuncong/CSHL_classifiers/datasets/dataset_60/patch_images_LRt_surround_500_6N.hdf && mkdir -p /home/yuncong/CSHL_classifiers/datasets/dataset_60\n",
      "aws s3 cp s3://mousebrainatlas-data/CSHL_classifiers/datasets/dataset_60/patch_images_LRt_surround_500_6N.hdf /home/yuncong/CSHL_classifiers/datasets/dataset_60/patch_images_LRt_surround_500_6N.hdf\n"
     ]
    },
    {
     "name": "stderr",
     "output_type": "stream",
     "text": [
      "Child returned 1\n",
<<<<<<< HEAD
      "0.69 seconds.\n",
      "Cannot load dataset images for label LRt_surround_500_6N: [Errno 2] No such file or directory: '/home/yuncong/CSHL_classifiers/datasets/dataset_60/patch_images_LRt_surround_500_6N.hdf'\n",
=======
      "0.45 seconds.\n",
      "Cannot load dataset images for label LRt_surround_500_6N: [Errno 2] No such file or directory: '/shared/CSHL_classifiers/datasets/dataset_60/patch_images_LRt_surround_500_6N.hdf'\n",
>>>>>>> 666df553fa81c06a1e50dace45aa13e495ea3dfa
      "Child returned 0\n"
     ]
    },
    {
     "name": "stdout",
     "output_type": "stream",
     "text": [
      "rm -rf /home/yuncong/CSHL_classifiers/datasets/dataset_60/patch_images_LRt_surround_500_7N.hdf && mkdir -p /home/yuncong/CSHL_classifiers/datasets/dataset_60\n",
      "aws s3 cp s3://mousebrainatlas-data/CSHL_classifiers/datasets/dataset_60/patch_images_LRt_surround_500_7N.hdf /home/yuncong/CSHL_classifiers/datasets/dataset_60/patch_images_LRt_surround_500_7N.hdf\n"
     ]
    },
    {
     "name": "stderr",
     "output_type": "stream",
     "text": [
      "Child returned 1\n",
<<<<<<< HEAD
      "0.70 seconds.\n",
      "Cannot load dataset images for label LRt_surround_500_7N: [Errno 2] No such file or directory: '/home/yuncong/CSHL_classifiers/datasets/dataset_60/patch_images_LRt_surround_500_7N.hdf'\n",
=======
      "0.44 seconds.\n",
      "Cannot load dataset images for label LRt_surround_500_7N: [Errno 2] No such file or directory: '/shared/CSHL_classifiers/datasets/dataset_60/patch_images_LRt_surround_500_7N.hdf'\n",
>>>>>>> 666df553fa81c06a1e50dace45aa13e495ea3dfa
      "Child returned 0\n"
     ]
    },
    {
     "name": "stdout",
     "output_type": "stream",
     "text": [
      "rm -rf /home/yuncong/CSHL_classifiers/datasets/dataset_60/patch_images_LRt_surround_500_7n.hdf && mkdir -p /home/yuncong/CSHL_classifiers/datasets/dataset_60\n",
      "aws s3 cp s3://mousebrainatlas-data/CSHL_classifiers/datasets/dataset_60/patch_images_LRt_surround_500_7n.hdf /home/yuncong/CSHL_classifiers/datasets/dataset_60/patch_images_LRt_surround_500_7n.hdf\n"
     ]
    },
    {
     "name": "stderr",
     "output_type": "stream",
     "text": [
      "Child returned 1\n",
<<<<<<< HEAD
      "0.68 seconds.\n",
      "Cannot load dataset images for label LRt_surround_500_7n: [Errno 2] No such file or directory: '/home/yuncong/CSHL_classifiers/datasets/dataset_60/patch_images_LRt_surround_500_7n.hdf'\n",
=======
      "0.43 seconds.\n",
      "Cannot load dataset images for label LRt_surround_500_7n: [Errno 2] No such file or directory: '/shared/CSHL_classifiers/datasets/dataset_60/patch_images_LRt_surround_500_7n.hdf'\n",
>>>>>>> 666df553fa81c06a1e50dace45aa13e495ea3dfa
      "Child returned 0\n"
     ]
    },
    {
     "name": "stdout",
     "output_type": "stream",
     "text": [
<<<<<<< HEAD
      "rm -rf /home/yuncong/CSHL_classifiers/datasets/dataset_60/patch_images_LRt_surround_500_LC.hdf && mkdir -p /home/yuncong/CSHL_classifiers/datasets/dataset_60\n",
      "aws s3 cp s3://mousebrainatlas-data/CSHL_classifiers/datasets/dataset_60/patch_images_LRt_surround_500_LC.hdf /home/yuncong/CSHL_classifiers/datasets/dataset_60/patch_images_LRt_surround_500_LC.hdf\n"
=======
      "rm -rf /shared/CSHL_classifiers/datasets/dataset_60/patch_images_LRt_surround_500_LC.hdf && mkdir -p /shared/CSHL_classifiers/datasets/dataset_60\n",
      "aws s3 cp s3://mousebrainatlas-data/CSHL_classifiers/datasets/dataset_60/patch_images_LRt_surround_500_LC.hdf /shared/CSHL_classifiers/datasets/dataset_60/patch_images_LRt_surround_500_LC.hdf\n"
>>>>>>> 666df553fa81c06a1e50dace45aa13e495ea3dfa
     ]
    },
    {
     "name": "stderr",
     "output_type": "stream",
     "text": [
      "Child returned 1\n",
<<<<<<< HEAD
      "0.70 seconds.\n",
      "Cannot load dataset images for label LRt_surround_500_LC: [Errno 2] No such file or directory: '/home/yuncong/CSHL_classifiers/datasets/dataset_60/patch_images_LRt_surround_500_LC.hdf'\n",
=======
      "0.44 seconds.\n",
      "Cannot load dataset images for label LRt_surround_500_LC: [Errno 2] No such file or directory: '/shared/CSHL_classifiers/datasets/dataset_60/patch_images_LRt_surround_500_LC.hdf'\n",
>>>>>>> 666df553fa81c06a1e50dace45aa13e495ea3dfa
      "Child returned 0\n"
     ]
    },
    {
     "name": "stdout",
     "output_type": "stream",
     "text": [
      "rm -rf /home/yuncong/CSHL_classifiers/datasets/dataset_60/patch_images_LRt_surround_500_Pn.hdf && mkdir -p /home/yuncong/CSHL_classifiers/datasets/dataset_60\n",
      "aws s3 cp s3://mousebrainatlas-data/CSHL_classifiers/datasets/dataset_60/patch_images_LRt_surround_500_Pn.hdf /home/yuncong/CSHL_classifiers/datasets/dataset_60/patch_images_LRt_surround_500_Pn.hdf\n"
     ]
    },
    {
     "name": "stderr",
     "output_type": "stream",
     "text": [
      "Child returned 1\n",
<<<<<<< HEAD
      "0.68 seconds.\n",
      "Cannot load dataset images for label LRt_surround_500_Pn: [Errno 2] No such file or directory: '/home/yuncong/CSHL_classifiers/datasets/dataset_60/patch_images_LRt_surround_500_Pn.hdf'\n",
=======
      "0.45 seconds.\n",
      "Cannot load dataset images for label LRt_surround_500_Pn: [Errno 2] No such file or directory: '/shared/CSHL_classifiers/datasets/dataset_60/patch_images_LRt_surround_500_Pn.hdf'\n",
>>>>>>> 666df553fa81c06a1e50dace45aa13e495ea3dfa
      "Child returned 0\n"
     ]
    },
    {
     "name": "stdout",
     "output_type": "stream",
     "text": [
      "rm -rf /home/yuncong/CSHL_classifiers/datasets/dataset_60/patch_images_LRt_surround_500_Tz.hdf && mkdir -p /home/yuncong/CSHL_classifiers/datasets/dataset_60\n",
      "aws s3 cp s3://mousebrainatlas-data/CSHL_classifiers/datasets/dataset_60/patch_images_LRt_surround_500_Tz.hdf /home/yuncong/CSHL_classifiers/datasets/dataset_60/patch_images_LRt_surround_500_Tz.hdf\n"
     ]
    },
    {
     "name": "stderr",
     "output_type": "stream",
     "text": [
      "Child returned 1\n",
<<<<<<< HEAD
      "0.70 seconds.\n",
      "Cannot load dataset images for label LRt_surround_500_Tz: [Errno 2] No such file or directory: '/home/yuncong/CSHL_classifiers/datasets/dataset_60/patch_images_LRt_surround_500_Tz.hdf'\n",
=======
      "0.44 seconds.\n",
      "Cannot load dataset images for label LRt_surround_500_Tz: [Errno 2] No such file or directory: '/shared/CSHL_classifiers/datasets/dataset_60/patch_images_LRt_surround_500_Tz.hdf'\n",
>>>>>>> 666df553fa81c06a1e50dace45aa13e495ea3dfa
      "Child returned 0\n"
     ]
    },
    {
     "name": "stdout",
     "output_type": "stream",
     "text": [
      "rm -rf /home/yuncong/CSHL_classifiers/datasets/dataset_60/patch_images_LRt_surround_500_VLL.hdf && mkdir -p /home/yuncong/CSHL_classifiers/datasets/dataset_60\n",
      "aws s3 cp s3://mousebrainatlas-data/CSHL_classifiers/datasets/dataset_60/patch_images_LRt_surround_500_VLL.hdf /home/yuncong/CSHL_classifiers/datasets/dataset_60/patch_images_LRt_surround_500_VLL.hdf\n"
     ]
    },
    {
     "name": "stderr",
     "output_type": "stream",
     "text": [
      "Child returned 1\n",
<<<<<<< HEAD
      "0.75 seconds.\n",
      "Cannot load dataset images for label LRt_surround_500_VLL: [Errno 2] No such file or directory: '/home/yuncong/CSHL_classifiers/datasets/dataset_60/patch_images_LRt_surround_500_VLL.hdf'\n",
=======
      "0.44 seconds.\n",
      "Cannot load dataset images for label LRt_surround_500_VLL: [Errno 2] No such file or directory: '/shared/CSHL_classifiers/datasets/dataset_60/patch_images_LRt_surround_500_VLL.hdf'\n",
>>>>>>> 666df553fa81c06a1e50dace45aa13e495ea3dfa
      "Child returned 0\n"
     ]
    },
    {
     "name": "stdout",
     "output_type": "stream",
     "text": [
      "rm -rf /home/yuncong/CSHL_classifiers/datasets/dataset_60/patch_images_LRt_surround_500_RMC.hdf && mkdir -p /home/yuncong/CSHL_classifiers/datasets/dataset_60\n",
      "aws s3 cp s3://mousebrainatlas-data/CSHL_classifiers/datasets/dataset_60/patch_images_LRt_surround_500_RMC.hdf /home/yuncong/CSHL_classifiers/datasets/dataset_60/patch_images_LRt_surround_500_RMC.hdf\n"
     ]
    },
    {
     "name": "stderr",
     "output_type": "stream",
     "text": [
      "Child returned 1\n",
<<<<<<< HEAD
      "0.69 seconds.\n",
      "Cannot load dataset images for label LRt_surround_500_RMC: [Errno 2] No such file or directory: '/home/yuncong/CSHL_classifiers/datasets/dataset_60/patch_images_LRt_surround_500_RMC.hdf'\n",
=======
      "0.43 seconds.\n",
      "Cannot load dataset images for label LRt_surround_500_RMC: [Errno 2] No such file or directory: '/shared/CSHL_classifiers/datasets/dataset_60/patch_images_LRt_surround_500_RMC.hdf'\n",
>>>>>>> 666df553fa81c06a1e50dace45aa13e495ea3dfa
      "Child returned 0\n"
     ]
    },
    {
     "name": "stdout",
     "output_type": "stream",
     "text": [
      "rm -rf /home/yuncong/CSHL_classifiers/datasets/dataset_60/patch_images_LRt_surround_500_SNC.hdf && mkdir -p /home/yuncong/CSHL_classifiers/datasets/dataset_60\n",
      "aws s3 cp s3://mousebrainatlas-data/CSHL_classifiers/datasets/dataset_60/patch_images_LRt_surround_500_SNC.hdf /home/yuncong/CSHL_classifiers/datasets/dataset_60/patch_images_LRt_surround_500_SNC.hdf\n"
     ]
    },
    {
     "name": "stderr",
     "output_type": "stream",
     "text": [
      "Child returned 1\n",
<<<<<<< HEAD
      "0.77 seconds.\n",
      "Cannot load dataset images for label LRt_surround_500_SNC: [Errno 2] No such file or directory: '/home/yuncong/CSHL_classifiers/datasets/dataset_60/patch_images_LRt_surround_500_SNC.hdf'\n",
=======
      "0.43 seconds.\n",
      "Cannot load dataset images for label LRt_surround_500_SNC: [Errno 2] No such file or directory: '/shared/CSHL_classifiers/datasets/dataset_60/patch_images_LRt_surround_500_SNC.hdf'\n",
>>>>>>> 666df553fa81c06a1e50dace45aa13e495ea3dfa
      "Child returned 0\n"
     ]
    },
    {
     "name": "stdout",
     "output_type": "stream",
     "text": [
      "rm -rf /home/yuncong/CSHL_classifiers/datasets/dataset_60/patch_images_LRt_surround_500_SNR.hdf && mkdir -p /home/yuncong/CSHL_classifiers/datasets/dataset_60\n",
      "aws s3 cp s3://mousebrainatlas-data/CSHL_classifiers/datasets/dataset_60/patch_images_LRt_surround_500_SNR.hdf /home/yuncong/CSHL_classifiers/datasets/dataset_60/patch_images_LRt_surround_500_SNR.hdf\n"
     ]
    },
    {
     "name": "stderr",
     "output_type": "stream",
     "text": [
      "Child returned 1\n",
<<<<<<< HEAD
      "0.68 seconds.\n",
      "Cannot load dataset images for label LRt_surround_500_SNR: [Errno 2] No such file or directory: '/home/yuncong/CSHL_classifiers/datasets/dataset_60/patch_images_LRt_surround_500_SNR.hdf'\n",
=======
      "0.42 seconds.\n",
      "Cannot load dataset images for label LRt_surround_500_SNR: [Errno 2] No such file or directory: '/shared/CSHL_classifiers/datasets/dataset_60/patch_images_LRt_surround_500_SNR.hdf'\n",
>>>>>>> 666df553fa81c06a1e50dace45aa13e495ea3dfa
      "Child returned 0\n"
     ]
    },
    {
     "name": "stdout",
     "output_type": "stream",
     "text": [
      "rm -rf /home/yuncong/CSHL_classifiers/datasets/dataset_60/patch_images_LRt_surround_500_3N.hdf && mkdir -p /home/yuncong/CSHL_classifiers/datasets/dataset_60\n",
      "aws s3 cp s3://mousebrainatlas-data/CSHL_classifiers/datasets/dataset_60/patch_images_LRt_surround_500_3N.hdf /home/yuncong/CSHL_classifiers/datasets/dataset_60/patch_images_LRt_surround_500_3N.hdf\n"
     ]
    },
    {
     "name": "stderr",
     "output_type": "stream",
     "text": [
      "Child returned 1\n",
<<<<<<< HEAD
      "0.74 seconds.\n",
      "Cannot load dataset images for label LRt_surround_500_3N: [Errno 2] No such file or directory: '/home/yuncong/CSHL_classifiers/datasets/dataset_60/patch_images_LRt_surround_500_3N.hdf'\n",
=======
      "0.43 seconds.\n",
      "Cannot load dataset images for label LRt_surround_500_3N: [Errno 2] No such file or directory: '/shared/CSHL_classifiers/datasets/dataset_60/patch_images_LRt_surround_500_3N.hdf'\n",
>>>>>>> 666df553fa81c06a1e50dace45aa13e495ea3dfa
      "Child returned 0\n"
     ]
    },
    {
     "name": "stdout",
     "output_type": "stream",
     "text": [
      "rm -rf /home/yuncong/CSHL_classifiers/datasets/dataset_60/patch_images_LRt_surround_500_4N.hdf && mkdir -p /home/yuncong/CSHL_classifiers/datasets/dataset_60\n",
      "aws s3 cp s3://mousebrainatlas-data/CSHL_classifiers/datasets/dataset_60/patch_images_LRt_surround_500_4N.hdf /home/yuncong/CSHL_classifiers/datasets/dataset_60/patch_images_LRt_surround_500_4N.hdf\n"
     ]
    },
    {
     "name": "stderr",
     "output_type": "stream",
     "text": [
      "Child returned 1\n",
<<<<<<< HEAD
      "0.65 seconds.\n",
      "Cannot load dataset images for label LRt_surround_500_4N: [Errno 2] No such file or directory: '/home/yuncong/CSHL_classifiers/datasets/dataset_60/patch_images_LRt_surround_500_4N.hdf'\n",
=======
      "0.43 seconds.\n",
      "Cannot load dataset images for label LRt_surround_500_4N: [Errno 2] No such file or directory: '/shared/CSHL_classifiers/datasets/dataset_60/patch_images_LRt_surround_500_4N.hdf'\n",
>>>>>>> 666df553fa81c06a1e50dace45aa13e495ea3dfa
      "Child returned 0\n"
     ]
    },
    {
     "name": "stdout",
     "output_type": "stream",
     "text": [
      "rm -rf /home/yuncong/CSHL_classifiers/datasets/dataset_60/patch_images_LRt_surround_500_Sp5I.hdf && mkdir -p /home/yuncong/CSHL_classifiers/datasets/dataset_60\n",
      "aws s3 cp s3://mousebrainatlas-data/CSHL_classifiers/datasets/dataset_60/patch_images_LRt_surround_500_Sp5I.hdf /home/yuncong/CSHL_classifiers/datasets/dataset_60/patch_images_LRt_surround_500_Sp5I.hdf\n"
     ]
    },
    {
     "name": "stderr",
     "output_type": "stream",
     "text": [
      "Child returned 1\n",
<<<<<<< HEAD
      "0.68 seconds.\n",
      "Cannot load dataset images for label LRt_surround_500_Sp5I: [Errno 2] No such file or directory: '/home/yuncong/CSHL_classifiers/datasets/dataset_60/patch_images_LRt_surround_500_Sp5I.hdf'\n",
=======
      "0.42 seconds.\n",
      "Cannot load dataset images for label LRt_surround_500_Sp5I: [Errno 2] No such file or directory: '/shared/CSHL_classifiers/datasets/dataset_60/patch_images_LRt_surround_500_Sp5I.hdf'\n",
>>>>>>> 666df553fa81c06a1e50dace45aa13e495ea3dfa
      "Child returned 0\n"
     ]
    },
    {
     "name": "stdout",
     "output_type": "stream",
     "text": [
      "rm -rf /home/yuncong/CSHL_classifiers/datasets/dataset_60/patch_images_LRt_surround_500_Sp5O.hdf && mkdir -p /home/yuncong/CSHL_classifiers/datasets/dataset_60\n",
      "aws s3 cp s3://mousebrainatlas-data/CSHL_classifiers/datasets/dataset_60/patch_images_LRt_surround_500_Sp5O.hdf /home/yuncong/CSHL_classifiers/datasets/dataset_60/patch_images_LRt_surround_500_Sp5O.hdf\n"
     ]
    },
    {
     "name": "stderr",
     "output_type": "stream",
     "text": [
      "Child returned 1\n",
<<<<<<< HEAD
      "0.70 seconds.\n",
      "Cannot load dataset images for label LRt_surround_500_Sp5O: [Errno 2] No such file or directory: '/home/yuncong/CSHL_classifiers/datasets/dataset_60/patch_images_LRt_surround_500_Sp5O.hdf'\n",
=======
      "0.43 seconds.\n",
      "Cannot load dataset images for label LRt_surround_500_Sp5O: [Errno 2] No such file or directory: '/shared/CSHL_classifiers/datasets/dataset_60/patch_images_LRt_surround_500_Sp5O.hdf'\n",
>>>>>>> 666df553fa81c06a1e50dace45aa13e495ea3dfa
      "Child returned 0\n"
     ]
    },
    {
     "name": "stdout",
     "output_type": "stream",
     "text": [
      "rm -rf /home/yuncong/CSHL_classifiers/datasets/dataset_60/patch_images_LRt_surround_500_Sp5C.hdf && mkdir -p /home/yuncong/CSHL_classifiers/datasets/dataset_60\n",
      "aws s3 cp s3://mousebrainatlas-data/CSHL_classifiers/datasets/dataset_60/patch_images_LRt_surround_500_Sp5C.hdf /home/yuncong/CSHL_classifiers/datasets/dataset_60/patch_images_LRt_surround_500_Sp5C.hdf\n"
     ]
    },
    {
     "name": "stderr",
     "output_type": "stream",
     "text": [
      "Child returned 1\n",
<<<<<<< HEAD
      "0.68 seconds.\n",
      "Cannot load dataset images for label LRt_surround_500_Sp5C: [Errno 2] No such file or directory: '/home/yuncong/CSHL_classifiers/datasets/dataset_60/patch_images_LRt_surround_500_Sp5C.hdf'\n",
=======
      "0.44 seconds.\n",
      "Cannot load dataset images for label LRt_surround_500_Sp5C: [Errno 2] No such file or directory: '/shared/CSHL_classifiers/datasets/dataset_60/patch_images_LRt_surround_500_Sp5C.hdf'\n",
>>>>>>> 666df553fa81c06a1e50dace45aa13e495ea3dfa
      "Child returned 0\n"
     ]
    },
    {
     "name": "stdout",
     "output_type": "stream",
     "text": [
      "rm -rf /home/yuncong/CSHL_classifiers/datasets/dataset_60/patch_images_LRt_surround_500_PBG.hdf && mkdir -p /home/yuncong/CSHL_classifiers/datasets/dataset_60\n",
      "aws s3 cp s3://mousebrainatlas-data/CSHL_classifiers/datasets/dataset_60/patch_images_LRt_surround_500_PBG.hdf /home/yuncong/CSHL_classifiers/datasets/dataset_60/patch_images_LRt_surround_500_PBG.hdf\n"
     ]
    },
    {
     "name": "stderr",
     "output_type": "stream",
     "text": [
      "Child returned 1\n",
<<<<<<< HEAD
      "0.96 seconds.\n",
      "Cannot load dataset images for label LRt_surround_500_PBG: [Errno 2] No such file or directory: '/home/yuncong/CSHL_classifiers/datasets/dataset_60/patch_images_LRt_surround_500_PBG.hdf'\n",
=======
      "0.45 seconds.\n",
      "Cannot load dataset images for label LRt_surround_500_PBG: [Errno 2] No such file or directory: '/shared/CSHL_classifiers/datasets/dataset_60/patch_images_LRt_surround_500_PBG.hdf'\n",
>>>>>>> 666df553fa81c06a1e50dace45aa13e495ea3dfa
      "Child returned 0\n"
     ]
    },
    {
     "name": "stdout",
     "output_type": "stream",
     "text": [
      "rm -rf /home/yuncong/CSHL_classifiers/datasets/dataset_60/patch_images_LRt_surround_500_10N.hdf && mkdir -p /home/yuncong/CSHL_classifiers/datasets/dataset_60\n",
      "aws s3 cp s3://mousebrainatlas-data/CSHL_classifiers/datasets/dataset_60/patch_images_LRt_surround_500_10N.hdf /home/yuncong/CSHL_classifiers/datasets/dataset_60/patch_images_LRt_surround_500_10N.hdf\n"
     ]
    },
    {
     "name": "stderr",
     "output_type": "stream",
     "text": [
      "Child returned 1\n",
<<<<<<< HEAD
      "0.89 seconds.\n",
      "Cannot load dataset images for label LRt_surround_500_10N: [Errno 2] No such file or directory: '/home/yuncong/CSHL_classifiers/datasets/dataset_60/patch_images_LRt_surround_500_10N.hdf'\n",
=======
      "0.41 seconds.\n",
      "Cannot load dataset images for label LRt_surround_500_10N: [Errno 2] No such file or directory: '/shared/CSHL_classifiers/datasets/dataset_60/patch_images_LRt_surround_500_10N.hdf'\n",
>>>>>>> 666df553fa81c06a1e50dace45aa13e495ea3dfa
      "Child returned 0\n"
     ]
    },
    {
     "name": "stdout",
     "output_type": "stream",
     "text": [
      "rm -rf /home/yuncong/CSHL_classifiers/datasets/dataset_60/patch_images_LRt_surround_500_VCA.hdf && mkdir -p /home/yuncong/CSHL_classifiers/datasets/dataset_60\n",
      "aws s3 cp s3://mousebrainatlas-data/CSHL_classifiers/datasets/dataset_60/patch_images_LRt_surround_500_VCA.hdf /home/yuncong/CSHL_classifiers/datasets/dataset_60/patch_images_LRt_surround_500_VCA.hdf\n"
     ]
    },
    {
     "name": "stderr",
     "output_type": "stream",
     "text": [
      "Child returned 1\n",
<<<<<<< HEAD
      "0.65 seconds.\n",
      "Cannot load dataset images for label LRt_surround_500_VCA: [Errno 2] No such file or directory: '/home/yuncong/CSHL_classifiers/datasets/dataset_60/patch_images_LRt_surround_500_VCA.hdf'\n",
=======
      "0.42 seconds.\n",
      "Cannot load dataset images for label LRt_surround_500_VCA: [Errno 2] No such file or directory: '/shared/CSHL_classifiers/datasets/dataset_60/patch_images_LRt_surround_500_VCA.hdf'\n",
>>>>>>> 666df553fa81c06a1e50dace45aa13e495ea3dfa
      "Child returned 0\n"
     ]
    },
    {
     "name": "stdout",
     "output_type": "stream",
     "text": [
      "rm -rf /home/yuncong/CSHL_classifiers/datasets/dataset_60/patch_images_LRt_surround_500_VCP.hdf && mkdir -p /home/yuncong/CSHL_classifiers/datasets/dataset_60\n",
      "aws s3 cp s3://mousebrainatlas-data/CSHL_classifiers/datasets/dataset_60/patch_images_LRt_surround_500_VCP.hdf /home/yuncong/CSHL_classifiers/datasets/dataset_60/patch_images_LRt_surround_500_VCP.hdf\n"
     ]
    },
    {
     "name": "stderr",
     "output_type": "stream",
     "text": [
      "Child returned 1\n",
<<<<<<< HEAD
      "0.91 seconds.\n",
      "Cannot load dataset images for label LRt_surround_500_VCP: [Errno 2] No such file or directory: '/home/yuncong/CSHL_classifiers/datasets/dataset_60/patch_images_LRt_surround_500_VCP.hdf'\n",
=======
      "0.43 seconds.\n",
      "Cannot load dataset images for label LRt_surround_500_VCP: [Errno 2] No such file or directory: '/shared/CSHL_classifiers/datasets/dataset_60/patch_images_LRt_surround_500_VCP.hdf'\n",
>>>>>>> 666df553fa81c06a1e50dace45aa13e495ea3dfa
      "Child returned 0\n"
     ]
    },
    {
     "name": "stdout",
     "output_type": "stream",
     "text": [
      "rm -rf /home/yuncong/CSHL_classifiers/datasets/dataset_60/patch_images_LRt_surround_500_DC.hdf && mkdir -p /home/yuncong/CSHL_classifiers/datasets/dataset_60\n",
      "aws s3 cp s3://mousebrainatlas-data/CSHL_classifiers/datasets/dataset_60/patch_images_LRt_surround_500_DC.hdf /home/yuncong/CSHL_classifiers/datasets/dataset_60/patch_images_LRt_surround_500_DC.hdf\n"
     ]
    },
    {
     "name": "stderr",
     "output_type": "stream",
     "text": [
      "Child returned 1\n",
<<<<<<< HEAD
      "0.66 seconds.\n",
      "Cannot load dataset images for label LRt_surround_500_DC: [Errno 2] No such file or directory: '/home/yuncong/CSHL_classifiers/datasets/dataset_60/patch_images_LRt_surround_500_DC.hdf'\n",
=======
      "0.43 seconds.\n",
      "Cannot load dataset images for label LRt_surround_500_DC: [Errno 2] No such file or directory: '/shared/CSHL_classifiers/datasets/dataset_60/patch_images_LRt_surround_500_DC.hdf'\n",
>>>>>>> 666df553fa81c06a1e50dace45aa13e495ea3dfa
      "Child returned 0\n"
     ]
    },
    {
     "name": "stdout",
     "output_type": "stream",
     "text": [
      "rm -rf /home/yuncong/CSHL_classifiers/datasets/dataset_60/patch_images_LRt_surround_500_AP.hdf && mkdir -p /home/yuncong/CSHL_classifiers/datasets/dataset_60\n",
      "aws s3 cp s3://mousebrainatlas-data/CSHL_classifiers/datasets/dataset_60/patch_images_LRt_surround_500_AP.hdf /home/yuncong/CSHL_classifiers/datasets/dataset_60/patch_images_LRt_surround_500_AP.hdf\n"
     ]
    },
    {
     "name": "stderr",
     "output_type": "stream",
     "text": [
      "Child returned 1\n",
      "0.90 seconds.\n",
      "Cannot load dataset images for label LRt_surround_500_AP: [Errno 2] No such file or directory: '/home/yuncong/CSHL_classifiers/datasets/dataset_60/patch_images_LRt_surround_500_AP.hdf'\n",
      "Child returned 0\n"
     ]
    },
    {
     "name": "stdout",
     "output_type": "stream",
     "text": [
      "rm -rf /home/yuncong/CSHL_classifiers/datasets/dataset_60/patch_images_LRt_surround_500_12N.hdf && mkdir -p /home/yuncong/CSHL_classifiers/datasets/dataset_60\n",
      "aws s3 cp s3://mousebrainatlas-data/CSHL_classifiers/datasets/dataset_60/patch_images_LRt_surround_500_12N.hdf /home/yuncong/CSHL_classifiers/datasets/dataset_60/patch_images_LRt_surround_500_12N.hdf\n"
     ]
    },
    {
     "name": "stderr",
     "output_type": "stream",
     "text": [
      "Child returned 1\n",
<<<<<<< HEAD
      "0.67 seconds.\n",
      "Cannot load dataset images for label LRt_surround_500_12N: [Errno 2] No such file or directory: '/home/yuncong/CSHL_classifiers/datasets/dataset_60/patch_images_LRt_surround_500_12N.hdf'\n",
=======
      "0.43 seconds.\n",
      "Cannot load dataset images for label LRt_surround_500_12N: [Errno 2] No such file or directory: '/shared/CSHL_classifiers/datasets/dataset_60/patch_images_LRt_surround_500_12N.hdf'\n",
>>>>>>> 666df553fa81c06a1e50dace45aa13e495ea3dfa
      "Child returned 0\n"
     ]
    },
    {
     "name": "stdout",
     "output_type": "stream",
     "text": [
      "rm -rf /home/yuncong/CSHL_classifiers/datasets/dataset_60/patch_images_LRt_surround_500_RtTg.hdf && mkdir -p /home/yuncong/CSHL_classifiers/datasets/dataset_60\n",
      "aws s3 cp s3://mousebrainatlas-data/CSHL_classifiers/datasets/dataset_60/patch_images_LRt_surround_500_RtTg.hdf /home/yuncong/CSHL_classifiers/datasets/dataset_60/patch_images_LRt_surround_500_RtTg.hdf\n"
     ]
    },
    {
     "name": "stderr",
     "output_type": "stream",
     "text": [
      "Child returned 1\n",
<<<<<<< HEAD
      "0.65 seconds.\n",
      "Cannot load dataset images for label LRt_surround_500_RtTg: [Errno 2] No such file or directory: '/home/yuncong/CSHL_classifiers/datasets/dataset_60/patch_images_LRt_surround_500_RtTg.hdf'\n",
=======
      "0.43 seconds.\n",
      "Cannot load dataset images for label LRt_surround_500_RtTg: [Errno 2] No such file or directory: '/shared/CSHL_classifiers/datasets/dataset_60/patch_images_LRt_surround_500_RtTg.hdf'\n",
>>>>>>> 666df553fa81c06a1e50dace45aa13e495ea3dfa
      "Child returned 0\n"
     ]
    },
    {
     "name": "stdout",
     "output_type": "stream",
     "text": [
      "rm -rf /home/yuncong/CSHL_classifiers/datasets/dataset_60/patch_images_LRt_surround_500_sp5.hdf && mkdir -p /home/yuncong/CSHL_classifiers/datasets/dataset_60\n",
      "aws s3 cp s3://mousebrainatlas-data/CSHL_classifiers/datasets/dataset_60/patch_images_LRt_surround_500_sp5.hdf /home/yuncong/CSHL_classifiers/datasets/dataset_60/patch_images_LRt_surround_500_sp5.hdf\n"
     ]
    },
    {
     "name": "stderr",
     "output_type": "stream",
     "text": [
      "Child returned 1\n",
<<<<<<< HEAD
      "0.78 seconds.\n",
      "Cannot load dataset images for label LRt_surround_500_sp5: [Errno 2] No such file or directory: '/home/yuncong/CSHL_classifiers/datasets/dataset_60/patch_images_LRt_surround_500_sp5.hdf'\n",
=======
      "0.42 seconds.\n",
      "Cannot load dataset images for label LRt_surround_500_sp5: [Errno 2] No such file or directory: '/shared/CSHL_classifiers/datasets/dataset_60/patch_images_LRt_surround_500_sp5.hdf'\n",
>>>>>>> 666df553fa81c06a1e50dace45aa13e495ea3dfa
      "Child returned 0\n"
     ]
    },
    {
     "name": "stdout",
     "output_type": "stream",
     "text": [
      "rm -rf /home/yuncong/CSHL_classifiers/datasets/dataset_60/patch_images_LRt_surround_500_outerContour.hdf && mkdir -p /home/yuncong/CSHL_classifiers/datasets/dataset_60\n",
      "aws s3 cp s3://mousebrainatlas-data/CSHL_classifiers/datasets/dataset_60/patch_images_LRt_surround_500_outerContour.hdf /home/yuncong/CSHL_classifiers/datasets/dataset_60/patch_images_LRt_surround_500_outerContour.hdf\n"
     ]
    },
    {
     "name": "stderr",
     "output_type": "stream",
     "text": [
      "Child returned 1\n",
<<<<<<< HEAD
      "0.65 seconds.\n",
      "Cannot load dataset images for label LRt_surround_500_outerContour: [Errno 2] No such file or directory: '/home/yuncong/CSHL_classifiers/datasets/dataset_60/patch_images_LRt_surround_500_outerContour.hdf'\n",
=======
      "0.44 seconds.\n",
      "Cannot load dataset images for label LRt_surround_500_outerContour: [Errno 2] No such file or directory: '/shared/CSHL_classifiers/datasets/dataset_60/patch_images_LRt_surround_500_outerContour.hdf'\n",
>>>>>>> 666df553fa81c06a1e50dace45aa13e495ea3dfa
      "Child returned 0\n"
     ]
    },
    {
     "name": "stdout",
     "output_type": "stream",
     "text": [
      "rm -rf /home/yuncong/CSHL_classifiers/datasets/dataset_60/patch_images_LRt_surround_500_SC.hdf && mkdir -p /home/yuncong/CSHL_classifiers/datasets/dataset_60\n",
      "aws s3 cp s3://mousebrainatlas-data/CSHL_classifiers/datasets/dataset_60/patch_images_LRt_surround_500_SC.hdf /home/yuncong/CSHL_classifiers/datasets/dataset_60/patch_images_LRt_surround_500_SC.hdf\n"
     ]
    },
    {
     "name": "stderr",
     "output_type": "stream",
     "text": [
      "Child returned 1\n",
<<<<<<< HEAD
      "0.65 seconds.\n",
      "Cannot load dataset images for label LRt_surround_500_SC: [Errno 2] No such file or directory: '/home/yuncong/CSHL_classifiers/datasets/dataset_60/patch_images_LRt_surround_500_SC.hdf'\n",
=======
      "0.41 seconds.\n",
      "Cannot load dataset images for label LRt_surround_500_SC: [Errno 2] No such file or directory: '/shared/CSHL_classifiers/datasets/dataset_60/patch_images_LRt_surround_500_SC.hdf'\n",
>>>>>>> 666df553fa81c06a1e50dace45aa13e495ea3dfa
      "Child returned 0\n"
     ]
    },
    {
     "name": "stdout",
     "output_type": "stream",
     "text": [
      "rm -rf /home/yuncong/CSHL_classifiers/datasets/dataset_60/patch_images_LRt_surround_500_IC.hdf && mkdir -p /home/yuncong/CSHL_classifiers/datasets/dataset_60\n",
      "aws s3 cp s3://mousebrainatlas-data/CSHL_classifiers/datasets/dataset_60/patch_images_LRt_surround_500_IC.hdf /home/yuncong/CSHL_classifiers/datasets/dataset_60/patch_images_LRt_surround_500_IC.hdf\n"
     ]
    },
    {
     "name": "stderr",
     "output_type": "stream",
     "text": [
      "Child returned 1\n",
<<<<<<< HEAD
      "0.67 seconds.\n",
      "Cannot load dataset images for label LRt_surround_500_IC: [Errno 2] No such file or directory: '/home/yuncong/CSHL_classifiers/datasets/dataset_60/patch_images_LRt_surround_500_IC.hdf'\n"
=======
      "0.47 seconds.\n",
      "Cannot load dataset images for label LRt_surround_500_IC: [Errno 2] No such file or directory: '/shared/CSHL_classifiers/datasets/dataset_60/patch_images_LRt_surround_500_IC.hdf'\n",
      "Child returned 0\n"
>>>>>>> 666df553fa81c06a1e50dace45aa13e495ea3dfa
     ]
    },
    {
     "name": "stdout",
     "output_type": "stream",
     "text": [
      "rm -rf /home/yuncong/CSHL_classifiers/datasets/dataset_60/patch_images_noclass.hdf && mkdir -p /home/yuncong/CSHL_classifiers/datasets/dataset_60\n",
      "aws s3 cp s3://mousebrainatlas-data/CSHL_classifiers/datasets/dataset_60/patch_images_noclass.hdf /home/yuncong/CSHL_classifiers/datasets/dataset_60/patch_images_noclass.hdf\n"
     ]
    },
    {
     "name": "stderr",
     "output_type": "stream",
     "text": [
      "Child returned 0\n",
      "Child returned 1\n",
<<<<<<< HEAD
      "0.66 seconds.\n",
      "Cannot load dataset images for label noclass: [Errno 2] No such file or directory: '/home/yuncong/CSHL_classifiers/datasets/dataset_60/patch_images_noclass.hdf'\n"
=======
      "0.43 seconds.\n",
      "Cannot load dataset images for label noclass: [Errno 2] No such file or directory: '/shared/CSHL_classifiers/datasets/dataset_60/patch_images_noclass.hdf'\n"
>>>>>>> 666df553fa81c06a1e50dace45aa13e495ea3dfa
     ]
    },
    {
     "name": "stdout",
     "output_type": "stream",
     "text": [
      "rm -rf /home/yuncong/CSHL_classifiers/datasets/dataset_61/patch_images_LRt_surround_500_5N.hdf && mkdir -p /home/yuncong/CSHL_classifiers/datasets/dataset_61\n",
      "aws s3 cp s3://mousebrainatlas-data/CSHL_classifiers/datasets/dataset_61/patch_images_LRt_surround_500_5N.hdf /home/yuncong/CSHL_classifiers/datasets/dataset_61/patch_images_LRt_surround_500_5N.hdf\n"
     ]
    },
    {
     "name": "stderr",
     "output_type": "stream",
     "text": [
      "Child returned 0\n",
      "Child returned 1\n",
<<<<<<< HEAD
      "0.67 seconds.\n",
      "Cannot load dataset images for label LRt_surround_500_5N: [Errno 2] No such file or directory: '/home/yuncong/CSHL_classifiers/datasets/dataset_61/patch_images_LRt_surround_500_5N.hdf'\n",
=======
      "0.44 seconds.\n",
      "Cannot load dataset images for label LRt_surround_500_5N: [Errno 2] No such file or directory: '/shared/CSHL_classifiers/datasets/dataset_61/patch_images_LRt_surround_500_5N.hdf'\n",
>>>>>>> 666df553fa81c06a1e50dace45aa13e495ea3dfa
      "Child returned 0\n"
     ]
    },
    {
     "name": "stdout",
     "output_type": "stream",
     "text": [
      "rm -rf /home/yuncong/CSHL_classifiers/datasets/dataset_61/patch_images_LRt_surround_500_6N.hdf && mkdir -p /home/yuncong/CSHL_classifiers/datasets/dataset_61\n",
      "aws s3 cp s3://mousebrainatlas-data/CSHL_classifiers/datasets/dataset_61/patch_images_LRt_surround_500_6N.hdf /home/yuncong/CSHL_classifiers/datasets/dataset_61/patch_images_LRt_surround_500_6N.hdf\n"
     ]
    },
    {
     "name": "stderr",
     "output_type": "stream",
     "text": [
      "Child returned 1\n",
<<<<<<< HEAD
      "0.68 seconds.\n",
      "Cannot load dataset images for label LRt_surround_500_6N: [Errno 2] No such file or directory: '/home/yuncong/CSHL_classifiers/datasets/dataset_61/patch_images_LRt_surround_500_6N.hdf'\n",
=======
      "0.44 seconds.\n",
      "Cannot load dataset images for label LRt_surround_500_6N: [Errno 2] No such file or directory: '/shared/CSHL_classifiers/datasets/dataset_61/patch_images_LRt_surround_500_6N.hdf'\n",
>>>>>>> 666df553fa81c06a1e50dace45aa13e495ea3dfa
      "Child returned 0\n"
     ]
    },
    {
     "name": "stdout",
     "output_type": "stream",
     "text": [
      "rm -rf /home/yuncong/CSHL_classifiers/datasets/dataset_61/patch_images_LRt_surround_500_7N.hdf && mkdir -p /home/yuncong/CSHL_classifiers/datasets/dataset_61\n",
      "aws s3 cp s3://mousebrainatlas-data/CSHL_classifiers/datasets/dataset_61/patch_images_LRt_surround_500_7N.hdf /home/yuncong/CSHL_classifiers/datasets/dataset_61/patch_images_LRt_surround_500_7N.hdf\n"
     ]
    },
    {
     "name": "stderr",
     "output_type": "stream",
     "text": [
      "Child returned 1\n",
<<<<<<< HEAD
      "0.66 seconds.\n",
      "Cannot load dataset images for label LRt_surround_500_7N: [Errno 2] No such file or directory: '/home/yuncong/CSHL_classifiers/datasets/dataset_61/patch_images_LRt_surround_500_7N.hdf'\n",
=======
      "0.44 seconds.\n",
      "Cannot load dataset images for label LRt_surround_500_7N: [Errno 2] No such file or directory: '/shared/CSHL_classifiers/datasets/dataset_61/patch_images_LRt_surround_500_7N.hdf'\n",
>>>>>>> 666df553fa81c06a1e50dace45aa13e495ea3dfa
      "Child returned 0\n"
     ]
    },
    {
     "name": "stdout",
     "output_type": "stream",
     "text": [
      "rm -rf /home/yuncong/CSHL_classifiers/datasets/dataset_61/patch_images_LRt_surround_500_7n.hdf && mkdir -p /home/yuncong/CSHL_classifiers/datasets/dataset_61\n",
      "aws s3 cp s3://mousebrainatlas-data/CSHL_classifiers/datasets/dataset_61/patch_images_LRt_surround_500_7n.hdf /home/yuncong/CSHL_classifiers/datasets/dataset_61/patch_images_LRt_surround_500_7n.hdf\n"
     ]
    },
    {
     "name": "stderr",
     "output_type": "stream",
     "text": [
      "Child returned 1\n",
<<<<<<< HEAD
      "0.68 seconds.\n",
      "Cannot load dataset images for label LRt_surround_500_7n: [Errno 2] No such file or directory: '/home/yuncong/CSHL_classifiers/datasets/dataset_61/patch_images_LRt_surround_500_7n.hdf'\n",
=======
      "0.44 seconds.\n",
      "Cannot load dataset images for label LRt_surround_500_7n: [Errno 2] No such file or directory: '/shared/CSHL_classifiers/datasets/dataset_61/patch_images_LRt_surround_500_7n.hdf'\n",
>>>>>>> 666df553fa81c06a1e50dace45aa13e495ea3dfa
      "Child returned 0\n"
     ]
    },
    {
     "name": "stdout",
     "output_type": "stream",
     "text": [
<<<<<<< HEAD
      "rm -rf /home/yuncong/CSHL_classifiers/datasets/dataset_61/patch_images_LRt_surround_500_LC.hdf && mkdir -p /home/yuncong/CSHL_classifiers/datasets/dataset_61\n",
      "aws s3 cp s3://mousebrainatlas-data/CSHL_classifiers/datasets/dataset_61/patch_images_LRt_surround_500_LC.hdf /home/yuncong/CSHL_classifiers/datasets/dataset_61/patch_images_LRt_surround_500_LC.hdf\n"
=======
      "rm -rf /shared/CSHL_classifiers/datasets/dataset_61/patch_images_LRt_surround_500_LC.hdf && mkdir -p /shared/CSHL_classifiers/datasets/dataset_61\n",
      "aws s3 cp s3://mousebrainatlas-data/CSHL_classifiers/datasets/dataset_61/patch_images_LRt_surround_500_LC.hdf /shared/CSHL_classifiers/datasets/dataset_61/patch_images_LRt_surround_500_LC.hdf\n"
>>>>>>> 666df553fa81c06a1e50dace45aa13e495ea3dfa
     ]
    },
    {
     "name": "stderr",
     "output_type": "stream",
     "text": [
      "Child returned 1\n",
<<<<<<< HEAD
      "0.67 seconds.\n",
      "Cannot load dataset images for label LRt_surround_500_LC: [Errno 2] No such file or directory: '/home/yuncong/CSHL_classifiers/datasets/dataset_61/patch_images_LRt_surround_500_LC.hdf'\n",
=======
      "0.44 seconds.\n",
      "Cannot load dataset images for label LRt_surround_500_LC: [Errno 2] No such file or directory: '/shared/CSHL_classifiers/datasets/dataset_61/patch_images_LRt_surround_500_LC.hdf'\n",
>>>>>>> 666df553fa81c06a1e50dace45aa13e495ea3dfa
      "Child returned 0\n"
     ]
    },
    {
     "name": "stdout",
     "output_type": "stream",
     "text": [
      "rm -rf /home/yuncong/CSHL_classifiers/datasets/dataset_61/patch_images_LRt_surround_500_Pn.hdf && mkdir -p /home/yuncong/CSHL_classifiers/datasets/dataset_61\n",
      "aws s3 cp s3://mousebrainatlas-data/CSHL_classifiers/datasets/dataset_61/patch_images_LRt_surround_500_Pn.hdf /home/yuncong/CSHL_classifiers/datasets/dataset_61/patch_images_LRt_surround_500_Pn.hdf\n"
     ]
    },
    {
     "name": "stderr",
     "output_type": "stream",
     "text": [
      "Child returned 1\n",
<<<<<<< HEAD
      "0.67 seconds.\n",
      "Cannot load dataset images for label LRt_surround_500_Pn: [Errno 2] No such file or directory: '/home/yuncong/CSHL_classifiers/datasets/dataset_61/patch_images_LRt_surround_500_Pn.hdf'\n",
=======
      "0.44 seconds.\n",
      "Cannot load dataset images for label LRt_surround_500_Pn: [Errno 2] No such file or directory: '/shared/CSHL_classifiers/datasets/dataset_61/patch_images_LRt_surround_500_Pn.hdf'\n",
>>>>>>> 666df553fa81c06a1e50dace45aa13e495ea3dfa
      "Child returned 0\n"
     ]
    },
    {
     "name": "stdout",
     "output_type": "stream",
     "text": [
      "rm -rf /home/yuncong/CSHL_classifiers/datasets/dataset_61/patch_images_LRt_surround_500_Tz.hdf && mkdir -p /home/yuncong/CSHL_classifiers/datasets/dataset_61\n",
      "aws s3 cp s3://mousebrainatlas-data/CSHL_classifiers/datasets/dataset_61/patch_images_LRt_surround_500_Tz.hdf /home/yuncong/CSHL_classifiers/datasets/dataset_61/patch_images_LRt_surround_500_Tz.hdf\n"
     ]
    },
    {
     "name": "stderr",
     "output_type": "stream",
     "text": [
      "Child returned 1\n",
<<<<<<< HEAD
      "0.69 seconds.\n",
      "Cannot load dataset images for label LRt_surround_500_Tz: [Errno 2] No such file or directory: '/home/yuncong/CSHL_classifiers/datasets/dataset_61/patch_images_LRt_surround_500_Tz.hdf'\n",
=======
      "0.44 seconds.\n",
      "Cannot load dataset images for label LRt_surround_500_Tz: [Errno 2] No such file or directory: '/shared/CSHL_classifiers/datasets/dataset_61/patch_images_LRt_surround_500_Tz.hdf'\n",
>>>>>>> 666df553fa81c06a1e50dace45aa13e495ea3dfa
      "Child returned 0\n"
     ]
    },
    {
     "name": "stdout",
     "output_type": "stream",
     "text": [
      "rm -rf /home/yuncong/CSHL_classifiers/datasets/dataset_61/patch_images_LRt_surround_500_VLL.hdf && mkdir -p /home/yuncong/CSHL_classifiers/datasets/dataset_61\n",
      "aws s3 cp s3://mousebrainatlas-data/CSHL_classifiers/datasets/dataset_61/patch_images_LRt_surround_500_VLL.hdf /home/yuncong/CSHL_classifiers/datasets/dataset_61/patch_images_LRt_surround_500_VLL.hdf\n"
     ]
    },
    {
     "name": "stderr",
     "output_type": "stream",
     "text": [
      "Child returned 1\n",
<<<<<<< HEAD
      "0.66 seconds.\n",
      "Cannot load dataset images for label LRt_surround_500_VLL: [Errno 2] No such file or directory: '/home/yuncong/CSHL_classifiers/datasets/dataset_61/patch_images_LRt_surround_500_VLL.hdf'\n",
=======
      "0.48 seconds.\n",
      "Cannot load dataset images for label LRt_surround_500_VLL: [Errno 2] No such file or directory: '/shared/CSHL_classifiers/datasets/dataset_61/patch_images_LRt_surround_500_VLL.hdf'\n",
>>>>>>> 666df553fa81c06a1e50dace45aa13e495ea3dfa
      "Child returned 0\n"
     ]
    },
    {
     "name": "stdout",
     "output_type": "stream",
     "text": [
      "rm -rf /home/yuncong/CSHL_classifiers/datasets/dataset_61/patch_images_LRt_surround_500_RMC.hdf && mkdir -p /home/yuncong/CSHL_classifiers/datasets/dataset_61\n",
      "aws s3 cp s3://mousebrainatlas-data/CSHL_classifiers/datasets/dataset_61/patch_images_LRt_surround_500_RMC.hdf /home/yuncong/CSHL_classifiers/datasets/dataset_61/patch_images_LRt_surround_500_RMC.hdf\n"
     ]
    },
    {
     "name": "stderr",
     "output_type": "stream",
     "text": [
      "Child returned 1\n",
<<<<<<< HEAD
      "0.66 seconds.\n",
      "Cannot load dataset images for label LRt_surround_500_RMC: [Errno 2] No such file or directory: '/home/yuncong/CSHL_classifiers/datasets/dataset_61/patch_images_LRt_surround_500_RMC.hdf'\n",
=======
      "0.49 seconds.\n",
      "Cannot load dataset images for label LRt_surround_500_RMC: [Errno 2] No such file or directory: '/shared/CSHL_classifiers/datasets/dataset_61/patch_images_LRt_surround_500_RMC.hdf'\n",
>>>>>>> 666df553fa81c06a1e50dace45aa13e495ea3dfa
      "Child returned 0\n"
     ]
    },
    {
     "name": "stdout",
     "output_type": "stream",
     "text": [
      "rm -rf /home/yuncong/CSHL_classifiers/datasets/dataset_61/patch_images_LRt_surround_500_SNC.hdf && mkdir -p /home/yuncong/CSHL_classifiers/datasets/dataset_61\n",
      "aws s3 cp s3://mousebrainatlas-data/CSHL_classifiers/datasets/dataset_61/patch_images_LRt_surround_500_SNC.hdf /home/yuncong/CSHL_classifiers/datasets/dataset_61/patch_images_LRt_surround_500_SNC.hdf\n"
     ]
    },
    {
     "name": "stderr",
     "output_type": "stream",
     "text": [
      "Child returned 1\n",
<<<<<<< HEAD
      "0.67 seconds.\n",
      "Cannot load dataset images for label LRt_surround_500_SNC: [Errno 2] No such file or directory: '/home/yuncong/CSHL_classifiers/datasets/dataset_61/patch_images_LRt_surround_500_SNC.hdf'\n",
=======
      "0.44 seconds.\n",
      "Cannot load dataset images for label LRt_surround_500_SNC: [Errno 2] No such file or directory: '/shared/CSHL_classifiers/datasets/dataset_61/patch_images_LRt_surround_500_SNC.hdf'\n",
>>>>>>> 666df553fa81c06a1e50dace45aa13e495ea3dfa
      "Child returned 0\n"
     ]
    },
    {
     "name": "stdout",
     "output_type": "stream",
     "text": [
      "rm -rf /home/yuncong/CSHL_classifiers/datasets/dataset_61/patch_images_LRt_surround_500_SNR.hdf && mkdir -p /home/yuncong/CSHL_classifiers/datasets/dataset_61\n",
      "aws s3 cp s3://mousebrainatlas-data/CSHL_classifiers/datasets/dataset_61/patch_images_LRt_surround_500_SNR.hdf /home/yuncong/CSHL_classifiers/datasets/dataset_61/patch_images_LRt_surround_500_SNR.hdf\n"
     ]
    },
    {
     "name": "stderr",
     "output_type": "stream",
     "text": [
      "Child returned 1\n",
<<<<<<< HEAD
      "0.66 seconds.\n",
      "Cannot load dataset images for label LRt_surround_500_SNR: [Errno 2] No such file or directory: '/home/yuncong/CSHL_classifiers/datasets/dataset_61/patch_images_LRt_surround_500_SNR.hdf'\n",
=======
      "0.45 seconds.\n",
      "Cannot load dataset images for label LRt_surround_500_SNR: [Errno 2] No such file or directory: '/shared/CSHL_classifiers/datasets/dataset_61/patch_images_LRt_surround_500_SNR.hdf'\n",
>>>>>>> 666df553fa81c06a1e50dace45aa13e495ea3dfa
      "Child returned 0\n"
     ]
    },
    {
     "name": "stdout",
     "output_type": "stream",
     "text": [
      "rm -rf /home/yuncong/CSHL_classifiers/datasets/dataset_61/patch_images_LRt_surround_500_3N.hdf && mkdir -p /home/yuncong/CSHL_classifiers/datasets/dataset_61\n",
      "aws s3 cp s3://mousebrainatlas-data/CSHL_classifiers/datasets/dataset_61/patch_images_LRt_surround_500_3N.hdf /home/yuncong/CSHL_classifiers/datasets/dataset_61/patch_images_LRt_surround_500_3N.hdf\n"
     ]
    },
    {
     "name": "stderr",
     "output_type": "stream",
     "text": [
      "Child returned 1\n",
<<<<<<< HEAD
      "0.66 seconds.\n",
      "Cannot load dataset images for label LRt_surround_500_3N: [Errno 2] No such file or directory: '/home/yuncong/CSHL_classifiers/datasets/dataset_61/patch_images_LRt_surround_500_3N.hdf'\n",
=======
      "0.43 seconds.\n",
      "Cannot load dataset images for label LRt_surround_500_3N: [Errno 2] No such file or directory: '/shared/CSHL_classifiers/datasets/dataset_61/patch_images_LRt_surround_500_3N.hdf'\n",
>>>>>>> 666df553fa81c06a1e50dace45aa13e495ea3dfa
      "Child returned 0\n"
     ]
    },
    {
     "name": "stdout",
     "output_type": "stream",
     "text": [
      "rm -rf /home/yuncong/CSHL_classifiers/datasets/dataset_61/patch_images_LRt_surround_500_4N.hdf && mkdir -p /home/yuncong/CSHL_classifiers/datasets/dataset_61\n",
      "aws s3 cp s3://mousebrainatlas-data/CSHL_classifiers/datasets/dataset_61/patch_images_LRt_surround_500_4N.hdf /home/yuncong/CSHL_classifiers/datasets/dataset_61/patch_images_LRt_surround_500_4N.hdf\n"
     ]
    },
    {
     "name": "stderr",
     "output_type": "stream",
     "text": [
      "Child returned 1\n",
<<<<<<< HEAD
      "0.67 seconds.\n",
      "Cannot load dataset images for label LRt_surround_500_4N: [Errno 2] No such file or directory: '/home/yuncong/CSHL_classifiers/datasets/dataset_61/patch_images_LRt_surround_500_4N.hdf'\n",
=======
      "0.43 seconds.\n",
      "Cannot load dataset images for label LRt_surround_500_4N: [Errno 2] No such file or directory: '/shared/CSHL_classifiers/datasets/dataset_61/patch_images_LRt_surround_500_4N.hdf'\n",
>>>>>>> 666df553fa81c06a1e50dace45aa13e495ea3dfa
      "Child returned 0\n"
     ]
    },
    {
     "name": "stdout",
     "output_type": "stream",
     "text": [
      "rm -rf /home/yuncong/CSHL_classifiers/datasets/dataset_61/patch_images_LRt_surround_500_Sp5I.hdf && mkdir -p /home/yuncong/CSHL_classifiers/datasets/dataset_61\n",
      "aws s3 cp s3://mousebrainatlas-data/CSHL_classifiers/datasets/dataset_61/patch_images_LRt_surround_500_Sp5I.hdf /home/yuncong/CSHL_classifiers/datasets/dataset_61/patch_images_LRt_surround_500_Sp5I.hdf\n"
     ]
    },
    {
     "name": "stderr",
     "output_type": "stream",
     "text": [
      "Child returned 1\n",
<<<<<<< HEAD
      "0.67 seconds.\n",
      "Cannot load dataset images for label LRt_surround_500_Sp5I: [Errno 2] No such file or directory: '/home/yuncong/CSHL_classifiers/datasets/dataset_61/patch_images_LRt_surround_500_Sp5I.hdf'\n",
=======
      "0.43 seconds.\n",
      "Cannot load dataset images for label LRt_surround_500_Sp5I: [Errno 2] No such file or directory: '/shared/CSHL_classifiers/datasets/dataset_61/patch_images_LRt_surround_500_Sp5I.hdf'\n",
>>>>>>> 666df553fa81c06a1e50dace45aa13e495ea3dfa
      "Child returned 0\n"
     ]
    },
    {
     "name": "stdout",
     "output_type": "stream",
     "text": [
      "rm -rf /home/yuncong/CSHL_classifiers/datasets/dataset_61/patch_images_LRt_surround_500_Sp5O.hdf && mkdir -p /home/yuncong/CSHL_classifiers/datasets/dataset_61\n",
      "aws s3 cp s3://mousebrainatlas-data/CSHL_classifiers/datasets/dataset_61/patch_images_LRt_surround_500_Sp5O.hdf /home/yuncong/CSHL_classifiers/datasets/dataset_61/patch_images_LRt_surround_500_Sp5O.hdf\n"
     ]
    },
    {
     "name": "stderr",
     "output_type": "stream",
     "text": [
      "Child returned 1\n",
<<<<<<< HEAD
      "0.73 seconds.\n",
      "Cannot load dataset images for label LRt_surround_500_Sp5O: [Errno 2] No such file or directory: '/home/yuncong/CSHL_classifiers/datasets/dataset_61/patch_images_LRt_surround_500_Sp5O.hdf'\n",
=======
      "0.44 seconds.\n",
      "Cannot load dataset images for label LRt_surround_500_Sp5O: [Errno 2] No such file or directory: '/shared/CSHL_classifiers/datasets/dataset_61/patch_images_LRt_surround_500_Sp5O.hdf'\n",
>>>>>>> 666df553fa81c06a1e50dace45aa13e495ea3dfa
      "Child returned 0\n"
     ]
    },
    {
     "name": "stdout",
     "output_type": "stream",
     "text": [
<<<<<<< HEAD
      "rm -rf /home/yuncong/CSHL_classifiers/datasets/dataset_61/patch_images_LRt_surround_500_PBG.hdf && mkdir -p /home/yuncong/CSHL_classifiers/datasets/dataset_61\n",
      "aws s3 cp s3://mousebrainatlas-data/CSHL_classifiers/datasets/dataset_61/patch_images_LRt_surround_500_PBG.hdf /home/yuncong/CSHL_classifiers/datasets/dataset_61/patch_images_LRt_surround_500_PBG.hdf\n"
=======
      "rm -rf /shared/CSHL_classifiers/datasets/dataset_61/patch_images_LRt_surround_500_PBG.hdf && mkdir -p /shared/CSHL_classifiers/datasets/dataset_61\n",
      "aws s3 cp s3://mousebrainatlas-data/CSHL_classifiers/datasets/dataset_61/patch_images_LRt_surround_500_PBG.hdf /shared/CSHL_classifiers/datasets/dataset_61/patch_images_LRt_surround_500_PBG.hdf\n"
>>>>>>> 666df553fa81c06a1e50dace45aa13e495ea3dfa
     ]
    },
    {
     "name": "stderr",
     "output_type": "stream",
     "text": [
      "Child returned 1\n",
<<<<<<< HEAD
      "0.78 seconds.\n",
      "Cannot load dataset images for label LRt_surround_500_PBG: [Errno 2] No such file or directory: '/home/yuncong/CSHL_classifiers/datasets/dataset_61/patch_images_LRt_surround_500_PBG.hdf'\n",
=======
      "0.42 seconds.\n",
      "Cannot load dataset images for label LRt_surround_500_PBG: [Errno 2] No such file or directory: '/shared/CSHL_classifiers/datasets/dataset_61/patch_images_LRt_surround_500_PBG.hdf'\n",
>>>>>>> 666df553fa81c06a1e50dace45aa13e495ea3dfa
      "Child returned 0\n"
     ]
    },
    {
     "name": "stdout",
     "output_type": "stream",
     "text": [
      "rm -rf /home/yuncong/CSHL_classifiers/datasets/dataset_61/patch_images_LRt_surround_500_10N.hdf && mkdir -p /home/yuncong/CSHL_classifiers/datasets/dataset_61\n",
      "aws s3 cp s3://mousebrainatlas-data/CSHL_classifiers/datasets/dataset_61/patch_images_LRt_surround_500_10N.hdf /home/yuncong/CSHL_classifiers/datasets/dataset_61/patch_images_LRt_surround_500_10N.hdf\n"
     ]
    },
    {
     "name": "stderr",
     "output_type": "stream",
     "text": [
      "Child returned 1\n",
<<<<<<< HEAD
      "0.71 seconds.\n",
      "Cannot load dataset images for label LRt_surround_500_10N: [Errno 2] No such file or directory: '/home/yuncong/CSHL_classifiers/datasets/dataset_61/patch_images_LRt_surround_500_10N.hdf'\n",
=======
      "0.45 seconds.\n",
      "Cannot load dataset images for label LRt_surround_500_10N: [Errno 2] No such file or directory: '/shared/CSHL_classifiers/datasets/dataset_61/patch_images_LRt_surround_500_10N.hdf'\n",
>>>>>>> 666df553fa81c06a1e50dace45aa13e495ea3dfa
      "Child returned 0\n"
     ]
    },
    {
     "name": "stdout",
     "output_type": "stream",
     "text": [
      "rm -rf /home/yuncong/CSHL_classifiers/datasets/dataset_61/patch_images_LRt_surround_500_VCA.hdf && mkdir -p /home/yuncong/CSHL_classifiers/datasets/dataset_61\n",
      "aws s3 cp s3://mousebrainatlas-data/CSHL_classifiers/datasets/dataset_61/patch_images_LRt_surround_500_VCA.hdf /home/yuncong/CSHL_classifiers/datasets/dataset_61/patch_images_LRt_surround_500_VCA.hdf\n"
     ]
    },
    {
     "name": "stderr",
     "output_type": "stream",
     "text": [
      "Child returned 1\n",
<<<<<<< HEAD
      "0.68 seconds.\n",
      "Cannot load dataset images for label LRt_surround_500_VCA: [Errno 2] No such file or directory: '/home/yuncong/CSHL_classifiers/datasets/dataset_61/patch_images_LRt_surround_500_VCA.hdf'\n",
=======
      "0.44 seconds.\n",
      "Cannot load dataset images for label LRt_surround_500_VCA: [Errno 2] No such file or directory: '/shared/CSHL_classifiers/datasets/dataset_61/patch_images_LRt_surround_500_VCA.hdf'\n",
>>>>>>> 666df553fa81c06a1e50dace45aa13e495ea3dfa
      "Child returned 0\n"
     ]
    },
    {
     "name": "stdout",
     "output_type": "stream",
     "text": [
      "rm -rf /home/yuncong/CSHL_classifiers/datasets/dataset_61/patch_images_LRt_surround_500_VCP.hdf && mkdir -p /home/yuncong/CSHL_classifiers/datasets/dataset_61\n",
      "aws s3 cp s3://mousebrainatlas-data/CSHL_classifiers/datasets/dataset_61/patch_images_LRt_surround_500_VCP.hdf /home/yuncong/CSHL_classifiers/datasets/dataset_61/patch_images_LRt_surround_500_VCP.hdf\n"
     ]
    },
    {
     "name": "stderr",
     "output_type": "stream",
     "text": [
      "Child returned 1\n",
<<<<<<< HEAD
      "0.69 seconds.\n",
      "Cannot load dataset images for label LRt_surround_500_VCP: [Errno 2] No such file or directory: '/home/yuncong/CSHL_classifiers/datasets/dataset_61/patch_images_LRt_surround_500_VCP.hdf'\n",
=======
      "0.44 seconds.\n",
      "Cannot load dataset images for label LRt_surround_500_VCP: [Errno 2] No such file or directory: '/shared/CSHL_classifiers/datasets/dataset_61/patch_images_LRt_surround_500_VCP.hdf'\n",
>>>>>>> 666df553fa81c06a1e50dace45aa13e495ea3dfa
      "Child returned 0\n"
     ]
    },
    {
     "name": "stdout",
     "output_type": "stream",
     "text": [
      "rm -rf /home/yuncong/CSHL_classifiers/datasets/dataset_61/patch_images_LRt_surround_500_DC.hdf && mkdir -p /home/yuncong/CSHL_classifiers/datasets/dataset_61\n",
      "aws s3 cp s3://mousebrainatlas-data/CSHL_classifiers/datasets/dataset_61/patch_images_LRt_surround_500_DC.hdf /home/yuncong/CSHL_classifiers/datasets/dataset_61/patch_images_LRt_surround_500_DC.hdf\n"
     ]
    },
    {
     "name": "stderr",
     "output_type": "stream",
     "text": [
      "Child returned 1\n",
<<<<<<< HEAD
      "0.71 seconds.\n",
      "Cannot load dataset images for label LRt_surround_500_DC: [Errno 2] No such file or directory: '/home/yuncong/CSHL_classifiers/datasets/dataset_61/patch_images_LRt_surround_500_DC.hdf'\n",
=======
      "0.43 seconds.\n",
      "Cannot load dataset images for label LRt_surround_500_DC: [Errno 2] No such file or directory: '/shared/CSHL_classifiers/datasets/dataset_61/patch_images_LRt_surround_500_DC.hdf'\n",
>>>>>>> 666df553fa81c06a1e50dace45aa13e495ea3dfa
      "Child returned 0\n"
     ]
    },
    {
     "name": "stdout",
     "output_type": "stream",
     "text": [
      "rm -rf /home/yuncong/CSHL_classifiers/datasets/dataset_61/patch_images_LRt_surround_500_AP.hdf && mkdir -p /home/yuncong/CSHL_classifiers/datasets/dataset_61\n",
      "aws s3 cp s3://mousebrainatlas-data/CSHL_classifiers/datasets/dataset_61/patch_images_LRt_surround_500_AP.hdf /home/yuncong/CSHL_classifiers/datasets/dataset_61/patch_images_LRt_surround_500_AP.hdf\n"
     ]
    },
    {
     "name": "stderr",
     "output_type": "stream",
     "text": [
      "Child returned 1\n",
<<<<<<< HEAD
      "0.73 seconds.\n",
      "Cannot load dataset images for label LRt_surround_500_AP: [Errno 2] No such file or directory: '/home/yuncong/CSHL_classifiers/datasets/dataset_61/patch_images_LRt_surround_500_AP.hdf'\n",
=======
      "0.44 seconds.\n",
      "Cannot load dataset images for label LRt_surround_500_AP: [Errno 2] No such file or directory: '/shared/CSHL_classifiers/datasets/dataset_61/patch_images_LRt_surround_500_AP.hdf'\n",
>>>>>>> 666df553fa81c06a1e50dace45aa13e495ea3dfa
      "Child returned 0\n"
     ]
    },
    {
     "name": "stdout",
     "output_type": "stream",
     "text": [
      "rm -rf /home/yuncong/CSHL_classifiers/datasets/dataset_61/patch_images_LRt_surround_500_12N.hdf && mkdir -p /home/yuncong/CSHL_classifiers/datasets/dataset_61\n",
      "aws s3 cp s3://mousebrainatlas-data/CSHL_classifiers/datasets/dataset_61/patch_images_LRt_surround_500_12N.hdf /home/yuncong/CSHL_classifiers/datasets/dataset_61/patch_images_LRt_surround_500_12N.hdf\n"
     ]
    },
    {
     "name": "stderr",
     "output_type": "stream",
     "text": [
      "Child returned 1\n",
<<<<<<< HEAD
      "0.67 seconds.\n",
      "Cannot load dataset images for label LRt_surround_500_12N: [Errno 2] No such file or directory: '/home/yuncong/CSHL_classifiers/datasets/dataset_61/patch_images_LRt_surround_500_12N.hdf'\n",
=======
      "0.44 seconds.\n",
      "Cannot load dataset images for label LRt_surround_500_12N: [Errno 2] No such file or directory: '/shared/CSHL_classifiers/datasets/dataset_61/patch_images_LRt_surround_500_12N.hdf'\n",
>>>>>>> 666df553fa81c06a1e50dace45aa13e495ea3dfa
      "Child returned 0\n"
     ]
    },
    {
     "name": "stdout",
     "output_type": "stream",
     "text": [
      "rm -rf /home/yuncong/CSHL_classifiers/datasets/dataset_61/patch_images_LRt_surround_500_RtTg.hdf && mkdir -p /home/yuncong/CSHL_classifiers/datasets/dataset_61\n",
      "aws s3 cp s3://mousebrainatlas-data/CSHL_classifiers/datasets/dataset_61/patch_images_LRt_surround_500_RtTg.hdf /home/yuncong/CSHL_classifiers/datasets/dataset_61/patch_images_LRt_surround_500_RtTg.hdf\n"
     ]
    },
    {
     "name": "stderr",
     "output_type": "stream",
     "text": [
      "Child returned 1\n",
<<<<<<< HEAD
      "0.67 seconds.\n",
      "Cannot load dataset images for label LRt_surround_500_RtTg: [Errno 2] No such file or directory: '/home/yuncong/CSHL_classifiers/datasets/dataset_61/patch_images_LRt_surround_500_RtTg.hdf'\n",
=======
      "0.44 seconds.\n",
      "Cannot load dataset images for label LRt_surround_500_RtTg: [Errno 2] No such file or directory: '/shared/CSHL_classifiers/datasets/dataset_61/patch_images_LRt_surround_500_RtTg.hdf'\n",
>>>>>>> 666df553fa81c06a1e50dace45aa13e495ea3dfa
      "Child returned 0\n"
     ]
    },
    {
     "name": "stdout",
     "output_type": "stream",
     "text": [
      "rm -rf /home/yuncong/CSHL_classifiers/datasets/dataset_61/patch_images_LRt_surround_500_sp5.hdf && mkdir -p /home/yuncong/CSHL_classifiers/datasets/dataset_61\n",
      "aws s3 cp s3://mousebrainatlas-data/CSHL_classifiers/datasets/dataset_61/patch_images_LRt_surround_500_sp5.hdf /home/yuncong/CSHL_classifiers/datasets/dataset_61/patch_images_LRt_surround_500_sp5.hdf\n"
     ]
    },
    {
     "name": "stderr",
     "output_type": "stream",
     "text": [
      "Child returned 1\n",
<<<<<<< HEAD
      "0.65 seconds.\n",
      "Cannot load dataset images for label LRt_surround_500_sp5: [Errno 2] No such file or directory: '/home/yuncong/CSHL_classifiers/datasets/dataset_61/patch_images_LRt_surround_500_sp5.hdf'\n",
=======
      "0.43 seconds.\n",
      "Cannot load dataset images for label LRt_surround_500_sp5: [Errno 2] No such file or directory: '/shared/CSHL_classifiers/datasets/dataset_61/patch_images_LRt_surround_500_sp5.hdf'\n",
>>>>>>> 666df553fa81c06a1e50dace45aa13e495ea3dfa
      "Child returned 0\n"
     ]
    },
    {
     "name": "stdout",
     "output_type": "stream",
     "text": [
      "rm -rf /home/yuncong/CSHL_classifiers/datasets/dataset_61/patch_images_LRt_surround_500_outerContour.hdf && mkdir -p /home/yuncong/CSHL_classifiers/datasets/dataset_61\n",
      "aws s3 cp s3://mousebrainatlas-data/CSHL_classifiers/datasets/dataset_61/patch_images_LRt_surround_500_outerContour.hdf /home/yuncong/CSHL_classifiers/datasets/dataset_61/patch_images_LRt_surround_500_outerContour.hdf\n"
     ]
    },
    {
     "name": "stderr",
     "output_type": "stream",
     "text": [
      "Child returned 1\n",
<<<<<<< HEAD
      "0.67 seconds.\n",
      "Cannot load dataset images for label LRt_surround_500_outerContour: [Errno 2] No such file or directory: '/home/yuncong/CSHL_classifiers/datasets/dataset_61/patch_images_LRt_surround_500_outerContour.hdf'\n",
=======
      "0.43 seconds.\n",
      "Cannot load dataset images for label LRt_surround_500_outerContour: [Errno 2] No such file or directory: '/shared/CSHL_classifiers/datasets/dataset_61/patch_images_LRt_surround_500_outerContour.hdf'\n",
>>>>>>> 666df553fa81c06a1e50dace45aa13e495ea3dfa
      "Child returned 0\n"
     ]
    },
    {
     "name": "stdout",
     "output_type": "stream",
     "text": [
      "rm -rf /home/yuncong/CSHL_classifiers/datasets/dataset_61/patch_images_LRt_surround_500_SC.hdf && mkdir -p /home/yuncong/CSHL_classifiers/datasets/dataset_61\n",
      "aws s3 cp s3://mousebrainatlas-data/CSHL_classifiers/datasets/dataset_61/patch_images_LRt_surround_500_SC.hdf /home/yuncong/CSHL_classifiers/datasets/dataset_61/patch_images_LRt_surround_500_SC.hdf\n"
     ]
    },
    {
     "name": "stderr",
     "output_type": "stream",
     "text": [
      "Child returned 1\n",
<<<<<<< HEAD
      "0.65 seconds.\n",
      "Cannot load dataset images for label LRt_surround_500_SC: [Errno 2] No such file or directory: '/home/yuncong/CSHL_classifiers/datasets/dataset_61/patch_images_LRt_surround_500_SC.hdf'\n",
=======
      "0.43 seconds.\n",
      "Cannot load dataset images for label LRt_surround_500_SC: [Errno 2] No such file or directory: '/shared/CSHL_classifiers/datasets/dataset_61/patch_images_LRt_surround_500_SC.hdf'\n",
>>>>>>> 666df553fa81c06a1e50dace45aa13e495ea3dfa
      "Child returned 0\n"
     ]
    },
    {
     "name": "stdout",
     "output_type": "stream",
     "text": [
      "rm -rf /home/yuncong/CSHL_classifiers/datasets/dataset_61/patch_images_LRt_surround_500_IC.hdf && mkdir -p /home/yuncong/CSHL_classifiers/datasets/dataset_61\n",
      "aws s3 cp s3://mousebrainatlas-data/CSHL_classifiers/datasets/dataset_61/patch_images_LRt_surround_500_IC.hdf /home/yuncong/CSHL_classifiers/datasets/dataset_61/patch_images_LRt_surround_500_IC.hdf\n"
     ]
    },
    {
     "name": "stderr",
     "output_type": "stream",
     "text": [
      "Child returned 1\n",
<<<<<<< HEAD
      "0.73 seconds.\n",
      "Cannot load dataset images for label LRt_surround_500_IC: [Errno 2] No such file or directory: '/home/yuncong/CSHL_classifiers/datasets/dataset_61/patch_images_LRt_surround_500_IC.hdf'\n"
=======
      "0.44 seconds.\n",
      "Cannot load dataset images for label LRt_surround_500_IC: [Errno 2] No such file or directory: '/shared/CSHL_classifiers/datasets/dataset_61/patch_images_LRt_surround_500_IC.hdf'\n",
      "Child returned 0\n"
>>>>>>> 666df553fa81c06a1e50dace45aa13e495ea3dfa
     ]
    },
    {
     "name": "stdout",
     "output_type": "stream",
     "text": [
      "rm -rf /home/yuncong/CSHL_classifiers/datasets/dataset_61/patch_images_noclass.hdf && mkdir -p /home/yuncong/CSHL_classifiers/datasets/dataset_61\n",
      "aws s3 cp s3://mousebrainatlas-data/CSHL_classifiers/datasets/dataset_61/patch_images_noclass.hdf /home/yuncong/CSHL_classifiers/datasets/dataset_61/patch_images_noclass.hdf\n"
     ]
    },
    {
     "name": "stderr",
     "output_type": "stream",
     "text": [
      "Child returned 0\n",
      "Child returned 1\n",
<<<<<<< HEAD
      "0.66 seconds.\n",
      "Cannot load dataset images for label noclass: [Errno 2] No such file or directory: '/home/yuncong/CSHL_classifiers/datasets/dataset_61/patch_images_noclass.hdf'\n"
=======
      "0.44 seconds.\n",
      "Cannot load dataset images for label noclass: [Errno 2] No such file or directory: '/shared/CSHL_classifiers/datasets/dataset_61/patch_images_noclass.hdf'\n"
>>>>>>> 666df553fa81c06a1e50dace45aa13e495ea3dfa
     ]
    },
    {
     "name": "stdout",
     "output_type": "stream",
     "text": [
      "rm -rf /home/yuncong/CSHL_classifiers/datasets/dataset_62/patch_images_LRt_surround_500_5N.hdf && mkdir -p /home/yuncong/CSHL_classifiers/datasets/dataset_62\n",
      "aws s3 cp s3://mousebrainatlas-data/CSHL_classifiers/datasets/dataset_62/patch_images_LRt_surround_500_5N.hdf /home/yuncong/CSHL_classifiers/datasets/dataset_62/patch_images_LRt_surround_500_5N.hdf\n"
     ]
    },
    {
     "name": "stderr",
     "output_type": "stream",
     "text": [
      "Child returned 0\n",
      "Child returned 1\n",
<<<<<<< HEAD
      "0.69 seconds.\n",
      "Cannot load dataset images for label LRt_surround_500_5N: [Errno 2] No such file or directory: '/home/yuncong/CSHL_classifiers/datasets/dataset_62/patch_images_LRt_surround_500_5N.hdf'\n",
=======
      "0.43 seconds.\n",
      "Cannot load dataset images for label LRt_surround_500_5N: [Errno 2] No such file or directory: '/shared/CSHL_classifiers/datasets/dataset_62/patch_images_LRt_surround_500_5N.hdf'\n",
>>>>>>> 666df553fa81c06a1e50dace45aa13e495ea3dfa
      "Child returned 0\n"
     ]
    },
    {
     "name": "stdout",
     "output_type": "stream",
     "text": [
      "rm -rf /home/yuncong/CSHL_classifiers/datasets/dataset_62/patch_images_LRt_surround_500_6N.hdf && mkdir -p /home/yuncong/CSHL_classifiers/datasets/dataset_62\n",
      "aws s3 cp s3://mousebrainatlas-data/CSHL_classifiers/datasets/dataset_62/patch_images_LRt_surround_500_6N.hdf /home/yuncong/CSHL_classifiers/datasets/dataset_62/patch_images_LRt_surround_500_6N.hdf\n"
     ]
    },
    {
     "name": "stderr",
     "output_type": "stream",
     "text": [
      "Child returned 1\n",
<<<<<<< HEAD
      "0.74 seconds.\n",
      "Cannot load dataset images for label LRt_surround_500_6N: [Errno 2] No such file or directory: '/home/yuncong/CSHL_classifiers/datasets/dataset_62/patch_images_LRt_surround_500_6N.hdf'\n",
=======
      "0.42 seconds.\n",
      "Cannot load dataset images for label LRt_surround_500_6N: [Errno 2] No such file or directory: '/shared/CSHL_classifiers/datasets/dataset_62/patch_images_LRt_surround_500_6N.hdf'\n",
>>>>>>> 666df553fa81c06a1e50dace45aa13e495ea3dfa
      "Child returned 0\n"
     ]
    },
    {
     "name": "stdout",
     "output_type": "stream",
     "text": [
      "rm -rf /home/yuncong/CSHL_classifiers/datasets/dataset_62/patch_images_LRt_surround_500_7N.hdf && mkdir -p /home/yuncong/CSHL_classifiers/datasets/dataset_62\n",
      "aws s3 cp s3://mousebrainatlas-data/CSHL_classifiers/datasets/dataset_62/patch_images_LRt_surround_500_7N.hdf /home/yuncong/CSHL_classifiers/datasets/dataset_62/patch_images_LRt_surround_500_7N.hdf\n"
     ]
    },
    {
     "name": "stderr",
     "output_type": "stream",
     "text": [
      "Child returned 1\n",
<<<<<<< HEAD
      "0.68 seconds.\n",
      "Cannot load dataset images for label LRt_surround_500_7N: [Errno 2] No such file or directory: '/home/yuncong/CSHL_classifiers/datasets/dataset_62/patch_images_LRt_surround_500_7N.hdf'\n",
=======
      "0.43 seconds.\n",
      "Cannot load dataset images for label LRt_surround_500_7N: [Errno 2] No such file or directory: '/shared/CSHL_classifiers/datasets/dataset_62/patch_images_LRt_surround_500_7N.hdf'\n",
>>>>>>> 666df553fa81c06a1e50dace45aa13e495ea3dfa
      "Child returned 0\n"
     ]
    },
    {
     "name": "stdout",
     "output_type": "stream",
     "text": [
      "rm -rf /home/yuncong/CSHL_classifiers/datasets/dataset_62/patch_images_LRt_surround_500_7n.hdf && mkdir -p /home/yuncong/CSHL_classifiers/datasets/dataset_62\n",
      "aws s3 cp s3://mousebrainatlas-data/CSHL_classifiers/datasets/dataset_62/patch_images_LRt_surround_500_7n.hdf /home/yuncong/CSHL_classifiers/datasets/dataset_62/patch_images_LRt_surround_500_7n.hdf\n"
     ]
    },
    {
     "name": "stderr",
     "output_type": "stream",
     "text": [
      "Child returned 1\n",
<<<<<<< HEAD
      "0.71 seconds.\n",
      "Cannot load dataset images for label LRt_surround_500_7n: [Errno 2] No such file or directory: '/home/yuncong/CSHL_classifiers/datasets/dataset_62/patch_images_LRt_surround_500_7n.hdf'\n",
=======
      "0.43 seconds.\n",
      "Cannot load dataset images for label LRt_surround_500_7n: [Errno 2] No such file or directory: '/shared/CSHL_classifiers/datasets/dataset_62/patch_images_LRt_surround_500_7n.hdf'\n",
>>>>>>> 666df553fa81c06a1e50dace45aa13e495ea3dfa
      "Child returned 0\n"
     ]
    },
    {
     "name": "stdout",
     "output_type": "stream",
     "text": [
<<<<<<< HEAD
      "rm -rf /home/yuncong/CSHL_classifiers/datasets/dataset_62/patch_images_LRt_surround_500_LC.hdf && mkdir -p /home/yuncong/CSHL_classifiers/datasets/dataset_62\n",
      "aws s3 cp s3://mousebrainatlas-data/CSHL_classifiers/datasets/dataset_62/patch_images_LRt_surround_500_LC.hdf /home/yuncong/CSHL_classifiers/datasets/dataset_62/patch_images_LRt_surround_500_LC.hdf\n"
=======
      "rm -rf /shared/CSHL_classifiers/datasets/dataset_62/patch_images_LRt_surround_500_LC.hdf && mkdir -p /shared/CSHL_classifiers/datasets/dataset_62\n",
      "aws s3 cp s3://mousebrainatlas-data/CSHL_classifiers/datasets/dataset_62/patch_images_LRt_surround_500_LC.hdf /shared/CSHL_classifiers/datasets/dataset_62/patch_images_LRt_surround_500_LC.hdf\n"
>>>>>>> 666df553fa81c06a1e50dace45aa13e495ea3dfa
     ]
    },
    {
     "name": "stderr",
     "output_type": "stream",
     "text": [
      "Child returned 1\n",
<<<<<<< HEAD
      "0.68 seconds.\n",
      "Cannot load dataset images for label LRt_surround_500_LC: [Errno 2] No such file or directory: '/home/yuncong/CSHL_classifiers/datasets/dataset_62/patch_images_LRt_surround_500_LC.hdf'\n",
=======
      "0.44 seconds.\n",
      "Cannot load dataset images for label LRt_surround_500_LC: [Errno 2] No such file or directory: '/shared/CSHL_classifiers/datasets/dataset_62/patch_images_LRt_surround_500_LC.hdf'\n",
>>>>>>> 666df553fa81c06a1e50dace45aa13e495ea3dfa
      "Child returned 0\n"
     ]
    },
    {
     "name": "stdout",
     "output_type": "stream",
     "text": [
      "rm -rf /home/yuncong/CSHL_classifiers/datasets/dataset_62/patch_images_LRt_surround_500_Pn.hdf && mkdir -p /home/yuncong/CSHL_classifiers/datasets/dataset_62\n",
      "aws s3 cp s3://mousebrainatlas-data/CSHL_classifiers/datasets/dataset_62/patch_images_LRt_surround_500_Pn.hdf /home/yuncong/CSHL_classifiers/datasets/dataset_62/patch_images_LRt_surround_500_Pn.hdf\n"
     ]
    },
    {
     "name": "stderr",
     "output_type": "stream",
     "text": [
      "Child returned 1\n",
<<<<<<< HEAD
      "0.68 seconds.\n",
      "Cannot load dataset images for label LRt_surround_500_Pn: [Errno 2] No such file or directory: '/home/yuncong/CSHL_classifiers/datasets/dataset_62/patch_images_LRt_surround_500_Pn.hdf'\n",
=======
      "0.44 seconds.\n",
      "Cannot load dataset images for label LRt_surround_500_Pn: [Errno 2] No such file or directory: '/shared/CSHL_classifiers/datasets/dataset_62/patch_images_LRt_surround_500_Pn.hdf'\n",
>>>>>>> 666df553fa81c06a1e50dace45aa13e495ea3dfa
      "Child returned 0\n"
     ]
    },
    {
     "name": "stdout",
     "output_type": "stream",
     "text": [
      "rm -rf /home/yuncong/CSHL_classifiers/datasets/dataset_62/patch_images_LRt_surround_500_Tz.hdf && mkdir -p /home/yuncong/CSHL_classifiers/datasets/dataset_62\n",
      "aws s3 cp s3://mousebrainatlas-data/CSHL_classifiers/datasets/dataset_62/patch_images_LRt_surround_500_Tz.hdf /home/yuncong/CSHL_classifiers/datasets/dataset_62/patch_images_LRt_surround_500_Tz.hdf\n"
     ]
    },
    {
     "name": "stderr",
     "output_type": "stream",
     "text": [
      "Child returned 1\n",
<<<<<<< HEAD
      "0.65 seconds.\n",
      "Cannot load dataset images for label LRt_surround_500_Tz: [Errno 2] No such file or directory: '/home/yuncong/CSHL_classifiers/datasets/dataset_62/patch_images_LRt_surround_500_Tz.hdf'\n",
=======
      "0.43 seconds.\n",
      "Cannot load dataset images for label LRt_surround_500_Tz: [Errno 2] No such file or directory: '/shared/CSHL_classifiers/datasets/dataset_62/patch_images_LRt_surround_500_Tz.hdf'\n",
>>>>>>> 666df553fa81c06a1e50dace45aa13e495ea3dfa
      "Child returned 0\n"
     ]
    },
    {
     "name": "stdout",
     "output_type": "stream",
     "text": [
      "rm -rf /home/yuncong/CSHL_classifiers/datasets/dataset_62/patch_images_LRt_surround_500_VLL.hdf && mkdir -p /home/yuncong/CSHL_classifiers/datasets/dataset_62\n",
      "aws s3 cp s3://mousebrainatlas-data/CSHL_classifiers/datasets/dataset_62/patch_images_LRt_surround_500_VLL.hdf /home/yuncong/CSHL_classifiers/datasets/dataset_62/patch_images_LRt_surround_500_VLL.hdf\n"
     ]
    },
    {
     "name": "stderr",
     "output_type": "stream",
     "text": [
      "Child returned 1\n",
<<<<<<< HEAD
      "0.65 seconds.\n",
      "Cannot load dataset images for label LRt_surround_500_VLL: [Errno 2] No such file or directory: '/home/yuncong/CSHL_classifiers/datasets/dataset_62/patch_images_LRt_surround_500_VLL.hdf'\n",
=======
      "0.44 seconds.\n",
      "Cannot load dataset images for label LRt_surround_500_VLL: [Errno 2] No such file or directory: '/shared/CSHL_classifiers/datasets/dataset_62/patch_images_LRt_surround_500_VLL.hdf'\n",
>>>>>>> 666df553fa81c06a1e50dace45aa13e495ea3dfa
      "Child returned 0\n"
     ]
    },
    {
     "name": "stdout",
     "output_type": "stream",
     "text": [
      "rm -rf /home/yuncong/CSHL_classifiers/datasets/dataset_62/patch_images_LRt_surround_500_RMC.hdf && mkdir -p /home/yuncong/CSHL_classifiers/datasets/dataset_62\n",
      "aws s3 cp s3://mousebrainatlas-data/CSHL_classifiers/datasets/dataset_62/patch_images_LRt_surround_500_RMC.hdf /home/yuncong/CSHL_classifiers/datasets/dataset_62/patch_images_LRt_surround_500_RMC.hdf\n"
     ]
    },
    {
     "name": "stderr",
     "output_type": "stream",
     "text": [
      "Child returned 1\n",
<<<<<<< HEAD
      "0.69 seconds.\n",
      "Cannot load dataset images for label LRt_surround_500_RMC: [Errno 2] No such file or directory: '/home/yuncong/CSHL_classifiers/datasets/dataset_62/patch_images_LRt_surround_500_RMC.hdf'\n",
=======
      "0.44 seconds.\n",
      "Cannot load dataset images for label LRt_surround_500_RMC: [Errno 2] No such file or directory: '/shared/CSHL_classifiers/datasets/dataset_62/patch_images_LRt_surround_500_RMC.hdf'\n",
>>>>>>> 666df553fa81c06a1e50dace45aa13e495ea3dfa
      "Child returned 0\n"
     ]
    },
    {
     "name": "stdout",
     "output_type": "stream",
     "text": [
      "rm -rf /home/yuncong/CSHL_classifiers/datasets/dataset_62/patch_images_LRt_surround_500_SNC.hdf && mkdir -p /home/yuncong/CSHL_classifiers/datasets/dataset_62\n",
      "aws s3 cp s3://mousebrainatlas-data/CSHL_classifiers/datasets/dataset_62/patch_images_LRt_surround_500_SNC.hdf /home/yuncong/CSHL_classifiers/datasets/dataset_62/patch_images_LRt_surround_500_SNC.hdf\n"
     ]
    },
    {
     "name": "stderr",
     "output_type": "stream",
     "text": [
      "Child returned 1\n",
<<<<<<< HEAD
      "0.69 seconds.\n",
      "Cannot load dataset images for label LRt_surround_500_SNC: [Errno 2] No such file or directory: '/home/yuncong/CSHL_classifiers/datasets/dataset_62/patch_images_LRt_surround_500_SNC.hdf'\n",
=======
      "0.44 seconds.\n",
      "Cannot load dataset images for label LRt_surround_500_SNC: [Errno 2] No such file or directory: '/shared/CSHL_classifiers/datasets/dataset_62/patch_images_LRt_surround_500_SNC.hdf'\n",
>>>>>>> 666df553fa81c06a1e50dace45aa13e495ea3dfa
      "Child returned 0\n"
     ]
    },
    {
     "name": "stdout",
     "output_type": "stream",
     "text": [
      "rm -rf /home/yuncong/CSHL_classifiers/datasets/dataset_62/patch_images_LRt_surround_500_SNR.hdf && mkdir -p /home/yuncong/CSHL_classifiers/datasets/dataset_62\n",
      "aws s3 cp s3://mousebrainatlas-data/CSHL_classifiers/datasets/dataset_62/patch_images_LRt_surround_500_SNR.hdf /home/yuncong/CSHL_classifiers/datasets/dataset_62/patch_images_LRt_surround_500_SNR.hdf\n"
     ]
    },
    {
     "name": "stderr",
     "output_type": "stream",
     "text": [
      "Child returned 1\n",
<<<<<<< HEAD
      "0.70 seconds.\n",
      "Cannot load dataset images for label LRt_surround_500_SNR: [Errno 2] No such file or directory: '/home/yuncong/CSHL_classifiers/datasets/dataset_62/patch_images_LRt_surround_500_SNR.hdf'\n",
=======
      "0.42 seconds.\n",
      "Cannot load dataset images for label LRt_surround_500_SNR: [Errno 2] No such file or directory: '/shared/CSHL_classifiers/datasets/dataset_62/patch_images_LRt_surround_500_SNR.hdf'\n",
>>>>>>> 666df553fa81c06a1e50dace45aa13e495ea3dfa
      "Child returned 0\n"
     ]
    },
    {
     "name": "stdout",
     "output_type": "stream",
     "text": [
      "rm -rf /home/yuncong/CSHL_classifiers/datasets/dataset_62/patch_images_LRt_surround_500_3N.hdf && mkdir -p /home/yuncong/CSHL_classifiers/datasets/dataset_62\n",
      "aws s3 cp s3://mousebrainatlas-data/CSHL_classifiers/datasets/dataset_62/patch_images_LRt_surround_500_3N.hdf /home/yuncong/CSHL_classifiers/datasets/dataset_62/patch_images_LRt_surround_500_3N.hdf\n"
     ]
    },
    {
     "name": "stderr",
     "output_type": "stream",
     "text": [
      "Child returned 1\n",
<<<<<<< HEAD
      "0.69 seconds.\n",
      "Cannot load dataset images for label LRt_surround_500_3N: [Errno 2] No such file or directory: '/home/yuncong/CSHL_classifiers/datasets/dataset_62/patch_images_LRt_surround_500_3N.hdf'\n",
=======
      "0.43 seconds.\n",
      "Cannot load dataset images for label LRt_surround_500_3N: [Errno 2] No such file or directory: '/shared/CSHL_classifiers/datasets/dataset_62/patch_images_LRt_surround_500_3N.hdf'\n",
>>>>>>> 666df553fa81c06a1e50dace45aa13e495ea3dfa
      "Child returned 0\n"
     ]
    },
    {
     "name": "stdout",
     "output_type": "stream",
     "text": [
      "rm -rf /home/yuncong/CSHL_classifiers/datasets/dataset_62/patch_images_LRt_surround_500_4N.hdf && mkdir -p /home/yuncong/CSHL_classifiers/datasets/dataset_62\n",
      "aws s3 cp s3://mousebrainatlas-data/CSHL_classifiers/datasets/dataset_62/patch_images_LRt_surround_500_4N.hdf /home/yuncong/CSHL_classifiers/datasets/dataset_62/patch_images_LRt_surround_500_4N.hdf\n"
     ]
    },
    {
     "name": "stderr",
     "output_type": "stream",
     "text": [
      "Child returned 1\n",
<<<<<<< HEAD
      "0.66 seconds.\n",
      "Cannot load dataset images for label LRt_surround_500_4N: [Errno 2] No such file or directory: '/home/yuncong/CSHL_classifiers/datasets/dataset_62/patch_images_LRt_surround_500_4N.hdf'\n",
=======
      "0.44 seconds.\n",
      "Cannot load dataset images for label LRt_surround_500_4N: [Errno 2] No such file or directory: '/shared/CSHL_classifiers/datasets/dataset_62/patch_images_LRt_surround_500_4N.hdf'\n",
>>>>>>> 666df553fa81c06a1e50dace45aa13e495ea3dfa
      "Child returned 0\n"
     ]
    },
    {
     "name": "stdout",
     "output_type": "stream",
     "text": [
      "rm -rf /home/yuncong/CSHL_classifiers/datasets/dataset_62/patch_images_LRt_surround_500_Sp5I.hdf && mkdir -p /home/yuncong/CSHL_classifiers/datasets/dataset_62\n",
      "aws s3 cp s3://mousebrainatlas-data/CSHL_classifiers/datasets/dataset_62/patch_images_LRt_surround_500_Sp5I.hdf /home/yuncong/CSHL_classifiers/datasets/dataset_62/patch_images_LRt_surround_500_Sp5I.hdf\n"
     ]
    },
    {
     "name": "stderr",
     "output_type": "stream",
     "text": [
      "Child returned 1\n",
<<<<<<< HEAD
      "0.69 seconds.\n",
      "Cannot load dataset images for label LRt_surround_500_Sp5I: [Errno 2] No such file or directory: '/home/yuncong/CSHL_classifiers/datasets/dataset_62/patch_images_LRt_surround_500_Sp5I.hdf'\n",
=======
      "0.43 seconds.\n",
      "Cannot load dataset images for label LRt_surround_500_Sp5I: [Errno 2] No such file or directory: '/shared/CSHL_classifiers/datasets/dataset_62/patch_images_LRt_surround_500_Sp5I.hdf'\n",
>>>>>>> 666df553fa81c06a1e50dace45aa13e495ea3dfa
      "Child returned 0\n"
     ]
    },
    {
     "name": "stdout",
     "output_type": "stream",
     "text": [
      "rm -rf /home/yuncong/CSHL_classifiers/datasets/dataset_62/patch_images_LRt_surround_500_Sp5O.hdf && mkdir -p /home/yuncong/CSHL_classifiers/datasets/dataset_62\n",
      "aws s3 cp s3://mousebrainatlas-data/CSHL_classifiers/datasets/dataset_62/patch_images_LRt_surround_500_Sp5O.hdf /home/yuncong/CSHL_classifiers/datasets/dataset_62/patch_images_LRt_surround_500_Sp5O.hdf\n"
     ]
    },
    {
     "name": "stderr",
     "output_type": "stream",
     "text": [
      "Child returned 1\n",
<<<<<<< HEAD
      "0.68 seconds.\n",
      "Cannot load dataset images for label LRt_surround_500_Sp5O: [Errno 2] No such file or directory: '/home/yuncong/CSHL_classifiers/datasets/dataset_62/patch_images_LRt_surround_500_Sp5O.hdf'\n",
=======
      "0.45 seconds.\n",
      "Cannot load dataset images for label LRt_surround_500_Sp5O: [Errno 2] No such file or directory: '/shared/CSHL_classifiers/datasets/dataset_62/patch_images_LRt_surround_500_Sp5O.hdf'\n",
>>>>>>> 666df553fa81c06a1e50dace45aa13e495ea3dfa
      "Child returned 0\n"
     ]
    },
    {
     "name": "stdout",
     "output_type": "stream",
     "text": [
      "rm -rf /home/yuncong/CSHL_classifiers/datasets/dataset_62/patch_images_LRt_surround_500_Sp5C.hdf && mkdir -p /home/yuncong/CSHL_classifiers/datasets/dataset_62\n",
      "aws s3 cp s3://mousebrainatlas-data/CSHL_classifiers/datasets/dataset_62/patch_images_LRt_surround_500_Sp5C.hdf /home/yuncong/CSHL_classifiers/datasets/dataset_62/patch_images_LRt_surround_500_Sp5C.hdf\n"
     ]
    },
    {
     "name": "stderr",
     "output_type": "stream",
     "text": [
      "Child returned 1\n",
<<<<<<< HEAD
      "0.70 seconds.\n",
      "Cannot load dataset images for label LRt_surround_500_Sp5C: [Errno 2] No such file or directory: '/home/yuncong/CSHL_classifiers/datasets/dataset_62/patch_images_LRt_surround_500_Sp5C.hdf'\n",
=======
      "0.44 seconds.\n",
      "Cannot load dataset images for label LRt_surround_500_Sp5C: [Errno 2] No such file or directory: '/shared/CSHL_classifiers/datasets/dataset_62/patch_images_LRt_surround_500_Sp5C.hdf'\n",
>>>>>>> 666df553fa81c06a1e50dace45aa13e495ea3dfa
      "Child returned 0\n"
     ]
    },
    {
     "name": "stdout",
     "output_type": "stream",
     "text": [
      "rm -rf /home/yuncong/CSHL_classifiers/datasets/dataset_62/patch_images_LRt_surround_500_PBG.hdf && mkdir -p /home/yuncong/CSHL_classifiers/datasets/dataset_62\n",
      "aws s3 cp s3://mousebrainatlas-data/CSHL_classifiers/datasets/dataset_62/patch_images_LRt_surround_500_PBG.hdf /home/yuncong/CSHL_classifiers/datasets/dataset_62/patch_images_LRt_surround_500_PBG.hdf\n"
     ]
    },
    {
     "name": "stderr",
     "output_type": "stream",
     "text": [
      "Child returned 1\n",
<<<<<<< HEAD
      "0.66 seconds.\n",
      "Cannot load dataset images for label LRt_surround_500_PBG: [Errno 2] No such file or directory: '/home/yuncong/CSHL_classifiers/datasets/dataset_62/patch_images_LRt_surround_500_PBG.hdf'\n",
=======
      "0.43 seconds.\n",
      "Cannot load dataset images for label LRt_surround_500_PBG: [Errno 2] No such file or directory: '/shared/CSHL_classifiers/datasets/dataset_62/patch_images_LRt_surround_500_PBG.hdf'\n",
>>>>>>> 666df553fa81c06a1e50dace45aa13e495ea3dfa
      "Child returned 0\n"
     ]
    },
    {
     "name": "stdout",
     "output_type": "stream",
     "text": [
      "rm -rf /home/yuncong/CSHL_classifiers/datasets/dataset_62/patch_images_LRt_surround_500_10N.hdf && mkdir -p /home/yuncong/CSHL_classifiers/datasets/dataset_62\n",
      "aws s3 cp s3://mousebrainatlas-data/CSHL_classifiers/datasets/dataset_62/patch_images_LRt_surround_500_10N.hdf /home/yuncong/CSHL_classifiers/datasets/dataset_62/patch_images_LRt_surround_500_10N.hdf\n"
     ]
    },
    {
     "name": "stderr",
     "output_type": "stream",
     "text": [
      "Child returned 1\n",
<<<<<<< HEAD
      "0.67 seconds.\n",
      "Cannot load dataset images for label LRt_surround_500_10N: [Errno 2] No such file or directory: '/home/yuncong/CSHL_classifiers/datasets/dataset_62/patch_images_LRt_surround_500_10N.hdf'\n",
=======
      "0.44 seconds.\n",
      "Cannot load dataset images for label LRt_surround_500_10N: [Errno 2] No such file or directory: '/shared/CSHL_classifiers/datasets/dataset_62/patch_images_LRt_surround_500_10N.hdf'\n",
>>>>>>> 666df553fa81c06a1e50dace45aa13e495ea3dfa
      "Child returned 0\n"
     ]
    },
    {
     "name": "stdout",
     "output_type": "stream",
     "text": [
      "rm -rf /home/yuncong/CSHL_classifiers/datasets/dataset_62/patch_images_LRt_surround_500_VCA.hdf && mkdir -p /home/yuncong/CSHL_classifiers/datasets/dataset_62\n",
      "aws s3 cp s3://mousebrainatlas-data/CSHL_classifiers/datasets/dataset_62/patch_images_LRt_surround_500_VCA.hdf /home/yuncong/CSHL_classifiers/datasets/dataset_62/patch_images_LRt_surround_500_VCA.hdf\n"
     ]
    },
    {
     "name": "stderr",
     "output_type": "stream",
     "text": [
      "Child returned 1\n",
<<<<<<< HEAD
      "0.67 seconds.\n",
      "Cannot load dataset images for label LRt_surround_500_VCA: [Errno 2] No such file or directory: '/home/yuncong/CSHL_classifiers/datasets/dataset_62/patch_images_LRt_surround_500_VCA.hdf'\n",
=======
      "0.43 seconds.\n",
      "Cannot load dataset images for label LRt_surround_500_VCA: [Errno 2] No such file or directory: '/shared/CSHL_classifiers/datasets/dataset_62/patch_images_LRt_surround_500_VCA.hdf'\n",
>>>>>>> 666df553fa81c06a1e50dace45aa13e495ea3dfa
      "Child returned 0\n"
     ]
    },
    {
     "name": "stdout",
     "output_type": "stream",
     "text": [
      "rm -rf /home/yuncong/CSHL_classifiers/datasets/dataset_62/patch_images_LRt_surround_500_VCP.hdf && mkdir -p /home/yuncong/CSHL_classifiers/datasets/dataset_62\n",
      "aws s3 cp s3://mousebrainatlas-data/CSHL_classifiers/datasets/dataset_62/patch_images_LRt_surround_500_VCP.hdf /home/yuncong/CSHL_classifiers/datasets/dataset_62/patch_images_LRt_surround_500_VCP.hdf\n"
     ]
    },
    {
     "name": "stderr",
     "output_type": "stream",
     "text": [
      "Child returned 1\n",
<<<<<<< HEAD
      "0.65 seconds.\n",
      "Cannot load dataset images for label LRt_surround_500_VCP: [Errno 2] No such file or directory: '/home/yuncong/CSHL_classifiers/datasets/dataset_62/patch_images_LRt_surround_500_VCP.hdf'\n",
=======
      "0.44 seconds.\n",
      "Cannot load dataset images for label LRt_surround_500_VCP: [Errno 2] No such file or directory: '/shared/CSHL_classifiers/datasets/dataset_62/patch_images_LRt_surround_500_VCP.hdf'\n",
>>>>>>> 666df553fa81c06a1e50dace45aa13e495ea3dfa
      "Child returned 0\n"
     ]
    },
    {
     "name": "stdout",
     "output_type": "stream",
     "text": [
      "rm -rf /home/yuncong/CSHL_classifiers/datasets/dataset_62/patch_images_LRt_surround_500_DC.hdf && mkdir -p /home/yuncong/CSHL_classifiers/datasets/dataset_62\n",
      "aws s3 cp s3://mousebrainatlas-data/CSHL_classifiers/datasets/dataset_62/patch_images_LRt_surround_500_DC.hdf /home/yuncong/CSHL_classifiers/datasets/dataset_62/patch_images_LRt_surround_500_DC.hdf\n"
     ]
    },
    {
     "name": "stderr",
     "output_type": "stream",
     "text": [
      "Child returned 1\n",
<<<<<<< HEAD
      "0.68 seconds.\n",
      "Cannot load dataset images for label LRt_surround_500_DC: [Errno 2] No such file or directory: '/home/yuncong/CSHL_classifiers/datasets/dataset_62/patch_images_LRt_surround_500_DC.hdf'\n",
=======
      "0.43 seconds.\n",
      "Cannot load dataset images for label LRt_surround_500_DC: [Errno 2] No such file or directory: '/shared/CSHL_classifiers/datasets/dataset_62/patch_images_LRt_surround_500_DC.hdf'\n",
>>>>>>> 666df553fa81c06a1e50dace45aa13e495ea3dfa
      "Child returned 0\n"
     ]
    },
    {
     "name": "stdout",
     "output_type": "stream",
     "text": [
      "rm -rf /home/yuncong/CSHL_classifiers/datasets/dataset_62/patch_images_LRt_surround_500_AP.hdf && mkdir -p /home/yuncong/CSHL_classifiers/datasets/dataset_62\n",
      "aws s3 cp s3://mousebrainatlas-data/CSHL_classifiers/datasets/dataset_62/patch_images_LRt_surround_500_AP.hdf /home/yuncong/CSHL_classifiers/datasets/dataset_62/patch_images_LRt_surround_500_AP.hdf\n"
     ]
    },
    {
     "name": "stderr",
     "output_type": "stream",
     "text": [
      "Child returned 1\n",
<<<<<<< HEAD
      "0.68 seconds.\n",
      "Cannot load dataset images for label LRt_surround_500_AP: [Errno 2] No such file or directory: '/home/yuncong/CSHL_classifiers/datasets/dataset_62/patch_images_LRt_surround_500_AP.hdf'\n",
=======
      "0.49 seconds.\n",
      "Cannot load dataset images for label LRt_surround_500_AP: [Errno 2] No such file or directory: '/shared/CSHL_classifiers/datasets/dataset_62/patch_images_LRt_surround_500_AP.hdf'\n",
>>>>>>> 666df553fa81c06a1e50dace45aa13e495ea3dfa
      "Child returned 0\n"
     ]
    },
    {
     "name": "stdout",
     "output_type": "stream",
     "text": [
      "rm -rf /home/yuncong/CSHL_classifiers/datasets/dataset_62/patch_images_LRt_surround_500_12N.hdf && mkdir -p /home/yuncong/CSHL_classifiers/datasets/dataset_62\n",
      "aws s3 cp s3://mousebrainatlas-data/CSHL_classifiers/datasets/dataset_62/patch_images_LRt_surround_500_12N.hdf /home/yuncong/CSHL_classifiers/datasets/dataset_62/patch_images_LRt_surround_500_12N.hdf\n"
     ]
    },
    {
     "name": "stderr",
     "output_type": "stream",
     "text": [
      "Child returned 1\n",
<<<<<<< HEAD
      "0.67 seconds.\n",
      "Cannot load dataset images for label LRt_surround_500_12N: [Errno 2] No such file or directory: '/home/yuncong/CSHL_classifiers/datasets/dataset_62/patch_images_LRt_surround_500_12N.hdf'\n",
=======
      "0.43 seconds.\n",
      "Cannot load dataset images for label LRt_surround_500_12N: [Errno 2] No such file or directory: '/shared/CSHL_classifiers/datasets/dataset_62/patch_images_LRt_surround_500_12N.hdf'\n",
>>>>>>> 666df553fa81c06a1e50dace45aa13e495ea3dfa
      "Child returned 0\n"
     ]
    },
    {
     "name": "stdout",
     "output_type": "stream",
     "text": [
      "rm -rf /home/yuncong/CSHL_classifiers/datasets/dataset_62/patch_images_LRt_surround_500_RtTg.hdf && mkdir -p /home/yuncong/CSHL_classifiers/datasets/dataset_62\n",
      "aws s3 cp s3://mousebrainatlas-data/CSHL_classifiers/datasets/dataset_62/patch_images_LRt_surround_500_RtTg.hdf /home/yuncong/CSHL_classifiers/datasets/dataset_62/patch_images_LRt_surround_500_RtTg.hdf\n"
     ]
    },
    {
     "name": "stderr",
     "output_type": "stream",
     "text": [
      "Child returned 1\n",
<<<<<<< HEAD
      "0.65 seconds.\n",
      "Cannot load dataset images for label LRt_surround_500_RtTg: [Errno 2] No such file or directory: '/home/yuncong/CSHL_classifiers/datasets/dataset_62/patch_images_LRt_surround_500_RtTg.hdf'\n",
=======
      "0.42 seconds.\n",
      "Cannot load dataset images for label LRt_surround_500_RtTg: [Errno 2] No such file or directory: '/shared/CSHL_classifiers/datasets/dataset_62/patch_images_LRt_surround_500_RtTg.hdf'\n",
>>>>>>> 666df553fa81c06a1e50dace45aa13e495ea3dfa
      "Child returned 0\n"
     ]
    },
    {
     "name": "stdout",
     "output_type": "stream",
     "text": [
      "rm -rf /home/yuncong/CSHL_classifiers/datasets/dataset_62/patch_images_LRt_surround_500_sp5.hdf && mkdir -p /home/yuncong/CSHL_classifiers/datasets/dataset_62\n",
      "aws s3 cp s3://mousebrainatlas-data/CSHL_classifiers/datasets/dataset_62/patch_images_LRt_surround_500_sp5.hdf /home/yuncong/CSHL_classifiers/datasets/dataset_62/patch_images_LRt_surround_500_sp5.hdf\n"
     ]
    },
    {
     "name": "stderr",
     "output_type": "stream",
     "text": [
      "Child returned 1\n",
<<<<<<< HEAD
      "0.67 seconds.\n",
      "Cannot load dataset images for label LRt_surround_500_sp5: [Errno 2] No such file or directory: '/home/yuncong/CSHL_classifiers/datasets/dataset_62/patch_images_LRt_surround_500_sp5.hdf'\n",
=======
      "0.44 seconds.\n",
      "Cannot load dataset images for label LRt_surround_500_sp5: [Errno 2] No such file or directory: '/shared/CSHL_classifiers/datasets/dataset_62/patch_images_LRt_surround_500_sp5.hdf'\n",
>>>>>>> 666df553fa81c06a1e50dace45aa13e495ea3dfa
      "Child returned 0\n"
     ]
    },
    {
     "name": "stdout",
     "output_type": "stream",
     "text": [
      "rm -rf /home/yuncong/CSHL_classifiers/datasets/dataset_62/patch_images_LRt_surround_500_outerContour.hdf && mkdir -p /home/yuncong/CSHL_classifiers/datasets/dataset_62\n",
      "aws s3 cp s3://mousebrainatlas-data/CSHL_classifiers/datasets/dataset_62/patch_images_LRt_surround_500_outerContour.hdf /home/yuncong/CSHL_classifiers/datasets/dataset_62/patch_images_LRt_surround_500_outerContour.hdf\n"
     ]
    },
    {
     "name": "stderr",
     "output_type": "stream",
     "text": [
      "Child returned 1\n",
<<<<<<< HEAD
      "0.66 seconds.\n",
      "Cannot load dataset images for label LRt_surround_500_outerContour: [Errno 2] No such file or directory: '/home/yuncong/CSHL_classifiers/datasets/dataset_62/patch_images_LRt_surround_500_outerContour.hdf'\n",
=======
      "0.44 seconds.\n",
      "Cannot load dataset images for label LRt_surround_500_outerContour: [Errno 2] No such file or directory: '/shared/CSHL_classifiers/datasets/dataset_62/patch_images_LRt_surround_500_outerContour.hdf'\n",
>>>>>>> 666df553fa81c06a1e50dace45aa13e495ea3dfa
      "Child returned 0\n"
     ]
    },
    {
     "name": "stdout",
     "output_type": "stream",
     "text": [
      "rm -rf /home/yuncong/CSHL_classifiers/datasets/dataset_62/patch_images_LRt_surround_500_SC.hdf && mkdir -p /home/yuncong/CSHL_classifiers/datasets/dataset_62\n",
      "aws s3 cp s3://mousebrainatlas-data/CSHL_classifiers/datasets/dataset_62/patch_images_LRt_surround_500_SC.hdf /home/yuncong/CSHL_classifiers/datasets/dataset_62/patch_images_LRt_surround_500_SC.hdf\n"
     ]
    },
    {
     "name": "stderr",
     "output_type": "stream",
     "text": [
      "Child returned 1\n",
<<<<<<< HEAD
      "0.65 seconds.\n",
      "Cannot load dataset images for label LRt_surround_500_SC: [Errno 2] No such file or directory: '/home/yuncong/CSHL_classifiers/datasets/dataset_62/patch_images_LRt_surround_500_SC.hdf'\n",
=======
      "0.43 seconds.\n",
      "Cannot load dataset images for label LRt_surround_500_SC: [Errno 2] No such file or directory: '/shared/CSHL_classifiers/datasets/dataset_62/patch_images_LRt_surround_500_SC.hdf'\n",
>>>>>>> 666df553fa81c06a1e50dace45aa13e495ea3dfa
      "Child returned 0\n"
     ]
    },
    {
     "name": "stdout",
     "output_type": "stream",
     "text": [
      "rm -rf /home/yuncong/CSHL_classifiers/datasets/dataset_62/patch_images_LRt_surround_500_IC.hdf && mkdir -p /home/yuncong/CSHL_classifiers/datasets/dataset_62\n",
      "aws s3 cp s3://mousebrainatlas-data/CSHL_classifiers/datasets/dataset_62/patch_images_LRt_surround_500_IC.hdf /home/yuncong/CSHL_classifiers/datasets/dataset_62/patch_images_LRt_surround_500_IC.hdf\n"
     ]
    },
    {
     "name": "stderr",
     "output_type": "stream",
     "text": [
      "Child returned 1\n",
<<<<<<< HEAD
      "0.67 seconds.\n",
      "Cannot load dataset images for label LRt_surround_500_IC: [Errno 2] No such file or directory: '/home/yuncong/CSHL_classifiers/datasets/dataset_62/patch_images_LRt_surround_500_IC.hdf'\n"
=======
      "0.42 seconds.\n",
      "Cannot load dataset images for label LRt_surround_500_IC: [Errno 2] No such file or directory: '/shared/CSHL_classifiers/datasets/dataset_62/patch_images_LRt_surround_500_IC.hdf'\n",
      "Child returned 0\n"
>>>>>>> 666df553fa81c06a1e50dace45aa13e495ea3dfa
     ]
    },
    {
     "name": "stdout",
     "output_type": "stream",
     "text": [
      "rm -rf /home/yuncong/CSHL_classifiers/datasets/dataset_62/patch_images_noclass.hdf && mkdir -p /home/yuncong/CSHL_classifiers/datasets/dataset_62\n",
      "aws s3 cp s3://mousebrainatlas-data/CSHL_classifiers/datasets/dataset_62/patch_images_noclass.hdf /home/yuncong/CSHL_classifiers/datasets/dataset_62/patch_images_noclass.hdf\n"
     ]
    },
    {
     "name": "stderr",
     "output_type": "stream",
     "text": [
      "Child returned 0\n",
      "Child returned 1\n",
<<<<<<< HEAD
      "0.66 seconds.\n",
      "Cannot load dataset images for label noclass: [Errno 2] No such file or directory: '/home/yuncong/CSHL_classifiers/datasets/dataset_62/patch_images_noclass.hdf'\n",
      "INFO:root:Epoch[0] Batch [10]\tSpeed: 161.83 samples/sec\tTrain-accuracy=0.590909\n",
      "INFO:root:Epoch[0] Batch [20]\tSpeed: 164.76 samples/sec\tTrain-accuracy=0.625000\n",
      "INFO:root:Epoch[0] Batch [30]\tSpeed: 164.01 samples/sec\tTrain-accuracy=0.668750\n",
      "INFO:root:Epoch[0] Batch [40]\tSpeed: 160.67 samples/sec\tTrain-accuracy=0.743750\n",
      "INFO:root:Epoch[0] Batch [50]\tSpeed: 163.54 samples/sec\tTrain-accuracy=0.787500\n",
      "INFO:root:Epoch[0] Batch [60]\tSpeed: 165.05 samples/sec\tTrain-accuracy=0.768750\n",
      "INFO:root:Epoch[0] Batch [70]\tSpeed: 164.30 samples/sec\tTrain-accuracy=0.837500\n",
      "INFO:root:Epoch[0] Batch [80]\tSpeed: 160.65 samples/sec\tTrain-accuracy=0.737500\n",
      "INFO:root:Epoch[0] Batch [90]\tSpeed: 164.73 samples/sec\tTrain-accuracy=0.768750\n",
      "INFO:root:Epoch[0] Batch [100]\tSpeed: 164.33 samples/sec\tTrain-accuracy=0.812500\n",
      "INFO:root:Epoch[0] Batch [110]\tSpeed: 163.91 samples/sec\tTrain-accuracy=0.787500\n",
      "INFO:root:Epoch[0] Batch [120]\tSpeed: 161.02 samples/sec\tTrain-accuracy=0.800000\n",
      "INFO:root:Epoch[0] Batch [130]\tSpeed: 163.85 samples/sec\tTrain-accuracy=0.812500\n",
      "INFO:root:Epoch[0] Batch [140]\tSpeed: 164.48 samples/sec\tTrain-accuracy=0.768750\n",
      "INFO:root:Epoch[0] Batch [150]\tSpeed: 165.01 samples/sec\tTrain-accuracy=0.806250\n",
      "INFO:root:Epoch[0] Batch [160]\tSpeed: 161.37 samples/sec\tTrain-accuracy=0.831250\n",
      "INFO:root:Epoch[0] Batch [170]\tSpeed: 163.86 samples/sec\tTrain-accuracy=0.787500\n",
      "INFO:root:Epoch[0] Batch [180]\tSpeed: 167.29 samples/sec\tTrain-accuracy=0.718750\n",
      "INFO:root:Epoch[0] Batch [190]\tSpeed: 164.54 samples/sec\tTrain-accuracy=0.818750\n",
      "INFO:root:Epoch[0] Batch [200]\tSpeed: 162.84 samples/sec\tTrain-accuracy=0.837500\n",
      "INFO:root:Epoch[0] Batch [210]\tSpeed: 164.00 samples/sec\tTrain-accuracy=0.762500\n",
      "INFO:root:Epoch[0] Batch [220]\tSpeed: 165.68 samples/sec\tTrain-accuracy=0.737500\n",
      "INFO:root:Epoch[0] Batch [230]\tSpeed: 165.16 samples/sec\tTrain-accuracy=0.862500\n",
      "INFO:root:Epoch[0] Batch [240]\tSpeed: 160.59 samples/sec\tTrain-accuracy=0.818750\n",
      "INFO:root:Epoch[0] Train-accuracy=0.805556\n",
      "INFO:root:Epoch[0] Time cost=24.453\n",
      "INFO:root:Saved checkpoint to \"/home/yuncong/mxnet_models/inception-bn-blue-softmax/inception-bn-blue-softmax_LRt-0000.params\"\n"
=======
      "0.44 seconds.\n",
      "Cannot load dataset images for label noclass: [Errno 2] No such file or directory: '/shared/CSHL_classifiers/datasets/dataset_62/patch_images_noclass.hdf'\n",
      "2017-06-12 08:06:11,602 Epoch[0] Batch [10]\tSpeed: 69.22 samples/sec\taccuracy=0.534091\n",
      "2017-06-12 08:06:13,878 Epoch[0] Batch [20]\tSpeed: 70.35 samples/sec\taccuracy=0.612500\n",
      "2017-06-12 08:06:16,155 Epoch[0] Batch [30]\tSpeed: 70.29 samples/sec\taccuracy=0.637500\n",
      "2017-06-12 08:06:18,442 Epoch[0] Batch [40]\tSpeed: 69.99 samples/sec\taccuracy=0.743750\n",
      "2017-06-12 08:06:20,731 Epoch[0] Batch [50]\tSpeed: 69.94 samples/sec\taccuracy=0.756250\n",
      "2017-06-12 08:06:23,021 Epoch[0] Batch [60]\tSpeed: 69.90 samples/sec\taccuracy=0.750000\n",
      "2017-06-12 08:06:25,302 Epoch[0] Batch [70]\tSpeed: 70.18 samples/sec\taccuracy=0.731250\n",
      "2017-06-12 08:06:27,597 Epoch[0] Batch [80]\tSpeed: 69.77 samples/sec\taccuracy=0.700000\n",
      "2017-06-12 08:06:29,887 Epoch[0] Batch [90]\tSpeed: 69.89 samples/sec\taccuracy=0.787500\n",
      "2017-06-12 08:06:32,182 Epoch[0] Batch [100]\tSpeed: 69.75 samples/sec\taccuracy=0.756250\n",
      "2017-06-12 08:06:34,471 Epoch[0] Batch [110]\tSpeed: 69.94 samples/sec\taccuracy=0.850000\n",
      "2017-06-12 08:06:36,761 Epoch[0] Batch [120]\tSpeed: 69.92 samples/sec\taccuracy=0.731250\n",
      "2017-06-12 08:06:39,055 Epoch[0] Batch [130]\tSpeed: 69.76 samples/sec\taccuracy=0.781250\n",
      "2017-06-12 08:06:41,348 Epoch[0] Batch [140]\tSpeed: 69.83 samples/sec\taccuracy=0.750000\n",
      "2017-06-12 08:06:43,648 Epoch[0] Batch [150]\tSpeed: 69.59 samples/sec\taccuracy=0.793750\n",
      "2017-06-12 08:06:45,940 Epoch[0] Batch [160]\tSpeed: 69.86 samples/sec\taccuracy=0.843750\n",
      "2017-06-12 08:06:48,239 Epoch[0] Batch [170]\tSpeed: 69.61 samples/sec\taccuracy=0.856250\n",
      "2017-06-12 08:06:50,531 Epoch[0] Batch [180]\tSpeed: 69.86 samples/sec\taccuracy=0.743750\n",
      "2017-06-12 08:06:52,823 Epoch[0] Batch [190]\tSpeed: 69.83 samples/sec\taccuracy=0.787500\n",
      "2017-06-12 08:06:55,116 Epoch[0] Batch [200]\tSpeed: 69.83 samples/sec\taccuracy=0.856250\n",
      "2017-06-12 08:06:57,415 Epoch[0] Batch [210]\tSpeed: 69.63 samples/sec\taccuracy=0.793750\n",
      "2017-06-12 08:06:59,714 Epoch[0] Batch [220]\tSpeed: 69.63 samples/sec\taccuracy=0.818750\n",
      "2017-06-12 08:07:02,016 Epoch[0] Batch [230]\tSpeed: 69.54 samples/sec\taccuracy=0.831250\n",
      "2017-06-12 08:07:04,321 Epoch[0] Batch [240]\tSpeed: 69.46 samples/sec\taccuracy=0.781250\n",
      "2017-06-12 08:07:06,400 Epoch[0] Train-accuracy=0.812500\n",
      "2017-06-12 08:07:06,401 Epoch[0] Time cost=57.207\n",
      "2017-06-12 08:07:06,647 Saved checkpoint to \"/shared/mxnet_models/inception-bn-blue-softmax/inception-bn-blue-softmax_LRt-0000.params\"\n"
>>>>>>> 666df553fa81c06a1e50dace45aa13e495ea3dfa
     ]
    },
    {
     "name": "stdout",
     "output_type": "stream",
     "text": [
      "aws s3 cp /home/yuncong/mxnet_models/inception-bn-blue-softmax/inception-bn-blue-softmax_LRt-symbol.json s3://mousebrainatlas-data/mxnet_models/inception-bn-blue-softmax/inception-bn-blue-softmax_LRt-symbol.json\n"
     ]
    },
    {
     "name": "stderr",
     "output_type": "stream",
     "text": [
      "Child returned 0\n",
<<<<<<< HEAD
      "0.82 seconds.\n"
=======
      "0.89 seconds.\n"
>>>>>>> 666df553fa81c06a1e50dace45aa13e495ea3dfa
     ]
    },
    {
     "name": "stdout",
     "output_type": "stream",
     "text": [
      "aws s3 cp /home/yuncong/mxnet_models/inception-bn-blue-softmax/inception-bn-blue-softmax_LRt-0000.params s3://mousebrainatlas-data/mxnet_models/inception-bn-blue-softmax/inception-bn-blue-softmax_LRt-0000.params\n"
     ]
    },
    {
     "name": "stderr",
     "output_type": "stream",
     "text": [
      "Child returned 0\n",
<<<<<<< HEAD
      "1.54 seconds.\n",
      "INFO:root:Epoch[0] Validation-accuracy=0.735000\n",
      "INFO:root:Epoch[1] Batch [10]\tSpeed: 167.35 samples/sec\tTrain-accuracy=0.846591\n",
      "INFO:root:Epoch[1] Batch [20]\tSpeed: 162.22 samples/sec\tTrain-accuracy=0.800000\n",
      "INFO:root:Epoch[1] Batch [30]\tSpeed: 164.51 samples/sec\tTrain-accuracy=0.850000\n",
      "INFO:root:Epoch[1] Batch [40]\tSpeed: 164.71 samples/sec\tTrain-accuracy=0.837500\n",
      "INFO:root:Epoch[1] Batch [50]\tSpeed: 160.41 samples/sec\tTrain-accuracy=0.825000\n",
      "INFO:root:Epoch[1] Batch [60]\tSpeed: 160.77 samples/sec\tTrain-accuracy=0.843750\n",
      "INFO:root:Epoch[1] Batch [70]\tSpeed: 145.83 samples/sec\tTrain-accuracy=0.862500\n",
      "INFO:root:Epoch[1] Batch [80]\tSpeed: 135.60 samples/sec\tTrain-accuracy=0.806250\n",
      "INFO:root:Epoch[1] Batch [90]\tSpeed: 138.69 samples/sec\tTrain-accuracy=0.850000\n",
      "INFO:root:Epoch[1] Batch [100]\tSpeed: 155.66 samples/sec\tTrain-accuracy=0.875000\n",
      "INFO:root:Epoch[1] Batch [110]\tSpeed: 158.32 samples/sec\tTrain-accuracy=0.825000\n",
      "INFO:root:Epoch[1] Batch [120]\tSpeed: 138.36 samples/sec\tTrain-accuracy=0.843750\n",
      "INFO:root:Epoch[1] Batch [130]\tSpeed: 143.27 samples/sec\tTrain-accuracy=0.906250\n",
      "INFO:root:Epoch[1] Batch [140]\tSpeed: 159.63 samples/sec\tTrain-accuracy=0.850000\n",
      "INFO:root:Epoch[1] Batch [150]\tSpeed: 155.79 samples/sec\tTrain-accuracy=0.850000\n",
      "INFO:root:Epoch[1] Batch [160]\tSpeed: 145.52 samples/sec\tTrain-accuracy=0.881250\n",
      "INFO:root:Epoch[1] Batch [170]\tSpeed: 151.09 samples/sec\tTrain-accuracy=0.875000\n",
      "INFO:root:Epoch[1] Batch [180]\tSpeed: 148.56 samples/sec\tTrain-accuracy=0.806250\n",
      "INFO:root:Epoch[1] Batch [190]\tSpeed: 149.83 samples/sec\tTrain-accuracy=0.875000\n",
      "INFO:root:Epoch[1] Batch [200]\tSpeed: 151.25 samples/sec\tTrain-accuracy=0.912500\n",
      "INFO:root:Epoch[1] Batch [210]\tSpeed: 148.04 samples/sec\tTrain-accuracy=0.831250\n",
      "INFO:root:Epoch[1] Batch [220]\tSpeed: 146.08 samples/sec\tTrain-accuracy=0.843750\n",
      "INFO:root:Epoch[1] Batch [230]\tSpeed: 151.75 samples/sec\tTrain-accuracy=0.893750\n",
      "INFO:root:Epoch[1] Batch [240]\tSpeed: 150.11 samples/sec\tTrain-accuracy=0.862500\n",
      "INFO:root:Epoch[1] Train-accuracy=0.826389\n",
      "INFO:root:Epoch[1] Time cost=26.348\n",
      "INFO:root:Epoch[1] Validation-accuracy=0.739000\n",
      "INFO:root:Epoch[2] Batch [10]\tSpeed: 148.12 samples/sec\tTrain-accuracy=0.897727\n",
      "INFO:root:Epoch[2] Batch [20]\tSpeed: 150.78 samples/sec\tTrain-accuracy=0.837500\n",
      "INFO:root:Epoch[2] Batch [30]\tSpeed: 151.40 samples/sec\tTrain-accuracy=0.887500\n",
      "INFO:root:Epoch[2] Batch [40]\tSpeed: 149.03 samples/sec\tTrain-accuracy=0.850000\n",
      "INFO:root:Epoch[2] Batch [50]\tSpeed: 147.56 samples/sec\tTrain-accuracy=0.856250\n",
      "INFO:root:Epoch[2] Batch [60]\tSpeed: 153.20 samples/sec\tTrain-accuracy=0.881250\n",
      "INFO:root:Epoch[2] Batch [70]\tSpeed: 151.26 samples/sec\tTrain-accuracy=0.875000\n",
      "INFO:root:Epoch[2] Batch [80]\tSpeed: 149.92 samples/sec\tTrain-accuracy=0.881250\n",
      "INFO:root:Epoch[2] Batch [90]\tSpeed: 150.92 samples/sec\tTrain-accuracy=0.900000\n",
      "INFO:root:Epoch[2] Batch [100]\tSpeed: 150.40 samples/sec\tTrain-accuracy=0.906250\n",
      "INFO:root:Epoch[2] Batch [110]\tSpeed: 150.04 samples/sec\tTrain-accuracy=0.862500\n",
      "INFO:root:Epoch[2] Batch [120]\tSpeed: 147.83 samples/sec\tTrain-accuracy=0.906250\n",
      "INFO:root:Epoch[2] Batch [130]\tSpeed: 150.80 samples/sec\tTrain-accuracy=0.943750\n",
      "INFO:root:Epoch[2] Batch [140]\tSpeed: 150.39 samples/sec\tTrain-accuracy=0.906250\n",
      "INFO:root:Epoch[2] Batch [150]\tSpeed: 151.90 samples/sec\tTrain-accuracy=0.912500\n",
      "INFO:root:Epoch[2] Batch [160]\tSpeed: 148.67 samples/sec\tTrain-accuracy=0.906250\n",
      "INFO:root:Epoch[2] Batch [170]\tSpeed: 148.01 samples/sec\tTrain-accuracy=0.893750\n",
      "INFO:root:Epoch[2] Batch [180]\tSpeed: 146.70 samples/sec\tTrain-accuracy=0.837500\n",
      "INFO:root:Epoch[2] Batch [190]\tSpeed: 151.57 samples/sec\tTrain-accuracy=0.925000\n",
      "INFO:root:Epoch[2] Batch [200]\tSpeed: 147.70 samples/sec\tTrain-accuracy=0.956250\n",
      "INFO:root:Epoch[2] Batch [210]\tSpeed: 151.45 samples/sec\tTrain-accuracy=0.887500\n",
      "INFO:root:Epoch[2] Batch [220]\tSpeed: 151.51 samples/sec\tTrain-accuracy=0.881250\n",
      "INFO:root:Epoch[2] Batch [230]\tSpeed: 153.21 samples/sec\tTrain-accuracy=0.925000\n",
      "INFO:root:Epoch[2] Batch [240]\tSpeed: 147.91 samples/sec\tTrain-accuracy=0.875000\n",
      "INFO:root:Epoch[2] Train-accuracy=0.875000\n",
      "INFO:root:Epoch[2] Time cost=26.634\n"
=======
      "1.99 seconds.\n",
      "2017-06-12 08:07:18,508 Epoch[0] Validation-accuracy=0.751500\n",
      "2017-06-12 08:07:20,892 Epoch[1] Batch [10]\tSpeed: 69.35 samples/sec\taccuracy=0.772727\n",
      "2017-06-12 08:07:23,203 Epoch[1] Batch [20]\tSpeed: 69.27 samples/sec\taccuracy=0.843750\n",
      "2017-06-12 08:07:25,513 Epoch[1] Batch [30]\tSpeed: 69.29 samples/sec\taccuracy=0.800000\n",
      "2017-06-12 08:07:27,823 Epoch[1] Batch [40]\tSpeed: 69.30 samples/sec\taccuracy=0.825000\n",
      "2017-06-12 08:07:30,129 Epoch[1] Batch [50]\tSpeed: 69.42 samples/sec\taccuracy=0.856250\n",
      "2017-06-12 08:07:32,443 Epoch[1] Batch [60]\tSpeed: 69.18 samples/sec\taccuracy=0.837500\n",
      "2017-06-12 08:07:34,753 Epoch[1] Batch [70]\tSpeed: 69.29 samples/sec\taccuracy=0.843750\n",
      "2017-06-12 08:07:37,061 Epoch[1] Batch [80]\tSpeed: 69.36 samples/sec\taccuracy=0.806250\n",
      "2017-06-12 08:07:39,377 Epoch[1] Batch [90]\tSpeed: 69.12 samples/sec\taccuracy=0.831250\n",
      "2017-06-12 08:07:41,689 Epoch[1] Batch [100]\tSpeed: 69.23 samples/sec\taccuracy=0.831250\n",
      "2017-06-12 08:07:44,011 Epoch[1] Batch [110]\tSpeed: 68.96 samples/sec\taccuracy=0.918750\n",
      "2017-06-12 08:07:46,328 Epoch[1] Batch [120]\tSpeed: 69.09 samples/sec\taccuracy=0.812500\n",
      "2017-06-12 08:07:48,647 Epoch[1] Batch [130]\tSpeed: 69.06 samples/sec\taccuracy=0.825000\n",
      "2017-06-12 08:07:50,965 Epoch[1] Batch [140]\tSpeed: 69.06 samples/sec\taccuracy=0.843750\n",
      "2017-06-12 08:07:53,284 Epoch[1] Batch [150]\tSpeed: 69.03 samples/sec\taccuracy=0.856250\n",
      "2017-06-12 08:07:55,596 Epoch[1] Batch [160]\tSpeed: 69.27 samples/sec\taccuracy=0.875000\n",
      "2017-06-12 08:07:57,920 Epoch[1] Batch [170]\tSpeed: 68.88 samples/sec\taccuracy=0.893750\n",
      "2017-06-12 08:08:00,235 Epoch[1] Batch [180]\tSpeed: 69.12 samples/sec\taccuracy=0.812500\n",
      "2017-06-12 08:08:02,562 Epoch[1] Batch [190]\tSpeed: 68.80 samples/sec\taccuracy=0.850000\n",
      "2017-06-12 08:08:04,888 Epoch[1] Batch [200]\tSpeed: 68.82 samples/sec\taccuracy=0.875000\n",
      "2017-06-12 08:08:07,210 Epoch[1] Batch [210]\tSpeed: 68.95 samples/sec\taccuracy=0.862500\n",
      "2017-06-12 08:08:09,532 Epoch[1] Batch [220]\tSpeed: 68.94 samples/sec\taccuracy=0.875000\n",
      "2017-06-12 08:08:11,856 Epoch[1] Batch [230]\tSpeed: 68.89 samples/sec\taccuracy=0.862500\n",
      "2017-06-12 08:08:14,179 Epoch[1] Batch [240]\tSpeed: 68.91 samples/sec\taccuracy=0.843750\n",
      "2017-06-12 08:08:16,282 Epoch[1] Train-accuracy=0.875000\n",
      "2017-06-12 08:08:16,284 Epoch[1] Time cost=57.775\n",
      "2017-06-12 08:08:25,469 Epoch[1] Validation-accuracy=0.760500\n",
      "2017-06-12 08:08:27,886 Epoch[2] Batch [10]\tSpeed: 68.47 samples/sec\taccuracy=0.823864\n",
      "2017-06-12 08:08:30,206 Epoch[2] Batch [20]\tSpeed: 68.99 samples/sec\taccuracy=0.900000\n",
      "2017-06-12 08:08:32,540 Epoch[2] Batch [30]\tSpeed: 68.58 samples/sec\taccuracy=0.831250\n",
      "2017-06-12 08:08:34,863 Epoch[2] Batch [40]\tSpeed: 68.91 samples/sec\taccuracy=0.862500\n",
      "2017-06-12 08:08:37,188 Epoch[2] Batch [50]\tSpeed: 68.85 samples/sec\taccuracy=0.900000\n",
      "2017-06-12 08:08:39,520 Epoch[2] Batch [60]\tSpeed: 68.65 samples/sec\taccuracy=0.887500\n",
      "2017-06-12 08:08:41,844 Epoch[2] Batch [70]\tSpeed: 68.87 samples/sec\taccuracy=0.887500\n",
      "2017-06-12 08:08:44,169 Epoch[2] Batch [80]\tSpeed: 68.86 samples/sec\taccuracy=0.856250\n",
      "2017-06-12 08:08:46,490 Epoch[2] Batch [90]\tSpeed: 68.99 samples/sec\taccuracy=0.887500\n",
      "2017-06-12 08:08:48,824 Epoch[2] Batch [100]\tSpeed: 68.58 samples/sec\taccuracy=0.900000\n",
      "2017-06-12 08:08:51,148 Epoch[2] Batch [110]\tSpeed: 68.87 samples/sec\taccuracy=0.937500\n",
      "2017-06-12 08:08:53,476 Epoch[2] Batch [120]\tSpeed: 68.76 samples/sec\taccuracy=0.875000\n",
      "2017-06-12 08:08:55,803 Epoch[2] Batch [130]\tSpeed: 68.81 samples/sec\taccuracy=0.875000\n",
      "2017-06-12 08:08:58,134 Epoch[2] Batch [140]\tSpeed: 68.68 samples/sec\taccuracy=0.881250\n",
      "2017-06-12 08:09:00,459 Epoch[2] Batch [150]\tSpeed: 68.84 samples/sec\taccuracy=0.875000\n",
      "2017-06-12 08:09:02,791 Epoch[2] Batch [160]\tSpeed: 68.64 samples/sec\taccuracy=0.937500\n",
      "2017-06-12 08:09:05,122 Epoch[2] Batch [170]\tSpeed: 68.68 samples/sec\taccuracy=0.943750\n",
      "2017-06-12 08:09:07,448 Epoch[2] Batch [180]\tSpeed: 68.83 samples/sec\taccuracy=0.875000\n",
      "2017-06-12 08:09:09,768 Epoch[2] Batch [190]\tSpeed: 68.98 samples/sec\taccuracy=0.875000\n",
      "2017-06-12 08:09:12,096 Epoch[2] Batch [200]\tSpeed: 68.78 samples/sec\taccuracy=0.906250\n",
      "2017-06-12 08:09:14,421 Epoch[2] Batch [210]\tSpeed: 68.92 samples/sec\taccuracy=0.906250\n",
      "2017-06-12 08:09:16,744 Epoch[2] Batch [220]\tSpeed: 68.91 samples/sec\taccuracy=0.912500\n",
      "2017-06-12 08:09:19,073 Epoch[2] Batch [230]\tSpeed: 68.74 samples/sec\taccuracy=0.906250\n",
      "2017-06-12 08:09:21,397 Epoch[2] Batch [240]\tSpeed: 68.88 samples/sec\taccuracy=0.893750\n",
      "2017-06-12 08:09:23,493 Epoch[2] Train-accuracy=0.895833\n",
      "2017-06-12 08:09:23,494 Epoch[2] Time cost=58.024\n",
      "2017-06-12 08:09:32,658 Epoch[2] Validation-accuracy=0.766000\n",
      "2017-06-12 08:09:35,065 Epoch[3] Batch [10]\tSpeed: 68.66 samples/sec\taccuracy=0.875000\n",
      "2017-06-12 08:09:37,397 Epoch[3] Batch [20]\tSpeed: 68.64 samples/sec\taccuracy=0.931250\n",
      "2017-06-12 08:09:39,727 Epoch[3] Batch [30]\tSpeed: 68.70 samples/sec\taccuracy=0.856250\n",
      "2017-06-12 08:09:42,061 Epoch[3] Batch [40]\tSpeed: 68.59 samples/sec\taccuracy=0.881250\n",
      "2017-06-12 08:09:44,393 Epoch[3] Batch [50]\tSpeed: 68.66 samples/sec\taccuracy=0.931250\n",
      "2017-06-12 08:09:46,732 Epoch[3] Batch [60]\tSpeed: 68.44 samples/sec\taccuracy=0.912500\n",
      "2017-06-12 08:09:49,071 Epoch[3] Batch [70]\tSpeed: 68.43 samples/sec\taccuracy=0.906250\n",
      "2017-06-12 08:09:51,410 Epoch[3] Batch [80]\tSpeed: 68.45 samples/sec\taccuracy=0.881250\n",
      "2017-06-12 08:09:53,743 Epoch[3] Batch [90]\tSpeed: 68.61 samples/sec\taccuracy=0.912500\n",
      "2017-06-12 08:09:56,078 Epoch[3] Batch [100]\tSpeed: 68.54 samples/sec\taccuracy=0.931250\n",
      "2017-06-12 08:09:58,413 Epoch[3] Batch [110]\tSpeed: 68.55 samples/sec\taccuracy=0.937500\n",
      "2017-06-12 08:10:00,740 Epoch[3] Batch [120]\tSpeed: 68.79 samples/sec\taccuracy=0.906250\n",
      "2017-06-12 08:10:03,087 Epoch[3] Batch [130]\tSpeed: 68.21 samples/sec\taccuracy=0.906250\n",
      "2017-06-12 08:10:05,424 Epoch[3] Batch [140]\tSpeed: 68.50 samples/sec\taccuracy=0.906250\n",
      "2017-06-12 08:10:07,749 Epoch[3] Batch [150]\tSpeed: 68.85 samples/sec\taccuracy=0.893750\n",
      "2017-06-12 08:10:10,088 Epoch[3] Batch [160]\tSpeed: 68.44 samples/sec\taccuracy=0.962500\n",
      "2017-06-12 08:10:12,419 Epoch[3] Batch [170]\tSpeed: 68.69 samples/sec\taccuracy=0.950000\n",
      "2017-06-12 08:10:14,754 Epoch[3] Batch [180]\tSpeed: 68.56 samples/sec\taccuracy=0.918750\n",
      "2017-06-12 08:10:17,089 Epoch[3] Batch [190]\tSpeed: 68.54 samples/sec\taccuracy=0.925000\n",
      "2017-06-12 08:10:19,426 Epoch[3] Batch [200]\tSpeed: 68.50 samples/sec\taccuracy=0.950000\n",
      "2017-06-12 08:10:21,759 Epoch[3] Batch [210]\tSpeed: 68.62 samples/sec\taccuracy=0.962500\n",
      "2017-06-12 08:10:24,091 Epoch[3] Batch [220]\tSpeed: 68.62 samples/sec\taccuracy=0.950000\n",
      "2017-06-12 08:10:26,418 Epoch[3] Batch [230]\tSpeed: 68.80 samples/sec\taccuracy=0.943750\n",
      "2017-06-12 08:10:28,741 Epoch[3] Batch [240]\tSpeed: 68.92 samples/sec\taccuracy=0.931250\n",
      "2017-06-12 08:10:30,841 Epoch[3] Train-accuracy=0.916667\n",
      "2017-06-12 08:10:30,843 Epoch[3] Time cost=58.184\n",
      "2017-06-12 08:10:40,086 Epoch[3] Validation-accuracy=0.768000\n",
      "2017-06-12 08:10:42,495 Epoch[4] Batch [10]\tSpeed: 68.67 samples/sec\taccuracy=0.909091\n",
      "2017-06-12 08:10:44,831 Epoch[4] Batch [20]\tSpeed: 68.53 samples/sec\taccuracy=0.962500\n",
      "2017-06-12 08:10:47,168 Epoch[4] Batch [30]\tSpeed: 68.50 samples/sec\taccuracy=0.906250\n",
      "2017-06-12 08:10:49,499 Epoch[4] Batch [40]\tSpeed: 68.66 samples/sec\taccuracy=0.931250\n",
      "2017-06-12 08:10:51,835 Epoch[4] Batch [50]\tSpeed: 68.54 samples/sec\taccuracy=0.956250\n",
      "2017-06-12 08:10:54,170 Epoch[4] Batch [60]\tSpeed: 68.55 samples/sec\taccuracy=0.950000\n",
      "2017-06-12 08:10:56,497 Epoch[4] Batch [70]\tSpeed: 68.79 samples/sec\taccuracy=0.925000\n",
      "2017-06-12 08:10:58,834 Epoch[4] Batch [80]\tSpeed: 68.50 samples/sec\taccuracy=0.931250\n",
      "2017-06-12 08:11:01,171 Epoch[4] Batch [90]\tSpeed: 68.48 samples/sec\taccuracy=0.943750\n",
      "2017-06-12 08:11:03,506 Epoch[4] Batch [100]\tSpeed: 68.56 samples/sec\taccuracy=0.931250\n",
      "2017-06-12 08:11:05,844 Epoch[4] Batch [110]\tSpeed: 68.48 samples/sec\taccuracy=0.950000\n",
      "2017-06-12 08:11:08,182 Epoch[4] Batch [120]\tSpeed: 68.48 samples/sec\taccuracy=0.943750\n",
      "2017-06-12 08:11:10,512 Epoch[4] Batch [130]\tSpeed: 68.68 samples/sec\taccuracy=0.918750\n",
      "2017-06-12 08:11:12,851 Epoch[4] Batch [140]\tSpeed: 68.44 samples/sec\taccuracy=0.937500\n",
      "2017-06-12 08:11:15,191 Epoch[4] Batch [150]\tSpeed: 68.42 samples/sec\taccuracy=0.937500\n"
     ]
    },
    {
     "name": "stderr",
     "output_type": "stream",
     "text": [
      "2017-06-12 08:11:17,528 Epoch[4] Batch [160]\tSpeed: 68.49 samples/sec\taccuracy=0.981250\n",
      "2017-06-12 08:11:19,863 Epoch[4] Batch [170]\tSpeed: 68.58 samples/sec\taccuracy=0.975000\n",
      "2017-06-12 08:11:22,191 Epoch[4] Batch [180]\tSpeed: 68.77 samples/sec\taccuracy=0.956250\n",
      "2017-06-12 08:11:24,524 Epoch[4] Batch [190]\tSpeed: 68.62 samples/sec\taccuracy=0.968750\n",
      "2017-06-12 08:11:26,859 Epoch[4] Batch [200]\tSpeed: 68.55 samples/sec\taccuracy=0.975000\n",
      "2017-06-12 08:11:29,198 Epoch[4] Batch [210]\tSpeed: 68.44 samples/sec\taccuracy=0.975000\n",
      "2017-06-12 08:11:31,538 Epoch[4] Batch [220]\tSpeed: 68.40 samples/sec\taccuracy=0.956250\n",
      "2017-06-12 08:11:33,871 Epoch[4] Batch [230]\tSpeed: 68.62 samples/sec\taccuracy=0.968750\n",
      "2017-06-12 08:11:36,201 Epoch[4] Batch [240]\tSpeed: 68.72 samples/sec\taccuracy=0.962500\n",
      "2017-06-12 08:11:38,299 Epoch[4] Train-accuracy=0.944444\n",
      "2017-06-12 08:11:38,300 Epoch[4] Time cost=58.213\n",
      "2017-06-12 08:11:47,479 Epoch[4] Validation-accuracy=0.770000\n",
      "2017-06-12 08:11:49,896 Epoch[5] Batch [10]\tSpeed: 68.40 samples/sec\taccuracy=0.965909\n",
      "2017-06-12 08:11:52,226 Epoch[5] Batch [20]\tSpeed: 68.72 samples/sec\taccuracy=0.975000\n",
      "2017-06-12 08:11:54,556 Epoch[5] Batch [30]\tSpeed: 68.71 samples/sec\taccuracy=0.918750\n",
      "2017-06-12 08:11:56,891 Epoch[5] Batch [40]\tSpeed: 68.54 samples/sec\taccuracy=0.975000\n",
      "2017-06-12 08:11:59,238 Epoch[5] Batch [50]\tSpeed: 68.20 samples/sec\taccuracy=0.975000\n",
      "2017-06-12 08:12:01,576 Epoch[5] Batch [60]\tSpeed: 68.47 samples/sec\taccuracy=0.962500\n",
      "2017-06-12 08:12:03,916 Epoch[5] Batch [70]\tSpeed: 68.40 samples/sec\taccuracy=0.943750\n",
      "2017-06-12 08:12:06,249 Epoch[5] Batch [80]\tSpeed: 68.65 samples/sec\taccuracy=0.950000\n",
      "2017-06-12 08:12:08,583 Epoch[5] Batch [90]\tSpeed: 68.59 samples/sec\taccuracy=0.968750\n",
      "2017-06-12 08:12:10,919 Epoch[5] Batch [100]\tSpeed: 68.51 samples/sec\taccuracy=0.981250\n",
      "2017-06-12 08:12:13,249 Epoch[5] Batch [110]\tSpeed: 68.69 samples/sec\taccuracy=0.968750\n",
      "2017-06-12 08:12:15,590 Epoch[5] Batch [120]\tSpeed: 68.38 samples/sec\taccuracy=0.962500\n",
      "2017-06-12 08:12:17,931 Epoch[5] Batch [130]\tSpeed: 68.40 samples/sec\taccuracy=0.962500\n",
      "2017-06-12 08:12:20,276 Epoch[5] Batch [140]\tSpeed: 68.26 samples/sec\taccuracy=0.956250\n",
      "2017-06-12 08:12:22,622 Epoch[5] Batch [150]\tSpeed: 68.22 samples/sec\taccuracy=0.956250\n",
      "2017-06-12 08:12:24,960 Epoch[5] Batch [160]\tSpeed: 68.48 samples/sec\taccuracy=0.993750\n",
      "2017-06-12 08:12:27,287 Epoch[5] Batch [170]\tSpeed: 68.79 samples/sec\taccuracy=0.975000\n",
      "2017-06-12 08:12:29,624 Epoch[5] Batch [180]\tSpeed: 68.49 samples/sec\taccuracy=0.968750\n",
      "2017-06-12 08:12:31,963 Epoch[5] Batch [190]\tSpeed: 68.46 samples/sec\taccuracy=0.993750\n",
      "2017-06-12 08:12:34,295 Epoch[5] Batch [200]\tSpeed: 68.63 samples/sec\taccuracy=0.981250\n",
      "2017-06-12 08:12:36,627 Epoch[5] Batch [210]\tSpeed: 68.65 samples/sec\taccuracy=0.993750\n",
      "2017-06-12 08:12:38,974 Epoch[5] Batch [220]\tSpeed: 68.21 samples/sec\taccuracy=0.975000\n",
      "2017-06-12 08:12:41,311 Epoch[5] Batch [230]\tSpeed: 68.50 samples/sec\taccuracy=0.987500\n",
      "2017-06-12 08:12:43,656 Epoch[5] Batch [240]\tSpeed: 68.27 samples/sec\taccuracy=0.981250\n",
      "2017-06-12 08:12:45,759 Epoch[5] Train-accuracy=0.979167\n",
      "2017-06-12 08:12:45,760 Epoch[5] Time cost=58.280\n",
      "2017-06-12 08:12:45,959 Saved checkpoint to \"/shared/mxnet_models/inception-bn-blue-softmax/inception-bn-blue-softmax_LRt-0005.params\"\n"
     ]
    },
    {
     "name": "stdout",
     "output_type": "stream",
     "text": [
      "aws s3 cp /shared/mxnet_models/inception-bn-blue-softmax/inception-bn-blue-softmax_LRt-symbol.json s3://mousebrainatlas-data/mxnet_models/inception-bn-blue-softmax/inception-bn-blue-softmax_LRt-symbol.json\n"
     ]
    },
    {
     "name": "stderr",
     "output_type": "stream",
     "text": [
      "Child returned 0\n",
      "0.74 seconds.\n"
     ]
    },
    {
     "name": "stdout",
     "output_type": "stream",
     "text": [
      "aws s3 cp /shared/mxnet_models/inception-bn-blue-softmax/inception-bn-blue-softmax_LRt-0005.params s3://mousebrainatlas-data/mxnet_models/inception-bn-blue-softmax/inception-bn-blue-softmax_LRt-0005.params\n"
     ]
    },
    {
     "name": "stderr",
     "output_type": "stream",
     "text": [
      "Child returned 0\n",
      "2.07 seconds.\n",
      "2017-06-12 08:12:57,861 Epoch[5] Validation-accuracy=0.771500\n",
      "2017-06-12 08:13:00,270 Epoch[6] Batch [10]\tSpeed: 68.61 samples/sec\taccuracy=0.982955\n",
      "2017-06-12 08:13:02,604 Epoch[6] Batch [20]\tSpeed: 68.60 samples/sec\taccuracy=0.987500\n",
      "2017-06-12 08:13:04,933 Epoch[6] Batch [30]\tSpeed: 68.74 samples/sec\taccuracy=0.962500\n",
      "2017-06-12 08:13:07,269 Epoch[6] Batch [40]\tSpeed: 68.53 samples/sec\taccuracy=1.000000\n",
      "2017-06-12 08:13:09,600 Epoch[6] Batch [50]\tSpeed: 68.66 samples/sec\taccuracy=0.993750\n",
      "2017-06-12 08:13:11,940 Epoch[6] Batch [60]\tSpeed: 68.40 samples/sec\taccuracy=0.987500\n",
      "2017-06-12 08:13:14,280 Epoch[6] Batch [70]\tSpeed: 68.41 samples/sec\taccuracy=0.962500\n",
      "2017-06-12 08:13:16,615 Epoch[6] Batch [80]\tSpeed: 68.57 samples/sec\taccuracy=0.975000\n",
      "2017-06-12 08:13:18,941 Epoch[6] Batch [90]\tSpeed: 68.80 samples/sec\taccuracy=0.975000\n",
      "2017-06-12 08:13:21,284 Epoch[6] Batch [100]\tSpeed: 68.32 samples/sec\taccuracy=0.981250\n",
      "2017-06-12 08:13:23,622 Epoch[6] Batch [110]\tSpeed: 68.48 samples/sec\taccuracy=0.981250\n",
      "2017-06-12 08:13:25,966 Epoch[6] Batch [120]\tSpeed: 68.29 samples/sec\taccuracy=0.987500\n",
      "2017-06-12 08:13:28,305 Epoch[6] Batch [130]\tSpeed: 68.44 samples/sec\taccuracy=0.987500\n",
      "2017-06-12 08:13:30,645 Epoch[6] Batch [140]\tSpeed: 68.40 samples/sec\taccuracy=0.975000\n",
      "2017-06-12 08:13:32,987 Epoch[6] Batch [150]\tSpeed: 68.35 samples/sec\taccuracy=0.975000\n",
      "2017-06-12 08:13:35,326 Epoch[6] Batch [160]\tSpeed: 68.46 samples/sec\taccuracy=0.993750\n",
      "2017-06-12 08:13:37,665 Epoch[6] Batch [170]\tSpeed: 68.44 samples/sec\taccuracy=0.993750\n",
      "2017-06-12 08:13:40,001 Epoch[6] Batch [180]\tSpeed: 68.51 samples/sec\taccuracy=0.981250\n",
      "2017-06-12 08:13:42,330 Epoch[6] Batch [190]\tSpeed: 68.72 samples/sec\taccuracy=0.993750\n",
      "2017-06-12 08:13:44,665 Epoch[6] Batch [200]\tSpeed: 68.55 samples/sec\taccuracy=0.981250\n",
      "2017-06-12 08:13:47,002 Epoch[6] Batch [210]\tSpeed: 68.51 samples/sec\taccuracy=0.993750\n",
      "2017-06-12 08:13:49,334 Epoch[6] Batch [220]\tSpeed: 68.63 samples/sec\taccuracy=1.000000\n",
      "2017-06-12 08:13:51,667 Epoch[6] Batch [230]\tSpeed: 68.62 samples/sec\taccuracy=0.993750\n",
      "2017-06-12 08:13:54,001 Epoch[6] Batch [240]\tSpeed: 68.59 samples/sec\taccuracy=0.993750\n",
      "2017-06-12 08:13:56,096 Epoch[6] Train-accuracy=0.986111\n",
      "2017-06-12 08:13:56,097 Epoch[6] Time cost=58.235\n",
      "2017-06-12 08:14:05,297 Epoch[6] Validation-accuracy=0.767500\n",
      "2017-06-12 08:14:07,699 Epoch[7] Batch [10]\tSpeed: 68.81 samples/sec\taccuracy=1.000000\n",
      "2017-06-12 08:14:10,033 Epoch[7] Batch [20]\tSpeed: 68.60 samples/sec\taccuracy=1.000000\n",
      "2017-06-12 08:14:12,360 Epoch[7] Batch [30]\tSpeed: 68.77 samples/sec\taccuracy=0.987500\n",
      "2017-06-12 08:14:14,700 Epoch[7] Batch [40]\tSpeed: 68.44 samples/sec\taccuracy=1.000000\n",
      "2017-06-12 08:14:17,037 Epoch[7] Batch [50]\tSpeed: 68.49 samples/sec\taccuracy=1.000000\n",
      "2017-06-12 08:14:19,371 Epoch[7] Batch [60]\tSpeed: 68.58 samples/sec\taccuracy=0.993750\n",
      "2017-06-12 08:14:21,714 Epoch[7] Batch [70]\tSpeed: 68.31 samples/sec\taccuracy=0.981250\n",
      "2017-06-12 08:14:24,060 Epoch[7] Batch [80]\tSpeed: 68.25 samples/sec\taccuracy=1.000000\n",
      "2017-06-12 08:14:26,390 Epoch[7] Batch [90]\tSpeed: 68.69 samples/sec\taccuracy=0.981250\n",
      "2017-06-12 08:14:28,725 Epoch[7] Batch [100]\tSpeed: 68.56 samples/sec\taccuracy=0.993750\n",
      "2017-06-12 08:14:31,058 Epoch[7] Batch [110]\tSpeed: 68.61 samples/sec\taccuracy=0.993750\n",
      "2017-06-12 08:14:33,388 Epoch[7] Batch [120]\tSpeed: 68.71 samples/sec\taccuracy=1.000000\n",
      "2017-06-12 08:14:35,727 Epoch[7] Batch [130]\tSpeed: 68.43 samples/sec\taccuracy=0.993750\n",
      "2017-06-12 08:14:38,055 Epoch[7] Batch [140]\tSpeed: 68.77 samples/sec\taccuracy=0.993750\n",
      "2017-06-12 08:14:40,386 Epoch[7] Batch [150]\tSpeed: 68.67 samples/sec\taccuracy=0.981250\n",
      "2017-06-12 08:14:42,723 Epoch[7] Batch [160]\tSpeed: 68.49 samples/sec\taccuracy=0.993750\n",
      "2017-06-12 08:14:45,057 Epoch[7] Batch [170]\tSpeed: 68.59 samples/sec\taccuracy=1.000000\n",
      "2017-06-12 08:14:47,384 Epoch[7] Batch [180]\tSpeed: 68.78 samples/sec\taccuracy=0.993750\n",
      "2017-06-12 08:14:49,711 Epoch[7] Batch [190]\tSpeed: 68.81 samples/sec\taccuracy=0.993750\n",
      "2017-06-12 08:14:52,051 Epoch[7] Batch [200]\tSpeed: 68.40 samples/sec\taccuracy=1.000000\n",
      "2017-06-12 08:14:54,384 Epoch[7] Batch [210]\tSpeed: 68.61 samples/sec\taccuracy=0.993750\n",
      "2017-06-12 08:14:56,710 Epoch[7] Batch [220]\tSpeed: 68.82 samples/sec\taccuracy=1.000000\n",
      "2017-06-12 08:14:59,046 Epoch[7] Batch [230]\tSpeed: 68.55 samples/sec\taccuracy=0.993750\n",
      "2017-06-12 08:15:01,378 Epoch[7] Batch [240]\tSpeed: 68.63 samples/sec\taccuracy=0.993750\n",
      "2017-06-12 08:15:03,490 Epoch[7] Train-accuracy=1.000000\n",
      "2017-06-12 08:15:03,493 Epoch[7] Time cost=58.194\n",
      "2017-06-12 08:15:12,707 Epoch[7] Validation-accuracy=0.767500\n",
      "2017-06-12 08:15:15,122 Epoch[8] Batch [10]\tSpeed: 68.47 samples/sec\taccuracy=1.000000\n",
      "2017-06-12 08:15:17,458 Epoch[8] Batch [20]\tSpeed: 68.54 samples/sec\taccuracy=1.000000\n",
      "2017-06-12 08:15:19,789 Epoch[8] Batch [30]\tSpeed: 68.67 samples/sec\taccuracy=1.000000\n",
      "2017-06-12 08:15:22,121 Epoch[8] Batch [40]\tSpeed: 68.66 samples/sec\taccuracy=1.000000\n",
      "2017-06-12 08:15:24,454 Epoch[8] Batch [50]\tSpeed: 68.59 samples/sec\taccuracy=1.000000\n",
      "2017-06-12 08:15:26,788 Epoch[8] Batch [60]\tSpeed: 68.60 samples/sec\taccuracy=0.993750\n",
      "2017-06-12 08:15:29,121 Epoch[8] Batch [70]\tSpeed: 68.63 samples/sec\taccuracy=1.000000\n",
      "2017-06-12 08:15:31,451 Epoch[8] Batch [80]\tSpeed: 68.71 samples/sec\taccuracy=1.000000\n",
      "2017-06-12 08:15:33,784 Epoch[8] Batch [90]\tSpeed: 68.61 samples/sec\taccuracy=0.993750\n",
      "2017-06-12 08:15:36,122 Epoch[8] Batch [100]\tSpeed: 68.48 samples/sec\taccuracy=1.000000\n",
      "2017-06-12 08:15:38,460 Epoch[8] Batch [110]\tSpeed: 68.45 samples/sec\taccuracy=1.000000\n",
      "2017-06-12 08:15:40,794 Epoch[8] Batch [120]\tSpeed: 68.59 samples/sec\taccuracy=1.000000\n",
      "2017-06-12 08:15:43,126 Epoch[8] Batch [130]\tSpeed: 68.64 samples/sec\taccuracy=1.000000\n",
      "2017-06-12 08:15:45,464 Epoch[8] Batch [140]\tSpeed: 68.47 samples/sec\taccuracy=1.000000\n",
      "2017-06-12 08:15:47,808 Epoch[8] Batch [150]\tSpeed: 68.31 samples/sec\taccuracy=0.993750\n",
      "2017-06-12 08:15:50,146 Epoch[8] Batch [160]\tSpeed: 68.48 samples/sec\taccuracy=0.993750\n",
      "2017-06-12 08:15:52,479 Epoch[8] Batch [170]\tSpeed: 68.67 samples/sec\taccuracy=1.000000\n",
      "2017-06-12 08:15:54,819 Epoch[8] Batch [180]\tSpeed: 68.40 samples/sec\taccuracy=1.000000\n",
      "2017-06-12 08:15:57,151 Epoch[8] Batch [190]\tSpeed: 68.67 samples/sec\taccuracy=0.993750\n",
      "2017-06-12 08:15:59,485 Epoch[8] Batch [200]\tSpeed: 68.61 samples/sec\taccuracy=1.000000\n",
      "2017-06-12 08:16:01,830 Epoch[8] Batch [210]\tSpeed: 68.26 samples/sec\taccuracy=1.000000\n",
      "2017-06-12 08:16:04,165 Epoch[8] Batch [220]\tSpeed: 68.57 samples/sec\taccuracy=1.000000\n",
      "2017-06-12 08:16:06,510 Epoch[8] Batch [230]\tSpeed: 68.26 samples/sec\taccuracy=1.000000\n",
      "2017-06-12 08:16:08,850 Epoch[8] Batch [240]\tSpeed: 68.42 samples/sec\taccuracy=0.993750\n",
      "2017-06-12 08:16:10,954 Epoch[8] Train-accuracy=1.000000\n",
      "2017-06-12 08:16:10,955 Epoch[8] Time cost=58.247\n",
      "2017-06-12 08:16:20,160 Epoch[8] Validation-accuracy=0.768000\n",
      "2017-06-12 08:16:22,570 Epoch[9] Batch [10]\tSpeed: 68.63 samples/sec\taccuracy=1.000000\n",
      "2017-06-12 08:16:24,901 Epoch[9] Batch [20]\tSpeed: 68.69 samples/sec\taccuracy=1.000000\n",
      "2017-06-12 08:16:27,238 Epoch[9] Batch [30]\tSpeed: 68.49 samples/sec\taccuracy=1.000000\n",
      "2017-06-12 08:16:29,581 Epoch[9] Batch [40]\tSpeed: 68.32 samples/sec\taccuracy=1.000000\n",
      "2017-06-12 08:16:31,921 Epoch[9] Batch [50]\tSpeed: 68.40 samples/sec\taccuracy=1.000000\n",
      "2017-06-12 08:16:34,262 Epoch[9] Batch [60]\tSpeed: 68.36 samples/sec\taccuracy=1.000000\n",
      "2017-06-12 08:16:36,609 Epoch[9] Batch [70]\tSpeed: 68.23 samples/sec\taccuracy=1.000000\n",
      "2017-06-12 08:16:38,947 Epoch[9] Batch [80]\tSpeed: 68.46 samples/sec\taccuracy=1.000000\n",
      "2017-06-12 08:16:41,286 Epoch[9] Batch [90]\tSpeed: 68.44 samples/sec\taccuracy=1.000000\n",
      "2017-06-12 08:16:43,622 Epoch[9] Batch [100]\tSpeed: 68.54 samples/sec\taccuracy=1.000000\n",
      "2017-06-12 08:16:45,961 Epoch[9] Batch [110]\tSpeed: 68.41 samples/sec\taccuracy=1.000000\n",
      "2017-06-12 08:16:48,290 Epoch[9] Batch [120]\tSpeed: 68.75 samples/sec\taccuracy=1.000000\n",
      "2017-06-12 08:16:50,626 Epoch[9] Batch [130]\tSpeed: 68.52 samples/sec\taccuracy=1.000000\n",
      "2017-06-12 08:16:52,961 Epoch[9] Batch [140]\tSpeed: 68.55 samples/sec\taccuracy=1.000000\n",
      "2017-06-12 08:16:55,293 Epoch[9] Batch [150]\tSpeed: 68.68 samples/sec\taccuracy=1.000000\n"
     ]
    },
    {
     "name": "stderr",
     "output_type": "stream",
     "text": [
      "2017-06-12 08:16:57,621 Epoch[9] Batch [160]\tSpeed: 68.75 samples/sec\taccuracy=0.993750\n",
      "2017-06-12 08:16:59,955 Epoch[9] Batch [170]\tSpeed: 68.59 samples/sec\taccuracy=1.000000\n",
      "2017-06-12 08:17:02,289 Epoch[9] Batch [180]\tSpeed: 68.58 samples/sec\taccuracy=1.000000\n",
      "2017-06-12 08:17:04,616 Epoch[9] Batch [190]\tSpeed: 68.79 samples/sec\taccuracy=0.993750\n",
      "2017-06-12 08:17:06,948 Epoch[9] Batch [200]\tSpeed: 68.66 samples/sec\taccuracy=1.000000\n",
      "2017-06-12 08:17:09,284 Epoch[9] Batch [210]\tSpeed: 68.53 samples/sec\taccuracy=1.000000\n",
      "2017-06-12 08:17:11,617 Epoch[9] Batch [220]\tSpeed: 68.60 samples/sec\taccuracy=1.000000\n",
      "2017-06-12 08:17:13,954 Epoch[9] Batch [230]\tSpeed: 68.52 samples/sec\taccuracy=1.000000\n",
      "2017-06-12 08:17:16,302 Epoch[9] Batch [240]\tSpeed: 68.16 samples/sec\taccuracy=1.000000\n",
      "2017-06-12 08:17:18,407 Epoch[9] Train-accuracy=1.000000\n",
      "2017-06-12 08:17:18,408 Epoch[9] Time cost=58.247\n",
      "2017-06-12 08:17:27,625 Epoch[9] Validation-accuracy=0.767500\n",
      "Fitting classifier: 692.00 seconds\n"
>>>>>>> 666df553fa81c06a1e50dace45aa13e495ea3dfa
     ]
    }
   ],
   "source": [
    "# for structure in structures_found:\n",
    "# for structure in all_known_structures:\n",
    "for structure in ['LRt']:\n",
    "\n",
    "    print structure\n",
    "\n",
    "    # Determine which labels to load.\n",
    "\n",
    "    structures_to_sample = [structure]\n",
    "    negative_labels_to_sample = [s + '_negative' for s in structures_to_sample]\n",
    "\n",
    "    margins_to_sample = [margin] # (200: 100 um, 500: 250 um)\n",
    "    surround_positive_labels_to_sample = [convert_to_surround_name(s, margin=m, suffix=surr_l) \n",
    "                                 for m in margins_to_sample\n",
    "                                 for s in structures_to_sample \n",
    "                                 for surr_l in all_known_structures\n",
    "                                 if surr_l != s]\n",
    "    surround_noclass_labels_to_sample = [convert_to_surround_name(s, margin=m, suffix='noclass') \n",
    "                                 for m in margins_to_sample\n",
    "                                 for s in structures_to_sample]\n",
    "\n",
    "    if neg_composition == 'neg_has_everything_else':\n",
    "        labels_to_sample = structures_to_sample + negative_labels_to_sample\n",
    "    elif neg_composition == 'neg_has_only_surround_noclass':\n",
    "        labels_to_sample = structures_to_sample + surround_noclass_labels_to_sample + ['noclass']\n",
    "    elif neg_composition == 'neg_has_all_surround':\n",
    "        labels_to_sample = structures_to_sample + surround_positive_labels_to_sample + surround_noclass_labels_to_sample + ['noclass']\n",
    "    \n",
    "    # labels_to_sample = ['Sp5C', 'Sp5C_surround_500_Sp5I', 'Sp5C_surround_500_noclass', 'Sp5C_surround_500_LRt']\n",
    "    # labels_to_sample = ['Sp5O', 'Sp5O_surround_500_Sp5I', 'Sp5O_surround_500_noclass']\n",
    "#     labels_to_sample = ['SC', 'SC_surround_500_IC', 'SC_surround_500_noclass']\n",
    "\n",
    "    # Load training dataset.\n",
    "\n",
    "    training_set_ids = map(int, str(classifier_properties['train_set_id']).split('/'))\n",
    "    training_features, training_addresses = load_dataset_images(training_set_ids, labels_to_sample=labels_to_sample)\n",
    "\n",
    "    # convert patches data shape to nx1x224x224\n",
    "    training_features = {s: (patches - mean_img)[:, None, :, :] for s, patches in training_features.iteritems()}\n",
    "\n",
    "    # check which labels are collected\n",
    "    labels_found = training_addresses.keys()\n",
    "    structures_found = set([convert_to_original_name(l) for l in labels_found \n",
    "                            if convert_to_original_name(l) in labels_found]) - {'noclass'}\n",
    "\n",
    "    # Load test dataset.\n",
    "\n",
    "    test_set_ids = [62]\n",
    "    test_features, test_addresses = load_dataset_images(test_set_ids, labels_to_sample=labels_to_sample)\n",
    "    test_features = {s: (patches - mean_img)[:, None, :, :] for s, patches in test_features.iteritems()}\n",
    "    \n",
    "    #############################################\n",
    "    \n",
    "    \n",
    "    if neg_composition == 'neg_has_only_surround_noclass':\n",
    "        neg_classes = [convert_to_surround_name(structure, margin=margin, suffix='noclass')]\n",
    "    elif neg_composition == 'neg_has_all_surround':\n",
    "        neg_classes = [convert_to_surround_name(structure, margin=margin, suffix='noclass')]\n",
    "        for surr_s in structures_found:\n",
    "            c = convert_to_surround_name(structure, margin=margin, suffix=surr_s)\n",
    "            if c in labels_found:\n",
    "                neg_classes.append(c)\n",
    "    elif neg_composition == 'neg_has_everything_else':\n",
    "        neg_classes = [structure + '_negative']\n",
    "    else:\n",
    "        raise Exception('neg_composition %s is not recognized.' % neg_composition)\n",
    "\n",
    "    ###########################\n",
    "    ## Define Sample Weights ##\n",
    "    ###########################\n",
    "    \n",
    "#     if sample_weighting == 'weighted':\n",
    "#         neg_distances = np.concatenate([distances_to_structures[neg_class][structure] for neg_class in neg_classes])\n",
    "            \n",
    "#         sample_weights_neg = np.ones((n_neg,))\n",
    "#         sample_weights_neg[neg_distances > thresh] = diminishing(neg_distances[neg_distances > thresh])\n",
    "#         sample_weights = np.r_[np.ones((n_pos,)), sample_weights_neg]\n",
    "#     else:\n",
    "#         sample_weights = None\n",
    "    \n",
    "    ###########################################################################################\n",
    "    \n",
    "    train_features_pos = training_features[structure]\n",
    "    n_pos = len(train_features_pos)\n",
    "    \n",
    "    train_features_neg = np.concatenate([training_features[neg_class] for neg_class in neg_classes])\n",
    "    n_neg = len(train_features_neg)\n",
    "    \n",
    "    train_data = np.concatenate([train_features_pos, train_features_neg])\n",
    "    # For cnn, labels must be 0/1 rather than +1/-1\n",
    "    train_labels = np.r_[np.ones((n_pos, )), np.zeros((n_neg, ))]\n",
    "\n",
    "    train_data_iter = mx.io.NDArrayIter(\n",
    "        data=train_data, \n",
    "        batch_size=batch_size,\n",
    "        label=train_labels,\n",
    "        shuffle=True)\n",
    "    \n",
    "    #####################################\n",
    "    \n",
    "    test_features_pos = test_features[structure]\n",
    "    n_pos = len(test_features_pos)\n",
    "    \n",
    "    test_features_neg = np.concatenate([test_features[neg_class] for neg_class in neg_classes \\\n",
    "                                   if neg_class in test_features])\n",
    "    n_neg = len(test_features_neg)\n",
    "    \n",
    "    test_data = np.concatenate([test_features_pos, test_features_neg])\n",
    "    # For cnn, labels must be 0/1 rather than +1/-1\n",
    "    test_labels = np.r_[np.ones((n_pos, )), np.zeros((n_neg, ))]\n",
    "\n",
    "    test_data_iter = mx.io.NDArrayIter(\n",
    "        data=test_data, \n",
    "        batch_size=batch_size,\n",
    "        label=test_labels,\n",
    "        shuffle=True)\n",
    "    \n",
    "    t = time.time()\n",
    "    prefix = os.path.join(MXNET_MODEL_ROOTDIR, model_dir_name, model_name + '_' + structure)\n",
    "    mod_score = fit(new_sym, new_args, aux_params, train_data_iter, test_data_iter, \n",
    "                    batch_size, num_gpus, num_epoch=10, epoch_end_callback=my_epoch_end_callback(prefix, period=5))\n",
    "#     clf.fit(train_data, train_labels, sample_weight=sample_weights)\n",
    "    sys.stderr.write('Fitting classifier: %.2f seconds\\n' % (time.time() - t))\n",
    "    \n",
    "#     clf_fp = DataManager.get_classifier_filepath(classifier_id=classifier_id, structure=structure)\n",
    "#     create_parent_dir_if_not_exists(clf_fp)\n",
    "#     joblib.dump(clf, clf_fp)\n",
    "#     upload_to_s3(clf_fp)"
   ]
  },
  {
   "cell_type": "code",
   "execution_count": null,
   "metadata": {
    "collapsed": true
   },
   "outputs": [],
   "source": []
  }
 ],
 "metadata": {
  "kernelspec": {
   "display_name": "Python 2",
   "language": "python",
   "name": "python2"
  },
  "language_info": {
   "codemirror_mode": {
    "name": "ipython",
    "version": 2
   },
   "file_extension": ".py",
   "mimetype": "text/x-python",
   "name": "python",
   "nbconvert_exporter": "python",
   "pygments_lexer": "ipython2",
   "version": "2.7.12"
  }
 },
 "nbformat": 4,
 "nbformat_minor": 2
}
