{
 "cells": [
  {
   "cell_type": "code",
   "execution_count": 1,
   "metadata": {
    "scrolled": true
   },
   "outputs": [
    {
     "name": "stderr",
     "output_type": "stream",
     "text": [
      "/usr/local/lib/python2.7/dist-packages/matplotlib/__init__.py:1405: UserWarning: \n",
      "This call to matplotlib.use() has no effect because the backend has already\n",
      "been chosen; matplotlib.use() must be called *before* pylab, matplotlib.pyplot,\n",
      "or matplotlib.backends is imported for the first time.\n",
      "\n",
      "  warnings.warn(_use_error_msg)\n",
      "No vtk\n"
     ]
    },
    {
     "name": "stdout",
     "output_type": "stream",
     "text": [
      "Setting environment for AWS compute node\n"
     ]
    }
   ],
   "source": [
    "%load_ext autoreload\n",
    "%autoreload 2\n",
    "\n",
    "import sys\n",
    "import os\n",
    "import time\n",
    "\n",
    "import numpy as np\n",
    "import mxnet as mx\n",
    "import matplotlib.pyplot as plt\n",
    "%matplotlib inline\n",
    "\n",
    "sys.path.append(os.environ['REPO_DIR'] + '/utilities')\n",
    "from utilities2015 import *\n",
    "from metadata import *\n",
    "from data_manager import *\n",
    "from learning_utilities import *"
   ]
  },
  {
   "cell_type": "code",
   "execution_count": 2,
   "metadata": {},
   "outputs": [],
   "source": [
    "classifier_id = 70\n",
    "classifier_properties = classifier_settings.loc[classifier_id]\n",
    "\n",
    "margin = classifier_properties['margin']\n",
    "# model = classifier_properties['model']\n",
    "sample_weighting = classifier_properties['sample_weighting']\n",
    "neg_composition = classifier_properties['neg_composition']"
   ]
  },
  {
   "cell_type": "code",
   "execution_count": 4,
   "metadata": {},
   "outputs": [],
   "source": [
    "model_dir_name = 'inception-bn-blue-softmax'\n",
    "download_from_s3(os.path.join(MXNET_MODEL_ROOTDIR, model_dir_name), is_dir=True)\n",
    "model_name = 'inception-bn-blue-softmax'\n",
    "model_iteration = 0\n",
    "output_symbol_name = 'softmax_output'\n",
    "output_dim = 1024\n",
    "mean_img = np.load(os.path.join(MXNET_MODEL_ROOTDIR, model_dir_name, 'mean_224.npy'))\n",
    "\n",
    "# Reference on how to predict with mxnet model:\n",
    "# https://github.com/dmlc/mxnet-notebooks/blob/master/python/how_to/predict.ipynb\n",
    "model_prefix = os.path.join(MXNET_MODEL_ROOTDIR, model_dir_name, model_name)\n",
    "model0, arg_params, aux_params = mx.model.load_checkpoint(model_prefix, 0)"
   ]
  },
  {
   "cell_type": "code",
   "execution_count": 5,
   "metadata": {
    "collapsed": true
   },
   "outputs": [],
   "source": [
    "# Finetune\n",
    "# http://mxnet.io/how_to/finetune.html"
   ]
  },
  {
   "cell_type": "code",
   "execution_count": 6,
   "metadata": {
    "collapsed": true
   },
   "outputs": [],
   "source": [
    "def get_fine_tune_model(symbol, arg_params, num_classes, layer_name='flatten'):\n",
    "    \"\"\"\n",
    "    symbol: the pretrained network symbol\n",
    "    arg_params: the argument parameters of the pretrained model\n",
    "    num_classes: the number of classes for the fine-tune datasets\n",
    "    layer_name: the layer name before the last fully-connected layer\n",
    "    \"\"\"\n",
    "    all_layers = symbol.get_internals()\n",
    "    net = all_layers[layer_name + '_output']\n",
    "    net = mx.symbol.FullyConnected(data=net, num_hidden=num_classes, name='fc1')\n",
    "    net = mx.symbol.SoftmaxOutput(data=net, name='softmax')\n",
    "    new_args = {k: arg_params[k] for k in arg_params if 'fc1' not in k}\n",
    "    return (net, new_args)"
   ]
  },
  {
   "cell_type": "code",
   "execution_count": 7,
   "metadata": {
    "collapsed": true
   },
   "outputs": [],
   "source": [
    "num_classes = 2\n",
    "(new_sym, new_args) = get_fine_tune_model(model0, arg_params, num_classes)"
   ]
  },
  {
   "cell_type": "code",
   "execution_count": 46,
   "metadata": {
    "collapsed": true
   },
   "outputs": [],
   "source": [
    "import logging\n",
    "head = '%(asctime)-15s %(message)s'\n",
    "logging.basicConfig(level=logging.DEBUG, format=head)\n",
    "\n",
    "def fit(symbol, arg_params, aux_params, train, val, batch_size, num_gpus, num_epoch, epoch_end_callback):\n",
    "    devs = [mx.gpu(i) for i in range(num_gpus)]\n",
    "    mod = mx.mod.Module(symbol=symbol, context=devs)\n",
    "    mod.fit(train, val,\n",
    "        num_epoch=num_epoch,\n",
    "        arg_params=arg_params,\n",
    "        aux_params=aux_params,\n",
    "        allow_missing=True,\n",
    "        batch_end_callback = mx.callback.Speedometer(batch_size, 10),\n",
    "        kvstore='device',\n",
    "        optimizer='sgd',\n",
    "        optimizer_params={'learning_rate':0.01},\n",
    "        initializer=mx.init.Xavier(rnd_type='gaussian', factor_type=\"in\", magnitude=2),\n",
    "        eval_metric='acc',\n",
    "           epoch_end_callback=epoch_end_callback)\n",
    "    metric = mx.metric.Accuracy()\n",
    "    return mod.score(val, metric)"
   ]
  },
  {
   "cell_type": "code",
   "execution_count": 29,
   "metadata": {
    "collapsed": true
   },
   "outputs": [],
   "source": [
    "batch_per_gpu = 16\n",
    "num_gpus = 1\n",
    "batch_size = batch_per_gpu * num_gpus"
   ]
  },
  {
   "cell_type": "code",
   "execution_count": 56,
   "metadata": {
    "collapsed": true
   },
   "outputs": [],
   "source": [
    "from mxnet.model import save_checkpoint\n",
    "\n",
    "def my_epoch_end_callback(prefix, period=1):\n",
    "    def _callback(epoch, sym, arg, aux):    \n",
    "        if epoch % period == 0:\n",
    "            save_checkpoint(prefix, epoch, sym, arg, aux)\n",
    "            symbol_fp = '%s-symbol.json' % prefix\n",
    "            param_fp = '%s-%04d.params' % (prefix, epoch)\n",
    "            upload_to_s3(symbol_fp)\n",
    "            upload_to_s3(param_fp)\n",
    "    return _callback"
   ]
  },
  {
   "cell_type": "code",
   "execution_count": 70,
   "metadata": {
    "scrolled": true
   },
   "outputs": [
    {
     "name": "stdout",
     "output_type": "stream",
     "text": [
      "LRt\n",
      "rm -rf /shared/CSHL_classifiers/datasets/dataset_60/patch_images_LRt_surround_500_5N.hdf && mkdir -p /shared/CSHL_classifiers/datasets/dataset_60\n",
      "aws s3 cp s3://mousebrainatlas-data/CSHL_classifiers/datasets/dataset_60/patch_images_LRt_surround_500_5N.hdf /shared/CSHL_classifiers/datasets/dataset_60/patch_images_LRt_surround_500_5N.hdf\n"
     ]
    },
    {
     "name": "stderr",
     "output_type": "stream",
     "text": [
      "Child returned 0\n",
      "Child returned 1\n",
      "0.58 seconds.\n",
      "Cannot load dataset images for label LRt_surround_500_5N: [Errno 2] No such file or directory: '/shared/CSHL_classifiers/datasets/dataset_60/patch_images_LRt_surround_500_5N.hdf'\n",
      "Child returned 0\n"
     ]
    },
    {
     "name": "stdout",
     "output_type": "stream",
     "text": [
      "rm -rf /shared/CSHL_classifiers/datasets/dataset_60/patch_images_LRt_surround_500_6N.hdf && mkdir -p /shared/CSHL_classifiers/datasets/dataset_60\n",
      "aws s3 cp s3://mousebrainatlas-data/CSHL_classifiers/datasets/dataset_60/patch_images_LRt_surround_500_6N.hdf /shared/CSHL_classifiers/datasets/dataset_60/patch_images_LRt_surround_500_6N.hdf\n"
     ]
    },
    {
     "name": "stderr",
     "output_type": "stream",
     "text": [
      "Child returned 1\n",
      "0.48 seconds.\n",
      "Cannot load dataset images for label LRt_surround_500_6N: [Errno 2] No such file or directory: '/shared/CSHL_classifiers/datasets/dataset_60/patch_images_LRt_surround_500_6N.hdf'\n",
      "Child returned 0\n"
     ]
    },
    {
     "name": "stdout",
     "output_type": "stream",
     "text": [
      "rm -rf /shared/CSHL_classifiers/datasets/dataset_60/patch_images_LRt_surround_500_7N.hdf && mkdir -p /shared/CSHL_classifiers/datasets/dataset_60\n",
      "aws s3 cp s3://mousebrainatlas-data/CSHL_classifiers/datasets/dataset_60/patch_images_LRt_surround_500_7N.hdf /shared/CSHL_classifiers/datasets/dataset_60/patch_images_LRt_surround_500_7N.hdf\n"
     ]
    },
    {
     "name": "stderr",
     "output_type": "stream",
     "text": [
      "Child returned 1\n",
      "0.50 seconds.\n",
      "Cannot load dataset images for label LRt_surround_500_7N: [Errno 2] No such file or directory: '/shared/CSHL_classifiers/datasets/dataset_60/patch_images_LRt_surround_500_7N.hdf'\n",
      "Child returned 0\n"
     ]
    },
    {
     "name": "stdout",
     "output_type": "stream",
     "text": [
      "rm -rf /shared/CSHL_classifiers/datasets/dataset_60/patch_images_LRt_surround_500_7n.hdf && mkdir -p /shared/CSHL_classifiers/datasets/dataset_60\n",
      "aws s3 cp s3://mousebrainatlas-data/CSHL_classifiers/datasets/dataset_60/patch_images_LRt_surround_500_7n.hdf /shared/CSHL_classifiers/datasets/dataset_60/patch_images_LRt_surround_500_7n.hdf\n"
     ]
    },
    {
     "name": "stderr",
     "output_type": "stream",
     "text": [
      "Child returned 1\n",
      "0.47 seconds.\n",
      "Cannot load dataset images for label LRt_surround_500_7n: [Errno 2] No such file or directory: '/shared/CSHL_classifiers/datasets/dataset_60/patch_images_LRt_surround_500_7n.hdf'\n",
      "Child returned 0\n"
     ]
    },
    {
     "name": "stdout",
     "output_type": "stream",
     "text": [
      "rm -rf /shared/CSHL_classifiers/datasets/dataset_60/patch_images_LRt_surround_500_Amb.hdf && mkdir -p /shared/CSHL_classifiers/datasets/dataset_60\n",
      "aws s3 cp s3://mousebrainatlas-data/CSHL_classifiers/datasets/dataset_60/patch_images_LRt_surround_500_Amb.hdf /shared/CSHL_classifiers/datasets/dataset_60/patch_images_LRt_surround_500_Amb.hdf\n"
     ]
    },
    {
     "name": "stderr",
     "output_type": "stream",
     "text": [
      "Child returned 0\n",
      "0.98 seconds.\n",
      "Child returned 0\n"
     ]
    },
    {
     "name": "stdout",
     "output_type": "stream",
     "text": [
      "rm -rf /shared/CSHL_classifiers/datasets/dataset_60/patch_images_LRt_surround_500_LC.hdf && mkdir -p /shared/CSHL_classifiers/datasets/dataset_60\n",
      "aws s3 cp s3://mousebrainatlas-data/CSHL_classifiers/datasets/dataset_60/patch_images_LRt_surround_500_LC.hdf /shared/CSHL_classifiers/datasets/dataset_60/patch_images_LRt_surround_500_LC.hdf\n"
     ]
    },
    {
     "name": "stderr",
     "output_type": "stream",
     "text": [
      "Child returned 1\n",
      "0.47 seconds.\n",
      "Cannot load dataset images for label LRt_surround_500_LC: [Errno 2] No such file or directory: '/shared/CSHL_classifiers/datasets/dataset_60/patch_images_LRt_surround_500_LC.hdf'\n",
      "Child returned 0\n"
     ]
    },
    {
     "name": "stdout",
     "output_type": "stream",
     "text": [
      "rm -rf /shared/CSHL_classifiers/datasets/dataset_60/patch_images_LRt_surround_500_Pn.hdf && mkdir -p /shared/CSHL_classifiers/datasets/dataset_60\n",
      "aws s3 cp s3://mousebrainatlas-data/CSHL_classifiers/datasets/dataset_60/patch_images_LRt_surround_500_Pn.hdf /shared/CSHL_classifiers/datasets/dataset_60/patch_images_LRt_surround_500_Pn.hdf\n"
     ]
    },
    {
     "name": "stderr",
     "output_type": "stream",
     "text": [
      "Child returned 1\n",
      "0.47 seconds.\n",
      "Cannot load dataset images for label LRt_surround_500_Pn: [Errno 2] No such file or directory: '/shared/CSHL_classifiers/datasets/dataset_60/patch_images_LRt_surround_500_Pn.hdf'\n",
      "Child returned 0\n"
     ]
    },
    {
     "name": "stdout",
     "output_type": "stream",
     "text": [
      "rm -rf /shared/CSHL_classifiers/datasets/dataset_60/patch_images_LRt_surround_500_Tz.hdf && mkdir -p /shared/CSHL_classifiers/datasets/dataset_60\n",
      "aws s3 cp s3://mousebrainatlas-data/CSHL_classifiers/datasets/dataset_60/patch_images_LRt_surround_500_Tz.hdf /shared/CSHL_classifiers/datasets/dataset_60/patch_images_LRt_surround_500_Tz.hdf\n"
     ]
    },
    {
     "name": "stderr",
     "output_type": "stream",
     "text": [
      "Child returned 1\n",
      "0.46 seconds.\n",
      "Cannot load dataset images for label LRt_surround_500_Tz: [Errno 2] No such file or directory: '/shared/CSHL_classifiers/datasets/dataset_60/patch_images_LRt_surround_500_Tz.hdf'\n",
      "Child returned 0\n"
     ]
    },
    {
     "name": "stdout",
     "output_type": "stream",
     "text": [
      "rm -rf /shared/CSHL_classifiers/datasets/dataset_60/patch_images_LRt_surround_500_VLL.hdf && mkdir -p /shared/CSHL_classifiers/datasets/dataset_60\n",
      "aws s3 cp s3://mousebrainatlas-data/CSHL_classifiers/datasets/dataset_60/patch_images_LRt_surround_500_VLL.hdf /shared/CSHL_classifiers/datasets/dataset_60/patch_images_LRt_surround_500_VLL.hdf\n"
     ]
    },
    {
     "name": "stderr",
     "output_type": "stream",
     "text": [
      "Child returned 1\n",
      "0.46 seconds.\n",
      "Cannot load dataset images for label LRt_surround_500_VLL: [Errno 2] No such file or directory: '/shared/CSHL_classifiers/datasets/dataset_60/patch_images_LRt_surround_500_VLL.hdf'\n",
      "Child returned 0\n"
     ]
    },
    {
     "name": "stdout",
     "output_type": "stream",
     "text": [
      "rm -rf /shared/CSHL_classifiers/datasets/dataset_60/patch_images_LRt_surround_500_RMC.hdf && mkdir -p /shared/CSHL_classifiers/datasets/dataset_60\n",
      "aws s3 cp s3://mousebrainatlas-data/CSHL_classifiers/datasets/dataset_60/patch_images_LRt_surround_500_RMC.hdf /shared/CSHL_classifiers/datasets/dataset_60/patch_images_LRt_surround_500_RMC.hdf\n"
     ]
    },
    {
     "name": "stderr",
     "output_type": "stream",
     "text": [
      "Child returned 1\n",
      "0.46 seconds.\n",
      "Cannot load dataset images for label LRt_surround_500_RMC: [Errno 2] No such file or directory: '/shared/CSHL_classifiers/datasets/dataset_60/patch_images_LRt_surround_500_RMC.hdf'\n",
      "Child returned 0\n"
     ]
    },
    {
     "name": "stdout",
     "output_type": "stream",
     "text": [
      "rm -rf /shared/CSHL_classifiers/datasets/dataset_60/patch_images_LRt_surround_500_SNC.hdf && mkdir -p /shared/CSHL_classifiers/datasets/dataset_60\n",
      "aws s3 cp s3://mousebrainatlas-data/CSHL_classifiers/datasets/dataset_60/patch_images_LRt_surround_500_SNC.hdf /shared/CSHL_classifiers/datasets/dataset_60/patch_images_LRt_surround_500_SNC.hdf\n"
     ]
    },
    {
     "name": "stderr",
     "output_type": "stream",
     "text": [
      "Child returned 1\n",
      "0.47 seconds.\n",
      "Cannot load dataset images for label LRt_surround_500_SNC: [Errno 2] No such file or directory: '/shared/CSHL_classifiers/datasets/dataset_60/patch_images_LRt_surround_500_SNC.hdf'\n",
      "Child returned 0\n"
     ]
    },
    {
     "name": "stdout",
     "output_type": "stream",
     "text": [
      "rm -rf /shared/CSHL_classifiers/datasets/dataset_60/patch_images_LRt_surround_500_SNR.hdf && mkdir -p /shared/CSHL_classifiers/datasets/dataset_60\n",
      "aws s3 cp s3://mousebrainatlas-data/CSHL_classifiers/datasets/dataset_60/patch_images_LRt_surround_500_SNR.hdf /shared/CSHL_classifiers/datasets/dataset_60/patch_images_LRt_surround_500_SNR.hdf\n"
     ]
    },
    {
     "name": "stderr",
     "output_type": "stream",
     "text": [
      "Child returned 1\n",
      "0.47 seconds.\n",
      "Cannot load dataset images for label LRt_surround_500_SNR: [Errno 2] No such file or directory: '/shared/CSHL_classifiers/datasets/dataset_60/patch_images_LRt_surround_500_SNR.hdf'\n",
      "Child returned 0\n"
     ]
    },
    {
     "name": "stdout",
     "output_type": "stream",
     "text": [
      "rm -rf /shared/CSHL_classifiers/datasets/dataset_60/patch_images_LRt_surround_500_3N.hdf && mkdir -p /shared/CSHL_classifiers/datasets/dataset_60\n",
      "aws s3 cp s3://mousebrainatlas-data/CSHL_classifiers/datasets/dataset_60/patch_images_LRt_surround_500_3N.hdf /shared/CSHL_classifiers/datasets/dataset_60/patch_images_LRt_surround_500_3N.hdf\n"
     ]
    },
    {
     "name": "stderr",
     "output_type": "stream",
     "text": [
      "Child returned 1\n",
      "0.49 seconds.\n",
      "Cannot load dataset images for label LRt_surround_500_3N: [Errno 2] No such file or directory: '/shared/CSHL_classifiers/datasets/dataset_60/patch_images_LRt_surround_500_3N.hdf'\n",
      "Child returned 0\n"
     ]
    },
    {
     "name": "stdout",
     "output_type": "stream",
     "text": [
      "rm -rf /shared/CSHL_classifiers/datasets/dataset_60/patch_images_LRt_surround_500_4N.hdf && mkdir -p /shared/CSHL_classifiers/datasets/dataset_60\n",
      "aws s3 cp s3://mousebrainatlas-data/CSHL_classifiers/datasets/dataset_60/patch_images_LRt_surround_500_4N.hdf /shared/CSHL_classifiers/datasets/dataset_60/patch_images_LRt_surround_500_4N.hdf\n"
     ]
    },
    {
     "name": "stderr",
     "output_type": "stream",
     "text": [
      "Child returned 1\n",
      "0.48 seconds.\n",
      "Cannot load dataset images for label LRt_surround_500_4N: [Errno 2] No such file or directory: '/shared/CSHL_classifiers/datasets/dataset_60/patch_images_LRt_surround_500_4N.hdf'\n",
      "Child returned 0\n"
     ]
    },
    {
     "name": "stdout",
     "output_type": "stream",
     "text": [
      "rm -rf /shared/CSHL_classifiers/datasets/dataset_60/patch_images_LRt_surround_500_Sp5I.hdf && mkdir -p /shared/CSHL_classifiers/datasets/dataset_60\n",
      "aws s3 cp s3://mousebrainatlas-data/CSHL_classifiers/datasets/dataset_60/patch_images_LRt_surround_500_Sp5I.hdf /shared/CSHL_classifiers/datasets/dataset_60/patch_images_LRt_surround_500_Sp5I.hdf\n"
     ]
    },
    {
     "name": "stderr",
     "output_type": "stream",
     "text": [
      "Child returned 1\n",
      "0.48 seconds.\n",
      "Cannot load dataset images for label LRt_surround_500_Sp5I: [Errno 2] No such file or directory: '/shared/CSHL_classifiers/datasets/dataset_60/patch_images_LRt_surround_500_Sp5I.hdf'\n",
      "Child returned 0\n"
     ]
    },
    {
     "name": "stdout",
     "output_type": "stream",
     "text": [
      "rm -rf /shared/CSHL_classifiers/datasets/dataset_60/patch_images_LRt_surround_500_Sp5O.hdf && mkdir -p /shared/CSHL_classifiers/datasets/dataset_60\n",
      "aws s3 cp s3://mousebrainatlas-data/CSHL_classifiers/datasets/dataset_60/patch_images_LRt_surround_500_Sp5O.hdf /shared/CSHL_classifiers/datasets/dataset_60/patch_images_LRt_surround_500_Sp5O.hdf\n"
     ]
    },
    {
     "name": "stderr",
     "output_type": "stream",
     "text": [
      "Child returned 1\n",
      "0.49 seconds.\n",
      "Cannot load dataset images for label LRt_surround_500_Sp5O: [Errno 2] No such file or directory: '/shared/CSHL_classifiers/datasets/dataset_60/patch_images_LRt_surround_500_Sp5O.hdf'\n",
      "Child returned 0\n"
     ]
    },
    {
     "name": "stdout",
     "output_type": "stream",
     "text": [
      "rm -rf /shared/CSHL_classifiers/datasets/dataset_60/patch_images_LRt_surround_500_Sp5C.hdf && mkdir -p /shared/CSHL_classifiers/datasets/dataset_60\n",
      "aws s3 cp s3://mousebrainatlas-data/CSHL_classifiers/datasets/dataset_60/patch_images_LRt_surround_500_Sp5C.hdf /shared/CSHL_classifiers/datasets/dataset_60/patch_images_LRt_surround_500_Sp5C.hdf\n"
     ]
    },
    {
     "name": "stderr",
     "output_type": "stream",
     "text": [
      "Child returned 1\n",
      "0.47 seconds.\n",
      "Cannot load dataset images for label LRt_surround_500_Sp5C: [Errno 2] No such file or directory: '/shared/CSHL_classifiers/datasets/dataset_60/patch_images_LRt_surround_500_Sp5C.hdf'\n",
      "Child returned 0\n"
     ]
    },
    {
     "name": "stdout",
     "output_type": "stream",
     "text": [
      "rm -rf /shared/CSHL_classifiers/datasets/dataset_60/patch_images_LRt_surround_500_PBG.hdf && mkdir -p /shared/CSHL_classifiers/datasets/dataset_60\n",
      "aws s3 cp s3://mousebrainatlas-data/CSHL_classifiers/datasets/dataset_60/patch_images_LRt_surround_500_PBG.hdf /shared/CSHL_classifiers/datasets/dataset_60/patch_images_LRt_surround_500_PBG.hdf\n"
     ]
    },
    {
     "name": "stderr",
     "output_type": "stream",
     "text": [
      "Child returned 1\n",
      "0.48 seconds.\n",
      "Cannot load dataset images for label LRt_surround_500_PBG: [Errno 2] No such file or directory: '/shared/CSHL_classifiers/datasets/dataset_60/patch_images_LRt_surround_500_PBG.hdf'\n",
      "Child returned 0\n"
     ]
    },
    {
     "name": "stdout",
     "output_type": "stream",
     "text": [
      "rm -rf /shared/CSHL_classifiers/datasets/dataset_60/patch_images_LRt_surround_500_10N.hdf && mkdir -p /shared/CSHL_classifiers/datasets/dataset_60\n",
      "aws s3 cp s3://mousebrainatlas-data/CSHL_classifiers/datasets/dataset_60/patch_images_LRt_surround_500_10N.hdf /shared/CSHL_classifiers/datasets/dataset_60/patch_images_LRt_surround_500_10N.hdf\n"
     ]
    },
    {
     "name": "stderr",
     "output_type": "stream",
     "text": [
      "Child returned 1\n",
      "0.47 seconds.\n",
      "Cannot load dataset images for label LRt_surround_500_10N: [Errno 2] No such file or directory: '/shared/CSHL_classifiers/datasets/dataset_60/patch_images_LRt_surround_500_10N.hdf'\n",
      "Child returned 0\n"
     ]
    },
    {
     "name": "stdout",
     "output_type": "stream",
     "text": [
      "rm -rf /shared/CSHL_classifiers/datasets/dataset_60/patch_images_LRt_surround_500_VCA.hdf && mkdir -p /shared/CSHL_classifiers/datasets/dataset_60\n",
      "aws s3 cp s3://mousebrainatlas-data/CSHL_classifiers/datasets/dataset_60/patch_images_LRt_surround_500_VCA.hdf /shared/CSHL_classifiers/datasets/dataset_60/patch_images_LRt_surround_500_VCA.hdf\n"
     ]
    },
    {
     "name": "stderr",
     "output_type": "stream",
     "text": [
      "Child returned 1\n",
      "0.47 seconds.\n",
      "Cannot load dataset images for label LRt_surround_500_VCA: [Errno 2] No such file or directory: '/shared/CSHL_classifiers/datasets/dataset_60/patch_images_LRt_surround_500_VCA.hdf'\n",
      "Child returned 0\n"
     ]
    },
    {
     "name": "stdout",
     "output_type": "stream",
     "text": [
      "rm -rf /shared/CSHL_classifiers/datasets/dataset_60/patch_images_LRt_surround_500_VCP.hdf && mkdir -p /shared/CSHL_classifiers/datasets/dataset_60\n",
      "aws s3 cp s3://mousebrainatlas-data/CSHL_classifiers/datasets/dataset_60/patch_images_LRt_surround_500_VCP.hdf /shared/CSHL_classifiers/datasets/dataset_60/patch_images_LRt_surround_500_VCP.hdf\n"
     ]
    },
    {
     "name": "stderr",
     "output_type": "stream",
     "text": [
      "Child returned 1\n",
      "0.46 seconds.\n",
      "Cannot load dataset images for label LRt_surround_500_VCP: [Errno 2] No such file or directory: '/shared/CSHL_classifiers/datasets/dataset_60/patch_images_LRt_surround_500_VCP.hdf'\n",
      "Child returned 0\n"
     ]
    },
    {
     "name": "stdout",
     "output_type": "stream",
     "text": [
      "rm -rf /shared/CSHL_classifiers/datasets/dataset_60/patch_images_LRt_surround_500_DC.hdf && mkdir -p /shared/CSHL_classifiers/datasets/dataset_60\n",
      "aws s3 cp s3://mousebrainatlas-data/CSHL_classifiers/datasets/dataset_60/patch_images_LRt_surround_500_DC.hdf /shared/CSHL_classifiers/datasets/dataset_60/patch_images_LRt_surround_500_DC.hdf\n"
     ]
    },
    {
     "name": "stderr",
     "output_type": "stream",
     "text": [
      "Child returned 1\n",
      "0.47 seconds.\n",
      "Cannot load dataset images for label LRt_surround_500_DC: [Errno 2] No such file or directory: '/shared/CSHL_classifiers/datasets/dataset_60/patch_images_LRt_surround_500_DC.hdf'\n",
      "Child returned 0\n"
     ]
    },
    {
     "name": "stdout",
     "output_type": "stream",
     "text": [
      "rm -rf /shared/CSHL_classifiers/datasets/dataset_60/patch_images_LRt_surround_500_AP.hdf && mkdir -p /shared/CSHL_classifiers/datasets/dataset_60\n",
      "aws s3 cp s3://mousebrainatlas-data/CSHL_classifiers/datasets/dataset_60/patch_images_LRt_surround_500_AP.hdf /shared/CSHL_classifiers/datasets/dataset_60/patch_images_LRt_surround_500_AP.hdf\n"
     ]
    },
    {
     "name": "stderr",
     "output_type": "stream",
     "text": [
      "Child returned 1\n",
      "0.47 seconds.\n",
      "Cannot load dataset images for label LRt_surround_500_AP: [Errno 2] No such file or directory: '/shared/CSHL_classifiers/datasets/dataset_60/patch_images_LRt_surround_500_AP.hdf'\n",
      "Child returned 0\n"
     ]
    },
    {
     "name": "stdout",
     "output_type": "stream",
     "text": [
      "rm -rf /shared/CSHL_classifiers/datasets/dataset_60/patch_images_LRt_surround_500_12N.hdf && mkdir -p /shared/CSHL_classifiers/datasets/dataset_60\n",
      "aws s3 cp s3://mousebrainatlas-data/CSHL_classifiers/datasets/dataset_60/patch_images_LRt_surround_500_12N.hdf /shared/CSHL_classifiers/datasets/dataset_60/patch_images_LRt_surround_500_12N.hdf\n"
     ]
    },
    {
     "name": "stderr",
     "output_type": "stream",
     "text": [
      "Child returned 1\n",
      "0.48 seconds.\n",
      "Cannot load dataset images for label LRt_surround_500_12N: [Errno 2] No such file or directory: '/shared/CSHL_classifiers/datasets/dataset_60/patch_images_LRt_surround_500_12N.hdf'\n",
      "Child returned 0\n"
     ]
    },
    {
     "name": "stdout",
     "output_type": "stream",
     "text": [
      "rm -rf /shared/CSHL_classifiers/datasets/dataset_60/patch_images_LRt_surround_500_RtTg.hdf && mkdir -p /shared/CSHL_classifiers/datasets/dataset_60\n",
      "aws s3 cp s3://mousebrainatlas-data/CSHL_classifiers/datasets/dataset_60/patch_images_LRt_surround_500_RtTg.hdf /shared/CSHL_classifiers/datasets/dataset_60/patch_images_LRt_surround_500_RtTg.hdf\n"
     ]
    },
    {
     "name": "stderr",
     "output_type": "stream",
     "text": [
      "Child returned 1\n",
      "0.46 seconds.\n",
      "Cannot load dataset images for label LRt_surround_500_RtTg: [Errno 2] No such file or directory: '/shared/CSHL_classifiers/datasets/dataset_60/patch_images_LRt_surround_500_RtTg.hdf'\n",
      "Child returned 0\n"
     ]
    },
    {
     "name": "stdout",
     "output_type": "stream",
     "text": [
      "rm -rf /shared/CSHL_classifiers/datasets/dataset_60/patch_images_LRt_surround_500_sp5.hdf && mkdir -p /shared/CSHL_classifiers/datasets/dataset_60\n",
      "aws s3 cp s3://mousebrainatlas-data/CSHL_classifiers/datasets/dataset_60/patch_images_LRt_surround_500_sp5.hdf /shared/CSHL_classifiers/datasets/dataset_60/patch_images_LRt_surround_500_sp5.hdf\n"
     ]
    },
    {
     "name": "stderr",
     "output_type": "stream",
     "text": [
      "Child returned 1\n",
      "0.46 seconds.\n",
      "Cannot load dataset images for label LRt_surround_500_sp5: [Errno 2] No such file or directory: '/shared/CSHL_classifiers/datasets/dataset_60/patch_images_LRt_surround_500_sp5.hdf'\n",
      "Child returned 0\n"
     ]
    },
    {
     "name": "stdout",
     "output_type": "stream",
     "text": [
      "rm -rf /shared/CSHL_classifiers/datasets/dataset_60/patch_images_LRt_surround_500_outerContour.hdf && mkdir -p /shared/CSHL_classifiers/datasets/dataset_60\n",
      "aws s3 cp s3://mousebrainatlas-data/CSHL_classifiers/datasets/dataset_60/patch_images_LRt_surround_500_outerContour.hdf /shared/CSHL_classifiers/datasets/dataset_60/patch_images_LRt_surround_500_outerContour.hdf\n"
     ]
    },
    {
     "name": "stderr",
     "output_type": "stream",
     "text": [
      "Child returned 1\n",
      "0.45 seconds.\n",
      "Cannot load dataset images for label LRt_surround_500_outerContour: [Errno 2] No such file or directory: '/shared/CSHL_classifiers/datasets/dataset_60/patch_images_LRt_surround_500_outerContour.hdf'\n",
      "Child returned 0\n"
     ]
    },
    {
     "name": "stdout",
     "output_type": "stream",
     "text": [
      "rm -rf /shared/CSHL_classifiers/datasets/dataset_60/patch_images_LRt_surround_500_SC.hdf && mkdir -p /shared/CSHL_classifiers/datasets/dataset_60\n",
      "aws s3 cp s3://mousebrainatlas-data/CSHL_classifiers/datasets/dataset_60/patch_images_LRt_surround_500_SC.hdf /shared/CSHL_classifiers/datasets/dataset_60/patch_images_LRt_surround_500_SC.hdf\n"
     ]
    },
    {
     "name": "stderr",
     "output_type": "stream",
     "text": [
      "Child returned 1\n",
      "0.47 seconds.\n",
      "Cannot load dataset images for label LRt_surround_500_SC: [Errno 2] No such file or directory: '/shared/CSHL_classifiers/datasets/dataset_60/patch_images_LRt_surround_500_SC.hdf'\n",
      "Child returned 0\n"
     ]
    },
    {
     "name": "stdout",
     "output_type": "stream",
     "text": [
      "rm -rf /shared/CSHL_classifiers/datasets/dataset_60/patch_images_LRt_surround_500_IC.hdf && mkdir -p /shared/CSHL_classifiers/datasets/dataset_60\n",
      "aws s3 cp s3://mousebrainatlas-data/CSHL_classifiers/datasets/dataset_60/patch_images_LRt_surround_500_IC.hdf /shared/CSHL_classifiers/datasets/dataset_60/patch_images_LRt_surround_500_IC.hdf\n"
     ]
    },
    {
     "name": "stderr",
     "output_type": "stream",
     "text": [
      "Child returned 1\n",
      "0.48 seconds.\n",
      "Cannot load dataset images for label LRt_surround_500_IC: [Errno 2] No such file or directory: '/shared/CSHL_classifiers/datasets/dataset_60/patch_images_LRt_surround_500_IC.hdf'\n",
      "Child returned 0\n"
     ]
    },
    {
     "name": "stdout",
     "output_type": "stream",
     "text": [
      "rm -rf /shared/CSHL_classifiers/datasets/dataset_60/patch_images_noclass.hdf && mkdir -p /shared/CSHL_classifiers/datasets/dataset_60\n",
      "aws s3 cp s3://mousebrainatlas-data/CSHL_classifiers/datasets/dataset_60/patch_images_noclass.hdf /shared/CSHL_classifiers/datasets/dataset_60/patch_images_noclass.hdf\n"
     ]
    },
    {
     "name": "stderr",
     "output_type": "stream",
     "text": [
      "Child returned 1\n",
      "0.47 seconds.\n",
      "Cannot load dataset images for label noclass: [Errno 2] No such file or directory: '/shared/CSHL_classifiers/datasets/dataset_60/patch_images_noclass.hdf'\n"
     ]
    },
    {
     "name": "stdout",
     "output_type": "stream",
     "text": [
      "rm -rf /shared/CSHL_classifiers/datasets/dataset_61/patch_images_LRt_surround_500_5N.hdf && mkdir -p /shared/CSHL_classifiers/datasets/dataset_61\n",
      "aws s3 cp s3://mousebrainatlas-data/CSHL_classifiers/datasets/dataset_61/patch_images_LRt_surround_500_5N.hdf /shared/CSHL_classifiers/datasets/dataset_61/patch_images_LRt_surround_500_5N.hdf\n"
     ]
    },
    {
     "name": "stderr",
     "output_type": "stream",
     "text": [
      "Child returned 0\n",
      "Child returned 1\n",
      "0.48 seconds.\n",
      "Cannot load dataset images for label LRt_surround_500_5N: [Errno 2] No such file or directory: '/shared/CSHL_classifiers/datasets/dataset_61/patch_images_LRt_surround_500_5N.hdf'\n",
      "Child returned 0\n"
     ]
    },
    {
     "name": "stdout",
     "output_type": "stream",
     "text": [
      "rm -rf /shared/CSHL_classifiers/datasets/dataset_61/patch_images_LRt_surround_500_6N.hdf && mkdir -p /shared/CSHL_classifiers/datasets/dataset_61\n",
      "aws s3 cp s3://mousebrainatlas-data/CSHL_classifiers/datasets/dataset_61/patch_images_LRt_surround_500_6N.hdf /shared/CSHL_classifiers/datasets/dataset_61/patch_images_LRt_surround_500_6N.hdf\n"
     ]
    },
    {
     "name": "stderr",
     "output_type": "stream",
     "text": [
      "Child returned 1\n",
      "0.47 seconds.\n",
      "Cannot load dataset images for label LRt_surround_500_6N: [Errno 2] No such file or directory: '/shared/CSHL_classifiers/datasets/dataset_61/patch_images_LRt_surround_500_6N.hdf'\n",
      "Child returned 0\n"
     ]
    },
    {
     "name": "stdout",
     "output_type": "stream",
     "text": [
      "rm -rf /shared/CSHL_classifiers/datasets/dataset_61/patch_images_LRt_surround_500_7N.hdf && mkdir -p /shared/CSHL_classifiers/datasets/dataset_61\n",
      "aws s3 cp s3://mousebrainatlas-data/CSHL_classifiers/datasets/dataset_61/patch_images_LRt_surround_500_7N.hdf /shared/CSHL_classifiers/datasets/dataset_61/patch_images_LRt_surround_500_7N.hdf\n"
     ]
    },
    {
     "name": "stderr",
     "output_type": "stream",
     "text": [
      "Child returned 1\n",
      "0.47 seconds.\n",
      "Cannot load dataset images for label LRt_surround_500_7N: [Errno 2] No such file or directory: '/shared/CSHL_classifiers/datasets/dataset_61/patch_images_LRt_surround_500_7N.hdf'\n",
      "Child returned 0\n"
     ]
    },
    {
     "name": "stdout",
     "output_type": "stream",
     "text": [
      "rm -rf /shared/CSHL_classifiers/datasets/dataset_61/patch_images_LRt_surround_500_7n.hdf && mkdir -p /shared/CSHL_classifiers/datasets/dataset_61\n",
      "aws s3 cp s3://mousebrainatlas-data/CSHL_classifiers/datasets/dataset_61/patch_images_LRt_surround_500_7n.hdf /shared/CSHL_classifiers/datasets/dataset_61/patch_images_LRt_surround_500_7n.hdf\n"
     ]
    },
    {
     "name": "stderr",
     "output_type": "stream",
     "text": [
      "Child returned 1\n",
      "0.47 seconds.\n",
      "Cannot load dataset images for label LRt_surround_500_7n: [Errno 2] No such file or directory: '/shared/CSHL_classifiers/datasets/dataset_61/patch_images_LRt_surround_500_7n.hdf'\n",
      "Child returned 0\n"
     ]
    },
    {
     "name": "stdout",
     "output_type": "stream",
     "text": [
      "rm -rf /shared/CSHL_classifiers/datasets/dataset_61/patch_images_LRt_surround_500_Amb.hdf && mkdir -p /shared/CSHL_classifiers/datasets/dataset_61\n",
      "aws s3 cp s3://mousebrainatlas-data/CSHL_classifiers/datasets/dataset_61/patch_images_LRt_surround_500_Amb.hdf /shared/CSHL_classifiers/datasets/dataset_61/patch_images_LRt_surround_500_Amb.hdf\n"
     ]
    },
    {
     "name": "stderr",
     "output_type": "stream",
     "text": [
      "Child returned 0\n",
      "0.85 seconds.\n",
      "Child returned 0\n"
     ]
    },
    {
     "name": "stdout",
     "output_type": "stream",
     "text": [
      "rm -rf /shared/CSHL_classifiers/datasets/dataset_61/patch_images_LRt_surround_500_LC.hdf && mkdir -p /shared/CSHL_classifiers/datasets/dataset_61\n",
      "aws s3 cp s3://mousebrainatlas-data/CSHL_classifiers/datasets/dataset_61/patch_images_LRt_surround_500_LC.hdf /shared/CSHL_classifiers/datasets/dataset_61/patch_images_LRt_surround_500_LC.hdf\n"
     ]
    },
    {
     "name": "stderr",
     "output_type": "stream",
     "text": [
      "Child returned 1\n",
      "0.47 seconds.\n",
      "Cannot load dataset images for label LRt_surround_500_LC: [Errno 2] No such file or directory: '/shared/CSHL_classifiers/datasets/dataset_61/patch_images_LRt_surround_500_LC.hdf'\n",
      "Child returned 0\n"
     ]
    },
    {
     "name": "stdout",
     "output_type": "stream",
     "text": [
      "rm -rf /shared/CSHL_classifiers/datasets/dataset_61/patch_images_LRt_surround_500_Pn.hdf && mkdir -p /shared/CSHL_classifiers/datasets/dataset_61\n",
      "aws s3 cp s3://mousebrainatlas-data/CSHL_classifiers/datasets/dataset_61/patch_images_LRt_surround_500_Pn.hdf /shared/CSHL_classifiers/datasets/dataset_61/patch_images_LRt_surround_500_Pn.hdf\n"
     ]
    },
    {
     "name": "stderr",
     "output_type": "stream",
     "text": [
      "Child returned 1\n",
      "0.47 seconds.\n",
      "Cannot load dataset images for label LRt_surround_500_Pn: [Errno 2] No such file or directory: '/shared/CSHL_classifiers/datasets/dataset_61/patch_images_LRt_surround_500_Pn.hdf'\n",
      "Child returned 0\n"
     ]
    },
    {
     "name": "stdout",
     "output_type": "stream",
     "text": [
      "rm -rf /shared/CSHL_classifiers/datasets/dataset_61/patch_images_LRt_surround_500_Tz.hdf && mkdir -p /shared/CSHL_classifiers/datasets/dataset_61\n",
      "aws s3 cp s3://mousebrainatlas-data/CSHL_classifiers/datasets/dataset_61/patch_images_LRt_surround_500_Tz.hdf /shared/CSHL_classifiers/datasets/dataset_61/patch_images_LRt_surround_500_Tz.hdf\n"
     ]
    },
    {
     "name": "stderr",
     "output_type": "stream",
     "text": [
      "Child returned 1\n",
      "0.45 seconds.\n",
      "Cannot load dataset images for label LRt_surround_500_Tz: [Errno 2] No such file or directory: '/shared/CSHL_classifiers/datasets/dataset_61/patch_images_LRt_surround_500_Tz.hdf'\n",
      "Child returned 0\n"
     ]
    },
    {
     "name": "stdout",
     "output_type": "stream",
     "text": [
      "rm -rf /shared/CSHL_classifiers/datasets/dataset_61/patch_images_LRt_surround_500_VLL.hdf && mkdir -p /shared/CSHL_classifiers/datasets/dataset_61\n",
      "aws s3 cp s3://mousebrainatlas-data/CSHL_classifiers/datasets/dataset_61/patch_images_LRt_surround_500_VLL.hdf /shared/CSHL_classifiers/datasets/dataset_61/patch_images_LRt_surround_500_VLL.hdf\n"
     ]
    },
    {
     "name": "stderr",
     "output_type": "stream",
     "text": [
      "Child returned 1\n",
      "0.45 seconds.\n",
      "Cannot load dataset images for label LRt_surround_500_VLL: [Errno 2] No such file or directory: '/shared/CSHL_classifiers/datasets/dataset_61/patch_images_LRt_surround_500_VLL.hdf'\n",
      "Child returned 0\n"
     ]
    },
    {
     "name": "stdout",
     "output_type": "stream",
     "text": [
      "rm -rf /shared/CSHL_classifiers/datasets/dataset_61/patch_images_LRt_surround_500_RMC.hdf && mkdir -p /shared/CSHL_classifiers/datasets/dataset_61\n",
      "aws s3 cp s3://mousebrainatlas-data/CSHL_classifiers/datasets/dataset_61/patch_images_LRt_surround_500_RMC.hdf /shared/CSHL_classifiers/datasets/dataset_61/patch_images_LRt_surround_500_RMC.hdf\n"
     ]
    },
    {
     "name": "stderr",
     "output_type": "stream",
     "text": [
      "Child returned 1\n",
      "0.45 seconds.\n",
      "Cannot load dataset images for label LRt_surround_500_RMC: [Errno 2] No such file or directory: '/shared/CSHL_classifiers/datasets/dataset_61/patch_images_LRt_surround_500_RMC.hdf'\n",
      "Child returned 0\n"
     ]
    },
    {
     "name": "stdout",
     "output_type": "stream",
     "text": [
      "rm -rf /shared/CSHL_classifiers/datasets/dataset_61/patch_images_LRt_surround_500_SNC.hdf && mkdir -p /shared/CSHL_classifiers/datasets/dataset_61\n",
      "aws s3 cp s3://mousebrainatlas-data/CSHL_classifiers/datasets/dataset_61/patch_images_LRt_surround_500_SNC.hdf /shared/CSHL_classifiers/datasets/dataset_61/patch_images_LRt_surround_500_SNC.hdf\n"
     ]
    },
    {
     "name": "stderr",
     "output_type": "stream",
     "text": [
      "Child returned 1\n",
      "0.47 seconds.\n",
      "Cannot load dataset images for label LRt_surround_500_SNC: [Errno 2] No such file or directory: '/shared/CSHL_classifiers/datasets/dataset_61/patch_images_LRt_surround_500_SNC.hdf'\n",
      "Child returned 0\n"
     ]
    },
    {
     "name": "stdout",
     "output_type": "stream",
     "text": [
      "rm -rf /shared/CSHL_classifiers/datasets/dataset_61/patch_images_LRt_surround_500_SNR.hdf && mkdir -p /shared/CSHL_classifiers/datasets/dataset_61\n",
      "aws s3 cp s3://mousebrainatlas-data/CSHL_classifiers/datasets/dataset_61/patch_images_LRt_surround_500_SNR.hdf /shared/CSHL_classifiers/datasets/dataset_61/patch_images_LRt_surround_500_SNR.hdf\n"
     ]
    },
    {
     "name": "stderr",
     "output_type": "stream",
     "text": [
      "Child returned 1\n",
      "0.47 seconds.\n",
      "Cannot load dataset images for label LRt_surround_500_SNR: [Errno 2] No such file or directory: '/shared/CSHL_classifiers/datasets/dataset_61/patch_images_LRt_surround_500_SNR.hdf'\n",
      "Child returned 0\n"
     ]
    },
    {
     "name": "stdout",
     "output_type": "stream",
     "text": [
      "rm -rf /shared/CSHL_classifiers/datasets/dataset_61/patch_images_LRt_surround_500_3N.hdf && mkdir -p /shared/CSHL_classifiers/datasets/dataset_61\n",
      "aws s3 cp s3://mousebrainatlas-data/CSHL_classifiers/datasets/dataset_61/patch_images_LRt_surround_500_3N.hdf /shared/CSHL_classifiers/datasets/dataset_61/patch_images_LRt_surround_500_3N.hdf\n"
     ]
    },
    {
     "name": "stderr",
     "output_type": "stream",
     "text": [
      "Child returned 1\n",
      "0.46 seconds.\n",
      "Cannot load dataset images for label LRt_surround_500_3N: [Errno 2] No such file or directory: '/shared/CSHL_classifiers/datasets/dataset_61/patch_images_LRt_surround_500_3N.hdf'\n",
      "Child returned 0\n"
     ]
    },
    {
     "name": "stdout",
     "output_type": "stream",
     "text": [
      "rm -rf /shared/CSHL_classifiers/datasets/dataset_61/patch_images_LRt_surround_500_4N.hdf && mkdir -p /shared/CSHL_classifiers/datasets/dataset_61\n",
      "aws s3 cp s3://mousebrainatlas-data/CSHL_classifiers/datasets/dataset_61/patch_images_LRt_surround_500_4N.hdf /shared/CSHL_classifiers/datasets/dataset_61/patch_images_LRt_surround_500_4N.hdf\n"
     ]
    },
    {
     "name": "stderr",
     "output_type": "stream",
     "text": [
      "Child returned 1\n",
      "0.47 seconds.\n",
      "Cannot load dataset images for label LRt_surround_500_4N: [Errno 2] No such file or directory: '/shared/CSHL_classifiers/datasets/dataset_61/patch_images_LRt_surround_500_4N.hdf'\n",
      "Child returned 0\n"
     ]
    },
    {
     "name": "stdout",
     "output_type": "stream",
     "text": [
      "rm -rf /shared/CSHL_classifiers/datasets/dataset_61/patch_images_LRt_surround_500_Sp5I.hdf && mkdir -p /shared/CSHL_classifiers/datasets/dataset_61\n",
      "aws s3 cp s3://mousebrainatlas-data/CSHL_classifiers/datasets/dataset_61/patch_images_LRt_surround_500_Sp5I.hdf /shared/CSHL_classifiers/datasets/dataset_61/patch_images_LRt_surround_500_Sp5I.hdf\n"
     ]
    },
    {
     "name": "stderr",
     "output_type": "stream",
     "text": [
      "Child returned 1\n",
      "0.48 seconds.\n",
      "Cannot load dataset images for label LRt_surround_500_Sp5I: [Errno 2] No such file or directory: '/shared/CSHL_classifiers/datasets/dataset_61/patch_images_LRt_surround_500_Sp5I.hdf'\n",
      "Child returned 0\n"
     ]
    },
    {
     "name": "stdout",
     "output_type": "stream",
     "text": [
      "rm -rf /shared/CSHL_classifiers/datasets/dataset_61/patch_images_LRt_surround_500_Sp5O.hdf && mkdir -p /shared/CSHL_classifiers/datasets/dataset_61\n",
      "aws s3 cp s3://mousebrainatlas-data/CSHL_classifiers/datasets/dataset_61/patch_images_LRt_surround_500_Sp5O.hdf /shared/CSHL_classifiers/datasets/dataset_61/patch_images_LRt_surround_500_Sp5O.hdf\n"
     ]
    },
    {
     "name": "stderr",
     "output_type": "stream",
     "text": [
      "Child returned 1\n",
      "0.47 seconds.\n",
      "Cannot load dataset images for label LRt_surround_500_Sp5O: [Errno 2] No such file or directory: '/shared/CSHL_classifiers/datasets/dataset_61/patch_images_LRt_surround_500_Sp5O.hdf'\n",
      "Child returned 0\n"
     ]
    },
    {
     "name": "stdout",
     "output_type": "stream",
     "text": [
      "rm -rf /shared/CSHL_classifiers/datasets/dataset_61/patch_images_LRt_surround_500_Sp5C.hdf && mkdir -p /shared/CSHL_classifiers/datasets/dataset_61\n",
      "aws s3 cp s3://mousebrainatlas-data/CSHL_classifiers/datasets/dataset_61/patch_images_LRt_surround_500_Sp5C.hdf /shared/CSHL_classifiers/datasets/dataset_61/patch_images_LRt_surround_500_Sp5C.hdf\n"
     ]
    },
    {
     "name": "stderr",
     "output_type": "stream",
     "text": [
      "Child returned 0\n",
      "1.08 seconds.\n",
      "Child returned 0\n"
     ]
    },
    {
     "name": "stdout",
     "output_type": "stream",
     "text": [
      "rm -rf /shared/CSHL_classifiers/datasets/dataset_61/patch_images_LRt_surround_500_PBG.hdf && mkdir -p /shared/CSHL_classifiers/datasets/dataset_61\n",
      "aws s3 cp s3://mousebrainatlas-data/CSHL_classifiers/datasets/dataset_61/patch_images_LRt_surround_500_PBG.hdf /shared/CSHL_classifiers/datasets/dataset_61/patch_images_LRt_surround_500_PBG.hdf\n"
     ]
    },
    {
     "name": "stderr",
     "output_type": "stream",
     "text": [
      "Child returned 1\n",
      "0.46 seconds.\n",
      "Cannot load dataset images for label LRt_surround_500_PBG: [Errno 2] No such file or directory: '/shared/CSHL_classifiers/datasets/dataset_61/patch_images_LRt_surround_500_PBG.hdf'\n",
      "Child returned 0\n"
     ]
    },
    {
     "name": "stdout",
     "output_type": "stream",
     "text": [
      "rm -rf /shared/CSHL_classifiers/datasets/dataset_61/patch_images_LRt_surround_500_10N.hdf && mkdir -p /shared/CSHL_classifiers/datasets/dataset_61\n",
      "aws s3 cp s3://mousebrainatlas-data/CSHL_classifiers/datasets/dataset_61/patch_images_LRt_surround_500_10N.hdf /shared/CSHL_classifiers/datasets/dataset_61/patch_images_LRt_surround_500_10N.hdf\n"
     ]
    },
    {
     "name": "stderr",
     "output_type": "stream",
     "text": [
      "Child returned 1\n",
      "0.46 seconds.\n",
      "Cannot load dataset images for label LRt_surround_500_10N: [Errno 2] No such file or directory: '/shared/CSHL_classifiers/datasets/dataset_61/patch_images_LRt_surround_500_10N.hdf'\n",
      "Child returned 0\n"
     ]
    },
    {
     "name": "stdout",
     "output_type": "stream",
     "text": [
      "rm -rf /shared/CSHL_classifiers/datasets/dataset_61/patch_images_LRt_surround_500_VCA.hdf && mkdir -p /shared/CSHL_classifiers/datasets/dataset_61\n",
      "aws s3 cp s3://mousebrainatlas-data/CSHL_classifiers/datasets/dataset_61/patch_images_LRt_surround_500_VCA.hdf /shared/CSHL_classifiers/datasets/dataset_61/patch_images_LRt_surround_500_VCA.hdf\n"
     ]
    },
    {
     "name": "stderr",
     "output_type": "stream",
     "text": [
      "Child returned 1\n",
      "0.47 seconds.\n",
      "Cannot load dataset images for label LRt_surround_500_VCA: [Errno 2] No such file or directory: '/shared/CSHL_classifiers/datasets/dataset_61/patch_images_LRt_surround_500_VCA.hdf'\n",
      "Child returned 0\n"
     ]
    },
    {
     "name": "stdout",
     "output_type": "stream",
     "text": [
      "rm -rf /shared/CSHL_classifiers/datasets/dataset_61/patch_images_LRt_surround_500_VCP.hdf && mkdir -p /shared/CSHL_classifiers/datasets/dataset_61\n",
      "aws s3 cp s3://mousebrainatlas-data/CSHL_classifiers/datasets/dataset_61/patch_images_LRt_surround_500_VCP.hdf /shared/CSHL_classifiers/datasets/dataset_61/patch_images_LRt_surround_500_VCP.hdf\n"
     ]
    },
    {
     "name": "stderr",
     "output_type": "stream",
     "text": [
      "Child returned 1\n",
      "0.48 seconds.\n",
      "Cannot load dataset images for label LRt_surround_500_VCP: [Errno 2] No such file or directory: '/shared/CSHL_classifiers/datasets/dataset_61/patch_images_LRt_surround_500_VCP.hdf'\n",
      "Child returned 0\n"
     ]
    },
    {
     "name": "stdout",
     "output_type": "stream",
     "text": [
      "rm -rf /shared/CSHL_classifiers/datasets/dataset_61/patch_images_LRt_surround_500_DC.hdf && mkdir -p /shared/CSHL_classifiers/datasets/dataset_61\n",
      "aws s3 cp s3://mousebrainatlas-data/CSHL_classifiers/datasets/dataset_61/patch_images_LRt_surround_500_DC.hdf /shared/CSHL_classifiers/datasets/dataset_61/patch_images_LRt_surround_500_DC.hdf\n"
     ]
    },
    {
     "name": "stderr",
     "output_type": "stream",
     "text": [
      "Child returned 1\n",
      "0.47 seconds.\n",
      "Cannot load dataset images for label LRt_surround_500_DC: [Errno 2] No such file or directory: '/shared/CSHL_classifiers/datasets/dataset_61/patch_images_LRt_surround_500_DC.hdf'\n",
      "Child returned 0\n"
     ]
    },
    {
     "name": "stdout",
     "output_type": "stream",
     "text": [
      "rm -rf /shared/CSHL_classifiers/datasets/dataset_61/patch_images_LRt_surround_500_AP.hdf && mkdir -p /shared/CSHL_classifiers/datasets/dataset_61\n",
      "aws s3 cp s3://mousebrainatlas-data/CSHL_classifiers/datasets/dataset_61/patch_images_LRt_surround_500_AP.hdf /shared/CSHL_classifiers/datasets/dataset_61/patch_images_LRt_surround_500_AP.hdf\n"
     ]
    },
    {
     "name": "stderr",
     "output_type": "stream",
     "text": [
      "Child returned 1\n",
      "0.58 seconds.\n",
      "Cannot load dataset images for label LRt_surround_500_AP: [Errno 2] No such file or directory: '/shared/CSHL_classifiers/datasets/dataset_61/patch_images_LRt_surround_500_AP.hdf'\n",
      "Child returned 0\n"
     ]
    },
    {
     "name": "stdout",
     "output_type": "stream",
     "text": [
      "rm -rf /shared/CSHL_classifiers/datasets/dataset_61/patch_images_LRt_surround_500_12N.hdf && mkdir -p /shared/CSHL_classifiers/datasets/dataset_61\n",
      "aws s3 cp s3://mousebrainatlas-data/CSHL_classifiers/datasets/dataset_61/patch_images_LRt_surround_500_12N.hdf /shared/CSHL_classifiers/datasets/dataset_61/patch_images_LRt_surround_500_12N.hdf\n"
     ]
    },
    {
     "name": "stderr",
     "output_type": "stream",
     "text": [
      "Child returned 1\n",
      "0.47 seconds.\n",
      "Cannot load dataset images for label LRt_surround_500_12N: [Errno 2] No such file or directory: '/shared/CSHL_classifiers/datasets/dataset_61/patch_images_LRt_surround_500_12N.hdf'\n",
      "Child returned 0\n"
     ]
    },
    {
     "name": "stdout",
     "output_type": "stream",
     "text": [
      "rm -rf /shared/CSHL_classifiers/datasets/dataset_61/patch_images_LRt_surround_500_RtTg.hdf && mkdir -p /shared/CSHL_classifiers/datasets/dataset_61\n",
      "aws s3 cp s3://mousebrainatlas-data/CSHL_classifiers/datasets/dataset_61/patch_images_LRt_surround_500_RtTg.hdf /shared/CSHL_classifiers/datasets/dataset_61/patch_images_LRt_surround_500_RtTg.hdf\n"
     ]
    },
    {
     "name": "stderr",
     "output_type": "stream",
     "text": [
      "Child returned 1\n",
      "0.47 seconds.\n",
      "Cannot load dataset images for label LRt_surround_500_RtTg: [Errno 2] No such file or directory: '/shared/CSHL_classifiers/datasets/dataset_61/patch_images_LRt_surround_500_RtTg.hdf'\n",
      "Child returned 0\n"
     ]
    },
    {
     "name": "stdout",
     "output_type": "stream",
     "text": [
      "rm -rf /shared/CSHL_classifiers/datasets/dataset_61/patch_images_LRt_surround_500_sp5.hdf && mkdir -p /shared/CSHL_classifiers/datasets/dataset_61\n",
      "aws s3 cp s3://mousebrainatlas-data/CSHL_classifiers/datasets/dataset_61/patch_images_LRt_surround_500_sp5.hdf /shared/CSHL_classifiers/datasets/dataset_61/patch_images_LRt_surround_500_sp5.hdf\n"
     ]
    },
    {
     "name": "stderr",
     "output_type": "stream",
     "text": [
      "Child returned 1\n",
      "0.48 seconds.\n",
      "Cannot load dataset images for label LRt_surround_500_sp5: [Errno 2] No such file or directory: '/shared/CSHL_classifiers/datasets/dataset_61/patch_images_LRt_surround_500_sp5.hdf'\n",
      "Child returned 0\n"
     ]
    },
    {
     "name": "stdout",
     "output_type": "stream",
     "text": [
      "rm -rf /shared/CSHL_classifiers/datasets/dataset_61/patch_images_LRt_surround_500_outerContour.hdf && mkdir -p /shared/CSHL_classifiers/datasets/dataset_61\n",
      "aws s3 cp s3://mousebrainatlas-data/CSHL_classifiers/datasets/dataset_61/patch_images_LRt_surround_500_outerContour.hdf /shared/CSHL_classifiers/datasets/dataset_61/patch_images_LRt_surround_500_outerContour.hdf\n"
     ]
    },
    {
     "name": "stderr",
     "output_type": "stream",
     "text": [
      "Child returned 1\n",
      "0.48 seconds.\n",
      "Cannot load dataset images for label LRt_surround_500_outerContour: [Errno 2] No such file or directory: '/shared/CSHL_classifiers/datasets/dataset_61/patch_images_LRt_surround_500_outerContour.hdf'\n",
      "Child returned 0\n"
     ]
    },
    {
     "name": "stdout",
     "output_type": "stream",
     "text": [
      "rm -rf /shared/CSHL_classifiers/datasets/dataset_61/patch_images_LRt_surround_500_SC.hdf && mkdir -p /shared/CSHL_classifiers/datasets/dataset_61\n",
      "aws s3 cp s3://mousebrainatlas-data/CSHL_classifiers/datasets/dataset_61/patch_images_LRt_surround_500_SC.hdf /shared/CSHL_classifiers/datasets/dataset_61/patch_images_LRt_surround_500_SC.hdf\n"
     ]
    },
    {
     "name": "stderr",
     "output_type": "stream",
     "text": [
      "Child returned 1\n",
      "0.48 seconds.\n",
      "Cannot load dataset images for label LRt_surround_500_SC: [Errno 2] No such file or directory: '/shared/CSHL_classifiers/datasets/dataset_61/patch_images_LRt_surround_500_SC.hdf'\n",
      "Child returned 0\n"
     ]
    },
    {
     "name": "stdout",
     "output_type": "stream",
     "text": [
      "rm -rf /shared/CSHL_classifiers/datasets/dataset_61/patch_images_LRt_surround_500_IC.hdf && mkdir -p /shared/CSHL_classifiers/datasets/dataset_61\n",
      "aws s3 cp s3://mousebrainatlas-data/CSHL_classifiers/datasets/dataset_61/patch_images_LRt_surround_500_IC.hdf /shared/CSHL_classifiers/datasets/dataset_61/patch_images_LRt_surround_500_IC.hdf\n"
     ]
    },
    {
     "name": "stderr",
     "output_type": "stream",
     "text": [
      "Child returned 1\n",
      "0.47 seconds.\n",
      "Cannot load dataset images for label LRt_surround_500_IC: [Errno 2] No such file or directory: '/shared/CSHL_classifiers/datasets/dataset_61/patch_images_LRt_surround_500_IC.hdf'\n",
      "Child returned 0\n"
     ]
    },
    {
     "name": "stdout",
     "output_type": "stream",
     "text": [
      "rm -rf /shared/CSHL_classifiers/datasets/dataset_61/patch_images_noclass.hdf && mkdir -p /shared/CSHL_classifiers/datasets/dataset_61\n",
      "aws s3 cp s3://mousebrainatlas-data/CSHL_classifiers/datasets/dataset_61/patch_images_noclass.hdf /shared/CSHL_classifiers/datasets/dataset_61/patch_images_noclass.hdf\n"
     ]
    },
    {
     "name": "stderr",
     "output_type": "stream",
     "text": [
      "Child returned 1\n",
      "0.53 seconds.\n",
      "Cannot load dataset images for label noclass: [Errno 2] No such file or directory: '/shared/CSHL_classifiers/datasets/dataset_61/patch_images_noclass.hdf'\n"
     ]
    },
    {
     "name": "stdout",
     "output_type": "stream",
     "text": [
      "rm -rf /shared/CSHL_classifiers/datasets/dataset_62/patch_images_LRt_surround_500_5N.hdf && mkdir -p /shared/CSHL_classifiers/datasets/dataset_62\n",
      "aws s3 cp s3://mousebrainatlas-data/CSHL_classifiers/datasets/dataset_62/patch_images_LRt_surround_500_5N.hdf /shared/CSHL_classifiers/datasets/dataset_62/patch_images_LRt_surround_500_5N.hdf\n"
     ]
    },
    {
     "name": "stderr",
     "output_type": "stream",
     "text": [
      "Child returned 0\n",
      "Child returned 1\n",
      "0.47 seconds.\n",
      "Cannot load dataset images for label LRt_surround_500_5N: [Errno 2] No such file or directory: '/shared/CSHL_classifiers/datasets/dataset_62/patch_images_LRt_surround_500_5N.hdf'\n",
      "Child returned 0\n"
     ]
    },
    {
     "name": "stdout",
     "output_type": "stream",
     "text": [
      "rm -rf /shared/CSHL_classifiers/datasets/dataset_62/patch_images_LRt_surround_500_6N.hdf && mkdir -p /shared/CSHL_classifiers/datasets/dataset_62\n",
      "aws s3 cp s3://mousebrainatlas-data/CSHL_classifiers/datasets/dataset_62/patch_images_LRt_surround_500_6N.hdf /shared/CSHL_classifiers/datasets/dataset_62/patch_images_LRt_surround_500_6N.hdf\n"
     ]
    },
    {
     "name": "stderr",
     "output_type": "stream",
     "text": [
      "Child returned 1\n",
      "0.47 seconds.\n",
      "Cannot load dataset images for label LRt_surround_500_6N: [Errno 2] No such file or directory: '/shared/CSHL_classifiers/datasets/dataset_62/patch_images_LRt_surround_500_6N.hdf'\n",
      "Child returned 0\n"
     ]
    },
    {
     "name": "stdout",
     "output_type": "stream",
     "text": [
      "rm -rf /shared/CSHL_classifiers/datasets/dataset_62/patch_images_LRt_surround_500_7N.hdf && mkdir -p /shared/CSHL_classifiers/datasets/dataset_62\n",
      "aws s3 cp s3://mousebrainatlas-data/CSHL_classifiers/datasets/dataset_62/patch_images_LRt_surround_500_7N.hdf /shared/CSHL_classifiers/datasets/dataset_62/patch_images_LRt_surround_500_7N.hdf\n"
     ]
    },
    {
     "name": "stderr",
     "output_type": "stream",
     "text": [
      "Child returned 1\n",
      "0.48 seconds.\n",
      "Cannot load dataset images for label LRt_surround_500_7N: [Errno 2] No such file or directory: '/shared/CSHL_classifiers/datasets/dataset_62/patch_images_LRt_surround_500_7N.hdf'\n",
      "Child returned 0\n"
     ]
    },
    {
     "name": "stdout",
     "output_type": "stream",
     "text": [
      "rm -rf /shared/CSHL_classifiers/datasets/dataset_62/patch_images_LRt_surround_500_7n.hdf && mkdir -p /shared/CSHL_classifiers/datasets/dataset_62\n",
      "aws s3 cp s3://mousebrainatlas-data/CSHL_classifiers/datasets/dataset_62/patch_images_LRt_surround_500_7n.hdf /shared/CSHL_classifiers/datasets/dataset_62/patch_images_LRt_surround_500_7n.hdf\n"
     ]
    },
    {
     "name": "stderr",
     "output_type": "stream",
     "text": [
      "Child returned 1\n",
      "0.48 seconds.\n",
      "Cannot load dataset images for label LRt_surround_500_7n: [Errno 2] No such file or directory: '/shared/CSHL_classifiers/datasets/dataset_62/patch_images_LRt_surround_500_7n.hdf'\n",
      "Child returned 0\n"
     ]
    },
    {
     "name": "stdout",
     "output_type": "stream",
     "text": [
      "rm -rf /shared/CSHL_classifiers/datasets/dataset_62/patch_images_LRt_surround_500_Amb.hdf && mkdir -p /shared/CSHL_classifiers/datasets/dataset_62\n",
      "aws s3 cp s3://mousebrainatlas-data/CSHL_classifiers/datasets/dataset_62/patch_images_LRt_surround_500_Amb.hdf /shared/CSHL_classifiers/datasets/dataset_62/patch_images_LRt_surround_500_Amb.hdf\n"
     ]
    },
    {
     "name": "stderr",
     "output_type": "stream",
     "text": [
      "Child returned 0\n",
      "1.60 seconds.\n",
      "Child returned 0\n"
     ]
    },
    {
     "name": "stdout",
     "output_type": "stream",
     "text": [
      "rm -rf /shared/CSHL_classifiers/datasets/dataset_62/patch_images_LRt_surround_500_LC.hdf && mkdir -p /shared/CSHL_classifiers/datasets/dataset_62\n",
      "aws s3 cp s3://mousebrainatlas-data/CSHL_classifiers/datasets/dataset_62/patch_images_LRt_surround_500_LC.hdf /shared/CSHL_classifiers/datasets/dataset_62/patch_images_LRt_surround_500_LC.hdf\n"
     ]
    },
    {
     "name": "stderr",
     "output_type": "stream",
     "text": [
      "Child returned 1\n",
      "0.48 seconds.\n",
      "Cannot load dataset images for label LRt_surround_500_LC: [Errno 2] No such file or directory: '/shared/CSHL_classifiers/datasets/dataset_62/patch_images_LRt_surround_500_LC.hdf'\n",
      "Child returned 0\n"
     ]
    },
    {
     "name": "stdout",
     "output_type": "stream",
     "text": [
      "rm -rf /shared/CSHL_classifiers/datasets/dataset_62/patch_images_LRt_surround_500_Pn.hdf && mkdir -p /shared/CSHL_classifiers/datasets/dataset_62\n",
      "aws s3 cp s3://mousebrainatlas-data/CSHL_classifiers/datasets/dataset_62/patch_images_LRt_surround_500_Pn.hdf /shared/CSHL_classifiers/datasets/dataset_62/patch_images_LRt_surround_500_Pn.hdf\n"
     ]
    },
    {
     "name": "stderr",
     "output_type": "stream",
     "text": [
      "Child returned 1\n",
      "0.47 seconds.\n",
      "Cannot load dataset images for label LRt_surround_500_Pn: [Errno 2] No such file or directory: '/shared/CSHL_classifiers/datasets/dataset_62/patch_images_LRt_surround_500_Pn.hdf'\n",
      "Child returned 0\n"
     ]
    },
    {
     "name": "stdout",
     "output_type": "stream",
     "text": [
      "rm -rf /shared/CSHL_classifiers/datasets/dataset_62/patch_images_LRt_surround_500_Tz.hdf && mkdir -p /shared/CSHL_classifiers/datasets/dataset_62\n",
      "aws s3 cp s3://mousebrainatlas-data/CSHL_classifiers/datasets/dataset_62/patch_images_LRt_surround_500_Tz.hdf /shared/CSHL_classifiers/datasets/dataset_62/patch_images_LRt_surround_500_Tz.hdf\n"
     ]
    },
    {
     "name": "stderr",
     "output_type": "stream",
     "text": [
      "Child returned 1\n",
      "0.46 seconds.\n",
      "Cannot load dataset images for label LRt_surround_500_Tz: [Errno 2] No such file or directory: '/shared/CSHL_classifiers/datasets/dataset_62/patch_images_LRt_surround_500_Tz.hdf'\n",
      "Child returned 0\n"
     ]
    },
    {
     "name": "stdout",
     "output_type": "stream",
     "text": [
      "rm -rf /shared/CSHL_classifiers/datasets/dataset_62/patch_images_LRt_surround_500_VLL.hdf && mkdir -p /shared/CSHL_classifiers/datasets/dataset_62\n",
      "aws s3 cp s3://mousebrainatlas-data/CSHL_classifiers/datasets/dataset_62/patch_images_LRt_surround_500_VLL.hdf /shared/CSHL_classifiers/datasets/dataset_62/patch_images_LRt_surround_500_VLL.hdf\n"
     ]
    },
    {
     "name": "stderr",
     "output_type": "stream",
     "text": [
      "Child returned 1\n",
      "0.50 seconds.\n",
      "Cannot load dataset images for label LRt_surround_500_VLL: [Errno 2] No such file or directory: '/shared/CSHL_classifiers/datasets/dataset_62/patch_images_LRt_surround_500_VLL.hdf'\n",
      "Child returned 0\n"
     ]
    },
    {
     "name": "stdout",
     "output_type": "stream",
     "text": [
      "rm -rf /shared/CSHL_classifiers/datasets/dataset_62/patch_images_LRt_surround_500_RMC.hdf && mkdir -p /shared/CSHL_classifiers/datasets/dataset_62\n",
      "aws s3 cp s3://mousebrainatlas-data/CSHL_classifiers/datasets/dataset_62/patch_images_LRt_surround_500_RMC.hdf /shared/CSHL_classifiers/datasets/dataset_62/patch_images_LRt_surround_500_RMC.hdf\n"
     ]
    },
    {
     "name": "stderr",
     "output_type": "stream",
     "text": [
      "Child returned 1\n",
      "0.47 seconds.\n",
      "Cannot load dataset images for label LRt_surround_500_RMC: [Errno 2] No such file or directory: '/shared/CSHL_classifiers/datasets/dataset_62/patch_images_LRt_surround_500_RMC.hdf'\n",
      "Child returned 0\n"
     ]
    },
    {
     "name": "stdout",
     "output_type": "stream",
     "text": [
      "rm -rf /shared/CSHL_classifiers/datasets/dataset_62/patch_images_LRt_surround_500_SNC.hdf && mkdir -p /shared/CSHL_classifiers/datasets/dataset_62\n",
      "aws s3 cp s3://mousebrainatlas-data/CSHL_classifiers/datasets/dataset_62/patch_images_LRt_surround_500_SNC.hdf /shared/CSHL_classifiers/datasets/dataset_62/patch_images_LRt_surround_500_SNC.hdf\n"
     ]
    },
    {
     "name": "stderr",
     "output_type": "stream",
     "text": [
      "Child returned 1\n",
      "0.47 seconds.\n",
      "Cannot load dataset images for label LRt_surround_500_SNC: [Errno 2] No such file or directory: '/shared/CSHL_classifiers/datasets/dataset_62/patch_images_LRt_surround_500_SNC.hdf'\n",
      "Child returned 0\n"
     ]
    },
    {
     "name": "stdout",
     "output_type": "stream",
     "text": [
      "rm -rf /shared/CSHL_classifiers/datasets/dataset_62/patch_images_LRt_surround_500_SNR.hdf && mkdir -p /shared/CSHL_classifiers/datasets/dataset_62\n",
      "aws s3 cp s3://mousebrainatlas-data/CSHL_classifiers/datasets/dataset_62/patch_images_LRt_surround_500_SNR.hdf /shared/CSHL_classifiers/datasets/dataset_62/patch_images_LRt_surround_500_SNR.hdf\n"
     ]
    },
    {
     "name": "stderr",
     "output_type": "stream",
     "text": [
      "Child returned 1\n",
      "0.47 seconds.\n",
      "Cannot load dataset images for label LRt_surround_500_SNR: [Errno 2] No such file or directory: '/shared/CSHL_classifiers/datasets/dataset_62/patch_images_LRt_surround_500_SNR.hdf'\n",
      "Child returned 0\n"
     ]
    },
    {
     "name": "stdout",
     "output_type": "stream",
     "text": [
      "rm -rf /shared/CSHL_classifiers/datasets/dataset_62/patch_images_LRt_surround_500_3N.hdf && mkdir -p /shared/CSHL_classifiers/datasets/dataset_62\n",
      "aws s3 cp s3://mousebrainatlas-data/CSHL_classifiers/datasets/dataset_62/patch_images_LRt_surround_500_3N.hdf /shared/CSHL_classifiers/datasets/dataset_62/patch_images_LRt_surround_500_3N.hdf\n"
     ]
    },
    {
     "name": "stderr",
     "output_type": "stream",
     "text": [
      "Child returned 1\n",
      "0.48 seconds.\n",
      "Cannot load dataset images for label LRt_surround_500_3N: [Errno 2] No such file or directory: '/shared/CSHL_classifiers/datasets/dataset_62/patch_images_LRt_surround_500_3N.hdf'\n",
      "Child returned 0\n"
     ]
    },
    {
     "name": "stdout",
     "output_type": "stream",
     "text": [
      "rm -rf /shared/CSHL_classifiers/datasets/dataset_62/patch_images_LRt_surround_500_4N.hdf && mkdir -p /shared/CSHL_classifiers/datasets/dataset_62\n",
      "aws s3 cp s3://mousebrainatlas-data/CSHL_classifiers/datasets/dataset_62/patch_images_LRt_surround_500_4N.hdf /shared/CSHL_classifiers/datasets/dataset_62/patch_images_LRt_surround_500_4N.hdf\n"
     ]
    },
    {
     "name": "stderr",
     "output_type": "stream",
     "text": [
      "Child returned 1\n",
      "0.47 seconds.\n",
      "Cannot load dataset images for label LRt_surround_500_4N: [Errno 2] No such file or directory: '/shared/CSHL_classifiers/datasets/dataset_62/patch_images_LRt_surround_500_4N.hdf'\n",
      "Child returned 0\n"
     ]
    },
    {
     "name": "stdout",
     "output_type": "stream",
     "text": [
      "rm -rf /shared/CSHL_classifiers/datasets/dataset_62/patch_images_LRt_surround_500_Sp5I.hdf && mkdir -p /shared/CSHL_classifiers/datasets/dataset_62\n",
      "aws s3 cp s3://mousebrainatlas-data/CSHL_classifiers/datasets/dataset_62/patch_images_LRt_surround_500_Sp5I.hdf /shared/CSHL_classifiers/datasets/dataset_62/patch_images_LRt_surround_500_Sp5I.hdf\n"
     ]
    },
    {
     "name": "stderr",
     "output_type": "stream",
     "text": [
      "Child returned 1\n",
      "0.47 seconds.\n",
      "Cannot load dataset images for label LRt_surround_500_Sp5I: [Errno 2] No such file or directory: '/shared/CSHL_classifiers/datasets/dataset_62/patch_images_LRt_surround_500_Sp5I.hdf'\n",
      "Child returned 0\n"
     ]
    },
    {
     "name": "stdout",
     "output_type": "stream",
     "text": [
      "rm -rf /shared/CSHL_classifiers/datasets/dataset_62/patch_images_LRt_surround_500_Sp5O.hdf && mkdir -p /shared/CSHL_classifiers/datasets/dataset_62\n",
      "aws s3 cp s3://mousebrainatlas-data/CSHL_classifiers/datasets/dataset_62/patch_images_LRt_surround_500_Sp5O.hdf /shared/CSHL_classifiers/datasets/dataset_62/patch_images_LRt_surround_500_Sp5O.hdf\n"
     ]
    },
    {
     "name": "stderr",
     "output_type": "stream",
     "text": [
      "Child returned 1\n",
      "0.47 seconds.\n",
      "Cannot load dataset images for label LRt_surround_500_Sp5O: [Errno 2] No such file or directory: '/shared/CSHL_classifiers/datasets/dataset_62/patch_images_LRt_surround_500_Sp5O.hdf'\n",
      "Child returned 0\n"
     ]
    },
    {
     "name": "stdout",
     "output_type": "stream",
     "text": [
      "rm -rf /shared/CSHL_classifiers/datasets/dataset_62/patch_images_LRt_surround_500_Sp5C.hdf && mkdir -p /shared/CSHL_classifiers/datasets/dataset_62\n",
      "aws s3 cp s3://mousebrainatlas-data/CSHL_classifiers/datasets/dataset_62/patch_images_LRt_surround_500_Sp5C.hdf /shared/CSHL_classifiers/datasets/dataset_62/patch_images_LRt_surround_500_Sp5C.hdf\n"
     ]
    },
    {
     "name": "stderr",
     "output_type": "stream",
     "text": [
      "Child returned 1\n",
      "0.47 seconds.\n",
      "Cannot load dataset images for label LRt_surround_500_Sp5C: [Errno 2] No such file or directory: '/shared/CSHL_classifiers/datasets/dataset_62/patch_images_LRt_surround_500_Sp5C.hdf'\n",
      "Child returned 0\n"
     ]
    },
    {
     "name": "stdout",
     "output_type": "stream",
     "text": [
      "rm -rf /shared/CSHL_classifiers/datasets/dataset_62/patch_images_LRt_surround_500_PBG.hdf && mkdir -p /shared/CSHL_classifiers/datasets/dataset_62\n",
      "aws s3 cp s3://mousebrainatlas-data/CSHL_classifiers/datasets/dataset_62/patch_images_LRt_surround_500_PBG.hdf /shared/CSHL_classifiers/datasets/dataset_62/patch_images_LRt_surround_500_PBG.hdf\n"
     ]
    },
    {
     "name": "stderr",
     "output_type": "stream",
     "text": [
      "Child returned 1\n",
      "0.56 seconds.\n",
      "Cannot load dataset images for label LRt_surround_500_PBG: [Errno 2] No such file or directory: '/shared/CSHL_classifiers/datasets/dataset_62/patch_images_LRt_surround_500_PBG.hdf'\n",
      "Child returned 0\n"
     ]
    },
    {
     "name": "stdout",
     "output_type": "stream",
     "text": [
      "rm -rf /shared/CSHL_classifiers/datasets/dataset_62/patch_images_LRt_surround_500_10N.hdf && mkdir -p /shared/CSHL_classifiers/datasets/dataset_62\n",
      "aws s3 cp s3://mousebrainatlas-data/CSHL_classifiers/datasets/dataset_62/patch_images_LRt_surround_500_10N.hdf /shared/CSHL_classifiers/datasets/dataset_62/patch_images_LRt_surround_500_10N.hdf\n"
     ]
    },
    {
     "name": "stderr",
     "output_type": "stream",
     "text": [
      "Child returned 1\n",
      "0.48 seconds.\n",
      "Cannot load dataset images for label LRt_surround_500_10N: [Errno 2] No such file or directory: '/shared/CSHL_classifiers/datasets/dataset_62/patch_images_LRt_surround_500_10N.hdf'\n",
      "Child returned 0\n"
     ]
    },
    {
     "name": "stdout",
     "output_type": "stream",
     "text": [
      "rm -rf /shared/CSHL_classifiers/datasets/dataset_62/patch_images_LRt_surround_500_VCA.hdf && mkdir -p /shared/CSHL_classifiers/datasets/dataset_62\n",
      "aws s3 cp s3://mousebrainatlas-data/CSHL_classifiers/datasets/dataset_62/patch_images_LRt_surround_500_VCA.hdf /shared/CSHL_classifiers/datasets/dataset_62/patch_images_LRt_surround_500_VCA.hdf\n"
     ]
    },
    {
     "name": "stderr",
     "output_type": "stream",
     "text": [
      "Child returned 1\n",
      "0.49 seconds.\n",
      "Cannot load dataset images for label LRt_surround_500_VCA: [Errno 2] No such file or directory: '/shared/CSHL_classifiers/datasets/dataset_62/patch_images_LRt_surround_500_VCA.hdf'\n",
      "Child returned 0\n"
     ]
    },
    {
     "name": "stdout",
     "output_type": "stream",
     "text": [
      "rm -rf /shared/CSHL_classifiers/datasets/dataset_62/patch_images_LRt_surround_500_VCP.hdf && mkdir -p /shared/CSHL_classifiers/datasets/dataset_62\n",
      "aws s3 cp s3://mousebrainatlas-data/CSHL_classifiers/datasets/dataset_62/patch_images_LRt_surround_500_VCP.hdf /shared/CSHL_classifiers/datasets/dataset_62/patch_images_LRt_surround_500_VCP.hdf\n"
     ]
    },
    {
     "name": "stderr",
     "output_type": "stream",
     "text": [
      "Child returned 1\n",
      "0.47 seconds.\n",
      "Cannot load dataset images for label LRt_surround_500_VCP: [Errno 2] No such file or directory: '/shared/CSHL_classifiers/datasets/dataset_62/patch_images_LRt_surround_500_VCP.hdf'\n",
      "Child returned 0\n"
     ]
    },
    {
     "name": "stdout",
     "output_type": "stream",
     "text": [
      "rm -rf /shared/CSHL_classifiers/datasets/dataset_62/patch_images_LRt_surround_500_DC.hdf && mkdir -p /shared/CSHL_classifiers/datasets/dataset_62\n",
      "aws s3 cp s3://mousebrainatlas-data/CSHL_classifiers/datasets/dataset_62/patch_images_LRt_surround_500_DC.hdf /shared/CSHL_classifiers/datasets/dataset_62/patch_images_LRt_surround_500_DC.hdf\n"
     ]
    },
    {
     "name": "stderr",
     "output_type": "stream",
     "text": [
      "Child returned 1\n",
      "0.48 seconds.\n",
      "Cannot load dataset images for label LRt_surround_500_DC: [Errno 2] No such file or directory: '/shared/CSHL_classifiers/datasets/dataset_62/patch_images_LRt_surround_500_DC.hdf'\n",
      "Child returned 0\n"
     ]
    },
    {
     "name": "stdout",
     "output_type": "stream",
     "text": [
      "rm -rf /shared/CSHL_classifiers/datasets/dataset_62/patch_images_LRt_surround_500_AP.hdf && mkdir -p /shared/CSHL_classifiers/datasets/dataset_62\n",
      "aws s3 cp s3://mousebrainatlas-data/CSHL_classifiers/datasets/dataset_62/patch_images_LRt_surround_500_AP.hdf /shared/CSHL_classifiers/datasets/dataset_62/patch_images_LRt_surround_500_AP.hdf\n"
     ]
    },
    {
     "name": "stderr",
     "output_type": "stream",
     "text": [
      "Child returned 1\n",
      "0.48 seconds.\n",
      "Cannot load dataset images for label LRt_surround_500_AP: [Errno 2] No such file or directory: '/shared/CSHL_classifiers/datasets/dataset_62/patch_images_LRt_surround_500_AP.hdf'\n",
      "Child returned 0\n"
     ]
    },
    {
     "name": "stdout",
     "output_type": "stream",
     "text": [
      "rm -rf /shared/CSHL_classifiers/datasets/dataset_62/patch_images_LRt_surround_500_12N.hdf && mkdir -p /shared/CSHL_classifiers/datasets/dataset_62\n",
      "aws s3 cp s3://mousebrainatlas-data/CSHL_classifiers/datasets/dataset_62/patch_images_LRt_surround_500_12N.hdf /shared/CSHL_classifiers/datasets/dataset_62/patch_images_LRt_surround_500_12N.hdf\n"
     ]
    },
    {
     "name": "stderr",
     "output_type": "stream",
     "text": [
      "Child returned 1\n",
      "0.47 seconds.\n",
      "Cannot load dataset images for label LRt_surround_500_12N: [Errno 2] No such file or directory: '/shared/CSHL_classifiers/datasets/dataset_62/patch_images_LRt_surround_500_12N.hdf'\n",
      "Child returned 0\n"
     ]
    },
    {
     "name": "stdout",
     "output_type": "stream",
     "text": [
      "rm -rf /shared/CSHL_classifiers/datasets/dataset_62/patch_images_LRt_surround_500_RtTg.hdf && mkdir -p /shared/CSHL_classifiers/datasets/dataset_62\n",
      "aws s3 cp s3://mousebrainatlas-data/CSHL_classifiers/datasets/dataset_62/patch_images_LRt_surround_500_RtTg.hdf /shared/CSHL_classifiers/datasets/dataset_62/patch_images_LRt_surround_500_RtTg.hdf\n"
     ]
    },
    {
     "name": "stderr",
     "output_type": "stream",
     "text": [
      "Child returned 1\n",
      "0.47 seconds.\n",
      "Cannot load dataset images for label LRt_surround_500_RtTg: [Errno 2] No such file or directory: '/shared/CSHL_classifiers/datasets/dataset_62/patch_images_LRt_surround_500_RtTg.hdf'\n",
      "Child returned 0\n"
     ]
    },
    {
     "name": "stdout",
     "output_type": "stream",
     "text": [
      "rm -rf /shared/CSHL_classifiers/datasets/dataset_62/patch_images_LRt_surround_500_sp5.hdf && mkdir -p /shared/CSHL_classifiers/datasets/dataset_62\n",
      "aws s3 cp s3://mousebrainatlas-data/CSHL_classifiers/datasets/dataset_62/patch_images_LRt_surround_500_sp5.hdf /shared/CSHL_classifiers/datasets/dataset_62/patch_images_LRt_surround_500_sp5.hdf\n"
     ]
    },
    {
     "name": "stderr",
     "output_type": "stream",
     "text": [
      "Child returned 1\n",
      "0.46 seconds.\n",
      "Cannot load dataset images for label LRt_surround_500_sp5: [Errno 2] No such file or directory: '/shared/CSHL_classifiers/datasets/dataset_62/patch_images_LRt_surround_500_sp5.hdf'\n",
      "Child returned 0\n"
     ]
    },
    {
     "name": "stdout",
     "output_type": "stream",
     "text": [
      "rm -rf /shared/CSHL_classifiers/datasets/dataset_62/patch_images_LRt_surround_500_outerContour.hdf && mkdir -p /shared/CSHL_classifiers/datasets/dataset_62\n",
      "aws s3 cp s3://mousebrainatlas-data/CSHL_classifiers/datasets/dataset_62/patch_images_LRt_surround_500_outerContour.hdf /shared/CSHL_classifiers/datasets/dataset_62/patch_images_LRt_surround_500_outerContour.hdf\n"
     ]
    },
    {
     "name": "stderr",
     "output_type": "stream",
     "text": [
      "Child returned 1\n",
      "0.47 seconds.\n",
      "Cannot load dataset images for label LRt_surround_500_outerContour: [Errno 2] No such file or directory: '/shared/CSHL_classifiers/datasets/dataset_62/patch_images_LRt_surround_500_outerContour.hdf'\n",
      "Child returned 0\n"
     ]
    },
    {
     "name": "stdout",
     "output_type": "stream",
     "text": [
      "rm -rf /shared/CSHL_classifiers/datasets/dataset_62/patch_images_LRt_surround_500_SC.hdf && mkdir -p /shared/CSHL_classifiers/datasets/dataset_62\n",
      "aws s3 cp s3://mousebrainatlas-data/CSHL_classifiers/datasets/dataset_62/patch_images_LRt_surround_500_SC.hdf /shared/CSHL_classifiers/datasets/dataset_62/patch_images_LRt_surround_500_SC.hdf\n"
     ]
    },
    {
     "name": "stderr",
     "output_type": "stream",
     "text": [
      "Child returned 1\n",
      "0.48 seconds.\n",
      "Cannot load dataset images for label LRt_surround_500_SC: [Errno 2] No such file or directory: '/shared/CSHL_classifiers/datasets/dataset_62/patch_images_LRt_surround_500_SC.hdf'\n",
      "Child returned 0\n"
     ]
    },
    {
     "name": "stdout",
     "output_type": "stream",
     "text": [
      "rm -rf /shared/CSHL_classifiers/datasets/dataset_62/patch_images_LRt_surround_500_IC.hdf && mkdir -p /shared/CSHL_classifiers/datasets/dataset_62\n",
      "aws s3 cp s3://mousebrainatlas-data/CSHL_classifiers/datasets/dataset_62/patch_images_LRt_surround_500_IC.hdf /shared/CSHL_classifiers/datasets/dataset_62/patch_images_LRt_surround_500_IC.hdf\n"
     ]
    },
    {
     "name": "stderr",
     "output_type": "stream",
     "text": [
      "Child returned 1\n",
      "0.48 seconds.\n",
      "Cannot load dataset images for label LRt_surround_500_IC: [Errno 2] No such file or directory: '/shared/CSHL_classifiers/datasets/dataset_62/patch_images_LRt_surround_500_IC.hdf'\n",
      "Child returned 0\n"
     ]
    },
    {
     "name": "stdout",
     "output_type": "stream",
     "text": [
      "rm -rf /shared/CSHL_classifiers/datasets/dataset_62/patch_images_noclass.hdf && mkdir -p /shared/CSHL_classifiers/datasets/dataset_62\n",
      "aws s3 cp s3://mousebrainatlas-data/CSHL_classifiers/datasets/dataset_62/patch_images_noclass.hdf /shared/CSHL_classifiers/datasets/dataset_62/patch_images_noclass.hdf\n"
     ]
    },
    {
     "name": "stderr",
     "output_type": "stream",
     "text": [
      "Child returned 1\n",
      "0.46 seconds.\n",
      "Cannot load dataset images for label noclass: [Errno 2] No such file or directory: '/shared/CSHL_classifiers/datasets/dataset_62/patch_images_noclass.hdf'\n",
      "2017-06-12 07:40:01,640 Epoch[0] Batch [10]\tSpeed: 68.67 samples/sec\taccuracy=0.590909\n",
      "2017-06-12 07:40:03,919 Epoch[0] Batch [20]\tSpeed: 70.26 samples/sec\taccuracy=0.625000\n",
      "2017-06-12 07:40:06,196 Epoch[0] Batch [30]\tSpeed: 70.30 samples/sec\taccuracy=0.662500\n",
      "2017-06-12 07:40:08,478 Epoch[0] Batch [40]\tSpeed: 70.22 samples/sec\taccuracy=0.718750\n",
      "2017-06-12 07:40:10,753 Epoch[0] Batch [50]\tSpeed: 70.35 samples/sec\taccuracy=0.756250\n",
      "2017-06-12 07:40:13,029 Epoch[0] Batch [60]\tSpeed: 70.36 samples/sec\taccuracy=0.775000\n",
      "2017-06-12 07:40:15,300 Epoch[0] Batch [70]\tSpeed: 70.48 samples/sec\taccuracy=0.818750\n",
      "2017-06-12 07:40:17,577 Epoch[0] Batch [80]\tSpeed: 70.32 samples/sec\taccuracy=0.787500\n",
      "2017-06-12 07:40:19,856 Epoch[0] Batch [90]\tSpeed: 70.29 samples/sec\taccuracy=0.743750\n",
      "2017-06-12 07:40:22,136 Epoch[0] Batch [100]\tSpeed: 70.21 samples/sec\taccuracy=0.812500\n",
      "2017-06-12 07:40:24,416 Epoch[0] Batch [110]\tSpeed: 70.23 samples/sec\taccuracy=0.831250\n",
      "2017-06-12 07:40:26,698 Epoch[0] Batch [120]\tSpeed: 70.15 samples/sec\taccuracy=0.743750\n",
      "2017-06-12 07:40:28,981 Epoch[0] Batch [130]\tSpeed: 70.12 samples/sec\taccuracy=0.831250\n",
      "2017-06-12 07:40:31,272 Epoch[0] Batch [140]\tSpeed: 69.87 samples/sec\taccuracy=0.837500\n",
      "2017-06-12 07:40:33,556 Epoch[0] Batch [150]\tSpeed: 70.10 samples/sec\taccuracy=0.837500\n",
      "2017-06-12 07:40:35,843 Epoch[0] Batch [160]\tSpeed: 69.99 samples/sec\taccuracy=0.812500\n",
      "2017-06-12 07:40:38,138 Epoch[0] Batch [170]\tSpeed: 69.76 samples/sec\taccuracy=0.800000\n",
      "2017-06-12 07:40:40,429 Epoch[0] Batch [180]\tSpeed: 69.87 samples/sec\taccuracy=0.781250\n",
      "2017-06-12 07:40:42,725 Epoch[0] Batch [190]\tSpeed: 69.70 samples/sec\taccuracy=0.856250\n",
      "2017-06-12 07:40:45,021 Epoch[0] Batch [200]\tSpeed: 69.73 samples/sec\taccuracy=0.750000\n",
      "2017-06-12 07:40:47,314 Epoch[0] Batch [210]\tSpeed: 69.87 samples/sec\taccuracy=0.775000\n",
      "2017-06-12 07:40:49,613 Epoch[0] Batch [220]\tSpeed: 69.62 samples/sec\taccuracy=0.793750\n",
      "2017-06-12 07:40:51,910 Epoch[0] Batch [230]\tSpeed: 69.75 samples/sec\taccuracy=0.787500\n",
      "2017-06-12 07:40:54,206 Epoch[0] Batch [240]\tSpeed: 69.73 samples/sec\taccuracy=0.800000\n",
      "2017-06-12 07:40:56,277 Epoch[0] Train-accuracy=0.861111\n",
      "2017-06-12 07:40:56,278 Epoch[0] Time cost=57.066\n",
      "2017-06-12 07:40:56,474 Saved checkpoint to \"/shared/mxnet_models/inception-bn-blue-softmax/inception-bn-blue-softmax_LRt-0000.params\"\n"
     ]
    },
    {
     "name": "stdout",
     "output_type": "stream",
     "text": [
      "aws s3 cp /shared/mxnet_models/inception-bn-blue-softmax/inception-bn-blue-softmax_LRt-symbol.json s3://mousebrainatlas-data/mxnet_models/inception-bn-blue-softmax/inception-bn-blue-softmax_LRt-symbol.json\n"
     ]
    },
    {
     "name": "stderr",
     "output_type": "stream",
     "text": [
      "Child returned 0\n",
      "0.71 seconds.\n"
     ]
    },
    {
     "name": "stdout",
     "output_type": "stream",
     "text": [
      "aws s3 cp /shared/mxnet_models/inception-bn-blue-softmax/inception-bn-blue-softmax_LRt-0000.params s3://mousebrainatlas-data/mxnet_models/inception-bn-blue-softmax/inception-bn-blue-softmax_LRt-0000.params\n"
     ]
    },
    {
     "name": "stderr",
     "output_type": "stream",
     "text": [
      "Child returned 0\n",
      "2.08 seconds.\n",
      "2017-06-12 07:41:08,329 Epoch[0] Validation-accuracy=0.742000\n",
      "2017-06-12 07:41:10,706 Epoch[1] Batch [10]\tSpeed: 69.60 samples/sec\taccuracy=0.846591\n",
      "2017-06-12 07:41:13,008 Epoch[1] Batch [20]\tSpeed: 69.55 samples/sec\taccuracy=0.843750\n",
      "2017-06-12 07:41:15,314 Epoch[1] Batch [30]\tSpeed: 69.41 samples/sec\taccuracy=0.862500\n",
      "2017-06-12 07:41:17,615 Epoch[1] Batch [40]\tSpeed: 69.56 samples/sec\taccuracy=0.837500\n",
      "2017-06-12 07:41:19,909 Epoch[1] Batch [50]\tSpeed: 69.79 samples/sec\taccuracy=0.831250\n",
      "2017-06-12 07:41:22,208 Epoch[1] Batch [60]\tSpeed: 69.65 samples/sec\taccuracy=0.850000\n",
      "2017-06-12 07:41:24,517 Epoch[1] Batch [70]\tSpeed: 69.31 samples/sec\taccuracy=0.906250\n",
      "2017-06-12 07:41:26,831 Epoch[1] Batch [80]\tSpeed: 69.19 samples/sec\taccuracy=0.900000\n",
      "2017-06-12 07:41:29,137 Epoch[1] Batch [90]\tSpeed: 69.40 samples/sec\taccuracy=0.837500\n",
      "2017-06-12 07:41:31,440 Epoch[1] Batch [100]\tSpeed: 69.52 samples/sec\taccuracy=0.856250\n",
      "2017-06-12 07:41:33,738 Epoch[1] Batch [110]\tSpeed: 69.66 samples/sec\taccuracy=0.875000\n",
      "2017-06-12 07:41:36,045 Epoch[1] Batch [120]\tSpeed: 69.40 samples/sec\taccuracy=0.793750\n",
      "2017-06-12 07:41:38,347 Epoch[1] Batch [130]\tSpeed: 69.53 samples/sec\taccuracy=0.875000\n",
      "2017-06-12 07:41:40,648 Epoch[1] Batch [140]\tSpeed: 69.56 samples/sec\taccuracy=0.875000\n",
      "2017-06-12 07:41:42,958 Epoch[1] Batch [150]\tSpeed: 69.33 samples/sec\taccuracy=0.893750\n",
      "2017-06-12 07:41:45,259 Epoch[1] Batch [160]\tSpeed: 69.56 samples/sec\taccuracy=0.825000\n",
      "2017-06-12 07:41:47,566 Epoch[1] Batch [170]\tSpeed: 69.37 samples/sec\taccuracy=0.893750\n",
      "2017-06-12 07:41:49,870 Epoch[1] Batch [180]\tSpeed: 69.50 samples/sec\taccuracy=0.837500\n",
      "2017-06-12 07:41:52,179 Epoch[1] Batch [190]\tSpeed: 69.32 samples/sec\taccuracy=0.881250\n",
      "2017-06-12 07:41:54,480 Epoch[1] Batch [200]\tSpeed: 69.59 samples/sec\taccuracy=0.806250\n",
      "2017-06-12 07:41:56,783 Epoch[1] Batch [210]\tSpeed: 69.51 samples/sec\taccuracy=0.837500\n",
      "2017-06-12 07:41:59,091 Epoch[1] Batch [220]\tSpeed: 69.35 samples/sec\taccuracy=0.831250\n"
     ]
    },
    {
     "ename": "KeyboardInterrupt",
     "evalue": "",
     "output_type": "error",
     "traceback": [
      "\u001b[0;31m---------------------------------------------------------------------------\u001b[0m",
      "\u001b[0;31mKeyboardInterrupt\u001b[0m                         Traceback (most recent call last)",
      "\u001b[0;32m<ipython-input-70-ca491a18c633>\u001b[0m in \u001b[0;36m<module>\u001b[0;34m()\u001b[0m\n\u001b[1;32m    118\u001b[0m     \u001b[0mprefix\u001b[0m \u001b[0;34m=\u001b[0m \u001b[0mos\u001b[0m\u001b[0;34m.\u001b[0m\u001b[0mpath\u001b[0m\u001b[0;34m.\u001b[0m\u001b[0mjoin\u001b[0m\u001b[0;34m(\u001b[0m\u001b[0mMXNET_MODEL_ROOTDIR\u001b[0m\u001b[0;34m,\u001b[0m \u001b[0mmodel_dir_name\u001b[0m\u001b[0;34m,\u001b[0m \u001b[0mmodel_name\u001b[0m \u001b[0;34m+\u001b[0m \u001b[0;34m'_'\u001b[0m \u001b[0;34m+\u001b[0m \u001b[0mstructure\u001b[0m\u001b[0;34m)\u001b[0m\u001b[0;34m\u001b[0m\u001b[0m\n\u001b[1;32m    119\u001b[0m     mod_score = fit(new_sym, new_args, aux_params, train_data_iter, test_data_iter, \n\u001b[0;32m--> 120\u001b[0;31m                     batch_size, num_gpus, num_epoch=10, epoch_end_callback=my_epoch_end_callback(prefix))\n\u001b[0m\u001b[1;32m    121\u001b[0m \u001b[0;31m#     clf.fit(train_data, train_labels, sample_weight=sample_weights)\u001b[0m\u001b[0;34m\u001b[0m\u001b[0;34m\u001b[0m\u001b[0m\n\u001b[1;32m    122\u001b[0m     \u001b[0msys\u001b[0m\u001b[0;34m.\u001b[0m\u001b[0mstderr\u001b[0m\u001b[0;34m.\u001b[0m\u001b[0mwrite\u001b[0m\u001b[0;34m(\u001b[0m\u001b[0;34m'Fitting classifier: %.2f seconds\\n'\u001b[0m \u001b[0;34m%\u001b[0m \u001b[0;34m(\u001b[0m\u001b[0mtime\u001b[0m\u001b[0;34m.\u001b[0m\u001b[0mtime\u001b[0m\u001b[0;34m(\u001b[0m\u001b[0;34m)\u001b[0m \u001b[0;34m-\u001b[0m \u001b[0mt\u001b[0m\u001b[0;34m)\u001b[0m\u001b[0;34m)\u001b[0m\u001b[0;34m\u001b[0m\u001b[0m\n",
      "\u001b[0;32m<ipython-input-46-29d71c2ca6a8>\u001b[0m in \u001b[0;36mfit\u001b[0;34m(symbol, arg_params, aux_params, train, val, batch_size, num_gpus, num_epoch, epoch_end_callback)\u001b[0m\n\u001b[1;32m     17\u001b[0m         \u001b[0minitializer\u001b[0m\u001b[0;34m=\u001b[0m\u001b[0mmx\u001b[0m\u001b[0;34m.\u001b[0m\u001b[0minit\u001b[0m\u001b[0;34m.\u001b[0m\u001b[0mXavier\u001b[0m\u001b[0;34m(\u001b[0m\u001b[0mrnd_type\u001b[0m\u001b[0;34m=\u001b[0m\u001b[0;34m'gaussian'\u001b[0m\u001b[0;34m,\u001b[0m \u001b[0mfactor_type\u001b[0m\u001b[0;34m=\u001b[0m\u001b[0;34m\"in\"\u001b[0m\u001b[0;34m,\u001b[0m \u001b[0mmagnitude\u001b[0m\u001b[0;34m=\u001b[0m\u001b[0;36m2\u001b[0m\u001b[0;34m)\u001b[0m\u001b[0;34m,\u001b[0m\u001b[0;34m\u001b[0m\u001b[0m\n\u001b[1;32m     18\u001b[0m         \u001b[0meval_metric\u001b[0m\u001b[0;34m=\u001b[0m\u001b[0;34m'acc'\u001b[0m\u001b[0;34m,\u001b[0m\u001b[0;34m\u001b[0m\u001b[0m\n\u001b[0;32m---> 19\u001b[0;31m            epoch_end_callback=epoch_end_callback)\n\u001b[0m\u001b[1;32m     20\u001b[0m     \u001b[0mmetric\u001b[0m \u001b[0;34m=\u001b[0m \u001b[0mmx\u001b[0m\u001b[0;34m.\u001b[0m\u001b[0mmetric\u001b[0m\u001b[0;34m.\u001b[0m\u001b[0mAccuracy\u001b[0m\u001b[0;34m(\u001b[0m\u001b[0;34m)\u001b[0m\u001b[0;34m\u001b[0m\u001b[0m\n\u001b[1;32m     21\u001b[0m     \u001b[0;32mreturn\u001b[0m \u001b[0mmod\u001b[0m\u001b[0;34m.\u001b[0m\u001b[0mscore\u001b[0m\u001b[0;34m(\u001b[0m\u001b[0mval\u001b[0m\u001b[0;34m,\u001b[0m \u001b[0mmetric\u001b[0m\u001b[0;34m)\u001b[0m\u001b[0;34m\u001b[0m\u001b[0m\n",
      "\u001b[0;32m/usr/local/lib/python2.7/dist-packages/mxnet/module/base_module.pyc\u001b[0m in \u001b[0;36mfit\u001b[0;34m(self, train_data, eval_data, eval_metric, epoch_end_callback, batch_end_callback, kvstore, optimizer, optimizer_params, eval_end_callback, eval_batch_end_callback, initializer, arg_params, aux_params, allow_missing, force_rebind, force_init, begin_epoch, num_epoch, validation_metric, monitor)\u001b[0m\n\u001b[1;32m    493\u001b[0m                     \u001b[0mend_of_batch\u001b[0m \u001b[0;34m=\u001b[0m \u001b[0mTrue\u001b[0m\u001b[0;34m\u001b[0m\u001b[0m\n\u001b[1;32m    494\u001b[0m \u001b[0;34m\u001b[0m\u001b[0m\n\u001b[0;32m--> 495\u001b[0;31m                 \u001b[0mself\u001b[0m\u001b[0;34m.\u001b[0m\u001b[0mupdate_metric\u001b[0m\u001b[0;34m(\u001b[0m\u001b[0meval_metric\u001b[0m\u001b[0;34m,\u001b[0m \u001b[0mdata_batch\u001b[0m\u001b[0;34m.\u001b[0m\u001b[0mlabel\u001b[0m\u001b[0;34m)\u001b[0m\u001b[0;34m\u001b[0m\u001b[0m\n\u001b[0m\u001b[1;32m    496\u001b[0m \u001b[0;34m\u001b[0m\u001b[0m\n\u001b[1;32m    497\u001b[0m                 \u001b[0;32mif\u001b[0m \u001b[0mmonitor\u001b[0m \u001b[0;32mis\u001b[0m \u001b[0;32mnot\u001b[0m \u001b[0mNone\u001b[0m\u001b[0;34m:\u001b[0m\u001b[0;34m\u001b[0m\u001b[0m\n",
      "\u001b[0;32m/usr/local/lib/python2.7/dist-packages/mxnet/module/module.pyc\u001b[0m in \u001b[0;36mupdate_metric\u001b[0;34m(self, eval_metric, labels)\u001b[0m\n\u001b[1;32m    678\u001b[0m             \u001b[0mTypically\u001b[0m \u001b[0;34m`\u001b[0m\u001b[0;34m`\u001b[0m\u001b[0mdata_batch\u001b[0m\u001b[0;34m.\u001b[0m\u001b[0mlabel\u001b[0m\u001b[0;34m`\u001b[0m\u001b[0;34m`\u001b[0m\u001b[0;34m.\u001b[0m\u001b[0;34m\u001b[0m\u001b[0m\n\u001b[1;32m    679\u001b[0m         \"\"\"\n\u001b[0;32m--> 680\u001b[0;31m         \u001b[0mself\u001b[0m\u001b[0;34m.\u001b[0m\u001b[0m_exec_group\u001b[0m\u001b[0;34m.\u001b[0m\u001b[0mupdate_metric\u001b[0m\u001b[0;34m(\u001b[0m\u001b[0meval_metric\u001b[0m\u001b[0;34m,\u001b[0m \u001b[0mlabels\u001b[0m\u001b[0;34m)\u001b[0m\u001b[0;34m\u001b[0m\u001b[0m\n\u001b[0m\u001b[1;32m    681\u001b[0m \u001b[0;34m\u001b[0m\u001b[0m\n\u001b[1;32m    682\u001b[0m     \u001b[0;32mdef\u001b[0m \u001b[0m_sync_params_from_devices\u001b[0m\u001b[0;34m(\u001b[0m\u001b[0mself\u001b[0m\u001b[0;34m)\u001b[0m\u001b[0;34m:\u001b[0m\u001b[0;34m\u001b[0m\u001b[0m\n",
      "\u001b[0;32m/usr/local/lib/python2.7/dist-packages/mxnet/module/executor_group.pyc\u001b[0m in \u001b[0;36mupdate_metric\u001b[0;34m(self, eval_metric, labels)\u001b[0m\n\u001b[1;32m    561\u001b[0m             \u001b[0mlabels_\u001b[0m \u001b[0;34m=\u001b[0m \u001b[0mOrderedDict\u001b[0m\u001b[0;34m(\u001b[0m\u001b[0mzip\u001b[0m\u001b[0;34m(\u001b[0m\u001b[0mself\u001b[0m\u001b[0;34m.\u001b[0m\u001b[0mlabel_names\u001b[0m\u001b[0;34m,\u001b[0m \u001b[0mlabels_slice\u001b[0m\u001b[0;34m)\u001b[0m\u001b[0;34m)\u001b[0m\u001b[0;34m\u001b[0m\u001b[0m\n\u001b[1;32m    562\u001b[0m             \u001b[0mpreds\u001b[0m \u001b[0;34m=\u001b[0m \u001b[0mOrderedDict\u001b[0m\u001b[0;34m(\u001b[0m\u001b[0mzip\u001b[0m\u001b[0;34m(\u001b[0m\u001b[0mself\u001b[0m\u001b[0;34m.\u001b[0m\u001b[0moutput_names\u001b[0m\u001b[0;34m,\u001b[0m \u001b[0mtexec\u001b[0m\u001b[0;34m.\u001b[0m\u001b[0moutputs\u001b[0m\u001b[0;34m)\u001b[0m\u001b[0;34m)\u001b[0m\u001b[0;34m\u001b[0m\u001b[0m\n\u001b[0;32m--> 563\u001b[0;31m             \u001b[0meval_metric\u001b[0m\u001b[0;34m.\u001b[0m\u001b[0mupdate_dict\u001b[0m\u001b[0;34m(\u001b[0m\u001b[0mlabels_\u001b[0m\u001b[0;34m,\u001b[0m \u001b[0mpreds\u001b[0m\u001b[0;34m)\u001b[0m\u001b[0;34m\u001b[0m\u001b[0m\n\u001b[0m\u001b[1;32m    564\u001b[0m \u001b[0;34m\u001b[0m\u001b[0m\n\u001b[1;32m    565\u001b[0m     \u001b[0;32mdef\u001b[0m \u001b[0m_bind_ith_exec\u001b[0m\u001b[0;34m(\u001b[0m\u001b[0mself\u001b[0m\u001b[0;34m,\u001b[0m \u001b[0mi\u001b[0m\u001b[0;34m,\u001b[0m \u001b[0mdata_shapes\u001b[0m\u001b[0;34m,\u001b[0m \u001b[0mlabel_shapes\u001b[0m\u001b[0;34m,\u001b[0m \u001b[0mshared_group\u001b[0m\u001b[0;34m)\u001b[0m\u001b[0;34m:\u001b[0m\u001b[0;34m\u001b[0m\u001b[0m\n",
      "\u001b[0;32m/usr/local/lib/python2.7/dist-packages/mxnet/metric.pyc\u001b[0m in \u001b[0;36mupdate_dict\u001b[0;34m(self, label, pred)\u001b[0m\n\u001b[1;32m     89\u001b[0m             \u001b[0mlabel\u001b[0m \u001b[0;34m=\u001b[0m \u001b[0mlabel\u001b[0m\u001b[0;34m.\u001b[0m\u001b[0mvalues\u001b[0m\u001b[0;34m(\u001b[0m\u001b[0;34m)\u001b[0m\u001b[0;34m\u001b[0m\u001b[0m\n\u001b[1;32m     90\u001b[0m \u001b[0;34m\u001b[0m\u001b[0m\n\u001b[0;32m---> 91\u001b[0;31m         \u001b[0mself\u001b[0m\u001b[0;34m.\u001b[0m\u001b[0mupdate\u001b[0m\u001b[0;34m(\u001b[0m\u001b[0mlabel\u001b[0m\u001b[0;34m,\u001b[0m \u001b[0mpred\u001b[0m\u001b[0;34m)\u001b[0m\u001b[0;34m\u001b[0m\u001b[0m\n\u001b[0m\u001b[1;32m     92\u001b[0m \u001b[0;34m\u001b[0m\u001b[0m\n\u001b[1;32m     93\u001b[0m     \u001b[0;32mdef\u001b[0m \u001b[0mupdate\u001b[0m\u001b[0;34m(\u001b[0m\u001b[0mself\u001b[0m\u001b[0;34m,\u001b[0m \u001b[0mlabels\u001b[0m\u001b[0;34m,\u001b[0m \u001b[0mpreds\u001b[0m\u001b[0;34m)\u001b[0m\u001b[0;34m:\u001b[0m\u001b[0;34m\u001b[0m\u001b[0m\n",
      "\u001b[0;32m/usr/local/lib/python2.7/dist-packages/mxnet/metric.pyc\u001b[0m in \u001b[0;36mupdate\u001b[0;34m(self, labels, preds)\u001b[0m\n\u001b[1;32m    374\u001b[0m             \u001b[0;32mif\u001b[0m \u001b[0mpred_label\u001b[0m\u001b[0;34m.\u001b[0m\u001b[0mshape\u001b[0m \u001b[0;34m!=\u001b[0m \u001b[0mlabel\u001b[0m\u001b[0;34m.\u001b[0m\u001b[0mshape\u001b[0m\u001b[0;34m:\u001b[0m\u001b[0;34m\u001b[0m\u001b[0m\n\u001b[1;32m    375\u001b[0m                 \u001b[0mpred_label\u001b[0m \u001b[0;34m=\u001b[0m \u001b[0mndarray\u001b[0m\u001b[0;34m.\u001b[0m\u001b[0margmax\u001b[0m\u001b[0;34m(\u001b[0m\u001b[0mpred_label\u001b[0m\u001b[0;34m,\u001b[0m \u001b[0maxis\u001b[0m\u001b[0;34m=\u001b[0m\u001b[0mself\u001b[0m\u001b[0;34m.\u001b[0m\u001b[0maxis\u001b[0m\u001b[0;34m)\u001b[0m\u001b[0;34m\u001b[0m\u001b[0m\n\u001b[0;32m--> 376\u001b[0;31m             \u001b[0mpred_label\u001b[0m \u001b[0;34m=\u001b[0m \u001b[0mpred_label\u001b[0m\u001b[0;34m.\u001b[0m\u001b[0masnumpy\u001b[0m\u001b[0;34m(\u001b[0m\u001b[0;34m)\u001b[0m\u001b[0;34m.\u001b[0m\u001b[0mastype\u001b[0m\u001b[0;34m(\u001b[0m\u001b[0;34m'int32'\u001b[0m\u001b[0;34m)\u001b[0m\u001b[0;34m\u001b[0m\u001b[0m\n\u001b[0m\u001b[1;32m    377\u001b[0m             \u001b[0mlabel\u001b[0m \u001b[0;34m=\u001b[0m \u001b[0mlabel\u001b[0m\u001b[0;34m.\u001b[0m\u001b[0masnumpy\u001b[0m\u001b[0;34m(\u001b[0m\u001b[0;34m)\u001b[0m\u001b[0;34m.\u001b[0m\u001b[0mastype\u001b[0m\u001b[0;34m(\u001b[0m\u001b[0;34m'int32'\u001b[0m\u001b[0;34m)\u001b[0m\u001b[0;34m\u001b[0m\u001b[0m\n\u001b[1;32m    378\u001b[0m \u001b[0;34m\u001b[0m\u001b[0m\n",
      "\u001b[0;32m/usr/local/lib/python2.7/dist-packages/mxnet/ndarray.pyc\u001b[0m in \u001b[0;36masnumpy\u001b[0;34m(self)\u001b[0m\n\u001b[1;32m    771\u001b[0m             \u001b[0mself\u001b[0m\u001b[0;34m.\u001b[0m\u001b[0mhandle\u001b[0m\u001b[0;34m,\u001b[0m\u001b[0;34m\u001b[0m\u001b[0m\n\u001b[1;32m    772\u001b[0m             \u001b[0mdata\u001b[0m\u001b[0;34m.\u001b[0m\u001b[0mctypes\u001b[0m\u001b[0;34m.\u001b[0m\u001b[0mdata_as\u001b[0m\u001b[0;34m(\u001b[0m\u001b[0mctypes\u001b[0m\u001b[0;34m.\u001b[0m\u001b[0mc_void_p\u001b[0m\u001b[0;34m)\u001b[0m\u001b[0;34m,\u001b[0m\u001b[0;34m\u001b[0m\u001b[0m\n\u001b[0;32m--> 773\u001b[0;31m             ctypes.c_size_t(data.size)))\n\u001b[0m\u001b[1;32m    774\u001b[0m         \u001b[0;32mreturn\u001b[0m \u001b[0mdata\u001b[0m\u001b[0;34m\u001b[0m\u001b[0m\n\u001b[1;32m    775\u001b[0m \u001b[0;34m\u001b[0m\u001b[0m\n",
      "\u001b[0;31mKeyboardInterrupt\u001b[0m: "
     ]
    }
   ],
   "source": [
    "# for structure in structures_found:\n",
    "# for structure in all_known_structures:\n",
    "for structure in ['LRt']:\n",
    "\n",
    "    print structure\n",
    "\n",
    "    # Determine which labels to load.\n",
    "\n",
    "    structures_to_sample = [structure]\n",
    "    negative_labels_to_sample = [s + '_negative' for s in structures_to_sample]\n",
    "\n",
    "    margins_to_sample = [margin] # (200: 100 um, 500: 250 um)\n",
    "    surround_positive_labels_to_sample = [convert_to_surround_name(s, margin=m, suffix=surr_l) \n",
    "                                 for m in margins_to_sample\n",
    "                                 for s in structures_to_sample \n",
    "                                 for surr_l in all_known_structures\n",
    "                                 if surr_l != s]\n",
    "    surround_noclass_labels_to_sample = [convert_to_surround_name(s, margin=m, suffix='noclass') \n",
    "                                 for m in margins_to_sample\n",
    "                                 for s in structures_to_sample]\n",
    "\n",
    "    if neg_composition == 'neg_has_everything_else':\n",
    "        labels_to_sample = structures_to_sample + negative_labels_to_sample\n",
    "    elif neg_composition == 'neg_has_only_surround_noclass':\n",
    "        labels_to_sample = structures_to_sample + surround_noclass_labels_to_sample + ['noclass']\n",
    "    elif neg_composition == 'neg_has_all_surround':\n",
    "        labels_to_sample = structures_to_sample + surround_positive_labels_to_sample + surround_noclass_labels_to_sample + ['noclass']\n",
    "    \n",
    "    # labels_to_sample = ['Sp5C', 'Sp5C_surround_500_Sp5I', 'Sp5C_surround_500_noclass', 'Sp5C_surround_500_LRt']\n",
    "    # labels_to_sample = ['Sp5O', 'Sp5O_surround_500_Sp5I', 'Sp5O_surround_500_noclass']\n",
    "#     labels_to_sample = ['SC', 'SC_surround_500_IC', 'SC_surround_500_noclass']\n",
    "\n",
    "    # Load training dataset.\n",
    "\n",
    "    training_set_ids = map(int, str(classifier_properties['train_set_id']).split('/'))\n",
    "    training_features, training_addresses = load_dataset_images(training_set_ids, labels_to_sample=labels_to_sample)\n",
    "\n",
    "    # convert patches data shape to nx1x224x224\n",
    "    training_features = {s: (patches - mean_img)[:, None, :, :] for s, patches in training_features.iteritems()}\n",
    "\n",
    "    # check which labels are collected\n",
    "    labels_found = training_addresses.keys()\n",
    "    structures_found = set([convert_to_original_name(l) for l in labels_found \n",
    "                            if convert_to_original_name(l) in labels_found]) - {'noclass'}\n",
    "\n",
    "    # Load test dataset.\n",
    "\n",
    "    test_set_ids = [62]\n",
    "    test_features, test_addresses = load_dataset_images(test_set_ids, labels_to_sample=labels_to_sample)\n",
    "    test_features = {s: (patches - mean_img)[:, None, :, :] for s, patches in test_features.iteritems()}\n",
    "    \n",
    "    #############################################\n",
    "    \n",
    "    \n",
    "    if neg_composition == 'neg_has_only_surround_noclass':\n",
    "        neg_classes = [convert_to_surround_name(structure, margin=margin, suffix='noclass')]\n",
    "    elif neg_composition == 'neg_has_all_surround':\n",
    "        neg_classes = [convert_to_surround_name(structure, margin=margin, suffix='noclass')]\n",
    "        for surr_s in structures_found:\n",
    "            c = convert_to_surround_name(structure, margin=margin, suffix=surr_s)\n",
    "            if c in labels_found:\n",
    "                neg_classes.append(c)\n",
    "    elif neg_composition == 'neg_has_everything_else':\n",
    "        neg_classes = [structure + '_negative']\n",
    "    else:\n",
    "        raise Exception('neg_composition %s is not recognized.' % neg_composition)\n",
    "\n",
    "    ###########################\n",
    "    ## Define Sample Weights ##\n",
    "    ###########################\n",
    "    \n",
    "#     if sample_weighting == 'weighted':\n",
    "#         neg_distances = np.concatenate([distances_to_structures[neg_class][structure] for neg_class in neg_classes])\n",
    "            \n",
    "#         sample_weights_neg = np.ones((n_neg,))\n",
    "#         sample_weights_neg[neg_distances > thresh] = diminishing(neg_distances[neg_distances > thresh])\n",
    "#         sample_weights = np.r_[np.ones((n_pos,)), sample_weights_neg]\n",
    "#     else:\n",
    "#         sample_weights = None\n",
    "    \n",
    "    ###########################################################################################\n",
    "    \n",
    "    train_features_pos = training_features[structure]\n",
    "    n_pos = len(train_features_pos)\n",
    "    \n",
    "    train_features_neg = np.concatenate([training_features[neg_class] for neg_class in neg_classes])\n",
    "    n_neg = len(train_features_neg)\n",
    "    \n",
    "    train_data = np.concatenate([train_features_pos, train_features_neg])\n",
    "    # For cnn, labels must be 0/1 rather than +1/-1\n",
    "    train_labels = np.r_[np.ones((n_pos, )), np.zeros((n_neg, ))]\n",
    "\n",
    "    train_data_iter = mx.io.NDArrayIter(\n",
    "        data=train_data, \n",
    "        batch_size=batch_size,\n",
    "        label=train_labels,\n",
    "        shuffle=True)\n",
    "    \n",
    "    #####################################\n",
    "    \n",
    "    test_features_pos = test_features[structure]\n",
    "    n_pos = len(test_features_pos)\n",
    "    \n",
    "    test_features_neg = np.concatenate([test_features[neg_class] for neg_class in neg_classes \\\n",
    "                                   if neg_class in test_features])\n",
    "    n_neg = len(test_features_neg)\n",
    "    \n",
    "    test_data = np.concatenate([test_features_pos, test_features_neg])\n",
    "    # For cnn, labels must be 0/1 rather than +1/-1\n",
    "    test_labels = np.r_[np.ones((n_pos, )), np.zeros((n_neg, ))]\n",
    "\n",
    "    test_data_iter = mx.io.NDArrayIter(\n",
    "        data=test_data, \n",
    "        batch_size=batch_size,\n",
    "        label=test_labels,\n",
    "        shuffle=True)\n",
    "    \n",
    "    t = time.time()\n",
    "    prefix = os.path.join(MXNET_MODEL_ROOTDIR, model_dir_name, model_name + '_' + structure)\n",
    "    mod_score = fit(new_sym, new_args, aux_params, train_data_iter, test_data_iter, \n",
    "                    batch_size, num_gpus, num_epoch=10, epoch_end_callback=my_epoch_end_callback(prefix, period=5))\n",
    "#     clf.fit(train_data, train_labels, sample_weight=sample_weights)\n",
    "    sys.stderr.write('Fitting classifier: %.2f seconds\\n' % (time.time() - t))\n",
    "    \n",
    "#     clf_fp = DataManager.get_classifier_filepath(classifier_id=classifier_id, structure=structure)\n",
    "#     create_parent_dir_if_not_exists(clf_fp)\n",
    "#     joblib.dump(clf, clf_fp)\n",
    "#     upload_to_s3(clf_fp)"
   ]
  }
 ],
 "metadata": {
  "kernelspec": {
   "display_name": "Python 2",
   "language": "python",
   "name": "python2"
  },
  "language_info": {
   "codemirror_mode": {
    "name": "ipython",
    "version": 2
   },
   "file_extension": ".py",
   "mimetype": "text/x-python",
   "name": "python",
   "nbconvert_exporter": "python",
   "pygments_lexer": "ipython2",
   "version": "2.7.12"
  }
 },
 "nbformat": 4,
 "nbformat_minor": 2
}
