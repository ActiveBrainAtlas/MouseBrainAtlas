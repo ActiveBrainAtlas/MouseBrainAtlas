{
 "cells": [
  {
   "cell_type": "code",
   "execution_count": 1,
   "metadata": {},
   "outputs": [
    {
     "name": "stderr",
     "output_type": "stream",
     "text": [
      "/usr/local/lib/python2.7/dist-packages/matplotlib/__init__.py:1405: UserWarning: \n",
      "This call to matplotlib.use() has no effect because the backend has already\n",
      "been chosen; matplotlib.use() must be called *before* pylab, matplotlib.pyplot,\n",
      "or matplotlib.backends is imported for the first time.\n",
      "\n",
      "  warnings.warn(_use_error_msg)\n",
      "No vtk\n"
     ]
    },
    {
     "name": "stdout",
     "output_type": "stream",
     "text": [
      "Setting environment for AWS compute node\n",
      "rm -rf /shared/CSHL_data_processed/MD585/MD585_sorted_filenames.txt && mkdir -p /shared/CSHL_data_processed/MD585\n",
      "aws s3 cp s3://mousebrainatlas-data/CSHL_data_processed/MD585/MD585_sorted_filenames.txt /shared/CSHL_data_processed/MD585/MD585_sorted_filenames.txt\n"
     ]
    },
    {
     "name": "stderr",
     "output_type": "stream",
     "text": [
      "Child returned 0\n",
      "Child returned 0\n",
      "0.78 seconds.\n",
      "Child returned 0\n"
     ]
    },
    {
     "name": "stdout",
     "output_type": "stream",
     "text": [
      "rm -rf /shared/CSHL_data_processed/MD585/MD585_anchor.txt && mkdir -p /shared/CSHL_data_processed/MD585\n",
      "aws s3 cp s3://mousebrainatlas-data/CSHL_data_processed/MD585/MD585_anchor.txt /shared/CSHL_data_processed/MD585/MD585_anchor.txt\n"
     ]
    },
    {
     "name": "stderr",
     "output_type": "stream",
     "text": [
      "Child returned 0\n",
      "0.64 seconds.\n",
      "Child returned 0\n"
     ]
    },
    {
     "name": "stdout",
     "output_type": "stream",
     "text": [
      "rm -rf /shared/CSHL_data_processed/MD585/MD585_alignedTo_MD585-N47-2015.07.16-22.50.52_MD585_3_0141_cropbox.txt && mkdir -p /shared/CSHL_data_processed/MD585\n",
      "aws s3 cp s3://mousebrainatlas-data/CSHL_data_processed/MD585/MD585_alignedTo_MD585-N47-2015.07.16-22.50.52_MD585_3_0141_cropbox.txt /shared/CSHL_data_processed/MD585/MD585_alignedTo_MD585-N47-2015.07.16-22.50.52_MD585_3_0141_cropbox.txt\n"
     ]
    },
    {
     "name": "stderr",
     "output_type": "stream",
     "text": [
      "Child returned 0\n",
      "0.57 seconds.\n",
      "Child returned 0\n"
     ]
    },
    {
     "name": "stdout",
     "output_type": "stream",
     "text": [
      "rm -rf /shared/CSHL_data_processed/MD589/MD589_sorted_filenames.txt && mkdir -p /shared/CSHL_data_processed/MD589\n",
      "aws s3 cp s3://mousebrainatlas-data/CSHL_data_processed/MD589/MD589_sorted_filenames.txt /shared/CSHL_data_processed/MD589/MD589_sorted_filenames.txt\n"
     ]
    },
    {
     "name": "stderr",
     "output_type": "stream",
     "text": [
      "Child returned 0\n",
      "0.69 seconds.\n",
      "Child returned 0\n"
     ]
    },
    {
     "name": "stdout",
     "output_type": "stream",
     "text": [
      "rm -rf /shared/CSHL_data_processed/MD589/MD589_anchor.txt && mkdir -p /shared/CSHL_data_processed/MD589\n",
      "aws s3 cp s3://mousebrainatlas-data/CSHL_data_processed/MD589/MD589_anchor.txt /shared/CSHL_data_processed/MD589/MD589_anchor.txt\n"
     ]
    },
    {
     "name": "stderr",
     "output_type": "stream",
     "text": [
      "Child returned 0\n",
      "0.67 seconds.\n",
      "Child returned 0\n"
     ]
    },
    {
     "name": "stdout",
     "output_type": "stream",
     "text": [
      "rm -rf /shared/CSHL_data_processed/MD589/MD589_alignedTo_MD589-IHC31-2015.07.30-23.26.22_MD589_1_0091_cropbox.txt && mkdir -p /shared/CSHL_data_processed/MD589\n",
      "aws s3 cp s3://mousebrainatlas-data/CSHL_data_processed/MD589/MD589_alignedTo_MD589-IHC31-2015.07.30-23.26.22_MD589_1_0091_cropbox.txt /shared/CSHL_data_processed/MD589/MD589_alignedTo_MD589-IHC31-2015.07.30-23.26.22_MD589_1_0091_cropbox.txt\n"
     ]
    },
    {
     "name": "stderr",
     "output_type": "stream",
     "text": [
      "Child returned 0\n",
      "0.64 seconds.\n",
      "Child returned 0\n"
     ]
    },
    {
     "name": "stdout",
     "output_type": "stream",
     "text": [
      "rm -rf /shared/CSHL_data_processed/MD590/MD590_sorted_filenames.txt && mkdir -p /shared/CSHL_data_processed/MD590\n",
      "aws s3 cp s3://mousebrainatlas-data/CSHL_data_processed/MD590/MD590_sorted_filenames.txt /shared/CSHL_data_processed/MD590/MD590_sorted_filenames.txt\n"
     ]
    },
    {
     "name": "stderr",
     "output_type": "stream",
     "text": [
      "Child returned 0\n",
      "0.68 seconds.\n",
      "Child returned 0\n"
     ]
    },
    {
     "name": "stdout",
     "output_type": "stream",
     "text": [
      "rm -rf /shared/CSHL_data_processed/MD590/MD590_anchor.txt && mkdir -p /shared/CSHL_data_processed/MD590\n",
      "aws s3 cp s3://mousebrainatlas-data/CSHL_data_processed/MD590/MD590_anchor.txt /shared/CSHL_data_processed/MD590/MD590_anchor.txt\n"
     ]
    },
    {
     "name": "stderr",
     "output_type": "stream",
     "text": [
      "Child returned 0\n",
      "0.64 seconds.\n",
      "Child returned 0\n"
     ]
    },
    {
     "name": "stdout",
     "output_type": "stream",
     "text": [
      "rm -rf /shared/CSHL_data_processed/MD590/MD590_alignedTo_MD590-N47-2015.09.12-05.32.06_MD590_2_0140_cropbox.txt && mkdir -p /shared/CSHL_data_processed/MD590\n",
      "aws s3 cp s3://mousebrainatlas-data/CSHL_data_processed/MD590/MD590_alignedTo_MD590-N47-2015.09.12-05.32.06_MD590_2_0140_cropbox.txt /shared/CSHL_data_processed/MD590/MD590_alignedTo_MD590-N47-2015.09.12-05.32.06_MD590_2_0140_cropbox.txt\n"
     ]
    },
    {
     "name": "stderr",
     "output_type": "stream",
     "text": [
      "Child returned 0\n",
      "0.71 seconds.\n",
      "Child returned 0\n"
     ]
    },
    {
     "name": "stdout",
     "output_type": "stream",
     "text": [
      "rm -rf /shared/CSHL_data_processed/MD591/MD591_sorted_filenames.txt && mkdir -p /shared/CSHL_data_processed/MD591\n",
      "aws s3 cp s3://mousebrainatlas-data/CSHL_data_processed/MD591/MD591_sorted_filenames.txt /shared/CSHL_data_processed/MD591/MD591_sorted_filenames.txt\n"
     ]
    },
    {
     "name": "stderr",
     "output_type": "stream",
     "text": [
      "Child returned 0\n",
      "0.69 seconds.\n",
      "Child returned 0\n"
     ]
    },
    {
     "name": "stdout",
     "output_type": "stream",
     "text": [
      "rm -rf /shared/CSHL_data_processed/MD591/MD591_anchor.txt && mkdir -p /shared/CSHL_data_processed/MD591\n",
      "aws s3 cp s3://mousebrainatlas-data/CSHL_data_processed/MD591/MD591_anchor.txt /shared/CSHL_data_processed/MD591/MD591_anchor.txt\n"
     ]
    },
    {
     "name": "stderr",
     "output_type": "stream",
     "text": [
      "Child returned 0\n",
      "0.59 seconds.\n",
      "Child returned 0\n"
     ]
    },
    {
     "name": "stdout",
     "output_type": "stream",
     "text": [
      "rm -rf /shared/CSHL_data_processed/MD591/MD591_alignedTo_MD591-N57-2015.09.21-17.13.29_MD591_1_0169_cropbox.txt && mkdir -p /shared/CSHL_data_processed/MD591\n",
      "aws s3 cp s3://mousebrainatlas-data/CSHL_data_processed/MD591/MD591_alignedTo_MD591-N57-2015.09.21-17.13.29_MD591_1_0169_cropbox.txt /shared/CSHL_data_processed/MD591/MD591_alignedTo_MD591-N57-2015.09.21-17.13.29_MD591_1_0169_cropbox.txt\n"
     ]
    },
    {
     "name": "stderr",
     "output_type": "stream",
     "text": [
      "Child returned 0\n",
      "0.64 seconds.\n",
      "Child returned 0\n"
     ]
    },
    {
     "name": "stdout",
     "output_type": "stream",
     "text": [
      "rm -rf /shared/CSHL_data_processed/MD592/MD592_sorted_filenames.txt && mkdir -p /shared/CSHL_data_processed/MD592\n",
      "aws s3 cp s3://mousebrainatlas-data/CSHL_data_processed/MD592/MD592_sorted_filenames.txt /shared/CSHL_data_processed/MD592/MD592_sorted_filenames.txt\n"
     ]
    },
    {
     "name": "stderr",
     "output_type": "stream",
     "text": [
      "Child returned 0\n",
      "0.69 seconds.\n",
      "Child returned 0\n"
     ]
    },
    {
     "name": "stdout",
     "output_type": "stream",
     "text": [
      "rm -rf /shared/CSHL_data_processed/MD592/MD592_anchor.txt && mkdir -p /shared/CSHL_data_processed/MD592\n",
      "aws s3 cp s3://mousebrainatlas-data/CSHL_data_processed/MD592/MD592_anchor.txt /shared/CSHL_data_processed/MD592/MD592_anchor.txt\n"
     ]
    },
    {
     "name": "stderr",
     "output_type": "stream",
     "text": [
      "Child returned 0\n",
      "0.64 seconds.\n",
      "Child returned 0\n"
     ]
    },
    {
     "name": "stdout",
     "output_type": "stream",
     "text": [
      "rm -rf /shared/CSHL_data_processed/MD592/MD592_alignedTo_MD592-IHC59-2015.08.26-00.06.25_MD592_2_0176_cropbox.txt && mkdir -p /shared/CSHL_data_processed/MD592\n",
      "aws s3 cp s3://mousebrainatlas-data/CSHL_data_processed/MD592/MD592_alignedTo_MD592-IHC59-2015.08.26-00.06.25_MD592_2_0176_cropbox.txt /shared/CSHL_data_processed/MD592/MD592_alignedTo_MD592-IHC59-2015.08.26-00.06.25_MD592_2_0176_cropbox.txt\n"
     ]
    },
    {
     "name": "stderr",
     "output_type": "stream",
     "text": [
      "Child returned 0\n",
      "0.59 seconds.\n",
      "Child returned 0\n"
     ]
    },
    {
     "name": "stdout",
     "output_type": "stream",
     "text": [
      "rm -rf /shared/CSHL_data_processed/MD593/MD593_sorted_filenames.txt && mkdir -p /shared/CSHL_data_processed/MD593\n",
      "aws s3 cp s3://mousebrainatlas-data/CSHL_data_processed/MD593/MD593_sorted_filenames.txt /shared/CSHL_data_processed/MD593/MD593_sorted_filenames.txt\n"
     ]
    },
    {
     "name": "stderr",
     "output_type": "stream",
     "text": [
      "Child returned 0\n",
      "0.64 seconds.\n",
      "Child returned 0\n"
     ]
    },
    {
     "name": "stdout",
     "output_type": "stream",
     "text": [
      "rm -rf /shared/CSHL_data_processed/MD593/MD593_anchor.txt && mkdir -p /shared/CSHL_data_processed/MD593\n",
      "aws s3 cp s3://mousebrainatlas-data/CSHL_data_processed/MD593/MD593_anchor.txt /shared/CSHL_data_processed/MD593/MD593_anchor.txt\n"
     ]
    },
    {
     "name": "stderr",
     "output_type": "stream",
     "text": [
      "Child returned 0\n",
      "0.64 seconds.\n",
      "Child returned 0\n"
     ]
    },
    {
     "name": "stdout",
     "output_type": "stream",
     "text": [
      "rm -rf /shared/CSHL_data_processed/MD593/MD593_alignedTo_MD593-IHC54-2015.08.25-17.40.32_MD593_2_0161_cropbox.txt && mkdir -p /shared/CSHL_data_processed/MD593\n",
      "aws s3 cp s3://mousebrainatlas-data/CSHL_data_processed/MD593/MD593_alignedTo_MD593-IHC54-2015.08.25-17.40.32_MD593_2_0161_cropbox.txt /shared/CSHL_data_processed/MD593/MD593_alignedTo_MD593-IHC54-2015.08.25-17.40.32_MD593_2_0161_cropbox.txt\n"
     ]
    },
    {
     "name": "stderr",
     "output_type": "stream",
     "text": [
      "Child returned 0\n",
      "0.85 seconds.\n",
      "Child returned 0\n"
     ]
    },
    {
     "name": "stdout",
     "output_type": "stream",
     "text": [
      "rm -rf /shared/CSHL_data_processed/MD594/MD594_sorted_filenames.txt && mkdir -p /shared/CSHL_data_processed/MD594\n",
      "aws s3 cp s3://mousebrainatlas-data/CSHL_data_processed/MD594/MD594_sorted_filenames.txt /shared/CSHL_data_processed/MD594/MD594_sorted_filenames.txt\n"
     ]
    },
    {
     "name": "stderr",
     "output_type": "stream",
     "text": [
      "Child returned 0\n",
      "0.69 seconds.\n",
      "Child returned 0\n"
     ]
    },
    {
     "name": "stdout",
     "output_type": "stream",
     "text": [
      "rm -rf /shared/CSHL_data_processed/MD594/MD594_anchor.txt && mkdir -p /shared/CSHL_data_processed/MD594\n",
      "aws s3 cp s3://mousebrainatlas-data/CSHL_data_processed/MD594/MD594_anchor.txt /shared/CSHL_data_processed/MD594/MD594_anchor.txt\n"
     ]
    },
    {
     "name": "stderr",
     "output_type": "stream",
     "text": [
      "Child returned 0\n",
      "0.64 seconds.\n",
      "Child returned 0\n"
     ]
    },
    {
     "name": "stdout",
     "output_type": "stream",
     "text": [
      "rm -rf /shared/CSHL_data_processed/MD594/MD594_alignedTo_MD594-IHC58-2015.08.26-18.48.50_MD594_1_0172_cropbox.txt && mkdir -p /shared/CSHL_data_processed/MD594\n",
      "aws s3 cp s3://mousebrainatlas-data/CSHL_data_processed/MD594/MD594_alignedTo_MD594-IHC58-2015.08.26-18.48.50_MD594_1_0172_cropbox.txt /shared/CSHL_data_processed/MD594/MD594_alignedTo_MD594-IHC58-2015.08.26-18.48.50_MD594_1_0172_cropbox.txt\n"
     ]
    },
    {
     "name": "stderr",
     "output_type": "stream",
     "text": [
      "Child returned 0\n",
      "0.65 seconds.\n",
      "Child returned 0\n"
     ]
    },
    {
     "name": "stdout",
     "output_type": "stream",
     "text": [
      "rm -rf /shared/CSHL_data_processed/MD595/MD595_sorted_filenames.txt && mkdir -p /shared/CSHL_data_processed/MD595\n",
      "aws s3 cp s3://mousebrainatlas-data/CSHL_data_processed/MD595/MD595_sorted_filenames.txt /shared/CSHL_data_processed/MD595/MD595_sorted_filenames.txt\n"
     ]
    },
    {
     "name": "stderr",
     "output_type": "stream",
     "text": [
      "Child returned 0\n",
      "0.71 seconds.\n",
      "Child returned 0\n"
     ]
    },
    {
     "name": "stdout",
     "output_type": "stream",
     "text": [
      "rm -rf /shared/CSHL_data_processed/MD595/MD595_anchor.txt && mkdir -p /shared/CSHL_data_processed/MD595\n",
      "aws s3 cp s3://mousebrainatlas-data/CSHL_data_processed/MD595/MD595_anchor.txt /shared/CSHL_data_processed/MD595/MD595_anchor.txt\n"
     ]
    },
    {
     "name": "stderr",
     "output_type": "stream",
     "text": [
      "Child returned 0\n",
      "0.68 seconds.\n",
      "Child returned 0\n"
     ]
    },
    {
     "name": "stdout",
     "output_type": "stream",
     "text": [
      "rm -rf /shared/CSHL_data_processed/MD595/MD595_alignedTo_MD595-IHC48-2015.09.15-18.38.44_MD595_1_0142_cropbox.txt && mkdir -p /shared/CSHL_data_processed/MD595\n",
      "aws s3 cp s3://mousebrainatlas-data/CSHL_data_processed/MD595/MD595_alignedTo_MD595-IHC48-2015.09.15-18.38.44_MD595_1_0142_cropbox.txt /shared/CSHL_data_processed/MD595/MD595_alignedTo_MD595-IHC48-2015.09.15-18.38.44_MD595_1_0142_cropbox.txt\n"
     ]
    },
    {
     "name": "stderr",
     "output_type": "stream",
     "text": [
      "Child returned 0\n",
      "0.71 seconds.\n",
      "Child returned 0\n"
     ]
    },
    {
     "name": "stdout",
     "output_type": "stream",
     "text": [
      "rm -rf /shared/CSHL_data_processed/MD598/MD598_sorted_filenames.txt && mkdir -p /shared/CSHL_data_processed/MD598\n",
      "aws s3 cp s3://mousebrainatlas-data/CSHL_data_processed/MD598/MD598_sorted_filenames.txt /shared/CSHL_data_processed/MD598/MD598_sorted_filenames.txt\n"
     ]
    },
    {
     "name": "stderr",
     "output_type": "stream",
     "text": [
      "Child returned 0\n",
      "0.71 seconds.\n",
      "Child returned 0\n"
     ]
    },
    {
     "name": "stdout",
     "output_type": "stream",
     "text": [
      "rm -rf /shared/CSHL_data_processed/MD598/MD598_anchor.txt && mkdir -p /shared/CSHL_data_processed/MD598\n",
      "aws s3 cp s3://mousebrainatlas-data/CSHL_data_processed/MD598/MD598_anchor.txt /shared/CSHL_data_processed/MD598/MD598_anchor.txt\n"
     ]
    },
    {
     "name": "stderr",
     "output_type": "stream",
     "text": [
      "Child returned 0\n",
      "0.64 seconds.\n",
      "Child returned 0\n"
     ]
    },
    {
     "name": "stdout",
     "output_type": "stream",
     "text": [
      "rm -rf /shared/CSHL_data_processed/MD598/MD598_alignedTo_MD598-N42-2015.09.29-19.26.12_MD598_2_0125_cropbox.txt && mkdir -p /shared/CSHL_data_processed/MD598\n",
      "aws s3 cp s3://mousebrainatlas-data/CSHL_data_processed/MD598/MD598_alignedTo_MD598-N42-2015.09.29-19.26.12_MD598_2_0125_cropbox.txt /shared/CSHL_data_processed/MD598/MD598_alignedTo_MD598-N42-2015.09.29-19.26.12_MD598_2_0125_cropbox.txt\n"
     ]
    },
    {
     "name": "stderr",
     "output_type": "stream",
     "text": [
      "Child returned 0\n",
      "0.59 seconds.\n",
      "Child returned 0\n"
     ]
    },
    {
     "name": "stdout",
     "output_type": "stream",
     "text": [
      "rm -rf /shared/CSHL_data_processed/MD599/MD599_sorted_filenames.txt && mkdir -p /shared/CSHL_data_processed/MD599\n",
      "aws s3 cp s3://mousebrainatlas-data/CSHL_data_processed/MD599/MD599_sorted_filenames.txt /shared/CSHL_data_processed/MD599/MD599_sorted_filenames.txt\n"
     ]
    },
    {
     "name": "stderr",
     "output_type": "stream",
     "text": [
      "Child returned 0\n",
      "0.62 seconds.\n",
      "Child returned 0\n"
     ]
    },
    {
     "name": "stdout",
     "output_type": "stream",
     "text": [
      "rm -rf /shared/CSHL_data_processed/MD599/MD599_anchor.txt && mkdir -p /shared/CSHL_data_processed/MD599\n",
      "aws s3 cp s3://mousebrainatlas-data/CSHL_data_processed/MD599/MD599_anchor.txt /shared/CSHL_data_processed/MD599/MD599_anchor.txt\n"
     ]
    },
    {
     "name": "stderr",
     "output_type": "stream",
     "text": [
      "Child returned 0\n",
      "0.60 seconds.\n",
      "Child returned 0\n"
     ]
    },
    {
     "name": "stdout",
     "output_type": "stream",
     "text": [
      "rm -rf /shared/CSHL_data_processed/MD599/MD599_alignedTo_MD599-IHC40-2015.10.03-06.04.31_MD599_2_0119_cropbox.txt && mkdir -p /shared/CSHL_data_processed/MD599\n",
      "aws s3 cp s3://mousebrainatlas-data/CSHL_data_processed/MD599/MD599_alignedTo_MD599-IHC40-2015.10.03-06.04.31_MD599_2_0119_cropbox.txt /shared/CSHL_data_processed/MD599/MD599_alignedTo_MD599-IHC40-2015.10.03-06.04.31_MD599_2_0119_cropbox.txt\n"
     ]
    },
    {
     "name": "stderr",
     "output_type": "stream",
     "text": [
      "Child returned 0\n",
      "0.64 seconds.\n",
      "Child returned 0\n"
     ]
    },
    {
     "name": "stdout",
     "output_type": "stream",
     "text": [
      "rm -rf /shared/CSHL_data_processed/MD602/MD602_sorted_filenames.txt && mkdir -p /shared/CSHL_data_processed/MD602\n",
      "aws s3 cp s3://mousebrainatlas-data/CSHL_data_processed/MD602/MD602_sorted_filenames.txt /shared/CSHL_data_processed/MD602/MD602_sorted_filenames.txt\n"
     ]
    },
    {
     "name": "stderr",
     "output_type": "stream",
     "text": [
      "Child returned 0\n",
      "0.63 seconds.\n",
      "Child returned 0\n"
     ]
    },
    {
     "name": "stdout",
     "output_type": "stream",
     "text": [
      "rm -rf /shared/CSHL_data_processed/MD602/MD602_anchor.txt && mkdir -p /shared/CSHL_data_processed/MD602\n",
      "aws s3 cp s3://mousebrainatlas-data/CSHL_data_processed/MD602/MD602_anchor.txt /shared/CSHL_data_processed/MD602/MD602_anchor.txt\n"
     ]
    },
    {
     "name": "stderr",
     "output_type": "stream",
     "text": [
      "Child returned 0\n",
      "0.69 seconds.\n",
      "Child returned 0\n"
     ]
    },
    {
     "name": "stdout",
     "output_type": "stream",
     "text": [
      "rm -rf /shared/CSHL_data_processed/MD602/MD602_alignedTo_MD602-N49-2015.12.01-18.41.46_MD602_2_0146_cropbox.txt && mkdir -p /shared/CSHL_data_processed/MD602\n",
      "aws s3 cp s3://mousebrainatlas-data/CSHL_data_processed/MD602/MD602_alignedTo_MD602-N49-2015.12.01-18.41.46_MD602_2_0146_cropbox.txt /shared/CSHL_data_processed/MD602/MD602_alignedTo_MD602-N49-2015.12.01-18.41.46_MD602_2_0146_cropbox.txt\n"
     ]
    },
    {
     "name": "stderr",
     "output_type": "stream",
     "text": [
      "Child returned 0\n",
      "0.65 seconds.\n",
      "Child returned 0\n"
     ]
    },
    {
     "name": "stdout",
     "output_type": "stream",
     "text": [
      "rm -rf /shared/CSHL_data_processed/MD603/MD603_sorted_filenames.txt && mkdir -p /shared/CSHL_data_processed/MD603\n",
      "aws s3 cp s3://mousebrainatlas-data/CSHL_data_processed/MD603/MD603_sorted_filenames.txt /shared/CSHL_data_processed/MD603/MD603_sorted_filenames.txt\n"
     ]
    },
    {
     "name": "stderr",
     "output_type": "stream",
     "text": [
      "Child returned 0\n",
      "0.75 seconds.\n",
      "Child returned 0\n"
     ]
    },
    {
     "name": "stdout",
     "output_type": "stream",
     "text": [
      "rm -rf /shared/CSHL_data_processed/MD603/MD603_anchor.txt && mkdir -p /shared/CSHL_data_processed/MD603\n",
      "aws s3 cp s3://mousebrainatlas-data/CSHL_data_processed/MD603/MD603_anchor.txt /shared/CSHL_data_processed/MD603/MD603_anchor.txt\n"
     ]
    },
    {
     "name": "stderr",
     "output_type": "stream",
     "text": [
      "Child returned 0\n",
      "0.59 seconds.\n",
      "Child returned 0\n"
     ]
    },
    {
     "name": "stdout",
     "output_type": "stream",
     "text": [
      "rm -rf /shared/CSHL_data_processed/MD603/MD603_alignedTo_MD603-N60-2015.12.03-23.57.05_MD603_2_0179_cropbox.txt && mkdir -p /shared/CSHL_data_processed/MD603\n",
      "aws s3 cp s3://mousebrainatlas-data/CSHL_data_processed/MD603/MD603_alignedTo_MD603-N60-2015.12.03-23.57.05_MD603_2_0179_cropbox.txt /shared/CSHL_data_processed/MD603/MD603_alignedTo_MD603-N60-2015.12.03-23.57.05_MD603_2_0179_cropbox.txt\n"
     ]
    },
    {
     "name": "stderr",
     "output_type": "stream",
     "text": [
      "Child returned 0\n",
      "0.64 seconds.\n",
      "Child returned 0\n"
     ]
    },
    {
     "name": "stdout",
     "output_type": "stream",
     "text": [
      "rm -rf /shared/CSHL_data_processed/MD635/MD635_sorted_filenames.txt && mkdir -p /shared/CSHL_data_processed/MD635\n",
      "aws s3 cp s3://mousebrainatlas-data/CSHL_data_processed/MD635/MD635_sorted_filenames.txt /shared/CSHL_data_processed/MD635/MD635_sorted_filenames.txt\n"
     ]
    },
    {
     "name": "stderr",
     "output_type": "stream",
     "text": [
      "Child returned 0\n",
      "0.65 seconds.\n",
      "Child returned 0\n"
     ]
    },
    {
     "name": "stdout",
     "output_type": "stream",
     "text": [
      "rm -rf /shared/CSHL_data_processed/MD635/MD635_anchor.txt && mkdir -p /shared/CSHL_data_processed/MD635\n",
      "aws s3 cp s3://mousebrainatlas-data/CSHL_data_processed/MD635/MD635_anchor.txt /shared/CSHL_data_processed/MD635/MD635_anchor.txt\n"
     ]
    },
    {
     "name": "stderr",
     "output_type": "stream",
     "text": [
      "Child returned 0\n",
      "0.62 seconds.\n",
      "Child returned 0\n"
     ]
    },
    {
     "name": "stdout",
     "output_type": "stream",
     "text": [
      "rm -rf /shared/CSHL_data_processed/MD635/MD635_alignedTo_MD635-F63-2016.05.19-08.39.03_MD635_2_0188_cropbox.txt && mkdir -p /shared/CSHL_data_processed/MD635\n",
      "aws s3 cp s3://mousebrainatlas-data/CSHL_data_processed/MD635/MD635_alignedTo_MD635-F63-2016.05.19-08.39.03_MD635_2_0188_cropbox.txt /shared/CSHL_data_processed/MD635/MD635_alignedTo_MD635-F63-2016.05.19-08.39.03_MD635_2_0188_cropbox.txt\n"
     ]
    },
    {
     "name": "stderr",
     "output_type": "stream",
     "text": [
      "Child returned 0\n",
      "0.69 seconds.\n",
      "Child returned 0\n"
     ]
    },
    {
     "name": "stdout",
     "output_type": "stream",
     "text": [
      "rm -rf /shared/CSHL_data_processed/MD653/MD653_sorted_filenames.txt && mkdir -p /shared/CSHL_data_processed/MD653\n",
      "aws s3 cp s3://mousebrainatlas-data/CSHL_data_processed/MD653/MD653_sorted_filenames.txt /shared/CSHL_data_processed/MD653/MD653_sorted_filenames.txt\n"
     ]
    },
    {
     "name": "stderr",
     "output_type": "stream",
     "text": [
      "Child returned 0\n",
      "0.63 seconds.\n",
      "Child returned 0\n"
     ]
    },
    {
     "name": "stdout",
     "output_type": "stream",
     "text": [
      "rm -rf /shared/CSHL_data_processed/MD653/MD653_anchor.txt && mkdir -p /shared/CSHL_data_processed/MD653\n",
      "aws s3 cp s3://mousebrainatlas-data/CSHL_data_processed/MD653/MD653_anchor.txt /shared/CSHL_data_processed/MD653/MD653_anchor.txt\n"
     ]
    },
    {
     "name": "stderr",
     "output_type": "stream",
     "text": [
      "Child returned 0\n",
      "0.72 seconds.\n",
      "Child returned 0\n"
     ]
    },
    {
     "name": "stdout",
     "output_type": "stream",
     "text": [
      "rm -rf /shared/CSHL_data_processed/MD653/MD653_alignedTo_MD653-F64-2016.12.21-12.03.55_MD653_2_0191_cropbox.txt && mkdir -p /shared/CSHL_data_processed/MD653\n",
      "aws s3 cp s3://mousebrainatlas-data/CSHL_data_processed/MD653/MD653_alignedTo_MD653-F64-2016.12.21-12.03.55_MD653_2_0191_cropbox.txt /shared/CSHL_data_processed/MD653/MD653_alignedTo_MD653-F64-2016.12.21-12.03.55_MD653_2_0191_cropbox.txt\n"
     ]
    },
    {
     "name": "stderr",
     "output_type": "stream",
     "text": [
      "Child returned 0\n",
      "0.64 seconds.\n",
      "Child returned 0\n"
     ]
    },
    {
     "name": "stdout",
     "output_type": "stream",
     "text": [
      "rm -rf /shared/CSHL_data_processed/MD652/MD652_sorted_filenames.txt && mkdir -p /shared/CSHL_data_processed/MD652\n",
      "aws s3 cp s3://mousebrainatlas-data/CSHL_data_processed/MD652/MD652_sorted_filenames.txt /shared/CSHL_data_processed/MD652/MD652_sorted_filenames.txt\n"
     ]
    },
    {
     "name": "stderr",
     "output_type": "stream",
     "text": [
      "Child returned 0\n",
      "0.70 seconds.\n",
      "Child returned 0\n"
     ]
    },
    {
     "name": "stdout",
     "output_type": "stream",
     "text": [
      "rm -rf /shared/CSHL_data_processed/MD652/MD652_anchor.txt && mkdir -p /shared/CSHL_data_processed/MD652\n",
      "aws s3 cp s3://mousebrainatlas-data/CSHL_data_processed/MD652/MD652_anchor.txt /shared/CSHL_data_processed/MD652/MD652_anchor.txt\n"
     ]
    },
    {
     "name": "stderr",
     "output_type": "stream",
     "text": [
      "Child returned 0\n",
      "0.59 seconds.\n",
      "Child returned 0\n"
     ]
    },
    {
     "name": "stdout",
     "output_type": "stream",
     "text": [
      "rm -rf /shared/CSHL_data_processed/MD652/MD652_alignedTo_MD652-F45-2016.12.17-05.56.31_MD652_2_0134_cropbox.txt && mkdir -p /shared/CSHL_data_processed/MD652\n",
      "aws s3 cp s3://mousebrainatlas-data/CSHL_data_processed/MD652/MD652_alignedTo_MD652-F45-2016.12.17-05.56.31_MD652_2_0134_cropbox.txt /shared/CSHL_data_processed/MD652/MD652_alignedTo_MD652-F45-2016.12.17-05.56.31_MD652_2_0134_cropbox.txt\n"
     ]
    },
    {
     "name": "stderr",
     "output_type": "stream",
     "text": [
      "Child returned 0\n",
      "0.63 seconds.\n",
      "Child returned 0\n"
     ]
    },
    {
     "name": "stdout",
     "output_type": "stream",
     "text": [
      "rm -rf /shared/CSHL_data_processed/MD642/MD642_sorted_filenames.txt && mkdir -p /shared/CSHL_data_processed/MD642\n",
      "aws s3 cp s3://mousebrainatlas-data/CSHL_data_processed/MD642/MD642_sorted_filenames.txt /shared/CSHL_data_processed/MD642/MD642_sorted_filenames.txt\n"
     ]
    },
    {
     "name": "stderr",
     "output_type": "stream",
     "text": [
      "Child returned 0\n",
      "0.63 seconds.\n",
      "Child returned 0\n"
     ]
    },
    {
     "name": "stdout",
     "output_type": "stream",
     "text": [
      "rm -rf /shared/CSHL_data_processed/MD642/MD642_anchor.txt && mkdir -p /shared/CSHL_data_processed/MD642\n",
      "aws s3 cp s3://mousebrainatlas-data/CSHL_data_processed/MD642/MD642_anchor.txt /shared/CSHL_data_processed/MD642/MD642_anchor.txt\n"
     ]
    },
    {
     "name": "stderr",
     "output_type": "stream",
     "text": [
      "Child returned 0\n",
      "0.64 seconds.\n",
      "Child returned 0\n"
     ]
    },
    {
     "name": "stdout",
     "output_type": "stream",
     "text": [
      "rm -rf /shared/CSHL_data_processed/MD642/MD642_alignedTo_MD642-F53-2017.01.14-12.23.43_MD642_1_0157_cropbox.txt && mkdir -p /shared/CSHL_data_processed/MD642\n",
      "aws s3 cp s3://mousebrainatlas-data/CSHL_data_processed/MD642/MD642_alignedTo_MD642-F53-2017.01.14-12.23.43_MD642_1_0157_cropbox.txt /shared/CSHL_data_processed/MD642/MD642_alignedTo_MD642-F53-2017.01.14-12.23.43_MD642_1_0157_cropbox.txt\n"
     ]
    },
    {
     "name": "stderr",
     "output_type": "stream",
     "text": [
      "Child returned 0\n",
      "0.59 seconds.\n",
      "Child returned 0\n"
     ]
    },
    {
     "name": "stdout",
     "output_type": "stream",
     "text": [
      "rm -rf /shared/CSHL_data_processed/MD657/MD657_sorted_filenames.txt && mkdir -p /shared/CSHL_data_processed/MD657\n",
      "aws s3 cp s3://mousebrainatlas-data/CSHL_data_processed/MD657/MD657_sorted_filenames.txt /shared/CSHL_data_processed/MD657/MD657_sorted_filenames.txt\n"
     ]
    },
    {
     "name": "stderr",
     "output_type": "stream",
     "text": [
      "Child returned 0\n",
      "0.70 seconds.\n",
      "Child returned 0\n"
     ]
    },
    {
     "name": "stdout",
     "output_type": "stream",
     "text": [
      "rm -rf /shared/CSHL_data_processed/MD657/MD657_anchor.txt && mkdir -p /shared/CSHL_data_processed/MD657\n",
      "aws s3 cp s3://mousebrainatlas-data/CSHL_data_processed/MD657/MD657_anchor.txt /shared/CSHL_data_processed/MD657/MD657_anchor.txt\n"
     ]
    },
    {
     "name": "stderr",
     "output_type": "stream",
     "text": [
      "Child returned 0\n",
      "0.71 seconds.\n",
      "Child returned 0\n"
     ]
    },
    {
     "name": "stdout",
     "output_type": "stream",
     "text": [
      "rm -rf /shared/CSHL_data_processed/MD657/MD657_alignedTo_MD657-F44-2017.02.18-06.06.27_MD657_1_0130_cropbox.txt && mkdir -p /shared/CSHL_data_processed/MD657\n",
      "aws s3 cp s3://mousebrainatlas-data/CSHL_data_processed/MD657/MD657_alignedTo_MD657-F44-2017.02.18-06.06.27_MD657_1_0130_cropbox.txt /shared/CSHL_data_processed/MD657/MD657_alignedTo_MD657-F44-2017.02.18-06.06.27_MD657_1_0130_cropbox.txt\n"
     ]
    },
    {
     "name": "stderr",
     "output_type": "stream",
     "text": [
      "Child returned 0\n",
      "0.59 seconds.\n",
      "Child returned 0\n"
     ]
    },
    {
     "name": "stdout",
     "output_type": "stream",
     "text": [
      "rm -rf /shared/CSHL_data_processed/MD658/MD658_sorted_filenames.txt && mkdir -p /shared/CSHL_data_processed/MD658\n",
      "aws s3 cp s3://mousebrainatlas-data/CSHL_data_processed/MD658/MD658_sorted_filenames.txt /shared/CSHL_data_processed/MD658/MD658_sorted_filenames.txt\n"
     ]
    },
    {
     "name": "stderr",
     "output_type": "stream",
     "text": [
      "Child returned 0\n",
      "0.63 seconds.\n",
      "Child returned 0\n"
     ]
    },
    {
     "name": "stdout",
     "output_type": "stream",
     "text": [
      "rm -rf /shared/CSHL_data_processed/MD658/MD658_anchor.txt && mkdir -p /shared/CSHL_data_processed/MD658\n",
      "aws s3 cp s3://mousebrainatlas-data/CSHL_data_processed/MD658/MD658_anchor.txt /shared/CSHL_data_processed/MD658/MD658_anchor.txt\n"
     ]
    },
    {
     "name": "stderr",
     "output_type": "stream",
     "text": [
      "Child returned 0\n",
      "0.65 seconds.\n",
      "Child returned 0\n"
     ]
    },
    {
     "name": "stdout",
     "output_type": "stream",
     "text": [
      "rm -rf /shared/CSHL_data_processed/MD658/MD658_alignedTo_MD658-N58-2017.03.31-19.59.31_MD658_2_0173_cropbox.txt && mkdir -p /shared/CSHL_data_processed/MD658\n",
      "aws s3 cp s3://mousebrainatlas-data/CSHL_data_processed/MD658/MD658_alignedTo_MD658-N58-2017.03.31-19.59.31_MD658_2_0173_cropbox.txt /shared/CSHL_data_processed/MD658/MD658_alignedTo_MD658-N58-2017.03.31-19.59.31_MD658_2_0173_cropbox.txt\n"
     ]
    },
    {
     "name": "stderr",
     "output_type": "stream",
     "text": [
      "Child returned 0\n",
      "0.59 seconds.\n"
     ]
    }
   ],
   "source": [
    "%load_ext autoreload\n",
    "%autoreload 2\n",
    "\n",
    "import sys\n",
    "import os\n",
    "import time\n",
    "\n",
    "import numpy as np\n",
    "import mxnet as mx\n",
    "import matplotlib.pyplot as plt\n",
    "%matplotlib inline\n",
    "\n",
    "sys.path.append(os.environ['REPO_DIR'] + '/utilities')\n",
    "from utilities2015 import *\n",
    "from metadata import *\n",
    "from data_manager import *\n",
    "from learning_utilities import *"
   ]
  },
  {
   "cell_type": "code",
   "execution_count": 44,
   "metadata": {},
   "outputs": [],
   "source": [
    "model_dir_name = 'inception-bn-blue-softmax'\n",
    "download_from_s3(os.path.join(MXNET_MODEL_ROOTDIR, model_dir_name), is_dir=True)\n",
    "model_name = 'inception-bn-blue-softmax'\n",
    "model_iteration = 0\n",
    "output_symbol_name = 'softmax_output'\n",
    "output_dim = 1024\n",
    "mean_img = np.load(os.path.join(MXNET_MODEL_ROOTDIR, model_dir_name, 'mean_224.npy'))\n",
    "\n",
    "# Reference on how to predict with mxnet model:\n",
    "# https://github.com/dmlc/mxnet-notebooks/blob/master/python/how_to/predict.ipynb\n",
    "model0, arg_params, aux_params = mx.model.load_checkpoint(os.path.join(MXNET_MODEL_ROOTDIR, model_dir_name, model_name), 0)"
   ]
  },
  {
   "cell_type": "code",
   "execution_count": null,
   "metadata": {
    "collapsed": true
   },
   "outputs": [],
   "source": [
    "# Finetune\n",
    "# http://mxnet.io/how_to/finetune.html"
   ]
  },
  {
   "cell_type": "code",
   "execution_count": 46,
   "metadata": {
    "collapsed": true
   },
   "outputs": [],
   "source": [
    "def get_fine_tune_model(symbol, arg_params, num_classes, layer_name='flatten'):\n",
    "    \"\"\"\n",
    "    symbol: the pretrained network symbol\n",
    "    arg_params: the argument parameters of the pretrained model\n",
    "    num_classes: the number of classes for the fine-tune datasets\n",
    "    layer_name: the layer name before the last fully-connected layer\n",
    "    \"\"\"\n",
    "    all_layers = symbol.get_internals()\n",
    "    net = all_layers[layer_name+'_output']\n",
    "    net = mx.symbol.FullyConnected(data=net, num_hidden=num_classes, name='fc1')\n",
    "    net = mx.symbol.SoftmaxOutput(data=net, name='softmax')\n",
    "    new_args = {k: arg_params[k] for k in arg_params if 'fc1' not in k}\n",
    "    return (net, new_args)"
   ]
  },
  {
   "cell_type": "code",
   "execution_count": 76,
   "metadata": {
    "collapsed": true
   },
   "outputs": [],
   "source": [
    "import logging\n",
    "head = '%(asctime)-15s %(message)s'\n",
    "logging.basicConfig(level=logging.DEBUG, format=head)\n",
    "\n",
    "def fit(symbol, arg_params, aux_params, train, val, batch_size, num_gpus, num_epoch):\n",
    "    devs = [mx.gpu(i) for i in range(num_gpus)]\n",
    "    mod = mx.mod.Module(symbol=symbol, context=devs)\n",
    "    mod.fit(train, val,\n",
    "        num_epoch=num_epoch,\n",
    "        arg_params=arg_params,\n",
    "        aux_params=aux_params,\n",
    "        allow_missing=True,\n",
    "        batch_end_callback = mx.callback.Speedometer(batch_size, 10),\n",
    "        kvstore='device',\n",
    "        optimizer='sgd',\n",
    "        optimizer_params={'learning_rate':0.01},\n",
    "        initializer=mx.init.Xavier(rnd_type='gaussian', factor_type=\"in\", magnitude=2),\n",
    "        eval_metric='acc')\n",
    "    metric = mx.metric.Accuracy()\n",
    "    return mod.score(val, metric)"
   ]
  },
  {
   "cell_type": "code",
   "execution_count": 56,
   "metadata": {},
   "outputs": [],
   "source": [
    "dataset_id = 61\n",
    "\n",
    "train_patch_images_pos_fp = os.path.join(CLF_ROOTDIR, 'datasets', 'dataset_%d' % dataset_id, 'patch_images_7N.hdf')\n",
    "train_pos_patches = bp.unpack_ndarray_file(patch_images_pos_fp)\n",
    "\n",
    "train_patch_images_neg_fp = os.path.join(CLF_ROOTDIR, 'datasets', 'dataset_%d' % dataset_id, 'patch_images_7N_surround_500_noclass.hdf')\n",
    "train_neg_patches = bp.unpack_ndarray_file(patch_images_neg_fp)\n",
    "\n",
    "train_pos_patches_mean_subtracted = train_pos_patches - mean_img\n",
    "train_pos_patches_mean_subtracted_input = train_pos_patches_mean_subtracted[:, None, :, :] # n x 1 x 224 x 224\n",
    "\n",
    "train_neg_patches_mean_subtracted = train_neg_patches - mean_img\n",
    "train_neg_patches_mean_subtracted_input = train_neg_patches_mean_subtracted[:, None, :, :] # n x 1 x 224 x 224"
   ]
  },
  {
   "cell_type": "code",
   "execution_count": 57,
   "metadata": {
    "collapsed": true
   },
   "outputs": [],
   "source": [
    "dataset_id = 60\n",
    "\n",
    "val_patch_images_pos_fp = os.path.join(CLF_ROOTDIR, 'datasets', 'dataset_%d' % dataset_id, 'patch_images_7N.hdf')\n",
    "val_pos_patches = bp.unpack_ndarray_file(val_patch_images_pos_fp)\n",
    "\n",
    "val_patch_images_neg_fp = os.path.join(CLF_ROOTDIR, 'datasets', 'dataset_%d' % dataset_id, 'patch_images_7N_surround_500_noclass.hdf')\n",
    "val_neg_patches = bp.unpack_ndarray_file(val_patch_images_neg_fp)\n",
    "\n",
    "val_pos_patches_mean_subtracted = val_pos_patches - mean_img\n",
    "val_pos_patches_mean_subtracted_input = val_pos_patches_mean_subtracted[:, None, :, :] # n x 1 x 224 x 224\n",
    "\n",
    "val_neg_patches_mean_subtracted = val_neg_patches - mean_img\n",
    "val_neg_patches_mean_subtracted_input = val_neg_patches_mean_subtracted[:, None, :, :] # n x 1 x 224 x 224"
   ]
  },
  {
   "cell_type": "code",
   "execution_count": 69,
   "metadata": {
    "collapsed": true
   },
   "outputs": [],
   "source": [
    "num_classes = 2\n",
    "batch_per_gpu = 16\n",
    "num_gpus = 1"
   ]
  },
  {
   "cell_type": "code",
   "execution_count": 70,
   "metadata": {
    "collapsed": true
   },
   "outputs": [],
   "source": [
    "batch_size = batch_per_gpu * num_gpus"
   ]
  },
  {
   "cell_type": "code",
   "execution_count": 71,
   "metadata": {},
   "outputs": [],
   "source": [
    "train_data_iter = mx.io.NDArrayIter(\n",
    "                data=np.concatenate([train_pos_patches_mean_subtracted_input, train_neg_patches_mean_subtracted_input]), \n",
    "                batch_size=batch_size,\n",
    "                label=np.r_[np.ones((train_pos_patches.shape[0],)), np.zeros((train_neg_patches.shape[0],))],\n",
    "                shuffle=True)"
   ]
  },
  {
   "cell_type": "code",
   "execution_count": 72,
   "metadata": {
    "collapsed": true
   },
   "outputs": [],
   "source": [
    "val_data_iter = mx.io.NDArrayIter(\n",
    "                data=np.concatenate([val_pos_patches_mean_subtracted_input, val_neg_patches_mean_subtracted_input]), \n",
    "                batch_size=batch_size,\n",
    "                label=np.r_[np.ones((val_pos_patches.shape[0],)), np.zeros((val_neg_patches.shape[0],))],\n",
    "                shuffle=True)"
   ]
  },
  {
   "cell_type": "code",
   "execution_count": 73,
   "metadata": {},
   "outputs": [],
   "source": [
    "(new_sym, new_args) = get_fine_tune_model(model0, arg_params, num_classes)"
   ]
  },
  {
   "cell_type": "code",
   "execution_count": 77,
   "metadata": {
    "scrolled": true
   },
   "outputs": [
    {
     "name": "stderr",
     "output_type": "stream",
     "text": [
      "2017-06-10 09:38:38,728 Epoch[0] Batch [10]\tSpeed: 77.64 samples/sec\taccuracy=0.551136\n",
      "2017-06-10 09:38:42,816 Epoch[0] Batch [20]\tSpeed: 78.31 samples/sec\taccuracy=0.703125\n",
      "2017-06-10 09:38:46,886 Epoch[0] Batch [30]\tSpeed: 78.70 samples/sec\taccuracy=0.740625\n",
      "2017-06-10 09:38:50,976 Epoch[0] Batch [40]\tSpeed: 78.31 samples/sec\taccuracy=0.771875\n",
      "2017-06-10 09:38:55,062 Epoch[0] Batch [50]\tSpeed: 78.34 samples/sec\taccuracy=0.831250\n",
      "2017-06-10 09:38:59,156 Epoch[0] Batch [60]\tSpeed: 78.24 samples/sec\taccuracy=0.787500\n",
      "2017-06-10 09:38:59,975 Epoch[0] Train-accuracy=0.796875\n",
      "2017-06-10 09:38:59,977 Epoch[0] Time cost=25.555\n",
      "2017-06-10 09:39:07,994 Epoch[0] Validation-accuracy=0.733631\n",
      "2017-06-10 09:39:12,214 Epoch[1] Batch [10]\tSpeed: 78.26 samples/sec\taccuracy=0.849432\n",
      "2017-06-10 09:39:16,328 Epoch[1] Batch [20]\tSpeed: 77.80 samples/sec\taccuracy=0.840625\n",
      "2017-06-10 09:39:20,430 Epoch[1] Batch [30]\tSpeed: 78.03 samples/sec\taccuracy=0.856250\n",
      "2017-06-10 09:39:24,519 Epoch[1] Batch [40]\tSpeed: 78.29 samples/sec\taccuracy=0.853125\n",
      "2017-06-10 09:39:28,614 Epoch[1] Batch [50]\tSpeed: 78.18 samples/sec\taccuracy=0.868750\n",
      "2017-06-10 09:39:32,720 Epoch[1] Batch [60]\tSpeed: 77.98 samples/sec\taccuracy=0.846875\n",
      "2017-06-10 09:39:33,540 Epoch[1] Train-accuracy=0.906250\n",
      "2017-06-10 09:39:33,541 Epoch[1] Time cost=25.547\n",
      "2017-06-10 09:39:41,583 Epoch[1] Validation-accuracy=0.775298\n",
      "2017-06-10 09:39:45,819 Epoch[2] Batch [10]\tSpeed: 78.11 samples/sec\taccuracy=0.883523\n",
      "2017-06-10 09:39:49,925 Epoch[2] Batch [20]\tSpeed: 78.00 samples/sec\taccuracy=0.871875\n",
      "2017-06-10 09:39:54,048 Epoch[2] Batch [30]\tSpeed: 77.64 samples/sec\taccuracy=0.890625\n",
      "2017-06-10 09:39:58,166 Epoch[2] Batch [40]\tSpeed: 77.75 samples/sec\taccuracy=0.878125\n",
      "2017-06-10 09:40:02,277 Epoch[2] Batch [50]\tSpeed: 77.85 samples/sec\taccuracy=0.909375\n",
      "2017-06-10 09:40:06,369 Epoch[2] Batch [60]\tSpeed: 78.24 samples/sec\taccuracy=0.887500\n",
      "2017-06-10 09:40:07,199 Epoch[2] Train-accuracy=0.937500\n",
      "2017-06-10 09:40:07,203 Epoch[2] Time cost=25.619\n",
      "2017-06-10 09:40:15,257 Epoch[2] Validation-accuracy=0.801587\n",
      "2017-06-10 09:40:19,500 Epoch[3] Batch [10]\tSpeed: 77.87 samples/sec\taccuracy=0.911932\n",
      "2017-06-10 09:40:23,630 Epoch[3] Batch [20]\tSpeed: 77.50 samples/sec\taccuracy=0.893750\n",
      "2017-06-10 09:40:27,746 Epoch[3] Batch [30]\tSpeed: 77.76 samples/sec\taccuracy=0.915625\n",
      "2017-06-10 09:40:31,851 Epoch[3] Batch [40]\tSpeed: 78.02 samples/sec\taccuracy=0.906250\n",
      "2017-06-10 09:40:35,975 Epoch[3] Batch [50]\tSpeed: 77.66 samples/sec\taccuracy=0.931250\n",
      "2017-06-10 09:40:40,087 Epoch[3] Batch [60]\tSpeed: 77.84 samples/sec\taccuracy=0.909375\n",
      "2017-06-10 09:40:40,914 Epoch[3] Train-accuracy=0.937500\n",
      "2017-06-10 09:40:40,915 Epoch[3] Time cost=25.656\n",
      "2017-06-10 09:40:48,992 Epoch[3] Validation-accuracy=0.810020\n",
      "2017-06-10 09:40:53,227 Epoch[4] Batch [10]\tSpeed: 77.99 samples/sec\taccuracy=0.926136\n",
      "2017-06-10 09:40:57,330 Epoch[4] Batch [20]\tSpeed: 78.03 samples/sec\taccuracy=0.918750\n",
      "2017-06-10 09:41:01,444 Epoch[4] Batch [30]\tSpeed: 77.80 samples/sec\taccuracy=0.937500\n",
      "2017-06-10 09:41:05,558 Epoch[4] Batch [40]\tSpeed: 77.86 samples/sec\taccuracy=0.937500\n",
      "2017-06-10 09:41:09,671 Epoch[4] Batch [50]\tSpeed: 77.82 samples/sec\taccuracy=0.946875\n",
      "2017-06-10 09:41:13,804 Epoch[4] Batch [60]\tSpeed: 77.46 samples/sec\taccuracy=0.934375\n",
      "2017-06-10 09:41:14,636 Epoch[4] Train-accuracy=0.968750\n",
      "2017-06-10 09:41:14,637 Epoch[4] Time cost=25.644\n",
      "2017-06-10 09:41:22,726 Epoch[4] Validation-accuracy=0.811508\n",
      "2017-06-10 09:41:26,971 Epoch[5] Batch [10]\tSpeed: 77.87 samples/sec\taccuracy=0.943182\n",
      "2017-06-10 09:41:31,065 Epoch[5] Batch [20]\tSpeed: 78.18 samples/sec\taccuracy=0.931250\n",
      "2017-06-10 09:41:35,169 Epoch[5] Batch [30]\tSpeed: 77.99 samples/sec\taccuracy=0.950000\n",
      "2017-06-10 09:41:39,278 Epoch[5] Batch [40]\tSpeed: 77.91 samples/sec\taccuracy=0.953125\n",
      "2017-06-10 09:41:43,389 Epoch[5] Batch [50]\tSpeed: 77.88 samples/sec\taccuracy=0.959375\n",
      "2017-06-10 09:41:47,497 Epoch[5] Batch [60]\tSpeed: 77.95 samples/sec\taccuracy=0.943750\n",
      "2017-06-10 09:41:48,317 Epoch[5] Train-accuracy=0.968750\n",
      "2017-06-10 09:41:48,318 Epoch[5] Time cost=25.591\n",
      "2017-06-10 09:41:56,370 Epoch[5] Validation-accuracy=0.817460\n",
      "2017-06-10 09:42:00,620 Epoch[6] Batch [10]\tSpeed: 77.73 samples/sec\taccuracy=0.951705\n",
      "2017-06-10 09:42:04,748 Epoch[6] Batch [20]\tSpeed: 77.55 samples/sec\taccuracy=0.934375\n",
      "2017-06-10 09:42:08,867 Epoch[6] Batch [30]\tSpeed: 77.70 samples/sec\taccuracy=0.950000\n",
      "2017-06-10 09:42:13,007 Epoch[6] Batch [40]\tSpeed: 77.34 samples/sec\taccuracy=0.956250\n",
      "2017-06-10 09:42:17,115 Epoch[6] Batch [50]\tSpeed: 77.94 samples/sec\taccuracy=0.962500\n",
      "2017-06-10 09:42:21,233 Epoch[6] Batch [60]\tSpeed: 77.74 samples/sec\taccuracy=0.953125\n",
      "2017-06-10 09:42:22,060 Epoch[6] Train-accuracy=1.000000\n",
      "2017-06-10 09:42:22,061 Epoch[6] Time cost=25.690\n",
      "2017-06-10 09:42:30,107 Epoch[6] Validation-accuracy=0.819940\n",
      "2017-06-10 09:42:34,347 Epoch[7] Batch [10]\tSpeed: 77.94 samples/sec\taccuracy=0.971591\n",
      "2017-06-10 09:42:38,472 Epoch[7] Batch [20]\tSpeed: 77.60 samples/sec\taccuracy=0.953125\n",
      "2017-06-10 09:42:42,575 Epoch[7] Batch [30]\tSpeed: 78.03 samples/sec\taccuracy=0.959375\n",
      "2017-06-10 09:42:46,685 Epoch[7] Batch [40]\tSpeed: 77.88 samples/sec\taccuracy=0.962500\n",
      "2017-06-10 09:42:50,797 Epoch[7] Batch [50]\tSpeed: 77.87 samples/sec\taccuracy=0.965625\n",
      "2017-06-10 09:42:54,918 Epoch[7] Batch [60]\tSpeed: 77.68 samples/sec\taccuracy=0.965625\n",
      "2017-06-10 09:42:55,737 Epoch[7] Train-accuracy=1.000000\n",
      "2017-06-10 09:42:55,741 Epoch[7] Time cost=25.633\n",
      "2017-06-10 09:43:03,799 Epoch[7] Validation-accuracy=0.821429\n",
      "2017-06-10 09:43:08,042 Epoch[8] Batch [10]\tSpeed: 77.85 samples/sec\taccuracy=0.974432\n",
      "2017-06-10 09:43:12,170 Epoch[8] Batch [20]\tSpeed: 77.55 samples/sec\taccuracy=0.959375\n",
      "2017-06-10 09:43:16,297 Epoch[8] Batch [30]\tSpeed: 77.55 samples/sec\taccuracy=0.971875\n",
      "2017-06-10 09:43:20,414 Epoch[8] Batch [40]\tSpeed: 77.77 samples/sec\taccuracy=0.971875\n",
      "2017-06-10 09:43:24,522 Epoch[8] Batch [50]\tSpeed: 77.94 samples/sec\taccuracy=0.968750\n",
      "2017-06-10 09:43:28,633 Epoch[8] Batch [60]\tSpeed: 77.85 samples/sec\taccuracy=0.975000\n",
      "2017-06-10 09:43:29,454 Epoch[8] Train-accuracy=1.000000\n",
      "2017-06-10 09:43:29,455 Epoch[8] Time cost=25.655\n",
      "2017-06-10 09:43:37,507 Epoch[8] Validation-accuracy=0.822421\n",
      "2017-06-10 09:43:41,751 Epoch[9] Batch [10]\tSpeed: 77.84 samples/sec\taccuracy=0.980114\n",
      "2017-06-10 09:43:45,870 Epoch[9] Batch [20]\tSpeed: 77.72 samples/sec\taccuracy=0.968750\n",
      "2017-06-10 09:43:49,977 Epoch[9] Batch [30]\tSpeed: 77.94 samples/sec\taccuracy=0.975000\n",
      "2017-06-10 09:43:54,097 Epoch[9] Batch [40]\tSpeed: 77.71 samples/sec\taccuracy=0.984375\n",
      "2017-06-10 09:43:58,214 Epoch[9] Batch [50]\tSpeed: 77.74 samples/sec\taccuracy=0.978125\n",
      "2017-06-10 09:44:02,345 Epoch[9] Batch [60]\tSpeed: 77.54 samples/sec\taccuracy=0.981250\n",
      "2017-06-10 09:44:03,167 Epoch[9] Train-accuracy=1.000000\n",
      "2017-06-10 09:44:03,168 Epoch[9] Time cost=25.660\n",
      "2017-06-10 09:44:11,229 Epoch[9] Validation-accuracy=0.824405\n",
      "2017-06-10 09:44:15,467 Epoch[10] Batch [10]\tSpeed: 77.92 samples/sec\taccuracy=0.980114\n",
      "2017-06-10 09:44:19,581 Epoch[10] Batch [20]\tSpeed: 77.81 samples/sec\taccuracy=0.968750\n",
      "2017-06-10 09:44:23,697 Epoch[10] Batch [30]\tSpeed: 77.81 samples/sec\taccuracy=0.978125\n",
      "2017-06-10 09:44:27,804 Epoch[10] Batch [40]\tSpeed: 77.96 samples/sec\taccuracy=0.987500\n",
      "2017-06-10 09:44:31,928 Epoch[10] Batch [50]\tSpeed: 77.60 samples/sec\taccuracy=0.984375\n",
      "2017-06-10 09:44:36,058 Epoch[10] Batch [60]\tSpeed: 77.55 samples/sec\taccuracy=0.984375\n",
      "2017-06-10 09:44:36,876 Epoch[10] Train-accuracy=1.000000\n",
      "2017-06-10 09:44:36,878 Epoch[10] Time cost=25.648\n",
      "2017-06-10 09:44:44,930 Epoch[10] Validation-accuracy=0.825893\n",
      "2017-06-10 09:44:49,181 Epoch[11] Batch [10]\tSpeed: 77.70 samples/sec\taccuracy=0.982955\n",
      "2017-06-10 09:44:53,283 Epoch[11] Batch [20]\tSpeed: 78.05 samples/sec\taccuracy=0.975000\n",
      "2017-06-10 09:44:57,392 Epoch[11] Batch [30]\tSpeed: 77.94 samples/sec\taccuracy=0.981250\n",
      "2017-06-10 09:45:01,499 Epoch[11] Batch [40]\tSpeed: 77.93 samples/sec\taccuracy=0.990625\n",
      "2017-06-10 09:45:05,602 Epoch[11] Batch [50]\tSpeed: 78.03 samples/sec\taccuracy=0.990625\n",
      "2017-06-10 09:45:09,713 Epoch[11] Batch [60]\tSpeed: 77.86 samples/sec\taccuracy=0.987500\n",
      "2017-06-10 09:45:10,534 Epoch[11] Train-accuracy=1.000000\n"
     ]
    },
    {
     "name": "stderr",
     "output_type": "stream",
     "text": [
      "2017-06-10 09:45:10,535 Epoch[11] Time cost=25.603\n",
      "2017-06-10 09:45:18,618 Epoch[11] Validation-accuracy=0.825397\n",
      "2017-06-10 09:45:22,850 Epoch[12] Batch [10]\tSpeed: 78.03 samples/sec\taccuracy=0.985795\n",
      "2017-06-10 09:45:26,959 Epoch[12] Batch [20]\tSpeed: 77.94 samples/sec\taccuracy=0.981250\n",
      "2017-06-10 09:45:31,075 Epoch[12] Batch [30]\tSpeed: 77.77 samples/sec\taccuracy=0.981250\n",
      "2017-06-10 09:45:35,195 Epoch[12] Batch [40]\tSpeed: 77.70 samples/sec\taccuracy=0.990625\n",
      "2017-06-10 09:45:39,299 Epoch[12] Batch [50]\tSpeed: 77.99 samples/sec\taccuracy=0.990625\n",
      "2017-06-10 09:45:43,416 Epoch[12] Batch [60]\tSpeed: 77.76 samples/sec\taccuracy=0.996875\n",
      "2017-06-10 09:45:44,238 Epoch[12] Train-accuracy=1.000000\n",
      "2017-06-10 09:45:44,239 Epoch[12] Time cost=25.620\n",
      "2017-06-10 09:45:52,292 Epoch[12] Validation-accuracy=0.824901\n",
      "2017-06-10 09:45:56,518 Epoch[13] Batch [10]\tSpeed: 78.11 samples/sec\taccuracy=0.991477\n",
      "2017-06-10 09:46:00,628 Epoch[13] Batch [20]\tSpeed: 77.90 samples/sec\taccuracy=0.984375\n",
      "2017-06-10 09:46:04,754 Epoch[13] Batch [30]\tSpeed: 77.58 samples/sec\taccuracy=0.987500\n",
      "2017-06-10 09:46:08,861 Epoch[13] Batch [40]\tSpeed: 77.94 samples/sec\taccuracy=0.993750\n",
      "2017-06-10 09:46:12,970 Epoch[13] Batch [50]\tSpeed: 77.90 samples/sec\taccuracy=0.990625\n",
      "2017-06-10 09:46:17,084 Epoch[13] Batch [60]\tSpeed: 77.80 samples/sec\taccuracy=0.996875\n",
      "2017-06-10 09:46:17,904 Epoch[13] Train-accuracy=1.000000\n",
      "2017-06-10 09:46:17,905 Epoch[13] Time cost=25.612\n",
      "2017-06-10 09:46:25,949 Epoch[13] Validation-accuracy=0.822917\n",
      "2017-06-10 09:46:30,201 Epoch[14] Batch [10]\tSpeed: 77.75 samples/sec\taccuracy=0.991477\n",
      "2017-06-10 09:46:34,306 Epoch[14] Batch [20]\tSpeed: 77.98 samples/sec\taccuracy=0.987500\n",
      "2017-06-10 09:46:38,406 Epoch[14] Batch [30]\tSpeed: 78.09 samples/sec\taccuracy=0.993750\n",
      "2017-06-10 09:46:42,528 Epoch[14] Batch [40]\tSpeed: 77.65 samples/sec\taccuracy=0.993750\n",
      "2017-06-10 09:46:46,622 Epoch[14] Batch [50]\tSpeed: 78.23 samples/sec\taccuracy=0.990625\n",
      "2017-06-10 09:46:50,720 Epoch[14] Batch [60]\tSpeed: 78.12 samples/sec\taccuracy=0.996875\n",
      "2017-06-10 09:46:51,543 Epoch[14] Train-accuracy=1.000000\n",
      "2017-06-10 09:46:51,545 Epoch[14] Time cost=25.594\n",
      "2017-06-10 09:46:59,606 Epoch[14] Validation-accuracy=0.823413\n",
      "2017-06-10 09:47:03,850 Epoch[15] Batch [10]\tSpeed: 77.96 samples/sec\taccuracy=0.991477\n",
      "2017-06-10 09:47:07,960 Epoch[15] Batch [20]\tSpeed: 77.89 samples/sec\taccuracy=0.990625\n",
      "2017-06-10 09:47:12,092 Epoch[15] Batch [30]\tSpeed: 77.47 samples/sec\taccuracy=1.000000\n",
      "2017-06-10 09:47:16,204 Epoch[15] Batch [40]\tSpeed: 77.83 samples/sec\taccuracy=0.996875\n",
      "2017-06-10 09:47:20,321 Epoch[15] Batch [50]\tSpeed: 77.78 samples/sec\taccuracy=0.993750\n",
      "2017-06-10 09:47:24,428 Epoch[15] Batch [60]\tSpeed: 77.94 samples/sec\taccuracy=0.996875\n",
      "2017-06-10 09:47:25,254 Epoch[15] Train-accuracy=1.000000\n",
      "2017-06-10 09:47:25,255 Epoch[15] Time cost=25.649\n",
      "2017-06-10 09:47:33,296 Epoch[15] Validation-accuracy=0.823413\n",
      "2017-06-10 09:47:37,535 Epoch[16] Batch [10]\tSpeed: 77.93 samples/sec\taccuracy=1.000000\n",
      "2017-06-10 09:47:41,645 Epoch[16] Batch [20]\tSpeed: 77.89 samples/sec\taccuracy=0.993750\n",
      "2017-06-10 09:47:45,759 Epoch[16] Batch [30]\tSpeed: 77.84 samples/sec\taccuracy=1.000000\n",
      "2017-06-10 09:47:49,854 Epoch[16] Batch [40]\tSpeed: 78.17 samples/sec\taccuracy=1.000000\n",
      "2017-06-10 09:47:53,950 Epoch[16] Batch [50]\tSpeed: 78.15 samples/sec\taccuracy=0.996875\n",
      "2017-06-10 09:47:58,060 Epoch[16] Batch [60]\tSpeed: 77.92 samples/sec\taccuracy=0.996875\n",
      "2017-06-10 09:47:58,882 Epoch[16] Train-accuracy=1.000000\n",
      "2017-06-10 09:47:58,883 Epoch[16] Time cost=25.586\n",
      "2017-06-10 09:48:06,917 Epoch[16] Validation-accuracy=0.822917\n",
      "2017-06-10 09:48:11,174 Epoch[17] Batch [10]\tSpeed: 77.76 samples/sec\taccuracy=1.000000\n",
      "2017-06-10 09:48:15,266 Epoch[17] Batch [20]\tSpeed: 78.22 samples/sec\taccuracy=0.996875\n",
      "2017-06-10 09:48:19,369 Epoch[17] Batch [30]\tSpeed: 78.02 samples/sec\taccuracy=1.000000\n",
      "2017-06-10 09:48:23,479 Epoch[17] Batch [40]\tSpeed: 77.93 samples/sec\taccuracy=1.000000\n",
      "2017-06-10 09:48:27,577 Epoch[17] Batch [50]\tSpeed: 78.11 samples/sec\taccuracy=1.000000\n",
      "2017-06-10 09:48:31,677 Epoch[17] Batch [60]\tSpeed: 78.09 samples/sec\taccuracy=0.996875\n",
      "2017-06-10 09:48:32,496 Epoch[17] Train-accuracy=1.000000\n",
      "2017-06-10 09:48:32,497 Epoch[17] Time cost=25.579\n",
      "2017-06-10 09:48:40,526 Epoch[17] Validation-accuracy=0.819940\n",
      "2017-06-10 09:48:44,749 Epoch[18] Batch [10]\tSpeed: 78.19 samples/sec\taccuracy=1.000000\n",
      "2017-06-10 09:48:48,845 Epoch[18] Batch [20]\tSpeed: 78.15 samples/sec\taccuracy=0.996875\n",
      "2017-06-10 09:48:52,944 Epoch[18] Batch [30]\tSpeed: 78.13 samples/sec\taccuracy=1.000000\n",
      "2017-06-10 09:48:57,047 Epoch[18] Batch [40]\tSpeed: 78.02 samples/sec\taccuracy=1.000000\n",
      "2017-06-10 09:49:01,162 Epoch[18] Batch [50]\tSpeed: 77.80 samples/sec\taccuracy=1.000000\n",
      "2017-06-10 09:49:05,258 Epoch[18] Batch [60]\tSpeed: 78.14 samples/sec\taccuracy=0.996875\n",
      "2017-06-10 09:49:06,076 Epoch[18] Train-accuracy=1.000000\n",
      "2017-06-10 09:49:06,077 Epoch[18] Time cost=25.551\n",
      "2017-06-10 09:49:14,136 Epoch[18] Validation-accuracy=0.819444\n",
      "2017-06-10 09:49:18,355 Epoch[19] Batch [10]\tSpeed: 78.32 samples/sec\taccuracy=1.000000\n",
      "2017-06-10 09:49:22,459 Epoch[19] Batch [20]\tSpeed: 78.00 samples/sec\taccuracy=0.996875\n",
      "2017-06-10 09:49:26,555 Epoch[19] Batch [30]\tSpeed: 78.16 samples/sec\taccuracy=1.000000\n",
      "2017-06-10 09:49:30,656 Epoch[19] Batch [40]\tSpeed: 78.06 samples/sec\taccuracy=1.000000\n",
      "2017-06-10 09:49:34,764 Epoch[19] Batch [50]\tSpeed: 77.96 samples/sec\taccuracy=1.000000\n",
      "2017-06-10 09:49:38,855 Epoch[19] Batch [60]\tSpeed: 78.25 samples/sec\taccuracy=0.996875\n",
      "2017-06-10 09:49:39,671 Epoch[19] Train-accuracy=1.000000\n",
      "2017-06-10 09:49:39,672 Epoch[19] Time cost=25.535\n",
      "2017-06-10 09:49:47,702 Epoch[19] Validation-accuracy=0.815972\n",
      "2017-06-10 09:49:51,936 Epoch[20] Batch [10]\tSpeed: 78.02 samples/sec\taccuracy=1.000000\n",
      "2017-06-10 09:49:56,030 Epoch[20] Batch [20]\tSpeed: 78.17 samples/sec\taccuracy=0.996875\n",
      "2017-06-10 09:50:00,148 Epoch[20] Batch [30]\tSpeed: 77.73 samples/sec\taccuracy=1.000000\n",
      "2017-06-10 09:50:04,264 Epoch[20] Batch [40]\tSpeed: 77.82 samples/sec\taccuracy=1.000000\n",
      "2017-06-10 09:50:08,350 Epoch[20] Batch [50]\tSpeed: 78.34 samples/sec\taccuracy=1.000000\n",
      "2017-06-10 09:50:12,451 Epoch[20] Batch [60]\tSpeed: 78.05 samples/sec\taccuracy=1.000000\n",
      "2017-06-10 09:50:13,272 Epoch[20] Train-accuracy=1.000000\n",
      "2017-06-10 09:50:13,277 Epoch[20] Time cost=25.574\n",
      "2017-06-10 09:50:21,314 Epoch[20] Validation-accuracy=0.816964\n",
      "2017-06-10 09:50:25,537 Epoch[21] Batch [10]\tSpeed: 78.20 samples/sec\taccuracy=1.000000\n",
      "2017-06-10 09:50:29,634 Epoch[21] Batch [20]\tSpeed: 78.16 samples/sec\taccuracy=0.996875\n",
      "2017-06-10 09:50:33,746 Epoch[21] Batch [30]\tSpeed: 77.89 samples/sec\taccuracy=1.000000\n",
      "2017-06-10 09:50:37,840 Epoch[21] Batch [40]\tSpeed: 78.21 samples/sec\taccuracy=1.000000\n",
      "2017-06-10 09:50:41,941 Epoch[21] Batch [50]\tSpeed: 78.05 samples/sec\taccuracy=1.000000\n",
      "2017-06-10 09:50:46,039 Epoch[21] Batch [60]\tSpeed: 78.13 samples/sec\taccuracy=1.000000\n",
      "2017-06-10 09:50:46,860 Epoch[21] Train-accuracy=1.000000\n",
      "2017-06-10 09:50:46,861 Epoch[21] Time cost=25.546\n",
      "2017-06-10 09:50:54,891 Epoch[21] Validation-accuracy=0.817460\n",
      "2017-06-10 09:50:59,115 Epoch[22] Batch [10]\tSpeed: 78.17 samples/sec\taccuracy=1.000000\n",
      "2017-06-10 09:51:03,235 Epoch[22] Batch [20]\tSpeed: 77.68 samples/sec\taccuracy=1.000000\n",
      "2017-06-10 09:51:07,344 Epoch[22] Batch [30]\tSpeed: 77.91 samples/sec\taccuracy=1.000000\n",
      "2017-06-10 09:51:11,444 Epoch[22] Batch [40]\tSpeed: 78.12 samples/sec\taccuracy=1.000000\n",
      "2017-06-10 09:51:15,564 Epoch[22] Batch [50]\tSpeed: 77.69 samples/sec\taccuracy=1.000000\n",
      "2017-06-10 09:51:19,675 Epoch[22] Batch [60]\tSpeed: 77.85 samples/sec\taccuracy=1.000000\n",
      "2017-06-10 09:51:20,500 Epoch[22] Train-accuracy=1.000000\n",
      "2017-06-10 09:51:20,502 Epoch[22] Time cost=25.610\n",
      "2017-06-10 09:51:28,527 Epoch[22] Validation-accuracy=0.815972\n",
      "2017-06-10 09:51:32,750 Epoch[23] Batch [10]\tSpeed: 78.24 samples/sec\taccuracy=1.000000\n",
      "2017-06-10 09:51:36,856 Epoch[23] Batch [20]\tSpeed: 77.96 samples/sec\taccuracy=1.000000\n",
      "2017-06-10 09:51:40,959 Epoch[23] Batch [30]\tSpeed: 78.02 samples/sec\taccuracy=1.000000\n",
      "2017-06-10 09:51:45,074 Epoch[23] Batch [40]\tSpeed: 77.80 samples/sec\taccuracy=1.000000\n",
      "2017-06-10 09:51:49,176 Epoch[23] Batch [50]\tSpeed: 78.04 samples/sec\taccuracy=1.000000\n"
     ]
    },
    {
     "name": "stderr",
     "output_type": "stream",
     "text": [
      "2017-06-10 09:51:53,288 Epoch[23] Batch [60]\tSpeed: 77.83 samples/sec\taccuracy=1.000000\n",
      "2017-06-10 09:51:54,110 Epoch[23] Train-accuracy=1.000000\n",
      "2017-06-10 09:51:54,112 Epoch[23] Time cost=25.584\n",
      "2017-06-10 09:52:02,154 Epoch[23] Validation-accuracy=0.813988\n",
      "2017-06-10 09:52:06,387 Epoch[24] Batch [10]\tSpeed: 78.04 samples/sec\taccuracy=1.000000\n",
      "2017-06-10 09:52:10,494 Epoch[24] Batch [20]\tSpeed: 77.93 samples/sec\taccuracy=1.000000\n",
      "2017-06-10 09:52:14,614 Epoch[24] Batch [30]\tSpeed: 77.69 samples/sec\taccuracy=1.000000\n",
      "2017-06-10 09:52:18,725 Epoch[24] Batch [40]\tSpeed: 77.87 samples/sec\taccuracy=1.000000\n",
      "2017-06-10 09:52:22,807 Epoch[24] Batch [50]\tSpeed: 78.47 samples/sec\taccuracy=1.000000\n",
      "2017-06-10 09:52:26,880 Epoch[24] Batch [60]\tSpeed: 78.59 samples/sec\taccuracy=1.000000\n",
      "2017-06-10 09:52:27,697 Epoch[24] Train-accuracy=1.000000\n",
      "2017-06-10 09:52:27,698 Epoch[24] Time cost=25.543\n",
      "2017-06-10 09:52:35,693 Epoch[24] Validation-accuracy=0.812500\n",
      "2017-06-10 09:52:39,897 Epoch[25] Batch [10]\tSpeed: 78.57 samples/sec\taccuracy=1.000000\n",
      "2017-06-10 09:52:43,979 Epoch[25] Batch [20]\tSpeed: 78.42 samples/sec\taccuracy=1.000000\n",
      "2017-06-10 09:52:48,057 Epoch[25] Batch [30]\tSpeed: 78.49 samples/sec\taccuracy=1.000000\n",
      "2017-06-10 09:52:52,133 Epoch[25] Batch [40]\tSpeed: 78.54 samples/sec\taccuracy=1.000000\n",
      "2017-06-10 09:52:56,210 Epoch[25] Batch [50]\tSpeed: 78.51 samples/sec\taccuracy=1.000000\n",
      "2017-06-10 09:53:00,285 Epoch[25] Batch [60]\tSpeed: 78.57 samples/sec\taccuracy=1.000000\n",
      "2017-06-10 09:53:01,102 Epoch[25] Train-accuracy=1.000000\n",
      "2017-06-10 09:53:01,103 Epoch[25] Time cost=25.409\n",
      "2017-06-10 09:53:09,087 Epoch[25] Validation-accuracy=0.811012\n",
      "2017-06-10 09:53:13,303 Epoch[26] Batch [10]\tSpeed: 78.36 samples/sec\taccuracy=1.000000\n",
      "2017-06-10 09:53:17,395 Epoch[26] Batch [20]\tSpeed: 78.24 samples/sec\taccuracy=1.000000\n",
      "2017-06-10 09:53:21,479 Epoch[26] Batch [30]\tSpeed: 78.36 samples/sec\taccuracy=1.000000\n",
      "2017-06-10 09:53:25,557 Epoch[26] Batch [40]\tSpeed: 78.50 samples/sec\taccuracy=1.000000\n",
      "2017-06-10 09:53:29,640 Epoch[26] Batch [50]\tSpeed: 78.39 samples/sec\taccuracy=1.000000\n",
      "2017-06-10 09:53:33,715 Epoch[26] Batch [60]\tSpeed: 78.56 samples/sec\taccuracy=1.000000\n",
      "2017-06-10 09:53:34,531 Epoch[26] Train-accuracy=1.000000\n",
      "2017-06-10 09:53:34,532 Epoch[26] Time cost=25.444\n",
      "2017-06-10 09:53:42,503 Epoch[26] Validation-accuracy=0.812500\n",
      "2017-06-10 09:53:46,722 Epoch[27] Batch [10]\tSpeed: 78.34 samples/sec\taccuracy=1.000000\n",
      "2017-06-10 09:53:50,801 Epoch[27] Batch [20]\tSpeed: 78.46 samples/sec\taccuracy=1.000000\n",
      "2017-06-10 09:53:54,875 Epoch[27] Batch [30]\tSpeed: 78.57 samples/sec\taccuracy=1.000000\n",
      "2017-06-10 09:53:58,949 Epoch[27] Batch [40]\tSpeed: 78.58 samples/sec\taccuracy=1.000000\n",
      "2017-06-10 09:54:03,024 Epoch[27] Batch [50]\tSpeed: 78.56 samples/sec\taccuracy=1.000000\n",
      "2017-06-10 09:54:07,093 Epoch[27] Batch [60]\tSpeed: 78.66 samples/sec\taccuracy=1.000000\n",
      "2017-06-10 09:54:07,907 Epoch[27] Train-accuracy=1.000000\n",
      "2017-06-10 09:54:07,908 Epoch[27] Time cost=25.403\n",
      "2017-06-10 09:54:15,917 Epoch[27] Validation-accuracy=0.810020\n",
      "2017-06-10 09:54:20,119 Epoch[28] Batch [10]\tSpeed: 78.58 samples/sec\taccuracy=1.000000\n",
      "2017-06-10 09:54:24,201 Epoch[28] Batch [20]\tSpeed: 78.42 samples/sec\taccuracy=1.000000\n",
      "2017-06-10 09:54:28,273 Epoch[28] Batch [30]\tSpeed: 78.60 samples/sec\taccuracy=1.000000\n",
      "2017-06-10 09:54:32,352 Epoch[28] Batch [40]\tSpeed: 78.48 samples/sec\taccuracy=1.000000\n",
      "2017-06-10 09:54:36,422 Epoch[28] Batch [50]\tSpeed: 78.65 samples/sec\taccuracy=1.000000\n",
      "2017-06-10 09:54:40,497 Epoch[28] Batch [60]\tSpeed: 78.55 samples/sec\taccuracy=1.000000\n",
      "2017-06-10 09:54:41,313 Epoch[28] Train-accuracy=1.000000\n",
      "2017-06-10 09:54:41,314 Epoch[28] Time cost=25.397\n",
      "2017-06-10 09:54:49,301 Epoch[28] Validation-accuracy=0.810020\n",
      "2017-06-10 09:54:53,511 Epoch[29] Batch [10]\tSpeed: 78.47 samples/sec\taccuracy=1.000000\n",
      "2017-06-10 09:54:57,582 Epoch[29] Batch [20]\tSpeed: 78.62 samples/sec\taccuracy=1.000000\n",
      "2017-06-10 09:55:01,663 Epoch[29] Batch [30]\tSpeed: 78.45 samples/sec\taccuracy=1.000000\n",
      "2017-06-10 09:55:05,743 Epoch[29] Batch [40]\tSpeed: 78.45 samples/sec\taccuracy=1.000000\n",
      "2017-06-10 09:55:09,811 Epoch[29] Batch [50]\tSpeed: 78.69 samples/sec\taccuracy=1.000000\n",
      "2017-06-10 09:55:13,887 Epoch[29] Batch [60]\tSpeed: 78.54 samples/sec\taccuracy=1.000000\n",
      "2017-06-10 09:55:14,700 Epoch[29] Train-accuracy=1.000000\n",
      "2017-06-10 09:55:14,701 Epoch[29] Time cost=25.399\n",
      "2017-06-10 09:55:22,677 Epoch[29] Validation-accuracy=0.808532\n",
      "2017-06-10 09:55:26,885 Epoch[30] Batch [10]\tSpeed: 78.57 samples/sec\taccuracy=1.000000\n"
     ]
    },
    {
     "ename": "KeyboardInterrupt",
     "evalue": "",
     "output_type": "error",
     "traceback": [
      "\u001b[0;31m---------------------------------------------------------------------------\u001b[0m",
      "\u001b[0;31mKeyboardInterrupt\u001b[0m                         Traceback (most recent call last)",
      "\u001b[0;32m<ipython-input-77-a936c244f5e8>\u001b[0m in \u001b[0;36m<module>\u001b[0;34m()\u001b[0m\n\u001b[0;32m----> 1\u001b[0;31m \u001b[0mmod_score\u001b[0m \u001b[0;34m=\u001b[0m \u001b[0mfit\u001b[0m\u001b[0;34m(\u001b[0m\u001b[0mnew_sym\u001b[0m\u001b[0;34m,\u001b[0m \u001b[0mnew_args\u001b[0m\u001b[0;34m,\u001b[0m \u001b[0maux_params\u001b[0m\u001b[0;34m,\u001b[0m \u001b[0mtrain_data_iter\u001b[0m\u001b[0;34m,\u001b[0m \u001b[0mval_data_iter\u001b[0m\u001b[0;34m,\u001b[0m \u001b[0mbatch_size\u001b[0m\u001b[0;34m,\u001b[0m \u001b[0mnum_gpus\u001b[0m\u001b[0;34m,\u001b[0m \u001b[0mnum_epoch\u001b[0m\u001b[0;34m=\u001b[0m\u001b[0;36m100\u001b[0m\u001b[0;34m)\u001b[0m\u001b[0;34m\u001b[0m\u001b[0m\n\u001b[0m\u001b[1;32m      2\u001b[0m \u001b[0;32massert\u001b[0m \u001b[0mmod_score\u001b[0m \u001b[0;34m>\u001b[0m \u001b[0;36m0.77\u001b[0m\u001b[0;34m,\u001b[0m \u001b[0;34m\"Low training accuracy.\"\u001b[0m\u001b[0;34m\u001b[0m\u001b[0m\n",
      "\u001b[0;32m<ipython-input-76-cb4eb6da8dc1>\u001b[0m in \u001b[0;36mfit\u001b[0;34m(symbol, arg_params, aux_params, train, val, batch_size, num_gpus, num_epoch)\u001b[0m\n\u001b[1;32m     16\u001b[0m         \u001b[0moptimizer_params\u001b[0m\u001b[0;34m=\u001b[0m\u001b[0;34m{\u001b[0m\u001b[0;34m'learning_rate'\u001b[0m\u001b[0;34m:\u001b[0m\u001b[0;36m0.01\u001b[0m\u001b[0;34m}\u001b[0m\u001b[0;34m,\u001b[0m\u001b[0;34m\u001b[0m\u001b[0m\n\u001b[1;32m     17\u001b[0m         \u001b[0minitializer\u001b[0m\u001b[0;34m=\u001b[0m\u001b[0mmx\u001b[0m\u001b[0;34m.\u001b[0m\u001b[0minit\u001b[0m\u001b[0;34m.\u001b[0m\u001b[0mXavier\u001b[0m\u001b[0;34m(\u001b[0m\u001b[0mrnd_type\u001b[0m\u001b[0;34m=\u001b[0m\u001b[0;34m'gaussian'\u001b[0m\u001b[0;34m,\u001b[0m \u001b[0mfactor_type\u001b[0m\u001b[0;34m=\u001b[0m\u001b[0;34m\"in\"\u001b[0m\u001b[0;34m,\u001b[0m \u001b[0mmagnitude\u001b[0m\u001b[0;34m=\u001b[0m\u001b[0;36m2\u001b[0m\u001b[0;34m)\u001b[0m\u001b[0;34m,\u001b[0m\u001b[0;34m\u001b[0m\u001b[0m\n\u001b[0;32m---> 18\u001b[0;31m         eval_metric='acc')\n\u001b[0m\u001b[1;32m     19\u001b[0m     \u001b[0mmetric\u001b[0m \u001b[0;34m=\u001b[0m \u001b[0mmx\u001b[0m\u001b[0;34m.\u001b[0m\u001b[0mmetric\u001b[0m\u001b[0;34m.\u001b[0m\u001b[0mAccuracy\u001b[0m\u001b[0;34m(\u001b[0m\u001b[0;34m)\u001b[0m\u001b[0;34m\u001b[0m\u001b[0m\n\u001b[1;32m     20\u001b[0m     \u001b[0;32mreturn\u001b[0m \u001b[0mmod\u001b[0m\u001b[0;34m.\u001b[0m\u001b[0mscore\u001b[0m\u001b[0;34m(\u001b[0m\u001b[0mval\u001b[0m\u001b[0;34m,\u001b[0m \u001b[0mmetric\u001b[0m\u001b[0;34m)\u001b[0m\u001b[0;34m\u001b[0m\u001b[0m\n",
      "\u001b[0;32m/usr/local/lib/python2.7/dist-packages/mxnet/module/base_module.pyc\u001b[0m in \u001b[0;36mfit\u001b[0;34m(self, train_data, eval_data, eval_metric, epoch_end_callback, batch_end_callback, kvstore, optimizer, optimizer_params, eval_end_callback, eval_batch_end_callback, initializer, arg_params, aux_params, allow_missing, force_rebind, force_init, begin_epoch, num_epoch, validation_metric, monitor)\u001b[0m\n\u001b[1;32m    493\u001b[0m                     \u001b[0mend_of_batch\u001b[0m \u001b[0;34m=\u001b[0m \u001b[0mTrue\u001b[0m\u001b[0;34m\u001b[0m\u001b[0m\n\u001b[1;32m    494\u001b[0m \u001b[0;34m\u001b[0m\u001b[0m\n\u001b[0;32m--> 495\u001b[0;31m                 \u001b[0mself\u001b[0m\u001b[0;34m.\u001b[0m\u001b[0mupdate_metric\u001b[0m\u001b[0;34m(\u001b[0m\u001b[0meval_metric\u001b[0m\u001b[0;34m,\u001b[0m \u001b[0mdata_batch\u001b[0m\u001b[0;34m.\u001b[0m\u001b[0mlabel\u001b[0m\u001b[0;34m)\u001b[0m\u001b[0;34m\u001b[0m\u001b[0m\n\u001b[0m\u001b[1;32m    496\u001b[0m \u001b[0;34m\u001b[0m\u001b[0m\n\u001b[1;32m    497\u001b[0m                 \u001b[0;32mif\u001b[0m \u001b[0mmonitor\u001b[0m \u001b[0;32mis\u001b[0m \u001b[0;32mnot\u001b[0m \u001b[0mNone\u001b[0m\u001b[0;34m:\u001b[0m\u001b[0;34m\u001b[0m\u001b[0m\n",
      "\u001b[0;32m/usr/local/lib/python2.7/dist-packages/mxnet/module/module.pyc\u001b[0m in \u001b[0;36mupdate_metric\u001b[0;34m(self, eval_metric, labels)\u001b[0m\n\u001b[1;32m    678\u001b[0m             \u001b[0mTypically\u001b[0m \u001b[0;34m`\u001b[0m\u001b[0;34m`\u001b[0m\u001b[0mdata_batch\u001b[0m\u001b[0;34m.\u001b[0m\u001b[0mlabel\u001b[0m\u001b[0;34m`\u001b[0m\u001b[0;34m`\u001b[0m\u001b[0;34m.\u001b[0m\u001b[0;34m\u001b[0m\u001b[0m\n\u001b[1;32m    679\u001b[0m         \"\"\"\n\u001b[0;32m--> 680\u001b[0;31m         \u001b[0mself\u001b[0m\u001b[0;34m.\u001b[0m\u001b[0m_exec_group\u001b[0m\u001b[0;34m.\u001b[0m\u001b[0mupdate_metric\u001b[0m\u001b[0;34m(\u001b[0m\u001b[0meval_metric\u001b[0m\u001b[0;34m,\u001b[0m \u001b[0mlabels\u001b[0m\u001b[0;34m)\u001b[0m\u001b[0;34m\u001b[0m\u001b[0m\n\u001b[0m\u001b[1;32m    681\u001b[0m \u001b[0;34m\u001b[0m\u001b[0m\n\u001b[1;32m    682\u001b[0m     \u001b[0;32mdef\u001b[0m \u001b[0m_sync_params_from_devices\u001b[0m\u001b[0;34m(\u001b[0m\u001b[0mself\u001b[0m\u001b[0;34m)\u001b[0m\u001b[0;34m:\u001b[0m\u001b[0;34m\u001b[0m\u001b[0m\n",
      "\u001b[0;32m/usr/local/lib/python2.7/dist-packages/mxnet/module/executor_group.pyc\u001b[0m in \u001b[0;36mupdate_metric\u001b[0;34m(self, eval_metric, labels)\u001b[0m\n\u001b[1;32m    561\u001b[0m             \u001b[0mlabels_\u001b[0m \u001b[0;34m=\u001b[0m \u001b[0mOrderedDict\u001b[0m\u001b[0;34m(\u001b[0m\u001b[0mzip\u001b[0m\u001b[0;34m(\u001b[0m\u001b[0mself\u001b[0m\u001b[0;34m.\u001b[0m\u001b[0mlabel_names\u001b[0m\u001b[0;34m,\u001b[0m \u001b[0mlabels_slice\u001b[0m\u001b[0;34m)\u001b[0m\u001b[0;34m)\u001b[0m\u001b[0;34m\u001b[0m\u001b[0m\n\u001b[1;32m    562\u001b[0m             \u001b[0mpreds\u001b[0m \u001b[0;34m=\u001b[0m \u001b[0mOrderedDict\u001b[0m\u001b[0;34m(\u001b[0m\u001b[0mzip\u001b[0m\u001b[0;34m(\u001b[0m\u001b[0mself\u001b[0m\u001b[0;34m.\u001b[0m\u001b[0moutput_names\u001b[0m\u001b[0;34m,\u001b[0m \u001b[0mtexec\u001b[0m\u001b[0;34m.\u001b[0m\u001b[0moutputs\u001b[0m\u001b[0;34m)\u001b[0m\u001b[0;34m)\u001b[0m\u001b[0;34m\u001b[0m\u001b[0m\n\u001b[0;32m--> 563\u001b[0;31m             \u001b[0meval_metric\u001b[0m\u001b[0;34m.\u001b[0m\u001b[0mupdate_dict\u001b[0m\u001b[0;34m(\u001b[0m\u001b[0mlabels_\u001b[0m\u001b[0;34m,\u001b[0m \u001b[0mpreds\u001b[0m\u001b[0;34m)\u001b[0m\u001b[0;34m\u001b[0m\u001b[0m\n\u001b[0m\u001b[1;32m    564\u001b[0m \u001b[0;34m\u001b[0m\u001b[0m\n\u001b[1;32m    565\u001b[0m     \u001b[0;32mdef\u001b[0m \u001b[0m_bind_ith_exec\u001b[0m\u001b[0;34m(\u001b[0m\u001b[0mself\u001b[0m\u001b[0;34m,\u001b[0m \u001b[0mi\u001b[0m\u001b[0;34m,\u001b[0m \u001b[0mdata_shapes\u001b[0m\u001b[0;34m,\u001b[0m \u001b[0mlabel_shapes\u001b[0m\u001b[0;34m,\u001b[0m \u001b[0mshared_group\u001b[0m\u001b[0;34m)\u001b[0m\u001b[0;34m:\u001b[0m\u001b[0;34m\u001b[0m\u001b[0m\n",
      "\u001b[0;32m/usr/local/lib/python2.7/dist-packages/mxnet/metric.pyc\u001b[0m in \u001b[0;36mupdate_dict\u001b[0;34m(self, label, pred)\u001b[0m\n\u001b[1;32m     89\u001b[0m             \u001b[0mlabel\u001b[0m \u001b[0;34m=\u001b[0m \u001b[0mlabel\u001b[0m\u001b[0;34m.\u001b[0m\u001b[0mvalues\u001b[0m\u001b[0;34m(\u001b[0m\u001b[0;34m)\u001b[0m\u001b[0;34m\u001b[0m\u001b[0m\n\u001b[1;32m     90\u001b[0m \u001b[0;34m\u001b[0m\u001b[0m\n\u001b[0;32m---> 91\u001b[0;31m         \u001b[0mself\u001b[0m\u001b[0;34m.\u001b[0m\u001b[0mupdate\u001b[0m\u001b[0;34m(\u001b[0m\u001b[0mlabel\u001b[0m\u001b[0;34m,\u001b[0m \u001b[0mpred\u001b[0m\u001b[0;34m)\u001b[0m\u001b[0;34m\u001b[0m\u001b[0m\n\u001b[0m\u001b[1;32m     92\u001b[0m \u001b[0;34m\u001b[0m\u001b[0m\n\u001b[1;32m     93\u001b[0m     \u001b[0;32mdef\u001b[0m \u001b[0mupdate\u001b[0m\u001b[0;34m(\u001b[0m\u001b[0mself\u001b[0m\u001b[0;34m,\u001b[0m \u001b[0mlabels\u001b[0m\u001b[0;34m,\u001b[0m \u001b[0mpreds\u001b[0m\u001b[0;34m)\u001b[0m\u001b[0;34m:\u001b[0m\u001b[0;34m\u001b[0m\u001b[0m\n",
      "\u001b[0;32m/usr/local/lib/python2.7/dist-packages/mxnet/metric.pyc\u001b[0m in \u001b[0;36mupdate\u001b[0;34m(self, labels, preds)\u001b[0m\n\u001b[1;32m    374\u001b[0m             \u001b[0;32mif\u001b[0m \u001b[0mpred_label\u001b[0m\u001b[0;34m.\u001b[0m\u001b[0mshape\u001b[0m \u001b[0;34m!=\u001b[0m \u001b[0mlabel\u001b[0m\u001b[0;34m.\u001b[0m\u001b[0mshape\u001b[0m\u001b[0;34m:\u001b[0m\u001b[0;34m\u001b[0m\u001b[0m\n\u001b[1;32m    375\u001b[0m                 \u001b[0mpred_label\u001b[0m \u001b[0;34m=\u001b[0m \u001b[0mndarray\u001b[0m\u001b[0;34m.\u001b[0m\u001b[0margmax\u001b[0m\u001b[0;34m(\u001b[0m\u001b[0mpred_label\u001b[0m\u001b[0;34m,\u001b[0m \u001b[0maxis\u001b[0m\u001b[0;34m=\u001b[0m\u001b[0mself\u001b[0m\u001b[0;34m.\u001b[0m\u001b[0maxis\u001b[0m\u001b[0;34m)\u001b[0m\u001b[0;34m\u001b[0m\u001b[0m\n\u001b[0;32m--> 376\u001b[0;31m             \u001b[0mpred_label\u001b[0m \u001b[0;34m=\u001b[0m \u001b[0mpred_label\u001b[0m\u001b[0;34m.\u001b[0m\u001b[0masnumpy\u001b[0m\u001b[0;34m(\u001b[0m\u001b[0;34m)\u001b[0m\u001b[0;34m.\u001b[0m\u001b[0mastype\u001b[0m\u001b[0;34m(\u001b[0m\u001b[0;34m'int32'\u001b[0m\u001b[0;34m)\u001b[0m\u001b[0;34m\u001b[0m\u001b[0m\n\u001b[0m\u001b[1;32m    377\u001b[0m             \u001b[0mlabel\u001b[0m \u001b[0;34m=\u001b[0m \u001b[0mlabel\u001b[0m\u001b[0;34m.\u001b[0m\u001b[0masnumpy\u001b[0m\u001b[0;34m(\u001b[0m\u001b[0;34m)\u001b[0m\u001b[0;34m.\u001b[0m\u001b[0mastype\u001b[0m\u001b[0;34m(\u001b[0m\u001b[0;34m'int32'\u001b[0m\u001b[0;34m)\u001b[0m\u001b[0;34m\u001b[0m\u001b[0m\n\u001b[1;32m    378\u001b[0m \u001b[0;34m\u001b[0m\u001b[0m\n",
      "\u001b[0;32m/usr/local/lib/python2.7/dist-packages/mxnet/ndarray.pyc\u001b[0m in \u001b[0;36masnumpy\u001b[0;34m(self)\u001b[0m\n\u001b[1;32m    771\u001b[0m             \u001b[0mself\u001b[0m\u001b[0;34m.\u001b[0m\u001b[0mhandle\u001b[0m\u001b[0;34m,\u001b[0m\u001b[0;34m\u001b[0m\u001b[0m\n\u001b[1;32m    772\u001b[0m             \u001b[0mdata\u001b[0m\u001b[0;34m.\u001b[0m\u001b[0mctypes\u001b[0m\u001b[0;34m.\u001b[0m\u001b[0mdata_as\u001b[0m\u001b[0;34m(\u001b[0m\u001b[0mctypes\u001b[0m\u001b[0;34m.\u001b[0m\u001b[0mc_void_p\u001b[0m\u001b[0;34m)\u001b[0m\u001b[0;34m,\u001b[0m\u001b[0;34m\u001b[0m\u001b[0m\n\u001b[0;32m--> 773\u001b[0;31m             ctypes.c_size_t(data.size)))\n\u001b[0m\u001b[1;32m    774\u001b[0m         \u001b[0;32mreturn\u001b[0m \u001b[0mdata\u001b[0m\u001b[0;34m\u001b[0m\u001b[0m\n\u001b[1;32m    775\u001b[0m \u001b[0;34m\u001b[0m\u001b[0m\n",
      "\u001b[0;31mKeyboardInterrupt\u001b[0m: "
     ]
    }
   ],
   "source": [
    "mod_score = fit(new_sym, new_args, aux_params, train_data_iter, val_data_iter, batch_size, num_gpus, num_epoch=100)"
   ]
  },
  {
   "cell_type": "code",
   "execution_count": null,
   "metadata": {
    "collapsed": true
   },
   "outputs": [],
   "source": [
    "# For mxnet 0.9.4, using 80000 patches in a NDArrayIter works but using 90000 patches causes error:\n",
    "# TypeError: Invalid type '<type 'numpy.ndarray'>' for data, should be NDArray or numpy.ndarray\n",
    "\n",
    "t1 = time.time()        \n",
    "\n",
    "outputs = model.predict(data_iter, always_output_list=True)\n",
    "features = outputs[0].asnumpy()"
   ]
  }
 ],
 "metadata": {
  "kernelspec": {
   "display_name": "Python 2",
   "language": "python",
   "name": "python2"
  },
  "language_info": {
   "codemirror_mode": {
    "name": "ipython",
    "version": 2
   },
   "file_extension": ".py",
   "mimetype": "text/x-python",
   "name": "python",
   "nbconvert_exporter": "python",
   "pygments_lexer": "ipython2",
   "version": "2.7.12"
  }
 },
 "nbformat": 4,
 "nbformat_minor": 2
}
