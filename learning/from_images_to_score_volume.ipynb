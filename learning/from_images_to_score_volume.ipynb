{
 "cells": [
  {
   "cell_type": "code",
   "execution_count": 1,
   "metadata": {},
   "outputs": [
    {
     "name": "stdout",
     "output_type": "stream",
     "text": [
      "Setting environment for Precision WorkStation\n"
     ]
    },
    {
     "name": "stderr",
     "output_type": "stream",
     "text": [
      "No vtk\n",
      "/usr/local/lib/python2.7/dist-packages/sklearn/cross_validation.py:44: DeprecationWarning: This module was deprecated in version 0.18 in favor of the model_selection module into which all the refactored classes and functions are moved. Also note that the interface of the new CV iterators are different from that of this module. This module will be removed in 0.20.\n",
      "  \"This module will be removed in 0.20.\", DeprecationWarning)\n"
     ]
    }
   ],
   "source": [
    "%reload_ext autoreload\n",
    "%autoreload 2\n",
    "\n",
    "import os\n",
    "import argparse\n",
    "import sys\n",
    "import time\n",
    "\n",
    "import numpy as np\n",
    "from multiprocess import Pool\n",
    "\n",
    "sys.path.append(os.path.join(os.environ['REPO_DIR'], 'utilities'))\n",
    "from utilities2015 import *\n",
    "from metadata import *\n",
    "from data_manager import *\n",
    "from learning_utilities import *\n",
    "\n",
    "%matplotlib inline"
   ]
  },
  {
   "cell_type": "code",
   "execution_count": 2,
   "metadata": {
    "collapsed": true
   },
   "outputs": [],
   "source": [
    "atlas_spec = dict(name='atlasV6',\n",
    "                   vol_type='score'    ,               \n",
    "                    resolution='10.0um'\n",
    "                   )"
   ]
  },
  {
   "cell_type": "code",
   "execution_count": 3,
   "metadata": {},
   "outputs": [
    {
     "name": "stderr",
     "output_type": "stream",
     "text": [
      "Prior structure/index map not found. Generating a new one.\n"
     ]
    }
   ],
   "source": [
    "atlas_structures_wrt_canonicalAtlasSpace_atlasResol = \\\n",
    "DataManager.load_original_volume_all_known_structures_v3(atlas_spec, in_bbox_wrt='canonicalAtlasSpace',\n",
    "                                                        out_bbox_wrt='canonicalAtlasSpace')"
   ]
  },
  {
   "cell_type": "code",
   "execution_count": null,
   "metadata": {
    "collapsed": true
   },
   "outputs": [],
   "source": []
  },
  {
   "cell_type": "code",
   "execution_count": 4,
   "metadata": {
    "collapsed": true
   },
   "outputs": [],
   "source": [
    "stack = 'CHATM3'"
   ]
  },
  {
   "cell_type": "code",
   "execution_count": 5,
   "metadata": {
    "collapsed": true
   },
   "outputs": [],
   "source": [
    "T_atlas_wrt_canonicalAtlasSpace_subject_wrt_wholebrain_atlasResol = bp.unpack_ndarray_file('/home/yuncong/' + stack + '_T_atlas_wrt_canonicalAtlasSpace_subject_wrt_wholebrain_atlasResol.bp')"
   ]
  },
  {
   "cell_type": "code",
   "execution_count": 6,
   "metadata": {
    "scrolled": true
   },
   "outputs": [
    {
     "name": "stderr",
     "output_type": "stream",
     "text": [
      "/home/yuncong/Brain/utilities/registration_utilities.py:1561: FutureWarning: Conversion of the second argument of issubdtype from `float` to `np.floating` is deprecated. In future, it will be treated as `np.float64 == np.dtype(float).type`.\n",
      "  if np.issubdtype(volume_m_aligned_to_f.dtype, np.float):\n",
      "Interpolating/filling sparse volume: 0.07 seconds.\n",
      "Interpolating/filling sparse volume: 0.33 seconds.\n",
      "Interpolating/filling sparse volume: 0.09 seconds.\n",
      "Interpolating/filling sparse volume: 0.06 seconds.\n",
      "Interpolating/filling sparse volume: 0.02 seconds.\n",
      "Interpolating/filling sparse volume: 0.14 seconds.\n",
      "Interpolating/filling sparse volume: 0.14 seconds.\n",
      "Interpolating/filling sparse volume: 0.06 seconds.\n",
      "Interpolating/filling sparse volume: 0.02 seconds.\n",
      "Interpolating/filling sparse volume: 0.21 seconds.\n",
      "Interpolating/filling sparse volume: 0.33 seconds.\n",
      "Interpolating/filling sparse volume: 0.09 seconds.\n",
      "Interpolating/filling sparse volume: 0.07 seconds.\n",
      "Interpolating/filling sparse volume: 0.12 seconds.\n",
      "Interpolating/filling sparse volume: 0.22 seconds.\n",
      "Interpolating/filling sparse volume: 0.03 seconds.\n",
      "Interpolating/filling sparse volume: 0.05 seconds.\n",
      "Interpolating/filling sparse volume: 0.22 seconds.\n",
      "Interpolating/filling sparse volume: 0.13 seconds.\n",
      "Interpolating/filling sparse volume: 0.12 seconds.\n",
      "Interpolating/filling sparse volume: 0.07 seconds.\n",
      "Interpolating/filling sparse volume: 0.01 seconds.\n",
      "Interpolating/filling sparse volume: 0.01 seconds.\n",
      "Interpolating/filling sparse volume: 0.12 seconds.\n",
      "Interpolating/filling sparse volume: 0.03 seconds.\n",
      "Interpolating/filling sparse volume: 0.04 seconds.\n",
      "Interpolating/filling sparse volume: 0.06 seconds.\n",
      "Interpolating/filling sparse volume: 0.06 seconds.\n",
      "Interpolating/filling sparse volume: 0.01 seconds.\n",
      "Interpolating/filling sparse volume: 0.04 seconds.\n",
      "Interpolating/filling sparse volume: 0.13 seconds.\n",
      "Interpolating/filling sparse volume: 0.01 seconds.\n",
      "Interpolating/filling sparse volume: 0.01 seconds.\n",
      "Interpolating/filling sparse volume: 0.85 seconds.\n",
      "Interpolating/filling sparse volume: 0.07 seconds.\n",
      "Interpolating/filling sparse volume: 0.12 seconds.\n",
      "Interpolating/filling sparse volume: 0.00 seconds.\n",
      "Interpolating/filling sparse volume: 0.06 seconds.\n",
      "Interpolating/filling sparse volume: 0.02 seconds.\n",
      "Interpolating/filling sparse volume: 0.04 seconds.\n",
      "Interpolating/filling sparse volume: 0.11 seconds.\n",
      "Interpolating/filling sparse volume: 0.00 seconds.\n",
      "Interpolating/filling sparse volume: 0.02 seconds.\n",
      "Interpolating/filling sparse volume: 0.02 seconds.\n",
      "Interpolating/filling sparse volume: 0.11 seconds.\n",
      "Interpolating/filling sparse volume: 0.00 seconds.\n",
      "Interpolating/filling sparse volume: 0.02 seconds.\n",
      "Interpolating/filling sparse volume: 0.04 seconds.\n",
      "Interpolating/filling sparse volume: 1.47 seconds.\n",
      "Interpolating/filling sparse volume: 0.05 seconds.\n",
      "Interpolating/filling sparse volume: 0.00 seconds.\n"
     ]
    }
   ],
   "source": [
    "registered_atlas_structures_wrt_wholebrainWithMargin_atlasResol = \\\n",
    "{name_s: transform_volume_v4(volume=vo, transform=T_atlas_wrt_canonicalAtlasSpace_subject_wrt_wholebrain_atlasResol, return_origin_instead_of_bbox=True)\n",
    "for name_s, vo in atlas_structures_wrt_canonicalAtlasSpace_atlasResol.iteritems()}"
   ]
  },
  {
   "cell_type": "code",
   "execution_count": 7,
   "metadata": {
    "collapsed": true
   },
   "outputs": [],
   "source": [
    "# Define volume ROI for which to compute scores based on outline registered atlas."
   ]
  },
  {
   "cell_type": "code",
   "execution_count": 8,
   "metadata": {
    "collapsed": true
   },
   "outputs": [],
   "source": [
    "registered_atlas_structures_bbox_wrt_wholebrainWithMargin_atlasResol = \\\n",
    "{name_s: (o[0], o[0] + v.shape[1] - 1, o[1], o[1] + v.shape[0] - 1, o[2], o[2] + v.shape[2] - 1)\n",
    " for name_s, (v, o) in registered_atlas_structures_wrt_wholebrainWithMargin_atlasResol.iteritems()}"
   ]
  },
  {
   "cell_type": "code",
   "execution_count": 9,
   "metadata": {
    "collapsed": true
   },
   "outputs": [],
   "source": [
    "registered_atlas_structures_xyzTwoCorners_wrt_wholebrainWithMargin_atlasResol = \\\n",
    "{name_s: ((o[0], o[2], o[4]), (o[1], o[3], o[5]))\n",
    "for name_s, o in registered_atlas_structures_bbox_wrt_wholebrainWithMargin_atlasResol.iteritems()}"
   ]
  },
  {
   "cell_type": "code",
   "execution_count": 10,
   "metadata": {
    "collapsed": true
   },
   "outputs": [],
   "source": [
    "registered_atlas_structures_xyzCorners_wrt_wholebrainWithMargin_atlasResol = \\\n",
    "{name_s: ((o[0], o[2], o[4]), (o[0], o[2], o[5]), (o[0], o[3], o[4]), (o[0], o[3], o[5]), \\\n",
    "         (o[1], o[2], o[4]), (o[1], o[2], o[5]), (o[1], o[3], o[4]), (o[1], o[3], o[5]))\n",
    "for name_s, o in registered_atlas_structures_bbox_wrt_wholebrainWithMargin_atlasResol.iteritems()}"
   ]
  },
  {
   "cell_type": "code",
   "execution_count": null,
   "metadata": {
    "collapsed": true
   },
   "outputs": [],
   "source": []
  },
  {
   "cell_type": "code",
   "execution_count": 11,
   "metadata": {
    "collapsed": true
   },
   "outputs": [],
   "source": [
    "from data_manager import CoordinatesConverter"
   ]
  },
  {
   "cell_type": "code",
   "execution_count": 12,
   "metadata": {
    "collapsed": true
   },
   "outputs": [],
   "source": [
    "converter = CoordinatesConverter(stack=stack)"
   ]
  },
  {
   "cell_type": "code",
   "execution_count": 13,
   "metadata": {
    "collapsed": true
   },
   "outputs": [],
   "source": [
    "# registered_atlas_structures_wrt_wholebrainXYcropped_xysec = {}\n",
    "\n",
    "# for name_s, corners_xyz in registered_atlas_structures_xyzCorners_wrt_wholebrainWithMargin_atlasResol.iteritems():\n",
    "# #     print name_s\n",
    "#     registered_atlas_structures_wrt_wholebrainXYcropped_xysec[name_s] = \\\n",
    "#     converter.convert_frame_and_resolution(p=corners_xyz, \n",
    "#                                        in_wrt=('wholebrainWithMargin', 'sagittal'),\n",
    "#                                       in_resolution='10.0um',\n",
    "#                                       out_wrt=('wholebrainXYcropped', 'sagittal'),\n",
    "#                                       out_resolution='image_image_section').astype(np.int)"
   ]
  },
  {
   "cell_type": "code",
   "execution_count": 14,
   "metadata": {
    "collapsed": true
   },
   "outputs": [],
   "source": [
    "registered_atlas_structures_wrt_wholebrainXYcropped_xysecTwoCorners = {}\n",
    "\n",
    "for name_s, corners_xyz in registered_atlas_structures_xyzTwoCorners_wrt_wholebrainWithMargin_atlasResol.iteritems():\n",
    "#     print name_s\n",
    "    registered_atlas_structures_wrt_wholebrainXYcropped_xysecTwoCorners[name_s] = \\\n",
    "    converter.convert_frame_and_resolution(p=corners_xyz, \n",
    "                                       in_wrt=('wholebrainWithMargin', 'sagittal'),\n",
    "                                      in_resolution='10.0um',\n",
    "                                      out_wrt=('wholebrainXYcropped', 'sagittal'),\n",
    "                                      out_resolution='image_image_section').astype(np.int)"
   ]
  },
  {
   "cell_type": "code",
   "execution_count": 15,
   "metadata": {
    "scrolled": true
   },
   "outputs": [
    {
     "data": {
      "text/plain": [
       "{'10N_L': array([[15084, 12156,   203],\n",
       "        [19422, 14525,   229]]), '10N_R': array([[15084, 12156,   232],\n",
       "        [19422, 14525,   258]]), '12N': array([[14961, 12525,   209],\n",
       "        [19053, 14710,   251]]), '3N_L': array([[ 4715,  9264,   216],\n",
       "        [ 6776, 10525,   230]]), '3N_R': array([[ 4715,  9264,   231],\n",
       "        [ 6776, 10525,   245]]), '4N_L': array([[ 6591,  9510,   213],\n",
       "        [ 7238, 10279,   223]]), '4N_R': array([[ 6591,  9510,   238],\n",
       "        [ 7238, 10279,   248]]), '5N_L': array([[ 7884, 11356,   147],\n",
       "        [10376, 14217,   176]]), '5N_R': array([[ 7884, 11356,   285],\n",
       "        [10376, 14217,   314]]), '6N_L': array([[10561, 12340,   206],\n",
       "        [11453, 13202,   218]]), '6N_R': array([[10561, 12340,   243],\n",
       "        [11453, 13202,   255]]), '7N_L': array([[10407, 14648,   149],\n",
       "        [13638, 17356,   196]]), '7N_R': array([[10407, 14648,   265],\n",
       "        [13638, 17356,   312]]), '7n_L': array([[ 8991, 12094,   141],\n",
       "        [12038, 15848,   216]]), '7n_R': array([[ 8991, 12094,   245],\n",
       "        [12038, 15848,   320]]), 'AP': array([[15668, 11664,   221],\n",
       "        [17853, 13017,   242]]), 'Amb_L': array([[13453, 14556,   165],\n",
       "        [15607, 15633,   172]]), 'Amb_R': array([[13453, 14556,   289],\n",
       "        [15607, 15633,   296]]), 'DC_L': array([[10284,  9633,   100],\n",
       "        [14745, 12494,   173]]), 'DC_R': array([[10284,  9633,   288],\n",
       "        [14745, 12494,   361]]), 'IC': array([[ 5299,  2064,   142],\n",
       "        [11453,  8617,   316]]), 'LC_L': array([[ 8684,  9633,   181],\n",
       "        [11576, 12094,   196]]), 'LC_R': array([[ 8684,  9633,   265],\n",
       "        [11576, 12094,   280]]), 'LRt_L': array([[14622, 14525,   153],\n",
       "        [19330, 17202,   194]]), 'LRt_R': array([[14622, 14525,   267],\n",
       "        [19330, 17202,   308]]), 'PBG_L': array([[ 5853,  7571,   129],\n",
       "        [ 7822, 10617,   146]]), 'PBG_R': array([[ 5853,  7571,   315],\n",
       "        [ 7822, 10617,   332]]), 'Pn_L': array([[ 4253, 14279,   171],\n",
       "        [ 7545, 17817,   228]]), 'Pn_R': array([[ 4253, 14279,   233],\n",
       "        [ 7545, 17817,   290]]), 'RMC_L': array([[ 3453, 10494,   181],\n",
       "        [ 6315, 12648,   224]]), 'RMC_R': array([[ 3453, 10494,   237],\n",
       "        [ 6315, 12648,   280]]), 'RtTg': array([[ 5299, 13140,   183],\n",
       "        [ 9976, 16956,   275]]), 'SC': array([[ 1022,  2617,   141],\n",
       "        [ 9391, 10125,   325]]), 'SNC_L': array([[ 2253, 10987,   145],\n",
       "        [ 4653, 14771,   195]]), 'SNC_R': array([[ 2253, 10987,   266],\n",
       "        [ 4653, 14771,   316]]), 'SNR_L': array([[ 2099,  9540,   127],\n",
       "        [ 6407, 15448,   203]]), 'SNR_R': array([[ 2099,  9540,   258],\n",
       "        [ 6407, 15448,   334]]), 'Sp5C_L': array([[16068, 11417,   130],\n",
       "        [23391, 17664,   190]]), 'Sp5C_R': array([[16068, 11417,   271],\n",
       "        [23391, 17664,   331]]), 'Sp5I_L': array([[11545, 11171,   114],\n",
       "        [18315, 15571,   146]]), 'Sp5I_R': array([[11545, 11171,   315],\n",
       "        [18315, 15571,   347]]), 'Sp5O_L': array([[ 8191, 11171,   120],\n",
       "        [16592, 15633,   147]]), 'Sp5O_R': array([[ 8191, 11171,   314],\n",
       "        [16592, 15633,   341]]), 'Tz_L': array([[ 7238, 15817,   191],\n",
       "        [10653, 17233,   221]]), 'Tz_R': array([[ 7238, 15817,   240],\n",
       "        [10653, 17233,   270]]), 'VCA_L': array([[ 8468, 10802,    93],\n",
       "        [12653, 14340,   130]]), 'VCA_R': array([[ 8468, 10802,   331],\n",
       "        [12653, 14340,   368]]), 'VCP_L': array([[10930, 10587,   100],\n",
       "        [13822, 14402,   137]]), 'VCP_R': array([[10930, 10587,   324],\n",
       "        [13822, 14402,   361]]), 'VLL_L': array([[ 5576,  9540,   134],\n",
       "        [ 8622, 17417,   181]]), 'VLL_R': array([[ 5576,  9540,   280],\n",
       "        [ 8622, 17417,   327]])}"
      ]
     },
     "execution_count": 15,
     "metadata": {},
     "output_type": "execute_result"
    }
   ],
   "source": [
    "registered_atlas_structures_wrt_wholebrainXYcropped_xysecTwoCorners"
   ]
  },
  {
   "cell_type": "code",
   "execution_count": 16,
   "metadata": {
    "collapsed": true
   },
   "outputs": [],
   "source": [
    "save_json(registered_atlas_structures_wrt_wholebrainXYcropped_xysecTwoCorners, \n",
    "          '/home/yuncong/' + stack + '_registered_atlas_structures_wrt_wholebrainXYcropped_xysecTwoCorners.json')"
   ]
  },
  {
   "cell_type": "code",
   "execution_count": 15,
   "metadata": {
    "collapsed": true
   },
   "outputs": [],
   "source": [
    "# registered_atlas_structures_wrt_wholebrainWithMargin_section_limits = {}\n",
    "\n",
    "# for name_s, b in registered_atlas_structures_bbox_wrt_wholebrainWithMargin_atlasResol.iteritems():\n",
    "# #     print name_s\n",
    "#     registered_atlas_structures_wrt_wholebrainWithMargin_section_limits[name_s] = \\\n",
    "#     converter.convert_frame_and_resolution(p=[[np.nan, np.nan, b[4]], [np.nan, np.nan, b[5]]], \n",
    "#                                        in_wrt=('wholebrainWithMargin', 'sagittal'),\n",
    "#                                       in_resolution='10.0um',\n",
    "#                                       out_wrt='wholebrain',\n",
    "#                                       out_resolution='image_image_section')[:,2].astype(np.int)"
   ]
  },
  {
   "cell_type": "code",
   "execution_count": 35,
   "metadata": {
    "collapsed": true,
    "scrolled": true
   },
   "outputs": [],
   "source": [
    "# registered_atlas_structures_wrt_wholebrainWithMargin_section_limits"
   ]
  },
  {
   "cell_type": "code",
   "execution_count": 36,
   "metadata": {
    "collapsed": true
   },
   "outputs": [],
   "source": [
    "# save_json(registered_atlas_structures_wrt_wholebrainWithMargin_section_limits, \n",
    "#           '/home/yuncong/' + stack + '_structure_section_limits.json')"
   ]
  },
  {
   "cell_type": "code",
   "execution_count": null,
   "metadata": {
    "collapsed": true
   },
   "outputs": [],
   "source": []
  },
  {
   "cell_type": "code",
   "execution_count": 4,
   "metadata": {},
   "outputs": [
    {
     "name": "stderr",
     "output_type": "stream",
     "text": [
      "/usr/local/lib/python2.7/dist-packages/mxnet/module/base_module.py:53: UserWarning: \u001b[91mYou created Module with Module(..., label_names=['softmax_label']) but input with name 'softmax_label' is not found in symbol.list_arguments(). Did you mean one of:\n",
      "\tdata\u001b[0m\n",
      "  warnings.warn(msg)\n",
      "/usr/local/lib/python2.7/dist-packages/mxnet/module/base_module.py:65: UserWarning: Data provided by label_shapes don't match names specified by label_names ([] vs. ['softmax_label'])\n",
      "  warnings.warn(msg)\n"
     ]
    }
   ],
   "source": [
    "batch_size = 256\n",
    "model_dir_name = 'inception-bn-blue'\n",
    "model_name = 'inception-bn-blue'\n",
    "model, mean_img = load_mxnet_model(model_dir_name=model_dir_name, model_name=model_name, \n",
    "                                   num_gpus=1, batch_size=batch_size)"
   ]
  },
  {
   "cell_type": "code",
   "execution_count": 7,
   "metadata": {},
   "outputs": [],
   "source": [
    "# out_resolution_um = 10.\n",
    "# out_resolution_str = '%.1fum' % out_resolution_um\n",
    "\n",
    "# detector_id = 998\n",
    "detector_id = 799\n",
    "# print 'input_version:', detector_settings.loc[detector_id]['input_version']"
   ]
  },
  {
   "cell_type": "code",
   "execution_count": 8,
   "metadata": {
    "collapsed": true
   },
   "outputs": [],
   "source": [
    "detector_setting = {}\n",
    "detector_setting['feature_classifier_id'] = 899\n",
    "detector_setting['windowing_id'] = 7"
   ]
  },
  {
   "cell_type": "code",
   "execution_count": 9,
   "metadata": {
    "collapsed": true
   },
   "outputs": [],
   "source": [
    "clfs = DataManager.load_classifiers(classifier_id=detector_setting['feature_classifier_id'])"
   ]
  },
  {
   "cell_type": "code",
   "execution_count": 10,
   "metadata": {
    "collapsed": true
   },
   "outputs": [],
   "source": [
    "win_id = detector_setting['windowing_id']"
   ]
  },
  {
   "cell_type": "code",
   "execution_count": 11,
   "metadata": {
    "collapsed": true
   },
   "outputs": [],
   "source": [
    "motor_nuclei = ['Amb', '3N', '4N', '5N', '6N', '7N', '10N', '12N']"
   ]
  },
  {
   "cell_type": "code",
   "execution_count": 12,
   "metadata": {
    "collapsed": true
   },
   "outputs": [],
   "source": [
    "# output_resolution = '10.0um'"
   ]
  },
  {
   "cell_type": "code",
   "execution_count": null,
   "metadata": {
    "scrolled": true
   },
   "outputs": [
    {
     "name": "stdout",
     "output_type": "stream",
     "text": [
      "Amb 89\n"
     ]
    },
    {
     "name": "stderr",
     "output_type": "stream",
     "text": [
      "locate patches: 0.05 seconds\n",
      "Load pre-computed features: 0.87 seconds\n",
      "Not using image_cache.\n"
     ]
    },
    {
     "name": "stdout",
     "output_type": "stream",
     "text": [
      "/data/CSHL_data_processed/CHATM2/CHATM2_prep2_raw_NtbNormalizedAdaptiveInvertedGammaJpeg/CHATM2_slide29_2018_01_18-S3_prep2_raw_NtbNormalizedAdaptiveInvertedGammaJpeg.jpg\n"
     ]
    },
    {
     "name": "stderr",
     "output_type": "stream",
     "text": [
      "Load background image: 2.33 seconds\n",
      "/usr/local/lib/python2.7/dist-packages/skimage/transform/_warps.py:84: UserWarning: The default mode, 'constant', will be changed to 'reflect' in skimage 0.15.\n",
      "  warn(\"The default mode, 'constant', will be changed to 'reflect' in \"\n",
      "Rescale background image to output resolution: 0.21 seconds\n",
      "Predict scores Amb: 0.01 seconds\n",
      "Resample scoremap Amb: 0.09 seconds\n",
      "Load and rescale background image: 0.00 seconds\n",
      "/usr/local/lib/python2.7/dist-packages/skimage/util/dtype.py:122: UserWarning: Possible precision loss when converting from float64 to uint8\n",
      "  .format(dtypeobj_in, dtypeobj_out))\n",
      "Generate scoremap overlay: 0.06 seconds.\n",
      "Scoremap size does not match background image size. Need to resize: 0.08 seconds.\n",
      "Generate scoremap overlay image Amb: 0.17 seconds\n",
      "locate patches: 0.05 seconds\n"
     ]
    },
    {
     "name": "stdout",
     "output_type": "stream",
     "text": [
      "(597, 925, 3) (597, 925)\n",
      "Amb 90\n"
     ]
    },
    {
     "name": "stderr",
     "output_type": "stream",
     "text": [
      "Load pre-computed features: 1.10 seconds\n",
      "Not using image_cache.\n"
     ]
    },
    {
     "name": "stdout",
     "output_type": "stream",
     "text": [
      "/data/CSHL_data_processed/CHATM2/CHATM2_prep2_raw_NtbNormalizedAdaptiveInvertedGammaJpeg/CHATM2_slide30_2018_01_18-S3_prep2_raw_NtbNormalizedAdaptiveInvertedGammaJpeg.jpg\n"
     ]
    },
    {
     "name": "stderr",
     "output_type": "stream",
     "text": [
      "Load background image: 2.58 seconds\n",
      "Rescale background image to output resolution: 0.21 seconds\n",
      "Predict scores Amb: 0.01 seconds\n",
      "Resample scoremap Amb: 0.10 seconds\n",
      "Load and rescale background image: 0.00 seconds\n",
      "Generate scoremap overlay: 0.05 seconds.\n",
      "Scoremap size does not match background image size. Need to resize: 0.07 seconds.\n",
      "Generate scoremap overlay image Amb: 0.15 seconds\n",
      "locate patches: 0.03 seconds\n"
     ]
    },
    {
     "name": "stdout",
     "output_type": "stream",
     "text": [
      "(597, 925, 3) (597, 925)\n",
      "Amb 92\n"
     ]
    },
    {
     "name": "stderr",
     "output_type": "stream",
     "text": [
      "Load pre-computed features: 1.15 seconds\n",
      "Not using image_cache.\n"
     ]
    },
    {
     "name": "stdout",
     "output_type": "stream",
     "text": [
      "/data/CSHL_data_processed/CHATM2/CHATM2_prep2_raw_NtbNormalizedAdaptiveInvertedGammaJpeg/CHATM2_slide32_2018_01_20-S1_prep2_raw_NtbNormalizedAdaptiveInvertedGammaJpeg.jpg\n"
     ]
    },
    {
     "name": "stderr",
     "output_type": "stream",
     "text": [
      "Load background image: 2.56 seconds\n",
      "Rescale background image to output resolution: 0.23 seconds\n",
      "Predict scores Amb: 0.01 seconds\n",
      "Resample scoremap Amb: 0.07 seconds\n",
      "Load and rescale background image: 0.00 seconds\n",
      "Generate scoremap overlay: 0.05 seconds.\n",
      "Scoremap size does not match background image size. Need to resize: 0.07 seconds.\n"
     ]
    },
    {
     "name": "stdout",
     "output_type": "stream",
     "text": [
      "(597, 925, 3) (597, 925)\n",
      "Amb 93\n"
     ]
    },
    {
     "name": "stderr",
     "output_type": "stream",
     "text": [
      "Generate scoremap overlay image Amb: 0.15 seconds\n",
      "locate patches: 0.04 seconds\n",
      "Load pre-computed features: 1.03 seconds\n",
      "Not using image_cache.\n"
     ]
    },
    {
     "name": "stdout",
     "output_type": "stream",
     "text": [
      "/data/CSHL_data_processed/CHATM2/CHATM2_prep2_raw_NtbNormalizedAdaptiveInvertedGammaJpeg/CHATM2_slide31_2018_01_19-S2_prep2_raw_NtbNormalizedAdaptiveInvertedGammaJpeg.jpg\n"
     ]
    },
    {
     "name": "stderr",
     "output_type": "stream",
     "text": [
      "Load background image: 2.62 seconds\n",
      "Rescale background image to output resolution: 0.19 seconds\n",
      "Predict scores Amb: 0.01 seconds\n",
      "Resample scoremap Amb: 0.10 seconds\n",
      "Load and rescale background image: 0.00 seconds\n",
      "Generate scoremap overlay: 0.05 seconds.\n",
      "Scoremap size does not match background image size. Need to resize: 0.08 seconds.\n",
      "Generate scoremap overlay image Amb: 0.16 seconds\n",
      "locate patches: 0.04 seconds\n"
     ]
    },
    {
     "name": "stdout",
     "output_type": "stream",
     "text": [
      "(597, 925, 3) (597, 925)\n",
      "Amb 94\n"
     ]
    },
    {
     "name": "stderr",
     "output_type": "stream",
     "text": [
      "Load pre-computed features: 0.55 seconds\n",
      "Not using image_cache.\n"
     ]
    },
    {
     "name": "stdout",
     "output_type": "stream",
     "text": [
      "/data/CSHL_data_processed/CHATM2/CHATM2_prep2_raw_NtbNormalizedAdaptiveInvertedGammaJpeg/CHATM2_slide32_2018_01_20-S2_prep2_raw_NtbNormalizedAdaptiveInvertedGammaJpeg.jpg\n"
     ]
    },
    {
     "name": "stderr",
     "output_type": "stream",
     "text": [
      "Load background image: 2.59 seconds\n",
      "Rescale background image to output resolution: 0.20 seconds\n",
      "Predict scores Amb: 0.01 seconds\n",
      "Resample scoremap Amb: 0.09 seconds\n",
      "Load and rescale background image: 0.00 seconds\n",
      "Generate scoremap overlay: 0.05 seconds.\n",
      "Scoremap size does not match background image size. Need to resize: 0.08 seconds.\n",
      "Generate scoremap overlay image Amb: 0.15 seconds\n",
      "locate patches: 0.05 seconds\n"
     ]
    },
    {
     "name": "stdout",
     "output_type": "stream",
     "text": [
      "(597, 925, 3) (597, 925)\n",
      "Amb 95\n"
     ]
    },
    {
     "name": "stderr",
     "output_type": "stream",
     "text": [
      "Load pre-computed features: 0.54 seconds\n",
      "Not using image_cache.\n"
     ]
    },
    {
     "name": "stdout",
     "output_type": "stream",
     "text": [
      "/data/CSHL_data_processed/CHATM2/CHATM2_prep2_raw_NtbNormalizedAdaptiveInvertedGammaJpeg/CHATM2_slide31_2018_01_19-S3_prep2_raw_NtbNormalizedAdaptiveInvertedGammaJpeg.jpg\n"
     ]
    },
    {
     "name": "stderr",
     "output_type": "stream",
     "text": [
      "Load background image: 2.56 seconds\n",
      "Rescale background image to output resolution: 0.19 seconds\n",
      "Predict scores Amb: 0.01 seconds\n",
      "Resample scoremap Amb: 0.10 seconds\n",
      "Load and rescale background image: 0.00 seconds\n",
      "Generate scoremap overlay: 0.05 seconds.\n",
      "Scoremap size does not match background image size. Need to resize: 0.07 seconds.\n",
      "Generate scoremap overlay image Amb: 0.15 seconds\n",
      "locate patches: 0.02 seconds\n"
     ]
    },
    {
     "name": "stdout",
     "output_type": "stream",
     "text": [
      "(597, 925, 3) (597, 925)\n",
      "Amb 96\n"
     ]
    },
    {
     "name": "stderr",
     "output_type": "stream",
     "text": [
      "Load pre-computed features: 0.56 seconds\n",
      "Not using image_cache.\n"
     ]
    },
    {
     "name": "stdout",
     "output_type": "stream",
     "text": [
      "/data/CSHL_data_processed/CHATM2/CHATM2_prep2_raw_NtbNormalizedAdaptiveInvertedGammaJpeg/CHATM2_slide32_2018_01_20-S3_prep2_raw_NtbNormalizedAdaptiveInvertedGammaJpeg.jpg\n"
     ]
    },
    {
     "name": "stderr",
     "output_type": "stream",
     "text": [
      "Load background image: 2.57 seconds\n",
      "Rescale background image to output resolution: 0.20 seconds\n",
      "Predict scores Amb: 0.01 seconds\n",
      "Resample scoremap Amb: 0.09 seconds\n",
      "Load and rescale background image: 0.00 seconds\n",
      "Generate scoremap overlay: 0.05 seconds.\n",
      "Scoremap size does not match background image size. Need to resize: 0.08 seconds.\n",
      "Generate scoremap overlay image Amb: 0.16 seconds\n",
      "locate patches: 0.02 seconds\n"
     ]
    },
    {
     "name": "stdout",
     "output_type": "stream",
     "text": [
      "(597, 925, 3) (597, 925)\n",
      "Amb 97\n"
     ]
    },
    {
     "name": "stderr",
     "output_type": "stream",
     "text": [
      "Load pre-computed features: 0.50 seconds\n",
      "Not using image_cache.\n"
     ]
    },
    {
     "name": "stdout",
     "output_type": "stream",
     "text": [
      "/data/CSHL_data_processed/CHATM2/CHATM2_prep2_raw_NtbNormalizedAdaptiveInvertedGammaJpeg/CHATM2_slide33_2018_01_20-S1_prep2_raw_NtbNormalizedAdaptiveInvertedGammaJpeg.jpg\n"
     ]
    },
    {
     "name": "stderr",
     "output_type": "stream",
     "text": [
      "Load background image: 2.50 seconds\n",
      "Rescale background image to output resolution: 0.20 seconds\n",
      "Predict scores Amb: 0.01 seconds\n",
      "Resample scoremap Amb: 0.09 seconds\n",
      "Load and rescale background image: 0.00 seconds\n",
      "Generate scoremap overlay: 0.05 seconds.\n",
      "Scoremap size does not match background image size. Need to resize: 0.08 seconds.\n",
      "Generate scoremap overlay image Amb: 0.15 seconds\n",
      "locate patches: 0.02 seconds\n"
     ]
    },
    {
     "name": "stdout",
     "output_type": "stream",
     "text": [
      "(597, 925, 3) (597, 925)\n",
      "Amb 98\n"
     ]
    },
    {
     "name": "stderr",
     "output_type": "stream",
     "text": [
      "Load pre-computed features: 0.50 seconds\n",
      "Not using image_cache.\n"
     ]
    },
    {
     "name": "stdout",
     "output_type": "stream",
     "text": [
      "/data/CSHL_data_processed/CHATM2/CHATM2_prep2_raw_NtbNormalizedAdaptiveInvertedGammaJpeg/CHATM2_slide34_2018_01_20-S1_prep2_raw_NtbNormalizedAdaptiveInvertedGammaJpeg.jpg\n"
     ]
    },
    {
     "name": "stderr",
     "output_type": "stream",
     "text": [
      "Load background image: 2.66 seconds\n",
      "Rescale background image to output resolution: 0.24 seconds\n",
      "Predict scores Amb: 0.01 seconds\n",
      "Resample scoremap Amb: 0.09 seconds\n",
      "Load and rescale background image: 0.00 seconds\n",
      "Generate scoremap overlay: 0.05 seconds.\n",
      "Scoremap size does not match background image size. Need to resize: 0.07 seconds.\n",
      "Generate scoremap overlay image Amb: 0.15 seconds\n",
      "locate patches: 0.04 seconds\n"
     ]
    },
    {
     "name": "stdout",
     "output_type": "stream",
     "text": [
      "(597, 925, 3) (597, 925)\n",
      "Amb 99\n"
     ]
    },
    {
     "name": "stderr",
     "output_type": "stream",
     "text": [
      "Load pre-computed features: 0.52 seconds\n",
      "Not using image_cache.\n"
     ]
    },
    {
     "name": "stdout",
     "output_type": "stream",
     "text": [
      "/data/CSHL_data_processed/CHATM2/CHATM2_prep2_raw_NtbNormalizedAdaptiveInvertedGammaJpeg/CHATM2_slide33_2018_01_20-S2_prep2_raw_NtbNormalizedAdaptiveInvertedGammaJpeg.jpg\n"
     ]
    },
    {
     "name": "stderr",
     "output_type": "stream",
     "text": [
      "Load background image: 2.69 seconds\n",
      "Rescale background image to output resolution: 0.24 seconds\n",
      "Predict scores Amb: 0.02 seconds\n",
      "Resample scoremap Amb: 0.09 seconds\n",
      "Load and rescale background image: 0.00 seconds\n",
      "Generate scoremap overlay: 0.05 seconds.\n",
      "Scoremap size does not match background image size. Need to resize: 0.07 seconds.\n",
      "Generate scoremap overlay image Amb: 0.15 seconds\n",
      "locate patches: 0.02 seconds\n"
     ]
    },
    {
     "name": "stdout",
     "output_type": "stream",
     "text": [
      "(597, 925, 3) (597, 925)\n",
      "Amb 100\n"
     ]
    },
    {
     "name": "stderr",
     "output_type": "stream",
     "text": [
      "Load pre-computed features: 1.19 seconds\n",
      "Not using image_cache.\n"
     ]
    },
    {
     "name": "stdout",
     "output_type": "stream",
     "text": [
      "/data/CSHL_data_processed/CHATM2/CHATM2_prep2_raw_NtbNormalizedAdaptiveInvertedGammaJpeg/CHATM2_slide34_2018_01_20-S2_prep2_raw_NtbNormalizedAdaptiveInvertedGammaJpeg.jpg\n"
     ]
    },
    {
     "name": "stderr",
     "output_type": "stream",
     "text": [
      "Load background image: 2.62 seconds\n",
      "Rescale background image to output resolution: 0.20 seconds\n",
      "Predict scores Amb: 0.01 seconds\n",
      "Resample scoremap Amb: 0.06 seconds\n",
      "Load and rescale background image: 0.00 seconds\n",
      "Generate scoremap overlay: 0.06 seconds.\n",
      "Scoremap size does not match background image size. Need to resize: 0.08 seconds.\n"
     ]
    },
    {
     "name": "stdout",
     "output_type": "stream",
     "text": [
      "(597, 925, 3) (597, 925)\n",
      "Amb 101\n"
     ]
    },
    {
     "name": "stderr",
     "output_type": "stream",
     "text": [
      "Generate scoremap overlay image Amb: 0.16 seconds\n",
      "locate patches: 0.04 seconds\n",
      "Load pre-computed features: 1.08 seconds\n",
      "Not using image_cache.\n"
     ]
    },
    {
     "name": "stdout",
     "output_type": "stream",
     "text": [
      "/data/CSHL_data_processed/CHATM2/CHATM2_prep2_raw_NtbNormalizedAdaptiveInvertedGammaJpeg/CHATM2_slide33_2018_01_20-S3_prep2_raw_NtbNormalizedAdaptiveInvertedGammaJpeg.jpg\n"
     ]
    },
    {
     "name": "stderr",
     "output_type": "stream",
     "text": [
      "Load background image: 2.47 seconds\n",
      "Rescale background image to output resolution: 0.20 seconds\n",
      "Predict scores Amb: 0.01 seconds\n",
      "Resample scoremap Amb: 0.09 seconds\n",
      "Load and rescale background image: 0.00 seconds\n",
      "Generate scoremap overlay: 0.05 seconds.\n",
      "Scoremap size does not match background image size. Need to resize: 0.09 seconds.\n",
      "Generate scoremap overlay image Amb: 0.16 seconds\n",
      "locate patches: 0.02 seconds\n"
     ]
    },
    {
     "name": "stdout",
     "output_type": "stream",
     "text": [
      "(597, 925, 3) (597, 925)\n",
      "Amb 102\n"
     ]
    },
    {
     "name": "stderr",
     "output_type": "stream",
     "text": [
      "Load pre-computed features: 1.11 seconds\n",
      "Not using image_cache.\n"
     ]
    },
    {
     "name": "stdout",
     "output_type": "stream",
     "text": [
      "/data/CSHL_data_processed/CHATM2/CHATM2_prep2_raw_NtbNormalizedAdaptiveInvertedGammaJpeg/CHATM2_slide34_2018_01_20-S3_prep2_raw_NtbNormalizedAdaptiveInvertedGammaJpeg.jpg\n"
     ]
    },
    {
     "name": "stderr",
     "output_type": "stream",
     "text": [
      "Load background image: 2.63 seconds\n",
      "Rescale background image to output resolution: 0.19 seconds\n",
      "Predict scores Amb: 0.02 seconds\n",
      "Resample scoremap Amb: 0.09 seconds\n",
      "Load and rescale background image: 0.00 seconds\n",
      "Generate scoremap overlay: 0.06 seconds.\n",
      "Scoremap size does not match background image size. Need to resize: 0.09 seconds.\n",
      "Generate scoremap overlay image Amb: 0.18 seconds\n",
      "locate patches: 0.02 seconds\n"
     ]
    },
    {
     "name": "stdout",
     "output_type": "stream",
     "text": [
      "(597, 925, 3) (597, 925)\n",
      "Amb 103\n"
     ]
    },
    {
     "name": "stderr",
     "output_type": "stream",
     "text": [
      "Load pre-computed features: 0.51 seconds\n",
      "Not using image_cache.\n"
     ]
    },
    {
     "name": "stdout",
     "output_type": "stream",
     "text": [
      "/data/CSHL_data_processed/CHATM2/CHATM2_prep2_raw_NtbNormalizedAdaptiveInvertedGammaJpeg/CHATM2_slide35_2018_01_20-S1_prep2_raw_NtbNormalizedAdaptiveInvertedGammaJpeg.jpg\n"
     ]
    },
    {
     "name": "stderr",
     "output_type": "stream",
     "text": [
      "Load background image: 2.62 seconds\n",
      "Rescale background image to output resolution: 0.20 seconds\n",
      "Predict scores Amb: 0.02 seconds\n",
      "Resample scoremap Amb: 0.10 seconds\n",
      "Load and rescale background image: 0.00 seconds\n",
      "Generate scoremap overlay: 0.07 seconds.\n",
      "Scoremap size does not match background image size. Need to resize: 0.09 seconds.\n",
      "Generate scoremap overlay image Amb: 0.19 seconds\n",
      "locate patches: 0.02 seconds\n"
     ]
    },
    {
     "name": "stdout",
     "output_type": "stream",
     "text": [
      "(597, 925, 3) (597, 925)\n",
      "Amb 104\n"
     ]
    },
    {
     "name": "stderr",
     "output_type": "stream",
     "text": [
      "Load pre-computed features: 0.74 seconds\n",
      "Not using image_cache.\n"
     ]
    },
    {
     "name": "stdout",
     "output_type": "stream",
     "text": [
      "/data/CSHL_data_processed/CHATM2/CHATM2_prep2_raw_NtbNormalizedAdaptiveInvertedGammaJpeg/CHATM2_slide36_2018_01_22-S1_prep2_raw_NtbNormalizedAdaptiveInvertedGammaJpeg.jpg\n"
     ]
    },
    {
     "name": "stderr",
     "output_type": "stream",
     "text": [
      "Load background image: 2.62 seconds\n",
      "Rescale background image to output resolution: 0.21 seconds\n",
      "Predict scores Amb: 0.01 seconds\n",
      "Resample scoremap Amb: 0.10 seconds\n",
      "Load and rescale background image: 0.00 seconds\n",
      "Generate scoremap overlay: 0.05 seconds.\n",
      "Scoremap size does not match background image size. Need to resize: 0.08 seconds.\n",
      "Generate scoremap overlay image Amb: 0.16 seconds\n",
      "locate patches: 0.04 seconds\n"
     ]
    },
    {
     "name": "stdout",
     "output_type": "stream",
     "text": [
      "(597, 925, 3) (597, 925)\n",
      "Amb 105\n"
     ]
    },
    {
     "name": "stderr",
     "output_type": "stream",
     "text": [
      "Load pre-computed features: 0.54 seconds\n",
      "Not using image_cache.\n"
     ]
    },
    {
     "name": "stdout",
     "output_type": "stream",
     "text": [
      "/data/CSHL_data_processed/CHATM2/CHATM2_prep2_raw_NtbNormalizedAdaptiveInvertedGammaJpeg/CHATM2_slide35_2018_01_20-S2_prep2_raw_NtbNormalizedAdaptiveInvertedGammaJpeg.jpg\n"
     ]
    },
    {
     "name": "stderr",
     "output_type": "stream",
     "text": [
      "Load background image: 2.63 seconds\n",
      "Rescale background image to output resolution: 0.20 seconds\n",
      "Predict scores Amb: 0.01 seconds\n",
      "Resample scoremap Amb: 0.07 seconds\n",
      "Load and rescale background image: 0.00 seconds\n",
      "Generate scoremap overlay: 0.05 seconds.\n",
      "Scoremap size does not match background image size. Need to resize: 0.08 seconds.\n"
     ]
    },
    {
     "name": "stdout",
     "output_type": "stream",
     "text": [
      "(597, 925, 3) (597, 925)\n",
      "Amb 106\n"
     ]
    },
    {
     "name": "stderr",
     "output_type": "stream",
     "text": [
      "Generate scoremap overlay image Amb: 0.16 seconds\n",
      "locate patches: 0.02 seconds\n",
      "Load pre-computed features: 0.51 seconds\n",
      "Not using image_cache.\n"
     ]
    },
    {
     "name": "stdout",
     "output_type": "stream",
     "text": [
      "/data/CSHL_data_processed/CHATM2/CHATM2_prep2_raw_NtbNormalizedAdaptiveInvertedGammaJpeg/CHATM2_slide36_2018_01_22-S2_prep2_raw_NtbNormalizedAdaptiveInvertedGammaJpeg.jpg\n"
     ]
    },
    {
     "name": "stderr",
     "output_type": "stream",
     "text": [
      "Load background image: 2.53 seconds\n",
      "Rescale background image to output resolution: 0.21 seconds\n",
      "Predict scores Amb: 0.01 seconds\n",
      "Resample scoremap Amb: 0.06 seconds\n",
      "Load and rescale background image: 0.00 seconds\n",
      "Generate scoremap overlay: 0.06 seconds.\n",
      "Scoremap size does not match background image size. Need to resize: 0.08 seconds.\n"
     ]
    },
    {
     "name": "stdout",
     "output_type": "stream",
     "text": [
      "(597, 925, 3) (597, 925)\n",
      "Amb 108\n"
     ]
    },
    {
     "name": "stderr",
     "output_type": "stream",
     "text": [
      "Generate scoremap overlay image Amb: 0.17 seconds\n",
      "locate patches: 0.04 seconds\n",
      "Load pre-computed features: 0.53 seconds\n",
      "Not using image_cache.\n"
     ]
    },
    {
     "name": "stdout",
     "output_type": "stream",
     "text": [
      "/data/CSHL_data_processed/CHATM2/CHATM2_prep2_raw_NtbNormalizedAdaptiveInvertedGammaJpeg/CHATM2_slide36_2018_01_22-S3_prep2_raw_NtbNormalizedAdaptiveInvertedGammaJpeg.jpg\n"
     ]
    },
    {
     "name": "stderr",
     "output_type": "stream",
     "text": [
      "Load background image: 2.37 seconds\n",
      "Rescale background image to output resolution: 0.19 seconds\n",
      "Predict scores Amb: 0.01 seconds\n",
      "Resample scoremap Amb: 0.09 seconds\n",
      "Load and rescale background image: 0.00 seconds\n",
      "Generate scoremap overlay: 0.05 seconds.\n",
      "Scoremap size does not match background image size. Need to resize: 0.08 seconds.\n",
      "Generate scoremap overlay image Amb: 0.16 seconds\n",
      "locate patches: 0.02 seconds\n"
     ]
    },
    {
     "name": "stdout",
     "output_type": "stream",
     "text": [
      "(597, 925, 3) (597, 925)\n",
      "Amb 109\n"
     ]
    },
    {
     "name": "stderr",
     "output_type": "stream",
     "text": [
      "Load pre-computed features: 0.59 seconds\n",
      "Not using image_cache.\n"
     ]
    },
    {
     "name": "stdout",
     "output_type": "stream",
     "text": [
      "/data/CSHL_data_processed/CHATM2/CHATM2_prep2_raw_NtbNormalizedAdaptiveInvertedGammaJpeg/CHATM2_slide37_2018_01_22-S1_prep2_raw_NtbNormalizedAdaptiveInvertedGammaJpeg.jpg\n"
     ]
    },
    {
     "name": "stderr",
     "output_type": "stream",
     "text": [
      "Load background image: 2.47 seconds\n",
      "Rescale background image to output resolution: 0.20 seconds\n",
      "Predict scores Amb: 0.01 seconds\n",
      "Resample scoremap Amb: 0.09 seconds\n",
      "Load and rescale background image: 0.00 seconds\n",
      "Generate scoremap overlay: 0.05 seconds.\n",
      "Scoremap size does not match background image size. Need to resize: 0.08 seconds.\n",
      "Generate scoremap overlay image Amb: 0.16 seconds\n",
      "locate patches: 0.02 seconds\n"
     ]
    },
    {
     "name": "stdout",
     "output_type": "stream",
     "text": [
      "(597, 925, 3) (597, 925)\n",
      "Amb 110\n"
     ]
    },
    {
     "name": "stderr",
     "output_type": "stream",
     "text": [
      "Load pre-computed features: 0.51 seconds\n",
      "Not using image_cache.\n"
     ]
    },
    {
     "name": "stdout",
     "output_type": "stream",
     "text": [
      "/data/CSHL_data_processed/CHATM2/CHATM2_prep2_raw_NtbNormalizedAdaptiveInvertedGammaJpeg/CHATM2_slide38_2018_01_22-S1_prep2_raw_NtbNormalizedAdaptiveInvertedGammaJpeg.jpg\n"
     ]
    },
    {
     "name": "stderr",
     "output_type": "stream",
     "text": [
      "Load background image: 2.37 seconds\n",
      "Rescale background image to output resolution: 0.20 seconds\n",
      "Predict scores Amb: 0.01 seconds\n",
      "Resample scoremap Amb: 0.09 seconds\n",
      "Load and rescale background image: 0.00 seconds\n",
      "Generate scoremap overlay: 0.05 seconds.\n",
      "Scoremap size does not match background image size. Need to resize: 0.07 seconds.\n",
      "Generate scoremap overlay image Amb: 0.15 seconds\n",
      "locate patches: 0.02 seconds\n"
     ]
    },
    {
     "name": "stdout",
     "output_type": "stream",
     "text": [
      "(597, 925, 3) (597, 925)\n",
      "Amb 111\n"
     ]
    },
    {
     "name": "stderr",
     "output_type": "stream",
     "text": [
      "Load pre-computed features: 0.64 seconds\n",
      "Not using image_cache.\n"
     ]
    },
    {
     "name": "stdout",
     "output_type": "stream",
     "text": [
      "/data/CSHL_data_processed/CHATM2/CHATM2_prep2_raw_NtbNormalizedAdaptiveInvertedGammaJpeg/CHATM2_slide37_2018_01_22-S2_prep2_raw_NtbNormalizedAdaptiveInvertedGammaJpeg.jpg\n"
     ]
    },
    {
     "name": "stderr",
     "output_type": "stream",
     "text": [
      "Load background image: 2.46 seconds\n",
      "Rescale background image to output resolution: 0.20 seconds\n",
      "Predict scores Amb: 0.02 seconds\n",
      "Resample scoremap Amb: 0.09 seconds\n",
      "Load and rescale background image: 0.00 seconds\n",
      "Generate scoremap overlay: 0.05 seconds.\n",
      "Scoremap size does not match background image size. Need to resize: 0.08 seconds.\n",
      "Generate scoremap overlay image Amb: 0.16 seconds\n",
      "locate patches: 0.02 seconds\n"
     ]
    },
    {
     "name": "stdout",
     "output_type": "stream",
     "text": [
      "(597, 925, 3) (597, 925)\n",
      "Amb 112\n"
     ]
    },
    {
     "name": "stderr",
     "output_type": "stream",
     "text": [
      "Load pre-computed features: 0.56 seconds\n",
      "Not using image_cache.\n"
     ]
    },
    {
     "name": "stdout",
     "output_type": "stream",
     "text": [
      "/data/CSHL_data_processed/CHATM2/CHATM2_prep2_raw_NtbNormalizedAdaptiveInvertedGammaJpeg/CHATM2_slide38_2018_01_22-S2_prep2_raw_NtbNormalizedAdaptiveInvertedGammaJpeg.jpg\n"
     ]
    },
    {
     "name": "stderr",
     "output_type": "stream",
     "text": [
      "Load background image: 2.29 seconds\n",
      "Rescale background image to output resolution: 0.19 seconds\n",
      "Predict scores Amb: 0.01 seconds\n",
      "Resample scoremap Amb: 0.09 seconds\n",
      "Load and rescale background image: 0.00 seconds\n",
      "Generate scoremap overlay: 0.05 seconds.\n",
      "Scoremap size does not match background image size. Need to resize: 0.08 seconds.\n",
      "Generate scoremap overlay image Amb: 0.15 seconds\n",
      "locate patches: 0.02 seconds\n"
     ]
    },
    {
     "name": "stdout",
     "output_type": "stream",
     "text": [
      "(597, 925, 3) (597, 925)\n",
      "Amb 113\n"
     ]
    },
    {
     "name": "stderr",
     "output_type": "stream",
     "text": [
      "Load pre-computed features: 0.57 seconds\n",
      "Not using image_cache.\n"
     ]
    },
    {
     "name": "stdout",
     "output_type": "stream",
     "text": [
      "/data/CSHL_data_processed/CHATM2/CHATM2_prep2_raw_NtbNormalizedAdaptiveInvertedGammaJpeg/CHATM2_slide37_2018_01_22-S3_prep2_raw_NtbNormalizedAdaptiveInvertedGammaJpeg.jpg\n"
     ]
    },
    {
     "name": "stderr",
     "output_type": "stream",
     "text": [
      "Load background image: 2.71 seconds\n",
      "Rescale background image to output resolution: 0.19 seconds\n",
      "Predict scores Amb: 0.01 seconds\n",
      "Resample scoremap Amb: 0.09 seconds\n",
      "Load and rescale background image: 0.00 seconds\n",
      "Generate scoremap overlay: 0.05 seconds.\n",
      "Scoremap size does not match background image size. Need to resize: 0.08 seconds.\n",
      "Generate scoremap overlay image Amb: 0.16 seconds\n",
      "locate patches: 0.02 seconds\n"
     ]
    },
    {
     "name": "stdout",
     "output_type": "stream",
     "text": [
      "(597, 925, 3) (597, 925)\n",
      "Amb 114\n"
     ]
    },
    {
     "name": "stderr",
     "output_type": "stream",
     "text": [
      "Load pre-computed features: 0.62 seconds\n",
      "Not using image_cache.\n"
     ]
    },
    {
     "name": "stdout",
     "output_type": "stream",
     "text": [
      "/data/CSHL_data_processed/CHATM2/CHATM2_prep2_raw_NtbNormalizedAdaptiveInvertedGammaJpeg/CHATM2_slide38_2018_01_22-S3_prep2_raw_NtbNormalizedAdaptiveInvertedGammaJpeg.jpg\n"
     ]
    },
    {
     "name": "stderr",
     "output_type": "stream",
     "text": [
      "Load background image: 2.57 seconds\n",
      "Rescale background image to output resolution: 0.20 seconds\n",
      "Predict scores Amb: 0.01 seconds\n",
      "Resample scoremap Amb: 0.09 seconds\n",
      "Load and rescale background image: 0.00 seconds\n",
      "Generate scoremap overlay: 0.06 seconds.\n",
      "Scoremap size does not match background image size. Need to resize: 0.08 seconds.\n",
      "Generate scoremap overlay image Amb: 0.16 seconds\n",
      "locate patches: 0.02 seconds\n"
     ]
    },
    {
     "name": "stdout",
     "output_type": "stream",
     "text": [
      "(597, 925, 3) (597, 925)\n",
      "Amb 115\n"
     ]
    },
    {
     "name": "stderr",
     "output_type": "stream",
     "text": [
      "Load pre-computed features: 1.10 seconds\n",
      "Not using image_cache.\n"
     ]
    },
    {
     "name": "stdout",
     "output_type": "stream",
     "text": [
      "/data/CSHL_data_processed/CHATM2/CHATM2_prep2_raw_NtbNormalizedAdaptiveInvertedGammaJpeg/CHATM2_slide39_2018_01_22-S1_prep2_raw_NtbNormalizedAdaptiveInvertedGammaJpeg.jpg\n"
     ]
    },
    {
     "name": "stderr",
     "output_type": "stream",
     "text": [
      "Load background image: 2.67 seconds\n",
      "Rescale background image to output resolution: 0.20 seconds\n",
      "Predict scores Amb: 0.01 seconds\n",
      "Resample scoremap Amb: 0.09 seconds\n",
      "Load and rescale background image: 0.00 seconds\n",
      "Generate scoremap overlay: 0.06 seconds.\n",
      "Scoremap size does not match background image size. Need to resize: 0.09 seconds.\n",
      "Generate scoremap overlay image Amb: 0.18 seconds\n",
      "locate patches: 0.02 seconds\n"
     ]
    },
    {
     "name": "stdout",
     "output_type": "stream",
     "text": [
      "(597, 925, 3) (597, 925)\n",
      "Amb 117\n"
     ]
    },
    {
     "name": "stderr",
     "output_type": "stream",
     "text": [
      "Load pre-computed features: 0.56 seconds\n",
      "Not using image_cache.\n"
     ]
    },
    {
     "name": "stdout",
     "output_type": "stream",
     "text": [
      "/data/CSHL_data_processed/CHATM2/CHATM2_prep2_raw_NtbNormalizedAdaptiveInvertedGammaJpeg/CHATM2_slide39_2018_01_22-S2_prep2_raw_NtbNormalizedAdaptiveInvertedGammaJpeg.jpg\n"
     ]
    },
    {
     "name": "stderr",
     "output_type": "stream",
     "text": [
      "Load background image: 2.68 seconds\n",
      "Rescale background image to output resolution: 0.20 seconds\n",
      "Predict scores Amb: 0.01 seconds\n",
      "Resample scoremap Amb: 0.09 seconds\n",
      "Load and rescale background image: 0.00 seconds\n",
      "Generate scoremap overlay: 0.05 seconds.\n",
      "Scoremap size does not match background image size. Need to resize: 0.08 seconds.\n",
      "Generate scoremap overlay image Amb: 0.16 seconds\n",
      "locate patches: 0.05 seconds\n"
     ]
    },
    {
     "name": "stdout",
     "output_type": "stream",
     "text": [
      "(597, 925, 3) (597, 925)\n",
      "Amb 119\n"
     ]
    },
    {
     "name": "stderr",
     "output_type": "stream",
     "text": [
      "Load pre-computed features: 1.16 seconds\n",
      "Not using image_cache.\n"
     ]
    },
    {
     "name": "stdout",
     "output_type": "stream",
     "text": [
      "/data/CSHL_data_processed/CHATM2/CHATM2_prep2_raw_NtbNormalizedAdaptiveInvertedGammaJpeg/CHATM2_slide39_2018_01_22-S3_prep2_raw_NtbNormalizedAdaptiveInvertedGammaJpeg.jpg\n"
     ]
    },
    {
     "name": "stderr",
     "output_type": "stream",
     "text": [
      "Load background image: 2.74 seconds\n",
      "Rescale background image to output resolution: 0.20 seconds\n",
      "Predict scores Amb: 0.01 seconds\n",
      "Resample scoremap Amb: 0.09 seconds\n",
      "Load and rescale background image: 0.00 seconds\n",
      "Generate scoremap overlay: 0.05 seconds.\n",
      "Scoremap size does not match background image size. Need to resize: 0.08 seconds.\n",
      "Generate scoremap overlay image Amb: 0.16 seconds\n",
      "locate patches: 0.05 seconds\n"
     ]
    },
    {
     "name": "stdout",
     "output_type": "stream",
     "text": [
      "(597, 925, 3) (597, 925)\n",
      "Amb 121\n"
     ]
    },
    {
     "name": "stderr",
     "output_type": "stream",
     "text": [
      "Load pre-computed features: 1.21 seconds\n",
      "Not using image_cache.\n"
     ]
    },
    {
     "name": "stdout",
     "output_type": "stream",
     "text": [
      "/data/CSHL_data_processed/CHATM2/CHATM2_prep2_raw_NtbNormalizedAdaptiveInvertedGammaJpeg/CHATM2_slide41_2018_01_22-S1_prep2_raw_NtbNormalizedAdaptiveInvertedGammaJpeg.jpg\n"
     ]
    },
    {
     "name": "stderr",
     "output_type": "stream",
     "text": [
      "Load background image: 2.90 seconds\n",
      "Rescale background image to output resolution: 0.20 seconds\n",
      "Predict scores Amb: 0.01 seconds\n",
      "Resample scoremap Amb: 0.09 seconds\n",
      "Load and rescale background image: 0.00 seconds\n",
      "Generate scoremap overlay: 0.05 seconds.\n",
      "Scoremap size does not match background image size. Need to resize: 0.08 seconds.\n",
      "Generate scoremap overlay image Amb: 0.16 seconds\n",
      "locate patches: 0.02 seconds\n"
     ]
    },
    {
     "name": "stdout",
     "output_type": "stream",
     "text": [
      "(597, 925, 3) (597, 925)\n",
      "Amb 122\n"
     ]
    },
    {
     "name": "stderr",
     "output_type": "stream",
     "text": [
      "Load pre-computed features: 1.29 seconds\n",
      "Not using image_cache.\n"
     ]
    },
    {
     "name": "stdout",
     "output_type": "stream",
     "text": [
      "/data/CSHL_data_processed/CHATM2/CHATM2_prep2_raw_NtbNormalizedAdaptiveInvertedGammaJpeg/CHATM2_slide42_2018_01_22-S1_prep2_raw_NtbNormalizedAdaptiveInvertedGammaJpeg.jpg\n"
     ]
    },
    {
     "name": "stderr",
     "output_type": "stream",
     "text": [
      "Load background image: 3.06 seconds\n",
      "Rescale background image to output resolution: 0.20 seconds\n",
      "Predict scores Amb: 0.01 seconds\n",
      "Resample scoremap Amb: 0.09 seconds\n",
      "Load and rescale background image: 0.00 seconds\n",
      "Generate scoremap overlay: 0.05 seconds.\n",
      "Scoremap size does not match background image size. Need to resize: 0.08 seconds.\n",
      "Generate scoremap overlay image Amb: 0.16 seconds\n",
      "locate patches: 0.05 seconds\n"
     ]
    },
    {
     "name": "stdout",
     "output_type": "stream",
     "text": [
      "(597, 925, 3) (597, 925)\n",
      "Amb 123\n"
     ]
    },
    {
     "name": "stderr",
     "output_type": "stream",
     "text": [
      "Load pre-computed features: 0.54 seconds\n",
      "Not using image_cache.\n"
     ]
    },
    {
     "name": "stdout",
     "output_type": "stream",
     "text": [
      "/data/CSHL_data_processed/CHATM2/CHATM2_prep2_raw_NtbNormalizedAdaptiveInvertedGammaJpeg/CHATM2_slide41_2018_01_22-S2_prep2_raw_NtbNormalizedAdaptiveInvertedGammaJpeg.jpg\n"
     ]
    },
    {
     "name": "stderr",
     "output_type": "stream",
     "text": [
      "Load background image: 2.84 seconds\n",
      "Rescale background image to output resolution: 0.20 seconds\n",
      "Predict scores Amb: 0.01 seconds\n",
      "Resample scoremap Amb: 0.09 seconds\n",
      "Load and rescale background image: 0.00 seconds\n",
      "Generate scoremap overlay: 0.05 seconds.\n",
      "Scoremap size does not match background image size. Need to resize: 0.08 seconds.\n",
      "Generate scoremap overlay image Amb: 0.15 seconds\n",
      "locate patches: 0.02 seconds\n"
     ]
    },
    {
     "name": "stdout",
     "output_type": "stream",
     "text": [
      "(597, 925, 3) (597, 925)\n",
      "Amb 124\n"
     ]
    },
    {
     "name": "stderr",
     "output_type": "stream",
     "text": [
      "Load pre-computed features: 0.85 seconds\n",
      "Not using image_cache.\n"
     ]
    },
    {
     "name": "stdout",
     "output_type": "stream",
     "text": [
      "/data/CSHL_data_processed/CHATM2/CHATM2_prep2_raw_NtbNormalizedAdaptiveInvertedGammaJpeg/CHATM2_slide42_2018_01_22-S2_prep2_raw_NtbNormalizedAdaptiveInvertedGammaJpeg.jpg\n"
     ]
    },
    {
     "name": "stderr",
     "output_type": "stream",
     "text": [
      "Load background image: 2.77 seconds\n",
      "Rescale background image to output resolution: 0.20 seconds\n",
      "Predict scores Amb: 0.01 seconds\n",
      "Resample scoremap Amb: 0.09 seconds\n",
      "Load and rescale background image: 0.00 seconds\n",
      "Generate scoremap overlay: 0.05 seconds.\n",
      "Scoremap size does not match background image size. Need to resize: 0.08 seconds.\n",
      "Generate scoremap overlay image Amb: 0.16 seconds\n",
      "locate patches: 0.02 seconds\n"
     ]
    },
    {
     "name": "stdout",
     "output_type": "stream",
     "text": [
      "(597, 925, 3) (597, 925)\n",
      "Amb 125\n"
     ]
    },
    {
     "name": "stderr",
     "output_type": "stream",
     "text": [
      "Load pre-computed features: 0.59 seconds\n",
      "Not using image_cache.\n"
     ]
    },
    {
     "name": "stdout",
     "output_type": "stream",
     "text": [
      "/data/CSHL_data_processed/CHATM2/CHATM2_prep2_raw_NtbNormalizedAdaptiveInvertedGammaJpeg/CHATM2_slide41_2018_01_22-S3_prep2_raw_NtbNormalizedAdaptiveInvertedGammaJpeg.jpg\n"
     ]
    },
    {
     "name": "stderr",
     "output_type": "stream",
     "text": [
      "Load background image: 2.91 seconds\n",
      "Rescale background image to output resolution: 0.20 seconds\n",
      "Predict scores Amb: 0.01 seconds\n",
      "Resample scoremap Amb: 0.09 seconds\n",
      "Load and rescale background image: 0.00 seconds\n",
      "Generate scoremap overlay: 0.05 seconds.\n",
      "Scoremap size does not match background image size. Need to resize: 0.08 seconds.\n",
      "Generate scoremap overlay image Amb: 0.16 seconds\n",
      "locate patches: 0.02 seconds\n"
     ]
    },
    {
     "name": "stdout",
     "output_type": "stream",
     "text": [
      "(597, 925, 3) (597, 925)\n",
      "Amb 126\n"
     ]
    },
    {
     "name": "stderr",
     "output_type": "stream",
     "text": [
      "Load pre-computed features: 1.24 seconds\n",
      "Not using image_cache.\n"
     ]
    },
    {
     "name": "stdout",
     "output_type": "stream",
     "text": [
      "/data/CSHL_data_processed/CHATM2/CHATM2_prep2_raw_NtbNormalizedAdaptiveInvertedGammaJpeg/CHATM2_slide42_2018_01_22-S3_prep2_raw_NtbNormalizedAdaptiveInvertedGammaJpeg.jpg\n"
     ]
    },
    {
     "name": "stderr",
     "output_type": "stream",
     "text": [
      "Load background image: 2.76 seconds\n",
      "Rescale background image to output resolution: 0.19 seconds\n",
      "Predict scores Amb: 0.01 seconds\n",
      "Resample scoremap Amb: 0.09 seconds\n",
      "Load and rescale background image: 0.00 seconds\n",
      "Generate scoremap overlay: 0.05 seconds.\n",
      "Scoremap size does not match background image size. Need to resize: 0.07 seconds.\n",
      "Generate scoremap overlay image Amb: 0.15 seconds\n",
      "locate patches: 0.04 seconds\n"
     ]
    },
    {
     "name": "stdout",
     "output_type": "stream",
     "text": [
      "(597, 925, 3) (597, 925)\n",
      "Amb 127\n"
     ]
    },
    {
     "name": "stderr",
     "output_type": "stream",
     "text": [
      "Load pre-computed features: 0.58 seconds\n",
      "Not using image_cache.\n"
     ]
    },
    {
     "name": "stdout",
     "output_type": "stream",
     "text": [
      "/data/CSHL_data_processed/CHATM2/CHATM2_prep2_raw_NtbNormalizedAdaptiveInvertedGammaJpeg/CHATM2_slide43_2018_01_22-S1_prep2_raw_NtbNormalizedAdaptiveInvertedGammaJpeg.jpg\n"
     ]
    },
    {
     "name": "stderr",
     "output_type": "stream",
     "text": [
      "Load background image: 2.71 seconds\n",
      "Rescale background image to output resolution: 0.19 seconds\n",
      "Predict scores Amb: 0.01 seconds\n",
      "Resample scoremap Amb: 0.06 seconds\n",
      "Load and rescale background image: 0.00 seconds\n",
      "Generate scoremap overlay: 0.05 seconds.\n",
      "Scoremap size does not match background image size. Need to resize: 0.08 seconds.\n"
     ]
    },
    {
     "name": "stdout",
     "output_type": "stream",
     "text": [
      "(597, 925, 3) (597, 925)\n",
      "Amb 128\n"
     ]
    },
    {
     "name": "stderr",
     "output_type": "stream",
     "text": [
      "Generate scoremap overlay image Amb: 0.15 seconds\n",
      "locate patches: 0.02 seconds\n",
      "Load pre-computed features: 0.61 seconds\n",
      "Not using image_cache.\n"
     ]
    },
    {
     "name": "stdout",
     "output_type": "stream",
     "text": [
      "/data/CSHL_data_processed/CHATM2/CHATM2_prep2_raw_NtbNormalizedAdaptiveInvertedGammaJpeg/CHATM2_slide44_2018_01_22-S1_prep2_raw_NtbNormalizedAdaptiveInvertedGammaJpeg.jpg\n"
     ]
    },
    {
     "name": "stderr",
     "output_type": "stream",
     "text": [
      "Load background image: 2.79 seconds\n",
      "Rescale background image to output resolution: 0.20 seconds\n",
      "Predict scores Amb: 0.01 seconds\n",
      "Resample scoremap Amb: 0.09 seconds\n",
      "Load and rescale background image: 0.00 seconds\n",
      "Generate scoremap overlay: 0.05 seconds.\n",
      "Scoremap size does not match background image size. Need to resize: 0.08 seconds.\n",
      "Generate scoremap overlay image Amb: 0.16 seconds\n",
      "locate patches: 0.02 seconds\n"
     ]
    },
    {
     "name": "stdout",
     "output_type": "stream",
     "text": [
      "(597, 925, 3) (597, 925)\n",
      "Amb 129\n"
     ]
    },
    {
     "name": "stderr",
     "output_type": "stream",
     "text": [
      "Load pre-computed features: 1.16 seconds\n",
      "Not using image_cache.\n"
     ]
    },
    {
     "name": "stdout",
     "output_type": "stream",
     "text": [
      "/data/CSHL_data_processed/CHATM2/CHATM2_prep2_raw_NtbNormalizedAdaptiveInvertedGammaJpeg/CHATM2_slide43_2018_01_22-S2_prep2_raw_NtbNormalizedAdaptiveInvertedGammaJpeg.jpg\n"
     ]
    },
    {
     "name": "stderr",
     "output_type": "stream",
     "text": [
      "Load background image: 2.69 seconds\n",
      "Rescale background image to output resolution: 0.20 seconds\n",
      "Predict scores Amb: 0.01 seconds\n",
      "Resample scoremap Amb: 0.09 seconds\n",
      "Load and rescale background image: 0.00 seconds\n",
      "Generate scoremap overlay: 0.05 seconds.\n",
      "Scoremap size does not match background image size. Need to resize: 0.08 seconds.\n",
      "Generate scoremap overlay image Amb: 0.15 seconds\n",
      "locate patches: 0.03 seconds\n"
     ]
    },
    {
     "name": "stdout",
     "output_type": "stream",
     "text": [
      "(597, 925, 3) (597, 925)\n",
      "Amb 130\n"
     ]
    },
    {
     "name": "stderr",
     "output_type": "stream",
     "text": [
      "Load pre-computed features: 0.60 seconds\n",
      "Not using image_cache.\n"
     ]
    },
    {
     "name": "stdout",
     "output_type": "stream",
     "text": [
      "/data/CSHL_data_processed/CHATM2/CHATM2_prep2_raw_NtbNormalizedAdaptiveInvertedGammaJpeg/CHATM2_slide44_2018_01_22-S2_prep2_raw_NtbNormalizedAdaptiveInvertedGammaJpeg.jpg\n"
     ]
    },
    {
     "name": "stderr",
     "output_type": "stream",
     "text": [
      "Load background image: 2.82 seconds\n",
      "Rescale background image to output resolution: 0.20 seconds\n",
      "Predict scores Amb: 0.01 seconds\n",
      "Resample scoremap Amb: 0.09 seconds\n",
      "Load and rescale background image: 0.00 seconds\n",
      "Generate scoremap overlay: 0.05 seconds.\n",
      "Scoremap size does not match background image size. Need to resize: 0.08 seconds.\n",
      "Generate scoremap overlay image Amb: 0.15 seconds\n",
      "locate patches: 0.02 seconds\n"
     ]
    },
    {
     "name": "stdout",
     "output_type": "stream",
     "text": [
      "(597, 925, 3) (597, 925)\n",
      "Amb 131\n"
     ]
    },
    {
     "name": "stderr",
     "output_type": "stream",
     "text": [
      "Load pre-computed features: 0.57 seconds\n",
      "Not using image_cache.\n"
     ]
    },
    {
     "name": "stdout",
     "output_type": "stream",
     "text": [
      "/data/CSHL_data_processed/CHATM2/CHATM2_prep2_raw_NtbNormalizedAdaptiveInvertedGammaJpeg/CHATM2_slide43_2018_01_22-S3_prep2_raw_NtbNormalizedAdaptiveInvertedGammaJpeg.jpg\n"
     ]
    },
    {
     "name": "stderr",
     "output_type": "stream",
     "text": [
      "Load background image: 2.87 seconds\n",
      "Rescale background image to output resolution: 0.20 seconds\n",
      "Predict scores Amb: 0.01 seconds\n",
      "Resample scoremap Amb: 0.09 seconds\n",
      "Load and rescale background image: 0.00 seconds\n",
      "Generate scoremap overlay: 0.05 seconds.\n",
      "Scoremap size does not match background image size. Need to resize: 0.08 seconds.\n",
      "Generate scoremap overlay image Amb: 0.16 seconds\n",
      "locate patches: 0.02 seconds\n"
     ]
    },
    {
     "name": "stdout",
     "output_type": "stream",
     "text": [
      "(597, 925, 3) (597, 925)\n",
      "Amb 132\n"
     ]
    },
    {
     "name": "stderr",
     "output_type": "stream",
     "text": [
      "Load pre-computed features: 1.15 seconds\n",
      "Not using image_cache.\n"
     ]
    },
    {
     "name": "stdout",
     "output_type": "stream",
     "text": [
      "/data/CSHL_data_processed/CHATM2/CHATM2_prep2_raw_NtbNormalizedAdaptiveInvertedGammaJpeg/CHATM2_slide44_2018_01_22-S3_prep2_raw_NtbNormalizedAdaptiveInvertedGammaJpeg.jpg\n"
     ]
    },
    {
     "name": "stderr",
     "output_type": "stream",
     "text": [
      "Load background image: 2.92 seconds\n",
      "Rescale background image to output resolution: 0.20 seconds\n",
      "Predict scores Amb: 0.01 seconds\n",
      "Resample scoremap Amb: 0.09 seconds\n",
      "Load and rescale background image: 0.00 seconds\n",
      "Generate scoremap overlay: 0.05 seconds.\n",
      "Scoremap size does not match background image size. Need to resize: 0.08 seconds.\n",
      "Generate scoremap overlay image Amb: 0.16 seconds\n",
      "locate patches: 0.02 seconds\n"
     ]
    },
    {
     "name": "stdout",
     "output_type": "stream",
     "text": [
      "(597, 925, 3) (597, 925)\n",
      "Amb 133\n"
     ]
    },
    {
     "name": "stderr",
     "output_type": "stream",
     "text": [
      "Load pre-computed features: 1.25 seconds\n",
      "Not using image_cache.\n"
     ]
    },
    {
     "name": "stdout",
     "output_type": "stream",
     "text": [
      "/data/CSHL_data_processed/CHATM2/CHATM2_prep2_raw_NtbNormalizedAdaptiveInvertedGammaJpeg/CHATM2_slide45_2018_01_22-S1_prep2_raw_NtbNormalizedAdaptiveInvertedGammaJpeg.jpg\n"
     ]
    },
    {
     "name": "stderr",
     "output_type": "stream",
     "text": [
      "Load background image: 2.95 seconds\n",
      "Rescale background image to output resolution: 0.20 seconds\n",
      "Predict scores Amb: 0.01 seconds\n",
      "Resample scoremap Amb: 0.06 seconds\n",
      "Load and rescale background image: 0.00 seconds\n",
      "Generate scoremap overlay: 0.05 seconds.\n",
      "Scoremap size does not match background image size. Need to resize: 0.07 seconds.\n"
     ]
    },
    {
     "name": "stdout",
     "output_type": "stream",
     "text": [
      "(597, 925, 3) (597, 925)\n",
      "Amb 134\n"
     ]
    },
    {
     "name": "stderr",
     "output_type": "stream",
     "text": [
      "Generate scoremap overlay image Amb: 0.15 seconds\n",
      "locate patches: 0.02 seconds\n",
      "Load pre-computed features: 1.29 seconds\n",
      "Not using image_cache.\n"
     ]
    },
    {
     "name": "stdout",
     "output_type": "stream",
     "text": [
      "/data/CSHL_data_processed/CHATM2/CHATM2_prep2_raw_NtbNormalizedAdaptiveInvertedGammaJpeg/CHATM2_slide46_2018_01_22-S1_prep2_raw_NtbNormalizedAdaptiveInvertedGammaJpeg.jpg\n"
     ]
    },
    {
     "name": "stderr",
     "output_type": "stream",
     "text": [
      "Load background image: 2.90 seconds\n",
      "Rescale background image to output resolution: 0.20 seconds\n",
      "Predict scores Amb: 0.01 seconds\n",
      "Resample scoremap Amb: 0.09 seconds\n",
      "Load and rescale background image: 0.00 seconds\n",
      "Generate scoremap overlay: 0.05 seconds.\n",
      "Scoremap size does not match background image size. Need to resize: 0.08 seconds.\n",
      "Generate scoremap overlay image Amb: 0.16 seconds\n",
      "locate patches: 0.02 seconds\n"
     ]
    },
    {
     "name": "stdout",
     "output_type": "stream",
     "text": [
      "(597, 925, 3) (597, 925)\n",
      "Amb 135\n"
     ]
    },
    {
     "name": "stderr",
     "output_type": "stream",
     "text": [
      "Load pre-computed features: 1.32 seconds\n",
      "Not using image_cache.\n"
     ]
    },
    {
     "name": "stdout",
     "output_type": "stream",
     "text": [
      "/data/CSHL_data_processed/CHATM2/CHATM2_prep2_raw_NtbNormalizedAdaptiveInvertedGammaJpeg/CHATM2_slide45_2018_01_22-S2_prep2_raw_NtbNormalizedAdaptiveInvertedGammaJpeg.jpg\n"
     ]
    },
    {
     "name": "stderr",
     "output_type": "stream",
     "text": [
      "Load background image: 3.00 seconds\n",
      "Rescale background image to output resolution: 0.20 seconds\n",
      "Predict scores Amb: 0.01 seconds\n",
      "Resample scoremap Amb: 0.09 seconds\n",
      "Load and rescale background image: 0.00 seconds\n",
      "Generate scoremap overlay: 0.05 seconds.\n",
      "Scoremap size does not match background image size. Need to resize: 0.08 seconds.\n",
      "Generate scoremap overlay image Amb: 0.16 seconds\n",
      "locate patches: 0.02 seconds\n"
     ]
    },
    {
     "name": "stdout",
     "output_type": "stream",
     "text": [
      "(597, 925, 3) (597, 925)\n",
      "Amb 136\n"
     ]
    },
    {
     "name": "stderr",
     "output_type": "stream",
     "text": [
      "Load pre-computed features: 0.64 seconds\n",
      "Not using image_cache.\n"
     ]
    },
    {
     "name": "stdout",
     "output_type": "stream",
     "text": [
      "/data/CSHL_data_processed/CHATM2/CHATM2_prep2_raw_NtbNormalizedAdaptiveInvertedGammaJpeg/CHATM2_slide46_2018_01_22-S2_prep2_raw_NtbNormalizedAdaptiveInvertedGammaJpeg.jpg\n"
     ]
    },
    {
     "name": "stderr",
     "output_type": "stream",
     "text": [
      "Load background image: 2.92 seconds\n",
      "Rescale background image to output resolution: 0.20 seconds\n",
      "Predict scores Amb: 0.01 seconds\n",
      "Resample scoremap Amb: 0.09 seconds\n",
      "Load and rescale background image: 0.00 seconds\n",
      "Generate scoremap overlay: 0.05 seconds.\n",
      "Scoremap size does not match background image size. Need to resize: 0.08 seconds.\n",
      "Generate scoremap overlay image Amb: 0.16 seconds\n",
      "locate patches: 0.02 seconds\n"
     ]
    },
    {
     "name": "stdout",
     "output_type": "stream",
     "text": [
      "(597, 925, 3) (597, 925)\n",
      "Amb 137\n"
     ]
    },
    {
     "name": "stderr",
     "output_type": "stream",
     "text": [
      "Load pre-computed features: 1.26 seconds\n",
      "Not using image_cache.\n"
     ]
    },
    {
     "name": "stdout",
     "output_type": "stream",
     "text": [
      "/data/CSHL_data_processed/CHATM2/CHATM2_prep2_raw_NtbNormalizedAdaptiveInvertedGammaJpeg/CHATM2_slide45_2018_01_22-S3_prep2_raw_NtbNormalizedAdaptiveInvertedGammaJpeg.jpg\n"
     ]
    },
    {
     "name": "stderr",
     "output_type": "stream",
     "text": [
      "Load background image: 2.81 seconds\n",
      "Rescale background image to output resolution: 0.20 seconds\n",
      "Predict scores Amb: 0.01 seconds\n",
      "Resample scoremap Amb: 0.09 seconds\n",
      "Load and rescale background image: 0.00 seconds\n",
      "Generate scoremap overlay: 0.05 seconds.\n",
      "Scoremap size does not match background image size. Need to resize: 0.08 seconds.\n",
      "Generate scoremap overlay image Amb: 0.16 seconds\n",
      "locate patches: 0.02 seconds\n"
     ]
    },
    {
     "name": "stdout",
     "output_type": "stream",
     "text": [
      "(597, 925, 3) (597, 925)\n",
      "Amb 138\n"
     ]
    },
    {
     "name": "stderr",
     "output_type": "stream",
     "text": [
      "Load pre-computed features: 0.64 seconds\n",
      "Not using image_cache.\n"
     ]
    },
    {
     "name": "stdout",
     "output_type": "stream",
     "text": [
      "/data/CSHL_data_processed/CHATM2/CHATM2_prep2_raw_NtbNormalizedAdaptiveInvertedGammaJpeg/CHATM2_slide46_2018_01_22-S3_prep2_raw_NtbNormalizedAdaptiveInvertedGammaJpeg.jpg\n"
     ]
    },
    {
     "name": "stderr",
     "output_type": "stream",
     "text": [
      "Load background image: 2.93 seconds\n",
      "Rescale background image to output resolution: 0.20 seconds\n",
      "Predict scores Amb: 0.01 seconds\n",
      "Resample scoremap Amb: 0.09 seconds\n",
      "Load and rescale background image: 0.00 seconds\n",
      "Generate scoremap overlay: 0.05 seconds.\n",
      "Scoremap size does not match background image size. Need to resize: 0.08 seconds.\n",
      "Generate scoremap overlay image Amb: 0.16 seconds\n",
      "locate patches: 0.02 seconds\n"
     ]
    },
    {
     "name": "stdout",
     "output_type": "stream",
     "text": [
      "(597, 925, 3) (597, 925)\n",
      "Amb 140\n"
     ]
    },
    {
     "name": "stderr",
     "output_type": "stream",
     "text": [
      "Load pre-computed features: 0.64 seconds\n",
      "Not using image_cache.\n"
     ]
    },
    {
     "name": "stdout",
     "output_type": "stream",
     "text": [
      "/data/CSHL_data_processed/CHATM2/CHATM2_prep2_raw_NtbNormalizedAdaptiveInvertedGammaJpeg/CHATM2_slide48_2018_01_22-S1_prep2_raw_NtbNormalizedAdaptiveInvertedGammaJpeg.jpg\n"
     ]
    },
    {
     "name": "stderr",
     "output_type": "stream",
     "text": [
      "Load background image: 3.34 seconds\n",
      "Rescale background image to output resolution: 0.20 seconds\n",
      "Predict scores Amb: 0.01 seconds\n",
      "Resample scoremap Amb: 0.09 seconds\n",
      "Load and rescale background image: 0.00 seconds\n",
      "Generate scoremap overlay: 0.05 seconds.\n",
      "Scoremap size does not match background image size. Need to resize: 0.08 seconds.\n",
      "Generate scoremap overlay image Amb: 0.16 seconds\n",
      "locate patches: 0.02 seconds\n"
     ]
    },
    {
     "name": "stdout",
     "output_type": "stream",
     "text": [
      "(597, 925, 3) (597, 925)\n",
      "Amb 142\n"
     ]
    },
    {
     "name": "stderr",
     "output_type": "stream",
     "text": [
      "Load pre-computed features: 0.68 seconds\n",
      "Not using image_cache.\n"
     ]
    },
    {
     "name": "stdout",
     "output_type": "stream",
     "text": [
      "/data/CSHL_data_processed/CHATM2/CHATM2_prep2_raw_NtbNormalizedAdaptiveInvertedGammaJpeg/CHATM2_slide48_2018_01_22-S2_prep2_raw_NtbNormalizedAdaptiveInvertedGammaJpeg.jpg\n"
     ]
    },
    {
     "name": "stderr",
     "output_type": "stream",
     "text": [
      "Load background image: 2.69 seconds\n",
      "Rescale background image to output resolution: 0.19 seconds\n",
      "Predict scores Amb: 0.01 seconds\n",
      "Resample scoremap Amb: 0.09 seconds\n",
      "Load and rescale background image: 0.00 seconds\n",
      "Generate scoremap overlay: 0.05 seconds.\n",
      "Scoremap size does not match background image size. Need to resize: 0.08 seconds.\n",
      "Generate scoremap overlay image Amb: 0.15 seconds\n",
      "locate patches: 0.02 seconds\n"
     ]
    },
    {
     "name": "stdout",
     "output_type": "stream",
     "text": [
      "(597, 925, 3) (597, 925)\n",
      "Amb 144\n"
     ]
    },
    {
     "name": "stderr",
     "output_type": "stream",
     "text": [
      "Load pre-computed features: 0.59 seconds\n",
      "Not using image_cache.\n"
     ]
    },
    {
     "name": "stdout",
     "output_type": "stream",
     "text": [
      "/data/CSHL_data_processed/CHATM2/CHATM2_prep2_raw_NtbNormalizedAdaptiveInvertedGammaJpeg/CHATM2_slide48_2018_01_22-S3_prep2_raw_NtbNormalizedAdaptiveInvertedGammaJpeg.jpg\n"
     ]
    },
    {
     "name": "stderr",
     "output_type": "stream",
     "text": [
      "Load background image: 3.04 seconds\n",
      "Rescale background image to output resolution: 0.20 seconds\n",
      "Predict scores Amb: 0.01 seconds\n",
      "Resample scoremap Amb: 0.09 seconds\n",
      "Load and rescale background image: 0.00 seconds\n",
      "Generate scoremap overlay: 0.05 seconds.\n",
      "Scoremap size does not match background image size. Need to resize: 0.08 seconds.\n",
      "Generate scoremap overlay image Amb: 0.16 seconds\n",
      "locate patches: 0.02 seconds\n"
     ]
    },
    {
     "name": "stdout",
     "output_type": "stream",
     "text": [
      "(597, 925, 3) (597, 925)\n",
      "Amb 145\n"
     ]
    },
    {
     "name": "stderr",
     "output_type": "stream",
     "text": [
      "Load pre-computed features: 1.27 seconds\n",
      "Not using image_cache.\n"
     ]
    },
    {
     "name": "stdout",
     "output_type": "stream",
     "text": [
      "/data/CSHL_data_processed/CHATM2/CHATM2_prep2_raw_NtbNormalizedAdaptiveInvertedGammaJpeg/CHATM2_slide49_2018_01_22-S1_prep2_raw_NtbNormalizedAdaptiveInvertedGammaJpeg.jpg\n"
     ]
    },
    {
     "name": "stderr",
     "output_type": "stream",
     "text": [
      "Load background image: 3.06 seconds\n",
      "Rescale background image to output resolution: 0.20 seconds\n",
      "Predict scores Amb: 0.01 seconds\n",
      "Resample scoremap Amb: 0.09 seconds\n",
      "Load and rescale background image: 0.00 seconds\n",
      "Generate scoremap overlay: 0.05 seconds.\n",
      "Scoremap size does not match background image size. Need to resize: 0.08 seconds.\n",
      "Generate scoremap overlay image Amb: 0.16 seconds\n",
      "locate patches: 0.02 seconds\n"
     ]
    },
    {
     "name": "stdout",
     "output_type": "stream",
     "text": [
      "(597, 925, 3) (597, 925)\n",
      "Amb 146\n"
     ]
    },
    {
     "name": "stderr",
     "output_type": "stream",
     "text": [
      "Load pre-computed features: 0.66 seconds\n",
      "Not using image_cache.\n"
     ]
    },
    {
     "name": "stdout",
     "output_type": "stream",
     "text": [
      "/data/CSHL_data_processed/CHATM2/CHATM2_prep2_raw_NtbNormalizedAdaptiveInvertedGammaJpeg/CHATM2_slide50_2018_01_22-S1_prep2_raw_NtbNormalizedAdaptiveInvertedGammaJpeg.jpg\n"
     ]
    },
    {
     "name": "stderr",
     "output_type": "stream",
     "text": [
      "Load background image: 2.83 seconds\n",
      "Rescale background image to output resolution: 0.19 seconds\n",
      "Predict scores Amb: 0.02 seconds\n",
      "Resample scoremap Amb: 0.06 seconds\n",
      "Load and rescale background image: 0.00 seconds\n",
      "Generate scoremap overlay: 0.05 seconds.\n",
      "Scoremap size does not match background image size. Need to resize: 0.08 seconds.\n"
     ]
    },
    {
     "name": "stdout",
     "output_type": "stream",
     "text": [
      "(597, 925, 3) (597, 925)\n",
      "Amb 213\n"
     ]
    },
    {
     "name": "stderr",
     "output_type": "stream",
     "text": [
      "Generate scoremap overlay image Amb: 0.15 seconds\n",
      "locate patches: 0.02 seconds\n",
      "Load pre-computed features: 0.67 seconds\n",
      "Not using image_cache.\n"
     ]
    },
    {
     "name": "stdout",
     "output_type": "stream",
     "text": [
      "/data/CSHL_data_processed/CHATM2/CHATM2_prep2_raw_NtbNormalizedAdaptiveInvertedGammaJpeg/CHATM2_slide70_2018_02_14-S3_prep2_raw_NtbNormalizedAdaptiveInvertedGammaJpeg.jpg\n"
     ]
    },
    {
     "name": "stderr",
     "output_type": "stream",
     "text": [
      "Load background image: 2.71 seconds\n",
      "Rescale background image to output resolution: 0.19 seconds\n",
      "Predict scores Amb: 0.02 seconds\n",
      "Resample scoremap Amb: 0.09 seconds\n",
      "Load and rescale background image: 0.00 seconds\n",
      "Generate scoremap overlay: 0.05 seconds.\n",
      "Scoremap size does not match background image size. Need to resize: 0.08 seconds.\n",
      "Generate scoremap overlay image Amb: 0.16 seconds\n",
      "locate patches: 0.02 seconds\n"
     ]
    },
    {
     "name": "stdout",
     "output_type": "stream",
     "text": [
      "(597, 925, 3) (597, 925)\n",
      "Amb 215\n"
     ]
    },
    {
     "name": "stderr",
     "output_type": "stream",
     "text": [
      "Load pre-computed features: 1.43 seconds\n",
      "Not using image_cache.\n"
     ]
    },
    {
     "name": "stdout",
     "output_type": "stream",
     "text": [
      "/data/CSHL_data_processed/CHATM2/CHATM2_prep2_raw_NtbNormalizedAdaptiveInvertedGammaJpeg/CHATM2_slide72_2018_02_14-S1_prep2_raw_NtbNormalizedAdaptiveInvertedGammaJpeg.jpg\n"
     ]
    },
    {
     "name": "stderr",
     "output_type": "stream",
     "text": [
      "Load background image: 2.77 seconds\n",
      "Rescale background image to output resolution: 0.20 seconds\n",
      "Predict scores Amb: 0.01 seconds\n",
      "Resample scoremap Amb: 0.09 seconds\n",
      "Load and rescale background image: 0.00 seconds\n",
      "Generate scoremap overlay: 0.05 seconds.\n",
      "Scoremap size does not match background image size. Need to resize: 0.08 seconds.\n",
      "Generate scoremap overlay image Amb: 0.15 seconds\n",
      "locate patches: 0.02 seconds\n"
     ]
    },
    {
     "name": "stdout",
     "output_type": "stream",
     "text": [
      "(597, 925, 3) (597, 925)\n",
      "Amb 217\n"
     ]
    },
    {
     "name": "stderr",
     "output_type": "stream",
     "text": [
      "Load pre-computed features: 0.69 seconds\n",
      "Not using image_cache.\n"
     ]
    },
    {
     "name": "stdout",
     "output_type": "stream",
     "text": [
      "/data/CSHL_data_processed/CHATM2/CHATM2_prep2_raw_NtbNormalizedAdaptiveInvertedGammaJpeg/CHATM2_slide72_2018_02_14-S2_prep2_raw_NtbNormalizedAdaptiveInvertedGammaJpeg.jpg\n"
     ]
    },
    {
     "name": "stderr",
     "output_type": "stream",
     "text": [
      "Load background image: 2.72 seconds\n",
      "Rescale background image to output resolution: 0.20 seconds\n",
      "Predict scores Amb: 0.01 seconds\n",
      "Resample scoremap Amb: 0.09 seconds\n",
      "Load and rescale background image: 0.00 seconds\n",
      "Generate scoremap overlay: 0.05 seconds.\n",
      "Scoremap size does not match background image size. Need to resize: 0.08 seconds.\n",
      "Generate scoremap overlay image Amb: 0.15 seconds\n",
      "locate patches: 0.05 seconds\n"
     ]
    },
    {
     "name": "stdout",
     "output_type": "stream",
     "text": [
      "(597, 925, 3) (597, 925)\n",
      "Amb 219\n"
     ]
    },
    {
     "name": "stderr",
     "output_type": "stream",
     "text": [
      "Load pre-computed features: 1.34 seconds\n",
      "Not using image_cache.\n"
     ]
    },
    {
     "name": "stdout",
     "output_type": "stream",
     "text": [
      "/data/CSHL_data_processed/CHATM2/CHATM2_prep2_raw_NtbNormalizedAdaptiveInvertedGammaJpeg/CHATM2_slide72_2018_02_14-S3_prep2_raw_NtbNormalizedAdaptiveInvertedGammaJpeg.jpg\n"
     ]
    },
    {
     "name": "stderr",
     "output_type": "stream",
     "text": [
      "Load background image: 2.78 seconds\n",
      "Rescale background image to output resolution: 0.20 seconds\n",
      "Predict scores Amb: 0.02 seconds\n",
      "Resample scoremap Amb: 0.09 seconds\n",
      "Load and rescale background image: 0.00 seconds\n",
      "Generate scoremap overlay: 0.05 seconds.\n",
      "Scoremap size does not match background image size. Need to resize: 0.08 seconds.\n",
      "Generate scoremap overlay image Amb: 0.16 seconds\n",
      "locate patches: 0.02 seconds\n"
     ]
    },
    {
     "name": "stdout",
     "output_type": "stream",
     "text": [
      "(597, 925, 3) (597, 925)\n",
      "Amb 221\n"
     ]
    },
    {
     "name": "stderr",
     "output_type": "stream",
     "text": [
      "Load pre-computed features: 1.33 seconds\n",
      "Not using image_cache.\n"
     ]
    },
    {
     "name": "stdout",
     "output_type": "stream",
     "text": [
      "/data/CSHL_data_processed/CHATM2/CHATM2_prep2_raw_NtbNormalizedAdaptiveInvertedGammaJpeg/CHATM2_slide74_2018_02_14-S1_prep2_raw_NtbNormalizedAdaptiveInvertedGammaJpeg.jpg\n"
     ]
    },
    {
     "name": "stderr",
     "output_type": "stream",
     "text": [
      "Load background image: 2.73 seconds\n",
      "Rescale background image to output resolution: 0.20 seconds\n",
      "Predict scores Amb: 0.01 seconds\n",
      "Resample scoremap Amb: 0.09 seconds\n",
      "Load and rescale background image: 0.00 seconds\n",
      "Generate scoremap overlay: 0.05 seconds.\n",
      "Scoremap size does not match background image size. Need to resize: 0.08 seconds.\n",
      "Generate scoremap overlay image Amb: 0.16 seconds\n",
      "locate patches: 0.04 seconds\n"
     ]
    },
    {
     "name": "stdout",
     "output_type": "stream",
     "text": [
      "(597, 925, 3) (597, 925)\n",
      "Amb 223\n"
     ]
    },
    {
     "name": "stderr",
     "output_type": "stream",
     "text": [
      "Load pre-computed features: 1.13 seconds\n",
      "Not using image_cache.\n"
     ]
    },
    {
     "name": "stdout",
     "output_type": "stream",
     "text": [
      "/data/CSHL_data_processed/CHATM2/CHATM2_prep2_raw_NtbNormalizedAdaptiveInvertedGammaJpeg/CHATM2_slide74_2018_02_14-S2_prep2_raw_NtbNormalizedAdaptiveInvertedGammaJpeg.jpg\n"
     ]
    },
    {
     "name": "stderr",
     "output_type": "stream",
     "text": [
      "Load background image: 2.65 seconds\n",
      "Rescale background image to output resolution: 0.20 seconds\n",
      "Predict scores Amb: 0.01 seconds\n",
      "Resample scoremap Amb: 0.09 seconds\n",
      "Load and rescale background image: 0.00 seconds\n",
      "Generate scoremap overlay: 0.05 seconds.\n",
      "Scoremap size does not match background image size. Need to resize: 0.08 seconds.\n",
      "Generate scoremap overlay image Amb: 0.16 seconds\n",
      "locate patches: 0.04 seconds\n"
     ]
    },
    {
     "name": "stdout",
     "output_type": "stream",
     "text": [
      "(597, 925, 3) (597, 925)\n",
      "Amb 225\n"
     ]
    },
    {
     "name": "stderr",
     "output_type": "stream",
     "text": [
      "Load pre-computed features: 1.17 seconds\n",
      "Not using image_cache.\n"
     ]
    },
    {
     "name": "stdout",
     "output_type": "stream",
     "text": [
      "/data/CSHL_data_processed/CHATM2/CHATM2_prep2_raw_NtbNormalizedAdaptiveInvertedGammaJpeg/CHATM2_slide74_2018_02_14-S3_prep2_raw_NtbNormalizedAdaptiveInvertedGammaJpeg.jpg\n"
     ]
    },
    {
     "name": "stderr",
     "output_type": "stream",
     "text": [
      "Load background image: 2.71 seconds\n",
      "Rescale background image to output resolution: 0.19 seconds\n",
      "Predict scores Amb: 0.01 seconds\n",
      "Resample scoremap Amb: 0.09 seconds\n",
      "Load and rescale background image: 0.00 seconds\n",
      "Generate scoremap overlay: 0.05 seconds.\n",
      "Scoremap size does not match background image size. Need to resize: 0.08 seconds.\n",
      "Generate scoremap overlay image Amb: 0.15 seconds\n",
      "locate patches: 0.02 seconds\n"
     ]
    },
    {
     "name": "stdout",
     "output_type": "stream",
     "text": [
      "(597, 925, 3) (597, 925)\n",
      "Amb 227\n"
     ]
    },
    {
     "name": "stderr",
     "output_type": "stream",
     "text": [
      "Load pre-computed features: 0.59 seconds\n",
      "Not using image_cache.\n"
     ]
    },
    {
     "name": "stdout",
     "output_type": "stream",
     "text": [
      "/data/CSHL_data_processed/CHATM2/CHATM2_prep2_raw_NtbNormalizedAdaptiveInvertedGammaJpeg/CHATM2_slide76_2018_02_14-S1_prep2_raw_NtbNormalizedAdaptiveInvertedGammaJpeg.jpg\n"
     ]
    },
    {
     "name": "stderr",
     "output_type": "stream",
     "text": [
      "Load background image: 2.78 seconds\n",
      "Rescale background image to output resolution: 0.20 seconds\n",
      "Predict scores Amb: 0.01 seconds\n",
      "Resample scoremap Amb: 0.06 seconds\n",
      "Load and rescale background image: 0.00 seconds\n",
      "Generate scoremap overlay: 0.05 seconds.\n",
      "Scoremap size does not match background image size. Need to resize: 0.08 seconds.\n"
     ]
    },
    {
     "name": "stdout",
     "output_type": "stream",
     "text": [
      "(597, 925, 3) (597, 925)\n",
      "Amb 229\n"
     ]
    },
    {
     "name": "stderr",
     "output_type": "stream",
     "text": [
      "Generate scoremap overlay image Amb: 0.16 seconds\n",
      "locate patches: 0.02 seconds\n",
      "Load pre-computed features: 1.24 seconds\n",
      "Not using image_cache.\n"
     ]
    },
    {
     "name": "stdout",
     "output_type": "stream",
     "text": [
      "/data/CSHL_data_processed/CHATM2/CHATM2_prep2_raw_NtbNormalizedAdaptiveInvertedGammaJpeg/CHATM2_slide76_2018_02_14-S2_prep2_raw_NtbNormalizedAdaptiveInvertedGammaJpeg.jpg\n"
     ]
    },
    {
     "name": "stderr",
     "output_type": "stream",
     "text": [
      "Load background image: 2.59 seconds\n",
      "Rescale background image to output resolution: 0.20 seconds\n",
      "Predict scores Amb: 0.01 seconds\n",
      "Resample scoremap Amb: 0.09 seconds\n",
      "Load and rescale background image: 0.00 seconds\n",
      "Generate scoremap overlay: 0.05 seconds.\n",
      "Scoremap size does not match background image size. Need to resize: 0.08 seconds.\n",
      "Generate scoremap overlay image Amb: 0.16 seconds\n",
      "locate patches: 0.02 seconds\n"
     ]
    },
    {
     "name": "stdout",
     "output_type": "stream",
     "text": [
      "(597, 925, 3) (597, 925)\n",
      "Amb 231\n"
     ]
    },
    {
     "name": "stderr",
     "output_type": "stream",
     "text": [
      "Load pre-computed features: 1.19 seconds\n",
      "Not using image_cache.\n"
     ]
    },
    {
     "name": "stdout",
     "output_type": "stream",
     "text": [
      "/data/CSHL_data_processed/CHATM2/CHATM2_prep2_raw_NtbNormalizedAdaptiveInvertedGammaJpeg/CHATM2_slide76_2018_02_14-S3_prep2_raw_NtbNormalizedAdaptiveInvertedGammaJpeg.jpg\n"
     ]
    },
    {
     "name": "stderr",
     "output_type": "stream",
     "text": [
      "Load background image: 2.62 seconds\n",
      "Rescale background image to output resolution: 0.20 seconds\n",
      "Predict scores Amb: 0.01 seconds\n",
      "Resample scoremap Amb: 0.07 seconds\n",
      "Load and rescale background image: 0.00 seconds\n",
      "Generate scoremap overlay: 0.05 seconds.\n",
      "Scoremap size does not match background image size. Need to resize: 0.08 seconds.\n"
     ]
    },
    {
     "name": "stdout",
     "output_type": "stream",
     "text": [
      "(597, 925, 3) (597, 925)\n",
      "Amb 233\n"
     ]
    },
    {
     "name": "stderr",
     "output_type": "stream",
     "text": [
      "Generate scoremap overlay image Amb: 0.16 seconds\n",
      "locate patches: 0.02 seconds\n",
      "Load pre-computed features: 1.10 seconds\n",
      "Not using image_cache.\n"
     ]
    },
    {
     "name": "stdout",
     "output_type": "stream",
     "text": [
      "/data/CSHL_data_processed/CHATM2/CHATM2_prep2_raw_NtbNormalizedAdaptiveInvertedGammaJpeg/CHATM2_slide78_2018_02_14-S1_prep2_raw_NtbNormalizedAdaptiveInvertedGammaJpeg.jpg\n"
     ]
    },
    {
     "name": "stderr",
     "output_type": "stream",
     "text": [
      "Load background image: 2.50 seconds\n",
      "Rescale background image to output resolution: 0.20 seconds\n",
      "Predict scores Amb: 0.01 seconds\n",
      "Resample scoremap Amb: 0.09 seconds\n",
      "Load and rescale background image: 0.00 seconds\n",
      "Generate scoremap overlay: 0.05 seconds.\n",
      "Scoremap size does not match background image size. Need to resize: 0.08 seconds.\n",
      "Generate scoremap overlay image Amb: 0.16 seconds\n",
      "locate patches: 0.02 seconds\n"
     ]
    },
    {
     "name": "stdout",
     "output_type": "stream",
     "text": [
      "(597, 925, 3) (597, 925)\n",
      "Amb 235\n"
     ]
    },
    {
     "name": "stderr",
     "output_type": "stream",
     "text": [
      "Load pre-computed features: 1.26 seconds\n",
      "Not using image_cache.\n"
     ]
    },
    {
     "name": "stdout",
     "output_type": "stream",
     "text": [
      "/data/CSHL_data_processed/CHATM2/CHATM2_prep2_raw_NtbNormalizedAdaptiveInvertedGammaJpeg/CHATM2_slide78_2018_02_14-S2_prep2_raw_NtbNormalizedAdaptiveInvertedGammaJpeg.jpg\n"
     ]
    },
    {
     "name": "stderr",
     "output_type": "stream",
     "text": [
      "Load background image: 2.78 seconds\n",
      "Rescale background image to output resolution: 0.20 seconds\n",
      "Predict scores Amb: 0.01 seconds\n",
      "Resample scoremap Amb: 0.09 seconds\n",
      "Load and rescale background image: 0.00 seconds\n",
      "Generate scoremap overlay: 0.05 seconds.\n",
      "Scoremap size does not match background image size. Need to resize: 0.08 seconds.\n",
      "Generate scoremap overlay image Amb: 0.16 seconds\n",
      "locate patches: 0.02 seconds\n"
     ]
    },
    {
     "name": "stdout",
     "output_type": "stream",
     "text": [
      "(597, 925, 3) (597, 925)\n",
      "Amb 237\n"
     ]
    },
    {
     "name": "stderr",
     "output_type": "stream",
     "text": [
      "Load pre-computed features: 0.66 seconds\n",
      "Not using image_cache.\n"
     ]
    },
    {
     "name": "stdout",
     "output_type": "stream",
     "text": [
      "/data/CSHL_data_processed/CHATM2/CHATM2_prep2_raw_NtbNormalizedAdaptiveInvertedGammaJpeg/CHATM2_slide78_2018_02_14-S3_prep2_raw_NtbNormalizedAdaptiveInvertedGammaJpeg.jpg\n"
     ]
    },
    {
     "name": "stderr",
     "output_type": "stream",
     "text": [
      "Load background image: 2.57 seconds\n",
      "Rescale background image to output resolution: 0.19 seconds\n",
      "Predict scores Amb: 0.01 seconds\n",
      "Resample scoremap Amb: 0.09 seconds\n",
      "Load and rescale background image: 0.00 seconds\n",
      "Generate scoremap overlay: 0.05 seconds.\n",
      "Scoremap size does not match background image size. Need to resize: 0.08 seconds.\n",
      "Generate scoremap overlay image Amb: 0.15 seconds\n",
      "locate patches: 0.04 seconds\n"
     ]
    },
    {
     "name": "stdout",
     "output_type": "stream",
     "text": [
      "(597, 925, 3) (597, 925)\n",
      "Amb 239\n"
     ]
    },
    {
     "name": "stderr",
     "output_type": "stream",
     "text": [
      "Load pre-computed features: 0.59 seconds\n",
      "Not using image_cache.\n"
     ]
    },
    {
     "name": "stdout",
     "output_type": "stream",
     "text": [
      "/data/CSHL_data_processed/CHATM2/CHATM2_prep2_raw_NtbNormalizedAdaptiveInvertedGammaJpeg/CHATM2_slide80_2018_02_14-S1_prep2_raw_NtbNormalizedAdaptiveInvertedGammaJpeg.jpg\n"
     ]
    },
    {
     "name": "stderr",
     "output_type": "stream",
     "text": [
      "Load background image: 2.51 seconds\n",
      "Rescale background image to output resolution: 0.20 seconds\n",
      "Predict scores Amb: 0.01 seconds\n",
      "Resample scoremap Amb: 0.09 seconds\n",
      "Load and rescale background image: 0.00 seconds\n",
      "Generate scoremap overlay: 0.06 seconds.\n",
      "Scoremap size does not match background image size. Need to resize: 0.08 seconds.\n",
      "Generate scoremap overlay image Amb: 0.17 seconds\n",
      "locate patches: 0.02 seconds\n"
     ]
    },
    {
     "name": "stdout",
     "output_type": "stream",
     "text": [
      "(597, 925, 3) (597, 925)\n",
      "Amb 241\n"
     ]
    },
    {
     "name": "stderr",
     "output_type": "stream",
     "text": [
      "Load pre-computed features: 0.61 seconds\n",
      "Not using image_cache.\n"
     ]
    },
    {
     "name": "stdout",
     "output_type": "stream",
     "text": [
      "/data/CSHL_data_processed/CHATM2/CHATM2_prep2_raw_NtbNormalizedAdaptiveInvertedGammaJpeg/CHATM2_slide80_2018_02_14-S2_prep2_raw_NtbNormalizedAdaptiveInvertedGammaJpeg.jpg\n"
     ]
    },
    {
     "name": "stderr",
     "output_type": "stream",
     "text": [
      "Load background image: 2.65 seconds\n",
      "Rescale background image to output resolution: 0.20 seconds\n",
      "Predict scores Amb: 0.01 seconds\n",
      "Resample scoremap Amb: 0.06 seconds\n",
      "Load and rescale background image: 0.00 seconds\n",
      "Generate scoremap overlay: 0.05 seconds.\n",
      "Scoremap size does not match background image size. Need to resize: 0.08 seconds.\n"
     ]
    },
    {
     "name": "stdout",
     "output_type": "stream",
     "text": [
      "(597, 925, 3) (597, 925)\n",
      "Amb 243\n"
     ]
    },
    {
     "name": "stderr",
     "output_type": "stream",
     "text": [
      "Generate scoremap overlay image Amb: 0.16 seconds\n",
      "locate patches: 0.02 seconds\n",
      "Load pre-computed features: 0.53 seconds\n",
      "Not using image_cache.\n"
     ]
    },
    {
     "name": "stdout",
     "output_type": "stream",
     "text": [
      "/data/CSHL_data_processed/CHATM2/CHATM2_prep2_raw_NtbNormalizedAdaptiveInvertedGammaJpeg/CHATM2_slide80_2018_02_14-S3_prep2_raw_NtbNormalizedAdaptiveInvertedGammaJpeg.jpg\n"
     ]
    },
    {
     "name": "stderr",
     "output_type": "stream",
     "text": [
      "Load background image: 2.54 seconds\n",
      "Rescale background image to output resolution: 0.19 seconds\n",
      "Predict scores Amb: 0.01 seconds\n",
      "Resample scoremap Amb: 0.09 seconds\n",
      "Load and rescale background image: 0.00 seconds\n",
      "Generate scoremap overlay: 0.05 seconds.\n",
      "Scoremap size does not match background image size. Need to resize: 0.08 seconds.\n",
      "Generate scoremap overlay image Amb: 0.15 seconds\n",
      "locate patches: 0.05 seconds\n"
     ]
    },
    {
     "name": "stdout",
     "output_type": "stream",
     "text": [
      "(597, 925, 3) (597, 925)\n",
      "Amb 245\n"
     ]
    },
    {
     "name": "stderr",
     "output_type": "stream",
     "text": [
      "Load pre-computed features: 0.56 seconds\n",
      "Not using image_cache.\n"
     ]
    },
    {
     "name": "stdout",
     "output_type": "stream",
     "text": [
      "/data/CSHL_data_processed/CHATM2/CHATM2_prep2_raw_NtbNormalizedAdaptiveInvertedGammaJpeg/CHATM2_slide82_2018_02_14-S1_prep2_raw_NtbNormalizedAdaptiveInvertedGammaJpeg.jpg\n"
     ]
    },
    {
     "name": "stderr",
     "output_type": "stream",
     "text": [
      "Load background image: 2.59 seconds\n",
      "Rescale background image to output resolution: 0.20 seconds\n",
      "Predict scores Amb: 0.01 seconds\n",
      "Resample scoremap Amb: 0.09 seconds\n",
      "Load and rescale background image: 0.00 seconds\n",
      "Generate scoremap overlay: 0.05 seconds.\n",
      "Scoremap size does not match background image size. Need to resize: 0.08 seconds.\n",
      "Generate scoremap overlay image Amb: 0.16 seconds\n",
      "locate patches: 0.02 seconds\n"
     ]
    },
    {
     "name": "stdout",
     "output_type": "stream",
     "text": [
      "(597, 925, 3) (597, 925)\n",
      "Amb 247\n"
     ]
    },
    {
     "name": "stderr",
     "output_type": "stream",
     "text": [
      "Load pre-computed features: 0.54 seconds\n",
      "Not using image_cache.\n"
     ]
    },
    {
     "name": "stdout",
     "output_type": "stream",
     "text": [
      "/data/CSHL_data_processed/CHATM2/CHATM2_prep2_raw_NtbNormalizedAdaptiveInvertedGammaJpeg/CHATM2_slide82_2018_02_14-S2_prep2_raw_NtbNormalizedAdaptiveInvertedGammaJpeg.jpg\n"
     ]
    },
    {
     "name": "stderr",
     "output_type": "stream",
     "text": [
      "Load background image: 2.60 seconds\n",
      "Rescale background image to output resolution: 0.21 seconds\n",
      "Predict scores Amb: 0.01 seconds\n",
      "Resample scoremap Amb: 0.07 seconds\n",
      "Load and rescale background image: 0.00 seconds\n",
      "Generate scoremap overlay: 0.05 seconds.\n",
      "Scoremap size does not match background image size. Need to resize: 0.08 seconds.\n"
     ]
    },
    {
     "name": "stdout",
     "output_type": "stream",
     "text": [
      "(597, 925, 3) (597, 925)\n",
      "Amb 249\n"
     ]
    },
    {
     "name": "stderr",
     "output_type": "stream",
     "text": [
      "Generate scoremap overlay image Amb: 0.16 seconds\n",
      "locate patches: 0.02 seconds\n",
      "Load pre-computed features: 0.57 seconds\n",
      "Not using image_cache.\n"
     ]
    },
    {
     "name": "stdout",
     "output_type": "stream",
     "text": [
      "/data/CSHL_data_processed/CHATM2/CHATM2_prep2_raw_NtbNormalizedAdaptiveInvertedGammaJpeg/CHATM2_slide82_2018_02_14-S3_prep2_raw_NtbNormalizedAdaptiveInvertedGammaJpeg.jpg\n"
     ]
    },
    {
     "name": "stderr",
     "output_type": "stream",
     "text": [
      "Load background image: 2.55 seconds\n",
      "Rescale background image to output resolution: 0.20 seconds\n",
      "Predict scores Amb: 0.01 seconds\n",
      "Resample scoremap Amb: 0.06 seconds\n",
      "Load and rescale background image: 0.00 seconds\n",
      "Generate scoremap overlay: 0.05 seconds.\n",
      "Scoremap size does not match background image size. Need to resize: 0.08 seconds.\n"
     ]
    },
    {
     "name": "stdout",
     "output_type": "stream",
     "text": [
      "(597, 925, 3) (597, 925)\n",
      "Amb 251\n"
     ]
    },
    {
     "name": "stderr",
     "output_type": "stream",
     "text": [
      "Generate scoremap overlay image Amb: 0.16 seconds\n",
      "locate patches: 0.02 seconds\n",
      "Load pre-computed features: 1.13 seconds\n",
      "Not using image_cache.\n"
     ]
    },
    {
     "name": "stdout",
     "output_type": "stream",
     "text": [
      "/data/CSHL_data_processed/CHATM2/CHATM2_prep2_raw_NtbNormalizedAdaptiveInvertedGammaJpeg/CHATM2_slide84_2018_02_14-S1_prep2_raw_NtbNormalizedAdaptiveInvertedGammaJpeg.jpg\n"
     ]
    },
    {
     "name": "stderr",
     "output_type": "stream",
     "text": [
      "Load background image: 2.52 seconds\n",
      "Rescale background image to output resolution: 0.20 seconds\n",
      "Predict scores Amb: 0.01 seconds\n",
      "Resample scoremap Amb: 0.09 seconds\n",
      "Load and rescale background image: 0.00 seconds\n",
      "Generate scoremap overlay: 0.05 seconds.\n",
      "Scoremap size does not match background image size. Need to resize: 0.08 seconds.\n",
      "Generate scoremap overlay image Amb: 0.15 seconds\n",
      "locate patches: 0.02 seconds\n"
     ]
    },
    {
     "name": "stdout",
     "output_type": "stream",
     "text": [
      "(597, 925, 3) (597, 925)\n",
      "Amb 253\n"
     ]
    },
    {
     "name": "stderr",
     "output_type": "stream",
     "text": [
      "Load pre-computed features: 1.18 seconds\n",
      "Not using image_cache.\n"
     ]
    },
    {
     "name": "stdout",
     "output_type": "stream",
     "text": [
      "/data/CSHL_data_processed/CHATM2/CHATM2_prep2_raw_NtbNormalizedAdaptiveInvertedGammaJpeg/CHATM2_slide84_2018_02_14-S2_prep2_raw_NtbNormalizedAdaptiveInvertedGammaJpeg.jpg\n"
     ]
    },
    {
     "name": "stderr",
     "output_type": "stream",
     "text": [
      "Load background image: 2.63 seconds\n",
      "Rescale background image to output resolution: 0.19 seconds\n",
      "Predict scores Amb: 0.01 seconds\n",
      "Resample scoremap Amb: 0.06 seconds\n",
      "Load and rescale background image: 0.00 seconds\n",
      "Generate scoremap overlay: 0.05 seconds.\n",
      "Scoremap size does not match background image size. Need to resize: 0.08 seconds.\n"
     ]
    },
    {
     "name": "stdout",
     "output_type": "stream",
     "text": [
      "(597, 925, 3) (597, 925)\n",
      "Amb 255\n"
     ]
    },
    {
     "name": "stderr",
     "output_type": "stream",
     "text": [
      "Generate scoremap overlay image Amb: 0.15 seconds\n",
      "locate patches: 0.02 seconds\n",
      "Load pre-computed features: 1.05 seconds\n",
      "Not using image_cache.\n"
     ]
    },
    {
     "name": "stdout",
     "output_type": "stream",
     "text": [
      "/data/CSHL_data_processed/CHATM2/CHATM2_prep2_raw_NtbNormalizedAdaptiveInvertedGammaJpeg/CHATM2_slide84_2018_02_14-S3_prep2_raw_NtbNormalizedAdaptiveInvertedGammaJpeg.jpg\n"
     ]
    },
    {
     "name": "stderr",
     "output_type": "stream",
     "text": [
      "Load background image: 2.44 seconds\n",
      "Rescale background image to output resolution: 0.19 seconds\n",
      "Predict scores Amb: 0.01 seconds\n",
      "Resample scoremap Amb: 0.06 seconds\n",
      "Load and rescale background image: 0.00 seconds\n",
      "Generate scoremap overlay: 0.05 seconds.\n",
      "Scoremap size does not match background image size. Need to resize: 0.09 seconds.\n"
     ]
    },
    {
     "name": "stdout",
     "output_type": "stream",
     "text": [
      "(597, 925, 3) (597, 925)\n",
      "Amb 257\n"
     ]
    },
    {
     "name": "stderr",
     "output_type": "stream",
     "text": [
      "Generate scoremap overlay image Amb: 0.18 seconds\n",
      "locate patches: 0.02 seconds\n",
      "Load pre-computed features: 0.53 seconds\n",
      "Not using image_cache.\n"
     ]
    },
    {
     "name": "stdout",
     "output_type": "stream",
     "text": [
      "/data/CSHL_data_processed/CHATM2/CHATM2_prep2_raw_NtbNormalizedAdaptiveInvertedGammaJpeg/CHATM2_slide86_2018_02_13-S1_prep2_raw_NtbNormalizedAdaptiveInvertedGammaJpeg.jpg\n"
     ]
    },
    {
     "name": "stderr",
     "output_type": "stream",
     "text": [
      "Load background image: 2.44 seconds\n",
      "Rescale background image to output resolution: 0.20 seconds\n",
      "Predict scores Amb: 0.01 seconds\n",
      "Resample scoremap Amb: 0.09 seconds\n",
      "Load and rescale background image: 0.00 seconds\n",
      "Generate scoremap overlay: 0.05 seconds.\n",
      "Scoremap size does not match background image size. Need to resize: 0.08 seconds.\n",
      "Generate scoremap overlay image Amb: 0.16 seconds\n",
      "locate patches: 0.02 seconds\n"
     ]
    },
    {
     "name": "stdout",
     "output_type": "stream",
     "text": [
      "(597, 925, 3) (597, 925)\n",
      "Amb 259\n"
     ]
    },
    {
     "name": "stderr",
     "output_type": "stream",
     "text": [
      "Load pre-computed features: 1.16 seconds\n",
      "Not using image_cache.\n"
     ]
    },
    {
     "name": "stdout",
     "output_type": "stream",
     "text": [
      "/data/CSHL_data_processed/CHATM2/CHATM2_prep2_raw_NtbNormalizedAdaptiveInvertedGammaJpeg/CHATM2_slide86_2018_02_13-S2_prep2_raw_NtbNormalizedAdaptiveInvertedGammaJpeg.jpg\n"
     ]
    },
    {
     "name": "stderr",
     "output_type": "stream",
     "text": [
      "Load background image: 2.48 seconds\n",
      "Rescale background image to output resolution: 0.20 seconds\n",
      "Predict scores Amb: 0.01 seconds\n",
      "Resample scoremap Amb: 0.06 seconds\n",
      "Load and rescale background image: 0.00 seconds\n",
      "Generate scoremap overlay: 0.05 seconds.\n",
      "Scoremap size does not match background image size. Need to resize: 0.08 seconds.\n"
     ]
    },
    {
     "name": "stdout",
     "output_type": "stream",
     "text": [
      "(597, 925, 3) (597, 925)\n",
      "Amb 261\n"
     ]
    },
    {
     "name": "stderr",
     "output_type": "stream",
     "text": [
      "Generate scoremap overlay image Amb: 0.16 seconds\n",
      "locate patches: 0.02 seconds\n",
      "Load pre-computed features: 0.63 seconds\n",
      "Not using image_cache.\n"
     ]
    },
    {
     "name": "stdout",
     "output_type": "stream",
     "text": [
      "/data/CSHL_data_processed/CHATM2/CHATM2_prep2_raw_NtbNormalizedAdaptiveInvertedGammaJpeg/CHATM2_slide86_2018_02_13-S3_prep2_raw_NtbNormalizedAdaptiveInvertedGammaJpeg.jpg\n"
     ]
    },
    {
     "name": "stderr",
     "output_type": "stream",
     "text": [
      "Load background image: 2.46 seconds\n",
      "Rescale background image to output resolution: 0.20 seconds\n",
      "Predict scores Amb: 0.01 seconds\n",
      "Resample scoremap Amb: 0.06 seconds\n",
      "Load and rescale background image: 0.00 seconds\n",
      "Generate scoremap overlay: 0.05 seconds.\n",
      "Scoremap size does not match background image size. Need to resize: 0.08 seconds.\n"
     ]
    },
    {
     "name": "stdout",
     "output_type": "stream",
     "text": [
      "(597, 925, 3) (597, 925)\n",
      "Amb 263\n"
     ]
    },
    {
     "name": "stderr",
     "output_type": "stream",
     "text": [
      "Generate scoremap overlay image Amb: 0.16 seconds\n",
      "locate patches: 0.02 seconds\n",
      "Load pre-computed features: 1.07 seconds\n",
      "Not using image_cache.\n"
     ]
    },
    {
     "name": "stdout",
     "output_type": "stream",
     "text": [
      "/data/CSHL_data_processed/CHATM2/CHATM2_prep2_raw_NtbNormalizedAdaptiveInvertedGammaJpeg/CHATM2_slide88_2018_02_13-S1_prep2_raw_NtbNormalizedAdaptiveInvertedGammaJpeg.jpg\n"
     ]
    },
    {
     "name": "stderr",
     "output_type": "stream",
     "text": [
      "Load background image: 2.33 seconds\n",
      "Rescale background image to output resolution: 0.20 seconds\n",
      "Predict scores Amb: 0.01 seconds\n",
      "Resample scoremap Amb: 0.09 seconds\n",
      "Load and rescale background image: 0.00 seconds\n",
      "Generate scoremap overlay: 0.05 seconds.\n",
      "Scoremap size does not match background image size. Need to resize: 0.08 seconds.\n",
      "Generate scoremap overlay image Amb: 0.16 seconds\n",
      "locate patches: 0.02 seconds\n"
     ]
    },
    {
     "name": "stdout",
     "output_type": "stream",
     "text": [
      "(597, 925, 3) (597, 925)\n",
      "Amb 265\n"
     ]
    },
    {
     "name": "stderr",
     "output_type": "stream",
     "text": [
      "Load pre-computed features: 1.08 seconds\n",
      "Not using image_cache.\n"
     ]
    },
    {
     "name": "stdout",
     "output_type": "stream",
     "text": [
      "/data/CSHL_data_processed/CHATM2/CHATM2_prep2_raw_NtbNormalizedAdaptiveInvertedGammaJpeg/CHATM2_slide88_2018_02_13-S2_prep2_raw_NtbNormalizedAdaptiveInvertedGammaJpeg.jpg\n"
     ]
    },
    {
     "name": "stderr",
     "output_type": "stream",
     "text": [
      "Load background image: 2.43 seconds\n",
      "Rescale background image to output resolution: 0.20 seconds\n",
      "Predict scores Amb: 0.01 seconds\n",
      "Resample scoremap Amb: 0.10 seconds\n",
      "Load and rescale background image: 0.00 seconds\n",
      "Generate scoremap overlay: 0.06 seconds.\n",
      "Scoremap size does not match background image size. Need to resize: 0.09 seconds.\n",
      "Generate scoremap overlay image Amb: 0.18 seconds\n",
      "locate patches: 0.04 seconds\n"
     ]
    },
    {
     "name": "stdout",
     "output_type": "stream",
     "text": [
      "(597, 925, 3) (597, 925)\n",
      "Amb 267\n"
     ]
    },
    {
     "name": "stderr",
     "output_type": "stream",
     "text": [
      "Load pre-computed features: 0.55 seconds\n",
      "Not using image_cache.\n"
     ]
    },
    {
     "name": "stdout",
     "output_type": "stream",
     "text": [
      "/data/CSHL_data_processed/CHATM2/CHATM2_prep2_raw_NtbNormalizedAdaptiveInvertedGammaJpeg/CHATM2_slide88_2018_02_13-S3_prep2_raw_NtbNormalizedAdaptiveInvertedGammaJpeg.jpg\n"
     ]
    },
    {
     "name": "stderr",
     "output_type": "stream",
     "text": [
      "Load background image: 2.42 seconds\n",
      "Rescale background image to output resolution: 0.20 seconds\n",
      "Predict scores Amb: 0.01 seconds\n",
      "Resample scoremap Amb: 0.06 seconds\n",
      "Load and rescale background image: 0.00 seconds\n",
      "Generate scoremap overlay: 0.05 seconds.\n",
      "Scoremap size does not match background image size. Need to resize: 0.08 seconds.\n"
     ]
    },
    {
     "name": "stdout",
     "output_type": "stream",
     "text": [
      "(597, 925, 3) (597, 925)\n",
      "Amb 269\n"
     ]
    },
    {
     "name": "stderr",
     "output_type": "stream",
     "text": [
      "Generate scoremap overlay image Amb: 0.16 seconds\n",
      "locate patches: 0.02 seconds\n",
      "Load pre-computed features: 1.12 seconds\n",
      "Not using image_cache.\n"
     ]
    },
    {
     "name": "stdout",
     "output_type": "stream",
     "text": [
      "/data/CSHL_data_processed/CHATM2/CHATM2_prep2_raw_NtbNormalizedAdaptiveInvertedGammaJpeg/CHATM2_slide90_2018_02_13-S1_prep2_raw_NtbNormalizedAdaptiveInvertedGammaJpeg.jpg\n"
     ]
    },
    {
     "name": "stderr",
     "output_type": "stream",
     "text": [
      "Load background image: 2.49 seconds\n",
      "Rescale background image to output resolution: 0.20 seconds\n",
      "Predict scores Amb: 0.01 seconds\n",
      "Resample scoremap Amb: 0.06 seconds\n",
      "Load and rescale background image: 0.00 seconds\n",
      "Generate scoremap overlay: 0.05 seconds.\n",
      "Scoremap size does not match background image size. Need to resize: 0.08 seconds.\n"
     ]
    },
    {
     "name": "stdout",
     "output_type": "stream",
     "text": [
      "(597, 925, 3) (597, 925)\n",
      "3N 140\n"
     ]
    },
    {
     "name": "stderr",
     "output_type": "stream",
     "text": [
      "Generate scoremap overlay image Amb: 0.16 seconds\n",
      "locate patches: 0.02 seconds\n",
      "Load pre-computed features: 0.62 seconds\n",
      "Not using image_cache.\n"
     ]
    },
    {
     "name": "stdout",
     "output_type": "stream",
     "text": [
      "/data/CSHL_data_processed/CHATM2/CHATM2_prep2_raw_NtbNormalizedAdaptiveInvertedGammaJpeg/CHATM2_slide48_2018_01_22-S1_prep2_raw_NtbNormalizedAdaptiveInvertedGammaJpeg.jpg\n"
     ]
    },
    {
     "name": "stderr",
     "output_type": "stream",
     "text": [
      "Load background image: 2.80 seconds\n",
      "Rescale background image to output resolution: 0.20 seconds\n",
      "Predict scores 3N: 0.01 seconds\n",
      "Resample scoremap 3N: 0.09 seconds\n",
      "Load and rescale background image: 0.00 seconds\n",
      "Generate scoremap overlay: 0.05 seconds.\n",
      "Scoremap size does not match background image size. Need to resize: 0.08 seconds.\n",
      "Generate scoremap overlay image 3N: 0.16 seconds\n",
      "locate patches: 0.02 seconds\n"
     ]
    },
    {
     "name": "stdout",
     "output_type": "stream",
     "text": [
      "(597, 925, 3) (597, 925)\n",
      "3N 142\n"
     ]
    },
    {
     "name": "stderr",
     "output_type": "stream",
     "text": [
      "Load pre-computed features: 0.67 seconds\n",
      "Not using image_cache.\n"
     ]
    },
    {
     "name": "stdout",
     "output_type": "stream",
     "text": [
      "/data/CSHL_data_processed/CHATM2/CHATM2_prep2_raw_NtbNormalizedAdaptiveInvertedGammaJpeg/CHATM2_slide48_2018_01_22-S2_prep2_raw_NtbNormalizedAdaptiveInvertedGammaJpeg.jpg\n"
     ]
    },
    {
     "name": "stderr",
     "output_type": "stream",
     "text": [
      "Load background image: 2.63 seconds\n",
      "Rescale background image to output resolution: 0.21 seconds\n",
      "Predict scores 3N: 0.01 seconds\n",
      "Resample scoremap 3N: 0.09 seconds\n",
      "Load and rescale background image: 0.00 seconds\n",
      "Generate scoremap overlay: 0.05 seconds.\n",
      "Scoremap size does not match background image size. Need to resize: 0.08 seconds.\n",
      "Generate scoremap overlay image 3N: 0.16 seconds\n",
      "locate patches: 0.02 seconds\n"
     ]
    },
    {
     "name": "stdout",
     "output_type": "stream",
     "text": [
      "(597, 925, 3) (597, 925)\n",
      "3N 144\n"
     ]
    },
    {
     "name": "stderr",
     "output_type": "stream",
     "text": [
      "Load pre-computed features: 0.62 seconds\n",
      "Not using image_cache.\n"
     ]
    },
    {
     "name": "stdout",
     "output_type": "stream",
     "text": [
      "/data/CSHL_data_processed/CHATM2/CHATM2_prep2_raw_NtbNormalizedAdaptiveInvertedGammaJpeg/CHATM2_slide48_2018_01_22-S3_prep2_raw_NtbNormalizedAdaptiveInvertedGammaJpeg.jpg\n"
     ]
    },
    {
     "name": "stderr",
     "output_type": "stream",
     "text": [
      "Load background image: 2.66 seconds\n",
      "Rescale background image to output resolution: 0.20 seconds\n",
      "Predict scores 3N: 0.01 seconds\n",
      "Resample scoremap 3N: 0.09 seconds\n",
      "Load and rescale background image: 0.00 seconds\n",
      "Generate scoremap overlay: 0.05 seconds.\n",
      "Scoremap size does not match background image size. Need to resize: 0.08 seconds.\n",
      "Generate scoremap overlay image 3N: 0.16 seconds\n",
      "locate patches: 0.02 seconds\n"
     ]
    },
    {
     "name": "stdout",
     "output_type": "stream",
     "text": [
      "(597, 925, 3) (597, 925)\n",
      "3N 145\n"
     ]
    },
    {
     "name": "stderr",
     "output_type": "stream",
     "text": [
      "Load pre-computed features: 0.62 seconds\n",
      "Not using image_cache.\n"
     ]
    },
    {
     "name": "stdout",
     "output_type": "stream",
     "text": [
      "/data/CSHL_data_processed/CHATM2/CHATM2_prep2_raw_NtbNormalizedAdaptiveInvertedGammaJpeg/CHATM2_slide49_2018_01_22-S1_prep2_raw_NtbNormalizedAdaptiveInvertedGammaJpeg.jpg\n"
     ]
    },
    {
     "name": "stderr",
     "output_type": "stream",
     "text": [
      "Load background image: 2.68 seconds\n",
      "Rescale background image to output resolution: 0.20 seconds\n",
      "Predict scores 3N: 0.01 seconds\n",
      "Resample scoremap 3N: 0.07 seconds\n",
      "Load and rescale background image: 0.00 seconds\n",
      "Generate scoremap overlay: 0.05 seconds.\n",
      "Scoremap size does not match background image size. Need to resize: 0.07 seconds.\n"
     ]
    },
    {
     "name": "stdout",
     "output_type": "stream",
     "text": [
      "(597, 925, 3) (597, 925)\n",
      "3N 146\n"
     ]
    },
    {
     "name": "stderr",
     "output_type": "stream",
     "text": [
      "Generate scoremap overlay image 3N: 0.15 seconds\n",
      "locate patches: 0.02 seconds\n",
      "Load pre-computed features: 0.65 seconds\n",
      "Not using image_cache.\n"
     ]
    },
    {
     "name": "stdout",
     "output_type": "stream",
     "text": [
      "/data/CSHL_data_processed/CHATM2/CHATM2_prep2_raw_NtbNormalizedAdaptiveInvertedGammaJpeg/CHATM2_slide50_2018_01_22-S1_prep2_raw_NtbNormalizedAdaptiveInvertedGammaJpeg.jpg\n"
     ]
    },
    {
     "name": "stderr",
     "output_type": "stream",
     "text": [
      "Load background image: 2.60 seconds\n",
      "Rescale background image to output resolution: 0.20 seconds\n",
      "Predict scores 3N: 0.01 seconds\n",
      "Resample scoremap 3N: 0.09 seconds\n",
      "Load and rescale background image: 0.00 seconds\n",
      "Generate scoremap overlay: 0.05 seconds.\n",
      "Scoremap size does not match background image size. Need to resize: 0.07 seconds.\n",
      "Generate scoremap overlay image 3N: 0.15 seconds\n",
      "locate patches: 0.02 seconds\n"
     ]
    },
    {
     "name": "stdout",
     "output_type": "stream",
     "text": [
      "(597, 925, 3) (597, 925)\n",
      "3N 147\n"
     ]
    },
    {
     "name": "stderr",
     "output_type": "stream",
     "text": [
      "Load pre-computed features: 0.66 seconds\n",
      "Not using image_cache.\n"
     ]
    },
    {
     "name": "stdout",
     "output_type": "stream",
     "text": [
      "/data/CSHL_data_processed/CHATM2/CHATM2_prep2_raw_NtbNormalizedAdaptiveInvertedGammaJpeg/CHATM2_slide49_2018_01_22-S2_prep2_raw_NtbNormalizedAdaptiveInvertedGammaJpeg.jpg\n"
     ]
    },
    {
     "name": "stderr",
     "output_type": "stream",
     "text": [
      "Load background image: 2.83 seconds\n",
      "Rescale background image to output resolution: 0.20 seconds\n",
      "Predict scores 3N: 0.01 seconds\n",
      "Resample scoremap 3N: 0.06 seconds\n",
      "Load and rescale background image: 0.00 seconds\n",
      "Generate scoremap overlay: 0.06 seconds.\n",
      "Scoremap size does not match background image size. Need to resize: 0.08 seconds.\n"
     ]
    },
    {
     "name": "stdout",
     "output_type": "stream",
     "text": [
      "(597, 925, 3) (597, 925)\n",
      "3N 148\n"
     ]
    },
    {
     "name": "stderr",
     "output_type": "stream",
     "text": [
      "Generate scoremap overlay image 3N: 0.17 seconds\n",
      "locate patches: 0.02 seconds\n",
      "Load pre-computed features: 1.39 seconds\n",
      "Not using image_cache.\n"
     ]
    },
    {
     "name": "stdout",
     "output_type": "stream",
     "text": [
      "/data/CSHL_data_processed/CHATM2/CHATM2_prep2_raw_NtbNormalizedAdaptiveInvertedGammaJpeg/CHATM2_slide50_2018_01_22-S2_prep2_raw_NtbNormalizedAdaptiveInvertedGammaJpeg.jpg\n"
     ]
    },
    {
     "name": "stderr",
     "output_type": "stream",
     "text": [
      "Load background image: 3.14 seconds\n",
      "Rescale background image to output resolution: 0.21 seconds\n",
      "Predict scores 3N: 0.01 seconds\n",
      "Resample scoremap 3N: 0.09 seconds\n",
      "Load and rescale background image: 0.00 seconds\n",
      "Generate scoremap overlay: 0.05 seconds.\n",
      "Scoremap size does not match background image size. Need to resize: 0.08 seconds.\n",
      "Generate scoremap overlay image 3N: 0.16 seconds\n",
      "locate patches: 0.02 seconds\n"
     ]
    },
    {
     "name": "stdout",
     "output_type": "stream",
     "text": [
      "(597, 925, 3) (597, 925)\n",
      "3N 150\n"
     ]
    },
    {
     "name": "stderr",
     "output_type": "stream",
     "text": [
      "Load pre-computed features: 0.64 seconds\n",
      "Not using image_cache.\n"
     ]
    },
    {
     "name": "stdout",
     "output_type": "stream",
     "text": [
      "/data/CSHL_data_processed/CHATM2/CHATM2_prep2_raw_NtbNormalizedAdaptiveInvertedGammaJpeg/CHATM2_slide50_2018_01_22-S3_prep2_raw_NtbNormalizedAdaptiveInvertedGammaJpeg.jpg\n"
     ]
    },
    {
     "name": "stderr",
     "output_type": "stream",
     "text": [
      "Load background image: 2.86 seconds\n",
      "Rescale background image to output resolution: 0.20 seconds\n",
      "Predict scores 3N: 0.01 seconds\n",
      "Resample scoremap 3N: 0.06 seconds\n",
      "Load and rescale background image: 0.00 seconds\n",
      "Generate scoremap overlay: 0.06 seconds.\n",
      "Scoremap size does not match background image size. Need to resize: 0.09 seconds.\n",
      "Generate scoremap overlay image 3N: 0.18 seconds\n",
      "locate patches: 0.02 seconds\n"
     ]
    },
    {
     "name": "stdout",
     "output_type": "stream",
     "text": [
      "(597, 925, 3) (597, 925)\n",
      "3N 151\n"
     ]
    },
    {
     "name": "stderr",
     "output_type": "stream",
     "text": [
      "Load pre-computed features: 0.68 seconds\n",
      "Not using image_cache.\n"
     ]
    },
    {
     "name": "stdout",
     "output_type": "stream",
     "text": [
      "/data/CSHL_data_processed/CHATM2/CHATM2_prep2_raw_NtbNormalizedAdaptiveInvertedGammaJpeg/CHATM2_slide51_2018_01_22-S1_prep2_raw_NtbNormalizedAdaptiveInvertedGammaJpeg.jpg\n"
     ]
    },
    {
     "name": "stderr",
     "output_type": "stream",
     "text": [
      "Load background image: 3.00 seconds\n",
      "Rescale background image to output resolution: 0.22 seconds\n",
      "Predict scores 3N: 0.01 seconds\n",
      "Resample scoremap 3N: 0.08 seconds\n",
      "Load and rescale background image: 0.00 seconds\n",
      "Generate scoremap overlay: 0.05 seconds.\n",
      "Scoremap size does not match background image size. Need to resize: 0.08 seconds.\n",
      "Generate scoremap overlay image 3N: 0.16 seconds\n",
      "locate patches: 0.02 seconds\n"
     ]
    },
    {
     "name": "stdout",
     "output_type": "stream",
     "text": [
      "(597, 925, 3) (597, 925)\n",
      "3N 152\n"
     ]
    },
    {
     "name": "stderr",
     "output_type": "stream",
     "text": [
      "Load pre-computed features: 0.92 seconds\n",
      "Not using image_cache.\n"
     ]
    },
    {
     "name": "stdout",
     "output_type": "stream",
     "text": [
      "/data/CSHL_data_processed/CHATM2/CHATM2_prep2_raw_NtbNormalizedAdaptiveInvertedGammaJpeg/CHATM2_slide52_2018_01_22-S1_prep2_raw_NtbNormalizedAdaptiveInvertedGammaJpeg.jpg\n"
     ]
    },
    {
     "name": "stderr",
     "output_type": "stream",
     "text": [
      "Load background image: 2.60 seconds\n",
      "Rescale background image to output resolution: 0.21 seconds\n",
      "Predict scores 3N: 0.01 seconds\n",
      "Resample scoremap 3N: 0.09 seconds\n",
      "Load and rescale background image: 0.00 seconds\n",
      "Generate scoremap overlay: 0.05 seconds.\n",
      "Scoremap size does not match background image size. Need to resize: 0.08 seconds.\n",
      "Generate scoremap overlay image 3N: 0.16 seconds\n",
      "locate patches: 0.02 seconds\n"
     ]
    },
    {
     "name": "stdout",
     "output_type": "stream",
     "text": [
      "(597, 925, 3) (597, 925)\n",
      "3N 153\n"
     ]
    },
    {
     "name": "stderr",
     "output_type": "stream",
     "text": [
      "Load pre-computed features: 0.66 seconds\n",
      "Not using image_cache.\n"
     ]
    },
    {
     "name": "stdout",
     "output_type": "stream",
     "text": [
      "/data/CSHL_data_processed/CHATM2/CHATM2_prep2_raw_NtbNormalizedAdaptiveInvertedGammaJpeg/CHATM2_slide51_2018_01_22-S2_prep2_raw_NtbNormalizedAdaptiveInvertedGammaJpeg.jpg\n"
     ]
    },
    {
     "name": "stderr",
     "output_type": "stream",
     "text": [
      "Load background image: 2.94 seconds\n",
      "Rescale background image to output resolution: 0.21 seconds\n",
      "Predict scores 3N: 0.01 seconds\n",
      "Resample scoremap 3N: 0.09 seconds\n",
      "Load and rescale background image: 0.00 seconds\n",
      "Generate scoremap overlay: 0.05 seconds.\n",
      "Scoremap size does not match background image size. Need to resize: 0.08 seconds.\n",
      "Generate scoremap overlay image 3N: 0.16 seconds\n",
      "locate patches: 0.02 seconds\n"
     ]
    },
    {
     "name": "stdout",
     "output_type": "stream",
     "text": [
      "(597, 925, 3) (597, 925)\n",
      "3N 154\n"
     ]
    },
    {
     "name": "stderr",
     "output_type": "stream",
     "text": [
      "Load pre-computed features: 0.97 seconds\n",
      "Not using image_cache.\n"
     ]
    },
    {
     "name": "stdout",
     "output_type": "stream",
     "text": [
      "/data/CSHL_data_processed/CHATM2/CHATM2_prep2_raw_NtbNormalizedAdaptiveInvertedGammaJpeg/CHATM2_slide52_2018_01_22-S2_prep2_raw_NtbNormalizedAdaptiveInvertedGammaJpeg.jpg\n"
     ]
    },
    {
     "name": "stderr",
     "output_type": "stream",
     "text": [
      "Load background image: 2.59 seconds\n",
      "Rescale background image to output resolution: 0.21 seconds\n",
      "Predict scores 3N: 0.01 seconds\n",
      "Resample scoremap 3N: 0.09 seconds\n",
      "Load and rescale background image: 0.00 seconds\n",
      "Generate scoremap overlay: 0.05 seconds.\n",
      "Scoremap size does not match background image size. Need to resize: 0.08 seconds.\n",
      "Generate scoremap overlay image 3N: 0.16 seconds\n",
      "locate patches: 0.02 seconds\n"
     ]
    },
    {
     "name": "stdout",
     "output_type": "stream",
     "text": [
      "(597, 925, 3) (597, 925)\n",
      "3N 155\n"
     ]
    },
    {
     "name": "stderr",
     "output_type": "stream",
     "text": [
      "Load pre-computed features: 0.62 seconds\n",
      "Not using image_cache.\n"
     ]
    },
    {
     "name": "stdout",
     "output_type": "stream",
     "text": [
      "/data/CSHL_data_processed/CHATM2/CHATM2_prep2_raw_NtbNormalizedAdaptiveInvertedGammaJpeg/CHATM2_slide51_2018_01_22-S3_prep2_raw_NtbNormalizedAdaptiveInvertedGammaJpeg.jpg\n"
     ]
    },
    {
     "name": "stderr",
     "output_type": "stream",
     "text": [
      "Load background image: 3.01 seconds\n",
      "Rescale background image to output resolution: 0.21 seconds\n",
      "Predict scores 3N: 0.02 seconds\n",
      "Resample scoremap 3N: 0.09 seconds\n",
      "Load and rescale background image: 0.00 seconds\n",
      "Generate scoremap overlay: 0.05 seconds.\n",
      "Scoremap size does not match background image size. Need to resize: 0.08 seconds.\n",
      "Generate scoremap overlay image 3N: 0.15 seconds\n",
      "locate patches: 0.02 seconds\n"
     ]
    },
    {
     "name": "stdout",
     "output_type": "stream",
     "text": [
      "(597, 925, 3) (597, 925)\n",
      "3N 156\n"
     ]
    },
    {
     "name": "stderr",
     "output_type": "stream",
     "text": [
      "Load pre-computed features: 0.56 seconds\n",
      "Not using image_cache.\n"
     ]
    },
    {
     "name": "stdout",
     "output_type": "stream",
     "text": [
      "/data/CSHL_data_processed/CHATM2/CHATM2_prep2_raw_NtbNormalizedAdaptiveInvertedGammaJpeg/CHATM2_slide52_2018_01_22-S3_prep2_raw_NtbNormalizedAdaptiveInvertedGammaJpeg.jpg\n"
     ]
    },
    {
     "name": "stderr",
     "output_type": "stream",
     "text": [
      "Load background image: 2.54 seconds\n",
      "Rescale background image to output resolution: 0.21 seconds\n",
      "Predict scores 3N: 0.01 seconds\n",
      "Resample scoremap 3N: 0.09 seconds\n",
      "Load and rescale background image: 0.00 seconds\n",
      "Generate scoremap overlay: 0.05 seconds.\n",
      "Scoremap size does not match background image size. Need to resize: 0.08 seconds.\n",
      "Generate scoremap overlay image 3N: 0.16 seconds\n",
      "locate patches: 0.03 seconds\n"
     ]
    },
    {
     "name": "stdout",
     "output_type": "stream",
     "text": [
      "(597, 925, 3) (597, 925)\n",
      "3N 157\n"
     ]
    },
    {
     "name": "stderr",
     "output_type": "stream",
     "text": [
      "Load pre-computed features: 0.66 seconds\n",
      "Not using image_cache.\n"
     ]
    },
    {
     "name": "stdout",
     "output_type": "stream",
     "text": [
      "/data/CSHL_data_processed/CHATM2/CHATM2_prep2_raw_NtbNormalizedAdaptiveInvertedGammaJpeg/CHATM2_slide53_2018_01_22-S1_prep2_raw_NtbNormalizedAdaptiveInvertedGammaJpeg.jpg\n"
     ]
    },
    {
     "name": "stderr",
     "output_type": "stream",
     "text": [
      "Load background image: 3.18 seconds\n",
      "Rescale background image to output resolution: 0.21 seconds\n",
      "Predict scores 3N: 0.01 seconds\n",
      "Resample scoremap 3N: 0.09 seconds\n",
      "Load and rescale background image: 0.00 seconds\n",
      "Generate scoremap overlay: 0.05 seconds.\n",
      "Scoremap size does not match background image size. Need to resize: 0.08 seconds.\n",
      "Generate scoremap overlay image 3N: 0.16 seconds\n",
      "locate patches: 0.02 seconds\n"
     ]
    },
    {
     "name": "stdout",
     "output_type": "stream",
     "text": [
      "(597, 925, 3) (597, 925)\n",
      "3N 158\n"
     ]
    },
    {
     "name": "stderr",
     "output_type": "stream",
     "text": [
      "Load pre-computed features: 1.12 seconds\n",
      "Not using image_cache.\n"
     ]
    },
    {
     "name": "stdout",
     "output_type": "stream",
     "text": [
      "/data/CSHL_data_processed/CHATM2/CHATM2_prep2_raw_NtbNormalizedAdaptiveInvertedGammaJpeg/CHATM2_slide54_2018_01_22-S1_prep2_raw_NtbNormalizedAdaptiveInvertedGammaJpeg.jpg\n"
     ]
    },
    {
     "name": "stderr",
     "output_type": "stream",
     "text": [
      "Load background image: 2.73 seconds\n",
      "Rescale background image to output resolution: 0.21 seconds\n",
      "Predict scores 3N: 0.01 seconds\n",
      "Resample scoremap 3N: 0.06 seconds\n",
      "Load and rescale background image: 0.00 seconds\n",
      "Generate scoremap overlay: 0.05 seconds.\n",
      "Scoremap size does not match background image size. Need to resize: 0.08 seconds.\n"
     ]
    },
    {
     "name": "stdout",
     "output_type": "stream",
     "text": [
      "(597, 925, 3) (597, 925)\n",
      "3N 159\n"
     ]
    },
    {
     "name": "stderr",
     "output_type": "stream",
     "text": [
      "Generate scoremap overlay image 3N: 0.16 seconds\n",
      "locate patches: 0.02 seconds\n",
      "Load pre-computed features: 0.67 seconds\n",
      "Not using image_cache.\n"
     ]
    },
    {
     "name": "stdout",
     "output_type": "stream",
     "text": [
      "/data/CSHL_data_processed/CHATM2/CHATM2_prep2_raw_NtbNormalizedAdaptiveInvertedGammaJpeg/CHATM2_slide53_2018_01_22-S2_prep2_raw_NtbNormalizedAdaptiveInvertedGammaJpeg.jpg\n"
     ]
    },
    {
     "name": "stderr",
     "output_type": "stream",
     "text": [
      "Load background image: 3.15 seconds\n",
      "Rescale background image to output resolution: 0.20 seconds\n",
      "Predict scores 3N: 0.01 seconds\n",
      "Resample scoremap 3N: 0.09 seconds\n",
      "Load and rescale background image: 0.00 seconds\n",
      "Generate scoremap overlay: 0.05 seconds.\n",
      "Scoremap size does not match background image size. Need to resize: 0.08 seconds.\n",
      "Generate scoremap overlay image 3N: 0.15 seconds\n",
      "locate patches: 0.02 seconds\n"
     ]
    },
    {
     "name": "stdout",
     "output_type": "stream",
     "text": [
      "(597, 925, 3) (597, 925)\n",
      "3N 160\n"
     ]
    },
    {
     "name": "stderr",
     "output_type": "stream",
     "text": [
      "Load pre-computed features: 1.37 seconds\n",
      "Not using image_cache.\n"
     ]
    },
    {
     "name": "stdout",
     "output_type": "stream",
     "text": [
      "/data/CSHL_data_processed/CHATM2/CHATM2_prep2_raw_NtbNormalizedAdaptiveInvertedGammaJpeg/CHATM2_slide54_2018_01_22-S2_prep2_raw_NtbNormalizedAdaptiveInvertedGammaJpeg.jpg\n"
     ]
    },
    {
     "name": "stderr",
     "output_type": "stream",
     "text": [
      "Load background image: 3.04 seconds\n",
      "Rescale background image to output resolution: 0.21 seconds\n",
      "Predict scores 3N: 0.01 seconds\n",
      "Resample scoremap 3N: 0.09 seconds\n",
      "Load and rescale background image: 0.00 seconds\n",
      "Generate scoremap overlay: 0.05 seconds.\n",
      "Scoremap size does not match background image size. Need to resize: 0.08 seconds.\n",
      "Generate scoremap overlay image 3N: 0.16 seconds\n",
      "locate patches: 0.02 seconds\n"
     ]
    },
    {
     "name": "stdout",
     "output_type": "stream",
     "text": [
      "(597, 925, 3) (597, 925)\n",
      "3N 161\n"
     ]
    },
    {
     "name": "stderr",
     "output_type": "stream",
     "text": [
      "Load pre-computed features: 1.25 seconds\n",
      "Not using image_cache.\n"
     ]
    },
    {
     "name": "stdout",
     "output_type": "stream",
     "text": [
      "/data/CSHL_data_processed/CHATM2/CHATM2_prep2_raw_NtbNormalizedAdaptiveInvertedGammaJpeg/CHATM2_slide53_2018_01_22-S3_prep2_raw_NtbNormalizedAdaptiveInvertedGammaJpeg.jpg\n"
     ]
    },
    {
     "name": "stderr",
     "output_type": "stream",
     "text": [
      "Load background image: 2.89 seconds\n",
      "Rescale background image to output resolution: 0.21 seconds\n",
      "Predict scores 3N: 0.01 seconds\n",
      "Resample scoremap 3N: 0.09 seconds\n",
      "Load and rescale background image: 0.00 seconds\n",
      "Generate scoremap overlay: 0.05 seconds.\n",
      "Scoremap size does not match background image size. Need to resize: 0.08 seconds.\n",
      "Generate scoremap overlay image 3N: 0.16 seconds\n",
      "locate patches: 0.02 seconds\n"
     ]
    },
    {
     "name": "stdout",
     "output_type": "stream",
     "text": [
      "(597, 925, 3) (597, 925)\n",
      "3N 162\n"
     ]
    },
    {
     "name": "stderr",
     "output_type": "stream",
     "text": [
      "Load pre-computed features: 0.64 seconds\n",
      "Not using image_cache.\n"
     ]
    },
    {
     "name": "stdout",
     "output_type": "stream",
     "text": [
      "/data/CSHL_data_processed/CHATM2/CHATM2_prep2_raw_NtbNormalizedAdaptiveInvertedGammaJpeg/CHATM2_slide54_2018_01_22-S3_prep2_raw_NtbNormalizedAdaptiveInvertedGammaJpeg.jpg\n"
     ]
    },
    {
     "name": "stderr",
     "output_type": "stream",
     "text": [
      "Load background image: 2.82 seconds\n",
      "Rescale background image to output resolution: 0.21 seconds\n",
      "Predict scores 3N: 0.01 seconds\n",
      "Resample scoremap 3N: 0.09 seconds\n",
      "Load and rescale background image: 0.00 seconds\n",
      "Generate scoremap overlay: 0.05 seconds.\n",
      "Scoremap size does not match background image size. Need to resize: 0.08 seconds.\n",
      "Generate scoremap overlay image 3N: 0.16 seconds\n",
      "locate patches: 0.02 seconds\n"
     ]
    },
    {
     "name": "stdout",
     "output_type": "stream",
     "text": [
      "(597, 925, 3) (597, 925)\n",
      "3N 163\n"
     ]
    },
    {
     "name": "stderr",
     "output_type": "stream",
     "text": [
      "Load pre-computed features: 1.33 seconds\n",
      "Not using image_cache.\n"
     ]
    },
    {
     "name": "stdout",
     "output_type": "stream",
     "text": [
      "/data/CSHL_data_processed/CHATM2/CHATM2_prep2_raw_NtbNormalizedAdaptiveInvertedGammaJpeg/CHATM2_slide55_2018_01_22-S1_prep2_raw_NtbNormalizedAdaptiveInvertedGammaJpeg.jpg\n"
     ]
    },
    {
     "name": "stderr",
     "output_type": "stream",
     "text": [
      "Load background image: 2.92 seconds\n",
      "Rescale background image to output resolution: 0.21 seconds\n",
      "Predict scores 3N: 0.01 seconds\n",
      "Resample scoremap 3N: 0.09 seconds\n",
      "Load and rescale background image: 0.00 seconds\n",
      "Generate scoremap overlay: 0.05 seconds.\n",
      "Scoremap size does not match background image size. Need to resize: 0.08 seconds.\n",
      "Generate scoremap overlay image 3N: 0.16 seconds\n",
      "locate patches: 0.02 seconds\n"
     ]
    },
    {
     "name": "stdout",
     "output_type": "stream",
     "text": [
      "(597, 925, 3) (597, 925)\n",
      "3N 164\n"
     ]
    },
    {
     "name": "stderr",
     "output_type": "stream",
     "text": [
      "Load pre-computed features: 0.77 seconds\n",
      "Not using image_cache.\n"
     ]
    },
    {
     "name": "stdout",
     "output_type": "stream",
     "text": [
      "/data/CSHL_data_processed/CHATM2/CHATM2_prep2_raw_NtbNormalizedAdaptiveInvertedGammaJpeg/CHATM2_slide56_2018_01_22-S1_prep2_raw_NtbNormalizedAdaptiveInvertedGammaJpeg.jpg\n"
     ]
    },
    {
     "name": "stderr",
     "output_type": "stream",
     "text": [
      "Load background image: 2.79 seconds\n",
      "Rescale background image to output resolution: 0.20 seconds\n",
      "Predict scores 3N: 0.01 seconds\n",
      "Resample scoremap 3N: 0.09 seconds\n",
      "Load and rescale background image: 0.00 seconds\n",
      "Generate scoremap overlay: 0.05 seconds.\n",
      "Scoremap size does not match background image size. Need to resize: 0.08 seconds.\n",
      "Generate scoremap overlay image 3N: 0.16 seconds\n",
      "locate patches: 0.02 seconds\n"
     ]
    },
    {
     "name": "stdout",
     "output_type": "stream",
     "text": [
      "(597, 925, 3) (597, 925)\n",
      "3N 165\n"
     ]
    },
    {
     "name": "stderr",
     "output_type": "stream",
     "text": [
      "Load pre-computed features: 0.62 seconds\n",
      "Not using image_cache.\n"
     ]
    },
    {
     "name": "stdout",
     "output_type": "stream",
     "text": [
      "/data/CSHL_data_processed/CHATM2/CHATM2_prep2_raw_NtbNormalizedAdaptiveInvertedGammaJpeg/CHATM2_slide55_2018_01_22-S2_prep2_raw_NtbNormalizedAdaptiveInvertedGammaJpeg.jpg\n"
     ]
    },
    {
     "name": "stderr",
     "output_type": "stream",
     "text": [
      "Load background image: 2.94 seconds\n",
      "Rescale background image to output resolution: 0.20 seconds\n",
      "Predict scores 3N: 0.01 seconds\n",
      "Resample scoremap 3N: 0.09 seconds\n",
      "Load and rescale background image: 0.00 seconds\n",
      "Generate scoremap overlay: 0.05 seconds.\n",
      "Scoremap size does not match background image size. Need to resize: 0.08 seconds.\n",
      "Generate scoremap overlay image 3N: 0.16 seconds\n",
      "locate patches: 0.02 seconds\n"
     ]
    },
    {
     "name": "stdout",
     "output_type": "stream",
     "text": [
      "(597, 925, 3) (597, 925)\n",
      "3N 166\n"
     ]
    },
    {
     "name": "stderr",
     "output_type": "stream",
     "text": [
      "Load pre-computed features: 0.65 seconds\n",
      "Not using image_cache.\n"
     ]
    },
    {
     "name": "stdout",
     "output_type": "stream",
     "text": [
      "/data/CSHL_data_processed/CHATM2/CHATM2_prep2_raw_NtbNormalizedAdaptiveInvertedGammaJpeg/CHATM2_slide56_2018_01_22-S2_prep2_raw_NtbNormalizedAdaptiveInvertedGammaJpeg.jpg\n"
     ]
    },
    {
     "name": "stderr",
     "output_type": "stream",
     "text": [
      "Load background image: 2.79 seconds\n",
      "Rescale background image to output resolution: 0.20 seconds\n",
      "Predict scores 3N: 0.01 seconds\n",
      "Resample scoremap 3N: 0.09 seconds\n",
      "Load and rescale background image: 0.00 seconds\n",
      "Generate scoremap overlay: 0.05 seconds.\n",
      "Scoremap size does not match background image size. Need to resize: 0.08 seconds.\n",
      "Generate scoremap overlay image 3N: 0.16 seconds\n",
      "locate patches: 0.02 seconds\n"
     ]
    },
    {
     "name": "stdout",
     "output_type": "stream",
     "text": [
      "(597, 925, 3) (597, 925)\n",
      "3N 167\n"
     ]
    },
    {
     "name": "stderr",
     "output_type": "stream",
     "text": [
      "Load pre-computed features: 0.66 seconds\n",
      "Not using image_cache.\n"
     ]
    },
    {
     "name": "stdout",
     "output_type": "stream",
     "text": [
      "/data/CSHL_data_processed/CHATM2/CHATM2_prep2_raw_NtbNormalizedAdaptiveInvertedGammaJpeg/CHATM2_slide55_2018_01_22-S3_prep2_raw_NtbNormalizedAdaptiveInvertedGammaJpeg.jpg\n"
     ]
    },
    {
     "name": "stderr",
     "output_type": "stream",
     "text": [
      "Load background image: 2.99 seconds\n",
      "Rescale background image to output resolution: 0.21 seconds\n",
      "Predict scores 3N: 0.01 seconds\n",
      "Resample scoremap 3N: 0.09 seconds\n",
      "Load and rescale background image: 0.00 seconds\n",
      "Generate scoremap overlay: 0.05 seconds.\n",
      "Scoremap size does not match background image size. Need to resize: 0.08 seconds.\n",
      "Generate scoremap overlay image 3N: 0.16 seconds\n",
      "locate patches: 0.05 seconds\n"
     ]
    },
    {
     "name": "stdout",
     "output_type": "stream",
     "text": [
      "(597, 925, 3) (597, 925)\n",
      "3N 168\n"
     ]
    },
    {
     "name": "stderr",
     "output_type": "stream",
     "text": [
      "Load pre-computed features: 1.15 seconds\n",
      "Not using image_cache.\n"
     ]
    },
    {
     "name": "stdout",
     "output_type": "stream",
     "text": [
      "/data/CSHL_data_processed/CHATM2/CHATM2_prep2_raw_NtbNormalizedAdaptiveInvertedGammaJpeg/CHATM2_slide56_2018_01_22-S3_prep2_raw_NtbNormalizedAdaptiveInvertedGammaJpeg.jpg\n"
     ]
    },
    {
     "name": "stderr",
     "output_type": "stream",
     "text": [
      "Load background image: 2.86 seconds\n",
      "Rescale background image to output resolution: 0.20 seconds\n",
      "Predict scores 3N: 0.01 seconds\n",
      "Resample scoremap 3N: 0.09 seconds\n",
      "Load and rescale background image: 0.00 seconds\n",
      "Generate scoremap overlay: 0.05 seconds.\n",
      "Scoremap size does not match background image size. Need to resize: 0.08 seconds.\n",
      "Generate scoremap overlay image 3N: 0.16 seconds\n",
      "locate patches: 0.02 seconds\n"
     ]
    },
    {
     "name": "stdout",
     "output_type": "stream",
     "text": [
      "(597, 925, 3) (597, 925)\n",
      "3N 169\n"
     ]
    },
    {
     "name": "stderr",
     "output_type": "stream",
     "text": [
      "Load pre-computed features: 0.65 seconds\n",
      "Not using image_cache.\n"
     ]
    },
    {
     "name": "stdout",
     "output_type": "stream",
     "text": [
      "/data/CSHL_data_processed/CHATM2/CHATM2_prep2_raw_NtbNormalizedAdaptiveInvertedGammaJpeg/CHATM2_slide57_2018_01_22-S1_prep2_raw_NtbNormalizedAdaptiveInvertedGammaJpeg.jpg\n"
     ]
    },
    {
     "name": "stderr",
     "output_type": "stream",
     "text": [
      "Load background image: 2.95 seconds\n",
      "Rescale background image to output resolution: 0.21 seconds\n",
      "Predict scores 3N: 0.01 seconds\n",
      "Resample scoremap 3N: 0.09 seconds\n",
      "Load and rescale background image: 0.00 seconds\n",
      "Generate scoremap overlay: 0.05 seconds.\n",
      "Scoremap size does not match background image size. Need to resize: 0.08 seconds.\n",
      "Generate scoremap overlay image 3N: 0.16 seconds\n",
      "locate patches: 0.02 seconds\n"
     ]
    },
    {
     "name": "stdout",
     "output_type": "stream",
     "text": [
      "(597, 925, 3) (597, 925)\n",
      "3N 170\n"
     ]
    },
    {
     "name": "stderr",
     "output_type": "stream",
     "text": [
      "Load pre-computed features: 1.31 seconds\n",
      "Not using image_cache.\n"
     ]
    },
    {
     "name": "stdout",
     "output_type": "stream",
     "text": [
      "/data/CSHL_data_processed/CHATM2/CHATM2_prep2_raw_NtbNormalizedAdaptiveInvertedGammaJpeg/CHATM2_slide58_2018_01_22-S1_prep2_raw_NtbNormalizedAdaptiveInvertedGammaJpeg.jpg\n"
     ]
    },
    {
     "name": "stderr",
     "output_type": "stream",
     "text": [
      "Load background image: 2.79 seconds\n",
      "Rescale background image to output resolution: 0.21 seconds\n",
      "Predict scores 3N: 0.01 seconds\n",
      "Resample scoremap 3N: 0.09 seconds\n",
      "Load and rescale background image: 0.00 seconds\n",
      "Generate scoremap overlay: 0.05 seconds.\n",
      "Scoremap size does not match background image size. Need to resize: 0.08 seconds.\n",
      "Generate scoremap overlay image 3N: 0.16 seconds\n",
      "locate patches: 0.02 seconds\n"
     ]
    },
    {
     "name": "stdout",
     "output_type": "stream",
     "text": [
      "(597, 925, 3) (597, 925)\n",
      "3N 171\n"
     ]
    },
    {
     "name": "stderr",
     "output_type": "stream",
     "text": [
      "Load pre-computed features: 1.39 seconds\n",
      "Not using image_cache.\n"
     ]
    },
    {
     "name": "stdout",
     "output_type": "stream",
     "text": [
      "/data/CSHL_data_processed/CHATM2/CHATM2_prep2_raw_NtbNormalizedAdaptiveInvertedGammaJpeg/CHATM2_slide57_2018_01_22-S2_prep2_raw_NtbNormalizedAdaptiveInvertedGammaJpeg.jpg\n"
     ]
    },
    {
     "name": "stderr",
     "output_type": "stream",
     "text": [
      "Load background image: 2.92 seconds\n",
      "Rescale background image to output resolution: 0.20 seconds\n",
      "Predict scores 3N: 0.01 seconds\n",
      "Resample scoremap 3N: 0.09 seconds\n",
      "Load and rescale background image: 0.00 seconds\n",
      "Generate scoremap overlay: 0.05 seconds.\n",
      "Scoremap size does not match background image size. Need to resize: 0.08 seconds.\n",
      "Generate scoremap overlay image 3N: 0.16 seconds\n",
      "locate patches: 0.04 seconds\n"
     ]
    },
    {
     "name": "stdout",
     "output_type": "stream",
     "text": [
      "(597, 925, 3) (597, 925)\n",
      "3N 172\n"
     ]
    },
    {
     "name": "stderr",
     "output_type": "stream",
     "text": [
      "Load pre-computed features: 0.79 seconds\n",
      "Not using image_cache.\n"
     ]
    },
    {
     "name": "stdout",
     "output_type": "stream",
     "text": [
      "/data/CSHL_data_processed/CHATM2/CHATM2_prep2_raw_NtbNormalizedAdaptiveInvertedGammaJpeg/CHATM2_slide58_2018_01_22-S2_prep2_raw_NtbNormalizedAdaptiveInvertedGammaJpeg.jpg\n"
     ]
    },
    {
     "name": "stderr",
     "output_type": "stream",
     "text": [
      "Load background image: 2.58 seconds\n",
      "Rescale background image to output resolution: 0.20 seconds\n",
      "Predict scores 3N: 0.01 seconds\n",
      "Resample scoremap 3N: 0.09 seconds\n",
      "Load and rescale background image: 0.00 seconds\n",
      "Generate scoremap overlay: 0.05 seconds.\n",
      "Scoremap size does not match background image size. Need to resize: 0.08 seconds.\n",
      "Generate scoremap overlay image 3N: 0.15 seconds\n",
      "locate patches: 0.02 seconds\n"
     ]
    },
    {
     "name": "stdout",
     "output_type": "stream",
     "text": [
      "(597, 925, 3) (597, 925)\n",
      "3N 173\n"
     ]
    },
    {
     "name": "stderr",
     "output_type": "stream",
     "text": [
      "Load pre-computed features: 0.62 seconds\n",
      "Not using image_cache.\n"
     ]
    },
    {
     "name": "stdout",
     "output_type": "stream",
     "text": [
      "/data/CSHL_data_processed/CHATM2/CHATM2_prep2_raw_NtbNormalizedAdaptiveInvertedGammaJpeg/CHATM2_slide57_2018_01_22-S3_prep2_raw_NtbNormalizedAdaptiveInvertedGammaJpeg.jpg\n"
     ]
    },
    {
     "name": "stderr",
     "output_type": "stream",
     "text": [
      "Load background image: 2.87 seconds\n",
      "Rescale background image to output resolution: 0.20 seconds\n",
      "Predict scores 3N: 0.01 seconds\n",
      "Resample scoremap 3N: 0.06 seconds\n",
      "Load and rescale background image: 0.00 seconds\n",
      "Generate scoremap overlay: 0.05 seconds.\n",
      "Scoremap size does not match background image size. Need to resize: 0.07 seconds.\n"
     ]
    },
    {
     "name": "stdout",
     "output_type": "stream",
     "text": [
      "(597, 925, 3) (597, 925)\n",
      "3N 185\n"
     ]
    },
    {
     "name": "stderr",
     "output_type": "stream",
     "text": [
      "Generate scoremap overlay image 3N: 0.15 seconds\n",
      "locate patches: 0.02 seconds\n",
      "Load pre-computed features: 0.70 seconds\n",
      "Not using image_cache.\n"
     ]
    },
    {
     "name": "stdout",
     "output_type": "stream",
     "text": [
      "/data/CSHL_data_processed/CHATM2/CHATM2_prep2_raw_NtbNormalizedAdaptiveInvertedGammaJpeg/CHATM2_slide62_2018_02_14-S1_prep2_raw_NtbNormalizedAdaptiveInvertedGammaJpeg.jpg\n"
     ]
    },
    {
     "name": "stderr",
     "output_type": "stream",
     "text": [
      "Load background image: 2.40 seconds\n",
      "Rescale background image to output resolution: 0.19 seconds\n",
      "Predict scores 3N: 0.01 seconds\n",
      "Resample scoremap 3N: 0.06 seconds\n",
      "Load and rescale background image: 0.00 seconds\n",
      "Generate scoremap overlay: 0.05 seconds.\n",
      "Scoremap size does not match background image size. Need to resize: 0.07 seconds.\n"
     ]
    },
    {
     "name": "stdout",
     "output_type": "stream",
     "text": [
      "(597, 925, 3) (597, 925)\n",
      "3N 187\n"
     ]
    },
    {
     "name": "stderr",
     "output_type": "stream",
     "text": [
      "Generate scoremap overlay image 3N: 0.15 seconds\n",
      "locate patches: 0.02 seconds\n",
      "Load pre-computed features: 1.28 seconds\n",
      "Not using image_cache.\n"
     ]
    },
    {
     "name": "stdout",
     "output_type": "stream",
     "text": [
      "/data/CSHL_data_processed/CHATM2/CHATM2_prep2_raw_NtbNormalizedAdaptiveInvertedGammaJpeg/CHATM2_slide62_2018_02_14-S2_prep2_raw_NtbNormalizedAdaptiveInvertedGammaJpeg.jpg\n"
     ]
    },
    {
     "name": "stderr",
     "output_type": "stream",
     "text": [
      "Load background image: 2.57 seconds\n",
      "Rescale background image to output resolution: 0.20 seconds\n",
      "Predict scores 3N: 0.01 seconds\n",
      "Resample scoremap 3N: 0.09 seconds\n",
      "Load and rescale background image: 0.00 seconds\n",
      "Generate scoremap overlay: 0.05 seconds.\n",
      "Scoremap size does not match background image size. Need to resize: 0.08 seconds.\n",
      "Generate scoremap overlay image 3N: 0.16 seconds\n",
      "locate patches: 0.02 seconds\n"
     ]
    },
    {
     "name": "stdout",
     "output_type": "stream",
     "text": [
      "(597, 925, 3) (597, 925)\n",
      "3N 189\n"
     ]
    },
    {
     "name": "stderr",
     "output_type": "stream",
     "text": [
      "Load pre-computed features: 1.30 seconds\n",
      "Not using image_cache.\n"
     ]
    },
    {
     "name": "stdout",
     "output_type": "stream",
     "text": [
      "/data/CSHL_data_processed/CHATM2/CHATM2_prep2_raw_NtbNormalizedAdaptiveInvertedGammaJpeg/CHATM2_slide62_2018_02_14-S3_prep2_raw_NtbNormalizedAdaptiveInvertedGammaJpeg.jpg\n"
     ]
    },
    {
     "name": "stderr",
     "output_type": "stream",
     "text": [
      "Load background image: 2.40 seconds\n",
      "Rescale background image to output resolution: 0.20 seconds\n",
      "Predict scores 3N: 0.01 seconds\n",
      "Resample scoremap 3N: 0.09 seconds\n",
      "Load and rescale background image: 0.00 seconds\n",
      "Generate scoremap overlay: 0.05 seconds.\n",
      "Scoremap size does not match background image size. Need to resize: 0.08 seconds.\n",
      "Generate scoremap overlay image 3N: 0.15 seconds\n",
      "locate patches: 0.02 seconds\n"
     ]
    },
    {
     "name": "stdout",
     "output_type": "stream",
     "text": [
      "(597, 925, 3) (597, 925)\n",
      "3N 191\n"
     ]
    },
    {
     "name": "stderr",
     "output_type": "stream",
     "text": [
      "Load pre-computed features: 1.23 seconds\n",
      "Not using image_cache.\n"
     ]
    },
    {
     "name": "stdout",
     "output_type": "stream",
     "text": [
      "/data/CSHL_data_processed/CHATM2/CHATM2_prep2_raw_NtbNormalizedAdaptiveInvertedGammaJpeg/CHATM2_slide64_2018_02_15-S1_prep2_raw_NtbNormalizedAdaptiveInvertedGammaJpeg.jpg\n"
     ]
    },
    {
     "name": "stderr",
     "output_type": "stream",
     "text": [
      "Load background image: 2.80 seconds\n",
      "Rescale background image to output resolution: 0.20 seconds\n",
      "Predict scores 3N: 0.01 seconds\n",
      "Resample scoremap 3N: 0.09 seconds\n",
      "Load and rescale background image: 0.00 seconds\n",
      "Generate scoremap overlay: 0.05 seconds.\n",
      "Scoremap size does not match background image size. Need to resize: 0.08 seconds.\n",
      "Generate scoremap overlay image 3N: 0.16 seconds\n",
      "locate patches: 0.02 seconds\n"
     ]
    },
    {
     "name": "stdout",
     "output_type": "stream",
     "text": [
      "(597, 925, 3) (597, 925)\n",
      "3N 193\n"
     ]
    },
    {
     "name": "stderr",
     "output_type": "stream",
     "text": [
      "Load pre-computed features: 1.25 seconds\n",
      "Not using image_cache.\n"
     ]
    },
    {
     "name": "stdout",
     "output_type": "stream",
     "text": [
      "/data/CSHL_data_processed/CHATM2/CHATM2_prep2_raw_NtbNormalizedAdaptiveInvertedGammaJpeg/CHATM2_slide64_2018_02_15-S2_prep2_raw_NtbNormalizedAdaptiveInvertedGammaJpeg.jpg\n"
     ]
    },
    {
     "name": "stderr",
     "output_type": "stream",
     "text": [
      "Load background image: 2.71 seconds\n",
      "Rescale background image to output resolution: 0.20 seconds\n",
      "Predict scores 3N: 0.01 seconds\n",
      "Resample scoremap 3N: 0.09 seconds\n",
      "Load and rescale background image: 0.00 seconds\n",
      "Generate scoremap overlay: 0.05 seconds.\n",
      "Scoremap size does not match background image size. Need to resize: 0.07 seconds.\n",
      "Generate scoremap overlay image 3N: 0.15 seconds\n",
      "locate patches: 0.02 seconds\n"
     ]
    },
    {
     "name": "stdout",
     "output_type": "stream",
     "text": [
      "(597, 925, 3) (597, 925)\n",
      "3N 195\n"
     ]
    },
    {
     "name": "stderr",
     "output_type": "stream",
     "text": [
      "Load pre-computed features: 1.15 seconds\n",
      "Not using image_cache.\n"
     ]
    },
    {
     "name": "stdout",
     "output_type": "stream",
     "text": [
      "/data/CSHL_data_processed/CHATM2/CHATM2_prep2_raw_NtbNormalizedAdaptiveInvertedGammaJpeg/CHATM2_slide64_2018_02_15-S3_prep2_raw_NtbNormalizedAdaptiveInvertedGammaJpeg.jpg\n"
     ]
    },
    {
     "name": "stderr",
     "output_type": "stream",
     "text": [
      "Load background image: 2.75 seconds\n",
      "Rescale background image to output resolution: 0.20 seconds\n",
      "Predict scores 3N: 0.01 seconds\n",
      "Resample scoremap 3N: 0.09 seconds\n",
      "Load and rescale background image: 0.00 seconds\n",
      "Generate scoremap overlay: 0.05 seconds.\n",
      "Scoremap size does not match background image size. Need to resize: 0.08 seconds.\n",
      "Generate scoremap overlay image 3N: 0.16 seconds\n",
      "locate patches: 0.02 seconds\n"
     ]
    },
    {
     "name": "stdout",
     "output_type": "stream",
     "text": [
      "(597, 925, 3) (597, 925)\n",
      "3N 197\n"
     ]
    },
    {
     "name": "stderr",
     "output_type": "stream",
     "text": [
      "Load pre-computed features: 0.63 seconds\n",
      "Not using image_cache.\n"
     ]
    },
    {
     "name": "stdout",
     "output_type": "stream",
     "text": [
      "/data/CSHL_data_processed/CHATM2/CHATM2_prep2_raw_NtbNormalizedAdaptiveInvertedGammaJpeg/CHATM2_slide66_2018_02_14-S1_prep2_raw_NtbNormalizedAdaptiveInvertedGammaJpeg.jpg\n"
     ]
    },
    {
     "name": "stderr",
     "output_type": "stream",
     "text": [
      "Load background image: 2.85 seconds\n",
      "Rescale background image to output resolution: 0.21 seconds\n",
      "Predict scores 3N: 0.01 seconds\n",
      "Resample scoremap 3N: 0.09 seconds\n",
      "Load and rescale background image: 0.00 seconds\n",
      "Generate scoremap overlay: 0.05 seconds.\n",
      "Scoremap size does not match background image size. Need to resize: 0.08 seconds.\n",
      "Generate scoremap overlay image 3N: 0.16 seconds\n",
      "locate patches: 0.02 seconds\n"
     ]
    },
    {
     "name": "stdout",
     "output_type": "stream",
     "text": [
      "(597, 925, 3) (597, 925)\n",
      "3N 199\n"
     ]
    },
    {
     "name": "stderr",
     "output_type": "stream",
     "text": [
      "Load pre-computed features: 1.35 seconds\n",
      "Not using image_cache.\n"
     ]
    },
    {
     "name": "stdout",
     "output_type": "stream",
     "text": [
      "/data/CSHL_data_processed/CHATM2/CHATM2_prep2_raw_NtbNormalizedAdaptiveInvertedGammaJpeg/CHATM2_slide66_2018_02_14-S2_prep2_raw_NtbNormalizedAdaptiveInvertedGammaJpeg.jpg\n"
     ]
    },
    {
     "name": "stderr",
     "output_type": "stream",
     "text": [
      "Load background image: 2.71 seconds\n",
      "Rescale background image to output resolution: 0.20 seconds\n",
      "Predict scores 3N: 0.01 seconds\n",
      "Resample scoremap 3N: 0.09 seconds\n",
      "Load and rescale background image: 0.00 seconds\n",
      "Generate scoremap overlay: 0.05 seconds.\n",
      "Scoremap size does not match background image size. Need to resize: 0.08 seconds.\n",
      "Generate scoremap overlay image 3N: 0.16 seconds\n",
      "locate patches: 0.02 seconds\n"
     ]
    },
    {
     "name": "stdout",
     "output_type": "stream",
     "text": [
      "(597, 925, 3) (597, 925)\n",
      "3N 201\n"
     ]
    },
    {
     "name": "stderr",
     "output_type": "stream",
     "text": [
      "Load pre-computed features: 0.62 seconds\n",
      "Not using image_cache.\n"
     ]
    },
    {
     "name": "stdout",
     "output_type": "stream",
     "text": [
      "/data/CSHL_data_processed/CHATM2/CHATM2_prep2_raw_NtbNormalizedAdaptiveInvertedGammaJpeg/CHATM2_slide66_2018_02_14-S3_prep2_raw_NtbNormalizedAdaptiveInvertedGammaJpeg.jpg\n"
     ]
    },
    {
     "name": "stderr",
     "output_type": "stream",
     "text": [
      "Load background image: 2.43 seconds\n",
      "Rescale background image to output resolution: 0.19 seconds\n",
      "Predict scores 3N: 0.01 seconds\n",
      "Resample scoremap 3N: 0.09 seconds\n",
      "Load and rescale background image: 0.00 seconds\n",
      "Generate scoremap overlay: 0.05 seconds.\n",
      "Scoremap size does not match background image size. Need to resize: 0.07 seconds.\n",
      "Generate scoremap overlay image 3N: 0.15 seconds\n",
      "locate patches: 0.02 seconds\n"
     ]
    },
    {
     "name": "stdout",
     "output_type": "stream",
     "text": [
      "(597, 925, 3) (597, 925)\n",
      "3N 203\n"
     ]
    },
    {
     "name": "stderr",
     "output_type": "stream",
     "text": [
      "Load pre-computed features: 0.65 seconds\n",
      "Not using image_cache.\n"
     ]
    },
    {
     "name": "stdout",
     "output_type": "stream",
     "text": [
      "/data/CSHL_data_processed/CHATM2/CHATM2_prep2_raw_NtbNormalizedAdaptiveInvertedGammaJpeg/CHATM2_slide68_2018_02_14-S1_prep2_raw_NtbNormalizedAdaptiveInvertedGammaJpeg.jpg\n"
     ]
    },
    {
     "name": "stderr",
     "output_type": "stream",
     "text": [
      "Load background image: 2.42 seconds\n",
      "Rescale background image to output resolution: 0.20 seconds\n",
      "Predict scores 3N: 0.01 seconds\n",
      "Resample scoremap 3N: 0.09 seconds\n",
      "Load and rescale background image: 0.00 seconds\n",
      "Generate scoremap overlay: 0.05 seconds.\n",
      "Scoremap size does not match background image size. Need to resize: 0.08 seconds.\n",
      "Generate scoremap overlay image 3N: 0.16 seconds\n",
      "locate patches: 0.02 seconds\n"
     ]
    },
    {
     "name": "stdout",
     "output_type": "stream",
     "text": [
      "(597, 925, 3) (597, 925)\n",
      "3N 205\n"
     ]
    },
    {
     "name": "stderr",
     "output_type": "stream",
     "text": [
      "Load pre-computed features: 0.63 seconds\n",
      "Not using image_cache.\n"
     ]
    },
    {
     "name": "stdout",
     "output_type": "stream",
     "text": [
      "/data/CSHL_data_processed/CHATM2/CHATM2_prep2_raw_NtbNormalizedAdaptiveInvertedGammaJpeg/CHATM2_slide68_2018_02_14-S2_prep2_raw_NtbNormalizedAdaptiveInvertedGammaJpeg.jpg\n"
     ]
    },
    {
     "name": "stderr",
     "output_type": "stream",
     "text": [
      "Load background image: 2.63 seconds\n",
      "Rescale background image to output resolution: 0.21 seconds\n",
      "Predict scores 3N: 0.01 seconds\n",
      "Resample scoremap 3N: 0.09 seconds\n",
      "Load and rescale background image: 0.00 seconds\n",
      "Generate scoremap overlay: 0.05 seconds.\n",
      "Scoremap size does not match background image size. Need to resize: 0.08 seconds.\n",
      "Generate scoremap overlay image 3N: 0.16 seconds\n",
      "locate patches: 0.02 seconds\n"
     ]
    },
    {
     "name": "stdout",
     "output_type": "stream",
     "text": [
      "(597, 925, 3) (597, 925)\n",
      "3N 209\n"
     ]
    },
    {
     "name": "stderr",
     "output_type": "stream",
     "text": [
      "Load pre-computed features: 0.63 seconds\n",
      "Not using image_cache.\n"
     ]
    },
    {
     "name": "stdout",
     "output_type": "stream",
     "text": [
      "/data/CSHL_data_processed/CHATM2/CHATM2_prep2_raw_NtbNormalizedAdaptiveInvertedGammaJpeg/CHATM2_slide70_2018_02_14-S1_prep2_raw_NtbNormalizedAdaptiveInvertedGammaJpeg.jpg\n"
     ]
    },
    {
     "name": "stderr",
     "output_type": "stream",
     "text": [
      "Load background image: 3.02 seconds\n",
      "Rescale background image to output resolution: 0.20 seconds\n",
      "Predict scores 3N: 0.01 seconds\n",
      "Resample scoremap 3N: 0.09 seconds\n",
      "Load and rescale background image: 0.00 seconds\n",
      "Generate scoremap overlay: 0.05 seconds.\n",
      "Scoremap size does not match background image size. Need to resize: 0.08 seconds.\n",
      "Generate scoremap overlay image 3N: 0.15 seconds\n",
      "locate patches: 0.02 seconds\n"
     ]
    },
    {
     "name": "stdout",
     "output_type": "stream",
     "text": [
      "(597, 925, 3) (597, 925)\n",
      "3N 211\n"
     ]
    },
    {
     "name": "stderr",
     "output_type": "stream",
     "text": [
      "Load pre-computed features: 0.63 seconds\n",
      "Not using image_cache.\n"
     ]
    },
    {
     "name": "stdout",
     "output_type": "stream",
     "text": [
      "/data/CSHL_data_processed/CHATM2/CHATM2_prep2_raw_NtbNormalizedAdaptiveInvertedGammaJpeg/CHATM2_slide70_2018_02_14-S2_prep2_raw_NtbNormalizedAdaptiveInvertedGammaJpeg.jpg\n"
     ]
    },
    {
     "name": "stderr",
     "output_type": "stream",
     "text": [
      "Load background image: 2.73 seconds\n",
      "Rescale background image to output resolution: 0.21 seconds\n",
      "Predict scores 3N: 0.01 seconds\n",
      "Resample scoremap 3N: 0.06 seconds\n",
      "Load and rescale background image: 0.00 seconds\n",
      "Generate scoremap overlay: 0.06 seconds.\n",
      "Scoremap size does not match background image size. Need to resize: 0.08 seconds.\n"
     ]
    },
    {
     "name": "stdout",
     "output_type": "stream",
     "text": [
      "(597, 925, 3) (597, 925)\n",
      "3N 213\n"
     ]
    },
    {
     "name": "stderr",
     "output_type": "stream",
     "text": [
      "Generate scoremap overlay image 3N: 0.17 seconds\n",
      "locate patches: 0.02 seconds\n",
      "Load pre-computed features: 0.68 seconds\n",
      "Not using image_cache.\n"
     ]
    },
    {
     "name": "stdout",
     "output_type": "stream",
     "text": [
      "/data/CSHL_data_processed/CHATM2/CHATM2_prep2_raw_NtbNormalizedAdaptiveInvertedGammaJpeg/CHATM2_slide70_2018_02_14-S3_prep2_raw_NtbNormalizedAdaptiveInvertedGammaJpeg.jpg\n"
     ]
    },
    {
     "name": "stderr",
     "output_type": "stream",
     "text": [
      "Load background image: 2.48 seconds\n",
      "Rescale background image to output resolution: 0.20 seconds\n",
      "Predict scores 3N: 0.01 seconds\n",
      "Resample scoremap 3N: 0.09 seconds\n",
      "Load and rescale background image: 0.00 seconds\n",
      "Generate scoremap overlay: 0.05 seconds.\n",
      "Scoremap size does not match background image size. Need to resize: 0.08 seconds.\n",
      "Generate scoremap overlay image 3N: 0.15 seconds\n",
      "locate patches: 0.02 seconds\n"
     ]
    },
    {
     "name": "stdout",
     "output_type": "stream",
     "text": [
      "(597, 925, 3) (597, 925)\n",
      "3N 215\n"
     ]
    },
    {
     "name": "stderr",
     "output_type": "stream",
     "text": [
      "Load pre-computed features: 0.60 seconds\n",
      "Not using image_cache.\n"
     ]
    },
    {
     "name": "stdout",
     "output_type": "stream",
     "text": [
      "/data/CSHL_data_processed/CHATM2/CHATM2_prep2_raw_NtbNormalizedAdaptiveInvertedGammaJpeg/CHATM2_slide72_2018_02_14-S1_prep2_raw_NtbNormalizedAdaptiveInvertedGammaJpeg.jpg\n"
     ]
    },
    {
     "name": "stderr",
     "output_type": "stream",
     "text": [
      "Load background image: 2.45 seconds\n",
      "Rescale background image to output resolution: 0.20 seconds\n",
      "Predict scores 3N: 0.02 seconds\n",
      "Resample scoremap 3N: 0.06 seconds\n",
      "Load and rescale background image: 0.00 seconds\n",
      "Generate scoremap overlay: 0.05 seconds.\n",
      "Scoremap size does not match background image size. Need to resize: 0.07 seconds.\n"
     ]
    },
    {
     "name": "stdout",
     "output_type": "stream",
     "text": [
      "(597, 925, 3) (597, 925)\n",
      "3N 217\n"
     ]
    },
    {
     "name": "stderr",
     "output_type": "stream",
     "text": [
      "Generate scoremap overlay image 3N: 0.15 seconds\n",
      "locate patches: 0.02 seconds\n",
      "Load pre-computed features: 0.67 seconds\n",
      "Not using image_cache.\n"
     ]
    },
    {
     "name": "stdout",
     "output_type": "stream",
     "text": [
      "/data/CSHL_data_processed/CHATM2/CHATM2_prep2_raw_NtbNormalizedAdaptiveInvertedGammaJpeg/CHATM2_slide72_2018_02_14-S2_prep2_raw_NtbNormalizedAdaptiveInvertedGammaJpeg.jpg\n"
     ]
    },
    {
     "name": "stderr",
     "output_type": "stream",
     "text": [
      "Load background image: 2.44 seconds\n",
      "Rescale background image to output resolution: 0.20 seconds\n",
      "Predict scores 3N: 0.01 seconds\n",
      "Resample scoremap 3N: 0.09 seconds\n",
      "Load and rescale background image: 0.00 seconds\n",
      "Generate scoremap overlay: 0.05 seconds.\n",
      "Scoremap size does not match background image size. Need to resize: 0.08 seconds.\n",
      "Generate scoremap overlay image 3N: 0.16 seconds\n",
      "locate patches: 0.02 seconds\n"
     ]
    },
    {
     "name": "stdout",
     "output_type": "stream",
     "text": [
      "(597, 925, 3) (597, 925)\n",
      "3N 219\n"
     ]
    },
    {
     "name": "stderr",
     "output_type": "stream",
     "text": [
      "Load pre-computed features: 0.65 seconds\n",
      "Not using image_cache.\n"
     ]
    },
    {
     "name": "stdout",
     "output_type": "stream",
     "text": [
      "/data/CSHL_data_processed/CHATM2/CHATM2_prep2_raw_NtbNormalizedAdaptiveInvertedGammaJpeg/CHATM2_slide72_2018_02_14-S3_prep2_raw_NtbNormalizedAdaptiveInvertedGammaJpeg.jpg\n"
     ]
    },
    {
     "name": "stderr",
     "output_type": "stream",
     "text": [
      "Load background image: 2.45 seconds\n",
      "Rescale background image to output resolution: 0.20 seconds\n",
      "Predict scores 3N: 0.01 seconds\n",
      "Resample scoremap 3N: 0.09 seconds\n",
      "Load and rescale background image: 0.00 seconds\n",
      "Generate scoremap overlay: 0.05 seconds.\n",
      "Scoremap size does not match background image size. Need to resize: 0.07 seconds.\n",
      "Generate scoremap overlay image 3N: 0.15 seconds\n",
      "locate patches: 0.02 seconds\n"
     ]
    },
    {
     "name": "stdout",
     "output_type": "stream",
     "text": [
      "(597, 925, 3) (597, 925)\n",
      "4N 137\n"
     ]
    },
    {
     "name": "stderr",
     "output_type": "stream",
     "text": [
      "Load pre-computed features: 0.59 seconds\n",
      "Not using image_cache.\n"
     ]
    },
    {
     "name": "stdout",
     "output_type": "stream",
     "text": [
      "/data/CSHL_data_processed/CHATM2/CHATM2_prep2_raw_NtbNormalizedAdaptiveInvertedGammaJpeg/CHATM2_slide45_2018_01_22-S3_prep2_raw_NtbNormalizedAdaptiveInvertedGammaJpeg.jpg\n"
     ]
    },
    {
     "name": "stderr",
     "output_type": "stream",
     "text": [
      "Load background image: 2.56 seconds\n",
      "Rescale background image to output resolution: 0.13 seconds\n",
      "Predict scores 4N: 0.00 seconds\n",
      "Resample scoremap 4N: 0.09 seconds\n",
      "Load and rescale background image: 0.00 seconds\n",
      "Generate scoremap overlay: 0.05 seconds.\n",
      "Scoremap size does not match background image size. Need to resize: 0.08 seconds.\n",
      "Generate scoremap overlay image 4N: 0.15 seconds\n",
      "locate patches: 0.02 seconds\n"
     ]
    },
    {
     "name": "stdout",
     "output_type": "stream",
     "text": [
      "(597, 925, 3) (597, 925)\n",
      "4N 138\n"
     ]
    },
    {
     "name": "stderr",
     "output_type": "stream",
     "text": [
      "Load pre-computed features: 0.71 seconds\n",
      "Not using image_cache.\n"
     ]
    },
    {
     "name": "stdout",
     "output_type": "stream",
     "text": [
      "/data/CSHL_data_processed/CHATM2/CHATM2_prep2_raw_NtbNormalizedAdaptiveInvertedGammaJpeg/CHATM2_slide46_2018_01_22-S3_prep2_raw_NtbNormalizedAdaptiveInvertedGammaJpeg.jpg\n"
     ]
    },
    {
     "name": "stderr",
     "output_type": "stream",
     "text": [
      "Load background image: 2.59 seconds\n",
      "Rescale background image to output resolution: 0.13 seconds\n",
      "Predict scores 4N: 0.01 seconds\n",
      "Resample scoremap 4N: 0.09 seconds\n",
      "Load and rescale background image: 0.00 seconds\n",
      "Generate scoremap overlay: 0.05 seconds.\n",
      "Scoremap size does not match background image size. Need to resize: 0.08 seconds.\n",
      "Generate scoremap overlay image 4N: 0.16 seconds\n",
      "locate patches: 0.02 seconds\n"
     ]
    },
    {
     "name": "stdout",
     "output_type": "stream",
     "text": [
      "(597, 925, 3) (597, 925)\n",
      "4N 140\n"
     ]
    },
    {
     "name": "stderr",
     "output_type": "stream",
     "text": [
      "Load pre-computed features: 0.69 seconds\n",
      "Not using image_cache.\n"
     ]
    },
    {
     "name": "stdout",
     "output_type": "stream",
     "text": [
      "/data/CSHL_data_processed/CHATM2/CHATM2_prep2_raw_NtbNormalizedAdaptiveInvertedGammaJpeg/CHATM2_slide48_2018_01_22-S1_prep2_raw_NtbNormalizedAdaptiveInvertedGammaJpeg.jpg\n"
     ]
    },
    {
     "name": "stderr",
     "output_type": "stream",
     "text": [
      "Load background image: 3.00 seconds\n",
      "Rescale background image to output resolution: 0.15 seconds\n",
      "Predict scores 4N: 0.01 seconds\n",
      "Resample scoremap 4N: 0.09 seconds\n",
      "Load and rescale background image: 0.00 seconds\n",
      "Generate scoremap overlay: 0.06 seconds.\n",
      "Scoremap size does not match background image size. Need to resize: 0.08 seconds.\n",
      "Generate scoremap overlay image 4N: 0.17 seconds\n",
      "locate patches: 0.02 seconds\n"
     ]
    },
    {
     "name": "stdout",
     "output_type": "stream",
     "text": [
      "(597, 925, 3) (597, 925)\n",
      "4N 142\n"
     ]
    },
    {
     "name": "stderr",
     "output_type": "stream",
     "text": [
      "Load pre-computed features: 0.68 seconds\n",
      "Not using image_cache.\n"
     ]
    },
    {
     "name": "stdout",
     "output_type": "stream",
     "text": [
      "/data/CSHL_data_processed/CHATM2/CHATM2_prep2_raw_NtbNormalizedAdaptiveInvertedGammaJpeg/CHATM2_slide48_2018_01_22-S2_prep2_raw_NtbNormalizedAdaptiveInvertedGammaJpeg.jpg\n"
     ]
    },
    {
     "name": "stderr",
     "output_type": "stream",
     "text": [
      "Load background image: 2.59 seconds\n",
      "Rescale background image to output resolution: 0.14 seconds\n",
      "Predict scores 4N: 0.01 seconds\n",
      "Resample scoremap 4N: 0.06 seconds\n",
      "Load and rescale background image: 0.00 seconds\n",
      "Generate scoremap overlay: 0.05 seconds.\n",
      "Scoremap size does not match background image size. Need to resize: 0.08 seconds.\n"
     ]
    },
    {
     "name": "stdout",
     "output_type": "stream",
     "text": [
      "(597, 925, 3) (597, 925)\n",
      "4N 144\n"
     ]
    },
    {
     "name": "stderr",
     "output_type": "stream",
     "text": [
      "Generate scoremap overlay image 4N: 0.16 seconds\n",
      "locate patches: 0.02 seconds\n",
      "Load pre-computed features: 0.59 seconds\n",
      "Not using image_cache.\n"
     ]
    },
    {
     "name": "stdout",
     "output_type": "stream",
     "text": [
      "/data/CSHL_data_processed/CHATM2/CHATM2_prep2_raw_NtbNormalizedAdaptiveInvertedGammaJpeg/CHATM2_slide48_2018_01_22-S3_prep2_raw_NtbNormalizedAdaptiveInvertedGammaJpeg.jpg\n"
     ]
    },
    {
     "name": "stderr",
     "output_type": "stream",
     "text": [
      "Load background image: 2.60 seconds\n",
      "Rescale background image to output resolution: 0.13 seconds\n",
      "Predict scores 4N: 0.01 seconds\n",
      "Resample scoremap 4N: 0.09 seconds\n",
      "Load and rescale background image: 0.00 seconds\n",
      "Generate scoremap overlay: 0.05 seconds.\n",
      "Scoremap size does not match background image size. Need to resize: 0.08 seconds.\n",
      "Generate scoremap overlay image 4N: 0.16 seconds\n",
      "locate patches: 0.02 seconds\n"
     ]
    },
    {
     "name": "stdout",
     "output_type": "stream",
     "text": [
      "(597, 925, 3) (597, 925)\n",
      "4N 145\n"
     ]
    },
    {
     "name": "stderr",
     "output_type": "stream",
     "text": [
      "Load pre-computed features: 0.64 seconds\n",
      "Not using image_cache.\n"
     ]
    },
    {
     "name": "stdout",
     "output_type": "stream",
     "text": [
      "/data/CSHL_data_processed/CHATM2/CHATM2_prep2_raw_NtbNormalizedAdaptiveInvertedGammaJpeg/CHATM2_slide49_2018_01_22-S1_prep2_raw_NtbNormalizedAdaptiveInvertedGammaJpeg.jpg\n"
     ]
    },
    {
     "name": "stderr",
     "output_type": "stream",
     "text": [
      "Load background image: 2.68 seconds\n",
      "Rescale background image to output resolution: 0.13 seconds\n",
      "Predict scores 4N: 0.01 seconds\n",
      "Resample scoremap 4N: 0.09 seconds\n",
      "Load and rescale background image: 0.00 seconds\n",
      "Generate scoremap overlay: 0.05 seconds.\n",
      "Scoremap size does not match background image size. Need to resize: 0.08 seconds.\n",
      "Generate scoremap overlay image 4N: 0.15 seconds\n",
      "locate patches: 0.02 seconds\n"
     ]
    },
    {
     "name": "stdout",
     "output_type": "stream",
     "text": [
      "(597, 925, 3) (597, 925)\n",
      "4N 146\n"
     ]
    },
    {
     "name": "stderr",
     "output_type": "stream",
     "text": [
      "Load pre-computed features: 0.66 seconds\n",
      "Not using image_cache.\n"
     ]
    },
    {
     "name": "stdout",
     "output_type": "stream",
     "text": [
      "/data/CSHL_data_processed/CHATM2/CHATM2_prep2_raw_NtbNormalizedAdaptiveInvertedGammaJpeg/CHATM2_slide50_2018_01_22-S1_prep2_raw_NtbNormalizedAdaptiveInvertedGammaJpeg.jpg\n"
     ]
    },
    {
     "name": "stderr",
     "output_type": "stream",
     "text": [
      "Load background image: 2.57 seconds\n",
      "Rescale background image to output resolution: 0.13 seconds\n",
      "Predict scores 4N: 0.01 seconds\n",
      "Resample scoremap 4N: 0.06 seconds\n",
      "Load and rescale background image: 0.00 seconds\n",
      "Generate scoremap overlay: 0.05 seconds.\n",
      "Scoremap size does not match background image size. Need to resize: 0.08 seconds.\n"
     ]
    },
    {
     "name": "stdout",
     "output_type": "stream",
     "text": [
      "(597, 925, 3) (597, 925)\n",
      "4N 147\n"
     ]
    },
    {
     "name": "stderr",
     "output_type": "stream",
     "text": [
      "Generate scoremap overlay image 4N: 0.15 seconds\n",
      "locate patches: 0.02 seconds\n",
      "Load pre-computed features: 0.67 seconds\n",
      "Not using image_cache.\n"
     ]
    },
    {
     "name": "stdout",
     "output_type": "stream",
     "text": [
      "/data/CSHL_data_processed/CHATM2/CHATM2_prep2_raw_NtbNormalizedAdaptiveInvertedGammaJpeg/CHATM2_slide49_2018_01_22-S2_prep2_raw_NtbNormalizedAdaptiveInvertedGammaJpeg.jpg\n"
     ]
    },
    {
     "name": "stderr",
     "output_type": "stream",
     "text": [
      "Load background image: 2.70 seconds\n",
      "Rescale background image to output resolution: 0.13 seconds\n",
      "Predict scores 4N: 0.01 seconds\n",
      "Resample scoremap 4N: 0.09 seconds\n",
      "Load and rescale background image: 0.00 seconds\n",
      "Generate scoremap overlay: 0.05 seconds.\n",
      "Scoremap size does not match background image size. Need to resize: 0.08 seconds.\n",
      "Generate scoremap overlay image 4N: 0.16 seconds\n",
      "locate patches: 0.02 seconds\n"
     ]
    },
    {
     "name": "stdout",
     "output_type": "stream",
     "text": [
      "(597, 925, 3) (597, 925)\n",
      "4N 148\n"
     ]
    },
    {
     "name": "stderr",
     "output_type": "stream",
     "text": [
      "Load pre-computed features: 0.68 seconds\n",
      "Not using image_cache.\n"
     ]
    },
    {
     "name": "stdout",
     "output_type": "stream",
     "text": [
      "/data/CSHL_data_processed/CHATM2/CHATM2_prep2_raw_NtbNormalizedAdaptiveInvertedGammaJpeg/CHATM2_slide50_2018_01_22-S2_prep2_raw_NtbNormalizedAdaptiveInvertedGammaJpeg.jpg\n"
     ]
    },
    {
     "name": "stderr",
     "output_type": "stream",
     "text": [
      "Load background image: 2.59 seconds\n",
      "Rescale background image to output resolution: 0.13 seconds\n",
      "Predict scores 4N: 0.01 seconds\n",
      "Resample scoremap 4N: 0.09 seconds\n",
      "Load and rescale background image: 0.00 seconds\n",
      "Generate scoremap overlay: 0.05 seconds.\n",
      "Scoremap size does not match background image size. Need to resize: 0.08 seconds.\n",
      "Generate scoremap overlay image 4N: 0.16 seconds\n",
      "locate patches: 0.02 seconds\n"
     ]
    },
    {
     "name": "stdout",
     "output_type": "stream",
     "text": [
      "(597, 925, 3) (597, 925)\n",
      "4N 150\n"
     ]
    },
    {
     "name": "stderr",
     "output_type": "stream",
     "text": [
      "Load pre-computed features: 0.63 seconds\n",
      "Not using image_cache.\n"
     ]
    },
    {
     "name": "stdout",
     "output_type": "stream",
     "text": [
      "/data/CSHL_data_processed/CHATM2/CHATM2_prep2_raw_NtbNormalizedAdaptiveInvertedGammaJpeg/CHATM2_slide50_2018_01_22-S3_prep2_raw_NtbNormalizedAdaptiveInvertedGammaJpeg.jpg\n"
     ]
    },
    {
     "name": "stderr",
     "output_type": "stream",
     "text": [
      "Load background image: 2.69 seconds\n",
      "Rescale background image to output resolution: 0.14 seconds\n",
      "Predict scores 4N: 0.01 seconds\n",
      "Resample scoremap 4N: 0.06 seconds\n",
      "Load and rescale background image: 0.00 seconds\n",
      "Generate scoremap overlay: 0.05 seconds.\n",
      "Scoremap size does not match background image size. Need to resize: 0.08 seconds.\n"
     ]
    },
    {
     "name": "stdout",
     "output_type": "stream",
     "text": [
      "(597, 925, 3) (597, 925)\n",
      "4N 151\n"
     ]
    },
    {
     "name": "stderr",
     "output_type": "stream",
     "text": [
      "Generate scoremap overlay image 4N: 0.16 seconds\n",
      "locate patches: 0.02 seconds\n",
      "Load pre-computed features: 0.60 seconds\n",
      "Not using image_cache.\n"
     ]
    },
    {
     "name": "stdout",
     "output_type": "stream",
     "text": [
      "/data/CSHL_data_processed/CHATM2/CHATM2_prep2_raw_NtbNormalizedAdaptiveInvertedGammaJpeg/CHATM2_slide51_2018_01_22-S1_prep2_raw_NtbNormalizedAdaptiveInvertedGammaJpeg.jpg\n"
     ]
    },
    {
     "name": "stderr",
     "output_type": "stream",
     "text": [
      "Load background image: 2.63 seconds\n",
      "Rescale background image to output resolution: 0.13 seconds\n",
      "Predict scores 4N: 0.01 seconds\n",
      "Resample scoremap 4N: 0.06 seconds\n",
      "Load and rescale background image: 0.00 seconds\n",
      "Generate scoremap overlay: 0.05 seconds.\n",
      "Scoremap size does not match background image size. Need to resize: 0.07 seconds.\n"
     ]
    },
    {
     "name": "stdout",
     "output_type": "stream",
     "text": [
      "(597, 925, 3) (597, 925)\n",
      "4N 152\n"
     ]
    },
    {
     "name": "stderr",
     "output_type": "stream",
     "text": [
      "Generate scoremap overlay image 4N: 0.15 seconds\n",
      "locate patches: 0.02 seconds\n",
      "Load pre-computed features: 0.54 seconds\n",
      "Not using image_cache.\n"
     ]
    },
    {
     "name": "stdout",
     "output_type": "stream",
     "text": [
      "/data/CSHL_data_processed/CHATM2/CHATM2_prep2_raw_NtbNormalizedAdaptiveInvertedGammaJpeg/CHATM2_slide52_2018_01_22-S1_prep2_raw_NtbNormalizedAdaptiveInvertedGammaJpeg.jpg\n"
     ]
    },
    {
     "name": "stderr",
     "output_type": "stream",
     "text": [
      "Load background image: 2.18 seconds\n",
      "Rescale background image to output resolution: 0.13 seconds\n",
      "Predict scores 4N: 0.01 seconds\n",
      "Resample scoremap 4N: 0.06 seconds\n",
      "Load and rescale background image: 0.00 seconds\n",
      "Generate scoremap overlay: 0.05 seconds.\n",
      "Scoremap size does not match background image size. Need to resize: 0.08 seconds.\n"
     ]
    },
    {
     "name": "stdout",
     "output_type": "stream",
     "text": [
      "(597, 925, 3) (597, 925)\n",
      "4N 153\n"
     ]
    },
    {
     "name": "stderr",
     "output_type": "stream",
     "text": [
      "Generate scoremap overlay image 4N: 0.15 seconds\n",
      "locate patches: 0.02 seconds\n",
      "Load pre-computed features: 0.65 seconds\n",
      "Not using image_cache.\n"
     ]
    },
    {
     "name": "stdout",
     "output_type": "stream",
     "text": [
      "/data/CSHL_data_processed/CHATM2/CHATM2_prep2_raw_NtbNormalizedAdaptiveInvertedGammaJpeg/CHATM2_slide51_2018_01_22-S2_prep2_raw_NtbNormalizedAdaptiveInvertedGammaJpeg.jpg\n"
     ]
    },
    {
     "name": "stderr",
     "output_type": "stream",
     "text": [
      "Load background image: 2.59 seconds\n",
      "Rescale background image to output resolution: 0.13 seconds\n",
      "Predict scores 4N: 0.01 seconds\n",
      "Resample scoremap 4N: 0.06 seconds\n",
      "Load and rescale background image: 0.00 seconds\n",
      "Generate scoremap overlay: 0.05 seconds.\n",
      "Scoremap size does not match background image size. Need to resize: 0.08 seconds.\n"
     ]
    },
    {
     "name": "stdout",
     "output_type": "stream",
     "text": [
      "(597, 925, 3) (597, 925)\n",
      "4N 154\n"
     ]
    },
    {
     "name": "stderr",
     "output_type": "stream",
     "text": [
      "Generate scoremap overlay image 4N: 0.15 seconds\n",
      "locate patches: 0.02 seconds\n",
      "Load pre-computed features: 0.50 seconds\n",
      "Not using image_cache.\n"
     ]
    },
    {
     "name": "stdout",
     "output_type": "stream",
     "text": [
      "/data/CSHL_data_processed/CHATM2/CHATM2_prep2_raw_NtbNormalizedAdaptiveInvertedGammaJpeg/CHATM2_slide52_2018_01_22-S2_prep2_raw_NtbNormalizedAdaptiveInvertedGammaJpeg.jpg\n"
     ]
    },
    {
     "name": "stderr",
     "output_type": "stream",
     "text": [
      "Load background image: 2.22 seconds\n",
      "Rescale background image to output resolution: 0.13 seconds\n",
      "Predict scores 4N: 0.01 seconds\n",
      "Resample scoremap 4N: 0.09 seconds\n",
      "Load and rescale background image: 0.00 seconds\n",
      "Generate scoremap overlay: 0.05 seconds.\n",
      "Scoremap size does not match background image size. Need to resize: 0.08 seconds.\n",
      "Generate scoremap overlay image 4N: 0.15 seconds\n",
      "locate patches: 0.02 seconds\n"
     ]
    },
    {
     "name": "stdout",
     "output_type": "stream",
     "text": [
      "(597, 925, 3) (597, 925)\n",
      "4N 155\n"
     ]
    },
    {
     "name": "stderr",
     "output_type": "stream",
     "text": [
      "Load pre-computed features: 0.63 seconds\n",
      "Not using image_cache.\n"
     ]
    },
    {
     "name": "stdout",
     "output_type": "stream",
     "text": [
      "/data/CSHL_data_processed/CHATM2/CHATM2_prep2_raw_NtbNormalizedAdaptiveInvertedGammaJpeg/CHATM2_slide51_2018_01_22-S3_prep2_raw_NtbNormalizedAdaptiveInvertedGammaJpeg.jpg\n"
     ]
    },
    {
     "name": "stderr",
     "output_type": "stream",
     "text": [
      "Load background image: 2.69 seconds\n",
      "Rescale background image to output resolution: 0.13 seconds\n",
      "Predict scores 4N: 0.01 seconds\n",
      "Resample scoremap 4N: 0.06 seconds\n",
      "Load and rescale background image: 0.00 seconds\n",
      "Generate scoremap overlay: 0.05 seconds.\n",
      "Scoremap size does not match background image size. Need to resize: 0.07 seconds.\n"
     ]
    },
    {
     "name": "stdout",
     "output_type": "stream",
     "text": [
      "(597, 925, 3) (597, 925)\n",
      "4N 156\n"
     ]
    },
    {
     "name": "stderr",
     "output_type": "stream",
     "text": [
      "Generate scoremap overlay image 4N: 0.15 seconds\n",
      "locate patches: 0.02 seconds\n",
      "Load pre-computed features: 0.52 seconds\n",
      "Not using image_cache.\n"
     ]
    },
    {
     "name": "stdout",
     "output_type": "stream",
     "text": [
      "/data/CSHL_data_processed/CHATM2/CHATM2_prep2_raw_NtbNormalizedAdaptiveInvertedGammaJpeg/CHATM2_slide52_2018_01_22-S3_prep2_raw_NtbNormalizedAdaptiveInvertedGammaJpeg.jpg\n"
     ]
    },
    {
     "name": "stderr",
     "output_type": "stream",
     "text": [
      "Load background image: 2.24 seconds\n",
      "Rescale background image to output resolution: 0.13 seconds\n",
      "Predict scores 4N: 0.01 seconds\n",
      "Resample scoremap 4N: 0.09 seconds\n",
      "Load and rescale background image: 0.00 seconds\n",
      "Generate scoremap overlay: 0.05 seconds.\n",
      "Scoremap size does not match background image size. Need to resize: 0.08 seconds.\n",
      "Generate scoremap overlay image 4N: 0.15 seconds\n",
      "locate patches: 0.02 seconds\n"
     ]
    },
    {
     "name": "stdout",
     "output_type": "stream",
     "text": [
      "(597, 925, 3) (597, 925)\n",
      "4N 157\n"
     ]
    },
    {
     "name": "stderr",
     "output_type": "stream",
     "text": [
      "Load pre-computed features: 0.63 seconds\n",
      "Not using image_cache.\n"
     ]
    },
    {
     "name": "stdout",
     "output_type": "stream",
     "text": [
      "/data/CSHL_data_processed/CHATM2/CHATM2_prep2_raw_NtbNormalizedAdaptiveInvertedGammaJpeg/CHATM2_slide53_2018_01_22-S1_prep2_raw_NtbNormalizedAdaptiveInvertedGammaJpeg.jpg\n"
     ]
    },
    {
     "name": "stderr",
     "output_type": "stream",
     "text": [
      "Load background image: 2.60 seconds\n",
      "Rescale background image to output resolution: 0.13 seconds\n",
      "Predict scores 4N: 0.01 seconds\n",
      "Resample scoremap 4N: 0.09 seconds\n",
      "Load and rescale background image: 0.00 seconds\n",
      "Generate scoremap overlay: 0.05 seconds.\n",
      "Scoremap size does not match background image size. Need to resize: 0.08 seconds.\n",
      "Generate scoremap overlay image 4N: 0.15 seconds\n",
      "locate patches: 0.02 seconds\n"
     ]
    },
    {
     "name": "stdout",
     "output_type": "stream",
     "text": [
      "(597, 925, 3) (597, 925)\n",
      "4N 158\n"
     ]
    },
    {
     "name": "stderr",
     "output_type": "stream",
     "text": [
      "Load pre-computed features: 0.53 seconds\n",
      "Not using image_cache.\n"
     ]
    },
    {
     "name": "stdout",
     "output_type": "stream",
     "text": [
      "/data/CSHL_data_processed/CHATM2/CHATM2_prep2_raw_NtbNormalizedAdaptiveInvertedGammaJpeg/CHATM2_slide54_2018_01_22-S1_prep2_raw_NtbNormalizedAdaptiveInvertedGammaJpeg.jpg\n"
     ]
    },
    {
     "name": "stderr",
     "output_type": "stream",
     "text": [
      "Load background image: 2.28 seconds\n",
      "Rescale background image to output resolution: 0.13 seconds\n",
      "Predict scores 4N: 0.00 seconds\n",
      "Resample scoremap 4N: 0.09 seconds\n",
      "Load and rescale background image: 0.00 seconds\n",
      "Generate scoremap overlay: 0.05 seconds.\n",
      "Scoremap size does not match background image size. Need to resize: 0.08 seconds.\n",
      "Generate scoremap overlay image 4N: 0.15 seconds\n",
      "locate patches: 0.02 seconds\n"
     ]
    },
    {
     "name": "stdout",
     "output_type": "stream",
     "text": [
      "(597, 925, 3) (597, 925)\n",
      "4N 159\n"
     ]
    },
    {
     "name": "stderr",
     "output_type": "stream",
     "text": [
      "Load pre-computed features: 0.66 seconds\n",
      "Not using image_cache.\n"
     ]
    },
    {
     "name": "stdout",
     "output_type": "stream",
     "text": [
      "/data/CSHL_data_processed/CHATM2/CHATM2_prep2_raw_NtbNormalizedAdaptiveInvertedGammaJpeg/CHATM2_slide53_2018_01_22-S2_prep2_raw_NtbNormalizedAdaptiveInvertedGammaJpeg.jpg\n"
     ]
    },
    {
     "name": "stderr",
     "output_type": "stream",
     "text": [
      "Load background image: 2.56 seconds\n",
      "Rescale background image to output resolution: 0.13 seconds\n",
      "Predict scores 4N: 0.01 seconds\n",
      "Resample scoremap 4N: 0.09 seconds\n",
      "Load and rescale background image: 0.00 seconds\n",
      "Generate scoremap overlay: 0.05 seconds.\n",
      "Scoremap size does not match background image size. Need to resize: 0.08 seconds.\n",
      "Generate scoremap overlay image 4N: 0.15 seconds\n",
      "locate patches: 0.02 seconds\n"
     ]
    },
    {
     "name": "stdout",
     "output_type": "stream",
     "text": [
      "(597, 925, 3) (597, 925)\n",
      "4N 160\n"
     ]
    },
    {
     "name": "stderr",
     "output_type": "stream",
     "text": [
      "Load pre-computed features: 0.66 seconds\n",
      "Not using image_cache.\n"
     ]
    },
    {
     "name": "stdout",
     "output_type": "stream",
     "text": [
      "/data/CSHL_data_processed/CHATM2/CHATM2_prep2_raw_NtbNormalizedAdaptiveInvertedGammaJpeg/CHATM2_slide54_2018_01_22-S2_prep2_raw_NtbNormalizedAdaptiveInvertedGammaJpeg.jpg\n"
     ]
    },
    {
     "name": "stderr",
     "output_type": "stream",
     "text": [
      "Load background image: 2.56 seconds\n",
      "Rescale background image to output resolution: 0.13 seconds\n",
      "Predict scores 4N: 0.01 seconds\n",
      "Resample scoremap 4N: 0.09 seconds\n",
      "Load and rescale background image: 0.00 seconds\n",
      "Generate scoremap overlay: 0.05 seconds.\n",
      "Scoremap size does not match background image size. Need to resize: 0.08 seconds.\n",
      "Generate scoremap overlay image 4N: 0.15 seconds\n",
      "locate patches: 0.02 seconds\n"
     ]
    },
    {
     "name": "stdout",
     "output_type": "stream",
     "text": [
      "(597, 925, 3) (597, 925)\n",
      "4N 161\n"
     ]
    },
    {
     "name": "stderr",
     "output_type": "stream",
     "text": [
      "Load pre-computed features: 0.65 seconds\n",
      "Not using image_cache.\n"
     ]
    },
    {
     "name": "stdout",
     "output_type": "stream",
     "text": [
      "/data/CSHL_data_processed/CHATM2/CHATM2_prep2_raw_NtbNormalizedAdaptiveInvertedGammaJpeg/CHATM2_slide53_2018_01_22-S3_prep2_raw_NtbNormalizedAdaptiveInvertedGammaJpeg.jpg\n"
     ]
    },
    {
     "name": "stderr",
     "output_type": "stream",
     "text": [
      "Load background image: 2.69 seconds\n",
      "Rescale background image to output resolution: 0.13 seconds\n",
      "Predict scores 4N: 0.01 seconds\n",
      "Resample scoremap 4N: 0.08 seconds\n",
      "Load and rescale background image: 0.00 seconds\n",
      "Generate scoremap overlay: 0.05 seconds.\n",
      "Scoremap size does not match background image size. Need to resize: 0.08 seconds.\n",
      "Generate scoremap overlay image 4N: 0.15 seconds\n",
      "locate patches: 0.02 seconds\n"
     ]
    },
    {
     "name": "stdout",
     "output_type": "stream",
     "text": [
      "(597, 925, 3) (597, 925)\n",
      "4N 162\n"
     ]
    },
    {
     "name": "stderr",
     "output_type": "stream",
     "text": [
      "Load pre-computed features: 0.64 seconds\n",
      "Not using image_cache.\n"
     ]
    },
    {
     "name": "stdout",
     "output_type": "stream",
     "text": [
      "/data/CSHL_data_processed/CHATM2/CHATM2_prep2_raw_NtbNormalizedAdaptiveInvertedGammaJpeg/CHATM2_slide54_2018_01_22-S3_prep2_raw_NtbNormalizedAdaptiveInvertedGammaJpeg.jpg\n"
     ]
    },
    {
     "name": "stderr",
     "output_type": "stream",
     "text": [
      "Load background image: 2.59 seconds\n",
      "Rescale background image to output resolution: 0.13 seconds\n",
      "Predict scores 4N: 0.01 seconds\n",
      "Resample scoremap 4N: 0.06 seconds\n",
      "Load and rescale background image: 0.00 seconds\n",
      "Generate scoremap overlay: 0.05 seconds.\n",
      "Scoremap size does not match background image size. Need to resize: 0.07 seconds.\n"
     ]
    },
    {
     "name": "stdout",
     "output_type": "stream",
     "text": [
      "(597, 925, 3) (597, 925)\n",
      "4N 163\n"
     ]
    },
    {
     "name": "stderr",
     "output_type": "stream",
     "text": [
      "Generate scoremap overlay image 4N: 0.15 seconds\n",
      "locate patches: 0.02 seconds\n",
      "Load pre-computed features: 0.75 seconds\n",
      "Not using image_cache.\n"
     ]
    },
    {
     "name": "stdout",
     "output_type": "stream",
     "text": [
      "/data/CSHL_data_processed/CHATM2/CHATM2_prep2_raw_NtbNormalizedAdaptiveInvertedGammaJpeg/CHATM2_slide55_2018_01_22-S1_prep2_raw_NtbNormalizedAdaptiveInvertedGammaJpeg.jpg\n"
     ]
    },
    {
     "name": "stderr",
     "output_type": "stream",
     "text": [
      "Load background image: 2.53 seconds\n",
      "Rescale background image to output resolution: 0.16 seconds\n",
      "Predict scores 4N: 0.01 seconds\n",
      "Resample scoremap 4N: 0.09 seconds\n",
      "Load and rescale background image: 0.00 seconds\n",
      "Generate scoremap overlay: 0.05 seconds.\n",
      "Scoremap size does not match background image size. Need to resize: 0.08 seconds.\n",
      "Generate scoremap overlay image 4N: 0.16 seconds\n",
      "locate patches: 0.02 seconds\n"
     ]
    },
    {
     "name": "stdout",
     "output_type": "stream",
     "text": [
      "(597, 925, 3) (597, 925)\n",
      "4N 164\n"
     ]
    },
    {
     "name": "stderr",
     "output_type": "stream",
     "text": [
      "Load pre-computed features: 0.62 seconds\n",
      "Not using image_cache.\n"
     ]
    },
    {
     "name": "stdout",
     "output_type": "stream",
     "text": [
      "/data/CSHL_data_processed/CHATM2/CHATM2_prep2_raw_NtbNormalizedAdaptiveInvertedGammaJpeg/CHATM2_slide56_2018_01_22-S1_prep2_raw_NtbNormalizedAdaptiveInvertedGammaJpeg.jpg\n"
     ]
    },
    {
     "name": "stderr",
     "output_type": "stream",
     "text": [
      "Load background image: 2.53 seconds\n",
      "Rescale background image to output resolution: 0.13 seconds\n",
      "Predict scores 4N: 0.01 seconds\n",
      "Resample scoremap 4N: 0.09 seconds\n",
      "Load and rescale background image: 0.00 seconds\n",
      "Generate scoremap overlay: 0.05 seconds.\n",
      "Scoremap size does not match background image size. Need to resize: 0.08 seconds.\n",
      "Generate scoremap overlay image 4N: 0.15 seconds\n",
      "locate patches: 0.02 seconds\n"
     ]
    },
    {
     "name": "stdout",
     "output_type": "stream",
     "text": [
      "(597, 925, 3) (597, 925)\n",
      "4N 165\n"
     ]
    },
    {
     "name": "stderr",
     "output_type": "stream",
     "text": [
      "Load pre-computed features: 0.61 seconds\n",
      "Not using image_cache.\n"
     ]
    },
    {
     "name": "stdout",
     "output_type": "stream",
     "text": [
      "/data/CSHL_data_processed/CHATM2/CHATM2_prep2_raw_NtbNormalizedAdaptiveInvertedGammaJpeg/CHATM2_slide55_2018_01_22-S2_prep2_raw_NtbNormalizedAdaptiveInvertedGammaJpeg.jpg\n"
     ]
    },
    {
     "name": "stderr",
     "output_type": "stream",
     "text": [
      "Load background image: 2.56 seconds\n",
      "Rescale background image to output resolution: 0.13 seconds\n",
      "Predict scores 4N: 0.01 seconds\n",
      "Resample scoremap 4N: 0.09 seconds\n",
      "Load and rescale background image: 0.00 seconds\n",
      "Generate scoremap overlay: 0.05 seconds.\n",
      "Scoremap size does not match background image size. Need to resize: 0.08 seconds.\n",
      "Generate scoremap overlay image 4N: 0.16 seconds\n",
      "locate patches: 0.02 seconds\n"
     ]
    },
    {
     "name": "stdout",
     "output_type": "stream",
     "text": [
      "(597, 925, 3) (597, 925)\n",
      "4N 166\n"
     ]
    },
    {
     "name": "stderr",
     "output_type": "stream",
     "text": [
      "Load pre-computed features: 0.57 seconds\n",
      "Not using image_cache.\n"
     ]
    },
    {
     "name": "stdout",
     "output_type": "stream",
     "text": [
      "/data/CSHL_data_processed/CHATM2/CHATM2_prep2_raw_NtbNormalizedAdaptiveInvertedGammaJpeg/CHATM2_slide56_2018_01_22-S2_prep2_raw_NtbNormalizedAdaptiveInvertedGammaJpeg.jpg\n"
     ]
    },
    {
     "name": "stderr",
     "output_type": "stream",
     "text": [
      "Load background image: 2.49 seconds\n",
      "Rescale background image to output resolution: 0.13 seconds\n",
      "Predict scores 4N: 0.00 seconds\n",
      "Resample scoremap 4N: 0.06 seconds\n",
      "Load and rescale background image: 0.00 seconds\n",
      "Generate scoremap overlay: 0.05 seconds.\n",
      "Scoremap size does not match background image size. Need to resize: 0.08 seconds.\n"
     ]
    },
    {
     "name": "stdout",
     "output_type": "stream",
     "text": [
      "(597, 925, 3) (597, 925)\n",
      "4N 167\n"
     ]
    },
    {
     "name": "stderr",
     "output_type": "stream",
     "text": [
      "Generate scoremap overlay image 4N: 0.16 seconds\n",
      "locate patches: 0.02 seconds\n",
      "Load pre-computed features: 0.65 seconds\n",
      "Not using image_cache.\n"
     ]
    },
    {
     "name": "stdout",
     "output_type": "stream",
     "text": [
      "/data/CSHL_data_processed/CHATM2/CHATM2_prep2_raw_NtbNormalizedAdaptiveInvertedGammaJpeg/CHATM2_slide55_2018_01_22-S3_prep2_raw_NtbNormalizedAdaptiveInvertedGammaJpeg.jpg\n"
     ]
    },
    {
     "name": "stderr",
     "output_type": "stream",
     "text": [
      "Load background image: 2.61 seconds\n",
      "Rescale background image to output resolution: 0.13 seconds\n",
      "Predict scores 4N: 0.00 seconds\n",
      "Resample scoremap 4N: 0.09 seconds\n",
      "Load and rescale background image: 0.00 seconds\n",
      "Generate scoremap overlay: 0.05 seconds.\n",
      "Scoremap size does not match background image size. Need to resize: 0.09 seconds.\n",
      "Generate scoremap overlay image 4N: 0.17 seconds\n",
      "locate patches: 0.02 seconds\n"
     ]
    },
    {
     "name": "stdout",
     "output_type": "stream",
     "text": [
      "(597, 925, 3) (597, 925)\n",
      "4N 168\n"
     ]
    },
    {
     "name": "stderr",
     "output_type": "stream",
     "text": [
      "Load pre-computed features: 0.64 seconds\n",
      "Not using image_cache.\n"
     ]
    },
    {
     "name": "stdout",
     "output_type": "stream",
     "text": [
      "/data/CSHL_data_processed/CHATM2/CHATM2_prep2_raw_NtbNormalizedAdaptiveInvertedGammaJpeg/CHATM2_slide56_2018_01_22-S3_prep2_raw_NtbNormalizedAdaptiveInvertedGammaJpeg.jpg\n"
     ]
    },
    {
     "name": "stderr",
     "output_type": "stream",
     "text": [
      "Load background image: 2.52 seconds\n",
      "Rescale background image to output resolution: 0.13 seconds\n",
      "Predict scores 4N: 0.01 seconds\n",
      "Resample scoremap 4N: 0.09 seconds\n",
      "Load and rescale background image: 0.00 seconds\n",
      "Generate scoremap overlay: 0.07 seconds.\n",
      "Scoremap size does not match background image size. Need to resize: 0.08 seconds.\n",
      "Generate scoremap overlay image 4N: 0.18 seconds\n",
      "locate patches: 0.02 seconds\n"
     ]
    },
    {
     "name": "stdout",
     "output_type": "stream",
     "text": [
      "(597, 925, 3) (597, 925)\n",
      "4N 169\n"
     ]
    },
    {
     "name": "stderr",
     "output_type": "stream",
     "text": [
      "Load pre-computed features: 0.60 seconds\n",
      "Not using image_cache.\n"
     ]
    },
    {
     "name": "stdout",
     "output_type": "stream",
     "text": [
      "/data/CSHL_data_processed/CHATM2/CHATM2_prep2_raw_NtbNormalizedAdaptiveInvertedGammaJpeg/CHATM2_slide57_2018_01_22-S1_prep2_raw_NtbNormalizedAdaptiveInvertedGammaJpeg.jpg\n"
     ]
    },
    {
     "name": "stderr",
     "output_type": "stream",
     "text": [
      "Load background image: 2.51 seconds\n",
      "Rescale background image to output resolution: 0.13 seconds\n",
      "Predict scores 4N: 0.01 seconds\n",
      "Resample scoremap 4N: 0.09 seconds\n",
      "Load and rescale background image: 0.00 seconds\n",
      "Generate scoremap overlay: 0.06 seconds.\n",
      "Scoremap size does not match background image size. Need to resize: 0.08 seconds.\n",
      "Generate scoremap overlay image 4N: 0.17 seconds\n",
      "locate patches: 0.02 seconds\n"
     ]
    },
    {
     "name": "stdout",
     "output_type": "stream",
     "text": [
      "(597, 925, 3) (597, 925)\n",
      "4N 170\n"
     ]
    },
    {
     "name": "stderr",
     "output_type": "stream",
     "text": [
      "Load pre-computed features: 0.62 seconds\n",
      "Not using image_cache.\n"
     ]
    },
    {
     "name": "stdout",
     "output_type": "stream",
     "text": [
      "/data/CSHL_data_processed/CHATM2/CHATM2_prep2_raw_NtbNormalizedAdaptiveInvertedGammaJpeg/CHATM2_slide58_2018_01_22-S1_prep2_raw_NtbNormalizedAdaptiveInvertedGammaJpeg.jpg\n"
     ]
    },
    {
     "name": "stderr",
     "output_type": "stream",
     "text": [
      "Load background image: 2.50 seconds\n",
      "Rescale background image to output resolution: 0.13 seconds\n",
      "Predict scores 4N: 0.01 seconds\n",
      "Resample scoremap 4N: 0.10 seconds\n",
      "Load and rescale background image: 0.00 seconds\n",
      "Generate scoremap overlay: 0.05 seconds.\n",
      "Scoremap size does not match background image size. Need to resize: 0.08 seconds.\n",
      "Generate scoremap overlay image 4N: 0.16 seconds\n",
      "locate patches: 0.02 seconds\n"
     ]
    },
    {
     "name": "stdout",
     "output_type": "stream",
     "text": [
      "(597, 925, 3) (597, 925)\n",
      "4N 171\n"
     ]
    },
    {
     "name": "stderr",
     "output_type": "stream",
     "text": [
      "Load pre-computed features: 0.61 seconds\n",
      "Not using image_cache.\n"
     ]
    },
    {
     "name": "stdout",
     "output_type": "stream",
     "text": [
      "/data/CSHL_data_processed/CHATM2/CHATM2_prep2_raw_NtbNormalizedAdaptiveInvertedGammaJpeg/CHATM2_slide57_2018_01_22-S2_prep2_raw_NtbNormalizedAdaptiveInvertedGammaJpeg.jpg\n"
     ]
    },
    {
     "name": "stderr",
     "output_type": "stream",
     "text": [
      "Load background image: 2.63 seconds\n",
      "Rescale background image to output resolution: 0.13 seconds\n",
      "Predict scores 4N: 0.01 seconds\n",
      "Resample scoremap 4N: 0.09 seconds\n",
      "Load and rescale background image: 0.00 seconds\n",
      "Generate scoremap overlay: 0.05 seconds.\n",
      "Scoremap size does not match background image size. Need to resize: 0.08 seconds.\n",
      "Generate scoremap overlay image 4N: 0.16 seconds\n",
      "locate patches: 0.02 seconds\n"
     ]
    },
    {
     "name": "stdout",
     "output_type": "stream",
     "text": [
      "(597, 925, 3) (597, 925)\n",
      "4N 172\n"
     ]
    },
    {
     "name": "stderr",
     "output_type": "stream",
     "text": [
      "Load pre-computed features: 0.63 seconds\n",
      "Not using image_cache.\n"
     ]
    },
    {
     "name": "stdout",
     "output_type": "stream",
     "text": [
      "/data/CSHL_data_processed/CHATM2/CHATM2_prep2_raw_NtbNormalizedAdaptiveInvertedGammaJpeg/CHATM2_slide58_2018_01_22-S2_prep2_raw_NtbNormalizedAdaptiveInvertedGammaJpeg.jpg\n"
     ]
    },
    {
     "name": "stderr",
     "output_type": "stream",
     "text": [
      "Load background image: 2.34 seconds\n",
      "Rescale background image to output resolution: 0.13 seconds\n",
      "Predict scores 4N: 0.00 seconds\n",
      "Resample scoremap 4N: 0.09 seconds\n",
      "Load and rescale background image: 0.00 seconds\n",
      "Generate scoremap overlay: 0.05 seconds.\n",
      "Scoremap size does not match background image size. Need to resize: 0.08 seconds.\n",
      "Generate scoremap overlay image 4N: 0.15 seconds\n",
      "locate patches: 0.02 seconds\n"
     ]
    },
    {
     "name": "stdout",
     "output_type": "stream",
     "text": [
      "(597, 925, 3) (597, 925)\n",
      "4N 173\n"
     ]
    },
    {
     "name": "stderr",
     "output_type": "stream",
     "text": [
      "Load pre-computed features: 0.61 seconds\n",
      "Not using image_cache.\n"
     ]
    },
    {
     "name": "stdout",
     "output_type": "stream",
     "text": [
      "/data/CSHL_data_processed/CHATM2/CHATM2_prep2_raw_NtbNormalizedAdaptiveInvertedGammaJpeg/CHATM2_slide57_2018_01_22-S3_prep2_raw_NtbNormalizedAdaptiveInvertedGammaJpeg.jpg\n"
     ]
    },
    {
     "name": "stderr",
     "output_type": "stream",
     "text": [
      "Load background image: 2.59 seconds\n",
      "Rescale background image to output resolution: 0.13 seconds\n",
      "Predict scores 4N: 0.00 seconds\n",
      "Resample scoremap 4N: 0.09 seconds\n",
      "Load and rescale background image: 0.00 seconds\n",
      "Generate scoremap overlay: 0.05 seconds.\n",
      "Scoremap size does not match background image size. Need to resize: 0.09 seconds.\n",
      "Generate scoremap overlay image 4N: 0.17 seconds\n",
      "locate patches: 0.02 seconds\n"
     ]
    },
    {
     "name": "stdout",
     "output_type": "stream",
     "text": [
      "(597, 925, 3) (597, 925)\n",
      "4N 185\n"
     ]
    },
    {
     "name": "stderr",
     "output_type": "stream",
     "text": [
      "Load pre-computed features: 0.71 seconds\n",
      "Not using image_cache.\n"
     ]
    },
    {
     "name": "stdout",
     "output_type": "stream",
     "text": [
      "/data/CSHL_data_processed/CHATM2/CHATM2_prep2_raw_NtbNormalizedAdaptiveInvertedGammaJpeg/CHATM2_slide62_2018_02_14-S1_prep2_raw_NtbNormalizedAdaptiveInvertedGammaJpeg.jpg\n"
     ]
    },
    {
     "name": "stderr",
     "output_type": "stream",
     "text": [
      "Load background image: 2.41 seconds\n",
      "Rescale background image to output resolution: 0.13 seconds\n",
      "Predict scores 4N: 0.01 seconds\n",
      "Resample scoremap 4N: 0.09 seconds\n",
      "Load and rescale background image: 0.00 seconds\n",
      "Generate scoremap overlay: 0.05 seconds.\n",
      "Scoremap size does not match background image size. Need to resize: 0.08 seconds.\n",
      "Generate scoremap overlay image 4N: 0.16 seconds\n",
      "locate patches: 0.02 seconds\n"
     ]
    },
    {
     "name": "stdout",
     "output_type": "stream",
     "text": [
      "(597, 925, 3) (597, 925)\n",
      "4N 187\n"
     ]
    },
    {
     "name": "stderr",
     "output_type": "stream",
     "text": [
      "Load pre-computed features: 0.68 seconds\n",
      "Not using image_cache.\n"
     ]
    },
    {
     "name": "stdout",
     "output_type": "stream",
     "text": [
      "/data/CSHL_data_processed/CHATM2/CHATM2_prep2_raw_NtbNormalizedAdaptiveInvertedGammaJpeg/CHATM2_slide62_2018_02_14-S2_prep2_raw_NtbNormalizedAdaptiveInvertedGammaJpeg.jpg\n"
     ]
    },
    {
     "name": "stderr",
     "output_type": "stream",
     "text": [
      "Load background image: 2.44 seconds\n",
      "Rescale background image to output resolution: 0.14 seconds\n",
      "Predict scores 4N: 0.01 seconds\n",
      "Resample scoremap 4N: 0.09 seconds\n",
      "Load and rescale background image: 0.00 seconds\n",
      "Generate scoremap overlay: 0.05 seconds.\n",
      "Scoremap size does not match background image size. Need to resize: 0.08 seconds.\n",
      "Generate scoremap overlay image 4N: 0.17 seconds\n",
      "locate patches: 0.02 seconds\n"
     ]
    },
    {
     "name": "stdout",
     "output_type": "stream",
     "text": [
      "(597, 925, 3) (597, 925)\n",
      "4N 189\n"
     ]
    },
    {
     "name": "stderr",
     "output_type": "stream",
     "text": [
      "Load pre-computed features: 0.70 seconds\n",
      "Not using image_cache.\n"
     ]
    },
    {
     "name": "stdout",
     "output_type": "stream",
     "text": [
      "/data/CSHL_data_processed/CHATM2/CHATM2_prep2_raw_NtbNormalizedAdaptiveInvertedGammaJpeg/CHATM2_slide62_2018_02_14-S3_prep2_raw_NtbNormalizedAdaptiveInvertedGammaJpeg.jpg\n"
     ]
    },
    {
     "name": "stderr",
     "output_type": "stream",
     "text": [
      "Load background image: 2.46 seconds\n",
      "Rescale background image to output resolution: 0.13 seconds\n",
      "Predict scores 4N: 0.00 seconds\n",
      "Resample scoremap 4N: 0.09 seconds\n",
      "Load and rescale background image: 0.00 seconds\n",
      "Generate scoremap overlay: 0.05 seconds.\n",
      "Scoremap size does not match background image size. Need to resize: 0.08 seconds.\n",
      "Generate scoremap overlay image 4N: 0.16 seconds\n",
      "locate patches: 0.02 seconds\n"
     ]
    },
    {
     "name": "stdout",
     "output_type": "stream",
     "text": [
      "(597, 925, 3) (597, 925)\n",
      "4N 191\n"
     ]
    },
    {
     "name": "stderr",
     "output_type": "stream",
     "text": [
      "Load pre-computed features: 0.65 seconds\n",
      "Not using image_cache.\n"
     ]
    },
    {
     "name": "stdout",
     "output_type": "stream",
     "text": [
      "/data/CSHL_data_processed/CHATM2/CHATM2_prep2_raw_NtbNormalizedAdaptiveInvertedGammaJpeg/CHATM2_slide64_2018_02_15-S1_prep2_raw_NtbNormalizedAdaptiveInvertedGammaJpeg.jpg\n"
     ]
    },
    {
     "name": "stderr",
     "output_type": "stream",
     "text": [
      "Load background image: 2.53 seconds\n",
      "Rescale background image to output resolution: 0.14 seconds\n",
      "Predict scores 4N: 0.01 seconds\n",
      "Resample scoremap 4N: 0.09 seconds\n",
      "Load and rescale background image: 0.00 seconds\n",
      "Generate scoremap overlay: 0.05 seconds.\n",
      "Scoremap size does not match background image size. Need to resize: 0.08 seconds.\n",
      "Generate scoremap overlay image 4N: 0.16 seconds\n",
      "locate patches: 0.02 seconds\n"
     ]
    },
    {
     "name": "stdout",
     "output_type": "stream",
     "text": [
      "(597, 925, 3) (597, 925)\n",
      "4N 193\n"
     ]
    },
    {
     "name": "stderr",
     "output_type": "stream",
     "text": [
      "Load pre-computed features: 0.66 seconds\n",
      "Not using image_cache.\n"
     ]
    },
    {
     "name": "stdout",
     "output_type": "stream",
     "text": [
      "/data/CSHL_data_processed/CHATM2/CHATM2_prep2_raw_NtbNormalizedAdaptiveInvertedGammaJpeg/CHATM2_slide64_2018_02_15-S2_prep2_raw_NtbNormalizedAdaptiveInvertedGammaJpeg.jpg\n"
     ]
    },
    {
     "name": "stderr",
     "output_type": "stream",
     "text": [
      "Load background image: 2.44 seconds\n",
      "Rescale background image to output resolution: 0.13 seconds\n",
      "Predict scores 4N: 0.01 seconds\n",
      "Resample scoremap 4N: 0.09 seconds\n",
      "Load and rescale background image: 0.00 seconds\n",
      "Generate scoremap overlay: 0.05 seconds.\n",
      "Scoremap size does not match background image size. Need to resize: 0.08 seconds.\n",
      "Generate scoremap overlay image 4N: 0.16 seconds\n",
      "locate patches: 0.02 seconds\n"
     ]
    },
    {
     "name": "stdout",
     "output_type": "stream",
     "text": [
      "(597, 925, 3) (597, 925)\n",
      "4N 195\n"
     ]
    },
    {
     "name": "stderr",
     "output_type": "stream",
     "text": [
      "Load pre-computed features: 0.59 seconds\n",
      "Not using image_cache.\n"
     ]
    },
    {
     "name": "stdout",
     "output_type": "stream",
     "text": [
      "/data/CSHL_data_processed/CHATM2/CHATM2_prep2_raw_NtbNormalizedAdaptiveInvertedGammaJpeg/CHATM2_slide64_2018_02_15-S3_prep2_raw_NtbNormalizedAdaptiveInvertedGammaJpeg.jpg\n"
     ]
    },
    {
     "name": "stderr",
     "output_type": "stream",
     "text": [
      "Load background image: 2.46 seconds\n",
      "Rescale background image to output resolution: 0.14 seconds\n",
      "Predict scores 4N: 0.01 seconds\n",
      "Resample scoremap 4N: 0.09 seconds\n",
      "Load and rescale background image: 0.00 seconds\n",
      "Generate scoremap overlay: 0.05 seconds.\n",
      "Scoremap size does not match background image size. Need to resize: 0.08 seconds.\n",
      "Generate scoremap overlay image 4N: 0.16 seconds\n",
      "locate patches: 0.02 seconds\n"
     ]
    },
    {
     "name": "stdout",
     "output_type": "stream",
     "text": [
      "(597, 925, 3) (597, 925)\n",
      "4N 197\n"
     ]
    },
    {
     "name": "stderr",
     "output_type": "stream",
     "text": [
      "Load pre-computed features: 0.61 seconds\n",
      "Not using image_cache.\n"
     ]
    },
    {
     "name": "stdout",
     "output_type": "stream",
     "text": [
      "/data/CSHL_data_processed/CHATM2/CHATM2_prep2_raw_NtbNormalizedAdaptiveInvertedGammaJpeg/CHATM2_slide66_2018_02_14-S1_prep2_raw_NtbNormalizedAdaptiveInvertedGammaJpeg.jpg\n"
     ]
    },
    {
     "name": "stderr",
     "output_type": "stream",
     "text": [
      "Load background image: 2.49 seconds\n",
      "Rescale background image to output resolution: 0.14 seconds\n",
      "Predict scores 4N: 0.01 seconds\n",
      "Resample scoremap 4N: 0.09 seconds\n",
      "Load and rescale background image: 0.00 seconds\n",
      "Generate scoremap overlay: 0.05 seconds.\n",
      "Scoremap size does not match background image size. Need to resize: 0.08 seconds.\n",
      "Generate scoremap overlay image 4N: 0.16 seconds\n",
      "locate patches: 0.02 seconds\n"
     ]
    },
    {
     "name": "stdout",
     "output_type": "stream",
     "text": [
      "(597, 925, 3) (597, 925)\n",
      "4N 199\n"
     ]
    },
    {
     "name": "stderr",
     "output_type": "stream",
     "text": [
      "Load pre-computed features: 0.66 seconds\n",
      "Not using image_cache.\n"
     ]
    },
    {
     "name": "stdout",
     "output_type": "stream",
     "text": [
      "/data/CSHL_data_processed/CHATM2/CHATM2_prep2_raw_NtbNormalizedAdaptiveInvertedGammaJpeg/CHATM2_slide66_2018_02_14-S2_prep2_raw_NtbNormalizedAdaptiveInvertedGammaJpeg.jpg\n"
     ]
    },
    {
     "name": "stderr",
     "output_type": "stream",
     "text": [
      "Load background image: 2.59 seconds\n",
      "Rescale background image to output resolution: 0.13 seconds\n",
      "Predict scores 4N: 0.01 seconds\n",
      "Resample scoremap 4N: 0.09 seconds\n",
      "Load and rescale background image: 0.00 seconds\n",
      "Generate scoremap overlay: 0.05 seconds.\n",
      "Scoremap size does not match background image size. Need to resize: 0.09 seconds.\n",
      "Generate scoremap overlay image 4N: 0.17 seconds\n",
      "locate patches: 0.02 seconds\n"
     ]
    },
    {
     "name": "stdout",
     "output_type": "stream",
     "text": [
      "(597, 925, 3) (597, 925)\n",
      "4N 201\n"
     ]
    },
    {
     "name": "stderr",
     "output_type": "stream",
     "text": [
      "Load pre-computed features: 0.62 seconds\n",
      "Not using image_cache.\n"
     ]
    },
    {
     "name": "stdout",
     "output_type": "stream",
     "text": [
      "/data/CSHL_data_processed/CHATM2/CHATM2_prep2_raw_NtbNormalizedAdaptiveInvertedGammaJpeg/CHATM2_slide66_2018_02_14-S3_prep2_raw_NtbNormalizedAdaptiveInvertedGammaJpeg.jpg\n"
     ]
    },
    {
     "name": "stderr",
     "output_type": "stream",
     "text": [
      "Load background image: 2.43 seconds\n",
      "Rescale background image to output resolution: 0.13 seconds\n",
      "Predict scores 4N: 0.01 seconds\n",
      "Resample scoremap 4N: 0.09 seconds\n",
      "Load and rescale background image: 0.00 seconds\n",
      "Generate scoremap overlay: 0.05 seconds.\n",
      "Scoremap size does not match background image size. Need to resize: 0.08 seconds.\n",
      "Generate scoremap overlay image 4N: 0.15 seconds\n",
      "locate patches: 0.02 seconds\n"
     ]
    },
    {
     "name": "stdout",
     "output_type": "stream",
     "text": [
      "(597, 925, 3) (597, 925)\n",
      "4N 203\n"
     ]
    },
    {
     "name": "stderr",
     "output_type": "stream",
     "text": [
      "Load pre-computed features: 0.67 seconds\n",
      "Not using image_cache.\n"
     ]
    },
    {
     "name": "stdout",
     "output_type": "stream",
     "text": [
      "/data/CSHL_data_processed/CHATM2/CHATM2_prep2_raw_NtbNormalizedAdaptiveInvertedGammaJpeg/CHATM2_slide68_2018_02_14-S1_prep2_raw_NtbNormalizedAdaptiveInvertedGammaJpeg.jpg\n"
     ]
    },
    {
     "name": "stderr",
     "output_type": "stream",
     "text": [
      "Load background image: 2.53 seconds\n",
      "Rescale background image to output resolution: 0.13 seconds\n",
      "Predict scores 4N: 0.01 seconds\n",
      "Resample scoremap 4N: 0.09 seconds\n",
      "Load and rescale background image: 0.00 seconds\n",
      "Generate scoremap overlay: 0.05 seconds.\n",
      "Scoremap size does not match background image size. Need to resize: 0.08 seconds.\n",
      "Generate scoremap overlay image 4N: 0.15 seconds\n",
      "locate patches: 0.02 seconds\n"
     ]
    },
    {
     "name": "stdout",
     "output_type": "stream",
     "text": [
      "(597, 925, 3) (597, 925)\n",
      "4N 205\n"
     ]
    },
    {
     "name": "stderr",
     "output_type": "stream",
     "text": [
      "Load pre-computed features: 0.62 seconds\n",
      "Not using image_cache.\n"
     ]
    },
    {
     "name": "stdout",
     "output_type": "stream",
     "text": [
      "/data/CSHL_data_processed/CHATM2/CHATM2_prep2_raw_NtbNormalizedAdaptiveInvertedGammaJpeg/CHATM2_slide68_2018_02_14-S2_prep2_raw_NtbNormalizedAdaptiveInvertedGammaJpeg.jpg\n"
     ]
    },
    {
     "name": "stderr",
     "output_type": "stream",
     "text": [
      "Load background image: 2.46 seconds\n",
      "Rescale background image to output resolution: 0.13 seconds\n",
      "Predict scores 4N: 0.00 seconds\n",
      "Resample scoremap 4N: 0.09 seconds\n",
      "Load and rescale background image: 0.00 seconds\n",
      "Generate scoremap overlay: 0.05 seconds.\n",
      "Scoremap size does not match background image size. Need to resize: 0.08 seconds.\n",
      "Generate scoremap overlay image 4N: 0.15 seconds\n",
      "locate patches: 0.02 seconds\n"
     ]
    },
    {
     "name": "stdout",
     "output_type": "stream",
     "text": [
      "(597, 925, 3) (597, 925)\n",
      "4N 209\n"
     ]
    },
    {
     "name": "stderr",
     "output_type": "stream",
     "text": [
      "Load pre-computed features: 0.71 seconds\n",
      "Not using image_cache.\n"
     ]
    },
    {
     "name": "stdout",
     "output_type": "stream",
     "text": [
      "/data/CSHL_data_processed/CHATM2/CHATM2_prep2_raw_NtbNormalizedAdaptiveInvertedGammaJpeg/CHATM2_slide70_2018_02_14-S1_prep2_raw_NtbNormalizedAdaptiveInvertedGammaJpeg.jpg\n"
     ]
    },
    {
     "name": "stderr",
     "output_type": "stream",
     "text": [
      "Load background image: 2.54 seconds\n",
      "Rescale background image to output resolution: 0.14 seconds\n",
      "Predict scores 4N: 0.01 seconds\n",
      "Resample scoremap 4N: 0.06 seconds\n",
      "Load and rescale background image: 0.00 seconds\n",
      "Generate scoremap overlay: 0.05 seconds.\n",
      "Scoremap size does not match background image size. Need to resize: 0.08 seconds.\n"
     ]
    },
    {
     "name": "stdout",
     "output_type": "stream",
     "text": [
      "(597, 925, 3) (597, 925)\n",
      "4N 211\n"
     ]
    },
    {
     "name": "stderr",
     "output_type": "stream",
     "text": [
      "Generate scoremap overlay image 4N: 0.16 seconds\n",
      "locate patches: 0.02 seconds\n",
      "Load pre-computed features: 0.63 seconds\n",
      "Not using image_cache.\n"
     ]
    },
    {
     "name": "stdout",
     "output_type": "stream",
     "text": [
      "/data/CSHL_data_processed/CHATM2/CHATM2_prep2_raw_NtbNormalizedAdaptiveInvertedGammaJpeg/CHATM2_slide70_2018_02_14-S2_prep2_raw_NtbNormalizedAdaptiveInvertedGammaJpeg.jpg\n"
     ]
    },
    {
     "name": "stderr",
     "output_type": "stream",
     "text": [
      "Load background image: 2.44 seconds\n",
      "Rescale background image to output resolution: 0.14 seconds\n",
      "Predict scores 4N: 0.01 seconds\n",
      "Resample scoremap 4N: 0.09 seconds\n",
      "Load and rescale background image: 0.00 seconds\n",
      "Generate scoremap overlay: 0.05 seconds.\n",
      "Scoremap size does not match background image size. Need to resize: 0.07 seconds.\n",
      "Generate scoremap overlay image 4N: 0.15 seconds\n",
      "locate patches: 0.02 seconds\n"
     ]
    },
    {
     "name": "stdout",
     "output_type": "stream",
     "text": [
      "(597, 925, 3) (597, 925)\n",
      "4N 213\n"
     ]
    },
    {
     "name": "stderr",
     "output_type": "stream",
     "text": [
      "Load pre-computed features: 0.72 seconds\n",
      "Not using image_cache.\n"
     ]
    },
    {
     "name": "stdout",
     "output_type": "stream",
     "text": [
      "/data/CSHL_data_processed/CHATM2/CHATM2_prep2_raw_NtbNormalizedAdaptiveInvertedGammaJpeg/CHATM2_slide70_2018_02_14-S3_prep2_raw_NtbNormalizedAdaptiveInvertedGammaJpeg.jpg\n"
     ]
    },
    {
     "name": "stderr",
     "output_type": "stream",
     "text": [
      "Load background image: 2.61 seconds\n",
      "Rescale background image to output resolution: 0.14 seconds\n",
      "Predict scores 4N: 0.01 seconds\n",
      "Resample scoremap 4N: 0.09 seconds\n",
      "Load and rescale background image: 0.00 seconds\n",
      "Generate scoremap overlay: 0.05 seconds.\n",
      "Scoremap size does not match background image size. Need to resize: 0.08 seconds.\n",
      "Generate scoremap overlay image 4N: 0.16 seconds\n",
      "locate patches: 0.02 seconds\n"
     ]
    },
    {
     "name": "stdout",
     "output_type": "stream",
     "text": [
      "(597, 925, 3) (597, 925)\n",
      "4N 215\n"
     ]
    },
    {
     "name": "stderr",
     "output_type": "stream",
     "text": [
      "Load pre-computed features: 0.60 seconds\n",
      "Not using image_cache.\n"
     ]
    },
    {
     "name": "stdout",
     "output_type": "stream",
     "text": [
      "/data/CSHL_data_processed/CHATM2/CHATM2_prep2_raw_NtbNormalizedAdaptiveInvertedGammaJpeg/CHATM2_slide72_2018_02_14-S1_prep2_raw_NtbNormalizedAdaptiveInvertedGammaJpeg.jpg\n"
     ]
    },
    {
     "name": "stderr",
     "output_type": "stream",
     "text": [
      "Load background image: 2.47 seconds\n",
      "Rescale background image to output resolution: 0.13 seconds\n",
      "Predict scores 4N: 0.00 seconds\n",
      "Resample scoremap 4N: 0.09 seconds\n",
      "Load and rescale background image: 0.00 seconds\n",
      "Generate scoremap overlay: 0.05 seconds.\n",
      "Scoremap size does not match background image size. Need to resize: 0.08 seconds.\n",
      "Generate scoremap overlay image 4N: 0.15 seconds\n",
      "locate patches: 0.02 seconds\n"
     ]
    },
    {
     "name": "stdout",
     "output_type": "stream",
     "text": [
      "(597, 925, 3) (597, 925)\n",
      "4N 217\n"
     ]
    },
    {
     "name": "stderr",
     "output_type": "stream",
     "text": [
      "Load pre-computed features: 0.68 seconds\n",
      "Not using image_cache.\n"
     ]
    },
    {
     "name": "stdout",
     "output_type": "stream",
     "text": [
      "/data/CSHL_data_processed/CHATM2/CHATM2_prep2_raw_NtbNormalizedAdaptiveInvertedGammaJpeg/CHATM2_slide72_2018_02_14-S2_prep2_raw_NtbNormalizedAdaptiveInvertedGammaJpeg.jpg\n"
     ]
    },
    {
     "name": "stderr",
     "output_type": "stream",
     "text": [
      "Load background image: 2.43 seconds\n",
      "Rescale background image to output resolution: 0.13 seconds\n",
      "Predict scores 4N: 0.01 seconds\n",
      "Resample scoremap 4N: 0.09 seconds\n",
      "Load and rescale background image: 0.00 seconds\n",
      "Generate scoremap overlay: 0.05 seconds.\n",
      "Scoremap size does not match background image size. Need to resize: 0.08 seconds.\n",
      "Generate scoremap overlay image 4N: 0.15 seconds\n",
      "locate patches: 0.02 seconds\n"
     ]
    },
    {
     "name": "stdout",
     "output_type": "stream",
     "text": [
      "(597, 925, 3) (597, 925)\n",
      "4N 219\n"
     ]
    },
    {
     "name": "stderr",
     "output_type": "stream",
     "text": [
      "Load pre-computed features: 0.65 seconds\n",
      "Not using image_cache.\n"
     ]
    },
    {
     "name": "stdout",
     "output_type": "stream",
     "text": [
      "/data/CSHL_data_processed/CHATM2/CHATM2_prep2_raw_NtbNormalizedAdaptiveInvertedGammaJpeg/CHATM2_slide72_2018_02_14-S3_prep2_raw_NtbNormalizedAdaptiveInvertedGammaJpeg.jpg\n"
     ]
    },
    {
     "name": "stderr",
     "output_type": "stream",
     "text": [
      "Load background image: 2.45 seconds\n",
      "Rescale background image to output resolution: 0.13 seconds\n",
      "Predict scores 4N: 0.01 seconds\n",
      "Resample scoremap 4N: 0.06 seconds\n",
      "Load and rescale background image: 0.00 seconds\n",
      "Generate scoremap overlay: 0.05 seconds.\n",
      "Scoremap size does not match background image size. Need to resize: 0.08 seconds.\n"
     ]
    },
    {
     "name": "stdout",
     "output_type": "stream",
     "text": [
      "(597, 925, 3) (597, 925)\n",
      "4N 221\n"
     ]
    },
    {
     "name": "stderr",
     "output_type": "stream",
     "text": [
      "Generate scoremap overlay image 4N: 0.16 seconds\n",
      "locate patches: 0.02 seconds\n",
      "Load pre-computed features: 0.62 seconds\n",
      "Not using image_cache.\n"
     ]
    },
    {
     "name": "stdout",
     "output_type": "stream",
     "text": [
      "/data/CSHL_data_processed/CHATM2/CHATM2_prep2_raw_NtbNormalizedAdaptiveInvertedGammaJpeg/CHATM2_slide74_2018_02_14-S1_prep2_raw_NtbNormalizedAdaptiveInvertedGammaJpeg.jpg\n"
     ]
    },
    {
     "name": "stderr",
     "output_type": "stream",
     "text": [
      "Load background image: 2.44 seconds\n",
      "Rescale background image to output resolution: 0.13 seconds\n",
      "Predict scores 4N: 0.01 seconds\n",
      "Resample scoremap 4N: 0.06 seconds\n",
      "Load and rescale background image: 0.00 seconds\n",
      "Generate scoremap overlay: 0.05 seconds.\n",
      "Scoremap size does not match background image size. Need to resize: 0.07 seconds.\n"
     ]
    },
    {
     "name": "stdout",
     "output_type": "stream",
     "text": [
      "(597, 925, 3) (597, 925)\n",
      "5N 71\n"
     ]
    },
    {
     "name": "stderr",
     "output_type": "stream",
     "text": [
      "Generate scoremap overlay image 4N: 0.15 seconds\n",
      "locate patches: 0.24 seconds\n",
      "Load pre-computed features: 0.63 seconds\n",
      "Not using image_cache.\n"
     ]
    },
    {
     "name": "stdout",
     "output_type": "stream",
     "text": [
      "/data/CSHL_data_processed/CHATM2/CHATM2_prep2_raw_NtbNormalizedAdaptiveInvertedGammaJpeg/CHATM2_slide23_2018_01_18-S3_prep2_raw_NtbNormalizedAdaptiveInvertedGammaJpeg.jpg\n"
     ]
    },
    {
     "name": "stderr",
     "output_type": "stream",
     "text": [
      "Load background image: 2.14 seconds\n",
      "Rescale background image to output resolution: 0.29 seconds\n",
      "Predict scores 5N: 0.01 seconds\n",
      "Resample scoremap 5N: 0.09 seconds\n",
      "Load and rescale background image: 0.00 seconds\n",
      "Generate scoremap overlay: 0.08 seconds.\n",
      "Scoremap size does not match background image size. Need to resize: 0.08 seconds.\n",
      "Generate scoremap overlay image 5N: 0.19 seconds\n",
      "locate patches: 0.02 seconds\n"
     ]
    },
    {
     "name": "stdout",
     "output_type": "stream",
     "text": [
      "(597, 925, 3) (597, 925)\n",
      "5N 72\n"
     ]
    },
    {
     "name": "stderr",
     "output_type": "stream",
     "text": [
      "Load pre-computed features: 0.48 seconds\n",
      "Not using image_cache.\n"
     ]
    },
    {
     "name": "stdout",
     "output_type": "stream",
     "text": [
      "/data/CSHL_data_processed/CHATM2/CHATM2_prep2_raw_NtbNormalizedAdaptiveInvertedGammaJpeg/CHATM2_slide24_2018_01_18-S3_prep2_raw_NtbNormalizedAdaptiveInvertedGammaJpeg.jpg\n"
     ]
    },
    {
     "name": "stderr",
     "output_type": "stream",
     "text": [
      "Load background image: 2.16 seconds\n",
      "Rescale background image to output resolution: 0.31 seconds\n",
      "Predict scores 5N: 0.02 seconds\n",
      "Resample scoremap 5N: 0.06 seconds\n",
      "Load and rescale background image: 0.00 seconds\n",
      "Generate scoremap overlay: 0.05 seconds.\n",
      "Scoremap size does not match background image size. Need to resize: 0.08 seconds.\n"
     ]
    },
    {
     "name": "stdout",
     "output_type": "stream",
     "text": [
      "(597, 925, 3) (597, 925)\n",
      "5N 73\n"
     ]
    },
    {
     "name": "stderr",
     "output_type": "stream",
     "text": [
      "Generate scoremap overlay image 5N: 0.17 seconds\n",
      "locate patches: 0.04 seconds\n",
      "Load pre-computed features: 0.94 seconds\n",
      "Not using image_cache.\n"
     ]
    },
    {
     "name": "stdout",
     "output_type": "stream",
     "text": [
      "/data/CSHL_data_processed/CHATM2/CHATM2_prep2_raw_NtbNormalizedAdaptiveInvertedGammaJpeg/CHATM2_slide25_2018_01_18-S1_prep2_raw_NtbNormalizedAdaptiveInvertedGammaJpeg.jpg\n"
     ]
    },
    {
     "name": "stderr",
     "output_type": "stream",
     "text": [
      "Load background image: 2.27 seconds\n",
      "Rescale background image to output resolution: 0.30 seconds\n",
      "Predict scores 5N: 0.01 seconds\n",
      "Resample scoremap 5N: 0.06 seconds\n",
      "Load and rescale background image: 0.00 seconds\n",
      "Generate scoremap overlay: 0.05 seconds.\n",
      "Scoremap size does not match background image size. Need to resize: 0.08 seconds.\n"
     ]
    },
    {
     "name": "stdout",
     "output_type": "stream",
     "text": [
      "(597, 925, 3) (597, 925)\n",
      "5N 74\n"
     ]
    },
    {
     "name": "stderr",
     "output_type": "stream",
     "text": [
      "Generate scoremap overlay image 5N: 0.16 seconds\n",
      "locate patches: 0.05 seconds\n",
      "Load pre-computed features: 0.90 seconds\n",
      "Not using image_cache.\n"
     ]
    },
    {
     "name": "stdout",
     "output_type": "stream",
     "text": [
      "/data/CSHL_data_processed/CHATM2/CHATM2_prep2_raw_NtbNormalizedAdaptiveInvertedGammaJpeg/CHATM2_slide26_2018_01_18-S1_prep2_raw_NtbNormalizedAdaptiveInvertedGammaJpeg.jpg\n"
     ]
    },
    {
     "name": "stderr",
     "output_type": "stream",
     "text": [
      "Load background image: 2.20 seconds\n",
      "Rescale background image to output resolution: 0.31 seconds\n",
      "Predict scores 5N: 0.01 seconds\n",
      "Resample scoremap 5N: 0.09 seconds\n",
      "Load and rescale background image: 0.00 seconds\n",
      "Generate scoremap overlay: 0.05 seconds.\n",
      "Scoremap size does not match background image size. Need to resize: 0.09 seconds.\n",
      "Generate scoremap overlay image 5N: 0.17 seconds\n",
      "locate patches: 0.04 seconds\n"
     ]
    },
    {
     "name": "stdout",
     "output_type": "stream",
     "text": [
      "(597, 925, 3) (597, 925)\n",
      "5N 75\n"
     ]
    },
    {
     "name": "stderr",
     "output_type": "stream",
     "text": [
      "Load pre-computed features: 0.93 seconds\n",
      "Not using image_cache.\n"
     ]
    },
    {
     "name": "stdout",
     "output_type": "stream",
     "text": [
      "/data/CSHL_data_processed/CHATM2/CHATM2_prep2_raw_NtbNormalizedAdaptiveInvertedGammaJpeg/CHATM2_slide25_2018_01_18-S2_prep2_raw_NtbNormalizedAdaptiveInvertedGammaJpeg.jpg\n"
     ]
    },
    {
     "name": "stderr",
     "output_type": "stream",
     "text": [
      "Load background image: 2.20 seconds\n",
      "Rescale background image to output resolution: 0.29 seconds\n",
      "Predict scores 5N: 0.02 seconds\n",
      "Resample scoremap 5N: 0.09 seconds\n",
      "Load and rescale background image: 0.00 seconds\n",
      "Generate scoremap overlay: 0.06 seconds.\n",
      "Scoremap size does not match background image size. Need to resize: 0.08 seconds.\n",
      "Generate scoremap overlay image 5N: 0.17 seconds\n",
      "locate patches: 0.05 seconds\n"
     ]
    },
    {
     "name": "stdout",
     "output_type": "stream",
     "text": [
      "(597, 925, 3) (597, 925)\n",
      "5N 76\n"
     ]
    },
    {
     "name": "stderr",
     "output_type": "stream",
     "text": [
      "Load pre-computed features: 0.45 seconds\n",
      "Not using image_cache.\n"
     ]
    },
    {
     "name": "stdout",
     "output_type": "stream",
     "text": [
      "/data/CSHL_data_processed/CHATM2/CHATM2_prep2_raw_NtbNormalizedAdaptiveInvertedGammaJpeg/CHATM2_slide26_2018_01_18-S2_prep2_raw_NtbNormalizedAdaptiveInvertedGammaJpeg.jpg\n"
     ]
    },
    {
     "name": "stderr",
     "output_type": "stream",
     "text": [
      "Load background image: 2.16 seconds\n",
      "Rescale background image to output resolution: 0.29 seconds\n",
      "Predict scores 5N: 0.01 seconds\n",
      "Resample scoremap 5N: 0.09 seconds\n",
      "Load and rescale background image: 0.00 seconds\n",
      "Generate scoremap overlay: 0.05 seconds.\n",
      "Scoremap size does not match background image size. Need to resize: 0.08 seconds.\n",
      "Generate scoremap overlay image 5N: 0.16 seconds\n",
      "locate patches: 0.04 seconds\n"
     ]
    },
    {
     "name": "stdout",
     "output_type": "stream",
     "text": [
      "(597, 925, 3) (597, 925)\n",
      "5N 77\n"
     ]
    },
    {
     "name": "stderr",
     "output_type": "stream",
     "text": [
      "Load pre-computed features: 1.06 seconds\n",
      "Not using image_cache.\n"
     ]
    },
    {
     "name": "stdout",
     "output_type": "stream",
     "text": [
      "/data/CSHL_data_processed/CHATM2/CHATM2_prep2_raw_NtbNormalizedAdaptiveInvertedGammaJpeg/CHATM2_slide25_2018_01_18-S3_prep2_raw_NtbNormalizedAdaptiveInvertedGammaJpeg.jpg\n"
     ]
    },
    {
     "name": "stderr",
     "output_type": "stream",
     "text": [
      "Load background image: 2.39 seconds\n",
      "Rescale background image to output resolution: 0.30 seconds\n",
      "Predict scores 5N: 0.01 seconds\n",
      "Resample scoremap 5N: 0.10 seconds\n",
      "Load and rescale background image: 0.00 seconds\n",
      "Generate scoremap overlay: 0.05 seconds.\n",
      "Scoremap size does not match background image size. Need to resize: 0.08 seconds.\n",
      "Generate scoremap overlay image 5N: 0.17 seconds\n",
      "locate patches: 0.05 seconds\n"
     ]
    },
    {
     "name": "stdout",
     "output_type": "stream",
     "text": [
      "(597, 925, 3) (597, 925)\n",
      "5N 78\n"
     ]
    },
    {
     "name": "stderr",
     "output_type": "stream",
     "text": [
      "Load pre-computed features: 0.50 seconds\n",
      "Not using image_cache.\n"
     ]
    },
    {
     "name": "stdout",
     "output_type": "stream",
     "text": [
      "/data/CSHL_data_processed/CHATM2/CHATM2_prep2_raw_NtbNormalizedAdaptiveInvertedGammaJpeg/CHATM2_slide26_2018_01_18-S3_prep2_raw_NtbNormalizedAdaptiveInvertedGammaJpeg.jpg\n"
     ]
    },
    {
     "name": "stderr",
     "output_type": "stream",
     "text": [
      "Load background image: 2.20 seconds\n",
      "Rescale background image to output resolution: 0.29 seconds\n",
      "Predict scores 5N: 0.01 seconds\n",
      "Resample scoremap 5N: 0.09 seconds\n",
      "Load and rescale background image: 0.00 seconds\n",
      "Generate scoremap overlay: 0.05 seconds.\n",
      "Scoremap size does not match background image size. Need to resize: 0.08 seconds.\n",
      "Generate scoremap overlay image 5N: 0.15 seconds\n",
      "locate patches: 0.04 seconds\n"
     ]
    },
    {
     "name": "stdout",
     "output_type": "stream",
     "text": [
      "(597, 925, 3) (597, 925)\n",
      "5N 79\n"
     ]
    },
    {
     "name": "stderr",
     "output_type": "stream",
     "text": [
      "Load pre-computed features: 0.94 seconds\n",
      "Not using image_cache.\n"
     ]
    },
    {
     "name": "stdout",
     "output_type": "stream",
     "text": [
      "/data/CSHL_data_processed/CHATM2/CHATM2_prep2_raw_NtbNormalizedAdaptiveInvertedGammaJpeg/CHATM2_slide27_2018_01_18-S1_prep2_raw_NtbNormalizedAdaptiveInvertedGammaJpeg.jpg\n"
     ]
    },
    {
     "name": "stderr",
     "output_type": "stream",
     "text": [
      "Load background image: 2.30 seconds\n",
      "Rescale background image to output resolution: 0.31 seconds\n",
      "Predict scores 5N: 0.01 seconds\n",
      "Resample scoremap 5N: 0.09 seconds\n",
      "Load and rescale background image: 0.00 seconds\n",
      "Generate scoremap overlay: 0.05 seconds.\n",
      "Scoremap size does not match background image size. Need to resize: 0.08 seconds.\n",
      "Generate scoremap overlay image 5N: 0.16 seconds\n",
      "locate patches: 0.04 seconds\n"
     ]
    },
    {
     "name": "stdout",
     "output_type": "stream",
     "text": [
      "(597, 925, 3) (597, 925)\n",
      "5N 80\n"
     ]
    },
    {
     "name": "stderr",
     "output_type": "stream",
     "text": [
      "Load pre-computed features: 0.46 seconds\n",
      "Not using image_cache.\n"
     ]
    },
    {
     "name": "stdout",
     "output_type": "stream",
     "text": [
      "/data/CSHL_data_processed/CHATM2/CHATM2_prep2_raw_NtbNormalizedAdaptiveInvertedGammaJpeg/CHATM2_slide28_2018_01_18-S1_prep2_raw_NtbNormalizedAdaptiveInvertedGammaJpeg.jpg\n"
     ]
    },
    {
     "name": "stderr",
     "output_type": "stream",
     "text": [
      "Load background image: 2.32 seconds\n",
      "Rescale background image to output resolution: 0.31 seconds\n",
      "Predict scores 5N: 0.02 seconds\n",
      "Resample scoremap 5N: 0.09 seconds\n",
      "Load and rescale background image: 0.00 seconds\n",
      "Generate scoremap overlay: 0.05 seconds.\n",
      "Scoremap size does not match background image size. Need to resize: 0.08 seconds.\n",
      "Generate scoremap overlay image 5N: 0.16 seconds\n",
      "locate patches: 0.02 seconds\n"
     ]
    },
    {
     "name": "stdout",
     "output_type": "stream",
     "text": [
      "(597, 925, 3) (597, 925)\n",
      "5N 81\n"
     ]
    },
    {
     "name": "stderr",
     "output_type": "stream",
     "text": [
      "Load pre-computed features: 0.94 seconds\n",
      "Not using image_cache.\n"
     ]
    },
    {
     "name": "stdout",
     "output_type": "stream",
     "text": [
      "/data/CSHL_data_processed/CHATM2/CHATM2_prep2_raw_NtbNormalizedAdaptiveInvertedGammaJpeg/CHATM2_slide27_2018_01_18-S2_prep2_raw_NtbNormalizedAdaptiveInvertedGammaJpeg.jpg\n"
     ]
    },
    {
     "name": "stderr",
     "output_type": "stream",
     "text": [
      "Load background image: 2.25 seconds\n",
      "Rescale background image to output resolution: 0.30 seconds\n",
      "Predict scores 5N: 0.01 seconds\n",
      "Resample scoremap 5N: 0.09 seconds\n",
      "Load and rescale background image: 0.00 seconds\n",
      "Generate scoremap overlay: 0.05 seconds.\n",
      "Scoremap size does not match background image size. Need to resize: 0.08 seconds.\n",
      "Generate scoremap overlay image 5N: 0.16 seconds\n",
      "locate patches: 0.02 seconds\n"
     ]
    },
    {
     "name": "stdout",
     "output_type": "stream",
     "text": [
      "(597, 925, 3) (597, 925)\n",
      "5N 82\n"
     ]
    },
    {
     "name": "stderr",
     "output_type": "stream",
     "text": [
      "Load pre-computed features: 0.95 seconds\n",
      "Not using image_cache.\n"
     ]
    },
    {
     "name": "stdout",
     "output_type": "stream",
     "text": [
      "/data/CSHL_data_processed/CHATM2/CHATM2_prep2_raw_NtbNormalizedAdaptiveInvertedGammaJpeg/CHATM2_slide28_2018_01_18-S2_prep2_raw_NtbNormalizedAdaptiveInvertedGammaJpeg.jpg\n"
     ]
    },
    {
     "name": "stderr",
     "output_type": "stream",
     "text": [
      "Load background image: 2.24 seconds\n",
      "Rescale background image to output resolution: 0.29 seconds\n",
      "Predict scores 5N: 0.01 seconds\n",
      "Resample scoremap 5N: 0.09 seconds\n",
      "Load and rescale background image: 0.00 seconds\n",
      "Generate scoremap overlay: 0.05 seconds.\n",
      "Scoremap size does not match background image size. Need to resize: 0.08 seconds.\n",
      "Generate scoremap overlay image 5N: 0.15 seconds\n",
      "locate patches: 0.02 seconds\n"
     ]
    },
    {
     "name": "stdout",
     "output_type": "stream",
     "text": [
      "(597, 925, 3) (597, 925)\n",
      "5N 83\n"
     ]
    },
    {
     "name": "stderr",
     "output_type": "stream",
     "text": [
      "Load pre-computed features: 0.52 seconds\n",
      "Not using image_cache.\n"
     ]
    },
    {
     "name": "stdout",
     "output_type": "stream",
     "text": [
      "/data/CSHL_data_processed/CHATM2/CHATM2_prep2_raw_NtbNormalizedAdaptiveInvertedGammaJpeg/CHATM2_slide27_2018_01_18-S3_prep2_raw_NtbNormalizedAdaptiveInvertedGammaJpeg.jpg\n"
     ]
    },
    {
     "name": "stderr",
     "output_type": "stream",
     "text": [
      "Load background image: 2.33 seconds\n",
      "Rescale background image to output resolution: 0.29 seconds\n",
      "Predict scores 5N: 0.01 seconds\n",
      "Resample scoremap 5N: 0.09 seconds\n",
      "Load and rescale background image: 0.00 seconds\n",
      "Generate scoremap overlay: 0.05 seconds.\n",
      "Scoremap size does not match background image size. Need to resize: 0.08 seconds.\n",
      "Generate scoremap overlay image 5N: 0.15 seconds\n",
      "locate patches: 0.02 seconds\n"
     ]
    },
    {
     "name": "stdout",
     "output_type": "stream",
     "text": [
      "(597, 925, 3) (597, 925)\n",
      "5N 84\n"
     ]
    },
    {
     "name": "stderr",
     "output_type": "stream",
     "text": [
      "Load pre-computed features: 0.76 seconds\n",
      "Not using image_cache.\n"
     ]
    },
    {
     "name": "stdout",
     "output_type": "stream",
     "text": [
      "/data/CSHL_data_processed/CHATM2/CHATM2_prep2_raw_NtbNormalizedAdaptiveInvertedGammaJpeg/CHATM2_slide28_2018_01_18-S3_prep2_raw_NtbNormalizedAdaptiveInvertedGammaJpeg.jpg\n"
     ]
    },
    {
     "name": "stderr",
     "output_type": "stream",
     "text": [
      "Load background image: 2.27 seconds\n",
      "Rescale background image to output resolution: 0.29 seconds\n",
      "Predict scores 5N: 0.01 seconds\n",
      "Resample scoremap 5N: 0.06 seconds\n",
      "Load and rescale background image: 0.00 seconds\n",
      "Generate scoremap overlay: 0.05 seconds.\n",
      "Scoremap size does not match background image size. Need to resize: 0.08 seconds.\n"
     ]
    },
    {
     "name": "stdout",
     "output_type": "stream",
     "text": [
      "(597, 925, 3) (597, 925)\n",
      "5N 85\n"
     ]
    },
    {
     "name": "stderr",
     "output_type": "stream",
     "text": [
      "Generate scoremap overlay image 5N: 0.16 seconds\n",
      "locate patches: 0.02 seconds\n",
      "Load pre-computed features: 0.47 seconds\n",
      "Not using image_cache.\n"
     ]
    },
    {
     "name": "stdout",
     "output_type": "stream",
     "text": [
      "/data/CSHL_data_processed/CHATM2/CHATM2_prep2_raw_NtbNormalizedAdaptiveInvertedGammaJpeg/CHATM2_slide29_2018_01_18-S1_prep2_raw_NtbNormalizedAdaptiveInvertedGammaJpeg.jpg\n"
     ]
    },
    {
     "name": "stderr",
     "output_type": "stream",
     "text": [
      "Load background image: 2.28 seconds\n",
      "Rescale background image to output resolution: 0.30 seconds\n",
      "Predict scores 5N: 0.01 seconds\n",
      "Resample scoremap 5N: 0.09 seconds\n",
      "Load and rescale background image: 0.00 seconds\n",
      "Generate scoremap overlay: 0.05 seconds.\n",
      "Scoremap size does not match background image size. Need to resize: 0.09 seconds.\n",
      "Generate scoremap overlay image 5N: 0.17 seconds\n",
      "locate patches: 0.02 seconds\n"
     ]
    },
    {
     "name": "stdout",
     "output_type": "stream",
     "text": [
      "(597, 925, 3) (597, 925)\n",
      "5N 86\n"
     ]
    },
    {
     "name": "stderr",
     "output_type": "stream",
     "text": [
      "Load pre-computed features: 1.00 seconds\n",
      "Not using image_cache.\n"
     ]
    },
    {
     "name": "stdout",
     "output_type": "stream",
     "text": [
      "/data/CSHL_data_processed/CHATM2/CHATM2_prep2_raw_NtbNormalizedAdaptiveInvertedGammaJpeg/CHATM2_slide30_2018_01_18-S1_prep2_raw_NtbNormalizedAdaptiveInvertedGammaJpeg.jpg\n"
     ]
    },
    {
     "name": "stderr",
     "output_type": "stream",
     "text": [
      "Load background image: 2.24 seconds\n",
      "Rescale background image to output resolution: 0.30 seconds\n",
      "Predict scores 5N: 0.01 seconds\n",
      "Resample scoremap 5N: 0.09 seconds\n",
      "Load and rescale background image: 0.00 seconds\n",
      "Generate scoremap overlay: 0.05 seconds.\n",
      "Scoremap size does not match background image size. Need to resize: 0.08 seconds.\n",
      "Generate scoremap overlay image 5N: 0.16 seconds\n",
      "locate patches: 0.02 seconds\n"
     ]
    },
    {
     "name": "stdout",
     "output_type": "stream",
     "text": [
      "(597, 925, 3) (597, 925)\n",
      "5N 87\n"
     ]
    },
    {
     "name": "stderr",
     "output_type": "stream",
     "text": [
      "Load pre-computed features: 0.48 seconds\n",
      "Not using image_cache.\n"
     ]
    },
    {
     "name": "stdout",
     "output_type": "stream",
     "text": [
      "/data/CSHL_data_processed/CHATM2/CHATM2_prep2_raw_NtbNormalizedAdaptiveInvertedGammaJpeg/CHATM2_slide29_2018_01_18-S2_prep2_raw_NtbNormalizedAdaptiveInvertedGammaJpeg.jpg\n"
     ]
    },
    {
     "name": "stderr",
     "output_type": "stream",
     "text": [
      "Load background image: 2.17 seconds\n",
      "Rescale background image to output resolution: 0.29 seconds\n",
      "Predict scores 5N: 0.01 seconds\n",
      "Resample scoremap 5N: 0.09 seconds\n",
      "Load and rescale background image: 0.00 seconds\n",
      "Generate scoremap overlay: 0.06 seconds.\n",
      "Scoremap size does not match background image size. Need to resize: 0.07 seconds.\n",
      "Generate scoremap overlay image 5N: 0.17 seconds\n",
      "locate patches: 0.02 seconds\n"
     ]
    },
    {
     "name": "stdout",
     "output_type": "stream",
     "text": [
      "(597, 925, 3) (597, 925)\n",
      "5N 88\n"
     ]
    },
    {
     "name": "stderr",
     "output_type": "stream",
     "text": [
      "Load pre-computed features: 0.53 seconds\n",
      "Not using image_cache.\n"
     ]
    },
    {
     "name": "stdout",
     "output_type": "stream",
     "text": [
      "/data/CSHL_data_processed/CHATM2/CHATM2_prep2_raw_NtbNormalizedAdaptiveInvertedGammaJpeg/CHATM2_slide30_2018_01_18-S2_prep2_raw_NtbNormalizedAdaptiveInvertedGammaJpeg.jpg\n"
     ]
    },
    {
     "name": "stderr",
     "output_type": "stream",
     "text": [
      "Load background image: 2.20 seconds\n",
      "Rescale background image to output resolution: 0.30 seconds\n",
      "Predict scores 5N: 0.01 seconds\n",
      "Resample scoremap 5N: 0.09 seconds\n",
      "Load and rescale background image: 0.00 seconds\n",
      "Generate scoremap overlay: 0.05 seconds.\n",
      "Scoremap size does not match background image size. Need to resize: 0.08 seconds.\n",
      "Generate scoremap overlay image 5N: 0.15 seconds\n",
      "locate patches: 0.02 seconds\n"
     ]
    },
    {
     "name": "stdout",
     "output_type": "stream",
     "text": [
      "(597, 925, 3) (597, 925)\n",
      "5N 89\n"
     ]
    },
    {
     "name": "stderr",
     "output_type": "stream",
     "text": [
      "Load pre-computed features: 0.52 seconds\n",
      "Not using image_cache.\n"
     ]
    },
    {
     "name": "stdout",
     "output_type": "stream",
     "text": [
      "/data/CSHL_data_processed/CHATM2/CHATM2_prep2_raw_NtbNormalizedAdaptiveInvertedGammaJpeg/CHATM2_slide29_2018_01_18-S3_prep2_raw_NtbNormalizedAdaptiveInvertedGammaJpeg.jpg\n"
     ]
    },
    {
     "name": "stderr",
     "output_type": "stream",
     "text": [
      "Load background image: 2.30 seconds\n",
      "Rescale background image to output resolution: 0.30 seconds\n",
      "Predict scores 5N: 0.02 seconds\n",
      "Resample scoremap 5N: 0.09 seconds\n",
      "Load and rescale background image: 0.00 seconds\n",
      "Generate scoremap overlay: 0.08 seconds.\n",
      "Scoremap size does not match background image size. Need to resize: 0.08 seconds.\n",
      "Generate scoremap overlay image 5N: 0.18 seconds\n",
      "locate patches: 0.02 seconds\n"
     ]
    },
    {
     "name": "stdout",
     "output_type": "stream",
     "text": [
      "(597, 925, 3) (597, 925)\n",
      "5N 90\n"
     ]
    },
    {
     "name": "stderr",
     "output_type": "stream",
     "text": [
      "Load pre-computed features: 0.49 seconds\n",
      "Not using image_cache.\n"
     ]
    },
    {
     "name": "stdout",
     "output_type": "stream",
     "text": [
      "/data/CSHL_data_processed/CHATM2/CHATM2_prep2_raw_NtbNormalizedAdaptiveInvertedGammaJpeg/CHATM2_slide30_2018_01_18-S3_prep2_raw_NtbNormalizedAdaptiveInvertedGammaJpeg.jpg\n"
     ]
    },
    {
     "name": "stderr",
     "output_type": "stream",
     "text": [
      "Load background image: 2.26 seconds\n",
      "Rescale background image to output resolution: 0.29 seconds\n",
      "Predict scores 5N: 0.02 seconds\n",
      "Resample scoremap 5N: 0.09 seconds\n",
      "Load and rescale background image: 0.00 seconds\n",
      "Generate scoremap overlay: 0.05 seconds.\n",
      "Scoremap size does not match background image size. Need to resize: 0.07 seconds.\n",
      "Generate scoremap overlay image 5N: 0.15 seconds\n",
      "locate patches: 0.02 seconds\n"
     ]
    },
    {
     "name": "stdout",
     "output_type": "stream",
     "text": [
      "(597, 925, 3) (597, 925)\n",
      "5N 92\n"
     ]
    },
    {
     "name": "stderr",
     "output_type": "stream",
     "text": [
      "Load pre-computed features: 0.59 seconds\n",
      "Not using image_cache.\n"
     ]
    },
    {
     "name": "stdout",
     "output_type": "stream",
     "text": [
      "/data/CSHL_data_processed/CHATM2/CHATM2_prep2_raw_NtbNormalizedAdaptiveInvertedGammaJpeg/CHATM2_slide32_2018_01_20-S1_prep2_raw_NtbNormalizedAdaptiveInvertedGammaJpeg.jpg\n"
     ]
    },
    {
     "name": "stderr",
     "output_type": "stream",
     "text": [
      "Load background image: 2.14 seconds\n",
      "Rescale background image to output resolution: 0.29 seconds\n",
      "Predict scores 5N: 0.01 seconds\n",
      "Resample scoremap 5N: 0.09 seconds\n",
      "Load and rescale background image: 0.00 seconds\n",
      "Generate scoremap overlay: 0.06 seconds.\n",
      "Scoremap size does not match background image size. Need to resize: 0.08 seconds.\n",
      "Generate scoremap overlay image 5N: 0.17 seconds\n",
      "locate patches: 0.02 seconds\n"
     ]
    },
    {
     "name": "stdout",
     "output_type": "stream",
     "text": [
      "(597, 925, 3) (597, 925)\n",
      "5N 93\n"
     ]
    },
    {
     "name": "stderr",
     "output_type": "stream",
     "text": [
      "Load pre-computed features: 0.49 seconds\n",
      "Not using image_cache.\n"
     ]
    },
    {
     "name": "stdout",
     "output_type": "stream",
     "text": [
      "/data/CSHL_data_processed/CHATM2/CHATM2_prep2_raw_NtbNormalizedAdaptiveInvertedGammaJpeg/CHATM2_slide31_2018_01_19-S2_prep2_raw_NtbNormalizedAdaptiveInvertedGammaJpeg.jpg\n"
     ]
    },
    {
     "name": "stderr",
     "output_type": "stream",
     "text": [
      "Load background image: 2.20 seconds\n",
      "Rescale background image to output resolution: 0.29 seconds\n",
      "Predict scores 5N: 0.02 seconds\n",
      "Resample scoremap 5N: 0.09 seconds\n",
      "Load and rescale background image: 0.00 seconds\n",
      "Generate scoremap overlay: 0.05 seconds.\n",
      "Scoremap size does not match background image size. Need to resize: 0.08 seconds.\n",
      "Generate scoremap overlay image 5N: 0.16 seconds\n",
      "locate patches: 0.02 seconds\n"
     ]
    },
    {
     "name": "stdout",
     "output_type": "stream",
     "text": [
      "(597, 925, 3) (597, 925)\n",
      "5N 94\n"
     ]
    },
    {
     "name": "stderr",
     "output_type": "stream",
     "text": [
      "Load pre-computed features: 0.51 seconds\n",
      "Not using image_cache.\n"
     ]
    },
    {
     "name": "stdout",
     "output_type": "stream",
     "text": [
      "/data/CSHL_data_processed/CHATM2/CHATM2_prep2_raw_NtbNormalizedAdaptiveInvertedGammaJpeg/CHATM2_slide32_2018_01_20-S2_prep2_raw_NtbNormalizedAdaptiveInvertedGammaJpeg.jpg\n"
     ]
    },
    {
     "name": "stderr",
     "output_type": "stream",
     "text": [
      "Load background image: 2.16 seconds\n",
      "Rescale background image to output resolution: 0.29 seconds\n",
      "Predict scores 5N: 0.01 seconds\n",
      "Resample scoremap 5N: 0.09 seconds\n",
      "Load and rescale background image: 0.00 seconds\n",
      "Generate scoremap overlay: 0.05 seconds.\n",
      "Scoremap size does not match background image size. Need to resize: 0.08 seconds.\n",
      "Generate scoremap overlay image 5N: 0.15 seconds\n",
      "locate patches: 0.02 seconds\n"
     ]
    },
    {
     "name": "stdout",
     "output_type": "stream",
     "text": [
      "(597, 925, 3) (597, 925)\n",
      "5N 95\n"
     ]
    },
    {
     "name": "stderr",
     "output_type": "stream",
     "text": [
      "Load pre-computed features: 0.52 seconds\n",
      "Not using image_cache.\n"
     ]
    },
    {
     "name": "stdout",
     "output_type": "stream",
     "text": [
      "/data/CSHL_data_processed/CHATM2/CHATM2_prep2_raw_NtbNormalizedAdaptiveInvertedGammaJpeg/CHATM2_slide31_2018_01_19-S3_prep2_raw_NtbNormalizedAdaptiveInvertedGammaJpeg.jpg\n"
     ]
    },
    {
     "name": "stderr",
     "output_type": "stream",
     "text": [
      "Load background image: 2.37 seconds\n",
      "Rescale background image to output resolution: 0.34 seconds\n",
      "Predict scores 5N: 0.01 seconds\n",
      "Resample scoremap 5N: 0.10 seconds\n",
      "Load and rescale background image: 0.00 seconds\n",
      "Generate scoremap overlay: 0.05 seconds.\n",
      "Scoremap size does not match background image size. Need to resize: 0.08 seconds.\n",
      "Generate scoremap overlay image 5N: 0.16 seconds\n",
      "locate patches: 0.02 seconds\n"
     ]
    },
    {
     "name": "stdout",
     "output_type": "stream",
     "text": [
      "(597, 925, 3) (597, 925)\n",
      "5N 96\n"
     ]
    },
    {
     "name": "stderr",
     "output_type": "stream",
     "text": [
      "Load pre-computed features: 0.54 seconds\n",
      "Not using image_cache.\n"
     ]
    },
    {
     "name": "stdout",
     "output_type": "stream",
     "text": [
      "/data/CSHL_data_processed/CHATM2/CHATM2_prep2_raw_NtbNormalizedAdaptiveInvertedGammaJpeg/CHATM2_slide32_2018_01_20-S3_prep2_raw_NtbNormalizedAdaptiveInvertedGammaJpeg.jpg\n"
     ]
    },
    {
     "name": "stderr",
     "output_type": "stream",
     "text": [
      "Load background image: 2.27 seconds\n",
      "Rescale background image to output resolution: 0.31 seconds\n",
      "Predict scores 5N: 0.01 seconds\n",
      "Resample scoremap 5N: 0.06 seconds\n",
      "Load and rescale background image: 0.00 seconds\n",
      "Generate scoremap overlay: 0.05 seconds.\n",
      "Scoremap size does not match background image size. Need to resize: 0.09 seconds.\n"
     ]
    },
    {
     "name": "stdout",
     "output_type": "stream",
     "text": [
      "(597, 925, 3) (597, 925)\n",
      "5N 97\n"
     ]
    },
    {
     "name": "stderr",
     "output_type": "stream",
     "text": [
      "Generate scoremap overlay image 5N: 0.17 seconds\n",
      "locate patches: 0.02 seconds\n",
      "Load pre-computed features: 0.51 seconds\n",
      "Not using image_cache.\n"
     ]
    },
    {
     "name": "stdout",
     "output_type": "stream",
     "text": [
      "/data/CSHL_data_processed/CHATM2/CHATM2_prep2_raw_NtbNormalizedAdaptiveInvertedGammaJpeg/CHATM2_slide33_2018_01_20-S1_prep2_raw_NtbNormalizedAdaptiveInvertedGammaJpeg.jpg\n"
     ]
    },
    {
     "name": "stderr",
     "output_type": "stream",
     "text": [
      "Load background image: 2.22 seconds\n",
      "Rescale background image to output resolution: 0.29 seconds\n",
      "Predict scores 5N: 0.01 seconds\n",
      "Resample scoremap 5N: 0.06 seconds\n",
      "Load and rescale background image: 0.00 seconds\n",
      "Generate scoremap overlay: 0.05 seconds.\n",
      "Scoremap size does not match background image size. Need to resize: 0.08 seconds.\n"
     ]
    },
    {
     "name": "stdout",
     "output_type": "stream",
     "text": [
      "(597, 925, 3) (597, 925)\n",
      "5N 98\n"
     ]
    },
    {
     "name": "stderr",
     "output_type": "stream",
     "text": [
      "Generate scoremap overlay image 5N: 0.15 seconds\n",
      "locate patches: 0.02 seconds\n",
      "Load pre-computed features: 0.56 seconds\n",
      "Not using image_cache.\n"
     ]
    },
    {
     "name": "stdout",
     "output_type": "stream",
     "text": [
      "/data/CSHL_data_processed/CHATM2/CHATM2_prep2_raw_NtbNormalizedAdaptiveInvertedGammaJpeg/CHATM2_slide34_2018_01_20-S1_prep2_raw_NtbNormalizedAdaptiveInvertedGammaJpeg.jpg\n"
     ]
    },
    {
     "name": "stderr",
     "output_type": "stream",
     "text": [
      "Load background image: 2.28 seconds\n",
      "Rescale background image to output resolution: 0.30 seconds\n",
      "Predict scores 5N: 0.02 seconds\n",
      "Resample scoremap 5N: 0.09 seconds\n",
      "Load and rescale background image: 0.00 seconds\n",
      "Generate scoremap overlay: 0.05 seconds.\n",
      "Scoremap size does not match background image size. Need to resize: 0.08 seconds.\n",
      "Generate scoremap overlay image 5N: 0.15 seconds\n",
      "locate patches: 0.02 seconds\n"
     ]
    },
    {
     "name": "stdout",
     "output_type": "stream",
     "text": [
      "(597, 925, 3) (597, 925)\n",
      "5N 99\n"
     ]
    },
    {
     "name": "stderr",
     "output_type": "stream",
     "text": [
      "Load pre-computed features: 0.49 seconds\n",
      "Not using image_cache.\n"
     ]
    },
    {
     "name": "stdout",
     "output_type": "stream",
     "text": [
      "/data/CSHL_data_processed/CHATM2/CHATM2_prep2_raw_NtbNormalizedAdaptiveInvertedGammaJpeg/CHATM2_slide33_2018_01_20-S2_prep2_raw_NtbNormalizedAdaptiveInvertedGammaJpeg.jpg\n"
     ]
    },
    {
     "name": "stderr",
     "output_type": "stream",
     "text": [
      "Load background image: 2.23 seconds\n",
      "Rescale background image to output resolution: 0.30 seconds\n",
      "Predict scores 5N: 0.01 seconds\n",
      "Resample scoremap 5N: 0.09 seconds\n",
      "Load and rescale background image: 0.00 seconds\n",
      "Generate scoremap overlay: 0.05 seconds.\n",
      "Scoremap size does not match background image size. Need to resize: 0.08 seconds.\n",
      "Generate scoremap overlay image 5N: 0.15 seconds\n",
      "locate patches: 0.02 seconds\n"
     ]
    },
    {
     "name": "stdout",
     "output_type": "stream",
     "text": [
      "(597, 925, 3) (597, 925)\n",
      "5N 100\n"
     ]
    },
    {
     "name": "stderr",
     "output_type": "stream",
     "text": [
      "Load pre-computed features: 0.51 seconds\n",
      "Not using image_cache.\n"
     ]
    },
    {
     "name": "stdout",
     "output_type": "stream",
     "text": [
      "/data/CSHL_data_processed/CHATM2/CHATM2_prep2_raw_NtbNormalizedAdaptiveInvertedGammaJpeg/CHATM2_slide34_2018_01_20-S2_prep2_raw_NtbNormalizedAdaptiveInvertedGammaJpeg.jpg\n"
     ]
    },
    {
     "name": "stderr",
     "output_type": "stream",
     "text": [
      "Load background image: 2.24 seconds\n",
      "Rescale background image to output resolution: 0.30 seconds\n",
      "Predict scores 5N: 0.02 seconds\n",
      "Resample scoremap 5N: 0.06 seconds\n",
      "Load and rescale background image: 0.00 seconds\n",
      "Generate scoremap overlay: 0.05 seconds.\n",
      "Scoremap size does not match background image size. Need to resize: 0.07 seconds.\n"
     ]
    },
    {
     "name": "stdout",
     "output_type": "stream",
     "text": [
      "(597, 925, 3) (597, 925)\n",
      "5N 101\n"
     ]
    },
    {
     "name": "stderr",
     "output_type": "stream",
     "text": [
      "Generate scoremap overlay image 5N: 0.15 seconds\n",
      "locate patches: 0.02 seconds\n",
      "Load pre-computed features: 0.55 seconds\n",
      "Not using image_cache.\n"
     ]
    },
    {
     "name": "stdout",
     "output_type": "stream",
     "text": [
      "/data/CSHL_data_processed/CHATM2/CHATM2_prep2_raw_NtbNormalizedAdaptiveInvertedGammaJpeg/CHATM2_slide33_2018_01_20-S3_prep2_raw_NtbNormalizedAdaptiveInvertedGammaJpeg.jpg\n"
     ]
    },
    {
     "name": "stderr",
     "output_type": "stream",
     "text": [
      "Load background image: 2.36 seconds\n",
      "Rescale background image to output resolution: 0.31 seconds\n",
      "Predict scores 5N: 0.01 seconds\n",
      "Resample scoremap 5N: 0.09 seconds\n",
      "Load and rescale background image: 0.00 seconds\n",
      "Generate scoremap overlay: 0.05 seconds.\n",
      "Scoremap size does not match background image size. Need to resize: 0.08 seconds.\n",
      "Generate scoremap overlay image 5N: 0.15 seconds\n",
      "locate patches: 0.02 seconds\n"
     ]
    },
    {
     "name": "stdout",
     "output_type": "stream",
     "text": [
      "(597, 925, 3) (597, 925)\n",
      "5N 102\n"
     ]
    },
    {
     "name": "stderr",
     "output_type": "stream",
     "text": [
      "Load pre-computed features: 0.50 seconds\n",
      "Not using image_cache.\n"
     ]
    },
    {
     "name": "stdout",
     "output_type": "stream",
     "text": [
      "/data/CSHL_data_processed/CHATM2/CHATM2_prep2_raw_NtbNormalizedAdaptiveInvertedGammaJpeg/CHATM2_slide34_2018_01_20-S3_prep2_raw_NtbNormalizedAdaptiveInvertedGammaJpeg.jpg\n"
     ]
    },
    {
     "name": "stderr",
     "output_type": "stream",
     "text": [
      "Load background image: 2.28 seconds\n",
      "Rescale background image to output resolution: 0.29 seconds\n",
      "Predict scores 5N: 0.02 seconds\n",
      "Resample scoremap 5N: 0.09 seconds\n",
      "Load and rescale background image: 0.00 seconds\n",
      "Generate scoremap overlay: 0.05 seconds.\n",
      "Scoremap size does not match background image size. Need to resize: 0.08 seconds.\n",
      "Generate scoremap overlay image 5N: 0.15 seconds\n",
      "locate patches: 0.02 seconds\n"
     ]
    },
    {
     "name": "stdout",
     "output_type": "stream",
     "text": [
      "(597, 925, 3) (597, 925)\n",
      "5N 103\n"
     ]
    },
    {
     "name": "stderr",
     "output_type": "stream",
     "text": [
      "Load pre-computed features: 0.57 seconds\n",
      "Not using image_cache.\n"
     ]
    },
    {
     "name": "stdout",
     "output_type": "stream",
     "text": [
      "/data/CSHL_data_processed/CHATM2/CHATM2_prep2_raw_NtbNormalizedAdaptiveInvertedGammaJpeg/CHATM2_slide35_2018_01_20-S1_prep2_raw_NtbNormalizedAdaptiveInvertedGammaJpeg.jpg\n"
     ]
    },
    {
     "name": "stderr",
     "output_type": "stream",
     "text": [
      "Load background image: 2.37 seconds\n",
      "Rescale background image to output resolution: 0.30 seconds\n",
      "Predict scores 5N: 0.01 seconds\n",
      "Resample scoremap 5N: 0.09 seconds\n",
      "Load and rescale background image: 0.00 seconds\n",
      "Generate scoremap overlay: 0.05 seconds.\n",
      "Scoremap size does not match background image size. Need to resize: 0.08 seconds.\n",
      "Generate scoremap overlay image 5N: 0.16 seconds\n",
      "locate patches: 0.02 seconds\n"
     ]
    },
    {
     "name": "stdout",
     "output_type": "stream",
     "text": [
      "(597, 925, 3) (597, 925)\n",
      "5N 104\n"
     ]
    },
    {
     "name": "stderr",
     "output_type": "stream",
     "text": [
      "Load pre-computed features: 0.52 seconds\n",
      "Not using image_cache.\n"
     ]
    },
    {
     "name": "stdout",
     "output_type": "stream",
     "text": [
      "/data/CSHL_data_processed/CHATM2/CHATM2_prep2_raw_NtbNormalizedAdaptiveInvertedGammaJpeg/CHATM2_slide36_2018_01_22-S1_prep2_raw_NtbNormalizedAdaptiveInvertedGammaJpeg.jpg\n"
     ]
    },
    {
     "name": "stderr",
     "output_type": "stream",
     "text": [
      "Load background image: 2.23 seconds\n",
      "Rescale background image to output resolution: 0.29 seconds\n",
      "Predict scores 5N: 0.01 seconds\n",
      "Resample scoremap 5N: 0.09 seconds\n",
      "Load and rescale background image: 0.00 seconds\n",
      "Generate scoremap overlay: 0.05 seconds.\n",
      "Scoremap size does not match background image size. Need to resize: 0.09 seconds.\n",
      "Generate scoremap overlay image 5N: 0.17 seconds\n",
      "locate patches: 0.02 seconds\n"
     ]
    },
    {
     "name": "stdout",
     "output_type": "stream",
     "text": [
      "(597, 925, 3) (597, 925)\n",
      "5N 105\n"
     ]
    },
    {
     "name": "stderr",
     "output_type": "stream",
     "text": [
      "Load pre-computed features: 0.58 seconds\n",
      "Not using image_cache.\n"
     ]
    },
    {
     "name": "stdout",
     "output_type": "stream",
     "text": [
      "/data/CSHL_data_processed/CHATM2/CHATM2_prep2_raw_NtbNormalizedAdaptiveInvertedGammaJpeg/CHATM2_slide35_2018_01_20-S2_prep2_raw_NtbNormalizedAdaptiveInvertedGammaJpeg.jpg\n"
     ]
    },
    {
     "name": "stderr",
     "output_type": "stream",
     "text": [
      "Load background image: 2.29 seconds\n",
      "Rescale background image to output resolution: 0.29 seconds\n",
      "Predict scores 5N: 0.01 seconds\n",
      "Resample scoremap 5N: 0.09 seconds\n",
      "Load and rescale background image: 0.00 seconds\n",
      "Generate scoremap overlay: 0.05 seconds.\n",
      "Scoremap size does not match background image size. Need to resize: 0.08 seconds.\n",
      "Generate scoremap overlay image 5N: 0.16 seconds\n",
      "locate patches: 0.02 seconds\n"
     ]
    },
    {
     "name": "stdout",
     "output_type": "stream",
     "text": [
      "(597, 925, 3) (597, 925)\n",
      "5N 106\n"
     ]
    },
    {
     "name": "stderr",
     "output_type": "stream",
     "text": [
      "Load pre-computed features: 0.55 seconds\n",
      "Not using image_cache.\n"
     ]
    },
    {
     "name": "stdout",
     "output_type": "stream",
     "text": [
      "/data/CSHL_data_processed/CHATM2/CHATM2_prep2_raw_NtbNormalizedAdaptiveInvertedGammaJpeg/CHATM2_slide36_2018_01_22-S2_prep2_raw_NtbNormalizedAdaptiveInvertedGammaJpeg.jpg\n"
     ]
    },
    {
     "name": "stderr",
     "output_type": "stream",
     "text": [
      "Load background image: 2.31 seconds\n",
      "Rescale background image to output resolution: 0.31 seconds\n",
      "Predict scores 5N: 0.01 seconds\n",
      "Resample scoremap 5N: 0.09 seconds\n",
      "Load and rescale background image: 0.00 seconds\n",
      "Generate scoremap overlay: 0.05 seconds.\n",
      "Scoremap size does not match background image size. Need to resize: 0.08 seconds.\n",
      "Generate scoremap overlay image 5N: 0.17 seconds\n",
      "locate patches: 0.02 seconds\n"
     ]
    },
    {
     "name": "stdout",
     "output_type": "stream",
     "text": [
      "(597, 925, 3) (597, 925)\n",
      "5N 108\n"
     ]
    },
    {
     "name": "stderr",
     "output_type": "stream",
     "text": [
      "Load pre-computed features: 0.52 seconds\n",
      "Not using image_cache.\n"
     ]
    },
    {
     "name": "stdout",
     "output_type": "stream",
     "text": [
      "/data/CSHL_data_processed/CHATM2/CHATM2_prep2_raw_NtbNormalizedAdaptiveInvertedGammaJpeg/CHATM2_slide36_2018_01_22-S3_prep2_raw_NtbNormalizedAdaptiveInvertedGammaJpeg.jpg\n"
     ]
    },
    {
     "name": "stderr",
     "output_type": "stream",
     "text": [
      "Load background image: 2.31 seconds\n",
      "Rescale background image to output resolution: 0.29 seconds\n",
      "Predict scores 5N: 0.01 seconds\n",
      "Resample scoremap 5N: 0.09 seconds\n",
      "Load and rescale background image: 0.00 seconds\n",
      "Generate scoremap overlay: 0.06 seconds.\n",
      "Scoremap size does not match background image size. Need to resize: 0.08 seconds.\n",
      "Generate scoremap overlay image 5N: 0.16 seconds\n",
      "locate patches: 0.02 seconds\n"
     ]
    },
    {
     "name": "stdout",
     "output_type": "stream",
     "text": [
      "(597, 925, 3) (597, 925)\n",
      "5N 109\n"
     ]
    },
    {
     "name": "stderr",
     "output_type": "stream",
     "text": [
      "Load pre-computed features: 0.57 seconds\n",
      "Not using image_cache.\n"
     ]
    },
    {
     "name": "stdout",
     "output_type": "stream",
     "text": [
      "/data/CSHL_data_processed/CHATM2/CHATM2_prep2_raw_NtbNormalizedAdaptiveInvertedGammaJpeg/CHATM2_slide37_2018_01_22-S1_prep2_raw_NtbNormalizedAdaptiveInvertedGammaJpeg.jpg\n"
     ]
    },
    {
     "name": "stderr",
     "output_type": "stream",
     "text": [
      "Load background image: 2.32 seconds\n",
      "Rescale background image to output resolution: 0.30 seconds\n",
      "Predict scores 5N: 0.01 seconds\n",
      "Resample scoremap 5N: 0.09 seconds\n",
      "Load and rescale background image: 0.00 seconds\n",
      "Generate scoremap overlay: 0.05 seconds.\n",
      "Scoremap size does not match background image size. Need to resize: 0.08 seconds.\n",
      "Generate scoremap overlay image 5N: 0.16 seconds\n",
      "locate patches: 0.02 seconds\n"
     ]
    },
    {
     "name": "stdout",
     "output_type": "stream",
     "text": [
      "(597, 925, 3) (597, 925)\n",
      "5N 110\n"
     ]
    },
    {
     "name": "stderr",
     "output_type": "stream",
     "text": [
      "Load pre-computed features: 0.57 seconds\n",
      "Not using image_cache.\n"
     ]
    },
    {
     "name": "stdout",
     "output_type": "stream",
     "text": [
      "/data/CSHL_data_processed/CHATM2/CHATM2_prep2_raw_NtbNormalizedAdaptiveInvertedGammaJpeg/CHATM2_slide38_2018_01_22-S1_prep2_raw_NtbNormalizedAdaptiveInvertedGammaJpeg.jpg\n"
     ]
    },
    {
     "name": "stderr",
     "output_type": "stream",
     "text": [
      "Load background image: 2.36 seconds\n",
      "Rescale background image to output resolution: 0.30 seconds\n",
      "Predict scores 5N: 0.01 seconds\n",
      "Resample scoremap 5N: 0.06 seconds\n",
      "Load and rescale background image: 0.00 seconds\n",
      "Generate scoremap overlay: 0.05 seconds.\n",
      "Scoremap size does not match background image size. Need to resize: 0.09 seconds.\n"
     ]
    },
    {
     "name": "stdout",
     "output_type": "stream",
     "text": [
      "(597, 925, 3) (597, 925)\n",
      "5N 111\n"
     ]
    },
    {
     "name": "stderr",
     "output_type": "stream",
     "text": [
      "Generate scoremap overlay image 5N: 0.17 seconds\n",
      "locate patches: 0.02 seconds\n",
      "Load pre-computed features: 0.52 seconds\n",
      "Not using image_cache.\n"
     ]
    },
    {
     "name": "stdout",
     "output_type": "stream",
     "text": [
      "/data/CSHL_data_processed/CHATM2/CHATM2_prep2_raw_NtbNormalizedAdaptiveInvertedGammaJpeg/CHATM2_slide37_2018_01_22-S2_prep2_raw_NtbNormalizedAdaptiveInvertedGammaJpeg.jpg\n"
     ]
    },
    {
     "name": "stderr",
     "output_type": "stream",
     "text": [
      "Load background image: 2.33 seconds\n",
      "Rescale background image to output resolution: 0.29 seconds\n",
      "Predict scores 5N: 0.01 seconds\n",
      "Resample scoremap 5N: 0.09 seconds\n",
      "Load and rescale background image: 0.00 seconds\n",
      "Generate scoremap overlay: 0.05 seconds.\n",
      "Scoremap size does not match background image size. Need to resize: 0.08 seconds.\n",
      "Generate scoremap overlay image 5N: 0.16 seconds\n",
      "locate patches: 0.02 seconds\n"
     ]
    },
    {
     "name": "stdout",
     "output_type": "stream",
     "text": [
      "(597, 925, 3) (597, 925)\n",
      "5N 112\n"
     ]
    },
    {
     "name": "stderr",
     "output_type": "stream",
     "text": [
      "Load pre-computed features: 0.59 seconds\n",
      "Not using image_cache.\n"
     ]
    },
    {
     "name": "stdout",
     "output_type": "stream",
     "text": [
      "/data/CSHL_data_processed/CHATM2/CHATM2_prep2_raw_NtbNormalizedAdaptiveInvertedGammaJpeg/CHATM2_slide38_2018_01_22-S2_prep2_raw_NtbNormalizedAdaptiveInvertedGammaJpeg.jpg\n"
     ]
    },
    {
     "name": "stderr",
     "output_type": "stream",
     "text": [
      "Load background image: 2.31 seconds\n",
      "Rescale background image to output resolution: 0.30 seconds\n",
      "Predict scores 5N: 0.01 seconds\n",
      "Resample scoremap 5N: 0.09 seconds\n",
      "Load and rescale background image: 0.00 seconds\n",
      "Generate scoremap overlay: 0.05 seconds.\n",
      "Scoremap size does not match background image size. Need to resize: 0.09 seconds.\n",
      "Generate scoremap overlay image 5N: 0.17 seconds\n",
      "locate patches: 0.02 seconds\n"
     ]
    },
    {
     "name": "stdout",
     "output_type": "stream",
     "text": [
      "(597, 925, 3) (597, 925)\n",
      "5N 113\n"
     ]
    },
    {
     "name": "stderr",
     "output_type": "stream",
     "text": [
      "Load pre-computed features: 0.52 seconds\n",
      "Not using image_cache.\n"
     ]
    },
    {
     "name": "stdout",
     "output_type": "stream",
     "text": [
      "/data/CSHL_data_processed/CHATM2/CHATM2_prep2_raw_NtbNormalizedAdaptiveInvertedGammaJpeg/CHATM2_slide37_2018_01_22-S3_prep2_raw_NtbNormalizedAdaptiveInvertedGammaJpeg.jpg\n"
     ]
    },
    {
     "name": "stderr",
     "output_type": "stream",
     "text": [
      "Load background image: 2.36 seconds\n",
      "Rescale background image to output resolution: 0.29 seconds\n",
      "Predict scores 5N: 0.01 seconds\n",
      "Resample scoremap 5N: 0.09 seconds\n",
      "Load and rescale background image: 0.00 seconds\n",
      "Generate scoremap overlay: 0.05 seconds.\n",
      "Scoremap size does not match background image size. Need to resize: 0.08 seconds.\n",
      "Generate scoremap overlay image 5N: 0.17 seconds\n",
      "locate patches: 0.02 seconds\n"
     ]
    },
    {
     "name": "stdout",
     "output_type": "stream",
     "text": [
      "(597, 925, 3) (597, 925)\n",
      "5N 114\n"
     ]
    },
    {
     "name": "stderr",
     "output_type": "stream",
     "text": [
      "Load pre-computed features: 0.60 seconds\n",
      "Not using image_cache.\n"
     ]
    },
    {
     "name": "stdout",
     "output_type": "stream",
     "text": [
      "/data/CSHL_data_processed/CHATM2/CHATM2_prep2_raw_NtbNormalizedAdaptiveInvertedGammaJpeg/CHATM2_slide38_2018_01_22-S3_prep2_raw_NtbNormalizedAdaptiveInvertedGammaJpeg.jpg\n"
     ]
    },
    {
     "name": "stderr",
     "output_type": "stream",
     "text": [
      "Load background image: 2.46 seconds\n",
      "Rescale background image to output resolution: 0.31 seconds\n",
      "Predict scores 5N: 0.01 seconds\n",
      "Resample scoremap 5N: 0.06 seconds\n",
      "Load and rescale background image: 0.00 seconds\n",
      "Generate scoremap overlay: 0.05 seconds.\n",
      "Scoremap size does not match background image size. Need to resize: 0.08 seconds.\n"
     ]
    },
    {
     "name": "stdout",
     "output_type": "stream",
     "text": [
      "(597, 925, 3) (597, 925)\n",
      "5N 115\n"
     ]
    },
    {
     "name": "stderr",
     "output_type": "stream",
     "text": [
      "Generate scoremap overlay image 5N: 0.17 seconds\n",
      "locate patches: 0.02 seconds\n",
      "Load pre-computed features: 0.57 seconds\n",
      "Not using image_cache.\n"
     ]
    },
    {
     "name": "stdout",
     "output_type": "stream",
     "text": [
      "/data/CSHL_data_processed/CHATM2/CHATM2_prep2_raw_NtbNormalizedAdaptiveInvertedGammaJpeg/CHATM2_slide39_2018_01_22-S1_prep2_raw_NtbNormalizedAdaptiveInvertedGammaJpeg.jpg\n"
     ]
    },
    {
     "name": "stderr",
     "output_type": "stream",
     "text": [
      "Load background image: 2.37 seconds\n",
      "Rescale background image to output resolution: 0.29 seconds\n",
      "Predict scores 5N: 0.01 seconds\n",
      "Resample scoremap 5N: 0.06 seconds\n",
      "Load and rescale background image: 0.00 seconds\n",
      "Generate scoremap overlay: 0.05 seconds.\n",
      "Scoremap size does not match background image size. Need to resize: 0.08 seconds.\n"
     ]
    },
    {
     "name": "stdout",
     "output_type": "stream",
     "text": [
      "(597, 925, 3) (597, 925)\n",
      "5N 117\n"
     ]
    },
    {
     "name": "stderr",
     "output_type": "stream",
     "text": [
      "Generate scoremap overlay image 5N: 0.16 seconds\n",
      "locate patches: 0.02 seconds\n",
      "Load pre-computed features: 0.59 seconds\n",
      "Not using image_cache.\n"
     ]
    },
    {
     "name": "stdout",
     "output_type": "stream",
     "text": [
      "/data/CSHL_data_processed/CHATM2/CHATM2_prep2_raw_NtbNormalizedAdaptiveInvertedGammaJpeg/CHATM2_slide39_2018_01_22-S2_prep2_raw_NtbNormalizedAdaptiveInvertedGammaJpeg.jpg\n"
     ]
    },
    {
     "name": "stderr",
     "output_type": "stream",
     "text": [
      "Load background image: 2.49 seconds\n",
      "Rescale background image to output resolution: 0.31 seconds\n",
      "Predict scores 5N: 0.01 seconds\n",
      "Resample scoremap 5N: 0.09 seconds\n",
      "Load and rescale background image: 0.00 seconds\n",
      "Generate scoremap overlay: 0.06 seconds.\n",
      "Scoremap size does not match background image size. Need to resize: 0.08 seconds.\n",
      "Generate scoremap overlay image 5N: 0.17 seconds\n",
      "locate patches: 0.02 seconds\n"
     ]
    },
    {
     "name": "stdout",
     "output_type": "stream",
     "text": [
      "(597, 925, 3) (597, 925)\n",
      "5N 119\n"
     ]
    },
    {
     "name": "stderr",
     "output_type": "stream",
     "text": [
      "Load pre-computed features: 0.59 seconds\n",
      "Not using image_cache.\n"
     ]
    },
    {
     "name": "stdout",
     "output_type": "stream",
     "text": [
      "/data/CSHL_data_processed/CHATM2/CHATM2_prep2_raw_NtbNormalizedAdaptiveInvertedGammaJpeg/CHATM2_slide39_2018_01_22-S3_prep2_raw_NtbNormalizedAdaptiveInvertedGammaJpeg.jpg\n"
     ]
    },
    {
     "name": "stderr",
     "output_type": "stream",
     "text": [
      "Load background image: 2.46 seconds\n",
      "Rescale background image to output resolution: 0.29 seconds\n",
      "Predict scores 5N: 0.02 seconds\n",
      "Resample scoremap 5N: 0.06 seconds\n",
      "Load and rescale background image: 0.00 seconds\n",
      "Generate scoremap overlay: 0.05 seconds.\n",
      "Scoremap size does not match background image size. Need to resize: 0.08 seconds.\n"
     ]
    },
    {
     "name": "stdout",
     "output_type": "stream",
     "text": [
      "(597, 925, 3) (597, 925)\n",
      "5N 121\n"
     ]
    },
    {
     "name": "stderr",
     "output_type": "stream",
     "text": [
      "Generate scoremap overlay image 5N: 0.16 seconds\n",
      "locate patches: 0.02 seconds\n",
      "Load pre-computed features: 0.62 seconds\n",
      "Not using image_cache.\n"
     ]
    },
    {
     "name": "stdout",
     "output_type": "stream",
     "text": [
      "/data/CSHL_data_processed/CHATM2/CHATM2_prep2_raw_NtbNormalizedAdaptiveInvertedGammaJpeg/CHATM2_slide41_2018_01_22-S1_prep2_raw_NtbNormalizedAdaptiveInvertedGammaJpeg.jpg\n"
     ]
    },
    {
     "name": "stderr",
     "output_type": "stream",
     "text": [
      "Load background image: 2.60 seconds\n",
      "Rescale background image to output resolution: 0.31 seconds\n",
      "Predict scores 5N: 0.01 seconds\n",
      "Resample scoremap 5N: 0.06 seconds\n",
      "Load and rescale background image: 0.00 seconds\n",
      "Generate scoremap overlay: 0.05 seconds.\n",
      "Scoremap size does not match background image size. Need to resize: 0.08 seconds.\n"
     ]
    },
    {
     "name": "stdout",
     "output_type": "stream",
     "text": [
      "(597, 925, 3) (597, 925)\n",
      "5N 122\n"
     ]
    },
    {
     "name": "stderr",
     "output_type": "stream",
     "text": [
      "Generate scoremap overlay image 5N: 0.16 seconds\n",
      "locate patches: 0.02 seconds\n",
      "Load pre-computed features: 0.59 seconds\n",
      "Not using image_cache.\n"
     ]
    },
    {
     "name": "stdout",
     "output_type": "stream",
     "text": [
      "/data/CSHL_data_processed/CHATM2/CHATM2_prep2_raw_NtbNormalizedAdaptiveInvertedGammaJpeg/CHATM2_slide42_2018_01_22-S1_prep2_raw_NtbNormalizedAdaptiveInvertedGammaJpeg.jpg\n"
     ]
    },
    {
     "name": "stderr",
     "output_type": "stream",
     "text": [
      "Load background image: 2.75 seconds\n",
      "Rescale background image to output resolution: 0.30 seconds\n",
      "Predict scores 5N: 0.01 seconds\n",
      "Resample scoremap 5N: 0.09 seconds\n",
      "Load and rescale background image: 0.00 seconds\n",
      "Generate scoremap overlay: 0.06 seconds.\n",
      "Scoremap size does not match background image size. Need to resize: 0.08 seconds.\n",
      "Generate scoremap overlay image 5N: 0.17 seconds\n",
      "locate patches: 0.02 seconds\n"
     ]
    },
    {
     "name": "stdout",
     "output_type": "stream",
     "text": [
      "(597, 925, 3) (597, 925)\n",
      "5N 123\n"
     ]
    },
    {
     "name": "stderr",
     "output_type": "stream",
     "text": [
      "Load pre-computed features: 0.59 seconds\n",
      "Not using image_cache.\n"
     ]
    },
    {
     "name": "stdout",
     "output_type": "stream",
     "text": [
      "/data/CSHL_data_processed/CHATM2/CHATM2_prep2_raw_NtbNormalizedAdaptiveInvertedGammaJpeg/CHATM2_slide41_2018_01_22-S2_prep2_raw_NtbNormalizedAdaptiveInvertedGammaJpeg.jpg\n"
     ]
    },
    {
     "name": "stderr",
     "output_type": "stream",
     "text": [
      "Load background image: 2.44 seconds\n",
      "Rescale background image to output resolution: 0.29 seconds\n",
      "Predict scores 5N: 0.01 seconds\n",
      "Resample scoremap 5N: 0.06 seconds\n",
      "Load and rescale background image: 0.00 seconds\n",
      "Generate scoremap overlay: 0.05 seconds.\n",
      "Scoremap size does not match background image size. Need to resize: 0.07 seconds.\n"
     ]
    },
    {
     "name": "stdout",
     "output_type": "stream",
     "text": [
      "(597, 925, 3) (597, 925)\n",
      "5N 124\n"
     ]
    },
    {
     "name": "stderr",
     "output_type": "stream",
     "text": [
      "Generate scoremap overlay image 5N: 0.15 seconds\n",
      "locate patches: 0.02 seconds\n",
      "Load pre-computed features: 0.58 seconds\n",
      "Not using image_cache.\n"
     ]
    },
    {
     "name": "stdout",
     "output_type": "stream",
     "text": [
      "/data/CSHL_data_processed/CHATM2/CHATM2_prep2_raw_NtbNormalizedAdaptiveInvertedGammaJpeg/CHATM2_slide42_2018_01_22-S2_prep2_raw_NtbNormalizedAdaptiveInvertedGammaJpeg.jpg\n"
     ]
    },
    {
     "name": "stderr",
     "output_type": "stream",
     "text": [
      "Load background image: 2.63 seconds\n",
      "Rescale background image to output resolution: 0.31 seconds\n",
      "Predict scores 5N: 0.01 seconds\n",
      "Resample scoremap 5N: 0.09 seconds\n",
      "Load and rescale background image: 0.00 seconds\n",
      "Generate scoremap overlay: 0.05 seconds.\n",
      "Scoremap size does not match background image size. Need to resize: 0.08 seconds.\n",
      "Generate scoremap overlay image 5N: 0.16 seconds\n",
      "locate patches: 0.02 seconds\n"
     ]
    },
    {
     "name": "stdout",
     "output_type": "stream",
     "text": [
      "(597, 925, 3) (597, 925)\n",
      "5N 125\n"
     ]
    },
    {
     "name": "stderr",
     "output_type": "stream",
     "text": [
      "Load pre-computed features: 0.57 seconds\n",
      "Not using image_cache.\n"
     ]
    },
    {
     "name": "stdout",
     "output_type": "stream",
     "text": [
      "/data/CSHL_data_processed/CHATM2/CHATM2_prep2_raw_NtbNormalizedAdaptiveInvertedGammaJpeg/CHATM2_slide41_2018_01_22-S3_prep2_raw_NtbNormalizedAdaptiveInvertedGammaJpeg.jpg\n"
     ]
    },
    {
     "name": "stderr",
     "output_type": "stream",
     "text": [
      "Load background image: 2.51 seconds\n",
      "Rescale background image to output resolution: 0.29 seconds\n",
      "Predict scores 5N: 0.01 seconds\n",
      "Resample scoremap 5N: 0.09 seconds\n",
      "Load and rescale background image: 0.00 seconds\n",
      "Generate scoremap overlay: 0.05 seconds.\n",
      "Scoremap size does not match background image size. Need to resize: 0.08 seconds.\n",
      "Generate scoremap overlay image 5N: 0.15 seconds\n",
      "locate patches: 0.02 seconds\n"
     ]
    },
    {
     "name": "stdout",
     "output_type": "stream",
     "text": [
      "(597, 925, 3) (597, 925)\n",
      "5N 126\n"
     ]
    },
    {
     "name": "stderr",
     "output_type": "stream",
     "text": [
      "Load pre-computed features: 0.55 seconds\n",
      "Not using image_cache.\n"
     ]
    },
    {
     "name": "stdout",
     "output_type": "stream",
     "text": [
      "/data/CSHL_data_processed/CHATM2/CHATM2_prep2_raw_NtbNormalizedAdaptiveInvertedGammaJpeg/CHATM2_slide42_2018_01_22-S3_prep2_raw_NtbNormalizedAdaptiveInvertedGammaJpeg.jpg\n"
     ]
    },
    {
     "name": "stderr",
     "output_type": "stream",
     "text": [
      "Load background image: 2.53 seconds\n",
      "Rescale background image to output resolution: 0.29 seconds\n",
      "Predict scores 5N: 0.01 seconds\n",
      "Resample scoremap 5N: 0.09 seconds\n",
      "Load and rescale background image: 0.00 seconds\n",
      "Generate scoremap overlay: 0.05 seconds.\n",
      "Scoremap size does not match background image size. Need to resize: 0.08 seconds.\n",
      "Generate scoremap overlay image 5N: 0.16 seconds\n",
      "locate patches: 0.02 seconds\n"
     ]
    },
    {
     "name": "stdout",
     "output_type": "stream",
     "text": [
      "(597, 925, 3) (597, 925)\n",
      "5N 127\n"
     ]
    },
    {
     "name": "stderr",
     "output_type": "stream",
     "text": [
      "Load pre-computed features: 0.59 seconds\n",
      "Not using image_cache.\n"
     ]
    },
    {
     "name": "stdout",
     "output_type": "stream",
     "text": [
      "/data/CSHL_data_processed/CHATM2/CHATM2_prep2_raw_NtbNormalizedAdaptiveInvertedGammaJpeg/CHATM2_slide43_2018_01_22-S1_prep2_raw_NtbNormalizedAdaptiveInvertedGammaJpeg.jpg\n"
     ]
    },
    {
     "name": "stderr",
     "output_type": "stream",
     "text": [
      "Load background image: 2.60 seconds\n",
      "Rescale background image to output resolution: 0.30 seconds\n",
      "Predict scores 5N: 0.01 seconds\n",
      "Resample scoremap 5N: 0.09 seconds\n",
      "Load and rescale background image: 0.00 seconds\n",
      "Generate scoremap overlay: 0.06 seconds.\n",
      "Scoremap size does not match background image size. Need to resize: 0.08 seconds.\n",
      "Generate scoremap overlay image 5N: 0.16 seconds\n",
      "locate patches: 0.02 seconds\n"
     ]
    },
    {
     "name": "stdout",
     "output_type": "stream",
     "text": [
      "(597, 925, 3) (597, 925)\n",
      "5N 128\n"
     ]
    },
    {
     "name": "stderr",
     "output_type": "stream",
     "text": [
      "Load pre-computed features: 0.57 seconds\n",
      "Not using image_cache.\n"
     ]
    },
    {
     "name": "stdout",
     "output_type": "stream",
     "text": [
      "/data/CSHL_data_processed/CHATM2/CHATM2_prep2_raw_NtbNormalizedAdaptiveInvertedGammaJpeg/CHATM2_slide44_2018_01_22-S1_prep2_raw_NtbNormalizedAdaptiveInvertedGammaJpeg.jpg\n"
     ]
    },
    {
     "name": "stderr",
     "output_type": "stream",
     "text": [
      "Load background image: 2.51 seconds\n",
      "Rescale background image to output resolution: 0.30 seconds\n",
      "Predict scores 5N: 0.01 seconds\n",
      "Resample scoremap 5N: 0.09 seconds\n",
      "Load and rescale background image: 0.00 seconds\n",
      "Generate scoremap overlay: 0.05 seconds.\n",
      "Scoremap size does not match background image size. Need to resize: 0.08 seconds.\n",
      "Generate scoremap overlay image 5N: 0.15 seconds\n",
      "locate patches: 0.02 seconds\n"
     ]
    },
    {
     "name": "stdout",
     "output_type": "stream",
     "text": [
      "(597, 925, 3) (597, 925)\n",
      "5N 129\n"
     ]
    },
    {
     "name": "stderr",
     "output_type": "stream",
     "text": [
      "Load pre-computed features: 0.58 seconds\n",
      "Not using image_cache.\n"
     ]
    },
    {
     "name": "stdout",
     "output_type": "stream",
     "text": [
      "/data/CSHL_data_processed/CHATM2/CHATM2_prep2_raw_NtbNormalizedAdaptiveInvertedGammaJpeg/CHATM2_slide43_2018_01_22-S2_prep2_raw_NtbNormalizedAdaptiveInvertedGammaJpeg.jpg\n"
     ]
    },
    {
     "name": "stderr",
     "output_type": "stream",
     "text": [
      "Load background image: 2.50 seconds\n",
      "Rescale background image to output resolution: 0.29 seconds\n",
      "Predict scores 5N: 0.01 seconds\n",
      "Resample scoremap 5N: 0.09 seconds\n",
      "Load and rescale background image: 0.00 seconds\n",
      "Generate scoremap overlay: 0.05 seconds.\n",
      "Scoremap size does not match background image size. Need to resize: 0.08 seconds.\n",
      "Generate scoremap overlay image 5N: 0.17 seconds\n",
      "locate patches: 0.02 seconds\n"
     ]
    },
    {
     "name": "stdout",
     "output_type": "stream",
     "text": [
      "(597, 925, 3) (597, 925)\n",
      "5N 130\n"
     ]
    },
    {
     "name": "stderr",
     "output_type": "stream",
     "text": [
      "Load pre-computed features: 0.60 seconds\n",
      "Not using image_cache.\n"
     ]
    },
    {
     "name": "stdout",
     "output_type": "stream",
     "text": [
      "/data/CSHL_data_processed/CHATM2/CHATM2_prep2_raw_NtbNormalizedAdaptiveInvertedGammaJpeg/CHATM2_slide44_2018_01_22-S2_prep2_raw_NtbNormalizedAdaptiveInvertedGammaJpeg.jpg\n"
     ]
    },
    {
     "name": "stderr",
     "output_type": "stream",
     "text": [
      "Load background image: 2.58 seconds\n",
      "Rescale background image to output resolution: 0.31 seconds\n",
      "Predict scores 5N: 0.01 seconds\n",
      "Resample scoremap 5N: 0.09 seconds\n",
      "Load and rescale background image: 0.00 seconds\n",
      "Generate scoremap overlay: 0.05 seconds.\n",
      "Scoremap size does not match background image size. Need to resize: 0.08 seconds.\n",
      "Generate scoremap overlay image 5N: 0.15 seconds\n",
      "locate patches: 0.02 seconds\n"
     ]
    },
    {
     "name": "stdout",
     "output_type": "stream",
     "text": [
      "(597, 925, 3) (597, 925)\n",
      "5N 131\n"
     ]
    },
    {
     "name": "stderr",
     "output_type": "stream",
     "text": [
      "Load pre-computed features: 0.64 seconds\n",
      "Not using image_cache.\n"
     ]
    },
    {
     "name": "stdout",
     "output_type": "stream",
     "text": [
      "/data/CSHL_data_processed/CHATM2/CHATM2_prep2_raw_NtbNormalizedAdaptiveInvertedGammaJpeg/CHATM2_slide43_2018_01_22-S3_prep2_raw_NtbNormalizedAdaptiveInvertedGammaJpeg.jpg\n"
     ]
    },
    {
     "name": "stderr",
     "output_type": "stream",
     "text": [
      "Load background image: 2.54 seconds\n",
      "Rescale background image to output resolution: 0.29 seconds\n",
      "Predict scores 5N: 0.01 seconds\n",
      "Resample scoremap 5N: 0.09 seconds\n",
      "Load and rescale background image: 0.00 seconds\n",
      "Generate scoremap overlay: 0.06 seconds.\n",
      "Scoremap size does not match background image size. Need to resize: 0.08 seconds.\n",
      "Generate scoremap overlay image 5N: 0.16 seconds\n",
      "locate patches: 0.02 seconds\n"
     ]
    },
    {
     "name": "stdout",
     "output_type": "stream",
     "text": [
      "(597, 925, 3) (597, 925)\n",
      "5N 132\n"
     ]
    },
    {
     "name": "stderr",
     "output_type": "stream",
     "text": [
      "Load pre-computed features: 0.69 seconds\n",
      "Not using image_cache.\n"
     ]
    },
    {
     "name": "stdout",
     "output_type": "stream",
     "text": [
      "/data/CSHL_data_processed/CHATM2/CHATM2_prep2_raw_NtbNormalizedAdaptiveInvertedGammaJpeg/CHATM2_slide44_2018_01_22-S3_prep2_raw_NtbNormalizedAdaptiveInvertedGammaJpeg.jpg\n"
     ]
    },
    {
     "name": "stderr",
     "output_type": "stream",
     "text": [
      "Load background image: 2.57 seconds\n",
      "Rescale background image to output resolution: 0.29 seconds\n",
      "Predict scores 5N: 0.01 seconds\n",
      "Resample scoremap 5N: 0.09 seconds\n",
      "Load and rescale background image: 0.00 seconds\n",
      "Generate scoremap overlay: 0.05 seconds.\n",
      "Scoremap size does not match background image size. Need to resize: 0.08 seconds.\n",
      "Generate scoremap overlay image 5N: 0.15 seconds\n",
      "locate patches: 0.02 seconds\n"
     ]
    },
    {
     "name": "stdout",
     "output_type": "stream",
     "text": [
      "(597, 925, 3) (597, 925)\n",
      "5N 133\n"
     ]
    },
    {
     "name": "stderr",
     "output_type": "stream",
     "text": [
      "Load pre-computed features: 0.59 seconds\n",
      "Not using image_cache.\n"
     ]
    },
    {
     "name": "stdout",
     "output_type": "stream",
     "text": [
      "/data/CSHL_data_processed/CHATM2/CHATM2_prep2_raw_NtbNormalizedAdaptiveInvertedGammaJpeg/CHATM2_slide45_2018_01_22-S1_prep2_raw_NtbNormalizedAdaptiveInvertedGammaJpeg.jpg\n"
     ]
    },
    {
     "name": "stderr",
     "output_type": "stream",
     "text": [
      "Load background image: 2.57 seconds\n",
      "Rescale background image to output resolution: 0.29 seconds\n",
      "Predict scores 5N: 0.01 seconds\n",
      "Resample scoremap 5N: 0.09 seconds\n",
      "Load and rescale background image: 0.00 seconds\n",
      "Generate scoremap overlay: 0.05 seconds.\n",
      "Scoremap size does not match background image size. Need to resize: 0.08 seconds.\n",
      "Generate scoremap overlay image 5N: 0.15 seconds\n",
      "locate patches: 0.02 seconds\n"
     ]
    },
    {
     "name": "stdout",
     "output_type": "stream",
     "text": [
      "(597, 925, 3) (597, 925)\n",
      "5N 134\n"
     ]
    },
    {
     "name": "stderr",
     "output_type": "stream",
     "text": [
      "Load pre-computed features: 0.63 seconds\n",
      "Not using image_cache.\n"
     ]
    },
    {
     "name": "stdout",
     "output_type": "stream",
     "text": [
      "/data/CSHL_data_processed/CHATM2/CHATM2_prep2_raw_NtbNormalizedAdaptiveInvertedGammaJpeg/CHATM2_slide46_2018_01_22-S1_prep2_raw_NtbNormalizedAdaptiveInvertedGammaJpeg.jpg\n"
     ]
    },
    {
     "name": "stderr",
     "output_type": "stream",
     "text": [
      "Load background image: 2.47 seconds\n",
      "Rescale background image to output resolution: 0.29 seconds\n",
      "Predict scores 5N: 0.01 seconds\n",
      "Resample scoremap 5N: 0.09 seconds\n",
      "Load and rescale background image: 0.00 seconds\n",
      "Generate scoremap overlay: 0.05 seconds.\n",
      "Scoremap size does not match background image size. Need to resize: 0.09 seconds.\n",
      "Generate scoremap overlay image 5N: 0.17 seconds\n",
      "locate patches: 0.02 seconds\n"
     ]
    },
    {
     "name": "stdout",
     "output_type": "stream",
     "text": [
      "(597, 925, 3) (597, 925)\n",
      "5N 135\n"
     ]
    },
    {
     "name": "stderr",
     "output_type": "stream",
     "text": [
      "Load pre-computed features: 0.58 seconds\n",
      "Not using image_cache.\n"
     ]
    },
    {
     "name": "stdout",
     "output_type": "stream",
     "text": [
      "/data/CSHL_data_processed/CHATM2/CHATM2_prep2_raw_NtbNormalizedAdaptiveInvertedGammaJpeg/CHATM2_slide45_2018_01_22-S2_prep2_raw_NtbNormalizedAdaptiveInvertedGammaJpeg.jpg\n"
     ]
    },
    {
     "name": "stderr",
     "output_type": "stream",
     "text": [
      "Load background image: 2.52 seconds\n",
      "Rescale background image to output resolution: 0.30 seconds\n",
      "Predict scores 5N: 0.01 seconds\n",
      "Resample scoremap 5N: 0.09 seconds\n",
      "Load and rescale background image: 0.00 seconds\n",
      "Generate scoremap overlay: 0.05 seconds.\n",
      "Scoremap size does not match background image size. Need to resize: 0.08 seconds.\n",
      "Generate scoremap overlay image 5N: 0.15 seconds\n",
      "locate patches: 0.02 seconds\n"
     ]
    },
    {
     "name": "stdout",
     "output_type": "stream",
     "text": [
      "(597, 925, 3) (597, 925)\n",
      "5N 136\n"
     ]
    },
    {
     "name": "stderr",
     "output_type": "stream",
     "text": [
      "Load pre-computed features: 0.58 seconds\n",
      "Not using image_cache.\n"
     ]
    },
    {
     "name": "stdout",
     "output_type": "stream",
     "text": [
      "/data/CSHL_data_processed/CHATM2/CHATM2_prep2_raw_NtbNormalizedAdaptiveInvertedGammaJpeg/CHATM2_slide46_2018_01_22-S2_prep2_raw_NtbNormalizedAdaptiveInvertedGammaJpeg.jpg\n"
     ]
    },
    {
     "name": "stderr",
     "output_type": "stream",
     "text": [
      "Load background image: 2.49 seconds\n",
      "Rescale background image to output resolution: 0.35 seconds\n",
      "Predict scores 5N: 0.01 seconds\n",
      "Resample scoremap 5N: 0.09 seconds\n",
      "Load and rescale background image: 0.00 seconds\n",
      "Generate scoremap overlay: 0.05 seconds.\n",
      "Scoremap size does not match background image size. Need to resize: 0.08 seconds.\n",
      "Generate scoremap overlay image 5N: 0.16 seconds\n",
      "locate patches: 0.02 seconds\n"
     ]
    },
    {
     "name": "stdout",
     "output_type": "stream",
     "text": [
      "(597, 925, 3) (597, 925)\n",
      "5N 137\n"
     ]
    },
    {
     "name": "stderr",
     "output_type": "stream",
     "text": [
      "Load pre-computed features: 0.60 seconds\n",
      "Not using image_cache.\n"
     ]
    },
    {
     "name": "stdout",
     "output_type": "stream",
     "text": [
      "/data/CSHL_data_processed/CHATM2/CHATM2_prep2_raw_NtbNormalizedAdaptiveInvertedGammaJpeg/CHATM2_slide45_2018_01_22-S3_prep2_raw_NtbNormalizedAdaptiveInvertedGammaJpeg.jpg\n"
     ]
    },
    {
     "name": "stderr",
     "output_type": "stream",
     "text": [
      "Load background image: 2.60 seconds\n",
      "Rescale background image to output resolution: 0.30 seconds\n",
      "Predict scores 5N: 0.02 seconds\n",
      "Resample scoremap 5N: 0.09 seconds\n",
      "Load and rescale background image: 0.00 seconds\n",
      "Generate scoremap overlay: 0.06 seconds.\n",
      "Scoremap size does not match background image size. Need to resize: 0.09 seconds.\n",
      "Generate scoremap overlay image 5N: 0.19 seconds\n",
      "locate patches: 0.02 seconds\n"
     ]
    },
    {
     "name": "stdout",
     "output_type": "stream",
     "text": [
      "(597, 925, 3) (597, 925)\n",
      "5N 138\n"
     ]
    },
    {
     "name": "stderr",
     "output_type": "stream",
     "text": [
      "Load pre-computed features: 0.60 seconds\n",
      "Not using image_cache.\n"
     ]
    },
    {
     "name": "stdout",
     "output_type": "stream",
     "text": [
      "/data/CSHL_data_processed/CHATM2/CHATM2_prep2_raw_NtbNormalizedAdaptiveInvertedGammaJpeg/CHATM2_slide46_2018_01_22-S3_prep2_raw_NtbNormalizedAdaptiveInvertedGammaJpeg.jpg\n"
     ]
    },
    {
     "name": "stderr",
     "output_type": "stream",
     "text": [
      "Load background image: 2.52 seconds\n",
      "Rescale background image to output resolution: 0.30 seconds\n",
      "Predict scores 5N: 0.02 seconds\n",
      "Resample scoremap 5N: 0.10 seconds\n",
      "Load and rescale background image: 0.00 seconds\n",
      "Generate scoremap overlay: 0.08 seconds.\n",
      "Scoremap size does not match background image size. Need to resize: 0.08 seconds.\n",
      "Generate scoremap overlay image 5N: 0.19 seconds\n",
      "locate patches: 0.02 seconds\n"
     ]
    },
    {
     "name": "stdout",
     "output_type": "stream",
     "text": [
      "(597, 925, 3) (597, 925)\n",
      "5N 140\n"
     ]
    },
    {
     "name": "stderr",
     "output_type": "stream",
     "text": [
      "Load pre-computed features: 0.60 seconds\n",
      "Not using image_cache.\n"
     ]
    },
    {
     "name": "stdout",
     "output_type": "stream",
     "text": [
      "/data/CSHL_data_processed/CHATM2/CHATM2_prep2_raw_NtbNormalizedAdaptiveInvertedGammaJpeg/CHATM2_slide48_2018_01_22-S1_prep2_raw_NtbNormalizedAdaptiveInvertedGammaJpeg.jpg\n"
     ]
    },
    {
     "name": "stderr",
     "output_type": "stream",
     "text": [
      "Load background image: 2.80 seconds\n",
      "Rescale background image to output resolution: 0.29 seconds\n",
      "Predict scores 5N: 0.02 seconds\n",
      "Resample scoremap 5N: 0.10 seconds\n",
      "Load and rescale background image: 0.00 seconds\n",
      "Generate scoremap overlay: 0.05 seconds.\n",
      "Scoremap size does not match background image size. Need to resize: 0.08 seconds.\n",
      "Generate scoremap overlay image 5N: 0.16 seconds\n",
      "locate patches: 0.02 seconds\n"
     ]
    },
    {
     "name": "stdout",
     "output_type": "stream",
     "text": [
      "(597, 925, 3) (597, 925)\n",
      "5N 142\n"
     ]
    },
    {
     "name": "stderr",
     "output_type": "stream",
     "text": [
      "Load pre-computed features: 0.64 seconds\n",
      "Not using image_cache.\n"
     ]
    },
    {
     "name": "stdout",
     "output_type": "stream",
     "text": [
      "/data/CSHL_data_processed/CHATM2/CHATM2_prep2_raw_NtbNormalizedAdaptiveInvertedGammaJpeg/CHATM2_slide48_2018_01_22-S2_prep2_raw_NtbNormalizedAdaptiveInvertedGammaJpeg.jpg\n"
     ]
    },
    {
     "name": "stderr",
     "output_type": "stream",
     "text": [
      "Load background image: 2.50 seconds\n",
      "Rescale background image to output resolution: 0.30 seconds\n",
      "Predict scores 5N: 0.01 seconds\n",
      "Resample scoremap 5N: 0.11 seconds\n",
      "Load and rescale background image: 0.00 seconds\n",
      "Generate scoremap overlay: 0.05 seconds.\n",
      "Scoremap size does not match background image size. Need to resize: 0.08 seconds.\n",
      "Generate scoremap overlay image 5N: 0.16 seconds\n",
      "locate patches: 0.02 seconds\n"
     ]
    },
    {
     "name": "stdout",
     "output_type": "stream",
     "text": [
      "(597, 925, 3) (597, 925)\n",
      "5N 144\n"
     ]
    },
    {
     "name": "stderr",
     "output_type": "stream",
     "text": [
      "Load pre-computed features: 0.62 seconds\n",
      "Not using image_cache.\n"
     ]
    },
    {
     "name": "stdout",
     "output_type": "stream",
     "text": [
      "/data/CSHL_data_processed/CHATM2/CHATM2_prep2_raw_NtbNormalizedAdaptiveInvertedGammaJpeg/CHATM2_slide48_2018_01_22-S3_prep2_raw_NtbNormalizedAdaptiveInvertedGammaJpeg.jpg\n"
     ]
    },
    {
     "name": "stderr",
     "output_type": "stream",
     "text": [
      "Load background image: 2.57 seconds\n",
      "Rescale background image to output resolution: 0.29 seconds\n",
      "Predict scores 5N: 0.01 seconds\n",
      "Resample scoremap 5N: 0.10 seconds\n",
      "Load and rescale background image: 0.00 seconds\n",
      "Generate scoremap overlay: 0.05 seconds.\n",
      "Scoremap size does not match background image size. Need to resize: 0.08 seconds.\n",
      "Generate scoremap overlay image 5N: 0.15 seconds\n",
      "locate patches: 0.02 seconds\n"
     ]
    },
    {
     "name": "stdout",
     "output_type": "stream",
     "text": [
      "(597, 925, 3) (597, 925)\n",
      "5N 145\n"
     ]
    },
    {
     "name": "stderr",
     "output_type": "stream",
     "text": [
      "Load pre-computed features: 0.60 seconds\n",
      "Not using image_cache.\n"
     ]
    },
    {
     "name": "stdout",
     "output_type": "stream",
     "text": [
      "/data/CSHL_data_processed/CHATM2/CHATM2_prep2_raw_NtbNormalizedAdaptiveInvertedGammaJpeg/CHATM2_slide49_2018_01_22-S1_prep2_raw_NtbNormalizedAdaptiveInvertedGammaJpeg.jpg\n"
     ]
    },
    {
     "name": "stderr",
     "output_type": "stream",
     "text": [
      "Load background image: 2.65 seconds\n",
      "Rescale background image to output resolution: 0.29 seconds\n",
      "Predict scores 5N: 0.01 seconds\n",
      "Resample scoremap 5N: 0.09 seconds\n",
      "Load and rescale background image: 0.00 seconds\n",
      "Generate scoremap overlay: 0.06 seconds.\n",
      "Scoremap size does not match background image size. Need to resize: 0.07 seconds.\n",
      "Generate scoremap overlay image 5N: 0.17 seconds\n",
      "locate patches: 0.02 seconds\n"
     ]
    },
    {
     "name": "stdout",
     "output_type": "stream",
     "text": [
      "(597, 925, 3) (597, 925)\n",
      "5N 146\n"
     ]
    },
    {
     "name": "stderr",
     "output_type": "stream",
     "text": [
      "Load pre-computed features: 0.74 seconds\n",
      "Not using image_cache.\n"
     ]
    },
    {
     "name": "stdout",
     "output_type": "stream",
     "text": [
      "/data/CSHL_data_processed/CHATM2/CHATM2_prep2_raw_NtbNormalizedAdaptiveInvertedGammaJpeg/CHATM2_slide50_2018_01_22-S1_prep2_raw_NtbNormalizedAdaptiveInvertedGammaJpeg.jpg\n"
     ]
    },
    {
     "name": "stderr",
     "output_type": "stream",
     "text": [
      "Load background image: 2.59 seconds\n",
      "Rescale background image to output resolution: 0.29 seconds\n",
      "Predict scores 5N: 0.01 seconds\n",
      "Resample scoremap 5N: 0.06 seconds\n",
      "Load and rescale background image: 0.00 seconds\n",
      "Generate scoremap overlay: 0.05 seconds.\n",
      "Scoremap size does not match background image size. Need to resize: 0.07 seconds.\n"
     ]
    },
    {
     "name": "stdout",
     "output_type": "stream",
     "text": [
      "(597, 925, 3) (597, 925)\n",
      "5N 147\n"
     ]
    },
    {
     "name": "stderr",
     "output_type": "stream",
     "text": [
      "Generate scoremap overlay image 5N: 0.15 seconds\n",
      "locate patches: 0.02 seconds\n",
      "Load pre-computed features: 0.64 seconds\n",
      "Not using image_cache.\n"
     ]
    },
    {
     "name": "stdout",
     "output_type": "stream",
     "text": [
      "/data/CSHL_data_processed/CHATM2/CHATM2_prep2_raw_NtbNormalizedAdaptiveInvertedGammaJpeg/CHATM2_slide49_2018_01_22-S2_prep2_raw_NtbNormalizedAdaptiveInvertedGammaJpeg.jpg\n"
     ]
    },
    {
     "name": "stderr",
     "output_type": "stream",
     "text": [
      "Load background image: 2.62 seconds\n",
      "Rescale background image to output resolution: 0.29 seconds\n",
      "Predict scores 5N: 0.01 seconds\n",
      "Resample scoremap 5N: 0.09 seconds\n",
      "Load and rescale background image: 0.00 seconds\n",
      "Generate scoremap overlay: 0.05 seconds.\n",
      "Scoremap size does not match background image size. Need to resize: 0.09 seconds.\n",
      "Generate scoremap overlay image 5N: 0.17 seconds\n",
      "locate patches: 0.02 seconds\n"
     ]
    },
    {
     "name": "stdout",
     "output_type": "stream",
     "text": [
      "(597, 925, 3) (597, 925)\n",
      "5N 148\n"
     ]
    },
    {
     "name": "stderr",
     "output_type": "stream",
     "text": [
      "Load pre-computed features: 0.62 seconds\n",
      "Not using image_cache.\n"
     ]
    },
    {
     "name": "stdout",
     "output_type": "stream",
     "text": [
      "/data/CSHL_data_processed/CHATM2/CHATM2_prep2_raw_NtbNormalizedAdaptiveInvertedGammaJpeg/CHATM2_slide50_2018_01_22-S2_prep2_raw_NtbNormalizedAdaptiveInvertedGammaJpeg.jpg\n"
     ]
    },
    {
     "name": "stderr",
     "output_type": "stream",
     "text": [
      "Load background image: 2.57 seconds\n",
      "Rescale background image to output resolution: 0.29 seconds\n",
      "Predict scores 5N: 0.01 seconds\n",
      "Resample scoremap 5N: 0.09 seconds\n",
      "Load and rescale background image: 0.00 seconds\n",
      "Generate scoremap overlay: 0.05 seconds.\n",
      "Scoremap size does not match background image size. Need to resize: 0.08 seconds.\n",
      "Generate scoremap overlay image 5N: 0.15 seconds\n",
      "locate patches: 0.02 seconds\n"
     ]
    },
    {
     "name": "stdout",
     "output_type": "stream",
     "text": [
      "(597, 925, 3) (597, 925)\n",
      "5N 150\n"
     ]
    },
    {
     "name": "stderr",
     "output_type": "stream",
     "text": [
      "Load pre-computed features: 0.66 seconds\n",
      "Not using image_cache.\n"
     ]
    },
    {
     "name": "stdout",
     "output_type": "stream",
     "text": [
      "/data/CSHL_data_processed/CHATM2/CHATM2_prep2_raw_NtbNormalizedAdaptiveInvertedGammaJpeg/CHATM2_slide50_2018_01_22-S3_prep2_raw_NtbNormalizedAdaptiveInvertedGammaJpeg.jpg\n"
     ]
    },
    {
     "name": "stderr",
     "output_type": "stream",
     "text": [
      "Load background image: 2.58 seconds\n",
      "Rescale background image to output resolution: 0.29 seconds\n",
      "Predict scores 5N: 0.01 seconds\n",
      "Resample scoremap 5N: 0.09 seconds\n",
      "Load and rescale background image: 0.00 seconds\n",
      "Generate scoremap overlay: 0.05 seconds.\n",
      "Scoremap size does not match background image size. Need to resize: 0.08 seconds.\n",
      "Generate scoremap overlay image 5N: 0.15 seconds\n",
      "locate patches: 0.02 seconds\n"
     ]
    },
    {
     "name": "stdout",
     "output_type": "stream",
     "text": [
      "(597, 925, 3) (597, 925)\n",
      "5N 209\n"
     ]
    },
    {
     "name": "stderr",
     "output_type": "stream",
     "text": [
      "Load pre-computed features: 0.68 seconds\n",
      "Not using image_cache.\n"
     ]
    },
    {
     "name": "stdout",
     "output_type": "stream",
     "text": [
      "/data/CSHL_data_processed/CHATM2/CHATM2_prep2_raw_NtbNormalizedAdaptiveInvertedGammaJpeg/CHATM2_slide70_2018_02_14-S1_prep2_raw_NtbNormalizedAdaptiveInvertedGammaJpeg.jpg\n"
     ]
    },
    {
     "name": "stderr",
     "output_type": "stream",
     "text": [
      "Load background image: 2.46 seconds\n",
      "Rescale background image to output resolution: 0.30 seconds\n",
      "Predict scores 5N: 0.01 seconds\n",
      "Resample scoremap 5N: 0.09 seconds\n",
      "Load and rescale background image: 0.00 seconds\n",
      "Generate scoremap overlay: 0.05 seconds.\n",
      "Scoremap size does not match background image size. Need to resize: 0.07 seconds.\n",
      "Generate scoremap overlay image 5N: 0.15 seconds\n",
      "locate patches: 0.02 seconds\n"
     ]
    },
    {
     "name": "stdout",
     "output_type": "stream",
     "text": [
      "(597, 925, 3) (597, 925)\n",
      "5N 211\n"
     ]
    },
    {
     "name": "stderr",
     "output_type": "stream",
     "text": [
      "Load pre-computed features: 0.62 seconds\n",
      "Not using image_cache.\n"
     ]
    },
    {
     "name": "stdout",
     "output_type": "stream",
     "text": [
      "/data/CSHL_data_processed/CHATM2/CHATM2_prep2_raw_NtbNormalizedAdaptiveInvertedGammaJpeg/CHATM2_slide70_2018_02_14-S2_prep2_raw_NtbNormalizedAdaptiveInvertedGammaJpeg.jpg\n"
     ]
    },
    {
     "name": "stderr",
     "output_type": "stream",
     "text": [
      "Load background image: 2.48 seconds\n",
      "Rescale background image to output resolution: 0.30 seconds\n",
      "Predict scores 5N: 0.01 seconds\n",
      "Resample scoremap 5N: 0.09 seconds\n",
      "Load and rescale background image: 0.00 seconds\n",
      "Generate scoremap overlay: 0.05 seconds.\n",
      "Scoremap size does not match background image size. Need to resize: 0.07 seconds.\n",
      "Generate scoremap overlay image 5N: 0.15 seconds\n",
      "locate patches: 0.02 seconds\n"
     ]
    },
    {
     "name": "stdout",
     "output_type": "stream",
     "text": [
      "(597, 925, 3) (597, 925)\n",
      "5N 213\n"
     ]
    },
    {
     "name": "stderr",
     "output_type": "stream",
     "text": [
      "Load pre-computed features: 0.66 seconds\n",
      "Not using image_cache.\n"
     ]
    },
    {
     "name": "stdout",
     "output_type": "stream",
     "text": [
      "/data/CSHL_data_processed/CHATM2/CHATM2_prep2_raw_NtbNormalizedAdaptiveInvertedGammaJpeg/CHATM2_slide70_2018_02_14-S3_prep2_raw_NtbNormalizedAdaptiveInvertedGammaJpeg.jpg\n"
     ]
    },
    {
     "name": "stderr",
     "output_type": "stream",
     "text": [
      "Load background image: 2.59 seconds\n",
      "Rescale background image to output resolution: 0.29 seconds\n",
      "Predict scores 5N: 0.01 seconds\n",
      "Resample scoremap 5N: 0.09 seconds\n",
      "Load and rescale background image: 0.00 seconds\n",
      "Generate scoremap overlay: 0.05 seconds.\n",
      "Scoremap size does not match background image size. Need to resize: 0.08 seconds.\n",
      "Generate scoremap overlay image 5N: 0.15 seconds\n",
      "locate patches: 0.02 seconds\n"
     ]
    },
    {
     "name": "stdout",
     "output_type": "stream",
     "text": [
      "(597, 925, 3) (597, 925)\n",
      "5N 215\n"
     ]
    },
    {
     "name": "stderr",
     "output_type": "stream",
     "text": [
      "Load pre-computed features: 0.63 seconds\n",
      "Not using image_cache.\n"
     ]
    },
    {
     "name": "stdout",
     "output_type": "stream",
     "text": [
      "/data/CSHL_data_processed/CHATM2/CHATM2_prep2_raw_NtbNormalizedAdaptiveInvertedGammaJpeg/CHATM2_slide72_2018_02_14-S1_prep2_raw_NtbNormalizedAdaptiveInvertedGammaJpeg.jpg\n"
     ]
    },
    {
     "name": "stderr",
     "output_type": "stream",
     "text": [
      "Load background image: 2.52 seconds\n",
      "Rescale background image to output resolution: 0.29 seconds\n",
      "Predict scores 5N: 0.01 seconds\n",
      "Resample scoremap 5N: 0.06 seconds\n",
      "Load and rescale background image: 0.00 seconds\n",
      "Generate scoremap overlay: 0.05 seconds.\n",
      "Scoremap size does not match background image size. Need to resize: 0.07 seconds.\n"
     ]
    },
    {
     "name": "stdout",
     "output_type": "stream",
     "text": [
      "(597, 925, 3) (597, 925)\n",
      "5N 217\n"
     ]
    },
    {
     "name": "stderr",
     "output_type": "stream",
     "text": [
      "Generate scoremap overlay image 5N: 0.15 seconds\n",
      "locate patches: 0.02 seconds\n",
      "Load pre-computed features: 0.65 seconds\n",
      "Not using image_cache.\n"
     ]
    },
    {
     "name": "stdout",
     "output_type": "stream",
     "text": [
      "/data/CSHL_data_processed/CHATM2/CHATM2_prep2_raw_NtbNormalizedAdaptiveInvertedGammaJpeg/CHATM2_slide72_2018_02_14-S2_prep2_raw_NtbNormalizedAdaptiveInvertedGammaJpeg.jpg\n"
     ]
    },
    {
     "name": "stderr",
     "output_type": "stream",
     "text": [
      "Load background image: 2.43 seconds\n",
      "Rescale background image to output resolution: 0.30 seconds\n",
      "Predict scores 5N: 0.01 seconds\n",
      "Resample scoremap 5N: 0.09 seconds\n",
      "Load and rescale background image: 0.00 seconds\n",
      "Generate scoremap overlay: 0.05 seconds.\n",
      "Scoremap size does not match background image size. Need to resize: 0.07 seconds.\n",
      "Generate scoremap overlay image 5N: 0.15 seconds\n",
      "locate patches: 0.02 seconds\n"
     ]
    },
    {
     "name": "stdout",
     "output_type": "stream",
     "text": [
      "(597, 925, 3) (597, 925)\n",
      "5N 219\n"
     ]
    },
    {
     "name": "stderr",
     "output_type": "stream",
     "text": [
      "Load pre-computed features: 0.63 seconds\n",
      "Not using image_cache.\n"
     ]
    },
    {
     "name": "stdout",
     "output_type": "stream",
     "text": [
      "/data/CSHL_data_processed/CHATM2/CHATM2_prep2_raw_NtbNormalizedAdaptiveInvertedGammaJpeg/CHATM2_slide72_2018_02_14-S3_prep2_raw_NtbNormalizedAdaptiveInvertedGammaJpeg.jpg\n"
     ]
    },
    {
     "name": "stderr",
     "output_type": "stream",
     "text": [
      "Load background image: 2.52 seconds\n",
      "Rescale background image to output resolution: 0.29 seconds\n",
      "Predict scores 5N: 0.01 seconds\n",
      "Resample scoremap 5N: 0.09 seconds\n",
      "Load and rescale background image: 0.00 seconds\n",
      "Generate scoremap overlay: 0.05 seconds.\n",
      "Scoremap size does not match background image size. Need to resize: 0.08 seconds.\n",
      "Generate scoremap overlay image 5N: 0.15 seconds\n",
      "locate patches: 0.02 seconds\n"
     ]
    },
    {
     "name": "stdout",
     "output_type": "stream",
     "text": [
      "(597, 925, 3) (597, 925)\n",
      "5N 221\n"
     ]
    },
    {
     "name": "stderr",
     "output_type": "stream",
     "text": [
      "Load pre-computed features: 0.61 seconds\n",
      "Not using image_cache.\n"
     ]
    },
    {
     "name": "stdout",
     "output_type": "stream",
     "text": [
      "/data/CSHL_data_processed/CHATM2/CHATM2_prep2_raw_NtbNormalizedAdaptiveInvertedGammaJpeg/CHATM2_slide74_2018_02_14-S1_prep2_raw_NtbNormalizedAdaptiveInvertedGammaJpeg.jpg\n"
     ]
    },
    {
     "name": "stderr",
     "output_type": "stream",
     "text": [
      "Load background image: 2.43 seconds\n",
      "Rescale background image to output resolution: 0.30 seconds\n",
      "Predict scores 5N: 0.01 seconds\n",
      "Resample scoremap 5N: 0.09 seconds\n",
      "Load and rescale background image: 0.00 seconds\n",
      "Generate scoremap overlay: 0.05 seconds.\n",
      "Scoremap size does not match background image size. Need to resize: 0.07 seconds.\n",
      "Generate scoremap overlay image 5N: 0.15 seconds\n",
      "locate patches: 0.02 seconds\n"
     ]
    },
    {
     "name": "stdout",
     "output_type": "stream",
     "text": [
      "(597, 925, 3) (597, 925)\n",
      "5N 223\n"
     ]
    },
    {
     "name": "stderr",
     "output_type": "stream",
     "text": [
      "Load pre-computed features: 0.78 seconds\n",
      "Not using image_cache.\n"
     ]
    },
    {
     "name": "stdout",
     "output_type": "stream",
     "text": [
      "/data/CSHL_data_processed/CHATM2/CHATM2_prep2_raw_NtbNormalizedAdaptiveInvertedGammaJpeg/CHATM2_slide74_2018_02_14-S2_prep2_raw_NtbNormalizedAdaptiveInvertedGammaJpeg.jpg\n"
     ]
    },
    {
     "name": "stderr",
     "output_type": "stream",
     "text": [
      "Load background image: 2.43 seconds\n",
      "Rescale background image to output resolution: 0.29 seconds\n",
      "Predict scores 5N: 0.01 seconds\n",
      "Resample scoremap 5N: 0.09 seconds\n",
      "Load and rescale background image: 0.00 seconds\n",
      "Generate scoremap overlay: 0.05 seconds.\n",
      "Scoremap size does not match background image size. Need to resize: 0.07 seconds.\n",
      "Generate scoremap overlay image 5N: 0.15 seconds\n",
      "locate patches: 0.02 seconds\n"
     ]
    },
    {
     "name": "stdout",
     "output_type": "stream",
     "text": [
      "(597, 925, 3) (597, 925)\n",
      "5N 225\n"
     ]
    },
    {
     "name": "stderr",
     "output_type": "stream",
     "text": [
      "Load pre-computed features: 0.64 seconds\n",
      "Not using image_cache.\n"
     ]
    },
    {
     "name": "stdout",
     "output_type": "stream",
     "text": [
      "/data/CSHL_data_processed/CHATM2/CHATM2_prep2_raw_NtbNormalizedAdaptiveInvertedGammaJpeg/CHATM2_slide74_2018_02_14-S3_prep2_raw_NtbNormalizedAdaptiveInvertedGammaJpeg.jpg\n"
     ]
    },
    {
     "name": "stderr",
     "output_type": "stream",
     "text": [
      "Load background image: 2.44 seconds\n",
      "Rescale background image to output resolution: 0.29 seconds\n",
      "Predict scores 5N: 0.01 seconds\n",
      "Resample scoremap 5N: 0.09 seconds\n",
      "Load and rescale background image: 0.00 seconds\n",
      "Generate scoremap overlay: 0.05 seconds.\n",
      "Scoremap size does not match background image size. Need to resize: 0.07 seconds.\n",
      "Generate scoremap overlay image 5N: 0.15 seconds\n",
      "locate patches: 0.02 seconds\n"
     ]
    },
    {
     "name": "stdout",
     "output_type": "stream",
     "text": [
      "(597, 925, 3) (597, 925)\n",
      "5N 227\n"
     ]
    },
    {
     "name": "stderr",
     "output_type": "stream",
     "text": [
      "Load pre-computed features: 0.57 seconds\n",
      "Not using image_cache.\n"
     ]
    },
    {
     "name": "stdout",
     "output_type": "stream",
     "text": [
      "/data/CSHL_data_processed/CHATM2/CHATM2_prep2_raw_NtbNormalizedAdaptiveInvertedGammaJpeg/CHATM2_slide76_2018_02_14-S1_prep2_raw_NtbNormalizedAdaptiveInvertedGammaJpeg.jpg\n"
     ]
    },
    {
     "name": "stderr",
     "output_type": "stream",
     "text": [
      "Load background image: 2.41 seconds\n",
      "Rescale background image to output resolution: 0.29 seconds\n",
      "Predict scores 5N: 0.01 seconds\n",
      "Resample scoremap 5N: 0.10 seconds\n",
      "Load and rescale background image: 0.00 seconds\n",
      "Generate scoremap overlay: 0.05 seconds.\n",
      "Scoremap size does not match background image size. Need to resize: 0.07 seconds.\n",
      "Generate scoremap overlay image 5N: 0.15 seconds\n",
      "locate patches: 0.03 seconds\n"
     ]
    },
    {
     "name": "stdout",
     "output_type": "stream",
     "text": [
      "(597, 925, 3) (597, 925)\n",
      "5N 229\n"
     ]
    },
    {
     "name": "stderr",
     "output_type": "stream",
     "text": [
      "Load pre-computed features: 0.60 seconds\n",
      "Not using image_cache.\n"
     ]
    },
    {
     "name": "stdout",
     "output_type": "stream",
     "text": [
      "/data/CSHL_data_processed/CHATM2/CHATM2_prep2_raw_NtbNormalizedAdaptiveInvertedGammaJpeg/CHATM2_slide76_2018_02_14-S2_prep2_raw_NtbNormalizedAdaptiveInvertedGammaJpeg.jpg\n"
     ]
    },
    {
     "name": "stderr",
     "output_type": "stream",
     "text": [
      "Load background image: 2.37 seconds\n",
      "Rescale background image to output resolution: 0.29 seconds\n",
      "Predict scores 5N: 0.01 seconds\n",
      "Resample scoremap 5N: 0.09 seconds\n",
      "Load and rescale background image: 0.00 seconds\n",
      "Generate scoremap overlay: 0.05 seconds.\n",
      "Scoremap size does not match background image size. Need to resize: 0.07 seconds.\n",
      "Generate scoremap overlay image 5N: 0.15 seconds\n",
      "locate patches: 0.02 seconds\n"
     ]
    },
    {
     "name": "stdout",
     "output_type": "stream",
     "text": [
      "(597, 925, 3) (597, 925)\n",
      "5N 231\n"
     ]
    },
    {
     "name": "stderr",
     "output_type": "stream",
     "text": [
      "Load pre-computed features: 0.55 seconds\n",
      "Not using image_cache.\n"
     ]
    },
    {
     "name": "stdout",
     "output_type": "stream",
     "text": [
      "/data/CSHL_data_processed/CHATM2/CHATM2_prep2_raw_NtbNormalizedAdaptiveInvertedGammaJpeg/CHATM2_slide76_2018_02_14-S3_prep2_raw_NtbNormalizedAdaptiveInvertedGammaJpeg.jpg\n"
     ]
    },
    {
     "name": "stderr",
     "output_type": "stream",
     "text": [
      "Load background image: 2.35 seconds\n",
      "Rescale background image to output resolution: 0.29 seconds\n",
      "Predict scores 5N: 0.01 seconds\n",
      "Resample scoremap 5N: 0.10 seconds\n",
      "Load and rescale background image: 0.00 seconds\n",
      "Generate scoremap overlay: 0.05 seconds.\n",
      "Scoremap size does not match background image size. Need to resize: 0.08 seconds.\n",
      "Generate scoremap overlay image 5N: 0.15 seconds\n",
      "locate patches: 0.02 seconds\n"
     ]
    },
    {
     "name": "stdout",
     "output_type": "stream",
     "text": [
      "(597, 925, 3) (597, 925)\n",
      "5N 233\n"
     ]
    },
    {
     "name": "stderr",
     "output_type": "stream",
     "text": [
      "Load pre-computed features: 0.56 seconds\n",
      "Not using image_cache.\n"
     ]
    },
    {
     "name": "stdout",
     "output_type": "stream",
     "text": [
      "/data/CSHL_data_processed/CHATM2/CHATM2_prep2_raw_NtbNormalizedAdaptiveInvertedGammaJpeg/CHATM2_slide78_2018_02_14-S1_prep2_raw_NtbNormalizedAdaptiveInvertedGammaJpeg.jpg\n"
     ]
    },
    {
     "name": "stderr",
     "output_type": "stream",
     "text": [
      "Load background image: 2.27 seconds\n",
      "Rescale background image to output resolution: 0.29 seconds\n",
      "Predict scores 5N: 0.02 seconds\n",
      "Resample scoremap 5N: 0.09 seconds\n",
      "Load and rescale background image: 0.00 seconds\n",
      "Generate scoremap overlay: 0.07 seconds.\n",
      "Scoremap size does not match background image size. Need to resize: 0.08 seconds.\n",
      "Generate scoremap overlay image 5N: 0.18 seconds\n",
      "locate patches: 0.02 seconds\n"
     ]
    },
    {
     "name": "stdout",
     "output_type": "stream",
     "text": [
      "(597, 925, 3) (597, 925)\n",
      "5N 235\n"
     ]
    },
    {
     "name": "stderr",
     "output_type": "stream",
     "text": [
      "Load pre-computed features: 0.61 seconds\n",
      "Not using image_cache.\n"
     ]
    },
    {
     "name": "stdout",
     "output_type": "stream",
     "text": [
      "/data/CSHL_data_processed/CHATM2/CHATM2_prep2_raw_NtbNormalizedAdaptiveInvertedGammaJpeg/CHATM2_slide78_2018_02_14-S2_prep2_raw_NtbNormalizedAdaptiveInvertedGammaJpeg.jpg\n"
     ]
    },
    {
     "name": "stderr",
     "output_type": "stream",
     "text": [
      "Load background image: 2.35 seconds\n",
      "Rescale background image to output resolution: 0.29 seconds\n",
      "Predict scores 5N: 0.01 seconds\n",
      "Resample scoremap 5N: 0.10 seconds\n",
      "Load and rescale background image: 0.00 seconds\n",
      "Generate scoremap overlay: 0.05 seconds.\n",
      "Scoremap size does not match background image size. Need to resize: 0.08 seconds.\n",
      "Generate scoremap overlay image 5N: 0.15 seconds\n",
      "locate patches: 0.02 seconds\n"
     ]
    },
    {
     "name": "stdout",
     "output_type": "stream",
     "text": [
      "(597, 925, 3) (597, 925)\n",
      "5N 237\n"
     ]
    },
    {
     "name": "stderr",
     "output_type": "stream",
     "text": [
      "Load pre-computed features: 0.58 seconds\n",
      "Not using image_cache.\n"
     ]
    },
    {
     "name": "stdout",
     "output_type": "stream",
     "text": [
      "/data/CSHL_data_processed/CHATM2/CHATM2_prep2_raw_NtbNormalizedAdaptiveInvertedGammaJpeg/CHATM2_slide78_2018_02_14-S3_prep2_raw_NtbNormalizedAdaptiveInvertedGammaJpeg.jpg\n"
     ]
    },
    {
     "name": "stderr",
     "output_type": "stream",
     "text": [
      "Load background image: 2.29 seconds\n",
      "Rescale background image to output resolution: 0.29 seconds\n",
      "Predict scores 5N: 0.01 seconds\n",
      "Resample scoremap 5N: 0.09 seconds\n",
      "Load and rescale background image: 0.00 seconds\n",
      "Generate scoremap overlay: 0.05 seconds.\n",
      "Scoremap size does not match background image size. Need to resize: 0.08 seconds.\n",
      "Generate scoremap overlay image 5N: 0.15 seconds\n",
      "locate patches: 0.02 seconds\n"
     ]
    },
    {
     "name": "stdout",
     "output_type": "stream",
     "text": [
      "(597, 925, 3) (597, 925)\n",
      "5N 239\n"
     ]
    },
    {
     "name": "stderr",
     "output_type": "stream",
     "text": [
      "Load pre-computed features: 0.57 seconds\n",
      "Not using image_cache.\n"
     ]
    },
    {
     "name": "stdout",
     "output_type": "stream",
     "text": [
      "/data/CSHL_data_processed/CHATM2/CHATM2_prep2_raw_NtbNormalizedAdaptiveInvertedGammaJpeg/CHATM2_slide80_2018_02_14-S1_prep2_raw_NtbNormalizedAdaptiveInvertedGammaJpeg.jpg\n"
     ]
    },
    {
     "name": "stderr",
     "output_type": "stream",
     "text": [
      "Load background image: 2.31 seconds\n",
      "Rescale background image to output resolution: 0.30 seconds\n",
      "Predict scores 5N: 0.01 seconds\n",
      "Resample scoremap 5N: 0.10 seconds\n",
      "Load and rescale background image: 0.00 seconds\n",
      "Generate scoremap overlay: 0.05 seconds.\n",
      "Scoremap size does not match background image size. Need to resize: 0.07 seconds.\n",
      "Generate scoremap overlay image 5N: 0.15 seconds\n",
      "locate patches: 0.02 seconds\n"
     ]
    },
    {
     "name": "stdout",
     "output_type": "stream",
     "text": [
      "(597, 925, 3) (597, 925)\n",
      "5N 241\n"
     ]
    },
    {
     "name": "stderr",
     "output_type": "stream",
     "text": [
      "Load pre-computed features: 0.58 seconds\n",
      "Not using image_cache.\n"
     ]
    },
    {
     "name": "stdout",
     "output_type": "stream",
     "text": [
      "/data/CSHL_data_processed/CHATM2/CHATM2_prep2_raw_NtbNormalizedAdaptiveInvertedGammaJpeg/CHATM2_slide80_2018_02_14-S2_prep2_raw_NtbNormalizedAdaptiveInvertedGammaJpeg.jpg\n"
     ]
    },
    {
     "name": "stderr",
     "output_type": "stream",
     "text": [
      "Load background image: 2.26 seconds\n",
      "Rescale background image to output resolution: 0.30 seconds\n",
      "Predict scores 5N: 0.02 seconds\n",
      "Resample scoremap 5N: 0.09 seconds\n",
      "Load and rescale background image: 0.00 seconds\n",
      "Generate scoremap overlay: 0.05 seconds.\n",
      "Scoremap size does not match background image size. Need to resize: 0.07 seconds.\n",
      "Generate scoremap overlay image 5N: 0.15 seconds\n",
      "locate patches: 0.02 seconds\n"
     ]
    },
    {
     "name": "stdout",
     "output_type": "stream",
     "text": [
      "(597, 925, 3) (597, 925)\n",
      "5N 243\n"
     ]
    },
    {
     "name": "stderr",
     "output_type": "stream",
     "text": [
      "Load pre-computed features: 0.54 seconds\n",
      "Not using image_cache.\n"
     ]
    },
    {
     "name": "stdout",
     "output_type": "stream",
     "text": [
      "/data/CSHL_data_processed/CHATM2/CHATM2_prep2_raw_NtbNormalizedAdaptiveInvertedGammaJpeg/CHATM2_slide80_2018_02_14-S3_prep2_raw_NtbNormalizedAdaptiveInvertedGammaJpeg.jpg\n"
     ]
    },
    {
     "name": "stderr",
     "output_type": "stream",
     "text": [
      "Load background image: 2.29 seconds\n",
      "Rescale background image to output resolution: 0.29 seconds\n",
      "Predict scores 5N: 0.01 seconds\n",
      "Resample scoremap 5N: 0.09 seconds\n",
      "Load and rescale background image: 0.00 seconds\n",
      "Generate scoremap overlay: 0.05 seconds.\n",
      "Scoremap size does not match background image size. Need to resize: 0.08 seconds.\n",
      "Generate scoremap overlay image 5N: 0.15 seconds\n",
      "locate patches: 0.02 seconds\n"
     ]
    },
    {
     "name": "stdout",
     "output_type": "stream",
     "text": [
      "(597, 925, 3) (597, 925)\n",
      "5N 245\n"
     ]
    },
    {
     "name": "stderr",
     "output_type": "stream",
     "text": [
      "Load pre-computed features: 0.55 seconds\n",
      "Not using image_cache.\n"
     ]
    },
    {
     "name": "stdout",
     "output_type": "stream",
     "text": [
      "/data/CSHL_data_processed/CHATM2/CHATM2_prep2_raw_NtbNormalizedAdaptiveInvertedGammaJpeg/CHATM2_slide82_2018_02_14-S1_prep2_raw_NtbNormalizedAdaptiveInvertedGammaJpeg.jpg\n"
     ]
    },
    {
     "name": "stderr",
     "output_type": "stream",
     "text": [
      "Load background image: 2.27 seconds\n",
      "Rescale background image to output resolution: 0.29 seconds\n",
      "Predict scores 5N: 0.01 seconds\n",
      "Resample scoremap 5N: 0.09 seconds\n",
      "Load and rescale background image: 0.00 seconds\n",
      "Generate scoremap overlay: 0.05 seconds.\n",
      "Scoremap size does not match background image size. Need to resize: 0.08 seconds.\n",
      "Generate scoremap overlay image 5N: 0.15 seconds\n",
      "locate patches: 0.02 seconds\n"
     ]
    },
    {
     "name": "stdout",
     "output_type": "stream",
     "text": [
      "(597, 925, 3) (597, 925)\n",
      "5N 247\n"
     ]
    },
    {
     "name": "stderr",
     "output_type": "stream",
     "text": [
      "Load pre-computed features: 0.65 seconds\n",
      "Not using image_cache.\n"
     ]
    },
    {
     "name": "stdout",
     "output_type": "stream",
     "text": [
      "/data/CSHL_data_processed/CHATM2/CHATM2_prep2_raw_NtbNormalizedAdaptiveInvertedGammaJpeg/CHATM2_slide82_2018_02_14-S2_prep2_raw_NtbNormalizedAdaptiveInvertedGammaJpeg.jpg\n"
     ]
    },
    {
     "name": "stderr",
     "output_type": "stream",
     "text": [
      "Load background image: 2.27 seconds\n",
      "Rescale background image to output resolution: 0.29 seconds\n",
      "Predict scores 5N: 0.01 seconds\n",
      "Resample scoremap 5N: 0.09 seconds\n",
      "Load and rescale background image: 0.00 seconds\n",
      "Generate scoremap overlay: 0.05 seconds.\n",
      "Scoremap size does not match background image size. Need to resize: 0.07 seconds.\n",
      "Generate scoremap overlay image 5N: 0.15 seconds\n",
      "locate patches: 0.02 seconds\n"
     ]
    },
    {
     "name": "stdout",
     "output_type": "stream",
     "text": [
      "(597, 925, 3) (597, 925)\n",
      "5N 249\n"
     ]
    },
    {
     "name": "stderr",
     "output_type": "stream",
     "text": [
      "Load pre-computed features: 0.52 seconds\n",
      "Not using image_cache.\n"
     ]
    },
    {
     "name": "stdout",
     "output_type": "stream",
     "text": [
      "/data/CSHL_data_processed/CHATM2/CHATM2_prep2_raw_NtbNormalizedAdaptiveInvertedGammaJpeg/CHATM2_slide82_2018_02_14-S3_prep2_raw_NtbNormalizedAdaptiveInvertedGammaJpeg.jpg\n"
     ]
    },
    {
     "name": "stderr",
     "output_type": "stream",
     "text": [
      "Load background image: 2.35 seconds\n",
      "Rescale background image to output resolution: 0.29 seconds\n",
      "Predict scores 5N: 0.02 seconds\n",
      "Resample scoremap 5N: 0.09 seconds\n",
      "Load and rescale background image: 0.00 seconds\n",
      "Generate scoremap overlay: 0.05 seconds.\n",
      "Scoremap size does not match background image size. Need to resize: 0.07 seconds.\n",
      "Generate scoremap overlay image 5N: 0.16 seconds\n",
      "locate patches: 0.02 seconds\n"
     ]
    },
    {
     "name": "stdout",
     "output_type": "stream",
     "text": [
      "(597, 925, 3) (597, 925)\n",
      "5N 251\n"
     ]
    },
    {
     "name": "stderr",
     "output_type": "stream",
     "text": [
      "Load pre-computed features: 0.56 seconds\n",
      "Not using image_cache.\n"
     ]
    },
    {
     "name": "stdout",
     "output_type": "stream",
     "text": [
      "/data/CSHL_data_processed/CHATM2/CHATM2_prep2_raw_NtbNormalizedAdaptiveInvertedGammaJpeg/CHATM2_slide84_2018_02_14-S1_prep2_raw_NtbNormalizedAdaptiveInvertedGammaJpeg.jpg\n"
     ]
    },
    {
     "name": "stderr",
     "output_type": "stream",
     "text": [
      "Load background image: 2.26 seconds\n",
      "Rescale background image to output resolution: 0.30 seconds\n",
      "Predict scores 5N: 0.01 seconds\n",
      "Resample scoremap 5N: 0.09 seconds\n",
      "Load and rescale background image: 0.00 seconds\n",
      "Generate scoremap overlay: 0.05 seconds.\n",
      "Scoremap size does not match background image size. Need to resize: 0.08 seconds.\n",
      "Generate scoremap overlay image 5N: 0.15 seconds\n",
      "locate patches: 0.02 seconds\n"
     ]
    },
    {
     "name": "stdout",
     "output_type": "stream",
     "text": [
      "(597, 925, 3) (597, 925)\n",
      "5N 253\n"
     ]
    },
    {
     "name": "stderr",
     "output_type": "stream",
     "text": [
      "Load pre-computed features: 0.57 seconds\n",
      "Not using image_cache.\n"
     ]
    },
    {
     "name": "stdout",
     "output_type": "stream",
     "text": [
      "/data/CSHL_data_processed/CHATM2/CHATM2_prep2_raw_NtbNormalizedAdaptiveInvertedGammaJpeg/CHATM2_slide84_2018_02_14-S2_prep2_raw_NtbNormalizedAdaptiveInvertedGammaJpeg.jpg\n"
     ]
    },
    {
     "name": "stderr",
     "output_type": "stream",
     "text": [
      "Load background image: 2.34 seconds\n",
      "Rescale background image to output resolution: 0.29 seconds\n",
      "Predict scores 5N: 0.01 seconds\n",
      "Resample scoremap 5N: 0.09 seconds\n",
      "Load and rescale background image: 0.00 seconds\n",
      "Generate scoremap overlay: 0.05 seconds.\n",
      "Scoremap size does not match background image size. Need to resize: 0.07 seconds.\n",
      "Generate scoremap overlay image 5N: 0.15 seconds\n",
      "locate patches: 0.02 seconds\n"
     ]
    },
    {
     "name": "stdout",
     "output_type": "stream",
     "text": [
      "(597, 925, 3) (597, 925)\n",
      "5N 255\n"
     ]
    },
    {
     "name": "stderr",
     "output_type": "stream",
     "text": [
      "Load pre-computed features: 0.56 seconds\n",
      "Not using image_cache.\n"
     ]
    },
    {
     "name": "stdout",
     "output_type": "stream",
     "text": [
      "/data/CSHL_data_processed/CHATM2/CHATM2_prep2_raw_NtbNormalizedAdaptiveInvertedGammaJpeg/CHATM2_slide84_2018_02_14-S3_prep2_raw_NtbNormalizedAdaptiveInvertedGammaJpeg.jpg\n"
     ]
    },
    {
     "name": "stderr",
     "output_type": "stream",
     "text": [
      "Load background image: 2.21 seconds\n",
      "Rescale background image to output resolution: 0.29 seconds\n",
      "Predict scores 5N: 0.02 seconds\n",
      "Resample scoremap 5N: 0.09 seconds\n",
      "Load and rescale background image: 0.00 seconds\n",
      "Generate scoremap overlay: 0.05 seconds.\n",
      "Scoremap size does not match background image size. Need to resize: 0.08 seconds.\n",
      "Generate scoremap overlay image 5N: 0.15 seconds\n",
      "locate patches: 0.02 seconds\n"
     ]
    },
    {
     "name": "stdout",
     "output_type": "stream",
     "text": [
      "(597, 925, 3) (597, 925)\n",
      "5N 257\n"
     ]
    },
    {
     "name": "stderr",
     "output_type": "stream",
     "text": [
      "Load pre-computed features: 0.55 seconds\n",
      "Not using image_cache.\n"
     ]
    },
    {
     "name": "stdout",
     "output_type": "stream",
     "text": [
      "/data/CSHL_data_processed/CHATM2/CHATM2_prep2_raw_NtbNormalizedAdaptiveInvertedGammaJpeg/CHATM2_slide86_2018_02_13-S1_prep2_raw_NtbNormalizedAdaptiveInvertedGammaJpeg.jpg\n"
     ]
    },
    {
     "name": "stderr",
     "output_type": "stream",
     "text": [
      "Load background image: 2.24 seconds\n",
      "Rescale background image to output resolution: 0.29 seconds\n",
      "Predict scores 5N: 0.01 seconds\n",
      "Resample scoremap 5N: 0.09 seconds\n",
      "Load and rescale background image: 0.00 seconds\n",
      "Generate scoremap overlay: 0.05 seconds.\n",
      "Scoremap size does not match background image size. Need to resize: 0.08 seconds.\n",
      "Generate scoremap overlay image 5N: 0.17 seconds\n",
      "locate patches: 0.02 seconds\n"
     ]
    },
    {
     "name": "stdout",
     "output_type": "stream",
     "text": [
      "(597, 925, 3) (597, 925)\n",
      "5N 259\n"
     ]
    },
    {
     "name": "stderr",
     "output_type": "stream",
     "text": [
      "Load pre-computed features: 0.52 seconds\n",
      "Not using image_cache.\n"
     ]
    },
    {
     "name": "stdout",
     "output_type": "stream",
     "text": [
      "/data/CSHL_data_processed/CHATM2/CHATM2_prep2_raw_NtbNormalizedAdaptiveInvertedGammaJpeg/CHATM2_slide86_2018_02_13-S2_prep2_raw_NtbNormalizedAdaptiveInvertedGammaJpeg.jpg\n"
     ]
    },
    {
     "name": "stderr",
     "output_type": "stream",
     "text": [
      "Load background image: 2.20 seconds\n",
      "Rescale background image to output resolution: 0.29 seconds\n",
      "Predict scores 5N: 0.01 seconds\n",
      "Resample scoremap 5N: 0.09 seconds\n",
      "Load and rescale background image: 0.00 seconds\n",
      "Generate scoremap overlay: 0.05 seconds.\n",
      "Scoremap size does not match background image size. Need to resize: 0.07 seconds.\n",
      "Generate scoremap overlay image 5N: 0.15 seconds\n",
      "locate patches: 0.02 seconds\n"
     ]
    },
    {
     "name": "stdout",
     "output_type": "stream",
     "text": [
      "(597, 925, 3) (597, 925)\n",
      "5N 261\n"
     ]
    },
    {
     "name": "stderr",
     "output_type": "stream",
     "text": [
      "Load pre-computed features: 0.54 seconds\n",
      "Not using image_cache.\n"
     ]
    },
    {
     "name": "stdout",
     "output_type": "stream",
     "text": [
      "/data/CSHL_data_processed/CHATM2/CHATM2_prep2_raw_NtbNormalizedAdaptiveInvertedGammaJpeg/CHATM2_slide86_2018_02_13-S3_prep2_raw_NtbNormalizedAdaptiveInvertedGammaJpeg.jpg\n"
     ]
    },
    {
     "name": "stderr",
     "output_type": "stream",
     "text": [
      "Load background image: 2.29 seconds\n",
      "Rescale background image to output resolution: 0.30 seconds\n",
      "Predict scores 5N: 0.01 seconds\n",
      "Resample scoremap 5N: 0.09 seconds\n",
      "Load and rescale background image: 0.00 seconds\n",
      "Generate scoremap overlay: 0.05 seconds.\n",
      "Scoremap size does not match background image size. Need to resize: 0.07 seconds.\n",
      "Generate scoremap overlay image 5N: 0.15 seconds\n",
      "locate patches: 0.02 seconds\n"
     ]
    },
    {
     "name": "stdout",
     "output_type": "stream",
     "text": [
      "(597, 925, 3) (597, 925)\n",
      "5N 263\n"
     ]
    },
    {
     "name": "stderr",
     "output_type": "stream",
     "text": [
      "Load pre-computed features: 0.54 seconds\n",
      "Not using image_cache.\n"
     ]
    },
    {
     "name": "stdout",
     "output_type": "stream",
     "text": [
      "/data/CSHL_data_processed/CHATM2/CHATM2_prep2_raw_NtbNormalizedAdaptiveInvertedGammaJpeg/CHATM2_slide88_2018_02_13-S1_prep2_raw_NtbNormalizedAdaptiveInvertedGammaJpeg.jpg\n"
     ]
    },
    {
     "name": "stderr",
     "output_type": "stream",
     "text": [
      "Load background image: 2.17 seconds\n",
      "Rescale background image to output resolution: 0.29 seconds\n",
      "Predict scores 5N: 0.02 seconds\n",
      "Resample scoremap 5N: 0.09 seconds\n",
      "Load and rescale background image: 0.00 seconds\n",
      "Generate scoremap overlay: 0.05 seconds.\n",
      "Scoremap size does not match background image size. Need to resize: 0.08 seconds.\n",
      "Generate scoremap overlay image 5N: 0.15 seconds\n",
      "locate patches: 0.02 seconds\n"
     ]
    },
    {
     "name": "stdout",
     "output_type": "stream",
     "text": [
      "(597, 925, 3) (597, 925)\n",
      "5N 265\n"
     ]
    },
    {
     "name": "stderr",
     "output_type": "stream",
     "text": [
      "Load pre-computed features: 0.52 seconds\n",
      "Not using image_cache.\n"
     ]
    },
    {
     "name": "stdout",
     "output_type": "stream",
     "text": [
      "/data/CSHL_data_processed/CHATM2/CHATM2_prep2_raw_NtbNormalizedAdaptiveInvertedGammaJpeg/CHATM2_slide88_2018_02_13-S2_prep2_raw_NtbNormalizedAdaptiveInvertedGammaJpeg.jpg\n"
     ]
    },
    {
     "name": "stderr",
     "output_type": "stream",
     "text": [
      "Load background image: 2.17 seconds\n",
      "Rescale background image to output resolution: 0.29 seconds\n",
      "Predict scores 5N: 0.01 seconds\n",
      "Resample scoremap 5N: 0.09 seconds\n",
      "Load and rescale background image: 0.00 seconds\n",
      "Generate scoremap overlay: 0.05 seconds.\n",
      "Scoremap size does not match background image size. Need to resize: 0.07 seconds.\n",
      "Generate scoremap overlay image 5N: 0.15 seconds\n",
      "locate patches: 0.02 seconds\n"
     ]
    },
    {
     "name": "stdout",
     "output_type": "stream",
     "text": [
      "(597, 925, 3) (597, 925)\n",
      "5N 267\n"
     ]
    },
    {
     "name": "stderr",
     "output_type": "stream",
     "text": [
      "Load pre-computed features: 0.50 seconds\n",
      "Not using image_cache.\n"
     ]
    },
    {
     "name": "stdout",
     "output_type": "stream",
     "text": [
      "/data/CSHL_data_processed/CHATM2/CHATM2_prep2_raw_NtbNormalizedAdaptiveInvertedGammaJpeg/CHATM2_slide88_2018_02_13-S3_prep2_raw_NtbNormalizedAdaptiveInvertedGammaJpeg.jpg\n"
     ]
    },
    {
     "name": "stderr",
     "output_type": "stream",
     "text": [
      "Load background image: 2.16 seconds\n",
      "Rescale background image to output resolution: 0.30 seconds\n",
      "Predict scores 5N: 0.02 seconds\n",
      "Resample scoremap 5N: 0.09 seconds\n",
      "Load and rescale background image: 0.00 seconds\n",
      "Generate scoremap overlay: 0.05 seconds.\n",
      "Scoremap size does not match background image size. Need to resize: 0.08 seconds.\n",
      "Generate scoremap overlay image 5N: 0.15 seconds\n",
      "locate patches: 0.02 seconds\n"
     ]
    },
    {
     "name": "stdout",
     "output_type": "stream",
     "text": [
      "(597, 925, 3) (597, 925)\n",
      "5N 269\n"
     ]
    },
    {
     "name": "stderr",
     "output_type": "stream",
     "text": [
      "Load pre-computed features: 0.50 seconds\n",
      "Not using image_cache.\n"
     ]
    },
    {
     "name": "stdout",
     "output_type": "stream",
     "text": [
      "/data/CSHL_data_processed/CHATM2/CHATM2_prep2_raw_NtbNormalizedAdaptiveInvertedGammaJpeg/CHATM2_slide90_2018_02_13-S1_prep2_raw_NtbNormalizedAdaptiveInvertedGammaJpeg.jpg\n"
     ]
    },
    {
     "name": "stderr",
     "output_type": "stream",
     "text": [
      "Load background image: 2.18 seconds\n",
      "Rescale background image to output resolution: 0.29 seconds\n",
      "Predict scores 5N: 0.01 seconds\n",
      "Resample scoremap 5N: 0.09 seconds\n",
      "Load and rescale background image: 0.00 seconds\n",
      "Generate scoremap overlay: 0.05 seconds.\n",
      "Scoremap size does not match background image size. Need to resize: 0.08 seconds.\n",
      "Generate scoremap overlay image 5N: 0.15 seconds\n",
      "locate patches: 0.02 seconds\n"
     ]
    },
    {
     "name": "stdout",
     "output_type": "stream",
     "text": [
      "(597, 925, 3) (597, 925)\n",
      "5N 271\n"
     ]
    },
    {
     "name": "stderr",
     "output_type": "stream",
     "text": [
      "Load pre-computed features: 0.48 seconds\n",
      "Not using image_cache.\n"
     ]
    },
    {
     "name": "stdout",
     "output_type": "stream",
     "text": [
      "/data/CSHL_data_processed/CHATM2/CHATM2_prep2_raw_NtbNormalizedAdaptiveInvertedGammaJpeg/CHATM2_slide90_2018_02_13-S2_prep2_raw_NtbNormalizedAdaptiveInvertedGammaJpeg.jpg\n"
     ]
    },
    {
     "name": "stderr",
     "output_type": "stream",
     "text": [
      "Load background image: 2.54 seconds\n",
      "Rescale background image to output resolution: 0.29 seconds\n",
      "Predict scores 5N: 0.01 seconds\n",
      "Resample scoremap 5N: 0.09 seconds\n",
      "Load and rescale background image: 0.00 seconds\n",
      "Generate scoremap overlay: 0.05 seconds.\n",
      "Scoremap size does not match background image size. Need to resize: 0.07 seconds.\n",
      "Generate scoremap overlay image 5N: 0.15 seconds\n",
      "locate patches: 0.02 seconds\n"
     ]
    },
    {
     "name": "stdout",
     "output_type": "stream",
     "text": [
      "(597, 925, 3) (597, 925)\n",
      "5N 273\n"
     ]
    },
    {
     "name": "stderr",
     "output_type": "stream",
     "text": [
      "Load pre-computed features: 0.65 seconds\n",
      "Not using image_cache.\n"
     ]
    },
    {
     "name": "stdout",
     "output_type": "stream",
     "text": [
      "/data/CSHL_data_processed/CHATM2/CHATM2_prep2_raw_NtbNormalizedAdaptiveInvertedGammaJpeg/CHATM2_slide90_2018_02_13-S3_prep2_raw_NtbNormalizedAdaptiveInvertedGammaJpeg.jpg\n"
     ]
    },
    {
     "name": "stderr",
     "output_type": "stream",
     "text": [
      "Load background image: 2.33 seconds\n",
      "Rescale background image to output resolution: 0.31 seconds\n",
      "Predict scores 5N: 0.01 seconds\n",
      "Resample scoremap 5N: 0.09 seconds\n",
      "Load and rescale background image: 0.00 seconds\n",
      "Generate scoremap overlay: 0.05 seconds.\n",
      "Scoremap size does not match background image size. Need to resize: 0.08 seconds.\n",
      "Generate scoremap overlay image 5N: 0.15 seconds\n",
      "locate patches: 0.02 seconds\n"
     ]
    },
    {
     "name": "stdout",
     "output_type": "stream",
     "text": [
      "(597, 925, 3) (597, 925)\n",
      "5N 275\n"
     ]
    },
    {
     "name": "stderr",
     "output_type": "stream",
     "text": [
      "Load pre-computed features: 0.99 seconds\n",
      "Not using image_cache.\n"
     ]
    },
    {
     "name": "stdout",
     "output_type": "stream",
     "text": [
      "/data/CSHL_data_processed/CHATM2/CHATM2_prep2_raw_NtbNormalizedAdaptiveInvertedGammaJpeg/CHATM2_slide92_2018_02_13-S1_prep2_raw_NtbNormalizedAdaptiveInvertedGammaJpeg.jpg\n"
     ]
    },
    {
     "name": "stderr",
     "output_type": "stream",
     "text": [
      "Load background image: 2.19 seconds\n",
      "Rescale background image to output resolution: 0.30 seconds\n",
      "Predict scores 5N: 0.01 seconds\n",
      "Resample scoremap 5N: 0.09 seconds\n",
      "Load and rescale background image: 0.00 seconds\n",
      "Generate scoremap overlay: 0.05 seconds.\n",
      "Scoremap size does not match background image size. Need to resize: 0.07 seconds.\n",
      "Generate scoremap overlay image 5N: 0.15 seconds\n",
      "locate patches: 0.02 seconds\n"
     ]
    },
    {
     "name": "stdout",
     "output_type": "stream",
     "text": [
      "(597, 925, 3) (597, 925)\n",
      "5N 277\n"
     ]
    },
    {
     "name": "stderr",
     "output_type": "stream",
     "text": [
      "Load pre-computed features: 0.53 seconds\n",
      "Not using image_cache.\n"
     ]
    },
    {
     "name": "stdout",
     "output_type": "stream",
     "text": [
      "/data/CSHL_data_processed/CHATM2/CHATM2_prep2_raw_NtbNormalizedAdaptiveInvertedGammaJpeg/CHATM2_slide92_2018_02_13-S2_prep2_raw_NtbNormalizedAdaptiveInvertedGammaJpeg.jpg\n"
     ]
    },
    {
     "name": "stderr",
     "output_type": "stream",
     "text": [
      "Load background image: 2.21 seconds\n",
      "Rescale background image to output resolution: 0.29 seconds\n",
      "Predict scores 5N: 0.01 seconds\n",
      "Resample scoremap 5N: 0.09 seconds\n",
      "Load and rescale background image: 0.00 seconds\n",
      "Generate scoremap overlay: 0.05 seconds.\n",
      "Scoremap size does not match background image size. Need to resize: 0.08 seconds.\n",
      "Generate scoremap overlay image 5N: 0.15 seconds\n",
      "locate patches: 0.03 seconds\n"
     ]
    },
    {
     "name": "stdout",
     "output_type": "stream",
     "text": [
      "(597, 925, 3) (597, 925)\n",
      "5N 279\n"
     ]
    },
    {
     "name": "stderr",
     "output_type": "stream",
     "text": [
      "Load pre-computed features: 0.73 seconds\n",
      "Not using image_cache.\n"
     ]
    },
    {
     "name": "stdout",
     "output_type": "stream",
     "text": [
      "/data/CSHL_data_processed/CHATM2/CHATM2_prep2_raw_NtbNormalizedAdaptiveInvertedGammaJpeg/CHATM2_slide92_2018_02_13-S3_prep2_raw_NtbNormalizedAdaptiveInvertedGammaJpeg.jpg\n"
     ]
    },
    {
     "name": "stderr",
     "output_type": "stream",
     "text": [
      "Load background image: 2.20 seconds\n",
      "Rescale background image to output resolution: 0.29 seconds\n",
      "Predict scores 5N: 0.01 seconds\n",
      "Resample scoremap 5N: 0.09 seconds\n",
      "Load and rescale background image: 0.00 seconds\n",
      "Generate scoremap overlay: 0.05 seconds.\n",
      "Scoremap size does not match background image size. Need to resize: 0.08 seconds.\n",
      "Generate scoremap overlay image 5N: 0.15 seconds\n",
      "locate patches: 0.02 seconds\n"
     ]
    },
    {
     "name": "stdout",
     "output_type": "stream",
     "text": [
      "(597, 925, 3) (597, 925)\n",
      "5N 281\n"
     ]
    },
    {
     "name": "stderr",
     "output_type": "stream",
     "text": [
      "Load pre-computed features: 1.02 seconds\n",
      "Not using image_cache.\n"
     ]
    },
    {
     "name": "stdout",
     "output_type": "stream",
     "text": [
      "/data/CSHL_data_processed/CHATM2/CHATM2_prep2_raw_NtbNormalizedAdaptiveInvertedGammaJpeg/CHATM2_slide94_2018_02_13-S1_prep2_raw_NtbNormalizedAdaptiveInvertedGammaJpeg.jpg\n"
     ]
    },
    {
     "name": "stderr",
     "output_type": "stream",
     "text": [
      "Load background image: 2.16 seconds\n",
      "Rescale background image to output resolution: 0.29 seconds\n",
      "Predict scores 5N: 0.01 seconds\n",
      "Resample scoremap 5N: 0.09 seconds\n",
      "Load and rescale background image: 0.00 seconds\n",
      "Generate scoremap overlay: 0.05 seconds.\n",
      "Scoremap size does not match background image size. Need to resize: 0.08 seconds.\n",
      "Generate scoremap overlay image 5N: 0.15 seconds\n",
      "locate patches: 0.02 seconds\n"
     ]
    },
    {
     "name": "stdout",
     "output_type": "stream",
     "text": [
      "(597, 925, 3) (597, 925)\n",
      "5N 283\n"
     ]
    },
    {
     "name": "stderr",
     "output_type": "stream",
     "text": [
      "Load pre-computed features: 0.48 seconds\n",
      "Not using image_cache.\n"
     ]
    },
    {
     "name": "stdout",
     "output_type": "stream",
     "text": [
      "/data/CSHL_data_processed/CHATM2/CHATM2_prep2_raw_NtbNormalizedAdaptiveInvertedGammaJpeg/CHATM2_slide94_2018_02_13-S2_prep2_raw_NtbNormalizedAdaptiveInvertedGammaJpeg.jpg\n"
     ]
    },
    {
     "name": "stderr",
     "output_type": "stream",
     "text": [
      "Load background image: 2.06 seconds\n",
      "Rescale background image to output resolution: 0.30 seconds\n",
      "Predict scores 5N: 0.01 seconds\n",
      "Resample scoremap 5N: 0.09 seconds\n",
      "Load and rescale background image: 0.00 seconds\n",
      "Generate scoremap overlay: 0.05 seconds.\n",
      "Scoremap size does not match background image size. Need to resize: 0.08 seconds.\n",
      "Generate scoremap overlay image 5N: 0.15 seconds\n",
      "locate patches: 0.02 seconds\n"
     ]
    },
    {
     "name": "stdout",
     "output_type": "stream",
     "text": [
      "(597, 925, 3) (597, 925)\n",
      "5N 285\n"
     ]
    },
    {
     "name": "stderr",
     "output_type": "stream",
     "text": [
      "Load pre-computed features: 0.98 seconds\n",
      "Not using image_cache.\n"
     ]
    },
    {
     "name": "stdout",
     "output_type": "stream",
     "text": [
      "/data/CSHL_data_processed/CHATM2/CHATM2_prep2_raw_NtbNormalizedAdaptiveInvertedGammaJpeg/CHATM2_slide94_2018_02_13-S3_prep2_raw_NtbNormalizedAdaptiveInvertedGammaJpeg.jpg\n"
     ]
    },
    {
     "name": "stderr",
     "output_type": "stream",
     "text": [
      "Load background image: 2.13 seconds\n",
      "Rescale background image to output resolution: 0.30 seconds\n",
      "Predict scores 5N: 0.02 seconds\n",
      "Resample scoremap 5N: 0.09 seconds\n",
      "Load and rescale background image: 0.00 seconds\n",
      "Generate scoremap overlay: 0.05 seconds.\n",
      "Scoremap size does not match background image size. Need to resize: 0.08 seconds.\n",
      "Generate scoremap overlay image 5N: 0.16 seconds\n",
      "locate patches: 0.02 seconds\n"
     ]
    },
    {
     "name": "stdout",
     "output_type": "stream",
     "text": [
      "(597, 925, 3) (597, 925)\n",
      "5N 287\n"
     ]
    },
    {
     "name": "stderr",
     "output_type": "stream",
     "text": [
      "Load pre-computed features: 0.47 seconds\n",
      "Not using image_cache.\n"
     ]
    },
    {
     "name": "stdout",
     "output_type": "stream",
     "text": [
      "/data/CSHL_data_processed/CHATM2/CHATM2_prep2_raw_NtbNormalizedAdaptiveInvertedGammaJpeg/CHATM2_slide96_2018_02_13-S1_prep2_raw_NtbNormalizedAdaptiveInvertedGammaJpeg.jpg\n"
     ]
    },
    {
     "name": "stderr",
     "output_type": "stream",
     "text": [
      "Load background image: 2.19 seconds\n",
      "Rescale background image to output resolution: 0.29 seconds\n",
      "Predict scores 5N: 0.01 seconds\n",
      "Resample scoremap 5N: 0.09 seconds\n",
      "Load and rescale background image: 0.00 seconds\n",
      "Generate scoremap overlay: 0.05 seconds.\n",
      "Scoremap size does not match background image size. Need to resize: 0.08 seconds.\n",
      "Generate scoremap overlay image 5N: 0.16 seconds\n",
      "locate patches: 0.02 seconds\n"
     ]
    },
    {
     "name": "stdout",
     "output_type": "stream",
     "text": [
      "(597, 925, 3) (597, 925)\n",
      "6N 130\n"
     ]
    },
    {
     "name": "stderr",
     "output_type": "stream",
     "text": [
      "Load pre-computed features: 0.58 seconds\n",
      "Not using image_cache.\n"
     ]
    },
    {
     "name": "stdout",
     "output_type": "stream",
     "text": [
      "/data/CSHL_data_processed/CHATM2/CHATM2_prep2_raw_NtbNormalizedAdaptiveInvertedGammaJpeg/CHATM2_slide44_2018_01_22-S2_prep2_raw_NtbNormalizedAdaptiveInvertedGammaJpeg.jpg\n"
     ]
    },
    {
     "name": "stderr",
     "output_type": "stream",
     "text": [
      "Load background image: 2.52 seconds\n",
      "Rescale background image to output resolution: 0.14 seconds\n",
      "Predict scores 6N: 0.01 seconds\n",
      "Resample scoremap 6N: 0.09 seconds\n",
      "Load and rescale background image: 0.00 seconds\n",
      "Generate scoremap overlay: 0.05 seconds.\n",
      "Scoremap size does not match background image size. Need to resize: 0.08 seconds.\n",
      "Generate scoremap overlay image 6N: 0.15 seconds\n",
      "locate patches: 0.02 seconds\n"
     ]
    },
    {
     "name": "stdout",
     "output_type": "stream",
     "text": [
      "(597, 925, 3) (597, 925)\n",
      "6N 131\n"
     ]
    },
    {
     "name": "stderr",
     "output_type": "stream",
     "text": [
      "Load pre-computed features: 0.63 seconds\n",
      "Not using image_cache.\n"
     ]
    },
    {
     "name": "stdout",
     "output_type": "stream",
     "text": [
      "/data/CSHL_data_processed/CHATM2/CHATM2_prep2_raw_NtbNormalizedAdaptiveInvertedGammaJpeg/CHATM2_slide43_2018_01_22-S3_prep2_raw_NtbNormalizedAdaptiveInvertedGammaJpeg.jpg\n"
     ]
    },
    {
     "name": "stderr",
     "output_type": "stream",
     "text": [
      "Load background image: 2.54 seconds\n",
      "Rescale background image to output resolution: 0.14 seconds\n",
      "Predict scores 6N: 0.01 seconds\n",
      "Resample scoremap 6N: 0.09 seconds\n",
      "Load and rescale background image: 0.00 seconds\n",
      "Generate scoremap overlay: 0.05 seconds.\n",
      "Scoremap size does not match background image size. Need to resize: 0.07 seconds.\n",
      "Generate scoremap overlay image 6N: 0.15 seconds\n",
      "locate patches: 0.02 seconds\n"
     ]
    },
    {
     "name": "stdout",
     "output_type": "stream",
     "text": [
      "(597, 925, 3) (597, 925)\n",
      "6N 132\n"
     ]
    },
    {
     "name": "stderr",
     "output_type": "stream",
     "text": [
      "Load pre-computed features: 0.63 seconds\n",
      "Not using image_cache.\n"
     ]
    },
    {
     "name": "stdout",
     "output_type": "stream",
     "text": [
      "/data/CSHL_data_processed/CHATM2/CHATM2_prep2_raw_NtbNormalizedAdaptiveInvertedGammaJpeg/CHATM2_slide44_2018_01_22-S3_prep2_raw_NtbNormalizedAdaptiveInvertedGammaJpeg.jpg\n"
     ]
    },
    {
     "name": "stderr",
     "output_type": "stream",
     "text": [
      "Load background image: 2.58 seconds\n",
      "Rescale background image to output resolution: 0.14 seconds\n",
      "Predict scores 6N: 0.01 seconds\n",
      "Resample scoremap 6N: 0.09 seconds\n",
      "Load and rescale background image: 0.00 seconds\n",
      "Generate scoremap overlay: 0.05 seconds.\n",
      "Scoremap size does not match background image size. Need to resize: 0.08 seconds.\n",
      "Generate scoremap overlay image 6N: 0.16 seconds\n",
      "locate patches: 0.02 seconds\n"
     ]
    },
    {
     "name": "stdout",
     "output_type": "stream",
     "text": [
      "(597, 925, 3) (597, 925)\n",
      "6N 133\n"
     ]
    },
    {
     "name": "stderr",
     "output_type": "stream",
     "text": [
      "Load pre-computed features: 0.57 seconds\n",
      "Not using image_cache.\n"
     ]
    },
    {
     "name": "stdout",
     "output_type": "stream",
     "text": [
      "/data/CSHL_data_processed/CHATM2/CHATM2_prep2_raw_NtbNormalizedAdaptiveInvertedGammaJpeg/CHATM2_slide45_2018_01_22-S1_prep2_raw_NtbNormalizedAdaptiveInvertedGammaJpeg.jpg\n"
     ]
    },
    {
     "name": "stderr",
     "output_type": "stream",
     "text": [
      "Load background image: 2.58 seconds\n",
      "Rescale background image to output resolution: 0.14 seconds\n",
      "Predict scores 6N: 0.01 seconds\n",
      "Resample scoremap 6N: 0.09 seconds\n",
      "Load and rescale background image: 0.00 seconds\n",
      "Generate scoremap overlay: 0.05 seconds.\n",
      "Scoremap size does not match background image size. Need to resize: 0.08 seconds.\n",
      "Generate scoremap overlay image 6N: 0.15 seconds\n",
      "locate patches: 0.02 seconds\n"
     ]
    },
    {
     "name": "stdout",
     "output_type": "stream",
     "text": [
      "(597, 925, 3) (597, 925)\n",
      "6N 134\n"
     ]
    },
    {
     "name": "stderr",
     "output_type": "stream",
     "text": [
      "Load pre-computed features: 0.69 seconds\n",
      "Not using image_cache.\n"
     ]
    },
    {
     "name": "stdout",
     "output_type": "stream",
     "text": [
      "/data/CSHL_data_processed/CHATM2/CHATM2_prep2_raw_NtbNormalizedAdaptiveInvertedGammaJpeg/CHATM2_slide46_2018_01_22-S1_prep2_raw_NtbNormalizedAdaptiveInvertedGammaJpeg.jpg\n"
     ]
    },
    {
     "name": "stderr",
     "output_type": "stream",
     "text": [
      "Load background image: 2.47 seconds\n",
      "Rescale background image to output resolution: 0.14 seconds\n",
      "Predict scores 6N: 0.00 seconds\n",
      "Resample scoremap 6N: 0.09 seconds\n",
      "Load and rescale background image: 0.00 seconds\n",
      "Generate scoremap overlay: 0.05 seconds.\n",
      "Scoremap size does not match background image size. Need to resize: 0.08 seconds.\n",
      "Generate scoremap overlay image 6N: 0.16 seconds\n",
      "locate patches: 0.02 seconds\n"
     ]
    },
    {
     "name": "stdout",
     "output_type": "stream",
     "text": [
      "(597, 925, 3) (597, 925)\n",
      "6N 135\n"
     ]
    },
    {
     "name": "stderr",
     "output_type": "stream",
     "text": [
      "Load pre-computed features: 0.59 seconds\n",
      "Not using image_cache.\n"
     ]
    },
    {
     "name": "stdout",
     "output_type": "stream",
     "text": [
      "/data/CSHL_data_processed/CHATM2/CHATM2_prep2_raw_NtbNormalizedAdaptiveInvertedGammaJpeg/CHATM2_slide45_2018_01_22-S2_prep2_raw_NtbNormalizedAdaptiveInvertedGammaJpeg.jpg\n"
     ]
    },
    {
     "name": "stderr",
     "output_type": "stream",
     "text": [
      "Load background image: 2.52 seconds\n",
      "Rescale background image to output resolution: 0.14 seconds\n",
      "Predict scores 6N: 0.01 seconds\n",
      "Resample scoremap 6N: 0.09 seconds\n",
      "Load and rescale background image: 0.00 seconds\n",
      "Generate scoremap overlay: 0.05 seconds.\n",
      "Scoremap size does not match background image size. Need to resize: 0.07 seconds.\n",
      "Generate scoremap overlay image 6N: 0.15 seconds\n",
      "locate patches: 0.02 seconds\n"
     ]
    },
    {
     "name": "stdout",
     "output_type": "stream",
     "text": [
      "(597, 925, 3) (597, 925)\n",
      "6N 136\n"
     ]
    },
    {
     "name": "stderr",
     "output_type": "stream",
     "text": [
      "Load pre-computed features: 0.58 seconds\n",
      "Not using image_cache.\n"
     ]
    },
    {
     "name": "stdout",
     "output_type": "stream",
     "text": [
      "/data/CSHL_data_processed/CHATM2/CHATM2_prep2_raw_NtbNormalizedAdaptiveInvertedGammaJpeg/CHATM2_slide46_2018_01_22-S2_prep2_raw_NtbNormalizedAdaptiveInvertedGammaJpeg.jpg\n"
     ]
    },
    {
     "name": "stderr",
     "output_type": "stream",
     "text": [
      "Load background image: 2.52 seconds\n",
      "Rescale background image to output resolution: 0.14 seconds\n",
      "Predict scores 6N: 0.01 seconds\n",
      "Resample scoremap 6N: 0.09 seconds\n",
      "Load and rescale background image: 0.00 seconds\n",
      "Generate scoremap overlay: 0.05 seconds.\n",
      "Scoremap size does not match background image size. Need to resize: 0.08 seconds.\n",
      "Generate scoremap overlay image 6N: 0.15 seconds\n",
      "locate patches: 0.02 seconds\n"
     ]
    },
    {
     "name": "stdout",
     "output_type": "stream",
     "text": [
      "(597, 925, 3) (597, 925)\n",
      "6N 137\n"
     ]
    },
    {
     "name": "stderr",
     "output_type": "stream",
     "text": [
      "Load pre-computed features: 0.58 seconds\n",
      "Not using image_cache.\n"
     ]
    },
    {
     "name": "stdout",
     "output_type": "stream",
     "text": [
      "/data/CSHL_data_processed/CHATM2/CHATM2_prep2_raw_NtbNormalizedAdaptiveInvertedGammaJpeg/CHATM2_slide45_2018_01_22-S3_prep2_raw_NtbNormalizedAdaptiveInvertedGammaJpeg.jpg\n"
     ]
    },
    {
     "name": "stderr",
     "output_type": "stream",
     "text": [
      "Load background image: 2.57 seconds\n",
      "Rescale background image to output resolution: 0.14 seconds\n",
      "Predict scores 6N: 0.01 seconds\n",
      "Resample scoremap 6N: 0.09 seconds\n",
      "Load and rescale background image: 0.00 seconds\n",
      "Generate scoremap overlay: 0.05 seconds.\n",
      "Scoremap size does not match background image size. Need to resize: 0.08 seconds.\n",
      "Generate scoremap overlay image 6N: 0.16 seconds\n",
      "locate patches: 0.02 seconds\n"
     ]
    },
    {
     "name": "stdout",
     "output_type": "stream",
     "text": [
      "(597, 925, 3) (597, 925)\n",
      "6N 138\n"
     ]
    },
    {
     "name": "stderr",
     "output_type": "stream",
     "text": [
      "Load pre-computed features: 0.59 seconds\n",
      "Not using image_cache.\n"
     ]
    },
    {
     "name": "stdout",
     "output_type": "stream",
     "text": [
      "/data/CSHL_data_processed/CHATM2/CHATM2_prep2_raw_NtbNormalizedAdaptiveInvertedGammaJpeg/CHATM2_slide46_2018_01_22-S3_prep2_raw_NtbNormalizedAdaptiveInvertedGammaJpeg.jpg\n"
     ]
    },
    {
     "name": "stderr",
     "output_type": "stream",
     "text": [
      "Load background image: 2.49 seconds\n",
      "Rescale background image to output resolution: 0.14 seconds\n",
      "Predict scores 6N: 0.01 seconds\n",
      "Resample scoremap 6N: 0.09 seconds\n",
      "Load and rescale background image: 0.00 seconds\n",
      "Generate scoremap overlay: 0.05 seconds.\n",
      "Scoremap size does not match background image size. Need to resize: 0.07 seconds.\n",
      "Generate scoremap overlay image 6N: 0.15 seconds\n",
      "locate patches: 0.02 seconds\n"
     ]
    },
    {
     "name": "stdout",
     "output_type": "stream",
     "text": [
      "(597, 925, 3) (597, 925)\n",
      "6N 140\n"
     ]
    },
    {
     "name": "stderr",
     "output_type": "stream",
     "text": [
      "Load pre-computed features: 0.61 seconds\n",
      "Not using image_cache.\n"
     ]
    },
    {
     "name": "stdout",
     "output_type": "stream",
     "text": [
      "/data/CSHL_data_processed/CHATM2/CHATM2_prep2_raw_NtbNormalizedAdaptiveInvertedGammaJpeg/CHATM2_slide48_2018_01_22-S1_prep2_raw_NtbNormalizedAdaptiveInvertedGammaJpeg.jpg\n"
     ]
    },
    {
     "name": "stderr",
     "output_type": "stream",
     "text": [
      "Load background image: 2.77 seconds\n",
      "Rescale background image to output resolution: 0.14 seconds\n",
      "Predict scores 6N: 0.01 seconds\n",
      "Resample scoremap 6N: 0.09 seconds\n",
      "Load and rescale background image: 0.00 seconds\n",
      "Generate scoremap overlay: 0.05 seconds.\n",
      "Scoremap size does not match background image size. Need to resize: 0.09 seconds.\n",
      "Generate scoremap overlay image 6N: 0.16 seconds\n",
      "locate patches: 0.02 seconds\n"
     ]
    },
    {
     "name": "stdout",
     "output_type": "stream",
     "text": [
      "(597, 925, 3) (597, 925)\n",
      "6N 142\n"
     ]
    },
    {
     "name": "stderr",
     "output_type": "stream",
     "text": [
      "Load pre-computed features: 0.63 seconds\n",
      "Not using image_cache.\n"
     ]
    },
    {
     "name": "stdout",
     "output_type": "stream",
     "text": [
      "/data/CSHL_data_processed/CHATM2/CHATM2_prep2_raw_NtbNormalizedAdaptiveInvertedGammaJpeg/CHATM2_slide48_2018_01_22-S2_prep2_raw_NtbNormalizedAdaptiveInvertedGammaJpeg.jpg\n"
     ]
    },
    {
     "name": "stderr",
     "output_type": "stream",
     "text": [
      "Load background image: 2.49 seconds\n",
      "Rescale background image to output resolution: 0.14 seconds\n",
      "Predict scores 6N: 0.01 seconds\n",
      "Resample scoremap 6N: 0.09 seconds\n",
      "Load and rescale background image: 0.00 seconds\n",
      "Generate scoremap overlay: 0.05 seconds.\n",
      "Scoremap size does not match background image size. Need to resize: 0.08 seconds.\n",
      "Generate scoremap overlay image 6N: 0.15 seconds\n",
      "locate patches: 0.02 seconds\n"
     ]
    },
    {
     "name": "stdout",
     "output_type": "stream",
     "text": [
      "(597, 925, 3) (597, 925)\n",
      "6N 144\n"
     ]
    },
    {
     "name": "stderr",
     "output_type": "stream",
     "text": [
      "Load pre-computed features: 0.63 seconds\n",
      "Not using image_cache.\n"
     ]
    },
    {
     "name": "stdout",
     "output_type": "stream",
     "text": [
      "/data/CSHL_data_processed/CHATM2/CHATM2_prep2_raw_NtbNormalizedAdaptiveInvertedGammaJpeg/CHATM2_slide48_2018_01_22-S3_prep2_raw_NtbNormalizedAdaptiveInvertedGammaJpeg.jpg\n"
     ]
    },
    {
     "name": "stderr",
     "output_type": "stream",
     "text": [
      "Load background image: 2.55 seconds\n",
      "Rescale background image to output resolution: 0.14 seconds\n",
      "Predict scores 6N: 0.00 seconds\n",
      "Resample scoremap 6N: 0.10 seconds\n",
      "Load and rescale background image: 0.00 seconds\n",
      "Generate scoremap overlay: 0.06 seconds.\n",
      "Scoremap size does not match background image size. Need to resize: 0.07 seconds.\n",
      "Generate scoremap overlay image 6N: 0.16 seconds\n",
      "locate patches: 0.02 seconds\n"
     ]
    },
    {
     "name": "stdout",
     "output_type": "stream",
     "text": [
      "(597, 925, 3) (597, 925)\n",
      "6N 145\n"
     ]
    },
    {
     "name": "stderr",
     "output_type": "stream",
     "text": [
      "Load pre-computed features: 0.60 seconds\n",
      "Not using image_cache.\n"
     ]
    },
    {
     "name": "stdout",
     "output_type": "stream",
     "text": [
      "/data/CSHL_data_processed/CHATM2/CHATM2_prep2_raw_NtbNormalizedAdaptiveInvertedGammaJpeg/CHATM2_slide49_2018_01_22-S1_prep2_raw_NtbNormalizedAdaptiveInvertedGammaJpeg.jpg\n"
     ]
    },
    {
     "name": "stderr",
     "output_type": "stream",
     "text": [
      "Load background image: 2.63 seconds\n",
      "Rescale background image to output resolution: 0.14 seconds\n",
      "Predict scores 6N: 0.01 seconds\n",
      "Resample scoremap 6N: 0.09 seconds\n",
      "Load and rescale background image: 0.00 seconds\n",
      "Generate scoremap overlay: 0.05 seconds.\n",
      "Scoremap size does not match background image size. Need to resize: 0.08 seconds.\n",
      "Generate scoremap overlay image 6N: 0.15 seconds\n",
      "locate patches: 0.02 seconds\n"
     ]
    },
    {
     "name": "stdout",
     "output_type": "stream",
     "text": [
      "(597, 925, 3) (597, 925)\n",
      "6N 146\n"
     ]
    },
    {
     "name": "stderr",
     "output_type": "stream",
     "text": [
      "Load pre-computed features: 0.64 seconds\n",
      "Not using image_cache.\n"
     ]
    },
    {
     "name": "stdout",
     "output_type": "stream",
     "text": [
      "/data/CSHL_data_processed/CHATM2/CHATM2_prep2_raw_NtbNormalizedAdaptiveInvertedGammaJpeg/CHATM2_slide50_2018_01_22-S1_prep2_raw_NtbNormalizedAdaptiveInvertedGammaJpeg.jpg\n"
     ]
    },
    {
     "name": "stderr",
     "output_type": "stream",
     "text": [
      "Load background image: 2.58 seconds\n",
      "Rescale background image to output resolution: 0.14 seconds\n",
      "Predict scores 6N: 0.01 seconds\n",
      "Resample scoremap 6N: 0.09 seconds\n",
      "Load and rescale background image: 0.00 seconds\n",
      "Generate scoremap overlay: 0.05 seconds.\n",
      "Scoremap size does not match background image size. Need to resize: 0.08 seconds.\n",
      "Generate scoremap overlay image 6N: 0.15 seconds\n",
      "locate patches: 0.02 seconds\n"
     ]
    },
    {
     "name": "stdout",
     "output_type": "stream",
     "text": [
      "(597, 925, 3) (597, 925)\n",
      "6N 147\n"
     ]
    },
    {
     "name": "stderr",
     "output_type": "stream",
     "text": [
      "Load pre-computed features: 0.63 seconds\n",
      "Not using image_cache.\n"
     ]
    },
    {
     "name": "stdout",
     "output_type": "stream",
     "text": [
      "/data/CSHL_data_processed/CHATM2/CHATM2_prep2_raw_NtbNormalizedAdaptiveInvertedGammaJpeg/CHATM2_slide49_2018_01_22-S2_prep2_raw_NtbNormalizedAdaptiveInvertedGammaJpeg.jpg\n"
     ]
    },
    {
     "name": "stderr",
     "output_type": "stream",
     "text": [
      "Load background image: 2.61 seconds\n",
      "Rescale background image to output resolution: 0.14 seconds\n",
      "Predict scores 6N: 0.01 seconds\n",
      "Resample scoremap 6N: 0.09 seconds\n",
      "Load and rescale background image: 0.00 seconds\n",
      "Generate scoremap overlay: 0.05 seconds.\n",
      "Scoremap size does not match background image size. Need to resize: 0.07 seconds.\n",
      "Generate scoremap overlay image 6N: 0.16 seconds\n",
      "locate patches: 0.02 seconds\n"
     ]
    },
    {
     "name": "stdout",
     "output_type": "stream",
     "text": [
      "(597, 925, 3) (597, 925)\n",
      "6N 148\n"
     ]
    },
    {
     "name": "stderr",
     "output_type": "stream",
     "text": [
      "Load pre-computed features: 0.69 seconds\n",
      "Not using image_cache.\n"
     ]
    },
    {
     "name": "stdout",
     "output_type": "stream",
     "text": [
      "/data/CSHL_data_processed/CHATM2/CHATM2_prep2_raw_NtbNormalizedAdaptiveInvertedGammaJpeg/CHATM2_slide50_2018_01_22-S2_prep2_raw_NtbNormalizedAdaptiveInvertedGammaJpeg.jpg\n"
     ]
    },
    {
     "name": "stderr",
     "output_type": "stream",
     "text": [
      "Load background image: 2.60 seconds\n",
      "Rescale background image to output resolution: 0.14 seconds\n",
      "Predict scores 6N: 0.01 seconds\n",
      "Resample scoremap 6N: 0.09 seconds\n",
      "Load and rescale background image: 0.00 seconds\n",
      "Generate scoremap overlay: 0.05 seconds.\n",
      "Scoremap size does not match background image size. Need to resize: 0.07 seconds.\n",
      "Generate scoremap overlay image 6N: 0.15 seconds\n",
      "locate patches: 0.02 seconds\n"
     ]
    },
    {
     "name": "stdout",
     "output_type": "stream",
     "text": [
      "(597, 925, 3) (597, 925)\n",
      "6N 150\n"
     ]
    },
    {
     "name": "stderr",
     "output_type": "stream",
     "text": [
      "Load pre-computed features: 0.66 seconds\n",
      "Not using image_cache.\n"
     ]
    },
    {
     "name": "stdout",
     "output_type": "stream",
     "text": [
      "/data/CSHL_data_processed/CHATM2/CHATM2_prep2_raw_NtbNormalizedAdaptiveInvertedGammaJpeg/CHATM2_slide50_2018_01_22-S3_prep2_raw_NtbNormalizedAdaptiveInvertedGammaJpeg.jpg\n"
     ]
    },
    {
     "name": "stderr",
     "output_type": "stream",
     "text": [
      "Load background image: 2.59 seconds\n",
      "Rescale background image to output resolution: 0.14 seconds\n",
      "Predict scores 6N: 0.01 seconds\n",
      "Resample scoremap 6N: 0.09 seconds\n",
      "Load and rescale background image: 0.00 seconds\n",
      "Generate scoremap overlay: 0.05 seconds.\n",
      "Scoremap size does not match background image size. Need to resize: 0.08 seconds.\n",
      "Generate scoremap overlay image 6N: 0.15 seconds\n",
      "locate patches: 0.02 seconds\n"
     ]
    },
    {
     "name": "stdout",
     "output_type": "stream",
     "text": [
      "(597, 925, 3) (597, 925)\n",
      "6N 151\n"
     ]
    },
    {
     "name": "stderr",
     "output_type": "stream",
     "text": [
      "Load pre-computed features: 0.64 seconds\n",
      "Not using image_cache.\n"
     ]
    },
    {
     "name": "stdout",
     "output_type": "stream",
     "text": [
      "/data/CSHL_data_processed/CHATM2/CHATM2_prep2_raw_NtbNormalizedAdaptiveInvertedGammaJpeg/CHATM2_slide51_2018_01_22-S1_prep2_raw_NtbNormalizedAdaptiveInvertedGammaJpeg.jpg\n"
     ]
    },
    {
     "name": "stderr",
     "output_type": "stream",
     "text": [
      "Load background image: 2.52 seconds\n",
      "Rescale background image to output resolution: 0.14 seconds\n",
      "Predict scores 6N: 0.01 seconds\n",
      "Resample scoremap 6N: 0.09 seconds\n",
      "Load and rescale background image: 0.00 seconds\n",
      "Generate scoremap overlay: 0.05 seconds.\n",
      "Scoremap size does not match background image size. Need to resize: 0.07 seconds.\n",
      "Generate scoremap overlay image 6N: 0.15 seconds\n",
      "locate patches: 0.02 seconds\n"
     ]
    },
    {
     "name": "stdout",
     "output_type": "stream",
     "text": [
      "(597, 925, 3) (597, 925)\n",
      "6N 152\n"
     ]
    },
    {
     "name": "stderr",
     "output_type": "stream",
     "text": [
      "Load pre-computed features: 0.51 seconds\n",
      "Not using image_cache.\n"
     ]
    },
    {
     "name": "stdout",
     "output_type": "stream",
     "text": [
      "/data/CSHL_data_processed/CHATM2/CHATM2_prep2_raw_NtbNormalizedAdaptiveInvertedGammaJpeg/CHATM2_slide52_2018_01_22-S1_prep2_raw_NtbNormalizedAdaptiveInvertedGammaJpeg.jpg\n"
     ]
    },
    {
     "name": "stderr",
     "output_type": "stream",
     "text": [
      "Load background image: 2.18 seconds\n",
      "Rescale background image to output resolution: 0.14 seconds\n",
      "Predict scores 6N: 0.00 seconds\n",
      "Resample scoremap 6N: 0.06 seconds\n",
      "Load and rescale background image: 0.00 seconds\n",
      "Generate scoremap overlay: 0.05 seconds.\n",
      "Scoremap size does not match background image size. Need to resize: 0.07 seconds.\n"
     ]
    },
    {
     "name": "stdout",
     "output_type": "stream",
     "text": [
      "(597, 925, 3) (597, 925)\n",
      "6N 153\n"
     ]
    },
    {
     "name": "stderr",
     "output_type": "stream",
     "text": [
      "Generate scoremap overlay image 6N: 0.15 seconds\n",
      "locate patches: 0.02 seconds\n",
      "Load pre-computed features: 0.61 seconds\n",
      "Not using image_cache.\n"
     ]
    },
    {
     "name": "stdout",
     "output_type": "stream",
     "text": [
      "/data/CSHL_data_processed/CHATM2/CHATM2_prep2_raw_NtbNormalizedAdaptiveInvertedGammaJpeg/CHATM2_slide51_2018_01_22-S2_prep2_raw_NtbNormalizedAdaptiveInvertedGammaJpeg.jpg\n"
     ]
    },
    {
     "name": "stderr",
     "output_type": "stream",
     "text": [
      "Load background image: 2.58 seconds\n",
      "Rescale background image to output resolution: 0.16 seconds\n",
      "Predict scores 6N: 0.01 seconds\n",
      "Resample scoremap 6N: 0.09 seconds\n",
      "Load and rescale background image: 0.00 seconds\n",
      "Generate scoremap overlay: 0.05 seconds.\n",
      "Scoremap size does not match background image size. Need to resize: 0.08 seconds.\n",
      "Generate scoremap overlay image 6N: 0.15 seconds\n",
      "locate patches: 0.02 seconds\n"
     ]
    },
    {
     "name": "stdout",
     "output_type": "stream",
     "text": [
      "(597, 925, 3) (597, 925)\n",
      "6N 154\n"
     ]
    },
    {
     "name": "stderr",
     "output_type": "stream",
     "text": [
      "Load pre-computed features: 0.48 seconds\n",
      "Not using image_cache.\n"
     ]
    },
    {
     "name": "stdout",
     "output_type": "stream",
     "text": [
      "/data/CSHL_data_processed/CHATM2/CHATM2_prep2_raw_NtbNormalizedAdaptiveInvertedGammaJpeg/CHATM2_slide52_2018_01_22-S2_prep2_raw_NtbNormalizedAdaptiveInvertedGammaJpeg.jpg\n"
     ]
    },
    {
     "name": "stderr",
     "output_type": "stream",
     "text": [
      "Load background image: 2.21 seconds\n",
      "Rescale background image to output resolution: 0.14 seconds\n",
      "Predict scores 6N: 0.01 seconds\n",
      "Resample scoremap 6N: 0.09 seconds\n",
      "Load and rescale background image: 0.00 seconds\n",
      "Generate scoremap overlay: 0.05 seconds.\n",
      "Scoremap size does not match background image size. Need to resize: 0.07 seconds.\n",
      "Generate scoremap overlay image 6N: 0.15 seconds\n",
      "locate patches: 0.02 seconds\n"
     ]
    },
    {
     "name": "stdout",
     "output_type": "stream",
     "text": [
      "(597, 925, 3) (597, 925)\n",
      "6N 155\n"
     ]
    },
    {
     "name": "stderr",
     "output_type": "stream",
     "text": [
      "Load pre-computed features: 0.60 seconds\n",
      "Not using image_cache.\n"
     ]
    },
    {
     "name": "stdout",
     "output_type": "stream",
     "text": [
      "/data/CSHL_data_processed/CHATM2/CHATM2_prep2_raw_NtbNormalizedAdaptiveInvertedGammaJpeg/CHATM2_slide51_2018_01_22-S3_prep2_raw_NtbNormalizedAdaptiveInvertedGammaJpeg.jpg\n"
     ]
    },
    {
     "name": "stderr",
     "output_type": "stream",
     "text": [
      "Load background image: 2.67 seconds\n",
      "Rescale background image to output resolution: 0.14 seconds\n",
      "Predict scores 6N: 0.00 seconds\n",
      "Resample scoremap 6N: 0.09 seconds\n",
      "Load and rescale background image: 0.00 seconds\n",
      "Generate scoremap overlay: 0.05 seconds.\n",
      "Scoremap size does not match background image size. Need to resize: 0.07 seconds.\n",
      "Generate scoremap overlay image 6N: 0.15 seconds\n",
      "locate patches: 0.02 seconds\n"
     ]
    },
    {
     "name": "stdout",
     "output_type": "stream",
     "text": [
      "(597, 925, 3) (597, 925)\n",
      "6N 156\n"
     ]
    },
    {
     "name": "stderr",
     "output_type": "stream",
     "text": [
      "Load pre-computed features: 0.51 seconds\n",
      "Not using image_cache.\n"
     ]
    },
    {
     "name": "stdout",
     "output_type": "stream",
     "text": [
      "/data/CSHL_data_processed/CHATM2/CHATM2_prep2_raw_NtbNormalizedAdaptiveInvertedGammaJpeg/CHATM2_slide52_2018_01_22-S3_prep2_raw_NtbNormalizedAdaptiveInvertedGammaJpeg.jpg\n"
     ]
    },
    {
     "name": "stderr",
     "output_type": "stream",
     "text": [
      "Load background image: 2.22 seconds\n",
      "Rescale background image to output resolution: 0.14 seconds\n",
      "Predict scores 6N: 0.01 seconds\n",
      "Resample scoremap 6N: 0.09 seconds\n",
      "Load and rescale background image: 0.00 seconds\n",
      "Generate scoremap overlay: 0.05 seconds.\n",
      "Scoremap size does not match background image size. Need to resize: 0.08 seconds.\n",
      "Generate scoremap overlay image 6N: 0.15 seconds\n",
      "locate patches: 0.02 seconds\n"
     ]
    },
    {
     "name": "stdout",
     "output_type": "stream",
     "text": [
      "(597, 925, 3) (597, 925)\n",
      "6N 157\n"
     ]
    },
    {
     "name": "stderr",
     "output_type": "stream",
     "text": [
      "Load pre-computed features: 0.66 seconds\n",
      "Not using image_cache.\n"
     ]
    },
    {
     "name": "stdout",
     "output_type": "stream",
     "text": [
      "/data/CSHL_data_processed/CHATM2/CHATM2_prep2_raw_NtbNormalizedAdaptiveInvertedGammaJpeg/CHATM2_slide53_2018_01_22-S1_prep2_raw_NtbNormalizedAdaptiveInvertedGammaJpeg.jpg\n"
     ]
    },
    {
     "name": "stderr",
     "output_type": "stream",
     "text": [
      "Load background image: 2.54 seconds\n",
      "Rescale background image to output resolution: 0.14 seconds\n",
      "Predict scores 6N: 0.00 seconds\n",
      "Resample scoremap 6N: 0.09 seconds\n",
      "Load and rescale background image: 0.00 seconds\n",
      "Generate scoremap overlay: 0.05 seconds.\n",
      "Scoremap size does not match background image size. Need to resize: 0.07 seconds.\n",
      "Generate scoremap overlay image 6N: 0.15 seconds\n",
      "locate patches: 0.02 seconds\n"
     ]
    },
    {
     "name": "stdout",
     "output_type": "stream",
     "text": [
      "(597, 925, 3) (597, 925)\n",
      "6N 158\n"
     ]
    },
    {
     "name": "stderr",
     "output_type": "stream",
     "text": [
      "Load pre-computed features: 0.50 seconds\n",
      "Not using image_cache.\n"
     ]
    },
    {
     "name": "stdout",
     "output_type": "stream",
     "text": [
      "/data/CSHL_data_processed/CHATM2/CHATM2_prep2_raw_NtbNormalizedAdaptiveInvertedGammaJpeg/CHATM2_slide54_2018_01_22-S1_prep2_raw_NtbNormalizedAdaptiveInvertedGammaJpeg.jpg\n"
     ]
    },
    {
     "name": "stderr",
     "output_type": "stream",
     "text": [
      "Load background image: 2.29 seconds\n",
      "Rescale background image to output resolution: 0.14 seconds\n",
      "Predict scores 6N: 0.00 seconds\n",
      "Resample scoremap 6N: 0.09 seconds\n",
      "Load and rescale background image: 0.00 seconds\n",
      "Generate scoremap overlay: 0.05 seconds.\n",
      "Scoremap size does not match background image size. Need to resize: 0.07 seconds.\n",
      "Generate scoremap overlay image 6N: 0.15 seconds\n",
      "locate patches: 0.02 seconds\n"
     ]
    },
    {
     "name": "stdout",
     "output_type": "stream",
     "text": [
      "(597, 925, 3) (597, 925)\n",
      "6N 159\n"
     ]
    },
    {
     "name": "stderr",
     "output_type": "stream",
     "text": [
      "Load pre-computed features: 0.62 seconds\n",
      "Not using image_cache.\n"
     ]
    },
    {
     "name": "stdout",
     "output_type": "stream",
     "text": [
      "/data/CSHL_data_processed/CHATM2/CHATM2_prep2_raw_NtbNormalizedAdaptiveInvertedGammaJpeg/CHATM2_slide53_2018_01_22-S2_prep2_raw_NtbNormalizedAdaptiveInvertedGammaJpeg.jpg\n"
     ]
    },
    {
     "name": "stderr",
     "output_type": "stream",
     "text": [
      "Load background image: 2.58 seconds\n",
      "Rescale background image to output resolution: 0.14 seconds\n",
      "Predict scores 6N: 0.01 seconds\n",
      "Resample scoremap 6N: 0.10 seconds\n",
      "Load and rescale background image: 0.00 seconds\n",
      "Generate scoremap overlay: 0.06 seconds.\n",
      "Scoremap size does not match background image size. Need to resize: 0.09 seconds.\n",
      "Generate scoremap overlay image 6N: 0.18 seconds\n",
      "locate patches: 0.02 seconds\n"
     ]
    },
    {
     "name": "stdout",
     "output_type": "stream",
     "text": [
      "(597, 925, 3) (597, 925)\n",
      "6N 160\n"
     ]
    },
    {
     "name": "stderr",
     "output_type": "stream",
     "text": [
      "Load pre-computed features: 0.73 seconds\n",
      "Not using image_cache.\n"
     ]
    },
    {
     "name": "stdout",
     "output_type": "stream",
     "text": [
      "/data/CSHL_data_processed/CHATM2/CHATM2_prep2_raw_NtbNormalizedAdaptiveInvertedGammaJpeg/CHATM2_slide54_2018_01_22-S2_prep2_raw_NtbNormalizedAdaptiveInvertedGammaJpeg.jpg\n"
     ]
    },
    {
     "name": "stderr",
     "output_type": "stream",
     "text": [
      "Load background image: 2.57 seconds\n",
      "Rescale background image to output resolution: 0.14 seconds\n",
      "Predict scores 6N: 0.01 seconds\n",
      "Resample scoremap 6N: 0.06 seconds\n",
      "Load and rescale background image: 0.00 seconds\n",
      "Generate scoremap overlay: 0.05 seconds.\n",
      "Scoremap size does not match background image size. Need to resize: 0.07 seconds.\n"
     ]
    },
    {
     "name": "stdout",
     "output_type": "stream",
     "text": [
      "(597, 925, 3) (597, 925)\n",
      "6N 161\n"
     ]
    },
    {
     "name": "stderr",
     "output_type": "stream",
     "text": [
      "Generate scoremap overlay image 6N: 0.15 seconds\n",
      "locate patches: 0.02 seconds\n",
      "Load pre-computed features: 0.61 seconds\n",
      "Not using image_cache.\n"
     ]
    },
    {
     "name": "stdout",
     "output_type": "stream",
     "text": [
      "/data/CSHL_data_processed/CHATM2/CHATM2_prep2_raw_NtbNormalizedAdaptiveInvertedGammaJpeg/CHATM2_slide53_2018_01_22-S3_prep2_raw_NtbNormalizedAdaptiveInvertedGammaJpeg.jpg\n"
     ]
    },
    {
     "name": "stderr",
     "output_type": "stream",
     "text": [
      "Load background image: 2.68 seconds\n",
      "Rescale background image to output resolution: 0.14 seconds\n",
      "Predict scores 6N: 0.01 seconds\n",
      "Resample scoremap 6N: 0.09 seconds\n",
      "Load and rescale background image: 0.00 seconds\n",
      "Generate scoremap overlay: 0.05 seconds.\n",
      "Scoremap size does not match background image size. Need to resize: 0.09 seconds.\n",
      "Generate scoremap overlay image 6N: 0.18 seconds\n",
      "locate patches: 0.02 seconds\n"
     ]
    },
    {
     "name": "stdout",
     "output_type": "stream",
     "text": [
      "(597, 925, 3) (597, 925)\n",
      "6N 162\n"
     ]
    },
    {
     "name": "stderr",
     "output_type": "stream",
     "text": [
      "Load pre-computed features: 0.61 seconds\n",
      "Not using image_cache.\n"
     ]
    },
    {
     "name": "stdout",
     "output_type": "stream",
     "text": [
      "/data/CSHL_data_processed/CHATM2/CHATM2_prep2_raw_NtbNormalizedAdaptiveInvertedGammaJpeg/CHATM2_slide54_2018_01_22-S3_prep2_raw_NtbNormalizedAdaptiveInvertedGammaJpeg.jpg\n"
     ]
    },
    {
     "name": "stderr",
     "output_type": "stream",
     "text": [
      "Load background image: 2.61 seconds\n",
      "Rescale background image to output resolution: 0.14 seconds\n",
      "Predict scores 6N: 0.01 seconds\n",
      "Resample scoremap 6N: 0.09 seconds\n",
      "Load and rescale background image: 0.00 seconds\n",
      "Generate scoremap overlay: 0.05 seconds.\n",
      "Scoremap size does not match background image size. Need to resize: 0.08 seconds.\n",
      "Generate scoremap overlay image 6N: 0.15 seconds\n",
      "locate patches: 0.02 seconds\n"
     ]
    },
    {
     "name": "stdout",
     "output_type": "stream",
     "text": [
      "(597, 925, 3) (597, 925)\n",
      "6N 163\n"
     ]
    },
    {
     "name": "stderr",
     "output_type": "stream",
     "text": [
      "Load pre-computed features: 0.66 seconds\n",
      "Not using image_cache.\n"
     ]
    },
    {
     "name": "stdout",
     "output_type": "stream",
     "text": [
      "/data/CSHL_data_processed/CHATM2/CHATM2_prep2_raw_NtbNormalizedAdaptiveInvertedGammaJpeg/CHATM2_slide55_2018_01_22-S1_prep2_raw_NtbNormalizedAdaptiveInvertedGammaJpeg.jpg\n"
     ]
    },
    {
     "name": "stderr",
     "output_type": "stream",
     "text": [
      "Load background image: 2.55 seconds\n",
      "Rescale background image to output resolution: 0.14 seconds\n",
      "Predict scores 6N: 0.01 seconds\n",
      "Resample scoremap 6N: 0.09 seconds\n",
      "Load and rescale background image: 0.00 seconds\n",
      "Generate scoremap overlay: 0.06 seconds.\n",
      "Scoremap size does not match background image size. Need to resize: 0.08 seconds.\n",
      "Generate scoremap overlay image 6N: 0.16 seconds\n",
      "locate patches: 0.02 seconds\n"
     ]
    },
    {
     "name": "stdout",
     "output_type": "stream",
     "text": [
      "(597, 925, 3) (597, 925)\n",
      "6N 164\n"
     ]
    },
    {
     "name": "stderr",
     "output_type": "stream",
     "text": [
      "Load pre-computed features: 0.61 seconds\n",
      "Not using image_cache.\n"
     ]
    },
    {
     "name": "stdout",
     "output_type": "stream",
     "text": [
      "/data/CSHL_data_processed/CHATM2/CHATM2_prep2_raw_NtbNormalizedAdaptiveInvertedGammaJpeg/CHATM2_slide56_2018_01_22-S1_prep2_raw_NtbNormalizedAdaptiveInvertedGammaJpeg.jpg\n"
     ]
    },
    {
     "name": "stderr",
     "output_type": "stream",
     "text": [
      "Load background image: 2.54 seconds\n",
      "Rescale background image to output resolution: 0.14 seconds\n",
      "Predict scores 6N: 0.01 seconds\n",
      "Resample scoremap 6N: 0.09 seconds\n",
      "Load and rescale background image: 0.00 seconds\n",
      "Generate scoremap overlay: 0.05 seconds.\n",
      "Scoremap size does not match background image size. Need to resize: 0.08 seconds.\n",
      "Generate scoremap overlay image 6N: 0.15 seconds\n",
      "locate patches: 0.02 seconds\n"
     ]
    },
    {
     "name": "stdout",
     "output_type": "stream",
     "text": [
      "(597, 925, 3) (597, 925)\n",
      "6N 165\n"
     ]
    },
    {
     "name": "stderr",
     "output_type": "stream",
     "text": [
      "Load pre-computed features: 0.67 seconds\n",
      "Not using image_cache.\n"
     ]
    },
    {
     "name": "stdout",
     "output_type": "stream",
     "text": [
      "/data/CSHL_data_processed/CHATM2/CHATM2_prep2_raw_NtbNormalizedAdaptiveInvertedGammaJpeg/CHATM2_slide55_2018_01_22-S2_prep2_raw_NtbNormalizedAdaptiveInvertedGammaJpeg.jpg\n"
     ]
    },
    {
     "name": "stderr",
     "output_type": "stream",
     "text": [
      "Load background image: 2.58 seconds\n",
      "Rescale background image to output resolution: 0.14 seconds\n",
      "Predict scores 6N: 0.01 seconds\n",
      "Resample scoremap 6N: 0.09 seconds\n",
      "Load and rescale background image: 0.00 seconds\n",
      "Generate scoremap overlay: 0.05 seconds.\n",
      "Scoremap size does not match background image size. Need to resize: 0.08 seconds.\n",
      "Generate scoremap overlay image 6N: 0.15 seconds\n",
      "locate patches: 0.02 seconds\n"
     ]
    },
    {
     "name": "stdout",
     "output_type": "stream",
     "text": [
      "(597, 925, 3) (597, 925)\n",
      "6N 166\n"
     ]
    },
    {
     "name": "stderr",
     "output_type": "stream",
     "text": [
      "Load pre-computed features: 0.57 seconds\n",
      "Not using image_cache.\n"
     ]
    },
    {
     "name": "stdout",
     "output_type": "stream",
     "text": [
      "/data/CSHL_data_processed/CHATM2/CHATM2_prep2_raw_NtbNormalizedAdaptiveInvertedGammaJpeg/CHATM2_slide56_2018_01_22-S2_prep2_raw_NtbNormalizedAdaptiveInvertedGammaJpeg.jpg\n"
     ]
    },
    {
     "name": "stderr",
     "output_type": "stream",
     "text": [
      "Load background image: 2.48 seconds\n",
      "Rescale background image to output resolution: 0.14 seconds\n",
      "Predict scores 6N: 0.01 seconds\n",
      "Resample scoremap 6N: 0.09 seconds\n",
      "Load and rescale background image: 0.00 seconds\n",
      "Generate scoremap overlay: 0.05 seconds.\n",
      "Scoremap size does not match background image size. Need to resize: 0.08 seconds.\n",
      "Generate scoremap overlay image 6N: 0.15 seconds\n",
      "locate patches: 0.02 seconds\n"
     ]
    },
    {
     "name": "stdout",
     "output_type": "stream",
     "text": [
      "(597, 925, 3) (597, 925)\n",
      "6N 167\n"
     ]
    },
    {
     "name": "stderr",
     "output_type": "stream",
     "text": [
      "Load pre-computed features: 0.63 seconds\n",
      "Not using image_cache.\n"
     ]
    },
    {
     "name": "stdout",
     "output_type": "stream",
     "text": [
      "/data/CSHL_data_processed/CHATM2/CHATM2_prep2_raw_NtbNormalizedAdaptiveInvertedGammaJpeg/CHATM2_slide55_2018_01_22-S3_prep2_raw_NtbNormalizedAdaptiveInvertedGammaJpeg.jpg\n"
     ]
    },
    {
     "name": "stderr",
     "output_type": "stream",
     "text": [
      "Load background image: 2.63 seconds\n",
      "Rescale background image to output resolution: 0.14 seconds\n",
      "Predict scores 6N: 0.02 seconds\n",
      "Resample scoremap 6N: 0.09 seconds\n",
      "Load and rescale background image: 0.00 seconds\n",
      "Generate scoremap overlay: 0.05 seconds.\n",
      "Scoremap size does not match background image size. Need to resize: 0.07 seconds.\n",
      "Generate scoremap overlay image 6N: 0.15 seconds\n",
      "locate patches: 0.02 seconds\n"
     ]
    },
    {
     "name": "stdout",
     "output_type": "stream",
     "text": [
      "(597, 925, 3) (597, 925)\n",
      "6N 168\n"
     ]
    },
    {
     "name": "stderr",
     "output_type": "stream",
     "text": [
      "Load pre-computed features: 0.60 seconds\n",
      "Not using image_cache.\n"
     ]
    },
    {
     "name": "stdout",
     "output_type": "stream",
     "text": [
      "/data/CSHL_data_processed/CHATM2/CHATM2_prep2_raw_NtbNormalizedAdaptiveInvertedGammaJpeg/CHATM2_slide56_2018_01_22-S3_prep2_raw_NtbNormalizedAdaptiveInvertedGammaJpeg.jpg\n"
     ]
    },
    {
     "name": "stderr",
     "output_type": "stream",
     "text": [
      "Load background image: 2.50 seconds\n",
      "Rescale background image to output resolution: 0.15 seconds\n",
      "Predict scores 6N: 0.01 seconds\n",
      "Resample scoremap 6N: 0.09 seconds\n",
      "Load and rescale background image: 0.00 seconds\n",
      "Generate scoremap overlay: 0.05 seconds.\n",
      "Scoremap size does not match background image size. Need to resize: 0.08 seconds.\n",
      "Generate scoremap overlay image 6N: 0.15 seconds\n",
      "locate patches: 0.02 seconds\n"
     ]
    },
    {
     "name": "stdout",
     "output_type": "stream",
     "text": [
      "(597, 925, 3) (597, 925)\n",
      "6N 169\n"
     ]
    },
    {
     "name": "stderr",
     "output_type": "stream",
     "text": [
      "Load pre-computed features: 0.58 seconds\n",
      "Not using image_cache.\n"
     ]
    },
    {
     "name": "stdout",
     "output_type": "stream",
     "text": [
      "/data/CSHL_data_processed/CHATM2/CHATM2_prep2_raw_NtbNormalizedAdaptiveInvertedGammaJpeg/CHATM2_slide57_2018_01_22-S1_prep2_raw_NtbNormalizedAdaptiveInvertedGammaJpeg.jpg\n"
     ]
    },
    {
     "name": "stderr",
     "output_type": "stream",
     "text": [
      "Load background image: 2.54 seconds\n",
      "Rescale background image to output resolution: 0.14 seconds\n",
      "Predict scores 6N: 0.01 seconds\n",
      "Resample scoremap 6N: 0.10 seconds\n",
      "Load and rescale background image: 0.00 seconds\n",
      "Generate scoremap overlay: 0.06 seconds.\n",
      "Scoremap size does not match background image size. Need to resize: 0.08 seconds.\n",
      "Generate scoremap overlay image 6N: 0.16 seconds\n",
      "locate patches: 0.02 seconds\n"
     ]
    },
    {
     "name": "stdout",
     "output_type": "stream",
     "text": [
      "(597, 925, 3) (597, 925)\n",
      "6N 170\n"
     ]
    },
    {
     "name": "stderr",
     "output_type": "stream",
     "text": [
      "Load pre-computed features: 0.74 seconds\n",
      "Not using image_cache.\n"
     ]
    },
    {
     "name": "stdout",
     "output_type": "stream",
     "text": [
      "/data/CSHL_data_processed/CHATM2/CHATM2_prep2_raw_NtbNormalizedAdaptiveInvertedGammaJpeg/CHATM2_slide58_2018_01_22-S1_prep2_raw_NtbNormalizedAdaptiveInvertedGammaJpeg.jpg\n"
     ]
    },
    {
     "name": "stderr",
     "output_type": "stream",
     "text": [
      "Load background image: 2.52 seconds\n",
      "Rescale background image to output resolution: 0.15 seconds\n",
      "Predict scores 6N: 0.01 seconds\n",
      "Resample scoremap 6N: 0.09 seconds\n",
      "Load and rescale background image: 0.00 seconds\n",
      "Generate scoremap overlay: 0.05 seconds.\n",
      "Scoremap size does not match background image size. Need to resize: 0.08 seconds.\n",
      "Generate scoremap overlay image 6N: 0.15 seconds\n",
      "locate patches: 0.02 seconds\n"
     ]
    },
    {
     "name": "stdout",
     "output_type": "stream",
     "text": [
      "(597, 925, 3) (597, 925)\n",
      "6N 171\n"
     ]
    },
    {
     "name": "stderr",
     "output_type": "stream",
     "text": [
      "Load pre-computed features: 0.65 seconds\n",
      "Not using image_cache.\n"
     ]
    },
    {
     "name": "stdout",
     "output_type": "stream",
     "text": [
      "/data/CSHL_data_processed/CHATM2/CHATM2_prep2_raw_NtbNormalizedAdaptiveInvertedGammaJpeg/CHATM2_slide57_2018_01_22-S2_prep2_raw_NtbNormalizedAdaptiveInvertedGammaJpeg.jpg\n"
     ]
    },
    {
     "name": "stderr",
     "output_type": "stream",
     "text": [
      "Load background image: 2.59 seconds\n",
      "Rescale background image to output resolution: 0.14 seconds\n",
      "Predict scores 6N: 0.01 seconds\n",
      "Resample scoremap 6N: 0.09 seconds\n",
      "Load and rescale background image: 0.00 seconds\n",
      "Generate scoremap overlay: 0.05 seconds.\n",
      "Scoremap size does not match background image size. Need to resize: 0.08 seconds.\n",
      "Generate scoremap overlay image 6N: 0.16 seconds\n",
      "locate patches: 0.02 seconds\n"
     ]
    },
    {
     "name": "stdout",
     "output_type": "stream",
     "text": [
      "(597, 925, 3) (597, 925)\n",
      "6N 172\n"
     ]
    },
    {
     "name": "stderr",
     "output_type": "stream",
     "text": [
      "Load pre-computed features: 0.61 seconds\n",
      "Not using image_cache.\n"
     ]
    },
    {
     "name": "stdout",
     "output_type": "stream",
     "text": [
      "/data/CSHL_data_processed/CHATM2/CHATM2_prep2_raw_NtbNormalizedAdaptiveInvertedGammaJpeg/CHATM2_slide58_2018_01_22-S2_prep2_raw_NtbNormalizedAdaptiveInvertedGammaJpeg.jpg\n"
     ]
    },
    {
     "name": "stderr",
     "output_type": "stream",
     "text": [
      "Load background image: 2.34 seconds\n",
      "Rescale background image to output resolution: 0.14 seconds\n",
      "Predict scores 6N: 0.01 seconds\n",
      "Resample scoremap 6N: 0.09 seconds\n",
      "Load and rescale background image: 0.00 seconds\n",
      "Generate scoremap overlay: 0.05 seconds.\n",
      "Scoremap size does not match background image size. Need to resize: 0.08 seconds.\n",
      "Generate scoremap overlay image 6N: 0.15 seconds\n",
      "locate patches: 0.02 seconds\n"
     ]
    },
    {
     "name": "stdout",
     "output_type": "stream",
     "text": [
      "(597, 925, 3) (597, 925)\n",
      "6N 173\n"
     ]
    },
    {
     "name": "stderr",
     "output_type": "stream",
     "text": [
      "Load pre-computed features: 0.67 seconds\n",
      "Not using image_cache.\n"
     ]
    },
    {
     "name": "stdout",
     "output_type": "stream",
     "text": [
      "/data/CSHL_data_processed/CHATM2/CHATM2_prep2_raw_NtbNormalizedAdaptiveInvertedGammaJpeg/CHATM2_slide57_2018_01_22-S3_prep2_raw_NtbNormalizedAdaptiveInvertedGammaJpeg.jpg\n"
     ]
    },
    {
     "name": "stderr",
     "output_type": "stream",
     "text": [
      "Load background image: 2.60 seconds\n",
      "Rescale background image to output resolution: 0.14 seconds\n",
      "Predict scores 6N: 0.01 seconds\n",
      "Resample scoremap 6N: 0.09 seconds\n",
      "Load and rescale background image: 0.00 seconds\n",
      "Generate scoremap overlay: 0.05 seconds.\n",
      "Scoremap size does not match background image size. Need to resize: 0.08 seconds.\n",
      "Generate scoremap overlay image 6N: 0.15 seconds\n",
      "locate patches: 0.02 seconds\n"
     ]
    },
    {
     "name": "stdout",
     "output_type": "stream",
     "text": [
      "(597, 925, 3) (597, 925)\n",
      "6N 185\n"
     ]
    },
    {
     "name": "stderr",
     "output_type": "stream",
     "text": [
      "Load pre-computed features: 0.68 seconds\n",
      "Not using image_cache.\n"
     ]
    },
    {
     "name": "stdout",
     "output_type": "stream",
     "text": [
      "/data/CSHL_data_processed/CHATM2/CHATM2_prep2_raw_NtbNormalizedAdaptiveInvertedGammaJpeg/CHATM2_slide62_2018_02_14-S1_prep2_raw_NtbNormalizedAdaptiveInvertedGammaJpeg.jpg\n"
     ]
    },
    {
     "name": "stderr",
     "output_type": "stream",
     "text": [
      "Load background image: 2.47 seconds\n",
      "Rescale background image to output resolution: 0.14 seconds\n",
      "Predict scores 6N: 0.01 seconds\n",
      "Resample scoremap 6N: 0.09 seconds\n",
      "Load and rescale background image: 0.00 seconds\n",
      "Generate scoremap overlay: 0.05 seconds.\n",
      "Scoremap size does not match background image size. Need to resize: 0.08 seconds.\n",
      "Generate scoremap overlay image 6N: 0.15 seconds\n",
      "locate patches: 0.02 seconds\n"
     ]
    },
    {
     "name": "stdout",
     "output_type": "stream",
     "text": [
      "(597, 925, 3) (597, 925)\n",
      "6N 187\n"
     ]
    },
    {
     "name": "stderr",
     "output_type": "stream",
     "text": [
      "Load pre-computed features: 0.63 seconds\n",
      "Not using image_cache.\n"
     ]
    },
    {
     "name": "stdout",
     "output_type": "stream",
     "text": [
      "/data/CSHL_data_processed/CHATM2/CHATM2_prep2_raw_NtbNormalizedAdaptiveInvertedGammaJpeg/CHATM2_slide62_2018_02_14-S2_prep2_raw_NtbNormalizedAdaptiveInvertedGammaJpeg.jpg\n"
     ]
    },
    {
     "name": "stderr",
     "output_type": "stream",
     "text": [
      "Load background image: 2.44 seconds\n",
      "Rescale background image to output resolution: 0.14 seconds\n",
      "Predict scores 6N: 0.01 seconds\n",
      "Resample scoremap 6N: 0.09 seconds\n",
      "Load and rescale background image: 0.00 seconds\n",
      "Generate scoremap overlay: 0.05 seconds.\n",
      "Scoremap size does not match background image size. Need to resize: 0.08 seconds.\n",
      "Generate scoremap overlay image 6N: 0.15 seconds\n",
      "locate patches: 0.02 seconds\n"
     ]
    },
    {
     "name": "stdout",
     "output_type": "stream",
     "text": [
      "(597, 925, 3) (597, 925)\n",
      "6N 189\n"
     ]
    },
    {
     "name": "stderr",
     "output_type": "stream",
     "text": [
      "Load pre-computed features: 0.63 seconds\n",
      "Not using image_cache.\n"
     ]
    },
    {
     "name": "stdout",
     "output_type": "stream",
     "text": [
      "/data/CSHL_data_processed/CHATM2/CHATM2_prep2_raw_NtbNormalizedAdaptiveInvertedGammaJpeg/CHATM2_slide62_2018_02_14-S3_prep2_raw_NtbNormalizedAdaptiveInvertedGammaJpeg.jpg\n"
     ]
    },
    {
     "name": "stderr",
     "output_type": "stream",
     "text": [
      "Load background image: 2.37 seconds\n",
      "Rescale background image to output resolution: 0.14 seconds\n",
      "Predict scores 6N: 0.01 seconds\n",
      "Resample scoremap 6N: 0.09 seconds\n",
      "Load and rescale background image: 0.00 seconds\n",
      "Generate scoremap overlay: 0.05 seconds.\n",
      "Scoremap size does not match background image size. Need to resize: 0.08 seconds.\n",
      "Generate scoremap overlay image 6N: 0.15 seconds\n",
      "locate patches: 0.03 seconds\n"
     ]
    },
    {
     "name": "stdout",
     "output_type": "stream",
     "text": [
      "(597, 925, 3) (597, 925)\n",
      "6N 191\n"
     ]
    },
    {
     "name": "stderr",
     "output_type": "stream",
     "text": [
      "Load pre-computed features: 0.60 seconds\n",
      "Not using image_cache.\n"
     ]
    },
    {
     "name": "stdout",
     "output_type": "stream",
     "text": [
      "/data/CSHL_data_processed/CHATM2/CHATM2_prep2_raw_NtbNormalizedAdaptiveInvertedGammaJpeg/CHATM2_slide64_2018_02_15-S1_prep2_raw_NtbNormalizedAdaptiveInvertedGammaJpeg.jpg\n"
     ]
    },
    {
     "name": "stderr",
     "output_type": "stream",
     "text": [
      "Load background image: 2.42 seconds\n",
      "Rescale background image to output resolution: 0.14 seconds\n",
      "Predict scores 6N: 0.01 seconds\n",
      "Resample scoremap 6N: 0.06 seconds\n",
      "Load and rescale background image: 0.00 seconds\n",
      "Generate scoremap overlay: 0.05 seconds.\n",
      "Scoremap size does not match background image size. Need to resize: 0.07 seconds.\n"
     ]
    },
    {
     "name": "stdout",
     "output_type": "stream",
     "text": [
      "(597, 925, 3) (597, 925)\n",
      "6N 193\n"
     ]
    },
    {
     "name": "stderr",
     "output_type": "stream",
     "text": [
      "Generate scoremap overlay image 6N: 0.15 seconds\n",
      "locate patches: 0.02 seconds\n",
      "Load pre-computed features: 0.62 seconds\n",
      "Not using image_cache.\n"
     ]
    },
    {
     "name": "stdout",
     "output_type": "stream",
     "text": [
      "/data/CSHL_data_processed/CHATM2/CHATM2_prep2_raw_NtbNormalizedAdaptiveInvertedGammaJpeg/CHATM2_slide64_2018_02_15-S2_prep2_raw_NtbNormalizedAdaptiveInvertedGammaJpeg.jpg\n"
     ]
    },
    {
     "name": "stderr",
     "output_type": "stream",
     "text": [
      "Load background image: 2.43 seconds\n",
      "Rescale background image to output resolution: 0.14 seconds\n",
      "Predict scores 6N: 0.01 seconds\n",
      "Resample scoremap 6N: 0.06 seconds\n",
      "Load and rescale background image: 0.00 seconds\n",
      "Generate scoremap overlay: 0.05 seconds.\n",
      "Scoremap size does not match background image size. Need to resize: 0.08 seconds.\n"
     ]
    },
    {
     "name": "stdout",
     "output_type": "stream",
     "text": [
      "(597, 925, 3) (597, 925)\n",
      "6N 195\n"
     ]
    },
    {
     "name": "stderr",
     "output_type": "stream",
     "text": [
      "Generate scoremap overlay image 6N: 0.17 seconds\n",
      "locate patches: 0.02 seconds\n",
      "Load pre-computed features: 0.65 seconds\n",
      "Not using image_cache.\n"
     ]
    },
    {
     "name": "stdout",
     "output_type": "stream",
     "text": [
      "/data/CSHL_data_processed/CHATM2/CHATM2_prep2_raw_NtbNormalizedAdaptiveInvertedGammaJpeg/CHATM2_slide64_2018_02_15-S3_prep2_raw_NtbNormalizedAdaptiveInvertedGammaJpeg.jpg\n"
     ]
    },
    {
     "name": "stderr",
     "output_type": "stream",
     "text": [
      "Load background image: 2.43 seconds\n",
      "Rescale background image to output resolution: 0.15 seconds\n",
      "Predict scores 6N: 0.02 seconds\n",
      "Resample scoremap 6N: 0.09 seconds\n",
      "Load and rescale background image: 0.00 seconds\n",
      "Generate scoremap overlay: 0.05 seconds.\n",
      "Scoremap size does not match background image size. Need to resize: 0.07 seconds.\n",
      "Generate scoremap overlay image 6N: 0.15 seconds\n",
      "locate patches: 0.02 seconds\n"
     ]
    },
    {
     "name": "stdout",
     "output_type": "stream",
     "text": [
      "(597, 925, 3) (597, 925)\n",
      "6N 197\n"
     ]
    },
    {
     "name": "stderr",
     "output_type": "stream",
     "text": [
      "Load pre-computed features: 0.69 seconds\n",
      "Not using image_cache.\n"
     ]
    },
    {
     "name": "stdout",
     "output_type": "stream",
     "text": [
      "/data/CSHL_data_processed/CHATM2/CHATM2_prep2_raw_NtbNormalizedAdaptiveInvertedGammaJpeg/CHATM2_slide66_2018_02_14-S1_prep2_raw_NtbNormalizedAdaptiveInvertedGammaJpeg.jpg\n"
     ]
    },
    {
     "name": "stderr",
     "output_type": "stream",
     "text": [
      "Load background image: 2.61 seconds\n",
      "Rescale background image to output resolution: 0.16 seconds\n",
      "Predict scores 6N: 0.01 seconds\n",
      "Resample scoremap 6N: 0.09 seconds\n",
      "Load and rescale background image: 0.00 seconds\n",
      "Generate scoremap overlay: 0.05 seconds.\n",
      "Scoremap size does not match background image size. Need to resize: 0.09 seconds.\n",
      "Generate scoremap overlay image 6N: 0.18 seconds\n",
      "locate patches: 0.02 seconds\n"
     ]
    },
    {
     "name": "stdout",
     "output_type": "stream",
     "text": [
      "(597, 925, 3) (597, 925)\n",
      "6N 199\n"
     ]
    },
    {
     "name": "stderr",
     "output_type": "stream",
     "text": [
      "Load pre-computed features: 0.74 seconds\n",
      "Not using image_cache.\n"
     ]
    },
    {
     "name": "stdout",
     "output_type": "stream",
     "text": [
      "/data/CSHL_data_processed/CHATM2/CHATM2_prep2_raw_NtbNormalizedAdaptiveInvertedGammaJpeg/CHATM2_slide66_2018_02_14-S2_prep2_raw_NtbNormalizedAdaptiveInvertedGammaJpeg.jpg\n"
     ]
    },
    {
     "name": "stderr",
     "output_type": "stream",
     "text": [
      "Load background image: 2.55 seconds\n",
      "Rescale background image to output resolution: 0.14 seconds\n",
      "Predict scores 6N: 0.01 seconds\n",
      "Resample scoremap 6N: 0.09 seconds\n",
      "Load and rescale background image: 0.00 seconds\n",
      "Generate scoremap overlay: 0.05 seconds.\n",
      "Scoremap size does not match background image size. Need to resize: 0.08 seconds.\n",
      "Generate scoremap overlay image 6N: 0.15 seconds\n",
      "locate patches: 0.02 seconds\n"
     ]
    },
    {
     "name": "stdout",
     "output_type": "stream",
     "text": [
      "(597, 925, 3) (597, 925)\n",
      "6N 201\n"
     ]
    },
    {
     "name": "stderr",
     "output_type": "stream",
     "text": [
      "Load pre-computed features: 0.61 seconds\n",
      "Not using image_cache.\n"
     ]
    },
    {
     "name": "stdout",
     "output_type": "stream",
     "text": [
      "/data/CSHL_data_processed/CHATM2/CHATM2_prep2_raw_NtbNormalizedAdaptiveInvertedGammaJpeg/CHATM2_slide66_2018_02_14-S3_prep2_raw_NtbNormalizedAdaptiveInvertedGammaJpeg.jpg\n"
     ]
    },
    {
     "name": "stderr",
     "output_type": "stream",
     "text": [
      "Load background image: 2.49 seconds\n",
      "Rescale background image to output resolution: 0.16 seconds\n",
      "Predict scores 6N: 0.01 seconds\n",
      "Resample scoremap 6N: 0.09 seconds\n",
      "Load and rescale background image: 0.00 seconds\n",
      "Generate scoremap overlay: 0.05 seconds.\n",
      "Scoremap size does not match background image size. Need to resize: 0.09 seconds.\n",
      "Generate scoremap overlay image 6N: 0.17 seconds\n",
      "locate patches: 0.02 seconds\n"
     ]
    },
    {
     "name": "stdout",
     "output_type": "stream",
     "text": [
      "(597, 925, 3) (597, 925)\n",
      "6N 203\n"
     ]
    },
    {
     "name": "stderr",
     "output_type": "stream",
     "text": [
      "Load pre-computed features: 0.63 seconds\n",
      "Not using image_cache.\n"
     ]
    },
    {
     "name": "stdout",
     "output_type": "stream",
     "text": [
      "/data/CSHL_data_processed/CHATM2/CHATM2_prep2_raw_NtbNormalizedAdaptiveInvertedGammaJpeg/CHATM2_slide68_2018_02_14-S1_prep2_raw_NtbNormalizedAdaptiveInvertedGammaJpeg.jpg\n"
     ]
    },
    {
     "name": "stderr",
     "output_type": "stream",
     "text": [
      "Load background image: 2.53 seconds\n",
      "Rescale background image to output resolution: 0.14 seconds\n",
      "Predict scores 6N: 0.01 seconds\n",
      "Resample scoremap 6N: 0.09 seconds\n",
      "Load and rescale background image: 0.00 seconds\n",
      "Generate scoremap overlay: 0.05 seconds.\n",
      "Scoremap size does not match background image size. Need to resize: 0.08 seconds.\n",
      "Generate scoremap overlay image 6N: 0.15 seconds\n",
      "locate patches: 0.02 seconds\n"
     ]
    },
    {
     "name": "stdout",
     "output_type": "stream",
     "text": [
      "(597, 925, 3) (597, 925)\n",
      "6N 205\n"
     ]
    },
    {
     "name": "stderr",
     "output_type": "stream",
     "text": [
      "Load pre-computed features: 0.70 seconds\n",
      "Not using image_cache.\n"
     ]
    },
    {
     "name": "stdout",
     "output_type": "stream",
     "text": [
      "/data/CSHL_data_processed/CHATM2/CHATM2_prep2_raw_NtbNormalizedAdaptiveInvertedGammaJpeg/CHATM2_slide68_2018_02_14-S2_prep2_raw_NtbNormalizedAdaptiveInvertedGammaJpeg.jpg\n"
     ]
    },
    {
     "name": "stderr",
     "output_type": "stream",
     "text": [
      "Load background image: 2.54 seconds\n",
      "Rescale background image to output resolution: 0.14 seconds\n",
      "Predict scores 6N: 0.01 seconds\n",
      "Resample scoremap 6N: 0.09 seconds\n",
      "Load and rescale background image: 0.00 seconds\n",
      "Generate scoremap overlay: 0.06 seconds.\n",
      "Scoremap size does not match background image size. Need to resize: 0.08 seconds.\n",
      "Generate scoremap overlay image 6N: 0.18 seconds\n",
      "locate patches: 0.02 seconds\n"
     ]
    },
    {
     "name": "stdout",
     "output_type": "stream",
     "text": [
      "(597, 925, 3) (597, 925)\n",
      "6N 209\n"
     ]
    },
    {
     "name": "stderr",
     "output_type": "stream",
     "text": [
      "Load pre-computed features: 0.69 seconds\n",
      "Not using image_cache.\n"
     ]
    },
    {
     "name": "stdout",
     "output_type": "stream",
     "text": [
      "/data/CSHL_data_processed/CHATM2/CHATM2_prep2_raw_NtbNormalizedAdaptiveInvertedGammaJpeg/CHATM2_slide70_2018_02_14-S1_prep2_raw_NtbNormalizedAdaptiveInvertedGammaJpeg.jpg\n"
     ]
    },
    {
     "name": "stderr",
     "output_type": "stream",
     "text": [
      "Load background image: 2.49 seconds\n",
      "Rescale background image to output resolution: 0.14 seconds\n",
      "Predict scores 6N: 0.01 seconds\n",
      "Resample scoremap 6N: 0.09 seconds\n",
      "Load and rescale background image: 0.00 seconds\n",
      "Generate scoremap overlay: 0.05 seconds.\n",
      "Scoremap size does not match background image size. Need to resize: 0.08 seconds.\n",
      "Generate scoremap overlay image 6N: 0.16 seconds\n",
      "locate patches: 0.02 seconds\n"
     ]
    },
    {
     "name": "stdout",
     "output_type": "stream",
     "text": [
      "(597, 925, 3) (597, 925)\n",
      "6N 211\n"
     ]
    },
    {
     "name": "stderr",
     "output_type": "stream",
     "text": [
      "Load pre-computed features: 0.61 seconds\n",
      "Not using image_cache.\n"
     ]
    },
    {
     "name": "stdout",
     "output_type": "stream",
     "text": [
      "/data/CSHL_data_processed/CHATM2/CHATM2_prep2_raw_NtbNormalizedAdaptiveInvertedGammaJpeg/CHATM2_slide70_2018_02_14-S2_prep2_raw_NtbNormalizedAdaptiveInvertedGammaJpeg.jpg\n"
     ]
    },
    {
     "name": "stderr",
     "output_type": "stream",
     "text": [
      "Load background image: 2.52 seconds\n",
      "Rescale background image to output resolution: 0.15 seconds\n",
      "Predict scores 6N: 0.01 seconds\n",
      "Resample scoremap 6N: 0.09 seconds\n",
      "Load and rescale background image: 0.00 seconds\n",
      "Generate scoremap overlay: 0.05 seconds.\n",
      "Scoremap size does not match background image size. Need to resize: 0.08 seconds.\n",
      "Generate scoremap overlay image 6N: 0.15 seconds\n",
      "locate patches: 0.02 seconds\n"
     ]
    },
    {
     "name": "stdout",
     "output_type": "stream",
     "text": [
      "(597, 925, 3) (597, 925)\n",
      "6N 213\n"
     ]
    },
    {
     "name": "stderr",
     "output_type": "stream",
     "text": [
      "Load pre-computed features: 0.65 seconds\n",
      "Not using image_cache.\n"
     ]
    },
    {
     "name": "stdout",
     "output_type": "stream",
     "text": [
      "/data/CSHL_data_processed/CHATM2/CHATM2_prep2_raw_NtbNormalizedAdaptiveInvertedGammaJpeg/CHATM2_slide70_2018_02_14-S3_prep2_raw_NtbNormalizedAdaptiveInvertedGammaJpeg.jpg\n"
     ]
    },
    {
     "name": "stderr",
     "output_type": "stream",
     "text": [
      "Load background image: 2.51 seconds\n",
      "Rescale background image to output resolution: 0.15 seconds\n",
      "Predict scores 6N: 0.01 seconds\n",
      "Resample scoremap 6N: 0.09 seconds\n",
      "Load and rescale background image: 0.00 seconds\n",
      "Generate scoremap overlay: 0.05 seconds.\n",
      "Scoremap size does not match background image size. Need to resize: 0.09 seconds.\n",
      "Generate scoremap overlay image 6N: 0.18 seconds\n",
      "locate patches: 0.02 seconds\n"
     ]
    },
    {
     "name": "stdout",
     "output_type": "stream",
     "text": [
      "(597, 925, 3) (597, 925)\n",
      "6N 215\n"
     ]
    },
    {
     "name": "stderr",
     "output_type": "stream",
     "text": [
      "Load pre-computed features: 0.67 seconds\n",
      "Not using image_cache.\n"
     ]
    },
    {
     "name": "stdout",
     "output_type": "stream",
     "text": [
      "/data/CSHL_data_processed/CHATM2/CHATM2_prep2_raw_NtbNormalizedAdaptiveInvertedGammaJpeg/CHATM2_slide72_2018_02_14-S1_prep2_raw_NtbNormalizedAdaptiveInvertedGammaJpeg.jpg\n"
     ]
    },
    {
     "name": "stderr",
     "output_type": "stream",
     "text": [
      "Load background image: 2.47 seconds\n",
      "Rescale background image to output resolution: 0.14 seconds\n",
      "Predict scores 6N: 0.01 seconds\n",
      "Resample scoremap 6N: 0.10 seconds\n",
      "Load and rescale background image: 0.00 seconds\n",
      "Generate scoremap overlay: 0.05 seconds.\n",
      "Scoremap size does not match background image size. Need to resize: 0.08 seconds.\n",
      "Generate scoremap overlay image 6N: 0.15 seconds\n",
      "locate patches: 0.02 seconds\n"
     ]
    },
    {
     "name": "stdout",
     "output_type": "stream",
     "text": [
      "(597, 925, 3) (597, 925)\n",
      "6N 217\n"
     ]
    },
    {
     "name": "stderr",
     "output_type": "stream",
     "text": [
      "Load pre-computed features: 0.66 seconds\n",
      "Not using image_cache.\n"
     ]
    },
    {
     "name": "stdout",
     "output_type": "stream",
     "text": [
      "/data/CSHL_data_processed/CHATM2/CHATM2_prep2_raw_NtbNormalizedAdaptiveInvertedGammaJpeg/CHATM2_slide72_2018_02_14-S2_prep2_raw_NtbNormalizedAdaptiveInvertedGammaJpeg.jpg\n"
     ]
    },
    {
     "name": "stderr",
     "output_type": "stream",
     "text": [
      "Load background image: 2.45 seconds\n",
      "Rescale background image to output resolution: 0.14 seconds\n",
      "Predict scores 6N: 0.01 seconds\n",
      "Resample scoremap 6N: 0.10 seconds\n",
      "Load and rescale background image: 0.00 seconds\n",
      "Generate scoremap overlay: 0.07 seconds.\n",
      "Scoremap size does not match background image size. Need to resize: 0.08 seconds.\n",
      "Generate scoremap overlay image 6N: 0.18 seconds\n",
      "locate patches: 0.02 seconds\n"
     ]
    },
    {
     "name": "stdout",
     "output_type": "stream",
     "text": [
      "(597, 925, 3) (597, 925)\n",
      "6N 219\n"
     ]
    },
    {
     "name": "stderr",
     "output_type": "stream",
     "text": [
      "Load pre-computed features: 0.67 seconds\n",
      "Not using image_cache.\n"
     ]
    },
    {
     "name": "stdout",
     "output_type": "stream",
     "text": [
      "/data/CSHL_data_processed/CHATM2/CHATM2_prep2_raw_NtbNormalizedAdaptiveInvertedGammaJpeg/CHATM2_slide72_2018_02_14-S3_prep2_raw_NtbNormalizedAdaptiveInvertedGammaJpeg.jpg\n"
     ]
    },
    {
     "name": "stderr",
     "output_type": "stream",
     "text": [
      "Load background image: 2.53 seconds\n",
      "Rescale background image to output resolution: 0.15 seconds\n",
      "Predict scores 6N: 0.01 seconds\n",
      "Resample scoremap 6N: 0.09 seconds\n",
      "Load and rescale background image: 0.00 seconds\n",
      "Generate scoremap overlay: 0.06 seconds.\n",
      "Scoremap size does not match background image size. Need to resize: 0.08 seconds.\n",
      "Generate scoremap overlay image 6N: 0.17 seconds\n",
      "locate patches: 0.02 seconds\n"
     ]
    },
    {
     "name": "stdout",
     "output_type": "stream",
     "text": [
      "(597, 925, 3) (597, 925)\n",
      "6N 221\n"
     ]
    },
    {
     "name": "stderr",
     "output_type": "stream",
     "text": [
      "Load pre-computed features: 0.68 seconds\n",
      "Not using image_cache.\n"
     ]
    },
    {
     "name": "stdout",
     "output_type": "stream",
     "text": [
      "/data/CSHL_data_processed/CHATM2/CHATM2_prep2_raw_NtbNormalizedAdaptiveInvertedGammaJpeg/CHATM2_slide74_2018_02_14-S1_prep2_raw_NtbNormalizedAdaptiveInvertedGammaJpeg.jpg\n"
     ]
    },
    {
     "name": "stderr",
     "output_type": "stream",
     "text": [
      "Load background image: 2.55 seconds\n",
      "Rescale background image to output resolution: 0.14 seconds\n",
      "Predict scores 6N: 0.00 seconds\n",
      "Resample scoremap 6N: 0.09 seconds\n",
      "Load and rescale background image: 0.00 seconds\n",
      "Generate scoremap overlay: 0.06 seconds.\n",
      "Scoremap size does not match background image size. Need to resize: 0.08 seconds.\n",
      "Generate scoremap overlay image 6N: 0.18 seconds\n",
      "locate patches: 0.02 seconds\n"
     ]
    },
    {
     "name": "stdout",
     "output_type": "stream",
     "text": [
      "(597, 925, 3) (597, 925)\n",
      "6N 223\n"
     ]
    },
    {
     "name": "stderr",
     "output_type": "stream",
     "text": [
      "Load pre-computed features: 0.63 seconds\n",
      "Not using image_cache.\n"
     ]
    },
    {
     "name": "stdout",
     "output_type": "stream",
     "text": [
      "/data/CSHL_data_processed/CHATM2/CHATM2_prep2_raw_NtbNormalizedAdaptiveInvertedGammaJpeg/CHATM2_slide74_2018_02_14-S2_prep2_raw_NtbNormalizedAdaptiveInvertedGammaJpeg.jpg\n"
     ]
    },
    {
     "name": "stderr",
     "output_type": "stream",
     "text": [
      "Load background image: 2.47 seconds\n",
      "Rescale background image to output resolution: 0.14 seconds\n",
      "Predict scores 6N: 0.01 seconds\n",
      "Resample scoremap 6N: 0.10 seconds\n",
      "Load and rescale background image: 0.00 seconds\n",
      "Generate scoremap overlay: 0.05 seconds.\n",
      "Scoremap size does not match background image size. Need to resize: 0.08 seconds.\n",
      "Generate scoremap overlay image 6N: 0.15 seconds\n",
      "locate patches: 0.02 seconds\n"
     ]
    },
    {
     "name": "stdout",
     "output_type": "stream",
     "text": [
      "(597, 925, 3) (597, 925)\n",
      "6N 225\n"
     ]
    },
    {
     "name": "stderr",
     "output_type": "stream",
     "text": [
      "Load pre-computed features: 0.66 seconds\n",
      "Not using image_cache.\n"
     ]
    },
    {
     "name": "stdout",
     "output_type": "stream",
     "text": [
      "/data/CSHL_data_processed/CHATM2/CHATM2_prep2_raw_NtbNormalizedAdaptiveInvertedGammaJpeg/CHATM2_slide74_2018_02_14-S3_prep2_raw_NtbNormalizedAdaptiveInvertedGammaJpeg.jpg\n"
     ]
    },
    {
     "name": "stderr",
     "output_type": "stream",
     "text": [
      "Load background image: 2.45 seconds\n",
      "Rescale background image to output resolution: 0.14 seconds\n",
      "Predict scores 6N: 0.01 seconds\n",
      "Resample scoremap 6N: 0.09 seconds\n",
      "Load and rescale background image: 0.00 seconds\n",
      "Generate scoremap overlay: 0.05 seconds.\n",
      "Scoremap size does not match background image size. Need to resize: 0.08 seconds.\n",
      "Generate scoremap overlay image 6N: 0.15 seconds\n",
      "locate patches: 0.02 seconds\n"
     ]
    },
    {
     "name": "stdout",
     "output_type": "stream",
     "text": [
      "(597, 925, 3) (597, 925)\n",
      "6N 227\n"
     ]
    },
    {
     "name": "stderr",
     "output_type": "stream",
     "text": [
      "Load pre-computed features: 0.57 seconds\n",
      "Not using image_cache.\n"
     ]
    },
    {
     "name": "stdout",
     "output_type": "stream",
     "text": [
      "/data/CSHL_data_processed/CHATM2/CHATM2_prep2_raw_NtbNormalizedAdaptiveInvertedGammaJpeg/CHATM2_slide76_2018_02_14-S1_prep2_raw_NtbNormalizedAdaptiveInvertedGammaJpeg.jpg\n"
     ]
    },
    {
     "name": "stderr",
     "output_type": "stream",
     "text": [
      "Load background image: 2.40 seconds\n",
      "Rescale background image to output resolution: 0.14 seconds\n",
      "Predict scores 6N: 0.01 seconds\n",
      "Resample scoremap 6N: 0.09 seconds\n",
      "Load and rescale background image: 0.00 seconds\n",
      "Generate scoremap overlay: 0.05 seconds.\n",
      "Scoremap size does not match background image size. Need to resize: 0.08 seconds.\n",
      "Generate scoremap overlay image 6N: 0.16 seconds\n",
      "locate patches: 0.02 seconds\n"
     ]
    },
    {
     "name": "stdout",
     "output_type": "stream",
     "text": [
      "(597, 925, 3) (597, 925)\n",
      "6N 229\n"
     ]
    },
    {
     "name": "stderr",
     "output_type": "stream",
     "text": [
      "Load pre-computed features: 0.60 seconds\n",
      "Not using image_cache.\n"
     ]
    },
    {
     "name": "stdout",
     "output_type": "stream",
     "text": [
      "/data/CSHL_data_processed/CHATM2/CHATM2_prep2_raw_NtbNormalizedAdaptiveInvertedGammaJpeg/CHATM2_slide76_2018_02_14-S2_prep2_raw_NtbNormalizedAdaptiveInvertedGammaJpeg.jpg\n"
     ]
    },
    {
     "name": "stderr",
     "output_type": "stream",
     "text": [
      "Load background image: 2.37 seconds\n",
      "Rescale background image to output resolution: 0.14 seconds\n",
      "Predict scores 6N: 0.01 seconds\n",
      "Resample scoremap 6N: 0.06 seconds\n",
      "Load and rescale background image: 0.00 seconds\n",
      "Generate scoremap overlay: 0.05 seconds.\n",
      "Scoremap size does not match background image size. Need to resize: 0.07 seconds.\n"
     ]
    },
    {
     "name": "stdout",
     "output_type": "stream",
     "text": [
      "(597, 925, 3) (597, 925)\n",
      "7N 73\n"
     ]
    },
    {
     "name": "stderr",
     "output_type": "stream",
     "text": [
      "Generate scoremap overlay image 6N: 0.15 seconds\n",
      "locate patches: 0.02 seconds\n",
      "Load pre-computed features: 0.49 seconds\n",
      "Not using image_cache.\n"
     ]
    },
    {
     "name": "stdout",
     "output_type": "stream",
     "text": [
      "/data/CSHL_data_processed/CHATM2/CHATM2_prep2_raw_NtbNormalizedAdaptiveInvertedGammaJpeg/CHATM2_slide25_2018_01_18-S1_prep2_raw_NtbNormalizedAdaptiveInvertedGammaJpeg.jpg\n"
     ]
    },
    {
     "name": "stderr",
     "output_type": "stream",
     "text": [
      "Load background image: 2.14 seconds\n",
      "Rescale background image to output resolution: 0.32 seconds\n",
      "Predict scores 7N: 0.00 seconds\n",
      "Resample scoremap 7N: 0.09 seconds\n",
      "Load and rescale background image: 0.00 seconds\n",
      "Generate scoremap overlay: 0.05 seconds.\n",
      "Scoremap size does not match background image size. Need to resize: 0.07 seconds.\n",
      "Generate scoremap overlay image 7N: 0.15 seconds\n",
      "locate patches: 0.02 seconds\n"
     ]
    },
    {
     "name": "stdout",
     "output_type": "stream",
     "text": [
      "(597, 925, 3) (597, 925)\n",
      "7N 74\n"
     ]
    },
    {
     "name": "stderr",
     "output_type": "stream",
     "text": [
      "Load pre-computed features: 0.47 seconds\n",
      "Not using image_cache.\n"
     ]
    },
    {
     "name": "stdout",
     "output_type": "stream",
     "text": [
      "/data/CSHL_data_processed/CHATM2/CHATM2_prep2_raw_NtbNormalizedAdaptiveInvertedGammaJpeg/CHATM2_slide26_2018_01_18-S1_prep2_raw_NtbNormalizedAdaptiveInvertedGammaJpeg.jpg\n"
     ]
    },
    {
     "name": "stderr",
     "output_type": "stream",
     "text": [
      "Load background image: 2.10 seconds\n",
      "Rescale background image to output resolution: 0.32 seconds\n",
      "Predict scores 7N: 0.01 seconds\n",
      "Resample scoremap 7N: 0.09 seconds\n",
      "Load and rescale background image: 0.00 seconds\n",
      "Generate scoremap overlay: 0.05 seconds.\n",
      "Scoremap size does not match background image size. Need to resize: 0.08 seconds.\n",
      "Generate scoremap overlay image 7N: 0.15 seconds\n",
      "locate patches: 0.02 seconds\n"
     ]
    },
    {
     "name": "stdout",
     "output_type": "stream",
     "text": [
      "(597, 925, 3) (597, 925)\n",
      "7N 75\n"
     ]
    },
    {
     "name": "stderr",
     "output_type": "stream",
     "text": [
      "Load pre-computed features: 0.48 seconds\n",
      "Not using image_cache.\n"
     ]
    },
    {
     "name": "stdout",
     "output_type": "stream",
     "text": [
      "/data/CSHL_data_processed/CHATM2/CHATM2_prep2_raw_NtbNormalizedAdaptiveInvertedGammaJpeg/CHATM2_slide25_2018_01_18-S2_prep2_raw_NtbNormalizedAdaptiveInvertedGammaJpeg.jpg\n"
     ]
    },
    {
     "name": "stderr",
     "output_type": "stream",
     "text": [
      "Load background image: 2.14 seconds\n",
      "Rescale background image to output resolution: 0.33 seconds\n",
      "Predict scores 7N: 0.00 seconds\n",
      "Resample scoremap 7N: 0.09 seconds\n",
      "Load and rescale background image: 0.00 seconds\n",
      "Generate scoremap overlay: 0.05 seconds.\n",
      "Scoremap size does not match background image size. Need to resize: 0.08 seconds.\n",
      "Generate scoremap overlay image 7N: 0.15 seconds\n",
      "locate patches: 0.02 seconds\n"
     ]
    },
    {
     "name": "stdout",
     "output_type": "stream",
     "text": [
      "(597, 925, 3) (597, 925)\n",
      "7N 76\n"
     ]
    },
    {
     "name": "stderr",
     "output_type": "stream",
     "text": [
      "Load pre-computed features: 0.46 seconds\n",
      "Not using image_cache.\n"
     ]
    },
    {
     "name": "stdout",
     "output_type": "stream",
     "text": [
      "/data/CSHL_data_processed/CHATM2/CHATM2_prep2_raw_NtbNormalizedAdaptiveInvertedGammaJpeg/CHATM2_slide26_2018_01_18-S2_prep2_raw_NtbNormalizedAdaptiveInvertedGammaJpeg.jpg\n"
     ]
    },
    {
     "name": "stderr",
     "output_type": "stream",
     "text": [
      "Load background image: 2.10 seconds\n",
      "Rescale background image to output resolution: 0.32 seconds\n",
      "Predict scores 7N: 0.00 seconds\n",
      "Resample scoremap 7N: 0.09 seconds\n",
      "Load and rescale background image: 0.00 seconds\n",
      "Generate scoremap overlay: 0.05 seconds.\n",
      "Scoremap size does not match background image size. Need to resize: 0.08 seconds.\n",
      "Generate scoremap overlay image 7N: 0.15 seconds\n",
      "locate patches: 0.02 seconds\n"
     ]
    },
    {
     "name": "stdout",
     "output_type": "stream",
     "text": [
      "(597, 925, 3) (597, 925)\n",
      "7N 77\n"
     ]
    },
    {
     "name": "stderr",
     "output_type": "stream",
     "text": [
      "Load pre-computed features: 0.49 seconds\n",
      "Not using image_cache.\n"
     ]
    },
    {
     "name": "stdout",
     "output_type": "stream",
     "text": [
      "/data/CSHL_data_processed/CHATM2/CHATM2_prep2_raw_NtbNormalizedAdaptiveInvertedGammaJpeg/CHATM2_slide25_2018_01_18-S3_prep2_raw_NtbNormalizedAdaptiveInvertedGammaJpeg.jpg\n"
     ]
    },
    {
     "name": "stderr",
     "output_type": "stream",
     "text": [
      "Load background image: 2.24 seconds\n",
      "Rescale background image to output resolution: 0.32 seconds\n",
      "Predict scores 7N: 0.01 seconds\n",
      "Resample scoremap 7N: 0.09 seconds\n",
      "Load and rescale background image: 0.00 seconds\n",
      "Generate scoremap overlay: 0.05 seconds.\n",
      "Scoremap size does not match background image size. Need to resize: 0.08 seconds.\n",
      "Generate scoremap overlay image 7N: 0.15 seconds\n",
      "locate patches: 0.02 seconds\n"
     ]
    },
    {
     "name": "stdout",
     "output_type": "stream",
     "text": [
      "(597, 925, 3) (597, 925)\n",
      "7N 78\n"
     ]
    },
    {
     "name": "stderr",
     "output_type": "stream",
     "text": [
      "Load pre-computed features: 0.46 seconds\n",
      "Not using image_cache.\n"
     ]
    },
    {
     "name": "stdout",
     "output_type": "stream",
     "text": [
      "/data/CSHL_data_processed/CHATM2/CHATM2_prep2_raw_NtbNormalizedAdaptiveInvertedGammaJpeg/CHATM2_slide26_2018_01_18-S3_prep2_raw_NtbNormalizedAdaptiveInvertedGammaJpeg.jpg\n"
     ]
    },
    {
     "name": "stderr",
     "output_type": "stream",
     "text": [
      "Load background image: 2.15 seconds\n",
      "Rescale background image to output resolution: 0.33 seconds\n",
      "Predict scores 7N: 0.01 seconds\n",
      "Resample scoremap 7N: 0.09 seconds\n",
      "Load and rescale background image: 0.00 seconds\n",
      "Generate scoremap overlay: 0.05 seconds.\n",
      "Scoremap size does not match background image size. Need to resize: 0.07 seconds.\n",
      "Generate scoremap overlay image 7N: 0.15 seconds\n",
      "locate patches: 0.02 seconds\n"
     ]
    },
    {
     "name": "stdout",
     "output_type": "stream",
     "text": [
      "(597, 925, 3) (597, 925)\n",
      "7N 79\n"
     ]
    },
    {
     "name": "stderr",
     "output_type": "stream",
     "text": [
      "Load pre-computed features: 0.43 seconds\n",
      "Not using image_cache.\n"
     ]
    },
    {
     "name": "stdout",
     "output_type": "stream",
     "text": [
      "/data/CSHL_data_processed/CHATM2/CHATM2_prep2_raw_NtbNormalizedAdaptiveInvertedGammaJpeg/CHATM2_slide27_2018_01_18-S1_prep2_raw_NtbNormalizedAdaptiveInvertedGammaJpeg.jpg\n"
     ]
    },
    {
     "name": "stderr",
     "output_type": "stream",
     "text": [
      "Load background image: 2.24 seconds\n",
      "Rescale background image to output resolution: 0.32 seconds\n",
      "Predict scores 7N: 0.01 seconds\n",
      "Resample scoremap 7N: 0.09 seconds\n",
      "Load and rescale background image: 0.00 seconds\n",
      "Generate scoremap overlay: 0.05 seconds.\n",
      "Scoremap size does not match background image size. Need to resize: 0.08 seconds.\n",
      "Generate scoremap overlay image 7N: 0.15 seconds\n",
      "locate patches: 0.02 seconds\n"
     ]
    },
    {
     "name": "stdout",
     "output_type": "stream",
     "text": [
      "(597, 925, 3) (597, 925)\n",
      "7N 80\n"
     ]
    },
    {
     "name": "stderr",
     "output_type": "stream",
     "text": [
      "Load pre-computed features: 0.56 seconds\n",
      "Not using image_cache.\n"
     ]
    },
    {
     "name": "stdout",
     "output_type": "stream",
     "text": [
      "/data/CSHL_data_processed/CHATM2/CHATM2_prep2_raw_NtbNormalizedAdaptiveInvertedGammaJpeg/CHATM2_slide28_2018_01_18-S1_prep2_raw_NtbNormalizedAdaptiveInvertedGammaJpeg.jpg\n"
     ]
    },
    {
     "name": "stderr",
     "output_type": "stream",
     "text": [
      "Load background image: 2.16 seconds\n",
      "Rescale background image to output resolution: 0.32 seconds\n",
      "Predict scores 7N: 0.01 seconds\n",
      "Resample scoremap 7N: 0.09 seconds\n",
      "Load and rescale background image: 0.00 seconds\n",
      "Generate scoremap overlay: 0.05 seconds.\n",
      "Scoremap size does not match background image size. Need to resize: 0.08 seconds.\n",
      "Generate scoremap overlay image 7N: 0.16 seconds\n",
      "locate patches: 0.02 seconds\n"
     ]
    },
    {
     "name": "stdout",
     "output_type": "stream",
     "text": [
      "(597, 925, 3) (597, 925)\n",
      "7N 81\n"
     ]
    },
    {
     "name": "stderr",
     "output_type": "stream",
     "text": [
      "Load pre-computed features: 0.45 seconds\n",
      "Not using image_cache.\n"
     ]
    },
    {
     "name": "stdout",
     "output_type": "stream",
     "text": [
      "/data/CSHL_data_processed/CHATM2/CHATM2_prep2_raw_NtbNormalizedAdaptiveInvertedGammaJpeg/CHATM2_slide27_2018_01_18-S2_prep2_raw_NtbNormalizedAdaptiveInvertedGammaJpeg.jpg\n"
     ]
    },
    {
     "name": "stderr",
     "output_type": "stream",
     "text": [
      "Load background image: 2.20 seconds\n",
      "Rescale background image to output resolution: 0.32 seconds\n",
      "Predict scores 7N: 0.01 seconds\n",
      "Resample scoremap 7N: 0.09 seconds\n",
      "Load and rescale background image: 0.00 seconds\n",
      "Generate scoremap overlay: 0.06 seconds.\n",
      "Scoremap size does not match background image size. Need to resize: 0.08 seconds.\n",
      "Generate scoremap overlay image 7N: 0.16 seconds\n",
      "locate patches: 0.02 seconds\n"
     ]
    },
    {
     "name": "stdout",
     "output_type": "stream",
     "text": [
      "(597, 925, 3) (597, 925)\n",
      "7N 82\n"
     ]
    },
    {
     "name": "stderr",
     "output_type": "stream",
     "text": [
      "Load pre-computed features: 0.45 seconds\n",
      "Not using image_cache.\n"
     ]
    },
    {
     "name": "stdout",
     "output_type": "stream",
     "text": [
      "/data/CSHL_data_processed/CHATM2/CHATM2_prep2_raw_NtbNormalizedAdaptiveInvertedGammaJpeg/CHATM2_slide28_2018_01_18-S2_prep2_raw_NtbNormalizedAdaptiveInvertedGammaJpeg.jpg\n"
     ]
    },
    {
     "name": "stderr",
     "output_type": "stream",
     "text": [
      "Load background image: 2.17 seconds\n",
      "Rescale background image to output resolution: 0.32 seconds\n",
      "Predict scores 7N: 0.01 seconds\n",
      "Resample scoremap 7N: 0.09 seconds\n",
      "Load and rescale background image: 0.00 seconds\n",
      "Generate scoremap overlay: 0.06 seconds.\n",
      "Scoremap size does not match background image size. Need to resize: 0.08 seconds.\n",
      "Generate scoremap overlay image 7N: 0.16 seconds\n",
      "locate patches: 0.02 seconds\n"
     ]
    },
    {
     "name": "stdout",
     "output_type": "stream",
     "text": [
      "(597, 925, 3) (597, 925)\n",
      "7N 83\n"
     ]
    },
    {
     "name": "stderr",
     "output_type": "stream",
     "text": [
      "Load pre-computed features: 0.49 seconds\n",
      "Not using image_cache.\n"
     ]
    },
    {
     "name": "stdout",
     "output_type": "stream",
     "text": [
      "/data/CSHL_data_processed/CHATM2/CHATM2_prep2_raw_NtbNormalizedAdaptiveInvertedGammaJpeg/CHATM2_slide27_2018_01_18-S3_prep2_raw_NtbNormalizedAdaptiveInvertedGammaJpeg.jpg\n"
     ]
    },
    {
     "name": "stderr",
     "output_type": "stream",
     "text": [
      "Load background image: 2.24 seconds\n",
      "Rescale background image to output resolution: 0.32 seconds\n",
      "Predict scores 7N: 0.01 seconds\n",
      "Resample scoremap 7N: 0.09 seconds\n",
      "Load and rescale background image: 0.00 seconds\n",
      "Generate scoremap overlay: 0.05 seconds.\n",
      "Scoremap size does not match background image size. Need to resize: 0.08 seconds.\n",
      "Generate scoremap overlay image 7N: 0.17 seconds\n",
      "locate patches: 0.02 seconds\n"
     ]
    },
    {
     "name": "stdout",
     "output_type": "stream",
     "text": [
      "(597, 925, 3) (597, 925)\n",
      "7N 84\n"
     ]
    },
    {
     "name": "stderr",
     "output_type": "stream",
     "text": [
      "Load pre-computed features: 0.50 seconds\n",
      "Not using image_cache.\n"
     ]
    },
    {
     "name": "stdout",
     "output_type": "stream",
     "text": [
      "/data/CSHL_data_processed/CHATM2/CHATM2_prep2_raw_NtbNormalizedAdaptiveInvertedGammaJpeg/CHATM2_slide28_2018_01_18-S3_prep2_raw_NtbNormalizedAdaptiveInvertedGammaJpeg.jpg\n"
     ]
    },
    {
     "name": "stderr",
     "output_type": "stream",
     "text": [
      "Load background image: 2.20 seconds\n",
      "Rescale background image to output resolution: 0.32 seconds\n",
      "Predict scores 7N: 0.01 seconds\n",
      "Resample scoremap 7N: 0.09 seconds\n",
      "Load and rescale background image: 0.00 seconds\n",
      "Generate scoremap overlay: 0.05 seconds.\n",
      "Scoremap size does not match background image size. Need to resize: 0.08 seconds.\n",
      "Generate scoremap overlay image 7N: 0.16 seconds\n",
      "locate patches: 0.02 seconds\n"
     ]
    },
    {
     "name": "stdout",
     "output_type": "stream",
     "text": [
      "(597, 925, 3) (597, 925)\n",
      "7N 85\n"
     ]
    },
    {
     "name": "stderr",
     "output_type": "stream",
     "text": [
      "Load pre-computed features: 0.46 seconds\n",
      "Not using image_cache.\n"
     ]
    },
    {
     "name": "stdout",
     "output_type": "stream",
     "text": [
      "/data/CSHL_data_processed/CHATM2/CHATM2_prep2_raw_NtbNormalizedAdaptiveInvertedGammaJpeg/CHATM2_slide29_2018_01_18-S1_prep2_raw_NtbNormalizedAdaptiveInvertedGammaJpeg.jpg\n"
     ]
    },
    {
     "name": "stderr",
     "output_type": "stream",
     "text": [
      "Load background image: 2.21 seconds\n",
      "Rescale background image to output resolution: 0.33 seconds\n",
      "Predict scores 7N: 0.01 seconds\n",
      "Resample scoremap 7N: 0.09 seconds\n",
      "Load and rescale background image: 0.00 seconds\n",
      "Generate scoremap overlay: 0.05 seconds.\n",
      "Scoremap size does not match background image size. Need to resize: 0.08 seconds.\n",
      "Generate scoremap overlay image 7N: 0.15 seconds\n",
      "locate patches: 0.02 seconds\n"
     ]
    },
    {
     "name": "stdout",
     "output_type": "stream",
     "text": [
      "(597, 925, 3) (597, 925)\n",
      "7N 86\n"
     ]
    },
    {
     "name": "stderr",
     "output_type": "stream",
     "text": [
      "Load pre-computed features: 0.47 seconds\n",
      "Not using image_cache.\n"
     ]
    },
    {
     "name": "stdout",
     "output_type": "stream",
     "text": [
      "/data/CSHL_data_processed/CHATM2/CHATM2_prep2_raw_NtbNormalizedAdaptiveInvertedGammaJpeg/CHATM2_slide30_2018_01_18-S1_prep2_raw_NtbNormalizedAdaptiveInvertedGammaJpeg.jpg\n"
     ]
    },
    {
     "name": "stderr",
     "output_type": "stream",
     "text": [
      "Load background image: 2.14 seconds\n",
      "Rescale background image to output resolution: 0.31 seconds\n",
      "Predict scores 7N: 0.01 seconds\n",
      "Resample scoremap 7N: 0.09 seconds\n",
      "Load and rescale background image: 0.00 seconds\n",
      "Generate scoremap overlay: 0.05 seconds.\n",
      "Scoremap size does not match background image size. Need to resize: 0.08 seconds.\n",
      "Generate scoremap overlay image 7N: 0.15 seconds\n",
      "locate patches: 0.02 seconds\n"
     ]
    },
    {
     "name": "stdout",
     "output_type": "stream",
     "text": [
      "(597, 925, 3) (597, 925)\n",
      "7N 87\n"
     ]
    },
    {
     "name": "stderr",
     "output_type": "stream",
     "text": [
      "Load pre-computed features: 0.46 seconds\n",
      "Not using image_cache.\n"
     ]
    },
    {
     "name": "stdout",
     "output_type": "stream",
     "text": [
      "/data/CSHL_data_processed/CHATM2/CHATM2_prep2_raw_NtbNormalizedAdaptiveInvertedGammaJpeg/CHATM2_slide29_2018_01_18-S2_prep2_raw_NtbNormalizedAdaptiveInvertedGammaJpeg.jpg\n"
     ]
    },
    {
     "name": "stderr",
     "output_type": "stream",
     "text": [
      "Load background image: 2.19 seconds\n",
      "Rescale background image to output resolution: 0.32 seconds\n",
      "Predict scores 7N: 0.01 seconds\n",
      "Resample scoremap 7N: 0.09 seconds\n",
      "Load and rescale background image: 0.00 seconds\n",
      "Generate scoremap overlay: 0.05 seconds.\n",
      "Scoremap size does not match background image size. Need to resize: 0.08 seconds.\n",
      "Generate scoremap overlay image 7N: 0.15 seconds\n",
      "locate patches: 0.02 seconds\n"
     ]
    },
    {
     "name": "stdout",
     "output_type": "stream",
     "text": [
      "(597, 925, 3) (597, 925)\n",
      "7N 88\n"
     ]
    },
    {
     "name": "stderr",
     "output_type": "stream",
     "text": [
      "Load pre-computed features: 0.48 seconds\n",
      "Not using image_cache.\n"
     ]
    },
    {
     "name": "stdout",
     "output_type": "stream",
     "text": [
      "/data/CSHL_data_processed/CHATM2/CHATM2_prep2_raw_NtbNormalizedAdaptiveInvertedGammaJpeg/CHATM2_slide30_2018_01_18-S2_prep2_raw_NtbNormalizedAdaptiveInvertedGammaJpeg.jpg\n"
     ]
    },
    {
     "name": "stderr",
     "output_type": "stream",
     "text": [
      "Load background image: 2.20 seconds\n",
      "Rescale background image to output resolution: 0.32 seconds\n",
      "Predict scores 7N: 0.01 seconds\n",
      "Resample scoremap 7N: 0.09 seconds\n",
      "Load and rescale background image: 0.00 seconds\n",
      "Generate scoremap overlay: 0.05 seconds.\n",
      "Scoremap size does not match background image size. Need to resize: 0.07 seconds.\n",
      "Generate scoremap overlay image 7N: 0.15 seconds\n",
      "locate patches: 0.02 seconds\n"
     ]
    },
    {
     "name": "stdout",
     "output_type": "stream",
     "text": [
      "(597, 925, 3) (597, 925)\n",
      "7N 89\n"
     ]
    },
    {
     "name": "stderr",
     "output_type": "stream",
     "text": [
      "Load pre-computed features: 0.53 seconds\n",
      "Not using image_cache.\n"
     ]
    },
    {
     "name": "stdout",
     "output_type": "stream",
     "text": [
      "/data/CSHL_data_processed/CHATM2/CHATM2_prep2_raw_NtbNormalizedAdaptiveInvertedGammaJpeg/CHATM2_slide29_2018_01_18-S3_prep2_raw_NtbNormalizedAdaptiveInvertedGammaJpeg.jpg\n"
     ]
    },
    {
     "name": "stderr",
     "output_type": "stream",
     "text": [
      "Load background image: 2.32 seconds\n",
      "Rescale background image to output resolution: 0.32 seconds\n",
      "Predict scores 7N: 0.01 seconds\n",
      "Resample scoremap 7N: 0.09 seconds\n",
      "Load and rescale background image: 0.00 seconds\n",
      "Generate scoremap overlay: 0.05 seconds.\n",
      "Scoremap size does not match background image size. Need to resize: 0.09 seconds.\n",
      "Generate scoremap overlay image 7N: 0.17 seconds\n",
      "locate patches: 0.02 seconds\n"
     ]
    },
    {
     "name": "stdout",
     "output_type": "stream",
     "text": [
      "(597, 925, 3) (597, 925)\n",
      "7N 90\n"
     ]
    },
    {
     "name": "stderr",
     "output_type": "stream",
     "text": [
      "Load pre-computed features: 0.51 seconds\n",
      "Not using image_cache.\n"
     ]
    },
    {
     "name": "stdout",
     "output_type": "stream",
     "text": [
      "/data/CSHL_data_processed/CHATM2/CHATM2_prep2_raw_NtbNormalizedAdaptiveInvertedGammaJpeg/CHATM2_slide30_2018_01_18-S3_prep2_raw_NtbNormalizedAdaptiveInvertedGammaJpeg.jpg\n"
     ]
    },
    {
     "name": "stderr",
     "output_type": "stream",
     "text": [
      "Load background image: 2.28 seconds\n",
      "Rescale background image to output resolution: 0.32 seconds\n",
      "Predict scores 7N: 0.01 seconds\n",
      "Resample scoremap 7N: 0.09 seconds\n",
      "Load and rescale background image: 0.00 seconds\n",
      "Generate scoremap overlay: 0.05 seconds.\n",
      "Scoremap size does not match background image size. Need to resize: 0.08 seconds.\n",
      "Generate scoremap overlay image 7N: 0.15 seconds\n",
      "locate patches: 0.02 seconds\n"
     ]
    },
    {
     "name": "stdout",
     "output_type": "stream",
     "text": [
      "(597, 925, 3) (597, 925)\n",
      "7N 92\n"
     ]
    },
    {
     "name": "stderr",
     "output_type": "stream",
     "text": [
      "Load pre-computed features: 0.50 seconds\n",
      "Not using image_cache.\n"
     ]
    },
    {
     "name": "stdout",
     "output_type": "stream",
     "text": [
      "/data/CSHL_data_processed/CHATM2/CHATM2_prep2_raw_NtbNormalizedAdaptiveInvertedGammaJpeg/CHATM2_slide32_2018_01_20-S1_prep2_raw_NtbNormalizedAdaptiveInvertedGammaJpeg.jpg\n"
     ]
    },
    {
     "name": "stderr",
     "output_type": "stream",
     "text": [
      "Load background image: 2.15 seconds\n",
      "Rescale background image to output resolution: 0.33 seconds\n",
      "Predict scores 7N: 0.01 seconds\n",
      "Resample scoremap 7N: 0.09 seconds\n",
      "Load and rescale background image: 0.00 seconds\n",
      "Generate scoremap overlay: 0.05 seconds.\n",
      "Scoremap size does not match background image size. Need to resize: 0.08 seconds.\n",
      "Generate scoremap overlay image 7N: 0.15 seconds\n",
      "locate patches: 0.02 seconds\n"
     ]
    },
    {
     "name": "stdout",
     "output_type": "stream",
     "text": [
      "(597, 925, 3) (597, 925)\n",
      "7N 93\n"
     ]
    },
    {
     "name": "stderr",
     "output_type": "stream",
     "text": [
      "Load pre-computed features: 0.49 seconds\n",
      "Not using image_cache.\n"
     ]
    },
    {
     "name": "stdout",
     "output_type": "stream",
     "text": [
      "/data/CSHL_data_processed/CHATM2/CHATM2_prep2_raw_NtbNormalizedAdaptiveInvertedGammaJpeg/CHATM2_slide31_2018_01_19-S2_prep2_raw_NtbNormalizedAdaptiveInvertedGammaJpeg.jpg\n"
     ]
    },
    {
     "name": "stderr",
     "output_type": "stream",
     "text": [
      "Load background image: 2.22 seconds\n",
      "Rescale background image to output resolution: 0.32 seconds\n",
      "Predict scores 7N: 0.01 seconds\n",
      "Resample scoremap 7N: 0.09 seconds\n",
      "Load and rescale background image: 0.00 seconds\n",
      "Generate scoremap overlay: 0.05 seconds.\n",
      "Scoremap size does not match background image size. Need to resize: 0.08 seconds.\n",
      "Generate scoremap overlay image 7N: 0.16 seconds\n",
      "locate patches: 0.02 seconds\n"
     ]
    },
    {
     "name": "stdout",
     "output_type": "stream",
     "text": [
      "(597, 925, 3) (597, 925)\n",
      "7N 94\n"
     ]
    },
    {
     "name": "stderr",
     "output_type": "stream",
     "text": [
      "Load pre-computed features: 0.51 seconds\n",
      "Not using image_cache.\n"
     ]
    },
    {
     "name": "stdout",
     "output_type": "stream",
     "text": [
      "/data/CSHL_data_processed/CHATM2/CHATM2_prep2_raw_NtbNormalizedAdaptiveInvertedGammaJpeg/CHATM2_slide32_2018_01_20-S2_prep2_raw_NtbNormalizedAdaptiveInvertedGammaJpeg.jpg\n"
     ]
    },
    {
     "name": "stderr",
     "output_type": "stream",
     "text": [
      "Load background image: 2.17 seconds\n",
      "Rescale background image to output resolution: 0.32 seconds\n",
      "Predict scores 7N: 0.01 seconds\n",
      "Resample scoremap 7N: 0.09 seconds\n",
      "Load and rescale background image: 0.00 seconds\n",
      "Generate scoremap overlay: 0.05 seconds.\n",
      "Scoremap size does not match background image size. Need to resize: 0.08 seconds.\n",
      "Generate scoremap overlay image 7N: 0.15 seconds\n",
      "locate patches: 0.02 seconds\n"
     ]
    },
    {
     "name": "stdout",
     "output_type": "stream",
     "text": [
      "(597, 925, 3) (597, 925)\n",
      "7N 95\n"
     ]
    },
    {
     "name": "stderr",
     "output_type": "stream",
     "text": [
      "Load pre-computed features: 0.56 seconds\n",
      "Not using image_cache.\n"
     ]
    },
    {
     "name": "stdout",
     "output_type": "stream",
     "text": [
      "/data/CSHL_data_processed/CHATM2/CHATM2_prep2_raw_NtbNormalizedAdaptiveInvertedGammaJpeg/CHATM2_slide31_2018_01_19-S3_prep2_raw_NtbNormalizedAdaptiveInvertedGammaJpeg.jpg\n"
     ]
    },
    {
     "name": "stderr",
     "output_type": "stream",
     "text": [
      "Load background image: 2.28 seconds\n",
      "Rescale background image to output resolution: 0.32 seconds\n",
      "Predict scores 7N: 0.01 seconds\n",
      "Resample scoremap 7N: 0.09 seconds\n",
      "Load and rescale background image: 0.00 seconds\n",
      "Generate scoremap overlay: 0.05 seconds.\n",
      "Scoremap size does not match background image size. Need to resize: 0.08 seconds.\n",
      "Generate scoremap overlay image 7N: 0.15 seconds\n",
      "locate patches: 0.02 seconds\n"
     ]
    },
    {
     "name": "stdout",
     "output_type": "stream",
     "text": [
      "(597, 925, 3) (597, 925)\n",
      "7N 96\n"
     ]
    },
    {
     "name": "stderr",
     "output_type": "stream",
     "text": [
      "Load pre-computed features: 0.52 seconds\n",
      "Not using image_cache.\n"
     ]
    },
    {
     "name": "stdout",
     "output_type": "stream",
     "text": [
      "/data/CSHL_data_processed/CHATM2/CHATM2_prep2_raw_NtbNormalizedAdaptiveInvertedGammaJpeg/CHATM2_slide32_2018_01_20-S3_prep2_raw_NtbNormalizedAdaptiveInvertedGammaJpeg.jpg\n"
     ]
    },
    {
     "name": "stderr",
     "output_type": "stream",
     "text": [
      "Load background image: 2.26 seconds\n",
      "Rescale background image to output resolution: 0.32 seconds\n",
      "Predict scores 7N: 0.01 seconds\n",
      "Resample scoremap 7N: 0.09 seconds\n",
      "Load and rescale background image: 0.00 seconds\n",
      "Generate scoremap overlay: 0.05 seconds.\n",
      "Scoremap size does not match background image size. Need to resize: 0.09 seconds.\n",
      "Generate scoremap overlay image 7N: 0.17 seconds\n",
      "locate patches: 0.02 seconds\n"
     ]
    },
    {
     "name": "stdout",
     "output_type": "stream",
     "text": [
      "(597, 925, 3) (597, 925)\n",
      "7N 97\n"
     ]
    },
    {
     "name": "stderr",
     "output_type": "stream",
     "text": [
      "Load pre-computed features: 0.50 seconds\n",
      "Not using image_cache.\n"
     ]
    },
    {
     "name": "stdout",
     "output_type": "stream",
     "text": [
      "/data/CSHL_data_processed/CHATM2/CHATM2_prep2_raw_NtbNormalizedAdaptiveInvertedGammaJpeg/CHATM2_slide33_2018_01_20-S1_prep2_raw_NtbNormalizedAdaptiveInvertedGammaJpeg.jpg\n"
     ]
    },
    {
     "name": "stderr",
     "output_type": "stream",
     "text": [
      "Load background image: 2.26 seconds\n",
      "Rescale background image to output resolution: 0.32 seconds\n",
      "Predict scores 7N: 0.01 seconds\n",
      "Resample scoremap 7N: 0.09 seconds\n",
      "Load and rescale background image: 0.00 seconds\n",
      "Generate scoremap overlay: 0.05 seconds.\n",
      "Scoremap size does not match background image size. Need to resize: 0.08 seconds.\n",
      "Generate scoremap overlay image 7N: 0.15 seconds\n",
      "locate patches: 0.02 seconds\n"
     ]
    },
    {
     "name": "stdout",
     "output_type": "stream",
     "text": [
      "(597, 925, 3) (597, 925)\n",
      "7N 98\n"
     ]
    },
    {
     "name": "stderr",
     "output_type": "stream",
     "text": [
      "Load pre-computed features: 0.53 seconds\n",
      "Not using image_cache.\n"
     ]
    },
    {
     "name": "stdout",
     "output_type": "stream",
     "text": [
      "/data/CSHL_data_processed/CHATM2/CHATM2_prep2_raw_NtbNormalizedAdaptiveInvertedGammaJpeg/CHATM2_slide34_2018_01_20-S1_prep2_raw_NtbNormalizedAdaptiveInvertedGammaJpeg.jpg\n"
     ]
    },
    {
     "name": "stderr",
     "output_type": "stream",
     "text": [
      "Load background image: 2.19 seconds\n",
      "Rescale background image to output resolution: 0.32 seconds\n",
      "Predict scores 7N: 0.01 seconds\n",
      "Resample scoremap 7N: 0.10 seconds\n",
      "Load and rescale background image: 0.00 seconds\n",
      "Generate scoremap overlay: 0.05 seconds.\n",
      "Scoremap size does not match background image size. Need to resize: 0.08 seconds.\n",
      "Generate scoremap overlay image 7N: 0.15 seconds\n",
      "locate patches: 0.02 seconds\n"
     ]
    },
    {
     "name": "stdout",
     "output_type": "stream",
     "text": [
      "(597, 925, 3) (597, 925)\n",
      "7N 99\n"
     ]
    },
    {
     "name": "stderr",
     "output_type": "stream",
     "text": [
      "Load pre-computed features: 0.48 seconds\n",
      "Not using image_cache.\n"
     ]
    },
    {
     "name": "stdout",
     "output_type": "stream",
     "text": [
      "/data/CSHL_data_processed/CHATM2/CHATM2_prep2_raw_NtbNormalizedAdaptiveInvertedGammaJpeg/CHATM2_slide33_2018_01_20-S2_prep2_raw_NtbNormalizedAdaptiveInvertedGammaJpeg.jpg\n"
     ]
    },
    {
     "name": "stderr",
     "output_type": "stream",
     "text": [
      "Load background image: 2.26 seconds\n",
      "Rescale background image to output resolution: 0.32 seconds\n",
      "Predict scores 7N: 0.01 seconds\n",
      "Resample scoremap 7N: 0.09 seconds\n",
      "Load and rescale background image: 0.00 seconds\n",
      "Generate scoremap overlay: 0.05 seconds.\n",
      "Scoremap size does not match background image size. Need to resize: 0.08 seconds.\n",
      "Generate scoremap overlay image 7N: 0.15 seconds\n",
      "locate patches: 0.02 seconds\n"
     ]
    },
    {
     "name": "stdout",
     "output_type": "stream",
     "text": [
      "(597, 925, 3) (597, 925)\n",
      "7N 100\n"
     ]
    },
    {
     "name": "stderr",
     "output_type": "stream",
     "text": [
      "Load pre-computed features: 0.53 seconds\n",
      "Not using image_cache.\n"
     ]
    },
    {
     "name": "stdout",
     "output_type": "stream",
     "text": [
      "/data/CSHL_data_processed/CHATM2/CHATM2_prep2_raw_NtbNormalizedAdaptiveInvertedGammaJpeg/CHATM2_slide34_2018_01_20-S2_prep2_raw_NtbNormalizedAdaptiveInvertedGammaJpeg.jpg\n"
     ]
    },
    {
     "name": "stderr",
     "output_type": "stream",
     "text": [
      "Load background image: 2.25 seconds\n",
      "Rescale background image to output resolution: 0.32 seconds\n",
      "Predict scores 7N: 0.01 seconds\n",
      "Resample scoremap 7N: 0.09 seconds\n",
      "Load and rescale background image: 0.00 seconds\n",
      "Generate scoremap overlay: 0.05 seconds.\n",
      "Scoremap size does not match background image size. Need to resize: 0.08 seconds.\n",
      "Generate scoremap overlay image 7N: 0.15 seconds\n",
      "locate patches: 0.02 seconds\n"
     ]
    },
    {
     "name": "stdout",
     "output_type": "stream",
     "text": [
      "(597, 925, 3) (597, 925)\n",
      "7N 101\n"
     ]
    },
    {
     "name": "stderr",
     "output_type": "stream",
     "text": [
      "Load pre-computed features: 0.53 seconds\n",
      "Not using image_cache.\n"
     ]
    },
    {
     "name": "stdout",
     "output_type": "stream",
     "text": [
      "/data/CSHL_data_processed/CHATM2/CHATM2_prep2_raw_NtbNormalizedAdaptiveInvertedGammaJpeg/CHATM2_slide33_2018_01_20-S3_prep2_raw_NtbNormalizedAdaptiveInvertedGammaJpeg.jpg\n"
     ]
    },
    {
     "name": "stderr",
     "output_type": "stream",
     "text": [
      "Load background image: 2.27 seconds\n",
      "Rescale background image to output resolution: 0.32 seconds\n",
      "Predict scores 7N: 0.01 seconds\n",
      "Resample scoremap 7N: 0.09 seconds\n",
      "Load and rescale background image: 0.00 seconds\n",
      "Generate scoremap overlay: 0.05 seconds.\n",
      "Scoremap size does not match background image size. Need to resize: 0.08 seconds.\n",
      "Generate scoremap overlay image 7N: 0.15 seconds\n",
      "locate patches: 0.02 seconds\n"
     ]
    },
    {
     "name": "stdout",
     "output_type": "stream",
     "text": [
      "(597, 925, 3) (597, 925)\n",
      "7N 102\n"
     ]
    },
    {
     "name": "stderr",
     "output_type": "stream",
     "text": [
      "Load pre-computed features: 0.49 seconds\n",
      "Not using image_cache.\n"
     ]
    },
    {
     "name": "stdout",
     "output_type": "stream",
     "text": [
      "/data/CSHL_data_processed/CHATM2/CHATM2_prep2_raw_NtbNormalizedAdaptiveInvertedGammaJpeg/CHATM2_slide34_2018_01_20-S3_prep2_raw_NtbNormalizedAdaptiveInvertedGammaJpeg.jpg\n"
     ]
    },
    {
     "name": "stderr",
     "output_type": "stream",
     "text": [
      "Load background image: 2.30 seconds\n",
      "Rescale background image to output resolution: 0.32 seconds\n",
      "Predict scores 7N: 0.01 seconds\n",
      "Resample scoremap 7N: 0.09 seconds\n",
      "Load and rescale background image: 0.00 seconds\n",
      "Generate scoremap overlay: 0.05 seconds.\n",
      "Scoremap size does not match background image size. Need to resize: 0.08 seconds.\n",
      "Generate scoremap overlay image 7N: 0.15 seconds\n",
      "locate patches: 0.02 seconds\n"
     ]
    },
    {
     "name": "stdout",
     "output_type": "stream",
     "text": [
      "(597, 925, 3) (597, 925)\n",
      "7N 103\n"
     ]
    },
    {
     "name": "stderr",
     "output_type": "stream",
     "text": [
      "Load pre-computed features: 0.54 seconds\n",
      "Not using image_cache.\n"
     ]
    },
    {
     "name": "stdout",
     "output_type": "stream",
     "text": [
      "/data/CSHL_data_processed/CHATM2/CHATM2_prep2_raw_NtbNormalizedAdaptiveInvertedGammaJpeg/CHATM2_slide35_2018_01_20-S1_prep2_raw_NtbNormalizedAdaptiveInvertedGammaJpeg.jpg\n"
     ]
    },
    {
     "name": "stderr",
     "output_type": "stream",
     "text": [
      "Load background image: 2.32 seconds\n",
      "Rescale background image to output resolution: 0.32 seconds\n",
      "Predict scores 7N: 0.01 seconds\n",
      "Resample scoremap 7N: 0.09 seconds\n",
      "Load and rescale background image: 0.00 seconds\n",
      "Generate scoremap overlay: 0.05 seconds.\n",
      "Scoremap size does not match background image size. Need to resize: 0.08 seconds.\n",
      "Generate scoremap overlay image 7N: 0.15 seconds\n",
      "locate patches: 0.02 seconds\n"
     ]
    },
    {
     "name": "stdout",
     "output_type": "stream",
     "text": [
      "(597, 925, 3) (597, 925)\n",
      "7N 104\n"
     ]
    },
    {
     "name": "stderr",
     "output_type": "stream",
     "text": [
      "Load pre-computed features: 0.51 seconds\n",
      "Not using image_cache.\n"
     ]
    },
    {
     "name": "stdout",
     "output_type": "stream",
     "text": [
      "/data/CSHL_data_processed/CHATM2/CHATM2_prep2_raw_NtbNormalizedAdaptiveInvertedGammaJpeg/CHATM2_slide36_2018_01_22-S1_prep2_raw_NtbNormalizedAdaptiveInvertedGammaJpeg.jpg\n"
     ]
    },
    {
     "name": "stderr",
     "output_type": "stream",
     "text": [
      "Load background image: 2.25 seconds\n",
      "Rescale background image to output resolution: 0.32 seconds\n",
      "Predict scores 7N: 0.01 seconds\n",
      "Resample scoremap 7N: 0.09 seconds\n",
      "Load and rescale background image: 0.00 seconds\n",
      "Generate scoremap overlay: 0.05 seconds.\n",
      "Scoremap size does not match background image size. Need to resize: 0.08 seconds.\n",
      "Generate scoremap overlay image 7N: 0.15 seconds\n",
      "locate patches: 0.02 seconds\n"
     ]
    },
    {
     "name": "stdout",
     "output_type": "stream",
     "text": [
      "(597, 925, 3) (597, 925)\n",
      "7N 105\n"
     ]
    },
    {
     "name": "stderr",
     "output_type": "stream",
     "text": [
      "Load pre-computed features: 0.50 seconds\n",
      "Not using image_cache.\n"
     ]
    },
    {
     "name": "stdout",
     "output_type": "stream",
     "text": [
      "/data/CSHL_data_processed/CHATM2/CHATM2_prep2_raw_NtbNormalizedAdaptiveInvertedGammaJpeg/CHATM2_slide35_2018_01_20-S2_prep2_raw_NtbNormalizedAdaptiveInvertedGammaJpeg.jpg\n"
     ]
    },
    {
     "name": "stderr",
     "output_type": "stream",
     "text": [
      "Load background image: 2.29 seconds\n",
      "Rescale background image to output resolution: 0.31 seconds\n",
      "Predict scores 7N: 0.02 seconds\n",
      "Resample scoremap 7N: 0.09 seconds\n",
      "Load and rescale background image: 0.00 seconds\n",
      "Generate scoremap overlay: 0.06 seconds.\n",
      "Scoremap size does not match background image size. Need to resize: 0.08 seconds.\n",
      "Generate scoremap overlay image 7N: 0.16 seconds\n",
      "locate patches: 0.02 seconds\n"
     ]
    },
    {
     "name": "stdout",
     "output_type": "stream",
     "text": [
      "(597, 925, 3) (597, 925)\n",
      "7N 106\n"
     ]
    },
    {
     "name": "stderr",
     "output_type": "stream",
     "text": [
      "Load pre-computed features: 0.54 seconds\n",
      "Not using image_cache.\n"
     ]
    },
    {
     "name": "stdout",
     "output_type": "stream",
     "text": [
      "/data/CSHL_data_processed/CHATM2/CHATM2_prep2_raw_NtbNormalizedAdaptiveInvertedGammaJpeg/CHATM2_slide36_2018_01_22-S2_prep2_raw_NtbNormalizedAdaptiveInvertedGammaJpeg.jpg\n"
     ]
    },
    {
     "name": "stderr",
     "output_type": "stream",
     "text": [
      "Load background image: 2.30 seconds\n",
      "Rescale background image to output resolution: 0.32 seconds\n",
      "Predict scores 7N: 0.01 seconds\n",
      "Resample scoremap 7N: 0.09 seconds\n",
      "Load and rescale background image: 0.00 seconds\n",
      "Generate scoremap overlay: 0.05 seconds.\n",
      "Scoremap size does not match background image size. Need to resize: 0.08 seconds.\n",
      "Generate scoremap overlay image 7N: 0.16 seconds\n",
      "locate patches: 0.02 seconds\n"
     ]
    },
    {
     "name": "stdout",
     "output_type": "stream",
     "text": [
      "(597, 925, 3) (597, 925)\n",
      "7N 108\n"
     ]
    },
    {
     "name": "stderr",
     "output_type": "stream",
     "text": [
      "Load pre-computed features: 0.52 seconds\n",
      "Not using image_cache.\n"
     ]
    },
    {
     "name": "stdout",
     "output_type": "stream",
     "text": [
      "/data/CSHL_data_processed/CHATM2/CHATM2_prep2_raw_NtbNormalizedAdaptiveInvertedGammaJpeg/CHATM2_slide36_2018_01_22-S3_prep2_raw_NtbNormalizedAdaptiveInvertedGammaJpeg.jpg\n"
     ]
    },
    {
     "name": "stderr",
     "output_type": "stream",
     "text": [
      "Load background image: 2.32 seconds\n",
      "Rescale background image to output resolution: 0.32 seconds\n",
      "Predict scores 7N: 0.02 seconds\n",
      "Resample scoremap 7N: 0.10 seconds\n",
      "Load and rescale background image: 0.00 seconds\n",
      "Generate scoremap overlay: 0.05 seconds.\n",
      "Scoremap size does not match background image size. Need to resize: 0.07 seconds.\n",
      "Generate scoremap overlay image 7N: 0.15 seconds\n",
      "locate patches: 0.02 seconds\n"
     ]
    },
    {
     "name": "stdout",
     "output_type": "stream",
     "text": [
      "(597, 925, 3) (597, 925)\n",
      "7N 109\n"
     ]
    },
    {
     "name": "stderr",
     "output_type": "stream",
     "text": [
      "Load pre-computed features: 0.62 seconds\n",
      "Not using image_cache.\n"
     ]
    },
    {
     "name": "stdout",
     "output_type": "stream",
     "text": [
      "/data/CSHL_data_processed/CHATM2/CHATM2_prep2_raw_NtbNormalizedAdaptiveInvertedGammaJpeg/CHATM2_slide37_2018_01_22-S1_prep2_raw_NtbNormalizedAdaptiveInvertedGammaJpeg.jpg\n"
     ]
    },
    {
     "name": "stderr",
     "output_type": "stream",
     "text": [
      "Load background image: 2.34 seconds\n",
      "Rescale background image to output resolution: 0.31 seconds\n",
      "Predict scores 7N: 0.01 seconds\n",
      "Resample scoremap 7N: 0.09 seconds\n",
      "Load and rescale background image: 0.00 seconds\n",
      "Generate scoremap overlay: 0.05 seconds.\n",
      "Scoremap size does not match background image size. Need to resize: 0.07 seconds.\n",
      "Generate scoremap overlay image 7N: 0.15 seconds\n",
      "locate patches: 0.02 seconds\n"
     ]
    },
    {
     "name": "stdout",
     "output_type": "stream",
     "text": [
      "(597, 925, 3) (597, 925)\n",
      "7N 110\n"
     ]
    },
    {
     "name": "stderr",
     "output_type": "stream",
     "text": [
      "Load pre-computed features: 0.57 seconds\n",
      "Not using image_cache.\n"
     ]
    },
    {
     "name": "stdout",
     "output_type": "stream",
     "text": [
      "/data/CSHL_data_processed/CHATM2/CHATM2_prep2_raw_NtbNormalizedAdaptiveInvertedGammaJpeg/CHATM2_slide38_2018_01_22-S1_prep2_raw_NtbNormalizedAdaptiveInvertedGammaJpeg.jpg\n"
     ]
    },
    {
     "name": "stderr",
     "output_type": "stream",
     "text": [
      "Load background image: 2.27 seconds\n",
      "Rescale background image to output resolution: 0.31 seconds\n",
      "Predict scores 7N: 0.01 seconds\n",
      "Resample scoremap 7N: 0.06 seconds\n",
      "Load and rescale background image: 0.00 seconds\n",
      "Generate scoremap overlay: 0.05 seconds.\n",
      "Scoremap size does not match background image size. Need to resize: 0.07 seconds.\n"
     ]
    },
    {
     "name": "stdout",
     "output_type": "stream",
     "text": [
      "(597, 925, 3) (597, 925)\n",
      "7N 111\n"
     ]
    },
    {
     "name": "stderr",
     "output_type": "stream",
     "text": [
      "Generate scoremap overlay image 7N: 0.15 seconds\n",
      "locate patches: 0.02 seconds\n",
      "Load pre-computed features: 0.52 seconds\n",
      "Not using image_cache.\n"
     ]
    },
    {
     "name": "stdout",
     "output_type": "stream",
     "text": [
      "/data/CSHL_data_processed/CHATM2/CHATM2_prep2_raw_NtbNormalizedAdaptiveInvertedGammaJpeg/CHATM2_slide37_2018_01_22-S2_prep2_raw_NtbNormalizedAdaptiveInvertedGammaJpeg.jpg\n"
     ]
    },
    {
     "name": "stderr",
     "output_type": "stream",
     "text": [
      "Load background image: 2.32 seconds\n",
      "Rescale background image to output resolution: 0.32 seconds\n",
      "Predict scores 7N: 0.01 seconds\n",
      "Resample scoremap 7N: 0.09 seconds\n",
      "Load and rescale background image: 0.00 seconds\n",
      "Generate scoremap overlay: 0.05 seconds.\n",
      "Scoremap size does not match background image size. Need to resize: 0.08 seconds.\n",
      "Generate scoremap overlay image 7N: 0.16 seconds\n",
      "locate patches: 0.02 seconds\n"
     ]
    },
    {
     "name": "stdout",
     "output_type": "stream",
     "text": [
      "(597, 925, 3) (597, 925)\n",
      "7N 112\n"
     ]
    },
    {
     "name": "stderr",
     "output_type": "stream",
     "text": [
      "Load pre-computed features: 0.57 seconds\n",
      "Not using image_cache.\n"
     ]
    },
    {
     "name": "stdout",
     "output_type": "stream",
     "text": [
      "/data/CSHL_data_processed/CHATM2/CHATM2_prep2_raw_NtbNormalizedAdaptiveInvertedGammaJpeg/CHATM2_slide38_2018_01_22-S2_prep2_raw_NtbNormalizedAdaptiveInvertedGammaJpeg.jpg\n"
     ]
    },
    {
     "name": "stderr",
     "output_type": "stream",
     "text": [
      "Load background image: 2.30 seconds\n",
      "Rescale background image to output resolution: 0.32 seconds\n",
      "Predict scores 7N: 0.01 seconds\n",
      "Resample scoremap 7N: 0.09 seconds\n",
      "Load and rescale background image: 0.00 seconds\n",
      "Generate scoremap overlay: 0.05 seconds.\n",
      "Scoremap size does not match background image size. Need to resize: 0.07 seconds.\n",
      "Generate scoremap overlay image 7N: 0.15 seconds\n",
      "locate patches: 0.02 seconds\n"
     ]
    },
    {
     "name": "stdout",
     "output_type": "stream",
     "text": [
      "(597, 925, 3) (597, 925)\n",
      "7N 113\n"
     ]
    },
    {
     "name": "stderr",
     "output_type": "stream",
     "text": [
      "Load pre-computed features: 0.52 seconds\n",
      "Not using image_cache.\n"
     ]
    },
    {
     "name": "stdout",
     "output_type": "stream",
     "text": [
      "/data/CSHL_data_processed/CHATM2/CHATM2_prep2_raw_NtbNormalizedAdaptiveInvertedGammaJpeg/CHATM2_slide37_2018_01_22-S3_prep2_raw_NtbNormalizedAdaptiveInvertedGammaJpeg.jpg\n"
     ]
    },
    {
     "name": "stderr",
     "output_type": "stream",
     "text": [
      "Load background image: 2.35 seconds\n",
      "Rescale background image to output resolution: 0.32 seconds\n",
      "Predict scores 7N: 0.01 seconds\n",
      "Resample scoremap 7N: 0.09 seconds\n",
      "Load and rescale background image: 0.00 seconds\n",
      "Generate scoremap overlay: 0.05 seconds.\n",
      "Scoremap size does not match background image size. Need to resize: 0.07 seconds.\n",
      "Generate scoremap overlay image 7N: 0.15 seconds\n",
      "locate patches: 0.02 seconds\n"
     ]
    },
    {
     "name": "stdout",
     "output_type": "stream",
     "text": [
      "(597, 925, 3) (597, 925)\n",
      "7N 114\n"
     ]
    },
    {
     "name": "stderr",
     "output_type": "stream",
     "text": [
      "Load pre-computed features: 0.57 seconds\n",
      "Not using image_cache.\n"
     ]
    },
    {
     "name": "stdout",
     "output_type": "stream",
     "text": [
      "/data/CSHL_data_processed/CHATM2/CHATM2_prep2_raw_NtbNormalizedAdaptiveInvertedGammaJpeg/CHATM2_slide38_2018_01_22-S3_prep2_raw_NtbNormalizedAdaptiveInvertedGammaJpeg.jpg\n"
     ]
    },
    {
     "name": "stderr",
     "output_type": "stream",
     "text": [
      "Load background image: 2.38 seconds\n",
      "Rescale background image to output resolution: 0.32 seconds\n",
      "Predict scores 7N: 0.02 seconds\n",
      "Resample scoremap 7N: 0.09 seconds\n",
      "Load and rescale background image: 0.00 seconds\n",
      "Generate scoremap overlay: 0.05 seconds.\n",
      "Scoremap size does not match background image size. Need to resize: 0.07 seconds.\n",
      "Generate scoremap overlay image 7N: 0.15 seconds\n",
      "locate patches: 0.02 seconds\n"
     ]
    },
    {
     "name": "stdout",
     "output_type": "stream",
     "text": [
      "(597, 925, 3) (597, 925)\n",
      "7N 115\n"
     ]
    },
    {
     "name": "stderr",
     "output_type": "stream",
     "text": [
      "Load pre-computed features: 0.57 seconds\n",
      "Not using image_cache.\n"
     ]
    },
    {
     "name": "stdout",
     "output_type": "stream",
     "text": [
      "/data/CSHL_data_processed/CHATM2/CHATM2_prep2_raw_NtbNormalizedAdaptiveInvertedGammaJpeg/CHATM2_slide39_2018_01_22-S1_prep2_raw_NtbNormalizedAdaptiveInvertedGammaJpeg.jpg\n"
     ]
    },
    {
     "name": "stderr",
     "output_type": "stream",
     "text": [
      "Load background image: 2.35 seconds\n",
      "Rescale background image to output resolution: 0.32 seconds\n",
      "Predict scores 7N: 0.01 seconds\n",
      "Resample scoremap 7N: 0.09 seconds\n",
      "Load and rescale background image: 0.00 seconds\n",
      "Generate scoremap overlay: 0.05 seconds.\n",
      "Scoremap size does not match background image size. Need to resize: 0.08 seconds.\n",
      "Generate scoremap overlay image 7N: 0.15 seconds\n",
      "locate patches: 0.02 seconds\n"
     ]
    },
    {
     "name": "stdout",
     "output_type": "stream",
     "text": [
      "(597, 925, 3) (597, 925)\n",
      "7N 117\n"
     ]
    },
    {
     "name": "stderr",
     "output_type": "stream",
     "text": [
      "Load pre-computed features: 0.58 seconds\n",
      "Not using image_cache.\n"
     ]
    },
    {
     "name": "stdout",
     "output_type": "stream",
     "text": [
      "/data/CSHL_data_processed/CHATM2/CHATM2_prep2_raw_NtbNormalizedAdaptiveInvertedGammaJpeg/CHATM2_slide39_2018_01_22-S2_prep2_raw_NtbNormalizedAdaptiveInvertedGammaJpeg.jpg\n"
     ]
    },
    {
     "name": "stderr",
     "output_type": "stream",
     "text": [
      "Load background image: 2.39 seconds\n",
      "Rescale background image to output resolution: 0.32 seconds\n",
      "Predict scores 7N: 0.02 seconds\n",
      "Resample scoremap 7N: 0.09 seconds\n",
      "Load and rescale background image: 0.00 seconds\n",
      "Generate scoremap overlay: 0.05 seconds.\n",
      "Scoremap size does not match background image size. Need to resize: 0.07 seconds.\n",
      "Generate scoremap overlay image 7N: 0.15 seconds\n",
      "locate patches: 0.02 seconds\n"
     ]
    },
    {
     "name": "stdout",
     "output_type": "stream",
     "text": [
      "(597, 925, 3) (597, 925)\n",
      "7N 119\n"
     ]
    },
    {
     "name": "stderr",
     "output_type": "stream",
     "text": [
      "Load pre-computed features: 0.57 seconds\n",
      "Not using image_cache.\n"
     ]
    },
    {
     "name": "stdout",
     "output_type": "stream",
     "text": [
      "/data/CSHL_data_processed/CHATM2/CHATM2_prep2_raw_NtbNormalizedAdaptiveInvertedGammaJpeg/CHATM2_slide39_2018_01_22-S3_prep2_raw_NtbNormalizedAdaptiveInvertedGammaJpeg.jpg\n"
     ]
    },
    {
     "name": "stderr",
     "output_type": "stream",
     "text": [
      "Load background image: 2.44 seconds\n",
      "Rescale background image to output resolution: 0.32 seconds\n",
      "Predict scores 7N: 0.01 seconds\n",
      "Resample scoremap 7N: 0.09 seconds\n",
      "Load and rescale background image: 0.00 seconds\n",
      "Generate scoremap overlay: 0.05 seconds.\n",
      "Scoremap size does not match background image size. Need to resize: 0.07 seconds.\n",
      "Generate scoremap overlay image 7N: 0.15 seconds\n",
      "locate patches: 0.02 seconds\n"
     ]
    },
    {
     "name": "stdout",
     "output_type": "stream",
     "text": [
      "(597, 925, 3) (597, 925)\n",
      "7N 121\n"
     ]
    },
    {
     "name": "stderr",
     "output_type": "stream",
     "text": [
      "Load pre-computed features: 0.54 seconds\n",
      "Not using image_cache.\n"
     ]
    },
    {
     "name": "stdout",
     "output_type": "stream",
     "text": [
      "/data/CSHL_data_processed/CHATM2/CHATM2_prep2_raw_NtbNormalizedAdaptiveInvertedGammaJpeg/CHATM2_slide41_2018_01_22-S1_prep2_raw_NtbNormalizedAdaptiveInvertedGammaJpeg.jpg\n"
     ]
    },
    {
     "name": "stderr",
     "output_type": "stream",
     "text": [
      "Load background image: 2.60 seconds\n",
      "Rescale background image to output resolution: 0.32 seconds\n",
      "Predict scores 7N: 0.01 seconds\n",
      "Resample scoremap 7N: 0.09 seconds\n",
      "Load and rescale background image: 0.00 seconds\n",
      "Generate scoremap overlay: 0.05 seconds.\n",
      "Scoremap size does not match background image size. Need to resize: 0.07 seconds.\n",
      "Generate scoremap overlay image 7N: 0.15 seconds\n",
      "locate patches: 0.02 seconds\n"
     ]
    },
    {
     "name": "stdout",
     "output_type": "stream",
     "text": [
      "(597, 925, 3) (597, 925)\n",
      "7N 122\n"
     ]
    },
    {
     "name": "stderr",
     "output_type": "stream",
     "text": [
      "Load pre-computed features: 0.55 seconds\n",
      "Not using image_cache.\n"
     ]
    },
    {
     "name": "stdout",
     "output_type": "stream",
     "text": [
      "/data/CSHL_data_processed/CHATM2/CHATM2_prep2_raw_NtbNormalizedAdaptiveInvertedGammaJpeg/CHATM2_slide42_2018_01_22-S1_prep2_raw_NtbNormalizedAdaptiveInvertedGammaJpeg.jpg\n"
     ]
    },
    {
     "name": "stderr",
     "output_type": "stream",
     "text": [
      "Load background image: 2.64 seconds\n",
      "Rescale background image to output resolution: 0.32 seconds\n",
      "Predict scores 7N: 0.01 seconds\n",
      "Resample scoremap 7N: 0.09 seconds\n",
      "Load and rescale background image: 0.00 seconds\n",
      "Generate scoremap overlay: 0.05 seconds.\n",
      "Scoremap size does not match background image size. Need to resize: 0.08 seconds.\n",
      "Generate scoremap overlay image 7N: 0.15 seconds\n",
      "locate patches: 0.02 seconds\n"
     ]
    },
    {
     "name": "stdout",
     "output_type": "stream",
     "text": [
      "(597, 925, 3) (597, 925)\n",
      "7N 123\n"
     ]
    },
    {
     "name": "stderr",
     "output_type": "stream",
     "text": [
      "Load pre-computed features: 0.58 seconds\n",
      "Not using image_cache.\n"
     ]
    },
    {
     "name": "stdout",
     "output_type": "stream",
     "text": [
      "/data/CSHL_data_processed/CHATM2/CHATM2_prep2_raw_NtbNormalizedAdaptiveInvertedGammaJpeg/CHATM2_slide41_2018_01_22-S2_prep2_raw_NtbNormalizedAdaptiveInvertedGammaJpeg.jpg\n"
     ]
    },
    {
     "name": "stderr",
     "output_type": "stream",
     "text": [
      "Load background image: 2.43 seconds\n",
      "Rescale background image to output resolution: 0.32 seconds\n",
      "Predict scores 7N: 0.01 seconds\n",
      "Resample scoremap 7N: 0.09 seconds\n",
      "Load and rescale background image: 0.00 seconds\n",
      "Generate scoremap overlay: 0.05 seconds.\n",
      "Scoremap size does not match background image size. Need to resize: 0.08 seconds.\n",
      "Generate scoremap overlay image 7N: 0.15 seconds\n",
      "locate patches: 0.02 seconds\n"
     ]
    },
    {
     "name": "stdout",
     "output_type": "stream",
     "text": [
      "(597, 925, 3) (597, 925)\n",
      "7N 124\n"
     ]
    },
    {
     "name": "stderr",
     "output_type": "stream",
     "text": [
      "Load pre-computed features: 0.64 seconds\n",
      "Not using image_cache.\n"
     ]
    },
    {
     "name": "stdout",
     "output_type": "stream",
     "text": [
      "/data/CSHL_data_processed/CHATM2/CHATM2_prep2_raw_NtbNormalizedAdaptiveInvertedGammaJpeg/CHATM2_slide42_2018_01_22-S2_prep2_raw_NtbNormalizedAdaptiveInvertedGammaJpeg.jpg\n"
     ]
    },
    {
     "name": "stderr",
     "output_type": "stream",
     "text": [
      "Load background image: 2.47 seconds\n",
      "Rescale background image to output resolution: 0.32 seconds\n",
      "Predict scores 7N: 0.01 seconds\n",
      "Resample scoremap 7N: 0.09 seconds\n",
      "Load and rescale background image: 0.00 seconds\n",
      "Generate scoremap overlay: 0.05 seconds.\n",
      "Scoremap size does not match background image size. Need to resize: 0.07 seconds.\n",
      "Generate scoremap overlay image 7N: 0.15 seconds\n",
      "locate patches: 0.02 seconds\n"
     ]
    },
    {
     "name": "stdout",
     "output_type": "stream",
     "text": [
      "(597, 925, 3) (597, 925)\n",
      "7N 125\n"
     ]
    },
    {
     "name": "stderr",
     "output_type": "stream",
     "text": [
      "Load pre-computed features: 0.57 seconds\n",
      "Not using image_cache.\n"
     ]
    },
    {
     "name": "stdout",
     "output_type": "stream",
     "text": [
      "/data/CSHL_data_processed/CHATM2/CHATM2_prep2_raw_NtbNormalizedAdaptiveInvertedGammaJpeg/CHATM2_slide41_2018_01_22-S3_prep2_raw_NtbNormalizedAdaptiveInvertedGammaJpeg.jpg\n"
     ]
    },
    {
     "name": "stderr",
     "output_type": "stream",
     "text": [
      "Load background image: 2.47 seconds\n",
      "Rescale background image to output resolution: 0.32 seconds\n",
      "Predict scores 7N: 0.01 seconds\n",
      "Resample scoremap 7N: 0.09 seconds\n",
      "Load and rescale background image: 0.00 seconds\n",
      "Generate scoremap overlay: 0.05 seconds.\n",
      "Scoremap size does not match background image size. Need to resize: 0.07 seconds.\n",
      "Generate scoremap overlay image 7N: 0.15 seconds\n",
      "locate patches: 0.02 seconds\n"
     ]
    },
    {
     "name": "stdout",
     "output_type": "stream",
     "text": [
      "(597, 925, 3) (597, 925)\n",
      "7N 126\n"
     ]
    },
    {
     "name": "stderr",
     "output_type": "stream",
     "text": [
      "Load pre-computed features: 0.56 seconds\n",
      "Not using image_cache.\n"
     ]
    },
    {
     "name": "stdout",
     "output_type": "stream",
     "text": [
      "/data/CSHL_data_processed/CHATM2/CHATM2_prep2_raw_NtbNormalizedAdaptiveInvertedGammaJpeg/CHATM2_slide42_2018_01_22-S3_prep2_raw_NtbNormalizedAdaptiveInvertedGammaJpeg.jpg\n"
     ]
    },
    {
     "name": "stderr",
     "output_type": "stream",
     "text": [
      "Load background image: 2.49 seconds\n",
      "Rescale background image to output resolution: 0.32 seconds\n",
      "Predict scores 7N: 0.01 seconds\n",
      "Resample scoremap 7N: 0.09 seconds\n",
      "Load and rescale background image: 0.00 seconds\n",
      "Generate scoremap overlay: 0.05 seconds.\n",
      "Scoremap size does not match background image size. Need to resize: 0.08 seconds.\n",
      "Generate scoremap overlay image 7N: 0.15 seconds\n",
      "locate patches: 0.02 seconds\n"
     ]
    },
    {
     "name": "stdout",
     "output_type": "stream",
     "text": [
      "(597, 925, 3) (597, 925)\n",
      "7N 127\n"
     ]
    },
    {
     "name": "stderr",
     "output_type": "stream",
     "text": [
      "Load pre-computed features: 0.59 seconds\n",
      "Not using image_cache.\n"
     ]
    },
    {
     "name": "stdout",
     "output_type": "stream",
     "text": [
      "/data/CSHL_data_processed/CHATM2/CHATM2_prep2_raw_NtbNormalizedAdaptiveInvertedGammaJpeg/CHATM2_slide43_2018_01_22-S1_prep2_raw_NtbNormalizedAdaptiveInvertedGammaJpeg.jpg\n"
     ]
    },
    {
     "name": "stderr",
     "output_type": "stream",
     "text": [
      "Load background image: 2.51 seconds\n",
      "Rescale background image to output resolution: 0.32 seconds\n",
      "Predict scores 7N: 0.01 seconds\n",
      "Resample scoremap 7N: 0.06 seconds\n",
      "Load and rescale background image: 0.00 seconds\n",
      "Generate scoremap overlay: 0.05 seconds.\n",
      "Scoremap size does not match background image size. Need to resize: 0.07 seconds.\n"
     ]
    },
    {
     "name": "stdout",
     "output_type": "stream",
     "text": [
      "(597, 925, 3) (597, 925)\n",
      "7N 128\n"
     ]
    },
    {
     "name": "stderr",
     "output_type": "stream",
     "text": [
      "Generate scoremap overlay image 7N: 0.15 seconds\n",
      "locate patches: 0.02 seconds\n",
      "Load pre-computed features: 0.56 seconds\n",
      "Not using image_cache.\n"
     ]
    },
    {
     "name": "stdout",
     "output_type": "stream",
     "text": [
      "/data/CSHL_data_processed/CHATM2/CHATM2_prep2_raw_NtbNormalizedAdaptiveInvertedGammaJpeg/CHATM2_slide44_2018_01_22-S1_prep2_raw_NtbNormalizedAdaptiveInvertedGammaJpeg.jpg\n"
     ]
    },
    {
     "name": "stderr",
     "output_type": "stream",
     "text": [
      "Load background image: 2.47 seconds\n",
      "Rescale background image to output resolution: 0.32 seconds\n",
      "Predict scores 7N: 0.01 seconds\n",
      "Resample scoremap 7N: 0.09 seconds\n",
      "Load and rescale background image: 0.00 seconds\n",
      "Generate scoremap overlay: 0.05 seconds.\n",
      "Scoremap size does not match background image size. Need to resize: 0.07 seconds.\n",
      "Generate scoremap overlay image 7N: 0.15 seconds\n",
      "locate patches: 0.02 seconds\n"
     ]
    },
    {
     "name": "stdout",
     "output_type": "stream",
     "text": [
      "(597, 925, 3) (597, 925)\n",
      "7N 129\n"
     ]
    },
    {
     "name": "stderr",
     "output_type": "stream",
     "text": [
      "Load pre-computed features: 0.57 seconds\n",
      "Not using image_cache.\n"
     ]
    },
    {
     "name": "stdout",
     "output_type": "stream",
     "text": [
      "/data/CSHL_data_processed/CHATM2/CHATM2_prep2_raw_NtbNormalizedAdaptiveInvertedGammaJpeg/CHATM2_slide43_2018_01_22-S2_prep2_raw_NtbNormalizedAdaptiveInvertedGammaJpeg.jpg\n"
     ]
    },
    {
     "name": "stderr",
     "output_type": "stream",
     "text": [
      "Load background image: 2.44 seconds\n",
      "Rescale background image to output resolution: 0.32 seconds\n",
      "Predict scores 7N: 0.01 seconds\n",
      "Resample scoremap 7N: 0.09 seconds\n",
      "Load and rescale background image: 0.00 seconds\n",
      "Generate scoremap overlay: 0.05 seconds.\n",
      "Scoremap size does not match background image size. Need to resize: 0.08 seconds.\n",
      "Generate scoremap overlay image 7N: 0.15 seconds\n",
      "locate patches: 0.02 seconds\n"
     ]
    },
    {
     "name": "stdout",
     "output_type": "stream",
     "text": [
      "(597, 925, 3) (597, 925)\n",
      "7N 130\n"
     ]
    },
    {
     "name": "stderr",
     "output_type": "stream",
     "text": [
      "Load pre-computed features: 0.58 seconds\n",
      "Not using image_cache.\n"
     ]
    },
    {
     "name": "stdout",
     "output_type": "stream",
     "text": [
      "/data/CSHL_data_processed/CHATM2/CHATM2_prep2_raw_NtbNormalizedAdaptiveInvertedGammaJpeg/CHATM2_slide44_2018_01_22-S2_prep2_raw_NtbNormalizedAdaptiveInvertedGammaJpeg.jpg\n"
     ]
    },
    {
     "name": "stderr",
     "output_type": "stream",
     "text": [
      "Load background image: 2.48 seconds\n",
      "Rescale background image to output resolution: 0.32 seconds\n",
      "Predict scores 7N: 0.01 seconds\n",
      "Resample scoremap 7N: 0.09 seconds\n",
      "Load and rescale background image: 0.00 seconds\n",
      "Generate scoremap overlay: 0.05 seconds.\n",
      "Scoremap size does not match background image size. Need to resize: 0.07 seconds.\n",
      "Generate scoremap overlay image 7N: 0.15 seconds\n",
      "locate patches: 0.02 seconds\n"
     ]
    },
    {
     "name": "stdout",
     "output_type": "stream",
     "text": [
      "(597, 925, 3) (597, 925)\n",
      "7N 131\n"
     ]
    },
    {
     "name": "stderr",
     "output_type": "stream",
     "text": [
      "Load pre-computed features: 0.62 seconds\n",
      "Not using image_cache.\n"
     ]
    },
    {
     "name": "stdout",
     "output_type": "stream",
     "text": [
      "/data/CSHL_data_processed/CHATM2/CHATM2_prep2_raw_NtbNormalizedAdaptiveInvertedGammaJpeg/CHATM2_slide43_2018_01_22-S3_prep2_raw_NtbNormalizedAdaptiveInvertedGammaJpeg.jpg\n"
     ]
    },
    {
     "name": "stderr",
     "output_type": "stream",
     "text": [
      "Load background image: 2.53 seconds\n",
      "Rescale background image to output resolution: 0.32 seconds\n",
      "Predict scores 7N: 0.01 seconds\n",
      "Resample scoremap 7N: 0.09 seconds\n",
      "Load and rescale background image: 0.00 seconds\n",
      "Generate scoremap overlay: 0.05 seconds.\n",
      "Scoremap size does not match background image size. Need to resize: 0.07 seconds.\n",
      "Generate scoremap overlay image 7N: 0.15 seconds\n",
      "locate patches: 0.02 seconds\n"
     ]
    },
    {
     "name": "stdout",
     "output_type": "stream",
     "text": [
      "(597, 925, 3) (597, 925)\n",
      "7N 132\n"
     ]
    },
    {
     "name": "stderr",
     "output_type": "stream",
     "text": [
      "Load pre-computed features: 0.62 seconds\n",
      "Not using image_cache.\n"
     ]
    },
    {
     "name": "stdout",
     "output_type": "stream",
     "text": [
      "/data/CSHL_data_processed/CHATM2/CHATM2_prep2_raw_NtbNormalizedAdaptiveInvertedGammaJpeg/CHATM2_slide44_2018_01_22-S3_prep2_raw_NtbNormalizedAdaptiveInvertedGammaJpeg.jpg\n"
     ]
    },
    {
     "name": "stderr",
     "output_type": "stream",
     "text": [
      "Load background image: 2.56 seconds\n",
      "Rescale background image to output resolution: 0.32 seconds\n",
      "Predict scores 7N: 0.01 seconds\n",
      "Resample scoremap 7N: 0.09 seconds\n",
      "Load and rescale background image: 0.00 seconds\n",
      "Generate scoremap overlay: 0.05 seconds.\n",
      "Scoremap size does not match background image size. Need to resize: 0.08 seconds.\n",
      "Generate scoremap overlay image 7N: 0.15 seconds\n",
      "locate patches: 0.02 seconds\n"
     ]
    },
    {
     "name": "stdout",
     "output_type": "stream",
     "text": [
      "(597, 925, 3) (597, 925)\n",
      "7N 133\n"
     ]
    },
    {
     "name": "stderr",
     "output_type": "stream",
     "text": [
      "Load pre-computed features: 0.59 seconds\n",
      "Not using image_cache.\n"
     ]
    },
    {
     "name": "stdout",
     "output_type": "stream",
     "text": [
      "/data/CSHL_data_processed/CHATM2/CHATM2_prep2_raw_NtbNormalizedAdaptiveInvertedGammaJpeg/CHATM2_slide45_2018_01_22-S1_prep2_raw_NtbNormalizedAdaptiveInvertedGammaJpeg.jpg\n"
     ]
    },
    {
     "name": "stderr",
     "output_type": "stream",
     "text": [
      "Load background image: 2.59 seconds\n",
      "Rescale background image to output resolution: 0.33 seconds\n",
      "Predict scores 7N: 0.01 seconds\n",
      "Resample scoremap 7N: 0.06 seconds\n",
      "Load and rescale background image: 0.00 seconds\n",
      "Generate scoremap overlay: 0.05 seconds.\n",
      "Scoremap size does not match background image size. Need to resize: 0.07 seconds.\n"
     ]
    },
    {
     "name": "stdout",
     "output_type": "stream",
     "text": [
      "(597, 925, 3) (597, 925)\n",
      "7N 134\n"
     ]
    },
    {
     "name": "stderr",
     "output_type": "stream",
     "text": [
      "Generate scoremap overlay image 7N: 0.15 seconds\n",
      "locate patches: 0.02 seconds\n",
      "Load pre-computed features: 0.63 seconds\n",
      "Not using image_cache.\n"
     ]
    },
    {
     "name": "stdout",
     "output_type": "stream",
     "text": [
      "/data/CSHL_data_processed/CHATM2/CHATM2_prep2_raw_NtbNormalizedAdaptiveInvertedGammaJpeg/CHATM2_slide46_2018_01_22-S1_prep2_raw_NtbNormalizedAdaptiveInvertedGammaJpeg.jpg\n"
     ]
    },
    {
     "name": "stderr",
     "output_type": "stream",
     "text": [
      "Load background image: 2.49 seconds\n",
      "Rescale background image to output resolution: 0.32 seconds\n",
      "Predict scores 7N: 0.01 seconds\n",
      "Resample scoremap 7N: 0.09 seconds\n",
      "Load and rescale background image: 0.00 seconds\n",
      "Generate scoremap overlay: 0.05 seconds.\n",
      "Scoremap size does not match background image size. Need to resize: 0.08 seconds.\n",
      "Generate scoremap overlay image 7N: 0.16 seconds\n",
      "locate patches: 0.02 seconds\n"
     ]
    },
    {
     "name": "stdout",
     "output_type": "stream",
     "text": [
      "(597, 925, 3) (597, 925)\n",
      "7N 135\n"
     ]
    },
    {
     "name": "stderr",
     "output_type": "stream",
     "text": [
      "Load pre-computed features: 0.66 seconds\n",
      "Not using image_cache.\n"
     ]
    },
    {
     "name": "stdout",
     "output_type": "stream",
     "text": [
      "/data/CSHL_data_processed/CHATM2/CHATM2_prep2_raw_NtbNormalizedAdaptiveInvertedGammaJpeg/CHATM2_slide45_2018_01_22-S2_prep2_raw_NtbNormalizedAdaptiveInvertedGammaJpeg.jpg\n"
     ]
    },
    {
     "name": "stderr",
     "output_type": "stream",
     "text": [
      "Load background image: 2.53 seconds\n",
      "Rescale background image to output resolution: 0.32 seconds\n",
      "Predict scores 7N: 0.01 seconds\n",
      "Resample scoremap 7N: 0.10 seconds\n",
      "Load and rescale background image: 0.00 seconds\n",
      "Generate scoremap overlay: 0.05 seconds.\n",
      "Scoremap size does not match background image size. Need to resize: 0.09 seconds.\n",
      "Generate scoremap overlay image 7N: 0.17 seconds\n",
      "locate patches: 0.02 seconds\n"
     ]
    },
    {
     "name": "stdout",
     "output_type": "stream",
     "text": [
      "(597, 925, 3) (597, 925)\n",
      "7N 136\n"
     ]
    },
    {
     "name": "stderr",
     "output_type": "stream",
     "text": [
      "Load pre-computed features: 0.59 seconds\n",
      "Not using image_cache.\n"
     ]
    },
    {
     "name": "stdout",
     "output_type": "stream",
     "text": [
      "/data/CSHL_data_processed/CHATM2/CHATM2_prep2_raw_NtbNormalizedAdaptiveInvertedGammaJpeg/CHATM2_slide46_2018_01_22-S2_prep2_raw_NtbNormalizedAdaptiveInvertedGammaJpeg.jpg\n"
     ]
    },
    {
     "name": "stderr",
     "output_type": "stream",
     "text": [
      "Load background image: 2.50 seconds\n",
      "Rescale background image to output resolution: 0.32 seconds\n",
      "Predict scores 7N: 0.01 seconds\n",
      "Resample scoremap 7N: 0.09 seconds\n",
      "Load and rescale background image: 0.00 seconds\n",
      "Generate scoremap overlay: 0.05 seconds.\n",
      "Scoremap size does not match background image size. Need to resize: 0.08 seconds.\n",
      "Generate scoremap overlay image 7N: 0.15 seconds\n",
      "locate patches: 0.02 seconds\n"
     ]
    },
    {
     "name": "stdout",
     "output_type": "stream",
     "text": [
      "(597, 925, 3) (597, 925)\n",
      "7N 137\n"
     ]
    },
    {
     "name": "stderr",
     "output_type": "stream",
     "text": [
      "Load pre-computed features: 0.58 seconds\n",
      "Not using image_cache.\n"
     ]
    },
    {
     "name": "stdout",
     "output_type": "stream",
     "text": [
      "/data/CSHL_data_processed/CHATM2/CHATM2_prep2_raw_NtbNormalizedAdaptiveInvertedGammaJpeg/CHATM2_slide45_2018_01_22-S3_prep2_raw_NtbNormalizedAdaptiveInvertedGammaJpeg.jpg\n"
     ]
    },
    {
     "name": "stderr",
     "output_type": "stream",
     "text": [
      "Load background image: 2.55 seconds\n",
      "Rescale background image to output resolution: 0.32 seconds\n",
      "Predict scores 7N: 0.01 seconds\n",
      "Resample scoremap 7N: 0.06 seconds\n",
      "Load and rescale background image: 0.00 seconds\n",
      "Generate scoremap overlay: 0.05 seconds.\n",
      "Scoremap size does not match background image size. Need to resize: 0.07 seconds.\n"
     ]
    },
    {
     "name": "stdout",
     "output_type": "stream",
     "text": [
      "(597, 925, 3) (597, 925)\n",
      "7N 138\n"
     ]
    },
    {
     "name": "stderr",
     "output_type": "stream",
     "text": [
      "Generate scoremap overlay image 7N: 0.15 seconds\n",
      "locate patches: 0.02 seconds\n",
      "Load pre-computed features: 0.61 seconds\n",
      "Not using image_cache.\n"
     ]
    },
    {
     "name": "stdout",
     "output_type": "stream",
     "text": [
      "/data/CSHL_data_processed/CHATM2/CHATM2_prep2_raw_NtbNormalizedAdaptiveInvertedGammaJpeg/CHATM2_slide46_2018_01_22-S3_prep2_raw_NtbNormalizedAdaptiveInvertedGammaJpeg.jpg\n"
     ]
    },
    {
     "name": "stderr",
     "output_type": "stream",
     "text": [
      "Load background image: 2.50 seconds\n",
      "Rescale background image to output resolution: 0.35 seconds\n",
      "Predict scores 7N: 0.01 seconds\n",
      "Resample scoremap 7N: 0.06 seconds\n",
      "Load and rescale background image: 0.00 seconds\n",
      "Generate scoremap overlay: 0.05 seconds.\n",
      "Scoremap size does not match background image size. Need to resize: 0.07 seconds.\n"
     ]
    },
    {
     "name": "stdout",
     "output_type": "stream",
     "text": [
      "(597, 925, 3) (597, 925)\n",
      "7N 140\n"
     ]
    },
    {
     "name": "stderr",
     "output_type": "stream",
     "text": [
      "Generate scoremap overlay image 7N: 0.16 seconds\n",
      "locate patches: 0.02 seconds\n",
      "Load pre-computed features: 0.60 seconds\n",
      "Not using image_cache.\n"
     ]
    },
    {
     "name": "stdout",
     "output_type": "stream",
     "text": [
      "/data/CSHL_data_processed/CHATM2/CHATM2_prep2_raw_NtbNormalizedAdaptiveInvertedGammaJpeg/CHATM2_slide48_2018_01_22-S1_prep2_raw_NtbNormalizedAdaptiveInvertedGammaJpeg.jpg\n"
     ]
    },
    {
     "name": "stderr",
     "output_type": "stream",
     "text": [
      "Load background image: 2.80 seconds\n",
      "Rescale background image to output resolution: 0.32 seconds\n",
      "Predict scores 7N: 0.02 seconds\n",
      "Resample scoremap 7N: 0.09 seconds\n",
      "Load and rescale background image: 0.00 seconds\n",
      "Generate scoremap overlay: 0.05 seconds.\n",
      "Scoremap size does not match background image size. Need to resize: 0.08 seconds.\n",
      "Generate scoremap overlay image 7N: 0.15 seconds\n",
      "locate patches: 0.02 seconds\n"
     ]
    },
    {
     "name": "stdout",
     "output_type": "stream",
     "text": [
      "(597, 925, 3) (597, 925)\n",
      "7N 142\n"
     ]
    },
    {
     "name": "stderr",
     "output_type": "stream",
     "text": [
      "Load pre-computed features: 0.64 seconds\n",
      "Not using image_cache.\n"
     ]
    },
    {
     "name": "stdout",
     "output_type": "stream",
     "text": [
      "/data/CSHL_data_processed/CHATM2/CHATM2_prep2_raw_NtbNormalizedAdaptiveInvertedGammaJpeg/CHATM2_slide48_2018_01_22-S2_prep2_raw_NtbNormalizedAdaptiveInvertedGammaJpeg.jpg\n"
     ]
    },
    {
     "name": "stderr",
     "output_type": "stream",
     "text": [
      "Load background image: 2.51 seconds\n",
      "Rescale background image to output resolution: 0.32 seconds\n",
      "Predict scores 7N: 0.02 seconds\n",
      "Resample scoremap 7N: 0.09 seconds\n",
      "Load and rescale background image: 0.00 seconds\n",
      "Generate scoremap overlay: 0.05 seconds.\n",
      "Scoremap size does not match background image size. Need to resize: 0.08 seconds.\n",
      "Generate scoremap overlay image 7N: 0.15 seconds\n",
      "locate patches: 0.02 seconds\n"
     ]
    },
    {
     "name": "stdout",
     "output_type": "stream",
     "text": [
      "(597, 925, 3) (597, 925)\n",
      "7N 144\n"
     ]
    },
    {
     "name": "stderr",
     "output_type": "stream",
     "text": [
      "Load pre-computed features: 0.64 seconds\n",
      "Not using image_cache.\n"
     ]
    },
    {
     "name": "stdout",
     "output_type": "stream",
     "text": [
      "/data/CSHL_data_processed/CHATM2/CHATM2_prep2_raw_NtbNormalizedAdaptiveInvertedGammaJpeg/CHATM2_slide48_2018_01_22-S3_prep2_raw_NtbNormalizedAdaptiveInvertedGammaJpeg.jpg\n"
     ]
    },
    {
     "name": "stderr",
     "output_type": "stream",
     "text": [
      "Load background image: 2.57 seconds\n",
      "Rescale background image to output resolution: 0.32 seconds\n",
      "Predict scores 7N: 0.01 seconds\n",
      "Resample scoremap 7N: 0.09 seconds\n",
      "Load and rescale background image: 0.00 seconds\n",
      "Generate scoremap overlay: 0.05 seconds.\n",
      "Scoremap size does not match background image size. Need to resize: 0.08 seconds.\n",
      "Generate scoremap overlay image 7N: 0.16 seconds\n",
      "locate patches: 0.02 seconds\n"
     ]
    },
    {
     "name": "stdout",
     "output_type": "stream",
     "text": [
      "(597, 925, 3) (597, 925)\n",
      "7N 145\n"
     ]
    },
    {
     "name": "stderr",
     "output_type": "stream",
     "text": [
      "Load pre-computed features: 0.61 seconds\n",
      "Not using image_cache.\n"
     ]
    },
    {
     "name": "stdout",
     "output_type": "stream",
     "text": [
      "/data/CSHL_data_processed/CHATM2/CHATM2_prep2_raw_NtbNormalizedAdaptiveInvertedGammaJpeg/CHATM2_slide49_2018_01_22-S1_prep2_raw_NtbNormalizedAdaptiveInvertedGammaJpeg.jpg\n"
     ]
    },
    {
     "name": "stderr",
     "output_type": "stream",
     "text": [
      "Load background image: 2.65 seconds\n",
      "Rescale background image to output resolution: 0.32 seconds\n",
      "Predict scores 7N: 0.02 seconds\n",
      "Resample scoremap 7N: 0.09 seconds\n",
      "Load and rescale background image: 0.00 seconds\n",
      "Generate scoremap overlay: 0.06 seconds.\n",
      "Scoremap size does not match background image size. Need to resize: 0.07 seconds.\n",
      "Generate scoremap overlay image 7N: 0.16 seconds\n",
      "locate patches: 0.02 seconds\n"
     ]
    },
    {
     "name": "stdout",
     "output_type": "stream",
     "text": [
      "(597, 925, 3) (597, 925)\n",
      "7N 146\n"
     ]
    },
    {
     "name": "stderr",
     "output_type": "stream",
     "text": [
      "Load pre-computed features: 0.65 seconds\n",
      "Not using image_cache.\n"
     ]
    },
    {
     "name": "stdout",
     "output_type": "stream",
     "text": [
      "/data/CSHL_data_processed/CHATM2/CHATM2_prep2_raw_NtbNormalizedAdaptiveInvertedGammaJpeg/CHATM2_slide50_2018_01_22-S1_prep2_raw_NtbNormalizedAdaptiveInvertedGammaJpeg.jpg\n"
     ]
    },
    {
     "name": "stderr",
     "output_type": "stream",
     "text": [
      "Load background image: 2.59 seconds\n",
      "Rescale background image to output resolution: 0.32 seconds\n",
      "Predict scores 7N: 0.01 seconds\n",
      "Resample scoremap 7N: 0.09 seconds\n",
      "Load and rescale background image: 0.00 seconds\n",
      "Generate scoremap overlay: 0.05 seconds.\n",
      "Scoremap size does not match background image size. Need to resize: 0.08 seconds.\n",
      "Generate scoremap overlay image 7N: 0.15 seconds\n",
      "locate patches: 0.02 seconds\n"
     ]
    },
    {
     "name": "stdout",
     "output_type": "stream",
     "text": [
      "(597, 925, 3) (597, 925)\n",
      "7N 147\n"
     ]
    },
    {
     "name": "stderr",
     "output_type": "stream",
     "text": [
      "Load pre-computed features: 0.63 seconds\n",
      "Not using image_cache.\n"
     ]
    },
    {
     "name": "stdout",
     "output_type": "stream",
     "text": [
      "/data/CSHL_data_processed/CHATM2/CHATM2_prep2_raw_NtbNormalizedAdaptiveInvertedGammaJpeg/CHATM2_slide49_2018_01_22-S2_prep2_raw_NtbNormalizedAdaptiveInvertedGammaJpeg.jpg\n"
     ]
    },
    {
     "name": "stderr",
     "output_type": "stream",
     "text": [
      "Load background image: 2.61 seconds\n",
      "Rescale background image to output resolution: 0.34 seconds\n",
      "Predict scores 7N: 0.01 seconds\n",
      "Resample scoremap 7N: 0.09 seconds\n",
      "Load and rescale background image: 0.00 seconds\n",
      "Generate scoremap overlay: 0.05 seconds.\n",
      "Scoremap size does not match background image size. Need to resize: 0.08 seconds.\n",
      "Generate scoremap overlay image 7N: 0.15 seconds\n",
      "locate patches: 0.02 seconds\n"
     ]
    },
    {
     "name": "stdout",
     "output_type": "stream",
     "text": [
      "(597, 925, 3) (597, 925)\n",
      "7N 148\n"
     ]
    },
    {
     "name": "stderr",
     "output_type": "stream",
     "text": [
      "Load pre-computed features: 0.63 seconds\n",
      "Not using image_cache.\n"
     ]
    },
    {
     "name": "stdout",
     "output_type": "stream",
     "text": [
      "/data/CSHL_data_processed/CHATM2/CHATM2_prep2_raw_NtbNormalizedAdaptiveInvertedGammaJpeg/CHATM2_slide50_2018_01_22-S2_prep2_raw_NtbNormalizedAdaptiveInvertedGammaJpeg.jpg\n"
     ]
    },
    {
     "name": "stderr",
     "output_type": "stream",
     "text": [
      "Load background image: 2.58 seconds\n",
      "Rescale background image to output resolution: 0.32 seconds\n",
      "Predict scores 7N: 0.01 seconds\n",
      "Resample scoremap 7N: 0.09 seconds\n",
      "Load and rescale background image: 0.00 seconds\n",
      "Generate scoremap overlay: 0.05 seconds.\n",
      "Scoremap size does not match background image size. Need to resize: 0.07 seconds.\n",
      "Generate scoremap overlay image 7N: 0.15 seconds\n",
      "locate patches: 0.02 seconds\n"
     ]
    },
    {
     "name": "stdout",
     "output_type": "stream",
     "text": [
      "(597, 925, 3) (597, 925)\n",
      "7N 150\n"
     ]
    },
    {
     "name": "stderr",
     "output_type": "stream",
     "text": [
      "Load pre-computed features: 0.74 seconds\n",
      "Not using image_cache.\n"
     ]
    },
    {
     "name": "stdout",
     "output_type": "stream",
     "text": [
      "/data/CSHL_data_processed/CHATM2/CHATM2_prep2_raw_NtbNormalizedAdaptiveInvertedGammaJpeg/CHATM2_slide50_2018_01_22-S3_prep2_raw_NtbNormalizedAdaptiveInvertedGammaJpeg.jpg\n"
     ]
    },
    {
     "name": "stderr",
     "output_type": "stream",
     "text": [
      "Load background image: 2.59 seconds\n",
      "Rescale background image to output resolution: 0.32 seconds\n",
      "Predict scores 7N: 0.01 seconds\n",
      "Resample scoremap 7N: 0.09 seconds\n",
      "Load and rescale background image: 0.00 seconds\n",
      "Generate scoremap overlay: 0.05 seconds.\n",
      "Scoremap size does not match background image size. Need to resize: 0.08 seconds.\n",
      "Generate scoremap overlay image 7N: 0.17 seconds\n",
      "locate patches: 0.02 seconds\n"
     ]
    },
    {
     "name": "stdout",
     "output_type": "stream",
     "text": [
      "(597, 925, 3) (597, 925)\n",
      "7N 151\n"
     ]
    },
    {
     "name": "stderr",
     "output_type": "stream",
     "text": [
      "Load pre-computed features: 0.65 seconds\n",
      "Not using image_cache.\n"
     ]
    },
    {
     "name": "stdout",
     "output_type": "stream",
     "text": [
      "/data/CSHL_data_processed/CHATM2/CHATM2_prep2_raw_NtbNormalizedAdaptiveInvertedGammaJpeg/CHATM2_slide51_2018_01_22-S1_prep2_raw_NtbNormalizedAdaptiveInvertedGammaJpeg.jpg\n"
     ]
    },
    {
     "name": "stderr",
     "output_type": "stream",
     "text": [
      "Load background image: 2.51 seconds\n",
      "Rescale background image to output resolution: 0.32 seconds\n",
      "Predict scores 7N: 0.01 seconds\n",
      "Resample scoremap 7N: 0.09 seconds\n",
      "Load and rescale background image: 0.00 seconds\n",
      "Generate scoremap overlay: 0.05 seconds.\n",
      "Scoremap size does not match background image size. Need to resize: 0.08 seconds.\n",
      "Generate scoremap overlay image 7N: 0.15 seconds\n",
      "locate patches: 0.02 seconds\n"
     ]
    },
    {
     "name": "stdout",
     "output_type": "stream",
     "text": [
      "(597, 925, 3) (597, 925)\n",
      "7N 152\n"
     ]
    },
    {
     "name": "stderr",
     "output_type": "stream",
     "text": [
      "Load pre-computed features: 0.51 seconds\n",
      "Not using image_cache.\n"
     ]
    },
    {
     "name": "stdout",
     "output_type": "stream",
     "text": [
      "/data/CSHL_data_processed/CHATM2/CHATM2_prep2_raw_NtbNormalizedAdaptiveInvertedGammaJpeg/CHATM2_slide52_2018_01_22-S1_prep2_raw_NtbNormalizedAdaptiveInvertedGammaJpeg.jpg\n"
     ]
    },
    {
     "name": "stderr",
     "output_type": "stream",
     "text": [
      "Load background image: 2.17 seconds\n",
      "Rescale background image to output resolution: 0.32 seconds\n",
      "Predict scores 7N: 0.01 seconds\n",
      "Resample scoremap 7N: 0.09 seconds\n",
      "Load and rescale background image: 0.00 seconds\n",
      "Generate scoremap overlay: 0.05 seconds.\n",
      "Scoremap size does not match background image size. Need to resize: 0.08 seconds.\n",
      "Generate scoremap overlay image 7N: 0.15 seconds\n",
      "locate patches: 0.02 seconds\n"
     ]
    },
    {
     "name": "stdout",
     "output_type": "stream",
     "text": [
      "(597, 925, 3) (597, 925)\n",
      "7N 153\n"
     ]
    },
    {
     "name": "stderr",
     "output_type": "stream",
     "text": [
      "Load pre-computed features: 0.63 seconds\n",
      "Not using image_cache.\n"
     ]
    },
    {
     "name": "stdout",
     "output_type": "stream",
     "text": [
      "/data/CSHL_data_processed/CHATM2/CHATM2_prep2_raw_NtbNormalizedAdaptiveInvertedGammaJpeg/CHATM2_slide51_2018_01_22-S2_prep2_raw_NtbNormalizedAdaptiveInvertedGammaJpeg.jpg\n"
     ]
    },
    {
     "name": "stderr",
     "output_type": "stream",
     "text": [
      "Load background image: 2.57 seconds\n",
      "Rescale background image to output resolution: 0.32 seconds\n",
      "Predict scores 7N: 0.01 seconds\n",
      "Resample scoremap 7N: 0.09 seconds\n",
      "Load and rescale background image: 0.00 seconds\n",
      "Generate scoremap overlay: 0.05 seconds.\n",
      "Scoremap size does not match background image size. Need to resize: 0.07 seconds.\n",
      "Generate scoremap overlay image 7N: 0.16 seconds\n",
      "locate patches: 0.02 seconds\n"
     ]
    },
    {
     "name": "stdout",
     "output_type": "stream",
     "text": [
      "(597, 925, 3) (597, 925)\n",
      "7N 154\n"
     ]
    },
    {
     "name": "stderr",
     "output_type": "stream",
     "text": [
      "Load pre-computed features: 0.48 seconds\n",
      "Not using image_cache.\n"
     ]
    },
    {
     "name": "stdout",
     "output_type": "stream",
     "text": [
      "/data/CSHL_data_processed/CHATM2/CHATM2_prep2_raw_NtbNormalizedAdaptiveInvertedGammaJpeg/CHATM2_slide52_2018_01_22-S2_prep2_raw_NtbNormalizedAdaptiveInvertedGammaJpeg.jpg\n"
     ]
    },
    {
     "name": "stderr",
     "output_type": "stream",
     "text": [
      "Load background image: 2.21 seconds\n",
      "Rescale background image to output resolution: 0.32 seconds\n",
      "Predict scores 7N: 0.01 seconds\n",
      "Resample scoremap 7N: 0.09 seconds\n",
      "Load and rescale background image: 0.00 seconds\n",
      "Generate scoremap overlay: 0.05 seconds.\n",
      "Scoremap size does not match background image size. Need to resize: 0.09 seconds.\n",
      "Generate scoremap overlay image 7N: 0.17 seconds\n",
      "locate patches: 0.02 seconds\n"
     ]
    },
    {
     "name": "stdout",
     "output_type": "stream",
     "text": [
      "(597, 925, 3) (597, 925)\n",
      "7N 155\n"
     ]
    },
    {
     "name": "stderr",
     "output_type": "stream",
     "text": [
      "Load pre-computed features: 0.61 seconds\n",
      "Not using image_cache.\n"
     ]
    },
    {
     "name": "stdout",
     "output_type": "stream",
     "text": [
      "/data/CSHL_data_processed/CHATM2/CHATM2_prep2_raw_NtbNormalizedAdaptiveInvertedGammaJpeg/CHATM2_slide51_2018_01_22-S3_prep2_raw_NtbNormalizedAdaptiveInvertedGammaJpeg.jpg\n"
     ]
    },
    {
     "name": "stderr",
     "output_type": "stream",
     "text": [
      "Load background image: 2.68 seconds\n",
      "Rescale background image to output resolution: 0.32 seconds\n",
      "Predict scores 7N: 0.01 seconds\n",
      "Resample scoremap 7N: 0.09 seconds\n",
      "Load and rescale background image: 0.00 seconds\n",
      "Generate scoremap overlay: 0.05 seconds.\n",
      "Scoremap size does not match background image size. Need to resize: 0.08 seconds.\n",
      "Generate scoremap overlay image 7N: 0.16 seconds\n",
      "locate patches: 0.02 seconds\n"
     ]
    },
    {
     "name": "stdout",
     "output_type": "stream",
     "text": [
      "(597, 925, 3) (597, 925)\n",
      "7N 156\n"
     ]
    },
    {
     "name": "stderr",
     "output_type": "stream",
     "text": [
      "Load pre-computed features: 0.52 seconds\n",
      "Not using image_cache.\n"
     ]
    },
    {
     "name": "stdout",
     "output_type": "stream",
     "text": [
      "/data/CSHL_data_processed/CHATM2/CHATM2_prep2_raw_NtbNormalizedAdaptiveInvertedGammaJpeg/CHATM2_slide52_2018_01_22-S3_prep2_raw_NtbNormalizedAdaptiveInvertedGammaJpeg.jpg\n"
     ]
    },
    {
     "name": "stderr",
     "output_type": "stream",
     "text": [
      "Load background image: 2.23 seconds\n",
      "Rescale background image to output resolution: 0.32 seconds\n",
      "Predict scores 7N: 0.01 seconds\n",
      "Resample scoremap 7N: 0.09 seconds\n",
      "Load and rescale background image: 0.00 seconds\n",
      "Generate scoremap overlay: 0.05 seconds.\n",
      "Scoremap size does not match background image size. Need to resize: 0.08 seconds.\n",
      "Generate scoremap overlay image 7N: 0.17 seconds\n",
      "locate patches: 0.02 seconds\n"
     ]
    },
    {
     "name": "stdout",
     "output_type": "stream",
     "text": [
      "(597, 925, 3) (597, 925)\n",
      "7N 157\n"
     ]
    },
    {
     "name": "stderr",
     "output_type": "stream",
     "text": [
      "Load pre-computed features: 0.66 seconds\n",
      "Not using image_cache.\n"
     ]
    },
    {
     "name": "stdout",
     "output_type": "stream",
     "text": [
      "/data/CSHL_data_processed/CHATM2/CHATM2_prep2_raw_NtbNormalizedAdaptiveInvertedGammaJpeg/CHATM2_slide53_2018_01_22-S1_prep2_raw_NtbNormalizedAdaptiveInvertedGammaJpeg.jpg\n"
     ]
    },
    {
     "name": "stderr",
     "output_type": "stream",
     "text": [
      "Load background image: 2.51 seconds\n",
      "Rescale background image to output resolution: 0.32 seconds\n",
      "Predict scores 7N: 0.02 seconds\n",
      "Resample scoremap 7N: 0.09 seconds\n",
      "Load and rescale background image: 0.00 seconds\n",
      "Generate scoremap overlay: 0.05 seconds.\n",
      "Scoremap size does not match background image size. Need to resize: 0.09 seconds.\n",
      "Generate scoremap overlay image 7N: 0.18 seconds\n",
      "locate patches: 0.02 seconds\n"
     ]
    },
    {
     "name": "stdout",
     "output_type": "stream",
     "text": [
      "(597, 925, 3) (597, 925)\n",
      "7N 158\n"
     ]
    },
    {
     "name": "stderr",
     "output_type": "stream",
     "text": [
      "Load pre-computed features: 0.51 seconds\n",
      "Not using image_cache.\n"
     ]
    },
    {
     "name": "stdout",
     "output_type": "stream",
     "text": [
      "/data/CSHL_data_processed/CHATM2/CHATM2_prep2_raw_NtbNormalizedAdaptiveInvertedGammaJpeg/CHATM2_slide54_2018_01_22-S1_prep2_raw_NtbNormalizedAdaptiveInvertedGammaJpeg.jpg\n"
     ]
    },
    {
     "name": "stderr",
     "output_type": "stream",
     "text": [
      "Load background image: 2.27 seconds\n",
      "Rescale background image to output resolution: 0.32 seconds\n",
      "Predict scores 7N: 0.01 seconds\n",
      "Resample scoremap 7N: 0.09 seconds\n",
      "Load and rescale background image: 0.00 seconds\n",
      "Generate scoremap overlay: 0.05 seconds.\n",
      "Scoremap size does not match background image size. Need to resize: 0.07 seconds.\n",
      "Generate scoremap overlay image 7N: 0.16 seconds\n",
      "locate patches: 0.02 seconds\n"
     ]
    },
    {
     "name": "stdout",
     "output_type": "stream",
     "text": [
      "(597, 925, 3) (597, 925)\n",
      "7N 159\n"
     ]
    },
    {
     "name": "stderr",
     "output_type": "stream",
     "text": [
      "Load pre-computed features: 0.65 seconds\n",
      "Not using image_cache.\n"
     ]
    },
    {
     "name": "stdout",
     "output_type": "stream",
     "text": [
      "/data/CSHL_data_processed/CHATM2/CHATM2_prep2_raw_NtbNormalizedAdaptiveInvertedGammaJpeg/CHATM2_slide53_2018_01_22-S2_prep2_raw_NtbNormalizedAdaptiveInvertedGammaJpeg.jpg\n"
     ]
    },
    {
     "name": "stderr",
     "output_type": "stream",
     "text": [
      "Load background image: 2.56 seconds\n",
      "Rescale background image to output resolution: 0.37 seconds\n",
      "Predict scores 7N: 0.02 seconds\n",
      "Resample scoremap 7N: 0.09 seconds\n",
      "Load and rescale background image: 0.00 seconds\n",
      "Generate scoremap overlay: 0.05 seconds.\n",
      "Scoremap size does not match background image size. Need to resize: 0.08 seconds.\n",
      "Generate scoremap overlay image 7N: 0.15 seconds\n",
      "locate patches: 0.02 seconds\n"
     ]
    },
    {
     "name": "stdout",
     "output_type": "stream",
     "text": [
      "(597, 925, 3) (597, 925)\n",
      "7N 160\n"
     ]
    },
    {
     "name": "stderr",
     "output_type": "stream",
     "text": [
      "Load pre-computed features: 0.63 seconds\n",
      "Not using image_cache.\n"
     ]
    },
    {
     "name": "stdout",
     "output_type": "stream",
     "text": [
      "/data/CSHL_data_processed/CHATM2/CHATM2_prep2_raw_NtbNormalizedAdaptiveInvertedGammaJpeg/CHATM2_slide54_2018_01_22-S2_prep2_raw_NtbNormalizedAdaptiveInvertedGammaJpeg.jpg\n"
     ]
    },
    {
     "name": "stderr",
     "output_type": "stream",
     "text": [
      "Load background image: 2.54 seconds\n",
      "Rescale background image to output resolution: 0.32 seconds\n",
      "Predict scores 7N: 0.02 seconds\n",
      "Resample scoremap 7N: 0.06 seconds\n",
      "Load and rescale background image: 0.00 seconds\n",
      "Generate scoremap overlay: 0.06 seconds.\n",
      "Scoremap size does not match background image size. Need to resize: 0.08 seconds.\n",
      "Generate scoremap overlay image 7N: 0.17 seconds\n",
      "locate patches: 0.02 seconds\n"
     ]
    },
    {
     "name": "stdout",
     "output_type": "stream",
     "text": [
      "(597, 925, 3) (597, 925)\n",
      "7N 161\n"
     ]
    },
    {
     "name": "stderr",
     "output_type": "stream",
     "text": [
      "Load pre-computed features: 0.75 seconds\n",
      "Not using image_cache.\n"
     ]
    },
    {
     "name": "stdout",
     "output_type": "stream",
     "text": [
      "/data/CSHL_data_processed/CHATM2/CHATM2_prep2_raw_NtbNormalizedAdaptiveInvertedGammaJpeg/CHATM2_slide53_2018_01_22-S3_prep2_raw_NtbNormalizedAdaptiveInvertedGammaJpeg.jpg\n"
     ]
    },
    {
     "name": "stderr",
     "output_type": "stream",
     "text": [
      "Load background image: 2.68 seconds\n",
      "Rescale background image to output resolution: 0.32 seconds\n",
      "Predict scores 7N: 0.01 seconds\n",
      "Resample scoremap 7N: 0.06 seconds\n",
      "Load and rescale background image: 0.00 seconds\n",
      "Generate scoremap overlay: 0.05 seconds.\n",
      "Scoremap size does not match background image size. Need to resize: 0.07 seconds.\n"
     ]
    },
    {
     "name": "stdout",
     "output_type": "stream",
     "text": [
      "(597, 925, 3) (597, 925)\n",
      "7N 162\n"
     ]
    },
    {
     "name": "stderr",
     "output_type": "stream",
     "text": [
      "Generate scoremap overlay image 7N: 0.15 seconds\n",
      "locate patches: 0.02 seconds\n",
      "Load pre-computed features: 0.67 seconds\n",
      "Not using image_cache.\n"
     ]
    },
    {
     "name": "stdout",
     "output_type": "stream",
     "text": [
      "/data/CSHL_data_processed/CHATM2/CHATM2_prep2_raw_NtbNormalizedAdaptiveInvertedGammaJpeg/CHATM2_slide54_2018_01_22-S3_prep2_raw_NtbNormalizedAdaptiveInvertedGammaJpeg.jpg\n"
     ]
    },
    {
     "name": "stderr",
     "output_type": "stream",
     "text": [
      "Load background image: 2.59 seconds\n",
      "Rescale background image to output resolution: 0.32 seconds\n",
      "Predict scores 7N: 0.01 seconds\n",
      "Resample scoremap 7N: 0.10 seconds\n",
      "Load and rescale background image: 0.00 seconds\n",
      "Generate scoremap overlay: 0.06 seconds.\n",
      "Scoremap size does not match background image size. Need to resize: 0.07 seconds.\n",
      "Generate scoremap overlay image 7N: 0.16 seconds\n",
      "locate patches: 0.02 seconds\n"
     ]
    },
    {
     "name": "stdout",
     "output_type": "stream",
     "text": [
      "(597, 925, 3) (597, 925)\n",
      "7N 163\n"
     ]
    },
    {
     "name": "stderr",
     "output_type": "stream",
     "text": [
      "Load pre-computed features: 0.62 seconds\n",
      "Not using image_cache.\n"
     ]
    },
    {
     "name": "stdout",
     "output_type": "stream",
     "text": [
      "/data/CSHL_data_processed/CHATM2/CHATM2_prep2_raw_NtbNormalizedAdaptiveInvertedGammaJpeg/CHATM2_slide55_2018_01_22-S1_prep2_raw_NtbNormalizedAdaptiveInvertedGammaJpeg.jpg\n"
     ]
    },
    {
     "name": "stderr",
     "output_type": "stream",
     "text": [
      "Load background image: 2.58 seconds\n",
      "Rescale background image to output resolution: 0.32 seconds\n",
      "Predict scores 7N: 0.01 seconds\n",
      "Resample scoremap 7N: 0.06 seconds\n",
      "Load and rescale background image: 0.00 seconds\n",
      "Generate scoremap overlay: 0.05 seconds.\n",
      "Scoremap size does not match background image size. Need to resize: 0.07 seconds.\n"
     ]
    },
    {
     "name": "stdout",
     "output_type": "stream",
     "text": [
      "(597, 925, 3) (597, 925)\n",
      "7N 164\n"
     ]
    },
    {
     "name": "stderr",
     "output_type": "stream",
     "text": [
      "Generate scoremap overlay image 7N: 0.15 seconds\n",
      "locate patches: 0.02 seconds\n",
      "Load pre-computed features: 0.67 seconds\n",
      "Not using image_cache.\n"
     ]
    },
    {
     "name": "stdout",
     "output_type": "stream",
     "text": [
      "/data/CSHL_data_processed/CHATM2/CHATM2_prep2_raw_NtbNormalizedAdaptiveInvertedGammaJpeg/CHATM2_slide56_2018_01_22-S1_prep2_raw_NtbNormalizedAdaptiveInvertedGammaJpeg.jpg\n"
     ]
    },
    {
     "name": "stderr",
     "output_type": "stream",
     "text": [
      "Load background image: 2.56 seconds\n",
      "Rescale background image to output resolution: 0.31 seconds\n",
      "Predict scores 7N: 0.01 seconds\n",
      "Resample scoremap 7N: 0.06 seconds\n",
      "Load and rescale background image: 0.00 seconds\n",
      "Generate scoremap overlay: 0.05 seconds.\n",
      "Scoremap size does not match background image size. Need to resize: 0.07 seconds.\n"
     ]
    },
    {
     "name": "stdout",
     "output_type": "stream",
     "text": [
      "(597, 925, 3) (597, 925)\n",
      "7N 165\n"
     ]
    },
    {
     "name": "stderr",
     "output_type": "stream",
     "text": [
      "Generate scoremap overlay image 7N: 0.15 seconds\n",
      "locate patches: 0.02 seconds\n",
      "Load pre-computed features: 0.66 seconds\n",
      "Not using image_cache.\n"
     ]
    },
    {
     "name": "stdout",
     "output_type": "stream",
     "text": [
      "/data/CSHL_data_processed/CHATM2/CHATM2_prep2_raw_NtbNormalizedAdaptiveInvertedGammaJpeg/CHATM2_slide55_2018_01_22-S2_prep2_raw_NtbNormalizedAdaptiveInvertedGammaJpeg.jpg\n"
     ]
    },
    {
     "name": "stderr",
     "output_type": "stream",
     "text": [
      "Load background image: 2.62 seconds\n",
      "Rescale background image to output resolution: 0.32 seconds\n",
      "Predict scores 7N: 0.02 seconds\n",
      "Resample scoremap 7N: 0.06 seconds\n",
      "Load and rescale background image: 0.00 seconds\n",
      "Generate scoremap overlay: 0.06 seconds.\n",
      "Scoremap size does not match background image size. Need to resize: 0.07 seconds.\n"
     ]
    },
    {
     "name": "stdout",
     "output_type": "stream",
     "text": [
      "(597, 925, 3) (597, 925)\n",
      "7N 166\n"
     ]
    },
    {
     "name": "stderr",
     "output_type": "stream",
     "text": [
      "Generate scoremap overlay image 7N: 0.17 seconds\n",
      "locate patches: 0.02 seconds\n",
      "Load pre-computed features: 0.62 seconds\n",
      "Not using image_cache.\n"
     ]
    },
    {
     "name": "stdout",
     "output_type": "stream",
     "text": [
      "/data/CSHL_data_processed/CHATM2/CHATM2_prep2_raw_NtbNormalizedAdaptiveInvertedGammaJpeg/CHATM2_slide56_2018_01_22-S2_prep2_raw_NtbNormalizedAdaptiveInvertedGammaJpeg.jpg\n"
     ]
    },
    {
     "name": "stderr",
     "output_type": "stream",
     "text": [
      "Load background image: 2.51 seconds\n",
      "Rescale background image to output resolution: 0.32 seconds\n",
      "Predict scores 7N: 0.02 seconds\n",
      "Resample scoremap 7N: 0.09 seconds\n",
      "Load and rescale background image: 0.00 seconds\n",
      "Generate scoremap overlay: 0.05 seconds.\n",
      "Scoremap size does not match background image size. Need to resize: 0.08 seconds.\n",
      "Generate scoremap overlay image 7N: 0.15 seconds\n",
      "locate patches: 0.02 seconds\n"
     ]
    },
    {
     "name": "stdout",
     "output_type": "stream",
     "text": [
      "(597, 925, 3) (597, 925)\n",
      "7N 167\n"
     ]
    },
    {
     "name": "stderr",
     "output_type": "stream",
     "text": [
      "Load pre-computed features: 0.68 seconds\n",
      "Not using image_cache.\n"
     ]
    },
    {
     "name": "stdout",
     "output_type": "stream",
     "text": [
      "/data/CSHL_data_processed/CHATM2/CHATM2_prep2_raw_NtbNormalizedAdaptiveInvertedGammaJpeg/CHATM2_slide55_2018_01_22-S3_prep2_raw_NtbNormalizedAdaptiveInvertedGammaJpeg.jpg\n"
     ]
    },
    {
     "name": "stderr",
     "output_type": "stream",
     "text": [
      "Load background image: 2.67 seconds\n",
      "Rescale background image to output resolution: 0.32 seconds\n",
      "Predict scores 7N: 0.02 seconds\n",
      "Resample scoremap 7N: 0.09 seconds\n",
      "Load and rescale background image: 0.00 seconds\n",
      "Generate scoremap overlay: 0.05 seconds.\n",
      "Scoremap size does not match background image size. Need to resize: 0.09 seconds.\n",
      "Generate scoremap overlay image 7N: 0.17 seconds\n",
      "locate patches: 0.02 seconds\n"
     ]
    },
    {
     "name": "stdout",
     "output_type": "stream",
     "text": [
      "(597, 925, 3) (597, 925)\n",
      "7N 168\n"
     ]
    },
    {
     "name": "stderr",
     "output_type": "stream",
     "text": [
      "Load pre-computed features: 0.57 seconds\n",
      "Not using image_cache.\n"
     ]
    },
    {
     "name": "stdout",
     "output_type": "stream",
     "text": [
      "/data/CSHL_data_processed/CHATM2/CHATM2_prep2_raw_NtbNormalizedAdaptiveInvertedGammaJpeg/CHATM2_slide56_2018_01_22-S3_prep2_raw_NtbNormalizedAdaptiveInvertedGammaJpeg.jpg\n"
     ]
    },
    {
     "name": "stderr",
     "output_type": "stream",
     "text": [
      "Load background image: 2.56 seconds\n",
      "Rescale background image to output resolution: 0.32 seconds\n",
      "Predict scores 7N: 0.01 seconds\n",
      "Resample scoremap 7N: 0.09 seconds\n",
      "Load and rescale background image: 0.00 seconds\n",
      "Generate scoremap overlay: 0.05 seconds.\n",
      "Scoremap size does not match background image size. Need to resize: 0.08 seconds.\n",
      "Generate scoremap overlay image 7N: 0.15 seconds\n",
      "locate patches: 0.02 seconds\n"
     ]
    },
    {
     "name": "stdout",
     "output_type": "stream",
     "text": [
      "(597, 925, 3) (597, 925)\n",
      "7N 169\n"
     ]
    },
    {
     "name": "stderr",
     "output_type": "stream",
     "text": [
      "Load pre-computed features: 0.65 seconds\n",
      "Not using image_cache.\n"
     ]
    },
    {
     "name": "stdout",
     "output_type": "stream",
     "text": [
      "/data/CSHL_data_processed/CHATM2/CHATM2_prep2_raw_NtbNormalizedAdaptiveInvertedGammaJpeg/CHATM2_slide57_2018_01_22-S1_prep2_raw_NtbNormalizedAdaptiveInvertedGammaJpeg.jpg\n"
     ]
    },
    {
     "name": "stderr",
     "output_type": "stream",
     "text": [
      "Load background image: 2.56 seconds\n",
      "Rescale background image to output resolution: 0.32 seconds\n",
      "Predict scores 7N: 0.01 seconds\n",
      "Resample scoremap 7N: 0.09 seconds\n",
      "Load and rescale background image: 0.00 seconds\n",
      "Generate scoremap overlay: 0.05 seconds.\n",
      "Scoremap size does not match background image size. Need to resize: 0.08 seconds.\n",
      "Generate scoremap overlay image 7N: 0.15 seconds\n",
      "locate patches: 0.02 seconds\n"
     ]
    },
    {
     "name": "stdout",
     "output_type": "stream",
     "text": [
      "(597, 925, 3) (597, 925)\n",
      "7N 170\n"
     ]
    },
    {
     "name": "stderr",
     "output_type": "stream",
     "text": [
      "Load pre-computed features: 0.66 seconds\n",
      "Not using image_cache.\n"
     ]
    },
    {
     "name": "stdout",
     "output_type": "stream",
     "text": [
      "/data/CSHL_data_processed/CHATM2/CHATM2_prep2_raw_NtbNormalizedAdaptiveInvertedGammaJpeg/CHATM2_slide58_2018_01_22-S1_prep2_raw_NtbNormalizedAdaptiveInvertedGammaJpeg.jpg\n"
     ]
    },
    {
     "name": "stderr",
     "output_type": "stream",
     "text": [
      "Load background image: 2.54 seconds\n",
      "Rescale background image to output resolution: 0.32 seconds\n",
      "Predict scores 7N: 0.02 seconds\n",
      "Resample scoremap 7N: 0.09 seconds\n",
      "Load and rescale background image: 0.00 seconds\n",
      "Generate scoremap overlay: 0.05 seconds.\n",
      "Scoremap size does not match background image size. Need to resize: 0.07 seconds.\n",
      "Generate scoremap overlay image 7N: 0.15 seconds\n",
      "locate patches: 0.02 seconds\n"
     ]
    },
    {
     "name": "stdout",
     "output_type": "stream",
     "text": [
      "(597, 925, 3) (597, 925)\n",
      "7N 189\n"
     ]
    },
    {
     "name": "stderr",
     "output_type": "stream",
     "text": [
      "Load pre-computed features: 0.70 seconds\n",
      "Not using image_cache.\n"
     ]
    },
    {
     "name": "stdout",
     "output_type": "stream",
     "text": [
      "/data/CSHL_data_processed/CHATM2/CHATM2_prep2_raw_NtbNormalizedAdaptiveInvertedGammaJpeg/CHATM2_slide62_2018_02_14-S3_prep2_raw_NtbNormalizedAdaptiveInvertedGammaJpeg.jpg\n"
     ]
    },
    {
     "name": "stderr",
     "output_type": "stream",
     "text": [
      "Load background image: 2.39 seconds\n",
      "Rescale background image to output resolution: 0.35 seconds\n",
      "Predict scores 7N: 0.02 seconds\n",
      "Resample scoremap 7N: 0.09 seconds\n",
      "Load and rescale background image: 0.00 seconds\n",
      "Generate scoremap overlay: 0.06 seconds.\n",
      "Scoremap size does not match background image size. Need to resize: 0.09 seconds.\n",
      "Generate scoremap overlay image 7N: 0.18 seconds\n",
      "locate patches: 0.02 seconds\n"
     ]
    },
    {
     "name": "stdout",
     "output_type": "stream",
     "text": [
      "(597, 925, 3) (597, 925)\n",
      "7N 191\n"
     ]
    },
    {
     "name": "stderr",
     "output_type": "stream",
     "text": [
      "Load pre-computed features: 0.76 seconds\n",
      "Not using image_cache.\n"
     ]
    },
    {
     "name": "stdout",
     "output_type": "stream",
     "text": [
      "/data/CSHL_data_processed/CHATM2/CHATM2_prep2_raw_NtbNormalizedAdaptiveInvertedGammaJpeg/CHATM2_slide64_2018_02_15-S1_prep2_raw_NtbNormalizedAdaptiveInvertedGammaJpeg.jpg\n"
     ]
    },
    {
     "name": "stderr",
     "output_type": "stream",
     "text": [
      "Load background image: 2.42 seconds\n",
      "Rescale background image to output resolution: 0.32 seconds\n",
      "Predict scores 7N: 0.02 seconds\n",
      "Resample scoremap 7N: 0.09 seconds\n",
      "Load and rescale background image: 0.00 seconds\n",
      "Generate scoremap overlay: 0.06 seconds.\n",
      "Scoremap size does not match background image size. Need to resize: 0.08 seconds.\n",
      "Generate scoremap overlay image 7N: 0.18 seconds\n",
      "locate patches: 0.02 seconds\n"
     ]
    },
    {
     "name": "stdout",
     "output_type": "stream",
     "text": [
      "(597, 925, 3) (597, 925)\n",
      "7N 193\n"
     ]
    },
    {
     "name": "stderr",
     "output_type": "stream",
     "text": [
      "Load pre-computed features: 0.69 seconds\n",
      "Not using image_cache.\n"
     ]
    },
    {
     "name": "stdout",
     "output_type": "stream",
     "text": [
      "/data/CSHL_data_processed/CHATM2/CHATM2_prep2_raw_NtbNormalizedAdaptiveInvertedGammaJpeg/CHATM2_slide64_2018_02_15-S2_prep2_raw_NtbNormalizedAdaptiveInvertedGammaJpeg.jpg\n"
     ]
    },
    {
     "name": "stderr",
     "output_type": "stream",
     "text": [
      "Load background image: 2.45 seconds\n",
      "Rescale background image to output resolution: 0.32 seconds\n",
      "Predict scores 7N: 0.01 seconds\n",
      "Resample scoremap 7N: 0.06 seconds\n",
      "Load and rescale background image: 0.00 seconds\n",
      "Generate scoremap overlay: 0.05 seconds.\n",
      "Scoremap size does not match background image size. Need to resize: 0.08 seconds.\n"
     ]
    },
    {
     "name": "stdout",
     "output_type": "stream",
     "text": [
      "(597, 925, 3) (597, 925)\n",
      "7N 195\n"
     ]
    },
    {
     "name": "stderr",
     "output_type": "stream",
     "text": [
      "Generate scoremap overlay image 7N: 0.16 seconds\n",
      "locate patches: 0.02 seconds\n",
      "Load pre-computed features: 0.64 seconds\n",
      "Not using image_cache.\n"
     ]
    },
    {
     "name": "stdout",
     "output_type": "stream",
     "text": [
      "/data/CSHL_data_processed/CHATM2/CHATM2_prep2_raw_NtbNormalizedAdaptiveInvertedGammaJpeg/CHATM2_slide64_2018_02_15-S3_prep2_raw_NtbNormalizedAdaptiveInvertedGammaJpeg.jpg\n"
     ]
    },
    {
     "name": "stderr",
     "output_type": "stream",
     "text": [
      "Load background image: 2.45 seconds\n",
      "Rescale background image to output resolution: 0.32 seconds\n",
      "Predict scores 7N: 0.01 seconds\n",
      "Resample scoremap 7N: 0.09 seconds\n",
      "Load and rescale background image: 0.00 seconds\n",
      "Generate scoremap overlay: 0.05 seconds.\n",
      "Scoremap size does not match background image size. Need to resize: 0.08 seconds.\n",
      "Generate scoremap overlay image 7N: 0.16 seconds\n",
      "locate patches: 0.02 seconds\n"
     ]
    },
    {
     "name": "stdout",
     "output_type": "stream",
     "text": [
      "(597, 925, 3) (597, 925)\n",
      "7N 197\n"
     ]
    },
    {
     "name": "stderr",
     "output_type": "stream",
     "text": [
      "Load pre-computed features: 0.66 seconds\n",
      "Not using image_cache.\n"
     ]
    },
    {
     "name": "stdout",
     "output_type": "stream",
     "text": [
      "/data/CSHL_data_processed/CHATM2/CHATM2_prep2_raw_NtbNormalizedAdaptiveInvertedGammaJpeg/CHATM2_slide66_2018_02_14-S1_prep2_raw_NtbNormalizedAdaptiveInvertedGammaJpeg.jpg\n"
     ]
    },
    {
     "name": "stderr",
     "output_type": "stream",
     "text": [
      "Load background image: 2.51 seconds\n",
      "Rescale background image to output resolution: 0.32 seconds\n",
      "Predict scores 7N: 0.01 seconds\n",
      "Resample scoremap 7N: 0.09 seconds\n",
      "Load and rescale background image: 0.00 seconds\n",
      "Generate scoremap overlay: 0.05 seconds.\n",
      "Scoremap size does not match background image size. Need to resize: 0.08 seconds.\n",
      "Generate scoremap overlay image 7N: 0.15 seconds\n",
      "locate patches: 0.02 seconds\n"
     ]
    },
    {
     "name": "stdout",
     "output_type": "stream",
     "text": [
      "(597, 925, 3) (597, 925)\n",
      "7N 199\n"
     ]
    },
    {
     "name": "stderr",
     "output_type": "stream",
     "text": [
      "Load pre-computed features: 0.71 seconds\n",
      "Not using image_cache.\n"
     ]
    },
    {
     "name": "stdout",
     "output_type": "stream",
     "text": [
      "/data/CSHL_data_processed/CHATM2/CHATM2_prep2_raw_NtbNormalizedAdaptiveInvertedGammaJpeg/CHATM2_slide66_2018_02_14-S2_prep2_raw_NtbNormalizedAdaptiveInvertedGammaJpeg.jpg\n"
     ]
    },
    {
     "name": "stderr",
     "output_type": "stream",
     "text": [
      "Load background image: 2.52 seconds\n",
      "Rescale background image to output resolution: 0.32 seconds\n",
      "Predict scores 7N: 0.01 seconds\n",
      "Resample scoremap 7N: 0.09 seconds\n",
      "Load and rescale background image: 0.00 seconds\n",
      "Generate scoremap overlay: 0.05 seconds.\n",
      "Scoremap size does not match background image size. Need to resize: 0.08 seconds.\n",
      "Generate scoremap overlay image 7N: 0.15 seconds\n",
      "locate patches: 0.02 seconds\n"
     ]
    },
    {
     "name": "stdout",
     "output_type": "stream",
     "text": [
      "(597, 925, 3) (597, 925)\n",
      "7N 201\n"
     ]
    },
    {
     "name": "stderr",
     "output_type": "stream",
     "text": [
      "Load pre-computed features: 0.69 seconds\n",
      "Not using image_cache.\n"
     ]
    },
    {
     "name": "stdout",
     "output_type": "stream",
     "text": [
      "/data/CSHL_data_processed/CHATM2/CHATM2_prep2_raw_NtbNormalizedAdaptiveInvertedGammaJpeg/CHATM2_slide66_2018_02_14-S3_prep2_raw_NtbNormalizedAdaptiveInvertedGammaJpeg.jpg\n"
     ]
    },
    {
     "name": "stderr",
     "output_type": "stream",
     "text": [
      "Load background image: 2.45 seconds\n",
      "Rescale background image to output resolution: 0.32 seconds\n",
      "Predict scores 7N: 0.01 seconds\n",
      "Resample scoremap 7N: 0.09 seconds\n",
      "Load and rescale background image: 0.00 seconds\n",
      "Generate scoremap overlay: 0.05 seconds.\n",
      "Scoremap size does not match background image size. Need to resize: 0.08 seconds.\n",
      "Generate scoremap overlay image 7N: 0.15 seconds\n",
      "locate patches: 0.02 seconds\n"
     ]
    },
    {
     "name": "stdout",
     "output_type": "stream",
     "text": [
      "(597, 925, 3) (597, 925)\n",
      "7N 203\n"
     ]
    },
    {
     "name": "stderr",
     "output_type": "stream",
     "text": [
      "Load pre-computed features: 0.59 seconds\n",
      "Not using image_cache.\n"
     ]
    },
    {
     "name": "stdout",
     "output_type": "stream",
     "text": [
      "/data/CSHL_data_processed/CHATM2/CHATM2_prep2_raw_NtbNormalizedAdaptiveInvertedGammaJpeg/CHATM2_slide68_2018_02_14-S1_prep2_raw_NtbNormalizedAdaptiveInvertedGammaJpeg.jpg\n"
     ]
    },
    {
     "name": "stderr",
     "output_type": "stream",
     "text": [
      "Load background image: 2.45 seconds\n",
      "Rescale background image to output resolution: 0.32 seconds\n",
      "Predict scores 7N: 0.01 seconds\n",
      "Resample scoremap 7N: 0.09 seconds\n",
      "Load and rescale background image: 0.00 seconds\n",
      "Generate scoremap overlay: 0.05 seconds.\n",
      "Scoremap size does not match background image size. Need to resize: 0.08 seconds.\n",
      "Generate scoremap overlay image 7N: 0.15 seconds\n",
      "locate patches: 0.02 seconds\n"
     ]
    },
    {
     "name": "stdout",
     "output_type": "stream",
     "text": [
      "(597, 925, 3) (597, 925)\n",
      "7N 205\n"
     ]
    },
    {
     "name": "stderr",
     "output_type": "stream",
     "text": [
      "Load pre-computed features: 0.68 seconds\n",
      "Not using image_cache.\n"
     ]
    },
    {
     "name": "stdout",
     "output_type": "stream",
     "text": [
      "/data/CSHL_data_processed/CHATM2/CHATM2_prep2_raw_NtbNormalizedAdaptiveInvertedGammaJpeg/CHATM2_slide68_2018_02_14-S2_prep2_raw_NtbNormalizedAdaptiveInvertedGammaJpeg.jpg\n"
     ]
    },
    {
     "name": "stderr",
     "output_type": "stream",
     "text": [
      "Load background image: 2.48 seconds\n",
      "Rescale background image to output resolution: 0.37 seconds\n",
      "Predict scores 7N: 0.01 seconds\n",
      "Resample scoremap 7N: 0.09 seconds\n",
      "Load and rescale background image: 0.00 seconds\n",
      "Generate scoremap overlay: 0.05 seconds.\n",
      "Scoremap size does not match background image size. Need to resize: 0.08 seconds.\n",
      "Generate scoremap overlay image 7N: 0.16 seconds\n",
      "locate patches: 0.02 seconds\n"
     ]
    },
    {
     "name": "stdout",
     "output_type": "stream",
     "text": [
      "(597, 925, 3) (597, 925)\n",
      "7N 209\n"
     ]
    },
    {
     "name": "stderr",
     "output_type": "stream",
     "text": [
      "Load pre-computed features: 0.67 seconds\n",
      "Not using image_cache.\n"
     ]
    },
    {
     "name": "stdout",
     "output_type": "stream",
     "text": [
      "/data/CSHL_data_processed/CHATM2/CHATM2_prep2_raw_NtbNormalizedAdaptiveInvertedGammaJpeg/CHATM2_slide70_2018_02_14-S1_prep2_raw_NtbNormalizedAdaptiveInvertedGammaJpeg.jpg\n"
     ]
    },
    {
     "name": "stderr",
     "output_type": "stream",
     "text": [
      "Load background image: 2.47 seconds\n",
      "Rescale background image to output resolution: 0.33 seconds\n",
      "Predict scores 7N: 0.01 seconds\n",
      "Resample scoremap 7N: 0.09 seconds\n",
      "Load and rescale background image: 0.00 seconds\n",
      "Generate scoremap overlay: 0.05 seconds.\n",
      "Scoremap size does not match background image size. Need to resize: 0.08 seconds.\n",
      "Generate scoremap overlay image 7N: 0.16 seconds\n",
      "locate patches: 0.02 seconds\n"
     ]
    },
    {
     "name": "stdout",
     "output_type": "stream",
     "text": [
      "(597, 925, 3) (597, 925)\n",
      "7N 211\n"
     ]
    },
    {
     "name": "stderr",
     "output_type": "stream",
     "text": [
      "Load pre-computed features: 0.68 seconds\n",
      "Not using image_cache.\n"
     ]
    },
    {
     "name": "stdout",
     "output_type": "stream",
     "text": [
      "/data/CSHL_data_processed/CHATM2/CHATM2_prep2_raw_NtbNormalizedAdaptiveInvertedGammaJpeg/CHATM2_slide70_2018_02_14-S2_prep2_raw_NtbNormalizedAdaptiveInvertedGammaJpeg.jpg\n"
     ]
    },
    {
     "name": "stderr",
     "output_type": "stream",
     "text": [
      "Load background image: 2.45 seconds\n",
      "Rescale background image to output resolution: 0.32 seconds\n",
      "Predict scores 7N: 0.01 seconds\n",
      "Resample scoremap 7N: 0.09 seconds\n",
      "Load and rescale background image: 0.00 seconds\n",
      "Generate scoremap overlay: 0.05 seconds.\n",
      "Scoremap size does not match background image size. Need to resize: 0.08 seconds.\n",
      "Generate scoremap overlay image 7N: 0.15 seconds\n",
      "locate patches: 0.02 seconds\n"
     ]
    },
    {
     "name": "stdout",
     "output_type": "stream",
     "text": [
      "(597, 925, 3) (597, 925)\n",
      "7N 213\n"
     ]
    },
    {
     "name": "stderr",
     "output_type": "stream",
     "text": [
      "Load pre-computed features: 0.65 seconds\n",
      "Not using image_cache.\n"
     ]
    },
    {
     "name": "stdout",
     "output_type": "stream",
     "text": [
      "/data/CSHL_data_processed/CHATM2/CHATM2_prep2_raw_NtbNormalizedAdaptiveInvertedGammaJpeg/CHATM2_slide70_2018_02_14-S3_prep2_raw_NtbNormalizedAdaptiveInvertedGammaJpeg.jpg\n"
     ]
    },
    {
     "name": "stderr",
     "output_type": "stream",
     "text": [
      "Load background image: 2.50 seconds\n",
      "Rescale background image to output resolution: 0.32 seconds\n",
      "Predict scores 7N: 0.01 seconds\n",
      "Resample scoremap 7N: 0.09 seconds\n",
      "Load and rescale background image: 0.00 seconds\n",
      "Generate scoremap overlay: 0.05 seconds.\n",
      "Scoremap size does not match background image size. Need to resize: 0.08 seconds.\n",
      "Generate scoremap overlay image 7N: 0.16 seconds\n",
      "locate patches: 0.02 seconds\n"
     ]
    },
    {
     "name": "stdout",
     "output_type": "stream",
     "text": [
      "(597, 925, 3) (597, 925)\n",
      "7N 215\n"
     ]
    },
    {
     "name": "stderr",
     "output_type": "stream",
     "text": [
      "Load pre-computed features: 0.71 seconds\n",
      "Not using image_cache.\n"
     ]
    },
    {
     "name": "stdout",
     "output_type": "stream",
     "text": [
      "/data/CSHL_data_processed/CHATM2/CHATM2_prep2_raw_NtbNormalizedAdaptiveInvertedGammaJpeg/CHATM2_slide72_2018_02_14-S1_prep2_raw_NtbNormalizedAdaptiveInvertedGammaJpeg.jpg\n"
     ]
    },
    {
     "name": "stderr",
     "output_type": "stream",
     "text": [
      "Load background image: 2.47 seconds\n",
      "Rescale background image to output resolution: 0.32 seconds\n",
      "Predict scores 7N: 0.01 seconds\n",
      "Resample scoremap 7N: 0.09 seconds\n",
      "Load and rescale background image: 0.00 seconds\n",
      "Generate scoremap overlay: 0.05 seconds.\n",
      "Scoremap size does not match background image size. Need to resize: 0.08 seconds.\n",
      "Generate scoremap overlay image 7N: 0.15 seconds\n",
      "locate patches: 0.02 seconds\n"
     ]
    },
    {
     "name": "stdout",
     "output_type": "stream",
     "text": [
      "(597, 925, 3) (597, 925)\n",
      "7N 217\n"
     ]
    },
    {
     "name": "stderr",
     "output_type": "stream",
     "text": [
      "Load pre-computed features: 0.61 seconds\n",
      "Not using image_cache.\n"
     ]
    },
    {
     "name": "stdout",
     "output_type": "stream",
     "text": [
      "/data/CSHL_data_processed/CHATM2/CHATM2_prep2_raw_NtbNormalizedAdaptiveInvertedGammaJpeg/CHATM2_slide72_2018_02_14-S2_prep2_raw_NtbNormalizedAdaptiveInvertedGammaJpeg.jpg\n"
     ]
    },
    {
     "name": "stderr",
     "output_type": "stream",
     "text": [
      "Load background image: 2.43 seconds\n",
      "Rescale background image to output resolution: 0.33 seconds\n",
      "Predict scores 7N: 0.01 seconds\n",
      "Resample scoremap 7N: 0.09 seconds\n",
      "Load and rescale background image: 0.00 seconds\n",
      "Generate scoremap overlay: 0.05 seconds.\n",
      "Scoremap size does not match background image size. Need to resize: 0.08 seconds.\n",
      "Generate scoremap overlay image 7N: 0.15 seconds\n",
      "locate patches: 0.02 seconds\n"
     ]
    },
    {
     "name": "stdout",
     "output_type": "stream",
     "text": [
      "(597, 925, 3) (597, 925)\n",
      "7N 219\n"
     ]
    },
    {
     "name": "stderr",
     "output_type": "stream",
     "text": [
      "Load pre-computed features: 0.61 seconds\n",
      "Not using image_cache.\n"
     ]
    },
    {
     "name": "stdout",
     "output_type": "stream",
     "text": [
      "/data/CSHL_data_processed/CHATM2/CHATM2_prep2_raw_NtbNormalizedAdaptiveInvertedGammaJpeg/CHATM2_slide72_2018_02_14-S3_prep2_raw_NtbNormalizedAdaptiveInvertedGammaJpeg.jpg\n"
     ]
    },
    {
     "name": "stderr",
     "output_type": "stream",
     "text": [
      "Load background image: 2.47 seconds\n",
      "Rescale background image to output resolution: 0.33 seconds\n",
      "Predict scores 7N: 0.01 seconds\n",
      "Resample scoremap 7N: 0.09 seconds\n",
      "Load and rescale background image: 0.00 seconds\n",
      "Generate scoremap overlay: 0.05 seconds.\n",
      "Scoremap size does not match background image size. Need to resize: 0.08 seconds.\n",
      "Generate scoremap overlay image 7N: 0.16 seconds\n",
      "locate patches: 0.02 seconds\n"
     ]
    },
    {
     "name": "stdout",
     "output_type": "stream",
     "text": [
      "(597, 925, 3) (597, 925)\n",
      "7N 221\n"
     ]
    },
    {
     "name": "stderr",
     "output_type": "stream",
     "text": [
      "Load pre-computed features: 0.65 seconds\n",
      "Not using image_cache.\n"
     ]
    },
    {
     "name": "stdout",
     "output_type": "stream",
     "text": [
      "/data/CSHL_data_processed/CHATM2/CHATM2_prep2_raw_NtbNormalizedAdaptiveInvertedGammaJpeg/CHATM2_slide74_2018_02_14-S1_prep2_raw_NtbNormalizedAdaptiveInvertedGammaJpeg.jpg\n"
     ]
    },
    {
     "name": "stderr",
     "output_type": "stream",
     "text": [
      "Load background image: 2.64 seconds\n",
      "Rescale background image to output resolution: 0.32 seconds\n",
      "Predict scores 7N: 0.01 seconds\n",
      "Resample scoremap 7N: 0.09 seconds\n",
      "Load and rescale background image: 0.00 seconds\n",
      "Generate scoremap overlay: 0.05 seconds.\n",
      "Scoremap size does not match background image size. Need to resize: 0.08 seconds.\n",
      "Generate scoremap overlay image 7N: 0.16 seconds\n",
      "locate patches: 0.02 seconds\n"
     ]
    },
    {
     "name": "stdout",
     "output_type": "stream",
     "text": [
      "(597, 925, 3) (597, 925)\n",
      "7N 223\n"
     ]
    },
    {
     "name": "stderr",
     "output_type": "stream",
     "text": [
      "Load pre-computed features: 0.62 seconds\n",
      "Not using image_cache.\n"
     ]
    },
    {
     "name": "stdout",
     "output_type": "stream",
     "text": [
      "/data/CSHL_data_processed/CHATM2/CHATM2_prep2_raw_NtbNormalizedAdaptiveInvertedGammaJpeg/CHATM2_slide74_2018_02_14-S2_prep2_raw_NtbNormalizedAdaptiveInvertedGammaJpeg.jpg\n"
     ]
    },
    {
     "name": "stderr",
     "output_type": "stream",
     "text": [
      "Load background image: 2.45 seconds\n",
      "Rescale background image to output resolution: 0.40 seconds\n",
      "Predict scores 7N: 0.01 seconds\n",
      "Resample scoremap 7N: 0.09 seconds\n",
      "Load and rescale background image: 0.00 seconds\n",
      "Generate scoremap overlay: 0.05 seconds.\n",
      "Scoremap size does not match background image size. Need to resize: 0.08 seconds.\n",
      "Generate scoremap overlay image 7N: 0.15 seconds\n",
      "locate patches: 0.02 seconds\n"
     ]
    },
    {
     "name": "stdout",
     "output_type": "stream",
     "text": [
      "(597, 925, 3) (597, 925)\n",
      "7N 225\n"
     ]
    },
    {
     "name": "stderr",
     "output_type": "stream",
     "text": [
      "Load pre-computed features: 0.63 seconds\n",
      "Not using image_cache.\n"
     ]
    },
    {
     "name": "stdout",
     "output_type": "stream",
     "text": [
      "/data/CSHL_data_processed/CHATM2/CHATM2_prep2_raw_NtbNormalizedAdaptiveInvertedGammaJpeg/CHATM2_slide74_2018_02_14-S3_prep2_raw_NtbNormalizedAdaptiveInvertedGammaJpeg.jpg\n"
     ]
    },
    {
     "name": "stderr",
     "output_type": "stream",
     "text": [
      "Load background image: 2.46 seconds\n",
      "Rescale background image to output resolution: 0.32 seconds\n",
      "Predict scores 7N: 0.01 seconds\n",
      "Resample scoremap 7N: 0.09 seconds\n",
      "Load and rescale background image: 0.00 seconds\n",
      "Generate scoremap overlay: 0.05 seconds.\n",
      "Scoremap size does not match background image size. Need to resize: 0.08 seconds.\n",
      "Generate scoremap overlay image 7N: 0.15 seconds\n",
      "locate patches: 0.02 seconds\n"
     ]
    },
    {
     "name": "stdout",
     "output_type": "stream",
     "text": [
      "(597, 925, 3) (597, 925)\n",
      "7N 227\n"
     ]
    },
    {
     "name": "stderr",
     "output_type": "stream",
     "text": [
      "Load pre-computed features: 0.61 seconds\n",
      "Not using image_cache.\n"
     ]
    },
    {
     "name": "stdout",
     "output_type": "stream",
     "text": [
      "/data/CSHL_data_processed/CHATM2/CHATM2_prep2_raw_NtbNormalizedAdaptiveInvertedGammaJpeg/CHATM2_slide76_2018_02_14-S1_prep2_raw_NtbNormalizedAdaptiveInvertedGammaJpeg.jpg\n"
     ]
    },
    {
     "name": "stderr",
     "output_type": "stream",
     "text": [
      "Load background image: 2.40 seconds\n",
      "Rescale background image to output resolution: 0.33 seconds\n",
      "Predict scores 7N: 0.02 seconds\n",
      "Resample scoremap 7N: 0.09 seconds\n",
      "Load and rescale background image: 0.00 seconds\n",
      "Generate scoremap overlay: 0.06 seconds.\n",
      "Scoremap size does not match background image size. Need to resize: 0.09 seconds.\n",
      "Generate scoremap overlay image 7N: 0.19 seconds\n",
      "locate patches: 0.02 seconds\n"
     ]
    },
    {
     "name": "stdout",
     "output_type": "stream",
     "text": [
      "(597, 925, 3) (597, 925)\n",
      "7N 229\n"
     ]
    },
    {
     "name": "stderr",
     "output_type": "stream",
     "text": [
      "Load pre-computed features: 0.59 seconds\n",
      "Not using image_cache.\n"
     ]
    },
    {
     "name": "stdout",
     "output_type": "stream",
     "text": [
      "/data/CSHL_data_processed/CHATM2/CHATM2_prep2_raw_NtbNormalizedAdaptiveInvertedGammaJpeg/CHATM2_slide76_2018_02_14-S2_prep2_raw_NtbNormalizedAdaptiveInvertedGammaJpeg.jpg\n"
     ]
    },
    {
     "name": "stderr",
     "output_type": "stream",
     "text": [
      "Load background image: 2.37 seconds\n",
      "Rescale background image to output resolution: 0.32 seconds\n",
      "Predict scores 7N: 0.01 seconds\n",
      "Resample scoremap 7N: 0.09 seconds\n",
      "Load and rescale background image: 0.00 seconds\n",
      "Generate scoremap overlay: 0.05 seconds.\n",
      "Scoremap size does not match background image size. Need to resize: 0.08 seconds.\n",
      "Generate scoremap overlay image 7N: 0.15 seconds\n",
      "locate patches: 0.02 seconds\n"
     ]
    },
    {
     "name": "stdout",
     "output_type": "stream",
     "text": [
      "(597, 925, 3) (597, 925)\n",
      "7N 231\n"
     ]
    },
    {
     "name": "stderr",
     "output_type": "stream",
     "text": [
      "Load pre-computed features: 0.60 seconds\n",
      "Not using image_cache.\n"
     ]
    },
    {
     "name": "stdout",
     "output_type": "stream",
     "text": [
      "/data/CSHL_data_processed/CHATM2/CHATM2_prep2_raw_NtbNormalizedAdaptiveInvertedGammaJpeg/CHATM2_slide76_2018_02_14-S3_prep2_raw_NtbNormalizedAdaptiveInvertedGammaJpeg.jpg\n"
     ]
    },
    {
     "name": "stderr",
     "output_type": "stream",
     "text": [
      "Load background image: 2.36 seconds\n",
      "Rescale background image to output resolution: 0.32 seconds\n",
      "Predict scores 7N: 0.01 seconds\n",
      "Resample scoremap 7N: 0.09 seconds\n",
      "Load and rescale background image: 0.00 seconds\n",
      "Generate scoremap overlay: 0.05 seconds.\n",
      "Scoremap size does not match background image size. Need to resize: 0.08 seconds.\n",
      "Generate scoremap overlay image 7N: 0.15 seconds\n",
      "locate patches: 0.02 seconds\n"
     ]
    },
    {
     "name": "stdout",
     "output_type": "stream",
     "text": [
      "(597, 925, 3) (597, 925)\n",
      "7N 233\n"
     ]
    },
    {
     "name": "stderr",
     "output_type": "stream",
     "text": [
      "Load pre-computed features: 0.54 seconds\n",
      "Not using image_cache.\n"
     ]
    },
    {
     "name": "stdout",
     "output_type": "stream",
     "text": [
      "/data/CSHL_data_processed/CHATM2/CHATM2_prep2_raw_NtbNormalizedAdaptiveInvertedGammaJpeg/CHATM2_slide78_2018_02_14-S1_prep2_raw_NtbNormalizedAdaptiveInvertedGammaJpeg.jpg\n"
     ]
    },
    {
     "name": "stderr",
     "output_type": "stream",
     "text": [
      "Load background image: 2.32 seconds\n",
      "Rescale background image to output resolution: 0.32 seconds\n",
      "Predict scores 7N: 0.01 seconds\n",
      "Resample scoremap 7N: 0.09 seconds\n",
      "Load and rescale background image: 0.00 seconds\n",
      "Generate scoremap overlay: 0.05 seconds.\n",
      "Scoremap size does not match background image size. Need to resize: 0.08 seconds.\n",
      "Generate scoremap overlay image 7N: 0.15 seconds\n",
      "locate patches: 0.02 seconds\n"
     ]
    },
    {
     "name": "stdout",
     "output_type": "stream",
     "text": [
      "(597, 925, 3) (597, 925)\n",
      "7N 235\n"
     ]
    },
    {
     "name": "stderr",
     "output_type": "stream",
     "text": [
      "Load pre-computed features: 0.57 seconds\n",
      "Not using image_cache.\n"
     ]
    },
    {
     "name": "stdout",
     "output_type": "stream",
     "text": [
      "/data/CSHL_data_processed/CHATM2/CHATM2_prep2_raw_NtbNormalizedAdaptiveInvertedGammaJpeg/CHATM2_slide78_2018_02_14-S2_prep2_raw_NtbNormalizedAdaptiveInvertedGammaJpeg.jpg\n"
     ]
    },
    {
     "name": "stderr",
     "output_type": "stream",
     "text": [
      "Load background image: 2.37 seconds\n",
      "Rescale background image to output resolution: 0.32 seconds\n",
      "Predict scores 7N: 0.01 seconds\n",
      "Resample scoremap 7N: 0.10 seconds\n",
      "Load and rescale background image: 0.00 seconds\n",
      "Generate scoremap overlay: 0.05 seconds.\n",
      "Scoremap size does not match background image size. Need to resize: 0.09 seconds.\n",
      "Generate scoremap overlay image 7N: 0.17 seconds\n",
      "locate patches: 0.02 seconds\n"
     ]
    },
    {
     "name": "stdout",
     "output_type": "stream",
     "text": [
      "(597, 925, 3) (597, 925)\n",
      "7N 237\n"
     ]
    },
    {
     "name": "stderr",
     "output_type": "stream",
     "text": [
      "Load pre-computed features: 0.61 seconds\n",
      "Not using image_cache.\n"
     ]
    },
    {
     "name": "stdout",
     "output_type": "stream",
     "text": [
      "/data/CSHL_data_processed/CHATM2/CHATM2_prep2_raw_NtbNormalizedAdaptiveInvertedGammaJpeg/CHATM2_slide78_2018_02_14-S3_prep2_raw_NtbNormalizedAdaptiveInvertedGammaJpeg.jpg\n"
     ]
    },
    {
     "name": "stderr",
     "output_type": "stream",
     "text": [
      "Load background image: 2.29 seconds\n",
      "Rescale background image to output resolution: 0.34 seconds\n",
      "Predict scores 7N: 0.02 seconds\n",
      "Resample scoremap 7N: 0.09 seconds\n",
      "Load and rescale background image: 0.00 seconds\n",
      "Generate scoremap overlay: 0.05 seconds.\n",
      "Scoremap size does not match background image size. Need to resize: 0.08 seconds.\n",
      "Generate scoremap overlay image 7N: 0.17 seconds\n",
      "locate patches: 0.02 seconds\n"
     ]
    },
    {
     "name": "stdout",
     "output_type": "stream",
     "text": [
      "(597, 925, 3) (597, 925)\n",
      "7N 239\n"
     ]
    },
    {
     "name": "stderr",
     "output_type": "stream",
     "text": [
      "Load pre-computed features: 0.54 seconds\n",
      "Not using image_cache.\n"
     ]
    },
    {
     "name": "stdout",
     "output_type": "stream",
     "text": [
      "/data/CSHL_data_processed/CHATM2/CHATM2_prep2_raw_NtbNormalizedAdaptiveInvertedGammaJpeg/CHATM2_slide80_2018_02_14-S1_prep2_raw_NtbNormalizedAdaptiveInvertedGammaJpeg.jpg\n"
     ]
    },
    {
     "name": "stderr",
     "output_type": "stream",
     "text": [
      "Load background image: 2.32 seconds\n",
      "Rescale background image to output resolution: 0.32 seconds\n",
      "Predict scores 7N: 0.01 seconds\n",
      "Resample scoremap 7N: 0.09 seconds\n",
      "Load and rescale background image: 0.00 seconds\n",
      "Generate scoremap overlay: 0.05 seconds.\n",
      "Scoremap size does not match background image size. Need to resize: 0.08 seconds.\n",
      "Generate scoremap overlay image 7N: 0.15 seconds\n",
      "locate patches: 0.02 seconds\n"
     ]
    },
    {
     "name": "stdout",
     "output_type": "stream",
     "text": [
      "(597, 925, 3) (597, 925)\n",
      "7N 241\n"
     ]
    },
    {
     "name": "stderr",
     "output_type": "stream",
     "text": [
      "Load pre-computed features: 0.57 seconds\n",
      "Not using image_cache.\n"
     ]
    },
    {
     "name": "stdout",
     "output_type": "stream",
     "text": [
      "/data/CSHL_data_processed/CHATM2/CHATM2_prep2_raw_NtbNormalizedAdaptiveInvertedGammaJpeg/CHATM2_slide80_2018_02_14-S2_prep2_raw_NtbNormalizedAdaptiveInvertedGammaJpeg.jpg\n"
     ]
    },
    {
     "name": "stderr",
     "output_type": "stream",
     "text": [
      "Load background image: 2.26 seconds\n",
      "Rescale background image to output resolution: 0.32 seconds\n",
      "Predict scores 7N: 0.01 seconds\n",
      "Resample scoremap 7N: 0.09 seconds\n",
      "Load and rescale background image: 0.00 seconds\n",
      "Generate scoremap overlay: 0.05 seconds.\n",
      "Scoremap size does not match background image size. Need to resize: 0.07 seconds.\n",
      "Generate scoremap overlay image 7N: 0.15 seconds\n",
      "locate patches: 0.02 seconds\n"
     ]
    },
    {
     "name": "stdout",
     "output_type": "stream",
     "text": [
      "(597, 925, 3) (597, 925)\n",
      "7N 243\n"
     ]
    },
    {
     "name": "stderr",
     "output_type": "stream",
     "text": [
      "Load pre-computed features: 0.54 seconds\n",
      "Not using image_cache.\n"
     ]
    },
    {
     "name": "stdout",
     "output_type": "stream",
     "text": [
      "/data/CSHL_data_processed/CHATM2/CHATM2_prep2_raw_NtbNormalizedAdaptiveInvertedGammaJpeg/CHATM2_slide80_2018_02_14-S3_prep2_raw_NtbNormalizedAdaptiveInvertedGammaJpeg.jpg\n"
     ]
    },
    {
     "name": "stderr",
     "output_type": "stream",
     "text": [
      "Load background image: 2.32 seconds\n",
      "Rescale background image to output resolution: 0.32 seconds\n",
      "Predict scores 7N: 0.01 seconds\n",
      "Resample scoremap 7N: 0.09 seconds\n",
      "Load and rescale background image: 0.00 seconds\n",
      "Generate scoremap overlay: 0.05 seconds.\n",
      "Scoremap size does not match background image size. Need to resize: 0.08 seconds.\n",
      "Generate scoremap overlay image 7N: 0.15 seconds\n",
      "locate patches: 0.02 seconds\n"
     ]
    },
    {
     "name": "stdout",
     "output_type": "stream",
     "text": [
      "(597, 925, 3) (597, 925)\n",
      "7N 245\n"
     ]
    },
    {
     "name": "stderr",
     "output_type": "stream",
     "text": [
      "Load pre-computed features: 0.53 seconds\n",
      "Not using image_cache.\n"
     ]
    },
    {
     "name": "stdout",
     "output_type": "stream",
     "text": [
      "/data/CSHL_data_processed/CHATM2/CHATM2_prep2_raw_NtbNormalizedAdaptiveInvertedGammaJpeg/CHATM2_slide82_2018_02_14-S1_prep2_raw_NtbNormalizedAdaptiveInvertedGammaJpeg.jpg\n"
     ]
    },
    {
     "name": "stderr",
     "output_type": "stream",
     "text": [
      "Load background image: 2.29 seconds\n",
      "Rescale background image to output resolution: 0.32 seconds\n",
      "Predict scores 7N: 0.01 seconds\n",
      "Resample scoremap 7N: 0.09 seconds\n",
      "Load and rescale background image: 0.00 seconds\n",
      "Generate scoremap overlay: 0.05 seconds.\n",
      "Scoremap size does not match background image size. Need to resize: 0.08 seconds.\n",
      "Generate scoremap overlay image 7N: 0.15 seconds\n",
      "locate patches: 0.02 seconds\n"
     ]
    },
    {
     "name": "stdout",
     "output_type": "stream",
     "text": [
      "(597, 925, 3) (597, 925)\n",
      "7N 247\n"
     ]
    },
    {
     "name": "stderr",
     "output_type": "stream",
     "text": [
      "Load pre-computed features: 0.56 seconds\n",
      "Not using image_cache.\n"
     ]
    },
    {
     "name": "stdout",
     "output_type": "stream",
     "text": [
      "/data/CSHL_data_processed/CHATM2/CHATM2_prep2_raw_NtbNormalizedAdaptiveInvertedGammaJpeg/CHATM2_slide82_2018_02_14-S2_prep2_raw_NtbNormalizedAdaptiveInvertedGammaJpeg.jpg\n"
     ]
    },
    {
     "name": "stderr",
     "output_type": "stream",
     "text": [
      "Load background image: 2.28 seconds\n",
      "Rescale background image to output resolution: 0.32 seconds\n",
      "Predict scores 7N: 0.01 seconds\n",
      "Resample scoremap 7N: 0.09 seconds\n",
      "Load and rescale background image: 0.00 seconds\n",
      "Generate scoremap overlay: 0.05 seconds.\n",
      "Scoremap size does not match background image size. Need to resize: 0.07 seconds.\n",
      "Generate scoremap overlay image 7N: 0.15 seconds\n",
      "locate patches: 0.02 seconds\n"
     ]
    },
    {
     "name": "stdout",
     "output_type": "stream",
     "text": [
      "(597, 925, 3) (597, 925)\n",
      "7N 249\n"
     ]
    },
    {
     "name": "stderr",
     "output_type": "stream",
     "text": [
      "Load pre-computed features: 0.55 seconds\n",
      "Not using image_cache.\n"
     ]
    },
    {
     "name": "stdout",
     "output_type": "stream",
     "text": [
      "/data/CSHL_data_processed/CHATM2/CHATM2_prep2_raw_NtbNormalizedAdaptiveInvertedGammaJpeg/CHATM2_slide82_2018_02_14-S3_prep2_raw_NtbNormalizedAdaptiveInvertedGammaJpeg.jpg\n"
     ]
    },
    {
     "name": "stderr",
     "output_type": "stream",
     "text": [
      "Load background image: 2.28 seconds\n",
      "Rescale background image to output resolution: 0.34 seconds\n",
      "Predict scores 7N: 0.01 seconds\n",
      "Resample scoremap 7N: 0.09 seconds\n",
      "Load and rescale background image: 0.00 seconds\n",
      "Generate scoremap overlay: 0.05 seconds.\n",
      "Scoremap size does not match background image size. Need to resize: 0.08 seconds.\n",
      "Generate scoremap overlay image 7N: 0.15 seconds\n",
      "locate patches: 0.02 seconds\n"
     ]
    },
    {
     "name": "stdout",
     "output_type": "stream",
     "text": [
      "(597, 925, 3) (597, 925)\n",
      "7N 251\n"
     ]
    },
    {
     "name": "stderr",
     "output_type": "stream",
     "text": [
      "Load pre-computed features: 0.55 seconds\n",
      "Not using image_cache.\n"
     ]
    },
    {
     "name": "stdout",
     "output_type": "stream",
     "text": [
      "/data/CSHL_data_processed/CHATM2/CHATM2_prep2_raw_NtbNormalizedAdaptiveInvertedGammaJpeg/CHATM2_slide84_2018_02_14-S1_prep2_raw_NtbNormalizedAdaptiveInvertedGammaJpeg.jpg\n"
     ]
    },
    {
     "name": "stderr",
     "output_type": "stream",
     "text": [
      "Load background image: 2.28 seconds\n",
      "Rescale background image to output resolution: 0.33 seconds\n",
      "Predict scores 7N: 0.01 seconds\n",
      "Resample scoremap 7N: 0.09 seconds\n",
      "Load and rescale background image: 0.00 seconds\n",
      "Generate scoremap overlay: 0.05 seconds.\n",
      "Scoremap size does not match background image size. Need to resize: 0.08 seconds.\n",
      "Generate scoremap overlay image 7N: 0.15 seconds\n",
      "locate patches: 0.02 seconds\n"
     ]
    },
    {
     "name": "stdout",
     "output_type": "stream",
     "text": [
      "(597, 925, 3) (597, 925)\n",
      "7N 253\n"
     ]
    },
    {
     "name": "stderr",
     "output_type": "stream",
     "text": [
      "Load pre-computed features: 0.55 seconds\n",
      "Not using image_cache.\n"
     ]
    },
    {
     "name": "stdout",
     "output_type": "stream",
     "text": [
      "/data/CSHL_data_processed/CHATM2/CHATM2_prep2_raw_NtbNormalizedAdaptiveInvertedGammaJpeg/CHATM2_slide84_2018_02_14-S2_prep2_raw_NtbNormalizedAdaptiveInvertedGammaJpeg.jpg\n"
     ]
    },
    {
     "name": "stderr",
     "output_type": "stream",
     "text": [
      "Load background image: 2.27 seconds\n",
      "Rescale background image to output resolution: 0.32 seconds\n",
      "Predict scores 7N: 0.01 seconds\n",
      "Resample scoremap 7N: 0.09 seconds\n",
      "Load and rescale background image: 0.00 seconds\n",
      "Generate scoremap overlay: 0.05 seconds.\n",
      "Scoremap size does not match background image size. Need to resize: 0.08 seconds.\n",
      "Generate scoremap overlay image 7N: 0.15 seconds\n",
      "locate patches: 0.02 seconds\n"
     ]
    },
    {
     "name": "stdout",
     "output_type": "stream",
     "text": [
      "(597, 925, 3) (597, 925)\n",
      "7N 255\n"
     ]
    },
    {
     "name": "stderr",
     "output_type": "stream",
     "text": [
      "Load pre-computed features: 0.53 seconds\n",
      "Not using image_cache.\n"
     ]
    },
    {
     "name": "stdout",
     "output_type": "stream",
     "text": [
      "/data/CSHL_data_processed/CHATM2/CHATM2_prep2_raw_NtbNormalizedAdaptiveInvertedGammaJpeg/CHATM2_slide84_2018_02_14-S3_prep2_raw_NtbNormalizedAdaptiveInvertedGammaJpeg.jpg\n"
     ]
    },
    {
     "name": "stderr",
     "output_type": "stream",
     "text": [
      "Load background image: 2.23 seconds\n",
      "Rescale background image to output resolution: 0.32 seconds\n",
      "Predict scores 7N: 0.01 seconds\n",
      "Resample scoremap 7N: 0.09 seconds\n",
      "Load and rescale background image: 0.00 seconds\n",
      "Generate scoremap overlay: 0.05 seconds.\n",
      "Scoremap size does not match background image size. Need to resize: 0.07 seconds.\n",
      "Generate scoremap overlay image 7N: 0.15 seconds\n",
      "locate patches: 0.02 seconds\n"
     ]
    },
    {
     "name": "stdout",
     "output_type": "stream",
     "text": [
      "(597, 925, 3) (597, 925)\n",
      "7N 257\n"
     ]
    },
    {
     "name": "stderr",
     "output_type": "stream",
     "text": [
      "Load pre-computed features: 0.54 seconds\n",
      "Not using image_cache.\n"
     ]
    },
    {
     "name": "stdout",
     "output_type": "stream",
     "text": [
      "/data/CSHL_data_processed/CHATM2/CHATM2_prep2_raw_NtbNormalizedAdaptiveInvertedGammaJpeg/CHATM2_slide86_2018_02_13-S1_prep2_raw_NtbNormalizedAdaptiveInvertedGammaJpeg.jpg\n"
     ]
    },
    {
     "name": "stderr",
     "output_type": "stream",
     "text": [
      "Load background image: 2.16 seconds\n",
      "Rescale background image to output resolution: 0.32 seconds\n",
      "Predict scores 7N: 0.01 seconds\n",
      "Resample scoremap 7N: 0.09 seconds\n",
      "Load and rescale background image: 0.00 seconds\n",
      "Generate scoremap overlay: 0.05 seconds.\n",
      "Scoremap size does not match background image size. Need to resize: 0.08 seconds.\n",
      "Generate scoremap overlay image 7N: 0.16 seconds\n",
      "locate patches: 0.02 seconds\n"
     ]
    },
    {
     "name": "stdout",
     "output_type": "stream",
     "text": [
      "(597, 925, 3) (597, 925)\n",
      "7N 259\n"
     ]
    },
    {
     "name": "stderr",
     "output_type": "stream",
     "text": [
      "Load pre-computed features: 0.51 seconds\n",
      "Not using image_cache.\n"
     ]
    },
    {
     "name": "stdout",
     "output_type": "stream",
     "text": [
      "/data/CSHL_data_processed/CHATM2/CHATM2_prep2_raw_NtbNormalizedAdaptiveInvertedGammaJpeg/CHATM2_slide86_2018_02_13-S2_prep2_raw_NtbNormalizedAdaptiveInvertedGammaJpeg.jpg\n"
     ]
    },
    {
     "name": "stderr",
     "output_type": "stream",
     "text": [
      "Load background image: 2.21 seconds\n",
      "Rescale background image to output resolution: 0.32 seconds\n",
      "Predict scores 7N: 0.02 seconds\n",
      "Resample scoremap 7N: 0.09 seconds\n",
      "Load and rescale background image: 0.00 seconds\n",
      "Generate scoremap overlay: 0.05 seconds.\n",
      "Scoremap size does not match background image size. Need to resize: 0.07 seconds.\n",
      "Generate scoremap overlay image 7N: 0.15 seconds\n",
      "locate patches: 0.02 seconds\n"
     ]
    },
    {
     "name": "stdout",
     "output_type": "stream",
     "text": [
      "(597, 925, 3) (597, 925)\n",
      "7N 261\n"
     ]
    },
    {
     "name": "stderr",
     "output_type": "stream",
     "text": [
      "Load pre-computed features: 0.51 seconds\n",
      "Not using image_cache.\n"
     ]
    },
    {
     "name": "stdout",
     "output_type": "stream",
     "text": [
      "/data/CSHL_data_processed/CHATM2/CHATM2_prep2_raw_NtbNormalizedAdaptiveInvertedGammaJpeg/CHATM2_slide86_2018_02_13-S3_prep2_raw_NtbNormalizedAdaptiveInvertedGammaJpeg.jpg\n"
     ]
    },
    {
     "name": "stderr",
     "output_type": "stream",
     "text": [
      "Load background image: 2.20 seconds\n",
      "Rescale background image to output resolution: 0.32 seconds\n",
      "Predict scores 7N: 0.01 seconds\n",
      "Resample scoremap 7N: 0.09 seconds\n",
      "Load and rescale background image: 0.00 seconds\n",
      "Generate scoremap overlay: 0.07 seconds.\n",
      "Scoremap size does not match background image size. Need to resize: 0.08 seconds.\n",
      "Generate scoremap overlay image 7N: 0.17 seconds\n",
      "locate patches: 0.02 seconds\n"
     ]
    },
    {
     "name": "stdout",
     "output_type": "stream",
     "text": [
      "(597, 925, 3) (597, 925)\n",
      "7N 263\n"
     ]
    },
    {
     "name": "stderr",
     "output_type": "stream",
     "text": [
      "Load pre-computed features: 0.61 seconds\n",
      "Not using image_cache.\n"
     ]
    },
    {
     "name": "stdout",
     "output_type": "stream",
     "text": [
      "/data/CSHL_data_processed/CHATM2/CHATM2_prep2_raw_NtbNormalizedAdaptiveInvertedGammaJpeg/CHATM2_slide88_2018_02_13-S1_prep2_raw_NtbNormalizedAdaptiveInvertedGammaJpeg.jpg\n"
     ]
    },
    {
     "name": "stderr",
     "output_type": "stream",
     "text": [
      "Load background image: 2.18 seconds\n",
      "Rescale background image to output resolution: 0.33 seconds\n",
      "Predict scores 7N: 0.01 seconds\n",
      "Resample scoremap 7N: 0.09 seconds\n",
      "Load and rescale background image: 0.00 seconds\n",
      "Generate scoremap overlay: 0.05 seconds.\n",
      "Scoremap size does not match background image size. Need to resize: 0.08 seconds.\n",
      "Generate scoremap overlay image 7N: 0.15 seconds\n",
      "locate patches: 0.02 seconds\n"
     ]
    },
    {
     "name": "stdout",
     "output_type": "stream",
     "text": [
      "(597, 925, 3) (597, 925)\n",
      "7N 265\n"
     ]
    },
    {
     "name": "stderr",
     "output_type": "stream",
     "text": [
      "Load pre-computed features: 0.51 seconds\n",
      "Not using image_cache.\n"
     ]
    },
    {
     "name": "stdout",
     "output_type": "stream",
     "text": [
      "/data/CSHL_data_processed/CHATM2/CHATM2_prep2_raw_NtbNormalizedAdaptiveInvertedGammaJpeg/CHATM2_slide88_2018_02_13-S2_prep2_raw_NtbNormalizedAdaptiveInvertedGammaJpeg.jpg\n"
     ]
    },
    {
     "name": "stderr",
     "output_type": "stream",
     "text": [
      "Load background image: 2.25 seconds\n",
      "Rescale background image to output resolution: 0.33 seconds\n",
      "Predict scores 7N: 0.01 seconds\n",
      "Resample scoremap 7N: 0.09 seconds\n",
      "Load and rescale background image: 0.00 seconds\n",
      "Generate scoremap overlay: 0.05 seconds.\n",
      "Scoremap size does not match background image size. Need to resize: 0.08 seconds.\n",
      "Generate scoremap overlay image 7N: 0.15 seconds\n",
      "locate patches: 0.02 seconds\n"
     ]
    },
    {
     "name": "stdout",
     "output_type": "stream",
     "text": [
      "(597, 925, 3) (597, 925)\n",
      "7N 267\n"
     ]
    },
    {
     "name": "stderr",
     "output_type": "stream",
     "text": [
      "Load pre-computed features: 0.48 seconds\n",
      "Not using image_cache.\n"
     ]
    },
    {
     "name": "stdout",
     "output_type": "stream",
     "text": [
      "/data/CSHL_data_processed/CHATM2/CHATM2_prep2_raw_NtbNormalizedAdaptiveInvertedGammaJpeg/CHATM2_slide88_2018_02_13-S3_prep2_raw_NtbNormalizedAdaptiveInvertedGammaJpeg.jpg\n"
     ]
    },
    {
     "name": "stderr",
     "output_type": "stream",
     "text": [
      "Load background image: 2.14 seconds\n",
      "Rescale background image to output resolution: 0.32 seconds\n",
      "Predict scores 7N: 0.01 seconds\n",
      "Resample scoremap 7N: 0.09 seconds\n",
      "Load and rescale background image: 0.00 seconds\n",
      "Generate scoremap overlay: 0.05 seconds.\n",
      "Scoremap size does not match background image size. Need to resize: 0.07 seconds.\n",
      "Generate scoremap overlay image 7N: 0.15 seconds\n",
      "locate patches: 0.02 seconds\n"
     ]
    },
    {
     "name": "stdout",
     "output_type": "stream",
     "text": [
      "(597, 925, 3) (597, 925)\n",
      "7N 269\n"
     ]
    },
    {
     "name": "stderr",
     "output_type": "stream",
     "text": [
      "Load pre-computed features: 0.47 seconds\n",
      "Not using image_cache.\n"
     ]
    },
    {
     "name": "stdout",
     "output_type": "stream",
     "text": [
      "/data/CSHL_data_processed/CHATM2/CHATM2_prep2_raw_NtbNormalizedAdaptiveInvertedGammaJpeg/CHATM2_slide90_2018_02_13-S1_prep2_raw_NtbNormalizedAdaptiveInvertedGammaJpeg.jpg\n"
     ]
    },
    {
     "name": "stderr",
     "output_type": "stream",
     "text": [
      "Load background image: 2.17 seconds\n",
      "Rescale background image to output resolution: 0.32 seconds\n",
      "Predict scores 7N: 0.01 seconds\n",
      "Resample scoremap 7N: 0.09 seconds\n",
      "Load and rescale background image: 0.00 seconds\n",
      "Generate scoremap overlay: 0.05 seconds.\n",
      "Scoremap size does not match background image size. Need to resize: 0.08 seconds.\n",
      "Generate scoremap overlay image 7N: 0.15 seconds\n",
      "locate patches: 0.02 seconds\n"
     ]
    },
    {
     "name": "stdout",
     "output_type": "stream",
     "text": [
      "(597, 925, 3) (597, 925)\n",
      "7N 271\n"
     ]
    },
    {
     "name": "stderr",
     "output_type": "stream",
     "text": [
      "Load pre-computed features: 0.54 seconds\n",
      "Not using image_cache.\n"
     ]
    },
    {
     "name": "stdout",
     "output_type": "stream",
     "text": [
      "/data/CSHL_data_processed/CHATM2/CHATM2_prep2_raw_NtbNormalizedAdaptiveInvertedGammaJpeg/CHATM2_slide90_2018_02_13-S2_prep2_raw_NtbNormalizedAdaptiveInvertedGammaJpeg.jpg\n"
     ]
    },
    {
     "name": "stderr",
     "output_type": "stream",
     "text": [
      "Load background image: 2.15 seconds\n",
      "Rescale background image to output resolution: 0.32 seconds\n",
      "Predict scores 7N: 0.02 seconds\n",
      "Resample scoremap 7N: 0.09 seconds\n",
      "Load and rescale background image: 0.00 seconds\n",
      "Generate scoremap overlay: 0.06 seconds.\n",
      "Scoremap size does not match background image size. Need to resize: 0.08 seconds.\n",
      "Generate scoremap overlay image 7N: 0.16 seconds\n",
      "locate patches: 0.02 seconds\n"
     ]
    },
    {
     "name": "stdout",
     "output_type": "stream",
     "text": [
      "(597, 925, 3) (597, 925)\n",
      "7N 273\n"
     ]
    },
    {
     "name": "stderr",
     "output_type": "stream",
     "text": [
      "Load pre-computed features: 0.53 seconds\n",
      "Not using image_cache.\n"
     ]
    },
    {
     "name": "stdout",
     "output_type": "stream",
     "text": [
      "/data/CSHL_data_processed/CHATM2/CHATM2_prep2_raw_NtbNormalizedAdaptiveInvertedGammaJpeg/CHATM2_slide90_2018_02_13-S3_prep2_raw_NtbNormalizedAdaptiveInvertedGammaJpeg.jpg\n"
     ]
    },
    {
     "name": "stderr",
     "output_type": "stream",
     "text": [
      "Load background image: 2.14 seconds\n",
      "Rescale background image to output resolution: 0.33 seconds\n",
      "Predict scores 7N: 0.01 seconds\n",
      "Resample scoremap 7N: 0.06 seconds\n",
      "Load and rescale background image: 0.00 seconds\n",
      "Generate scoremap overlay: 0.05 seconds.\n",
      "Scoremap size does not match background image size. Need to resize: 0.08 seconds.\n"
     ]
    },
    {
     "name": "stdout",
     "output_type": "stream",
     "text": [
      "(597, 925, 3) (597, 925)\n",
      "7N 275\n"
     ]
    },
    {
     "name": "stderr",
     "output_type": "stream",
     "text": [
      "Generate scoremap overlay image 7N: 0.15 seconds\n",
      "locate patches: 0.02 seconds\n",
      "Load pre-computed features: 0.50 seconds\n",
      "Not using image_cache.\n"
     ]
    },
    {
     "name": "stdout",
     "output_type": "stream",
     "text": [
      "/data/CSHL_data_processed/CHATM2/CHATM2_prep2_raw_NtbNormalizedAdaptiveInvertedGammaJpeg/CHATM2_slide92_2018_02_13-S1_prep2_raw_NtbNormalizedAdaptiveInvertedGammaJpeg.jpg\n"
     ]
    },
    {
     "name": "stderr",
     "output_type": "stream",
     "text": [
      "Load background image: 2.12 seconds\n",
      "Rescale background image to output resolution: 0.32 seconds\n",
      "Predict scores 7N: 0.01 seconds\n",
      "Resample scoremap 7N: 0.09 seconds\n",
      "Load and rescale background image: 0.00 seconds\n",
      "Generate scoremap overlay: 0.05 seconds.\n",
      "Scoremap size does not match background image size. Need to resize: 0.08 seconds.\n",
      "Generate scoremap overlay image 7N: 0.15 seconds\n",
      "locate patches: 0.02 seconds\n"
     ]
    },
    {
     "name": "stdout",
     "output_type": "stream",
     "text": [
      "(597, 925, 3) (597, 925)\n",
      "7N 277\n"
     ]
    },
    {
     "name": "stderr",
     "output_type": "stream",
     "text": [
      "Load pre-computed features: 0.48 seconds\n",
      "Not using image_cache.\n"
     ]
    },
    {
     "name": "stdout",
     "output_type": "stream",
     "text": [
      "/data/CSHL_data_processed/CHATM2/CHATM2_prep2_raw_NtbNormalizedAdaptiveInvertedGammaJpeg/CHATM2_slide92_2018_02_13-S2_prep2_raw_NtbNormalizedAdaptiveInvertedGammaJpeg.jpg\n"
     ]
    },
    {
     "name": "stderr",
     "output_type": "stream",
     "text": [
      "Load background image: 2.17 seconds\n",
      "Rescale background image to output resolution: 0.32 seconds\n",
      "Predict scores 7N: 0.01 seconds\n",
      "Resample scoremap 7N: 0.09 seconds\n",
      "Load and rescale background image: 0.00 seconds\n",
      "Generate scoremap overlay: 0.05 seconds.\n",
      "Scoremap size does not match background image size. Need to resize: 0.08 seconds.\n",
      "Generate scoremap overlay image 7N: 0.15 seconds\n",
      "locate patches: 0.02 seconds\n"
     ]
    },
    {
     "name": "stdout",
     "output_type": "stream",
     "text": [
      "(597, 925, 3) (597, 925)\n",
      "7N 279\n"
     ]
    },
    {
     "name": "stderr",
     "output_type": "stream",
     "text": [
      "Load pre-computed features: 0.47 seconds\n",
      "Not using image_cache.\n"
     ]
    },
    {
     "name": "stdout",
     "output_type": "stream",
     "text": [
      "/data/CSHL_data_processed/CHATM2/CHATM2_prep2_raw_NtbNormalizedAdaptiveInvertedGammaJpeg/CHATM2_slide92_2018_02_13-S3_prep2_raw_NtbNormalizedAdaptiveInvertedGammaJpeg.jpg\n"
     ]
    },
    {
     "name": "stderr",
     "output_type": "stream",
     "text": [
      "Load background image: 2.14 seconds\n",
      "Rescale background image to output resolution: 0.32 seconds\n",
      "Predict scores 7N: 0.01 seconds\n",
      "Resample scoremap 7N: 0.09 seconds\n",
      "Load and rescale background image: 0.00 seconds\n",
      "Generate scoremap overlay: 0.05 seconds.\n",
      "Scoremap size does not match background image size. Need to resize: 0.08 seconds.\n",
      "Generate scoremap overlay image 7N: 0.15 seconds\n",
      "locate patches: 0.02 seconds\n"
     ]
    },
    {
     "name": "stdout",
     "output_type": "stream",
     "text": [
      "(597, 925, 3) (597, 925)\n",
      "7N 281\n"
     ]
    },
    {
     "name": "stderr",
     "output_type": "stream",
     "text": [
      "Load pre-computed features: 0.48 seconds\n",
      "Not using image_cache.\n"
     ]
    },
    {
     "name": "stdout",
     "output_type": "stream",
     "text": [
      "/data/CSHL_data_processed/CHATM2/CHATM2_prep2_raw_NtbNormalizedAdaptiveInvertedGammaJpeg/CHATM2_slide94_2018_02_13-S1_prep2_raw_NtbNormalizedAdaptiveInvertedGammaJpeg.jpg\n"
     ]
    },
    {
     "name": "stderr",
     "output_type": "stream",
     "text": [
      "Load background image: 2.11 seconds\n",
      "Rescale background image to output resolution: 0.32 seconds\n",
      "Predict scores 7N: 0.01 seconds\n",
      "Resample scoremap 7N: 0.09 seconds\n",
      "Load and rescale background image: 0.00 seconds\n",
      "Generate scoremap overlay: 0.05 seconds.\n",
      "Scoremap size does not match background image size. Need to resize: 0.09 seconds.\n",
      "Generate scoremap overlay image 7N: 0.17 seconds\n",
      "locate patches: 0.02 seconds\n"
     ]
    },
    {
     "name": "stdout",
     "output_type": "stream",
     "text": [
      "(597, 925, 3) (597, 925)\n",
      "7N 283\n"
     ]
    },
    {
     "name": "stderr",
     "output_type": "stream",
     "text": [
      "Load pre-computed features: 0.46 seconds\n",
      "Not using image_cache.\n"
     ]
    },
    {
     "name": "stdout",
     "output_type": "stream",
     "text": [
      "/data/CSHL_data_processed/CHATM2/CHATM2_prep2_raw_NtbNormalizedAdaptiveInvertedGammaJpeg/CHATM2_slide94_2018_02_13-S2_prep2_raw_NtbNormalizedAdaptiveInvertedGammaJpeg.jpg\n"
     ]
    },
    {
     "name": "stderr",
     "output_type": "stream",
     "text": [
      "Load background image: 2.07 seconds\n",
      "Rescale background image to output resolution: 0.32 seconds\n",
      "Predict scores 7N: 0.01 seconds\n",
      "Resample scoremap 7N: 0.11 seconds\n",
      "Load and rescale background image: 0.00 seconds\n",
      "Generate scoremap overlay: 0.06 seconds.\n",
      "Scoremap size does not match background image size. Need to resize: 0.08 seconds.\n",
      "Generate scoremap overlay image 7N: 0.17 seconds\n",
      "locate patches: 0.02 seconds\n"
     ]
    },
    {
     "name": "stdout",
     "output_type": "stream",
     "text": [
      "(597, 925, 3) (597, 925)\n",
      "7N 285\n"
     ]
    },
    {
     "name": "stderr",
     "output_type": "stream",
     "text": [
      "Load pre-computed features: 0.53 seconds\n",
      "Not using image_cache.\n"
     ]
    },
    {
     "name": "stdout",
     "output_type": "stream",
     "text": [
      "/data/CSHL_data_processed/CHATM2/CHATM2_prep2_raw_NtbNormalizedAdaptiveInvertedGammaJpeg/CHATM2_slide94_2018_02_13-S3_prep2_raw_NtbNormalizedAdaptiveInvertedGammaJpeg.jpg\n"
     ]
    },
    {
     "name": "stderr",
     "output_type": "stream",
     "text": [
      "Load background image: 2.11 seconds\n",
      "Rescale background image to output resolution: 0.32 seconds\n",
      "Predict scores 7N: 0.01 seconds\n",
      "Resample scoremap 7N: 0.10 seconds\n",
      "Load and rescale background image: 0.00 seconds\n",
      "Generate scoremap overlay: 0.06 seconds.\n",
      "Scoremap size does not match background image size. Need to resize: 0.09 seconds.\n",
      "Generate scoremap overlay image 7N: 0.18 seconds\n",
      "locate patches: 0.02 seconds\n"
     ]
    },
    {
     "name": "stdout",
     "output_type": "stream",
     "text": [
      "(597, 925, 3) (597, 925)\n",
      "10N 127\n"
     ]
    },
    {
     "name": "stderr",
     "output_type": "stream",
     "text": [
      "Load pre-computed features: 0.67 seconds\n",
      "Not using image_cache.\n"
     ]
    },
    {
     "name": "stdout",
     "output_type": "stream",
     "text": [
      "/data/CSHL_data_processed/CHATM2/CHATM2_prep2_raw_NtbNormalizedAdaptiveInvertedGammaJpeg/CHATM2_slide43_2018_01_22-S1_prep2_raw_NtbNormalizedAdaptiveInvertedGammaJpeg.jpg\n"
     ]
    },
    {
     "name": "stderr",
     "output_type": "stream",
     "text": [
      "Load background image: 2.56 seconds\n",
      "Rescale background image to output resolution: 0.36 seconds\n",
      "Predict scores 10N: 0.02 seconds\n",
      "Resample scoremap 10N: 0.07 seconds\n",
      "Load and rescale background image: 0.00 seconds\n",
      "Generate scoremap overlay: 0.06 seconds.\n",
      "Scoremap size does not match background image size. Need to resize: 0.08 seconds.\n",
      "Generate scoremap overlay image 10N: 0.17 seconds\n",
      "locate patches: 0.05 seconds\n"
     ]
    },
    {
     "name": "stdout",
     "output_type": "stream",
     "text": [
      "(597, 925, 3) (597, 925)\n",
      "10N 128\n"
     ]
    },
    {
     "name": "stderr",
     "output_type": "stream",
     "text": [
      "Load pre-computed features: 0.67 seconds\n",
      "Not using image_cache.\n"
     ]
    },
    {
     "name": "stdout",
     "output_type": "stream",
     "text": [
      "/data/CSHL_data_processed/CHATM2/CHATM2_prep2_raw_NtbNormalizedAdaptiveInvertedGammaJpeg/CHATM2_slide44_2018_01_22-S1_prep2_raw_NtbNormalizedAdaptiveInvertedGammaJpeg.jpg\n"
     ]
    },
    {
     "name": "stderr",
     "output_type": "stream",
     "text": [
      "Load background image: 2.59 seconds\n",
      "Rescale background image to output resolution: 0.41 seconds\n",
      "Predict scores 10N: 0.02 seconds\n",
      "Resample scoremap 10N: 0.06 seconds\n",
      "Load and rescale background image: 0.00 seconds\n",
      "Generate scoremap overlay: 0.05 seconds.\n",
      "Scoremap size does not match background image size. Need to resize: 0.08 seconds.\n"
     ]
    },
    {
     "name": "stdout",
     "output_type": "stream",
     "text": [
      "(597, 925, 3) (597, 925)\n",
      "10N 129\n"
     ]
    },
    {
     "name": "stderr",
     "output_type": "stream",
     "text": [
      "Generate scoremap overlay image 10N: 0.15 seconds\n",
      "locate patches: 0.02 seconds\n",
      "Load pre-computed features: 0.64 seconds\n",
      "Not using image_cache.\n"
     ]
    },
    {
     "name": "stdout",
     "output_type": "stream",
     "text": [
      "/data/CSHL_data_processed/CHATM2/CHATM2_prep2_raw_NtbNormalizedAdaptiveInvertedGammaJpeg/CHATM2_slide43_2018_01_22-S2_prep2_raw_NtbNormalizedAdaptiveInvertedGammaJpeg.jpg\n"
     ]
    },
    {
     "name": "stderr",
     "output_type": "stream",
     "text": [
      "Load background image: 2.51 seconds\n",
      "Rescale background image to output resolution: 0.38 seconds\n",
      "Predict scores 10N: 0.03 seconds\n",
      "Resample scoremap 10N: 0.09 seconds\n",
      "Load and rescale background image: 0.00 seconds\n",
      "Generate scoremap overlay: 0.06 seconds.\n",
      "Scoremap size does not match background image size. Need to resize: 0.08 seconds.\n",
      "Generate scoremap overlay image 10N: 0.17 seconds\n",
      "locate patches: 0.02 seconds\n"
     ]
    },
    {
     "name": "stdout",
     "output_type": "stream",
     "text": [
      "(597, 925, 3) (597, 925)\n",
      "10N 130\n"
     ]
    },
    {
     "name": "stderr",
     "output_type": "stream",
     "text": [
      "Load pre-computed features: 0.59 seconds\n",
      "Not using image_cache.\n"
     ]
    },
    {
     "name": "stdout",
     "output_type": "stream",
     "text": [
      "/data/CSHL_data_processed/CHATM2/CHATM2_prep2_raw_NtbNormalizedAdaptiveInvertedGammaJpeg/CHATM2_slide44_2018_01_22-S2_prep2_raw_NtbNormalizedAdaptiveInvertedGammaJpeg.jpg\n"
     ]
    },
    {
     "name": "stderr",
     "output_type": "stream",
     "text": [
      "Load background image: 2.54 seconds\n",
      "Rescale background image to output resolution: 0.39 seconds\n",
      "Predict scores 10N: 0.02 seconds\n",
      "Resample scoremap 10N: 0.09 seconds\n",
      "Load and rescale background image: 0.00 seconds\n",
      "Generate scoremap overlay: 0.05 seconds.\n",
      "Scoremap size does not match background image size. Need to resize: 0.08 seconds.\n",
      "Generate scoremap overlay image 10N: 0.15 seconds\n",
      "locate patches: 0.02 seconds\n"
     ]
    },
    {
     "name": "stdout",
     "output_type": "stream",
     "text": [
      "(597, 925, 3) (597, 925)\n",
      "10N 131\n"
     ]
    },
    {
     "name": "stderr",
     "output_type": "stream",
     "text": [
      "Load pre-computed features: 0.60 seconds\n",
      "Not using image_cache.\n"
     ]
    },
    {
     "name": "stdout",
     "output_type": "stream",
     "text": [
      "/data/CSHL_data_processed/CHATM2/CHATM2_prep2_raw_NtbNormalizedAdaptiveInvertedGammaJpeg/CHATM2_slide43_2018_01_22-S3_prep2_raw_NtbNormalizedAdaptiveInvertedGammaJpeg.jpg\n"
     ]
    },
    {
     "name": "stderr",
     "output_type": "stream",
     "text": [
      "Load background image: 2.63 seconds\n",
      "Rescale background image to output resolution: 0.36 seconds\n",
      "Predict scores 10N: 0.02 seconds\n",
      "Resample scoremap 10N: 0.09 seconds\n",
      "Load and rescale background image: 0.00 seconds\n",
      "Generate scoremap overlay: 0.05 seconds.\n",
      "Scoremap size does not match background image size. Need to resize: 0.07 seconds.\n",
      "Generate scoremap overlay image 10N: 0.15 seconds\n",
      "locate patches: 0.02 seconds\n"
     ]
    },
    {
     "name": "stdout",
     "output_type": "stream",
     "text": [
      "(597, 925, 3) (597, 925)\n",
      "10N 132\n"
     ]
    },
    {
     "name": "stderr",
     "output_type": "stream",
     "text": [
      "Load pre-computed features: 0.62 seconds\n",
      "Not using image_cache.\n"
     ]
    },
    {
     "name": "stdout",
     "output_type": "stream",
     "text": [
      "/data/CSHL_data_processed/CHATM2/CHATM2_prep2_raw_NtbNormalizedAdaptiveInvertedGammaJpeg/CHATM2_slide44_2018_01_22-S3_prep2_raw_NtbNormalizedAdaptiveInvertedGammaJpeg.jpg\n"
     ]
    },
    {
     "name": "stderr",
     "output_type": "stream",
     "text": [
      "Load background image: 2.62 seconds\n",
      "Rescale background image to output resolution: 0.39 seconds\n",
      "Predict scores 10N: 0.02 seconds\n",
      "Resample scoremap 10N: 0.10 seconds\n",
      "Load and rescale background image: 0.00 seconds\n",
      "Generate scoremap overlay: 0.05 seconds.\n",
      "Scoremap size does not match background image size. Need to resize: 0.08 seconds.\n",
      "Generate scoremap overlay image 10N: 0.16 seconds\n",
      "locate patches: 0.02 seconds\n"
     ]
    },
    {
     "name": "stdout",
     "output_type": "stream",
     "text": [
      "(597, 925, 3) (597, 925)\n",
      "10N 133\n"
     ]
    },
    {
     "name": "stderr",
     "output_type": "stream",
     "text": [
      "Load pre-computed features: 0.65 seconds\n",
      "Not using image_cache.\n"
     ]
    },
    {
     "name": "stdout",
     "output_type": "stream",
     "text": [
      "/data/CSHL_data_processed/CHATM2/CHATM2_prep2_raw_NtbNormalizedAdaptiveInvertedGammaJpeg/CHATM2_slide45_2018_01_22-S1_prep2_raw_NtbNormalizedAdaptiveInvertedGammaJpeg.jpg\n"
     ]
    },
    {
     "name": "stderr",
     "output_type": "stream",
     "text": [
      "Load background image: 2.67 seconds\n",
      "Rescale background image to output resolution: 0.39 seconds\n",
      "Predict scores 10N: 0.03 seconds\n",
      "Resample scoremap 10N: 0.09 seconds\n",
      "Load and rescale background image: 0.00 seconds\n",
      "Generate scoremap overlay: 0.05 seconds.\n",
      "Scoremap size does not match background image size. Need to resize: 0.08 seconds.\n",
      "Generate scoremap overlay image 10N: 0.16 seconds\n",
      "locate patches: 0.02 seconds\n"
     ]
    },
    {
     "name": "stdout",
     "output_type": "stream",
     "text": [
      "(597, 925, 3) (597, 925)\n",
      "10N 134\n"
     ]
    },
    {
     "name": "stderr",
     "output_type": "stream",
     "text": [
      "Load pre-computed features: 0.63 seconds\n",
      "Not using image_cache.\n"
     ]
    },
    {
     "name": "stdout",
     "output_type": "stream",
     "text": [
      "/data/CSHL_data_processed/CHATM2/CHATM2_prep2_raw_NtbNormalizedAdaptiveInvertedGammaJpeg/CHATM2_slide46_2018_01_22-S1_prep2_raw_NtbNormalizedAdaptiveInvertedGammaJpeg.jpg\n"
     ]
    },
    {
     "name": "stderr",
     "output_type": "stream",
     "text": [
      "Load background image: 2.57 seconds\n",
      "Rescale background image to output resolution: 0.37 seconds\n",
      "Predict scores 10N: 0.02 seconds\n",
      "Resample scoremap 10N: 0.09 seconds\n",
      "Load and rescale background image: 0.00 seconds\n",
      "Generate scoremap overlay: 0.05 seconds.\n",
      "Scoremap size does not match background image size. Need to resize: 0.08 seconds.\n",
      "Generate scoremap overlay image 10N: 0.16 seconds\n",
      "locate patches: 0.02 seconds\n"
     ]
    },
    {
     "name": "stdout",
     "output_type": "stream",
     "text": [
      "(597, 925, 3) (597, 925)\n",
      "10N 135\n"
     ]
    },
    {
     "name": "stderr",
     "output_type": "stream",
     "text": [
      "Load pre-computed features: 0.64 seconds\n",
      "Not using image_cache.\n"
     ]
    },
    {
     "name": "stdout",
     "output_type": "stream",
     "text": [
      "/data/CSHL_data_processed/CHATM2/CHATM2_prep2_raw_NtbNormalizedAdaptiveInvertedGammaJpeg/CHATM2_slide45_2018_01_22-S2_prep2_raw_NtbNormalizedAdaptiveInvertedGammaJpeg.jpg\n"
     ]
    },
    {
     "name": "stderr",
     "output_type": "stream",
     "text": [
      "Load background image: 2.55 seconds\n",
      "Rescale background image to output resolution: 0.36 seconds\n",
      "Predict scores 10N: 0.02 seconds\n",
      "Resample scoremap 10N: 0.09 seconds\n",
      "Load and rescale background image: 0.00 seconds\n",
      "Generate scoremap overlay: 0.05 seconds.\n",
      "Scoremap size does not match background image size. Need to resize: 0.08 seconds.\n",
      "Generate scoremap overlay image 10N: 0.15 seconds\n",
      "locate patches: 0.02 seconds\n"
     ]
    },
    {
     "name": "stdout",
     "output_type": "stream",
     "text": [
      "(597, 925, 3) (597, 925)\n",
      "10N 136\n"
     ]
    },
    {
     "name": "stderr",
     "output_type": "stream",
     "text": [
      "Load pre-computed features: 0.65 seconds\n",
      "Not using image_cache.\n"
     ]
    },
    {
     "name": "stdout",
     "output_type": "stream",
     "text": [
      "/data/CSHL_data_processed/CHATM2/CHATM2_prep2_raw_NtbNormalizedAdaptiveInvertedGammaJpeg/CHATM2_slide46_2018_01_22-S2_prep2_raw_NtbNormalizedAdaptiveInvertedGammaJpeg.jpg\n"
     ]
    },
    {
     "name": "stderr",
     "output_type": "stream",
     "text": [
      "Load background image: 2.60 seconds\n",
      "Rescale background image to output resolution: 0.39 seconds\n",
      "Predict scores 10N: 0.03 seconds\n",
      "Resample scoremap 10N: 0.11 seconds\n",
      "Load and rescale background image: 0.00 seconds\n",
      "Generate scoremap overlay: 0.07 seconds.\n",
      "Scoremap size does not match background image size. Need to resize: 0.08 seconds.\n",
      "Generate scoremap overlay image 10N: 0.17 seconds\n",
      "locate patches: 0.02 seconds\n"
     ]
    },
    {
     "name": "stdout",
     "output_type": "stream",
     "text": [
      "(597, 925, 3) (597, 925)\n",
      "10N 137\n"
     ]
    },
    {
     "name": "stderr",
     "output_type": "stream",
     "text": [
      "Load pre-computed features: 0.68 seconds\n",
      "Not using image_cache.\n"
     ]
    },
    {
     "name": "stdout",
     "output_type": "stream",
     "text": [
      "/data/CSHL_data_processed/CHATM2/CHATM2_prep2_raw_NtbNormalizedAdaptiveInvertedGammaJpeg/CHATM2_slide45_2018_01_22-S3_prep2_raw_NtbNormalizedAdaptiveInvertedGammaJpeg.jpg\n"
     ]
    },
    {
     "name": "stderr",
     "output_type": "stream",
     "text": [
      "Load background image: 2.73 seconds\n",
      "Rescale background image to output resolution: 0.36 seconds\n",
      "Predict scores 10N: 0.02 seconds\n",
      "Resample scoremap 10N: 0.09 seconds\n",
      "Load and rescale background image: 0.00 seconds\n",
      "Generate scoremap overlay: 0.05 seconds.\n",
      "Scoremap size does not match background image size. Need to resize: 0.08 seconds.\n",
      "Generate scoremap overlay image 10N: 0.16 seconds\n",
      "locate patches: 0.02 seconds\n"
     ]
    },
    {
     "name": "stdout",
     "output_type": "stream",
     "text": [
      "(597, 925, 3) (597, 925)\n",
      "10N 138\n"
     ]
    },
    {
     "name": "stderr",
     "output_type": "stream",
     "text": [
      "Load pre-computed features: 0.63 seconds\n",
      "Not using image_cache.\n"
     ]
    },
    {
     "name": "stdout",
     "output_type": "stream",
     "text": [
      "/data/CSHL_data_processed/CHATM2/CHATM2_prep2_raw_NtbNormalizedAdaptiveInvertedGammaJpeg/CHATM2_slide46_2018_01_22-S3_prep2_raw_NtbNormalizedAdaptiveInvertedGammaJpeg.jpg\n"
     ]
    },
    {
     "name": "stderr",
     "output_type": "stream",
     "text": [
      "Load background image: 2.63 seconds\n",
      "Rescale background image to output resolution: 0.39 seconds\n",
      "Predict scores 10N: 0.02 seconds\n",
      "Resample scoremap 10N: 0.10 seconds\n",
      "Load and rescale background image: 0.00 seconds\n",
      "Generate scoremap overlay: 0.06 seconds.\n",
      "Scoremap size does not match background image size. Need to resize: 0.09 seconds.\n",
      "Generate scoremap overlay image 10N: 0.18 seconds\n",
      "locate patches: 0.02 seconds\n"
     ]
    },
    {
     "name": "stdout",
     "output_type": "stream",
     "text": [
      "(597, 925, 3) (597, 925)\n",
      "10N 140\n"
     ]
    },
    {
     "name": "stderr",
     "output_type": "stream",
     "text": [
      "Load pre-computed features: 0.73 seconds\n",
      "Not using image_cache.\n"
     ]
    },
    {
     "name": "stdout",
     "output_type": "stream",
     "text": [
      "/data/CSHL_data_processed/CHATM2/CHATM2_prep2_raw_NtbNormalizedAdaptiveInvertedGammaJpeg/CHATM2_slide48_2018_01_22-S1_prep2_raw_NtbNormalizedAdaptiveInvertedGammaJpeg.jpg\n"
     ]
    },
    {
     "name": "stderr",
     "output_type": "stream",
     "text": [
      "Load background image: 2.87 seconds\n",
      "Rescale background image to output resolution: 0.36 seconds\n",
      "Predict scores 10N: 0.02 seconds\n",
      "Resample scoremap 10N: 0.06 seconds\n",
      "Load and rescale background image: 0.00 seconds\n",
      "Generate scoremap overlay: 0.05 seconds.\n",
      "Scoremap size does not match background image size. Need to resize: 0.08 seconds.\n"
     ]
    },
    {
     "name": "stdout",
     "output_type": "stream",
     "text": [
      "(597, 925, 3) (597, 925)\n",
      "10N 142\n"
     ]
    },
    {
     "name": "stderr",
     "output_type": "stream",
     "text": [
      "Generate scoremap overlay image 10N: 0.16 seconds\n",
      "locate patches: 0.02 seconds\n",
      "Load pre-computed features: 0.65 seconds\n",
      "Not using image_cache.\n"
     ]
    },
    {
     "name": "stdout",
     "output_type": "stream",
     "text": [
      "/data/CSHL_data_processed/CHATM2/CHATM2_prep2_raw_NtbNormalizedAdaptiveInvertedGammaJpeg/CHATM2_slide48_2018_01_22-S2_prep2_raw_NtbNormalizedAdaptiveInvertedGammaJpeg.jpg\n"
     ]
    },
    {
     "name": "stderr",
     "output_type": "stream",
     "text": [
      "Load background image: 2.58 seconds\n",
      "Rescale background image to output resolution: 0.39 seconds\n",
      "Predict scores 10N: 0.02 seconds\n",
      "Resample scoremap 10N: 0.06 seconds\n",
      "Load and rescale background image: 0.00 seconds\n",
      "Generate scoremap overlay: 0.06 seconds.\n",
      "Scoremap size does not match background image size. Need to resize: 0.08 seconds.\n"
     ]
    },
    {
     "name": "stdout",
     "output_type": "stream",
     "text": [
      "(597, 925, 3) (597, 925)\n",
      "10N 144\n"
     ]
    },
    {
     "name": "stderr",
     "output_type": "stream",
     "text": [
      "Generate scoremap overlay image 10N: 0.16 seconds\n",
      "locate patches: 0.02 seconds\n",
      "Load pre-computed features: 0.74 seconds\n",
      "Not using image_cache.\n"
     ]
    },
    {
     "name": "stdout",
     "output_type": "stream",
     "text": [
      "/data/CSHL_data_processed/CHATM2/CHATM2_prep2_raw_NtbNormalizedAdaptiveInvertedGammaJpeg/CHATM2_slide48_2018_01_22-S3_prep2_raw_NtbNormalizedAdaptiveInvertedGammaJpeg.jpg\n"
     ]
    },
    {
     "name": "stderr",
     "output_type": "stream",
     "text": [
      "Load background image: 2.62 seconds\n",
      "Rescale background image to output resolution: 0.40 seconds\n",
      "Predict scores 10N: 0.02 seconds\n",
      "Resample scoremap 10N: 0.09 seconds\n",
      "Load and rescale background image: 0.00 seconds\n",
      "Generate scoremap overlay: 0.07 seconds.\n",
      "Scoremap size does not match background image size. Need to resize: 0.08 seconds.\n",
      "Generate scoremap overlay image 10N: 0.19 seconds\n",
      "locate patches: 0.02 seconds\n"
     ]
    },
    {
     "name": "stdout",
     "output_type": "stream",
     "text": [
      "(597, 925, 3) (597, 925)\n",
      "10N 145\n"
     ]
    },
    {
     "name": "stderr",
     "output_type": "stream",
     "text": [
      "Load pre-computed features: 0.76 seconds\n",
      "Not using image_cache.\n"
     ]
    },
    {
     "name": "stdout",
     "output_type": "stream",
     "text": [
      "/data/CSHL_data_processed/CHATM2/CHATM2_prep2_raw_NtbNormalizedAdaptiveInvertedGammaJpeg/CHATM2_slide49_2018_01_22-S1_prep2_raw_NtbNormalizedAdaptiveInvertedGammaJpeg.jpg\n"
     ]
    },
    {
     "name": "stderr",
     "output_type": "stream",
     "text": [
      "Load background image: 2.84 seconds\n",
      "Rescale background image to output resolution: 0.37 seconds\n",
      "Predict scores 10N: 0.02 seconds\n",
      "Resample scoremap 10N: 0.09 seconds\n",
      "Load and rescale background image: 0.00 seconds\n",
      "Generate scoremap overlay: 0.05 seconds.\n",
      "Scoremap size does not match background image size. Need to resize: 0.08 seconds.\n",
      "Generate scoremap overlay image 10N: 0.16 seconds\n",
      "locate patches: 0.02 seconds\n"
     ]
    },
    {
     "name": "stdout",
     "output_type": "stream",
     "text": [
      "(597, 925, 3) (597, 925)\n",
      "10N 146\n"
     ]
    },
    {
     "name": "stderr",
     "output_type": "stream",
     "text": [
      "Load pre-computed features: 0.61 seconds\n",
      "Not using image_cache.\n"
     ]
    },
    {
     "name": "stdout",
     "output_type": "stream",
     "text": [
      "/data/CSHL_data_processed/CHATM2/CHATM2_prep2_raw_NtbNormalizedAdaptiveInvertedGammaJpeg/CHATM2_slide50_2018_01_22-S1_prep2_raw_NtbNormalizedAdaptiveInvertedGammaJpeg.jpg\n"
     ]
    },
    {
     "name": "stderr",
     "output_type": "stream",
     "text": [
      "Load background image: 2.60 seconds\n",
      "Rescale background image to output resolution: 0.36 seconds\n",
      "Predict scores 10N: 0.02 seconds\n",
      "Resample scoremap 10N: 0.09 seconds\n",
      "Load and rescale background image: 0.00 seconds\n",
      "Generate scoremap overlay: 0.05 seconds.\n",
      "Scoremap size does not match background image size. Need to resize: 0.08 seconds.\n",
      "Generate scoremap overlay image 10N: 0.16 seconds\n",
      "locate patches: 0.02 seconds\n"
     ]
    },
    {
     "name": "stdout",
     "output_type": "stream",
     "text": [
      "(597, 925, 3) (597, 925)\n",
      "10N 147\n"
     ]
    },
    {
     "name": "stderr",
     "output_type": "stream",
     "text": [
      "Load pre-computed features: 0.62 seconds\n",
      "Not using image_cache.\n"
     ]
    },
    {
     "name": "stdout",
     "output_type": "stream",
     "text": [
      "/data/CSHL_data_processed/CHATM2/CHATM2_prep2_raw_NtbNormalizedAdaptiveInvertedGammaJpeg/CHATM2_slide49_2018_01_22-S2_prep2_raw_NtbNormalizedAdaptiveInvertedGammaJpeg.jpg\n"
     ]
    },
    {
     "name": "stderr",
     "output_type": "stream",
     "text": [
      "Load background image: 2.62 seconds\n",
      "Rescale background image to output resolution: 0.36 seconds\n",
      "Predict scores 10N: 0.03 seconds\n",
      "Resample scoremap 10N: 0.09 seconds\n",
      "Load and rescale background image: 0.00 seconds\n",
      "Generate scoremap overlay: 0.05 seconds.\n",
      "Scoremap size does not match background image size. Need to resize: 0.08 seconds.\n",
      "Generate scoremap overlay image 10N: 0.15 seconds\n",
      "locate patches: 0.02 seconds\n"
     ]
    },
    {
     "name": "stdout",
     "output_type": "stream",
     "text": [
      "(597, 925, 3) (597, 925)\n",
      "10N 148\n"
     ]
    },
    {
     "name": "stderr",
     "output_type": "stream",
     "text": [
      "Load pre-computed features: 0.61 seconds\n",
      "Not using image_cache.\n"
     ]
    },
    {
     "name": "stdout",
     "output_type": "stream",
     "text": [
      "/data/CSHL_data_processed/CHATM2/CHATM2_prep2_raw_NtbNormalizedAdaptiveInvertedGammaJpeg/CHATM2_slide50_2018_01_22-S2_prep2_raw_NtbNormalizedAdaptiveInvertedGammaJpeg.jpg\n"
     ]
    },
    {
     "name": "stderr",
     "output_type": "stream",
     "text": [
      "Load background image: 2.57 seconds\n",
      "Rescale background image to output resolution: 0.35 seconds\n",
      "Predict scores 10N: 0.02 seconds\n",
      "Resample scoremap 10N: 0.06 seconds\n",
      "Load and rescale background image: 0.00 seconds\n",
      "Generate scoremap overlay: 0.05 seconds.\n",
      "Scoremap size does not match background image size. Need to resize: 0.08 seconds.\n"
     ]
    },
    {
     "name": "stdout",
     "output_type": "stream",
     "text": [
      "(597, 925, 3) (597, 925)\n",
      "10N 150\n"
     ]
    },
    {
     "name": "stderr",
     "output_type": "stream",
     "text": [
      "Generate scoremap overlay image 10N: 0.16 seconds\n",
      "locate patches: 0.02 seconds\n",
      "Load pre-computed features: 0.66 seconds\n",
      "Not using image_cache.\n"
     ]
    },
    {
     "name": "stdout",
     "output_type": "stream",
     "text": [
      "/data/CSHL_data_processed/CHATM2/CHATM2_prep2_raw_NtbNormalizedAdaptiveInvertedGammaJpeg/CHATM2_slide50_2018_01_22-S3_prep2_raw_NtbNormalizedAdaptiveInvertedGammaJpeg.jpg\n"
     ]
    },
    {
     "name": "stderr",
     "output_type": "stream",
     "text": [
      "Load background image: 2.67 seconds\n",
      "Rescale background image to output resolution: 0.36 seconds\n",
      "Predict scores 10N: 0.02 seconds\n",
      "Resample scoremap 10N: 0.09 seconds\n",
      "Load and rescale background image: 0.00 seconds\n",
      "Generate scoremap overlay: 0.06 seconds.\n",
      "Scoremap size does not match background image size. Need to resize: 0.08 seconds.\n",
      "Generate scoremap overlay image 10N: 0.18 seconds\n",
      "locate patches: 0.02 seconds\n"
     ]
    },
    {
     "name": "stdout",
     "output_type": "stream",
     "text": [
      "(597, 925, 3) (597, 925)\n",
      "10N 151\n"
     ]
    },
    {
     "name": "stderr",
     "output_type": "stream",
     "text": [
      "Load pre-computed features: 0.63 seconds\n",
      "Not using image_cache.\n"
     ]
    },
    {
     "name": "stdout",
     "output_type": "stream",
     "text": [
      "/data/CSHL_data_processed/CHATM2/CHATM2_prep2_raw_NtbNormalizedAdaptiveInvertedGammaJpeg/CHATM2_slide51_2018_01_22-S1_prep2_raw_NtbNormalizedAdaptiveInvertedGammaJpeg.jpg\n"
     ]
    },
    {
     "name": "stderr",
     "output_type": "stream",
     "text": [
      "Load background image: 2.53 seconds\n",
      "Rescale background image to output resolution: 0.36 seconds\n",
      "Predict scores 10N: 0.02 seconds\n",
      "Resample scoremap 10N: 0.09 seconds\n",
      "Load and rescale background image: 0.00 seconds\n",
      "Generate scoremap overlay: 0.05 seconds.\n",
      "Scoremap size does not match background image size. Need to resize: 0.08 seconds.\n",
      "Generate scoremap overlay image 10N: 0.15 seconds\n",
      "locate patches: 0.02 seconds\n"
     ]
    },
    {
     "name": "stdout",
     "output_type": "stream",
     "text": [
      "(597, 925, 3) (597, 925)\n",
      "10N 152\n"
     ]
    },
    {
     "name": "stderr",
     "output_type": "stream",
     "text": [
      "Load pre-computed features: 0.51 seconds\n",
      "Not using image_cache.\n"
     ]
    },
    {
     "name": "stdout",
     "output_type": "stream",
     "text": [
      "/data/CSHL_data_processed/CHATM2/CHATM2_prep2_raw_NtbNormalizedAdaptiveInvertedGammaJpeg/CHATM2_slide52_2018_01_22-S1_prep2_raw_NtbNormalizedAdaptiveInvertedGammaJpeg.jpg\n"
     ]
    },
    {
     "name": "stderr",
     "output_type": "stream",
     "text": [
      "Load background image: 2.26 seconds\n",
      "Rescale background image to output resolution: 0.46 seconds\n",
      "Predict scores 10N: 0.01 seconds\n",
      "Resample scoremap 10N: 0.09 seconds\n",
      "Load and rescale background image: 0.00 seconds\n",
      "Generate scoremap overlay: 0.05 seconds.\n",
      "Scoremap size does not match background image size. Need to resize: 0.07 seconds.\n",
      "Generate scoremap overlay image 10N: 0.15 seconds\n",
      "locate patches: 0.02 seconds\n"
     ]
    },
    {
     "name": "stdout",
     "output_type": "stream",
     "text": [
      "(597, 925, 3) (597, 925)\n",
      "10N 153\n"
     ]
    },
    {
     "name": "stderr",
     "output_type": "stream",
     "text": [
      "Load pre-computed features: 0.69 seconds\n",
      "Not using image_cache.\n"
     ]
    },
    {
     "name": "stdout",
     "output_type": "stream",
     "text": [
      "/data/CSHL_data_processed/CHATM2/CHATM2_prep2_raw_NtbNormalizedAdaptiveInvertedGammaJpeg/CHATM2_slide51_2018_01_22-S2_prep2_raw_NtbNormalizedAdaptiveInvertedGammaJpeg.jpg\n"
     ]
    },
    {
     "name": "stderr",
     "output_type": "stream",
     "text": [
      "Load background image: 2.85 seconds\n",
      "Rescale background image to output resolution: 0.43 seconds\n",
      "Predict scores 10N: 0.02 seconds\n",
      "Resample scoremap 10N: 0.09 seconds\n",
      "Load and rescale background image: 0.00 seconds\n",
      "Generate scoremap overlay: 0.05 seconds.\n",
      "Scoremap size does not match background image size. Need to resize: 0.08 seconds.\n",
      "Generate scoremap overlay image 10N: 0.16 seconds\n",
      "locate patches: 0.02 seconds\n"
     ]
    },
    {
     "name": "stdout",
     "output_type": "stream",
     "text": [
      "(597, 925, 3) (597, 925)\n",
      "10N 154\n"
     ]
    },
    {
     "name": "stderr",
     "output_type": "stream",
     "text": [
      "Load pre-computed features: 0.55 seconds\n",
      "Not using image_cache.\n"
     ]
    },
    {
     "name": "stdout",
     "output_type": "stream",
     "text": [
      "/data/CSHL_data_processed/CHATM2/CHATM2_prep2_raw_NtbNormalizedAdaptiveInvertedGammaJpeg/CHATM2_slide52_2018_01_22-S2_prep2_raw_NtbNormalizedAdaptiveInvertedGammaJpeg.jpg\n"
     ]
    },
    {
     "name": "stderr",
     "output_type": "stream",
     "text": [
      "Load background image: 2.39 seconds\n",
      "Rescale background image to output resolution: 0.42 seconds\n",
      "Predict scores 10N: 0.01 seconds\n",
      "Resample scoremap 10N: 0.09 seconds\n",
      "Load and rescale background image: 0.00 seconds\n",
      "Generate scoremap overlay: 0.05 seconds.\n",
      "Scoremap size does not match background image size. Need to resize: 0.08 seconds.\n",
      "Generate scoremap overlay image 10N: 0.16 seconds\n",
      "locate patches: 0.02 seconds\n"
     ]
    },
    {
     "name": "stdout",
     "output_type": "stream",
     "text": [
      "(597, 925, 3) (597, 925)\n",
      "10N 155\n"
     ]
    },
    {
     "name": "stderr",
     "output_type": "stream",
     "text": [
      "Load pre-computed features: 0.66 seconds\n",
      "Not using image_cache.\n"
     ]
    },
    {
     "name": "stdout",
     "output_type": "stream",
     "text": [
      "/data/CSHL_data_processed/CHATM2/CHATM2_prep2_raw_NtbNormalizedAdaptiveInvertedGammaJpeg/CHATM2_slide51_2018_01_22-S3_prep2_raw_NtbNormalizedAdaptiveInvertedGammaJpeg.jpg\n"
     ]
    },
    {
     "name": "stderr",
     "output_type": "stream",
     "text": [
      "Load background image: 2.76 seconds\n",
      "Rescale background image to output resolution: 0.37 seconds\n",
      "Predict scores 10N: 0.02 seconds\n",
      "Resample scoremap 10N: 0.09 seconds\n",
      "Load and rescale background image: 0.00 seconds\n",
      "Generate scoremap overlay: 0.05 seconds.\n",
      "Scoremap size does not match background image size. Need to resize: 0.08 seconds.\n",
      "Generate scoremap overlay image 10N: 0.15 seconds\n",
      "locate patches: 0.02 seconds\n"
     ]
    },
    {
     "name": "stdout",
     "output_type": "stream",
     "text": [
      "(597, 925, 3) (597, 925)\n",
      "10N 156\n"
     ]
    },
    {
     "name": "stderr",
     "output_type": "stream",
     "text": [
      "Load pre-computed features: 0.64 seconds\n",
      "Not using image_cache.\n"
     ]
    },
    {
     "name": "stdout",
     "output_type": "stream",
     "text": [
      "/data/CSHL_data_processed/CHATM2/CHATM2_prep2_raw_NtbNormalizedAdaptiveInvertedGammaJpeg/CHATM2_slide52_2018_01_22-S3_prep2_raw_NtbNormalizedAdaptiveInvertedGammaJpeg.jpg\n"
     ]
    },
    {
     "name": "stderr",
     "output_type": "stream",
     "text": [
      "Load background image: 2.26 seconds\n",
      "Rescale background image to output resolution: 0.36 seconds\n",
      "Predict scores 10N: 0.01 seconds\n",
      "Resample scoremap 10N: 0.10 seconds\n",
      "Load and rescale background image: 0.00 seconds\n",
      "Generate scoremap overlay: 0.05 seconds.\n",
      "Scoremap size does not match background image size. Need to resize: 0.08 seconds.\n",
      "Generate scoremap overlay image 10N: 0.16 seconds\n",
      "locate patches: 0.02 seconds\n"
     ]
    },
    {
     "name": "stdout",
     "output_type": "stream",
     "text": [
      "(597, 925, 3) (597, 925)\n",
      "10N 157\n"
     ]
    },
    {
     "name": "stderr",
     "output_type": "stream",
     "text": [
      "Load pre-computed features: 0.67 seconds\n",
      "Not using image_cache.\n"
     ]
    },
    {
     "name": "stdout",
     "output_type": "stream",
     "text": [
      "/data/CSHL_data_processed/CHATM2/CHATM2_prep2_raw_NtbNormalizedAdaptiveInvertedGammaJpeg/CHATM2_slide53_2018_01_22-S1_prep2_raw_NtbNormalizedAdaptiveInvertedGammaJpeg.jpg\n"
     ]
    },
    {
     "name": "stderr",
     "output_type": "stream",
     "text": [
      "Load background image: 2.55 seconds\n",
      "Rescale background image to output resolution: 0.36 seconds\n",
      "Predict scores 10N: 0.02 seconds\n",
      "Resample scoremap 10N: 0.09 seconds\n",
      "Load and rescale background image: 0.00 seconds\n",
      "Generate scoremap overlay: 0.05 seconds.\n",
      "Scoremap size does not match background image size. Need to resize: 0.08 seconds.\n",
      "Generate scoremap overlay image 10N: 0.16 seconds\n",
      "locate patches: 0.02 seconds\n"
     ]
    },
    {
     "name": "stdout",
     "output_type": "stream",
     "text": [
      "(597, 925, 3) (597, 925)\n",
      "10N 158\n"
     ]
    },
    {
     "name": "stderr",
     "output_type": "stream",
     "text": [
      "Load pre-computed features: 0.50 seconds\n",
      "Not using image_cache.\n"
     ]
    },
    {
     "name": "stdout",
     "output_type": "stream",
     "text": [
      "/data/CSHL_data_processed/CHATM2/CHATM2_prep2_raw_NtbNormalizedAdaptiveInvertedGammaJpeg/CHATM2_slide54_2018_01_22-S1_prep2_raw_NtbNormalizedAdaptiveInvertedGammaJpeg.jpg\n"
     ]
    },
    {
     "name": "stderr",
     "output_type": "stream",
     "text": [
      "Load background image: 2.29 seconds\n",
      "Rescale background image to output resolution: 0.36 seconds\n",
      "Predict scores 10N: 0.01 seconds\n",
      "Resample scoremap 10N: 0.06 seconds\n",
      "Load and rescale background image: 0.00 seconds\n",
      "Generate scoremap overlay: 0.05 seconds.\n",
      "Scoremap size does not match background image size. Need to resize: 0.07 seconds.\n"
     ]
    },
    {
     "name": "stdout",
     "output_type": "stream",
     "text": [
      "(597, 925, 3) (597, 925)\n",
      "10N 159\n"
     ]
    },
    {
     "name": "stderr",
     "output_type": "stream",
     "text": [
      "Generate scoremap overlay image 10N: 0.15 seconds\n",
      "locate patches: 0.02 seconds\n",
      "Load pre-computed features: 0.69 seconds\n",
      "Not using image_cache.\n"
     ]
    },
    {
     "name": "stdout",
     "output_type": "stream",
     "text": [
      "/data/CSHL_data_processed/CHATM2/CHATM2_prep2_raw_NtbNormalizedAdaptiveInvertedGammaJpeg/CHATM2_slide53_2018_01_22-S2_prep2_raw_NtbNormalizedAdaptiveInvertedGammaJpeg.jpg\n"
     ]
    },
    {
     "name": "stderr",
     "output_type": "stream",
     "text": [
      "Load background image: 2.58 seconds\n",
      "Rescale background image to output resolution: 0.36 seconds\n",
      "Predict scores 10N: 0.02 seconds\n",
      "Resample scoremap 10N: 0.06 seconds\n",
      "Load and rescale background image: 0.00 seconds\n",
      "Generate scoremap overlay: 0.05 seconds.\n",
      "Scoremap size does not match background image size. Need to resize: 0.07 seconds.\n"
     ]
    },
    {
     "name": "stdout",
     "output_type": "stream",
     "text": [
      "(597, 925, 3) (597, 925)\n",
      "10N 160\n"
     ]
    },
    {
     "name": "stderr",
     "output_type": "stream",
     "text": [
      "Generate scoremap overlay image 10N: 0.15 seconds\n",
      "locate patches: 0.02 seconds\n",
      "Load pre-computed features: 0.69 seconds\n",
      "Not using image_cache.\n"
     ]
    },
    {
     "name": "stdout",
     "output_type": "stream",
     "text": [
      "/data/CSHL_data_processed/CHATM2/CHATM2_prep2_raw_NtbNormalizedAdaptiveInvertedGammaJpeg/CHATM2_slide54_2018_01_22-S2_prep2_raw_NtbNormalizedAdaptiveInvertedGammaJpeg.jpg\n"
     ]
    },
    {
     "name": "stderr",
     "output_type": "stream",
     "text": [
      "Load background image: 2.58 seconds\n",
      "Rescale background image to output resolution: 0.36 seconds\n",
      "Predict scores 10N: 0.03 seconds\n",
      "Resample scoremap 10N: 0.09 seconds\n",
      "Load and rescale background image: 0.00 seconds\n",
      "Generate scoremap overlay: 0.06 seconds.\n",
      "Scoremap size does not match background image size. Need to resize: 0.08 seconds.\n",
      "Generate scoremap overlay image 10N: 0.16 seconds\n",
      "locate patches: 0.02 seconds\n"
     ]
    },
    {
     "name": "stdout",
     "output_type": "stream",
     "text": [
      "(597, 925, 3) (597, 925)\n",
      "10N 161\n"
     ]
    },
    {
     "name": "stderr",
     "output_type": "stream",
     "text": [
      "Load pre-computed features: 0.70 seconds\n",
      "Not using image_cache.\n"
     ]
    },
    {
     "name": "stdout",
     "output_type": "stream",
     "text": [
      "/data/CSHL_data_processed/CHATM2/CHATM2_prep2_raw_NtbNormalizedAdaptiveInvertedGammaJpeg/CHATM2_slide53_2018_01_22-S3_prep2_raw_NtbNormalizedAdaptiveInvertedGammaJpeg.jpg\n"
     ]
    },
    {
     "name": "stderr",
     "output_type": "stream",
     "text": [
      "Load background image: 2.71 seconds\n",
      "Rescale background image to output resolution: 0.36 seconds\n",
      "Predict scores 10N: 0.02 seconds\n",
      "Resample scoremap 10N: 0.09 seconds\n",
      "Load and rescale background image: 0.00 seconds\n",
      "Generate scoremap overlay: 0.06 seconds.\n",
      "Scoremap size does not match background image size. Need to resize: 0.07 seconds.\n",
      "Generate scoremap overlay image 10N: 0.16 seconds\n",
      "locate patches: 0.02 seconds\n"
     ]
    },
    {
     "name": "stdout",
     "output_type": "stream",
     "text": [
      "(597, 925, 3) (597, 925)\n",
      "10N 162\n"
     ]
    },
    {
     "name": "stderr",
     "output_type": "stream",
     "text": [
      "Load pre-computed features: 0.70 seconds\n",
      "Not using image_cache.\n"
     ]
    },
    {
     "name": "stdout",
     "output_type": "stream",
     "text": [
      "/data/CSHL_data_processed/CHATM2/CHATM2_prep2_raw_NtbNormalizedAdaptiveInvertedGammaJpeg/CHATM2_slide54_2018_01_22-S3_prep2_raw_NtbNormalizedAdaptiveInvertedGammaJpeg.jpg\n"
     ]
    },
    {
     "name": "stderr",
     "output_type": "stream",
     "text": [
      "Load background image: 2.63 seconds\n",
      "Rescale background image to output resolution: 0.36 seconds\n",
      "Predict scores 10N: 0.02 seconds\n",
      "Resample scoremap 10N: 0.09 seconds\n",
      "Load and rescale background image: 0.00 seconds\n",
      "Generate scoremap overlay: 0.05 seconds.\n",
      "Scoremap size does not match background image size. Need to resize: 0.08 seconds.\n",
      "Generate scoremap overlay image 10N: 0.16 seconds\n",
      "locate patches: 0.02 seconds\n"
     ]
    },
    {
     "name": "stdout",
     "output_type": "stream",
     "text": [
      "(597, 925, 3) (597, 925)\n",
      "10N 163\n"
     ]
    },
    {
     "name": "stderr",
     "output_type": "stream",
     "text": [
      "Load pre-computed features: 0.63 seconds\n",
      "Not using image_cache.\n"
     ]
    },
    {
     "name": "stdout",
     "output_type": "stream",
     "text": [
      "/data/CSHL_data_processed/CHATM2/CHATM2_prep2_raw_NtbNormalizedAdaptiveInvertedGammaJpeg/CHATM2_slide55_2018_01_22-S1_prep2_raw_NtbNormalizedAdaptiveInvertedGammaJpeg.jpg\n"
     ]
    },
    {
     "name": "stderr",
     "output_type": "stream",
     "text": [
      "Load background image: 2.56 seconds\n",
      "Rescale background image to output resolution: 0.37 seconds\n",
      "Predict scores 10N: 0.02 seconds\n",
      "Resample scoremap 10N: 0.09 seconds\n",
      "Load and rescale background image: 0.00 seconds\n",
      "Generate scoremap overlay: 0.05 seconds.\n",
      "Scoremap size does not match background image size. Need to resize: 0.08 seconds.\n",
      "Generate scoremap overlay image 10N: 0.15 seconds\n",
      "locate patches: 0.02 seconds\n"
     ]
    },
    {
     "name": "stdout",
     "output_type": "stream",
     "text": [
      "(597, 925, 3) (597, 925)\n",
      "10N 164\n"
     ]
    },
    {
     "name": "stderr",
     "output_type": "stream",
     "text": [
      "Load pre-computed features: 0.68 seconds\n",
      "Not using image_cache.\n"
     ]
    },
    {
     "name": "stdout",
     "output_type": "stream",
     "text": [
      "/data/CSHL_data_processed/CHATM2/CHATM2_prep2_raw_NtbNormalizedAdaptiveInvertedGammaJpeg/CHATM2_slide56_2018_01_22-S1_prep2_raw_NtbNormalizedAdaptiveInvertedGammaJpeg.jpg\n"
     ]
    },
    {
     "name": "stderr",
     "output_type": "stream",
     "text": [
      "Load background image: 2.55 seconds\n",
      "Rescale background image to output resolution: 0.36 seconds\n",
      "Predict scores 10N: 0.02 seconds\n",
      "Resample scoremap 10N: 0.09 seconds\n",
      "Load and rescale background image: 0.00 seconds\n",
      "Generate scoremap overlay: 0.05 seconds.\n",
      "Scoremap size does not match background image size. Need to resize: 0.08 seconds.\n",
      "Generate scoremap overlay image 10N: 0.16 seconds\n",
      "locate patches: 0.02 seconds\n"
     ]
    },
    {
     "name": "stdout",
     "output_type": "stream",
     "text": [
      "(597, 925, 3) (597, 925)\n",
      "10N 165\n"
     ]
    },
    {
     "name": "stderr",
     "output_type": "stream",
     "text": [
      "Load pre-computed features: 0.66 seconds\n",
      "Not using image_cache.\n"
     ]
    },
    {
     "name": "stdout",
     "output_type": "stream",
     "text": [
      "/data/CSHL_data_processed/CHATM2/CHATM2_prep2_raw_NtbNormalizedAdaptiveInvertedGammaJpeg/CHATM2_slide55_2018_01_22-S2_prep2_raw_NtbNormalizedAdaptiveInvertedGammaJpeg.jpg\n"
     ]
    },
    {
     "name": "stderr",
     "output_type": "stream",
     "text": [
      "Load background image: 2.57 seconds\n",
      "Rescale background image to output resolution: 0.36 seconds\n",
      "Predict scores 10N: 0.02 seconds\n",
      "Resample scoremap 10N: 0.09 seconds\n",
      "Load and rescale background image: 0.00 seconds\n",
      "Generate scoremap overlay: 0.05 seconds.\n",
      "Scoremap size does not match background image size. Need to resize: 0.08 seconds.\n",
      "Generate scoremap overlay image 10N: 0.15 seconds\n",
      "locate patches: 0.02 seconds\n"
     ]
    },
    {
     "name": "stdout",
     "output_type": "stream",
     "text": [
      "(597, 925, 3) (597, 925)\n",
      "10N 166\n"
     ]
    },
    {
     "name": "stderr",
     "output_type": "stream",
     "text": [
      "Load pre-computed features: 0.63 seconds\n",
      "Not using image_cache.\n"
     ]
    },
    {
     "name": "stdout",
     "output_type": "stream",
     "text": [
      "/data/CSHL_data_processed/CHATM2/CHATM2_prep2_raw_NtbNormalizedAdaptiveInvertedGammaJpeg/CHATM2_slide56_2018_01_22-S2_prep2_raw_NtbNormalizedAdaptiveInvertedGammaJpeg.jpg\n"
     ]
    },
    {
     "name": "stderr",
     "output_type": "stream",
     "text": [
      "Load background image: 2.47 seconds\n",
      "Rescale background image to output resolution: 0.36 seconds\n",
      "Predict scores 10N: 0.02 seconds\n",
      "Resample scoremap 10N: 0.10 seconds\n",
      "Load and rescale background image: 0.00 seconds\n",
      "Generate scoremap overlay: 0.06 seconds.\n",
      "Scoremap size does not match background image size. Need to resize: 0.08 seconds.\n",
      "Generate scoremap overlay image 10N: 0.18 seconds\n",
      "locate patches: 0.02 seconds\n"
     ]
    },
    {
     "name": "stdout",
     "output_type": "stream",
     "text": [
      "(597, 925, 3) (597, 925)\n",
      "10N 167\n"
     ]
    },
    {
     "name": "stderr",
     "output_type": "stream",
     "text": [
      "Load pre-computed features: 0.77 seconds\n",
      "Not using image_cache.\n"
     ]
    },
    {
     "name": "stdout",
     "output_type": "stream",
     "text": [
      "/data/CSHL_data_processed/CHATM2/CHATM2_prep2_raw_NtbNormalizedAdaptiveInvertedGammaJpeg/CHATM2_slide55_2018_01_22-S3_prep2_raw_NtbNormalizedAdaptiveInvertedGammaJpeg.jpg\n"
     ]
    },
    {
     "name": "stderr",
     "output_type": "stream",
     "text": [
      "Load background image: 2.62 seconds\n",
      "Rescale background image to output resolution: 0.37 seconds\n",
      "Predict scores 10N: 0.02 seconds\n",
      "Resample scoremap 10N: 0.09 seconds\n",
      "Load and rescale background image: 0.00 seconds\n",
      "Generate scoremap overlay: 0.05 seconds.\n",
      "Scoremap size does not match background image size. Need to resize: 0.08 seconds.\n",
      "Generate scoremap overlay image 10N: 0.15 seconds\n",
      "locate patches: 0.02 seconds\n"
     ]
    },
    {
     "name": "stdout",
     "output_type": "stream",
     "text": [
      "(597, 925, 3) (597, 925)\n",
      "10N 168\n"
     ]
    },
    {
     "name": "stderr",
     "output_type": "stream",
     "text": [
      "Load pre-computed features: 0.54 seconds\n",
      "Not using image_cache.\n"
     ]
    },
    {
     "name": "stdout",
     "output_type": "stream",
     "text": [
      "/data/CSHL_data_processed/CHATM2/CHATM2_prep2_raw_NtbNormalizedAdaptiveInvertedGammaJpeg/CHATM2_slide56_2018_01_22-S3_prep2_raw_NtbNormalizedAdaptiveInvertedGammaJpeg.jpg\n"
     ]
    },
    {
     "name": "stderr",
     "output_type": "stream",
     "text": [
      "Load background image: 2.49 seconds\n",
      "Rescale background image to output resolution: 0.36 seconds\n",
      "Predict scores 10N: 0.02 seconds\n",
      "Resample scoremap 10N: 0.09 seconds\n",
      "Load and rescale background image: 0.00 seconds\n",
      "Generate scoremap overlay: 0.05 seconds.\n",
      "Scoremap size does not match background image size. Need to resize: 0.07 seconds.\n",
      "Generate scoremap overlay image 10N: 0.15 seconds\n",
      "locate patches: 0.02 seconds\n"
     ]
    },
    {
     "name": "stdout",
     "output_type": "stream",
     "text": [
      "(597, 925, 3) (597, 925)\n",
      "10N 169\n"
     ]
    },
    {
     "name": "stderr",
     "output_type": "stream",
     "text": [
      "Load pre-computed features: 0.66 seconds\n",
      "Not using image_cache.\n"
     ]
    },
    {
     "name": "stdout",
     "output_type": "stream",
     "text": [
      "/data/CSHL_data_processed/CHATM2/CHATM2_prep2_raw_NtbNormalizedAdaptiveInvertedGammaJpeg/CHATM2_slide57_2018_01_22-S1_prep2_raw_NtbNormalizedAdaptiveInvertedGammaJpeg.jpg\n"
     ]
    },
    {
     "name": "stderr",
     "output_type": "stream",
     "text": [
      "Load background image: 2.53 seconds\n",
      "Rescale background image to output resolution: 0.36 seconds\n",
      "Predict scores 10N: 0.02 seconds\n",
      "Resample scoremap 10N: 0.09 seconds\n",
      "Load and rescale background image: 0.00 seconds\n",
      "Generate scoremap overlay: 0.05 seconds.\n",
      "Scoremap size does not match background image size. Need to resize: 0.08 seconds.\n",
      "Generate scoremap overlay image 10N: 0.16 seconds\n",
      "locate patches: 0.02 seconds\n"
     ]
    },
    {
     "name": "stdout",
     "output_type": "stream",
     "text": [
      "(597, 925, 3) (597, 925)\n",
      "10N 170\n"
     ]
    },
    {
     "name": "stderr",
     "output_type": "stream",
     "text": [
      "Load pre-computed features: 0.68 seconds\n",
      "Not using image_cache.\n"
     ]
    },
    {
     "name": "stdout",
     "output_type": "stream",
     "text": [
      "/data/CSHL_data_processed/CHATM2/CHATM2_prep2_raw_NtbNormalizedAdaptiveInvertedGammaJpeg/CHATM2_slide58_2018_01_22-S1_prep2_raw_NtbNormalizedAdaptiveInvertedGammaJpeg.jpg\n"
     ]
    },
    {
     "name": "stderr",
     "output_type": "stream",
     "text": [
      "Load background image: 2.52 seconds\n",
      "Rescale background image to output resolution: 0.36 seconds\n",
      "Predict scores 10N: 0.02 seconds\n",
      "Resample scoremap 10N: 0.09 seconds\n",
      "Load and rescale background image: 0.00 seconds\n",
      "Generate scoremap overlay: 0.05 seconds.\n",
      "Scoremap size does not match background image size. Need to resize: 0.08 seconds.\n",
      "Generate scoremap overlay image 10N: 0.15 seconds\n",
      "locate patches: 0.02 seconds\n"
     ]
    },
    {
     "name": "stdout",
     "output_type": "stream",
     "text": [
      "(597, 925, 3) (597, 925)\n",
      "10N 171\n"
     ]
    },
    {
     "name": "stderr",
     "output_type": "stream",
     "text": [
      "Load pre-computed features: 0.63 seconds\n",
      "Not using image_cache.\n"
     ]
    },
    {
     "name": "stdout",
     "output_type": "stream",
     "text": [
      "/data/CSHL_data_processed/CHATM2/CHATM2_prep2_raw_NtbNormalizedAdaptiveInvertedGammaJpeg/CHATM2_slide57_2018_01_22-S2_prep2_raw_NtbNormalizedAdaptiveInvertedGammaJpeg.jpg\n"
     ]
    },
    {
     "name": "stderr",
     "output_type": "stream",
     "text": [
      "Load background image: 2.55 seconds\n",
      "Rescale background image to output resolution: 0.36 seconds\n",
      "Predict scores 10N: 0.02 seconds\n",
      "Resample scoremap 10N: 0.09 seconds\n",
      "Load and rescale background image: 0.00 seconds\n",
      "Generate scoremap overlay: 0.05 seconds.\n",
      "Scoremap size does not match background image size. Need to resize: 0.08 seconds.\n",
      "Generate scoremap overlay image 10N: 0.15 seconds\n",
      "locate patches: 0.02 seconds\n"
     ]
    },
    {
     "name": "stdout",
     "output_type": "stream",
     "text": [
      "(597, 925, 3) (597, 925)\n",
      "10N 172\n"
     ]
    },
    {
     "name": "stderr",
     "output_type": "stream",
     "text": [
      "Load pre-computed features: 0.59 seconds\n",
      "Not using image_cache.\n"
     ]
    },
    {
     "name": "stdout",
     "output_type": "stream",
     "text": [
      "/data/CSHL_data_processed/CHATM2/CHATM2_prep2_raw_NtbNormalizedAdaptiveInvertedGammaJpeg/CHATM2_slide58_2018_01_22-S2_prep2_raw_NtbNormalizedAdaptiveInvertedGammaJpeg.jpg\n"
     ]
    },
    {
     "name": "stderr",
     "output_type": "stream",
     "text": [
      "Load background image: 2.34 seconds\n",
      "Rescale background image to output resolution: 0.37 seconds\n",
      "Predict scores 10N: 0.02 seconds\n",
      "Resample scoremap 10N: 0.09 seconds\n",
      "Load and rescale background image: 0.00 seconds\n",
      "Generate scoremap overlay: 0.07 seconds.\n",
      "Scoremap size does not match background image size. Need to resize: 0.08 seconds.\n",
      "Generate scoremap overlay image 10N: 0.17 seconds\n",
      "locate patches: 0.02 seconds\n"
     ]
    },
    {
     "name": "stdout",
     "output_type": "stream",
     "text": [
      "(597, 925, 3) (597, 925)\n",
      "10N 173\n"
     ]
    },
    {
     "name": "stderr",
     "output_type": "stream",
     "text": [
      "Load pre-computed features: 0.66 seconds\n",
      "Not using image_cache.\n"
     ]
    },
    {
     "name": "stdout",
     "output_type": "stream",
     "text": [
      "/data/CSHL_data_processed/CHATM2/CHATM2_prep2_raw_NtbNormalizedAdaptiveInvertedGammaJpeg/CHATM2_slide57_2018_01_22-S3_prep2_raw_NtbNormalizedAdaptiveInvertedGammaJpeg.jpg\n"
     ]
    },
    {
     "name": "stderr",
     "output_type": "stream",
     "text": [
      "Load background image: 2.61 seconds\n",
      "Rescale background image to output resolution: 0.36 seconds\n",
      "Predict scores 10N: 0.02 seconds\n",
      "Resample scoremap 10N: 0.06 seconds\n",
      "Load and rescale background image: 0.00 seconds\n",
      "Generate scoremap overlay: 0.06 seconds.\n",
      "Scoremap size does not match background image size. Need to resize: 0.08 seconds.\n",
      "Generate scoremap overlay image 10N: 0.17 seconds\n",
      "locate patches: 0.02 seconds\n"
     ]
    },
    {
     "name": "stdout",
     "output_type": "stream",
     "text": [
      "(597, 925, 3) (597, 925)\n",
      "10N 185\n"
     ]
    },
    {
     "name": "stderr",
     "output_type": "stream",
     "text": [
      "Load pre-computed features: 0.69 seconds\n",
      "Not using image_cache.\n"
     ]
    },
    {
     "name": "stdout",
     "output_type": "stream",
     "text": [
      "/data/CSHL_data_processed/CHATM2/CHATM2_prep2_raw_NtbNormalizedAdaptiveInvertedGammaJpeg/CHATM2_slide62_2018_02_14-S1_prep2_raw_NtbNormalizedAdaptiveInvertedGammaJpeg.jpg\n"
     ]
    },
    {
     "name": "stderr",
     "output_type": "stream",
     "text": [
      "Load background image: 2.42 seconds\n",
      "Rescale background image to output resolution: 0.37 seconds\n",
      "Predict scores 10N: 0.02 seconds\n",
      "Resample scoremap 10N: 0.09 seconds\n",
      "Load and rescale background image: 0.00 seconds\n",
      "Generate scoremap overlay: 0.05 seconds.\n",
      "Scoremap size does not match background image size. Need to resize: 0.08 seconds.\n",
      "Generate scoremap overlay image 10N: 0.16 seconds\n",
      "locate patches: 0.02 seconds\n"
     ]
    },
    {
     "name": "stdout",
     "output_type": "stream",
     "text": [
      "(597, 925, 3) (597, 925)\n",
      "10N 187\n"
     ]
    },
    {
     "name": "stderr",
     "output_type": "stream",
     "text": [
      "Load pre-computed features: 0.72 seconds\n",
      "Not using image_cache.\n"
     ]
    },
    {
     "name": "stdout",
     "output_type": "stream",
     "text": [
      "/data/CSHL_data_processed/CHATM2/CHATM2_prep2_raw_NtbNormalizedAdaptiveInvertedGammaJpeg/CHATM2_slide62_2018_02_14-S2_prep2_raw_NtbNormalizedAdaptiveInvertedGammaJpeg.jpg\n"
     ]
    },
    {
     "name": "stderr",
     "output_type": "stream",
     "text": [
      "Load background image: 2.46 seconds\n",
      "Rescale background image to output resolution: 0.36 seconds\n",
      "Predict scores 10N: 0.02 seconds\n",
      "Resample scoremap 10N: 0.09 seconds\n",
      "Load and rescale background image: 0.00 seconds\n",
      "Generate scoremap overlay: 0.05 seconds.\n",
      "Scoremap size does not match background image size. Need to resize: 0.08 seconds.\n",
      "Generate scoremap overlay image 10N: 0.16 seconds\n",
      "locate patches: 0.02 seconds\n"
     ]
    },
    {
     "name": "stdout",
     "output_type": "stream",
     "text": [
      "(597, 925, 3) (597, 925)\n",
      "10N 189\n"
     ]
    },
    {
     "name": "stderr",
     "output_type": "stream",
     "text": [
      "Load pre-computed features: 0.70 seconds\n",
      "Not using image_cache.\n"
     ]
    },
    {
     "name": "stdout",
     "output_type": "stream",
     "text": [
      "/data/CSHL_data_processed/CHATM2/CHATM2_prep2_raw_NtbNormalizedAdaptiveInvertedGammaJpeg/CHATM2_slide62_2018_02_14-S3_prep2_raw_NtbNormalizedAdaptiveInvertedGammaJpeg.jpg\n"
     ]
    },
    {
     "name": "stderr",
     "output_type": "stream",
     "text": [
      "Load background image: 2.36 seconds\n",
      "Rescale background image to output resolution: 0.35 seconds\n",
      "Predict scores 10N: 0.02 seconds\n",
      "Resample scoremap 10N: 0.09 seconds\n",
      "Load and rescale background image: 0.00 seconds\n",
      "Generate scoremap overlay: 0.05 seconds.\n",
      "Scoremap size does not match background image size. Need to resize: 0.08 seconds.\n",
      "Generate scoremap overlay image 10N: 0.15 seconds\n",
      "locate patches: 0.02 seconds\n"
     ]
    },
    {
     "name": "stdout",
     "output_type": "stream",
     "text": [
      "(597, 925, 3) (597, 925)\n",
      "10N 191\n"
     ]
    },
    {
     "name": "stderr",
     "output_type": "stream",
     "text": [
      "Load pre-computed features: 0.72 seconds\n",
      "Not using image_cache.\n"
     ]
    },
    {
     "name": "stdout",
     "output_type": "stream",
     "text": [
      "/data/CSHL_data_processed/CHATM2/CHATM2_prep2_raw_NtbNormalizedAdaptiveInvertedGammaJpeg/CHATM2_slide64_2018_02_15-S1_prep2_raw_NtbNormalizedAdaptiveInvertedGammaJpeg.jpg\n"
     ]
    },
    {
     "name": "stderr",
     "output_type": "stream",
     "text": [
      "Load background image: 2.43 seconds\n",
      "Rescale background image to output resolution: 0.36 seconds\n",
      "Predict scores 10N: 0.02 seconds\n",
      "Resample scoremap 10N: 0.09 seconds\n",
      "Load and rescale background image: 0.00 seconds\n",
      "Generate scoremap overlay: 0.05 seconds.\n",
      "Scoremap size does not match background image size. Need to resize: 0.08 seconds.\n",
      "Generate scoremap overlay image 10N: 0.15 seconds\n",
      "locate patches: 0.02 seconds\n"
     ]
    },
    {
     "name": "stdout",
     "output_type": "stream",
     "text": [
      "(597, 925, 3) (597, 925)\n",
      "10N 193\n"
     ]
    },
    {
     "name": "stderr",
     "output_type": "stream",
     "text": [
      "Load pre-computed features: 0.70 seconds\n",
      "Not using image_cache.\n"
     ]
    },
    {
     "name": "stdout",
     "output_type": "stream",
     "text": [
      "/data/CSHL_data_processed/CHATM2/CHATM2_prep2_raw_NtbNormalizedAdaptiveInvertedGammaJpeg/CHATM2_slide64_2018_02_15-S2_prep2_raw_NtbNormalizedAdaptiveInvertedGammaJpeg.jpg\n"
     ]
    },
    {
     "name": "stderr",
     "output_type": "stream",
     "text": [
      "Load background image: 2.45 seconds\n",
      "Rescale background image to output resolution: 0.36 seconds\n",
      "Predict scores 10N: 0.02 seconds\n",
      "Resample scoremap 10N: 0.09 seconds\n",
      "Load and rescale background image: 0.00 seconds\n",
      "Generate scoremap overlay: 0.06 seconds.\n",
      "Scoremap size does not match background image size. Need to resize: 0.08 seconds.\n",
      "Generate scoremap overlay image 10N: 0.16 seconds\n",
      "locate patches: 0.02 seconds\n"
     ]
    },
    {
     "name": "stdout",
     "output_type": "stream",
     "text": [
      "(597, 925, 3) (597, 925)\n",
      "10N 195\n"
     ]
    },
    {
     "name": "stderr",
     "output_type": "stream",
     "text": [
      "Load pre-computed features: 0.64 seconds\n",
      "Not using image_cache.\n"
     ]
    },
    {
     "name": "stdout",
     "output_type": "stream",
     "text": [
      "/data/CSHL_data_processed/CHATM2/CHATM2_prep2_raw_NtbNormalizedAdaptiveInvertedGammaJpeg/CHATM2_slide64_2018_02_15-S3_prep2_raw_NtbNormalizedAdaptiveInvertedGammaJpeg.jpg\n"
     ]
    },
    {
     "name": "stderr",
     "output_type": "stream",
     "text": [
      "Load background image: 2.47 seconds\n",
      "Rescale background image to output resolution: 0.36 seconds\n",
      "Predict scores 10N: 0.02 seconds\n",
      "Resample scoremap 10N: 0.09 seconds\n",
      "Load and rescale background image: 0.00 seconds\n",
      "Generate scoremap overlay: 0.06 seconds.\n",
      "Scoremap size does not match background image size. Need to resize: 0.08 seconds.\n",
      "Generate scoremap overlay image 10N: 0.16 seconds\n",
      "locate patches: 0.02 seconds\n"
     ]
    },
    {
     "name": "stdout",
     "output_type": "stream",
     "text": [
      "(597, 925, 3) (597, 925)\n",
      "10N 197\n"
     ]
    },
    {
     "name": "stderr",
     "output_type": "stream",
     "text": [
      "Load pre-computed features: 0.64 seconds\n",
      "Not using image_cache.\n"
     ]
    },
    {
     "name": "stdout",
     "output_type": "stream",
     "text": [
      "/data/CSHL_data_processed/CHATM2/CHATM2_prep2_raw_NtbNormalizedAdaptiveInvertedGammaJpeg/CHATM2_slide66_2018_02_14-S1_prep2_raw_NtbNormalizedAdaptiveInvertedGammaJpeg.jpg\n"
     ]
    },
    {
     "name": "stderr",
     "output_type": "stream",
     "text": [
      "Load background image: 2.50 seconds\n",
      "Rescale background image to output resolution: 0.36 seconds\n",
      "Predict scores 10N: 0.02 seconds\n",
      "Resample scoremap 10N: 0.09 seconds\n",
      "Load and rescale background image: 0.00 seconds\n",
      "Generate scoremap overlay: 0.05 seconds.\n",
      "Scoremap size does not match background image size. Need to resize: 0.08 seconds.\n",
      "Generate scoremap overlay image 10N: 0.15 seconds\n",
      "locate patches: 0.02 seconds\n"
     ]
    },
    {
     "name": "stdout",
     "output_type": "stream",
     "text": [
      "(597, 925, 3) (597, 925)\n",
      "10N 199\n"
     ]
    },
    {
     "name": "stderr",
     "output_type": "stream",
     "text": [
      "Load pre-computed features: 0.69 seconds\n",
      "Not using image_cache.\n"
     ]
    },
    {
     "name": "stdout",
     "output_type": "stream",
     "text": [
      "/data/CSHL_data_processed/CHATM2/CHATM2_prep2_raw_NtbNormalizedAdaptiveInvertedGammaJpeg/CHATM2_slide66_2018_02_14-S2_prep2_raw_NtbNormalizedAdaptiveInvertedGammaJpeg.jpg\n"
     ]
    },
    {
     "name": "stderr",
     "output_type": "stream",
     "text": [
      "Load background image: 2.51 seconds\n",
      "Rescale background image to output resolution: 0.37 seconds\n",
      "Predict scores 10N: 0.03 seconds\n",
      "Resample scoremap 10N: 0.09 seconds\n",
      "Load and rescale background image: 0.00 seconds\n",
      "Generate scoremap overlay: 0.06 seconds.\n",
      "Scoremap size does not match background image size. Need to resize: 0.08 seconds.\n",
      "Generate scoremap overlay image 10N: 0.16 seconds\n",
      "locate patches: 0.02 seconds\n"
     ]
    },
    {
     "name": "stdout",
     "output_type": "stream",
     "text": [
      "(597, 925, 3) (597, 925)\n",
      "10N 201\n"
     ]
    },
    {
     "name": "stderr",
     "output_type": "stream",
     "text": [
      "Load pre-computed features: 0.69 seconds\n",
      "Not using image_cache.\n"
     ]
    },
    {
     "name": "stdout",
     "output_type": "stream",
     "text": [
      "/data/CSHL_data_processed/CHATM2/CHATM2_prep2_raw_NtbNormalizedAdaptiveInvertedGammaJpeg/CHATM2_slide66_2018_02_14-S3_prep2_raw_NtbNormalizedAdaptiveInvertedGammaJpeg.jpg\n"
     ]
    },
    {
     "name": "stderr",
     "output_type": "stream",
     "text": [
      "Load background image: 2.46 seconds\n",
      "Rescale background image to output resolution: 0.36 seconds\n",
      "Predict scores 10N: 0.02 seconds\n",
      "Resample scoremap 10N: 0.08 seconds\n",
      "Load and rescale background image: 0.00 seconds\n",
      "Generate scoremap overlay: 0.06 seconds.\n",
      "Scoremap size does not match background image size. Need to resize: 0.08 seconds.\n",
      "Generate scoremap overlay image 10N: 0.17 seconds\n",
      "locate patches: 0.02 seconds\n"
     ]
    },
    {
     "name": "stdout",
     "output_type": "stream",
     "text": [
      "(597, 925, 3) (597, 925)\n",
      "10N 203\n"
     ]
    },
    {
     "name": "stderr",
     "output_type": "stream",
     "text": [
      "Load pre-computed features: 0.63 seconds\n",
      "Not using image_cache.\n"
     ]
    },
    {
     "name": "stdout",
     "output_type": "stream",
     "text": [
      "/data/CSHL_data_processed/CHATM2/CHATM2_prep2_raw_NtbNormalizedAdaptiveInvertedGammaJpeg/CHATM2_slide68_2018_02_14-S1_prep2_raw_NtbNormalizedAdaptiveInvertedGammaJpeg.jpg\n"
     ]
    },
    {
     "name": "stderr",
     "output_type": "stream",
     "text": [
      "Load background image: 2.54 seconds\n",
      "Rescale background image to output resolution: 0.39 seconds\n",
      "Predict scores 10N: 0.02 seconds\n",
      "Resample scoremap 10N: 0.09 seconds\n",
      "Load and rescale background image: 0.00 seconds\n",
      "Generate scoremap overlay: 0.05 seconds.\n",
      "Scoremap size does not match background image size. Need to resize: 0.08 seconds.\n",
      "Generate scoremap overlay image 10N: 0.15 seconds\n",
      "locate patches: 0.02 seconds\n"
     ]
    },
    {
     "name": "stdout",
     "output_type": "stream",
     "text": [
      "(597, 925, 3) (597, 925)\n",
      "10N 205\n"
     ]
    },
    {
     "name": "stderr",
     "output_type": "stream",
     "text": [
      "Load pre-computed features: 0.70 seconds\n",
      "Not using image_cache.\n"
     ]
    },
    {
     "name": "stdout",
     "output_type": "stream",
     "text": [
      "/data/CSHL_data_processed/CHATM2/CHATM2_prep2_raw_NtbNormalizedAdaptiveInvertedGammaJpeg/CHATM2_slide68_2018_02_14-S2_prep2_raw_NtbNormalizedAdaptiveInvertedGammaJpeg.jpg\n"
     ]
    },
    {
     "name": "stderr",
     "output_type": "stream",
     "text": [
      "Load background image: 2.54 seconds\n",
      "Rescale background image to output resolution: 0.39 seconds\n",
      "Predict scores 10N: 0.02 seconds\n",
      "Resample scoremap 10N: 0.09 seconds\n",
      "Load and rescale background image: 0.00 seconds\n",
      "Generate scoremap overlay: 0.06 seconds.\n",
      "Scoremap size does not match background image size. Need to resize: 0.08 seconds.\n",
      "Generate scoremap overlay image 10N: 0.16 seconds\n",
      "locate patches: 0.02 seconds\n"
     ]
    },
    {
     "name": "stdout",
     "output_type": "stream",
     "text": [
      "(597, 925, 3) (597, 925)\n",
      "10N 209\n"
     ]
    },
    {
     "name": "stderr",
     "output_type": "stream",
     "text": [
      "Load pre-computed features: 0.68 seconds\n",
      "Not using image_cache.\n"
     ]
    },
    {
     "name": "stdout",
     "output_type": "stream",
     "text": [
      "/data/CSHL_data_processed/CHATM2/CHATM2_prep2_raw_NtbNormalizedAdaptiveInvertedGammaJpeg/CHATM2_slide70_2018_02_14-S1_prep2_raw_NtbNormalizedAdaptiveInvertedGammaJpeg.jpg\n"
     ]
    },
    {
     "name": "stderr",
     "output_type": "stream",
     "text": [
      "Load background image: 2.51 seconds\n",
      "Rescale background image to output resolution: 0.36 seconds\n",
      "Predict scores 10N: 0.02 seconds\n",
      "Resample scoremap 10N: 0.10 seconds\n",
      "Load and rescale background image: 0.00 seconds\n",
      "Generate scoremap overlay: 0.05 seconds.\n",
      "Scoremap size does not match background image size. Need to resize: 0.08 seconds.\n",
      "Generate scoremap overlay image 10N: 0.16 seconds\n",
      "locate patches: 0.02 seconds\n"
     ]
    },
    {
     "name": "stdout",
     "output_type": "stream",
     "text": [
      "(597, 925, 3) (597, 925)\n",
      "10N 211\n"
     ]
    },
    {
     "name": "stderr",
     "output_type": "stream",
     "text": [
      "Load pre-computed features: 0.70 seconds\n",
      "Not using image_cache.\n"
     ]
    },
    {
     "name": "stdout",
     "output_type": "stream",
     "text": [
      "/data/CSHL_data_processed/CHATM2/CHATM2_prep2_raw_NtbNormalizedAdaptiveInvertedGammaJpeg/CHATM2_slide70_2018_02_14-S2_prep2_raw_NtbNormalizedAdaptiveInvertedGammaJpeg.jpg\n"
     ]
    },
    {
     "name": "stderr",
     "output_type": "stream",
     "text": [
      "Load background image: 2.54 seconds\n",
      "Rescale background image to output resolution: 0.39 seconds\n",
      "Predict scores 10N: 0.02 seconds\n",
      "Resample scoremap 10N: 0.09 seconds\n",
      "Load and rescale background image: 0.00 seconds\n",
      "Generate scoremap overlay: 0.05 seconds.\n",
      "Scoremap size does not match background image size. Need to resize: 0.08 seconds.\n",
      "Generate scoremap overlay image 10N: 0.16 seconds\n",
      "locate patches: 0.02 seconds\n"
     ]
    },
    {
     "name": "stdout",
     "output_type": "stream",
     "text": [
      "(597, 925, 3) (597, 925)\n",
      "10N 213\n"
     ]
    },
    {
     "name": "stderr",
     "output_type": "stream",
     "text": [
      "Load pre-computed features: 0.71 seconds\n",
      "Not using image_cache.\n"
     ]
    },
    {
     "name": "stdout",
     "output_type": "stream",
     "text": [
      "/data/CSHL_data_processed/CHATM2/CHATM2_prep2_raw_NtbNormalizedAdaptiveInvertedGammaJpeg/CHATM2_slide70_2018_02_14-S3_prep2_raw_NtbNormalizedAdaptiveInvertedGammaJpeg.jpg\n"
     ]
    },
    {
     "name": "stderr",
     "output_type": "stream",
     "text": [
      "Load background image: 2.53 seconds\n",
      "Rescale background image to output resolution: 0.37 seconds\n",
      "Predict scores 10N: 0.02 seconds\n",
      "Resample scoremap 10N: 0.09 seconds\n",
      "Load and rescale background image: 0.00 seconds\n",
      "Generate scoremap overlay: 0.05 seconds.\n",
      "Scoremap size does not match background image size. Need to resize: 0.08 seconds.\n",
      "Generate scoremap overlay image 10N: 0.15 seconds\n",
      "locate patches: 0.02 seconds\n"
     ]
    },
    {
     "name": "stdout",
     "output_type": "stream",
     "text": [
      "(597, 925, 3) (597, 925)\n",
      "10N 215\n"
     ]
    },
    {
     "name": "stderr",
     "output_type": "stream",
     "text": [
      "Load pre-computed features: 0.67 seconds\n",
      "Not using image_cache.\n"
     ]
    },
    {
     "name": "stdout",
     "output_type": "stream",
     "text": [
      "/data/CSHL_data_processed/CHATM2/CHATM2_prep2_raw_NtbNormalizedAdaptiveInvertedGammaJpeg/CHATM2_slide72_2018_02_14-S1_prep2_raw_NtbNormalizedAdaptiveInvertedGammaJpeg.jpg\n"
     ]
    },
    {
     "name": "stderr",
     "output_type": "stream",
     "text": [
      "Load background image: 2.49 seconds\n",
      "Rescale background image to output resolution: 0.36 seconds\n",
      "Predict scores 10N: 0.02 seconds\n",
      "Resample scoremap 10N: 0.10 seconds\n",
      "Load and rescale background image: 0.00 seconds\n",
      "Generate scoremap overlay: 0.05 seconds.\n",
      "Scoremap size does not match background image size. Need to resize: 0.08 seconds.\n",
      "Generate scoremap overlay image 10N: 0.17 seconds\n",
      "locate patches: 0.02 seconds\n"
     ]
    },
    {
     "name": "stdout",
     "output_type": "stream",
     "text": [
      "(597, 925, 3) (597, 925)\n",
      "10N 217\n"
     ]
    },
    {
     "name": "stderr",
     "output_type": "stream",
     "text": [
      "Load pre-computed features: 0.66 seconds\n",
      "Not using image_cache.\n"
     ]
    },
    {
     "name": "stdout",
     "output_type": "stream",
     "text": [
      "/data/CSHL_data_processed/CHATM2/CHATM2_prep2_raw_NtbNormalizedAdaptiveInvertedGammaJpeg/CHATM2_slide72_2018_02_14-S2_prep2_raw_NtbNormalizedAdaptiveInvertedGammaJpeg.jpg\n"
     ]
    },
    {
     "name": "stderr",
     "output_type": "stream",
     "text": [
      "Load background image: 2.49 seconds\n",
      "Rescale background image to output resolution: 0.36 seconds\n",
      "Predict scores 10N: 0.02 seconds\n",
      "Resample scoremap 10N: 0.09 seconds\n",
      "Load and rescale background image: 0.00 seconds\n",
      "Generate scoremap overlay: 0.05 seconds.\n",
      "Scoremap size does not match background image size. Need to resize: 0.08 seconds.\n",
      "Generate scoremap overlay image 10N: 0.16 seconds\n",
      "locate patches: 0.02 seconds\n"
     ]
    },
    {
     "name": "stdout",
     "output_type": "stream",
     "text": [
      "(597, 925, 3) (597, 925)\n",
      "10N 219\n"
     ]
    },
    {
     "name": "stderr",
     "output_type": "stream",
     "text": [
      "Load pre-computed features: 0.62 seconds\n",
      "Not using image_cache.\n"
     ]
    },
    {
     "name": "stdout",
     "output_type": "stream",
     "text": [
      "/data/CSHL_data_processed/CHATM2/CHATM2_prep2_raw_NtbNormalizedAdaptiveInvertedGammaJpeg/CHATM2_slide72_2018_02_14-S3_prep2_raw_NtbNormalizedAdaptiveInvertedGammaJpeg.jpg\n"
     ]
    },
    {
     "name": "stderr",
     "output_type": "stream",
     "text": [
      "Load background image: 2.48 seconds\n",
      "Rescale background image to output resolution: 0.36 seconds\n",
      "Predict scores 10N: 0.02 seconds\n",
      "Resample scoremap 10N: 0.09 seconds\n",
      "Load and rescale background image: 0.00 seconds\n",
      "Generate scoremap overlay: 0.08 seconds.\n",
      "Scoremap size does not match background image size. Need to resize: 0.08 seconds.\n",
      "Generate scoremap overlay image 10N: 0.19 seconds\n",
      "locate patches: 0.02 seconds\n"
     ]
    },
    {
     "name": "stdout",
     "output_type": "stream",
     "text": [
      "(597, 925, 3) (597, 925)\n",
      "10N 221\n"
     ]
    },
    {
     "name": "stderr",
     "output_type": "stream",
     "text": [
      "Load pre-computed features: 0.68 seconds\n",
      "Not using image_cache.\n"
     ]
    },
    {
     "name": "stdout",
     "output_type": "stream",
     "text": [
      "/data/CSHL_data_processed/CHATM2/CHATM2_prep2_raw_NtbNormalizedAdaptiveInvertedGammaJpeg/CHATM2_slide74_2018_02_14-S1_prep2_raw_NtbNormalizedAdaptiveInvertedGammaJpeg.jpg\n"
     ]
    },
    {
     "name": "stderr",
     "output_type": "stream",
     "text": [
      "Load background image: 2.45 seconds\n",
      "Rescale background image to output resolution: 0.36 seconds\n",
      "Predict scores 10N: 0.02 seconds\n",
      "Resample scoremap 10N: 0.10 seconds\n",
      "Load and rescale background image: 0.00 seconds\n",
      "Generate scoremap overlay: 0.05 seconds.\n",
      "Scoremap size does not match background image size. Need to resize: 0.09 seconds.\n",
      "Generate scoremap overlay image 10N: 0.17 seconds\n",
      "locate patches: 0.03 seconds\n"
     ]
    },
    {
     "name": "stdout",
     "output_type": "stream",
     "text": [
      "(597, 925, 3) (597, 925)\n",
      "10N 223\n"
     ]
    },
    {
     "name": "stderr",
     "output_type": "stream",
     "text": [
      "Load pre-computed features: 0.63 seconds\n",
      "Not using image_cache.\n"
     ]
    },
    {
     "name": "stdout",
     "output_type": "stream",
     "text": [
      "/data/CSHL_data_processed/CHATM2/CHATM2_prep2_raw_NtbNormalizedAdaptiveInvertedGammaJpeg/CHATM2_slide74_2018_02_14-S2_prep2_raw_NtbNormalizedAdaptiveInvertedGammaJpeg.jpg\n"
     ]
    },
    {
     "name": "stderr",
     "output_type": "stream",
     "text": [
      "Load background image: 2.44 seconds\n",
      "Rescale background image to output resolution: 0.36 seconds\n",
      "Predict scores 10N: 0.02 seconds\n",
      "Resample scoremap 10N: 0.09 seconds\n",
      "Load and rescale background image: 0.00 seconds\n",
      "Generate scoremap overlay: 0.06 seconds.\n",
      "Scoremap size does not match background image size. Need to resize: 0.09 seconds.\n",
      "Generate scoremap overlay image 10N: 0.17 seconds\n",
      "locate patches: 0.02 seconds\n"
     ]
    },
    {
     "name": "stdout",
     "output_type": "stream",
     "text": [
      "(597, 925, 3) (597, 925)\n",
      "10N 225\n"
     ]
    },
    {
     "name": "stderr",
     "output_type": "stream",
     "text": [
      "Load pre-computed features: 0.64 seconds\n",
      "Not using image_cache.\n"
     ]
    },
    {
     "name": "stdout",
     "output_type": "stream",
     "text": [
      "/data/CSHL_data_processed/CHATM2/CHATM2_prep2_raw_NtbNormalizedAdaptiveInvertedGammaJpeg/CHATM2_slide74_2018_02_14-S3_prep2_raw_NtbNormalizedAdaptiveInvertedGammaJpeg.jpg\n"
     ]
    },
    {
     "name": "stderr",
     "output_type": "stream",
     "text": [
      "Load background image: 2.49 seconds\n",
      "Rescale background image to output resolution: 0.36 seconds\n",
      "Predict scores 10N: 0.03 seconds\n",
      "Resample scoremap 10N: 0.09 seconds\n",
      "Load and rescale background image: 0.00 seconds\n",
      "Generate scoremap overlay: 0.05 seconds.\n",
      "Scoremap size does not match background image size. Need to resize: 0.08 seconds.\n",
      "Generate scoremap overlay image 10N: 0.16 seconds\n",
      "locate patches: 0.02 seconds\n"
     ]
    },
    {
     "name": "stdout",
     "output_type": "stream",
     "text": [
      "(597, 925, 3) (597, 925)\n",
      "10N 227\n"
     ]
    },
    {
     "name": "stderr",
     "output_type": "stream",
     "text": [
      "Load pre-computed features: 0.63 seconds\n",
      "Not using image_cache.\n"
     ]
    },
    {
     "name": "stdout",
     "output_type": "stream",
     "text": [
      "/data/CSHL_data_processed/CHATM2/CHATM2_prep2_raw_NtbNormalizedAdaptiveInvertedGammaJpeg/CHATM2_slide76_2018_02_14-S1_prep2_raw_NtbNormalizedAdaptiveInvertedGammaJpeg.jpg\n"
     ]
    },
    {
     "name": "stderr",
     "output_type": "stream",
     "text": [
      "Load background image: 2.38 seconds\n",
      "Rescale background image to output resolution: 0.36 seconds\n",
      "Predict scores 10N: 0.02 seconds\n",
      "Resample scoremap 10N: 0.09 seconds\n",
      "Load and rescale background image: 0.00 seconds\n",
      "Generate scoremap overlay: 0.06 seconds.\n",
      "Scoremap size does not match background image size. Need to resize: 0.08 seconds.\n",
      "Generate scoremap overlay image 10N: 0.17 seconds\n",
      "locate patches: 0.02 seconds\n"
     ]
    },
    {
     "name": "stdout",
     "output_type": "stream",
     "text": [
      "(597, 925, 3) (597, 925)\n",
      "10N 229\n"
     ]
    },
    {
     "name": "stderr",
     "output_type": "stream",
     "text": [
      "Load pre-computed features: 0.58 seconds\n",
      "Not using image_cache.\n"
     ]
    },
    {
     "name": "stdout",
     "output_type": "stream",
     "text": [
      "/data/CSHL_data_processed/CHATM2/CHATM2_prep2_raw_NtbNormalizedAdaptiveInvertedGammaJpeg/CHATM2_slide76_2018_02_14-S2_prep2_raw_NtbNormalizedAdaptiveInvertedGammaJpeg.jpg\n"
     ]
    },
    {
     "name": "stderr",
     "output_type": "stream",
     "text": [
      "Load background image: 2.36 seconds\n",
      "Rescale background image to output resolution: 0.36 seconds\n",
      "Predict scores 10N: 0.02 seconds\n",
      "Resample scoremap 10N: 0.10 seconds\n",
      "Load and rescale background image: 0.00 seconds\n",
      "Generate scoremap overlay: 0.05 seconds.\n",
      "Scoremap size does not match background image size. Need to resize: 0.08 seconds.\n",
      "Generate scoremap overlay image 10N: 0.17 seconds\n",
      "locate patches: 0.02 seconds\n"
     ]
    },
    {
     "name": "stdout",
     "output_type": "stream",
     "text": [
      "(597, 925, 3) (597, 925)\n",
      "10N 231\n"
     ]
    },
    {
     "name": "stderr",
     "output_type": "stream",
     "text": [
      "Load pre-computed features: 0.60 seconds\n",
      "Not using image_cache.\n"
     ]
    },
    {
     "name": "stdout",
     "output_type": "stream",
     "text": [
      "/data/CSHL_data_processed/CHATM2/CHATM2_prep2_raw_NtbNormalizedAdaptiveInvertedGammaJpeg/CHATM2_slide76_2018_02_14-S3_prep2_raw_NtbNormalizedAdaptiveInvertedGammaJpeg.jpg\n"
     ]
    },
    {
     "name": "stderr",
     "output_type": "stream",
     "text": [
      "Load background image: 2.36 seconds\n",
      "Rescale background image to output resolution: 0.36 seconds\n",
      "Predict scores 10N: 0.02 seconds\n",
      "Resample scoremap 10N: 0.10 seconds\n",
      "Load and rescale background image: 0.00 seconds\n",
      "Generate scoremap overlay: 0.05 seconds.\n",
      "Scoremap size does not match background image size. Need to resize: 0.08 seconds.\n",
      "Generate scoremap overlay image 10N: 0.16 seconds\n",
      "locate patches: 0.02 seconds\n"
     ]
    },
    {
     "name": "stdout",
     "output_type": "stream",
     "text": [
      "(597, 925, 3) (597, 925)\n",
      "12N 133\n"
     ]
    },
    {
     "name": "stderr",
     "output_type": "stream",
     "text": [
      "Load pre-computed features: 0.63 seconds\n",
      "Not using image_cache.\n"
     ]
    },
    {
     "name": "stdout",
     "output_type": "stream",
     "text": [
      "/data/CSHL_data_processed/CHATM2/CHATM2_prep2_raw_NtbNormalizedAdaptiveInvertedGammaJpeg/CHATM2_slide45_2018_01_22-S1_prep2_raw_NtbNormalizedAdaptiveInvertedGammaJpeg.jpg\n"
     ]
    },
    {
     "name": "stderr",
     "output_type": "stream",
     "text": [
      "Load background image: 2.59 seconds\n",
      "Rescale background image to output resolution: 0.34 seconds\n",
      "Predict scores 12N: 0.02 seconds\n",
      "Resample scoremap 12N: 0.11 seconds\n",
      "Load and rescale background image: 0.00 seconds\n",
      "Generate scoremap overlay: 0.05 seconds.\n",
      "Scoremap size does not match background image size. Need to resize: 0.09 seconds.\n",
      "Generate scoremap overlay image 12N: 0.17 seconds\n",
      "locate patches: 0.02 seconds\n"
     ]
    },
    {
     "name": "stdout",
     "output_type": "stream",
     "text": [
      "(597, 925, 3) (597, 925)\n",
      "12N 134\n"
     ]
    },
    {
     "name": "stderr",
     "output_type": "stream",
     "text": [
      "Load pre-computed features: 0.66 seconds\n",
      "Not using image_cache.\n"
     ]
    },
    {
     "name": "stdout",
     "output_type": "stream",
     "text": [
      "/data/CSHL_data_processed/CHATM2/CHATM2_prep2_raw_NtbNormalizedAdaptiveInvertedGammaJpeg/CHATM2_slide46_2018_01_22-S1_prep2_raw_NtbNormalizedAdaptiveInvertedGammaJpeg.jpg\n"
     ]
    },
    {
     "name": "stderr",
     "output_type": "stream",
     "text": [
      "Load background image: 2.48 seconds\n",
      "Rescale background image to output resolution: 0.34 seconds\n",
      "Predict scores 12N: 0.02 seconds\n",
      "Resample scoremap 12N: 0.09 seconds\n",
      "Load and rescale background image: 0.00 seconds\n",
      "Generate scoremap overlay: 0.05 seconds.\n",
      "Scoremap size does not match background image size. Need to resize: 0.08 seconds.\n",
      "Generate scoremap overlay image 12N: 0.16 seconds\n",
      "locate patches: 0.02 seconds\n"
     ]
    },
    {
     "name": "stdout",
     "output_type": "stream",
     "text": [
      "(597, 925, 3) (597, 925)\n",
      "12N 135\n"
     ]
    },
    {
     "name": "stderr",
     "output_type": "stream",
     "text": [
      "Load pre-computed features: 0.63 seconds\n",
      "Not using image_cache.\n"
     ]
    },
    {
     "name": "stdout",
     "output_type": "stream",
     "text": [
      "/data/CSHL_data_processed/CHATM2/CHATM2_prep2_raw_NtbNormalizedAdaptiveInvertedGammaJpeg/CHATM2_slide45_2018_01_22-S2_prep2_raw_NtbNormalizedAdaptiveInvertedGammaJpeg.jpg\n"
     ]
    },
    {
     "name": "stderr",
     "output_type": "stream",
     "text": [
      "Load background image: 2.54 seconds\n",
      "Rescale background image to output resolution: 0.34 seconds\n",
      "Predict scores 12N: 0.02 seconds\n",
      "Resample scoremap 12N: 0.09 seconds\n",
      "Load and rescale background image: 0.00 seconds\n",
      "Generate scoremap overlay: 0.05 seconds.\n",
      "Scoremap size does not match background image size. Need to resize: 0.08 seconds.\n",
      "Generate scoremap overlay image 12N: 0.15 seconds\n",
      "locate patches: 0.02 seconds\n"
     ]
    },
    {
     "name": "stdout",
     "output_type": "stream",
     "text": [
      "(597, 925, 3) (597, 925)\n",
      "12N 136\n"
     ]
    },
    {
     "name": "stderr",
     "output_type": "stream",
     "text": [
      "Load pre-computed features: 0.63 seconds\n",
      "Not using image_cache.\n"
     ]
    },
    {
     "name": "stdout",
     "output_type": "stream",
     "text": [
      "/data/CSHL_data_processed/CHATM2/CHATM2_prep2_raw_NtbNormalizedAdaptiveInvertedGammaJpeg/CHATM2_slide46_2018_01_22-S2_prep2_raw_NtbNormalizedAdaptiveInvertedGammaJpeg.jpg\n"
     ]
    },
    {
     "name": "stderr",
     "output_type": "stream",
     "text": [
      "Load background image: 2.51 seconds\n",
      "Rescale background image to output resolution: 0.34 seconds\n",
      "Predict scores 12N: 0.02 seconds\n",
      "Resample scoremap 12N: 0.09 seconds\n",
      "Load and rescale background image: 0.00 seconds\n",
      "Generate scoremap overlay: 0.05 seconds.\n",
      "Scoremap size does not match background image size. Need to resize: 0.07 seconds.\n",
      "Generate scoremap overlay image 12N: 0.15 seconds\n",
      "locate patches: 0.02 seconds\n"
     ]
    },
    {
     "name": "stdout",
     "output_type": "stream",
     "text": [
      "(597, 925, 3) (597, 925)\n",
      "12N 137\n"
     ]
    },
    {
     "name": "stderr",
     "output_type": "stream",
     "text": [
      "Load pre-computed features: 0.62 seconds\n",
      "Not using image_cache.\n"
     ]
    },
    {
     "name": "stdout",
     "output_type": "stream",
     "text": [
      "/data/CSHL_data_processed/CHATM2/CHATM2_prep2_raw_NtbNormalizedAdaptiveInvertedGammaJpeg/CHATM2_slide45_2018_01_22-S3_prep2_raw_NtbNormalizedAdaptiveInvertedGammaJpeg.jpg\n"
     ]
    },
    {
     "name": "stderr",
     "output_type": "stream",
     "text": [
      "Load background image: 2.57 seconds\n",
      "Rescale background image to output resolution: 0.34 seconds\n",
      "Predict scores 12N: 0.02 seconds\n",
      "Resample scoremap 12N: 0.09 seconds\n",
      "Load and rescale background image: 0.00 seconds\n",
      "Generate scoremap overlay: 0.05 seconds.\n",
      "Scoremap size does not match background image size. Need to resize: 0.08 seconds.\n",
      "Generate scoremap overlay image 12N: 0.15 seconds\n",
      "locate patches: 0.02 seconds\n"
     ]
    },
    {
     "name": "stdout",
     "output_type": "stream",
     "text": [
      "(597, 925, 3) (597, 925)\n",
      "12N 138\n"
     ]
    },
    {
     "name": "stderr",
     "output_type": "stream",
     "text": [
      "Load pre-computed features: 0.60 seconds\n",
      "Not using image_cache.\n"
     ]
    },
    {
     "name": "stdout",
     "output_type": "stream",
     "text": [
      "/data/CSHL_data_processed/CHATM2/CHATM2_prep2_raw_NtbNormalizedAdaptiveInvertedGammaJpeg/CHATM2_slide46_2018_01_22-S3_prep2_raw_NtbNormalizedAdaptiveInvertedGammaJpeg.jpg\n"
     ]
    },
    {
     "name": "stderr",
     "output_type": "stream",
     "text": [
      "Load background image: 2.52 seconds\n",
      "Rescale background image to output resolution: 0.34 seconds\n",
      "Predict scores 12N: 0.02 seconds\n",
      "Resample scoremap 12N: 0.09 seconds\n",
      "Load and rescale background image: 0.00 seconds\n",
      "Generate scoremap overlay: 0.05 seconds.\n",
      "Scoremap size does not match background image size. Need to resize: 0.09 seconds.\n",
      "Generate scoremap overlay image 12N: 0.17 seconds\n",
      "locate patches: 0.02 seconds\n"
     ]
    },
    {
     "name": "stdout",
     "output_type": "stream",
     "text": [
      "(597, 925, 3) (597, 925)\n",
      "12N 140\n"
     ]
    },
    {
     "name": "stderr",
     "output_type": "stream",
     "text": [
      "Load pre-computed features: 0.67 seconds\n",
      "Not using image_cache.\n"
     ]
    },
    {
     "name": "stdout",
     "output_type": "stream",
     "text": [
      "/data/CSHL_data_processed/CHATM2/CHATM2_prep2_raw_NtbNormalizedAdaptiveInvertedGammaJpeg/CHATM2_slide48_2018_01_22-S1_prep2_raw_NtbNormalizedAdaptiveInvertedGammaJpeg.jpg\n"
     ]
    },
    {
     "name": "stderr",
     "output_type": "stream",
     "text": [
      "Load background image: 2.80 seconds\n",
      "Rescale background image to output resolution: 0.40 seconds\n",
      "Predict scores 12N: 0.03 seconds\n",
      "Resample scoremap 12N: 0.09 seconds\n",
      "Load and rescale background image: 0.00 seconds\n",
      "Generate scoremap overlay: 0.05 seconds.\n",
      "Scoremap size does not match background image size. Need to resize: 0.08 seconds.\n",
      "Generate scoremap overlay image 12N: 0.16 seconds\n",
      "locate patches: 0.02 seconds\n"
     ]
    },
    {
     "name": "stdout",
     "output_type": "stream",
     "text": [
      "(597, 925, 3) (597, 925)\n",
      "12N 142\n"
     ]
    },
    {
     "name": "stderr",
     "output_type": "stream",
     "text": [
      "Load pre-computed features: 0.60 seconds\n",
      "Not using image_cache.\n"
     ]
    },
    {
     "name": "stdout",
     "output_type": "stream",
     "text": [
      "/data/CSHL_data_processed/CHATM2/CHATM2_prep2_raw_NtbNormalizedAdaptiveInvertedGammaJpeg/CHATM2_slide48_2018_01_22-S2_prep2_raw_NtbNormalizedAdaptiveInvertedGammaJpeg.jpg\n"
     ]
    },
    {
     "name": "stderr",
     "output_type": "stream",
     "text": [
      "Load background image: 2.50 seconds\n",
      "Rescale background image to output resolution: 0.34 seconds\n",
      "Predict scores 12N: 0.02 seconds\n",
      "Resample scoremap 12N: 0.09 seconds\n",
      "Load and rescale background image: 0.00 seconds\n",
      "Generate scoremap overlay: 0.05 seconds.\n",
      "Scoremap size does not match background image size. Need to resize: 0.08 seconds.\n",
      "Generate scoremap overlay image 12N: 0.15 seconds\n",
      "locate patches: 0.02 seconds\n"
     ]
    },
    {
     "name": "stdout",
     "output_type": "stream",
     "text": [
      "(597, 925, 3) (597, 925)\n",
      "12N 144\n"
     ]
    },
    {
     "name": "stderr",
     "output_type": "stream",
     "text": [
      "Load pre-computed features: 0.62 seconds\n",
      "Not using image_cache.\n"
     ]
    },
    {
     "name": "stdout",
     "output_type": "stream",
     "text": [
      "/data/CSHL_data_processed/CHATM2/CHATM2_prep2_raw_NtbNormalizedAdaptiveInvertedGammaJpeg/CHATM2_slide48_2018_01_22-S3_prep2_raw_NtbNormalizedAdaptiveInvertedGammaJpeg.jpg\n"
     ]
    },
    {
     "name": "stderr",
     "output_type": "stream",
     "text": [
      "Load background image: 2.56 seconds\n",
      "Rescale background image to output resolution: 0.34 seconds\n",
      "Predict scores 12N: 0.02 seconds\n",
      "Resample scoremap 12N: 0.09 seconds\n",
      "Load and rescale background image: 0.00 seconds\n",
      "Generate scoremap overlay: 0.05 seconds.\n",
      "Scoremap size does not match background image size. Need to resize: 0.08 seconds.\n",
      "Generate scoremap overlay image 12N: 0.15 seconds\n",
      "locate patches: 0.02 seconds\n"
     ]
    },
    {
     "name": "stdout",
     "output_type": "stream",
     "text": [
      "(597, 925, 3) (597, 925)\n",
      "12N 145\n"
     ]
    },
    {
     "name": "stderr",
     "output_type": "stream",
     "text": [
      "Load pre-computed features: 0.66 seconds\n",
      "Not using image_cache.\n"
     ]
    },
    {
     "name": "stdout",
     "output_type": "stream",
     "text": [
      "/data/CSHL_data_processed/CHATM2/CHATM2_prep2_raw_NtbNormalizedAdaptiveInvertedGammaJpeg/CHATM2_slide49_2018_01_22-S1_prep2_raw_NtbNormalizedAdaptiveInvertedGammaJpeg.jpg\n"
     ]
    },
    {
     "name": "stderr",
     "output_type": "stream",
     "text": [
      "Load background image: 2.63 seconds\n",
      "Rescale background image to output resolution: 0.34 seconds\n",
      "Predict scores 12N: 0.02 seconds\n",
      "Resample scoremap 12N: 0.09 seconds\n",
      "Load and rescale background image: 0.00 seconds\n",
      "Generate scoremap overlay: 0.05 seconds.\n",
      "Scoremap size does not match background image size. Need to resize: 0.07 seconds.\n",
      "Generate scoremap overlay image 12N: 0.15 seconds\n",
      "locate patches: 0.02 seconds\n"
     ]
    },
    {
     "name": "stdout",
     "output_type": "stream",
     "text": [
      "(597, 925, 3) (597, 925)\n",
      "12N 146\n"
     ]
    },
    {
     "name": "stderr",
     "output_type": "stream",
     "text": [
      "Load pre-computed features: 0.62 seconds\n",
      "Not using image_cache.\n"
     ]
    },
    {
     "name": "stdout",
     "output_type": "stream",
     "text": [
      "/data/CSHL_data_processed/CHATM2/CHATM2_prep2_raw_NtbNormalizedAdaptiveInvertedGammaJpeg/CHATM2_slide50_2018_01_22-S1_prep2_raw_NtbNormalizedAdaptiveInvertedGammaJpeg.jpg\n"
     ]
    },
    {
     "name": "stderr",
     "output_type": "stream",
     "text": [
      "Load background image: 2.60 seconds\n",
      "Rescale background image to output resolution: 0.34 seconds\n",
      "Predict scores 12N: 0.02 seconds\n",
      "Resample scoremap 12N: 0.09 seconds\n",
      "Load and rescale background image: 0.00 seconds\n",
      "Generate scoremap overlay: 0.05 seconds.\n",
      "Scoremap size does not match background image size. Need to resize: 0.08 seconds.\n",
      "Generate scoremap overlay image 12N: 0.15 seconds\n",
      "locate patches: 0.02 seconds\n"
     ]
    },
    {
     "name": "stdout",
     "output_type": "stream",
     "text": [
      "(597, 925, 3) (597, 925)\n",
      "12N 147\n"
     ]
    },
    {
     "name": "stderr",
     "output_type": "stream",
     "text": [
      "Load pre-computed features: 0.62 seconds\n",
      "Not using image_cache.\n"
     ]
    },
    {
     "name": "stdout",
     "output_type": "stream",
     "text": [
      "/data/CSHL_data_processed/CHATM2/CHATM2_prep2_raw_NtbNormalizedAdaptiveInvertedGammaJpeg/CHATM2_slide49_2018_01_22-S2_prep2_raw_NtbNormalizedAdaptiveInvertedGammaJpeg.jpg\n"
     ]
    },
    {
     "name": "stderr",
     "output_type": "stream",
     "text": [
      "Load background image: 2.61 seconds\n",
      "Rescale background image to output resolution: 0.34 seconds\n",
      "Predict scores 12N: 0.02 seconds\n",
      "Resample scoremap 12N: 0.09 seconds\n",
      "Load and rescale background image: 0.00 seconds\n",
      "Generate scoremap overlay: 0.05 seconds.\n",
      "Scoremap size does not match background image size. Need to resize: 0.08 seconds.\n",
      "Generate scoremap overlay image 12N: 0.15 seconds\n",
      "locate patches: 0.02 seconds\n"
     ]
    },
    {
     "name": "stdout",
     "output_type": "stream",
     "text": [
      "(597, 925, 3) (597, 925)\n",
      "12N 148\n"
     ]
    },
    {
     "name": "stderr",
     "output_type": "stream",
     "text": [
      "Load pre-computed features: 0.68 seconds\n",
      "Not using image_cache.\n"
     ]
    },
    {
     "name": "stdout",
     "output_type": "stream",
     "text": [
      "/data/CSHL_data_processed/CHATM2/CHATM2_prep2_raw_NtbNormalizedAdaptiveInvertedGammaJpeg/CHATM2_slide50_2018_01_22-S2_prep2_raw_NtbNormalizedAdaptiveInvertedGammaJpeg.jpg\n"
     ]
    },
    {
     "name": "stderr",
     "output_type": "stream",
     "text": [
      "Load background image: 2.59 seconds\n",
      "Rescale background image to output resolution: 0.34 seconds\n",
      "Predict scores 12N: 0.01 seconds\n",
      "Resample scoremap 12N: 0.09 seconds\n",
      "Load and rescale background image: 0.00 seconds\n",
      "Generate scoremap overlay: 0.05 seconds.\n",
      "Scoremap size does not match background image size. Need to resize: 0.07 seconds.\n",
      "Generate scoremap overlay image 12N: 0.15 seconds\n",
      "locate patches: 0.02 seconds\n"
     ]
    },
    {
     "name": "stdout",
     "output_type": "stream",
     "text": [
      "(597, 925, 3) (597, 925)\n",
      "12N 150\n"
     ]
    },
    {
     "name": "stderr",
     "output_type": "stream",
     "text": [
      "Load pre-computed features: 0.66 seconds\n",
      "Not using image_cache.\n"
     ]
    },
    {
     "name": "stdout",
     "output_type": "stream",
     "text": [
      "/data/CSHL_data_processed/CHATM2/CHATM2_prep2_raw_NtbNormalizedAdaptiveInvertedGammaJpeg/CHATM2_slide50_2018_01_22-S3_prep2_raw_NtbNormalizedAdaptiveInvertedGammaJpeg.jpg\n"
     ]
    },
    {
     "name": "stderr",
     "output_type": "stream",
     "text": [
      "Load background image: 2.58 seconds\n",
      "Rescale background image to output resolution: 0.34 seconds\n",
      "Predict scores 12N: 0.02 seconds\n",
      "Resample scoremap 12N: 0.09 seconds\n",
      "Load and rescale background image: 0.00 seconds\n",
      "Generate scoremap overlay: 0.05 seconds.\n",
      "Scoremap size does not match background image size. Need to resize: 0.08 seconds.\n",
      "Generate scoremap overlay image 12N: 0.16 seconds\n",
      "locate patches: 0.02 seconds\n"
     ]
    },
    {
     "name": "stdout",
     "output_type": "stream",
     "text": [
      "(597, 925, 3) (597, 925)\n",
      "12N 151\n"
     ]
    },
    {
     "name": "stderr",
     "output_type": "stream",
     "text": [
      "Load pre-computed features: 0.62 seconds\n",
      "Not using image_cache.\n"
     ]
    },
    {
     "name": "stdout",
     "output_type": "stream",
     "text": [
      "/data/CSHL_data_processed/CHATM2/CHATM2_prep2_raw_NtbNormalizedAdaptiveInvertedGammaJpeg/CHATM2_slide51_2018_01_22-S1_prep2_raw_NtbNormalizedAdaptiveInvertedGammaJpeg.jpg\n"
     ]
    },
    {
     "name": "stderr",
     "output_type": "stream",
     "text": [
      "Load background image: 2.54 seconds\n",
      "Rescale background image to output resolution: 0.36 seconds\n",
      "Predict scores 12N: 0.02 seconds\n",
      "Resample scoremap 12N: 0.09 seconds\n",
      "Load and rescale background image: 0.00 seconds\n",
      "Generate scoremap overlay: 0.05 seconds.\n",
      "Scoremap size does not match background image size. Need to resize: 0.08 seconds.\n",
      "Generate scoremap overlay image 12N: 0.17 seconds\n",
      "locate patches: 0.02 seconds\n"
     ]
    },
    {
     "name": "stdout",
     "output_type": "stream",
     "text": [
      "(597, 925, 3) (597, 925)\n",
      "12N 152\n"
     ]
    },
    {
     "name": "stderr",
     "output_type": "stream",
     "text": [
      "Load pre-computed features: 0.51 seconds\n",
      "Not using image_cache.\n"
     ]
    },
    {
     "name": "stdout",
     "output_type": "stream",
     "text": [
      "/data/CSHL_data_processed/CHATM2/CHATM2_prep2_raw_NtbNormalizedAdaptiveInvertedGammaJpeg/CHATM2_slide52_2018_01_22-S1_prep2_raw_NtbNormalizedAdaptiveInvertedGammaJpeg.jpg\n"
     ]
    },
    {
     "name": "stderr",
     "output_type": "stream",
     "text": [
      "Load background image: 2.21 seconds\n",
      "Rescale background image to output resolution: 0.33 seconds\n",
      "Predict scores 12N: 0.01 seconds\n",
      "Resample scoremap 12N: 0.09 seconds\n",
      "Load and rescale background image: 0.00 seconds\n",
      "Generate scoremap overlay: 0.06 seconds.\n",
      "Scoremap size does not match background image size. Need to resize: 0.08 seconds.\n",
      "Generate scoremap overlay image 12N: 0.16 seconds\n",
      "locate patches: 0.02 seconds\n"
     ]
    },
    {
     "name": "stdout",
     "output_type": "stream",
     "text": [
      "(597, 925, 3) (597, 925)\n",
      "12N 153\n"
     ]
    },
    {
     "name": "stderr",
     "output_type": "stream",
     "text": [
      "Load pre-computed features: 0.69 seconds\n",
      "Not using image_cache.\n"
     ]
    },
    {
     "name": "stdout",
     "output_type": "stream",
     "text": [
      "/data/CSHL_data_processed/CHATM2/CHATM2_prep2_raw_NtbNormalizedAdaptiveInvertedGammaJpeg/CHATM2_slide51_2018_01_22-S2_prep2_raw_NtbNormalizedAdaptiveInvertedGammaJpeg.jpg\n"
     ]
    },
    {
     "name": "stderr",
     "output_type": "stream",
     "text": [
      "Load background image: 2.66 seconds\n",
      "Rescale background image to output resolution: 0.34 seconds\n",
      "Predict scores 12N: 0.02 seconds\n",
      "Resample scoremap 12N: 0.09 seconds\n",
      "Load and rescale background image: 0.00 seconds\n",
      "Generate scoremap overlay: 0.05 seconds.\n",
      "Scoremap size does not match background image size. Need to resize: 0.08 seconds.\n",
      "Generate scoremap overlay image 12N: 0.15 seconds\n",
      "locate patches: 0.02 seconds\n"
     ]
    },
    {
     "name": "stdout",
     "output_type": "stream",
     "text": [
      "(597, 925, 3) (597, 925)\n",
      "12N 154\n"
     ]
    },
    {
     "name": "stderr",
     "output_type": "stream",
     "text": [
      "Load pre-computed features: 0.53 seconds\n",
      "Not using image_cache.\n"
     ]
    },
    {
     "name": "stdout",
     "output_type": "stream",
     "text": [
      "/data/CSHL_data_processed/CHATM2/CHATM2_prep2_raw_NtbNormalizedAdaptiveInvertedGammaJpeg/CHATM2_slide52_2018_01_22-S2_prep2_raw_NtbNormalizedAdaptiveInvertedGammaJpeg.jpg\n"
     ]
    },
    {
     "name": "stderr",
     "output_type": "stream",
     "text": [
      "Load background image: 2.24 seconds\n",
      "Rescale background image to output resolution: 0.34 seconds\n",
      "Predict scores 12N: 0.01 seconds\n",
      "Resample scoremap 12N: 0.09 seconds\n",
      "Load and rescale background image: 0.00 seconds\n",
      "Generate scoremap overlay: 0.06 seconds.\n",
      "Scoremap size does not match background image size. Need to resize: 0.08 seconds.\n",
      "Generate scoremap overlay image 12N: 0.16 seconds\n",
      "locate patches: 0.02 seconds\n"
     ]
    },
    {
     "name": "stdout",
     "output_type": "stream",
     "text": [
      "(597, 925, 3) (597, 925)\n",
      "12N 155\n"
     ]
    },
    {
     "name": "stderr",
     "output_type": "stream",
     "text": [
      "Load pre-computed features: 0.67 seconds\n",
      "Not using image_cache.\n"
     ]
    },
    {
     "name": "stdout",
     "output_type": "stream",
     "text": [
      "/data/CSHL_data_processed/CHATM2/CHATM2_prep2_raw_NtbNormalizedAdaptiveInvertedGammaJpeg/CHATM2_slide51_2018_01_22-S3_prep2_raw_NtbNormalizedAdaptiveInvertedGammaJpeg.jpg\n"
     ]
    },
    {
     "name": "stderr",
     "output_type": "stream",
     "text": [
      "Load background image: 2.68 seconds\n",
      "Rescale background image to output resolution: 0.34 seconds\n"
     ]
    }
   ],
   "source": [
    "for stack in ['CHATM2', 'CHATM3']:\n",
    "    \n",
    "    output_resolution = '10.0um'\n",
    "    out_resolution_um = convert_resolution_string_to_um(resolution=output_resolution, stack=stack)\n",
    "    \n",
    "    registered_atlas_structures_wrt_wholebrainXYcropped_xysecTwoCorners = \\\n",
    "load_json('/home/yuncong/' + stack + '_registered_atlas_structures_wrt_wholebrainXYcropped_xysecTwoCorners.json')\n",
    "\n",
    "    ####################\n",
    "\n",
    "    registered_atlas_structures_wrt_wholebrainXYcropped_bboxes_perSection = defaultdict(dict)\n",
    "\n",
    "    section_margin_um = 500.\n",
    "    section_margin = int(section_margin_um / SECTION_THICKNESS)\n",
    "    image_margin_um = 500.\n",
    "    image_margin = int(np.round(image_margin_um / convert_resolution_string_to_um('raw', stack)))\n",
    "\n",
    "    valid_secmin = np.min(metadata_cache['valid_sections'][stack])\n",
    "    valid_secmax = np.max(metadata_cache['valid_sections'][stack])\n",
    "\n",
    "    # for name_u in all_known_structures:\n",
    "    for name_u in motor_nuclei:\n",
    "    # for name_u in ['RtTg', 'VCA', 'AP', 'Tz', 'LC', 'Sp5O', '7n', 'SNC', 'Sp5I', 'DC', 'Sp5C', 'VCP', 'RMC', 'PBG', 'SNR', 'LRt', 'SC', 'IC', 'Pn', 'VLL']:\n",
    "\n",
    "        if name_u in singular_structures:\n",
    "\n",
    "            (xmin, ymin, secmin), (xmax, ymax, secmax) = registered_atlas_structures_wrt_wholebrainXYcropped_xysecTwoCorners[name_u]\n",
    "\n",
    "            for sec in range(max(secmin - section_margin, valid_secmin), min(secmax + 1 + section_margin, valid_secmax)):\n",
    "\n",
    "                if is_invalid(sec=sec, stack=stack):\n",
    "                    continue\n",
    "\n",
    "                registered_atlas_structures_wrt_wholebrainXYcropped_bboxes_perSection[name_u][sec] = \\\n",
    "                (max(xmin - image_margin, 0), \n",
    "                 xmax + image_margin, \n",
    "                 max(ymin - image_margin, 0), \n",
    "                 ymax + image_margin)\n",
    "        else:\n",
    "\n",
    "            a = defaultdict(list)\n",
    "\n",
    "            lname = convert_to_left_name(name_u)        \n",
    "            (xmin, ymin, secmin), (xmax, ymax, secmax) = registered_atlas_structures_wrt_wholebrainXYcropped_xysecTwoCorners[lname]\n",
    "\n",
    "            for sec in range(max(secmin - section_margin, valid_secmin), min(secmax + 1 + section_margin, valid_secmax)):\n",
    "\n",
    "                if is_invalid(sec=sec, stack=stack):\n",
    "                    continue\n",
    "\n",
    "                a[sec].append((max(xmin - image_margin, 0), \n",
    "                 xmax + image_margin, \n",
    "                 max(ymin - image_margin, 0), \n",
    "                 ymax + image_margin))\n",
    "\n",
    "            rname = convert_to_right_name(name_u)\n",
    "            (xmin, ymin, secmin), (xmax, ymax, secmax) = registered_atlas_structures_wrt_wholebrainXYcropped_xysecTwoCorners[rname]\n",
    "\n",
    "            for sec in range(max(secmin - section_margin, valid_secmin), min(secmax + 1 + section_margin, valid_secmax)):\n",
    "\n",
    "                if is_invalid(sec=sec, stack=stack):\n",
    "                    continue\n",
    "\n",
    "                a[sec].append((max(xmin - image_margin, 0), \n",
    "                 xmax + image_margin, \n",
    "                 max(ymin - image_margin, 0), \n",
    "                 ymax + image_margin))\n",
    "\n",
    "            for sec, bboxes in a.iteritems():\n",
    "                if len(bboxes) == 1:\n",
    "                    registered_atlas_structures_wrt_wholebrainXYcropped_bboxes_perSection[name_u][sec] = bboxes[0]\n",
    "                else:\n",
    "                    xmin, ymin = np.min(bboxes, axis=0)[[0,2]]\n",
    "                    xmax, ymax = np.max(bboxes, axis=0)[[1,3]]\n",
    "                    registered_atlas_structures_wrt_wholebrainXYcropped_bboxes_perSection[name_u][sec] = (xmin, xmax, ymin, ymax)\n",
    "                    \n",
    "                    \n",
    "    ######### Generate score maps ###########\n",
    "                    \n",
    "#     for name_u in all_known_structures:\n",
    "    for name_u in motor_nuclei:\n",
    "# for name_u in ['10N']:\n",
    "# for name_u in ['RtTg', 'VCA', 'AP', 'Tz', 'LC', 'Sp5O', '7n', 'SNC', 'Sp5I', 'DC', 'Sp5C', 'VCP', 'RMC', 'PBG', 'SNR', 'LRt', 'SC', 'IC', 'Pn', 'VLL']:\n",
    "            \n",
    "        for sec, bbox in sorted(registered_atlas_structures_wrt_wholebrainXYcropped_bboxes_perSection[name_u].items()):\n",
    "\n",
    "    #         if is_invalid(sec=sec, stack=stack):\n",
    "    #             continue\n",
    "\n",
    "            print name_u, sec\n",
    "\n",
    "            viz_all_landmarks, scoremap_all_landmarks = \\\n",
    "            draw_scoremap(clfs={name_u: clfs[name_u]}, \n",
    "                                  bbox=bbox,\n",
    "                            scheme='none', \n",
    "                        win_id=win_id, prep_id=2,\n",
    "                        stack=stack, return_scoremap=True, sec=sec,\n",
    "                        model=model, model_name=model_name,\n",
    "                         mean_img=mean_img, \n",
    "                         batch_size=batch_size,\n",
    "                          output_patch_size=224,\n",
    "                          is_nissl=False,\n",
    "                       out_resolution_um=out_resolution_um,\n",
    "                    image_shape=metadata_cache['image_shape'][stack],\n",
    "                                  return_wholeimage=True)\n",
    "\n",
    "            sm = scoremap_all_landmarks[name_u]\n",
    "            viz = viz_all_landmarks[name_u]\n",
    "\n",
    "            scoremap_bp_filepath = \\\n",
    "            DataManager.get_downscaled_scoremap_filepath(stack=stack, section=sec, \n",
    "                                                         structure=name_u,\n",
    "                                                         detector_id=detector_id,\n",
    "                                                         out_resolution_um=out_resolution_um)\n",
    "            save_data(sm.astype(np.float16), scoremap_bp_filepath, upload_s3=False)\n",
    "\n",
    "            viz_filepath = \\\n",
    "            DataManager.get_scoremap_viz_filepath_v2(stack=stack, section=sec, \n",
    "                                                         structure=name_u,\n",
    "                                                         detector_id=detector_id,\n",
    "                                                         out_resolution=output_resolution)\n",
    "            save_data(viz, viz_filepath, upload_s3=False)\n",
    "\n",
    "            del viz_all_landmarks, scoremap_all_landmarks\n",
    "        \n",
    "    ######### Generate score volumes ##########\n",
    "        \n",
    "    # for structure in ['4N']:\n",
    "    for structure in motor_nuclei:\n",
    "\n",
    "        for name_s in [convert_to_left_name(structure), convert_to_right_name(structure)]:\n",
    "\n",
    "            scoremaps = {}\n",
    "\n",
    "    #         for sec in metadata_cache['valid_sections'][stack]:\n",
    "\n",
    "            (xmin, ymin, s1), (xmax, ymax, s2) = registered_atlas_structures_wrt_wholebrainXYcropped_xysecTwoCorners[name_s]\n",
    "\n",
    "            for sec in range(max(s1 - section_margin, metadata_cache['section_limits'][stack][0]), \n",
    "                             min(s2 + 1 + section_margin, metadata_cache['section_limits'][stack][1])):\n",
    "\n",
    "                if is_invalid(sec=sec, stack=stack):\n",
    "                    continue\n",
    "\n",
    "                scoremap = DataManager.load_downscaled_scoremap(stack=stack, section=sec, structure=structure, \n",
    "                                                                prep_id='alignedBrainstemCrop',\n",
    "                                                              out_resolution_um=out_resolution_um, \n",
    "                                                                detector_id=detector_id).astype(np.float32)\n",
    "\n",
    "                mask = DataManager.load_image_v2(stack=stack, section=sec, \n",
    "                                     prep_id='alignedBrainstemCrop', \n",
    "                                     resol='thumbnail', version='mask')\n",
    "\n",
    "                mask_outResol = rescale_by_resampling(mask, new_shape=(scoremap.shape[1], scoremap.shape[0]))\n",
    "\n",
    "                scoremap[~mask_outResol] = 0\n",
    "                scoremaps[sec] = scoremap\n",
    "\n",
    "            volume_outVolResol, volume_origin_wrt_wholebrainXYcropped_outVolResol = \\\n",
    "            images_to_volume_v2(images=scoremaps, spacing_um=20.,\n",
    "                                    in_resol_um=out_resolution_um,\n",
    "                                    out_resol_um=out_resolution_um)\n",
    "            print volume_outVolResol.shape\n",
    "\n",
    "            brain_spec = dict(name=stack,\n",
    "                           vol_type='score',\n",
    "                            detector_id=detector_id,\n",
    "                           resolution=output_resolution)\n",
    "\n",
    "            # Save volume and origin.\n",
    "\n",
    "            save_data(volume_outVolResol.astype(np.float16), \\\n",
    "                      DataManager.get_original_volume_filepath_v2(stack_spec=brain_spec, structure=name_s))\n",
    "\n",
    "            wholebrainXYcropped_origin_wrt_wholebrain_outVolResol = \\\n",
    "            DataManager.get_domain_origin(stack=stack, domain='wholebrainXYcropped', \n",
    "                                          resolution=output_resolution)\n",
    "            volume_origin_wrt_wholebrain_outVolResol =\\\n",
    "            volume_origin_wrt_wholebrainXYcropped_outVolResol + wholebrainXYcropped_origin_wrt_wholebrain_outVolResol\n",
    "\n",
    "            save_data(volume_origin_wrt_wholebrain_outVolResol,\n",
    "                      DataManager.get_original_volume_origin_filepath_v3(stack_spec=brain_spec, structure=name_s, wrt='wholebrain'))\n",
    "\n",
    "            # Compute gradients.\n",
    "\n",
    "            gradients = compute_gradient_v2((volume_outVolResol, volume_origin_wrt_wholebrain_outVolResol), \n",
    "                                            smooth_first=True)\n",
    "\n",
    "            DataManager.save_volume_gradients(gradients, stack_spec=brain_spec, structure=name_s)"
   ]
  },
  {
   "cell_type": "code",
   "execution_count": null,
   "metadata": {
    "collapsed": true
   },
   "outputs": [],
   "source": []
  }
 ],
 "metadata": {
  "kernelspec": {
   "display_name": "Python 2",
   "language": "python",
   "name": "python2"
  },
  "language_info": {
   "codemirror_mode": {
    "name": "ipython",
    "version": 2
   },
   "file_extension": ".py",
   "mimetype": "text/x-python",
   "name": "python",
   "nbconvert_exporter": "python",
   "pygments_lexer": "ipython2",
   "version": "2.7.12"
  }
 },
 "nbformat": 4,
 "nbformat_minor": 2
}
