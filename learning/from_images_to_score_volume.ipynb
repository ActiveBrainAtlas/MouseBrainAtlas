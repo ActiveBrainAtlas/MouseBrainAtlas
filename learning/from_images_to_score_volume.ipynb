{
 "cells": [
  {
   "cell_type": "code",
   "execution_count": 1,
   "metadata": {},
   "outputs": [
    {
     "name": "stdout",
     "output_type": "stream",
     "text": [
      "Setting environment for Precision WorkStation\n"
     ]
    },
    {
     "name": "stderr",
     "output_type": "stream",
     "text": [
      "No vtk\n",
      "/usr/local/lib/python2.7/dist-packages/sklearn/cross_validation.py:44: DeprecationWarning: This module was deprecated in version 0.18 in favor of the model_selection module into which all the refactored classes and functions are moved. Also note that the interface of the new CV iterators are different from that of this module. This module will be removed in 0.20.\n",
      "  \"This module will be removed in 0.20.\", DeprecationWarning)\n"
     ]
    }
   ],
   "source": [
    "%reload_ext autoreload\n",
    "%autoreload 2\n",
    "\n",
    "import os\n",
    "import argparse\n",
    "import sys\n",
    "import time\n",
    "\n",
    "import numpy as np\n",
    "from multiprocess import Pool\n",
    "\n",
    "sys.path.append(os.path.join(os.environ['REPO_DIR'], 'utilities'))\n",
    "from utilities2015 import *\n",
    "from metadata import *\n",
    "from data_manager import *\n",
    "from learning_utilities import *\n",
    "\n",
    "%matplotlib inline"
   ]
  },
  {
   "cell_type": "code",
   "execution_count": 2,
   "metadata": {
    "collapsed": true
   },
   "outputs": [],
   "source": [
    "atlas_spec = dict(name='atlasV6',\n",
    "                   vol_type='score'    ,               \n",
    "                    resolution='10.0um'\n",
    "                   )"
   ]
  },
  {
   "cell_type": "code",
   "execution_count": 3,
   "metadata": {},
   "outputs": [
    {
     "name": "stderr",
     "output_type": "stream",
     "text": [
      "Prior structure/index map not found. Generating a new one.\n"
     ]
    }
   ],
   "source": [
    "atlas_structures_wrt_canonicalAtlasSpace_atlasResol = \\\n",
    "DataManager.load_original_volume_all_known_structures_v3(atlas_spec, in_bbox_wrt='canonicalAtlasSpace',\n",
    "                                                        out_bbox_wrt='canonicalAtlasSpace')"
   ]
  },
  {
   "cell_type": "code",
   "execution_count": 5,
   "metadata": {
    "collapsed": true
   },
   "outputs": [],
   "source": [
    "stack = 'CHATM2'"
   ]
  },
  {
   "cell_type": "code",
   "execution_count": 6,
   "metadata": {
    "collapsed": true
   },
   "outputs": [],
   "source": [
    "T_atlas_wrt_canonicalAtlasSpace_subject_wrt_wholebrain_atlasResol = bp.unpack_ndarray_file('/home/yuncong/' + stack + '_T_atlas_wrt_canonicalAtlasSpace_subject_wrt_wholebrain_atlasResol.bp')"
   ]
  },
  {
   "cell_type": "code",
   "execution_count": 7,
   "metadata": {
    "scrolled": true
   },
   "outputs": [
    {
     "name": "stderr",
     "output_type": "stream",
     "text": [
      "/home/yuncong/Brain/utilities/registration_utilities.py:1561: FutureWarning: Conversion of the second argument of issubdtype from `float` to `np.floating` is deprecated. In future, it will be treated as `np.float64 == np.dtype(float).type`.\n",
      "  if np.issubdtype(volume_m_aligned_to_f.dtype, np.float):\n",
      "Interpolating/filling sparse volume: 0.07 seconds.\n",
      "Interpolating/filling sparse volume: 0.33 seconds.\n",
      "Interpolating/filling sparse volume: 0.09 seconds.\n",
      "Interpolating/filling sparse volume: 0.06 seconds.\n",
      "Interpolating/filling sparse volume: 0.02 seconds.\n",
      "Interpolating/filling sparse volume: 0.13 seconds.\n",
      "Interpolating/filling sparse volume: 0.13 seconds.\n",
      "Interpolating/filling sparse volume: 0.06 seconds.\n",
      "Interpolating/filling sparse volume: 0.02 seconds.\n",
      "Interpolating/filling sparse volume: 0.20 seconds.\n",
      "Interpolating/filling sparse volume: 0.33 seconds.\n",
      "Interpolating/filling sparse volume: 0.09 seconds.\n",
      "Interpolating/filling sparse volume: 0.07 seconds.\n",
      "Interpolating/filling sparse volume: 0.13 seconds.\n",
      "Interpolating/filling sparse volume: 0.22 seconds.\n",
      "Interpolating/filling sparse volume: 0.03 seconds.\n",
      "Interpolating/filling sparse volume: 0.05 seconds.\n",
      "Interpolating/filling sparse volume: 0.22 seconds.\n",
      "Interpolating/filling sparse volume: 0.13 seconds.\n",
      "Interpolating/filling sparse volume: 0.12 seconds.\n",
      "Interpolating/filling sparse volume: 0.07 seconds.\n",
      "Interpolating/filling sparse volume: 0.01 seconds.\n",
      "Interpolating/filling sparse volume: 0.01 seconds.\n",
      "Interpolating/filling sparse volume: 0.12 seconds.\n",
      "Interpolating/filling sparse volume: 0.03 seconds.\n",
      "Interpolating/filling sparse volume: 0.04 seconds.\n",
      "Interpolating/filling sparse volume: 0.06 seconds.\n",
      "Interpolating/filling sparse volume: 0.06 seconds.\n",
      "Interpolating/filling sparse volume: 0.01 seconds.\n",
      "Interpolating/filling sparse volume: 0.04 seconds.\n",
      "Interpolating/filling sparse volume: 0.12 seconds.\n",
      "Interpolating/filling sparse volume: 0.01 seconds.\n",
      "Interpolating/filling sparse volume: 0.01 seconds.\n",
      "Interpolating/filling sparse volume: 0.93 seconds.\n",
      "Interpolating/filling sparse volume: 0.07 seconds.\n",
      "Interpolating/filling sparse volume: 0.12 seconds.\n",
      "Interpolating/filling sparse volume: 0.00 seconds.\n",
      "Interpolating/filling sparse volume: 0.06 seconds.\n",
      "Interpolating/filling sparse volume: 0.02 seconds.\n",
      "Interpolating/filling sparse volume: 0.04 seconds.\n",
      "Interpolating/filling sparse volume: 0.11 seconds.\n",
      "Interpolating/filling sparse volume: 0.00 seconds.\n",
      "Interpolating/filling sparse volume: 0.02 seconds.\n",
      "Interpolating/filling sparse volume: 0.03 seconds.\n",
      "Interpolating/filling sparse volume: 0.11 seconds.\n",
      "Interpolating/filling sparse volume: 0.00 seconds.\n",
      "Interpolating/filling sparse volume: 0.02 seconds.\n",
      "Interpolating/filling sparse volume: 0.04 seconds.\n",
      "Interpolating/filling sparse volume: 1.64 seconds.\n",
      "Interpolating/filling sparse volume: 0.05 seconds.\n",
      "Interpolating/filling sparse volume: 0.00 seconds.\n"
     ]
    }
   ],
   "source": [
    "registered_atlas_structures_wrt_wholebrainWithMargin_atlasResol = \\\n",
    "{name_s: transform_volume_v4(volume=vo, transform=T_atlas_wrt_canonicalAtlasSpace_subject_wrt_wholebrain_atlasResol, return_origin_instead_of_bbox=True)\n",
    "for name_s, vo in atlas_structures_wrt_canonicalAtlasSpace_atlasResol.iteritems()}"
   ]
  },
  {
   "cell_type": "code",
   "execution_count": 51,
   "metadata": {
    "collapsed": true
   },
   "outputs": [],
   "source": [
    "# Define volume ROI for which to compute scores based on outline registered atlas."
   ]
  },
  {
   "cell_type": "code",
   "execution_count": 8,
   "metadata": {
    "collapsed": true
   },
   "outputs": [],
   "source": [
    "registered_atlas_structures_bbox_wrt_wholebrainWithMargin_atlasResol = \\\n",
    "{name_s: (o[0], o[0] + v.shape[1] - 1, o[1], o[1] + v.shape[0] - 1, o[2], o[2] + v.shape[2] - 1)\n",
    " for name_s, (v, o) in registered_atlas_structures_wrt_wholebrainWithMargin_atlasResol.iteritems()}"
   ]
  },
  {
   "cell_type": "code",
   "execution_count": 9,
   "metadata": {
    "collapsed": true
   },
   "outputs": [],
   "source": [
    "registered_atlas_structures_xyzTwoCorners_wrt_wholebrainWithMargin_atlasResol = \\\n",
    "{name_s: ((o[0], o[2], o[4]), (o[1], o[3], o[5]))\n",
    "for name_s, o in registered_atlas_structures_bbox_wrt_wholebrainWithMargin_atlasResol.iteritems()}"
   ]
  },
  {
   "cell_type": "code",
   "execution_count": 10,
   "metadata": {},
   "outputs": [],
   "source": [
    "registered_atlas_structures_xyzCorners_wrt_wholebrainWithMargin_atlasResol = \\\n",
    "{name_s: ((o[0], o[2], o[4]), (o[0], o[2], o[5]), (o[0], o[3], o[4]), (o[0], o[3], o[5]), \\\n",
    "         (o[1], o[2], o[4]), (o[1], o[2], o[5]), (o[1], o[3], o[4]), (o[1], o[3], o[5]))\n",
    "for name_s, o in registered_atlas_structures_bbox_wrt_wholebrainWithMargin_atlasResol.iteritems()}"
   ]
  },
  {
   "cell_type": "code",
   "execution_count": null,
   "metadata": {
    "collapsed": true
   },
   "outputs": [],
   "source": []
  },
  {
   "cell_type": "code",
   "execution_count": 11,
   "metadata": {
    "collapsed": true
   },
   "outputs": [],
   "source": [
    "from data_manager import CoordinatesConverter"
   ]
  },
  {
   "cell_type": "code",
   "execution_count": 12,
   "metadata": {
    "collapsed": true
   },
   "outputs": [],
   "source": [
    "converter = CoordinatesConverter(stack=stack)"
   ]
  },
  {
   "cell_type": "code",
   "execution_count": 13,
   "metadata": {},
   "outputs": [],
   "source": [
    "# registered_atlas_structures_wrt_wholebrainXYcropped_xysec = {}\n",
    "\n",
    "# for name_s, corners_xyz in registered_atlas_structures_xyzCorners_wrt_wholebrainWithMargin_atlasResol.iteritems():\n",
    "# #     print name_s\n",
    "#     registered_atlas_structures_wrt_wholebrainXYcropped_xysec[name_s] = \\\n",
    "#     converter.convert_frame_and_resolution(p=corners_xyz, \n",
    "#                                        in_wrt=('wholebrainWithMargin', 'sagittal'),\n",
    "#                                       in_resolution='10.0um',\n",
    "#                                       out_wrt=('wholebrainXYcropped', 'sagittal'),\n",
    "#                                       out_resolution='image_image_section').astype(np.int)"
   ]
  },
  {
   "cell_type": "code",
   "execution_count": 14,
   "metadata": {
    "collapsed": true
   },
   "outputs": [],
   "source": [
    "registered_atlas_structures_wrt_wholebrainXYcropped_xysecTwoCorners = {}\n",
    "\n",
    "for name_s, corners_xyz in registered_atlas_structures_xyzTwoCorners_wrt_wholebrainWithMargin_atlasResol.iteritems():\n",
    "#     print name_s\n",
    "    registered_atlas_structures_wrt_wholebrainXYcropped_xysecTwoCorners[name_s] = \\\n",
    "    converter.convert_frame_and_resolution(p=corners_xyz, \n",
    "                                       in_wrt=('wholebrainWithMargin', 'sagittal'),\n",
    "                                      in_resolution='10.0um',\n",
    "                                      out_wrt=('wholebrainXYcropped', 'sagittal'),\n",
    "                                      out_resolution='image_image_section').astype(np.int)"
   ]
  },
  {
   "cell_type": "code",
   "execution_count": 15,
   "metadata": {
    "scrolled": true
   },
   "outputs": [
    {
     "data": {
      "text/plain": [
       "{'10N_L': array([[15257, 10140,   152],\n",
       "        [19534, 12540,   178]]), '10N_R': array([[15257, 10140,   181],\n",
       "        [19534, 12540,   207]]), '12N': array([[15104, 10509,   158],\n",
       "        [19196, 12724,   200]]), '3N_L': array([[4950, 7032,  165],\n",
       "        [6980, 8263,  179]]), '3N_R': array([[4950, 7032,  180],\n",
       "        [6980, 8263,  194]]), '4N_L': array([[6827, 7309,  162],\n",
       "        [7473, 8047,  172]]), '4N_R': array([[6827, 7309,  187],\n",
       "        [7473, 8047,  197]]), '5N_L': array([[ 8057,  9186,    96],\n",
       "        [10519, 12048,   125]]), '5N_R': array([[ 8057,  9186,   234],\n",
       "        [10519, 12048,   263]]), '6N_L': array([[10734, 10232,   155],\n",
       "        [11596, 11063,   167]]), '6N_R': array([[10734, 10232,   192],\n",
       "        [11596, 11063,   204]]), '7N_L': array([[10519, 12571,    98],\n",
       "        [13750, 15217,   145]]), '7N_R': array([[10519, 12571,   214],\n",
       "        [13750, 15217,   261]]), '7n_L': array([[ 9104,  9955,    90],\n",
       "        [12180, 13678,   165]]), '7n_R': array([[ 9104,  9955,   194],\n",
       "        [12180, 13678,   269]]), 'AP': array([[15842,  9648,   170],\n",
       "        [18027, 11001,   191]]), 'Amb_L': array([[13596, 12540,   114],\n",
       "        [15719, 13586,   121]]), 'Amb_R': array([[13596, 12540,   238],\n",
       "        [15719, 13586,   245]]), 'DC_L': array([[10519,  7555,    49],\n",
       "        [14950, 10386,   122]]), 'DC_R': array([[10519,  7555,   237],\n",
       "        [14950, 10386,   310]]), 'IC': array([[ 5627,   -75,    91],\n",
       "        [11780,  6386,   265]]), 'LC_L': array([[ 8919,  7524,   130],\n",
       "        [11780,  9924,   145]]), 'LC_R': array([[ 8919,  7524,   214],\n",
       "        [11780,  9924,   229]]), 'LRt_L': array([[14734, 12509,   102],\n",
       "        [19411, 15217,   143]]), 'LRt_R': array([[14734, 12509,   216],\n",
       "        [19411, 15217,   257]]), 'PBG_L': array([[6088, 5371,   78],\n",
       "        [8088, 8386,   95]]), 'PBG_R': array([[6088, 5371,  264],\n",
       "        [8088, 8386,  281]]), 'Pn_L': array([[ 4365, 12048,   120],\n",
       "        [ 7627, 15555,   177]]), 'Pn_R': array([[ 4365, 12048,   182],\n",
       "        [ 7627, 15555,   239]]), 'RMC_L': array([[ 3657,  8263,   130],\n",
       "        [ 6488, 10355,   173]]), 'RMC_R': array([[ 3657,  8263,   186],\n",
       "        [ 6488, 10355,   229]]), 'RtTg': array([[ 5442, 10971,   132],\n",
       "        [10119, 14724,   224]]), 'SC': array([[1319,  447,   90],\n",
       "        [9657, 7832,  274]]), 'SNC_L': array([[ 2427,  8724,    94],\n",
       "        [ 4857, 12478,   144]]), 'SNC_R': array([[ 2427,  8724,   215],\n",
       "        [ 4857, 12478,   265]]), 'SNR_L': array([[ 2273,  7309,    76],\n",
       "        [ 6611, 13124,   152]]), 'SNR_R': array([[ 2273,  7309,   207],\n",
       "        [ 6611, 13124,   283]]), 'Sp5C_L': array([[16273,  9432,    79],\n",
       "        [23473, 15771,   139]]), 'Sp5C_R': array([[16273,  9432,   220],\n",
       "        [23473, 15771,   280]]), 'Sp5I_L': array([[11688,  9155,    63],\n",
       "        [18427, 13463,    95]]), 'Sp5I_R': array([[11688,  9155,   264],\n",
       "        [18427, 13463,   296]]), 'Sp5O_L': array([[ 8334,  9155,    69],\n",
       "        [16734, 13524,    96]]), 'Sp5O_R': array([[ 8334,  9155,   263],\n",
       "        [16734, 13524,   290]]), 'Tz_L': array([[ 7350, 13648,   140],\n",
       "        [10734, 15063,   170]]), 'Tz_R': array([[ 7350, 13648,   189],\n",
       "        [10734, 15063,   219]]), 'VCA_L': array([[ 8673,  8663,    42],\n",
       "        [12827, 12201,    79]]), 'VCA_R': array([[ 8673,  8663,   280],\n",
       "        [12827, 12201,   317]]), 'VCP_L': array([[11104,  8509,    49],\n",
       "        [13996, 12294,    86]]), 'VCP_R': array([[11104,  8509,   273],\n",
       "        [13996, 12294,   310]]), 'VLL_L': array([[ 5719,  7340,    83],\n",
       "        [ 8704, 15217,   130]]), 'VLL_R': array([[ 5719,  7340,   229],\n",
       "        [ 8704, 15217,   276]])}"
      ]
     },
     "execution_count": 15,
     "metadata": {},
     "output_type": "execute_result"
    }
   ],
   "source": [
    "registered_atlas_structures_wrt_wholebrainXYcropped_xysecTwoCorners"
   ]
  },
  {
   "cell_type": "code",
   "execution_count": 16,
   "metadata": {
    "collapsed": true
   },
   "outputs": [],
   "source": [
    "save_json(registered_atlas_structures_wrt_wholebrainXYcropped_xysecTwoCorners, \n",
    "          '/home/yuncong/' + stack + '_registered_atlas_structures_wrt_wholebrainXYcropped_xysecTwoCorners.json')"
   ]
  },
  {
   "cell_type": "code",
   "execution_count": 15,
   "metadata": {},
   "outputs": [],
   "source": [
    "# registered_atlas_structures_wrt_wholebrainWithMargin_section_limits = {}\n",
    "\n",
    "# for name_s, b in registered_atlas_structures_bbox_wrt_wholebrainWithMargin_atlasResol.iteritems():\n",
    "# #     print name_s\n",
    "#     registered_atlas_structures_wrt_wholebrainWithMargin_section_limits[name_s] = \\\n",
    "#     converter.convert_frame_and_resolution(p=[[np.nan, np.nan, b[4]], [np.nan, np.nan, b[5]]], \n",
    "#                                        in_wrt=('wholebrainWithMargin', 'sagittal'),\n",
    "#                                       in_resolution='10.0um',\n",
    "#                                       out_wrt='wholebrain',\n",
    "#                                       out_resolution='image_image_section')[:,2].astype(np.int)"
   ]
  },
  {
   "cell_type": "code",
   "execution_count": 35,
   "metadata": {
    "scrolled": true
   },
   "outputs": [],
   "source": [
    "# registered_atlas_structures_wrt_wholebrainWithMargin_section_limits"
   ]
  },
  {
   "cell_type": "code",
   "execution_count": 36,
   "metadata": {
    "collapsed": true
   },
   "outputs": [],
   "source": [
    "# save_json(registered_atlas_structures_wrt_wholebrainWithMargin_section_limits, \n",
    "#           '/home/yuncong/' + stack + '_structure_section_limits.json')"
   ]
  },
  {
   "cell_type": "code",
   "execution_count": null,
   "metadata": {
    "collapsed": true
   },
   "outputs": [],
   "source": []
  },
  {
   "cell_type": "code",
   "execution_count": 17,
   "metadata": {
    "collapsed": true
   },
   "outputs": [],
   "source": [
    "from learning_utilities import *"
   ]
  },
  {
   "cell_type": "code",
   "execution_count": 18,
   "metadata": {},
   "outputs": [
    {
     "name": "stderr",
     "output_type": "stream",
     "text": [
      "/usr/local/lib/python2.7/dist-packages/mxnet/module/base_module.py:53: UserWarning: \u001b[91mYou created Module with Module(..., label_names=['softmax_label']) but input with name 'softmax_label' is not found in symbol.list_arguments(). Did you mean one of:\n",
      "\tdata\u001b[0m\n",
      "  warnings.warn(msg)\n",
      "/usr/local/lib/python2.7/dist-packages/mxnet/module/base_module.py:65: UserWarning: Data provided by label_shapes don't match names specified by label_names ([] vs. ['softmax_label'])\n",
      "  warnings.warn(msg)\n"
     ]
    }
   ],
   "source": [
    "batch_size = 256\n",
    "model_dir_name = 'inception-bn-blue'\n",
    "model_name = 'inception-bn-blue'\n",
    "model, mean_img = load_mxnet_model(model_dir_name=model_dir_name, model_name=model_name, \n",
    "                                   num_gpus=1, batch_size=batch_size)"
   ]
  },
  {
   "cell_type": "code",
   "execution_count": 19,
   "metadata": {
    "collapsed": true
   },
   "outputs": [],
   "source": [
    "# out_resolution_um = 10.\n",
    "# out_resolution_str = '%.1fum' % out_resolution_um\n",
    "\n",
    "output_resolution = '10.0um'\n",
    "out_resolution_um = convert_resolution_string_to_um(resolution=output_resolution, stack=stack)\n",
    "\n",
    "# detector_id = 998\n",
    "detector_id = 799\n",
    "# print 'input_version:', detector_settings.loc[detector_id]['input_version']"
   ]
  },
  {
   "cell_type": "code",
   "execution_count": 20,
   "metadata": {
    "collapsed": true
   },
   "outputs": [],
   "source": [
    "detector_setting = {}\n",
    "detector_setting['feature_classifier_id'] = 899\n",
    "detector_setting['windowing_id'] = 7"
   ]
  },
  {
   "cell_type": "code",
   "execution_count": 40,
   "metadata": {
    "collapsed": true
   },
   "outputs": [],
   "source": [
    "clfs = DataManager.load_classifiers(classifier_id=detector_setting['feature_classifier_id'])"
   ]
  },
  {
   "cell_type": "code",
   "execution_count": 41,
   "metadata": {
    "collapsed": true
   },
   "outputs": [],
   "source": [
    "win_id = detector_setting['windowing_id']"
   ]
  },
  {
   "cell_type": "code",
   "execution_count": 42,
   "metadata": {
    "collapsed": true
   },
   "outputs": [],
   "source": [
    "motor_nuclei = ['Amb', '3N', '4N', '5N', '6N', '7N', '10N', '12N']"
   ]
  },
  {
   "cell_type": "code",
   "execution_count": 43,
   "metadata": {
    "collapsed": true
   },
   "outputs": [],
   "source": [
    "# output_resolution = '10.0um'"
   ]
  },
  {
   "cell_type": "code",
   "execution_count": 67,
   "metadata": {},
   "outputs": [],
   "source": [
    "registered_atlas_structures_wrt_wholebrainXYcropped_bboxes_perSection = defaultdict(dict)\n",
    "\n",
    "section_margin_um = 200.\n",
    "section_margin = 10\n",
    "image_margin_um = 200.\n",
    "image_margin = int(np.round(image_margin_um / convert_resolution_string_to_um('raw', stack)))\n",
    "\n",
    "valid_secmin = np.min(metadata_cache['valid_sections'][stack])\n",
    "valid_secmax = np.max(metadata_cache['valid_sections'][stack])\n",
    "\n",
    "for name_u in all_known_structures:\n",
    "# for name_u in motor_nuclei:\n",
    "# for name_u in ['RtTg', 'VCA', 'AP', 'Tz', 'LC', 'Sp5O', '7n', 'SNC', 'Sp5I', 'DC', 'Sp5C', 'VCP', 'RMC', 'PBG', 'SNR', 'LRt', 'SC', 'IC', 'Pn', 'VLL']:\n",
    "        \n",
    "    if name_u in singular_structures:\n",
    "        \n",
    "        (xmin, ymin, secmin), (xmax, ymax, secmax) = registered_atlas_structures_wrt_wholebrainXYcropped_xysecTwoCorners[name_u]\n",
    "        \n",
    "        for sec in range(max(secmin - section_margin, valid_secmin), min(secmax + 1 + section_margin, valid_secmax)):\n",
    "            \n",
    "            if is_invalid(sec=sec, stack=stack):\n",
    "                continue\n",
    "                \n",
    "            registered_atlas_structures_wrt_wholebrainXYcropped_bboxes_perSection[name_u][sec] = \\\n",
    "            (max(xmin - image_margin, 0), \n",
    "             xmax + image_margin, \n",
    "             max(ymin - image_margin, 0), \n",
    "             ymax + image_margin)\n",
    "    else:\n",
    "        \n",
    "        a = defaultdict(list)\n",
    "        \n",
    "        lname = convert_to_left_name(name_u)        \n",
    "        (xmin, ymin, secmin), (xmax, ymax, secmax) = registered_atlas_structures_wrt_wholebrainXYcropped_xysecTwoCorners[lname]\n",
    "        \n",
    "        for sec in range(max(secmin - section_margin, valid_secmin), min(secmax + 1 + section_margin, valid_secmax)):\n",
    "\n",
    "            if is_invalid(sec=sec, stack=stack):\n",
    "                continue\n",
    "                \n",
    "            a[sec].append((max(xmin - image_margin, 0), \n",
    "             xmax + image_margin, \n",
    "             max(ymin - image_margin, 0), \n",
    "             ymax + image_margin))\n",
    "        \n",
    "        rname = convert_to_right_name(name_u)\n",
    "        (xmin, ymin, secmin), (xmax, ymax, secmax) = registered_atlas_structures_wrt_wholebrainXYcropped_xysecTwoCorners[rname]\n",
    "    \n",
    "        for sec in range(max(secmin - section_margin, valid_secmin), min(secmax + 1 + section_margin, valid_secmax)):\n",
    "\n",
    "            if is_invalid(sec=sec, stack=stack):\n",
    "                continue\n",
    "                \n",
    "            a[sec].append((max(xmin - image_margin, 0), \n",
    "             xmax + image_margin, \n",
    "             max(ymin - image_margin, 0), \n",
    "             ymax + image_margin))\n",
    "            \n",
    "        for sec, bboxes in a.iteritems():\n",
    "            if len(bboxes) == 1:\n",
    "                registered_atlas_structures_wrt_wholebrainXYcropped_bboxes_perSection[name_u][sec] = bboxes[0]\n",
    "            else:\n",
    "                xmin, ymin = np.min(bboxes, axis=0)[[0,2]]\n",
    "                xmax, ymax = np.max(bboxes, axis=0)[[1,3]]\n",
    "                registered_atlas_structures_wrt_wholebrainXYcropped_bboxes_perSection[name_u][sec] = (xmin, xmax, ymin, ymax)"
   ]
  },
  {
   "cell_type": "code",
   "execution_count": 101,
   "metadata": {
    "scrolled": true
   },
   "outputs": [],
   "source": [
    "# registered_atlas_structures_wrt_wholebrainXYcropped_roiSections = {}\n",
    "\n",
    "# for name_s, ((xmin, ymin, secmin), (xmax, ymax, secmax)) in registered_atlas_structures_wrt_wholebrainXYcropped_xysecTwoCorners.iteritems():\n",
    "    \n",
    "#     registered_atlas_structures_wrt_wholebrainXYcropped_roiSections[name_s] = \\\n",
    "#     [sec for sec in range(max(secmin - 10, metadata_cache['section_limits'][stack][0]), \n",
    "#                          min(secmin + 1 + 10, metadata_cache['section_limits'][stack][1]))\n",
    "#                    if not is_invalid(sec=sec, stack=stack)]"
   ]
  },
  {
   "cell_type": "code",
   "execution_count": 86,
   "metadata": {
    "collapsed": true
   },
   "outputs": [],
   "source": [
    "# atlas_structures_wrt_wholebrainWithMargin_sections = defaultdict(list)\n",
    "# for name_s, (s1, s2) in atlas_structures_wrt_wholebrainWithMargin_section_limits.iteritems():\n",
    "#     atlas_structures_wrt_wholebrainWithMargin_sections[convert_to_original_name(name_s)] += range(max(s1 - 10, metadata_cache['section_limits'][stack][0]), \n",
    "#                                                                                                   min(s2+1 + 10, metadata_cache['section_limits'][stack][1]))\n",
    "\n",
    "# atlas_structures_wrt_wholebrainWithMargin_sections = {name_s: sorted(set(sec_list)) for name_s, sec_list in atlas_structures_wrt_wholebrainWithMargin_sections.iteritems()}\n",
    "# # atlas_structures_wrt_wholebrainWithMargin_sections.default_factory = None"
   ]
  },
  {
   "cell_type": "code",
   "execution_count": null,
   "metadata": {
    "scrolled": true
   },
   "outputs": [
    {
     "name": "stdout",
     "output_type": "stream",
     "text": [
      "5N 128\n"
     ]
    },
    {
     "name": "stderr",
     "output_type": "stream",
     "text": [
      "locate patches: 0.02 seconds\n",
      "Load pre-computed features: 0.65 seconds\n",
      "Not using image_cache.\n"
     ]
    },
    {
     "name": "stdout",
     "output_type": "stream",
     "text": [
      "/data/CSHL_data_processed/CHATM2/CHATM2_prep2_raw_NtbNormalizedAdaptiveInvertedGammaJpeg/CHATM2_slide44_2018_01_22-S1_prep2_raw_NtbNormalizedAdaptiveInvertedGammaJpeg.jpg\n"
     ]
    },
    {
     "name": "stderr",
     "output_type": "stream",
     "text": [
      "Load background image: 2.49 seconds\n",
      "Rescale background image to output resolution: 0.14 seconds\n",
      "Predict scores 5N: 0.01 seconds\n",
      "Resample scoremap 5N: 0.09 seconds\n",
      "Load and rescale background image: 0.00 seconds\n",
      "Generate scoremap overlay: 0.05 seconds.\n",
      "Scoremap size does not match background image size. Need to resize: 0.08 seconds.\n",
      "Generate scoremap overlay image 5N: 0.16 seconds\n",
      "locate patches: 0.02 seconds\n"
     ]
    },
    {
     "name": "stdout",
     "output_type": "stream",
     "text": [
      "(597, 925, 3) (597, 925)\n",
      "5N 129\n"
     ]
    },
    {
     "name": "stderr",
     "output_type": "stream",
     "text": [
      "Load pre-computed features: 0.59 seconds\n",
      "Not using image_cache.\n"
     ]
    },
    {
     "name": "stdout",
     "output_type": "stream",
     "text": [
      "/data/CSHL_data_processed/CHATM2/CHATM2_prep2_raw_NtbNormalizedAdaptiveInvertedGammaJpeg/CHATM2_slide43_2018_01_22-S2_prep2_raw_NtbNormalizedAdaptiveInvertedGammaJpeg.jpg\n"
     ]
    },
    {
     "name": "stderr",
     "output_type": "stream",
     "text": [
      "Load background image: 2.48 seconds\n",
      "Rescale background image to output resolution: 0.14 seconds\n",
      "Predict scores 5N: 0.01 seconds\n",
      "Resample scoremap 5N: 0.09 seconds\n",
      "Load and rescale background image: 0.00 seconds\n",
      "Generate scoremap overlay: 0.05 seconds.\n",
      "Scoremap size does not match background image size. Need to resize: 0.08 seconds.\n",
      "Generate scoremap overlay image 5N: 0.17 seconds\n",
      "locate patches: 0.02 seconds\n"
     ]
    },
    {
     "name": "stdout",
     "output_type": "stream",
     "text": [
      "(597, 925, 3) (597, 925)\n",
      "5N 130\n"
     ]
    },
    {
     "name": "stderr",
     "output_type": "stream",
     "text": [
      "Load pre-computed features: 0.60 seconds\n",
      "Not using image_cache.\n"
     ]
    },
    {
     "name": "stdout",
     "output_type": "stream",
     "text": [
      "/data/CSHL_data_processed/CHATM2/CHATM2_prep2_raw_NtbNormalizedAdaptiveInvertedGammaJpeg/CHATM2_slide44_2018_01_22-S2_prep2_raw_NtbNormalizedAdaptiveInvertedGammaJpeg.jpg\n"
     ]
    },
    {
     "name": "stderr",
     "output_type": "stream",
     "text": [
      "Load background image: 2.48 seconds\n",
      "Rescale background image to output resolution: 0.15 seconds\n",
      "Predict scores 5N: 0.01 seconds\n",
      "Resample scoremap 5N: 0.09 seconds\n",
      "Load and rescale background image: 0.00 seconds\n",
      "Generate scoremap overlay: 0.06 seconds.\n",
      "Scoremap size does not match background image size. Need to resize: 0.08 seconds.\n",
      "Generate scoremap overlay image 5N: 0.17 seconds\n",
      "locate patches: 0.02 seconds\n"
     ]
    },
    {
     "name": "stdout",
     "output_type": "stream",
     "text": [
      "(597, 925, 3) (597, 925)\n",
      "5N 131\n"
     ]
    },
    {
     "name": "stderr",
     "output_type": "stream",
     "text": [
      "Load pre-computed features: 0.57 seconds\n",
      "Not using image_cache.\n"
     ]
    },
    {
     "name": "stdout",
     "output_type": "stream",
     "text": [
      "/data/CSHL_data_processed/CHATM2/CHATM2_prep2_raw_NtbNormalizedAdaptiveInvertedGammaJpeg/CHATM2_slide43_2018_01_22-S3_prep2_raw_NtbNormalizedAdaptiveInvertedGammaJpeg.jpg\n"
     ]
    },
    {
     "name": "stderr",
     "output_type": "stream",
     "text": [
      "Load background image: 2.58 seconds\n",
      "Rescale background image to output resolution: 0.14 seconds\n",
      "Predict scores 5N: 0.01 seconds\n",
      "Resample scoremap 5N: 0.09 seconds\n",
      "Load and rescale background image: 0.00 seconds\n",
      "Generate scoremap overlay: 0.05 seconds.\n",
      "Scoremap size does not match background image size. Need to resize: 0.08 seconds.\n",
      "Generate scoremap overlay image 5N: 0.16 seconds\n",
      "locate patches: 0.02 seconds\n"
     ]
    },
    {
     "name": "stdout",
     "output_type": "stream",
     "text": [
      "(597, 925, 3) (597, 925)\n",
      "5N 132\n"
     ]
    },
    {
     "name": "stderr",
     "output_type": "stream",
     "text": [
      "Load pre-computed features: 0.57 seconds\n",
      "Not using image_cache.\n"
     ]
    },
    {
     "name": "stdout",
     "output_type": "stream",
     "text": [
      "/data/CSHL_data_processed/CHATM2/CHATM2_prep2_raw_NtbNormalizedAdaptiveInvertedGammaJpeg/CHATM2_slide44_2018_01_22-S3_prep2_raw_NtbNormalizedAdaptiveInvertedGammaJpeg.jpg\n"
     ]
    },
    {
     "name": "stderr",
     "output_type": "stream",
     "text": [
      "Load background image: 2.71 seconds\n",
      "Rescale background image to output resolution: 0.14 seconds\n",
      "Predict scores 5N: 0.01 seconds\n",
      "Resample scoremap 5N: 0.11 seconds\n",
      "Load and rescale background image: 0.00 seconds\n",
      "Generate scoremap overlay: 0.05 seconds.\n",
      "Scoremap size does not match background image size. Need to resize: 0.07 seconds.\n",
      "Generate scoremap overlay image 5N: 0.15 seconds\n",
      "locate patches: 0.02 seconds\n"
     ]
    },
    {
     "name": "stdout",
     "output_type": "stream",
     "text": [
      "(597, 925, 3) (597, 925)\n",
      "5N 133\n"
     ]
    },
    {
     "name": "stderr",
     "output_type": "stream",
     "text": [
      "Load pre-computed features: 0.58 seconds\n",
      "Not using image_cache.\n"
     ]
    },
    {
     "name": "stdout",
     "output_type": "stream",
     "text": [
      "/data/CSHL_data_processed/CHATM2/CHATM2_prep2_raw_NtbNormalizedAdaptiveInvertedGammaJpeg/CHATM2_slide45_2018_01_22-S1_prep2_raw_NtbNormalizedAdaptiveInvertedGammaJpeg.jpg\n"
     ]
    },
    {
     "name": "stderr",
     "output_type": "stream",
     "text": [
      "Load background image: 2.65 seconds\n",
      "Rescale background image to output resolution: 0.14 seconds\n",
      "Predict scores 5N: 0.00 seconds\n",
      "Resample scoremap 5N: 0.09 seconds\n",
      "Load and rescale background image: 0.00 seconds\n",
      "Generate scoremap overlay: 0.05 seconds.\n",
      "Scoremap size does not match background image size. Need to resize: 0.08 seconds.\n",
      "Generate scoremap overlay image 5N: 0.16 seconds\n",
      "locate patches: 0.02 seconds\n"
     ]
    },
    {
     "name": "stdout",
     "output_type": "stream",
     "text": [
      "(597, 925, 3) (597, 925)\n",
      "5N 134\n"
     ]
    },
    {
     "name": "stderr",
     "output_type": "stream",
     "text": [
      "Load pre-computed features: 0.57 seconds\n",
      "Not using image_cache.\n"
     ]
    },
    {
     "name": "stdout",
     "output_type": "stream",
     "text": [
      "/data/CSHL_data_processed/CHATM2/CHATM2_prep2_raw_NtbNormalizedAdaptiveInvertedGammaJpeg/CHATM2_slide46_2018_01_22-S1_prep2_raw_NtbNormalizedAdaptiveInvertedGammaJpeg.jpg\n"
     ]
    },
    {
     "name": "stderr",
     "output_type": "stream",
     "text": [
      "Load background image: 2.47 seconds\n",
      "Rescale background image to output resolution: 0.14 seconds\n",
      "Predict scores 5N: 0.01 seconds\n",
      "Resample scoremap 5N: 0.09 seconds\n",
      "Load and rescale background image: 0.00 seconds\n",
      "Generate scoremap overlay: 0.05 seconds.\n",
      "Scoremap size does not match background image size. Need to resize: 0.08 seconds.\n",
      "Generate scoremap overlay image 5N: 0.15 seconds\n",
      "locate patches: 0.02 seconds\n"
     ]
    },
    {
     "name": "stdout",
     "output_type": "stream",
     "text": [
      "(597, 925, 3) (597, 925)\n",
      "5N 135\n"
     ]
    },
    {
     "name": "stderr",
     "output_type": "stream",
     "text": [
      "Load pre-computed features: 0.60 seconds\n",
      "Not using image_cache.\n"
     ]
    },
    {
     "name": "stdout",
     "output_type": "stream",
     "text": [
      "/data/CSHL_data_processed/CHATM2/CHATM2_prep2_raw_NtbNormalizedAdaptiveInvertedGammaJpeg/CHATM2_slide45_2018_01_22-S2_prep2_raw_NtbNormalizedAdaptiveInvertedGammaJpeg.jpg\n"
     ]
    },
    {
     "name": "stderr",
     "output_type": "stream",
     "text": [
      "Load background image: 2.72 seconds\n",
      "Rescale background image to output resolution: 0.14 seconds\n",
      "Predict scores 5N: 0.01 seconds\n",
      "Resample scoremap 5N: 0.11 seconds\n",
      "Load and rescale background image: 0.00 seconds\n",
      "Generate scoremap overlay: 0.05 seconds.\n",
      "Scoremap size does not match background image size. Need to resize: 0.08 seconds.\n",
      "Generate scoremap overlay image 5N: 0.16 seconds\n",
      "locate patches: 0.02 seconds\n"
     ]
    },
    {
     "name": "stdout",
     "output_type": "stream",
     "text": [
      "(597, 925, 3) (597, 925)\n",
      "5N 265\n"
     ]
    },
    {
     "name": "stderr",
     "output_type": "stream",
     "text": [
      "Load pre-computed features: 0.49 seconds\n",
      "Not using image_cache.\n"
     ]
    },
    {
     "name": "stdout",
     "output_type": "stream",
     "text": [
      "/data/CSHL_data_processed/CHATM2/CHATM2_prep2_raw_NtbNormalizedAdaptiveInvertedGammaJpeg/CHATM2_slide88_2018_02_13-S2_prep2_raw_NtbNormalizedAdaptiveInvertedGammaJpeg.jpg\n"
     ]
    },
    {
     "name": "stderr",
     "output_type": "stream",
     "text": [
      "Load background image: 2.27 seconds\n",
      "Rescale background image to output resolution: 0.19 seconds\n",
      "Predict scores 5N: 0.01 seconds\n",
      "Resample scoremap 5N: 0.09 seconds\n",
      "Load and rescale background image: 0.00 seconds\n",
      "Generate scoremap overlay: 0.05 seconds.\n",
      "Scoremap size does not match background image size. Need to resize: 0.08 seconds.\n",
      "Generate scoremap overlay image 5N: 0.15 seconds\n",
      "locate patches: 0.02 seconds\n"
     ]
    },
    {
     "name": "stdout",
     "output_type": "stream",
     "text": [
      "(597, 925, 3) (597, 925)\n",
      "5N 267\n"
     ]
    },
    {
     "name": "stderr",
     "output_type": "stream",
     "text": [
      "Load pre-computed features: 0.50 seconds\n",
      "Not using image_cache.\n"
     ]
    },
    {
     "name": "stdout",
     "output_type": "stream",
     "text": [
      "/data/CSHL_data_processed/CHATM2/CHATM2_prep2_raw_NtbNormalizedAdaptiveInvertedGammaJpeg/CHATM2_slide88_2018_02_13-S3_prep2_raw_NtbNormalizedAdaptiveInvertedGammaJpeg.jpg\n"
     ]
    },
    {
     "name": "stderr",
     "output_type": "stream",
     "text": [
      "Load background image: 2.26 seconds\n",
      "Rescale background image to output resolution: 0.14 seconds\n",
      "Predict scores 5N: 0.01 seconds\n",
      "Resample scoremap 5N: 0.09 seconds\n",
      "Load and rescale background image: 0.00 seconds\n",
      "Generate scoremap overlay: 0.05 seconds.\n",
      "Scoremap size does not match background image size. Need to resize: 0.08 seconds.\n",
      "Generate scoremap overlay image 5N: 0.15 seconds\n",
      "locate patches: 0.02 seconds\n"
     ]
    },
    {
     "name": "stdout",
     "output_type": "stream",
     "text": [
      "(597, 925, 3) (597, 925)\n",
      "5N 269\n"
     ]
    },
    {
     "name": "stderr",
     "output_type": "stream",
     "text": [
      "Load pre-computed features: 0.50 seconds\n",
      "Not using image_cache.\n"
     ]
    },
    {
     "name": "stdout",
     "output_type": "stream",
     "text": [
      "/data/CSHL_data_processed/CHATM2/CHATM2_prep2_raw_NtbNormalizedAdaptiveInvertedGammaJpeg/CHATM2_slide90_2018_02_13-S1_prep2_raw_NtbNormalizedAdaptiveInvertedGammaJpeg.jpg\n"
     ]
    },
    {
     "name": "stderr",
     "output_type": "stream",
     "text": [
      "Load background image: 2.20 seconds\n",
      "Rescale background image to output resolution: 0.14 seconds\n",
      "Predict scores 5N: 0.01 seconds\n",
      "Resample scoremap 5N: 0.09 seconds\n",
      "Load and rescale background image: 0.00 seconds\n",
      "Generate scoremap overlay: 0.05 seconds.\n",
      "Scoremap size does not match background image size. Need to resize: 0.08 seconds.\n",
      "Generate scoremap overlay image 5N: 0.15 seconds\n",
      "locate patches: 0.02 seconds\n"
     ]
    },
    {
     "name": "stdout",
     "output_type": "stream",
     "text": [
      "(597, 925, 3) (597, 925)\n",
      "5N 271\n"
     ]
    },
    {
     "name": "stderr",
     "output_type": "stream",
     "text": [
      "Load pre-computed features: 0.49 seconds\n",
      "Not using image_cache.\n"
     ]
    },
    {
     "name": "stdout",
     "output_type": "stream",
     "text": [
      "/data/CSHL_data_processed/CHATM2/CHATM2_prep2_raw_NtbNormalizedAdaptiveInvertedGammaJpeg/CHATM2_slide90_2018_02_13-S2_prep2_raw_NtbNormalizedAdaptiveInvertedGammaJpeg.jpg\n"
     ]
    },
    {
     "name": "stderr",
     "output_type": "stream",
     "text": [
      "Load background image: 2.25 seconds\n",
      "Rescale background image to output resolution: 0.14 seconds\n",
      "Predict scores 5N: 0.01 seconds\n",
      "Resample scoremap 5N: 0.10 seconds\n",
      "Load and rescale background image: 0.00 seconds\n",
      "Generate scoremap overlay: 0.05 seconds.\n",
      "Scoremap size does not match background image size. Need to resize: 0.08 seconds.\n",
      "Generate scoremap overlay image 5N: 0.16 seconds\n",
      "locate patches: 0.02 seconds\n"
     ]
    },
    {
     "name": "stdout",
     "output_type": "stream",
     "text": [
      "(597, 925, 3) (597, 925)\n",
      "5N 273\n"
     ]
    },
    {
     "name": "stderr",
     "output_type": "stream",
     "text": [
      "Load pre-computed features: 0.58 seconds\n",
      "Not using image_cache.\n"
     ]
    },
    {
     "name": "stdout",
     "output_type": "stream",
     "text": [
      "/data/CSHL_data_processed/CHATM2/CHATM2_prep2_raw_NtbNormalizedAdaptiveInvertedGammaJpeg/CHATM2_slide90_2018_02_13-S3_prep2_raw_NtbNormalizedAdaptiveInvertedGammaJpeg.jpg\n"
     ]
    },
    {
     "name": "stderr",
     "output_type": "stream",
     "text": [
      "Load background image: 2.30 seconds\n",
      "Rescale background image to output resolution: 0.14 seconds\n",
      "Predict scores 5N: 0.01 seconds\n",
      "Resample scoremap 5N: 0.09 seconds\n",
      "Load and rescale background image: 0.00 seconds\n",
      "Generate scoremap overlay: 0.05 seconds.\n",
      "Scoremap size does not match background image size. Need to resize: 0.08 seconds.\n",
      "Generate scoremap overlay image 5N: 0.16 seconds\n",
      "locate patches: 0.02 seconds\n"
     ]
    },
    {
     "name": "stdout",
     "output_type": "stream",
     "text": [
      "(597, 925, 3) (597, 925)\n",
      "5N 259\n"
     ]
    },
    {
     "name": "stderr",
     "output_type": "stream",
     "text": [
      "Load pre-computed features: 0.54 seconds\n",
      "Not using image_cache.\n"
     ]
    },
    {
     "name": "stdout",
     "output_type": "stream",
     "text": [
      "/data/CSHL_data_processed/CHATM2/CHATM2_prep2_raw_NtbNormalizedAdaptiveInvertedGammaJpeg/CHATM2_slide86_2018_02_13-S2_prep2_raw_NtbNormalizedAdaptiveInvertedGammaJpeg.jpg\n"
     ]
    },
    {
     "name": "stderr",
     "output_type": "stream",
     "text": [
      "Load background image: 2.28 seconds\n",
      "Rescale background image to output resolution: 0.14 seconds\n",
      "Predict scores 5N: 0.01 seconds\n",
      "Resample scoremap 5N: 0.09 seconds\n",
      "Load and rescale background image: 0.00 seconds\n",
      "Generate scoremap overlay: 0.05 seconds.\n",
      "Scoremap size does not match background image size. Need to resize: 0.08 seconds.\n",
      "Generate scoremap overlay image 5N: 0.16 seconds\n",
      "locate patches: 0.02 seconds\n"
     ]
    },
    {
     "name": "stdout",
     "output_type": "stream",
     "text": [
      "(597, 925, 3) (597, 925)\n",
      "5N 127\n"
     ]
    },
    {
     "name": "stderr",
     "output_type": "stream",
     "text": [
      "Load pre-computed features: 0.58 seconds\n",
      "Not using image_cache.\n"
     ]
    },
    {
     "name": "stdout",
     "output_type": "stream",
     "text": [
      "/data/CSHL_data_processed/CHATM2/CHATM2_prep2_raw_NtbNormalizedAdaptiveInvertedGammaJpeg/CHATM2_slide43_2018_01_22-S1_prep2_raw_NtbNormalizedAdaptiveInvertedGammaJpeg.jpg\n"
     ]
    },
    {
     "name": "stderr",
     "output_type": "stream",
     "text": [
      "Load background image: 2.60 seconds\n",
      "Rescale background image to output resolution: 0.14 seconds\n",
      "Predict scores 5N: 0.01 seconds\n",
      "Resample scoremap 5N: 0.09 seconds\n",
      "Load and rescale background image: 0.00 seconds\n",
      "Generate scoremap overlay: 0.06 seconds.\n",
      "Scoremap size does not match background image size. Need to resize: 0.08 seconds.\n",
      "Generate scoremap overlay image 5N: 0.17 seconds\n",
      "locate patches: 0.02 seconds\n"
     ]
    },
    {
     "name": "stdout",
     "output_type": "stream",
     "text": [
      "(597, 925, 3) (597, 925)\n",
      "5N 111\n"
     ]
    },
    {
     "name": "stderr",
     "output_type": "stream",
     "text": [
      "Load pre-computed features: 0.52 seconds\n",
      "Not using image_cache.\n"
     ]
    },
    {
     "name": "stdout",
     "output_type": "stream",
     "text": [
      "/data/CSHL_data_processed/CHATM2/CHATM2_prep2_raw_NtbNormalizedAdaptiveInvertedGammaJpeg/CHATM2_slide37_2018_01_22-S2_prep2_raw_NtbNormalizedAdaptiveInvertedGammaJpeg.jpg\n"
     ]
    },
    {
     "name": "stderr",
     "output_type": "stream",
     "text": [
      "Load background image: 2.42 seconds\n",
      "Rescale background image to output resolution: 0.14 seconds\n",
      "Predict scores 5N: 0.01 seconds\n",
      "Resample scoremap 5N: 0.06 seconds\n",
      "Load and rescale background image: 0.00 seconds\n",
      "Generate scoremap overlay: 0.05 seconds.\n",
      "Scoremap size does not match background image size. Need to resize: 0.08 seconds.\n"
     ]
    },
    {
     "name": "stdout",
     "output_type": "stream",
     "text": [
      "(597, 925, 3) (597, 925)\n",
      "5N 231\n"
     ]
    },
    {
     "name": "stderr",
     "output_type": "stream",
     "text": [
      "Generate scoremap overlay image 5N: 0.16 seconds\n",
      "locate patches: 0.02 seconds\n",
      "Load pre-computed features: 0.60 seconds\n",
      "Not using image_cache.\n"
     ]
    },
    {
     "name": "stdout",
     "output_type": "stream",
     "text": [
      "/data/CSHL_data_processed/CHATM2/CHATM2_prep2_raw_NtbNormalizedAdaptiveInvertedGammaJpeg/CHATM2_slide76_2018_02_14-S3_prep2_raw_NtbNormalizedAdaptiveInvertedGammaJpeg.jpg\n"
     ]
    },
    {
     "name": "stderr",
     "output_type": "stream",
     "text": [
      "Load background image: 2.49 seconds\n",
      "Rescale background image to output resolution: 0.14 seconds\n",
      "Predict scores 5N: 0.01 seconds\n",
      "Resample scoremap 5N: 0.09 seconds\n",
      "Load and rescale background image: 0.00 seconds\n",
      "Generate scoremap overlay: 0.05 seconds.\n",
      "Scoremap size does not match background image size. Need to resize: 0.08 seconds.\n",
      "Generate scoremap overlay image 5N: 0.16 seconds\n",
      "locate patches: 0.02 seconds\n"
     ]
    },
    {
     "name": "stdout",
     "output_type": "stream",
     "text": [
      "(597, 925, 3) (597, 925)\n",
      "5N 261\n"
     ]
    },
    {
     "name": "stderr",
     "output_type": "stream",
     "text": [
      "Load pre-computed features: 0.52 seconds\n",
      "Not using image_cache.\n"
     ]
    },
    {
     "name": "stdout",
     "output_type": "stream",
     "text": [
      "/data/CSHL_data_processed/CHATM2/CHATM2_prep2_raw_NtbNormalizedAdaptiveInvertedGammaJpeg/CHATM2_slide86_2018_02_13-S3_prep2_raw_NtbNormalizedAdaptiveInvertedGammaJpeg.jpg\n"
     ]
    },
    {
     "name": "stderr",
     "output_type": "stream",
     "text": [
      "Load background image: 2.36 seconds\n",
      "Rescale background image to output resolution: 0.14 seconds\n",
      "Predict scores 5N: 0.01 seconds\n",
      "Resample scoremap 5N: 0.09 seconds\n",
      "Load and rescale background image: 0.00 seconds\n",
      "Generate scoremap overlay: 0.05 seconds.\n",
      "Scoremap size does not match background image size. Need to resize: 0.08 seconds.\n",
      "Generate scoremap overlay image 5N: 0.16 seconds\n",
      "locate patches: 0.02 seconds\n"
     ]
    },
    {
     "name": "stdout",
     "output_type": "stream",
     "text": [
      "(597, 925, 3) (597, 925)\n",
      "5N 113\n"
     ]
    },
    {
     "name": "stderr",
     "output_type": "stream",
     "text": [
      "Load pre-computed features: 0.54 seconds\n",
      "Not using image_cache.\n"
     ]
    },
    {
     "name": "stdout",
     "output_type": "stream",
     "text": [
      "/data/CSHL_data_processed/CHATM2/CHATM2_prep2_raw_NtbNormalizedAdaptiveInvertedGammaJpeg/CHATM2_slide37_2018_01_22-S3_prep2_raw_NtbNormalizedAdaptiveInvertedGammaJpeg.jpg\n"
     ]
    },
    {
     "name": "stderr",
     "output_type": "stream",
     "text": [
      "Load background image: 2.44 seconds\n",
      "Rescale background image to output resolution: 0.14 seconds\n",
      "Predict scores 5N: 0.01 seconds\n",
      "Resample scoremap 5N: 0.09 seconds\n",
      "Load and rescale background image: 0.00 seconds\n",
      "Generate scoremap overlay: 0.05 seconds.\n",
      "Scoremap size does not match background image size. Need to resize: 0.08 seconds.\n",
      "Generate scoremap overlay image 5N: 0.15 seconds\n",
      "locate patches: 0.02 seconds\n"
     ]
    },
    {
     "name": "stdout",
     "output_type": "stream",
     "text": [
      "(597, 925, 3) (597, 925)\n",
      "5N 263\n"
     ]
    },
    {
     "name": "stderr",
     "output_type": "stream",
     "text": [
      "Load pre-computed features: 0.51 seconds\n",
      "Not using image_cache.\n"
     ]
    },
    {
     "name": "stdout",
     "output_type": "stream",
     "text": [
      "/data/CSHL_data_processed/CHATM2/CHATM2_prep2_raw_NtbNormalizedAdaptiveInvertedGammaJpeg/CHATM2_slide88_2018_02_13-S1_prep2_raw_NtbNormalizedAdaptiveInvertedGammaJpeg.jpg\n"
     ]
    },
    {
     "name": "stderr",
     "output_type": "stream",
     "text": [
      "Load background image: 2.26 seconds\n",
      "Rescale background image to output resolution: 0.14 seconds\n",
      "Predict scores 5N: 0.01 seconds\n",
      "Resample scoremap 5N: 0.09 seconds\n",
      "Load and rescale background image: 0.00 seconds\n",
      "Generate scoremap overlay: 0.08 seconds.\n",
      "Scoremap size does not match background image size. Need to resize: 0.08 seconds.\n",
      "Generate scoremap overlay image 5N: 0.18 seconds\n",
      "locate patches: 0.02 seconds\n"
     ]
    },
    {
     "name": "stdout",
     "output_type": "stream",
     "text": [
      "(597, 925, 3) (597, 925)\n",
      "5N 257\n"
     ]
    },
    {
     "name": "stderr",
     "output_type": "stream",
     "text": [
      "Load pre-computed features: 0.50 seconds\n",
      "Not using image_cache.\n"
     ]
    },
    {
     "name": "stdout",
     "output_type": "stream",
     "text": [
      "/data/CSHL_data_processed/CHATM2/CHATM2_prep2_raw_NtbNormalizedAdaptiveInvertedGammaJpeg/CHATM2_slide86_2018_02_13-S1_prep2_raw_NtbNormalizedAdaptiveInvertedGammaJpeg.jpg\n"
     ]
    },
    {
     "name": "stderr",
     "output_type": "stream",
     "text": [
      "Load background image: 2.17 seconds\n",
      "Rescale background image to output resolution: 0.14 seconds\n",
      "Predict scores 5N: 0.01 seconds\n",
      "Resample scoremap 5N: 0.09 seconds\n",
      "Load and rescale background image: 0.00 seconds\n",
      "Generate scoremap overlay: 0.05 seconds.\n",
      "Scoremap size does not match background image size. Need to resize: 0.08 seconds.\n",
      "Generate scoremap overlay image 5N: 0.15 seconds\n",
      "locate patches: 0.02 seconds\n"
     ]
    },
    {
     "name": "stdout",
     "output_type": "stream",
     "text": [
      "(597, 925, 3) (597, 925)\n",
      "5N 125\n"
     ]
    },
    {
     "name": "stderr",
     "output_type": "stream",
     "text": [
      "Load pre-computed features: 0.56 seconds\n",
      "Not using image_cache.\n"
     ]
    },
    {
     "name": "stdout",
     "output_type": "stream",
     "text": [
      "/data/CSHL_data_processed/CHATM2/CHATM2_prep2_raw_NtbNormalizedAdaptiveInvertedGammaJpeg/CHATM2_slide41_2018_01_22-S3_prep2_raw_NtbNormalizedAdaptiveInvertedGammaJpeg.jpg\n"
     ]
    },
    {
     "name": "stderr",
     "output_type": "stream",
     "text": [
      "Load background image: 2.52 seconds\n",
      "Rescale background image to output resolution: 0.14 seconds\n",
      "Predict scores 5N: 0.01 seconds\n",
      "Resample scoremap 5N: 0.09 seconds\n",
      "Load and rescale background image: 0.00 seconds\n",
      "Generate scoremap overlay: 0.05 seconds.\n",
      "Scoremap size does not match background image size. Need to resize: 0.08 seconds.\n",
      "Generate scoremap overlay image 5N: 0.16 seconds\n",
      "locate patches: 0.02 seconds\n"
     ]
    },
    {
     "name": "stdout",
     "output_type": "stream",
     "text": [
      "(597, 925, 3) (597, 925)\n",
      "5N 115\n"
     ]
    },
    {
     "name": "stderr",
     "output_type": "stream",
     "text": [
      "Load pre-computed features: 0.52 seconds\n",
      "Not using image_cache.\n"
     ]
    },
    {
     "name": "stdout",
     "output_type": "stream",
     "text": [
      "/data/CSHL_data_processed/CHATM2/CHATM2_prep2_raw_NtbNormalizedAdaptiveInvertedGammaJpeg/CHATM2_slide39_2018_01_22-S1_prep2_raw_NtbNormalizedAdaptiveInvertedGammaJpeg.jpg\n"
     ]
    },
    {
     "name": "stderr",
     "output_type": "stream",
     "text": [
      "Load background image: 2.52 seconds\n",
      "Rescale background image to output resolution: 0.14 seconds\n",
      "Predict scores 5N: 0.01 seconds\n",
      "Resample scoremap 5N: 0.09 seconds\n",
      "Load and rescale background image: 0.00 seconds\n",
      "Generate scoremap overlay: 0.05 seconds.\n",
      "Scoremap size does not match background image size. Need to resize: 0.08 seconds.\n",
      "Generate scoremap overlay image 5N: 0.16 seconds\n",
      "locate patches: 0.02 seconds\n"
     ]
    },
    {
     "name": "stdout",
     "output_type": "stream",
     "text": [
      "(597, 925, 3) (597, 925)\n",
      "5N 105\n"
     ]
    },
    {
     "name": "stderr",
     "output_type": "stream",
     "text": [
      "Load pre-computed features: 0.50 seconds\n",
      "Not using image_cache.\n"
     ]
    },
    {
     "name": "stdout",
     "output_type": "stream",
     "text": [
      "/data/CSHL_data_processed/CHATM2/CHATM2_prep2_raw_NtbNormalizedAdaptiveInvertedGammaJpeg/CHATM2_slide35_2018_01_20-S2_prep2_raw_NtbNormalizedAdaptiveInvertedGammaJpeg.jpg\n"
     ]
    },
    {
     "name": "stderr",
     "output_type": "stream",
     "text": [
      "Load background image: 2.42 seconds\n",
      "Rescale background image to output resolution: 0.14 seconds\n",
      "Predict scores 5N: 0.01 seconds\n",
      "Resample scoremap 5N: 0.09 seconds\n",
      "Load and rescale background image: 0.00 seconds\n",
      "Generate scoremap overlay: 0.06 seconds.\n",
      "Scoremap size does not match background image size. Need to resize: 0.08 seconds.\n",
      "Generate scoremap overlay image 5N: 0.17 seconds\n",
      "locate patches: 0.02 seconds\n"
     ]
    },
    {
     "name": "stdout",
     "output_type": "stream",
     "text": [
      "(597, 925, 3) (597, 925)\n",
      "5N 121\n"
     ]
    },
    {
     "name": "stderr",
     "output_type": "stream",
     "text": [
      "Load pre-computed features: 0.65 seconds\n",
      "Not using image_cache.\n"
     ]
    },
    {
     "name": "stdout",
     "output_type": "stream",
     "text": [
      "/data/CSHL_data_processed/CHATM2/CHATM2_prep2_raw_NtbNormalizedAdaptiveInvertedGammaJpeg/CHATM2_slide41_2018_01_22-S1_prep2_raw_NtbNormalizedAdaptiveInvertedGammaJpeg.jpg\n"
     ]
    },
    {
     "name": "stderr",
     "output_type": "stream",
     "text": [
      "Load background image: 2.76 seconds\n",
      "Rescale background image to output resolution: 0.14 seconds\n",
      "Predict scores 5N: 0.01 seconds\n",
      "Resample scoremap 5N: 0.09 seconds\n",
      "Load and rescale background image: 0.00 seconds\n",
      "Generate scoremap overlay: 0.05 seconds.\n",
      "Scoremap size does not match background image size. Need to resize: 0.08 seconds.\n",
      "Generate scoremap overlay image 5N: 0.16 seconds\n",
      "locate patches: 0.02 seconds\n"
     ]
    },
    {
     "name": "stdout",
     "output_type": "stream",
     "text": [
      "(597, 925, 3) (597, 925)\n",
      "5N 117\n"
     ]
    },
    {
     "name": "stderr",
     "output_type": "stream",
     "text": [
      "Load pre-computed features: 0.52 seconds\n",
      "Not using image_cache.\n"
     ]
    },
    {
     "name": "stdout",
     "output_type": "stream",
     "text": [
      "/data/CSHL_data_processed/CHATM2/CHATM2_prep2_raw_NtbNormalizedAdaptiveInvertedGammaJpeg/CHATM2_slide39_2018_01_22-S2_prep2_raw_NtbNormalizedAdaptiveInvertedGammaJpeg.jpg\n"
     ]
    },
    {
     "name": "stderr",
     "output_type": "stream",
     "text": [
      "Load background image: 2.46 seconds\n",
      "Rescale background image to output resolution: 0.18 seconds\n",
      "Predict scores 5N: 0.01 seconds\n",
      "Resample scoremap 5N: 0.09 seconds\n",
      "Load and rescale background image: 0.00 seconds\n",
      "Generate scoremap overlay: 0.05 seconds.\n",
      "Scoremap size does not match background image size. Need to resize: 0.08 seconds.\n",
      "Generate scoremap overlay image 5N: 0.16 seconds\n",
      "locate patches: 0.02 seconds\n"
     ]
    },
    {
     "name": "stdout",
     "output_type": "stream",
     "text": [
      "(597, 925, 3) (597, 925)\n",
      "5N 123\n"
     ]
    },
    {
     "name": "stderr",
     "output_type": "stream",
     "text": [
      "Load pre-computed features: 0.53 seconds\n",
      "Not using image_cache.\n"
     ]
    },
    {
     "name": "stdout",
     "output_type": "stream",
     "text": [
      "/data/CSHL_data_processed/CHATM2/CHATM2_prep2_raw_NtbNormalizedAdaptiveInvertedGammaJpeg/CHATM2_slide41_2018_01_22-S2_prep2_raw_NtbNormalizedAdaptiveInvertedGammaJpeg.jpg\n"
     ]
    },
    {
     "name": "stderr",
     "output_type": "stream",
     "text": [
      "Load background image: 2.47 seconds\n",
      "Rescale background image to output resolution: 0.14 seconds\n",
      "Predict scores 5N: 0.01 seconds\n",
      "Resample scoremap 5N: 0.09 seconds\n",
      "Load and rescale background image: 0.00 seconds\n",
      "Generate scoremap overlay: 0.05 seconds.\n",
      "Scoremap size does not match background image size. Need to resize: 0.08 seconds.\n",
      "Generate scoremap overlay image 5N: 0.16 seconds\n",
      "locate patches: 0.02 seconds\n"
     ]
    },
    {
     "name": "stdout",
     "output_type": "stream",
     "text": [
      "(597, 925, 3) (597, 925)\n",
      "5N 97\n"
     ]
    },
    {
     "name": "stderr",
     "output_type": "stream",
     "text": [
      "Load pre-computed features: 0.50 seconds\n",
      "Not using image_cache.\n"
     ]
    },
    {
     "name": "stdout",
     "output_type": "stream",
     "text": [
      "/data/CSHL_data_processed/CHATM2/CHATM2_prep2_raw_NtbNormalizedAdaptiveInvertedGammaJpeg/CHATM2_slide33_2018_01_20-S1_prep2_raw_NtbNormalizedAdaptiveInvertedGammaJpeg.jpg\n"
     ]
    },
    {
     "name": "stderr",
     "output_type": "stream",
     "text": [
      "Load background image: 2.23 seconds\n",
      "Rescale background image to output resolution: 0.14 seconds\n",
      "Predict scores 5N: 0.01 seconds\n",
      "Resample scoremap 5N: 0.09 seconds\n",
      "Load and rescale background image: 0.00 seconds\n",
      "Generate scoremap overlay: 0.05 seconds.\n",
      "Scoremap size does not match background image size. Need to resize: 0.08 seconds.\n",
      "Generate scoremap overlay image 5N: 0.15 seconds\n",
      "locate patches: 0.02 seconds\n"
     ]
    },
    {
     "name": "stdout",
     "output_type": "stream",
     "text": [
      "(597, 925, 3) (597, 925)\n",
      "5N 119\n"
     ]
    },
    {
     "name": "stderr",
     "output_type": "stream",
     "text": [
      "Load pre-computed features: 0.52 seconds\n",
      "Not using image_cache.\n"
     ]
    },
    {
     "name": "stdout",
     "output_type": "stream",
     "text": [
      "/data/CSHL_data_processed/CHATM2/CHATM2_prep2_raw_NtbNormalizedAdaptiveInvertedGammaJpeg/CHATM2_slide39_2018_01_22-S3_prep2_raw_NtbNormalizedAdaptiveInvertedGammaJpeg.jpg\n"
     ]
    },
    {
     "name": "stderr",
     "output_type": "stream",
     "text": [
      "Load background image: 2.52 seconds\n",
      "Rescale background image to output resolution: 0.14 seconds\n",
      "Predict scores 5N: 0.01 seconds\n",
      "Resample scoremap 5N: 0.09 seconds\n",
      "Load and rescale background image: 0.00 seconds\n",
      "Generate scoremap overlay: 0.05 seconds.\n",
      "Scoremap size does not match background image size. Need to resize: 0.07 seconds.\n",
      "Generate scoremap overlay image 5N: 0.15 seconds\n",
      "locate patches: 0.02 seconds\n"
     ]
    },
    {
     "name": "stdout",
     "output_type": "stream",
     "text": [
      "(597, 925, 3) (597, 925)\n",
      "5N 101\n"
     ]
    },
    {
     "name": "stderr",
     "output_type": "stream",
     "text": [
      "Load pre-computed features: 0.48 seconds\n",
      "Not using image_cache.\n"
     ]
    },
    {
     "name": "stdout",
     "output_type": "stream",
     "text": [
      "/data/CSHL_data_processed/CHATM2/CHATM2_prep2_raw_NtbNormalizedAdaptiveInvertedGammaJpeg/CHATM2_slide33_2018_01_20-S3_prep2_raw_NtbNormalizedAdaptiveInvertedGammaJpeg.jpg\n"
     ]
    },
    {
     "name": "stderr",
     "output_type": "stream",
     "text": [
      "Load background image: 2.29 seconds\n",
      "Rescale background image to output resolution: 0.14 seconds\n",
      "Predict scores 5N: 0.02 seconds\n",
      "Resample scoremap 5N: 0.09 seconds\n",
      "Load and rescale background image: 0.00 seconds\n",
      "Generate scoremap overlay: 0.05 seconds.\n",
      "Scoremap size does not match background image size. Need to resize: 0.08 seconds.\n",
      "Generate scoremap overlay image 5N: 0.15 seconds\n",
      "locate patches: 0.02 seconds\n"
     ]
    },
    {
     "name": "stdout",
     "output_type": "stream",
     "text": [
      "(597, 925, 3) (597, 925)\n",
      "5N 109\n"
     ]
    },
    {
     "name": "stderr",
     "output_type": "stream",
     "text": [
      "Load pre-computed features: 0.54 seconds\n",
      "Not using image_cache.\n"
     ]
    },
    {
     "name": "stdout",
     "output_type": "stream",
     "text": [
      "/data/CSHL_data_processed/CHATM2/CHATM2_prep2_raw_NtbNormalizedAdaptiveInvertedGammaJpeg/CHATM2_slide37_2018_01_22-S1_prep2_raw_NtbNormalizedAdaptiveInvertedGammaJpeg.jpg\n"
     ]
    },
    {
     "name": "stderr",
     "output_type": "stream",
     "text": [
      "Load background image: 2.40 seconds\n",
      "Rescale background image to output resolution: 0.14 seconds\n",
      "Predict scores 5N: 0.00 seconds\n",
      "Resample scoremap 5N: 0.09 seconds\n",
      "Load and rescale background image: 0.00 seconds\n",
      "Generate scoremap overlay: 0.05 seconds.\n",
      "Scoremap size does not match background image size. Need to resize: 0.08 seconds.\n",
      "Generate scoremap overlay image 5N: 0.16 seconds\n",
      "locate patches: 0.02 seconds\n"
     ]
    },
    {
     "name": "stdout",
     "output_type": "stream",
     "text": [
      "(597, 925, 3) (597, 925)\n",
      "5N 99\n"
     ]
    },
    {
     "name": "stderr",
     "output_type": "stream",
     "text": [
      "Load pre-computed features: 0.50 seconds\n",
      "Not using image_cache.\n"
     ]
    },
    {
     "name": "stdout",
     "output_type": "stream",
     "text": [
      "/data/CSHL_data_processed/CHATM2/CHATM2_prep2_raw_NtbNormalizedAdaptiveInvertedGammaJpeg/CHATM2_slide33_2018_01_20-S2_prep2_raw_NtbNormalizedAdaptiveInvertedGammaJpeg.jpg\n"
     ]
    },
    {
     "name": "stderr",
     "output_type": "stream",
     "text": [
      "Load background image: 2.24 seconds\n",
      "Rescale background image to output resolution: 0.14 seconds\n",
      "Predict scores 5N: 0.01 seconds\n",
      "Resample scoremap 5N: 0.09 seconds\n",
      "Load and rescale background image: 0.00 seconds\n",
      "Generate scoremap overlay: 0.05 seconds.\n",
      "Scoremap size does not match background image size. Need to resize: 0.08 seconds.\n",
      "Generate scoremap overlay image 5N: 0.15 seconds\n",
      "locate patches: 0.03 seconds\n"
     ]
    },
    {
     "name": "stdout",
     "output_type": "stream",
     "text": [
      "(597, 925, 3) (597, 925)\n",
      "5N 86\n"
     ]
    },
    {
     "name": "stderr",
     "output_type": "stream",
     "text": [
      "Load pre-computed features: 0.47 seconds\n",
      "Not using image_cache.\n"
     ]
    },
    {
     "name": "stdout",
     "output_type": "stream",
     "text": [
      "/data/CSHL_data_processed/CHATM2/CHATM2_prep2_raw_NtbNormalizedAdaptiveInvertedGammaJpeg/CHATM2_slide30_2018_01_18-S1_prep2_raw_NtbNormalizedAdaptiveInvertedGammaJpeg.jpg\n"
     ]
    },
    {
     "name": "stderr",
     "output_type": "stream",
     "text": [
      "Load background image: 2.15 seconds\n",
      "Rescale background image to output resolution: 0.14 seconds\n",
      "Predict scores 5N: 0.01 seconds\n",
      "Resample scoremap 5N: 0.09 seconds\n",
      "Load and rescale background image: 0.00 seconds\n",
      "Generate scoremap overlay: 0.05 seconds.\n",
      "Scoremap size does not match background image size. Need to resize: 0.08 seconds.\n",
      "Generate scoremap overlay image 5N: 0.16 seconds\n",
      "locate patches: 0.02 seconds\n"
     ]
    },
    {
     "name": "stdout",
     "output_type": "stream",
     "text": [
      "(597, 925, 3) (597, 925)\n",
      "5N 87\n"
     ]
    },
    {
     "name": "stderr",
     "output_type": "stream",
     "text": [
      "Load pre-computed features: 0.48 seconds\n",
      "Not using image_cache.\n"
     ]
    },
    {
     "name": "stdout",
     "output_type": "stream",
     "text": [
      "/data/CSHL_data_processed/CHATM2/CHATM2_prep2_raw_NtbNormalizedAdaptiveInvertedGammaJpeg/CHATM2_slide29_2018_01_18-S2_prep2_raw_NtbNormalizedAdaptiveInvertedGammaJpeg.jpg\n"
     ]
    },
    {
     "name": "stderr",
     "output_type": "stream",
     "text": [
      "Load background image: 2.18 seconds\n",
      "Rescale background image to output resolution: 0.14 seconds\n",
      "Predict scores 5N: 0.01 seconds\n",
      "Resample scoremap 5N: 0.09 seconds\n",
      "Load and rescale background image: 0.00 seconds\n",
      "Generate scoremap overlay: 0.05 seconds.\n",
      "Scoremap size does not match background image size. Need to resize: 0.08 seconds.\n",
      "Generate scoremap overlay image 5N: 0.16 seconds\n",
      "locate patches: 0.02 seconds\n"
     ]
    },
    {
     "name": "stdout",
     "output_type": "stream",
     "text": [
      "(597, 925, 3) (597, 925)\n",
      "5N 88\n"
     ]
    },
    {
     "name": "stderr",
     "output_type": "stream",
     "text": [
      "Load pre-computed features: 0.48 seconds\n",
      "Not using image_cache.\n"
     ]
    },
    {
     "name": "stdout",
     "output_type": "stream",
     "text": [
      "/data/CSHL_data_processed/CHATM2/CHATM2_prep2_raw_NtbNormalizedAdaptiveInvertedGammaJpeg/CHATM2_slide30_2018_01_18-S2_prep2_raw_NtbNormalizedAdaptiveInvertedGammaJpeg.jpg\n"
     ]
    },
    {
     "name": "stderr",
     "output_type": "stream",
     "text": [
      "Load background image: 2.22 seconds\n",
      "Rescale background image to output resolution: 0.14 seconds\n",
      "Predict scores 5N: 0.01 seconds\n",
      "Resample scoremap 5N: 0.09 seconds\n",
      "Load and rescale background image: 0.00 seconds\n",
      "Generate scoremap overlay: 0.05 seconds.\n",
      "Scoremap size does not match background image size. Need to resize: 0.08 seconds.\n",
      "Generate scoremap overlay image 5N: 0.16 seconds\n",
      "locate patches: 0.02 seconds\n"
     ]
    },
    {
     "name": "stdout",
     "output_type": "stream",
     "text": [
      "(597, 925, 3) (597, 925)\n",
      "5N 89\n"
     ]
    },
    {
     "name": "stderr",
     "output_type": "stream",
     "text": [
      "Load pre-computed features: 0.48 seconds\n",
      "Not using image_cache.\n"
     ]
    },
    {
     "name": "stdout",
     "output_type": "stream",
     "text": [
      "/data/CSHL_data_processed/CHATM2/CHATM2_prep2_raw_NtbNormalizedAdaptiveInvertedGammaJpeg/CHATM2_slide29_2018_01_18-S3_prep2_raw_NtbNormalizedAdaptiveInvertedGammaJpeg.jpg\n"
     ]
    },
    {
     "name": "stderr",
     "output_type": "stream",
     "text": [
      "Load background image: 2.29 seconds\n",
      "Rescale background image to output resolution: 0.14 seconds\n",
      "Predict scores 5N: 0.01 seconds\n",
      "Resample scoremap 5N: 0.09 seconds\n",
      "Load and rescale background image: 0.00 seconds\n",
      "Generate scoremap overlay: 0.05 seconds.\n",
      "Scoremap size does not match background image size. Need to resize: 0.08 seconds.\n",
      "Generate scoremap overlay image 5N: 0.15 seconds\n",
      "locate patches: 0.02 seconds\n"
     ]
    },
    {
     "name": "stdout",
     "output_type": "stream",
     "text": [
      "(597, 925, 3) (597, 925)\n",
      "5N 90\n"
     ]
    },
    {
     "name": "stderr",
     "output_type": "stream",
     "text": [
      "Load pre-computed features: 0.53 seconds\n",
      "Not using image_cache.\n"
     ]
    },
    {
     "name": "stdout",
     "output_type": "stream",
     "text": [
      "/data/CSHL_data_processed/CHATM2/CHATM2_prep2_raw_NtbNormalizedAdaptiveInvertedGammaJpeg/CHATM2_slide30_2018_01_18-S3_prep2_raw_NtbNormalizedAdaptiveInvertedGammaJpeg.jpg\n"
     ]
    },
    {
     "name": "stderr",
     "output_type": "stream",
     "text": [
      "Load background image: 2.29 seconds\n",
      "Rescale background image to output resolution: 0.20 seconds\n",
      "Predict scores 5N: 0.01 seconds\n",
      "Resample scoremap 5N: 0.09 seconds\n",
      "Load and rescale background image: 0.00 seconds\n",
      "Generate scoremap overlay: 0.05 seconds.\n",
      "Scoremap size does not match background image size. Need to resize: 0.08 seconds.\n",
      "Generate scoremap overlay image 5N: 0.16 seconds\n",
      "locate patches: 0.02 seconds\n"
     ]
    },
    {
     "name": "stdout",
     "output_type": "stream",
     "text": [
      "(597, 925, 3) (597, 925)\n",
      "5N 92\n"
     ]
    },
    {
     "name": "stderr",
     "output_type": "stream",
     "text": [
      "Load pre-computed features: 0.48 seconds\n",
      "Not using image_cache.\n"
     ]
    },
    {
     "name": "stdout",
     "output_type": "stream",
     "text": [
      "/data/CSHL_data_processed/CHATM2/CHATM2_prep2_raw_NtbNormalizedAdaptiveInvertedGammaJpeg/CHATM2_slide32_2018_01_20-S1_prep2_raw_NtbNormalizedAdaptiveInvertedGammaJpeg.jpg\n"
     ]
    },
    {
     "name": "stderr",
     "output_type": "stream",
     "text": [
      "Load background image: 2.17 seconds\n",
      "Rescale background image to output resolution: 0.14 seconds\n",
      "Predict scores 5N: 0.00 seconds\n",
      "Resample scoremap 5N: 0.09 seconds\n",
      "Load and rescale background image: 0.00 seconds\n",
      "Generate scoremap overlay: 0.05 seconds.\n",
      "Scoremap size does not match background image size. Need to resize: 0.08 seconds.\n",
      "Generate scoremap overlay image 5N: 0.15 seconds\n",
      "locate patches: 0.02 seconds\n"
     ]
    },
    {
     "name": "stdout",
     "output_type": "stream",
     "text": [
      "(597, 925, 3) (597, 925)\n",
      "5N 93\n"
     ]
    },
    {
     "name": "stderr",
     "output_type": "stream",
     "text": [
      "Load pre-computed features: 0.49 seconds\n",
      "Not using image_cache.\n"
     ]
    },
    {
     "name": "stdout",
     "output_type": "stream",
     "text": [
      "/data/CSHL_data_processed/CHATM2/CHATM2_prep2_raw_NtbNormalizedAdaptiveInvertedGammaJpeg/CHATM2_slide31_2018_01_19-S2_prep2_raw_NtbNormalizedAdaptiveInvertedGammaJpeg.jpg\n"
     ]
    },
    {
     "name": "stderr",
     "output_type": "stream",
     "text": [
      "Load background image: 2.23 seconds\n",
      "Rescale background image to output resolution: 0.14 seconds\n",
      "Predict scores 5N: 0.01 seconds\n",
      "Resample scoremap 5N: 0.06 seconds\n",
      "Load and rescale background image: 0.00 seconds\n",
      "Generate scoremap overlay: 0.05 seconds.\n",
      "Scoremap size does not match background image size. Need to resize: 0.08 seconds.\n"
     ]
    },
    {
     "name": "stdout",
     "output_type": "stream",
     "text": [
      "(597, 925, 3) (597, 925)\n",
      "5N 94\n"
     ]
    },
    {
     "name": "stderr",
     "output_type": "stream",
     "text": [
      "Generate scoremap overlay image 5N: 0.17 seconds\n",
      "locate patches: 0.02 seconds\n",
      "Load pre-computed features: 0.48 seconds\n",
      "Not using image_cache.\n"
     ]
    },
    {
     "name": "stdout",
     "output_type": "stream",
     "text": [
      "/data/CSHL_data_processed/CHATM2/CHATM2_prep2_raw_NtbNormalizedAdaptiveInvertedGammaJpeg/CHATM2_slide32_2018_01_20-S2_prep2_raw_NtbNormalizedAdaptiveInvertedGammaJpeg.jpg\n"
     ]
    },
    {
     "name": "stderr",
     "output_type": "stream",
     "text": [
      "Load background image: 2.20 seconds\n",
      "Rescale background image to output resolution: 0.14 seconds\n",
      "Predict scores 5N: 0.01 seconds\n",
      "Resample scoremap 5N: 0.09 seconds\n",
      "Load and rescale background image: 0.00 seconds\n",
      "Generate scoremap overlay: 0.05 seconds.\n",
      "Scoremap size does not match background image size. Need to resize: 0.08 seconds.\n",
      "Generate scoremap overlay image 5N: 0.16 seconds\n",
      "locate patches: 0.02 seconds\n"
     ]
    },
    {
     "name": "stdout",
     "output_type": "stream",
     "text": [
      "(597, 925, 3) (597, 925)\n",
      "5N 95\n"
     ]
    },
    {
     "name": "stderr",
     "output_type": "stream",
     "text": [
      "Load pre-computed features: 0.50 seconds\n",
      "Not using image_cache.\n"
     ]
    },
    {
     "name": "stdout",
     "output_type": "stream",
     "text": [
      "/data/CSHL_data_processed/CHATM2/CHATM2_prep2_raw_NtbNormalizedAdaptiveInvertedGammaJpeg/CHATM2_slide31_2018_01_19-S3_prep2_raw_NtbNormalizedAdaptiveInvertedGammaJpeg.jpg\n"
     ]
    },
    {
     "name": "stderr",
     "output_type": "stream",
     "text": [
      "Load background image: 2.34 seconds\n",
      "Rescale background image to output resolution: 0.14 seconds\n",
      "Predict scores 5N: 0.00 seconds\n",
      "Resample scoremap 5N: 0.09 seconds\n",
      "Load and rescale background image: 0.00 seconds\n",
      "Generate scoremap overlay: 0.05 seconds.\n",
      "Scoremap size does not match background image size. Need to resize: 0.08 seconds.\n",
      "Generate scoremap overlay image 5N: 0.15 seconds\n",
      "locate patches: 0.02 seconds\n"
     ]
    },
    {
     "name": "stdout",
     "output_type": "stream",
     "text": [
      "(597, 925, 3) (597, 925)\n",
      "5N 96\n"
     ]
    },
    {
     "name": "stderr",
     "output_type": "stream",
     "text": [
      "Load pre-computed features: 0.52 seconds\n",
      "Not using image_cache.\n"
     ]
    },
    {
     "name": "stdout",
     "output_type": "stream",
     "text": [
      "/data/CSHL_data_processed/CHATM2/CHATM2_prep2_raw_NtbNormalizedAdaptiveInvertedGammaJpeg/CHATM2_slide32_2018_01_20-S3_prep2_raw_NtbNormalizedAdaptiveInvertedGammaJpeg.jpg\n"
     ]
    },
    {
     "name": "stderr",
     "output_type": "stream",
     "text": [
      "Load background image: 2.28 seconds\n",
      "Rescale background image to output resolution: 0.14 seconds\n",
      "Predict scores 5N: 0.01 seconds\n",
      "Resample scoremap 5N: 0.09 seconds\n",
      "Load and rescale background image: 0.00 seconds\n",
      "Generate scoremap overlay: 0.06 seconds.\n",
      "Scoremap size does not match background image size. Need to resize: 0.08 seconds.\n",
      "Generate scoremap overlay image 5N: 0.17 seconds\n",
      "locate patches: 0.02 seconds\n"
     ]
    },
    {
     "name": "stdout",
     "output_type": "stream",
     "text": [
      "(597, 925, 3) (597, 925)\n",
      "5N 225\n"
     ]
    },
    {
     "name": "stderr",
     "output_type": "stream",
     "text": [
      "Load pre-computed features: 0.59 seconds\n",
      "Not using image_cache.\n"
     ]
    },
    {
     "name": "stdout",
     "output_type": "stream",
     "text": [
      "/data/CSHL_data_processed/CHATM2/CHATM2_prep2_raw_NtbNormalizedAdaptiveInvertedGammaJpeg/CHATM2_slide74_2018_02_14-S3_prep2_raw_NtbNormalizedAdaptiveInvertedGammaJpeg.jpg\n"
     ]
    },
    {
     "name": "stderr",
     "output_type": "stream",
     "text": [
      "Load background image: 2.47 seconds\n",
      "Rescale background image to output resolution: 0.14 seconds\n",
      "Predict scores 5N: 0.01 seconds\n",
      "Resample scoremap 5N: 0.09 seconds\n",
      "Load and rescale background image: 0.00 seconds\n",
      "Generate scoremap overlay: 0.05 seconds.\n",
      "Scoremap size does not match background image size. Need to resize: 0.08 seconds.\n",
      "Generate scoremap overlay image 5N: 0.16 seconds\n",
      "locate patches: 0.02 seconds\n"
     ]
    },
    {
     "name": "stdout",
     "output_type": "stream",
     "text": [
      "(597, 925, 3) (597, 925)\n",
      "5N 98\n"
     ]
    },
    {
     "name": "stderr",
     "output_type": "stream",
     "text": [
      "Load pre-computed features: 0.48 seconds\n",
      "Not using image_cache.\n"
     ]
    },
    {
     "name": "stdout",
     "output_type": "stream",
     "text": [
      "/data/CSHL_data_processed/CHATM2/CHATM2_prep2_raw_NtbNormalizedAdaptiveInvertedGammaJpeg/CHATM2_slide34_2018_01_20-S1_prep2_raw_NtbNormalizedAdaptiveInvertedGammaJpeg.jpg\n"
     ]
    },
    {
     "name": "stderr",
     "output_type": "stream",
     "text": [
      "Load background image: 2.34 seconds\n",
      "Rescale background image to output resolution: 0.14 seconds\n",
      "Predict scores 5N: 0.01 seconds\n",
      "Resample scoremap 5N: 0.09 seconds\n",
      "Load and rescale background image: 0.00 seconds\n",
      "Generate scoremap overlay: 0.05 seconds.\n",
      "Scoremap size does not match background image size. Need to resize: 0.08 seconds.\n",
      "Generate scoremap overlay image 5N: 0.15 seconds\n",
      "locate patches: 0.02 seconds\n"
     ]
    },
    {
     "name": "stdout",
     "output_type": "stream",
     "text": [
      "(597, 925, 3) (597, 925)\n",
      "5N 227\n"
     ]
    },
    {
     "name": "stderr",
     "output_type": "stream",
     "text": [
      "Load pre-computed features: 0.58 seconds\n",
      "Not using image_cache.\n"
     ]
    },
    {
     "name": "stdout",
     "output_type": "stream",
     "text": [
      "/data/CSHL_data_processed/CHATM2/CHATM2_prep2_raw_NtbNormalizedAdaptiveInvertedGammaJpeg/CHATM2_slide76_2018_02_14-S1_prep2_raw_NtbNormalizedAdaptiveInvertedGammaJpeg.jpg\n"
     ]
    },
    {
     "name": "stderr",
     "output_type": "stream",
     "text": [
      "Load background image: 2.47 seconds\n",
      "Rescale background image to output resolution: 0.14 seconds\n",
      "Predict scores 5N: 0.01 seconds\n",
      "Resample scoremap 5N: 0.09 seconds\n",
      "Load and rescale background image: 0.00 seconds\n",
      "Generate scoremap overlay: 0.05 seconds.\n",
      "Scoremap size does not match background image size. Need to resize: 0.08 seconds.\n",
      "Generate scoremap overlay image 5N: 0.17 seconds\n",
      "locate patches: 0.02 seconds\n"
     ]
    },
    {
     "name": "stdout",
     "output_type": "stream",
     "text": [
      "(597, 925, 3) (597, 925)\n",
      "5N 100\n"
     ]
    },
    {
     "name": "stderr",
     "output_type": "stream",
     "text": [
      "Load pre-computed features: 0.50 seconds\n",
      "Not using image_cache.\n"
     ]
    },
    {
     "name": "stdout",
     "output_type": "stream",
     "text": [
      "/data/CSHL_data_processed/CHATM2/CHATM2_prep2_raw_NtbNormalizedAdaptiveInvertedGammaJpeg/CHATM2_slide34_2018_01_20-S2_prep2_raw_NtbNormalizedAdaptiveInvertedGammaJpeg.jpg\n"
     ]
    },
    {
     "name": "stderr",
     "output_type": "stream",
     "text": [
      "Load background image: 2.31 seconds\n",
      "Rescale background image to output resolution: 0.14 seconds\n",
      "Predict scores 5N: 0.01 seconds\n",
      "Resample scoremap 5N: 0.09 seconds\n",
      "Load and rescale background image: 0.00 seconds\n",
      "Generate scoremap overlay: 0.05 seconds.\n",
      "Scoremap size does not match background image size. Need to resize: 0.08 seconds.\n",
      "Generate scoremap overlay image 5N: 0.15 seconds\n",
      "locate patches: 0.02 seconds\n"
     ]
    },
    {
     "name": "stdout",
     "output_type": "stream",
     "text": [
      "(597, 925, 3) (597, 925)\n",
      "5N 229\n"
     ]
    },
    {
     "name": "stderr",
     "output_type": "stream",
     "text": [
      "Load pre-computed features: 0.54 seconds\n",
      "Not using image_cache.\n"
     ]
    },
    {
     "name": "stdout",
     "output_type": "stream",
     "text": [
      "/data/CSHL_data_processed/CHATM2/CHATM2_prep2_raw_NtbNormalizedAdaptiveInvertedGammaJpeg/CHATM2_slide76_2018_02_14-S2_prep2_raw_NtbNormalizedAdaptiveInvertedGammaJpeg.jpg\n"
     ]
    },
    {
     "name": "stderr",
     "output_type": "stream",
     "text": [
      "Load background image: 2.49 seconds\n",
      "Rescale background image to output resolution: 0.14 seconds\n",
      "Predict scores 5N: 0.01 seconds\n",
      "Resample scoremap 5N: 0.09 seconds\n",
      "Load and rescale background image: 0.00 seconds\n",
      "Generate scoremap overlay: 0.05 seconds.\n",
      "Scoremap size does not match background image size. Need to resize: 0.08 seconds.\n",
      "Generate scoremap overlay image 5N: 0.15 seconds\n",
      "locate patches: 0.02 seconds\n"
     ]
    },
    {
     "name": "stdout",
     "output_type": "stream",
     "text": [
      "(597, 925, 3) (597, 925)\n",
      "5N 102\n"
     ]
    },
    {
     "name": "stderr",
     "output_type": "stream",
     "text": [
      "Load pre-computed features: 0.52 seconds\n",
      "Not using image_cache.\n"
     ]
    },
    {
     "name": "stdout",
     "output_type": "stream",
     "text": [
      "/data/CSHL_data_processed/CHATM2/CHATM2_prep2_raw_NtbNormalizedAdaptiveInvertedGammaJpeg/CHATM2_slide34_2018_01_20-S3_prep2_raw_NtbNormalizedAdaptiveInvertedGammaJpeg.jpg\n"
     ]
    },
    {
     "name": "stderr",
     "output_type": "stream",
     "text": [
      "Load background image: 2.30 seconds\n",
      "Rescale background image to output resolution: 0.14 seconds\n",
      "Predict scores 5N: 0.01 seconds\n",
      "Resample scoremap 5N: 0.09 seconds\n",
      "Load and rescale background image: 0.00 seconds\n",
      "Generate scoremap overlay: 0.05 seconds.\n",
      "Scoremap size does not match background image size. Need to resize: 0.08 seconds.\n",
      "Generate scoremap overlay image 5N: 0.16 seconds\n",
      "locate patches: 0.02 seconds\n"
     ]
    },
    {
     "name": "stdout",
     "output_type": "stream",
     "text": [
      "(597, 925, 3) (597, 925)\n",
      "5N 103\n"
     ]
    },
    {
     "name": "stderr",
     "output_type": "stream",
     "text": [
      "Load pre-computed features: 0.48 seconds\n",
      "Not using image_cache.\n"
     ]
    },
    {
     "name": "stdout",
     "output_type": "stream",
     "text": [
      "/data/CSHL_data_processed/CHATM2/CHATM2_prep2_raw_NtbNormalizedAdaptiveInvertedGammaJpeg/CHATM2_slide35_2018_01_20-S1_prep2_raw_NtbNormalizedAdaptiveInvertedGammaJpeg.jpg\n"
     ]
    },
    {
     "name": "stderr",
     "output_type": "stream",
     "text": [
      "Load background image: 2.32 seconds\n",
      "Rescale background image to output resolution: 0.14 seconds\n",
      "Predict scores 5N: 0.01 seconds\n",
      "Resample scoremap 5N: 0.09 seconds\n",
      "Load and rescale background image: 0.00 seconds\n",
      "Generate scoremap overlay: 0.05 seconds.\n",
      "Scoremap size does not match background image size. Need to resize: 0.07 seconds.\n",
      "Generate scoremap overlay image 5N: 0.15 seconds\n",
      "locate patches: 0.02 seconds\n"
     ]
    },
    {
     "name": "stdout",
     "output_type": "stream",
     "text": [
      "(597, 925, 3) (597, 925)\n",
      "5N 104\n"
     ]
    },
    {
     "name": "stderr",
     "output_type": "stream",
     "text": [
      "Load pre-computed features: 0.53 seconds\n",
      "Not using image_cache.\n"
     ]
    },
    {
     "name": "stdout",
     "output_type": "stream",
     "text": [
      "/data/CSHL_data_processed/CHATM2/CHATM2_prep2_raw_NtbNormalizedAdaptiveInvertedGammaJpeg/CHATM2_slide36_2018_01_22-S1_prep2_raw_NtbNormalizedAdaptiveInvertedGammaJpeg.jpg\n"
     ]
    },
    {
     "name": "stderr",
     "output_type": "stream",
     "text": [
      "Load background image: 2.30 seconds\n",
      "Rescale background image to output resolution: 0.14 seconds\n",
      "Predict scores 5N: 0.00 seconds\n",
      "Resample scoremap 5N: 0.09 seconds\n",
      "Load and rescale background image: 0.00 seconds\n",
      "Generate scoremap overlay: 0.05 seconds.\n",
      "Scoremap size does not match background image size. Need to resize: 0.08 seconds.\n",
      "Generate scoremap overlay image 5N: 0.15 seconds\n",
      "locate patches: 0.02 seconds\n"
     ]
    },
    {
     "name": "stdout",
     "output_type": "stream",
     "text": [
      "(597, 925, 3) (597, 925)\n",
      "5N 233\n"
     ]
    },
    {
     "name": "stderr",
     "output_type": "stream",
     "text": [
      "Load pre-computed features: 0.58 seconds\n",
      "Not using image_cache.\n"
     ]
    },
    {
     "name": "stdout",
     "output_type": "stream",
     "text": [
      "/data/CSHL_data_processed/CHATM2/CHATM2_prep2_raw_NtbNormalizedAdaptiveInvertedGammaJpeg/CHATM2_slide78_2018_02_14-S1_prep2_raw_NtbNormalizedAdaptiveInvertedGammaJpeg.jpg\n"
     ]
    },
    {
     "name": "stderr",
     "output_type": "stream",
     "text": [
      "Load background image: 2.30 seconds\n",
      "Rescale background image to output resolution: 0.18 seconds\n",
      "Predict scores 5N: 0.01 seconds\n",
      "Resample scoremap 5N: 0.09 seconds\n",
      "Load and rescale background image: 0.00 seconds\n",
      "Generate scoremap overlay: 0.05 seconds.\n",
      "Scoremap size does not match background image size. Need to resize: 0.09 seconds.\n",
      "Generate scoremap overlay image 5N: 0.17 seconds\n",
      "locate patches: 0.02 seconds\n"
     ]
    },
    {
     "name": "stdout",
     "output_type": "stream",
     "text": [
      "(597, 925, 3) (597, 925)\n",
      "5N 106\n"
     ]
    },
    {
     "name": "stderr",
     "output_type": "stream",
     "text": [
      "Load pre-computed features: 0.48 seconds\n",
      "Not using image_cache.\n"
     ]
    },
    {
     "name": "stdout",
     "output_type": "stream",
     "text": [
      "/data/CSHL_data_processed/CHATM2/CHATM2_prep2_raw_NtbNormalizedAdaptiveInvertedGammaJpeg/CHATM2_slide36_2018_01_22-S2_prep2_raw_NtbNormalizedAdaptiveInvertedGammaJpeg.jpg\n"
     ]
    },
    {
     "name": "stderr",
     "output_type": "stream",
     "text": [
      "Load background image: 2.31 seconds\n",
      "Rescale background image to output resolution: 0.14 seconds\n",
      "Predict scores 5N: 0.01 seconds\n",
      "Resample scoremap 5N: 0.09 seconds\n",
      "Load and rescale background image: 0.00 seconds\n",
      "Generate scoremap overlay: 0.05 seconds.\n",
      "Scoremap size does not match background image size. Need to resize: 0.08 seconds.\n",
      "Generate scoremap overlay image 5N: 0.15 seconds\n",
      "locate patches: 0.02 seconds\n"
     ]
    },
    {
     "name": "stdout",
     "output_type": "stream",
     "text": [
      "(597, 925, 3) (597, 925)\n",
      "5N 235\n"
     ]
    },
    {
     "name": "stderr",
     "output_type": "stream",
     "text": [
      "Load pre-computed features: 0.56 seconds\n",
      "Not using image_cache.\n"
     ]
    },
    {
     "name": "stdout",
     "output_type": "stream",
     "text": [
      "/data/CSHL_data_processed/CHATM2/CHATM2_prep2_raw_NtbNormalizedAdaptiveInvertedGammaJpeg/CHATM2_slide78_2018_02_14-S2_prep2_raw_NtbNormalizedAdaptiveInvertedGammaJpeg.jpg\n"
     ]
    },
    {
     "name": "stderr",
     "output_type": "stream",
     "text": [
      "Load background image: 2.38 seconds\n",
      "Rescale background image to output resolution: 0.14 seconds\n",
      "Predict scores 5N: 0.01 seconds\n",
      "Resample scoremap 5N: 0.09 seconds\n",
      "Load and rescale background image: 0.00 seconds\n",
      "Generate scoremap overlay: 0.05 seconds.\n",
      "Scoremap size does not match background image size. Need to resize: 0.08 seconds.\n",
      "Generate scoremap overlay image 5N: 0.15 seconds\n",
      "locate patches: 0.02 seconds\n"
     ]
    },
    {
     "name": "stdout",
     "output_type": "stream",
     "text": [
      "(597, 925, 3) (597, 925)\n",
      "5N 108\n"
     ]
    },
    {
     "name": "stderr",
     "output_type": "stream",
     "text": [
      "Load pre-computed features: 0.53 seconds\n",
      "Not using image_cache.\n"
     ]
    },
    {
     "name": "stdout",
     "output_type": "stream",
     "text": [
      "/data/CSHL_data_processed/CHATM2/CHATM2_prep2_raw_NtbNormalizedAdaptiveInvertedGammaJpeg/CHATM2_slide36_2018_01_22-S3_prep2_raw_NtbNormalizedAdaptiveInvertedGammaJpeg.jpg\n"
     ]
    },
    {
     "name": "stderr",
     "output_type": "stream",
     "text": [
      "Load background image: 2.30 seconds\n",
      "Rescale background image to output resolution: 0.19 seconds\n",
      "Predict scores 5N: 0.01 seconds\n",
      "Resample scoremap 5N: 0.09 seconds\n",
      "Load and rescale background image: 0.00 seconds\n",
      "Generate scoremap overlay: 0.06 seconds.\n",
      "Scoremap size does not match background image size. Need to resize: 0.08 seconds.\n",
      "Generate scoremap overlay image 5N: 0.16 seconds\n",
      "locate patches: 0.02 seconds\n"
     ]
    },
    {
     "name": "stdout",
     "output_type": "stream",
     "text": [
      "(597, 925, 3) (597, 925)\n",
      "5N 237\n"
     ]
    },
    {
     "name": "stderr",
     "output_type": "stream",
     "text": [
      "Load pre-computed features: 0.55 seconds\n",
      "Not using image_cache.\n"
     ]
    },
    {
     "name": "stdout",
     "output_type": "stream",
     "text": [
      "/data/CSHL_data_processed/CHATM2/CHATM2_prep2_raw_NtbNormalizedAdaptiveInvertedGammaJpeg/CHATM2_slide78_2018_02_14-S3_prep2_raw_NtbNormalizedAdaptiveInvertedGammaJpeg.jpg\n"
     ]
    },
    {
     "name": "stderr",
     "output_type": "stream",
     "text": [
      "Load background image: 2.33 seconds\n",
      "Rescale background image to output resolution: 0.14 seconds\n",
      "Predict scores 5N: 0.00 seconds\n",
      "Resample scoremap 5N: 0.09 seconds\n",
      "Load and rescale background image: 0.00 seconds\n",
      "Generate scoremap overlay: 0.05 seconds.\n",
      "Scoremap size does not match background image size. Need to resize: 0.09 seconds.\n",
      "Generate scoremap overlay image 5N: 0.17 seconds\n",
      "locate patches: 0.02 seconds\n"
     ]
    },
    {
     "name": "stdout",
     "output_type": "stream",
     "text": [
      "(597, 925, 3) (597, 925)\n",
      "5N 110\n"
     ]
    },
    {
     "name": "stderr",
     "output_type": "stream",
     "text": [
      "Load pre-computed features: 0.49 seconds\n",
      "Not using image_cache.\n"
     ]
    },
    {
     "name": "stdout",
     "output_type": "stream",
     "text": [
      "/data/CSHL_data_processed/CHATM2/CHATM2_prep2_raw_NtbNormalizedAdaptiveInvertedGammaJpeg/CHATM2_slide38_2018_01_22-S1_prep2_raw_NtbNormalizedAdaptiveInvertedGammaJpeg.jpg\n"
     ]
    },
    {
     "name": "stderr",
     "output_type": "stream",
     "text": [
      "Load background image: 2.30 seconds\n",
      "Rescale background image to output resolution: 0.14 seconds\n",
      "Predict scores 5N: 0.01 seconds\n",
      "Resample scoremap 5N: 0.09 seconds\n",
      "Load and rescale background image: 0.00 seconds\n",
      "Generate scoremap overlay: 0.05 seconds.\n",
      "Scoremap size does not match background image size. Need to resize: 0.09 seconds.\n",
      "Generate scoremap overlay image 5N: 0.17 seconds\n",
      "locate patches: 0.02 seconds\n"
     ]
    },
    {
     "name": "stdout",
     "output_type": "stream",
     "text": [
      "(597, 925, 3) (597, 925)\n",
      "5N 239\n"
     ]
    },
    {
     "name": "stderr",
     "output_type": "stream",
     "text": [
      "Load pre-computed features: 0.56 seconds\n",
      "Not using image_cache.\n"
     ]
    },
    {
     "name": "stdout",
     "output_type": "stream",
     "text": [
      "/data/CSHL_data_processed/CHATM2/CHATM2_prep2_raw_NtbNormalizedAdaptiveInvertedGammaJpeg/CHATM2_slide80_2018_02_14-S1_prep2_raw_NtbNormalizedAdaptiveInvertedGammaJpeg.jpg\n"
     ]
    },
    {
     "name": "stderr",
     "output_type": "stream",
     "text": [
      "Load background image: 2.32 seconds\n",
      "Rescale background image to output resolution: 0.14 seconds\n",
      "Predict scores 5N: 0.01 seconds\n",
      "Resample scoremap 5N: 0.09 seconds\n",
      "Load and rescale background image: 0.00 seconds\n",
      "Generate scoremap overlay: 0.06 seconds.\n",
      "Scoremap size does not match background image size. Need to resize: 0.08 seconds.\n",
      "Generate scoremap overlay image 5N: 0.18 seconds\n",
      "locate patches: 0.02 seconds\n"
     ]
    },
    {
     "name": "stdout",
     "output_type": "stream",
     "text": [
      "(597, 925, 3) (597, 925)\n",
      "5N 112\n"
     ]
    },
    {
     "name": "stderr",
     "output_type": "stream",
     "text": [
      "Load pre-computed features: 0.53 seconds\n",
      "Not using image_cache.\n"
     ]
    },
    {
     "name": "stdout",
     "output_type": "stream",
     "text": [
      "/data/CSHL_data_processed/CHATM2/CHATM2_prep2_raw_NtbNormalizedAdaptiveInvertedGammaJpeg/CHATM2_slide38_2018_01_22-S2_prep2_raw_NtbNormalizedAdaptiveInvertedGammaJpeg.jpg\n"
     ]
    },
    {
     "name": "stderr",
     "output_type": "stream",
     "text": [
      "Load background image: 2.32 seconds\n",
      "Rescale background image to output resolution: 0.14 seconds\n",
      "Predict scores 5N: 0.01 seconds\n",
      "Resample scoremap 5N: 0.09 seconds\n",
      "Load and rescale background image: 0.00 seconds\n",
      "Generate scoremap overlay: 0.05 seconds.\n",
      "Scoremap size does not match background image size. Need to resize: 0.08 seconds.\n",
      "Generate scoremap overlay image 5N: 0.15 seconds\n",
      "locate patches: 0.02 seconds\n"
     ]
    },
    {
     "name": "stdout",
     "output_type": "stream",
     "text": [
      "(597, 925, 3) (597, 925)\n",
      "5N 241\n"
     ]
    },
    {
     "name": "stderr",
     "output_type": "stream",
     "text": [
      "Load pre-computed features: 0.56 seconds\n",
      "Not using image_cache.\n"
     ]
    },
    {
     "name": "stdout",
     "output_type": "stream",
     "text": [
      "/data/CSHL_data_processed/CHATM2/CHATM2_prep2_raw_NtbNormalizedAdaptiveInvertedGammaJpeg/CHATM2_slide80_2018_02_14-S2_prep2_raw_NtbNormalizedAdaptiveInvertedGammaJpeg.jpg\n"
     ]
    },
    {
     "name": "stderr",
     "output_type": "stream",
     "text": [
      "Load background image: 2.29 seconds\n",
      "Rescale background image to output resolution: 0.14 seconds\n",
      "Predict scores 5N: 0.01 seconds\n",
      "Resample scoremap 5N: 0.09 seconds\n",
      "Load and rescale background image: 0.00 seconds\n",
      "Generate scoremap overlay: 0.05 seconds.\n",
      "Scoremap size does not match background image size. Need to resize: 0.08 seconds.\n",
      "Generate scoremap overlay image 5N: 0.16 seconds\n",
      "locate patches: 0.02 seconds\n"
     ]
    },
    {
     "name": "stdout",
     "output_type": "stream",
     "text": [
      "(597, 925, 3) (597, 925)\n",
      "5N 114\n"
     ]
    },
    {
     "name": "stderr",
     "output_type": "stream",
     "text": [
      "Load pre-computed features: 0.52 seconds\n",
      "Not using image_cache.\n"
     ]
    },
    {
     "name": "stdout",
     "output_type": "stream",
     "text": [
      "/data/CSHL_data_processed/CHATM2/CHATM2_prep2_raw_NtbNormalizedAdaptiveInvertedGammaJpeg/CHATM2_slide38_2018_01_22-S3_prep2_raw_NtbNormalizedAdaptiveInvertedGammaJpeg.jpg\n"
     ]
    },
    {
     "name": "stderr",
     "output_type": "stream",
     "text": [
      "Load background image: 2.36 seconds\n",
      "Rescale background image to output resolution: 0.14 seconds\n",
      "Predict scores 5N: 0.01 seconds\n",
      "Resample scoremap 5N: 0.09 seconds\n",
      "Load and rescale background image: 0.00 seconds\n",
      "Generate scoremap overlay: 0.05 seconds.\n",
      "Scoremap size does not match background image size. Need to resize: 0.08 seconds.\n",
      "Generate scoremap overlay image 5N: 0.16 seconds\n",
      "locate patches: 0.02 seconds\n"
     ]
    },
    {
     "name": "stdout",
     "output_type": "stream",
     "text": [
      "(597, 925, 3) (597, 925)\n",
      "5N 243\n"
     ]
    },
    {
     "name": "stderr",
     "output_type": "stream",
     "text": [
      "Load pre-computed features: 0.56 seconds\n",
      "Not using image_cache.\n"
     ]
    },
    {
     "name": "stdout",
     "output_type": "stream",
     "text": [
      "/data/CSHL_data_processed/CHATM2/CHATM2_prep2_raw_NtbNormalizedAdaptiveInvertedGammaJpeg/CHATM2_slide80_2018_02_14-S3_prep2_raw_NtbNormalizedAdaptiveInvertedGammaJpeg.jpg\n"
     ]
    },
    {
     "name": "stderr",
     "output_type": "stream",
     "text": [
      "Load background image: 2.33 seconds\n",
      "Rescale background image to output resolution: 0.14 seconds\n",
      "Predict scores 5N: 0.01 seconds\n",
      "Resample scoremap 5N: 0.09 seconds\n",
      "Load and rescale background image: 0.00 seconds\n",
      "Generate scoremap overlay: 0.05 seconds.\n",
      "Scoremap size does not match background image size. Need to resize: 0.08 seconds.\n",
      "Generate scoremap overlay image 5N: 0.16 seconds\n",
      "locate patches: 0.02 seconds\n"
     ]
    },
    {
     "name": "stdout",
     "output_type": "stream",
     "text": [
      "(597, 925, 3) (597, 925)\n",
      "5N 245\n"
     ]
    },
    {
     "name": "stderr",
     "output_type": "stream",
     "text": [
      "Load pre-computed features: 0.64 seconds\n",
      "Not using image_cache.\n"
     ]
    },
    {
     "name": "stdout",
     "output_type": "stream",
     "text": [
      "/data/CSHL_data_processed/CHATM2/CHATM2_prep2_raw_NtbNormalizedAdaptiveInvertedGammaJpeg/CHATM2_slide82_2018_02_14-S1_prep2_raw_NtbNormalizedAdaptiveInvertedGammaJpeg.jpg\n"
     ]
    },
    {
     "name": "stderr",
     "output_type": "stream",
     "text": [
      "Load background image: 2.41 seconds\n",
      "Rescale background image to output resolution: 0.14 seconds\n",
      "Predict scores 5N: 0.01 seconds\n",
      "Resample scoremap 5N: 0.09 seconds\n",
      "Load and rescale background image: 0.00 seconds\n",
      "Generate scoremap overlay: 0.05 seconds.\n",
      "Scoremap size does not match background image size. Need to resize: 0.08 seconds.\n",
      "Generate scoremap overlay image 5N: 0.15 seconds\n",
      "locate patches: 0.02 seconds\n"
     ]
    },
    {
     "name": "stdout",
     "output_type": "stream",
     "text": [
      "(597, 925, 3) (597, 925)\n",
      "5N 247\n"
     ]
    },
    {
     "name": "stderr",
     "output_type": "stream",
     "text": [
      "Load pre-computed features: 0.54 seconds\n",
      "Not using image_cache.\n"
     ]
    },
    {
     "name": "stdout",
     "output_type": "stream",
     "text": [
      "/data/CSHL_data_processed/CHATM2/CHATM2_prep2_raw_NtbNormalizedAdaptiveInvertedGammaJpeg/CHATM2_slide82_2018_02_14-S2_prep2_raw_NtbNormalizedAdaptiveInvertedGammaJpeg.jpg\n"
     ]
    },
    {
     "name": "stderr",
     "output_type": "stream",
     "text": [
      "Load background image: 2.41 seconds\n",
      "Rescale background image to output resolution: 0.14 seconds\n",
      "Predict scores 5N: 0.01 seconds\n",
      "Resample scoremap 5N: 0.09 seconds\n",
      "Load and rescale background image: 0.00 seconds\n",
      "Generate scoremap overlay: 0.05 seconds.\n",
      "Scoremap size does not match background image size. Need to resize: 0.08 seconds.\n",
      "Generate scoremap overlay image 5N: 0.16 seconds\n",
      "locate patches: 0.02 seconds\n"
     ]
    },
    {
     "name": "stdout",
     "output_type": "stream",
     "text": [
      "(597, 925, 3) (597, 925)\n",
      "5N 249\n"
     ]
    },
    {
     "name": "stderr",
     "output_type": "stream",
     "text": [
      "Load pre-computed features: 0.57 seconds\n",
      "Not using image_cache.\n"
     ]
    },
    {
     "name": "stdout",
     "output_type": "stream",
     "text": [
      "/data/CSHL_data_processed/CHATM2/CHATM2_prep2_raw_NtbNormalizedAdaptiveInvertedGammaJpeg/CHATM2_slide82_2018_02_14-S3_prep2_raw_NtbNormalizedAdaptiveInvertedGammaJpeg.jpg\n"
     ]
    },
    {
     "name": "stderr",
     "output_type": "stream",
     "text": [
      "Load background image: 2.37 seconds\n",
      "Rescale background image to output resolution: 0.14 seconds\n",
      "Predict scores 5N: 0.01 seconds\n",
      "Resample scoremap 5N: 0.09 seconds\n",
      "Load and rescale background image: 0.00 seconds\n",
      "Generate scoremap overlay: 0.05 seconds.\n",
      "Scoremap size does not match background image size. Need to resize: 0.08 seconds.\n",
      "Generate scoremap overlay image 5N: 0.16 seconds\n",
      "locate patches: 0.02 seconds\n"
     ]
    },
    {
     "name": "stdout",
     "output_type": "stream",
     "text": [
      "(597, 925, 3) (597, 925)\n",
      "5N 122\n"
     ]
    },
    {
     "name": "stderr",
     "output_type": "stream",
     "text": [
      "Load pre-computed features: 0.58 seconds\n",
      "Not using image_cache.\n"
     ]
    },
    {
     "name": "stdout",
     "output_type": "stream",
     "text": [
      "/data/CSHL_data_processed/CHATM2/CHATM2_prep2_raw_NtbNormalizedAdaptiveInvertedGammaJpeg/CHATM2_slide42_2018_01_22-S1_prep2_raw_NtbNormalizedAdaptiveInvertedGammaJpeg.jpg\n"
     ]
    },
    {
     "name": "stderr",
     "output_type": "stream",
     "text": [
      "Load background image: 2.74 seconds\n",
      "Rescale background image to output resolution: 0.14 seconds\n",
      "Predict scores 5N: 0.02 seconds\n",
      "Resample scoremap 5N: 0.09 seconds\n",
      "Load and rescale background image: 0.00 seconds\n",
      "Generate scoremap overlay: 0.05 seconds.\n",
      "Scoremap size does not match background image size. Need to resize: 0.08 seconds.\n",
      "Generate scoremap overlay image 5N: 0.15 seconds\n",
      "locate patches: 0.02 seconds\n"
     ]
    },
    {
     "name": "stdout",
     "output_type": "stream",
     "text": [
      "(597, 925, 3) (597, 925)\n",
      "5N 251\n"
     ]
    },
    {
     "name": "stderr",
     "output_type": "stream",
     "text": [
      "Load pre-computed features: 0.54 seconds\n",
      "Not using image_cache.\n"
     ]
    },
    {
     "name": "stdout",
     "output_type": "stream",
     "text": [
      "/data/CSHL_data_processed/CHATM2/CHATM2_prep2_raw_NtbNormalizedAdaptiveInvertedGammaJpeg/CHATM2_slide84_2018_02_14-S1_prep2_raw_NtbNormalizedAdaptiveInvertedGammaJpeg.jpg\n"
     ]
    },
    {
     "name": "stderr",
     "output_type": "stream",
     "text": [
      "Load background image: 2.38 seconds\n",
      "Rescale background image to output resolution: 0.14 seconds\n",
      "Predict scores 5N: 0.01 seconds\n",
      "Resample scoremap 5N: 0.09 seconds\n",
      "Load and rescale background image: 0.00 seconds\n",
      "Generate scoremap overlay: 0.05 seconds.\n",
      "Scoremap size does not match background image size. Need to resize: 0.08 seconds.\n",
      "Generate scoremap overlay image 5N: 0.16 seconds\n",
      "locate patches: 0.02 seconds\n"
     ]
    },
    {
     "name": "stdout",
     "output_type": "stream",
     "text": [
      "(597, 925, 3) (597, 925)\n",
      "5N 124\n"
     ]
    },
    {
     "name": "stderr",
     "output_type": "stream",
     "text": [
      "Load pre-computed features: 0.57 seconds\n",
      "Not using image_cache.\n"
     ]
    },
    {
     "name": "stdout",
     "output_type": "stream",
     "text": [
      "/data/CSHL_data_processed/CHATM2/CHATM2_prep2_raw_NtbNormalizedAdaptiveInvertedGammaJpeg/CHATM2_slide42_2018_01_22-S2_prep2_raw_NtbNormalizedAdaptiveInvertedGammaJpeg.jpg\n"
     ]
    },
    {
     "name": "stderr",
     "output_type": "stream",
     "text": [
      "Load background image: 2.57 seconds\n",
      "Rescale background image to output resolution: 0.18 seconds\n",
      "Predict scores 5N: 0.01 seconds\n",
      "Resample scoremap 5N: 0.09 seconds\n",
      "Load and rescale background image: 0.00 seconds\n",
      "Generate scoremap overlay: 0.05 seconds.\n",
      "Scoremap size does not match background image size. Need to resize: 0.08 seconds.\n",
      "Generate scoremap overlay image 5N: 0.15 seconds\n",
      "locate patches: 0.02 seconds\n"
     ]
    },
    {
     "name": "stdout",
     "output_type": "stream",
     "text": [
      "(597, 925, 3) (597, 925)\n",
      "5N 253\n"
     ]
    },
    {
     "name": "stderr",
     "output_type": "stream",
     "text": [
      "Load pre-computed features: 0.52 seconds\n",
      "Not using image_cache.\n"
     ]
    },
    {
     "name": "stdout",
     "output_type": "stream",
     "text": [
      "/data/CSHL_data_processed/CHATM2/CHATM2_prep2_raw_NtbNormalizedAdaptiveInvertedGammaJpeg/CHATM2_slide84_2018_02_14-S2_prep2_raw_NtbNormalizedAdaptiveInvertedGammaJpeg.jpg\n"
     ]
    },
    {
     "name": "stderr",
     "output_type": "stream",
     "text": [
      "Load background image: 2.26 seconds\n",
      "Rescale background image to output resolution: 0.14 seconds\n",
      "Predict scores 5N: 0.01 seconds\n",
      "Resample scoremap 5N: 0.06 seconds\n",
      "Load and rescale background image: 0.00 seconds\n",
      "Generate scoremap overlay: 0.05 seconds.\n",
      "Scoremap size does not match background image size. Need to resize: 0.08 seconds.\n"
     ]
    },
    {
     "name": "stdout",
     "output_type": "stream",
     "text": [
      "(597, 925, 3) (597, 925)\n",
      "5N 126\n"
     ]
    },
    {
     "name": "stderr",
     "output_type": "stream",
     "text": [
      "Generate scoremap overlay image 5N: 0.15 seconds\n",
      "locate patches: 0.02 seconds\n",
      "Load pre-computed features: 0.57 seconds\n",
      "Not using image_cache.\n"
     ]
    },
    {
     "name": "stdout",
     "output_type": "stream",
     "text": [
      "/data/CSHL_data_processed/CHATM2/CHATM2_prep2_raw_NtbNormalizedAdaptiveInvertedGammaJpeg/CHATM2_slide42_2018_01_22-S3_prep2_raw_NtbNormalizedAdaptiveInvertedGammaJpeg.jpg\n"
     ]
    },
    {
     "name": "stderr",
     "output_type": "stream",
     "text": [
      "Load background image: 2.58 seconds\n",
      "Rescale background image to output resolution: 0.14 seconds\n",
      "Predict scores 5N: 0.01 seconds\n",
      "Resample scoremap 5N: 0.06 seconds\n",
      "Load and rescale background image: 0.00 seconds\n",
      "Generate scoremap overlay: 0.07 seconds.\n",
      "Scoremap size does not match background image size. Need to resize: 0.08 seconds.\n",
      "Generate scoremap overlay image 5N: 0.18 seconds\n",
      "locate patches: 0.02 seconds\n"
     ]
    },
    {
     "name": "stdout",
     "output_type": "stream",
     "text": [
      "(597, 925, 3) (597, 925)\n",
      "5N 255\n"
     ]
    },
    {
     "name": "stderr",
     "output_type": "stream",
     "text": [
      "Load pre-computed features: 0.53 seconds\n",
      "Not using image_cache.\n"
     ]
    },
    {
     "name": "stdout",
     "output_type": "stream",
     "text": [
      "/data/CSHL_data_processed/CHATM2/CHATM2_prep2_raw_NtbNormalizedAdaptiveInvertedGammaJpeg/CHATM2_slide84_2018_02_14-S3_prep2_raw_NtbNormalizedAdaptiveInvertedGammaJpeg.jpg\n"
     ]
    },
    {
     "name": "stderr",
     "output_type": "stream",
     "text": [
      "Load background image: 2.30 seconds\n",
      "Rescale background image to output resolution: 0.20 seconds\n",
      "Predict scores 5N: 0.01 seconds\n",
      "Resample scoremap 5N: 0.06 seconds\n",
      "Load and rescale background image: 0.00 seconds\n",
      "Generate scoremap overlay: 0.05 seconds.\n",
      "Scoremap size does not match background image size. Need to resize: 0.08 seconds.\n"
     ]
    },
    {
     "name": "stdout",
     "output_type": "stream",
     "text": [
      "(597, 925, 3) (597, 925)\n",
      "6N 145\n"
     ]
    },
    {
     "name": "stderr",
     "output_type": "stream",
     "text": [
      "Generate scoremap overlay image 5N: 0.17 seconds\n",
      "locate patches: 0.02 seconds\n",
      "Load pre-computed features: 0.63 seconds\n",
      "Not using image_cache.\n"
     ]
    },
    {
     "name": "stdout",
     "output_type": "stream",
     "text": [
      "/data/CSHL_data_processed/CHATM2/CHATM2_prep2_raw_NtbNormalizedAdaptiveInvertedGammaJpeg/CHATM2_slide49_2018_01_22-S1_prep2_raw_NtbNormalizedAdaptiveInvertedGammaJpeg.jpg\n"
     ]
    },
    {
     "name": "stderr",
     "output_type": "stream",
     "text": [
      "Load background image: 2.66 seconds\n",
      "Rescale background image to output resolution: 0.04 seconds\n",
      "Predict scores 6N: 0.00 seconds\n",
      "Resample scoremap 6N: 0.09 seconds\n",
      "Load and rescale background image: 0.00 seconds\n",
      "Generate scoremap overlay: 0.05 seconds.\n",
      "Scoremap size does not match background image size. Need to resize: 0.08 seconds.\n",
      "Generate scoremap overlay image 6N: 0.17 seconds\n",
      "locate patches: 0.02 seconds\n"
     ]
    },
    {
     "name": "stdout",
     "output_type": "stream",
     "text": [
      "(597, 925, 3) (597, 925)\n",
      "6N 146\n"
     ]
    },
    {
     "name": "stderr",
     "output_type": "stream",
     "text": [
      "Load pre-computed features: 0.63 seconds\n",
      "Not using image_cache.\n"
     ]
    },
    {
     "name": "stdout",
     "output_type": "stream",
     "text": [
      "/data/CSHL_data_processed/CHATM2/CHATM2_prep2_raw_NtbNormalizedAdaptiveInvertedGammaJpeg/CHATM2_slide50_2018_01_22-S1_prep2_raw_NtbNormalizedAdaptiveInvertedGammaJpeg.jpg\n"
     ]
    },
    {
     "name": "stderr",
     "output_type": "stream",
     "text": [
      "Load background image: 2.60 seconds\n",
      "Rescale background image to output resolution: 0.04 seconds\n",
      "Predict scores 6N: 0.00 seconds\n",
      "Resample scoremap 6N: 0.10 seconds\n",
      "Load and rescale background image: 0.00 seconds\n",
      "Generate scoremap overlay: 0.06 seconds.\n",
      "Scoremap size does not match background image size. Need to resize: 0.08 seconds.\n",
      "Generate scoremap overlay image 6N: 0.16 seconds\n",
      "locate patches: 0.02 seconds\n"
     ]
    },
    {
     "name": "stdout",
     "output_type": "stream",
     "text": [
      "(597, 925, 3) (597, 925)\n",
      "6N 147\n"
     ]
    },
    {
     "name": "stderr",
     "output_type": "stream",
     "text": [
      "Load pre-computed features: 0.73 seconds\n",
      "Not using image_cache.\n"
     ]
    },
    {
     "name": "stdout",
     "output_type": "stream",
     "text": [
      "/data/CSHL_data_processed/CHATM2/CHATM2_prep2_raw_NtbNormalizedAdaptiveInvertedGammaJpeg/CHATM2_slide49_2018_01_22-S2_prep2_raw_NtbNormalizedAdaptiveInvertedGammaJpeg.jpg\n"
     ]
    },
    {
     "name": "stderr",
     "output_type": "stream",
     "text": [
      "Load background image: 2.76 seconds\n",
      "Rescale background image to output resolution: 0.05 seconds\n",
      "Predict scores 6N: 0.00 seconds\n",
      "Resample scoremap 6N: 0.09 seconds\n",
      "Load and rescale background image: 0.00 seconds\n",
      "Generate scoremap overlay: 0.05 seconds.\n",
      "Scoremap size does not match background image size. Need to resize: 0.08 seconds.\n",
      "Generate scoremap overlay image 6N: 0.16 seconds\n",
      "locate patches: 0.03 seconds\n"
     ]
    },
    {
     "name": "stdout",
     "output_type": "stream",
     "text": [
      "(597, 925, 3) (597, 925)\n",
      "6N 148\n"
     ]
    },
    {
     "name": "stderr",
     "output_type": "stream",
     "text": [
      "Load pre-computed features: 0.62 seconds\n",
      "Not using image_cache.\n"
     ]
    },
    {
     "name": "stdout",
     "output_type": "stream",
     "text": [
      "/data/CSHL_data_processed/CHATM2/CHATM2_prep2_raw_NtbNormalizedAdaptiveInvertedGammaJpeg/CHATM2_slide50_2018_01_22-S2_prep2_raw_NtbNormalizedAdaptiveInvertedGammaJpeg.jpg\n"
     ]
    },
    {
     "name": "stderr",
     "output_type": "stream",
     "text": [
      "Load background image: 2.69 seconds\n",
      "Rescale background image to output resolution: 0.04 seconds\n",
      "Predict scores 6N: 0.00 seconds\n",
      "Resample scoremap 6N: 0.09 seconds\n",
      "Load and rescale background image: 0.00 seconds\n",
      "Generate scoremap overlay: 0.06 seconds.\n",
      "Scoremap size does not match background image size. Need to resize: 0.08 seconds.\n",
      "Generate scoremap overlay image 6N: 0.16 seconds\n",
      "locate patches: 0.02 seconds\n"
     ]
    },
    {
     "name": "stdout",
     "output_type": "stream",
     "text": [
      "(597, 925, 3) (597, 925)\n",
      "6N 150\n"
     ]
    },
    {
     "name": "stderr",
     "output_type": "stream",
     "text": [
      "Load pre-computed features: 0.61 seconds\n",
      "Not using image_cache.\n"
     ]
    },
    {
     "name": "stdout",
     "output_type": "stream",
     "text": [
      "/data/CSHL_data_processed/CHATM2/CHATM2_prep2_raw_NtbNormalizedAdaptiveInvertedGammaJpeg/CHATM2_slide50_2018_01_22-S3_prep2_raw_NtbNormalizedAdaptiveInvertedGammaJpeg.jpg\n"
     ]
    },
    {
     "name": "stderr",
     "output_type": "stream",
     "text": [
      "Load background image: 2.59 seconds\n",
      "Rescale background image to output resolution: 0.04 seconds\n",
      "Predict scores 6N: 0.00 seconds\n",
      "Resample scoremap 6N: 0.09 seconds\n",
      "Load and rescale background image: 0.00 seconds\n",
      "Generate scoremap overlay: 0.05 seconds.\n",
      "Scoremap size does not match background image size. Need to resize: 0.07 seconds.\n",
      "Generate scoremap overlay image 6N: 0.15 seconds\n",
      "locate patches: 0.02 seconds\n"
     ]
    },
    {
     "name": "stdout",
     "output_type": "stream",
     "text": [
      "(597, 925, 3) (597, 925)\n",
      "6N 151\n"
     ]
    },
    {
     "name": "stderr",
     "output_type": "stream",
     "text": [
      "Load pre-computed features: 0.60 seconds\n",
      "Not using image_cache.\n"
     ]
    },
    {
     "name": "stdout",
     "output_type": "stream",
     "text": [
      "/data/CSHL_data_processed/CHATM2/CHATM2_prep2_raw_NtbNormalizedAdaptiveInvertedGammaJpeg/CHATM2_slide51_2018_01_22-S1_prep2_raw_NtbNormalizedAdaptiveInvertedGammaJpeg.jpg\n"
     ]
    },
    {
     "name": "stderr",
     "output_type": "stream",
     "text": [
      "Load background image: 2.62 seconds\n",
      "Rescale background image to output resolution: 0.05 seconds\n",
      "Predict scores 6N: 0.01 seconds\n",
      "Resample scoremap 6N: 0.09 seconds\n",
      "Load and rescale background image: 0.00 seconds\n",
      "Generate scoremap overlay: 0.06 seconds.\n",
      "Scoremap size does not match background image size. Need to resize: 0.08 seconds.\n",
      "Generate scoremap overlay image 6N: 0.16 seconds\n",
      "locate patches: 0.02 seconds\n"
     ]
    },
    {
     "name": "stdout",
     "output_type": "stream",
     "text": [
      "(597, 925, 3) (597, 925)\n",
      "6N 152\n"
     ]
    },
    {
     "name": "stderr",
     "output_type": "stream",
     "text": [
      "Load pre-computed features: 0.46 seconds\n",
      "Not using image_cache.\n"
     ]
    },
    {
     "name": "stdout",
     "output_type": "stream",
     "text": [
      "/data/CSHL_data_processed/CHATM2/CHATM2_prep2_raw_NtbNormalizedAdaptiveInvertedGammaJpeg/CHATM2_slide52_2018_01_22-S1_prep2_raw_NtbNormalizedAdaptiveInvertedGammaJpeg.jpg\n"
     ]
    },
    {
     "name": "stderr",
     "output_type": "stream",
     "text": [
      "Load background image: 2.16 seconds\n",
      "Rescale background image to output resolution: 0.04 seconds\n",
      "Predict scores 6N: 0.00 seconds\n",
      "Resample scoremap 6N: 0.09 seconds\n",
      "Load and rescale background image: 0.00 seconds\n",
      "Generate scoremap overlay: 0.05 seconds.\n",
      "Scoremap size does not match background image size. Need to resize: 0.08 seconds.\n",
      "Generate scoremap overlay image 6N: 0.15 seconds\n",
      "locate patches: 0.02 seconds\n"
     ]
    },
    {
     "name": "stdout",
     "output_type": "stream",
     "text": [
      "(597, 925, 3) (597, 925)\n",
      "6N 153\n"
     ]
    },
    {
     "name": "stderr",
     "output_type": "stream",
     "text": [
      "Load pre-computed features: 0.61 seconds\n",
      "Not using image_cache.\n"
     ]
    },
    {
     "name": "stdout",
     "output_type": "stream",
     "text": [
      "/data/CSHL_data_processed/CHATM2/CHATM2_prep2_raw_NtbNormalizedAdaptiveInvertedGammaJpeg/CHATM2_slide51_2018_01_22-S2_prep2_raw_NtbNormalizedAdaptiveInvertedGammaJpeg.jpg\n"
     ]
    },
    {
     "name": "stderr",
     "output_type": "stream",
     "text": [
      "Load background image: 2.59 seconds\n",
      "Rescale background image to output resolution: 0.04 seconds\n",
      "Predict scores 6N: 0.00 seconds\n",
      "Resample scoremap 6N: 0.09 seconds\n",
      "Load and rescale background image: 0.00 seconds\n",
      "Generate scoremap overlay: 0.05 seconds.\n",
      "Scoremap size does not match background image size. Need to resize: 0.08 seconds.\n",
      "Generate scoremap overlay image 6N: 0.16 seconds\n",
      "locate patches: 0.02 seconds\n"
     ]
    },
    {
     "name": "stdout",
     "output_type": "stream",
     "text": [
      "(597, 925, 3) (597, 925)\n",
      "6N 154\n"
     ]
    },
    {
     "name": "stderr",
     "output_type": "stream",
     "text": [
      "Load pre-computed features: 0.48 seconds\n",
      "Not using image_cache.\n"
     ]
    },
    {
     "name": "stdout",
     "output_type": "stream",
     "text": [
      "/data/CSHL_data_processed/CHATM2/CHATM2_prep2_raw_NtbNormalizedAdaptiveInvertedGammaJpeg/CHATM2_slide52_2018_01_22-S2_prep2_raw_NtbNormalizedAdaptiveInvertedGammaJpeg.jpg\n"
     ]
    },
    {
     "name": "stderr",
     "output_type": "stream",
     "text": [
      "Load background image: 2.25 seconds\n",
      "Rescale background image to output resolution: 0.04 seconds\n",
      "Predict scores 6N: 0.01 seconds\n",
      "Resample scoremap 6N: 0.09 seconds\n",
      "Load and rescale background image: 0.00 seconds\n",
      "Generate scoremap overlay: 0.06 seconds.\n",
      "Scoremap size does not match background image size. Need to resize: 0.08 seconds.\n",
      "Generate scoremap overlay image 6N: 0.16 seconds\n",
      "locate patches: 0.02 seconds\n"
     ]
    },
    {
     "name": "stdout",
     "output_type": "stream",
     "text": [
      "(597, 925, 3) (597, 925)\n",
      "6N 155\n"
     ]
    },
    {
     "name": "stderr",
     "output_type": "stream",
     "text": [
      "Load pre-computed features: 0.61 seconds\n",
      "Not using image_cache.\n"
     ]
    },
    {
     "name": "stdout",
     "output_type": "stream",
     "text": [
      "/data/CSHL_data_processed/CHATM2/CHATM2_prep2_raw_NtbNormalizedAdaptiveInvertedGammaJpeg/CHATM2_slide51_2018_01_22-S3_prep2_raw_NtbNormalizedAdaptiveInvertedGammaJpeg.jpg\n"
     ]
    },
    {
     "name": "stderr",
     "output_type": "stream",
     "text": [
      "Load background image: 2.73 seconds\n",
      "Rescale background image to output resolution: 0.04 seconds\n",
      "Predict scores 6N: 0.00 seconds\n",
      "Resample scoremap 6N: 0.09 seconds\n",
      "Load and rescale background image: 0.00 seconds\n",
      "Generate scoremap overlay: 0.05 seconds.\n",
      "Scoremap size does not match background image size. Need to resize: 0.08 seconds.\n",
      "Generate scoremap overlay image 6N: 0.15 seconds\n",
      "locate patches: 0.02 seconds\n"
     ]
    },
    {
     "name": "stdout",
     "output_type": "stream",
     "text": [
      "(597, 925, 3) (597, 925)\n",
      "6N 156\n"
     ]
    },
    {
     "name": "stderr",
     "output_type": "stream",
     "text": [
      "Load pre-computed features: 0.52 seconds\n",
      "Not using image_cache.\n"
     ]
    },
    {
     "name": "stdout",
     "output_type": "stream",
     "text": [
      "/data/CSHL_data_processed/CHATM2/CHATM2_prep2_raw_NtbNormalizedAdaptiveInvertedGammaJpeg/CHATM2_slide52_2018_01_22-S3_prep2_raw_NtbNormalizedAdaptiveInvertedGammaJpeg.jpg\n"
     ]
    },
    {
     "name": "stderr",
     "output_type": "stream",
     "text": [
      "Load background image: 2.28 seconds\n",
      "Rescale background image to output resolution: 0.04 seconds\n",
      "Predict scores 6N: 0.01 seconds\n",
      "Resample scoremap 6N: 0.09 seconds\n",
      "Load and rescale background image: 0.00 seconds\n",
      "Generate scoremap overlay: 0.05 seconds.\n",
      "Scoremap size does not match background image size. Need to resize: 0.07 seconds.\n",
      "Generate scoremap overlay image 6N: 0.15 seconds\n",
      "locate patches: 0.02 seconds\n"
     ]
    },
    {
     "name": "stdout",
     "output_type": "stream",
     "text": [
      "(597, 925, 3) (597, 925)\n",
      "6N 157\n"
     ]
    },
    {
     "name": "stderr",
     "output_type": "stream",
     "text": [
      "Load pre-computed features: 0.62 seconds\n",
      "Not using image_cache.\n"
     ]
    },
    {
     "name": "stdout",
     "output_type": "stream",
     "text": [
      "/data/CSHL_data_processed/CHATM2/CHATM2_prep2_raw_NtbNormalizedAdaptiveInvertedGammaJpeg/CHATM2_slide53_2018_01_22-S1_prep2_raw_NtbNormalizedAdaptiveInvertedGammaJpeg.jpg\n"
     ]
    },
    {
     "name": "stderr",
     "output_type": "stream",
     "text": [
      "Load background image: 2.57 seconds\n",
      "Rescale background image to output resolution: 0.04 seconds\n",
      "Predict scores 6N: 0.01 seconds\n",
      "Resample scoremap 6N: 0.09 seconds\n",
      "Load and rescale background image: 0.00 seconds\n",
      "Generate scoremap overlay: 0.05 seconds.\n",
      "Scoremap size does not match background image size. Need to resize: 0.08 seconds.\n",
      "Generate scoremap overlay image 6N: 0.15 seconds\n",
      "locate patches: 0.02 seconds\n"
     ]
    },
    {
     "name": "stdout",
     "output_type": "stream",
     "text": [
      "(597, 925, 3) (597, 925)\n",
      "6N 158\n"
     ]
    },
    {
     "name": "stderr",
     "output_type": "stream",
     "text": [
      "Load pre-computed features: 0.50 seconds\n",
      "Not using image_cache.\n"
     ]
    },
    {
     "name": "stdout",
     "output_type": "stream",
     "text": [
      "/data/CSHL_data_processed/CHATM2/CHATM2_prep2_raw_NtbNormalizedAdaptiveInvertedGammaJpeg/CHATM2_slide54_2018_01_22-S1_prep2_raw_NtbNormalizedAdaptiveInvertedGammaJpeg.jpg\n"
     ]
    },
    {
     "name": "stderr",
     "output_type": "stream",
     "text": [
      "Load background image: 2.29 seconds\n",
      "Rescale background image to output resolution: 0.04 seconds\n",
      "Predict scores 6N: 0.00 seconds\n",
      "Resample scoremap 6N: 0.09 seconds\n",
      "Load and rescale background image: 0.00 seconds\n",
      "Generate scoremap overlay: 0.05 seconds.\n",
      "Scoremap size does not match background image size. Need to resize: 0.07 seconds.\n",
      "Generate scoremap overlay image 6N: 0.15 seconds\n",
      "locate patches: 0.02 seconds\n"
     ]
    },
    {
     "name": "stdout",
     "output_type": "stream",
     "text": [
      "(597, 925, 3) (597, 925)\n",
      "6N 159\n"
     ]
    },
    {
     "name": "stderr",
     "output_type": "stream",
     "text": [
      "Load pre-computed features: 0.72 seconds\n",
      "Not using image_cache.\n"
     ]
    },
    {
     "name": "stdout",
     "output_type": "stream",
     "text": [
      "/data/CSHL_data_processed/CHATM2/CHATM2_prep2_raw_NtbNormalizedAdaptiveInvertedGammaJpeg/CHATM2_slide53_2018_01_22-S2_prep2_raw_NtbNormalizedAdaptiveInvertedGammaJpeg.jpg\n"
     ]
    },
    {
     "name": "stderr",
     "output_type": "stream",
     "text": [
      "Load background image: 2.73 seconds\n",
      "Rescale background image to output resolution: 0.04 seconds\n",
      "Predict scores 6N: 0.00 seconds\n",
      "Resample scoremap 6N: 0.09 seconds\n",
      "Load and rescale background image: 0.00 seconds\n",
      "Generate scoremap overlay: 0.05 seconds.\n",
      "Scoremap size does not match background image size. Need to resize: 0.07 seconds.\n",
      "Generate scoremap overlay image 6N: 0.15 seconds\n",
      "locate patches: 0.02 seconds\n"
     ]
    },
    {
     "name": "stdout",
     "output_type": "stream",
     "text": [
      "(597, 925, 3) (597, 925)\n",
      "6N 160\n"
     ]
    },
    {
     "name": "stderr",
     "output_type": "stream",
     "text": [
      "Load pre-computed features: 0.63 seconds\n",
      "Not using image_cache.\n"
     ]
    },
    {
     "name": "stdout",
     "output_type": "stream",
     "text": [
      "/data/CSHL_data_processed/CHATM2/CHATM2_prep2_raw_NtbNormalizedAdaptiveInvertedGammaJpeg/CHATM2_slide54_2018_01_22-S2_prep2_raw_NtbNormalizedAdaptiveInvertedGammaJpeg.jpg\n"
     ]
    },
    {
     "name": "stderr",
     "output_type": "stream",
     "text": [
      "Load background image: 2.58 seconds\n",
      "Rescale background image to output resolution: 0.04 seconds\n",
      "Predict scores 6N: 0.00 seconds\n",
      "Resample scoremap 6N: 0.09 seconds\n",
      "Load and rescale background image: 0.00 seconds\n",
      "Generate scoremap overlay: 0.06 seconds.\n",
      "Scoremap size does not match background image size. Need to resize: 0.07 seconds.\n",
      "Generate scoremap overlay image 6N: 0.16 seconds\n",
      "locate patches: 0.02 seconds\n"
     ]
    },
    {
     "name": "stdout",
     "output_type": "stream",
     "text": [
      "(597, 925, 3) (597, 925)\n",
      "6N 161\n"
     ]
    },
    {
     "name": "stderr",
     "output_type": "stream",
     "text": [
      "Load pre-computed features: 0.65 seconds\n",
      "Not using image_cache.\n"
     ]
    },
    {
     "name": "stdout",
     "output_type": "stream",
     "text": [
      "/data/CSHL_data_processed/CHATM2/CHATM2_prep2_raw_NtbNormalizedAdaptiveInvertedGammaJpeg/CHATM2_slide53_2018_01_22-S3_prep2_raw_NtbNormalizedAdaptiveInvertedGammaJpeg.jpg\n"
     ]
    },
    {
     "name": "stderr",
     "output_type": "stream",
     "text": [
      "Load background image: 2.83 seconds\n",
      "Rescale background image to output resolution: 0.04 seconds\n",
      "Predict scores 6N: 0.00 seconds\n",
      "Resample scoremap 6N: 0.10 seconds\n",
      "Load and rescale background image: 0.00 seconds\n",
      "Generate scoremap overlay: 0.06 seconds.\n",
      "Scoremap size does not match background image size. Need to resize: 0.08 seconds.\n",
      "Generate scoremap overlay image 6N: 0.16 seconds\n",
      "locate patches: 0.02 seconds\n"
     ]
    },
    {
     "name": "stdout",
     "output_type": "stream",
     "text": [
      "(597, 925, 3) (597, 925)\n",
      "6N 162\n"
     ]
    },
    {
     "name": "stderr",
     "output_type": "stream",
     "text": [
      "Load pre-computed features: 0.63 seconds\n",
      "Not using image_cache.\n"
     ]
    },
    {
     "name": "stdout",
     "output_type": "stream",
     "text": [
      "/data/CSHL_data_processed/CHATM2/CHATM2_prep2_raw_NtbNormalizedAdaptiveInvertedGammaJpeg/CHATM2_slide54_2018_01_22-S3_prep2_raw_NtbNormalizedAdaptiveInvertedGammaJpeg.jpg\n"
     ]
    },
    {
     "name": "stderr",
     "output_type": "stream",
     "text": [
      "Load background image: 2.63 seconds\n",
      "Rescale background image to output resolution: 0.04 seconds\n",
      "Predict scores 6N: 0.00 seconds\n",
      "Resample scoremap 6N: 0.09 seconds\n",
      "Load and rescale background image: 0.00 seconds\n",
      "Generate scoremap overlay: 0.05 seconds.\n",
      "Scoremap size does not match background image size. Need to resize: 0.07 seconds.\n",
      "Generate scoremap overlay image 6N: 0.16 seconds\n",
      "locate patches: 0.02 seconds\n"
     ]
    },
    {
     "name": "stdout",
     "output_type": "stream",
     "text": [
      "(597, 925, 3) (597, 925)\n",
      "6N 163\n"
     ]
    },
    {
     "name": "stderr",
     "output_type": "stream",
     "text": [
      "Load pre-computed features: 0.65 seconds\n",
      "Not using image_cache.\n"
     ]
    },
    {
     "name": "stdout",
     "output_type": "stream",
     "text": [
      "/data/CSHL_data_processed/CHATM2/CHATM2_prep2_raw_NtbNormalizedAdaptiveInvertedGammaJpeg/CHATM2_slide55_2018_01_22-S1_prep2_raw_NtbNormalizedAdaptiveInvertedGammaJpeg.jpg\n"
     ]
    },
    {
     "name": "stderr",
     "output_type": "stream",
     "text": [
      "Load background image: 2.68 seconds\n",
      "Rescale background image to output resolution: 0.04 seconds\n",
      "Predict scores 6N: 0.00 seconds\n",
      "Resample scoremap 6N: 0.09 seconds\n",
      "Load and rescale background image: 0.00 seconds\n",
      "Generate scoremap overlay: 0.06 seconds.\n",
      "Scoremap size does not match background image size. Need to resize: 0.08 seconds.\n",
      "Generate scoremap overlay image 6N: 0.16 seconds\n",
      "locate patches: 0.02 seconds\n"
     ]
    },
    {
     "name": "stdout",
     "output_type": "stream",
     "text": [
      "(597, 925, 3) (597, 925)\n",
      "6N 164\n"
     ]
    },
    {
     "name": "stderr",
     "output_type": "stream",
     "text": [
      "Load pre-computed features: 0.65 seconds\n",
      "Not using image_cache.\n"
     ]
    },
    {
     "name": "stdout",
     "output_type": "stream",
     "text": [
      "/data/CSHL_data_processed/CHATM2/CHATM2_prep2_raw_NtbNormalizedAdaptiveInvertedGammaJpeg/CHATM2_slide56_2018_01_22-S1_prep2_raw_NtbNormalizedAdaptiveInvertedGammaJpeg.jpg\n"
     ]
    },
    {
     "name": "stderr",
     "output_type": "stream",
     "text": [
      "Load background image: 2.66 seconds\n",
      "Rescale background image to output resolution: 0.04 seconds\n",
      "Predict scores 6N: 0.00 seconds\n",
      "Resample scoremap 6N: 0.09 seconds\n",
      "Load and rescale background image: 0.00 seconds\n",
      "Generate scoremap overlay: 0.05 seconds.\n",
      "Scoremap size does not match background image size. Need to resize: 0.07 seconds.\n",
      "Generate scoremap overlay image 6N: 0.15 seconds\n",
      "locate patches: 0.02 seconds\n"
     ]
    },
    {
     "name": "stdout",
     "output_type": "stream",
     "text": [
      "(597, 925, 3) (597, 925)\n",
      "6N 165\n"
     ]
    },
    {
     "name": "stderr",
     "output_type": "stream",
     "text": [
      "Load pre-computed features: 0.60 seconds\n",
      "Not using image_cache.\n"
     ]
    },
    {
     "name": "stdout",
     "output_type": "stream",
     "text": [
      "/data/CSHL_data_processed/CHATM2/CHATM2_prep2_raw_NtbNormalizedAdaptiveInvertedGammaJpeg/CHATM2_slide55_2018_01_22-S2_prep2_raw_NtbNormalizedAdaptiveInvertedGammaJpeg.jpg\n"
     ]
    },
    {
     "name": "stderr",
     "output_type": "stream",
     "text": [
      "Load background image: 2.60 seconds\n",
      "Rescale background image to output resolution: 0.04 seconds\n",
      "Predict scores 6N: 0.00 seconds\n",
      "Resample scoremap 6N: 0.09 seconds\n",
      "Load and rescale background image: 0.00 seconds\n",
      "Generate scoremap overlay: 0.05 seconds.\n",
      "Scoremap size does not match background image size. Need to resize: 0.08 seconds.\n",
      "Generate scoremap overlay image 6N: 0.15 seconds\n",
      "locate patches: 0.02 seconds\n"
     ]
    },
    {
     "name": "stdout",
     "output_type": "stream",
     "text": [
      "(597, 925, 3) (597, 925)\n",
      "6N 166\n"
     ]
    },
    {
     "name": "stderr",
     "output_type": "stream",
     "text": [
      "Load pre-computed features: 0.57 seconds\n",
      "Not using image_cache.\n"
     ]
    },
    {
     "name": "stdout",
     "output_type": "stream",
     "text": [
      "/data/CSHL_data_processed/CHATM2/CHATM2_prep2_raw_NtbNormalizedAdaptiveInvertedGammaJpeg/CHATM2_slide56_2018_01_22-S2_prep2_raw_NtbNormalizedAdaptiveInvertedGammaJpeg.jpg\n"
     ]
    },
    {
     "name": "stderr",
     "output_type": "stream",
     "text": [
      "Load background image: 2.51 seconds\n",
      "Rescale background image to output resolution: 0.04 seconds\n",
      "Predict scores 6N: 0.00 seconds\n",
      "Resample scoremap 6N: 0.09 seconds\n",
      "Load and rescale background image: 0.00 seconds\n",
      "Generate scoremap overlay: 0.05 seconds.\n",
      "Scoremap size does not match background image size. Need to resize: 0.08 seconds.\n",
      "Generate scoremap overlay image 6N: 0.16 seconds\n",
      "locate patches: 0.02 seconds\n"
     ]
    },
    {
     "name": "stdout",
     "output_type": "stream",
     "text": [
      "(597, 925, 3) (597, 925)\n",
      "6N 167\n"
     ]
    },
    {
     "name": "stderr",
     "output_type": "stream",
     "text": [
      "Load pre-computed features: 0.66 seconds\n",
      "Not using image_cache.\n"
     ]
    },
    {
     "name": "stdout",
     "output_type": "stream",
     "text": [
      "/data/CSHL_data_processed/CHATM2/CHATM2_prep2_raw_NtbNormalizedAdaptiveInvertedGammaJpeg/CHATM2_slide55_2018_01_22-S3_prep2_raw_NtbNormalizedAdaptiveInvertedGammaJpeg.jpg\n"
     ]
    },
    {
     "name": "stderr",
     "output_type": "stream",
     "text": [
      "Load background image: 2.78 seconds\n",
      "Rescale background image to output resolution: 0.04 seconds\n",
      "Predict scores 6N: 0.00 seconds\n",
      "Resample scoremap 6N: 0.09 seconds\n",
      "Load and rescale background image: 0.00 seconds\n",
      "Generate scoremap overlay: 0.06 seconds.\n",
      "Scoremap size does not match background image size. Need to resize: 0.08 seconds.\n",
      "Generate scoremap overlay image 6N: 0.16 seconds\n",
      "locate patches: 0.02 seconds\n"
     ]
    },
    {
     "name": "stdout",
     "output_type": "stream",
     "text": [
      "(597, 925, 3) (597, 925)\n",
      "6N 168\n"
     ]
    },
    {
     "name": "stderr",
     "output_type": "stream",
     "text": [
      "Load pre-computed features: 0.59 seconds\n",
      "Not using image_cache.\n"
     ]
    },
    {
     "name": "stdout",
     "output_type": "stream",
     "text": [
      "/data/CSHL_data_processed/CHATM2/CHATM2_prep2_raw_NtbNormalizedAdaptiveInvertedGammaJpeg/CHATM2_slide56_2018_01_22-S3_prep2_raw_NtbNormalizedAdaptiveInvertedGammaJpeg.jpg\n"
     ]
    },
    {
     "name": "stderr",
     "output_type": "stream",
     "text": [
      "Load background image: 2.52 seconds\n",
      "Rescale background image to output resolution: 0.04 seconds\n"
     ]
    }
   ],
   "source": [
    "for name_u in all_known_structures:\n",
    "# for name_u in motor_nuclei:\n",
    "# for name_u in ['10N']:\n",
    "# for name_u in ['RtTg', 'VCA', 'AP', 'Tz', 'LC', 'Sp5O', '7n', 'SNC', 'Sp5I', 'DC', 'Sp5C', 'VCP', 'RMC', 'PBG', 'SNR', 'LRt', 'SC', 'IC', 'Pn', 'VLL']:\n",
    "            \n",
    "    for sec, bbox in registered_atlas_structures_wrt_wholebrainXYcropped_bboxes_perSection[name_u].iteritems():\n",
    "        \n",
    "#         if is_invalid(sec=sec, stack=stack):\n",
    "#             continue\n",
    "\n",
    "        print name_u, sec\n",
    "            \n",
    "        viz_all_landmarks, scoremap_all_landmarks = \\\n",
    "        draw_scoremap(clfs={name_u: clfs[name_u]}, \n",
    "                              bbox=bbox,\n",
    "                        scheme='none', \n",
    "                    win_id=win_id, prep_id=2,\n",
    "                    stack=stack, return_scoremap=True, sec=sec,\n",
    "                    model=model, model_name=model_name,\n",
    "                     mean_img=mean_img, \n",
    "                     batch_size=batch_size,\n",
    "                      output_patch_size=224,\n",
    "                      is_nissl=False,\n",
    "                   out_resolution_um=10.,\n",
    "                image_shape=metadata_cache['image_shape'][stack],\n",
    "                              return_wholeimage=True)\n",
    "        \n",
    "        sm = scoremap_all_landmarks[name_u]\n",
    "        viz = viz_all_landmarks[name_u]\n",
    "    \n",
    "        scoremap_bp_filepath = \\\n",
    "        DataManager.get_downscaled_scoremap_filepath(stack=stack, section=sec, \n",
    "                                                     structure=name_u,\n",
    "                                                     detector_id=detector_id,\n",
    "                                                     out_resolution_um=out_resolution_um)\n",
    "        save_data(sm.astype(np.float16), scoremap_bp_filepath, upload_s3=False)\n",
    "\n",
    "        viz_filepath = \\\n",
    "        DataManager.get_scoremap_viz_filepath_v2(stack=stack, section=sec, \n",
    "                                                     structure=name_u,\n",
    "                                                     detector_id=detector_id,\n",
    "                                                     out_resolution=output_resolution)\n",
    "        save_data(viz, viz_filepath, upload_s3=False)\n",
    "\n",
    "        del viz_all_landmarks, scoremap_all_landmarks\n",
    "#         break"
   ]
  },
  {
   "cell_type": "code",
   "execution_count": 33,
   "metadata": {},
   "outputs": [
    {
     "name": "stderr",
     "output_type": "stream",
     "text": [
      "Not using image_cache.\n",
      "Not using image_cache.\n"
     ]
    },
    {
     "name": "stdout",
     "output_type": "stream",
     "text": [
      "/data/CSHL_data_processed/CHATM2/CHATM2_prep2_thumbnail_mask/CHATM2_slide36_2018_01_22-S1_prep2_thumbnail_mask.png\n",
      "/data/CSHL_data_processed/CHATM2/CHATM2_prep2_thumbnail_mask/CHATM2_slide35_2018_01_20-S2_prep2_thumbnail_mask.png\n"
     ]
    },
    {
     "name": "stderr",
     "output_type": "stream",
     "text": [
      "Not using image_cache.\n",
      "Not using image_cache.\n"
     ]
    },
    {
     "name": "stdout",
     "output_type": "stream",
     "text": [
      "/data/CSHL_data_processed/CHATM2/CHATM2_prep2_thumbnail_mask/CHATM2_slide36_2018_01_22-S2_prep2_thumbnail_mask.png\n",
      "/data/CSHL_data_processed/CHATM2/CHATM2_prep2_thumbnail_mask/CHATM2_slide36_2018_01_22-S3_prep2_thumbnail_mask.png\n"
     ]
    },
    {
     "name": "stderr",
     "output_type": "stream",
     "text": [
      "Not using image_cache.\n",
      "Not using image_cache.\n"
     ]
    },
    {
     "name": "stdout",
     "output_type": "stream",
     "text": [
      "/data/CSHL_data_processed/CHATM2/CHATM2_prep2_thumbnail_mask/CHATM2_slide37_2018_01_22-S1_prep2_thumbnail_mask.png\n",
      "/data/CSHL_data_processed/CHATM2/CHATM2_prep2_thumbnail_mask/CHATM2_slide38_2018_01_22-S1_prep2_thumbnail_mask.png\n"
     ]
    },
    {
     "name": "stderr",
     "output_type": "stream",
     "text": [
      "Not using image_cache.\n",
      "Not using image_cache.\n"
     ]
    },
    {
     "name": "stdout",
     "output_type": "stream",
     "text": [
      "/data/CSHL_data_processed/CHATM2/CHATM2_prep2_thumbnail_mask/CHATM2_slide37_2018_01_22-S2_prep2_thumbnail_mask.png\n",
      "/data/CSHL_data_processed/CHATM2/CHATM2_prep2_thumbnail_mask/CHATM2_slide38_2018_01_22-S2_prep2_thumbnail_mask.png\n"
     ]
    },
    {
     "name": "stderr",
     "output_type": "stream",
     "text": [
      "Not using image_cache.\n",
      "Not using image_cache.\n"
     ]
    },
    {
     "name": "stdout",
     "output_type": "stream",
     "text": [
      "/data/CSHL_data_processed/CHATM2/CHATM2_prep2_thumbnail_mask/CHATM2_slide37_2018_01_22-S3_prep2_thumbnail_mask.png\n",
      "/data/CSHL_data_processed/CHATM2/CHATM2_prep2_thumbnail_mask/CHATM2_slide38_2018_01_22-S3_prep2_thumbnail_mask.png\n"
     ]
    },
    {
     "name": "stderr",
     "output_type": "stream",
     "text": [
      "Not using image_cache.\n",
      "Not using image_cache.\n"
     ]
    },
    {
     "name": "stdout",
     "output_type": "stream",
     "text": [
      "/data/CSHL_data_processed/CHATM2/CHATM2_prep2_thumbnail_mask/CHATM2_slide39_2018_01_22-S1_prep2_thumbnail_mask.png\n",
      "/data/CSHL_data_processed/CHATM2/CHATM2_prep2_thumbnail_mask/CHATM2_slide39_2018_01_22-S2_prep2_thumbnail_mask.png\n"
     ]
    },
    {
     "name": "stderr",
     "output_type": "stream",
     "text": [
      "Not using image_cache.\n",
      "Not using image_cache.\n"
     ]
    },
    {
     "name": "stdout",
     "output_type": "stream",
     "text": [
      "/data/CSHL_data_processed/CHATM2/CHATM2_prep2_thumbnail_mask/CHATM2_slide39_2018_01_22-S3_prep2_thumbnail_mask.png\n",
      "/data/CSHL_data_processed/CHATM2/CHATM2_prep2_thumbnail_mask/CHATM2_slide41_2018_01_22-S1_prep2_thumbnail_mask.png\n"
     ]
    },
    {
     "name": "stderr",
     "output_type": "stream",
     "text": [
      "Not using image_cache.\n",
      "Not using image_cache.\n"
     ]
    },
    {
     "name": "stdout",
     "output_type": "stream",
     "text": [
      "/data/CSHL_data_processed/CHATM2/CHATM2_prep2_thumbnail_mask/CHATM2_slide42_2018_01_22-S1_prep2_thumbnail_mask.png\n",
      "/data/CSHL_data_processed/CHATM2/CHATM2_prep2_thumbnail_mask/CHATM2_slide41_2018_01_22-S2_prep2_thumbnail_mask.png\n"
     ]
    },
    {
     "name": "stderr",
     "output_type": "stream",
     "text": [
      "Not using image_cache.\n",
      "Not using image_cache.\n"
     ]
    },
    {
     "name": "stdout",
     "output_type": "stream",
     "text": [
      "/data/CSHL_data_processed/CHATM2/CHATM2_prep2_thumbnail_mask/CHATM2_slide42_2018_01_22-S2_prep2_thumbnail_mask.png\n",
      "/data/CSHL_data_processed/CHATM2/CHATM2_prep2_thumbnail_mask/CHATM2_slide41_2018_01_22-S3_prep2_thumbnail_mask.png\n"
     ]
    },
    {
     "name": "stderr",
     "output_type": "stream",
     "text": [
      "Not using image_cache.\n",
      "Not using image_cache.\n"
     ]
    },
    {
     "name": "stdout",
     "output_type": "stream",
     "text": [
      "/data/CSHL_data_processed/CHATM2/CHATM2_prep2_thumbnail_mask/CHATM2_slide42_2018_01_22-S3_prep2_thumbnail_mask.png\n",
      "/data/CSHL_data_processed/CHATM2/CHATM2_prep2_thumbnail_mask/CHATM2_slide43_2018_01_22-S1_prep2_thumbnail_mask.png\n"
     ]
    },
    {
     "name": "stderr",
     "output_type": "stream",
     "text": [
      "Not using image_cache.\n",
      "Not using image_cache.\n"
     ]
    },
    {
     "name": "stdout",
     "output_type": "stream",
     "text": [
      "/data/CSHL_data_processed/CHATM2/CHATM2_prep2_thumbnail_mask/CHATM2_slide44_2018_01_22-S1_prep2_thumbnail_mask.png\n",
      "/data/CSHL_data_processed/CHATM2/CHATM2_prep2_thumbnail_mask/CHATM2_slide43_2018_01_22-S2_prep2_thumbnail_mask.png\n"
     ]
    },
    {
     "name": "stderr",
     "output_type": "stream",
     "text": [
      "Not using image_cache.\n",
      "Not using image_cache.\n"
     ]
    },
    {
     "name": "stdout",
     "output_type": "stream",
     "text": [
      "/data/CSHL_data_processed/CHATM2/CHATM2_prep2_thumbnail_mask/CHATM2_slide44_2018_01_22-S2_prep2_thumbnail_mask.png\n",
      "/data/CSHL_data_processed/CHATM2/CHATM2_prep2_thumbnail_mask/CHATM2_slide43_2018_01_22-S3_prep2_thumbnail_mask.png\n",
      "(590, 872, 57)\n",
      "aws s3 cp \"/home/yuncong/CSHL_volumes/CHATM2/CHATM2_detector799_10.0um_scoreVolume/score_volumes/CHATM2_detector799_10.0um_scoreVolume_Amb_L.bp\" \"s3://mousebrainatlas-data/CSHL_volumes/CHATM2/CHATM2_detector799_10.0um_scoreVolume/score_volumes/CHATM2_detector799_10.0um_scoreVolume_Amb_L.bp\"\n",
      "0\n",
      "aws s3 cp \"/home/yuncong/CSHL_volumes/CHATM2/CHATM2_detector799_10.0um_scoreVolume/score_volumes/CHATM2_detector799_10.0um_scoreVolume_Amb_L_origin_wrt_wholebrain.txt\" \"s3://mousebrainatlas-data/CSHL_volumes/CHATM2/CHATM2_detector799_10.0um_scoreVolume/score_volumes/CHATM2_detector799_10.0um_scoreVolume_Amb_L_origin_wrt_wholebrain.txt\"\n",
      "0\n",
      "aws s3 cp \"/home/yuncong/CSHL_volumes/CHATM2/CHATM2_detector799_10.0um_scoreVolume/score_volume_gradients/CHATM2_detector799_10.0um_scoreVolume_Amb_L_gradients.bp\" \"s3://mousebrainatlas-data/CSHL_volumes/CHATM2/CHATM2_detector799_10.0um_scoreVolume/score_volume_gradients/CHATM2_detector799_10.0um_scoreVolume_Amb_L_gradients.bp\"\n",
      "0\n",
      "aws s3 cp \"/home/yuncong/CSHL_volumes/CHATM2/CHATM2_detector799_10.0um_scoreVolume/score_volume_gradients/CHATM2_detector799_10.0um_scoreVolume_Amb_L_origin_wrt_wholebrain.txt\" \"s3://mousebrainatlas-data/CSHL_volumes/CHATM2/CHATM2_detector799_10.0um_scoreVolume/score_volume_gradients/CHATM2_detector799_10.0um_scoreVolume_Amb_L_origin_wrt_wholebrain.txt\"\n",
      "0\n",
      "/data/CSHL_data_processed/CHATM2/CHATM2_prep2_thumbnail_mask/CHATM2_slide76_2018_02_14-S2_prep2_thumbnail_mask.png\n",
      "/data/CSHL_data_processed/CHATM2/CHATM2_prep2_thumbnail_mask/CHATM2_slide76_2018_02_14-S3_prep2_thumbnail_mask.png\n"
     ]
    },
    {
     "name": "stderr",
     "output_type": "stream",
     "text": [
      "Not using image_cache.\n",
      "Not using image_cache.\n",
      "Not using image_cache.\n",
      "Not using image_cache.\n"
     ]
    },
    {
     "name": "stdout",
     "output_type": "stream",
     "text": [
      "/data/CSHL_data_processed/CHATM2/CHATM2_prep2_thumbnail_mask/CHATM2_slide78_2018_02_14-S1_prep2_thumbnail_mask.png\n",
      "/data/CSHL_data_processed/CHATM2/CHATM2_prep2_thumbnail_mask/CHATM2_slide78_2018_02_14-S2_prep2_thumbnail_mask.png\n"
     ]
    },
    {
     "name": "stderr",
     "output_type": "stream",
     "text": [
      "Not using image_cache.\n",
      "Not using image_cache.\n"
     ]
    },
    {
     "name": "stdout",
     "output_type": "stream",
     "text": [
      "/data/CSHL_data_processed/CHATM2/CHATM2_prep2_thumbnail_mask/CHATM2_slide78_2018_02_14-S3_prep2_thumbnail_mask.png\n",
      "/data/CSHL_data_processed/CHATM2/CHATM2_prep2_thumbnail_mask/CHATM2_slide80_2018_02_14-S1_prep2_thumbnail_mask.png\n"
     ]
    },
    {
     "name": "stderr",
     "output_type": "stream",
     "text": [
      "Not using image_cache.\n",
      "Not using image_cache.\n"
     ]
    },
    {
     "name": "stdout",
     "output_type": "stream",
     "text": [
      "/data/CSHL_data_processed/CHATM2/CHATM2_prep2_thumbnail_mask/CHATM2_slide80_2018_02_14-S2_prep2_thumbnail_mask.png\n",
      "/data/CSHL_data_processed/CHATM2/CHATM2_prep2_thumbnail_mask/CHATM2_slide80_2018_02_14-S3_prep2_thumbnail_mask.png\n"
     ]
    },
    {
     "name": "stderr",
     "output_type": "stream",
     "text": [
      "Not using image_cache.\n",
      "Not using image_cache.\n"
     ]
    },
    {
     "name": "stdout",
     "output_type": "stream",
     "text": [
      "/data/CSHL_data_processed/CHATM2/CHATM2_prep2_thumbnail_mask/CHATM2_slide82_2018_02_14-S1_prep2_thumbnail_mask.png\n",
      "/data/CSHL_data_processed/CHATM2/CHATM2_prep2_thumbnail_mask/CHATM2_slide82_2018_02_14-S2_prep2_thumbnail_mask.png\n"
     ]
    },
    {
     "name": "stderr",
     "output_type": "stream",
     "text": [
      "Not using image_cache.\n",
      "Not using image_cache.\n"
     ]
    },
    {
     "name": "stdout",
     "output_type": "stream",
     "text": [
      "/data/CSHL_data_processed/CHATM2/CHATM2_prep2_thumbnail_mask/CHATM2_slide82_2018_02_14-S3_prep2_thumbnail_mask.png\n",
      "/data/CSHL_data_processed/CHATM2/CHATM2_prep2_thumbnail_mask/CHATM2_slide84_2018_02_14-S1_prep2_thumbnail_mask.png\n"
     ]
    },
    {
     "name": "stderr",
     "output_type": "stream",
     "text": [
      "Not using image_cache.\n",
      "Not using image_cache.\n"
     ]
    },
    {
     "name": "stdout",
     "output_type": "stream",
     "text": [
      "/data/CSHL_data_processed/CHATM2/CHATM2_prep2_thumbnail_mask/CHATM2_slide84_2018_02_14-S2_prep2_thumbnail_mask.png\n",
      "/data/CSHL_data_processed/CHATM2/CHATM2_prep2_thumbnail_mask/CHATM2_slide84_2018_02_14-S3_prep2_thumbnail_mask.png\n",
      "(570, 917, 55)\n",
      "aws s3 cp \"/home/yuncong/CSHL_volumes/CHATM2/CHATM2_detector799_10.0um_scoreVolume/score_volumes/CHATM2_detector799_10.0um_scoreVolume_Amb_R.bp\" \"s3://mousebrainatlas-data/CSHL_volumes/CHATM2/CHATM2_detector799_10.0um_scoreVolume/score_volumes/CHATM2_detector799_10.0um_scoreVolume_Amb_R.bp\"\n",
      "0\n",
      "aws s3 cp \"/home/yuncong/CSHL_volumes/CHATM2/CHATM2_detector799_10.0um_scoreVolume/score_volumes/CHATM2_detector799_10.0um_scoreVolume_Amb_R_origin_wrt_wholebrain.txt\" \"s3://mousebrainatlas-data/CSHL_volumes/CHATM2/CHATM2_detector799_10.0um_scoreVolume/score_volumes/CHATM2_detector799_10.0um_scoreVolume_Amb_R_origin_wrt_wholebrain.txt\"\n",
      "0\n",
      "aws s3 cp \"/home/yuncong/CSHL_volumes/CHATM2/CHATM2_detector799_10.0um_scoreVolume/score_volume_gradients/CHATM2_detector799_10.0um_scoreVolume_Amb_R_gradients.bp\" \"s3://mousebrainatlas-data/CSHL_volumes/CHATM2/CHATM2_detector799_10.0um_scoreVolume/score_volume_gradients/CHATM2_detector799_10.0um_scoreVolume_Amb_R_gradients.bp\"\n",
      "0\n",
      "aws s3 cp \"/home/yuncong/CSHL_volumes/CHATM2/CHATM2_detector799_10.0um_scoreVolume/score_volume_gradients/CHATM2_detector799_10.0um_scoreVolume_Amb_R_origin_wrt_wholebrain.txt\" \"s3://mousebrainatlas-data/CSHL_volumes/CHATM2/CHATM2_detector799_10.0um_scoreVolume/score_volume_gradients/CHATM2_detector799_10.0um_scoreVolume_Amb_R_origin_wrt_wholebrain.txt\"\n",
      "0\n",
      "/data/CSHL_data_processed/CHATM2/CHATM2_prep2_thumbnail_mask/CHATM2_slide51_2018_01_22-S3_prep2_thumbnail_mask.png\n",
      "/data/CSHL_data_processed/CHATM2/CHATM2_prep2_thumbnail_mask/CHATM2_slide52_2018_01_22-S3_prep2_thumbnail_mask.png\n"
     ]
    },
    {
     "name": "stderr",
     "output_type": "stream",
     "text": [
      "Not using image_cache.\n",
      "Not using image_cache.\n",
      "Not using image_cache.\n",
      "Not using image_cache.\n"
     ]
    },
    {
     "name": "stdout",
     "output_type": "stream",
     "text": [
      "/data/CSHL_data_processed/CHATM2/CHATM2_prep2_thumbnail_mask/CHATM2_slide53_2018_01_22-S1_prep2_thumbnail_mask.png\n",
      "/data/CSHL_data_processed/CHATM2/CHATM2_prep2_thumbnail_mask/CHATM2_slide54_2018_01_22-S1_prep2_thumbnail_mask.png\n"
     ]
    },
    {
     "name": "stderr",
     "output_type": "stream",
     "text": [
      "Not using image_cache.\n",
      "Not using image_cache.\n"
     ]
    },
    {
     "name": "stdout",
     "output_type": "stream",
     "text": [
      "/data/CSHL_data_processed/CHATM2/CHATM2_prep2_thumbnail_mask/CHATM2_slide53_2018_01_22-S2_prep2_thumbnail_mask.png\n",
      "/data/CSHL_data_processed/CHATM2/CHATM2_prep2_thumbnail_mask/CHATM2_slide54_2018_01_22-S2_prep2_thumbnail_mask.png\n"
     ]
    },
    {
     "name": "stderr",
     "output_type": "stream",
     "text": [
      "Not using image_cache.\n",
      "Not using image_cache.\n"
     ]
    },
    {
     "name": "stdout",
     "output_type": "stream",
     "text": [
      "/data/CSHL_data_processed/CHATM2/CHATM2_prep2_thumbnail_mask/CHATM2_slide53_2018_01_22-S3_prep2_thumbnail_mask.png\n",
      "/data/CSHL_data_processed/CHATM2/CHATM2_prep2_thumbnail_mask/CHATM2_slide54_2018_01_22-S3_prep2_thumbnail_mask.png\n"
     ]
    },
    {
     "name": "stderr",
     "output_type": "stream",
     "text": [
      "Not using image_cache.\n",
      "Not using image_cache.\n"
     ]
    },
    {
     "name": "stdout",
     "output_type": "stream",
     "text": [
      "/data/CSHL_data_processed/CHATM2/CHATM2_prep2_thumbnail_mask/CHATM2_slide55_2018_01_22-S1_prep2_thumbnail_mask.png\n",
      "/data/CSHL_data_processed/CHATM2/CHATM2_prep2_thumbnail_mask/CHATM2_slide56_2018_01_22-S1_prep2_thumbnail_mask.png\n"
     ]
    },
    {
     "name": "stderr",
     "output_type": "stream",
     "text": [
      "Not using image_cache.\n",
      "Not using image_cache.\n"
     ]
    },
    {
     "name": "stdout",
     "output_type": "stream",
     "text": [
      "/data/CSHL_data_processed/CHATM2/CHATM2_prep2_thumbnail_mask/CHATM2_slide55_2018_01_22-S2_prep2_thumbnail_mask.png\n",
      "/data/CSHL_data_processed/CHATM2/CHATM2_prep2_thumbnail_mask/CHATM2_slide56_2018_01_22-S2_prep2_thumbnail_mask.png\n"
     ]
    },
    {
     "name": "stderr",
     "output_type": "stream",
     "text": [
      "Not using image_cache.\n",
      "Not using image_cache.\n"
     ]
    },
    {
     "name": "stdout",
     "output_type": "stream",
     "text": [
      "/data/CSHL_data_processed/CHATM2/CHATM2_prep2_thumbnail_mask/CHATM2_slide55_2018_01_22-S3_prep2_thumbnail_mask.png\n",
      "/data/CSHL_data_processed/CHATM2/CHATM2_prep2_thumbnail_mask/CHATM2_slide56_2018_01_22-S3_prep2_thumbnail_mask.png\n"
     ]
    },
    {
     "name": "stderr",
     "output_type": "stream",
     "text": [
      "Not using image_cache.\n",
      "Not using image_cache.\n"
     ]
    },
    {
     "name": "stdout",
     "output_type": "stream",
     "text": [
      "/data/CSHL_data_processed/CHATM2/CHATM2_prep2_thumbnail_mask/CHATM2_slide57_2018_01_22-S1_prep2_thumbnail_mask.png\n",
      "/data/CSHL_data_processed/CHATM2/CHATM2_prep2_thumbnail_mask/CHATM2_slide58_2018_01_22-S1_prep2_thumbnail_mask.png\n"
     ]
    },
    {
     "name": "stderr",
     "output_type": "stream",
     "text": [
      "Not using image_cache.\n",
      "Not using image_cache.\n"
     ]
    },
    {
     "name": "stdout",
     "output_type": "stream",
     "text": [
      "/data/CSHL_data_processed/CHATM2/CHATM2_prep2_thumbnail_mask/CHATM2_slide57_2018_01_22-S2_prep2_thumbnail_mask.png\n",
      "/data/CSHL_data_processed/CHATM2/CHATM2_prep2_thumbnail_mask/CHATM2_slide58_2018_01_22-S2_prep2_thumbnail_mask.png\n"
     ]
    },
    {
     "name": "stderr",
     "output_type": "stream",
     "text": [
      "Not using image_cache.\n",
      "Not using image_cache.\n"
     ]
    },
    {
     "name": "stdout",
     "output_type": "stream",
     "text": [
      "/data/CSHL_data_processed/CHATM2/CHATM2_prep2_thumbnail_mask/CHATM2_slide57_2018_01_22-S3_prep2_thumbnail_mask.png\n",
      "/data/CSHL_data_processed/CHATM2/CHATM2_prep2_thumbnail_mask/CHATM2_slide62_2018_02_14-S1_prep2_thumbnail_mask.png\n"
     ]
    },
    {
     "name": "stderr",
     "output_type": "stream",
     "text": [
      "Not using image_cache.\n",
      "Not using image_cache.\n"
     ]
    },
    {
     "name": "stdout",
     "output_type": "stream",
     "text": [
      "/data/CSHL_data_processed/CHATM2/CHATM2_prep2_thumbnail_mask/CHATM2_slide62_2018_02_14-S2_prep2_thumbnail_mask.png\n",
      "/data/CSHL_data_processed/CHATM2/CHATM2_prep2_thumbnail_mask/CHATM2_slide62_2018_02_14-S3_prep2_thumbnail_mask.png\n",
      "(582, 917, 71)\n",
      "aws s3 cp \"/home/yuncong/CSHL_volumes/CHATM2/CHATM2_detector799_10.0um_scoreVolume/score_volumes/CHATM2_detector799_10.0um_scoreVolume_3N_L.bp\" \"s3://mousebrainatlas-data/CSHL_volumes/CHATM2/CHATM2_detector799_10.0um_scoreVolume/score_volumes/CHATM2_detector799_10.0um_scoreVolume_3N_L.bp\"\n",
      "0\n",
      "aws s3 cp \"/home/yuncong/CSHL_volumes/CHATM2/CHATM2_detector799_10.0um_scoreVolume/score_volumes/CHATM2_detector799_10.0um_scoreVolume_3N_L_origin_wrt_wholebrain.txt\" \"s3://mousebrainatlas-data/CSHL_volumes/CHATM2/CHATM2_detector799_10.0um_scoreVolume/score_volumes/CHATM2_detector799_10.0um_scoreVolume_3N_L_origin_wrt_wholebrain.txt\"\n",
      "0\n",
      "aws s3 cp \"/home/yuncong/CSHL_volumes/CHATM2/CHATM2_detector799_10.0um_scoreVolume/score_volume_gradients/CHATM2_detector799_10.0um_scoreVolume_3N_L_gradients.bp\" \"s3://mousebrainatlas-data/CSHL_volumes/CHATM2/CHATM2_detector799_10.0um_scoreVolume/score_volume_gradients/CHATM2_detector799_10.0um_scoreVolume_3N_L_gradients.bp\"\n",
      "0\n",
      "aws s3 cp \"/home/yuncong/CSHL_volumes/CHATM2/CHATM2_detector799_10.0um_scoreVolume/score_volume_gradients/CHATM2_detector799_10.0um_scoreVolume_3N_L_origin_wrt_wholebrain.txt\" \"s3://mousebrainatlas-data/CSHL_volumes/CHATM2/CHATM2_detector799_10.0um_scoreVolume/score_volume_gradients/CHATM2_detector799_10.0um_scoreVolume_3N_L_origin_wrt_wholebrain.txt\"\n",
      "0\n",
      "/data/CSHL_data_processed/CHATM2/CHATM2_prep2_thumbnail_mask/CHATM2_slide58_2018_01_22-S1_prep2_thumbnail_mask.png\n",
      "/data/CSHL_data_processed/CHATM2/CHATM2_prep2_thumbnail_mask/CHATM2_slide57_2018_01_22-S2_prep2_thumbnail_mask.png\n"
     ]
    },
    {
     "name": "stderr",
     "output_type": "stream",
     "text": [
      "Not using image_cache.\n",
      "Not using image_cache.\n",
      "Not using image_cache.\n",
      "Not using image_cache.\n"
     ]
    },
    {
     "name": "stdout",
     "output_type": "stream",
     "text": [
      "/data/CSHL_data_processed/CHATM2/CHATM2_prep2_thumbnail_mask/CHATM2_slide58_2018_01_22-S2_prep2_thumbnail_mask.png\n",
      "/data/CSHL_data_processed/CHATM2/CHATM2_prep2_thumbnail_mask/CHATM2_slide57_2018_01_22-S3_prep2_thumbnail_mask.png\n"
     ]
    },
    {
     "name": "stderr",
     "output_type": "stream",
     "text": [
      "Not using image_cache.\n",
      "Not using image_cache.\n"
     ]
    },
    {
     "name": "stdout",
     "output_type": "stream",
     "text": [
      "/data/CSHL_data_processed/CHATM2/CHATM2_prep2_thumbnail_mask/CHATM2_slide62_2018_02_14-S1_prep2_thumbnail_mask.png\n",
      "/data/CSHL_data_processed/CHATM2/CHATM2_prep2_thumbnail_mask/CHATM2_slide62_2018_02_14-S2_prep2_thumbnail_mask.png\n"
     ]
    },
    {
     "name": "stderr",
     "output_type": "stream",
     "text": [
      "Not using image_cache.\n",
      "Not using image_cache.\n"
     ]
    },
    {
     "name": "stdout",
     "output_type": "stream",
     "text": [
      "/data/CSHL_data_processed/CHATM2/CHATM2_prep2_thumbnail_mask/CHATM2_slide62_2018_02_14-S3_prep2_thumbnail_mask.png\n",
      "/data/CSHL_data_processed/CHATM2/CHATM2_prep2_thumbnail_mask/CHATM2_slide64_2018_02_15-S1_prep2_thumbnail_mask.png\n"
     ]
    },
    {
     "name": "stderr",
     "output_type": "stream",
     "text": [
      "Not using image_cache.\n",
      "Not using image_cache.\n"
     ]
    },
    {
     "name": "stdout",
     "output_type": "stream",
     "text": [
      "/data/CSHL_data_processed/CHATM2/CHATM2_prep2_thumbnail_mask/CHATM2_slide64_2018_02_15-S2_prep2_thumbnail_mask.png\n",
      "/data/CSHL_data_processed/CHATM2/CHATM2_prep2_thumbnail_mask/CHATM2_slide64_2018_02_15-S3_prep2_thumbnail_mask.png\n"
     ]
    },
    {
     "name": "stderr",
     "output_type": "stream",
     "text": [
      "Not using image_cache.\n",
      "Not using image_cache.\n"
     ]
    },
    {
     "name": "stdout",
     "output_type": "stream",
     "text": [
      "/data/CSHL_data_processed/CHATM2/CHATM2_prep2_thumbnail_mask/CHATM2_slide66_2018_02_14-S1_prep2_thumbnail_mask.png\n",
      "/data/CSHL_data_processed/CHATM2/CHATM2_prep2_thumbnail_mask/CHATM2_slide66_2018_02_14-S2_prep2_thumbnail_mask.png\n"
     ]
    },
    {
     "name": "stderr",
     "output_type": "stream",
     "text": [
      "Not using image_cache.\n",
      "Not using image_cache.\n"
     ]
    },
    {
     "name": "stdout",
     "output_type": "stream",
     "text": [
      "/data/CSHL_data_processed/CHATM2/CHATM2_prep2_thumbnail_mask/CHATM2_slide66_2018_02_14-S3_prep2_thumbnail_mask.png\n",
      "/data/CSHL_data_processed/CHATM2/CHATM2_prep2_thumbnail_mask/CHATM2_slide68_2018_02_14-S1_prep2_thumbnail_mask.png\n",
      "(85, 111, 69)\n",
      "aws s3 cp \"/home/yuncong/CSHL_volumes/CHATM2/CHATM2_detector799_10.0um_scoreVolume/score_volumes/CHATM2_detector799_10.0um_scoreVolume_3N_R.bp\" \"s3://mousebrainatlas-data/CSHL_volumes/CHATM2/CHATM2_detector799_10.0um_scoreVolume/score_volumes/CHATM2_detector799_10.0um_scoreVolume_3N_R.bp\"\n",
      "0\n",
      "aws s3 cp \"/home/yuncong/CSHL_volumes/CHATM2/CHATM2_detector799_10.0um_scoreVolume/score_volumes/CHATM2_detector799_10.0um_scoreVolume_3N_R_origin_wrt_wholebrain.txt\" \"s3://mousebrainatlas-data/CSHL_volumes/CHATM2/CHATM2_detector799_10.0um_scoreVolume/score_volumes/CHATM2_detector799_10.0um_scoreVolume_3N_R_origin_wrt_wholebrain.txt\"\n",
      "0\n",
      "aws s3 cp \"/home/yuncong/CSHL_volumes/CHATM2/CHATM2_detector799_10.0um_scoreVolume/score_volume_gradients/CHATM2_detector799_10.0um_scoreVolume_3N_R_gradients.bp\" \"s3://mousebrainatlas-data/CSHL_volumes/CHATM2/CHATM2_detector799_10.0um_scoreVolume/score_volume_gradients/CHATM2_detector799_10.0um_scoreVolume_3N_R_gradients.bp\"\n",
      "0\n",
      "aws s3 cp \"/home/yuncong/CSHL_volumes/CHATM2/CHATM2_detector799_10.0um_scoreVolume/score_volume_gradients/CHATM2_detector799_10.0um_scoreVolume_3N_R_origin_wrt_wholebrain.txt\" \"s3://mousebrainatlas-data/CSHL_volumes/CHATM2/CHATM2_detector799_10.0um_scoreVolume/score_volume_gradients/CHATM2_detector799_10.0um_scoreVolume_3N_R_origin_wrt_wholebrain.txt\"\n",
      "0\n",
      "/data/CSHL_data_processed/CHATM2/CHATM2_prep2_thumbnail_mask/CHATM2_slide52_2018_01_22-S1_prep2_thumbnail_mask.png\n",
      "/data/CSHL_data_processed/CHATM2/CHATM2_prep2_thumbnail_mask/CHATM2_slide51_2018_01_22-S2_prep2_thumbnail_mask.png\n"
     ]
    },
    {
     "name": "stderr",
     "output_type": "stream",
     "text": [
      "Not using image_cache.\n",
      "Not using image_cache.\n",
      "Not using image_cache.\n",
      "Not using image_cache.\n"
     ]
    },
    {
     "name": "stdout",
     "output_type": "stream",
     "text": [
      "/data/CSHL_data_processed/CHATM2/CHATM2_prep2_thumbnail_mask/CHATM2_slide52_2018_01_22-S2_prep2_thumbnail_mask.png\n",
      "/data/CSHL_data_processed/CHATM2/CHATM2_prep2_thumbnail_mask/CHATM2_slide51_2018_01_22-S3_prep2_thumbnail_mask.png\n"
     ]
    },
    {
     "name": "stderr",
     "output_type": "stream",
     "text": [
      "Not using image_cache.\n",
      "Not using image_cache.\n"
     ]
    },
    {
     "name": "stdout",
     "output_type": "stream",
     "text": [
      "/data/CSHL_data_processed/CHATM2/CHATM2_prep2_thumbnail_mask/CHATM2_slide52_2018_01_22-S3_prep2_thumbnail_mask.png\n",
      "/data/CSHL_data_processed/CHATM2/CHATM2_prep2_thumbnail_mask/CHATM2_slide53_2018_01_22-S1_prep2_thumbnail_mask.png\n"
     ]
    },
    {
     "name": "stderr",
     "output_type": "stream",
     "text": [
      "Not using image_cache.\n",
      "Not using image_cache.\n"
     ]
    },
    {
     "name": "stdout",
     "output_type": "stream",
     "text": [
      "/data/CSHL_data_processed/CHATM2/CHATM2_prep2_thumbnail_mask/CHATM2_slide54_2018_01_22-S1_prep2_thumbnail_mask.png\n",
      "/data/CSHL_data_processed/CHATM2/CHATM2_prep2_thumbnail_mask/CHATM2_slide53_2018_01_22-S2_prep2_thumbnail_mask.png\n"
     ]
    },
    {
     "name": "stderr",
     "output_type": "stream",
     "text": [
      "Not using image_cache.\n",
      "Not using image_cache.\n"
     ]
    },
    {
     "name": "stdout",
     "output_type": "stream",
     "text": [
      "/data/CSHL_data_processed/CHATM2/CHATM2_prep2_thumbnail_mask/CHATM2_slide54_2018_01_22-S2_prep2_thumbnail_mask.png\n",
      "/data/CSHL_data_processed/CHATM2/CHATM2_prep2_thumbnail_mask/CHATM2_slide53_2018_01_22-S3_prep2_thumbnail_mask.png\n"
     ]
    },
    {
     "name": "stderr",
     "output_type": "stream",
     "text": [
      "Not using image_cache.\n",
      "Not using image_cache.\n"
     ]
    },
    {
     "name": "stdout",
     "output_type": "stream",
     "text": [
      "/data/CSHL_data_processed/CHATM2/CHATM2_prep2_thumbnail_mask/CHATM2_slide54_2018_01_22-S3_prep2_thumbnail_mask.png\n",
      "/data/CSHL_data_processed/CHATM2/CHATM2_prep2_thumbnail_mask/CHATM2_slide55_2018_01_22-S1_prep2_thumbnail_mask.png\n"
     ]
    },
    {
     "name": "stderr",
     "output_type": "stream",
     "text": [
      "Not using image_cache.\n",
      "Not using image_cache.\n"
     ]
    },
    {
     "name": "stdout",
     "output_type": "stream",
     "text": [
      "/data/CSHL_data_processed/CHATM2/CHATM2_prep2_thumbnail_mask/CHATM2_slide56_2018_01_22-S1_prep2_thumbnail_mask.png\n",
      "/data/CSHL_data_processed/CHATM2/CHATM2_prep2_thumbnail_mask/CHATM2_slide55_2018_01_22-S2_prep2_thumbnail_mask.png\n"
     ]
    },
    {
     "name": "stderr",
     "output_type": "stream",
     "text": [
      "Not using image_cache.\n",
      "Not using image_cache.\n"
     ]
    },
    {
     "name": "stdout",
     "output_type": "stream",
     "text": [
      "/data/CSHL_data_processed/CHATM2/CHATM2_prep2_thumbnail_mask/CHATM2_slide56_2018_01_22-S2_prep2_thumbnail_mask.png\n",
      "/data/CSHL_data_processed/CHATM2/CHATM2_prep2_thumbnail_mask/CHATM2_slide55_2018_01_22-S3_prep2_thumbnail_mask.png\n"
     ]
    },
    {
     "name": "stderr",
     "output_type": "stream",
     "text": [
      "Not using image_cache.\n",
      "Not using image_cache.\n"
     ]
    },
    {
     "name": "stdout",
     "output_type": "stream",
     "text": [
      "/data/CSHL_data_processed/CHATM2/CHATM2_prep2_thumbnail_mask/CHATM2_slide56_2018_01_22-S3_prep2_thumbnail_mask.png\n",
      "/data/CSHL_data_processed/CHATM2/CHATM2_prep2_thumbnail_mask/CHATM2_slide57_2018_01_22-S1_prep2_thumbnail_mask.png\n"
     ]
    },
    {
     "name": "stderr",
     "output_type": "stream",
     "text": [
      "Not using image_cache.\n",
      "Not using image_cache.\n"
     ]
    },
    {
     "name": "stdout",
     "output_type": "stream",
     "text": [
      "/data/CSHL_data_processed/CHATM2/CHATM2_prep2_thumbnail_mask/CHATM2_slide58_2018_01_22-S1_prep2_thumbnail_mask.png\n",
      "/data/CSHL_data_processed/CHATM2/CHATM2_prep2_thumbnail_mask/CHATM2_slide57_2018_01_22-S2_prep2_thumbnail_mask.png\n"
     ]
    },
    {
     "name": "stderr",
     "output_type": "stream",
     "text": [
      "Not using image_cache.\n",
      "Not using image_cache.\n"
     ]
    },
    {
     "name": "stdout",
     "output_type": "stream",
     "text": [
      "/data/CSHL_data_processed/CHATM2/CHATM2_prep2_thumbnail_mask/CHATM2_slide58_2018_01_22-S2_prep2_thumbnail_mask.png\n",
      "/data/CSHL_data_processed/CHATM2/CHATM2_prep2_thumbnail_mask/CHATM2_slide57_2018_01_22-S3_prep2_thumbnail_mask.png\n",
      "(582, 917, 45)\n",
      "aws s3 cp \"/home/yuncong/CSHL_volumes/CHATM2/CHATM2_detector799_10.0um_scoreVolume/score_volumes/CHATM2_detector799_10.0um_scoreVolume_4N_L.bp\" \"s3://mousebrainatlas-data/CSHL_volumes/CHATM2/CHATM2_detector799_10.0um_scoreVolume/score_volumes/CHATM2_detector799_10.0um_scoreVolume_4N_L.bp\"\n",
      "0\n",
      "aws s3 cp \"/home/yuncong/CSHL_volumes/CHATM2/CHATM2_detector799_10.0um_scoreVolume/score_volumes/CHATM2_detector799_10.0um_scoreVolume_4N_L_origin_wrt_wholebrain.txt\" \"s3://mousebrainatlas-data/CSHL_volumes/CHATM2/CHATM2_detector799_10.0um_scoreVolume/score_volumes/CHATM2_detector799_10.0um_scoreVolume_4N_L_origin_wrt_wholebrain.txt\"\n",
      "0\n",
      "aws s3 cp \"/home/yuncong/CSHL_volumes/CHATM2/CHATM2_detector799_10.0um_scoreVolume/score_volume_gradients/CHATM2_detector799_10.0um_scoreVolume_4N_L_gradients.bp\" \"s3://mousebrainatlas-data/CSHL_volumes/CHATM2/CHATM2_detector799_10.0um_scoreVolume/score_volume_gradients/CHATM2_detector799_10.0um_scoreVolume_4N_L_gradients.bp\"\n",
      "0\n",
      "aws s3 cp \"/home/yuncong/CSHL_volumes/CHATM2/CHATM2_detector799_10.0um_scoreVolume/score_volume_gradients/CHATM2_detector799_10.0um_scoreVolume_4N_L_origin_wrt_wholebrain.txt\" \"s3://mousebrainatlas-data/CSHL_volumes/CHATM2/CHATM2_detector799_10.0um_scoreVolume/score_volume_gradients/CHATM2_detector799_10.0um_scoreVolume_4N_L_origin_wrt_wholebrain.txt\"\n",
      "0\n",
      "/data/CSHL_data_processed/CHATM2/CHATM2_prep2_thumbnail_mask/CHATM2_slide62_2018_02_14-S1_prep2_thumbnail_mask.png\n",
      "/data/CSHL_data_processed/CHATM2/CHATM2_prep2_thumbnail_mask/CHATM2_slide62_2018_02_14-S2_prep2_thumbnail_mask.png\n"
     ]
    },
    {
     "name": "stderr",
     "output_type": "stream",
     "text": [
      "Not using image_cache.\n",
      "Not using image_cache.\n",
      "Not using image_cache.\n",
      "Not using image_cache.\n"
     ]
    },
    {
     "name": "stdout",
     "output_type": "stream",
     "text": [
      "/data/CSHL_data_processed/CHATM2/CHATM2_prep2_thumbnail_mask/CHATM2_slide62_2018_02_14-S3_prep2_thumbnail_mask.png\n",
      "/data/CSHL_data_processed/CHATM2/CHATM2_prep2_thumbnail_mask/CHATM2_slide64_2018_02_15-S1_prep2_thumbnail_mask.png\n"
     ]
    },
    {
     "name": "stderr",
     "output_type": "stream",
     "text": [
      "Not using image_cache.\n",
      "Not using image_cache.\n"
     ]
    },
    {
     "name": "stdout",
     "output_type": "stream",
     "text": [
      "/data/CSHL_data_processed/CHATM2/CHATM2_prep2_thumbnail_mask/CHATM2_slide64_2018_02_15-S2_prep2_thumbnail_mask.png\n",
      "/data/CSHL_data_processed/CHATM2/CHATM2_prep2_thumbnail_mask/CHATM2_slide64_2018_02_15-S3_prep2_thumbnail_mask.png\n"
     ]
    },
    {
     "name": "stderr",
     "output_type": "stream",
     "text": [
      "Not using image_cache.\n",
      "Not using image_cache.\n"
     ]
    },
    {
     "name": "stdout",
     "output_type": "stream",
     "text": [
      "/data/CSHL_data_processed/CHATM2/CHATM2_prep2_thumbnail_mask/CHATM2_slide66_2018_02_14-S1_prep2_thumbnail_mask.png\n",
      "/data/CSHL_data_processed/CHATM2/CHATM2_prep2_thumbnail_mask/CHATM2_slide66_2018_02_14-S2_prep2_thumbnail_mask.png\n"
     ]
    },
    {
     "name": "stderr",
     "output_type": "stream",
     "text": [
      "Not using image_cache.\n",
      "Not using image_cache.\n"
     ]
    },
    {
     "name": "stdout",
     "output_type": "stream",
     "text": [
      "/data/CSHL_data_processed/CHATM2/CHATM2_prep2_thumbnail_mask/CHATM2_slide66_2018_02_14-S3_prep2_thumbnail_mask.png\n",
      "/data/CSHL_data_processed/CHATM2/CHATM2_prep2_thumbnail_mask/CHATM2_slide68_2018_02_14-S1_prep2_thumbnail_mask.png\n"
     ]
    },
    {
     "name": "stderr",
     "output_type": "stream",
     "text": [
      "Not using image_cache.\n"
     ]
    },
    {
     "name": "stdout",
     "output_type": "stream",
     "text": [
      "/data/CSHL_data_processed/CHATM2/CHATM2_prep2_thumbnail_mask/CHATM2_slide68_2018_02_14-S2_prep2_thumbnail_mask.png\n",
      "(588, 917, 43)\n",
      "aws s3 cp \"/home/yuncong/CSHL_volumes/CHATM2/CHATM2_detector799_10.0um_scoreVolume/score_volumes/CHATM2_detector799_10.0um_scoreVolume_4N_R.bp\" \"s3://mousebrainatlas-data/CSHL_volumes/CHATM2/CHATM2_detector799_10.0um_scoreVolume/score_volumes/CHATM2_detector799_10.0um_scoreVolume_4N_R.bp\"\n",
      "0\n",
      "aws s3 cp \"/home/yuncong/CSHL_volumes/CHATM2/CHATM2_detector799_10.0um_scoreVolume/score_volumes/CHATM2_detector799_10.0um_scoreVolume_4N_R_origin_wrt_wholebrain.txt\" \"s3://mousebrainatlas-data/CSHL_volumes/CHATM2/CHATM2_detector799_10.0um_scoreVolume/score_volumes/CHATM2_detector799_10.0um_scoreVolume_4N_R_origin_wrt_wholebrain.txt\"\n",
      "0\n",
      "aws s3 cp \"/home/yuncong/CSHL_volumes/CHATM2/CHATM2_detector799_10.0um_scoreVolume/score_volume_gradients/CHATM2_detector799_10.0um_scoreVolume_4N_R_gradients.bp\" \"s3://mousebrainatlas-data/CSHL_volumes/CHATM2/CHATM2_detector799_10.0um_scoreVolume/score_volume_gradients/CHATM2_detector799_10.0um_scoreVolume_4N_R_gradients.bp\"\n",
      "0\n",
      "aws s3 cp \"/home/yuncong/CSHL_volumes/CHATM2/CHATM2_detector799_10.0um_scoreVolume/score_volume_gradients/CHATM2_detector799_10.0um_scoreVolume_4N_R_origin_wrt_wholebrain.txt\" \"s3://mousebrainatlas-data/CSHL_volumes/CHATM2/CHATM2_detector799_10.0um_scoreVolume/score_volume_gradients/CHATM2_detector799_10.0um_scoreVolume_4N_R_origin_wrt_wholebrain.txt\"\n",
      "0\n",
      "/data/CSHL_data_processed/CHATM2/CHATM2_prep2_thumbnail_mask/CHATM2_slide30_2018_01_18-S1_prep2_thumbnail_mask.png\n",
      "/data/CSHL_data_processed/CHATM2/CHATM2_prep2_thumbnail_mask/CHATM2_slide29_2018_01_18-S2_prep2_thumbnail_mask.png\n"
     ]
    },
    {
     "name": "stderr",
     "output_type": "stream",
     "text": [
      "Not using image_cache.\n",
      "Not using image_cache.\n",
      "Not using image_cache.\n",
      "Not using image_cache.\n"
     ]
    },
    {
     "name": "stdout",
     "output_type": "stream",
     "text": [
      "/data/CSHL_data_processed/CHATM2/CHATM2_prep2_thumbnail_mask/CHATM2_slide30_2018_01_18-S2_prep2_thumbnail_mask.png\n",
      "/data/CSHL_data_processed/CHATM2/CHATM2_prep2_thumbnail_mask/CHATM2_slide29_2018_01_18-S3_prep2_thumbnail_mask.png\n"
     ]
    },
    {
     "name": "stderr",
     "output_type": "stream",
     "text": [
      "Not using image_cache.\n",
      "Not using image_cache.\n"
     ]
    },
    {
     "name": "stdout",
     "output_type": "stream",
     "text": [
      "/data/CSHL_data_processed/CHATM2/CHATM2_prep2_thumbnail_mask/CHATM2_slide30_2018_01_18-S3_prep2_thumbnail_mask.png\n",
      "/data/CSHL_data_processed/CHATM2/CHATM2_prep2_thumbnail_mask/CHATM2_slide32_2018_01_20-S1_prep2_thumbnail_mask.png\n"
     ]
    },
    {
     "name": "stderr",
     "output_type": "stream",
     "text": [
      "Not using image_cache.\n",
      "Not using image_cache.\n"
     ]
    },
    {
     "name": "stdout",
     "output_type": "stream",
     "text": [
      "/data/CSHL_data_processed/CHATM2/CHATM2_prep2_thumbnail_mask/CHATM2_slide31_2018_01_19-S2_prep2_thumbnail_mask.png\n",
      "/data/CSHL_data_processed/CHATM2/CHATM2_prep2_thumbnail_mask/CHATM2_slide32_2018_01_20-S2_prep2_thumbnail_mask.png\n"
     ]
    },
    {
     "name": "stderr",
     "output_type": "stream",
     "text": [
      "Not using image_cache.\n",
      "Not using image_cache.\n"
     ]
    },
    {
     "name": "stdout",
     "output_type": "stream",
     "text": [
      "/data/CSHL_data_processed/CHATM2/CHATM2_prep2_thumbnail_mask/CHATM2_slide31_2018_01_19-S3_prep2_thumbnail_mask.png\n",
      "/data/CSHL_data_processed/CHATM2/CHATM2_prep2_thumbnail_mask/CHATM2_slide32_2018_01_20-S3_prep2_thumbnail_mask.png\n"
     ]
    },
    {
     "name": "stderr",
     "output_type": "stream",
     "text": [
      "Not using image_cache.\n",
      "Not using image_cache.\n"
     ]
    },
    {
     "name": "stdout",
     "output_type": "stream",
     "text": [
      "/data/CSHL_data_processed/CHATM2/CHATM2_prep2_thumbnail_mask/CHATM2_slide33_2018_01_20-S1_prep2_thumbnail_mask.png\n",
      "/data/CSHL_data_processed/CHATM2/CHATM2_prep2_thumbnail_mask/CHATM2_slide34_2018_01_20-S1_prep2_thumbnail_mask.png\n"
     ]
    },
    {
     "name": "stderr",
     "output_type": "stream",
     "text": [
      "Not using image_cache.\n",
      "Not using image_cache.\n"
     ]
    },
    {
     "name": "stdout",
     "output_type": "stream",
     "text": [
      "/data/CSHL_data_processed/CHATM2/CHATM2_prep2_thumbnail_mask/CHATM2_slide33_2018_01_20-S2_prep2_thumbnail_mask.png\n",
      "/data/CSHL_data_processed/CHATM2/CHATM2_prep2_thumbnail_mask/CHATM2_slide34_2018_01_20-S2_prep2_thumbnail_mask.png\n"
     ]
    },
    {
     "name": "stderr",
     "output_type": "stream",
     "text": [
      "Not using image_cache.\n",
      "Not using image_cache.\n"
     ]
    },
    {
     "name": "stdout",
     "output_type": "stream",
     "text": [
      "/data/CSHL_data_processed/CHATM2/CHATM2_prep2_thumbnail_mask/CHATM2_slide33_2018_01_20-S3_prep2_thumbnail_mask.png\n",
      "/data/CSHL_data_processed/CHATM2/CHATM2_prep2_thumbnail_mask/CHATM2_slide34_2018_01_20-S3_prep2_thumbnail_mask.png\n"
     ]
    },
    {
     "name": "stderr",
     "output_type": "stream",
     "text": [
      "Not using image_cache.\n",
      "Not using image_cache.\n"
     ]
    },
    {
     "name": "stdout",
     "output_type": "stream",
     "text": [
      "/data/CSHL_data_processed/CHATM2/CHATM2_prep2_thumbnail_mask/CHATM2_slide35_2018_01_20-S1_prep2_thumbnail_mask.png\n",
      "/data/CSHL_data_processed/CHATM2/CHATM2_prep2_thumbnail_mask/CHATM2_slide36_2018_01_22-S1_prep2_thumbnail_mask.png\n"
     ]
    },
    {
     "name": "stderr",
     "output_type": "stream",
     "text": [
      "Not using image_cache.\n",
      "Not using image_cache.\n"
     ]
    },
    {
     "name": "stdout",
     "output_type": "stream",
     "text": [
      "/data/CSHL_data_processed/CHATM2/CHATM2_prep2_thumbnail_mask/CHATM2_slide35_2018_01_20-S2_prep2_thumbnail_mask.png\n",
      "/data/CSHL_data_processed/CHATM2/CHATM2_prep2_thumbnail_mask/CHATM2_slide36_2018_01_22-S2_prep2_thumbnail_mask.png\n"
     ]
    },
    {
     "name": "stderr",
     "output_type": "stream",
     "text": [
      "Not using image_cache.\n",
      "Not using image_cache.\n"
     ]
    },
    {
     "name": "stdout",
     "output_type": "stream",
     "text": [
      "/data/CSHL_data_processed/CHATM2/CHATM2_prep2_thumbnail_mask/CHATM2_slide36_2018_01_22-S3_prep2_thumbnail_mask.png\n",
      "/data/CSHL_data_processed/CHATM2/CHATM2_prep2_thumbnail_mask/CHATM2_slide37_2018_01_22-S1_prep2_thumbnail_mask.png\n"
     ]
    },
    {
     "name": "stderr",
     "output_type": "stream",
     "text": [
      "Not using image_cache.\n",
      "Not using image_cache.\n"
     ]
    },
    {
     "name": "stdout",
     "output_type": "stream",
     "text": [
      "/data/CSHL_data_processed/CHATM2/CHATM2_prep2_thumbnail_mask/CHATM2_slide38_2018_01_22-S1_prep2_thumbnail_mask.png\n",
      "/data/CSHL_data_processed/CHATM2/CHATM2_prep2_thumbnail_mask/CHATM2_slide37_2018_01_22-S2_prep2_thumbnail_mask.png\n"
     ]
    },
    {
     "name": "stderr",
     "output_type": "stream",
     "text": [
      "Not using image_cache.\n",
      "Not using image_cache.\n"
     ]
    },
    {
     "name": "stdout",
     "output_type": "stream",
     "text": [
      "/data/CSHL_data_processed/CHATM2/CHATM2_prep2_thumbnail_mask/CHATM2_slide38_2018_01_22-S2_prep2_thumbnail_mask.png\n",
      "/data/CSHL_data_processed/CHATM2/CHATM2_prep2_thumbnail_mask/CHATM2_slide37_2018_01_22-S3_prep2_thumbnail_mask.png\n"
     ]
    },
    {
     "name": "stderr",
     "output_type": "stream",
     "text": [
      "Not using image_cache.\n",
      "Not using image_cache.\n"
     ]
    },
    {
     "name": "stdout",
     "output_type": "stream",
     "text": [
      "/data/CSHL_data_processed/CHATM2/CHATM2_prep2_thumbnail_mask/CHATM2_slide38_2018_01_22-S3_prep2_thumbnail_mask.png\n",
      "/data/CSHL_data_processed/CHATM2/CHATM2_prep2_thumbnail_mask/CHATM2_slide39_2018_01_22-S1_prep2_thumbnail_mask.png\n"
     ]
    },
    {
     "name": "stderr",
     "output_type": "stream",
     "text": [
      "Not using image_cache.\n",
      "Not using image_cache.\n"
     ]
    },
    {
     "name": "stdout",
     "output_type": "stream",
     "text": [
      "/data/CSHL_data_processed/CHATM2/CHATM2_prep2_thumbnail_mask/CHATM2_slide39_2018_01_22-S2_prep2_thumbnail_mask.png\n",
      "/data/CSHL_data_processed/CHATM2/CHATM2_prep2_thumbnail_mask/CHATM2_slide39_2018_01_22-S3_prep2_thumbnail_mask.png\n"
     ]
    },
    {
     "name": "stderr",
     "output_type": "stream",
     "text": [
      "Not using image_cache.\n",
      "Not using image_cache.\n"
     ]
    },
    {
     "name": "stdout",
     "output_type": "stream",
     "text": [
      "/data/CSHL_data_processed/CHATM2/CHATM2_prep2_thumbnail_mask/CHATM2_slide41_2018_01_22-S1_prep2_thumbnail_mask.png\n",
      "/data/CSHL_data_processed/CHATM2/CHATM2_prep2_thumbnail_mask/CHATM2_slide42_2018_01_22-S1_prep2_thumbnail_mask.png\n"
     ]
    },
    {
     "name": "stderr",
     "output_type": "stream",
     "text": [
      "Not using image_cache.\n",
      "Not using image_cache.\n"
     ]
    },
    {
     "name": "stdout",
     "output_type": "stream",
     "text": [
      "/data/CSHL_data_processed/CHATM2/CHATM2_prep2_thumbnail_mask/CHATM2_slide41_2018_01_22-S2_prep2_thumbnail_mask.png\n",
      "/data/CSHL_data_processed/CHATM2/CHATM2_prep2_thumbnail_mask/CHATM2_slide42_2018_01_22-S2_prep2_thumbnail_mask.png\n"
     ]
    },
    {
     "name": "stderr",
     "output_type": "stream",
     "text": [
      "Not using image_cache.\n",
      "Not using image_cache.\n"
     ]
    },
    {
     "name": "stdout",
     "output_type": "stream",
     "text": [
      "/data/CSHL_data_processed/CHATM2/CHATM2_prep2_thumbnail_mask/CHATM2_slide41_2018_01_22-S3_prep2_thumbnail_mask.png\n",
      "/data/CSHL_data_processed/CHATM2/CHATM2_prep2_thumbnail_mask/CHATM2_slide42_2018_01_22-S3_prep2_thumbnail_mask.png\n"
     ]
    },
    {
     "name": "stderr",
     "output_type": "stream",
     "text": [
      "Not using image_cache.\n",
      "Not using image_cache.\n"
     ]
    },
    {
     "name": "stdout",
     "output_type": "stream",
     "text": [
      "/data/CSHL_data_processed/CHATM2/CHATM2_prep2_thumbnail_mask/CHATM2_slide43_2018_01_22-S1_prep2_thumbnail_mask.png\n",
      "/data/CSHL_data_processed/CHATM2/CHATM2_prep2_thumbnail_mask/CHATM2_slide44_2018_01_22-S1_prep2_thumbnail_mask.png\n"
     ]
    },
    {
     "name": "stderr",
     "output_type": "stream",
     "text": [
      "Not using image_cache.\n",
      "Not using image_cache.\n"
     ]
    },
    {
     "name": "stdout",
     "output_type": "stream",
     "text": [
      "/data/CSHL_data_processed/CHATM2/CHATM2_prep2_thumbnail_mask/CHATM2_slide43_2018_01_22-S2_prep2_thumbnail_mask.png\n",
      "/data/CSHL_data_processed/CHATM2/CHATM2_prep2_thumbnail_mask/CHATM2_slide44_2018_01_22-S2_prep2_thumbnail_mask.png\n"
     ]
    },
    {
     "name": "stderr",
     "output_type": "stream",
     "text": [
      "Not using image_cache.\n",
      "Not using image_cache.\n"
     ]
    },
    {
     "name": "stdout",
     "output_type": "stream",
     "text": [
      "/data/CSHL_data_processed/CHATM2/CHATM2_prep2_thumbnail_mask/CHATM2_slide43_2018_01_22-S3_prep2_thumbnail_mask.png\n",
      "/data/CSHL_data_processed/CHATM2/CHATM2_prep2_thumbnail_mask/CHATM2_slide44_2018_01_22-S3_prep2_thumbnail_mask.png\n"
     ]
    },
    {
     "name": "stderr",
     "output_type": "stream",
     "text": [
      "Not using image_cache.\n",
      "Not using image_cache.\n"
     ]
    },
    {
     "name": "stdout",
     "output_type": "stream",
     "text": [
      "/data/CSHL_data_processed/CHATM2/CHATM2_prep2_thumbnail_mask/CHATM2_slide45_2018_01_22-S1_prep2_thumbnail_mask.png\n",
      "/data/CSHL_data_processed/CHATM2/CHATM2_prep2_thumbnail_mask/CHATM2_slide46_2018_01_22-S1_prep2_thumbnail_mask.png\n"
     ]
    },
    {
     "name": "stderr",
     "output_type": "stream",
     "text": [
      "Not using image_cache.\n"
     ]
    },
    {
     "name": "stdout",
     "output_type": "stream",
     "text": [
      "/data/CSHL_data_processed/CHATM2/CHATM2_prep2_thumbnail_mask/CHATM2_slide45_2018_01_22-S2_prep2_thumbnail_mask.png\n",
      "(590, 905, 101)\n",
      "aws s3 cp \"/home/yuncong/CSHL_volumes/CHATM2/CHATM2_detector799_10.0um_scoreVolume/score_volumes/CHATM2_detector799_10.0um_scoreVolume_5N_L.bp\" \"s3://mousebrainatlas-data/CSHL_volumes/CHATM2/CHATM2_detector799_10.0um_scoreVolume/score_volumes/CHATM2_detector799_10.0um_scoreVolume_5N_L.bp\"\n",
      "0\n",
      "aws s3 cp \"/home/yuncong/CSHL_volumes/CHATM2/CHATM2_detector799_10.0um_scoreVolume/score_volumes/CHATM2_detector799_10.0um_scoreVolume_5N_L_origin_wrt_wholebrain.txt\" \"s3://mousebrainatlas-data/CSHL_volumes/CHATM2/CHATM2_detector799_10.0um_scoreVolume/score_volumes/CHATM2_detector799_10.0um_scoreVolume_5N_L_origin_wrt_wholebrain.txt\"\n",
      "0\n",
      "aws s3 cp \"/home/yuncong/CSHL_volumes/CHATM2/CHATM2_detector799_10.0um_scoreVolume/score_volume_gradients/CHATM2_detector799_10.0um_scoreVolume_5N_L_gradients.bp\" \"s3://mousebrainatlas-data/CSHL_volumes/CHATM2/CHATM2_detector799_10.0um_scoreVolume/score_volume_gradients/CHATM2_detector799_10.0um_scoreVolume_5N_L_gradients.bp\"\n",
      "0\n",
      "aws s3 cp \"/home/yuncong/CSHL_volumes/CHATM2/CHATM2_detector799_10.0um_scoreVolume/score_volume_gradients/CHATM2_detector799_10.0um_scoreVolume_5N_L_origin_wrt_wholebrain.txt\" \"s3://mousebrainatlas-data/CSHL_volumes/CHATM2/CHATM2_detector799_10.0um_scoreVolume/score_volume_gradients/CHATM2_detector799_10.0um_scoreVolume_5N_L_origin_wrt_wholebrain.txt\"\n",
      "0\n",
      "/data/CSHL_data_processed/CHATM2/CHATM2_prep2_thumbnail_mask/CHATM2_slide74_2018_02_14-S3_prep2_thumbnail_mask.png\n",
      "/data/CSHL_data_processed/CHATM2/CHATM2_prep2_thumbnail_mask/CHATM2_slide76_2018_02_14-S1_prep2_thumbnail_mask.png\n"
     ]
    },
    {
     "name": "stderr",
     "output_type": "stream",
     "text": [
      "Not using image_cache.\n",
      "Not using image_cache.\n",
      "Not using image_cache.\n",
      "Not using image_cache.\n"
     ]
    },
    {
     "name": "stdout",
     "output_type": "stream",
     "text": [
      "/data/CSHL_data_processed/CHATM2/CHATM2_prep2_thumbnail_mask/CHATM2_slide76_2018_02_14-S2_prep2_thumbnail_mask.png\n",
      "/data/CSHL_data_processed/CHATM2/CHATM2_prep2_thumbnail_mask/CHATM2_slide76_2018_02_14-S3_prep2_thumbnail_mask.png\n"
     ]
    },
    {
     "name": "stderr",
     "output_type": "stream",
     "text": [
      "Not using image_cache.\n",
      "Not using image_cache.\n"
     ]
    },
    {
     "name": "stdout",
     "output_type": "stream",
     "text": [
      "/data/CSHL_data_processed/CHATM2/CHATM2_prep2_thumbnail_mask/CHATM2_slide78_2018_02_14-S1_prep2_thumbnail_mask.png\n",
      "/data/CSHL_data_processed/CHATM2/CHATM2_prep2_thumbnail_mask/CHATM2_slide78_2018_02_14-S2_prep2_thumbnail_mask.png\n"
     ]
    },
    {
     "name": "stderr",
     "output_type": "stream",
     "text": [
      "Not using image_cache.\n",
      "Not using image_cache.\n"
     ]
    },
    {
     "name": "stdout",
     "output_type": "stream",
     "text": [
      "/data/CSHL_data_processed/CHATM2/CHATM2_prep2_thumbnail_mask/CHATM2_slide78_2018_02_14-S3_prep2_thumbnail_mask.png\n",
      "/data/CSHL_data_processed/CHATM2/CHATM2_prep2_thumbnail_mask/CHATM2_slide80_2018_02_14-S1_prep2_thumbnail_mask.png\n"
     ]
    },
    {
     "name": "stderr",
     "output_type": "stream",
     "text": [
      "Not using image_cache.\n",
      "Not using image_cache.\n"
     ]
    },
    {
     "name": "stdout",
     "output_type": "stream",
     "text": [
      "/data/CSHL_data_processed/CHATM2/CHATM2_prep2_thumbnail_mask/CHATM2_slide80_2018_02_14-S2_prep2_thumbnail_mask.png\n",
      "/data/CSHL_data_processed/CHATM2/CHATM2_prep2_thumbnail_mask/CHATM2_slide80_2018_02_14-S3_prep2_thumbnail_mask.png\n"
     ]
    },
    {
     "name": "stderr",
     "output_type": "stream",
     "text": [
      "Not using image_cache.\n",
      "Not using image_cache.\n"
     ]
    },
    {
     "name": "stdout",
     "output_type": "stream",
     "text": [
      "/data/CSHL_data_processed/CHATM2/CHATM2_prep2_thumbnail_mask/CHATM2_slide82_2018_02_14-S1_prep2_thumbnail_mask.png\n",
      "/data/CSHL_data_processed/CHATM2/CHATM2_prep2_thumbnail_mask/CHATM2_slide82_2018_02_14-S2_prep2_thumbnail_mask.png\n"
     ]
    },
    {
     "name": "stderr",
     "output_type": "stream",
     "text": [
      "Not using image_cache.\n",
      "Not using image_cache.\n"
     ]
    },
    {
     "name": "stdout",
     "output_type": "stream",
     "text": [
      "/data/CSHL_data_processed/CHATM2/CHATM2_prep2_thumbnail_mask/CHATM2_slide82_2018_02_14-S3_prep2_thumbnail_mask.png\n",
      "/data/CSHL_data_processed/CHATM2/CHATM2_prep2_thumbnail_mask/CHATM2_slide84_2018_02_14-S1_prep2_thumbnail_mask.png\n"
     ]
    },
    {
     "name": "stderr",
     "output_type": "stream",
     "text": [
      "Not using image_cache.\n",
      "Not using image_cache.\n"
     ]
    },
    {
     "name": "stdout",
     "output_type": "stream",
     "text": [
      "/data/CSHL_data_processed/CHATM2/CHATM2_prep2_thumbnail_mask/CHATM2_slide84_2018_02_14-S2_prep2_thumbnail_mask.png\n",
      "/data/CSHL_data_processed/CHATM2/CHATM2_prep2_thumbnail_mask/CHATM2_slide84_2018_02_14-S3_prep2_thumbnail_mask.png\n"
     ]
    },
    {
     "name": "stderr",
     "output_type": "stream",
     "text": [
      "Not using image_cache.\n",
      "Not using image_cache.\n"
     ]
    },
    {
     "name": "stdout",
     "output_type": "stream",
     "text": [
      "/data/CSHL_data_processed/CHATM2/CHATM2_prep2_thumbnail_mask/CHATM2_slide86_2018_02_13-S1_prep2_thumbnail_mask.png\n",
      "/data/CSHL_data_processed/CHATM2/CHATM2_prep2_thumbnail_mask/CHATM2_slide86_2018_02_13-S2_prep2_thumbnail_mask.png\n"
     ]
    },
    {
     "name": "stderr",
     "output_type": "stream",
     "text": [
      "Not using image_cache.\n",
      "Not using image_cache.\n"
     ]
    },
    {
     "name": "stdout",
     "output_type": "stream",
     "text": [
      "/data/CSHL_data_processed/CHATM2/CHATM2_prep2_thumbnail_mask/CHATM2_slide86_2018_02_13-S3_prep2_thumbnail_mask.png\n",
      "/data/CSHL_data_processed/CHATM2/CHATM2_prep2_thumbnail_mask/CHATM2_slide88_2018_02_13-S1_prep2_thumbnail_mask.png\n"
     ]
    },
    {
     "name": "stderr",
     "output_type": "stream",
     "text": [
      "Not using image_cache.\n",
      "Not using image_cache.\n"
     ]
    },
    {
     "name": "stdout",
     "output_type": "stream",
     "text": [
      "/data/CSHL_data_processed/CHATM2/CHATM2_prep2_thumbnail_mask/CHATM2_slide88_2018_02_13-S2_prep2_thumbnail_mask.png\n",
      "/data/CSHL_data_processed/CHATM2/CHATM2_prep2_thumbnail_mask/CHATM2_slide88_2018_02_13-S3_prep2_thumbnail_mask.png\n"
     ]
    },
    {
     "name": "stderr",
     "output_type": "stream",
     "text": [
      "Not using image_cache.\n",
      "Not using image_cache.\n"
     ]
    },
    {
     "name": "stdout",
     "output_type": "stream",
     "text": [
      "/data/CSHL_data_processed/CHATM2/CHATM2_prep2_thumbnail_mask/CHATM2_slide90_2018_02_13-S1_prep2_thumbnail_mask.png\n",
      "/data/CSHL_data_processed/CHATM2/CHATM2_prep2_thumbnail_mask/CHATM2_slide90_2018_02_13-S2_prep2_thumbnail_mask.png\n"
     ]
    },
    {
     "name": "stderr",
     "output_type": "stream",
     "text": [
      "Not using image_cache.\n"
     ]
    },
    {
     "name": "stdout",
     "output_type": "stream",
     "text": [
      "/data/CSHL_data_processed/CHATM2/CHATM2_prep2_thumbnail_mask/CHATM2_slide90_2018_02_13-S3_prep2_thumbnail_mask.png\n",
      "(573, 917, 99)\n",
      "aws s3 cp \"/home/yuncong/CSHL_volumes/CHATM2/CHATM2_detector799_10.0um_scoreVolume/score_volumes/CHATM2_detector799_10.0um_scoreVolume_5N_R.bp\" \"s3://mousebrainatlas-data/CSHL_volumes/CHATM2/CHATM2_detector799_10.0um_scoreVolume/score_volumes/CHATM2_detector799_10.0um_scoreVolume_5N_R.bp\"\n",
      "0\n",
      "aws s3 cp \"/home/yuncong/CSHL_volumes/CHATM2/CHATM2_detector799_10.0um_scoreVolume/score_volumes/CHATM2_detector799_10.0um_scoreVolume_5N_R_origin_wrt_wholebrain.txt\" \"s3://mousebrainatlas-data/CSHL_volumes/CHATM2/CHATM2_detector799_10.0um_scoreVolume/score_volumes/CHATM2_detector799_10.0um_scoreVolume_5N_R_origin_wrt_wholebrain.txt\"\n",
      "0\n",
      "aws s3 cp \"/home/yuncong/CSHL_volumes/CHATM2/CHATM2_detector799_10.0um_scoreVolume/score_volume_gradients/CHATM2_detector799_10.0um_scoreVolume_5N_R_gradients.bp\" \"s3://mousebrainatlas-data/CSHL_volumes/CHATM2/CHATM2_detector799_10.0um_scoreVolume/score_volume_gradients/CHATM2_detector799_10.0um_scoreVolume_5N_R_gradients.bp\"\n",
      "0\n",
      "aws s3 cp \"/home/yuncong/CSHL_volumes/CHATM2/CHATM2_detector799_10.0um_scoreVolume/score_volume_gradients/CHATM2_detector799_10.0um_scoreVolume_5N_R_origin_wrt_wholebrain.txt\" \"s3://mousebrainatlas-data/CSHL_volumes/CHATM2/CHATM2_detector799_10.0um_scoreVolume/score_volume_gradients/CHATM2_detector799_10.0um_scoreVolume_5N_R_origin_wrt_wholebrain.txt\"\n",
      "0\n",
      "/data/CSHL_data_processed/CHATM2/CHATM2_prep2_thumbnail_mask/CHATM2_slide49_2018_01_22-S1_prep2_thumbnail_mask.png\n",
      "/data/CSHL_data_processed/CHATM2/CHATM2_prep2_thumbnail_mask/CHATM2_slide50_2018_01_22-S1_prep2_thumbnail_mask.png\n"
     ]
    },
    {
     "name": "stderr",
     "output_type": "stream",
     "text": [
      "Not using image_cache.\n",
      "Not using image_cache.\n",
      "Not using image_cache.\n",
      "Not using image_cache.\n"
     ]
    },
    {
     "name": "stdout",
     "output_type": "stream",
     "text": [
      "/data/CSHL_data_processed/CHATM2/CHATM2_prep2_thumbnail_mask/CHATM2_slide49_2018_01_22-S2_prep2_thumbnail_mask.png\n",
      "/data/CSHL_data_processed/CHATM2/CHATM2_prep2_thumbnail_mask/CHATM2_slide50_2018_01_22-S2_prep2_thumbnail_mask.png\n"
     ]
    },
    {
     "name": "stderr",
     "output_type": "stream",
     "text": [
      "Not using image_cache.\n",
      "Not using image_cache.\n"
     ]
    },
    {
     "name": "stdout",
     "output_type": "stream",
     "text": [
      "/data/CSHL_data_processed/CHATM2/CHATM2_prep2_thumbnail_mask/CHATM2_slide50_2018_01_22-S3_prep2_thumbnail_mask.png\n",
      "/data/CSHL_data_processed/CHATM2/CHATM2_prep2_thumbnail_mask/CHATM2_slide51_2018_01_22-S1_prep2_thumbnail_mask.png\n"
     ]
    },
    {
     "name": "stderr",
     "output_type": "stream",
     "text": [
      "Not using image_cache.\n",
      "Not using image_cache.\n"
     ]
    },
    {
     "name": "stdout",
     "output_type": "stream",
     "text": [
      "/data/CSHL_data_processed/CHATM2/CHATM2_prep2_thumbnail_mask/CHATM2_slide52_2018_01_22-S1_prep2_thumbnail_mask.png\n",
      "/data/CSHL_data_processed/CHATM2/CHATM2_prep2_thumbnail_mask/CHATM2_slide51_2018_01_22-S2_prep2_thumbnail_mask.png\n"
     ]
    },
    {
     "name": "stderr",
     "output_type": "stream",
     "text": [
      "Not using image_cache.\n",
      "Not using image_cache.\n"
     ]
    },
    {
     "name": "stdout",
     "output_type": "stream",
     "text": [
      "/data/CSHL_data_processed/CHATM2/CHATM2_prep2_thumbnail_mask/CHATM2_slide52_2018_01_22-S2_prep2_thumbnail_mask.png\n",
      "/data/CSHL_data_processed/CHATM2/CHATM2_prep2_thumbnail_mask/CHATM2_slide51_2018_01_22-S3_prep2_thumbnail_mask.png\n"
     ]
    },
    {
     "name": "stderr",
     "output_type": "stream",
     "text": [
      "Not using image_cache.\n",
      "Not using image_cache.\n"
     ]
    },
    {
     "name": "stdout",
     "output_type": "stream",
     "text": [
      "/data/CSHL_data_processed/CHATM2/CHATM2_prep2_thumbnail_mask/CHATM2_slide52_2018_01_22-S3_prep2_thumbnail_mask.png\n",
      "/data/CSHL_data_processed/CHATM2/CHATM2_prep2_thumbnail_mask/CHATM2_slide53_2018_01_22-S1_prep2_thumbnail_mask.png\n"
     ]
    },
    {
     "name": "stderr",
     "output_type": "stream",
     "text": [
      "Not using image_cache.\n",
      "Not using image_cache.\n"
     ]
    },
    {
     "name": "stdout",
     "output_type": "stream",
     "text": [
      "/data/CSHL_data_processed/CHATM2/CHATM2_prep2_thumbnail_mask/CHATM2_slide54_2018_01_22-S1_prep2_thumbnail_mask.png\n",
      "/data/CSHL_data_processed/CHATM2/CHATM2_prep2_thumbnail_mask/CHATM2_slide53_2018_01_22-S2_prep2_thumbnail_mask.png\n"
     ]
    },
    {
     "name": "stderr",
     "output_type": "stream",
     "text": [
      "Not using image_cache.\n",
      "Not using image_cache.\n"
     ]
    },
    {
     "name": "stdout",
     "output_type": "stream",
     "text": [
      "/data/CSHL_data_processed/CHATM2/CHATM2_prep2_thumbnail_mask/CHATM2_slide54_2018_01_22-S2_prep2_thumbnail_mask.png\n",
      "/data/CSHL_data_processed/CHATM2/CHATM2_prep2_thumbnail_mask/CHATM2_slide53_2018_01_22-S3_prep2_thumbnail_mask.png\n"
     ]
    },
    {
     "name": "stderr",
     "output_type": "stream",
     "text": [
      "Not using image_cache.\n",
      "Not using image_cache.\n"
     ]
    },
    {
     "name": "stdout",
     "output_type": "stream",
     "text": [
      "/data/CSHL_data_processed/CHATM2/CHATM2_prep2_thumbnail_mask/CHATM2_slide54_2018_01_22-S3_prep2_thumbnail_mask.png\n",
      "/data/CSHL_data_processed/CHATM2/CHATM2_prep2_thumbnail_mask/CHATM2_slide55_2018_01_22-S1_prep2_thumbnail_mask.png\n"
     ]
    },
    {
     "name": "stderr",
     "output_type": "stream",
     "text": [
      "Not using image_cache.\n",
      "Not using image_cache.\n"
     ]
    },
    {
     "name": "stdout",
     "output_type": "stream",
     "text": [
      "/data/CSHL_data_processed/CHATM2/CHATM2_prep2_thumbnail_mask/CHATM2_slide56_2018_01_22-S1_prep2_thumbnail_mask.png\n",
      "/data/CSHL_data_processed/CHATM2/CHATM2_prep2_thumbnail_mask/CHATM2_slide55_2018_01_22-S2_prep2_thumbnail_mask.png\n"
     ]
    },
    {
     "name": "stderr",
     "output_type": "stream",
     "text": [
      "Not using image_cache.\n",
      "Not using image_cache.\n"
     ]
    },
    {
     "name": "stdout",
     "output_type": "stream",
     "text": [
      "/data/CSHL_data_processed/CHATM2/CHATM2_prep2_thumbnail_mask/CHATM2_slide56_2018_01_22-S2_prep2_thumbnail_mask.png\n",
      "/data/CSHL_data_processed/CHATM2/CHATM2_prep2_thumbnail_mask/CHATM2_slide55_2018_01_22-S3_prep2_thumbnail_mask.png\n"
     ]
    },
    {
     "name": "stderr",
     "output_type": "stream",
     "text": [
      "Not using image_cache.\n",
      "Not using image_cache.\n"
     ]
    },
    {
     "name": "stdout",
     "output_type": "stream",
     "text": [
      "/data/CSHL_data_processed/CHATM2/CHATM2_prep2_thumbnail_mask/CHATM2_slide56_2018_01_22-S3_prep2_thumbnail_mask.png\n",
      "/data/CSHL_data_processed/CHATM2/CHATM2_prep2_thumbnail_mask/CHATM2_slide57_2018_01_22-S1_prep2_thumbnail_mask.png\n"
     ]
    },
    {
     "name": "stderr",
     "output_type": "stream",
     "text": [
      "Not using image_cache.\n",
      "Not using image_cache.\n"
     ]
    },
    {
     "name": "stdout",
     "output_type": "stream",
     "text": [
      "/data/CSHL_data_processed/CHATM2/CHATM2_prep2_thumbnail_mask/CHATM2_slide58_2018_01_22-S1_prep2_thumbnail_mask.png\n",
      "/data/CSHL_data_processed/CHATM2/CHATM2_prep2_thumbnail_mask/CHATM2_slide57_2018_01_22-S2_prep2_thumbnail_mask.png\n"
     ]
    },
    {
     "name": "stderr",
     "output_type": "stream",
     "text": [
      "Not using image_cache.\n",
      "Not using image_cache.\n"
     ]
    },
    {
     "name": "stdout",
     "output_type": "stream",
     "text": [
      "/data/CSHL_data_processed/CHATM2/CHATM2_prep2_thumbnail_mask/CHATM2_slide58_2018_01_22-S2_prep2_thumbnail_mask.png\n",
      "/data/CSHL_data_processed/CHATM2/CHATM2_prep2_thumbnail_mask/CHATM2_slide57_2018_01_22-S3_prep2_thumbnail_mask.png\n",
      "(585, 917, 59)\n",
      "aws s3 cp \"/home/yuncong/CSHL_volumes/CHATM2/CHATM2_detector799_10.0um_scoreVolume/score_volumes/CHATM2_detector799_10.0um_scoreVolume_6N_L.bp\" \"s3://mousebrainatlas-data/CSHL_volumes/CHATM2/CHATM2_detector799_10.0um_scoreVolume/score_volumes/CHATM2_detector799_10.0um_scoreVolume_6N_L.bp\"\n",
      "0\n",
      "aws s3 cp \"/home/yuncong/CSHL_volumes/CHATM2/CHATM2_detector799_10.0um_scoreVolume/score_volumes/CHATM2_detector799_10.0um_scoreVolume_6N_L_origin_wrt_wholebrain.txt\" \"s3://mousebrainatlas-data/CSHL_volumes/CHATM2/CHATM2_detector799_10.0um_scoreVolume/score_volumes/CHATM2_detector799_10.0um_scoreVolume_6N_L_origin_wrt_wholebrain.txt\"\n",
      "0\n",
      "aws s3 cp \"/home/yuncong/CSHL_volumes/CHATM2/CHATM2_detector799_10.0um_scoreVolume/score_volume_gradients/CHATM2_detector799_10.0um_scoreVolume_6N_L_gradients.bp\" \"s3://mousebrainatlas-data/CSHL_volumes/CHATM2/CHATM2_detector799_10.0um_scoreVolume/score_volume_gradients/CHATM2_detector799_10.0um_scoreVolume_6N_L_gradients.bp\"\n",
      "0\n",
      "aws s3 cp \"/home/yuncong/CSHL_volumes/CHATM2/CHATM2_detector799_10.0um_scoreVolume/score_volume_gradients/CHATM2_detector799_10.0um_scoreVolume_6N_L_origin_wrt_wholebrain.txt\" \"s3://mousebrainatlas-data/CSHL_volumes/CHATM2/CHATM2_detector799_10.0um_scoreVolume/score_volume_gradients/CHATM2_detector799_10.0um_scoreVolume_6N_L_origin_wrt_wholebrain.txt\"\n",
      "0\n",
      "/data/CSHL_data_processed/CHATM2/CHATM2_prep2_thumbnail_mask/CHATM2_slide62_2018_02_14-S1_prep2_thumbnail_mask.png\n",
      "/data/CSHL_data_processed/CHATM2/CHATM2_prep2_thumbnail_mask/CHATM2_slide62_2018_02_14-S2_prep2_thumbnail_mask.png\n"
     ]
    },
    {
     "name": "stderr",
     "output_type": "stream",
     "text": [
      "Not using image_cache.\n",
      "Not using image_cache.\n",
      "Not using image_cache.\n",
      "Not using image_cache.\n"
     ]
    },
    {
     "name": "stdout",
     "output_type": "stream",
     "text": [
      "/data/CSHL_data_processed/CHATM2/CHATM2_prep2_thumbnail_mask/CHATM2_slide62_2018_02_14-S3_prep2_thumbnail_mask.png\n",
      "/data/CSHL_data_processed/CHATM2/CHATM2_prep2_thumbnail_mask/CHATM2_slide64_2018_02_15-S1_prep2_thumbnail_mask.png\n"
     ]
    },
    {
     "name": "stderr",
     "output_type": "stream",
     "text": [
      "Not using image_cache.\n",
      "Not using image_cache.\n"
     ]
    },
    {
     "name": "stdout",
     "output_type": "stream",
     "text": [
      "/data/CSHL_data_processed/CHATM2/CHATM2_prep2_thumbnail_mask/CHATM2_slide64_2018_02_15-S2_prep2_thumbnail_mask.png\n",
      "/data/CSHL_data_processed/CHATM2/CHATM2_prep2_thumbnail_mask/CHATM2_slide64_2018_02_15-S3_prep2_thumbnail_mask.png\n"
     ]
    },
    {
     "name": "stderr",
     "output_type": "stream",
     "text": [
      "Not using image_cache.\n",
      "Not using image_cache.\n"
     ]
    },
    {
     "name": "stdout",
     "output_type": "stream",
     "text": [
      "/data/CSHL_data_processed/CHATM2/CHATM2_prep2_thumbnail_mask/CHATM2_slide66_2018_02_14-S1_prep2_thumbnail_mask.png\n",
      "/data/CSHL_data_processed/CHATM2/CHATM2_prep2_thumbnail_mask/CHATM2_slide66_2018_02_14-S2_prep2_thumbnail_mask.png\n"
     ]
    },
    {
     "name": "stderr",
     "output_type": "stream",
     "text": [
      "Not using image_cache.\n",
      "Not using image_cache.\n"
     ]
    },
    {
     "name": "stdout",
     "output_type": "stream",
     "text": [
      "/data/CSHL_data_processed/CHATM2/CHATM2_prep2_thumbnail_mask/CHATM2_slide66_2018_02_14-S3_prep2_thumbnail_mask.png\n",
      "/data/CSHL_data_processed/CHATM2/CHATM2_prep2_thumbnail_mask/CHATM2_slide68_2018_02_14-S1_prep2_thumbnail_mask.png\n"
     ]
    },
    {
     "name": "stderr",
     "output_type": "stream",
     "text": [
      "Not using image_cache.\n",
      "Not using image_cache.\n"
     ]
    },
    {
     "name": "stdout",
     "output_type": "stream",
     "text": [
      "/data/CSHL_data_processed/CHATM2/CHATM2_prep2_thumbnail_mask/CHATM2_slide68_2018_02_14-S2_prep2_thumbnail_mask.png\n",
      "/data/CSHL_data_processed/CHATM2/CHATM2_prep2_thumbnail_mask/CHATM2_slide70_2018_02_14-S1_prep2_thumbnail_mask.png\n"
     ]
    },
    {
     "name": "stderr",
     "output_type": "stream",
     "text": [
      "Not using image_cache.\n",
      "Not using image_cache.\n"
     ]
    },
    {
     "name": "stdout",
     "output_type": "stream",
     "text": [
      "/data/CSHL_data_processed/CHATM2/CHATM2_prep2_thumbnail_mask/CHATM2_slide70_2018_02_14-S2_prep2_thumbnail_mask.png\n",
      "/data/CSHL_data_processed/CHATM2/CHATM2_prep2_thumbnail_mask/CHATM2_slide70_2018_02_14-S3_prep2_thumbnail_mask.png\n",
      "(590, 917, 59)\n",
      "aws s3 cp \"/home/yuncong/CSHL_volumes/CHATM2/CHATM2_detector799_10.0um_scoreVolume/score_volumes/CHATM2_detector799_10.0um_scoreVolume_6N_R.bp\" \"s3://mousebrainatlas-data/CSHL_volumes/CHATM2/CHATM2_detector799_10.0um_scoreVolume/score_volumes/CHATM2_detector799_10.0um_scoreVolume_6N_R.bp\"\n",
      "0\n",
      "aws s3 cp \"/home/yuncong/CSHL_volumes/CHATM2/CHATM2_detector799_10.0um_scoreVolume/score_volumes/CHATM2_detector799_10.0um_scoreVolume_6N_R_origin_wrt_wholebrain.txt\" \"s3://mousebrainatlas-data/CSHL_volumes/CHATM2/CHATM2_detector799_10.0um_scoreVolume/score_volumes/CHATM2_detector799_10.0um_scoreVolume_6N_R_origin_wrt_wholebrain.txt\"\n",
      "0\n",
      "aws s3 cp \"/home/yuncong/CSHL_volumes/CHATM2/CHATM2_detector799_10.0um_scoreVolume/score_volume_gradients/CHATM2_detector799_10.0um_scoreVolume_6N_R_gradients.bp\" \"s3://mousebrainatlas-data/CSHL_volumes/CHATM2/CHATM2_detector799_10.0um_scoreVolume/score_volume_gradients/CHATM2_detector799_10.0um_scoreVolume_6N_R_gradients.bp\"\n",
      "0\n",
      "aws s3 cp \"/home/yuncong/CSHL_volumes/CHATM2/CHATM2_detector799_10.0um_scoreVolume/score_volume_gradients/CHATM2_detector799_10.0um_scoreVolume_6N_R_origin_wrt_wholebrain.txt\" \"s3://mousebrainatlas-data/CSHL_volumes/CHATM2/CHATM2_detector799_10.0um_scoreVolume/score_volume_gradients/CHATM2_detector799_10.0um_scoreVolume_6N_R_origin_wrt_wholebrain.txt\"\n",
      "0\n",
      "/data/CSHL_data_processed/CHATM2/CHATM2_prep2_thumbnail_mask/CHATM2_slide30_2018_01_18-S2_prep2_thumbnail_mask.png\n",
      "/data/CSHL_data_processed/CHATM2/CHATM2_prep2_thumbnail_mask/CHATM2_slide29_2018_01_18-S3_prep2_thumbnail_mask.png\n"
     ]
    },
    {
     "name": "stderr",
     "output_type": "stream",
     "text": [
      "Not using image_cache.\n",
      "Not using image_cache.\n",
      "Not using image_cache.\n",
      "Not using image_cache.\n"
     ]
    },
    {
     "name": "stdout",
     "output_type": "stream",
     "text": [
      "/data/CSHL_data_processed/CHATM2/CHATM2_prep2_thumbnail_mask/CHATM2_slide30_2018_01_18-S3_prep2_thumbnail_mask.png\n",
      "/data/CSHL_data_processed/CHATM2/CHATM2_prep2_thumbnail_mask/CHATM2_slide32_2018_01_20-S1_prep2_thumbnail_mask.png\n"
     ]
    },
    {
     "name": "stderr",
     "output_type": "stream",
     "text": [
      "Not using image_cache.\n",
      "Not using image_cache.\n"
     ]
    },
    {
     "name": "stdout",
     "output_type": "stream",
     "text": [
      "/data/CSHL_data_processed/CHATM2/CHATM2_prep2_thumbnail_mask/CHATM2_slide31_2018_01_19-S2_prep2_thumbnail_mask.png\n",
      "/data/CSHL_data_processed/CHATM2/CHATM2_prep2_thumbnail_mask/CHATM2_slide32_2018_01_20-S2_prep2_thumbnail_mask.png\n"
     ]
    },
    {
     "name": "stderr",
     "output_type": "stream",
     "text": [
      "Not using image_cache.\n",
      "Not using image_cache.\n"
     ]
    },
    {
     "name": "stdout",
     "output_type": "stream",
     "text": [
      "/data/CSHL_data_processed/CHATM2/CHATM2_prep2_thumbnail_mask/CHATM2_slide31_2018_01_19-S3_prep2_thumbnail_mask.png\n",
      "/data/CSHL_data_processed/CHATM2/CHATM2_prep2_thumbnail_mask/CHATM2_slide32_2018_01_20-S3_prep2_thumbnail_mask.png\n"
     ]
    },
    {
     "name": "stderr",
     "output_type": "stream",
     "text": [
      "Not using image_cache.\n",
      "Not using image_cache.\n"
     ]
    },
    {
     "name": "stdout",
     "output_type": "stream",
     "text": [
      "/data/CSHL_data_processed/CHATM2/CHATM2_prep2_thumbnail_mask/CHATM2_slide33_2018_01_20-S1_prep2_thumbnail_mask.png\n",
      "/data/CSHL_data_processed/CHATM2/CHATM2_prep2_thumbnail_mask/CHATM2_slide34_2018_01_20-S1_prep2_thumbnail_mask.png\n"
     ]
    },
    {
     "name": "stderr",
     "output_type": "stream",
     "text": [
      "Not using image_cache.\n",
      "Not using image_cache.\n"
     ]
    },
    {
     "name": "stdout",
     "output_type": "stream",
     "text": [
      "/data/CSHL_data_processed/CHATM2/CHATM2_prep2_thumbnail_mask/CHATM2_slide33_2018_01_20-S2_prep2_thumbnail_mask.png\n",
      "/data/CSHL_data_processed/CHATM2/CHATM2_prep2_thumbnail_mask/CHATM2_slide34_2018_01_20-S2_prep2_thumbnail_mask.png\n"
     ]
    },
    {
     "name": "stderr",
     "output_type": "stream",
     "text": [
      "Not using image_cache.\n",
      "Not using image_cache.\n"
     ]
    },
    {
     "name": "stdout",
     "output_type": "stream",
     "text": [
      "/data/CSHL_data_processed/CHATM2/CHATM2_prep2_thumbnail_mask/CHATM2_slide33_2018_01_20-S3_prep2_thumbnail_mask.png\n",
      "/data/CSHL_data_processed/CHATM2/CHATM2_prep2_thumbnail_mask/CHATM2_slide34_2018_01_20-S3_prep2_thumbnail_mask.png\n"
     ]
    },
    {
     "name": "stderr",
     "output_type": "stream",
     "text": [
      "Not using image_cache.\n",
      "Not using image_cache.\n"
     ]
    },
    {
     "name": "stdout",
     "output_type": "stream",
     "text": [
      "/data/CSHL_data_processed/CHATM2/CHATM2_prep2_thumbnail_mask/CHATM2_slide35_2018_01_20-S1_prep2_thumbnail_mask.png\n",
      "/data/CSHL_data_processed/CHATM2/CHATM2_prep2_thumbnail_mask/CHATM2_slide36_2018_01_22-S1_prep2_thumbnail_mask.png\n"
     ]
    },
    {
     "name": "stderr",
     "output_type": "stream",
     "text": [
      "Not using image_cache.\n",
      "Not using image_cache.\n"
     ]
    },
    {
     "name": "stdout",
     "output_type": "stream",
     "text": [
      "/data/CSHL_data_processed/CHATM2/CHATM2_prep2_thumbnail_mask/CHATM2_slide35_2018_01_20-S2_prep2_thumbnail_mask.png\n",
      "/data/CSHL_data_processed/CHATM2/CHATM2_prep2_thumbnail_mask/CHATM2_slide36_2018_01_22-S2_prep2_thumbnail_mask.png\n"
     ]
    },
    {
     "name": "stderr",
     "output_type": "stream",
     "text": [
      "Not using image_cache.\n",
      "Not using image_cache.\n"
     ]
    },
    {
     "name": "stdout",
     "output_type": "stream",
     "text": [
      "/data/CSHL_data_processed/CHATM2/CHATM2_prep2_thumbnail_mask/CHATM2_slide36_2018_01_22-S3_prep2_thumbnail_mask.png\n",
      "/data/CSHL_data_processed/CHATM2/CHATM2_prep2_thumbnail_mask/CHATM2_slide37_2018_01_22-S1_prep2_thumbnail_mask.png\n"
     ]
    },
    {
     "name": "stderr",
     "output_type": "stream",
     "text": [
      "Not using image_cache.\n",
      "Not using image_cache.\n"
     ]
    },
    {
     "name": "stdout",
     "output_type": "stream",
     "text": [
      "/data/CSHL_data_processed/CHATM2/CHATM2_prep2_thumbnail_mask/CHATM2_slide38_2018_01_22-S1_prep2_thumbnail_mask.png\n",
      "/data/CSHL_data_processed/CHATM2/CHATM2_prep2_thumbnail_mask/CHATM2_slide37_2018_01_22-S2_prep2_thumbnail_mask.png\n"
     ]
    },
    {
     "name": "stderr",
     "output_type": "stream",
     "text": [
      "Not using image_cache.\n",
      "Not using image_cache.\n"
     ]
    },
    {
     "name": "stdout",
     "output_type": "stream",
     "text": [
      "/data/CSHL_data_processed/CHATM2/CHATM2_prep2_thumbnail_mask/CHATM2_slide38_2018_01_22-S2_prep2_thumbnail_mask.png\n",
      "/data/CSHL_data_processed/CHATM2/CHATM2_prep2_thumbnail_mask/CHATM2_slide37_2018_01_22-S3_prep2_thumbnail_mask.png\n"
     ]
    },
    {
     "name": "stderr",
     "output_type": "stream",
     "text": [
      "Not using image_cache.\n",
      "Not using image_cache.\n"
     ]
    },
    {
     "name": "stdout",
     "output_type": "stream",
     "text": [
      "/data/CSHL_data_processed/CHATM2/CHATM2_prep2_thumbnail_mask/CHATM2_slide38_2018_01_22-S3_prep2_thumbnail_mask.png\n",
      "/data/CSHL_data_processed/CHATM2/CHATM2_prep2_thumbnail_mask/CHATM2_slide39_2018_01_22-S1_prep2_thumbnail_mask.png\n"
     ]
    },
    {
     "name": "stderr",
     "output_type": "stream",
     "text": [
      "Not using image_cache.\n",
      "Not using image_cache.\n"
     ]
    },
    {
     "name": "stdout",
     "output_type": "stream",
     "text": [
      "/data/CSHL_data_processed/CHATM2/CHATM2_prep2_thumbnail_mask/CHATM2_slide39_2018_01_22-S2_prep2_thumbnail_mask.png\n",
      "/data/CSHL_data_processed/CHATM2/CHATM2_prep2_thumbnail_mask/CHATM2_slide39_2018_01_22-S3_prep2_thumbnail_mask.png\n"
     ]
    },
    {
     "name": "stderr",
     "output_type": "stream",
     "text": [
      "Not using image_cache.\n",
      "Not using image_cache.\n"
     ]
    },
    {
     "name": "stdout",
     "output_type": "stream",
     "text": [
      "/data/CSHL_data_processed/CHATM2/CHATM2_prep2_thumbnail_mask/CHATM2_slide41_2018_01_22-S1_prep2_thumbnail_mask.png\n",
      "/data/CSHL_data_processed/CHATM2/CHATM2_prep2_thumbnail_mask/CHATM2_slide42_2018_01_22-S1_prep2_thumbnail_mask.png\n"
     ]
    },
    {
     "name": "stderr",
     "output_type": "stream",
     "text": [
      "Not using image_cache.\n",
      "Not using image_cache.\n"
     ]
    },
    {
     "name": "stdout",
     "output_type": "stream",
     "text": [
      "/data/CSHL_data_processed/CHATM2/CHATM2_prep2_thumbnail_mask/CHATM2_slide41_2018_01_22-S2_prep2_thumbnail_mask.png\n",
      "/data/CSHL_data_processed/CHATM2/CHATM2_prep2_thumbnail_mask/CHATM2_slide42_2018_01_22-S2_prep2_thumbnail_mask.png\n"
     ]
    },
    {
     "name": "stderr",
     "output_type": "stream",
     "text": [
      "Not using image_cache.\n",
      "Not using image_cache.\n"
     ]
    },
    {
     "name": "stdout",
     "output_type": "stream",
     "text": [
      "/data/CSHL_data_processed/CHATM2/CHATM2_prep2_thumbnail_mask/CHATM2_slide41_2018_01_22-S3_prep2_thumbnail_mask.png\n",
      "/data/CSHL_data_processed/CHATM2/CHATM2_prep2_thumbnail_mask/CHATM2_slide42_2018_01_22-S3_prep2_thumbnail_mask.png\n"
     ]
    },
    {
     "name": "stderr",
     "output_type": "stream",
     "text": [
      "Not using image_cache.\n",
      "Not using image_cache.\n"
     ]
    },
    {
     "name": "stdout",
     "output_type": "stream",
     "text": [
      "/data/CSHL_data_processed/CHATM2/CHATM2_prep2_thumbnail_mask/CHATM2_slide43_2018_01_22-S1_prep2_thumbnail_mask.png\n",
      "/data/CSHL_data_processed/CHATM2/CHATM2_prep2_thumbnail_mask/CHATM2_slide44_2018_01_22-S1_prep2_thumbnail_mask.png\n"
     ]
    },
    {
     "name": "stderr",
     "output_type": "stream",
     "text": [
      "Not using image_cache.\n",
      "Not using image_cache.\n"
     ]
    },
    {
     "name": "stdout",
     "output_type": "stream",
     "text": [
      "/data/CSHL_data_processed/CHATM2/CHATM2_prep2_thumbnail_mask/CHATM2_slide43_2018_01_22-S2_prep2_thumbnail_mask.png\n",
      "/data/CSHL_data_processed/CHATM2/CHATM2_prep2_thumbnail_mask/CHATM2_slide44_2018_01_22-S2_prep2_thumbnail_mask.png\n"
     ]
    },
    {
     "name": "stderr",
     "output_type": "stream",
     "text": [
      "Not using image_cache.\n",
      "Not using image_cache.\n"
     ]
    },
    {
     "name": "stdout",
     "output_type": "stream",
     "text": [
      "/data/CSHL_data_processed/CHATM2/CHATM2_prep2_thumbnail_mask/CHATM2_slide43_2018_01_22-S3_prep2_thumbnail_mask.png\n",
      "/data/CSHL_data_processed/CHATM2/CHATM2_prep2_thumbnail_mask/CHATM2_slide44_2018_01_22-S3_prep2_thumbnail_mask.png\n"
     ]
    },
    {
     "name": "stderr",
     "output_type": "stream",
     "text": [
      "Not using image_cache.\n",
      "Not using image_cache.\n"
     ]
    },
    {
     "name": "stdout",
     "output_type": "stream",
     "text": [
      "/data/CSHL_data_processed/CHATM2/CHATM2_prep2_thumbnail_mask/CHATM2_slide45_2018_01_22-S1_prep2_thumbnail_mask.png\n",
      "/data/CSHL_data_processed/CHATM2/CHATM2_prep2_thumbnail_mask/CHATM2_slide46_2018_01_22-S1_prep2_thumbnail_mask.png\n"
     ]
    },
    {
     "name": "stderr",
     "output_type": "stream",
     "text": [
      "Not using image_cache.\n",
      "Not using image_cache.\n"
     ]
    },
    {
     "name": "stdout",
     "output_type": "stream",
     "text": [
      "/data/CSHL_data_processed/CHATM2/CHATM2_prep2_thumbnail_mask/CHATM2_slide45_2018_01_22-S2_prep2_thumbnail_mask.png\n",
      "/data/CSHL_data_processed/CHATM2/CHATM2_prep2_thumbnail_mask/CHATM2_slide46_2018_01_22-S2_prep2_thumbnail_mask.png\n"
     ]
    },
    {
     "name": "stderr",
     "output_type": "stream",
     "text": [
      "Not using image_cache.\n",
      "Not using image_cache.\n"
     ]
    },
    {
     "name": "stdout",
     "output_type": "stream",
     "text": [
      "/data/CSHL_data_processed/CHATM2/CHATM2_prep2_thumbnail_mask/CHATM2_slide45_2018_01_22-S3_prep2_thumbnail_mask.png\n",
      "/data/CSHL_data_processed/CHATM2/CHATM2_prep2_thumbnail_mask/CHATM2_slide46_2018_01_22-S3_prep2_thumbnail_mask.png\n"
     ]
    },
    {
     "name": "stderr",
     "output_type": "stream",
     "text": [
      "Not using image_cache.\n",
      "Not using image_cache.\n"
     ]
    },
    {
     "name": "stdout",
     "output_type": "stream",
     "text": [
      "/data/CSHL_data_processed/CHATM2/CHATM2_prep2_thumbnail_mask/CHATM2_slide48_2018_01_22-S1_prep2_thumbnail_mask.png\n",
      "/data/CSHL_data_processed/CHATM2/CHATM2_prep2_thumbnail_mask/CHATM2_slide48_2018_01_22-S2_prep2_thumbnail_mask.png\n"
     ]
    },
    {
     "name": "stderr",
     "output_type": "stream",
     "text": [
      "Not using image_cache.\n",
      "Not using image_cache.\n"
     ]
    },
    {
     "name": "stdout",
     "output_type": "stream",
     "text": [
      "/data/CSHL_data_processed/CHATM2/CHATM2_prep2_thumbnail_mask/CHATM2_slide48_2018_01_22-S3_prep2_thumbnail_mask.png\n",
      "/data/CSHL_data_processed/CHATM2/CHATM2_prep2_thumbnail_mask/CHATM2_slide49_2018_01_22-S1_prep2_thumbnail_mask.png\n"
     ]
    },
    {
     "name": "stderr",
     "output_type": "stream",
     "text": [
      "Not using image_cache.\n",
      "Not using image_cache.\n"
     ]
    },
    {
     "name": "stdout",
     "output_type": "stream",
     "text": [
      "/data/CSHL_data_processed/CHATM2/CHATM2_prep2_thumbnail_mask/CHATM2_slide50_2018_01_22-S1_prep2_thumbnail_mask.png\n",
      "/data/CSHL_data_processed/CHATM2/CHATM2_prep2_thumbnail_mask/CHATM2_slide49_2018_01_22-S2_prep2_thumbnail_mask.png\n"
     ]
    },
    {
     "name": "stderr",
     "output_type": "stream",
     "text": [
      "Not using image_cache.\n",
      "Not using image_cache.\n"
     ]
    },
    {
     "name": "stdout",
     "output_type": "stream",
     "text": [
      "/data/CSHL_data_processed/CHATM2/CHATM2_prep2_thumbnail_mask/CHATM2_slide50_2018_01_22-S2_prep2_thumbnail_mask.png\n",
      "/data/CSHL_data_processed/CHATM2/CHATM2_prep2_thumbnail_mask/CHATM2_slide50_2018_01_22-S3_prep2_thumbnail_mask.png\n"
     ]
    },
    {
     "name": "stderr",
     "output_type": "stream",
     "text": [
      "Not using image_cache.\n",
      "Not using image_cache.\n"
     ]
    },
    {
     "name": "stdout",
     "output_type": "stream",
     "text": [
      "/data/CSHL_data_processed/CHATM2/CHATM2_prep2_thumbnail_mask/CHATM2_slide51_2018_01_22-S1_prep2_thumbnail_mask.png\n",
      "/data/CSHL_data_processed/CHATM2/CHATM2_prep2_thumbnail_mask/CHATM2_slide52_2018_01_22-S1_prep2_thumbnail_mask.png\n"
     ]
    },
    {
     "name": "stderr",
     "output_type": "stream",
     "text": [
      "Not using image_cache.\n",
      "Not using image_cache.\n"
     ]
    },
    {
     "name": "stdout",
     "output_type": "stream",
     "text": [
      "/data/CSHL_data_processed/CHATM2/CHATM2_prep2_thumbnail_mask/CHATM2_slide51_2018_01_22-S2_prep2_thumbnail_mask.png\n",
      "/data/CSHL_data_processed/CHATM2/CHATM2_prep2_thumbnail_mask/CHATM2_slide52_2018_01_22-S2_prep2_thumbnail_mask.png\n"
     ]
    },
    {
     "name": "stderr",
     "output_type": "stream",
     "text": [
      "Not using image_cache.\n"
     ]
    },
    {
     "name": "stdout",
     "output_type": "stream",
     "text": [
      "/data/CSHL_data_processed/CHATM2/CHATM2_prep2_thumbnail_mask/CHATM2_slide51_2018_01_22-S3_prep2_thumbnail_mask.png\n",
      "(585, 917, 137)\n",
      "aws s3 cp \"/home/yuncong/CSHL_volumes/CHATM2/CHATM2_detector799_10.0um_scoreVolume/score_volumes/CHATM2_detector799_10.0um_scoreVolume_7N_L.bp\" \"s3://mousebrainatlas-data/CSHL_volumes/CHATM2/CHATM2_detector799_10.0um_scoreVolume/score_volumes/CHATM2_detector799_10.0um_scoreVolume_7N_L.bp\"\n",
      "0\n",
      "aws s3 cp \"/home/yuncong/CSHL_volumes/CHATM2/CHATM2_detector799_10.0um_scoreVolume/score_volumes/CHATM2_detector799_10.0um_scoreVolume_7N_L_origin_wrt_wholebrain.txt\" \"s3://mousebrainatlas-data/CSHL_volumes/CHATM2/CHATM2_detector799_10.0um_scoreVolume/score_volumes/CHATM2_detector799_10.0um_scoreVolume_7N_L_origin_wrt_wholebrain.txt\"\n",
      "0\n",
      "aws s3 cp \"/home/yuncong/CSHL_volumes/CHATM2/CHATM2_detector799_10.0um_scoreVolume/score_volume_gradients/CHATM2_detector799_10.0um_scoreVolume_7N_L_gradients.bp\" \"s3://mousebrainatlas-data/CSHL_volumes/CHATM2/CHATM2_detector799_10.0um_scoreVolume/score_volume_gradients/CHATM2_detector799_10.0um_scoreVolume_7N_L_gradients.bp\"\n",
      "0\n",
      "aws s3 cp \"/home/yuncong/CSHL_volumes/CHATM2/CHATM2_detector799_10.0um_scoreVolume/score_volume_gradients/CHATM2_detector799_10.0um_scoreVolume_7N_L_origin_wrt_wholebrain.txt\" \"s3://mousebrainatlas-data/CSHL_volumes/CHATM2/CHATM2_detector799_10.0um_scoreVolume/score_volume_gradients/CHATM2_detector799_10.0um_scoreVolume_7N_L_origin_wrt_wholebrain.txt\"\n",
      "0\n",
      "/data/CSHL_data_processed/CHATM2/CHATM2_prep2_thumbnail_mask/CHATM2_slide68_2018_02_14-S2_prep2_thumbnail_mask.png\n",
      "/data/CSHL_data_processed/CHATM2/CHATM2_prep2_thumbnail_mask/CHATM2_slide70_2018_02_14-S1_prep2_thumbnail_mask.png\n"
     ]
    },
    {
     "name": "stderr",
     "output_type": "stream",
     "text": [
      "Not using image_cache.\n",
      "Not using image_cache.\n",
      "Not using image_cache.\n",
      "Not using image_cache.\n"
     ]
    },
    {
     "name": "stdout",
     "output_type": "stream",
     "text": [
      "/data/CSHL_data_processed/CHATM2/CHATM2_prep2_thumbnail_mask/CHATM2_slide70_2018_02_14-S2_prep2_thumbnail_mask.png\n",
      "/data/CSHL_data_processed/CHATM2/CHATM2_prep2_thumbnail_mask/CHATM2_slide70_2018_02_14-S3_prep2_thumbnail_mask.png\n"
     ]
    },
    {
     "name": "stderr",
     "output_type": "stream",
     "text": [
      "Not using image_cache.\n",
      "Not using image_cache.\n"
     ]
    },
    {
     "name": "stdout",
     "output_type": "stream",
     "text": [
      "/data/CSHL_data_processed/CHATM2/CHATM2_prep2_thumbnail_mask/CHATM2_slide72_2018_02_14-S1_prep2_thumbnail_mask.png\n",
      "/data/CSHL_data_processed/CHATM2/CHATM2_prep2_thumbnail_mask/CHATM2_slide72_2018_02_14-S2_prep2_thumbnail_mask.png\n"
     ]
    },
    {
     "name": "stderr",
     "output_type": "stream",
     "text": [
      "Not using image_cache.\n",
      "Not using image_cache.\n"
     ]
    },
    {
     "name": "stdout",
     "output_type": "stream",
     "text": [
      "/data/CSHL_data_processed/CHATM2/CHATM2_prep2_thumbnail_mask/CHATM2_slide72_2018_02_14-S3_prep2_thumbnail_mask.png\n",
      "/data/CSHL_data_processed/CHATM2/CHATM2_prep2_thumbnail_mask/CHATM2_slide74_2018_02_14-S1_prep2_thumbnail_mask.png\n"
     ]
    },
    {
     "name": "stderr",
     "output_type": "stream",
     "text": [
      "Not using image_cache.\n",
      "Not using image_cache.\n"
     ]
    },
    {
     "name": "stdout",
     "output_type": "stream",
     "text": [
      "/data/CSHL_data_processed/CHATM2/CHATM2_prep2_thumbnail_mask/CHATM2_slide74_2018_02_14-S2_prep2_thumbnail_mask.png\n",
      "/data/CSHL_data_processed/CHATM2/CHATM2_prep2_thumbnail_mask/CHATM2_slide74_2018_02_14-S3_prep2_thumbnail_mask.png\n"
     ]
    },
    {
     "name": "stderr",
     "output_type": "stream",
     "text": [
      "Not using image_cache.\n",
      "Not using image_cache.\n"
     ]
    },
    {
     "name": "stdout",
     "output_type": "stream",
     "text": [
      "/data/CSHL_data_processed/CHATM2/CHATM2_prep2_thumbnail_mask/CHATM2_slide76_2018_02_14-S1_prep2_thumbnail_mask.png\n",
      "/data/CSHL_data_processed/CHATM2/CHATM2_prep2_thumbnail_mask/CHATM2_slide76_2018_02_14-S2_prep2_thumbnail_mask.png\n"
     ]
    },
    {
     "name": "stderr",
     "output_type": "stream",
     "text": [
      "Not using image_cache.\n",
      "Not using image_cache.\n"
     ]
    },
    {
     "name": "stdout",
     "output_type": "stream",
     "text": [
      "/data/CSHL_data_processed/CHATM2/CHATM2_prep2_thumbnail_mask/CHATM2_slide76_2018_02_14-S3_prep2_thumbnail_mask.png\n",
      "/data/CSHL_data_processed/CHATM2/CHATM2_prep2_thumbnail_mask/CHATM2_slide78_2018_02_14-S1_prep2_thumbnail_mask.png\n"
     ]
    },
    {
     "name": "stderr",
     "output_type": "stream",
     "text": [
      "Not using image_cache.\n",
      "Not using image_cache.\n"
     ]
    },
    {
     "name": "stdout",
     "output_type": "stream",
     "text": [
      "/data/CSHL_data_processed/CHATM2/CHATM2_prep2_thumbnail_mask/CHATM2_slide78_2018_02_14-S2_prep2_thumbnail_mask.png\n",
      "/data/CSHL_data_processed/CHATM2/CHATM2_prep2_thumbnail_mask/CHATM2_slide78_2018_02_14-S3_prep2_thumbnail_mask.png\n"
     ]
    },
    {
     "name": "stderr",
     "output_type": "stream",
     "text": [
      "Not using image_cache.\n",
      "Not using image_cache.\n"
     ]
    },
    {
     "name": "stdout",
     "output_type": "stream",
     "text": [
      "/data/CSHL_data_processed/CHATM2/CHATM2_prep2_thumbnail_mask/CHATM2_slide80_2018_02_14-S1_prep2_thumbnail_mask.png\n",
      "/data/CSHL_data_processed/CHATM2/CHATM2_prep2_thumbnail_mask/CHATM2_slide80_2018_02_14-S2_prep2_thumbnail_mask.png\n"
     ]
    },
    {
     "name": "stderr",
     "output_type": "stream",
     "text": [
      "Not using image_cache.\n",
      "Not using image_cache.\n"
     ]
    },
    {
     "name": "stdout",
     "output_type": "stream",
     "text": [
      "/data/CSHL_data_processed/CHATM2/CHATM2_prep2_thumbnail_mask/CHATM2_slide80_2018_02_14-S3_prep2_thumbnail_mask.png\n",
      "/data/CSHL_data_processed/CHATM2/CHATM2_prep2_thumbnail_mask/CHATM2_slide82_2018_02_14-S1_prep2_thumbnail_mask.png\n"
     ]
    },
    {
     "name": "stderr",
     "output_type": "stream",
     "text": [
      "Not using image_cache.\n",
      "Not using image_cache.\n"
     ]
    },
    {
     "name": "stdout",
     "output_type": "stream",
     "text": [
      "/data/CSHL_data_processed/CHATM2/CHATM2_prep2_thumbnail_mask/CHATM2_slide82_2018_02_14-S2_prep2_thumbnail_mask.png\n",
      "/data/CSHL_data_processed/CHATM2/CHATM2_prep2_thumbnail_mask/CHATM2_slide82_2018_02_14-S3_prep2_thumbnail_mask.png\n"
     ]
    },
    {
     "name": "stderr",
     "output_type": "stream",
     "text": [
      "Not using image_cache.\n",
      "Not using image_cache.\n"
     ]
    },
    {
     "name": "stdout",
     "output_type": "stream",
     "text": [
      "/data/CSHL_data_processed/CHATM2/CHATM2_prep2_thumbnail_mask/CHATM2_slide84_2018_02_14-S1_prep2_thumbnail_mask.png\n",
      "/data/CSHL_data_processed/CHATM2/CHATM2_prep2_thumbnail_mask/CHATM2_slide84_2018_02_14-S2_prep2_thumbnail_mask.png\n"
     ]
    },
    {
     "name": "stderr",
     "output_type": "stream",
     "text": [
      "Not using image_cache.\n",
      "Not using image_cache.\n"
     ]
    },
    {
     "name": "stdout",
     "output_type": "stream",
     "text": [
      "/data/CSHL_data_processed/CHATM2/CHATM2_prep2_thumbnail_mask/CHATM2_slide84_2018_02_14-S3_prep2_thumbnail_mask.png\n",
      "/data/CSHL_data_processed/CHATM2/CHATM2_prep2_thumbnail_mask/CHATM2_slide86_2018_02_13-S1_prep2_thumbnail_mask.png\n"
     ]
    },
    {
     "name": "stderr",
     "output_type": "stream",
     "text": [
      "Not using image_cache.\n",
      "Not using image_cache.\n"
     ]
    },
    {
     "name": "stdout",
     "output_type": "stream",
     "text": [
      "/data/CSHL_data_processed/CHATM2/CHATM2_prep2_thumbnail_mask/CHATM2_slide86_2018_02_13-S2_prep2_thumbnail_mask.png\n",
      "/data/CSHL_data_processed/CHATM2/CHATM2_prep2_thumbnail_mask/CHATM2_slide86_2018_02_13-S3_prep2_thumbnail_mask.png\n"
     ]
    },
    {
     "name": "stderr",
     "output_type": "stream",
     "text": [
      "Not using image_cache.\n",
      "Not using image_cache.\n"
     ]
    },
    {
     "name": "stdout",
     "output_type": "stream",
     "text": [
      "/data/CSHL_data_processed/CHATM2/CHATM2_prep2_thumbnail_mask/CHATM2_slide88_2018_02_13-S1_prep2_thumbnail_mask.png\n",
      "/data/CSHL_data_processed/CHATM2/CHATM2_prep2_thumbnail_mask/CHATM2_slide88_2018_02_13-S2_prep2_thumbnail_mask.png\n"
     ]
    },
    {
     "name": "stderr",
     "output_type": "stream",
     "text": [
      "Not using image_cache.\n",
      "Not using image_cache.\n"
     ]
    },
    {
     "name": "stdout",
     "output_type": "stream",
     "text": [
      "/data/CSHL_data_processed/CHATM2/CHATM2_prep2_thumbnail_mask/CHATM2_slide88_2018_02_13-S3_prep2_thumbnail_mask.png\n",
      "/data/CSHL_data_processed/CHATM2/CHATM2_prep2_thumbnail_mask/CHATM2_slide90_2018_02_13-S1_prep2_thumbnail_mask.png\n"
     ]
    },
    {
     "name": "stderr",
     "output_type": "stream",
     "text": [
      "Not using image_cache.\n"
     ]
    },
    {
     "name": "stdout",
     "output_type": "stream",
     "text": [
      "/data/CSHL_data_processed/CHATM2/CHATM2_prep2_thumbnail_mask/CHATM2_slide90_2018_02_13-S2_prep2_thumbnail_mask.png\n",
      "(590, 917, 135)\n",
      "aws s3 cp \"/home/yuncong/CSHL_volumes/CHATM2/CHATM2_detector799_10.0um_scoreVolume/score_volumes/CHATM2_detector799_10.0um_scoreVolume_7N_R.bp\" \"s3://mousebrainatlas-data/CSHL_volumes/CHATM2/CHATM2_detector799_10.0um_scoreVolume/score_volumes/CHATM2_detector799_10.0um_scoreVolume_7N_R.bp\"\n",
      "0\n",
      "aws s3 cp \"/home/yuncong/CSHL_volumes/CHATM2/CHATM2_detector799_10.0um_scoreVolume/score_volumes/CHATM2_detector799_10.0um_scoreVolume_7N_R_origin_wrt_wholebrain.txt\" \"s3://mousebrainatlas-data/CSHL_volumes/CHATM2/CHATM2_detector799_10.0um_scoreVolume/score_volumes/CHATM2_detector799_10.0um_scoreVolume_7N_R_origin_wrt_wholebrain.txt\"\n",
      "0\n",
      "aws s3 cp \"/home/yuncong/CSHL_volumes/CHATM2/CHATM2_detector799_10.0um_scoreVolume/score_volume_gradients/CHATM2_detector799_10.0um_scoreVolume_7N_R_gradients.bp\" \"s3://mousebrainatlas-data/CSHL_volumes/CHATM2/CHATM2_detector799_10.0um_scoreVolume/score_volume_gradients/CHATM2_detector799_10.0um_scoreVolume_7N_R_gradients.bp\"\n",
      "0\n",
      "aws s3 cp \"/home/yuncong/CSHL_volumes/CHATM2/CHATM2_detector799_10.0um_scoreVolume/score_volume_gradients/CHATM2_detector799_10.0um_scoreVolume_7N_R_origin_wrt_wholebrain.txt\" \"s3://mousebrainatlas-data/CSHL_volumes/CHATM2/CHATM2_detector799_10.0um_scoreVolume/score_volume_gradients/CHATM2_detector799_10.0um_scoreVolume_7N_R_origin_wrt_wholebrain.txt\"\n",
      "0\n",
      "/data/CSHL_data_processed/CHATM2/CHATM2_prep2_thumbnail_mask/CHATM2_slide48_2018_01_22-S2_prep2_thumbnail_mask.png\n",
      "/data/CSHL_data_processed/CHATM2/CHATM2_prep2_thumbnail_mask/CHATM2_slide48_2018_01_22-S3_prep2_thumbnail_mask.png\n"
     ]
    },
    {
     "name": "stderr",
     "output_type": "stream",
     "text": [
      "Not using image_cache.\n",
      "Not using image_cache.\n",
      "Not using image_cache.\n",
      "Not using image_cache.\n"
     ]
    },
    {
     "name": "stdout",
     "output_type": "stream",
     "text": [
      "/data/CSHL_data_processed/CHATM2/CHATM2_prep2_thumbnail_mask/CHATM2_slide49_2018_01_22-S1_prep2_thumbnail_mask.png\n",
      "/data/CSHL_data_processed/CHATM2/CHATM2_prep2_thumbnail_mask/CHATM2_slide50_2018_01_22-S1_prep2_thumbnail_mask.png\n"
     ]
    },
    {
     "name": "stderr",
     "output_type": "stream",
     "text": [
      "Not using image_cache.\n",
      "Not using image_cache.\n"
     ]
    },
    {
     "name": "stdout",
     "output_type": "stream",
     "text": [
      "/data/CSHL_data_processed/CHATM2/CHATM2_prep2_thumbnail_mask/CHATM2_slide49_2018_01_22-S2_prep2_thumbnail_mask.png\n",
      "/data/CSHL_data_processed/CHATM2/CHATM2_prep2_thumbnail_mask/CHATM2_slide50_2018_01_22-S2_prep2_thumbnail_mask.png\n"
     ]
    },
    {
     "name": "stderr",
     "output_type": "stream",
     "text": [
      "Not using image_cache.\n",
      "Not using image_cache.\n"
     ]
    },
    {
     "name": "stdout",
     "output_type": "stream",
     "text": [
      "/data/CSHL_data_processed/CHATM2/CHATM2_prep2_thumbnail_mask/CHATM2_slide50_2018_01_22-S3_prep2_thumbnail_mask.png\n",
      "/data/CSHL_data_processed/CHATM2/CHATM2_prep2_thumbnail_mask/CHATM2_slide51_2018_01_22-S1_prep2_thumbnail_mask.png\n"
     ]
    },
    {
     "name": "stderr",
     "output_type": "stream",
     "text": [
      "Not using image_cache.\n",
      "Not using image_cache.\n"
     ]
    },
    {
     "name": "stdout",
     "output_type": "stream",
     "text": [
      "/data/CSHL_data_processed/CHATM2/CHATM2_prep2_thumbnail_mask/CHATM2_slide52_2018_01_22-S1_prep2_thumbnail_mask.png\n",
      "/data/CSHL_data_processed/CHATM2/CHATM2_prep2_thumbnail_mask/CHATM2_slide51_2018_01_22-S2_prep2_thumbnail_mask.png\n"
     ]
    },
    {
     "name": "stderr",
     "output_type": "stream",
     "text": [
      "Not using image_cache.\n",
      "Not using image_cache.\n"
     ]
    },
    {
     "name": "stdout",
     "output_type": "stream",
     "text": [
      "/data/CSHL_data_processed/CHATM2/CHATM2_prep2_thumbnail_mask/CHATM2_slide52_2018_01_22-S2_prep2_thumbnail_mask.png\n",
      "/data/CSHL_data_processed/CHATM2/CHATM2_prep2_thumbnail_mask/CHATM2_slide51_2018_01_22-S3_prep2_thumbnail_mask.png\n"
     ]
    },
    {
     "name": "stderr",
     "output_type": "stream",
     "text": [
      "Not using image_cache.\n",
      "Not using image_cache.\n"
     ]
    },
    {
     "name": "stdout",
     "output_type": "stream",
     "text": [
      "/data/CSHL_data_processed/CHATM2/CHATM2_prep2_thumbnail_mask/CHATM2_slide52_2018_01_22-S3_prep2_thumbnail_mask.png\n",
      "/data/CSHL_data_processed/CHATM2/CHATM2_prep2_thumbnail_mask/CHATM2_slide53_2018_01_22-S1_prep2_thumbnail_mask.png\n"
     ]
    },
    {
     "name": "stderr",
     "output_type": "stream",
     "text": [
      "Not using image_cache.\n",
      "Not using image_cache.\n"
     ]
    },
    {
     "name": "stdout",
     "output_type": "stream",
     "text": [
      "/data/CSHL_data_processed/CHATM2/CHATM2_prep2_thumbnail_mask/CHATM2_slide54_2018_01_22-S1_prep2_thumbnail_mask.png\n",
      "/data/CSHL_data_processed/CHATM2/CHATM2_prep2_thumbnail_mask/CHATM2_slide53_2018_01_22-S2_prep2_thumbnail_mask.png\n"
     ]
    },
    {
     "name": "stderr",
     "output_type": "stream",
     "text": [
      "Not using image_cache.\n",
      "Not using image_cache.\n"
     ]
    },
    {
     "name": "stdout",
     "output_type": "stream",
     "text": [
      "/data/CSHL_data_processed/CHATM2/CHATM2_prep2_thumbnail_mask/CHATM2_slide54_2018_01_22-S2_prep2_thumbnail_mask.png\n",
      "/data/CSHL_data_processed/CHATM2/CHATM2_prep2_thumbnail_mask/CHATM2_slide53_2018_01_22-S3_prep2_thumbnail_mask.png\n"
     ]
    },
    {
     "name": "stderr",
     "output_type": "stream",
     "text": [
      "Not using image_cache.\n",
      "Not using image_cache.\n"
     ]
    },
    {
     "name": "stdout",
     "output_type": "stream",
     "text": [
      "/data/CSHL_data_processed/CHATM2/CHATM2_prep2_thumbnail_mask/CHATM2_slide54_2018_01_22-S3_prep2_thumbnail_mask.png\n",
      "/data/CSHL_data_processed/CHATM2/CHATM2_prep2_thumbnail_mask/CHATM2_slide55_2018_01_22-S1_prep2_thumbnail_mask.png\n"
     ]
    },
    {
     "name": "stderr",
     "output_type": "stream",
     "text": [
      "Not using image_cache.\n",
      "Not using image_cache.\n"
     ]
    },
    {
     "name": "stdout",
     "output_type": "stream",
     "text": [
      "/data/CSHL_data_processed/CHATM2/CHATM2_prep2_thumbnail_mask/CHATM2_slide56_2018_01_22-S1_prep2_thumbnail_mask.png\n",
      "/data/CSHL_data_processed/CHATM2/CHATM2_prep2_thumbnail_mask/CHATM2_slide55_2018_01_22-S2_prep2_thumbnail_mask.png\n"
     ]
    },
    {
     "name": "stderr",
     "output_type": "stream",
     "text": [
      "Not using image_cache.\n",
      "Not using image_cache.\n"
     ]
    },
    {
     "name": "stdout",
     "output_type": "stream",
     "text": [
      "/data/CSHL_data_processed/CHATM2/CHATM2_prep2_thumbnail_mask/CHATM2_slide56_2018_01_22-S2_prep2_thumbnail_mask.png\n",
      "/data/CSHL_data_processed/CHATM2/CHATM2_prep2_thumbnail_mask/CHATM2_slide55_2018_01_22-S3_prep2_thumbnail_mask.png\n"
     ]
    },
    {
     "name": "stderr",
     "output_type": "stream",
     "text": [
      "Not using image_cache.\n",
      "Not using image_cache.\n"
     ]
    },
    {
     "name": "stdout",
     "output_type": "stream",
     "text": [
      "/data/CSHL_data_processed/CHATM2/CHATM2_prep2_thumbnail_mask/CHATM2_slide56_2018_01_22-S3_prep2_thumbnail_mask.png\n",
      "/data/CSHL_data_processed/CHATM2/CHATM2_prep2_thumbnail_mask/CHATM2_slide57_2018_01_22-S1_prep2_thumbnail_mask.png\n"
     ]
    },
    {
     "name": "stderr",
     "output_type": "stream",
     "text": [
      "Not using image_cache.\n",
      "Not using image_cache.\n"
     ]
    },
    {
     "name": "stdout",
     "output_type": "stream",
     "text": [
      "/data/CSHL_data_processed/CHATM2/CHATM2_prep2_thumbnail_mask/CHATM2_slide58_2018_01_22-S1_prep2_thumbnail_mask.png\n",
      "/data/CSHL_data_processed/CHATM2/CHATM2_prep2_thumbnail_mask/CHATM2_slide57_2018_01_22-S2_prep2_thumbnail_mask.png\n"
     ]
    },
    {
     "name": "stderr",
     "output_type": "stream",
     "text": [
      "Not using image_cache.\n",
      "Not using image_cache.\n"
     ]
    },
    {
     "name": "stdout",
     "output_type": "stream",
     "text": [
      "/data/CSHL_data_processed/CHATM2/CHATM2_prep2_thumbnail_mask/CHATM2_slide58_2018_01_22-S2_prep2_thumbnail_mask.png\n",
      "/data/CSHL_data_processed/CHATM2/CHATM2_prep2_thumbnail_mask/CHATM2_slide57_2018_01_22-S3_prep2_thumbnail_mask.png\n"
     ]
    },
    {
     "name": "stderr",
     "output_type": "stream",
     "text": [
      "Not using image_cache.\n",
      "Not using image_cache.\n"
     ]
    },
    {
     "name": "stdout",
     "output_type": "stream",
     "text": [
      "/data/CSHL_data_processed/CHATM2/CHATM2_prep2_thumbnail_mask/CHATM2_slide62_2018_02_14-S1_prep2_thumbnail_mask.png\n",
      "/data/CSHL_data_processed/CHATM2/CHATM2_prep2_thumbnail_mask/CHATM2_slide62_2018_02_14-S2_prep2_thumbnail_mask.png\n",
      "(585, 917, 93)\n",
      "aws s3 cp \"/home/yuncong/CSHL_volumes/CHATM2/CHATM2_detector799_10.0um_scoreVolume/score_volumes/CHATM2_detector799_10.0um_scoreVolume_10N_L.bp\" \"s3://mousebrainatlas-data/CSHL_volumes/CHATM2/CHATM2_detector799_10.0um_scoreVolume/score_volumes/CHATM2_detector799_10.0um_scoreVolume_10N_L.bp\"\n",
      "0\n",
      "aws s3 cp \"/home/yuncong/CSHL_volumes/CHATM2/CHATM2_detector799_10.0um_scoreVolume/score_volumes/CHATM2_detector799_10.0um_scoreVolume_10N_L_origin_wrt_wholebrain.txt\" \"s3://mousebrainatlas-data/CSHL_volumes/CHATM2/CHATM2_detector799_10.0um_scoreVolume/score_volumes/CHATM2_detector799_10.0um_scoreVolume_10N_L_origin_wrt_wholebrain.txt\"\n",
      "0\n",
      "aws s3 cp \"/home/yuncong/CSHL_volumes/CHATM2/CHATM2_detector799_10.0um_scoreVolume/score_volume_gradients/CHATM2_detector799_10.0um_scoreVolume_10N_L_gradients.bp\" \"s3://mousebrainatlas-data/CSHL_volumes/CHATM2/CHATM2_detector799_10.0um_scoreVolume/score_volume_gradients/CHATM2_detector799_10.0um_scoreVolume_10N_L_gradients.bp\"\n",
      "0\n",
      "aws s3 cp \"/home/yuncong/CSHL_volumes/CHATM2/CHATM2_detector799_10.0um_scoreVolume/score_volume_gradients/CHATM2_detector799_10.0um_scoreVolume_10N_L_origin_wrt_wholebrain.txt\" \"s3://mousebrainatlas-data/CSHL_volumes/CHATM2/CHATM2_detector799_10.0um_scoreVolume/score_volume_gradients/CHATM2_detector799_10.0um_scoreVolume_10N_L_origin_wrt_wholebrain.txt\"\n",
      "0\n",
      "/data/CSHL_data_processed/CHATM2/CHATM2_prep2_thumbnail_mask/CHATM2_slide57_2018_01_22-S2_prep2_thumbnail_mask.png\n",
      "/data/CSHL_data_processed/CHATM2/CHATM2_prep2_thumbnail_mask/CHATM2_slide58_2018_01_22-S2_prep2_thumbnail_mask.png\n"
     ]
    },
    {
     "name": "stderr",
     "output_type": "stream",
     "text": [
      "Not using image_cache.\n",
      "Not using image_cache.\n",
      "Not using image_cache.\n",
      "Not using image_cache.\n"
     ]
    },
    {
     "name": "stdout",
     "output_type": "stream",
     "text": [
      "/data/CSHL_data_processed/CHATM2/CHATM2_prep2_thumbnail_mask/CHATM2_slide57_2018_01_22-S3_prep2_thumbnail_mask.png\n",
      "/data/CSHL_data_processed/CHATM2/CHATM2_prep2_thumbnail_mask/CHATM2_slide62_2018_02_14-S1_prep2_thumbnail_mask.png\n"
     ]
    },
    {
     "name": "stderr",
     "output_type": "stream",
     "text": [
      "Not using image_cache.\n",
      "Not using image_cache.\n"
     ]
    },
    {
     "name": "stdout",
     "output_type": "stream",
     "text": [
      "/data/CSHL_data_processed/CHATM2/CHATM2_prep2_thumbnail_mask/CHATM2_slide62_2018_02_14-S2_prep2_thumbnail_mask.png\n",
      "/data/CSHL_data_processed/CHATM2/CHATM2_prep2_thumbnail_mask/CHATM2_slide62_2018_02_14-S3_prep2_thumbnail_mask.png\n"
     ]
    },
    {
     "name": "stderr",
     "output_type": "stream",
     "text": [
      "Not using image_cache.\n",
      "Not using image_cache.\n"
     ]
    },
    {
     "name": "stdout",
     "output_type": "stream",
     "text": [
      "/data/CSHL_data_processed/CHATM2/CHATM2_prep2_thumbnail_mask/CHATM2_slide64_2018_02_15-S1_prep2_thumbnail_mask.png\n",
      "/data/CSHL_data_processed/CHATM2/CHATM2_prep2_thumbnail_mask/CHATM2_slide64_2018_02_15-S2_prep2_thumbnail_mask.png\n"
     ]
    },
    {
     "name": "stderr",
     "output_type": "stream",
     "text": [
      "Not using image_cache.\n",
      "Not using image_cache.\n"
     ]
    },
    {
     "name": "stdout",
     "output_type": "stream",
     "text": [
      "/data/CSHL_data_processed/CHATM2/CHATM2_prep2_thumbnail_mask/CHATM2_slide64_2018_02_15-S3_prep2_thumbnail_mask.png\n",
      "/data/CSHL_data_processed/CHATM2/CHATM2_prep2_thumbnail_mask/CHATM2_slide66_2018_02_14-S1_prep2_thumbnail_mask.png\n"
     ]
    },
    {
     "name": "stderr",
     "output_type": "stream",
     "text": [
      "Not using image_cache.\n",
      "Not using image_cache.\n"
     ]
    },
    {
     "name": "stdout",
     "output_type": "stream",
     "text": [
      "/data/CSHL_data_processed/CHATM2/CHATM2_prep2_thumbnail_mask/CHATM2_slide66_2018_02_14-S2_prep2_thumbnail_mask.png\n",
      "/data/CSHL_data_processed/CHATM2/CHATM2_prep2_thumbnail_mask/CHATM2_slide66_2018_02_14-S3_prep2_thumbnail_mask.png\n"
     ]
    },
    {
     "name": "stderr",
     "output_type": "stream",
     "text": [
      "Not using image_cache.\n",
      "Not using image_cache.\n"
     ]
    },
    {
     "name": "stdout",
     "output_type": "stream",
     "text": [
      "/data/CSHL_data_processed/CHATM2/CHATM2_prep2_thumbnail_mask/CHATM2_slide68_2018_02_14-S1_prep2_thumbnail_mask.png\n",
      "/data/CSHL_data_processed/CHATM2/CHATM2_prep2_thumbnail_mask/CHATM2_slide68_2018_02_14-S2_prep2_thumbnail_mask.png\n"
     ]
    },
    {
     "name": "stderr",
     "output_type": "stream",
     "text": [
      "Not using image_cache.\n",
      "Not using image_cache.\n"
     ]
    },
    {
     "name": "stdout",
     "output_type": "stream",
     "text": [
      "/data/CSHL_data_processed/CHATM2/CHATM2_prep2_thumbnail_mask/CHATM2_slide70_2018_02_14-S1_prep2_thumbnail_mask.png\n",
      "/data/CSHL_data_processed/CHATM2/CHATM2_prep2_thumbnail_mask/CHATM2_slide70_2018_02_14-S2_prep2_thumbnail_mask.png\n"
     ]
    },
    {
     "name": "stderr",
     "output_type": "stream",
     "text": [
      "Not using image_cache.\n",
      "Not using image_cache.\n"
     ]
    },
    {
     "name": "stdout",
     "output_type": "stream",
     "text": [
      "/data/CSHL_data_processed/CHATM2/CHATM2_prep2_thumbnail_mask/CHATM2_slide70_2018_02_14-S3_prep2_thumbnail_mask.png\n",
      "/data/CSHL_data_processed/CHATM2/CHATM2_prep2_thumbnail_mask/CHATM2_slide72_2018_02_14-S1_prep2_thumbnail_mask.png\n"
     ]
    },
    {
     "name": "stderr",
     "output_type": "stream",
     "text": [
      "Not using image_cache.\n"
     ]
    },
    {
     "name": "stdout",
     "output_type": "stream",
     "text": [
      "/data/CSHL_data_processed/CHATM2/CHATM2_prep2_thumbnail_mask/CHATM2_slide72_2018_02_14-S2_prep2_thumbnail_mask.png\n",
      "(126, 186, 95)\n",
      "aws s3 cp \"/home/yuncong/CSHL_volumes/CHATM2/CHATM2_detector799_10.0um_scoreVolume/score_volumes/CHATM2_detector799_10.0um_scoreVolume_10N_R.bp\" \"s3://mousebrainatlas-data/CSHL_volumes/CHATM2/CHATM2_detector799_10.0um_scoreVolume/score_volumes/CHATM2_detector799_10.0um_scoreVolume_10N_R.bp\"\n",
      "0\n",
      "aws s3 cp \"/home/yuncong/CSHL_volumes/CHATM2/CHATM2_detector799_10.0um_scoreVolume/score_volumes/CHATM2_detector799_10.0um_scoreVolume_10N_R_origin_wrt_wholebrain.txt\" \"s3://mousebrainatlas-data/CSHL_volumes/CHATM2/CHATM2_detector799_10.0um_scoreVolume/score_volumes/CHATM2_detector799_10.0um_scoreVolume_10N_R_origin_wrt_wholebrain.txt\"\n",
      "0\n",
      "aws s3 cp \"/home/yuncong/CSHL_volumes/CHATM2/CHATM2_detector799_10.0um_scoreVolume/score_volume_gradients/CHATM2_detector799_10.0um_scoreVolume_10N_R_gradients.bp\" \"s3://mousebrainatlas-data/CSHL_volumes/CHATM2/CHATM2_detector799_10.0um_scoreVolume/score_volume_gradients/CHATM2_detector799_10.0um_scoreVolume_10N_R_gradients.bp\"\n",
      "0\n",
      "aws s3 cp \"/home/yuncong/CSHL_volumes/CHATM2/CHATM2_detector799_10.0um_scoreVolume/score_volume_gradients/CHATM2_detector799_10.0um_scoreVolume_10N_R_origin_wrt_wholebrain.txt\" \"s3://mousebrainatlas-data/CSHL_volumes/CHATM2/CHATM2_detector799_10.0um_scoreVolume/score_volume_gradients/CHATM2_detector799_10.0um_scoreVolume_10N_R_origin_wrt_wholebrain.txt\"\n",
      "0\n",
      "/data/CSHL_data_processed/CHATM2/CHATM2_prep2_thumbnail_mask/CHATM2_slide50_2018_01_22-S2_prep2_thumbnail_mask.png\n",
      "/data/CSHL_data_processed/CHATM2/CHATM2_prep2_thumbnail_mask/CHATM2_slide50_2018_01_22-S3_prep2_thumbnail_mask.png\n"
     ]
    },
    {
     "name": "stderr",
     "output_type": "stream",
     "text": [
      "Not using image_cache.\n",
      "Not using image_cache.\n",
      "Not using image_cache.\n",
      "Not using image_cache.\n"
     ]
    },
    {
     "name": "stdout",
     "output_type": "stream",
     "text": [
      "/data/CSHL_data_processed/CHATM2/CHATM2_prep2_thumbnail_mask/CHATM2_slide51_2018_01_22-S1_prep2_thumbnail_mask.png\n",
      "/data/CSHL_data_processed/CHATM2/CHATM2_prep2_thumbnail_mask/CHATM2_slide52_2018_01_22-S1_prep2_thumbnail_mask.png\n"
     ]
    },
    {
     "name": "stderr",
     "output_type": "stream",
     "text": [
      "Not using image_cache.\n",
      "Not using image_cache.\n"
     ]
    },
    {
     "name": "stdout",
     "output_type": "stream",
     "text": [
      "/data/CSHL_data_processed/CHATM2/CHATM2_prep2_thumbnail_mask/CHATM2_slide51_2018_01_22-S2_prep2_thumbnail_mask.png\n",
      "/data/CSHL_data_processed/CHATM2/CHATM2_prep2_thumbnail_mask/CHATM2_slide52_2018_01_22-S2_prep2_thumbnail_mask.png\n"
     ]
    },
    {
     "name": "stderr",
     "output_type": "stream",
     "text": [
      "Not using image_cache.\n",
      "Not using image_cache.\n"
     ]
    },
    {
     "name": "stdout",
     "output_type": "stream",
     "text": [
      "/data/CSHL_data_processed/CHATM2/CHATM2_prep2_thumbnail_mask/CHATM2_slide51_2018_01_22-S3_prep2_thumbnail_mask.png\n",
      "/data/CSHL_data_processed/CHATM2/CHATM2_prep2_thumbnail_mask/CHATM2_slide52_2018_01_22-S3_prep2_thumbnail_mask.png\n"
     ]
    },
    {
     "name": "stderr",
     "output_type": "stream",
     "text": [
      "Not using image_cache.\n",
      "Not using image_cache.\n"
     ]
    },
    {
     "name": "stdout",
     "output_type": "stream",
     "text": [
      "/data/CSHL_data_processed/CHATM2/CHATM2_prep2_thumbnail_mask/CHATM2_slide53_2018_01_22-S1_prep2_thumbnail_mask.png\n",
      "/data/CSHL_data_processed/CHATM2/CHATM2_prep2_thumbnail_mask/CHATM2_slide54_2018_01_22-S1_prep2_thumbnail_mask.png\n"
     ]
    },
    {
     "name": "stderr",
     "output_type": "stream",
     "text": [
      "Not using image_cache.\n",
      "Not using image_cache.\n"
     ]
    },
    {
     "name": "stdout",
     "output_type": "stream",
     "text": [
      "/data/CSHL_data_processed/CHATM2/CHATM2_prep2_thumbnail_mask/CHATM2_slide53_2018_01_22-S2_prep2_thumbnail_mask.png\n",
      "/data/CSHL_data_processed/CHATM2/CHATM2_prep2_thumbnail_mask/CHATM2_slide54_2018_01_22-S2_prep2_thumbnail_mask.png\n"
     ]
    },
    {
     "name": "stderr",
     "output_type": "stream",
     "text": [
      "Not using image_cache.\n",
      "Not using image_cache.\n"
     ]
    },
    {
     "name": "stdout",
     "output_type": "stream",
     "text": [
      "/data/CSHL_data_processed/CHATM2/CHATM2_prep2_thumbnail_mask/CHATM2_slide53_2018_01_22-S3_prep2_thumbnail_mask.png\n",
      "/data/CSHL_data_processed/CHATM2/CHATM2_prep2_thumbnail_mask/CHATM2_slide54_2018_01_22-S3_prep2_thumbnail_mask.png\n"
     ]
    },
    {
     "name": "stderr",
     "output_type": "stream",
     "text": [
      "Not using image_cache.\n",
      "Not using image_cache.\n"
     ]
    },
    {
     "name": "stdout",
     "output_type": "stream",
     "text": [
      "/data/CSHL_data_processed/CHATM2/CHATM2_prep2_thumbnail_mask/CHATM2_slide55_2018_01_22-S1_prep2_thumbnail_mask.png\n",
      "/data/CSHL_data_processed/CHATM2/CHATM2_prep2_thumbnail_mask/CHATM2_slide56_2018_01_22-S1_prep2_thumbnail_mask.png\n"
     ]
    },
    {
     "name": "stderr",
     "output_type": "stream",
     "text": [
      "Not using image_cache.\n",
      "Not using image_cache.\n"
     ]
    },
    {
     "name": "stdout",
     "output_type": "stream",
     "text": [
      "/data/CSHL_data_processed/CHATM2/CHATM2_prep2_thumbnail_mask/CHATM2_slide55_2018_01_22-S2_prep2_thumbnail_mask.png\n",
      "/data/CSHL_data_processed/CHATM2/CHATM2_prep2_thumbnail_mask/CHATM2_slide56_2018_01_22-S2_prep2_thumbnail_mask.png\n"
     ]
    },
    {
     "name": "stderr",
     "output_type": "stream",
     "text": [
      "Not using image_cache.\n",
      "Not using image_cache.\n"
     ]
    },
    {
     "name": "stdout",
     "output_type": "stream",
     "text": [
      "/data/CSHL_data_processed/CHATM2/CHATM2_prep2_thumbnail_mask/CHATM2_slide55_2018_01_22-S3_prep2_thumbnail_mask.png\n",
      "/data/CSHL_data_processed/CHATM2/CHATM2_prep2_thumbnail_mask/CHATM2_slide56_2018_01_22-S3_prep2_thumbnail_mask.png\n"
     ]
    },
    {
     "name": "stderr",
     "output_type": "stream",
     "text": [
      "Not using image_cache.\n",
      "Not using image_cache.\n"
     ]
    },
    {
     "name": "stdout",
     "output_type": "stream",
     "text": [
      "/data/CSHL_data_processed/CHATM2/CHATM2_prep2_thumbnail_mask/CHATM2_slide57_2018_01_22-S1_prep2_thumbnail_mask.png\n",
      "/data/CSHL_data_processed/CHATM2/CHATM2_prep2_thumbnail_mask/CHATM2_slide58_2018_01_22-S1_prep2_thumbnail_mask.png\n"
     ]
    },
    {
     "name": "stderr",
     "output_type": "stream",
     "text": [
      "Not using image_cache.\n",
      "Not using image_cache.\n"
     ]
    },
    {
     "name": "stdout",
     "output_type": "stream",
     "text": [
      "/data/CSHL_data_processed/CHATM2/CHATM2_prep2_thumbnail_mask/CHATM2_slide57_2018_01_22-S2_prep2_thumbnail_mask.png\n",
      "/data/CSHL_data_processed/CHATM2/CHATM2_prep2_thumbnail_mask/CHATM2_slide58_2018_01_22-S2_prep2_thumbnail_mask.png\n"
     ]
    },
    {
     "name": "stderr",
     "output_type": "stream",
     "text": [
      "Not using image_cache.\n",
      "Not using image_cache.\n"
     ]
    },
    {
     "name": "stdout",
     "output_type": "stream",
     "text": [
      "/data/CSHL_data_processed/CHATM2/CHATM2_prep2_thumbnail_mask/CHATM2_slide57_2018_01_22-S3_prep2_thumbnail_mask.png\n",
      "/data/CSHL_data_processed/CHATM2/CHATM2_prep2_thumbnail_mask/CHATM2_slide62_2018_02_14-S1_prep2_thumbnail_mask.png\n"
     ]
    },
    {
     "name": "stderr",
     "output_type": "stream",
     "text": [
      "Not using image_cache.\n",
      "Not using image_cache.\n"
     ]
    },
    {
     "name": "stdout",
     "output_type": "stream",
     "text": [
      "/data/CSHL_data_processed/CHATM2/CHATM2_prep2_thumbnail_mask/CHATM2_slide62_2018_02_14-S2_prep2_thumbnail_mask.png\n",
      "/data/CSHL_data_processed/CHATM2/CHATM2_prep2_thumbnail_mask/CHATM2_slide62_2018_02_14-S3_prep2_thumbnail_mask.png\n"
     ]
    },
    {
     "name": "stderr",
     "output_type": "stream",
     "text": [
      "Not using image_cache.\n",
      "Not using image_cache.\n"
     ]
    },
    {
     "name": "stdout",
     "output_type": "stream",
     "text": [
      "/data/CSHL_data_processed/CHATM2/CHATM2_prep2_thumbnail_mask/CHATM2_slide64_2018_02_15-S1_prep2_thumbnail_mask.png\n",
      "/data/CSHL_data_processed/CHATM2/CHATM2_prep2_thumbnail_mask/CHATM2_slide64_2018_02_15-S2_prep2_thumbnail_mask.png\n"
     ]
    },
    {
     "name": "stderr",
     "output_type": "stream",
     "text": [
      "Not using image_cache.\n",
      "Not using image_cache.\n"
     ]
    },
    {
     "name": "stdout",
     "output_type": "stream",
     "text": [
      "/data/CSHL_data_processed/CHATM2/CHATM2_prep2_thumbnail_mask/CHATM2_slide64_2018_02_15-S3_prep2_thumbnail_mask.png\n",
      "/data/CSHL_data_processed/CHATM2/CHATM2_prep2_thumbnail_mask/CHATM2_slide66_2018_02_14-S1_prep2_thumbnail_mask.png\n"
     ]
    },
    {
     "name": "stderr",
     "output_type": "stream",
     "text": [
      "Not using image_cache.\n",
      "Not using image_cache.\n"
     ]
    },
    {
     "name": "stdout",
     "output_type": "stream",
     "text": [
      "/data/CSHL_data_processed/CHATM2/CHATM2_prep2_thumbnail_mask/CHATM2_slide66_2018_02_14-S2_prep2_thumbnail_mask.png\n",
      "/data/CSHL_data_processed/CHATM2/CHATM2_prep2_thumbnail_mask/CHATM2_slide66_2018_02_14-S3_prep2_thumbnail_mask.png\n"
     ]
    },
    {
     "name": "stderr",
     "output_type": "stream",
     "text": [
      "Not using image_cache.\n",
      "Not using image_cache.\n"
     ]
    },
    {
     "name": "stdout",
     "output_type": "stream",
     "text": [
      "/data/CSHL_data_processed/CHATM2/CHATM2_prep2_thumbnail_mask/CHATM2_slide68_2018_02_14-S1_prep2_thumbnail_mask.png\n",
      "/data/CSHL_data_processed/CHATM2/CHATM2_prep2_thumbnail_mask/CHATM2_slide68_2018_02_14-S2_prep2_thumbnail_mask.png\n"
     ]
    },
    {
     "name": "stderr",
     "output_type": "stream",
     "text": [
      "Not using image_cache.\n"
     ]
    },
    {
     "name": "stdout",
     "output_type": "stream",
     "text": [
      "/data/CSHL_data_processed/CHATM2/CHATM2_prep2_thumbnail_mask/CHATM2_slide70_2018_02_14-S1_prep2_thumbnail_mask.png\n",
      "(590, 917, 125)\n",
      "aws s3 cp \"/home/yuncong/CSHL_volumes/CHATM2/CHATM2_detector799_10.0um_scoreVolume/score_volumes/CHATM2_detector799_10.0um_scoreVolume_12N.bp\" \"s3://mousebrainatlas-data/CSHL_volumes/CHATM2/CHATM2_detector799_10.0um_scoreVolume/score_volumes/CHATM2_detector799_10.0um_scoreVolume_12N.bp\"\n",
      "0\n",
      "aws s3 cp \"/home/yuncong/CSHL_volumes/CHATM2/CHATM2_detector799_10.0um_scoreVolume/score_volumes/CHATM2_detector799_10.0um_scoreVolume_12N_origin_wrt_wholebrain.txt\" \"s3://mousebrainatlas-data/CSHL_volumes/CHATM2/CHATM2_detector799_10.0um_scoreVolume/score_volumes/CHATM2_detector799_10.0um_scoreVolume_12N_origin_wrt_wholebrain.txt\"\n",
      "0\n",
      "aws s3 cp \"/home/yuncong/CSHL_volumes/CHATM2/CHATM2_detector799_10.0um_scoreVolume/score_volume_gradients/CHATM2_detector799_10.0um_scoreVolume_12N_gradients.bp\" \"s3://mousebrainatlas-data/CSHL_volumes/CHATM2/CHATM2_detector799_10.0um_scoreVolume/score_volume_gradients/CHATM2_detector799_10.0um_scoreVolume_12N_gradients.bp\"\n",
      "0\n",
      "aws s3 cp \"/home/yuncong/CSHL_volumes/CHATM2/CHATM2_detector799_10.0um_scoreVolume/score_volume_gradients/CHATM2_detector799_10.0um_scoreVolume_12N_origin_wrt_wholebrain.txt\" \"s3://mousebrainatlas-data/CSHL_volumes/CHATM2/CHATM2_detector799_10.0um_scoreVolume/score_volume_gradients/CHATM2_detector799_10.0um_scoreVolume_12N_origin_wrt_wholebrain.txt\"\n",
      "0\n",
      "/data/CSHL_data_processed/CHATM2/CHATM2_prep2_thumbnail_mask/CHATM2_slide50_2018_01_22-S2_prep2_thumbnail_mask.png\n",
      "/data/CSHL_data_processed/CHATM2/CHATM2_prep2_thumbnail_mask/CHATM2_slide50_2018_01_22-S3_prep2_thumbnail_mask.png\n"
     ]
    },
    {
     "name": "stderr",
     "output_type": "stream",
     "text": [
      "Not using image_cache.\n",
      "Not using image_cache.\n",
      "Not using image_cache.\n",
      "Not using image_cache.\n"
     ]
    },
    {
     "name": "stdout",
     "output_type": "stream",
     "text": [
      "/data/CSHL_data_processed/CHATM2/CHATM2_prep2_thumbnail_mask/CHATM2_slide51_2018_01_22-S1_prep2_thumbnail_mask.png\n",
      "/data/CSHL_data_processed/CHATM2/CHATM2_prep2_thumbnail_mask/CHATM2_slide52_2018_01_22-S1_prep2_thumbnail_mask.png\n"
     ]
    },
    {
     "name": "stderr",
     "output_type": "stream",
     "text": [
      "Not using image_cache.\n",
      "Not using image_cache.\n"
     ]
    },
    {
     "name": "stdout",
     "output_type": "stream",
     "text": [
      "/data/CSHL_data_processed/CHATM2/CHATM2_prep2_thumbnail_mask/CHATM2_slide51_2018_01_22-S2_prep2_thumbnail_mask.png\n",
      "/data/CSHL_data_processed/CHATM2/CHATM2_prep2_thumbnail_mask/CHATM2_slide52_2018_01_22-S2_prep2_thumbnail_mask.png\n"
     ]
    },
    {
     "name": "stderr",
     "output_type": "stream",
     "text": [
      "Not using image_cache.\n",
      "Not using image_cache.\n"
     ]
    },
    {
     "name": "stdout",
     "output_type": "stream",
     "text": [
      "/data/CSHL_data_processed/CHATM2/CHATM2_prep2_thumbnail_mask/CHATM2_slide51_2018_01_22-S3_prep2_thumbnail_mask.png\n",
      "/data/CSHL_data_processed/CHATM2/CHATM2_prep2_thumbnail_mask/CHATM2_slide52_2018_01_22-S3_prep2_thumbnail_mask.png\n"
     ]
    },
    {
     "name": "stderr",
     "output_type": "stream",
     "text": [
      "Not using image_cache.\n",
      "Not using image_cache.\n"
     ]
    },
    {
     "name": "stdout",
     "output_type": "stream",
     "text": [
      "/data/CSHL_data_processed/CHATM2/CHATM2_prep2_thumbnail_mask/CHATM2_slide53_2018_01_22-S1_prep2_thumbnail_mask.png\n",
      "/data/CSHL_data_processed/CHATM2/CHATM2_prep2_thumbnail_mask/CHATM2_slide54_2018_01_22-S1_prep2_thumbnail_mask.png\n"
     ]
    },
    {
     "name": "stderr",
     "output_type": "stream",
     "text": [
      "Not using image_cache.\n",
      "Not using image_cache.\n"
     ]
    },
    {
     "name": "stdout",
     "output_type": "stream",
     "text": [
      "/data/CSHL_data_processed/CHATM2/CHATM2_prep2_thumbnail_mask/CHATM2_slide53_2018_01_22-S2_prep2_thumbnail_mask.png\n",
      "/data/CSHL_data_processed/CHATM2/CHATM2_prep2_thumbnail_mask/CHATM2_slide54_2018_01_22-S2_prep2_thumbnail_mask.png\n"
     ]
    },
    {
     "name": "stderr",
     "output_type": "stream",
     "text": [
      "Not using image_cache.\n",
      "Not using image_cache.\n"
     ]
    },
    {
     "name": "stdout",
     "output_type": "stream",
     "text": [
      "/data/CSHL_data_processed/CHATM2/CHATM2_prep2_thumbnail_mask/CHATM2_slide53_2018_01_22-S3_prep2_thumbnail_mask.png\n",
      "/data/CSHL_data_processed/CHATM2/CHATM2_prep2_thumbnail_mask/CHATM2_slide54_2018_01_22-S3_prep2_thumbnail_mask.png\n"
     ]
    },
    {
     "name": "stderr",
     "output_type": "stream",
     "text": [
      "Not using image_cache.\n",
      "Not using image_cache.\n"
     ]
    },
    {
     "name": "stdout",
     "output_type": "stream",
     "text": [
      "/data/CSHL_data_processed/CHATM2/CHATM2_prep2_thumbnail_mask/CHATM2_slide55_2018_01_22-S1_prep2_thumbnail_mask.png\n",
      "/data/CSHL_data_processed/CHATM2/CHATM2_prep2_thumbnail_mask/CHATM2_slide56_2018_01_22-S1_prep2_thumbnail_mask.png\n"
     ]
    },
    {
     "name": "stderr",
     "output_type": "stream",
     "text": [
      "Not using image_cache.\n",
      "Not using image_cache.\n"
     ]
    },
    {
     "name": "stdout",
     "output_type": "stream",
     "text": [
      "/data/CSHL_data_processed/CHATM2/CHATM2_prep2_thumbnail_mask/CHATM2_slide55_2018_01_22-S2_prep2_thumbnail_mask.png\n",
      "/data/CSHL_data_processed/CHATM2/CHATM2_prep2_thumbnail_mask/CHATM2_slide56_2018_01_22-S2_prep2_thumbnail_mask.png\n"
     ]
    },
    {
     "name": "stderr",
     "output_type": "stream",
     "text": [
      "Not using image_cache.\n",
      "Not using image_cache.\n"
     ]
    },
    {
     "name": "stdout",
     "output_type": "stream",
     "text": [
      "/data/CSHL_data_processed/CHATM2/CHATM2_prep2_thumbnail_mask/CHATM2_slide55_2018_01_22-S3_prep2_thumbnail_mask.png\n",
      "/data/CSHL_data_processed/CHATM2/CHATM2_prep2_thumbnail_mask/CHATM2_slide56_2018_01_22-S3_prep2_thumbnail_mask.png\n"
     ]
    },
    {
     "name": "stderr",
     "output_type": "stream",
     "text": [
      "Not using image_cache.\n",
      "Not using image_cache.\n"
     ]
    },
    {
     "name": "stdout",
     "output_type": "stream",
     "text": [
      "/data/CSHL_data_processed/CHATM2/CHATM2_prep2_thumbnail_mask/CHATM2_slide57_2018_01_22-S1_prep2_thumbnail_mask.png\n",
      "/data/CSHL_data_processed/CHATM2/CHATM2_prep2_thumbnail_mask/CHATM2_slide58_2018_01_22-S1_prep2_thumbnail_mask.png\n"
     ]
    },
    {
     "name": "stderr",
     "output_type": "stream",
     "text": [
      "Not using image_cache.\n",
      "Not using image_cache.\n"
     ]
    },
    {
     "name": "stdout",
     "output_type": "stream",
     "text": [
      "/data/CSHL_data_processed/CHATM2/CHATM2_prep2_thumbnail_mask/CHATM2_slide57_2018_01_22-S2_prep2_thumbnail_mask.png\n",
      "/data/CSHL_data_processed/CHATM2/CHATM2_prep2_thumbnail_mask/CHATM2_slide58_2018_01_22-S2_prep2_thumbnail_mask.png\n"
     ]
    },
    {
     "name": "stderr",
     "output_type": "stream",
     "text": [
      "Not using image_cache.\n",
      "Not using image_cache.\n"
     ]
    },
    {
     "name": "stdout",
     "output_type": "stream",
     "text": [
      "/data/CSHL_data_processed/CHATM2/CHATM2_prep2_thumbnail_mask/CHATM2_slide57_2018_01_22-S3_prep2_thumbnail_mask.png\n",
      "/data/CSHL_data_processed/CHATM2/CHATM2_prep2_thumbnail_mask/CHATM2_slide62_2018_02_14-S1_prep2_thumbnail_mask.png\n"
     ]
    },
    {
     "name": "stderr",
     "output_type": "stream",
     "text": [
      "Not using image_cache.\n",
      "Not using image_cache.\n"
     ]
    },
    {
     "name": "stdout",
     "output_type": "stream",
     "text": [
      "/data/CSHL_data_processed/CHATM2/CHATM2_prep2_thumbnail_mask/CHATM2_slide62_2018_02_14-S2_prep2_thumbnail_mask.png\n",
      "/data/CSHL_data_processed/CHATM2/CHATM2_prep2_thumbnail_mask/CHATM2_slide62_2018_02_14-S3_prep2_thumbnail_mask.png\n"
     ]
    },
    {
     "name": "stderr",
     "output_type": "stream",
     "text": [
      "Not using image_cache.\n",
      "Not using image_cache.\n"
     ]
    },
    {
     "name": "stdout",
     "output_type": "stream",
     "text": [
      "/data/CSHL_data_processed/CHATM2/CHATM2_prep2_thumbnail_mask/CHATM2_slide64_2018_02_15-S1_prep2_thumbnail_mask.png\n",
      "/data/CSHL_data_processed/CHATM2/CHATM2_prep2_thumbnail_mask/CHATM2_slide64_2018_02_15-S2_prep2_thumbnail_mask.png\n"
     ]
    },
    {
     "name": "stderr",
     "output_type": "stream",
     "text": [
      "Not using image_cache.\n",
      "Not using image_cache.\n"
     ]
    },
    {
     "name": "stdout",
     "output_type": "stream",
     "text": [
      "/data/CSHL_data_processed/CHATM2/CHATM2_prep2_thumbnail_mask/CHATM2_slide64_2018_02_15-S3_prep2_thumbnail_mask.png\n",
      "/data/CSHL_data_processed/CHATM2/CHATM2_prep2_thumbnail_mask/CHATM2_slide66_2018_02_14-S1_prep2_thumbnail_mask.png\n"
     ]
    },
    {
     "name": "stderr",
     "output_type": "stream",
     "text": [
      "Not using image_cache.\n",
      "Not using image_cache.\n"
     ]
    },
    {
     "name": "stdout",
     "output_type": "stream",
     "text": [
      "/data/CSHL_data_processed/CHATM2/CHATM2_prep2_thumbnail_mask/CHATM2_slide66_2018_02_14-S2_prep2_thumbnail_mask.png\n",
      "/data/CSHL_data_processed/CHATM2/CHATM2_prep2_thumbnail_mask/CHATM2_slide66_2018_02_14-S3_prep2_thumbnail_mask.png\n"
     ]
    },
    {
     "name": "stderr",
     "output_type": "stream",
     "text": [
      "Not using image_cache.\n",
      "Not using image_cache.\n"
     ]
    },
    {
     "name": "stdout",
     "output_type": "stream",
     "text": [
      "/data/CSHL_data_processed/CHATM2/CHATM2_prep2_thumbnail_mask/CHATM2_slide68_2018_02_14-S1_prep2_thumbnail_mask.png\n",
      "/data/CSHL_data_processed/CHATM2/CHATM2_prep2_thumbnail_mask/CHATM2_slide68_2018_02_14-S2_prep2_thumbnail_mask.png\n"
     ]
    },
    {
     "name": "stderr",
     "output_type": "stream",
     "text": [
      "Not using image_cache.\n"
     ]
    },
    {
     "name": "stdout",
     "output_type": "stream",
     "text": [
      "/data/CSHL_data_processed/CHATM2/CHATM2_prep2_thumbnail_mask/CHATM2_slide70_2018_02_14-S1_prep2_thumbnail_mask.png\n",
      "(590, 917, 125)\n",
      "aws s3 cp \"/home/yuncong/CSHL_volumes/CHATM2/CHATM2_detector799_10.0um_scoreVolume/score_volumes/CHATM2_detector799_10.0um_scoreVolume_12N.bp\" \"s3://mousebrainatlas-data/CSHL_volumes/CHATM2/CHATM2_detector799_10.0um_scoreVolume/score_volumes/CHATM2_detector799_10.0um_scoreVolume_12N.bp\"\n",
      "0\n",
      "aws s3 cp \"/home/yuncong/CSHL_volumes/CHATM2/CHATM2_detector799_10.0um_scoreVolume/score_volumes/CHATM2_detector799_10.0um_scoreVolume_12N_origin_wrt_wholebrain.txt\" \"s3://mousebrainatlas-data/CSHL_volumes/CHATM2/CHATM2_detector799_10.0um_scoreVolume/score_volumes/CHATM2_detector799_10.0um_scoreVolume_12N_origin_wrt_wholebrain.txt\"\n",
      "0\n",
      "aws s3 cp \"/home/yuncong/CSHL_volumes/CHATM2/CHATM2_detector799_10.0um_scoreVolume/score_volume_gradients/CHATM2_detector799_10.0um_scoreVolume_12N_gradients.bp\" \"s3://mousebrainatlas-data/CSHL_volumes/CHATM2/CHATM2_detector799_10.0um_scoreVolume/score_volume_gradients/CHATM2_detector799_10.0um_scoreVolume_12N_gradients.bp\"\n",
      "0\n",
      "aws s3 cp \"/home/yuncong/CSHL_volumes/CHATM2/CHATM2_detector799_10.0um_scoreVolume/score_volume_gradients/CHATM2_detector799_10.0um_scoreVolume_12N_origin_wrt_wholebrain.txt\" \"s3://mousebrainatlas-data/CSHL_volumes/CHATM2/CHATM2_detector799_10.0um_scoreVolume/score_volume_gradients/CHATM2_detector799_10.0um_scoreVolume_12N_origin_wrt_wholebrain.txt\"\n",
      "0\n"
     ]
    }
   ],
   "source": [
    "# for stack in ['CHATM3']:\n",
    "    \n",
    "# registered_atlas_structures_wrt_wholebrainWithMargin_section_limits = load_json('/home/yuncong/' + stack + '_structure_section_limits.json')\n",
    "\n",
    "#     atlas_structures_wrt_wholebrainWithMargin_sections = defaultdict(list)\n",
    "#     for name_s, (s1, s2) in registered_atlas_structures_wrt_wholebrainWithMargin_section_limits.iteritems():\n",
    "#         atlas_structures_wrt_wholebrainWithMargin_sections[convert_to_original_name(name_s)] += range(max(s1 - 10, metadata_cache['section_limits'][stack][0]), \n",
    "#                                                                                                       min(s2+1 + 10, metadata_cache['section_limits'][stack][1]))\n",
    "#     atlas_structures_wrt_wholebrainWithMargin_sections = {name_s: sorted(set(sec_list)) for name_s, sec_list in atlas_structures_wrt_wholebrainWithMargin_sections.iteritems()}\n",
    "\n",
    "# Specify isotropic resolution of the output volume.\n",
    "out_resolution_um = convert_resolution_string_to_um(resolution=output_resolution, stack=stack)\n",
    "\n",
    "# for structure in ['7N']:\n",
    "for structure in motor_nuclei:\n",
    "\n",
    "\n",
    "    for name_s in [convert_to_left_name(structure), convert_to_right_name(structure)]:\n",
    "        \n",
    "        scoremaps = {}\n",
    "\n",
    "#         for sec in metadata_cache['valid_sections'][stack]:\n",
    "\n",
    "        (xmin, ymin, s1), (xmax, ymax, s2) = registered_atlas_structures_wrt_wholebrainXYcropped_xysecTwoCorners[name_s]\n",
    "\n",
    "        for sec in range(max(s1 - section_margin, metadata_cache['section_limits'][stack][0]), \n",
    "                         min(s2 + 1 + section_margin, metadata_cache['section_limits'][stack][1])):\n",
    "\n",
    "            if is_invalid(sec=sec, stack=stack):\n",
    "                continue\n",
    "\n",
    "            scoremap = DataManager.load_downscaled_scoremap(stack=stack, section=sec, structure=structure, \n",
    "                                                            prep_id='alignedBrainstemCrop',\n",
    "                                                          out_resolution_um=out_resolution_um, \n",
    "                                                            detector_id=detector_id).astype(np.float32)\n",
    "\n",
    "            mask = DataManager.load_image_v2(stack=stack, section=sec, \n",
    "                                 prep_id='alignedBrainstemCrop', \n",
    "                                 resol='thumbnail', version='mask')\n",
    "\n",
    "            mask_outResol = rescale_by_resampling(mask, new_shape=(scoremap.shape[1], scoremap.shape[0]))\n",
    "\n",
    "            scoremap[~mask_outResol] = 0\n",
    "            scoremaps[sec] = scoremap\n",
    "\n",
    "        volume_outVolResol, volume_origin_wrt_wholebrainXYcropped_outVolResol = \\\n",
    "        images_to_volume_v2(images=scoremaps, spacing_um=20.,\n",
    "                                in_resol_um=out_resolution_um,\n",
    "                                out_resol_um=out_resolution_um)\n",
    "        print volume_outVolResol.shape\n",
    "\n",
    "        brain_spec = dict(name=stack,\n",
    "                       vol_type='score',\n",
    "                        detector_id=detector_id,\n",
    "                       resolution=output_resolution)\n",
    "\n",
    "        # Save volume and origin.\n",
    "\n",
    "        save_data(volume_outVolResol.astype(np.float16), \\\n",
    "                  DataManager.get_original_volume_filepath_v2(stack_spec=brain_spec, structure=name_s))\n",
    "\n",
    "        wholebrainXYcropped_origin_wrt_wholebrain_outVolResol = \\\n",
    "        DataManager.get_domain_origin(stack=stack, domain='wholebrainXYcropped', \n",
    "                                      resolution=output_resolution)\n",
    "        volume_origin_wrt_wholebrain_outVolResol =\\\n",
    "        volume_origin_wrt_wholebrainXYcropped_outVolResol + wholebrainXYcropped_origin_wrt_wholebrain_outVolResol\n",
    "\n",
    "        save_data(volume_origin_wrt_wholebrain_outVolResol,\n",
    "                  DataManager.get_original_volume_origin_filepath_v3(stack_spec=brain_spec, structure=name_s, wrt='wholebrain'))\n",
    "\n",
    "        # Compute gradients.\n",
    "\n",
    "        gradients = compute_gradient_v2((volume_outVolResol, volume_origin_wrt_wholebrain_outVolResol), \n",
    "                                        smooth_first=True)\n",
    "\n",
    "        DataManager.save_volume_gradients(gradients, stack_spec=brain_spec, structure=name_s)"
   ]
  },
  {
   "cell_type": "code",
   "execution_count": null,
   "metadata": {
    "collapsed": true
   },
   "outputs": [],
   "source": []
  }
 ],
 "metadata": {
  "kernelspec": {
   "display_name": "Python 2",
   "language": "python",
   "name": "python2"
  },
  "language_info": {
   "codemirror_mode": {
    "name": "ipython",
    "version": 2
   },
   "file_extension": ".py",
   "mimetype": "text/x-python",
   "name": "python",
   "nbconvert_exporter": "python",
   "pygments_lexer": "ipython2",
   "version": "2.7.12"
  }
 },
 "nbformat": 4,
 "nbformat_minor": 2
}
