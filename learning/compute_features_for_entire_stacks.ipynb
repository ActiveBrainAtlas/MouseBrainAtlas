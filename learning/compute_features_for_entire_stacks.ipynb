{
 "cells": [
  {
   "cell_type": "code",
   "execution_count": 1,
   "metadata": {
    "scrolled": true
   },
   "outputs": [
    {
     "name": "stdout",
     "output_type": "stream",
     "text": [
      "Setting environment for Precision WorkStation\n"
     ]
    },
    {
     "name": "stderr",
     "output_type": "stream",
     "text": [
      "No vtk\n",
      "/usr/local/lib/python2.7/dist-packages/sklearn/cross_validation.py:44: DeprecationWarning: This module was deprecated in version 0.18 in favor of the model_selection module into which all the refactored classes and functions are moved. Also note that the interface of the new CV iterators are different from that of this module. This module will be removed in 0.20.\n",
      "  \"This module will be removed in 0.20.\", DeprecationWarning)\n"
     ]
    }
   ],
   "source": [
    "%reload_ext autoreload\n",
    "%autoreload 2\n",
    "\n",
    "import os\n",
    "import argparse\n",
    "import sys\n",
    "import time\n",
    "\n",
    "import numpy as np\n",
    "from multiprocess import Pool\n",
    "\n",
    "sys.path.append(os.path.join(os.environ['REPO_DIR'], 'utilities'))\n",
    "from utilities2015 import *\n",
    "from metadata import *\n",
    "from data_manager import *\n",
    "from learning_utilities import *\n",
    "\n",
    "%matplotlib inline"
   ]
  },
  {
   "cell_type": "code",
   "execution_count": null,
   "metadata": {},
   "outputs": [
    {
     "name": "stderr",
     "output_type": "stream",
     "text": [
      "/usr/local/lib/python2.7/dist-packages/mxnet/module/base_module.py:53: UserWarning: \u001b[91mYou created Module with Module(..., label_names=['softmax_label']) but input with name 'softmax_label' is not found in symbol.list_arguments(). Did you mean one of:\n",
      "\tdata\u001b[0m\n",
      "  warnings.warn(msg)\n",
      "/usr/local/lib/python2.7/dist-packages/mxnet/module/base_module.py:65: UserWarning: Data provided by label_shapes don't match names specified by label_names ([] vs. ['softmax_label'])\n",
      "  warnings.warn(msg)\n"
     ]
    }
   ],
   "source": [
    "batch_size = 256\n",
    "model_dir_name = 'inception-bn-blue'\n",
    "model_name = 'inception-bn-blue'\n",
    "model, mean_img = load_mxnet_model(model_dir_name=model_dir_name, model_name=model_name, \n",
    "                                   num_gpus=1, batch_size=batch_size)"
   ]
  },
  {
   "cell_type": "code",
   "execution_count": null,
   "metadata": {
    "scrolled": true
   },
   "outputs": [
    {
     "name": "stderr",
     "output_type": "stream",
     "text": [
      "locate patches: 0.05 seconds\n"
     ]
    },
    {
     "name": "stdout",
     "output_type": "stream",
     "text": [
      "rm -rf \"/data/CSHL_patch_features/inception-bn-blue/CHATM2/CHATM2_prep2_none_win7/CHATM2_slide15_2018_01_18-S1_prep2_none_win7_inception-bn-blue_features.bp\" && mkdir -p \"/data/CSHL_patch_features/inception-bn-blue/CHATM2/CHATM2_prep2_none_win7\"\n",
      "0\n",
      "aws s3 cp \"s3://mousebrainatlas-data/CSHL_patch_features/inception-bn-blue/CHATM2/CHATM2_prep2_none_win7/CHATM2_slide15_2018_01_18-S1_prep2_none_win7_inception-bn-blue_features.bp\" \"/data/CSHL_patch_features/inception-bn-blue/CHATM2/CHATM2_prep2_none_win7/CHATM2_slide15_2018_01_18-S1_prep2_none_win7_inception-bn-blue_features.bp\"\n",
      "1\n"
     ]
    },
    {
     "name": "stderr",
     "output_type": "stream",
     "text": [
      "Features for CHATM2, 43/CHATM2_slide15_2018_01_18-S1 does not exist.\n",
      "No pre-computed features found... computing from scratch.\n",
      "Not using image_cache.\n"
     ]
    },
    {
     "name": "stdout",
     "output_type": "stream",
     "text": [
      "/data/CSHL_data_processed/CHATM2/CHATM2_prep2_raw_NtbNormalizedAdaptiveInvertedGamma/CHATM2_slide15_2018_01_18-S1_prep2_raw_NtbNormalizedAdaptiveInvertedGamma.tif\n"
     ]
    },
    {
     "name": "stderr",
     "output_type": "stream",
     "text": [
      "Load image: 3.77 seconds.\n",
      "Rescale image from 317 to 224: 3.65 seconds.\n",
      "Crop patches: 0.72 seconds.\n",
      "Extract patches: 8.16 seconds\n"
     ]
    },
    {
     "name": "stdout",
     "output_type": "stream",
     "text": [
      "(22741, 1, 224, 224)\n"
     ]
    },
    {
     "name": "stderr",
     "output_type": "stream",
     "text": [
      "Compute features: 34.68 seconds\n",
      "Compute features at one section, multiple locations: 42.86 seconds\n"
     ]
    },
    {
     "name": "stdout",
     "output_type": "stream",
     "text": [
      "aws s3 cp \"/data/CSHL_patch_features/inception-bn-blue/CHATM2/CHATM2_prep2_none_win7/CHATM2_slide15_2018_01_18-S1_prep2_none_win7_inception-bn-blue_features.bp\" \"s3://mousebrainatlas-data/CSHL_patch_features/inception-bn-blue/CHATM2/CHATM2_prep2_none_win7/CHATM2_slide15_2018_01_18-S1_prep2_none_win7_inception-bn-blue_features.bp\"\n",
      "0\n",
      "aws s3 cp \"/data/CSHL_patch_features/inception-bn-blue/CHATM2/CHATM2_prep2_none_win7/CHATM2_slide15_2018_01_18-S1_prep2_none_win7_inception-bn-blue_locations.bp\" \"s3://mousebrainatlas-data/CSHL_patch_features/inception-bn-blue/CHATM2/CHATM2_prep2_none_win7/CHATM2_slide15_2018_01_18-S1_prep2_none_win7_inception-bn-blue_locations.bp\"\n",
      "0\n",
      "rm -rf \"/data/CSHL_patch_features/inception-bn-blue/CHATM2/CHATM2_prep2_none_win7/CHATM2_slide16_2018_01_18-S1_prep2_none_win7_inception-bn-blue_features.bp\" && mkdir -p \"/data/CSHL_patch_features/inception-bn-blue/CHATM2/CHATM2_prep2_none_win7\"\n",
      "0\n"
     ]
    },
    {
     "name": "stderr",
     "output_type": "stream",
     "text": [
      "Save features: 2.74 seconds\n",
      "locate patches: 0.13 seconds\n"
     ]
    },
    {
     "name": "stdout",
     "output_type": "stream",
     "text": [
      "aws s3 cp \"s3://mousebrainatlas-data/CSHL_patch_features/inception-bn-blue/CHATM2/CHATM2_prep2_none_win7/CHATM2_slide16_2018_01_18-S1_prep2_none_win7_inception-bn-blue_features.bp\" \"/data/CSHL_patch_features/inception-bn-blue/CHATM2/CHATM2_prep2_none_win7/CHATM2_slide16_2018_01_18-S1_prep2_none_win7_inception-bn-blue_features.bp\"\n",
      "1\n"
     ]
    },
    {
     "name": "stderr",
     "output_type": "stream",
     "text": [
      "Features for CHATM2, 44/CHATM2_slide16_2018_01_18-S1 does not exist.\n",
      "No pre-computed features found... computing from scratch.\n",
      "Not using image_cache.\n"
     ]
    },
    {
     "name": "stdout",
     "output_type": "stream",
     "text": [
      "/data/CSHL_data_processed/CHATM2/CHATM2_prep2_raw_NtbNormalizedAdaptiveInvertedGamma/CHATM2_slide16_2018_01_18-S1_prep2_raw_NtbNormalizedAdaptiveInvertedGamma.tif\n"
     ]
    },
    {
     "name": "stderr",
     "output_type": "stream",
     "text": [
      "Load image: 4.01 seconds.\n",
      "Rescale image from 317 to 224: 4.30 seconds.\n",
      "Crop patches: 0.69 seconds.\n",
      "Extract patches: 9.02 seconds\n"
     ]
    },
    {
     "name": "stdout",
     "output_type": "stream",
     "text": [
      "(22770, 1, 224, 224)\n"
     ]
    },
    {
     "name": "stderr",
     "output_type": "stream",
     "text": [
      "Compute features: 35.02 seconds\n",
      "Compute features at one section, multiple locations: 44.06 seconds\n"
     ]
    },
    {
     "name": "stdout",
     "output_type": "stream",
     "text": [
      "aws s3 cp \"/data/CSHL_patch_features/inception-bn-blue/CHATM2/CHATM2_prep2_none_win7/CHATM2_slide16_2018_01_18-S1_prep2_none_win7_inception-bn-blue_features.bp\" \"s3://mousebrainatlas-data/CSHL_patch_features/inception-bn-blue/CHATM2/CHATM2_prep2_none_win7/CHATM2_slide16_2018_01_18-S1_prep2_none_win7_inception-bn-blue_features.bp\"\n",
      "0\n",
      "aws s3 cp \"/data/CSHL_patch_features/inception-bn-blue/CHATM2/CHATM2_prep2_none_win7/CHATM2_slide16_2018_01_18-S1_prep2_none_win7_inception-bn-blue_locations.bp\" \"s3://mousebrainatlas-data/CSHL_patch_features/inception-bn-blue/CHATM2/CHATM2_prep2_none_win7/CHATM2_slide16_2018_01_18-S1_prep2_none_win7_inception-bn-blue_locations.bp\"\n",
      "0\n",
      "rm -rf \"/data/CSHL_patch_features/inception-bn-blue/CHATM2/CHATM2_prep2_none_win7/CHATM2_slide15_2018_01_18-S2_prep2_none_win7_inception-bn-blue_features.bp\" && mkdir -p \"/data/CSHL_patch_features/inception-bn-blue/CHATM2/CHATM2_prep2_none_win7\"\n",
      "0\n",
      "aws s3 cp \"s3://mousebrainatlas-data/CSHL_patch_features/inception-bn-blue/CHATM2/CHATM2_prep2_none_win7/CHATM2_slide15_2018_01_18-S2_prep2_none_win7_inception-bn-blue_features.bp\" \"/data/CSHL_patch_features/inception-bn-blue/CHATM2/CHATM2_prep2_none_win7/CHATM2_slide15_2018_01_18-S2_prep2_none_win7_inception-bn-blue_features.bp\"\n"
     ]
    },
    {
     "name": "stderr",
     "output_type": "stream",
     "text": [
      "Save features: 2.78 seconds\n",
      "locate patches: 0.06 seconds\n"
     ]
    },
    {
     "name": "stdout",
     "output_type": "stream",
     "text": [
      "1\n"
     ]
    },
    {
     "name": "stderr",
     "output_type": "stream",
     "text": [
      "Features for CHATM2, 45/CHATM2_slide15_2018_01_18-S2 does not exist.\n",
      "No pre-computed features found... computing from scratch.\n",
      "Not using image_cache.\n"
     ]
    },
    {
     "name": "stdout",
     "output_type": "stream",
     "text": [
      "/data/CSHL_data_processed/CHATM2/CHATM2_prep2_raw_NtbNormalizedAdaptiveInvertedGamma/CHATM2_slide15_2018_01_18-S2_prep2_raw_NtbNormalizedAdaptiveInvertedGamma.tif\n"
     ]
    },
    {
     "name": "stderr",
     "output_type": "stream",
     "text": [
      "Load image: 1.76 seconds.\n",
      "Rescale image from 317 to 224: 3.74 seconds.\n",
      "Crop patches: 0.75 seconds.\n",
      "Extract patches: 6.27 seconds\n"
     ]
    },
    {
     "name": "stdout",
     "output_type": "stream",
     "text": [
      "(23015, 1, 224, 224)\n"
     ]
    },
    {
     "name": "stderr",
     "output_type": "stream",
     "text": [
      "Compute features: 35.88 seconds\n",
      "Compute features at one section, multiple locations: 42.18 seconds\n"
     ]
    },
    {
     "name": "stdout",
     "output_type": "stream",
     "text": [
      "aws s3 cp \"/data/CSHL_patch_features/inception-bn-blue/CHATM2/CHATM2_prep2_none_win7/CHATM2_slide15_2018_01_18-S2_prep2_none_win7_inception-bn-blue_features.bp\" \"s3://mousebrainatlas-data/CSHL_patch_features/inception-bn-blue/CHATM2/CHATM2_prep2_none_win7/CHATM2_slide15_2018_01_18-S2_prep2_none_win7_inception-bn-blue_features.bp\"\n",
      "0\n",
      "aws s3 cp \"/data/CSHL_patch_features/inception-bn-blue/CHATM2/CHATM2_prep2_none_win7/CHATM2_slide15_2018_01_18-S2_prep2_none_win7_inception-bn-blue_locations.bp\" \"s3://mousebrainatlas-data/CSHL_patch_features/inception-bn-blue/CHATM2/CHATM2_prep2_none_win7/CHATM2_slide15_2018_01_18-S2_prep2_none_win7_inception-bn-blue_locations.bp\"\n",
      "0\n",
      "rm -rf \"/data/CSHL_patch_features/inception-bn-blue/CHATM2/CHATM2_prep2_none_win7/CHATM2_slide16_2018_01_18-S2_prep2_none_win7_inception-bn-blue_features.bp\" && mkdir -p \"/data/CSHL_patch_features/inception-bn-blue/CHATM2/CHATM2_prep2_none_win7\"\n",
      "0\n",
      "aws s3 cp \"s3://mousebrainatlas-data/CSHL_patch_features/inception-bn-blue/CHATM2/CHATM2_prep2_none_win7/CHATM2_slide16_2018_01_18-S2_prep2_none_win7_inception-bn-blue_features.bp\" \"/data/CSHL_patch_features/inception-bn-blue/CHATM2/CHATM2_prep2_none_win7/CHATM2_slide16_2018_01_18-S2_prep2_none_win7_inception-bn-blue_features.bp\"\n"
     ]
    },
    {
     "name": "stderr",
     "output_type": "stream",
     "text": [
      "Save features: 2.63 seconds\n",
      "locate patches: 0.06 seconds\n"
     ]
    },
    {
     "name": "stdout",
     "output_type": "stream",
     "text": [
      "1\n"
     ]
    },
    {
     "name": "stderr",
     "output_type": "stream",
     "text": [
      "Features for CHATM2, 46/CHATM2_slide16_2018_01_18-S2 does not exist.\n",
      "No pre-computed features found... computing from scratch.\n",
      "Not using image_cache.\n"
     ]
    },
    {
     "name": "stdout",
     "output_type": "stream",
     "text": [
      "/data/CSHL_data_processed/CHATM2/CHATM2_prep2_raw_NtbNormalizedAdaptiveInvertedGamma/CHATM2_slide16_2018_01_18-S2_prep2_raw_NtbNormalizedAdaptiveInvertedGamma.tif\n"
     ]
    },
    {
     "name": "stderr",
     "output_type": "stream",
     "text": [
      "Load image: 4.30 seconds.\n",
      "Rescale image from 317 to 224: 3.74 seconds.\n",
      "Crop patches: 0.79 seconds.\n",
      "Extract patches: 8.85 seconds\n"
     ]
    },
    {
     "name": "stdout",
     "output_type": "stream",
     "text": [
      "(22786, 1, 224, 224)\n"
     ]
    },
    {
     "name": "stderr",
     "output_type": "stream",
     "text": [
      "Compute features: 36.37 seconds\n",
      "Compute features at one section, multiple locations: 45.24 seconds\n"
     ]
    },
    {
     "name": "stdout",
     "output_type": "stream",
     "text": [
      "aws s3 cp \"/data/CSHL_patch_features/inception-bn-blue/CHATM2/CHATM2_prep2_none_win7/CHATM2_slide16_2018_01_18-S2_prep2_none_win7_inception-bn-blue_features.bp\" \"s3://mousebrainatlas-data/CSHL_patch_features/inception-bn-blue/CHATM2/CHATM2_prep2_none_win7/CHATM2_slide16_2018_01_18-S2_prep2_none_win7_inception-bn-blue_features.bp\"\n",
      "0\n",
      "aws s3 cp \"/data/CSHL_patch_features/inception-bn-blue/CHATM2/CHATM2_prep2_none_win7/CHATM2_slide16_2018_01_18-S2_prep2_none_win7_inception-bn-blue_locations.bp\" \"s3://mousebrainatlas-data/CSHL_patch_features/inception-bn-blue/CHATM2/CHATM2_prep2_none_win7/CHATM2_slide16_2018_01_18-S2_prep2_none_win7_inception-bn-blue_locations.bp\"\n",
      "0\n",
      "rm -rf \"/data/CSHL_patch_features/inception-bn-blue/CHATM2/CHATM2_prep2_none_win7/CHATM2_slide15_2018_01_18-S3_prep2_none_win7_inception-bn-blue_features.bp\" && mkdir -p \"/data/CSHL_patch_features/inception-bn-blue/CHATM2/CHATM2_prep2_none_win7\"\n",
      "0\n",
      "aws s3 cp \"s3://mousebrainatlas-data/CSHL_patch_features/inception-bn-blue/CHATM2/CHATM2_prep2_none_win7/CHATM2_slide15_2018_01_18-S3_prep2_none_win7_inception-bn-blue_features.bp\" \"/data/CSHL_patch_features/inception-bn-blue/CHATM2/CHATM2_prep2_none_win7/CHATM2_slide15_2018_01_18-S3_prep2_none_win7_inception-bn-blue_features.bp\"\n"
     ]
    },
    {
     "name": "stderr",
     "output_type": "stream",
     "text": [
      "Save features: 2.86 seconds\n",
      "locate patches: 0.04 seconds\n"
     ]
    },
    {
     "name": "stdout",
     "output_type": "stream",
     "text": [
      "1\n"
     ]
    },
    {
     "name": "stderr",
     "output_type": "stream",
     "text": [
      "Features for CHATM2, 47/CHATM2_slide15_2018_01_18-S3 does not exist.\n",
      "No pre-computed features found... computing from scratch.\n",
      "Not using image_cache.\n"
     ]
    },
    {
     "name": "stdout",
     "output_type": "stream",
     "text": [
      "/data/CSHL_data_processed/CHATM2/CHATM2_prep2_raw_NtbNormalizedAdaptiveInvertedGamma/CHATM2_slide15_2018_01_18-S3_prep2_raw_NtbNormalizedAdaptiveInvertedGamma.tif\n"
     ]
    },
    {
     "name": "stderr",
     "output_type": "stream",
     "text": [
      "Load image: 1.77 seconds.\n",
      "Rescale image from 317 to 224: 4.53 seconds.\n",
      "Crop patches: 0.77 seconds.\n",
      "Extract patches: 7.08 seconds\n"
     ]
    },
    {
     "name": "stdout",
     "output_type": "stream",
     "text": [
      "(23451, 1, 224, 224)\n"
     ]
    },
    {
     "name": "stderr",
     "output_type": "stream",
     "text": [
      "Compute features: 36.63 seconds\n",
      "Compute features at one section, multiple locations: 43.73 seconds\n"
     ]
    },
    {
     "name": "stdout",
     "output_type": "stream",
     "text": [
      "aws s3 cp \"/data/CSHL_patch_features/inception-bn-blue/CHATM2/CHATM2_prep2_none_win7/CHATM2_slide15_2018_01_18-S3_prep2_none_win7_inception-bn-blue_features.bp\" \"s3://mousebrainatlas-data/CSHL_patch_features/inception-bn-blue/CHATM2/CHATM2_prep2_none_win7/CHATM2_slide15_2018_01_18-S3_prep2_none_win7_inception-bn-blue_features.bp\"\n",
      "0\n",
      "aws s3 cp \"/data/CSHL_patch_features/inception-bn-blue/CHATM2/CHATM2_prep2_none_win7/CHATM2_slide15_2018_01_18-S3_prep2_none_win7_inception-bn-blue_locations.bp\" \"s3://mousebrainatlas-data/CSHL_patch_features/inception-bn-blue/CHATM2/CHATM2_prep2_none_win7/CHATM2_slide15_2018_01_18-S3_prep2_none_win7_inception-bn-blue_locations.bp\"\n",
      "0\n",
      "rm -rf \"/data/CSHL_patch_features/inception-bn-blue/CHATM2/CHATM2_prep2_none_win7/CHATM2_slide16_2018_01_18-S3_prep2_none_win7_inception-bn-blue_features.bp\" && mkdir -p \"/data/CSHL_patch_features/inception-bn-blue/CHATM2/CHATM2_prep2_none_win7\"\n",
      "0\n",
      "aws s3 cp \"s3://mousebrainatlas-data/CSHL_patch_features/inception-bn-blue/CHATM2/CHATM2_prep2_none_win7/CHATM2_slide16_2018_01_18-S3_prep2_none_win7_inception-bn-blue_features.bp\" \"/data/CSHL_patch_features/inception-bn-blue/CHATM2/CHATM2_prep2_none_win7/CHATM2_slide16_2018_01_18-S3_prep2_none_win7_inception-bn-blue_features.bp\""
     ]
    },
    {
     "name": "stderr",
     "output_type": "stream",
     "text": [
      "Save features: 3.18 seconds\n",
      "locate patches: 0.09 seconds\n"
     ]
    },
    {
     "name": "stdout",
     "output_type": "stream",
     "text": [
      "\n",
      "1\n"
     ]
    },
    {
     "name": "stderr",
     "output_type": "stream",
     "text": [
      "Features for CHATM2, 48/CHATM2_slide16_2018_01_18-S3 does not exist.\n",
      "No pre-computed features found... computing from scratch.\n",
      "Not using image_cache.\n"
     ]
    },
    {
     "name": "stdout",
     "output_type": "stream",
     "text": [
      "/data/CSHL_data_processed/CHATM2/CHATM2_prep2_raw_NtbNormalizedAdaptiveInvertedGamma/CHATM2_slide16_2018_01_18-S3_prep2_raw_NtbNormalizedAdaptiveInvertedGamma.tif\n"
     ]
    },
    {
     "name": "stderr",
     "output_type": "stream",
     "text": [
      "Load image: 2.73 seconds.\n",
      "Rescale image from 317 to 224: 2.91 seconds.\n",
      "Crop patches: 0.73 seconds.\n",
      "Extract patches: 6.38 seconds\n"
     ]
    },
    {
     "name": "stdout",
     "output_type": "stream",
     "text": [
      "(23397, 1, 224, 224)\n"
     ]
    },
    {
     "name": "stderr",
     "output_type": "stream",
     "text": [
      "Compute features: 36.67 seconds\n",
      "Compute features at one section, multiple locations: 43.07 seconds\n"
     ]
    },
    {
     "name": "stdout",
     "output_type": "stream",
     "text": [
      "aws s3 cp \"/data/CSHL_patch_features/inception-bn-blue/CHATM2/CHATM2_prep2_none_win7/CHATM2_slide16_2018_01_18-S3_prep2_none_win7_inception-bn-blue_features.bp\" \"s3://mousebrainatlas-data/CSHL_patch_features/inception-bn-blue/CHATM2/CHATM2_prep2_none_win7/CHATM2_slide16_2018_01_18-S3_prep2_none_win7_inception-bn-blue_features.bp\"\n",
      "0\n",
      "aws s3 cp \"/data/CSHL_patch_features/inception-bn-blue/CHATM2/CHATM2_prep2_none_win7/CHATM2_slide16_2018_01_18-S3_prep2_none_win7_inception-bn-blue_locations.bp\" \"s3://mousebrainatlas-data/CSHL_patch_features/inception-bn-blue/CHATM2/CHATM2_prep2_none_win7/CHATM2_slide16_2018_01_18-S3_prep2_none_win7_inception-bn-blue_locations.bp\"\n",
      "0\n",
      "rm -rf \"/data/CSHL_patch_features/inception-bn-blue/CHATM2/CHATM2_prep2_none_win7/CHATM2_slide17_2018_01_18-S1_prep2_none_win7_inception-bn-blue_features.bp\" && mkdir -p \"/data/CSHL_patch_features/inception-bn-blue/CHATM2/CHATM2_prep2_none_win7\"\n",
      "0"
     ]
    },
    {
     "name": "stderr",
     "output_type": "stream",
     "text": [
      "Save features: 2.81 seconds\n",
      "locate patches: 0.09 seconds\n"
     ]
    },
    {
     "name": "stdout",
     "output_type": "stream",
     "text": [
      "\n",
      "aws s3 cp \"s3://mousebrainatlas-data/CSHL_patch_features/inception-bn-blue/CHATM2/CHATM2_prep2_none_win7/CHATM2_slide17_2018_01_18-S1_prep2_none_win7_inception-bn-blue_features.bp\" \"/data/CSHL_patch_features/inception-bn-blue/CHATM2/CHATM2_prep2_none_win7/CHATM2_slide17_2018_01_18-S1_prep2_none_win7_inception-bn-blue_features.bp\"\n",
      "1\n"
     ]
    },
    {
     "name": "stderr",
     "output_type": "stream",
     "text": [
      "Features for CHATM2, 49/CHATM2_slide17_2018_01_18-S1 does not exist.\n",
      "No pre-computed features found... computing from scratch.\n",
      "Not using image_cache.\n"
     ]
    },
    {
     "name": "stdout",
     "output_type": "stream",
     "text": [
      "/data/CSHL_data_processed/CHATM2/CHATM2_prep2_raw_NtbNormalizedAdaptiveInvertedGamma/CHATM2_slide17_2018_01_18-S1_prep2_raw_NtbNormalizedAdaptiveInvertedGamma.tif\n"
     ]
    },
    {
     "name": "stderr",
     "output_type": "stream",
     "text": [
      "Load image: 4.72 seconds.\n",
      "Rescale image from 317 to 224: 4.43 seconds.\n",
      "Crop patches: 0.89 seconds.\n",
      "Extract patches: 10.05 seconds\n"
     ]
    },
    {
     "name": "stdout",
     "output_type": "stream",
     "text": [
      "(23866, 1, 224, 224)\n"
     ]
    },
    {
     "name": "stderr",
     "output_type": "stream",
     "text": [
      "Compute features: 36.18 seconds\n",
      "Compute features at one section, multiple locations: 46.26 seconds\n"
     ]
    },
    {
     "name": "stdout",
     "output_type": "stream",
     "text": [
      "aws s3 cp \"/data/CSHL_patch_features/inception-bn-blue/CHATM2/CHATM2_prep2_none_win7/CHATM2_slide17_2018_01_18-S1_prep2_none_win7_inception-bn-blue_features.bp\" \"s3://mousebrainatlas-data/CSHL_patch_features/inception-bn-blue/CHATM2/CHATM2_prep2_none_win7/CHATM2_slide17_2018_01_18-S1_prep2_none_win7_inception-bn-blue_features.bp\"\n",
      "0\n",
      "aws s3 cp \"/data/CSHL_patch_features/inception-bn-blue/CHATM2/CHATM2_prep2_none_win7/CHATM2_slide17_2018_01_18-S1_prep2_none_win7_inception-bn-blue_locations.bp\" \"s3://mousebrainatlas-data/CSHL_patch_features/inception-bn-blue/CHATM2/CHATM2_prep2_none_win7/CHATM2_slide17_2018_01_18-S1_prep2_none_win7_inception-bn-blue_locations.bp\"\n",
      "0\n",
      "rm -rf \"/data/CSHL_patch_features/inception-bn-blue/CHATM2/CHATM2_prep2_none_win7/CHATM2_slide18_2018_01_18-S1_prep2_none_win7_inception-bn-blue_features.bp\" && mkdir -p \"/data/CSHL_patch_features/inception-bn-blue/CHATM2/CHATM2_prep2_none_win7\"\n",
      "0\n",
      "aws s3 cp \"s3://mousebrainatlas-data/CSHL_patch_features/inception-bn-blue/CHATM2/CHATM2_prep2_none_win7/CHATM2_slide18_2018_01_18-S1_prep2_none_win7_inception-bn-blue_features.bp\" \"/data/CSHL_patch_features/inception-bn-blue/CHATM2/CHATM2_prep2_none_win7/CHATM2_slide18_2018_01_18-S1_prep2_none_win7_inception-bn-blue_features.bp\"\n"
     ]
    },
    {
     "name": "stderr",
     "output_type": "stream",
     "text": [
      "Save features: 4.26 seconds\n",
      "locate patches: 0.04 seconds\n"
     ]
    },
    {
     "name": "stdout",
     "output_type": "stream",
     "text": [
      "1\n"
     ]
    },
    {
     "name": "stderr",
     "output_type": "stream",
     "text": [
      "Features for CHATM2, 50/CHATM2_slide18_2018_01_18-S1 does not exist.\n",
      "No pre-computed features found... computing from scratch.\n",
      "Not using image_cache.\n"
     ]
    },
    {
     "name": "stdout",
     "output_type": "stream",
     "text": [
      "/data/CSHL_data_processed/CHATM2/CHATM2_prep2_raw_NtbNormalizedAdaptiveInvertedGamma/CHATM2_slide18_2018_01_18-S1_prep2_raw_NtbNormalizedAdaptiveInvertedGamma.tif\n"
     ]
    },
    {
     "name": "stderr",
     "output_type": "stream",
     "text": [
      "Load image: 4.60 seconds.\n",
      "Rescale image from 317 to 224: 3.18 seconds.\n",
      "Crop patches: 0.93 seconds.\n",
      "Extract patches: 8.73 seconds\n"
     ]
    },
    {
     "name": "stdout",
     "output_type": "stream",
     "text": [
      "(24147, 1, 224, 224)\n"
     ]
    },
    {
     "name": "stderr",
     "output_type": "stream",
     "text": [
      "Compute features: 37.95 seconds\n",
      "Compute features at one section, multiple locations: 46.71 seconds\n"
     ]
    },
    {
     "name": "stdout",
     "output_type": "stream",
     "text": [
      "aws s3 cp \"/data/CSHL_patch_features/inception-bn-blue/CHATM2/CHATM2_prep2_none_win7/CHATM2_slide18_2018_01_18-S1_prep2_none_win7_inception-bn-blue_features.bp\" \"s3://mousebrainatlas-data/CSHL_patch_features/inception-bn-blue/CHATM2/CHATM2_prep2_none_win7/CHATM2_slide18_2018_01_18-S1_prep2_none_win7_inception-bn-blue_features.bp\"\n",
      "0\n",
      "aws s3 cp \"/data/CSHL_patch_features/inception-bn-blue/CHATM2/CHATM2_prep2_none_win7/CHATM2_slide18_2018_01_18-S1_prep2_none_win7_inception-bn-blue_locations.bp\" \"s3://mousebrainatlas-data/CSHL_patch_features/inception-bn-blue/CHATM2/CHATM2_prep2_none_win7/CHATM2_slide18_2018_01_18-S1_prep2_none_win7_inception-bn-blue_locations.bp\"\n",
      "0\n",
      "rm -rf \"/data/CSHL_patch_features/inception-bn-blue/CHATM2/CHATM2_prep2_none_win7/CHATM2_slide17_2018_01_18-S2_prep2_none_win7_inception-bn-blue_features.bp\" && mkdir -p \"/data/CSHL_patch_features/inception-bn-blue/CHATM2/CHATM2_prep2_none_win7\"\n",
      "0\n",
      "aws s3 cp \"s3://mousebrainatlas-data/CSHL_patch_features/inception-bn-blue/CHATM2/CHATM2_prep2_none_win7/CHATM2_slide17_2018_01_18-S2_prep2_none_win7_inception-bn-blue_features.bp\" \"/data/CSHL_patch_features/inception-bn-blue/CHATM2/CHATM2_prep2_none_win7/CHATM2_slide17_2018_01_18-S2_prep2_none_win7_inception-bn-blue_features.bp\"\n"
     ]
    },
    {
     "name": "stderr",
     "output_type": "stream",
     "text": [
      "Save features: 2.86 seconds\n",
      "locate patches: 0.05 seconds\n"
     ]
    },
    {
     "name": "stdout",
     "output_type": "stream",
     "text": [
      "1\n"
     ]
    },
    {
     "name": "stderr",
     "output_type": "stream",
     "text": [
      "Features for CHATM2, 51/CHATM2_slide17_2018_01_18-S2 does not exist.\n",
      "No pre-computed features found... computing from scratch.\n",
      "Not using image_cache.\n"
     ]
    },
    {
     "name": "stdout",
     "output_type": "stream",
     "text": [
      "/data/CSHL_data_processed/CHATM2/CHATM2_prep2_raw_NtbNormalizedAdaptiveInvertedGamma/CHATM2_slide17_2018_01_18-S2_prep2_raw_NtbNormalizedAdaptiveInvertedGamma.tif\n"
     ]
    },
    {
     "name": "stderr",
     "output_type": "stream",
     "text": [
      "Load image: 3.65 seconds.\n",
      "Rescale image from 317 to 224: 3.75 seconds.\n",
      "Crop patches: 0.96 seconds.\n",
      "Extract patches: 8.38 seconds\n"
     ]
    },
    {
     "name": "stdout",
     "output_type": "stream",
     "text": [
      "(24205, 1, 224, 224)\n"
     ]
    },
    {
     "name": "stderr",
     "output_type": "stream",
     "text": [
      "Compute features: 38.25 seconds\n",
      "Compute features at one section, multiple locations: 46.65 seconds\n"
     ]
    },
    {
     "name": "stdout",
     "output_type": "stream",
     "text": [
      "aws s3 cp \"/data/CSHL_patch_features/inception-bn-blue/CHATM2/CHATM2_prep2_none_win7/CHATM2_slide17_2018_01_18-S2_prep2_none_win7_inception-bn-blue_features.bp\" \"s3://mousebrainatlas-data/CSHL_patch_features/inception-bn-blue/CHATM2/CHATM2_prep2_none_win7/CHATM2_slide17_2018_01_18-S2_prep2_none_win7_inception-bn-blue_features.bp\"\n",
      "0\n",
      "aws s3 cp \"/data/CSHL_patch_features/inception-bn-blue/CHATM2/CHATM2_prep2_none_win7/CHATM2_slide17_2018_01_18-S2_prep2_none_win7_inception-bn-blue_locations.bp\" \"s3://mousebrainatlas-data/CSHL_patch_features/inception-bn-blue/CHATM2/CHATM2_prep2_none_win7/CHATM2_slide17_2018_01_18-S2_prep2_none_win7_inception-bn-blue_locations.bp\"\n",
      "0\n",
      "rm -rf \"/data/CSHL_patch_features/inception-bn-blue/CHATM2/CHATM2_prep2_none_win7/CHATM2_slide18_2018_01_18-S2_prep2_none_win7_inception-bn-blue_features.bp\" && mkdir -p \"/data/CSHL_patch_features/inception-bn-blue/CHATM2/CHATM2_prep2_none_win7\"\n"
     ]
    },
    {
     "name": "stderr",
     "output_type": "stream",
     "text": [
      "Save features: 2.78 seconds\n",
      "locate patches: 0.13 seconds\n"
     ]
    },
    {
     "name": "stdout",
     "output_type": "stream",
     "text": [
      "0\n",
      "aws s3 cp \"s3://mousebrainatlas-data/CSHL_patch_features/inception-bn-blue/CHATM2/CHATM2_prep2_none_win7/CHATM2_slide18_2018_01_18-S2_prep2_none_win7_inception-bn-blue_features.bp\" \"/data/CSHL_patch_features/inception-bn-blue/CHATM2/CHATM2_prep2_none_win7/CHATM2_slide18_2018_01_18-S2_prep2_none_win7_inception-bn-blue_features.bp\"\n",
      "1\n"
     ]
    },
    {
     "name": "stderr",
     "output_type": "stream",
     "text": [
      "Features for CHATM2, 52/CHATM2_slide18_2018_01_18-S2 does not exist.\n",
      "No pre-computed features found... computing from scratch.\n",
      "Not using image_cache.\n"
     ]
    },
    {
     "name": "stdout",
     "output_type": "stream",
     "text": [
      "/data/CSHL_data_processed/CHATM2/CHATM2_prep2_raw_NtbNormalizedAdaptiveInvertedGamma/CHATM2_slide18_2018_01_18-S2_prep2_raw_NtbNormalizedAdaptiveInvertedGamma.tif\n"
     ]
    },
    {
     "name": "stderr",
     "output_type": "stream",
     "text": [
      "Load image: 3.57 seconds.\n",
      "Rescale image from 317 to 224: 3.76 seconds.\n",
      "Crop patches: 0.79 seconds.\n",
      "Extract patches: 8.13 seconds\n"
     ]
    },
    {
     "name": "stdout",
     "output_type": "stream",
     "text": [
      "(24252, 1, 224, 224)\n"
     ]
    },
    {
     "name": "stderr",
     "output_type": "stream",
     "text": [
      "Compute features: 39.68 seconds\n",
      "Compute features at one section, multiple locations: 47.84 seconds\n"
     ]
    },
    {
     "name": "stdout",
     "output_type": "stream",
     "text": [
      "aws s3 cp \"/data/CSHL_patch_features/inception-bn-blue/CHATM2/CHATM2_prep2_none_win7/CHATM2_slide18_2018_01_18-S2_prep2_none_win7_inception-bn-blue_features.bp\" \"s3://mousebrainatlas-data/CSHL_patch_features/inception-bn-blue/CHATM2/CHATM2_prep2_none_win7/CHATM2_slide18_2018_01_18-S2_prep2_none_win7_inception-bn-blue_features.bp\"\n",
      "0\n",
      "aws s3 cp \"/data/CSHL_patch_features/inception-bn-blue/CHATM2/CHATM2_prep2_none_win7/CHATM2_slide18_2018_01_18-S2_prep2_none_win7_inception-bn-blue_locations.bp\" \"s3://mousebrainatlas-data/CSHL_patch_features/inception-bn-blue/CHATM2/CHATM2_prep2_none_win7/CHATM2_slide18_2018_01_18-S2_prep2_none_win7_inception-bn-blue_locations.bp\"\n",
      "0\n",
      "rm -rf \"/data/CSHL_patch_features/inception-bn-blue/CHATM2/CHATM2_prep2_none_win7/CHATM2_slide17_2018_01_18-S3_prep2_none_win7_inception-bn-blue_features.bp\" && mkdir -p \"/data/CSHL_patch_features/inception-bn-blue/CHATM2/CHATM2_prep2_none_win7\"\n",
      "0\n",
      "aws s3 cp \"s3://mousebrainatlas-data/CSHL_patch_features/inception-bn-blue/CHATM2/CHATM2_prep2_none_win7/CHATM2_slide17_2018_01_18-S3_prep2_none_win7_inception-bn-blue_features.bp\" \"/data/CSHL_patch_features/inception-bn-blue/CHATM2/CHATM2_prep2_none_win7/CHATM2_slide17_2018_01_18-S3_prep2_none_win7_inception-bn-blue_features.bp\"\n"
     ]
    },
    {
     "name": "stderr",
     "output_type": "stream",
     "text": [
      "Save features: 2.85 seconds\n",
      "locate patches: 0.03 seconds\n"
     ]
    },
    {
     "name": "stdout",
     "output_type": "stream",
     "text": [
      "1\n"
     ]
    },
    {
     "name": "stderr",
     "output_type": "stream",
     "text": [
      "Features for CHATM2, 53/CHATM2_slide17_2018_01_18-S3 does not exist.\n",
      "No pre-computed features found... computing from scratch.\n",
      "Not using image_cache.\n"
     ]
    },
    {
     "name": "stdout",
     "output_type": "stream",
     "text": [
      "/data/CSHL_data_processed/CHATM2/CHATM2_prep2_raw_NtbNormalizedAdaptiveInvertedGamma/CHATM2_slide17_2018_01_18-S3_prep2_raw_NtbNormalizedAdaptiveInvertedGamma.tif\n"
     ]
    },
    {
     "name": "stderr",
     "output_type": "stream",
     "text": [
      "Load image: 3.56 seconds.\n",
      "Rescale image from 317 to 224: 3.97 seconds.\n",
      "Crop patches: 1.06 seconds.\n",
      "Extract patches: 8.61 seconds\n"
     ]
    },
    {
     "name": "stdout",
     "output_type": "stream",
     "text": [
      "(25098, 1, 224, 224)\n"
     ]
    },
    {
     "name": "stderr",
     "output_type": "stream",
     "text": [
      "Compute features: 39.58 seconds\n",
      "Compute features at one section, multiple locations: 48.23 seconds\n"
     ]
    },
    {
     "name": "stdout",
     "output_type": "stream",
     "text": [
      "aws s3 cp \"/data/CSHL_patch_features/inception-bn-blue/CHATM2/CHATM2_prep2_none_win7/CHATM2_slide17_2018_01_18-S3_prep2_none_win7_inception-bn-blue_features.bp\" \"s3://mousebrainatlas-data/CSHL_patch_features/inception-bn-blue/CHATM2/CHATM2_prep2_none_win7/CHATM2_slide17_2018_01_18-S3_prep2_none_win7_inception-bn-blue_features.bp\"\n",
      "0\n",
      "aws s3 cp \"/data/CSHL_patch_features/inception-bn-blue/CHATM2/CHATM2_prep2_none_win7/CHATM2_slide17_2018_01_18-S3_prep2_none_win7_inception-bn-blue_locations.bp\" \"s3://mousebrainatlas-data/CSHL_patch_features/inception-bn-blue/CHATM2/CHATM2_prep2_none_win7/CHATM2_slide17_2018_01_18-S3_prep2_none_win7_inception-bn-blue_locations.bp\"\n",
      "0\n",
      "rm -rf \"/data/CSHL_patch_features/inception-bn-blue/CHATM2/CHATM2_prep2_none_win7/CHATM2_slide18_2018_01_18-S3_prep2_none_win7_inception-bn-blue_features.bp\" && mkdir -p \"/data/CSHL_patch_features/inception-bn-blue/CHATM2/CHATM2_prep2_none_win7\"\n",
      "0\n",
      "aws s3 cp \"s3://mousebrainatlas-data/CSHL_patch_features/inception-bn-blue/CHATM2/CHATM2_prep2_none_win7/CHATM2_slide18_2018_01_18-S3_prep2_none_win7_inception-bn-blue_features.bp\" \"/data/CSHL_patch_features/inception-bn-blue/CHATM2/CHATM2_prep2_none_win7/CHATM2_slide18_2018_01_18-S3_prep2_none_win7_inception-bn-blue_features.bp\"\n"
     ]
    },
    {
     "name": "stderr",
     "output_type": "stream",
     "text": [
      "Save features: 4.10 seconds\n",
      "locate patches: 0.05 seconds\n"
     ]
    },
    {
     "name": "stdout",
     "output_type": "stream",
     "text": [
      "1\n"
     ]
    },
    {
     "name": "stderr",
     "output_type": "stream",
     "text": [
      "Features for CHATM2, 54/CHATM2_slide18_2018_01_18-S3 does not exist.\n",
      "No pre-computed features found... computing from scratch.\n",
      "Not using image_cache.\n"
     ]
    },
    {
     "name": "stdout",
     "output_type": "stream",
     "text": [
      "/data/CSHL_data_processed/CHATM2/CHATM2_prep2_raw_NtbNormalizedAdaptiveInvertedGamma/CHATM2_slide18_2018_01_18-S3_prep2_raw_NtbNormalizedAdaptiveInvertedGamma.tif\n"
     ]
    },
    {
     "name": "stderr",
     "output_type": "stream",
     "text": [
      "Load image: 2.91 seconds.\n",
      "Rescale image from 317 to 224: 3.75 seconds.\n",
      "Crop patches: 0.89 seconds.\n",
      "Extract patches: 7.56 seconds\n"
     ]
    },
    {
     "name": "stdout",
     "output_type": "stream",
     "text": [
      "(25133, 1, 224, 224)\n"
     ]
    },
    {
     "name": "stderr",
     "output_type": "stream",
     "text": [
      "Compute features: 41.06 seconds\n",
      "Compute features at one section, multiple locations: 48.65 seconds\n"
     ]
    },
    {
     "name": "stdout",
     "output_type": "stream",
     "text": [
      "aws s3 cp \"/data/CSHL_patch_features/inception-bn-blue/CHATM2/CHATM2_prep2_none_win7/CHATM2_slide18_2018_01_18-S3_prep2_none_win7_inception-bn-blue_features.bp\" \"s3://mousebrainatlas-data/CSHL_patch_features/inception-bn-blue/CHATM2/CHATM2_prep2_none_win7/CHATM2_slide18_2018_01_18-S3_prep2_none_win7_inception-bn-blue_features.bp\"\n",
      "0\n",
      "aws s3 cp \"/data/CSHL_patch_features/inception-bn-blue/CHATM2/CHATM2_prep2_none_win7/CHATM2_slide18_2018_01_18-S3_prep2_none_win7_inception-bn-blue_locations.bp\" \"s3://mousebrainatlas-data/CSHL_patch_features/inception-bn-blue/CHATM2/CHATM2_prep2_none_win7/CHATM2_slide18_2018_01_18-S3_prep2_none_win7_inception-bn-blue_locations.bp\"\n",
      "0\n",
      "rm -rf \"/data/CSHL_patch_features/inception-bn-blue/CHATM2/CHATM2_prep2_none_win7/CHATM2_slide19_2018_01_18-S1_prep2_none_win7_inception-bn-blue_features.bp\" && mkdir -p \"/data/CSHL_patch_features/inception-bn-blue/CHATM2/CHATM2_prep2_none_win7\"\n",
      "0\n",
      "aws s3 cp \"s3://mousebrainatlas-data/CSHL_patch_features/inception-bn-blue/CHATM2/CHATM2_prep2_none_win7/CHATM2_slide19_2018_01_18-S1_prep2_none_win7_inception-bn-blue_features.bp\" \"/data/CSHL_patch_features/inception-bn-blue/CHATM2/CHATM2_prep2_none_win7/CHATM2_slide19_2018_01_18-S1_prep2_none_win7_inception-bn-blue_features.bp\"\n"
     ]
    },
    {
     "name": "stderr",
     "output_type": "stream",
     "text": [
      "Save features: 2.98 seconds\n",
      "locate patches: 0.03 seconds\n"
     ]
    },
    {
     "name": "stdout",
     "output_type": "stream",
     "text": [
      "1\n"
     ]
    },
    {
     "name": "stderr",
     "output_type": "stream",
     "text": [
      "Features for CHATM2, 55/CHATM2_slide19_2018_01_18-S1 does not exist.\n",
      "No pre-computed features found... computing from scratch.\n",
      "Not using image_cache.\n"
     ]
    },
    {
     "name": "stdout",
     "output_type": "stream",
     "text": [
      "/data/CSHL_data_processed/CHATM2/CHATM2_prep2_raw_NtbNormalizedAdaptiveInvertedGamma/CHATM2_slide19_2018_01_18-S1_prep2_raw_NtbNormalizedAdaptiveInvertedGamma.tif\n"
     ]
    },
    {
     "name": "stderr",
     "output_type": "stream",
     "text": [
      "Load image: 4.05 seconds.\n",
      "Rescale image from 317 to 224: 3.68 seconds.\n",
      "Crop patches: 1.11 seconds.\n",
      "Extract patches: 8.86 seconds\n"
     ]
    },
    {
     "name": "stdout",
     "output_type": "stream",
     "text": [
      "(25189, 1, 224, 224)\n"
     ]
    },
    {
     "name": "stderr",
     "output_type": "stream",
     "text": [
      "Compute features: 38.89 seconds\n",
      "Compute features at one section, multiple locations: 47.78 seconds\n"
     ]
    },
    {
     "name": "stdout",
     "output_type": "stream",
     "text": [
      "aws s3 cp \"/data/CSHL_patch_features/inception-bn-blue/CHATM2/CHATM2_prep2_none_win7/CHATM2_slide19_2018_01_18-S1_prep2_none_win7_inception-bn-blue_features.bp\" \"s3://mousebrainatlas-data/CSHL_patch_features/inception-bn-blue/CHATM2/CHATM2_prep2_none_win7/CHATM2_slide19_2018_01_18-S1_prep2_none_win7_inception-bn-blue_features.bp\"\n",
      "0\n",
      "aws s3 cp \"/data/CSHL_patch_features/inception-bn-blue/CHATM2/CHATM2_prep2_none_win7/CHATM2_slide19_2018_01_18-S1_prep2_none_win7_inception-bn-blue_locations.bp\" \"s3://mousebrainatlas-data/CSHL_patch_features/inception-bn-blue/CHATM2/CHATM2_prep2_none_win7/CHATM2_slide19_2018_01_18-S1_prep2_none_win7_inception-bn-blue_locations.bp\"\n",
      "0\n",
      "rm -rf \"/data/CSHL_patch_features/inception-bn-blue/CHATM2/CHATM2_prep2_none_win7/CHATM2_slide20_2018_01_18-S1_prep2_none_win7_inception-bn-blue_features.bp\" && mkdir -p \"/data/CSHL_patch_features/inception-bn-blue/CHATM2/CHATM2_prep2_none_win7\"\n",
      "0\n",
      "aws s3 cp \"s3://mousebrainatlas-data/CSHL_patch_features/inception-bn-blue/CHATM2/CHATM2_prep2_none_win7/CHATM2_slide20_2018_01_18-S1_prep2_none_win7_inception-bn-blue_features.bp\" \"/data/CSHL_patch_features/inception-bn-blue/CHATM2/CHATM2_prep2_none_win7/CHATM2_slide20_2018_01_18-S1_prep2_none_win7_inception-bn-blue_features.bp\"\n"
     ]
    },
    {
     "name": "stderr",
     "output_type": "stream",
     "text": [
      "Save features: 2.94 seconds\n",
      "locate patches: 0.06 seconds\n"
     ]
    },
    {
     "name": "stdout",
     "output_type": "stream",
     "text": [
      "1\n"
     ]
    },
    {
     "name": "stderr",
     "output_type": "stream",
     "text": [
      "Features for CHATM2, 56/CHATM2_slide20_2018_01_18-S1 does not exist.\n",
      "No pre-computed features found... computing from scratch.\n",
      "Not using image_cache.\n"
     ]
    },
    {
     "name": "stdout",
     "output_type": "stream",
     "text": [
      "/data/CSHL_data_processed/CHATM2/CHATM2_prep2_raw_NtbNormalizedAdaptiveInvertedGamma/CHATM2_slide20_2018_01_18-S1_prep2_raw_NtbNormalizedAdaptiveInvertedGamma.tif\n"
     ]
    },
    {
     "name": "stderr",
     "output_type": "stream",
     "text": [
      "Load image: 1.76 seconds.\n",
      "Rescale image from 317 to 224: 3.67 seconds.\n",
      "Crop patches: 0.97 seconds.\n",
      "Extract patches: 6.42 seconds\n"
     ]
    },
    {
     "name": "stdout",
     "output_type": "stream",
     "text": [
      "(25688, 1, 224, 224)\n"
     ]
    },
    {
     "name": "stderr",
     "output_type": "stream",
     "text": [
      "Compute features: 40.36 seconds\n",
      "Compute features at one section, multiple locations: 46.80 seconds\n"
     ]
    },
    {
     "name": "stdout",
     "output_type": "stream",
     "text": [
      "aws s3 cp \"/data/CSHL_patch_features/inception-bn-blue/CHATM2/CHATM2_prep2_none_win7/CHATM2_slide20_2018_01_18-S1_prep2_none_win7_inception-bn-blue_features.bp\" \"s3://mousebrainatlas-data/CSHL_patch_features/inception-bn-blue/CHATM2/CHATM2_prep2_none_win7/CHATM2_slide20_2018_01_18-S1_prep2_none_win7_inception-bn-blue_features.bp\"\n",
      "0\n",
      "aws s3 cp \"/data/CSHL_patch_features/inception-bn-blue/CHATM2/CHATM2_prep2_none_win7/CHATM2_slide20_2018_01_18-S1_prep2_none_win7_inception-bn-blue_locations.bp\" \"s3://mousebrainatlas-data/CSHL_patch_features/inception-bn-blue/CHATM2/CHATM2_prep2_none_win7/CHATM2_slide20_2018_01_18-S1_prep2_none_win7_inception-bn-blue_locations.bp\"\n",
      "0\n",
      "rm -rf \"/data/CSHL_patch_features/inception-bn-blue/CHATM2/CHATM2_prep2_none_win7/CHATM2_slide19_2018_01_18-S2_prep2_none_win7_inception-bn-blue_features.bp\" && mkdir -p \"/data/CSHL_patch_features/inception-bn-blue/CHATM2/CHATM2_prep2_none_win7\"\n",
      "0\n",
      "aws s3 cp \"s3://mousebrainatlas-data/CSHL_patch_features/inception-bn-blue/CHATM2/CHATM2_prep2_none_win7/CHATM2_slide19_2018_01_18-S2_prep2_none_win7_inception-bn-blue_features.bp\" \"/data/CSHL_patch_features/inception-bn-blue/CHATM2/CHATM2_prep2_none_win7/CHATM2_slide19_2018_01_18-S2_prep2_none_win7_inception-bn-blue_features.bp\"\n"
     ]
    },
    {
     "name": "stderr",
     "output_type": "stream",
     "text": [
      "Save features: 3.75 seconds\n",
      "locate patches: 0.08 seconds\n"
     ]
    },
    {
     "name": "stdout",
     "output_type": "stream",
     "text": [
      "1\n"
     ]
    },
    {
     "name": "stderr",
     "output_type": "stream",
     "text": [
      "Features for CHATM2, 57/CHATM2_slide19_2018_01_18-S2 does not exist.\n",
      "No pre-computed features found... computing from scratch.\n",
      "Not using image_cache.\n"
     ]
    },
    {
     "name": "stdout",
     "output_type": "stream",
     "text": [
      "/data/CSHL_data_processed/CHATM2/CHATM2_prep2_raw_NtbNormalizedAdaptiveInvertedGamma/CHATM2_slide19_2018_01_18-S2_prep2_raw_NtbNormalizedAdaptiveInvertedGamma.tif\n"
     ]
    },
    {
     "name": "stderr",
     "output_type": "stream",
     "text": [
      "Load image: 4.19 seconds.\n",
      "Rescale image from 317 to 224: 4.26 seconds.\n",
      "Crop patches: 0.95 seconds.\n",
      "Extract patches: 9.42 seconds\n"
     ]
    },
    {
     "name": "stdout",
     "output_type": "stream",
     "text": [
      "(25353, 1, 224, 224)\n"
     ]
    },
    {
     "name": "stderr",
     "output_type": "stream",
     "text": [
      "Compute features: 39.40 seconds\n",
      "Compute features at one section, multiple locations: 48.83 seconds\n"
     ]
    },
    {
     "name": "stdout",
     "output_type": "stream",
     "text": [
      "aws s3 cp \"/data/CSHL_patch_features/inception-bn-blue/CHATM2/CHATM2_prep2_none_win7/CHATM2_slide19_2018_01_18-S2_prep2_none_win7_inception-bn-blue_features.bp\" \"s3://mousebrainatlas-data/CSHL_patch_features/inception-bn-blue/CHATM2/CHATM2_prep2_none_win7/CHATM2_slide19_2018_01_18-S2_prep2_none_win7_inception-bn-blue_features.bp\"\n",
      "0\n",
      "aws s3 cp \"/data/CSHL_patch_features/inception-bn-blue/CHATM2/CHATM2_prep2_none_win7/CHATM2_slide19_2018_01_18-S2_prep2_none_win7_inception-bn-blue_locations.bp\" \"s3://mousebrainatlas-data/CSHL_patch_features/inception-bn-blue/CHATM2/CHATM2_prep2_none_win7/CHATM2_slide19_2018_01_18-S2_prep2_none_win7_inception-bn-blue_locations.bp\"\n",
      "0\n",
      "rm -rf \"/data/CSHL_patch_features/inception-bn-blue/CHATM2/CHATM2_prep2_none_win7/CHATM2_slide20_2018_01_18-S2_prep2_none_win7_inception-bn-blue_features.bp\" && mkdir -p \"/data/CSHL_patch_features/inception-bn-blue/CHATM2/CHATM2_prep2_none_win7\"\n",
      "0"
     ]
    },
    {
     "name": "stderr",
     "output_type": "stream",
     "text": [
      "Save features: 3.01 seconds\n",
      "locate patches: 0.12 seconds\n"
     ]
    },
    {
     "name": "stdout",
     "output_type": "stream",
     "text": [
      "\n",
      "aws s3 cp \"s3://mousebrainatlas-data/CSHL_patch_features/inception-bn-blue/CHATM2/CHATM2_prep2_none_win7/CHATM2_slide20_2018_01_18-S2_prep2_none_win7_inception-bn-blue_features.bp\" \"/data/CSHL_patch_features/inception-bn-blue/CHATM2/CHATM2_prep2_none_win7/CHATM2_slide20_2018_01_18-S2_prep2_none_win7_inception-bn-blue_features.bp\"\n",
      "1\n"
     ]
    },
    {
     "name": "stderr",
     "output_type": "stream",
     "text": [
      "Features for CHATM2, 58/CHATM2_slide20_2018_01_18-S2 does not exist.\n",
      "No pre-computed features found... computing from scratch.\n",
      "Not using image_cache.\n"
     ]
    },
    {
     "name": "stdout",
     "output_type": "stream",
     "text": [
      "/data/CSHL_data_processed/CHATM2/CHATM2_prep2_raw_NtbNormalizedAdaptiveInvertedGamma/CHATM2_slide20_2018_01_18-S2_prep2_raw_NtbNormalizedAdaptiveInvertedGamma.tif\n"
     ]
    },
    {
     "name": "stderr",
     "output_type": "stream",
     "text": [
      "Load image: 2.64 seconds.\n",
      "Rescale image from 317 to 224: 3.57 seconds.\n",
      "Crop patches: 0.91 seconds.\n",
      "Extract patches: 7.14 seconds\n"
     ]
    },
    {
     "name": "stdout",
     "output_type": "stream",
     "text": [
      "(25948, 1, 224, 224)\n"
     ]
    },
    {
     "name": "stderr",
     "output_type": "stream",
     "text": [
      "Compute features: 40.25 seconds\n",
      "Compute features at one section, multiple locations: 47.40 seconds\n"
     ]
    },
    {
     "name": "stdout",
     "output_type": "stream",
     "text": [
      "aws s3 cp \"/data/CSHL_patch_features/inception-bn-blue/CHATM2/CHATM2_prep2_none_win7/CHATM2_slide20_2018_01_18-S2_prep2_none_win7_inception-bn-blue_features.bp\" \"s3://mousebrainatlas-data/CSHL_patch_features/inception-bn-blue/CHATM2/CHATM2_prep2_none_win7/CHATM2_slide20_2018_01_18-S2_prep2_none_win7_inception-bn-blue_features.bp\"\n",
      "0\n",
      "aws s3 cp \"/data/CSHL_patch_features/inception-bn-blue/CHATM2/CHATM2_prep2_none_win7/CHATM2_slide20_2018_01_18-S2_prep2_none_win7_inception-bn-blue_locations.bp\" \"s3://mousebrainatlas-data/CSHL_patch_features/inception-bn-blue/CHATM2/CHATM2_prep2_none_win7/CHATM2_slide20_2018_01_18-S2_prep2_none_win7_inception-bn-blue_locations.bp\"\n",
      "0\n",
      "rm -rf \"/data/CSHL_patch_features/inception-bn-blue/CHATM2/CHATM2_prep2_none_win7/CHATM2_slide19_2018_01_18-S3_prep2_none_win7_inception-bn-blue_features.bp\" && mkdir -p \"/data/CSHL_patch_features/inception-bn-blue/CHATM2/CHATM2_prep2_none_win7\"\n",
      "0\n",
      "aws s3 cp \"s3://mousebrainatlas-data/CSHL_patch_features/inception-bn-blue/CHATM2/CHATM2_prep2_none_win7/CHATM2_slide19_2018_01_18-S3_prep2_none_win7_inception-bn-blue_features.bp\" \"/data/CSHL_patch_features/inception-bn-blue/CHATM2/CHATM2_prep2_none_win7/CHATM2_slide19_2018_01_18-S3_prep2_none_win7_inception-bn-blue_features.bp\"\n"
     ]
    },
    {
     "name": "stderr",
     "output_type": "stream",
     "text": [
      "Save features: 2.91 seconds\n",
      "locate patches: 0.03 seconds\n"
     ]
    },
    {
     "name": "stdout",
     "output_type": "stream",
     "text": [
      "1\n"
     ]
    },
    {
     "name": "stderr",
     "output_type": "stream",
     "text": [
      "Features for CHATM2, 59/CHATM2_slide19_2018_01_18-S3 does not exist.\n",
      "No pre-computed features found... computing from scratch.\n",
      "Not using image_cache.\n"
     ]
    },
    {
     "name": "stdout",
     "output_type": "stream",
     "text": [
      "/data/CSHL_data_processed/CHATM2/CHATM2_prep2_raw_NtbNormalizedAdaptiveInvertedGamma/CHATM2_slide19_2018_01_18-S3_prep2_raw_NtbNormalizedAdaptiveInvertedGamma.tif\n"
     ]
    },
    {
     "name": "stderr",
     "output_type": "stream",
     "text": [
      "Load image: 3.08 seconds.\n",
      "Rescale image from 317 to 224: 3.52 seconds.\n",
      "Crop patches: 0.86 seconds.\n",
      "Extract patches: 7.48 seconds\n"
     ]
    },
    {
     "name": "stdout",
     "output_type": "stream",
     "text": [
      "(26137, 1, 224, 224)\n"
     ]
    },
    {
     "name": "stderr",
     "output_type": "stream",
     "text": [
      "Compute features: 40.65 seconds\n",
      "Compute features at one section, multiple locations: 48.14 seconds\n"
     ]
    },
    {
     "name": "stdout",
     "output_type": "stream",
     "text": [
      "aws s3 cp \"/data/CSHL_patch_features/inception-bn-blue/CHATM2/CHATM2_prep2_none_win7/CHATM2_slide19_2018_01_18-S3_prep2_none_win7_inception-bn-blue_features.bp\" \"s3://mousebrainatlas-data/CSHL_patch_features/inception-bn-blue/CHATM2/CHATM2_prep2_none_win7/CHATM2_slide19_2018_01_18-S3_prep2_none_win7_inception-bn-blue_features.bp\"\n",
      "0\n",
      "aws s3 cp \"/data/CSHL_patch_features/inception-bn-blue/CHATM2/CHATM2_prep2_none_win7/CHATM2_slide19_2018_01_18-S3_prep2_none_win7_inception-bn-blue_locations.bp\" \"s3://mousebrainatlas-data/CSHL_patch_features/inception-bn-blue/CHATM2/CHATM2_prep2_none_win7/CHATM2_slide19_2018_01_18-S3_prep2_none_win7_inception-bn-blue_locations.bp\"\n",
      "0\n",
      "rm -rf \"/data/CSHL_patch_features/inception-bn-blue/CHATM2/CHATM2_prep2_none_win7/CHATM2_slide20_2018_01_18-S3_prep2_none_win7_inception-bn-blue_features.bp\" && mkdir -p \"/data/CSHL_patch_features/inception-bn-blue/CHATM2/CHATM2_prep2_none_win7\"\n",
      "0\n",
      "aws s3 cp \"s3://mousebrainatlas-data/CSHL_patch_features/inception-bn-blue/CHATM2/CHATM2_prep2_none_win7/CHATM2_slide20_2018_01_18-S3_prep2_none_win7_inception-bn-blue_features.bp\" \"/data/CSHL_patch_features/inception-bn-blue/CHATM2/CHATM2_prep2_none_win7/CHATM2_slide20_2018_01_18-S3_prep2_none_win7_inception-bn-blue_features.bp\"\n"
     ]
    },
    {
     "name": "stderr",
     "output_type": "stream",
     "text": [
      "Save features: 3.59 seconds\n",
      "locate patches: 0.04 seconds\n"
     ]
    },
    {
     "name": "stdout",
     "output_type": "stream",
     "text": [
      "1\n"
     ]
    },
    {
     "name": "stderr",
     "output_type": "stream",
     "text": [
      "Features for CHATM2, 60/CHATM2_slide20_2018_01_18-S3 does not exist.\n",
      "No pre-computed features found... computing from scratch.\n",
      "Not using image_cache.\n"
     ]
    },
    {
     "name": "stdout",
     "output_type": "stream",
     "text": [
      "/data/CSHL_data_processed/CHATM2/CHATM2_prep2_raw_NtbNormalizedAdaptiveInvertedGamma/CHATM2_slide20_2018_01_18-S3_prep2_raw_NtbNormalizedAdaptiveInvertedGamma.tif\n"
     ]
    },
    {
     "name": "stderr",
     "output_type": "stream",
     "text": [
      "Load image: 1.80 seconds.\n",
      "Rescale image from 317 to 224: 3.54 seconds.\n",
      "Crop patches: 0.69 seconds.\n",
      "Extract patches: 6.05 seconds\n"
     ]
    },
    {
     "name": "stdout",
     "output_type": "stream",
     "text": [
      "(26154, 1, 224, 224)\n"
     ]
    },
    {
     "name": "stderr",
     "output_type": "stream",
     "text": [
      "Compute features: 40.78 seconds\n",
      "Compute features at one section, multiple locations: 46.86 seconds\n"
     ]
    },
    {
     "name": "stdout",
     "output_type": "stream",
     "text": [
      "aws s3 cp \"/data/CSHL_patch_features/inception-bn-blue/CHATM2/CHATM2_prep2_none_win7/CHATM2_slide20_2018_01_18-S3_prep2_none_win7_inception-bn-blue_features.bp\" \"s3://mousebrainatlas-data/CSHL_patch_features/inception-bn-blue/CHATM2/CHATM2_prep2_none_win7/CHATM2_slide20_2018_01_18-S3_prep2_none_win7_inception-bn-blue_features.bp\"\n",
      "0\n",
      "aws s3 cp \"/data/CSHL_patch_features/inception-bn-blue/CHATM2/CHATM2_prep2_none_win7/CHATM2_slide20_2018_01_18-S3_prep2_none_win7_inception-bn-blue_locations.bp\" \"s3://mousebrainatlas-data/CSHL_patch_features/inception-bn-blue/CHATM2/CHATM2_prep2_none_win7/CHATM2_slide20_2018_01_18-S3_prep2_none_win7_inception-bn-blue_locations.bp\"\n",
      "0\n",
      "rm -rf \"/data/CSHL_patch_features/inception-bn-blue/CHATM2/CHATM2_prep2_none_win7/CHATM2_slide21_2018_01_18-S1_prep2_none_win7_inception-bn-blue_features.bp\" && mkdir -p \"/data/CSHL_patch_features/inception-bn-blue/CHATM2/CHATM2_prep2_none_win7\"\n",
      "0\n",
      "aws s3 cp \"s3://mousebrainatlas-data/CSHL_patch_features/inception-bn-blue/CHATM2/CHATM2_prep2_none_win7/CHATM2_slide21_2018_01_18-S1_prep2_none_win7_inception-bn-blue_features.bp\" \"/data/CSHL_patch_features/inception-bn-blue/CHATM2/CHATM2_prep2_none_win7/CHATM2_slide21_2018_01_18-S1_prep2_none_win7_inception-bn-blue_features.bp\"\n"
     ]
    },
    {
     "name": "stderr",
     "output_type": "stream",
     "text": [
      "Save features: 3.70 seconds\n",
      "locate patches: 0.05 seconds\n"
     ]
    },
    {
     "name": "stdout",
     "output_type": "stream",
     "text": [
      "1\n"
     ]
    },
    {
     "name": "stderr",
     "output_type": "stream",
     "text": [
      "Features for CHATM2, 61/CHATM2_slide21_2018_01_18-S1 does not exist.\n",
      "No pre-computed features found... computing from scratch.\n",
      "Not using image_cache.\n"
     ]
    },
    {
     "name": "stdout",
     "output_type": "stream",
     "text": [
      "/data/CSHL_data_processed/CHATM2/CHATM2_prep2_raw_NtbNormalizedAdaptiveInvertedGamma/CHATM2_slide21_2018_01_18-S1_prep2_raw_NtbNormalizedAdaptiveInvertedGamma.tif\n"
     ]
    },
    {
     "name": "stderr",
     "output_type": "stream",
     "text": [
      "Load image: 3.65 seconds.\n",
      "Rescale image from 317 to 224: 3.62 seconds.\n",
      "Crop patches: 0.87 seconds.\n",
      "Extract patches: 8.16 seconds\n"
     ]
    },
    {
     "name": "stdout",
     "output_type": "stream",
     "text": [
      "(26548, 1, 224, 224)\n"
     ]
    },
    {
     "name": "stderr",
     "output_type": "stream",
     "text": [
      "Compute features: 41.07 seconds\n",
      "Compute features at one section, multiple locations: 49.24 seconds\n"
     ]
    },
    {
     "name": "stdout",
     "output_type": "stream",
     "text": [
      "aws s3 cp \"/data/CSHL_patch_features/inception-bn-blue/CHATM2/CHATM2_prep2_none_win7/CHATM2_slide21_2018_01_18-S1_prep2_none_win7_inception-bn-blue_features.bp\" \"s3://mousebrainatlas-data/CSHL_patch_features/inception-bn-blue/CHATM2/CHATM2_prep2_none_win7/CHATM2_slide21_2018_01_18-S1_prep2_none_win7_inception-bn-blue_features.bp\"\n",
      "0\n",
      "aws s3 cp \"/data/CSHL_patch_features/inception-bn-blue/CHATM2/CHATM2_prep2_none_win7/CHATM2_slide21_2018_01_18-S1_prep2_none_win7_inception-bn-blue_locations.bp\" \"s3://mousebrainatlas-data/CSHL_patch_features/inception-bn-blue/CHATM2/CHATM2_prep2_none_win7/CHATM2_slide21_2018_01_18-S1_prep2_none_win7_inception-bn-blue_locations.bp\"\n",
      "0\n",
      "rm -rf \"/data/CSHL_patch_features/inception-bn-blue/CHATM2/CHATM2_prep2_none_win7/CHATM2_slide22_2018_01_19-S1_prep2_none_win7_inception-bn-blue_features.bp\" && mkdir -p \"/data/CSHL_patch_features/inception-bn-blue/CHATM2/CHATM2_prep2_none_win7\"\n",
      "0\n",
      "aws s3 cp \"s3://mousebrainatlas-data/CSHL_patch_features/inception-bn-blue/CHATM2/CHATM2_prep2_none_win7/CHATM2_slide22_2018_01_19-S1_prep2_none_win7_inception-bn-blue_features.bp\" \"/data/CSHL_patch_features/inception-bn-blue/CHATM2/CHATM2_prep2_none_win7/CHATM2_slide22_2018_01_19-S1_prep2_none_win7_inception-bn-blue_features.bp\"\n"
     ]
    },
    {
     "name": "stderr",
     "output_type": "stream",
     "text": [
      "Save features: 3.51 seconds\n",
      "locate patches: 0.07 seconds\n"
     ]
    },
    {
     "name": "stdout",
     "output_type": "stream",
     "text": [
      "1\n"
     ]
    },
    {
     "name": "stderr",
     "output_type": "stream",
     "text": [
      "Features for CHATM2, 62/CHATM2_slide22_2018_01_19-S1 does not exist.\n",
      "No pre-computed features found... computing from scratch.\n",
      "Not using image_cache.\n"
     ]
    },
    {
     "name": "stdout",
     "output_type": "stream",
     "text": [
      "/data/CSHL_data_processed/CHATM2/CHATM2_prep2_raw_NtbNormalizedAdaptiveInvertedGamma/CHATM2_slide22_2018_01_19-S1_prep2_raw_NtbNormalizedAdaptiveInvertedGamma.tif\n"
     ]
    },
    {
     "name": "stderr",
     "output_type": "stream",
     "text": [
      "Load image: 4.72 seconds.\n",
      "Rescale image from 317 to 224: 3.49 seconds.\n",
      "Crop patches: 0.84 seconds.\n",
      "Extract patches: 9.08 seconds\n"
     ]
    },
    {
     "name": "stdout",
     "output_type": "stream",
     "text": [
      "(26098, 1, 224, 224)\n"
     ]
    },
    {
     "name": "stderr",
     "output_type": "stream",
     "text": [
      "Compute features: 40.15 seconds\n",
      "Compute features at one section, multiple locations: 49.24 seconds\n"
     ]
    },
    {
     "name": "stdout",
     "output_type": "stream",
     "text": [
      "aws s3 cp \"/data/CSHL_patch_features/inception-bn-blue/CHATM2/CHATM2_prep2_none_win7/CHATM2_slide22_2018_01_19-S1_prep2_none_win7_inception-bn-blue_features.bp\" \"s3://mousebrainatlas-data/CSHL_patch_features/inception-bn-blue/CHATM2/CHATM2_prep2_none_win7/CHATM2_slide22_2018_01_19-S1_prep2_none_win7_inception-bn-blue_features.bp\"\n",
      "0\n",
      "aws s3 cp \"/data/CSHL_patch_features/inception-bn-blue/CHATM2/CHATM2_prep2_none_win7/CHATM2_slide22_2018_01_19-S1_prep2_none_win7_inception-bn-blue_locations.bp\" \"s3://mousebrainatlas-data/CSHL_patch_features/inception-bn-blue/CHATM2/CHATM2_prep2_none_win7/CHATM2_slide22_2018_01_19-S1_prep2_none_win7_inception-bn-blue_locations.bp\"\n",
      "0\n",
      "rm -rf \"/data/CSHL_patch_features/inception-bn-blue/CHATM2/CHATM2_prep2_none_win7/CHATM2_slide21_2018_01_18-S2_prep2_none_win7_inception-bn-blue_features.bp\" && mkdir -p \"/data/CSHL_patch_features/inception-bn-blue/CHATM2/CHATM2_prep2_none_win7\"\n",
      "0\n",
      "aws s3 cp \"s3://mousebrainatlas-data/CSHL_patch_features/inception-bn-blue/CHATM2/CHATM2_prep2_none_win7/CHATM2_slide21_2018_01_18-S2_prep2_none_win7_inception-bn-blue_features.bp\" \"/data/CSHL_patch_features/inception-bn-blue/CHATM2/CHATM2_prep2_none_win7/CHATM2_slide21_2018_01_18-S2_prep2_none_win7_inception-bn-blue_features.bp\"\n"
     ]
    },
    {
     "name": "stderr",
     "output_type": "stream",
     "text": [
      "Save features: 2.72 seconds\n",
      "locate patches: 0.04 seconds\n"
     ]
    },
    {
     "name": "stdout",
     "output_type": "stream",
     "text": [
      "1\n"
     ]
    },
    {
     "name": "stderr",
     "output_type": "stream",
     "text": [
      "Features for CHATM2, 63/CHATM2_slide21_2018_01_18-S2 does not exist.\n",
      "No pre-computed features found... computing from scratch.\n",
      "Not using image_cache.\n"
     ]
    },
    {
     "name": "stdout",
     "output_type": "stream",
     "text": [
      "/data/CSHL_data_processed/CHATM2/CHATM2_prep2_raw_NtbNormalizedAdaptiveInvertedGamma/CHATM2_slide21_2018_01_18-S2_prep2_raw_NtbNormalizedAdaptiveInvertedGamma.tif\n"
     ]
    },
    {
     "name": "stderr",
     "output_type": "stream",
     "text": [
      "Load image: 3.64 seconds.\n",
      "Rescale image from 317 to 224: 3.52 seconds.\n",
      "Crop patches: 0.72 seconds.\n",
      "Extract patches: 7.90 seconds\n"
     ]
    },
    {
     "name": "stdout",
     "output_type": "stream",
     "text": [
      "(25460, 1, 224, 224)\n"
     ]
    },
    {
     "name": "stderr",
     "output_type": "stream",
     "text": [
      "Compute features: 39.46 seconds\n",
      "Compute features at one section, multiple locations: 47.38 seconds\n"
     ]
    },
    {
     "name": "stdout",
     "output_type": "stream",
     "text": [
      "aws s3 cp \"/data/CSHL_patch_features/inception-bn-blue/CHATM2/CHATM2_prep2_none_win7/CHATM2_slide21_2018_01_18-S2_prep2_none_win7_inception-bn-blue_features.bp\" \"s3://mousebrainatlas-data/CSHL_patch_features/inception-bn-blue/CHATM2/CHATM2_prep2_none_win7/CHATM2_slide21_2018_01_18-S2_prep2_none_win7_inception-bn-blue_features.bp\"\n",
      "0\n",
      "aws s3 cp \"/data/CSHL_patch_features/inception-bn-blue/CHATM2/CHATM2_prep2_none_win7/CHATM2_slide21_2018_01_18-S2_prep2_none_win7_inception-bn-blue_locations.bp\" \"s3://mousebrainatlas-data/CSHL_patch_features/inception-bn-blue/CHATM2/CHATM2_prep2_none_win7/CHATM2_slide21_2018_01_18-S2_prep2_none_win7_inception-bn-blue_locations.bp\"\n",
      "0\n",
      "rm -rf \"/data/CSHL_patch_features/inception-bn-blue/CHATM2/CHATM2_prep2_none_win7/CHATM2_slide22_2018_01_19-S2_prep2_none_win7_inception-bn-blue_features.bp\" && mkdir -p \"/data/CSHL_patch_features/inception-bn-blue/CHATM2/CHATM2_prep2_none_win7\"\n",
      "0\n",
      "aws s3 cp \"s3://mousebrainatlas-data/CSHL_patch_features/inception-bn-blue/CHATM2/CHATM2_prep2_none_win7/CHATM2_slide22_2018_01_19-S2_prep2_none_win7_inception-bn-blue_features.bp\" \"/data/CSHL_patch_features/inception-bn-blue/CHATM2/CHATM2_prep2_none_win7/CHATM2_slide22_2018_01_19-S2_prep2_none_win7_inception-bn-blue_features.bp\"\n"
     ]
    },
    {
     "name": "stderr",
     "output_type": "stream",
     "text": [
      "Save features: 2.87 seconds\n",
      "locate patches: 0.06 seconds\n"
     ]
    },
    {
     "name": "stdout",
     "output_type": "stream",
     "text": [
      "1\n"
     ]
    },
    {
     "name": "stderr",
     "output_type": "stream",
     "text": [
      "Features for CHATM2, 64/CHATM2_slide22_2018_01_19-S2 does not exist.\n",
      "No pre-computed features found... computing from scratch.\n",
      "Not using image_cache.\n"
     ]
    },
    {
     "name": "stdout",
     "output_type": "stream",
     "text": [
      "/data/CSHL_data_processed/CHATM2/CHATM2_prep2_raw_NtbNormalizedAdaptiveInvertedGamma/CHATM2_slide22_2018_01_19-S2_prep2_raw_NtbNormalizedAdaptiveInvertedGamma.tif\n"
     ]
    },
    {
     "name": "stderr",
     "output_type": "stream",
     "text": [
      "Load image: 1.78 seconds.\n",
      "Rescale image from 317 to 224: 3.57 seconds.\n",
      "Crop patches: 0.80 seconds.\n",
      "Extract patches: 6.18 seconds\n"
     ]
    },
    {
     "name": "stdout",
     "output_type": "stream",
     "text": [
      "(26400, 1, 224, 224)\n"
     ]
    },
    {
     "name": "stderr",
     "output_type": "stream",
     "text": [
      "Compute features: 41.11 seconds\n",
      "Compute features at one section, multiple locations: 47.31 seconds\n"
     ]
    },
    {
     "name": "stdout",
     "output_type": "stream",
     "text": [
      "aws s3 cp \"/data/CSHL_patch_features/inception-bn-blue/CHATM2/CHATM2_prep2_none_win7/CHATM2_slide22_2018_01_19-S2_prep2_none_win7_inception-bn-blue_features.bp\" \"s3://mousebrainatlas-data/CSHL_patch_features/inception-bn-blue/CHATM2/CHATM2_prep2_none_win7/CHATM2_slide22_2018_01_19-S2_prep2_none_win7_inception-bn-blue_features.bp\"\n",
      "0\n",
      "aws s3 cp \"/data/CSHL_patch_features/inception-bn-blue/CHATM2/CHATM2_prep2_none_win7/CHATM2_slide22_2018_01_19-S2_prep2_none_win7_inception-bn-blue_locations.bp\" \"s3://mousebrainatlas-data/CSHL_patch_features/inception-bn-blue/CHATM2/CHATM2_prep2_none_win7/CHATM2_slide22_2018_01_19-S2_prep2_none_win7_inception-bn-blue_locations.bp\"\n",
      "0\n",
      "rm -rf \"/data/CSHL_patch_features/inception-bn-blue/CHATM2/CHATM2_prep2_none_win7/CHATM2_slide21_2018_01_18-S3_prep2_none_win7_inception-bn-blue_features.bp\" && mkdir -p \"/data/CSHL_patch_features/inception-bn-blue/CHATM2/CHATM2_prep2_none_win7\"\n",
      "0\n",
      "aws s3 cp \"s3://mousebrainatlas-data/CSHL_patch_features/inception-bn-blue/CHATM2/CHATM2_prep2_none_win7/CHATM2_slide21_2018_01_18-S3_prep2_none_win7_inception-bn-blue_features.bp\" \"/data/CSHL_patch_features/inception-bn-blue/CHATM2/CHATM2_prep2_none_win7/CHATM2_slide21_2018_01_18-S3_prep2_none_win7_inception-bn-blue_features.bp\"\n"
     ]
    },
    {
     "name": "stderr",
     "output_type": "stream",
     "text": [
      "Save features: 3.09 seconds\n",
      "locate patches: 0.05 seconds\n"
     ]
    },
    {
     "name": "stdout",
     "output_type": "stream",
     "text": [
      "1\n"
     ]
    },
    {
     "name": "stderr",
     "output_type": "stream",
     "text": [
      "Features for CHATM2, 65/CHATM2_slide21_2018_01_18-S3 does not exist.\n",
      "No pre-computed features found... computing from scratch.\n",
      "Not using image_cache.\n"
     ]
    },
    {
     "name": "stdout",
     "output_type": "stream",
     "text": [
      "/data/CSHL_data_processed/CHATM2/CHATM2_prep2_raw_NtbNormalizedAdaptiveInvertedGamma/CHATM2_slide21_2018_01_18-S3_prep2_raw_NtbNormalizedAdaptiveInvertedGamma.tif\n"
     ]
    },
    {
     "name": "stderr",
     "output_type": "stream",
     "text": [
      "Load image: 3.60 seconds.\n",
      "Rescale image from 317 to 224: 3.45 seconds.\n",
      "Crop patches: 0.82 seconds.\n",
      "Extract patches: 7.89 seconds\n"
     ]
    },
    {
     "name": "stdout",
     "output_type": "stream",
     "text": [
      "(25365, 1, 224, 224)\n"
     ]
    },
    {
     "name": "stderr",
     "output_type": "stream",
     "text": [
      "Compute features: 40.43 seconds\n",
      "Compute features at one section, multiple locations: 48.33 seconds\n"
     ]
    },
    {
     "name": "stdout",
     "output_type": "stream",
     "text": [
      "aws s3 cp \"/data/CSHL_patch_features/inception-bn-blue/CHATM2/CHATM2_prep2_none_win7/CHATM2_slide21_2018_01_18-S3_prep2_none_win7_inception-bn-blue_features.bp\" \"s3://mousebrainatlas-data/CSHL_patch_features/inception-bn-blue/CHATM2/CHATM2_prep2_none_win7/CHATM2_slide21_2018_01_18-S3_prep2_none_win7_inception-bn-blue_features.bp\"\n",
      "0\n",
      "aws s3 cp \"/data/CSHL_patch_features/inception-bn-blue/CHATM2/CHATM2_prep2_none_win7/CHATM2_slide21_2018_01_18-S3_prep2_none_win7_inception-bn-blue_locations.bp\" \"s3://mousebrainatlas-data/CSHL_patch_features/inception-bn-blue/CHATM2/CHATM2_prep2_none_win7/CHATM2_slide21_2018_01_18-S3_prep2_none_win7_inception-bn-blue_locations.bp\"\n",
      "0\n",
      "rm -rf \"/data/CSHL_patch_features/inception-bn-blue/CHATM2/CHATM2_prep2_none_win7/CHATM2_slide22_2018_01_19-S3_prep2_none_win7_inception-bn-blue_features.bp\" && mkdir -p \"/data/CSHL_patch_features/inception-bn-blue/CHATM2/CHATM2_prep2_none_win7\"\n",
      "0\n",
      "aws s3 cp \"s3://mousebrainatlas-data/CSHL_patch_features/inception-bn-blue/CHATM2/CHATM2_prep2_none_win7/CHATM2_slide22_2018_01_19-S3_prep2_none_win7_inception-bn-blue_features.bp\" \"/data/CSHL_patch_features/inception-bn-blue/CHATM2/CHATM2_prep2_none_win7/CHATM2_slide22_2018_01_19-S3_prep2_none_win7_inception-bn-blue_features.bp\"\n"
     ]
    },
    {
     "name": "stderr",
     "output_type": "stream",
     "text": [
      "Save features: 2.95 seconds\n",
      "locate patches: 0.05 seconds\n"
     ]
    },
    {
     "name": "stdout",
     "output_type": "stream",
     "text": [
      "1\n"
     ]
    },
    {
     "name": "stderr",
     "output_type": "stream",
     "text": [
      "Features for CHATM2, 66/CHATM2_slide22_2018_01_19-S3 does not exist.\n",
      "No pre-computed features found... computing from scratch.\n",
      "Not using image_cache.\n"
     ]
    },
    {
     "name": "stdout",
     "output_type": "stream",
     "text": [
      "/data/CSHL_data_processed/CHATM2/CHATM2_prep2_raw_NtbNormalizedAdaptiveInvertedGamma/CHATM2_slide22_2018_01_19-S3_prep2_raw_NtbNormalizedAdaptiveInvertedGamma.tif\n"
     ]
    },
    {
     "name": "stderr",
     "output_type": "stream",
     "text": [
      "Load image: 4.23 seconds.\n",
      "Rescale image from 317 to 224: 3.46 seconds.\n",
      "Crop patches: 0.88 seconds.\n",
      "Extract patches: 8.58 seconds\n"
     ]
    },
    {
     "name": "stdout",
     "output_type": "stream",
     "text": [
      "(26858, 1, 224, 224)\n"
     ]
    },
    {
     "name": "stderr",
     "output_type": "stream",
     "text": [
      "Compute features: 41.55 seconds\n",
      "Compute features at one section, multiple locations: 50.14 seconds\n"
     ]
    },
    {
     "name": "stdout",
     "output_type": "stream",
     "text": [
      "aws s3 cp \"/data/CSHL_patch_features/inception-bn-blue/CHATM2/CHATM2_prep2_none_win7/CHATM2_slide22_2018_01_19-S3_prep2_none_win7_inception-bn-blue_features.bp\" \"s3://mousebrainatlas-data/CSHL_patch_features/inception-bn-blue/CHATM2/CHATM2_prep2_none_win7/CHATM2_slide22_2018_01_19-S3_prep2_none_win7_inception-bn-blue_features.bp\"\n",
      "0\n",
      "aws s3 cp \"/data/CSHL_patch_features/inception-bn-blue/CHATM2/CHATM2_prep2_none_win7/CHATM2_slide22_2018_01_19-S3_prep2_none_win7_inception-bn-blue_locations.bp\" \"s3://mousebrainatlas-data/CSHL_patch_features/inception-bn-blue/CHATM2/CHATM2_prep2_none_win7/CHATM2_slide22_2018_01_19-S3_prep2_none_win7_inception-bn-blue_locations.bp\"\n",
      "0\n",
      "rm -rf \"/data/CSHL_patch_features/inception-bn-blue/CHATM2/CHATM2_prep2_none_win7/CHATM2_slide23_2018_01_18-S1_prep2_none_win7_inception-bn-blue_features.bp\" && mkdir -p \"/data/CSHL_patch_features/inception-bn-blue/CHATM2/CHATM2_prep2_none_win7\"\n",
      "0\n",
      "aws s3 cp \"s3://mousebrainatlas-data/CSHL_patch_features/inception-bn-blue/CHATM2/CHATM2_prep2_none_win7/CHATM2_slide23_2018_01_18-S1_prep2_none_win7_inception-bn-blue_features.bp\" \"/data/CSHL_patch_features/inception-bn-blue/CHATM2/CHATM2_prep2_none_win7/CHATM2_slide23_2018_01_18-S1_prep2_none_win7_inception-bn-blue_features.bp\"\n"
     ]
    },
    {
     "name": "stderr",
     "output_type": "stream",
     "text": [
      "Save features: 3.33 seconds\n",
      "locate patches: 0.04 seconds\n"
     ]
    },
    {
     "name": "stdout",
     "output_type": "stream",
     "text": [
      "1\n"
     ]
    },
    {
     "name": "stderr",
     "output_type": "stream",
     "text": [
      "Features for CHATM2, 67/CHATM2_slide23_2018_01_18-S1 does not exist.\n",
      "No pre-computed features found... computing from scratch.\n",
      "Not using image_cache.\n"
     ]
    },
    {
     "name": "stdout",
     "output_type": "stream",
     "text": [
      "/data/CSHL_data_processed/CHATM2/CHATM2_prep2_raw_NtbNormalizedAdaptiveInvertedGamma/CHATM2_slide23_2018_01_18-S1_prep2_raw_NtbNormalizedAdaptiveInvertedGamma.tif\n"
     ]
    },
    {
     "name": "stderr",
     "output_type": "stream",
     "text": [
      "Load image: 3.64 seconds.\n",
      "Rescale image from 317 to 224: 3.53 seconds.\n",
      "Crop patches: 0.80 seconds.\n",
      "Extract patches: 7.98 seconds\n"
     ]
    },
    {
     "name": "stdout",
     "output_type": "stream",
     "text": [
      "(25531, 1, 224, 224)\n"
     ]
    },
    {
     "name": "stderr",
     "output_type": "stream",
     "text": [
      "Compute features: 39.39 seconds\n",
      "Compute features at one section, multiple locations: 47.38 seconds\n"
     ]
    },
    {
     "name": "stdout",
     "output_type": "stream",
     "text": [
      "aws s3 cp \"/data/CSHL_patch_features/inception-bn-blue/CHATM2/CHATM2_prep2_none_win7/CHATM2_slide23_2018_01_18-S1_prep2_none_win7_inception-bn-blue_features.bp\" \"s3://mousebrainatlas-data/CSHL_patch_features/inception-bn-blue/CHATM2/CHATM2_prep2_none_win7/CHATM2_slide23_2018_01_18-S1_prep2_none_win7_inception-bn-blue_features.bp\"\n",
      "0\n",
      "aws s3 cp \"/data/CSHL_patch_features/inception-bn-blue/CHATM2/CHATM2_prep2_none_win7/CHATM2_slide23_2018_01_18-S1_prep2_none_win7_inception-bn-blue_locations.bp\" \"s3://mousebrainatlas-data/CSHL_patch_features/inception-bn-blue/CHATM2/CHATM2_prep2_none_win7/CHATM2_slide23_2018_01_18-S1_prep2_none_win7_inception-bn-blue_locations.bp\"\n",
      "0\n",
      "rm -rf \"/data/CSHL_patch_features/inception-bn-blue/CHATM2/CHATM2_prep2_none_win7/CHATM2_slide24_2018_01_18-S1_prep2_none_win7_inception-bn-blue_features.bp\" && mkdir -p \"/data/CSHL_patch_features/inception-bn-blue/CHATM2/CHATM2_prep2_none_win7\"\n",
      "0\n",
      "aws s3 cp \"s3://mousebrainatlas-data/CSHL_patch_features/inception-bn-blue/CHATM2/CHATM2_prep2_none_win7/CHATM2_slide24_2018_01_18-S1_prep2_none_win7_inception-bn-blue_features.bp\" \"/data/CSHL_patch_features/inception-bn-blue/CHATM2/CHATM2_prep2_none_win7/CHATM2_slide24_2018_01_18-S1_prep2_none_win7_inception-bn-blue_features.bp\"\n"
     ]
    },
    {
     "name": "stderr",
     "output_type": "stream",
     "text": [
      "Save features: 2.86 seconds\n",
      "locate patches: 0.05 seconds\n"
     ]
    },
    {
     "name": "stdout",
     "output_type": "stream",
     "text": [
      "1\n"
     ]
    },
    {
     "name": "stderr",
     "output_type": "stream",
     "text": [
      "Features for CHATM2, 68/CHATM2_slide24_2018_01_18-S1 does not exist.\n",
      "No pre-computed features found... computing from scratch.\n",
      "Not using image_cache.\n"
     ]
    },
    {
     "name": "stdout",
     "output_type": "stream",
     "text": [
      "/data/CSHL_data_processed/CHATM2/CHATM2_prep2_raw_NtbNormalizedAdaptiveInvertedGamma/CHATM2_slide24_2018_01_18-S1_prep2_raw_NtbNormalizedAdaptiveInvertedGamma.tif\n"
     ]
    },
    {
     "name": "stderr",
     "output_type": "stream",
     "text": [
      "Load image: 3.59 seconds.\n",
      "Rescale image from 317 to 224: 3.47 seconds.\n",
      "Crop patches: 0.88 seconds.\n",
      "Extract patches: 7.96 seconds\n"
     ]
    },
    {
     "name": "stdout",
     "output_type": "stream",
     "text": [
      "(26708, 1, 224, 224)\n"
     ]
    },
    {
     "name": "stderr",
     "output_type": "stream",
     "text": [
      "Compute features: 42.19 seconds\n",
      "Compute features at one section, multiple locations: 50.18 seconds\n"
     ]
    },
    {
     "name": "stdout",
     "output_type": "stream",
     "text": [
      "aws s3 cp \"/data/CSHL_patch_features/inception-bn-blue/CHATM2/CHATM2_prep2_none_win7/CHATM2_slide24_2018_01_18-S1_prep2_none_win7_inception-bn-blue_features.bp\" \"s3://mousebrainatlas-data/CSHL_patch_features/inception-bn-blue/CHATM2/CHATM2_prep2_none_win7/CHATM2_slide24_2018_01_18-S1_prep2_none_win7_inception-bn-blue_features.bp\"\n",
      "0\n",
      "aws s3 cp \"/data/CSHL_patch_features/inception-bn-blue/CHATM2/CHATM2_prep2_none_win7/CHATM2_slide24_2018_01_18-S1_prep2_none_win7_inception-bn-blue_locations.bp\" \"s3://mousebrainatlas-data/CSHL_patch_features/inception-bn-blue/CHATM2/CHATM2_prep2_none_win7/CHATM2_slide24_2018_01_18-S1_prep2_none_win7_inception-bn-blue_locations.bp\"\n",
      "0\n",
      "rm -rf \"/data/CSHL_patch_features/inception-bn-blue/CHATM2/CHATM2_prep2_none_win7/CHATM2_slide23_2018_01_18-S2_prep2_none_win7_inception-bn-blue_features.bp\" && mkdir -p \"/data/CSHL_patch_features/inception-bn-blue/CHATM2/CHATM2_prep2_none_win7\"\n",
      "0\n",
      "aws s3 cp \"s3://mousebrainatlas-data/CSHL_patch_features/inception-bn-blue/CHATM2/CHATM2_prep2_none_win7/CHATM2_slide23_2018_01_18-S2_prep2_none_win7_inception-bn-blue_features.bp\" \"/data/CSHL_patch_features/inception-bn-blue/CHATM2/CHATM2_prep2_none_win7/CHATM2_slide23_2018_01_18-S2_prep2_none_win7_inception-bn-blue_features.bp\"\n"
     ]
    },
    {
     "name": "stderr",
     "output_type": "stream",
     "text": [
      "Save features: 3.36 seconds\n",
      "locate patches: 0.07 seconds\n"
     ]
    },
    {
     "name": "stdout",
     "output_type": "stream",
     "text": [
      "1\n"
     ]
    },
    {
     "name": "stderr",
     "output_type": "stream",
     "text": [
      "Features for CHATM2, 69/CHATM2_slide23_2018_01_18-S2 does not exist.\n",
      "No pre-computed features found... computing from scratch.\n",
      "Not using image_cache.\n"
     ]
    },
    {
     "name": "stdout",
     "output_type": "stream",
     "text": [
      "/data/CSHL_data_processed/CHATM2/CHATM2_prep2_raw_NtbNormalizedAdaptiveInvertedGamma/CHATM2_slide23_2018_01_18-S2_prep2_raw_NtbNormalizedAdaptiveInvertedGamma.tif\n"
     ]
    },
    {
     "name": "stderr",
     "output_type": "stream",
     "text": [
      "Load image: 2.80 seconds.\n",
      "Rescale image from 317 to 224: 3.19 seconds.\n",
      "Crop patches: 0.79 seconds.\n",
      "Extract patches: 6.80 seconds\n"
     ]
    },
    {
     "name": "stdout",
     "output_type": "stream",
     "text": [
      "(25371, 1, 224, 224)\n"
     ]
    },
    {
     "name": "stderr",
     "output_type": "stream",
     "text": [
      "Compute features: 42.18 seconds\n",
      "Compute features at one section, multiple locations: 49.01 seconds\n"
     ]
    },
    {
     "name": "stdout",
     "output_type": "stream",
     "text": [
      "aws s3 cp \"/data/CSHL_patch_features/inception-bn-blue/CHATM2/CHATM2_prep2_none_win7/CHATM2_slide23_2018_01_18-S2_prep2_none_win7_inception-bn-blue_features.bp\" \"s3://mousebrainatlas-data/CSHL_patch_features/inception-bn-blue/CHATM2/CHATM2_prep2_none_win7/CHATM2_slide23_2018_01_18-S2_prep2_none_win7_inception-bn-blue_features.bp\"\n",
      "0\n",
      "aws s3 cp \"/data/CSHL_patch_features/inception-bn-blue/CHATM2/CHATM2_prep2_none_win7/CHATM2_slide23_2018_01_18-S2_prep2_none_win7_inception-bn-blue_locations.bp\" \"s3://mousebrainatlas-data/CSHL_patch_features/inception-bn-blue/CHATM2/CHATM2_prep2_none_win7/CHATM2_slide23_2018_01_18-S2_prep2_none_win7_inception-bn-blue_locations.bp\"\n",
      "0\n",
      "rm -rf \"/data/CSHL_patch_features/inception-bn-blue/CHATM2/CHATM2_prep2_none_win7/CHATM2_slide24_2018_01_18-S2_prep2_none_win7_inception-bn-blue_features.bp\" && mkdir -p \"/data/CSHL_patch_features/inception-bn-blue/CHATM2/CHATM2_prep2_none_win7\"\n",
      "0\n",
      "aws s3 cp \"s3://mousebrainatlas-data/CSHL_patch_features/inception-bn-blue/CHATM2/CHATM2_prep2_none_win7/CHATM2_slide24_2018_01_18-S2_prep2_none_win7_inception-bn-blue_features.bp\" \"/data/CSHL_patch_features/inception-bn-blue/CHATM2/CHATM2_prep2_none_win7/CHATM2_slide24_2018_01_18-S2_prep2_none_win7_inception-bn-blue_features.bp\"\n"
     ]
    },
    {
     "name": "stderr",
     "output_type": "stream",
     "text": [
      "Save features: 3.78 seconds\n",
      "locate patches: 0.06 seconds\n"
     ]
    },
    {
     "name": "stdout",
     "output_type": "stream",
     "text": [
      "1\n"
     ]
    },
    {
     "name": "stderr",
     "output_type": "stream",
     "text": [
      "Features for CHATM2, 70/CHATM2_slide24_2018_01_18-S2 does not exist.\n",
      "No pre-computed features found... computing from scratch.\n",
      "Not using image_cache.\n"
     ]
    },
    {
     "name": "stdout",
     "output_type": "stream",
     "text": [
      "/data/CSHL_data_processed/CHATM2/CHATM2_prep2_raw_NtbNormalizedAdaptiveInvertedGamma/CHATM2_slide24_2018_01_18-S2_prep2_raw_NtbNormalizedAdaptiveInvertedGamma.tif\n"
     ]
    },
    {
     "name": "stderr",
     "output_type": "stream",
     "text": [
      "Load image: 1.77 seconds.\n",
      "Rescale image from 317 to 224: 2.89 seconds.\n",
      "Crop patches: 1.02 seconds.\n",
      "Extract patches: 5.69 seconds\n"
     ]
    },
    {
     "name": "stdout",
     "output_type": "stream",
     "text": [
      "(27569, 1, 224, 224)\n"
     ]
    },
    {
     "name": "stderr",
     "output_type": "stream",
     "text": [
      "Compute features: 45.92 seconds\n",
      "Compute features at one section, multiple locations: 51.74 seconds\n"
     ]
    },
    {
     "name": "stdout",
     "output_type": "stream",
     "text": [
      "aws s3 cp \"/data/CSHL_patch_features/inception-bn-blue/CHATM2/CHATM2_prep2_none_win7/CHATM2_slide24_2018_01_18-S2_prep2_none_win7_inception-bn-blue_features.bp\" \"s3://mousebrainatlas-data/CSHL_patch_features/inception-bn-blue/CHATM2/CHATM2_prep2_none_win7/CHATM2_slide24_2018_01_18-S2_prep2_none_win7_inception-bn-blue_features.bp\"\n",
      "0\n",
      "aws s3 cp \"/data/CSHL_patch_features/inception-bn-blue/CHATM2/CHATM2_prep2_none_win7/CHATM2_slide24_2018_01_18-S2_prep2_none_win7_inception-bn-blue_locations.bp\" \"s3://mousebrainatlas-data/CSHL_patch_features/inception-bn-blue/CHATM2/CHATM2_prep2_none_win7/CHATM2_slide24_2018_01_18-S2_prep2_none_win7_inception-bn-blue_locations.bp\"\n",
      "0\n",
      "rm -rf \"/data/CSHL_patch_features/inception-bn-blue/CHATM2/CHATM2_prep2_none_win7/CHATM2_slide23_2018_01_18-S3_prep2_none_win7_inception-bn-blue_features.bp\" && mkdir -p \"/data/CSHL_patch_features/inception-bn-blue/CHATM2/CHATM2_prep2_none_win7\"\n",
      "0\n",
      "aws s3 cp \"s3://mousebrainatlas-data/CSHL_patch_features/inception-bn-blue/CHATM2/CHATM2_prep2_none_win7/CHATM2_slide23_2018_01_18-S3_prep2_none_win7_inception-bn-blue_features.bp\" \"/data/CSHL_patch_features/inception-bn-blue/CHATM2/CHATM2_prep2_none_win7/CHATM2_slide23_2018_01_18-S3_prep2_none_win7_inception-bn-blue_features.bp\"\n"
     ]
    },
    {
     "name": "stderr",
     "output_type": "stream",
     "text": [
      "Save features: 3.03 seconds\n",
      "locate patches: 0.05 seconds\n"
     ]
    },
    {
     "name": "stdout",
     "output_type": "stream",
     "text": [
      "1\n"
     ]
    },
    {
     "name": "stderr",
     "output_type": "stream",
     "text": [
      "Features for CHATM2, 71/CHATM2_slide23_2018_01_18-S3 does not exist.\n",
      "No pre-computed features found... computing from scratch.\n",
      "Not using image_cache.\n"
     ]
    },
    {
     "name": "stdout",
     "output_type": "stream",
     "text": [
      "/data/CSHL_data_processed/CHATM2/CHATM2_prep2_raw_NtbNormalizedAdaptiveInvertedGamma/CHATM2_slide23_2018_01_18-S3_prep2_raw_NtbNormalizedAdaptiveInvertedGamma.tif\n"
     ]
    },
    {
     "name": "stderr",
     "output_type": "stream",
     "text": [
      "Load image: 3.24 seconds.\n",
      "Rescale image from 317 to 224: 2.82 seconds.\n",
      "Crop patches: 1.64 seconds.\n",
      "Extract patches: 7.72 seconds\n"
     ]
    },
    {
     "name": "stdout",
     "output_type": "stream",
     "text": [
      "(25521, 1, 224, 224)\n"
     ]
    },
    {
     "name": "stderr",
     "output_type": "stream",
     "text": [
      "Compute features: 42.75 seconds\n",
      "Compute features at one section, multiple locations: 50.49 seconds\n"
     ]
    },
    {
     "name": "stdout",
     "output_type": "stream",
     "text": [
      "aws s3 cp \"/data/CSHL_patch_features/inception-bn-blue/CHATM2/CHATM2_prep2_none_win7/CHATM2_slide23_2018_01_18-S3_prep2_none_win7_inception-bn-blue_features.bp\" \"s3://mousebrainatlas-data/CSHL_patch_features/inception-bn-blue/CHATM2/CHATM2_prep2_none_win7/CHATM2_slide23_2018_01_18-S3_prep2_none_win7_inception-bn-blue_features.bp\"\n",
      "0\n",
      "aws s3 cp \"/data/CSHL_patch_features/inception-bn-blue/CHATM2/CHATM2_prep2_none_win7/CHATM2_slide23_2018_01_18-S3_prep2_none_win7_inception-bn-blue_locations.bp\" \"s3://mousebrainatlas-data/CSHL_patch_features/inception-bn-blue/CHATM2/CHATM2_prep2_none_win7/CHATM2_slide23_2018_01_18-S3_prep2_none_win7_inception-bn-blue_locations.bp\"\n",
      "0\n",
      "rm -rf \"/data/CSHL_patch_features/inception-bn-blue/CHATM2/CHATM2_prep2_none_win7/CHATM2_slide24_2018_01_18-S3_prep2_none_win7_inception-bn-blue_features.bp\" && mkdir -p \"/data/CSHL_patch_features/inception-bn-blue/CHATM2/CHATM2_prep2_none_win7\"\n",
      "0\n",
      "aws s3 cp \"s3://mousebrainatlas-data/CSHL_patch_features/inception-bn-blue/CHATM2/CHATM2_prep2_none_win7/CHATM2_slide24_2018_01_18-S3_prep2_none_win7_inception-bn-blue_features.bp\" \"/data/CSHL_patch_features/inception-bn-blue/CHATM2/CHATM2_prep2_none_win7/CHATM2_slide24_2018_01_18-S3_prep2_none_win7_inception-bn-blue_features.bp\"\n"
     ]
    },
    {
     "name": "stderr",
     "output_type": "stream",
     "text": [
      "Save features: 2.75 seconds\n",
      "locate patches: 0.04 seconds\n"
     ]
    },
    {
     "name": "stdout",
     "output_type": "stream",
     "text": [
      "1\n"
     ]
    },
    {
     "name": "stderr",
     "output_type": "stream",
     "text": [
      "Features for CHATM2, 72/CHATM2_slide24_2018_01_18-S3 does not exist.\n",
      "No pre-computed features found... computing from scratch.\n",
      "Not using image_cache.\n"
     ]
    },
    {
     "name": "stdout",
     "output_type": "stream",
     "text": [
      "/data/CSHL_data_processed/CHATM2/CHATM2_prep2_raw_NtbNormalizedAdaptiveInvertedGamma/CHATM2_slide24_2018_01_18-S3_prep2_raw_NtbNormalizedAdaptiveInvertedGamma.tif\n"
     ]
    },
    {
     "name": "stderr",
     "output_type": "stream",
     "text": [
      "Load image: 1.78 seconds.\n",
      "Rescale image from 317 to 224: 2.80 seconds.\n",
      "Crop patches: 0.89 seconds.\n",
      "Extract patches: 5.48 seconds\n"
     ]
    },
    {
     "name": "stdout",
     "output_type": "stream",
     "text": [
      "(27785, 1, 224, 224)\n"
     ]
    },
    {
     "name": "stderr",
     "output_type": "stream",
     "text": [
      "Compute features: 42.96 seconds\n",
      "Compute features at one section, multiple locations: 48.47 seconds\n"
     ]
    },
    {
     "name": "stdout",
     "output_type": "stream",
     "text": [
      "aws s3 cp \"/data/CSHL_patch_features/inception-bn-blue/CHATM2/CHATM2_prep2_none_win7/CHATM2_slide24_2018_01_18-S3_prep2_none_win7_inception-bn-blue_features.bp\" \"s3://mousebrainatlas-data/CSHL_patch_features/inception-bn-blue/CHATM2/CHATM2_prep2_none_win7/CHATM2_slide24_2018_01_18-S3_prep2_none_win7_inception-bn-blue_features.bp\"\n",
      "0\n",
      "aws s3 cp \"/data/CSHL_patch_features/inception-bn-blue/CHATM2/CHATM2_prep2_none_win7/CHATM2_slide24_2018_01_18-S3_prep2_none_win7_inception-bn-blue_locations.bp\" \"s3://mousebrainatlas-data/CSHL_patch_features/inception-bn-blue/CHATM2/CHATM2_prep2_none_win7/CHATM2_slide24_2018_01_18-S3_prep2_none_win7_inception-bn-blue_locations.bp\"\n",
      "0\n",
      "rm -rf \"/data/CSHL_patch_features/inception-bn-blue/CHATM2/CHATM2_prep2_none_win7/CHATM2_slide25_2018_01_18-S1_prep2_none_win7_inception-bn-blue_features.bp\" && mkdir -p \"/data/CSHL_patch_features/inception-bn-blue/CHATM2/CHATM2_prep2_none_win7\"\n",
      "0\n",
      "aws s3 cp \"s3://mousebrainatlas-data/CSHL_patch_features/inception-bn-blue/CHATM2/CHATM2_prep2_none_win7/CHATM2_slide25_2018_01_18-S1_prep2_none_win7_inception-bn-blue_features.bp\" \"/data/CSHL_patch_features/inception-bn-blue/CHATM2/CHATM2_prep2_none_win7/CHATM2_slide25_2018_01_18-S1_prep2_none_win7_inception-bn-blue_features.bp\"\n"
     ]
    },
    {
     "name": "stderr",
     "output_type": "stream",
     "text": [
      "Save features: 3.06 seconds\n",
      "locate patches: 0.04 seconds\n"
     ]
    },
    {
     "name": "stdout",
     "output_type": "stream",
     "text": [
      "1\n"
     ]
    },
    {
     "name": "stderr",
     "output_type": "stream",
     "text": [
      "Features for CHATM2, 73/CHATM2_slide25_2018_01_18-S1 does not exist.\n",
      "No pre-computed features found... computing from scratch.\n",
      "Not using image_cache.\n"
     ]
    },
    {
     "name": "stdout",
     "output_type": "stream",
     "text": [
      "/data/CSHL_data_processed/CHATM2/CHATM2_prep2_raw_NtbNormalizedAdaptiveInvertedGamma/CHATM2_slide25_2018_01_18-S1_prep2_raw_NtbNormalizedAdaptiveInvertedGamma.tif\n"
     ]
    },
    {
     "name": "stderr",
     "output_type": "stream",
     "text": [
      "Load image: 4.06 seconds.\n",
      "Rescale image from 317 to 224: 2.84 seconds.\n",
      "Crop patches: 0.86 seconds.\n",
      "Extract patches: 7.77 seconds\n"
     ]
    },
    {
     "name": "stdout",
     "output_type": "stream",
     "text": [
      "(28094, 1, 224, 224)\n"
     ]
    },
    {
     "name": "stderr",
     "output_type": "stream",
     "text": [
      "Compute features: 43.01 seconds\n",
      "Compute features at one section, multiple locations: 50.81 seconds\n"
     ]
    },
    {
     "name": "stdout",
     "output_type": "stream",
     "text": [
      "aws s3 cp \"/data/CSHL_patch_features/inception-bn-blue/CHATM2/CHATM2_prep2_none_win7/CHATM2_slide25_2018_01_18-S1_prep2_none_win7_inception-bn-blue_features.bp\" \"s3://mousebrainatlas-data/CSHL_patch_features/inception-bn-blue/CHATM2/CHATM2_prep2_none_win7/CHATM2_slide25_2018_01_18-S1_prep2_none_win7_inception-bn-blue_features.bp\"\n",
      "0\n",
      "aws s3 cp \"/data/CSHL_patch_features/inception-bn-blue/CHATM2/CHATM2_prep2_none_win7/CHATM2_slide25_2018_01_18-S1_prep2_none_win7_inception-bn-blue_locations.bp\" \"s3://mousebrainatlas-data/CSHL_patch_features/inception-bn-blue/CHATM2/CHATM2_prep2_none_win7/CHATM2_slide25_2018_01_18-S1_prep2_none_win7_inception-bn-blue_locations.bp\"\n",
      "0\n",
      "rm -rf \"/data/CSHL_patch_features/inception-bn-blue/CHATM2/CHATM2_prep2_none_win7/CHATM2_slide26_2018_01_18-S1_prep2_none_win7_inception-bn-blue_features.bp\" && mkdir -p \"/data/CSHL_patch_features/inception-bn-blue/CHATM2/CHATM2_prep2_none_win7\"\n",
      "0\n",
      "aws s3 cp \"s3://mousebrainatlas-data/CSHL_patch_features/inception-bn-blue/CHATM2/CHATM2_prep2_none_win7/CHATM2_slide26_2018_01_18-S1_prep2_none_win7_inception-bn-blue_features.bp\" \"/data/CSHL_patch_features/inception-bn-blue/CHATM2/CHATM2_prep2_none_win7/CHATM2_slide26_2018_01_18-S1_prep2_none_win7_inception-bn-blue_features.bp\"\n"
     ]
    },
    {
     "name": "stderr",
     "output_type": "stream",
     "text": [
      "Save features: 3.07 seconds\n",
      "locate patches: 0.06 seconds\n"
     ]
    },
    {
     "name": "stdout",
     "output_type": "stream",
     "text": [
      "1\n"
     ]
    },
    {
     "name": "stderr",
     "output_type": "stream",
     "text": [
      "Features for CHATM2, 74/CHATM2_slide26_2018_01_18-S1 does not exist.\n",
      "No pre-computed features found... computing from scratch.\n",
      "Not using image_cache.\n"
     ]
    },
    {
     "name": "stdout",
     "output_type": "stream",
     "text": [
      "/data/CSHL_data_processed/CHATM2/CHATM2_prep2_raw_NtbNormalizedAdaptiveInvertedGamma/CHATM2_slide26_2018_01_18-S1_prep2_raw_NtbNormalizedAdaptiveInvertedGamma.tif\n"
     ]
    },
    {
     "name": "stderr",
     "output_type": "stream",
     "text": [
      "Load image: 4.77 seconds.\n",
      "Rescale image from 317 to 224: 2.85 seconds.\n",
      "Crop patches: 0.84 seconds.\n",
      "Extract patches: 8.47 seconds\n"
     ]
    },
    {
     "name": "stdout",
     "output_type": "stream",
     "text": [
      "(27933, 1, 224, 224)\n"
     ]
    },
    {
     "name": "stderr",
     "output_type": "stream",
     "text": [
      "Compute features: 45.41 seconds\n",
      "Compute features at one section, multiple locations: 53.90 seconds\n"
     ]
    },
    {
     "name": "stdout",
     "output_type": "stream",
     "text": [
      "aws s3 cp \"/data/CSHL_patch_features/inception-bn-blue/CHATM2/CHATM2_prep2_none_win7/CHATM2_slide26_2018_01_18-S1_prep2_none_win7_inception-bn-blue_features.bp\" \"s3://mousebrainatlas-data/CSHL_patch_features/inception-bn-blue/CHATM2/CHATM2_prep2_none_win7/CHATM2_slide26_2018_01_18-S1_prep2_none_win7_inception-bn-blue_features.bp\"\n",
      "0\n",
      "aws s3 cp \"/data/CSHL_patch_features/inception-bn-blue/CHATM2/CHATM2_prep2_none_win7/CHATM2_slide26_2018_01_18-S1_prep2_none_win7_inception-bn-blue_locations.bp\" \"s3://mousebrainatlas-data/CSHL_patch_features/inception-bn-blue/CHATM2/CHATM2_prep2_none_win7/CHATM2_slide26_2018_01_18-S1_prep2_none_win7_inception-bn-blue_locations.bp\"\n",
      "0\n",
      "rm -rf \"/data/CSHL_patch_features/inception-bn-blue/CHATM2/CHATM2_prep2_none_win7/CHATM2_slide25_2018_01_18-S2_prep2_none_win7_inception-bn-blue_features.bp\" && mkdir -p \"/data/CSHL_patch_features/inception-bn-blue/CHATM2/CHATM2_prep2_none_win7\"\n",
      "0\n",
      "aws s3 cp \"s3://mousebrainatlas-data/CSHL_patch_features/inception-bn-blue/CHATM2/CHATM2_prep2_none_win7/CHATM2_slide25_2018_01_18-S2_prep2_none_win7_inception-bn-blue_features.bp\" \"/data/CSHL_patch_features/inception-bn-blue/CHATM2/CHATM2_prep2_none_win7/CHATM2_slide25_2018_01_18-S2_prep2_none_win7_inception-bn-blue_features.bp\"\n"
     ]
    },
    {
     "name": "stderr",
     "output_type": "stream",
     "text": [
      "Save features: 3.23 seconds\n",
      "locate patches: 0.06 seconds\n"
     ]
    },
    {
     "name": "stdout",
     "output_type": "stream",
     "text": [
      "1\n"
     ]
    },
    {
     "name": "stderr",
     "output_type": "stream",
     "text": [
      "Features for CHATM2, 75/CHATM2_slide25_2018_01_18-S2 does not exist.\n",
      "No pre-computed features found... computing from scratch.\n",
      "Not using image_cache.\n"
     ]
    },
    {
     "name": "stdout",
     "output_type": "stream",
     "text": [
      "/data/CSHL_data_processed/CHATM2/CHATM2_prep2_raw_NtbNormalizedAdaptiveInvertedGamma/CHATM2_slide25_2018_01_18-S2_prep2_raw_NtbNormalizedAdaptiveInvertedGamma.tif\n"
     ]
    },
    {
     "name": "stderr",
     "output_type": "stream",
     "text": [
      "Load image: 3.64 seconds.\n",
      "Rescale image from 317 to 224: 2.85 seconds.\n",
      "Crop patches: 0.85 seconds.\n",
      "Extract patches: 7.34 seconds\n"
     ]
    },
    {
     "name": "stdout",
     "output_type": "stream",
     "text": [
      "(28391, 1, 224, 224)\n"
     ]
    },
    {
     "name": "stderr",
     "output_type": "stream",
     "text": [
      "Compute features: 43.48 seconds\n",
      "Compute features at one section, multiple locations: 50.85 seconds\n"
     ]
    },
    {
     "name": "stdout",
     "output_type": "stream",
     "text": [
      "aws s3 cp \"/data/CSHL_patch_features/inception-bn-blue/CHATM2/CHATM2_prep2_none_win7/CHATM2_slide25_2018_01_18-S2_prep2_none_win7_inception-bn-blue_features.bp\" \"s3://mousebrainatlas-data/CSHL_patch_features/inception-bn-blue/CHATM2/CHATM2_prep2_none_win7/CHATM2_slide25_2018_01_18-S2_prep2_none_win7_inception-bn-blue_features.bp\"\n",
      "0\n",
      "aws s3 cp \"/data/CSHL_patch_features/inception-bn-blue/CHATM2/CHATM2_prep2_none_win7/CHATM2_slide25_2018_01_18-S2_prep2_none_win7_inception-bn-blue_locations.bp\" \"s3://mousebrainatlas-data/CSHL_patch_features/inception-bn-blue/CHATM2/CHATM2_prep2_none_win7/CHATM2_slide25_2018_01_18-S2_prep2_none_win7_inception-bn-blue_locations.bp\"\n",
      "0\n",
      "rm -rf \"/data/CSHL_patch_features/inception-bn-blue/CHATM2/CHATM2_prep2_none_win7/CHATM2_slide26_2018_01_18-S2_prep2_none_win7_inception-bn-blue_features.bp\" && mkdir -p \"/data/CSHL_patch_features/inception-bn-blue/CHATM2/CHATM2_prep2_none_win7\"\n",
      "0\n",
      "aws s3 cp \"s3://mousebrainatlas-data/CSHL_patch_features/inception-bn-blue/CHATM2/CHATM2_prep2_none_win7/CHATM2_slide26_2018_01_18-S2_prep2_none_win7_inception-bn-blue_features.bp\" \"/data/CSHL_patch_features/inception-bn-blue/CHATM2/CHATM2_prep2_none_win7/CHATM2_slide26_2018_01_18-S2_prep2_none_win7_inception-bn-blue_features.bp\"\n"
     ]
    },
    {
     "name": "stderr",
     "output_type": "stream",
     "text": [
      "Save features: 3.52 seconds\n",
      "locate patches: 0.05 seconds\n"
     ]
    },
    {
     "name": "stdout",
     "output_type": "stream",
     "text": [
      "1\n"
     ]
    },
    {
     "name": "stderr",
     "output_type": "stream",
     "text": [
      "Features for CHATM2, 76/CHATM2_slide26_2018_01_18-S2 does not exist.\n",
      "No pre-computed features found... computing from scratch.\n",
      "Not using image_cache.\n"
     ]
    },
    {
     "name": "stdout",
     "output_type": "stream",
     "text": [
      "/data/CSHL_data_processed/CHATM2/CHATM2_prep2_raw_NtbNormalizedAdaptiveInvertedGamma/CHATM2_slide26_2018_01_18-S2_prep2_raw_NtbNormalizedAdaptiveInvertedGamma.tif\n"
     ]
    },
    {
     "name": "stderr",
     "output_type": "stream",
     "text": [
      "Load image: 1.78 seconds.\n",
      "Rescale image from 317 to 224: 4.36 seconds.\n",
      "Crop patches: 0.86 seconds.\n",
      "Extract patches: 7.01 seconds\n"
     ]
    },
    {
     "name": "stdout",
     "output_type": "stream",
     "text": [
      "(27569, 1, 224, 224)\n"
     ]
    },
    {
     "name": "stderr",
     "output_type": "stream",
     "text": [
      "Compute features: 42.44 seconds\n",
      "Compute features at one section, multiple locations: 49.48 seconds\n"
     ]
    },
    {
     "name": "stdout",
     "output_type": "stream",
     "text": [
      "aws s3 cp \"/data/CSHL_patch_features/inception-bn-blue/CHATM2/CHATM2_prep2_none_win7/CHATM2_slide26_2018_01_18-S2_prep2_none_win7_inception-bn-blue_features.bp\" \"s3://mousebrainatlas-data/CSHL_patch_features/inception-bn-blue/CHATM2/CHATM2_prep2_none_win7/CHATM2_slide26_2018_01_18-S2_prep2_none_win7_inception-bn-blue_features.bp\"\n",
      "0\n",
      "aws s3 cp \"/data/CSHL_patch_features/inception-bn-blue/CHATM2/CHATM2_prep2_none_win7/CHATM2_slide26_2018_01_18-S2_prep2_none_win7_inception-bn-blue_locations.bp\" \"s3://mousebrainatlas-data/CSHL_patch_features/inception-bn-blue/CHATM2/CHATM2_prep2_none_win7/CHATM2_slide26_2018_01_18-S2_prep2_none_win7_inception-bn-blue_locations.bp\"\n",
      "0\n",
      "rm -rf \"/data/CSHL_patch_features/inception-bn-blue/CHATM2/CHATM2_prep2_none_win7/CHATM2_slide25_2018_01_18-S3_prep2_none_win7_inception-bn-blue_features.bp\" && mkdir -p \"/data/CSHL_patch_features/inception-bn-blue/CHATM2/CHATM2_prep2_none_win7\"\n",
      "0\n",
      "aws s3 cp \"s3://mousebrainatlas-data/CSHL_patch_features/inception-bn-blue/CHATM2/CHATM2_prep2_none_win7/CHATM2_slide25_2018_01_18-S3_prep2_none_win7_inception-bn-blue_features.bp\" \"/data/CSHL_patch_features/inception-bn-blue/CHATM2/CHATM2_prep2_none_win7/CHATM2_slide25_2018_01_18-S3_prep2_none_win7_inception-bn-blue_features.bp\"\n"
     ]
    },
    {
     "name": "stderr",
     "output_type": "stream",
     "text": [
      "Save features: 3.26 seconds\n",
      "locate patches: 0.05 seconds\n"
     ]
    },
    {
     "name": "stdout",
     "output_type": "stream",
     "text": [
      "1\n"
     ]
    },
    {
     "name": "stderr",
     "output_type": "stream",
     "text": [
      "Features for CHATM2, 77/CHATM2_slide25_2018_01_18-S3 does not exist.\n",
      "No pre-computed features found... computing from scratch.\n",
      "Not using image_cache.\n"
     ]
    },
    {
     "name": "stdout",
     "output_type": "stream",
     "text": [
      "/data/CSHL_data_processed/CHATM2/CHATM2_prep2_raw_NtbNormalizedAdaptiveInvertedGamma/CHATM2_slide25_2018_01_18-S3_prep2_raw_NtbNormalizedAdaptiveInvertedGamma.tif\n"
     ]
    },
    {
     "name": "stderr",
     "output_type": "stream",
     "text": [
      "Load image: 2.33 seconds.\n",
      "Rescale image from 317 to 224: 2.83 seconds.\n",
      "Crop patches: 0.89 seconds.\n",
      "Extract patches: 6.06 seconds\n"
     ]
    },
    {
     "name": "stdout",
     "output_type": "stream",
     "text": [
      "(29123, 1, 224, 224)\n"
     ]
    },
    {
     "name": "stderr",
     "output_type": "stream",
     "text": [
      "Compute features: 47.10 seconds\n",
      "Compute features at one section, multiple locations: 53.19 seconds\n"
     ]
    },
    {
     "name": "stdout",
     "output_type": "stream",
     "text": [
      "aws s3 cp \"/data/CSHL_patch_features/inception-bn-blue/CHATM2/CHATM2_prep2_none_win7/CHATM2_slide25_2018_01_18-S3_prep2_none_win7_inception-bn-blue_features.bp\" \"s3://mousebrainatlas-data/CSHL_patch_features/inception-bn-blue/CHATM2/CHATM2_prep2_none_win7/CHATM2_slide25_2018_01_18-S3_prep2_none_win7_inception-bn-blue_features.bp\"\n",
      "0\n",
      "aws s3 cp \"/data/CSHL_patch_features/inception-bn-blue/CHATM2/CHATM2_prep2_none_win7/CHATM2_slide25_2018_01_18-S3_prep2_none_win7_inception-bn-blue_locations.bp\" \"s3://mousebrainatlas-data/CSHL_patch_features/inception-bn-blue/CHATM2/CHATM2_prep2_none_win7/CHATM2_slide25_2018_01_18-S3_prep2_none_win7_inception-bn-blue_locations.bp\"\n",
      "0\n",
      "rm -rf \"/data/CSHL_patch_features/inception-bn-blue/CHATM2/CHATM2_prep2_none_win7/CHATM2_slide26_2018_01_18-S3_prep2_none_win7_inception-bn-blue_features.bp\" && mkdir -p \"/data/CSHL_patch_features/inception-bn-blue/CHATM2/CHATM2_prep2_none_win7\"\n",
      "0\n",
      "aws s3 cp \"s3://mousebrainatlas-data/CSHL_patch_features/inception-bn-blue/CHATM2/CHATM2_prep2_none_win7/CHATM2_slide26_2018_01_18-S3_prep2_none_win7_inception-bn-blue_features.bp\" \"/data/CSHL_patch_features/inception-bn-blue/CHATM2/CHATM2_prep2_none_win7/CHATM2_slide26_2018_01_18-S3_prep2_none_win7_inception-bn-blue_features.bp\"\n"
     ]
    },
    {
     "name": "stderr",
     "output_type": "stream",
     "text": [
      "Save features: 2.95 seconds\n",
      "locate patches: 0.06 seconds\n"
     ]
    },
    {
     "name": "stdout",
     "output_type": "stream",
     "text": [
      "1\n"
     ]
    },
    {
     "name": "stderr",
     "output_type": "stream",
     "text": [
      "Features for CHATM2, 78/CHATM2_slide26_2018_01_18-S3 does not exist.\n",
      "No pre-computed features found... computing from scratch.\n",
      "Not using image_cache.\n"
     ]
    },
    {
     "name": "stdout",
     "output_type": "stream",
     "text": [
      "/data/CSHL_data_processed/CHATM2/CHATM2_prep2_raw_NtbNormalizedAdaptiveInvertedGamma/CHATM2_slide26_2018_01_18-S3_prep2_raw_NtbNormalizedAdaptiveInvertedGamma.tif\n"
     ]
    },
    {
     "name": "stderr",
     "output_type": "stream",
     "text": [
      "Load image: 2.15 seconds.\n",
      "Rescale image from 317 to 224: 2.85 seconds.\n",
      "Crop patches: 0.85 seconds.\n",
      "Extract patches: 5.86 seconds\n"
     ]
    },
    {
     "name": "stdout",
     "output_type": "stream",
     "text": [
      "(28960, 1, 224, 224)\n"
     ]
    },
    {
     "name": "stderr",
     "output_type": "stream",
     "text": [
      "Compute features: 45.05 seconds\n",
      "Compute features at one section, multiple locations: 50.94 seconds\n"
     ]
    },
    {
     "name": "stdout",
     "output_type": "stream",
     "text": [
      "aws s3 cp \"/data/CSHL_patch_features/inception-bn-blue/CHATM2/CHATM2_prep2_none_win7/CHATM2_slide26_2018_01_18-S3_prep2_none_win7_inception-bn-blue_features.bp\" \"s3://mousebrainatlas-data/CSHL_patch_features/inception-bn-blue/CHATM2/CHATM2_prep2_none_win7/CHATM2_slide26_2018_01_18-S3_prep2_none_win7_inception-bn-blue_features.bp\"\n",
      "0\n",
      "aws s3 cp \"/data/CSHL_patch_features/inception-bn-blue/CHATM2/CHATM2_prep2_none_win7/CHATM2_slide26_2018_01_18-S3_prep2_none_win7_inception-bn-blue_locations.bp\" \"s3://mousebrainatlas-data/CSHL_patch_features/inception-bn-blue/CHATM2/CHATM2_prep2_none_win7/CHATM2_slide26_2018_01_18-S3_prep2_none_win7_inception-bn-blue_locations.bp\"\n",
      "0\n",
      "rm -rf \"/data/CSHL_patch_features/inception-bn-blue/CHATM2/CHATM2_prep2_none_win7/CHATM2_slide27_2018_01_18-S1_prep2_none_win7_inception-bn-blue_features.bp\" && mkdir -p \"/data/CSHL_patch_features/inception-bn-blue/CHATM2/CHATM2_prep2_none_win7\"\n",
      "0\n",
      "aws s3 cp \"s3://mousebrainatlas-data/CSHL_patch_features/inception-bn-blue/CHATM2/CHATM2_prep2_none_win7/CHATM2_slide27_2018_01_18-S1_prep2_none_win7_inception-bn-blue_features.bp\" \"/data/CSHL_patch_features/inception-bn-blue/CHATM2/CHATM2_prep2_none_win7/CHATM2_slide27_2018_01_18-S1_prep2_none_win7_inception-bn-blue_features.bp\"\n"
     ]
    },
    {
     "name": "stderr",
     "output_type": "stream",
     "text": [
      "Save features: 3.14 seconds\n",
      "locate patches: 0.04 seconds\n"
     ]
    },
    {
     "name": "stdout",
     "output_type": "stream",
     "text": [
      "1\n"
     ]
    },
    {
     "name": "stderr",
     "output_type": "stream",
     "text": [
      "Features for CHATM2, 79/CHATM2_slide27_2018_01_18-S1 does not exist.\n",
      "No pre-computed features found... computing from scratch.\n",
      "Not using image_cache.\n"
     ]
    },
    {
     "name": "stdout",
     "output_type": "stream",
     "text": [
      "/data/CSHL_data_processed/CHATM2/CHATM2_prep2_raw_NtbNormalizedAdaptiveInvertedGamma/CHATM2_slide27_2018_01_18-S1_prep2_raw_NtbNormalizedAdaptiveInvertedGamma.tif\n"
     ]
    },
    {
     "name": "stderr",
     "output_type": "stream",
     "text": [
      "Load image: 4.80 seconds.\n",
      "Rescale image from 317 to 224: 2.83 seconds.\n",
      "Crop patches: 0.84 seconds.\n",
      "Extract patches: 8.48 seconds\n"
     ]
    },
    {
     "name": "stdout",
     "output_type": "stream",
     "text": [
      "(28324, 1, 224, 224)\n"
     ]
    },
    {
     "name": "stderr",
     "output_type": "stream",
     "text": [
      "Compute features: 45.46 seconds\n",
      "Compute features at one section, multiple locations: 53.97 seconds\n"
     ]
    },
    {
     "name": "stdout",
     "output_type": "stream",
     "text": [
      "aws s3 cp \"/data/CSHL_patch_features/inception-bn-blue/CHATM2/CHATM2_prep2_none_win7/CHATM2_slide27_2018_01_18-S1_prep2_none_win7_inception-bn-blue_features.bp\" \"s3://mousebrainatlas-data/CSHL_patch_features/inception-bn-blue/CHATM2/CHATM2_prep2_none_win7/CHATM2_slide27_2018_01_18-S1_prep2_none_win7_inception-bn-blue_features.bp\"\n",
      "0\n",
      "aws s3 cp \"/data/CSHL_patch_features/inception-bn-blue/CHATM2/CHATM2_prep2_none_win7/CHATM2_slide27_2018_01_18-S1_prep2_none_win7_inception-bn-blue_locations.bp\" \"s3://mousebrainatlas-data/CSHL_patch_features/inception-bn-blue/CHATM2/CHATM2_prep2_none_win7/CHATM2_slide27_2018_01_18-S1_prep2_none_win7_inception-bn-blue_locations.bp\"\n",
      "0\n",
      "rm -rf \"/data/CSHL_patch_features/inception-bn-blue/CHATM2/CHATM2_prep2_none_win7/CHATM2_slide28_2018_01_18-S1_prep2_none_win7_inception-bn-blue_features.bp\" && mkdir -p \"/data/CSHL_patch_features/inception-bn-blue/CHATM2/CHATM2_prep2_none_win7\"\n",
      "0\n",
      "aws s3 cp \"s3://mousebrainatlas-data/CSHL_patch_features/inception-bn-blue/CHATM2/CHATM2_prep2_none_win7/CHATM2_slide28_2018_01_18-S1_prep2_none_win7_inception-bn-blue_features.bp\" \"/data/CSHL_patch_features/inception-bn-blue/CHATM2/CHATM2_prep2_none_win7/CHATM2_slide28_2018_01_18-S1_prep2_none_win7_inception-bn-blue_features.bp\"\n"
     ]
    },
    {
     "name": "stderr",
     "output_type": "stream",
     "text": [
      "Save features: 3.12 seconds\n",
      "locate patches: 0.06 seconds\n"
     ]
    },
    {
     "name": "stdout",
     "output_type": "stream",
     "text": [
      "1\n"
     ]
    },
    {
     "name": "stderr",
     "output_type": "stream",
     "text": [
      "Features for CHATM2, 80/CHATM2_slide28_2018_01_18-S1 does not exist.\n",
      "No pre-computed features found... computing from scratch.\n",
      "Not using image_cache.\n"
     ]
    },
    {
     "name": "stdout",
     "output_type": "stream",
     "text": [
      "/data/CSHL_data_processed/CHATM2/CHATM2_prep2_raw_NtbNormalizedAdaptiveInvertedGamma/CHATM2_slide28_2018_01_18-S1_prep2_raw_NtbNormalizedAdaptiveInvertedGamma.tif\n"
     ]
    },
    {
     "name": "stderr",
     "output_type": "stream",
     "text": [
      "Load image: 4.12 seconds.\n",
      "Rescale image from 317 to 224: 2.88 seconds.\n",
      "Crop patches: 0.89 seconds.\n",
      "Extract patches: 7.90 seconds\n"
     ]
    },
    {
     "name": "stdout",
     "output_type": "stream",
     "text": [
      "(28899, 1, 224, 224)\n"
     ]
    },
    {
     "name": "stderr",
     "output_type": "stream",
     "text": [
      "Compute features: 48.51 seconds\n",
      "Compute features at one section, multiple locations: 56.43 seconds\n"
     ]
    },
    {
     "name": "stdout",
     "output_type": "stream",
     "text": [
      "aws s3 cp \"/data/CSHL_patch_features/inception-bn-blue/CHATM2/CHATM2_prep2_none_win7/CHATM2_slide28_2018_01_18-S1_prep2_none_win7_inception-bn-blue_features.bp\" \"s3://mousebrainatlas-data/CSHL_patch_features/inception-bn-blue/CHATM2/CHATM2_prep2_none_win7/CHATM2_slide28_2018_01_18-S1_prep2_none_win7_inception-bn-blue_features.bp\"\n",
      "0\n",
      "aws s3 cp \"/data/CSHL_patch_features/inception-bn-blue/CHATM2/CHATM2_prep2_none_win7/CHATM2_slide28_2018_01_18-S1_prep2_none_win7_inception-bn-blue_locations.bp\" \"s3://mousebrainatlas-data/CSHL_patch_features/inception-bn-blue/CHATM2/CHATM2_prep2_none_win7/CHATM2_slide28_2018_01_18-S1_prep2_none_win7_inception-bn-blue_locations.bp\"\n",
      "0\n",
      "rm -rf \"/data/CSHL_patch_features/inception-bn-blue/CHATM2/CHATM2_prep2_none_win7/CHATM2_slide27_2018_01_18-S2_prep2_none_win7_inception-bn-blue_features.bp\" && mkdir -p \"/data/CSHL_patch_features/inception-bn-blue/CHATM2/CHATM2_prep2_none_win7\"\n",
      "0\n",
      "aws s3 cp \"s3://mousebrainatlas-data/CSHL_patch_features/inception-bn-blue/CHATM2/CHATM2_prep2_none_win7/CHATM2_slide27_2018_01_18-S2_prep2_none_win7_inception-bn-blue_features.bp\" \"/data/CSHL_patch_features/inception-bn-blue/CHATM2/CHATM2_prep2_none_win7/CHATM2_slide27_2018_01_18-S2_prep2_none_win7_inception-bn-blue_features.bp\"\n"
     ]
    },
    {
     "name": "stderr",
     "output_type": "stream",
     "text": [
      "Save features: 3.37 seconds\n",
      "locate patches: 0.04 seconds\n"
     ]
    },
    {
     "name": "stdout",
     "output_type": "stream",
     "text": [
      "1\n"
     ]
    },
    {
     "name": "stderr",
     "output_type": "stream",
     "text": [
      "Features for CHATM2, 81/CHATM2_slide27_2018_01_18-S2 does not exist.\n",
      "No pre-computed features found... computing from scratch.\n",
      "Not using image_cache.\n"
     ]
    },
    {
     "name": "stdout",
     "output_type": "stream",
     "text": [
      "/data/CSHL_data_processed/CHATM2/CHATM2_prep2_raw_NtbNormalizedAdaptiveInvertedGamma/CHATM2_slide27_2018_01_18-S2_prep2_raw_NtbNormalizedAdaptiveInvertedGamma.tif\n"
     ]
    },
    {
     "name": "stderr",
     "output_type": "stream",
     "text": [
      "Load image: 2.10 seconds.\n",
      "Rescale image from 317 to 224: 2.87 seconds.\n",
      "Crop patches: 0.87 seconds.\n",
      "Extract patches: 5.85 seconds\n"
     ]
    },
    {
     "name": "stdout",
     "output_type": "stream",
     "text": [
      "(28439, 1, 224, 224)\n"
     ]
    },
    {
     "name": "stderr",
     "output_type": "stream",
     "text": [
      "Compute features: 50.41 seconds\n",
      "Compute features at one section, multiple locations: 56.28 seconds\n"
     ]
    },
    {
     "name": "stdout",
     "output_type": "stream",
     "text": [
      "aws s3 cp \"/data/CSHL_patch_features/inception-bn-blue/CHATM2/CHATM2_prep2_none_win7/CHATM2_slide27_2018_01_18-S2_prep2_none_win7_inception-bn-blue_features.bp\" \"s3://mousebrainatlas-data/CSHL_patch_features/inception-bn-blue/CHATM2/CHATM2_prep2_none_win7/CHATM2_slide27_2018_01_18-S2_prep2_none_win7_inception-bn-blue_features.bp\"\n",
      "0\n",
      "aws s3 cp \"/data/CSHL_patch_features/inception-bn-blue/CHATM2/CHATM2_prep2_none_win7/CHATM2_slide27_2018_01_18-S2_prep2_none_win7_inception-bn-blue_locations.bp\" \"s3://mousebrainatlas-data/CSHL_patch_features/inception-bn-blue/CHATM2/CHATM2_prep2_none_win7/CHATM2_slide27_2018_01_18-S2_prep2_none_win7_inception-bn-blue_locations.bp\"\n",
      "0\n",
      "rm -rf \"/data/CSHL_patch_features/inception-bn-blue/CHATM2/CHATM2_prep2_none_win7/CHATM2_slide28_2018_01_18-S2_prep2_none_win7_inception-bn-blue_features.bp\" && mkdir -p \"/data/CSHL_patch_features/inception-bn-blue/CHATM2/CHATM2_prep2_none_win7\"\n",
      "0"
     ]
    },
    {
     "name": "stderr",
     "output_type": "stream",
     "text": [
      "Save features: 4.24 seconds\n",
      "locate patches: 0.06 seconds\n"
     ]
    },
    {
     "name": "stdout",
     "output_type": "stream",
     "text": [
      "\n",
      "aws s3 cp \"s3://mousebrainatlas-data/CSHL_patch_features/inception-bn-blue/CHATM2/CHATM2_prep2_none_win7/CHATM2_slide28_2018_01_18-S2_prep2_none_win7_inception-bn-blue_features.bp\" \"/data/CSHL_patch_features/inception-bn-blue/CHATM2/CHATM2_prep2_none_win7/CHATM2_slide28_2018_01_18-S2_prep2_none_win7_inception-bn-blue_features.bp\"\n",
      "1\n"
     ]
    },
    {
     "name": "stderr",
     "output_type": "stream",
     "text": [
      "Features for CHATM2, 82/CHATM2_slide28_2018_01_18-S2 does not exist.\n",
      "No pre-computed features found... computing from scratch.\n",
      "Not using image_cache.\n"
     ]
    },
    {
     "name": "stdout",
     "output_type": "stream",
     "text": [
      "/data/CSHL_data_processed/CHATM2/CHATM2_prep2_raw_NtbNormalizedAdaptiveInvertedGamma/CHATM2_slide28_2018_01_18-S2_prep2_raw_NtbNormalizedAdaptiveInvertedGamma.tif\n"
     ]
    },
    {
     "name": "stderr",
     "output_type": "stream",
     "text": [
      "Load image: 3.82 seconds.\n",
      "Rescale image from 317 to 224: 5.78 seconds.\n",
      "Crop patches: 1.49 seconds.\n",
      "Extract patches: 11.14 seconds\n"
     ]
    },
    {
     "name": "stdout",
     "output_type": "stream",
     "text": [
      "(29340, 1, 224, 224)\n"
     ]
    },
    {
     "name": "stderr",
     "output_type": "stream",
     "text": [
      "Compute features: 52.81 seconds\n",
      "Compute features at one section, multiple locations: 63.97 seconds\n"
     ]
    },
    {
     "name": "stdout",
     "output_type": "stream",
     "text": [
      "aws s3 cp \"/data/CSHL_patch_features/inception-bn-blue/CHATM2/CHATM2_prep2_none_win7/CHATM2_slide28_2018_01_18-S2_prep2_none_win7_inception-bn-blue_features.bp\" \"s3://mousebrainatlas-data/CSHL_patch_features/inception-bn-blue/CHATM2/CHATM2_prep2_none_win7/CHATM2_slide28_2018_01_18-S2_prep2_none_win7_inception-bn-blue_features.bp\"\n",
      "0\n",
      "aws s3 cp \"/data/CSHL_patch_features/inception-bn-blue/CHATM2/CHATM2_prep2_none_win7/CHATM2_slide28_2018_01_18-S2_prep2_none_win7_inception-bn-blue_locations.bp\" \"s3://mousebrainatlas-data/CSHL_patch_features/inception-bn-blue/CHATM2/CHATM2_prep2_none_win7/CHATM2_slide28_2018_01_18-S2_prep2_none_win7_inception-bn-blue_locations.bp\"\n",
      "0\n",
      "rm -rf \"/data/CSHL_patch_features/inception-bn-blue/CHATM2/CHATM2_prep2_none_win7/CHATM2_slide27_2018_01_18-S3_prep2_none_win7_inception-bn-blue_features.bp\" && mkdir -p \"/data/CSHL_patch_features/inception-bn-blue/CHATM2/CHATM2_prep2_none_win7\"\n",
      "0\n",
      "aws s3 cp \"s3://mousebrainatlas-data/CSHL_patch_features/inception-bn-blue/CHATM2/CHATM2_prep2_none_win7/CHATM2_slide27_2018_01_18-S3_prep2_none_win7_inception-bn-blue_features.bp\" \"/data/CSHL_patch_features/inception-bn-blue/CHATM2/CHATM2_prep2_none_win7/CHATM2_slide27_2018_01_18-S3_prep2_none_win7_inception-bn-blue_features.bp\"\n"
     ]
    },
    {
     "name": "stderr",
     "output_type": "stream",
     "text": [
      "Save features: 3.35 seconds\n",
      "locate patches: 0.05 seconds\n"
     ]
    },
    {
     "name": "stdout",
     "output_type": "stream",
     "text": [
      "1\n"
     ]
    },
    {
     "name": "stderr",
     "output_type": "stream",
     "text": [
      "Features for CHATM2, 83/CHATM2_slide27_2018_01_18-S3 does not exist.\n",
      "No pre-computed features found... computing from scratch.\n",
      "Not using image_cache.\n"
     ]
    },
    {
     "name": "stdout",
     "output_type": "stream",
     "text": [
      "/data/CSHL_data_processed/CHATM2/CHATM2_prep2_raw_NtbNormalizedAdaptiveInvertedGamma/CHATM2_slide27_2018_01_18-S3_prep2_raw_NtbNormalizedAdaptiveInvertedGamma.tif\n"
     ]
    },
    {
     "name": "stderr",
     "output_type": "stream",
     "text": [
      "Load image: 2.75 seconds.\n",
      "Rescale image from 317 to 224: 3.67 seconds.\n",
      "Crop patches: 1.30 seconds.\n",
      "Extract patches: 7.72 seconds\n"
     ]
    },
    {
     "name": "stdout",
     "output_type": "stream",
     "text": [
      "(29185, 1, 224, 224)\n"
     ]
    },
    {
     "name": "stderr",
     "output_type": "stream",
     "text": [
      "Compute features: 55.63 seconds\n",
      "Compute features at one section, multiple locations: 63.39 seconds\n"
     ]
    },
    {
     "name": "stdout",
     "output_type": "stream",
     "text": [
      "aws s3 cp \"/data/CSHL_patch_features/inception-bn-blue/CHATM2/CHATM2_prep2_none_win7/CHATM2_slide27_2018_01_18-S3_prep2_none_win7_inception-bn-blue_features.bp\" \"s3://mousebrainatlas-data/CSHL_patch_features/inception-bn-blue/CHATM2/CHATM2_prep2_none_win7/CHATM2_slide27_2018_01_18-S3_prep2_none_win7_inception-bn-blue_features.bp\"\n",
      "0\n",
      "aws s3 cp \"/data/CSHL_patch_features/inception-bn-blue/CHATM2/CHATM2_prep2_none_win7/CHATM2_slide27_2018_01_18-S3_prep2_none_win7_inception-bn-blue_locations.bp\" \"s3://mousebrainatlas-data/CSHL_patch_features/inception-bn-blue/CHATM2/CHATM2_prep2_none_win7/CHATM2_slide27_2018_01_18-S3_prep2_none_win7_inception-bn-blue_locations.bp\"\n",
      "0\n",
      "rm -rf \"/data/CSHL_patch_features/inception-bn-blue/CHATM2/CHATM2_prep2_none_win7/CHATM2_slide28_2018_01_18-S3_prep2_none_win7_inception-bn-blue_features.bp\" && mkdir -p \"/data/CSHL_patch_features/inception-bn-blue/CHATM2/CHATM2_prep2_none_win7\"\n",
      "0\n",
      "aws s3 cp \"s3://mousebrainatlas-data/CSHL_patch_features/inception-bn-blue/CHATM2/CHATM2_prep2_none_win7/CHATM2_slide28_2018_01_18-S3_prep2_none_win7_inception-bn-blue_features.bp\" \"/data/CSHL_patch_features/inception-bn-blue/CHATM2/CHATM2_prep2_none_win7/CHATM2_slide28_2018_01_18-S3_prep2_none_win7_inception-bn-blue_features.bp\"\n"
     ]
    },
    {
     "name": "stderr",
     "output_type": "stream",
     "text": [
      "Save features: 3.00 seconds\n",
      "locate patches: 0.05 seconds\n"
     ]
    },
    {
     "name": "stdout",
     "output_type": "stream",
     "text": [
      "1\n"
     ]
    },
    {
     "name": "stderr",
     "output_type": "stream",
     "text": [
      "Features for CHATM2, 84/CHATM2_slide28_2018_01_18-S3 does not exist.\n",
      "No pre-computed features found... computing from scratch.\n",
      "Not using image_cache.\n"
     ]
    },
    {
     "name": "stdout",
     "output_type": "stream",
     "text": [
      "/data/CSHL_data_processed/CHATM2/CHATM2_prep2_raw_NtbNormalizedAdaptiveInvertedGamma/CHATM2_slide28_2018_01_18-S3_prep2_raw_NtbNormalizedAdaptiveInvertedGamma.tif\n"
     ]
    },
    {
     "name": "stderr",
     "output_type": "stream",
     "text": [
      "Load image: 1.77 seconds.\n",
      "Rescale image from 317 to 224: 3.19 seconds.\n",
      "Crop patches: 0.89 seconds.\n",
      "Extract patches: 5.85 seconds\n"
     ]
    },
    {
     "name": "stdout",
     "output_type": "stream",
     "text": [
      "(29979, 1, 224, 224)\n"
     ]
    },
    {
     "name": "stderr",
     "output_type": "stream",
     "text": [
      "Compute features: 46.94 seconds\n",
      "Compute features at one section, multiple locations: 52.82 seconds\n"
     ]
    },
    {
     "name": "stdout",
     "output_type": "stream",
     "text": [
      "aws s3 cp \"/data/CSHL_patch_features/inception-bn-blue/CHATM2/CHATM2_prep2_none_win7/CHATM2_slide28_2018_01_18-S3_prep2_none_win7_inception-bn-blue_features.bp\" \"s3://mousebrainatlas-data/CSHL_patch_features/inception-bn-blue/CHATM2/CHATM2_prep2_none_win7/CHATM2_slide28_2018_01_18-S3_prep2_none_win7_inception-bn-blue_features.bp\"\n",
      "0\n",
      "aws s3 cp \"/data/CSHL_patch_features/inception-bn-blue/CHATM2/CHATM2_prep2_none_win7/CHATM2_slide28_2018_01_18-S3_prep2_none_win7_inception-bn-blue_locations.bp\" \"s3://mousebrainatlas-data/CSHL_patch_features/inception-bn-blue/CHATM2/CHATM2_prep2_none_win7/CHATM2_slide28_2018_01_18-S3_prep2_none_win7_inception-bn-blue_locations.bp\"\n",
      "0\n",
      "rm -rf \"/data/CSHL_patch_features/inception-bn-blue/CHATM2/CHATM2_prep2_none_win7/CHATM2_slide29_2018_01_18-S1_prep2_none_win7_inception-bn-blue_features.bp\" && mkdir -p \"/data/CSHL_patch_features/inception-bn-blue/CHATM2/CHATM2_prep2_none_win7\"\n",
      "0\n",
      "aws s3 cp \"s3://mousebrainatlas-data/CSHL_patch_features/inception-bn-blue/CHATM2/CHATM2_prep2_none_win7/CHATM2_slide29_2018_01_18-S1_prep2_none_win7_inception-bn-blue_features.bp\" \"/data/CSHL_patch_features/inception-bn-blue/CHATM2/CHATM2_prep2_none_win7/CHATM2_slide29_2018_01_18-S1_prep2_none_win7_inception-bn-blue_features.bp\"\n"
     ]
    },
    {
     "name": "stderr",
     "output_type": "stream",
     "text": [
      "Save features: 3.05 seconds\n",
      "locate patches: 0.04 seconds\n"
     ]
    },
    {
     "name": "stdout",
     "output_type": "stream",
     "text": [
      "1\n"
     ]
    },
    {
     "name": "stderr",
     "output_type": "stream",
     "text": [
      "Features for CHATM2, 85/CHATM2_slide29_2018_01_18-S1 does not exist.\n",
      "No pre-computed features found... computing from scratch.\n",
      "Not using image_cache.\n"
     ]
    },
    {
     "name": "stdout",
     "output_type": "stream",
     "text": [
      "/data/CSHL_data_processed/CHATM2/CHATM2_prep2_raw_NtbNormalizedAdaptiveInvertedGamma/CHATM2_slide29_2018_01_18-S1_prep2_raw_NtbNormalizedAdaptiveInvertedGamma.tif\n"
     ]
    },
    {
     "name": "stderr",
     "output_type": "stream",
     "text": [
      "Load image: 3.57 seconds.\n",
      "Rescale image from 317 to 224: 2.81 seconds.\n",
      "Crop patches: 0.86 seconds.\n",
      "Extract patches: 7.25 seconds\n"
     ]
    },
    {
     "name": "stdout",
     "output_type": "stream",
     "text": [
      "(29593, 1, 224, 224)\n"
     ]
    },
    {
     "name": "stderr",
     "output_type": "stream",
     "text": [
      "Compute features: 45.86 seconds\n",
      "Compute features at one section, multiple locations: 53.13 seconds\n"
     ]
    },
    {
     "name": "stdout",
     "output_type": "stream",
     "text": [
      "aws s3 cp \"/data/CSHL_patch_features/inception-bn-blue/CHATM2/CHATM2_prep2_none_win7/CHATM2_slide29_2018_01_18-S1_prep2_none_win7_inception-bn-blue_features.bp\" \"s3://mousebrainatlas-data/CSHL_patch_features/inception-bn-blue/CHATM2/CHATM2_prep2_none_win7/CHATM2_slide29_2018_01_18-S1_prep2_none_win7_inception-bn-blue_features.bp\"\n",
      "0\n",
      "aws s3 cp \"/data/CSHL_patch_features/inception-bn-blue/CHATM2/CHATM2_prep2_none_win7/CHATM2_slide29_2018_01_18-S1_prep2_none_win7_inception-bn-blue_locations.bp\" \"s3://mousebrainatlas-data/CSHL_patch_features/inception-bn-blue/CHATM2/CHATM2_prep2_none_win7/CHATM2_slide29_2018_01_18-S1_prep2_none_win7_inception-bn-blue_locations.bp\"\n",
      "0\n",
      "rm -rf \"/data/CSHL_patch_features/inception-bn-blue/CHATM2/CHATM2_prep2_none_win7/CHATM2_slide30_2018_01_18-S1_prep2_none_win7_inception-bn-blue_features.bp\" && mkdir -p \"/data/CSHL_patch_features/inception-bn-blue/CHATM2/CHATM2_prep2_none_win7\"\n",
      "0\n",
      "aws s3 cp \"s3://mousebrainatlas-data/CSHL_patch_features/inception-bn-blue/CHATM2/CHATM2_prep2_none_win7/CHATM2_slide30_2018_01_18-S1_prep2_none_win7_inception-bn-blue_features.bp\" \"/data/CSHL_patch_features/inception-bn-blue/CHATM2/CHATM2_prep2_none_win7/CHATM2_slide30_2018_01_18-S1_prep2_none_win7_inception-bn-blue_features.bp\"\n"
     ]
    },
    {
     "name": "stderr",
     "output_type": "stream",
     "text": [
      "Save features: 3.62 seconds\n",
      "locate patches: 0.05 seconds\n"
     ]
    },
    {
     "name": "stdout",
     "output_type": "stream",
     "text": [
      "1\n"
     ]
    },
    {
     "name": "stderr",
     "output_type": "stream",
     "text": [
      "Features for CHATM2, 86/CHATM2_slide30_2018_01_18-S1 does not exist.\n",
      "No pre-computed features found... computing from scratch.\n",
      "Not using image_cache.\n"
     ]
    },
    {
     "name": "stdout",
     "output_type": "stream",
     "text": [
      "/data/CSHL_data_processed/CHATM2/CHATM2_prep2_raw_NtbNormalizedAdaptiveInvertedGamma/CHATM2_slide30_2018_01_18-S1_prep2_raw_NtbNormalizedAdaptiveInvertedGamma.tif\n"
     ]
    },
    {
     "name": "stderr",
     "output_type": "stream",
     "text": [
      "Load image: 4.09 seconds.\n",
      "Rescale image from 317 to 224: 2.84 seconds.\n",
      "Crop patches: 0.89 seconds.\n",
      "Extract patches: 7.83 seconds\n"
     ]
    },
    {
     "name": "stdout",
     "output_type": "stream",
     "text": [
      "(29806, 1, 224, 224)\n"
     ]
    },
    {
     "name": "stderr",
     "output_type": "stream",
     "text": [
      "Compute features: 46.39 seconds\n",
      "Compute features at one section, multiple locations: 54.25 seconds\n"
     ]
    },
    {
     "name": "stdout",
     "output_type": "stream",
     "text": [
      "aws s3 cp \"/data/CSHL_patch_features/inception-bn-blue/CHATM2/CHATM2_prep2_none_win7/CHATM2_slide30_2018_01_18-S1_prep2_none_win7_inception-bn-blue_features.bp\" \"s3://mousebrainatlas-data/CSHL_patch_features/inception-bn-blue/CHATM2/CHATM2_prep2_none_win7/CHATM2_slide30_2018_01_18-S1_prep2_none_win7_inception-bn-blue_features.bp\"\n",
      "0\n",
      "aws s3 cp \"/data/CSHL_patch_features/inception-bn-blue/CHATM2/CHATM2_prep2_none_win7/CHATM2_slide30_2018_01_18-S1_prep2_none_win7_inception-bn-blue_locations.bp\" \"s3://mousebrainatlas-data/CSHL_patch_features/inception-bn-blue/CHATM2/CHATM2_prep2_none_win7/CHATM2_slide30_2018_01_18-S1_prep2_none_win7_inception-bn-blue_locations.bp\"\n",
      "0\n",
      "rm -rf \"/data/CSHL_patch_features/inception-bn-blue/CHATM2/CHATM2_prep2_none_win7/CHATM2_slide29_2018_01_18-S2_prep2_none_win7_inception-bn-blue_features.bp\" && mkdir -p \"/data/CSHL_patch_features/inception-bn-blue/CHATM2/CHATM2_prep2_none_win7\"\n",
      "0\n",
      "aws s3 cp \"s3://mousebrainatlas-data/CSHL_patch_features/inception-bn-blue/CHATM2/CHATM2_prep2_none_win7/CHATM2_slide29_2018_01_18-S2_prep2_none_win7_inception-bn-blue_features.bp\" \"/data/CSHL_patch_features/inception-bn-blue/CHATM2/CHATM2_prep2_none_win7/CHATM2_slide29_2018_01_18-S2_prep2_none_win7_inception-bn-blue_features.bp\"\n"
     ]
    },
    {
     "name": "stderr",
     "output_type": "stream",
     "text": [
      "Save features: 3.79 seconds\n",
      "locate patches: 0.06 seconds\n"
     ]
    },
    {
     "name": "stdout",
     "output_type": "stream",
     "text": [
      "1\n"
     ]
    },
    {
     "name": "stderr",
     "output_type": "stream",
     "text": [
      "Features for CHATM2, 87/CHATM2_slide29_2018_01_18-S2 does not exist.\n",
      "No pre-computed features found... computing from scratch.\n",
      "Not using image_cache.\n"
     ]
    },
    {
     "name": "stdout",
     "output_type": "stream",
     "text": [
      "/data/CSHL_data_processed/CHATM2/CHATM2_prep2_raw_NtbNormalizedAdaptiveInvertedGamma/CHATM2_slide29_2018_01_18-S2_prep2_raw_NtbNormalizedAdaptiveInvertedGamma.tif\n"
     ]
    },
    {
     "name": "stderr",
     "output_type": "stream",
     "text": [
      "Load image: 3.67 seconds.\n",
      "Rescale image from 317 to 224: 2.84 seconds.\n",
      "Crop patches: 0.90 seconds.\n",
      "Extract patches: 7.42 seconds\n"
     ]
    },
    {
     "name": "stdout",
     "output_type": "stream",
     "text": [
      "(29295, 1, 224, 224)\n"
     ]
    },
    {
     "name": "stderr",
     "output_type": "stream",
     "text": [
      "Compute features: 45.60 seconds\n",
      "Compute features at one section, multiple locations: 53.05 seconds\n"
     ]
    },
    {
     "name": "stdout",
     "output_type": "stream",
     "text": [
      "aws s3 cp \"/data/CSHL_patch_features/inception-bn-blue/CHATM2/CHATM2_prep2_none_win7/CHATM2_slide29_2018_01_18-S2_prep2_none_win7_inception-bn-blue_features.bp\" \"s3://mousebrainatlas-data/CSHL_patch_features/inception-bn-blue/CHATM2/CHATM2_prep2_none_win7/CHATM2_slide29_2018_01_18-S2_prep2_none_win7_inception-bn-blue_features.bp\"\n",
      "0\n",
      "aws s3 cp \"/data/CSHL_patch_features/inception-bn-blue/CHATM2/CHATM2_prep2_none_win7/CHATM2_slide29_2018_01_18-S2_prep2_none_win7_inception-bn-blue_locations.bp\" \"s3://mousebrainatlas-data/CSHL_patch_features/inception-bn-blue/CHATM2/CHATM2_prep2_none_win7/CHATM2_slide29_2018_01_18-S2_prep2_none_win7_inception-bn-blue_locations.bp\"\n",
      "0\n",
      "rm -rf \"/data/CSHL_patch_features/inception-bn-blue/CHATM2/CHATM2_prep2_none_win7/CHATM2_slide30_2018_01_18-S2_prep2_none_win7_inception-bn-blue_features.bp\" && mkdir -p \"/data/CSHL_patch_features/inception-bn-blue/CHATM2/CHATM2_prep2_none_win7\"\n",
      "0\n",
      "aws s3 cp \"s3://mousebrainatlas-data/CSHL_patch_features/inception-bn-blue/CHATM2/CHATM2_prep2_none_win7/CHATM2_slide30_2018_01_18-S2_prep2_none_win7_inception-bn-blue_features.bp\" \"/data/CSHL_patch_features/inception-bn-blue/CHATM2/CHATM2_prep2_none_win7/CHATM2_slide30_2018_01_18-S2_prep2_none_win7_inception-bn-blue_features.bp\"\n"
     ]
    },
    {
     "name": "stderr",
     "output_type": "stream",
     "text": [
      "Save features: 2.95 seconds\n",
      "locate patches: 0.04 seconds\n"
     ]
    },
    {
     "name": "stdout",
     "output_type": "stream",
     "text": [
      "1\n"
     ]
    },
    {
     "name": "stderr",
     "output_type": "stream",
     "text": [
      "Features for CHATM2, 88/CHATM2_slide30_2018_01_18-S2 does not exist.\n",
      "No pre-computed features found... computing from scratch.\n",
      "Not using image_cache.\n"
     ]
    },
    {
     "name": "stdout",
     "output_type": "stream",
     "text": [
      "/data/CSHL_data_processed/CHATM2/CHATM2_prep2_raw_NtbNormalizedAdaptiveInvertedGamma/CHATM2_slide30_2018_01_18-S2_prep2_raw_NtbNormalizedAdaptiveInvertedGamma.tif\n"
     ]
    },
    {
     "name": "stderr",
     "output_type": "stream",
     "text": [
      "Load image: 1.73 seconds.\n",
      "Rescale image from 317 to 224: 2.84 seconds.\n",
      "Crop patches: 0.91 seconds.\n",
      "Extract patches: 5.49 seconds\n"
     ]
    },
    {
     "name": "stdout",
     "output_type": "stream",
     "text": [
      "(30276, 1, 224, 224)\n"
     ]
    },
    {
     "name": "stderr",
     "output_type": "stream",
     "text": [
      "Compute features: 47.68 seconds\n",
      "Compute features at one section, multiple locations: 53.20 seconds\n"
     ]
    },
    {
     "name": "stdout",
     "output_type": "stream",
     "text": [
      "aws s3 cp \"/data/CSHL_patch_features/inception-bn-blue/CHATM2/CHATM2_prep2_none_win7/CHATM2_slide30_2018_01_18-S2_prep2_none_win7_inception-bn-blue_features.bp\" \"s3://mousebrainatlas-data/CSHL_patch_features/inception-bn-blue/CHATM2/CHATM2_prep2_none_win7/CHATM2_slide30_2018_01_18-S2_prep2_none_win7_inception-bn-blue_features.bp\"\n",
      "0\n",
      "aws s3 cp \"/data/CSHL_patch_features/inception-bn-blue/CHATM2/CHATM2_prep2_none_win7/CHATM2_slide30_2018_01_18-S2_prep2_none_win7_inception-bn-blue_locations.bp\" \"s3://mousebrainatlas-data/CSHL_patch_features/inception-bn-blue/CHATM2/CHATM2_prep2_none_win7/CHATM2_slide30_2018_01_18-S2_prep2_none_win7_inception-bn-blue_locations.bp\"\n",
      "0\n",
      "rm -rf \"/data/CSHL_patch_features/inception-bn-blue/CHATM2/CHATM2_prep2_none_win7/CHATM2_slide29_2018_01_18-S3_prep2_none_win7_inception-bn-blue_features.bp\" && mkdir -p \"/data/CSHL_patch_features/inception-bn-blue/CHATM2/CHATM2_prep2_none_win7\"\n",
      "0\n",
      "aws s3 cp \"s3://mousebrainatlas-data/CSHL_patch_features/inception-bn-blue/CHATM2/CHATM2_prep2_none_win7/CHATM2_slide29_2018_01_18-S3_prep2_none_win7_inception-bn-blue_features.bp\" \"/data/CSHL_patch_features/inception-bn-blue/CHATM2/CHATM2_prep2_none_win7/CHATM2_slide29_2018_01_18-S3_prep2_none_win7_inception-bn-blue_features.bp\"\n"
     ]
    },
    {
     "name": "stderr",
     "output_type": "stream",
     "text": [
      "Save features: 3.38 seconds\n",
      "locate patches: 0.05 seconds\n"
     ]
    },
    {
     "name": "stdout",
     "output_type": "stream",
     "text": [
      "1\n"
     ]
    },
    {
     "name": "stderr",
     "output_type": "stream",
     "text": [
      "Features for CHATM2, 89/CHATM2_slide29_2018_01_18-S3 does not exist.\n",
      "No pre-computed features found... computing from scratch.\n",
      "Not using image_cache.\n"
     ]
    },
    {
     "name": "stdout",
     "output_type": "stream",
     "text": [
      "/data/CSHL_data_processed/CHATM2/CHATM2_prep2_raw_NtbNormalizedAdaptiveInvertedGamma/CHATM2_slide29_2018_01_18-S3_prep2_raw_NtbNormalizedAdaptiveInvertedGamma.tif\n"
     ]
    },
    {
     "name": "stderr",
     "output_type": "stream",
     "text": [
      "Load image: 2.65 seconds.\n",
      "Rescale image from 317 to 224: 2.81 seconds.\n",
      "Crop patches: 0.93 seconds.\n",
      "Extract patches: 6.40 seconds\n"
     ]
    },
    {
     "name": "stdout",
     "output_type": "stream",
     "text": [
      "(31154, 1, 224, 224)\n"
     ]
    },
    {
     "name": "stderr",
     "output_type": "stream",
     "text": [
      "Compute features: 48.76 seconds\n",
      "Compute features at one section, multiple locations: 55.18 seconds\n"
     ]
    },
    {
     "name": "stdout",
     "output_type": "stream",
     "text": [
      "aws s3 cp \"/data/CSHL_patch_features/inception-bn-blue/CHATM2/CHATM2_prep2_none_win7/CHATM2_slide29_2018_01_18-S3_prep2_none_win7_inception-bn-blue_features.bp\" \"s3://mousebrainatlas-data/CSHL_patch_features/inception-bn-blue/CHATM2/CHATM2_prep2_none_win7/CHATM2_slide29_2018_01_18-S3_prep2_none_win7_inception-bn-blue_features.bp\"\n",
      "0\n",
      "aws s3 cp \"/data/CSHL_patch_features/inception-bn-blue/CHATM2/CHATM2_prep2_none_win7/CHATM2_slide29_2018_01_18-S3_prep2_none_win7_inception-bn-blue_locations.bp\" \"s3://mousebrainatlas-data/CSHL_patch_features/inception-bn-blue/CHATM2/CHATM2_prep2_none_win7/CHATM2_slide29_2018_01_18-S3_prep2_none_win7_inception-bn-blue_locations.bp\"\n",
      "0\n",
      "rm -rf \"/data/CSHL_patch_features/inception-bn-blue/CHATM2/CHATM2_prep2_none_win7/CHATM2_slide30_2018_01_18-S3_prep2_none_win7_inception-bn-blue_features.bp\" && mkdir -p \"/data/CSHL_patch_features/inception-bn-blue/CHATM2/CHATM2_prep2_none_win7\"\n",
      "0\n",
      "aws s3 cp \"s3://mousebrainatlas-data/CSHL_patch_features/inception-bn-blue/CHATM2/CHATM2_prep2_none_win7/CHATM2_slide30_2018_01_18-S3_prep2_none_win7_inception-bn-blue_features.bp\" \"/data/CSHL_patch_features/inception-bn-blue/CHATM2/CHATM2_prep2_none_win7/CHATM2_slide30_2018_01_18-S3_prep2_none_win7_inception-bn-blue_features.bp\"\n"
     ]
    },
    {
     "name": "stderr",
     "output_type": "stream",
     "text": [
      "Save features: 3.27 seconds\n",
      "locate patches: 0.05 seconds\n"
     ]
    },
    {
     "name": "stdout",
     "output_type": "stream",
     "text": [
      "1\n"
     ]
    },
    {
     "name": "stderr",
     "output_type": "stream",
     "text": [
      "Features for CHATM2, 90/CHATM2_slide30_2018_01_18-S3 does not exist.\n",
      "No pre-computed features found... computing from scratch.\n",
      "Not using image_cache.\n"
     ]
    },
    {
     "name": "stdout",
     "output_type": "stream",
     "text": [
      "/data/CSHL_data_processed/CHATM2/CHATM2_prep2_raw_NtbNormalizedAdaptiveInvertedGamma/CHATM2_slide30_2018_01_18-S3_prep2_raw_NtbNormalizedAdaptiveInvertedGamma.tif\n"
     ]
    },
    {
     "name": "stderr",
     "output_type": "stream",
     "text": [
      "Load image: 3.55 seconds.\n",
      "Rescale image from 317 to 224: 2.84 seconds.\n",
      "Crop patches: 0.95 seconds.\n",
      "Extract patches: 7.35 seconds\n"
     ]
    },
    {
     "name": "stdout",
     "output_type": "stream",
     "text": [
      "(30984, 1, 224, 224)\n"
     ]
    },
    {
     "name": "stderr",
     "output_type": "stream",
     "text": [
      "Compute features: 49.08 seconds\n",
      "Compute features at one section, multiple locations: 56.48 seconds\n"
     ]
    },
    {
     "name": "stdout",
     "output_type": "stream",
     "text": [
      "aws s3 cp \"/data/CSHL_patch_features/inception-bn-blue/CHATM2/CHATM2_prep2_none_win7/CHATM2_slide30_2018_01_18-S3_prep2_none_win7_inception-bn-blue_features.bp\" \"s3://mousebrainatlas-data/CSHL_patch_features/inception-bn-blue/CHATM2/CHATM2_prep2_none_win7/CHATM2_slide30_2018_01_18-S3_prep2_none_win7_inception-bn-blue_features.bp\"\n",
      "0\n",
      "aws s3 cp \"/data/CSHL_patch_features/inception-bn-blue/CHATM2/CHATM2_prep2_none_win7/CHATM2_slide30_2018_01_18-S3_prep2_none_win7_inception-bn-blue_locations.bp\" \"s3://mousebrainatlas-data/CSHL_patch_features/inception-bn-blue/CHATM2/CHATM2_prep2_none_win7/CHATM2_slide30_2018_01_18-S3_prep2_none_win7_inception-bn-blue_locations.bp\"\n",
      "0\n",
      "rm -rf \"/data/CSHL_patch_features/inception-bn-blue/CHATM2/CHATM2_prep2_none_win7/CHATM2_slide32_2018_01_20-S1_prep2_none_win7_inception-bn-blue_features.bp\" && mkdir -p \"/data/CSHL_patch_features/inception-bn-blue/CHATM2/CHATM2_prep2_none_win7\"\n"
     ]
    },
    {
     "name": "stderr",
     "output_type": "stream",
     "text": [
      "Save features: 4.47 seconds\n",
      "locate patches: 0.10 seconds\n"
     ]
    },
    {
     "name": "stdout",
     "output_type": "stream",
     "text": [
      "0\n",
      "aws s3 cp \"s3://mousebrainatlas-data/CSHL_patch_features/inception-bn-blue/CHATM2/CHATM2_prep2_none_win7/CHATM2_slide32_2018_01_20-S1_prep2_none_win7_inception-bn-blue_features.bp\" \"/data/CSHL_patch_features/inception-bn-blue/CHATM2/CHATM2_prep2_none_win7/CHATM2_slide32_2018_01_20-S1_prep2_none_win7_inception-bn-blue_features.bp\"\n",
      "1\n"
     ]
    },
    {
     "name": "stderr",
     "output_type": "stream",
     "text": [
      "Features for CHATM2, 92/CHATM2_slide32_2018_01_20-S1 does not exist.\n",
      "No pre-computed features found... computing from scratch.\n",
      "Not using image_cache.\n"
     ]
    },
    {
     "name": "stdout",
     "output_type": "stream",
     "text": [
      "/data/CSHL_data_processed/CHATM2/CHATM2_prep2_raw_NtbNormalizedAdaptiveInvertedGamma/CHATM2_slide32_2018_01_20-S1_prep2_raw_NtbNormalizedAdaptiveInvertedGamma.tif\n"
     ]
    },
    {
     "name": "stderr",
     "output_type": "stream",
     "text": [
      "Load image: 4.18 seconds.\n",
      "Rescale image from 317 to 224: 5.09 seconds.\n",
      "Crop patches: 1.06 seconds.\n",
      "Extract patches: 10.35 seconds\n"
     ]
    },
    {
     "name": "stdout",
     "output_type": "stream",
     "text": [
      "(30395, 1, 224, 224)\n"
     ]
    },
    {
     "name": "stderr",
     "output_type": "stream",
     "text": [
      "Compute features: 46.73 seconds\n",
      "Compute features at one section, multiple locations: 57.11 seconds\n"
     ]
    },
    {
     "name": "stdout",
     "output_type": "stream",
     "text": [
      "aws s3 cp \"/data/CSHL_patch_features/inception-bn-blue/CHATM2/CHATM2_prep2_none_win7/CHATM2_slide32_2018_01_20-S1_prep2_none_win7_inception-bn-blue_features.bp\" \"s3://mousebrainatlas-data/CSHL_patch_features/inception-bn-blue/CHATM2/CHATM2_prep2_none_win7/CHATM2_slide32_2018_01_20-S1_prep2_none_win7_inception-bn-blue_features.bp\"\n",
      "0\n",
      "aws s3 cp \"/data/CSHL_patch_features/inception-bn-blue/CHATM2/CHATM2_prep2_none_win7/CHATM2_slide32_2018_01_20-S1_prep2_none_win7_inception-bn-blue_locations.bp\" \"s3://mousebrainatlas-data/CSHL_patch_features/inception-bn-blue/CHATM2/CHATM2_prep2_none_win7/CHATM2_slide32_2018_01_20-S1_prep2_none_win7_inception-bn-blue_locations.bp\"\n",
      "0\n",
      "rm -rf \"/data/CSHL_patch_features/inception-bn-blue/CHATM2/CHATM2_prep2_none_win7/CHATM2_slide31_2018_01_19-S2_prep2_none_win7_inception-bn-blue_features.bp\" && mkdir -p \"/data/CSHL_patch_features/inception-bn-blue/CHATM2/CHATM2_prep2_none_win7\"\n",
      "0\n",
      "aws s3 cp \"s3://mousebrainatlas-data/CSHL_patch_features/inception-bn-blue/CHATM2/CHATM2_prep2_none_win7/CHATM2_slide31_2018_01_19-S2_prep2_none_win7_inception-bn-blue_features.bp\" \"/data/CSHL_patch_features/inception-bn-blue/CHATM2/CHATM2_prep2_none_win7/CHATM2_slide31_2018_01_19-S2_prep2_none_win7_inception-bn-blue_features.bp\"\n"
     ]
    },
    {
     "name": "stderr",
     "output_type": "stream",
     "text": [
      "Save features: 3.02 seconds\n",
      "locate patches: 0.06 seconds\n"
     ]
    },
    {
     "name": "stdout",
     "output_type": "stream",
     "text": [
      "1\n"
     ]
    },
    {
     "name": "stderr",
     "output_type": "stream",
     "text": [
      "Features for CHATM2, 93/CHATM2_slide31_2018_01_19-S2 does not exist.\n",
      "No pre-computed features found... computing from scratch.\n",
      "Not using image_cache.\n"
     ]
    },
    {
     "name": "stdout",
     "output_type": "stream",
     "text": [
      "/data/CSHL_data_processed/CHATM2/CHATM2_prep2_raw_NtbNormalizedAdaptiveInvertedGamma/CHATM2_slide31_2018_01_19-S2_prep2_raw_NtbNormalizedAdaptiveInvertedGamma.tif\n"
     ]
    },
    {
     "name": "stderr",
     "output_type": "stream",
     "text": [
      "Load image: 4.44 seconds.\n",
      "Rescale image from 317 to 224: 2.82 seconds.\n",
      "Crop patches: 0.91 seconds.\n",
      "Extract patches: 8.18 seconds\n"
     ]
    },
    {
     "name": "stdout",
     "output_type": "stream",
     "text": [
      "(30270, 1, 224, 224)\n"
     ]
    },
    {
     "name": "stderr",
     "output_type": "stream",
     "text": [
      "Compute features: 47.01 seconds\n",
      "Compute features at one section, multiple locations: 55.22 seconds\n"
     ]
    },
    {
     "name": "stdout",
     "output_type": "stream",
     "text": [
      "aws s3 cp \"/data/CSHL_patch_features/inception-bn-blue/CHATM2/CHATM2_prep2_none_win7/CHATM2_slide31_2018_01_19-S2_prep2_none_win7_inception-bn-blue_features.bp\" \"s3://mousebrainatlas-data/CSHL_patch_features/inception-bn-blue/CHATM2/CHATM2_prep2_none_win7/CHATM2_slide31_2018_01_19-S2_prep2_none_win7_inception-bn-blue_features.bp\"\n",
      "0\n",
      "aws s3 cp \"/data/CSHL_patch_features/inception-bn-blue/CHATM2/CHATM2_prep2_none_win7/CHATM2_slide31_2018_01_19-S2_prep2_none_win7_inception-bn-blue_locations.bp\" \"s3://mousebrainatlas-data/CSHL_patch_features/inception-bn-blue/CHATM2/CHATM2_prep2_none_win7/CHATM2_slide31_2018_01_19-S2_prep2_none_win7_inception-bn-blue_locations.bp\"\n",
      "0\n",
      "rm -rf \"/data/CSHL_patch_features/inception-bn-blue/CHATM2/CHATM2_prep2_none_win7/CHATM2_slide32_2018_01_20-S2_prep2_none_win7_inception-bn-blue_features.bp\" && mkdir -p \"/data/CSHL_patch_features/inception-bn-blue/CHATM2/CHATM2_prep2_none_win7\"\n",
      "0\n",
      "aws s3 cp \"s3://mousebrainatlas-data/CSHL_patch_features/inception-bn-blue/CHATM2/CHATM2_prep2_none_win7/CHATM2_slide32_2018_01_20-S2_prep2_none_win7_inception-bn-blue_features.bp\" \"/data/CSHL_patch_features/inception-bn-blue/CHATM2/CHATM2_prep2_none_win7/CHATM2_slide32_2018_01_20-S2_prep2_none_win7_inception-bn-blue_features.bp\"\n"
     ]
    },
    {
     "name": "stderr",
     "output_type": "stream",
     "text": [
      "Save features: 3.16 seconds\n",
      "locate patches: 0.05 seconds\n"
     ]
    },
    {
     "name": "stdout",
     "output_type": "stream",
     "text": [
      "1\n"
     ]
    },
    {
     "name": "stderr",
     "output_type": "stream",
     "text": [
      "Features for CHATM2, 94/CHATM2_slide32_2018_01_20-S2 does not exist.\n",
      "No pre-computed features found... computing from scratch.\n",
      "Not using image_cache.\n"
     ]
    },
    {
     "name": "stdout",
     "output_type": "stream",
     "text": [
      "/data/CSHL_data_processed/CHATM2/CHATM2_prep2_raw_NtbNormalizedAdaptiveInvertedGamma/CHATM2_slide32_2018_01_20-S2_prep2_raw_NtbNormalizedAdaptiveInvertedGamma.tif\n"
     ]
    },
    {
     "name": "stderr",
     "output_type": "stream",
     "text": [
      "Load image: 4.26 seconds.\n",
      "Rescale image from 317 to 224: 2.84 seconds.\n",
      "Crop patches: 0.95 seconds.\n",
      "Extract patches: 8.05 seconds\n"
     ]
    },
    {
     "name": "stdout",
     "output_type": "stream",
     "text": [
      "(30725, 1, 224, 224)\n"
     ]
    },
    {
     "name": "stderr",
     "output_type": "stream",
     "text": [
      "Compute features: 47.86 seconds\n",
      "Compute features at one section, multiple locations: 55.94 seconds\n"
     ]
    },
    {
     "name": "stdout",
     "output_type": "stream",
     "text": [
      "aws s3 cp \"/data/CSHL_patch_features/inception-bn-blue/CHATM2/CHATM2_prep2_none_win7/CHATM2_slide32_2018_01_20-S2_prep2_none_win7_inception-bn-blue_features.bp\" \"s3://mousebrainatlas-data/CSHL_patch_features/inception-bn-blue/CHATM2/CHATM2_prep2_none_win7/CHATM2_slide32_2018_01_20-S2_prep2_none_win7_inception-bn-blue_features.bp\"\n",
      "0\n",
      "aws s3 cp \"/data/CSHL_patch_features/inception-bn-blue/CHATM2/CHATM2_prep2_none_win7/CHATM2_slide32_2018_01_20-S2_prep2_none_win7_inception-bn-blue_locations.bp\" \"s3://mousebrainatlas-data/CSHL_patch_features/inception-bn-blue/CHATM2/CHATM2_prep2_none_win7/CHATM2_slide32_2018_01_20-S2_prep2_none_win7_inception-bn-blue_locations.bp\"\n",
      "0\n",
      "rm -rf \"/data/CSHL_patch_features/inception-bn-blue/CHATM2/CHATM2_prep2_none_win7/CHATM2_slide31_2018_01_19-S3_prep2_none_win7_inception-bn-blue_features.bp\" && mkdir -p \"/data/CSHL_patch_features/inception-bn-blue/CHATM2/CHATM2_prep2_none_win7\"\n",
      "0\n",
      "aws s3 cp \"s3://mousebrainatlas-data/CSHL_patch_features/inception-bn-blue/CHATM2/CHATM2_prep2_none_win7/CHATM2_slide31_2018_01_19-S3_prep2_none_win7_inception-bn-blue_features.bp\" \"/data/CSHL_patch_features/inception-bn-blue/CHATM2/CHATM2_prep2_none_win7/CHATM2_slide31_2018_01_19-S3_prep2_none_win7_inception-bn-blue_features.bp\"\n"
     ]
    },
    {
     "name": "stderr",
     "output_type": "stream",
     "text": [
      "Save features: 3.31 seconds\n",
      "locate patches: 0.06 seconds\n"
     ]
    },
    {
     "name": "stdout",
     "output_type": "stream",
     "text": [
      "1\n"
     ]
    },
    {
     "name": "stderr",
     "output_type": "stream",
     "text": [
      "Features for CHATM2, 95/CHATM2_slide31_2018_01_19-S3 does not exist.\n",
      "No pre-computed features found... computing from scratch.\n",
      "Not using image_cache.\n"
     ]
    },
    {
     "name": "stdout",
     "output_type": "stream",
     "text": [
      "/data/CSHL_data_processed/CHATM2/CHATM2_prep2_raw_NtbNormalizedAdaptiveInvertedGamma/CHATM2_slide31_2018_01_19-S3_prep2_raw_NtbNormalizedAdaptiveInvertedGamma.tif\n"
     ]
    },
    {
     "name": "stderr",
     "output_type": "stream",
     "text": [
      "Load image: 4.79 seconds.\n",
      "Rescale image from 317 to 224: 4.37 seconds.\n",
      "Crop patches: 0.94 seconds.\n",
      "Extract patches: 10.10 seconds\n"
     ]
    },
    {
     "name": "stdout",
     "output_type": "stream",
     "text": [
      "(31627, 1, 224, 224)\n"
     ]
    },
    {
     "name": "stderr",
     "output_type": "stream",
     "text": [
      "Compute features: 49.00 seconds\n",
      "Compute features at one section, multiple locations: 59.13 seconds\n"
     ]
    },
    {
     "name": "stdout",
     "output_type": "stream",
     "text": [
      "aws s3 cp \"/data/CSHL_patch_features/inception-bn-blue/CHATM2/CHATM2_prep2_none_win7/CHATM2_slide31_2018_01_19-S3_prep2_none_win7_inception-bn-blue_features.bp\" \"s3://mousebrainatlas-data/CSHL_patch_features/inception-bn-blue/CHATM2/CHATM2_prep2_none_win7/CHATM2_slide31_2018_01_19-S3_prep2_none_win7_inception-bn-blue_features.bp\"\n",
      "0\n",
      "aws s3 cp \"/data/CSHL_patch_features/inception-bn-blue/CHATM2/CHATM2_prep2_none_win7/CHATM2_slide31_2018_01_19-S3_prep2_none_win7_inception-bn-blue_locations.bp\" \"s3://mousebrainatlas-data/CSHL_patch_features/inception-bn-blue/CHATM2/CHATM2_prep2_none_win7/CHATM2_slide31_2018_01_19-S3_prep2_none_win7_inception-bn-blue_locations.bp\"\n",
      "0\n",
      "rm -rf \"/data/CSHL_patch_features/inception-bn-blue/CHATM2/CHATM2_prep2_none_win7/CHATM2_slide32_2018_01_20-S3_prep2_none_win7_inception-bn-blue_features.bp\" && mkdir -p \"/data/CSHL_patch_features/inception-bn-blue/CHATM2/CHATM2_prep2_none_win7\"\n",
      "0\n",
      "aws s3 cp \"s3://mousebrainatlas-data/CSHL_patch_features/inception-bn-blue/CHATM2/CHATM2_prep2_none_win7/CHATM2_slide32_2018_01_20-S3_prep2_none_win7_inception-bn-blue_features.bp\" \"/data/CSHL_patch_features/inception-bn-blue/CHATM2/CHATM2_prep2_none_win7/CHATM2_slide32_2018_01_20-S3_prep2_none_win7_inception-bn-blue_features.bp\"\n"
     ]
    },
    {
     "name": "stderr",
     "output_type": "stream",
     "text": [
      "Save features: 3.15 seconds\n",
      "locate patches: 0.06 seconds\n"
     ]
    },
    {
     "name": "stdout",
     "output_type": "stream",
     "text": [
      "1\n"
     ]
    },
    {
     "name": "stderr",
     "output_type": "stream",
     "text": [
      "Features for CHATM2, 96/CHATM2_slide32_2018_01_20-S3 does not exist.\n",
      "No pre-computed features found... computing from scratch.\n",
      "Not using image_cache.\n"
     ]
    },
    {
     "name": "stdout",
     "output_type": "stream",
     "text": [
      "/data/CSHL_data_processed/CHATM2/CHATM2_prep2_raw_NtbNormalizedAdaptiveInvertedGamma/CHATM2_slide32_2018_01_20-S3_prep2_raw_NtbNormalizedAdaptiveInvertedGamma.tif\n"
     ]
    },
    {
     "name": "stderr",
     "output_type": "stream",
     "text": [
      "Load image: 4.50 seconds.\n",
      "Rescale image from 317 to 224: 2.82 seconds.\n",
      "Crop patches: 0.96 seconds.\n",
      "Extract patches: 8.29 seconds\n"
     ]
    },
    {
     "name": "stdout",
     "output_type": "stream",
     "text": [
      "(31493, 1, 224, 224)\n"
     ]
    },
    {
     "name": "stderr",
     "output_type": "stream",
     "text": [
      "Compute features: 48.69 seconds\n",
      "Compute features at one section, multiple locations: 57.00 seconds\n"
     ]
    },
    {
     "name": "stdout",
     "output_type": "stream",
     "text": [
      "aws s3 cp \"/data/CSHL_patch_features/inception-bn-blue/CHATM2/CHATM2_prep2_none_win7/CHATM2_slide32_2018_01_20-S3_prep2_none_win7_inception-bn-blue_features.bp\" \"s3://mousebrainatlas-data/CSHL_patch_features/inception-bn-blue/CHATM2/CHATM2_prep2_none_win7/CHATM2_slide32_2018_01_20-S3_prep2_none_win7_inception-bn-blue_features.bp\"\n",
      "0\n",
      "aws s3 cp \"/data/CSHL_patch_features/inception-bn-blue/CHATM2/CHATM2_prep2_none_win7/CHATM2_slide32_2018_01_20-S3_prep2_none_win7_inception-bn-blue_locations.bp\" \"s3://mousebrainatlas-data/CSHL_patch_features/inception-bn-blue/CHATM2/CHATM2_prep2_none_win7/CHATM2_slide32_2018_01_20-S3_prep2_none_win7_inception-bn-blue_locations.bp\"\n",
      "0\n",
      "rm -rf \"/data/CSHL_patch_features/inception-bn-blue/CHATM2/CHATM2_prep2_none_win7/CHATM2_slide33_2018_01_20-S1_prep2_none_win7_inception-bn-blue_features.bp\" && mkdir -p \"/data/CSHL_patch_features/inception-bn-blue/CHATM2/CHATM2_prep2_none_win7\"\n",
      "0\n",
      "aws s3 cp \"s3://mousebrainatlas-data/CSHL_patch_features/inception-bn-blue/CHATM2/CHATM2_prep2_none_win7/CHATM2_slide33_2018_01_20-S1_prep2_none_win7_inception-bn-blue_features.bp\" \"/data/CSHL_patch_features/inception-bn-blue/CHATM2/CHATM2_prep2_none_win7/CHATM2_slide33_2018_01_20-S1_prep2_none_win7_inception-bn-blue_features.bp\"\n"
     ]
    },
    {
     "name": "stderr",
     "output_type": "stream",
     "text": [
      "Save features: 3.68 seconds\n",
      "locate patches: 0.05 seconds\n"
     ]
    },
    {
     "name": "stdout",
     "output_type": "stream",
     "text": [
      "1\n"
     ]
    },
    {
     "name": "stderr",
     "output_type": "stream",
     "text": [
      "Features for CHATM2, 97/CHATM2_slide33_2018_01_20-S1 does not exist.\n",
      "No pre-computed features found... computing from scratch.\n",
      "Not using image_cache.\n"
     ]
    },
    {
     "name": "stdout",
     "output_type": "stream",
     "text": [
      "/data/CSHL_data_processed/CHATM2/CHATM2_prep2_raw_NtbNormalizedAdaptiveInvertedGamma/CHATM2_slide33_2018_01_20-S1_prep2_raw_NtbNormalizedAdaptiveInvertedGamma.tif\n"
     ]
    },
    {
     "name": "stderr",
     "output_type": "stream",
     "text": [
      "Load image: 4.74 seconds.\n",
      "Rescale image from 317 to 224: 2.83 seconds.\n",
      "Crop patches: 0.94 seconds.\n",
      "Extract patches: 8.52 seconds\n"
     ]
    },
    {
     "name": "stdout",
     "output_type": "stream",
     "text": [
      "(31320, 1, 224, 224)\n"
     ]
    },
    {
     "name": "stderr",
     "output_type": "stream",
     "text": [
      "Compute features: 49.70 seconds\n",
      "Compute features at one section, multiple locations: 58.26 seconds\n"
     ]
    },
    {
     "name": "stdout",
     "output_type": "stream",
     "text": [
      "aws s3 cp \"/data/CSHL_patch_features/inception-bn-blue/CHATM2/CHATM2_prep2_none_win7/CHATM2_slide33_2018_01_20-S1_prep2_none_win7_inception-bn-blue_features.bp\" \"s3://mousebrainatlas-data/CSHL_patch_features/inception-bn-blue/CHATM2/CHATM2_prep2_none_win7/CHATM2_slide33_2018_01_20-S1_prep2_none_win7_inception-bn-blue_features.bp\"\n",
      "0\n",
      "aws s3 cp \"/data/CSHL_patch_features/inception-bn-blue/CHATM2/CHATM2_prep2_none_win7/CHATM2_slide33_2018_01_20-S1_prep2_none_win7_inception-bn-blue_locations.bp\" \"s3://mousebrainatlas-data/CSHL_patch_features/inception-bn-blue/CHATM2/CHATM2_prep2_none_win7/CHATM2_slide33_2018_01_20-S1_prep2_none_win7_inception-bn-blue_locations.bp\"\n",
      "0\n",
      "rm -rf \"/data/CSHL_patch_features/inception-bn-blue/CHATM2/CHATM2_prep2_none_win7/CHATM2_slide34_2018_01_20-S1_prep2_none_win7_inception-bn-blue_features.bp\" && mkdir -p \"/data/CSHL_patch_features/inception-bn-blue/CHATM2/CHATM2_prep2_none_win7\"\n"
     ]
    },
    {
     "name": "stderr",
     "output_type": "stream",
     "text": [
      "Save features: 4.67 seconds\n",
      "locate patches: 0.10 seconds\n"
     ]
    },
    {
     "name": "stdout",
     "output_type": "stream",
     "text": [
      "0\n",
      "aws s3 cp \"s3://mousebrainatlas-data/CSHL_patch_features/inception-bn-blue/CHATM2/CHATM2_prep2_none_win7/CHATM2_slide34_2018_01_20-S1_prep2_none_win7_inception-bn-blue_features.bp\" \"/data/CSHL_patch_features/inception-bn-blue/CHATM2/CHATM2_prep2_none_win7/CHATM2_slide34_2018_01_20-S1_prep2_none_win7_inception-bn-blue_features.bp\"\n",
      "1\n"
     ]
    },
    {
     "name": "stderr",
     "output_type": "stream",
     "text": [
      "Features for CHATM2, 98/CHATM2_slide34_2018_01_20-S1 does not exist.\n",
      "No pre-computed features found... computing from scratch.\n",
      "Not using image_cache.\n"
     ]
    },
    {
     "name": "stdout",
     "output_type": "stream",
     "text": [
      "/data/CSHL_data_processed/CHATM2/CHATM2_prep2_raw_NtbNormalizedAdaptiveInvertedGamma/CHATM2_slide34_2018_01_20-S1_prep2_raw_NtbNormalizedAdaptiveInvertedGamma.tif\n"
     ]
    },
    {
     "name": "stderr",
     "output_type": "stream",
     "text": [
      "Load image: 6.64 seconds.\n",
      "Rescale image from 317 to 224: 4.08 seconds.\n",
      "Crop patches: 0.98 seconds.\n",
      "Extract patches: 11.71 seconds\n"
     ]
    },
    {
     "name": "stdout",
     "output_type": "stream",
     "text": [
      "(31430, 1, 224, 224)\n"
     ]
    },
    {
     "name": "stderr",
     "output_type": "stream",
     "text": [
      "Compute features: 48.57 seconds\n",
      "Compute features at one section, multiple locations: 60.33 seconds\n"
     ]
    },
    {
     "name": "stdout",
     "output_type": "stream",
     "text": [
      "aws s3 cp \"/data/CSHL_patch_features/inception-bn-blue/CHATM2/CHATM2_prep2_none_win7/CHATM2_slide34_2018_01_20-S1_prep2_none_win7_inception-bn-blue_features.bp\" \"s3://mousebrainatlas-data/CSHL_patch_features/inception-bn-blue/CHATM2/CHATM2_prep2_none_win7/CHATM2_slide34_2018_01_20-S1_prep2_none_win7_inception-bn-blue_features.bp\"\n",
      "0\n",
      "aws s3 cp \"/data/CSHL_patch_features/inception-bn-blue/CHATM2/CHATM2_prep2_none_win7/CHATM2_slide34_2018_01_20-S1_prep2_none_win7_inception-bn-blue_locations.bp\" \"s3://mousebrainatlas-data/CSHL_patch_features/inception-bn-blue/CHATM2/CHATM2_prep2_none_win7/CHATM2_slide34_2018_01_20-S1_prep2_none_win7_inception-bn-blue_locations.bp\"\n",
      "0\n",
      "rm -rf \"/data/CSHL_patch_features/inception-bn-blue/CHATM2/CHATM2_prep2_none_win7/CHATM2_slide33_2018_01_20-S2_prep2_none_win7_inception-bn-blue_features.bp\" && mkdir -p \"/data/CSHL_patch_features/inception-bn-blue/CHATM2/CHATM2_prep2_none_win7\"\n",
      "0"
     ]
    },
    {
     "name": "stderr",
     "output_type": "stream",
     "text": [
      "Save features: 5.74 seconds\n",
      "locate patches: 0.08 seconds\n"
     ]
    },
    {
     "name": "stdout",
     "output_type": "stream",
     "text": [
      "\n",
      "aws s3 cp \"s3://mousebrainatlas-data/CSHL_patch_features/inception-bn-blue/CHATM2/CHATM2_prep2_none_win7/CHATM2_slide33_2018_01_20-S2_prep2_none_win7_inception-bn-blue_features.bp\" \"/data/CSHL_patch_features/inception-bn-blue/CHATM2/CHATM2_prep2_none_win7/CHATM2_slide33_2018_01_20-S2_prep2_none_win7_inception-bn-blue_features.bp\"\n",
      "1\n"
     ]
    },
    {
     "name": "stderr",
     "output_type": "stream",
     "text": [
      "Features for CHATM2, 99/CHATM2_slide33_2018_01_20-S2 does not exist.\n",
      "No pre-computed features found... computing from scratch.\n",
      "Not using image_cache.\n"
     ]
    },
    {
     "name": "stdout",
     "output_type": "stream",
     "text": [
      "/data/CSHL_data_processed/CHATM2/CHATM2_prep2_raw_NtbNormalizedAdaptiveInvertedGamma/CHATM2_slide33_2018_01_20-S2_prep2_raw_NtbNormalizedAdaptiveInvertedGamma.tif\n"
     ]
    },
    {
     "name": "stderr",
     "output_type": "stream",
     "text": [
      "Load image: 3.73 seconds.\n",
      "Rescale image from 317 to 224: 3.15 seconds.\n",
      "Crop patches: 0.99 seconds.\n",
      "Extract patches: 7.89 seconds\n"
     ]
    },
    {
     "name": "stdout",
     "output_type": "stream",
     "text": [
      "(31355, 1, 224, 224)\n"
     ]
    },
    {
     "name": "stderr",
     "output_type": "stream",
     "text": [
      "Compute features: 48.33 seconds\n",
      "Compute features at one section, multiple locations: 56.24 seconds\n"
     ]
    },
    {
     "name": "stdout",
     "output_type": "stream",
     "text": [
      "aws s3 cp \"/data/CSHL_patch_features/inception-bn-blue/CHATM2/CHATM2_prep2_none_win7/CHATM2_slide33_2018_01_20-S2_prep2_none_win7_inception-bn-blue_features.bp\" \"s3://mousebrainatlas-data/CSHL_patch_features/inception-bn-blue/CHATM2/CHATM2_prep2_none_win7/CHATM2_slide33_2018_01_20-S2_prep2_none_win7_inception-bn-blue_features.bp\"\n",
      "0\n",
      "aws s3 cp \"/data/CSHL_patch_features/inception-bn-blue/CHATM2/CHATM2_prep2_none_win7/CHATM2_slide33_2018_01_20-S2_prep2_none_win7_inception-bn-blue_locations.bp\" \"s3://mousebrainatlas-data/CSHL_patch_features/inception-bn-blue/CHATM2/CHATM2_prep2_none_win7/CHATM2_slide33_2018_01_20-S2_prep2_none_win7_inception-bn-blue_locations.bp\"\n",
      "0\n",
      "rm -rf \"/data/CSHL_patch_features/inception-bn-blue/CHATM2/CHATM2_prep2_none_win7/CHATM2_slide34_2018_01_20-S2_prep2_none_win7_inception-bn-blue_features.bp\" && mkdir -p \"/data/CSHL_patch_features/inception-bn-blue/CHATM2/CHATM2_prep2_none_win7\"\n",
      "0"
     ]
    },
    {
     "name": "stderr",
     "output_type": "stream",
     "text": [
      "Save features: 4.54 seconds\n",
      "locate patches: 0.09 seconds\n"
     ]
    },
    {
     "name": "stdout",
     "output_type": "stream",
     "text": [
      "\n",
      "aws s3 cp \"s3://mousebrainatlas-data/CSHL_patch_features/inception-bn-blue/CHATM2/CHATM2_prep2_none_win7/CHATM2_slide34_2018_01_20-S2_prep2_none_win7_inception-bn-blue_features.bp\" \"/data/CSHL_patch_features/inception-bn-blue/CHATM2/CHATM2_prep2_none_win7/CHATM2_slide34_2018_01_20-S2_prep2_none_win7_inception-bn-blue_features.bp\"\n",
      "1\n"
     ]
    },
    {
     "name": "stderr",
     "output_type": "stream",
     "text": [
      "Features for CHATM2, 100/CHATM2_slide34_2018_01_20-S2 does not exist.\n",
      "No pre-computed features found... computing from scratch.\n",
      "Not using image_cache.\n"
     ]
    },
    {
     "name": "stdout",
     "output_type": "stream",
     "text": [
      "/data/CSHL_data_processed/CHATM2/CHATM2_prep2_raw_NtbNormalizedAdaptiveInvertedGamma/CHATM2_slide34_2018_01_20-S2_prep2_raw_NtbNormalizedAdaptiveInvertedGamma.tif\n"
     ]
    },
    {
     "name": "stderr",
     "output_type": "stream",
     "text": [
      "Load image: 4.44 seconds.\n",
      "Rescale image from 317 to 224: 3.04 seconds.\n",
      "Crop patches: 1.06 seconds.\n",
      "Extract patches: 8.57 seconds\n"
     ]
    },
    {
     "name": "stdout",
     "output_type": "stream",
     "text": [
      "(32055, 1, 224, 224)\n"
     ]
    },
    {
     "name": "stderr",
     "output_type": "stream",
     "text": [
      "Compute features: 50.37 seconds\n",
      "Compute features at one section, multiple locations: 58.99 seconds\n"
     ]
    },
    {
     "name": "stdout",
     "output_type": "stream",
     "text": [
      "aws s3 cp \"/data/CSHL_patch_features/inception-bn-blue/CHATM2/CHATM2_prep2_none_win7/CHATM2_slide34_2018_01_20-S2_prep2_none_win7_inception-bn-blue_features.bp\" \"s3://mousebrainatlas-data/CSHL_patch_features/inception-bn-blue/CHATM2/CHATM2_prep2_none_win7/CHATM2_slide34_2018_01_20-S2_prep2_none_win7_inception-bn-blue_features.bp\"\n",
      "0\n",
      "aws s3 cp \"/data/CSHL_patch_features/inception-bn-blue/CHATM2/CHATM2_prep2_none_win7/CHATM2_slide34_2018_01_20-S2_prep2_none_win7_inception-bn-blue_locations.bp\" \"s3://mousebrainatlas-data/CSHL_patch_features/inception-bn-blue/CHATM2/CHATM2_prep2_none_win7/CHATM2_slide34_2018_01_20-S2_prep2_none_win7_inception-bn-blue_locations.bp\"\n",
      "0\n",
      "rm -rf \"/data/CSHL_patch_features/inception-bn-blue/CHATM2/CHATM2_prep2_none_win7/CHATM2_slide33_2018_01_20-S3_prep2_none_win7_inception-bn-blue_features.bp\" && mkdir -p \"/data/CSHL_patch_features/inception-bn-blue/CHATM2/CHATM2_prep2_none_win7\"\n",
      "0\n",
      "aws s3 cp \"s3://mousebrainatlas-data/CSHL_patch_features/inception-bn-blue/CHATM2/CHATM2_prep2_none_win7/CHATM2_slide33_2018_01_20-S3_prep2_none_win7_inception-bn-blue_features.bp\" \"/data/CSHL_patch_features/inception-bn-blue/CHATM2/CHATM2_prep2_none_win7/CHATM2_slide33_2018_01_20-S3_prep2_none_win7_inception-bn-blue_features.bp\"\n"
     ]
    },
    {
     "name": "stderr",
     "output_type": "stream",
     "text": [
      "Save features: 3.72 seconds\n",
      "locate patches: 0.05 seconds\n"
     ]
    },
    {
     "name": "stdout",
     "output_type": "stream",
     "text": [
      "1\n"
     ]
    },
    {
     "name": "stderr",
     "output_type": "stream",
     "text": [
      "Features for CHATM2, 101/CHATM2_slide33_2018_01_20-S3 does not exist.\n",
      "No pre-computed features found... computing from scratch.\n",
      "Not using image_cache.\n"
     ]
    },
    {
     "name": "stdout",
     "output_type": "stream",
     "text": [
      "/data/CSHL_data_processed/CHATM2/CHATM2_prep2_raw_NtbNormalizedAdaptiveInvertedGamma/CHATM2_slide33_2018_01_20-S3_prep2_raw_NtbNormalizedAdaptiveInvertedGamma.tif\n"
     ]
    },
    {
     "name": "stderr",
     "output_type": "stream",
     "text": [
      "Load image: 4.00 seconds.\n",
      "Rescale image from 317 to 224: 3.33 seconds.\n",
      "Crop patches: 0.96 seconds.\n",
      "Extract patches: 8.30 seconds\n"
     ]
    },
    {
     "name": "stdout",
     "output_type": "stream",
     "text": [
      "(31988, 1, 224, 224)\n"
     ]
    },
    {
     "name": "stderr",
     "output_type": "stream",
     "text": [
      "Compute features: 51.06 seconds\n",
      "Compute features at one section, multiple locations: 59.39 seconds\n"
     ]
    },
    {
     "name": "stdout",
     "output_type": "stream",
     "text": [
      "aws s3 cp \"/data/CSHL_patch_features/inception-bn-blue/CHATM2/CHATM2_prep2_none_win7/CHATM2_slide33_2018_01_20-S3_prep2_none_win7_inception-bn-blue_features.bp\" \"s3://mousebrainatlas-data/CSHL_patch_features/inception-bn-blue/CHATM2/CHATM2_prep2_none_win7/CHATM2_slide33_2018_01_20-S3_prep2_none_win7_inception-bn-blue_features.bp\"\n",
      "0\n",
      "aws s3 cp \"/data/CSHL_patch_features/inception-bn-blue/CHATM2/CHATM2_prep2_none_win7/CHATM2_slide33_2018_01_20-S3_prep2_none_win7_inception-bn-blue_locations.bp\" \"s3://mousebrainatlas-data/CSHL_patch_features/inception-bn-blue/CHATM2/CHATM2_prep2_none_win7/CHATM2_slide33_2018_01_20-S3_prep2_none_win7_inception-bn-blue_locations.bp\"\n",
      "0\n",
      "rm -rf \"/data/CSHL_patch_features/inception-bn-blue/CHATM2/CHATM2_prep2_none_win7/CHATM2_slide34_2018_01_20-S3_prep2_none_win7_inception-bn-blue_features.bp\" && mkdir -p \"/data/CSHL_patch_features/inception-bn-blue/CHATM2/CHATM2_prep2_none_win7\"\n",
      "0\n",
      "aws s3 cp \"s3://mousebrainatlas-data/CSHL_patch_features/inception-bn-blue/CHATM2/CHATM2_prep2_none_win7/CHATM2_slide34_2018_01_20-S3_prep2_none_win7_inception-bn-blue_features.bp\" \"/data/CSHL_patch_features/inception-bn-blue/CHATM2/CHATM2_prep2_none_win7/CHATM2_slide34_2018_01_20-S3_prep2_none_win7_inception-bn-blue_features.bp\"\n"
     ]
    },
    {
     "name": "stderr",
     "output_type": "stream",
     "text": [
      "Save features: 3.10 seconds\n",
      "locate patches: 0.04 seconds\n"
     ]
    },
    {
     "name": "stdout",
     "output_type": "stream",
     "text": [
      "1\n"
     ]
    },
    {
     "name": "stderr",
     "output_type": "stream",
     "text": [
      "Features for CHATM2, 102/CHATM2_slide34_2018_01_20-S3 does not exist.\n",
      "No pre-computed features found... computing from scratch.\n",
      "Not using image_cache.\n"
     ]
    },
    {
     "name": "stdout",
     "output_type": "stream",
     "text": [
      "/data/CSHL_data_processed/CHATM2/CHATM2_prep2_raw_NtbNormalizedAdaptiveInvertedGamma/CHATM2_slide34_2018_01_20-S3_prep2_raw_NtbNormalizedAdaptiveInvertedGamma.tif\n"
     ]
    },
    {
     "name": "stderr",
     "output_type": "stream",
     "text": [
      "Load image: 5.16 seconds.\n",
      "Rescale image from 317 to 224: 2.83 seconds.\n",
      "Crop patches: 0.95 seconds.\n",
      "Extract patches: 8.95 seconds\n"
     ]
    },
    {
     "name": "stdout",
     "output_type": "stream",
     "text": [
      "(31897, 1, 224, 224)\n"
     ]
    },
    {
     "name": "stderr",
     "output_type": "stream",
     "text": [
      "Compute features: 50.54 seconds\n",
      "Compute features at one section, multiple locations: 59.54 seconds\n"
     ]
    },
    {
     "name": "stdout",
     "output_type": "stream",
     "text": [
      "aws s3 cp \"/data/CSHL_patch_features/inception-bn-blue/CHATM2/CHATM2_prep2_none_win7/CHATM2_slide34_2018_01_20-S3_prep2_none_win7_inception-bn-blue_features.bp\" \"s3://mousebrainatlas-data/CSHL_patch_features/inception-bn-blue/CHATM2/CHATM2_prep2_none_win7/CHATM2_slide34_2018_01_20-S3_prep2_none_win7_inception-bn-blue_features.bp\"\n",
      "0\n",
      "aws s3 cp \"/data/CSHL_patch_features/inception-bn-blue/CHATM2/CHATM2_prep2_none_win7/CHATM2_slide34_2018_01_20-S3_prep2_none_win7_inception-bn-blue_locations.bp\" \"s3://mousebrainatlas-data/CSHL_patch_features/inception-bn-blue/CHATM2/CHATM2_prep2_none_win7/CHATM2_slide34_2018_01_20-S3_prep2_none_win7_inception-bn-blue_locations.bp\"\n",
      "0\n",
      "rm -rf \"/data/CSHL_patch_features/inception-bn-blue/CHATM2/CHATM2_prep2_none_win7/CHATM2_slide35_2018_01_20-S1_prep2_none_win7_inception-bn-blue_features.bp\" && mkdir -p \"/data/CSHL_patch_features/inception-bn-blue/CHATM2/CHATM2_prep2_none_win7\"\n",
      "0\n",
      "aws s3 cp \"s3://mousebrainatlas-data/CSHL_patch_features/inception-bn-blue/CHATM2/CHATM2_prep2_none_win7/CHATM2_slide35_2018_01_20-S1_prep2_none_win7_inception-bn-blue_features.bp\" \"/data/CSHL_patch_features/inception-bn-blue/CHATM2/CHATM2_prep2_none_win7/CHATM2_slide35_2018_01_20-S1_prep2_none_win7_inception-bn-blue_features.bp\"\n"
     ]
    },
    {
     "name": "stderr",
     "output_type": "stream",
     "text": [
      "Save features: 4.95 seconds\n",
      "locate patches: 0.04 seconds\n"
     ]
    },
    {
     "name": "stdout",
     "output_type": "stream",
     "text": [
      "1\n"
     ]
    },
    {
     "name": "stderr",
     "output_type": "stream",
     "text": [
      "Features for CHATM2, 103/CHATM2_slide35_2018_01_20-S1 does not exist.\n",
      "No pre-computed features found... computing from scratch.\n",
      "Not using image_cache.\n"
     ]
    },
    {
     "name": "stdout",
     "output_type": "stream",
     "text": [
      "/data/CSHL_data_processed/CHATM2/CHATM2_prep2_raw_NtbNormalizedAdaptiveInvertedGamma/CHATM2_slide35_2018_01_20-S1_prep2_raw_NtbNormalizedAdaptiveInvertedGamma.tif\n"
     ]
    },
    {
     "name": "stderr",
     "output_type": "stream",
     "text": [
      "Load image: 3.59 seconds.\n",
      "Rescale image from 317 to 224: 3.85 seconds.\n",
      "Crop patches: 0.96 seconds.\n",
      "Extract patches: 8.40 seconds\n"
     ]
    },
    {
     "name": "stdout",
     "output_type": "stream",
     "text": [
      "(32229, 1, 224, 224)\n"
     ]
    },
    {
     "name": "stderr",
     "output_type": "stream",
     "text": [
      "Compute features: 50.05 seconds\n",
      "Compute features at one section, multiple locations: 58.49 seconds\n"
     ]
    },
    {
     "name": "stdout",
     "output_type": "stream",
     "text": [
      "aws s3 cp \"/data/CSHL_patch_features/inception-bn-blue/CHATM2/CHATM2_prep2_none_win7/CHATM2_slide35_2018_01_20-S1_prep2_none_win7_inception-bn-blue_features.bp\" \"s3://mousebrainatlas-data/CSHL_patch_features/inception-bn-blue/CHATM2/CHATM2_prep2_none_win7/CHATM2_slide35_2018_01_20-S1_prep2_none_win7_inception-bn-blue_features.bp\"\n",
      "0\n",
      "aws s3 cp \"/data/CSHL_patch_features/inception-bn-blue/CHATM2/CHATM2_prep2_none_win7/CHATM2_slide35_2018_01_20-S1_prep2_none_win7_inception-bn-blue_locations.bp\" \"s3://mousebrainatlas-data/CSHL_patch_features/inception-bn-blue/CHATM2/CHATM2_prep2_none_win7/CHATM2_slide35_2018_01_20-S1_prep2_none_win7_inception-bn-blue_locations.bp\"\n",
      "0\n",
      "rm -rf \"/data/CSHL_patch_features/inception-bn-blue/CHATM2/CHATM2_prep2_none_win7/CHATM2_slide36_2018_01_22-S1_prep2_none_win7_inception-bn-blue_features.bp\" && mkdir -p \"/data/CSHL_patch_features/inception-bn-blue/CHATM2/CHATM2_prep2_none_win7\"\n",
      "0\n",
      "aws s3 cp \"s3://mousebrainatlas-data/CSHL_patch_features/inception-bn-blue/CHATM2/CHATM2_prep2_none_win7/CHATM2_slide36_2018_01_22-S1_prep2_none_win7_inception-bn-blue_features.bp\" \"/data/CSHL_patch_features/inception-bn-blue/CHATM2/CHATM2_prep2_none_win7/CHATM2_slide36_2018_01_22-S1_prep2_none_win7_inception-bn-blue_features.bp\"\n"
     ]
    },
    {
     "name": "stderr",
     "output_type": "stream",
     "text": [
      "Save features: 4.45 seconds\n",
      "locate patches: 0.05 seconds\n"
     ]
    },
    {
     "name": "stdout",
     "output_type": "stream",
     "text": [
      "1\n"
     ]
    },
    {
     "name": "stderr",
     "output_type": "stream",
     "text": [
      "Features for CHATM2, 104/CHATM2_slide36_2018_01_22-S1 does not exist.\n",
      "No pre-computed features found... computing from scratch.\n",
      "Not using image_cache.\n"
     ]
    },
    {
     "name": "stdout",
     "output_type": "stream",
     "text": [
      "/data/CSHL_data_processed/CHATM2/CHATM2_prep2_raw_NtbNormalizedAdaptiveInvertedGamma/CHATM2_slide36_2018_01_22-S1_prep2_raw_NtbNormalizedAdaptiveInvertedGamma.tif\n"
     ]
    },
    {
     "name": "stderr",
     "output_type": "stream",
     "text": [
      "Load image: 3.58 seconds.\n",
      "Rescale image from 317 to 224: 3.13 seconds.\n",
      "Crop patches: 0.97 seconds.\n",
      "Extract patches: 7.68 seconds\n"
     ]
    },
    {
     "name": "stdout",
     "output_type": "stream",
     "text": [
      "(32567, 1, 224, 224)\n"
     ]
    },
    {
     "name": "stderr",
     "output_type": "stream",
     "text": [
      "Compute features: 50.61 seconds\n",
      "Compute features at one section, multiple locations: 58.31 seconds\n"
     ]
    },
    {
     "name": "stdout",
     "output_type": "stream",
     "text": [
      "aws s3 cp \"/data/CSHL_patch_features/inception-bn-blue/CHATM2/CHATM2_prep2_none_win7/CHATM2_slide36_2018_01_22-S1_prep2_none_win7_inception-bn-blue_features.bp\" \"s3://mousebrainatlas-data/CSHL_patch_features/inception-bn-blue/CHATM2/CHATM2_prep2_none_win7/CHATM2_slide36_2018_01_22-S1_prep2_none_win7_inception-bn-blue_features.bp\"\n",
      "0\n",
      "aws s3 cp \"/data/CSHL_patch_features/inception-bn-blue/CHATM2/CHATM2_prep2_none_win7/CHATM2_slide36_2018_01_22-S1_prep2_none_win7_inception-bn-blue_locations.bp\" \"s3://mousebrainatlas-data/CSHL_patch_features/inception-bn-blue/CHATM2/CHATM2_prep2_none_win7/CHATM2_slide36_2018_01_22-S1_prep2_none_win7_inception-bn-blue_locations.bp\"\n",
      "0\n",
      "rm -rf \"/data/CSHL_patch_features/inception-bn-blue/CHATM2/CHATM2_prep2_none_win7/CHATM2_slide35_2018_01_20-S2_prep2_none_win7_inception-bn-blue_features.bp\" && mkdir -p \"/data/CSHL_patch_features/inception-bn-blue/CHATM2/CHATM2_prep2_none_win7\"\n",
      "0\n",
      "aws s3 cp \"s3://mousebrainatlas-data/CSHL_patch_features/inception-bn-blue/CHATM2/CHATM2_prep2_none_win7/CHATM2_slide35_2018_01_20-S2_prep2_none_win7_inception-bn-blue_features.bp\" \"/data/CSHL_patch_features/inception-bn-blue/CHATM2/CHATM2_prep2_none_win7/CHATM2_slide35_2018_01_20-S2_prep2_none_win7_inception-bn-blue_features.bp\"\n"
     ]
    },
    {
     "name": "stderr",
     "output_type": "stream",
     "text": [
      "Save features: 4.06 seconds\n",
      "locate patches: 0.05 seconds\n"
     ]
    },
    {
     "name": "stdout",
     "output_type": "stream",
     "text": [
      "1\n"
     ]
    },
    {
     "name": "stderr",
     "output_type": "stream",
     "text": [
      "Features for CHATM2, 105/CHATM2_slide35_2018_01_20-S2 does not exist.\n",
      "No pre-computed features found... computing from scratch.\n",
      "Not using image_cache.\n"
     ]
    },
    {
     "name": "stdout",
     "output_type": "stream",
     "text": [
      "/data/CSHL_data_processed/CHATM2/CHATM2_prep2_raw_NtbNormalizedAdaptiveInvertedGamma/CHATM2_slide35_2018_01_20-S2_prep2_raw_NtbNormalizedAdaptiveInvertedGamma.tif\n"
     ]
    },
    {
     "name": "stderr",
     "output_type": "stream",
     "text": [
      "Load image: 4.62 seconds.\n",
      "Rescale image from 317 to 224: 3.85 seconds.\n",
      "Crop patches: 0.96 seconds.\n",
      "Extract patches: 9.44 seconds\n"
     ]
    },
    {
     "name": "stdout",
     "output_type": "stream",
     "text": [
      "(32073, 1, 224, 224)\n"
     ]
    },
    {
     "name": "stderr",
     "output_type": "stream",
     "text": [
      "Compute features: 50.55 seconds\n",
      "Compute features at one section, multiple locations: 60.02 seconds\n"
     ]
    },
    {
     "name": "stdout",
     "output_type": "stream",
     "text": [
      "aws s3 cp \"/data/CSHL_patch_features/inception-bn-blue/CHATM2/CHATM2_prep2_none_win7/CHATM2_slide35_2018_01_20-S2_prep2_none_win7_inception-bn-blue_features.bp\" \"s3://mousebrainatlas-data/CSHL_patch_features/inception-bn-blue/CHATM2/CHATM2_prep2_none_win7/CHATM2_slide35_2018_01_20-S2_prep2_none_win7_inception-bn-blue_features.bp\"\n",
      "0\n",
      "aws s3 cp \"/data/CSHL_patch_features/inception-bn-blue/CHATM2/CHATM2_prep2_none_win7/CHATM2_slide35_2018_01_20-S2_prep2_none_win7_inception-bn-blue_locations.bp\" \"s3://mousebrainatlas-data/CSHL_patch_features/inception-bn-blue/CHATM2/CHATM2_prep2_none_win7/CHATM2_slide35_2018_01_20-S2_prep2_none_win7_inception-bn-blue_locations.bp\"\n",
      "0\n",
      "rm -rf \"/data/CSHL_patch_features/inception-bn-blue/CHATM2/CHATM2_prep2_none_win7/CHATM2_slide36_2018_01_22-S2_prep2_none_win7_inception-bn-blue_features.bp\" && mkdir -p \"/data/CSHL_patch_features/inception-bn-blue/CHATM2/CHATM2_prep2_none_win7\"\n",
      "0\n",
      "aws s3 cp \"s3://mousebrainatlas-data/CSHL_patch_features/inception-bn-blue/CHATM2/CHATM2_prep2_none_win7/CHATM2_slide36_2018_01_22-S2_prep2_none_win7_inception-bn-blue_features.bp\" \"/data/CSHL_patch_features/inception-bn-blue/CHATM2/CHATM2_prep2_none_win7/CHATM2_slide36_2018_01_22-S2_prep2_none_win7_inception-bn-blue_features.bp\"\n"
     ]
    },
    {
     "name": "stderr",
     "output_type": "stream",
     "text": [
      "Save features: 3.21 seconds\n",
      "locate patches: 0.03 seconds\n"
     ]
    },
    {
     "name": "stdout",
     "output_type": "stream",
     "text": [
      "1\n"
     ]
    },
    {
     "name": "stderr",
     "output_type": "stream",
     "text": [
      "Features for CHATM2, 106/CHATM2_slide36_2018_01_22-S2 does not exist.\n",
      "No pre-computed features found... computing from scratch.\n",
      "Not using image_cache.\n"
     ]
    },
    {
     "name": "stdout",
     "output_type": "stream",
     "text": [
      "/data/CSHL_data_processed/CHATM2/CHATM2_prep2_raw_NtbNormalizedAdaptiveInvertedGamma/CHATM2_slide36_2018_01_22-S2_prep2_raw_NtbNormalizedAdaptiveInvertedGamma.tif\n"
     ]
    },
    {
     "name": "stderr",
     "output_type": "stream",
     "text": [
      "Load image: 4.53 seconds.\n",
      "Rescale image from 317 to 224: 2.90 seconds.\n",
      "Crop patches: 1.01 seconds.\n",
      "Extract patches: 8.44 seconds\n"
     ]
    },
    {
     "name": "stdout",
     "output_type": "stream",
     "text": [
      "(32739, 1, 224, 224)\n"
     ]
    }
   ],
   "source": [
    "# for stack in ['MD661', 'MD662']:\n",
    "# for stack in ['MD585', 'MD589', 'MD594']:\n",
    "for stack in ['CHATM2']:\n",
    "    for sec in metadata_cache['valid_sections'][stack]:\n",
    "#     for sec in [108]:\n",
    "#     for sec in metadata_cache['valid_sections'][stack][::30]:\n",
    "#     for sec in [145, 150, 156, 161, 166, 171, 176, 182, 261, 275, 285, 295]:\n",
    "\n",
    "        compute_and_save_features_one_section(\n",
    "#                                 scheme='normalize_mu_region_sigma_wholeImage_(-1,5)', \n",
    "                                    scheme='none', \n",
    "    #                             bbox=(11217, 16886, 13859, 18404),\n",
    "#                                 method='glcm',\n",
    "                                method='cnn',\n",
    "                                win_id=7, prep_id=2,\n",
    "                                stack=stack, sec=sec,\n",
    "                                model=model, model_name=model_name,\n",
    "                                 mean_img=mean_img, \n",
    "                                 batch_size=batch_size, \n",
    "            attach_timestamp=False)\n",
    "#         break"
   ]
  },
  {
   "cell_type": "code",
   "execution_count": null,
   "metadata": {
    "collapsed": true
   },
   "outputs": [],
   "source": []
  }
 ],
 "metadata": {
  "kernelspec": {
   "display_name": "Python 2",
   "language": "python",
   "name": "python2"
  },
  "language_info": {
   "codemirror_mode": {
    "name": "ipython",
    "version": 2
   },
   "file_extension": ".py",
   "mimetype": "text/x-python",
   "name": "python",
   "nbconvert_exporter": "python",
   "pygments_lexer": "ipython2",
   "version": "2.7.12"
  }
 },
 "nbformat": 4,
 "nbformat_minor": 2
}
