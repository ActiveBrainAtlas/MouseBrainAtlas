{
 "cells": [
  {
   "cell_type": "code",
   "execution_count": 1,
   "metadata": {
    "scrolled": true
   },
   "outputs": [
    {
     "name": "stdout",
     "output_type": "stream",
     "text": [
      "Setting environment for Precision WorkStation\n"
     ]
    },
    {
     "name": "stderr",
     "output_type": "stream",
     "text": [
      "No vtk\n",
      "/usr/local/lib/python2.7/dist-packages/sklearn/cross_validation.py:44: DeprecationWarning: This module was deprecated in version 0.18 in favor of the model_selection module into which all the refactored classes and functions are moved. Also note that the interface of the new CV iterators are different from that of this module. This module will be removed in 0.20.\n",
      "  \"This module will be removed in 0.20.\", DeprecationWarning)\n"
     ]
    }
   ],
   "source": [
    "%reload_ext autoreload\n",
    "%autoreload 2\n",
    "\n",
    "import os\n",
    "import argparse\n",
    "import sys\n",
    "import time\n",
    "\n",
    "import numpy as np\n",
    "from multiprocess import Pool\n",
    "\n",
    "sys.path.append(os.path.join(os.environ['REPO_DIR'], 'utilities'))\n",
    "from utilities2015 import *\n",
    "from metadata import *\n",
    "from data_manager import *\n",
    "from learning_utilities import *\n",
    "\n",
    "%matplotlib inline"
   ]
  },
  {
   "cell_type": "code",
   "execution_count": 2,
   "metadata": {},
   "outputs": [
    {
     "name": "stderr",
     "output_type": "stream",
     "text": [
      "/usr/local/lib/python2.7/dist-packages/mxnet/module/base_module.py:53: UserWarning: \u001b[91mYou created Module with Module(..., label_names=['softmax_label']) but input with name 'softmax_label' is not found in symbol.list_arguments(). Did you mean one of:\n",
      "\tdata\u001b[0m\n",
      "  warnings.warn(msg)\n",
      "/usr/local/lib/python2.7/dist-packages/mxnet/module/base_module.py:65: UserWarning: Data provided by label_shapes don't match names specified by label_names ([] vs. ['softmax_label'])\n",
      "  warnings.warn(msg)\n"
     ]
    }
   ],
   "source": [
    "batch_size = 256\n",
    "model_dir_name = 'inception-bn-blue'\n",
    "model_name = 'inception-bn-blue'\n",
    "model, mean_img = load_mxnet_model(model_dir_name=model_dir_name, model_name=model_name, \n",
    "                                   num_gpus=1, batch_size=batch_size)"
   ]
  },
  {
   "cell_type": "code",
   "execution_count": null,
   "metadata": {
    "scrolled": true
   },
   "outputs": [
    {
     "name": "stderr",
     "output_type": "stream",
     "text": [
      "locate patches: 0.04 seconds\n"
     ]
    },
    {
     "name": "stdout",
     "output_type": "stream",
     "text": [
      "rm -rf \"/data/CSHL_patch_features/inception-bn-blue/MD589/MD589_prep2_none_win7/MD589-IHC56-2015.07.31-01.13.31_MD589_1_0166_prep2_none_win7_inception-bn-blue_features.bp\" && mkdir -p \"/data/CSHL_patch_features/inception-bn-blue/MD589/MD589_prep2_none_win7\"\n",
      "0\n",
      "aws s3 cp \"s3://mousebrainatlas-data/CSHL_patch_features/inception-bn-blue/MD589/MD589_prep2_none_win7/MD589-IHC56-2015.07.31-01.13.31_MD589_1_0166_prep2_none_win7_inception-bn-blue_features.bp\" \"/data/CSHL_patch_features/inception-bn-blue/MD589/MD589_prep2_none_win7/MD589-IHC56-2015.07.31-01.13.31_MD589_1_0166_prep2_none_win7_inception-bn-blue_features.bp\"\n",
      "1\n"
     ]
    },
    {
     "name": "stderr",
     "output_type": "stream",
     "text": [
      "Features for MD589, 289/MD589-IHC56-2015.07.31-01.13.31_MD589_1_0166 does not exist.\n",
      "No pre-computed features found... computing from scratch.\n",
      "Not using image_cache.\n"
     ]
    },
    {
     "name": "stdout",
     "output_type": "stream",
     "text": [
      "/data/CSHL_data_processed/MD589/MD589_prep2_raw_gray/MD589-IHC56-2015.07.31-01.13.31_MD589_1_0166_prep2_raw_gray.tif\n"
     ]
    },
    {
     "name": "stderr",
     "output_type": "stream",
     "text": [
      "Load image: 1.43 seconds.\n",
      "Crop patches: 1.77 seconds.\n",
      "Extract patches: 3.23 seconds\n"
     ]
    },
    {
     "name": "stdout",
     "output_type": "stream",
     "text": [
      "(30067, 1, 224, 224)\n"
     ]
    },
    {
     "name": "stderr",
     "output_type": "stream",
     "text": [
      "Compute features: 58.75 seconds\n",
      "Compute features at one section, multiple locations: 62.02 seconds\n"
     ]
    },
    {
     "name": "stdout",
     "output_type": "stream",
     "text": [
      "aws s3 cp \"/data/CSHL_patch_features/inception-bn-blue/MD589/MD589_prep2_none_win7/MD589-IHC56-2015.07.31-01.13.31_MD589_1_0166_prep2_none_win7_inception-bn-blue_features.bp\" \"s3://mousebrainatlas-data/CSHL_patch_features/inception-bn-blue/MD589/MD589_prep2_none_win7/MD589-IHC56-2015.07.31-01.13.31_MD589_1_0166_prep2_none_win7_inception-bn-blue_features.bp\"\n",
      "0\n",
      "aws s3 cp \"/data/CSHL_patch_features/inception-bn-blue/MD589/MD589_prep2_none_win7/MD589-IHC56-2015.07.31-01.13.31_MD589_1_0166_prep2_none_win7_inception-bn-blue_locations.bp\" \"s3://mousebrainatlas-data/CSHL_patch_features/inception-bn-blue/MD589/MD589_prep2_none_win7/MD589-IHC56-2015.07.31-01.13.31_MD589_1_0166_prep2_none_win7_inception-bn-blue_locations.bp\"\n",
      "0\n",
      "rm -rf \"/data/CSHL_patch_features/inception-bn-blue/MD589/MD589_prep2_none_win7/MD589-N56-2015.07.30-19.54.42_MD589_2_0167_prep2_none_win7_inception-bn-blue_features.bp\" && mkdir -p \"/data/CSHL_patch_features/inception-bn-blue/MD589/MD589_prep2_none_win7\"\n",
      "0\n",
      "aws s3 cp \"s3://mousebrainatlas-data/CSHL_patch_features/inception-bn-blue/MD589/MD589_prep2_none_win7/MD589-N56-2015.07.30-19.54.42_MD589_2_0167_prep2_none_win7_inception-bn-blue_features.bp\" \"/data/CSHL_patch_features/inception-bn-blue/MD589/MD589_prep2_none_win7/MD589-N56-2015.07.30-19.54.42_MD589_2_0167_prep2_none_win7_inception-bn-blue_features.bp\"\n"
     ]
    },
    {
     "name": "stderr",
     "output_type": "stream",
     "text": [
      "Save features: 4.10 seconds\n",
      "locate patches: 0.04 seconds\n"
     ]
    },
    {
     "name": "stdout",
     "output_type": "stream",
     "text": [
      "1\n"
     ]
    },
    {
     "name": "stderr",
     "output_type": "stream",
     "text": [
      "Features for MD589, 290/MD589-N56-2015.07.30-19.54.42_MD589_2_0167 does not exist.\n",
      "No pre-computed features found... computing from scratch.\n",
      "Not using image_cache.\n"
     ]
    },
    {
     "name": "stdout",
     "output_type": "stream",
     "text": [
      "/data/CSHL_data_processed/MD589/MD589_prep2_raw_gray/MD589-N56-2015.07.30-19.54.42_MD589_2_0167_prep2_raw_gray.tif\n"
     ]
    },
    {
     "name": "stderr",
     "output_type": "stream",
     "text": [
      "Load image: 1.57 seconds.\n",
      "Crop patches: 2.11 seconds.\n",
      "Extract patches: 3.72 seconds\n"
     ]
    },
    {
     "name": "stdout",
     "output_type": "stream",
     "text": [
      "(29748, 1, 224, 224)\n"
     ]
    },
    {
     "name": "stderr",
     "output_type": "stream",
     "text": [
      "Compute features: 62.68 seconds\n",
      "Compute features at one section, multiple locations: 66.53 seconds\n"
     ]
    },
    {
     "name": "stdout",
     "output_type": "stream",
     "text": [
      "aws s3 cp \"/data/CSHL_patch_features/inception-bn-blue/MD589/MD589_prep2_none_win7/MD589-N56-2015.07.30-19.54.42_MD589_2_0167_prep2_none_win7_inception-bn-blue_features.bp\" \"s3://mousebrainatlas-data/CSHL_patch_features/inception-bn-blue/MD589/MD589_prep2_none_win7/MD589-N56-2015.07.30-19.54.42_MD589_2_0167_prep2_none_win7_inception-bn-blue_features.bp\"\n",
      "0\n",
      "aws s3 cp \"/data/CSHL_patch_features/inception-bn-blue/MD589/MD589_prep2_none_win7/MD589-N56-2015.07.30-19.54.42_MD589_2_0167_prep2_none_win7_inception-bn-blue_locations.bp\" \"s3://mousebrainatlas-data/CSHL_patch_features/inception-bn-blue/MD589/MD589_prep2_none_win7/MD589-N56-2015.07.30-19.54.42_MD589_2_0167_prep2_none_win7_inception-bn-blue_locations.bp\"\n",
      "0\n",
      "rm -rf \"/data/CSHL_patch_features/inception-bn-blue/MD589/MD589_prep2_none_win7/MD589-IHC56-2015.07.31-01.13.31_MD589_2_0167_prep2_none_win7_inception-bn-blue_features.bp\" && mkdir -p \"/data/CSHL_patch_features/inception-bn-blue/MD589/MD589_prep2_none_win7\"\n",
      "0\n",
      "aws s3 cp \"s3://mousebrainatlas-data/CSHL_patch_features/inception-bn-blue/MD589/MD589_prep2_none_win7/MD589-IHC56-2015.07.31-01.13.31_MD589_2_0167_prep2_none_win7_inception-bn-blue_features.bp\" \"/data/CSHL_patch_features/inception-bn-blue/MD589/MD589_prep2_none_win7/MD589-IHC56-2015.07.31-01.13.31_MD589_2_0167_prep2_none_win7_inception-bn-blue_features.bp\"\n"
     ]
    },
    {
     "name": "stderr",
     "output_type": "stream",
     "text": [
      "Save features: 5.97 seconds\n",
      "locate patches: 0.03 seconds\n"
     ]
    },
    {
     "name": "stdout",
     "output_type": "stream",
     "text": [
      "1\n"
     ]
    },
    {
     "name": "stderr",
     "output_type": "stream",
     "text": [
      "Features for MD589, 291/MD589-IHC56-2015.07.31-01.13.31_MD589_2_0167 does not exist.\n",
      "No pre-computed features found... computing from scratch.\n",
      "Not using image_cache.\n"
     ]
    },
    {
     "name": "stdout",
     "output_type": "stream",
     "text": [
      "/data/CSHL_data_processed/MD589/MD589_prep2_raw_gray/MD589-IHC56-2015.07.31-01.13.31_MD589_2_0167_prep2_raw_gray.tif\n"
     ]
    },
    {
     "name": "stderr",
     "output_type": "stream",
     "text": [
      "Load image: 1.16 seconds.\n",
      "Crop patches: 2.24 seconds.\n",
      "Extract patches: 3.42 seconds\n"
     ]
    },
    {
     "name": "stdout",
     "output_type": "stream",
     "text": [
      "(29802, 1, 224, 224)\n"
     ]
    },
    {
     "name": "stderr",
     "output_type": "stream",
     "text": [
      "Compute features: 55.85 seconds\n",
      "Compute features at one section, multiple locations: 59.30 seconds\n"
     ]
    },
    {
     "name": "stdout",
     "output_type": "stream",
     "text": [
      "aws s3 cp \"/data/CSHL_patch_features/inception-bn-blue/MD589/MD589_prep2_none_win7/MD589-IHC56-2015.07.31-01.13.31_MD589_2_0167_prep2_none_win7_inception-bn-blue_features.bp\" \"s3://mousebrainatlas-data/CSHL_patch_features/inception-bn-blue/MD589/MD589_prep2_none_win7/MD589-IHC56-2015.07.31-01.13.31_MD589_2_0167_prep2_none_win7_inception-bn-blue_features.bp\"\n",
      "0\n",
      "aws s3 cp \"/data/CSHL_patch_features/inception-bn-blue/MD589/MD589_prep2_none_win7/MD589-IHC56-2015.07.31-01.13.31_MD589_2_0167_prep2_none_win7_inception-bn-blue_locations.bp\" \"s3://mousebrainatlas-data/CSHL_patch_features/inception-bn-blue/MD589/MD589_prep2_none_win7/MD589-IHC56-2015.07.31-01.13.31_MD589_2_0167_prep2_none_win7_inception-bn-blue_locations.bp\"\n",
      "0\n",
      "rm -rf \"/data/CSHL_patch_features/inception-bn-blue/MD589/MD589_prep2_none_win7/MD589-N56-2015.07.30-19.54.42_MD589_3_0168_prep2_none_win7_inception-bn-blue_features.bp\" && mkdir -p \"/data/CSHL_patch_features/inception-bn-blue/MD589/MD589_prep2_none_win7\"\n",
      "0\n"
     ]
    },
    {
     "name": "stderr",
     "output_type": "stream",
     "text": [
      "Save features: 3.94 seconds\n",
      "locate patches: 0.04 seconds\n"
     ]
    },
    {
     "name": "stdout",
     "output_type": "stream",
     "text": [
      "aws s3 cp \"s3://mousebrainatlas-data/CSHL_patch_features/inception-bn-blue/MD589/MD589_prep2_none_win7/MD589-N56-2015.07.30-19.54.42_MD589_3_0168_prep2_none_win7_inception-bn-blue_features.bp\" \"/data/CSHL_patch_features/inception-bn-blue/MD589/MD589_prep2_none_win7/MD589-N56-2015.07.30-19.54.42_MD589_3_0168_prep2_none_win7_inception-bn-blue_features.bp\"\n",
      "1\n"
     ]
    },
    {
     "name": "stderr",
     "output_type": "stream",
     "text": [
      "Features for MD589, 292/MD589-N56-2015.07.30-19.54.42_MD589_3_0168 does not exist.\n",
      "No pre-computed features found... computing from scratch.\n",
      "Not using image_cache.\n"
     ]
    },
    {
     "name": "stdout",
     "output_type": "stream",
     "text": [
      "/data/CSHL_data_processed/MD589/MD589_prep2_raw_gray/MD589-N56-2015.07.30-19.54.42_MD589_3_0168_prep2_raw_gray.tif\n"
     ]
    },
    {
     "name": "stderr",
     "output_type": "stream",
     "text": [
      "Load image: 1.37 seconds.\n",
      "Crop patches: 1.84 seconds.\n",
      "Extract patches: 3.25 seconds\n"
     ]
    },
    {
     "name": "stdout",
     "output_type": "stream",
     "text": [
      "(29676, 1, 224, 224)\n"
     ]
    },
    {
     "name": "stderr",
     "output_type": "stream",
     "text": [
      "Compute features: 53.51 seconds\n",
      "Compute features at one section, multiple locations: 56.78 seconds\n"
     ]
    },
    {
     "name": "stdout",
     "output_type": "stream",
     "text": [
      "aws s3 cp \"/data/CSHL_patch_features/inception-bn-blue/MD589/MD589_prep2_none_win7/MD589-N56-2015.07.30-19.54.42_MD589_3_0168_prep2_none_win7_inception-bn-blue_features.bp\" \"s3://mousebrainatlas-data/CSHL_patch_features/inception-bn-blue/MD589/MD589_prep2_none_win7/MD589-N56-2015.07.30-19.54.42_MD589_3_0168_prep2_none_win7_inception-bn-blue_features.bp\"\n",
      "0\n",
      "aws s3 cp \"/data/CSHL_patch_features/inception-bn-blue/MD589/MD589_prep2_none_win7/MD589-N56-2015.07.30-19.54.42_MD589_3_0168_prep2_none_win7_inception-bn-blue_locations.bp\" \"s3://mousebrainatlas-data/CSHL_patch_features/inception-bn-blue/MD589/MD589_prep2_none_win7/MD589-N56-2015.07.30-19.54.42_MD589_3_0168_prep2_none_win7_inception-bn-blue_locations.bp\"\n",
      "0\n",
      "rm -rf \"/data/CSHL_patch_features/inception-bn-blue/MD589/MD589_prep2_none_win7/MD589-IHC56-2015.07.31-01.13.31_MD589_3_0168_prep2_none_win7_inception-bn-blue_features.bp\" && mkdir -p \"/data/CSHL_patch_features/inception-bn-blue/MD589/MD589_prep2_none_win7\"\n",
      "0\n",
      "aws s3 cp \"s3://mousebrainatlas-data/CSHL_patch_features/inception-bn-blue/MD589/MD589_prep2_none_win7/MD589-IHC56-2015.07.31-01.13.31_MD589_3_0168_prep2_none_win7_inception-bn-blue_features.bp\" \"/data/CSHL_patch_features/inception-bn-blue/MD589/MD589_prep2_none_win7/MD589-IHC56-2015.07.31-01.13.31_MD589_3_0168_prep2_none_win7_inception-bn-blue_features.bp\"\n"
     ]
    },
    {
     "name": "stderr",
     "output_type": "stream",
     "text": [
      "Save features: 3.25 seconds\n",
      "locate patches: 0.02 seconds\n"
     ]
    },
    {
     "name": "stdout",
     "output_type": "stream",
     "text": [
      "1\n"
     ]
    },
    {
     "name": "stderr",
     "output_type": "stream",
     "text": [
      "Features for MD589, 293/MD589-IHC56-2015.07.31-01.13.31_MD589_3_0168 does not exist.\n",
      "No pre-computed features found... computing from scratch.\n",
      "Not using image_cache.\n"
     ]
    },
    {
     "name": "stdout",
     "output_type": "stream",
     "text": [
      "/data/CSHL_data_processed/MD589/MD589_prep2_raw_gray/MD589-IHC56-2015.07.31-01.13.31_MD589_3_0168_prep2_raw_gray.tif\n"
     ]
    },
    {
     "name": "stderr",
     "output_type": "stream",
     "text": [
      "Load image: 0.91 seconds.\n",
      "Crop patches: 0.94 seconds.\n",
      "Extract patches: 1.87 seconds\n"
     ]
    },
    {
     "name": "stdout",
     "output_type": "stream",
     "text": [
      "(29370, 1, 224, 224)\n"
     ]
    },
    {
     "name": "stderr",
     "output_type": "stream",
     "text": [
      "Compute features: 52.51 seconds\n",
      "Compute features at one section, multiple locations: 54.41 seconds\n"
     ]
    },
    {
     "name": "stdout",
     "output_type": "stream",
     "text": [
      "aws s3 cp \"/data/CSHL_patch_features/inception-bn-blue/MD589/MD589_prep2_none_win7/MD589-IHC56-2015.07.31-01.13.31_MD589_3_0168_prep2_none_win7_inception-bn-blue_features.bp\" \"s3://mousebrainatlas-data/CSHL_patch_features/inception-bn-blue/MD589/MD589_prep2_none_win7/MD589-IHC56-2015.07.31-01.13.31_MD589_3_0168_prep2_none_win7_inception-bn-blue_features.bp\"\n",
      "0\n",
      "aws s3 cp \"/data/CSHL_patch_features/inception-bn-blue/MD589/MD589_prep2_none_win7/MD589-IHC56-2015.07.31-01.13.31_MD589_3_0168_prep2_none_win7_inception-bn-blue_locations.bp\" \"s3://mousebrainatlas-data/CSHL_patch_features/inception-bn-blue/MD589/MD589_prep2_none_win7/MD589-IHC56-2015.07.31-01.13.31_MD589_3_0168_prep2_none_win7_inception-bn-blue_locations.bp\"\n",
      "0\n",
      "rm -rf \"/data/CSHL_patch_features/inception-bn-blue/MD589/MD589_prep2_none_win7/MD589-N57-2015.07.30-19.59.14_MD589_1_0169_prep2_none_win7_inception-bn-blue_features.bp\" && mkdir -p \"/data/CSHL_patch_features/inception-bn-blue/MD589/MD589_prep2_none_win7\"\n",
      "0\n",
      "aws s3 cp \"s3://mousebrainatlas-data/CSHL_patch_features/inception-bn-blue/MD589/MD589_prep2_none_win7/MD589-N57-2015.07.30-19.59.14_MD589_1_0169_prep2_none_win7_inception-bn-blue_features.bp\" \"/data/CSHL_patch_features/inception-bn-blue/MD589/MD589_prep2_none_win7/MD589-N57-2015.07.30-19.59.14_MD589_1_0169_prep2_none_win7_inception-bn-blue_features.bp\"\n"
     ]
    },
    {
     "name": "stderr",
     "output_type": "stream",
     "text": [
      "Save features: 4.57 seconds\n",
      "locate patches: 0.04 seconds\n"
     ]
    },
    {
     "name": "stdout",
     "output_type": "stream",
     "text": [
      "1\n"
     ]
    },
    {
     "name": "stderr",
     "output_type": "stream",
     "text": [
      "Features for MD589, 294/MD589-N57-2015.07.30-19.59.14_MD589_1_0169 does not exist.\n",
      "No pre-computed features found... computing from scratch.\n",
      "Not using image_cache.\n"
     ]
    },
    {
     "name": "stdout",
     "output_type": "stream",
     "text": [
      "/data/CSHL_data_processed/MD589/MD589_prep2_raw_gray/MD589-N57-2015.07.30-19.59.14_MD589_1_0169_prep2_raw_gray.tif\n"
     ]
    },
    {
     "name": "stderr",
     "output_type": "stream",
     "text": [
      "Load image: 1.31 seconds.\n",
      "Crop patches: 1.61 seconds.\n",
      "Extract patches: 2.95 seconds\n"
     ]
    },
    {
     "name": "stdout",
     "output_type": "stream",
     "text": [
      "(29211, 1, 224, 224)\n"
     ]
    },
    {
     "name": "stderr",
     "output_type": "stream",
     "text": [
      "Compute features: 55.27 seconds\n",
      "Compute features at one section, multiple locations: 58.23 seconds\n"
     ]
    },
    {
     "name": "stdout",
     "output_type": "stream",
     "text": [
      "aws s3 cp \"/data/CSHL_patch_features/inception-bn-blue/MD589/MD589_prep2_none_win7/MD589-N57-2015.07.30-19.59.14_MD589_1_0169_prep2_none_win7_inception-bn-blue_features.bp\" \"s3://mousebrainatlas-data/CSHL_patch_features/inception-bn-blue/MD589/MD589_prep2_none_win7/MD589-N57-2015.07.30-19.59.14_MD589_1_0169_prep2_none_win7_inception-bn-blue_features.bp\"\n",
      "0\n",
      "aws s3 cp \"/data/CSHL_patch_features/inception-bn-blue/MD589/MD589_prep2_none_win7/MD589-N57-2015.07.30-19.59.14_MD589_1_0169_prep2_none_win7_inception-bn-blue_locations.bp\" \"s3://mousebrainatlas-data/CSHL_patch_features/inception-bn-blue/MD589/MD589_prep2_none_win7/MD589-N57-2015.07.30-19.59.14_MD589_1_0169_prep2_none_win7_inception-bn-blue_locations.bp\"\n",
      "0\n",
      "rm -rf \"/data/CSHL_patch_features/inception-bn-blue/MD589/MD589_prep2_none_win7/MD589-IHC57-2015.07.31-01.18.16_MD589_1_0169_prep2_none_win7_inception-bn-blue_features.bp\" && mkdir -p \"/data/CSHL_patch_features/inception-bn-blue/MD589/MD589_prep2_none_win7\"\n"
     ]
    },
    {
     "name": "stderr",
     "output_type": "stream",
     "text": [
      "Save features: 4.54 seconds\n",
      "locate patches: 0.06 seconds\n"
     ]
    },
    {
     "name": "stdout",
     "output_type": "stream",
     "text": [
      "0\n",
      "aws s3 cp \"s3://mousebrainatlas-data/CSHL_patch_features/inception-bn-blue/MD589/MD589_prep2_none_win7/MD589-IHC57-2015.07.31-01.18.16_MD589_1_0169_prep2_none_win7_inception-bn-blue_features.bp\" \"/data/CSHL_patch_features/inception-bn-blue/MD589/MD589_prep2_none_win7/MD589-IHC57-2015.07.31-01.18.16_MD589_1_0169_prep2_none_win7_inception-bn-blue_features.bp\"\n",
      "1\n"
     ]
    },
    {
     "name": "stderr",
     "output_type": "stream",
     "text": [
      "Features for MD589, 295/MD589-IHC57-2015.07.31-01.18.16_MD589_1_0169 does not exist.\n",
      "No pre-computed features found... computing from scratch.\n",
      "Not using image_cache.\n"
     ]
    },
    {
     "name": "stdout",
     "output_type": "stream",
     "text": [
      "/data/CSHL_data_processed/MD589/MD589_prep2_raw_gray/MD589-IHC57-2015.07.31-01.18.16_MD589_1_0169_prep2_raw_gray.tif\n"
     ]
    },
    {
     "name": "stderr",
     "output_type": "stream",
     "text": [
      "Load image: 1.13 seconds.\n",
      "Crop patches: 1.31 seconds.\n",
      "Extract patches: 2.47 seconds\n"
     ]
    },
    {
     "name": "stdout",
     "output_type": "stream",
     "text": [
      "(29128, 1, 224, 224)\n"
     ]
    },
    {
     "name": "stderr",
     "output_type": "stream",
     "text": [
      "Compute features: 53.65 seconds\n",
      "Compute features at one section, multiple locations: 56.15 seconds\n"
     ]
    },
    {
     "name": "stdout",
     "output_type": "stream",
     "text": [
      "aws s3 cp \"/data/CSHL_patch_features/inception-bn-blue/MD589/MD589_prep2_none_win7/MD589-IHC57-2015.07.31-01.18.16_MD589_1_0169_prep2_none_win7_inception-bn-blue_features.bp\" \"s3://mousebrainatlas-data/CSHL_patch_features/inception-bn-blue/MD589/MD589_prep2_none_win7/MD589-IHC57-2015.07.31-01.18.16_MD589_1_0169_prep2_none_win7_inception-bn-blue_features.bp\"\n",
      "0\n",
      "aws s3 cp \"/data/CSHL_patch_features/inception-bn-blue/MD589/MD589_prep2_none_win7/MD589-IHC57-2015.07.31-01.18.16_MD589_1_0169_prep2_none_win7_inception-bn-blue_locations.bp\" \"s3://mousebrainatlas-data/CSHL_patch_features/inception-bn-blue/MD589/MD589_prep2_none_win7/MD589-IHC57-2015.07.31-01.18.16_MD589_1_0169_prep2_none_win7_inception-bn-blue_locations.bp\"\n",
      "0\n",
      "rm -rf \"/data/CSHL_patch_features/inception-bn-blue/MD589/MD589_prep2_none_win7/MD589-N57-2015.07.30-19.59.14_MD589_2_0170_prep2_none_win7_inception-bn-blue_features.bp\" && mkdir -p \"/data/CSHL_patch_features/inception-bn-blue/MD589/MD589_prep2_none_win7\"\n",
      "0\n",
      "aws s3 cp \"s3://mousebrainatlas-data/CSHL_patch_features/inception-bn-blue/MD589/MD589_prep2_none_win7/MD589-N57-2015.07.30-19.59.14_MD589_2_0170_prep2_none_win7_inception-bn-blue_features.bp\" \"/data/CSHL_patch_features/inception-bn-blue/MD589/MD589_prep2_none_win7/MD589-N57-2015.07.30-19.59.14_MD589_2_0170_prep2_none_win7_inception-bn-blue_features.bp\"\n"
     ]
    },
    {
     "name": "stderr",
     "output_type": "stream",
     "text": [
      "Save features: 6.25 seconds\n",
      "locate patches: 0.04 seconds\n"
     ]
    },
    {
     "name": "stdout",
     "output_type": "stream",
     "text": [
      "1\n"
     ]
    },
    {
     "name": "stderr",
     "output_type": "stream",
     "text": [
      "Features for MD589, 296/MD589-N57-2015.07.30-19.59.14_MD589_2_0170 does not exist.\n",
      "No pre-computed features found... computing from scratch.\n",
      "Not using image_cache.\n"
     ]
    },
    {
     "name": "stdout",
     "output_type": "stream",
     "text": [
      "/data/CSHL_data_processed/MD589/MD589_prep2_raw_gray/MD589-N57-2015.07.30-19.59.14_MD589_2_0170_prep2_raw_gray.tif\n"
     ]
    },
    {
     "name": "stderr",
     "output_type": "stream",
     "text": [
      "Load image: 1.27 seconds.\n",
      "Crop patches: 1.59 seconds.\n",
      "Extract patches: 2.89 seconds\n"
     ]
    },
    {
     "name": "stdout",
     "output_type": "stream",
     "text": [
      "(28859, 1, 224, 224)\n"
     ]
    },
    {
     "name": "stderr",
     "output_type": "stream",
     "text": [
      "Compute features: 53.46 seconds\n",
      "Compute features at one section, multiple locations: 56.37 seconds\n"
     ]
    },
    {
     "name": "stdout",
     "output_type": "stream",
     "text": [
      "aws s3 cp \"/data/CSHL_patch_features/inception-bn-blue/MD589/MD589_prep2_none_win7/MD589-N57-2015.07.30-19.59.14_MD589_2_0170_prep2_none_win7_inception-bn-blue_features.bp\" \"s3://mousebrainatlas-data/CSHL_patch_features/inception-bn-blue/MD589/MD589_prep2_none_win7/MD589-N57-2015.07.30-19.59.14_MD589_2_0170_prep2_none_win7_inception-bn-blue_features.bp\"\n",
      "0\n",
      "aws s3 cp \"/data/CSHL_patch_features/inception-bn-blue/MD589/MD589_prep2_none_win7/MD589-N57-2015.07.30-19.59.14_MD589_2_0170_prep2_none_win7_inception-bn-blue_locations.bp\" \"s3://mousebrainatlas-data/CSHL_patch_features/inception-bn-blue/MD589/MD589_prep2_none_win7/MD589-N57-2015.07.30-19.59.14_MD589_2_0170_prep2_none_win7_inception-bn-blue_locations.bp\"\n",
      "0\n",
      "rm -rf \"/data/CSHL_patch_features/inception-bn-blue/MD589/MD589_prep2_none_win7/MD589-IHC57-2015.07.31-01.18.16_MD589_2_0170_prep2_none_win7_inception-bn-blue_features.bp\" && mkdir -p \"/data/CSHL_patch_features/inception-bn-blue/MD589/MD589_prep2_none_win7\"\n",
      "0\n",
      "aws s3 cp \"s3://mousebrainatlas-data/CSHL_patch_features/inception-bn-blue/MD589/MD589_prep2_none_win7/MD589-IHC57-2015.07.31-01.18.16_MD589_2_0170_prep2_none_win7_inception-bn-blue_features.bp\" \"/data/CSHL_patch_features/inception-bn-blue/MD589/MD589_prep2_none_win7/MD589-IHC57-2015.07.31-01.18.16_MD589_2_0170_prep2_none_win7_inception-bn-blue_features.bp\"\n"
     ]
    },
    {
     "name": "stderr",
     "output_type": "stream",
     "text": [
      "Save features: 4.57 seconds\n",
      "locate patches: 0.04 seconds\n"
     ]
    },
    {
     "name": "stdout",
     "output_type": "stream",
     "text": [
      "0\n",
      "rm -rf \"/data/CSHL_patch_features/inception-bn-blue/MD589/MD589_prep2_none_win7/MD589-IHC57-2015.07.31-01.18.16_MD589_2_0170_prep2_none_win7_inception-bn-blue_locations.bp\" && mkdir -p \"/data/CSHL_patch_features/inception-bn-blue/MD589/MD589_prep2_none_win7\"\n",
      "0\n",
      "aws s3 cp \"s3://mousebrainatlas-data/CSHL_patch_features/inception-bn-blue/MD589/MD589_prep2_none_win7/MD589-IHC57-2015.07.31-01.18.16_MD589_2_0170_prep2_none_win7_inception-bn-blue_locations.bp\" \"/data/CSHL_patch_features/inception-bn-blue/MD589/MD589_prep2_none_win7/MD589-IHC57-2015.07.31-01.18.16_MD589_2_0170_prep2_none_win7_inception-bn-blue_locations.bp\"\n",
      "0\n"
     ]
    },
    {
     "name": "stderr",
     "output_type": "stream",
     "text": [
      "Need to compute features at 0 locations.\n",
      "locate patches: 0.03 seconds\n"
     ]
    },
    {
     "name": "stdout",
     "output_type": "stream",
     "text": [
      "rm -rf \"/data/CSHL_patch_features/inception-bn-blue/MD589/MD589_prep2_none_win7/MD589-N57-2015.07.30-19.59.14_MD589_3_0171_prep2_none_win7_inception-bn-blue_features.bp\" && mkdir -p \"/data/CSHL_patch_features/inception-bn-blue/MD589/MD589_prep2_none_win7\"\n",
      "0\n",
      "aws s3 cp \"s3://mousebrainatlas-data/CSHL_patch_features/inception-bn-blue/MD589/MD589_prep2_none_win7/MD589-N57-2015.07.30-19.59.14_MD589_3_0171_prep2_none_win7_inception-bn-blue_features.bp\" \"/data/CSHL_patch_features/inception-bn-blue/MD589/MD589_prep2_none_win7/MD589-N57-2015.07.30-19.59.14_MD589_3_0171_prep2_none_win7_inception-bn-blue_features.bp\"\n",
      "1\n"
     ]
    },
    {
     "name": "stderr",
     "output_type": "stream",
     "text": [
      "Features for MD589, 298/MD589-N57-2015.07.30-19.59.14_MD589_3_0171 does not exist.\n",
      "No pre-computed features found... computing from scratch.\n",
      "Not using image_cache.\n"
     ]
    },
    {
     "name": "stdout",
     "output_type": "stream",
     "text": [
      "/data/CSHL_data_processed/MD589/MD589_prep2_raw_gray/MD589-N57-2015.07.30-19.59.14_MD589_3_0171_prep2_raw_gray.tif\n"
     ]
    },
    {
     "name": "stderr",
     "output_type": "stream",
     "text": [
      "Load image: 1.09 seconds.\n",
      "Crop patches: 1.63 seconds.\n",
      "Extract patches: 2.74 seconds\n"
     ]
    },
    {
     "name": "stdout",
     "output_type": "stream",
     "text": [
      "(28641, 1, 224, 224)\n"
     ]
    },
    {
     "name": "stderr",
     "output_type": "stream",
     "text": [
      "Compute features: 53.13 seconds\n",
      "Compute features at one section, multiple locations: 55.88 seconds\n"
     ]
    },
    {
     "name": "stdout",
     "output_type": "stream",
     "text": [
      "aws s3 cp \"/data/CSHL_patch_features/inception-bn-blue/MD589/MD589_prep2_none_win7/MD589-N57-2015.07.30-19.59.14_MD589_3_0171_prep2_none_win7_inception-bn-blue_features.bp\" \"s3://mousebrainatlas-data/CSHL_patch_features/inception-bn-blue/MD589/MD589_prep2_none_win7/MD589-N57-2015.07.30-19.59.14_MD589_3_0171_prep2_none_win7_inception-bn-blue_features.bp\"\n",
      "0\n",
      "aws s3 cp \"/data/CSHL_patch_features/inception-bn-blue/MD589/MD589_prep2_none_win7/MD589-N57-2015.07.30-19.59.14_MD589_3_0171_prep2_none_win7_inception-bn-blue_locations.bp\" \"s3://mousebrainatlas-data/CSHL_patch_features/inception-bn-blue/MD589/MD589_prep2_none_win7/MD589-N57-2015.07.30-19.59.14_MD589_3_0171_prep2_none_win7_inception-bn-blue_locations.bp\"\n",
      "0\n",
      "rm -rf \"/data/CSHL_patch_features/inception-bn-blue/MD589/MD589_prep2_none_win7/MD589-IHC57-2015.07.31-01.18.16_MD589_3_0171_prep2_none_win7_inception-bn-blue_features.bp\" && mkdir -p \"/data/CSHL_patch_features/inception-bn-blue/MD589/MD589_prep2_none_win7\"\n",
      "0\n",
      "aws s3 cp \"s3://mousebrainatlas-data/CSHL_patch_features/inception-bn-blue/MD589/MD589_prep2_none_win7/MD589-IHC57-2015.07.31-01.18.16_MD589_3_0171_prep2_none_win7_inception-bn-blue_features.bp\" \"/data/CSHL_patch_features/inception-bn-blue/MD589/MD589_prep2_none_win7/MD589-IHC57-2015.07.31-01.18.16_MD589_3_0171_prep2_none_win7_inception-bn-blue_features.bp\"\n"
     ]
    },
    {
     "name": "stderr",
     "output_type": "stream",
     "text": [
      "Save features: 4.65 seconds\n",
      "locate patches: 0.03 seconds\n"
     ]
    },
    {
     "name": "stdout",
     "output_type": "stream",
     "text": [
      "1\n"
     ]
    },
    {
     "name": "stderr",
     "output_type": "stream",
     "text": [
      "Features for MD589, 299/MD589-IHC57-2015.07.31-01.18.16_MD589_3_0171 does not exist.\n",
      "No pre-computed features found... computing from scratch.\n",
      "Not using image_cache.\n"
     ]
    },
    {
     "name": "stdout",
     "output_type": "stream",
     "text": [
      "/data/CSHL_data_processed/MD589/MD589_prep2_raw_gray/MD589-IHC57-2015.07.31-01.18.16_MD589_3_0171_prep2_raw_gray.tif\n"
     ]
    },
    {
     "name": "stderr",
     "output_type": "stream",
     "text": [
      "Load image: 2.66 seconds.\n",
      "Crop patches: 1.54 seconds.\n",
      "Extract patches: 4.23 seconds\n"
     ]
    },
    {
     "name": "stdout",
     "output_type": "stream",
     "text": [
      "(28536, 1, 224, 224)\n"
     ]
    },
    {
     "name": "stderr",
     "output_type": "stream",
     "text": [
      "Compute features: 54.56 seconds\n",
      "Compute features at one section, multiple locations: 58.81 seconds\n"
     ]
    },
    {
     "name": "stdout",
     "output_type": "stream",
     "text": [
      "aws s3 cp \"/data/CSHL_patch_features/inception-bn-blue/MD589/MD589_prep2_none_win7/MD589-IHC57-2015.07.31-01.18.16_MD589_3_0171_prep2_none_win7_inception-bn-blue_features.bp\" \"s3://mousebrainatlas-data/CSHL_patch_features/inception-bn-blue/MD589/MD589_prep2_none_win7/MD589-IHC57-2015.07.31-01.18.16_MD589_3_0171_prep2_none_win7_inception-bn-blue_features.bp\"\n",
      "0\n",
      "aws s3 cp \"/data/CSHL_patch_features/inception-bn-blue/MD589/MD589_prep2_none_win7/MD589-IHC57-2015.07.31-01.18.16_MD589_3_0171_prep2_none_win7_inception-bn-blue_locations.bp\" \"s3://mousebrainatlas-data/CSHL_patch_features/inception-bn-blue/MD589/MD589_prep2_none_win7/MD589-IHC57-2015.07.31-01.18.16_MD589_3_0171_prep2_none_win7_inception-bn-blue_locations.bp\"\n",
      "0\n",
      "rm -rf \"/data/CSHL_patch_features/inception-bn-blue/MD589/MD589_prep2_none_win7/MD589-IHC58-2015.07.31-01.22.39_MD589_1_0172_prep2_none_win7_inception-bn-blue_features.bp\" && mkdir -p \"/data/CSHL_patch_features/inception-bn-blue/MD589/MD589_prep2_none_win7\"\n",
      "0\n",
      "aws s3 cp \"s3://mousebrainatlas-data/CSHL_patch_features/inception-bn-blue/MD589/MD589_prep2_none_win7/MD589-IHC58-2015.07.31-01.22.39_MD589_1_0172_prep2_none_win7_inception-bn-blue_features.bp\" \"/data/CSHL_patch_features/inception-bn-blue/MD589/MD589_prep2_none_win7/MD589-IHC58-2015.07.31-01.22.39_MD589_1_0172_prep2_none_win7_inception-bn-blue_features.bp\""
     ]
    },
    {
     "name": "stderr",
     "output_type": "stream",
     "text": [
      "Save features: 4.58 seconds\n",
      "locate patches: 0.04 seconds\n"
     ]
    },
    {
     "name": "stdout",
     "output_type": "stream",
     "text": [
      "\n",
      "1\n"
     ]
    },
    {
     "name": "stderr",
     "output_type": "stream",
     "text": [
      "Features for MD589, 301/MD589-IHC58-2015.07.31-01.22.39_MD589_1_0172 does not exist.\n",
      "No pre-computed features found... computing from scratch.\n",
      "Not using image_cache.\n"
     ]
    },
    {
     "name": "stdout",
     "output_type": "stream",
     "text": [
      "/data/CSHL_data_processed/MD589/MD589_prep2_raw_gray/MD589-IHC58-2015.07.31-01.22.39_MD589_1_0172_prep2_raw_gray.tif\n"
     ]
    },
    {
     "name": "stderr",
     "output_type": "stream",
     "text": [
      "Load image: 2.64 seconds.\n",
      "Crop patches: 1.40 seconds.\n",
      "Extract patches: 4.07 seconds\n"
     ]
    },
    {
     "name": "stdout",
     "output_type": "stream",
     "text": [
      "(28233, 1, 224, 224)\n"
     ]
    },
    {
     "name": "stderr",
     "output_type": "stream",
     "text": [
      "Compute features: 53.87 seconds\n",
      "Compute features at one section, multiple locations: 57.96 seconds\n"
     ]
    },
    {
     "name": "stdout",
     "output_type": "stream",
     "text": [
      "aws s3 cp \"/data/CSHL_patch_features/inception-bn-blue/MD589/MD589_prep2_none_win7/MD589-IHC58-2015.07.31-01.22.39_MD589_1_0172_prep2_none_win7_inception-bn-blue_features.bp\" \"s3://mousebrainatlas-data/CSHL_patch_features/inception-bn-blue/MD589/MD589_prep2_none_win7/MD589-IHC58-2015.07.31-01.22.39_MD589_1_0172_prep2_none_win7_inception-bn-blue_features.bp\"\n",
      "0\n",
      "aws s3 cp \"/data/CSHL_patch_features/inception-bn-blue/MD589/MD589_prep2_none_win7/MD589-IHC58-2015.07.31-01.22.39_MD589_1_0172_prep2_none_win7_inception-bn-blue_locations.bp\" \"s3://mousebrainatlas-data/CSHL_patch_features/inception-bn-blue/MD589/MD589_prep2_none_win7/MD589-IHC58-2015.07.31-01.22.39_MD589_1_0172_prep2_none_win7_inception-bn-blue_locations.bp\"\n",
      "0\n",
      "rm -rf \"/data/CSHL_patch_features/inception-bn-blue/MD589/MD589_prep2_none_win7/MD589-N58-2015.07.30-20.03.53_MD589_1_0172_prep2_none_win7_inception-bn-blue_features.bp\" && mkdir -p \"/data/CSHL_patch_features/inception-bn-blue/MD589/MD589_prep2_none_win7\"\n",
      "0\n",
      "aws s3 cp \"s3://mousebrainatlas-data/CSHL_patch_features/inception-bn-blue/MD589/MD589_prep2_none_win7/MD589-N58-2015.07.30-20.03.53_MD589_1_0172_prep2_none_win7_inception-bn-blue_features.bp\" \"/data/CSHL_patch_features/inception-bn-blue/MD589/MD589_prep2_none_win7/MD589-N58-2015.07.30-20.03.53_MD589_1_0172_prep2_none_win7_inception-bn-blue_features.bp\""
     ]
    },
    {
     "name": "stderr",
     "output_type": "stream",
     "text": [
      "Save features: 3.71 seconds\n",
      "locate patches: 0.04 seconds\n"
     ]
    },
    {
     "name": "stdout",
     "output_type": "stream",
     "text": [
      "\n",
      "1\n"
     ]
    },
    {
     "name": "stderr",
     "output_type": "stream",
     "text": [
      "Features for MD589, 302/MD589-N58-2015.07.30-20.03.53_MD589_1_0172 does not exist.\n",
      "No pre-computed features found... computing from scratch.\n",
      "Not using image_cache.\n"
     ]
    },
    {
     "name": "stdout",
     "output_type": "stream",
     "text": [
      "/data/CSHL_data_processed/MD589/MD589_prep2_raw_gray/MD589-N58-2015.07.30-20.03.53_MD589_1_0172_prep2_raw_gray.tif\n"
     ]
    },
    {
     "name": "stderr",
     "output_type": "stream",
     "text": [
      "Load image: 2.61 seconds.\n",
      "Crop patches: 1.03 seconds.\n",
      "Extract patches: 3.67 seconds\n"
     ]
    },
    {
     "name": "stdout",
     "output_type": "stream",
     "text": [
      "(28066, 1, 224, 224)\n"
     ]
    },
    {
     "name": "stderr",
     "output_type": "stream",
     "text": [
      "Compute features: 50.18 seconds\n",
      "Compute features at one section, multiple locations: 53.88 seconds\n"
     ]
    },
    {
     "name": "stdout",
     "output_type": "stream",
     "text": [
      "aws s3 cp \"/data/CSHL_patch_features/inception-bn-blue/MD589/MD589_prep2_none_win7/MD589-N58-2015.07.30-20.03.53_MD589_1_0172_prep2_none_win7_inception-bn-blue_features.bp\" \"s3://mousebrainatlas-data/CSHL_patch_features/inception-bn-blue/MD589/MD589_prep2_none_win7/MD589-N58-2015.07.30-20.03.53_MD589_1_0172_prep2_none_win7_inception-bn-blue_features.bp\"\n",
      "0\n",
      "aws s3 cp \"/data/CSHL_patch_features/inception-bn-blue/MD589/MD589_prep2_none_win7/MD589-N58-2015.07.30-20.03.53_MD589_1_0172_prep2_none_win7_inception-bn-blue_locations.bp\" \"s3://mousebrainatlas-data/CSHL_patch_features/inception-bn-blue/MD589/MD589_prep2_none_win7/MD589-N58-2015.07.30-20.03.53_MD589_1_0172_prep2_none_win7_inception-bn-blue_locations.bp\"\n",
      "0\n",
      "rm -rf \"/data/CSHL_patch_features/inception-bn-blue/MD589/MD589_prep2_none_win7/MD589-IHC58-2015.07.31-01.22.39_MD589_2_0173_prep2_none_win7_inception-bn-blue_features.bp\" && mkdir -p \"/data/CSHL_patch_features/inception-bn-blue/MD589/MD589_prep2_none_win7\"\n",
      "0\n",
      "aws s3 cp \"s3://mousebrainatlas-data/CSHL_patch_features/inception-bn-blue/MD589/MD589_prep2_none_win7/MD589-IHC58-2015.07.31-01.22.39_MD589_2_0173_prep2_none_win7_inception-bn-blue_features.bp\" \"/data/CSHL_patch_features/inception-bn-blue/MD589/MD589_prep2_none_win7/MD589-IHC58-2015.07.31-01.22.39_MD589_2_0173_prep2_none_win7_inception-bn-blue_features.bp\"\n"
     ]
    },
    {
     "name": "stderr",
     "output_type": "stream",
     "text": [
      "Save features: 4.35 seconds\n",
      "locate patches: 0.03 seconds\n"
     ]
    },
    {
     "name": "stdout",
     "output_type": "stream",
     "text": [
      "1\n"
     ]
    },
    {
     "name": "stderr",
     "output_type": "stream",
     "text": [
      "Features for MD589, 303/MD589-IHC58-2015.07.31-01.22.39_MD589_2_0173 does not exist.\n",
      "No pre-computed features found... computing from scratch.\n",
      "Not using image_cache.\n"
     ]
    },
    {
     "name": "stdout",
     "output_type": "stream",
     "text": [
      "/data/CSHL_data_processed/MD589/MD589_prep2_raw_gray/MD589-IHC58-2015.07.31-01.22.39_MD589_2_0173_prep2_raw_gray.tif\n"
     ]
    },
    {
     "name": "stderr",
     "output_type": "stream",
     "text": [
      "Load image: 1.32 seconds.\n",
      "Crop patches: 1.76 seconds.\n",
      "Extract patches: 3.10 seconds\n"
     ]
    },
    {
     "name": "stdout",
     "output_type": "stream",
     "text": [
      "(27870, 1, 224, 224)\n"
     ]
    },
    {
     "name": "stderr",
     "output_type": "stream",
     "text": [
      "Compute features: 54.75 seconds\n",
      "Compute features at one section, multiple locations: 57.88 seconds\n"
     ]
    },
    {
     "name": "stdout",
     "output_type": "stream",
     "text": [
      "aws s3 cp \"/data/CSHL_patch_features/inception-bn-blue/MD589/MD589_prep2_none_win7/MD589-IHC58-2015.07.31-01.22.39_MD589_2_0173_prep2_none_win7_inception-bn-blue_features.bp\" \"s3://mousebrainatlas-data/CSHL_patch_features/inception-bn-blue/MD589/MD589_prep2_none_win7/MD589-IHC58-2015.07.31-01.22.39_MD589_2_0173_prep2_none_win7_inception-bn-blue_features.bp\"\n",
      "0\n",
      "aws s3 cp \"/data/CSHL_patch_features/inception-bn-blue/MD589/MD589_prep2_none_win7/MD589-IHC58-2015.07.31-01.22.39_MD589_2_0173_prep2_none_win7_inception-bn-blue_locations.bp\" \"s3://mousebrainatlas-data/CSHL_patch_features/inception-bn-blue/MD589/MD589_prep2_none_win7/MD589-IHC58-2015.07.31-01.22.39_MD589_2_0173_prep2_none_win7_inception-bn-blue_locations.bp\"\n",
      "0\n",
      "rm -rf \"/data/CSHL_patch_features/inception-bn-blue/MD589/MD589_prep2_none_win7/MD589-N58-2015.07.30-20.03.53_MD589_2_0173_prep2_none_win7_inception-bn-blue_features.bp\" && mkdir -p \"/data/CSHL_patch_features/inception-bn-blue/MD589/MD589_prep2_none_win7\"\n",
      "0\n",
      "aws s3 cp \"s3://mousebrainatlas-data/CSHL_patch_features/inception-bn-blue/MD589/MD589_prep2_none_win7/MD589-N58-2015.07.30-20.03.53_MD589_2_0173_prep2_none_win7_inception-bn-blue_features.bp\" \"/data/CSHL_patch_features/inception-bn-blue/MD589/MD589_prep2_none_win7/MD589-N58-2015.07.30-20.03.53_MD589_2_0173_prep2_none_win7_inception-bn-blue_features.bp\"\n"
     ]
    },
    {
     "name": "stderr",
     "output_type": "stream",
     "text": [
      "Save features: 5.33 seconds\n",
      "locate patches: 0.04 seconds\n"
     ]
    },
    {
     "name": "stdout",
     "output_type": "stream",
     "text": [
      "1\n"
     ]
    },
    {
     "name": "stderr",
     "output_type": "stream",
     "text": [
      "Features for MD589, 304/MD589-N58-2015.07.30-20.03.53_MD589_2_0173 does not exist.\n",
      "No pre-computed features found... computing from scratch.\n",
      "Not using image_cache.\n"
     ]
    },
    {
     "name": "stdout",
     "output_type": "stream",
     "text": [
      "/data/CSHL_data_processed/MD589/MD589_prep2_raw_gray/MD589-N58-2015.07.30-20.03.53_MD589_2_0173_prep2_raw_gray.tif\n"
     ]
    },
    {
     "name": "stderr",
     "output_type": "stream",
     "text": [
      "Load image: 1.74 seconds.\n",
      "Crop patches: 1.48 seconds.\n",
      "Extract patches: 3.24 seconds\n"
     ]
    },
    {
     "name": "stdout",
     "output_type": "stream",
     "text": [
      "(27736, 1, 224, 224)\n"
     ]
    },
    {
     "name": "stderr",
     "output_type": "stream",
     "text": [
      "Compute features: 58.11 seconds\n",
      "Compute features at one section, multiple locations: 61.38 seconds\n"
     ]
    },
    {
     "name": "stdout",
     "output_type": "stream",
     "text": [
      "aws s3 cp \"/data/CSHL_patch_features/inception-bn-blue/MD589/MD589_prep2_none_win7/MD589-N58-2015.07.30-20.03.53_MD589_2_0173_prep2_none_win7_inception-bn-blue_features.bp\" \"s3://mousebrainatlas-data/CSHL_patch_features/inception-bn-blue/MD589/MD589_prep2_none_win7/MD589-N58-2015.07.30-20.03.53_MD589_2_0173_prep2_none_win7_inception-bn-blue_features.bp\"\n",
      "0\n",
      "aws s3 cp \"/data/CSHL_patch_features/inception-bn-blue/MD589/MD589_prep2_none_win7/MD589-N58-2015.07.30-20.03.53_MD589_2_0173_prep2_none_win7_inception-bn-blue_locations.bp\" \"s3://mousebrainatlas-data/CSHL_patch_features/inception-bn-blue/MD589/MD589_prep2_none_win7/MD589-N58-2015.07.30-20.03.53_MD589_2_0173_prep2_none_win7_inception-bn-blue_locations.bp\"\n",
      "0\n",
      "rm -rf \"/data/CSHL_patch_features/inception-bn-blue/MD589/MD589_prep2_none_win7/MD589-IHC58-2015.07.31-01.22.39_MD589_3_0174_prep2_none_win7_inception-bn-blue_features.bp\" && mkdir -p \"/data/CSHL_patch_features/inception-bn-blue/MD589/MD589_prep2_none_win7\"\n",
      "0"
     ]
    },
    {
     "name": "stderr",
     "output_type": "stream",
     "text": [
      "Save features: 4.33 seconds\n",
      "locate patches: 0.04 seconds\n"
     ]
    },
    {
     "name": "stdout",
     "output_type": "stream",
     "text": [
      "\n",
      "aws s3 cp \"s3://mousebrainatlas-data/CSHL_patch_features/inception-bn-blue/MD589/MD589_prep2_none_win7/MD589-IHC58-2015.07.31-01.22.39_MD589_3_0174_prep2_none_win7_inception-bn-blue_features.bp\" \"/data/CSHL_patch_features/inception-bn-blue/MD589/MD589_prep2_none_win7/MD589-IHC58-2015.07.31-01.22.39_MD589_3_0174_prep2_none_win7_inception-bn-blue_features.bp\"\n",
      "1\n"
     ]
    },
    {
     "name": "stderr",
     "output_type": "stream",
     "text": [
      "Features for MD589, 305/MD589-IHC58-2015.07.31-01.22.39_MD589_3_0174 does not exist.\n",
      "No pre-computed features found... computing from scratch.\n",
      "Not using image_cache.\n"
     ]
    },
    {
     "name": "stdout",
     "output_type": "stream",
     "text": [
      "/data/CSHL_data_processed/MD589/MD589_prep2_raw_gray/MD589-IHC58-2015.07.31-01.22.39_MD589_3_0174_prep2_raw_gray.tif\n"
     ]
    },
    {
     "name": "stderr",
     "output_type": "stream",
     "text": [
      "Load image: 2.05 seconds.\n",
      "Crop patches: 1.31 seconds.\n",
      "Extract patches: 3.39 seconds\n"
     ]
    },
    {
     "name": "stdout",
     "output_type": "stream",
     "text": [
      "(27550, 1, 224, 224)\n"
     ]
    },
    {
     "name": "stderr",
     "output_type": "stream",
     "text": [
      "Compute features: 53.10 seconds\n",
      "Compute features at one section, multiple locations: 56.51 seconds\n"
     ]
    },
    {
     "name": "stdout",
     "output_type": "stream",
     "text": [
      "aws s3 cp \"/data/CSHL_patch_features/inception-bn-blue/MD589/MD589_prep2_none_win7/MD589-IHC58-2015.07.31-01.22.39_MD589_3_0174_prep2_none_win7_inception-bn-blue_features.bp\" \"s3://mousebrainatlas-data/CSHL_patch_features/inception-bn-blue/MD589/MD589_prep2_none_win7/MD589-IHC58-2015.07.31-01.22.39_MD589_3_0174_prep2_none_win7_inception-bn-blue_features.bp\"\n",
      "0\n",
      "aws s3 cp \"/data/CSHL_patch_features/inception-bn-blue/MD589/MD589_prep2_none_win7/MD589-IHC58-2015.07.31-01.22.39_MD589_3_0174_prep2_none_win7_inception-bn-blue_locations.bp\" \"s3://mousebrainatlas-data/CSHL_patch_features/inception-bn-blue/MD589/MD589_prep2_none_win7/MD589-IHC58-2015.07.31-01.22.39_MD589_3_0174_prep2_none_win7_inception-bn-blue_locations.bp\"\n",
      "0\n",
      "rm -rf \"/data/CSHL_patch_features/inception-bn-blue/MD589/MD589_prep2_none_win7/MD589-N59-2015.07.30-20.07.00_MD589_1_0175_prep2_none_win7_inception-bn-blue_features.bp\" && mkdir -p \"/data/CSHL_patch_features/inception-bn-blue/MD589/MD589_prep2_none_win7\"\n",
      "0"
     ]
    },
    {
     "name": "stderr",
     "output_type": "stream",
     "text": [
      "Save features: 4.47 seconds\n",
      "locate patches: 0.06 seconds\n"
     ]
    },
    {
     "name": "stdout",
     "output_type": "stream",
     "text": [
      "\n",
      "aws s3 cp \"s3://mousebrainatlas-data/CSHL_patch_features/inception-bn-blue/MD589/MD589_prep2_none_win7/MD589-N59-2015.07.30-20.07.00_MD589_1_0175_prep2_none_win7_inception-bn-blue_features.bp\" \"/data/CSHL_patch_features/inception-bn-blue/MD589/MD589_prep2_none_win7/MD589-N59-2015.07.30-20.07.00_MD589_1_0175_prep2_none_win7_inception-bn-blue_features.bp\"\n",
      "1\n"
     ]
    },
    {
     "name": "stderr",
     "output_type": "stream",
     "text": [
      "Features for MD589, 306/MD589-N59-2015.07.30-20.07.00_MD589_1_0175 does not exist.\n",
      "No pre-computed features found... computing from scratch.\n",
      "Not using image_cache.\n"
     ]
    },
    {
     "name": "stdout",
     "output_type": "stream",
     "text": [
      "/data/CSHL_data_processed/MD589/MD589_prep2_raw_gray/MD589-N59-2015.07.30-20.07.00_MD589_1_0175_prep2_raw_gray.tif\n"
     ]
    },
    {
     "name": "stderr",
     "output_type": "stream",
     "text": [
      "Load image: 3.14 seconds.\n",
      "Crop patches: 1.52 seconds.\n",
      "Extract patches: 4.69 seconds\n"
     ]
    },
    {
     "name": "stdout",
     "output_type": "stream",
     "text": [
      "(27340, 1, 224, 224)\n"
     ]
    },
    {
     "name": "stderr",
     "output_type": "stream",
     "text": [
      "Compute features: 53.91 seconds\n",
      "Compute features at one section, multiple locations: 58.63 seconds\n"
     ]
    },
    {
     "name": "stdout",
     "output_type": "stream",
     "text": [
      "aws s3 cp \"/data/CSHL_patch_features/inception-bn-blue/MD589/MD589_prep2_none_win7/MD589-N59-2015.07.30-20.07.00_MD589_1_0175_prep2_none_win7_inception-bn-blue_features.bp\" \"s3://mousebrainatlas-data/CSHL_patch_features/inception-bn-blue/MD589/MD589_prep2_none_win7/MD589-N59-2015.07.30-20.07.00_MD589_1_0175_prep2_none_win7_inception-bn-blue_features.bp\"\n",
      "0\n",
      "aws s3 cp \"/data/CSHL_patch_features/inception-bn-blue/MD589/MD589_prep2_none_win7/MD589-N59-2015.07.30-20.07.00_MD589_1_0175_prep2_none_win7_inception-bn-blue_locations.bp\" \"s3://mousebrainatlas-data/CSHL_patch_features/inception-bn-blue/MD589/MD589_prep2_none_win7/MD589-N59-2015.07.30-20.07.00_MD589_1_0175_prep2_none_win7_inception-bn-blue_locations.bp\"\n",
      "0\n",
      "rm -rf \"/data/CSHL_patch_features/inception-bn-blue/MD589/MD589_prep2_none_win7/MD589-IHC59-2015.07.31-01.26.55_MD589_1_0175_prep2_none_win7_inception-bn-blue_features.bp\" && mkdir -p \"/data/CSHL_patch_features/inception-bn-blue/MD589/MD589_prep2_none_win7\"\n",
      "0\n",
      "aws s3 cp \"s3://mousebrainatlas-data/CSHL_patch_features/inception-bn-blue/MD589/MD589_prep2_none_win7/MD589-IHC59-2015.07.31-01.26.55_MD589_1_0175_prep2_none_win7_inception-bn-blue_features.bp\" \"/data/CSHL_patch_features/inception-bn-blue/MD589/MD589_prep2_none_win7/MD589-IHC59-2015.07.31-01.26.55_MD589_1_0175_prep2_none_win7_inception-bn-blue_features.bp\"\n"
     ]
    },
    {
     "name": "stderr",
     "output_type": "stream",
     "text": [
      "Save features: 4.22 seconds\n",
      "locate patches: 0.03 seconds\n"
     ]
    },
    {
     "name": "stdout",
     "output_type": "stream",
     "text": [
      "1\n"
     ]
    },
    {
     "name": "stderr",
     "output_type": "stream",
     "text": [
      "Features for MD589, 307/MD589-IHC59-2015.07.31-01.26.55_MD589_1_0175 does not exist.\n",
      "No pre-computed features found... computing from scratch.\n",
      "Not using image_cache.\n"
     ]
    },
    {
     "name": "stdout",
     "output_type": "stream",
     "text": [
      "/data/CSHL_data_processed/MD589/MD589_prep2_raw_gray/MD589-IHC59-2015.07.31-01.26.55_MD589_1_0175_prep2_raw_gray.tif\n"
     ]
    },
    {
     "name": "stderr",
     "output_type": "stream",
     "text": [
      "Load image: 1.43 seconds.\n",
      "Crop patches: 1.32 seconds.\n",
      "Extract patches: 2.78 seconds\n"
     ]
    },
    {
     "name": "stdout",
     "output_type": "stream",
     "text": [
      "(27230, 1, 224, 224)\n"
     ]
    },
    {
     "name": "stderr",
     "output_type": "stream",
     "text": [
      "Compute features: 55.78 seconds\n",
      "Compute features at one section, multiple locations: 58.59 seconds\n"
     ]
    },
    {
     "name": "stdout",
     "output_type": "stream",
     "text": [
      "aws s3 cp \"/data/CSHL_patch_features/inception-bn-blue/MD589/MD589_prep2_none_win7/MD589-IHC59-2015.07.31-01.26.55_MD589_1_0175_prep2_none_win7_inception-bn-blue_features.bp\" \"s3://mousebrainatlas-data/CSHL_patch_features/inception-bn-blue/MD589/MD589_prep2_none_win7/MD589-IHC59-2015.07.31-01.26.55_MD589_1_0175_prep2_none_win7_inception-bn-blue_features.bp\"\n",
      "0\n",
      "aws s3 cp \"/data/CSHL_patch_features/inception-bn-blue/MD589/MD589_prep2_none_win7/MD589-IHC59-2015.07.31-01.26.55_MD589_1_0175_prep2_none_win7_inception-bn-blue_locations.bp\" \"s3://mousebrainatlas-data/CSHL_patch_features/inception-bn-blue/MD589/MD589_prep2_none_win7/MD589-IHC59-2015.07.31-01.26.55_MD589_1_0175_prep2_none_win7_inception-bn-blue_locations.bp\"\n",
      "0\n",
      "rm -rf \"/data/CSHL_patch_features/inception-bn-blue/MD589/MD589_prep2_none_win7/MD589-N59-2015.07.30-20.07.00_MD589_2_0176_prep2_none_win7_inception-bn-blue_features.bp\" && mkdir -p \"/data/CSHL_patch_features/inception-bn-blue/MD589/MD589_prep2_none_win7\"\n",
      "0"
     ]
    },
    {
     "name": "stderr",
     "output_type": "stream",
     "text": [
      "Save features: 4.24 seconds\n",
      "locate patches: 0.03 seconds\n"
     ]
    },
    {
     "name": "stdout",
     "output_type": "stream",
     "text": [
      "\n",
      "aws s3 cp \"s3://mousebrainatlas-data/CSHL_patch_features/inception-bn-blue/MD589/MD589_prep2_none_win7/MD589-N59-2015.07.30-20.07.00_MD589_2_0176_prep2_none_win7_inception-bn-blue_features.bp\" \"/data/CSHL_patch_features/inception-bn-blue/MD589/MD589_prep2_none_win7/MD589-N59-2015.07.30-20.07.00_MD589_2_0176_prep2_none_win7_inception-bn-blue_features.bp\"\n",
      "1\n"
     ]
    },
    {
     "name": "stderr",
     "output_type": "stream",
     "text": [
      "Features for MD589, 308/MD589-N59-2015.07.30-20.07.00_MD589_2_0176 does not exist.\n",
      "No pre-computed features found... computing from scratch.\n",
      "Not using image_cache.\n"
     ]
    },
    {
     "name": "stdout",
     "output_type": "stream",
     "text": [
      "/data/CSHL_data_processed/MD589/MD589_prep2_raw_gray/MD589-N59-2015.07.30-20.07.00_MD589_2_0176_prep2_raw_gray.tif\n"
     ]
    },
    {
     "name": "stderr",
     "output_type": "stream",
     "text": [
      "Load image: 1.65 seconds.\n",
      "Crop patches: 1.50 seconds.\n",
      "Extract patches: 3.18 seconds\n"
     ]
    },
    {
     "name": "stdout",
     "output_type": "stream",
     "text": [
      "(27000, 1, 224, 224)\n"
     ]
    },
    {
     "name": "stderr",
     "output_type": "stream",
     "text": [
      "Compute features: 57.89 seconds\n",
      "Compute features at one section, multiple locations: 61.11 seconds\n"
     ]
    },
    {
     "name": "stdout",
     "output_type": "stream",
     "text": [
      "aws s3 cp \"/data/CSHL_patch_features/inception-bn-blue/MD589/MD589_prep2_none_win7/MD589-N59-2015.07.30-20.07.00_MD589_2_0176_prep2_none_win7_inception-bn-blue_features.bp\" \"s3://mousebrainatlas-data/CSHL_patch_features/inception-bn-blue/MD589/MD589_prep2_none_win7/MD589-N59-2015.07.30-20.07.00_MD589_2_0176_prep2_none_win7_inception-bn-blue_features.bp\"\n",
      "0\n",
      "aws s3 cp \"/data/CSHL_patch_features/inception-bn-blue/MD589/MD589_prep2_none_win7/MD589-N59-2015.07.30-20.07.00_MD589_2_0176_prep2_none_win7_inception-bn-blue_locations.bp\" \"s3://mousebrainatlas-data/CSHL_patch_features/inception-bn-blue/MD589/MD589_prep2_none_win7/MD589-N59-2015.07.30-20.07.00_MD589_2_0176_prep2_none_win7_inception-bn-blue_locations.bp\"\n",
      "0\n",
      "rm -rf \"/data/CSHL_patch_features/inception-bn-blue/MD589/MD589_prep2_none_win7/MD589-IHC59-2015.07.31-01.26.55_MD589_2_0176_prep2_none_win7_inception-bn-blue_features.bp\" && mkdir -p \"/data/CSHL_patch_features/inception-bn-blue/MD589/MD589_prep2_none_win7\"\n",
      "0\n",
      "aws s3 cp \"s3://mousebrainatlas-data/CSHL_patch_features/inception-bn-blue/MD589/MD589_prep2_none_win7/MD589-IHC59-2015.07.31-01.26.55_MD589_2_0176_prep2_none_win7_inception-bn-blue_features.bp\" \"/data/CSHL_patch_features/inception-bn-blue/MD589/MD589_prep2_none_win7/MD589-IHC59-2015.07.31-01.26.55_MD589_2_0176_prep2_none_win7_inception-bn-blue_features.bp\"\n"
     ]
    },
    {
     "name": "stderr",
     "output_type": "stream",
     "text": [
      "Save features: 4.29 seconds\n",
      "locate patches: 0.04 seconds\n"
     ]
    },
    {
     "name": "stdout",
     "output_type": "stream",
     "text": [
      "1\n"
     ]
    },
    {
     "name": "stderr",
     "output_type": "stream",
     "text": [
      "Features for MD589, 309/MD589-IHC59-2015.07.31-01.26.55_MD589_2_0176 does not exist.\n",
      "No pre-computed features found... computing from scratch.\n",
      "Not using image_cache.\n"
     ]
    },
    {
     "name": "stdout",
     "output_type": "stream",
     "text": [
      "/data/CSHL_data_processed/MD589/MD589_prep2_raw_gray/MD589-IHC59-2015.07.31-01.26.55_MD589_2_0176_prep2_raw_gray.tif\n"
     ]
    },
    {
     "name": "stderr",
     "output_type": "stream",
     "text": [
      "Load image: 1.29 seconds.\n",
      "Crop patches: 1.12 seconds.\n",
      "Extract patches: 2.42 seconds\n"
     ]
    },
    {
     "name": "stdout",
     "output_type": "stream",
     "text": [
      "(26980, 1, 224, 224)\n"
     ]
    },
    {
     "name": "stderr",
     "output_type": "stream",
     "text": [
      "Compute features: 52.97 seconds\n",
      "Compute features at one section, multiple locations: 55.42 seconds\n"
     ]
    },
    {
     "name": "stdout",
     "output_type": "stream",
     "text": [
      "aws s3 cp \"/data/CSHL_patch_features/inception-bn-blue/MD589/MD589_prep2_none_win7/MD589-IHC59-2015.07.31-01.26.55_MD589_2_0176_prep2_none_win7_inception-bn-blue_features.bp\" \"s3://mousebrainatlas-data/CSHL_patch_features/inception-bn-blue/MD589/MD589_prep2_none_win7/MD589-IHC59-2015.07.31-01.26.55_MD589_2_0176_prep2_none_win7_inception-bn-blue_features.bp\"\n",
      "0\n",
      "aws s3 cp \"/data/CSHL_patch_features/inception-bn-blue/MD589/MD589_prep2_none_win7/MD589-IHC59-2015.07.31-01.26.55_MD589_2_0176_prep2_none_win7_inception-bn-blue_locations.bp\" \"s3://mousebrainatlas-data/CSHL_patch_features/inception-bn-blue/MD589/MD589_prep2_none_win7/MD589-IHC59-2015.07.31-01.26.55_MD589_2_0176_prep2_none_win7_inception-bn-blue_locations.bp\"\n",
      "0\n",
      "rm -rf \"/data/CSHL_patch_features/inception-bn-blue/MD589/MD589_prep2_none_win7/MD589-N59-2015.07.30-20.07.00_MD589_3_0177_prep2_none_win7_inception-bn-blue_features.bp\" && mkdir -p \"/data/CSHL_patch_features/inception-bn-blue/MD589/MD589_prep2_none_win7\"\n",
      "0\n",
      "aws s3 cp \"s3://mousebrainatlas-data/CSHL_patch_features/inception-bn-blue/MD589/MD589_prep2_none_win7/MD589-N59-2015.07.30-20.07.00_MD589_3_0177_prep2_none_win7_inception-bn-blue_features.bp\" \"/data/CSHL_patch_features/inception-bn-blue/MD589/MD589_prep2_none_win7/MD589-N59-2015.07.30-20.07.00_MD589_3_0177_prep2_none_win7_inception-bn-blue_features.bp\"\n"
     ]
    },
    {
     "name": "stderr",
     "output_type": "stream",
     "text": [
      "Save features: 3.06 seconds\n",
      "locate patches: 0.02 seconds\n"
     ]
    },
    {
     "name": "stdout",
     "output_type": "stream",
     "text": [
      "1\n"
     ]
    },
    {
     "name": "stderr",
     "output_type": "stream",
     "text": [
      "Features for MD589, 310/MD589-N59-2015.07.30-20.07.00_MD589_3_0177 does not exist.\n",
      "No pre-computed features found... computing from scratch.\n",
      "Not using image_cache.\n"
     ]
    },
    {
     "name": "stdout",
     "output_type": "stream",
     "text": [
      "/data/CSHL_data_processed/MD589/MD589_prep2_raw_gray/MD589-N59-2015.07.30-20.07.00_MD589_3_0177_prep2_raw_gray.tif\n"
     ]
    },
    {
     "name": "stderr",
     "output_type": "stream",
     "text": [
      "Load image: 0.95 seconds.\n",
      "Crop patches: 0.83 seconds.\n",
      "Extract patches: 1.79 seconds\n"
     ]
    },
    {
     "name": "stdout",
     "output_type": "stream",
     "text": [
      "(26869, 1, 224, 224)\n"
     ]
    },
    {
     "name": "stderr",
     "output_type": "stream",
     "text": [
      "Compute features: 44.30 seconds\n",
      "Compute features at one section, multiple locations: 46.11 seconds\n"
     ]
    },
    {
     "name": "stdout",
     "output_type": "stream",
     "text": [
      "aws s3 cp \"/data/CSHL_patch_features/inception-bn-blue/MD589/MD589_prep2_none_win7/MD589-N59-2015.07.30-20.07.00_MD589_3_0177_prep2_none_win7_inception-bn-blue_features.bp\" \"s3://mousebrainatlas-data/CSHL_patch_features/inception-bn-blue/MD589/MD589_prep2_none_win7/MD589-N59-2015.07.30-20.07.00_MD589_3_0177_prep2_none_win7_inception-bn-blue_features.bp\"\n",
      "0\n",
      "aws s3 cp \"/data/CSHL_patch_features/inception-bn-blue/MD589/MD589_prep2_none_win7/MD589-N59-2015.07.30-20.07.00_MD589_3_0177_prep2_none_win7_inception-bn-blue_locations.bp\" \"s3://mousebrainatlas-data/CSHL_patch_features/inception-bn-blue/MD589/MD589_prep2_none_win7/MD589-N59-2015.07.30-20.07.00_MD589_3_0177_prep2_none_win7_inception-bn-blue_locations.bp\"\n",
      "0\n",
      "rm -rf \"/data/CSHL_patch_features/inception-bn-blue/MD589/MD589_prep2_none_win7/MD589-IHC59-2015.07.31-01.26.55_MD589_3_0177_prep2_none_win7_inception-bn-blue_features.bp\" && mkdir -p \"/data/CSHL_patch_features/inception-bn-blue/MD589/MD589_prep2_none_win7\"\n",
      "0\n",
      "aws s3 cp \"s3://mousebrainatlas-data/CSHL_patch_features/inception-bn-blue/MD589/MD589_prep2_none_win7/MD589-IHC59-2015.07.31-01.26.55_MD589_3_0177_prep2_none_win7_inception-bn-blue_features.bp\" \"/data/CSHL_patch_features/inception-bn-blue/MD589/MD589_prep2_none_win7/MD589-IHC59-2015.07.31-01.26.55_MD589_3_0177_prep2_none_win7_inception-bn-blue_features.bp\"\n"
     ]
    },
    {
     "name": "stderr",
     "output_type": "stream",
     "text": [
      "Save features: 3.16 seconds\n",
      "locate patches: 0.02 seconds\n"
     ]
    },
    {
     "name": "stdout",
     "output_type": "stream",
     "text": [
      "1\n"
     ]
    },
    {
     "name": "stderr",
     "output_type": "stream",
     "text": [
      "Features for MD589, 311/MD589-IHC59-2015.07.31-01.26.55_MD589_3_0177 does not exist.\n",
      "No pre-computed features found... computing from scratch.\n",
      "Not using image_cache.\n"
     ]
    },
    {
     "name": "stdout",
     "output_type": "stream",
     "text": [
      "/data/CSHL_data_processed/MD589/MD589_prep2_raw_gray/MD589-IHC59-2015.07.31-01.26.55_MD589_3_0177_prep2_raw_gray.tif\n"
     ]
    },
    {
     "name": "stderr",
     "output_type": "stream",
     "text": [
      "Load image: 0.90 seconds.\n",
      "Crop patches: 0.79 seconds.\n",
      "Extract patches: 1.71 seconds\n"
     ]
    },
    {
     "name": "stdout",
     "output_type": "stream",
     "text": [
      "(26704, 1, 224, 224)\n"
     ]
    },
    {
     "name": "stderr",
     "output_type": "stream",
     "text": [
      "Compute features: 43.05 seconds\n",
      "Compute features at one section, multiple locations: 44.78 seconds\n"
     ]
    },
    {
     "name": "stdout",
     "output_type": "stream",
     "text": [
      "aws s3 cp \"/data/CSHL_patch_features/inception-bn-blue/MD589/MD589_prep2_none_win7/MD589-IHC59-2015.07.31-01.26.55_MD589_3_0177_prep2_none_win7_inception-bn-blue_features.bp\" \"s3://mousebrainatlas-data/CSHL_patch_features/inception-bn-blue/MD589/MD589_prep2_none_win7/MD589-IHC59-2015.07.31-01.26.55_MD589_3_0177_prep2_none_win7_inception-bn-blue_features.bp\"\n",
      "0\n",
      "aws s3 cp \"/data/CSHL_patch_features/inception-bn-blue/MD589/MD589_prep2_none_win7/MD589-IHC59-2015.07.31-01.26.55_MD589_3_0177_prep2_none_win7_inception-bn-blue_locations.bp\" \"s3://mousebrainatlas-data/CSHL_patch_features/inception-bn-blue/MD589/MD589_prep2_none_win7/MD589-IHC59-2015.07.31-01.26.55_MD589_3_0177_prep2_none_win7_inception-bn-blue_locations.bp\"\n",
      "0\n",
      "rm -rf \"/data/CSHL_patch_features/inception-bn-blue/MD589/MD589_prep2_none_win7/MD589-N60-2015.07.30-20.11.20_MD589_1_0178_prep2_none_win7_inception-bn-blue_features.bp\" && mkdir -p \"/data/CSHL_patch_features/inception-bn-blue/MD589/MD589_prep2_none_win7\"\n",
      "0\n",
      "aws s3 cp \"s3://mousebrainatlas-data/CSHL_patch_features/inception-bn-blue/MD589/MD589_prep2_none_win7/MD589-N60-2015.07.30-20.11.20_MD589_1_0178_prep2_none_win7_inception-bn-blue_features.bp\" \"/data/CSHL_patch_features/inception-bn-blue/MD589/MD589_prep2_none_win7/MD589-N60-2015.07.30-20.11.20_MD589_1_0178_prep2_none_win7_inception-bn-blue_features.bp\"\n"
     ]
    },
    {
     "name": "stderr",
     "output_type": "stream",
     "text": [
      "Save features: 3.12 seconds\n",
      "locate patches: 0.02 seconds\n"
     ]
    },
    {
     "name": "stdout",
     "output_type": "stream",
     "text": [
      "1\n"
     ]
    },
    {
     "name": "stderr",
     "output_type": "stream",
     "text": [
      "Features for MD589, 312/MD589-N60-2015.07.30-20.11.20_MD589_1_0178 does not exist.\n",
      "No pre-computed features found... computing from scratch.\n",
      "Not using image_cache.\n"
     ]
    },
    {
     "name": "stdout",
     "output_type": "stream",
     "text": [
      "/data/CSHL_data_processed/MD589/MD589_prep2_raw_gray/MD589-N60-2015.07.30-20.11.20_MD589_1_0178_prep2_raw_gray.tif\n"
     ]
    },
    {
     "name": "stderr",
     "output_type": "stream",
     "text": [
      "Load image: 0.96 seconds.\n",
      "Crop patches: 0.82 seconds.\n",
      "Extract patches: 1.80 seconds\n"
     ]
    },
    {
     "name": "stdout",
     "output_type": "stream",
     "text": [
      "(26528, 1, 224, 224)\n"
     ]
    },
    {
     "name": "stderr",
     "output_type": "stream",
     "text": [
      "Compute features: 43.39 seconds\n",
      "Compute features at one section, multiple locations: 45.20 seconds\n"
     ]
    },
    {
     "name": "stdout",
     "output_type": "stream",
     "text": [
      "aws s3 cp \"/data/CSHL_patch_features/inception-bn-blue/MD589/MD589_prep2_none_win7/MD589-N60-2015.07.30-20.11.20_MD589_1_0178_prep2_none_win7_inception-bn-blue_features.bp\" \"s3://mousebrainatlas-data/CSHL_patch_features/inception-bn-blue/MD589/MD589_prep2_none_win7/MD589-N60-2015.07.30-20.11.20_MD589_1_0178_prep2_none_win7_inception-bn-blue_features.bp\"\n",
      "0\n",
      "aws s3 cp \"/data/CSHL_patch_features/inception-bn-blue/MD589/MD589_prep2_none_win7/MD589-N60-2015.07.30-20.11.20_MD589_1_0178_prep2_none_win7_inception-bn-blue_locations.bp\" \"s3://mousebrainatlas-data/CSHL_patch_features/inception-bn-blue/MD589/MD589_prep2_none_win7/MD589-N60-2015.07.30-20.11.20_MD589_1_0178_prep2_none_win7_inception-bn-blue_locations.bp\"\n",
      "0\n",
      "rm -rf \"/data/CSHL_patch_features/inception-bn-blue/MD589/MD589_prep2_none_win7/MD589-IHC60-2015.07.31-01.31.11_MD589_1_0178_prep2_none_win7_inception-bn-blue_features.bp\" && mkdir -p \"/data/CSHL_patch_features/inception-bn-blue/MD589/MD589_prep2_none_win7\"\n",
      "0\n",
      "aws s3 cp \"s3://mousebrainatlas-data/CSHL_patch_features/inception-bn-blue/MD589/MD589_prep2_none_win7/MD589-IHC60-2015.07.31-01.31.11_MD589_1_0178_prep2_none_win7_inception-bn-blue_features.bp\" \"/data/CSHL_patch_features/inception-bn-blue/MD589/MD589_prep2_none_win7/MD589-IHC60-2015.07.31-01.31.11_MD589_1_0178_prep2_none_win7_inception-bn-blue_features.bp\"\n"
     ]
    },
    {
     "name": "stderr",
     "output_type": "stream",
     "text": [
      "Save features: 3.28 seconds\n",
      "locate patches: 0.02 seconds\n"
     ]
    },
    {
     "name": "stdout",
     "output_type": "stream",
     "text": [
      "1\n"
     ]
    },
    {
     "name": "stderr",
     "output_type": "stream",
     "text": [
      "Features for MD589, 313/MD589-IHC60-2015.07.31-01.31.11_MD589_1_0178 does not exist.\n",
      "No pre-computed features found... computing from scratch.\n",
      "Not using image_cache.\n"
     ]
    },
    {
     "name": "stdout",
     "output_type": "stream",
     "text": [
      "/data/CSHL_data_processed/MD589/MD589_prep2_raw_gray/MD589-IHC60-2015.07.31-01.31.11_MD589_1_0178_prep2_raw_gray.tif\n"
     ]
    },
    {
     "name": "stderr",
     "output_type": "stream",
     "text": [
      "Load image: 0.92 seconds.\n",
      "Crop patches: 0.71 seconds.\n",
      "Extract patches: 1.65 seconds\n"
     ]
    },
    {
     "name": "stdout",
     "output_type": "stream",
     "text": [
      "(26381, 1, 224, 224)\n"
     ]
    },
    {
     "name": "stderr",
     "output_type": "stream",
     "text": [
      "Compute features: 42.79 seconds\n",
      "Compute features at one section, multiple locations: 44.45 seconds\n"
     ]
    },
    {
     "name": "stdout",
     "output_type": "stream",
     "text": [
      "aws s3 cp \"/data/CSHL_patch_features/inception-bn-blue/MD589/MD589_prep2_none_win7/MD589-IHC60-2015.07.31-01.31.11_MD589_1_0178_prep2_none_win7_inception-bn-blue_features.bp\" \"s3://mousebrainatlas-data/CSHL_patch_features/inception-bn-blue/MD589/MD589_prep2_none_win7/MD589-IHC60-2015.07.31-01.31.11_MD589_1_0178_prep2_none_win7_inception-bn-blue_features.bp\"\n",
      "0\n",
      "aws s3 cp \"/data/CSHL_patch_features/inception-bn-blue/MD589/MD589_prep2_none_win7/MD589-IHC60-2015.07.31-01.31.11_MD589_1_0178_prep2_none_win7_inception-bn-blue_locations.bp\" \"s3://mousebrainatlas-data/CSHL_patch_features/inception-bn-blue/MD589/MD589_prep2_none_win7/MD589-IHC60-2015.07.31-01.31.11_MD589_1_0178_prep2_none_win7_inception-bn-blue_locations.bp\"\n",
      "0\n",
      "rm -rf \"/data/CSHL_patch_features/inception-bn-blue/MD589/MD589_prep2_none_win7/MD589-N60-2015.07.30-20.11.20_MD589_2_0179_prep2_none_win7_inception-bn-blue_features.bp\" && mkdir -p \"/data/CSHL_patch_features/inception-bn-blue/MD589/MD589_prep2_none_win7\"\n",
      "0\n",
      "aws s3 cp \"s3://mousebrainatlas-data/CSHL_patch_features/inception-bn-blue/MD589/MD589_prep2_none_win7/MD589-N60-2015.07.30-20.11.20_MD589_2_0179_prep2_none_win7_inception-bn-blue_features.bp\" \"/data/CSHL_patch_features/inception-bn-blue/MD589/MD589_prep2_none_win7/MD589-N60-2015.07.30-20.11.20_MD589_2_0179_prep2_none_win7_inception-bn-blue_features.bp\"\n"
     ]
    },
    {
     "name": "stderr",
     "output_type": "stream",
     "text": [
      "Save features: 4.98 seconds\n",
      "locate patches: 0.02 seconds\n"
     ]
    },
    {
     "name": "stdout",
     "output_type": "stream",
     "text": [
      "1\n"
     ]
    },
    {
     "name": "stderr",
     "output_type": "stream",
     "text": [
      "Features for MD589, 314/MD589-N60-2015.07.30-20.11.20_MD589_2_0179 does not exist.\n",
      "No pre-computed features found... computing from scratch.\n",
      "Not using image_cache.\n"
     ]
    },
    {
     "name": "stdout",
     "output_type": "stream",
     "text": [
      "/data/CSHL_data_processed/MD589/MD589_prep2_raw_gray/MD589-N60-2015.07.30-20.11.20_MD589_2_0179_prep2_raw_gray.tif\n"
     ]
    },
    {
     "name": "stderr",
     "output_type": "stream",
     "text": [
      "Load image: 0.97 seconds.\n",
      "Crop patches: 0.80 seconds.\n",
      "Extract patches: 1.79 seconds\n"
     ]
    },
    {
     "name": "stdout",
     "output_type": "stream",
     "text": [
      "(26147, 1, 224, 224)\n"
     ]
    },
    {
     "name": "stderr",
     "output_type": "stream",
     "text": [
      "Compute features: 42.67 seconds\n",
      "Compute features at one section, multiple locations: 44.46 seconds\n"
     ]
    },
    {
     "name": "stdout",
     "output_type": "stream",
     "text": [
      "aws s3 cp \"/data/CSHL_patch_features/inception-bn-blue/MD589/MD589_prep2_none_win7/MD589-N60-2015.07.30-20.11.20_MD589_2_0179_prep2_none_win7_inception-bn-blue_features.bp\" \"s3://mousebrainatlas-data/CSHL_patch_features/inception-bn-blue/MD589/MD589_prep2_none_win7/MD589-N60-2015.07.30-20.11.20_MD589_2_0179_prep2_none_win7_inception-bn-blue_features.bp\"\n",
      "0\n",
      "aws s3 cp \"/data/CSHL_patch_features/inception-bn-blue/MD589/MD589_prep2_none_win7/MD589-N60-2015.07.30-20.11.20_MD589_2_0179_prep2_none_win7_inception-bn-blue_locations.bp\" \"s3://mousebrainatlas-data/CSHL_patch_features/inception-bn-blue/MD589/MD589_prep2_none_win7/MD589-N60-2015.07.30-20.11.20_MD589_2_0179_prep2_none_win7_inception-bn-blue_locations.bp\"\n",
      "0\n",
      "rm -rf \"/data/CSHL_patch_features/inception-bn-blue/MD589/MD589_prep2_none_win7/MD589-IHC60-2015.07.31-01.31.11_MD589_2_0179_prep2_none_win7_inception-bn-blue_features.bp\" && mkdir -p \"/data/CSHL_patch_features/inception-bn-blue/MD589/MD589_prep2_none_win7\"\n",
      "0\n",
      "aws s3 cp \"s3://mousebrainatlas-data/CSHL_patch_features/inception-bn-blue/MD589/MD589_prep2_none_win7/MD589-IHC60-2015.07.31-01.31.11_MD589_2_0179_prep2_none_win7_inception-bn-blue_features.bp\" \"/data/CSHL_patch_features/inception-bn-blue/MD589/MD589_prep2_none_win7/MD589-IHC60-2015.07.31-01.31.11_MD589_2_0179_prep2_none_win7_inception-bn-blue_features.bp\"\n"
     ]
    },
    {
     "name": "stderr",
     "output_type": "stream",
     "text": [
      "Save features: 3.90 seconds\n",
      "locate patches: 0.02 seconds\n"
     ]
    },
    {
     "name": "stdout",
     "output_type": "stream",
     "text": [
      "1\n"
     ]
    },
    {
     "name": "stderr",
     "output_type": "stream",
     "text": [
      "Features for MD589, 315/MD589-IHC60-2015.07.31-01.31.11_MD589_2_0179 does not exist.\n",
      "No pre-computed features found... computing from scratch.\n",
      "Not using image_cache.\n"
     ]
    },
    {
     "name": "stdout",
     "output_type": "stream",
     "text": [
      "/data/CSHL_data_processed/MD589/MD589_prep2_raw_gray/MD589-IHC60-2015.07.31-01.31.11_MD589_2_0179_prep2_raw_gray.tif\n"
     ]
    },
    {
     "name": "stderr",
     "output_type": "stream",
     "text": [
      "Load image: 0.96 seconds.\n",
      "Crop patches: 0.80 seconds.\n",
      "Extract patches: 1.78 seconds\n"
     ]
    },
    {
     "name": "stdout",
     "output_type": "stream",
     "text": [
      "(26167, 1, 224, 224)\n"
     ]
    },
    {
     "name": "stderr",
     "output_type": "stream",
     "text": [
      "Compute features: 42.69 seconds\n",
      "Compute features at one section, multiple locations: 44.49 seconds\n"
     ]
    },
    {
     "name": "stdout",
     "output_type": "stream",
     "text": [
      "aws s3 cp \"/data/CSHL_patch_features/inception-bn-blue/MD589/MD589_prep2_none_win7/MD589-IHC60-2015.07.31-01.31.11_MD589_2_0179_prep2_none_win7_inception-bn-blue_features.bp\" \"s3://mousebrainatlas-data/CSHL_patch_features/inception-bn-blue/MD589/MD589_prep2_none_win7/MD589-IHC60-2015.07.31-01.31.11_MD589_2_0179_prep2_none_win7_inception-bn-blue_features.bp\"\n",
      "0\n",
      "aws s3 cp \"/data/CSHL_patch_features/inception-bn-blue/MD589/MD589_prep2_none_win7/MD589-IHC60-2015.07.31-01.31.11_MD589_2_0179_prep2_none_win7_inception-bn-blue_locations.bp\" \"s3://mousebrainatlas-data/CSHL_patch_features/inception-bn-blue/MD589/MD589_prep2_none_win7/MD589-IHC60-2015.07.31-01.31.11_MD589_2_0179_prep2_none_win7_inception-bn-blue_locations.bp\"\n",
      "0\n",
      "rm -rf \"/data/CSHL_patch_features/inception-bn-blue/MD589/MD589_prep2_none_win7/MD589-N60-2015.07.30-20.11.20_MD589_3_0180_prep2_none_win7_inception-bn-blue_features.bp\" && mkdir -p \"/data/CSHL_patch_features/inception-bn-blue/MD589/MD589_prep2_none_win7\"\n",
      "0\n",
      "aws s3 cp \"s3://mousebrainatlas-data/CSHL_patch_features/inception-bn-blue/MD589/MD589_prep2_none_win7/MD589-N60-2015.07.30-20.11.20_MD589_3_0180_prep2_none_win7_inception-bn-blue_features.bp\" \"/data/CSHL_patch_features/inception-bn-blue/MD589/MD589_prep2_none_win7/MD589-N60-2015.07.30-20.11.20_MD589_3_0180_prep2_none_win7_inception-bn-blue_features.bp\"\n"
     ]
    },
    {
     "name": "stderr",
     "output_type": "stream",
     "text": [
      "Save features: 4.23 seconds\n",
      "locate patches: 0.02 seconds\n"
     ]
    },
    {
     "name": "stdout",
     "output_type": "stream",
     "text": [
      "1\n"
     ]
    },
    {
     "name": "stderr",
     "output_type": "stream",
     "text": [
      "Features for MD589, 316/MD589-N60-2015.07.30-20.11.20_MD589_3_0180 does not exist.\n",
      "No pre-computed features found... computing from scratch.\n",
      "Not using image_cache.\n"
     ]
    },
    {
     "name": "stdout",
     "output_type": "stream",
     "text": [
      "/data/CSHL_data_processed/MD589/MD589_prep2_raw_gray/MD589-N60-2015.07.30-20.11.20_MD589_3_0180_prep2_raw_gray.tif\n"
     ]
    },
    {
     "name": "stderr",
     "output_type": "stream",
     "text": [
      "Load image: 0.94 seconds.\n",
      "Crop patches: 0.77 seconds.\n",
      "Extract patches: 1.73 seconds\n"
     ]
    },
    {
     "name": "stdout",
     "output_type": "stream",
     "text": [
      "(25914, 1, 224, 224)\n"
     ]
    },
    {
     "name": "stderr",
     "output_type": "stream",
     "text": [
      "Compute features: 41.96 seconds\n",
      "Compute features at one section, multiple locations: 43.70 seconds\n"
     ]
    },
    {
     "name": "stdout",
     "output_type": "stream",
     "text": [
      "aws s3 cp \"/data/CSHL_patch_features/inception-bn-blue/MD589/MD589_prep2_none_win7/MD589-N60-2015.07.30-20.11.20_MD589_3_0180_prep2_none_win7_inception-bn-blue_features.bp\" \"s3://mousebrainatlas-data/CSHL_patch_features/inception-bn-blue/MD589/MD589_prep2_none_win7/MD589-N60-2015.07.30-20.11.20_MD589_3_0180_prep2_none_win7_inception-bn-blue_features.bp\"\n",
      "0\n",
      "aws s3 cp \"/data/CSHL_patch_features/inception-bn-blue/MD589/MD589_prep2_none_win7/MD589-N60-2015.07.30-20.11.20_MD589_3_0180_prep2_none_win7_inception-bn-blue_locations.bp\" \"s3://mousebrainatlas-data/CSHL_patch_features/inception-bn-blue/MD589/MD589_prep2_none_win7/MD589-N60-2015.07.30-20.11.20_MD589_3_0180_prep2_none_win7_inception-bn-blue_locations.bp\"\n",
      "0\n",
      "rm -rf \"/data/CSHL_patch_features/inception-bn-blue/MD589/MD589_prep2_none_win7/MD589-IHC60-2015.07.31-01.31.11_MD589_3_0180_prep2_none_win7_inception-bn-blue_features.bp\" && mkdir -p \"/data/CSHL_patch_features/inception-bn-blue/MD589/MD589_prep2_none_win7\"\n",
      "0\n",
      "aws s3 cp \"s3://mousebrainatlas-data/CSHL_patch_features/inception-bn-blue/MD589/MD589_prep2_none_win7/MD589-IHC60-2015.07.31-01.31.11_MD589_3_0180_prep2_none_win7_inception-bn-blue_features.bp\" \"/data/CSHL_patch_features/inception-bn-blue/MD589/MD589_prep2_none_win7/MD589-IHC60-2015.07.31-01.31.11_MD589_3_0180_prep2_none_win7_inception-bn-blue_features.bp\"\n"
     ]
    },
    {
     "name": "stderr",
     "output_type": "stream",
     "text": [
      "Save features: 3.40 seconds\n",
      "locate patches: 0.02 seconds\n"
     ]
    },
    {
     "name": "stdout",
     "output_type": "stream",
     "text": [
      "1\n"
     ]
    },
    {
     "name": "stderr",
     "output_type": "stream",
     "text": [
      "Features for MD589, 317/MD589-IHC60-2015.07.31-01.31.11_MD589_3_0180 does not exist.\n",
      "No pre-computed features found... computing from scratch.\n",
      "Not using image_cache.\n"
     ]
    },
    {
     "name": "stdout",
     "output_type": "stream",
     "text": [
      "/data/CSHL_data_processed/MD589/MD589_prep2_raw_gray/MD589-IHC60-2015.07.31-01.31.11_MD589_3_0180_prep2_raw_gray.tif\n"
     ]
    },
    {
     "name": "stderr",
     "output_type": "stream",
     "text": [
      "Load image: 0.98 seconds.\n",
      "Crop patches: 0.79 seconds.\n",
      "Extract patches: 1.79 seconds\n"
     ]
    },
    {
     "name": "stdout",
     "output_type": "stream",
     "text": [
      "(25796, 1, 224, 224)\n"
     ]
    },
    {
     "name": "stderr",
     "output_type": "stream",
     "text": [
      "Compute features: 41.90 seconds\n",
      "Compute features at one section, multiple locations: 43.71 seconds\n"
     ]
    },
    {
     "name": "stdout",
     "output_type": "stream",
     "text": [
      "aws s3 cp \"/data/CSHL_patch_features/inception-bn-blue/MD589/MD589_prep2_none_win7/MD589-IHC60-2015.07.31-01.31.11_MD589_3_0180_prep2_none_win7_inception-bn-blue_features.bp\" \"s3://mousebrainatlas-data/CSHL_patch_features/inception-bn-blue/MD589/MD589_prep2_none_win7/MD589-IHC60-2015.07.31-01.31.11_MD589_3_0180_prep2_none_win7_inception-bn-blue_features.bp\"\n",
      "0\n",
      "aws s3 cp \"/data/CSHL_patch_features/inception-bn-blue/MD589/MD589_prep2_none_win7/MD589-IHC60-2015.07.31-01.31.11_MD589_3_0180_prep2_none_win7_inception-bn-blue_locations.bp\" \"s3://mousebrainatlas-data/CSHL_patch_features/inception-bn-blue/MD589/MD589_prep2_none_win7/MD589-IHC60-2015.07.31-01.31.11_MD589_3_0180_prep2_none_win7_inception-bn-blue_locations.bp\"\n",
      "0\n",
      "rm -rf \"/data/CSHL_patch_features/inception-bn-blue/MD589/MD589_prep2_none_win7/MD589-N61-2015.07.30-20.15.47_MD589_1_0181_prep2_none_win7_inception-bn-blue_features.bp\" && mkdir -p \"/data/CSHL_patch_features/inception-bn-blue/MD589/MD589_prep2_none_win7\"\n",
      "0\n",
      "aws s3 cp \"s3://mousebrainatlas-data/CSHL_patch_features/inception-bn-blue/MD589/MD589_prep2_none_win7/MD589-N61-2015.07.30-20.15.47_MD589_1_0181_prep2_none_win7_inception-bn-blue_features.bp\" \"/data/CSHL_patch_features/inception-bn-blue/MD589/MD589_prep2_none_win7/MD589-N61-2015.07.30-20.15.47_MD589_1_0181_prep2_none_win7_inception-bn-blue_features.bp\"\n"
     ]
    },
    {
     "name": "stderr",
     "output_type": "stream",
     "text": [
      "Save features: 2.95 seconds\n",
      "locate patches: 0.02 seconds\n"
     ]
    },
    {
     "name": "stdout",
     "output_type": "stream",
     "text": [
      "1\n"
     ]
    },
    {
     "name": "stderr",
     "output_type": "stream",
     "text": [
      "Features for MD589, 318/MD589-N61-2015.07.30-20.15.47_MD589_1_0181 does not exist.\n",
      "No pre-computed features found... computing from scratch.\n",
      "Not using image_cache.\n"
     ]
    },
    {
     "name": "stdout",
     "output_type": "stream",
     "text": [
      "/data/CSHL_data_processed/MD589/MD589_prep2_raw_gray/MD589-N61-2015.07.30-20.15.47_MD589_1_0181_prep2_raw_gray.tif\n"
     ]
    },
    {
     "name": "stderr",
     "output_type": "stream",
     "text": [
      "Load image: 0.92 seconds.\n",
      "Crop patches: 0.79 seconds.\n",
      "Extract patches: 1.73 seconds\n"
     ]
    },
    {
     "name": "stdout",
     "output_type": "stream",
     "text": [
      "(25591, 1, 224, 224)\n"
     ]
    },
    {
     "name": "stderr",
     "output_type": "stream",
     "text": [
      "Compute features: 42.79 seconds\n",
      "Compute features at one section, multiple locations: 44.53 seconds\n"
     ]
    },
    {
     "name": "stdout",
     "output_type": "stream",
     "text": [
      "aws s3 cp \"/data/CSHL_patch_features/inception-bn-blue/MD589/MD589_prep2_none_win7/MD589-N61-2015.07.30-20.15.47_MD589_1_0181_prep2_none_win7_inception-bn-blue_features.bp\" \"s3://mousebrainatlas-data/CSHL_patch_features/inception-bn-blue/MD589/MD589_prep2_none_win7/MD589-N61-2015.07.30-20.15.47_MD589_1_0181_prep2_none_win7_inception-bn-blue_features.bp\"\n",
      "0\n",
      "aws s3 cp \"/data/CSHL_patch_features/inception-bn-blue/MD589/MD589_prep2_none_win7/MD589-N61-2015.07.30-20.15.47_MD589_1_0181_prep2_none_win7_inception-bn-blue_locations.bp\" \"s3://mousebrainatlas-data/CSHL_patch_features/inception-bn-blue/MD589/MD589_prep2_none_win7/MD589-N61-2015.07.30-20.15.47_MD589_1_0181_prep2_none_win7_inception-bn-blue_locations.bp\"\n",
      "0\n",
      "rm -rf \"/data/CSHL_patch_features/inception-bn-blue/MD589/MD589_prep2_none_win7/MD589-IHC61-2015.07.31-01.35.17_MD589_1_0181_prep2_none_win7_inception-bn-blue_features.bp\" && mkdir -p \"/data/CSHL_patch_features/inception-bn-blue/MD589/MD589_prep2_none_win7\"\n",
      "0\n",
      "aws s3 cp \"s3://mousebrainatlas-data/CSHL_patch_features/inception-bn-blue/MD589/MD589_prep2_none_win7/MD589-IHC61-2015.07.31-01.35.17_MD589_1_0181_prep2_none_win7_inception-bn-blue_features.bp\" \"/data/CSHL_patch_features/inception-bn-blue/MD589/MD589_prep2_none_win7/MD589-IHC61-2015.07.31-01.35.17_MD589_1_0181_prep2_none_win7_inception-bn-blue_features.bp\"\n"
     ]
    },
    {
     "name": "stderr",
     "output_type": "stream",
     "text": [
      "Save features: 3.35 seconds\n",
      "locate patches: 0.03 seconds\n"
     ]
    },
    {
     "name": "stdout",
     "output_type": "stream",
     "text": [
      "1\n"
     ]
    },
    {
     "name": "stderr",
     "output_type": "stream",
     "text": [
      "Features for MD589, 319/MD589-IHC61-2015.07.31-01.35.17_MD589_1_0181 does not exist.\n",
      "No pre-computed features found... computing from scratch.\n",
      "Not using image_cache.\n"
     ]
    },
    {
     "name": "stdout",
     "output_type": "stream",
     "text": [
      "/data/CSHL_data_processed/MD589/MD589_prep2_raw_gray/MD589-IHC61-2015.07.31-01.35.17_MD589_1_0181_prep2_raw_gray.tif\n"
     ]
    },
    {
     "name": "stderr",
     "output_type": "stream",
     "text": [
      "Load image: 0.95 seconds.\n",
      "Crop patches: 0.84 seconds.\n",
      "Extract patches: 1.81 seconds\n"
     ]
    },
    {
     "name": "stdout",
     "output_type": "stream",
     "text": [
      "(25620, 1, 224, 224)\n"
     ]
    },
    {
     "name": "stderr",
     "output_type": "stream",
     "text": [
      "Compute features: 41.13 seconds\n",
      "Compute features at one section, multiple locations: 42.99 seconds\n"
     ]
    },
    {
     "name": "stdout",
     "output_type": "stream",
     "text": [
      "aws s3 cp \"/data/CSHL_patch_features/inception-bn-blue/MD589/MD589_prep2_none_win7/MD589-IHC61-2015.07.31-01.35.17_MD589_1_0181_prep2_none_win7_inception-bn-blue_features.bp\" \"s3://mousebrainatlas-data/CSHL_patch_features/inception-bn-blue/MD589/MD589_prep2_none_win7/MD589-IHC61-2015.07.31-01.35.17_MD589_1_0181_prep2_none_win7_inception-bn-blue_features.bp\"\n",
      "0\n",
      "aws s3 cp \"/data/CSHL_patch_features/inception-bn-blue/MD589/MD589_prep2_none_win7/MD589-IHC61-2015.07.31-01.35.17_MD589_1_0181_prep2_none_win7_inception-bn-blue_locations.bp\" \"s3://mousebrainatlas-data/CSHL_patch_features/inception-bn-blue/MD589/MD589_prep2_none_win7/MD589-IHC61-2015.07.31-01.35.17_MD589_1_0181_prep2_none_win7_inception-bn-blue_locations.bp\"\n",
      "0\n",
      "rm -rf \"/data/CSHL_patch_features/inception-bn-blue/MD589/MD589_prep2_none_win7/MD589-N61-2015.07.30-20.15.47_MD589_2_0182_prep2_none_win7_inception-bn-blue_features.bp\" && mkdir -p \"/data/CSHL_patch_features/inception-bn-blue/MD589/MD589_prep2_none_win7\"\n",
      "0\n",
      "aws s3 cp \"s3://mousebrainatlas-data/CSHL_patch_features/inception-bn-blue/MD589/MD589_prep2_none_win7/MD589-N61-2015.07.30-20.15.47_MD589_2_0182_prep2_none_win7_inception-bn-blue_features.bp\" \"/data/CSHL_patch_features/inception-bn-blue/MD589/MD589_prep2_none_win7/MD589-N61-2015.07.30-20.15.47_MD589_2_0182_prep2_none_win7_inception-bn-blue_features.bp\"\n"
     ]
    },
    {
     "name": "stderr",
     "output_type": "stream",
     "text": [
      "Save features: 3.25 seconds\n",
      "locate patches: 0.02 seconds\n"
     ]
    },
    {
     "name": "stdout",
     "output_type": "stream",
     "text": [
      "1\n"
     ]
    },
    {
     "name": "stderr",
     "output_type": "stream",
     "text": [
      "Features for MD589, 320/MD589-N61-2015.07.30-20.15.47_MD589_2_0182 does not exist.\n",
      "No pre-computed features found... computing from scratch.\n",
      "Not using image_cache.\n"
     ]
    },
    {
     "name": "stdout",
     "output_type": "stream",
     "text": [
      "/data/CSHL_data_processed/MD589/MD589_prep2_raw_gray/MD589-N61-2015.07.30-20.15.47_MD589_2_0182_prep2_raw_gray.tif\n"
     ]
    },
    {
     "name": "stderr",
     "output_type": "stream",
     "text": [
      "Load image: 0.90 seconds.\n",
      "Crop patches: 0.90 seconds.\n",
      "Extract patches: 1.80 seconds\n"
     ]
    },
    {
     "name": "stdout",
     "output_type": "stream",
     "text": [
      "(25376, 1, 224, 224)\n"
     ]
    },
    {
     "name": "stderr",
     "output_type": "stream",
     "text": [
      "Compute features: 41.11 seconds\n",
      "Compute features at one section, multiple locations: 42.92 seconds\n"
     ]
    },
    {
     "name": "stdout",
     "output_type": "stream",
     "text": [
      "aws s3 cp \"/data/CSHL_patch_features/inception-bn-blue/MD589/MD589_prep2_none_win7/MD589-N61-2015.07.30-20.15.47_MD589_2_0182_prep2_none_win7_inception-bn-blue_features.bp\" \"s3://mousebrainatlas-data/CSHL_patch_features/inception-bn-blue/MD589/MD589_prep2_none_win7/MD589-N61-2015.07.30-20.15.47_MD589_2_0182_prep2_none_win7_inception-bn-blue_features.bp\"\n",
      "0\n",
      "aws s3 cp \"/data/CSHL_patch_features/inception-bn-blue/MD589/MD589_prep2_none_win7/MD589-N61-2015.07.30-20.15.47_MD589_2_0182_prep2_none_win7_inception-bn-blue_locations.bp\" \"s3://mousebrainatlas-data/CSHL_patch_features/inception-bn-blue/MD589/MD589_prep2_none_win7/MD589-N61-2015.07.30-20.15.47_MD589_2_0182_prep2_none_win7_inception-bn-blue_locations.bp\"\n",
      "0\n",
      "rm -rf \"/data/CSHL_patch_features/inception-bn-blue/MD589/MD589_prep2_none_win7/MD589-IHC61-2015.07.31-01.35.17_MD589_2_0182_prep2_none_win7_inception-bn-blue_features.bp\" && mkdir -p \"/data/CSHL_patch_features/inception-bn-blue/MD589/MD589_prep2_none_win7\"\n",
      "0\n",
      "aws s3 cp \"s3://mousebrainatlas-data/CSHL_patch_features/inception-bn-blue/MD589/MD589_prep2_none_win7/MD589-IHC61-2015.07.31-01.35.17_MD589_2_0182_prep2_none_win7_inception-bn-blue_features.bp\" \"/data/CSHL_patch_features/inception-bn-blue/MD589/MD589_prep2_none_win7/MD589-IHC61-2015.07.31-01.35.17_MD589_2_0182_prep2_none_win7_inception-bn-blue_features.bp\"\n"
     ]
    },
    {
     "name": "stderr",
     "output_type": "stream",
     "text": [
      "Save features: 3.05 seconds\n",
      "locate patches: 0.02 seconds\n"
     ]
    },
    {
     "name": "stdout",
     "output_type": "stream",
     "text": [
      "1\n"
     ]
    },
    {
     "name": "stderr",
     "output_type": "stream",
     "text": [
      "Features for MD589, 321/MD589-IHC61-2015.07.31-01.35.17_MD589_2_0182 does not exist.\n",
      "No pre-computed features found... computing from scratch.\n",
      "Not using image_cache.\n"
     ]
    },
    {
     "name": "stdout",
     "output_type": "stream",
     "text": [
      "/data/CSHL_data_processed/MD589/MD589_prep2_raw_gray/MD589-IHC61-2015.07.31-01.35.17_MD589_2_0182_prep2_raw_gray.tif\n"
     ]
    },
    {
     "name": "stderr",
     "output_type": "stream",
     "text": [
      "Load image: 0.89 seconds.\n",
      "Crop patches: 0.90 seconds.\n",
      "Extract patches: 1.81 seconds\n"
     ]
    },
    {
     "name": "stdout",
     "output_type": "stream",
     "text": [
      "(25378, 1, 224, 224)\n"
     ]
    },
    {
     "name": "stderr",
     "output_type": "stream",
     "text": [
      "Compute features: 40.80 seconds\n",
      "Compute features at one section, multiple locations: 42.63 seconds\n"
     ]
    },
    {
     "name": "stdout",
     "output_type": "stream",
     "text": [
      "aws s3 cp \"/data/CSHL_patch_features/inception-bn-blue/MD589/MD589_prep2_none_win7/MD589-IHC61-2015.07.31-01.35.17_MD589_2_0182_prep2_none_win7_inception-bn-blue_features.bp\" \"s3://mousebrainatlas-data/CSHL_patch_features/inception-bn-blue/MD589/MD589_prep2_none_win7/MD589-IHC61-2015.07.31-01.35.17_MD589_2_0182_prep2_none_win7_inception-bn-blue_features.bp\"\n",
      "0\n",
      "aws s3 cp \"/data/CSHL_patch_features/inception-bn-blue/MD589/MD589_prep2_none_win7/MD589-IHC61-2015.07.31-01.35.17_MD589_2_0182_prep2_none_win7_inception-bn-blue_locations.bp\" \"s3://mousebrainatlas-data/CSHL_patch_features/inception-bn-blue/MD589/MD589_prep2_none_win7/MD589-IHC61-2015.07.31-01.35.17_MD589_2_0182_prep2_none_win7_inception-bn-blue_locations.bp\"\n",
      "0\n",
      "rm -rf \"/data/CSHL_patch_features/inception-bn-blue/MD589/MD589_prep2_none_win7/MD589-N61-2015.07.30-20.15.47_MD589_3_0183_prep2_none_win7_inception-bn-blue_features.bp\" && mkdir -p \"/data/CSHL_patch_features/inception-bn-blue/MD589/MD589_prep2_none_win7\"\n",
      "0\n",
      "aws s3 cp \"s3://mousebrainatlas-data/CSHL_patch_features/inception-bn-blue/MD589/MD589_prep2_none_win7/MD589-N61-2015.07.30-20.15.47_MD589_3_0183_prep2_none_win7_inception-bn-blue_features.bp\" \"/data/CSHL_patch_features/inception-bn-blue/MD589/MD589_prep2_none_win7/MD589-N61-2015.07.30-20.15.47_MD589_3_0183_prep2_none_win7_inception-bn-blue_features.bp\"\n"
     ]
    },
    {
     "name": "stderr",
     "output_type": "stream",
     "text": [
      "Save features: 3.15 seconds\n",
      "locate patches: 0.02 seconds\n"
     ]
    },
    {
     "name": "stdout",
     "output_type": "stream",
     "text": [
      "1\n"
     ]
    },
    {
     "name": "stderr",
     "output_type": "stream",
     "text": [
      "Features for MD589, 322/MD589-N61-2015.07.30-20.15.47_MD589_3_0183 does not exist.\n",
      "No pre-computed features found... computing from scratch.\n",
      "Not using image_cache.\n"
     ]
    },
    {
     "name": "stdout",
     "output_type": "stream",
     "text": [
      "/data/CSHL_data_processed/MD589/MD589_prep2_raw_gray/MD589-N61-2015.07.30-20.15.47_MD589_3_0183_prep2_raw_gray.tif\n"
     ]
    },
    {
     "name": "stderr",
     "output_type": "stream",
     "text": [
      "Load image: 0.97 seconds.\n",
      "Crop patches: 1.00 seconds.\n",
      "Extract patches: 1.98 seconds\n"
     ]
    },
    {
     "name": "stdout",
     "output_type": "stream",
     "text": [
      "(25272, 1, 224, 224)\n"
     ]
    },
    {
     "name": "stderr",
     "output_type": "stream",
     "text": [
      "Compute features: 40.76 seconds\n",
      "Compute features at one section, multiple locations: 42.77 seconds\n"
     ]
    },
    {
     "name": "stdout",
     "output_type": "stream",
     "text": [
      "aws s3 cp \"/data/CSHL_patch_features/inception-bn-blue/MD589/MD589_prep2_none_win7/MD589-N61-2015.07.30-20.15.47_MD589_3_0183_prep2_none_win7_inception-bn-blue_features.bp\" \"s3://mousebrainatlas-data/CSHL_patch_features/inception-bn-blue/MD589/MD589_prep2_none_win7/MD589-N61-2015.07.30-20.15.47_MD589_3_0183_prep2_none_win7_inception-bn-blue_features.bp\"\n",
      "0\n",
      "aws s3 cp \"/data/CSHL_patch_features/inception-bn-blue/MD589/MD589_prep2_none_win7/MD589-N61-2015.07.30-20.15.47_MD589_3_0183_prep2_none_win7_inception-bn-blue_locations.bp\" \"s3://mousebrainatlas-data/CSHL_patch_features/inception-bn-blue/MD589/MD589_prep2_none_win7/MD589-N61-2015.07.30-20.15.47_MD589_3_0183_prep2_none_win7_inception-bn-blue_locations.bp\"\n",
      "0\n",
      "rm -rf \"/data/CSHL_patch_features/inception-bn-blue/MD589/MD589_prep2_none_win7/MD589-IHC61-2015.07.31-01.35.17_MD589_3_0183_prep2_none_win7_inception-bn-blue_features.bp\" && mkdir -p \"/data/CSHL_patch_features/inception-bn-blue/MD589/MD589_prep2_none_win7\"\n",
      "0\n",
      "aws s3 cp \"s3://mousebrainatlas-data/CSHL_patch_features/inception-bn-blue/MD589/MD589_prep2_none_win7/MD589-IHC61-2015.07.31-01.35.17_MD589_3_0183_prep2_none_win7_inception-bn-blue_features.bp\" \"/data/CSHL_patch_features/inception-bn-blue/MD589/MD589_prep2_none_win7/MD589-IHC61-2015.07.31-01.35.17_MD589_3_0183_prep2_none_win7_inception-bn-blue_features.bp\"\n"
     ]
    },
    {
     "name": "stderr",
     "output_type": "stream",
     "text": [
      "Save features: 3.64 seconds\n",
      "locate patches: 0.02 seconds\n"
     ]
    },
    {
     "name": "stdout",
     "output_type": "stream",
     "text": [
      "1\n"
     ]
    },
    {
     "name": "stderr",
     "output_type": "stream",
     "text": [
      "Features for MD589, 323/MD589-IHC61-2015.07.31-01.35.17_MD589_3_0183 does not exist.\n",
      "No pre-computed features found... computing from scratch.\n",
      "Not using image_cache.\n"
     ]
    },
    {
     "name": "stdout",
     "output_type": "stream",
     "text": [
      "/data/CSHL_data_processed/MD589/MD589_prep2_raw_gray/MD589-IHC61-2015.07.31-01.35.17_MD589_3_0183_prep2_raw_gray.tif\n"
     ]
    },
    {
     "name": "stderr",
     "output_type": "stream",
     "text": [
      "Load image: 0.94 seconds.\n",
      "Crop patches: 1.21 seconds.\n",
      "Extract patches: 2.18 seconds\n"
     ]
    },
    {
     "name": "stdout",
     "output_type": "stream",
     "text": [
      "(25131, 1, 224, 224)\n"
     ]
    },
    {
     "name": "stderr",
     "output_type": "stream",
     "text": [
      "Compute features: 42.55 seconds\n",
      "Compute features at one section, multiple locations: 44.77 seconds\n"
     ]
    },
    {
     "name": "stdout",
     "output_type": "stream",
     "text": [
      "aws s3 cp \"/data/CSHL_patch_features/inception-bn-blue/MD589/MD589_prep2_none_win7/MD589-IHC61-2015.07.31-01.35.17_MD589_3_0183_prep2_none_win7_inception-bn-blue_features.bp\" \"s3://mousebrainatlas-data/CSHL_patch_features/inception-bn-blue/MD589/MD589_prep2_none_win7/MD589-IHC61-2015.07.31-01.35.17_MD589_3_0183_prep2_none_win7_inception-bn-blue_features.bp\"\n",
      "0\n",
      "aws s3 cp \"/data/CSHL_patch_features/inception-bn-blue/MD589/MD589_prep2_none_win7/MD589-IHC61-2015.07.31-01.35.17_MD589_3_0183_prep2_none_win7_inception-bn-blue_locations.bp\" \"s3://mousebrainatlas-data/CSHL_patch_features/inception-bn-blue/MD589/MD589_prep2_none_win7/MD589-IHC61-2015.07.31-01.35.17_MD589_3_0183_prep2_none_win7_inception-bn-blue_locations.bp\"\n",
      "0\n",
      "rm -rf \"/data/CSHL_patch_features/inception-bn-blue/MD589/MD589_prep2_none_win7/MD589-IHC62-2015.07.31-01.39.26_MD589_1_0184_prep2_none_win7_inception-bn-blue_features.bp\" && mkdir -p \"/data/CSHL_patch_features/inception-bn-blue/MD589/MD589_prep2_none_win7\"\n",
      "0\n",
      "aws s3 cp \"s3://mousebrainatlas-data/CSHL_patch_features/inception-bn-blue/MD589/MD589_prep2_none_win7/MD589-IHC62-2015.07.31-01.39.26_MD589_1_0184_prep2_none_win7_inception-bn-blue_features.bp\" \"/data/CSHL_patch_features/inception-bn-blue/MD589/MD589_prep2_none_win7/MD589-IHC62-2015.07.31-01.39.26_MD589_1_0184_prep2_none_win7_inception-bn-blue_features.bp\"\n"
     ]
    },
    {
     "name": "stderr",
     "output_type": "stream",
     "text": [
      "Save features: 2.92 seconds\n",
      "locate patches: 0.02 seconds\n"
     ]
    },
    {
     "name": "stdout",
     "output_type": "stream",
     "text": [
      "1\n"
     ]
    },
    {
     "name": "stderr",
     "output_type": "stream",
     "text": [
      "Features for MD589, 325/MD589-IHC62-2015.07.31-01.39.26_MD589_1_0184 does not exist.\n",
      "No pre-computed features found... computing from scratch.\n",
      "Not using image_cache.\n"
     ]
    },
    {
     "name": "stdout",
     "output_type": "stream",
     "text": [
      "/data/CSHL_data_processed/MD589/MD589_prep2_raw_gray/MD589-IHC62-2015.07.31-01.39.26_MD589_1_0184_prep2_raw_gray.tif\n"
     ]
    },
    {
     "name": "stderr",
     "output_type": "stream",
     "text": [
      "Load image: 0.95 seconds.\n",
      "Crop patches: 0.73 seconds.\n",
      "Extract patches: 1.70 seconds\n"
     ]
    },
    {
     "name": "stdout",
     "output_type": "stream",
     "text": [
      "(25054, 1, 224, 224)\n"
     ]
    },
    {
     "name": "stderr",
     "output_type": "stream",
     "text": [
      "Compute features: 40.46 seconds\n",
      "Compute features at one section, multiple locations: 42.18 seconds\n"
     ]
    },
    {
     "name": "stdout",
     "output_type": "stream",
     "text": [
      "aws s3 cp \"/data/CSHL_patch_features/inception-bn-blue/MD589/MD589_prep2_none_win7/MD589-IHC62-2015.07.31-01.39.26_MD589_1_0184_prep2_none_win7_inception-bn-blue_features.bp\" \"s3://mousebrainatlas-data/CSHL_patch_features/inception-bn-blue/MD589/MD589_prep2_none_win7/MD589-IHC62-2015.07.31-01.39.26_MD589_1_0184_prep2_none_win7_inception-bn-blue_features.bp\"\n",
      "0\n",
      "aws s3 cp \"/data/CSHL_patch_features/inception-bn-blue/MD589/MD589_prep2_none_win7/MD589-IHC62-2015.07.31-01.39.26_MD589_1_0184_prep2_none_win7_inception-bn-blue_locations.bp\" \"s3://mousebrainatlas-data/CSHL_patch_features/inception-bn-blue/MD589/MD589_prep2_none_win7/MD589-IHC62-2015.07.31-01.39.26_MD589_1_0184_prep2_none_win7_inception-bn-blue_locations.bp\"\n",
      "0\n",
      "rm -rf \"/data/CSHL_patch_features/inception-bn-blue/MD589/MD589_prep2_none_win7/MD589-N62-2015.07.30-20.20.08_MD589_1_0184_prep2_none_win7_inception-bn-blue_features.bp\" && mkdir -p \"/data/CSHL_patch_features/inception-bn-blue/MD589/MD589_prep2_none_win7\"\n",
      "0\n",
      "aws s3 cp \"s3://mousebrainatlas-data/CSHL_patch_features/inception-bn-blue/MD589/MD589_prep2_none_win7/MD589-N62-2015.07.30-20.20.08_MD589_1_0184_prep2_none_win7_inception-bn-blue_features.bp\" \"/data/CSHL_patch_features/inception-bn-blue/MD589/MD589_prep2_none_win7/MD589-N62-2015.07.30-20.20.08_MD589_1_0184_prep2_none_win7_inception-bn-blue_features.bp\"\n"
     ]
    },
    {
     "name": "stderr",
     "output_type": "stream",
     "text": [
      "Save features: 2.91 seconds\n",
      "locate patches: 0.02 seconds\n"
     ]
    },
    {
     "name": "stdout",
     "output_type": "stream",
     "text": [
      "1\n"
     ]
    },
    {
     "name": "stderr",
     "output_type": "stream",
     "text": [
      "Features for MD589, 326/MD589-N62-2015.07.30-20.20.08_MD589_1_0184 does not exist.\n",
      "No pre-computed features found... computing from scratch.\n",
      "Not using image_cache.\n"
     ]
    },
    {
     "name": "stdout",
     "output_type": "stream",
     "text": [
      "/data/CSHL_data_processed/MD589/MD589_prep2_raw_gray/MD589-N62-2015.07.30-20.20.08_MD589_1_0184_prep2_raw_gray.tif\n"
     ]
    },
    {
     "name": "stderr",
     "output_type": "stream",
     "text": [
      "Load image: 0.98 seconds.\n",
      "Crop patches: 0.72 seconds.\n",
      "Extract patches: 1.72 seconds\n"
     ]
    },
    {
     "name": "stdout",
     "output_type": "stream",
     "text": [
      "(24879, 1, 224, 224)\n"
     ]
    },
    {
     "name": "stderr",
     "output_type": "stream",
     "text": [
      "Compute features: 41.06 seconds\n",
      "Compute features at one section, multiple locations: 42.82 seconds\n"
     ]
    },
    {
     "name": "stdout",
     "output_type": "stream",
     "text": [
      "aws s3 cp \"/data/CSHL_patch_features/inception-bn-blue/MD589/MD589_prep2_none_win7/MD589-N62-2015.07.30-20.20.08_MD589_1_0184_prep2_none_win7_inception-bn-blue_features.bp\" \"s3://mousebrainatlas-data/CSHL_patch_features/inception-bn-blue/MD589/MD589_prep2_none_win7/MD589-N62-2015.07.30-20.20.08_MD589_1_0184_prep2_none_win7_inception-bn-blue_features.bp\"\n",
      "0\n",
      "aws s3 cp \"/data/CSHL_patch_features/inception-bn-blue/MD589/MD589_prep2_none_win7/MD589-N62-2015.07.30-20.20.08_MD589_1_0184_prep2_none_win7_inception-bn-blue_locations.bp\" \"s3://mousebrainatlas-data/CSHL_patch_features/inception-bn-blue/MD589/MD589_prep2_none_win7/MD589-N62-2015.07.30-20.20.08_MD589_1_0184_prep2_none_win7_inception-bn-blue_locations.bp\"\n",
      "0\n",
      "rm -rf \"/data/CSHL_patch_features/inception-bn-blue/MD589/MD589_prep2_none_win7/MD589-IHC62-2015.07.31-01.39.26_MD589_2_0185_prep2_none_win7_inception-bn-blue_features.bp\" && mkdir -p \"/data/CSHL_patch_features/inception-bn-blue/MD589/MD589_prep2_none_win7\"\n",
      "0\n",
      "aws s3 cp \"s3://mousebrainatlas-data/CSHL_patch_features/inception-bn-blue/MD589/MD589_prep2_none_win7/MD589-IHC62-2015.07.31-01.39.26_MD589_2_0185_prep2_none_win7_inception-bn-blue_features.bp\" \"/data/CSHL_patch_features/inception-bn-blue/MD589/MD589_prep2_none_win7/MD589-IHC62-2015.07.31-01.39.26_MD589_2_0185_prep2_none_win7_inception-bn-blue_features.bp\"\n"
     ]
    },
    {
     "name": "stderr",
     "output_type": "stream",
     "text": [
      "Save features: 2.88 seconds\n",
      "locate patches: 0.02 seconds\n"
     ]
    },
    {
     "name": "stdout",
     "output_type": "stream",
     "text": [
      "1\n"
     ]
    },
    {
     "name": "stderr",
     "output_type": "stream",
     "text": [
      "Features for MD589, 327/MD589-IHC62-2015.07.31-01.39.26_MD589_2_0185 does not exist.\n",
      "No pre-computed features found... computing from scratch.\n",
      "Not using image_cache.\n"
     ]
    },
    {
     "name": "stdout",
     "output_type": "stream",
     "text": [
      "/data/CSHL_data_processed/MD589/MD589_prep2_raw_gray/MD589-IHC62-2015.07.31-01.39.26_MD589_2_0185_prep2_raw_gray.tif\n"
     ]
    },
    {
     "name": "stderr",
     "output_type": "stream",
     "text": [
      "Load image: 0.98 seconds.\n",
      "Crop patches: 0.99 seconds.\n",
      "Extract patches: 1.99 seconds\n"
     ]
    },
    {
     "name": "stdout",
     "output_type": "stream",
     "text": [
      "(24787, 1, 224, 224)\n"
     ]
    },
    {
     "name": "stderr",
     "output_type": "stream",
     "text": [
      "Compute features: 39.77 seconds\n",
      "Compute features at one section, multiple locations: 41.77 seconds\n"
     ]
    },
    {
     "name": "stdout",
     "output_type": "stream",
     "text": [
      "aws s3 cp \"/data/CSHL_patch_features/inception-bn-blue/MD589/MD589_prep2_none_win7/MD589-IHC62-2015.07.31-01.39.26_MD589_2_0185_prep2_none_win7_inception-bn-blue_features.bp\" \"s3://mousebrainatlas-data/CSHL_patch_features/inception-bn-blue/MD589/MD589_prep2_none_win7/MD589-IHC62-2015.07.31-01.39.26_MD589_2_0185_prep2_none_win7_inception-bn-blue_features.bp\"\n",
      "0\n",
      "aws s3 cp \"/data/CSHL_patch_features/inception-bn-blue/MD589/MD589_prep2_none_win7/MD589-IHC62-2015.07.31-01.39.26_MD589_2_0185_prep2_none_win7_inception-bn-blue_locations.bp\" \"s3://mousebrainatlas-data/CSHL_patch_features/inception-bn-blue/MD589/MD589_prep2_none_win7/MD589-IHC62-2015.07.31-01.39.26_MD589_2_0185_prep2_none_win7_inception-bn-blue_locations.bp\"\n",
      "0\n",
      "rm -rf \"/data/CSHL_patch_features/inception-bn-blue/MD589/MD589_prep2_none_win7/MD589-N62-2015.07.30-20.20.08_MD589_2_0185_prep2_none_win7_inception-bn-blue_features.bp\" && mkdir -p \"/data/CSHL_patch_features/inception-bn-blue/MD589/MD589_prep2_none_win7\"\n",
      "0\n",
      "aws s3 cp \"s3://mousebrainatlas-data/CSHL_patch_features/inception-bn-blue/MD589/MD589_prep2_none_win7/MD589-N62-2015.07.30-20.20.08_MD589_2_0185_prep2_none_win7_inception-bn-blue_features.bp\" \"/data/CSHL_patch_features/inception-bn-blue/MD589/MD589_prep2_none_win7/MD589-N62-2015.07.30-20.20.08_MD589_2_0185_prep2_none_win7_inception-bn-blue_features.bp\"\n"
     ]
    },
    {
     "name": "stderr",
     "output_type": "stream",
     "text": [
      "Save features: 2.83 seconds\n",
      "locate patches: 0.02 seconds\n"
     ]
    },
    {
     "name": "stdout",
     "output_type": "stream",
     "text": [
      "1\n"
     ]
    },
    {
     "name": "stderr",
     "output_type": "stream",
     "text": [
      "Features for MD589, 328/MD589-N62-2015.07.30-20.20.08_MD589_2_0185 does not exist.\n",
      "No pre-computed features found... computing from scratch.\n",
      "Not using image_cache.\n"
     ]
    },
    {
     "name": "stdout",
     "output_type": "stream",
     "text": [
      "/data/CSHL_data_processed/MD589/MD589_prep2_raw_gray/MD589-N62-2015.07.30-20.20.08_MD589_2_0185_prep2_raw_gray.tif\n"
     ]
    },
    {
     "name": "stderr",
     "output_type": "stream",
     "text": [
      "Load image: 0.94 seconds.\n",
      "Crop patches: 0.77 seconds.\n",
      "Extract patches: 1.73 seconds\n"
     ]
    },
    {
     "name": "stdout",
     "output_type": "stream",
     "text": [
      "(24727, 1, 224, 224)\n"
     ]
    },
    {
     "name": "stderr",
     "output_type": "stream",
     "text": [
      "Compute features: 39.81 seconds\n",
      "Compute features at one section, multiple locations: 41.62 seconds\n"
     ]
    },
    {
     "name": "stdout",
     "output_type": "stream",
     "text": [
      "aws s3 cp \"/data/CSHL_patch_features/inception-bn-blue/MD589/MD589_prep2_none_win7/MD589-N62-2015.07.30-20.20.08_MD589_2_0185_prep2_none_win7_inception-bn-blue_features.bp\" \"s3://mousebrainatlas-data/CSHL_patch_features/inception-bn-blue/MD589/MD589_prep2_none_win7/MD589-N62-2015.07.30-20.20.08_MD589_2_0185_prep2_none_win7_inception-bn-blue_features.bp\"\n",
      "0\n",
      "aws s3 cp \"/data/CSHL_patch_features/inception-bn-blue/MD589/MD589_prep2_none_win7/MD589-N62-2015.07.30-20.20.08_MD589_2_0185_prep2_none_win7_inception-bn-blue_locations.bp\" \"s3://mousebrainatlas-data/CSHL_patch_features/inception-bn-blue/MD589/MD589_prep2_none_win7/MD589-N62-2015.07.30-20.20.08_MD589_2_0185_prep2_none_win7_inception-bn-blue_locations.bp\"\n",
      "0\n",
      "rm -rf \"/data/CSHL_patch_features/inception-bn-blue/MD589/MD589_prep2_none_win7/MD589-IHC62-2015.07.31-01.39.26_MD589_3_0186_prep2_none_win7_inception-bn-blue_features.bp\" && mkdir -p \"/data/CSHL_patch_features/inception-bn-blue/MD589/MD589_prep2_none_win7\"\n",
      "0\n",
      "aws s3 cp \"s3://mousebrainatlas-data/CSHL_patch_features/inception-bn-blue/MD589/MD589_prep2_none_win7/MD589-IHC62-2015.07.31-01.39.26_MD589_3_0186_prep2_none_win7_inception-bn-blue_features.bp\" \"/data/CSHL_patch_features/inception-bn-blue/MD589/MD589_prep2_none_win7/MD589-IHC62-2015.07.31-01.39.26_MD589_3_0186_prep2_none_win7_inception-bn-blue_features.bp\"\n"
     ]
    },
    {
     "name": "stderr",
     "output_type": "stream",
     "text": [
      "Save features: 3.08 seconds\n",
      "locate patches: 0.03 seconds\n"
     ]
    },
    {
     "name": "stdout",
     "output_type": "stream",
     "text": [
      "1\n"
     ]
    },
    {
     "name": "stderr",
     "output_type": "stream",
     "text": [
      "Features for MD589, 329/MD589-IHC62-2015.07.31-01.39.26_MD589_3_0186 does not exist.\n",
      "No pre-computed features found... computing from scratch.\n",
      "Not using image_cache.\n"
     ]
    },
    {
     "name": "stdout",
     "output_type": "stream",
     "text": [
      "/data/CSHL_data_processed/MD589/MD589_prep2_raw_gray/MD589-IHC62-2015.07.31-01.39.26_MD589_3_0186_prep2_raw_gray.tif\n"
     ]
    },
    {
     "name": "stderr",
     "output_type": "stream",
     "text": [
      "Load image: 0.90 seconds.\n",
      "Crop patches: 0.84 seconds.\n",
      "Extract patches: 1.76 seconds\n"
     ]
    },
    {
     "name": "stdout",
     "output_type": "stream",
     "text": [
      "(24543, 1, 224, 224)\n"
     ]
    },
    {
     "name": "stderr",
     "output_type": "stream",
     "text": [
      "Compute features: 39.51 seconds\n",
      "Compute features at one section, multiple locations: 41.28 seconds\n"
     ]
    },
    {
     "name": "stdout",
     "output_type": "stream",
     "text": [
      "aws s3 cp \"/data/CSHL_patch_features/inception-bn-blue/MD589/MD589_prep2_none_win7/MD589-IHC62-2015.07.31-01.39.26_MD589_3_0186_prep2_none_win7_inception-bn-blue_features.bp\" \"s3://mousebrainatlas-data/CSHL_patch_features/inception-bn-blue/MD589/MD589_prep2_none_win7/MD589-IHC62-2015.07.31-01.39.26_MD589_3_0186_prep2_none_win7_inception-bn-blue_features.bp\"\n",
      "0\n",
      "aws s3 cp \"/data/CSHL_patch_features/inception-bn-blue/MD589/MD589_prep2_none_win7/MD589-IHC62-2015.07.31-01.39.26_MD589_3_0186_prep2_none_win7_inception-bn-blue_locations.bp\" \"s3://mousebrainatlas-data/CSHL_patch_features/inception-bn-blue/MD589/MD589_prep2_none_win7/MD589-IHC62-2015.07.31-01.39.26_MD589_3_0186_prep2_none_win7_inception-bn-blue_locations.bp\"\n",
      "0\n",
      "rm -rf \"/data/CSHL_patch_features/inception-bn-blue/MD589/MD589_prep2_none_win7/MD589-N63-2015.07.30-20.23.12_MD589_1_0187_prep2_none_win7_inception-bn-blue_features.bp\" && mkdir -p \"/data/CSHL_patch_features/inception-bn-blue/MD589/MD589_prep2_none_win7\"\n",
      "0\n",
      "aws s3 cp \"s3://mousebrainatlas-data/CSHL_patch_features/inception-bn-blue/MD589/MD589_prep2_none_win7/MD589-N63-2015.07.30-20.23.12_MD589_1_0187_prep2_none_win7_inception-bn-blue_features.bp\" \"/data/CSHL_patch_features/inception-bn-blue/MD589/MD589_prep2_none_win7/MD589-N63-2015.07.30-20.23.12_MD589_1_0187_prep2_none_win7_inception-bn-blue_features.bp\"\n"
     ]
    },
    {
     "name": "stderr",
     "output_type": "stream",
     "text": [
      "Save features: 3.28 seconds\n",
      "locate patches: 0.02 seconds\n"
     ]
    },
    {
     "name": "stdout",
     "output_type": "stream",
     "text": [
      "1\n"
     ]
    },
    {
     "name": "stderr",
     "output_type": "stream",
     "text": [
      "Features for MD589, 330/MD589-N63-2015.07.30-20.23.12_MD589_1_0187 does not exist.\n",
      "No pre-computed features found... computing from scratch.\n",
      "Not using image_cache.\n"
     ]
    },
    {
     "name": "stdout",
     "output_type": "stream",
     "text": [
      "/data/CSHL_data_processed/MD589/MD589_prep2_raw_gray/MD589-N63-2015.07.30-20.23.12_MD589_1_0187_prep2_raw_gray.tif\n"
     ]
    },
    {
     "name": "stderr",
     "output_type": "stream",
     "text": [
      "Load image: 0.89 seconds.\n",
      "Crop patches: 0.76 seconds.\n",
      "Extract patches: 1.67 seconds\n"
     ]
    },
    {
     "name": "stdout",
     "output_type": "stream",
     "text": [
      "(24359, 1, 224, 224)\n"
     ]
    },
    {
     "name": "stderr",
     "output_type": "stream",
     "text": [
      "Compute features: 39.53 seconds\n",
      "Compute features at one section, multiple locations: 41.22 seconds\n"
     ]
    },
    {
     "name": "stdout",
     "output_type": "stream",
     "text": [
      "aws s3 cp \"/data/CSHL_patch_features/inception-bn-blue/MD589/MD589_prep2_none_win7/MD589-N63-2015.07.30-20.23.12_MD589_1_0187_prep2_none_win7_inception-bn-blue_features.bp\" \"s3://mousebrainatlas-data/CSHL_patch_features/inception-bn-blue/MD589/MD589_prep2_none_win7/MD589-N63-2015.07.30-20.23.12_MD589_1_0187_prep2_none_win7_inception-bn-blue_features.bp\"\n",
      "0\n",
      "aws s3 cp \"/data/CSHL_patch_features/inception-bn-blue/MD589/MD589_prep2_none_win7/MD589-N63-2015.07.30-20.23.12_MD589_1_0187_prep2_none_win7_inception-bn-blue_locations.bp\" \"s3://mousebrainatlas-data/CSHL_patch_features/inception-bn-blue/MD589/MD589_prep2_none_win7/MD589-N63-2015.07.30-20.23.12_MD589_1_0187_prep2_none_win7_inception-bn-blue_locations.bp\"\n",
      "0\n",
      "rm -rf \"/data/CSHL_patch_features/inception-bn-blue/MD589/MD589_prep2_none_win7/MD589-IHC63-2015.07.31-01.43.31_MD589_1_0187_prep2_none_win7_inception-bn-blue_features.bp\" && mkdir -p \"/data/CSHL_patch_features/inception-bn-blue/MD589/MD589_prep2_none_win7\"\n",
      "0\n",
      "aws s3 cp \"s3://mousebrainatlas-data/CSHL_patch_features/inception-bn-blue/MD589/MD589_prep2_none_win7/MD589-IHC63-2015.07.31-01.43.31_MD589_1_0187_prep2_none_win7_inception-bn-blue_features.bp\" \"/data/CSHL_patch_features/inception-bn-blue/MD589/MD589_prep2_none_win7/MD589-IHC63-2015.07.31-01.43.31_MD589_1_0187_prep2_none_win7_inception-bn-blue_features.bp\"\n"
     ]
    },
    {
     "name": "stderr",
     "output_type": "stream",
     "text": [
      "Save features: 3.40 seconds\n",
      "locate patches: 0.02 seconds\n"
     ]
    },
    {
     "name": "stdout",
     "output_type": "stream",
     "text": [
      "1\n"
     ]
    },
    {
     "name": "stderr",
     "output_type": "stream",
     "text": [
      "Features for MD589, 331/MD589-IHC63-2015.07.31-01.43.31_MD589_1_0187 does not exist.\n",
      "No pre-computed features found... computing from scratch.\n",
      "Not using image_cache.\n"
     ]
    },
    {
     "name": "stdout",
     "output_type": "stream",
     "text": [
      "/data/CSHL_data_processed/MD589/MD589_prep2_raw_gray/MD589-IHC63-2015.07.31-01.43.31_MD589_1_0187_prep2_raw_gray.tif\n"
     ]
    },
    {
     "name": "stderr",
     "output_type": "stream",
     "text": [
      "Load image: 0.87 seconds.\n",
      "Crop patches: 0.77 seconds.\n",
      "Extract patches: 1.66 seconds\n"
     ]
    },
    {
     "name": "stdout",
     "output_type": "stream",
     "text": [
      "(24356, 1, 224, 224)\n"
     ]
    },
    {
     "name": "stderr",
     "output_type": "stream",
     "text": [
      "Compute features: 38.54 seconds\n",
      "Compute features at one section, multiple locations: 40.22 seconds\n"
     ]
    },
    {
     "name": "stdout",
     "output_type": "stream",
     "text": [
      "aws s3 cp \"/data/CSHL_patch_features/inception-bn-blue/MD589/MD589_prep2_none_win7/MD589-IHC63-2015.07.31-01.43.31_MD589_1_0187_prep2_none_win7_inception-bn-blue_features.bp\" \"s3://mousebrainatlas-data/CSHL_patch_features/inception-bn-blue/MD589/MD589_prep2_none_win7/MD589-IHC63-2015.07.31-01.43.31_MD589_1_0187_prep2_none_win7_inception-bn-blue_features.bp\"\n",
      "0\n",
      "aws s3 cp \"/data/CSHL_patch_features/inception-bn-blue/MD589/MD589_prep2_none_win7/MD589-IHC63-2015.07.31-01.43.31_MD589_1_0187_prep2_none_win7_inception-bn-blue_locations.bp\" \"s3://mousebrainatlas-data/CSHL_patch_features/inception-bn-blue/MD589/MD589_prep2_none_win7/MD589-IHC63-2015.07.31-01.43.31_MD589_1_0187_prep2_none_win7_inception-bn-blue_locations.bp\"\n",
      "0\n",
      "rm -rf \"/data/CSHL_patch_features/inception-bn-blue/MD589/MD589_prep2_none_win7/MD589-N63-2015.07.30-20.23.12_MD589_2_0188_prep2_none_win7_inception-bn-blue_features.bp\" && mkdir -p \"/data/CSHL_patch_features/inception-bn-blue/MD589/MD589_prep2_none_win7\"\n",
      "0\n",
      "aws s3 cp \"s3://mousebrainatlas-data/CSHL_patch_features/inception-bn-blue/MD589/MD589_prep2_none_win7/MD589-N63-2015.07.30-20.23.12_MD589_2_0188_prep2_none_win7_inception-bn-blue_features.bp\" \"/data/CSHL_patch_features/inception-bn-blue/MD589/MD589_prep2_none_win7/MD589-N63-2015.07.30-20.23.12_MD589_2_0188_prep2_none_win7_inception-bn-blue_features.bp\"\n"
     ]
    },
    {
     "name": "stderr",
     "output_type": "stream",
     "text": [
      "Save features: 3.70 seconds\n",
      "locate patches: 0.02 seconds\n"
     ]
    },
    {
     "name": "stdout",
     "output_type": "stream",
     "text": [
      "1\n"
     ]
    },
    {
     "name": "stderr",
     "output_type": "stream",
     "text": [
      "Features for MD589, 332/MD589-N63-2015.07.30-20.23.12_MD589_2_0188 does not exist.\n",
      "No pre-computed features found... computing from scratch.\n",
      "Not using image_cache.\n"
     ]
    },
    {
     "name": "stdout",
     "output_type": "stream",
     "text": [
      "/data/CSHL_data_processed/MD589/MD589_prep2_raw_gray/MD589-N63-2015.07.30-20.23.12_MD589_2_0188_prep2_raw_gray.tif\n"
     ]
    },
    {
     "name": "stderr",
     "output_type": "stream",
     "text": [
      "Load image: 0.94 seconds.\n",
      "Crop patches: 0.74 seconds.\n",
      "Extract patches: 1.69 seconds\n"
     ]
    },
    {
     "name": "stdout",
     "output_type": "stream",
     "text": [
      "(24104, 1, 224, 224)\n"
     ]
    },
    {
     "name": "stderr",
     "output_type": "stream",
     "text": [
      "Compute features: 39.40 seconds\n",
      "Compute features at one section, multiple locations: 41.10 seconds\n"
     ]
    },
    {
     "name": "stdout",
     "output_type": "stream",
     "text": [
      "aws s3 cp \"/data/CSHL_patch_features/inception-bn-blue/MD589/MD589_prep2_none_win7/MD589-N63-2015.07.30-20.23.12_MD589_2_0188_prep2_none_win7_inception-bn-blue_features.bp\" \"s3://mousebrainatlas-data/CSHL_patch_features/inception-bn-blue/MD589/MD589_prep2_none_win7/MD589-N63-2015.07.30-20.23.12_MD589_2_0188_prep2_none_win7_inception-bn-blue_features.bp\"\n",
      "0\n",
      "aws s3 cp \"/data/CSHL_patch_features/inception-bn-blue/MD589/MD589_prep2_none_win7/MD589-N63-2015.07.30-20.23.12_MD589_2_0188_prep2_none_win7_inception-bn-blue_locations.bp\" \"s3://mousebrainatlas-data/CSHL_patch_features/inception-bn-blue/MD589/MD589_prep2_none_win7/MD589-N63-2015.07.30-20.23.12_MD589_2_0188_prep2_none_win7_inception-bn-blue_locations.bp\"\n",
      "0\n",
      "rm -rf \"/data/CSHL_patch_features/inception-bn-blue/MD589/MD589_prep2_none_win7/MD589-IHC63-2015.07.31-01.43.31_MD589_2_0188_prep2_none_win7_inception-bn-blue_features.bp\" && mkdir -p \"/data/CSHL_patch_features/inception-bn-blue/MD589/MD589_prep2_none_win7\"\n",
      "0\n",
      "aws s3 cp \"s3://mousebrainatlas-data/CSHL_patch_features/inception-bn-blue/MD589/MD589_prep2_none_win7/MD589-IHC63-2015.07.31-01.43.31_MD589_2_0188_prep2_none_win7_inception-bn-blue_features.bp\" \"/data/CSHL_patch_features/inception-bn-blue/MD589/MD589_prep2_none_win7/MD589-IHC63-2015.07.31-01.43.31_MD589_2_0188_prep2_none_win7_inception-bn-blue_features.bp\"\n"
     ]
    },
    {
     "name": "stderr",
     "output_type": "stream",
     "text": [
      "Save features: 3.42 seconds\n",
      "locate patches: 0.02 seconds\n"
     ]
    },
    {
     "name": "stdout",
     "output_type": "stream",
     "text": [
      "1\n"
     ]
    },
    {
     "name": "stderr",
     "output_type": "stream",
     "text": [
      "Features for MD589, 333/MD589-IHC63-2015.07.31-01.43.31_MD589_2_0188 does not exist.\n",
      "No pre-computed features found... computing from scratch.\n",
      "Not using image_cache.\n"
     ]
    },
    {
     "name": "stdout",
     "output_type": "stream",
     "text": [
      "/data/CSHL_data_processed/MD589/MD589_prep2_raw_gray/MD589-IHC63-2015.07.31-01.43.31_MD589_2_0188_prep2_raw_gray.tif\n"
     ]
    },
    {
     "name": "stderr",
     "output_type": "stream",
     "text": [
      "Load image: 0.90 seconds.\n",
      "Crop patches: 0.71 seconds.\n",
      "Extract patches: 1.61 seconds\n"
     ]
    },
    {
     "name": "stdout",
     "output_type": "stream",
     "text": [
      "(23970, 1, 224, 224)\n"
     ]
    },
    {
     "name": "stderr",
     "output_type": "stream",
     "text": [
      "Compute features: 38.35 seconds\n",
      "Compute features at one section, multiple locations: 40.01 seconds\n"
     ]
    },
    {
     "name": "stdout",
     "output_type": "stream",
     "text": [
      "aws s3 cp \"/data/CSHL_patch_features/inception-bn-blue/MD589/MD589_prep2_none_win7/MD589-IHC63-2015.07.31-01.43.31_MD589_2_0188_prep2_none_win7_inception-bn-blue_features.bp\" \"s3://mousebrainatlas-data/CSHL_patch_features/inception-bn-blue/MD589/MD589_prep2_none_win7/MD589-IHC63-2015.07.31-01.43.31_MD589_2_0188_prep2_none_win7_inception-bn-blue_features.bp\"\n",
      "0\n",
      "aws s3 cp \"/data/CSHL_patch_features/inception-bn-blue/MD589/MD589_prep2_none_win7/MD589-IHC63-2015.07.31-01.43.31_MD589_2_0188_prep2_none_win7_inception-bn-blue_locations.bp\" \"s3://mousebrainatlas-data/CSHL_patch_features/inception-bn-blue/MD589/MD589_prep2_none_win7/MD589-IHC63-2015.07.31-01.43.31_MD589_2_0188_prep2_none_win7_inception-bn-blue_locations.bp\"\n",
      "0\n",
      "rm -rf \"/data/CSHL_patch_features/inception-bn-blue/MD589/MD589_prep2_none_win7/MD589-N63-2015.07.30-20.23.12_MD589_3_0189_prep2_none_win7_inception-bn-blue_features.bp\" && mkdir -p \"/data/CSHL_patch_features/inception-bn-blue/MD589/MD589_prep2_none_win7\"\n",
      "0\n",
      "aws s3 cp \"s3://mousebrainatlas-data/CSHL_patch_features/inception-bn-blue/MD589/MD589_prep2_none_win7/MD589-N63-2015.07.30-20.23.12_MD589_3_0189_prep2_none_win7_inception-bn-blue_features.bp\" \"/data/CSHL_patch_features/inception-bn-blue/MD589/MD589_prep2_none_win7/MD589-N63-2015.07.30-20.23.12_MD589_3_0189_prep2_none_win7_inception-bn-blue_features.bp\"\n"
     ]
    },
    {
     "name": "stderr",
     "output_type": "stream",
     "text": [
      "Save features: 3.57 seconds\n",
      "locate patches: 0.02 seconds\n"
     ]
    },
    {
     "name": "stdout",
     "output_type": "stream",
     "text": [
      "1\n"
     ]
    },
    {
     "name": "stderr",
     "output_type": "stream",
     "text": [
      "Features for MD589, 334/MD589-N63-2015.07.30-20.23.12_MD589_3_0189 does not exist.\n",
      "No pre-computed features found... computing from scratch.\n",
      "Not using image_cache.\n"
     ]
    },
    {
     "name": "stdout",
     "output_type": "stream",
     "text": [
      "/data/CSHL_data_processed/MD589/MD589_prep2_raw_gray/MD589-N63-2015.07.30-20.23.12_MD589_3_0189_prep2_raw_gray.tif\n"
     ]
    },
    {
     "name": "stderr",
     "output_type": "stream",
     "text": [
      "Load image: 0.89 seconds.\n",
      "Crop patches: 0.82 seconds.\n",
      "Extract patches: 1.73 seconds\n"
     ]
    },
    {
     "name": "stdout",
     "output_type": "stream",
     "text": [
      "(23826, 1, 224, 224)\n"
     ]
    },
    {
     "name": "stderr",
     "output_type": "stream",
     "text": [
      "Compute features: 39.09 seconds\n",
      "Compute features at one section, multiple locations: 40.84 seconds\n"
     ]
    },
    {
     "name": "stdout",
     "output_type": "stream",
     "text": [
      "aws s3 cp \"/data/CSHL_patch_features/inception-bn-blue/MD589/MD589_prep2_none_win7/MD589-N63-2015.07.30-20.23.12_MD589_3_0189_prep2_none_win7_inception-bn-blue_features.bp\" \"s3://mousebrainatlas-data/CSHL_patch_features/inception-bn-blue/MD589/MD589_prep2_none_win7/MD589-N63-2015.07.30-20.23.12_MD589_3_0189_prep2_none_win7_inception-bn-blue_features.bp\"\n",
      "0\n",
      "aws s3 cp \"/data/CSHL_patch_features/inception-bn-blue/MD589/MD589_prep2_none_win7/MD589-N63-2015.07.30-20.23.12_MD589_3_0189_prep2_none_win7_inception-bn-blue_locations.bp\" \"s3://mousebrainatlas-data/CSHL_patch_features/inception-bn-blue/MD589/MD589_prep2_none_win7/MD589-N63-2015.07.30-20.23.12_MD589_3_0189_prep2_none_win7_inception-bn-blue_locations.bp\"\n",
      "0\n",
      "rm -rf \"/data/CSHL_patch_features/inception-bn-blue/MD589/MD589_prep2_none_win7/MD589-IHC63-2015.07.31-01.43.31_MD589_3_0189_prep2_none_win7_inception-bn-blue_features.bp\" && mkdir -p \"/data/CSHL_patch_features/inception-bn-blue/MD589/MD589_prep2_none_win7\"\n",
      "0\n",
      "aws s3 cp \"s3://mousebrainatlas-data/CSHL_patch_features/inception-bn-blue/MD589/MD589_prep2_none_win7/MD589-IHC63-2015.07.31-01.43.31_MD589_3_0189_prep2_none_win7_inception-bn-blue_features.bp\" \"/data/CSHL_patch_features/inception-bn-blue/MD589/MD589_prep2_none_win7/MD589-IHC63-2015.07.31-01.43.31_MD589_3_0189_prep2_none_win7_inception-bn-blue_features.bp\"\n"
     ]
    },
    {
     "name": "stderr",
     "output_type": "stream",
     "text": [
      "Save features: 3.33 seconds\n",
      "locate patches: 0.02 seconds\n"
     ]
    },
    {
     "name": "stdout",
     "output_type": "stream",
     "text": [
      "1\n"
     ]
    },
    {
     "name": "stderr",
     "output_type": "stream",
     "text": [
      "Features for MD589, 335/MD589-IHC63-2015.07.31-01.43.31_MD589_3_0189 does not exist.\n",
      "No pre-computed features found... computing from scratch.\n",
      "Not using image_cache.\n"
     ]
    },
    {
     "name": "stdout",
     "output_type": "stream",
     "text": [
      "/data/CSHL_data_processed/MD589/MD589_prep2_raw_gray/MD589-IHC63-2015.07.31-01.43.31_MD589_3_0189_prep2_raw_gray.tif\n"
     ]
    },
    {
     "name": "stderr",
     "output_type": "stream",
     "text": [
      "Load image: 0.93 seconds.\n",
      "Crop patches: 1.05 seconds.\n",
      "Extract patches: 2.00 seconds\n"
     ]
    },
    {
     "name": "stdout",
     "output_type": "stream",
     "text": [
      "(23534, 1, 224, 224)\n"
     ]
    },
    {
     "name": "stderr",
     "output_type": "stream",
     "text": [
      "Compute features: 37.39 seconds\n",
      "Compute features at one section, multiple locations: 39.40 seconds\n"
     ]
    },
    {
     "name": "stdout",
     "output_type": "stream",
     "text": [
      "aws s3 cp \"/data/CSHL_patch_features/inception-bn-blue/MD589/MD589_prep2_none_win7/MD589-IHC63-2015.07.31-01.43.31_MD589_3_0189_prep2_none_win7_inception-bn-blue_features.bp\" \"s3://mousebrainatlas-data/CSHL_patch_features/inception-bn-blue/MD589/MD589_prep2_none_win7/MD589-IHC63-2015.07.31-01.43.31_MD589_3_0189_prep2_none_win7_inception-bn-blue_features.bp\"\n",
      "0\n",
      "aws s3 cp \"/data/CSHL_patch_features/inception-bn-blue/MD589/MD589_prep2_none_win7/MD589-IHC63-2015.07.31-01.43.31_MD589_3_0189_prep2_none_win7_inception-bn-blue_locations.bp\" \"s3://mousebrainatlas-data/CSHL_patch_features/inception-bn-blue/MD589/MD589_prep2_none_win7/MD589-IHC63-2015.07.31-01.43.31_MD589_3_0189_prep2_none_win7_inception-bn-blue_locations.bp\"\n",
      "0\n",
      "rm -rf \"/data/CSHL_patch_features/inception-bn-blue/MD589/MD589_prep2_none_win7/MD589-N64-2015.07.30-20.27.19_MD589_1_0190_prep2_none_win7_inception-bn-blue_features.bp\" && mkdir -p \"/data/CSHL_patch_features/inception-bn-blue/MD589/MD589_prep2_none_win7\"\n",
      "0\n",
      "aws s3 cp \"s3://mousebrainatlas-data/CSHL_patch_features/inception-bn-blue/MD589/MD589_prep2_none_win7/MD589-N64-2015.07.30-20.27.19_MD589_1_0190_prep2_none_win7_inception-bn-blue_features.bp\" \"/data/CSHL_patch_features/inception-bn-blue/MD589/MD589_prep2_none_win7/MD589-N64-2015.07.30-20.27.19_MD589_1_0190_prep2_none_win7_inception-bn-blue_features.bp\"\n"
     ]
    },
    {
     "name": "stderr",
     "output_type": "stream",
     "text": [
      "Save features: 3.38 seconds\n",
      "locate patches: 0.02 seconds\n"
     ]
    },
    {
     "name": "stdout",
     "output_type": "stream",
     "text": [
      "1\n"
     ]
    },
    {
     "name": "stderr",
     "output_type": "stream",
     "text": [
      "Features for MD589, 336/MD589-N64-2015.07.30-20.27.19_MD589_1_0190 does not exist.\n",
      "No pre-computed features found... computing from scratch.\n",
      "Not using image_cache.\n"
     ]
    },
    {
     "name": "stdout",
     "output_type": "stream",
     "text": [
      "/data/CSHL_data_processed/MD589/MD589_prep2_raw_gray/MD589-N64-2015.07.30-20.27.19_MD589_1_0190_prep2_raw_gray.tif\n"
     ]
    },
    {
     "name": "stderr",
     "output_type": "stream",
     "text": [
      "Load image: 0.90 seconds.\n",
      "Crop patches: 0.64 seconds.\n",
      "Extract patches: 1.55 seconds\n"
     ]
    },
    {
     "name": "stdout",
     "output_type": "stream",
     "text": [
      "(23595, 1, 224, 224)\n"
     ]
    },
    {
     "name": "stderr",
     "output_type": "stream",
     "text": [
      "Compute features: 37.49 seconds\n",
      "Compute features at one section, multiple locations: 39.07 seconds\n"
     ]
    },
    {
     "name": "stdout",
     "output_type": "stream",
     "text": [
      "aws s3 cp \"/data/CSHL_patch_features/inception-bn-blue/MD589/MD589_prep2_none_win7/MD589-N64-2015.07.30-20.27.19_MD589_1_0190_prep2_none_win7_inception-bn-blue_features.bp\" \"s3://mousebrainatlas-data/CSHL_patch_features/inception-bn-blue/MD589/MD589_prep2_none_win7/MD589-N64-2015.07.30-20.27.19_MD589_1_0190_prep2_none_win7_inception-bn-blue_features.bp\"\n",
      "0\n",
      "aws s3 cp \"/data/CSHL_patch_features/inception-bn-blue/MD589/MD589_prep2_none_win7/MD589-N64-2015.07.30-20.27.19_MD589_1_0190_prep2_none_win7_inception-bn-blue_locations.bp\" \"s3://mousebrainatlas-data/CSHL_patch_features/inception-bn-blue/MD589/MD589_prep2_none_win7/MD589-N64-2015.07.30-20.27.19_MD589_1_0190_prep2_none_win7_inception-bn-blue_locations.bp\"\n",
      "0\n",
      "rm -rf \"/data/CSHL_patch_features/inception-bn-blue/MD589/MD589_prep2_none_win7/MD589-IHC64-2015.07.31-01.47.28_MD589_1_0190_prep2_none_win7_inception-bn-blue_features.bp\" && mkdir -p \"/data/CSHL_patch_features/inception-bn-blue/MD589/MD589_prep2_none_win7\"\n",
      "0\n",
      "aws s3 cp \"s3://mousebrainatlas-data/CSHL_patch_features/inception-bn-blue/MD589/MD589_prep2_none_win7/MD589-IHC64-2015.07.31-01.47.28_MD589_1_0190_prep2_none_win7_inception-bn-blue_features.bp\" \"/data/CSHL_patch_features/inception-bn-blue/MD589/MD589_prep2_none_win7/MD589-IHC64-2015.07.31-01.47.28_MD589_1_0190_prep2_none_win7_inception-bn-blue_features.bp\"\n"
     ]
    },
    {
     "name": "stderr",
     "output_type": "stream",
     "text": [
      "Save features: 2.89 seconds\n",
      "locate patches: 0.02 seconds\n"
     ]
    },
    {
     "name": "stdout",
     "output_type": "stream",
     "text": [
      "1\n"
     ]
    },
    {
     "name": "stderr",
     "output_type": "stream",
     "text": [
      "Features for MD589, 337/MD589-IHC64-2015.07.31-01.47.28_MD589_1_0190 does not exist.\n",
      "No pre-computed features found... computing from scratch.\n",
      "Not using image_cache.\n"
     ]
    },
    {
     "name": "stdout",
     "output_type": "stream",
     "text": [
      "/data/CSHL_data_processed/MD589/MD589_prep2_raw_gray/MD589-IHC64-2015.07.31-01.47.28_MD589_1_0190_prep2_raw_gray.tif\n"
     ]
    },
    {
     "name": "stderr",
     "output_type": "stream",
     "text": [
      "Load image: 0.91 seconds.\n",
      "Crop patches: 0.88 seconds.\n",
      "Extract patches: 1.79 seconds\n"
     ]
    },
    {
     "name": "stdout",
     "output_type": "stream",
     "text": [
      "(23577, 1, 224, 224)\n"
     ]
    },
    {
     "name": "stderr",
     "output_type": "stream",
     "text": [
      "Compute features: 37.50 seconds\n",
      "Compute features at one section, multiple locations: 39.32 seconds\n"
     ]
    },
    {
     "name": "stdout",
     "output_type": "stream",
     "text": [
      "aws s3 cp \"/data/CSHL_patch_features/inception-bn-blue/MD589/MD589_prep2_none_win7/MD589-IHC64-2015.07.31-01.47.28_MD589_1_0190_prep2_none_win7_inception-bn-blue_features.bp\" \"s3://mousebrainatlas-data/CSHL_patch_features/inception-bn-blue/MD589/MD589_prep2_none_win7/MD589-IHC64-2015.07.31-01.47.28_MD589_1_0190_prep2_none_win7_inception-bn-blue_features.bp\"\n",
      "0\n",
      "aws s3 cp \"/data/CSHL_patch_features/inception-bn-blue/MD589/MD589_prep2_none_win7/MD589-IHC64-2015.07.31-01.47.28_MD589_1_0190_prep2_none_win7_inception-bn-blue_locations.bp\" \"s3://mousebrainatlas-data/CSHL_patch_features/inception-bn-blue/MD589/MD589_prep2_none_win7/MD589-IHC64-2015.07.31-01.47.28_MD589_1_0190_prep2_none_win7_inception-bn-blue_locations.bp\"\n",
      "0\n",
      "rm -rf \"/data/CSHL_patch_features/inception-bn-blue/MD589/MD589_prep2_none_win7/MD589-N64-2015.07.30-20.27.19_MD589_2_0191_prep2_none_win7_inception-bn-blue_features.bp\" && mkdir -p \"/data/CSHL_patch_features/inception-bn-blue/MD589/MD589_prep2_none_win7\"\n",
      "0\n",
      "aws s3 cp \"s3://mousebrainatlas-data/CSHL_patch_features/inception-bn-blue/MD589/MD589_prep2_none_win7/MD589-N64-2015.07.30-20.27.19_MD589_2_0191_prep2_none_win7_inception-bn-blue_features.bp\" \"/data/CSHL_patch_features/inception-bn-blue/MD589/MD589_prep2_none_win7/MD589-N64-2015.07.30-20.27.19_MD589_2_0191_prep2_none_win7_inception-bn-blue_features.bp\"\n"
     ]
    },
    {
     "name": "stderr",
     "output_type": "stream",
     "text": [
      "Save features: 4.28 seconds\n",
      "locate patches: 0.02 seconds\n"
     ]
    },
    {
     "name": "stdout",
     "output_type": "stream",
     "text": [
      "1\n"
     ]
    },
    {
     "name": "stderr",
     "output_type": "stream",
     "text": [
      "Features for MD589, 338/MD589-N64-2015.07.30-20.27.19_MD589_2_0191 does not exist.\n",
      "No pre-computed features found... computing from scratch.\n",
      "Not using image_cache.\n"
     ]
    },
    {
     "name": "stdout",
     "output_type": "stream",
     "text": [
      "/data/CSHL_data_processed/MD589/MD589_prep2_raw_gray/MD589-N64-2015.07.30-20.27.19_MD589_2_0191_prep2_raw_gray.tif\n"
     ]
    },
    {
     "name": "stderr",
     "output_type": "stream",
     "text": [
      "Load image: 1.06 seconds.\n",
      "Crop patches: 0.79 seconds.\n",
      "Extract patches: 1.86 seconds\n"
     ]
    },
    {
     "name": "stdout",
     "output_type": "stream",
     "text": [
      "(23281, 1, 224, 224)\n"
     ]
    },
    {
     "name": "stderr",
     "output_type": "stream",
     "text": [
      "Compute features: 36.76 seconds\n",
      "Compute features at one section, multiple locations: 38.64 seconds\n"
     ]
    },
    {
     "name": "stdout",
     "output_type": "stream",
     "text": [
      "aws s3 cp \"/data/CSHL_patch_features/inception-bn-blue/MD589/MD589_prep2_none_win7/MD589-N64-2015.07.30-20.27.19_MD589_2_0191_prep2_none_win7_inception-bn-blue_features.bp\" \"s3://mousebrainatlas-data/CSHL_patch_features/inception-bn-blue/MD589/MD589_prep2_none_win7/MD589-N64-2015.07.30-20.27.19_MD589_2_0191_prep2_none_win7_inception-bn-blue_features.bp\"\n",
      "0\n",
      "aws s3 cp \"/data/CSHL_patch_features/inception-bn-blue/MD589/MD589_prep2_none_win7/MD589-N64-2015.07.30-20.27.19_MD589_2_0191_prep2_none_win7_inception-bn-blue_locations.bp\" \"s3://mousebrainatlas-data/CSHL_patch_features/inception-bn-blue/MD589/MD589_prep2_none_win7/MD589-N64-2015.07.30-20.27.19_MD589_2_0191_prep2_none_win7_inception-bn-blue_locations.bp\"\n",
      "0\n",
      "rm -rf \"/data/CSHL_patch_features/inception-bn-blue/MD589/MD589_prep2_none_win7/MD589-IHC64-2015.07.31-01.47.28_MD589_2_0191_prep2_none_win7_inception-bn-blue_features.bp\" && mkdir -p \"/data/CSHL_patch_features/inception-bn-blue/MD589/MD589_prep2_none_win7\"\n",
      "0\n",
      "aws s3 cp \"s3://mousebrainatlas-data/CSHL_patch_features/inception-bn-blue/MD589/MD589_prep2_none_win7/MD589-IHC64-2015.07.31-01.47.28_MD589_2_0191_prep2_none_win7_inception-bn-blue_features.bp\" \"/data/CSHL_patch_features/inception-bn-blue/MD589/MD589_prep2_none_win7/MD589-IHC64-2015.07.31-01.47.28_MD589_2_0191_prep2_none_win7_inception-bn-blue_features.bp\"\n"
     ]
    },
    {
     "name": "stderr",
     "output_type": "stream",
     "text": [
      "Save features: 2.82 seconds\n",
      "locate patches: 0.02 seconds\n"
     ]
    },
    {
     "name": "stdout",
     "output_type": "stream",
     "text": [
      "1\n"
     ]
    },
    {
     "name": "stderr",
     "output_type": "stream",
     "text": [
      "Features for MD589, 339/MD589-IHC64-2015.07.31-01.47.28_MD589_2_0191 does not exist.\n",
      "No pre-computed features found... computing from scratch.\n",
      "Not using image_cache.\n"
     ]
    },
    {
     "name": "stdout",
     "output_type": "stream",
     "text": [
      "/data/CSHL_data_processed/MD589/MD589_prep2_raw_gray/MD589-IHC64-2015.07.31-01.47.28_MD589_2_0191_prep2_raw_gray.tif\n"
     ]
    },
    {
     "name": "stderr",
     "output_type": "stream",
     "text": [
      "Load image: 0.91 seconds.\n",
      "Crop patches: 0.75 seconds.\n",
      "Extract patches: 1.67 seconds\n"
     ]
    },
    {
     "name": "stdout",
     "output_type": "stream",
     "text": [
      "(23110, 1, 224, 224)\n"
     ]
    },
    {
     "name": "stderr",
     "output_type": "stream",
     "text": [
      "Compute features: 37.08 seconds\n",
      "Compute features at one section, multiple locations: 38.77 seconds\n"
     ]
    },
    {
     "name": "stdout",
     "output_type": "stream",
     "text": [
      "aws s3 cp \"/data/CSHL_patch_features/inception-bn-blue/MD589/MD589_prep2_none_win7/MD589-IHC64-2015.07.31-01.47.28_MD589_2_0191_prep2_none_win7_inception-bn-blue_features.bp\" \"s3://mousebrainatlas-data/CSHL_patch_features/inception-bn-blue/MD589/MD589_prep2_none_win7/MD589-IHC64-2015.07.31-01.47.28_MD589_2_0191_prep2_none_win7_inception-bn-blue_features.bp\"\n",
      "0\n",
      "aws s3 cp \"/data/CSHL_patch_features/inception-bn-blue/MD589/MD589_prep2_none_win7/MD589-IHC64-2015.07.31-01.47.28_MD589_2_0191_prep2_none_win7_inception-bn-blue_locations.bp\" \"s3://mousebrainatlas-data/CSHL_patch_features/inception-bn-blue/MD589/MD589_prep2_none_win7/MD589-IHC64-2015.07.31-01.47.28_MD589_2_0191_prep2_none_win7_inception-bn-blue_locations.bp\"\n",
      "0\n",
      "rm -rf \"/data/CSHL_patch_features/inception-bn-blue/MD589/MD589_prep2_none_win7/MD589-N64-2015.07.30-20.27.19_MD589_3_0192_prep2_none_win7_inception-bn-blue_features.bp\" && mkdir -p \"/data/CSHL_patch_features/inception-bn-blue/MD589/MD589_prep2_none_win7\"\n",
      "0\n",
      "aws s3 cp \"s3://mousebrainatlas-data/CSHL_patch_features/inception-bn-blue/MD589/MD589_prep2_none_win7/MD589-N64-2015.07.30-20.27.19_MD589_3_0192_prep2_none_win7_inception-bn-blue_features.bp\" \"/data/CSHL_patch_features/inception-bn-blue/MD589/MD589_prep2_none_win7/MD589-N64-2015.07.30-20.27.19_MD589_3_0192_prep2_none_win7_inception-bn-blue_features.bp\"\n"
     ]
    },
    {
     "name": "stderr",
     "output_type": "stream",
     "text": [
      "Save features: 3.55 seconds\n",
      "locate patches: 0.02 seconds\n"
     ]
    },
    {
     "name": "stdout",
     "output_type": "stream",
     "text": [
      "1\n"
     ]
    },
    {
     "name": "stderr",
     "output_type": "stream",
     "text": [
      "Features for MD589, 340/MD589-N64-2015.07.30-20.27.19_MD589_3_0192 does not exist.\n",
      "No pre-computed features found... computing from scratch.\n",
      "Not using image_cache.\n"
     ]
    },
    {
     "name": "stdout",
     "output_type": "stream",
     "text": [
      "/data/CSHL_data_processed/MD589/MD589_prep2_raw_gray/MD589-N64-2015.07.30-20.27.19_MD589_3_0192_prep2_raw_gray.tif\n"
     ]
    },
    {
     "name": "stderr",
     "output_type": "stream",
     "text": [
      "Load image: 0.98 seconds.\n",
      "Crop patches: 0.74 seconds.\n",
      "Extract patches: 1.74 seconds\n"
     ]
    },
    {
     "name": "stdout",
     "output_type": "stream",
     "text": [
      "(23015, 1, 224, 224)\n"
     ]
    },
    {
     "name": "stderr",
     "output_type": "stream",
     "text": [
      "Compute features: 36.98 seconds\n",
      "Compute features at one section, multiple locations: 38.75 seconds\n"
     ]
    },
    {
     "name": "stdout",
     "output_type": "stream",
     "text": [
      "aws s3 cp \"/data/CSHL_patch_features/inception-bn-blue/MD589/MD589_prep2_none_win7/MD589-N64-2015.07.30-20.27.19_MD589_3_0192_prep2_none_win7_inception-bn-blue_features.bp\" \"s3://mousebrainatlas-data/CSHL_patch_features/inception-bn-blue/MD589/MD589_prep2_none_win7/MD589-N64-2015.07.30-20.27.19_MD589_3_0192_prep2_none_win7_inception-bn-blue_features.bp\"\n",
      "0\n",
      "aws s3 cp \"/data/CSHL_patch_features/inception-bn-blue/MD589/MD589_prep2_none_win7/MD589-N64-2015.07.30-20.27.19_MD589_3_0192_prep2_none_win7_inception-bn-blue_locations.bp\" \"s3://mousebrainatlas-data/CSHL_patch_features/inception-bn-blue/MD589/MD589_prep2_none_win7/MD589-N64-2015.07.30-20.27.19_MD589_3_0192_prep2_none_win7_inception-bn-blue_locations.bp\"\n",
      "0\n",
      "rm -rf \"/data/CSHL_patch_features/inception-bn-blue/MD589/MD589_prep2_none_win7/MD589-IHC64-2015.07.31-01.47.28_MD589_3_0192_prep2_none_win7_inception-bn-blue_features.bp\" && mkdir -p \"/data/CSHL_patch_features/inception-bn-blue/MD589/MD589_prep2_none_win7\"\n",
      "0\n",
      "aws s3 cp \"s3://mousebrainatlas-data/CSHL_patch_features/inception-bn-blue/MD589/MD589_prep2_none_win7/MD589-IHC64-2015.07.31-01.47.28_MD589_3_0192_prep2_none_win7_inception-bn-blue_features.bp\" \"/data/CSHL_patch_features/inception-bn-blue/MD589/MD589_prep2_none_win7/MD589-IHC64-2015.07.31-01.47.28_MD589_3_0192_prep2_none_win7_inception-bn-blue_features.bp\"\n"
     ]
    },
    {
     "name": "stderr",
     "output_type": "stream",
     "text": [
      "Save features: 2.89 seconds\n",
      "locate patches: 0.02 seconds\n"
     ]
    },
    {
     "name": "stdout",
     "output_type": "stream",
     "text": [
      "1\n"
     ]
    },
    {
     "name": "stderr",
     "output_type": "stream",
     "text": [
      "Features for MD589, 341/MD589-IHC64-2015.07.31-01.47.28_MD589_3_0192 does not exist.\n",
      "No pre-computed features found... computing from scratch.\n",
      "Not using image_cache.\n"
     ]
    },
    {
     "name": "stdout",
     "output_type": "stream",
     "text": [
      "/data/CSHL_data_processed/MD589/MD589_prep2_raw_gray/MD589-IHC64-2015.07.31-01.47.28_MD589_3_0192_prep2_raw_gray.tif\n"
     ]
    },
    {
     "name": "stderr",
     "output_type": "stream",
     "text": [
      "Load image: 0.86 seconds.\n",
      "Crop patches: 0.86 seconds.\n",
      "Extract patches: 1.73 seconds\n"
     ]
    },
    {
     "name": "stdout",
     "output_type": "stream",
     "text": [
      "(23151, 1, 224, 224)\n"
     ]
    },
    {
     "name": "stderr",
     "output_type": "stream",
     "text": [
      "Compute features: 39.27 seconds\n",
      "Compute features at one section, multiple locations: 41.07 seconds\n"
     ]
    },
    {
     "name": "stdout",
     "output_type": "stream",
     "text": [
      "aws s3 cp \"/data/CSHL_patch_features/inception-bn-blue/MD589/MD589_prep2_none_win7/MD589-IHC64-2015.07.31-01.47.28_MD589_3_0192_prep2_none_win7_inception-bn-blue_features.bp\" \"s3://mousebrainatlas-data/CSHL_patch_features/inception-bn-blue/MD589/MD589_prep2_none_win7/MD589-IHC64-2015.07.31-01.47.28_MD589_3_0192_prep2_none_win7_inception-bn-blue_features.bp\"\n",
      "0\n",
      "aws s3 cp \"/data/CSHL_patch_features/inception-bn-blue/MD589/MD589_prep2_none_win7/MD589-IHC64-2015.07.31-01.47.28_MD589_3_0192_prep2_none_win7_inception-bn-blue_locations.bp\" \"s3://mousebrainatlas-data/CSHL_patch_features/inception-bn-blue/MD589/MD589_prep2_none_win7/MD589-IHC64-2015.07.31-01.47.28_MD589_3_0192_prep2_none_win7_inception-bn-blue_locations.bp\"\n",
      "0\n",
      "rm -rf \"/data/CSHL_patch_features/inception-bn-blue/MD589/MD589_prep2_none_win7/MD589-N65-2015.07.30-20.31.20_MD589_1_0193_prep2_none_win7_inception-bn-blue_features.bp\" && mkdir -p \"/data/CSHL_patch_features/inception-bn-blue/MD589/MD589_prep2_none_win7\"\n",
      "0\n",
      "aws s3 cp \"s3://mousebrainatlas-data/CSHL_patch_features/inception-bn-blue/MD589/MD589_prep2_none_win7/MD589-N65-2015.07.30-20.31.20_MD589_1_0193_prep2_none_win7_inception-bn-blue_features.bp\" \"/data/CSHL_patch_features/inception-bn-blue/MD589/MD589_prep2_none_win7/MD589-N65-2015.07.30-20.31.20_MD589_1_0193_prep2_none_win7_inception-bn-blue_features.bp\"\n"
     ]
    },
    {
     "name": "stderr",
     "output_type": "stream",
     "text": [
      "Save features: 3.02 seconds\n",
      "locate patches: 0.02 seconds\n"
     ]
    },
    {
     "name": "stdout",
     "output_type": "stream",
     "text": [
      "1\n"
     ]
    },
    {
     "name": "stderr",
     "output_type": "stream",
     "text": [
      "Features for MD589, 342/MD589-N65-2015.07.30-20.31.20_MD589_1_0193 does not exist.\n",
      "No pre-computed features found... computing from scratch.\n",
      "Not using image_cache.\n"
     ]
    },
    {
     "name": "stdout",
     "output_type": "stream",
     "text": [
      "/data/CSHL_data_processed/MD589/MD589_prep2_raw_gray/MD589-N65-2015.07.30-20.31.20_MD589_1_0193_prep2_raw_gray.tif\n"
     ]
    },
    {
     "name": "stderr",
     "output_type": "stream",
     "text": [
      "Load image: 0.89 seconds.\n",
      "Crop patches: 0.72 seconds.\n",
      "Extract patches: 1.62 seconds\n"
     ]
    },
    {
     "name": "stdout",
     "output_type": "stream",
     "text": [
      "(22993, 1, 224, 224)\n"
     ]
    },
    {
     "name": "stderr",
     "output_type": "stream",
     "text": [
      "Compute features: 36.20 seconds\n",
      "Compute features at one section, multiple locations: 37.86 seconds\n"
     ]
    },
    {
     "name": "stdout",
     "output_type": "stream",
     "text": [
      "aws s3 cp \"/data/CSHL_patch_features/inception-bn-blue/MD589/MD589_prep2_none_win7/MD589-N65-2015.07.30-20.31.20_MD589_1_0193_prep2_none_win7_inception-bn-blue_features.bp\" \"s3://mousebrainatlas-data/CSHL_patch_features/inception-bn-blue/MD589/MD589_prep2_none_win7/MD589-N65-2015.07.30-20.31.20_MD589_1_0193_prep2_none_win7_inception-bn-blue_features.bp\"\n",
      "0\n",
      "aws s3 cp \"/data/CSHL_patch_features/inception-bn-blue/MD589/MD589_prep2_none_win7/MD589-N65-2015.07.30-20.31.20_MD589_1_0193_prep2_none_win7_inception-bn-blue_locations.bp\" \"s3://mousebrainatlas-data/CSHL_patch_features/inception-bn-blue/MD589/MD589_prep2_none_win7/MD589-N65-2015.07.30-20.31.20_MD589_1_0193_prep2_none_win7_inception-bn-blue_locations.bp\"\n",
      "0\n",
      "rm -rf \"/data/CSHL_patch_features/inception-bn-blue/MD589/MD589_prep2_none_win7/MD589-IHC65-2015.07.31-01.51.22_MD589_1_0193_prep2_none_win7_inception-bn-blue_features.bp\" && mkdir -p \"/data/CSHL_patch_features/inception-bn-blue/MD589/MD589_prep2_none_win7\"\n",
      "0\n",
      "aws s3 cp \"s3://mousebrainatlas-data/CSHL_patch_features/inception-bn-blue/MD589/MD589_prep2_none_win7/MD589-IHC65-2015.07.31-01.51.22_MD589_1_0193_prep2_none_win7_inception-bn-blue_features.bp\" \"/data/CSHL_patch_features/inception-bn-blue/MD589/MD589_prep2_none_win7/MD589-IHC65-2015.07.31-01.51.22_MD589_1_0193_prep2_none_win7_inception-bn-blue_features.bp\"\n"
     ]
    },
    {
     "name": "stderr",
     "output_type": "stream",
     "text": [
      "Save features: 2.98 seconds\n",
      "locate patches: 0.02 seconds\n"
     ]
    },
    {
     "name": "stdout",
     "output_type": "stream",
     "text": [
      "1\n"
     ]
    },
    {
     "name": "stderr",
     "output_type": "stream",
     "text": [
      "Features for MD589, 343/MD589-IHC65-2015.07.31-01.51.22_MD589_1_0193 does not exist.\n",
      "No pre-computed features found... computing from scratch.\n",
      "Not using image_cache.\n"
     ]
    },
    {
     "name": "stdout",
     "output_type": "stream",
     "text": [
      "/data/CSHL_data_processed/MD589/MD589_prep2_raw_gray/MD589-IHC65-2015.07.31-01.51.22_MD589_1_0193_prep2_raw_gray.tif\n"
     ]
    },
    {
     "name": "stderr",
     "output_type": "stream",
     "text": [
      "Load image: 0.91 seconds.\n",
      "Crop patches: 0.60 seconds.\n",
      "Extract patches: 1.51 seconds\n"
     ]
    },
    {
     "name": "stdout",
     "output_type": "stream",
     "text": [
      "(22990, 1, 224, 224)\n"
     ]
    },
    {
     "name": "stderr",
     "output_type": "stream",
     "text": [
      "Compute features: 36.02 seconds\n",
      "Compute features at one section, multiple locations: 37.55 seconds\n"
     ]
    },
    {
     "name": "stdout",
     "output_type": "stream",
     "text": [
      "aws s3 cp \"/data/CSHL_patch_features/inception-bn-blue/MD589/MD589_prep2_none_win7/MD589-IHC65-2015.07.31-01.51.22_MD589_1_0193_prep2_none_win7_inception-bn-blue_features.bp\" \"s3://mousebrainatlas-data/CSHL_patch_features/inception-bn-blue/MD589/MD589_prep2_none_win7/MD589-IHC65-2015.07.31-01.51.22_MD589_1_0193_prep2_none_win7_inception-bn-blue_features.bp\"\n",
      "0\n",
      "aws s3 cp \"/data/CSHL_patch_features/inception-bn-blue/MD589/MD589_prep2_none_win7/MD589-IHC65-2015.07.31-01.51.22_MD589_1_0193_prep2_none_win7_inception-bn-blue_locations.bp\" \"s3://mousebrainatlas-data/CSHL_patch_features/inception-bn-blue/MD589/MD589_prep2_none_win7/MD589-IHC65-2015.07.31-01.51.22_MD589_1_0193_prep2_none_win7_inception-bn-blue_locations.bp\"\n",
      "0\n",
      "rm -rf \"/data/CSHL_patch_features/inception-bn-blue/MD589/MD589_prep2_none_win7/MD589-N65-2015.07.30-20.31.20_MD589_2_0194_prep2_none_win7_inception-bn-blue_features.bp\" && mkdir -p \"/data/CSHL_patch_features/inception-bn-blue/MD589/MD589_prep2_none_win7\"\n",
      "0\n",
      "aws s3 cp \"s3://mousebrainatlas-data/CSHL_patch_features/inception-bn-blue/MD589/MD589_prep2_none_win7/MD589-N65-2015.07.30-20.31.20_MD589_2_0194_prep2_none_win7_inception-bn-blue_features.bp\" \"/data/CSHL_patch_features/inception-bn-blue/MD589/MD589_prep2_none_win7/MD589-N65-2015.07.30-20.31.20_MD589_2_0194_prep2_none_win7_inception-bn-blue_features.bp\"\n"
     ]
    },
    {
     "name": "stderr",
     "output_type": "stream",
     "text": [
      "Save features: 2.80 seconds\n",
      "locate patches: 0.02 seconds\n"
     ]
    },
    {
     "name": "stdout",
     "output_type": "stream",
     "text": [
      "1\n"
     ]
    },
    {
     "name": "stderr",
     "output_type": "stream",
     "text": [
      "Features for MD589, 344/MD589-N65-2015.07.30-20.31.20_MD589_2_0194 does not exist.\n",
      "No pre-computed features found... computing from scratch.\n",
      "Not using image_cache.\n"
     ]
    },
    {
     "name": "stdout",
     "output_type": "stream",
     "text": [
      "/data/CSHL_data_processed/MD589/MD589_prep2_raw_gray/MD589-N65-2015.07.30-20.31.20_MD589_2_0194_prep2_raw_gray.tif\n"
     ]
    },
    {
     "name": "stderr",
     "output_type": "stream",
     "text": [
      "Load image: 0.87 seconds.\n",
      "Crop patches: 0.55 seconds.\n",
      "Extract patches: 1.42 seconds\n"
     ]
    },
    {
     "name": "stdout",
     "output_type": "stream",
     "text": [
      "(22754, 1, 224, 224)\n"
     ]
    },
    {
     "name": "stderr",
     "output_type": "stream",
     "text": [
      "Compute features: 35.79 seconds\n",
      "Compute features at one section, multiple locations: 37.22 seconds\n"
     ]
    },
    {
     "name": "stdout",
     "output_type": "stream",
     "text": [
      "aws s3 cp \"/data/CSHL_patch_features/inception-bn-blue/MD589/MD589_prep2_none_win7/MD589-N65-2015.07.30-20.31.20_MD589_2_0194_prep2_none_win7_inception-bn-blue_features.bp\" \"s3://mousebrainatlas-data/CSHL_patch_features/inception-bn-blue/MD589/MD589_prep2_none_win7/MD589-N65-2015.07.30-20.31.20_MD589_2_0194_prep2_none_win7_inception-bn-blue_features.bp\"\n",
      "0\n",
      "aws s3 cp \"/data/CSHL_patch_features/inception-bn-blue/MD589/MD589_prep2_none_win7/MD589-N65-2015.07.30-20.31.20_MD589_2_0194_prep2_none_win7_inception-bn-blue_locations.bp\" \"s3://mousebrainatlas-data/CSHL_patch_features/inception-bn-blue/MD589/MD589_prep2_none_win7/MD589-N65-2015.07.30-20.31.20_MD589_2_0194_prep2_none_win7_inception-bn-blue_locations.bp\"\n",
      "0\n",
      "rm -rf \"/data/CSHL_patch_features/inception-bn-blue/MD589/MD589_prep2_none_win7/MD589-IHC65-2015.07.31-01.51.22_MD589_2_0194_prep2_none_win7_inception-bn-blue_features.bp\" && mkdir -p \"/data/CSHL_patch_features/inception-bn-blue/MD589/MD589_prep2_none_win7\"\n",
      "0\n",
      "aws s3 cp \"s3://mousebrainatlas-data/CSHL_patch_features/inception-bn-blue/MD589/MD589_prep2_none_win7/MD589-IHC65-2015.07.31-01.51.22_MD589_2_0194_prep2_none_win7_inception-bn-blue_features.bp\" \"/data/CSHL_patch_features/inception-bn-blue/MD589/MD589_prep2_none_win7/MD589-IHC65-2015.07.31-01.51.22_MD589_2_0194_prep2_none_win7_inception-bn-blue_features.bp\"\n"
     ]
    },
    {
     "name": "stderr",
     "output_type": "stream",
     "text": [
      "Save features: 2.79 seconds\n",
      "locate patches: 0.03 seconds\n"
     ]
    },
    {
     "name": "stdout",
     "output_type": "stream",
     "text": [
      "1\n"
     ]
    },
    {
     "name": "stderr",
     "output_type": "stream",
     "text": [
      "Features for MD589, 345/MD589-IHC65-2015.07.31-01.51.22_MD589_2_0194 does not exist.\n",
      "No pre-computed features found... computing from scratch.\n",
      "Not using image_cache.\n"
     ]
    },
    {
     "name": "stdout",
     "output_type": "stream",
     "text": [
      "/data/CSHL_data_processed/MD589/MD589_prep2_raw_gray/MD589-IHC65-2015.07.31-01.51.22_MD589_2_0194_prep2_raw_gray.tif\n"
     ]
    },
    {
     "name": "stderr",
     "output_type": "stream",
     "text": [
      "Load image: 0.92 seconds.\n",
      "Crop patches: 0.59 seconds.\n",
      "Extract patches: 1.52 seconds\n"
     ]
    },
    {
     "name": "stdout",
     "output_type": "stream",
     "text": [
      "(22691, 1, 224, 224)\n"
     ]
    },
    {
     "name": "stderr",
     "output_type": "stream",
     "text": [
      "Compute features: 38.47 seconds\n",
      "Compute features at one section, multiple locations: 40.01 seconds\n"
     ]
    },
    {
     "name": "stdout",
     "output_type": "stream",
     "text": [
      "aws s3 cp \"/data/CSHL_patch_features/inception-bn-blue/MD589/MD589_prep2_none_win7/MD589-IHC65-2015.07.31-01.51.22_MD589_2_0194_prep2_none_win7_inception-bn-blue_features.bp\" \"s3://mousebrainatlas-data/CSHL_patch_features/inception-bn-blue/MD589/MD589_prep2_none_win7/MD589-IHC65-2015.07.31-01.51.22_MD589_2_0194_prep2_none_win7_inception-bn-blue_features.bp\"\n",
      "0\n",
      "aws s3 cp \"/data/CSHL_patch_features/inception-bn-blue/MD589/MD589_prep2_none_win7/MD589-IHC65-2015.07.31-01.51.22_MD589_2_0194_prep2_none_win7_inception-bn-blue_locations.bp\" \"s3://mousebrainatlas-data/CSHL_patch_features/inception-bn-blue/MD589/MD589_prep2_none_win7/MD589-IHC65-2015.07.31-01.51.22_MD589_2_0194_prep2_none_win7_inception-bn-blue_locations.bp\"\n",
      "0\n",
      "rm -rf \"/data/CSHL_patch_features/inception-bn-blue/MD589/MD589_prep2_none_win7/MD589-N65-2015.07.30-20.31.20_MD589_3_0195_prep2_none_win7_inception-bn-blue_features.bp\" && mkdir -p \"/data/CSHL_patch_features/inception-bn-blue/MD589/MD589_prep2_none_win7\"\n",
      "0\n",
      "aws s3 cp \"s3://mousebrainatlas-data/CSHL_patch_features/inception-bn-blue/MD589/MD589_prep2_none_win7/MD589-N65-2015.07.30-20.31.20_MD589_3_0195_prep2_none_win7_inception-bn-blue_features.bp\" \"/data/CSHL_patch_features/inception-bn-blue/MD589/MD589_prep2_none_win7/MD589-N65-2015.07.30-20.31.20_MD589_3_0195_prep2_none_win7_inception-bn-blue_features.bp\"\n"
     ]
    },
    {
     "name": "stderr",
     "output_type": "stream",
     "text": [
      "Save features: 2.79 seconds\n",
      "locate patches: 0.02 seconds\n"
     ]
    },
    {
     "name": "stdout",
     "output_type": "stream",
     "text": [
      "1\n"
     ]
    },
    {
     "name": "stderr",
     "output_type": "stream",
     "text": [
      "Features for MD589, 346/MD589-N65-2015.07.30-20.31.20_MD589_3_0195 does not exist.\n",
      "No pre-computed features found... computing from scratch.\n",
      "Not using image_cache.\n"
     ]
    },
    {
     "name": "stdout",
     "output_type": "stream",
     "text": [
      "/data/CSHL_data_processed/MD589/MD589_prep2_raw_gray/MD589-N65-2015.07.30-20.31.20_MD589_3_0195_prep2_raw_gray.tif\n"
     ]
    },
    {
     "name": "stderr",
     "output_type": "stream",
     "text": [
      "Load image: 0.87 seconds.\n",
      "Crop patches: 0.59 seconds.\n",
      "Extract patches: 1.46 seconds\n"
     ]
    },
    {
     "name": "stdout",
     "output_type": "stream",
     "text": [
      "(22619, 1, 224, 224)\n"
     ]
    },
    {
     "name": "stderr",
     "output_type": "stream",
     "text": [
      "Compute features: 37.29 seconds\n",
      "Compute features at one section, multiple locations: 38.76 seconds\n"
     ]
    },
    {
     "name": "stdout",
     "output_type": "stream",
     "text": [
      "aws s3 cp \"/data/CSHL_patch_features/inception-bn-blue/MD589/MD589_prep2_none_win7/MD589-N65-2015.07.30-20.31.20_MD589_3_0195_prep2_none_win7_inception-bn-blue_features.bp\" \"s3://mousebrainatlas-data/CSHL_patch_features/inception-bn-blue/MD589/MD589_prep2_none_win7/MD589-N65-2015.07.30-20.31.20_MD589_3_0195_prep2_none_win7_inception-bn-blue_features.bp\"\n",
      "0\n",
      "aws s3 cp \"/data/CSHL_patch_features/inception-bn-blue/MD589/MD589_prep2_none_win7/MD589-N65-2015.07.30-20.31.20_MD589_3_0195_prep2_none_win7_inception-bn-blue_locations.bp\" \"s3://mousebrainatlas-data/CSHL_patch_features/inception-bn-blue/MD589/MD589_prep2_none_win7/MD589-N65-2015.07.30-20.31.20_MD589_3_0195_prep2_none_win7_inception-bn-blue_locations.bp\"\n",
      "0\n",
      "rm -rf \"/data/CSHL_patch_features/inception-bn-blue/MD589/MD589_prep2_none_win7/MD589-IHC65-2015.07.31-01.51.22_MD589_3_0195_prep2_none_win7_inception-bn-blue_features.bp\" && mkdir -p \"/data/CSHL_patch_features/inception-bn-blue/MD589/MD589_prep2_none_win7\"\n",
      "0\n",
      "aws s3 cp \"s3://mousebrainatlas-data/CSHL_patch_features/inception-bn-blue/MD589/MD589_prep2_none_win7/MD589-IHC65-2015.07.31-01.51.22_MD589_3_0195_prep2_none_win7_inception-bn-blue_features.bp\" \"/data/CSHL_patch_features/inception-bn-blue/MD589/MD589_prep2_none_win7/MD589-IHC65-2015.07.31-01.51.22_MD589_3_0195_prep2_none_win7_inception-bn-blue_features.bp\"\n"
     ]
    },
    {
     "name": "stderr",
     "output_type": "stream",
     "text": [
      "Save features: 2.86 seconds\n",
      "locate patches: 0.02 seconds\n"
     ]
    },
    {
     "name": "stdout",
     "output_type": "stream",
     "text": [
      "1\n"
     ]
    },
    {
     "name": "stderr",
     "output_type": "stream",
     "text": [
      "Features for MD589, 347/MD589-IHC65-2015.07.31-01.51.22_MD589_3_0195 does not exist.\n",
      "No pre-computed features found... computing from scratch.\n",
      "Not using image_cache.\n"
     ]
    },
    {
     "name": "stdout",
     "output_type": "stream",
     "text": [
      "/data/CSHL_data_processed/MD589/MD589_prep2_raw_gray/MD589-IHC65-2015.07.31-01.51.22_MD589_3_0195_prep2_raw_gray.tif\n"
     ]
    },
    {
     "name": "stderr",
     "output_type": "stream",
     "text": [
      "Load image: 0.90 seconds.\n",
      "Crop patches: 0.55 seconds.\n",
      "Extract patches: 1.46 seconds\n"
     ]
    },
    {
     "name": "stdout",
     "output_type": "stream",
     "text": [
      "(22476, 1, 224, 224)\n"
     ]
    },
    {
     "name": "stderr",
     "output_type": "stream",
     "text": [
      "Compute features: 37.12 seconds\n",
      "Compute features at one section, multiple locations: 38.58 seconds\n"
     ]
    },
    {
     "name": "stdout",
     "output_type": "stream",
     "text": [
      "aws s3 cp \"/data/CSHL_patch_features/inception-bn-blue/MD589/MD589_prep2_none_win7/MD589-IHC65-2015.07.31-01.51.22_MD589_3_0195_prep2_none_win7_inception-bn-blue_features.bp\" \"s3://mousebrainatlas-data/CSHL_patch_features/inception-bn-blue/MD589/MD589_prep2_none_win7/MD589-IHC65-2015.07.31-01.51.22_MD589_3_0195_prep2_none_win7_inception-bn-blue_features.bp\"\n",
      "0\n",
      "aws s3 cp \"/data/CSHL_patch_features/inception-bn-blue/MD589/MD589_prep2_none_win7/MD589-IHC65-2015.07.31-01.51.22_MD589_3_0195_prep2_none_win7_inception-bn-blue_locations.bp\" \"s3://mousebrainatlas-data/CSHL_patch_features/inception-bn-blue/MD589/MD589_prep2_none_win7/MD589-IHC65-2015.07.31-01.51.22_MD589_3_0195_prep2_none_win7_inception-bn-blue_locations.bp\"\n",
      "0\n",
      "rm -rf \"/data/CSHL_patch_features/inception-bn-blue/MD589/MD589_prep2_none_win7/MD589-N66-2015.07.30-20.35.16_MD589_1_0196_prep2_none_win7_inception-bn-blue_features.bp\" && mkdir -p \"/data/CSHL_patch_features/inception-bn-blue/MD589/MD589_prep2_none_win7\"\n",
      "0\n",
      "aws s3 cp \"s3://mousebrainatlas-data/CSHL_patch_features/inception-bn-blue/MD589/MD589_prep2_none_win7/MD589-N66-2015.07.30-20.35.16_MD589_1_0196_prep2_none_win7_inception-bn-blue_features.bp\" \"/data/CSHL_patch_features/inception-bn-blue/MD589/MD589_prep2_none_win7/MD589-N66-2015.07.30-20.35.16_MD589_1_0196_prep2_none_win7_inception-bn-blue_features.bp\"\n"
     ]
    },
    {
     "name": "stderr",
     "output_type": "stream",
     "text": [
      "Save features: 3.96 seconds\n",
      "locate patches: 0.02 seconds\n"
     ]
    },
    {
     "name": "stdout",
     "output_type": "stream",
     "text": [
      "1\n"
     ]
    },
    {
     "name": "stderr",
     "output_type": "stream",
     "text": [
      "Features for MD589, 348/MD589-N66-2015.07.30-20.35.16_MD589_1_0196 does not exist.\n",
      "No pre-computed features found... computing from scratch.\n",
      "Not using image_cache.\n"
     ]
    },
    {
     "name": "stdout",
     "output_type": "stream",
     "text": [
      "/data/CSHL_data_processed/MD589/MD589_prep2_raw_gray/MD589-N66-2015.07.30-20.35.16_MD589_1_0196_prep2_raw_gray.tif\n"
     ]
    },
    {
     "name": "stderr",
     "output_type": "stream",
     "text": [
      "Load image: 0.84 seconds.\n",
      "Crop patches: 0.54 seconds.\n",
      "Extract patches: 1.38 seconds\n"
     ]
    },
    {
     "name": "stdout",
     "output_type": "stream",
     "text": [
      "(21746, 1, 224, 224)\n"
     ]
    }
   ],
   "source": [
    "# for stack in ['MD661', 'MD662']:\n",
    "# for stack in ['MD585', 'MD589', 'MD594']:\n",
    "for stack in ['MD589']:\n",
    "    for sec in metadata_cache['valid_sections'][stack]:\n",
    "        if sec < 289: continue\n",
    "#     for sec in [108]:\n",
    "#     for sec in metadata_cache['valid_sections'][stack][::30]:\n",
    "#     for sec in [145, 150, 156, 161, 166, 171, 176, 182, 261, 275, 285, 295]:\n",
    "\n",
    "        compute_and_save_features_one_section(\n",
    "#                                 scheme='normalize_mu_region_sigma_wholeImage_(-1,5)', \n",
    "                                    scheme='none', \n",
    "    #                             bbox=(11217, 16886, 13859, 18404),\n",
    "#                                 method='glcm',\n",
    "                                method='cnn',\n",
    "                                win_id=7, prep_id=2,\n",
    "                                stack=stack, sec=sec,\n",
    "                                model=model, model_name=model_name,\n",
    "                                 mean_img=mean_img, \n",
    "                                 batch_size=batch_size, \n",
    "            attach_timestamp=False)\n",
    "#         break"
   ]
  },
  {
   "cell_type": "code",
   "execution_count": null,
   "metadata": {
    "collapsed": true
   },
   "outputs": [],
   "source": []
  }
 ],
 "metadata": {
  "kernelspec": {
   "display_name": "Python 2",
   "language": "python",
   "name": "python2"
  },
  "language_info": {
   "codemirror_mode": {
    "name": "ipython",
    "version": 2
   },
   "file_extension": ".py",
   "mimetype": "text/x-python",
   "name": "python",
   "nbconvert_exporter": "python",
   "pygments_lexer": "ipython2",
   "version": "2.7.12"
  }
 },
 "nbformat": 4,
 "nbformat_minor": 2
}
