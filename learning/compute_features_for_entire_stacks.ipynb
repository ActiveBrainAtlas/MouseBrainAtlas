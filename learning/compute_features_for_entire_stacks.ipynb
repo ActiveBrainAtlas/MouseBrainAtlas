{
 "cells": [
  {
   "cell_type": "code",
   "execution_count": 1,
   "metadata": {
    "scrolled": true
   },
   "outputs": [
    {
     "name": "stdout",
     "output_type": "stream",
     "text": [
      "Setting environment for Precision WorkStation\n"
     ]
    },
    {
     "name": "stderr",
     "output_type": "stream",
     "text": [
      "No vtk\n",
      "/usr/local/lib/python2.7/dist-packages/sklearn/cross_validation.py:44: DeprecationWarning: This module was deprecated in version 0.18 in favor of the model_selection module into which all the refactored classes and functions are moved. Also note that the interface of the new CV iterators are different from that of this module. This module will be removed in 0.20.\n",
      "  \"This module will be removed in 0.20.\", DeprecationWarning)\n"
     ]
    }
   ],
   "source": [
    "%reload_ext autoreload\n",
    "%autoreload 2\n",
    "\n",
    "import os\n",
    "import argparse\n",
    "import sys\n",
    "import time\n",
    "\n",
    "import numpy as np\n",
    "from multiprocess import Pool\n",
    "\n",
    "sys.path.append(os.path.join(os.environ['REPO_DIR'], 'utilities'))\n",
    "from utilities2015 import *\n",
    "from metadata import *\n",
    "from data_manager import *\n",
    "from learning_utilities import *\n",
    "\n",
    "%matplotlib inline"
   ]
  },
  {
   "cell_type": "code",
   "execution_count": 2,
   "metadata": {},
   "outputs": [
    {
     "name": "stderr",
     "output_type": "stream",
     "text": [
      "/usr/local/lib/python2.7/dist-packages/mxnet/module/base_module.py:53: UserWarning: \u001b[91mYou created Module with Module(..., label_names=['softmax_label']) but input with name 'softmax_label' is not found in symbol.list_arguments(). Did you mean one of:\n",
      "\tdata\u001b[0m\n",
      "  warnings.warn(msg)\n",
      "/usr/local/lib/python2.7/dist-packages/mxnet/module/base_module.py:65: UserWarning: Data provided by label_shapes don't match names specified by label_names ([] vs. ['softmax_label'])\n",
      "  warnings.warn(msg)\n"
     ]
    }
   ],
   "source": [
    "batch_size = 256\n",
    "model_dir_name = 'inception-bn-blue'\n",
    "model_name = 'inception-bn-blue'\n",
    "model, mean_img = load_mxnet_model(model_dir_name=model_dir_name, model_name=model_name, \n",
    "                                   num_gpus=1, batch_size=batch_size)"
   ]
  },
  {
   "cell_type": "code",
   "execution_count": 3,
   "metadata": {
    "scrolled": true
   },
   "outputs": [
    {
     "name": "stderr",
     "output_type": "stream",
     "text": [
      "locate patches: 0.05 seconds\n"
     ]
    },
    {
     "name": "stdout",
     "output_type": "stream",
     "text": [
      "rm -rf \"/data/CSHL_patch_features/inception-bn-blue/CHATM2/CHATM2_prep2_none_win7/CHATM2_slide15_2018_01_18-S1_prep2_none_win7_inception-bn-blue_features.bp\" && mkdir -p \"/data/CSHL_patch_features/inception-bn-blue/CHATM2/CHATM2_prep2_none_win7\"\n",
      "0\n",
      "aws s3 cp \"s3://mousebrainatlas-data/CSHL_patch_features/inception-bn-blue/CHATM2/CHATM2_prep2_none_win7/CHATM2_slide15_2018_01_18-S1_prep2_none_win7_inception-bn-blue_features.bp\" \"/data/CSHL_patch_features/inception-bn-blue/CHATM2/CHATM2_prep2_none_win7/CHATM2_slide15_2018_01_18-S1_prep2_none_win7_inception-bn-blue_features.bp\"\n",
      "1\n"
     ]
    },
    {
     "name": "stderr",
     "output_type": "stream",
     "text": [
      "Features for CHATM2, 43/CHATM2_slide15_2018_01_18-S1 does not exist.\n",
      "No pre-computed features found... computing from scratch.\n",
      "Not using image_cache.\n"
     ]
    },
    {
     "name": "stdout",
     "output_type": "stream",
     "text": [
      "/data/CSHL_data_processed/CHATM2/CHATM2_prep2_raw_NtbNormalizedAdaptiveInvertedGamma/CHATM2_slide15_2018_01_18-S1_prep2_raw_NtbNormalizedAdaptiveInvertedGamma.tif\n"
     ]
    },
    {
     "name": "stderr",
     "output_type": "stream",
     "text": [
      "Load image: 3.77 seconds.\n",
      "Rescale image from 317 to 224: 3.65 seconds.\n",
      "Crop patches: 0.72 seconds.\n",
      "Extract patches: 8.16 seconds\n"
     ]
    },
    {
     "name": "stdout",
     "output_type": "stream",
     "text": [
      "(22741, 1, 224, 224)\n"
     ]
    },
    {
     "name": "stderr",
     "output_type": "stream",
     "text": [
      "Compute features: 34.68 seconds\n",
      "Compute features at one section, multiple locations: 42.86 seconds\n"
     ]
    },
    {
     "name": "stdout",
     "output_type": "stream",
     "text": [
      "aws s3 cp \"/data/CSHL_patch_features/inception-bn-blue/CHATM2/CHATM2_prep2_none_win7/CHATM2_slide15_2018_01_18-S1_prep2_none_win7_inception-bn-blue_features.bp\" \"s3://mousebrainatlas-data/CSHL_patch_features/inception-bn-blue/CHATM2/CHATM2_prep2_none_win7/CHATM2_slide15_2018_01_18-S1_prep2_none_win7_inception-bn-blue_features.bp\"\n",
      "0\n",
      "aws s3 cp \"/data/CSHL_patch_features/inception-bn-blue/CHATM2/CHATM2_prep2_none_win7/CHATM2_slide15_2018_01_18-S1_prep2_none_win7_inception-bn-blue_locations.bp\" \"s3://mousebrainatlas-data/CSHL_patch_features/inception-bn-blue/CHATM2/CHATM2_prep2_none_win7/CHATM2_slide15_2018_01_18-S1_prep2_none_win7_inception-bn-blue_locations.bp\"\n",
      "0\n",
      "rm -rf \"/data/CSHL_patch_features/inception-bn-blue/CHATM2/CHATM2_prep2_none_win7/CHATM2_slide16_2018_01_18-S1_prep2_none_win7_inception-bn-blue_features.bp\" && mkdir -p \"/data/CSHL_patch_features/inception-bn-blue/CHATM2/CHATM2_prep2_none_win7\"\n",
      "0\n"
     ]
    },
    {
     "name": "stderr",
     "output_type": "stream",
     "text": [
      "Save features: 2.74 seconds\n",
      "locate patches: 0.13 seconds\n"
     ]
    },
    {
     "name": "stdout",
     "output_type": "stream",
     "text": [
      "aws s3 cp \"s3://mousebrainatlas-data/CSHL_patch_features/inception-bn-blue/CHATM2/CHATM2_prep2_none_win7/CHATM2_slide16_2018_01_18-S1_prep2_none_win7_inception-bn-blue_features.bp\" \"/data/CSHL_patch_features/inception-bn-blue/CHATM2/CHATM2_prep2_none_win7/CHATM2_slide16_2018_01_18-S1_prep2_none_win7_inception-bn-blue_features.bp\"\n",
      "1\n"
     ]
    },
    {
     "name": "stderr",
     "output_type": "stream",
     "text": [
      "Features for CHATM2, 44/CHATM2_slide16_2018_01_18-S1 does not exist.\n",
      "No pre-computed features found... computing from scratch.\n",
      "Not using image_cache.\n"
     ]
    },
    {
     "name": "stdout",
     "output_type": "stream",
     "text": [
      "/data/CSHL_data_processed/CHATM2/CHATM2_prep2_raw_NtbNormalizedAdaptiveInvertedGamma/CHATM2_slide16_2018_01_18-S1_prep2_raw_NtbNormalizedAdaptiveInvertedGamma.tif\n"
     ]
    },
    {
     "name": "stderr",
     "output_type": "stream",
     "text": [
      "Load image: 4.01 seconds.\n",
      "Rescale image from 317 to 224: 4.30 seconds.\n",
      "Crop patches: 0.69 seconds.\n",
      "Extract patches: 9.02 seconds\n"
     ]
    },
    {
     "name": "stdout",
     "output_type": "stream",
     "text": [
      "(22770, 1, 224, 224)\n"
     ]
    },
    {
     "name": "stderr",
     "output_type": "stream",
     "text": [
      "Compute features: 35.02 seconds\n",
      "Compute features at one section, multiple locations: 44.06 seconds\n"
     ]
    },
    {
     "name": "stdout",
     "output_type": "stream",
     "text": [
      "aws s3 cp \"/data/CSHL_patch_features/inception-bn-blue/CHATM2/CHATM2_prep2_none_win7/CHATM2_slide16_2018_01_18-S1_prep2_none_win7_inception-bn-blue_features.bp\" \"s3://mousebrainatlas-data/CSHL_patch_features/inception-bn-blue/CHATM2/CHATM2_prep2_none_win7/CHATM2_slide16_2018_01_18-S1_prep2_none_win7_inception-bn-blue_features.bp\"\n",
      "0\n",
      "aws s3 cp \"/data/CSHL_patch_features/inception-bn-blue/CHATM2/CHATM2_prep2_none_win7/CHATM2_slide16_2018_01_18-S1_prep2_none_win7_inception-bn-blue_locations.bp\" \"s3://mousebrainatlas-data/CSHL_patch_features/inception-bn-blue/CHATM2/CHATM2_prep2_none_win7/CHATM2_slide16_2018_01_18-S1_prep2_none_win7_inception-bn-blue_locations.bp\"\n",
      "0\n",
      "rm -rf \"/data/CSHL_patch_features/inception-bn-blue/CHATM2/CHATM2_prep2_none_win7/CHATM2_slide15_2018_01_18-S2_prep2_none_win7_inception-bn-blue_features.bp\" && mkdir -p \"/data/CSHL_patch_features/inception-bn-blue/CHATM2/CHATM2_prep2_none_win7\"\n",
      "0\n",
      "aws s3 cp \"s3://mousebrainatlas-data/CSHL_patch_features/inception-bn-blue/CHATM2/CHATM2_prep2_none_win7/CHATM2_slide15_2018_01_18-S2_prep2_none_win7_inception-bn-blue_features.bp\" \"/data/CSHL_patch_features/inception-bn-blue/CHATM2/CHATM2_prep2_none_win7/CHATM2_slide15_2018_01_18-S2_prep2_none_win7_inception-bn-blue_features.bp\"\n"
     ]
    },
    {
     "name": "stderr",
     "output_type": "stream",
     "text": [
      "Save features: 2.78 seconds\n",
      "locate patches: 0.06 seconds\n"
     ]
    },
    {
     "name": "stdout",
     "output_type": "stream",
     "text": [
      "1\n"
     ]
    },
    {
     "name": "stderr",
     "output_type": "stream",
     "text": [
      "Features for CHATM2, 45/CHATM2_slide15_2018_01_18-S2 does not exist.\n",
      "No pre-computed features found... computing from scratch.\n",
      "Not using image_cache.\n"
     ]
    },
    {
     "name": "stdout",
     "output_type": "stream",
     "text": [
      "/data/CSHL_data_processed/CHATM2/CHATM2_prep2_raw_NtbNormalizedAdaptiveInvertedGamma/CHATM2_slide15_2018_01_18-S2_prep2_raw_NtbNormalizedAdaptiveInvertedGamma.tif\n"
     ]
    },
    {
     "name": "stderr",
     "output_type": "stream",
     "text": [
      "Load image: 1.76 seconds.\n",
      "Rescale image from 317 to 224: 3.74 seconds.\n",
      "Crop patches: 0.75 seconds.\n",
      "Extract patches: 6.27 seconds\n"
     ]
    },
    {
     "name": "stdout",
     "output_type": "stream",
     "text": [
      "(23015, 1, 224, 224)\n"
     ]
    },
    {
     "name": "stderr",
     "output_type": "stream",
     "text": [
      "Compute features: 35.88 seconds\n",
      "Compute features at one section, multiple locations: 42.18 seconds\n"
     ]
    },
    {
     "name": "stdout",
     "output_type": "stream",
     "text": [
      "aws s3 cp \"/data/CSHL_patch_features/inception-bn-blue/CHATM2/CHATM2_prep2_none_win7/CHATM2_slide15_2018_01_18-S2_prep2_none_win7_inception-bn-blue_features.bp\" \"s3://mousebrainatlas-data/CSHL_patch_features/inception-bn-blue/CHATM2/CHATM2_prep2_none_win7/CHATM2_slide15_2018_01_18-S2_prep2_none_win7_inception-bn-blue_features.bp\"\n",
      "0\n",
      "aws s3 cp \"/data/CSHL_patch_features/inception-bn-blue/CHATM2/CHATM2_prep2_none_win7/CHATM2_slide15_2018_01_18-S2_prep2_none_win7_inception-bn-blue_locations.bp\" \"s3://mousebrainatlas-data/CSHL_patch_features/inception-bn-blue/CHATM2/CHATM2_prep2_none_win7/CHATM2_slide15_2018_01_18-S2_prep2_none_win7_inception-bn-blue_locations.bp\"\n",
      "0\n",
      "rm -rf \"/data/CSHL_patch_features/inception-bn-blue/CHATM2/CHATM2_prep2_none_win7/CHATM2_slide16_2018_01_18-S2_prep2_none_win7_inception-bn-blue_features.bp\" && mkdir -p \"/data/CSHL_patch_features/inception-bn-blue/CHATM2/CHATM2_prep2_none_win7\"\n",
      "0\n",
      "aws s3 cp \"s3://mousebrainatlas-data/CSHL_patch_features/inception-bn-blue/CHATM2/CHATM2_prep2_none_win7/CHATM2_slide16_2018_01_18-S2_prep2_none_win7_inception-bn-blue_features.bp\" \"/data/CSHL_patch_features/inception-bn-blue/CHATM2/CHATM2_prep2_none_win7/CHATM2_slide16_2018_01_18-S2_prep2_none_win7_inception-bn-blue_features.bp\"\n"
     ]
    },
    {
     "name": "stderr",
     "output_type": "stream",
     "text": [
      "Save features: 2.63 seconds\n",
      "locate patches: 0.06 seconds\n"
     ]
    },
    {
     "name": "stdout",
     "output_type": "stream",
     "text": [
      "1\n"
     ]
    },
    {
     "name": "stderr",
     "output_type": "stream",
     "text": [
      "Features for CHATM2, 46/CHATM2_slide16_2018_01_18-S2 does not exist.\n",
      "No pre-computed features found... computing from scratch.\n",
      "Not using image_cache.\n"
     ]
    },
    {
     "name": "stdout",
     "output_type": "stream",
     "text": [
      "/data/CSHL_data_processed/CHATM2/CHATM2_prep2_raw_NtbNormalizedAdaptiveInvertedGamma/CHATM2_slide16_2018_01_18-S2_prep2_raw_NtbNormalizedAdaptiveInvertedGamma.tif\n"
     ]
    },
    {
     "name": "stderr",
     "output_type": "stream",
     "text": [
      "Load image: 4.30 seconds.\n",
      "Rescale image from 317 to 224: 3.74 seconds.\n",
      "Crop patches: 0.79 seconds.\n",
      "Extract patches: 8.85 seconds\n"
     ]
    },
    {
     "name": "stdout",
     "output_type": "stream",
     "text": [
      "(22786, 1, 224, 224)\n"
     ]
    },
    {
     "name": "stderr",
     "output_type": "stream",
     "text": [
      "Compute features: 36.37 seconds\n",
      "Compute features at one section, multiple locations: 45.24 seconds\n"
     ]
    },
    {
     "name": "stdout",
     "output_type": "stream",
     "text": [
      "aws s3 cp \"/data/CSHL_patch_features/inception-bn-blue/CHATM2/CHATM2_prep2_none_win7/CHATM2_slide16_2018_01_18-S2_prep2_none_win7_inception-bn-blue_features.bp\" \"s3://mousebrainatlas-data/CSHL_patch_features/inception-bn-blue/CHATM2/CHATM2_prep2_none_win7/CHATM2_slide16_2018_01_18-S2_prep2_none_win7_inception-bn-blue_features.bp\"\n",
      "0\n",
      "aws s3 cp \"/data/CSHL_patch_features/inception-bn-blue/CHATM2/CHATM2_prep2_none_win7/CHATM2_slide16_2018_01_18-S2_prep2_none_win7_inception-bn-blue_locations.bp\" \"s3://mousebrainatlas-data/CSHL_patch_features/inception-bn-blue/CHATM2/CHATM2_prep2_none_win7/CHATM2_slide16_2018_01_18-S2_prep2_none_win7_inception-bn-blue_locations.bp\"\n",
      "0\n",
      "rm -rf \"/data/CSHL_patch_features/inception-bn-blue/CHATM2/CHATM2_prep2_none_win7/CHATM2_slide15_2018_01_18-S3_prep2_none_win7_inception-bn-blue_features.bp\" && mkdir -p \"/data/CSHL_patch_features/inception-bn-blue/CHATM2/CHATM2_prep2_none_win7\"\n",
      "0\n",
      "aws s3 cp \"s3://mousebrainatlas-data/CSHL_patch_features/inception-bn-blue/CHATM2/CHATM2_prep2_none_win7/CHATM2_slide15_2018_01_18-S3_prep2_none_win7_inception-bn-blue_features.bp\" \"/data/CSHL_patch_features/inception-bn-blue/CHATM2/CHATM2_prep2_none_win7/CHATM2_slide15_2018_01_18-S3_prep2_none_win7_inception-bn-blue_features.bp\"\n"
     ]
    },
    {
     "name": "stderr",
     "output_type": "stream",
     "text": [
      "Save features: 2.86 seconds\n",
      "locate patches: 0.04 seconds\n"
     ]
    },
    {
     "name": "stdout",
     "output_type": "stream",
     "text": [
      "1\n"
     ]
    },
    {
     "name": "stderr",
     "output_type": "stream",
     "text": [
      "Features for CHATM2, 47/CHATM2_slide15_2018_01_18-S3 does not exist.\n",
      "No pre-computed features found... computing from scratch.\n",
      "Not using image_cache.\n"
     ]
    },
    {
     "name": "stdout",
     "output_type": "stream",
     "text": [
      "/data/CSHL_data_processed/CHATM2/CHATM2_prep2_raw_NtbNormalizedAdaptiveInvertedGamma/CHATM2_slide15_2018_01_18-S3_prep2_raw_NtbNormalizedAdaptiveInvertedGamma.tif\n"
     ]
    },
    {
     "name": "stderr",
     "output_type": "stream",
     "text": [
      "Load image: 1.77 seconds.\n",
      "Rescale image from 317 to 224: 4.53 seconds.\n",
      "Crop patches: 0.77 seconds.\n",
      "Extract patches: 7.08 seconds\n"
     ]
    },
    {
     "name": "stdout",
     "output_type": "stream",
     "text": [
      "(23451, 1, 224, 224)\n"
     ]
    },
    {
     "name": "stderr",
     "output_type": "stream",
     "text": [
      "Compute features: 36.63 seconds\n",
      "Compute features at one section, multiple locations: 43.73 seconds\n"
     ]
    },
    {
     "name": "stdout",
     "output_type": "stream",
     "text": [
      "aws s3 cp \"/data/CSHL_patch_features/inception-bn-blue/CHATM2/CHATM2_prep2_none_win7/CHATM2_slide15_2018_01_18-S3_prep2_none_win7_inception-bn-blue_features.bp\" \"s3://mousebrainatlas-data/CSHL_patch_features/inception-bn-blue/CHATM2/CHATM2_prep2_none_win7/CHATM2_slide15_2018_01_18-S3_prep2_none_win7_inception-bn-blue_features.bp\"\n",
      "0\n",
      "aws s3 cp \"/data/CSHL_patch_features/inception-bn-blue/CHATM2/CHATM2_prep2_none_win7/CHATM2_slide15_2018_01_18-S3_prep2_none_win7_inception-bn-blue_locations.bp\" \"s3://mousebrainatlas-data/CSHL_patch_features/inception-bn-blue/CHATM2/CHATM2_prep2_none_win7/CHATM2_slide15_2018_01_18-S3_prep2_none_win7_inception-bn-blue_locations.bp\"\n",
      "0\n",
      "rm -rf \"/data/CSHL_patch_features/inception-bn-blue/CHATM2/CHATM2_prep2_none_win7/CHATM2_slide16_2018_01_18-S3_prep2_none_win7_inception-bn-blue_features.bp\" && mkdir -p \"/data/CSHL_patch_features/inception-bn-blue/CHATM2/CHATM2_prep2_none_win7\"\n",
      "0\n",
      "aws s3 cp \"s3://mousebrainatlas-data/CSHL_patch_features/inception-bn-blue/CHATM2/CHATM2_prep2_none_win7/CHATM2_slide16_2018_01_18-S3_prep2_none_win7_inception-bn-blue_features.bp\" \"/data/CSHL_patch_features/inception-bn-blue/CHATM2/CHATM2_prep2_none_win7/CHATM2_slide16_2018_01_18-S3_prep2_none_win7_inception-bn-blue_features.bp\""
     ]
    },
    {
     "name": "stderr",
     "output_type": "stream",
     "text": [
      "Save features: 3.18 seconds\n",
      "locate patches: 0.09 seconds\n"
     ]
    },
    {
     "name": "stdout",
     "output_type": "stream",
     "text": [
      "\n",
      "1\n"
     ]
    },
    {
     "name": "stderr",
     "output_type": "stream",
     "text": [
      "Features for CHATM2, 48/CHATM2_slide16_2018_01_18-S3 does not exist.\n",
      "No pre-computed features found... computing from scratch.\n",
      "Not using image_cache.\n"
     ]
    },
    {
     "name": "stdout",
     "output_type": "stream",
     "text": [
      "/data/CSHL_data_processed/CHATM2/CHATM2_prep2_raw_NtbNormalizedAdaptiveInvertedGamma/CHATM2_slide16_2018_01_18-S3_prep2_raw_NtbNormalizedAdaptiveInvertedGamma.tif\n"
     ]
    },
    {
     "name": "stderr",
     "output_type": "stream",
     "text": [
      "Load image: 2.73 seconds.\n",
      "Rescale image from 317 to 224: 2.91 seconds.\n",
      "Crop patches: 0.73 seconds.\n",
      "Extract patches: 6.38 seconds\n"
     ]
    },
    {
     "name": "stdout",
     "output_type": "stream",
     "text": [
      "(23397, 1, 224, 224)\n"
     ]
    },
    {
     "name": "stderr",
     "output_type": "stream",
     "text": [
      "Compute features: 36.67 seconds\n",
      "Compute features at one section, multiple locations: 43.07 seconds\n"
     ]
    },
    {
     "name": "stdout",
     "output_type": "stream",
     "text": [
      "aws s3 cp \"/data/CSHL_patch_features/inception-bn-blue/CHATM2/CHATM2_prep2_none_win7/CHATM2_slide16_2018_01_18-S3_prep2_none_win7_inception-bn-blue_features.bp\" \"s3://mousebrainatlas-data/CSHL_patch_features/inception-bn-blue/CHATM2/CHATM2_prep2_none_win7/CHATM2_slide16_2018_01_18-S3_prep2_none_win7_inception-bn-blue_features.bp\"\n",
      "0\n",
      "aws s3 cp \"/data/CSHL_patch_features/inception-bn-blue/CHATM2/CHATM2_prep2_none_win7/CHATM2_slide16_2018_01_18-S3_prep2_none_win7_inception-bn-blue_locations.bp\" \"s3://mousebrainatlas-data/CSHL_patch_features/inception-bn-blue/CHATM2/CHATM2_prep2_none_win7/CHATM2_slide16_2018_01_18-S3_prep2_none_win7_inception-bn-blue_locations.bp\"\n",
      "0\n",
      "rm -rf \"/data/CSHL_patch_features/inception-bn-blue/CHATM2/CHATM2_prep2_none_win7/CHATM2_slide17_2018_01_18-S1_prep2_none_win7_inception-bn-blue_features.bp\" && mkdir -p \"/data/CSHL_patch_features/inception-bn-blue/CHATM2/CHATM2_prep2_none_win7\"\n",
      "0"
     ]
    },
    {
     "name": "stderr",
     "output_type": "stream",
     "text": [
      "Save features: 2.81 seconds\n",
      "locate patches: 0.09 seconds\n"
     ]
    },
    {
     "name": "stdout",
     "output_type": "stream",
     "text": [
      "\n",
      "aws s3 cp \"s3://mousebrainatlas-data/CSHL_patch_features/inception-bn-blue/CHATM2/CHATM2_prep2_none_win7/CHATM2_slide17_2018_01_18-S1_prep2_none_win7_inception-bn-blue_features.bp\" \"/data/CSHL_patch_features/inception-bn-blue/CHATM2/CHATM2_prep2_none_win7/CHATM2_slide17_2018_01_18-S1_prep2_none_win7_inception-bn-blue_features.bp\"\n",
      "1\n"
     ]
    },
    {
     "name": "stderr",
     "output_type": "stream",
     "text": [
      "Features for CHATM2, 49/CHATM2_slide17_2018_01_18-S1 does not exist.\n",
      "No pre-computed features found... computing from scratch.\n",
      "Not using image_cache.\n"
     ]
    },
    {
     "name": "stdout",
     "output_type": "stream",
     "text": [
      "/data/CSHL_data_processed/CHATM2/CHATM2_prep2_raw_NtbNormalizedAdaptiveInvertedGamma/CHATM2_slide17_2018_01_18-S1_prep2_raw_NtbNormalizedAdaptiveInvertedGamma.tif\n"
     ]
    },
    {
     "name": "stderr",
     "output_type": "stream",
     "text": [
      "Load image: 4.72 seconds.\n",
      "Rescale image from 317 to 224: 4.43 seconds.\n",
      "Crop patches: 0.89 seconds.\n",
      "Extract patches: 10.05 seconds\n"
     ]
    },
    {
     "name": "stdout",
     "output_type": "stream",
     "text": [
      "(23866, 1, 224, 224)\n"
     ]
    },
    {
     "name": "stderr",
     "output_type": "stream",
     "text": [
      "Compute features: 36.18 seconds\n",
      "Compute features at one section, multiple locations: 46.26 seconds\n"
     ]
    },
    {
     "name": "stdout",
     "output_type": "stream",
     "text": [
      "aws s3 cp \"/data/CSHL_patch_features/inception-bn-blue/CHATM2/CHATM2_prep2_none_win7/CHATM2_slide17_2018_01_18-S1_prep2_none_win7_inception-bn-blue_features.bp\" \"s3://mousebrainatlas-data/CSHL_patch_features/inception-bn-blue/CHATM2/CHATM2_prep2_none_win7/CHATM2_slide17_2018_01_18-S1_prep2_none_win7_inception-bn-blue_features.bp\"\n",
      "0\n",
      "aws s3 cp \"/data/CSHL_patch_features/inception-bn-blue/CHATM2/CHATM2_prep2_none_win7/CHATM2_slide17_2018_01_18-S1_prep2_none_win7_inception-bn-blue_locations.bp\" \"s3://mousebrainatlas-data/CSHL_patch_features/inception-bn-blue/CHATM2/CHATM2_prep2_none_win7/CHATM2_slide17_2018_01_18-S1_prep2_none_win7_inception-bn-blue_locations.bp\"\n",
      "0\n",
      "rm -rf \"/data/CSHL_patch_features/inception-bn-blue/CHATM2/CHATM2_prep2_none_win7/CHATM2_slide18_2018_01_18-S1_prep2_none_win7_inception-bn-blue_features.bp\" && mkdir -p \"/data/CSHL_patch_features/inception-bn-blue/CHATM2/CHATM2_prep2_none_win7\"\n",
      "0\n",
      "aws s3 cp \"s3://mousebrainatlas-data/CSHL_patch_features/inception-bn-blue/CHATM2/CHATM2_prep2_none_win7/CHATM2_slide18_2018_01_18-S1_prep2_none_win7_inception-bn-blue_features.bp\" \"/data/CSHL_patch_features/inception-bn-blue/CHATM2/CHATM2_prep2_none_win7/CHATM2_slide18_2018_01_18-S1_prep2_none_win7_inception-bn-blue_features.bp\"\n"
     ]
    },
    {
     "name": "stderr",
     "output_type": "stream",
     "text": [
      "Save features: 4.26 seconds\n",
      "locate patches: 0.04 seconds\n"
     ]
    },
    {
     "name": "stdout",
     "output_type": "stream",
     "text": [
      "1\n"
     ]
    },
    {
     "name": "stderr",
     "output_type": "stream",
     "text": [
      "Features for CHATM2, 50/CHATM2_slide18_2018_01_18-S1 does not exist.\n",
      "No pre-computed features found... computing from scratch.\n",
      "Not using image_cache.\n"
     ]
    },
    {
     "name": "stdout",
     "output_type": "stream",
     "text": [
      "/data/CSHL_data_processed/CHATM2/CHATM2_prep2_raw_NtbNormalizedAdaptiveInvertedGamma/CHATM2_slide18_2018_01_18-S1_prep2_raw_NtbNormalizedAdaptiveInvertedGamma.tif\n"
     ]
    },
    {
     "name": "stderr",
     "output_type": "stream",
     "text": [
      "Load image: 4.60 seconds.\n",
      "Rescale image from 317 to 224: 3.18 seconds.\n",
      "Crop patches: 0.93 seconds.\n",
      "Extract patches: 8.73 seconds\n"
     ]
    },
    {
     "name": "stdout",
     "output_type": "stream",
     "text": [
      "(24147, 1, 224, 224)\n"
     ]
    },
    {
     "name": "stderr",
     "output_type": "stream",
     "text": [
      "Compute features: 37.95 seconds\n",
      "Compute features at one section, multiple locations: 46.71 seconds\n"
     ]
    },
    {
     "name": "stdout",
     "output_type": "stream",
     "text": [
      "aws s3 cp \"/data/CSHL_patch_features/inception-bn-blue/CHATM2/CHATM2_prep2_none_win7/CHATM2_slide18_2018_01_18-S1_prep2_none_win7_inception-bn-blue_features.bp\" \"s3://mousebrainatlas-data/CSHL_patch_features/inception-bn-blue/CHATM2/CHATM2_prep2_none_win7/CHATM2_slide18_2018_01_18-S1_prep2_none_win7_inception-bn-blue_features.bp\"\n",
      "0\n",
      "aws s3 cp \"/data/CSHL_patch_features/inception-bn-blue/CHATM2/CHATM2_prep2_none_win7/CHATM2_slide18_2018_01_18-S1_prep2_none_win7_inception-bn-blue_locations.bp\" \"s3://mousebrainatlas-data/CSHL_patch_features/inception-bn-blue/CHATM2/CHATM2_prep2_none_win7/CHATM2_slide18_2018_01_18-S1_prep2_none_win7_inception-bn-blue_locations.bp\"\n",
      "0\n",
      "rm -rf \"/data/CSHL_patch_features/inception-bn-blue/CHATM2/CHATM2_prep2_none_win7/CHATM2_slide17_2018_01_18-S2_prep2_none_win7_inception-bn-blue_features.bp\" && mkdir -p \"/data/CSHL_patch_features/inception-bn-blue/CHATM2/CHATM2_prep2_none_win7\"\n",
      "0\n",
      "aws s3 cp \"s3://mousebrainatlas-data/CSHL_patch_features/inception-bn-blue/CHATM2/CHATM2_prep2_none_win7/CHATM2_slide17_2018_01_18-S2_prep2_none_win7_inception-bn-blue_features.bp\" \"/data/CSHL_patch_features/inception-bn-blue/CHATM2/CHATM2_prep2_none_win7/CHATM2_slide17_2018_01_18-S2_prep2_none_win7_inception-bn-blue_features.bp\"\n"
     ]
    },
    {
     "name": "stderr",
     "output_type": "stream",
     "text": [
      "Save features: 2.86 seconds\n",
      "locate patches: 0.05 seconds\n"
     ]
    },
    {
     "name": "stdout",
     "output_type": "stream",
     "text": [
      "1\n"
     ]
    },
    {
     "name": "stderr",
     "output_type": "stream",
     "text": [
      "Features for CHATM2, 51/CHATM2_slide17_2018_01_18-S2 does not exist.\n",
      "No pre-computed features found... computing from scratch.\n",
      "Not using image_cache.\n"
     ]
    },
    {
     "name": "stdout",
     "output_type": "stream",
     "text": [
      "/data/CSHL_data_processed/CHATM2/CHATM2_prep2_raw_NtbNormalizedAdaptiveInvertedGamma/CHATM2_slide17_2018_01_18-S2_prep2_raw_NtbNormalizedAdaptiveInvertedGamma.tif\n"
     ]
    },
    {
     "name": "stderr",
     "output_type": "stream",
     "text": [
      "Load image: 3.65 seconds.\n",
      "Rescale image from 317 to 224: 3.75 seconds.\n",
      "Crop patches: 0.96 seconds.\n",
      "Extract patches: 8.38 seconds\n"
     ]
    },
    {
     "name": "stdout",
     "output_type": "stream",
     "text": [
      "(24205, 1, 224, 224)\n"
     ]
    },
    {
     "name": "stderr",
     "output_type": "stream",
     "text": [
      "Compute features: 38.25 seconds\n",
      "Compute features at one section, multiple locations: 46.65 seconds\n"
     ]
    },
    {
     "name": "stdout",
     "output_type": "stream",
     "text": [
      "aws s3 cp \"/data/CSHL_patch_features/inception-bn-blue/CHATM2/CHATM2_prep2_none_win7/CHATM2_slide17_2018_01_18-S2_prep2_none_win7_inception-bn-blue_features.bp\" \"s3://mousebrainatlas-data/CSHL_patch_features/inception-bn-blue/CHATM2/CHATM2_prep2_none_win7/CHATM2_slide17_2018_01_18-S2_prep2_none_win7_inception-bn-blue_features.bp\"\n",
      "0\n",
      "aws s3 cp \"/data/CSHL_patch_features/inception-bn-blue/CHATM2/CHATM2_prep2_none_win7/CHATM2_slide17_2018_01_18-S2_prep2_none_win7_inception-bn-blue_locations.bp\" \"s3://mousebrainatlas-data/CSHL_patch_features/inception-bn-blue/CHATM2/CHATM2_prep2_none_win7/CHATM2_slide17_2018_01_18-S2_prep2_none_win7_inception-bn-blue_locations.bp\"\n",
      "0\n",
      "rm -rf \"/data/CSHL_patch_features/inception-bn-blue/CHATM2/CHATM2_prep2_none_win7/CHATM2_slide18_2018_01_18-S2_prep2_none_win7_inception-bn-blue_features.bp\" && mkdir -p \"/data/CSHL_patch_features/inception-bn-blue/CHATM2/CHATM2_prep2_none_win7\"\n"
     ]
    },
    {
     "name": "stderr",
     "output_type": "stream",
     "text": [
      "Save features: 2.78 seconds\n",
      "locate patches: 0.13 seconds\n"
     ]
    },
    {
     "name": "stdout",
     "output_type": "stream",
     "text": [
      "0\n",
      "aws s3 cp \"s3://mousebrainatlas-data/CSHL_patch_features/inception-bn-blue/CHATM2/CHATM2_prep2_none_win7/CHATM2_slide18_2018_01_18-S2_prep2_none_win7_inception-bn-blue_features.bp\" \"/data/CSHL_patch_features/inception-bn-blue/CHATM2/CHATM2_prep2_none_win7/CHATM2_slide18_2018_01_18-S2_prep2_none_win7_inception-bn-blue_features.bp\"\n",
      "1\n"
     ]
    },
    {
     "name": "stderr",
     "output_type": "stream",
     "text": [
      "Features for CHATM2, 52/CHATM2_slide18_2018_01_18-S2 does not exist.\n",
      "No pre-computed features found... computing from scratch.\n",
      "Not using image_cache.\n"
     ]
    },
    {
     "name": "stdout",
     "output_type": "stream",
     "text": [
      "/data/CSHL_data_processed/CHATM2/CHATM2_prep2_raw_NtbNormalizedAdaptiveInvertedGamma/CHATM2_slide18_2018_01_18-S2_prep2_raw_NtbNormalizedAdaptiveInvertedGamma.tif\n"
     ]
    },
    {
     "name": "stderr",
     "output_type": "stream",
     "text": [
      "Load image: 3.57 seconds.\n",
      "Rescale image from 317 to 224: 3.76 seconds.\n",
      "Crop patches: 0.79 seconds.\n",
      "Extract patches: 8.13 seconds\n"
     ]
    },
    {
     "name": "stdout",
     "output_type": "stream",
     "text": [
      "(24252, 1, 224, 224)\n"
     ]
    },
    {
     "name": "stderr",
     "output_type": "stream",
     "text": [
      "Compute features: 39.68 seconds\n",
      "Compute features at one section, multiple locations: 47.84 seconds\n"
     ]
    },
    {
     "name": "stdout",
     "output_type": "stream",
     "text": [
      "aws s3 cp \"/data/CSHL_patch_features/inception-bn-blue/CHATM2/CHATM2_prep2_none_win7/CHATM2_slide18_2018_01_18-S2_prep2_none_win7_inception-bn-blue_features.bp\" \"s3://mousebrainatlas-data/CSHL_patch_features/inception-bn-blue/CHATM2/CHATM2_prep2_none_win7/CHATM2_slide18_2018_01_18-S2_prep2_none_win7_inception-bn-blue_features.bp\"\n",
      "0\n",
      "aws s3 cp \"/data/CSHL_patch_features/inception-bn-blue/CHATM2/CHATM2_prep2_none_win7/CHATM2_slide18_2018_01_18-S2_prep2_none_win7_inception-bn-blue_locations.bp\" \"s3://mousebrainatlas-data/CSHL_patch_features/inception-bn-blue/CHATM2/CHATM2_prep2_none_win7/CHATM2_slide18_2018_01_18-S2_prep2_none_win7_inception-bn-blue_locations.bp\"\n",
      "0\n",
      "rm -rf \"/data/CSHL_patch_features/inception-bn-blue/CHATM2/CHATM2_prep2_none_win7/CHATM2_slide17_2018_01_18-S3_prep2_none_win7_inception-bn-blue_features.bp\" && mkdir -p \"/data/CSHL_patch_features/inception-bn-blue/CHATM2/CHATM2_prep2_none_win7\"\n",
      "0\n",
      "aws s3 cp \"s3://mousebrainatlas-data/CSHL_patch_features/inception-bn-blue/CHATM2/CHATM2_prep2_none_win7/CHATM2_slide17_2018_01_18-S3_prep2_none_win7_inception-bn-blue_features.bp\" \"/data/CSHL_patch_features/inception-bn-blue/CHATM2/CHATM2_prep2_none_win7/CHATM2_slide17_2018_01_18-S3_prep2_none_win7_inception-bn-blue_features.bp\"\n"
     ]
    },
    {
     "name": "stderr",
     "output_type": "stream",
     "text": [
      "Save features: 2.85 seconds\n",
      "locate patches: 0.03 seconds\n"
     ]
    },
    {
     "name": "stdout",
     "output_type": "stream",
     "text": [
      "1\n"
     ]
    },
    {
     "name": "stderr",
     "output_type": "stream",
     "text": [
      "Features for CHATM2, 53/CHATM2_slide17_2018_01_18-S3 does not exist.\n",
      "No pre-computed features found... computing from scratch.\n",
      "Not using image_cache.\n"
     ]
    },
    {
     "name": "stdout",
     "output_type": "stream",
     "text": [
      "/data/CSHL_data_processed/CHATM2/CHATM2_prep2_raw_NtbNormalizedAdaptiveInvertedGamma/CHATM2_slide17_2018_01_18-S3_prep2_raw_NtbNormalizedAdaptiveInvertedGamma.tif\n"
     ]
    },
    {
     "name": "stderr",
     "output_type": "stream",
     "text": [
      "Load image: 3.56 seconds.\n",
      "Rescale image from 317 to 224: 3.97 seconds.\n",
      "Crop patches: 1.06 seconds.\n",
      "Extract patches: 8.61 seconds\n"
     ]
    },
    {
     "name": "stdout",
     "output_type": "stream",
     "text": [
      "(25098, 1, 224, 224)\n"
     ]
    },
    {
     "name": "stderr",
     "output_type": "stream",
     "text": [
      "Compute features: 39.58 seconds\n",
      "Compute features at one section, multiple locations: 48.23 seconds\n"
     ]
    },
    {
     "name": "stdout",
     "output_type": "stream",
     "text": [
      "aws s3 cp \"/data/CSHL_patch_features/inception-bn-blue/CHATM2/CHATM2_prep2_none_win7/CHATM2_slide17_2018_01_18-S3_prep2_none_win7_inception-bn-blue_features.bp\" \"s3://mousebrainatlas-data/CSHL_patch_features/inception-bn-blue/CHATM2/CHATM2_prep2_none_win7/CHATM2_slide17_2018_01_18-S3_prep2_none_win7_inception-bn-blue_features.bp\"\n",
      "0\n",
      "aws s3 cp \"/data/CSHL_patch_features/inception-bn-blue/CHATM2/CHATM2_prep2_none_win7/CHATM2_slide17_2018_01_18-S3_prep2_none_win7_inception-bn-blue_locations.bp\" \"s3://mousebrainatlas-data/CSHL_patch_features/inception-bn-blue/CHATM2/CHATM2_prep2_none_win7/CHATM2_slide17_2018_01_18-S3_prep2_none_win7_inception-bn-blue_locations.bp\"\n",
      "0\n",
      "rm -rf \"/data/CSHL_patch_features/inception-bn-blue/CHATM2/CHATM2_prep2_none_win7/CHATM2_slide18_2018_01_18-S3_prep2_none_win7_inception-bn-blue_features.bp\" && mkdir -p \"/data/CSHL_patch_features/inception-bn-blue/CHATM2/CHATM2_prep2_none_win7\"\n",
      "0\n",
      "aws s3 cp \"s3://mousebrainatlas-data/CSHL_patch_features/inception-bn-blue/CHATM2/CHATM2_prep2_none_win7/CHATM2_slide18_2018_01_18-S3_prep2_none_win7_inception-bn-blue_features.bp\" \"/data/CSHL_patch_features/inception-bn-blue/CHATM2/CHATM2_prep2_none_win7/CHATM2_slide18_2018_01_18-S3_prep2_none_win7_inception-bn-blue_features.bp\"\n"
     ]
    },
    {
     "name": "stderr",
     "output_type": "stream",
     "text": [
      "Save features: 4.10 seconds\n",
      "locate patches: 0.05 seconds\n"
     ]
    },
    {
     "name": "stdout",
     "output_type": "stream",
     "text": [
      "1\n"
     ]
    },
    {
     "name": "stderr",
     "output_type": "stream",
     "text": [
      "Features for CHATM2, 54/CHATM2_slide18_2018_01_18-S3 does not exist.\n",
      "No pre-computed features found... computing from scratch.\n",
      "Not using image_cache.\n"
     ]
    },
    {
     "name": "stdout",
     "output_type": "stream",
     "text": [
      "/data/CSHL_data_processed/CHATM2/CHATM2_prep2_raw_NtbNormalizedAdaptiveInvertedGamma/CHATM2_slide18_2018_01_18-S3_prep2_raw_NtbNormalizedAdaptiveInvertedGamma.tif\n"
     ]
    },
    {
     "name": "stderr",
     "output_type": "stream",
     "text": [
      "Load image: 2.91 seconds.\n",
      "Rescale image from 317 to 224: 3.75 seconds.\n",
      "Crop patches: 0.89 seconds.\n",
      "Extract patches: 7.56 seconds\n"
     ]
    },
    {
     "name": "stdout",
     "output_type": "stream",
     "text": [
      "(25133, 1, 224, 224)\n"
     ]
    },
    {
     "name": "stderr",
     "output_type": "stream",
     "text": [
      "Compute features: 41.06 seconds\n",
      "Compute features at one section, multiple locations: 48.65 seconds\n"
     ]
    },
    {
     "name": "stdout",
     "output_type": "stream",
     "text": [
      "aws s3 cp \"/data/CSHL_patch_features/inception-bn-blue/CHATM2/CHATM2_prep2_none_win7/CHATM2_slide18_2018_01_18-S3_prep2_none_win7_inception-bn-blue_features.bp\" \"s3://mousebrainatlas-data/CSHL_patch_features/inception-bn-blue/CHATM2/CHATM2_prep2_none_win7/CHATM2_slide18_2018_01_18-S3_prep2_none_win7_inception-bn-blue_features.bp\"\n",
      "0\n",
      "aws s3 cp \"/data/CSHL_patch_features/inception-bn-blue/CHATM2/CHATM2_prep2_none_win7/CHATM2_slide18_2018_01_18-S3_prep2_none_win7_inception-bn-blue_locations.bp\" \"s3://mousebrainatlas-data/CSHL_patch_features/inception-bn-blue/CHATM2/CHATM2_prep2_none_win7/CHATM2_slide18_2018_01_18-S3_prep2_none_win7_inception-bn-blue_locations.bp\"\n",
      "0\n",
      "rm -rf \"/data/CSHL_patch_features/inception-bn-blue/CHATM2/CHATM2_prep2_none_win7/CHATM2_slide19_2018_01_18-S1_prep2_none_win7_inception-bn-blue_features.bp\" && mkdir -p \"/data/CSHL_patch_features/inception-bn-blue/CHATM2/CHATM2_prep2_none_win7\"\n",
      "0\n",
      "aws s3 cp \"s3://mousebrainatlas-data/CSHL_patch_features/inception-bn-blue/CHATM2/CHATM2_prep2_none_win7/CHATM2_slide19_2018_01_18-S1_prep2_none_win7_inception-bn-blue_features.bp\" \"/data/CSHL_patch_features/inception-bn-blue/CHATM2/CHATM2_prep2_none_win7/CHATM2_slide19_2018_01_18-S1_prep2_none_win7_inception-bn-blue_features.bp\"\n"
     ]
    },
    {
     "name": "stderr",
     "output_type": "stream",
     "text": [
      "Save features: 2.98 seconds\n",
      "locate patches: 0.03 seconds\n"
     ]
    },
    {
     "name": "stdout",
     "output_type": "stream",
     "text": [
      "1\n"
     ]
    },
    {
     "name": "stderr",
     "output_type": "stream",
     "text": [
      "Features for CHATM2, 55/CHATM2_slide19_2018_01_18-S1 does not exist.\n",
      "No pre-computed features found... computing from scratch.\n",
      "Not using image_cache.\n"
     ]
    },
    {
     "name": "stdout",
     "output_type": "stream",
     "text": [
      "/data/CSHL_data_processed/CHATM2/CHATM2_prep2_raw_NtbNormalizedAdaptiveInvertedGamma/CHATM2_slide19_2018_01_18-S1_prep2_raw_NtbNormalizedAdaptiveInvertedGamma.tif\n"
     ]
    },
    {
     "name": "stderr",
     "output_type": "stream",
     "text": [
      "Load image: 4.05 seconds.\n",
      "Rescale image from 317 to 224: 3.68 seconds.\n",
      "Crop patches: 1.11 seconds.\n",
      "Extract patches: 8.86 seconds\n"
     ]
    },
    {
     "name": "stdout",
     "output_type": "stream",
     "text": [
      "(25189, 1, 224, 224)\n"
     ]
    },
    {
     "name": "stderr",
     "output_type": "stream",
     "text": [
      "Compute features: 38.89 seconds\n",
      "Compute features at one section, multiple locations: 47.78 seconds\n"
     ]
    },
    {
     "name": "stdout",
     "output_type": "stream",
     "text": [
      "aws s3 cp \"/data/CSHL_patch_features/inception-bn-blue/CHATM2/CHATM2_prep2_none_win7/CHATM2_slide19_2018_01_18-S1_prep2_none_win7_inception-bn-blue_features.bp\" \"s3://mousebrainatlas-data/CSHL_patch_features/inception-bn-blue/CHATM2/CHATM2_prep2_none_win7/CHATM2_slide19_2018_01_18-S1_prep2_none_win7_inception-bn-blue_features.bp\"\n",
      "0\n",
      "aws s3 cp \"/data/CSHL_patch_features/inception-bn-blue/CHATM2/CHATM2_prep2_none_win7/CHATM2_slide19_2018_01_18-S1_prep2_none_win7_inception-bn-blue_locations.bp\" \"s3://mousebrainatlas-data/CSHL_patch_features/inception-bn-blue/CHATM2/CHATM2_prep2_none_win7/CHATM2_slide19_2018_01_18-S1_prep2_none_win7_inception-bn-blue_locations.bp\"\n",
      "0\n",
      "rm -rf \"/data/CSHL_patch_features/inception-bn-blue/CHATM2/CHATM2_prep2_none_win7/CHATM2_slide20_2018_01_18-S1_prep2_none_win7_inception-bn-blue_features.bp\" && mkdir -p \"/data/CSHL_patch_features/inception-bn-blue/CHATM2/CHATM2_prep2_none_win7\"\n",
      "0\n",
      "aws s3 cp \"s3://mousebrainatlas-data/CSHL_patch_features/inception-bn-blue/CHATM2/CHATM2_prep2_none_win7/CHATM2_slide20_2018_01_18-S1_prep2_none_win7_inception-bn-blue_features.bp\" \"/data/CSHL_patch_features/inception-bn-blue/CHATM2/CHATM2_prep2_none_win7/CHATM2_slide20_2018_01_18-S1_prep2_none_win7_inception-bn-blue_features.bp\"\n"
     ]
    },
    {
     "name": "stderr",
     "output_type": "stream",
     "text": [
      "Save features: 2.94 seconds\n",
      "locate patches: 0.06 seconds\n"
     ]
    },
    {
     "name": "stdout",
     "output_type": "stream",
     "text": [
      "1\n"
     ]
    },
    {
     "name": "stderr",
     "output_type": "stream",
     "text": [
      "Features for CHATM2, 56/CHATM2_slide20_2018_01_18-S1 does not exist.\n",
      "No pre-computed features found... computing from scratch.\n",
      "Not using image_cache.\n"
     ]
    },
    {
     "name": "stdout",
     "output_type": "stream",
     "text": [
      "/data/CSHL_data_processed/CHATM2/CHATM2_prep2_raw_NtbNormalizedAdaptiveInvertedGamma/CHATM2_slide20_2018_01_18-S1_prep2_raw_NtbNormalizedAdaptiveInvertedGamma.tif\n"
     ]
    },
    {
     "name": "stderr",
     "output_type": "stream",
     "text": [
      "Load image: 1.76 seconds.\n",
      "Rescale image from 317 to 224: 3.67 seconds.\n",
      "Crop patches: 0.97 seconds.\n",
      "Extract patches: 6.42 seconds\n"
     ]
    },
    {
     "name": "stdout",
     "output_type": "stream",
     "text": [
      "(25688, 1, 224, 224)\n"
     ]
    },
    {
     "name": "stderr",
     "output_type": "stream",
     "text": [
      "Compute features: 40.36 seconds\n",
      "Compute features at one section, multiple locations: 46.80 seconds\n"
     ]
    },
    {
     "name": "stdout",
     "output_type": "stream",
     "text": [
      "aws s3 cp \"/data/CSHL_patch_features/inception-bn-blue/CHATM2/CHATM2_prep2_none_win7/CHATM2_slide20_2018_01_18-S1_prep2_none_win7_inception-bn-blue_features.bp\" \"s3://mousebrainatlas-data/CSHL_patch_features/inception-bn-blue/CHATM2/CHATM2_prep2_none_win7/CHATM2_slide20_2018_01_18-S1_prep2_none_win7_inception-bn-blue_features.bp\"\n",
      "0\n",
      "aws s3 cp \"/data/CSHL_patch_features/inception-bn-blue/CHATM2/CHATM2_prep2_none_win7/CHATM2_slide20_2018_01_18-S1_prep2_none_win7_inception-bn-blue_locations.bp\" \"s3://mousebrainatlas-data/CSHL_patch_features/inception-bn-blue/CHATM2/CHATM2_prep2_none_win7/CHATM2_slide20_2018_01_18-S1_prep2_none_win7_inception-bn-blue_locations.bp\"\n",
      "0\n",
      "rm -rf \"/data/CSHL_patch_features/inception-bn-blue/CHATM2/CHATM2_prep2_none_win7/CHATM2_slide19_2018_01_18-S2_prep2_none_win7_inception-bn-blue_features.bp\" && mkdir -p \"/data/CSHL_patch_features/inception-bn-blue/CHATM2/CHATM2_prep2_none_win7\"\n",
      "0\n",
      "aws s3 cp \"s3://mousebrainatlas-data/CSHL_patch_features/inception-bn-blue/CHATM2/CHATM2_prep2_none_win7/CHATM2_slide19_2018_01_18-S2_prep2_none_win7_inception-bn-blue_features.bp\" \"/data/CSHL_patch_features/inception-bn-blue/CHATM2/CHATM2_prep2_none_win7/CHATM2_slide19_2018_01_18-S2_prep2_none_win7_inception-bn-blue_features.bp\"\n"
     ]
    },
    {
     "name": "stderr",
     "output_type": "stream",
     "text": [
      "Save features: 3.75 seconds\n",
      "locate patches: 0.08 seconds\n"
     ]
    },
    {
     "name": "stdout",
     "output_type": "stream",
     "text": [
      "1\n"
     ]
    },
    {
     "name": "stderr",
     "output_type": "stream",
     "text": [
      "Features for CHATM2, 57/CHATM2_slide19_2018_01_18-S2 does not exist.\n",
      "No pre-computed features found... computing from scratch.\n",
      "Not using image_cache.\n"
     ]
    },
    {
     "name": "stdout",
     "output_type": "stream",
     "text": [
      "/data/CSHL_data_processed/CHATM2/CHATM2_prep2_raw_NtbNormalizedAdaptiveInvertedGamma/CHATM2_slide19_2018_01_18-S2_prep2_raw_NtbNormalizedAdaptiveInvertedGamma.tif\n"
     ]
    },
    {
     "name": "stderr",
     "output_type": "stream",
     "text": [
      "Load image: 4.19 seconds.\n",
      "Rescale image from 317 to 224: 4.26 seconds.\n",
      "Crop patches: 0.95 seconds.\n",
      "Extract patches: 9.42 seconds\n"
     ]
    },
    {
     "name": "stdout",
     "output_type": "stream",
     "text": [
      "(25353, 1, 224, 224)\n"
     ]
    },
    {
     "name": "stderr",
     "output_type": "stream",
     "text": [
      "Compute features: 39.40 seconds\n",
      "Compute features at one section, multiple locations: 48.83 seconds\n"
     ]
    },
    {
     "name": "stdout",
     "output_type": "stream",
     "text": [
      "aws s3 cp \"/data/CSHL_patch_features/inception-bn-blue/CHATM2/CHATM2_prep2_none_win7/CHATM2_slide19_2018_01_18-S2_prep2_none_win7_inception-bn-blue_features.bp\" \"s3://mousebrainatlas-data/CSHL_patch_features/inception-bn-blue/CHATM2/CHATM2_prep2_none_win7/CHATM2_slide19_2018_01_18-S2_prep2_none_win7_inception-bn-blue_features.bp\"\n",
      "0\n",
      "aws s3 cp \"/data/CSHL_patch_features/inception-bn-blue/CHATM2/CHATM2_prep2_none_win7/CHATM2_slide19_2018_01_18-S2_prep2_none_win7_inception-bn-blue_locations.bp\" \"s3://mousebrainatlas-data/CSHL_patch_features/inception-bn-blue/CHATM2/CHATM2_prep2_none_win7/CHATM2_slide19_2018_01_18-S2_prep2_none_win7_inception-bn-blue_locations.bp\"\n",
      "0\n",
      "rm -rf \"/data/CSHL_patch_features/inception-bn-blue/CHATM2/CHATM2_prep2_none_win7/CHATM2_slide20_2018_01_18-S2_prep2_none_win7_inception-bn-blue_features.bp\" && mkdir -p \"/data/CSHL_patch_features/inception-bn-blue/CHATM2/CHATM2_prep2_none_win7\"\n",
      "0"
     ]
    },
    {
     "name": "stderr",
     "output_type": "stream",
     "text": [
      "Save features: 3.01 seconds\n",
      "locate patches: 0.12 seconds\n"
     ]
    },
    {
     "name": "stdout",
     "output_type": "stream",
     "text": [
      "\n",
      "aws s3 cp \"s3://mousebrainatlas-data/CSHL_patch_features/inception-bn-blue/CHATM2/CHATM2_prep2_none_win7/CHATM2_slide20_2018_01_18-S2_prep2_none_win7_inception-bn-blue_features.bp\" \"/data/CSHL_patch_features/inception-bn-blue/CHATM2/CHATM2_prep2_none_win7/CHATM2_slide20_2018_01_18-S2_prep2_none_win7_inception-bn-blue_features.bp\"\n",
      "1\n"
     ]
    },
    {
     "name": "stderr",
     "output_type": "stream",
     "text": [
      "Features for CHATM2, 58/CHATM2_slide20_2018_01_18-S2 does not exist.\n",
      "No pre-computed features found... computing from scratch.\n",
      "Not using image_cache.\n"
     ]
    },
    {
     "name": "stdout",
     "output_type": "stream",
     "text": [
      "/data/CSHL_data_processed/CHATM2/CHATM2_prep2_raw_NtbNormalizedAdaptiveInvertedGamma/CHATM2_slide20_2018_01_18-S2_prep2_raw_NtbNormalizedAdaptiveInvertedGamma.tif\n"
     ]
    },
    {
     "name": "stderr",
     "output_type": "stream",
     "text": [
      "Load image: 2.64 seconds.\n",
      "Rescale image from 317 to 224: 3.57 seconds.\n",
      "Crop patches: 0.91 seconds.\n",
      "Extract patches: 7.14 seconds\n"
     ]
    },
    {
     "name": "stdout",
     "output_type": "stream",
     "text": [
      "(25948, 1, 224, 224)\n"
     ]
    },
    {
     "name": "stderr",
     "output_type": "stream",
     "text": [
      "Compute features: 40.25 seconds\n",
      "Compute features at one section, multiple locations: 47.40 seconds\n"
     ]
    },
    {
     "name": "stdout",
     "output_type": "stream",
     "text": [
      "aws s3 cp \"/data/CSHL_patch_features/inception-bn-blue/CHATM2/CHATM2_prep2_none_win7/CHATM2_slide20_2018_01_18-S2_prep2_none_win7_inception-bn-blue_features.bp\" \"s3://mousebrainatlas-data/CSHL_patch_features/inception-bn-blue/CHATM2/CHATM2_prep2_none_win7/CHATM2_slide20_2018_01_18-S2_prep2_none_win7_inception-bn-blue_features.bp\"\n",
      "0\n",
      "aws s3 cp \"/data/CSHL_patch_features/inception-bn-blue/CHATM2/CHATM2_prep2_none_win7/CHATM2_slide20_2018_01_18-S2_prep2_none_win7_inception-bn-blue_locations.bp\" \"s3://mousebrainatlas-data/CSHL_patch_features/inception-bn-blue/CHATM2/CHATM2_prep2_none_win7/CHATM2_slide20_2018_01_18-S2_prep2_none_win7_inception-bn-blue_locations.bp\"\n",
      "0\n",
      "rm -rf \"/data/CSHL_patch_features/inception-bn-blue/CHATM2/CHATM2_prep2_none_win7/CHATM2_slide19_2018_01_18-S3_prep2_none_win7_inception-bn-blue_features.bp\" && mkdir -p \"/data/CSHL_patch_features/inception-bn-blue/CHATM2/CHATM2_prep2_none_win7\"\n",
      "0\n",
      "aws s3 cp \"s3://mousebrainatlas-data/CSHL_patch_features/inception-bn-blue/CHATM2/CHATM2_prep2_none_win7/CHATM2_slide19_2018_01_18-S3_prep2_none_win7_inception-bn-blue_features.bp\" \"/data/CSHL_patch_features/inception-bn-blue/CHATM2/CHATM2_prep2_none_win7/CHATM2_slide19_2018_01_18-S3_prep2_none_win7_inception-bn-blue_features.bp\"\n"
     ]
    },
    {
     "name": "stderr",
     "output_type": "stream",
     "text": [
      "Save features: 2.91 seconds\n",
      "locate patches: 0.03 seconds\n"
     ]
    },
    {
     "name": "stdout",
     "output_type": "stream",
     "text": [
      "1\n"
     ]
    },
    {
     "name": "stderr",
     "output_type": "stream",
     "text": [
      "Features for CHATM2, 59/CHATM2_slide19_2018_01_18-S3 does not exist.\n",
      "No pre-computed features found... computing from scratch.\n",
      "Not using image_cache.\n"
     ]
    },
    {
     "name": "stdout",
     "output_type": "stream",
     "text": [
      "/data/CSHL_data_processed/CHATM2/CHATM2_prep2_raw_NtbNormalizedAdaptiveInvertedGamma/CHATM2_slide19_2018_01_18-S3_prep2_raw_NtbNormalizedAdaptiveInvertedGamma.tif\n"
     ]
    },
    {
     "name": "stderr",
     "output_type": "stream",
     "text": [
      "Load image: 3.08 seconds.\n",
      "Rescale image from 317 to 224: 3.52 seconds.\n",
      "Crop patches: 0.86 seconds.\n",
      "Extract patches: 7.48 seconds\n"
     ]
    },
    {
     "name": "stdout",
     "output_type": "stream",
     "text": [
      "(26137, 1, 224, 224)\n"
     ]
    },
    {
     "name": "stderr",
     "output_type": "stream",
     "text": [
      "Compute features: 40.65 seconds\n",
      "Compute features at one section, multiple locations: 48.14 seconds\n"
     ]
    },
    {
     "name": "stdout",
     "output_type": "stream",
     "text": [
      "aws s3 cp \"/data/CSHL_patch_features/inception-bn-blue/CHATM2/CHATM2_prep2_none_win7/CHATM2_slide19_2018_01_18-S3_prep2_none_win7_inception-bn-blue_features.bp\" \"s3://mousebrainatlas-data/CSHL_patch_features/inception-bn-blue/CHATM2/CHATM2_prep2_none_win7/CHATM2_slide19_2018_01_18-S3_prep2_none_win7_inception-bn-blue_features.bp\"\n",
      "0\n",
      "aws s3 cp \"/data/CSHL_patch_features/inception-bn-blue/CHATM2/CHATM2_prep2_none_win7/CHATM2_slide19_2018_01_18-S3_prep2_none_win7_inception-bn-blue_locations.bp\" \"s3://mousebrainatlas-data/CSHL_patch_features/inception-bn-blue/CHATM2/CHATM2_prep2_none_win7/CHATM2_slide19_2018_01_18-S3_prep2_none_win7_inception-bn-blue_locations.bp\"\n",
      "0\n",
      "rm -rf \"/data/CSHL_patch_features/inception-bn-blue/CHATM2/CHATM2_prep2_none_win7/CHATM2_slide20_2018_01_18-S3_prep2_none_win7_inception-bn-blue_features.bp\" && mkdir -p \"/data/CSHL_patch_features/inception-bn-blue/CHATM2/CHATM2_prep2_none_win7\"\n",
      "0\n",
      "aws s3 cp \"s3://mousebrainatlas-data/CSHL_patch_features/inception-bn-blue/CHATM2/CHATM2_prep2_none_win7/CHATM2_slide20_2018_01_18-S3_prep2_none_win7_inception-bn-blue_features.bp\" \"/data/CSHL_patch_features/inception-bn-blue/CHATM2/CHATM2_prep2_none_win7/CHATM2_slide20_2018_01_18-S3_prep2_none_win7_inception-bn-blue_features.bp\"\n"
     ]
    },
    {
     "name": "stderr",
     "output_type": "stream",
     "text": [
      "Save features: 3.59 seconds\n",
      "locate patches: 0.04 seconds\n"
     ]
    },
    {
     "name": "stdout",
     "output_type": "stream",
     "text": [
      "1\n"
     ]
    },
    {
     "name": "stderr",
     "output_type": "stream",
     "text": [
      "Features for CHATM2, 60/CHATM2_slide20_2018_01_18-S3 does not exist.\n",
      "No pre-computed features found... computing from scratch.\n",
      "Not using image_cache.\n"
     ]
    },
    {
     "name": "stdout",
     "output_type": "stream",
     "text": [
      "/data/CSHL_data_processed/CHATM2/CHATM2_prep2_raw_NtbNormalizedAdaptiveInvertedGamma/CHATM2_slide20_2018_01_18-S3_prep2_raw_NtbNormalizedAdaptiveInvertedGamma.tif\n"
     ]
    },
    {
     "name": "stderr",
     "output_type": "stream",
     "text": [
      "Load image: 1.80 seconds.\n",
      "Rescale image from 317 to 224: 3.54 seconds.\n",
      "Crop patches: 0.69 seconds.\n",
      "Extract patches: 6.05 seconds\n"
     ]
    },
    {
     "name": "stdout",
     "output_type": "stream",
     "text": [
      "(26154, 1, 224, 224)\n"
     ]
    },
    {
     "name": "stderr",
     "output_type": "stream",
     "text": [
      "Compute features: 40.78 seconds\n",
      "Compute features at one section, multiple locations: 46.86 seconds\n"
     ]
    },
    {
     "name": "stdout",
     "output_type": "stream",
     "text": [
      "aws s3 cp \"/data/CSHL_patch_features/inception-bn-blue/CHATM2/CHATM2_prep2_none_win7/CHATM2_slide20_2018_01_18-S3_prep2_none_win7_inception-bn-blue_features.bp\" \"s3://mousebrainatlas-data/CSHL_patch_features/inception-bn-blue/CHATM2/CHATM2_prep2_none_win7/CHATM2_slide20_2018_01_18-S3_prep2_none_win7_inception-bn-blue_features.bp\"\n",
      "0\n",
      "aws s3 cp \"/data/CSHL_patch_features/inception-bn-blue/CHATM2/CHATM2_prep2_none_win7/CHATM2_slide20_2018_01_18-S3_prep2_none_win7_inception-bn-blue_locations.bp\" \"s3://mousebrainatlas-data/CSHL_patch_features/inception-bn-blue/CHATM2/CHATM2_prep2_none_win7/CHATM2_slide20_2018_01_18-S3_prep2_none_win7_inception-bn-blue_locations.bp\"\n",
      "0\n",
      "rm -rf \"/data/CSHL_patch_features/inception-bn-blue/CHATM2/CHATM2_prep2_none_win7/CHATM2_slide21_2018_01_18-S1_prep2_none_win7_inception-bn-blue_features.bp\" && mkdir -p \"/data/CSHL_patch_features/inception-bn-blue/CHATM2/CHATM2_prep2_none_win7\"\n",
      "0\n",
      "aws s3 cp \"s3://mousebrainatlas-data/CSHL_patch_features/inception-bn-blue/CHATM2/CHATM2_prep2_none_win7/CHATM2_slide21_2018_01_18-S1_prep2_none_win7_inception-bn-blue_features.bp\" \"/data/CSHL_patch_features/inception-bn-blue/CHATM2/CHATM2_prep2_none_win7/CHATM2_slide21_2018_01_18-S1_prep2_none_win7_inception-bn-blue_features.bp\"\n"
     ]
    },
    {
     "name": "stderr",
     "output_type": "stream",
     "text": [
      "Save features: 3.70 seconds\n",
      "locate patches: 0.05 seconds\n"
     ]
    },
    {
     "name": "stdout",
     "output_type": "stream",
     "text": [
      "1\n"
     ]
    },
    {
     "name": "stderr",
     "output_type": "stream",
     "text": [
      "Features for CHATM2, 61/CHATM2_slide21_2018_01_18-S1 does not exist.\n",
      "No pre-computed features found... computing from scratch.\n",
      "Not using image_cache.\n"
     ]
    },
    {
     "name": "stdout",
     "output_type": "stream",
     "text": [
      "/data/CSHL_data_processed/CHATM2/CHATM2_prep2_raw_NtbNormalizedAdaptiveInvertedGamma/CHATM2_slide21_2018_01_18-S1_prep2_raw_NtbNormalizedAdaptiveInvertedGamma.tif\n"
     ]
    },
    {
     "name": "stderr",
     "output_type": "stream",
     "text": [
      "Load image: 3.65 seconds.\n",
      "Rescale image from 317 to 224: 3.62 seconds.\n",
      "Crop patches: 0.87 seconds.\n",
      "Extract patches: 8.16 seconds\n"
     ]
    },
    {
     "name": "stdout",
     "output_type": "stream",
     "text": [
      "(26548, 1, 224, 224)\n"
     ]
    },
    {
     "name": "stderr",
     "output_type": "stream",
     "text": [
      "Compute features: 41.07 seconds\n",
      "Compute features at one section, multiple locations: 49.24 seconds\n"
     ]
    },
    {
     "name": "stdout",
     "output_type": "stream",
     "text": [
      "aws s3 cp \"/data/CSHL_patch_features/inception-bn-blue/CHATM2/CHATM2_prep2_none_win7/CHATM2_slide21_2018_01_18-S1_prep2_none_win7_inception-bn-blue_features.bp\" \"s3://mousebrainatlas-data/CSHL_patch_features/inception-bn-blue/CHATM2/CHATM2_prep2_none_win7/CHATM2_slide21_2018_01_18-S1_prep2_none_win7_inception-bn-blue_features.bp\"\n",
      "0\n",
      "aws s3 cp \"/data/CSHL_patch_features/inception-bn-blue/CHATM2/CHATM2_prep2_none_win7/CHATM2_slide21_2018_01_18-S1_prep2_none_win7_inception-bn-blue_locations.bp\" \"s3://mousebrainatlas-data/CSHL_patch_features/inception-bn-blue/CHATM2/CHATM2_prep2_none_win7/CHATM2_slide21_2018_01_18-S1_prep2_none_win7_inception-bn-blue_locations.bp\"\n",
      "0\n",
      "rm -rf \"/data/CSHL_patch_features/inception-bn-blue/CHATM2/CHATM2_prep2_none_win7/CHATM2_slide22_2018_01_19-S1_prep2_none_win7_inception-bn-blue_features.bp\" && mkdir -p \"/data/CSHL_patch_features/inception-bn-blue/CHATM2/CHATM2_prep2_none_win7\"\n",
      "0\n",
      "aws s3 cp \"s3://mousebrainatlas-data/CSHL_patch_features/inception-bn-blue/CHATM2/CHATM2_prep2_none_win7/CHATM2_slide22_2018_01_19-S1_prep2_none_win7_inception-bn-blue_features.bp\" \"/data/CSHL_patch_features/inception-bn-blue/CHATM2/CHATM2_prep2_none_win7/CHATM2_slide22_2018_01_19-S1_prep2_none_win7_inception-bn-blue_features.bp\"\n"
     ]
    },
    {
     "name": "stderr",
     "output_type": "stream",
     "text": [
      "Save features: 3.51 seconds\n",
      "locate patches: 0.07 seconds\n"
     ]
    },
    {
     "name": "stdout",
     "output_type": "stream",
     "text": [
      "1\n"
     ]
    },
    {
     "name": "stderr",
     "output_type": "stream",
     "text": [
      "Features for CHATM2, 62/CHATM2_slide22_2018_01_19-S1 does not exist.\n",
      "No pre-computed features found... computing from scratch.\n",
      "Not using image_cache.\n"
     ]
    },
    {
     "name": "stdout",
     "output_type": "stream",
     "text": [
      "/data/CSHL_data_processed/CHATM2/CHATM2_prep2_raw_NtbNormalizedAdaptiveInvertedGamma/CHATM2_slide22_2018_01_19-S1_prep2_raw_NtbNormalizedAdaptiveInvertedGamma.tif\n"
     ]
    },
    {
     "name": "stderr",
     "output_type": "stream",
     "text": [
      "Load image: 4.72 seconds.\n",
      "Rescale image from 317 to 224: 3.49 seconds.\n",
      "Crop patches: 0.84 seconds.\n",
      "Extract patches: 9.08 seconds\n"
     ]
    },
    {
     "name": "stdout",
     "output_type": "stream",
     "text": [
      "(26098, 1, 224, 224)\n"
     ]
    },
    {
     "name": "stderr",
     "output_type": "stream",
     "text": [
      "Compute features: 40.15 seconds\n",
      "Compute features at one section, multiple locations: 49.24 seconds\n"
     ]
    },
    {
     "name": "stdout",
     "output_type": "stream",
     "text": [
      "aws s3 cp \"/data/CSHL_patch_features/inception-bn-blue/CHATM2/CHATM2_prep2_none_win7/CHATM2_slide22_2018_01_19-S1_prep2_none_win7_inception-bn-blue_features.bp\" \"s3://mousebrainatlas-data/CSHL_patch_features/inception-bn-blue/CHATM2/CHATM2_prep2_none_win7/CHATM2_slide22_2018_01_19-S1_prep2_none_win7_inception-bn-blue_features.bp\"\n",
      "0\n",
      "aws s3 cp \"/data/CSHL_patch_features/inception-bn-blue/CHATM2/CHATM2_prep2_none_win7/CHATM2_slide22_2018_01_19-S1_prep2_none_win7_inception-bn-blue_locations.bp\" \"s3://mousebrainatlas-data/CSHL_patch_features/inception-bn-blue/CHATM2/CHATM2_prep2_none_win7/CHATM2_slide22_2018_01_19-S1_prep2_none_win7_inception-bn-blue_locations.bp\"\n",
      "0\n",
      "rm -rf \"/data/CSHL_patch_features/inception-bn-blue/CHATM2/CHATM2_prep2_none_win7/CHATM2_slide21_2018_01_18-S2_prep2_none_win7_inception-bn-blue_features.bp\" && mkdir -p \"/data/CSHL_patch_features/inception-bn-blue/CHATM2/CHATM2_prep2_none_win7\"\n",
      "0\n",
      "aws s3 cp \"s3://mousebrainatlas-data/CSHL_patch_features/inception-bn-blue/CHATM2/CHATM2_prep2_none_win7/CHATM2_slide21_2018_01_18-S2_prep2_none_win7_inception-bn-blue_features.bp\" \"/data/CSHL_patch_features/inception-bn-blue/CHATM2/CHATM2_prep2_none_win7/CHATM2_slide21_2018_01_18-S2_prep2_none_win7_inception-bn-blue_features.bp\"\n"
     ]
    },
    {
     "name": "stderr",
     "output_type": "stream",
     "text": [
      "Save features: 2.72 seconds\n",
      "locate patches: 0.04 seconds\n"
     ]
    },
    {
     "name": "stdout",
     "output_type": "stream",
     "text": [
      "1\n"
     ]
    },
    {
     "name": "stderr",
     "output_type": "stream",
     "text": [
      "Features for CHATM2, 63/CHATM2_slide21_2018_01_18-S2 does not exist.\n",
      "No pre-computed features found... computing from scratch.\n",
      "Not using image_cache.\n"
     ]
    },
    {
     "name": "stdout",
     "output_type": "stream",
     "text": [
      "/data/CSHL_data_processed/CHATM2/CHATM2_prep2_raw_NtbNormalizedAdaptiveInvertedGamma/CHATM2_slide21_2018_01_18-S2_prep2_raw_NtbNormalizedAdaptiveInvertedGamma.tif\n"
     ]
    },
    {
     "name": "stderr",
     "output_type": "stream",
     "text": [
      "Load image: 3.64 seconds.\n",
      "Rescale image from 317 to 224: 3.52 seconds.\n",
      "Crop patches: 0.72 seconds.\n",
      "Extract patches: 7.90 seconds\n"
     ]
    },
    {
     "name": "stdout",
     "output_type": "stream",
     "text": [
      "(25460, 1, 224, 224)\n"
     ]
    },
    {
     "name": "stderr",
     "output_type": "stream",
     "text": [
      "Compute features: 39.46 seconds\n",
      "Compute features at one section, multiple locations: 47.38 seconds\n"
     ]
    },
    {
     "name": "stdout",
     "output_type": "stream",
     "text": [
      "aws s3 cp \"/data/CSHL_patch_features/inception-bn-blue/CHATM2/CHATM2_prep2_none_win7/CHATM2_slide21_2018_01_18-S2_prep2_none_win7_inception-bn-blue_features.bp\" \"s3://mousebrainatlas-data/CSHL_patch_features/inception-bn-blue/CHATM2/CHATM2_prep2_none_win7/CHATM2_slide21_2018_01_18-S2_prep2_none_win7_inception-bn-blue_features.bp\"\n",
      "0\n",
      "aws s3 cp \"/data/CSHL_patch_features/inception-bn-blue/CHATM2/CHATM2_prep2_none_win7/CHATM2_slide21_2018_01_18-S2_prep2_none_win7_inception-bn-blue_locations.bp\" \"s3://mousebrainatlas-data/CSHL_patch_features/inception-bn-blue/CHATM2/CHATM2_prep2_none_win7/CHATM2_slide21_2018_01_18-S2_prep2_none_win7_inception-bn-blue_locations.bp\"\n",
      "0\n",
      "rm -rf \"/data/CSHL_patch_features/inception-bn-blue/CHATM2/CHATM2_prep2_none_win7/CHATM2_slide22_2018_01_19-S2_prep2_none_win7_inception-bn-blue_features.bp\" && mkdir -p \"/data/CSHL_patch_features/inception-bn-blue/CHATM2/CHATM2_prep2_none_win7\"\n",
      "0\n",
      "aws s3 cp \"s3://mousebrainatlas-data/CSHL_patch_features/inception-bn-blue/CHATM2/CHATM2_prep2_none_win7/CHATM2_slide22_2018_01_19-S2_prep2_none_win7_inception-bn-blue_features.bp\" \"/data/CSHL_patch_features/inception-bn-blue/CHATM2/CHATM2_prep2_none_win7/CHATM2_slide22_2018_01_19-S2_prep2_none_win7_inception-bn-blue_features.bp\"\n"
     ]
    },
    {
     "name": "stderr",
     "output_type": "stream",
     "text": [
      "Save features: 2.87 seconds\n",
      "locate patches: 0.06 seconds\n"
     ]
    },
    {
     "name": "stdout",
     "output_type": "stream",
     "text": [
      "1\n"
     ]
    },
    {
     "name": "stderr",
     "output_type": "stream",
     "text": [
      "Features for CHATM2, 64/CHATM2_slide22_2018_01_19-S2 does not exist.\n",
      "No pre-computed features found... computing from scratch.\n",
      "Not using image_cache.\n"
     ]
    },
    {
     "name": "stdout",
     "output_type": "stream",
     "text": [
      "/data/CSHL_data_processed/CHATM2/CHATM2_prep2_raw_NtbNormalizedAdaptiveInvertedGamma/CHATM2_slide22_2018_01_19-S2_prep2_raw_NtbNormalizedAdaptiveInvertedGamma.tif\n"
     ]
    },
    {
     "name": "stderr",
     "output_type": "stream",
     "text": [
      "Load image: 1.78 seconds.\n",
      "Rescale image from 317 to 224: 3.57 seconds.\n",
      "Crop patches: 0.80 seconds.\n",
      "Extract patches: 6.18 seconds\n"
     ]
    },
    {
     "name": "stdout",
     "output_type": "stream",
     "text": [
      "(26400, 1, 224, 224)\n"
     ]
    },
    {
     "name": "stderr",
     "output_type": "stream",
     "text": [
      "Compute features: 41.11 seconds\n",
      "Compute features at one section, multiple locations: 47.31 seconds\n"
     ]
    },
    {
     "name": "stdout",
     "output_type": "stream",
     "text": [
      "aws s3 cp \"/data/CSHL_patch_features/inception-bn-blue/CHATM2/CHATM2_prep2_none_win7/CHATM2_slide22_2018_01_19-S2_prep2_none_win7_inception-bn-blue_features.bp\" \"s3://mousebrainatlas-data/CSHL_patch_features/inception-bn-blue/CHATM2/CHATM2_prep2_none_win7/CHATM2_slide22_2018_01_19-S2_prep2_none_win7_inception-bn-blue_features.bp\"\n",
      "0\n",
      "aws s3 cp \"/data/CSHL_patch_features/inception-bn-blue/CHATM2/CHATM2_prep2_none_win7/CHATM2_slide22_2018_01_19-S2_prep2_none_win7_inception-bn-blue_locations.bp\" \"s3://mousebrainatlas-data/CSHL_patch_features/inception-bn-blue/CHATM2/CHATM2_prep2_none_win7/CHATM2_slide22_2018_01_19-S2_prep2_none_win7_inception-bn-blue_locations.bp\"\n",
      "0\n",
      "rm -rf \"/data/CSHL_patch_features/inception-bn-blue/CHATM2/CHATM2_prep2_none_win7/CHATM2_slide21_2018_01_18-S3_prep2_none_win7_inception-bn-blue_features.bp\" && mkdir -p \"/data/CSHL_patch_features/inception-bn-blue/CHATM2/CHATM2_prep2_none_win7\"\n",
      "0\n",
      "aws s3 cp \"s3://mousebrainatlas-data/CSHL_patch_features/inception-bn-blue/CHATM2/CHATM2_prep2_none_win7/CHATM2_slide21_2018_01_18-S3_prep2_none_win7_inception-bn-blue_features.bp\" \"/data/CSHL_patch_features/inception-bn-blue/CHATM2/CHATM2_prep2_none_win7/CHATM2_slide21_2018_01_18-S3_prep2_none_win7_inception-bn-blue_features.bp\"\n"
     ]
    },
    {
     "name": "stderr",
     "output_type": "stream",
     "text": [
      "Save features: 3.09 seconds\n",
      "locate patches: 0.05 seconds\n"
     ]
    },
    {
     "name": "stdout",
     "output_type": "stream",
     "text": [
      "1\n"
     ]
    },
    {
     "name": "stderr",
     "output_type": "stream",
     "text": [
      "Features for CHATM2, 65/CHATM2_slide21_2018_01_18-S3 does not exist.\n",
      "No pre-computed features found... computing from scratch.\n",
      "Not using image_cache.\n"
     ]
    },
    {
     "name": "stdout",
     "output_type": "stream",
     "text": [
      "/data/CSHL_data_processed/CHATM2/CHATM2_prep2_raw_NtbNormalizedAdaptiveInvertedGamma/CHATM2_slide21_2018_01_18-S3_prep2_raw_NtbNormalizedAdaptiveInvertedGamma.tif\n"
     ]
    },
    {
     "name": "stderr",
     "output_type": "stream",
     "text": [
      "Load image: 3.60 seconds.\n",
      "Rescale image from 317 to 224: 3.45 seconds.\n",
      "Crop patches: 0.82 seconds.\n",
      "Extract patches: 7.89 seconds\n"
     ]
    },
    {
     "name": "stdout",
     "output_type": "stream",
     "text": [
      "(25365, 1, 224, 224)\n"
     ]
    },
    {
     "name": "stderr",
     "output_type": "stream",
     "text": [
      "Compute features: 40.43 seconds\n",
      "Compute features at one section, multiple locations: 48.33 seconds\n"
     ]
    },
    {
     "name": "stdout",
     "output_type": "stream",
     "text": [
      "aws s3 cp \"/data/CSHL_patch_features/inception-bn-blue/CHATM2/CHATM2_prep2_none_win7/CHATM2_slide21_2018_01_18-S3_prep2_none_win7_inception-bn-blue_features.bp\" \"s3://mousebrainatlas-data/CSHL_patch_features/inception-bn-blue/CHATM2/CHATM2_prep2_none_win7/CHATM2_slide21_2018_01_18-S3_prep2_none_win7_inception-bn-blue_features.bp\"\n",
      "0\n",
      "aws s3 cp \"/data/CSHL_patch_features/inception-bn-blue/CHATM2/CHATM2_prep2_none_win7/CHATM2_slide21_2018_01_18-S3_prep2_none_win7_inception-bn-blue_locations.bp\" \"s3://mousebrainatlas-data/CSHL_patch_features/inception-bn-blue/CHATM2/CHATM2_prep2_none_win7/CHATM2_slide21_2018_01_18-S3_prep2_none_win7_inception-bn-blue_locations.bp\"\n",
      "0\n",
      "rm -rf \"/data/CSHL_patch_features/inception-bn-blue/CHATM2/CHATM2_prep2_none_win7/CHATM2_slide22_2018_01_19-S3_prep2_none_win7_inception-bn-blue_features.bp\" && mkdir -p \"/data/CSHL_patch_features/inception-bn-blue/CHATM2/CHATM2_prep2_none_win7\"\n",
      "0\n",
      "aws s3 cp \"s3://mousebrainatlas-data/CSHL_patch_features/inception-bn-blue/CHATM2/CHATM2_prep2_none_win7/CHATM2_slide22_2018_01_19-S3_prep2_none_win7_inception-bn-blue_features.bp\" \"/data/CSHL_patch_features/inception-bn-blue/CHATM2/CHATM2_prep2_none_win7/CHATM2_slide22_2018_01_19-S3_prep2_none_win7_inception-bn-blue_features.bp\"\n"
     ]
    },
    {
     "name": "stderr",
     "output_type": "stream",
     "text": [
      "Save features: 2.95 seconds\n",
      "locate patches: 0.05 seconds\n"
     ]
    },
    {
     "name": "stdout",
     "output_type": "stream",
     "text": [
      "1\n"
     ]
    },
    {
     "name": "stderr",
     "output_type": "stream",
     "text": [
      "Features for CHATM2, 66/CHATM2_slide22_2018_01_19-S3 does not exist.\n",
      "No pre-computed features found... computing from scratch.\n",
      "Not using image_cache.\n"
     ]
    },
    {
     "name": "stdout",
     "output_type": "stream",
     "text": [
      "/data/CSHL_data_processed/CHATM2/CHATM2_prep2_raw_NtbNormalizedAdaptiveInvertedGamma/CHATM2_slide22_2018_01_19-S3_prep2_raw_NtbNormalizedAdaptiveInvertedGamma.tif\n"
     ]
    },
    {
     "name": "stderr",
     "output_type": "stream",
     "text": [
      "Load image: 4.23 seconds.\n",
      "Rescale image from 317 to 224: 3.46 seconds.\n",
      "Crop patches: 0.88 seconds.\n",
      "Extract patches: 8.58 seconds\n"
     ]
    },
    {
     "name": "stdout",
     "output_type": "stream",
     "text": [
      "(26858, 1, 224, 224)\n"
     ]
    },
    {
     "name": "stderr",
     "output_type": "stream",
     "text": [
      "Compute features: 41.55 seconds\n",
      "Compute features at one section, multiple locations: 50.14 seconds\n"
     ]
    },
    {
     "name": "stdout",
     "output_type": "stream",
     "text": [
      "aws s3 cp \"/data/CSHL_patch_features/inception-bn-blue/CHATM2/CHATM2_prep2_none_win7/CHATM2_slide22_2018_01_19-S3_prep2_none_win7_inception-bn-blue_features.bp\" \"s3://mousebrainatlas-data/CSHL_patch_features/inception-bn-blue/CHATM2/CHATM2_prep2_none_win7/CHATM2_slide22_2018_01_19-S3_prep2_none_win7_inception-bn-blue_features.bp\"\n",
      "0\n",
      "aws s3 cp \"/data/CSHL_patch_features/inception-bn-blue/CHATM2/CHATM2_prep2_none_win7/CHATM2_slide22_2018_01_19-S3_prep2_none_win7_inception-bn-blue_locations.bp\" \"s3://mousebrainatlas-data/CSHL_patch_features/inception-bn-blue/CHATM2/CHATM2_prep2_none_win7/CHATM2_slide22_2018_01_19-S3_prep2_none_win7_inception-bn-blue_locations.bp\"\n",
      "0\n",
      "rm -rf \"/data/CSHL_patch_features/inception-bn-blue/CHATM2/CHATM2_prep2_none_win7/CHATM2_slide23_2018_01_18-S1_prep2_none_win7_inception-bn-blue_features.bp\" && mkdir -p \"/data/CSHL_patch_features/inception-bn-blue/CHATM2/CHATM2_prep2_none_win7\"\n",
      "0\n",
      "aws s3 cp \"s3://mousebrainatlas-data/CSHL_patch_features/inception-bn-blue/CHATM2/CHATM2_prep2_none_win7/CHATM2_slide23_2018_01_18-S1_prep2_none_win7_inception-bn-blue_features.bp\" \"/data/CSHL_patch_features/inception-bn-blue/CHATM2/CHATM2_prep2_none_win7/CHATM2_slide23_2018_01_18-S1_prep2_none_win7_inception-bn-blue_features.bp\"\n"
     ]
    },
    {
     "name": "stderr",
     "output_type": "stream",
     "text": [
      "Save features: 3.33 seconds\n",
      "locate patches: 0.04 seconds\n"
     ]
    },
    {
     "name": "stdout",
     "output_type": "stream",
     "text": [
      "1\n"
     ]
    },
    {
     "name": "stderr",
     "output_type": "stream",
     "text": [
      "Features for CHATM2, 67/CHATM2_slide23_2018_01_18-S1 does not exist.\n",
      "No pre-computed features found... computing from scratch.\n",
      "Not using image_cache.\n"
     ]
    },
    {
     "name": "stdout",
     "output_type": "stream",
     "text": [
      "/data/CSHL_data_processed/CHATM2/CHATM2_prep2_raw_NtbNormalizedAdaptiveInvertedGamma/CHATM2_slide23_2018_01_18-S1_prep2_raw_NtbNormalizedAdaptiveInvertedGamma.tif\n"
     ]
    },
    {
     "name": "stderr",
     "output_type": "stream",
     "text": [
      "Load image: 3.64 seconds.\n",
      "Rescale image from 317 to 224: 3.53 seconds.\n",
      "Crop patches: 0.80 seconds.\n",
      "Extract patches: 7.98 seconds\n"
     ]
    },
    {
     "name": "stdout",
     "output_type": "stream",
     "text": [
      "(25531, 1, 224, 224)\n"
     ]
    },
    {
     "name": "stderr",
     "output_type": "stream",
     "text": [
      "Compute features: 39.39 seconds\n",
      "Compute features at one section, multiple locations: 47.38 seconds\n"
     ]
    },
    {
     "name": "stdout",
     "output_type": "stream",
     "text": [
      "aws s3 cp \"/data/CSHL_patch_features/inception-bn-blue/CHATM2/CHATM2_prep2_none_win7/CHATM2_slide23_2018_01_18-S1_prep2_none_win7_inception-bn-blue_features.bp\" \"s3://mousebrainatlas-data/CSHL_patch_features/inception-bn-blue/CHATM2/CHATM2_prep2_none_win7/CHATM2_slide23_2018_01_18-S1_prep2_none_win7_inception-bn-blue_features.bp\"\n",
      "0\n",
      "aws s3 cp \"/data/CSHL_patch_features/inception-bn-blue/CHATM2/CHATM2_prep2_none_win7/CHATM2_slide23_2018_01_18-S1_prep2_none_win7_inception-bn-blue_locations.bp\" \"s3://mousebrainatlas-data/CSHL_patch_features/inception-bn-blue/CHATM2/CHATM2_prep2_none_win7/CHATM2_slide23_2018_01_18-S1_prep2_none_win7_inception-bn-blue_locations.bp\"\n",
      "0\n",
      "rm -rf \"/data/CSHL_patch_features/inception-bn-blue/CHATM2/CHATM2_prep2_none_win7/CHATM2_slide24_2018_01_18-S1_prep2_none_win7_inception-bn-blue_features.bp\" && mkdir -p \"/data/CSHL_patch_features/inception-bn-blue/CHATM2/CHATM2_prep2_none_win7\"\n",
      "0\n",
      "aws s3 cp \"s3://mousebrainatlas-data/CSHL_patch_features/inception-bn-blue/CHATM2/CHATM2_prep2_none_win7/CHATM2_slide24_2018_01_18-S1_prep2_none_win7_inception-bn-blue_features.bp\" \"/data/CSHL_patch_features/inception-bn-blue/CHATM2/CHATM2_prep2_none_win7/CHATM2_slide24_2018_01_18-S1_prep2_none_win7_inception-bn-blue_features.bp\"\n"
     ]
    },
    {
     "name": "stderr",
     "output_type": "stream",
     "text": [
      "Save features: 2.86 seconds\n",
      "locate patches: 0.05 seconds\n"
     ]
    },
    {
     "name": "stdout",
     "output_type": "stream",
     "text": [
      "1\n"
     ]
    },
    {
     "name": "stderr",
     "output_type": "stream",
     "text": [
      "Features for CHATM2, 68/CHATM2_slide24_2018_01_18-S1 does not exist.\n",
      "No pre-computed features found... computing from scratch.\n",
      "Not using image_cache.\n"
     ]
    },
    {
     "name": "stdout",
     "output_type": "stream",
     "text": [
      "/data/CSHL_data_processed/CHATM2/CHATM2_prep2_raw_NtbNormalizedAdaptiveInvertedGamma/CHATM2_slide24_2018_01_18-S1_prep2_raw_NtbNormalizedAdaptiveInvertedGamma.tif\n"
     ]
    },
    {
     "name": "stderr",
     "output_type": "stream",
     "text": [
      "Load image: 3.59 seconds.\n",
      "Rescale image from 317 to 224: 3.47 seconds.\n",
      "Crop patches: 0.88 seconds.\n",
      "Extract patches: 7.96 seconds\n"
     ]
    },
    {
     "name": "stdout",
     "output_type": "stream",
     "text": [
      "(26708, 1, 224, 224)\n"
     ]
    },
    {
     "name": "stderr",
     "output_type": "stream",
     "text": [
      "Compute features: 42.19 seconds\n",
      "Compute features at one section, multiple locations: 50.18 seconds\n"
     ]
    },
    {
     "name": "stdout",
     "output_type": "stream",
     "text": [
      "aws s3 cp \"/data/CSHL_patch_features/inception-bn-blue/CHATM2/CHATM2_prep2_none_win7/CHATM2_slide24_2018_01_18-S1_prep2_none_win7_inception-bn-blue_features.bp\" \"s3://mousebrainatlas-data/CSHL_patch_features/inception-bn-blue/CHATM2/CHATM2_prep2_none_win7/CHATM2_slide24_2018_01_18-S1_prep2_none_win7_inception-bn-blue_features.bp\"\n",
      "0\n",
      "aws s3 cp \"/data/CSHL_patch_features/inception-bn-blue/CHATM2/CHATM2_prep2_none_win7/CHATM2_slide24_2018_01_18-S1_prep2_none_win7_inception-bn-blue_locations.bp\" \"s3://mousebrainatlas-data/CSHL_patch_features/inception-bn-blue/CHATM2/CHATM2_prep2_none_win7/CHATM2_slide24_2018_01_18-S1_prep2_none_win7_inception-bn-blue_locations.bp\"\n",
      "0\n",
      "rm -rf \"/data/CSHL_patch_features/inception-bn-blue/CHATM2/CHATM2_prep2_none_win7/CHATM2_slide23_2018_01_18-S2_prep2_none_win7_inception-bn-blue_features.bp\" && mkdir -p \"/data/CSHL_patch_features/inception-bn-blue/CHATM2/CHATM2_prep2_none_win7\"\n",
      "0\n",
      "aws s3 cp \"s3://mousebrainatlas-data/CSHL_patch_features/inception-bn-blue/CHATM2/CHATM2_prep2_none_win7/CHATM2_slide23_2018_01_18-S2_prep2_none_win7_inception-bn-blue_features.bp\" \"/data/CSHL_patch_features/inception-bn-blue/CHATM2/CHATM2_prep2_none_win7/CHATM2_slide23_2018_01_18-S2_prep2_none_win7_inception-bn-blue_features.bp\"\n"
     ]
    },
    {
     "name": "stderr",
     "output_type": "stream",
     "text": [
      "Save features: 3.36 seconds\n",
      "locate patches: 0.07 seconds\n"
     ]
    },
    {
     "name": "stdout",
     "output_type": "stream",
     "text": [
      "1\n"
     ]
    },
    {
     "name": "stderr",
     "output_type": "stream",
     "text": [
      "Features for CHATM2, 69/CHATM2_slide23_2018_01_18-S2 does not exist.\n",
      "No pre-computed features found... computing from scratch.\n",
      "Not using image_cache.\n"
     ]
    },
    {
     "name": "stdout",
     "output_type": "stream",
     "text": [
      "/data/CSHL_data_processed/CHATM2/CHATM2_prep2_raw_NtbNormalizedAdaptiveInvertedGamma/CHATM2_slide23_2018_01_18-S2_prep2_raw_NtbNormalizedAdaptiveInvertedGamma.tif\n"
     ]
    },
    {
     "name": "stderr",
     "output_type": "stream",
     "text": [
      "Load image: 2.80 seconds.\n",
      "Rescale image from 317 to 224: 3.19 seconds.\n",
      "Crop patches: 0.79 seconds.\n",
      "Extract patches: 6.80 seconds\n"
     ]
    },
    {
     "name": "stdout",
     "output_type": "stream",
     "text": [
      "(25371, 1, 224, 224)\n"
     ]
    },
    {
     "name": "stderr",
     "output_type": "stream",
     "text": [
      "Compute features: 42.18 seconds\n",
      "Compute features at one section, multiple locations: 49.01 seconds\n"
     ]
    },
    {
     "name": "stdout",
     "output_type": "stream",
     "text": [
      "aws s3 cp \"/data/CSHL_patch_features/inception-bn-blue/CHATM2/CHATM2_prep2_none_win7/CHATM2_slide23_2018_01_18-S2_prep2_none_win7_inception-bn-blue_features.bp\" \"s3://mousebrainatlas-data/CSHL_patch_features/inception-bn-blue/CHATM2/CHATM2_prep2_none_win7/CHATM2_slide23_2018_01_18-S2_prep2_none_win7_inception-bn-blue_features.bp\"\n",
      "0\n",
      "aws s3 cp \"/data/CSHL_patch_features/inception-bn-blue/CHATM2/CHATM2_prep2_none_win7/CHATM2_slide23_2018_01_18-S2_prep2_none_win7_inception-bn-blue_locations.bp\" \"s3://mousebrainatlas-data/CSHL_patch_features/inception-bn-blue/CHATM2/CHATM2_prep2_none_win7/CHATM2_slide23_2018_01_18-S2_prep2_none_win7_inception-bn-blue_locations.bp\"\n",
      "0\n",
      "rm -rf \"/data/CSHL_patch_features/inception-bn-blue/CHATM2/CHATM2_prep2_none_win7/CHATM2_slide24_2018_01_18-S2_prep2_none_win7_inception-bn-blue_features.bp\" && mkdir -p \"/data/CSHL_patch_features/inception-bn-blue/CHATM2/CHATM2_prep2_none_win7\"\n",
      "0\n",
      "aws s3 cp \"s3://mousebrainatlas-data/CSHL_patch_features/inception-bn-blue/CHATM2/CHATM2_prep2_none_win7/CHATM2_slide24_2018_01_18-S2_prep2_none_win7_inception-bn-blue_features.bp\" \"/data/CSHL_patch_features/inception-bn-blue/CHATM2/CHATM2_prep2_none_win7/CHATM2_slide24_2018_01_18-S2_prep2_none_win7_inception-bn-blue_features.bp\"\n"
     ]
    },
    {
     "name": "stderr",
     "output_type": "stream",
     "text": [
      "Save features: 3.78 seconds\n",
      "locate patches: 0.06 seconds\n"
     ]
    },
    {
     "name": "stdout",
     "output_type": "stream",
     "text": [
      "1\n"
     ]
    },
    {
     "name": "stderr",
     "output_type": "stream",
     "text": [
      "Features for CHATM2, 70/CHATM2_slide24_2018_01_18-S2 does not exist.\n",
      "No pre-computed features found... computing from scratch.\n",
      "Not using image_cache.\n"
     ]
    },
    {
     "name": "stdout",
     "output_type": "stream",
     "text": [
      "/data/CSHL_data_processed/CHATM2/CHATM2_prep2_raw_NtbNormalizedAdaptiveInvertedGamma/CHATM2_slide24_2018_01_18-S2_prep2_raw_NtbNormalizedAdaptiveInvertedGamma.tif\n"
     ]
    },
    {
     "name": "stderr",
     "output_type": "stream",
     "text": [
      "Load image: 1.77 seconds.\n",
      "Rescale image from 317 to 224: 2.89 seconds.\n",
      "Crop patches: 1.02 seconds.\n",
      "Extract patches: 5.69 seconds\n"
     ]
    },
    {
     "name": "stdout",
     "output_type": "stream",
     "text": [
      "(27569, 1, 224, 224)\n"
     ]
    },
    {
     "name": "stderr",
     "output_type": "stream",
     "text": [
      "Compute features: 45.92 seconds\n",
      "Compute features at one section, multiple locations: 51.74 seconds\n"
     ]
    },
    {
     "name": "stdout",
     "output_type": "stream",
     "text": [
      "aws s3 cp \"/data/CSHL_patch_features/inception-bn-blue/CHATM2/CHATM2_prep2_none_win7/CHATM2_slide24_2018_01_18-S2_prep2_none_win7_inception-bn-blue_features.bp\" \"s3://mousebrainatlas-data/CSHL_patch_features/inception-bn-blue/CHATM2/CHATM2_prep2_none_win7/CHATM2_slide24_2018_01_18-S2_prep2_none_win7_inception-bn-blue_features.bp\"\n",
      "0\n",
      "aws s3 cp \"/data/CSHL_patch_features/inception-bn-blue/CHATM2/CHATM2_prep2_none_win7/CHATM2_slide24_2018_01_18-S2_prep2_none_win7_inception-bn-blue_locations.bp\" \"s3://mousebrainatlas-data/CSHL_patch_features/inception-bn-blue/CHATM2/CHATM2_prep2_none_win7/CHATM2_slide24_2018_01_18-S2_prep2_none_win7_inception-bn-blue_locations.bp\"\n",
      "0\n",
      "rm -rf \"/data/CSHL_patch_features/inception-bn-blue/CHATM2/CHATM2_prep2_none_win7/CHATM2_slide23_2018_01_18-S3_prep2_none_win7_inception-bn-blue_features.bp\" && mkdir -p \"/data/CSHL_patch_features/inception-bn-blue/CHATM2/CHATM2_prep2_none_win7\"\n",
      "0\n",
      "aws s3 cp \"s3://mousebrainatlas-data/CSHL_patch_features/inception-bn-blue/CHATM2/CHATM2_prep2_none_win7/CHATM2_slide23_2018_01_18-S3_prep2_none_win7_inception-bn-blue_features.bp\" \"/data/CSHL_patch_features/inception-bn-blue/CHATM2/CHATM2_prep2_none_win7/CHATM2_slide23_2018_01_18-S3_prep2_none_win7_inception-bn-blue_features.bp\"\n"
     ]
    },
    {
     "name": "stderr",
     "output_type": "stream",
     "text": [
      "Save features: 3.03 seconds\n",
      "locate patches: 0.05 seconds\n"
     ]
    },
    {
     "name": "stdout",
     "output_type": "stream",
     "text": [
      "1\n"
     ]
    },
    {
     "name": "stderr",
     "output_type": "stream",
     "text": [
      "Features for CHATM2, 71/CHATM2_slide23_2018_01_18-S3 does not exist.\n",
      "No pre-computed features found... computing from scratch.\n",
      "Not using image_cache.\n"
     ]
    },
    {
     "name": "stdout",
     "output_type": "stream",
     "text": [
      "/data/CSHL_data_processed/CHATM2/CHATM2_prep2_raw_NtbNormalizedAdaptiveInvertedGamma/CHATM2_slide23_2018_01_18-S3_prep2_raw_NtbNormalizedAdaptiveInvertedGamma.tif\n"
     ]
    },
    {
     "name": "stderr",
     "output_type": "stream",
     "text": [
      "Load image: 3.24 seconds.\n",
      "Rescale image from 317 to 224: 2.82 seconds.\n",
      "Crop patches: 1.64 seconds.\n",
      "Extract patches: 7.72 seconds\n"
     ]
    },
    {
     "name": "stdout",
     "output_type": "stream",
     "text": [
      "(25521, 1, 224, 224)\n"
     ]
    },
    {
     "name": "stderr",
     "output_type": "stream",
     "text": [
      "Compute features: 42.75 seconds\n",
      "Compute features at one section, multiple locations: 50.49 seconds\n"
     ]
    },
    {
     "name": "stdout",
     "output_type": "stream",
     "text": [
      "aws s3 cp \"/data/CSHL_patch_features/inception-bn-blue/CHATM2/CHATM2_prep2_none_win7/CHATM2_slide23_2018_01_18-S3_prep2_none_win7_inception-bn-blue_features.bp\" \"s3://mousebrainatlas-data/CSHL_patch_features/inception-bn-blue/CHATM2/CHATM2_prep2_none_win7/CHATM2_slide23_2018_01_18-S3_prep2_none_win7_inception-bn-blue_features.bp\"\n",
      "0\n",
      "aws s3 cp \"/data/CSHL_patch_features/inception-bn-blue/CHATM2/CHATM2_prep2_none_win7/CHATM2_slide23_2018_01_18-S3_prep2_none_win7_inception-bn-blue_locations.bp\" \"s3://mousebrainatlas-data/CSHL_patch_features/inception-bn-blue/CHATM2/CHATM2_prep2_none_win7/CHATM2_slide23_2018_01_18-S3_prep2_none_win7_inception-bn-blue_locations.bp\"\n",
      "0\n",
      "rm -rf \"/data/CSHL_patch_features/inception-bn-blue/CHATM2/CHATM2_prep2_none_win7/CHATM2_slide24_2018_01_18-S3_prep2_none_win7_inception-bn-blue_features.bp\" && mkdir -p \"/data/CSHL_patch_features/inception-bn-blue/CHATM2/CHATM2_prep2_none_win7\"\n",
      "0\n",
      "aws s3 cp \"s3://mousebrainatlas-data/CSHL_patch_features/inception-bn-blue/CHATM2/CHATM2_prep2_none_win7/CHATM2_slide24_2018_01_18-S3_prep2_none_win7_inception-bn-blue_features.bp\" \"/data/CSHL_patch_features/inception-bn-blue/CHATM2/CHATM2_prep2_none_win7/CHATM2_slide24_2018_01_18-S3_prep2_none_win7_inception-bn-blue_features.bp\"\n"
     ]
    },
    {
     "name": "stderr",
     "output_type": "stream",
     "text": [
      "Save features: 2.75 seconds\n",
      "locate patches: 0.04 seconds\n"
     ]
    },
    {
     "name": "stdout",
     "output_type": "stream",
     "text": [
      "1\n"
     ]
    },
    {
     "name": "stderr",
     "output_type": "stream",
     "text": [
      "Features for CHATM2, 72/CHATM2_slide24_2018_01_18-S3 does not exist.\n",
      "No pre-computed features found... computing from scratch.\n",
      "Not using image_cache.\n"
     ]
    },
    {
     "name": "stdout",
     "output_type": "stream",
     "text": [
      "/data/CSHL_data_processed/CHATM2/CHATM2_prep2_raw_NtbNormalizedAdaptiveInvertedGamma/CHATM2_slide24_2018_01_18-S3_prep2_raw_NtbNormalizedAdaptiveInvertedGamma.tif\n"
     ]
    },
    {
     "name": "stderr",
     "output_type": "stream",
     "text": [
      "Load image: 1.78 seconds.\n",
      "Rescale image from 317 to 224: 2.80 seconds.\n",
      "Crop patches: 0.89 seconds.\n",
      "Extract patches: 5.48 seconds\n"
     ]
    },
    {
     "name": "stdout",
     "output_type": "stream",
     "text": [
      "(27785, 1, 224, 224)\n"
     ]
    },
    {
     "name": "stderr",
     "output_type": "stream",
     "text": [
      "Compute features: 42.96 seconds\n",
      "Compute features at one section, multiple locations: 48.47 seconds\n"
     ]
    },
    {
     "name": "stdout",
     "output_type": "stream",
     "text": [
      "aws s3 cp \"/data/CSHL_patch_features/inception-bn-blue/CHATM2/CHATM2_prep2_none_win7/CHATM2_slide24_2018_01_18-S3_prep2_none_win7_inception-bn-blue_features.bp\" \"s3://mousebrainatlas-data/CSHL_patch_features/inception-bn-blue/CHATM2/CHATM2_prep2_none_win7/CHATM2_slide24_2018_01_18-S3_prep2_none_win7_inception-bn-blue_features.bp\"\n",
      "0\n",
      "aws s3 cp \"/data/CSHL_patch_features/inception-bn-blue/CHATM2/CHATM2_prep2_none_win7/CHATM2_slide24_2018_01_18-S3_prep2_none_win7_inception-bn-blue_locations.bp\" \"s3://mousebrainatlas-data/CSHL_patch_features/inception-bn-blue/CHATM2/CHATM2_prep2_none_win7/CHATM2_slide24_2018_01_18-S3_prep2_none_win7_inception-bn-blue_locations.bp\"\n",
      "0\n",
      "rm -rf \"/data/CSHL_patch_features/inception-bn-blue/CHATM2/CHATM2_prep2_none_win7/CHATM2_slide25_2018_01_18-S1_prep2_none_win7_inception-bn-blue_features.bp\" && mkdir -p \"/data/CSHL_patch_features/inception-bn-blue/CHATM2/CHATM2_prep2_none_win7\"\n",
      "0\n",
      "aws s3 cp \"s3://mousebrainatlas-data/CSHL_patch_features/inception-bn-blue/CHATM2/CHATM2_prep2_none_win7/CHATM2_slide25_2018_01_18-S1_prep2_none_win7_inception-bn-blue_features.bp\" \"/data/CSHL_patch_features/inception-bn-blue/CHATM2/CHATM2_prep2_none_win7/CHATM2_slide25_2018_01_18-S1_prep2_none_win7_inception-bn-blue_features.bp\"\n"
     ]
    },
    {
     "name": "stderr",
     "output_type": "stream",
     "text": [
      "Save features: 3.06 seconds\n",
      "locate patches: 0.04 seconds\n"
     ]
    },
    {
     "name": "stdout",
     "output_type": "stream",
     "text": [
      "1\n"
     ]
    },
    {
     "name": "stderr",
     "output_type": "stream",
     "text": [
      "Features for CHATM2, 73/CHATM2_slide25_2018_01_18-S1 does not exist.\n",
      "No pre-computed features found... computing from scratch.\n",
      "Not using image_cache.\n"
     ]
    },
    {
     "name": "stdout",
     "output_type": "stream",
     "text": [
      "/data/CSHL_data_processed/CHATM2/CHATM2_prep2_raw_NtbNormalizedAdaptiveInvertedGamma/CHATM2_slide25_2018_01_18-S1_prep2_raw_NtbNormalizedAdaptiveInvertedGamma.tif\n"
     ]
    },
    {
     "name": "stderr",
     "output_type": "stream",
     "text": [
      "Load image: 4.06 seconds.\n",
      "Rescale image from 317 to 224: 2.84 seconds.\n",
      "Crop patches: 0.86 seconds.\n",
      "Extract patches: 7.77 seconds\n"
     ]
    },
    {
     "name": "stdout",
     "output_type": "stream",
     "text": [
      "(28094, 1, 224, 224)\n"
     ]
    },
    {
     "name": "stderr",
     "output_type": "stream",
     "text": [
      "Compute features: 43.01 seconds\n",
      "Compute features at one section, multiple locations: 50.81 seconds\n"
     ]
    },
    {
     "name": "stdout",
     "output_type": "stream",
     "text": [
      "aws s3 cp \"/data/CSHL_patch_features/inception-bn-blue/CHATM2/CHATM2_prep2_none_win7/CHATM2_slide25_2018_01_18-S1_prep2_none_win7_inception-bn-blue_features.bp\" \"s3://mousebrainatlas-data/CSHL_patch_features/inception-bn-blue/CHATM2/CHATM2_prep2_none_win7/CHATM2_slide25_2018_01_18-S1_prep2_none_win7_inception-bn-blue_features.bp\"\n",
      "0\n",
      "aws s3 cp \"/data/CSHL_patch_features/inception-bn-blue/CHATM2/CHATM2_prep2_none_win7/CHATM2_slide25_2018_01_18-S1_prep2_none_win7_inception-bn-blue_locations.bp\" \"s3://mousebrainatlas-data/CSHL_patch_features/inception-bn-blue/CHATM2/CHATM2_prep2_none_win7/CHATM2_slide25_2018_01_18-S1_prep2_none_win7_inception-bn-blue_locations.bp\"\n",
      "0\n",
      "rm -rf \"/data/CSHL_patch_features/inception-bn-blue/CHATM2/CHATM2_prep2_none_win7/CHATM2_slide26_2018_01_18-S1_prep2_none_win7_inception-bn-blue_features.bp\" && mkdir -p \"/data/CSHL_patch_features/inception-bn-blue/CHATM2/CHATM2_prep2_none_win7\"\n",
      "0\n",
      "aws s3 cp \"s3://mousebrainatlas-data/CSHL_patch_features/inception-bn-blue/CHATM2/CHATM2_prep2_none_win7/CHATM2_slide26_2018_01_18-S1_prep2_none_win7_inception-bn-blue_features.bp\" \"/data/CSHL_patch_features/inception-bn-blue/CHATM2/CHATM2_prep2_none_win7/CHATM2_slide26_2018_01_18-S1_prep2_none_win7_inception-bn-blue_features.bp\"\n"
     ]
    },
    {
     "name": "stderr",
     "output_type": "stream",
     "text": [
      "Save features: 3.07 seconds\n",
      "locate patches: 0.06 seconds\n"
     ]
    },
    {
     "name": "stdout",
     "output_type": "stream",
     "text": [
      "1\n"
     ]
    },
    {
     "name": "stderr",
     "output_type": "stream",
     "text": [
      "Features for CHATM2, 74/CHATM2_slide26_2018_01_18-S1 does not exist.\n",
      "No pre-computed features found... computing from scratch.\n",
      "Not using image_cache.\n"
     ]
    },
    {
     "name": "stdout",
     "output_type": "stream",
     "text": [
      "/data/CSHL_data_processed/CHATM2/CHATM2_prep2_raw_NtbNormalizedAdaptiveInvertedGamma/CHATM2_slide26_2018_01_18-S1_prep2_raw_NtbNormalizedAdaptiveInvertedGamma.tif\n"
     ]
    },
    {
     "name": "stderr",
     "output_type": "stream",
     "text": [
      "Load image: 4.77 seconds.\n",
      "Rescale image from 317 to 224: 2.85 seconds.\n",
      "Crop patches: 0.84 seconds.\n",
      "Extract patches: 8.47 seconds\n"
     ]
    },
    {
     "name": "stdout",
     "output_type": "stream",
     "text": [
      "(27933, 1, 224, 224)\n"
     ]
    },
    {
     "name": "stderr",
     "output_type": "stream",
     "text": [
      "Compute features: 45.41 seconds\n",
      "Compute features at one section, multiple locations: 53.90 seconds\n"
     ]
    },
    {
     "name": "stdout",
     "output_type": "stream",
     "text": [
      "aws s3 cp \"/data/CSHL_patch_features/inception-bn-blue/CHATM2/CHATM2_prep2_none_win7/CHATM2_slide26_2018_01_18-S1_prep2_none_win7_inception-bn-blue_features.bp\" \"s3://mousebrainatlas-data/CSHL_patch_features/inception-bn-blue/CHATM2/CHATM2_prep2_none_win7/CHATM2_slide26_2018_01_18-S1_prep2_none_win7_inception-bn-blue_features.bp\"\n",
      "0\n",
      "aws s3 cp \"/data/CSHL_patch_features/inception-bn-blue/CHATM2/CHATM2_prep2_none_win7/CHATM2_slide26_2018_01_18-S1_prep2_none_win7_inception-bn-blue_locations.bp\" \"s3://mousebrainatlas-data/CSHL_patch_features/inception-bn-blue/CHATM2/CHATM2_prep2_none_win7/CHATM2_slide26_2018_01_18-S1_prep2_none_win7_inception-bn-blue_locations.bp\"\n",
      "0\n",
      "rm -rf \"/data/CSHL_patch_features/inception-bn-blue/CHATM2/CHATM2_prep2_none_win7/CHATM2_slide25_2018_01_18-S2_prep2_none_win7_inception-bn-blue_features.bp\" && mkdir -p \"/data/CSHL_patch_features/inception-bn-blue/CHATM2/CHATM2_prep2_none_win7\"\n",
      "0\n",
      "aws s3 cp \"s3://mousebrainatlas-data/CSHL_patch_features/inception-bn-blue/CHATM2/CHATM2_prep2_none_win7/CHATM2_slide25_2018_01_18-S2_prep2_none_win7_inception-bn-blue_features.bp\" \"/data/CSHL_patch_features/inception-bn-blue/CHATM2/CHATM2_prep2_none_win7/CHATM2_slide25_2018_01_18-S2_prep2_none_win7_inception-bn-blue_features.bp\"\n"
     ]
    },
    {
     "name": "stderr",
     "output_type": "stream",
     "text": [
      "Save features: 3.23 seconds\n",
      "locate patches: 0.06 seconds\n"
     ]
    },
    {
     "name": "stdout",
     "output_type": "stream",
     "text": [
      "1\n"
     ]
    },
    {
     "name": "stderr",
     "output_type": "stream",
     "text": [
      "Features for CHATM2, 75/CHATM2_slide25_2018_01_18-S2 does not exist.\n",
      "No pre-computed features found... computing from scratch.\n",
      "Not using image_cache.\n"
     ]
    },
    {
     "name": "stdout",
     "output_type": "stream",
     "text": [
      "/data/CSHL_data_processed/CHATM2/CHATM2_prep2_raw_NtbNormalizedAdaptiveInvertedGamma/CHATM2_slide25_2018_01_18-S2_prep2_raw_NtbNormalizedAdaptiveInvertedGamma.tif\n"
     ]
    },
    {
     "name": "stderr",
     "output_type": "stream",
     "text": [
      "Load image: 3.64 seconds.\n",
      "Rescale image from 317 to 224: 2.85 seconds.\n",
      "Crop patches: 0.85 seconds.\n",
      "Extract patches: 7.34 seconds\n"
     ]
    },
    {
     "name": "stdout",
     "output_type": "stream",
     "text": [
      "(28391, 1, 224, 224)\n"
     ]
    },
    {
     "name": "stderr",
     "output_type": "stream",
     "text": [
      "Compute features: 43.48 seconds\n",
      "Compute features at one section, multiple locations: 50.85 seconds\n"
     ]
    },
    {
     "name": "stdout",
     "output_type": "stream",
     "text": [
      "aws s3 cp \"/data/CSHL_patch_features/inception-bn-blue/CHATM2/CHATM2_prep2_none_win7/CHATM2_slide25_2018_01_18-S2_prep2_none_win7_inception-bn-blue_features.bp\" \"s3://mousebrainatlas-data/CSHL_patch_features/inception-bn-blue/CHATM2/CHATM2_prep2_none_win7/CHATM2_slide25_2018_01_18-S2_prep2_none_win7_inception-bn-blue_features.bp\"\n",
      "0\n",
      "aws s3 cp \"/data/CSHL_patch_features/inception-bn-blue/CHATM2/CHATM2_prep2_none_win7/CHATM2_slide25_2018_01_18-S2_prep2_none_win7_inception-bn-blue_locations.bp\" \"s3://mousebrainatlas-data/CSHL_patch_features/inception-bn-blue/CHATM2/CHATM2_prep2_none_win7/CHATM2_slide25_2018_01_18-S2_prep2_none_win7_inception-bn-blue_locations.bp\"\n",
      "0\n",
      "rm -rf \"/data/CSHL_patch_features/inception-bn-blue/CHATM2/CHATM2_prep2_none_win7/CHATM2_slide26_2018_01_18-S2_prep2_none_win7_inception-bn-blue_features.bp\" && mkdir -p \"/data/CSHL_patch_features/inception-bn-blue/CHATM2/CHATM2_prep2_none_win7\"\n",
      "0\n",
      "aws s3 cp \"s3://mousebrainatlas-data/CSHL_patch_features/inception-bn-blue/CHATM2/CHATM2_prep2_none_win7/CHATM2_slide26_2018_01_18-S2_prep2_none_win7_inception-bn-blue_features.bp\" \"/data/CSHL_patch_features/inception-bn-blue/CHATM2/CHATM2_prep2_none_win7/CHATM2_slide26_2018_01_18-S2_prep2_none_win7_inception-bn-blue_features.bp\"\n"
     ]
    },
    {
     "name": "stderr",
     "output_type": "stream",
     "text": [
      "Save features: 3.52 seconds\n",
      "locate patches: 0.05 seconds\n"
     ]
    },
    {
     "name": "stdout",
     "output_type": "stream",
     "text": [
      "1\n"
     ]
    },
    {
     "name": "stderr",
     "output_type": "stream",
     "text": [
      "Features for CHATM2, 76/CHATM2_slide26_2018_01_18-S2 does not exist.\n",
      "No pre-computed features found... computing from scratch.\n",
      "Not using image_cache.\n"
     ]
    },
    {
     "name": "stdout",
     "output_type": "stream",
     "text": [
      "/data/CSHL_data_processed/CHATM2/CHATM2_prep2_raw_NtbNormalizedAdaptiveInvertedGamma/CHATM2_slide26_2018_01_18-S2_prep2_raw_NtbNormalizedAdaptiveInvertedGamma.tif\n"
     ]
    },
    {
     "name": "stderr",
     "output_type": "stream",
     "text": [
      "Load image: 1.78 seconds.\n",
      "Rescale image from 317 to 224: 4.36 seconds.\n",
      "Crop patches: 0.86 seconds.\n",
      "Extract patches: 7.01 seconds\n"
     ]
    },
    {
     "name": "stdout",
     "output_type": "stream",
     "text": [
      "(27569, 1, 224, 224)\n"
     ]
    },
    {
     "name": "stderr",
     "output_type": "stream",
     "text": [
      "Compute features: 42.44 seconds\n",
      "Compute features at one section, multiple locations: 49.48 seconds\n"
     ]
    },
    {
     "name": "stdout",
     "output_type": "stream",
     "text": [
      "aws s3 cp \"/data/CSHL_patch_features/inception-bn-blue/CHATM2/CHATM2_prep2_none_win7/CHATM2_slide26_2018_01_18-S2_prep2_none_win7_inception-bn-blue_features.bp\" \"s3://mousebrainatlas-data/CSHL_patch_features/inception-bn-blue/CHATM2/CHATM2_prep2_none_win7/CHATM2_slide26_2018_01_18-S2_prep2_none_win7_inception-bn-blue_features.bp\"\n",
      "0\n",
      "aws s3 cp \"/data/CSHL_patch_features/inception-bn-blue/CHATM2/CHATM2_prep2_none_win7/CHATM2_slide26_2018_01_18-S2_prep2_none_win7_inception-bn-blue_locations.bp\" \"s3://mousebrainatlas-data/CSHL_patch_features/inception-bn-blue/CHATM2/CHATM2_prep2_none_win7/CHATM2_slide26_2018_01_18-S2_prep2_none_win7_inception-bn-blue_locations.bp\"\n",
      "0\n",
      "rm -rf \"/data/CSHL_patch_features/inception-bn-blue/CHATM2/CHATM2_prep2_none_win7/CHATM2_slide25_2018_01_18-S3_prep2_none_win7_inception-bn-blue_features.bp\" && mkdir -p \"/data/CSHL_patch_features/inception-bn-blue/CHATM2/CHATM2_prep2_none_win7\"\n",
      "0\n",
      "aws s3 cp \"s3://mousebrainatlas-data/CSHL_patch_features/inception-bn-blue/CHATM2/CHATM2_prep2_none_win7/CHATM2_slide25_2018_01_18-S3_prep2_none_win7_inception-bn-blue_features.bp\" \"/data/CSHL_patch_features/inception-bn-blue/CHATM2/CHATM2_prep2_none_win7/CHATM2_slide25_2018_01_18-S3_prep2_none_win7_inception-bn-blue_features.bp\"\n"
     ]
    },
    {
     "name": "stderr",
     "output_type": "stream",
     "text": [
      "Save features: 3.26 seconds\n",
      "locate patches: 0.05 seconds\n"
     ]
    },
    {
     "name": "stdout",
     "output_type": "stream",
     "text": [
      "1\n"
     ]
    },
    {
     "name": "stderr",
     "output_type": "stream",
     "text": [
      "Features for CHATM2, 77/CHATM2_slide25_2018_01_18-S3 does not exist.\n",
      "No pre-computed features found... computing from scratch.\n",
      "Not using image_cache.\n"
     ]
    },
    {
     "name": "stdout",
     "output_type": "stream",
     "text": [
      "/data/CSHL_data_processed/CHATM2/CHATM2_prep2_raw_NtbNormalizedAdaptiveInvertedGamma/CHATM2_slide25_2018_01_18-S3_prep2_raw_NtbNormalizedAdaptiveInvertedGamma.tif\n"
     ]
    },
    {
     "name": "stderr",
     "output_type": "stream",
     "text": [
      "Load image: 2.33 seconds.\n",
      "Rescale image from 317 to 224: 2.83 seconds.\n",
      "Crop patches: 0.89 seconds.\n",
      "Extract patches: 6.06 seconds\n"
     ]
    },
    {
     "name": "stdout",
     "output_type": "stream",
     "text": [
      "(29123, 1, 224, 224)\n"
     ]
    },
    {
     "name": "stderr",
     "output_type": "stream",
     "text": [
      "Compute features: 47.10 seconds\n",
      "Compute features at one section, multiple locations: 53.19 seconds\n"
     ]
    },
    {
     "name": "stdout",
     "output_type": "stream",
     "text": [
      "aws s3 cp \"/data/CSHL_patch_features/inception-bn-blue/CHATM2/CHATM2_prep2_none_win7/CHATM2_slide25_2018_01_18-S3_prep2_none_win7_inception-bn-blue_features.bp\" \"s3://mousebrainatlas-data/CSHL_patch_features/inception-bn-blue/CHATM2/CHATM2_prep2_none_win7/CHATM2_slide25_2018_01_18-S3_prep2_none_win7_inception-bn-blue_features.bp\"\n",
      "0\n",
      "aws s3 cp \"/data/CSHL_patch_features/inception-bn-blue/CHATM2/CHATM2_prep2_none_win7/CHATM2_slide25_2018_01_18-S3_prep2_none_win7_inception-bn-blue_locations.bp\" \"s3://mousebrainatlas-data/CSHL_patch_features/inception-bn-blue/CHATM2/CHATM2_prep2_none_win7/CHATM2_slide25_2018_01_18-S3_prep2_none_win7_inception-bn-blue_locations.bp\"\n",
      "0\n",
      "rm -rf \"/data/CSHL_patch_features/inception-bn-blue/CHATM2/CHATM2_prep2_none_win7/CHATM2_slide26_2018_01_18-S3_prep2_none_win7_inception-bn-blue_features.bp\" && mkdir -p \"/data/CSHL_patch_features/inception-bn-blue/CHATM2/CHATM2_prep2_none_win7\"\n",
      "0\n",
      "aws s3 cp \"s3://mousebrainatlas-data/CSHL_patch_features/inception-bn-blue/CHATM2/CHATM2_prep2_none_win7/CHATM2_slide26_2018_01_18-S3_prep2_none_win7_inception-bn-blue_features.bp\" \"/data/CSHL_patch_features/inception-bn-blue/CHATM2/CHATM2_prep2_none_win7/CHATM2_slide26_2018_01_18-S3_prep2_none_win7_inception-bn-blue_features.bp\"\n"
     ]
    },
    {
     "name": "stderr",
     "output_type": "stream",
     "text": [
      "Save features: 2.95 seconds\n",
      "locate patches: 0.06 seconds\n"
     ]
    },
    {
     "name": "stdout",
     "output_type": "stream",
     "text": [
      "1\n"
     ]
    },
    {
     "name": "stderr",
     "output_type": "stream",
     "text": [
      "Features for CHATM2, 78/CHATM2_slide26_2018_01_18-S3 does not exist.\n",
      "No pre-computed features found... computing from scratch.\n",
      "Not using image_cache.\n"
     ]
    },
    {
     "name": "stdout",
     "output_type": "stream",
     "text": [
      "/data/CSHL_data_processed/CHATM2/CHATM2_prep2_raw_NtbNormalizedAdaptiveInvertedGamma/CHATM2_slide26_2018_01_18-S3_prep2_raw_NtbNormalizedAdaptiveInvertedGamma.tif\n"
     ]
    },
    {
     "name": "stderr",
     "output_type": "stream",
     "text": [
      "Load image: 2.15 seconds.\n",
      "Rescale image from 317 to 224: 2.85 seconds.\n",
      "Crop patches: 0.85 seconds.\n",
      "Extract patches: 5.86 seconds\n"
     ]
    },
    {
     "name": "stdout",
     "output_type": "stream",
     "text": [
      "(28960, 1, 224, 224)\n"
     ]
    },
    {
     "name": "stderr",
     "output_type": "stream",
     "text": [
      "Compute features: 45.05 seconds\n",
      "Compute features at one section, multiple locations: 50.94 seconds\n"
     ]
    },
    {
     "name": "stdout",
     "output_type": "stream",
     "text": [
      "aws s3 cp \"/data/CSHL_patch_features/inception-bn-blue/CHATM2/CHATM2_prep2_none_win7/CHATM2_slide26_2018_01_18-S3_prep2_none_win7_inception-bn-blue_features.bp\" \"s3://mousebrainatlas-data/CSHL_patch_features/inception-bn-blue/CHATM2/CHATM2_prep2_none_win7/CHATM2_slide26_2018_01_18-S3_prep2_none_win7_inception-bn-blue_features.bp\"\n",
      "0\n",
      "aws s3 cp \"/data/CSHL_patch_features/inception-bn-blue/CHATM2/CHATM2_prep2_none_win7/CHATM2_slide26_2018_01_18-S3_prep2_none_win7_inception-bn-blue_locations.bp\" \"s3://mousebrainatlas-data/CSHL_patch_features/inception-bn-blue/CHATM2/CHATM2_prep2_none_win7/CHATM2_slide26_2018_01_18-S3_prep2_none_win7_inception-bn-blue_locations.bp\"\n",
      "0\n",
      "rm -rf \"/data/CSHL_patch_features/inception-bn-blue/CHATM2/CHATM2_prep2_none_win7/CHATM2_slide27_2018_01_18-S1_prep2_none_win7_inception-bn-blue_features.bp\" && mkdir -p \"/data/CSHL_patch_features/inception-bn-blue/CHATM2/CHATM2_prep2_none_win7\"\n",
      "0\n",
      "aws s3 cp \"s3://mousebrainatlas-data/CSHL_patch_features/inception-bn-blue/CHATM2/CHATM2_prep2_none_win7/CHATM2_slide27_2018_01_18-S1_prep2_none_win7_inception-bn-blue_features.bp\" \"/data/CSHL_patch_features/inception-bn-blue/CHATM2/CHATM2_prep2_none_win7/CHATM2_slide27_2018_01_18-S1_prep2_none_win7_inception-bn-blue_features.bp\"\n"
     ]
    },
    {
     "name": "stderr",
     "output_type": "stream",
     "text": [
      "Save features: 3.14 seconds\n",
      "locate patches: 0.04 seconds\n"
     ]
    },
    {
     "name": "stdout",
     "output_type": "stream",
     "text": [
      "1\n"
     ]
    },
    {
     "name": "stderr",
     "output_type": "stream",
     "text": [
      "Features for CHATM2, 79/CHATM2_slide27_2018_01_18-S1 does not exist.\n",
      "No pre-computed features found... computing from scratch.\n",
      "Not using image_cache.\n"
     ]
    },
    {
     "name": "stdout",
     "output_type": "stream",
     "text": [
      "/data/CSHL_data_processed/CHATM2/CHATM2_prep2_raw_NtbNormalizedAdaptiveInvertedGamma/CHATM2_slide27_2018_01_18-S1_prep2_raw_NtbNormalizedAdaptiveInvertedGamma.tif\n"
     ]
    },
    {
     "name": "stderr",
     "output_type": "stream",
     "text": [
      "Load image: 4.80 seconds.\n",
      "Rescale image from 317 to 224: 2.83 seconds.\n",
      "Crop patches: 0.84 seconds.\n",
      "Extract patches: 8.48 seconds\n"
     ]
    },
    {
     "name": "stdout",
     "output_type": "stream",
     "text": [
      "(28324, 1, 224, 224)\n"
     ]
    },
    {
     "name": "stderr",
     "output_type": "stream",
     "text": [
      "Compute features: 45.46 seconds\n",
      "Compute features at one section, multiple locations: 53.97 seconds\n"
     ]
    },
    {
     "name": "stdout",
     "output_type": "stream",
     "text": [
      "aws s3 cp \"/data/CSHL_patch_features/inception-bn-blue/CHATM2/CHATM2_prep2_none_win7/CHATM2_slide27_2018_01_18-S1_prep2_none_win7_inception-bn-blue_features.bp\" \"s3://mousebrainatlas-data/CSHL_patch_features/inception-bn-blue/CHATM2/CHATM2_prep2_none_win7/CHATM2_slide27_2018_01_18-S1_prep2_none_win7_inception-bn-blue_features.bp\"\n",
      "0\n",
      "aws s3 cp \"/data/CSHL_patch_features/inception-bn-blue/CHATM2/CHATM2_prep2_none_win7/CHATM2_slide27_2018_01_18-S1_prep2_none_win7_inception-bn-blue_locations.bp\" \"s3://mousebrainatlas-data/CSHL_patch_features/inception-bn-blue/CHATM2/CHATM2_prep2_none_win7/CHATM2_slide27_2018_01_18-S1_prep2_none_win7_inception-bn-blue_locations.bp\"\n",
      "0\n",
      "rm -rf \"/data/CSHL_patch_features/inception-bn-blue/CHATM2/CHATM2_prep2_none_win7/CHATM2_slide28_2018_01_18-S1_prep2_none_win7_inception-bn-blue_features.bp\" && mkdir -p \"/data/CSHL_patch_features/inception-bn-blue/CHATM2/CHATM2_prep2_none_win7\"\n",
      "0\n",
      "aws s3 cp \"s3://mousebrainatlas-data/CSHL_patch_features/inception-bn-blue/CHATM2/CHATM2_prep2_none_win7/CHATM2_slide28_2018_01_18-S1_prep2_none_win7_inception-bn-blue_features.bp\" \"/data/CSHL_patch_features/inception-bn-blue/CHATM2/CHATM2_prep2_none_win7/CHATM2_slide28_2018_01_18-S1_prep2_none_win7_inception-bn-blue_features.bp\"\n"
     ]
    },
    {
     "name": "stderr",
     "output_type": "stream",
     "text": [
      "Save features: 3.12 seconds\n",
      "locate patches: 0.06 seconds\n"
     ]
    },
    {
     "name": "stdout",
     "output_type": "stream",
     "text": [
      "1\n"
     ]
    },
    {
     "name": "stderr",
     "output_type": "stream",
     "text": [
      "Features for CHATM2, 80/CHATM2_slide28_2018_01_18-S1 does not exist.\n",
      "No pre-computed features found... computing from scratch.\n",
      "Not using image_cache.\n"
     ]
    },
    {
     "name": "stdout",
     "output_type": "stream",
     "text": [
      "/data/CSHL_data_processed/CHATM2/CHATM2_prep2_raw_NtbNormalizedAdaptiveInvertedGamma/CHATM2_slide28_2018_01_18-S1_prep2_raw_NtbNormalizedAdaptiveInvertedGamma.tif\n"
     ]
    },
    {
     "name": "stderr",
     "output_type": "stream",
     "text": [
      "Load image: 4.12 seconds.\n",
      "Rescale image from 317 to 224: 2.88 seconds.\n",
      "Crop patches: 0.89 seconds.\n",
      "Extract patches: 7.90 seconds\n"
     ]
    },
    {
     "name": "stdout",
     "output_type": "stream",
     "text": [
      "(28899, 1, 224, 224)\n"
     ]
    },
    {
     "name": "stderr",
     "output_type": "stream",
     "text": [
      "Compute features: 48.51 seconds\n",
      "Compute features at one section, multiple locations: 56.43 seconds\n"
     ]
    },
    {
     "name": "stdout",
     "output_type": "stream",
     "text": [
      "aws s3 cp \"/data/CSHL_patch_features/inception-bn-blue/CHATM2/CHATM2_prep2_none_win7/CHATM2_slide28_2018_01_18-S1_prep2_none_win7_inception-bn-blue_features.bp\" \"s3://mousebrainatlas-data/CSHL_patch_features/inception-bn-blue/CHATM2/CHATM2_prep2_none_win7/CHATM2_slide28_2018_01_18-S1_prep2_none_win7_inception-bn-blue_features.bp\"\n",
      "0\n",
      "aws s3 cp \"/data/CSHL_patch_features/inception-bn-blue/CHATM2/CHATM2_prep2_none_win7/CHATM2_slide28_2018_01_18-S1_prep2_none_win7_inception-bn-blue_locations.bp\" \"s3://mousebrainatlas-data/CSHL_patch_features/inception-bn-blue/CHATM2/CHATM2_prep2_none_win7/CHATM2_slide28_2018_01_18-S1_prep2_none_win7_inception-bn-blue_locations.bp\"\n",
      "0\n",
      "rm -rf \"/data/CSHL_patch_features/inception-bn-blue/CHATM2/CHATM2_prep2_none_win7/CHATM2_slide27_2018_01_18-S2_prep2_none_win7_inception-bn-blue_features.bp\" && mkdir -p \"/data/CSHL_patch_features/inception-bn-blue/CHATM2/CHATM2_prep2_none_win7\"\n",
      "0\n",
      "aws s3 cp \"s3://mousebrainatlas-data/CSHL_patch_features/inception-bn-blue/CHATM2/CHATM2_prep2_none_win7/CHATM2_slide27_2018_01_18-S2_prep2_none_win7_inception-bn-blue_features.bp\" \"/data/CSHL_patch_features/inception-bn-blue/CHATM2/CHATM2_prep2_none_win7/CHATM2_slide27_2018_01_18-S2_prep2_none_win7_inception-bn-blue_features.bp\"\n"
     ]
    },
    {
     "name": "stderr",
     "output_type": "stream",
     "text": [
      "Save features: 3.37 seconds\n",
      "locate patches: 0.04 seconds\n"
     ]
    },
    {
     "name": "stdout",
     "output_type": "stream",
     "text": [
      "1\n"
     ]
    },
    {
     "name": "stderr",
     "output_type": "stream",
     "text": [
      "Features for CHATM2, 81/CHATM2_slide27_2018_01_18-S2 does not exist.\n",
      "No pre-computed features found... computing from scratch.\n",
      "Not using image_cache.\n"
     ]
    },
    {
     "name": "stdout",
     "output_type": "stream",
     "text": [
      "/data/CSHL_data_processed/CHATM2/CHATM2_prep2_raw_NtbNormalizedAdaptiveInvertedGamma/CHATM2_slide27_2018_01_18-S2_prep2_raw_NtbNormalizedAdaptiveInvertedGamma.tif\n"
     ]
    },
    {
     "name": "stderr",
     "output_type": "stream",
     "text": [
      "Load image: 2.10 seconds.\n",
      "Rescale image from 317 to 224: 2.87 seconds.\n",
      "Crop patches: 0.87 seconds.\n",
      "Extract patches: 5.85 seconds\n"
     ]
    },
    {
     "name": "stdout",
     "output_type": "stream",
     "text": [
      "(28439, 1, 224, 224)\n"
     ]
    },
    {
     "name": "stderr",
     "output_type": "stream",
     "text": [
      "Compute features: 50.41 seconds\n",
      "Compute features at one section, multiple locations: 56.28 seconds\n"
     ]
    },
    {
     "name": "stdout",
     "output_type": "stream",
     "text": [
      "aws s3 cp \"/data/CSHL_patch_features/inception-bn-blue/CHATM2/CHATM2_prep2_none_win7/CHATM2_slide27_2018_01_18-S2_prep2_none_win7_inception-bn-blue_features.bp\" \"s3://mousebrainatlas-data/CSHL_patch_features/inception-bn-blue/CHATM2/CHATM2_prep2_none_win7/CHATM2_slide27_2018_01_18-S2_prep2_none_win7_inception-bn-blue_features.bp\"\n",
      "0\n",
      "aws s3 cp \"/data/CSHL_patch_features/inception-bn-blue/CHATM2/CHATM2_prep2_none_win7/CHATM2_slide27_2018_01_18-S2_prep2_none_win7_inception-bn-blue_locations.bp\" \"s3://mousebrainatlas-data/CSHL_patch_features/inception-bn-blue/CHATM2/CHATM2_prep2_none_win7/CHATM2_slide27_2018_01_18-S2_prep2_none_win7_inception-bn-blue_locations.bp\"\n",
      "0\n",
      "rm -rf \"/data/CSHL_patch_features/inception-bn-blue/CHATM2/CHATM2_prep2_none_win7/CHATM2_slide28_2018_01_18-S2_prep2_none_win7_inception-bn-blue_features.bp\" && mkdir -p \"/data/CSHL_patch_features/inception-bn-blue/CHATM2/CHATM2_prep2_none_win7\"\n",
      "0"
     ]
    },
    {
     "name": "stderr",
     "output_type": "stream",
     "text": [
      "Save features: 4.24 seconds\n",
      "locate patches: 0.06 seconds\n"
     ]
    },
    {
     "name": "stdout",
     "output_type": "stream",
     "text": [
      "\n",
      "aws s3 cp \"s3://mousebrainatlas-data/CSHL_patch_features/inception-bn-blue/CHATM2/CHATM2_prep2_none_win7/CHATM2_slide28_2018_01_18-S2_prep2_none_win7_inception-bn-blue_features.bp\" \"/data/CSHL_patch_features/inception-bn-blue/CHATM2/CHATM2_prep2_none_win7/CHATM2_slide28_2018_01_18-S2_prep2_none_win7_inception-bn-blue_features.bp\"\n",
      "1\n"
     ]
    },
    {
     "name": "stderr",
     "output_type": "stream",
     "text": [
      "Features for CHATM2, 82/CHATM2_slide28_2018_01_18-S2 does not exist.\n",
      "No pre-computed features found... computing from scratch.\n",
      "Not using image_cache.\n"
     ]
    },
    {
     "name": "stdout",
     "output_type": "stream",
     "text": [
      "/data/CSHL_data_processed/CHATM2/CHATM2_prep2_raw_NtbNormalizedAdaptiveInvertedGamma/CHATM2_slide28_2018_01_18-S2_prep2_raw_NtbNormalizedAdaptiveInvertedGamma.tif\n"
     ]
    },
    {
     "name": "stderr",
     "output_type": "stream",
     "text": [
      "Load image: 3.82 seconds.\n",
      "Rescale image from 317 to 224: 5.78 seconds.\n",
      "Crop patches: 1.49 seconds.\n",
      "Extract patches: 11.14 seconds\n"
     ]
    },
    {
     "name": "stdout",
     "output_type": "stream",
     "text": [
      "(29340, 1, 224, 224)\n"
     ]
    },
    {
     "name": "stderr",
     "output_type": "stream",
     "text": [
      "Compute features: 52.81 seconds\n",
      "Compute features at one section, multiple locations: 63.97 seconds\n"
     ]
    },
    {
     "name": "stdout",
     "output_type": "stream",
     "text": [
      "aws s3 cp \"/data/CSHL_patch_features/inception-bn-blue/CHATM2/CHATM2_prep2_none_win7/CHATM2_slide28_2018_01_18-S2_prep2_none_win7_inception-bn-blue_features.bp\" \"s3://mousebrainatlas-data/CSHL_patch_features/inception-bn-blue/CHATM2/CHATM2_prep2_none_win7/CHATM2_slide28_2018_01_18-S2_prep2_none_win7_inception-bn-blue_features.bp\"\n",
      "0\n",
      "aws s3 cp \"/data/CSHL_patch_features/inception-bn-blue/CHATM2/CHATM2_prep2_none_win7/CHATM2_slide28_2018_01_18-S2_prep2_none_win7_inception-bn-blue_locations.bp\" \"s3://mousebrainatlas-data/CSHL_patch_features/inception-bn-blue/CHATM2/CHATM2_prep2_none_win7/CHATM2_slide28_2018_01_18-S2_prep2_none_win7_inception-bn-blue_locations.bp\"\n",
      "0\n",
      "rm -rf \"/data/CSHL_patch_features/inception-bn-blue/CHATM2/CHATM2_prep2_none_win7/CHATM2_slide27_2018_01_18-S3_prep2_none_win7_inception-bn-blue_features.bp\" && mkdir -p \"/data/CSHL_patch_features/inception-bn-blue/CHATM2/CHATM2_prep2_none_win7\"\n",
      "0\n",
      "aws s3 cp \"s3://mousebrainatlas-data/CSHL_patch_features/inception-bn-blue/CHATM2/CHATM2_prep2_none_win7/CHATM2_slide27_2018_01_18-S3_prep2_none_win7_inception-bn-blue_features.bp\" \"/data/CSHL_patch_features/inception-bn-blue/CHATM2/CHATM2_prep2_none_win7/CHATM2_slide27_2018_01_18-S3_prep2_none_win7_inception-bn-blue_features.bp\"\n"
     ]
    },
    {
     "name": "stderr",
     "output_type": "stream",
     "text": [
      "Save features: 3.35 seconds\n",
      "locate patches: 0.05 seconds\n"
     ]
    },
    {
     "name": "stdout",
     "output_type": "stream",
     "text": [
      "1\n"
     ]
    },
    {
     "name": "stderr",
     "output_type": "stream",
     "text": [
      "Features for CHATM2, 83/CHATM2_slide27_2018_01_18-S3 does not exist.\n",
      "No pre-computed features found... computing from scratch.\n",
      "Not using image_cache.\n"
     ]
    },
    {
     "name": "stdout",
     "output_type": "stream",
     "text": [
      "/data/CSHL_data_processed/CHATM2/CHATM2_prep2_raw_NtbNormalizedAdaptiveInvertedGamma/CHATM2_slide27_2018_01_18-S3_prep2_raw_NtbNormalizedAdaptiveInvertedGamma.tif\n"
     ]
    },
    {
     "name": "stderr",
     "output_type": "stream",
     "text": [
      "Load image: 2.75 seconds.\n",
      "Rescale image from 317 to 224: 3.67 seconds.\n",
      "Crop patches: 1.30 seconds.\n",
      "Extract patches: 7.72 seconds\n"
     ]
    },
    {
     "name": "stdout",
     "output_type": "stream",
     "text": [
      "(29185, 1, 224, 224)\n"
     ]
    },
    {
     "name": "stderr",
     "output_type": "stream",
     "text": [
      "Compute features: 55.63 seconds\n",
      "Compute features at one section, multiple locations: 63.39 seconds\n"
     ]
    },
    {
     "name": "stdout",
     "output_type": "stream",
     "text": [
      "aws s3 cp \"/data/CSHL_patch_features/inception-bn-blue/CHATM2/CHATM2_prep2_none_win7/CHATM2_slide27_2018_01_18-S3_prep2_none_win7_inception-bn-blue_features.bp\" \"s3://mousebrainatlas-data/CSHL_patch_features/inception-bn-blue/CHATM2/CHATM2_prep2_none_win7/CHATM2_slide27_2018_01_18-S3_prep2_none_win7_inception-bn-blue_features.bp\"\n",
      "0\n",
      "aws s3 cp \"/data/CSHL_patch_features/inception-bn-blue/CHATM2/CHATM2_prep2_none_win7/CHATM2_slide27_2018_01_18-S3_prep2_none_win7_inception-bn-blue_locations.bp\" \"s3://mousebrainatlas-data/CSHL_patch_features/inception-bn-blue/CHATM2/CHATM2_prep2_none_win7/CHATM2_slide27_2018_01_18-S3_prep2_none_win7_inception-bn-blue_locations.bp\"\n",
      "0\n",
      "rm -rf \"/data/CSHL_patch_features/inception-bn-blue/CHATM2/CHATM2_prep2_none_win7/CHATM2_slide28_2018_01_18-S3_prep2_none_win7_inception-bn-blue_features.bp\" && mkdir -p \"/data/CSHL_patch_features/inception-bn-blue/CHATM2/CHATM2_prep2_none_win7\"\n",
      "0\n",
      "aws s3 cp \"s3://mousebrainatlas-data/CSHL_patch_features/inception-bn-blue/CHATM2/CHATM2_prep2_none_win7/CHATM2_slide28_2018_01_18-S3_prep2_none_win7_inception-bn-blue_features.bp\" \"/data/CSHL_patch_features/inception-bn-blue/CHATM2/CHATM2_prep2_none_win7/CHATM2_slide28_2018_01_18-S3_prep2_none_win7_inception-bn-blue_features.bp\"\n"
     ]
    },
    {
     "name": "stderr",
     "output_type": "stream",
     "text": [
      "Save features: 3.00 seconds\n",
      "locate patches: 0.05 seconds\n"
     ]
    },
    {
     "name": "stdout",
     "output_type": "stream",
     "text": [
      "1\n"
     ]
    },
    {
     "name": "stderr",
     "output_type": "stream",
     "text": [
      "Features for CHATM2, 84/CHATM2_slide28_2018_01_18-S3 does not exist.\n",
      "No pre-computed features found... computing from scratch.\n",
      "Not using image_cache.\n"
     ]
    },
    {
     "name": "stdout",
     "output_type": "stream",
     "text": [
      "/data/CSHL_data_processed/CHATM2/CHATM2_prep2_raw_NtbNormalizedAdaptiveInvertedGamma/CHATM2_slide28_2018_01_18-S3_prep2_raw_NtbNormalizedAdaptiveInvertedGamma.tif\n"
     ]
    },
    {
     "name": "stderr",
     "output_type": "stream",
     "text": [
      "Load image: 1.77 seconds.\n",
      "Rescale image from 317 to 224: 3.19 seconds.\n",
      "Crop patches: 0.89 seconds.\n",
      "Extract patches: 5.85 seconds\n"
     ]
    },
    {
     "name": "stdout",
     "output_type": "stream",
     "text": [
      "(29979, 1, 224, 224)\n"
     ]
    },
    {
     "name": "stderr",
     "output_type": "stream",
     "text": [
      "Compute features: 46.94 seconds\n",
      "Compute features at one section, multiple locations: 52.82 seconds\n"
     ]
    },
    {
     "name": "stdout",
     "output_type": "stream",
     "text": [
      "aws s3 cp \"/data/CSHL_patch_features/inception-bn-blue/CHATM2/CHATM2_prep2_none_win7/CHATM2_slide28_2018_01_18-S3_prep2_none_win7_inception-bn-blue_features.bp\" \"s3://mousebrainatlas-data/CSHL_patch_features/inception-bn-blue/CHATM2/CHATM2_prep2_none_win7/CHATM2_slide28_2018_01_18-S3_prep2_none_win7_inception-bn-blue_features.bp\"\n",
      "0\n",
      "aws s3 cp \"/data/CSHL_patch_features/inception-bn-blue/CHATM2/CHATM2_prep2_none_win7/CHATM2_slide28_2018_01_18-S3_prep2_none_win7_inception-bn-blue_locations.bp\" \"s3://mousebrainatlas-data/CSHL_patch_features/inception-bn-blue/CHATM2/CHATM2_prep2_none_win7/CHATM2_slide28_2018_01_18-S3_prep2_none_win7_inception-bn-blue_locations.bp\"\n",
      "0\n",
      "rm -rf \"/data/CSHL_patch_features/inception-bn-blue/CHATM2/CHATM2_prep2_none_win7/CHATM2_slide29_2018_01_18-S1_prep2_none_win7_inception-bn-blue_features.bp\" && mkdir -p \"/data/CSHL_patch_features/inception-bn-blue/CHATM2/CHATM2_prep2_none_win7\"\n",
      "0\n",
      "aws s3 cp \"s3://mousebrainatlas-data/CSHL_patch_features/inception-bn-blue/CHATM2/CHATM2_prep2_none_win7/CHATM2_slide29_2018_01_18-S1_prep2_none_win7_inception-bn-blue_features.bp\" \"/data/CSHL_patch_features/inception-bn-blue/CHATM2/CHATM2_prep2_none_win7/CHATM2_slide29_2018_01_18-S1_prep2_none_win7_inception-bn-blue_features.bp\"\n"
     ]
    },
    {
     "name": "stderr",
     "output_type": "stream",
     "text": [
      "Save features: 3.05 seconds\n",
      "locate patches: 0.04 seconds\n"
     ]
    },
    {
     "name": "stdout",
     "output_type": "stream",
     "text": [
      "1\n"
     ]
    },
    {
     "name": "stderr",
     "output_type": "stream",
     "text": [
      "Features for CHATM2, 85/CHATM2_slide29_2018_01_18-S1 does not exist.\n",
      "No pre-computed features found... computing from scratch.\n",
      "Not using image_cache.\n"
     ]
    },
    {
     "name": "stdout",
     "output_type": "stream",
     "text": [
      "/data/CSHL_data_processed/CHATM2/CHATM2_prep2_raw_NtbNormalizedAdaptiveInvertedGamma/CHATM2_slide29_2018_01_18-S1_prep2_raw_NtbNormalizedAdaptiveInvertedGamma.tif\n"
     ]
    },
    {
     "name": "stderr",
     "output_type": "stream",
     "text": [
      "Load image: 3.57 seconds.\n",
      "Rescale image from 317 to 224: 2.81 seconds.\n",
      "Crop patches: 0.86 seconds.\n",
      "Extract patches: 7.25 seconds\n"
     ]
    },
    {
     "name": "stdout",
     "output_type": "stream",
     "text": [
      "(29593, 1, 224, 224)\n"
     ]
    },
    {
     "name": "stderr",
     "output_type": "stream",
     "text": [
      "Compute features: 45.86 seconds\n",
      "Compute features at one section, multiple locations: 53.13 seconds\n"
     ]
    },
    {
     "name": "stdout",
     "output_type": "stream",
     "text": [
      "aws s3 cp \"/data/CSHL_patch_features/inception-bn-blue/CHATM2/CHATM2_prep2_none_win7/CHATM2_slide29_2018_01_18-S1_prep2_none_win7_inception-bn-blue_features.bp\" \"s3://mousebrainatlas-data/CSHL_patch_features/inception-bn-blue/CHATM2/CHATM2_prep2_none_win7/CHATM2_slide29_2018_01_18-S1_prep2_none_win7_inception-bn-blue_features.bp\"\n",
      "0\n",
      "aws s3 cp \"/data/CSHL_patch_features/inception-bn-blue/CHATM2/CHATM2_prep2_none_win7/CHATM2_slide29_2018_01_18-S1_prep2_none_win7_inception-bn-blue_locations.bp\" \"s3://mousebrainatlas-data/CSHL_patch_features/inception-bn-blue/CHATM2/CHATM2_prep2_none_win7/CHATM2_slide29_2018_01_18-S1_prep2_none_win7_inception-bn-blue_locations.bp\"\n",
      "0\n",
      "rm -rf \"/data/CSHL_patch_features/inception-bn-blue/CHATM2/CHATM2_prep2_none_win7/CHATM2_slide30_2018_01_18-S1_prep2_none_win7_inception-bn-blue_features.bp\" && mkdir -p \"/data/CSHL_patch_features/inception-bn-blue/CHATM2/CHATM2_prep2_none_win7\"\n",
      "0\n",
      "aws s3 cp \"s3://mousebrainatlas-data/CSHL_patch_features/inception-bn-blue/CHATM2/CHATM2_prep2_none_win7/CHATM2_slide30_2018_01_18-S1_prep2_none_win7_inception-bn-blue_features.bp\" \"/data/CSHL_patch_features/inception-bn-blue/CHATM2/CHATM2_prep2_none_win7/CHATM2_slide30_2018_01_18-S1_prep2_none_win7_inception-bn-blue_features.bp\"\n"
     ]
    },
    {
     "name": "stderr",
     "output_type": "stream",
     "text": [
      "Save features: 3.62 seconds\n",
      "locate patches: 0.05 seconds\n"
     ]
    },
    {
     "name": "stdout",
     "output_type": "stream",
     "text": [
      "1\n"
     ]
    },
    {
     "name": "stderr",
     "output_type": "stream",
     "text": [
      "Features for CHATM2, 86/CHATM2_slide30_2018_01_18-S1 does not exist.\n",
      "No pre-computed features found... computing from scratch.\n",
      "Not using image_cache.\n"
     ]
    },
    {
     "name": "stdout",
     "output_type": "stream",
     "text": [
      "/data/CSHL_data_processed/CHATM2/CHATM2_prep2_raw_NtbNormalizedAdaptiveInvertedGamma/CHATM2_slide30_2018_01_18-S1_prep2_raw_NtbNormalizedAdaptiveInvertedGamma.tif\n"
     ]
    },
    {
     "name": "stderr",
     "output_type": "stream",
     "text": [
      "Load image: 4.09 seconds.\n",
      "Rescale image from 317 to 224: 2.84 seconds.\n",
      "Crop patches: 0.89 seconds.\n",
      "Extract patches: 7.83 seconds\n"
     ]
    },
    {
     "name": "stdout",
     "output_type": "stream",
     "text": [
      "(29806, 1, 224, 224)\n"
     ]
    },
    {
     "name": "stderr",
     "output_type": "stream",
     "text": [
      "Compute features: 46.39 seconds\n",
      "Compute features at one section, multiple locations: 54.25 seconds\n"
     ]
    },
    {
     "name": "stdout",
     "output_type": "stream",
     "text": [
      "aws s3 cp \"/data/CSHL_patch_features/inception-bn-blue/CHATM2/CHATM2_prep2_none_win7/CHATM2_slide30_2018_01_18-S1_prep2_none_win7_inception-bn-blue_features.bp\" \"s3://mousebrainatlas-data/CSHL_patch_features/inception-bn-blue/CHATM2/CHATM2_prep2_none_win7/CHATM2_slide30_2018_01_18-S1_prep2_none_win7_inception-bn-blue_features.bp\"\n",
      "0\n",
      "aws s3 cp \"/data/CSHL_patch_features/inception-bn-blue/CHATM2/CHATM2_prep2_none_win7/CHATM2_slide30_2018_01_18-S1_prep2_none_win7_inception-bn-blue_locations.bp\" \"s3://mousebrainatlas-data/CSHL_patch_features/inception-bn-blue/CHATM2/CHATM2_prep2_none_win7/CHATM2_slide30_2018_01_18-S1_prep2_none_win7_inception-bn-blue_locations.bp\"\n",
      "0\n",
      "rm -rf \"/data/CSHL_patch_features/inception-bn-blue/CHATM2/CHATM2_prep2_none_win7/CHATM2_slide29_2018_01_18-S2_prep2_none_win7_inception-bn-blue_features.bp\" && mkdir -p \"/data/CSHL_patch_features/inception-bn-blue/CHATM2/CHATM2_prep2_none_win7\"\n",
      "0\n",
      "aws s3 cp \"s3://mousebrainatlas-data/CSHL_patch_features/inception-bn-blue/CHATM2/CHATM2_prep2_none_win7/CHATM2_slide29_2018_01_18-S2_prep2_none_win7_inception-bn-blue_features.bp\" \"/data/CSHL_patch_features/inception-bn-blue/CHATM2/CHATM2_prep2_none_win7/CHATM2_slide29_2018_01_18-S2_prep2_none_win7_inception-bn-blue_features.bp\"\n"
     ]
    },
    {
     "name": "stderr",
     "output_type": "stream",
     "text": [
      "Save features: 3.79 seconds\n",
      "locate patches: 0.06 seconds\n"
     ]
    },
    {
     "name": "stdout",
     "output_type": "stream",
     "text": [
      "1\n"
     ]
    },
    {
     "name": "stderr",
     "output_type": "stream",
     "text": [
      "Features for CHATM2, 87/CHATM2_slide29_2018_01_18-S2 does not exist.\n",
      "No pre-computed features found... computing from scratch.\n",
      "Not using image_cache.\n"
     ]
    },
    {
     "name": "stdout",
     "output_type": "stream",
     "text": [
      "/data/CSHL_data_processed/CHATM2/CHATM2_prep2_raw_NtbNormalizedAdaptiveInvertedGamma/CHATM2_slide29_2018_01_18-S2_prep2_raw_NtbNormalizedAdaptiveInvertedGamma.tif\n"
     ]
    },
    {
     "name": "stderr",
     "output_type": "stream",
     "text": [
      "Load image: 3.67 seconds.\n",
      "Rescale image from 317 to 224: 2.84 seconds.\n",
      "Crop patches: 0.90 seconds.\n",
      "Extract patches: 7.42 seconds\n"
     ]
    },
    {
     "name": "stdout",
     "output_type": "stream",
     "text": [
      "(29295, 1, 224, 224)\n"
     ]
    },
    {
     "name": "stderr",
     "output_type": "stream",
     "text": [
      "Compute features: 45.60 seconds\n",
      "Compute features at one section, multiple locations: 53.05 seconds\n"
     ]
    },
    {
     "name": "stdout",
     "output_type": "stream",
     "text": [
      "aws s3 cp \"/data/CSHL_patch_features/inception-bn-blue/CHATM2/CHATM2_prep2_none_win7/CHATM2_slide29_2018_01_18-S2_prep2_none_win7_inception-bn-blue_features.bp\" \"s3://mousebrainatlas-data/CSHL_patch_features/inception-bn-blue/CHATM2/CHATM2_prep2_none_win7/CHATM2_slide29_2018_01_18-S2_prep2_none_win7_inception-bn-blue_features.bp\"\n",
      "0\n",
      "aws s3 cp \"/data/CSHL_patch_features/inception-bn-blue/CHATM2/CHATM2_prep2_none_win7/CHATM2_slide29_2018_01_18-S2_prep2_none_win7_inception-bn-blue_locations.bp\" \"s3://mousebrainatlas-data/CSHL_patch_features/inception-bn-blue/CHATM2/CHATM2_prep2_none_win7/CHATM2_slide29_2018_01_18-S2_prep2_none_win7_inception-bn-blue_locations.bp\"\n",
      "0\n",
      "rm -rf \"/data/CSHL_patch_features/inception-bn-blue/CHATM2/CHATM2_prep2_none_win7/CHATM2_slide30_2018_01_18-S2_prep2_none_win7_inception-bn-blue_features.bp\" && mkdir -p \"/data/CSHL_patch_features/inception-bn-blue/CHATM2/CHATM2_prep2_none_win7\"\n",
      "0\n",
      "aws s3 cp \"s3://mousebrainatlas-data/CSHL_patch_features/inception-bn-blue/CHATM2/CHATM2_prep2_none_win7/CHATM2_slide30_2018_01_18-S2_prep2_none_win7_inception-bn-blue_features.bp\" \"/data/CSHL_patch_features/inception-bn-blue/CHATM2/CHATM2_prep2_none_win7/CHATM2_slide30_2018_01_18-S2_prep2_none_win7_inception-bn-blue_features.bp\"\n"
     ]
    },
    {
     "name": "stderr",
     "output_type": "stream",
     "text": [
      "Save features: 2.95 seconds\n",
      "locate patches: 0.04 seconds\n"
     ]
    },
    {
     "name": "stdout",
     "output_type": "stream",
     "text": [
      "1\n"
     ]
    },
    {
     "name": "stderr",
     "output_type": "stream",
     "text": [
      "Features for CHATM2, 88/CHATM2_slide30_2018_01_18-S2 does not exist.\n",
      "No pre-computed features found... computing from scratch.\n",
      "Not using image_cache.\n"
     ]
    },
    {
     "name": "stdout",
     "output_type": "stream",
     "text": [
      "/data/CSHL_data_processed/CHATM2/CHATM2_prep2_raw_NtbNormalizedAdaptiveInvertedGamma/CHATM2_slide30_2018_01_18-S2_prep2_raw_NtbNormalizedAdaptiveInvertedGamma.tif\n"
     ]
    },
    {
     "name": "stderr",
     "output_type": "stream",
     "text": [
      "Load image: 1.73 seconds.\n",
      "Rescale image from 317 to 224: 2.84 seconds.\n",
      "Crop patches: 0.91 seconds.\n",
      "Extract patches: 5.49 seconds\n"
     ]
    },
    {
     "name": "stdout",
     "output_type": "stream",
     "text": [
      "(30276, 1, 224, 224)\n"
     ]
    },
    {
     "name": "stderr",
     "output_type": "stream",
     "text": [
      "Compute features: 47.68 seconds\n",
      "Compute features at one section, multiple locations: 53.20 seconds\n"
     ]
    },
    {
     "name": "stdout",
     "output_type": "stream",
     "text": [
      "aws s3 cp \"/data/CSHL_patch_features/inception-bn-blue/CHATM2/CHATM2_prep2_none_win7/CHATM2_slide30_2018_01_18-S2_prep2_none_win7_inception-bn-blue_features.bp\" \"s3://mousebrainatlas-data/CSHL_patch_features/inception-bn-blue/CHATM2/CHATM2_prep2_none_win7/CHATM2_slide30_2018_01_18-S2_prep2_none_win7_inception-bn-blue_features.bp\"\n",
      "0\n",
      "aws s3 cp \"/data/CSHL_patch_features/inception-bn-blue/CHATM2/CHATM2_prep2_none_win7/CHATM2_slide30_2018_01_18-S2_prep2_none_win7_inception-bn-blue_locations.bp\" \"s3://mousebrainatlas-data/CSHL_patch_features/inception-bn-blue/CHATM2/CHATM2_prep2_none_win7/CHATM2_slide30_2018_01_18-S2_prep2_none_win7_inception-bn-blue_locations.bp\"\n",
      "0\n",
      "rm -rf \"/data/CSHL_patch_features/inception-bn-blue/CHATM2/CHATM2_prep2_none_win7/CHATM2_slide29_2018_01_18-S3_prep2_none_win7_inception-bn-blue_features.bp\" && mkdir -p \"/data/CSHL_patch_features/inception-bn-blue/CHATM2/CHATM2_prep2_none_win7\"\n",
      "0\n",
      "aws s3 cp \"s3://mousebrainatlas-data/CSHL_patch_features/inception-bn-blue/CHATM2/CHATM2_prep2_none_win7/CHATM2_slide29_2018_01_18-S3_prep2_none_win7_inception-bn-blue_features.bp\" \"/data/CSHL_patch_features/inception-bn-blue/CHATM2/CHATM2_prep2_none_win7/CHATM2_slide29_2018_01_18-S3_prep2_none_win7_inception-bn-blue_features.bp\"\n"
     ]
    },
    {
     "name": "stderr",
     "output_type": "stream",
     "text": [
      "Save features: 3.38 seconds\n",
      "locate patches: 0.05 seconds\n"
     ]
    },
    {
     "name": "stdout",
     "output_type": "stream",
     "text": [
      "1\n"
     ]
    },
    {
     "name": "stderr",
     "output_type": "stream",
     "text": [
      "Features for CHATM2, 89/CHATM2_slide29_2018_01_18-S3 does not exist.\n",
      "No pre-computed features found... computing from scratch.\n",
      "Not using image_cache.\n"
     ]
    },
    {
     "name": "stdout",
     "output_type": "stream",
     "text": [
      "/data/CSHL_data_processed/CHATM2/CHATM2_prep2_raw_NtbNormalizedAdaptiveInvertedGamma/CHATM2_slide29_2018_01_18-S3_prep2_raw_NtbNormalizedAdaptiveInvertedGamma.tif\n"
     ]
    },
    {
     "name": "stderr",
     "output_type": "stream",
     "text": [
      "Load image: 2.65 seconds.\n",
      "Rescale image from 317 to 224: 2.81 seconds.\n",
      "Crop patches: 0.93 seconds.\n",
      "Extract patches: 6.40 seconds\n"
     ]
    },
    {
     "name": "stdout",
     "output_type": "stream",
     "text": [
      "(31154, 1, 224, 224)\n"
     ]
    },
    {
     "name": "stderr",
     "output_type": "stream",
     "text": [
      "Compute features: 48.76 seconds\n",
      "Compute features at one section, multiple locations: 55.18 seconds\n"
     ]
    },
    {
     "name": "stdout",
     "output_type": "stream",
     "text": [
      "aws s3 cp \"/data/CSHL_patch_features/inception-bn-blue/CHATM2/CHATM2_prep2_none_win7/CHATM2_slide29_2018_01_18-S3_prep2_none_win7_inception-bn-blue_features.bp\" \"s3://mousebrainatlas-data/CSHL_patch_features/inception-bn-blue/CHATM2/CHATM2_prep2_none_win7/CHATM2_slide29_2018_01_18-S3_prep2_none_win7_inception-bn-blue_features.bp\"\n",
      "0\n",
      "aws s3 cp \"/data/CSHL_patch_features/inception-bn-blue/CHATM2/CHATM2_prep2_none_win7/CHATM2_slide29_2018_01_18-S3_prep2_none_win7_inception-bn-blue_locations.bp\" \"s3://mousebrainatlas-data/CSHL_patch_features/inception-bn-blue/CHATM2/CHATM2_prep2_none_win7/CHATM2_slide29_2018_01_18-S3_prep2_none_win7_inception-bn-blue_locations.bp\"\n",
      "0\n",
      "rm -rf \"/data/CSHL_patch_features/inception-bn-blue/CHATM2/CHATM2_prep2_none_win7/CHATM2_slide30_2018_01_18-S3_prep2_none_win7_inception-bn-blue_features.bp\" && mkdir -p \"/data/CSHL_patch_features/inception-bn-blue/CHATM2/CHATM2_prep2_none_win7\"\n",
      "0\n",
      "aws s3 cp \"s3://mousebrainatlas-data/CSHL_patch_features/inception-bn-blue/CHATM2/CHATM2_prep2_none_win7/CHATM2_slide30_2018_01_18-S3_prep2_none_win7_inception-bn-blue_features.bp\" \"/data/CSHL_patch_features/inception-bn-blue/CHATM2/CHATM2_prep2_none_win7/CHATM2_slide30_2018_01_18-S3_prep2_none_win7_inception-bn-blue_features.bp\"\n"
     ]
    },
    {
     "name": "stderr",
     "output_type": "stream",
     "text": [
      "Save features: 3.27 seconds\n",
      "locate patches: 0.05 seconds\n"
     ]
    },
    {
     "name": "stdout",
     "output_type": "stream",
     "text": [
      "1\n"
     ]
    },
    {
     "name": "stderr",
     "output_type": "stream",
     "text": [
      "Features for CHATM2, 90/CHATM2_slide30_2018_01_18-S3 does not exist.\n",
      "No pre-computed features found... computing from scratch.\n",
      "Not using image_cache.\n"
     ]
    },
    {
     "name": "stdout",
     "output_type": "stream",
     "text": [
      "/data/CSHL_data_processed/CHATM2/CHATM2_prep2_raw_NtbNormalizedAdaptiveInvertedGamma/CHATM2_slide30_2018_01_18-S3_prep2_raw_NtbNormalizedAdaptiveInvertedGamma.tif\n"
     ]
    },
    {
     "name": "stderr",
     "output_type": "stream",
     "text": [
      "Load image: 3.55 seconds.\n",
      "Rescale image from 317 to 224: 2.84 seconds.\n",
      "Crop patches: 0.95 seconds.\n",
      "Extract patches: 7.35 seconds\n"
     ]
    },
    {
     "name": "stdout",
     "output_type": "stream",
     "text": [
      "(30984, 1, 224, 224)\n"
     ]
    },
    {
     "name": "stderr",
     "output_type": "stream",
     "text": [
      "Compute features: 49.08 seconds\n",
      "Compute features at one section, multiple locations: 56.48 seconds\n"
     ]
    },
    {
     "name": "stdout",
     "output_type": "stream",
     "text": [
      "aws s3 cp \"/data/CSHL_patch_features/inception-bn-blue/CHATM2/CHATM2_prep2_none_win7/CHATM2_slide30_2018_01_18-S3_prep2_none_win7_inception-bn-blue_features.bp\" \"s3://mousebrainatlas-data/CSHL_patch_features/inception-bn-blue/CHATM2/CHATM2_prep2_none_win7/CHATM2_slide30_2018_01_18-S3_prep2_none_win7_inception-bn-blue_features.bp\"\n",
      "0\n",
      "aws s3 cp \"/data/CSHL_patch_features/inception-bn-blue/CHATM2/CHATM2_prep2_none_win7/CHATM2_slide30_2018_01_18-S3_prep2_none_win7_inception-bn-blue_locations.bp\" \"s3://mousebrainatlas-data/CSHL_patch_features/inception-bn-blue/CHATM2/CHATM2_prep2_none_win7/CHATM2_slide30_2018_01_18-S3_prep2_none_win7_inception-bn-blue_locations.bp\"\n",
      "0\n",
      "rm -rf \"/data/CSHL_patch_features/inception-bn-blue/CHATM2/CHATM2_prep2_none_win7/CHATM2_slide32_2018_01_20-S1_prep2_none_win7_inception-bn-blue_features.bp\" && mkdir -p \"/data/CSHL_patch_features/inception-bn-blue/CHATM2/CHATM2_prep2_none_win7\"\n"
     ]
    },
    {
     "name": "stderr",
     "output_type": "stream",
     "text": [
      "Save features: 4.47 seconds\n",
      "locate patches: 0.10 seconds\n"
     ]
    },
    {
     "name": "stdout",
     "output_type": "stream",
     "text": [
      "0\n",
      "aws s3 cp \"s3://mousebrainatlas-data/CSHL_patch_features/inception-bn-blue/CHATM2/CHATM2_prep2_none_win7/CHATM2_slide32_2018_01_20-S1_prep2_none_win7_inception-bn-blue_features.bp\" \"/data/CSHL_patch_features/inception-bn-blue/CHATM2/CHATM2_prep2_none_win7/CHATM2_slide32_2018_01_20-S1_prep2_none_win7_inception-bn-blue_features.bp\"\n",
      "1\n"
     ]
    },
    {
     "name": "stderr",
     "output_type": "stream",
     "text": [
      "Features for CHATM2, 92/CHATM2_slide32_2018_01_20-S1 does not exist.\n",
      "No pre-computed features found... computing from scratch.\n",
      "Not using image_cache.\n"
     ]
    },
    {
     "name": "stdout",
     "output_type": "stream",
     "text": [
      "/data/CSHL_data_processed/CHATM2/CHATM2_prep2_raw_NtbNormalizedAdaptiveInvertedGamma/CHATM2_slide32_2018_01_20-S1_prep2_raw_NtbNormalizedAdaptiveInvertedGamma.tif\n"
     ]
    },
    {
     "name": "stderr",
     "output_type": "stream",
     "text": [
      "Load image: 4.18 seconds.\n",
      "Rescale image from 317 to 224: 5.09 seconds.\n",
      "Crop patches: 1.06 seconds.\n",
      "Extract patches: 10.35 seconds\n"
     ]
    },
    {
     "name": "stdout",
     "output_type": "stream",
     "text": [
      "(30395, 1, 224, 224)\n"
     ]
    },
    {
     "name": "stderr",
     "output_type": "stream",
     "text": [
      "Compute features: 46.73 seconds\n",
      "Compute features at one section, multiple locations: 57.11 seconds\n"
     ]
    },
    {
     "name": "stdout",
     "output_type": "stream",
     "text": [
      "aws s3 cp \"/data/CSHL_patch_features/inception-bn-blue/CHATM2/CHATM2_prep2_none_win7/CHATM2_slide32_2018_01_20-S1_prep2_none_win7_inception-bn-blue_features.bp\" \"s3://mousebrainatlas-data/CSHL_patch_features/inception-bn-blue/CHATM2/CHATM2_prep2_none_win7/CHATM2_slide32_2018_01_20-S1_prep2_none_win7_inception-bn-blue_features.bp\"\n",
      "0\n",
      "aws s3 cp \"/data/CSHL_patch_features/inception-bn-blue/CHATM2/CHATM2_prep2_none_win7/CHATM2_slide32_2018_01_20-S1_prep2_none_win7_inception-bn-blue_locations.bp\" \"s3://mousebrainatlas-data/CSHL_patch_features/inception-bn-blue/CHATM2/CHATM2_prep2_none_win7/CHATM2_slide32_2018_01_20-S1_prep2_none_win7_inception-bn-blue_locations.bp\"\n",
      "0\n",
      "rm -rf \"/data/CSHL_patch_features/inception-bn-blue/CHATM2/CHATM2_prep2_none_win7/CHATM2_slide31_2018_01_19-S2_prep2_none_win7_inception-bn-blue_features.bp\" && mkdir -p \"/data/CSHL_patch_features/inception-bn-blue/CHATM2/CHATM2_prep2_none_win7\"\n",
      "0\n",
      "aws s3 cp \"s3://mousebrainatlas-data/CSHL_patch_features/inception-bn-blue/CHATM2/CHATM2_prep2_none_win7/CHATM2_slide31_2018_01_19-S2_prep2_none_win7_inception-bn-blue_features.bp\" \"/data/CSHL_patch_features/inception-bn-blue/CHATM2/CHATM2_prep2_none_win7/CHATM2_slide31_2018_01_19-S2_prep2_none_win7_inception-bn-blue_features.bp\"\n"
     ]
    },
    {
     "name": "stderr",
     "output_type": "stream",
     "text": [
      "Save features: 3.02 seconds\n",
      "locate patches: 0.06 seconds\n"
     ]
    },
    {
     "name": "stdout",
     "output_type": "stream",
     "text": [
      "1\n"
     ]
    },
    {
     "name": "stderr",
     "output_type": "stream",
     "text": [
      "Features for CHATM2, 93/CHATM2_slide31_2018_01_19-S2 does not exist.\n",
      "No pre-computed features found... computing from scratch.\n",
      "Not using image_cache.\n"
     ]
    },
    {
     "name": "stdout",
     "output_type": "stream",
     "text": [
      "/data/CSHL_data_processed/CHATM2/CHATM2_prep2_raw_NtbNormalizedAdaptiveInvertedGamma/CHATM2_slide31_2018_01_19-S2_prep2_raw_NtbNormalizedAdaptiveInvertedGamma.tif\n"
     ]
    },
    {
     "name": "stderr",
     "output_type": "stream",
     "text": [
      "Load image: 4.44 seconds.\n",
      "Rescale image from 317 to 224: 2.82 seconds.\n",
      "Crop patches: 0.91 seconds.\n",
      "Extract patches: 8.18 seconds\n"
     ]
    },
    {
     "name": "stdout",
     "output_type": "stream",
     "text": [
      "(30270, 1, 224, 224)\n"
     ]
    },
    {
     "name": "stderr",
     "output_type": "stream",
     "text": [
      "Compute features: 47.01 seconds\n",
      "Compute features at one section, multiple locations: 55.22 seconds\n"
     ]
    },
    {
     "name": "stdout",
     "output_type": "stream",
     "text": [
      "aws s3 cp \"/data/CSHL_patch_features/inception-bn-blue/CHATM2/CHATM2_prep2_none_win7/CHATM2_slide31_2018_01_19-S2_prep2_none_win7_inception-bn-blue_features.bp\" \"s3://mousebrainatlas-data/CSHL_patch_features/inception-bn-blue/CHATM2/CHATM2_prep2_none_win7/CHATM2_slide31_2018_01_19-S2_prep2_none_win7_inception-bn-blue_features.bp\"\n",
      "0\n",
      "aws s3 cp \"/data/CSHL_patch_features/inception-bn-blue/CHATM2/CHATM2_prep2_none_win7/CHATM2_slide31_2018_01_19-S2_prep2_none_win7_inception-bn-blue_locations.bp\" \"s3://mousebrainatlas-data/CSHL_patch_features/inception-bn-blue/CHATM2/CHATM2_prep2_none_win7/CHATM2_slide31_2018_01_19-S2_prep2_none_win7_inception-bn-blue_locations.bp\"\n",
      "0\n",
      "rm -rf \"/data/CSHL_patch_features/inception-bn-blue/CHATM2/CHATM2_prep2_none_win7/CHATM2_slide32_2018_01_20-S2_prep2_none_win7_inception-bn-blue_features.bp\" && mkdir -p \"/data/CSHL_patch_features/inception-bn-blue/CHATM2/CHATM2_prep2_none_win7\"\n",
      "0\n",
      "aws s3 cp \"s3://mousebrainatlas-data/CSHL_patch_features/inception-bn-blue/CHATM2/CHATM2_prep2_none_win7/CHATM2_slide32_2018_01_20-S2_prep2_none_win7_inception-bn-blue_features.bp\" \"/data/CSHL_patch_features/inception-bn-blue/CHATM2/CHATM2_prep2_none_win7/CHATM2_slide32_2018_01_20-S2_prep2_none_win7_inception-bn-blue_features.bp\"\n"
     ]
    },
    {
     "name": "stderr",
     "output_type": "stream",
     "text": [
      "Save features: 3.16 seconds\n",
      "locate patches: 0.05 seconds\n"
     ]
    },
    {
     "name": "stdout",
     "output_type": "stream",
     "text": [
      "1\n"
     ]
    },
    {
     "name": "stderr",
     "output_type": "stream",
     "text": [
      "Features for CHATM2, 94/CHATM2_slide32_2018_01_20-S2 does not exist.\n",
      "No pre-computed features found... computing from scratch.\n",
      "Not using image_cache.\n"
     ]
    },
    {
     "name": "stdout",
     "output_type": "stream",
     "text": [
      "/data/CSHL_data_processed/CHATM2/CHATM2_prep2_raw_NtbNormalizedAdaptiveInvertedGamma/CHATM2_slide32_2018_01_20-S2_prep2_raw_NtbNormalizedAdaptiveInvertedGamma.tif\n"
     ]
    },
    {
     "name": "stderr",
     "output_type": "stream",
     "text": [
      "Load image: 4.26 seconds.\n",
      "Rescale image from 317 to 224: 2.84 seconds.\n",
      "Crop patches: 0.95 seconds.\n",
      "Extract patches: 8.05 seconds\n"
     ]
    },
    {
     "name": "stdout",
     "output_type": "stream",
     "text": [
      "(30725, 1, 224, 224)\n"
     ]
    },
    {
     "name": "stderr",
     "output_type": "stream",
     "text": [
      "Compute features: 47.86 seconds\n",
      "Compute features at one section, multiple locations: 55.94 seconds\n"
     ]
    },
    {
     "name": "stdout",
     "output_type": "stream",
     "text": [
      "aws s3 cp \"/data/CSHL_patch_features/inception-bn-blue/CHATM2/CHATM2_prep2_none_win7/CHATM2_slide32_2018_01_20-S2_prep2_none_win7_inception-bn-blue_features.bp\" \"s3://mousebrainatlas-data/CSHL_patch_features/inception-bn-blue/CHATM2/CHATM2_prep2_none_win7/CHATM2_slide32_2018_01_20-S2_prep2_none_win7_inception-bn-blue_features.bp\"\n",
      "0\n",
      "aws s3 cp \"/data/CSHL_patch_features/inception-bn-blue/CHATM2/CHATM2_prep2_none_win7/CHATM2_slide32_2018_01_20-S2_prep2_none_win7_inception-bn-blue_locations.bp\" \"s3://mousebrainatlas-data/CSHL_patch_features/inception-bn-blue/CHATM2/CHATM2_prep2_none_win7/CHATM2_slide32_2018_01_20-S2_prep2_none_win7_inception-bn-blue_locations.bp\"\n",
      "0\n",
      "rm -rf \"/data/CSHL_patch_features/inception-bn-blue/CHATM2/CHATM2_prep2_none_win7/CHATM2_slide31_2018_01_19-S3_prep2_none_win7_inception-bn-blue_features.bp\" && mkdir -p \"/data/CSHL_patch_features/inception-bn-blue/CHATM2/CHATM2_prep2_none_win7\"\n",
      "0\n",
      "aws s3 cp \"s3://mousebrainatlas-data/CSHL_patch_features/inception-bn-blue/CHATM2/CHATM2_prep2_none_win7/CHATM2_slide31_2018_01_19-S3_prep2_none_win7_inception-bn-blue_features.bp\" \"/data/CSHL_patch_features/inception-bn-blue/CHATM2/CHATM2_prep2_none_win7/CHATM2_slide31_2018_01_19-S3_prep2_none_win7_inception-bn-blue_features.bp\"\n"
     ]
    },
    {
     "name": "stderr",
     "output_type": "stream",
     "text": [
      "Save features: 3.31 seconds\n",
      "locate patches: 0.06 seconds\n"
     ]
    },
    {
     "name": "stdout",
     "output_type": "stream",
     "text": [
      "1\n"
     ]
    },
    {
     "name": "stderr",
     "output_type": "stream",
     "text": [
      "Features for CHATM2, 95/CHATM2_slide31_2018_01_19-S3 does not exist.\n",
      "No pre-computed features found... computing from scratch.\n",
      "Not using image_cache.\n"
     ]
    },
    {
     "name": "stdout",
     "output_type": "stream",
     "text": [
      "/data/CSHL_data_processed/CHATM2/CHATM2_prep2_raw_NtbNormalizedAdaptiveInvertedGamma/CHATM2_slide31_2018_01_19-S3_prep2_raw_NtbNormalizedAdaptiveInvertedGamma.tif\n"
     ]
    },
    {
     "name": "stderr",
     "output_type": "stream",
     "text": [
      "Load image: 4.79 seconds.\n",
      "Rescale image from 317 to 224: 4.37 seconds.\n",
      "Crop patches: 0.94 seconds.\n",
      "Extract patches: 10.10 seconds\n"
     ]
    },
    {
     "name": "stdout",
     "output_type": "stream",
     "text": [
      "(31627, 1, 224, 224)\n"
     ]
    },
    {
     "name": "stderr",
     "output_type": "stream",
     "text": [
      "Compute features: 49.00 seconds\n",
      "Compute features at one section, multiple locations: 59.13 seconds\n"
     ]
    },
    {
     "name": "stdout",
     "output_type": "stream",
     "text": [
      "aws s3 cp \"/data/CSHL_patch_features/inception-bn-blue/CHATM2/CHATM2_prep2_none_win7/CHATM2_slide31_2018_01_19-S3_prep2_none_win7_inception-bn-blue_features.bp\" \"s3://mousebrainatlas-data/CSHL_patch_features/inception-bn-blue/CHATM2/CHATM2_prep2_none_win7/CHATM2_slide31_2018_01_19-S3_prep2_none_win7_inception-bn-blue_features.bp\"\n",
      "0\n",
      "aws s3 cp \"/data/CSHL_patch_features/inception-bn-blue/CHATM2/CHATM2_prep2_none_win7/CHATM2_slide31_2018_01_19-S3_prep2_none_win7_inception-bn-blue_locations.bp\" \"s3://mousebrainatlas-data/CSHL_patch_features/inception-bn-blue/CHATM2/CHATM2_prep2_none_win7/CHATM2_slide31_2018_01_19-S3_prep2_none_win7_inception-bn-blue_locations.bp\"\n",
      "0\n",
      "rm -rf \"/data/CSHL_patch_features/inception-bn-blue/CHATM2/CHATM2_prep2_none_win7/CHATM2_slide32_2018_01_20-S3_prep2_none_win7_inception-bn-blue_features.bp\" && mkdir -p \"/data/CSHL_patch_features/inception-bn-blue/CHATM2/CHATM2_prep2_none_win7\"\n",
      "0\n",
      "aws s3 cp \"s3://mousebrainatlas-data/CSHL_patch_features/inception-bn-blue/CHATM2/CHATM2_prep2_none_win7/CHATM2_slide32_2018_01_20-S3_prep2_none_win7_inception-bn-blue_features.bp\" \"/data/CSHL_patch_features/inception-bn-blue/CHATM2/CHATM2_prep2_none_win7/CHATM2_slide32_2018_01_20-S3_prep2_none_win7_inception-bn-blue_features.bp\"\n"
     ]
    },
    {
     "name": "stderr",
     "output_type": "stream",
     "text": [
      "Save features: 3.15 seconds\n",
      "locate patches: 0.06 seconds\n"
     ]
    },
    {
     "name": "stdout",
     "output_type": "stream",
     "text": [
      "1\n"
     ]
    },
    {
     "name": "stderr",
     "output_type": "stream",
     "text": [
      "Features for CHATM2, 96/CHATM2_slide32_2018_01_20-S3 does not exist.\n",
      "No pre-computed features found... computing from scratch.\n",
      "Not using image_cache.\n"
     ]
    },
    {
     "name": "stdout",
     "output_type": "stream",
     "text": [
      "/data/CSHL_data_processed/CHATM2/CHATM2_prep2_raw_NtbNormalizedAdaptiveInvertedGamma/CHATM2_slide32_2018_01_20-S3_prep2_raw_NtbNormalizedAdaptiveInvertedGamma.tif\n"
     ]
    },
    {
     "name": "stderr",
     "output_type": "stream",
     "text": [
      "Load image: 4.50 seconds.\n",
      "Rescale image from 317 to 224: 2.82 seconds.\n",
      "Crop patches: 0.96 seconds.\n",
      "Extract patches: 8.29 seconds\n"
     ]
    },
    {
     "name": "stdout",
     "output_type": "stream",
     "text": [
      "(31493, 1, 224, 224)\n"
     ]
    },
    {
     "name": "stderr",
     "output_type": "stream",
     "text": [
      "Compute features: 48.69 seconds\n",
      "Compute features at one section, multiple locations: 57.00 seconds\n"
     ]
    },
    {
     "name": "stdout",
     "output_type": "stream",
     "text": [
      "aws s3 cp \"/data/CSHL_patch_features/inception-bn-blue/CHATM2/CHATM2_prep2_none_win7/CHATM2_slide32_2018_01_20-S3_prep2_none_win7_inception-bn-blue_features.bp\" \"s3://mousebrainatlas-data/CSHL_patch_features/inception-bn-blue/CHATM2/CHATM2_prep2_none_win7/CHATM2_slide32_2018_01_20-S3_prep2_none_win7_inception-bn-blue_features.bp\"\n",
      "0\n",
      "aws s3 cp \"/data/CSHL_patch_features/inception-bn-blue/CHATM2/CHATM2_prep2_none_win7/CHATM2_slide32_2018_01_20-S3_prep2_none_win7_inception-bn-blue_locations.bp\" \"s3://mousebrainatlas-data/CSHL_patch_features/inception-bn-blue/CHATM2/CHATM2_prep2_none_win7/CHATM2_slide32_2018_01_20-S3_prep2_none_win7_inception-bn-blue_locations.bp\"\n",
      "0\n",
      "rm -rf \"/data/CSHL_patch_features/inception-bn-blue/CHATM2/CHATM2_prep2_none_win7/CHATM2_slide33_2018_01_20-S1_prep2_none_win7_inception-bn-blue_features.bp\" && mkdir -p \"/data/CSHL_patch_features/inception-bn-blue/CHATM2/CHATM2_prep2_none_win7\"\n",
      "0\n",
      "aws s3 cp \"s3://mousebrainatlas-data/CSHL_patch_features/inception-bn-blue/CHATM2/CHATM2_prep2_none_win7/CHATM2_slide33_2018_01_20-S1_prep2_none_win7_inception-bn-blue_features.bp\" \"/data/CSHL_patch_features/inception-bn-blue/CHATM2/CHATM2_prep2_none_win7/CHATM2_slide33_2018_01_20-S1_prep2_none_win7_inception-bn-blue_features.bp\"\n"
     ]
    },
    {
     "name": "stderr",
     "output_type": "stream",
     "text": [
      "Save features: 3.68 seconds\n",
      "locate patches: 0.05 seconds\n"
     ]
    },
    {
     "name": "stdout",
     "output_type": "stream",
     "text": [
      "1\n"
     ]
    },
    {
     "name": "stderr",
     "output_type": "stream",
     "text": [
      "Features for CHATM2, 97/CHATM2_slide33_2018_01_20-S1 does not exist.\n",
      "No pre-computed features found... computing from scratch.\n",
      "Not using image_cache.\n"
     ]
    },
    {
     "name": "stdout",
     "output_type": "stream",
     "text": [
      "/data/CSHL_data_processed/CHATM2/CHATM2_prep2_raw_NtbNormalizedAdaptiveInvertedGamma/CHATM2_slide33_2018_01_20-S1_prep2_raw_NtbNormalizedAdaptiveInvertedGamma.tif\n"
     ]
    },
    {
     "name": "stderr",
     "output_type": "stream",
     "text": [
      "Load image: 4.74 seconds.\n",
      "Rescale image from 317 to 224: 2.83 seconds.\n",
      "Crop patches: 0.94 seconds.\n",
      "Extract patches: 8.52 seconds\n"
     ]
    },
    {
     "name": "stdout",
     "output_type": "stream",
     "text": [
      "(31320, 1, 224, 224)\n"
     ]
    },
    {
     "name": "stderr",
     "output_type": "stream",
     "text": [
      "Compute features: 49.70 seconds\n",
      "Compute features at one section, multiple locations: 58.26 seconds\n"
     ]
    },
    {
     "name": "stdout",
     "output_type": "stream",
     "text": [
      "aws s3 cp \"/data/CSHL_patch_features/inception-bn-blue/CHATM2/CHATM2_prep2_none_win7/CHATM2_slide33_2018_01_20-S1_prep2_none_win7_inception-bn-blue_features.bp\" \"s3://mousebrainatlas-data/CSHL_patch_features/inception-bn-blue/CHATM2/CHATM2_prep2_none_win7/CHATM2_slide33_2018_01_20-S1_prep2_none_win7_inception-bn-blue_features.bp\"\n",
      "0\n",
      "aws s3 cp \"/data/CSHL_patch_features/inception-bn-blue/CHATM2/CHATM2_prep2_none_win7/CHATM2_slide33_2018_01_20-S1_prep2_none_win7_inception-bn-blue_locations.bp\" \"s3://mousebrainatlas-data/CSHL_patch_features/inception-bn-blue/CHATM2/CHATM2_prep2_none_win7/CHATM2_slide33_2018_01_20-S1_prep2_none_win7_inception-bn-blue_locations.bp\"\n",
      "0\n",
      "rm -rf \"/data/CSHL_patch_features/inception-bn-blue/CHATM2/CHATM2_prep2_none_win7/CHATM2_slide34_2018_01_20-S1_prep2_none_win7_inception-bn-blue_features.bp\" && mkdir -p \"/data/CSHL_patch_features/inception-bn-blue/CHATM2/CHATM2_prep2_none_win7\"\n"
     ]
    },
    {
     "name": "stderr",
     "output_type": "stream",
     "text": [
      "Save features: 4.67 seconds\n",
      "locate patches: 0.10 seconds\n"
     ]
    },
    {
     "name": "stdout",
     "output_type": "stream",
     "text": [
      "0\n",
      "aws s3 cp \"s3://mousebrainatlas-data/CSHL_patch_features/inception-bn-blue/CHATM2/CHATM2_prep2_none_win7/CHATM2_slide34_2018_01_20-S1_prep2_none_win7_inception-bn-blue_features.bp\" \"/data/CSHL_patch_features/inception-bn-blue/CHATM2/CHATM2_prep2_none_win7/CHATM2_slide34_2018_01_20-S1_prep2_none_win7_inception-bn-blue_features.bp\"\n",
      "1\n"
     ]
    },
    {
     "name": "stderr",
     "output_type": "stream",
     "text": [
      "Features for CHATM2, 98/CHATM2_slide34_2018_01_20-S1 does not exist.\n",
      "No pre-computed features found... computing from scratch.\n",
      "Not using image_cache.\n"
     ]
    },
    {
     "name": "stdout",
     "output_type": "stream",
     "text": [
      "/data/CSHL_data_processed/CHATM2/CHATM2_prep2_raw_NtbNormalizedAdaptiveInvertedGamma/CHATM2_slide34_2018_01_20-S1_prep2_raw_NtbNormalizedAdaptiveInvertedGamma.tif\n"
     ]
    },
    {
     "name": "stderr",
     "output_type": "stream",
     "text": [
      "Load image: 6.64 seconds.\n",
      "Rescale image from 317 to 224: 4.08 seconds.\n",
      "Crop patches: 0.98 seconds.\n",
      "Extract patches: 11.71 seconds\n"
     ]
    },
    {
     "name": "stdout",
     "output_type": "stream",
     "text": [
      "(31430, 1, 224, 224)\n"
     ]
    },
    {
     "name": "stderr",
     "output_type": "stream",
     "text": [
      "Compute features: 48.57 seconds\n",
      "Compute features at one section, multiple locations: 60.33 seconds\n"
     ]
    },
    {
     "name": "stdout",
     "output_type": "stream",
     "text": [
      "aws s3 cp \"/data/CSHL_patch_features/inception-bn-blue/CHATM2/CHATM2_prep2_none_win7/CHATM2_slide34_2018_01_20-S1_prep2_none_win7_inception-bn-blue_features.bp\" \"s3://mousebrainatlas-data/CSHL_patch_features/inception-bn-blue/CHATM2/CHATM2_prep2_none_win7/CHATM2_slide34_2018_01_20-S1_prep2_none_win7_inception-bn-blue_features.bp\"\n",
      "0\n",
      "aws s3 cp \"/data/CSHL_patch_features/inception-bn-blue/CHATM2/CHATM2_prep2_none_win7/CHATM2_slide34_2018_01_20-S1_prep2_none_win7_inception-bn-blue_locations.bp\" \"s3://mousebrainatlas-data/CSHL_patch_features/inception-bn-blue/CHATM2/CHATM2_prep2_none_win7/CHATM2_slide34_2018_01_20-S1_prep2_none_win7_inception-bn-blue_locations.bp\"\n",
      "0\n",
      "rm -rf \"/data/CSHL_patch_features/inception-bn-blue/CHATM2/CHATM2_prep2_none_win7/CHATM2_slide33_2018_01_20-S2_prep2_none_win7_inception-bn-blue_features.bp\" && mkdir -p \"/data/CSHL_patch_features/inception-bn-blue/CHATM2/CHATM2_prep2_none_win7\"\n",
      "0"
     ]
    },
    {
     "name": "stderr",
     "output_type": "stream",
     "text": [
      "Save features: 5.74 seconds\n",
      "locate patches: 0.08 seconds\n"
     ]
    },
    {
     "name": "stdout",
     "output_type": "stream",
     "text": [
      "\n",
      "aws s3 cp \"s3://mousebrainatlas-data/CSHL_patch_features/inception-bn-blue/CHATM2/CHATM2_prep2_none_win7/CHATM2_slide33_2018_01_20-S2_prep2_none_win7_inception-bn-blue_features.bp\" \"/data/CSHL_patch_features/inception-bn-blue/CHATM2/CHATM2_prep2_none_win7/CHATM2_slide33_2018_01_20-S2_prep2_none_win7_inception-bn-blue_features.bp\"\n",
      "1\n"
     ]
    },
    {
     "name": "stderr",
     "output_type": "stream",
     "text": [
      "Features for CHATM2, 99/CHATM2_slide33_2018_01_20-S2 does not exist.\n",
      "No pre-computed features found... computing from scratch.\n",
      "Not using image_cache.\n"
     ]
    },
    {
     "name": "stdout",
     "output_type": "stream",
     "text": [
      "/data/CSHL_data_processed/CHATM2/CHATM2_prep2_raw_NtbNormalizedAdaptiveInvertedGamma/CHATM2_slide33_2018_01_20-S2_prep2_raw_NtbNormalizedAdaptiveInvertedGamma.tif\n"
     ]
    },
    {
     "name": "stderr",
     "output_type": "stream",
     "text": [
      "Load image: 3.73 seconds.\n",
      "Rescale image from 317 to 224: 3.15 seconds.\n",
      "Crop patches: 0.99 seconds.\n",
      "Extract patches: 7.89 seconds\n"
     ]
    },
    {
     "name": "stdout",
     "output_type": "stream",
     "text": [
      "(31355, 1, 224, 224)\n"
     ]
    },
    {
     "name": "stderr",
     "output_type": "stream",
     "text": [
      "Compute features: 48.33 seconds\n",
      "Compute features at one section, multiple locations: 56.24 seconds\n"
     ]
    },
    {
     "name": "stdout",
     "output_type": "stream",
     "text": [
      "aws s3 cp \"/data/CSHL_patch_features/inception-bn-blue/CHATM2/CHATM2_prep2_none_win7/CHATM2_slide33_2018_01_20-S2_prep2_none_win7_inception-bn-blue_features.bp\" \"s3://mousebrainatlas-data/CSHL_patch_features/inception-bn-blue/CHATM2/CHATM2_prep2_none_win7/CHATM2_slide33_2018_01_20-S2_prep2_none_win7_inception-bn-blue_features.bp\"\n",
      "0\n",
      "aws s3 cp \"/data/CSHL_patch_features/inception-bn-blue/CHATM2/CHATM2_prep2_none_win7/CHATM2_slide33_2018_01_20-S2_prep2_none_win7_inception-bn-blue_locations.bp\" \"s3://mousebrainatlas-data/CSHL_patch_features/inception-bn-blue/CHATM2/CHATM2_prep2_none_win7/CHATM2_slide33_2018_01_20-S2_prep2_none_win7_inception-bn-blue_locations.bp\"\n",
      "0\n",
      "rm -rf \"/data/CSHL_patch_features/inception-bn-blue/CHATM2/CHATM2_prep2_none_win7/CHATM2_slide34_2018_01_20-S2_prep2_none_win7_inception-bn-blue_features.bp\" && mkdir -p \"/data/CSHL_patch_features/inception-bn-blue/CHATM2/CHATM2_prep2_none_win7\"\n",
      "0"
     ]
    },
    {
     "name": "stderr",
     "output_type": "stream",
     "text": [
      "Save features: 4.54 seconds\n",
      "locate patches: 0.09 seconds\n"
     ]
    },
    {
     "name": "stdout",
     "output_type": "stream",
     "text": [
      "\n",
      "aws s3 cp \"s3://mousebrainatlas-data/CSHL_patch_features/inception-bn-blue/CHATM2/CHATM2_prep2_none_win7/CHATM2_slide34_2018_01_20-S2_prep2_none_win7_inception-bn-blue_features.bp\" \"/data/CSHL_patch_features/inception-bn-blue/CHATM2/CHATM2_prep2_none_win7/CHATM2_slide34_2018_01_20-S2_prep2_none_win7_inception-bn-blue_features.bp\"\n",
      "1\n"
     ]
    },
    {
     "name": "stderr",
     "output_type": "stream",
     "text": [
      "Features for CHATM2, 100/CHATM2_slide34_2018_01_20-S2 does not exist.\n",
      "No pre-computed features found... computing from scratch.\n",
      "Not using image_cache.\n"
     ]
    },
    {
     "name": "stdout",
     "output_type": "stream",
     "text": [
      "/data/CSHL_data_processed/CHATM2/CHATM2_prep2_raw_NtbNormalizedAdaptiveInvertedGamma/CHATM2_slide34_2018_01_20-S2_prep2_raw_NtbNormalizedAdaptiveInvertedGamma.tif\n"
     ]
    },
    {
     "name": "stderr",
     "output_type": "stream",
     "text": [
      "Load image: 4.44 seconds.\n",
      "Rescale image from 317 to 224: 3.04 seconds.\n",
      "Crop patches: 1.06 seconds.\n",
      "Extract patches: 8.57 seconds\n"
     ]
    },
    {
     "name": "stdout",
     "output_type": "stream",
     "text": [
      "(32055, 1, 224, 224)\n"
     ]
    },
    {
     "name": "stderr",
     "output_type": "stream",
     "text": [
      "Compute features: 50.37 seconds\n",
      "Compute features at one section, multiple locations: 58.99 seconds\n"
     ]
    },
    {
     "name": "stdout",
     "output_type": "stream",
     "text": [
      "aws s3 cp \"/data/CSHL_patch_features/inception-bn-blue/CHATM2/CHATM2_prep2_none_win7/CHATM2_slide34_2018_01_20-S2_prep2_none_win7_inception-bn-blue_features.bp\" \"s3://mousebrainatlas-data/CSHL_patch_features/inception-bn-blue/CHATM2/CHATM2_prep2_none_win7/CHATM2_slide34_2018_01_20-S2_prep2_none_win7_inception-bn-blue_features.bp\"\n",
      "0\n",
      "aws s3 cp \"/data/CSHL_patch_features/inception-bn-blue/CHATM2/CHATM2_prep2_none_win7/CHATM2_slide34_2018_01_20-S2_prep2_none_win7_inception-bn-blue_locations.bp\" \"s3://mousebrainatlas-data/CSHL_patch_features/inception-bn-blue/CHATM2/CHATM2_prep2_none_win7/CHATM2_slide34_2018_01_20-S2_prep2_none_win7_inception-bn-blue_locations.bp\"\n",
      "0\n",
      "rm -rf \"/data/CSHL_patch_features/inception-bn-blue/CHATM2/CHATM2_prep2_none_win7/CHATM2_slide33_2018_01_20-S3_prep2_none_win7_inception-bn-blue_features.bp\" && mkdir -p \"/data/CSHL_patch_features/inception-bn-blue/CHATM2/CHATM2_prep2_none_win7\"\n",
      "0\n",
      "aws s3 cp \"s3://mousebrainatlas-data/CSHL_patch_features/inception-bn-blue/CHATM2/CHATM2_prep2_none_win7/CHATM2_slide33_2018_01_20-S3_prep2_none_win7_inception-bn-blue_features.bp\" \"/data/CSHL_patch_features/inception-bn-blue/CHATM2/CHATM2_prep2_none_win7/CHATM2_slide33_2018_01_20-S3_prep2_none_win7_inception-bn-blue_features.bp\"\n"
     ]
    },
    {
     "name": "stderr",
     "output_type": "stream",
     "text": [
      "Save features: 3.72 seconds\n",
      "locate patches: 0.05 seconds\n"
     ]
    },
    {
     "name": "stdout",
     "output_type": "stream",
     "text": [
      "1\n"
     ]
    },
    {
     "name": "stderr",
     "output_type": "stream",
     "text": [
      "Features for CHATM2, 101/CHATM2_slide33_2018_01_20-S3 does not exist.\n",
      "No pre-computed features found... computing from scratch.\n",
      "Not using image_cache.\n"
     ]
    },
    {
     "name": "stdout",
     "output_type": "stream",
     "text": [
      "/data/CSHL_data_processed/CHATM2/CHATM2_prep2_raw_NtbNormalizedAdaptiveInvertedGamma/CHATM2_slide33_2018_01_20-S3_prep2_raw_NtbNormalizedAdaptiveInvertedGamma.tif\n"
     ]
    },
    {
     "name": "stderr",
     "output_type": "stream",
     "text": [
      "Load image: 4.00 seconds.\n",
      "Rescale image from 317 to 224: 3.33 seconds.\n",
      "Crop patches: 0.96 seconds.\n",
      "Extract patches: 8.30 seconds\n"
     ]
    },
    {
     "name": "stdout",
     "output_type": "stream",
     "text": [
      "(31988, 1, 224, 224)\n"
     ]
    },
    {
     "name": "stderr",
     "output_type": "stream",
     "text": [
      "Compute features: 51.06 seconds\n",
      "Compute features at one section, multiple locations: 59.39 seconds\n"
     ]
    },
    {
     "name": "stdout",
     "output_type": "stream",
     "text": [
      "aws s3 cp \"/data/CSHL_patch_features/inception-bn-blue/CHATM2/CHATM2_prep2_none_win7/CHATM2_slide33_2018_01_20-S3_prep2_none_win7_inception-bn-blue_features.bp\" \"s3://mousebrainatlas-data/CSHL_patch_features/inception-bn-blue/CHATM2/CHATM2_prep2_none_win7/CHATM2_slide33_2018_01_20-S3_prep2_none_win7_inception-bn-blue_features.bp\"\n",
      "0\n",
      "aws s3 cp \"/data/CSHL_patch_features/inception-bn-blue/CHATM2/CHATM2_prep2_none_win7/CHATM2_slide33_2018_01_20-S3_prep2_none_win7_inception-bn-blue_locations.bp\" \"s3://mousebrainatlas-data/CSHL_patch_features/inception-bn-blue/CHATM2/CHATM2_prep2_none_win7/CHATM2_slide33_2018_01_20-S3_prep2_none_win7_inception-bn-blue_locations.bp\"\n",
      "0\n",
      "rm -rf \"/data/CSHL_patch_features/inception-bn-blue/CHATM2/CHATM2_prep2_none_win7/CHATM2_slide34_2018_01_20-S3_prep2_none_win7_inception-bn-blue_features.bp\" && mkdir -p \"/data/CSHL_patch_features/inception-bn-blue/CHATM2/CHATM2_prep2_none_win7\"\n",
      "0\n",
      "aws s3 cp \"s3://mousebrainatlas-data/CSHL_patch_features/inception-bn-blue/CHATM2/CHATM2_prep2_none_win7/CHATM2_slide34_2018_01_20-S3_prep2_none_win7_inception-bn-blue_features.bp\" \"/data/CSHL_patch_features/inception-bn-blue/CHATM2/CHATM2_prep2_none_win7/CHATM2_slide34_2018_01_20-S3_prep2_none_win7_inception-bn-blue_features.bp\"\n"
     ]
    },
    {
     "name": "stderr",
     "output_type": "stream",
     "text": [
      "Save features: 3.10 seconds\n",
      "locate patches: 0.04 seconds\n"
     ]
    },
    {
     "name": "stdout",
     "output_type": "stream",
     "text": [
      "1\n"
     ]
    },
    {
     "name": "stderr",
     "output_type": "stream",
     "text": [
      "Features for CHATM2, 102/CHATM2_slide34_2018_01_20-S3 does not exist.\n",
      "No pre-computed features found... computing from scratch.\n",
      "Not using image_cache.\n"
     ]
    },
    {
     "name": "stdout",
     "output_type": "stream",
     "text": [
      "/data/CSHL_data_processed/CHATM2/CHATM2_prep2_raw_NtbNormalizedAdaptiveInvertedGamma/CHATM2_slide34_2018_01_20-S3_prep2_raw_NtbNormalizedAdaptiveInvertedGamma.tif\n"
     ]
    },
    {
     "name": "stderr",
     "output_type": "stream",
     "text": [
      "Load image: 5.16 seconds.\n",
      "Rescale image from 317 to 224: 2.83 seconds.\n",
      "Crop patches: 0.95 seconds.\n",
      "Extract patches: 8.95 seconds\n"
     ]
    },
    {
     "name": "stdout",
     "output_type": "stream",
     "text": [
      "(31897, 1, 224, 224)\n"
     ]
    },
    {
     "name": "stderr",
     "output_type": "stream",
     "text": [
      "Compute features: 50.54 seconds\n",
      "Compute features at one section, multiple locations: 59.54 seconds\n"
     ]
    },
    {
     "name": "stdout",
     "output_type": "stream",
     "text": [
      "aws s3 cp \"/data/CSHL_patch_features/inception-bn-blue/CHATM2/CHATM2_prep2_none_win7/CHATM2_slide34_2018_01_20-S3_prep2_none_win7_inception-bn-blue_features.bp\" \"s3://mousebrainatlas-data/CSHL_patch_features/inception-bn-blue/CHATM2/CHATM2_prep2_none_win7/CHATM2_slide34_2018_01_20-S3_prep2_none_win7_inception-bn-blue_features.bp\"\n",
      "0\n",
      "aws s3 cp \"/data/CSHL_patch_features/inception-bn-blue/CHATM2/CHATM2_prep2_none_win7/CHATM2_slide34_2018_01_20-S3_prep2_none_win7_inception-bn-blue_locations.bp\" \"s3://mousebrainatlas-data/CSHL_patch_features/inception-bn-blue/CHATM2/CHATM2_prep2_none_win7/CHATM2_slide34_2018_01_20-S3_prep2_none_win7_inception-bn-blue_locations.bp\"\n",
      "0\n",
      "rm -rf \"/data/CSHL_patch_features/inception-bn-blue/CHATM2/CHATM2_prep2_none_win7/CHATM2_slide35_2018_01_20-S1_prep2_none_win7_inception-bn-blue_features.bp\" && mkdir -p \"/data/CSHL_patch_features/inception-bn-blue/CHATM2/CHATM2_prep2_none_win7\"\n",
      "0\n",
      "aws s3 cp \"s3://mousebrainatlas-data/CSHL_patch_features/inception-bn-blue/CHATM2/CHATM2_prep2_none_win7/CHATM2_slide35_2018_01_20-S1_prep2_none_win7_inception-bn-blue_features.bp\" \"/data/CSHL_patch_features/inception-bn-blue/CHATM2/CHATM2_prep2_none_win7/CHATM2_slide35_2018_01_20-S1_prep2_none_win7_inception-bn-blue_features.bp\"\n"
     ]
    },
    {
     "name": "stderr",
     "output_type": "stream",
     "text": [
      "Save features: 4.95 seconds\n",
      "locate patches: 0.04 seconds\n"
     ]
    },
    {
     "name": "stdout",
     "output_type": "stream",
     "text": [
      "1\n"
     ]
    },
    {
     "name": "stderr",
     "output_type": "stream",
     "text": [
      "Features for CHATM2, 103/CHATM2_slide35_2018_01_20-S1 does not exist.\n",
      "No pre-computed features found... computing from scratch.\n",
      "Not using image_cache.\n"
     ]
    },
    {
     "name": "stdout",
     "output_type": "stream",
     "text": [
      "/data/CSHL_data_processed/CHATM2/CHATM2_prep2_raw_NtbNormalizedAdaptiveInvertedGamma/CHATM2_slide35_2018_01_20-S1_prep2_raw_NtbNormalizedAdaptiveInvertedGamma.tif\n"
     ]
    },
    {
     "name": "stderr",
     "output_type": "stream",
     "text": [
      "Load image: 3.59 seconds.\n",
      "Rescale image from 317 to 224: 3.85 seconds.\n",
      "Crop patches: 0.96 seconds.\n",
      "Extract patches: 8.40 seconds\n"
     ]
    },
    {
     "name": "stdout",
     "output_type": "stream",
     "text": [
      "(32229, 1, 224, 224)\n"
     ]
    },
    {
     "name": "stderr",
     "output_type": "stream",
     "text": [
      "Compute features: 50.05 seconds\n",
      "Compute features at one section, multiple locations: 58.49 seconds\n"
     ]
    },
    {
     "name": "stdout",
     "output_type": "stream",
     "text": [
      "aws s3 cp \"/data/CSHL_patch_features/inception-bn-blue/CHATM2/CHATM2_prep2_none_win7/CHATM2_slide35_2018_01_20-S1_prep2_none_win7_inception-bn-blue_features.bp\" \"s3://mousebrainatlas-data/CSHL_patch_features/inception-bn-blue/CHATM2/CHATM2_prep2_none_win7/CHATM2_slide35_2018_01_20-S1_prep2_none_win7_inception-bn-blue_features.bp\"\n",
      "0\n",
      "aws s3 cp \"/data/CSHL_patch_features/inception-bn-blue/CHATM2/CHATM2_prep2_none_win7/CHATM2_slide35_2018_01_20-S1_prep2_none_win7_inception-bn-blue_locations.bp\" \"s3://mousebrainatlas-data/CSHL_patch_features/inception-bn-blue/CHATM2/CHATM2_prep2_none_win7/CHATM2_slide35_2018_01_20-S1_prep2_none_win7_inception-bn-blue_locations.bp\"\n",
      "0\n",
      "rm -rf \"/data/CSHL_patch_features/inception-bn-blue/CHATM2/CHATM2_prep2_none_win7/CHATM2_slide36_2018_01_22-S1_prep2_none_win7_inception-bn-blue_features.bp\" && mkdir -p \"/data/CSHL_patch_features/inception-bn-blue/CHATM2/CHATM2_prep2_none_win7\"\n",
      "0\n",
      "aws s3 cp \"s3://mousebrainatlas-data/CSHL_patch_features/inception-bn-blue/CHATM2/CHATM2_prep2_none_win7/CHATM2_slide36_2018_01_22-S1_prep2_none_win7_inception-bn-blue_features.bp\" \"/data/CSHL_patch_features/inception-bn-blue/CHATM2/CHATM2_prep2_none_win7/CHATM2_slide36_2018_01_22-S1_prep2_none_win7_inception-bn-blue_features.bp\"\n"
     ]
    },
    {
     "name": "stderr",
     "output_type": "stream",
     "text": [
      "Save features: 4.45 seconds\n",
      "locate patches: 0.05 seconds\n"
     ]
    },
    {
     "name": "stdout",
     "output_type": "stream",
     "text": [
      "1\n"
     ]
    },
    {
     "name": "stderr",
     "output_type": "stream",
     "text": [
      "Features for CHATM2, 104/CHATM2_slide36_2018_01_22-S1 does not exist.\n",
      "No pre-computed features found... computing from scratch.\n",
      "Not using image_cache.\n"
     ]
    },
    {
     "name": "stdout",
     "output_type": "stream",
     "text": [
      "/data/CSHL_data_processed/CHATM2/CHATM2_prep2_raw_NtbNormalizedAdaptiveInvertedGamma/CHATM2_slide36_2018_01_22-S1_prep2_raw_NtbNormalizedAdaptiveInvertedGamma.tif\n"
     ]
    },
    {
     "name": "stderr",
     "output_type": "stream",
     "text": [
      "Load image: 3.58 seconds.\n",
      "Rescale image from 317 to 224: 3.13 seconds.\n",
      "Crop patches: 0.97 seconds.\n",
      "Extract patches: 7.68 seconds\n"
     ]
    },
    {
     "name": "stdout",
     "output_type": "stream",
     "text": [
      "(32567, 1, 224, 224)\n"
     ]
    },
    {
     "name": "stderr",
     "output_type": "stream",
     "text": [
      "Compute features: 50.61 seconds\n",
      "Compute features at one section, multiple locations: 58.31 seconds\n"
     ]
    },
    {
     "name": "stdout",
     "output_type": "stream",
     "text": [
      "aws s3 cp \"/data/CSHL_patch_features/inception-bn-blue/CHATM2/CHATM2_prep2_none_win7/CHATM2_slide36_2018_01_22-S1_prep2_none_win7_inception-bn-blue_features.bp\" \"s3://mousebrainatlas-data/CSHL_patch_features/inception-bn-blue/CHATM2/CHATM2_prep2_none_win7/CHATM2_slide36_2018_01_22-S1_prep2_none_win7_inception-bn-blue_features.bp\"\n",
      "0\n",
      "aws s3 cp \"/data/CSHL_patch_features/inception-bn-blue/CHATM2/CHATM2_prep2_none_win7/CHATM2_slide36_2018_01_22-S1_prep2_none_win7_inception-bn-blue_locations.bp\" \"s3://mousebrainatlas-data/CSHL_patch_features/inception-bn-blue/CHATM2/CHATM2_prep2_none_win7/CHATM2_slide36_2018_01_22-S1_prep2_none_win7_inception-bn-blue_locations.bp\"\n",
      "0\n",
      "rm -rf \"/data/CSHL_patch_features/inception-bn-blue/CHATM2/CHATM2_prep2_none_win7/CHATM2_slide35_2018_01_20-S2_prep2_none_win7_inception-bn-blue_features.bp\" && mkdir -p \"/data/CSHL_patch_features/inception-bn-blue/CHATM2/CHATM2_prep2_none_win7\"\n",
      "0\n",
      "aws s3 cp \"s3://mousebrainatlas-data/CSHL_patch_features/inception-bn-blue/CHATM2/CHATM2_prep2_none_win7/CHATM2_slide35_2018_01_20-S2_prep2_none_win7_inception-bn-blue_features.bp\" \"/data/CSHL_patch_features/inception-bn-blue/CHATM2/CHATM2_prep2_none_win7/CHATM2_slide35_2018_01_20-S2_prep2_none_win7_inception-bn-blue_features.bp\"\n"
     ]
    },
    {
     "name": "stderr",
     "output_type": "stream",
     "text": [
      "Save features: 4.06 seconds\n",
      "locate patches: 0.05 seconds\n"
     ]
    },
    {
     "name": "stdout",
     "output_type": "stream",
     "text": [
      "1\n"
     ]
    },
    {
     "name": "stderr",
     "output_type": "stream",
     "text": [
      "Features for CHATM2, 105/CHATM2_slide35_2018_01_20-S2 does not exist.\n",
      "No pre-computed features found... computing from scratch.\n",
      "Not using image_cache.\n"
     ]
    },
    {
     "name": "stdout",
     "output_type": "stream",
     "text": [
      "/data/CSHL_data_processed/CHATM2/CHATM2_prep2_raw_NtbNormalizedAdaptiveInvertedGamma/CHATM2_slide35_2018_01_20-S2_prep2_raw_NtbNormalizedAdaptiveInvertedGamma.tif\n"
     ]
    },
    {
     "name": "stderr",
     "output_type": "stream",
     "text": [
      "Load image: 4.62 seconds.\n",
      "Rescale image from 317 to 224: 3.85 seconds.\n",
      "Crop patches: 0.96 seconds.\n",
      "Extract patches: 9.44 seconds\n"
     ]
    },
    {
     "name": "stdout",
     "output_type": "stream",
     "text": [
      "(32073, 1, 224, 224)\n"
     ]
    },
    {
     "name": "stderr",
     "output_type": "stream",
     "text": [
      "Compute features: 50.55 seconds\n",
      "Compute features at one section, multiple locations: 60.02 seconds\n"
     ]
    },
    {
     "name": "stdout",
     "output_type": "stream",
     "text": [
      "aws s3 cp \"/data/CSHL_patch_features/inception-bn-blue/CHATM2/CHATM2_prep2_none_win7/CHATM2_slide35_2018_01_20-S2_prep2_none_win7_inception-bn-blue_features.bp\" \"s3://mousebrainatlas-data/CSHL_patch_features/inception-bn-blue/CHATM2/CHATM2_prep2_none_win7/CHATM2_slide35_2018_01_20-S2_prep2_none_win7_inception-bn-blue_features.bp\"\n",
      "0\n",
      "aws s3 cp \"/data/CSHL_patch_features/inception-bn-blue/CHATM2/CHATM2_prep2_none_win7/CHATM2_slide35_2018_01_20-S2_prep2_none_win7_inception-bn-blue_locations.bp\" \"s3://mousebrainatlas-data/CSHL_patch_features/inception-bn-blue/CHATM2/CHATM2_prep2_none_win7/CHATM2_slide35_2018_01_20-S2_prep2_none_win7_inception-bn-blue_locations.bp\"\n",
      "0\n",
      "rm -rf \"/data/CSHL_patch_features/inception-bn-blue/CHATM2/CHATM2_prep2_none_win7/CHATM2_slide36_2018_01_22-S2_prep2_none_win7_inception-bn-blue_features.bp\" && mkdir -p \"/data/CSHL_patch_features/inception-bn-blue/CHATM2/CHATM2_prep2_none_win7\"\n",
      "0\n",
      "aws s3 cp \"s3://mousebrainatlas-data/CSHL_patch_features/inception-bn-blue/CHATM2/CHATM2_prep2_none_win7/CHATM2_slide36_2018_01_22-S2_prep2_none_win7_inception-bn-blue_features.bp\" \"/data/CSHL_patch_features/inception-bn-blue/CHATM2/CHATM2_prep2_none_win7/CHATM2_slide36_2018_01_22-S2_prep2_none_win7_inception-bn-blue_features.bp\"\n"
     ]
    },
    {
     "name": "stderr",
     "output_type": "stream",
     "text": [
      "Save features: 3.21 seconds\n",
      "locate patches: 0.03 seconds\n"
     ]
    },
    {
     "name": "stdout",
     "output_type": "stream",
     "text": [
      "1\n"
     ]
    },
    {
     "name": "stderr",
     "output_type": "stream",
     "text": [
      "Features for CHATM2, 106/CHATM2_slide36_2018_01_22-S2 does not exist.\n",
      "No pre-computed features found... computing from scratch.\n",
      "Not using image_cache.\n"
     ]
    },
    {
     "name": "stdout",
     "output_type": "stream",
     "text": [
      "/data/CSHL_data_processed/CHATM2/CHATM2_prep2_raw_NtbNormalizedAdaptiveInvertedGamma/CHATM2_slide36_2018_01_22-S2_prep2_raw_NtbNormalizedAdaptiveInvertedGamma.tif\n"
     ]
    },
    {
     "name": "stderr",
     "output_type": "stream",
     "text": [
      "Load image: 4.53 seconds.\n",
      "Rescale image from 317 to 224: 2.90 seconds.\n",
      "Crop patches: 1.01 seconds.\n",
      "Extract patches: 8.44 seconds\n"
     ]
    },
    {
     "name": "stdout",
     "output_type": "stream",
     "text": [
      "(32739, 1, 224, 224)\n"
     ]
    },
    {
     "name": "stderr",
     "output_type": "stream",
     "text": [
      "Compute features: 51.39 seconds\n",
      "Compute features at one section, multiple locations: 59.87 seconds\n"
     ]
    },
    {
     "name": "stdout",
     "output_type": "stream",
     "text": [
      "aws s3 cp \"/data/CSHL_patch_features/inception-bn-blue/CHATM2/CHATM2_prep2_none_win7/CHATM2_slide36_2018_01_22-S2_prep2_none_win7_inception-bn-blue_features.bp\" \"s3://mousebrainatlas-data/CSHL_patch_features/inception-bn-blue/CHATM2/CHATM2_prep2_none_win7/CHATM2_slide36_2018_01_22-S2_prep2_none_win7_inception-bn-blue_features.bp\"\n",
      "0\n",
      "aws s3 cp \"/data/CSHL_patch_features/inception-bn-blue/CHATM2/CHATM2_prep2_none_win7/CHATM2_slide36_2018_01_22-S2_prep2_none_win7_inception-bn-blue_locations.bp\" \"s3://mousebrainatlas-data/CSHL_patch_features/inception-bn-blue/CHATM2/CHATM2_prep2_none_win7/CHATM2_slide36_2018_01_22-S2_prep2_none_win7_inception-bn-blue_locations.bp\"\n",
      "0\n",
      "rm -rf \"/data/CSHL_patch_features/inception-bn-blue/CHATM2/CHATM2_prep2_none_win7/CHATM2_slide36_2018_01_22-S3_prep2_none_win7_inception-bn-blue_features.bp\" && mkdir -p \"/data/CSHL_patch_features/inception-bn-blue/CHATM2/CHATM2_prep2_none_win7\"\n",
      "0\n",
      "aws s3 cp \"s3://mousebrainatlas-data/CSHL_patch_features/inception-bn-blue/CHATM2/CHATM2_prep2_none_win7/CHATM2_slide36_2018_01_22-S3_prep2_none_win7_inception-bn-blue_features.bp\" \"/data/CSHL_patch_features/inception-bn-blue/CHATM2/CHATM2_prep2_none_win7/CHATM2_slide36_2018_01_22-S3_prep2_none_win7_inception-bn-blue_features.bp\"\n"
     ]
    },
    {
     "name": "stderr",
     "output_type": "stream",
     "text": [
      "Save features: 4.18 seconds\n",
      "locate patches: 0.05 seconds\n"
     ]
    },
    {
     "name": "stdout",
     "output_type": "stream",
     "text": [
      "1\n"
     ]
    },
    {
     "name": "stderr",
     "output_type": "stream",
     "text": [
      "Features for CHATM2, 108/CHATM2_slide36_2018_01_22-S3 does not exist.\n",
      "No pre-computed features found... computing from scratch.\n",
      "Not using image_cache.\n"
     ]
    },
    {
     "name": "stdout",
     "output_type": "stream",
     "text": [
      "/data/CSHL_data_processed/CHATM2/CHATM2_prep2_raw_NtbNormalizedAdaptiveInvertedGamma/CHATM2_slide36_2018_01_22-S3_prep2_raw_NtbNormalizedAdaptiveInvertedGamma.tif\n"
     ]
    },
    {
     "name": "stderr",
     "output_type": "stream",
     "text": [
      "Load image: 3.57 seconds.\n",
      "Rescale image from 317 to 224: 2.87 seconds.\n",
      "Crop patches: 0.98 seconds.\n",
      "Extract patches: 7.43 seconds\n"
     ]
    },
    {
     "name": "stdout",
     "output_type": "stream",
     "text": [
      "(33107, 1, 224, 224)\n"
     ]
    },
    {
     "name": "stderr",
     "output_type": "stream",
     "text": [
      "Compute features: 51.73 seconds\n",
      "Compute features at one section, multiple locations: 59.19 seconds\n"
     ]
    },
    {
     "name": "stdout",
     "output_type": "stream",
     "text": [
      "aws s3 cp \"/data/CSHL_patch_features/inception-bn-blue/CHATM2/CHATM2_prep2_none_win7/CHATM2_slide36_2018_01_22-S3_prep2_none_win7_inception-bn-blue_features.bp\" \"s3://mousebrainatlas-data/CSHL_patch_features/inception-bn-blue/CHATM2/CHATM2_prep2_none_win7/CHATM2_slide36_2018_01_22-S3_prep2_none_win7_inception-bn-blue_features.bp\"\n",
      "0\n",
      "aws s3 cp \"/data/CSHL_patch_features/inception-bn-blue/CHATM2/CHATM2_prep2_none_win7/CHATM2_slide36_2018_01_22-S3_prep2_none_win7_inception-bn-blue_locations.bp\" \"s3://mousebrainatlas-data/CSHL_patch_features/inception-bn-blue/CHATM2/CHATM2_prep2_none_win7/CHATM2_slide36_2018_01_22-S3_prep2_none_win7_inception-bn-blue_locations.bp\"\n",
      "0\n",
      "rm -rf \"/data/CSHL_patch_features/inception-bn-blue/CHATM2/CHATM2_prep2_none_win7/CHATM2_slide37_2018_01_22-S1_prep2_none_win7_inception-bn-blue_features.bp\" && mkdir -p \"/data/CSHL_patch_features/inception-bn-blue/CHATM2/CHATM2_prep2_none_win7\"\n"
     ]
    },
    {
     "name": "stderr",
     "output_type": "stream",
     "text": [
      "Save features: 4.98 seconds\n",
      "locate patches: 0.09 seconds\n"
     ]
    },
    {
     "name": "stdout",
     "output_type": "stream",
     "text": [
      "0\n",
      "aws s3 cp \"s3://mousebrainatlas-data/CSHL_patch_features/inception-bn-blue/CHATM2/CHATM2_prep2_none_win7/CHATM2_slide37_2018_01_22-S1_prep2_none_win7_inception-bn-blue_features.bp\" \"/data/CSHL_patch_features/inception-bn-blue/CHATM2/CHATM2_prep2_none_win7/CHATM2_slide37_2018_01_22-S1_prep2_none_win7_inception-bn-blue_features.bp\"\n",
      "1\n"
     ]
    },
    {
     "name": "stderr",
     "output_type": "stream",
     "text": [
      "Features for CHATM2, 109/CHATM2_slide37_2018_01_22-S1 does not exist.\n",
      "No pre-computed features found... computing from scratch.\n",
      "Not using image_cache.\n"
     ]
    },
    {
     "name": "stdout",
     "output_type": "stream",
     "text": [
      "/data/CSHL_data_processed/CHATM2/CHATM2_prep2_raw_NtbNormalizedAdaptiveInvertedGamma/CHATM2_slide37_2018_01_22-S1_prep2_raw_NtbNormalizedAdaptiveInvertedGamma.tif\n"
     ]
    },
    {
     "name": "stderr",
     "output_type": "stream",
     "text": [
      "Load image: 4.17 seconds.\n",
      "Rescale image from 317 to 224: 4.75 seconds.\n",
      "Crop patches: 1.04 seconds.\n",
      "Extract patches: 9.97 seconds\n"
     ]
    },
    {
     "name": "stdout",
     "output_type": "stream",
     "text": [
      "(33536, 1, 224, 224)\n"
     ]
    },
    {
     "name": "stderr",
     "output_type": "stream",
     "text": [
      "Compute features: 51.57 seconds\n",
      "Compute features at one section, multiple locations: 61.58 seconds\n"
     ]
    },
    {
     "name": "stdout",
     "output_type": "stream",
     "text": [
      "aws s3 cp \"/data/CSHL_patch_features/inception-bn-blue/CHATM2/CHATM2_prep2_none_win7/CHATM2_slide37_2018_01_22-S1_prep2_none_win7_inception-bn-blue_features.bp\" \"s3://mousebrainatlas-data/CSHL_patch_features/inception-bn-blue/CHATM2/CHATM2_prep2_none_win7/CHATM2_slide37_2018_01_22-S1_prep2_none_win7_inception-bn-blue_features.bp\"\n",
      "0\n",
      "aws s3 cp \"/data/CSHL_patch_features/inception-bn-blue/CHATM2/CHATM2_prep2_none_win7/CHATM2_slide37_2018_01_22-S1_prep2_none_win7_inception-bn-blue_locations.bp\" \"s3://mousebrainatlas-data/CSHL_patch_features/inception-bn-blue/CHATM2/CHATM2_prep2_none_win7/CHATM2_slide37_2018_01_22-S1_prep2_none_win7_inception-bn-blue_locations.bp\"\n",
      "0\n",
      "rm -rf \"/data/CSHL_patch_features/inception-bn-blue/CHATM2/CHATM2_prep2_none_win7/CHATM2_slide38_2018_01_22-S1_prep2_none_win7_inception-bn-blue_features.bp\" && mkdir -p \"/data/CSHL_patch_features/inception-bn-blue/CHATM2/CHATM2_prep2_none_win7\"\n",
      "0"
     ]
    },
    {
     "name": "stderr",
     "output_type": "stream",
     "text": [
      "Save features: 4.56 seconds\n",
      "locate patches: 0.09 seconds\n"
     ]
    },
    {
     "name": "stdout",
     "output_type": "stream",
     "text": [
      "\n",
      "aws s3 cp \"s3://mousebrainatlas-data/CSHL_patch_features/inception-bn-blue/CHATM2/CHATM2_prep2_none_win7/CHATM2_slide38_2018_01_22-S1_prep2_none_win7_inception-bn-blue_features.bp\" \"/data/CSHL_patch_features/inception-bn-blue/CHATM2/CHATM2_prep2_none_win7/CHATM2_slide38_2018_01_22-S1_prep2_none_win7_inception-bn-blue_features.bp\"\n",
      "1\n"
     ]
    },
    {
     "name": "stderr",
     "output_type": "stream",
     "text": [
      "Features for CHATM2, 110/CHATM2_slide38_2018_01_22-S1 does not exist.\n",
      "No pre-computed features found... computing from scratch.\n",
      "Not using image_cache.\n"
     ]
    },
    {
     "name": "stdout",
     "output_type": "stream",
     "text": [
      "/data/CSHL_data_processed/CHATM2/CHATM2_prep2_raw_NtbNormalizedAdaptiveInvertedGamma/CHATM2_slide38_2018_01_22-S1_prep2_raw_NtbNormalizedAdaptiveInvertedGamma.tif\n"
     ]
    },
    {
     "name": "stderr",
     "output_type": "stream",
     "text": [
      "Load image: 5.87 seconds.\n",
      "Rescale image from 317 to 224: 4.89 seconds.\n",
      "Crop patches: 1.54 seconds.\n",
      "Extract patches: 12.32 seconds\n"
     ]
    },
    {
     "name": "stdout",
     "output_type": "stream",
     "text": [
      "(33515, 1, 224, 224)\n"
     ]
    },
    {
     "name": "stderr",
     "output_type": "stream",
     "text": [
      "Compute features: 54.41 seconds\n",
      "Compute features at one section, multiple locations: 66.75 seconds\n"
     ]
    },
    {
     "name": "stdout",
     "output_type": "stream",
     "text": [
      "aws s3 cp \"/data/CSHL_patch_features/inception-bn-blue/CHATM2/CHATM2_prep2_none_win7/CHATM2_slide38_2018_01_22-S1_prep2_none_win7_inception-bn-blue_features.bp\" \"s3://mousebrainatlas-data/CSHL_patch_features/inception-bn-blue/CHATM2/CHATM2_prep2_none_win7/CHATM2_slide38_2018_01_22-S1_prep2_none_win7_inception-bn-blue_features.bp\"\n",
      "0\n",
      "aws s3 cp \"/data/CSHL_patch_features/inception-bn-blue/CHATM2/CHATM2_prep2_none_win7/CHATM2_slide38_2018_01_22-S1_prep2_none_win7_inception-bn-blue_locations.bp\" \"s3://mousebrainatlas-data/CSHL_patch_features/inception-bn-blue/CHATM2/CHATM2_prep2_none_win7/CHATM2_slide38_2018_01_22-S1_prep2_none_win7_inception-bn-blue_locations.bp\"\n",
      "0\n",
      "rm -rf \"/data/CSHL_patch_features/inception-bn-blue/CHATM2/CHATM2_prep2_none_win7/CHATM2_slide37_2018_01_22-S2_prep2_none_win7_inception-bn-blue_features.bp\" && mkdir -p \"/data/CSHL_patch_features/inception-bn-blue/CHATM2/CHATM2_prep2_none_win7\"\n",
      "0"
     ]
    },
    {
     "name": "stderr",
     "output_type": "stream",
     "text": [
      "Save features: 4.72 seconds\n",
      "locate patches: 0.08 seconds\n"
     ]
    },
    {
     "name": "stdout",
     "output_type": "stream",
     "text": [
      "\n",
      "aws s3 cp \"s3://mousebrainatlas-data/CSHL_patch_features/inception-bn-blue/CHATM2/CHATM2_prep2_none_win7/CHATM2_slide37_2018_01_22-S2_prep2_none_win7_inception-bn-blue_features.bp\" \"/data/CSHL_patch_features/inception-bn-blue/CHATM2/CHATM2_prep2_none_win7/CHATM2_slide37_2018_01_22-S2_prep2_none_win7_inception-bn-blue_features.bp\"\n",
      "1\n"
     ]
    },
    {
     "name": "stderr",
     "output_type": "stream",
     "text": [
      "Features for CHATM2, 111/CHATM2_slide37_2018_01_22-S2 does not exist.\n",
      "No pre-computed features found... computing from scratch.\n",
      "Not using image_cache.\n"
     ]
    },
    {
     "name": "stdout",
     "output_type": "stream",
     "text": [
      "/data/CSHL_data_processed/CHATM2/CHATM2_prep2_raw_NtbNormalizedAdaptiveInvertedGamma/CHATM2_slide37_2018_01_22-S2_prep2_raw_NtbNormalizedAdaptiveInvertedGamma.tif\n"
     ]
    },
    {
     "name": "stderr",
     "output_type": "stream",
     "text": [
      "Load image: 6.32 seconds.\n",
      "Rescale image from 317 to 224: 5.26 seconds.\n",
      "Crop patches: 1.45 seconds.\n",
      "Extract patches: 13.07 seconds\n"
     ]
    },
    {
     "name": "stdout",
     "output_type": "stream",
     "text": [
      "(33706, 1, 224, 224)\n"
     ]
    },
    {
     "name": "stderr",
     "output_type": "stream",
     "text": [
      "Compute features: 53.85 seconds\n",
      "Compute features at one section, multiple locations: 66.94 seconds\n"
     ]
    },
    {
     "name": "stdout",
     "output_type": "stream",
     "text": [
      "aws s3 cp \"/data/CSHL_patch_features/inception-bn-blue/CHATM2/CHATM2_prep2_none_win7/CHATM2_slide37_2018_01_22-S2_prep2_none_win7_inception-bn-blue_features.bp\" \"s3://mousebrainatlas-data/CSHL_patch_features/inception-bn-blue/CHATM2/CHATM2_prep2_none_win7/CHATM2_slide37_2018_01_22-S2_prep2_none_win7_inception-bn-blue_features.bp\"\n",
      "0\n",
      "aws s3 cp \"/data/CSHL_patch_features/inception-bn-blue/CHATM2/CHATM2_prep2_none_win7/CHATM2_slide37_2018_01_22-S2_prep2_none_win7_inception-bn-blue_locations.bp\" \"s3://mousebrainatlas-data/CSHL_patch_features/inception-bn-blue/CHATM2/CHATM2_prep2_none_win7/CHATM2_slide37_2018_01_22-S2_prep2_none_win7_inception-bn-blue_locations.bp\"\n",
      "0\n",
      "rm -rf \"/data/CSHL_patch_features/inception-bn-blue/CHATM2/CHATM2_prep2_none_win7/CHATM2_slide38_2018_01_22-S2_prep2_none_win7_inception-bn-blue_features.bp\" && mkdir -p \"/data/CSHL_patch_features/inception-bn-blue/CHATM2/CHATM2_prep2_none_win7\"\n",
      "0"
     ]
    },
    {
     "name": "stderr",
     "output_type": "stream",
     "text": [
      "Save features: 4.47 seconds\n",
      "locate patches: 0.06 seconds\n"
     ]
    },
    {
     "name": "stdout",
     "output_type": "stream",
     "text": [
      "\n",
      "aws s3 cp \"s3://mousebrainatlas-data/CSHL_patch_features/inception-bn-blue/CHATM2/CHATM2_prep2_none_win7/CHATM2_slide38_2018_01_22-S2_prep2_none_win7_inception-bn-blue_features.bp\" \"/data/CSHL_patch_features/inception-bn-blue/CHATM2/CHATM2_prep2_none_win7/CHATM2_slide38_2018_01_22-S2_prep2_none_win7_inception-bn-blue_features.bp\"\n",
      "1\n"
     ]
    },
    {
     "name": "stderr",
     "output_type": "stream",
     "text": [
      "Features for CHATM2, 112/CHATM2_slide38_2018_01_22-S2 does not exist.\n",
      "No pre-computed features found... computing from scratch.\n",
      "Not using image_cache.\n"
     ]
    },
    {
     "name": "stdout",
     "output_type": "stream",
     "text": [
      "/data/CSHL_data_processed/CHATM2/CHATM2_prep2_raw_NtbNormalizedAdaptiveInvertedGamma/CHATM2_slide38_2018_01_22-S2_prep2_raw_NtbNormalizedAdaptiveInvertedGamma.tif\n"
     ]
    },
    {
     "name": "stderr",
     "output_type": "stream",
     "text": [
      "Load image: 5.82 seconds.\n",
      "Rescale image from 317 to 224: 5.29 seconds.\n",
      "Crop patches: 1.53 seconds.\n",
      "Extract patches: 12.66 seconds\n"
     ]
    },
    {
     "name": "stdout",
     "output_type": "stream",
     "text": [
      "(33714, 1, 224, 224)\n"
     ]
    },
    {
     "name": "stderr",
     "output_type": "stream",
     "text": [
      "Compute features: 52.88 seconds\n",
      "Compute features at one section, multiple locations: 65.56 seconds\n"
     ]
    },
    {
     "name": "stdout",
     "output_type": "stream",
     "text": [
      "aws s3 cp \"/data/CSHL_patch_features/inception-bn-blue/CHATM2/CHATM2_prep2_none_win7/CHATM2_slide38_2018_01_22-S2_prep2_none_win7_inception-bn-blue_features.bp\" \"s3://mousebrainatlas-data/CSHL_patch_features/inception-bn-blue/CHATM2/CHATM2_prep2_none_win7/CHATM2_slide38_2018_01_22-S2_prep2_none_win7_inception-bn-blue_features.bp\"\n",
      "0\n",
      "aws s3 cp \"/data/CSHL_patch_features/inception-bn-blue/CHATM2/CHATM2_prep2_none_win7/CHATM2_slide38_2018_01_22-S2_prep2_none_win7_inception-bn-blue_locations.bp\" \"s3://mousebrainatlas-data/CSHL_patch_features/inception-bn-blue/CHATM2/CHATM2_prep2_none_win7/CHATM2_slide38_2018_01_22-S2_prep2_none_win7_inception-bn-blue_locations.bp\"\n",
      "0\n",
      "rm -rf \"/data/CSHL_patch_features/inception-bn-blue/CHATM2/CHATM2_prep2_none_win7/CHATM2_slide37_2018_01_22-S3_prep2_none_win7_inception-bn-blue_features.bp\" && mkdir -p \"/data/CSHL_patch_features/inception-bn-blue/CHATM2/CHATM2_prep2_none_win7\"\n",
      "0\n",
      "aws s3 cp \"s3://mousebrainatlas-data/CSHL_patch_features/inception-bn-blue/CHATM2/CHATM2_prep2_none_win7/CHATM2_slide37_2018_01_22-S3_prep2_none_win7_inception-bn-blue_features.bp\" \"/data/CSHL_patch_features/inception-bn-blue/CHATM2/CHATM2_prep2_none_win7/CHATM2_slide37_2018_01_22-S3_prep2_none_win7_inception-bn-blue_features.bp\"\n"
     ]
    },
    {
     "name": "stderr",
     "output_type": "stream",
     "text": [
      "Save features: 4.20 seconds\n",
      "locate patches: 0.05 seconds\n"
     ]
    },
    {
     "name": "stdout",
     "output_type": "stream",
     "text": [
      "1\n"
     ]
    },
    {
     "name": "stderr",
     "output_type": "stream",
     "text": [
      "Features for CHATM2, 113/CHATM2_slide37_2018_01_22-S3 does not exist.\n",
      "No pre-computed features found... computing from scratch.\n",
      "Not using image_cache.\n"
     ]
    },
    {
     "name": "stdout",
     "output_type": "stream",
     "text": [
      "/data/CSHL_data_processed/CHATM2/CHATM2_prep2_raw_NtbNormalizedAdaptiveInvertedGamma/CHATM2_slide37_2018_01_22-S3_prep2_raw_NtbNormalizedAdaptiveInvertedGamma.tif\n"
     ]
    },
    {
     "name": "stderr",
     "output_type": "stream",
     "text": [
      "Load image: 4.94 seconds.\n",
      "Rescale image from 317 to 224: 4.83 seconds.\n",
      "Crop patches: 1.50 seconds.\n",
      "Extract patches: 11.29 seconds\n"
     ]
    },
    {
     "name": "stdout",
     "output_type": "stream",
     "text": [
      "(34210, 1, 224, 224)\n"
     ]
    },
    {
     "name": "stderr",
     "output_type": "stream",
     "text": [
      "Compute features: 55.44 seconds\n",
      "Compute features at one section, multiple locations: 66.77 seconds\n"
     ]
    },
    {
     "name": "stdout",
     "output_type": "stream",
     "text": [
      "aws s3 cp \"/data/CSHL_patch_features/inception-bn-blue/CHATM2/CHATM2_prep2_none_win7/CHATM2_slide37_2018_01_22-S3_prep2_none_win7_inception-bn-blue_features.bp\" \"s3://mousebrainatlas-data/CSHL_patch_features/inception-bn-blue/CHATM2/CHATM2_prep2_none_win7/CHATM2_slide37_2018_01_22-S3_prep2_none_win7_inception-bn-blue_features.bp\"\n",
      "0\n",
      "aws s3 cp \"/data/CSHL_patch_features/inception-bn-blue/CHATM2/CHATM2_prep2_none_win7/CHATM2_slide37_2018_01_22-S3_prep2_none_win7_inception-bn-blue_locations.bp\" \"s3://mousebrainatlas-data/CSHL_patch_features/inception-bn-blue/CHATM2/CHATM2_prep2_none_win7/CHATM2_slide37_2018_01_22-S3_prep2_none_win7_inception-bn-blue_locations.bp\"\n",
      "0\n",
      "rm -rf \"/data/CSHL_patch_features/inception-bn-blue/CHATM2/CHATM2_prep2_none_win7/CHATM2_slide38_2018_01_22-S3_prep2_none_win7_inception-bn-blue_features.bp\" && mkdir -p \"/data/CSHL_patch_features/inception-bn-blue/CHATM2/CHATM2_prep2_none_win7\"\n"
     ]
    },
    {
     "name": "stderr",
     "output_type": "stream",
     "text": [
      "Save features: 5.38 seconds\n",
      "locate patches: 0.10 seconds\n"
     ]
    },
    {
     "name": "stdout",
     "output_type": "stream",
     "text": [
      "0\n",
      "aws s3 cp \"s3://mousebrainatlas-data/CSHL_patch_features/inception-bn-blue/CHATM2/CHATM2_prep2_none_win7/CHATM2_slide38_2018_01_22-S3_prep2_none_win7_inception-bn-blue_features.bp\" \"/data/CSHL_patch_features/inception-bn-blue/CHATM2/CHATM2_prep2_none_win7/CHATM2_slide38_2018_01_22-S3_prep2_none_win7_inception-bn-blue_features.bp\"\n",
      "1\n"
     ]
    },
    {
     "name": "stderr",
     "output_type": "stream",
     "text": [
      "Features for CHATM2, 114/CHATM2_slide38_2018_01_22-S3 does not exist.\n",
      "No pre-computed features found... computing from scratch.\n",
      "Not using image_cache.\n"
     ]
    },
    {
     "name": "stdout",
     "output_type": "stream",
     "text": [
      "/data/CSHL_data_processed/CHATM2/CHATM2_prep2_raw_NtbNormalizedAdaptiveInvertedGamma/CHATM2_slide38_2018_01_22-S3_prep2_raw_NtbNormalizedAdaptiveInvertedGamma.tif\n"
     ]
    },
    {
     "name": "stderr",
     "output_type": "stream",
     "text": [
      "Load image: 4.25 seconds.\n",
      "Rescale image from 317 to 224: 4.38 seconds.\n",
      "Crop patches: 1.07 seconds.\n",
      "Extract patches: 9.72 seconds\n"
     ]
    },
    {
     "name": "stdout",
     "output_type": "stream",
     "text": [
      "(34263, 1, 224, 224)\n"
     ]
    },
    {
     "name": "stderr",
     "output_type": "stream",
     "text": [
      "Compute features: 55.70 seconds\n",
      "Compute features at one section, multiple locations: 65.47 seconds\n"
     ]
    },
    {
     "name": "stdout",
     "output_type": "stream",
     "text": [
      "aws s3 cp \"/data/CSHL_patch_features/inception-bn-blue/CHATM2/CHATM2_prep2_none_win7/CHATM2_slide38_2018_01_22-S3_prep2_none_win7_inception-bn-blue_features.bp\" \"s3://mousebrainatlas-data/CSHL_patch_features/inception-bn-blue/CHATM2/CHATM2_prep2_none_win7/CHATM2_slide38_2018_01_22-S3_prep2_none_win7_inception-bn-blue_features.bp\"\n",
      "0\n",
      "aws s3 cp \"/data/CSHL_patch_features/inception-bn-blue/CHATM2/CHATM2_prep2_none_win7/CHATM2_slide38_2018_01_22-S3_prep2_none_win7_inception-bn-blue_locations.bp\" \"s3://mousebrainatlas-data/CSHL_patch_features/inception-bn-blue/CHATM2/CHATM2_prep2_none_win7/CHATM2_slide38_2018_01_22-S3_prep2_none_win7_inception-bn-blue_locations.bp\"\n",
      "0\n",
      "rm -rf \"/data/CSHL_patch_features/inception-bn-blue/CHATM2/CHATM2_prep2_none_win7/CHATM2_slide39_2018_01_22-S1_prep2_none_win7_inception-bn-blue_features.bp\" && mkdir -p \"/data/CSHL_patch_features/inception-bn-blue/CHATM2/CHATM2_prep2_none_win7\"\n"
     ]
    },
    {
     "name": "stderr",
     "output_type": "stream",
     "text": [
      "Save features: 6.01 seconds\n",
      "locate patches: 0.10 seconds\n"
     ]
    },
    {
     "name": "stdout",
     "output_type": "stream",
     "text": [
      "0\n",
      "aws s3 cp \"s3://mousebrainatlas-data/CSHL_patch_features/inception-bn-blue/CHATM2/CHATM2_prep2_none_win7/CHATM2_slide39_2018_01_22-S1_prep2_none_win7_inception-bn-blue_features.bp\" \"/data/CSHL_patch_features/inception-bn-blue/CHATM2/CHATM2_prep2_none_win7/CHATM2_slide39_2018_01_22-S1_prep2_none_win7_inception-bn-blue_features.bp\"\n",
      "1\n"
     ]
    },
    {
     "name": "stderr",
     "output_type": "stream",
     "text": [
      "Features for CHATM2, 115/CHATM2_slide39_2018_01_22-S1 does not exist.\n",
      "No pre-computed features found... computing from scratch.\n",
      "Not using image_cache.\n"
     ]
    },
    {
     "name": "stdout",
     "output_type": "stream",
     "text": [
      "/data/CSHL_data_processed/CHATM2/CHATM2_prep2_raw_NtbNormalizedAdaptiveInvertedGamma/CHATM2_slide39_2018_01_22-S1_prep2_raw_NtbNormalizedAdaptiveInvertedGamma.tif\n"
     ]
    },
    {
     "name": "stderr",
     "output_type": "stream",
     "text": [
      "Load image: 4.16 seconds.\n",
      "Rescale image from 317 to 224: 4.31 seconds.\n",
      "Crop patches: 1.08 seconds.\n",
      "Extract patches: 9.58 seconds\n"
     ]
    },
    {
     "name": "stdout",
     "output_type": "stream",
     "text": [
      "(34269, 1, 224, 224)\n"
     ]
    },
    {
     "name": "stderr",
     "output_type": "stream",
     "text": [
      "Compute features: 53.90 seconds\n",
      "Compute features at one section, multiple locations: 63.52 seconds\n"
     ]
    },
    {
     "name": "stdout",
     "output_type": "stream",
     "text": [
      "aws s3 cp \"/data/CSHL_patch_features/inception-bn-blue/CHATM2/CHATM2_prep2_none_win7/CHATM2_slide39_2018_01_22-S1_prep2_none_win7_inception-bn-blue_features.bp\" \"s3://mousebrainatlas-data/CSHL_patch_features/inception-bn-blue/CHATM2/CHATM2_prep2_none_win7/CHATM2_slide39_2018_01_22-S1_prep2_none_win7_inception-bn-blue_features.bp\"\n",
      "0\n",
      "aws s3 cp \"/data/CSHL_patch_features/inception-bn-blue/CHATM2/CHATM2_prep2_none_win7/CHATM2_slide39_2018_01_22-S1_prep2_none_win7_inception-bn-blue_locations.bp\" \"s3://mousebrainatlas-data/CSHL_patch_features/inception-bn-blue/CHATM2/CHATM2_prep2_none_win7/CHATM2_slide39_2018_01_22-S1_prep2_none_win7_inception-bn-blue_locations.bp\"\n",
      "0\n",
      "rm -rf \"/data/CSHL_patch_features/inception-bn-blue/CHATM2/CHATM2_prep2_none_win7/CHATM2_slide39_2018_01_22-S2_prep2_none_win7_inception-bn-blue_features.bp\" && mkdir -p \"/data/CSHL_patch_features/inception-bn-blue/CHATM2/CHATM2_prep2_none_win7\"\n",
      "0"
     ]
    },
    {
     "name": "stderr",
     "output_type": "stream",
     "text": [
      "Save features: 5.20 seconds\n",
      "locate patches: 0.08 seconds\n"
     ]
    },
    {
     "name": "stdout",
     "output_type": "stream",
     "text": [
      "\n",
      "aws s3 cp \"s3://mousebrainatlas-data/CSHL_patch_features/inception-bn-blue/CHATM2/CHATM2_prep2_none_win7/CHATM2_slide39_2018_01_22-S2_prep2_none_win7_inception-bn-blue_features.bp\" \"/data/CSHL_patch_features/inception-bn-blue/CHATM2/CHATM2_prep2_none_win7/CHATM2_slide39_2018_01_22-S2_prep2_none_win7_inception-bn-blue_features.bp\"\n",
      "1\n"
     ]
    },
    {
     "name": "stderr",
     "output_type": "stream",
     "text": [
      "Features for CHATM2, 117/CHATM2_slide39_2018_01_22-S2 does not exist.\n",
      "No pre-computed features found... computing from scratch.\n",
      "Not using image_cache.\n"
     ]
    },
    {
     "name": "stdout",
     "output_type": "stream",
     "text": [
      "/data/CSHL_data_processed/CHATM2/CHATM2_prep2_raw_NtbNormalizedAdaptiveInvertedGamma/CHATM2_slide39_2018_01_22-S2_prep2_raw_NtbNormalizedAdaptiveInvertedGamma.tif\n"
     ]
    },
    {
     "name": "stderr",
     "output_type": "stream",
     "text": [
      "Load image: 4.03 seconds.\n",
      "Rescale image from 317 to 224: 4.87 seconds.\n",
      "Crop patches: 1.49 seconds.\n",
      "Extract patches: 10.41 seconds\n"
     ]
    },
    {
     "name": "stdout",
     "output_type": "stream",
     "text": [
      "(34547, 1, 224, 224)\n"
     ]
    },
    {
     "name": "stderr",
     "output_type": "stream",
     "text": [
      "Compute features: 56.51 seconds\n",
      "Compute features at one section, multiple locations: 66.95 seconds\n"
     ]
    },
    {
     "name": "stdout",
     "output_type": "stream",
     "text": [
      "aws s3 cp \"/data/CSHL_patch_features/inception-bn-blue/CHATM2/CHATM2_prep2_none_win7/CHATM2_slide39_2018_01_22-S2_prep2_none_win7_inception-bn-blue_features.bp\" \"s3://mousebrainatlas-data/CSHL_patch_features/inception-bn-blue/CHATM2/CHATM2_prep2_none_win7/CHATM2_slide39_2018_01_22-S2_prep2_none_win7_inception-bn-blue_features.bp\"\n",
      "0\n",
      "aws s3 cp \"/data/CSHL_patch_features/inception-bn-blue/CHATM2/CHATM2_prep2_none_win7/CHATM2_slide39_2018_01_22-S2_prep2_none_win7_inception-bn-blue_locations.bp\" \"s3://mousebrainatlas-data/CSHL_patch_features/inception-bn-blue/CHATM2/CHATM2_prep2_none_win7/CHATM2_slide39_2018_01_22-S2_prep2_none_win7_inception-bn-blue_locations.bp\"\n",
      "0\n",
      "rm -rf \"/data/CSHL_patch_features/inception-bn-blue/CHATM2/CHATM2_prep2_none_win7/CHATM2_slide39_2018_01_22-S3_prep2_none_win7_inception-bn-blue_features.bp\" && mkdir -p \"/data/CSHL_patch_features/inception-bn-blue/CHATM2/CHATM2_prep2_none_win7\"\n",
      "0"
     ]
    },
    {
     "name": "stderr",
     "output_type": "stream",
     "text": [
      "Save features: 5.09 seconds\n",
      "locate patches: 0.09 seconds\n"
     ]
    },
    {
     "name": "stdout",
     "output_type": "stream",
     "text": [
      "\n",
      "aws s3 cp \"s3://mousebrainatlas-data/CSHL_patch_features/inception-bn-blue/CHATM2/CHATM2_prep2_none_win7/CHATM2_slide39_2018_01_22-S3_prep2_none_win7_inception-bn-blue_features.bp\" \"/data/CSHL_patch_features/inception-bn-blue/CHATM2/CHATM2_prep2_none_win7/CHATM2_slide39_2018_01_22-S3_prep2_none_win7_inception-bn-blue_features.bp\"\n",
      "1\n"
     ]
    },
    {
     "name": "stderr",
     "output_type": "stream",
     "text": [
      "Features for CHATM2, 119/CHATM2_slide39_2018_01_22-S3 does not exist.\n",
      "No pre-computed features found... computing from scratch.\n",
      "Not using image_cache.\n"
     ]
    },
    {
     "name": "stdout",
     "output_type": "stream",
     "text": [
      "/data/CSHL_data_processed/CHATM2/CHATM2_prep2_raw_NtbNormalizedAdaptiveInvertedGamma/CHATM2_slide39_2018_01_22-S3_prep2_raw_NtbNormalizedAdaptiveInvertedGamma.tif\n"
     ]
    },
    {
     "name": "stderr",
     "output_type": "stream",
     "text": [
      "Load image: 4.62 seconds.\n",
      "Rescale image from 317 to 224: 3.01 seconds.\n",
      "Crop patches: 1.12 seconds.\n",
      "Extract patches: 8.77 seconds\n"
     ]
    },
    {
     "name": "stdout",
     "output_type": "stream",
     "text": [
      "(34550, 1, 224, 224)\n"
     ]
    },
    {
     "name": "stderr",
     "output_type": "stream",
     "text": [
      "Compute features: 56.52 seconds\n",
      "Compute features at one section, multiple locations: 65.32 seconds\n"
     ]
    },
    {
     "name": "stdout",
     "output_type": "stream",
     "text": [
      "aws s3 cp \"/data/CSHL_patch_features/inception-bn-blue/CHATM2/CHATM2_prep2_none_win7/CHATM2_slide39_2018_01_22-S3_prep2_none_win7_inception-bn-blue_features.bp\" \"s3://mousebrainatlas-data/CSHL_patch_features/inception-bn-blue/CHATM2/CHATM2_prep2_none_win7/CHATM2_slide39_2018_01_22-S3_prep2_none_win7_inception-bn-blue_features.bp\"\n",
      "0\n",
      "aws s3 cp \"/data/CSHL_patch_features/inception-bn-blue/CHATM2/CHATM2_prep2_none_win7/CHATM2_slide39_2018_01_22-S3_prep2_none_win7_inception-bn-blue_locations.bp\" \"s3://mousebrainatlas-data/CSHL_patch_features/inception-bn-blue/CHATM2/CHATM2_prep2_none_win7/CHATM2_slide39_2018_01_22-S3_prep2_none_win7_inception-bn-blue_locations.bp\"\n",
      "0\n",
      "rm -rf \"/data/CSHL_patch_features/inception-bn-blue/CHATM2/CHATM2_prep2_none_win7/CHATM2_slide41_2018_01_22-S1_prep2_none_win7_inception-bn-blue_features.bp\" && mkdir -p \"/data/CSHL_patch_features/inception-bn-blue/CHATM2/CHATM2_prep2_none_win7\"\n"
     ]
    },
    {
     "name": "stderr",
     "output_type": "stream",
     "text": [
      "Save features: 5.73 seconds\n",
      "locate patches: 0.09 seconds\n"
     ]
    },
    {
     "name": "stdout",
     "output_type": "stream",
     "text": [
      "0\n",
      "aws s3 cp \"s3://mousebrainatlas-data/CSHL_patch_features/inception-bn-blue/CHATM2/CHATM2_prep2_none_win7/CHATM2_slide41_2018_01_22-S1_prep2_none_win7_inception-bn-blue_features.bp\" \"/data/CSHL_patch_features/inception-bn-blue/CHATM2/CHATM2_prep2_none_win7/CHATM2_slide41_2018_01_22-S1_prep2_none_win7_inception-bn-blue_features.bp\"\n",
      "1\n"
     ]
    },
    {
     "name": "stderr",
     "output_type": "stream",
     "text": [
      "Features for CHATM2, 121/CHATM2_slide41_2018_01_22-S1 does not exist.\n",
      "No pre-computed features found... computing from scratch.\n",
      "Not using image_cache.\n"
     ]
    },
    {
     "name": "stdout",
     "output_type": "stream",
     "text": [
      "/data/CSHL_data_processed/CHATM2/CHATM2_prep2_raw_NtbNormalizedAdaptiveInvertedGamma/CHATM2_slide41_2018_01_22-S1_prep2_raw_NtbNormalizedAdaptiveInvertedGamma.tif\n"
     ]
    },
    {
     "name": "stderr",
     "output_type": "stream",
     "text": [
      "Load image: 3.47 seconds.\n",
      "Rescale image from 317 to 224: 3.12 seconds.\n",
      "Crop patches: 1.11 seconds.\n",
      "Extract patches: 7.71 seconds\n"
     ]
    },
    {
     "name": "stdout",
     "output_type": "stream",
     "text": [
      "(35420, 1, 224, 224)\n"
     ]
    },
    {
     "name": "stderr",
     "output_type": "stream",
     "text": [
      "Compute features: 57.79 seconds\n",
      "Compute features at one section, multiple locations: 65.54 seconds\n"
     ]
    },
    {
     "name": "stdout",
     "output_type": "stream",
     "text": [
      "aws s3 cp \"/data/CSHL_patch_features/inception-bn-blue/CHATM2/CHATM2_prep2_none_win7/CHATM2_slide41_2018_01_22-S1_prep2_none_win7_inception-bn-blue_features.bp\" \"s3://mousebrainatlas-data/CSHL_patch_features/inception-bn-blue/CHATM2/CHATM2_prep2_none_win7/CHATM2_slide41_2018_01_22-S1_prep2_none_win7_inception-bn-blue_features.bp\"\n",
      "0\n",
      "aws s3 cp \"/data/CSHL_patch_features/inception-bn-blue/CHATM2/CHATM2_prep2_none_win7/CHATM2_slide41_2018_01_22-S1_prep2_none_win7_inception-bn-blue_locations.bp\" \"s3://mousebrainatlas-data/CSHL_patch_features/inception-bn-blue/CHATM2/CHATM2_prep2_none_win7/CHATM2_slide41_2018_01_22-S1_prep2_none_win7_inception-bn-blue_locations.bp\"\n",
      "0\n",
      "rm -rf \"/data/CSHL_patch_features/inception-bn-blue/CHATM2/CHATM2_prep2_none_win7/CHATM2_slide42_2018_01_22-S1_prep2_none_win7_inception-bn-blue_features.bp\" && mkdir -p \"/data/CSHL_patch_features/inception-bn-blue/CHATM2/CHATM2_prep2_none_win7\"\n",
      "0"
     ]
    },
    {
     "name": "stderr",
     "output_type": "stream",
     "text": [
      "Save features: 4.59 seconds\n",
      "locate patches: 0.06 seconds\n"
     ]
    },
    {
     "name": "stdout",
     "output_type": "stream",
     "text": [
      "\n",
      "aws s3 cp \"s3://mousebrainatlas-data/CSHL_patch_features/inception-bn-blue/CHATM2/CHATM2_prep2_none_win7/CHATM2_slide42_2018_01_22-S1_prep2_none_win7_inception-bn-blue_features.bp\" \"/data/CSHL_patch_features/inception-bn-blue/CHATM2/CHATM2_prep2_none_win7/CHATM2_slide42_2018_01_22-S1_prep2_none_win7_inception-bn-blue_features.bp\"\n",
      "1\n"
     ]
    },
    {
     "name": "stderr",
     "output_type": "stream",
     "text": [
      "Features for CHATM2, 122/CHATM2_slide42_2018_01_22-S1 does not exist.\n",
      "No pre-computed features found... computing from scratch.\n",
      "Not using image_cache.\n"
     ]
    },
    {
     "name": "stdout",
     "output_type": "stream",
     "text": [
      "/data/CSHL_data_processed/CHATM2/CHATM2_prep2_raw_NtbNormalizedAdaptiveInvertedGamma/CHATM2_slide42_2018_01_22-S1_prep2_raw_NtbNormalizedAdaptiveInvertedGamma.tif\n"
     ]
    },
    {
     "name": "stderr",
     "output_type": "stream",
     "text": [
      "Load image: 5.29 seconds.\n",
      "Rescale image from 317 to 224: 4.90 seconds.\n",
      "Crop patches: 1.62 seconds.\n",
      "Extract patches: 11.84 seconds\n"
     ]
    },
    {
     "name": "stdout",
     "output_type": "stream",
     "text": [
      "(35677, 1, 224, 224)\n"
     ]
    },
    {
     "name": "stderr",
     "output_type": "stream",
     "text": [
      "Compute features: 60.52 seconds\n",
      "Compute features at one section, multiple locations: 72.41 seconds\n"
     ]
    },
    {
     "name": "stdout",
     "output_type": "stream",
     "text": [
      "aws s3 cp \"/data/CSHL_patch_features/inception-bn-blue/CHATM2/CHATM2_prep2_none_win7/CHATM2_slide42_2018_01_22-S1_prep2_none_win7_inception-bn-blue_features.bp\" \"s3://mousebrainatlas-data/CSHL_patch_features/inception-bn-blue/CHATM2/CHATM2_prep2_none_win7/CHATM2_slide42_2018_01_22-S1_prep2_none_win7_inception-bn-blue_features.bp\"\n",
      "0\n",
      "aws s3 cp \"/data/CSHL_patch_features/inception-bn-blue/CHATM2/CHATM2_prep2_none_win7/CHATM2_slide42_2018_01_22-S1_prep2_none_win7_inception-bn-blue_locations.bp\" \"s3://mousebrainatlas-data/CSHL_patch_features/inception-bn-blue/CHATM2/CHATM2_prep2_none_win7/CHATM2_slide42_2018_01_22-S1_prep2_none_win7_inception-bn-blue_locations.bp\"\n",
      "0\n",
      "rm -rf \"/data/CSHL_patch_features/inception-bn-blue/CHATM2/CHATM2_prep2_none_win7/CHATM2_slide41_2018_01_22-S2_prep2_none_win7_inception-bn-blue_features.bp\" && mkdir -p \"/data/CSHL_patch_features/inception-bn-blue/CHATM2/CHATM2_prep2_none_win7\"\n"
     ]
    },
    {
     "name": "stderr",
     "output_type": "stream",
     "text": [
      "Save features: 5.20 seconds\n",
      "locate patches: 0.11 seconds\n"
     ]
    },
    {
     "name": "stdout",
     "output_type": "stream",
     "text": [
      "0\n",
      "aws s3 cp \"s3://mousebrainatlas-data/CSHL_patch_features/inception-bn-blue/CHATM2/CHATM2_prep2_none_win7/CHATM2_slide41_2018_01_22-S2_prep2_none_win7_inception-bn-blue_features.bp\" \"/data/CSHL_patch_features/inception-bn-blue/CHATM2/CHATM2_prep2_none_win7/CHATM2_slide41_2018_01_22-S2_prep2_none_win7_inception-bn-blue_features.bp\"\n",
      "1\n"
     ]
    },
    {
     "name": "stderr",
     "output_type": "stream",
     "text": [
      "Features for CHATM2, 123/CHATM2_slide41_2018_01_22-S2 does not exist.\n",
      "No pre-computed features found... computing from scratch.\n",
      "Not using image_cache.\n"
     ]
    },
    {
     "name": "stdout",
     "output_type": "stream",
     "text": [
      "/data/CSHL_data_processed/CHATM2/CHATM2_prep2_raw_NtbNormalizedAdaptiveInvertedGamma/CHATM2_slide41_2018_01_22-S2_prep2_raw_NtbNormalizedAdaptiveInvertedGamma.tif\n"
     ]
    },
    {
     "name": "stderr",
     "output_type": "stream",
     "text": [
      "Load image: 4.90 seconds.\n",
      "Rescale image from 317 to 224: 6.93 seconds.\n",
      "Crop patches: 2.20 seconds.\n",
      "Extract patches: 14.05 seconds\n"
     ]
    },
    {
     "name": "stdout",
     "output_type": "stream",
     "text": [
      "(34497, 1, 224, 224)\n"
     ]
    },
    {
     "name": "stderr",
     "output_type": "stream",
     "text": [
      "Compute features: 60.99 seconds\n",
      "Compute features at one section, multiple locations: 75.09 seconds\n"
     ]
    },
    {
     "name": "stdout",
     "output_type": "stream",
     "text": [
      "aws s3 cp \"/data/CSHL_patch_features/inception-bn-blue/CHATM2/CHATM2_prep2_none_win7/CHATM2_slide41_2018_01_22-S2_prep2_none_win7_inception-bn-blue_features.bp\" \"s3://mousebrainatlas-data/CSHL_patch_features/inception-bn-blue/CHATM2/CHATM2_prep2_none_win7/CHATM2_slide41_2018_01_22-S2_prep2_none_win7_inception-bn-blue_features.bp\"\n",
      "0\n",
      "aws s3 cp \"/data/CSHL_patch_features/inception-bn-blue/CHATM2/CHATM2_prep2_none_win7/CHATM2_slide41_2018_01_22-S2_prep2_none_win7_inception-bn-blue_locations.bp\" \"s3://mousebrainatlas-data/CSHL_patch_features/inception-bn-blue/CHATM2/CHATM2_prep2_none_win7/CHATM2_slide41_2018_01_22-S2_prep2_none_win7_inception-bn-blue_locations.bp\"\n",
      "0\n",
      "rm -rf \"/data/CSHL_patch_features/inception-bn-blue/CHATM2/CHATM2_prep2_none_win7/CHATM2_slide42_2018_01_22-S2_prep2_none_win7_inception-bn-blue_features.bp\" && mkdir -p \"/data/CSHL_patch_features/inception-bn-blue/CHATM2/CHATM2_prep2_none_win7\"\n"
     ]
    },
    {
     "name": "stderr",
     "output_type": "stream",
     "text": [
      "Save features: 6.99 seconds\n",
      "locate patches: 0.11 seconds\n"
     ]
    },
    {
     "name": "stdout",
     "output_type": "stream",
     "text": [
      "0\n",
      "aws s3 cp \"s3://mousebrainatlas-data/CSHL_patch_features/inception-bn-blue/CHATM2/CHATM2_prep2_none_win7/CHATM2_slide42_2018_01_22-S2_prep2_none_win7_inception-bn-blue_features.bp\" \"/data/CSHL_patch_features/inception-bn-blue/CHATM2/CHATM2_prep2_none_win7/CHATM2_slide42_2018_01_22-S2_prep2_none_win7_inception-bn-blue_features.bp\"\n",
      "1\n"
     ]
    },
    {
     "name": "stderr",
     "output_type": "stream",
     "text": [
      "Features for CHATM2, 124/CHATM2_slide42_2018_01_22-S2 does not exist.\n",
      "No pre-computed features found... computing from scratch.\n",
      "Not using image_cache.\n"
     ]
    },
    {
     "name": "stdout",
     "output_type": "stream",
     "text": [
      "/data/CSHL_data_processed/CHATM2/CHATM2_prep2_raw_NtbNormalizedAdaptiveInvertedGamma/CHATM2_slide42_2018_01_22-S2_prep2_raw_NtbNormalizedAdaptiveInvertedGamma.tif\n"
     ]
    },
    {
     "name": "stderr",
     "output_type": "stream",
     "text": [
      "Load image: 6.92 seconds.\n",
      "Rescale image from 317 to 224: 7.07 seconds.\n",
      "Crop patches: 3.30 seconds.\n",
      "Extract patches: 17.32 seconds\n"
     ]
    },
    {
     "name": "stdout",
     "output_type": "stream",
     "text": [
      "(35679, 1, 224, 224)\n"
     ]
    },
    {
     "name": "stderr",
     "output_type": "stream",
     "text": [
      "Compute features: 68.88 seconds\n",
      "Compute features at one section, multiple locations: 86.27 seconds\n"
     ]
    },
    {
     "name": "stdout",
     "output_type": "stream",
     "text": [
      "aws s3 cp \"/data/CSHL_patch_features/inception-bn-blue/CHATM2/CHATM2_prep2_none_win7/CHATM2_slide42_2018_01_22-S2_prep2_none_win7_inception-bn-blue_features.bp\" \"s3://mousebrainatlas-data/CSHL_patch_features/inception-bn-blue/CHATM2/CHATM2_prep2_none_win7/CHATM2_slide42_2018_01_22-S2_prep2_none_win7_inception-bn-blue_features.bp\"\n",
      "0\n",
      "aws s3 cp \"/data/CSHL_patch_features/inception-bn-blue/CHATM2/CHATM2_prep2_none_win7/CHATM2_slide42_2018_01_22-S2_prep2_none_win7_inception-bn-blue_locations.bp\" \"s3://mousebrainatlas-data/CSHL_patch_features/inception-bn-blue/CHATM2/CHATM2_prep2_none_win7/CHATM2_slide42_2018_01_22-S2_prep2_none_win7_inception-bn-blue_locations.bp\"\n",
      "0\n",
      "rm -rf \"/data/CSHL_patch_features/inception-bn-blue/CHATM2/CHATM2_prep2_none_win7/CHATM2_slide41_2018_01_22-S3_prep2_none_win7_inception-bn-blue_features.bp\" && mkdir -p \"/data/CSHL_patch_features/inception-bn-blue/CHATM2/CHATM2_prep2_none_win7\"\n",
      "0\n",
      "aws s3 cp \"s3://mousebrainatlas-data/CSHL_patch_features/inception-bn-blue/CHATM2/CHATM2_prep2_none_win7/CHATM2_slide41_2018_01_22-S3_prep2_none_win7_inception-bn-blue_features.bp\" \"/data/CSHL_patch_features/inception-bn-blue/CHATM2/CHATM2_prep2_none_win7/CHATM2_slide41_2018_01_22-S3_prep2_none_win7_inception-bn-blue_features.bp\"\n"
     ]
    },
    {
     "name": "stderr",
     "output_type": "stream",
     "text": [
      "Save features: 4.39 seconds\n",
      "locate patches: 0.05 seconds\n"
     ]
    },
    {
     "name": "stdout",
     "output_type": "stream",
     "text": [
      "1\n"
     ]
    },
    {
     "name": "stderr",
     "output_type": "stream",
     "text": [
      "Features for CHATM2, 125/CHATM2_slide41_2018_01_22-S3 does not exist.\n",
      "No pre-computed features found... computing from scratch.\n",
      "Not using image_cache.\n"
     ]
    },
    {
     "name": "stdout",
     "output_type": "stream",
     "text": [
      "/data/CSHL_data_processed/CHATM2/CHATM2_prep2_raw_NtbNormalizedAdaptiveInvertedGamma/CHATM2_slide41_2018_01_22-S3_prep2_raw_NtbNormalizedAdaptiveInvertedGamma.tif\n"
     ]
    },
    {
     "name": "stderr",
     "output_type": "stream",
     "text": [
      "Load image: 4.08 seconds.\n",
      "Rescale image from 317 to 224: 6.24 seconds.\n",
      "Crop patches: 2.35 seconds.\n",
      "Extract patches: 12.72 seconds\n"
     ]
    },
    {
     "name": "stdout",
     "output_type": "stream",
     "text": [
      "(35894, 1, 224, 224)\n"
     ]
    },
    {
     "name": "stderr",
     "output_type": "stream",
     "text": [
      "Compute features: 78.34 seconds\n",
      "Compute features at one section, multiple locations: 91.12 seconds\n"
     ]
    },
    {
     "name": "stdout",
     "output_type": "stream",
     "text": [
      "aws s3 cp \"/data/CSHL_patch_features/inception-bn-blue/CHATM2/CHATM2_prep2_none_win7/CHATM2_slide41_2018_01_22-S3_prep2_none_win7_inception-bn-blue_features.bp\" \"s3://mousebrainatlas-data/CSHL_patch_features/inception-bn-blue/CHATM2/CHATM2_prep2_none_win7/CHATM2_slide41_2018_01_22-S3_prep2_none_win7_inception-bn-blue_features.bp\"\n",
      "0\n",
      "aws s3 cp \"/data/CSHL_patch_features/inception-bn-blue/CHATM2/CHATM2_prep2_none_win7/CHATM2_slide41_2018_01_22-S3_prep2_none_win7_inception-bn-blue_locations.bp\" \"s3://mousebrainatlas-data/CSHL_patch_features/inception-bn-blue/CHATM2/CHATM2_prep2_none_win7/CHATM2_slide41_2018_01_22-S3_prep2_none_win7_inception-bn-blue_locations.bp\"\n",
      "0\n",
      "rm -rf \"/data/CSHL_patch_features/inception-bn-blue/CHATM2/CHATM2_prep2_none_win7/CHATM2_slide42_2018_01_22-S3_prep2_none_win7_inception-bn-blue_features.bp\" && mkdir -p \"/data/CSHL_patch_features/inception-bn-blue/CHATM2/CHATM2_prep2_none_win7\"\n",
      "0"
     ]
    },
    {
     "name": "stderr",
     "output_type": "stream",
     "text": [
      "Save features: 4.86 seconds\n",
      "locate patches: 0.05 seconds\n"
     ]
    },
    {
     "name": "stdout",
     "output_type": "stream",
     "text": [
      "\n",
      "aws s3 cp \"s3://mousebrainatlas-data/CSHL_patch_features/inception-bn-blue/CHATM2/CHATM2_prep2_none_win7/CHATM2_slide42_2018_01_22-S3_prep2_none_win7_inception-bn-blue_features.bp\" \"/data/CSHL_patch_features/inception-bn-blue/CHATM2/CHATM2_prep2_none_win7/CHATM2_slide42_2018_01_22-S3_prep2_none_win7_inception-bn-blue_features.bp\"\n",
      "1\n"
     ]
    },
    {
     "name": "stderr",
     "output_type": "stream",
     "text": [
      "Features for CHATM2, 126/CHATM2_slide42_2018_01_22-S3 does not exist.\n",
      "No pre-computed features found... computing from scratch.\n",
      "Not using image_cache.\n"
     ]
    },
    {
     "name": "stdout",
     "output_type": "stream",
     "text": [
      "/data/CSHL_data_processed/CHATM2/CHATM2_prep2_raw_NtbNormalizedAdaptiveInvertedGamma/CHATM2_slide42_2018_01_22-S3_prep2_raw_NtbNormalizedAdaptiveInvertedGamma.tif\n"
     ]
    },
    {
     "name": "stderr",
     "output_type": "stream",
     "text": [
      "Load image: 3.91 seconds.\n",
      "Rescale image from 317 to 224: 4.40 seconds.\n",
      "Crop patches: 1.55 seconds.\n",
      "Extract patches: 9.88 seconds\n"
     ]
    },
    {
     "name": "stdout",
     "output_type": "stream",
     "text": [
      "(35707, 1, 224, 224)\n"
     ]
    },
    {
     "name": "stderr",
     "output_type": "stream",
     "text": [
      "Compute features: 67.67 seconds\n",
      "Compute features at one section, multiple locations: 77.60 seconds\n"
     ]
    },
    {
     "name": "stdout",
     "output_type": "stream",
     "text": [
      "aws s3 cp \"/data/CSHL_patch_features/inception-bn-blue/CHATM2/CHATM2_prep2_none_win7/CHATM2_slide42_2018_01_22-S3_prep2_none_win7_inception-bn-blue_features.bp\" \"s3://mousebrainatlas-data/CSHL_patch_features/inception-bn-blue/CHATM2/CHATM2_prep2_none_win7/CHATM2_slide42_2018_01_22-S3_prep2_none_win7_inception-bn-blue_features.bp\"\n",
      "0\n",
      "aws s3 cp \"/data/CSHL_patch_features/inception-bn-blue/CHATM2/CHATM2_prep2_none_win7/CHATM2_slide42_2018_01_22-S3_prep2_none_win7_inception-bn-blue_locations.bp\" \"s3://mousebrainatlas-data/CSHL_patch_features/inception-bn-blue/CHATM2/CHATM2_prep2_none_win7/CHATM2_slide42_2018_01_22-S3_prep2_none_win7_inception-bn-blue_locations.bp\"\n",
      "0\n",
      "rm -rf \"/data/CSHL_patch_features/inception-bn-blue/CHATM2/CHATM2_prep2_none_win7/CHATM2_slide43_2018_01_22-S1_prep2_none_win7_inception-bn-blue_features.bp\" && mkdir -p \"/data/CSHL_patch_features/inception-bn-blue/CHATM2/CHATM2_prep2_none_win7\"\n",
      "0"
     ]
    },
    {
     "name": "stderr",
     "output_type": "stream",
     "text": [
      "Save features: 4.27 seconds\n",
      "locate patches: 0.06 seconds\n"
     ]
    },
    {
     "name": "stdout",
     "output_type": "stream",
     "text": [
      "\n",
      "aws s3 cp \"s3://mousebrainatlas-data/CSHL_patch_features/inception-bn-blue/CHATM2/CHATM2_prep2_none_win7/CHATM2_slide43_2018_01_22-S1_prep2_none_win7_inception-bn-blue_features.bp\" \"/data/CSHL_patch_features/inception-bn-blue/CHATM2/CHATM2_prep2_none_win7/CHATM2_slide43_2018_01_22-S1_prep2_none_win7_inception-bn-blue_features.bp\"\n",
      "1\n"
     ]
    },
    {
     "name": "stderr",
     "output_type": "stream",
     "text": [
      "Features for CHATM2, 127/CHATM2_slide43_2018_01_22-S1 does not exist.\n",
      "No pre-computed features found... computing from scratch.\n",
      "Not using image_cache.\n"
     ]
    },
    {
     "name": "stdout",
     "output_type": "stream",
     "text": [
      "/data/CSHL_data_processed/CHATM2/CHATM2_prep2_raw_NtbNormalizedAdaptiveInvertedGamma/CHATM2_slide43_2018_01_22-S1_prep2_raw_NtbNormalizedAdaptiveInvertedGamma.tif\n"
     ]
    },
    {
     "name": "stderr",
     "output_type": "stream",
     "text": [
      "Load image: 3.63 seconds.\n",
      "Rescale image from 317 to 224: 5.02 seconds.\n",
      "Crop patches: 1.66 seconds.\n",
      "Extract patches: 10.35 seconds\n"
     ]
    },
    {
     "name": "stdout",
     "output_type": "stream",
     "text": [
      "(36460, 1, 224, 224)\n"
     ]
    },
    {
     "name": "stderr",
     "output_type": "stream",
     "text": [
      "Compute features: 64.75 seconds\n",
      "Compute features at one section, multiple locations: 75.15 seconds\n"
     ]
    },
    {
     "name": "stdout",
     "output_type": "stream",
     "text": [
      "aws s3 cp \"/data/CSHL_patch_features/inception-bn-blue/CHATM2/CHATM2_prep2_none_win7/CHATM2_slide43_2018_01_22-S1_prep2_none_win7_inception-bn-blue_features.bp\" \"s3://mousebrainatlas-data/CSHL_patch_features/inception-bn-blue/CHATM2/CHATM2_prep2_none_win7/CHATM2_slide43_2018_01_22-S1_prep2_none_win7_inception-bn-blue_features.bp\"\n",
      "0\n",
      "aws s3 cp \"/data/CSHL_patch_features/inception-bn-blue/CHATM2/CHATM2_prep2_none_win7/CHATM2_slide43_2018_01_22-S1_prep2_none_win7_inception-bn-blue_locations.bp\" \"s3://mousebrainatlas-data/CSHL_patch_features/inception-bn-blue/CHATM2/CHATM2_prep2_none_win7/CHATM2_slide43_2018_01_22-S1_prep2_none_win7_inception-bn-blue_locations.bp\"\n",
      "0\n",
      "rm -rf \"/data/CSHL_patch_features/inception-bn-blue/CHATM2/CHATM2_prep2_none_win7/CHATM2_slide44_2018_01_22-S1_prep2_none_win7_inception-bn-blue_features.bp\" && mkdir -p \"/data/CSHL_patch_features/inception-bn-blue/CHATM2/CHATM2_prep2_none_win7\"\n",
      "0"
     ]
    },
    {
     "name": "stderr",
     "output_type": "stream",
     "text": [
      "Save features: 4.53 seconds\n",
      "locate patches: 0.08 seconds\n"
     ]
    },
    {
     "name": "stdout",
     "output_type": "stream",
     "text": [
      "\n",
      "aws s3 cp \"s3://mousebrainatlas-data/CSHL_patch_features/inception-bn-blue/CHATM2/CHATM2_prep2_none_win7/CHATM2_slide44_2018_01_22-S1_prep2_none_win7_inception-bn-blue_features.bp\" \"/data/CSHL_patch_features/inception-bn-blue/CHATM2/CHATM2_prep2_none_win7/CHATM2_slide44_2018_01_22-S1_prep2_none_win7_inception-bn-blue_features.bp\"\n",
      "1\n"
     ]
    },
    {
     "name": "stderr",
     "output_type": "stream",
     "text": [
      "Features for CHATM2, 128/CHATM2_slide44_2018_01_22-S1 does not exist.\n",
      "No pre-computed features found... computing from scratch.\n",
      "Not using image_cache.\n"
     ]
    },
    {
     "name": "stdout",
     "output_type": "stream",
     "text": [
      "/data/CSHL_data_processed/CHATM2/CHATM2_prep2_raw_NtbNormalizedAdaptiveInvertedGamma/CHATM2_slide44_2018_01_22-S1_prep2_raw_NtbNormalizedAdaptiveInvertedGamma.tif\n"
     ]
    },
    {
     "name": "stderr",
     "output_type": "stream",
     "text": [
      "Load image: 4.36 seconds.\n",
      "Rescale image from 317 to 224: 5.03 seconds.\n",
      "Crop patches: 1.73 seconds.\n",
      "Extract patches: 11.14 seconds\n"
     ]
    },
    {
     "name": "stdout",
     "output_type": "stream",
     "text": [
      "(36193, 1, 224, 224)\n"
     ]
    },
    {
     "name": "stderr",
     "output_type": "stream",
     "text": [
      "Compute features: 61.69 seconds\n",
      "Compute features at one section, multiple locations: 72.88 seconds\n"
     ]
    },
    {
     "name": "stdout",
     "output_type": "stream",
     "text": [
      "aws s3 cp \"/data/CSHL_patch_features/inception-bn-blue/CHATM2/CHATM2_prep2_none_win7/CHATM2_slide44_2018_01_22-S1_prep2_none_win7_inception-bn-blue_features.bp\" \"s3://mousebrainatlas-data/CSHL_patch_features/inception-bn-blue/CHATM2/CHATM2_prep2_none_win7/CHATM2_slide44_2018_01_22-S1_prep2_none_win7_inception-bn-blue_features.bp\"\n",
      "0\n",
      "aws s3 cp \"/data/CSHL_patch_features/inception-bn-blue/CHATM2/CHATM2_prep2_none_win7/CHATM2_slide44_2018_01_22-S1_prep2_none_win7_inception-bn-blue_locations.bp\" \"s3://mousebrainatlas-data/CSHL_patch_features/inception-bn-blue/CHATM2/CHATM2_prep2_none_win7/CHATM2_slide44_2018_01_22-S1_prep2_none_win7_inception-bn-blue_locations.bp\"\n",
      "0\n",
      "rm -rf \"/data/CSHL_patch_features/inception-bn-blue/CHATM2/CHATM2_prep2_none_win7/CHATM2_slide43_2018_01_22-S2_prep2_none_win7_inception-bn-blue_features.bp\" && mkdir -p \"/data/CSHL_patch_features/inception-bn-blue/CHATM2/CHATM2_prep2_none_win7\"\n"
     ]
    },
    {
     "name": "stderr",
     "output_type": "stream",
     "text": [
      "Save features: 5.37 seconds\n",
      "locate patches: 0.10 seconds\n"
     ]
    },
    {
     "name": "stdout",
     "output_type": "stream",
     "text": [
      "0\n",
      "aws s3 cp \"s3://mousebrainatlas-data/CSHL_patch_features/inception-bn-blue/CHATM2/CHATM2_prep2_none_win7/CHATM2_slide43_2018_01_22-S2_prep2_none_win7_inception-bn-blue_features.bp\" \"/data/CSHL_patch_features/inception-bn-blue/CHATM2/CHATM2_prep2_none_win7/CHATM2_slide43_2018_01_22-S2_prep2_none_win7_inception-bn-blue_features.bp\"\n",
      "1\n"
     ]
    },
    {
     "name": "stderr",
     "output_type": "stream",
     "text": [
      "Features for CHATM2, 129/CHATM2_slide43_2018_01_22-S2 does not exist.\n",
      "No pre-computed features found... computing from scratch.\n",
      "Not using image_cache.\n"
     ]
    },
    {
     "name": "stdout",
     "output_type": "stream",
     "text": [
      "/data/CSHL_data_processed/CHATM2/CHATM2_prep2_raw_NtbNormalizedAdaptiveInvertedGamma/CHATM2_slide43_2018_01_22-S2_prep2_raw_NtbNormalizedAdaptiveInvertedGamma.tif\n"
     ]
    },
    {
     "name": "stderr",
     "output_type": "stream",
     "text": [
      "Load image: 6.18 seconds.\n",
      "Rescale image from 317 to 224: 7.92 seconds.\n",
      "Crop patches: 2.24 seconds.\n",
      "Extract patches: 16.37 seconds\n"
     ]
    },
    {
     "name": "stdout",
     "output_type": "stream",
     "text": [
      "(36687, 1, 224, 224)\n"
     ]
    },
    {
     "name": "stderr",
     "output_type": "stream",
     "text": [
      "Compute features: 63.65 seconds\n",
      "Compute features at one section, multiple locations: 80.07 seconds\n"
     ]
    },
    {
     "name": "stdout",
     "output_type": "stream",
     "text": [
      "aws s3 cp \"/data/CSHL_patch_features/inception-bn-blue/CHATM2/CHATM2_prep2_none_win7/CHATM2_slide43_2018_01_22-S2_prep2_none_win7_inception-bn-blue_features.bp\" \"s3://mousebrainatlas-data/CSHL_patch_features/inception-bn-blue/CHATM2/CHATM2_prep2_none_win7/CHATM2_slide43_2018_01_22-S2_prep2_none_win7_inception-bn-blue_features.bp\"\n",
      "0\n",
      "aws s3 cp \"/data/CSHL_patch_features/inception-bn-blue/CHATM2/CHATM2_prep2_none_win7/CHATM2_slide43_2018_01_22-S2_prep2_none_win7_inception-bn-blue_locations.bp\" \"s3://mousebrainatlas-data/CSHL_patch_features/inception-bn-blue/CHATM2/CHATM2_prep2_none_win7/CHATM2_slide43_2018_01_22-S2_prep2_none_win7_inception-bn-blue_locations.bp\"\n",
      "0\n",
      "rm -rf \"/data/CSHL_patch_features/inception-bn-blue/CHATM2/CHATM2_prep2_none_win7/CHATM2_slide44_2018_01_22-S2_prep2_none_win7_inception-bn-blue_features.bp\" && mkdir -p \"/data/CSHL_patch_features/inception-bn-blue/CHATM2/CHATM2_prep2_none_win7\"\n",
      "0\n",
      "aws s3 cp \"s3://mousebrainatlas-data/CSHL_patch_features/inception-bn-blue/CHATM2/CHATM2_prep2_none_win7/CHATM2_slide44_2018_01_22-S2_prep2_none_win7_inception-bn-blue_features.bp\" \"/data/CSHL_patch_features/inception-bn-blue/CHATM2/CHATM2_prep2_none_win7/CHATM2_slide44_2018_01_22-S2_prep2_none_win7_inception-bn-blue_features.bp\""
     ]
    },
    {
     "name": "stderr",
     "output_type": "stream",
     "text": [
      "Save features: 4.33 seconds\n",
      "locate patches: 0.04 seconds\n"
     ]
    },
    {
     "name": "stdout",
     "output_type": "stream",
     "text": [
      "\n",
      "1\n"
     ]
    },
    {
     "name": "stderr",
     "output_type": "stream",
     "text": [
      "Features for CHATM2, 130/CHATM2_slide44_2018_01_22-S2 does not exist.\n",
      "No pre-computed features found... computing from scratch.\n",
      "Not using image_cache.\n"
     ]
    },
    {
     "name": "stdout",
     "output_type": "stream",
     "text": [
      "/data/CSHL_data_processed/CHATM2/CHATM2_prep2_raw_NtbNormalizedAdaptiveInvertedGamma/CHATM2_slide44_2018_01_22-S2_prep2_raw_NtbNormalizedAdaptiveInvertedGamma.tif\n"
     ]
    },
    {
     "name": "stderr",
     "output_type": "stream",
     "text": [
      "Load image: 3.98 seconds.\n",
      "Rescale image from 317 to 224: 4.57 seconds.\n",
      "Crop patches: 1.66 seconds.\n",
      "Extract patches: 10.23 seconds\n"
     ]
    },
    {
     "name": "stdout",
     "output_type": "stream",
     "text": [
      "(36666, 1, 224, 224)\n"
     ]
    },
    {
     "name": "stderr",
     "output_type": "stream",
     "text": [
      "Compute features: 69.35 seconds\n",
      "Compute features at one section, multiple locations: 79.63 seconds\n"
     ]
    },
    {
     "name": "stdout",
     "output_type": "stream",
     "text": [
      "aws s3 cp \"/data/CSHL_patch_features/inception-bn-blue/CHATM2/CHATM2_prep2_none_win7/CHATM2_slide44_2018_01_22-S2_prep2_none_win7_inception-bn-blue_features.bp\" \"s3://mousebrainatlas-data/CSHL_patch_features/inception-bn-blue/CHATM2/CHATM2_prep2_none_win7/CHATM2_slide44_2018_01_22-S2_prep2_none_win7_inception-bn-blue_features.bp\"\n",
      "0\n",
      "aws s3 cp \"/data/CSHL_patch_features/inception-bn-blue/CHATM2/CHATM2_prep2_none_win7/CHATM2_slide44_2018_01_22-S2_prep2_none_win7_inception-bn-blue_locations.bp\" \"s3://mousebrainatlas-data/CSHL_patch_features/inception-bn-blue/CHATM2/CHATM2_prep2_none_win7/CHATM2_slide44_2018_01_22-S2_prep2_none_win7_inception-bn-blue_locations.bp\"\n",
      "0\n",
      "rm -rf \"/data/CSHL_patch_features/inception-bn-blue/CHATM2/CHATM2_prep2_none_win7/CHATM2_slide43_2018_01_22-S3_prep2_none_win7_inception-bn-blue_features.bp\" && mkdir -p \"/data/CSHL_patch_features/inception-bn-blue/CHATM2/CHATM2_prep2_none_win7\"\n",
      "0\n"
     ]
    },
    {
     "name": "stderr",
     "output_type": "stream",
     "text": [
      "Save features: 4.24 seconds\n",
      "locate patches: 0.05 seconds\n"
     ]
    },
    {
     "name": "stdout",
     "output_type": "stream",
     "text": [
      "aws s3 cp \"s3://mousebrainatlas-data/CSHL_patch_features/inception-bn-blue/CHATM2/CHATM2_prep2_none_win7/CHATM2_slide43_2018_01_22-S3_prep2_none_win7_inception-bn-blue_features.bp\" \"/data/CSHL_patch_features/inception-bn-blue/CHATM2/CHATM2_prep2_none_win7/CHATM2_slide43_2018_01_22-S3_prep2_none_win7_inception-bn-blue_features.bp\"\n",
      "1\n"
     ]
    },
    {
     "name": "stderr",
     "output_type": "stream",
     "text": [
      "Features for CHATM2, 131/CHATM2_slide43_2018_01_22-S3 does not exist.\n",
      "No pre-computed features found... computing from scratch.\n",
      "Not using image_cache.\n"
     ]
    },
    {
     "name": "stdout",
     "output_type": "stream",
     "text": [
      "/data/CSHL_data_processed/CHATM2/CHATM2_prep2_raw_NtbNormalizedAdaptiveInvertedGamma/CHATM2_slide43_2018_01_22-S3_prep2_raw_NtbNormalizedAdaptiveInvertedGamma.tif\n"
     ]
    },
    {
     "name": "stderr",
     "output_type": "stream",
     "text": [
      "Load image: 3.89 seconds.\n",
      "Rescale image from 317 to 224: 5.06 seconds.\n",
      "Crop patches: 1.55 seconds.\n",
      "Extract patches: 10.51 seconds\n"
     ]
    },
    {
     "name": "stdout",
     "output_type": "stream",
     "text": [
      "(37059, 1, 224, 224)\n"
     ]
    },
    {
     "name": "stderr",
     "output_type": "stream",
     "text": [
      "Compute features: 62.75 seconds\n",
      "Compute features at one section, multiple locations: 73.31 seconds\n"
     ]
    },
    {
     "name": "stdout",
     "output_type": "stream",
     "text": [
      "aws s3 cp \"/data/CSHL_patch_features/inception-bn-blue/CHATM2/CHATM2_prep2_none_win7/CHATM2_slide43_2018_01_22-S3_prep2_none_win7_inception-bn-blue_features.bp\" \"s3://mousebrainatlas-data/CSHL_patch_features/inception-bn-blue/CHATM2/CHATM2_prep2_none_win7/CHATM2_slide43_2018_01_22-S3_prep2_none_win7_inception-bn-blue_features.bp\"\n",
      "0\n",
      "aws s3 cp \"/data/CSHL_patch_features/inception-bn-blue/CHATM2/CHATM2_prep2_none_win7/CHATM2_slide43_2018_01_22-S3_prep2_none_win7_inception-bn-blue_locations.bp\" \"s3://mousebrainatlas-data/CSHL_patch_features/inception-bn-blue/CHATM2/CHATM2_prep2_none_win7/CHATM2_slide43_2018_01_22-S3_prep2_none_win7_inception-bn-blue_locations.bp\"\n",
      "0\n",
      "rm -rf \"/data/CSHL_patch_features/inception-bn-blue/CHATM2/CHATM2_prep2_none_win7/CHATM2_slide44_2018_01_22-S3_prep2_none_win7_inception-bn-blue_features.bp\" && mkdir -p \"/data/CSHL_patch_features/inception-bn-blue/CHATM2/CHATM2_prep2_none_win7\"\n"
     ]
    },
    {
     "name": "stderr",
     "output_type": "stream",
     "text": [
      "Save features: 4.16 seconds\n",
      "locate patches: 0.17 seconds\n"
     ]
    },
    {
     "name": "stdout",
     "output_type": "stream",
     "text": [
      "0\n",
      "aws s3 cp \"s3://mousebrainatlas-data/CSHL_patch_features/inception-bn-blue/CHATM2/CHATM2_prep2_none_win7/CHATM2_slide44_2018_01_22-S3_prep2_none_win7_inception-bn-blue_features.bp\" \"/data/CSHL_patch_features/inception-bn-blue/CHATM2/CHATM2_prep2_none_win7/CHATM2_slide44_2018_01_22-S3_prep2_none_win7_inception-bn-blue_features.bp\"\n",
      "1\n"
     ]
    },
    {
     "name": "stderr",
     "output_type": "stream",
     "text": [
      "Features for CHATM2, 132/CHATM2_slide44_2018_01_22-S3 does not exist.\n",
      "No pre-computed features found... computing from scratch.\n",
      "Not using image_cache.\n"
     ]
    },
    {
     "name": "stdout",
     "output_type": "stream",
     "text": [
      "/data/CSHL_data_processed/CHATM2/CHATM2_prep2_raw_NtbNormalizedAdaptiveInvertedGamma/CHATM2_slide44_2018_01_22-S3_prep2_raw_NtbNormalizedAdaptiveInvertedGamma.tif\n"
     ]
    },
    {
     "name": "stderr",
     "output_type": "stream",
     "text": [
      "Load image: 4.52 seconds.\n",
      "Rescale image from 317 to 224: 5.40 seconds.\n",
      "Crop patches: 1.97 seconds.\n",
      "Extract patches: 11.91 seconds\n"
     ]
    },
    {
     "name": "stdout",
     "output_type": "stream",
     "text": [
      "(37094, 1, 224, 224)\n"
     ]
    },
    {
     "name": "stderr",
     "output_type": "stream",
     "text": [
      "Compute features: 62.14 seconds\n",
      "Compute features at one section, multiple locations: 74.10 seconds\n"
     ]
    },
    {
     "name": "stdout",
     "output_type": "stream",
     "text": [
      "aws s3 cp \"/data/CSHL_patch_features/inception-bn-blue/CHATM2/CHATM2_prep2_none_win7/CHATM2_slide44_2018_01_22-S3_prep2_none_win7_inception-bn-blue_features.bp\" \"s3://mousebrainatlas-data/CSHL_patch_features/inception-bn-blue/CHATM2/CHATM2_prep2_none_win7/CHATM2_slide44_2018_01_22-S3_prep2_none_win7_inception-bn-blue_features.bp\"\n",
      "0\n",
      "aws s3 cp \"/data/CSHL_patch_features/inception-bn-blue/CHATM2/CHATM2_prep2_none_win7/CHATM2_slide44_2018_01_22-S3_prep2_none_win7_inception-bn-blue_locations.bp\" \"s3://mousebrainatlas-data/CSHL_patch_features/inception-bn-blue/CHATM2/CHATM2_prep2_none_win7/CHATM2_slide44_2018_01_22-S3_prep2_none_win7_inception-bn-blue_locations.bp\"\n",
      "0\n",
      "rm -rf \"/data/CSHL_patch_features/inception-bn-blue/CHATM2/CHATM2_prep2_none_win7/CHATM2_slide45_2018_01_22-S1_prep2_none_win7_inception-bn-blue_features.bp\" && mkdir -p \"/data/CSHL_patch_features/inception-bn-blue/CHATM2/CHATM2_prep2_none_win7\"\n"
     ]
    },
    {
     "name": "stderr",
     "output_type": "stream",
     "text": [
      "Save features: 5.95 seconds\n",
      "locate patches: 0.08 seconds\n"
     ]
    },
    {
     "name": "stdout",
     "output_type": "stream",
     "text": [
      "0\n",
      "aws s3 cp \"s3://mousebrainatlas-data/CSHL_patch_features/inception-bn-blue/CHATM2/CHATM2_prep2_none_win7/CHATM2_slide45_2018_01_22-S1_prep2_none_win7_inception-bn-blue_features.bp\" \"/data/CSHL_patch_features/inception-bn-blue/CHATM2/CHATM2_prep2_none_win7/CHATM2_slide45_2018_01_22-S1_prep2_none_win7_inception-bn-blue_features.bp\"\n",
      "1\n"
     ]
    },
    {
     "name": "stderr",
     "output_type": "stream",
     "text": [
      "Features for CHATM2, 133/CHATM2_slide45_2018_01_22-S1 does not exist.\n",
      "No pre-computed features found... computing from scratch.\n",
      "Not using image_cache.\n"
     ]
    },
    {
     "name": "stdout",
     "output_type": "stream",
     "text": [
      "/data/CSHL_data_processed/CHATM2/CHATM2_prep2_raw_NtbNormalizedAdaptiveInvertedGamma/CHATM2_slide45_2018_01_22-S1_prep2_raw_NtbNormalizedAdaptiveInvertedGamma.tif\n"
     ]
    },
    {
     "name": "stderr",
     "output_type": "stream",
     "text": [
      "Load image: 6.47 seconds.\n",
      "Rescale image from 317 to 224: 5.03 seconds.\n",
      "Crop patches: 1.77 seconds.\n",
      "Extract patches: 13.30 seconds\n"
     ]
    },
    {
     "name": "stdout",
     "output_type": "stream",
     "text": [
      "(37757, 1, 224, 224)\n"
     ]
    },
    {
     "name": "stderr",
     "output_type": "stream",
     "text": [
      "Compute features: 62.30 seconds\n",
      "Compute features at one section, multiple locations: 75.65 seconds\n"
     ]
    },
    {
     "name": "stdout",
     "output_type": "stream",
     "text": [
      "aws s3 cp \"/data/CSHL_patch_features/inception-bn-blue/CHATM2/CHATM2_prep2_none_win7/CHATM2_slide45_2018_01_22-S1_prep2_none_win7_inception-bn-blue_features.bp\" \"s3://mousebrainatlas-data/CSHL_patch_features/inception-bn-blue/CHATM2/CHATM2_prep2_none_win7/CHATM2_slide45_2018_01_22-S1_prep2_none_win7_inception-bn-blue_features.bp\"\n",
      "0\n",
      "aws s3 cp \"/data/CSHL_patch_features/inception-bn-blue/CHATM2/CHATM2_prep2_none_win7/CHATM2_slide45_2018_01_22-S1_prep2_none_win7_inception-bn-blue_locations.bp\" \"s3://mousebrainatlas-data/CSHL_patch_features/inception-bn-blue/CHATM2/CHATM2_prep2_none_win7/CHATM2_slide45_2018_01_22-S1_prep2_none_win7_inception-bn-blue_locations.bp\"\n",
      "0\n",
      "rm -rf \"/data/CSHL_patch_features/inception-bn-blue/CHATM2/CHATM2_prep2_none_win7/CHATM2_slide46_2018_01_22-S1_prep2_none_win7_inception-bn-blue_features.bp\" && mkdir -p \"/data/CSHL_patch_features/inception-bn-blue/CHATM2/CHATM2_prep2_none_win7\"\n",
      "0"
     ]
    },
    {
     "name": "stderr",
     "output_type": "stream",
     "text": [
      "Save features: 4.26 seconds\n",
      "locate patches: 0.06 seconds\n"
     ]
    },
    {
     "name": "stdout",
     "output_type": "stream",
     "text": [
      "\n",
      "aws s3 cp \"s3://mousebrainatlas-data/CSHL_patch_features/inception-bn-blue/CHATM2/CHATM2_prep2_none_win7/CHATM2_slide46_2018_01_22-S1_prep2_none_win7_inception-bn-blue_features.bp\" \"/data/CSHL_patch_features/inception-bn-blue/CHATM2/CHATM2_prep2_none_win7/CHATM2_slide46_2018_01_22-S1_prep2_none_win7_inception-bn-blue_features.bp\"\n",
      "1\n"
     ]
    },
    {
     "name": "stderr",
     "output_type": "stream",
     "text": [
      "Features for CHATM2, 134/CHATM2_slide46_2018_01_22-S1 does not exist.\n",
      "No pre-computed features found... computing from scratch.\n",
      "Not using image_cache.\n"
     ]
    },
    {
     "name": "stdout",
     "output_type": "stream",
     "text": [
      "/data/CSHL_data_processed/CHATM2/CHATM2_prep2_raw_NtbNormalizedAdaptiveInvertedGamma/CHATM2_slide46_2018_01_22-S1_prep2_raw_NtbNormalizedAdaptiveInvertedGamma.tif\n"
     ]
    },
    {
     "name": "stderr",
     "output_type": "stream",
     "text": [
      "Load image: 3.66 seconds.\n",
      "Rescale image from 317 to 224: 5.06 seconds.\n",
      "Crop patches: 1.56 seconds.\n",
      "Extract patches: 10.31 seconds\n"
     ]
    },
    {
     "name": "stdout",
     "output_type": "stream",
     "text": [
      "(37349, 1, 224, 224)\n"
     ]
    },
    {
     "name": "stderr",
     "output_type": "stream",
     "text": [
      "Compute features: 70.54 seconds\n",
      "Compute features at one section, multiple locations: 80.89 seconds\n"
     ]
    },
    {
     "name": "stdout",
     "output_type": "stream",
     "text": [
      "aws s3 cp \"/data/CSHL_patch_features/inception-bn-blue/CHATM2/CHATM2_prep2_none_win7/CHATM2_slide46_2018_01_22-S1_prep2_none_win7_inception-bn-blue_features.bp\" \"s3://mousebrainatlas-data/CSHL_patch_features/inception-bn-blue/CHATM2/CHATM2_prep2_none_win7/CHATM2_slide46_2018_01_22-S1_prep2_none_win7_inception-bn-blue_features.bp\"\n",
      "0\n",
      "aws s3 cp \"/data/CSHL_patch_features/inception-bn-blue/CHATM2/CHATM2_prep2_none_win7/CHATM2_slide46_2018_01_22-S1_prep2_none_win7_inception-bn-blue_locations.bp\" \"s3://mousebrainatlas-data/CSHL_patch_features/inception-bn-blue/CHATM2/CHATM2_prep2_none_win7/CHATM2_slide46_2018_01_22-S1_prep2_none_win7_inception-bn-blue_locations.bp\"\n",
      "0\n"
     ]
    },
    {
     "name": "stderr",
     "output_type": "stream",
     "text": [
      "Save features: 4.19 seconds\n",
      "locate patches: 0.24 seconds\n"
     ]
    },
    {
     "name": "stdout",
     "output_type": "stream",
     "text": [
      "rm -rf \"/data/CSHL_patch_features/inception-bn-blue/CHATM2/CHATM2_prep2_none_win7/CHATM2_slide45_2018_01_22-S2_prep2_none_win7_inception-bn-blue_features.bp\" && mkdir -p \"/data/CSHL_patch_features/inception-bn-blue/CHATM2/CHATM2_prep2_none_win7\"\n",
      "0\n",
      "aws s3 cp \"s3://mousebrainatlas-data/CSHL_patch_features/inception-bn-blue/CHATM2/CHATM2_prep2_none_win7/CHATM2_slide45_2018_01_22-S2_prep2_none_win7_inception-bn-blue_features.bp\" \"/data/CSHL_patch_features/inception-bn-blue/CHATM2/CHATM2_prep2_none_win7/CHATM2_slide45_2018_01_22-S2_prep2_none_win7_inception-bn-blue_features.bp\"\n",
      "1\n"
     ]
    },
    {
     "name": "stderr",
     "output_type": "stream",
     "text": [
      "Features for CHATM2, 135/CHATM2_slide45_2018_01_22-S2 does not exist.\n",
      "No pre-computed features found... computing from scratch.\n",
      "Not using image_cache.\n"
     ]
    },
    {
     "name": "stdout",
     "output_type": "stream",
     "text": [
      "/data/CSHL_data_processed/CHATM2/CHATM2_prep2_raw_NtbNormalizedAdaptiveInvertedGamma/CHATM2_slide45_2018_01_22-S2_prep2_raw_NtbNormalizedAdaptiveInvertedGamma.tif\n"
     ]
    },
    {
     "name": "stderr",
     "output_type": "stream",
     "text": [
      "Load image: 3.71 seconds.\n",
      "Rescale image from 317 to 224: 3.90 seconds.\n",
      "Crop patches: 1.67 seconds.\n",
      "Extract patches: 9.30 seconds\n"
     ]
    },
    {
     "name": "stdout",
     "output_type": "stream",
     "text": [
      "(37496, 1, 224, 224)\n"
     ]
    },
    {
     "name": "stderr",
     "output_type": "stream",
     "text": [
      "Compute features: 62.51 seconds\n",
      "Compute features at one section, multiple locations: 71.86 seconds\n"
     ]
    },
    {
     "name": "stdout",
     "output_type": "stream",
     "text": [
      "aws s3 cp \"/data/CSHL_patch_features/inception-bn-blue/CHATM2/CHATM2_prep2_none_win7/CHATM2_slide45_2018_01_22-S2_prep2_none_win7_inception-bn-blue_features.bp\" \"s3://mousebrainatlas-data/CSHL_patch_features/inception-bn-blue/CHATM2/CHATM2_prep2_none_win7/CHATM2_slide45_2018_01_22-S2_prep2_none_win7_inception-bn-blue_features.bp\"\n",
      "0\n",
      "aws s3 cp \"/data/CSHL_patch_features/inception-bn-blue/CHATM2/CHATM2_prep2_none_win7/CHATM2_slide45_2018_01_22-S2_prep2_none_win7_inception-bn-blue_locations.bp\" \"s3://mousebrainatlas-data/CSHL_patch_features/inception-bn-blue/CHATM2/CHATM2_prep2_none_win7/CHATM2_slide45_2018_01_22-S2_prep2_none_win7_inception-bn-blue_locations.bp\"\n",
      "0\n",
      "rm -rf \"/data/CSHL_patch_features/inception-bn-blue/CHATM2/CHATM2_prep2_none_win7/CHATM2_slide46_2018_01_22-S2_prep2_none_win7_inception-bn-blue_features.bp\" && mkdir -p \"/data/CSHL_patch_features/inception-bn-blue/CHATM2/CHATM2_prep2_none_win7\"\n",
      "0"
     ]
    },
    {
     "name": "stderr",
     "output_type": "stream",
     "text": [
      "Save features: 15.63 seconds\n",
      "locate patches: 0.06 seconds\n"
     ]
    },
    {
     "name": "stdout",
     "output_type": "stream",
     "text": [
      "\n",
      "aws s3 cp \"s3://mousebrainatlas-data/CSHL_patch_features/inception-bn-blue/CHATM2/CHATM2_prep2_none_win7/CHATM2_slide46_2018_01_22-S2_prep2_none_win7_inception-bn-blue_features.bp\" \"/data/CSHL_patch_features/inception-bn-blue/CHATM2/CHATM2_prep2_none_win7/CHATM2_slide46_2018_01_22-S2_prep2_none_win7_inception-bn-blue_features.bp\"\n",
      "1\n"
     ]
    },
    {
     "name": "stderr",
     "output_type": "stream",
     "text": [
      "Features for CHATM2, 136/CHATM2_slide46_2018_01_22-S2 does not exist.\n",
      "No pre-computed features found... computing from scratch.\n",
      "Not using image_cache.\n"
     ]
    },
    {
     "name": "stdout",
     "output_type": "stream",
     "text": [
      "/data/CSHL_data_processed/CHATM2/CHATM2_prep2_raw_NtbNormalizedAdaptiveInvertedGamma/CHATM2_slide46_2018_01_22-S2_prep2_raw_NtbNormalizedAdaptiveInvertedGamma.tif\n"
     ]
    },
    {
     "name": "stderr",
     "output_type": "stream",
     "text": [
      "Load image: 4.39 seconds.\n",
      "Rescale image from 317 to 224: 5.53 seconds.\n",
      "Crop patches: 1.85 seconds.\n",
      "Extract patches: 11.81 seconds\n"
     ]
    },
    {
     "name": "stdout",
     "output_type": "stream",
     "text": [
      "(37750, 1, 224, 224)\n"
     ]
    },
    {
     "name": "stderr",
     "output_type": "stream",
     "text": [
      "Compute features: 66.03 seconds\n",
      "Compute features at one section, multiple locations: 77.98 seconds\n"
     ]
    },
    {
     "name": "stdout",
     "output_type": "stream",
     "text": [
      "aws s3 cp \"/data/CSHL_patch_features/inception-bn-blue/CHATM2/CHATM2_prep2_none_win7/CHATM2_slide46_2018_01_22-S2_prep2_none_win7_inception-bn-blue_features.bp\" \"s3://mousebrainatlas-data/CSHL_patch_features/inception-bn-blue/CHATM2/CHATM2_prep2_none_win7/CHATM2_slide46_2018_01_22-S2_prep2_none_win7_inception-bn-blue_features.bp\"\n",
      "0\n",
      "aws s3 cp \"/data/CSHL_patch_features/inception-bn-blue/CHATM2/CHATM2_prep2_none_win7/CHATM2_slide46_2018_01_22-S2_prep2_none_win7_inception-bn-blue_locations.bp\" \"s3://mousebrainatlas-data/CSHL_patch_features/inception-bn-blue/CHATM2/CHATM2_prep2_none_win7/CHATM2_slide46_2018_01_22-S2_prep2_none_win7_inception-bn-blue_locations.bp\"\n",
      "0\n",
      "rm -rf \"/data/CSHL_patch_features/inception-bn-blue/CHATM2/CHATM2_prep2_none_win7/CHATM2_slide45_2018_01_22-S3_prep2_none_win7_inception-bn-blue_features.bp\" && mkdir -p \"/data/CSHL_patch_features/inception-bn-blue/CHATM2/CHATM2_prep2_none_win7\"\n"
     ]
    },
    {
     "name": "stderr",
     "output_type": "stream",
     "text": [
      "Save features: 6.40 seconds\n",
      "locate patches: 0.06 seconds\n"
     ]
    },
    {
     "name": "stdout",
     "output_type": "stream",
     "text": [
      "0\n",
      "aws s3 cp \"s3://mousebrainatlas-data/CSHL_patch_features/inception-bn-blue/CHATM2/CHATM2_prep2_none_win7/CHATM2_slide45_2018_01_22-S3_prep2_none_win7_inception-bn-blue_features.bp\" \"/data/CSHL_patch_features/inception-bn-blue/CHATM2/CHATM2_prep2_none_win7/CHATM2_slide45_2018_01_22-S3_prep2_none_win7_inception-bn-blue_features.bp\"\n",
      "1\n"
     ]
    },
    {
     "name": "stderr",
     "output_type": "stream",
     "text": [
      "Features for CHATM2, 137/CHATM2_slide45_2018_01_22-S3 does not exist.\n",
      "No pre-computed features found... computing from scratch.\n",
      "Not using image_cache.\n"
     ]
    },
    {
     "name": "stdout",
     "output_type": "stream",
     "text": [
      "/data/CSHL_data_processed/CHATM2/CHATM2_prep2_raw_NtbNormalizedAdaptiveInvertedGamma/CHATM2_slide45_2018_01_22-S3_prep2_raw_NtbNormalizedAdaptiveInvertedGamma.tif\n"
     ]
    },
    {
     "name": "stderr",
     "output_type": "stream",
     "text": [
      "Load image: 6.03 seconds.\n",
      "Rescale image from 317 to 224: 6.39 seconds.\n",
      "Crop patches: 2.72 seconds.\n",
      "Extract patches: 15.20 seconds\n"
     ]
    },
    {
     "name": "stdout",
     "output_type": "stream",
     "text": [
      "(38299, 1, 224, 224)\n"
     ]
    },
    {
     "name": "stderr",
     "output_type": "stream",
     "text": [
      "Compute features: 78.87 seconds\n",
      "Compute features at one section, multiple locations: 94.20 seconds\n"
     ]
    },
    {
     "name": "stdout",
     "output_type": "stream",
     "text": [
      "aws s3 cp \"/data/CSHL_patch_features/inception-bn-blue/CHATM2/CHATM2_prep2_none_win7/CHATM2_slide45_2018_01_22-S3_prep2_none_win7_inception-bn-blue_features.bp\" \"s3://mousebrainatlas-data/CSHL_patch_features/inception-bn-blue/CHATM2/CHATM2_prep2_none_win7/CHATM2_slide45_2018_01_22-S3_prep2_none_win7_inception-bn-blue_features.bp\"\n",
      "0\n",
      "aws s3 cp \"/data/CSHL_patch_features/inception-bn-blue/CHATM2/CHATM2_prep2_none_win7/CHATM2_slide45_2018_01_22-S3_prep2_none_win7_inception-bn-blue_locations.bp\" \"s3://mousebrainatlas-data/CSHL_patch_features/inception-bn-blue/CHATM2/CHATM2_prep2_none_win7/CHATM2_slide45_2018_01_22-S3_prep2_none_win7_inception-bn-blue_locations.bp\"\n",
      "0\n",
      "rm -rf \"/data/CSHL_patch_features/inception-bn-blue/CHATM2/CHATM2_prep2_none_win7/CHATM2_slide46_2018_01_22-S3_prep2_none_win7_inception-bn-blue_features.bp\" && mkdir -p \"/data/CSHL_patch_features/inception-bn-blue/CHATM2/CHATM2_prep2_none_win7\"\n",
      "0\n",
      "aws s3 cp \"s3://mousebrainatlas-data/CSHL_patch_features/inception-bn-blue/CHATM2/CHATM2_prep2_none_win7/CHATM2_slide46_2018_01_22-S3_prep2_none_win7_inception-bn-blue_features.bp\" \"/data/CSHL_patch_features/inception-bn-blue/CHATM2/CHATM2_prep2_none_win7/CHATM2_slide46_2018_01_22-S3_prep2_none_win7_inception-bn-blue_features.bp\""
     ]
    },
    {
     "name": "stderr",
     "output_type": "stream",
     "text": [
      "Save features: 4.27 seconds\n",
      "locate patches: 0.04 seconds\n"
     ]
    },
    {
     "name": "stdout",
     "output_type": "stream",
     "text": [
      "\n",
      "1\n"
     ]
    },
    {
     "name": "stderr",
     "output_type": "stream",
     "text": [
      "Features for CHATM2, 138/CHATM2_slide46_2018_01_22-S3 does not exist.\n",
      "No pre-computed features found... computing from scratch.\n",
      "Not using image_cache.\n"
     ]
    },
    {
     "name": "stdout",
     "output_type": "stream",
     "text": [
      "/data/CSHL_data_processed/CHATM2/CHATM2_prep2_raw_NtbNormalizedAdaptiveInvertedGamma/CHATM2_slide46_2018_01_22-S3_prep2_raw_NtbNormalizedAdaptiveInvertedGamma.tif\n"
     ]
    },
    {
     "name": "stderr",
     "output_type": "stream",
     "text": [
      "Load image: 4.93 seconds.\n",
      "Rescale image from 317 to 224: 4.15 seconds.\n",
      "Crop patches: 1.62 seconds.\n",
      "Extract patches: 10.70 seconds\n"
     ]
    },
    {
     "name": "stdout",
     "output_type": "stream",
     "text": [
      "(38191, 1, 224, 224)\n"
     ]
    },
    {
     "name": "stderr",
     "output_type": "stream",
     "text": [
      "Compute features: 63.40 seconds\n",
      "Compute features at one section, multiple locations: 74.15 seconds\n"
     ]
    },
    {
     "name": "stdout",
     "output_type": "stream",
     "text": [
      "aws s3 cp \"/data/CSHL_patch_features/inception-bn-blue/CHATM2/CHATM2_prep2_none_win7/CHATM2_slide46_2018_01_22-S3_prep2_none_win7_inception-bn-blue_features.bp\" \"s3://mousebrainatlas-data/CSHL_patch_features/inception-bn-blue/CHATM2/CHATM2_prep2_none_win7/CHATM2_slide46_2018_01_22-S3_prep2_none_win7_inception-bn-blue_features.bp\"\n",
      "0\n",
      "aws s3 cp \"/data/CSHL_patch_features/inception-bn-blue/CHATM2/CHATM2_prep2_none_win7/CHATM2_slide46_2018_01_22-S3_prep2_none_win7_inception-bn-blue_locations.bp\" \"s3://mousebrainatlas-data/CSHL_patch_features/inception-bn-blue/CHATM2/CHATM2_prep2_none_win7/CHATM2_slide46_2018_01_22-S3_prep2_none_win7_inception-bn-blue_locations.bp\"\n",
      "0\n",
      "rm -rf \"/data/CSHL_patch_features/inception-bn-blue/CHATM2/CHATM2_prep2_none_win7/CHATM2_slide48_2018_01_22-S1_prep2_none_win7_inception-bn-blue_features.bp\" && mkdir -p \"/data/CSHL_patch_features/inception-bn-blue/CHATM2/CHATM2_prep2_none_win7\"\n"
     ]
    },
    {
     "name": "stderr",
     "output_type": "stream",
     "text": [
      "Save features: 5.16 seconds\n",
      "locate patches: 0.06 seconds\n"
     ]
    },
    {
     "name": "stdout",
     "output_type": "stream",
     "text": [
      "0\n",
      "aws s3 cp \"s3://mousebrainatlas-data/CSHL_patch_features/inception-bn-blue/CHATM2/CHATM2_prep2_none_win7/CHATM2_slide48_2018_01_22-S1_prep2_none_win7_inception-bn-blue_features.bp\" \"/data/CSHL_patch_features/inception-bn-blue/CHATM2/CHATM2_prep2_none_win7/CHATM2_slide48_2018_01_22-S1_prep2_none_win7_inception-bn-blue_features.bp\"\n",
      "1\n"
     ]
    },
    {
     "name": "stderr",
     "output_type": "stream",
     "text": [
      "Features for CHATM2, 140/CHATM2_slide48_2018_01_22-S1 does not exist.\n",
      "No pre-computed features found... computing from scratch.\n",
      "Not using image_cache.\n"
     ]
    },
    {
     "name": "stdout",
     "output_type": "stream",
     "text": [
      "/data/CSHL_data_processed/CHATM2/CHATM2_prep2_raw_NtbNormalizedAdaptiveInvertedGamma/CHATM2_slide48_2018_01_22-S1_prep2_raw_NtbNormalizedAdaptiveInvertedGamma.tif\n"
     ]
    },
    {
     "name": "stderr",
     "output_type": "stream",
     "text": [
      "Load image: 4.38 seconds.\n",
      "Rescale image from 317 to 224: 5.14 seconds.\n",
      "Crop patches: 1.99 seconds.\n",
      "Extract patches: 11.55 seconds\n"
     ]
    },
    {
     "name": "stdout",
     "output_type": "stream",
     "text": [
      "(39046, 1, 224, 224)\n"
     ]
    },
    {
     "name": "stderr",
     "output_type": "stream",
     "text": [
      "Compute features: 67.32 seconds\n",
      "Compute features at one section, multiple locations: 78.99 seconds\n"
     ]
    },
    {
     "name": "stdout",
     "output_type": "stream",
     "text": [
      "aws s3 cp \"/data/CSHL_patch_features/inception-bn-blue/CHATM2/CHATM2_prep2_none_win7/CHATM2_slide48_2018_01_22-S1_prep2_none_win7_inception-bn-blue_features.bp\" \"s3://mousebrainatlas-data/CSHL_patch_features/inception-bn-blue/CHATM2/CHATM2_prep2_none_win7/CHATM2_slide48_2018_01_22-S1_prep2_none_win7_inception-bn-blue_features.bp\"\n",
      "0\n",
      "aws s3 cp \"/data/CSHL_patch_features/inception-bn-blue/CHATM2/CHATM2_prep2_none_win7/CHATM2_slide48_2018_01_22-S1_prep2_none_win7_inception-bn-blue_locations.bp\" \"s3://mousebrainatlas-data/CSHL_patch_features/inception-bn-blue/CHATM2/CHATM2_prep2_none_win7/CHATM2_slide48_2018_01_22-S1_prep2_none_win7_inception-bn-blue_locations.bp\"\n",
      "0\n",
      "rm -rf \"/data/CSHL_patch_features/inception-bn-blue/CHATM2/CHATM2_prep2_none_win7/CHATM2_slide48_2018_01_22-S2_prep2_none_win7_inception-bn-blue_features.bp\" && mkdir -p \"/data/CSHL_patch_features/inception-bn-blue/CHATM2/CHATM2_prep2_none_win7\"\n"
     ]
    },
    {
     "name": "stderr",
     "output_type": "stream",
     "text": [
      "Save features: 5.26 seconds\n",
      "locate patches: 0.15 seconds\n"
     ]
    },
    {
     "name": "stdout",
     "output_type": "stream",
     "text": [
      "0\n",
      "aws s3 cp \"s3://mousebrainatlas-data/CSHL_patch_features/inception-bn-blue/CHATM2/CHATM2_prep2_none_win7/CHATM2_slide48_2018_01_22-S2_prep2_none_win7_inception-bn-blue_features.bp\" \"/data/CSHL_patch_features/inception-bn-blue/CHATM2/CHATM2_prep2_none_win7/CHATM2_slide48_2018_01_22-S2_prep2_none_win7_inception-bn-blue_features.bp\"\n",
      "1\n"
     ]
    },
    {
     "name": "stderr",
     "output_type": "stream",
     "text": [
      "Features for CHATM2, 142/CHATM2_slide48_2018_01_22-S2 does not exist.\n",
      "No pre-computed features found... computing from scratch.\n",
      "Not using image_cache.\n"
     ]
    },
    {
     "name": "stdout",
     "output_type": "stream",
     "text": [
      "/data/CSHL_data_processed/CHATM2/CHATM2_prep2_raw_NtbNormalizedAdaptiveInvertedGamma/CHATM2_slide48_2018_01_22-S2_prep2_raw_NtbNormalizedAdaptiveInvertedGamma.tif\n"
     ]
    },
    {
     "name": "stderr",
     "output_type": "stream",
     "text": [
      "Load image: 5.06 seconds.\n",
      "Rescale image from 317 to 224: 5.90 seconds.\n",
      "Crop patches: 2.90 seconds.\n",
      "Extract patches: 13.93 seconds\n"
     ]
    },
    {
     "name": "stdout",
     "output_type": "stream",
     "text": [
      "(38173, 1, 224, 224)\n"
     ]
    },
    {
     "name": "stderr",
     "output_type": "stream",
     "text": [
      "Compute features: 68.89 seconds\n",
      "Compute features at one section, multiple locations: 82.89 seconds\n"
     ]
    },
    {
     "name": "stdout",
     "output_type": "stream",
     "text": [
      "aws s3 cp \"/data/CSHL_patch_features/inception-bn-blue/CHATM2/CHATM2_prep2_none_win7/CHATM2_slide48_2018_01_22-S2_prep2_none_win7_inception-bn-blue_features.bp\" \"s3://mousebrainatlas-data/CSHL_patch_features/inception-bn-blue/CHATM2/CHATM2_prep2_none_win7/CHATM2_slide48_2018_01_22-S2_prep2_none_win7_inception-bn-blue_features.bp\"\n",
      "0\n",
      "aws s3 cp \"/data/CSHL_patch_features/inception-bn-blue/CHATM2/CHATM2_prep2_none_win7/CHATM2_slide48_2018_01_22-S2_prep2_none_win7_inception-bn-blue_locations.bp\" \"s3://mousebrainatlas-data/CSHL_patch_features/inception-bn-blue/CHATM2/CHATM2_prep2_none_win7/CHATM2_slide48_2018_01_22-S2_prep2_none_win7_inception-bn-blue_locations.bp\"\n",
      "0\n",
      "rm -rf \"/data/CSHL_patch_features/inception-bn-blue/CHATM2/CHATM2_prep2_none_win7/CHATM2_slide48_2018_01_22-S3_prep2_none_win7_inception-bn-blue_features.bp\" && mkdir -p \"/data/CSHL_patch_features/inception-bn-blue/CHATM2/CHATM2_prep2_none_win7\"\n"
     ]
    },
    {
     "name": "stderr",
     "output_type": "stream",
     "text": [
      "Save features: 5.25 seconds\n",
      "locate patches: 0.11 seconds\n"
     ]
    },
    {
     "name": "stdout",
     "output_type": "stream",
     "text": [
      "0\n",
      "aws s3 cp \"s3://mousebrainatlas-data/CSHL_patch_features/inception-bn-blue/CHATM2/CHATM2_prep2_none_win7/CHATM2_slide48_2018_01_22-S3_prep2_none_win7_inception-bn-blue_features.bp\" \"/data/CSHL_patch_features/inception-bn-blue/CHATM2/CHATM2_prep2_none_win7/CHATM2_slide48_2018_01_22-S3_prep2_none_win7_inception-bn-blue_features.bp\"\n",
      "1\n"
     ]
    },
    {
     "name": "stderr",
     "output_type": "stream",
     "text": [
      "Features for CHATM2, 144/CHATM2_slide48_2018_01_22-S3 does not exist.\n",
      "No pre-computed features found... computing from scratch.\n",
      "Not using image_cache.\n"
     ]
    },
    {
     "name": "stdout",
     "output_type": "stream",
     "text": [
      "/data/CSHL_data_processed/CHATM2/CHATM2_prep2_raw_NtbNormalizedAdaptiveInvertedGamma/CHATM2_slide48_2018_01_22-S3_prep2_raw_NtbNormalizedAdaptiveInvertedGamma.tif\n"
     ]
    },
    {
     "name": "stderr",
     "output_type": "stream",
     "text": [
      "Load image: 7.24 seconds.\n",
      "Rescale image from 317 to 224: 13.70 seconds.\n",
      "Crop patches: 2.94 seconds.\n",
      "Extract patches: 23.93 seconds\n"
     ]
    },
    {
     "name": "stdout",
     "output_type": "stream",
     "text": [
      "(38898, 1, 224, 224)\n"
     ]
    },
    {
     "name": "stderr",
     "output_type": "stream",
     "text": [
      "Compute features: 72.19 seconds\n",
      "Compute features at one section, multiple locations: 96.24 seconds\n"
     ]
    },
    {
     "name": "stdout",
     "output_type": "stream",
     "text": [
      "aws s3 cp \"/data/CSHL_patch_features/inception-bn-blue/CHATM2/CHATM2_prep2_none_win7/CHATM2_slide48_2018_01_22-S3_prep2_none_win7_inception-bn-blue_features.bp\" \"s3://mousebrainatlas-data/CSHL_patch_features/inception-bn-blue/CHATM2/CHATM2_prep2_none_win7/CHATM2_slide48_2018_01_22-S3_prep2_none_win7_inception-bn-blue_features.bp\"\n",
      "0\n",
      "aws s3 cp \"/data/CSHL_patch_features/inception-bn-blue/CHATM2/CHATM2_prep2_none_win7/CHATM2_slide48_2018_01_22-S3_prep2_none_win7_inception-bn-blue_locations.bp\" \"s3://mousebrainatlas-data/CSHL_patch_features/inception-bn-blue/CHATM2/CHATM2_prep2_none_win7/CHATM2_slide48_2018_01_22-S3_prep2_none_win7_inception-bn-blue_locations.bp\"\n",
      "0\n",
      "rm -rf \"/data/CSHL_patch_features/inception-bn-blue/CHATM2/CHATM2_prep2_none_win7/CHATM2_slide49_2018_01_22-S1_prep2_none_win7_inception-bn-blue_features.bp\" && mkdir -p \"/data/CSHL_patch_features/inception-bn-blue/CHATM2/CHATM2_prep2_none_win7\"\n"
     ]
    },
    {
     "name": "stderr",
     "output_type": "stream",
     "text": [
      "Save features: 6.22 seconds\n",
      "locate patches: 0.11 seconds\n"
     ]
    },
    {
     "name": "stdout",
     "output_type": "stream",
     "text": [
      "0\n",
      "aws s3 cp \"s3://mousebrainatlas-data/CSHL_patch_features/inception-bn-blue/CHATM2/CHATM2_prep2_none_win7/CHATM2_slide49_2018_01_22-S1_prep2_none_win7_inception-bn-blue_features.bp\" \"/data/CSHL_patch_features/inception-bn-blue/CHATM2/CHATM2_prep2_none_win7/CHATM2_slide49_2018_01_22-S1_prep2_none_win7_inception-bn-blue_features.bp\"\n",
      "1\n"
     ]
    },
    {
     "name": "stderr",
     "output_type": "stream",
     "text": [
      "Features for CHATM2, 145/CHATM2_slide49_2018_01_22-S1 does not exist.\n",
      "No pre-computed features found... computing from scratch.\n",
      "Not using image_cache.\n"
     ]
    },
    {
     "name": "stdout",
     "output_type": "stream",
     "text": [
      "/data/CSHL_data_processed/CHATM2/CHATM2_prep2_raw_NtbNormalizedAdaptiveInvertedGamma/CHATM2_slide49_2018_01_22-S1_prep2_raw_NtbNormalizedAdaptiveInvertedGamma.tif\n"
     ]
    },
    {
     "name": "stderr",
     "output_type": "stream",
     "text": [
      "Load image: 5.58 seconds.\n",
      "Rescale image from 317 to 224: 6.70 seconds.\n",
      "Crop patches: 2.90 seconds.\n",
      "Extract patches: 15.22 seconds\n"
     ]
    },
    {
     "name": "stdout",
     "output_type": "stream",
     "text": [
      "(39307, 1, 224, 224)\n"
     ]
    },
    {
     "name": "stderr",
     "output_type": "stream",
     "text": [
      "Compute features: 77.97 seconds\n",
      "Compute features at one section, multiple locations: 93.25 seconds\n"
     ]
    },
    {
     "name": "stdout",
     "output_type": "stream",
     "text": [
      "aws s3 cp \"/data/CSHL_patch_features/inception-bn-blue/CHATM2/CHATM2_prep2_none_win7/CHATM2_slide49_2018_01_22-S1_prep2_none_win7_inception-bn-blue_features.bp\" \"s3://mousebrainatlas-data/CSHL_patch_features/inception-bn-blue/CHATM2/CHATM2_prep2_none_win7/CHATM2_slide49_2018_01_22-S1_prep2_none_win7_inception-bn-blue_features.bp\"\n",
      "0\n",
      "aws s3 cp \"/data/CSHL_patch_features/inception-bn-blue/CHATM2/CHATM2_prep2_none_win7/CHATM2_slide49_2018_01_22-S1_prep2_none_win7_inception-bn-blue_locations.bp\" \"s3://mousebrainatlas-data/CSHL_patch_features/inception-bn-blue/CHATM2/CHATM2_prep2_none_win7/CHATM2_slide49_2018_01_22-S1_prep2_none_win7_inception-bn-blue_locations.bp\"\n",
      "0\n",
      "rm -rf \"/data/CSHL_patch_features/inception-bn-blue/CHATM2/CHATM2_prep2_none_win7/CHATM2_slide50_2018_01_22-S1_prep2_none_win7_inception-bn-blue_features.bp\" && mkdir -p \"/data/CSHL_patch_features/inception-bn-blue/CHATM2/CHATM2_prep2_none_win7\"\n",
      "0"
     ]
    },
    {
     "name": "stderr",
     "output_type": "stream",
     "text": [
      "Save features: 4.37 seconds\n",
      "locate patches: 0.06 seconds\n"
     ]
    },
    {
     "name": "stdout",
     "output_type": "stream",
     "text": [
      "\n",
      "aws s3 cp \"s3://mousebrainatlas-data/CSHL_patch_features/inception-bn-blue/CHATM2/CHATM2_prep2_none_win7/CHATM2_slide50_2018_01_22-S1_prep2_none_win7_inception-bn-blue_features.bp\" \"/data/CSHL_patch_features/inception-bn-blue/CHATM2/CHATM2_prep2_none_win7/CHATM2_slide50_2018_01_22-S1_prep2_none_win7_inception-bn-blue_features.bp\"\n",
      "1\n"
     ]
    },
    {
     "name": "stderr",
     "output_type": "stream",
     "text": [
      "Features for CHATM2, 146/CHATM2_slide50_2018_01_22-S1 does not exist.\n",
      "No pre-computed features found... computing from scratch.\n",
      "Not using image_cache.\n"
     ]
    },
    {
     "name": "stdout",
     "output_type": "stream",
     "text": [
      "/data/CSHL_data_processed/CHATM2/CHATM2_prep2_raw_NtbNormalizedAdaptiveInvertedGamma/CHATM2_slide50_2018_01_22-S1_prep2_raw_NtbNormalizedAdaptiveInvertedGamma.tif\n"
     ]
    },
    {
     "name": "stderr",
     "output_type": "stream",
     "text": [
      "Load image: 5.35 seconds.\n",
      "Rescale image from 317 to 224: 5.13 seconds.\n",
      "Crop patches: 1.92 seconds.\n",
      "Extract patches: 12.43 seconds\n"
     ]
    },
    {
     "name": "stdout",
     "output_type": "stream",
     "text": [
      "(39749, 1, 224, 224)\n"
     ]
    },
    {
     "name": "stderr",
     "output_type": "stream",
     "text": [
      "Compute features: 76.81 seconds\n",
      "Compute features at one section, multiple locations: 89.38 seconds\n"
     ]
    },
    {
     "name": "stdout",
     "output_type": "stream",
     "text": [
      "aws s3 cp \"/data/CSHL_patch_features/inception-bn-blue/CHATM2/CHATM2_prep2_none_win7/CHATM2_slide50_2018_01_22-S1_prep2_none_win7_inception-bn-blue_features.bp\" \"s3://mousebrainatlas-data/CSHL_patch_features/inception-bn-blue/CHATM2/CHATM2_prep2_none_win7/CHATM2_slide50_2018_01_22-S1_prep2_none_win7_inception-bn-blue_features.bp\"\n",
      "0\n",
      "aws s3 cp \"/data/CSHL_patch_features/inception-bn-blue/CHATM2/CHATM2_prep2_none_win7/CHATM2_slide50_2018_01_22-S1_prep2_none_win7_inception-bn-blue_locations.bp\" \"s3://mousebrainatlas-data/CSHL_patch_features/inception-bn-blue/CHATM2/CHATM2_prep2_none_win7/CHATM2_slide50_2018_01_22-S1_prep2_none_win7_inception-bn-blue_locations.bp\"\n",
      "0\n",
      "rm -rf \"/data/CSHL_patch_features/inception-bn-blue/CHATM2/CHATM2_prep2_none_win7/CHATM2_slide49_2018_01_22-S2_prep2_none_win7_inception-bn-blue_features.bp\" && mkdir -p \"/data/CSHL_patch_features/inception-bn-blue/CHATM2/CHATM2_prep2_none_win7\"\n",
      "0\n",
      "aws s3 cp \"s3://mousebrainatlas-data/CSHL_patch_features/inception-bn-blue/CHATM2/CHATM2_prep2_none_win7/CHATM2_slide49_2018_01_22-S2_prep2_none_win7_inception-bn-blue_features.bp\" \"/data/CSHL_patch_features/inception-bn-blue/CHATM2/CHATM2_prep2_none_win7/CHATM2_slide49_2018_01_22-S2_prep2_none_win7_inception-bn-blue_features.bp\"\n"
     ]
    },
    {
     "name": "stderr",
     "output_type": "stream",
     "text": [
      "Save features: 4.63 seconds\n",
      "locate patches: 0.06 seconds\n"
     ]
    },
    {
     "name": "stdout",
     "output_type": "stream",
     "text": [
      "1\n"
     ]
    },
    {
     "name": "stderr",
     "output_type": "stream",
     "text": [
      "Features for CHATM2, 147/CHATM2_slide49_2018_01_22-S2 does not exist.\n",
      "No pre-computed features found... computing from scratch.\n",
      "Not using image_cache.\n"
     ]
    },
    {
     "name": "stdout",
     "output_type": "stream",
     "text": [
      "/data/CSHL_data_processed/CHATM2/CHATM2_prep2_raw_NtbNormalizedAdaptiveInvertedGamma/CHATM2_slide49_2018_01_22-S2_prep2_raw_NtbNormalizedAdaptiveInvertedGamma.tif\n"
     ]
    },
    {
     "name": "stderr",
     "output_type": "stream",
     "text": [
      "Load image: 3.66 seconds.\n",
      "Rescale image from 317 to 224: 4.72 seconds.\n",
      "Crop patches: 1.90 seconds.\n",
      "Extract patches: 10.31 seconds\n"
     ]
    },
    {
     "name": "stdout",
     "output_type": "stream",
     "text": [
      "(39754, 1, 224, 224)\n"
     ]
    },
    {
     "name": "stderr",
     "output_type": "stream",
     "text": [
      "Compute features: 73.97 seconds\n",
      "Compute features at one section, multiple locations: 84.33 seconds\n"
     ]
    },
    {
     "name": "stdout",
     "output_type": "stream",
     "text": [
      "aws s3 cp \"/data/CSHL_patch_features/inception-bn-blue/CHATM2/CHATM2_prep2_none_win7/CHATM2_slide49_2018_01_22-S2_prep2_none_win7_inception-bn-blue_features.bp\" \"s3://mousebrainatlas-data/CSHL_patch_features/inception-bn-blue/CHATM2/CHATM2_prep2_none_win7/CHATM2_slide49_2018_01_22-S2_prep2_none_win7_inception-bn-blue_features.bp\"\n",
      "0\n",
      "aws s3 cp \"/data/CSHL_patch_features/inception-bn-blue/CHATM2/CHATM2_prep2_none_win7/CHATM2_slide49_2018_01_22-S2_prep2_none_win7_inception-bn-blue_locations.bp\" \"s3://mousebrainatlas-data/CSHL_patch_features/inception-bn-blue/CHATM2/CHATM2_prep2_none_win7/CHATM2_slide49_2018_01_22-S2_prep2_none_win7_inception-bn-blue_locations.bp\"\n",
      "0\n",
      "rm -rf \"/data/CSHL_patch_features/inception-bn-blue/CHATM2/CHATM2_prep2_none_win7/CHATM2_slide50_2018_01_22-S2_prep2_none_win7_inception-bn-blue_features.bp\" && mkdir -p \"/data/CSHL_patch_features/inception-bn-blue/CHATM2/CHATM2_prep2_none_win7\"\n",
      "0"
     ]
    },
    {
     "name": "stderr",
     "output_type": "stream",
     "text": [
      "Save features: 6.19 seconds\n",
      "locate patches: 0.05 seconds\n"
     ]
    },
    {
     "name": "stdout",
     "output_type": "stream",
     "text": [
      "\n",
      "aws s3 cp \"s3://mousebrainatlas-data/CSHL_patch_features/inception-bn-blue/CHATM2/CHATM2_prep2_none_win7/CHATM2_slide50_2018_01_22-S2_prep2_none_win7_inception-bn-blue_features.bp\" \"/data/CSHL_patch_features/inception-bn-blue/CHATM2/CHATM2_prep2_none_win7/CHATM2_slide50_2018_01_22-S2_prep2_none_win7_inception-bn-blue_features.bp\"\n",
      "1\n"
     ]
    },
    {
     "name": "stderr",
     "output_type": "stream",
     "text": [
      "Features for CHATM2, 148/CHATM2_slide50_2018_01_22-S2 does not exist.\n",
      "No pre-computed features found... computing from scratch.\n",
      "Not using image_cache.\n"
     ]
    },
    {
     "name": "stdout",
     "output_type": "stream",
     "text": [
      "/data/CSHL_data_processed/CHATM2/CHATM2_prep2_raw_NtbNormalizedAdaptiveInvertedGamma/CHATM2_slide50_2018_01_22-S2_prep2_raw_NtbNormalizedAdaptiveInvertedGamma.tif\n"
     ]
    },
    {
     "name": "stderr",
     "output_type": "stream",
     "text": [
      "Load image: 5.96 seconds.\n",
      "Rescale image from 317 to 224: 5.17 seconds.\n",
      "Crop patches: 1.82 seconds.\n",
      "Extract patches: 12.98 seconds\n"
     ]
    },
    {
     "name": "stdout",
     "output_type": "stream",
     "text": [
      "(39474, 1, 224, 224)\n"
     ]
    },
    {
     "name": "stderr",
     "output_type": "stream",
     "text": [
      "Compute features: 68.19 seconds\n",
      "Compute features at one section, multiple locations: 81.23 seconds\n"
     ]
    },
    {
     "name": "stdout",
     "output_type": "stream",
     "text": [
      "aws s3 cp \"/data/CSHL_patch_features/inception-bn-blue/CHATM2/CHATM2_prep2_none_win7/CHATM2_slide50_2018_01_22-S2_prep2_none_win7_inception-bn-blue_features.bp\" \"s3://mousebrainatlas-data/CSHL_patch_features/inception-bn-blue/CHATM2/CHATM2_prep2_none_win7/CHATM2_slide50_2018_01_22-S2_prep2_none_win7_inception-bn-blue_features.bp\"\n",
      "0\n",
      "aws s3 cp \"/data/CSHL_patch_features/inception-bn-blue/CHATM2/CHATM2_prep2_none_win7/CHATM2_slide50_2018_01_22-S2_prep2_none_win7_inception-bn-blue_locations.bp\" \"s3://mousebrainatlas-data/CSHL_patch_features/inception-bn-blue/CHATM2/CHATM2_prep2_none_win7/CHATM2_slide50_2018_01_22-S2_prep2_none_win7_inception-bn-blue_locations.bp\"\n",
      "0\n",
      "rm -rf \"/data/CSHL_patch_features/inception-bn-blue/CHATM2/CHATM2_prep2_none_win7/CHATM2_slide50_2018_01_22-S3_prep2_none_win7_inception-bn-blue_features.bp\" && mkdir -p \"/data/CSHL_patch_features/inception-bn-blue/CHATM2/CHATM2_prep2_none_win7\"\n"
     ]
    },
    {
     "name": "stderr",
     "output_type": "stream",
     "text": [
      "Save features: 5.81 seconds\n",
      "locate patches: 0.12 seconds\n"
     ]
    },
    {
     "name": "stdout",
     "output_type": "stream",
     "text": [
      "0\n",
      "aws s3 cp \"s3://mousebrainatlas-data/CSHL_patch_features/inception-bn-blue/CHATM2/CHATM2_prep2_none_win7/CHATM2_slide50_2018_01_22-S3_prep2_none_win7_inception-bn-blue_features.bp\" \"/data/CSHL_patch_features/inception-bn-blue/CHATM2/CHATM2_prep2_none_win7/CHATM2_slide50_2018_01_22-S3_prep2_none_win7_inception-bn-blue_features.bp\"\n",
      "1\n"
     ]
    },
    {
     "name": "stderr",
     "output_type": "stream",
     "text": [
      "Features for CHATM2, 150/CHATM2_slide50_2018_01_22-S3 does not exist.\n",
      "No pre-computed features found... computing from scratch.\n",
      "Not using image_cache.\n"
     ]
    },
    {
     "name": "stdout",
     "output_type": "stream",
     "text": [
      "/data/CSHL_data_processed/CHATM2/CHATM2_prep2_raw_NtbNormalizedAdaptiveInvertedGamma/CHATM2_slide50_2018_01_22-S3_prep2_raw_NtbNormalizedAdaptiveInvertedGamma.tif\n"
     ]
    },
    {
     "name": "stderr",
     "output_type": "stream",
     "text": [
      "Load image: 8.03 seconds.\n",
      "Rescale image from 317 to 224: 6.06 seconds.\n",
      "Crop patches: 2.32 seconds.\n",
      "Extract patches: 16.45 seconds\n"
     ]
    },
    {
     "name": "stdout",
     "output_type": "stream",
     "text": [
      "(39622, 1, 224, 224)\n"
     ]
    },
    {
     "name": "stderr",
     "output_type": "stream",
     "text": [
      "Compute features: 73.56 seconds\n",
      "Compute features at one section, multiple locations: 90.06 seconds\n"
     ]
    },
    {
     "name": "stdout",
     "output_type": "stream",
     "text": [
      "aws s3 cp \"/data/CSHL_patch_features/inception-bn-blue/CHATM2/CHATM2_prep2_none_win7/CHATM2_slide50_2018_01_22-S3_prep2_none_win7_inception-bn-blue_features.bp\" \"s3://mousebrainatlas-data/CSHL_patch_features/inception-bn-blue/CHATM2/CHATM2_prep2_none_win7/CHATM2_slide50_2018_01_22-S3_prep2_none_win7_inception-bn-blue_features.bp\"\n",
      "0\n",
      "aws s3 cp \"/data/CSHL_patch_features/inception-bn-blue/CHATM2/CHATM2_prep2_none_win7/CHATM2_slide50_2018_01_22-S3_prep2_none_win7_inception-bn-blue_locations.bp\" \"s3://mousebrainatlas-data/CSHL_patch_features/inception-bn-blue/CHATM2/CHATM2_prep2_none_win7/CHATM2_slide50_2018_01_22-S3_prep2_none_win7_inception-bn-blue_locations.bp\"\n",
      "0\n",
      "rm -rf \"/data/CSHL_patch_features/inception-bn-blue/CHATM2/CHATM2_prep2_none_win7/CHATM2_slide51_2018_01_22-S1_prep2_none_win7_inception-bn-blue_features.bp\" && mkdir -p \"/data/CSHL_patch_features/inception-bn-blue/CHATM2/CHATM2_prep2_none_win7\"\n"
     ]
    },
    {
     "name": "stderr",
     "output_type": "stream",
     "text": [
      "Save features: 5.77 seconds\n",
      "locate patches: 0.11 seconds\n"
     ]
    },
    {
     "name": "stdout",
     "output_type": "stream",
     "text": [
      "0\n",
      "aws s3 cp \"s3://mousebrainatlas-data/CSHL_patch_features/inception-bn-blue/CHATM2/CHATM2_prep2_none_win7/CHATM2_slide51_2018_01_22-S1_prep2_none_win7_inception-bn-blue_features.bp\" \"/data/CSHL_patch_features/inception-bn-blue/CHATM2/CHATM2_prep2_none_win7/CHATM2_slide51_2018_01_22-S1_prep2_none_win7_inception-bn-blue_features.bp\"\n",
      "1\n"
     ]
    },
    {
     "name": "stderr",
     "output_type": "stream",
     "text": [
      "Features for CHATM2, 151/CHATM2_slide51_2018_01_22-S1 does not exist.\n",
      "No pre-computed features found... computing from scratch.\n",
      "Not using image_cache.\n"
     ]
    },
    {
     "name": "stdout",
     "output_type": "stream",
     "text": [
      "/data/CSHL_data_processed/CHATM2/CHATM2_prep2_raw_NtbNormalizedAdaptiveInvertedGamma/CHATM2_slide51_2018_01_22-S1_prep2_raw_NtbNormalizedAdaptiveInvertedGamma.tif\n"
     ]
    },
    {
     "name": "stderr",
     "output_type": "stream",
     "text": [
      "Load image: 4.36 seconds.\n",
      "Rescale image from 317 to 224: 5.70 seconds.\n",
      "Crop patches: 1.94 seconds.\n",
      "Extract patches: 12.04 seconds\n"
     ]
    },
    {
     "name": "stdout",
     "output_type": "stream",
     "text": [
      "(38076, 1, 224, 224)\n"
     ]
    },
    {
     "name": "stderr",
     "output_type": "stream",
     "text": [
      "Compute features: 68.70 seconds\n",
      "Compute features at one section, multiple locations: 80.79 seconds\n"
     ]
    },
    {
     "name": "stdout",
     "output_type": "stream",
     "text": [
      "aws s3 cp \"/data/CSHL_patch_features/inception-bn-blue/CHATM2/CHATM2_prep2_none_win7/CHATM2_slide51_2018_01_22-S1_prep2_none_win7_inception-bn-blue_features.bp\" \"s3://mousebrainatlas-data/CSHL_patch_features/inception-bn-blue/CHATM2/CHATM2_prep2_none_win7/CHATM2_slide51_2018_01_22-S1_prep2_none_win7_inception-bn-blue_features.bp\"\n",
      "0\n",
      "aws s3 cp \"/data/CSHL_patch_features/inception-bn-blue/CHATM2/CHATM2_prep2_none_win7/CHATM2_slide51_2018_01_22-S1_prep2_none_win7_inception-bn-blue_locations.bp\" \"s3://mousebrainatlas-data/CSHL_patch_features/inception-bn-blue/CHATM2/CHATM2_prep2_none_win7/CHATM2_slide51_2018_01_22-S1_prep2_none_win7_inception-bn-blue_locations.bp\"\n",
      "0\n",
      "rm -rf \"/data/CSHL_patch_features/inception-bn-blue/CHATM2/CHATM2_prep2_none_win7/CHATM2_slide52_2018_01_22-S1_prep2_none_win7_inception-bn-blue_features.bp\" && mkdir -p \"/data/CSHL_patch_features/inception-bn-blue/CHATM2/CHATM2_prep2_none_win7\"\n",
      "0"
     ]
    },
    {
     "name": "stderr",
     "output_type": "stream",
     "text": [
      "Save features: 4.77 seconds\n",
      "locate patches: 0.08 seconds\n"
     ]
    },
    {
     "name": "stdout",
     "output_type": "stream",
     "text": [
      "\n",
      "aws s3 cp \"s3://mousebrainatlas-data/CSHL_patch_features/inception-bn-blue/CHATM2/CHATM2_prep2_none_win7/CHATM2_slide52_2018_01_22-S1_prep2_none_win7_inception-bn-blue_features.bp\" \"/data/CSHL_patch_features/inception-bn-blue/CHATM2/CHATM2_prep2_none_win7/CHATM2_slide52_2018_01_22-S1_prep2_none_win7_inception-bn-blue_features.bp\"\n",
      "1\n"
     ]
    },
    {
     "name": "stderr",
     "output_type": "stream",
     "text": [
      "Features for CHATM2, 152/CHATM2_slide52_2018_01_22-S1 does not exist.\n",
      "No pre-computed features found... computing from scratch.\n",
      "Not using image_cache.\n"
     ]
    },
    {
     "name": "stdout",
     "output_type": "stream",
     "text": [
      "/data/CSHL_data_processed/CHATM2/CHATM2_prep2_raw_NtbNormalizedAdaptiveInvertedGamma/CHATM2_slide52_2018_01_22-S1_prep2_raw_NtbNormalizedAdaptiveInvertedGamma.tif\n"
     ]
    },
    {
     "name": "stderr",
     "output_type": "stream",
     "text": [
      "Load image: 3.82 seconds.\n",
      "Rescale image from 317 to 224: 3.70 seconds.\n",
      "Crop patches: 1.32 seconds.\n",
      "Extract patches: 8.85 seconds\n"
     ]
    },
    {
     "name": "stdout",
     "output_type": "stream",
     "text": [
      "(30700, 1, 224, 224)\n"
     ]
    },
    {
     "name": "stderr",
     "output_type": "stream",
     "text": [
      "Compute features: 51.76 seconds\n",
      "Compute features at one section, multiple locations: 60.65 seconds\n"
     ]
    },
    {
     "name": "stdout",
     "output_type": "stream",
     "text": [
      "aws s3 cp \"/data/CSHL_patch_features/inception-bn-blue/CHATM2/CHATM2_prep2_none_win7/CHATM2_slide52_2018_01_22-S1_prep2_none_win7_inception-bn-blue_features.bp\" \"s3://mousebrainatlas-data/CSHL_patch_features/inception-bn-blue/CHATM2/CHATM2_prep2_none_win7/CHATM2_slide52_2018_01_22-S1_prep2_none_win7_inception-bn-blue_features.bp\"\n",
      "0\n",
      "aws s3 cp \"/data/CSHL_patch_features/inception-bn-blue/CHATM2/CHATM2_prep2_none_win7/CHATM2_slide52_2018_01_22-S1_prep2_none_win7_inception-bn-blue_locations.bp\" \"s3://mousebrainatlas-data/CSHL_patch_features/inception-bn-blue/CHATM2/CHATM2_prep2_none_win7/CHATM2_slide52_2018_01_22-S1_prep2_none_win7_inception-bn-blue_locations.bp\"\n",
      "0\n",
      "rm -rf \"/data/CSHL_patch_features/inception-bn-blue/CHATM2/CHATM2_prep2_none_win7/CHATM2_slide51_2018_01_22-S2_prep2_none_win7_inception-bn-blue_features.bp\" && mkdir -p \"/data/CSHL_patch_features/inception-bn-blue/CHATM2/CHATM2_prep2_none_win7\"\n"
     ]
    },
    {
     "name": "stderr",
     "output_type": "stream",
     "text": [
      "Save features: 4.60 seconds\n",
      "locate patches: 0.12 seconds\n"
     ]
    },
    {
     "name": "stdout",
     "output_type": "stream",
     "text": [
      "0\n",
      "aws s3 cp \"s3://mousebrainatlas-data/CSHL_patch_features/inception-bn-blue/CHATM2/CHATM2_prep2_none_win7/CHATM2_slide51_2018_01_22-S2_prep2_none_win7_inception-bn-blue_features.bp\" \"/data/CSHL_patch_features/inception-bn-blue/CHATM2/CHATM2_prep2_none_win7/CHATM2_slide51_2018_01_22-S2_prep2_none_win7_inception-bn-blue_features.bp\"\n",
      "1\n"
     ]
    },
    {
     "name": "stderr",
     "output_type": "stream",
     "text": [
      "Features for CHATM2, 153/CHATM2_slide51_2018_01_22-S2 does not exist.\n",
      "No pre-computed features found... computing from scratch.\n",
      "Not using image_cache.\n"
     ]
    },
    {
     "name": "stdout",
     "output_type": "stream",
     "text": [
      "/data/CSHL_data_processed/CHATM2/CHATM2_prep2_raw_NtbNormalizedAdaptiveInvertedGamma/CHATM2_slide51_2018_01_22-S2_prep2_raw_NtbNormalizedAdaptiveInvertedGamma.tif\n"
     ]
    },
    {
     "name": "stderr",
     "output_type": "stream",
     "text": [
      "Load image: 3.85 seconds.\n",
      "Rescale image from 317 to 224: 3.85 seconds.\n",
      "Crop patches: 1.68 seconds.\n",
      "Extract patches: 9.39 seconds\n"
     ]
    },
    {
     "name": "stdout",
     "output_type": "stream",
     "text": [
      "(39776, 1, 224, 224)\n"
     ]
    },
    {
     "name": "stderr",
     "output_type": "stream",
     "text": [
      "Compute features: 69.05 seconds\n",
      "Compute features at one section, multiple locations: 78.49 seconds\n"
     ]
    },
    {
     "name": "stdout",
     "output_type": "stream",
     "text": [
      "aws s3 cp \"/data/CSHL_patch_features/inception-bn-blue/CHATM2/CHATM2_prep2_none_win7/CHATM2_slide51_2018_01_22-S2_prep2_none_win7_inception-bn-blue_features.bp\" \"s3://mousebrainatlas-data/CSHL_patch_features/inception-bn-blue/CHATM2/CHATM2_prep2_none_win7/CHATM2_slide51_2018_01_22-S2_prep2_none_win7_inception-bn-blue_features.bp\"\n",
      "0\n",
      "aws s3 cp \"/data/CSHL_patch_features/inception-bn-blue/CHATM2/CHATM2_prep2_none_win7/CHATM2_slide51_2018_01_22-S2_prep2_none_win7_inception-bn-blue_locations.bp\" \"s3://mousebrainatlas-data/CSHL_patch_features/inception-bn-blue/CHATM2/CHATM2_prep2_none_win7/CHATM2_slide51_2018_01_22-S2_prep2_none_win7_inception-bn-blue_locations.bp\"\n",
      "0\n",
      "rm -rf \"/data/CSHL_patch_features/inception-bn-blue/CHATM2/CHATM2_prep2_none_win7/CHATM2_slide52_2018_01_22-S2_prep2_none_win7_inception-bn-blue_features.bp\" && mkdir -p \"/data/CSHL_patch_features/inception-bn-blue/CHATM2/CHATM2_prep2_none_win7\"\n",
      "0"
     ]
    },
    {
     "name": "stderr",
     "output_type": "stream",
     "text": [
      "Save features: 5.63 seconds\n",
      "locate patches: 0.05 seconds\n"
     ]
    },
    {
     "name": "stdout",
     "output_type": "stream",
     "text": [
      "\n",
      "aws s3 cp \"s3://mousebrainatlas-data/CSHL_patch_features/inception-bn-blue/CHATM2/CHATM2_prep2_none_win7/CHATM2_slide52_2018_01_22-S2_prep2_none_win7_inception-bn-blue_features.bp\" \"/data/CSHL_patch_features/inception-bn-blue/CHATM2/CHATM2_prep2_none_win7/CHATM2_slide52_2018_01_22-S2_prep2_none_win7_inception-bn-blue_features.bp\"\n",
      "1\n"
     ]
    },
    {
     "name": "stderr",
     "output_type": "stream",
     "text": [
      "Features for CHATM2, 154/CHATM2_slide52_2018_01_22-S2 does not exist.\n",
      "No pre-computed features found... computing from scratch.\n",
      "Not using image_cache.\n"
     ]
    },
    {
     "name": "stdout",
     "output_type": "stream",
     "text": [
      "/data/CSHL_data_processed/CHATM2/CHATM2_prep2_raw_NtbNormalizedAdaptiveInvertedGamma/CHATM2_slide52_2018_01_22-S2_prep2_raw_NtbNormalizedAdaptiveInvertedGamma.tif\n"
     ]
    },
    {
     "name": "stderr",
     "output_type": "stream",
     "text": [
      "Load image: 4.73 seconds.\n",
      "Rescale image from 317 to 224: 5.11 seconds.\n",
      "Crop patches: 1.43 seconds.\n",
      "Extract patches: 11.29 seconds\n"
     ]
    },
    {
     "name": "stdout",
     "output_type": "stream",
     "text": [
      "(30833, 1, 224, 224)\n"
     ]
    },
    {
     "name": "stderr",
     "output_type": "stream",
     "text": [
      "Compute features: 50.78 seconds\n",
      "Compute features at one section, multiple locations: 62.11 seconds\n"
     ]
    },
    {
     "name": "stdout",
     "output_type": "stream",
     "text": [
      "aws s3 cp \"/data/CSHL_patch_features/inception-bn-blue/CHATM2/CHATM2_prep2_none_win7/CHATM2_slide52_2018_01_22-S2_prep2_none_win7_inception-bn-blue_features.bp\" \"s3://mousebrainatlas-data/CSHL_patch_features/inception-bn-blue/CHATM2/CHATM2_prep2_none_win7/CHATM2_slide52_2018_01_22-S2_prep2_none_win7_inception-bn-blue_features.bp\"\n",
      "0\n",
      "aws s3 cp \"/data/CSHL_patch_features/inception-bn-blue/CHATM2/CHATM2_prep2_none_win7/CHATM2_slide52_2018_01_22-S2_prep2_none_win7_inception-bn-blue_locations.bp\" \"s3://mousebrainatlas-data/CSHL_patch_features/inception-bn-blue/CHATM2/CHATM2_prep2_none_win7/CHATM2_slide52_2018_01_22-S2_prep2_none_win7_inception-bn-blue_locations.bp\"\n",
      "0\n",
      "rm -rf \"/data/CSHL_patch_features/inception-bn-blue/CHATM2/CHATM2_prep2_none_win7/CHATM2_slide51_2018_01_22-S3_prep2_none_win7_inception-bn-blue_features.bp\" && mkdir -p \"/data/CSHL_patch_features/inception-bn-blue/CHATM2/CHATM2_prep2_none_win7\"\n",
      "0"
     ]
    },
    {
     "name": "stderr",
     "output_type": "stream",
     "text": [
      "Save features: 3.65 seconds\n",
      "locate patches: 0.06 seconds\n"
     ]
    },
    {
     "name": "stdout",
     "output_type": "stream",
     "text": [
      "\n",
      "aws s3 cp \"s3://mousebrainatlas-data/CSHL_patch_features/inception-bn-blue/CHATM2/CHATM2_prep2_none_win7/CHATM2_slide51_2018_01_22-S3_prep2_none_win7_inception-bn-blue_features.bp\" \"/data/CSHL_patch_features/inception-bn-blue/CHATM2/CHATM2_prep2_none_win7/CHATM2_slide51_2018_01_22-S3_prep2_none_win7_inception-bn-blue_features.bp\"\n",
      "1\n"
     ]
    },
    {
     "name": "stderr",
     "output_type": "stream",
     "text": [
      "Features for CHATM2, 155/CHATM2_slide51_2018_01_22-S3 does not exist.\n",
      "No pre-computed features found... computing from scratch.\n",
      "Not using image_cache.\n"
     ]
    },
    {
     "name": "stdout",
     "output_type": "stream",
     "text": [
      "/data/CSHL_data_processed/CHATM2/CHATM2_prep2_raw_NtbNormalizedAdaptiveInvertedGamma/CHATM2_slide51_2018_01_22-S3_prep2_raw_NtbNormalizedAdaptiveInvertedGamma.tif\n"
     ]
    },
    {
     "name": "stderr",
     "output_type": "stream",
     "text": [
      "Load image: 3.92 seconds.\n",
      "Rescale image from 317 to 224: 4.84 seconds.\n",
      "Crop patches: 1.99 seconds.\n",
      "Extract patches: 10.76 seconds\n"
     ]
    },
    {
     "name": "stdout",
     "output_type": "stream",
     "text": [
      "(39552, 1, 224, 224)\n"
     ]
    },
    {
     "name": "stderr",
     "output_type": "stream",
     "text": [
      "Compute features: 72.70 seconds\n",
      "Compute features at one section, multiple locations: 83.51 seconds\n"
     ]
    },
    {
     "name": "stdout",
     "output_type": "stream",
     "text": [
      "aws s3 cp \"/data/CSHL_patch_features/inception-bn-blue/CHATM2/CHATM2_prep2_none_win7/CHATM2_slide51_2018_01_22-S3_prep2_none_win7_inception-bn-blue_features.bp\" \"s3://mousebrainatlas-data/CSHL_patch_features/inception-bn-blue/CHATM2/CHATM2_prep2_none_win7/CHATM2_slide51_2018_01_22-S3_prep2_none_win7_inception-bn-blue_features.bp\"\n",
      "0\n",
      "aws s3 cp \"/data/CSHL_patch_features/inception-bn-blue/CHATM2/CHATM2_prep2_none_win7/CHATM2_slide51_2018_01_22-S3_prep2_none_win7_inception-bn-blue_locations.bp\" \"s3://mousebrainatlas-data/CSHL_patch_features/inception-bn-blue/CHATM2/CHATM2_prep2_none_win7/CHATM2_slide51_2018_01_22-S3_prep2_none_win7_inception-bn-blue_locations.bp\"\n",
      "0\n",
      "rm -rf \"/data/CSHL_patch_features/inception-bn-blue/CHATM2/CHATM2_prep2_none_win7/CHATM2_slide52_2018_01_22-S3_prep2_none_win7_inception-bn-blue_features.bp\" && mkdir -p \"/data/CSHL_patch_features/inception-bn-blue/CHATM2/CHATM2_prep2_none_win7\"\n",
      "0\n",
      "aws s3 cp \"s3://mousebrainatlas-data/CSHL_patch_features/inception-bn-blue/CHATM2/CHATM2_prep2_none_win7/CHATM2_slide52_2018_01_22-S3_prep2_none_win7_inception-bn-blue_features.bp\" \"/data/CSHL_patch_features/inception-bn-blue/CHATM2/CHATM2_prep2_none_win7/CHATM2_slide52_2018_01_22-S3_prep2_none_win7_inception-bn-blue_features.bp\""
     ]
    },
    {
     "name": "stderr",
     "output_type": "stream",
     "text": [
      "Save features: 4.62 seconds\n",
      "locate patches: 0.04 seconds\n"
     ]
    },
    {
     "name": "stdout",
     "output_type": "stream",
     "text": [
      "\n",
      "1\n"
     ]
    },
    {
     "name": "stderr",
     "output_type": "stream",
     "text": [
      "Features for CHATM2, 156/CHATM2_slide52_2018_01_22-S3 does not exist.\n",
      "No pre-computed features found... computing from scratch.\n",
      "Not using image_cache.\n"
     ]
    },
    {
     "name": "stdout",
     "output_type": "stream",
     "text": [
      "/data/CSHL_data_processed/CHATM2/CHATM2_prep2_raw_NtbNormalizedAdaptiveInvertedGamma/CHATM2_slide52_2018_01_22-S3_prep2_raw_NtbNormalizedAdaptiveInvertedGamma.tif\n"
     ]
    },
    {
     "name": "stderr",
     "output_type": "stream",
     "text": [
      "Load image: 3.97 seconds.\n",
      "Rescale image from 317 to 224: 4.99 seconds.\n",
      "Crop patches: 1.56 seconds.\n",
      "Extract patches: 10.54 seconds\n"
     ]
    },
    {
     "name": "stdout",
     "output_type": "stream",
     "text": [
      "(33159, 1, 224, 224)\n"
     ]
    },
    {
     "name": "stderr",
     "output_type": "stream",
     "text": [
      "Compute features: 61.53 seconds\n",
      "Compute features at one section, multiple locations: 72.11 seconds\n"
     ]
    },
    {
     "name": "stdout",
     "output_type": "stream",
     "text": [
      "aws s3 cp \"/data/CSHL_patch_features/inception-bn-blue/CHATM2/CHATM2_prep2_none_win7/CHATM2_slide52_2018_01_22-S3_prep2_none_win7_inception-bn-blue_features.bp\" \"s3://mousebrainatlas-data/CSHL_patch_features/inception-bn-blue/CHATM2/CHATM2_prep2_none_win7/CHATM2_slide52_2018_01_22-S3_prep2_none_win7_inception-bn-blue_features.bp\"\n",
      "0\n",
      "aws s3 cp \"/data/CSHL_patch_features/inception-bn-blue/CHATM2/CHATM2_prep2_none_win7/CHATM2_slide52_2018_01_22-S3_prep2_none_win7_inception-bn-blue_locations.bp\" \"s3://mousebrainatlas-data/CSHL_patch_features/inception-bn-blue/CHATM2/CHATM2_prep2_none_win7/CHATM2_slide52_2018_01_22-S3_prep2_none_win7_inception-bn-blue_locations.bp\"\n",
      "0\n",
      "rm -rf \"/data/CSHL_patch_features/inception-bn-blue/CHATM2/CHATM2_prep2_none_win7/CHATM2_slide53_2018_01_22-S1_prep2_none_win7_inception-bn-blue_features.bp\" && mkdir -p \"/data/CSHL_patch_features/inception-bn-blue/CHATM2/CHATM2_prep2_none_win7\"\n",
      "0"
     ]
    },
    {
     "name": "stderr",
     "output_type": "stream",
     "text": [
      "Save features: 3.73 seconds\n",
      "locate patches: 0.06 seconds\n"
     ]
    },
    {
     "name": "stdout",
     "output_type": "stream",
     "text": [
      "\n",
      "aws s3 cp \"s3://mousebrainatlas-data/CSHL_patch_features/inception-bn-blue/CHATM2/CHATM2_prep2_none_win7/CHATM2_slide53_2018_01_22-S1_prep2_none_win7_inception-bn-blue_features.bp\" \"/data/CSHL_patch_features/inception-bn-blue/CHATM2/CHATM2_prep2_none_win7/CHATM2_slide53_2018_01_22-S1_prep2_none_win7_inception-bn-blue_features.bp\"\n",
      "1\n"
     ]
    },
    {
     "name": "stderr",
     "output_type": "stream",
     "text": [
      "Features for CHATM2, 157/CHATM2_slide53_2018_01_22-S1 does not exist.\n",
      "No pre-computed features found... computing from scratch.\n",
      "Not using image_cache.\n"
     ]
    },
    {
     "name": "stdout",
     "output_type": "stream",
     "text": [
      "/data/CSHL_data_processed/CHATM2/CHATM2_prep2_raw_NtbNormalizedAdaptiveInvertedGamma/CHATM2_slide53_2018_01_22-S1_prep2_raw_NtbNormalizedAdaptiveInvertedGamma.tif\n"
     ]
    },
    {
     "name": "stderr",
     "output_type": "stream",
     "text": [
      "Load image: 3.75 seconds.\n",
      "Rescale image from 317 to 224: 3.22 seconds.\n",
      "Crop patches: 1.42 seconds.\n",
      "Extract patches: 8.40 seconds\n"
     ]
    },
    {
     "name": "stdout",
     "output_type": "stream",
     "text": [
      "(40414, 1, 224, 224)\n"
     ]
    },
    {
     "name": "stderr",
     "output_type": "stream",
     "text": [
      "Compute features: 73.08 seconds\n",
      "Compute features at one section, multiple locations: 81.53 seconds\n"
     ]
    },
    {
     "name": "stdout",
     "output_type": "stream",
     "text": [
      "aws s3 cp \"/data/CSHL_patch_features/inception-bn-blue/CHATM2/CHATM2_prep2_none_win7/CHATM2_slide53_2018_01_22-S1_prep2_none_win7_inception-bn-blue_features.bp\" \"s3://mousebrainatlas-data/CSHL_patch_features/inception-bn-blue/CHATM2/CHATM2_prep2_none_win7/CHATM2_slide53_2018_01_22-S1_prep2_none_win7_inception-bn-blue_features.bp\"\n",
      "0\n",
      "aws s3 cp \"/data/CSHL_patch_features/inception-bn-blue/CHATM2/CHATM2_prep2_none_win7/CHATM2_slide53_2018_01_22-S1_prep2_none_win7_inception-bn-blue_locations.bp\" \"s3://mousebrainatlas-data/CSHL_patch_features/inception-bn-blue/CHATM2/CHATM2_prep2_none_win7/CHATM2_slide53_2018_01_22-S1_prep2_none_win7_inception-bn-blue_locations.bp\"\n",
      "0\n",
      "rm -rf \"/data/CSHL_patch_features/inception-bn-blue/CHATM2/CHATM2_prep2_none_win7/CHATM2_slide54_2018_01_22-S1_prep2_none_win7_inception-bn-blue_features.bp\" && mkdir -p \"/data/CSHL_patch_features/inception-bn-blue/CHATM2/CHATM2_prep2_none_win7\"\n",
      "0\n",
      "aws s3 cp \"s3://mousebrainatlas-data/CSHL_patch_features/inception-bn-blue/CHATM2/CHATM2_prep2_none_win7/CHATM2_slide54_2018_01_22-S1_prep2_none_win7_inception-bn-blue_features.bp\" \"/data/CSHL_patch_features/inception-bn-blue/CHATM2/CHATM2_prep2_none_win7/CHATM2_slide54_2018_01_22-S1_prep2_none_win7_inception-bn-blue_features.bp\""
     ]
    },
    {
     "name": "stderr",
     "output_type": "stream",
     "text": [
      "Save features: 3.84 seconds\n",
      "locate patches: 0.06 seconds\n"
     ]
    },
    {
     "name": "stdout",
     "output_type": "stream",
     "text": [
      "\n",
      "1\n"
     ]
    },
    {
     "name": "stderr",
     "output_type": "stream",
     "text": [
      "Features for CHATM2, 158/CHATM2_slide54_2018_01_22-S1 does not exist.\n",
      "No pre-computed features found... computing from scratch.\n",
      "Not using image_cache.\n"
     ]
    },
    {
     "name": "stdout",
     "output_type": "stream",
     "text": [
      "/data/CSHL_data_processed/CHATM2/CHATM2_prep2_raw_NtbNormalizedAdaptiveInvertedGamma/CHATM2_slide54_2018_01_22-S1_prep2_raw_NtbNormalizedAdaptiveInvertedGamma.tif\n"
     ]
    },
    {
     "name": "stderr",
     "output_type": "stream",
     "text": [
      "Load image: 4.33 seconds.\n",
      "Rescale image from 317 to 224: 4.06 seconds.\n",
      "Crop patches: 1.84 seconds.\n",
      "Extract patches: 10.24 seconds\n"
     ]
    },
    {
     "name": "stdout",
     "output_type": "stream",
     "text": [
      "(31533, 1, 224, 224)\n"
     ]
    },
    {
     "name": "stderr",
     "output_type": "stream",
     "text": [
      "Compute features: 52.30 seconds\n",
      "Compute features at one section, multiple locations: 62.59 seconds\n"
     ]
    },
    {
     "name": "stdout",
     "output_type": "stream",
     "text": [
      "aws s3 cp \"/data/CSHL_patch_features/inception-bn-blue/CHATM2/CHATM2_prep2_none_win7/CHATM2_slide54_2018_01_22-S1_prep2_none_win7_inception-bn-blue_features.bp\" \"s3://mousebrainatlas-data/CSHL_patch_features/inception-bn-blue/CHATM2/CHATM2_prep2_none_win7/CHATM2_slide54_2018_01_22-S1_prep2_none_win7_inception-bn-blue_features.bp\"\n",
      "0\n",
      "aws s3 cp \"/data/CSHL_patch_features/inception-bn-blue/CHATM2/CHATM2_prep2_none_win7/CHATM2_slide54_2018_01_22-S1_prep2_none_win7_inception-bn-blue_locations.bp\" \"s3://mousebrainatlas-data/CSHL_patch_features/inception-bn-blue/CHATM2/CHATM2_prep2_none_win7/CHATM2_slide54_2018_01_22-S1_prep2_none_win7_inception-bn-blue_locations.bp\"\n",
      "0\n",
      "rm -rf \"/data/CSHL_patch_features/inception-bn-blue/CHATM2/CHATM2_prep2_none_win7/CHATM2_slide53_2018_01_22-S2_prep2_none_win7_inception-bn-blue_features.bp\" && mkdir -p \"/data/CSHL_patch_features/inception-bn-blue/CHATM2/CHATM2_prep2_none_win7\"\n"
     ]
    },
    {
     "name": "stderr",
     "output_type": "stream",
     "text": [
      "Save features: 4.66 seconds\n",
      "locate patches: 0.12 seconds\n"
     ]
    },
    {
     "name": "stdout",
     "output_type": "stream",
     "text": [
      "0\n",
      "aws s3 cp \"s3://mousebrainatlas-data/CSHL_patch_features/inception-bn-blue/CHATM2/CHATM2_prep2_none_win7/CHATM2_slide53_2018_01_22-S2_prep2_none_win7_inception-bn-blue_features.bp\" \"/data/CSHL_patch_features/inception-bn-blue/CHATM2/CHATM2_prep2_none_win7/CHATM2_slide53_2018_01_22-S2_prep2_none_win7_inception-bn-blue_features.bp\"\n",
      "1\n"
     ]
    },
    {
     "name": "stderr",
     "output_type": "stream",
     "text": [
      "Features for CHATM2, 159/CHATM2_slide53_2018_01_22-S2 does not exist.\n",
      "No pre-computed features found... computing from scratch.\n",
      "Not using image_cache.\n"
     ]
    },
    {
     "name": "stdout",
     "output_type": "stream",
     "text": [
      "/data/CSHL_data_processed/CHATM2/CHATM2_prep2_raw_NtbNormalizedAdaptiveInvertedGamma/CHATM2_slide53_2018_01_22-S2_prep2_raw_NtbNormalizedAdaptiveInvertedGamma.tif\n"
     ]
    },
    {
     "name": "stderr",
     "output_type": "stream",
     "text": [
      "Load image: 5.75 seconds.\n",
      "Rescale image from 317 to 224: 4.34 seconds.\n",
      "Crop patches: 1.39 seconds.\n",
      "Extract patches: 11.50 seconds\n"
     ]
    },
    {
     "name": "stdout",
     "output_type": "stream",
     "text": [
      "(40549, 1, 224, 224)\n"
     ]
    },
    {
     "name": "stderr",
     "output_type": "stream",
     "text": [
      "Compute features: 65.03 seconds\n",
      "Compute features at one section, multiple locations: 76.58 seconds\n"
     ]
    },
    {
     "name": "stdout",
     "output_type": "stream",
     "text": [
      "aws s3 cp \"/data/CSHL_patch_features/inception-bn-blue/CHATM2/CHATM2_prep2_none_win7/CHATM2_slide53_2018_01_22-S2_prep2_none_win7_inception-bn-blue_features.bp\" \"s3://mousebrainatlas-data/CSHL_patch_features/inception-bn-blue/CHATM2/CHATM2_prep2_none_win7/CHATM2_slide53_2018_01_22-S2_prep2_none_win7_inception-bn-blue_features.bp\"\n",
      "0\n",
      "aws s3 cp \"/data/CSHL_patch_features/inception-bn-blue/CHATM2/CHATM2_prep2_none_win7/CHATM2_slide53_2018_01_22-S2_prep2_none_win7_inception-bn-blue_locations.bp\" \"s3://mousebrainatlas-data/CSHL_patch_features/inception-bn-blue/CHATM2/CHATM2_prep2_none_win7/CHATM2_slide53_2018_01_22-S2_prep2_none_win7_inception-bn-blue_locations.bp\"\n",
      "0\n",
      "rm -rf \"/data/CSHL_patch_features/inception-bn-blue/CHATM2/CHATM2_prep2_none_win7/CHATM2_slide54_2018_01_22-S2_prep2_none_win7_inception-bn-blue_features.bp\" && mkdir -p \"/data/CSHL_patch_features/inception-bn-blue/CHATM2/CHATM2_prep2_none_win7\"\n",
      "0"
     ]
    },
    {
     "name": "stderr",
     "output_type": "stream",
     "text": [
      "Save features: 4.71 seconds\n",
      "locate patches: 0.07 seconds\n"
     ]
    },
    {
     "name": "stdout",
     "output_type": "stream",
     "text": [
      "\n",
      "aws s3 cp \"s3://mousebrainatlas-data/CSHL_patch_features/inception-bn-blue/CHATM2/CHATM2_prep2_none_win7/CHATM2_slide54_2018_01_22-S2_prep2_none_win7_inception-bn-blue_features.bp\" \"/data/CSHL_patch_features/inception-bn-blue/CHATM2/CHATM2_prep2_none_win7/CHATM2_slide54_2018_01_22-S2_prep2_none_win7_inception-bn-blue_features.bp\"\n",
      "1\n"
     ]
    },
    {
     "name": "stderr",
     "output_type": "stream",
     "text": [
      "Features for CHATM2, 160/CHATM2_slide54_2018_01_22-S2 does not exist.\n",
      "No pre-computed features found... computing from scratch.\n",
      "Not using image_cache.\n"
     ]
    },
    {
     "name": "stdout",
     "output_type": "stream",
     "text": [
      "/data/CSHL_data_processed/CHATM2/CHATM2_prep2_raw_NtbNormalizedAdaptiveInvertedGamma/CHATM2_slide54_2018_01_22-S2_prep2_raw_NtbNormalizedAdaptiveInvertedGamma.tif\n"
     ]
    },
    {
     "name": "stderr",
     "output_type": "stream",
     "text": [
      "Load image: 6.72 seconds.\n",
      "Rescale image from 317 to 224: 4.95 seconds.\n",
      "Crop patches: 1.88 seconds.\n",
      "Extract patches: 13.57 seconds\n"
     ]
    },
    {
     "name": "stdout",
     "output_type": "stream",
     "text": [
      "(40023, 1, 224, 224)\n"
     ]
    },
    {
     "name": "stderr",
     "output_type": "stream",
     "text": [
      "Compute features: 65.21 seconds\n",
      "Compute features at one section, multiple locations: 78.82 seconds\n"
     ]
    },
    {
     "name": "stdout",
     "output_type": "stream",
     "text": [
      "aws s3 cp \"/data/CSHL_patch_features/inception-bn-blue/CHATM2/CHATM2_prep2_none_win7/CHATM2_slide54_2018_01_22-S2_prep2_none_win7_inception-bn-blue_features.bp\" \"s3://mousebrainatlas-data/CSHL_patch_features/inception-bn-blue/CHATM2/CHATM2_prep2_none_win7/CHATM2_slide54_2018_01_22-S2_prep2_none_win7_inception-bn-blue_features.bp\"\n",
      "0\n",
      "aws s3 cp \"/data/CSHL_patch_features/inception-bn-blue/CHATM2/CHATM2_prep2_none_win7/CHATM2_slide54_2018_01_22-S2_prep2_none_win7_inception-bn-blue_locations.bp\" \"s3://mousebrainatlas-data/CSHL_patch_features/inception-bn-blue/CHATM2/CHATM2_prep2_none_win7/CHATM2_slide54_2018_01_22-S2_prep2_none_win7_inception-bn-blue_locations.bp\"\n",
      "0\n",
      "rm -rf \"/data/CSHL_patch_features/inception-bn-blue/CHATM2/CHATM2_prep2_none_win7/CHATM2_slide53_2018_01_22-S3_prep2_none_win7_inception-bn-blue_features.bp\" && mkdir -p \"/data/CSHL_patch_features/inception-bn-blue/CHATM2/CHATM2_prep2_none_win7\"\n"
     ]
    },
    {
     "name": "stderr",
     "output_type": "stream",
     "text": [
      "Save features: 5.25 seconds\n",
      "locate patches: 0.17 seconds\n"
     ]
    },
    {
     "name": "stdout",
     "output_type": "stream",
     "text": [
      "0\n",
      "aws s3 cp \"s3://mousebrainatlas-data/CSHL_patch_features/inception-bn-blue/CHATM2/CHATM2_prep2_none_win7/CHATM2_slide53_2018_01_22-S3_prep2_none_win7_inception-bn-blue_features.bp\" \"/data/CSHL_patch_features/inception-bn-blue/CHATM2/CHATM2_prep2_none_win7/CHATM2_slide53_2018_01_22-S3_prep2_none_win7_inception-bn-blue_features.bp\"\n",
      "1\n"
     ]
    },
    {
     "name": "stderr",
     "output_type": "stream",
     "text": [
      "Features for CHATM2, 161/CHATM2_slide53_2018_01_22-S3 does not exist.\n",
      "No pre-computed features found... computing from scratch.\n",
      "Not using image_cache.\n"
     ]
    },
    {
     "name": "stdout",
     "output_type": "stream",
     "text": [
      "/data/CSHL_data_processed/CHATM2/CHATM2_prep2_raw_NtbNormalizedAdaptiveInvertedGamma/CHATM2_slide53_2018_01_22-S3_prep2_raw_NtbNormalizedAdaptiveInvertedGamma.tif\n"
     ]
    },
    {
     "name": "stderr",
     "output_type": "stream",
     "text": [
      "Load image: 5.77 seconds.\n",
      "Rescale image from 317 to 224: 5.05 seconds.\n",
      "Crop patches: 2.10 seconds.\n",
      "Extract patches: 12.95 seconds\n"
     ]
    },
    {
     "name": "stdout",
     "output_type": "stream",
     "text": [
      "(40307, 1, 224, 224)\n"
     ]
    },
    {
     "name": "stderr",
     "output_type": "stream",
     "text": [
      "Compute features: 65.76 seconds\n",
      "Compute features at one section, multiple locations: 78.75 seconds\n"
     ]
    },
    {
     "name": "stdout",
     "output_type": "stream",
     "text": [
      "aws s3 cp \"/data/CSHL_patch_features/inception-bn-blue/CHATM2/CHATM2_prep2_none_win7/CHATM2_slide53_2018_01_22-S3_prep2_none_win7_inception-bn-blue_features.bp\" \"s3://mousebrainatlas-data/CSHL_patch_features/inception-bn-blue/CHATM2/CHATM2_prep2_none_win7/CHATM2_slide53_2018_01_22-S3_prep2_none_win7_inception-bn-blue_features.bp\"\n",
      "0\n",
      "aws s3 cp \"/data/CSHL_patch_features/inception-bn-blue/CHATM2/CHATM2_prep2_none_win7/CHATM2_slide53_2018_01_22-S3_prep2_none_win7_inception-bn-blue_locations.bp\" \"s3://mousebrainatlas-data/CSHL_patch_features/inception-bn-blue/CHATM2/CHATM2_prep2_none_win7/CHATM2_slide53_2018_01_22-S3_prep2_none_win7_inception-bn-blue_locations.bp\"\n",
      "0\n",
      "rm -rf \"/data/CSHL_patch_features/inception-bn-blue/CHATM2/CHATM2_prep2_none_win7/CHATM2_slide54_2018_01_22-S3_prep2_none_win7_inception-bn-blue_features.bp\" && mkdir -p \"/data/CSHL_patch_features/inception-bn-blue/CHATM2/CHATM2_prep2_none_win7\"\n"
     ]
    },
    {
     "name": "stderr",
     "output_type": "stream",
     "text": [
      "Save features: 4.87 seconds\n",
      "locate patches: 0.12 seconds\n"
     ]
    },
    {
     "name": "stdout",
     "output_type": "stream",
     "text": [
      "0\n",
      "aws s3 cp \"s3://mousebrainatlas-data/CSHL_patch_features/inception-bn-blue/CHATM2/CHATM2_prep2_none_win7/CHATM2_slide54_2018_01_22-S3_prep2_none_win7_inception-bn-blue_features.bp\" \"/data/CSHL_patch_features/inception-bn-blue/CHATM2/CHATM2_prep2_none_win7/CHATM2_slide54_2018_01_22-S3_prep2_none_win7_inception-bn-blue_features.bp\"\n",
      "1\n"
     ]
    },
    {
     "name": "stderr",
     "output_type": "stream",
     "text": [
      "Features for CHATM2, 162/CHATM2_slide54_2018_01_22-S3 does not exist.\n",
      "No pre-computed features found... computing from scratch.\n",
      "Not using image_cache.\n"
     ]
    },
    {
     "name": "stdout",
     "output_type": "stream",
     "text": [
      "/data/CSHL_data_processed/CHATM2/CHATM2_prep2_raw_NtbNormalizedAdaptiveInvertedGamma/CHATM2_slide54_2018_01_22-S3_prep2_raw_NtbNormalizedAdaptiveInvertedGamma.tif\n"
     ]
    },
    {
     "name": "stderr",
     "output_type": "stream",
     "text": [
      "Load image: 7.08 seconds.\n",
      "Rescale image from 317 to 224: 5.73 seconds.\n",
      "Crop patches: 1.95 seconds.\n",
      "Extract patches: 14.79 seconds\n"
     ]
    },
    {
     "name": "stdout",
     "output_type": "stream",
     "text": [
      "(40359, 1, 224, 224)\n"
     ]
    },
    {
     "name": "stderr",
     "output_type": "stream",
     "text": [
      "Compute features: 69.28 seconds\n",
      "Compute features at one section, multiple locations: 84.12 seconds\n"
     ]
    },
    {
     "name": "stdout",
     "output_type": "stream",
     "text": [
      "aws s3 cp \"/data/CSHL_patch_features/inception-bn-blue/CHATM2/CHATM2_prep2_none_win7/CHATM2_slide54_2018_01_22-S3_prep2_none_win7_inception-bn-blue_features.bp\" \"s3://mousebrainatlas-data/CSHL_patch_features/inception-bn-blue/CHATM2/CHATM2_prep2_none_win7/CHATM2_slide54_2018_01_22-S3_prep2_none_win7_inception-bn-blue_features.bp\"\n",
      "0\n",
      "aws s3 cp \"/data/CSHL_patch_features/inception-bn-blue/CHATM2/CHATM2_prep2_none_win7/CHATM2_slide54_2018_01_22-S3_prep2_none_win7_inception-bn-blue_locations.bp\" \"s3://mousebrainatlas-data/CSHL_patch_features/inception-bn-blue/CHATM2/CHATM2_prep2_none_win7/CHATM2_slide54_2018_01_22-S3_prep2_none_win7_inception-bn-blue_locations.bp\"\n",
      "0\n"
     ]
    },
    {
     "name": "stderr",
     "output_type": "stream",
     "text": [
      "Save features: 5.57 seconds\n",
      "locate patches: 0.26 seconds\n"
     ]
    },
    {
     "name": "stdout",
     "output_type": "stream",
     "text": [
      "rm -rf \"/data/CSHL_patch_features/inception-bn-blue/CHATM2/CHATM2_prep2_none_win7/CHATM2_slide55_2018_01_22-S1_prep2_none_win7_inception-bn-blue_features.bp\" && mkdir -p \"/data/CSHL_patch_features/inception-bn-blue/CHATM2/CHATM2_prep2_none_win7\"\n",
      "0\n",
      "aws s3 cp \"s3://mousebrainatlas-data/CSHL_patch_features/inception-bn-blue/CHATM2/CHATM2_prep2_none_win7/CHATM2_slide55_2018_01_22-S1_prep2_none_win7_inception-bn-blue_features.bp\" \"/data/CSHL_patch_features/inception-bn-blue/CHATM2/CHATM2_prep2_none_win7/CHATM2_slide55_2018_01_22-S1_prep2_none_win7_inception-bn-blue_features.bp\"\n",
      "1\n"
     ]
    },
    {
     "name": "stderr",
     "output_type": "stream",
     "text": [
      "Features for CHATM2, 163/CHATM2_slide55_2018_01_22-S1 does not exist.\n",
      "No pre-computed features found... computing from scratch.\n",
      "Not using image_cache.\n"
     ]
    },
    {
     "name": "stdout",
     "output_type": "stream",
     "text": [
      "/data/CSHL_data_processed/CHATM2/CHATM2_prep2_raw_NtbNormalizedAdaptiveInvertedGamma/CHATM2_slide55_2018_01_22-S1_prep2_raw_NtbNormalizedAdaptiveInvertedGamma.tif\n"
     ]
    },
    {
     "name": "stderr",
     "output_type": "stream",
     "text": [
      "Load image: 6.82 seconds.\n",
      "Rescale image from 317 to 224: 3.83 seconds.\n",
      "Crop patches: 1.27 seconds.\n",
      "Extract patches: 11.94 seconds\n"
     ]
    },
    {
     "name": "stdout",
     "output_type": "stream",
     "text": [
      "(40520, 1, 224, 224)\n"
     ]
    },
    {
     "name": "stderr",
     "output_type": "stream",
     "text": [
      "Compute features: 64.98 seconds\n",
      "Compute features at one section, multiple locations: 76.97 seconds\n"
     ]
    },
    {
     "name": "stdout",
     "output_type": "stream",
     "text": [
      "aws s3 cp \"/data/CSHL_patch_features/inception-bn-blue/CHATM2/CHATM2_prep2_none_win7/CHATM2_slide55_2018_01_22-S1_prep2_none_win7_inception-bn-blue_features.bp\" \"s3://mousebrainatlas-data/CSHL_patch_features/inception-bn-blue/CHATM2/CHATM2_prep2_none_win7/CHATM2_slide55_2018_01_22-S1_prep2_none_win7_inception-bn-blue_features.bp\"\n",
      "0\n",
      "aws s3 cp \"/data/CSHL_patch_features/inception-bn-blue/CHATM2/CHATM2_prep2_none_win7/CHATM2_slide55_2018_01_22-S1_prep2_none_win7_inception-bn-blue_locations.bp\" \"s3://mousebrainatlas-data/CSHL_patch_features/inception-bn-blue/CHATM2/CHATM2_prep2_none_win7/CHATM2_slide55_2018_01_22-S1_prep2_none_win7_inception-bn-blue_locations.bp\"\n",
      "0\n",
      "rm -rf \"/data/CSHL_patch_features/inception-bn-blue/CHATM2/CHATM2_prep2_none_win7/CHATM2_slide56_2018_01_22-S1_prep2_none_win7_inception-bn-blue_features.bp\" && mkdir -p \"/data/CSHL_patch_features/inception-bn-blue/CHATM2/CHATM2_prep2_none_win7\"\n",
      "0"
     ]
    },
    {
     "name": "stderr",
     "output_type": "stream",
     "text": [
      "Save features: 5.21 seconds\n",
      "locate patches: 0.08 seconds\n"
     ]
    },
    {
     "name": "stdout",
     "output_type": "stream",
     "text": [
      "\n",
      "aws s3 cp \"s3://mousebrainatlas-data/CSHL_patch_features/inception-bn-blue/CHATM2/CHATM2_prep2_none_win7/CHATM2_slide56_2018_01_22-S1_prep2_none_win7_inception-bn-blue_features.bp\" \"/data/CSHL_patch_features/inception-bn-blue/CHATM2/CHATM2_prep2_none_win7/CHATM2_slide56_2018_01_22-S1_prep2_none_win7_inception-bn-blue_features.bp\"\n",
      "1\n"
     ]
    },
    {
     "name": "stderr",
     "output_type": "stream",
     "text": [
      "Features for CHATM2, 164/CHATM2_slide56_2018_01_22-S1 does not exist.\n",
      "No pre-computed features found... computing from scratch.\n",
      "Not using image_cache.\n"
     ]
    },
    {
     "name": "stdout",
     "output_type": "stream",
     "text": [
      "/data/CSHL_data_processed/CHATM2/CHATM2_prep2_raw_NtbNormalizedAdaptiveInvertedGamma/CHATM2_slide56_2018_01_22-S1_prep2_raw_NtbNormalizedAdaptiveInvertedGamma.tif\n"
     ]
    },
    {
     "name": "stderr",
     "output_type": "stream",
     "text": [
      "Load image: 3.97 seconds.\n",
      "Rescale image from 317 to 224: 3.44 seconds.\n",
      "Crop patches: 1.21 seconds.\n",
      "Extract patches: 8.65 seconds\n"
     ]
    },
    {
     "name": "stdout",
     "output_type": "stream",
     "text": [
      "(40085, 1, 224, 224)\n"
     ]
    },
    {
     "name": "stderr",
     "output_type": "stream",
     "text": [
      "Compute features: 63.93 seconds\n",
      "Compute features at one section, multiple locations: 72.60 seconds\n"
     ]
    },
    {
     "name": "stdout",
     "output_type": "stream",
     "text": [
      "aws s3 cp \"/data/CSHL_patch_features/inception-bn-blue/CHATM2/CHATM2_prep2_none_win7/CHATM2_slide56_2018_01_22-S1_prep2_none_win7_inception-bn-blue_features.bp\" \"s3://mousebrainatlas-data/CSHL_patch_features/inception-bn-blue/CHATM2/CHATM2_prep2_none_win7/CHATM2_slide56_2018_01_22-S1_prep2_none_win7_inception-bn-blue_features.bp\"\n",
      "0\n",
      "aws s3 cp \"/data/CSHL_patch_features/inception-bn-blue/CHATM2/CHATM2_prep2_none_win7/CHATM2_slide56_2018_01_22-S1_prep2_none_win7_inception-bn-blue_locations.bp\" \"s3://mousebrainatlas-data/CSHL_patch_features/inception-bn-blue/CHATM2/CHATM2_prep2_none_win7/CHATM2_slide56_2018_01_22-S1_prep2_none_win7_inception-bn-blue_locations.bp\"\n",
      "0\n"
     ]
    },
    {
     "name": "stderr",
     "output_type": "stream",
     "text": [
      "Save features: 6.38 seconds\n",
      "locate patches: 0.23 seconds\n"
     ]
    },
    {
     "name": "stdout",
     "output_type": "stream",
     "text": [
      "rm -rf \"/data/CSHL_patch_features/inception-bn-blue/CHATM2/CHATM2_prep2_none_win7/CHATM2_slide55_2018_01_22-S2_prep2_none_win7_inception-bn-blue_features.bp\" && mkdir -p \"/data/CSHL_patch_features/inception-bn-blue/CHATM2/CHATM2_prep2_none_win7\"\n",
      "0\n",
      "aws s3 cp \"s3://mousebrainatlas-data/CSHL_patch_features/inception-bn-blue/CHATM2/CHATM2_prep2_none_win7/CHATM2_slide55_2018_01_22-S2_prep2_none_win7_inception-bn-blue_features.bp\" \"/data/CSHL_patch_features/inception-bn-blue/CHATM2/CHATM2_prep2_none_win7/CHATM2_slide55_2018_01_22-S2_prep2_none_win7_inception-bn-blue_features.bp\"\n",
      "1\n"
     ]
    },
    {
     "name": "stderr",
     "output_type": "stream",
     "text": [
      "Features for CHATM2, 165/CHATM2_slide55_2018_01_22-S2 does not exist.\n",
      "No pre-computed features found... computing from scratch.\n",
      "Not using image_cache.\n"
     ]
    },
    {
     "name": "stdout",
     "output_type": "stream",
     "text": [
      "/data/CSHL_data_processed/CHATM2/CHATM2_prep2_raw_NtbNormalizedAdaptiveInvertedGamma/CHATM2_slide55_2018_01_22-S2_prep2_raw_NtbNormalizedAdaptiveInvertedGamma.tif\n"
     ]
    },
    {
     "name": "stderr",
     "output_type": "stream",
     "text": [
      "Load image: 5.48 seconds.\n",
      "Rescale image from 317 to 224: 3.15 seconds.\n",
      "Crop patches: 1.16 seconds.\n",
      "Extract patches: 9.81 seconds\n"
     ]
    },
    {
     "name": "stdout",
     "output_type": "stream",
     "text": [
      "(40415, 1, 224, 224)\n"
     ]
    },
    {
     "name": "stderr",
     "output_type": "stream",
     "text": [
      "Compute features: 63.82 seconds\n",
      "Compute features at one section, multiple locations: 73.68 seconds\n"
     ]
    },
    {
     "name": "stdout",
     "output_type": "stream",
     "text": [
      "aws s3 cp \"/data/CSHL_patch_features/inception-bn-blue/CHATM2/CHATM2_prep2_none_win7/CHATM2_slide55_2018_01_22-S2_prep2_none_win7_inception-bn-blue_features.bp\" \"s3://mousebrainatlas-data/CSHL_patch_features/inception-bn-blue/CHATM2/CHATM2_prep2_none_win7/CHATM2_slide55_2018_01_22-S2_prep2_none_win7_inception-bn-blue_features.bp\"\n",
      "0\n",
      "aws s3 cp \"/data/CSHL_patch_features/inception-bn-blue/CHATM2/CHATM2_prep2_none_win7/CHATM2_slide55_2018_01_22-S2_prep2_none_win7_inception-bn-blue_locations.bp\" \"s3://mousebrainatlas-data/CSHL_patch_features/inception-bn-blue/CHATM2/CHATM2_prep2_none_win7/CHATM2_slide55_2018_01_22-S2_prep2_none_win7_inception-bn-blue_locations.bp\"\n",
      "0\n",
      "rm -rf \"/data/CSHL_patch_features/inception-bn-blue/CHATM2/CHATM2_prep2_none_win7/CHATM2_slide56_2018_01_22-S2_prep2_none_win7_inception-bn-blue_features.bp\" && mkdir -p \"/data/CSHL_patch_features/inception-bn-blue/CHATM2/CHATM2_prep2_none_win7\"\n"
     ]
    },
    {
     "name": "stderr",
     "output_type": "stream",
     "text": [
      "Save features: 6.13 seconds\n",
      "locate patches: 0.12 seconds\n"
     ]
    },
    {
     "name": "stdout",
     "output_type": "stream",
     "text": [
      "0\n",
      "aws s3 cp \"s3://mousebrainatlas-data/CSHL_patch_features/inception-bn-blue/CHATM2/CHATM2_prep2_none_win7/CHATM2_slide56_2018_01_22-S2_prep2_none_win7_inception-bn-blue_features.bp\" \"/data/CSHL_patch_features/inception-bn-blue/CHATM2/CHATM2_prep2_none_win7/CHATM2_slide56_2018_01_22-S2_prep2_none_win7_inception-bn-blue_features.bp\"\n",
      "1\n"
     ]
    },
    {
     "name": "stderr",
     "output_type": "stream",
     "text": [
      "Features for CHATM2, 166/CHATM2_slide56_2018_01_22-S2 does not exist.\n",
      "No pre-computed features found... computing from scratch.\n",
      "Not using image_cache.\n"
     ]
    },
    {
     "name": "stdout",
     "output_type": "stream",
     "text": [
      "/data/CSHL_data_processed/CHATM2/CHATM2_prep2_raw_NtbNormalizedAdaptiveInvertedGamma/CHATM2_slide56_2018_01_22-S2_prep2_raw_NtbNormalizedAdaptiveInvertedGamma.tif\n"
     ]
    },
    {
     "name": "stderr",
     "output_type": "stream",
     "text": [
      "Load image: 5.13 seconds.\n",
      "Rescale image from 317 to 224: 5.12 seconds.\n",
      "Crop patches: 1.54 seconds.\n",
      "Extract patches: 11.81 seconds\n"
     ]
    },
    {
     "name": "stdout",
     "output_type": "stream",
     "text": [
      "(37259, 1, 224, 224)\n"
     ]
    },
    {
     "name": "stderr",
     "output_type": "stream",
     "text": [
      "Compute features: 65.08 seconds\n",
      "Compute features at one section, multiple locations: 76.93 seconds\n"
     ]
    },
    {
     "name": "stdout",
     "output_type": "stream",
     "text": [
      "aws s3 cp \"/data/CSHL_patch_features/inception-bn-blue/CHATM2/CHATM2_prep2_none_win7/CHATM2_slide56_2018_01_22-S2_prep2_none_win7_inception-bn-blue_features.bp\" \"s3://mousebrainatlas-data/CSHL_patch_features/inception-bn-blue/CHATM2/CHATM2_prep2_none_win7/CHATM2_slide56_2018_01_22-S2_prep2_none_win7_inception-bn-blue_features.bp\"\n",
      "0\n",
      "aws s3 cp \"/data/CSHL_patch_features/inception-bn-blue/CHATM2/CHATM2_prep2_none_win7/CHATM2_slide56_2018_01_22-S2_prep2_none_win7_inception-bn-blue_locations.bp\" \"s3://mousebrainatlas-data/CSHL_patch_features/inception-bn-blue/CHATM2/CHATM2_prep2_none_win7/CHATM2_slide56_2018_01_22-S2_prep2_none_win7_inception-bn-blue_locations.bp\"\n",
      "0\n",
      "rm -rf \"/data/CSHL_patch_features/inception-bn-blue/CHATM2/CHATM2_prep2_none_win7/CHATM2_slide55_2018_01_22-S3_prep2_none_win7_inception-bn-blue_features.bp\" && mkdir -p \"/data/CSHL_patch_features/inception-bn-blue/CHATM2/CHATM2_prep2_none_win7\"\n"
     ]
    },
    {
     "name": "stderr",
     "output_type": "stream",
     "text": [
      "Save features: 5.17 seconds\n",
      "locate patches: 0.12 seconds\n"
     ]
    },
    {
     "name": "stdout",
     "output_type": "stream",
     "text": [
      "0\n",
      "aws s3 cp \"s3://mousebrainatlas-data/CSHL_patch_features/inception-bn-blue/CHATM2/CHATM2_prep2_none_win7/CHATM2_slide55_2018_01_22-S3_prep2_none_win7_inception-bn-blue_features.bp\" \"/data/CSHL_patch_features/inception-bn-blue/CHATM2/CHATM2_prep2_none_win7/CHATM2_slide55_2018_01_22-S3_prep2_none_win7_inception-bn-blue_features.bp\"\n",
      "1\n"
     ]
    },
    {
     "name": "stderr",
     "output_type": "stream",
     "text": [
      "Features for CHATM2, 167/CHATM2_slide55_2018_01_22-S3 does not exist.\n",
      "No pre-computed features found... computing from scratch.\n",
      "Not using image_cache.\n"
     ]
    },
    {
     "name": "stdout",
     "output_type": "stream",
     "text": [
      "/data/CSHL_data_processed/CHATM2/CHATM2_prep2_raw_NtbNormalizedAdaptiveInvertedGamma/CHATM2_slide55_2018_01_22-S3_prep2_raw_NtbNormalizedAdaptiveInvertedGamma.tif\n"
     ]
    },
    {
     "name": "stderr",
     "output_type": "stream",
     "text": [
      "Load image: 4.98 seconds.\n",
      "Rescale image from 317 to 224: 6.35 seconds.\n",
      "Crop patches: 1.76 seconds.\n",
      "Extract patches: 13.12 seconds\n"
     ]
    },
    {
     "name": "stdout",
     "output_type": "stream",
     "text": [
      "(40581, 1, 224, 224)\n"
     ]
    },
    {
     "name": "stderr",
     "output_type": "stream",
     "text": [
      "Compute features: 67.92 seconds\n",
      "Compute features at one section, multiple locations: 81.09 seconds\n"
     ]
    },
    {
     "name": "stdout",
     "output_type": "stream",
     "text": [
      "aws s3 cp \"/data/CSHL_patch_features/inception-bn-blue/CHATM2/CHATM2_prep2_none_win7/CHATM2_slide55_2018_01_22-S3_prep2_none_win7_inception-bn-blue_features.bp\" \"s3://mousebrainatlas-data/CSHL_patch_features/inception-bn-blue/CHATM2/CHATM2_prep2_none_win7/CHATM2_slide55_2018_01_22-S3_prep2_none_win7_inception-bn-blue_features.bp\"\n",
      "0\n",
      "aws s3 cp \"/data/CSHL_patch_features/inception-bn-blue/CHATM2/CHATM2_prep2_none_win7/CHATM2_slide55_2018_01_22-S3_prep2_none_win7_inception-bn-blue_locations.bp\" \"s3://mousebrainatlas-data/CSHL_patch_features/inception-bn-blue/CHATM2/CHATM2_prep2_none_win7/CHATM2_slide55_2018_01_22-S3_prep2_none_win7_inception-bn-blue_locations.bp\"\n",
      "0\n",
      "rm -rf \"/data/CSHL_patch_features/inception-bn-blue/CHATM2/CHATM2_prep2_none_win7/CHATM2_slide56_2018_01_22-S3_prep2_none_win7_inception-bn-blue_features.bp\" && mkdir -p \"/data/CSHL_patch_features/inception-bn-blue/CHATM2/CHATM2_prep2_none_win7\"\n",
      "0"
     ]
    },
    {
     "name": "stderr",
     "output_type": "stream",
     "text": [
      "Save features: 4.61 seconds\n",
      "locate patches: 0.06 seconds\n"
     ]
    },
    {
     "name": "stdout",
     "output_type": "stream",
     "text": [
      "\n",
      "aws s3 cp \"s3://mousebrainatlas-data/CSHL_patch_features/inception-bn-blue/CHATM2/CHATM2_prep2_none_win7/CHATM2_slide56_2018_01_22-S3_prep2_none_win7_inception-bn-blue_features.bp\" \"/data/CSHL_patch_features/inception-bn-blue/CHATM2/CHATM2_prep2_none_win7/CHATM2_slide56_2018_01_22-S3_prep2_none_win7_inception-bn-blue_features.bp\"\n",
      "1\n"
     ]
    },
    {
     "name": "stderr",
     "output_type": "stream",
     "text": [
      "Features for CHATM2, 168/CHATM2_slide56_2018_01_22-S3 does not exist.\n",
      "No pre-computed features found... computing from scratch.\n",
      "Not using image_cache.\n"
     ]
    },
    {
     "name": "stdout",
     "output_type": "stream",
     "text": [
      "/data/CSHL_data_processed/CHATM2/CHATM2_prep2_raw_NtbNormalizedAdaptiveInvertedGamma/CHATM2_slide56_2018_01_22-S3_prep2_raw_NtbNormalizedAdaptiveInvertedGamma.tif\n"
     ]
    },
    {
     "name": "stderr",
     "output_type": "stream",
     "text": [
      "Load image: 5.08 seconds.\n",
      "Rescale image from 317 to 224: 5.62 seconds.\n",
      "Crop patches: 1.52 seconds.\n",
      "Extract patches: 12.25 seconds\n"
     ]
    },
    {
     "name": "stdout",
     "output_type": "stream",
     "text": [
      "(37143, 1, 224, 224)\n"
     ]
    },
    {
     "name": "stderr",
     "output_type": "stream",
     "text": [
      "Compute features: 63.02 seconds\n",
      "Compute features at one section, multiple locations: 75.31 seconds\n"
     ]
    },
    {
     "name": "stdout",
     "output_type": "stream",
     "text": [
      "aws s3 cp \"/data/CSHL_patch_features/inception-bn-blue/CHATM2/CHATM2_prep2_none_win7/CHATM2_slide56_2018_01_22-S3_prep2_none_win7_inception-bn-blue_features.bp\" \"s3://mousebrainatlas-data/CSHL_patch_features/inception-bn-blue/CHATM2/CHATM2_prep2_none_win7/CHATM2_slide56_2018_01_22-S3_prep2_none_win7_inception-bn-blue_features.bp\"\n",
      "0\n",
      "aws s3 cp \"/data/CSHL_patch_features/inception-bn-blue/CHATM2/CHATM2_prep2_none_win7/CHATM2_slide56_2018_01_22-S3_prep2_none_win7_inception-bn-blue_locations.bp\" \"s3://mousebrainatlas-data/CSHL_patch_features/inception-bn-blue/CHATM2/CHATM2_prep2_none_win7/CHATM2_slide56_2018_01_22-S3_prep2_none_win7_inception-bn-blue_locations.bp\"\n",
      "0\n",
      "rm -rf \"/data/CSHL_patch_features/inception-bn-blue/CHATM2/CHATM2_prep2_none_win7/CHATM2_slide57_2018_01_22-S1_prep2_none_win7_inception-bn-blue_features.bp\" && mkdir -p \"/data/CSHL_patch_features/inception-bn-blue/CHATM2/CHATM2_prep2_none_win7\"\n"
     ]
    },
    {
     "name": "stderr",
     "output_type": "stream",
     "text": [
      "Save features: 8.26 seconds\n",
      "locate patches: 0.09 seconds\n"
     ]
    },
    {
     "name": "stdout",
     "output_type": "stream",
     "text": [
      "0\n",
      "aws s3 cp \"s3://mousebrainatlas-data/CSHL_patch_features/inception-bn-blue/CHATM2/CHATM2_prep2_none_win7/CHATM2_slide57_2018_01_22-S1_prep2_none_win7_inception-bn-blue_features.bp\" \"/data/CSHL_patch_features/inception-bn-blue/CHATM2/CHATM2_prep2_none_win7/CHATM2_slide57_2018_01_22-S1_prep2_none_win7_inception-bn-blue_features.bp\"\n",
      "1\n"
     ]
    },
    {
     "name": "stderr",
     "output_type": "stream",
     "text": [
      "Features for CHATM2, 169/CHATM2_slide57_2018_01_22-S1 does not exist.\n",
      "No pre-computed features found... computing from scratch.\n",
      "Not using image_cache.\n"
     ]
    },
    {
     "name": "stdout",
     "output_type": "stream",
     "text": [
      "/data/CSHL_data_processed/CHATM2/CHATM2_prep2_raw_NtbNormalizedAdaptiveInvertedGamma/CHATM2_slide57_2018_01_22-S1_prep2_raw_NtbNormalizedAdaptiveInvertedGamma.tif\n"
     ]
    },
    {
     "name": "stderr",
     "output_type": "stream",
     "text": [
      "Load image: 5.77 seconds.\n",
      "Rescale image from 317 to 224: 5.33 seconds.\n",
      "Crop patches: 1.57 seconds.\n",
      "Extract patches: 12.70 seconds\n"
     ]
    },
    {
     "name": "stdout",
     "output_type": "stream",
     "text": [
      "(38543, 1, 224, 224)\n"
     ]
    },
    {
     "name": "stderr",
     "output_type": "stream",
     "text": [
      "Compute features: 62.43 seconds\n",
      "Compute features at one section, multiple locations: 75.16 seconds\n"
     ]
    },
    {
     "name": "stdout",
     "output_type": "stream",
     "text": [
      "aws s3 cp \"/data/CSHL_patch_features/inception-bn-blue/CHATM2/CHATM2_prep2_none_win7/CHATM2_slide57_2018_01_22-S1_prep2_none_win7_inception-bn-blue_features.bp\" \"s3://mousebrainatlas-data/CSHL_patch_features/inception-bn-blue/CHATM2/CHATM2_prep2_none_win7/CHATM2_slide57_2018_01_22-S1_prep2_none_win7_inception-bn-blue_features.bp\"\n",
      "0\n",
      "aws s3 cp \"/data/CSHL_patch_features/inception-bn-blue/CHATM2/CHATM2_prep2_none_win7/CHATM2_slide57_2018_01_22-S1_prep2_none_win7_inception-bn-blue_locations.bp\" \"s3://mousebrainatlas-data/CSHL_patch_features/inception-bn-blue/CHATM2/CHATM2_prep2_none_win7/CHATM2_slide57_2018_01_22-S1_prep2_none_win7_inception-bn-blue_locations.bp\"\n",
      "0\n",
      "rm -rf \"/data/CSHL_patch_features/inception-bn-blue/CHATM2/CHATM2_prep2_none_win7/CHATM2_slide58_2018_01_22-S1_prep2_none_win7_inception-bn-blue_features.bp\" && mkdir -p \"/data/CSHL_patch_features/inception-bn-blue/CHATM2/CHATM2_prep2_none_win7\"\n"
     ]
    },
    {
     "name": "stderr",
     "output_type": "stream",
     "text": [
      "Save features: 5.57 seconds\n",
      "locate patches: 0.09 seconds\n"
     ]
    },
    {
     "name": "stdout",
     "output_type": "stream",
     "text": [
      "0\n",
      "aws s3 cp \"s3://mousebrainatlas-data/CSHL_patch_features/inception-bn-blue/CHATM2/CHATM2_prep2_none_win7/CHATM2_slide58_2018_01_22-S1_prep2_none_win7_inception-bn-blue_features.bp\" \"/data/CSHL_patch_features/inception-bn-blue/CHATM2/CHATM2_prep2_none_win7/CHATM2_slide58_2018_01_22-S1_prep2_none_win7_inception-bn-blue_features.bp\"\n",
      "1\n"
     ]
    },
    {
     "name": "stderr",
     "output_type": "stream",
     "text": [
      "Features for CHATM2, 170/CHATM2_slide58_2018_01_22-S1 does not exist.\n",
      "No pre-computed features found... computing from scratch.\n",
      "Not using image_cache.\n"
     ]
    },
    {
     "name": "stdout",
     "output_type": "stream",
     "text": [
      "/data/CSHL_data_processed/CHATM2/CHATM2_prep2_raw_NtbNormalizedAdaptiveInvertedGamma/CHATM2_slide58_2018_01_22-S1_prep2_raw_NtbNormalizedAdaptiveInvertedGamma.tif\n"
     ]
    },
    {
     "name": "stderr",
     "output_type": "stream",
     "text": [
      "Load image: 7.64 seconds.\n",
      "Rescale image from 317 to 224: 6.76 seconds.\n",
      "Crop patches: 1.58 seconds.\n",
      "Extract patches: 16.02 seconds\n"
     ]
    },
    {
     "name": "stdout",
     "output_type": "stream",
     "text": [
      "(39861, 1, 224, 224)\n"
     ]
    },
    {
     "name": "stderr",
     "output_type": "stream",
     "text": [
      "Compute features: 67.12 seconds\n",
      "Compute features at one section, multiple locations: 83.17 seconds\n"
     ]
    },
    {
     "name": "stdout",
     "output_type": "stream",
     "text": [
      "aws s3 cp \"/data/CSHL_patch_features/inception-bn-blue/CHATM2/CHATM2_prep2_none_win7/CHATM2_slide58_2018_01_22-S1_prep2_none_win7_inception-bn-blue_features.bp\" \"s3://mousebrainatlas-data/CSHL_patch_features/inception-bn-blue/CHATM2/CHATM2_prep2_none_win7/CHATM2_slide58_2018_01_22-S1_prep2_none_win7_inception-bn-blue_features.bp\"\n",
      "0\n",
      "aws s3 cp \"/data/CSHL_patch_features/inception-bn-blue/CHATM2/CHATM2_prep2_none_win7/CHATM2_slide58_2018_01_22-S1_prep2_none_win7_inception-bn-blue_locations.bp\" \"s3://mousebrainatlas-data/CSHL_patch_features/inception-bn-blue/CHATM2/CHATM2_prep2_none_win7/CHATM2_slide58_2018_01_22-S1_prep2_none_win7_inception-bn-blue_locations.bp\"\n",
      "0\n",
      "rm -rf \"/data/CSHL_patch_features/inception-bn-blue/CHATM2/CHATM2_prep2_none_win7/CHATM2_slide57_2018_01_22-S2_prep2_none_win7_inception-bn-blue_features.bp\" && mkdir -p \"/data/CSHL_patch_features/inception-bn-blue/CHATM2/CHATM2_prep2_none_win7\"\n",
      "0\n",
      "aws s3 cp \"s3://mousebrainatlas-data/CSHL_patch_features/inception-bn-blue/CHATM2/CHATM2_prep2_none_win7/CHATM2_slide57_2018_01_22-S2_prep2_none_win7_inception-bn-blue_features.bp\" \"/data/CSHL_patch_features/inception-bn-blue/CHATM2/CHATM2_prep2_none_win7/CHATM2_slide57_2018_01_22-S2_prep2_none_win7_inception-bn-blue_features.bp\"\n"
     ]
    },
    {
     "name": "stderr",
     "output_type": "stream",
     "text": [
      "Save features: 3.59 seconds\n",
      "locate patches: 0.05 seconds\n"
     ]
    },
    {
     "name": "stdout",
     "output_type": "stream",
     "text": [
      "1\n"
     ]
    },
    {
     "name": "stderr",
     "output_type": "stream",
     "text": [
      "Features for CHATM2, 171/CHATM2_slide57_2018_01_22-S2 does not exist.\n",
      "No pre-computed features found... computing from scratch.\n",
      "Not using image_cache.\n"
     ]
    },
    {
     "name": "stdout",
     "output_type": "stream",
     "text": [
      "/data/CSHL_data_processed/CHATM2/CHATM2_prep2_raw_NtbNormalizedAdaptiveInvertedGamma/CHATM2_slide57_2018_01_22-S2_prep2_raw_NtbNormalizedAdaptiveInvertedGamma.tif\n"
     ]
    },
    {
     "name": "stderr",
     "output_type": "stream",
     "text": [
      "Load image: 3.58 seconds.\n",
      "Rescale image from 317 to 224: 3.47 seconds.\n",
      "Crop patches: 1.56 seconds.\n",
      "Extract patches: 8.63 seconds\n"
     ]
    },
    {
     "name": "stdout",
     "output_type": "stream",
     "text": [
      "(39401, 1, 224, 224)\n"
     ]
    },
    {
     "name": "stderr",
     "output_type": "stream",
     "text": [
      "Compute features: 71.64 seconds\n",
      "Compute features at one section, multiple locations: 80.30 seconds\n"
     ]
    },
    {
     "name": "stdout",
     "output_type": "stream",
     "text": [
      "aws s3 cp \"/data/CSHL_patch_features/inception-bn-blue/CHATM2/CHATM2_prep2_none_win7/CHATM2_slide57_2018_01_22-S2_prep2_none_win7_inception-bn-blue_features.bp\" \"s3://mousebrainatlas-data/CSHL_patch_features/inception-bn-blue/CHATM2/CHATM2_prep2_none_win7/CHATM2_slide57_2018_01_22-S2_prep2_none_win7_inception-bn-blue_features.bp\"\n",
      "0\n",
      "aws s3 cp \"/data/CSHL_patch_features/inception-bn-blue/CHATM2/CHATM2_prep2_none_win7/CHATM2_slide57_2018_01_22-S2_prep2_none_win7_inception-bn-blue_locations.bp\" \"s3://mousebrainatlas-data/CSHL_patch_features/inception-bn-blue/CHATM2/CHATM2_prep2_none_win7/CHATM2_slide57_2018_01_22-S2_prep2_none_win7_inception-bn-blue_locations.bp\"\n",
      "0\n",
      "rm -rf \"/data/CSHL_patch_features/inception-bn-blue/CHATM2/CHATM2_prep2_none_win7/CHATM2_slide58_2018_01_22-S2_prep2_none_win7_inception-bn-blue_features.bp\" && mkdir -p \"/data/CSHL_patch_features/inception-bn-blue/CHATM2/CHATM2_prep2_none_win7\"\n",
      "0\n",
      "aws s3 cp \"s3://mousebrainatlas-data/CSHL_patch_features/inception-bn-blue/CHATM2/CHATM2_prep2_none_win7/CHATM2_slide58_2018_01_22-S2_prep2_none_win7_inception-bn-blue_features.bp\" \"/data/CSHL_patch_features/inception-bn-blue/CHATM2/CHATM2_prep2_none_win7/CHATM2_slide58_2018_01_22-S2_prep2_none_win7_inception-bn-blue_features.bp\"\n"
     ]
    },
    {
     "name": "stderr",
     "output_type": "stream",
     "text": [
      "Save features: 3.36 seconds\n",
      "locate patches: 0.07 seconds\n"
     ]
    },
    {
     "name": "stdout",
     "output_type": "stream",
     "text": [
      "1\n"
     ]
    },
    {
     "name": "stderr",
     "output_type": "stream",
     "text": [
      "Features for CHATM2, 172/CHATM2_slide58_2018_01_22-S2 does not exist.\n",
      "No pre-computed features found... computing from scratch.\n",
      "Not using image_cache.\n"
     ]
    },
    {
     "name": "stdout",
     "output_type": "stream",
     "text": [
      "/data/CSHL_data_processed/CHATM2/CHATM2_prep2_raw_NtbNormalizedAdaptiveInvertedGamma/CHATM2_slide58_2018_01_22-S2_prep2_raw_NtbNormalizedAdaptiveInvertedGamma.tif\n"
     ]
    },
    {
     "name": "stderr",
     "output_type": "stream",
     "text": [
      "Load image: 3.64 seconds.\n",
      "Rescale image from 317 to 224: 3.00 seconds.\n",
      "Crop patches: 1.03 seconds.\n",
      "Extract patches: 7.68 seconds\n"
     ]
    },
    {
     "name": "stdout",
     "output_type": "stream",
     "text": [
      "(37124, 1, 224, 224)\n"
     ]
    },
    {
     "name": "stderr",
     "output_type": "stream",
     "text": [
      "Compute features: 59.23 seconds\n",
      "Compute features at one section, multiple locations: 66.95 seconds\n"
     ]
    },
    {
     "name": "stdout",
     "output_type": "stream",
     "text": [
      "aws s3 cp \"/data/CSHL_patch_features/inception-bn-blue/CHATM2/CHATM2_prep2_none_win7/CHATM2_slide58_2018_01_22-S2_prep2_none_win7_inception-bn-blue_features.bp\" \"s3://mousebrainatlas-data/CSHL_patch_features/inception-bn-blue/CHATM2/CHATM2_prep2_none_win7/CHATM2_slide58_2018_01_22-S2_prep2_none_win7_inception-bn-blue_features.bp\"\n",
      "0\n",
      "aws s3 cp \"/data/CSHL_patch_features/inception-bn-blue/CHATM2/CHATM2_prep2_none_win7/CHATM2_slide58_2018_01_22-S2_prep2_none_win7_inception-bn-blue_locations.bp\" \"s3://mousebrainatlas-data/CSHL_patch_features/inception-bn-blue/CHATM2/CHATM2_prep2_none_win7/CHATM2_slide58_2018_01_22-S2_prep2_none_win7_inception-bn-blue_locations.bp\"\n",
      "0\n",
      "rm -rf \"/data/CSHL_patch_features/inception-bn-blue/CHATM2/CHATM2_prep2_none_win7/CHATM2_slide57_2018_01_22-S3_prep2_none_win7_inception-bn-blue_features.bp\" && mkdir -p \"/data/CSHL_patch_features/inception-bn-blue/CHATM2/CHATM2_prep2_none_win7\"\n",
      "0"
     ]
    },
    {
     "name": "stderr",
     "output_type": "stream",
     "text": [
      "Save features: 4.69 seconds\n",
      "locate patches: 0.07 seconds\n"
     ]
    },
    {
     "name": "stdout",
     "output_type": "stream",
     "text": [
      "\n",
      "aws s3 cp \"s3://mousebrainatlas-data/CSHL_patch_features/inception-bn-blue/CHATM2/CHATM2_prep2_none_win7/CHATM2_slide57_2018_01_22-S3_prep2_none_win7_inception-bn-blue_features.bp\" \"/data/CSHL_patch_features/inception-bn-blue/CHATM2/CHATM2_prep2_none_win7/CHATM2_slide57_2018_01_22-S3_prep2_none_win7_inception-bn-blue_features.bp\"\n",
      "1\n"
     ]
    },
    {
     "name": "stderr",
     "output_type": "stream",
     "text": [
      "Features for CHATM2, 173/CHATM2_slide57_2018_01_22-S3 does not exist.\n",
      "No pre-computed features found... computing from scratch.\n",
      "Not using image_cache.\n"
     ]
    },
    {
     "name": "stdout",
     "output_type": "stream",
     "text": [
      "/data/CSHL_data_processed/CHATM2/CHATM2_prep2_raw_NtbNormalizedAdaptiveInvertedGamma/CHATM2_slide57_2018_01_22-S3_prep2_raw_NtbNormalizedAdaptiveInvertedGamma.tif\n"
     ]
    },
    {
     "name": "stderr",
     "output_type": "stream",
     "text": [
      "Load image: 3.96 seconds.\n",
      "Rescale image from 317 to 224: 4.72 seconds.\n",
      "Crop patches: 1.13 seconds.\n",
      "Extract patches: 9.84 seconds\n"
     ]
    },
    {
     "name": "stdout",
     "output_type": "stream",
     "text": [
      "(40140, 1, 224, 224)\n"
     ]
    },
    {
     "name": "stderr",
     "output_type": "stream",
     "text": [
      "Compute features: 63.36 seconds\n",
      "Compute features at one section, multiple locations: 73.23 seconds\n"
     ]
    },
    {
     "name": "stdout",
     "output_type": "stream",
     "text": [
      "aws s3 cp \"/data/CSHL_patch_features/inception-bn-blue/CHATM2/CHATM2_prep2_none_win7/CHATM2_slide57_2018_01_22-S3_prep2_none_win7_inception-bn-blue_features.bp\" \"s3://mousebrainatlas-data/CSHL_patch_features/inception-bn-blue/CHATM2/CHATM2_prep2_none_win7/CHATM2_slide57_2018_01_22-S3_prep2_none_win7_inception-bn-blue_features.bp\"\n",
      "0\n",
      "aws s3 cp \"/data/CSHL_patch_features/inception-bn-blue/CHATM2/CHATM2_prep2_none_win7/CHATM2_slide57_2018_01_22-S3_prep2_none_win7_inception-bn-blue_locations.bp\" \"s3://mousebrainatlas-data/CSHL_patch_features/inception-bn-blue/CHATM2/CHATM2_prep2_none_win7/CHATM2_slide57_2018_01_22-S3_prep2_none_win7_inception-bn-blue_locations.bp\"\n",
      "0\n",
      "rm -rf \"/data/CSHL_patch_features/inception-bn-blue/CHATM2/CHATM2_prep2_none_win7/CHATM2_slide62_2018_02_14-S1_prep2_none_win7_inception-bn-blue_features.bp\" && mkdir -p \"/data/CSHL_patch_features/inception-bn-blue/CHATM2/CHATM2_prep2_none_win7\"\n"
     ]
    },
    {
     "name": "stderr",
     "output_type": "stream",
     "text": [
      "Save features: 4.91 seconds\n",
      "locate patches: 0.09 seconds\n"
     ]
    },
    {
     "name": "stdout",
     "output_type": "stream",
     "text": [
      "0\n",
      "aws s3 cp \"s3://mousebrainatlas-data/CSHL_patch_features/inception-bn-blue/CHATM2/CHATM2_prep2_none_win7/CHATM2_slide62_2018_02_14-S1_prep2_none_win7_inception-bn-blue_features.bp\" \"/data/CSHL_patch_features/inception-bn-blue/CHATM2/CHATM2_prep2_none_win7/CHATM2_slide62_2018_02_14-S1_prep2_none_win7_inception-bn-blue_features.bp\"\n",
      "1\n"
     ]
    },
    {
     "name": "stderr",
     "output_type": "stream",
     "text": [
      "Features for CHATM2, 185/CHATM2_slide62_2018_02_14-S1 does not exist.\n",
      "No pre-computed features found... computing from scratch.\n",
      "Not using image_cache.\n"
     ]
    },
    {
     "name": "stdout",
     "output_type": "stream",
     "text": [
      "/data/CSHL_data_processed/CHATM2/CHATM2_prep2_raw_NtbNormalizedAdaptiveInvertedGamma/CHATM2_slide62_2018_02_14-S1_prep2_raw_NtbNormalizedAdaptiveInvertedGamma.tif\n"
     ]
    },
    {
     "name": "stderr",
     "output_type": "stream",
     "text": [
      "Load image: 3.84 seconds.\n",
      "Rescale image from 317 to 224: 5.11 seconds.\n",
      "Crop patches: 1.65 seconds.\n",
      "Extract patches: 10.63 seconds\n"
     ]
    },
    {
     "name": "stdout",
     "output_type": "stream",
     "text": [
      "(40895, 1, 224, 224)\n"
     ]
    },
    {
     "name": "stderr",
     "output_type": "stream",
     "text": [
      "Compute features: 66.22 seconds\n",
      "Compute features at one section, multiple locations: 76.92 seconds\n"
     ]
    },
    {
     "name": "stdout",
     "output_type": "stream",
     "text": [
      "aws s3 cp \"/data/CSHL_patch_features/inception-bn-blue/CHATM2/CHATM2_prep2_none_win7/CHATM2_slide62_2018_02_14-S1_prep2_none_win7_inception-bn-blue_features.bp\" \"s3://mousebrainatlas-data/CSHL_patch_features/inception-bn-blue/CHATM2/CHATM2_prep2_none_win7/CHATM2_slide62_2018_02_14-S1_prep2_none_win7_inception-bn-blue_features.bp\"\n",
      "0\n",
      "aws s3 cp \"/data/CSHL_patch_features/inception-bn-blue/CHATM2/CHATM2_prep2_none_win7/CHATM2_slide62_2018_02_14-S1_prep2_none_win7_inception-bn-blue_locations.bp\" \"s3://mousebrainatlas-data/CSHL_patch_features/inception-bn-blue/CHATM2/CHATM2_prep2_none_win7/CHATM2_slide62_2018_02_14-S1_prep2_none_win7_inception-bn-blue_locations.bp\"\n",
      "0\n",
      "rm -rf \"/data/CSHL_patch_features/inception-bn-blue/CHATM2/CHATM2_prep2_none_win7/CHATM2_slide62_2018_02_14-S2_prep2_none_win7_inception-bn-blue_features.bp\" && mkdir -p \"/data/CSHL_patch_features/inception-bn-blue/CHATM2/CHATM2_prep2_none_win7\"\n",
      "0"
     ]
    },
    {
     "name": "stderr",
     "output_type": "stream",
     "text": [
      "Save features: 5.80 seconds\n",
      "locate patches: 0.08 seconds\n"
     ]
    },
    {
     "name": "stdout",
     "output_type": "stream",
     "text": [
      "\n",
      "aws s3 cp \"s3://mousebrainatlas-data/CSHL_patch_features/inception-bn-blue/CHATM2/CHATM2_prep2_none_win7/CHATM2_slide62_2018_02_14-S2_prep2_none_win7_inception-bn-blue_features.bp\" \"/data/CSHL_patch_features/inception-bn-blue/CHATM2/CHATM2_prep2_none_win7/CHATM2_slide62_2018_02_14-S2_prep2_none_win7_inception-bn-blue_features.bp\"\n",
      "1\n"
     ]
    },
    {
     "name": "stderr",
     "output_type": "stream",
     "text": [
      "Features for CHATM2, 187/CHATM2_slide62_2018_02_14-S2 does not exist.\n",
      "No pre-computed features found... computing from scratch.\n",
      "Not using image_cache.\n"
     ]
    },
    {
     "name": "stdout",
     "output_type": "stream",
     "text": [
      "/data/CSHL_data_processed/CHATM2/CHATM2_prep2_raw_NtbNormalizedAdaptiveInvertedGamma/CHATM2_slide62_2018_02_14-S2_prep2_raw_NtbNormalizedAdaptiveInvertedGamma.tif\n"
     ]
    },
    {
     "name": "stderr",
     "output_type": "stream",
     "text": [
      "Load image: 4.89 seconds.\n",
      "Rescale image from 317 to 224: 5.57 seconds.\n",
      "Crop patches: 1.58 seconds.\n",
      "Extract patches: 12.07 seconds\n"
     ]
    },
    {
     "name": "stdout",
     "output_type": "stream",
     "text": [
      "(41089, 1, 224, 224)\n"
     ]
    },
    {
     "name": "stderr",
     "output_type": "stream",
     "text": [
      "Compute features: 72.52 seconds\n",
      "Compute features at one section, multiple locations: 84.62 seconds\n"
     ]
    },
    {
     "name": "stdout",
     "output_type": "stream",
     "text": [
      "aws s3 cp \"/data/CSHL_patch_features/inception-bn-blue/CHATM2/CHATM2_prep2_none_win7/CHATM2_slide62_2018_02_14-S2_prep2_none_win7_inception-bn-blue_features.bp\" \"s3://mousebrainatlas-data/CSHL_patch_features/inception-bn-blue/CHATM2/CHATM2_prep2_none_win7/CHATM2_slide62_2018_02_14-S2_prep2_none_win7_inception-bn-blue_features.bp\"\n",
      "0\n",
      "aws s3 cp \"/data/CSHL_patch_features/inception-bn-blue/CHATM2/CHATM2_prep2_none_win7/CHATM2_slide62_2018_02_14-S2_prep2_none_win7_inception-bn-blue_locations.bp\" \"s3://mousebrainatlas-data/CSHL_patch_features/inception-bn-blue/CHATM2/CHATM2_prep2_none_win7/CHATM2_slide62_2018_02_14-S2_prep2_none_win7_inception-bn-blue_locations.bp\"\n",
      "0\n",
      "rm -rf \"/data/CSHL_patch_features/inception-bn-blue/CHATM2/CHATM2_prep2_none_win7/CHATM2_slide62_2018_02_14-S3_prep2_none_win7_inception-bn-blue_features.bp\" && mkdir -p \"/data/CSHL_patch_features/inception-bn-blue/CHATM2/CHATM2_prep2_none_win7\"\n",
      "0\n",
      "aws s3 cp \"s3://mousebrainatlas-data/CSHL_patch_features/inception-bn-blue/CHATM2/CHATM2_prep2_none_win7/CHATM2_slide62_2018_02_14-S3_prep2_none_win7_inception-bn-blue_features.bp\" \"/data/CSHL_patch_features/inception-bn-blue/CHATM2/CHATM2_prep2_none_win7/CHATM2_slide62_2018_02_14-S3_prep2_none_win7_inception-bn-blue_features.bp\"\n"
     ]
    },
    {
     "name": "stderr",
     "output_type": "stream",
     "text": [
      "Save features: 3.48 seconds\n",
      "locate patches: 0.05 seconds\n"
     ]
    },
    {
     "name": "stdout",
     "output_type": "stream",
     "text": [
      "1\n"
     ]
    },
    {
     "name": "stderr",
     "output_type": "stream",
     "text": [
      "Features for CHATM2, 189/CHATM2_slide62_2018_02_14-S3 does not exist.\n",
      "No pre-computed features found... computing from scratch.\n",
      "Not using image_cache.\n"
     ]
    },
    {
     "name": "stdout",
     "output_type": "stream",
     "text": [
      "/data/CSHL_data_processed/CHATM2/CHATM2_prep2_raw_NtbNormalizedAdaptiveInvertedGamma/CHATM2_slide62_2018_02_14-S3_prep2_raw_NtbNormalizedAdaptiveInvertedGamma.tif\n"
     ]
    },
    {
     "name": "stderr",
     "output_type": "stream",
     "text": [
      "Load image: 3.38 seconds.\n",
      "Rescale image from 317 to 224: 3.02 seconds.\n",
      "Crop patches: 1.08 seconds.\n",
      "Extract patches: 7.49 seconds\n"
     ]
    },
    {
     "name": "stdout",
     "output_type": "stream",
     "text": [
      "(41310, 1, 224, 224)\n"
     ]
    },
    {
     "name": "stderr",
     "output_type": "stream",
     "text": [
      "Compute features: 65.71 seconds\n",
      "Compute features at one section, multiple locations: 73.24 seconds\n"
     ]
    },
    {
     "name": "stdout",
     "output_type": "stream",
     "text": [
      "aws s3 cp \"/data/CSHL_patch_features/inception-bn-blue/CHATM2/CHATM2_prep2_none_win7/CHATM2_slide62_2018_02_14-S3_prep2_none_win7_inception-bn-blue_features.bp\" \"s3://mousebrainatlas-data/CSHL_patch_features/inception-bn-blue/CHATM2/CHATM2_prep2_none_win7/CHATM2_slide62_2018_02_14-S3_prep2_none_win7_inception-bn-blue_features.bp\"\n",
      "0\n",
      "aws s3 cp \"/data/CSHL_patch_features/inception-bn-blue/CHATM2/CHATM2_prep2_none_win7/CHATM2_slide62_2018_02_14-S3_prep2_none_win7_inception-bn-blue_locations.bp\" \"s3://mousebrainatlas-data/CSHL_patch_features/inception-bn-blue/CHATM2/CHATM2_prep2_none_win7/CHATM2_slide62_2018_02_14-S3_prep2_none_win7_inception-bn-blue_locations.bp\"\n",
      "0\n",
      "rm -rf \"/data/CSHL_patch_features/inception-bn-blue/CHATM2/CHATM2_prep2_none_win7/CHATM2_slide64_2018_02_15-S1_prep2_none_win7_inception-bn-blue_features.bp\" && mkdir -p \"/data/CSHL_patch_features/inception-bn-blue/CHATM2/CHATM2_prep2_none_win7\"\n",
      "0\n",
      "aws s3 cp \"s3://mousebrainatlas-data/CSHL_patch_features/inception-bn-blue/CHATM2/CHATM2_prep2_none_win7/CHATM2_slide64_2018_02_15-S1_prep2_none_win7_inception-bn-blue_features.bp\" \"/data/CSHL_patch_features/inception-bn-blue/CHATM2/CHATM2_prep2_none_win7/CHATM2_slide64_2018_02_15-S1_prep2_none_win7_inception-bn-blue_features.bp\"\n"
     ]
    },
    {
     "name": "stderr",
     "output_type": "stream",
     "text": [
      "Save features: 4.72 seconds\n",
      "locate patches: 0.06 seconds\n"
     ]
    },
    {
     "name": "stdout",
     "output_type": "stream",
     "text": [
      "1\n"
     ]
    },
    {
     "name": "stderr",
     "output_type": "stream",
     "text": [
      "Features for CHATM2, 191/CHATM2_slide64_2018_02_15-S1 does not exist.\n",
      "No pre-computed features found... computing from scratch.\n",
      "Not using image_cache.\n"
     ]
    },
    {
     "name": "stdout",
     "output_type": "stream",
     "text": [
      "/data/CSHL_data_processed/CHATM2/CHATM2_prep2_raw_NtbNormalizedAdaptiveInvertedGamma/CHATM2_slide64_2018_02_15-S1_prep2_raw_NtbNormalizedAdaptiveInvertedGamma.tif\n"
     ]
    },
    {
     "name": "stderr",
     "output_type": "stream",
     "text": [
      "Load image: 3.62 seconds.\n",
      "Rescale image from 317 to 224: 3.37 seconds.\n",
      "Crop patches: 1.03 seconds.\n",
      "Extract patches: 8.04 seconds\n"
     ]
    },
    {
     "name": "stdout",
     "output_type": "stream",
     "text": [
      "(39034, 1, 224, 224)\n"
     ]
    },
    {
     "name": "stderr",
     "output_type": "stream",
     "text": [
      "Compute features: 63.43 seconds\n",
      "Compute features at one section, multiple locations: 71.49 seconds\n"
     ]
    },
    {
     "name": "stdout",
     "output_type": "stream",
     "text": [
      "aws s3 cp \"/data/CSHL_patch_features/inception-bn-blue/CHATM2/CHATM2_prep2_none_win7/CHATM2_slide64_2018_02_15-S1_prep2_none_win7_inception-bn-blue_features.bp\" \"s3://mousebrainatlas-data/CSHL_patch_features/inception-bn-blue/CHATM2/CHATM2_prep2_none_win7/CHATM2_slide64_2018_02_15-S1_prep2_none_win7_inception-bn-blue_features.bp\"\n",
      "0\n",
      "aws s3 cp \"/data/CSHL_patch_features/inception-bn-blue/CHATM2/CHATM2_prep2_none_win7/CHATM2_slide64_2018_02_15-S1_prep2_none_win7_inception-bn-blue_locations.bp\" \"s3://mousebrainatlas-data/CSHL_patch_features/inception-bn-blue/CHATM2/CHATM2_prep2_none_win7/CHATM2_slide64_2018_02_15-S1_prep2_none_win7_inception-bn-blue_locations.bp\"\n",
      "0\n",
      "rm -rf \"/data/CSHL_patch_features/inception-bn-blue/CHATM2/CHATM2_prep2_none_win7/CHATM2_slide64_2018_02_15-S2_prep2_none_win7_inception-bn-blue_features.bp\" && mkdir -p \"/data/CSHL_patch_features/inception-bn-blue/CHATM2/CHATM2_prep2_none_win7\"\n",
      "0\n",
      "aws s3 cp \"s3://mousebrainatlas-data/CSHL_patch_features/inception-bn-blue/CHATM2/CHATM2_prep2_none_win7/CHATM2_slide64_2018_02_15-S2_prep2_none_win7_inception-bn-blue_features.bp\" \"/data/CSHL_patch_features/inception-bn-blue/CHATM2/CHATM2_prep2_none_win7/CHATM2_slide64_2018_02_15-S2_prep2_none_win7_inception-bn-blue_features.bp\"\n"
     ]
    },
    {
     "name": "stderr",
     "output_type": "stream",
     "text": [
      "Save features: 5.04 seconds\n",
      "locate patches: 0.08 seconds\n"
     ]
    },
    {
     "name": "stdout",
     "output_type": "stream",
     "text": [
      "1\n"
     ]
    },
    {
     "name": "stderr",
     "output_type": "stream",
     "text": [
      "Features for CHATM2, 193/CHATM2_slide64_2018_02_15-S2 does not exist.\n",
      "No pre-computed features found... computing from scratch.\n",
      "Not using image_cache.\n"
     ]
    },
    {
     "name": "stdout",
     "output_type": "stream",
     "text": [
      "/data/CSHL_data_processed/CHATM2/CHATM2_prep2_raw_NtbNormalizedAdaptiveInvertedGamma/CHATM2_slide64_2018_02_15-S2_prep2_raw_NtbNormalizedAdaptiveInvertedGamma.tif\n"
     ]
    },
    {
     "name": "stderr",
     "output_type": "stream",
     "text": [
      "Load image: 3.78 seconds.\n",
      "Rescale image from 317 to 224: 4.98 seconds.\n",
      "Crop patches: 1.39 seconds.\n",
      "Extract patches: 10.18 seconds\n"
     ]
    },
    {
     "name": "stdout",
     "output_type": "stream",
     "text": [
      "(40041, 1, 224, 224)\n"
     ]
    },
    {
     "name": "stderr",
     "output_type": "stream",
     "text": [
      "Compute features: 65.71 seconds\n",
      "Compute features at one section, multiple locations: 75.91 seconds\n"
     ]
    },
    {
     "name": "stdout",
     "output_type": "stream",
     "text": [
      "aws s3 cp \"/data/CSHL_patch_features/inception-bn-blue/CHATM2/CHATM2_prep2_none_win7/CHATM2_slide64_2018_02_15-S2_prep2_none_win7_inception-bn-blue_features.bp\" \"s3://mousebrainatlas-data/CSHL_patch_features/inception-bn-blue/CHATM2/CHATM2_prep2_none_win7/CHATM2_slide64_2018_02_15-S2_prep2_none_win7_inception-bn-blue_features.bp\"\n",
      "0\n",
      "aws s3 cp \"/data/CSHL_patch_features/inception-bn-blue/CHATM2/CHATM2_prep2_none_win7/CHATM2_slide64_2018_02_15-S2_prep2_none_win7_inception-bn-blue_locations.bp\" \"s3://mousebrainatlas-data/CSHL_patch_features/inception-bn-blue/CHATM2/CHATM2_prep2_none_win7/CHATM2_slide64_2018_02_15-S2_prep2_none_win7_inception-bn-blue_locations.bp\"\n",
      "0\n",
      "rm -rf \"/data/CSHL_patch_features/inception-bn-blue/CHATM2/CHATM2_prep2_none_win7/CHATM2_slide64_2018_02_15-S3_prep2_none_win7_inception-bn-blue_features.bp\" && mkdir -p \"/data/CSHL_patch_features/inception-bn-blue/CHATM2/CHATM2_prep2_none_win7\"\n",
      "0"
     ]
    },
    {
     "name": "stderr",
     "output_type": "stream",
     "text": [
      "Save features: 7.07 seconds\n",
      "locate patches: 0.10 seconds\n"
     ]
    },
    {
     "name": "stdout",
     "output_type": "stream",
     "text": [
      "\n",
      "aws s3 cp \"s3://mousebrainatlas-data/CSHL_patch_features/inception-bn-blue/CHATM2/CHATM2_prep2_none_win7/CHATM2_slide64_2018_02_15-S3_prep2_none_win7_inception-bn-blue_features.bp\" \"/data/CSHL_patch_features/inception-bn-blue/CHATM2/CHATM2_prep2_none_win7/CHATM2_slide64_2018_02_15-S3_prep2_none_win7_inception-bn-blue_features.bp\"\n",
      "1\n"
     ]
    },
    {
     "name": "stderr",
     "output_type": "stream",
     "text": [
      "Features for CHATM2, 195/CHATM2_slide64_2018_02_15-S3 does not exist.\n",
      "No pre-computed features found... computing from scratch.\n",
      "Not using image_cache.\n"
     ]
    },
    {
     "name": "stdout",
     "output_type": "stream",
     "text": [
      "/data/CSHL_data_processed/CHATM2/CHATM2_prep2_raw_NtbNormalizedAdaptiveInvertedGamma/CHATM2_slide64_2018_02_15-S3_prep2_raw_NtbNormalizedAdaptiveInvertedGamma.tif\n"
     ]
    },
    {
     "name": "stderr",
     "output_type": "stream",
     "text": [
      "Load image: 4.38 seconds.\n",
      "Rescale image from 317 to 224: 5.25 seconds.\n",
      "Crop patches: 1.38 seconds.\n",
      "Extract patches: 11.05 seconds\n"
     ]
    },
    {
     "name": "stdout",
     "output_type": "stream",
     "text": [
      "(38868, 1, 224, 224)\n"
     ]
    },
    {
     "name": "stderr",
     "output_type": "stream",
     "text": [
      "Compute features: 62.43 seconds\n",
      "Compute features at one section, multiple locations: 73.49 seconds\n"
     ]
    },
    {
     "name": "stdout",
     "output_type": "stream",
     "text": [
      "aws s3 cp \"/data/CSHL_patch_features/inception-bn-blue/CHATM2/CHATM2_prep2_none_win7/CHATM2_slide64_2018_02_15-S3_prep2_none_win7_inception-bn-blue_features.bp\" \"s3://mousebrainatlas-data/CSHL_patch_features/inception-bn-blue/CHATM2/CHATM2_prep2_none_win7/CHATM2_slide64_2018_02_15-S3_prep2_none_win7_inception-bn-blue_features.bp\"\n",
      "0\n",
      "aws s3 cp \"/data/CSHL_patch_features/inception-bn-blue/CHATM2/CHATM2_prep2_none_win7/CHATM2_slide64_2018_02_15-S3_prep2_none_win7_inception-bn-blue_locations.bp\" \"s3://mousebrainatlas-data/CSHL_patch_features/inception-bn-blue/CHATM2/CHATM2_prep2_none_win7/CHATM2_slide64_2018_02_15-S3_prep2_none_win7_inception-bn-blue_locations.bp\"\n",
      "0\n",
      "rm -rf \"/data/CSHL_patch_features/inception-bn-blue/CHATM2/CHATM2_prep2_none_win7/CHATM2_slide66_2018_02_14-S1_prep2_none_win7_inception-bn-blue_features.bp\" && mkdir -p \"/data/CSHL_patch_features/inception-bn-blue/CHATM2/CHATM2_prep2_none_win7\"\n",
      "0\n",
      "aws s3 cp \"s3://mousebrainatlas-data/CSHL_patch_features/inception-bn-blue/CHATM2/CHATM2_prep2_none_win7/CHATM2_slide66_2018_02_14-S1_prep2_none_win7_inception-bn-blue_features.bp\" \"/data/CSHL_patch_features/inception-bn-blue/CHATM2/CHATM2_prep2_none_win7/CHATM2_slide66_2018_02_14-S1_prep2_none_win7_inception-bn-blue_features.bp\"\n"
     ]
    },
    {
     "name": "stderr",
     "output_type": "stream",
     "text": [
      "Save features: 3.22 seconds\n",
      "locate patches: 0.07 seconds\n"
     ]
    },
    {
     "name": "stdout",
     "output_type": "stream",
     "text": [
      "1\n"
     ]
    },
    {
     "name": "stderr",
     "output_type": "stream",
     "text": [
      "Features for CHATM2, 197/CHATM2_slide66_2018_02_14-S1 does not exist.\n",
      "No pre-computed features found... computing from scratch.\n",
      "Not using image_cache.\n"
     ]
    },
    {
     "name": "stdout",
     "output_type": "stream",
     "text": [
      "/data/CSHL_data_processed/CHATM2/CHATM2_prep2_raw_NtbNormalizedAdaptiveInvertedGamma/CHATM2_slide66_2018_02_14-S1_prep2_raw_NtbNormalizedAdaptiveInvertedGamma.tif\n"
     ]
    },
    {
     "name": "stderr",
     "output_type": "stream",
     "text": [
      "Load image: 4.25 seconds.\n",
      "Rescale image from 317 to 224: 3.05 seconds.\n",
      "Crop patches: 0.92 seconds.\n",
      "Extract patches: 8.23 seconds\n"
     ]
    },
    {
     "name": "stdout",
     "output_type": "stream",
     "text": [
      "(40676, 1, 224, 224)\n"
     ]
    },
    {
     "name": "stderr",
     "output_type": "stream",
     "text": [
      "Compute features: 64.15 seconds\n",
      "Compute features at one section, multiple locations: 72.40 seconds\n"
     ]
    },
    {
     "name": "stdout",
     "output_type": "stream",
     "text": [
      "aws s3 cp \"/data/CSHL_patch_features/inception-bn-blue/CHATM2/CHATM2_prep2_none_win7/CHATM2_slide66_2018_02_14-S1_prep2_none_win7_inception-bn-blue_features.bp\" \"s3://mousebrainatlas-data/CSHL_patch_features/inception-bn-blue/CHATM2/CHATM2_prep2_none_win7/CHATM2_slide66_2018_02_14-S1_prep2_none_win7_inception-bn-blue_features.bp\"\n",
      "0\n",
      "aws s3 cp \"/data/CSHL_patch_features/inception-bn-blue/CHATM2/CHATM2_prep2_none_win7/CHATM2_slide66_2018_02_14-S1_prep2_none_win7_inception-bn-blue_locations.bp\" \"s3://mousebrainatlas-data/CSHL_patch_features/inception-bn-blue/CHATM2/CHATM2_prep2_none_win7/CHATM2_slide66_2018_02_14-S1_prep2_none_win7_inception-bn-blue_locations.bp\"\n",
      "0\n",
      "rm -rf \"/data/CSHL_patch_features/inception-bn-blue/CHATM2/CHATM2_prep2_none_win7/CHATM2_slide66_2018_02_14-S2_prep2_none_win7_inception-bn-blue_features.bp\" && mkdir -p \"/data/CSHL_patch_features/inception-bn-blue/CHATM2/CHATM2_prep2_none_win7\"\n",
      "0\n",
      "aws s3 cp \"s3://mousebrainatlas-data/CSHL_patch_features/inception-bn-blue/CHATM2/CHATM2_prep2_none_win7/CHATM2_slide66_2018_02_14-S2_prep2_none_win7_inception-bn-blue_features.bp\" \"/data/CSHL_patch_features/inception-bn-blue/CHATM2/CHATM2_prep2_none_win7/CHATM2_slide66_2018_02_14-S2_prep2_none_win7_inception-bn-blue_features.bp\"\n"
     ]
    },
    {
     "name": "stderr",
     "output_type": "stream",
     "text": [
      "Save features: 3.42 seconds\n",
      "locate patches: 0.05 seconds\n"
     ]
    },
    {
     "name": "stdout",
     "output_type": "stream",
     "text": [
      "1\n"
     ]
    },
    {
     "name": "stderr",
     "output_type": "stream",
     "text": [
      "Features for CHATM2, 199/CHATM2_slide66_2018_02_14-S2 does not exist.\n",
      "No pre-computed features found... computing from scratch.\n",
      "Not using image_cache.\n"
     ]
    },
    {
     "name": "stdout",
     "output_type": "stream",
     "text": [
      "/data/CSHL_data_processed/CHATM2/CHATM2_prep2_raw_NtbNormalizedAdaptiveInvertedGamma/CHATM2_slide66_2018_02_14-S2_prep2_raw_NtbNormalizedAdaptiveInvertedGamma.tif\n"
     ]
    },
    {
     "name": "stderr",
     "output_type": "stream",
     "text": [
      "Load image: 4.77 seconds.\n",
      "Rescale image from 317 to 224: 3.03 seconds.\n",
      "Crop patches: 0.94 seconds.\n",
      "Extract patches: 8.75 seconds\n"
     ]
    },
    {
     "name": "stdout",
     "output_type": "stream",
     "text": [
      "(41100, 1, 224, 224)\n"
     ]
    },
    {
     "name": "stderr",
     "output_type": "stream",
     "text": [
      "Compute features: 64.92 seconds\n",
      "Compute features at one section, multiple locations: 73.70 seconds\n"
     ]
    },
    {
     "name": "stdout",
     "output_type": "stream",
     "text": [
      "aws s3 cp \"/data/CSHL_patch_features/inception-bn-blue/CHATM2/CHATM2_prep2_none_win7/CHATM2_slide66_2018_02_14-S2_prep2_none_win7_inception-bn-blue_features.bp\" \"s3://mousebrainatlas-data/CSHL_patch_features/inception-bn-blue/CHATM2/CHATM2_prep2_none_win7/CHATM2_slide66_2018_02_14-S2_prep2_none_win7_inception-bn-blue_features.bp\"\n",
      "0\n",
      "aws s3 cp \"/data/CSHL_patch_features/inception-bn-blue/CHATM2/CHATM2_prep2_none_win7/CHATM2_slide66_2018_02_14-S2_prep2_none_win7_inception-bn-blue_locations.bp\" \"s3://mousebrainatlas-data/CSHL_patch_features/inception-bn-blue/CHATM2/CHATM2_prep2_none_win7/CHATM2_slide66_2018_02_14-S2_prep2_none_win7_inception-bn-blue_locations.bp\"\n",
      "0\n",
      "rm -rf \"/data/CSHL_patch_features/inception-bn-blue/CHATM2/CHATM2_prep2_none_win7/CHATM2_slide66_2018_02_14-S3_prep2_none_win7_inception-bn-blue_features.bp\" && mkdir -p \"/data/CSHL_patch_features/inception-bn-blue/CHATM2/CHATM2_prep2_none_win7\"\n",
      "0\n",
      "aws s3 cp \"s3://mousebrainatlas-data/CSHL_patch_features/inception-bn-blue/CHATM2/CHATM2_prep2_none_win7/CHATM2_slide66_2018_02_14-S3_prep2_none_win7_inception-bn-blue_features.bp\" \"/data/CSHL_patch_features/inception-bn-blue/CHATM2/CHATM2_prep2_none_win7/CHATM2_slide66_2018_02_14-S3_prep2_none_win7_inception-bn-blue_features.bp\"\n"
     ]
    },
    {
     "name": "stderr",
     "output_type": "stream",
     "text": [
      "Save features: 5.02 seconds\n",
      "locate patches: 0.08 seconds\n"
     ]
    },
    {
     "name": "stdout",
     "output_type": "stream",
     "text": [
      "1\n"
     ]
    },
    {
     "name": "stderr",
     "output_type": "stream",
     "text": [
      "Features for CHATM2, 201/CHATM2_slide66_2018_02_14-S3 does not exist.\n",
      "No pre-computed features found... computing from scratch.\n",
      "Not using image_cache.\n"
     ]
    },
    {
     "name": "stdout",
     "output_type": "stream",
     "text": [
      "/data/CSHL_data_processed/CHATM2/CHATM2_prep2_raw_NtbNormalizedAdaptiveInvertedGamma/CHATM2_slide66_2018_02_14-S3_prep2_raw_NtbNormalizedAdaptiveInvertedGamma.tif\n"
     ]
    },
    {
     "name": "stderr",
     "output_type": "stream",
     "text": [
      "Load image: 4.29 seconds.\n",
      "Rescale image from 317 to 224: 5.05 seconds.\n",
      "Crop patches: 1.28 seconds.\n",
      "Extract patches: 10.65 seconds\n"
     ]
    },
    {
     "name": "stdout",
     "output_type": "stream",
     "text": [
      "(39279, 1, 224, 224)\n"
     ]
    },
    {
     "name": "stderr",
     "output_type": "stream",
     "text": [
      "Compute features: 67.72 seconds\n",
      "Compute features at one section, multiple locations: 78.40 seconds\n"
     ]
    },
    {
     "name": "stdout",
     "output_type": "stream",
     "text": [
      "aws s3 cp \"/data/CSHL_patch_features/inception-bn-blue/CHATM2/CHATM2_prep2_none_win7/CHATM2_slide66_2018_02_14-S3_prep2_none_win7_inception-bn-blue_features.bp\" \"s3://mousebrainatlas-data/CSHL_patch_features/inception-bn-blue/CHATM2/CHATM2_prep2_none_win7/CHATM2_slide66_2018_02_14-S3_prep2_none_win7_inception-bn-blue_features.bp\"\n",
      "0\n",
      "aws s3 cp \"/data/CSHL_patch_features/inception-bn-blue/CHATM2/CHATM2_prep2_none_win7/CHATM2_slide66_2018_02_14-S3_prep2_none_win7_inception-bn-blue_locations.bp\" \"s3://mousebrainatlas-data/CSHL_patch_features/inception-bn-blue/CHATM2/CHATM2_prep2_none_win7/CHATM2_slide66_2018_02_14-S3_prep2_none_win7_inception-bn-blue_locations.bp\"\n",
      "0\n",
      "rm -rf \"/data/CSHL_patch_features/inception-bn-blue/CHATM2/CHATM2_prep2_none_win7/CHATM2_slide68_2018_02_14-S1_prep2_none_win7_inception-bn-blue_features.bp\" && mkdir -p \"/data/CSHL_patch_features/inception-bn-blue/CHATM2/CHATM2_prep2_none_win7\"\n"
     ]
    },
    {
     "name": "stderr",
     "output_type": "stream",
     "text": [
      "Save features: 6.24 seconds\n",
      "locate patches: 0.13 seconds\n"
     ]
    },
    {
     "name": "stdout",
     "output_type": "stream",
     "text": [
      "0\n",
      "aws s3 cp \"s3://mousebrainatlas-data/CSHL_patch_features/inception-bn-blue/CHATM2/CHATM2_prep2_none_win7/CHATM2_slide68_2018_02_14-S1_prep2_none_win7_inception-bn-blue_features.bp\" \"/data/CSHL_patch_features/inception-bn-blue/CHATM2/CHATM2_prep2_none_win7/CHATM2_slide68_2018_02_14-S1_prep2_none_win7_inception-bn-blue_features.bp\"\n",
      "1\n"
     ]
    },
    {
     "name": "stderr",
     "output_type": "stream",
     "text": [
      "Features for CHATM2, 203/CHATM2_slide68_2018_02_14-S1 does not exist.\n",
      "No pre-computed features found... computing from scratch.\n",
      "Not using image_cache.\n"
     ]
    },
    {
     "name": "stdout",
     "output_type": "stream",
     "text": [
      "/data/CSHL_data_processed/CHATM2/CHATM2_prep2_raw_NtbNormalizedAdaptiveInvertedGamma/CHATM2_slide68_2018_02_14-S1_prep2_raw_NtbNormalizedAdaptiveInvertedGamma.tif\n"
     ]
    },
    {
     "name": "stderr",
     "output_type": "stream",
     "text": [
      "Load image: 4.15 seconds.\n",
      "Rescale image from 317 to 224: 5.40 seconds.\n",
      "Crop patches: 1.38 seconds.\n",
      "Extract patches: 10.96 seconds\n"
     ]
    },
    {
     "name": "stdout",
     "output_type": "stream",
     "text": [
      "(38959, 1, 224, 224)\n"
     ]
    },
    {
     "name": "stderr",
     "output_type": "stream",
     "text": [
      "Compute features: 63.33 seconds\n",
      "Compute features at one section, multiple locations: 74.31 seconds\n"
     ]
    },
    {
     "name": "stdout",
     "output_type": "stream",
     "text": [
      "aws s3 cp \"/data/CSHL_patch_features/inception-bn-blue/CHATM2/CHATM2_prep2_none_win7/CHATM2_slide68_2018_02_14-S1_prep2_none_win7_inception-bn-blue_features.bp\" \"s3://mousebrainatlas-data/CSHL_patch_features/inception-bn-blue/CHATM2/CHATM2_prep2_none_win7/CHATM2_slide68_2018_02_14-S1_prep2_none_win7_inception-bn-blue_features.bp\"\n",
      "0\n",
      "aws s3 cp \"/data/CSHL_patch_features/inception-bn-blue/CHATM2/CHATM2_prep2_none_win7/CHATM2_slide68_2018_02_14-S1_prep2_none_win7_inception-bn-blue_locations.bp\" \"s3://mousebrainatlas-data/CSHL_patch_features/inception-bn-blue/CHATM2/CHATM2_prep2_none_win7/CHATM2_slide68_2018_02_14-S1_prep2_none_win7_inception-bn-blue_locations.bp\"\n",
      "0\n",
      "rm -rf \"/data/CSHL_patch_features/inception-bn-blue/CHATM2/CHATM2_prep2_none_win7/CHATM2_slide68_2018_02_14-S2_prep2_none_win7_inception-bn-blue_features.bp\" && mkdir -p \"/data/CSHL_patch_features/inception-bn-blue/CHATM2/CHATM2_prep2_none_win7\"\n",
      "0\n",
      "aws s3 cp \"s3://mousebrainatlas-data/CSHL_patch_features/inception-bn-blue/CHATM2/CHATM2_prep2_none_win7/CHATM2_slide68_2018_02_14-S2_prep2_none_win7_inception-bn-blue_features.bp\" \"/data/CSHL_patch_features/inception-bn-blue/CHATM2/CHATM2_prep2_none_win7/CHATM2_slide68_2018_02_14-S2_prep2_none_win7_inception-bn-blue_features.bp\"\n"
     ]
    },
    {
     "name": "stderr",
     "output_type": "stream",
     "text": [
      "Save features: 3.63 seconds\n",
      "locate patches: 0.05 seconds\n"
     ]
    },
    {
     "name": "stdout",
     "output_type": "stream",
     "text": [
      "1\n"
     ]
    },
    {
     "name": "stderr",
     "output_type": "stream",
     "text": [
      "Features for CHATM2, 205/CHATM2_slide68_2018_02_14-S2 does not exist.\n",
      "No pre-computed features found... computing from scratch.\n",
      "Not using image_cache.\n"
     ]
    },
    {
     "name": "stdout",
     "output_type": "stream",
     "text": [
      "/data/CSHL_data_processed/CHATM2/CHATM2_prep2_raw_NtbNormalizedAdaptiveInvertedGamma/CHATM2_slide68_2018_02_14-S2_prep2_raw_NtbNormalizedAdaptiveInvertedGamma.tif\n"
     ]
    },
    {
     "name": "stderr",
     "output_type": "stream",
     "text": [
      "Load image: 3.75 seconds.\n",
      "Rescale image from 317 to 224: 3.57 seconds.\n",
      "Crop patches: 0.88 seconds.\n",
      "Extract patches: 8.21 seconds\n"
     ]
    },
    {
     "name": "stdout",
     "output_type": "stream",
     "text": [
      "(40645, 1, 224, 224)\n"
     ]
    },
    {
     "name": "stderr",
     "output_type": "stream",
     "text": [
      "Compute features: 73.28 seconds\n",
      "Compute features at one section, multiple locations: 81.51 seconds\n"
     ]
    },
    {
     "name": "stdout",
     "output_type": "stream",
     "text": [
      "aws s3 cp \"/data/CSHL_patch_features/inception-bn-blue/CHATM2/CHATM2_prep2_none_win7/CHATM2_slide68_2018_02_14-S2_prep2_none_win7_inception-bn-blue_features.bp\" \"s3://mousebrainatlas-data/CSHL_patch_features/inception-bn-blue/CHATM2/CHATM2_prep2_none_win7/CHATM2_slide68_2018_02_14-S2_prep2_none_win7_inception-bn-blue_features.bp\"\n",
      "0\n",
      "aws s3 cp \"/data/CSHL_patch_features/inception-bn-blue/CHATM2/CHATM2_prep2_none_win7/CHATM2_slide68_2018_02_14-S2_prep2_none_win7_inception-bn-blue_locations.bp\" \"s3://mousebrainatlas-data/CSHL_patch_features/inception-bn-blue/CHATM2/CHATM2_prep2_none_win7/CHATM2_slide68_2018_02_14-S2_prep2_none_win7_inception-bn-blue_locations.bp\"\n",
      "0\n",
      "rm -rf \"/data/CSHL_patch_features/inception-bn-blue/CHATM2/CHATM2_prep2_none_win7/CHATM2_slide70_2018_02_14-S1_prep2_none_win7_inception-bn-blue_features.bp\" && mkdir -p \"/data/CSHL_patch_features/inception-bn-blue/CHATM2/CHATM2_prep2_none_win7\"\n",
      "0\n",
      "aws s3 cp \"s3://mousebrainatlas-data/CSHL_patch_features/inception-bn-blue/CHATM2/CHATM2_prep2_none_win7/CHATM2_slide70_2018_02_14-S1_prep2_none_win7_inception-bn-blue_features.bp\" \"/data/CSHL_patch_features/inception-bn-blue/CHATM2/CHATM2_prep2_none_win7/CHATM2_slide70_2018_02_14-S1_prep2_none_win7_inception-bn-blue_features.bp\"\n"
     ]
    },
    {
     "name": "stderr",
     "output_type": "stream",
     "text": [
      "Save features: 3.34 seconds\n",
      "locate patches: 0.05 seconds\n"
     ]
    },
    {
     "name": "stdout",
     "output_type": "stream",
     "text": [
      "1\n"
     ]
    },
    {
     "name": "stderr",
     "output_type": "stream",
     "text": [
      "Features for CHATM2, 209/CHATM2_slide70_2018_02_14-S1 does not exist.\n",
      "No pre-computed features found... computing from scratch.\n",
      "Not using image_cache.\n"
     ]
    },
    {
     "name": "stdout",
     "output_type": "stream",
     "text": [
      "/data/CSHL_data_processed/CHATM2/CHATM2_prep2_raw_NtbNormalizedAdaptiveInvertedGamma/CHATM2_slide70_2018_02_14-S1_prep2_raw_NtbNormalizedAdaptiveInvertedGamma.tif\n"
     ]
    },
    {
     "name": "stderr",
     "output_type": "stream",
     "text": [
      "Load image: 3.97 seconds.\n",
      "Rescale image from 317 to 224: 2.99 seconds.\n",
      "Crop patches: 0.96 seconds.\n",
      "Extract patches: 7.93 seconds\n"
     ]
    },
    {
     "name": "stdout",
     "output_type": "stream",
     "text": [
      "(40410, 1, 224, 224)\n"
     ]
    },
    {
     "name": "stderr",
     "output_type": "stream",
     "text": [
      "Compute features: 64.84 seconds\n",
      "Compute features at one section, multiple locations: 72.78 seconds\n"
     ]
    },
    {
     "name": "stdout",
     "output_type": "stream",
     "text": [
      "aws s3 cp \"/data/CSHL_patch_features/inception-bn-blue/CHATM2/CHATM2_prep2_none_win7/CHATM2_slide70_2018_02_14-S1_prep2_none_win7_inception-bn-blue_features.bp\" \"s3://mousebrainatlas-data/CSHL_patch_features/inception-bn-blue/CHATM2/CHATM2_prep2_none_win7/CHATM2_slide70_2018_02_14-S1_prep2_none_win7_inception-bn-blue_features.bp\"\n",
      "0\n",
      "aws s3 cp \"/data/CSHL_patch_features/inception-bn-blue/CHATM2/CHATM2_prep2_none_win7/CHATM2_slide70_2018_02_14-S1_prep2_none_win7_inception-bn-blue_locations.bp\" \"s3://mousebrainatlas-data/CSHL_patch_features/inception-bn-blue/CHATM2/CHATM2_prep2_none_win7/CHATM2_slide70_2018_02_14-S1_prep2_none_win7_inception-bn-blue_locations.bp\"\n",
      "0\n",
      "rm -rf \"/data/CSHL_patch_features/inception-bn-blue/CHATM2/CHATM2_prep2_none_win7/CHATM2_slide70_2018_02_14-S2_prep2_none_win7_inception-bn-blue_features.bp\" && mkdir -p \"/data/CSHL_patch_features/inception-bn-blue/CHATM2/CHATM2_prep2_none_win7\"\n",
      "0"
     ]
    },
    {
     "name": "stderr",
     "output_type": "stream",
     "text": [
      "Save features: 4.55 seconds\n",
      "locate patches: 0.10 seconds\n"
     ]
    },
    {
     "name": "stdout",
     "output_type": "stream",
     "text": [
      "\n",
      "aws s3 cp \"s3://mousebrainatlas-data/CSHL_patch_features/inception-bn-blue/CHATM2/CHATM2_prep2_none_win7/CHATM2_slide70_2018_02_14-S2_prep2_none_win7_inception-bn-blue_features.bp\" \"/data/CSHL_patch_features/inception-bn-blue/CHATM2/CHATM2_prep2_none_win7/CHATM2_slide70_2018_02_14-S2_prep2_none_win7_inception-bn-blue_features.bp\"\n",
      "1\n"
     ]
    },
    {
     "name": "stderr",
     "output_type": "stream",
     "text": [
      "Features for CHATM2, 211/CHATM2_slide70_2018_02_14-S2 does not exist.\n",
      "No pre-computed features found... computing from scratch.\n",
      "Not using image_cache.\n"
     ]
    },
    {
     "name": "stdout",
     "output_type": "stream",
     "text": [
      "/data/CSHL_data_processed/CHATM2/CHATM2_prep2_raw_NtbNormalizedAdaptiveInvertedGamma/CHATM2_slide70_2018_02_14-S2_prep2_raw_NtbNormalizedAdaptiveInvertedGamma.tif\n"
     ]
    },
    {
     "name": "stderr",
     "output_type": "stream",
     "text": [
      "Load image: 4.90 seconds.\n",
      "Rescale image from 317 to 224: 5.04 seconds.\n",
      "Crop patches: 1.40 seconds.\n",
      "Extract patches: 11.37 seconds\n"
     ]
    },
    {
     "name": "stdout",
     "output_type": "stream",
     "text": [
      "(40602, 1, 224, 224)\n"
     ]
    },
    {
     "name": "stderr",
     "output_type": "stream",
     "text": [
      "Compute features: 67.23 seconds\n",
      "Compute features at one section, multiple locations: 78.62 seconds\n"
     ]
    },
    {
     "name": "stdout",
     "output_type": "stream",
     "text": [
      "aws s3 cp \"/data/CSHL_patch_features/inception-bn-blue/CHATM2/CHATM2_prep2_none_win7/CHATM2_slide70_2018_02_14-S2_prep2_none_win7_inception-bn-blue_features.bp\" \"s3://mousebrainatlas-data/CSHL_patch_features/inception-bn-blue/CHATM2/CHATM2_prep2_none_win7/CHATM2_slide70_2018_02_14-S2_prep2_none_win7_inception-bn-blue_features.bp\"\n",
      "0\n",
      "aws s3 cp \"/data/CSHL_patch_features/inception-bn-blue/CHATM2/CHATM2_prep2_none_win7/CHATM2_slide70_2018_02_14-S2_prep2_none_win7_inception-bn-blue_locations.bp\" \"s3://mousebrainatlas-data/CSHL_patch_features/inception-bn-blue/CHATM2/CHATM2_prep2_none_win7/CHATM2_slide70_2018_02_14-S2_prep2_none_win7_inception-bn-blue_locations.bp\"\n",
      "0\n",
      "rm -rf \"/data/CSHL_patch_features/inception-bn-blue/CHATM2/CHATM2_prep2_none_win7/CHATM2_slide70_2018_02_14-S3_prep2_none_win7_inception-bn-blue_features.bp\" && mkdir -p \"/data/CSHL_patch_features/inception-bn-blue/CHATM2/CHATM2_prep2_none_win7\"\n",
      "0\n",
      "aws s3 cp \"s3://mousebrainatlas-data/CSHL_patch_features/inception-bn-blue/CHATM2/CHATM2_prep2_none_win7/CHATM2_slide70_2018_02_14-S3_prep2_none_win7_inception-bn-blue_features.bp\" \"/data/CSHL_patch_features/inception-bn-blue/CHATM2/CHATM2_prep2_none_win7/CHATM2_slide70_2018_02_14-S3_prep2_none_win7_inception-bn-blue_features.bp\"\n"
     ]
    },
    {
     "name": "stderr",
     "output_type": "stream",
     "text": [
      "Save features: 4.48 seconds\n",
      "locate patches: 0.07 seconds\n"
     ]
    },
    {
     "name": "stdout",
     "output_type": "stream",
     "text": [
      "1\n"
     ]
    },
    {
     "name": "stderr",
     "output_type": "stream",
     "text": [
      "Features for CHATM2, 213/CHATM2_slide70_2018_02_14-S3 does not exist.\n",
      "No pre-computed features found... computing from scratch.\n",
      "Not using image_cache.\n"
     ]
    },
    {
     "name": "stdout",
     "output_type": "stream",
     "text": [
      "/data/CSHL_data_processed/CHATM2/CHATM2_prep2_raw_NtbNormalizedAdaptiveInvertedGamma/CHATM2_slide70_2018_02_14-S3_prep2_raw_NtbNormalizedAdaptiveInvertedGamma.tif\n"
     ]
    },
    {
     "name": "stderr",
     "output_type": "stream",
     "text": [
      "Load image: 5.78 seconds.\n",
      "Rescale image from 317 to 224: 5.16 seconds.\n",
      "Crop patches: 1.33 seconds.\n",
      "Extract patches: 12.30 seconds\n"
     ]
    },
    {
     "name": "stdout",
     "output_type": "stream",
     "text": [
      "(40248, 1, 224, 224)\n"
     ]
    },
    {
     "name": "stderr",
     "output_type": "stream",
     "text": [
      "Compute features: 65.00 seconds\n",
      "Compute features at one section, multiple locations: 77.31 seconds\n"
     ]
    },
    {
     "name": "stdout",
     "output_type": "stream",
     "text": [
      "aws s3 cp \"/data/CSHL_patch_features/inception-bn-blue/CHATM2/CHATM2_prep2_none_win7/CHATM2_slide70_2018_02_14-S3_prep2_none_win7_inception-bn-blue_features.bp\" \"s3://mousebrainatlas-data/CSHL_patch_features/inception-bn-blue/CHATM2/CHATM2_prep2_none_win7/CHATM2_slide70_2018_02_14-S3_prep2_none_win7_inception-bn-blue_features.bp\"\n",
      "0\n",
      "aws s3 cp \"/data/CSHL_patch_features/inception-bn-blue/CHATM2/CHATM2_prep2_none_win7/CHATM2_slide70_2018_02_14-S3_prep2_none_win7_inception-bn-blue_locations.bp\" \"s3://mousebrainatlas-data/CSHL_patch_features/inception-bn-blue/CHATM2/CHATM2_prep2_none_win7/CHATM2_slide70_2018_02_14-S3_prep2_none_win7_inception-bn-blue_locations.bp\"\n",
      "0\n",
      "rm -rf \"/data/CSHL_patch_features/inception-bn-blue/CHATM2/CHATM2_prep2_none_win7/CHATM2_slide72_2018_02_14-S1_prep2_none_win7_inception-bn-blue_features.bp\" && mkdir -p \"/data/CSHL_patch_features/inception-bn-blue/CHATM2/CHATM2_prep2_none_win7\"\n",
      "0\n",
      "aws s3 cp \"s3://mousebrainatlas-data/CSHL_patch_features/inception-bn-blue/CHATM2/CHATM2_prep2_none_win7/CHATM2_slide72_2018_02_14-S1_prep2_none_win7_inception-bn-blue_features.bp\" \"/data/CSHL_patch_features/inception-bn-blue/CHATM2/CHATM2_prep2_none_win7/CHATM2_slide72_2018_02_14-S1_prep2_none_win7_inception-bn-blue_features.bp\"\n"
     ]
    },
    {
     "name": "stderr",
     "output_type": "stream",
     "text": [
      "Save features: 3.53 seconds\n",
      "locate patches: 0.03 seconds\n"
     ]
    },
    {
     "name": "stdout",
     "output_type": "stream",
     "text": [
      "1\n"
     ]
    },
    {
     "name": "stderr",
     "output_type": "stream",
     "text": [
      "Features for CHATM2, 215/CHATM2_slide72_2018_02_14-S1 does not exist.\n",
      "No pre-computed features found... computing from scratch.\n",
      "Not using image_cache.\n"
     ]
    },
    {
     "name": "stdout",
     "output_type": "stream",
     "text": [
      "/data/CSHL_data_processed/CHATM2/CHATM2_prep2_raw_NtbNormalizedAdaptiveInvertedGamma/CHATM2_slide72_2018_02_14-S1_prep2_raw_NtbNormalizedAdaptiveInvertedGamma.tif\n"
     ]
    },
    {
     "name": "stderr",
     "output_type": "stream",
     "text": [
      "Load image: 3.72 seconds.\n",
      "Rescale image from 317 to 224: 3.20 seconds.\n",
      "Crop patches: 1.37 seconds.\n",
      "Extract patches: 8.31 seconds\n"
     ]
    },
    {
     "name": "stdout",
     "output_type": "stream",
     "text": [
      "(39667, 1, 224, 224)\n"
     ]
    },
    {
     "name": "stderr",
     "output_type": "stream",
     "text": [
      "Compute features: 67.94 seconds\n",
      "Compute features at one section, multiple locations: 76.27 seconds\n"
     ]
    },
    {
     "name": "stdout",
     "output_type": "stream",
     "text": [
      "aws s3 cp \"/data/CSHL_patch_features/inception-bn-blue/CHATM2/CHATM2_prep2_none_win7/CHATM2_slide72_2018_02_14-S1_prep2_none_win7_inception-bn-blue_features.bp\" \"s3://mousebrainatlas-data/CSHL_patch_features/inception-bn-blue/CHATM2/CHATM2_prep2_none_win7/CHATM2_slide72_2018_02_14-S1_prep2_none_win7_inception-bn-blue_features.bp\"\n",
      "0\n",
      "aws s3 cp \"/data/CSHL_patch_features/inception-bn-blue/CHATM2/CHATM2_prep2_none_win7/CHATM2_slide72_2018_02_14-S1_prep2_none_win7_inception-bn-blue_locations.bp\" \"s3://mousebrainatlas-data/CSHL_patch_features/inception-bn-blue/CHATM2/CHATM2_prep2_none_win7/CHATM2_slide72_2018_02_14-S1_prep2_none_win7_inception-bn-blue_locations.bp\"\n",
      "0\n",
      "rm -rf \"/data/CSHL_patch_features/inception-bn-blue/CHATM2/CHATM2_prep2_none_win7/CHATM2_slide72_2018_02_14-S2_prep2_none_win7_inception-bn-blue_features.bp\" && mkdir -p \"/data/CSHL_patch_features/inception-bn-blue/CHATM2/CHATM2_prep2_none_win7\"\n",
      "0\n",
      "aws s3 cp \"s3://mousebrainatlas-data/CSHL_patch_features/inception-bn-blue/CHATM2/CHATM2_prep2_none_win7/CHATM2_slide72_2018_02_14-S2_prep2_none_win7_inception-bn-blue_features.bp\" \"/data/CSHL_patch_features/inception-bn-blue/CHATM2/CHATM2_prep2_none_win7/CHATM2_slide72_2018_02_14-S2_prep2_none_win7_inception-bn-blue_features.bp\"\n"
     ]
    },
    {
     "name": "stderr",
     "output_type": "stream",
     "text": [
      "Save features: 3.45 seconds\n",
      "locate patches: 0.06 seconds\n"
     ]
    },
    {
     "name": "stdout",
     "output_type": "stream",
     "text": [
      "1\n"
     ]
    },
    {
     "name": "stderr",
     "output_type": "stream",
     "text": [
      "Features for CHATM2, 217/CHATM2_slide72_2018_02_14-S2 does not exist.\n",
      "No pre-computed features found... computing from scratch.\n",
      "Not using image_cache.\n"
     ]
    },
    {
     "name": "stdout",
     "output_type": "stream",
     "text": [
      "/data/CSHL_data_processed/CHATM2/CHATM2_prep2_raw_NtbNormalizedAdaptiveInvertedGamma/CHATM2_slide72_2018_02_14-S2_prep2_raw_NtbNormalizedAdaptiveInvertedGamma.tif\n"
     ]
    },
    {
     "name": "stderr",
     "output_type": "stream",
     "text": [
      "Load image: 3.62 seconds.\n",
      "Rescale image from 317 to 224: 3.19 seconds.\n",
      "Crop patches: 0.95 seconds.\n",
      "Extract patches: 7.78 seconds\n"
     ]
    },
    {
     "name": "stdout",
     "output_type": "stream",
     "text": [
      "(39704, 1, 224, 224)\n"
     ]
    },
    {
     "name": "stderr",
     "output_type": "stream",
     "text": [
      "Compute features: 67.47 seconds\n",
      "Compute features at one section, multiple locations: 75.28 seconds\n"
     ]
    },
    {
     "name": "stdout",
     "output_type": "stream",
     "text": [
      "aws s3 cp \"/data/CSHL_patch_features/inception-bn-blue/CHATM2/CHATM2_prep2_none_win7/CHATM2_slide72_2018_02_14-S2_prep2_none_win7_inception-bn-blue_features.bp\" \"s3://mousebrainatlas-data/CSHL_patch_features/inception-bn-blue/CHATM2/CHATM2_prep2_none_win7/CHATM2_slide72_2018_02_14-S2_prep2_none_win7_inception-bn-blue_features.bp\"\n",
      "0\n",
      "aws s3 cp \"/data/CSHL_patch_features/inception-bn-blue/CHATM2/CHATM2_prep2_none_win7/CHATM2_slide72_2018_02_14-S2_prep2_none_win7_inception-bn-blue_locations.bp\" \"s3://mousebrainatlas-data/CSHL_patch_features/inception-bn-blue/CHATM2/CHATM2_prep2_none_win7/CHATM2_slide72_2018_02_14-S2_prep2_none_win7_inception-bn-blue_locations.bp\"\n",
      "0\n",
      "rm -rf \"/data/CSHL_patch_features/inception-bn-blue/CHATM2/CHATM2_prep2_none_win7/CHATM2_slide72_2018_02_14-S3_prep2_none_win7_inception-bn-blue_features.bp\" && mkdir -p \"/data/CSHL_patch_features/inception-bn-blue/CHATM2/CHATM2_prep2_none_win7\"\n"
     ]
    },
    {
     "name": "stderr",
     "output_type": "stream",
     "text": [
      "Save features: 5.02 seconds\n",
      "locate patches: 0.11 seconds\n"
     ]
    },
    {
     "name": "stdout",
     "output_type": "stream",
     "text": [
      "0\n",
      "aws s3 cp \"s3://mousebrainatlas-data/CSHL_patch_features/inception-bn-blue/CHATM2/CHATM2_prep2_none_win7/CHATM2_slide72_2018_02_14-S3_prep2_none_win7_inception-bn-blue_features.bp\" \"/data/CSHL_patch_features/inception-bn-blue/CHATM2/CHATM2_prep2_none_win7/CHATM2_slide72_2018_02_14-S3_prep2_none_win7_inception-bn-blue_features.bp\"\n",
      "1\n"
     ]
    },
    {
     "name": "stderr",
     "output_type": "stream",
     "text": [
      "Features for CHATM2, 219/CHATM2_slide72_2018_02_14-S3 does not exist.\n",
      "No pre-computed features found... computing from scratch.\n",
      "Not using image_cache.\n"
     ]
    },
    {
     "name": "stdout",
     "output_type": "stream",
     "text": [
      "/data/CSHL_data_processed/CHATM2/CHATM2_prep2_raw_NtbNormalizedAdaptiveInvertedGamma/CHATM2_slide72_2018_02_14-S3_prep2_raw_NtbNormalizedAdaptiveInvertedGamma.tif\n"
     ]
    },
    {
     "name": "stderr",
     "output_type": "stream",
     "text": [
      "Load image: 6.25 seconds.\n",
      "Rescale image from 317 to 224: 5.83 seconds.\n",
      "Crop patches: 1.33 seconds.\n",
      "Extract patches: 13.44 seconds\n"
     ]
    },
    {
     "name": "stdout",
     "output_type": "stream",
     "text": [
      "(39746, 1, 224, 224)\n"
     ]
    },
    {
     "name": "stderr",
     "output_type": "stream",
     "text": [
      "Compute features: 69.07 seconds\n",
      "Compute features at one section, multiple locations: 82.54 seconds\n"
     ]
    },
    {
     "name": "stdout",
     "output_type": "stream",
     "text": [
      "aws s3 cp \"/data/CSHL_patch_features/inception-bn-blue/CHATM2/CHATM2_prep2_none_win7/CHATM2_slide72_2018_02_14-S3_prep2_none_win7_inception-bn-blue_features.bp\" \"s3://mousebrainatlas-data/CSHL_patch_features/inception-bn-blue/CHATM2/CHATM2_prep2_none_win7/CHATM2_slide72_2018_02_14-S3_prep2_none_win7_inception-bn-blue_features.bp\"\n",
      "0\n",
      "aws s3 cp \"/data/CSHL_patch_features/inception-bn-blue/CHATM2/CHATM2_prep2_none_win7/CHATM2_slide72_2018_02_14-S3_prep2_none_win7_inception-bn-blue_locations.bp\" \"s3://mousebrainatlas-data/CSHL_patch_features/inception-bn-blue/CHATM2/CHATM2_prep2_none_win7/CHATM2_slide72_2018_02_14-S3_prep2_none_win7_inception-bn-blue_locations.bp\"\n",
      "0\n",
      "rm -rf \"/data/CSHL_patch_features/inception-bn-blue/CHATM2/CHATM2_prep2_none_win7/CHATM2_slide74_2018_02_14-S1_prep2_none_win7_inception-bn-blue_features.bp\" && mkdir -p \"/data/CSHL_patch_features/inception-bn-blue/CHATM2/CHATM2_prep2_none_win7\"\n"
     ]
    },
    {
     "name": "stderr",
     "output_type": "stream",
     "text": [
      "Save features: 5.37 seconds\n",
      "locate patches: 0.09 seconds\n"
     ]
    },
    {
     "name": "stdout",
     "output_type": "stream",
     "text": [
      "0\n",
      "aws s3 cp \"s3://mousebrainatlas-data/CSHL_patch_features/inception-bn-blue/CHATM2/CHATM2_prep2_none_win7/CHATM2_slide74_2018_02_14-S1_prep2_none_win7_inception-bn-blue_features.bp\" \"/data/CSHL_patch_features/inception-bn-blue/CHATM2/CHATM2_prep2_none_win7/CHATM2_slide74_2018_02_14-S1_prep2_none_win7_inception-bn-blue_features.bp\"\n",
      "1\n"
     ]
    },
    {
     "name": "stderr",
     "output_type": "stream",
     "text": [
      "Features for CHATM2, 221/CHATM2_slide74_2018_02_14-S1 does not exist.\n",
      "No pre-computed features found... computing from scratch.\n",
      "Not using image_cache.\n"
     ]
    },
    {
     "name": "stdout",
     "output_type": "stream",
     "text": [
      "/data/CSHL_data_processed/CHATM2/CHATM2_prep2_raw_NtbNormalizedAdaptiveInvertedGamma/CHATM2_slide74_2018_02_14-S1_prep2_raw_NtbNormalizedAdaptiveInvertedGamma.tif\n"
     ]
    },
    {
     "name": "stderr",
     "output_type": "stream",
     "text": [
      "Load image: 4.78 seconds.\n",
      "Rescale image from 317 to 224: 6.08 seconds.\n",
      "Crop patches: 1.42 seconds.\n",
      "Extract patches: 12.31 seconds\n"
     ]
    },
    {
     "name": "stdout",
     "output_type": "stream",
     "text": [
      "(39334, 1, 224, 224)\n"
     ]
    },
    {
     "name": "stderr",
     "output_type": "stream",
     "text": [
      "Compute features: 68.56 seconds\n",
      "Compute features at one section, multiple locations: 80.89 seconds\n"
     ]
    },
    {
     "name": "stdout",
     "output_type": "stream",
     "text": [
      "aws s3 cp \"/data/CSHL_patch_features/inception-bn-blue/CHATM2/CHATM2_prep2_none_win7/CHATM2_slide74_2018_02_14-S1_prep2_none_win7_inception-bn-blue_features.bp\" \"s3://mousebrainatlas-data/CSHL_patch_features/inception-bn-blue/CHATM2/CHATM2_prep2_none_win7/CHATM2_slide74_2018_02_14-S1_prep2_none_win7_inception-bn-blue_features.bp\"\n",
      "0\n",
      "aws s3 cp \"/data/CSHL_patch_features/inception-bn-blue/CHATM2/CHATM2_prep2_none_win7/CHATM2_slide74_2018_02_14-S1_prep2_none_win7_inception-bn-blue_locations.bp\" \"s3://mousebrainatlas-data/CSHL_patch_features/inception-bn-blue/CHATM2/CHATM2_prep2_none_win7/CHATM2_slide74_2018_02_14-S1_prep2_none_win7_inception-bn-blue_locations.bp\"\n",
      "0\n",
      "rm -rf \"/data/CSHL_patch_features/inception-bn-blue/CHATM2/CHATM2_prep2_none_win7/CHATM2_slide74_2018_02_14-S2_prep2_none_win7_inception-bn-blue_features.bp\" && mkdir -p \"/data/CSHL_patch_features/inception-bn-blue/CHATM2/CHATM2_prep2_none_win7\"\n",
      "0\n",
      "aws s3 cp \"s3://mousebrainatlas-data/CSHL_patch_features/inception-bn-blue/CHATM2/CHATM2_prep2_none_win7/CHATM2_slide74_2018_02_14-S2_prep2_none_win7_inception-bn-blue_features.bp\" \"/data/CSHL_patch_features/inception-bn-blue/CHATM2/CHATM2_prep2_none_win7/CHATM2_slide74_2018_02_14-S2_prep2_none_win7_inception-bn-blue_features.bp\"\n"
     ]
    },
    {
     "name": "stderr",
     "output_type": "stream",
     "text": [
      "Save features: 4.45 seconds\n",
      "locate patches: 0.06 seconds\n"
     ]
    },
    {
     "name": "stdout",
     "output_type": "stream",
     "text": [
      "1\n"
     ]
    },
    {
     "name": "stderr",
     "output_type": "stream",
     "text": [
      "Features for CHATM2, 223/CHATM2_slide74_2018_02_14-S2 does not exist.\n",
      "No pre-computed features found... computing from scratch.\n",
      "Not using image_cache.\n"
     ]
    },
    {
     "name": "stdout",
     "output_type": "stream",
     "text": [
      "/data/CSHL_data_processed/CHATM2/CHATM2_prep2_raw_NtbNormalizedAdaptiveInvertedGamma/CHATM2_slide74_2018_02_14-S2_prep2_raw_NtbNormalizedAdaptiveInvertedGamma.tif\n"
     ]
    },
    {
     "name": "stderr",
     "output_type": "stream",
     "text": [
      "Load image: 3.79 seconds.\n",
      "Rescale image from 317 to 224: 3.61 seconds.\n",
      "Crop patches: 0.83 seconds.\n",
      "Extract patches: 8.24 seconds\n"
     ]
    },
    {
     "name": "stdout",
     "output_type": "stream",
     "text": [
      "(38905, 1, 224, 224)\n"
     ]
    },
    {
     "name": "stderr",
     "output_type": "stream",
     "text": [
      "Compute features: 67.56 seconds\n",
      "Compute features at one section, multiple locations: 75.82 seconds\n"
     ]
    },
    {
     "name": "stdout",
     "output_type": "stream",
     "text": [
      "aws s3 cp \"/data/CSHL_patch_features/inception-bn-blue/CHATM2/CHATM2_prep2_none_win7/CHATM2_slide74_2018_02_14-S2_prep2_none_win7_inception-bn-blue_features.bp\" \"s3://mousebrainatlas-data/CSHL_patch_features/inception-bn-blue/CHATM2/CHATM2_prep2_none_win7/CHATM2_slide74_2018_02_14-S2_prep2_none_win7_inception-bn-blue_features.bp\"\n",
      "0\n",
      "aws s3 cp \"/data/CSHL_patch_features/inception-bn-blue/CHATM2/CHATM2_prep2_none_win7/CHATM2_slide74_2018_02_14-S2_prep2_none_win7_inception-bn-blue_locations.bp\" \"s3://mousebrainatlas-data/CSHL_patch_features/inception-bn-blue/CHATM2/CHATM2_prep2_none_win7/CHATM2_slide74_2018_02_14-S2_prep2_none_win7_inception-bn-blue_locations.bp\"\n",
      "0\n",
      "rm -rf \"/data/CSHL_patch_features/inception-bn-blue/CHATM2/CHATM2_prep2_none_win7/CHATM2_slide74_2018_02_14-S3_prep2_none_win7_inception-bn-blue_features.bp\" && mkdir -p \"/data/CSHL_patch_features/inception-bn-blue/CHATM2/CHATM2_prep2_none_win7\"\n"
     ]
    },
    {
     "name": "stderr",
     "output_type": "stream",
     "text": [
      "Save features: 5.12 seconds\n",
      "locate patches: 0.11 seconds\n"
     ]
    },
    {
     "name": "stdout",
     "output_type": "stream",
     "text": [
      "0\n",
      "aws s3 cp \"s3://mousebrainatlas-data/CSHL_patch_features/inception-bn-blue/CHATM2/CHATM2_prep2_none_win7/CHATM2_slide74_2018_02_14-S3_prep2_none_win7_inception-bn-blue_features.bp\" \"/data/CSHL_patch_features/inception-bn-blue/CHATM2/CHATM2_prep2_none_win7/CHATM2_slide74_2018_02_14-S3_prep2_none_win7_inception-bn-blue_features.bp\"\n",
      "1\n"
     ]
    },
    {
     "name": "stderr",
     "output_type": "stream",
     "text": [
      "Features for CHATM2, 225/CHATM2_slide74_2018_02_14-S3 does not exist.\n",
      "No pre-computed features found... computing from scratch.\n",
      "Not using image_cache.\n"
     ]
    },
    {
     "name": "stdout",
     "output_type": "stream",
     "text": [
      "/data/CSHL_data_processed/CHATM2/CHATM2_prep2_raw_NtbNormalizedAdaptiveInvertedGamma/CHATM2_slide74_2018_02_14-S3_prep2_raw_NtbNormalizedAdaptiveInvertedGamma.tif\n"
     ]
    },
    {
     "name": "stderr",
     "output_type": "stream",
     "text": [
      "Load image: 5.94 seconds.\n",
      "Rescale image from 317 to 224: 4.73 seconds.\n",
      "Crop patches: 0.99 seconds.\n",
      "Extract patches: 11.68 seconds\n"
     ]
    },
    {
     "name": "stdout",
     "output_type": "stream",
     "text": [
      "(38866, 1, 224, 224)\n"
     ]
    },
    {
     "name": "stderr",
     "output_type": "stream",
     "text": [
      "Compute features: 64.14 seconds\n",
      "Compute features at one section, multiple locations: 75.84 seconds\n"
     ]
    },
    {
     "name": "stdout",
     "output_type": "stream",
     "text": [
      "aws s3 cp \"/data/CSHL_patch_features/inception-bn-blue/CHATM2/CHATM2_prep2_none_win7/CHATM2_slide74_2018_02_14-S3_prep2_none_win7_inception-bn-blue_features.bp\" \"s3://mousebrainatlas-data/CSHL_patch_features/inception-bn-blue/CHATM2/CHATM2_prep2_none_win7/CHATM2_slide74_2018_02_14-S3_prep2_none_win7_inception-bn-blue_features.bp\"\n",
      "0\n",
      "aws s3 cp \"/data/CSHL_patch_features/inception-bn-blue/CHATM2/CHATM2_prep2_none_win7/CHATM2_slide74_2018_02_14-S3_prep2_none_win7_inception-bn-blue_locations.bp\" \"s3://mousebrainatlas-data/CSHL_patch_features/inception-bn-blue/CHATM2/CHATM2_prep2_none_win7/CHATM2_slide74_2018_02_14-S3_prep2_none_win7_inception-bn-blue_locations.bp\"\n",
      "0\n",
      "rm -rf \"/data/CSHL_patch_features/inception-bn-blue/CHATM2/CHATM2_prep2_none_win7/CHATM2_slide76_2018_02_14-S1_prep2_none_win7_inception-bn-blue_features.bp\" && mkdir -p \"/data/CSHL_patch_features/inception-bn-blue/CHATM2/CHATM2_prep2_none_win7\"\n",
      "0"
     ]
    },
    {
     "name": "stderr",
     "output_type": "stream",
     "text": [
      "Save features: 4.41 seconds\n",
      "locate patches: 0.11 seconds\n"
     ]
    },
    {
     "name": "stdout",
     "output_type": "stream",
     "text": [
      "\n",
      "aws s3 cp \"s3://mousebrainatlas-data/CSHL_patch_features/inception-bn-blue/CHATM2/CHATM2_prep2_none_win7/CHATM2_slide76_2018_02_14-S1_prep2_none_win7_inception-bn-blue_features.bp\" \"/data/CSHL_patch_features/inception-bn-blue/CHATM2/CHATM2_prep2_none_win7/CHATM2_slide76_2018_02_14-S1_prep2_none_win7_inception-bn-blue_features.bp\"\n",
      "1\n"
     ]
    },
    {
     "name": "stderr",
     "output_type": "stream",
     "text": [
      "Features for CHATM2, 227/CHATM2_slide76_2018_02_14-S1 does not exist.\n",
      "No pre-computed features found... computing from scratch.\n",
      "Not using image_cache.\n"
     ]
    },
    {
     "name": "stdout",
     "output_type": "stream",
     "text": [
      "/data/CSHL_data_processed/CHATM2/CHATM2_prep2_raw_NtbNormalizedAdaptiveInvertedGamma/CHATM2_slide76_2018_02_14-S1_prep2_raw_NtbNormalizedAdaptiveInvertedGamma.tif\n"
     ]
    },
    {
     "name": "stderr",
     "output_type": "stream",
     "text": [
      "Load image: 5.84 seconds.\n",
      "Rescale image from 317 to 224: 6.71 seconds.\n",
      "Crop patches: 1.64 seconds.\n",
      "Extract patches: 14.23 seconds\n"
     ]
    },
    {
     "name": "stdout",
     "output_type": "stream",
     "text": [
      "(37001, 1, 224, 224)\n"
     ]
    },
    {
     "name": "stderr",
     "output_type": "stream",
     "text": [
      "Compute features: 65.91 seconds\n",
      "Compute features at one section, multiple locations: 80.16 seconds\n"
     ]
    },
    {
     "name": "stdout",
     "output_type": "stream",
     "text": [
      "aws s3 cp \"/data/CSHL_patch_features/inception-bn-blue/CHATM2/CHATM2_prep2_none_win7/CHATM2_slide76_2018_02_14-S1_prep2_none_win7_inception-bn-blue_features.bp\" \"s3://mousebrainatlas-data/CSHL_patch_features/inception-bn-blue/CHATM2/CHATM2_prep2_none_win7/CHATM2_slide76_2018_02_14-S1_prep2_none_win7_inception-bn-blue_features.bp\"\n",
      "0\n",
      "aws s3 cp \"/data/CSHL_patch_features/inception-bn-blue/CHATM2/CHATM2_prep2_none_win7/CHATM2_slide76_2018_02_14-S1_prep2_none_win7_inception-bn-blue_locations.bp\" \"s3://mousebrainatlas-data/CSHL_patch_features/inception-bn-blue/CHATM2/CHATM2_prep2_none_win7/CHATM2_slide76_2018_02_14-S1_prep2_none_win7_inception-bn-blue_locations.bp\"\n",
      "0\n",
      "rm -rf \"/data/CSHL_patch_features/inception-bn-blue/CHATM2/CHATM2_prep2_none_win7/CHATM2_slide76_2018_02_14-S2_prep2_none_win7_inception-bn-blue_features.bp\" && mkdir -p \"/data/CSHL_patch_features/inception-bn-blue/CHATM2/CHATM2_prep2_none_win7\"\n"
     ]
    },
    {
     "name": "stderr",
     "output_type": "stream",
     "text": [
      "Save features: 7.82 seconds\n",
      "locate patches: 0.11 seconds\n"
     ]
    },
    {
     "name": "stdout",
     "output_type": "stream",
     "text": [
      "0\n",
      "aws s3 cp \"s3://mousebrainatlas-data/CSHL_patch_features/inception-bn-blue/CHATM2/CHATM2_prep2_none_win7/CHATM2_slide76_2018_02_14-S2_prep2_none_win7_inception-bn-blue_features.bp\" \"/data/CSHL_patch_features/inception-bn-blue/CHATM2/CHATM2_prep2_none_win7/CHATM2_slide76_2018_02_14-S2_prep2_none_win7_inception-bn-blue_features.bp\"\n",
      "1\n"
     ]
    },
    {
     "name": "stderr",
     "output_type": "stream",
     "text": [
      "Features for CHATM2, 229/CHATM2_slide76_2018_02_14-S2 does not exist.\n",
      "No pre-computed features found... computing from scratch.\n",
      "Not using image_cache.\n"
     ]
    },
    {
     "name": "stdout",
     "output_type": "stream",
     "text": [
      "/data/CSHL_data_processed/CHATM2/CHATM2_prep2_raw_NtbNormalizedAdaptiveInvertedGamma/CHATM2_slide76_2018_02_14-S2_prep2_raw_NtbNormalizedAdaptiveInvertedGamma.tif\n"
     ]
    },
    {
     "name": "stderr",
     "output_type": "stream",
     "text": [
      "Load image: 4.66 seconds.\n",
      "Rescale image from 317 to 224: 5.18 seconds.\n",
      "Crop patches: 1.28 seconds.\n",
      "Extract patches: 11.15 seconds\n"
     ]
    },
    {
     "name": "stdout",
     "output_type": "stream",
     "text": [
      "(36323, 1, 224, 224)\n"
     ]
    },
    {
     "name": "stderr",
     "output_type": "stream",
     "text": [
      "Compute features: 58.79 seconds\n",
      "Compute features at one section, multiple locations: 69.96 seconds\n"
     ]
    },
    {
     "name": "stdout",
     "output_type": "stream",
     "text": [
      "aws s3 cp \"/data/CSHL_patch_features/inception-bn-blue/CHATM2/CHATM2_prep2_none_win7/CHATM2_slide76_2018_02_14-S2_prep2_none_win7_inception-bn-blue_features.bp\" \"s3://mousebrainatlas-data/CSHL_patch_features/inception-bn-blue/CHATM2/CHATM2_prep2_none_win7/CHATM2_slide76_2018_02_14-S2_prep2_none_win7_inception-bn-blue_features.bp\"\n",
      "0\n",
      "aws s3 cp \"/data/CSHL_patch_features/inception-bn-blue/CHATM2/CHATM2_prep2_none_win7/CHATM2_slide76_2018_02_14-S2_prep2_none_win7_inception-bn-blue_locations.bp\" \"s3://mousebrainatlas-data/CSHL_patch_features/inception-bn-blue/CHATM2/CHATM2_prep2_none_win7/CHATM2_slide76_2018_02_14-S2_prep2_none_win7_inception-bn-blue_locations.bp\"\n",
      "0\n",
      "rm -rf \"/data/CSHL_patch_features/inception-bn-blue/CHATM2/CHATM2_prep2_none_win7/CHATM2_slide76_2018_02_14-S3_prep2_none_win7_inception-bn-blue_features.bp\" && mkdir -p \"/data/CSHL_patch_features/inception-bn-blue/CHATM2/CHATM2_prep2_none_win7\"\n",
      "0\n",
      "aws s3 cp \"s3://mousebrainatlas-data/CSHL_patch_features/inception-bn-blue/CHATM2/CHATM2_prep2_none_win7/CHATM2_slide76_2018_02_14-S3_prep2_none_win7_inception-bn-blue_features.bp\" \"/data/CSHL_patch_features/inception-bn-blue/CHATM2/CHATM2_prep2_none_win7/CHATM2_slide76_2018_02_14-S3_prep2_none_win7_inception-bn-blue_features.bp\"\n"
     ]
    },
    {
     "name": "stderr",
     "output_type": "stream",
     "text": [
      "Save features: 3.28 seconds\n",
      "locate patches: 0.05 seconds\n"
     ]
    },
    {
     "name": "stdout",
     "output_type": "stream",
     "text": [
      "1\n"
     ]
    },
    {
     "name": "stderr",
     "output_type": "stream",
     "text": [
      "Features for CHATM2, 231/CHATM2_slide76_2018_02_14-S3 does not exist.\n",
      "No pre-computed features found... computing from scratch.\n",
      "Not using image_cache.\n"
     ]
    },
    {
     "name": "stdout",
     "output_type": "stream",
     "text": [
      "/data/CSHL_data_processed/CHATM2/CHATM2_prep2_raw_NtbNormalizedAdaptiveInvertedGamma/CHATM2_slide76_2018_02_14-S3_prep2_raw_NtbNormalizedAdaptiveInvertedGamma.tif\n"
     ]
    },
    {
     "name": "stderr",
     "output_type": "stream",
     "text": [
      "Load image: 3.98 seconds.\n",
      "Rescale image from 317 to 224: 3.05 seconds.\n",
      "Crop patches: 0.80 seconds.\n",
      "Extract patches: 7.84 seconds\n"
     ]
    },
    {
     "name": "stdout",
     "output_type": "stream",
     "text": [
      "(35958, 1, 224, 224)\n"
     ]
    },
    {
     "name": "stderr",
     "output_type": "stream",
     "text": [
      "Compute features: 57.45 seconds\n",
      "Compute features at one section, multiple locations: 65.32 seconds\n"
     ]
    },
    {
     "name": "stdout",
     "output_type": "stream",
     "text": [
      "aws s3 cp \"/data/CSHL_patch_features/inception-bn-blue/CHATM2/CHATM2_prep2_none_win7/CHATM2_slide76_2018_02_14-S3_prep2_none_win7_inception-bn-blue_features.bp\" \"s3://mousebrainatlas-data/CSHL_patch_features/inception-bn-blue/CHATM2/CHATM2_prep2_none_win7/CHATM2_slide76_2018_02_14-S3_prep2_none_win7_inception-bn-blue_features.bp\"\n",
      "0\n",
      "aws s3 cp \"/data/CSHL_patch_features/inception-bn-blue/CHATM2/CHATM2_prep2_none_win7/CHATM2_slide76_2018_02_14-S3_prep2_none_win7_inception-bn-blue_locations.bp\" \"s3://mousebrainatlas-data/CSHL_patch_features/inception-bn-blue/CHATM2/CHATM2_prep2_none_win7/CHATM2_slide76_2018_02_14-S3_prep2_none_win7_inception-bn-blue_locations.bp\"\n",
      "0\n",
      "rm -rf \"/data/CSHL_patch_features/inception-bn-blue/CHATM2/CHATM2_prep2_none_win7/CHATM2_slide78_2018_02_14-S1_prep2_none_win7_inception-bn-blue_features.bp\" && mkdir -p \"/data/CSHL_patch_features/inception-bn-blue/CHATM2/CHATM2_prep2_none_win7\"\n",
      "0"
     ]
    },
    {
     "name": "stderr",
     "output_type": "stream",
     "text": [
      "Save features: 4.89 seconds\n",
      "locate patches: 0.08 seconds\n"
     ]
    },
    {
     "name": "stdout",
     "output_type": "stream",
     "text": [
      "\n",
      "aws s3 cp \"s3://mousebrainatlas-data/CSHL_patch_features/inception-bn-blue/CHATM2/CHATM2_prep2_none_win7/CHATM2_slide78_2018_02_14-S1_prep2_none_win7_inception-bn-blue_features.bp\" \"/data/CSHL_patch_features/inception-bn-blue/CHATM2/CHATM2_prep2_none_win7/CHATM2_slide78_2018_02_14-S1_prep2_none_win7_inception-bn-blue_features.bp\"\n",
      "1\n"
     ]
    },
    {
     "name": "stderr",
     "output_type": "stream",
     "text": [
      "Features for CHATM2, 233/CHATM2_slide78_2018_02_14-S1 does not exist.\n",
      "No pre-computed features found... computing from scratch.\n",
      "Not using image_cache.\n"
     ]
    },
    {
     "name": "stdout",
     "output_type": "stream",
     "text": [
      "/data/CSHL_data_processed/CHATM2/CHATM2_prep2_raw_NtbNormalizedAdaptiveInvertedGamma/CHATM2_slide78_2018_02_14-S1_prep2_raw_NtbNormalizedAdaptiveInvertedGamma.tif\n"
     ]
    },
    {
     "name": "stderr",
     "output_type": "stream",
     "text": [
      "Load image: 5.79 seconds.\n",
      "Rescale image from 317 to 224: 5.61 seconds.\n",
      "Crop patches: 1.09 seconds.\n",
      "Extract patches: 12.53 seconds\n"
     ]
    },
    {
     "name": "stdout",
     "output_type": "stream",
     "text": [
      "(33206, 1, 224, 224)\n"
     ]
    },
    {
     "name": "stderr",
     "output_type": "stream",
     "text": [
      "Compute features: 57.51 seconds\n",
      "Compute features at one section, multiple locations: 70.08 seconds\n"
     ]
    },
    {
     "name": "stdout",
     "output_type": "stream",
     "text": [
      "aws s3 cp \"/data/CSHL_patch_features/inception-bn-blue/CHATM2/CHATM2_prep2_none_win7/CHATM2_slide78_2018_02_14-S1_prep2_none_win7_inception-bn-blue_features.bp\" \"s3://mousebrainatlas-data/CSHL_patch_features/inception-bn-blue/CHATM2/CHATM2_prep2_none_win7/CHATM2_slide78_2018_02_14-S1_prep2_none_win7_inception-bn-blue_features.bp\"\n",
      "0\n",
      "aws s3 cp \"/data/CSHL_patch_features/inception-bn-blue/CHATM2/CHATM2_prep2_none_win7/CHATM2_slide78_2018_02_14-S1_prep2_none_win7_inception-bn-blue_locations.bp\" \"s3://mousebrainatlas-data/CSHL_patch_features/inception-bn-blue/CHATM2/CHATM2_prep2_none_win7/CHATM2_slide78_2018_02_14-S1_prep2_none_win7_inception-bn-blue_locations.bp\"\n",
      "0\n",
      "rm -rf \"/data/CSHL_patch_features/inception-bn-blue/CHATM2/CHATM2_prep2_none_win7/CHATM2_slide78_2018_02_14-S2_prep2_none_win7_inception-bn-blue_features.bp\" && mkdir -p \"/data/CSHL_patch_features/inception-bn-blue/CHATM2/CHATM2_prep2_none_win7\"\n"
     ]
    },
    {
     "name": "stderr",
     "output_type": "stream",
     "text": [
      "Save features: 4.85 seconds\n",
      "locate patches: 0.10 seconds\n"
     ]
    },
    {
     "name": "stdout",
     "output_type": "stream",
     "text": [
      "0\n",
      "aws s3 cp \"s3://mousebrainatlas-data/CSHL_patch_features/inception-bn-blue/CHATM2/CHATM2_prep2_none_win7/CHATM2_slide78_2018_02_14-S2_prep2_none_win7_inception-bn-blue_features.bp\" \"/data/CSHL_patch_features/inception-bn-blue/CHATM2/CHATM2_prep2_none_win7/CHATM2_slide78_2018_02_14-S2_prep2_none_win7_inception-bn-blue_features.bp\"\n",
      "1\n"
     ]
    },
    {
     "name": "stderr",
     "output_type": "stream",
     "text": [
      "Features for CHATM2, 235/CHATM2_slide78_2018_02_14-S2 does not exist.\n",
      "No pre-computed features found... computing from scratch.\n",
      "Not using image_cache.\n"
     ]
    },
    {
     "name": "stdout",
     "output_type": "stream",
     "text": [
      "/data/CSHL_data_processed/CHATM2/CHATM2_prep2_raw_NtbNormalizedAdaptiveInvertedGamma/CHATM2_slide78_2018_02_14-S2_prep2_raw_NtbNormalizedAdaptiveInvertedGamma.tif\n"
     ]
    },
    {
     "name": "stderr",
     "output_type": "stream",
     "text": [
      "Load image: 5.72 seconds.\n",
      "Rescale image from 317 to 224: 6.05 seconds.\n",
      "Crop patches: 1.27 seconds.\n",
      "Extract patches: 13.07 seconds\n"
     ]
    },
    {
     "name": "stdout",
     "output_type": "stream",
     "text": [
      "(37090, 1, 224, 224)\n"
     ]
    },
    {
     "name": "stderr",
     "output_type": "stream",
     "text": [
      "Compute features: 64.76 seconds\n",
      "Compute features at one section, multiple locations: 77.86 seconds\n"
     ]
    },
    {
     "name": "stdout",
     "output_type": "stream",
     "text": [
      "aws s3 cp \"/data/CSHL_patch_features/inception-bn-blue/CHATM2/CHATM2_prep2_none_win7/CHATM2_slide78_2018_02_14-S2_prep2_none_win7_inception-bn-blue_features.bp\" \"s3://mousebrainatlas-data/CSHL_patch_features/inception-bn-blue/CHATM2/CHATM2_prep2_none_win7/CHATM2_slide78_2018_02_14-S2_prep2_none_win7_inception-bn-blue_features.bp\"\n",
      "0\n",
      "aws s3 cp \"/data/CSHL_patch_features/inception-bn-blue/CHATM2/CHATM2_prep2_none_win7/CHATM2_slide78_2018_02_14-S2_prep2_none_win7_inception-bn-blue_locations.bp\" \"s3://mousebrainatlas-data/CSHL_patch_features/inception-bn-blue/CHATM2/CHATM2_prep2_none_win7/CHATM2_slide78_2018_02_14-S2_prep2_none_win7_inception-bn-blue_locations.bp\"\n",
      "0\n",
      "rm -rf \"/data/CSHL_patch_features/inception-bn-blue/CHATM2/CHATM2_prep2_none_win7/CHATM2_slide78_2018_02_14-S3_prep2_none_win7_inception-bn-blue_features.bp\" && mkdir -p \"/data/CSHL_patch_features/inception-bn-blue/CHATM2/CHATM2_prep2_none_win7\"\n",
      "0\n",
      "aws s3 cp \"s3://mousebrainatlas-data/CSHL_patch_features/inception-bn-blue/CHATM2/CHATM2_prep2_none_win7/CHATM2_slide78_2018_02_14-S3_prep2_none_win7_inception-bn-blue_features.bp\" \"/data/CSHL_patch_features/inception-bn-blue/CHATM2/CHATM2_prep2_none_win7/CHATM2_slide78_2018_02_14-S3_prep2_none_win7_inception-bn-blue_features.bp\"\n"
     ]
    },
    {
     "name": "stderr",
     "output_type": "stream",
     "text": [
      "Save features: 3.54 seconds\n",
      "locate patches: 0.06 seconds\n"
     ]
    },
    {
     "name": "stdout",
     "output_type": "stream",
     "text": [
      "1\n"
     ]
    },
    {
     "name": "stderr",
     "output_type": "stream",
     "text": [
      "Features for CHATM2, 237/CHATM2_slide78_2018_02_14-S3 does not exist.\n",
      "No pre-computed features found... computing from scratch.\n",
      "Not using image_cache.\n"
     ]
    },
    {
     "name": "stdout",
     "output_type": "stream",
     "text": [
      "/data/CSHL_data_processed/CHATM2/CHATM2_prep2_raw_NtbNormalizedAdaptiveInvertedGamma/CHATM2_slide78_2018_02_14-S3_prep2_raw_NtbNormalizedAdaptiveInvertedGamma.tif\n"
     ]
    },
    {
     "name": "stderr",
     "output_type": "stream",
     "text": [
      "Load image: 3.81 seconds.\n",
      "Rescale image from 317 to 224: 3.29 seconds.\n",
      "Crop patches: 0.83 seconds.\n",
      "Extract patches: 7.95 seconds\n"
     ]
    },
    {
     "name": "stdout",
     "output_type": "stream",
     "text": [
      "(35094, 1, 224, 224)\n"
     ]
    },
    {
     "name": "stderr",
     "output_type": "stream",
     "text": [
      "Compute features: 58.47 seconds\n",
      "Compute features at one section, multiple locations: 66.45 seconds\n"
     ]
    },
    {
     "name": "stdout",
     "output_type": "stream",
     "text": [
      "aws s3 cp \"/data/CSHL_patch_features/inception-bn-blue/CHATM2/CHATM2_prep2_none_win7/CHATM2_slide78_2018_02_14-S3_prep2_none_win7_inception-bn-blue_features.bp\" \"s3://mousebrainatlas-data/CSHL_patch_features/inception-bn-blue/CHATM2/CHATM2_prep2_none_win7/CHATM2_slide78_2018_02_14-S3_prep2_none_win7_inception-bn-blue_features.bp\"\n",
      "0\n",
      "aws s3 cp \"/data/CSHL_patch_features/inception-bn-blue/CHATM2/CHATM2_prep2_none_win7/CHATM2_slide78_2018_02_14-S3_prep2_none_win7_inception-bn-blue_locations.bp\" \"s3://mousebrainatlas-data/CSHL_patch_features/inception-bn-blue/CHATM2/CHATM2_prep2_none_win7/CHATM2_slide78_2018_02_14-S3_prep2_none_win7_inception-bn-blue_locations.bp\"\n",
      "0\n",
      "rm -rf \"/data/CSHL_patch_features/inception-bn-blue/CHATM2/CHATM2_prep2_none_win7/CHATM2_slide80_2018_02_14-S1_prep2_none_win7_inception-bn-blue_features.bp\" && mkdir -p \"/data/CSHL_patch_features/inception-bn-blue/CHATM2/CHATM2_prep2_none_win7\"\n",
      "0"
     ]
    },
    {
     "name": "stderr",
     "output_type": "stream",
     "text": [
      "Save features: 4.57 seconds\n",
      "locate patches: 0.08 seconds\n"
     ]
    },
    {
     "name": "stdout",
     "output_type": "stream",
     "text": [
      "\n",
      "aws s3 cp \"s3://mousebrainatlas-data/CSHL_patch_features/inception-bn-blue/CHATM2/CHATM2_prep2_none_win7/CHATM2_slide80_2018_02_14-S1_prep2_none_win7_inception-bn-blue_features.bp\" \"/data/CSHL_patch_features/inception-bn-blue/CHATM2/CHATM2_prep2_none_win7/CHATM2_slide80_2018_02_14-S1_prep2_none_win7_inception-bn-blue_features.bp\"\n",
      "1\n"
     ]
    },
    {
     "name": "stderr",
     "output_type": "stream",
     "text": [
      "Features for CHATM2, 239/CHATM2_slide80_2018_02_14-S1 does not exist.\n",
      "No pre-computed features found... computing from scratch.\n",
      "Not using image_cache.\n"
     ]
    },
    {
     "name": "stdout",
     "output_type": "stream",
     "text": [
      "/data/CSHL_data_processed/CHATM2/CHATM2_prep2_raw_NtbNormalizedAdaptiveInvertedGamma/CHATM2_slide80_2018_02_14-S1_prep2_raw_NtbNormalizedAdaptiveInvertedGamma.tif\n"
     ]
    },
    {
     "name": "stderr",
     "output_type": "stream",
     "text": [
      "Load image: 4.37 seconds.\n",
      "Rescale image from 317 to 224: 5.24 seconds.\n",
      "Crop patches: 1.15 seconds.\n",
      "Extract patches: 10.79 seconds\n"
     ]
    },
    {
     "name": "stdout",
     "output_type": "stream",
     "text": [
      "(35095, 1, 224, 224)\n"
     ]
    },
    {
     "name": "stderr",
     "output_type": "stream",
     "text": [
      "Compute features: 56.95 seconds\n",
      "Compute features at one section, multiple locations: 67.76 seconds\n"
     ]
    },
    {
     "name": "stdout",
     "output_type": "stream",
     "text": [
      "aws s3 cp \"/data/CSHL_patch_features/inception-bn-blue/CHATM2/CHATM2_prep2_none_win7/CHATM2_slide80_2018_02_14-S1_prep2_none_win7_inception-bn-blue_features.bp\" \"s3://mousebrainatlas-data/CSHL_patch_features/inception-bn-blue/CHATM2/CHATM2_prep2_none_win7/CHATM2_slide80_2018_02_14-S1_prep2_none_win7_inception-bn-blue_features.bp\"\n",
      "0\n",
      "aws s3 cp \"/data/CSHL_patch_features/inception-bn-blue/CHATM2/CHATM2_prep2_none_win7/CHATM2_slide80_2018_02_14-S1_prep2_none_win7_inception-bn-blue_locations.bp\" \"s3://mousebrainatlas-data/CSHL_patch_features/inception-bn-blue/CHATM2/CHATM2_prep2_none_win7/CHATM2_slide80_2018_02_14-S1_prep2_none_win7_inception-bn-blue_locations.bp\"\n",
      "0\n",
      "rm -rf \"/data/CSHL_patch_features/inception-bn-blue/CHATM2/CHATM2_prep2_none_win7/CHATM2_slide80_2018_02_14-S2_prep2_none_win7_inception-bn-blue_features.bp\" && mkdir -p \"/data/CSHL_patch_features/inception-bn-blue/CHATM2/CHATM2_prep2_none_win7\"\n",
      "0\n",
      "aws s3 cp \"s3://mousebrainatlas-data/CSHL_patch_features/inception-bn-blue/CHATM2/CHATM2_prep2_none_win7/CHATM2_slide80_2018_02_14-S2_prep2_none_win7_inception-bn-blue_features.bp\" \"/data/CSHL_patch_features/inception-bn-blue/CHATM2/CHATM2_prep2_none_win7/CHATM2_slide80_2018_02_14-S2_prep2_none_win7_inception-bn-blue_features.bp\"\n"
     ]
    },
    {
     "name": "stderr",
     "output_type": "stream",
     "text": [
      "Save features: 3.88 seconds\n",
      "locate patches: 0.03 seconds\n"
     ]
    },
    {
     "name": "stdout",
     "output_type": "stream",
     "text": [
      "1\n"
     ]
    },
    {
     "name": "stderr",
     "output_type": "stream",
     "text": [
      "Features for CHATM2, 241/CHATM2_slide80_2018_02_14-S2 does not exist.\n",
      "No pre-computed features found... computing from scratch.\n",
      "Not using image_cache.\n"
     ]
    },
    {
     "name": "stdout",
     "output_type": "stream",
     "text": [
      "/data/CSHL_data_processed/CHATM2/CHATM2_prep2_raw_NtbNormalizedAdaptiveInvertedGamma/CHATM2_slide80_2018_02_14-S2_prep2_raw_NtbNormalizedAdaptiveInvertedGamma.tif\n"
     ]
    },
    {
     "name": "stderr",
     "output_type": "stream",
     "text": [
      "Load image: 3.51 seconds.\n",
      "Rescale image from 317 to 224: 3.04 seconds.\n",
      "Crop patches: 0.78 seconds.\n",
      "Extract patches: 7.34 seconds\n"
     ]
    },
    {
     "name": "stdout",
     "output_type": "stream",
     "text": [
      "(35079, 1, 224, 224)\n"
     ]
    },
    {
     "name": "stderr",
     "output_type": "stream",
     "text": [
      "Compute features: 55.94 seconds\n",
      "Compute features at one section, multiple locations: 63.30 seconds\n"
     ]
    },
    {
     "name": "stdout",
     "output_type": "stream",
     "text": [
      "aws s3 cp \"/data/CSHL_patch_features/inception-bn-blue/CHATM2/CHATM2_prep2_none_win7/CHATM2_slide80_2018_02_14-S2_prep2_none_win7_inception-bn-blue_features.bp\" \"s3://mousebrainatlas-data/CSHL_patch_features/inception-bn-blue/CHATM2/CHATM2_prep2_none_win7/CHATM2_slide80_2018_02_14-S2_prep2_none_win7_inception-bn-blue_features.bp\"\n",
      "0\n",
      "aws s3 cp \"/data/CSHL_patch_features/inception-bn-blue/CHATM2/CHATM2_prep2_none_win7/CHATM2_slide80_2018_02_14-S2_prep2_none_win7_inception-bn-blue_locations.bp\" \"s3://mousebrainatlas-data/CSHL_patch_features/inception-bn-blue/CHATM2/CHATM2_prep2_none_win7/CHATM2_slide80_2018_02_14-S2_prep2_none_win7_inception-bn-blue_locations.bp\"\n",
      "0\n",
      "rm -rf \"/data/CSHL_patch_features/inception-bn-blue/CHATM2/CHATM2_prep2_none_win7/CHATM2_slide80_2018_02_14-S3_prep2_none_win7_inception-bn-blue_features.bp\" && mkdir -p \"/data/CSHL_patch_features/inception-bn-blue/CHATM2/CHATM2_prep2_none_win7\"\n",
      "0\n",
      "aws s3 cp \"s3://mousebrainatlas-data/CSHL_patch_features/inception-bn-blue/CHATM2/CHATM2_prep2_none_win7/CHATM2_slide80_2018_02_14-S3_prep2_none_win7_inception-bn-blue_features.bp\" \"/data/CSHL_patch_features/inception-bn-blue/CHATM2/CHATM2_prep2_none_win7/CHATM2_slide80_2018_02_14-S3_prep2_none_win7_inception-bn-blue_features.bp\"\n"
     ]
    },
    {
     "name": "stderr",
     "output_type": "stream",
     "text": [
      "Save features: 4.44 seconds\n",
      "locate patches: 0.10 seconds\n"
     ]
    },
    {
     "name": "stdout",
     "output_type": "stream",
     "text": [
      "1\n"
     ]
    },
    {
     "name": "stderr",
     "output_type": "stream",
     "text": [
      "Features for CHATM2, 243/CHATM2_slide80_2018_02_14-S3 does not exist.\n",
      "No pre-computed features found... computing from scratch.\n",
      "Not using image_cache.\n"
     ]
    },
    {
     "name": "stdout",
     "output_type": "stream",
     "text": [
      "/data/CSHL_data_processed/CHATM2/CHATM2_prep2_raw_NtbNormalizedAdaptiveInvertedGamma/CHATM2_slide80_2018_02_14-S3_prep2_raw_NtbNormalizedAdaptiveInvertedGamma.tif\n"
     ]
    },
    {
     "name": "stderr",
     "output_type": "stream",
     "text": [
      "Load image: 4.96 seconds.\n",
      "Rescale image from 317 to 224: 4.93 seconds.\n",
      "Crop patches: 1.16 seconds.\n",
      "Extract patches: 11.08 seconds\n"
     ]
    },
    {
     "name": "stdout",
     "output_type": "stream",
     "text": [
      "(34634, 1, 224, 224)\n"
     ]
    },
    {
     "name": "stderr",
     "output_type": "stream",
     "text": [
      "Compute features: 56.33 seconds\n",
      "Compute features at one section, multiple locations: 67.42 seconds\n"
     ]
    },
    {
     "name": "stdout",
     "output_type": "stream",
     "text": [
      "aws s3 cp \"/data/CSHL_patch_features/inception-bn-blue/CHATM2/CHATM2_prep2_none_win7/CHATM2_slide80_2018_02_14-S3_prep2_none_win7_inception-bn-blue_features.bp\" \"s3://mousebrainatlas-data/CSHL_patch_features/inception-bn-blue/CHATM2/CHATM2_prep2_none_win7/CHATM2_slide80_2018_02_14-S3_prep2_none_win7_inception-bn-blue_features.bp\"\n",
      "0\n",
      "aws s3 cp \"/data/CSHL_patch_features/inception-bn-blue/CHATM2/CHATM2_prep2_none_win7/CHATM2_slide80_2018_02_14-S3_prep2_none_win7_inception-bn-blue_locations.bp\" \"s3://mousebrainatlas-data/CSHL_patch_features/inception-bn-blue/CHATM2/CHATM2_prep2_none_win7/CHATM2_slide80_2018_02_14-S3_prep2_none_win7_inception-bn-blue_locations.bp\"\n",
      "0\n",
      "rm -rf \"/data/CSHL_patch_features/inception-bn-blue/CHATM2/CHATM2_prep2_none_win7/CHATM2_slide82_2018_02_14-S1_prep2_none_win7_inception-bn-blue_features.bp\" && mkdir -p \"/data/CSHL_patch_features/inception-bn-blue/CHATM2/CHATM2_prep2_none_win7\"\n",
      "0\n",
      "aws s3 cp \"s3://mousebrainatlas-data/CSHL_patch_features/inception-bn-blue/CHATM2/CHATM2_prep2_none_win7/CHATM2_slide82_2018_02_14-S1_prep2_none_win7_inception-bn-blue_features.bp\" \"/data/CSHL_patch_features/inception-bn-blue/CHATM2/CHATM2_prep2_none_win7/CHATM2_slide82_2018_02_14-S1_prep2_none_win7_inception-bn-blue_features.bp\"\n"
     ]
    },
    {
     "name": "stderr",
     "output_type": "stream",
     "text": [
      "Save features: 3.44 seconds\n",
      "locate patches: 0.05 seconds\n"
     ]
    },
    {
     "name": "stdout",
     "output_type": "stream",
     "text": [
      "1\n"
     ]
    },
    {
     "name": "stderr",
     "output_type": "stream",
     "text": [
      "Features for CHATM2, 245/CHATM2_slide82_2018_02_14-S1 does not exist.\n",
      "No pre-computed features found... computing from scratch.\n",
      "Not using image_cache.\n"
     ]
    },
    {
     "name": "stdout",
     "output_type": "stream",
     "text": [
      "/data/CSHL_data_processed/CHATM2/CHATM2_prep2_raw_NtbNormalizedAdaptiveInvertedGamma/CHATM2_slide82_2018_02_14-S1_prep2_raw_NtbNormalizedAdaptiveInvertedGamma.tif\n"
     ]
    },
    {
     "name": "stderr",
     "output_type": "stream",
     "text": [
      "Load image: 5.98 seconds.\n",
      "Rescale image from 317 to 224: 5.33 seconds.\n",
      "Crop patches: 1.18 seconds.\n",
      "Extract patches: 12.52 seconds\n"
     ]
    },
    {
     "name": "stdout",
     "output_type": "stream",
     "text": [
      "(34608, 1, 224, 224)\n"
     ]
    },
    {
     "name": "stderr",
     "output_type": "stream",
     "text": [
      "Compute features: 60.43 seconds\n",
      "Compute features at one section, multiple locations: 72.97 seconds\n"
     ]
    },
    {
     "name": "stdout",
     "output_type": "stream",
     "text": [
      "aws s3 cp \"/data/CSHL_patch_features/inception-bn-blue/CHATM2/CHATM2_prep2_none_win7/CHATM2_slide82_2018_02_14-S1_prep2_none_win7_inception-bn-blue_features.bp\" \"s3://mousebrainatlas-data/CSHL_patch_features/inception-bn-blue/CHATM2/CHATM2_prep2_none_win7/CHATM2_slide82_2018_02_14-S1_prep2_none_win7_inception-bn-blue_features.bp\"\n",
      "0\n",
      "aws s3 cp \"/data/CSHL_patch_features/inception-bn-blue/CHATM2/CHATM2_prep2_none_win7/CHATM2_slide82_2018_02_14-S1_prep2_none_win7_inception-bn-blue_locations.bp\" \"s3://mousebrainatlas-data/CSHL_patch_features/inception-bn-blue/CHATM2/CHATM2_prep2_none_win7/CHATM2_slide82_2018_02_14-S1_prep2_none_win7_inception-bn-blue_locations.bp\"\n",
      "0\n"
     ]
    },
    {
     "name": "stderr",
     "output_type": "stream",
     "text": [
      "Save features: 5.01 seconds\n",
      "locate patches: 0.21 seconds\n"
     ]
    },
    {
     "name": "stdout",
     "output_type": "stream",
     "text": [
      "rm -rf \"/data/CSHL_patch_features/inception-bn-blue/CHATM2/CHATM2_prep2_none_win7/CHATM2_slide82_2018_02_14-S2_prep2_none_win7_inception-bn-blue_features.bp\" && mkdir -p \"/data/CSHL_patch_features/inception-bn-blue/CHATM2/CHATM2_prep2_none_win7\"\n",
      "0\n",
      "aws s3 cp \"s3://mousebrainatlas-data/CSHL_patch_features/inception-bn-blue/CHATM2/CHATM2_prep2_none_win7/CHATM2_slide82_2018_02_14-S2_prep2_none_win7_inception-bn-blue_features.bp\" \"/data/CSHL_patch_features/inception-bn-blue/CHATM2/CHATM2_prep2_none_win7/CHATM2_slide82_2018_02_14-S2_prep2_none_win7_inception-bn-blue_features.bp\"\n",
      "1\n"
     ]
    },
    {
     "name": "stderr",
     "output_type": "stream",
     "text": [
      "Features for CHATM2, 247/CHATM2_slide82_2018_02_14-S2 does not exist.\n",
      "No pre-computed features found... computing from scratch.\n",
      "Not using image_cache.\n"
     ]
    },
    {
     "name": "stdout",
     "output_type": "stream",
     "text": [
      "/data/CSHL_data_processed/CHATM2/CHATM2_prep2_raw_NtbNormalizedAdaptiveInvertedGamma/CHATM2_slide82_2018_02_14-S2_prep2_raw_NtbNormalizedAdaptiveInvertedGamma.tif\n"
     ]
    },
    {
     "name": "stderr",
     "output_type": "stream",
     "text": [
      "Load image: 3.44 seconds.\n",
      "Rescale image from 317 to 224: 3.27 seconds.\n",
      "Crop patches: 0.75 seconds.\n",
      "Extract patches: 7.47 seconds\n"
     ]
    },
    {
     "name": "stdout",
     "output_type": "stream",
     "text": [
      "(34221, 1, 224, 224)\n"
     ]
    },
    {
     "name": "stderr",
     "output_type": "stream",
     "text": [
      "Compute features: 52.86 seconds\n",
      "Compute features at one section, multiple locations: 60.36 seconds\n"
     ]
    },
    {
     "name": "stdout",
     "output_type": "stream",
     "text": [
      "aws s3 cp \"/data/CSHL_patch_features/inception-bn-blue/CHATM2/CHATM2_prep2_none_win7/CHATM2_slide82_2018_02_14-S2_prep2_none_win7_inception-bn-blue_features.bp\" \"s3://mousebrainatlas-data/CSHL_patch_features/inception-bn-blue/CHATM2/CHATM2_prep2_none_win7/CHATM2_slide82_2018_02_14-S2_prep2_none_win7_inception-bn-blue_features.bp\"\n",
      "0\n",
      "aws s3 cp \"/data/CSHL_patch_features/inception-bn-blue/CHATM2/CHATM2_prep2_none_win7/CHATM2_slide82_2018_02_14-S2_prep2_none_win7_inception-bn-blue_locations.bp\" \"s3://mousebrainatlas-data/CSHL_patch_features/inception-bn-blue/CHATM2/CHATM2_prep2_none_win7/CHATM2_slide82_2018_02_14-S2_prep2_none_win7_inception-bn-blue_locations.bp\"\n",
      "0\n",
      "rm -rf \"/data/CSHL_patch_features/inception-bn-blue/CHATM2/CHATM2_prep2_none_win7/CHATM2_slide82_2018_02_14-S3_prep2_none_win7_inception-bn-blue_features.bp\" && mkdir -p \"/data/CSHL_patch_features/inception-bn-blue/CHATM2/CHATM2_prep2_none_win7\"\n",
      "0\n",
      "aws s3 cp \"s3://mousebrainatlas-data/CSHL_patch_features/inception-bn-blue/CHATM2/CHATM2_prep2_none_win7/CHATM2_slide82_2018_02_14-S3_prep2_none_win7_inception-bn-blue_features.bp\" \"/data/CSHL_patch_features/inception-bn-blue/CHATM2/CHATM2_prep2_none_win7/CHATM2_slide82_2018_02_14-S3_prep2_none_win7_inception-bn-blue_features.bp\"\n"
     ]
    },
    {
     "name": "stderr",
     "output_type": "stream",
     "text": [
      "Save features: 4.25 seconds\n",
      "locate patches: 0.09 seconds\n"
     ]
    },
    {
     "name": "stdout",
     "output_type": "stream",
     "text": [
      "1\n"
     ]
    },
    {
     "name": "stderr",
     "output_type": "stream",
     "text": [
      "Features for CHATM2, 249/CHATM2_slide82_2018_02_14-S3 does not exist.\n",
      "No pre-computed features found... computing from scratch.\n",
      "Not using image_cache.\n"
     ]
    },
    {
     "name": "stdout",
     "output_type": "stream",
     "text": [
      "/data/CSHL_data_processed/CHATM2/CHATM2_prep2_raw_NtbNormalizedAdaptiveInvertedGamma/CHATM2_slide82_2018_02_14-S3_prep2_raw_NtbNormalizedAdaptiveInvertedGamma.tif\n"
     ]
    },
    {
     "name": "stderr",
     "output_type": "stream",
     "text": [
      "Load image: 3.86 seconds.\n",
      "Rescale image from 317 to 224: 5.04 seconds.\n",
      "Crop patches: 1.12 seconds.\n",
      "Extract patches: 10.05 seconds\n"
     ]
    },
    {
     "name": "stdout",
     "output_type": "stream",
     "text": [
      "(34206, 1, 224, 224)\n"
     ]
    },
    {
     "name": "stderr",
     "output_type": "stream",
     "text": [
      "Compute features: 54.91 seconds\n",
      "Compute features at one section, multiple locations: 64.98 seconds\n"
     ]
    },
    {
     "name": "stdout",
     "output_type": "stream",
     "text": [
      "aws s3 cp \"/data/CSHL_patch_features/inception-bn-blue/CHATM2/CHATM2_prep2_none_win7/CHATM2_slide82_2018_02_14-S3_prep2_none_win7_inception-bn-blue_features.bp\" \"s3://mousebrainatlas-data/CSHL_patch_features/inception-bn-blue/CHATM2/CHATM2_prep2_none_win7/CHATM2_slide82_2018_02_14-S3_prep2_none_win7_inception-bn-blue_features.bp\"\n",
      "0\n",
      "aws s3 cp \"/data/CSHL_patch_features/inception-bn-blue/CHATM2/CHATM2_prep2_none_win7/CHATM2_slide82_2018_02_14-S3_prep2_none_win7_inception-bn-blue_locations.bp\" \"s3://mousebrainatlas-data/CSHL_patch_features/inception-bn-blue/CHATM2/CHATM2_prep2_none_win7/CHATM2_slide82_2018_02_14-S3_prep2_none_win7_inception-bn-blue_locations.bp\"\n",
      "0\n",
      "rm -rf \"/data/CSHL_patch_features/inception-bn-blue/CHATM2/CHATM2_prep2_none_win7/CHATM2_slide84_2018_02_14-S1_prep2_none_win7_inception-bn-blue_features.bp\" && mkdir -p \"/data/CSHL_patch_features/inception-bn-blue/CHATM2/CHATM2_prep2_none_win7\"\n",
      "0\n",
      "aws s3 cp \"s3://mousebrainatlas-data/CSHL_patch_features/inception-bn-blue/CHATM2/CHATM2_prep2_none_win7/CHATM2_slide84_2018_02_14-S1_prep2_none_win7_inception-bn-blue_features.bp\" \"/data/CSHL_patch_features/inception-bn-blue/CHATM2/CHATM2_prep2_none_win7/CHATM2_slide84_2018_02_14-S1_prep2_none_win7_inception-bn-blue_features.bp\"\n"
     ]
    },
    {
     "name": "stderr",
     "output_type": "stream",
     "text": [
      "Save features: 3.41 seconds\n",
      "locate patches: 0.05 seconds\n"
     ]
    },
    {
     "name": "stdout",
     "output_type": "stream",
     "text": [
      "1\n"
     ]
    },
    {
     "name": "stderr",
     "output_type": "stream",
     "text": [
      "Features for CHATM2, 251/CHATM2_slide84_2018_02_14-S1 does not exist.\n",
      "No pre-computed features found... computing from scratch.\n",
      "Not using image_cache.\n"
     ]
    },
    {
     "name": "stdout",
     "output_type": "stream",
     "text": [
      "/data/CSHL_data_processed/CHATM2/CHATM2_prep2_raw_NtbNormalizedAdaptiveInvertedGamma/CHATM2_slide84_2018_02_14-S1_prep2_raw_NtbNormalizedAdaptiveInvertedGamma.tif\n"
     ]
    },
    {
     "name": "stderr",
     "output_type": "stream",
     "text": [
      "Load image: 2.79 seconds.\n",
      "Rescale image from 317 to 224: 3.65 seconds.\n",
      "Crop patches: 0.71 seconds.\n",
      "Extract patches: 7.16 seconds\n"
     ]
    },
    {
     "name": "stdout",
     "output_type": "stream",
     "text": [
      "(33715, 1, 224, 224)\n"
     ]
    },
    {
     "name": "stderr",
     "output_type": "stream",
     "text": [
      "Compute features: 57.56 seconds\n",
      "Compute features at one section, multiple locations: 64.75 seconds\n"
     ]
    },
    {
     "name": "stdout",
     "output_type": "stream",
     "text": [
      "aws s3 cp \"/data/CSHL_patch_features/inception-bn-blue/CHATM2/CHATM2_prep2_none_win7/CHATM2_slide84_2018_02_14-S1_prep2_none_win7_inception-bn-blue_features.bp\" \"s3://mousebrainatlas-data/CSHL_patch_features/inception-bn-blue/CHATM2/CHATM2_prep2_none_win7/CHATM2_slide84_2018_02_14-S1_prep2_none_win7_inception-bn-blue_features.bp\"\n",
      "0\n",
      "aws s3 cp \"/data/CSHL_patch_features/inception-bn-blue/CHATM2/CHATM2_prep2_none_win7/CHATM2_slide84_2018_02_14-S1_prep2_none_win7_inception-bn-blue_locations.bp\" \"s3://mousebrainatlas-data/CSHL_patch_features/inception-bn-blue/CHATM2/CHATM2_prep2_none_win7/CHATM2_slide84_2018_02_14-S1_prep2_none_win7_inception-bn-blue_locations.bp\"\n",
      "0\n",
      "rm -rf \"/data/CSHL_patch_features/inception-bn-blue/CHATM2/CHATM2_prep2_none_win7/CHATM2_slide84_2018_02_14-S2_prep2_none_win7_inception-bn-blue_features.bp\" && mkdir -p \"/data/CSHL_patch_features/inception-bn-blue/CHATM2/CHATM2_prep2_none_win7\"\n"
     ]
    },
    {
     "name": "stderr",
     "output_type": "stream",
     "text": [
      "Save features: 4.52 seconds\n",
      "locate patches: 0.09 seconds\n"
     ]
    },
    {
     "name": "stdout",
     "output_type": "stream",
     "text": [
      "0\n",
      "aws s3 cp \"s3://mousebrainatlas-data/CSHL_patch_features/inception-bn-blue/CHATM2/CHATM2_prep2_none_win7/CHATM2_slide84_2018_02_14-S2_prep2_none_win7_inception-bn-blue_features.bp\" \"/data/CSHL_patch_features/inception-bn-blue/CHATM2/CHATM2_prep2_none_win7/CHATM2_slide84_2018_02_14-S2_prep2_none_win7_inception-bn-blue_features.bp\"\n",
      "1\n"
     ]
    },
    {
     "name": "stderr",
     "output_type": "stream",
     "text": [
      "Features for CHATM2, 253/CHATM2_slide84_2018_02_14-S2 does not exist.\n",
      "No pre-computed features found... computing from scratch.\n",
      "Not using image_cache.\n"
     ]
    },
    {
     "name": "stdout",
     "output_type": "stream",
     "text": [
      "/data/CSHL_data_processed/CHATM2/CHATM2_prep2_raw_NtbNormalizedAdaptiveInvertedGamma/CHATM2_slide84_2018_02_14-S2_prep2_raw_NtbNormalizedAdaptiveInvertedGamma.tif\n"
     ]
    },
    {
     "name": "stderr",
     "output_type": "stream",
     "text": [
      "Load image: 4.20 seconds.\n",
      "Rescale image from 317 to 224: 6.88 seconds.\n",
      "Crop patches: 1.16 seconds.\n",
      "Extract patches: 12.26 seconds\n"
     ]
    },
    {
     "name": "stdout",
     "output_type": "stream",
     "text": [
      "(33456, 1, 224, 224)\n"
     ]
    },
    {
     "name": "stderr",
     "output_type": "stream",
     "text": [
      "Compute features: 59.05 seconds\n",
      "Compute features at one section, multiple locations: 71.33 seconds\n"
     ]
    },
    {
     "name": "stdout",
     "output_type": "stream",
     "text": [
      "aws s3 cp \"/data/CSHL_patch_features/inception-bn-blue/CHATM2/CHATM2_prep2_none_win7/CHATM2_slide84_2018_02_14-S2_prep2_none_win7_inception-bn-blue_features.bp\" \"s3://mousebrainatlas-data/CSHL_patch_features/inception-bn-blue/CHATM2/CHATM2_prep2_none_win7/CHATM2_slide84_2018_02_14-S2_prep2_none_win7_inception-bn-blue_features.bp\"\n",
      "0\n",
      "aws s3 cp \"/data/CSHL_patch_features/inception-bn-blue/CHATM2/CHATM2_prep2_none_win7/CHATM2_slide84_2018_02_14-S2_prep2_none_win7_inception-bn-blue_locations.bp\" \"s3://mousebrainatlas-data/CSHL_patch_features/inception-bn-blue/CHATM2/CHATM2_prep2_none_win7/CHATM2_slide84_2018_02_14-S2_prep2_none_win7_inception-bn-blue_locations.bp\"\n",
      "0\n",
      "rm -rf \"/data/CSHL_patch_features/inception-bn-blue/CHATM2/CHATM2_prep2_none_win7/CHATM2_slide84_2018_02_14-S3_prep2_none_win7_inception-bn-blue_features.bp\" && mkdir -p \"/data/CSHL_patch_features/inception-bn-blue/CHATM2/CHATM2_prep2_none_win7\"\n"
     ]
    },
    {
     "name": "stderr",
     "output_type": "stream",
     "text": [
      "Save features: 4.50 seconds\n",
      "locate patches: 0.17 seconds\n"
     ]
    },
    {
     "name": "stdout",
     "output_type": "stream",
     "text": [
      "0\n",
      "aws s3 cp \"s3://mousebrainatlas-data/CSHL_patch_features/inception-bn-blue/CHATM2/CHATM2_prep2_none_win7/CHATM2_slide84_2018_02_14-S3_prep2_none_win7_inception-bn-blue_features.bp\" \"/data/CSHL_patch_features/inception-bn-blue/CHATM2/CHATM2_prep2_none_win7/CHATM2_slide84_2018_02_14-S3_prep2_none_win7_inception-bn-blue_features.bp\"\n",
      "1\n"
     ]
    },
    {
     "name": "stderr",
     "output_type": "stream",
     "text": [
      "Features for CHATM2, 255/CHATM2_slide84_2018_02_14-S3 does not exist.\n",
      "No pre-computed features found... computing from scratch.\n",
      "Not using image_cache.\n"
     ]
    },
    {
     "name": "stdout",
     "output_type": "stream",
     "text": [
      "/data/CSHL_data_processed/CHATM2/CHATM2_prep2_raw_NtbNormalizedAdaptiveInvertedGamma/CHATM2_slide84_2018_02_14-S3_prep2_raw_NtbNormalizedAdaptiveInvertedGamma.tif\n"
     ]
    },
    {
     "name": "stderr",
     "output_type": "stream",
     "text": [
      "Load image: 5.79 seconds.\n",
      "Rescale image from 317 to 224: 6.80 seconds.\n",
      "Crop patches: 1.33 seconds.\n",
      "Extract patches: 13.95 seconds\n"
     ]
    },
    {
     "name": "stdout",
     "output_type": "stream",
     "text": [
      "(33214, 1, 224, 224)\n"
     ]
    },
    {
     "name": "stderr",
     "output_type": "stream",
     "text": [
      "Compute features: 58.68 seconds\n",
      "Compute features at one section, multiple locations: 72.64 seconds\n"
     ]
    },
    {
     "name": "stdout",
     "output_type": "stream",
     "text": [
      "aws s3 cp \"/data/CSHL_patch_features/inception-bn-blue/CHATM2/CHATM2_prep2_none_win7/CHATM2_slide84_2018_02_14-S3_prep2_none_win7_inception-bn-blue_features.bp\" \"s3://mousebrainatlas-data/CSHL_patch_features/inception-bn-blue/CHATM2/CHATM2_prep2_none_win7/CHATM2_slide84_2018_02_14-S3_prep2_none_win7_inception-bn-blue_features.bp\"\n",
      "0\n",
      "aws s3 cp \"/data/CSHL_patch_features/inception-bn-blue/CHATM2/CHATM2_prep2_none_win7/CHATM2_slide84_2018_02_14-S3_prep2_none_win7_inception-bn-blue_locations.bp\" \"s3://mousebrainatlas-data/CSHL_patch_features/inception-bn-blue/CHATM2/CHATM2_prep2_none_win7/CHATM2_slide84_2018_02_14-S3_prep2_none_win7_inception-bn-blue_locations.bp\"\n",
      "0\n",
      "rm -rf \"/data/CSHL_patch_features/inception-bn-blue/CHATM2/CHATM2_prep2_none_win7/CHATM2_slide86_2018_02_13-S1_prep2_none_win7_inception-bn-blue_features.bp\" && mkdir -p \"/data/CSHL_patch_features/inception-bn-blue/CHATM2/CHATM2_prep2_none_win7\"\n",
      "0\n",
      "aws s3 cp \"s3://mousebrainatlas-data/CSHL_patch_features/inception-bn-blue/CHATM2/CHATM2_prep2_none_win7/CHATM2_slide86_2018_02_13-S1_prep2_none_win7_inception-bn-blue_features.bp\" \"/data/CSHL_patch_features/inception-bn-blue/CHATM2/CHATM2_prep2_none_win7/CHATM2_slide86_2018_02_13-S1_prep2_none_win7_inception-bn-blue_features.bp\"\n"
     ]
    },
    {
     "name": "stderr",
     "output_type": "stream",
     "text": [
      "Save features: 3.18 seconds\n",
      "locate patches: 0.03 seconds\n"
     ]
    },
    {
     "name": "stdout",
     "output_type": "stream",
     "text": [
      "1\n"
     ]
    },
    {
     "name": "stderr",
     "output_type": "stream",
     "text": [
      "Features for CHATM2, 257/CHATM2_slide86_2018_02_13-S1 does not exist.\n",
      "No pre-computed features found... computing from scratch.\n",
      "Not using image_cache.\n"
     ]
    },
    {
     "name": "stdout",
     "output_type": "stream",
     "text": [
      "/data/CSHL_data_processed/CHATM2/CHATM2_prep2_raw_NtbNormalizedAdaptiveInvertedGamma/CHATM2_slide86_2018_02_13-S1_prep2_raw_NtbNormalizedAdaptiveInvertedGamma.tif\n"
     ]
    },
    {
     "name": "stderr",
     "output_type": "stream",
     "text": [
      "Load image: 3.28 seconds.\n",
      "Rescale image from 317 to 224: 2.88 seconds.\n",
      "Crop patches: 0.74 seconds.\n",
      "Extract patches: 6.91 seconds\n"
     ]
    },
    {
     "name": "stdout",
     "output_type": "stream",
     "text": [
      "(33218, 1, 224, 224)\n"
     ]
    },
    {
     "name": "stderr",
     "output_type": "stream",
     "text": [
      "Compute features: 56.20 seconds\n",
      "Compute features at one section, multiple locations: 63.13 seconds\n"
     ]
    },
    {
     "name": "stdout",
     "output_type": "stream",
     "text": [
      "aws s3 cp \"/data/CSHL_patch_features/inception-bn-blue/CHATM2/CHATM2_prep2_none_win7/CHATM2_slide86_2018_02_13-S1_prep2_none_win7_inception-bn-blue_features.bp\" \"s3://mousebrainatlas-data/CSHL_patch_features/inception-bn-blue/CHATM2/CHATM2_prep2_none_win7/CHATM2_slide86_2018_02_13-S1_prep2_none_win7_inception-bn-blue_features.bp\"\n",
      "0\n",
      "aws s3 cp \"/data/CSHL_patch_features/inception-bn-blue/CHATM2/CHATM2_prep2_none_win7/CHATM2_slide86_2018_02_13-S1_prep2_none_win7_inception-bn-blue_locations.bp\" \"s3://mousebrainatlas-data/CSHL_patch_features/inception-bn-blue/CHATM2/CHATM2_prep2_none_win7/CHATM2_slide86_2018_02_13-S1_prep2_none_win7_inception-bn-blue_locations.bp\"\n",
      "0\n",
      "rm -rf \"/data/CSHL_patch_features/inception-bn-blue/CHATM2/CHATM2_prep2_none_win7/CHATM2_slide86_2018_02_13-S2_prep2_none_win7_inception-bn-blue_features.bp\" && mkdir -p \"/data/CSHL_patch_features/inception-bn-blue/CHATM2/CHATM2_prep2_none_win7\"\n",
      "0\n",
      "aws s3 cp \"s3://mousebrainatlas-data/CSHL_patch_features/inception-bn-blue/CHATM2/CHATM2_prep2_none_win7/CHATM2_slide86_2018_02_13-S2_prep2_none_win7_inception-bn-blue_features.bp\" \"/data/CSHL_patch_features/inception-bn-blue/CHATM2/CHATM2_prep2_none_win7/CHATM2_slide86_2018_02_13-S2_prep2_none_win7_inception-bn-blue_features.bp\"\n"
     ]
    },
    {
     "name": "stderr",
     "output_type": "stream",
     "text": [
      "Save features: 4.94 seconds\n",
      "locate patches: 0.06 seconds\n"
     ]
    },
    {
     "name": "stdout",
     "output_type": "stream",
     "text": [
      "1\n"
     ]
    },
    {
     "name": "stderr",
     "output_type": "stream",
     "text": [
      "Features for CHATM2, 259/CHATM2_slide86_2018_02_13-S2 does not exist.\n",
      "No pre-computed features found... computing from scratch.\n",
      "Not using image_cache.\n"
     ]
    },
    {
     "name": "stdout",
     "output_type": "stream",
     "text": [
      "/data/CSHL_data_processed/CHATM2/CHATM2_prep2_raw_NtbNormalizedAdaptiveInvertedGamma/CHATM2_slide86_2018_02_13-S2_prep2_raw_NtbNormalizedAdaptiveInvertedGamma.tif\n"
     ]
    },
    {
     "name": "stderr",
     "output_type": "stream",
     "text": [
      "Load image: 4.97 seconds.\n",
      "Rescale image from 317 to 224: 5.23 seconds.\n",
      "Crop patches: 1.07 seconds.\n",
      "Extract patches: 11.29 seconds\n"
     ]
    },
    {
     "name": "stdout",
     "output_type": "stream",
     "text": [
      "(32815, 1, 224, 224)\n"
     ]
    },
    {
     "name": "stderr",
     "output_type": "stream",
     "text": [
      "Compute features: 55.20 seconds\n",
      "Compute features at one section, multiple locations: 66.50 seconds\n"
     ]
    },
    {
     "name": "stdout",
     "output_type": "stream",
     "text": [
      "aws s3 cp \"/data/CSHL_patch_features/inception-bn-blue/CHATM2/CHATM2_prep2_none_win7/CHATM2_slide86_2018_02_13-S2_prep2_none_win7_inception-bn-blue_features.bp\" \"s3://mousebrainatlas-data/CSHL_patch_features/inception-bn-blue/CHATM2/CHATM2_prep2_none_win7/CHATM2_slide86_2018_02_13-S2_prep2_none_win7_inception-bn-blue_features.bp\"\n",
      "0\n",
      "aws s3 cp \"/data/CSHL_patch_features/inception-bn-blue/CHATM2/CHATM2_prep2_none_win7/CHATM2_slide86_2018_02_13-S2_prep2_none_win7_inception-bn-blue_locations.bp\" \"s3://mousebrainatlas-data/CSHL_patch_features/inception-bn-blue/CHATM2/CHATM2_prep2_none_win7/CHATM2_slide86_2018_02_13-S2_prep2_none_win7_inception-bn-blue_locations.bp\"\n",
      "0\n",
      "rm -rf \"/data/CSHL_patch_features/inception-bn-blue/CHATM2/CHATM2_prep2_none_win7/CHATM2_slide86_2018_02_13-S3_prep2_none_win7_inception-bn-blue_features.bp\" && mkdir -p \"/data/CSHL_patch_features/inception-bn-blue/CHATM2/CHATM2_prep2_none_win7\"\n",
      "0\n",
      "aws s3 cp \"s3://mousebrainatlas-data/CSHL_patch_features/inception-bn-blue/CHATM2/CHATM2_prep2_none_win7/CHATM2_slide86_2018_02_13-S3_prep2_none_win7_inception-bn-blue_features.bp\" \"/data/CSHL_patch_features/inception-bn-blue/CHATM2/CHATM2_prep2_none_win7/CHATM2_slide86_2018_02_13-S3_prep2_none_win7_inception-bn-blue_features.bp\"\n"
     ]
    },
    {
     "name": "stderr",
     "output_type": "stream",
     "text": [
      "Save features: 3.41 seconds\n",
      "locate patches: 0.03 seconds\n"
     ]
    },
    {
     "name": "stdout",
     "output_type": "stream",
     "text": [
      "1\n"
     ]
    },
    {
     "name": "stderr",
     "output_type": "stream",
     "text": [
      "Features for CHATM2, 261/CHATM2_slide86_2018_02_13-S3 does not exist.\n",
      "No pre-computed features found... computing from scratch.\n",
      "Not using image_cache.\n"
     ]
    },
    {
     "name": "stdout",
     "output_type": "stream",
     "text": [
      "/data/CSHL_data_processed/CHATM2/CHATM2_prep2_raw_NtbNormalizedAdaptiveInvertedGamma/CHATM2_slide86_2018_02_13-S3_prep2_raw_NtbNormalizedAdaptiveInvertedGamma.tif\n"
     ]
    },
    {
     "name": "stderr",
     "output_type": "stream",
     "text": [
      "Load image: 3.04 seconds.\n",
      "Rescale image from 317 to 224: 3.04 seconds.\n",
      "Crop patches: 0.76 seconds.\n",
      "Extract patches: 6.87 seconds\n"
     ]
    },
    {
     "name": "stdout",
     "output_type": "stream",
     "text": [
      "(32518, 1, 224, 224)\n"
     ]
    },
    {
     "name": "stderr",
     "output_type": "stream",
     "text": [
      "Compute features: 54.55 seconds\n",
      "Compute features at one section, multiple locations: 61.44 seconds\n"
     ]
    },
    {
     "name": "stdout",
     "output_type": "stream",
     "text": [
      "aws s3 cp \"/data/CSHL_patch_features/inception-bn-blue/CHATM2/CHATM2_prep2_none_win7/CHATM2_slide86_2018_02_13-S3_prep2_none_win7_inception-bn-blue_features.bp\" \"s3://mousebrainatlas-data/CSHL_patch_features/inception-bn-blue/CHATM2/CHATM2_prep2_none_win7/CHATM2_slide86_2018_02_13-S3_prep2_none_win7_inception-bn-blue_features.bp\"\n",
      "0\n",
      "aws s3 cp \"/data/CSHL_patch_features/inception-bn-blue/CHATM2/CHATM2_prep2_none_win7/CHATM2_slide86_2018_02_13-S3_prep2_none_win7_inception-bn-blue_locations.bp\" \"s3://mousebrainatlas-data/CSHL_patch_features/inception-bn-blue/CHATM2/CHATM2_prep2_none_win7/CHATM2_slide86_2018_02_13-S3_prep2_none_win7_inception-bn-blue_locations.bp\"\n",
      "0\n",
      "rm -rf \"/data/CSHL_patch_features/inception-bn-blue/CHATM2/CHATM2_prep2_none_win7/CHATM2_slide88_2018_02_13-S1_prep2_none_win7_inception-bn-blue_features.bp\" && mkdir -p \"/data/CSHL_patch_features/inception-bn-blue/CHATM2/CHATM2_prep2_none_win7\"\n",
      "0\n",
      "aws s3 cp \"s3://mousebrainatlas-data/CSHL_patch_features/inception-bn-blue/CHATM2/CHATM2_prep2_none_win7/CHATM2_slide88_2018_02_13-S1_prep2_none_win7_inception-bn-blue_features.bp\" \"/data/CSHL_patch_features/inception-bn-blue/CHATM2/CHATM2_prep2_none_win7/CHATM2_slide88_2018_02_13-S1_prep2_none_win7_inception-bn-blue_features.bp\"\n"
     ]
    },
    {
     "name": "stderr",
     "output_type": "stream",
     "text": [
      "Save features: 4.35 seconds\n",
      "locate patches: 0.05 seconds\n"
     ]
    },
    {
     "name": "stdout",
     "output_type": "stream",
     "text": [
      "1\n"
     ]
    },
    {
     "name": "stderr",
     "output_type": "stream",
     "text": [
      "Features for CHATM2, 263/CHATM2_slide88_2018_02_13-S1 does not exist.\n",
      "No pre-computed features found... computing from scratch.\n",
      "Not using image_cache.\n"
     ]
    },
    {
     "name": "stdout",
     "output_type": "stream",
     "text": [
      "/data/CSHL_data_processed/CHATM2/CHATM2_prep2_raw_NtbNormalizedAdaptiveInvertedGamma/CHATM2_slide88_2018_02_13-S1_prep2_raw_NtbNormalizedAdaptiveInvertedGamma.tif\n"
     ]
    },
    {
     "name": "stderr",
     "output_type": "stream",
     "text": [
      "Load image: 5.74 seconds.\n",
      "Rescale image from 317 to 224: 5.29 seconds.\n",
      "Crop patches: 1.12 seconds.\n",
      "Extract patches: 12.17 seconds\n"
     ]
    },
    {
     "name": "stdout",
     "output_type": "stream",
     "text": [
      "(32200, 1, 224, 224)\n"
     ]
    },
    {
     "name": "stderr",
     "output_type": "stream",
     "text": [
      "Compute features: 54.92 seconds\n",
      "Compute features at one section, multiple locations: 67.11 seconds\n"
     ]
    },
    {
     "name": "stdout",
     "output_type": "stream",
     "text": [
      "aws s3 cp \"/data/CSHL_patch_features/inception-bn-blue/CHATM2/CHATM2_prep2_none_win7/CHATM2_slide88_2018_02_13-S1_prep2_none_win7_inception-bn-blue_features.bp\" \"s3://mousebrainatlas-data/CSHL_patch_features/inception-bn-blue/CHATM2/CHATM2_prep2_none_win7/CHATM2_slide88_2018_02_13-S1_prep2_none_win7_inception-bn-blue_features.bp\"\n",
      "0\n",
      "aws s3 cp \"/data/CSHL_patch_features/inception-bn-blue/CHATM2/CHATM2_prep2_none_win7/CHATM2_slide88_2018_02_13-S1_prep2_none_win7_inception-bn-blue_locations.bp\" \"s3://mousebrainatlas-data/CSHL_patch_features/inception-bn-blue/CHATM2/CHATM2_prep2_none_win7/CHATM2_slide88_2018_02_13-S1_prep2_none_win7_inception-bn-blue_locations.bp\"\n",
      "0\n",
      "rm -rf \"/data/CSHL_patch_features/inception-bn-blue/CHATM2/CHATM2_prep2_none_win7/CHATM2_slide88_2018_02_13-S2_prep2_none_win7_inception-bn-blue_features.bp\" && mkdir -p \"/data/CSHL_patch_features/inception-bn-blue/CHATM2/CHATM2_prep2_none_win7\"\n",
      "0\n",
      "aws s3 cp \"s3://mousebrainatlas-data/CSHL_patch_features/inception-bn-blue/CHATM2/CHATM2_prep2_none_win7/CHATM2_slide88_2018_02_13-S2_prep2_none_win7_inception-bn-blue_features.bp\" \"/data/CSHL_patch_features/inception-bn-blue/CHATM2/CHATM2_prep2_none_win7/CHATM2_slide88_2018_02_13-S2_prep2_none_win7_inception-bn-blue_features.bp\"\n"
     ]
    },
    {
     "name": "stderr",
     "output_type": "stream",
     "text": [
      "Save features: 3.15 seconds\n",
      "locate patches: 0.04 seconds\n"
     ]
    },
    {
     "name": "stdout",
     "output_type": "stream",
     "text": [
      "1\n"
     ]
    },
    {
     "name": "stderr",
     "output_type": "stream",
     "text": [
      "Features for CHATM2, 265/CHATM2_slide88_2018_02_13-S2 does not exist.\n",
      "No pre-computed features found... computing from scratch.\n",
      "Not using image_cache.\n"
     ]
    },
    {
     "name": "stdout",
     "output_type": "stream",
     "text": [
      "/data/CSHL_data_processed/CHATM2/CHATM2_prep2_raw_NtbNormalizedAdaptiveInvertedGamma/CHATM2_slide88_2018_02_13-S2_prep2_raw_NtbNormalizedAdaptiveInvertedGamma.tif\n"
     ]
    },
    {
     "name": "stderr",
     "output_type": "stream",
     "text": [
      "Load image: 3.65 seconds.\n",
      "Rescale image from 317 to 224: 4.20 seconds.\n",
      "Crop patches: 1.14 seconds.\n",
      "Extract patches: 9.01 seconds\n"
     ]
    },
    {
     "name": "stdout",
     "output_type": "stream",
     "text": [
      "(31738, 1, 224, 224)\n"
     ]
    },
    {
     "name": "stderr",
     "output_type": "stream",
     "text": [
      "Compute features: 52.94 seconds\n",
      "Compute features at one section, multiple locations: 61.98 seconds\n"
     ]
    },
    {
     "name": "stdout",
     "output_type": "stream",
     "text": [
      "aws s3 cp \"/data/CSHL_patch_features/inception-bn-blue/CHATM2/CHATM2_prep2_none_win7/CHATM2_slide88_2018_02_13-S2_prep2_none_win7_inception-bn-blue_features.bp\" \"s3://mousebrainatlas-data/CSHL_patch_features/inception-bn-blue/CHATM2/CHATM2_prep2_none_win7/CHATM2_slide88_2018_02_13-S2_prep2_none_win7_inception-bn-blue_features.bp\"\n",
      "0\n",
      "aws s3 cp \"/data/CSHL_patch_features/inception-bn-blue/CHATM2/CHATM2_prep2_none_win7/CHATM2_slide88_2018_02_13-S2_prep2_none_win7_inception-bn-blue_locations.bp\" \"s3://mousebrainatlas-data/CSHL_patch_features/inception-bn-blue/CHATM2/CHATM2_prep2_none_win7/CHATM2_slide88_2018_02_13-S2_prep2_none_win7_inception-bn-blue_locations.bp\"\n",
      "0\n",
      "rm -rf \"/data/CSHL_patch_features/inception-bn-blue/CHATM2/CHATM2_prep2_none_win7/CHATM2_slide88_2018_02_13-S3_prep2_none_win7_inception-bn-blue_features.bp\" && mkdir -p \"/data/CSHL_patch_features/inception-bn-blue/CHATM2/CHATM2_prep2_none_win7\"\n"
     ]
    },
    {
     "name": "stderr",
     "output_type": "stream",
     "text": [
      "Save features: 4.82 seconds\n",
      "locate patches: 0.13 seconds\n"
     ]
    },
    {
     "name": "stdout",
     "output_type": "stream",
     "text": [
      "0\n",
      "aws s3 cp \"s3://mousebrainatlas-data/CSHL_patch_features/inception-bn-blue/CHATM2/CHATM2_prep2_none_win7/CHATM2_slide88_2018_02_13-S3_prep2_none_win7_inception-bn-blue_features.bp\" \"/data/CSHL_patch_features/inception-bn-blue/CHATM2/CHATM2_prep2_none_win7/CHATM2_slide88_2018_02_13-S3_prep2_none_win7_inception-bn-blue_features.bp\"\n",
      "1\n"
     ]
    },
    {
     "name": "stderr",
     "output_type": "stream",
     "text": [
      "Features for CHATM2, 267/CHATM2_slide88_2018_02_13-S3 does not exist.\n",
      "No pre-computed features found... computing from scratch.\n",
      "Not using image_cache.\n"
     ]
    },
    {
     "name": "stdout",
     "output_type": "stream",
     "text": [
      "/data/CSHL_data_processed/CHATM2/CHATM2_prep2_raw_NtbNormalizedAdaptiveInvertedGamma/CHATM2_slide88_2018_02_13-S3_prep2_raw_NtbNormalizedAdaptiveInvertedGamma.tif\n"
     ]
    },
    {
     "name": "stderr",
     "output_type": "stream",
     "text": [
      "Load image: 6.39 seconds.\n",
      "Rescale image from 317 to 224: 5.14 seconds.\n",
      "Crop patches: 1.06 seconds.\n",
      "Extract patches: 12.62 seconds\n"
     ]
    },
    {
     "name": "stdout",
     "output_type": "stream",
     "text": [
      "(31306, 1, 224, 224)\n"
     ]
    },
    {
     "name": "stderr",
     "output_type": "stream",
     "text": [
      "Compute features: 51.72 seconds\n",
      "Compute features at one section, multiple locations: 64.35 seconds\n"
     ]
    },
    {
     "name": "stdout",
     "output_type": "stream",
     "text": [
      "aws s3 cp \"/data/CSHL_patch_features/inception-bn-blue/CHATM2/CHATM2_prep2_none_win7/CHATM2_slide88_2018_02_13-S3_prep2_none_win7_inception-bn-blue_features.bp\" \"s3://mousebrainatlas-data/CSHL_patch_features/inception-bn-blue/CHATM2/CHATM2_prep2_none_win7/CHATM2_slide88_2018_02_13-S3_prep2_none_win7_inception-bn-blue_features.bp\"\n",
      "0\n",
      "aws s3 cp \"/data/CSHL_patch_features/inception-bn-blue/CHATM2/CHATM2_prep2_none_win7/CHATM2_slide88_2018_02_13-S3_prep2_none_win7_inception-bn-blue_locations.bp\" \"s3://mousebrainatlas-data/CSHL_patch_features/inception-bn-blue/CHATM2/CHATM2_prep2_none_win7/CHATM2_slide88_2018_02_13-S3_prep2_none_win7_inception-bn-blue_locations.bp\"\n",
      "0\n",
      "rm -rf \"/data/CSHL_patch_features/inception-bn-blue/CHATM2/CHATM2_prep2_none_win7/CHATM2_slide90_2018_02_13-S1_prep2_none_win7_inception-bn-blue_features.bp\" && mkdir -p \"/data/CSHL_patch_features/inception-bn-blue/CHATM2/CHATM2_prep2_none_win7\"\n"
     ]
    },
    {
     "name": "stderr",
     "output_type": "stream",
     "text": [
      "Save features: 5.08 seconds\n",
      "locate patches: 0.11 seconds\n"
     ]
    },
    {
     "name": "stdout",
     "output_type": "stream",
     "text": [
      "0\n",
      "aws s3 cp \"s3://mousebrainatlas-data/CSHL_patch_features/inception-bn-blue/CHATM2/CHATM2_prep2_none_win7/CHATM2_slide90_2018_02_13-S1_prep2_none_win7_inception-bn-blue_features.bp\" \"/data/CSHL_patch_features/inception-bn-blue/CHATM2/CHATM2_prep2_none_win7/CHATM2_slide90_2018_02_13-S1_prep2_none_win7_inception-bn-blue_features.bp\"\n",
      "1\n"
     ]
    },
    {
     "name": "stderr",
     "output_type": "stream",
     "text": [
      "Features for CHATM2, 269/CHATM2_slide90_2018_02_13-S1 does not exist.\n",
      "No pre-computed features found... computing from scratch.\n",
      "Not using image_cache.\n"
     ]
    },
    {
     "name": "stdout",
     "output_type": "stream",
     "text": [
      "/data/CSHL_data_processed/CHATM2/CHATM2_prep2_raw_NtbNormalizedAdaptiveInvertedGamma/CHATM2_slide90_2018_02_13-S1_prep2_raw_NtbNormalizedAdaptiveInvertedGamma.tif\n"
     ]
    },
    {
     "name": "stderr",
     "output_type": "stream",
     "text": [
      "Load image: 4.68 seconds.\n",
      "Rescale image from 317 to 224: 6.60 seconds.\n",
      "Crop patches: 1.08 seconds.\n",
      "Extract patches: 12.39 seconds\n"
     ]
    },
    {
     "name": "stdout",
     "output_type": "stream",
     "text": [
      "(31298, 1, 224, 224)\n"
     ]
    },
    {
     "name": "stderr",
     "output_type": "stream",
     "text": [
      "Compute features: 56.36 seconds\n",
      "Compute features at one section, multiple locations: 68.76 seconds\n"
     ]
    },
    {
     "name": "stdout",
     "output_type": "stream",
     "text": [
      "aws s3 cp \"/data/CSHL_patch_features/inception-bn-blue/CHATM2/CHATM2_prep2_none_win7/CHATM2_slide90_2018_02_13-S1_prep2_none_win7_inception-bn-blue_features.bp\" \"s3://mousebrainatlas-data/CSHL_patch_features/inception-bn-blue/CHATM2/CHATM2_prep2_none_win7/CHATM2_slide90_2018_02_13-S1_prep2_none_win7_inception-bn-blue_features.bp\"\n",
      "0\n",
      "aws s3 cp \"/data/CSHL_patch_features/inception-bn-blue/CHATM2/CHATM2_prep2_none_win7/CHATM2_slide90_2018_02_13-S1_prep2_none_win7_inception-bn-blue_locations.bp\" \"s3://mousebrainatlas-data/CSHL_patch_features/inception-bn-blue/CHATM2/CHATM2_prep2_none_win7/CHATM2_slide90_2018_02_13-S1_prep2_none_win7_inception-bn-blue_locations.bp\"\n",
      "0\n",
      "rm -rf \"/data/CSHL_patch_features/inception-bn-blue/CHATM2/CHATM2_prep2_none_win7/CHATM2_slide90_2018_02_13-S2_prep2_none_win7_inception-bn-blue_features.bp\" && mkdir -p \"/data/CSHL_patch_features/inception-bn-blue/CHATM2/CHATM2_prep2_none_win7\"\n",
      "0\n",
      "aws s3 cp \"s3://mousebrainatlas-data/CSHL_patch_features/inception-bn-blue/CHATM2/CHATM2_prep2_none_win7/CHATM2_slide90_2018_02_13-S2_prep2_none_win7_inception-bn-blue_features.bp\" \"/data/CSHL_patch_features/inception-bn-blue/CHATM2/CHATM2_prep2_none_win7/CHATM2_slide90_2018_02_13-S2_prep2_none_win7_inception-bn-blue_features.bp\"\n"
     ]
    },
    {
     "name": "stderr",
     "output_type": "stream",
     "text": [
      "Save features: 3.68 seconds\n",
      "locate patches: 0.03 seconds\n"
     ]
    },
    {
     "name": "stdout",
     "output_type": "stream",
     "text": [
      "1\n"
     ]
    },
    {
     "name": "stderr",
     "output_type": "stream",
     "text": [
      "Features for CHATM2, 271/CHATM2_slide90_2018_02_13-S2 does not exist.\n",
      "No pre-computed features found... computing from scratch.\n",
      "Not using image_cache.\n"
     ]
    },
    {
     "name": "stdout",
     "output_type": "stream",
     "text": [
      "/data/CSHL_data_processed/CHATM2/CHATM2_prep2_raw_NtbNormalizedAdaptiveInvertedGamma/CHATM2_slide90_2018_02_13-S2_prep2_raw_NtbNormalizedAdaptiveInvertedGamma.tif\n"
     ]
    },
    {
     "name": "stderr",
     "output_type": "stream",
     "text": [
      "Load image: 1.91 seconds.\n",
      "Rescale image from 317 to 224: 3.76 seconds.\n",
      "Crop patches: 0.96 seconds.\n",
      "Extract patches: 6.66 seconds\n"
     ]
    },
    {
     "name": "stdout",
     "output_type": "stream",
     "text": [
      "(31120, 1, 224, 224)\n"
     ]
    },
    {
     "name": "stderr",
     "output_type": "stream",
     "text": [
      "Compute features: 50.56 seconds\n",
      "Compute features at one section, multiple locations: 57.24 seconds\n"
     ]
    },
    {
     "name": "stdout",
     "output_type": "stream",
     "text": [
      "aws s3 cp \"/data/CSHL_patch_features/inception-bn-blue/CHATM2/CHATM2_prep2_none_win7/CHATM2_slide90_2018_02_13-S2_prep2_none_win7_inception-bn-blue_features.bp\" \"s3://mousebrainatlas-data/CSHL_patch_features/inception-bn-blue/CHATM2/CHATM2_prep2_none_win7/CHATM2_slide90_2018_02_13-S2_prep2_none_win7_inception-bn-blue_features.bp\"\n",
      "0\n",
      "aws s3 cp \"/data/CSHL_patch_features/inception-bn-blue/CHATM2/CHATM2_prep2_none_win7/CHATM2_slide90_2018_02_13-S2_prep2_none_win7_inception-bn-blue_locations.bp\" \"s3://mousebrainatlas-data/CSHL_patch_features/inception-bn-blue/CHATM2/CHATM2_prep2_none_win7/CHATM2_slide90_2018_02_13-S2_prep2_none_win7_inception-bn-blue_locations.bp\"\n",
      "0\n",
      "rm -rf \"/data/CSHL_patch_features/inception-bn-blue/CHATM2/CHATM2_prep2_none_win7/CHATM2_slide90_2018_02_13-S3_prep2_none_win7_inception-bn-blue_features.bp\" && mkdir -p \"/data/CSHL_patch_features/inception-bn-blue/CHATM2/CHATM2_prep2_none_win7\"\n"
     ]
    },
    {
     "name": "stderr",
     "output_type": "stream",
     "text": [
      "Save features: 4.81 seconds\n",
      "locate patches: 0.10 seconds\n"
     ]
    },
    {
     "name": "stdout",
     "output_type": "stream",
     "text": [
      "0\n",
      "aws s3 cp \"s3://mousebrainatlas-data/CSHL_patch_features/inception-bn-blue/CHATM2/CHATM2_prep2_none_win7/CHATM2_slide90_2018_02_13-S3_prep2_none_win7_inception-bn-blue_features.bp\" \"/data/CSHL_patch_features/inception-bn-blue/CHATM2/CHATM2_prep2_none_win7/CHATM2_slide90_2018_02_13-S3_prep2_none_win7_inception-bn-blue_features.bp\"\n",
      "1\n"
     ]
    },
    {
     "name": "stderr",
     "output_type": "stream",
     "text": [
      "Features for CHATM2, 273/CHATM2_slide90_2018_02_13-S3 does not exist.\n",
      "No pre-computed features found... computing from scratch.\n",
      "Not using image_cache.\n"
     ]
    },
    {
     "name": "stdout",
     "output_type": "stream",
     "text": [
      "/data/CSHL_data_processed/CHATM2/CHATM2_prep2_raw_NtbNormalizedAdaptiveInvertedGamma/CHATM2_slide90_2018_02_13-S3_prep2_raw_NtbNormalizedAdaptiveInvertedGamma.tif\n"
     ]
    },
    {
     "name": "stderr",
     "output_type": "stream",
     "text": [
      "Load image: 4.89 seconds.\n",
      "Rescale image from 317 to 224: 5.06 seconds.\n",
      "Crop patches: 1.06 seconds.\n",
      "Extract patches: 11.04 seconds\n"
     ]
    },
    {
     "name": "stdout",
     "output_type": "stream",
     "text": [
      "(30584, 1, 224, 224)\n"
     ]
    },
    {
     "name": "stderr",
     "output_type": "stream",
     "text": [
      "Compute features: 51.36 seconds\n",
      "Compute features at one section, multiple locations: 62.41 seconds\n"
     ]
    },
    {
     "name": "stdout",
     "output_type": "stream",
     "text": [
      "aws s3 cp \"/data/CSHL_patch_features/inception-bn-blue/CHATM2/CHATM2_prep2_none_win7/CHATM2_slide90_2018_02_13-S3_prep2_none_win7_inception-bn-blue_features.bp\" \"s3://mousebrainatlas-data/CSHL_patch_features/inception-bn-blue/CHATM2/CHATM2_prep2_none_win7/CHATM2_slide90_2018_02_13-S3_prep2_none_win7_inception-bn-blue_features.bp\"\n",
      "0\n",
      "aws s3 cp \"/data/CSHL_patch_features/inception-bn-blue/CHATM2/CHATM2_prep2_none_win7/CHATM2_slide90_2018_02_13-S3_prep2_none_win7_inception-bn-blue_locations.bp\" \"s3://mousebrainatlas-data/CSHL_patch_features/inception-bn-blue/CHATM2/CHATM2_prep2_none_win7/CHATM2_slide90_2018_02_13-S3_prep2_none_win7_inception-bn-blue_locations.bp\"\n",
      "0\n",
      "rm -rf \"/data/CSHL_patch_features/inception-bn-blue/CHATM2/CHATM2_prep2_none_win7/CHATM2_slide92_2018_02_13-S1_prep2_none_win7_inception-bn-blue_features.bp\" && mkdir -p \"/data/CSHL_patch_features/inception-bn-blue/CHATM2/CHATM2_prep2_none_win7\"\n",
      "0\n",
      "aws s3 cp \"s3://mousebrainatlas-data/CSHL_patch_features/inception-bn-blue/CHATM2/CHATM2_prep2_none_win7/CHATM2_slide92_2018_02_13-S1_prep2_none_win7_inception-bn-blue_features.bp\" \"/data/CSHL_patch_features/inception-bn-blue/CHATM2/CHATM2_prep2_none_win7/CHATM2_slide92_2018_02_13-S1_prep2_none_win7_inception-bn-blue_features.bp\"\n"
     ]
    },
    {
     "name": "stderr",
     "output_type": "stream",
     "text": [
      "Save features: 3.68 seconds\n",
      "locate patches: 0.03 seconds\n"
     ]
    },
    {
     "name": "stdout",
     "output_type": "stream",
     "text": [
      "1\n"
     ]
    },
    {
     "name": "stderr",
     "output_type": "stream",
     "text": [
      "Features for CHATM2, 275/CHATM2_slide92_2018_02_13-S1 does not exist.\n",
      "No pre-computed features found... computing from scratch.\n",
      "Not using image_cache.\n"
     ]
    },
    {
     "name": "stdout",
     "output_type": "stream",
     "text": [
      "/data/CSHL_data_processed/CHATM2/CHATM2_prep2_raw_NtbNormalizedAdaptiveInvertedGamma/CHATM2_slide92_2018_02_13-S1_prep2_raw_NtbNormalizedAdaptiveInvertedGamma.tif\n"
     ]
    },
    {
     "name": "stderr",
     "output_type": "stream",
     "text": [
      "Load image: 1.75 seconds.\n",
      "Rescale image from 317 to 224: 2.82 seconds.\n",
      "Crop patches: 0.61 seconds.\n",
      "Extract patches: 5.19 seconds\n"
     ]
    },
    {
     "name": "stdout",
     "output_type": "stream",
     "text": [
      "(30620, 1, 224, 224)\n"
     ]
    },
    {
     "name": "stderr",
     "output_type": "stream",
     "text": [
      "Compute features: 48.13 seconds\n",
      "Compute features at one section, multiple locations: 53.33 seconds\n"
     ]
    },
    {
     "name": "stdout",
     "output_type": "stream",
     "text": [
      "aws s3 cp \"/data/CSHL_patch_features/inception-bn-blue/CHATM2/CHATM2_prep2_none_win7/CHATM2_slide92_2018_02_13-S1_prep2_none_win7_inception-bn-blue_features.bp\" \"s3://mousebrainatlas-data/CSHL_patch_features/inception-bn-blue/CHATM2/CHATM2_prep2_none_win7/CHATM2_slide92_2018_02_13-S1_prep2_none_win7_inception-bn-blue_features.bp\"\n",
      "0\n",
      "aws s3 cp \"/data/CSHL_patch_features/inception-bn-blue/CHATM2/CHATM2_prep2_none_win7/CHATM2_slide92_2018_02_13-S1_prep2_none_win7_inception-bn-blue_locations.bp\" \"s3://mousebrainatlas-data/CSHL_patch_features/inception-bn-blue/CHATM2/CHATM2_prep2_none_win7/CHATM2_slide92_2018_02_13-S1_prep2_none_win7_inception-bn-blue_locations.bp\"\n",
      "0\n",
      "rm -rf \"/data/CSHL_patch_features/inception-bn-blue/CHATM2/CHATM2_prep2_none_win7/CHATM2_slide92_2018_02_13-S2_prep2_none_win7_inception-bn-blue_features.bp\" && mkdir -p \"/data/CSHL_patch_features/inception-bn-blue/CHATM2/CHATM2_prep2_none_win7\"\n",
      "0\n",
      "aws s3 cp \"s3://mousebrainatlas-data/CSHL_patch_features/inception-bn-blue/CHATM2/CHATM2_prep2_none_win7/CHATM2_slide92_2018_02_13-S2_prep2_none_win7_inception-bn-blue_features.bp\" \"/data/CSHL_patch_features/inception-bn-blue/CHATM2/CHATM2_prep2_none_win7/CHATM2_slide92_2018_02_13-S2_prep2_none_win7_inception-bn-blue_features.bp\"\n"
     ]
    },
    {
     "name": "stderr",
     "output_type": "stream",
     "text": [
      "Save features: 4.06 seconds\n",
      "locate patches: 0.09 seconds\n"
     ]
    },
    {
     "name": "stdout",
     "output_type": "stream",
     "text": [
      "1\n"
     ]
    },
    {
     "name": "stderr",
     "output_type": "stream",
     "text": [
      "Features for CHATM2, 277/CHATM2_slide92_2018_02_13-S2 does not exist.\n",
      "No pre-computed features found... computing from scratch.\n",
      "Not using image_cache.\n"
     ]
    },
    {
     "name": "stdout",
     "output_type": "stream",
     "text": [
      "/data/CSHL_data_processed/CHATM2/CHATM2_prep2_raw_NtbNormalizedAdaptiveInvertedGamma/CHATM2_slide92_2018_02_13-S2_prep2_raw_NtbNormalizedAdaptiveInvertedGamma.tif\n"
     ]
    },
    {
     "name": "stderr",
     "output_type": "stream",
     "text": [
      "Load image: 5.54 seconds.\n",
      "Rescale image from 317 to 224: 5.14 seconds.\n",
      "Crop patches: 1.06 seconds.\n",
      "Extract patches: 11.77 seconds\n"
     ]
    },
    {
     "name": "stdout",
     "output_type": "stream",
     "text": [
      "(30544, 1, 224, 224)\n"
     ]
    },
    {
     "name": "stderr",
     "output_type": "stream",
     "text": [
      "Compute features: 49.43 seconds\n",
      "Compute features at one section, multiple locations: 61.21 seconds\n"
     ]
    },
    {
     "name": "stdout",
     "output_type": "stream",
     "text": [
      "aws s3 cp \"/data/CSHL_patch_features/inception-bn-blue/CHATM2/CHATM2_prep2_none_win7/CHATM2_slide92_2018_02_13-S2_prep2_none_win7_inception-bn-blue_features.bp\" \"s3://mousebrainatlas-data/CSHL_patch_features/inception-bn-blue/CHATM2/CHATM2_prep2_none_win7/CHATM2_slide92_2018_02_13-S2_prep2_none_win7_inception-bn-blue_features.bp\"\n",
      "0\n",
      "aws s3 cp \"/data/CSHL_patch_features/inception-bn-blue/CHATM2/CHATM2_prep2_none_win7/CHATM2_slide92_2018_02_13-S2_prep2_none_win7_inception-bn-blue_locations.bp\" \"s3://mousebrainatlas-data/CSHL_patch_features/inception-bn-blue/CHATM2/CHATM2_prep2_none_win7/CHATM2_slide92_2018_02_13-S2_prep2_none_win7_inception-bn-blue_locations.bp\"\n",
      "0\n",
      "rm -rf \"/data/CSHL_patch_features/inception-bn-blue/CHATM2/CHATM2_prep2_none_win7/CHATM2_slide92_2018_02_13-S3_prep2_none_win7_inception-bn-blue_features.bp\" && mkdir -p \"/data/CSHL_patch_features/inception-bn-blue/CHATM2/CHATM2_prep2_none_win7\"\n",
      "0\n",
      "aws s3 cp \"s3://mousebrainatlas-data/CSHL_patch_features/inception-bn-blue/CHATM2/CHATM2_prep2_none_win7/CHATM2_slide92_2018_02_13-S3_prep2_none_win7_inception-bn-blue_features.bp\" \"/data/CSHL_patch_features/inception-bn-blue/CHATM2/CHATM2_prep2_none_win7/CHATM2_slide92_2018_02_13-S3_prep2_none_win7_inception-bn-blue_features.bp\"\n"
     ]
    },
    {
     "name": "stderr",
     "output_type": "stream",
     "text": [
      "Save features: 3.67 seconds\n",
      "locate patches: 0.03 seconds\n"
     ]
    },
    {
     "name": "stdout",
     "output_type": "stream",
     "text": [
      "1\n"
     ]
    },
    {
     "name": "stderr",
     "output_type": "stream",
     "text": [
      "Features for CHATM2, 279/CHATM2_slide92_2018_02_13-S3 does not exist.\n",
      "No pre-computed features found... computing from scratch.\n",
      "Not using image_cache.\n"
     ]
    },
    {
     "name": "stdout",
     "output_type": "stream",
     "text": [
      "/data/CSHL_data_processed/CHATM2/CHATM2_prep2_raw_NtbNormalizedAdaptiveInvertedGamma/CHATM2_slide92_2018_02_13-S3_prep2_raw_NtbNormalizedAdaptiveInvertedGamma.tif\n"
     ]
    },
    {
     "name": "stderr",
     "output_type": "stream",
     "text": [
      "Load image: 4.38 seconds.\n",
      "Rescale image from 317 to 224: 3.01 seconds.\n",
      "Crop patches: 0.69 seconds.\n",
      "Extract patches: 8.10 seconds\n"
     ]
    },
    {
     "name": "stdout",
     "output_type": "stream",
     "text": [
      "(30218, 1, 224, 224)\n"
     ]
    },
    {
     "name": "stderr",
     "output_type": "stream",
     "text": [
      "Compute features: 47.90 seconds\n",
      "Compute features at one section, multiple locations: 56.02 seconds\n"
     ]
    },
    {
     "name": "stdout",
     "output_type": "stream",
     "text": [
      "aws s3 cp \"/data/CSHL_patch_features/inception-bn-blue/CHATM2/CHATM2_prep2_none_win7/CHATM2_slide92_2018_02_13-S3_prep2_none_win7_inception-bn-blue_features.bp\" \"s3://mousebrainatlas-data/CSHL_patch_features/inception-bn-blue/CHATM2/CHATM2_prep2_none_win7/CHATM2_slide92_2018_02_13-S3_prep2_none_win7_inception-bn-blue_features.bp\"\n",
      "0\n",
      "aws s3 cp \"/data/CSHL_patch_features/inception-bn-blue/CHATM2/CHATM2_prep2_none_win7/CHATM2_slide92_2018_02_13-S3_prep2_none_win7_inception-bn-blue_locations.bp\" \"s3://mousebrainatlas-data/CSHL_patch_features/inception-bn-blue/CHATM2/CHATM2_prep2_none_win7/CHATM2_slide92_2018_02_13-S3_prep2_none_win7_inception-bn-blue_locations.bp\"\n",
      "0\n",
      "rm -rf \"/data/CSHL_patch_features/inception-bn-blue/CHATM2/CHATM2_prep2_none_win7/CHATM2_slide94_2018_02_13-S1_prep2_none_win7_inception-bn-blue_features.bp\" && mkdir -p \"/data/CSHL_patch_features/inception-bn-blue/CHATM2/CHATM2_prep2_none_win7\"\n",
      "0\n",
      "aws s3 cp \"s3://mousebrainatlas-data/CSHL_patch_features/inception-bn-blue/CHATM2/CHATM2_prep2_none_win7/CHATM2_slide94_2018_02_13-S1_prep2_none_win7_inception-bn-blue_features.bp\" \"/data/CSHL_patch_features/inception-bn-blue/CHATM2/CHATM2_prep2_none_win7/CHATM2_slide94_2018_02_13-S1_prep2_none_win7_inception-bn-blue_features.bp\"\n"
     ]
    },
    {
     "name": "stderr",
     "output_type": "stream",
     "text": [
      "Save features: 4.13 seconds\n",
      "locate patches: 0.07 seconds\n"
     ]
    },
    {
     "name": "stdout",
     "output_type": "stream",
     "text": [
      "1\n"
     ]
    },
    {
     "name": "stderr",
     "output_type": "stream",
     "text": [
      "Features for CHATM2, 281/CHATM2_slide94_2018_02_13-S1 does not exist.\n",
      "No pre-computed features found... computing from scratch.\n",
      "Not using image_cache.\n"
     ]
    },
    {
     "name": "stdout",
     "output_type": "stream",
     "text": [
      "/data/CSHL_data_processed/CHATM2/CHATM2_prep2_raw_NtbNormalizedAdaptiveInvertedGamma/CHATM2_slide94_2018_02_13-S1_prep2_raw_NtbNormalizedAdaptiveInvertedGamma.tif\n"
     ]
    },
    {
     "name": "stderr",
     "output_type": "stream",
     "text": [
      "Load image: 5.66 seconds.\n",
      "Rescale image from 317 to 224: 5.13 seconds.\n",
      "Crop patches: 1.04 seconds.\n",
      "Extract patches: 11.86 seconds\n"
     ]
    },
    {
     "name": "stdout",
     "output_type": "stream",
     "text": [
      "(30196, 1, 224, 224)\n"
     ]
    },
    {
     "name": "stderr",
     "output_type": "stream",
     "text": [
      "Compute features: 49.06 seconds\n",
      "Compute features at one section, multiple locations: 60.93 seconds\n"
     ]
    },
    {
     "name": "stdout",
     "output_type": "stream",
     "text": [
      "aws s3 cp \"/data/CSHL_patch_features/inception-bn-blue/CHATM2/CHATM2_prep2_none_win7/CHATM2_slide94_2018_02_13-S1_prep2_none_win7_inception-bn-blue_features.bp\" \"s3://mousebrainatlas-data/CSHL_patch_features/inception-bn-blue/CHATM2/CHATM2_prep2_none_win7/CHATM2_slide94_2018_02_13-S1_prep2_none_win7_inception-bn-blue_features.bp\"\n",
      "0\n",
      "aws s3 cp \"/data/CSHL_patch_features/inception-bn-blue/CHATM2/CHATM2_prep2_none_win7/CHATM2_slide94_2018_02_13-S1_prep2_none_win7_inception-bn-blue_locations.bp\" \"s3://mousebrainatlas-data/CSHL_patch_features/inception-bn-blue/CHATM2/CHATM2_prep2_none_win7/CHATM2_slide94_2018_02_13-S1_prep2_none_win7_inception-bn-blue_locations.bp\"\n",
      "0\n",
      "rm -rf \"/data/CSHL_patch_features/inception-bn-blue/CHATM2/CHATM2_prep2_none_win7/CHATM2_slide94_2018_02_13-S2_prep2_none_win7_inception-bn-blue_features.bp\" && mkdir -p \"/data/CSHL_patch_features/inception-bn-blue/CHATM2/CHATM2_prep2_none_win7\"\n",
      "0\n",
      "aws s3 cp \"s3://mousebrainatlas-data/CSHL_patch_features/inception-bn-blue/CHATM2/CHATM2_prep2_none_win7/CHATM2_slide94_2018_02_13-S2_prep2_none_win7_inception-bn-blue_features.bp\" \"/data/CSHL_patch_features/inception-bn-blue/CHATM2/CHATM2_prep2_none_win7/CHATM2_slide94_2018_02_13-S2_prep2_none_win7_inception-bn-blue_features.bp\"\n"
     ]
    },
    {
     "name": "stderr",
     "output_type": "stream",
     "text": [
      "Save features: 3.89 seconds\n",
      "locate patches: 0.03 seconds\n"
     ]
    },
    {
     "name": "stdout",
     "output_type": "stream",
     "text": [
      "1\n"
     ]
    },
    {
     "name": "stderr",
     "output_type": "stream",
     "text": [
      "Features for CHATM2, 283/CHATM2_slide94_2018_02_13-S2 does not exist.\n",
      "No pre-computed features found... computing from scratch.\n",
      "Not using image_cache.\n"
     ]
    },
    {
     "name": "stdout",
     "output_type": "stream",
     "text": [
      "/data/CSHL_data_processed/CHATM2/CHATM2_prep2_raw_NtbNormalizedAdaptiveInvertedGamma/CHATM2_slide94_2018_02_13-S2_prep2_raw_NtbNormalizedAdaptiveInvertedGamma.tif\n"
     ]
    },
    {
     "name": "stderr",
     "output_type": "stream",
     "text": [
      "Load image: 4.85 seconds.\n",
      "Rescale image from 317 to 224: 2.84 seconds.\n",
      "Crop patches: 0.61 seconds.\n",
      "Extract patches: 8.32 seconds\n"
     ]
    },
    {
     "name": "stdout",
     "output_type": "stream",
     "text": [
      "(29742, 1, 224, 224)\n"
     ]
    },
    {
     "name": "stderr",
     "output_type": "stream",
     "text": [
      "Compute features: 47.03 seconds\n",
      "Compute features at one section, multiple locations: 55.36 seconds\n"
     ]
    },
    {
     "name": "stdout",
     "output_type": "stream",
     "text": [
      "aws s3 cp \"/data/CSHL_patch_features/inception-bn-blue/CHATM2/CHATM2_prep2_none_win7/CHATM2_slide94_2018_02_13-S2_prep2_none_win7_inception-bn-blue_features.bp\" \"s3://mousebrainatlas-data/CSHL_patch_features/inception-bn-blue/CHATM2/CHATM2_prep2_none_win7/CHATM2_slide94_2018_02_13-S2_prep2_none_win7_inception-bn-blue_features.bp\"\n",
      "0\n",
      "aws s3 cp \"/data/CSHL_patch_features/inception-bn-blue/CHATM2/CHATM2_prep2_none_win7/CHATM2_slide94_2018_02_13-S2_prep2_none_win7_inception-bn-blue_locations.bp\" \"s3://mousebrainatlas-data/CSHL_patch_features/inception-bn-blue/CHATM2/CHATM2_prep2_none_win7/CHATM2_slide94_2018_02_13-S2_prep2_none_win7_inception-bn-blue_locations.bp\"\n",
      "0\n",
      "rm -rf \"/data/CSHL_patch_features/inception-bn-blue/CHATM2/CHATM2_prep2_none_win7/CHATM2_slide94_2018_02_13-S3_prep2_none_win7_inception-bn-blue_features.bp\" && mkdir -p \"/data/CSHL_patch_features/inception-bn-blue/CHATM2/CHATM2_prep2_none_win7\"\n",
      "0\n",
      "aws s3 cp \"s3://mousebrainatlas-data/CSHL_patch_features/inception-bn-blue/CHATM2/CHATM2_prep2_none_win7/CHATM2_slide94_2018_02_13-S3_prep2_none_win7_inception-bn-blue_features.bp\" \"/data/CSHL_patch_features/inception-bn-blue/CHATM2/CHATM2_prep2_none_win7/CHATM2_slide94_2018_02_13-S3_prep2_none_win7_inception-bn-blue_features.bp\"\n"
     ]
    },
    {
     "name": "stderr",
     "output_type": "stream",
     "text": [
      "Save features: 4.19 seconds\n",
      "locate patches: 0.07 seconds\n"
     ]
    },
    {
     "name": "stdout",
     "output_type": "stream",
     "text": [
      "1\n"
     ]
    },
    {
     "name": "stderr",
     "output_type": "stream",
     "text": [
      "Features for CHATM2, 285/CHATM2_slide94_2018_02_13-S3 does not exist.\n",
      "No pre-computed features found... computing from scratch.\n",
      "Not using image_cache.\n"
     ]
    },
    {
     "name": "stdout",
     "output_type": "stream",
     "text": [
      "/data/CSHL_data_processed/CHATM2/CHATM2_prep2_raw_NtbNormalizedAdaptiveInvertedGamma/CHATM2_slide94_2018_02_13-S3_prep2_raw_NtbNormalizedAdaptiveInvertedGamma.tif\n"
     ]
    },
    {
     "name": "stderr",
     "output_type": "stream",
     "text": [
      "Load image: 4.64 seconds.\n",
      "Rescale image from 317 to 224: 4.90 seconds.\n",
      "Crop patches: 0.99 seconds.\n",
      "Extract patches: 10.56 seconds\n"
     ]
    },
    {
     "name": "stdout",
     "output_type": "stream",
     "text": [
      "(29326, 1, 224, 224)\n"
     ]
    },
    {
     "name": "stderr",
     "output_type": "stream",
     "text": [
      "Compute features: 47.73 seconds\n",
      "Compute features at one section, multiple locations: 58.30 seconds\n"
     ]
    },
    {
     "name": "stdout",
     "output_type": "stream",
     "text": [
      "aws s3 cp \"/data/CSHL_patch_features/inception-bn-blue/CHATM2/CHATM2_prep2_none_win7/CHATM2_slide94_2018_02_13-S3_prep2_none_win7_inception-bn-blue_features.bp\" \"s3://mousebrainatlas-data/CSHL_patch_features/inception-bn-blue/CHATM2/CHATM2_prep2_none_win7/CHATM2_slide94_2018_02_13-S3_prep2_none_win7_inception-bn-blue_features.bp\"\n",
      "0\n",
      "aws s3 cp \"/data/CSHL_patch_features/inception-bn-blue/CHATM2/CHATM2_prep2_none_win7/CHATM2_slide94_2018_02_13-S3_prep2_none_win7_inception-bn-blue_locations.bp\" \"s3://mousebrainatlas-data/CSHL_patch_features/inception-bn-blue/CHATM2/CHATM2_prep2_none_win7/CHATM2_slide94_2018_02_13-S3_prep2_none_win7_inception-bn-blue_locations.bp\"\n",
      "0\n",
      "rm -rf \"/data/CSHL_patch_features/inception-bn-blue/CHATM2/CHATM2_prep2_none_win7/CHATM2_slide96_2018_02_13-S1_prep2_none_win7_inception-bn-blue_features.bp\" && mkdir -p \"/data/CSHL_patch_features/inception-bn-blue/CHATM2/CHATM2_prep2_none_win7\"\n",
      "0\n",
      "aws s3 cp \"s3://mousebrainatlas-data/CSHL_patch_features/inception-bn-blue/CHATM2/CHATM2_prep2_none_win7/CHATM2_slide96_2018_02_13-S1_prep2_none_win7_inception-bn-blue_features.bp\" \"/data/CSHL_patch_features/inception-bn-blue/CHATM2/CHATM2_prep2_none_win7/CHATM2_slide96_2018_02_13-S1_prep2_none_win7_inception-bn-blue_features.bp\"\n"
     ]
    },
    {
     "name": "stderr",
     "output_type": "stream",
     "text": [
      "Save features: 5.04 seconds\n",
      "locate patches: 0.06 seconds\n"
     ]
    },
    {
     "name": "stdout",
     "output_type": "stream",
     "text": [
      "1\n"
     ]
    },
    {
     "name": "stderr",
     "output_type": "stream",
     "text": [
      "Features for CHATM2, 287/CHATM2_slide96_2018_02_13-S1 does not exist.\n",
      "No pre-computed features found... computing from scratch.\n",
      "Not using image_cache.\n"
     ]
    },
    {
     "name": "stdout",
     "output_type": "stream",
     "text": [
      "/data/CSHL_data_processed/CHATM2/CHATM2_prep2_raw_NtbNormalizedAdaptiveInvertedGamma/CHATM2_slide96_2018_02_13-S1_prep2_raw_NtbNormalizedAdaptiveInvertedGamma.tif\n"
     ]
    },
    {
     "name": "stderr",
     "output_type": "stream",
     "text": [
      "Load image: 4.07 seconds.\n",
      "Rescale image from 317 to 224: 3.31 seconds.\n",
      "Crop patches: 0.64 seconds.\n",
      "Extract patches: 8.03 seconds\n"
     ]
    },
    {
     "name": "stdout",
     "output_type": "stream",
     "text": [
      "(29073, 1, 224, 224)\n"
     ]
    },
    {
     "name": "stderr",
     "output_type": "stream",
     "text": [
      "Compute features: 46.48 seconds\n",
      "Compute features at one section, multiple locations: 54.53 seconds\n"
     ]
    },
    {
     "name": "stdout",
     "output_type": "stream",
     "text": [
      "aws s3 cp \"/data/CSHL_patch_features/inception-bn-blue/CHATM2/CHATM2_prep2_none_win7/CHATM2_slide96_2018_02_13-S1_prep2_none_win7_inception-bn-blue_features.bp\" \"s3://mousebrainatlas-data/CSHL_patch_features/inception-bn-blue/CHATM2/CHATM2_prep2_none_win7/CHATM2_slide96_2018_02_13-S1_prep2_none_win7_inception-bn-blue_features.bp\"\n",
      "0\n",
      "aws s3 cp \"/data/CSHL_patch_features/inception-bn-blue/CHATM2/CHATM2_prep2_none_win7/CHATM2_slide96_2018_02_13-S1_prep2_none_win7_inception-bn-blue_locations.bp\" \"s3://mousebrainatlas-data/CSHL_patch_features/inception-bn-blue/CHATM2/CHATM2_prep2_none_win7/CHATM2_slide96_2018_02_13-S1_prep2_none_win7_inception-bn-blue_locations.bp\"\n",
      "0\n",
      "rm -rf \"/data/CSHL_patch_features/inception-bn-blue/CHATM2/CHATM2_prep2_none_win7/CHATM2_slide96_2018_02_13-S2_prep2_none_win7_inception-bn-blue_features.bp\" && mkdir -p \"/data/CSHL_patch_features/inception-bn-blue/CHATM2/CHATM2_prep2_none_win7\"\n"
     ]
    },
    {
     "name": "stderr",
     "output_type": "stream",
     "text": [
      "Save features: 4.51 seconds\n",
      "locate patches: 0.08 seconds\n"
     ]
    },
    {
     "name": "stdout",
     "output_type": "stream",
     "text": [
      "0\n",
      "aws s3 cp \"s3://mousebrainatlas-data/CSHL_patch_features/inception-bn-blue/CHATM2/CHATM2_prep2_none_win7/CHATM2_slide96_2018_02_13-S2_prep2_none_win7_inception-bn-blue_features.bp\" \"/data/CSHL_patch_features/inception-bn-blue/CHATM2/CHATM2_prep2_none_win7/CHATM2_slide96_2018_02_13-S2_prep2_none_win7_inception-bn-blue_features.bp\"\n",
      "1\n"
     ]
    },
    {
     "name": "stderr",
     "output_type": "stream",
     "text": [
      "Features for CHATM2, 289/CHATM2_slide96_2018_02_13-S2 does not exist.\n",
      "No pre-computed features found... computing from scratch.\n",
      "Not using image_cache.\n"
     ]
    },
    {
     "name": "stdout",
     "output_type": "stream",
     "text": [
      "/data/CSHL_data_processed/CHATM2/CHATM2_prep2_raw_NtbNormalizedAdaptiveInvertedGamma/CHATM2_slide96_2018_02_13-S2_prep2_raw_NtbNormalizedAdaptiveInvertedGamma.tif\n"
     ]
    },
    {
     "name": "stderr",
     "output_type": "stream",
     "text": [
      "Load image: 4.80 seconds.\n",
      "Rescale image from 317 to 224: 5.90 seconds.\n",
      "Crop patches: 1.29 seconds.\n",
      "Extract patches: 12.01 seconds\n"
     ]
    },
    {
     "name": "stdout",
     "output_type": "stream",
     "text": [
      "(28622, 1, 224, 224)\n"
     ]
    },
    {
     "name": "stderr",
     "output_type": "stream",
     "text": [
      "Compute features: 48.13 seconds\n",
      "Compute features at one section, multiple locations: 60.16 seconds\n"
     ]
    },
    {
     "name": "stdout",
     "output_type": "stream",
     "text": [
      "aws s3 cp \"/data/CSHL_patch_features/inception-bn-blue/CHATM2/CHATM2_prep2_none_win7/CHATM2_slide96_2018_02_13-S2_prep2_none_win7_inception-bn-blue_features.bp\" \"s3://mousebrainatlas-data/CSHL_patch_features/inception-bn-blue/CHATM2/CHATM2_prep2_none_win7/CHATM2_slide96_2018_02_13-S2_prep2_none_win7_inception-bn-blue_features.bp\"\n",
      "0\n",
      "aws s3 cp \"/data/CSHL_patch_features/inception-bn-blue/CHATM2/CHATM2_prep2_none_win7/CHATM2_slide96_2018_02_13-S2_prep2_none_win7_inception-bn-blue_locations.bp\" \"s3://mousebrainatlas-data/CSHL_patch_features/inception-bn-blue/CHATM2/CHATM2_prep2_none_win7/CHATM2_slide96_2018_02_13-S2_prep2_none_win7_inception-bn-blue_locations.bp\"\n",
      "0\n",
      "rm -rf \"/data/CSHL_patch_features/inception-bn-blue/CHATM2/CHATM2_prep2_none_win7/CHATM2_slide96_2018_02_13-S3_prep2_none_win7_inception-bn-blue_features.bp\" && mkdir -p \"/data/CSHL_patch_features/inception-bn-blue/CHATM2/CHATM2_prep2_none_win7\"\n",
      "0\n",
      "aws s3 cp \"s3://mousebrainatlas-data/CSHL_patch_features/inception-bn-blue/CHATM2/CHATM2_prep2_none_win7/CHATM2_slide96_2018_02_13-S3_prep2_none_win7_inception-bn-blue_features.bp\" \"/data/CSHL_patch_features/inception-bn-blue/CHATM2/CHATM2_prep2_none_win7/CHATM2_slide96_2018_02_13-S3_prep2_none_win7_inception-bn-blue_features.bp\"\n"
     ]
    },
    {
     "name": "stderr",
     "output_type": "stream",
     "text": [
      "Save features: 3.86 seconds\n",
      "locate patches: 0.05 seconds\n"
     ]
    },
    {
     "name": "stdout",
     "output_type": "stream",
     "text": [
      "1\n"
     ]
    },
    {
     "name": "stderr",
     "output_type": "stream",
     "text": [
      "Features for CHATM2, 291/CHATM2_slide96_2018_02_13-S3 does not exist.\n",
      "No pre-computed features found... computing from scratch.\n",
      "Not using image_cache.\n"
     ]
    },
    {
     "name": "stdout",
     "output_type": "stream",
     "text": [
      "/data/CSHL_data_processed/CHATM2/CHATM2_prep2_raw_NtbNormalizedAdaptiveInvertedGamma/CHATM2_slide96_2018_02_13-S3_prep2_raw_NtbNormalizedAdaptiveInvertedGamma.tif\n"
     ]
    },
    {
     "name": "stderr",
     "output_type": "stream",
     "text": [
      "Load image: 4.58 seconds.\n",
      "Rescale image from 317 to 224: 4.24 seconds.\n",
      "Crop patches: 0.66 seconds.\n",
      "Extract patches: 9.49 seconds\n"
     ]
    },
    {
     "name": "stdout",
     "output_type": "stream",
     "text": [
      "(28251, 1, 224, 224)\n"
     ]
    },
    {
     "name": "stderr",
     "output_type": "stream",
     "text": [
      "Compute features: 44.04 seconds\n",
      "Compute features at one section, multiple locations: 53.55 seconds\n"
     ]
    },
    {
     "name": "stdout",
     "output_type": "stream",
     "text": [
      "aws s3 cp \"/data/CSHL_patch_features/inception-bn-blue/CHATM2/CHATM2_prep2_none_win7/CHATM2_slide96_2018_02_13-S3_prep2_none_win7_inception-bn-blue_features.bp\" \"s3://mousebrainatlas-data/CSHL_patch_features/inception-bn-blue/CHATM2/CHATM2_prep2_none_win7/CHATM2_slide96_2018_02_13-S3_prep2_none_win7_inception-bn-blue_features.bp\"\n",
      "0\n",
      "aws s3 cp \"/data/CSHL_patch_features/inception-bn-blue/CHATM2/CHATM2_prep2_none_win7/CHATM2_slide96_2018_02_13-S3_prep2_none_win7_inception-bn-blue_locations.bp\" \"s3://mousebrainatlas-data/CSHL_patch_features/inception-bn-blue/CHATM2/CHATM2_prep2_none_win7/CHATM2_slide96_2018_02_13-S3_prep2_none_win7_inception-bn-blue_locations.bp\"\n",
      "0\n",
      "rm -rf \"/data/CSHL_patch_features/inception-bn-blue/CHATM2/CHATM2_prep2_none_win7/CHATM2_slide98_2018_02_13-S1_prep2_none_win7_inception-bn-blue_features.bp\" && mkdir -p \"/data/CSHL_patch_features/inception-bn-blue/CHATM2/CHATM2_prep2_none_win7\"\n"
     ]
    },
    {
     "name": "stderr",
     "output_type": "stream",
     "text": [
      "Save features: 5.09 seconds\n",
      "locate patches: 0.09 seconds\n"
     ]
    },
    {
     "name": "stdout",
     "output_type": "stream",
     "text": [
      "0\n",
      "aws s3 cp \"s3://mousebrainatlas-data/CSHL_patch_features/inception-bn-blue/CHATM2/CHATM2_prep2_none_win7/CHATM2_slide98_2018_02_13-S1_prep2_none_win7_inception-bn-blue_features.bp\" \"/data/CSHL_patch_features/inception-bn-blue/CHATM2/CHATM2_prep2_none_win7/CHATM2_slide98_2018_02_13-S1_prep2_none_win7_inception-bn-blue_features.bp\"\n",
      "1\n"
     ]
    },
    {
     "name": "stderr",
     "output_type": "stream",
     "text": [
      "Features for CHATM2, 293/CHATM2_slide98_2018_02_13-S1 does not exist.\n",
      "No pre-computed features found... computing from scratch.\n",
      "Not using image_cache.\n"
     ]
    },
    {
     "name": "stdout",
     "output_type": "stream",
     "text": [
      "/data/CSHL_data_processed/CHATM2/CHATM2_prep2_raw_NtbNormalizedAdaptiveInvertedGamma/CHATM2_slide98_2018_02_13-S1_prep2_raw_NtbNormalizedAdaptiveInvertedGamma.tif\n"
     ]
    },
    {
     "name": "stderr",
     "output_type": "stream",
     "text": [
      "Load image: 6.16 seconds.\n",
      "Rescale image from 317 to 224: 5.77 seconds.\n",
      "Crop patches: 1.07 seconds.\n",
      "Extract patches: 13.03 seconds\n"
     ]
    },
    {
     "name": "stdout",
     "output_type": "stream",
     "text": [
      "(27341, 1, 224, 224)\n"
     ]
    },
    {
     "name": "stderr",
     "output_type": "stream",
     "text": [
      "Compute features: 50.81 seconds\n",
      "Compute features at one section, multiple locations: 63.86 seconds\n"
     ]
    },
    {
     "name": "stdout",
     "output_type": "stream",
     "text": [
      "aws s3 cp \"/data/CSHL_patch_features/inception-bn-blue/CHATM2/CHATM2_prep2_none_win7/CHATM2_slide98_2018_02_13-S1_prep2_none_win7_inception-bn-blue_features.bp\" \"s3://mousebrainatlas-data/CSHL_patch_features/inception-bn-blue/CHATM2/CHATM2_prep2_none_win7/CHATM2_slide98_2018_02_13-S1_prep2_none_win7_inception-bn-blue_features.bp\"\n",
      "0\n",
      "aws s3 cp \"/data/CSHL_patch_features/inception-bn-blue/CHATM2/CHATM2_prep2_none_win7/CHATM2_slide98_2018_02_13-S1_prep2_none_win7_inception-bn-blue_locations.bp\" \"s3://mousebrainatlas-data/CSHL_patch_features/inception-bn-blue/CHATM2/CHATM2_prep2_none_win7/CHATM2_slide98_2018_02_13-S1_prep2_none_win7_inception-bn-blue_locations.bp\"\n",
      "0\n",
      "rm -rf \"/data/CSHL_patch_features/inception-bn-blue/CHATM2/CHATM2_prep2_none_win7/CHATM2_slide98_2018_02_13-S2_prep2_none_win7_inception-bn-blue_features.bp\" && mkdir -p \"/data/CSHL_patch_features/inception-bn-blue/CHATM2/CHATM2_prep2_none_win7\"\n",
      "0\n",
      "aws s3 cp \"s3://mousebrainatlas-data/CSHL_patch_features/inception-bn-blue/CHATM2/CHATM2_prep2_none_win7/CHATM2_slide98_2018_02_13-S2_prep2_none_win7_inception-bn-blue_features.bp\" \"/data/CSHL_patch_features/inception-bn-blue/CHATM2/CHATM2_prep2_none_win7/CHATM2_slide98_2018_02_13-S2_prep2_none_win7_inception-bn-blue_features.bp\"\n"
     ]
    },
    {
     "name": "stderr",
     "output_type": "stream",
     "text": [
      "Save features: 3.04 seconds\n",
      "locate patches: 0.03 seconds\n"
     ]
    },
    {
     "name": "stdout",
     "output_type": "stream",
     "text": [
      "1\n"
     ]
    },
    {
     "name": "stderr",
     "output_type": "stream",
     "text": [
      "Features for CHATM2, 295/CHATM2_slide98_2018_02_13-S2 does not exist.\n",
      "No pre-computed features found... computing from scratch.\n",
      "Not using image_cache.\n"
     ]
    },
    {
     "name": "stdout",
     "output_type": "stream",
     "text": [
      "/data/CSHL_data_processed/CHATM2/CHATM2_prep2_raw_NtbNormalizedAdaptiveInvertedGamma/CHATM2_slide98_2018_02_13-S2_prep2_raw_NtbNormalizedAdaptiveInvertedGamma.tif\n"
     ]
    },
    {
     "name": "stderr",
     "output_type": "stream",
     "text": [
      "Load image: 2.12 seconds.\n",
      "Rescale image from 317 to 224: 4.30 seconds.\n",
      "Crop patches: 0.60 seconds.\n",
      "Extract patches: 7.03 seconds\n"
     ]
    },
    {
     "name": "stdout",
     "output_type": "stream",
     "text": [
      "(27590, 1, 224, 224)\n"
     ]
    },
    {
     "name": "stderr",
     "output_type": "stream",
     "text": [
      "Compute features: 44.78 seconds\n",
      "Compute features at one section, multiple locations: 51.82 seconds\n"
     ]
    },
    {
     "name": "stdout",
     "output_type": "stream",
     "text": [
      "aws s3 cp \"/data/CSHL_patch_features/inception-bn-blue/CHATM2/CHATM2_prep2_none_win7/CHATM2_slide98_2018_02_13-S2_prep2_none_win7_inception-bn-blue_features.bp\" \"s3://mousebrainatlas-data/CSHL_patch_features/inception-bn-blue/CHATM2/CHATM2_prep2_none_win7/CHATM2_slide98_2018_02_13-S2_prep2_none_win7_inception-bn-blue_features.bp\"\n",
      "0\n",
      "aws s3 cp \"/data/CSHL_patch_features/inception-bn-blue/CHATM2/CHATM2_prep2_none_win7/CHATM2_slide98_2018_02_13-S2_prep2_none_win7_inception-bn-blue_locations.bp\" \"s3://mousebrainatlas-data/CSHL_patch_features/inception-bn-blue/CHATM2/CHATM2_prep2_none_win7/CHATM2_slide98_2018_02_13-S2_prep2_none_win7_inception-bn-blue_locations.bp\"\n",
      "0\n",
      "rm -rf \"/data/CSHL_patch_features/inception-bn-blue/CHATM2/CHATM2_prep2_none_win7/CHATM2_slide98_2018_02_13-S3_prep2_none_win7_inception-bn-blue_features.bp\" && mkdir -p \"/data/CSHL_patch_features/inception-bn-blue/CHATM2/CHATM2_prep2_none_win7\"\n",
      "0\n",
      "aws s3 cp \"s3://mousebrainatlas-data/CSHL_patch_features/inception-bn-blue/CHATM2/CHATM2_prep2_none_win7/CHATM2_slide98_2018_02_13-S3_prep2_none_win7_inception-bn-blue_features.bp\" \"/data/CSHL_patch_features/inception-bn-blue/CHATM2/CHATM2_prep2_none_win7/CHATM2_slide98_2018_02_13-S3_prep2_none_win7_inception-bn-blue_features.bp\"\n"
     ]
    },
    {
     "name": "stderr",
     "output_type": "stream",
     "text": [
      "Save features: 4.34 seconds\n",
      "locate patches: 0.05 seconds\n"
     ]
    },
    {
     "name": "stdout",
     "output_type": "stream",
     "text": [
      "1\n"
     ]
    },
    {
     "name": "stderr",
     "output_type": "stream",
     "text": [
      "Features for CHATM2, 297/CHATM2_slide98_2018_02_13-S3 does not exist.\n",
      "No pre-computed features found... computing from scratch.\n",
      "Not using image_cache.\n"
     ]
    },
    {
     "name": "stdout",
     "output_type": "stream",
     "text": [
      "/data/CSHL_data_processed/CHATM2/CHATM2_prep2_raw_NtbNormalizedAdaptiveInvertedGamma/CHATM2_slide98_2018_02_13-S3_prep2_raw_NtbNormalizedAdaptiveInvertedGamma.tif\n"
     ]
    },
    {
     "name": "stderr",
     "output_type": "stream",
     "text": [
      "Load image: 5.05 seconds.\n",
      "Rescale image from 317 to 224: 5.35 seconds.\n",
      "Crop patches: 1.07 seconds.\n",
      "Extract patches: 11.54 seconds\n"
     ]
    },
    {
     "name": "stdout",
     "output_type": "stream",
     "text": [
      "(27093, 1, 224, 224)\n"
     ]
    },
    {
     "name": "stderr",
     "output_type": "stream",
     "text": [
      "Compute features: 47.86 seconds\n",
      "Compute features at one section, multiple locations: 59.42 seconds\n"
     ]
    },
    {
     "name": "stdout",
     "output_type": "stream",
     "text": [
      "aws s3 cp \"/data/CSHL_patch_features/inception-bn-blue/CHATM2/CHATM2_prep2_none_win7/CHATM2_slide98_2018_02_13-S3_prep2_none_win7_inception-bn-blue_features.bp\" \"s3://mousebrainatlas-data/CSHL_patch_features/inception-bn-blue/CHATM2/CHATM2_prep2_none_win7/CHATM2_slide98_2018_02_13-S3_prep2_none_win7_inception-bn-blue_features.bp\"\n",
      "0\n",
      "aws s3 cp \"/data/CSHL_patch_features/inception-bn-blue/CHATM2/CHATM2_prep2_none_win7/CHATM2_slide98_2018_02_13-S3_prep2_none_win7_inception-bn-blue_locations.bp\" \"s3://mousebrainatlas-data/CSHL_patch_features/inception-bn-blue/CHATM2/CHATM2_prep2_none_win7/CHATM2_slide98_2018_02_13-S3_prep2_none_win7_inception-bn-blue_locations.bp\"\n",
      "0\n",
      "rm -rf \"/data/CSHL_patch_features/inception-bn-blue/CHATM2/CHATM2_prep2_none_win7/CHATM2_slide100_2018_02_13-S1_prep2_none_win7_inception-bn-blue_features.bp\" && mkdir -p \"/data/CSHL_patch_features/inception-bn-blue/CHATM2/CHATM2_prep2_none_win7\"\n",
      "0\n",
      "aws s3 cp \"s3://mousebrainatlas-data/CSHL_patch_features/inception-bn-blue/CHATM2/CHATM2_prep2_none_win7/CHATM2_slide100_2018_02_13-S1_prep2_none_win7_inception-bn-blue_features.bp\" \"/data/CSHL_patch_features/inception-bn-blue/CHATM2/CHATM2_prep2_none_win7/CHATM2_slide100_2018_02_13-S1_prep2_none_win7_inception-bn-blue_features.bp\"\n"
     ]
    },
    {
     "name": "stderr",
     "output_type": "stream",
     "text": [
      "Save features: 3.06 seconds\n",
      "locate patches: 0.03 seconds\n"
     ]
    },
    {
     "name": "stdout",
     "output_type": "stream",
     "text": [
      "1\n"
     ]
    },
    {
     "name": "stderr",
     "output_type": "stream",
     "text": [
      "Features for CHATM2, 299/CHATM2_slide100_2018_02_13-S1 does not exist.\n",
      "No pre-computed features found... computing from scratch.\n",
      "Not using image_cache.\n"
     ]
    },
    {
     "name": "stdout",
     "output_type": "stream",
     "text": [
      "/data/CSHL_data_processed/CHATM2/CHATM2_prep2_raw_NtbNormalizedAdaptiveInvertedGamma/CHATM2_slide100_2018_02_13-S1_prep2_raw_NtbNormalizedAdaptiveInvertedGamma.tif\n"
     ]
    },
    {
     "name": "stderr",
     "output_type": "stream",
     "text": [
      "Load image: 4.89 seconds.\n",
      "Rescale image from 317 to 224: 2.89 seconds.\n",
      "Crop patches: 0.56 seconds.\n",
      "Extract patches: 8.35 seconds\n"
     ]
    },
    {
     "name": "stdout",
     "output_type": "stream",
     "text": [
      "(26753, 1, 224, 224)\n"
     ]
    },
    {
     "name": "stderr",
     "output_type": "stream",
     "text": [
      "Compute features: 43.79 seconds\n",
      "Compute features at one section, multiple locations: 52.16 seconds\n"
     ]
    },
    {
     "name": "stdout",
     "output_type": "stream",
     "text": [
      "aws s3 cp \"/data/CSHL_patch_features/inception-bn-blue/CHATM2/CHATM2_prep2_none_win7/CHATM2_slide100_2018_02_13-S1_prep2_none_win7_inception-bn-blue_features.bp\" \"s3://mousebrainatlas-data/CSHL_patch_features/inception-bn-blue/CHATM2/CHATM2_prep2_none_win7/CHATM2_slide100_2018_02_13-S1_prep2_none_win7_inception-bn-blue_features.bp\"\n",
      "0\n",
      "aws s3 cp \"/data/CSHL_patch_features/inception-bn-blue/CHATM2/CHATM2_prep2_none_win7/CHATM2_slide100_2018_02_13-S1_prep2_none_win7_inception-bn-blue_locations.bp\" \"s3://mousebrainatlas-data/CSHL_patch_features/inception-bn-blue/CHATM2/CHATM2_prep2_none_win7/CHATM2_slide100_2018_02_13-S1_prep2_none_win7_inception-bn-blue_locations.bp\"\n",
      "0\n",
      "rm -rf \"/data/CSHL_patch_features/inception-bn-blue/CHATM2/CHATM2_prep2_none_win7/CHATM2_slide100_2018_02_13-S2_prep2_none_win7_inception-bn-blue_features.bp\" && mkdir -p \"/data/CSHL_patch_features/inception-bn-blue/CHATM2/CHATM2_prep2_none_win7\"\n"
     ]
    },
    {
     "name": "stderr",
     "output_type": "stream",
     "text": [
      "Save features: 5.57 seconds\n",
      "locate patches: 0.08 seconds\n"
     ]
    },
    {
     "name": "stdout",
     "output_type": "stream",
     "text": [
      "0\n",
      "aws s3 cp \"s3://mousebrainatlas-data/CSHL_patch_features/inception-bn-blue/CHATM2/CHATM2_prep2_none_win7/CHATM2_slide100_2018_02_13-S2_prep2_none_win7_inception-bn-blue_features.bp\" \"/data/CSHL_patch_features/inception-bn-blue/CHATM2/CHATM2_prep2_none_win7/CHATM2_slide100_2018_02_13-S2_prep2_none_win7_inception-bn-blue_features.bp\"\n",
      "1\n"
     ]
    },
    {
     "name": "stderr",
     "output_type": "stream",
     "text": [
      "Features for CHATM2, 301/CHATM2_slide100_2018_02_13-S2 does not exist.\n",
      "No pre-computed features found... computing from scratch.\n",
      "Not using image_cache.\n"
     ]
    },
    {
     "name": "stdout",
     "output_type": "stream",
     "text": [
      "/data/CSHL_data_processed/CHATM2/CHATM2_prep2_raw_NtbNormalizedAdaptiveInvertedGamma/CHATM2_slide100_2018_02_13-S2_prep2_raw_NtbNormalizedAdaptiveInvertedGamma.tif\n"
     ]
    },
    {
     "name": "stderr",
     "output_type": "stream",
     "text": [
      "Load image: 6.00 seconds.\n",
      "Rescale image from 317 to 224: 5.88 seconds.\n",
      "Crop patches: 1.09 seconds.\n",
      "Extract patches: 13.00 seconds\n"
     ]
    },
    {
     "name": "stdout",
     "output_type": "stream",
     "text": [
      "(26379, 1, 224, 224)\n"
     ]
    },
    {
     "name": "stderr",
     "output_type": "stream",
     "text": [
      "Compute features: 47.38 seconds\n",
      "Compute features at one section, multiple locations: 60.39 seconds\n"
     ]
    },
    {
     "name": "stdout",
     "output_type": "stream",
     "text": [
      "aws s3 cp \"/data/CSHL_patch_features/inception-bn-blue/CHATM2/CHATM2_prep2_none_win7/CHATM2_slide100_2018_02_13-S2_prep2_none_win7_inception-bn-blue_features.bp\" \"s3://mousebrainatlas-data/CSHL_patch_features/inception-bn-blue/CHATM2/CHATM2_prep2_none_win7/CHATM2_slide100_2018_02_13-S2_prep2_none_win7_inception-bn-blue_features.bp\"\n",
      "0\n",
      "aws s3 cp \"/data/CSHL_patch_features/inception-bn-blue/CHATM2/CHATM2_prep2_none_win7/CHATM2_slide100_2018_02_13-S2_prep2_none_win7_inception-bn-blue_locations.bp\" \"s3://mousebrainatlas-data/CSHL_patch_features/inception-bn-blue/CHATM2/CHATM2_prep2_none_win7/CHATM2_slide100_2018_02_13-S2_prep2_none_win7_inception-bn-blue_locations.bp\"\n",
      "0\n",
      "rm -rf \"/data/CSHL_patch_features/inception-bn-blue/CHATM2/CHATM2_prep2_none_win7/CHATM2_slide100_2018_02_13-S3_prep2_none_win7_inception-bn-blue_features.bp\" && mkdir -p \"/data/CSHL_patch_features/inception-bn-blue/CHATM2/CHATM2_prep2_none_win7\"\n",
      "0\n",
      "aws s3 cp \"s3://mousebrainatlas-data/CSHL_patch_features/inception-bn-blue/CHATM2/CHATM2_prep2_none_win7/CHATM2_slide100_2018_02_13-S3_prep2_none_win7_inception-bn-blue_features.bp\" \"/data/CSHL_patch_features/inception-bn-blue/CHATM2/CHATM2_prep2_none_win7/CHATM2_slide100_2018_02_13-S3_prep2_none_win7_inception-bn-blue_features.bp\"\n"
     ]
    },
    {
     "name": "stderr",
     "output_type": "stream",
     "text": [
      "Save features: 3.17 seconds\n",
      "locate patches: 0.03 seconds\n"
     ]
    },
    {
     "name": "stdout",
     "output_type": "stream",
     "text": [
      "1\n"
     ]
    },
    {
     "name": "stderr",
     "output_type": "stream",
     "text": [
      "Features for CHATM2, 303/CHATM2_slide100_2018_02_13-S3 does not exist.\n",
      "No pre-computed features found... computing from scratch.\n",
      "Not using image_cache.\n"
     ]
    },
    {
     "name": "stdout",
     "output_type": "stream",
     "text": [
      "/data/CSHL_data_processed/CHATM2/CHATM2_prep2_raw_NtbNormalizedAdaptiveInvertedGamma/CHATM2_slide100_2018_02_13-S3_prep2_raw_NtbNormalizedAdaptiveInvertedGamma.tif\n"
     ]
    },
    {
     "name": "stderr",
     "output_type": "stream",
     "text": [
      "Load image: 3.26 seconds.\n",
      "Rescale image from 317 to 224: 4.44 seconds.\n",
      "Crop patches: 0.56 seconds.\n",
      "Extract patches: 8.27 seconds\n"
     ]
    },
    {
     "name": "stdout",
     "output_type": "stream",
     "text": [
      "(25860, 1, 224, 224)\n"
     ]
    },
    {
     "name": "stderr",
     "output_type": "stream",
     "text": [
      "Compute features: 41.40 seconds\n",
      "Compute features at one section, multiple locations: 49.69 seconds\n"
     ]
    },
    {
     "name": "stdout",
     "output_type": "stream",
     "text": [
      "aws s3 cp \"/data/CSHL_patch_features/inception-bn-blue/CHATM2/CHATM2_prep2_none_win7/CHATM2_slide100_2018_02_13-S3_prep2_none_win7_inception-bn-blue_features.bp\" \"s3://mousebrainatlas-data/CSHL_patch_features/inception-bn-blue/CHATM2/CHATM2_prep2_none_win7/CHATM2_slide100_2018_02_13-S3_prep2_none_win7_inception-bn-blue_features.bp\"\n",
      "0\n",
      "aws s3 cp \"/data/CSHL_patch_features/inception-bn-blue/CHATM2/CHATM2_prep2_none_win7/CHATM2_slide100_2018_02_13-S3_prep2_none_win7_inception-bn-blue_locations.bp\" \"s3://mousebrainatlas-data/CSHL_patch_features/inception-bn-blue/CHATM2/CHATM2_prep2_none_win7/CHATM2_slide100_2018_02_13-S3_prep2_none_win7_inception-bn-blue_locations.bp\"\n",
      "0\n",
      "rm -rf \"/data/CSHL_patch_features/inception-bn-blue/CHATM2/CHATM2_prep2_none_win7/CHATM2_slide102_2018_02_13-S1_prep2_none_win7_inception-bn-blue_features.bp\" && mkdir -p \"/data/CSHL_patch_features/inception-bn-blue/CHATM2/CHATM2_prep2_none_win7\"\n"
     ]
    },
    {
     "name": "stderr",
     "output_type": "stream",
     "text": [
      "Save features: 4.05 seconds\n",
      "locate patches: 0.10 seconds\n"
     ]
    },
    {
     "name": "stdout",
     "output_type": "stream",
     "text": [
      "0\n",
      "aws s3 cp \"s3://mousebrainatlas-data/CSHL_patch_features/inception-bn-blue/CHATM2/CHATM2_prep2_none_win7/CHATM2_slide102_2018_02_13-S1_prep2_none_win7_inception-bn-blue_features.bp\" \"/data/CSHL_patch_features/inception-bn-blue/CHATM2/CHATM2_prep2_none_win7/CHATM2_slide102_2018_02_13-S1_prep2_none_win7_inception-bn-blue_features.bp\"\n",
      "1\n"
     ]
    },
    {
     "name": "stderr",
     "output_type": "stream",
     "text": [
      "Features for CHATM2, 305/CHATM2_slide102_2018_02_13-S1 does not exist.\n",
      "No pre-computed features found... computing from scratch.\n",
      "Not using image_cache.\n"
     ]
    },
    {
     "name": "stdout",
     "output_type": "stream",
     "text": [
      "/data/CSHL_data_processed/CHATM2/CHATM2_prep2_raw_NtbNormalizedAdaptiveInvertedGamma/CHATM2_slide102_2018_02_13-S1_prep2_raw_NtbNormalizedAdaptiveInvertedGamma.tif\n"
     ]
    },
    {
     "name": "stderr",
     "output_type": "stream",
     "text": [
      "Load image: 3.32 seconds.\n",
      "Rescale image from 317 to 224: 6.30 seconds.\n",
      "Crop patches: 0.86 seconds.\n",
      "Extract patches: 10.51 seconds\n"
     ]
    },
    {
     "name": "stdout",
     "output_type": "stream",
     "text": [
      "(25550, 1, 224, 224)\n"
     ]
    },
    {
     "name": "stderr",
     "output_type": "stream",
     "text": [
      "Compute features: 45.83 seconds\n",
      "Compute features at one section, multiple locations: 56.35 seconds\n"
     ]
    },
    {
     "name": "stdout",
     "output_type": "stream",
     "text": [
      "aws s3 cp \"/data/CSHL_patch_features/inception-bn-blue/CHATM2/CHATM2_prep2_none_win7/CHATM2_slide102_2018_02_13-S1_prep2_none_win7_inception-bn-blue_features.bp\" \"s3://mousebrainatlas-data/CSHL_patch_features/inception-bn-blue/CHATM2/CHATM2_prep2_none_win7/CHATM2_slide102_2018_02_13-S1_prep2_none_win7_inception-bn-blue_features.bp\"\n",
      "0\n",
      "aws s3 cp \"/data/CSHL_patch_features/inception-bn-blue/CHATM2/CHATM2_prep2_none_win7/CHATM2_slide102_2018_02_13-S1_prep2_none_win7_inception-bn-blue_locations.bp\" \"s3://mousebrainatlas-data/CSHL_patch_features/inception-bn-blue/CHATM2/CHATM2_prep2_none_win7/CHATM2_slide102_2018_02_13-S1_prep2_none_win7_inception-bn-blue_locations.bp\"\n",
      "0\n",
      "rm -rf \"/data/CSHL_patch_features/inception-bn-blue/CHATM2/CHATM2_prep2_none_win7/CHATM2_slide102_2018_02_13-S2_prep2_none_win7_inception-bn-blue_features.bp\" && mkdir -p \"/data/CSHL_patch_features/inception-bn-blue/CHATM2/CHATM2_prep2_none_win7\"\n",
      "0\n",
      "aws s3 cp \"s3://mousebrainatlas-data/CSHL_patch_features/inception-bn-blue/CHATM2/CHATM2_prep2_none_win7/CHATM2_slide102_2018_02_13-S2_prep2_none_win7_inception-bn-blue_features.bp\" \"/data/CSHL_patch_features/inception-bn-blue/CHATM2/CHATM2_prep2_none_win7/CHATM2_slide102_2018_02_13-S2_prep2_none_win7_inception-bn-blue_features.bp\"\n"
     ]
    },
    {
     "name": "stderr",
     "output_type": "stream",
     "text": [
      "Save features: 3.22 seconds\n",
      "locate patches: 0.05 seconds\n"
     ]
    },
    {
     "name": "stdout",
     "output_type": "stream",
     "text": [
      "1\n"
     ]
    },
    {
     "name": "stderr",
     "output_type": "stream",
     "text": [
      "Features for CHATM2, 307/CHATM2_slide102_2018_02_13-S2 does not exist.\n",
      "No pre-computed features found... computing from scratch.\n",
      "Not using image_cache.\n"
     ]
    },
    {
     "name": "stdout",
     "output_type": "stream",
     "text": [
      "/data/CSHL_data_processed/CHATM2/CHATM2_prep2_raw_NtbNormalizedAdaptiveInvertedGamma/CHATM2_slide102_2018_02_13-S2_prep2_raw_NtbNormalizedAdaptiveInvertedGamma.tif\n"
     ]
    },
    {
     "name": "stderr",
     "output_type": "stream",
     "text": [
      "Load image: 3.57 seconds.\n",
      "Rescale image from 317 to 224: 3.25 seconds.\n",
      "Crop patches: 0.59 seconds.\n",
      "Extract patches: 7.44 seconds\n"
     ]
    },
    {
     "name": "stdout",
     "output_type": "stream",
     "text": [
      "(24601, 1, 224, 224)\n"
     ]
    },
    {
     "name": "stderr",
     "output_type": "stream",
     "text": [
      "Compute features: 39.53 seconds\n",
      "Compute features at one section, multiple locations: 46.98 seconds\n"
     ]
    },
    {
     "name": "stdout",
     "output_type": "stream",
     "text": [
      "aws s3 cp \"/data/CSHL_patch_features/inception-bn-blue/CHATM2/CHATM2_prep2_none_win7/CHATM2_slide102_2018_02_13-S2_prep2_none_win7_inception-bn-blue_features.bp\" \"s3://mousebrainatlas-data/CSHL_patch_features/inception-bn-blue/CHATM2/CHATM2_prep2_none_win7/CHATM2_slide102_2018_02_13-S2_prep2_none_win7_inception-bn-blue_features.bp\"\n",
      "0\n",
      "aws s3 cp \"/data/CSHL_patch_features/inception-bn-blue/CHATM2/CHATM2_prep2_none_win7/CHATM2_slide102_2018_02_13-S2_prep2_none_win7_inception-bn-blue_locations.bp\" \"s3://mousebrainatlas-data/CSHL_patch_features/inception-bn-blue/CHATM2/CHATM2_prep2_none_win7/CHATM2_slide102_2018_02_13-S2_prep2_none_win7_inception-bn-blue_locations.bp\"\n",
      "0\n",
      "rm -rf \"/data/CSHL_patch_features/inception-bn-blue/CHATM2/CHATM2_prep2_none_win7/CHATM2_slide102_2018_02_13-S3_prep2_none_win7_inception-bn-blue_features.bp\" && mkdir -p \"/data/CSHL_patch_features/inception-bn-blue/CHATM2/CHATM2_prep2_none_win7\"\n",
      "0\n",
      "aws s3 cp \"s3://mousebrainatlas-data/CSHL_patch_features/inception-bn-blue/CHATM2/CHATM2_prep2_none_win7/CHATM2_slide102_2018_02_13-S3_prep2_none_win7_inception-bn-blue_features.bp\" \"/data/CSHL_patch_features/inception-bn-blue/CHATM2/CHATM2_prep2_none_win7/CHATM2_slide102_2018_02_13-S3_prep2_none_win7_inception-bn-blue_features.bp\"\n"
     ]
    },
    {
     "name": "stderr",
     "output_type": "stream",
     "text": [
      "Save features: 3.50 seconds\n",
      "locate patches: 0.04 seconds\n"
     ]
    },
    {
     "name": "stdout",
     "output_type": "stream",
     "text": [
      "1\n"
     ]
    },
    {
     "name": "stderr",
     "output_type": "stream",
     "text": [
      "Features for CHATM2, 309/CHATM2_slide102_2018_02_13-S3 does not exist.\n",
      "No pre-computed features found... computing from scratch.\n",
      "Not using image_cache.\n"
     ]
    },
    {
     "name": "stdout",
     "output_type": "stream",
     "text": [
      "/data/CSHL_data_processed/CHATM2/CHATM2_prep2_raw_NtbNormalizedAdaptiveInvertedGamma/CHATM2_slide102_2018_02_13-S3_prep2_raw_NtbNormalizedAdaptiveInvertedGamma.tif\n"
     ]
    },
    {
     "name": "stderr",
     "output_type": "stream",
     "text": [
      "Load image: 4.78 seconds.\n",
      "Rescale image from 317 to 224: 5.51 seconds.\n",
      "Crop patches: 0.94 seconds.\n",
      "Extract patches: 11.25 seconds\n"
     ]
    },
    {
     "name": "stdout",
     "output_type": "stream",
     "text": [
      "(24369, 1, 224, 224)\n"
     ]
    },
    {
     "name": "stderr",
     "output_type": "stream",
     "text": [
      "Compute features: 44.54 seconds\n",
      "Compute features at one section, multiple locations: 55.81 seconds\n"
     ]
    },
    {
     "name": "stdout",
     "output_type": "stream",
     "text": [
      "aws s3 cp \"/data/CSHL_patch_features/inception-bn-blue/CHATM2/CHATM2_prep2_none_win7/CHATM2_slide102_2018_02_13-S3_prep2_none_win7_inception-bn-blue_features.bp\" \"s3://mousebrainatlas-data/CSHL_patch_features/inception-bn-blue/CHATM2/CHATM2_prep2_none_win7/CHATM2_slide102_2018_02_13-S3_prep2_none_win7_inception-bn-blue_features.bp\"\n",
      "0\n",
      "aws s3 cp \"/data/CSHL_patch_features/inception-bn-blue/CHATM2/CHATM2_prep2_none_win7/CHATM2_slide102_2018_02_13-S3_prep2_none_win7_inception-bn-blue_locations.bp\" \"s3://mousebrainatlas-data/CSHL_patch_features/inception-bn-blue/CHATM2/CHATM2_prep2_none_win7/CHATM2_slide102_2018_02_13-S3_prep2_none_win7_inception-bn-blue_locations.bp\"\n",
      "0\n",
      "rm -rf \"/data/CSHL_patch_features/inception-bn-blue/CHATM2/CHATM2_prep2_none_win7/CHATM2_slide104_2018_02_13-S1_prep2_none_win7_inception-bn-blue_features.bp\" && mkdir -p \"/data/CSHL_patch_features/inception-bn-blue/CHATM2/CHATM2_prep2_none_win7\"\n"
     ]
    },
    {
     "name": "stderr",
     "output_type": "stream",
     "text": [
      "Save features: 2.97 seconds\n",
      "locate patches: 0.07 seconds\n"
     ]
    },
    {
     "name": "stdout",
     "output_type": "stream",
     "text": [
      "0\n",
      "aws s3 cp \"s3://mousebrainatlas-data/CSHL_patch_features/inception-bn-blue/CHATM2/CHATM2_prep2_none_win7/CHATM2_slide104_2018_02_13-S1_prep2_none_win7_inception-bn-blue_features.bp\" \"/data/CSHL_patch_features/inception-bn-blue/CHATM2/CHATM2_prep2_none_win7/CHATM2_slide104_2018_02_13-S1_prep2_none_win7_inception-bn-blue_features.bp\"\n",
      "1\n"
     ]
    },
    {
     "name": "stderr",
     "output_type": "stream",
     "text": [
      "Features for CHATM2, 311/CHATM2_slide104_2018_02_13-S1 does not exist.\n",
      "No pre-computed features found... computing from scratch.\n",
      "Not using image_cache.\n"
     ]
    },
    {
     "name": "stdout",
     "output_type": "stream",
     "text": [
      "/data/CSHL_data_processed/CHATM2/CHATM2_prep2_raw_NtbNormalizedAdaptiveInvertedGamma/CHATM2_slide104_2018_02_13-S1_prep2_raw_NtbNormalizedAdaptiveInvertedGamma.tif\n"
     ]
    },
    {
     "name": "stderr",
     "output_type": "stream",
     "text": [
      "Load image: 4.59 seconds.\n",
      "Rescale image from 317 to 224: 3.77 seconds.\n",
      "Crop patches: 0.53 seconds.\n",
      "Extract patches: 8.91 seconds\n"
     ]
    },
    {
     "name": "stdout",
     "output_type": "stream",
     "text": [
      "(24022, 1, 224, 224)\n"
     ]
    },
    {
     "name": "stderr",
     "output_type": "stream",
     "text": [
      "Compute features: 38.55 seconds\n",
      "Compute features at one section, multiple locations: 47.47 seconds\n"
     ]
    },
    {
     "name": "stdout",
     "output_type": "stream",
     "text": [
      "aws s3 cp \"/data/CSHL_patch_features/inception-bn-blue/CHATM2/CHATM2_prep2_none_win7/CHATM2_slide104_2018_02_13-S1_prep2_none_win7_inception-bn-blue_features.bp\" \"s3://mousebrainatlas-data/CSHL_patch_features/inception-bn-blue/CHATM2/CHATM2_prep2_none_win7/CHATM2_slide104_2018_02_13-S1_prep2_none_win7_inception-bn-blue_features.bp\"\n",
      "0\n",
      "aws s3 cp \"/data/CSHL_patch_features/inception-bn-blue/CHATM2/CHATM2_prep2_none_win7/CHATM2_slide104_2018_02_13-S1_prep2_none_win7_inception-bn-blue_locations.bp\" \"s3://mousebrainatlas-data/CSHL_patch_features/inception-bn-blue/CHATM2/CHATM2_prep2_none_win7/CHATM2_slide104_2018_02_13-S1_prep2_none_win7_inception-bn-blue_locations.bp\"\n",
      "0\n",
      "rm -rf \"/data/CSHL_patch_features/inception-bn-blue/CHATM2/CHATM2_prep2_none_win7/CHATM2_slide104_2018_02_13-S2_prep2_none_win7_inception-bn-blue_features.bp\" && mkdir -p \"/data/CSHL_patch_features/inception-bn-blue/CHATM2/CHATM2_prep2_none_win7\"\n",
      "0"
     ]
    },
    {
     "name": "stderr",
     "output_type": "stream",
     "text": [
      "Save features: 3.86 seconds\n",
      "locate patches: 0.10 seconds\n"
     ]
    },
    {
     "name": "stdout",
     "output_type": "stream",
     "text": [
      "\n",
      "aws s3 cp \"s3://mousebrainatlas-data/CSHL_patch_features/inception-bn-blue/CHATM2/CHATM2_prep2_none_win7/CHATM2_slide104_2018_02_13-S2_prep2_none_win7_inception-bn-blue_features.bp\" \"/data/CSHL_patch_features/inception-bn-blue/CHATM2/CHATM2_prep2_none_win7/CHATM2_slide104_2018_02_13-S2_prep2_none_win7_inception-bn-blue_features.bp\"\n",
      "1\n"
     ]
    },
    {
     "name": "stderr",
     "output_type": "stream",
     "text": [
      "Features for CHATM2, 313/CHATM2_slide104_2018_02_13-S2 does not exist.\n",
      "No pre-computed features found... computing from scratch.\n",
      "Not using image_cache.\n"
     ]
    },
    {
     "name": "stdout",
     "output_type": "stream",
     "text": [
      "/data/CSHL_data_processed/CHATM2/CHATM2_prep2_raw_NtbNormalizedAdaptiveInvertedGamma/CHATM2_slide104_2018_02_13-S2_prep2_raw_NtbNormalizedAdaptiveInvertedGamma.tif\n"
     ]
    },
    {
     "name": "stderr",
     "output_type": "stream",
     "text": [
      "Load image: 4.10 seconds.\n",
      "Rescale image from 317 to 224: 5.26 seconds.\n",
      "Crop patches: 0.76 seconds.\n",
      "Extract patches: 10.15 seconds\n"
     ]
    },
    {
     "name": "stdout",
     "output_type": "stream",
     "text": [
      "(23386, 1, 224, 224)\n"
     ]
    },
    {
     "name": "stderr",
     "output_type": "stream",
     "text": [
      "Compute features: 39.86 seconds\n",
      "Compute features at one section, multiple locations: 50.08 seconds\n"
     ]
    },
    {
     "name": "stdout",
     "output_type": "stream",
     "text": [
      "aws s3 cp \"/data/CSHL_patch_features/inception-bn-blue/CHATM2/CHATM2_prep2_none_win7/CHATM2_slide104_2018_02_13-S2_prep2_none_win7_inception-bn-blue_features.bp\" \"s3://mousebrainatlas-data/CSHL_patch_features/inception-bn-blue/CHATM2/CHATM2_prep2_none_win7/CHATM2_slide104_2018_02_13-S2_prep2_none_win7_inception-bn-blue_features.bp\"\n",
      "0\n",
      "aws s3 cp \"/data/CSHL_patch_features/inception-bn-blue/CHATM2/CHATM2_prep2_none_win7/CHATM2_slide104_2018_02_13-S2_prep2_none_win7_inception-bn-blue_locations.bp\" \"s3://mousebrainatlas-data/CSHL_patch_features/inception-bn-blue/CHATM2/CHATM2_prep2_none_win7/CHATM2_slide104_2018_02_13-S2_prep2_none_win7_inception-bn-blue_locations.bp\"\n",
      "0\n"
     ]
    },
    {
     "name": "stderr",
     "output_type": "stream",
     "text": [
      "Save features: 4.96 seconds\n"
     ]
    }
   ],
   "source": [
    "# for stack in ['MD661', 'MD662']:\n",
    "# for stack in ['MD585', 'MD589', 'MD594']:\n",
    "for stack in ['CHATM2']:\n",
    "    for sec in metadata_cache['valid_sections'][stack]:\n",
    "#     for sec in [108]:\n",
    "#     for sec in metadata_cache['valid_sections'][stack][::30]:\n",
    "#     for sec in [145, 150, 156, 161, 166, 171, 176, 182, 261, 275, 285, 295]:\n",
    "\n",
    "        compute_and_save_features_one_section(\n",
    "#                                 scheme='normalize_mu_region_sigma_wholeImage_(-1,5)', \n",
    "                                    scheme='none', \n",
    "    #                             bbox=(11217, 16886, 13859, 18404),\n",
    "#                                 method='glcm',\n",
    "                                method='cnn',\n",
    "                                win_id=7, prep_id=2,\n",
    "                                stack=stack, sec=sec,\n",
    "                                model=model, model_name=model_name,\n",
    "                                 mean_img=mean_img, \n",
    "                                 batch_size=batch_size, \n",
    "            attach_timestamp=False)\n",
    "#         break"
   ]
  },
  {
   "cell_type": "code",
   "execution_count": null,
   "metadata": {
    "collapsed": true
   },
   "outputs": [],
   "source": []
  }
 ],
 "metadata": {
  "kernelspec": {
   "display_name": "Python 2",
   "language": "python",
   "name": "python2"
  },
  "language_info": {
   "codemirror_mode": {
    "name": "ipython",
    "version": 2
   },
   "file_extension": ".py",
   "mimetype": "text/x-python",
   "name": "python",
   "nbconvert_exporter": "python",
   "pygments_lexer": "ipython2",
   "version": "2.7.12"
  }
 },
 "nbformat": 4,
 "nbformat_minor": 2
}
