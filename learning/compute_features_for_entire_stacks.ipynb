{
 "cells": [
  {
   "cell_type": "code",
   "execution_count": 1,
   "metadata": {
    "scrolled": true
   },
   "outputs": [
    {
     "name": "stdout",
     "output_type": "stream",
     "text": [
      "Setting environment for Precision WorkStation\n"
     ]
    },
    {
     "name": "stderr",
     "output_type": "stream",
     "text": [
      "No vtk\n",
      "No vtkNot using image_cache.\n",
      "Not using image_cache.\n",
      "Not using image_cache.\n",
      "Not using image_cache.\n"
     ]
    },
    {
     "name": "stdout",
     "output_type": "stream",
     "text": [
      "/media/yuncong/BstemAtlasData/CSHL_data_processed/MD585/MD585_prep2_thumbnail/MD585-N16-2015.07.16-20.32.33_MD585_2_0047_prep2_thumbnail.tif\n",
      "/media/yuncong/BstemAtlasData/CSHL_data_processed/MD589/MD589_prep2_thumbnail/MD589-N16-2015.07.30-17.03.43_MD589_3_0048_prep2_thumbnail.tif\n",
      "/media/yuncong/BstemAtlasData/CSHL_data_processed/MD590/MD590_prep2_thumbnail/MD590-IHC17-2015.08.10-19.09.09_MD590_2_0050_prep2_thumbnail.tif\n",
      "/media/yuncong/BstemAtlasData/CSHL_data_processed/MD591/MD591_prep2_thumbnail/MD591-IHC17-2015.08.28-04.23.47_MD591_1_0049_prep2_thumbnail.tif\n",
      "/media/yuncong/BstemAtlasData/CSHL_data_processed/MD592/MD592_prep2_thumbnail/MD592-N16-2015.08.22-00.50.39_MD592_2_0047_prep2_thumbnail.tif\n",
      "/media/yuncong/BstemAtlasData/CSHL_data_processed/MD593/MD593_prep2_thumbnail/MD593-N15-2015.08.21-16.53.02_MD593_3_0045_prep2_thumbnail.tif\n"
     ]
    },
    {
     "name": "stderr",
     "output_type": "stream",
     "text": [
      "Not using image_cache.\n",
      "Not using image_cache.\n",
      "Not using image_cache.\n",
      "Not using image_cache.\n",
      "Not using image_cache.\n",
      "Not using image_cache.\n"
     ]
    },
    {
     "name": "stdout",
     "output_type": "stream",
     "text": [
      "/media/yuncong/BstemAtlasData/CSHL_data_processed/MD594/MD594_prep2_thumbnail/MD594-IHC16-2015.08.26-16.11.01_MD594_1_0046_prep2_thumbnail.tif\n",
      "/media/yuncong/BstemAtlasData/CSHL_data_processed/MD595/MD595_prep2_thumbnail/MD595-IHC12-2015.09.15-01.21.39_MD595_2_0035_prep2_thumbnail.tif\n",
      "/media/yuncong/BstemAtlasData/CSHL_data_processed/MD598/MD598_prep2_thumbnail/MD598-N18-2015.09.29-17.40.03_MD598_3_0054_prep2_thumbnail.tif\n",
      "/media/yuncong/BstemAtlasData/CSHL_data_processed/MD599/MD599_prep2_thumbnail/MD599-N19-2015.10.02-18.12.13_MD599_3_0057_prep2_thumbnail.tif\n",
      "/media/yuncong/BstemAtlasData/CSHL_data_processed/MD602/MD602_prep2_thumbnail/MD602-N19-2015.12.01-16.24.09_MD602_2_0056_prep2_thumbnail.tif\n",
      "/media/yuncong/BstemAtlasData/CSHL_data_processed/MD603/MD603_prep2_thumbnail/MD603-N11-2016.03.02-12.51.47_MD603_1_0031_prep2_thumbnail.tif\n"
     ]
    },
    {
     "name": "stderr",
     "output_type": "stream",
     "text": [
      "Not using image_cache.\n",
      "Not using image_cache.\n",
      "Not using image_cache.\n",
      "Not using image_cache.\n",
      "Not using image_cache.\n",
      "Not using image_cache.\n"
     ]
    },
    {
     "name": "stdout",
     "output_type": "stream",
     "text": [
      "/media/yuncong/BstemAtlasData/CSHL_data_processed/MD635/MD635_prep2_thumbnail/MD635-F25-2016.05.18-21.02.30_MD635_3_0075_prep2_thumbnail.tif\n",
      "/media/yuncong/BstemAtlasData/CSHL_data_processed/MD653/MD653_prep2_thumbnail/MD653-F15-2016.12.20-21.04.12_MD653_1_0043_prep2_thumbnail.tif\n",
      "/media/yuncong/BstemAtlasData/CSHL_data_processed/MD652/MD652_prep2_thumbnail/MD652-F15-2016.12.16-20.45.52_MD652_3_0045_prep2_thumbnail.tif\n",
      "/media/yuncong/BstemAtlasData/CSHL_data_processed/MD642/MD642_prep2_thumbnail/MD642-N14-2017.01.18-16.25.58_MD642_2_0041_prep2_thumbnail.tif\n",
      "/media/yuncong/BstemAtlasData/CSHL_data_processed/MD657/MD657_prep2_thumbnail/MD657-N13-2017.02.22-14.33.34_MD657_3_0039_prep2_thumbnail.tif\n"
     ]
    },
    {
     "name": "stderr",
     "output_type": "stream",
     "text": [
      "Not using image_cache.\n",
      "Not using image_cache.\n",
      "Not using image_cache.\n"
     ]
    },
    {
     "name": "stdout",
     "output_type": "stream",
     "text": [
      "/media/yuncong/BstemAtlasData/CSHL_data_processed/MD658/MD658_prep2_thumbnail/MD658-N18-2017.03.31-17.34.22_MD658_2_0053_prep2_thumbnail.tif\n",
      "/media/yuncong/BstemAtlasData/CSHL_data_processed/MD661/MD661_prep2_thumbnail/MD662&661-F30-2017.06.05-14.49.48_MD661_1_0088_prep2_thumbnail.tif\n",
      "/media/yuncong/BstemAtlasData/CSHL_data_processed/MD662/MD662_prep2_thumbnail/MD662&661-F35-2017.06.05-17.08.18_MD662_1_0103_prep2_thumbnail.tif\n",
      "/media/yuncong/BstemAtlasData/CSHL_data_processed/ChatCryoJane201710/ChatCryoJane201710_prep2_thumbnail_Ntb/ChatCryoJane201710_slide1-S1_prep2_thumbnail_Ntb.tif\n"
     ]
    },
    {
     "name": "stderr",
     "output_type": "stream",
     "text": [
      "Not using image_cache.\n",
      "Not using image_cache.\n",
      "/usr/local/lib/python2.7/dist-packages/sklearn/cross_validation.py:44: DeprecationWarning: This module was deprecated in version 0.18 in favor of the model_selection module into which all the refactored classes and functions are moved. Also note that the interface of the new CV iterators are different from that of this module. This module will be removed in 0.20.\n",
      "  \"This module will be removed in 0.20.\", DeprecationWarning)\n"
     ]
    }
   ],
   "source": [
    "%reload_ext autoreload\n",
    "%autoreload 2\n",
    "\n",
    "import os\n",
    "import argparse\n",
    "import sys\n",
    "import time\n",
    "\n",
    "import numpy as np\n",
    "from multiprocess import Pool\n",
    "\n",
    "sys.path.append(os.path.join(os.environ['REPO_DIR'], 'utilities'))\n",
    "from utilities2015 import *\n",
    "from metadata import *\n",
    "from data_manager import *\n",
    "from learning_utilities import *\n",
    "\n",
    "%matplotlib inline"
   ]
  },
  {
   "cell_type": "code",
   "execution_count": 2,
   "metadata": {},
   "outputs": [
    {
     "name": "stderr",
     "output_type": "stream",
     "text": [
      "/usr/local/lib/python2.7/dist-packages/mxnet/module/base_module.py:53: UserWarning: \u001b[91mYou created Module with Module(..., label_names=['softmax_label']) but input with name 'softmax_label' is not found in symbol.list_arguments(). Did you mean one of:\n",
      "\tdata\u001b[0m\n",
      "  warnings.warn(msg)\n",
      "/usr/local/lib/python2.7/dist-packages/mxnet/module/base_module.py:65: UserWarning: Data provided by label_shapes don't match names specified by label_names ([] vs. ['softmax_label'])\n",
      "  warnings.warn(msg)\n"
     ]
    }
   ],
   "source": [
    "batch_size = 256\n",
    "model_dir_name = 'inception-bn-blue'\n",
    "model_name = 'inception-bn-blue'\n",
    "model, mean_img = load_mxnet_model(model_dir_name=model_dir_name, model_name=model_name, \n",
    "                                   num_gpus=1, batch_size=batch_size)"
   ]
  },
  {
   "cell_type": "code",
   "execution_count": 7,
   "metadata": {},
   "outputs": [
    {
     "name": "stderr",
     "output_type": "stream",
     "text": [
      "locate patches: 0.07 seconds\n"
     ]
    },
    {
     "name": "stdout",
     "output_type": "stream",
     "text": [
      "rm -rf \"/media/yuncong/BstemAtlasData/CSHL_patch_features/glcm/MD585/MD585_prep2_normalize_mu_region_sigma_wholeImage_(-1,5)_win7/MD585-N20-2015.07.16-20.47.19_MD585_3_0060_prep2_normalize_mu_region_sigma_wholeImage_(-1,5)_win7_glcm_features.bp\" && mkdir -p \"/media/yuncong/BstemAtlasData/CSHL_patch_features/glcm/MD585/MD585_prep2_normalize_mu_region_sigma_wholeImage_(-1,5)_win7\"\n",
      "aws s3 cp \"s3://mousebrainatlas-data/CSHL_patch_features/glcm/MD585/MD585_prep2_normalize_mu_region_sigma_wholeImage_(-1,5)_win7/MD585-N20-2015.07.16-20.47.19_MD585_3_0060_prep2_normalize_mu_region_sigma_wholeImage_(-1,5)_win7_glcm_features.bp\" \"/media/yuncong/BstemAtlasData/CSHL_patch_features/glcm/MD585/MD585_prep2_normalize_mu_region_sigma_wholeImage_(-1,5)_win7/MD585-N20-2015.07.16-20.47.19_MD585_3_0060_prep2_normalize_mu_region_sigma_wholeImage_(-1,5)_win7_glcm_features.bp\"\n"
     ]
    },
    {
     "name": "stderr",
     "output_type": "stream",
     "text": [
      "[Errno 2] No such file or directory: '/media/yuncong/BstemAtlasData/CSHL_patch_features/glcm/MD585/MD585_prep2_normalize_mu_region_sigma_wholeImage_(-1,5)_win7/MD585-N20-2015.07.16-20.47.19_MD585_3_0060_prep2_normalize_mu_region_sigma_wholeImage_(-1,5)_win7_glcm_features.bp'\n",
      "No pre-computed features found... computing from scratch.\n",
      "Not using image_cache.\n"
     ]
    },
    {
     "name": "stdout",
     "output_type": "stream",
     "text": [
      "/media/yuncong/BstemAtlasData/CSHL_data_processed/MD585/MD585_prep2_lossless/MD585-N20-2015.07.16-20.47.19_MD585_3_0060_prep2_lossless.tif\n"
     ]
    },
    {
     "name": "stderr",
     "output_type": "stream",
     "text": [
      "Load image: 22.70 seconds.\n",
      "Crop patches: 0.78 seconds.\n",
      "Extract patches: 51.22 seconds\n",
      "Compute features: 8.65 seconds\n",
      "Compute features at one section, multiple locations: 59.91 seconds\n"
     ]
    },
    {
     "name": "stdout",
     "output_type": "stream",
     "text": [
      "aws s3 cp \"/media/yuncong/BstemAtlasData/CSHL_patch_features/glcm/MD585/MD585_prep2_normalize_mu_region_sigma_wholeImage_(-1,5)_win7/MD585-N20-2015.07.16-20.47.19_MD585_3_0060_prep2_normalize_mu_region_sigma_wholeImage_(-1,5)_win7_glcm_features.bp\" \"s3://mousebrainatlas-data/CSHL_patch_features/glcm/MD585/MD585_prep2_normalize_mu_region_sigma_wholeImage_(-1,5)_win7/MD585-N20-2015.07.16-20.47.19_MD585_3_0060_prep2_normalize_mu_region_sigma_wholeImage_(-1,5)_win7_glcm_features.bp\"\n",
      "aws s3 cp \"/media/yuncong/BstemAtlasData/CSHL_patch_features/glcm/MD585/MD585_prep2_normalize_mu_region_sigma_wholeImage_(-1,5)_win7/MD585-N20-2015.07.16-20.47.19_MD585_3_0060_prep2_normalize_mu_region_sigma_wholeImage_(-1,5)_win7_glcm_locations.bp\" \"s3://mousebrainatlas-data/CSHL_patch_features/glcm/MD585/MD585_prep2_normalize_mu_region_sigma_wholeImage_(-1,5)_win7/MD585-N20-2015.07.16-20.47.19_MD585_3_0060_prep2_normalize_mu_region_sigma_wholeImage_(-1,5)_win7_glcm_locations.bp\"\n"
     ]
    },
    {
     "name": "stderr",
     "output_type": "stream",
     "text": [
      "Save features: 2.05 seconds\n"
     ]
    }
   ],
   "source": [
    "# for stack in ['MD661', 'MD662']:\n",
    "# for stack in ['MD585', 'MD589', 'MD594']:\n",
    "for stack in ['MD585']:\n",
    "#     for sec in metadata_cache['valid_sections'][stack]:\n",
    "    for sec in [107]:\n",
    "#         if sec < 253:\n",
    "#             continue\n",
    "\n",
    "    #     for structure in clfs.keys():\n",
    "    #     for structure in ['DC', '5N', '3N', 'Pn', '10N', 'LC', '7N', 'Amb', '12N', 'RMC', 'Sp5O', 'Sp5I', 'Sp5C', 'VCP', 'AP', 'PBG', 'LRt', 'IC', 'VLL', '4N', 'SNC', '6N', 'SNR', 'SC', 'RtTg']:\n",
    "\n",
    "        compute_and_save_features_one_section(\n",
    "                                scheme='normalize_mu_region_sigma_wholeImage_(-1,5)', \n",
    "#                                     scheme='none', \n",
    "    #                             bbox=(11217, 16886, 13859, 18404),\n",
    "                                method='glcm',\n",
    "                                win_id=7, prep_id=2,\n",
    "                                stack=stack, sec=sec,\n",
    "                                model=model, model_name=model_name,\n",
    "                                 mean_img=mean_img, \n",
    "                                 batch_size=batch_size, \n",
    "            attach_timestamp=False)\n",
    "#         break"
   ]
  },
  {
   "cell_type": "code",
   "execution_count": null,
   "metadata": {
    "collapsed": true
   },
   "outputs": [],
   "source": []
  }
 ],
 "metadata": {
  "kernelspec": {
   "display_name": "Python 2",
   "language": "python",
   "name": "python2"
  },
  "language_info": {
   "codemirror_mode": {
    "name": "ipython",
    "version": 2
   },
   "file_extension": ".py",
   "mimetype": "text/x-python",
   "name": "python",
   "nbconvert_exporter": "python",
   "pygments_lexer": "ipython2",
   "version": "2.7.12"
  }
 },
 "nbformat": 4,
 "nbformat_minor": 2
}
