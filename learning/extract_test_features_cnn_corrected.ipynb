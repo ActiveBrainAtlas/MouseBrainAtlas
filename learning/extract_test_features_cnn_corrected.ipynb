{
 "cells": [
  {
   "cell_type": "code",
   "execution_count": 1,
   "metadata": {
    "scrolled": true
   },
   "outputs": [
    {
     "name": "stderr",
     "output_type": "stream",
     "text": [
      "/usr/local/lib/python2.7/dist-packages/matplotlib/__init__.py:1350: UserWarning:  This call to matplotlib.use() has no effect\n",
      "because the backend has already been chosen;\n",
      "matplotlib.use() must be called *before* pylab, matplotlib.pyplot,\n",
      "or matplotlib.backends is imported for the first time.\n",
      "\n",
      "  warnings.warn(_use_error_msg)\n",
      "Cannot load cv2.\n"
     ]
    },
    {
     "name": "stdout",
     "output_type": "stream",
     "text": [
      "Setting environment for Precision WorkStation\n",
      "rm -rf /home/yuncong/media/yuncong/BstemAtlasData/CSHL_data_processed/MD635/MD635_alignedTo_MD635-F63-2016.05.19-08.39.03_MD635_2_0188_cropbox.txt && mkdir -p /home/yuncong/media/yuncong/BstemAtlasData/CSHL_data_processed/MD635"
     ]
    },
    {
     "name": "stderr",
     "output_type": "stream",
     "text": [
      "No vtk\n",
      "Child returned 0\n",
      "Child returned"
     ]
    },
    {
     "name": "stdout",
     "output_type": "stream",
     "text": [
      "\n",
      "aws s3 cp s3://mousebrainatlas-data/media/yuncong/BstemAtlasData/CSHL_data_processed/MD635/MD635_alignedTo_MD635-F63-2016.05.19-08.39.03_MD635_2_0188_cropbox.txt /home/yuncong/media/yuncong/BstemAtlasData/CSHL_data_processed/MD635/MD635_alignedTo_MD635-F63-2016.05.19-08.39.03_MD635_2_0188_cropbox.txt\n",
      "rm -rf /media/yuncong/BstemAtlasData/CSHL_data_processed/MD635/MD635_alignedTo_MD635-F63-2016.05.19-08.39.03_MD635_2_0188_cropbox.txt && mkdir -p /media/yuncong/BstemAtlasData/CSHL_data_processed/MD635"
     ]
    },
    {
     "name": "stderr",
     "output_type": "stream",
     "text": [
      " 1\n",
      "0.67 seconds.\n",
      "Child returned 0\n",
      "Child returned"
     ]
    },
    {
     "name": "stdout",
     "output_type": "stream",
     "text": [
      "\n",
      "aws s3 cp s3://mousebrainatlas-data/CSHL_data_processed/MD635/MD635_alignedTo_MD635-F63-2016.05.19-08.39.03_MD635_2_0188_cropbox.txt /media/yuncong/BstemAtlasData/CSHL_data_processed/MD635/MD635_alignedTo_MD635-F63-2016.05.19-08.39.03_MD635_2_0188_cropbox.txt\n",
      "rm -rf /media/yuncong/BstemAtlasData/CSHL_data_processed/MD635/MD635_alignedTo_MD635-F63-2016.05.19-08.39.03_MD635_2_0188_cropbox.txt && mkdir -p /media/yuncong/BstemAtlasData/CSHL_data_processed/MD635"
     ]
    },
    {
     "name": "stderr",
     "output_type": "stream",
     "text": [
      " 1\n",
      "0.65 seconds.\n",
      "File does not exist: /media/yuncong/BstemAtlasData/CSHL_data_processed/MD635/MD635_alignedTo_MD635-F63-2016.05.19-08.39.03_MD635_2_0188_cropbox.txt\n",
      "Child returned 0\n",
      "Child returned 1\n",
      "0.65 seconds.\n",
      "File does not exist: /media/yuncong/BstemAtlasData/CSHL_data_processed/MD635/MD635_alignedTo_MD635-F63-2016.05.19-08.39.03_MD635_2_0188_cropbox.txt\n",
      "Cannot load cv2.\n"
     ]
    },
    {
     "name": "stdout",
     "output_type": "stream",
     "text": [
      "\n",
      "aws s3 cp s3://mousebrainatlas-data/CSHL_data_processed/MD635/MD635_alignedTo_MD635-F63-2016.05.19-08.39.03_MD635_2_0188_cropbox.txt /media/yuncong/BstemAtlasData/CSHL_data_processed/MD635/MD635_alignedTo_MD635-F63-2016.05.19-08.39.03_MD635_2_0188_cropbox.txt\n"
     ]
    }
   ],
   "source": [
    "%load_ext autoreload\n",
    "%autoreload 2\n",
    "\n",
    "import sys\n",
    "import os\n",
    "import time\n",
    "\n",
    "import numpy as np\n",
    "import mxnet as mx\n",
    "import matplotlib.pyplot as plt\n",
    "%matplotlib inline\n",
    "\n",
    "sys.path.append(os.environ['REPO_DIR'] + '/utilities')\n",
    "from utilities2015 import *\n",
    "from metadata import *\n",
    "from data_manager import *\n",
    "from learning_utilities import *\n",
    "from distributed_utilities import *"
   ]
  },
  {
   "cell_type": "code",
   "execution_count": 2,
   "metadata": {
    "collapsed": true
   },
   "outputs": [],
   "source": [
    "MODEL_ROOTDIR = '/home/yuncong/mxnet_models/'"
   ]
  },
  {
   "cell_type": "code",
   "execution_count": 3,
   "metadata": {},
   "outputs": [
    {
     "name": "stderr",
     "output_type": "stream",
     "text": [
      "/usr/local/lib/python2.7/dist-packages/mxnet/model.py:880: DeprecationWarning: \u001b[91mmxnet.model.FeedForward has been deprecated. Please use mxnet.mod.Module instead.\u001b[0m\n",
      "  **kwargs)\n",
      "/usr/local/lib/python2.7/dist-packages/ipykernel/__main__.py:40: DeprecationWarning: \u001b[91mmxnet.model.FeedForward has been deprecated. Please use mxnet.mod.Module instead.\u001b[0m\n"
     ]
    }
   ],
   "source": [
    "# Does not work for the mxnet version on 3/30/2017\n",
    "# model_dir_name = 'Sat16ClassFinetuned'\n",
    "# model_name = 'Sat16ClassFinetuned'\n",
    "# model_iteration = 10\n",
    "# output_symbol_name = 'flatten_output'\n",
    "# mean_img = np.load(os.path.join(MODEL_ROOTDIR, model_dir_name, 'saturation_mean_224.npy'))\n",
    "\n",
    "# model_dir_name = 'vgg16-blue'\n",
    "# model_name = 'vgg16-blue'\n",
    "# model_iteration = 0\n",
    "# output_symbol_name = 'fc7_output'\n",
    "# output_dim = 4096\n",
    "# mean_img = np.load(os.path.join(MODEL_ROOTDIR, model_dir_name, 'vgg_mean.npy'))\n",
    "\n",
    "# model_dir_name = 'vgg19'\n",
    "# model_name = 'vgg19'\n",
    "# model_iteration = 0\n",
    "# output_symbol_name = 'fc8_output'\n",
    "\n",
    "# model_dir_name = 'inception-bn'\n",
    "# model_name = 'Inception-BN'\n",
    "# model_iteration = 126\n",
    "# output_symbol_name = 'flatten_output'\n",
    "# mean_img = mx.nd.load(os.path.join(MODEL_ROOTDIR, model_dir_name, 'mean_224.nd'))['mean_img'].asnumpy()\n",
    "\n",
    "model_dir_name = 'inception-bn-blue'\n",
    "model_name = 'inception-bn-blue'\n",
    "model_iteration = 0\n",
    "output_symbol_name = 'flatten_output'\n",
    "output_dim = 1024\n",
    "mean_img = np.load(os.path.join(MODEL_ROOTDIR, model_dir_name, 'mean_224.npy'))\n",
    "\n",
    "\n",
    "model0 = mx.model.FeedForward.load(os.path.join(MODEL_ROOTDIR, model_dir_name, model_name), model_iteration, ctx=mx.gpu())\n",
    "flatten_output = model0.symbol.get_internals()[output_symbol_name]\n",
    "model = mx.model.FeedForward(ctx=mx.gpu(), \n",
    "                           symbol=flatten_output, \n",
    "                           arg_params = model0.arg_params, \n",
    "                           aux_params = model0.aux_params,\n",
    "                           allow_extra_params = True)\n",
    "\n",
    "# model_dir_name = 'inception-bn-sat'\n",
    "# model_name = 'inception-bn-sat'\n",
    "# model_iteration = 0\n",
    "# mean_img = np.load(os.path.join(MODEL_ROOTDIR, model_dir_name, 'mean_224.npy'))\n",
    "\n",
    "# model = mx.model.FeedForward.load(os.path.join(MODEL_ROOTDIR, model_dir_name, model_name), model_iteration, ctx=mx.gpu())"
   ]
  },
  {
   "cell_type": "code",
   "execution_count": 4,
   "metadata": {
    "collapsed": true
   },
   "outputs": [],
   "source": [
    "# Visualize network topology\n",
    "\n",
    "# a = mx.viz.plot_network(flatten_output, shape={\"data\":(1, 1, 224, 224)}, node_attrs={\"shape\":'rect',\"fixedsize\":'false'})\n",
    "# a.render(model_name)"
   ]
  },
  {
   "cell_type": "code",
   "execution_count": 5,
   "metadata": {
    "collapsed": true
   },
   "outputs": [],
   "source": [
    "patch_size = 224\n",
    "half_size = patch_size/2\n",
    "stride = 56"
   ]
  },
  {
   "cell_type": "code",
   "execution_count": null,
   "metadata": {
    "collapsed": true
   },
   "outputs": [],
   "source": [
    "# def convert_to_saturation(img, rescale=True):\n",
    "#     \"\"\"\n",
    "#     Generate saturation channel as a grayscale image.\n",
    "#     \"\"\"\n",
    "#     ma = img.max(axis=-1)\n",
    "#     mi = img.min(axis=-1)\n",
    "# #     sys.stderr.write('compute min and max color components: %.2f seconds\\n' % (time.time() - t1)) # ~5s\n",
    "\n",
    "# #     t1 = time.time()\n",
    "#     s = np.nan_to_num(mi/ma.astype(np.float))\n",
    "# #     sys.stderr.write('min oiver max: %.2f seconds\\n' % (time.time() - t1)) # ~2s\n",
    "\n",
    "# #     t1 = time.time()\n",
    "#     if rescale:\n",
    "#         pmax = s.max()\n",
    "#         pmin = s.min()\n",
    "#         s = (s - pmin) / (pmax - pmin)\n",
    "# #     sys.stderr.write('rescale: %.2f seconds\\n' % (time.time() - t1)) # ~3s\n",
    "\n",
    "#     return img_as_ubyte(s)"
   ]
  },
  {
   "cell_type": "code",
   "execution_count": null,
   "metadata": {
    "scrolled": true
   },
   "outputs": [],
   "source": [
    "# This shows that a mask covers 50% to 75% of the full area, so predicting only on masks roughly halves the time.\n",
    "\n",
    "stack = 'MD585'\n",
    "image_width, image_height = metadata_cache['image_shape'][stack]\n",
    "first_detect_sec, last_detect_sec = metadata_cache['section_limits'][stack]\n",
    "a = image_width / 32 * image_height / 32\n",
    "mask_coverage = {sec: np.count_nonzero(DataManager.load_thumbnail_mask_v2(stack=stack, section=sec))/float(a)\n",
    "for sec in range(first_detect_sec, last_detect_sec+1) if not is_invalid(stack=stack, sec=sec)}\n",
    "plt.plot(mask_coverage.keys(), mask_coverage.values());\n",
    "plt.xlabel('section');\n",
    "plt.ylabel('mask converage');"
   ]
  },
  {
   "cell_type": "code",
   "execution_count": 8,
   "metadata": {
    "scrolled": true
   },
   "outputs": [
    {
     "name": "stderr",
     "output_type": "stream",
     "text": [
      "\n",
      "Section 82.\n",
      "locate patches: 0.02 seconds\n",
      "33064 samples.\n",
      "load image: 1.33 seconds\n",
      "extract patches: 18.94 seconds\n",
      "predict: 82.04 seconds\n"
     ]
    },
    {
     "name": "stdout",
     "output_type": "stream",
     "text": [
      "MD590\n",
      "aws s3 cp /media/yuncong/BstemAtlasData/CSHL_patch_features/inception-bn-blue/MD590/MD590-IHC17-2015.08.10-19.09.09_MD590_2_0050_lossless_alignedTo_MD590-N47-2015.09.12-05.32.06_MD590_2_0140_cropped/MD590-IHC17-2015.08.10-19.09.09_MD590_2_0050_lossless_alignedTo_MD590-N47-2015.09.12-05.32.06_MD590_2_0140_cropped_features.hdf s3://mousebrainatlas-data/CSHL_patch_features/inception-bn-blue/MD590/MD590-IHC17-2015.08.10-19.09.09_MD590_2_0050_lossless_alignedTo_MD590-N47-2015.09.12-05.32.06_MD590_2_0140_cropped/MD590-IHC17-2015.08.10-19.09.09_MD590_2_0050_lossless_alignedTo_MD590-N47-2015.09.12-05.32.06_MD590_2_0140_cropped_features.hdf\n",
      "aws s3 cp /media/yuncong/BstemAtlasData/CSHL_patch_features/inception-bn-blue/MD590/MD590-IHC17-2015.08.10-19.09.09_MD590_2_0050_lossless_alignedTo_MD590-N47-2015.09.12-05.32.06_MD590_2_0140_cropped/MD590-IHC17-2015.08.10-19.09.09_MD590_2_0050_lossless_alignedTo_MD590-N47-2015.09.12-05.32.06_MD590_2_0140_cropped_patch_locations.txt s3://mousebrainatlas-data/CSHL_patch_features/inception-bn-blue/MD590/MD590-IHC17-2015.08.10-19.09.09_MD590_2_0050_lossless_alignedTo_MD590-N47-2015.09.12-05.32.06_MD590_2_0140_cropped/MD590-IHC17-2015.08.10-19.09.09_MD590_2_0050_lossless_alignedTo_MD590-N47-2015.09.12-05.32.06_MD590_2_0140_cropped_patch_locations.txt"
     ]
    },
    {
     "name": "stderr",
     "output_type": "stream",
     "text": [
      "Child returned 0\n",
      "2.43 seconds.\n",
      "Child returned 0\n",
      "1.32 seconds.\n",
      "save: 5.44 seconds\n",
      "\n",
      "Section 83.\n",
      "locate patches: 0.02 seconds\n",
      "32944 samples.\n",
      "load image: 2.07 seconds\n",
      "extract patches: 19.36 seconds\n",
      "predict: 82.84 seconds\n"
     ]
    },
    {
     "name": "stdout",
     "output_type": "stream",
     "text": [
      "\n",
      "aws s3 cp /media/yuncong/BstemAtlasData/CSHL_patch_features/inception-bn-blue/MD590/MD590-N17-2015.08.03-18.05.39_MD590_1_0051_lossless_alignedTo_MD590-N47-2015.09.12-05.32.06_MD590_2_0140_cropped/MD590-N17-2015.08.03-18.05.39_MD590_1_0051_lossless_alignedTo_MD590-N47-2015.09.12-05.32.06_MD590_2_0140_cropped_features.hdf s3://mousebrainatlas-data/CSHL_patch_features/inception-bn-blue/MD590/MD590-N17-2015.08.03-18.05.39_MD590_1_0051_lossless_alignedTo_MD590-N47-2015.09.12-05.32.06_MD590_2_0140_cropped/MD590-N17-2015.08.03-18.05.39_MD590_1_0051_lossless_alignedTo_MD590-N47-2015.09.12-05.32.06_MD590_2_0140_cropped_features.hdf\n",
      "aws s3 cp /media/yuncong/BstemAtlasData/CSHL_patch_features/inception-bn-blue/MD590/MD590-N17-2015.08.03-18.05.39_MD590_1_0051_lossless_alignedTo_MD590-N47-2015.09.12-05.32.06_MD590_2_0140_cropped/MD590-N17-2015.08.03-18.05.39_MD590_1_0051_lossless_alignedTo_MD590-N47-2015.09.12-05.32.06_MD590_2_0140_cropped_patch_locations.txt s3://mousebrainatlas-data/CSHL_patch_features/inception-bn-blue/MD590/MD590-N17-2015.08.03-18.05.39_MD590_1_0051_lossless_alignedTo_MD590-N47-2015.09.12-05.32.06_MD590_2_0140_cropped/MD590-N17-2015.08.03-18.05.39_MD590_1_0051_lossless_alignedTo_MD590-N47-2015.09.12-05.32.06_MD590_2_0140_cropped_patch_locations.txt"
     ]
    },
    {
     "name": "stderr",
     "output_type": "stream",
     "text": [
      "Child returned 0\n",
      "2.35 seconds.\n",
      "Child returned 0\n",
      "1.23 seconds.\n",
      "save: 5.22 seconds\n",
      "\n",
      "Section 84.\n",
      "locate patches: 0.03 seconds\n",
      "33273 samples.\n",
      "load image: 1.52 seconds\n",
      "extract patches: 17.56 seconds\n",
      "predict: 84.00 seconds\n"
     ]
    },
    {
     "name": "stdout",
     "output_type": "stream",
     "text": [
      "\n",
      "aws s3 cp /media/yuncong/BstemAtlasData/CSHL_patch_features/inception-bn-blue/MD590/MD590-IHC17-2015.08.10-19.09.09_MD590_1_0051_lossless_alignedTo_MD590-N47-2015.09.12-05.32.06_MD590_2_0140_cropped/MD590-IHC17-2015.08.10-19.09.09_MD590_1_0051_lossless_alignedTo_MD590-N47-2015.09.12-05.32.06_MD590_2_0140_cropped_features.hdf s3://mousebrainatlas-data/CSHL_patch_features/inception-bn-blue/MD590/MD590-IHC17-2015.08.10-19.09.09_MD590_1_0051_lossless_alignedTo_MD590-N47-2015.09.12-05.32.06_MD590_2_0140_cropped/MD590-IHC17-2015.08.10-19.09.09_MD590_1_0051_lossless_alignedTo_MD590-N47-2015.09.12-05.32.06_MD590_2_0140_cropped_features.hdf\n",
      "aws s3 cp /media/yuncong/BstemAtlasData/CSHL_patch_features/inception-bn-blue/MD590/MD590-IHC17-2015.08.10-19.09.09_MD590_1_0051_lossless_alignedTo_MD590-N47-2015.09.12-05.32.06_MD590_2_0140_cropped/MD590-IHC17-2015.08.10-19.09.09_MD590_1_0051_lossless_alignedTo_MD590-N47-2015.09.12-05.32.06_MD590_2_0140_cropped_patch_locations.txt s3://mousebrainatlas-data/CSHL_patch_features/inception-bn-blue/MD590/MD590-IHC17-2015.08.10-19.09.09_MD590_1_0051_lossless_alignedTo_MD590-N47-2015.09.12-05.32.06_MD590_2_0140_cropped/MD590-IHC17-2015.08.10-19.09.09_MD590_1_0051_lossless_alignedTo_MD590-N47-2015.09.12-05.32.06_MD590_2_0140_cropped_patch_locations.txt"
     ]
    },
    {
     "name": "stderr",
     "output_type": "stream",
     "text": [
      "Child returned 0\n",
      "2.33 seconds.\n",
      "Child returned 0\n",
      "1.37 seconds.\n",
      "save: 5.39 seconds\n",
      "\n",
      "Section 85.\n",
      "locate patches: 0.03 seconds\n",
      "33306 samples.\n",
      "load image: 2.20 seconds\n",
      "extract patches: 17.90 seconds\n",
      "predict: 85.11 seconds\n"
     ]
    },
    {
     "name": "stdout",
     "output_type": "stream",
     "text": [
      "\n",
      "aws s3 cp /media/yuncong/BstemAtlasData/CSHL_patch_features/inception-bn-blue/MD590/MD590-N18-2015.08.03-18.09.43_MD590_3_0052_lossless_alignedTo_MD590-N47-2015.09.12-05.32.06_MD590_2_0140_cropped/MD590-N18-2015.08.03-18.09.43_MD590_3_0052_lossless_alignedTo_MD590-N47-2015.09.12-05.32.06_MD590_2_0140_cropped_features.hdf s3://mousebrainatlas-data/CSHL_patch_features/inception-bn-blue/MD590/MD590-N18-2015.08.03-18.09.43_MD590_3_0052_lossless_alignedTo_MD590-N47-2015.09.12-05.32.06_MD590_2_0140_cropped/MD590-N18-2015.08.03-18.09.43_MD590_3_0052_lossless_alignedTo_MD590-N47-2015.09.12-05.32.06_MD590_2_0140_cropped_features.hdf\n",
      "aws s3 cp /media/yuncong/BstemAtlasData/CSHL_patch_features/inception-bn-blue/MD590/MD590-N18-2015.08.03-18.09.43_MD590_3_0052_lossless_alignedTo_MD590-N47-2015.09.12-05.32.06_MD590_2_0140_cropped/MD590-N18-2015.08.03-18.09.43_MD590_3_0052_lossless_alignedTo_MD590-N47-2015.09.12-05.32.06_MD590_2_0140_cropped_patch_locations.txt s3://mousebrainatlas-data/CSHL_patch_features/inception-bn-blue/MD590/MD590-N18-2015.08.03-18.09.43_MD590_3_0052_lossless_alignedTo_MD590-N47-2015.09.12-05.32.06_MD590_2_0140_cropped/MD590-N18-2015.08.03-18.09.43_MD590_3_0052_lossless_alignedTo_MD590-N47-2015.09.12-05.32.06_MD590_2_0140_cropped_patch_locations.txt"
     ]
    },
    {
     "name": "stderr",
     "output_type": "stream",
     "text": [
      "Child returned 0\n",
      "2.49 seconds.\n",
      "Child returned 0\n",
      "1.35 seconds.\n",
      "save: 5.56 seconds\n",
      "\n",
      "Section 86.\n",
      "locate patches: 0.03 seconds\n",
      "33526 samples.\n",
      "load image: 2.02 seconds\n",
      "extract patches: 17.76 seconds\n",
      "predict: 85.63 seconds\n"
     ]
    },
    {
     "name": "stdout",
     "output_type": "stream",
     "text": [
      "\n",
      "aws s3 cp /media/yuncong/BstemAtlasData/CSHL_patch_features/inception-bn-blue/MD590/MD590-IHC18-2015.08.10-19.13.20_MD590_3_0052_lossless_alignedTo_MD590-N47-2015.09.12-05.32.06_MD590_2_0140_cropped/MD590-IHC18-2015.08.10-19.13.20_MD590_3_0052_lossless_alignedTo_MD590-N47-2015.09.12-05.32.06_MD590_2_0140_cropped_features.hdf s3://mousebrainatlas-data/CSHL_patch_features/inception-bn-blue/MD590/MD590-IHC18-2015.08.10-19.13.20_MD590_3_0052_lossless_alignedTo_MD590-N47-2015.09.12-05.32.06_MD590_2_0140_cropped/MD590-IHC18-2015.08.10-19.13.20_MD590_3_0052_lossless_alignedTo_MD590-N47-2015.09.12-05.32.06_MD590_2_0140_cropped_features.hdf\n",
      "aws s3 cp /media/yuncong/BstemAtlasData/CSHL_patch_features/inception-bn-blue/MD590/MD590-IHC18-2015.08.10-19.13.20_MD590_3_0052_lossless_alignedTo_MD590-N47-2015.09.12-05.32.06_MD590_2_0140_cropped/MD590-IHC18-2015.08.10-19.13.20_MD590_3_0052_lossless_alignedTo_MD590-N47-2015.09.12-05.32.06_MD590_2_0140_cropped_patch_locations.txt s3://mousebrainatlas-data/CSHL_patch_features/inception-bn-blue/MD590/MD590-IHC18-2015.08.10-19.13.20_MD590_3_0052_lossless_alignedTo_MD590-N47-2015.09.12-05.32.06_MD590_2_0140_cropped/MD590-IHC18-2015.08.10-19.13.20_MD590_3_0052_lossless_alignedTo_MD590-N47-2015.09.12-05.32.06_MD590_2_0140_cropped_patch_locations.txt"
     ]
    },
    {
     "name": "stderr",
     "output_type": "stream",
     "text": [
      "Child returned 0\n",
      "2.31 seconds.\n",
      "Child returned 0\n",
      "1.23 seconds.\n",
      "save: 5.25 seconds\n",
      "\n",
      "Section 87.\n",
      "locate patches: 0.03 seconds\n",
      "33518 samples.\n",
      "load image: 2.12 seconds\n",
      "extract patches: 17.87 seconds\n",
      "predict: 85.66 seconds\n"
     ]
    },
    {
     "name": "stdout",
     "output_type": "stream",
     "text": [
      "\n",
      "aws s3 cp /media/yuncong/BstemAtlasData/CSHL_patch_features/inception-bn-blue/MD590/MD590-N18-2015.08.03-18.09.43_MD590_2_0053_lossless_alignedTo_MD590-N47-2015.09.12-05.32.06_MD590_2_0140_cropped/MD590-N18-2015.08.03-18.09.43_MD590_2_0053_lossless_alignedTo_MD590-N47-2015.09.12-05.32.06_MD590_2_0140_cropped_features.hdf s3://mousebrainatlas-data/CSHL_patch_features/inception-bn-blue/MD590/MD590-N18-2015.08.03-18.09.43_MD590_2_0053_lossless_alignedTo_MD590-N47-2015.09.12-05.32.06_MD590_2_0140_cropped/MD590-N18-2015.08.03-18.09.43_MD590_2_0053_lossless_alignedTo_MD590-N47-2015.09.12-05.32.06_MD590_2_0140_cropped_features.hdf\n",
      "aws s3 cp /media/yuncong/BstemAtlasData/CSHL_patch_features/inception-bn-blue/MD590/MD590-N18-2015.08.03-18.09.43_MD590_2_0053_lossless_alignedTo_MD590-N47-2015.09.12-05.32.06_MD590_2_0140_cropped/MD590-N18-2015.08.03-18.09.43_MD590_2_0053_lossless_alignedTo_MD590-N47-2015.09.12-05.32.06_MD590_2_0140_cropped_patch_locations.txt s3://mousebrainatlas-data/CSHL_patch_features/inception-bn-blue/MD590/MD590-N18-2015.08.03-18.09.43_MD590_2_0053_lossless_alignedTo_MD590-N47-2015.09.12-05.32.06_MD590_2_0140_cropped/MD590-N18-2015.08.03-18.09.43_MD590_2_0053_lossless_alignedTo_MD590-N47-2015.09.12-05.32.06_MD590_2_0140_cropped_patch_locations.txt"
     ]
    },
    {
     "name": "stderr",
     "output_type": "stream",
     "text": [
      "Child returned 0\n",
      "2.29 seconds.\n",
      "Child returned 0\n",
      "1.27 seconds.\n",
      "save: 5.25 seconds\n",
      "\n",
      "Section 88.\n",
      "locate patches: 0.02 seconds\n",
      "33576 samples.\n",
      "load image: 2.08 seconds\n",
      "extract patches: 17.36 seconds\n",
      "predict: 86.09 seconds\n"
     ]
    },
    {
     "name": "stdout",
     "output_type": "stream",
     "text": [
      "\n",
      "aws s3 cp /media/yuncong/BstemAtlasData/CSHL_patch_features/inception-bn-blue/MD590/MD590-IHC18-2015.08.10-19.13.20_MD590_2_0053_lossless_alignedTo_MD590-N47-2015.09.12-05.32.06_MD590_2_0140_cropped/MD590-IHC18-2015.08.10-19.13.20_MD590_2_0053_lossless_alignedTo_MD590-N47-2015.09.12-05.32.06_MD590_2_0140_cropped_features.hdf s3://mousebrainatlas-data/CSHL_patch_features/inception-bn-blue/MD590/MD590-IHC18-2015.08.10-19.13.20_MD590_2_0053_lossless_alignedTo_MD590-N47-2015.09.12-05.32.06_MD590_2_0140_cropped/MD590-IHC18-2015.08.10-19.13.20_MD590_2_0053_lossless_alignedTo_MD590-N47-2015.09.12-05.32.06_MD590_2_0140_cropped_features.hdf\n",
      "aws s3 cp /media/yuncong/BstemAtlasData/CSHL_patch_features/inception-bn-blue/MD590/MD590-IHC18-2015.08.10-19.13.20_MD590_2_0053_lossless_alignedTo_MD590-N47-2015.09.12-05.32.06_MD590_2_0140_cropped/MD590-IHC18-2015.08.10-19.13.20_MD590_2_0053_lossless_alignedTo_MD590-N47-2015.09.12-05.32.06_MD590_2_0140_cropped_patch_locations.txt s3://mousebrainatlas-data/CSHL_patch_features/inception-bn-blue/MD590/MD590-IHC18-2015.08.10-19.13.20_MD590_2_0053_lossless_alignedTo_MD590-N47-2015.09.12-05.32.06_MD590_2_0140_cropped/MD590-IHC18-2015.08.10-19.13.20_MD590_2_0053_lossless_alignedTo_MD590-N47-2015.09.12-05.32.06_MD590_2_0140_cropped_patch_locations.txt"
     ]
    },
    {
     "name": "stderr",
     "output_type": "stream",
     "text": [
      "Child returned 0\n",
      "2.25 seconds.\n",
      "Child returned 0\n",
      "1.28 seconds.\n",
      "save: 5.25 seconds\n",
      "\n",
      "Section 89.\n",
      "locate patches: 0.03 seconds\n",
      "33738 samples.\n",
      "load image: 2.23 seconds\n",
      "extract patches: 17.46 seconds\n",
      "predict: 85.65 seconds\n"
     ]
    },
    {
     "name": "stdout",
     "output_type": "stream",
     "text": [
      "\n",
      "aws s3 cp /media/yuncong/BstemAtlasData/CSHL_patch_features/inception-bn-blue/MD590/MD590-N18-2015.08.03-18.09.43_MD590_1_0054_lossless_alignedTo_MD590-N47-2015.09.12-05.32.06_MD590_2_0140_cropped/MD590-N18-2015.08.03-18.09.43_MD590_1_0054_lossless_alignedTo_MD590-N47-2015.09.12-05.32.06_MD590_2_0140_cropped_features.hdf s3://mousebrainatlas-data/CSHL_patch_features/inception-bn-blue/MD590/MD590-N18-2015.08.03-18.09.43_MD590_1_0054_lossless_alignedTo_MD590-N47-2015.09.12-05.32.06_MD590_2_0140_cropped/MD590-N18-2015.08.03-18.09.43_MD590_1_0054_lossless_alignedTo_MD590-N47-2015.09.12-05.32.06_MD590_2_0140_cropped_features.hdf\n",
      "aws s3 cp /media/yuncong/BstemAtlasData/CSHL_patch_features/inception-bn-blue/MD590/MD590-N18-2015.08.03-18.09.43_MD590_1_0054_lossless_alignedTo_MD590-N47-2015.09.12-05.32.06_MD590_2_0140_cropped/MD590-N18-2015.08.03-18.09.43_MD590_1_0054_lossless_alignedTo_MD590-N47-2015.09.12-05.32.06_MD590_2_0140_cropped_patch_locations.txt s3://mousebrainatlas-data/CSHL_patch_features/inception-bn-blue/MD590/MD590-N18-2015.08.03-18.09.43_MD590_1_0054_lossless_alignedTo_MD590-N47-2015.09.12-05.32.06_MD590_2_0140_cropped/MD590-N18-2015.08.03-18.09.43_MD590_1_0054_lossless_alignedTo_MD590-N47-2015.09.12-05.32.06_MD590_2_0140_cropped_patch_locations.txt"
     ]
    },
    {
     "name": "stderr",
     "output_type": "stream",
     "text": [
      "Child returned 0\n",
      "2.31 seconds.\n",
      "Child returned 0\n",
      "1.30 seconds.\n",
      "save: 5.36 seconds\n",
      "\n",
      "Section 90.\n",
      "locate patches: 0.03 seconds\n",
      "33877 samples.\n",
      "load image: 2.20 seconds\n",
      "extract patches: 17.87 seconds\n",
      "predict: 86.37 seconds\n"
     ]
    },
    {
     "name": "stdout",
     "output_type": "stream",
     "text": [
      "\n",
      "aws s3 cp /media/yuncong/BstemAtlasData/CSHL_patch_features/inception-bn-blue/MD590/MD590-IHC18-2015.08.10-19.13.20_MD590_1_0054_lossless_alignedTo_MD590-N47-2015.09.12-05.32.06_MD590_2_0140_cropped/MD590-IHC18-2015.08.10-19.13.20_MD590_1_0054_lossless_alignedTo_MD590-N47-2015.09.12-05.32.06_MD590_2_0140_cropped_features.hdf s3://mousebrainatlas-data/CSHL_patch_features/inception-bn-blue/MD590/MD590-IHC18-2015.08.10-19.13.20_MD590_1_0054_lossless_alignedTo_MD590-N47-2015.09.12-05.32.06_MD590_2_0140_cropped/MD590-IHC18-2015.08.10-19.13.20_MD590_1_0054_lossless_alignedTo_MD590-N47-2015.09.12-05.32.06_MD590_2_0140_cropped_features.hdf\n",
      "aws s3 cp /media/yuncong/BstemAtlasData/CSHL_patch_features/inception-bn-blue/MD590/MD590-IHC18-2015.08.10-19.13.20_MD590_1_0054_lossless_alignedTo_MD590-N47-2015.09.12-05.32.06_MD590_2_0140_cropped/MD590-IHC18-2015.08.10-19.13.20_MD590_1_0054_lossless_alignedTo_MD590-N47-2015.09.12-05.32.06_MD590_2_0140_cropped_patch_locations.txt s3://mousebrainatlas-data/CSHL_patch_features/inception-bn-blue/MD590/MD590-IHC18-2015.08.10-19.13.20_MD590_1_0054_lossless_alignedTo_MD590-N47-2015.09.12-05.32.06_MD590_2_0140_cropped/MD590-IHC18-2015.08.10-19.13.20_MD590_1_0054_lossless_alignedTo_MD590-N47-2015.09.12-05.32.06_MD590_2_0140_cropped_patch_locations.txt"
     ]
    },
    {
     "name": "stderr",
     "output_type": "stream",
     "text": [
      "Child returned 0\n",
      "2.45 seconds.\n",
      "Child returned 0\n",
      "1.26 seconds.\n",
      "save: 5.41 seconds\n",
      "\n",
      "Section 91.\n",
      "locate patches: 0.03 seconds\n",
      "34000 samples.\n",
      "load image: 1.46 seconds\n",
      "extract patches: 17.75 seconds\n",
      "predict: 87.25 seconds\n"
     ]
    },
    {
     "name": "stdout",
     "output_type": "stream",
     "text": [
      "\n",
      "aws s3 cp /media/yuncong/BstemAtlasData/CSHL_patch_features/inception-bn-blue/MD590/MD590-N19-2015.08.03-18.13.45_MD590_3_0055_lossless_alignedTo_MD590-N47-2015.09.12-05.32.06_MD590_2_0140_cropped/MD590-N19-2015.08.03-18.13.45_MD590_3_0055_lossless_alignedTo_MD590-N47-2015.09.12-05.32.06_MD590_2_0140_cropped_features.hdf s3://mousebrainatlas-data/CSHL_patch_features/inception-bn-blue/MD590/MD590-N19-2015.08.03-18.13.45_MD590_3_0055_lossless_alignedTo_MD590-N47-2015.09.12-05.32.06_MD590_2_0140_cropped/MD590-N19-2015.08.03-18.13.45_MD590_3_0055_lossless_alignedTo_MD590-N47-2015.09.12-05.32.06_MD590_2_0140_cropped_features.hdf\n",
      "aws s3 cp /media/yuncong/BstemAtlasData/CSHL_patch_features/inception-bn-blue/MD590/MD590-N19-2015.08.03-18.13.45_MD590_3_0055_lossless_alignedTo_MD590-N47-2015.09.12-05.32.06_MD590_2_0140_cropped/MD590-N19-2015.08.03-18.13.45_MD590_3_0055_lossless_alignedTo_MD590-N47-2015.09.12-05.32.06_MD590_2_0140_cropped_patch_locations.txt s3://mousebrainatlas-data/CSHL_patch_features/inception-bn-blue/MD590/MD590-N19-2015.08.03-18.13.45_MD590_3_0055_lossless_alignedTo_MD590-N47-2015.09.12-05.32.06_MD590_2_0140_cropped/MD590-N19-2015.08.03-18.13.45_MD590_3_0055_lossless_alignedTo_MD590-N47-2015.09.12-05.32.06_MD590_2_0140_cropped_patch_locations.txt"
     ]
    },
    {
     "name": "stderr",
     "output_type": "stream",
     "text": [
      "Child returned 0\n",
      "2.57 seconds.\n",
      "Child returned 0\n",
      "1.37 seconds.\n",
      "save: 5.60 seconds\n",
      "\n",
      "Section 93.\n",
      "locate patches: 0.02 seconds\n",
      "34287 samples.\n",
      "load image: 2.02 seconds\n",
      "extract patches: 17.93 seconds\n",
      "predict: 87.53 seconds\n"
     ]
    },
    {
     "name": "stdout",
     "output_type": "stream",
     "text": [
      "\n",
      "aws s3 cp /media/yuncong/BstemAtlasData/CSHL_patch_features/inception-bn-blue/MD590/MD590-N19-2015.08.03-18.13.45_MD590_2_0056_lossless_alignedTo_MD590-N47-2015.09.12-05.32.06_MD590_2_0140_cropped/MD590-N19-2015.08.03-18.13.45_MD590_2_0056_lossless_alignedTo_MD590-N47-2015.09.12-05.32.06_MD590_2_0140_cropped_features.hdf s3://mousebrainatlas-data/CSHL_patch_features/inception-bn-blue/MD590/MD590-N19-2015.08.03-18.13.45_MD590_2_0056_lossless_alignedTo_MD590-N47-2015.09.12-05.32.06_MD590_2_0140_cropped/MD590-N19-2015.08.03-18.13.45_MD590_2_0056_lossless_alignedTo_MD590-N47-2015.09.12-05.32.06_MD590_2_0140_cropped_features.hdf\n",
      "aws s3 cp /media/yuncong/BstemAtlasData/CSHL_patch_features/inception-bn-blue/MD590/MD590-N19-2015.08.03-18.13.45_MD590_2_0056_lossless_alignedTo_MD590-N47-2015.09.12-05.32.06_MD590_2_0140_cropped/MD590-N19-2015.08.03-18.13.45_MD590_2_0056_lossless_alignedTo_MD590-N47-2015.09.12-05.32.06_MD590_2_0140_cropped_patch_locations.txt s3://mousebrainatlas-data/CSHL_patch_features/inception-bn-blue/MD590/MD590-N19-2015.08.03-18.13.45_MD590_2_0056_lossless_alignedTo_MD590-N47-2015.09.12-05.32.06_MD590_2_0140_cropped/MD590-N19-2015.08.03-18.13.45_MD590_2_0056_lossless_alignedTo_MD590-N47-2015.09.12-05.32.06_MD590_2_0140_cropped_patch_locations.txt"
     ]
    },
    {
     "name": "stderr",
     "output_type": "stream",
     "text": [
      "Child returned 0\n",
      "2.57 seconds.\n",
      "Child returned 0\n",
      "1.22 seconds.\n",
      "save: 5.51 seconds\n",
      "\n",
      "Section 94.\n",
      "locate patches: 0.02 seconds\n",
      "34695 samples.\n",
      "load image: 2.17 seconds\n",
      "extract patches: 18.03 seconds\n",
      "predict: 89.31 seconds\n"
     ]
    },
    {
     "name": "stdout",
     "output_type": "stream",
     "text": [
      "\n",
      "aws s3 cp /media/yuncong/BstemAtlasData/CSHL_patch_features/inception-bn-blue/MD590/MD590-IHC19-2015.08.10-19.17.32_MD590_2_0056_lossless_alignedTo_MD590-N47-2015.09.12-05.32.06_MD590_2_0140_cropped/MD590-IHC19-2015.08.10-19.17.32_MD590_2_0056_lossless_alignedTo_MD590-N47-2015.09.12-05.32.06_MD590_2_0140_cropped_features.hdf s3://mousebrainatlas-data/CSHL_patch_features/inception-bn-blue/MD590/MD590-IHC19-2015.08.10-19.17.32_MD590_2_0056_lossless_alignedTo_MD590-N47-2015.09.12-05.32.06_MD590_2_0140_cropped/MD590-IHC19-2015.08.10-19.17.32_MD590_2_0056_lossless_alignedTo_MD590-N47-2015.09.12-05.32.06_MD590_2_0140_cropped_features.hdf\n",
      "aws s3 cp /media/yuncong/BstemAtlasData/CSHL_patch_features/inception-bn-blue/MD590/MD590-IHC19-2015.08.10-19.17.32_MD590_2_0056_lossless_alignedTo_MD590-N47-2015.09.12-05.32.06_MD590_2_0140_cropped/MD590-IHC19-2015.08.10-19.17.32_MD590_2_0056_lossless_alignedTo_MD590-N47-2015.09.12-05.32.06_MD590_2_0140_cropped_patch_locations.txt s3://mousebrainatlas-data/CSHL_patch_features/inception-bn-blue/MD590/MD590-IHC19-2015.08.10-19.17.32_MD590_2_0056_lossless_alignedTo_MD590-N47-2015.09.12-05.32.06_MD590_2_0140_cropped/MD590-IHC19-2015.08.10-19.17.32_MD590_2_0056_lossless_alignedTo_MD590-N47-2015.09.12-05.32.06_MD590_2_0140_cropped_patch_locations.txt"
     ]
    },
    {
     "name": "stderr",
     "output_type": "stream",
     "text": [
      "Child returned 0\n",
      "2.29 seconds.\n",
      "Child returned 0\n",
      "1.24 seconds.\n",
      "save: 5.32 seconds\n",
      "\n",
      "Section 95.\n",
      "locate patches: 0.02 seconds\n",
      "35015 samples.\n",
      "load image: 2.13 seconds\n",
      "extract patches: 18.57 seconds\n",
      "predict: 89.05 seconds\n"
     ]
    },
    {
     "name": "stdout",
     "output_type": "stream",
     "text": [
      "\n",
      "aws s3 cp /media/yuncong/BstemAtlasData/CSHL_patch_features/inception-bn-blue/MD590/MD590-N19-2015.08.03-18.13.45_MD590_1_0057_lossless_alignedTo_MD590-N47-2015.09.12-05.32.06_MD590_2_0140_cropped/MD590-N19-2015.08.03-18.13.45_MD590_1_0057_lossless_alignedTo_MD590-N47-2015.09.12-05.32.06_MD590_2_0140_cropped_features.hdf s3://mousebrainatlas-data/CSHL_patch_features/inception-bn-blue/MD590/MD590-N19-2015.08.03-18.13.45_MD590_1_0057_lossless_alignedTo_MD590-N47-2015.09.12-05.32.06_MD590_2_0140_cropped/MD590-N19-2015.08.03-18.13.45_MD590_1_0057_lossless_alignedTo_MD590-N47-2015.09.12-05.32.06_MD590_2_0140_cropped_features.hdf\n",
      "aws s3 cp /media/yuncong/BstemAtlasData/CSHL_patch_features/inception-bn-blue/MD590/MD590-N19-2015.08.03-18.13.45_MD590_1_0057_lossless_alignedTo_MD590-N47-2015.09.12-05.32.06_MD590_2_0140_cropped/MD590-N19-2015.08.03-18.13.45_MD590_1_0057_lossless_alignedTo_MD590-N47-2015.09.12-05.32.06_MD590_2_0140_cropped_patch_locations.txt s3://mousebrainatlas-data/CSHL_patch_features/inception-bn-blue/MD590/MD590-N19-2015.08.03-18.13.45_MD590_1_0057_lossless_alignedTo_MD590-N47-2015.09.12-05.32.06_MD590_2_0140_cropped/MD590-N19-2015.08.03-18.13.45_MD590_1_0057_lossless_alignedTo_MD590-N47-2015.09.12-05.32.06_MD590_2_0140_cropped_patch_locations.txt"
     ]
    },
    {
     "name": "stderr",
     "output_type": "stream",
     "text": [
      "Child returned 0\n",
      "2.50 seconds.\n",
      "Child returned 0\n",
      "1.31 seconds.\n",
      "save: 5.63 seconds\n",
      "\n",
      "Section 96.\n",
      "locate patches: 0.03 seconds\n",
      "35001 samples.\n",
      "load image: 1.97 seconds\n",
      "extract patches: 18.43 seconds\n",
      "predict: 90.17 seconds\n"
     ]
    },
    {
     "name": "stdout",
     "output_type": "stream",
     "text": [
      "\n",
      "aws s3 cp /media/yuncong/BstemAtlasData/CSHL_patch_features/inception-bn-blue/MD590/MD590-IHC19-2015.08.10-19.17.32_MD590_1_0057_lossless_alignedTo_MD590-N47-2015.09.12-05.32.06_MD590_2_0140_cropped/MD590-IHC19-2015.08.10-19.17.32_MD590_1_0057_lossless_alignedTo_MD590-N47-2015.09.12-05.32.06_MD590_2_0140_cropped_features.hdf s3://mousebrainatlas-data/CSHL_patch_features/inception-bn-blue/MD590/MD590-IHC19-2015.08.10-19.17.32_MD590_1_0057_lossless_alignedTo_MD590-N47-2015.09.12-05.32.06_MD590_2_0140_cropped/MD590-IHC19-2015.08.10-19.17.32_MD590_1_0057_lossless_alignedTo_MD590-N47-2015.09.12-05.32.06_MD590_2_0140_cropped_features.hdf\n",
      "aws s3 cp /media/yuncong/BstemAtlasData/CSHL_patch_features/inception-bn-blue/MD590/MD590-IHC19-2015.08.10-19.17.32_MD590_1_0057_lossless_alignedTo_MD590-N47-2015.09.12-05.32.06_MD590_2_0140_cropped/MD590-IHC19-2015.08.10-19.17.32_MD590_1_0057_lossless_alignedTo_MD590-N47-2015.09.12-05.32.06_MD590_2_0140_cropped_patch_locations.txt s3://mousebrainatlas-data/CSHL_patch_features/inception-bn-blue/MD590/MD590-IHC19-2015.08.10-19.17.32_MD590_1_0057_lossless_alignedTo_MD590-N47-2015.09.12-05.32.06_MD590_2_0140_cropped/MD590-IHC19-2015.08.10-19.17.32_MD590_1_0057_lossless_alignedTo_MD590-N47-2015.09.12-05.32.06_MD590_2_0140_cropped_patch_locations.txt"
     ]
    },
    {
     "name": "stderr",
     "output_type": "stream",
     "text": [
      "Child returned 0\n",
      "2.55 seconds.\n",
      "Child returned 0\n",
      "1.25 seconds.\n",
      "save: 5.55 seconds\n",
      "\n",
      "Section 97.\n",
      "locate patches: 0.03 seconds\n",
      "35460 samples.\n",
      "load image: 2.10 seconds\n",
      "extract patches: 18.40 seconds\n",
      "predict: 90.90 seconds\n"
     ]
    },
    {
     "name": "stdout",
     "output_type": "stream",
     "text": [
      "\n",
      "aws s3 cp /media/yuncong/BstemAtlasData/CSHL_patch_features/inception-bn-blue/MD590/MD590-N20-2015.08.03-18.17.51_MD590_3_0058_lossless_alignedTo_MD590-N47-2015.09.12-05.32.06_MD590_2_0140_cropped/MD590-N20-2015.08.03-18.17.51_MD590_3_0058_lossless_alignedTo_MD590-N47-2015.09.12-05.32.06_MD590_2_0140_cropped_features.hdf s3://mousebrainatlas-data/CSHL_patch_features/inception-bn-blue/MD590/MD590-N20-2015.08.03-18.17.51_MD590_3_0058_lossless_alignedTo_MD590-N47-2015.09.12-05.32.06_MD590_2_0140_cropped/MD590-N20-2015.08.03-18.17.51_MD590_3_0058_lossless_alignedTo_MD590-N47-2015.09.12-05.32.06_MD590_2_0140_cropped_features.hdf\n",
      "aws s3 cp /media/yuncong/BstemAtlasData/CSHL_patch_features/inception-bn-blue/MD590/MD590-N20-2015.08.03-18.17.51_MD590_3_0058_lossless_alignedTo_MD590-N47-2015.09.12-05.32.06_MD590_2_0140_cropped/MD590-N20-2015.08.03-18.17.51_MD590_3_0058_lossless_alignedTo_MD590-N47-2015.09.12-05.32.06_MD590_2_0140_cropped_patch_locations.txt s3://mousebrainatlas-data/CSHL_patch_features/inception-bn-blue/MD590/MD590-N20-2015.08.03-18.17.51_MD590_3_0058_lossless_alignedTo_MD590-N47-2015.09.12-05.32.06_MD590_2_0140_cropped/MD590-N20-2015.08.03-18.17.51_MD590_3_0058_lossless_alignedTo_MD590-N47-2015.09.12-05.32.06_MD590_2_0140_cropped_patch_locations.txt"
     ]
    },
    {
     "name": "stderr",
     "output_type": "stream",
     "text": [
      "Child returned 0\n",
      "2.33 seconds.\n",
      "Child returned 0\n",
      "1.35 seconds.\n",
      "save: 5.43 seconds\n",
      "\n",
      "Section 98.\n",
      "locate patches: 0.02 seconds\n",
      "35644 samples.\n",
      "load image: 2.17 seconds\n",
      "extract patches: 18.72 seconds\n",
      "predict: 91.22 seconds\n"
     ]
    },
    {
     "name": "stdout",
     "output_type": "stream",
     "text": [
      "\n",
      "aws s3 cp /media/yuncong/BstemAtlasData/CSHL_patch_features/inception-bn-blue/MD590/MD590-IHC20-2015.08.10-19.21.44_MD590_3_0058_lossless_alignedTo_MD590-N47-2015.09.12-05.32.06_MD590_2_0140_cropped/MD590-IHC20-2015.08.10-19.21.44_MD590_3_0058_lossless_alignedTo_MD590-N47-2015.09.12-05.32.06_MD590_2_0140_cropped_features.hdf s3://mousebrainatlas-data/CSHL_patch_features/inception-bn-blue/MD590/MD590-IHC20-2015.08.10-19.21.44_MD590_3_0058_lossless_alignedTo_MD590-N47-2015.09.12-05.32.06_MD590_2_0140_cropped/MD590-IHC20-2015.08.10-19.21.44_MD590_3_0058_lossless_alignedTo_MD590-N47-2015.09.12-05.32.06_MD590_2_0140_cropped_features.hdf\n",
      "aws s3 cp /media/yuncong/BstemAtlasData/CSHL_patch_features/inception-bn-blue/MD590/MD590-IHC20-2015.08.10-19.21.44_MD590_3_0058_lossless_alignedTo_MD590-N47-2015.09.12-05.32.06_MD590_2_0140_cropped/MD590-IHC20-2015.08.10-19.21.44_MD590_3_0058_lossless_alignedTo_MD590-N47-2015.09.12-05.32.06_MD590_2_0140_cropped_patch_locations.txt s3://mousebrainatlas-data/CSHL_patch_features/inception-bn-blue/MD590/MD590-IHC20-2015.08.10-19.21.44_MD590_3_0058_lossless_alignedTo_MD590-N47-2015.09.12-05.32.06_MD590_2_0140_cropped/MD590-IHC20-2015.08.10-19.21.44_MD590_3_0058_lossless_alignedTo_MD590-N47-2015.09.12-05.32.06_MD590_2_0140_cropped_patch_locations.txt"
     ]
    },
    {
     "name": "stderr",
     "output_type": "stream",
     "text": [
      "Child returned 0\n",
      "2.33 seconds.\n",
      "Child returned 0\n",
      "1.25 seconds.\n",
      "save: 5.34 seconds\n",
      "\n",
      "Section 99.\n",
      "locate patches: 0.03 seconds\n",
      "35534 samples.\n",
      "load image: 2.10 seconds\n",
      "extract patches: 18.24 seconds\n",
      "predict: 90.31 seconds\n"
     ]
    },
    {
     "name": "stdout",
     "output_type": "stream",
     "text": [
      "\n",
      "aws s3 cp /media/yuncong/BstemAtlasData/CSHL_patch_features/inception-bn-blue/MD590/MD590-N20-2015.08.03-18.17.51_MD590_2_0059_lossless_alignedTo_MD590-N47-2015.09.12-05.32.06_MD590_2_0140_cropped/MD590-N20-2015.08.03-18.17.51_MD590_2_0059_lossless_alignedTo_MD590-N47-2015.09.12-05.32.06_MD590_2_0140_cropped_features.hdf s3://mousebrainatlas-data/CSHL_patch_features/inception-bn-blue/MD590/MD590-N20-2015.08.03-18.17.51_MD590_2_0059_lossless_alignedTo_MD590-N47-2015.09.12-05.32.06_MD590_2_0140_cropped/MD590-N20-2015.08.03-18.17.51_MD590_2_0059_lossless_alignedTo_MD590-N47-2015.09.12-05.32.06_MD590_2_0140_cropped_features.hdf\n",
      "aws s3 cp /media/yuncong/BstemAtlasData/CSHL_patch_features/inception-bn-blue/MD590/MD590-N20-2015.08.03-18.17.51_MD590_2_0059_lossless_alignedTo_MD590-N47-2015.09.12-05.32.06_MD590_2_0140_cropped/MD590-N20-2015.08.03-18.17.51_MD590_2_0059_lossless_alignedTo_MD590-N47-2015.09.12-05.32.06_MD590_2_0140_cropped_patch_locations.txt s3://mousebrainatlas-data/CSHL_patch_features/inception-bn-blue/MD590/MD590-N20-2015.08.03-18.17.51_MD590_2_0059_lossless_alignedTo_MD590-N47-2015.09.12-05.32.06_MD590_2_0140_cropped/MD590-N20-2015.08.03-18.17.51_MD590_2_0059_lossless_alignedTo_MD590-N47-2015.09.12-05.32.06_MD590_2_0140_cropped_patch_locations.txt"
     ]
    },
    {
     "name": "stderr",
     "output_type": "stream",
     "text": [
      "Child returned 0\n",
      "2.37 seconds.\n",
      "Child returned 0\n",
      "1.29 seconds.\n",
      "save: 5.41 seconds\n",
      "\n",
      "Section 100.\n",
      "locate patches: 0.02 seconds\n",
      "36234 samples.\n",
      "load image: 2.20 seconds\n",
      "extract patches: 18.44 seconds\n",
      "predict: 92.88 seconds\n"
     ]
    },
    {
     "name": "stdout",
     "output_type": "stream",
     "text": [
      "\n",
      "aws s3 cp /media/yuncong/BstemAtlasData/CSHL_patch_features/inception-bn-blue/MD590/MD590-IHC20-2015.08.10-19.21.44_MD590_2_0059_lossless_alignedTo_MD590-N47-2015.09.12-05.32.06_MD590_2_0140_cropped/MD590-IHC20-2015.08.10-19.21.44_MD590_2_0059_lossless_alignedTo_MD590-N47-2015.09.12-05.32.06_MD590_2_0140_cropped_features.hdf s3://mousebrainatlas-data/CSHL_patch_features/inception-bn-blue/MD590/MD590-IHC20-2015.08.10-19.21.44_MD590_2_0059_lossless_alignedTo_MD590-N47-2015.09.12-05.32.06_MD590_2_0140_cropped/MD590-IHC20-2015.08.10-19.21.44_MD590_2_0059_lossless_alignedTo_MD590-N47-2015.09.12-05.32.06_MD590_2_0140_cropped_features.hdf\n",
      "aws s3 cp /media/yuncong/BstemAtlasData/CSHL_patch_features/inception-bn-blue/MD590/MD590-IHC20-2015.08.10-19.21.44_MD590_2_0059_lossless_alignedTo_MD590-N47-2015.09.12-05.32.06_MD590_2_0140_cropped/MD590-IHC20-2015.08.10-19.21.44_MD590_2_0059_lossless_alignedTo_MD590-N47-2015.09.12-05.32.06_MD590_2_0140_cropped_patch_locations.txt s3://mousebrainatlas-data/CSHL_patch_features/inception-bn-blue/MD590/MD590-IHC20-2015.08.10-19.21.44_MD590_2_0059_lossless_alignedTo_MD590-N47-2015.09.12-05.32.06_MD590_2_0140_cropped/MD590-IHC20-2015.08.10-19.21.44_MD590_2_0059_lossless_alignedTo_MD590-N47-2015.09.12-05.32.06_MD590_2_0140_cropped_patch_locations.txt"
     ]
    },
    {
     "name": "stderr",
     "output_type": "stream",
     "text": [
      "Child returned 0\n",
      "2.36 seconds.\n",
      "Child returned 0\n",
      "1.29 seconds.\n",
      "save: 5.51 seconds\n",
      "\n",
      "Section 101.\n",
      "locate patches: 0.03 seconds\n",
      "36097 samples.\n",
      "load image: 2.20 seconds\n",
      "extract patches: 18.30 seconds\n",
      "predict: 92.10 seconds\n"
     ]
    },
    {
     "name": "stdout",
     "output_type": "stream",
     "text": [
      "\n",
      "aws s3 cp /media/yuncong/BstemAtlasData/CSHL_patch_features/inception-bn-blue/MD590/MD590-N20-2015.08.03-18.17.51_MD590_1_0060_lossless_alignedTo_MD590-N47-2015.09.12-05.32.06_MD590_2_0140_cropped/MD590-N20-2015.08.03-18.17.51_MD590_1_0060_lossless_alignedTo_MD590-N47-2015.09.12-05.32.06_MD590_2_0140_cropped_features.hdf s3://mousebrainatlas-data/CSHL_patch_features/inception-bn-blue/MD590/MD590-N20-2015.08.03-18.17.51_MD590_1_0060_lossless_alignedTo_MD590-N47-2015.09.12-05.32.06_MD590_2_0140_cropped/MD590-N20-2015.08.03-18.17.51_MD590_1_0060_lossless_alignedTo_MD590-N47-2015.09.12-05.32.06_MD590_2_0140_cropped_features.hdf\n",
      "aws s3 cp /media/yuncong/BstemAtlasData/CSHL_patch_features/inception-bn-blue/MD590/MD590-N20-2015.08.03-18.17.51_MD590_1_0060_lossless_alignedTo_MD590-N47-2015.09.12-05.32.06_MD590_2_0140_cropped/MD590-N20-2015.08.03-18.17.51_MD590_1_0060_lossless_alignedTo_MD590-N47-2015.09.12-05.32.06_MD590_2_0140_cropped_patch_locations.txt s3://mousebrainatlas-data/CSHL_patch_features/inception-bn-blue/MD590/MD590-N20-2015.08.03-18.17.51_MD590_1_0060_lossless_alignedTo_MD590-N47-2015.09.12-05.32.06_MD590_2_0140_cropped/MD590-N20-2015.08.03-18.17.51_MD590_1_0060_lossless_alignedTo_MD590-N47-2015.09.12-05.32.06_MD590_2_0140_cropped_patch_locations.txt"
     ]
    },
    {
     "name": "stderr",
     "output_type": "stream",
     "text": [
      "Child returned 0\n",
      "2.32 seconds.\n",
      "Child returned 0\n",
      "1.23 seconds.\n",
      "save: 5.34 seconds\n",
      "\n",
      "Section 102.\n",
      "locate patches: 0.02 seconds\n",
      "35980 samples.\n",
      "load image: 2.08 seconds\n",
      "extract patches: 18.21 seconds\n",
      "predict: 90.34 seconds\n"
     ]
    },
    {
     "name": "stdout",
     "output_type": "stream",
     "text": [
      "\n",
      "aws s3 cp /media/yuncong/BstemAtlasData/CSHL_patch_features/inception-bn-blue/MD590/MD590-IHC20-2015.08.10-19.21.44_MD590_1_0060_lossless_alignedTo_MD590-N47-2015.09.12-05.32.06_MD590_2_0140_cropped/MD590-IHC20-2015.08.10-19.21.44_MD590_1_0060_lossless_alignedTo_MD590-N47-2015.09.12-05.32.06_MD590_2_0140_cropped_features.hdf s3://mousebrainatlas-data/CSHL_patch_features/inception-bn-blue/MD590/MD590-IHC20-2015.08.10-19.21.44_MD590_1_0060_lossless_alignedTo_MD590-N47-2015.09.12-05.32.06_MD590_2_0140_cropped/MD590-IHC20-2015.08.10-19.21.44_MD590_1_0060_lossless_alignedTo_MD590-N47-2015.09.12-05.32.06_MD590_2_0140_cropped_features.hdf\n",
      "aws s3 cp /media/yuncong/BstemAtlasData/CSHL_patch_features/inception-bn-blue/MD590/MD590-IHC20-2015.08.10-19.21.44_MD590_1_0060_lossless_alignedTo_MD590-N47-2015.09.12-05.32.06_MD590_2_0140_cropped/MD590-IHC20-2015.08.10-19.21.44_MD590_1_0060_lossless_alignedTo_MD590-N47-2015.09.12-05.32.06_MD590_2_0140_cropped_patch_locations.txt s3://mousebrainatlas-data/CSHL_patch_features/inception-bn-blue/MD590/MD590-IHC20-2015.08.10-19.21.44_MD590_1_0060_lossless_alignedTo_MD590-N47-2015.09.12-05.32.06_MD590_2_0140_cropped/MD590-IHC20-2015.08.10-19.21.44_MD590_1_0060_lossless_alignedTo_MD590-N47-2015.09.12-05.32.06_MD590_2_0140_cropped_patch_locations.txt"
     ]
    },
    {
     "name": "stderr",
     "output_type": "stream",
     "text": [
      "Child returned 0\n",
      "2.46 seconds.\n",
      "Child returned 0\n",
      "1.29 seconds.\n",
      "save: 5.62 seconds\n",
      "\n",
      "Section 103.\n",
      "locate patches: 0.54 seconds\n",
      "35969 samples.\n",
      "load image: 1.52 seconds\n",
      "extract patches: 17.70 seconds\n",
      "predict: 91.05 seconds\n"
     ]
    },
    {
     "name": "stdout",
     "output_type": "stream",
     "text": [
      "\n",
      "aws s3 cp /media/yuncong/BstemAtlasData/CSHL_patch_features/inception-bn-blue/MD590/MD590-N21-2015.08.03-18.21.58_MD590_3_0061_lossless_alignedTo_MD590-N47-2015.09.12-05.32.06_MD590_2_0140_cropped/MD590-N21-2015.08.03-18.21.58_MD590_3_0061_lossless_alignedTo_MD590-N47-2015.09.12-05.32.06_MD590_2_0140_cropped_features.hdf s3://mousebrainatlas-data/CSHL_patch_features/inception-bn-blue/MD590/MD590-N21-2015.08.03-18.21.58_MD590_3_0061_lossless_alignedTo_MD590-N47-2015.09.12-05.32.06_MD590_2_0140_cropped/MD590-N21-2015.08.03-18.21.58_MD590_3_0061_lossless_alignedTo_MD590-N47-2015.09.12-05.32.06_MD590_2_0140_cropped_features.hdf\n",
      "aws s3 cp /media/yuncong/BstemAtlasData/CSHL_patch_features/inception-bn-blue/MD590/MD590-N21-2015.08.03-18.21.58_MD590_3_0061_lossless_alignedTo_MD590-N47-2015.09.12-05.32.06_MD590_2_0140_cropped/MD590-N21-2015.08.03-18.21.58_MD590_3_0061_lossless_alignedTo_MD590-N47-2015.09.12-05.32.06_MD590_2_0140_cropped_patch_locations.txt s3://mousebrainatlas-data/CSHL_patch_features/inception-bn-blue/MD590/MD590-N21-2015.08.03-18.21.58_MD590_3_0061_lossless_alignedTo_MD590-N47-2015.09.12-05.32.06_MD590_2_0140_cropped/MD590-N21-2015.08.03-18.21.58_MD590_3_0061_lossless_alignedTo_MD590-N47-2015.09.12-05.32.06_MD590_2_0140_cropped_patch_locations.txt"
     ]
    },
    {
     "name": "stderr",
     "output_type": "stream",
     "text": [
      "Child returned 0\n",
      "2.39 seconds.\n",
      "Child returned 0\n",
      "1.33 seconds.\n",
      "save: 5.59 seconds\n",
      "\n",
      "Section 104.\n",
      "locate patches: 0.02 seconds\n",
      "35916 samples.\n",
      "load image: 2.01 seconds\n",
      "extract patches: 17.86 seconds\n",
      "predict: 90.68 seconds\n"
     ]
    },
    {
     "name": "stdout",
     "output_type": "stream",
     "text": [
      "\n",
      "aws s3 cp /media/yuncong/BstemAtlasData/CSHL_patch_features/inception-bn-blue/MD590/MD590-IHC21-2015.08.10-19.25.54_MD590_3_0061_lossless_alignedTo_MD590-N47-2015.09.12-05.32.06_MD590_2_0140_cropped/MD590-IHC21-2015.08.10-19.25.54_MD590_3_0061_lossless_alignedTo_MD590-N47-2015.09.12-05.32.06_MD590_2_0140_cropped_features.hdf s3://mousebrainatlas-data/CSHL_patch_features/inception-bn-blue/MD590/MD590-IHC21-2015.08.10-19.25.54_MD590_3_0061_lossless_alignedTo_MD590-N47-2015.09.12-05.32.06_MD590_2_0140_cropped/MD590-IHC21-2015.08.10-19.25.54_MD590_3_0061_lossless_alignedTo_MD590-N47-2015.09.12-05.32.06_MD590_2_0140_cropped_features.hdf\n",
      "aws s3 cp /media/yuncong/BstemAtlasData/CSHL_patch_features/inception-bn-blue/MD590/MD590-IHC21-2015.08.10-19.25.54_MD590_3_0061_lossless_alignedTo_MD590-N47-2015.09.12-05.32.06_MD590_2_0140_cropped/MD590-IHC21-2015.08.10-19.25.54_MD590_3_0061_lossless_alignedTo_MD590-N47-2015.09.12-05.32.06_MD590_2_0140_cropped_patch_locations.txt s3://mousebrainatlas-data/CSHL_patch_features/inception-bn-blue/MD590/MD590-IHC21-2015.08.10-19.25.54_MD590_3_0061_lossless_alignedTo_MD590-N47-2015.09.12-05.32.06_MD590_2_0140_cropped/MD590-IHC21-2015.08.10-19.25.54_MD590_3_0061_lossless_alignedTo_MD590-N47-2015.09.12-05.32.06_MD590_2_0140_cropped_patch_locations.txt"
     ]
    },
    {
     "name": "stderr",
     "output_type": "stream",
     "text": [
      "Child returned 0\n",
      "2.46 seconds.\n",
      "Child returned 0\n",
      "1.30 seconds.\n",
      "save: 5.53 seconds\n",
      "\n",
      "Section 105.\n",
      "locate patches: 0.03 seconds\n",
      "36144 samples.\n",
      "load image: 2.07 seconds\n",
      "extract patches: 17.48 seconds\n",
      "predict: 92.31 seconds\n"
     ]
    },
    {
     "name": "stdout",
     "output_type": "stream",
     "text": [
      "\n",
      "aws s3 cp /media/yuncong/BstemAtlasData/CSHL_patch_features/inception-bn-blue/MD590/MD590-N21-2015.08.03-18.21.58_MD590_2_0062_lossless_alignedTo_MD590-N47-2015.09.12-05.32.06_MD590_2_0140_cropped/MD590-N21-2015.08.03-18.21.58_MD590_2_0062_lossless_alignedTo_MD590-N47-2015.09.12-05.32.06_MD590_2_0140_cropped_features.hdf s3://mousebrainatlas-data/CSHL_patch_features/inception-bn-blue/MD590/MD590-N21-2015.08.03-18.21.58_MD590_2_0062_lossless_alignedTo_MD590-N47-2015.09.12-05.32.06_MD590_2_0140_cropped/MD590-N21-2015.08.03-18.21.58_MD590_2_0062_lossless_alignedTo_MD590-N47-2015.09.12-05.32.06_MD590_2_0140_cropped_features.hdf\n",
      "aws s3 cp /media/yuncong/BstemAtlasData/CSHL_patch_features/inception-bn-blue/MD590/MD590-N21-2015.08.03-18.21.58_MD590_2_0062_lossless_alignedTo_MD590-N47-2015.09.12-05.32.06_MD590_2_0140_cropped/MD590-N21-2015.08.03-18.21.58_MD590_2_0062_lossless_alignedTo_MD590-N47-2015.09.12-05.32.06_MD590_2_0140_cropped_patch_locations.txt s3://mousebrainatlas-data/CSHL_patch_features/inception-bn-blue/MD590/MD590-N21-2015.08.03-18.21.58_MD590_2_0062_lossless_alignedTo_MD590-N47-2015.09.12-05.32.06_MD590_2_0140_cropped/MD590-N21-2015.08.03-18.21.58_MD590_2_0062_lossless_alignedTo_MD590-N47-2015.09.12-05.32.06_MD590_2_0140_cropped_patch_locations.txt"
     ]
    },
    {
     "name": "stderr",
     "output_type": "stream",
     "text": [
      "Child returned 0\n",
      "2.40 seconds.\n",
      "Child returned 0\n",
      "1.28 seconds.\n",
      "save: 5.47 seconds\n",
      "\n",
      "Section 106.\n",
      "locate patches: 0.03 seconds\n",
      "36663 samples.\n",
      "load image: 2.07 seconds\n",
      "extract patches: 18.01 seconds\n",
      "predict: 93.31 seconds\n"
     ]
    },
    {
     "name": "stdout",
     "output_type": "stream",
     "text": [
      "\n",
      "aws s3 cp /media/yuncong/BstemAtlasData/CSHL_patch_features/inception-bn-blue/MD590/MD590-IHC21-2015.08.10-19.25.54_MD590_2_0062_lossless_alignedTo_MD590-N47-2015.09.12-05.32.06_MD590_2_0140_cropped/MD590-IHC21-2015.08.10-19.25.54_MD590_2_0062_lossless_alignedTo_MD590-N47-2015.09.12-05.32.06_MD590_2_0140_cropped_features.hdf s3://mousebrainatlas-data/CSHL_patch_features/inception-bn-blue/MD590/MD590-IHC21-2015.08.10-19.25.54_MD590_2_0062_lossless_alignedTo_MD590-N47-2015.09.12-05.32.06_MD590_2_0140_cropped/MD590-IHC21-2015.08.10-19.25.54_MD590_2_0062_lossless_alignedTo_MD590-N47-2015.09.12-05.32.06_MD590_2_0140_cropped_features.hdf\n",
      "aws s3 cp /media/yuncong/BstemAtlasData/CSHL_patch_features/inception-bn-blue/MD590/MD590-IHC21-2015.08.10-19.25.54_MD590_2_0062_lossless_alignedTo_MD590-N47-2015.09.12-05.32.06_MD590_2_0140_cropped/MD590-IHC21-2015.08.10-19.25.54_MD590_2_0062_lossless_alignedTo_MD590-N47-2015.09.12-05.32.06_MD590_2_0140_cropped_patch_locations.txt s3://mousebrainatlas-data/CSHL_patch_features/inception-bn-blue/MD590/MD590-IHC21-2015.08.10-19.25.54_MD590_2_0062_lossless_alignedTo_MD590-N47-2015.09.12-05.32.06_MD590_2_0140_cropped/MD590-IHC21-2015.08.10-19.25.54_MD590_2_0062_lossless_alignedTo_MD590-N47-2015.09.12-05.32.06_MD590_2_0140_cropped_patch_locations.txt"
     ]
    },
    {
     "name": "stderr",
     "output_type": "stream",
     "text": [
      "Child returned 0\n",
      "2.48 seconds.\n",
      "Child returned 0\n",
      "1.28 seconds.\n",
      "save: 5.56 seconds\n",
      "\n",
      "Section 107.\n",
      "locate patches: 0.03 seconds\n",
      "36624 samples.\n",
      "load image: 1.45 seconds\n",
      "extract patches: 17.63 seconds\n",
      "predict: 94.04 seconds\n"
     ]
    },
    {
     "name": "stdout",
     "output_type": "stream",
     "text": [
      "\n",
      "aws s3 cp /media/yuncong/BstemAtlasData/CSHL_patch_features/inception-bn-blue/MD590/MD590-N21-2015.08.03-18.21.58_MD590_1_0063_lossless_alignedTo_MD590-N47-2015.09.12-05.32.06_MD590_2_0140_cropped/MD590-N21-2015.08.03-18.21.58_MD590_1_0063_lossless_alignedTo_MD590-N47-2015.09.12-05.32.06_MD590_2_0140_cropped_features.hdf s3://mousebrainatlas-data/CSHL_patch_features/inception-bn-blue/MD590/MD590-N21-2015.08.03-18.21.58_MD590_1_0063_lossless_alignedTo_MD590-N47-2015.09.12-05.32.06_MD590_2_0140_cropped/MD590-N21-2015.08.03-18.21.58_MD590_1_0063_lossless_alignedTo_MD590-N47-2015.09.12-05.32.06_MD590_2_0140_cropped_features.hdf\n",
      "aws s3 cp /media/yuncong/BstemAtlasData/CSHL_patch_features/inception-bn-blue/MD590/MD590-N21-2015.08.03-18.21.58_MD590_1_0063_lossless_alignedTo_MD590-N47-2015.09.12-05.32.06_MD590_2_0140_cropped/MD590-N21-2015.08.03-18.21.58_MD590_1_0063_lossless_alignedTo_MD590-N47-2015.09.12-05.32.06_MD590_2_0140_cropped_patch_locations.txt s3://mousebrainatlas-data/CSHL_patch_features/inception-bn-blue/MD590/MD590-N21-2015.08.03-18.21.58_MD590_1_0063_lossless_alignedTo_MD590-N47-2015.09.12-05.32.06_MD590_2_0140_cropped/MD590-N21-2015.08.03-18.21.58_MD590_1_0063_lossless_alignedTo_MD590-N47-2015.09.12-05.32.06_MD590_2_0140_cropped_patch_locations.txt"
     ]
    },
    {
     "name": "stderr",
     "output_type": "stream",
     "text": [
      "Child returned 0\n",
      "3.03 seconds.\n",
      "Child returned 0\n",
      "1.34 seconds.\n",
      "save: 6.22 seconds\n",
      "\n",
      "Section 108.\n",
      "locate patches: 0.03 seconds\n",
      "37054 samples.\n",
      "load image: 1.56 seconds\n",
      "extract patches: 17.90 seconds\n",
      "predict: 94.70 seconds\n"
     ]
    },
    {
     "name": "stdout",
     "output_type": "stream",
     "text": [
      "\n",
      "aws s3 cp /media/yuncong/BstemAtlasData/CSHL_patch_features/inception-bn-blue/MD590/MD590-IHC21-2015.08.10-19.25.54_MD590_1_0063_lossless_alignedTo_MD590-N47-2015.09.12-05.32.06_MD590_2_0140_cropped/MD590-IHC21-2015.08.10-19.25.54_MD590_1_0063_lossless_alignedTo_MD590-N47-2015.09.12-05.32.06_MD590_2_0140_cropped_features.hdf s3://mousebrainatlas-data/CSHL_patch_features/inception-bn-blue/MD590/MD590-IHC21-2015.08.10-19.25.54_MD590_1_0063_lossless_alignedTo_MD590-N47-2015.09.12-05.32.06_MD590_2_0140_cropped/MD590-IHC21-2015.08.10-19.25.54_MD590_1_0063_lossless_alignedTo_MD590-N47-2015.09.12-05.32.06_MD590_2_0140_cropped_features.hdf\n",
      "aws s3 cp /media/yuncong/BstemAtlasData/CSHL_patch_features/inception-bn-blue/MD590/MD590-IHC21-2015.08.10-19.25.54_MD590_1_0063_lossless_alignedTo_MD590-N47-2015.09.12-05.32.06_MD590_2_0140_cropped/MD590-IHC21-2015.08.10-19.25.54_MD590_1_0063_lossless_alignedTo_MD590-N47-2015.09.12-05.32.06_MD590_2_0140_cropped_patch_locations.txt s3://mousebrainatlas-data/CSHL_patch_features/inception-bn-blue/MD590/MD590-IHC21-2015.08.10-19.25.54_MD590_1_0063_lossless_alignedTo_MD590-N47-2015.09.12-05.32.06_MD590_2_0140_cropped/MD590-IHC21-2015.08.10-19.25.54_MD590_1_0063_lossless_alignedTo_MD590-N47-2015.09.12-05.32.06_MD590_2_0140_cropped_patch_locations.txt"
     ]
    },
    {
     "name": "stderr",
     "output_type": "stream",
     "text": [
      "Child returned 0\n",
      "2.41 seconds.\n",
      "Child returned 0\n",
      "1.30 seconds.\n",
      "save: 5.59 seconds\n",
      "\n",
      "Section 109.\n",
      "locate patches: 0.04 seconds\n",
      "36782 samples.\n",
      "load image: 1.52 seconds\n",
      "extract patches: 17.39 seconds\n",
      "predict: 95.13 seconds\n"
     ]
    },
    {
     "name": "stdout",
     "output_type": "stream",
     "text": [
      "\n",
      "aws s3 cp /media/yuncong/BstemAtlasData/CSHL_patch_features/inception-bn-blue/MD590/MD590-N22-2015.08.03-18.25.59_MD590_3_0064_lossless_alignedTo_MD590-N47-2015.09.12-05.32.06_MD590_2_0140_cropped/MD590-N22-2015.08.03-18.25.59_MD590_3_0064_lossless_alignedTo_MD590-N47-2015.09.12-05.32.06_MD590_2_0140_cropped_features.hdf s3://mousebrainatlas-data/CSHL_patch_features/inception-bn-blue/MD590/MD590-N22-2015.08.03-18.25.59_MD590_3_0064_lossless_alignedTo_MD590-N47-2015.09.12-05.32.06_MD590_2_0140_cropped/MD590-N22-2015.08.03-18.25.59_MD590_3_0064_lossless_alignedTo_MD590-N47-2015.09.12-05.32.06_MD590_2_0140_cropped_features.hdf\n",
      "aws s3 cp /media/yuncong/BstemAtlasData/CSHL_patch_features/inception-bn-blue/MD590/MD590-N22-2015.08.03-18.25.59_MD590_3_0064_lossless_alignedTo_MD590-N47-2015.09.12-05.32.06_MD590_2_0140_cropped/MD590-N22-2015.08.03-18.25.59_MD590_3_0064_lossless_alignedTo_MD590-N47-2015.09.12-05.32.06_MD590_2_0140_cropped_patch_locations.txt s3://mousebrainatlas-data/CSHL_patch_features/inception-bn-blue/MD590/MD590-N22-2015.08.03-18.25.59_MD590_3_0064_lossless_alignedTo_MD590-N47-2015.09.12-05.32.06_MD590_2_0140_cropped/MD590-N22-2015.08.03-18.25.59_MD590_3_0064_lossless_alignedTo_MD590-N47-2015.09.12-05.32.06_MD590_2_0140_cropped_patch_locations.txt"
     ]
    },
    {
     "name": "stderr",
     "output_type": "stream",
     "text": [
      "Child returned 0\n",
      "2.41 seconds.\n",
      "Child returned 0\n",
      "1.28 seconds.\n",
      "save: 5.56 seconds\n",
      "\n",
      "Section 110.\n",
      "locate patches: 0.03 seconds\n",
      "37258 samples.\n",
      "load image: 2.04 seconds\n",
      "extract patches: 17.28 seconds\n",
      "predict: 96.46 seconds\n"
     ]
    },
    {
     "name": "stdout",
     "output_type": "stream",
     "text": [
      "\n",
      "aws s3 cp /media/yuncong/BstemAtlasData/CSHL_patch_features/inception-bn-blue/MD590/MD590-IHC22-2015.08.10-19.30.03_MD590_3_0064_lossless_alignedTo_MD590-N47-2015.09.12-05.32.06_MD590_2_0140_cropped/MD590-IHC22-2015.08.10-19.30.03_MD590_3_0064_lossless_alignedTo_MD590-N47-2015.09.12-05.32.06_MD590_2_0140_cropped_features.hdf s3://mousebrainatlas-data/CSHL_patch_features/inception-bn-blue/MD590/MD590-IHC22-2015.08.10-19.30.03_MD590_3_0064_lossless_alignedTo_MD590-N47-2015.09.12-05.32.06_MD590_2_0140_cropped/MD590-IHC22-2015.08.10-19.30.03_MD590_3_0064_lossless_alignedTo_MD590-N47-2015.09.12-05.32.06_MD590_2_0140_cropped_features.hdf\n",
      "aws s3 cp /media/yuncong/BstemAtlasData/CSHL_patch_features/inception-bn-blue/MD590/MD590-IHC22-2015.08.10-19.30.03_MD590_3_0064_lossless_alignedTo_MD590-N47-2015.09.12-05.32.06_MD590_2_0140_cropped/MD590-IHC22-2015.08.10-19.30.03_MD590_3_0064_lossless_alignedTo_MD590-N47-2015.09.12-05.32.06_MD590_2_0140_cropped_patch_locations.txt s3://mousebrainatlas-data/CSHL_patch_features/inception-bn-blue/MD590/MD590-IHC22-2015.08.10-19.30.03_MD590_3_0064_lossless_alignedTo_MD590-N47-2015.09.12-05.32.06_MD590_2_0140_cropped/MD590-IHC22-2015.08.10-19.30.03_MD590_3_0064_lossless_alignedTo_MD590-N47-2015.09.12-05.32.06_MD590_2_0140_cropped_patch_locations.txt"
     ]
    },
    {
     "name": "stderr",
     "output_type": "stream",
     "text": [
      "Child returned 0\n",
      "2.51 seconds.\n",
      "Child returned 0\n",
      "1.34 seconds.\n",
      "save: 5.75 seconds\n",
      "\n",
      "Section 111.\n",
      "locate patches: 0.02 seconds\n",
      "36453 samples.\n",
      "load image: 1.84 seconds\n",
      "extract patches: 16.88 seconds\n",
      "predict: 93.67 seconds\n"
     ]
    },
    {
     "name": "stdout",
     "output_type": "stream",
     "text": [
      "\n",
      "aws s3 cp /media/yuncong/BstemAtlasData/CSHL_patch_features/inception-bn-blue/MD590/MD590-N22-2015.08.03-18.25.59_MD590_2_0065_lossless_alignedTo_MD590-N47-2015.09.12-05.32.06_MD590_2_0140_cropped/MD590-N22-2015.08.03-18.25.59_MD590_2_0065_lossless_alignedTo_MD590-N47-2015.09.12-05.32.06_MD590_2_0140_cropped_features.hdf s3://mousebrainatlas-data/CSHL_patch_features/inception-bn-blue/MD590/MD590-N22-2015.08.03-18.25.59_MD590_2_0065_lossless_alignedTo_MD590-N47-2015.09.12-05.32.06_MD590_2_0140_cropped/MD590-N22-2015.08.03-18.25.59_MD590_2_0065_lossless_alignedTo_MD590-N47-2015.09.12-05.32.06_MD590_2_0140_cropped_features.hdf\n",
      "aws s3 cp /media/yuncong/BstemAtlasData/CSHL_patch_features/inception-bn-blue/MD590/MD590-N22-2015.08.03-18.25.59_MD590_2_0065_lossless_alignedTo_MD590-N47-2015.09.12-05.32.06_MD590_2_0140_cropped/MD590-N22-2015.08.03-18.25.59_MD590_2_0065_lossless_alignedTo_MD590-N47-2015.09.12-05.32.06_MD590_2_0140_cropped_patch_locations.txt s3://mousebrainatlas-data/CSHL_patch_features/inception-bn-blue/MD590/MD590-N22-2015.08.03-18.25.59_MD590_2_0065_lossless_alignedTo_MD590-N47-2015.09.12-05.32.06_MD590_2_0140_cropped/MD590-N22-2015.08.03-18.25.59_MD590_2_0065_lossless_alignedTo_MD590-N47-2015.09.12-05.32.06_MD590_2_0140_cropped_patch_locations.txt"
     ]
    },
    {
     "name": "stderr",
     "output_type": "stream",
     "text": [
      "Child returned 0\n",
      "2.57 seconds.\n",
      "Child returned 0\n",
      "1.22 seconds.\n",
      "save: 5.59 seconds\n",
      "\n",
      "Section 112.\n",
      "locate patches: 0.03 seconds\n",
      "36869 samples.\n",
      "load image: 1.56 seconds\n",
      "extract patches: 17.13 seconds\n",
      "predict: 94.67 seconds\n"
     ]
    },
    {
     "name": "stdout",
     "output_type": "stream",
     "text": [
      "\n",
      "aws s3 cp /media/yuncong/BstemAtlasData/CSHL_patch_features/inception-bn-blue/MD590/MD590-IHC22-2015.08.10-19.30.03_MD590_2_0065_lossless_alignedTo_MD590-N47-2015.09.12-05.32.06_MD590_2_0140_cropped/MD590-IHC22-2015.08.10-19.30.03_MD590_2_0065_lossless_alignedTo_MD590-N47-2015.09.12-05.32.06_MD590_2_0140_cropped_features.hdf s3://mousebrainatlas-data/CSHL_patch_features/inception-bn-blue/MD590/MD590-IHC22-2015.08.10-19.30.03_MD590_2_0065_lossless_alignedTo_MD590-N47-2015.09.12-05.32.06_MD590_2_0140_cropped/MD590-IHC22-2015.08.10-19.30.03_MD590_2_0065_lossless_alignedTo_MD590-N47-2015.09.12-05.32.06_MD590_2_0140_cropped_features.hdf\n",
      "aws s3 cp /media/yuncong/BstemAtlasData/CSHL_patch_features/inception-bn-blue/MD590/MD590-IHC22-2015.08.10-19.30.03_MD590_2_0065_lossless_alignedTo_MD590-N47-2015.09.12-05.32.06_MD590_2_0140_cropped/MD590-IHC22-2015.08.10-19.30.03_MD590_2_0065_lossless_alignedTo_MD590-N47-2015.09.12-05.32.06_MD590_2_0140_cropped_patch_locations.txt s3://mousebrainatlas-data/CSHL_patch_features/inception-bn-blue/MD590/MD590-IHC22-2015.08.10-19.30.03_MD590_2_0065_lossless_alignedTo_MD590-N47-2015.09.12-05.32.06_MD590_2_0140_cropped/MD590-IHC22-2015.08.10-19.30.03_MD590_2_0065_lossless_alignedTo_MD590-N47-2015.09.12-05.32.06_MD590_2_0140_cropped_patch_locations.txt"
     ]
    },
    {
     "name": "stderr",
     "output_type": "stream",
     "text": [
      "Child returned 0\n",
      "2.35 seconds.\n",
      "Child returned 0\n",
      "1.26 seconds.\n",
      "save: 5.51 seconds\n",
      "\n",
      "Section 113.\n",
      "locate patches: 0.02 seconds\n",
      "36843 samples.\n",
      "load image: 2.19 seconds\n",
      "extract patches: 16.97 seconds\n",
      "predict: 94.82 seconds\n"
     ]
    },
    {
     "name": "stdout",
     "output_type": "stream",
     "text": [
      "\n",
      "aws s3 cp /media/yuncong/BstemAtlasData/CSHL_patch_features/inception-bn-blue/MD590/MD590-N22-2015.08.03-18.25.59_MD590_1_0066_lossless_alignedTo_MD590-N47-2015.09.12-05.32.06_MD590_2_0140_cropped/MD590-N22-2015.08.03-18.25.59_MD590_1_0066_lossless_alignedTo_MD590-N47-2015.09.12-05.32.06_MD590_2_0140_cropped_features.hdf s3://mousebrainatlas-data/CSHL_patch_features/inception-bn-blue/MD590/MD590-N22-2015.08.03-18.25.59_MD590_1_0066_lossless_alignedTo_MD590-N47-2015.09.12-05.32.06_MD590_2_0140_cropped/MD590-N22-2015.08.03-18.25.59_MD590_1_0066_lossless_alignedTo_MD590-N47-2015.09.12-05.32.06_MD590_2_0140_cropped_features.hdf\n",
      "aws s3 cp /media/yuncong/BstemAtlasData/CSHL_patch_features/inception-bn-blue/MD590/MD590-N22-2015.08.03-18.25.59_MD590_1_0066_lossless_alignedTo_MD590-N47-2015.09.12-05.32.06_MD590_2_0140_cropped/MD590-N22-2015.08.03-18.25.59_MD590_1_0066_lossless_alignedTo_MD590-N47-2015.09.12-05.32.06_MD590_2_0140_cropped_patch_locations.txt s3://mousebrainatlas-data/CSHL_patch_features/inception-bn-blue/MD590/MD590-N22-2015.08.03-18.25.59_MD590_1_0066_lossless_alignedTo_MD590-N47-2015.09.12-05.32.06_MD590_2_0140_cropped/MD590-N22-2015.08.03-18.25.59_MD590_1_0066_lossless_alignedTo_MD590-N47-2015.09.12-05.32.06_MD590_2_0140_cropped_patch_locations.txt"
     ]
    },
    {
     "name": "stderr",
     "output_type": "stream",
     "text": [
      "Child returned 0\n",
      "2.57 seconds.\n",
      "Child returned 0\n",
      "1.38 seconds.\n",
      "save: 5.85 seconds\n",
      "\n",
      "Section 114.\n",
      "locate patches: 0.03 seconds\n",
      "37231 samples.\n",
      "load image: 1.48 seconds\n",
      "extract patches: 17.34 seconds\n",
      "predict: 96.34 seconds\n"
     ]
    },
    {
     "name": "stdout",
     "output_type": "stream",
     "text": [
      "\n",
      "aws s3 cp /media/yuncong/BstemAtlasData/CSHL_patch_features/inception-bn-blue/MD590/MD590-IHC22-2015.08.10-19.30.03_MD590_1_0066_lossless_alignedTo_MD590-N47-2015.09.12-05.32.06_MD590_2_0140_cropped/MD590-IHC22-2015.08.10-19.30.03_MD590_1_0066_lossless_alignedTo_MD590-N47-2015.09.12-05.32.06_MD590_2_0140_cropped_features.hdf s3://mousebrainatlas-data/CSHL_patch_features/inception-bn-blue/MD590/MD590-IHC22-2015.08.10-19.30.03_MD590_1_0066_lossless_alignedTo_MD590-N47-2015.09.12-05.32.06_MD590_2_0140_cropped/MD590-IHC22-2015.08.10-19.30.03_MD590_1_0066_lossless_alignedTo_MD590-N47-2015.09.12-05.32.06_MD590_2_0140_cropped_features.hdf\n",
      "aws s3 cp /media/yuncong/BstemAtlasData/CSHL_patch_features/inception-bn-blue/MD590/MD590-IHC22-2015.08.10-19.30.03_MD590_1_0066_lossless_alignedTo_MD590-N47-2015.09.12-05.32.06_MD590_2_0140_cropped/MD590-IHC22-2015.08.10-19.30.03_MD590_1_0066_lossless_alignedTo_MD590-N47-2015.09.12-05.32.06_MD590_2_0140_cropped_patch_locations.txt s3://mousebrainatlas-data/CSHL_patch_features/inception-bn-blue/MD590/MD590-IHC22-2015.08.10-19.30.03_MD590_1_0066_lossless_alignedTo_MD590-N47-2015.09.12-05.32.06_MD590_2_0140_cropped/MD590-IHC22-2015.08.10-19.30.03_MD590_1_0066_lossless_alignedTo_MD590-N47-2015.09.12-05.32.06_MD590_2_0140_cropped_patch_locations.txt"
     ]
    },
    {
     "name": "stderr",
     "output_type": "stream",
     "text": [
      "Child returned 0\n",
      "2.51 seconds.\n",
      "Child returned 0\n",
      "1.29 seconds.\n",
      "save: 5.65 seconds\n",
      "\n",
      "Section 115.\n",
      "locate patches: 0.02 seconds\n",
      "37466 samples.\n",
      "load image: 1.95 seconds\n",
      "extract patches: 17.92 seconds\n",
      "predict: 96.40 seconds\n"
     ]
    },
    {
     "name": "stdout",
     "output_type": "stream",
     "text": [
      "\n",
      "aws s3 cp /media/yuncong/BstemAtlasData/CSHL_patch_features/inception-bn-blue/MD590/MD590-N23-2015.08.03-18.29.58_MD590_3_0067_lossless_alignedTo_MD590-N47-2015.09.12-05.32.06_MD590_2_0140_cropped/MD590-N23-2015.08.03-18.29.58_MD590_3_0067_lossless_alignedTo_MD590-N47-2015.09.12-05.32.06_MD590_2_0140_cropped_features.hdf s3://mousebrainatlas-data/CSHL_patch_features/inception-bn-blue/MD590/MD590-N23-2015.08.03-18.29.58_MD590_3_0067_lossless_alignedTo_MD590-N47-2015.09.12-05.32.06_MD590_2_0140_cropped/MD590-N23-2015.08.03-18.29.58_MD590_3_0067_lossless_alignedTo_MD590-N47-2015.09.12-05.32.06_MD590_2_0140_cropped_features.hdf\n",
      "aws s3 cp /media/yuncong/BstemAtlasData/CSHL_patch_features/inception-bn-blue/MD590/MD590-N23-2015.08.03-18.29.58_MD590_3_0067_lossless_alignedTo_MD590-N47-2015.09.12-05.32.06_MD590_2_0140_cropped/MD590-N23-2015.08.03-18.29.58_MD590_3_0067_lossless_alignedTo_MD590-N47-2015.09.12-05.32.06_MD590_2_0140_cropped_patch_locations.txt s3://mousebrainatlas-data/CSHL_patch_features/inception-bn-blue/MD590/MD590-N23-2015.08.03-18.29.58_MD590_3_0067_lossless_alignedTo_MD590-N47-2015.09.12-05.32.06_MD590_2_0140_cropped/MD590-N23-2015.08.03-18.29.58_MD590_3_0067_lossless_alignedTo_MD590-N47-2015.09.12-05.32.06_MD590_2_0140_cropped_patch_locations.txt"
     ]
    },
    {
     "name": "stderr",
     "output_type": "stream",
     "text": [
      "Child returned 0\n",
      "2.55 seconds.\n",
      "Child returned 0\n",
      "1.35 seconds.\n",
      "save: 5.79 seconds\n",
      "\n",
      "Section 116.\n",
      "locate patches: 0.03 seconds\n",
      "37509 samples.\n",
      "load image: 1.56 seconds\n",
      "extract patches: 17.88 seconds\n",
      "predict: 96.56 seconds\n"
     ]
    },
    {
     "name": "stdout",
     "output_type": "stream",
     "text": [
      "\n",
      "aws s3 cp /media/yuncong/BstemAtlasData/CSHL_patch_features/inception-bn-blue/MD590/MD590-IHC23-2015.08.10-19.34.12_MD590_3_0067_lossless_alignedTo_MD590-N47-2015.09.12-05.32.06_MD590_2_0140_cropped/MD590-IHC23-2015.08.10-19.34.12_MD590_3_0067_lossless_alignedTo_MD590-N47-2015.09.12-05.32.06_MD590_2_0140_cropped_features.hdf s3://mousebrainatlas-data/CSHL_patch_features/inception-bn-blue/MD590/MD590-IHC23-2015.08.10-19.34.12_MD590_3_0067_lossless_alignedTo_MD590-N47-2015.09.12-05.32.06_MD590_2_0140_cropped/MD590-IHC23-2015.08.10-19.34.12_MD590_3_0067_lossless_alignedTo_MD590-N47-2015.09.12-05.32.06_MD590_2_0140_cropped_features.hdf\n",
      "aws s3 cp /media/yuncong/BstemAtlasData/CSHL_patch_features/inception-bn-blue/MD590/MD590-IHC23-2015.08.10-19.34.12_MD590_3_0067_lossless_alignedTo_MD590-N47-2015.09.12-05.32.06_MD590_2_0140_cropped/MD590-IHC23-2015.08.10-19.34.12_MD590_3_0067_lossless_alignedTo_MD590-N47-2015.09.12-05.32.06_MD590_2_0140_cropped_patch_locations.txt s3://mousebrainatlas-data/CSHL_patch_features/inception-bn-blue/MD590/MD590-IHC23-2015.08.10-19.34.12_MD590_3_0067_lossless_alignedTo_MD590-N47-2015.09.12-05.32.06_MD590_2_0140_cropped/MD590-IHC23-2015.08.10-19.34.12_MD590_3_0067_lossless_alignedTo_MD590-N47-2015.09.12-05.32.06_MD590_2_0140_cropped_patch_locations.txt"
     ]
    },
    {
     "name": "stderr",
     "output_type": "stream",
     "text": [
      "Child returned 0\n",
      "2.34 seconds.\n",
      "Child returned 0\n",
      "1.32 seconds.\n",
      "save: 5.55 seconds\n",
      "\n",
      "Section 117.\n",
      "locate patches: 0.02 seconds\n",
      "37606 samples.\n",
      "load image: 2.10 seconds\n",
      "extract patches: 17.96 seconds\n",
      "predict: 96.08 seconds\n"
     ]
    },
    {
     "name": "stdout",
     "output_type": "stream",
     "text": [
      "\n",
      "aws s3 cp /media/yuncong/BstemAtlasData/CSHL_patch_features/inception-bn-blue/MD590/MD590-N23-2015.08.03-18.29.58_MD590_2_0068_lossless_alignedTo_MD590-N47-2015.09.12-05.32.06_MD590_2_0140_cropped/MD590-N23-2015.08.03-18.29.58_MD590_2_0068_lossless_alignedTo_MD590-N47-2015.09.12-05.32.06_MD590_2_0140_cropped_features.hdf s3://mousebrainatlas-data/CSHL_patch_features/inception-bn-blue/MD590/MD590-N23-2015.08.03-18.29.58_MD590_2_0068_lossless_alignedTo_MD590-N47-2015.09.12-05.32.06_MD590_2_0140_cropped/MD590-N23-2015.08.03-18.29.58_MD590_2_0068_lossless_alignedTo_MD590-N47-2015.09.12-05.32.06_MD590_2_0140_cropped_features.hdf\n",
      "aws s3 cp /media/yuncong/BstemAtlasData/CSHL_patch_features/inception-bn-blue/MD590/MD590-N23-2015.08.03-18.29.58_MD590_2_0068_lossless_alignedTo_MD590-N47-2015.09.12-05.32.06_MD590_2_0140_cropped/MD590-N23-2015.08.03-18.29.58_MD590_2_0068_lossless_alignedTo_MD590-N47-2015.09.12-05.32.06_MD590_2_0140_cropped_patch_locations.txt s3://mousebrainatlas-data/CSHL_patch_features/inception-bn-blue/MD590/MD590-N23-2015.08.03-18.29.58_MD590_2_0068_lossless_alignedTo_MD590-N47-2015.09.12-05.32.06_MD590_2_0140_cropped/MD590-N23-2015.08.03-18.29.58_MD590_2_0068_lossless_alignedTo_MD590-N47-2015.09.12-05.32.06_MD590_2_0140_cropped_patch_locations.txt"
     ]
    },
    {
     "name": "stderr",
     "output_type": "stream",
     "text": [
      "Child returned 0\n",
      "2.54 seconds.\n",
      "Child returned 0\n",
      "1.34 seconds.\n",
      "save: 5.82 seconds\n",
      "\n",
      "Section 118.\n",
      "locate patches: 0.03 seconds\n",
      "37936 samples.\n",
      "load image: 1.83 seconds\n",
      "extract patches: 18.45 seconds\n",
      "predict: 97.27 seconds\n"
     ]
    },
    {
     "name": "stdout",
     "output_type": "stream",
     "text": [
      "\n",
      "aws s3 cp /media/yuncong/BstemAtlasData/CSHL_patch_features/inception-bn-blue/MD590/MD590-IHC23-2015.08.10-19.34.12_MD590_2_0068_lossless_alignedTo_MD590-N47-2015.09.12-05.32.06_MD590_2_0140_cropped/MD590-IHC23-2015.08.10-19.34.12_MD590_2_0068_lossless_alignedTo_MD590-N47-2015.09.12-05.32.06_MD590_2_0140_cropped_features.hdf s3://mousebrainatlas-data/CSHL_patch_features/inception-bn-blue/MD590/MD590-IHC23-2015.08.10-19.34.12_MD590_2_0068_lossless_alignedTo_MD590-N47-2015.09.12-05.32.06_MD590_2_0140_cropped/MD590-IHC23-2015.08.10-19.34.12_MD590_2_0068_lossless_alignedTo_MD590-N47-2015.09.12-05.32.06_MD590_2_0140_cropped_features.hdf\n",
      "aws s3 cp /media/yuncong/BstemAtlasData/CSHL_patch_features/inception-bn-blue/MD590/MD590-IHC23-2015.08.10-19.34.12_MD590_2_0068_lossless_alignedTo_MD590-N47-2015.09.12-05.32.06_MD590_2_0140_cropped/MD590-IHC23-2015.08.10-19.34.12_MD590_2_0068_lossless_alignedTo_MD590-N47-2015.09.12-05.32.06_MD590_2_0140_cropped_patch_locations.txt s3://mousebrainatlas-data/CSHL_patch_features/inception-bn-blue/MD590/MD590-IHC23-2015.08.10-19.34.12_MD590_2_0068_lossless_alignedTo_MD590-N47-2015.09.12-05.32.06_MD590_2_0140_cropped/MD590-IHC23-2015.08.10-19.34.12_MD590_2_0068_lossless_alignedTo_MD590-N47-2015.09.12-05.32.06_MD590_2_0140_cropped_patch_locations.txt"
     ]
    },
    {
     "name": "stderr",
     "output_type": "stream",
     "text": [
      "Child returned 0\n",
      "2.43 seconds.\n",
      "Child returned"
     ]
    },
    {
     "name": "stdout",
     "output_type": "stream",
     "text": [
      "\n",
      "rm -rf /media/yuncong/BstemAtlasData/CSHL_data_processed/MD590/MD590_masks_alignedTo_MD590-N47-2015.09.12-05.32.06_MD590_2_0140_cropped/MD590-N23-2015.08.03-18.29.58_MD590_1_0069_mask_alignedTo_MD590-N47-2015.09.12-05.32.06_MD590_2_0140_cropped.png && mkdir -p /media/yuncong/BstemAtlasData/CSHL_data_processed/MD590/MD590_masks_alignedTo_MD590-N47-2015.09.12-05.32.06_MD590_2_0140_cropped"
     ]
    },
    {
     "name": "stderr",
     "output_type": "stream",
     "text": [
      " 0\n",
      "1.30 seconds.\n",
      "save: 5.74 seconds\n",
      "\n",
      "Section 119.\n",
      "Child returned"
     ]
    },
    {
     "name": "stdout",
     "output_type": "stream",
     "text": [
      "\n",
      "aws s3 cp s3://mousebrainatlas-data/CSHL_data_processed/MD590/MD590_masks_alignedTo_MD590-N47-2015.09.12-05.32.06_MD590_2_0140_cropped/MD590-N23-2015.08.03-18.29.58_MD590_1_0069_mask_alignedTo_MD590-N47-2015.09.12-05.32.06_MD590_2_0140_cropped.png /media/yuncong/BstemAtlasData/CSHL_data_processed/MD590/MD590_masks_alignedTo_MD590-N47-2015.09.12-05.32.06_MD590_2_0140_cropped/MD590-N23-2015.08.03-18.29.58_MD590_1_0069_mask_alignedTo_MD590-N47-2015.09.12-05.32.06_MD590_2_0140_cropped.png"
     ]
    },
    {
     "name": "stderr",
     "output_type": "stream",
     "text": [
      " 0\n",
      "Child returned 0\n",
      "1.90 seconds.\n",
      "locate patches: 1.93 seconds\n",
      "37848 samples.\n",
      "load image: 1.51 seconds\n",
      "extract patches: 17.89 seconds\n",
      "predict: 97.11 seconds\n"
     ]
    },
    {
     "name": "stdout",
     "output_type": "stream",
     "text": [
      "\n",
      "aws s3 cp /media/yuncong/BstemAtlasData/CSHL_patch_features/inception-bn-blue/MD590/MD590-N23-2015.08.03-18.29.58_MD590_1_0069_lossless_alignedTo_MD590-N47-2015.09.12-05.32.06_MD590_2_0140_cropped/MD590-N23-2015.08.03-18.29.58_MD590_1_0069_lossless_alignedTo_MD590-N47-2015.09.12-05.32.06_MD590_2_0140_cropped_features.hdf s3://mousebrainatlas-data/CSHL_patch_features/inception-bn-blue/MD590/MD590-N23-2015.08.03-18.29.58_MD590_1_0069_lossless_alignedTo_MD590-N47-2015.09.12-05.32.06_MD590_2_0140_cropped/MD590-N23-2015.08.03-18.29.58_MD590_1_0069_lossless_alignedTo_MD590-N47-2015.09.12-05.32.06_MD590_2_0140_cropped_features.hdf\n",
      "aws s3 cp /media/yuncong/BstemAtlasData/CSHL_patch_features/inception-bn-blue/MD590/MD590-N23-2015.08.03-18.29.58_MD590_1_0069_lossless_alignedTo_MD590-N47-2015.09.12-05.32.06_MD590_2_0140_cropped/MD590-N23-2015.08.03-18.29.58_MD590_1_0069_lossless_alignedTo_MD590-N47-2015.09.12-05.32.06_MD590_2_0140_cropped_patch_locations.txt s3://mousebrainatlas-data/CSHL_patch_features/inception-bn-blue/MD590/MD590-N23-2015.08.03-18.29.58_MD590_1_0069_lossless_alignedTo_MD590-N47-2015.09.12-05.32.06_MD590_2_0140_cropped/MD590-N23-2015.08.03-18.29.58_MD590_1_0069_lossless_alignedTo_MD590-N47-2015.09.12-05.32.06_MD590_2_0140_cropped_patch_locations.txt"
     ]
    },
    {
     "name": "stderr",
     "output_type": "stream",
     "text": [
      "Child returned 0\n",
      "2.37 seconds.\n",
      "Child returned"
     ]
    },
    {
     "name": "stdout",
     "output_type": "stream",
     "text": [
      "\n",
      "rm -rf /media/yuncong/BstemAtlasData/CSHL_data_processed/MD590/MD590_masks_alignedTo_MD590-N47-2015.09.12-05.32.06_MD590_2_0140_cropped/MD590-IHC23-2015.08.10-19.34.12_MD590_1_0069_mask_alignedTo_MD590-N47-2015.09.12-05.32.06_MD590_2_0140_cropped.png && mkdir -p /media/yuncong/BstemAtlasData/CSHL_data_processed/MD590/MD590_masks_alignedTo_MD590-N47-2015.09.12-05.32.06_MD590_2_0140_cropped"
     ]
    },
    {
     "name": "stderr",
     "output_type": "stream",
     "text": [
      " 0\n",
      "1.76 seconds.\n",
      "save: 6.05 seconds\n",
      "\n",
      "Section 120.\n",
      "Child returned"
     ]
    },
    {
     "name": "stdout",
     "output_type": "stream",
     "text": [
      "\n",
      "aws s3 cp s3://mousebrainatlas-data/CSHL_data_processed/MD590/MD590_masks_alignedTo_MD590-N47-2015.09.12-05.32.06_MD590_2_0140_cropped/MD590-IHC23-2015.08.10-19.34.12_MD590_1_0069_mask_alignedTo_MD590-N47-2015.09.12-05.32.06_MD590_2_0140_cropped.png /media/yuncong/BstemAtlasData/CSHL_data_processed/MD590/MD590_masks_alignedTo_MD590-N47-2015.09.12-05.32.06_MD590_2_0140_cropped/MD590-IHC23-2015.08.10-19.34.12_MD590_1_0069_mask_alignedTo_MD590-N47-2015.09.12-05.32.06_MD590_2_0140_cropped.png"
     ]
    },
    {
     "name": "stderr",
     "output_type": "stream",
     "text": [
      " 0\n",
      "Child returned 0\n",
      "1.80 seconds.\n",
      "locate patches: 1.83 seconds\n",
      "38213 samples.\n",
      "load image: 1.52 seconds\n",
      "extract patches: 18.38 seconds\n",
      "predict: 97.45 seconds\n"
     ]
    },
    {
     "name": "stdout",
     "output_type": "stream",
     "text": [
      "\n",
      "aws s3 cp /media/yuncong/BstemAtlasData/CSHL_patch_features/inception-bn-blue/MD590/MD590-IHC23-2015.08.10-19.34.12_MD590_1_0069_lossless_alignedTo_MD590-N47-2015.09.12-05.32.06_MD590_2_0140_cropped/MD590-IHC23-2015.08.10-19.34.12_MD590_1_0069_lossless_alignedTo_MD590-N47-2015.09.12-05.32.06_MD590_2_0140_cropped_features.hdf s3://mousebrainatlas-data/CSHL_patch_features/inception-bn-blue/MD590/MD590-IHC23-2015.08.10-19.34.12_MD590_1_0069_lossless_alignedTo_MD590-N47-2015.09.12-05.32.06_MD590_2_0140_cropped/MD590-IHC23-2015.08.10-19.34.12_MD590_1_0069_lossless_alignedTo_MD590-N47-2015.09.12-05.32.06_MD590_2_0140_cropped_features.hdf\n",
      "aws s3 cp /media/yuncong/BstemAtlasData/CSHL_patch_features/inception-bn-blue/MD590/MD590-IHC23-2015.08.10-19.34.12_MD590_1_0069_lossless_alignedTo_MD590-N47-2015.09.12-05.32.06_MD590_2_0140_cropped/MD590-IHC23-2015.08.10-19.34.12_MD590_1_0069_lossless_alignedTo_MD590-N47-2015.09.12-05.32.06_MD590_2_0140_cropped_patch_locations.txt s3://mousebrainatlas-data/CSHL_patch_features/inception-bn-blue/MD590/MD590-IHC23-2015.08.10-19.34.12_MD590_1_0069_lossless_alignedTo_MD590-N47-2015.09.12-05.32.06_MD590_2_0140_cropped/MD590-IHC23-2015.08.10-19.34.12_MD590_1_0069_lossless_alignedTo_MD590-N47-2015.09.12-05.32.06_MD590_2_0140_cropped_patch_locations.txt"
     ]
    },
    {
     "name": "stderr",
     "output_type": "stream",
     "text": [
      "Child returned 0\n",
      "2.41 seconds.\n",
      "Child returned"
     ]
    },
    {
     "name": "stdout",
     "output_type": "stream",
     "text": [
      "\n",
      "rm -rf /media/yuncong/BstemAtlasData/CSHL_data_processed/MD590/MD590_masks_alignedTo_MD590-N47-2015.09.12-05.32.06_MD590_2_0140_cropped/MD590-N24-2015.08.03-18.34.11_MD590_3_0070_mask_alignedTo_MD590-N47-2015.09.12-05.32.06_MD590_2_0140_cropped.png && mkdir -p /media/yuncong/BstemAtlasData/CSHL_data_processed/MD590/MD590_masks_alignedTo_MD590-N47-2015.09.12-05.32.06_MD590_2_0140_cropped"
     ]
    },
    {
     "name": "stderr",
     "output_type": "stream",
     "text": [
      " 0\n",
      "1.33 seconds.\n",
      "save: 5.65 seconds\n",
      "\n",
      "Section 121.\n",
      "Child returned"
     ]
    },
    {
     "name": "stdout",
     "output_type": "stream",
     "text": [
      "\n",
      "aws s3 cp s3://mousebrainatlas-data/CSHL_data_processed/MD590/MD590_masks_alignedTo_MD590-N47-2015.09.12-05.32.06_MD590_2_0140_cropped/MD590-N24-2015.08.03-18.34.11_MD590_3_0070_mask_alignedTo_MD590-N47-2015.09.12-05.32.06_MD590_2_0140_cropped.png /media/yuncong/BstemAtlasData/CSHL_data_processed/MD590/MD590_masks_alignedTo_MD590-N47-2015.09.12-05.32.06_MD590_2_0140_cropped/MD590-N24-2015.08.03-18.34.11_MD590_3_0070_mask_alignedTo_MD590-N47-2015.09.12-05.32.06_MD590_2_0140_cropped.png"
     ]
    },
    {
     "name": "stderr",
     "output_type": "stream",
     "text": [
      " 0\n",
      "Child returned 0\n",
      "1.86 seconds.\n",
      "locate patches: 1.88 seconds\n",
      "38133 samples.\n",
      "load image: 1.59 seconds\n",
      "extract patches: 17.83 seconds\n",
      "predict: 97.61 seconds\n"
     ]
    },
    {
     "name": "stdout",
     "output_type": "stream",
     "text": [
      "\n",
      "aws s3 cp /media/yuncong/BstemAtlasData/CSHL_patch_features/inception-bn-blue/MD590/MD590-N24-2015.08.03-18.34.11_MD590_3_0070_lossless_alignedTo_MD590-N47-2015.09.12-05.32.06_MD590_2_0140_cropped/MD590-N24-2015.08.03-18.34.11_MD590_3_0070_lossless_alignedTo_MD590-N47-2015.09.12-05.32.06_MD590_2_0140_cropped_features.hdf s3://mousebrainatlas-data/CSHL_patch_features/inception-bn-blue/MD590/MD590-N24-2015.08.03-18.34.11_MD590_3_0070_lossless_alignedTo_MD590-N47-2015.09.12-05.32.06_MD590_2_0140_cropped/MD590-N24-2015.08.03-18.34.11_MD590_3_0070_lossless_alignedTo_MD590-N47-2015.09.12-05.32.06_MD590_2_0140_cropped_features.hdf\n",
      "aws s3 cp /media/yuncong/BstemAtlasData/CSHL_patch_features/inception-bn-blue/MD590/MD590-N24-2015.08.03-18.34.11_MD590_3_0070_lossless_alignedTo_MD590-N47-2015.09.12-05.32.06_MD590_2_0140_cropped/MD590-N24-2015.08.03-18.34.11_MD590_3_0070_lossless_alignedTo_MD590-N47-2015.09.12-05.32.06_MD590_2_0140_cropped_patch_locations.txt s3://mousebrainatlas-data/CSHL_patch_features/inception-bn-blue/MD590/MD590-N24-2015.08.03-18.34.11_MD590_3_0070_lossless_alignedTo_MD590-N47-2015.09.12-05.32.06_MD590_2_0140_cropped/MD590-N24-2015.08.03-18.34.11_MD590_3_0070_lossless_alignedTo_MD590-N47-2015.09.12-05.32.06_MD590_2_0140_cropped_patch_locations.txt"
     ]
    },
    {
     "name": "stderr",
     "output_type": "stream",
     "text": [
      "Child returned 0\n",
      "2.46 seconds.\n",
      "Child returned"
     ]
    },
    {
     "name": "stdout",
     "output_type": "stream",
     "text": [
      "\n",
      "rm -rf /media/yuncong/BstemAtlasData/CSHL_data_processed/MD590/MD590_masks_alignedTo_MD590-N47-2015.09.12-05.32.06_MD590_2_0140_cropped/MD590-N24-2015.08.03-18.34.11_MD590_2_0071_mask_alignedTo_MD590-N47-2015.09.12-05.32.06_MD590_2_0140_cropped.png && mkdir -p /media/yuncong/BstemAtlasData/CSHL_data_processed/MD590/MD590_masks_alignedTo_MD590-N47-2015.09.12-05.32.06_MD590_2_0140_cropped"
     ]
    },
    {
     "name": "stderr",
     "output_type": "stream",
     "text": [
      " 0\n",
      "1.32 seconds.\n",
      "save: 5.73 seconds\n",
      "\n",
      "Section 123.\n",
      "Child returned"
     ]
    },
    {
     "name": "stdout",
     "output_type": "stream",
     "text": [
      "\n",
      "aws s3 cp s3://mousebrainatlas-data/CSHL_data_processed/MD590/MD590_masks_alignedTo_MD590-N47-2015.09.12-05.32.06_MD590_2_0140_cropped/MD590-N24-2015.08.03-18.34.11_MD590_2_0071_mask_alignedTo_MD590-N47-2015.09.12-05.32.06_MD590_2_0140_cropped.png /media/yuncong/BstemAtlasData/CSHL_data_processed/MD590/MD590_masks_alignedTo_MD590-N47-2015.09.12-05.32.06_MD590_2_0140_cropped/MD590-N24-2015.08.03-18.34.11_MD590_2_0071_mask_alignedTo_MD590-N47-2015.09.12-05.32.06_MD590_2_0140_cropped.png"
     ]
    },
    {
     "name": "stderr",
     "output_type": "stream",
     "text": [
      " 0\n",
      "Child returned 0\n",
      "1.78 seconds.\n",
      "locate patches: 1.81 seconds\n",
      "38001 samples.\n",
      "load image: 1.67 seconds\n",
      "extract patches: 17.81 seconds\n",
      "predict: 97.65 seconds\n"
     ]
    },
    {
     "name": "stdout",
     "output_type": "stream",
     "text": [
      "\n",
      "aws s3 cp /media/yuncong/BstemAtlasData/CSHL_patch_features/inception-bn-blue/MD590/MD590-N24-2015.08.03-18.34.11_MD590_2_0071_lossless_alignedTo_MD590-N47-2015.09.12-05.32.06_MD590_2_0140_cropped/MD590-N24-2015.08.03-18.34.11_MD590_2_0071_lossless_alignedTo_MD590-N47-2015.09.12-05.32.06_MD590_2_0140_cropped_features.hdf s3://mousebrainatlas-data/CSHL_patch_features/inception-bn-blue/MD590/MD590-N24-2015.08.03-18.34.11_MD590_2_0071_lossless_alignedTo_MD590-N47-2015.09.12-05.32.06_MD590_2_0140_cropped/MD590-N24-2015.08.03-18.34.11_MD590_2_0071_lossless_alignedTo_MD590-N47-2015.09.12-05.32.06_MD590_2_0140_cropped_features.hdf\n",
      "aws s3 cp /media/yuncong/BstemAtlasData/CSHL_patch_features/inception-bn-blue/MD590/MD590-N24-2015.08.03-18.34.11_MD590_2_0071_lossless_alignedTo_MD590-N47-2015.09.12-05.32.06_MD590_2_0140_cropped/MD590-N24-2015.08.03-18.34.11_MD590_2_0071_lossless_alignedTo_MD590-N47-2015.09.12-05.32.06_MD590_2_0140_cropped_patch_locations.txt s3://mousebrainatlas-data/CSHL_patch_features/inception-bn-blue/MD590/MD590-N24-2015.08.03-18.34.11_MD590_2_0071_lossless_alignedTo_MD590-N47-2015.09.12-05.32.06_MD590_2_0140_cropped/MD590-N24-2015.08.03-18.34.11_MD590_2_0071_lossless_alignedTo_MD590-N47-2015.09.12-05.32.06_MD590_2_0140_cropped_patch_locations.txt"
     ]
    },
    {
     "name": "stderr",
     "output_type": "stream",
     "text": [
      "Child returned 0\n",
      "2.43 seconds.\n",
      "Child returned"
     ]
    },
    {
     "name": "stdout",
     "output_type": "stream",
     "text": [
      "\n",
      "rm -rf /media/yuncong/BstemAtlasData/CSHL_data_processed/MD590/MD590_masks_alignedTo_MD590-N47-2015.09.12-05.32.06_MD590_2_0140_cropped/MD590-IHC24-2015.08.10-19.38.23_MD590_2_0071_mask_alignedTo_MD590-N47-2015.09.12-05.32.06_MD590_2_0140_cropped.png && mkdir -p /media/yuncong/BstemAtlasData/CSHL_data_processed/MD590/MD590_masks_alignedTo_MD590-N47-2015.09.12-05.32.06_MD590_2_0140_cropped"
     ]
    },
    {
     "name": "stderr",
     "output_type": "stream",
     "text": [
      " 0\n",
      "1.30 seconds.\n",
      "save: 5.61 seconds\n",
      "\n",
      "Section 124.\n",
      "Child returned"
     ]
    },
    {
     "name": "stdout",
     "output_type": "stream",
     "text": [
      "\n",
      "aws s3 cp s3://mousebrainatlas-data/CSHL_data_processed/MD590/MD590_masks_alignedTo_MD590-N47-2015.09.12-05.32.06_MD590_2_0140_cropped/MD590-IHC24-2015.08.10-19.38.23_MD590_2_0071_mask_alignedTo_MD590-N47-2015.09.12-05.32.06_MD590_2_0140_cropped.png /media/yuncong/BstemAtlasData/CSHL_data_processed/MD590/MD590_masks_alignedTo_MD590-N47-2015.09.12-05.32.06_MD590_2_0140_cropped/MD590-IHC24-2015.08.10-19.38.23_MD590_2_0071_mask_alignedTo_MD590-N47-2015.09.12-05.32.06_MD590_2_0140_cropped.png"
     ]
    },
    {
     "name": "stderr",
     "output_type": "stream",
     "text": [
      " 0\n",
      "Child returned 0\n",
      "1.72 seconds.\n",
      "locate patches: 1.74 seconds\n",
      "38344 samples.\n",
      "load image: 1.52 seconds\n",
      "extract patches: 18.36 seconds\n",
      "predict: 98.69 seconds\n"
     ]
    },
    {
     "name": "stdout",
     "output_type": "stream",
     "text": [
      "\n",
      "aws s3 cp /media/yuncong/BstemAtlasData/CSHL_patch_features/inception-bn-blue/MD590/MD590-IHC24-2015.08.10-19.38.23_MD590_2_0071_lossless_alignedTo_MD590-N47-2015.09.12-05.32.06_MD590_2_0140_cropped/MD590-IHC24-2015.08.10-19.38.23_MD590_2_0071_lossless_alignedTo_MD590-N47-2015.09.12-05.32.06_MD590_2_0140_cropped_features.hdf s3://mousebrainatlas-data/CSHL_patch_features/inception-bn-blue/MD590/MD590-IHC24-2015.08.10-19.38.23_MD590_2_0071_lossless_alignedTo_MD590-N47-2015.09.12-05.32.06_MD590_2_0140_cropped/MD590-IHC24-2015.08.10-19.38.23_MD590_2_0071_lossless_alignedTo_MD590-N47-2015.09.12-05.32.06_MD590_2_0140_cropped_features.hdf\n",
      "aws s3 cp /media/yuncong/BstemAtlasData/CSHL_patch_features/inception-bn-blue/MD590/MD590-IHC24-2015.08.10-19.38.23_MD590_2_0071_lossless_alignedTo_MD590-N47-2015.09.12-05.32.06_MD590_2_0140_cropped/MD590-IHC24-2015.08.10-19.38.23_MD590_2_0071_lossless_alignedTo_MD590-N47-2015.09.12-05.32.06_MD590_2_0140_cropped_patch_locations.txt s3://mousebrainatlas-data/CSHL_patch_features/inception-bn-blue/MD590/MD590-IHC24-2015.08.10-19.38.23_MD590_2_0071_lossless_alignedTo_MD590-N47-2015.09.12-05.32.06_MD590_2_0140_cropped/MD590-IHC24-2015.08.10-19.38.23_MD590_2_0071_lossless_alignedTo_MD590-N47-2015.09.12-05.32.06_MD590_2_0140_cropped_patch_locations.txt"
     ]
    },
    {
     "name": "stderr",
     "output_type": "stream",
     "text": [
      "Child returned 0\n",
      "2.38 seconds.\n",
      "Child returned"
     ]
    },
    {
     "name": "stdout",
     "output_type": "stream",
     "text": [
      "\n",
      "rm -rf /media/yuncong/BstemAtlasData/CSHL_data_processed/MD590/MD590_masks_alignedTo_MD590-N47-2015.09.12-05.32.06_MD590_2_0140_cropped/MD590-N24-2015.08.03-18.34.11_MD590_1_0072_mask_alignedTo_MD590-N47-2015.09.12-05.32.06_MD590_2_0140_cropped.png && mkdir -p /media/yuncong/BstemAtlasData/CSHL_data_processed/MD590/MD590_masks_alignedTo_MD590-N47-2015.09.12-05.32.06_MD590_2_0140_cropped"
     ]
    },
    {
     "name": "stderr",
     "output_type": "stream",
     "text": [
      " 0\n",
      "1.34 seconds.\n",
      "save: 5.59 seconds\n",
      "\n",
      "Section 125.\n",
      "Child returned"
     ]
    },
    {
     "name": "stdout",
     "output_type": "stream",
     "text": [
      "\n",
      "aws s3 cp s3://mousebrainatlas-data/CSHL_data_processed/MD590/MD590_masks_alignedTo_MD590-N47-2015.09.12-05.32.06_MD590_2_0140_cropped/MD590-N24-2015.08.03-18.34.11_MD590_1_0072_mask_alignedTo_MD590-N47-2015.09.12-05.32.06_MD590_2_0140_cropped.png /media/yuncong/BstemAtlasData/CSHL_data_processed/MD590/MD590_masks_alignedTo_MD590-N47-2015.09.12-05.32.06_MD590_2_0140_cropped/MD590-N24-2015.08.03-18.34.11_MD590_1_0072_mask_alignedTo_MD590-N47-2015.09.12-05.32.06_MD590_2_0140_cropped.png"
     ]
    },
    {
     "name": "stderr",
     "output_type": "stream",
     "text": [
      " 0\n",
      "Child returned 0\n",
      "1.81 seconds.\n",
      "locate patches: 1.84 seconds\n",
      "38067 samples.\n",
      "load image: 1.55 seconds\n",
      "extract patches: 17.85 seconds\n",
      "predict: 98.07 seconds\n"
     ]
    },
    {
     "name": "stdout",
     "output_type": "stream",
     "text": [
      "\n",
      "aws s3 cp /media/yuncong/BstemAtlasData/CSHL_patch_features/inception-bn-blue/MD590/MD590-N24-2015.08.03-18.34.11_MD590_1_0072_lossless_alignedTo_MD590-N47-2015.09.12-05.32.06_MD590_2_0140_cropped/MD590-N24-2015.08.03-18.34.11_MD590_1_0072_lossless_alignedTo_MD590-N47-2015.09.12-05.32.06_MD590_2_0140_cropped_features.hdf s3://mousebrainatlas-data/CSHL_patch_features/inception-bn-blue/MD590/MD590-N24-2015.08.03-18.34.11_MD590_1_0072_lossless_alignedTo_MD590-N47-2015.09.12-05.32.06_MD590_2_0140_cropped/MD590-N24-2015.08.03-18.34.11_MD590_1_0072_lossless_alignedTo_MD590-N47-2015.09.12-05.32.06_MD590_2_0140_cropped_features.hdf\n",
      "aws s3 cp /media/yuncong/BstemAtlasData/CSHL_patch_features/inception-bn-blue/MD590/MD590-N24-2015.08.03-18.34.11_MD590_1_0072_lossless_alignedTo_MD590-N47-2015.09.12-05.32.06_MD590_2_0140_cropped/MD590-N24-2015.08.03-18.34.11_MD590_1_0072_lossless_alignedTo_MD590-N47-2015.09.12-05.32.06_MD590_2_0140_cropped_patch_locations.txt s3://mousebrainatlas-data/CSHL_patch_features/inception-bn-blue/MD590/MD590-N24-2015.08.03-18.34.11_MD590_1_0072_lossless_alignedTo_MD590-N47-2015.09.12-05.32.06_MD590_2_0140_cropped/MD590-N24-2015.08.03-18.34.11_MD590_1_0072_lossless_alignedTo_MD590-N47-2015.09.12-05.32.06_MD590_2_0140_cropped_patch_locations.txt"
     ]
    },
    {
     "name": "stderr",
     "output_type": "stream",
     "text": [
      "Child returned 0\n",
      "2.54 seconds.\n",
      "Child returned"
     ]
    },
    {
     "name": "stdout",
     "output_type": "stream",
     "text": [
      "\n",
      "rm -rf /media/yuncong/BstemAtlasData/CSHL_data_processed/MD590/MD590_masks_alignedTo_MD590-N47-2015.09.12-05.32.06_MD590_2_0140_cropped/MD590-IHC24-2015.08.10-19.38.23_MD590_1_0072_mask_alignedTo_MD590-N47-2015.09.12-05.32.06_MD590_2_0140_cropped.png && mkdir -p /media/yuncong/BstemAtlasData/CSHL_data_processed/MD590/MD590_masks_alignedTo_MD590-N47-2015.09.12-05.32.06_MD590_2_0140_cropped"
     ]
    },
    {
     "name": "stderr",
     "output_type": "stream",
     "text": [
      " 0\n",
      "1.25 seconds.\n",
      "save: 5.70 seconds\n",
      "\n",
      "Section 126.\n",
      "Child returned"
     ]
    },
    {
     "name": "stdout",
     "output_type": "stream",
     "text": [
      "\n",
      "aws s3 cp s3://mousebrainatlas-data/CSHL_data_processed/MD590/MD590_masks_alignedTo_MD590-N47-2015.09.12-05.32.06_MD590_2_0140_cropped/MD590-IHC24-2015.08.10-19.38.23_MD590_1_0072_mask_alignedTo_MD590-N47-2015.09.12-05.32.06_MD590_2_0140_cropped.png /media/yuncong/BstemAtlasData/CSHL_data_processed/MD590/MD590_masks_alignedTo_MD590-N47-2015.09.12-05.32.06_MD590_2_0140_cropped/MD590-IHC24-2015.08.10-19.38.23_MD590_1_0072_mask_alignedTo_MD590-N47-2015.09.12-05.32.06_MD590_2_0140_cropped.png"
     ]
    },
    {
     "name": "stderr",
     "output_type": "stream",
     "text": [
      " 0\n",
      "Child returned 0\n",
      "1.92 seconds.\n",
      "locate patches: 1.95 seconds\n",
      "38616 samples.\n",
      "load image: 1.55 seconds\n",
      "extract patches: 18.22 seconds\n",
      "predict: 99.75 seconds\n"
     ]
    },
    {
     "name": "stdout",
     "output_type": "stream",
     "text": [
      "\n",
      "aws s3 cp /media/yuncong/BstemAtlasData/CSHL_patch_features/inception-bn-blue/MD590/MD590-IHC24-2015.08.10-19.38.23_MD590_1_0072_lossless_alignedTo_MD590-N47-2015.09.12-05.32.06_MD590_2_0140_cropped/MD590-IHC24-2015.08.10-19.38.23_MD590_1_0072_lossless_alignedTo_MD590-N47-2015.09.12-05.32.06_MD590_2_0140_cropped_features.hdf s3://mousebrainatlas-data/CSHL_patch_features/inception-bn-blue/MD590/MD590-IHC24-2015.08.10-19.38.23_MD590_1_0072_lossless_alignedTo_MD590-N47-2015.09.12-05.32.06_MD590_2_0140_cropped/MD590-IHC24-2015.08.10-19.38.23_MD590_1_0072_lossless_alignedTo_MD590-N47-2015.09.12-05.32.06_MD590_2_0140_cropped_features.hdf\n",
      "aws s3 cp /media/yuncong/BstemAtlasData/CSHL_patch_features/inception-bn-blue/MD590/MD590-IHC24-2015.08.10-19.38.23_MD590_1_0072_lossless_alignedTo_MD590-N47-2015.09.12-05.32.06_MD590_2_0140_cropped/MD590-IHC24-2015.08.10-19.38.23_MD590_1_0072_lossless_alignedTo_MD590-N47-2015.09.12-05.32.06_MD590_2_0140_cropped_patch_locations.txt s3://mousebrainatlas-data/CSHL_patch_features/inception-bn-blue/MD590/MD590-IHC24-2015.08.10-19.38.23_MD590_1_0072_lossless_alignedTo_MD590-N47-2015.09.12-05.32.06_MD590_2_0140_cropped/MD590-IHC24-2015.08.10-19.38.23_MD590_1_0072_lossless_alignedTo_MD590-N47-2015.09.12-05.32.06_MD590_2_0140_cropped_patch_locations.txt"
     ]
    },
    {
     "name": "stderr",
     "output_type": "stream",
     "text": [
      "Child returned 0\n",
      "3.12 seconds.\n",
      "Child returned"
     ]
    },
    {
     "name": "stdout",
     "output_type": "stream",
     "text": [
      "\n",
      "rm -rf /media/yuncong/BstemAtlasData/CSHL_data_processed/MD590/MD590_masks_alignedTo_MD590-N47-2015.09.12-05.32.06_MD590_2_0140_cropped/MD590-N25-2015.09.12-05.15.53_MD590_1_0073_mask_alignedTo_MD590-N47-2015.09.12-05.32.06_MD590_2_0140_cropped.png && mkdir -p /media/yuncong/BstemAtlasData/CSHL_data_processed/MD590/MD590_masks_alignedTo_MD590-N47-2015.09.12-05.32.06_MD590_2_0140_cropped"
     ]
    },
    {
     "name": "stderr",
     "output_type": "stream",
     "text": [
      " 0\n",
      "1.73 seconds.\n",
      "save: 6.79 seconds\n",
      "\n",
      "Section 127.\n",
      "Child returned"
     ]
    },
    {
     "name": "stdout",
     "output_type": "stream",
     "text": [
      "\n",
      "aws s3 cp s3://mousebrainatlas-data/CSHL_data_processed/MD590/MD590_masks_alignedTo_MD590-N47-2015.09.12-05.32.06_MD590_2_0140_cropped/MD590-N25-2015.09.12-05.15.53_MD590_1_0073_mask_alignedTo_MD590-N47-2015.09.12-05.32.06_MD590_2_0140_cropped.png /media/yuncong/BstemAtlasData/CSHL_data_processed/MD590/MD590_masks_alignedTo_MD590-N47-2015.09.12-05.32.06_MD590_2_0140_cropped/MD590-N25-2015.09.12-05.15.53_MD590_1_0073_mask_alignedTo_MD590-N47-2015.09.12-05.32.06_MD590_2_0140_cropped.png"
     ]
    },
    {
     "name": "stderr",
     "output_type": "stream",
     "text": [
      " 0\n",
      "Child returned 0\n",
      "1.81 seconds.\n",
      "locate patches: 1.84 seconds\n",
      "38736 samples.\n",
      "load image: 1.46 seconds\n",
      "extract patches: 18.28 seconds\n",
      "predict: 99.75 seconds\n"
     ]
    },
    {
     "name": "stdout",
     "output_type": "stream",
     "text": [
      "\n",
      "aws s3 cp /media/yuncong/BstemAtlasData/CSHL_patch_features/inception-bn-blue/MD590/MD590-N25-2015.09.12-05.15.53_MD590_1_0073_lossless_alignedTo_MD590-N47-2015.09.12-05.32.06_MD590_2_0140_cropped/MD590-N25-2015.09.12-05.15.53_MD590_1_0073_lossless_alignedTo_MD590-N47-2015.09.12-05.32.06_MD590_2_0140_cropped_features.hdf s3://mousebrainatlas-data/CSHL_patch_features/inception-bn-blue/MD590/MD590-N25-2015.09.12-05.15.53_MD590_1_0073_lossless_alignedTo_MD590-N47-2015.09.12-05.32.06_MD590_2_0140_cropped/MD590-N25-2015.09.12-05.15.53_MD590_1_0073_lossless_alignedTo_MD590-N47-2015.09.12-05.32.06_MD590_2_0140_cropped_features.hdf\n",
      "aws s3 cp /media/yuncong/BstemAtlasData/CSHL_patch_features/inception-bn-blue/MD590/MD590-N25-2015.09.12-05.15.53_MD590_1_0073_lossless_alignedTo_MD590-N47-2015.09.12-05.32.06_MD590_2_0140_cropped/MD590-N25-2015.09.12-05.15.53_MD590_1_0073_lossless_alignedTo_MD590-N47-2015.09.12-05.32.06_MD590_2_0140_cropped_patch_locations.txt s3://mousebrainatlas-data/CSHL_patch_features/inception-bn-blue/MD590/MD590-N25-2015.09.12-05.15.53_MD590_1_0073_lossless_alignedTo_MD590-N47-2015.09.12-05.32.06_MD590_2_0140_cropped/MD590-N25-2015.09.12-05.15.53_MD590_1_0073_lossless_alignedTo_MD590-N47-2015.09.12-05.32.06_MD590_2_0140_cropped_patch_locations.txt"
     ]
    },
    {
     "name": "stderr",
     "output_type": "stream",
     "text": [
      "Child returned 0\n",
      "2.61 seconds.\n",
      "Child returned"
     ]
    },
    {
     "name": "stdout",
     "output_type": "stream",
     "text": [
      "\n",
      "rm -rf /media/yuncong/BstemAtlasData/CSHL_data_processed/MD590/MD590_masks_alignedTo_MD590-N47-2015.09.12-05.32.06_MD590_2_0140_cropped/MD590-IHC25-2015.08.10-19.42.49_MD590_3_0073_mask_alignedTo_MD590-N47-2015.09.12-05.32.06_MD590_2_0140_cropped.png && mkdir -p /media/yuncong/BstemAtlasData/CSHL_data_processed/MD590/MD590_masks_alignedTo_MD590-N47-2015.09.12-05.32.06_MD590_2_0140_cropped"
     ]
    },
    {
     "name": "stderr",
     "output_type": "stream",
     "text": [
      " 0\n",
      "1.30 seconds.\n",
      "save: 5.84 seconds\n",
      "\n",
      "Section 128.\n",
      "Child returned"
     ]
    },
    {
     "name": "stdout",
     "output_type": "stream",
     "text": [
      "\n",
      "aws s3 cp s3://mousebrainatlas-data/CSHL_data_processed/MD590/MD590_masks_alignedTo_MD590-N47-2015.09.12-05.32.06_MD590_2_0140_cropped/MD590-IHC25-2015.08.10-19.42.49_MD590_3_0073_mask_alignedTo_MD590-N47-2015.09.12-05.32.06_MD590_2_0140_cropped.png /media/yuncong/BstemAtlasData/CSHL_data_processed/MD590/MD590_masks_alignedTo_MD590-N47-2015.09.12-05.32.06_MD590_2_0140_cropped/MD590-IHC25-2015.08.10-19.42.49_MD590_3_0073_mask_alignedTo_MD590-N47-2015.09.12-05.32.06_MD590_2_0140_cropped.png"
     ]
    },
    {
     "name": "stderr",
     "output_type": "stream",
     "text": [
      " 0\n",
      "Child returned 0\n",
      "1.85 seconds.\n",
      "locate patches: 1.88 seconds\n",
      "38845 samples.\n",
      "load image: 1.47 seconds\n",
      "extract patches: 18.20 seconds\n",
      "predict: 99.78 seconds\n"
     ]
    },
    {
     "name": "stdout",
     "output_type": "stream",
     "text": [
      "\n",
      "aws s3 cp /media/yuncong/BstemAtlasData/CSHL_patch_features/inception-bn-blue/MD590/MD590-IHC25-2015.08.10-19.42.49_MD590_3_0073_lossless_alignedTo_MD590-N47-2015.09.12-05.32.06_MD590_2_0140_cropped/MD590-IHC25-2015.08.10-19.42.49_MD590_3_0073_lossless_alignedTo_MD590-N47-2015.09.12-05.32.06_MD590_2_0140_cropped_features.hdf s3://mousebrainatlas-data/CSHL_patch_features/inception-bn-blue/MD590/MD590-IHC25-2015.08.10-19.42.49_MD590_3_0073_lossless_alignedTo_MD590-N47-2015.09.12-05.32.06_MD590_2_0140_cropped/MD590-IHC25-2015.08.10-19.42.49_MD590_3_0073_lossless_alignedTo_MD590-N47-2015.09.12-05.32.06_MD590_2_0140_cropped_features.hdf\n",
      "aws s3 cp /media/yuncong/BstemAtlasData/CSHL_patch_features/inception-bn-blue/MD590/MD590-IHC25-2015.08.10-19.42.49_MD590_3_0073_lossless_alignedTo_MD590-N47-2015.09.12-05.32.06_MD590_2_0140_cropped/MD590-IHC25-2015.08.10-19.42.49_MD590_3_0073_lossless_alignedTo_MD590-N47-2015.09.12-05.32.06_MD590_2_0140_cropped_patch_locations.txt s3://mousebrainatlas-data/CSHL_patch_features/inception-bn-blue/MD590/MD590-IHC25-2015.08.10-19.42.49_MD590_3_0073_lossless_alignedTo_MD590-N47-2015.09.12-05.32.06_MD590_2_0140_cropped/MD590-IHC25-2015.08.10-19.42.49_MD590_3_0073_lossless_alignedTo_MD590-N47-2015.09.12-05.32.06_MD590_2_0140_cropped_patch_locations.txt"
     ]
    },
    {
     "name": "stderr",
     "output_type": "stream",
     "text": [
      "Child returned 0\n",
      "2.45 seconds.\n",
      "Child returned"
     ]
    },
    {
     "name": "stdout",
     "output_type": "stream",
     "text": [
      "\n",
      "rm -rf /media/yuncong/BstemAtlasData/CSHL_data_processed/MD590/MD590_masks_alignedTo_MD590-N47-2015.09.12-05.32.06_MD590_2_0140_cropped/MD590-N25-2015.09.12-05.15.53_MD590_2_0074_mask_alignedTo_MD590-N47-2015.09.12-05.32.06_MD590_2_0140_cropped.png && mkdir -p /media/yuncong/BstemAtlasData/CSHL_data_processed/MD590/MD590_masks_alignedTo_MD590-N47-2015.09.12-05.32.06_MD590_2_0140_cropped"
     ]
    },
    {
     "name": "stderr",
     "output_type": "stream",
     "text": [
      " 0\n",
      "1.30 seconds.\n",
      "save: 5.66 seconds\n",
      "\n",
      "Section 129.\n",
      "Child returned"
     ]
    },
    {
     "name": "stdout",
     "output_type": "stream",
     "text": [
      "\n",
      "aws s3 cp s3://mousebrainatlas-data/CSHL_data_processed/MD590/MD590_masks_alignedTo_MD590-N47-2015.09.12-05.32.06_MD590_2_0140_cropped/MD590-N25-2015.09.12-05.15.53_MD590_2_0074_mask_alignedTo_MD590-N47-2015.09.12-05.32.06_MD590_2_0140_cropped.png /media/yuncong/BstemAtlasData/CSHL_data_processed/MD590/MD590_masks_alignedTo_MD590-N47-2015.09.12-05.32.06_MD590_2_0140_cropped/MD590-N25-2015.09.12-05.15.53_MD590_2_0074_mask_alignedTo_MD590-N47-2015.09.12-05.32.06_MD590_2_0140_cropped.png"
     ]
    },
    {
     "name": "stderr",
     "output_type": "stream",
     "text": [
      " 0\n",
      "Child returned 0\n",
      "1.67 seconds.\n",
      "locate patches: 1.70 seconds\n",
      "39017 samples.\n",
      "load image: 1.53 seconds\n",
      "extract patches: 17.13 seconds\n",
      "predict: 99.27 seconds\n"
     ]
    },
    {
     "name": "stdout",
     "output_type": "stream",
     "text": [
      "\n",
      "aws s3 cp /media/yuncong/BstemAtlasData/CSHL_patch_features/inception-bn-blue/MD590/MD590-N25-2015.09.12-05.15.53_MD590_2_0074_lossless_alignedTo_MD590-N47-2015.09.12-05.32.06_MD590_2_0140_cropped/MD590-N25-2015.09.12-05.15.53_MD590_2_0074_lossless_alignedTo_MD590-N47-2015.09.12-05.32.06_MD590_2_0140_cropped_features.hdf s3://mousebrainatlas-data/CSHL_patch_features/inception-bn-blue/MD590/MD590-N25-2015.09.12-05.15.53_MD590_2_0074_lossless_alignedTo_MD590-N47-2015.09.12-05.32.06_MD590_2_0140_cropped/MD590-N25-2015.09.12-05.15.53_MD590_2_0074_lossless_alignedTo_MD590-N47-2015.09.12-05.32.06_MD590_2_0140_cropped_features.hdf\n",
      "aws s3 cp /media/yuncong/BstemAtlasData/CSHL_patch_features/inception-bn-blue/MD590/MD590-N25-2015.09.12-05.15.53_MD590_2_0074_lossless_alignedTo_MD590-N47-2015.09.12-05.32.06_MD590_2_0140_cropped/MD590-N25-2015.09.12-05.15.53_MD590_2_0074_lossless_alignedTo_MD590-N47-2015.09.12-05.32.06_MD590_2_0140_cropped_patch_locations.txt s3://mousebrainatlas-data/CSHL_patch_features/inception-bn-blue/MD590/MD590-N25-2015.09.12-05.15.53_MD590_2_0074_lossless_alignedTo_MD590-N47-2015.09.12-05.32.06_MD590_2_0140_cropped/MD590-N25-2015.09.12-05.15.53_MD590_2_0074_lossless_alignedTo_MD590-N47-2015.09.12-05.32.06_MD590_2_0140_cropped_patch_locations.txt"
     ]
    },
    {
     "name": "stderr",
     "output_type": "stream",
     "text": [
      "Child returned 0\n",
      "3.18 seconds.\n",
      "Child returned"
     ]
    },
    {
     "name": "stdout",
     "output_type": "stream",
     "text": [
      "\n",
      "rm -rf /media/yuncong/BstemAtlasData/CSHL_data_processed/MD590/MD590_masks_alignedTo_MD590-N47-2015.09.12-05.32.06_MD590_2_0140_cropped/MD590-IHC25-2015.08.10-19.42.49_MD590_2_0074_mask_alignedTo_MD590-N47-2015.09.12-05.32.06_MD590_2_0140_cropped.png && mkdir -p /media/yuncong/BstemAtlasData/CSHL_data_processed/MD590/MD590_masks_alignedTo_MD590-N47-2015.09.12-05.32.06_MD590_2_0140_cropped"
     ]
    },
    {
     "name": "stderr",
     "output_type": "stream",
     "text": [
      " 0\n",
      "1.39 seconds.\n",
      "save: 6.55 seconds\n",
      "\n",
      "Section 130.\n",
      "Child returned"
     ]
    },
    {
     "name": "stdout",
     "output_type": "stream",
     "text": [
      "\n",
      "aws s3 cp s3://mousebrainatlas-data/CSHL_data_processed/MD590/MD590_masks_alignedTo_MD590-N47-2015.09.12-05.32.06_MD590_2_0140_cropped/MD590-IHC25-2015.08.10-19.42.49_MD590_2_0074_mask_alignedTo_MD590-N47-2015.09.12-05.32.06_MD590_2_0140_cropped.png /media/yuncong/BstemAtlasData/CSHL_data_processed/MD590/MD590_masks_alignedTo_MD590-N47-2015.09.12-05.32.06_MD590_2_0140_cropped/MD590-IHC25-2015.08.10-19.42.49_MD590_2_0074_mask_alignedTo_MD590-N47-2015.09.12-05.32.06_MD590_2_0140_cropped.png"
     ]
    },
    {
     "name": "stderr",
     "output_type": "stream",
     "text": [
      " 0\n",
      "Child returned 0\n",
      "1.95 seconds.\n",
      "locate patches: 1.98 seconds\n",
      "39071 samples.\n",
      "load image: 1.57 seconds\n",
      "extract patches: 14.94 seconds\n",
      "predict: 99.87 seconds\n"
     ]
    },
    {
     "name": "stdout",
     "output_type": "stream",
     "text": [
      "\n",
      "aws s3 cp /media/yuncong/BstemAtlasData/CSHL_patch_features/inception-bn-blue/MD590/MD590-IHC25-2015.08.10-19.42.49_MD590_2_0074_lossless_alignedTo_MD590-N47-2015.09.12-05.32.06_MD590_2_0140_cropped/MD590-IHC25-2015.08.10-19.42.49_MD590_2_0074_lossless_alignedTo_MD590-N47-2015.09.12-05.32.06_MD590_2_0140_cropped_features.hdf s3://mousebrainatlas-data/CSHL_patch_features/inception-bn-blue/MD590/MD590-IHC25-2015.08.10-19.42.49_MD590_2_0074_lossless_alignedTo_MD590-N47-2015.09.12-05.32.06_MD590_2_0140_cropped/MD590-IHC25-2015.08.10-19.42.49_MD590_2_0074_lossless_alignedTo_MD590-N47-2015.09.12-05.32.06_MD590_2_0140_cropped_features.hdf\n",
      "aws s3 cp /media/yuncong/BstemAtlasData/CSHL_patch_features/inception-bn-blue/MD590/MD590-IHC25-2015.08.10-19.42.49_MD590_2_0074_lossless_alignedTo_MD590-N47-2015.09.12-05.32.06_MD590_2_0140_cropped/MD590-IHC25-2015.08.10-19.42.49_MD590_2_0074_lossless_alignedTo_MD590-N47-2015.09.12-05.32.06_MD590_2_0140_cropped_patch_locations.txt s3://mousebrainatlas-data/CSHL_patch_features/inception-bn-blue/MD590/MD590-IHC25-2015.08.10-19.42.49_MD590_2_0074_lossless_alignedTo_MD590-N47-2015.09.12-05.32.06_MD590_2_0140_cropped/MD590-IHC25-2015.08.10-19.42.49_MD590_2_0074_lossless_alignedTo_MD590-N47-2015.09.12-05.32.06_MD590_2_0140_cropped_patch_locations.txt"
     ]
    },
    {
     "name": "stderr",
     "output_type": "stream",
     "text": [
      "Child returned 0\n",
      "2.58 seconds.\n",
      "Child returned"
     ]
    },
    {
     "name": "stdout",
     "output_type": "stream",
     "text": [
      "\n",
      "rm -rf /media/yuncong/BstemAtlasData/CSHL_data_processed/MD590/MD590_masks_alignedTo_MD590-N47-2015.09.12-05.32.06_MD590_2_0140_cropped/MD590-N25-2015.09.12-05.15.53_MD590_3_0075_mask_alignedTo_MD590-N47-2015.09.12-05.32.06_MD590_2_0140_cropped.png && mkdir -p /media/yuncong/BstemAtlasData/CSHL_data_processed/MD590/MD590_masks_alignedTo_MD590-N47-2015.09.12-05.32.06_MD590_2_0140_cropped"
     ]
    },
    {
     "name": "stderr",
     "output_type": "stream",
     "text": [
      " 0\n",
      "1.32 seconds.\n",
      "save: 5.84 seconds\n",
      "\n",
      "Section 131.\n",
      "Child returned"
     ]
    },
    {
     "name": "stdout",
     "output_type": "stream",
     "text": [
      "\n",
      "aws s3 cp s3://mousebrainatlas-data/CSHL_data_processed/MD590/MD590_masks_alignedTo_MD590-N47-2015.09.12-05.32.06_MD590_2_0140_cropped/MD590-N25-2015.09.12-05.15.53_MD590_3_0075_mask_alignedTo_MD590-N47-2015.09.12-05.32.06_MD590_2_0140_cropped.png /media/yuncong/BstemAtlasData/CSHL_data_processed/MD590/MD590_masks_alignedTo_MD590-N47-2015.09.12-05.32.06_MD590_2_0140_cropped/MD590-N25-2015.09.12-05.15.53_MD590_3_0075_mask_alignedTo_MD590-N47-2015.09.12-05.32.06_MD590_2_0140_cropped.png"
     ]
    },
    {
     "name": "stderr",
     "output_type": "stream",
     "text": [
      " 0\n",
      "Child returned 0\n",
      "1.83 seconds.\n",
      "locate patches: 1.85 seconds\n",
      "39334 samples.\n",
      "load image: 1.54 seconds\n",
      "extract patches: 14.98 seconds\n",
      "predict: 104.23 seconds\n"
     ]
    },
    {
     "name": "stdout",
     "output_type": "stream",
     "text": [
      "\n",
      "aws s3 cp /media/yuncong/BstemAtlasData/CSHL_patch_features/inception-bn-blue/MD590/MD590-N25-2015.09.12-05.15.53_MD590_3_0075_lossless_alignedTo_MD590-N47-2015.09.12-05.32.06_MD590_2_0140_cropped/MD590-N25-2015.09.12-05.15.53_MD590_3_0075_lossless_alignedTo_MD590-N47-2015.09.12-05.32.06_MD590_2_0140_cropped_features.hdf s3://mousebrainatlas-data/CSHL_patch_features/inception-bn-blue/MD590/MD590-N25-2015.09.12-05.15.53_MD590_3_0075_lossless_alignedTo_MD590-N47-2015.09.12-05.32.06_MD590_2_0140_cropped/MD590-N25-2015.09.12-05.15.53_MD590_3_0075_lossless_alignedTo_MD590-N47-2015.09.12-05.32.06_MD590_2_0140_cropped_features.hdf\n",
      "aws s3 cp /media/yuncong/BstemAtlasData/CSHL_patch_features/inception-bn-blue/MD590/MD590-N25-2015.09.12-05.15.53_MD590_3_0075_lossless_alignedTo_MD590-N47-2015.09.12-05.32.06_MD590_2_0140_cropped/MD590-N25-2015.09.12-05.15.53_MD590_3_0075_lossless_alignedTo_MD590-N47-2015.09.12-05.32.06_MD590_2_0140_cropped_patch_locations.txt s3://mousebrainatlas-data/CSHL_patch_features/inception-bn-blue/MD590/MD590-N25-2015.09.12-05.15.53_MD590_3_0075_lossless_alignedTo_MD590-N47-2015.09.12-05.32.06_MD590_2_0140_cropped/MD590-N25-2015.09.12-05.15.53_MD590_3_0075_lossless_alignedTo_MD590-N47-2015.09.12-05.32.06_MD590_2_0140_cropped_patch_locations.txt"
     ]
    },
    {
     "name": "stderr",
     "output_type": "stream",
     "text": [
      "Child returned 0\n",
      "2.43 seconds.\n",
      "Child returned"
     ]
    },
    {
     "name": "stdout",
     "output_type": "stream",
     "text": [
      "\n",
      "rm -rf /media/yuncong/BstemAtlasData/CSHL_data_processed/MD590/MD590_masks_alignedTo_MD590-N47-2015.09.12-05.32.06_MD590_2_0140_cropped/MD590-IHC25-2015.08.10-19.42.49_MD590_1_0075_mask_alignedTo_MD590-N47-2015.09.12-05.32.06_MD590_2_0140_cropped.png && mkdir -p /media/yuncong/BstemAtlasData/CSHL_data_processed/MD590/MD590_masks_alignedTo_MD590-N47-2015.09.12-05.32.06_MD590_2_0140_cropped"
     ]
    },
    {
     "name": "stderr",
     "output_type": "stream",
     "text": [
      " 0\n",
      "1.31 seconds.\n",
      "save: 5.65 seconds\n",
      "\n",
      "Section 132.\n",
      "Child returned"
     ]
    },
    {
     "name": "stdout",
     "output_type": "stream",
     "text": [
      "\n",
      "aws s3 cp s3://mousebrainatlas-data/CSHL_data_processed/MD590/MD590_masks_alignedTo_MD590-N47-2015.09.12-05.32.06_MD590_2_0140_cropped/MD590-IHC25-2015.08.10-19.42.49_MD590_1_0075_mask_alignedTo_MD590-N47-2015.09.12-05.32.06_MD590_2_0140_cropped.png /media/yuncong/BstemAtlasData/CSHL_data_processed/MD590/MD590_masks_alignedTo_MD590-N47-2015.09.12-05.32.06_MD590_2_0140_cropped/MD590-IHC25-2015.08.10-19.42.49_MD590_1_0075_mask_alignedTo_MD590-N47-2015.09.12-05.32.06_MD590_2_0140_cropped.png"
     ]
    },
    {
     "name": "stderr",
     "output_type": "stream",
     "text": [
      " 0\n",
      "Child returned 0\n",
      "1.81 seconds.\n",
      "locate patches: 1.83 seconds\n",
      "39374 samples.\n",
      "load image: 1.50 seconds\n",
      "extract patches: 14.38 seconds\n",
      "predict: 100.69 seconds\n"
     ]
    },
    {
     "name": "stdout",
     "output_type": "stream",
     "text": [
      "\n",
      "aws s3 cp /media/yuncong/BstemAtlasData/CSHL_patch_features/inception-bn-blue/MD590/MD590-IHC25-2015.08.10-19.42.49_MD590_1_0075_lossless_alignedTo_MD590-N47-2015.09.12-05.32.06_MD590_2_0140_cropped/MD590-IHC25-2015.08.10-19.42.49_MD590_1_0075_lossless_alignedTo_MD590-N47-2015.09.12-05.32.06_MD590_2_0140_cropped_features.hdf s3://mousebrainatlas-data/CSHL_patch_features/inception-bn-blue/MD590/MD590-IHC25-2015.08.10-19.42.49_MD590_1_0075_lossless_alignedTo_MD590-N47-2015.09.12-05.32.06_MD590_2_0140_cropped/MD590-IHC25-2015.08.10-19.42.49_MD590_1_0075_lossless_alignedTo_MD590-N47-2015.09.12-05.32.06_MD590_2_0140_cropped_features.hdf\n",
      "aws s3 cp /media/yuncong/BstemAtlasData/CSHL_patch_features/inception-bn-blue/MD590/MD590-IHC25-2015.08.10-19.42.49_MD590_1_0075_lossless_alignedTo_MD590-N47-2015.09.12-05.32.06_MD590_2_0140_cropped/MD590-IHC25-2015.08.10-19.42.49_MD590_1_0075_lossless_alignedTo_MD590-N47-2015.09.12-05.32.06_MD590_2_0140_cropped_patch_locations.txt s3://mousebrainatlas-data/CSHL_patch_features/inception-bn-blue/MD590/MD590-IHC25-2015.08.10-19.42.49_MD590_1_0075_lossless_alignedTo_MD590-N47-2015.09.12-05.32.06_MD590_2_0140_cropped/MD590-IHC25-2015.08.10-19.42.49_MD590_1_0075_lossless_alignedTo_MD590-N47-2015.09.12-05.32.06_MD590_2_0140_cropped_patch_locations.txt"
     ]
    },
    {
     "name": "stderr",
     "output_type": "stream",
     "text": [
      "Child returned 0\n",
      "2.43 seconds.\n",
      "Child returned"
     ]
    },
    {
     "name": "stdout",
     "output_type": "stream",
     "text": [
      "\n",
      "rm -rf /media/yuncong/BstemAtlasData/CSHL_data_processed/MD590/MD590_masks_alignedTo_MD590-N47-2015.09.12-05.32.06_MD590_2_0140_cropped/MD590-N26-2015.08.03-18.42.38_MD590_3_0076_mask_alignedTo_MD590-N47-2015.09.12-05.32.06_MD590_2_0140_cropped.png && mkdir -p /media/yuncong/BstemAtlasData/CSHL_data_processed/MD590/MD590_masks_alignedTo_MD590-N47-2015.09.12-05.32.06_MD590_2_0140_cropped"
     ]
    },
    {
     "name": "stderr",
     "output_type": "stream",
     "text": [
      " 0\n",
      "1.53 seconds.\n",
      "save: 5.91 seconds\n",
      "\n",
      "Section 133.\n",
      "Child returned"
     ]
    },
    {
     "name": "stdout",
     "output_type": "stream",
     "text": [
      "\n",
      "aws s3 cp s3://mousebrainatlas-data/CSHL_data_processed/MD590/MD590_masks_alignedTo_MD590-N47-2015.09.12-05.32.06_MD590_2_0140_cropped/MD590-N26-2015.08.03-18.42.38_MD590_3_0076_mask_alignedTo_MD590-N47-2015.09.12-05.32.06_MD590_2_0140_cropped.png /media/yuncong/BstemAtlasData/CSHL_data_processed/MD590/MD590_masks_alignedTo_MD590-N47-2015.09.12-05.32.06_MD590_2_0140_cropped/MD590-N26-2015.08.03-18.42.38_MD590_3_0076_mask_alignedTo_MD590-N47-2015.09.12-05.32.06_MD590_2_0140_cropped.png"
     ]
    },
    {
     "name": "stderr",
     "output_type": "stream",
     "text": [
      " 0\n",
      "Child returned 0\n",
      "1.80 seconds.\n",
      "locate patches: 1.83 seconds\n",
      "39279 samples.\n",
      "load image: 1.55 seconds\n",
      "extract patches: 14.05 seconds\n",
      "predict: 100.81 seconds\n"
     ]
    },
    {
     "name": "stdout",
     "output_type": "stream",
     "text": [
      "\n",
      "aws s3 cp /media/yuncong/BstemAtlasData/CSHL_patch_features/inception-bn-blue/MD590/MD590-N26-2015.08.03-18.42.38_MD590_3_0076_lossless_alignedTo_MD590-N47-2015.09.12-05.32.06_MD590_2_0140_cropped/MD590-N26-2015.08.03-18.42.38_MD590_3_0076_lossless_alignedTo_MD590-N47-2015.09.12-05.32.06_MD590_2_0140_cropped_features.hdf s3://mousebrainatlas-data/CSHL_patch_features/inception-bn-blue/MD590/MD590-N26-2015.08.03-18.42.38_MD590_3_0076_lossless_alignedTo_MD590-N47-2015.09.12-05.32.06_MD590_2_0140_cropped/MD590-N26-2015.08.03-18.42.38_MD590_3_0076_lossless_alignedTo_MD590-N47-2015.09.12-05.32.06_MD590_2_0140_cropped_features.hdf\n",
      "aws s3 cp /media/yuncong/BstemAtlasData/CSHL_patch_features/inception-bn-blue/MD590/MD590-N26-2015.08.03-18.42.38_MD590_3_0076_lossless_alignedTo_MD590-N47-2015.09.12-05.32.06_MD590_2_0140_cropped/MD590-N26-2015.08.03-18.42.38_MD590_3_0076_lossless_alignedTo_MD590-N47-2015.09.12-05.32.06_MD590_2_0140_cropped_patch_locations.txt s3://mousebrainatlas-data/CSHL_patch_features/inception-bn-blue/MD590/MD590-N26-2015.08.03-18.42.38_MD590_3_0076_lossless_alignedTo_MD590-N47-2015.09.12-05.32.06_MD590_2_0140_cropped/MD590-N26-2015.08.03-18.42.38_MD590_3_0076_lossless_alignedTo_MD590-N47-2015.09.12-05.32.06_MD590_2_0140_cropped_patch_locations.txt"
     ]
    },
    {
     "name": "stderr",
     "output_type": "stream",
     "text": [
      "Child returned 0\n",
      "2.39 seconds.\n",
      "Child returned"
     ]
    },
    {
     "name": "stdout",
     "output_type": "stream",
     "text": [
      "\n",
      "rm -rf /media/yuncong/BstemAtlasData/CSHL_data_processed/MD590/MD590_masks_alignedTo_MD590-N47-2015.09.12-05.32.06_MD590_2_0140_cropped/MD590-IHC26-2015.08.10-19.47.18_MD590_3_0076_mask_alignedTo_MD590-N47-2015.09.12-05.32.06_MD590_2_0140_cropped.png && mkdir -p /media/yuncong/BstemAtlasData/CSHL_data_processed/MD590/MD590_masks_alignedTo_MD590-N47-2015.09.12-05.32.06_MD590_2_0140_cropped"
     ]
    },
    {
     "name": "stderr",
     "output_type": "stream",
     "text": [
      " 0\n",
      "1.25 seconds.\n",
      "save: 5.62 seconds\n",
      "\n",
      "Section 134.\n",
      "Child returned"
     ]
    },
    {
     "name": "stdout",
     "output_type": "stream",
     "text": [
      "\n",
      "aws s3 cp s3://mousebrainatlas-data/CSHL_data_processed/MD590/MD590_masks_alignedTo_MD590-N47-2015.09.12-05.32.06_MD590_2_0140_cropped/MD590-IHC26-2015.08.10-19.47.18_MD590_3_0076_mask_alignedTo_MD590-N47-2015.09.12-05.32.06_MD590_2_0140_cropped.png /media/yuncong/BstemAtlasData/CSHL_data_processed/MD590/MD590_masks_alignedTo_MD590-N47-2015.09.12-05.32.06_MD590_2_0140_cropped/MD590-IHC26-2015.08.10-19.47.18_MD590_3_0076_mask_alignedTo_MD590-N47-2015.09.12-05.32.06_MD590_2_0140_cropped.png"
     ]
    },
    {
     "name": "stderr",
     "output_type": "stream",
     "text": [
      " 0\n",
      "Child returned 0\n",
      "1.87 seconds.\n",
      "locate patches: 1.90 seconds\n",
      "39746 samples.\n",
      "load image: 1.56 seconds\n",
      "extract patches: 14.33 seconds\n",
      "predict: 102.06 seconds\n"
     ]
    },
    {
     "name": "stdout",
     "output_type": "stream",
     "text": [
      "\n",
      "aws s3 cp /media/yuncong/BstemAtlasData/CSHL_patch_features/inception-bn-blue/MD590/MD590-IHC26-2015.08.10-19.47.18_MD590_3_0076_lossless_alignedTo_MD590-N47-2015.09.12-05.32.06_MD590_2_0140_cropped/MD590-IHC26-2015.08.10-19.47.18_MD590_3_0076_lossless_alignedTo_MD590-N47-2015.09.12-05.32.06_MD590_2_0140_cropped_features.hdf s3://mousebrainatlas-data/CSHL_patch_features/inception-bn-blue/MD590/MD590-IHC26-2015.08.10-19.47.18_MD590_3_0076_lossless_alignedTo_MD590-N47-2015.09.12-05.32.06_MD590_2_0140_cropped/MD590-IHC26-2015.08.10-19.47.18_MD590_3_0076_lossless_alignedTo_MD590-N47-2015.09.12-05.32.06_MD590_2_0140_cropped_features.hdf\n",
      "aws s3 cp /media/yuncong/BstemAtlasData/CSHL_patch_features/inception-bn-blue/MD590/MD590-IHC26-2015.08.10-19.47.18_MD590_3_0076_lossless_alignedTo_MD590-N47-2015.09.12-05.32.06_MD590_2_0140_cropped/MD590-IHC26-2015.08.10-19.47.18_MD590_3_0076_lossless_alignedTo_MD590-N47-2015.09.12-05.32.06_MD590_2_0140_cropped_patch_locations.txt s3://mousebrainatlas-data/CSHL_patch_features/inception-bn-blue/MD590/MD590-IHC26-2015.08.10-19.47.18_MD590_3_0076_lossless_alignedTo_MD590-N47-2015.09.12-05.32.06_MD590_2_0140_cropped/MD590-IHC26-2015.08.10-19.47.18_MD590_3_0076_lossless_alignedTo_MD590-N47-2015.09.12-05.32.06_MD590_2_0140_cropped_patch_locations.txt"
     ]
    },
    {
     "name": "stderr",
     "output_type": "stream",
     "text": [
      "Child returned 0\n",
      "2.55 seconds.\n",
      "Child returned"
     ]
    },
    {
     "name": "stdout",
     "output_type": "stream",
     "text": [
      "\n",
      "rm -rf /media/yuncong/BstemAtlasData/CSHL_data_processed/MD590/MD590_masks_alignedTo_MD590-N47-2015.09.12-05.32.06_MD590_2_0140_cropped/MD590-N26-2015.08.03-18.42.38_MD590_2_0077_mask_alignedTo_MD590-N47-2015.09.12-05.32.06_MD590_2_0140_cropped.png && mkdir -p /media/yuncong/BstemAtlasData/CSHL_data_processed/MD590/MD590_masks_alignedTo_MD590-N47-2015.09.12-05.32.06_MD590_2_0140_cropped"
     ]
    },
    {
     "name": "stderr",
     "output_type": "stream",
     "text": [
      " 0\n",
      "1.29 seconds.\n",
      "save: 5.76 seconds\n",
      "\n",
      "Section 135.\n",
      "Child returned"
     ]
    },
    {
     "name": "stdout",
     "output_type": "stream",
     "text": [
      "\n",
      "aws s3 cp s3://mousebrainatlas-data/CSHL_data_processed/MD590/MD590_masks_alignedTo_MD590-N47-2015.09.12-05.32.06_MD590_2_0140_cropped/MD590-N26-2015.08.03-18.42.38_MD590_2_0077_mask_alignedTo_MD590-N47-2015.09.12-05.32.06_MD590_2_0140_cropped.png /media/yuncong/BstemAtlasData/CSHL_data_processed/MD590/MD590_masks_alignedTo_MD590-N47-2015.09.12-05.32.06_MD590_2_0140_cropped/MD590-N26-2015.08.03-18.42.38_MD590_2_0077_mask_alignedTo_MD590-N47-2015.09.12-05.32.06_MD590_2_0140_cropped.png"
     ]
    },
    {
     "name": "stderr",
     "output_type": "stream",
     "text": [
      " 0\n",
      "Child returned 0\n",
      "1.84 seconds.\n",
      "locate patches: 1.87 seconds\n",
      "39781 samples.\n",
      "load image: 1.47 seconds\n",
      "extract patches: 14.28 seconds\n",
      "predict: 102.10 seconds\n"
     ]
    },
    {
     "name": "stdout",
     "output_type": "stream",
     "text": [
      "\n",
      "aws s3 cp /media/yuncong/BstemAtlasData/CSHL_patch_features/inception-bn-blue/MD590/MD590-N26-2015.08.03-18.42.38_MD590_2_0077_lossless_alignedTo_MD590-N47-2015.09.12-05.32.06_MD590_2_0140_cropped/MD590-N26-2015.08.03-18.42.38_MD590_2_0077_lossless_alignedTo_MD590-N47-2015.09.12-05.32.06_MD590_2_0140_cropped_features.hdf s3://mousebrainatlas-data/CSHL_patch_features/inception-bn-blue/MD590/MD590-N26-2015.08.03-18.42.38_MD590_2_0077_lossless_alignedTo_MD590-N47-2015.09.12-05.32.06_MD590_2_0140_cropped/MD590-N26-2015.08.03-18.42.38_MD590_2_0077_lossless_alignedTo_MD590-N47-2015.09.12-05.32.06_MD590_2_0140_cropped_features.hdf\n",
      "aws s3 cp /media/yuncong/BstemAtlasData/CSHL_patch_features/inception-bn-blue/MD590/MD590-N26-2015.08.03-18.42.38_MD590_2_0077_lossless_alignedTo_MD590-N47-2015.09.12-05.32.06_MD590_2_0140_cropped/MD590-N26-2015.08.03-18.42.38_MD590_2_0077_lossless_alignedTo_MD590-N47-2015.09.12-05.32.06_MD590_2_0140_cropped_patch_locations.txt s3://mousebrainatlas-data/CSHL_patch_features/inception-bn-blue/MD590/MD590-N26-2015.08.03-18.42.38_MD590_2_0077_lossless_alignedTo_MD590-N47-2015.09.12-05.32.06_MD590_2_0140_cropped/MD590-N26-2015.08.03-18.42.38_MD590_2_0077_lossless_alignedTo_MD590-N47-2015.09.12-05.32.06_MD590_2_0140_cropped_patch_locations.txt"
     ]
    },
    {
     "name": "stderr",
     "output_type": "stream",
     "text": [
      "Child returned 0\n",
      "2.46 seconds.\n",
      "Child returned"
     ]
    },
    {
     "name": "stdout",
     "output_type": "stream",
     "text": [
      "\n",
      "rm -rf /media/yuncong/BstemAtlasData/CSHL_data_processed/MD590/MD590_masks_alignedTo_MD590-N47-2015.09.12-05.32.06_MD590_2_0140_cropped/MD590-IHC26-2015.08.10-19.47.18_MD590_2_0077_mask_alignedTo_MD590-N47-2015.09.12-05.32.06_MD590_2_0140_cropped.png && mkdir -p /media/yuncong/BstemAtlasData/CSHL_data_processed/MD590/MD590_masks_alignedTo_MD590-N47-2015.09.12-05.32.06_MD590_2_0140_cropped"
     ]
    },
    {
     "name": "stderr",
     "output_type": "stream",
     "text": [
      " 0\n",
      "1.39 seconds.\n",
      "save: 5.87 seconds\n",
      "\n",
      "Section 136.\n",
      "Child returned"
     ]
    },
    {
     "name": "stdout",
     "output_type": "stream",
     "text": [
      "\n",
      "aws s3 cp s3://mousebrainatlas-data/CSHL_data_processed/MD590/MD590_masks_alignedTo_MD590-N47-2015.09.12-05.32.06_MD590_2_0140_cropped/MD590-IHC26-2015.08.10-19.47.18_MD590_2_0077_mask_alignedTo_MD590-N47-2015.09.12-05.32.06_MD590_2_0140_cropped.png /media/yuncong/BstemAtlasData/CSHL_data_processed/MD590/MD590_masks_alignedTo_MD590-N47-2015.09.12-05.32.06_MD590_2_0140_cropped/MD590-IHC26-2015.08.10-19.47.18_MD590_2_0077_mask_alignedTo_MD590-N47-2015.09.12-05.32.06_MD590_2_0140_cropped.png"
     ]
    },
    {
     "name": "stderr",
     "output_type": "stream",
     "text": [
      " 0\n",
      "Child returned 0\n",
      "1.80 seconds.\n",
      "locate patches: 1.83 seconds\n",
      "40180 samples.\n",
      "load image: 1.54 seconds\n",
      "extract patches: 14.38 seconds\n",
      "predict: 103.72 seconds\n"
     ]
    },
    {
     "name": "stdout",
     "output_type": "stream",
     "text": [
      "\n",
      "aws s3 cp /media/yuncong/BstemAtlasData/CSHL_patch_features/inception-bn-blue/MD590/MD590-IHC26-2015.08.10-19.47.18_MD590_2_0077_lossless_alignedTo_MD590-N47-2015.09.12-05.32.06_MD590_2_0140_cropped/MD590-IHC26-2015.08.10-19.47.18_MD590_2_0077_lossless_alignedTo_MD590-N47-2015.09.12-05.32.06_MD590_2_0140_cropped_features.hdf s3://mousebrainatlas-data/CSHL_patch_features/inception-bn-blue/MD590/MD590-IHC26-2015.08.10-19.47.18_MD590_2_0077_lossless_alignedTo_MD590-N47-2015.09.12-05.32.06_MD590_2_0140_cropped/MD590-IHC26-2015.08.10-19.47.18_MD590_2_0077_lossless_alignedTo_MD590-N47-2015.09.12-05.32.06_MD590_2_0140_cropped_features.hdf\n",
      "aws s3 cp /media/yuncong/BstemAtlasData/CSHL_patch_features/inception-bn-blue/MD590/MD590-IHC26-2015.08.10-19.47.18_MD590_2_0077_lossless_alignedTo_MD590-N47-2015.09.12-05.32.06_MD590_2_0140_cropped/MD590-IHC26-2015.08.10-19.47.18_MD590_2_0077_lossless_alignedTo_MD590-N47-2015.09.12-05.32.06_MD590_2_0140_cropped_patch_locations.txt s3://mousebrainatlas-data/CSHL_patch_features/inception-bn-blue/MD590/MD590-IHC26-2015.08.10-19.47.18_MD590_2_0077_lossless_alignedTo_MD590-N47-2015.09.12-05.32.06_MD590_2_0140_cropped/MD590-IHC26-2015.08.10-19.47.18_MD590_2_0077_lossless_alignedTo_MD590-N47-2015.09.12-05.32.06_MD590_2_0140_cropped_patch_locations.txt"
     ]
    },
    {
     "name": "stderr",
     "output_type": "stream",
     "text": [
      "Child returned 0\n",
      "2.50 seconds.\n",
      "Child returned"
     ]
    },
    {
     "name": "stdout",
     "output_type": "stream",
     "text": [
      "\n",
      "rm -rf /media/yuncong/BstemAtlasData/CSHL_data_processed/MD590/MD590_masks_alignedTo_MD590-N47-2015.09.12-05.32.06_MD590_2_0140_cropped/MD590-N26-2015.08.03-18.42.38_MD590_1_0078_mask_alignedTo_MD590-N47-2015.09.12-05.32.06_MD590_2_0140_cropped.png && mkdir -p /media/yuncong/BstemAtlasData/CSHL_data_processed/MD590/MD590_masks_alignedTo_MD590-N47-2015.09.12-05.32.06_MD590_2_0140_cropped"
     ]
    },
    {
     "name": "stderr",
     "output_type": "stream",
     "text": [
      " 0\n",
      "1.28 seconds.\n",
      "save: 5.85 seconds\n",
      "\n",
      "Section 137.\n",
      "Child returned"
     ]
    },
    {
     "name": "stdout",
     "output_type": "stream",
     "text": [
      "\n",
      "aws s3 cp s3://mousebrainatlas-data/CSHL_data_processed/MD590/MD590_masks_alignedTo_MD590-N47-2015.09.12-05.32.06_MD590_2_0140_cropped/MD590-N26-2015.08.03-18.42.38_MD590_1_0078_mask_alignedTo_MD590-N47-2015.09.12-05.32.06_MD590_2_0140_cropped.png /media/yuncong/BstemAtlasData/CSHL_data_processed/MD590/MD590_masks_alignedTo_MD590-N47-2015.09.12-05.32.06_MD590_2_0140_cropped/MD590-N26-2015.08.03-18.42.38_MD590_1_0078_mask_alignedTo_MD590-N47-2015.09.12-05.32.06_MD590_2_0140_cropped.png"
     ]
    },
    {
     "name": "stderr",
     "output_type": "stream",
     "text": [
      " 0\n",
      "Child returned 0\n",
      "1.75 seconds.\n",
      "locate patches: 1.77 seconds\n",
      "40061 samples.\n",
      "load image: 1.65 seconds\n",
      "extract patches: 14.65 seconds\n",
      "predict: 102.75 seconds\n"
     ]
    },
    {
     "name": "stdout",
     "output_type": "stream",
     "text": [
      "\n",
      "aws s3 cp /media/yuncong/BstemAtlasData/CSHL_patch_features/inception-bn-blue/MD590/MD590-N26-2015.08.03-18.42.38_MD590_1_0078_lossless_alignedTo_MD590-N47-2015.09.12-05.32.06_MD590_2_0140_cropped/MD590-N26-2015.08.03-18.42.38_MD590_1_0078_lossless_alignedTo_MD590-N47-2015.09.12-05.32.06_MD590_2_0140_cropped_features.hdf s3://mousebrainatlas-data/CSHL_patch_features/inception-bn-blue/MD590/MD590-N26-2015.08.03-18.42.38_MD590_1_0078_lossless_alignedTo_MD590-N47-2015.09.12-05.32.06_MD590_2_0140_cropped/MD590-N26-2015.08.03-18.42.38_MD590_1_0078_lossless_alignedTo_MD590-N47-2015.09.12-05.32.06_MD590_2_0140_cropped_features.hdf\n",
      "aws s3 cp /media/yuncong/BstemAtlasData/CSHL_patch_features/inception-bn-blue/MD590/MD590-N26-2015.08.03-18.42.38_MD590_1_0078_lossless_alignedTo_MD590-N47-2015.09.12-05.32.06_MD590_2_0140_cropped/MD590-N26-2015.08.03-18.42.38_MD590_1_0078_lossless_alignedTo_MD590-N47-2015.09.12-05.32.06_MD590_2_0140_cropped_patch_locations.txt s3://mousebrainatlas-data/CSHL_patch_features/inception-bn-blue/MD590/MD590-N26-2015.08.03-18.42.38_MD590_1_0078_lossless_alignedTo_MD590-N47-2015.09.12-05.32.06_MD590_2_0140_cropped/MD590-N26-2015.08.03-18.42.38_MD590_1_0078_lossless_alignedTo_MD590-N47-2015.09.12-05.32.06_MD590_2_0140_cropped_patch_locations.txt"
     ]
    },
    {
     "name": "stderr",
     "output_type": "stream",
     "text": [
      "Child returned 0\n",
      "2.61 seconds.\n",
      "Child returned"
     ]
    },
    {
     "name": "stdout",
     "output_type": "stream",
     "text": [
      "\n",
      "rm -rf /media/yuncong/BstemAtlasData/CSHL_data_processed/MD590/MD590_masks_alignedTo_MD590-N47-2015.09.12-05.32.06_MD590_2_0140_cropped/MD590-IHC26-2015.08.10-19.47.18_MD590_1_0078_mask_alignedTo_MD590-N47-2015.09.12-05.32.06_MD590_2_0140_cropped.png && mkdir -p /media/yuncong/BstemAtlasData/CSHL_data_processed/MD590/MD590_masks_alignedTo_MD590-N47-2015.09.12-05.32.06_MD590_2_0140_cropped"
     ]
    },
    {
     "name": "stderr",
     "output_type": "stream",
     "text": [
      " 0\n",
      "1.33 seconds.\n",
      "save: 6.04 seconds\n",
      "\n",
      "Section 138.\n",
      "Child returned"
     ]
    },
    {
     "name": "stdout",
     "output_type": "stream",
     "text": [
      "\n",
      "aws s3 cp s3://mousebrainatlas-data/CSHL_data_processed/MD590/MD590_masks_alignedTo_MD590-N47-2015.09.12-05.32.06_MD590_2_0140_cropped/MD590-IHC26-2015.08.10-19.47.18_MD590_1_0078_mask_alignedTo_MD590-N47-2015.09.12-05.32.06_MD590_2_0140_cropped.png /media/yuncong/BstemAtlasData/CSHL_data_processed/MD590/MD590_masks_alignedTo_MD590-N47-2015.09.12-05.32.06_MD590_2_0140_cropped/MD590-IHC26-2015.08.10-19.47.18_MD590_1_0078_mask_alignedTo_MD590-N47-2015.09.12-05.32.06_MD590_2_0140_cropped.png"
     ]
    },
    {
     "name": "stderr",
     "output_type": "stream",
     "text": [
      " 0\n",
      "Child returned 0\n",
      "1.81 seconds.\n",
      "locate patches: 1.84 seconds\n",
      "40377 samples.\n",
      "load image: 1.54 seconds\n",
      "extract patches: 14.75 seconds\n",
      "predict: 103.98 seconds\n"
     ]
    },
    {
     "name": "stdout",
     "output_type": "stream",
     "text": [
      "\n",
      "aws s3 cp /media/yuncong/BstemAtlasData/CSHL_patch_features/inception-bn-blue/MD590/MD590-IHC26-2015.08.10-19.47.18_MD590_1_0078_lossless_alignedTo_MD590-N47-2015.09.12-05.32.06_MD590_2_0140_cropped/MD590-IHC26-2015.08.10-19.47.18_MD590_1_0078_lossless_alignedTo_MD590-N47-2015.09.12-05.32.06_MD590_2_0140_cropped_features.hdf s3://mousebrainatlas-data/CSHL_patch_features/inception-bn-blue/MD590/MD590-IHC26-2015.08.10-19.47.18_MD590_1_0078_lossless_alignedTo_MD590-N47-2015.09.12-05.32.06_MD590_2_0140_cropped/MD590-IHC26-2015.08.10-19.47.18_MD590_1_0078_lossless_alignedTo_MD590-N47-2015.09.12-05.32.06_MD590_2_0140_cropped_features.hdf\n",
      "aws s3 cp /media/yuncong/BstemAtlasData/CSHL_patch_features/inception-bn-blue/MD590/MD590-IHC26-2015.08.10-19.47.18_MD590_1_0078_lossless_alignedTo_MD590-N47-2015.09.12-05.32.06_MD590_2_0140_cropped/MD590-IHC26-2015.08.10-19.47.18_MD590_1_0078_lossless_alignedTo_MD590-N47-2015.09.12-05.32.06_MD590_2_0140_cropped_patch_locations.txt s3://mousebrainatlas-data/CSHL_patch_features/inception-bn-blue/MD590/MD590-IHC26-2015.08.10-19.47.18_MD590_1_0078_lossless_alignedTo_MD590-N47-2015.09.12-05.32.06_MD590_2_0140_cropped/MD590-IHC26-2015.08.10-19.47.18_MD590_1_0078_lossless_alignedTo_MD590-N47-2015.09.12-05.32.06_MD590_2_0140_cropped_patch_locations.txt"
     ]
    },
    {
     "name": "stderr",
     "output_type": "stream",
     "text": [
      "Child returned 0\n",
      "2.42 seconds.\n",
      "Child returned"
     ]
    },
    {
     "name": "stdout",
     "output_type": "stream",
     "text": [
      "\n",
      "rm -rf /media/yuncong/BstemAtlasData/CSHL_data_processed/MD590/MD590_masks_alignedTo_MD590-N47-2015.09.12-05.32.06_MD590_2_0140_cropped/MD590-N27-2015.08.03-18.47.02_MD590_3_0079_mask_alignedTo_MD590-N47-2015.09.12-05.32.06_MD590_2_0140_cropped.png && mkdir -p /media/yuncong/BstemAtlasData/CSHL_data_processed/MD590/MD590_masks_alignedTo_MD590-N47-2015.09.12-05.32.06_MD590_2_0140_cropped"
     ]
    },
    {
     "name": "stderr",
     "output_type": "stream",
     "text": [
      " 0\n",
      "1.35 seconds.\n",
      "save: 5.93 seconds\n",
      "\n",
      "Section 139.\n",
      "Child returned"
     ]
    },
    {
     "name": "stdout",
     "output_type": "stream",
     "text": [
      "\n",
      "aws s3 cp s3://mousebrainatlas-data/CSHL_data_processed/MD590/MD590_masks_alignedTo_MD590-N47-2015.09.12-05.32.06_MD590_2_0140_cropped/MD590-N27-2015.08.03-18.47.02_MD590_3_0079_mask_alignedTo_MD590-N47-2015.09.12-05.32.06_MD590_2_0140_cropped.png /media/yuncong/BstemAtlasData/CSHL_data_processed/MD590/MD590_masks_alignedTo_MD590-N47-2015.09.12-05.32.06_MD590_2_0140_cropped/MD590-N27-2015.08.03-18.47.02_MD590_3_0079_mask_alignedTo_MD590-N47-2015.09.12-05.32.06_MD590_2_0140_cropped.png"
     ]
    },
    {
     "name": "stderr",
     "output_type": "stream",
     "text": [
      " 0\n",
      "Child returned 0\n",
      "1.74 seconds.\n",
      "locate patches: 1.76 seconds\n",
      "40412 samples.\n",
      "load image: 1.53 seconds\n",
      "extract patches: 14.68 seconds\n",
      "predict: 103.88 seconds\n"
     ]
    },
    {
     "name": "stdout",
     "output_type": "stream",
     "text": [
      "\n",
      "aws s3 cp /media/yuncong/BstemAtlasData/CSHL_patch_features/inception-bn-blue/MD590/MD590-N27-2015.08.03-18.47.02_MD590_3_0079_lossless_alignedTo_MD590-N47-2015.09.12-05.32.06_MD590_2_0140_cropped/MD590-N27-2015.08.03-18.47.02_MD590_3_0079_lossless_alignedTo_MD590-N47-2015.09.12-05.32.06_MD590_2_0140_cropped_features.hdf s3://mousebrainatlas-data/CSHL_patch_features/inception-bn-blue/MD590/MD590-N27-2015.08.03-18.47.02_MD590_3_0079_lossless_alignedTo_MD590-N47-2015.09.12-05.32.06_MD590_2_0140_cropped/MD590-N27-2015.08.03-18.47.02_MD590_3_0079_lossless_alignedTo_MD590-N47-2015.09.12-05.32.06_MD590_2_0140_cropped_features.hdf\n",
      "aws s3 cp /media/yuncong/BstemAtlasData/CSHL_patch_features/inception-bn-blue/MD590/MD590-N27-2015.08.03-18.47.02_MD590_3_0079_lossless_alignedTo_MD590-N47-2015.09.12-05.32.06_MD590_2_0140_cropped/MD590-N27-2015.08.03-18.47.02_MD590_3_0079_lossless_alignedTo_MD590-N47-2015.09.12-05.32.06_MD590_2_0140_cropped_patch_locations.txt s3://mousebrainatlas-data/CSHL_patch_features/inception-bn-blue/MD590/MD590-N27-2015.08.03-18.47.02_MD590_3_0079_lossless_alignedTo_MD590-N47-2015.09.12-05.32.06_MD590_2_0140_cropped/MD590-N27-2015.08.03-18.47.02_MD590_3_0079_lossless_alignedTo_MD590-N47-2015.09.12-05.32.06_MD590_2_0140_cropped_patch_locations.txt"
     ]
    },
    {
     "name": "stderr",
     "output_type": "stream",
     "text": [
      "Child returned 0\n",
      "2.51 seconds.\n",
      "Child returned"
     ]
    },
    {
     "name": "stdout",
     "output_type": "stream",
     "text": [
      "\n",
      "rm -rf /media/yuncong/BstemAtlasData/CSHL_data_processed/MD590/MD590_masks_alignedTo_MD590-N47-2015.09.12-05.32.06_MD590_2_0140_cropped/MD590-N27-2015.08.03-18.47.02_MD590_2_0080_mask_alignedTo_MD590-N47-2015.09.12-05.32.06_MD590_2_0140_cropped.png && mkdir -p /media/yuncong/BstemAtlasData/CSHL_data_processed/MD590/MD590_masks_alignedTo_MD590-N47-2015.09.12-05.32.06_MD590_2_0140_cropped"
     ]
    },
    {
     "name": "stderr",
     "output_type": "stream",
     "text": [
      " 0\n",
      "1.33 seconds.\n",
      "save: 5.94 seconds\n",
      "\n",
      "Section 140.\n",
      "Child returned"
     ]
    },
    {
     "name": "stdout",
     "output_type": "stream",
     "text": [
      "\n",
      "aws s3 cp s3://mousebrainatlas-data/CSHL_data_processed/MD590/MD590_masks_alignedTo_MD590-N47-2015.09.12-05.32.06_MD590_2_0140_cropped/MD590-N27-2015.08.03-18.47.02_MD590_2_0080_mask_alignedTo_MD590-N47-2015.09.12-05.32.06_MD590_2_0140_cropped.png /media/yuncong/BstemAtlasData/CSHL_data_processed/MD590/MD590_masks_alignedTo_MD590-N47-2015.09.12-05.32.06_MD590_2_0140_cropped/MD590-N27-2015.08.03-18.47.02_MD590_2_0080_mask_alignedTo_MD590-N47-2015.09.12-05.32.06_MD590_2_0140_cropped.png"
     ]
    },
    {
     "name": "stderr",
     "output_type": "stream",
     "text": [
      " 0\n",
      "Child returned 0\n",
      "1.77 seconds.\n",
      "locate patches: 1.81 seconds\n",
      "40875 samples.\n",
      "load image: 1.54 seconds\n",
      "extract patches: 15.13 seconds\n",
      "predict: 105.43 seconds\n"
     ]
    },
    {
     "name": "stdout",
     "output_type": "stream",
     "text": [
      "\n",
      "aws s3 cp /media/yuncong/BstemAtlasData/CSHL_patch_features/inception-bn-blue/MD590/MD590-N27-2015.08.03-18.47.02_MD590_2_0080_lossless_alignedTo_MD590-N47-2015.09.12-05.32.06_MD590_2_0140_cropped/MD590-N27-2015.08.03-18.47.02_MD590_2_0080_lossless_alignedTo_MD590-N47-2015.09.12-05.32.06_MD590_2_0140_cropped_features.hdf s3://mousebrainatlas-data/CSHL_patch_features/inception-bn-blue/MD590/MD590-N27-2015.08.03-18.47.02_MD590_2_0080_lossless_alignedTo_MD590-N47-2015.09.12-05.32.06_MD590_2_0140_cropped/MD590-N27-2015.08.03-18.47.02_MD590_2_0080_lossless_alignedTo_MD590-N47-2015.09.12-05.32.06_MD590_2_0140_cropped_features.hdf\n",
      "aws s3 cp /media/yuncong/BstemAtlasData/CSHL_patch_features/inception-bn-blue/MD590/MD590-N27-2015.08.03-18.47.02_MD590_2_0080_lossless_alignedTo_MD590-N47-2015.09.12-05.32.06_MD590_2_0140_cropped/MD590-N27-2015.08.03-18.47.02_MD590_2_0080_lossless_alignedTo_MD590-N47-2015.09.12-05.32.06_MD590_2_0140_cropped_patch_locations.txt s3://mousebrainatlas-data/CSHL_patch_features/inception-bn-blue/MD590/MD590-N27-2015.08.03-18.47.02_MD590_2_0080_lossless_alignedTo_MD590-N47-2015.09.12-05.32.06_MD590_2_0140_cropped/MD590-N27-2015.08.03-18.47.02_MD590_2_0080_lossless_alignedTo_MD590-N47-2015.09.12-05.32.06_MD590_2_0140_cropped_patch_locations.txt"
     ]
    },
    {
     "name": "stderr",
     "output_type": "stream",
     "text": [
      "Child returned 0\n",
      "2.60 seconds.\n",
      "Child returned"
     ]
    },
    {
     "name": "stdout",
     "output_type": "stream",
     "text": [
      "\n",
      "rm -rf /media/yuncong/BstemAtlasData/CSHL_data_processed/MD590/MD590_masks_alignedTo_MD590-N47-2015.09.12-05.32.06_MD590_2_0140_cropped/MD590-N27-2015.08.03-18.47.02_MD590_1_0081_mask_alignedTo_MD590-N47-2015.09.12-05.32.06_MD590_2_0140_cropped.png && mkdir -p /media/yuncong/BstemAtlasData/CSHL_data_processed/MD590/MD590_masks_alignedTo_MD590-N47-2015.09.12-05.32.06_MD590_2_0140_cropped"
     ]
    },
    {
     "name": "stderr",
     "output_type": "stream",
     "text": [
      " 0\n",
      "1.33 seconds.\n",
      "save: 5.95 seconds\n",
      "\n",
      "Section 141.\n",
      "Child returned"
     ]
    },
    {
     "name": "stdout",
     "output_type": "stream",
     "text": [
      "\n",
      "aws s3 cp s3://mousebrainatlas-data/CSHL_data_processed/MD590/MD590_masks_alignedTo_MD590-N47-2015.09.12-05.32.06_MD590_2_0140_cropped/MD590-N27-2015.08.03-18.47.02_MD590_1_0081_mask_alignedTo_MD590-N47-2015.09.12-05.32.06_MD590_2_0140_cropped.png /media/yuncong/BstemAtlasData/CSHL_data_processed/MD590/MD590_masks_alignedTo_MD590-N47-2015.09.12-05.32.06_MD590_2_0140_cropped/MD590-N27-2015.08.03-18.47.02_MD590_1_0081_mask_alignedTo_MD590-N47-2015.09.12-05.32.06_MD590_2_0140_cropped.png"
     ]
    },
    {
     "name": "stderr",
     "output_type": "stream",
     "text": [
      " 0\n",
      "Child returned 0\n",
      "1.84 seconds.\n",
      "locate patches: 1.87 seconds\n",
      "41380 samples.\n",
      "load image: 1.52 seconds\n",
      "extract patches: 15.51 seconds\n",
      "predict: 106.45 seconds\n"
     ]
    },
    {
     "name": "stdout",
     "output_type": "stream",
     "text": [
      "\n",
      "aws s3 cp /media/yuncong/BstemAtlasData/CSHL_patch_features/inception-bn-blue/MD590/MD590-N27-2015.08.03-18.47.02_MD590_1_0081_lossless_alignedTo_MD590-N47-2015.09.12-05.32.06_MD590_2_0140_cropped/MD590-N27-2015.08.03-18.47.02_MD590_1_0081_lossless_alignedTo_MD590-N47-2015.09.12-05.32.06_MD590_2_0140_cropped_features.hdf s3://mousebrainatlas-data/CSHL_patch_features/inception-bn-blue/MD590/MD590-N27-2015.08.03-18.47.02_MD590_1_0081_lossless_alignedTo_MD590-N47-2015.09.12-05.32.06_MD590_2_0140_cropped/MD590-N27-2015.08.03-18.47.02_MD590_1_0081_lossless_alignedTo_MD590-N47-2015.09.12-05.32.06_MD590_2_0140_cropped_features.hdf\n",
      "aws s3 cp /media/yuncong/BstemAtlasData/CSHL_patch_features/inception-bn-blue/MD590/MD590-N27-2015.08.03-18.47.02_MD590_1_0081_lossless_alignedTo_MD590-N47-2015.09.12-05.32.06_MD590_2_0140_cropped/MD590-N27-2015.08.03-18.47.02_MD590_1_0081_lossless_alignedTo_MD590-N47-2015.09.12-05.32.06_MD590_2_0140_cropped_patch_locations.txt s3://mousebrainatlas-data/CSHL_patch_features/inception-bn-blue/MD590/MD590-N27-2015.08.03-18.47.02_MD590_1_0081_lossless_alignedTo_MD590-N47-2015.09.12-05.32.06_MD590_2_0140_cropped/MD590-N27-2015.08.03-18.47.02_MD590_1_0081_lossless_alignedTo_MD590-N47-2015.09.12-05.32.06_MD590_2_0140_cropped_patch_locations.txt"
     ]
    },
    {
     "name": "stderr",
     "output_type": "stream",
     "text": [
      "Child returned 0\n",
      "2.81 seconds.\n",
      "Child returned"
     ]
    },
    {
     "name": "stdout",
     "output_type": "stream",
     "text": [
      "\n",
      "rm -rf /media/yuncong/BstemAtlasData/CSHL_data_processed/MD590/MD590_masks_alignedTo_MD590-N47-2015.09.12-05.32.06_MD590_2_0140_cropped/MD590-N28-2015.09.12-05.21.18_MD590_1_0082_mask_alignedTo_MD590-N47-2015.09.12-05.32.06_MD590_2_0140_cropped.png && mkdir -p /media/yuncong/BstemAtlasData/CSHL_data_processed/MD590/MD590_masks_alignedTo_MD590-N47-2015.09.12-05.32.06_MD590_2_0140_cropped"
     ]
    },
    {
     "name": "stderr",
     "output_type": "stream",
     "text": [
      " 0\n",
      "1.37 seconds.\n",
      "save: 6.27 seconds\n",
      "\n",
      "Section 142.\n",
      "Child returned"
     ]
    },
    {
     "name": "stdout",
     "output_type": "stream",
     "text": [
      "\n",
      "aws s3 cp s3://mousebrainatlas-data/CSHL_data_processed/MD590/MD590_masks_alignedTo_MD590-N47-2015.09.12-05.32.06_MD590_2_0140_cropped/MD590-N28-2015.09.12-05.21.18_MD590_1_0082_mask_alignedTo_MD590-N47-2015.09.12-05.32.06_MD590_2_0140_cropped.png /media/yuncong/BstemAtlasData/CSHL_data_processed/MD590/MD590_masks_alignedTo_MD590-N47-2015.09.12-05.32.06_MD590_2_0140_cropped/MD590-N28-2015.09.12-05.21.18_MD590_1_0082_mask_alignedTo_MD590-N47-2015.09.12-05.32.06_MD590_2_0140_cropped.png"
     ]
    },
    {
     "name": "stderr",
     "output_type": "stream",
     "text": [
      " 0\n",
      "Child returned 0\n",
      "1.77 seconds.\n",
      "locate patches: 1.80 seconds\n",
      "41865 samples.\n",
      "load image: 1.51 seconds\n",
      "extract patches: 15.87 seconds\n",
      "predict: 111.47 seconds\n"
     ]
    },
    {
     "name": "stdout",
     "output_type": "stream",
     "text": [
      "\n",
      "aws s3 cp /media/yuncong/BstemAtlasData/CSHL_patch_features/inception-bn-blue/MD590/MD590-N28-2015.09.12-05.21.18_MD590_1_0082_lossless_alignedTo_MD590-N47-2015.09.12-05.32.06_MD590_2_0140_cropped/MD590-N28-2015.09.12-05.21.18_MD590_1_0082_lossless_alignedTo_MD590-N47-2015.09.12-05.32.06_MD590_2_0140_cropped_features.hdf s3://mousebrainatlas-data/CSHL_patch_features/inception-bn-blue/MD590/MD590-N28-2015.09.12-05.21.18_MD590_1_0082_lossless_alignedTo_MD590-N47-2015.09.12-05.32.06_MD590_2_0140_cropped/MD590-N28-2015.09.12-05.21.18_MD590_1_0082_lossless_alignedTo_MD590-N47-2015.09.12-05.32.06_MD590_2_0140_cropped_features.hdf\n",
      "aws s3 cp /media/yuncong/BstemAtlasData/CSHL_patch_features/inception-bn-blue/MD590/MD590-N28-2015.09.12-05.21.18_MD590_1_0082_lossless_alignedTo_MD590-N47-2015.09.12-05.32.06_MD590_2_0140_cropped/MD590-N28-2015.09.12-05.21.18_MD590_1_0082_lossless_alignedTo_MD590-N47-2015.09.12-05.32.06_MD590_2_0140_cropped_patch_locations.txt s3://mousebrainatlas-data/CSHL_patch_features/inception-bn-blue/MD590/MD590-N28-2015.09.12-05.21.18_MD590_1_0082_lossless_alignedTo_MD590-N47-2015.09.12-05.32.06_MD590_2_0140_cropped/MD590-N28-2015.09.12-05.21.18_MD590_1_0082_lossless_alignedTo_MD590-N47-2015.09.12-05.32.06_MD590_2_0140_cropped_patch_locations.txt"
     ]
    },
    {
     "name": "stderr",
     "output_type": "stream",
     "text": [
      "Child returned 0\n",
      "2.55 seconds.\n",
      "Child returned"
     ]
    },
    {
     "name": "stdout",
     "output_type": "stream",
     "text": [
      "\n",
      "rm -rf /media/yuncong/BstemAtlasData/CSHL_data_processed/MD590/MD590_masks_alignedTo_MD590-N47-2015.09.12-05.32.06_MD590_2_0140_cropped/MD590-IHC28-2015.08.10-19.51.53_MD590_3_0082_mask_alignedTo_MD590-N47-2015.09.12-05.32.06_MD590_2_0140_cropped.png && mkdir -p /media/yuncong/BstemAtlasData/CSHL_data_processed/MD590/MD590_masks_alignedTo_MD590-N47-2015.09.12-05.32.06_MD590_2_0140_cropped"
     ]
    },
    {
     "name": "stderr",
     "output_type": "stream",
     "text": [
      " 0\n",
      "1.45 seconds.\n",
      "save: 6.07 seconds\n",
      "\n",
      "Section 143.\n",
      "Child returned"
     ]
    },
    {
     "name": "stdout",
     "output_type": "stream",
     "text": [
      "\n",
      "aws s3 cp s3://mousebrainatlas-data/CSHL_data_processed/MD590/MD590_masks_alignedTo_MD590-N47-2015.09.12-05.32.06_MD590_2_0140_cropped/MD590-IHC28-2015.08.10-19.51.53_MD590_3_0082_mask_alignedTo_MD590-N47-2015.09.12-05.32.06_MD590_2_0140_cropped.png /media/yuncong/BstemAtlasData/CSHL_data_processed/MD590/MD590_masks_alignedTo_MD590-N47-2015.09.12-05.32.06_MD590_2_0140_cropped/MD590-IHC28-2015.08.10-19.51.53_MD590_3_0082_mask_alignedTo_MD590-N47-2015.09.12-05.32.06_MD590_2_0140_cropped.png"
     ]
    },
    {
     "name": "stderr",
     "output_type": "stream",
     "text": [
      " 0\n",
      "Child returned 0\n",
      "1.88 seconds.\n",
      "locate patches: 1.91 seconds\n",
      "42031 samples.\n",
      "load image: 1.50 seconds\n",
      "extract patches: 15.83 seconds\n",
      "predict: 108.58 seconds\n"
     ]
    },
    {
     "name": "stdout",
     "output_type": "stream",
     "text": [
      "\n",
      "aws s3 cp /media/yuncong/BstemAtlasData/CSHL_patch_features/inception-bn-blue/MD590/MD590-IHC28-2015.08.10-19.51.53_MD590_3_0082_lossless_alignedTo_MD590-N47-2015.09.12-05.32.06_MD590_2_0140_cropped/MD590-IHC28-2015.08.10-19.51.53_MD590_3_0082_lossless_alignedTo_MD590-N47-2015.09.12-05.32.06_MD590_2_0140_cropped_features.hdf s3://mousebrainatlas-data/CSHL_patch_features/inception-bn-blue/MD590/MD590-IHC28-2015.08.10-19.51.53_MD590_3_0082_lossless_alignedTo_MD590-N47-2015.09.12-05.32.06_MD590_2_0140_cropped/MD590-IHC28-2015.08.10-19.51.53_MD590_3_0082_lossless_alignedTo_MD590-N47-2015.09.12-05.32.06_MD590_2_0140_cropped_features.hdf\n",
      "aws s3 cp /media/yuncong/BstemAtlasData/CSHL_patch_features/inception-bn-blue/MD590/MD590-IHC28-2015.08.10-19.51.53_MD590_3_0082_lossless_alignedTo_MD590-N47-2015.09.12-05.32.06_MD590_2_0140_cropped/MD590-IHC28-2015.08.10-19.51.53_MD590_3_0082_lossless_alignedTo_MD590-N47-2015.09.12-05.32.06_MD590_2_0140_cropped_patch_locations.txt s3://mousebrainatlas-data/CSHL_patch_features/inception-bn-blue/MD590/MD590-IHC28-2015.08.10-19.51.53_MD590_3_0082_lossless_alignedTo_MD590-N47-2015.09.12-05.32.06_MD590_2_0140_cropped/MD590-IHC28-2015.08.10-19.51.53_MD590_3_0082_lossless_alignedTo_MD590-N47-2015.09.12-05.32.06_MD590_2_0140_cropped_patch_locations.txt"
     ]
    },
    {
     "name": "stderr",
     "output_type": "stream",
     "text": [
      "Child returned 0\n",
      "2.59 seconds.\n",
      "Child returned"
     ]
    },
    {
     "name": "stdout",
     "output_type": "stream",
     "text": [
      "\n",
      "rm -rf /media/yuncong/BstemAtlasData/CSHL_data_processed/MD590/MD590_masks_alignedTo_MD590-N47-2015.09.12-05.32.06_MD590_2_0140_cropped/MD590-N28-2015.09.12-05.21.18_MD590_2_0083_mask_alignedTo_MD590-N47-2015.09.12-05.32.06_MD590_2_0140_cropped.png && mkdir -p /media/yuncong/BstemAtlasData/CSHL_data_processed/MD590/MD590_masks_alignedTo_MD590-N47-2015.09.12-05.32.06_MD590_2_0140_cropped"
     ]
    },
    {
     "name": "stderr",
     "output_type": "stream",
     "text": [
      " 0\n",
      "1.38 seconds.\n",
      "save: 6.12 seconds\n",
      "\n",
      "Section 144.\n",
      "Child returned"
     ]
    },
    {
     "name": "stdout",
     "output_type": "stream",
     "text": [
      "\n",
      "aws s3 cp s3://mousebrainatlas-data/CSHL_data_processed/MD590/MD590_masks_alignedTo_MD590-N47-2015.09.12-05.32.06_MD590_2_0140_cropped/MD590-N28-2015.09.12-05.21.18_MD590_2_0083_mask_alignedTo_MD590-N47-2015.09.12-05.32.06_MD590_2_0140_cropped.png /media/yuncong/BstemAtlasData/CSHL_data_processed/MD590/MD590_masks_alignedTo_MD590-N47-2015.09.12-05.32.06_MD590_2_0140_cropped/MD590-N28-2015.09.12-05.21.18_MD590_2_0083_mask_alignedTo_MD590-N47-2015.09.12-05.32.06_MD590_2_0140_cropped.png"
     ]
    },
    {
     "name": "stderr",
     "output_type": "stream",
     "text": [
      " 0\n",
      "Child returned 0\n",
      "1.83 seconds.\n",
      "locate patches: 1.86 seconds\n",
      "42291 samples.\n",
      "load image: 1.50 seconds\n",
      "extract patches: 16.06 seconds\n",
      "predict: 109.57 seconds\n"
     ]
    },
    {
     "name": "stdout",
     "output_type": "stream",
     "text": [
      "\n",
      "aws s3 cp /media/yuncong/BstemAtlasData/CSHL_patch_features/inception-bn-blue/MD590/MD590-N28-2015.09.12-05.21.18_MD590_2_0083_lossless_alignedTo_MD590-N47-2015.09.12-05.32.06_MD590_2_0140_cropped/MD590-N28-2015.09.12-05.21.18_MD590_2_0083_lossless_alignedTo_MD590-N47-2015.09.12-05.32.06_MD590_2_0140_cropped_features.hdf s3://mousebrainatlas-data/CSHL_patch_features/inception-bn-blue/MD590/MD590-N28-2015.09.12-05.21.18_MD590_2_0083_lossless_alignedTo_MD590-N47-2015.09.12-05.32.06_MD590_2_0140_cropped/MD590-N28-2015.09.12-05.21.18_MD590_2_0083_lossless_alignedTo_MD590-N47-2015.09.12-05.32.06_MD590_2_0140_cropped_features.hdf\n",
      "aws s3 cp /media/yuncong/BstemAtlasData/CSHL_patch_features/inception-bn-blue/MD590/MD590-N28-2015.09.12-05.21.18_MD590_2_0083_lossless_alignedTo_MD590-N47-2015.09.12-05.32.06_MD590_2_0140_cropped/MD590-N28-2015.09.12-05.21.18_MD590_2_0083_lossless_alignedTo_MD590-N47-2015.09.12-05.32.06_MD590_2_0140_cropped_patch_locations.txt s3://mousebrainatlas-data/CSHL_patch_features/inception-bn-blue/MD590/MD590-N28-2015.09.12-05.21.18_MD590_2_0083_lossless_alignedTo_MD590-N47-2015.09.12-05.32.06_MD590_2_0140_cropped/MD590-N28-2015.09.12-05.21.18_MD590_2_0083_lossless_alignedTo_MD590-N47-2015.09.12-05.32.06_MD590_2_0140_cropped_patch_locations.txt"
     ]
    },
    {
     "name": "stderr",
     "output_type": "stream",
     "text": [
      "Child returned 0\n",
      "2.55 seconds.\n",
      "Child returned"
     ]
    },
    {
     "name": "stdout",
     "output_type": "stream",
     "text": [
      "\n",
      "rm -rf /media/yuncong/BstemAtlasData/CSHL_data_processed/MD590/MD590_masks_alignedTo_MD590-N47-2015.09.12-05.32.06_MD590_2_0140_cropped/MD590-IHC28-2015.08.10-19.51.53_MD590_2_0083_mask_alignedTo_MD590-N47-2015.09.12-05.32.06_MD590_2_0140_cropped.png && mkdir -p /media/yuncong/BstemAtlasData/CSHL_data_processed/MD590/MD590_masks_alignedTo_MD590-N47-2015.09.12-05.32.06_MD590_2_0140_cropped"
     ]
    },
    {
     "name": "stderr",
     "output_type": "stream",
     "text": [
      " 0\n",
      "1.35 seconds.\n",
      "save: 5.99 seconds\n",
      "\n",
      "Section 145.\n",
      "Child returned"
     ]
    },
    {
     "name": "stdout",
     "output_type": "stream",
     "text": [
      "\n",
      "aws s3 cp s3://mousebrainatlas-data/CSHL_data_processed/MD590/MD590_masks_alignedTo_MD590-N47-2015.09.12-05.32.06_MD590_2_0140_cropped/MD590-IHC28-2015.08.10-19.51.53_MD590_2_0083_mask_alignedTo_MD590-N47-2015.09.12-05.32.06_MD590_2_0140_cropped.png /media/yuncong/BstemAtlasData/CSHL_data_processed/MD590/MD590_masks_alignedTo_MD590-N47-2015.09.12-05.32.06_MD590_2_0140_cropped/MD590-IHC28-2015.08.10-19.51.53_MD590_2_0083_mask_alignedTo_MD590-N47-2015.09.12-05.32.06_MD590_2_0140_cropped.png"
     ]
    },
    {
     "name": "stderr",
     "output_type": "stream",
     "text": [
      " 0\n",
      "Child returned 0\n",
      "1.80 seconds.\n",
      "locate patches: 1.82 seconds\n",
      "42749 samples.\n",
      "load image: 1.53 seconds\n",
      "extract patches: 16.39 seconds\n",
      "predict: 110.47 seconds\n"
     ]
    },
    {
     "name": "stdout",
     "output_type": "stream",
     "text": [
      "\n",
      "aws s3 cp /media/yuncong/BstemAtlasData/CSHL_patch_features/inception-bn-blue/MD590/MD590-IHC28-2015.08.10-19.51.53_MD590_2_0083_lossless_alignedTo_MD590-N47-2015.09.12-05.32.06_MD590_2_0140_cropped/MD590-IHC28-2015.08.10-19.51.53_MD590_2_0083_lossless_alignedTo_MD590-N47-2015.09.12-05.32.06_MD590_2_0140_cropped_features.hdf s3://mousebrainatlas-data/CSHL_patch_features/inception-bn-blue/MD590/MD590-IHC28-2015.08.10-19.51.53_MD590_2_0083_lossless_alignedTo_MD590-N47-2015.09.12-05.32.06_MD590_2_0140_cropped/MD590-IHC28-2015.08.10-19.51.53_MD590_2_0083_lossless_alignedTo_MD590-N47-2015.09.12-05.32.06_MD590_2_0140_cropped_features.hdf\n",
      "aws s3 cp /media/yuncong/BstemAtlasData/CSHL_patch_features/inception-bn-blue/MD590/MD590-IHC28-2015.08.10-19.51.53_MD590_2_0083_lossless_alignedTo_MD590-N47-2015.09.12-05.32.06_MD590_2_0140_cropped/MD590-IHC28-2015.08.10-19.51.53_MD590_2_0083_lossless_alignedTo_MD590-N47-2015.09.12-05.32.06_MD590_2_0140_cropped_patch_locations.txt s3://mousebrainatlas-data/CSHL_patch_features/inception-bn-blue/MD590/MD590-IHC28-2015.08.10-19.51.53_MD590_2_0083_lossless_alignedTo_MD590-N47-2015.09.12-05.32.06_MD590_2_0140_cropped/MD590-IHC28-2015.08.10-19.51.53_MD590_2_0083_lossless_alignedTo_MD590-N47-2015.09.12-05.32.06_MD590_2_0140_cropped_patch_locations.txt"
     ]
    },
    {
     "name": "stderr",
     "output_type": "stream",
     "text": [
      "Child returned 0\n",
      "2.48 seconds.\n",
      "Child returned"
     ]
    },
    {
     "name": "stdout",
     "output_type": "stream",
     "text": [
      "\n",
      "rm -rf /media/yuncong/BstemAtlasData/CSHL_data_processed/MD590/MD590_masks_alignedTo_MD590-N47-2015.09.12-05.32.06_MD590_2_0140_cropped/MD590-N28-2015.09.12-05.21.18_MD590_3_0084_mask_alignedTo_MD590-N47-2015.09.12-05.32.06_MD590_2_0140_cropped.png && mkdir -p /media/yuncong/BstemAtlasData/CSHL_data_processed/MD590/MD590_masks_alignedTo_MD590-N47-2015.09.12-05.32.06_MD590_2_0140_cropped"
     ]
    },
    {
     "name": "stderr",
     "output_type": "stream",
     "text": [
      " 0\n",
      "1.28 seconds.\n",
      "save: 5.93 seconds\n",
      "\n",
      "Section 146.\n",
      "Child returned"
     ]
    },
    {
     "name": "stdout",
     "output_type": "stream",
     "text": [
      "\n",
      "aws s3 cp s3://mousebrainatlas-data/CSHL_data_processed/MD590/MD590_masks_alignedTo_MD590-N47-2015.09.12-05.32.06_MD590_2_0140_cropped/MD590-N28-2015.09.12-05.21.18_MD590_3_0084_mask_alignedTo_MD590-N47-2015.09.12-05.32.06_MD590_2_0140_cropped.png /media/yuncong/BstemAtlasData/CSHL_data_processed/MD590/MD590_masks_alignedTo_MD590-N47-2015.09.12-05.32.06_MD590_2_0140_cropped/MD590-N28-2015.09.12-05.21.18_MD590_3_0084_mask_alignedTo_MD590-N47-2015.09.12-05.32.06_MD590_2_0140_cropped.png"
     ]
    },
    {
     "name": "stderr",
     "output_type": "stream",
     "text": [
      " 0\n",
      "Child returned 0\n",
      "1.80 seconds.\n",
      "locate patches: 1.82 seconds\n",
      "43141 samples.\n",
      "load image: 1.54 seconds\n",
      "extract patches: 16.59 seconds\n",
      "predict: 111.19 seconds\n"
     ]
    },
    {
     "name": "stdout",
     "output_type": "stream",
     "text": [
      "\n",
      "aws s3 cp /media/yuncong/BstemAtlasData/CSHL_patch_features/inception-bn-blue/MD590/MD590-N28-2015.09.12-05.21.18_MD590_3_0084_lossless_alignedTo_MD590-N47-2015.09.12-05.32.06_MD590_2_0140_cropped/MD590-N28-2015.09.12-05.21.18_MD590_3_0084_lossless_alignedTo_MD590-N47-2015.09.12-05.32.06_MD590_2_0140_cropped_features.hdf s3://mousebrainatlas-data/CSHL_patch_features/inception-bn-blue/MD590/MD590-N28-2015.09.12-05.21.18_MD590_3_0084_lossless_alignedTo_MD590-N47-2015.09.12-05.32.06_MD590_2_0140_cropped/MD590-N28-2015.09.12-05.21.18_MD590_3_0084_lossless_alignedTo_MD590-N47-2015.09.12-05.32.06_MD590_2_0140_cropped_features.hdf\n",
      "aws s3 cp /media/yuncong/BstemAtlasData/CSHL_patch_features/inception-bn-blue/MD590/MD590-N28-2015.09.12-05.21.18_MD590_3_0084_lossless_alignedTo_MD590-N47-2015.09.12-05.32.06_MD590_2_0140_cropped/MD590-N28-2015.09.12-05.21.18_MD590_3_0084_lossless_alignedTo_MD590-N47-2015.09.12-05.32.06_MD590_2_0140_cropped_patch_locations.txt s3://mousebrainatlas-data/CSHL_patch_features/inception-bn-blue/MD590/MD590-N28-2015.09.12-05.21.18_MD590_3_0084_lossless_alignedTo_MD590-N47-2015.09.12-05.32.06_MD590_2_0140_cropped/MD590-N28-2015.09.12-05.21.18_MD590_3_0084_lossless_alignedTo_MD590-N47-2015.09.12-05.32.06_MD590_2_0140_cropped_patch_locations.txt"
     ]
    },
    {
     "name": "stderr",
     "output_type": "stream",
     "text": [
      "Child returned 0\n",
      "2.78 seconds.\n",
      "Child returned"
     ]
    },
    {
     "name": "stdout",
     "output_type": "stream",
     "text": [
      "\n",
      "rm -rf /media/yuncong/BstemAtlasData/CSHL_data_processed/MD590/MD590_masks_alignedTo_MD590-N47-2015.09.12-05.32.06_MD590_2_0140_cropped/MD590-IHC28-2015.08.10-19.51.53_MD590_1_0084_mask_alignedTo_MD590-N47-2015.09.12-05.32.06_MD590_2_0140_cropped.png && mkdir -p /media/yuncong/BstemAtlasData/CSHL_data_processed/MD590/MD590_masks_alignedTo_MD590-N47-2015.09.12-05.32.06_MD590_2_0140_cropped"
     ]
    },
    {
     "name": "stderr",
     "output_type": "stream",
     "text": [
      " 0\n",
      "1.36 seconds.\n",
      "save: 6.29 seconds\n",
      "\n",
      "Section 147.\n",
      "Child returned"
     ]
    },
    {
     "name": "stdout",
     "output_type": "stream",
     "text": [
      "\n",
      "aws s3 cp s3://mousebrainatlas-data/CSHL_data_processed/MD590/MD590_masks_alignedTo_MD590-N47-2015.09.12-05.32.06_MD590_2_0140_cropped/MD590-IHC28-2015.08.10-19.51.53_MD590_1_0084_mask_alignedTo_MD590-N47-2015.09.12-05.32.06_MD590_2_0140_cropped.png /media/yuncong/BstemAtlasData/CSHL_data_processed/MD590/MD590_masks_alignedTo_MD590-N47-2015.09.12-05.32.06_MD590_2_0140_cropped/MD590-IHC28-2015.08.10-19.51.53_MD590_1_0084_mask_alignedTo_MD590-N47-2015.09.12-05.32.06_MD590_2_0140_cropped.png"
     ]
    },
    {
     "name": "stderr",
     "output_type": "stream",
     "text": [
      " 0\n",
      "Child returned 0\n",
      "1.79 seconds.\n",
      "locate patches: 1.82 seconds\n",
      "43324 samples.\n",
      "load image: 1.45 seconds\n",
      "extract patches: 16.68 seconds\n",
      "predict: 112.86 seconds\n"
     ]
    },
    {
     "name": "stdout",
     "output_type": "stream",
     "text": [
      "\n",
      "aws s3 cp /media/yuncong/BstemAtlasData/CSHL_patch_features/inception-bn-blue/MD590/MD590-IHC28-2015.08.10-19.51.53_MD590_1_0084_lossless_alignedTo_MD590-N47-2015.09.12-05.32.06_MD590_2_0140_cropped/MD590-IHC28-2015.08.10-19.51.53_MD590_1_0084_lossless_alignedTo_MD590-N47-2015.09.12-05.32.06_MD590_2_0140_cropped_features.hdf s3://mousebrainatlas-data/CSHL_patch_features/inception-bn-blue/MD590/MD590-IHC28-2015.08.10-19.51.53_MD590_1_0084_lossless_alignedTo_MD590-N47-2015.09.12-05.32.06_MD590_2_0140_cropped/MD590-IHC28-2015.08.10-19.51.53_MD590_1_0084_lossless_alignedTo_MD590-N47-2015.09.12-05.32.06_MD590_2_0140_cropped_features.hdf\n",
      "aws s3 cp /media/yuncong/BstemAtlasData/CSHL_patch_features/inception-bn-blue/MD590/MD590-IHC28-2015.08.10-19.51.53_MD590_1_0084_lossless_alignedTo_MD590-N47-2015.09.12-05.32.06_MD590_2_0140_cropped/MD590-IHC28-2015.08.10-19.51.53_MD590_1_0084_lossless_alignedTo_MD590-N47-2015.09.12-05.32.06_MD590_2_0140_cropped_patch_locations.txt s3://mousebrainatlas-data/CSHL_patch_features/inception-bn-blue/MD590/MD590-IHC28-2015.08.10-19.51.53_MD590_1_0084_lossless_alignedTo_MD590-N47-2015.09.12-05.32.06_MD590_2_0140_cropped/MD590-IHC28-2015.08.10-19.51.53_MD590_1_0084_lossless_alignedTo_MD590-N47-2015.09.12-05.32.06_MD590_2_0140_cropped_patch_locations.txt"
     ]
    },
    {
     "name": "stderr",
     "output_type": "stream",
     "text": [
      "Child returned 0\n",
      "2.85 seconds.\n",
      "Child returned"
     ]
    },
    {
     "name": "stdout",
     "output_type": "stream",
     "text": [
      "\n",
      "rm -rf /media/yuncong/BstemAtlasData/CSHL_data_processed/MD590/MD590_masks_alignedTo_MD590-N47-2015.09.12-05.32.06_MD590_2_0140_cropped/MD590-N29-2015.08.03-18.55.57_MD590_3_0085_mask_alignedTo_MD590-N47-2015.09.12-05.32.06_MD590_2_0140_cropped.png && mkdir -p /media/yuncong/BstemAtlasData/CSHL_data_processed/MD590/MD590_masks_alignedTo_MD590-N47-2015.09.12-05.32.06_MD590_2_0140_cropped"
     ]
    },
    {
     "name": "stderr",
     "output_type": "stream",
     "text": [
      " 0\n",
      "1.36 seconds.\n",
      "save: 6.38 seconds\n",
      "\n",
      "Section 148.\n",
      "Child returned"
     ]
    },
    {
     "name": "stdout",
     "output_type": "stream",
     "text": [
      "\n",
      "aws s3 cp s3://mousebrainatlas-data/CSHL_data_processed/MD590/MD590_masks_alignedTo_MD590-N47-2015.09.12-05.32.06_MD590_2_0140_cropped/MD590-N29-2015.08.03-18.55.57_MD590_3_0085_mask_alignedTo_MD590-N47-2015.09.12-05.32.06_MD590_2_0140_cropped.png /media/yuncong/BstemAtlasData/CSHL_data_processed/MD590/MD590_masks_alignedTo_MD590-N47-2015.09.12-05.32.06_MD590_2_0140_cropped/MD590-N29-2015.08.03-18.55.57_MD590_3_0085_mask_alignedTo_MD590-N47-2015.09.12-05.32.06_MD590_2_0140_cropped.png"
     ]
    },
    {
     "name": "stderr",
     "output_type": "stream",
     "text": [
      " 0\n",
      "Child returned 0\n",
      "1.77 seconds.\n",
      "locate patches: 1.80 seconds\n",
      "43054 samples.\n",
      "load image: 1.50 seconds\n",
      "extract patches: 16.39 seconds\n",
      "predict: 112.37 seconds\n"
     ]
    },
    {
     "name": "stdout",
     "output_type": "stream",
     "text": [
      "\n",
      "aws s3 cp /media/yuncong/BstemAtlasData/CSHL_patch_features/inception-bn-blue/MD590/MD590-N29-2015.08.03-18.55.57_MD590_3_0085_lossless_alignedTo_MD590-N47-2015.09.12-05.32.06_MD590_2_0140_cropped/MD590-N29-2015.08.03-18.55.57_MD590_3_0085_lossless_alignedTo_MD590-N47-2015.09.12-05.32.06_MD590_2_0140_cropped_features.hdf s3://mousebrainatlas-data/CSHL_patch_features/inception-bn-blue/MD590/MD590-N29-2015.08.03-18.55.57_MD590_3_0085_lossless_alignedTo_MD590-N47-2015.09.12-05.32.06_MD590_2_0140_cropped/MD590-N29-2015.08.03-18.55.57_MD590_3_0085_lossless_alignedTo_MD590-N47-2015.09.12-05.32.06_MD590_2_0140_cropped_features.hdf\n",
      "aws s3 cp /media/yuncong/BstemAtlasData/CSHL_patch_features/inception-bn-blue/MD590/MD590-N29-2015.08.03-18.55.57_MD590_3_0085_lossless_alignedTo_MD590-N47-2015.09.12-05.32.06_MD590_2_0140_cropped/MD590-N29-2015.08.03-18.55.57_MD590_3_0085_lossless_alignedTo_MD590-N47-2015.09.12-05.32.06_MD590_2_0140_cropped_patch_locations.txt s3://mousebrainatlas-data/CSHL_patch_features/inception-bn-blue/MD590/MD590-N29-2015.08.03-18.55.57_MD590_3_0085_lossless_alignedTo_MD590-N47-2015.09.12-05.32.06_MD590_2_0140_cropped/MD590-N29-2015.08.03-18.55.57_MD590_3_0085_lossless_alignedTo_MD590-N47-2015.09.12-05.32.06_MD590_2_0140_cropped_patch_locations.txt"
     ]
    },
    {
     "name": "stderr",
     "output_type": "stream",
     "text": [
      "Child returned 0\n",
      "26.48 seconds.\n",
      "Child returned"
     ]
    },
    {
     "name": "stdout",
     "output_type": "stream",
     "text": [
      "\n",
      "rm -rf /media/yuncong/BstemAtlasData/CSHL_data_processed/MD590/MD590_masks_alignedTo_MD590-N47-2015.09.12-05.32.06_MD590_2_0140_cropped/MD590-IHC29-2015.08.10-19.56.34_MD590_3_0085_mask_alignedTo_MD590-N47-2015.09.12-05.32.06_MD590_2_0140_cropped.png && mkdir -p /media/yuncong/BstemAtlasData/CSHL_data_processed/MD590/MD590_masks_alignedTo_MD590-N47-2015.09.12-05.32.06_MD590_2_0140_cropped"
     ]
    },
    {
     "name": "stderr",
     "output_type": "stream",
     "text": [
      " 0\n",
      "1.31 seconds.\n",
      "save: 29.94 seconds\n",
      "\n",
      "Section 149.\n",
      "Child returned"
     ]
    },
    {
     "name": "stdout",
     "output_type": "stream",
     "text": [
      "\n",
      "aws s3 cp s3://mousebrainatlas-data/CSHL_data_processed/MD590/MD590_masks_alignedTo_MD590-N47-2015.09.12-05.32.06_MD590_2_0140_cropped/MD590-IHC29-2015.08.10-19.56.34_MD590_3_0085_mask_alignedTo_MD590-N47-2015.09.12-05.32.06_MD590_2_0140_cropped.png /media/yuncong/BstemAtlasData/CSHL_data_processed/MD590/MD590_masks_alignedTo_MD590-N47-2015.09.12-05.32.06_MD590_2_0140_cropped/MD590-IHC29-2015.08.10-19.56.34_MD590_3_0085_mask_alignedTo_MD590-N47-2015.09.12-05.32.06_MD590_2_0140_cropped.png"
     ]
    },
    {
     "name": "stderr",
     "output_type": "stream",
     "text": [
      " 0\n",
      "Child returned 0\n",
      "1.92 seconds.\n",
      "locate patches: 1.94 seconds\n",
      "43705 samples.\n",
      "load image: 1.47 seconds\n",
      "extract patches: 17.24 seconds\n",
      "predict: 114.16 seconds\n"
     ]
    },
    {
     "name": "stdout",
     "output_type": "stream",
     "text": [
      "\n",
      "aws s3 cp /media/yuncong/BstemAtlasData/CSHL_patch_features/inception-bn-blue/MD590/MD590-IHC29-2015.08.10-19.56.34_MD590_3_0085_lossless_alignedTo_MD590-N47-2015.09.12-05.32.06_MD590_2_0140_cropped/MD590-IHC29-2015.08.10-19.56.34_MD590_3_0085_lossless_alignedTo_MD590-N47-2015.09.12-05.32.06_MD590_2_0140_cropped_features.hdf s3://mousebrainatlas-data/CSHL_patch_features/inception-bn-blue/MD590/MD590-IHC29-2015.08.10-19.56.34_MD590_3_0085_lossless_alignedTo_MD590-N47-2015.09.12-05.32.06_MD590_2_0140_cropped/MD590-IHC29-2015.08.10-19.56.34_MD590_3_0085_lossless_alignedTo_MD590-N47-2015.09.12-05.32.06_MD590_2_0140_cropped_features.hdf\n",
      "aws s3 cp /media/yuncong/BstemAtlasData/CSHL_patch_features/inception-bn-blue/MD590/MD590-IHC29-2015.08.10-19.56.34_MD590_3_0085_lossless_alignedTo_MD590-N47-2015.09.12-05.32.06_MD590_2_0140_cropped/MD590-IHC29-2015.08.10-19.56.34_MD590_3_0085_lossless_alignedTo_MD590-N47-2015.09.12-05.32.06_MD590_2_0140_cropped_patch_locations.txt s3://mousebrainatlas-data/CSHL_patch_features/inception-bn-blue/MD590/MD590-IHC29-2015.08.10-19.56.34_MD590_3_0085_lossless_alignedTo_MD590-N47-2015.09.12-05.32.06_MD590_2_0140_cropped/MD590-IHC29-2015.08.10-19.56.34_MD590_3_0085_lossless_alignedTo_MD590-N47-2015.09.12-05.32.06_MD590_2_0140_cropped_patch_locations.txt"
     ]
    },
    {
     "name": "stderr",
     "output_type": "stream",
     "text": [
      "Child returned 0\n",
      "2.62 seconds.\n",
      "Child returned"
     ]
    },
    {
     "name": "stdout",
     "output_type": "stream",
     "text": [
      "\n",
      "rm -rf /media/yuncong/BstemAtlasData/CSHL_data_processed/MD590/MD590_masks_alignedTo_MD590-N47-2015.09.12-05.32.06_MD590_2_0140_cropped/MD590-N29-2015.08.03-18.55.57_MD590_2_0086_mask_alignedTo_MD590-N47-2015.09.12-05.32.06_MD590_2_0140_cropped.png && mkdir -p /media/yuncong/BstemAtlasData/CSHL_data_processed/MD590/MD590_masks_alignedTo_MD590-N47-2015.09.12-05.32.06_MD590_2_0140_cropped"
     ]
    },
    {
     "name": "stderr",
     "output_type": "stream",
     "text": [
      " 0\n",
      "1.41 seconds.\n",
      "save: 6.22 seconds\n",
      "\n",
      "Section 150.\n",
      "Child returned"
     ]
    },
    {
     "name": "stdout",
     "output_type": "stream",
     "text": [
      "\n",
      "aws s3 cp s3://mousebrainatlas-data/CSHL_data_processed/MD590/MD590_masks_alignedTo_MD590-N47-2015.09.12-05.32.06_MD590_2_0140_cropped/MD590-N29-2015.08.03-18.55.57_MD590_2_0086_mask_alignedTo_MD590-N47-2015.09.12-05.32.06_MD590_2_0140_cropped.png /media/yuncong/BstemAtlasData/CSHL_data_processed/MD590/MD590_masks_alignedTo_MD590-N47-2015.09.12-05.32.06_MD590_2_0140_cropped/MD590-N29-2015.08.03-18.55.57_MD590_2_0086_mask_alignedTo_MD590-N47-2015.09.12-05.32.06_MD590_2_0140_cropped.png"
     ]
    },
    {
     "name": "stderr",
     "output_type": "stream",
     "text": [
      " 0\n",
      "Child returned 0\n",
      "1.85 seconds.\n",
      "locate patches: 1.87 seconds\n",
      "44809 samples.\n",
      "load image: 1.52 seconds\n",
      "extract patches: 17.73 seconds\n",
      "predict: 117.21 seconds\n"
     ]
    },
    {
     "name": "stdout",
     "output_type": "stream",
     "text": [
      "\n",
      "aws s3 cp /media/yuncong/BstemAtlasData/CSHL_patch_features/inception-bn-blue/MD590/MD590-N29-2015.08.03-18.55.57_MD590_2_0086_lossless_alignedTo_MD590-N47-2015.09.12-05.32.06_MD590_2_0140_cropped/MD590-N29-2015.08.03-18.55.57_MD590_2_0086_lossless_alignedTo_MD590-N47-2015.09.12-05.32.06_MD590_2_0140_cropped_features.hdf s3://mousebrainatlas-data/CSHL_patch_features/inception-bn-blue/MD590/MD590-N29-2015.08.03-18.55.57_MD590_2_0086_lossless_alignedTo_MD590-N47-2015.09.12-05.32.06_MD590_2_0140_cropped/MD590-N29-2015.08.03-18.55.57_MD590_2_0086_lossless_alignedTo_MD590-N47-2015.09.12-05.32.06_MD590_2_0140_cropped_features.hdf\n",
      "aws s3 cp /media/yuncong/BstemAtlasData/CSHL_patch_features/inception-bn-blue/MD590/MD590-N29-2015.08.03-18.55.57_MD590_2_0086_lossless_alignedTo_MD590-N47-2015.09.12-05.32.06_MD590_2_0140_cropped/MD590-N29-2015.08.03-18.55.57_MD590_2_0086_lossless_alignedTo_MD590-N47-2015.09.12-05.32.06_MD590_2_0140_cropped_patch_locations.txt s3://mousebrainatlas-data/CSHL_patch_features/inception-bn-blue/MD590/MD590-N29-2015.08.03-18.55.57_MD590_2_0086_lossless_alignedTo_MD590-N47-2015.09.12-05.32.06_MD590_2_0140_cropped/MD590-N29-2015.08.03-18.55.57_MD590_2_0086_lossless_alignedTo_MD590-N47-2015.09.12-05.32.06_MD590_2_0140_cropped_patch_locations.txt"
     ]
    },
    {
     "name": "stderr",
     "output_type": "stream",
     "text": [
      "Child returned 0\n",
      "2.69 seconds.\n",
      "Child returned"
     ]
    },
    {
     "name": "stdout",
     "output_type": "stream",
     "text": [
      "\n",
      "rm -rf /media/yuncong/BstemAtlasData/CSHL_data_processed/MD590/MD590_masks_alignedTo_MD590-N47-2015.09.12-05.32.06_MD590_2_0140_cropped/MD590-IHC29-2015.08.10-19.56.34_MD590_2_0086_mask_alignedTo_MD590-N47-2015.09.12-05.32.06_MD590_2_0140_cropped.png && mkdir -p /media/yuncong/BstemAtlasData/CSHL_data_processed/MD590/MD590_masks_alignedTo_MD590-N47-2015.09.12-05.32.06_MD590_2_0140_cropped"
     ]
    },
    {
     "name": "stderr",
     "output_type": "stream",
     "text": [
      " 0\n",
      "1.37 seconds.\n",
      "save: 6.31 seconds\n",
      "\n",
      "Section 151.\n",
      "Child returned"
     ]
    },
    {
     "name": "stdout",
     "output_type": "stream",
     "text": [
      "\n",
      "aws s3 cp s3://mousebrainatlas-data/CSHL_data_processed/MD590/MD590_masks_alignedTo_MD590-N47-2015.09.12-05.32.06_MD590_2_0140_cropped/MD590-IHC29-2015.08.10-19.56.34_MD590_2_0086_mask_alignedTo_MD590-N47-2015.09.12-05.32.06_MD590_2_0140_cropped.png /media/yuncong/BstemAtlasData/CSHL_data_processed/MD590/MD590_masks_alignedTo_MD590-N47-2015.09.12-05.32.06_MD590_2_0140_cropped/MD590-IHC29-2015.08.10-19.56.34_MD590_2_0086_mask_alignedTo_MD590-N47-2015.09.12-05.32.06_MD590_2_0140_cropped.png"
     ]
    },
    {
     "name": "stderr",
     "output_type": "stream",
     "text": [
      " 0\n",
      "Child returned 0\n",
      "1.90 seconds.\n",
      "locate patches: 1.93 seconds\n",
      "44210 samples.\n",
      "load image: 1.58 seconds\n",
      "extract patches: 17.27 seconds\n",
      "predict: 114.47 seconds\n"
     ]
    },
    {
     "name": "stdout",
     "output_type": "stream",
     "text": [
      "\n",
      "aws s3 cp /media/yuncong/BstemAtlasData/CSHL_patch_features/inception-bn-blue/MD590/MD590-IHC29-2015.08.10-19.56.34_MD590_2_0086_lossless_alignedTo_MD590-N47-2015.09.12-05.32.06_MD590_2_0140_cropped/MD590-IHC29-2015.08.10-19.56.34_MD590_2_0086_lossless_alignedTo_MD590-N47-2015.09.12-05.32.06_MD590_2_0140_cropped_features.hdf s3://mousebrainatlas-data/CSHL_patch_features/inception-bn-blue/MD590/MD590-IHC29-2015.08.10-19.56.34_MD590_2_0086_lossless_alignedTo_MD590-N47-2015.09.12-05.32.06_MD590_2_0140_cropped/MD590-IHC29-2015.08.10-19.56.34_MD590_2_0086_lossless_alignedTo_MD590-N47-2015.09.12-05.32.06_MD590_2_0140_cropped_features.hdf\n",
      "aws s3 cp /media/yuncong/BstemAtlasData/CSHL_patch_features/inception-bn-blue/MD590/MD590-IHC29-2015.08.10-19.56.34_MD590_2_0086_lossless_alignedTo_MD590-N47-2015.09.12-05.32.06_MD590_2_0140_cropped/MD590-IHC29-2015.08.10-19.56.34_MD590_2_0086_lossless_alignedTo_MD590-N47-2015.09.12-05.32.06_MD590_2_0140_cropped_patch_locations.txt s3://mousebrainatlas-data/CSHL_patch_features/inception-bn-blue/MD590/MD590-IHC29-2015.08.10-19.56.34_MD590_2_0086_lossless_alignedTo_MD590-N47-2015.09.12-05.32.06_MD590_2_0140_cropped/MD590-IHC29-2015.08.10-19.56.34_MD590_2_0086_lossless_alignedTo_MD590-N47-2015.09.12-05.32.06_MD590_2_0140_cropped_patch_locations.txt"
     ]
    },
    {
     "name": "stderr",
     "output_type": "stream",
     "text": [
      "Child returned 0\n",
      "2.63 seconds.\n",
      "Child returned"
     ]
    },
    {
     "name": "stdout",
     "output_type": "stream",
     "text": [
      "\n",
      "rm -rf /media/yuncong/BstemAtlasData/CSHL_data_processed/MD590/MD590_masks_alignedTo_MD590-N47-2015.09.12-05.32.06_MD590_2_0140_cropped/MD590-N29-2015.08.03-18.55.57_MD590_1_0087_mask_alignedTo_MD590-N47-2015.09.12-05.32.06_MD590_2_0140_cropped.png && mkdir -p /media/yuncong/BstemAtlasData/CSHL_data_processed/MD590/MD590_masks_alignedTo_MD590-N47-2015.09.12-05.32.06_MD590_2_0140_cropped"
     ]
    },
    {
     "name": "stderr",
     "output_type": "stream",
     "text": [
      " 0\n",
      "1.39 seconds.\n",
      "save: 6.31 seconds\n",
      "\n",
      "Section 152.\n",
      "Child returned"
     ]
    },
    {
     "name": "stdout",
     "output_type": "stream",
     "text": [
      "\n",
      "aws s3 cp s3://mousebrainatlas-data/CSHL_data_processed/MD590/MD590_masks_alignedTo_MD590-N47-2015.09.12-05.32.06_MD590_2_0140_cropped/MD590-N29-2015.08.03-18.55.57_MD590_1_0087_mask_alignedTo_MD590-N47-2015.09.12-05.32.06_MD590_2_0140_cropped.png /media/yuncong/BstemAtlasData/CSHL_data_processed/MD590/MD590_masks_alignedTo_MD590-N47-2015.09.12-05.32.06_MD590_2_0140_cropped/MD590-N29-2015.08.03-18.55.57_MD590_1_0087_mask_alignedTo_MD590-N47-2015.09.12-05.32.06_MD590_2_0140_cropped.png"
     ]
    },
    {
     "name": "stderr",
     "output_type": "stream",
     "text": [
      " 0\n",
      "Child returned 0\n",
      "1.85 seconds.\n",
      "locate patches: 1.88 seconds\n",
      "44227 samples.\n",
      "load image: 1.52 seconds\n",
      "extract patches: 17.34 seconds\n",
      "predict: 114.95 seconds\n"
     ]
    },
    {
     "name": "stdout",
     "output_type": "stream",
     "text": [
      "\n",
      "aws s3 cp /media/yuncong/BstemAtlasData/CSHL_patch_features/inception-bn-blue/MD590/MD590-N29-2015.08.03-18.55.57_MD590_1_0087_lossless_alignedTo_MD590-N47-2015.09.12-05.32.06_MD590_2_0140_cropped/MD590-N29-2015.08.03-18.55.57_MD590_1_0087_lossless_alignedTo_MD590-N47-2015.09.12-05.32.06_MD590_2_0140_cropped_features.hdf s3://mousebrainatlas-data/CSHL_patch_features/inception-bn-blue/MD590/MD590-N29-2015.08.03-18.55.57_MD590_1_0087_lossless_alignedTo_MD590-N47-2015.09.12-05.32.06_MD590_2_0140_cropped/MD590-N29-2015.08.03-18.55.57_MD590_1_0087_lossless_alignedTo_MD590-N47-2015.09.12-05.32.06_MD590_2_0140_cropped_features.hdf\n",
      "aws s3 cp /media/yuncong/BstemAtlasData/CSHL_patch_features/inception-bn-blue/MD590/MD590-N29-2015.08.03-18.55.57_MD590_1_0087_lossless_alignedTo_MD590-N47-2015.09.12-05.32.06_MD590_2_0140_cropped/MD590-N29-2015.08.03-18.55.57_MD590_1_0087_lossless_alignedTo_MD590-N47-2015.09.12-05.32.06_MD590_2_0140_cropped_patch_locations.txt s3://mousebrainatlas-data/CSHL_patch_features/inception-bn-blue/MD590/MD590-N29-2015.08.03-18.55.57_MD590_1_0087_lossless_alignedTo_MD590-N47-2015.09.12-05.32.06_MD590_2_0140_cropped/MD590-N29-2015.08.03-18.55.57_MD590_1_0087_lossless_alignedTo_MD590-N47-2015.09.12-05.32.06_MD590_2_0140_cropped_patch_locations.txt"
     ]
    },
    {
     "name": "stderr",
     "output_type": "stream",
     "text": [
      "Child returned 0\n",
      "2.90 seconds.\n",
      "Child returned"
     ]
    },
    {
     "name": "stdout",
     "output_type": "stream",
     "text": [
      "\n",
      "rm -rf /media/yuncong/BstemAtlasData/CSHL_data_processed/MD590/MD590_masks_alignedTo_MD590-N47-2015.09.12-05.32.06_MD590_2_0140_cropped/MD590-N30-2015.08.03-19.00.39_MD590_3_0088_mask_alignedTo_MD590-N47-2015.09.12-05.32.06_MD590_2_0140_cropped.png && mkdir -p /media/yuncong/BstemAtlasData/CSHL_data_processed/MD590/MD590_masks_alignedTo_MD590-N47-2015.09.12-05.32.06_MD590_2_0140_cropped"
     ]
    },
    {
     "name": "stderr",
     "output_type": "stream",
     "text": [
      " 0\n",
      "1.32 seconds.\n",
      "save: 6.44 seconds\n",
      "\n",
      "Section 154.\n",
      "Child returned"
     ]
    },
    {
     "name": "stdout",
     "output_type": "stream",
     "text": [
      "\n",
      "aws s3 cp s3://mousebrainatlas-data/CSHL_data_processed/MD590/MD590_masks_alignedTo_MD590-N47-2015.09.12-05.32.06_MD590_2_0140_cropped/MD590-N30-2015.08.03-19.00.39_MD590_3_0088_mask_alignedTo_MD590-N47-2015.09.12-05.32.06_MD590_2_0140_cropped.png /media/yuncong/BstemAtlasData/CSHL_data_processed/MD590/MD590_masks_alignedTo_MD590-N47-2015.09.12-05.32.06_MD590_2_0140_cropped/MD590-N30-2015.08.03-19.00.39_MD590_3_0088_mask_alignedTo_MD590-N47-2015.09.12-05.32.06_MD590_2_0140_cropped.png"
     ]
    },
    {
     "name": "stderr",
     "output_type": "stream",
     "text": [
      " 0\n",
      "Child returned 0\n",
      "1.85 seconds.\n",
      "locate patches: 1.88 seconds\n",
      "45033 samples.\n",
      "load image: 1.48 seconds\n",
      "extract patches: 17.32 seconds\n",
      "predict: 116.72 seconds\n"
     ]
    },
    {
     "name": "stdout",
     "output_type": "stream",
     "text": [
      "\n",
      "aws s3 cp /media/yuncong/BstemAtlasData/CSHL_patch_features/inception-bn-blue/MD590/MD590-N30-2015.08.03-19.00.39_MD590_3_0088_lossless_alignedTo_MD590-N47-2015.09.12-05.32.06_MD590_2_0140_cropped/MD590-N30-2015.08.03-19.00.39_MD590_3_0088_lossless_alignedTo_MD590-N47-2015.09.12-05.32.06_MD590_2_0140_cropped_features.hdf s3://mousebrainatlas-data/CSHL_patch_features/inception-bn-blue/MD590/MD590-N30-2015.08.03-19.00.39_MD590_3_0088_lossless_alignedTo_MD590-N47-2015.09.12-05.32.06_MD590_2_0140_cropped/MD590-N30-2015.08.03-19.00.39_MD590_3_0088_lossless_alignedTo_MD590-N47-2015.09.12-05.32.06_MD590_2_0140_cropped_features.hdf\n",
      "aws s3 cp /media/yuncong/BstemAtlasData/CSHL_patch_features/inception-bn-blue/MD590/MD590-N30-2015.08.03-19.00.39_MD590_3_0088_lossless_alignedTo_MD590-N47-2015.09.12-05.32.06_MD590_2_0140_cropped/MD590-N30-2015.08.03-19.00.39_MD590_3_0088_lossless_alignedTo_MD590-N47-2015.09.12-05.32.06_MD590_2_0140_cropped_patch_locations.txt s3://mousebrainatlas-data/CSHL_patch_features/inception-bn-blue/MD590/MD590-N30-2015.08.03-19.00.39_MD590_3_0088_lossless_alignedTo_MD590-N47-2015.09.12-05.32.06_MD590_2_0140_cropped/MD590-N30-2015.08.03-19.00.39_MD590_3_0088_lossless_alignedTo_MD590-N47-2015.09.12-05.32.06_MD590_2_0140_cropped_patch_locations.txt"
     ]
    },
    {
     "name": "stderr",
     "output_type": "stream",
     "text": [
      "Child returned 0\n",
      "2.80 seconds.\n",
      "Child returned"
     ]
    },
    {
     "name": "stdout",
     "output_type": "stream",
     "text": [
      "\n",
      "rm -rf /media/yuncong/BstemAtlasData/CSHL_data_processed/MD590/MD590_masks_alignedTo_MD590-N47-2015.09.12-05.32.06_MD590_2_0140_cropped/MD590-IHC30-2015.08.10-20.01.31_MD590_3_0088_mask_alignedTo_MD590-N47-2015.09.12-05.32.06_MD590_2_0140_cropped.png && mkdir -p /media/yuncong/BstemAtlasData/CSHL_data_processed/MD590/MD590_masks_alignedTo_MD590-N47-2015.09.12-05.32.06_MD590_2_0140_cropped"
     ]
    },
    {
     "name": "stderr",
     "output_type": "stream",
     "text": [
      " 0\n",
      "1.39 seconds.\n",
      "save: 6.40 seconds\n",
      "\n",
      "Section 155.\n",
      "Child returned"
     ]
    },
    {
     "name": "stdout",
     "output_type": "stream",
     "text": [
      "\n",
      "aws s3 cp s3://mousebrainatlas-data/CSHL_data_processed/MD590/MD590_masks_alignedTo_MD590-N47-2015.09.12-05.32.06_MD590_2_0140_cropped/MD590-IHC30-2015.08.10-20.01.31_MD590_3_0088_mask_alignedTo_MD590-N47-2015.09.12-05.32.06_MD590_2_0140_cropped.png /media/yuncong/BstemAtlasData/CSHL_data_processed/MD590/MD590_masks_alignedTo_MD590-N47-2015.09.12-05.32.06_MD590_2_0140_cropped/MD590-IHC30-2015.08.10-20.01.31_MD590_3_0088_mask_alignedTo_MD590-N47-2015.09.12-05.32.06_MD590_2_0140_cropped.png"
     ]
    },
    {
     "name": "stderr",
     "output_type": "stream",
     "text": [
      " 0\n",
      "Child returned 0\n",
      "1.89 seconds.\n",
      "locate patches: 1.92 seconds\n",
      "45293 samples.\n",
      "load image: 1.50 seconds\n",
      "extract patches: 17.84 seconds\n",
      "predict: 117.58 seconds\n"
     ]
    },
    {
     "name": "stdout",
     "output_type": "stream",
     "text": [
      "\n",
      "aws s3 cp /media/yuncong/BstemAtlasData/CSHL_patch_features/inception-bn-blue/MD590/MD590-IHC30-2015.08.10-20.01.31_MD590_3_0088_lossless_alignedTo_MD590-N47-2015.09.12-05.32.06_MD590_2_0140_cropped/MD590-IHC30-2015.08.10-20.01.31_MD590_3_0088_lossless_alignedTo_MD590-N47-2015.09.12-05.32.06_MD590_2_0140_cropped_features.hdf s3://mousebrainatlas-data/CSHL_patch_features/inception-bn-blue/MD590/MD590-IHC30-2015.08.10-20.01.31_MD590_3_0088_lossless_alignedTo_MD590-N47-2015.09.12-05.32.06_MD590_2_0140_cropped/MD590-IHC30-2015.08.10-20.01.31_MD590_3_0088_lossless_alignedTo_MD590-N47-2015.09.12-05.32.06_MD590_2_0140_cropped_features.hdf\n",
      "aws s3 cp /media/yuncong/BstemAtlasData/CSHL_patch_features/inception-bn-blue/MD590/MD590-IHC30-2015.08.10-20.01.31_MD590_3_0088_lossless_alignedTo_MD590-N47-2015.09.12-05.32.06_MD590_2_0140_cropped/MD590-IHC30-2015.08.10-20.01.31_MD590_3_0088_lossless_alignedTo_MD590-N47-2015.09.12-05.32.06_MD590_2_0140_cropped_patch_locations.txt s3://mousebrainatlas-data/CSHL_patch_features/inception-bn-blue/MD590/MD590-IHC30-2015.08.10-20.01.31_MD590_3_0088_lossless_alignedTo_MD590-N47-2015.09.12-05.32.06_MD590_2_0140_cropped/MD590-IHC30-2015.08.10-20.01.31_MD590_3_0088_lossless_alignedTo_MD590-N47-2015.09.12-05.32.06_MD590_2_0140_cropped_patch_locations.txt"
     ]
    },
    {
     "name": "stderr",
     "output_type": "stream",
     "text": [
      "Child returned 0\n",
      "2.49 seconds.\n",
      "Child returned"
     ]
    },
    {
     "name": "stdout",
     "output_type": "stream",
     "text": [
      "\n",
      "rm -rf /media/yuncong/BstemAtlasData/CSHL_data_processed/MD590/MD590_masks_alignedTo_MD590-N47-2015.09.12-05.32.06_MD590_2_0140_cropped/MD590-N30-2015.08.03-19.00.39_MD590_2_0089_mask_alignedTo_MD590-N47-2015.09.12-05.32.06_MD590_2_0140_cropped.png && mkdir -p /media/yuncong/BstemAtlasData/CSHL_data_processed/MD590/MD590_masks_alignedTo_MD590-N47-2015.09.12-05.32.06_MD590_2_0140_cropped"
     ]
    },
    {
     "name": "stderr",
     "output_type": "stream",
     "text": [
      " 0\n",
      "1.30 seconds.\n",
      "save: 6.03 seconds\n",
      "\n",
      "Section 156.\n",
      "Child returned"
     ]
    },
    {
     "name": "stdout",
     "output_type": "stream",
     "text": [
      "\n",
      "aws s3 cp s3://mousebrainatlas-data/CSHL_data_processed/MD590/MD590_masks_alignedTo_MD590-N47-2015.09.12-05.32.06_MD590_2_0140_cropped/MD590-N30-2015.08.03-19.00.39_MD590_2_0089_mask_alignedTo_MD590-N47-2015.09.12-05.32.06_MD590_2_0140_cropped.png /media/yuncong/BstemAtlasData/CSHL_data_processed/MD590/MD590_masks_alignedTo_MD590-N47-2015.09.12-05.32.06_MD590_2_0140_cropped/MD590-N30-2015.08.03-19.00.39_MD590_2_0089_mask_alignedTo_MD590-N47-2015.09.12-05.32.06_MD590_2_0140_cropped.png"
     ]
    },
    {
     "name": "stderr",
     "output_type": "stream",
     "text": [
      " 0\n",
      "Child returned 0\n",
      "1.82 seconds.\n",
      "locate patches: 1.85 seconds\n",
      "45277 samples.\n",
      "load image: 1.55 seconds\n",
      "extract patches: 17.59 seconds\n",
      "predict: 117.29 seconds\n"
     ]
    },
    {
     "name": "stdout",
     "output_type": "stream",
     "text": [
      "\n",
      "aws s3 cp /media/yuncong/BstemAtlasData/CSHL_patch_features/inception-bn-blue/MD590/MD590-N30-2015.08.03-19.00.39_MD590_2_0089_lossless_alignedTo_MD590-N47-2015.09.12-05.32.06_MD590_2_0140_cropped/MD590-N30-2015.08.03-19.00.39_MD590_2_0089_lossless_alignedTo_MD590-N47-2015.09.12-05.32.06_MD590_2_0140_cropped_features.hdf s3://mousebrainatlas-data/CSHL_patch_features/inception-bn-blue/MD590/MD590-N30-2015.08.03-19.00.39_MD590_2_0089_lossless_alignedTo_MD590-N47-2015.09.12-05.32.06_MD590_2_0140_cropped/MD590-N30-2015.08.03-19.00.39_MD590_2_0089_lossless_alignedTo_MD590-N47-2015.09.12-05.32.06_MD590_2_0140_cropped_features.hdf\n",
      "aws s3 cp /media/yuncong/BstemAtlasData/CSHL_patch_features/inception-bn-blue/MD590/MD590-N30-2015.08.03-19.00.39_MD590_2_0089_lossless_alignedTo_MD590-N47-2015.09.12-05.32.06_MD590_2_0140_cropped/MD590-N30-2015.08.03-19.00.39_MD590_2_0089_lossless_alignedTo_MD590-N47-2015.09.12-05.32.06_MD590_2_0140_cropped_patch_locations.txt s3://mousebrainatlas-data/CSHL_patch_features/inception-bn-blue/MD590/MD590-N30-2015.08.03-19.00.39_MD590_2_0089_lossless_alignedTo_MD590-N47-2015.09.12-05.32.06_MD590_2_0140_cropped/MD590-N30-2015.08.03-19.00.39_MD590_2_0089_lossless_alignedTo_MD590-N47-2015.09.12-05.32.06_MD590_2_0140_cropped_patch_locations.txt"
     ]
    },
    {
     "name": "stderr",
     "output_type": "stream",
     "text": [
      "Child returned 0\n",
      "2.92 seconds.\n",
      "Child returned"
     ]
    },
    {
     "name": "stdout",
     "output_type": "stream",
     "text": [
      "\n",
      "rm -rf /media/yuncong/BstemAtlasData/CSHL_data_processed/MD590/MD590_masks_alignedTo_MD590-N47-2015.09.12-05.32.06_MD590_2_0140_cropped/MD590-N30-2015.08.03-19.00.39_MD590_1_0090_mask_alignedTo_MD590-N47-2015.09.12-05.32.06_MD590_2_0140_cropped.png && mkdir -p /media/yuncong/BstemAtlasData/CSHL_data_processed/MD590/MD590_masks_alignedTo_MD590-N47-2015.09.12-05.32.06_MD590_2_0140_cropped"
     ]
    },
    {
     "name": "stderr",
     "output_type": "stream",
     "text": [
      " 0\n",
      "1.33 seconds.\n",
      "save: 6.49 seconds\n",
      "\n",
      "Section 158.\n",
      "Child returned"
     ]
    },
    {
     "name": "stdout",
     "output_type": "stream",
     "text": [
      "\n",
      "aws s3 cp s3://mousebrainatlas-data/CSHL_data_processed/MD590/MD590_masks_alignedTo_MD590-N47-2015.09.12-05.32.06_MD590_2_0140_cropped/MD590-N30-2015.08.03-19.00.39_MD590_1_0090_mask_alignedTo_MD590-N47-2015.09.12-05.32.06_MD590_2_0140_cropped.png /media/yuncong/BstemAtlasData/CSHL_data_processed/MD590/MD590_masks_alignedTo_MD590-N47-2015.09.12-05.32.06_MD590_2_0140_cropped/MD590-N30-2015.08.03-19.00.39_MD590_1_0090_mask_alignedTo_MD590-N47-2015.09.12-05.32.06_MD590_2_0140_cropped.png"
     ]
    },
    {
     "name": "stderr",
     "output_type": "stream",
     "text": [
      " 0\n",
      "Child returned 0\n",
      "1.83 seconds.\n",
      "locate patches: 1.86 seconds\n",
      "45527 samples.\n",
      "load image: 1.50 seconds\n",
      "extract patches: 17.89 seconds\n",
      "predict: 118.18 seconds\n"
     ]
    },
    {
     "name": "stdout",
     "output_type": "stream",
     "text": [
      "\n",
      "aws s3 cp /media/yuncong/BstemAtlasData/CSHL_patch_features/inception-bn-blue/MD590/MD590-N30-2015.08.03-19.00.39_MD590_1_0090_lossless_alignedTo_MD590-N47-2015.09.12-05.32.06_MD590_2_0140_cropped/MD590-N30-2015.08.03-19.00.39_MD590_1_0090_lossless_alignedTo_MD590-N47-2015.09.12-05.32.06_MD590_2_0140_cropped_features.hdf s3://mousebrainatlas-data/CSHL_patch_features/inception-bn-blue/MD590/MD590-N30-2015.08.03-19.00.39_MD590_1_0090_lossless_alignedTo_MD590-N47-2015.09.12-05.32.06_MD590_2_0140_cropped/MD590-N30-2015.08.03-19.00.39_MD590_1_0090_lossless_alignedTo_MD590-N47-2015.09.12-05.32.06_MD590_2_0140_cropped_features.hdf\n",
      "aws s3 cp /media/yuncong/BstemAtlasData/CSHL_patch_features/inception-bn-blue/MD590/MD590-N30-2015.08.03-19.00.39_MD590_1_0090_lossless_alignedTo_MD590-N47-2015.09.12-05.32.06_MD590_2_0140_cropped/MD590-N30-2015.08.03-19.00.39_MD590_1_0090_lossless_alignedTo_MD590-N47-2015.09.12-05.32.06_MD590_2_0140_cropped_patch_locations.txt s3://mousebrainatlas-data/CSHL_patch_features/inception-bn-blue/MD590/MD590-N30-2015.08.03-19.00.39_MD590_1_0090_lossless_alignedTo_MD590-N47-2015.09.12-05.32.06_MD590_2_0140_cropped/MD590-N30-2015.08.03-19.00.39_MD590_1_0090_lossless_alignedTo_MD590-N47-2015.09.12-05.32.06_MD590_2_0140_cropped_patch_locations.txt"
     ]
    },
    {
     "name": "stderr",
     "output_type": "stream",
     "text": [
      "Child returned 0\n",
      "2.61 seconds.\n",
      "Child returned"
     ]
    },
    {
     "name": "stdout",
     "output_type": "stream",
     "text": [
      "\n",
      "rm -rf /media/yuncong/BstemAtlasData/CSHL_data_processed/MD590/MD590_masks_alignedTo_MD590-N47-2015.09.12-05.32.06_MD590_2_0140_cropped/MD590-IHC30-2015.08.10-20.01.31_MD590_1_0090_mask_alignedTo_MD590-N47-2015.09.12-05.32.06_MD590_2_0140_cropped.png && mkdir -p /media/yuncong/BstemAtlasData/CSHL_data_processed/MD590/MD590_masks_alignedTo_MD590-N47-2015.09.12-05.32.06_MD590_2_0140_cropped"
     ]
    },
    {
     "name": "stderr",
     "output_type": "stream",
     "text": [
      " 0\n",
      "1.37 seconds.\n",
      "save: 6.27 seconds\n",
      "\n",
      "Section 159.\n",
      "Child returned"
     ]
    },
    {
     "name": "stdout",
     "output_type": "stream",
     "text": [
      "\n",
      "aws s3 cp s3://mousebrainatlas-data/CSHL_data_processed/MD590/MD590_masks_alignedTo_MD590-N47-2015.09.12-05.32.06_MD590_2_0140_cropped/MD590-IHC30-2015.08.10-20.01.31_MD590_1_0090_mask_alignedTo_MD590-N47-2015.09.12-05.32.06_MD590_2_0140_cropped.png /media/yuncong/BstemAtlasData/CSHL_data_processed/MD590/MD590_masks_alignedTo_MD590-N47-2015.09.12-05.32.06_MD590_2_0140_cropped/MD590-IHC30-2015.08.10-20.01.31_MD590_1_0090_mask_alignedTo_MD590-N47-2015.09.12-05.32.06_MD590_2_0140_cropped.png"
     ]
    },
    {
     "name": "stderr",
     "output_type": "stream",
     "text": [
      " 0\n",
      "Child returned 0\n",
      "1.92 seconds.\n",
      "locate patches: 1.94 seconds\n",
      "46042 samples.\n",
      "load image: 1.54 seconds\n",
      "extract patches: 17.97 seconds\n",
      "predict: 123.04 seconds\n"
     ]
    },
    {
     "name": "stdout",
     "output_type": "stream",
     "text": [
      "\n",
      "aws s3 cp /media/yuncong/BstemAtlasData/CSHL_patch_features/inception-bn-blue/MD590/MD590-IHC30-2015.08.10-20.01.31_MD590_1_0090_lossless_alignedTo_MD590-N47-2015.09.12-05.32.06_MD590_2_0140_cropped/MD590-IHC30-2015.08.10-20.01.31_MD590_1_0090_lossless_alignedTo_MD590-N47-2015.09.12-05.32.06_MD590_2_0140_cropped_features.hdf s3://mousebrainatlas-data/CSHL_patch_features/inception-bn-blue/MD590/MD590-IHC30-2015.08.10-20.01.31_MD590_1_0090_lossless_alignedTo_MD590-N47-2015.09.12-05.32.06_MD590_2_0140_cropped/MD590-IHC30-2015.08.10-20.01.31_MD590_1_0090_lossless_alignedTo_MD590-N47-2015.09.12-05.32.06_MD590_2_0140_cropped_features.hdf\n",
      "aws s3 cp /media/yuncong/BstemAtlasData/CSHL_patch_features/inception-bn-blue/MD590/MD590-IHC30-2015.08.10-20.01.31_MD590_1_0090_lossless_alignedTo_MD590-N47-2015.09.12-05.32.06_MD590_2_0140_cropped/MD590-IHC30-2015.08.10-20.01.31_MD590_1_0090_lossless_alignedTo_MD590-N47-2015.09.12-05.32.06_MD590_2_0140_cropped_patch_locations.txt s3://mousebrainatlas-data/CSHL_patch_features/inception-bn-blue/MD590/MD590-IHC30-2015.08.10-20.01.31_MD590_1_0090_lossless_alignedTo_MD590-N47-2015.09.12-05.32.06_MD590_2_0140_cropped/MD590-IHC30-2015.08.10-20.01.31_MD590_1_0090_lossless_alignedTo_MD590-N47-2015.09.12-05.32.06_MD590_2_0140_cropped_patch_locations.txt"
     ]
    },
    {
     "name": "stderr",
     "output_type": "stream",
     "text": [
      "Child returned 0\n",
      "2.66 seconds.\n",
      "Child returned"
     ]
    },
    {
     "name": "stdout",
     "output_type": "stream",
     "text": [
      "\n",
      "rm -rf /media/yuncong/BstemAtlasData/CSHL_data_processed/MD590/MD590_masks_alignedTo_MD590-N47-2015.09.12-05.32.06_MD590_2_0140_cropped/MD590-N31-2015.08.03-19.05.52_MD590_3_0091_mask_alignedTo_MD590-N47-2015.09.12-05.32.06_MD590_2_0140_cropped.png && mkdir -p /media/yuncong/BstemAtlasData/CSHL_data_processed/MD590/MD590_masks_alignedTo_MD590-N47-2015.09.12-05.32.06_MD590_2_0140_cropped"
     ]
    },
    {
     "name": "stderr",
     "output_type": "stream",
     "text": [
      " 0\n",
      "1.39 seconds.\n",
      "save: 6.35 seconds\n",
      "\n",
      "Section 160.\n",
      "Child returned"
     ]
    },
    {
     "name": "stdout",
     "output_type": "stream",
     "text": [
      "\n",
      "aws s3 cp s3://mousebrainatlas-data/CSHL_data_processed/MD590/MD590_masks_alignedTo_MD590-N47-2015.09.12-05.32.06_MD590_2_0140_cropped/MD590-N31-2015.08.03-19.05.52_MD590_3_0091_mask_alignedTo_MD590-N47-2015.09.12-05.32.06_MD590_2_0140_cropped.png /media/yuncong/BstemAtlasData/CSHL_data_processed/MD590/MD590_masks_alignedTo_MD590-N47-2015.09.12-05.32.06_MD590_2_0140_cropped/MD590-N31-2015.08.03-19.05.52_MD590_3_0091_mask_alignedTo_MD590-N47-2015.09.12-05.32.06_MD590_2_0140_cropped.png"
     ]
    },
    {
     "name": "stderr",
     "output_type": "stream",
     "text": [
      " 0\n",
      "Child returned 0\n",
      "1.97 seconds.\n",
      "locate patches: 2.00 seconds\n",
      "45779 samples.\n",
      "load image: 1.46 seconds\n",
      "extract patches: 17.65 seconds\n",
      "predict: 118.83 seconds\n"
     ]
    },
    {
     "name": "stdout",
     "output_type": "stream",
     "text": [
      "\n",
      "aws s3 cp /media/yuncong/BstemAtlasData/CSHL_patch_features/inception-bn-blue/MD590/MD590-N31-2015.08.03-19.05.52_MD590_3_0091_lossless_alignedTo_MD590-N47-2015.09.12-05.32.06_MD590_2_0140_cropped/MD590-N31-2015.08.03-19.05.52_MD590_3_0091_lossless_alignedTo_MD590-N47-2015.09.12-05.32.06_MD590_2_0140_cropped_features.hdf s3://mousebrainatlas-data/CSHL_patch_features/inception-bn-blue/MD590/MD590-N31-2015.08.03-19.05.52_MD590_3_0091_lossless_alignedTo_MD590-N47-2015.09.12-05.32.06_MD590_2_0140_cropped/MD590-N31-2015.08.03-19.05.52_MD590_3_0091_lossless_alignedTo_MD590-N47-2015.09.12-05.32.06_MD590_2_0140_cropped_features.hdf\n",
      "aws s3 cp /media/yuncong/BstemAtlasData/CSHL_patch_features/inception-bn-blue/MD590/MD590-N31-2015.08.03-19.05.52_MD590_3_0091_lossless_alignedTo_MD590-N47-2015.09.12-05.32.06_MD590_2_0140_cropped/MD590-N31-2015.08.03-19.05.52_MD590_3_0091_lossless_alignedTo_MD590-N47-2015.09.12-05.32.06_MD590_2_0140_cropped_patch_locations.txt s3://mousebrainatlas-data/CSHL_patch_features/inception-bn-blue/MD590/MD590-N31-2015.08.03-19.05.52_MD590_3_0091_lossless_alignedTo_MD590-N47-2015.09.12-05.32.06_MD590_2_0140_cropped/MD590-N31-2015.08.03-19.05.52_MD590_3_0091_lossless_alignedTo_MD590-N47-2015.09.12-05.32.06_MD590_2_0140_cropped_patch_locations.txt"
     ]
    },
    {
     "name": "stderr",
     "output_type": "stream",
     "text": [
      "Child returned 0\n",
      "2.74 seconds.\n",
      "Child returned"
     ]
    },
    {
     "name": "stdout",
     "output_type": "stream",
     "text": [
      "\n",
      "rm -rf /media/yuncong/BstemAtlasData/CSHL_data_processed/MD590/MD590_masks_alignedTo_MD590-N47-2015.09.12-05.32.06_MD590_2_0140_cropped/MD590-IHC31-2015.08.10-20.06.46_MD590_3_0091_mask_alignedTo_MD590-N47-2015.09.12-05.32.06_MD590_2_0140_cropped.png && mkdir -p /media/yuncong/BstemAtlasData/CSHL_data_processed/MD590/MD590_masks_alignedTo_MD590-N47-2015.09.12-05.32.06_MD590_2_0140_cropped"
     ]
    },
    {
     "name": "stderr",
     "output_type": "stream",
     "text": [
      " 0\n",
      "1.36 seconds.\n",
      "save: 6.44 seconds\n",
      "\n",
      "Section 161.\n",
      "Child returned"
     ]
    },
    {
     "name": "stdout",
     "output_type": "stream",
     "text": [
      "\n",
      "aws s3 cp s3://mousebrainatlas-data/CSHL_data_processed/MD590/MD590_masks_alignedTo_MD590-N47-2015.09.12-05.32.06_MD590_2_0140_cropped/MD590-IHC31-2015.08.10-20.06.46_MD590_3_0091_mask_alignedTo_MD590-N47-2015.09.12-05.32.06_MD590_2_0140_cropped.png /media/yuncong/BstemAtlasData/CSHL_data_processed/MD590/MD590_masks_alignedTo_MD590-N47-2015.09.12-05.32.06_MD590_2_0140_cropped/MD590-IHC31-2015.08.10-20.06.46_MD590_3_0091_mask_alignedTo_MD590-N47-2015.09.12-05.32.06_MD590_2_0140_cropped.png"
     ]
    },
    {
     "name": "stderr",
     "output_type": "stream",
     "text": [
      " 0\n",
      "Child returned 0\n",
      "2.03 seconds.\n",
      "locate patches: 2.06 seconds\n",
      "46273 samples.\n",
      "load image: 1.46 seconds\n",
      "extract patches: 18.09 seconds\n",
      "predict: 120.60 seconds\n"
     ]
    },
    {
     "name": "stdout",
     "output_type": "stream",
     "text": [
      "\n",
      "aws s3 cp /media/yuncong/BstemAtlasData/CSHL_patch_features/inception-bn-blue/MD590/MD590-IHC31-2015.08.10-20.06.46_MD590_3_0091_lossless_alignedTo_MD590-N47-2015.09.12-05.32.06_MD590_2_0140_cropped/MD590-IHC31-2015.08.10-20.06.46_MD590_3_0091_lossless_alignedTo_MD590-N47-2015.09.12-05.32.06_MD590_2_0140_cropped_features.hdf s3://mousebrainatlas-data/CSHL_patch_features/inception-bn-blue/MD590/MD590-IHC31-2015.08.10-20.06.46_MD590_3_0091_lossless_alignedTo_MD590-N47-2015.09.12-05.32.06_MD590_2_0140_cropped/MD590-IHC31-2015.08.10-20.06.46_MD590_3_0091_lossless_alignedTo_MD590-N47-2015.09.12-05.32.06_MD590_2_0140_cropped_features.hdf\n",
      "aws s3 cp /media/yuncong/BstemAtlasData/CSHL_patch_features/inception-bn-blue/MD590/MD590-IHC31-2015.08.10-20.06.46_MD590_3_0091_lossless_alignedTo_MD590-N47-2015.09.12-05.32.06_MD590_2_0140_cropped/MD590-IHC31-2015.08.10-20.06.46_MD590_3_0091_lossless_alignedTo_MD590-N47-2015.09.12-05.32.06_MD590_2_0140_cropped_patch_locations.txt s3://mousebrainatlas-data/CSHL_patch_features/inception-bn-blue/MD590/MD590-IHC31-2015.08.10-20.06.46_MD590_3_0091_lossless_alignedTo_MD590-N47-2015.09.12-05.32.06_MD590_2_0140_cropped/MD590-IHC31-2015.08.10-20.06.46_MD590_3_0091_lossless_alignedTo_MD590-N47-2015.09.12-05.32.06_MD590_2_0140_cropped_patch_locations.txt"
     ]
    },
    {
     "name": "stderr",
     "output_type": "stream",
     "text": [
      "Child returned 0\n",
      "2.49 seconds.\n",
      "Child returned"
     ]
    },
    {
     "name": "stdout",
     "output_type": "stream",
     "text": [
      "\n",
      "rm -rf /media/yuncong/BstemAtlasData/CSHL_data_processed/MD590/MD590_masks_alignedTo_MD590-N47-2015.09.12-05.32.06_MD590_2_0140_cropped/MD590-N31-2015.08.03-19.05.52_MD590_2_0092_mask_alignedTo_MD590-N47-2015.09.12-05.32.06_MD590_2_0140_cropped.png && mkdir -p /media/yuncong/BstemAtlasData/CSHL_data_processed/MD590/MD590_masks_alignedTo_MD590-N47-2015.09.12-05.32.06_MD590_2_0140_cropped"
     ]
    },
    {
     "name": "stderr",
     "output_type": "stream",
     "text": [
      " 0\n",
      "1.33 seconds.\n",
      "save: 6.09 seconds\n",
      "\n",
      "Section 162.\n",
      "Child returned"
     ]
    },
    {
     "name": "stdout",
     "output_type": "stream",
     "text": [
      "\n",
      "aws s3 cp s3://mousebrainatlas-data/CSHL_data_processed/MD590/MD590_masks_alignedTo_MD590-N47-2015.09.12-05.32.06_MD590_2_0140_cropped/MD590-N31-2015.08.03-19.05.52_MD590_2_0092_mask_alignedTo_MD590-N47-2015.09.12-05.32.06_MD590_2_0140_cropped.png /media/yuncong/BstemAtlasData/CSHL_data_processed/MD590/MD590_masks_alignedTo_MD590-N47-2015.09.12-05.32.06_MD590_2_0140_cropped/MD590-N31-2015.08.03-19.05.52_MD590_2_0092_mask_alignedTo_MD590-N47-2015.09.12-05.32.06_MD590_2_0140_cropped.png"
     ]
    },
    {
     "name": "stderr",
     "output_type": "stream",
     "text": [
      " 0\n",
      "Child returned 0\n",
      "1.82 seconds.\n",
      "locate patches: 1.85 seconds\n",
      "46323 samples.\n",
      "load image: 1.56 seconds\n",
      "extract patches: 17.82 seconds\n",
      "predict: 123.27 seconds\n"
     ]
    },
    {
     "name": "stdout",
     "output_type": "stream",
     "text": [
      "\n",
      "aws s3 cp /media/yuncong/BstemAtlasData/CSHL_patch_features/inception-bn-blue/MD590/MD590-N31-2015.08.03-19.05.52_MD590_2_0092_lossless_alignedTo_MD590-N47-2015.09.12-05.32.06_MD590_2_0140_cropped/MD590-N31-2015.08.03-19.05.52_MD590_2_0092_lossless_alignedTo_MD590-N47-2015.09.12-05.32.06_MD590_2_0140_cropped_features.hdf s3://mousebrainatlas-data/CSHL_patch_features/inception-bn-blue/MD590/MD590-N31-2015.08.03-19.05.52_MD590_2_0092_lossless_alignedTo_MD590-N47-2015.09.12-05.32.06_MD590_2_0140_cropped/MD590-N31-2015.08.03-19.05.52_MD590_2_0092_lossless_alignedTo_MD590-N47-2015.09.12-05.32.06_MD590_2_0140_cropped_features.hdf\n",
      "aws s3 cp /media/yuncong/BstemAtlasData/CSHL_patch_features/inception-bn-blue/MD590/MD590-N31-2015.08.03-19.05.52_MD590_2_0092_lossless_alignedTo_MD590-N47-2015.09.12-05.32.06_MD590_2_0140_cropped/MD590-N31-2015.08.03-19.05.52_MD590_2_0092_lossless_alignedTo_MD590-N47-2015.09.12-05.32.06_MD590_2_0140_cropped_patch_locations.txt s3://mousebrainatlas-data/CSHL_patch_features/inception-bn-blue/MD590/MD590-N31-2015.08.03-19.05.52_MD590_2_0092_lossless_alignedTo_MD590-N47-2015.09.12-05.32.06_MD590_2_0140_cropped/MD590-N31-2015.08.03-19.05.52_MD590_2_0092_lossless_alignedTo_MD590-N47-2015.09.12-05.32.06_MD590_2_0140_cropped_patch_locations.txt"
     ]
    },
    {
     "name": "stderr",
     "output_type": "stream",
     "text": [
      "Child returned 0\n",
      "2.69 seconds.\n",
      "Child returned"
     ]
    },
    {
     "name": "stdout",
     "output_type": "stream",
     "text": [
      "\n",
      "rm -rf /media/yuncong/BstemAtlasData/CSHL_data_processed/MD590/MD590_masks_alignedTo_MD590-N47-2015.09.12-05.32.06_MD590_2_0140_cropped/MD590-IHC31-2015.08.10-20.06.46_MD590_1_0093_mask_alignedTo_MD590-N47-2015.09.12-05.32.06_MD590_2_0140_cropped.png && mkdir -p /media/yuncong/BstemAtlasData/CSHL_data_processed/MD590/MD590_masks_alignedTo_MD590-N47-2015.09.12-05.32.06_MD590_2_0140_cropped"
     ]
    },
    {
     "name": "stderr",
     "output_type": "stream",
     "text": [
      " 0\n",
      "1.44 seconds.\n",
      "save: 6.43 seconds\n",
      "\n",
      "Section 163.\n",
      "Child returned"
     ]
    },
    {
     "name": "stdout",
     "output_type": "stream",
     "text": [
      "\n",
      "aws s3 cp s3://mousebrainatlas-data/CSHL_data_processed/MD590/MD590_masks_alignedTo_MD590-N47-2015.09.12-05.32.06_MD590_2_0140_cropped/MD590-IHC31-2015.08.10-20.06.46_MD590_1_0093_mask_alignedTo_MD590-N47-2015.09.12-05.32.06_MD590_2_0140_cropped.png /media/yuncong/BstemAtlasData/CSHL_data_processed/MD590/MD590_masks_alignedTo_MD590-N47-2015.09.12-05.32.06_MD590_2_0140_cropped/MD590-IHC31-2015.08.10-20.06.46_MD590_1_0093_mask_alignedTo_MD590-N47-2015.09.12-05.32.06_MD590_2_0140_cropped.png"
     ]
    },
    {
     "name": "stderr",
     "output_type": "stream",
     "text": [
      " 0\n",
      "Child returned 0\n",
      "2.10 seconds.\n",
      "locate patches: 2.13 seconds\n",
      "46954 samples.\n",
      "load image: 2.01 seconds\n",
      "extract patches: 17.71 seconds\n",
      "predict: 121.45 seconds\n"
     ]
    },
    {
     "name": "stdout",
     "output_type": "stream",
     "text": [
      "\n",
      "aws s3 cp /media/yuncong/BstemAtlasData/CSHL_patch_features/inception-bn-blue/MD590/MD590-IHC31-2015.08.10-20.06.46_MD590_1_0093_lossless_alignedTo_MD590-N47-2015.09.12-05.32.06_MD590_2_0140_cropped/MD590-IHC31-2015.08.10-20.06.46_MD590_1_0093_lossless_alignedTo_MD590-N47-2015.09.12-05.32.06_MD590_2_0140_cropped_features.hdf s3://mousebrainatlas-data/CSHL_patch_features/inception-bn-blue/MD590/MD590-IHC31-2015.08.10-20.06.46_MD590_1_0093_lossless_alignedTo_MD590-N47-2015.09.12-05.32.06_MD590_2_0140_cropped/MD590-IHC31-2015.08.10-20.06.46_MD590_1_0093_lossless_alignedTo_MD590-N47-2015.09.12-05.32.06_MD590_2_0140_cropped_features.hdf\n",
      "aws s3 cp /media/yuncong/BstemAtlasData/CSHL_patch_features/inception-bn-blue/MD590/MD590-IHC31-2015.08.10-20.06.46_MD590_1_0093_lossless_alignedTo_MD590-N47-2015.09.12-05.32.06_MD590_2_0140_cropped/MD590-IHC31-2015.08.10-20.06.46_MD590_1_0093_lossless_alignedTo_MD590-N47-2015.09.12-05.32.06_MD590_2_0140_cropped_patch_locations.txt s3://mousebrainatlas-data/CSHL_patch_features/inception-bn-blue/MD590/MD590-IHC31-2015.08.10-20.06.46_MD590_1_0093_lossless_alignedTo_MD590-N47-2015.09.12-05.32.06_MD590_2_0140_cropped/MD590-IHC31-2015.08.10-20.06.46_MD590_1_0093_lossless_alignedTo_MD590-N47-2015.09.12-05.32.06_MD590_2_0140_cropped_patch_locations.txt"
     ]
    },
    {
     "name": "stderr",
     "output_type": "stream",
     "text": [
      "Child returned 0\n",
      "3.02 seconds.\n",
      "Child returned"
     ]
    },
    {
     "name": "stdout",
     "output_type": "stream",
     "text": [
      "\n",
      "rm -rf /media/yuncong/BstemAtlasData/CSHL_data_processed/MD590/MD590_masks_alignedTo_MD590-N47-2015.09.12-05.32.06_MD590_2_0140_cropped/MD590-N32-2015.08.03-19.09.53_MD590_3_0094_mask_alignedTo_MD590-N47-2015.09.12-05.32.06_MD590_2_0140_cropped.png && mkdir -p /media/yuncong/BstemAtlasData/CSHL_data_processed/MD590/MD590_masks_alignedTo_MD590-N47-2015.09.12-05.32.06_MD590_2_0140_cropped"
     ]
    },
    {
     "name": "stderr",
     "output_type": "stream",
     "text": [
      " 0\n",
      "1.36 seconds.\n",
      "save: 6.73 seconds\n",
      "\n",
      "Section 164.\n",
      "Child returned"
     ]
    },
    {
     "name": "stdout",
     "output_type": "stream",
     "text": [
      "\n",
      "aws s3 cp s3://mousebrainatlas-data/CSHL_data_processed/MD590/MD590_masks_alignedTo_MD590-N47-2015.09.12-05.32.06_MD590_2_0140_cropped/MD590-N32-2015.08.03-19.09.53_MD590_3_0094_mask_alignedTo_MD590-N47-2015.09.12-05.32.06_MD590_2_0140_cropped.png /media/yuncong/BstemAtlasData/CSHL_data_processed/MD590/MD590_masks_alignedTo_MD590-N47-2015.09.12-05.32.06_MD590_2_0140_cropped/MD590-N32-2015.08.03-19.09.53_MD590_3_0094_mask_alignedTo_MD590-N47-2015.09.12-05.32.06_MD590_2_0140_cropped.png"
     ]
    },
    {
     "name": "stderr",
     "output_type": "stream",
     "text": [
      " 0\n",
      "Child returned 0\n",
      "1.94 seconds.\n",
      "locate patches: 1.97 seconds\n",
      "46768 samples.\n",
      "load image: 1.96 seconds\n",
      "extract patches: 17.10 seconds\n",
      "predict: 121.62 seconds\n"
     ]
    },
    {
     "name": "stdout",
     "output_type": "stream",
     "text": [
      "\n",
      "aws s3 cp /media/yuncong/BstemAtlasData/CSHL_patch_features/inception-bn-blue/MD590/MD590-N32-2015.08.03-19.09.53_MD590_3_0094_lossless_alignedTo_MD590-N47-2015.09.12-05.32.06_MD590_2_0140_cropped/MD590-N32-2015.08.03-19.09.53_MD590_3_0094_lossless_alignedTo_MD590-N47-2015.09.12-05.32.06_MD590_2_0140_cropped_features.hdf s3://mousebrainatlas-data/CSHL_patch_features/inception-bn-blue/MD590/MD590-N32-2015.08.03-19.09.53_MD590_3_0094_lossless_alignedTo_MD590-N47-2015.09.12-05.32.06_MD590_2_0140_cropped/MD590-N32-2015.08.03-19.09.53_MD590_3_0094_lossless_alignedTo_MD590-N47-2015.09.12-05.32.06_MD590_2_0140_cropped_features.hdf\n",
      "aws s3 cp /media/yuncong/BstemAtlasData/CSHL_patch_features/inception-bn-blue/MD590/MD590-N32-2015.08.03-19.09.53_MD590_3_0094_lossless_alignedTo_MD590-N47-2015.09.12-05.32.06_MD590_2_0140_cropped/MD590-N32-2015.08.03-19.09.53_MD590_3_0094_lossless_alignedTo_MD590-N47-2015.09.12-05.32.06_MD590_2_0140_cropped_patch_locations.txt s3://mousebrainatlas-data/CSHL_patch_features/inception-bn-blue/MD590/MD590-N32-2015.08.03-19.09.53_MD590_3_0094_lossless_alignedTo_MD590-N47-2015.09.12-05.32.06_MD590_2_0140_cropped/MD590-N32-2015.08.03-19.09.53_MD590_3_0094_lossless_alignedTo_MD590-N47-2015.09.12-05.32.06_MD590_2_0140_cropped_patch_locations.txt"
     ]
    },
    {
     "name": "stderr",
     "output_type": "stream",
     "text": [
      "Child returned 0\n",
      "2.78 seconds.\n",
      "Child returned"
     ]
    },
    {
     "name": "stdout",
     "output_type": "stream",
     "text": [
      "\n",
      "rm -rf /media/yuncong/BstemAtlasData/CSHL_data_processed/MD590/MD590_masks_alignedTo_MD590-N47-2015.09.12-05.32.06_MD590_2_0140_cropped/MD590-IHC32-2015.08.10-20.11.29_MD590_3_0094_mask_alignedTo_MD590-N47-2015.09.12-05.32.06_MD590_2_0140_cropped.png && mkdir -p /media/yuncong/BstemAtlasData/CSHL_data_processed/MD590/MD590_masks_alignedTo_MD590-N47-2015.09.12-05.32.06_MD590_2_0140_cropped"
     ]
    },
    {
     "name": "stderr",
     "output_type": "stream",
     "text": [
      " 0\n",
      "1.33 seconds.\n",
      "save: 6.49 seconds\n",
      "\n",
      "Section 165.\n",
      "Child returned"
     ]
    },
    {
     "name": "stdout",
     "output_type": "stream",
     "text": [
      "\n",
      "aws s3 cp s3://mousebrainatlas-data/CSHL_data_processed/MD590/MD590_masks_alignedTo_MD590-N47-2015.09.12-05.32.06_MD590_2_0140_cropped/MD590-IHC32-2015.08.10-20.11.29_MD590_3_0094_mask_alignedTo_MD590-N47-2015.09.12-05.32.06_MD590_2_0140_cropped.png /media/yuncong/BstemAtlasData/CSHL_data_processed/MD590/MD590_masks_alignedTo_MD590-N47-2015.09.12-05.32.06_MD590_2_0140_cropped/MD590-IHC32-2015.08.10-20.11.29_MD590_3_0094_mask_alignedTo_MD590-N47-2015.09.12-05.32.06_MD590_2_0140_cropped.png"
     ]
    },
    {
     "name": "stderr",
     "output_type": "stream",
     "text": [
      " 0\n",
      "Child returned 0\n",
      "1.95 seconds.\n",
      "locate patches: 1.98 seconds\n",
      "47119 samples.\n",
      "load image: 1.50 seconds\n",
      "extract patches: 17.98 seconds\n",
      "predict: 123.46 seconds\n"
     ]
    },
    {
     "name": "stdout",
     "output_type": "stream",
     "text": [
      "\n",
      "aws s3 cp /media/yuncong/BstemAtlasData/CSHL_patch_features/inception-bn-blue/MD590/MD590-IHC32-2015.08.10-20.11.29_MD590_3_0094_lossless_alignedTo_MD590-N47-2015.09.12-05.32.06_MD590_2_0140_cropped/MD590-IHC32-2015.08.10-20.11.29_MD590_3_0094_lossless_alignedTo_MD590-N47-2015.09.12-05.32.06_MD590_2_0140_cropped_features.hdf s3://mousebrainatlas-data/CSHL_patch_features/inception-bn-blue/MD590/MD590-IHC32-2015.08.10-20.11.29_MD590_3_0094_lossless_alignedTo_MD590-N47-2015.09.12-05.32.06_MD590_2_0140_cropped/MD590-IHC32-2015.08.10-20.11.29_MD590_3_0094_lossless_alignedTo_MD590-N47-2015.09.12-05.32.06_MD590_2_0140_cropped_features.hdf\n",
      "aws s3 cp /media/yuncong/BstemAtlasData/CSHL_patch_features/inception-bn-blue/MD590/MD590-IHC32-2015.08.10-20.11.29_MD590_3_0094_lossless_alignedTo_MD590-N47-2015.09.12-05.32.06_MD590_2_0140_cropped/MD590-IHC32-2015.08.10-20.11.29_MD590_3_0094_lossless_alignedTo_MD590-N47-2015.09.12-05.32.06_MD590_2_0140_cropped_patch_locations.txt s3://mousebrainatlas-data/CSHL_patch_features/inception-bn-blue/MD590/MD590-IHC32-2015.08.10-20.11.29_MD590_3_0094_lossless_alignedTo_MD590-N47-2015.09.12-05.32.06_MD590_2_0140_cropped/MD590-IHC32-2015.08.10-20.11.29_MD590_3_0094_lossless_alignedTo_MD590-N47-2015.09.12-05.32.06_MD590_2_0140_cropped_patch_locations.txt"
     ]
    },
    {
     "name": "stderr",
     "output_type": "stream",
     "text": [
      "Child returned 0\n",
      "2.58 seconds.\n",
      "Child returned"
     ]
    },
    {
     "name": "stdout",
     "output_type": "stream",
     "text": [
      "\n",
      "rm -rf /media/yuncong/BstemAtlasData/CSHL_data_processed/MD590/MD590_masks_alignedTo_MD590-N47-2015.09.12-05.32.06_MD590_2_0140_cropped/MD590-N32-2015.08.03-19.09.53_MD590_1_0096_mask_alignedTo_MD590-N47-2015.09.12-05.32.06_MD590_2_0140_cropped.png && mkdir -p /media/yuncong/BstemAtlasData/CSHL_data_processed/MD590/MD590_masks_alignedTo_MD590-N47-2015.09.12-05.32.06_MD590_2_0140_cropped"
     ]
    },
    {
     "name": "stderr",
     "output_type": "stream",
     "text": [
      " 0\n",
      "1.37 seconds.\n",
      "save: 6.35 seconds\n",
      "\n",
      "Section 166.\n",
      "Child returned"
     ]
    },
    {
     "name": "stdout",
     "output_type": "stream",
     "text": [
      "\n",
      "aws s3 cp s3://mousebrainatlas-data/CSHL_data_processed/MD590/MD590_masks_alignedTo_MD590-N47-2015.09.12-05.32.06_MD590_2_0140_cropped/MD590-N32-2015.08.03-19.09.53_MD590_1_0096_mask_alignedTo_MD590-N47-2015.09.12-05.32.06_MD590_2_0140_cropped.png /media/yuncong/BstemAtlasData/CSHL_data_processed/MD590/MD590_masks_alignedTo_MD590-N47-2015.09.12-05.32.06_MD590_2_0140_cropped/MD590-N32-2015.08.03-19.09.53_MD590_1_0096_mask_alignedTo_MD590-N47-2015.09.12-05.32.06_MD590_2_0140_cropped.png"
     ]
    },
    {
     "name": "stderr",
     "output_type": "stream",
     "text": [
      " 0\n",
      "Child returned 0\n",
      "1.93 seconds.\n",
      "locate patches: 1.96 seconds\n",
      "47150 samples.\n",
      "load image: 1.47 seconds\n",
      "extract patches: 17.64 seconds\n",
      "predict: 123.19 seconds\n"
     ]
    },
    {
     "name": "stdout",
     "output_type": "stream",
     "text": [
      "\n",
      "aws s3 cp /media/yuncong/BstemAtlasData/CSHL_patch_features/inception-bn-blue/MD590/MD590-N32-2015.08.03-19.09.53_MD590_1_0096_lossless_alignedTo_MD590-N47-2015.09.12-05.32.06_MD590_2_0140_cropped/MD590-N32-2015.08.03-19.09.53_MD590_1_0096_lossless_alignedTo_MD590-N47-2015.09.12-05.32.06_MD590_2_0140_cropped_features.hdf s3://mousebrainatlas-data/CSHL_patch_features/inception-bn-blue/MD590/MD590-N32-2015.08.03-19.09.53_MD590_1_0096_lossless_alignedTo_MD590-N47-2015.09.12-05.32.06_MD590_2_0140_cropped/MD590-N32-2015.08.03-19.09.53_MD590_1_0096_lossless_alignedTo_MD590-N47-2015.09.12-05.32.06_MD590_2_0140_cropped_features.hdf\n",
      "aws s3 cp /media/yuncong/BstemAtlasData/CSHL_patch_features/inception-bn-blue/MD590/MD590-N32-2015.08.03-19.09.53_MD590_1_0096_lossless_alignedTo_MD590-N47-2015.09.12-05.32.06_MD590_2_0140_cropped/MD590-N32-2015.08.03-19.09.53_MD590_1_0096_lossless_alignedTo_MD590-N47-2015.09.12-05.32.06_MD590_2_0140_cropped_patch_locations.txt s3://mousebrainatlas-data/CSHL_patch_features/inception-bn-blue/MD590/MD590-N32-2015.08.03-19.09.53_MD590_1_0096_lossless_alignedTo_MD590-N47-2015.09.12-05.32.06_MD590_2_0140_cropped/MD590-N32-2015.08.03-19.09.53_MD590_1_0096_lossless_alignedTo_MD590-N47-2015.09.12-05.32.06_MD590_2_0140_cropped_patch_locations.txt"
     ]
    },
    {
     "name": "stderr",
     "output_type": "stream",
     "text": [
      "Child returned 0\n",
      "2.57 seconds.\n",
      "Child returned"
     ]
    },
    {
     "name": "stdout",
     "output_type": "stream",
     "text": [
      "\n",
      "rm -rf /media/yuncong/BstemAtlasData/CSHL_data_processed/MD590/MD590_masks_alignedTo_MD590-N47-2015.09.12-05.32.06_MD590_2_0140_cropped/MD590-IHC32-2015.08.10-20.11.29_MD590_1_0096_mask_alignedTo_MD590-N47-2015.09.12-05.32.06_MD590_2_0140_cropped.png && mkdir -p /media/yuncong/BstemAtlasData/CSHL_data_processed/MD590/MD590_masks_alignedTo_MD590-N47-2015.09.12-05.32.06_MD590_2_0140_cropped"
     ]
    },
    {
     "name": "stderr",
     "output_type": "stream",
     "text": [
      " 0\n",
      "1.30 seconds.\n",
      "save: 6.23 seconds\n",
      "\n",
      "Section 167.\n",
      "Child returned"
     ]
    },
    {
     "name": "stdout",
     "output_type": "stream",
     "text": [
      "\n",
      "aws s3 cp s3://mousebrainatlas-data/CSHL_data_processed/MD590/MD590_masks_alignedTo_MD590-N47-2015.09.12-05.32.06_MD590_2_0140_cropped/MD590-IHC32-2015.08.10-20.11.29_MD590_1_0096_mask_alignedTo_MD590-N47-2015.09.12-05.32.06_MD590_2_0140_cropped.png /media/yuncong/BstemAtlasData/CSHL_data_processed/MD590/MD590_masks_alignedTo_MD590-N47-2015.09.12-05.32.06_MD590_2_0140_cropped/MD590-IHC32-2015.08.10-20.11.29_MD590_1_0096_mask_alignedTo_MD590-N47-2015.09.12-05.32.06_MD590_2_0140_cropped.png"
     ]
    },
    {
     "name": "stderr",
     "output_type": "stream",
     "text": [
      " 0\n",
      "Child returned 0\n",
      "1.78 seconds.\n",
      "locate patches: 1.81 seconds\n",
      "47509 samples.\n",
      "load image: 1.53 seconds\n",
      "extract patches: 18.06 seconds\n",
      "predict: 127.71 seconds\n"
     ]
    },
    {
     "name": "stdout",
     "output_type": "stream",
     "text": [
      "\n",
      "aws s3 cp /media/yuncong/BstemAtlasData/CSHL_patch_features/inception-bn-blue/MD590/MD590-IHC32-2015.08.10-20.11.29_MD590_1_0096_lossless_alignedTo_MD590-N47-2015.09.12-05.32.06_MD590_2_0140_cropped/MD590-IHC32-2015.08.10-20.11.29_MD590_1_0096_lossless_alignedTo_MD590-N47-2015.09.12-05.32.06_MD590_2_0140_cropped_features.hdf s3://mousebrainatlas-data/CSHL_patch_features/inception-bn-blue/MD590/MD590-IHC32-2015.08.10-20.11.29_MD590_1_0096_lossless_alignedTo_MD590-N47-2015.09.12-05.32.06_MD590_2_0140_cropped/MD590-IHC32-2015.08.10-20.11.29_MD590_1_0096_lossless_alignedTo_MD590-N47-2015.09.12-05.32.06_MD590_2_0140_cropped_features.hdf\n",
      "aws s3 cp /media/yuncong/BstemAtlasData/CSHL_patch_features/inception-bn-blue/MD590/MD590-IHC32-2015.08.10-20.11.29_MD590_1_0096_lossless_alignedTo_MD590-N47-2015.09.12-05.32.06_MD590_2_0140_cropped/MD590-IHC32-2015.08.10-20.11.29_MD590_1_0096_lossless_alignedTo_MD590-N47-2015.09.12-05.32.06_MD590_2_0140_cropped_patch_locations.txt s3://mousebrainatlas-data/CSHL_patch_features/inception-bn-blue/MD590/MD590-IHC32-2015.08.10-20.11.29_MD590_1_0096_lossless_alignedTo_MD590-N47-2015.09.12-05.32.06_MD590_2_0140_cropped/MD590-IHC32-2015.08.10-20.11.29_MD590_1_0096_lossless_alignedTo_MD590-N47-2015.09.12-05.32.06_MD590_2_0140_cropped_patch_locations.txt"
     ]
    },
    {
     "name": "stderr",
     "output_type": "stream",
     "text": [
      "Child returned 0\n",
      "2.83 seconds.\n",
      "Child returned"
     ]
    },
    {
     "name": "stdout",
     "output_type": "stream",
     "text": [
      "\n",
      "rm -rf /media/yuncong/BstemAtlasData/CSHL_data_processed/MD590/MD590_masks_alignedTo_MD590-N47-2015.09.12-05.32.06_MD590_2_0140_cropped/MD590-N33-2015.08.03-19.13.48_MD590_3_0097_mask_alignedTo_MD590-N47-2015.09.12-05.32.06_MD590_2_0140_cropped.png && mkdir -p /media/yuncong/BstemAtlasData/CSHL_data_processed/MD590/MD590_masks_alignedTo_MD590-N47-2015.09.12-05.32.06_MD590_2_0140_cropped"
     ]
    },
    {
     "name": "stderr",
     "output_type": "stream",
     "text": [
      " 0\n",
      "1.49 seconds.\n",
      "save: 6.71 seconds\n",
      "\n",
      "Section 168.\n",
      "Child returned"
     ]
    },
    {
     "name": "stdout",
     "output_type": "stream",
     "text": [
      "\n",
      "aws s3 cp s3://mousebrainatlas-data/CSHL_data_processed/MD590/MD590_masks_alignedTo_MD590-N47-2015.09.12-05.32.06_MD590_2_0140_cropped/MD590-N33-2015.08.03-19.13.48_MD590_3_0097_mask_alignedTo_MD590-N47-2015.09.12-05.32.06_MD590_2_0140_cropped.png /media/yuncong/BstemAtlasData/CSHL_data_processed/MD590/MD590_masks_alignedTo_MD590-N47-2015.09.12-05.32.06_MD590_2_0140_cropped/MD590-N33-2015.08.03-19.13.48_MD590_3_0097_mask_alignedTo_MD590-N47-2015.09.12-05.32.06_MD590_2_0140_cropped.png"
     ]
    },
    {
     "name": "stderr",
     "output_type": "stream",
     "text": [
      " 0\n",
      "Child returned 0\n",
      "2.00 seconds.\n",
      "locate patches: 2.03 seconds\n",
      "47261 samples.\n",
      "load image: 1.99 seconds\n",
      "extract patches: 17.42 seconds\n",
      "predict: 126.42 seconds\n"
     ]
    },
    {
     "name": "stdout",
     "output_type": "stream",
     "text": [
      "\n",
      "aws s3 cp /media/yuncong/BstemAtlasData/CSHL_patch_features/inception-bn-blue/MD590/MD590-N33-2015.08.03-19.13.48_MD590_3_0097_lossless_alignedTo_MD590-N47-2015.09.12-05.32.06_MD590_2_0140_cropped/MD590-N33-2015.08.03-19.13.48_MD590_3_0097_lossless_alignedTo_MD590-N47-2015.09.12-05.32.06_MD590_2_0140_cropped_features.hdf s3://mousebrainatlas-data/CSHL_patch_features/inception-bn-blue/MD590/MD590-N33-2015.08.03-19.13.48_MD590_3_0097_lossless_alignedTo_MD590-N47-2015.09.12-05.32.06_MD590_2_0140_cropped/MD590-N33-2015.08.03-19.13.48_MD590_3_0097_lossless_alignedTo_MD590-N47-2015.09.12-05.32.06_MD590_2_0140_cropped_features.hdf\n",
      "aws s3 cp /media/yuncong/BstemAtlasData/CSHL_patch_features/inception-bn-blue/MD590/MD590-N33-2015.08.03-19.13.48_MD590_3_0097_lossless_alignedTo_MD590-N47-2015.09.12-05.32.06_MD590_2_0140_cropped/MD590-N33-2015.08.03-19.13.48_MD590_3_0097_lossless_alignedTo_MD590-N47-2015.09.12-05.32.06_MD590_2_0140_cropped_patch_locations.txt s3://mousebrainatlas-data/CSHL_patch_features/inception-bn-blue/MD590/MD590-N33-2015.08.03-19.13.48_MD590_3_0097_lossless_alignedTo_MD590-N47-2015.09.12-05.32.06_MD590_2_0140_cropped/MD590-N33-2015.08.03-19.13.48_MD590_3_0097_lossless_alignedTo_MD590-N47-2015.09.12-05.32.06_MD590_2_0140_cropped_patch_locations.txt"
     ]
    },
    {
     "name": "stderr",
     "output_type": "stream",
     "text": [
      "Child returned 0\n",
      "2.78 seconds.\n",
      "Child returned"
     ]
    },
    {
     "name": "stdout",
     "output_type": "stream",
     "text": [
      "\n",
      "rm -rf /media/yuncong/BstemAtlasData/CSHL_data_processed/MD590/MD590_masks_alignedTo_MD590-N47-2015.09.12-05.32.06_MD590_2_0140_cropped/MD590-IHC33-2015.08.10-20.15.47_MD590_2_0098_mask_alignedTo_MD590-N47-2015.09.12-05.32.06_MD590_2_0140_cropped.png && mkdir -p /media/yuncong/BstemAtlasData/CSHL_data_processed/MD590/MD590_masks_alignedTo_MD590-N47-2015.09.12-05.32.06_MD590_2_0140_cropped"
     ]
    },
    {
     "name": "stderr",
     "output_type": "stream",
     "text": [
      " 0\n",
      "1.37 seconds.\n",
      "save: 6.49 seconds\n",
      "\n",
      "Section 169.\n",
      "Child returned"
     ]
    },
    {
     "name": "stdout",
     "output_type": "stream",
     "text": [
      "\n",
      "aws s3 cp s3://mousebrainatlas-data/CSHL_data_processed/MD590/MD590_masks_alignedTo_MD590-N47-2015.09.12-05.32.06_MD590_2_0140_cropped/MD590-IHC33-2015.08.10-20.15.47_MD590_2_0098_mask_alignedTo_MD590-N47-2015.09.12-05.32.06_MD590_2_0140_cropped.png /media/yuncong/BstemAtlasData/CSHL_data_processed/MD590/MD590_masks_alignedTo_MD590-N47-2015.09.12-05.32.06_MD590_2_0140_cropped/MD590-IHC33-2015.08.10-20.15.47_MD590_2_0098_mask_alignedTo_MD590-N47-2015.09.12-05.32.06_MD590_2_0140_cropped.png"
     ]
    },
    {
     "name": "stderr",
     "output_type": "stream",
     "text": [
      " 0\n",
      "Child returned 0\n",
      "2.09 seconds.\n",
      "locate patches: 2.12 seconds\n",
      "47646 samples.\n",
      "load image: 1.48 seconds\n",
      "extract patches: 17.99 seconds\n",
      "predict: 124.30 seconds\n"
     ]
    },
    {
     "name": "stdout",
     "output_type": "stream",
     "text": [
      "\n",
      "aws s3 cp /media/yuncong/BstemAtlasData/CSHL_patch_features/inception-bn-blue/MD590/MD590-IHC33-2015.08.10-20.15.47_MD590_2_0098_lossless_alignedTo_MD590-N47-2015.09.12-05.32.06_MD590_2_0140_cropped/MD590-IHC33-2015.08.10-20.15.47_MD590_2_0098_lossless_alignedTo_MD590-N47-2015.09.12-05.32.06_MD590_2_0140_cropped_features.hdf s3://mousebrainatlas-data/CSHL_patch_features/inception-bn-blue/MD590/MD590-IHC33-2015.08.10-20.15.47_MD590_2_0098_lossless_alignedTo_MD590-N47-2015.09.12-05.32.06_MD590_2_0140_cropped/MD590-IHC33-2015.08.10-20.15.47_MD590_2_0098_lossless_alignedTo_MD590-N47-2015.09.12-05.32.06_MD590_2_0140_cropped_features.hdf\n",
      "aws s3 cp /media/yuncong/BstemAtlasData/CSHL_patch_features/inception-bn-blue/MD590/MD590-IHC33-2015.08.10-20.15.47_MD590_2_0098_lossless_alignedTo_MD590-N47-2015.09.12-05.32.06_MD590_2_0140_cropped/MD590-IHC33-2015.08.10-20.15.47_MD590_2_0098_lossless_alignedTo_MD590-N47-2015.09.12-05.32.06_MD590_2_0140_cropped_patch_locations.txt s3://mousebrainatlas-data/CSHL_patch_features/inception-bn-blue/MD590/MD590-IHC33-2015.08.10-20.15.47_MD590_2_0098_lossless_alignedTo_MD590-N47-2015.09.12-05.32.06_MD590_2_0140_cropped/MD590-IHC33-2015.08.10-20.15.47_MD590_2_0098_lossless_alignedTo_MD590-N47-2015.09.12-05.32.06_MD590_2_0140_cropped_patch_locations.txt"
     ]
    },
    {
     "name": "stderr",
     "output_type": "stream",
     "text": [
      "Child returned 0\n",
      "2.54 seconds.\n",
      "Child returned"
     ]
    },
    {
     "name": "stdout",
     "output_type": "stream",
     "text": [
      "\n",
      "rm -rf /media/yuncong/BstemAtlasData/CSHL_data_processed/MD590/MD590_masks_alignedTo_MD590-N47-2015.09.12-05.32.06_MD590_2_0140_cropped/MD590-N33-2015.08.03-19.13.48_MD590_1_0099_mask_alignedTo_MD590-N47-2015.09.12-05.32.06_MD590_2_0140_cropped.png && mkdir -p /media/yuncong/BstemAtlasData/CSHL_data_processed/MD590/MD590_masks_alignedTo_MD590-N47-2015.09.12-05.32.06_MD590_2_0140_cropped"
     ]
    },
    {
     "name": "stderr",
     "output_type": "stream",
     "text": [
      " 0\n",
      "1.28 seconds.\n",
      "save: 5.98 seconds\n",
      "\n",
      "Section 170.\n",
      "Child returned"
     ]
    },
    {
     "name": "stdout",
     "output_type": "stream",
     "text": [
      "\n",
      "aws s3 cp s3://mousebrainatlas-data/CSHL_data_processed/MD590/MD590_masks_alignedTo_MD590-N47-2015.09.12-05.32.06_MD590_2_0140_cropped/MD590-N33-2015.08.03-19.13.48_MD590_1_0099_mask_alignedTo_MD590-N47-2015.09.12-05.32.06_MD590_2_0140_cropped.png /media/yuncong/BstemAtlasData/CSHL_data_processed/MD590/MD590_masks_alignedTo_MD590-N47-2015.09.12-05.32.06_MD590_2_0140_cropped/MD590-N33-2015.08.03-19.13.48_MD590_1_0099_mask_alignedTo_MD590-N47-2015.09.12-05.32.06_MD590_2_0140_cropped.png"
     ]
    },
    {
     "name": "stderr",
     "output_type": "stream",
     "text": [
      " 0\n",
      "Child returned 0\n",
      "1.85 seconds.\n",
      "locate patches: 1.88 seconds\n",
      "47541 samples.\n",
      "load image: 1.47 seconds\n",
      "extract patches: 17.61 seconds\n",
      "predict: 123.06 seconds\n"
     ]
    },
    {
     "name": "stdout",
     "output_type": "stream",
     "text": [
      "\n",
      "aws s3 cp /media/yuncong/BstemAtlasData/CSHL_patch_features/inception-bn-blue/MD590/MD590-N33-2015.08.03-19.13.48_MD590_1_0099_lossless_alignedTo_MD590-N47-2015.09.12-05.32.06_MD590_2_0140_cropped/MD590-N33-2015.08.03-19.13.48_MD590_1_0099_lossless_alignedTo_MD590-N47-2015.09.12-05.32.06_MD590_2_0140_cropped_features.hdf s3://mousebrainatlas-data/CSHL_patch_features/inception-bn-blue/MD590/MD590-N33-2015.08.03-19.13.48_MD590_1_0099_lossless_alignedTo_MD590-N47-2015.09.12-05.32.06_MD590_2_0140_cropped/MD590-N33-2015.08.03-19.13.48_MD590_1_0099_lossless_alignedTo_MD590-N47-2015.09.12-05.32.06_MD590_2_0140_cropped_features.hdf\n",
      "aws s3 cp /media/yuncong/BstemAtlasData/CSHL_patch_features/inception-bn-blue/MD590/MD590-N33-2015.08.03-19.13.48_MD590_1_0099_lossless_alignedTo_MD590-N47-2015.09.12-05.32.06_MD590_2_0140_cropped/MD590-N33-2015.08.03-19.13.48_MD590_1_0099_lossless_alignedTo_MD590-N47-2015.09.12-05.32.06_MD590_2_0140_cropped_patch_locations.txt s3://mousebrainatlas-data/CSHL_patch_features/inception-bn-blue/MD590/MD590-N33-2015.08.03-19.13.48_MD590_1_0099_lossless_alignedTo_MD590-N47-2015.09.12-05.32.06_MD590_2_0140_cropped/MD590-N33-2015.08.03-19.13.48_MD590_1_0099_lossless_alignedTo_MD590-N47-2015.09.12-05.32.06_MD590_2_0140_cropped_patch_locations.txt"
     ]
    },
    {
     "name": "stderr",
     "output_type": "stream",
     "text": [
      "Child returned 0\n",
      "2.52 seconds.\n",
      "Child returned"
     ]
    },
    {
     "name": "stdout",
     "output_type": "stream",
     "text": [
      "\n",
      "rm -rf /media/yuncong/BstemAtlasData/CSHL_data_processed/MD590/MD590_masks_alignedTo_MD590-N47-2015.09.12-05.32.06_MD590_2_0140_cropped/MD590-IHC33-2015.08.10-20.15.47_MD590_1_0099_mask_alignedTo_MD590-N47-2015.09.12-05.32.06_MD590_2_0140_cropped.png && mkdir -p /media/yuncong/BstemAtlasData/CSHL_data_processed/MD590/MD590_masks_alignedTo_MD590-N47-2015.09.12-05.32.06_MD590_2_0140_cropped"
     ]
    },
    {
     "name": "stderr",
     "output_type": "stream",
     "text": [
      " 0\n",
      "1.29 seconds.\n",
      "save: 6.19 seconds\n",
      "\n",
      "Section 171.\n",
      "Child returned"
     ]
    },
    {
     "name": "stdout",
     "output_type": "stream",
     "text": [
      "\n",
      "aws s3 cp s3://mousebrainatlas-data/CSHL_data_processed/MD590/MD590_masks_alignedTo_MD590-N47-2015.09.12-05.32.06_MD590_2_0140_cropped/MD590-IHC33-2015.08.10-20.15.47_MD590_1_0099_mask_alignedTo_MD590-N47-2015.09.12-05.32.06_MD590_2_0140_cropped.png /media/yuncong/BstemAtlasData/CSHL_data_processed/MD590/MD590_masks_alignedTo_MD590-N47-2015.09.12-05.32.06_MD590_2_0140_cropped/MD590-IHC33-2015.08.10-20.15.47_MD590_1_0099_mask_alignedTo_MD590-N47-2015.09.12-05.32.06_MD590_2_0140_cropped.png"
     ]
    },
    {
     "name": "stderr",
     "output_type": "stream",
     "text": [
      " 0\n",
      "Child returned 0\n",
      "1.93 seconds.\n",
      "locate patches: 1.96 seconds\n",
      "48045 samples.\n",
      "load image: 1.56 seconds\n",
      "extract patches: 18.17 seconds\n",
      "predict: 124.37 seconds\n"
     ]
    },
    {
     "name": "stdout",
     "output_type": "stream",
     "text": [
      "\n",
      "aws s3 cp /media/yuncong/BstemAtlasData/CSHL_patch_features/inception-bn-blue/MD590/MD590-IHC33-2015.08.10-20.15.47_MD590_1_0099_lossless_alignedTo_MD590-N47-2015.09.12-05.32.06_MD590_2_0140_cropped/MD590-IHC33-2015.08.10-20.15.47_MD590_1_0099_lossless_alignedTo_MD590-N47-2015.09.12-05.32.06_MD590_2_0140_cropped_features.hdf s3://mousebrainatlas-data/CSHL_patch_features/inception-bn-blue/MD590/MD590-IHC33-2015.08.10-20.15.47_MD590_1_0099_lossless_alignedTo_MD590-N47-2015.09.12-05.32.06_MD590_2_0140_cropped/MD590-IHC33-2015.08.10-20.15.47_MD590_1_0099_lossless_alignedTo_MD590-N47-2015.09.12-05.32.06_MD590_2_0140_cropped_features.hdf\n",
      "aws s3 cp /media/yuncong/BstemAtlasData/CSHL_patch_features/inception-bn-blue/MD590/MD590-IHC33-2015.08.10-20.15.47_MD590_1_0099_lossless_alignedTo_MD590-N47-2015.09.12-05.32.06_MD590_2_0140_cropped/MD590-IHC33-2015.08.10-20.15.47_MD590_1_0099_lossless_alignedTo_MD590-N47-2015.09.12-05.32.06_MD590_2_0140_cropped_patch_locations.txt s3://mousebrainatlas-data/CSHL_patch_features/inception-bn-blue/MD590/MD590-IHC33-2015.08.10-20.15.47_MD590_1_0099_lossless_alignedTo_MD590-N47-2015.09.12-05.32.06_MD590_2_0140_cropped/MD590-IHC33-2015.08.10-20.15.47_MD590_1_0099_lossless_alignedTo_MD590-N47-2015.09.12-05.32.06_MD590_2_0140_cropped_patch_locations.txt"
     ]
    },
    {
     "name": "stderr",
     "output_type": "stream",
     "text": [
      "Child returned 0\n",
      "2.64 seconds.\n",
      "Child returned"
     ]
    },
    {
     "name": "stdout",
     "output_type": "stream",
     "text": [
      "\n",
      "rm -rf /media/yuncong/BstemAtlasData/CSHL_data_processed/MD590/MD590_masks_alignedTo_MD590-N47-2015.09.12-05.32.06_MD590_2_0140_cropped/MD590-N34-2015.08.03-19.17.57_MD590_3_0100_mask_alignedTo_MD590-N47-2015.09.12-05.32.06_MD590_2_0140_cropped.png && mkdir -p /media/yuncong/BstemAtlasData/CSHL_data_processed/MD590/MD590_masks_alignedTo_MD590-N47-2015.09.12-05.32.06_MD590_2_0140_cropped"
     ]
    },
    {
     "name": "stderr",
     "output_type": "stream",
     "text": [
      " 0\n",
      "1.31 seconds.\n",
      "save: 6.35 seconds\n",
      "\n",
      "Section 172.\n",
      "Child returned"
     ]
    },
    {
     "name": "stdout",
     "output_type": "stream",
     "text": [
      "\n",
      "aws s3 cp s3://mousebrainatlas-data/CSHL_data_processed/MD590/MD590_masks_alignedTo_MD590-N47-2015.09.12-05.32.06_MD590_2_0140_cropped/MD590-N34-2015.08.03-19.17.57_MD590_3_0100_mask_alignedTo_MD590-N47-2015.09.12-05.32.06_MD590_2_0140_cropped.png /media/yuncong/BstemAtlasData/CSHL_data_processed/MD590/MD590_masks_alignedTo_MD590-N47-2015.09.12-05.32.06_MD590_2_0140_cropped/MD590-N34-2015.08.03-19.17.57_MD590_3_0100_mask_alignedTo_MD590-N47-2015.09.12-05.32.06_MD590_2_0140_cropped.png"
     ]
    },
    {
     "name": "stderr",
     "output_type": "stream",
     "text": [
      " 0\n",
      "Child returned 0\n",
      "1.79 seconds.\n",
      "locate patches: 1.82 seconds\n",
      "47629 samples.\n",
      "load image: 1.49 seconds\n",
      "extract patches: 17.52 seconds\n",
      "predict: 123.65 seconds\n"
     ]
    },
    {
     "name": "stdout",
     "output_type": "stream",
     "text": [
      "\n",
      "aws s3 cp /media/yuncong/BstemAtlasData/CSHL_patch_features/inception-bn-blue/MD590/MD590-N34-2015.08.03-19.17.57_MD590_3_0100_lossless_alignedTo_MD590-N47-2015.09.12-05.32.06_MD590_2_0140_cropped/MD590-N34-2015.08.03-19.17.57_MD590_3_0100_lossless_alignedTo_MD590-N47-2015.09.12-05.32.06_MD590_2_0140_cropped_features.hdf s3://mousebrainatlas-data/CSHL_patch_features/inception-bn-blue/MD590/MD590-N34-2015.08.03-19.17.57_MD590_3_0100_lossless_alignedTo_MD590-N47-2015.09.12-05.32.06_MD590_2_0140_cropped/MD590-N34-2015.08.03-19.17.57_MD590_3_0100_lossless_alignedTo_MD590-N47-2015.09.12-05.32.06_MD590_2_0140_cropped_features.hdf\n",
      "aws s3 cp /media/yuncong/BstemAtlasData/CSHL_patch_features/inception-bn-blue/MD590/MD590-N34-2015.08.03-19.17.57_MD590_3_0100_lossless_alignedTo_MD590-N47-2015.09.12-05.32.06_MD590_2_0140_cropped/MD590-N34-2015.08.03-19.17.57_MD590_3_0100_lossless_alignedTo_MD590-N47-2015.09.12-05.32.06_MD590_2_0140_cropped_patch_locations.txt s3://mousebrainatlas-data/CSHL_patch_features/inception-bn-blue/MD590/MD590-N34-2015.08.03-19.17.57_MD590_3_0100_lossless_alignedTo_MD590-N47-2015.09.12-05.32.06_MD590_2_0140_cropped/MD590-N34-2015.08.03-19.17.57_MD590_3_0100_lossless_alignedTo_MD590-N47-2015.09.12-05.32.06_MD590_2_0140_cropped_patch_locations.txt"
     ]
    },
    {
     "name": "stderr",
     "output_type": "stream",
     "text": [
      "Child returned 0\n",
      "2.74 seconds.\n",
      "Child returned"
     ]
    },
    {
     "name": "stdout",
     "output_type": "stream",
     "text": [
      "\n",
      "rm -rf /media/yuncong/BstemAtlasData/CSHL_data_processed/MD590/MD590_masks_alignedTo_MD590-N47-2015.09.12-05.32.06_MD590_2_0140_cropped/MD590-IHC34-2015.08.10-20.20.03_MD590_3_0100_mask_alignedTo_MD590-N47-2015.09.12-05.32.06_MD590_2_0140_cropped.png && mkdir -p /media/yuncong/BstemAtlasData/CSHL_data_processed/MD590/MD590_masks_alignedTo_MD590-N47-2015.09.12-05.32.06_MD590_2_0140_cropped"
     ]
    },
    {
     "name": "stderr",
     "output_type": "stream",
     "text": [
      " 0\n",
      "1.34 seconds.\n",
      "save: 6.44 seconds\n",
      "\n",
      "Section 173.\n",
      "Child returned"
     ]
    },
    {
     "name": "stdout",
     "output_type": "stream",
     "text": [
      "\n",
      "aws s3 cp s3://mousebrainatlas-data/CSHL_data_processed/MD590/MD590_masks_alignedTo_MD590-N47-2015.09.12-05.32.06_MD590_2_0140_cropped/MD590-IHC34-2015.08.10-20.20.03_MD590_3_0100_mask_alignedTo_MD590-N47-2015.09.12-05.32.06_MD590_2_0140_cropped.png /media/yuncong/BstemAtlasData/CSHL_data_processed/MD590/MD590_masks_alignedTo_MD590-N47-2015.09.12-05.32.06_MD590_2_0140_cropped/MD590-IHC34-2015.08.10-20.20.03_MD590_3_0100_mask_alignedTo_MD590-N47-2015.09.12-05.32.06_MD590_2_0140_cropped.png"
     ]
    },
    {
     "name": "stderr",
     "output_type": "stream",
     "text": [
      " 0\n",
      "Child returned 0\n",
      "1.81 seconds.\n",
      "locate patches: 1.83 seconds\n",
      "48167 samples.\n",
      "load image: 1.50 seconds\n",
      "extract patches: 18.07 seconds\n",
      "predict: 124.97 seconds\n"
     ]
    },
    {
     "name": "stdout",
     "output_type": "stream",
     "text": [
      "\n",
      "aws s3 cp /media/yuncong/BstemAtlasData/CSHL_patch_features/inception-bn-blue/MD590/MD590-IHC34-2015.08.10-20.20.03_MD590_3_0100_lossless_alignedTo_MD590-N47-2015.09.12-05.32.06_MD590_2_0140_cropped/MD590-IHC34-2015.08.10-20.20.03_MD590_3_0100_lossless_alignedTo_MD590-N47-2015.09.12-05.32.06_MD590_2_0140_cropped_features.hdf s3://mousebrainatlas-data/CSHL_patch_features/inception-bn-blue/MD590/MD590-IHC34-2015.08.10-20.20.03_MD590_3_0100_lossless_alignedTo_MD590-N47-2015.09.12-05.32.06_MD590_2_0140_cropped/MD590-IHC34-2015.08.10-20.20.03_MD590_3_0100_lossless_alignedTo_MD590-N47-2015.09.12-05.32.06_MD590_2_0140_cropped_features.hdf\n",
      "aws s3 cp /media/yuncong/BstemAtlasData/CSHL_patch_features/inception-bn-blue/MD590/MD590-IHC34-2015.08.10-20.20.03_MD590_3_0100_lossless_alignedTo_MD590-N47-2015.09.12-05.32.06_MD590_2_0140_cropped/MD590-IHC34-2015.08.10-20.20.03_MD590_3_0100_lossless_alignedTo_MD590-N47-2015.09.12-05.32.06_MD590_2_0140_cropped_patch_locations.txt s3://mousebrainatlas-data/CSHL_patch_features/inception-bn-blue/MD590/MD590-IHC34-2015.08.10-20.20.03_MD590_3_0100_lossless_alignedTo_MD590-N47-2015.09.12-05.32.06_MD590_2_0140_cropped/MD590-IHC34-2015.08.10-20.20.03_MD590_3_0100_lossless_alignedTo_MD590-N47-2015.09.12-05.32.06_MD590_2_0140_cropped_patch_locations.txt"
     ]
    },
    {
     "name": "stderr",
     "output_type": "stream",
     "text": [
      "Child returned 0\n",
      "2.60 seconds.\n",
      "Child returned"
     ]
    },
    {
     "name": "stdout",
     "output_type": "stream",
     "text": [
      "\n",
      "rm -rf /media/yuncong/BstemAtlasData/CSHL_data_processed/MD590/MD590_masks_alignedTo_MD590-N47-2015.09.12-05.32.06_MD590_2_0140_cropped/MD590-N34-2015.08.03-19.17.57_MD590_1_0102_mask_alignedTo_MD590-N47-2015.09.12-05.32.06_MD590_2_0140_cropped.png && mkdir -p /media/yuncong/BstemAtlasData/CSHL_data_processed/MD590/MD590_masks_alignedTo_MD590-N47-2015.09.12-05.32.06_MD590_2_0140_cropped"
     ]
    },
    {
     "name": "stderr",
     "output_type": "stream",
     "text": [
      " 0\n",
      "1.33 seconds.\n",
      "save: 6.31 seconds\n",
      "\n",
      "Section 174.\n",
      "Child returned"
     ]
    },
    {
     "name": "stdout",
     "output_type": "stream",
     "text": [
      "\n",
      "aws s3 cp s3://mousebrainatlas-data/CSHL_data_processed/MD590/MD590_masks_alignedTo_MD590-N47-2015.09.12-05.32.06_MD590_2_0140_cropped/MD590-N34-2015.08.03-19.17.57_MD590_1_0102_mask_alignedTo_MD590-N47-2015.09.12-05.32.06_MD590_2_0140_cropped.png /media/yuncong/BstemAtlasData/CSHL_data_processed/MD590/MD590_masks_alignedTo_MD590-N47-2015.09.12-05.32.06_MD590_2_0140_cropped/MD590-N34-2015.08.03-19.17.57_MD590_1_0102_mask_alignedTo_MD590-N47-2015.09.12-05.32.06_MD590_2_0140_cropped.png"
     ]
    },
    {
     "name": "stderr",
     "output_type": "stream",
     "text": [
      " 0\n",
      "Child returned 0\n",
      "1.85 seconds.\n",
      "locate patches: 1.87 seconds\n",
      "47888 samples.\n",
      "load image: 1.50 seconds\n",
      "extract patches: 17.60 seconds\n",
      "predict: 124.14 seconds\n"
     ]
    },
    {
     "name": "stdout",
     "output_type": "stream",
     "text": [
      "\n",
      "aws s3 cp /media/yuncong/BstemAtlasData/CSHL_patch_features/inception-bn-blue/MD590/MD590-N34-2015.08.03-19.17.57_MD590_1_0102_lossless_alignedTo_MD590-N47-2015.09.12-05.32.06_MD590_2_0140_cropped/MD590-N34-2015.08.03-19.17.57_MD590_1_0102_lossless_alignedTo_MD590-N47-2015.09.12-05.32.06_MD590_2_0140_cropped_features.hdf s3://mousebrainatlas-data/CSHL_patch_features/inception-bn-blue/MD590/MD590-N34-2015.08.03-19.17.57_MD590_1_0102_lossless_alignedTo_MD590-N47-2015.09.12-05.32.06_MD590_2_0140_cropped/MD590-N34-2015.08.03-19.17.57_MD590_1_0102_lossless_alignedTo_MD590-N47-2015.09.12-05.32.06_MD590_2_0140_cropped_features.hdf\n",
      "aws s3 cp /media/yuncong/BstemAtlasData/CSHL_patch_features/inception-bn-blue/MD590/MD590-N34-2015.08.03-19.17.57_MD590_1_0102_lossless_alignedTo_MD590-N47-2015.09.12-05.32.06_MD590_2_0140_cropped/MD590-N34-2015.08.03-19.17.57_MD590_1_0102_lossless_alignedTo_MD590-N47-2015.09.12-05.32.06_MD590_2_0140_cropped_patch_locations.txt s3://mousebrainatlas-data/CSHL_patch_features/inception-bn-blue/MD590/MD590-N34-2015.08.03-19.17.57_MD590_1_0102_lossless_alignedTo_MD590-N47-2015.09.12-05.32.06_MD590_2_0140_cropped/MD590-N34-2015.08.03-19.17.57_MD590_1_0102_lossless_alignedTo_MD590-N47-2015.09.12-05.32.06_MD590_2_0140_cropped_patch_locations.txt"
     ]
    },
    {
     "name": "stderr",
     "output_type": "stream",
     "text": [
      "Child returned 0\n",
      "2.87 seconds.\n",
      "Child returned"
     ]
    },
    {
     "name": "stdout",
     "output_type": "stream",
     "text": [
      "\n",
      "rm -rf /media/yuncong/BstemAtlasData/CSHL_data_processed/MD590/MD590_masks_alignedTo_MD590-N47-2015.09.12-05.32.06_MD590_2_0140_cropped/MD590-IHC34-2015.08.10-20.20.03_MD590_1_0102_mask_alignedTo_MD590-N47-2015.09.12-05.32.06_MD590_2_0140_cropped.png && mkdir -p /media/yuncong/BstemAtlasData/CSHL_data_processed/MD590/MD590_masks_alignedTo_MD590-N47-2015.09.12-05.32.06_MD590_2_0140_cropped"
     ]
    },
    {
     "name": "stderr",
     "output_type": "stream",
     "text": [
      " 0\n",
      "1.28 seconds.\n",
      "save: 6.51 seconds\n",
      "\n",
      "Section 175.\n",
      "Child returned"
     ]
    },
    {
     "name": "stdout",
     "output_type": "stream",
     "text": [
      "\n",
      "aws s3 cp s3://mousebrainatlas-data/CSHL_data_processed/MD590/MD590_masks_alignedTo_MD590-N47-2015.09.12-05.32.06_MD590_2_0140_cropped/MD590-IHC34-2015.08.10-20.20.03_MD590_1_0102_mask_alignedTo_MD590-N47-2015.09.12-05.32.06_MD590_2_0140_cropped.png /media/yuncong/BstemAtlasData/CSHL_data_processed/MD590/MD590_masks_alignedTo_MD590-N47-2015.09.12-05.32.06_MD590_2_0140_cropped/MD590-IHC34-2015.08.10-20.20.03_MD590_1_0102_mask_alignedTo_MD590-N47-2015.09.12-05.32.06_MD590_2_0140_cropped.png"
     ]
    },
    {
     "name": "stderr",
     "output_type": "stream",
     "text": [
      " 0\n",
      "Child returned 0\n",
      "1.90 seconds.\n",
      "locate patches: 1.93 seconds\n",
      "47919 samples.\n",
      "load image: 1.53 seconds\n",
      "extract patches: 17.74 seconds\n",
      "predict: 124.55 seconds\n"
     ]
    },
    {
     "name": "stdout",
     "output_type": "stream",
     "text": [
      "\n",
      "aws s3 cp /media/yuncong/BstemAtlasData/CSHL_patch_features/inception-bn-blue/MD590/MD590-IHC34-2015.08.10-20.20.03_MD590_1_0102_lossless_alignedTo_MD590-N47-2015.09.12-05.32.06_MD590_2_0140_cropped/MD590-IHC34-2015.08.10-20.20.03_MD590_1_0102_lossless_alignedTo_MD590-N47-2015.09.12-05.32.06_MD590_2_0140_cropped_features.hdf s3://mousebrainatlas-data/CSHL_patch_features/inception-bn-blue/MD590/MD590-IHC34-2015.08.10-20.20.03_MD590_1_0102_lossless_alignedTo_MD590-N47-2015.09.12-05.32.06_MD590_2_0140_cropped/MD590-IHC34-2015.08.10-20.20.03_MD590_1_0102_lossless_alignedTo_MD590-N47-2015.09.12-05.32.06_MD590_2_0140_cropped_features.hdf\n",
      "aws s3 cp /media/yuncong/BstemAtlasData/CSHL_patch_features/inception-bn-blue/MD590/MD590-IHC34-2015.08.10-20.20.03_MD590_1_0102_lossless_alignedTo_MD590-N47-2015.09.12-05.32.06_MD590_2_0140_cropped/MD590-IHC34-2015.08.10-20.20.03_MD590_1_0102_lossless_alignedTo_MD590-N47-2015.09.12-05.32.06_MD590_2_0140_cropped_patch_locations.txt s3://mousebrainatlas-data/CSHL_patch_features/inception-bn-blue/MD590/MD590-IHC34-2015.08.10-20.20.03_MD590_1_0102_lossless_alignedTo_MD590-N47-2015.09.12-05.32.06_MD590_2_0140_cropped/MD590-IHC34-2015.08.10-20.20.03_MD590_1_0102_lossless_alignedTo_MD590-N47-2015.09.12-05.32.06_MD590_2_0140_cropped_patch_locations.txt"
     ]
    },
    {
     "name": "stderr",
     "output_type": "stream",
     "text": [
      "Child returned 0\n",
      "2.94 seconds.\n",
      "Child returned"
     ]
    },
    {
     "name": "stdout",
     "output_type": "stream",
     "text": [
      "\n",
      "rm -rf /media/yuncong/BstemAtlasData/CSHL_data_processed/MD590/MD590_masks_alignedTo_MD590-N47-2015.09.12-05.32.06_MD590_2_0140_cropped/MD590-N35-2015.08.03-19.21.58_MD590_3_0103_mask_alignedTo_MD590-N47-2015.09.12-05.32.06_MD590_2_0140_cropped.png && mkdir -p /media/yuncong/BstemAtlasData/CSHL_data_processed/MD590/MD590_masks_alignedTo_MD590-N47-2015.09.12-05.32.06_MD590_2_0140_cropped"
     ]
    },
    {
     "name": "stderr",
     "output_type": "stream",
     "text": [
      " 0\n",
      "1.38 seconds.\n",
      "save: 6.77 seconds\n",
      "\n",
      "Section 176.\n",
      "Child returned"
     ]
    },
    {
     "name": "stdout",
     "output_type": "stream",
     "text": [
      "\n",
      "aws s3 cp s3://mousebrainatlas-data/CSHL_data_processed/MD590/MD590_masks_alignedTo_MD590-N47-2015.09.12-05.32.06_MD590_2_0140_cropped/MD590-N35-2015.08.03-19.21.58_MD590_3_0103_mask_alignedTo_MD590-N47-2015.09.12-05.32.06_MD590_2_0140_cropped.png /media/yuncong/BstemAtlasData/CSHL_data_processed/MD590/MD590_masks_alignedTo_MD590-N47-2015.09.12-05.32.06_MD590_2_0140_cropped/MD590-N35-2015.08.03-19.21.58_MD590_3_0103_mask_alignedTo_MD590-N47-2015.09.12-05.32.06_MD590_2_0140_cropped.png"
     ]
    },
    {
     "name": "stderr",
     "output_type": "stream",
     "text": [
      " 0\n",
      "Child returned 0\n",
      "1.81 seconds.\n",
      "locate patches: 1.84 seconds\n",
      "48065 samples.\n",
      "load image: 1.85 seconds\n",
      "extract patches: 18.29 seconds\n",
      "predict: 124.52 seconds\n"
     ]
    },
    {
     "name": "stdout",
     "output_type": "stream",
     "text": [
      "\n",
      "aws s3 cp /media/yuncong/BstemAtlasData/CSHL_patch_features/inception-bn-blue/MD590/MD590-N35-2015.08.03-19.21.58_MD590_3_0103_lossless_alignedTo_MD590-N47-2015.09.12-05.32.06_MD590_2_0140_cropped/MD590-N35-2015.08.03-19.21.58_MD590_3_0103_lossless_alignedTo_MD590-N47-2015.09.12-05.32.06_MD590_2_0140_cropped_features.hdf s3://mousebrainatlas-data/CSHL_patch_features/inception-bn-blue/MD590/MD590-N35-2015.08.03-19.21.58_MD590_3_0103_lossless_alignedTo_MD590-N47-2015.09.12-05.32.06_MD590_2_0140_cropped/MD590-N35-2015.08.03-19.21.58_MD590_3_0103_lossless_alignedTo_MD590-N47-2015.09.12-05.32.06_MD590_2_0140_cropped_features.hdf\n",
      "aws s3 cp /media/yuncong/BstemAtlasData/CSHL_patch_features/inception-bn-blue/MD590/MD590-N35-2015.08.03-19.21.58_MD590_3_0103_lossless_alignedTo_MD590-N47-2015.09.12-05.32.06_MD590_2_0140_cropped/MD590-N35-2015.08.03-19.21.58_MD590_3_0103_lossless_alignedTo_MD590-N47-2015.09.12-05.32.06_MD590_2_0140_cropped_patch_locations.txt s3://mousebrainatlas-data/CSHL_patch_features/inception-bn-blue/MD590/MD590-N35-2015.08.03-19.21.58_MD590_3_0103_lossless_alignedTo_MD590-N47-2015.09.12-05.32.06_MD590_2_0140_cropped/MD590-N35-2015.08.03-19.21.58_MD590_3_0103_lossless_alignedTo_MD590-N47-2015.09.12-05.32.06_MD590_2_0140_cropped_patch_locations.txt"
     ]
    },
    {
     "name": "stderr",
     "output_type": "stream",
     "text": [
      "Child returned 0\n",
      "2.62 seconds.\n",
      "Child returned"
     ]
    },
    {
     "name": "stdout",
     "output_type": "stream",
     "text": [
      "\n",
      "rm -rf /media/yuncong/BstemAtlasData/CSHL_data_processed/MD590/MD590_masks_alignedTo_MD590-N47-2015.09.12-05.32.06_MD590_2_0140_cropped/MD590-IHC35-2015.08.10-20.24.17_MD590_3_0103_mask_alignedTo_MD590-N47-2015.09.12-05.32.06_MD590_2_0140_cropped.png && mkdir -p /media/yuncong/BstemAtlasData/CSHL_data_processed/MD590/MD590_masks_alignedTo_MD590-N47-2015.09.12-05.32.06_MD590_2_0140_cropped"
     ]
    },
    {
     "name": "stderr",
     "output_type": "stream",
     "text": [
      " 0\n",
      "1.31 seconds.\n",
      "save: 6.35 seconds\n",
      "\n",
      "Section 177.\n",
      "Child returned"
     ]
    },
    {
     "name": "stdout",
     "output_type": "stream",
     "text": [
      "\n",
      "aws s3 cp s3://mousebrainatlas-data/CSHL_data_processed/MD590/MD590_masks_alignedTo_MD590-N47-2015.09.12-05.32.06_MD590_2_0140_cropped/MD590-IHC35-2015.08.10-20.24.17_MD590_3_0103_mask_alignedTo_MD590-N47-2015.09.12-05.32.06_MD590_2_0140_cropped.png /media/yuncong/BstemAtlasData/CSHL_data_processed/MD590/MD590_masks_alignedTo_MD590-N47-2015.09.12-05.32.06_MD590_2_0140_cropped/MD590-IHC35-2015.08.10-20.24.17_MD590_3_0103_mask_alignedTo_MD590-N47-2015.09.12-05.32.06_MD590_2_0140_cropped.png"
     ]
    },
    {
     "name": "stderr",
     "output_type": "stream",
     "text": [
      " 0\n",
      "Child returned 0\n",
      "1.95 seconds.\n",
      "locate patches: 1.98 seconds\n",
      "48448 samples.\n",
      "load image: 1.45 seconds\n",
      "extract patches: 19.19 seconds\n",
      "predict: 125.86 seconds\n"
     ]
    },
    {
     "name": "stdout",
     "output_type": "stream",
     "text": [
      "\n",
      "aws s3 cp /media/yuncong/BstemAtlasData/CSHL_patch_features/inception-bn-blue/MD590/MD590-IHC35-2015.08.10-20.24.17_MD590_3_0103_lossless_alignedTo_MD590-N47-2015.09.12-05.32.06_MD590_2_0140_cropped/MD590-IHC35-2015.08.10-20.24.17_MD590_3_0103_lossless_alignedTo_MD590-N47-2015.09.12-05.32.06_MD590_2_0140_cropped_features.hdf s3://mousebrainatlas-data/CSHL_patch_features/inception-bn-blue/MD590/MD590-IHC35-2015.08.10-20.24.17_MD590_3_0103_lossless_alignedTo_MD590-N47-2015.09.12-05.32.06_MD590_2_0140_cropped/MD590-IHC35-2015.08.10-20.24.17_MD590_3_0103_lossless_alignedTo_MD590-N47-2015.09.12-05.32.06_MD590_2_0140_cropped_features.hdf\n",
      "aws s3 cp /media/yuncong/BstemAtlasData/CSHL_patch_features/inception-bn-blue/MD590/MD590-IHC35-2015.08.10-20.24.17_MD590_3_0103_lossless_alignedTo_MD590-N47-2015.09.12-05.32.06_MD590_2_0140_cropped/MD590-IHC35-2015.08.10-20.24.17_MD590_3_0103_lossless_alignedTo_MD590-N47-2015.09.12-05.32.06_MD590_2_0140_cropped_patch_locations.txt s3://mousebrainatlas-data/CSHL_patch_features/inception-bn-blue/MD590/MD590-IHC35-2015.08.10-20.24.17_MD590_3_0103_lossless_alignedTo_MD590-N47-2015.09.12-05.32.06_MD590_2_0140_cropped/MD590-IHC35-2015.08.10-20.24.17_MD590_3_0103_lossless_alignedTo_MD590-N47-2015.09.12-05.32.06_MD590_2_0140_cropped_patch_locations.txt"
     ]
    },
    {
     "name": "stderr",
     "output_type": "stream",
     "text": [
      "Child returned 0\n",
      "2.64 seconds.\n",
      "Child returned"
     ]
    },
    {
     "name": "stdout",
     "output_type": "stream",
     "text": [
      "\n",
      "rm -rf /media/yuncong/BstemAtlasData/CSHL_data_processed/MD590/MD590_masks_alignedTo_MD590-N47-2015.09.12-05.32.06_MD590_2_0140_cropped/MD590-N35-2015.08.03-19.21.58_MD590_1_0105_mask_alignedTo_MD590-N47-2015.09.12-05.32.06_MD590_2_0140_cropped.png && mkdir -p /media/yuncong/BstemAtlasData/CSHL_data_processed/MD590/MD590_masks_alignedTo_MD590-N47-2015.09.12-05.32.06_MD590_2_0140_cropped"
     ]
    },
    {
     "name": "stderr",
     "output_type": "stream",
     "text": [
      " 0\n",
      "1.38 seconds.\n",
      "save: 6.40 seconds\n",
      "\n",
      "Section 178.\n",
      "Child returned"
     ]
    },
    {
     "name": "stdout",
     "output_type": "stream",
     "text": [
      "\n",
      "aws s3 cp s3://mousebrainatlas-data/CSHL_data_processed/MD590/MD590_masks_alignedTo_MD590-N47-2015.09.12-05.32.06_MD590_2_0140_cropped/MD590-N35-2015.08.03-19.21.58_MD590_1_0105_mask_alignedTo_MD590-N47-2015.09.12-05.32.06_MD590_2_0140_cropped.png /media/yuncong/BstemAtlasData/CSHL_data_processed/MD590/MD590_masks_alignedTo_MD590-N47-2015.09.12-05.32.06_MD590_2_0140_cropped/MD590-N35-2015.08.03-19.21.58_MD590_1_0105_mask_alignedTo_MD590-N47-2015.09.12-05.32.06_MD590_2_0140_cropped.png"
     ]
    },
    {
     "name": "stderr",
     "output_type": "stream",
     "text": [
      " 0\n",
      "Child returned 0\n",
      "1.82 seconds.\n",
      "locate patches: 1.84 seconds\n",
      "48341 samples.\n",
      "load image: 1.46 seconds\n",
      "extract patches: 18.23 seconds\n",
      "predict: 128.63 seconds\n"
     ]
    },
    {
     "name": "stdout",
     "output_type": "stream",
     "text": [
      "\n",
      "aws s3 cp /media/yuncong/BstemAtlasData/CSHL_patch_features/inception-bn-blue/MD590/MD590-N35-2015.08.03-19.21.58_MD590_1_0105_lossless_alignedTo_MD590-N47-2015.09.12-05.32.06_MD590_2_0140_cropped/MD590-N35-2015.08.03-19.21.58_MD590_1_0105_lossless_alignedTo_MD590-N47-2015.09.12-05.32.06_MD590_2_0140_cropped_features.hdf s3://mousebrainatlas-data/CSHL_patch_features/inception-bn-blue/MD590/MD590-N35-2015.08.03-19.21.58_MD590_1_0105_lossless_alignedTo_MD590-N47-2015.09.12-05.32.06_MD590_2_0140_cropped/MD590-N35-2015.08.03-19.21.58_MD590_1_0105_lossless_alignedTo_MD590-N47-2015.09.12-05.32.06_MD590_2_0140_cropped_features.hdf\n",
      "aws s3 cp /media/yuncong/BstemAtlasData/CSHL_patch_features/inception-bn-blue/MD590/MD590-N35-2015.08.03-19.21.58_MD590_1_0105_lossless_alignedTo_MD590-N47-2015.09.12-05.32.06_MD590_2_0140_cropped/MD590-N35-2015.08.03-19.21.58_MD590_1_0105_lossless_alignedTo_MD590-N47-2015.09.12-05.32.06_MD590_2_0140_cropped_patch_locations.txt s3://mousebrainatlas-data/CSHL_patch_features/inception-bn-blue/MD590/MD590-N35-2015.08.03-19.21.58_MD590_1_0105_lossless_alignedTo_MD590-N47-2015.09.12-05.32.06_MD590_2_0140_cropped/MD590-N35-2015.08.03-19.21.58_MD590_1_0105_lossless_alignedTo_MD590-N47-2015.09.12-05.32.06_MD590_2_0140_cropped_patch_locations.txt"
     ]
    },
    {
     "name": "stderr",
     "output_type": "stream",
     "text": [
      "Child returned 0\n",
      "2.79 seconds.\n",
      "Child returned"
     ]
    },
    {
     "name": "stdout",
     "output_type": "stream",
     "text": [
      "\n",
      "rm -rf /media/yuncong/BstemAtlasData/CSHL_data_processed/MD590/MD590_masks_alignedTo_MD590-N47-2015.09.12-05.32.06_MD590_2_0140_cropped/MD590-IHC35-2015.08.10-20.24.17_MD590_1_0105_mask_alignedTo_MD590-N47-2015.09.12-05.32.06_MD590_2_0140_cropped.png && mkdir -p /media/yuncong/BstemAtlasData/CSHL_data_processed/MD590/MD590_masks_alignedTo_MD590-N47-2015.09.12-05.32.06_MD590_2_0140_cropped"
     ]
    },
    {
     "name": "stderr",
     "output_type": "stream",
     "text": [
      " 0\n",
      "1.42 seconds.\n",
      "save: 6.62 seconds\n",
      "\n",
      "Section 179.\n",
      "Child returned"
     ]
    },
    {
     "name": "stdout",
     "output_type": "stream",
     "text": [
      "\n",
      "aws s3 cp s3://mousebrainatlas-data/CSHL_data_processed/MD590/MD590_masks_alignedTo_MD590-N47-2015.09.12-05.32.06_MD590_2_0140_cropped/MD590-IHC35-2015.08.10-20.24.17_MD590_1_0105_mask_alignedTo_MD590-N47-2015.09.12-05.32.06_MD590_2_0140_cropped.png /media/yuncong/BstemAtlasData/CSHL_data_processed/MD590/MD590_masks_alignedTo_MD590-N47-2015.09.12-05.32.06_MD590_2_0140_cropped/MD590-IHC35-2015.08.10-20.24.17_MD590_1_0105_mask_alignedTo_MD590-N47-2015.09.12-05.32.06_MD590_2_0140_cropped.png"
     ]
    },
    {
     "name": "stderr",
     "output_type": "stream",
     "text": [
      " 0\n",
      "Child returned 0\n",
      "1.94 seconds.\n",
      "locate patches: 1.97 seconds\n",
      "48572 samples.\n",
      "load image: 2.06 seconds\n",
      "extract patches: 18.11 seconds\n",
      "predict: 126.33 seconds\n"
     ]
    },
    {
     "name": "stdout",
     "output_type": "stream",
     "text": [
      "\n",
      "aws s3 cp /media/yuncong/BstemAtlasData/CSHL_patch_features/inception-bn-blue/MD590/MD590-IHC35-2015.08.10-20.24.17_MD590_1_0105_lossless_alignedTo_MD590-N47-2015.09.12-05.32.06_MD590_2_0140_cropped/MD590-IHC35-2015.08.10-20.24.17_MD590_1_0105_lossless_alignedTo_MD590-N47-2015.09.12-05.32.06_MD590_2_0140_cropped_features.hdf s3://mousebrainatlas-data/CSHL_patch_features/inception-bn-blue/MD590/MD590-IHC35-2015.08.10-20.24.17_MD590_1_0105_lossless_alignedTo_MD590-N47-2015.09.12-05.32.06_MD590_2_0140_cropped/MD590-IHC35-2015.08.10-20.24.17_MD590_1_0105_lossless_alignedTo_MD590-N47-2015.09.12-05.32.06_MD590_2_0140_cropped_features.hdf\n",
      "aws s3 cp /media/yuncong/BstemAtlasData/CSHL_patch_features/inception-bn-blue/MD590/MD590-IHC35-2015.08.10-20.24.17_MD590_1_0105_lossless_alignedTo_MD590-N47-2015.09.12-05.32.06_MD590_2_0140_cropped/MD590-IHC35-2015.08.10-20.24.17_MD590_1_0105_lossless_alignedTo_MD590-N47-2015.09.12-05.32.06_MD590_2_0140_cropped_patch_locations.txt s3://mousebrainatlas-data/CSHL_patch_features/inception-bn-blue/MD590/MD590-IHC35-2015.08.10-20.24.17_MD590_1_0105_lossless_alignedTo_MD590-N47-2015.09.12-05.32.06_MD590_2_0140_cropped/MD590-IHC35-2015.08.10-20.24.17_MD590_1_0105_lossless_alignedTo_MD590-N47-2015.09.12-05.32.06_MD590_2_0140_cropped_patch_locations.txt"
     ]
    },
    {
     "name": "stderr",
     "output_type": "stream",
     "text": [
      "Child returned 0\n",
      "2.56 seconds.\n",
      "Child returned"
     ]
    },
    {
     "name": "stdout",
     "output_type": "stream",
     "text": [
      "\n",
      "rm -rf /media/yuncong/BstemAtlasData/CSHL_data_processed/MD590/MD590_masks_alignedTo_MD590-N47-2015.09.12-05.32.06_MD590_2_0140_cropped/MD590-N36-2015.08.03-19.25.52_MD590_3_0106_mask_alignedTo_MD590-N47-2015.09.12-05.32.06_MD590_2_0140_cropped.png && mkdir -p /media/yuncong/BstemAtlasData/CSHL_data_processed/MD590/MD590_masks_alignedTo_MD590-N47-2015.09.12-05.32.06_MD590_2_0140_cropped"
     ]
    },
    {
     "name": "stderr",
     "output_type": "stream",
     "text": [
      " 0\n",
      "1.42 seconds.\n",
      "save: 6.46 seconds\n",
      "\n",
      "Section 180.\n",
      "Child returned"
     ]
    },
    {
     "name": "stdout",
     "output_type": "stream",
     "text": [
      "\n",
      "aws s3 cp s3://mousebrainatlas-data/CSHL_data_processed/MD590/MD590_masks_alignedTo_MD590-N47-2015.09.12-05.32.06_MD590_2_0140_cropped/MD590-N36-2015.08.03-19.25.52_MD590_3_0106_mask_alignedTo_MD590-N47-2015.09.12-05.32.06_MD590_2_0140_cropped.png /media/yuncong/BstemAtlasData/CSHL_data_processed/MD590/MD590_masks_alignedTo_MD590-N47-2015.09.12-05.32.06_MD590_2_0140_cropped/MD590-N36-2015.08.03-19.25.52_MD590_3_0106_mask_alignedTo_MD590-N47-2015.09.12-05.32.06_MD590_2_0140_cropped.png"
     ]
    },
    {
     "name": "stderr",
     "output_type": "stream",
     "text": [
      " 0\n",
      "Child returned 0\n",
      "1.86 seconds.\n",
      "locate patches: 1.89 seconds\n",
      "48298 samples.\n",
      "load image: 1.50 seconds\n",
      "extract patches: 17.97 seconds\n",
      "predict: 129.13 seconds\n"
     ]
    },
    {
     "name": "stdout",
     "output_type": "stream",
     "text": [
      "\n",
      "aws s3 cp /media/yuncong/BstemAtlasData/CSHL_patch_features/inception-bn-blue/MD590/MD590-N36-2015.08.03-19.25.52_MD590_3_0106_lossless_alignedTo_MD590-N47-2015.09.12-05.32.06_MD590_2_0140_cropped/MD590-N36-2015.08.03-19.25.52_MD590_3_0106_lossless_alignedTo_MD590-N47-2015.09.12-05.32.06_MD590_2_0140_cropped_features.hdf s3://mousebrainatlas-data/CSHL_patch_features/inception-bn-blue/MD590/MD590-N36-2015.08.03-19.25.52_MD590_3_0106_lossless_alignedTo_MD590-N47-2015.09.12-05.32.06_MD590_2_0140_cropped/MD590-N36-2015.08.03-19.25.52_MD590_3_0106_lossless_alignedTo_MD590-N47-2015.09.12-05.32.06_MD590_2_0140_cropped_features.hdf\n",
      "aws s3 cp /media/yuncong/BstemAtlasData/CSHL_patch_features/inception-bn-blue/MD590/MD590-N36-2015.08.03-19.25.52_MD590_3_0106_lossless_alignedTo_MD590-N47-2015.09.12-05.32.06_MD590_2_0140_cropped/MD590-N36-2015.08.03-19.25.52_MD590_3_0106_lossless_alignedTo_MD590-N47-2015.09.12-05.32.06_MD590_2_0140_cropped_patch_locations.txt s3://mousebrainatlas-data/CSHL_patch_features/inception-bn-blue/MD590/MD590-N36-2015.08.03-19.25.52_MD590_3_0106_lossless_alignedTo_MD590-N47-2015.09.12-05.32.06_MD590_2_0140_cropped/MD590-N36-2015.08.03-19.25.52_MD590_3_0106_lossless_alignedTo_MD590-N47-2015.09.12-05.32.06_MD590_2_0140_cropped_patch_locations.txt"
     ]
    },
    {
     "name": "stderr",
     "output_type": "stream",
     "text": [
      "Child returned 0\n",
      "2.63 seconds.\n",
      "Child returned"
     ]
    },
    {
     "name": "stdout",
     "output_type": "stream",
     "text": [
      "\n",
      "rm -rf /media/yuncong/BstemAtlasData/CSHL_data_processed/MD590/MD590_masks_alignedTo_MD590-N47-2015.09.12-05.32.06_MD590_2_0140_cropped/MD590-IHC36-2015.08.10-20.28.27_MD590_3_0106_mask_alignedTo_MD590-N47-2015.09.12-05.32.06_MD590_2_0140_cropped.png && mkdir -p /media/yuncong/BstemAtlasData/CSHL_data_processed/MD590/MD590_masks_alignedTo_MD590-N47-2015.09.12-05.32.06_MD590_2_0140_cropped"
     ]
    },
    {
     "name": "stderr",
     "output_type": "stream",
     "text": [
      " 0\n",
      "1.49 seconds.\n",
      "save: 6.50 seconds\n",
      "\n",
      "Section 181.\n",
      "Child returned"
     ]
    },
    {
     "name": "stdout",
     "output_type": "stream",
     "text": [
      "\n",
      "aws s3 cp s3://mousebrainatlas-data/CSHL_data_processed/MD590/MD590_masks_alignedTo_MD590-N47-2015.09.12-05.32.06_MD590_2_0140_cropped/MD590-IHC36-2015.08.10-20.28.27_MD590_3_0106_mask_alignedTo_MD590-N47-2015.09.12-05.32.06_MD590_2_0140_cropped.png /media/yuncong/BstemAtlasData/CSHL_data_processed/MD590/MD590_masks_alignedTo_MD590-N47-2015.09.12-05.32.06_MD590_2_0140_cropped/MD590-IHC36-2015.08.10-20.28.27_MD590_3_0106_mask_alignedTo_MD590-N47-2015.09.12-05.32.06_MD590_2_0140_cropped.png"
     ]
    },
    {
     "name": "stderr",
     "output_type": "stream",
     "text": [
      " 0\n",
      "Child returned 0\n",
      "1.92 seconds.\n",
      "locate patches: 1.95 seconds\n",
      "48501 samples.\n",
      "load image: 1.51 seconds\n",
      "extract patches: 18.06 seconds\n",
      "predict: 126.07 seconds\n"
     ]
    },
    {
     "name": "stdout",
     "output_type": "stream",
     "text": [
      "\n",
      "aws s3 cp /media/yuncong/BstemAtlasData/CSHL_patch_features/inception-bn-blue/MD590/MD590-IHC36-2015.08.10-20.28.27_MD590_3_0106_lossless_alignedTo_MD590-N47-2015.09.12-05.32.06_MD590_2_0140_cropped/MD590-IHC36-2015.08.10-20.28.27_MD590_3_0106_lossless_alignedTo_MD590-N47-2015.09.12-05.32.06_MD590_2_0140_cropped_features.hdf s3://mousebrainatlas-data/CSHL_patch_features/inception-bn-blue/MD590/MD590-IHC36-2015.08.10-20.28.27_MD590_3_0106_lossless_alignedTo_MD590-N47-2015.09.12-05.32.06_MD590_2_0140_cropped/MD590-IHC36-2015.08.10-20.28.27_MD590_3_0106_lossless_alignedTo_MD590-N47-2015.09.12-05.32.06_MD590_2_0140_cropped_features.hdf\n",
      "aws s3 cp /media/yuncong/BstemAtlasData/CSHL_patch_features/inception-bn-blue/MD590/MD590-IHC36-2015.08.10-20.28.27_MD590_3_0106_lossless_alignedTo_MD590-N47-2015.09.12-05.32.06_MD590_2_0140_cropped/MD590-IHC36-2015.08.10-20.28.27_MD590_3_0106_lossless_alignedTo_MD590-N47-2015.09.12-05.32.06_MD590_2_0140_cropped_patch_locations.txt s3://mousebrainatlas-data/CSHL_patch_features/inception-bn-blue/MD590/MD590-IHC36-2015.08.10-20.28.27_MD590_3_0106_lossless_alignedTo_MD590-N47-2015.09.12-05.32.06_MD590_2_0140_cropped/MD590-IHC36-2015.08.10-20.28.27_MD590_3_0106_lossless_alignedTo_MD590-N47-2015.09.12-05.32.06_MD590_2_0140_cropped_patch_locations.txt"
     ]
    },
    {
     "name": "stderr",
     "output_type": "stream",
     "text": [
      "Child returned 0\n",
      "2.60 seconds.\n",
      "Child returned"
     ]
    },
    {
     "name": "stdout",
     "output_type": "stream",
     "text": [
      "\n",
      "rm -rf /media/yuncong/BstemAtlasData/CSHL_data_processed/MD590/MD590_masks_alignedTo_MD590-N47-2015.09.12-05.32.06_MD590_2_0140_cropped/MD590-N36-2015.08.03-19.25.52_MD590_1_0108_mask_alignedTo_MD590-N47-2015.09.12-05.32.06_MD590_2_0140_cropped.png && mkdir -p /media/yuncong/BstemAtlasData/CSHL_data_processed/MD590/MD590_masks_alignedTo_MD590-N47-2015.09.12-05.32.06_MD590_2_0140_cropped"
     ]
    },
    {
     "name": "stderr",
     "output_type": "stream",
     "text": [
      " 0\n",
      "1.34 seconds.\n",
      "save: 6.43 seconds\n",
      "\n",
      "Section 182.\n",
      "Child returned"
     ]
    },
    {
     "name": "stdout",
     "output_type": "stream",
     "text": [
      "\n",
      "aws s3 cp s3://mousebrainatlas-data/CSHL_data_processed/MD590/MD590_masks_alignedTo_MD590-N47-2015.09.12-05.32.06_MD590_2_0140_cropped/MD590-N36-2015.08.03-19.25.52_MD590_1_0108_mask_alignedTo_MD590-N47-2015.09.12-05.32.06_MD590_2_0140_cropped.png /media/yuncong/BstemAtlasData/CSHL_data_processed/MD590/MD590_masks_alignedTo_MD590-N47-2015.09.12-05.32.06_MD590_2_0140_cropped/MD590-N36-2015.08.03-19.25.52_MD590_1_0108_mask_alignedTo_MD590-N47-2015.09.12-05.32.06_MD590_2_0140_cropped.png"
     ]
    },
    {
     "name": "stderr",
     "output_type": "stream",
     "text": [
      " 0\n",
      "Child returned 0\n",
      "1.85 seconds.\n",
      "locate patches: 1.88 seconds\n",
      "48484 samples.\n",
      "load image: 1.48 seconds\n",
      "extract patches: 18.11 seconds\n",
      "predict: 125.87 seconds\n"
     ]
    },
    {
     "name": "stdout",
     "output_type": "stream",
     "text": [
      "\n",
      "aws s3 cp /media/yuncong/BstemAtlasData/CSHL_patch_features/inception-bn-blue/MD590/MD590-N36-2015.08.03-19.25.52_MD590_1_0108_lossless_alignedTo_MD590-N47-2015.09.12-05.32.06_MD590_2_0140_cropped/MD590-N36-2015.08.03-19.25.52_MD590_1_0108_lossless_alignedTo_MD590-N47-2015.09.12-05.32.06_MD590_2_0140_cropped_features.hdf s3://mousebrainatlas-data/CSHL_patch_features/inception-bn-blue/MD590/MD590-N36-2015.08.03-19.25.52_MD590_1_0108_lossless_alignedTo_MD590-N47-2015.09.12-05.32.06_MD590_2_0140_cropped/MD590-N36-2015.08.03-19.25.52_MD590_1_0108_lossless_alignedTo_MD590-N47-2015.09.12-05.32.06_MD590_2_0140_cropped_features.hdf\n",
      "aws s3 cp /media/yuncong/BstemAtlasData/CSHL_patch_features/inception-bn-blue/MD590/MD590-N36-2015.08.03-19.25.52_MD590_1_0108_lossless_alignedTo_MD590-N47-2015.09.12-05.32.06_MD590_2_0140_cropped/MD590-N36-2015.08.03-19.25.52_MD590_1_0108_lossless_alignedTo_MD590-N47-2015.09.12-05.32.06_MD590_2_0140_cropped_patch_locations.txt s3://mousebrainatlas-data/CSHL_patch_features/inception-bn-blue/MD590/MD590-N36-2015.08.03-19.25.52_MD590_1_0108_lossless_alignedTo_MD590-N47-2015.09.12-05.32.06_MD590_2_0140_cropped/MD590-N36-2015.08.03-19.25.52_MD590_1_0108_lossless_alignedTo_MD590-N47-2015.09.12-05.32.06_MD590_2_0140_cropped_patch_locations.txt"
     ]
    },
    {
     "name": "stderr",
     "output_type": "stream",
     "text": [
      "Child returned 0\n",
      "2.61 seconds.\n",
      "Child returned"
     ]
    },
    {
     "name": "stdout",
     "output_type": "stream",
     "text": [
      "\n",
      "rm -rf /media/yuncong/BstemAtlasData/CSHL_data_processed/MD590/MD590_masks_alignedTo_MD590-N47-2015.09.12-05.32.06_MD590_2_0140_cropped/MD590-IHC36-2015.08.10-20.28.27_MD590_2_0107_mask_alignedTo_MD590-N47-2015.09.12-05.32.06_MD590_2_0140_cropped.png && mkdir -p /media/yuncong/BstemAtlasData/CSHL_data_processed/MD590/MD590_masks_alignedTo_MD590-N47-2015.09.12-05.32.06_MD590_2_0140_cropped"
     ]
    },
    {
     "name": "stderr",
     "output_type": "stream",
     "text": [
      " 0\n",
      "1.30 seconds.\n",
      "save: 6.30 seconds\n",
      "\n",
      "Section 183.\n",
      "Child returned"
     ]
    },
    {
     "name": "stdout",
     "output_type": "stream",
     "text": [
      "\n",
      "aws s3 cp s3://mousebrainatlas-data/CSHL_data_processed/MD590/MD590_masks_alignedTo_MD590-N47-2015.09.12-05.32.06_MD590_2_0140_cropped/MD590-IHC36-2015.08.10-20.28.27_MD590_2_0107_mask_alignedTo_MD590-N47-2015.09.12-05.32.06_MD590_2_0140_cropped.png /media/yuncong/BstemAtlasData/CSHL_data_processed/MD590/MD590_masks_alignedTo_MD590-N47-2015.09.12-05.32.06_MD590_2_0140_cropped/MD590-IHC36-2015.08.10-20.28.27_MD590_2_0107_mask_alignedTo_MD590-N47-2015.09.12-05.32.06_MD590_2_0140_cropped.png"
     ]
    },
    {
     "name": "stderr",
     "output_type": "stream",
     "text": [
      " 0\n",
      "Child returned 0\n",
      "1.83 seconds.\n",
      "locate patches: 1.86 seconds\n",
      "48721 samples.\n",
      "load image: 1.52 seconds\n",
      "extract patches: 18.40 seconds\n",
      "predict: 127.05 seconds\n"
     ]
    },
    {
     "name": "stdout",
     "output_type": "stream",
     "text": [
      "\n",
      "aws s3 cp /media/yuncong/BstemAtlasData/CSHL_patch_features/inception-bn-blue/MD590/MD590-IHC36-2015.08.10-20.28.27_MD590_2_0107_lossless_alignedTo_MD590-N47-2015.09.12-05.32.06_MD590_2_0140_cropped/MD590-IHC36-2015.08.10-20.28.27_MD590_2_0107_lossless_alignedTo_MD590-N47-2015.09.12-05.32.06_MD590_2_0140_cropped_features.hdf s3://mousebrainatlas-data/CSHL_patch_features/inception-bn-blue/MD590/MD590-IHC36-2015.08.10-20.28.27_MD590_2_0107_lossless_alignedTo_MD590-N47-2015.09.12-05.32.06_MD590_2_0140_cropped/MD590-IHC36-2015.08.10-20.28.27_MD590_2_0107_lossless_alignedTo_MD590-N47-2015.09.12-05.32.06_MD590_2_0140_cropped_features.hdf\n",
      "aws s3 cp /media/yuncong/BstemAtlasData/CSHL_patch_features/inception-bn-blue/MD590/MD590-IHC36-2015.08.10-20.28.27_MD590_2_0107_lossless_alignedTo_MD590-N47-2015.09.12-05.32.06_MD590_2_0140_cropped/MD590-IHC36-2015.08.10-20.28.27_MD590_2_0107_lossless_alignedTo_MD590-N47-2015.09.12-05.32.06_MD590_2_0140_cropped_patch_locations.txt s3://mousebrainatlas-data/CSHL_patch_features/inception-bn-blue/MD590/MD590-IHC36-2015.08.10-20.28.27_MD590_2_0107_lossless_alignedTo_MD590-N47-2015.09.12-05.32.06_MD590_2_0140_cropped/MD590-IHC36-2015.08.10-20.28.27_MD590_2_0107_lossless_alignedTo_MD590-N47-2015.09.12-05.32.06_MD590_2_0140_cropped_patch_locations.txt"
     ]
    },
    {
     "name": "stderr",
     "output_type": "stream",
     "text": [
      "Child returned 0\n",
      "2.66 seconds.\n",
      "Child returned"
     ]
    },
    {
     "name": "stdout",
     "output_type": "stream",
     "text": [
      "\n",
      "rm -rf /media/yuncong/BstemAtlasData/CSHL_data_processed/MD590/MD590_masks_alignedTo_MD590-N47-2015.09.12-05.32.06_MD590_2_0140_cropped/MD590-N37-2015.08.03-19.29.50_MD590_3_0109_mask_alignedTo_MD590-N47-2015.09.12-05.32.06_MD590_2_0140_cropped.png && mkdir -p /media/yuncong/BstemAtlasData/CSHL_data_processed/MD590/MD590_masks_alignedTo_MD590-N47-2015.09.12-05.32.06_MD590_2_0140_cropped"
     ]
    },
    {
     "name": "stderr",
     "output_type": "stream",
     "text": [
      " 0\n",
      "1.35 seconds.\n",
      "save: 6.46 seconds\n",
      "\n",
      "Section 184.\n",
      "Child returned"
     ]
    },
    {
     "name": "stdout",
     "output_type": "stream",
     "text": [
      "\n",
      "aws s3 cp s3://mousebrainatlas-data/CSHL_data_processed/MD590/MD590_masks_alignedTo_MD590-N47-2015.09.12-05.32.06_MD590_2_0140_cropped/MD590-N37-2015.08.03-19.29.50_MD590_3_0109_mask_alignedTo_MD590-N47-2015.09.12-05.32.06_MD590_2_0140_cropped.png /media/yuncong/BstemAtlasData/CSHL_data_processed/MD590/MD590_masks_alignedTo_MD590-N47-2015.09.12-05.32.06_MD590_2_0140_cropped/MD590-N37-2015.08.03-19.29.50_MD590_3_0109_mask_alignedTo_MD590-N47-2015.09.12-05.32.06_MD590_2_0140_cropped.png"
     ]
    },
    {
     "name": "stderr",
     "output_type": "stream",
     "text": [
      " 0\n",
      "Child returned 0\n",
      "2.01 seconds.\n",
      "locate patches: 2.04 seconds\n",
      "48388 samples.\n",
      "load image: 1.56 seconds\n",
      "extract patches: 17.87 seconds\n",
      "predict: 126.09 seconds\n"
     ]
    },
    {
     "name": "stdout",
     "output_type": "stream",
     "text": [
      "\n",
      "aws s3 cp /media/yuncong/BstemAtlasData/CSHL_patch_features/inception-bn-blue/MD590/MD590-N37-2015.08.03-19.29.50_MD590_3_0109_lossless_alignedTo_MD590-N47-2015.09.12-05.32.06_MD590_2_0140_cropped/MD590-N37-2015.08.03-19.29.50_MD590_3_0109_lossless_alignedTo_MD590-N47-2015.09.12-05.32.06_MD590_2_0140_cropped_features.hdf s3://mousebrainatlas-data/CSHL_patch_features/inception-bn-blue/MD590/MD590-N37-2015.08.03-19.29.50_MD590_3_0109_lossless_alignedTo_MD590-N47-2015.09.12-05.32.06_MD590_2_0140_cropped/MD590-N37-2015.08.03-19.29.50_MD590_3_0109_lossless_alignedTo_MD590-N47-2015.09.12-05.32.06_MD590_2_0140_cropped_features.hdf\n",
      "aws s3 cp /media/yuncong/BstemAtlasData/CSHL_patch_features/inception-bn-blue/MD590/MD590-N37-2015.08.03-19.29.50_MD590_3_0109_lossless_alignedTo_MD590-N47-2015.09.12-05.32.06_MD590_2_0140_cropped/MD590-N37-2015.08.03-19.29.50_MD590_3_0109_lossless_alignedTo_MD590-N47-2015.09.12-05.32.06_MD590_2_0140_cropped_patch_locations.txt s3://mousebrainatlas-data/CSHL_patch_features/inception-bn-blue/MD590/MD590-N37-2015.08.03-19.29.50_MD590_3_0109_lossless_alignedTo_MD590-N47-2015.09.12-05.32.06_MD590_2_0140_cropped/MD590-N37-2015.08.03-19.29.50_MD590_3_0109_lossless_alignedTo_MD590-N47-2015.09.12-05.32.06_MD590_2_0140_cropped_patch_locations.txt"
     ]
    },
    {
     "name": "stderr",
     "output_type": "stream",
     "text": [
      "Child returned 0\n",
      "2.58 seconds.\n",
      "Child returned"
     ]
    },
    {
     "name": "stdout",
     "output_type": "stream",
     "text": [
      "\n",
      "rm -rf /media/yuncong/BstemAtlasData/CSHL_data_processed/MD590/MD590_masks_alignedTo_MD590-N47-2015.09.12-05.32.06_MD590_2_0140_cropped/MD590-IHC37-2015.08.10-20.32.56_MD590_3_0109_mask_alignedTo_MD590-N47-2015.09.12-05.32.06_MD590_2_0140_cropped.png && mkdir -p /media/yuncong/BstemAtlasData/CSHL_data_processed/MD590/MD590_masks_alignedTo_MD590-N47-2015.09.12-05.32.06_MD590_2_0140_cropped"
     ]
    },
    {
     "name": "stderr",
     "output_type": "stream",
     "text": [
      " 0\n",
      "1.36 seconds.\n",
      "save: 6.38 seconds\n",
      "\n",
      "Section 185.\n",
      "Child returned"
     ]
    },
    {
     "name": "stdout",
     "output_type": "stream",
     "text": [
      "\n",
      "aws s3 cp s3://mousebrainatlas-data/CSHL_data_processed/MD590/MD590_masks_alignedTo_MD590-N47-2015.09.12-05.32.06_MD590_2_0140_cropped/MD590-IHC37-2015.08.10-20.32.56_MD590_3_0109_mask_alignedTo_MD590-N47-2015.09.12-05.32.06_MD590_2_0140_cropped.png /media/yuncong/BstemAtlasData/CSHL_data_processed/MD590/MD590_masks_alignedTo_MD590-N47-2015.09.12-05.32.06_MD590_2_0140_cropped/MD590-IHC37-2015.08.10-20.32.56_MD590_3_0109_mask_alignedTo_MD590-N47-2015.09.12-05.32.06_MD590_2_0140_cropped.png"
     ]
    },
    {
     "name": "stderr",
     "output_type": "stream",
     "text": [
      " 0\n",
      "Child returned 0\n",
      "1.83 seconds.\n",
      "locate patches: 1.86 seconds\n",
      "48777 samples.\n",
      "load image: 1.46 seconds\n",
      "extract patches: 18.66 seconds\n",
      "predict: 127.32 seconds\n"
     ]
    },
    {
     "name": "stdout",
     "output_type": "stream",
     "text": [
      "\n",
      "aws s3 cp /media/yuncong/BstemAtlasData/CSHL_patch_features/inception-bn-blue/MD590/MD590-IHC37-2015.08.10-20.32.56_MD590_3_0109_lossless_alignedTo_MD590-N47-2015.09.12-05.32.06_MD590_2_0140_cropped/MD590-IHC37-2015.08.10-20.32.56_MD590_3_0109_lossless_alignedTo_MD590-N47-2015.09.12-05.32.06_MD590_2_0140_cropped_features.hdf s3://mousebrainatlas-data/CSHL_patch_features/inception-bn-blue/MD590/MD590-IHC37-2015.08.10-20.32.56_MD590_3_0109_lossless_alignedTo_MD590-N47-2015.09.12-05.32.06_MD590_2_0140_cropped/MD590-IHC37-2015.08.10-20.32.56_MD590_3_0109_lossless_alignedTo_MD590-N47-2015.09.12-05.32.06_MD590_2_0140_cropped_features.hdf\n",
      "aws s3 cp /media/yuncong/BstemAtlasData/CSHL_patch_features/inception-bn-blue/MD590/MD590-IHC37-2015.08.10-20.32.56_MD590_3_0109_lossless_alignedTo_MD590-N47-2015.09.12-05.32.06_MD590_2_0140_cropped/MD590-IHC37-2015.08.10-20.32.56_MD590_3_0109_lossless_alignedTo_MD590-N47-2015.09.12-05.32.06_MD590_2_0140_cropped_patch_locations.txt s3://mousebrainatlas-data/CSHL_patch_features/inception-bn-blue/MD590/MD590-IHC37-2015.08.10-20.32.56_MD590_3_0109_lossless_alignedTo_MD590-N47-2015.09.12-05.32.06_MD590_2_0140_cropped/MD590-IHC37-2015.08.10-20.32.56_MD590_3_0109_lossless_alignedTo_MD590-N47-2015.09.12-05.32.06_MD590_2_0140_cropped_patch_locations.txt"
     ]
    },
    {
     "name": "stderr",
     "output_type": "stream",
     "text": [
      "Child returned 0\n",
      "2.82 seconds.\n",
      "Child returned"
     ]
    },
    {
     "name": "stdout",
     "output_type": "stream",
     "text": [
      "\n",
      "rm -rf /media/yuncong/BstemAtlasData/CSHL_data_processed/MD590/MD590_masks_alignedTo_MD590-N47-2015.09.12-05.32.06_MD590_2_0140_cropped/MD590-N37-2015.08.03-19.29.50_MD590_1_0111_mask_alignedTo_MD590-N47-2015.09.12-05.32.06_MD590_2_0140_cropped.png && mkdir -p /media/yuncong/BstemAtlasData/CSHL_data_processed/MD590/MD590_masks_alignedTo_MD590-N47-2015.09.12-05.32.06_MD590_2_0140_cropped"
     ]
    },
    {
     "name": "stderr",
     "output_type": "stream",
     "text": [
      " 0\n",
      "1.33 seconds.\n",
      "save: 6.56 seconds\n",
      "\n",
      "Section 186.\n",
      "Child returned"
     ]
    },
    {
     "name": "stdout",
     "output_type": "stream",
     "text": [
      "\n",
      "aws s3 cp s3://mousebrainatlas-data/CSHL_data_processed/MD590/MD590_masks_alignedTo_MD590-N47-2015.09.12-05.32.06_MD590_2_0140_cropped/MD590-N37-2015.08.03-19.29.50_MD590_1_0111_mask_alignedTo_MD590-N47-2015.09.12-05.32.06_MD590_2_0140_cropped.png /media/yuncong/BstemAtlasData/CSHL_data_processed/MD590/MD590_masks_alignedTo_MD590-N47-2015.09.12-05.32.06_MD590_2_0140_cropped/MD590-N37-2015.08.03-19.29.50_MD590_1_0111_mask_alignedTo_MD590-N47-2015.09.12-05.32.06_MD590_2_0140_cropped.png"
     ]
    },
    {
     "name": "stderr",
     "output_type": "stream",
     "text": [
      " 0\n",
      "Child returned 0\n",
      "1.93 seconds.\n",
      "locate patches: 1.96 seconds\n",
      "48199 samples.\n",
      "load image: 1.48 seconds\n",
      "extract patches: 17.89 seconds\n",
      "predict: 125.26 seconds\n"
     ]
    },
    {
     "name": "stdout",
     "output_type": "stream",
     "text": [
      "\n",
      "aws s3 cp /media/yuncong/BstemAtlasData/CSHL_patch_features/inception-bn-blue/MD590/MD590-N37-2015.08.03-19.29.50_MD590_1_0111_lossless_alignedTo_MD590-N47-2015.09.12-05.32.06_MD590_2_0140_cropped/MD590-N37-2015.08.03-19.29.50_MD590_1_0111_lossless_alignedTo_MD590-N47-2015.09.12-05.32.06_MD590_2_0140_cropped_features.hdf s3://mousebrainatlas-data/CSHL_patch_features/inception-bn-blue/MD590/MD590-N37-2015.08.03-19.29.50_MD590_1_0111_lossless_alignedTo_MD590-N47-2015.09.12-05.32.06_MD590_2_0140_cropped/MD590-N37-2015.08.03-19.29.50_MD590_1_0111_lossless_alignedTo_MD590-N47-2015.09.12-05.32.06_MD590_2_0140_cropped_features.hdf\n",
      "aws s3 cp /media/yuncong/BstemAtlasData/CSHL_patch_features/inception-bn-blue/MD590/MD590-N37-2015.08.03-19.29.50_MD590_1_0111_lossless_alignedTo_MD590-N47-2015.09.12-05.32.06_MD590_2_0140_cropped/MD590-N37-2015.08.03-19.29.50_MD590_1_0111_lossless_alignedTo_MD590-N47-2015.09.12-05.32.06_MD590_2_0140_cropped_patch_locations.txt s3://mousebrainatlas-data/CSHL_patch_features/inception-bn-blue/MD590/MD590-N37-2015.08.03-19.29.50_MD590_1_0111_lossless_alignedTo_MD590-N47-2015.09.12-05.32.06_MD590_2_0140_cropped/MD590-N37-2015.08.03-19.29.50_MD590_1_0111_lossless_alignedTo_MD590-N47-2015.09.12-05.32.06_MD590_2_0140_cropped_patch_locations.txt"
     ]
    },
    {
     "name": "stderr",
     "output_type": "stream",
     "text": [
      "Child returned 0\n",
      "2.55 seconds.\n",
      "Child returned"
     ]
    },
    {
     "name": "stdout",
     "output_type": "stream",
     "text": [
      "\n",
      "rm -rf /media/yuncong/BstemAtlasData/CSHL_data_processed/MD590/MD590_masks_alignedTo_MD590-N47-2015.09.12-05.32.06_MD590_2_0140_cropped/MD590-IHC37-2015.08.10-20.32.56_MD590_2_0110_mask_alignedTo_MD590-N47-2015.09.12-05.32.06_MD590_2_0140_cropped.png && mkdir -p /media/yuncong/BstemAtlasData/CSHL_data_processed/MD590/MD590_masks_alignedTo_MD590-N47-2015.09.12-05.32.06_MD590_2_0140_cropped"
     ]
    },
    {
     "name": "stderr",
     "output_type": "stream",
     "text": [
      " 0\n",
      "1.32 seconds.\n",
      "save: 6.19 seconds\n",
      "\n",
      "Section 187.\n",
      "Child returned"
     ]
    },
    {
     "name": "stdout",
     "output_type": "stream",
     "text": [
      "\n",
      "aws s3 cp s3://mousebrainatlas-data/CSHL_data_processed/MD590/MD590_masks_alignedTo_MD590-N47-2015.09.12-05.32.06_MD590_2_0140_cropped/MD590-IHC37-2015.08.10-20.32.56_MD590_2_0110_mask_alignedTo_MD590-N47-2015.09.12-05.32.06_MD590_2_0140_cropped.png /media/yuncong/BstemAtlasData/CSHL_data_processed/MD590/MD590_masks_alignedTo_MD590-N47-2015.09.12-05.32.06_MD590_2_0140_cropped/MD590-IHC37-2015.08.10-20.32.56_MD590_2_0110_mask_alignedTo_MD590-N47-2015.09.12-05.32.06_MD590_2_0140_cropped.png"
     ]
    },
    {
     "name": "stderr",
     "output_type": "stream",
     "text": [
      " 0\n",
      "Child returned 0\n",
      "1.86 seconds.\n",
      "locate patches: 1.90 seconds\n",
      "48733 samples.\n",
      "load image: 1.58 seconds\n",
      "extract patches: 18.24 seconds\n",
      "predict: 126.99 seconds\n"
     ]
    },
    {
     "name": "stdout",
     "output_type": "stream",
     "text": [
      "\n",
      "aws s3 cp /media/yuncong/BstemAtlasData/CSHL_patch_features/inception-bn-blue/MD590/MD590-IHC37-2015.08.10-20.32.56_MD590_2_0110_lossless_alignedTo_MD590-N47-2015.09.12-05.32.06_MD590_2_0140_cropped/MD590-IHC37-2015.08.10-20.32.56_MD590_2_0110_lossless_alignedTo_MD590-N47-2015.09.12-05.32.06_MD590_2_0140_cropped_features.hdf s3://mousebrainatlas-data/CSHL_patch_features/inception-bn-blue/MD590/MD590-IHC37-2015.08.10-20.32.56_MD590_2_0110_lossless_alignedTo_MD590-N47-2015.09.12-05.32.06_MD590_2_0140_cropped/MD590-IHC37-2015.08.10-20.32.56_MD590_2_0110_lossless_alignedTo_MD590-N47-2015.09.12-05.32.06_MD590_2_0140_cropped_features.hdf\n",
      "aws s3 cp /media/yuncong/BstemAtlasData/CSHL_patch_features/inception-bn-blue/MD590/MD590-IHC37-2015.08.10-20.32.56_MD590_2_0110_lossless_alignedTo_MD590-N47-2015.09.12-05.32.06_MD590_2_0140_cropped/MD590-IHC37-2015.08.10-20.32.56_MD590_2_0110_lossless_alignedTo_MD590-N47-2015.09.12-05.32.06_MD590_2_0140_cropped_patch_locations.txt s3://mousebrainatlas-data/CSHL_patch_features/inception-bn-blue/MD590/MD590-IHC37-2015.08.10-20.32.56_MD590_2_0110_lossless_alignedTo_MD590-N47-2015.09.12-05.32.06_MD590_2_0140_cropped/MD590-IHC37-2015.08.10-20.32.56_MD590_2_0110_lossless_alignedTo_MD590-N47-2015.09.12-05.32.06_MD590_2_0140_cropped_patch_locations.txt"
     ]
    },
    {
     "name": "stderr",
     "output_type": "stream",
     "text": [
      "Child returned 0\n",
      "3.11 seconds.\n",
      "Child returned"
     ]
    },
    {
     "name": "stdout",
     "output_type": "stream",
     "text": [
      "\n",
      "rm -rf /media/yuncong/BstemAtlasData/CSHL_data_processed/MD590/MD590_masks_alignedTo_MD590-N47-2015.09.12-05.32.06_MD590_2_0140_cropped/MD590-N38-2015.08.03-19.33.46_MD590_3_0112_mask_alignedTo_MD590-N47-2015.09.12-05.32.06_MD590_2_0140_cropped.png && mkdir -p /media/yuncong/BstemAtlasData/CSHL_data_processed/MD590/MD590_masks_alignedTo_MD590-N47-2015.09.12-05.32.06_MD590_2_0140_cropped"
     ]
    },
    {
     "name": "stderr",
     "output_type": "stream",
     "text": [
      " 0\n",
      "1.40 seconds.\n",
      "save: 6.94 seconds\n",
      "\n",
      "Section 188.\n",
      "Child returned"
     ]
    },
    {
     "name": "stdout",
     "output_type": "stream",
     "text": [
      "\n",
      "aws s3 cp s3://mousebrainatlas-data/CSHL_data_processed/MD590/MD590_masks_alignedTo_MD590-N47-2015.09.12-05.32.06_MD590_2_0140_cropped/MD590-N38-2015.08.03-19.33.46_MD590_3_0112_mask_alignedTo_MD590-N47-2015.09.12-05.32.06_MD590_2_0140_cropped.png /media/yuncong/BstemAtlasData/CSHL_data_processed/MD590/MD590_masks_alignedTo_MD590-N47-2015.09.12-05.32.06_MD590_2_0140_cropped/MD590-N38-2015.08.03-19.33.46_MD590_3_0112_mask_alignedTo_MD590-N47-2015.09.12-05.32.06_MD590_2_0140_cropped.png"
     ]
    },
    {
     "name": "stderr",
     "output_type": "stream",
     "text": [
      " 0\n",
      "Child returned 0\n",
      "1.80 seconds.\n",
      "locate patches: 1.83 seconds\n",
      "48371 samples.\n",
      "load image: 1.94 seconds\n",
      "extract patches: 17.94 seconds\n",
      "predict: 125.59 seconds\n"
     ]
    },
    {
     "name": "stdout",
     "output_type": "stream",
     "text": [
      "\n",
      "aws s3 cp /media/yuncong/BstemAtlasData/CSHL_patch_features/inception-bn-blue/MD590/MD590-N38-2015.08.03-19.33.46_MD590_3_0112_lossless_alignedTo_MD590-N47-2015.09.12-05.32.06_MD590_2_0140_cropped/MD590-N38-2015.08.03-19.33.46_MD590_3_0112_lossless_alignedTo_MD590-N47-2015.09.12-05.32.06_MD590_2_0140_cropped_features.hdf s3://mousebrainatlas-data/CSHL_patch_features/inception-bn-blue/MD590/MD590-N38-2015.08.03-19.33.46_MD590_3_0112_lossless_alignedTo_MD590-N47-2015.09.12-05.32.06_MD590_2_0140_cropped/MD590-N38-2015.08.03-19.33.46_MD590_3_0112_lossless_alignedTo_MD590-N47-2015.09.12-05.32.06_MD590_2_0140_cropped_features.hdf\n",
      "aws s3 cp /media/yuncong/BstemAtlasData/CSHL_patch_features/inception-bn-blue/MD590/MD590-N38-2015.08.03-19.33.46_MD590_3_0112_lossless_alignedTo_MD590-N47-2015.09.12-05.32.06_MD590_2_0140_cropped/MD590-N38-2015.08.03-19.33.46_MD590_3_0112_lossless_alignedTo_MD590-N47-2015.09.12-05.32.06_MD590_2_0140_cropped_patch_locations.txt s3://mousebrainatlas-data/CSHL_patch_features/inception-bn-blue/MD590/MD590-N38-2015.08.03-19.33.46_MD590_3_0112_lossless_alignedTo_MD590-N47-2015.09.12-05.32.06_MD590_2_0140_cropped/MD590-N38-2015.08.03-19.33.46_MD590_3_0112_lossless_alignedTo_MD590-N47-2015.09.12-05.32.06_MD590_2_0140_cropped_patch_locations.txt"
     ]
    },
    {
     "name": "stderr",
     "output_type": "stream",
     "text": [
      "Child returned 0\n",
      "2.73 seconds.\n",
      "Child returned"
     ]
    },
    {
     "name": "stdout",
     "output_type": "stream",
     "text": [
      "\n",
      "rm -rf /media/yuncong/BstemAtlasData/CSHL_data_processed/MD590/MD590_masks_alignedTo_MD590-N47-2015.09.12-05.32.06_MD590_2_0140_cropped/MD590-IHC38-2015.08.10-20.37.21_MD590_3_0112_mask_alignedTo_MD590-N47-2015.09.12-05.32.06_MD590_2_0140_cropped.png && mkdir -p /media/yuncong/BstemAtlasData/CSHL_data_processed/MD590/MD590_masks_alignedTo_MD590-N47-2015.09.12-05.32.06_MD590_2_0140_cropped"
     ]
    },
    {
     "name": "stderr",
     "output_type": "stream",
     "text": [
      " 0\n",
      "1.34 seconds.\n",
      "save: 6.54 seconds\n",
      "\n",
      "Section 189.\n",
      "Child returned"
     ]
    },
    {
     "name": "stdout",
     "output_type": "stream",
     "text": [
      "\n",
      "aws s3 cp s3://mousebrainatlas-data/CSHL_data_processed/MD590/MD590_masks_alignedTo_MD590-N47-2015.09.12-05.32.06_MD590_2_0140_cropped/MD590-IHC38-2015.08.10-20.37.21_MD590_3_0112_mask_alignedTo_MD590-N47-2015.09.12-05.32.06_MD590_2_0140_cropped.png /media/yuncong/BstemAtlasData/CSHL_data_processed/MD590/MD590_masks_alignedTo_MD590-N47-2015.09.12-05.32.06_MD590_2_0140_cropped/MD590-IHC38-2015.08.10-20.37.21_MD590_3_0112_mask_alignedTo_MD590-N47-2015.09.12-05.32.06_MD590_2_0140_cropped.png"
     ]
    },
    {
     "name": "stderr",
     "output_type": "stream",
     "text": [
      " 0\n",
      "Child returned 0\n",
      "1.90 seconds.\n",
      "locate patches: 1.93 seconds\n",
      "48434 samples.\n",
      "load image: 1.52 seconds\n",
      "extract patches: 18.00 seconds\n",
      "predict: 129.45 seconds\n"
     ]
    },
    {
     "name": "stdout",
     "output_type": "stream",
     "text": [
      "\n",
      "aws s3 cp /media/yuncong/BstemAtlasData/CSHL_patch_features/inception-bn-blue/MD590/MD590-IHC38-2015.08.10-20.37.21_MD590_3_0112_lossless_alignedTo_MD590-N47-2015.09.12-05.32.06_MD590_2_0140_cropped/MD590-IHC38-2015.08.10-20.37.21_MD590_3_0112_lossless_alignedTo_MD590-N47-2015.09.12-05.32.06_MD590_2_0140_cropped_features.hdf s3://mousebrainatlas-data/CSHL_patch_features/inception-bn-blue/MD590/MD590-IHC38-2015.08.10-20.37.21_MD590_3_0112_lossless_alignedTo_MD590-N47-2015.09.12-05.32.06_MD590_2_0140_cropped/MD590-IHC38-2015.08.10-20.37.21_MD590_3_0112_lossless_alignedTo_MD590-N47-2015.09.12-05.32.06_MD590_2_0140_cropped_features.hdf\n",
      "aws s3 cp /media/yuncong/BstemAtlasData/CSHL_patch_features/inception-bn-blue/MD590/MD590-IHC38-2015.08.10-20.37.21_MD590_3_0112_lossless_alignedTo_MD590-N47-2015.09.12-05.32.06_MD590_2_0140_cropped/MD590-IHC38-2015.08.10-20.37.21_MD590_3_0112_lossless_alignedTo_MD590-N47-2015.09.12-05.32.06_MD590_2_0140_cropped_patch_locations.txt s3://mousebrainatlas-data/CSHL_patch_features/inception-bn-blue/MD590/MD590-IHC38-2015.08.10-20.37.21_MD590_3_0112_lossless_alignedTo_MD590-N47-2015.09.12-05.32.06_MD590_2_0140_cropped/MD590-IHC38-2015.08.10-20.37.21_MD590_3_0112_lossless_alignedTo_MD590-N47-2015.09.12-05.32.06_MD590_2_0140_cropped_patch_locations.txt"
     ]
    },
    {
     "name": "stderr",
     "output_type": "stream",
     "text": [
      "Child returned 0\n",
      "3.72 seconds.\n",
      "Child returned"
     ]
    },
    {
     "name": "stdout",
     "output_type": "stream",
     "text": [
      "\n",
      "rm -rf /media/yuncong/BstemAtlasData/CSHL_data_processed/MD590/MD590_masks_alignedTo_MD590-N47-2015.09.12-05.32.06_MD590_2_0140_cropped/MD590-N38-2015.08.03-19.33.46_MD590_1_0114_mask_alignedTo_MD590-N47-2015.09.12-05.32.06_MD590_2_0140_cropped.png && mkdir -p /media/yuncong/BstemAtlasData/CSHL_data_processed/MD590/MD590_masks_alignedTo_MD590-N47-2015.09.12-05.32.06_MD590_2_0140_cropped"
     ]
    },
    {
     "name": "stderr",
     "output_type": "stream",
     "text": [
      " 0\n",
      "1.41 seconds.\n",
      "save: 7.53 seconds\n",
      "\n",
      "Section 190.\n",
      "Child returned"
     ]
    },
    {
     "name": "stdout",
     "output_type": "stream",
     "text": [
      "\n",
      "aws s3 cp s3://mousebrainatlas-data/CSHL_data_processed/MD590/MD590_masks_alignedTo_MD590-N47-2015.09.12-05.32.06_MD590_2_0140_cropped/MD590-N38-2015.08.03-19.33.46_MD590_1_0114_mask_alignedTo_MD590-N47-2015.09.12-05.32.06_MD590_2_0140_cropped.png /media/yuncong/BstemAtlasData/CSHL_data_processed/MD590/MD590_masks_alignedTo_MD590-N47-2015.09.12-05.32.06_MD590_2_0140_cropped/MD590-N38-2015.08.03-19.33.46_MD590_1_0114_mask_alignedTo_MD590-N47-2015.09.12-05.32.06_MD590_2_0140_cropped.png"
     ]
    },
    {
     "name": "stderr",
     "output_type": "stream",
     "text": [
      " 0\n",
      "Child returned 0\n",
      "2.19 seconds.\n",
      "locate patches: 2.22 seconds\n",
      "48252 samples.\n",
      "load image: 1.98 seconds\n",
      "extract patches: 18.05 seconds\n",
      "predict: 128.75 seconds\n"
     ]
    },
    {
     "name": "stdout",
     "output_type": "stream",
     "text": [
      "\n",
      "aws s3 cp /media/yuncong/BstemAtlasData/CSHL_patch_features/inception-bn-blue/MD590/MD590-N38-2015.08.03-19.33.46_MD590_1_0114_lossless_alignedTo_MD590-N47-2015.09.12-05.32.06_MD590_2_0140_cropped/MD590-N38-2015.08.03-19.33.46_MD590_1_0114_lossless_alignedTo_MD590-N47-2015.09.12-05.32.06_MD590_2_0140_cropped_features.hdf s3://mousebrainatlas-data/CSHL_patch_features/inception-bn-blue/MD590/MD590-N38-2015.08.03-19.33.46_MD590_1_0114_lossless_alignedTo_MD590-N47-2015.09.12-05.32.06_MD590_2_0140_cropped/MD590-N38-2015.08.03-19.33.46_MD590_1_0114_lossless_alignedTo_MD590-N47-2015.09.12-05.32.06_MD590_2_0140_cropped_features.hdf\n",
      "aws s3 cp /media/yuncong/BstemAtlasData/CSHL_patch_features/inception-bn-blue/MD590/MD590-N38-2015.08.03-19.33.46_MD590_1_0114_lossless_alignedTo_MD590-N47-2015.09.12-05.32.06_MD590_2_0140_cropped/MD590-N38-2015.08.03-19.33.46_MD590_1_0114_lossless_alignedTo_MD590-N47-2015.09.12-05.32.06_MD590_2_0140_cropped_patch_locations.txt s3://mousebrainatlas-data/CSHL_patch_features/inception-bn-blue/MD590/MD590-N38-2015.08.03-19.33.46_MD590_1_0114_lossless_alignedTo_MD590-N47-2015.09.12-05.32.06_MD590_2_0140_cropped/MD590-N38-2015.08.03-19.33.46_MD590_1_0114_lossless_alignedTo_MD590-N47-2015.09.12-05.32.06_MD590_2_0140_cropped_patch_locations.txt"
     ]
    },
    {
     "name": "stderr",
     "output_type": "stream",
     "text": [
      "Child returned 0\n",
      "2.85 seconds.\n",
      "Child returned"
     ]
    },
    {
     "name": "stdout",
     "output_type": "stream",
     "text": [
      "\n",
      "rm -rf /media/yuncong/BstemAtlasData/CSHL_data_processed/MD590/MD590_masks_alignedTo_MD590-N47-2015.09.12-05.32.06_MD590_2_0140_cropped/MD590-IHC38-2015.08.10-20.37.21_MD590_1_0114_mask_alignedTo_MD590-N47-2015.09.12-05.32.06_MD590_2_0140_cropped.png && mkdir -p /media/yuncong/BstemAtlasData/CSHL_data_processed/MD590/MD590_masks_alignedTo_MD590-N47-2015.09.12-05.32.06_MD590_2_0140_cropped"
     ]
    },
    {
     "name": "stderr",
     "output_type": "stream",
     "text": [
      " 0\n",
      "1.48 seconds.\n",
      "save: 6.82 seconds\n",
      "\n",
      "Section 191.\n",
      "Child returned"
     ]
    },
    {
     "name": "stdout",
     "output_type": "stream",
     "text": [
      "\n",
      "aws s3 cp s3://mousebrainatlas-data/CSHL_data_processed/MD590/MD590_masks_alignedTo_MD590-N47-2015.09.12-05.32.06_MD590_2_0140_cropped/MD590-IHC38-2015.08.10-20.37.21_MD590_1_0114_mask_alignedTo_MD590-N47-2015.09.12-05.32.06_MD590_2_0140_cropped.png /media/yuncong/BstemAtlasData/CSHL_data_processed/MD590/MD590_masks_alignedTo_MD590-N47-2015.09.12-05.32.06_MD590_2_0140_cropped/MD590-IHC38-2015.08.10-20.37.21_MD590_1_0114_mask_alignedTo_MD590-N47-2015.09.12-05.32.06_MD590_2_0140_cropped.png"
     ]
    },
    {
     "name": "stderr",
     "output_type": "stream",
     "text": [
      " 0\n",
      "Child returned 0\n",
      "1.94 seconds.\n",
      "locate patches: 1.97 seconds\n",
      "48662 samples.\n",
      "load image: 2.00 seconds\n",
      "extract patches: 18.44 seconds\n",
      "predict: 126.33 seconds\n"
     ]
    },
    {
     "name": "stdout",
     "output_type": "stream",
     "text": [
      "\n",
      "aws s3 cp /media/yuncong/BstemAtlasData/CSHL_patch_features/inception-bn-blue/MD590/MD590-IHC38-2015.08.10-20.37.21_MD590_1_0114_lossless_alignedTo_MD590-N47-2015.09.12-05.32.06_MD590_2_0140_cropped/MD590-IHC38-2015.08.10-20.37.21_MD590_1_0114_lossless_alignedTo_MD590-N47-2015.09.12-05.32.06_MD590_2_0140_cropped_features.hdf s3://mousebrainatlas-data/CSHL_patch_features/inception-bn-blue/MD590/MD590-IHC38-2015.08.10-20.37.21_MD590_1_0114_lossless_alignedTo_MD590-N47-2015.09.12-05.32.06_MD590_2_0140_cropped/MD590-IHC38-2015.08.10-20.37.21_MD590_1_0114_lossless_alignedTo_MD590-N47-2015.09.12-05.32.06_MD590_2_0140_cropped_features.hdf\n",
      "aws s3 cp /media/yuncong/BstemAtlasData/CSHL_patch_features/inception-bn-blue/MD590/MD590-IHC38-2015.08.10-20.37.21_MD590_1_0114_lossless_alignedTo_MD590-N47-2015.09.12-05.32.06_MD590_2_0140_cropped/MD590-IHC38-2015.08.10-20.37.21_MD590_1_0114_lossless_alignedTo_MD590-N47-2015.09.12-05.32.06_MD590_2_0140_cropped_patch_locations.txt s3://mousebrainatlas-data/CSHL_patch_features/inception-bn-blue/MD590/MD590-IHC38-2015.08.10-20.37.21_MD590_1_0114_lossless_alignedTo_MD590-N47-2015.09.12-05.32.06_MD590_2_0140_cropped/MD590-IHC38-2015.08.10-20.37.21_MD590_1_0114_lossless_alignedTo_MD590-N47-2015.09.12-05.32.06_MD590_2_0140_cropped_patch_locations.txt"
     ]
    },
    {
     "name": "stderr",
     "output_type": "stream",
     "text": [
      "Child returned 0\n",
      "3.05 seconds.\n",
      "Child returned"
     ]
    },
    {
     "name": "stdout",
     "output_type": "stream",
     "text": [
      "\n",
      "rm -rf /media/yuncong/BstemAtlasData/CSHL_data_processed/MD590/MD590_masks_alignedTo_MD590-N47-2015.09.12-05.32.06_MD590_2_0140_cropped/MD590-N39-2015.08.03-19.37.45_MD590_3_0115_mask_alignedTo_MD590-N47-2015.09.12-05.32.06_MD590_2_0140_cropped.png && mkdir -p /media/yuncong/BstemAtlasData/CSHL_data_processed/MD590/MD590_masks_alignedTo_MD590-N47-2015.09.12-05.32.06_MD590_2_0140_cropped"
     ]
    },
    {
     "name": "stderr",
     "output_type": "stream",
     "text": [
      " 0\n",
      "1.35 seconds.\n",
      "save: 6.83 seconds\n",
      "\n",
      "Section 192.\n",
      "Child returned"
     ]
    },
    {
     "name": "stdout",
     "output_type": "stream",
     "text": [
      "\n",
      "aws s3 cp s3://mousebrainatlas-data/CSHL_data_processed/MD590/MD590_masks_alignedTo_MD590-N47-2015.09.12-05.32.06_MD590_2_0140_cropped/MD590-N39-2015.08.03-19.37.45_MD590_3_0115_mask_alignedTo_MD590-N47-2015.09.12-05.32.06_MD590_2_0140_cropped.png /media/yuncong/BstemAtlasData/CSHL_data_processed/MD590/MD590_masks_alignedTo_MD590-N47-2015.09.12-05.32.06_MD590_2_0140_cropped/MD590-N39-2015.08.03-19.37.45_MD590_3_0115_mask_alignedTo_MD590-N47-2015.09.12-05.32.06_MD590_2_0140_cropped.png"
     ]
    },
    {
     "name": "stderr",
     "output_type": "stream",
     "text": [
      " 0\n",
      "Child returned 0\n",
      "1.99 seconds.\n",
      "locate patches: 2.02 seconds\n",
      "48162 samples.\n",
      "load image: 2.00 seconds\n",
      "extract patches: 17.62 seconds\n",
      "predict: 125.08 seconds\n"
     ]
    },
    {
     "name": "stdout",
     "output_type": "stream",
     "text": [
      "\n",
      "aws s3 cp /media/yuncong/BstemAtlasData/CSHL_patch_features/inception-bn-blue/MD590/MD590-N39-2015.08.03-19.37.45_MD590_3_0115_lossless_alignedTo_MD590-N47-2015.09.12-05.32.06_MD590_2_0140_cropped/MD590-N39-2015.08.03-19.37.45_MD590_3_0115_lossless_alignedTo_MD590-N47-2015.09.12-05.32.06_MD590_2_0140_cropped_features.hdf s3://mousebrainatlas-data/CSHL_patch_features/inception-bn-blue/MD590/MD590-N39-2015.08.03-19.37.45_MD590_3_0115_lossless_alignedTo_MD590-N47-2015.09.12-05.32.06_MD590_2_0140_cropped/MD590-N39-2015.08.03-19.37.45_MD590_3_0115_lossless_alignedTo_MD590-N47-2015.09.12-05.32.06_MD590_2_0140_cropped_features.hdf\n",
      "aws s3 cp /media/yuncong/BstemAtlasData/CSHL_patch_features/inception-bn-blue/MD590/MD590-N39-2015.08.03-19.37.45_MD590_3_0115_lossless_alignedTo_MD590-N47-2015.09.12-05.32.06_MD590_2_0140_cropped/MD590-N39-2015.08.03-19.37.45_MD590_3_0115_lossless_alignedTo_MD590-N47-2015.09.12-05.32.06_MD590_2_0140_cropped_patch_locations.txt s3://mousebrainatlas-data/CSHL_patch_features/inception-bn-blue/MD590/MD590-N39-2015.08.03-19.37.45_MD590_3_0115_lossless_alignedTo_MD590-N47-2015.09.12-05.32.06_MD590_2_0140_cropped/MD590-N39-2015.08.03-19.37.45_MD590_3_0115_lossless_alignedTo_MD590-N47-2015.09.12-05.32.06_MD590_2_0140_cropped_patch_locations.txt"
     ]
    },
    {
     "name": "stderr",
     "output_type": "stream",
     "text": [
      "Child returned 0\n",
      "2.72 seconds.\n",
      "Child returned"
     ]
    },
    {
     "name": "stdout",
     "output_type": "stream",
     "text": [
      "\n",
      "rm -rf /media/yuncong/BstemAtlasData/CSHL_data_processed/MD590/MD590_masks_alignedTo_MD590-N47-2015.09.12-05.32.06_MD590_2_0140_cropped/MD590-IHC39-2015.08.10-20.41.34_MD590_3_0115_mask_alignedTo_MD590-N47-2015.09.12-05.32.06_MD590_2_0140_cropped.png && mkdir -p /media/yuncong/BstemAtlasData/CSHL_data_processed/MD590/MD590_masks_alignedTo_MD590-N47-2015.09.12-05.32.06_MD590_2_0140_cropped"
     ]
    },
    {
     "name": "stderr",
     "output_type": "stream",
     "text": [
      " 0\n",
      "1.31 seconds.\n",
      "save: 6.46 seconds\n",
      "\n",
      "Section 193.\n",
      "Child returned"
     ]
    },
    {
     "name": "stdout",
     "output_type": "stream",
     "text": [
      "\n",
      "aws s3 cp s3://mousebrainatlas-data/CSHL_data_processed/MD590/MD590_masks_alignedTo_MD590-N47-2015.09.12-05.32.06_MD590_2_0140_cropped/MD590-IHC39-2015.08.10-20.41.34_MD590_3_0115_mask_alignedTo_MD590-N47-2015.09.12-05.32.06_MD590_2_0140_cropped.png /media/yuncong/BstemAtlasData/CSHL_data_processed/MD590/MD590_masks_alignedTo_MD590-N47-2015.09.12-05.32.06_MD590_2_0140_cropped/MD590-IHC39-2015.08.10-20.41.34_MD590_3_0115_mask_alignedTo_MD590-N47-2015.09.12-05.32.06_MD590_2_0140_cropped.png"
     ]
    },
    {
     "name": "stderr",
     "output_type": "stream",
     "text": [
      " 0\n",
      "Child returned 0\n",
      "1.86 seconds.\n",
      "locate patches: 1.89 seconds\n",
      "48564 samples.\n",
      "load image: 1.45 seconds\n",
      "extract patches: 18.28 seconds\n",
      "predict: 125.98 seconds\n"
     ]
    },
    {
     "name": "stdout",
     "output_type": "stream",
     "text": [
      "\n",
      "aws s3 cp /media/yuncong/BstemAtlasData/CSHL_patch_features/inception-bn-blue/MD590/MD590-IHC39-2015.08.10-20.41.34_MD590_3_0115_lossless_alignedTo_MD590-N47-2015.09.12-05.32.06_MD590_2_0140_cropped/MD590-IHC39-2015.08.10-20.41.34_MD590_3_0115_lossless_alignedTo_MD590-N47-2015.09.12-05.32.06_MD590_2_0140_cropped_features.hdf s3://mousebrainatlas-data/CSHL_patch_features/inception-bn-blue/MD590/MD590-IHC39-2015.08.10-20.41.34_MD590_3_0115_lossless_alignedTo_MD590-N47-2015.09.12-05.32.06_MD590_2_0140_cropped/MD590-IHC39-2015.08.10-20.41.34_MD590_3_0115_lossless_alignedTo_MD590-N47-2015.09.12-05.32.06_MD590_2_0140_cropped_features.hdf\n",
      "aws s3 cp /media/yuncong/BstemAtlasData/CSHL_patch_features/inception-bn-blue/MD590/MD590-IHC39-2015.08.10-20.41.34_MD590_3_0115_lossless_alignedTo_MD590-N47-2015.09.12-05.32.06_MD590_2_0140_cropped/MD590-IHC39-2015.08.10-20.41.34_MD590_3_0115_lossless_alignedTo_MD590-N47-2015.09.12-05.32.06_MD590_2_0140_cropped_patch_locations.txt s3://mousebrainatlas-data/CSHL_patch_features/inception-bn-blue/MD590/MD590-IHC39-2015.08.10-20.41.34_MD590_3_0115_lossless_alignedTo_MD590-N47-2015.09.12-05.32.06_MD590_2_0140_cropped/MD590-IHC39-2015.08.10-20.41.34_MD590_3_0115_lossless_alignedTo_MD590-N47-2015.09.12-05.32.06_MD590_2_0140_cropped_patch_locations.txt"
     ]
    },
    {
     "name": "stderr",
     "output_type": "stream",
     "text": [
      "Child returned 0\n",
      "3.00 seconds.\n",
      "Child returned"
     ]
    },
    {
     "name": "stdout",
     "output_type": "stream",
     "text": [
      "\n",
      "rm -rf /media/yuncong/BstemAtlasData/CSHL_data_processed/MD590/MD590_masks_alignedTo_MD590-N47-2015.09.12-05.32.06_MD590_2_0140_cropped/MD590-N39-2015.08.03-19.37.45_MD590_1_0117_mask_alignedTo_MD590-N47-2015.09.12-05.32.06_MD590_2_0140_cropped.png && mkdir -p /media/yuncong/BstemAtlasData/CSHL_data_processed/MD590/MD590_masks_alignedTo_MD590-N47-2015.09.12-05.32.06_MD590_2_0140_cropped"
     ]
    },
    {
     "name": "stderr",
     "output_type": "stream",
     "text": [
      " 0\n",
      "1.35 seconds.\n",
      "save: 6.69 seconds\n",
      "\n",
      "Section 194.\n",
      "Child returned"
     ]
    },
    {
     "name": "stdout",
     "output_type": "stream",
     "text": [
      "\n",
      "aws s3 cp s3://mousebrainatlas-data/CSHL_data_processed/MD590/MD590_masks_alignedTo_MD590-N47-2015.09.12-05.32.06_MD590_2_0140_cropped/MD590-N39-2015.08.03-19.37.45_MD590_1_0117_mask_alignedTo_MD590-N47-2015.09.12-05.32.06_MD590_2_0140_cropped.png /media/yuncong/BstemAtlasData/CSHL_data_processed/MD590/MD590_masks_alignedTo_MD590-N47-2015.09.12-05.32.06_MD590_2_0140_cropped/MD590-N39-2015.08.03-19.37.45_MD590_1_0117_mask_alignedTo_MD590-N47-2015.09.12-05.32.06_MD590_2_0140_cropped.png"
     ]
    },
    {
     "name": "stderr",
     "output_type": "stream",
     "text": [
      " 0\n",
      "Child returned 0\n",
      "1.95 seconds.\n",
      "locate patches: 1.97 seconds\n",
      "48163 samples.\n",
      "load image: 2.17 seconds\n",
      "extract patches: 17.65 seconds\n",
      "predict: 125.01 seconds\n"
     ]
    },
    {
     "name": "stdout",
     "output_type": "stream",
     "text": [
      "\n",
      "aws s3 cp /media/yuncong/BstemAtlasData/CSHL_patch_features/inception-bn-blue/MD590/MD590-N39-2015.08.03-19.37.45_MD590_1_0117_lossless_alignedTo_MD590-N47-2015.09.12-05.32.06_MD590_2_0140_cropped/MD590-N39-2015.08.03-19.37.45_MD590_1_0117_lossless_alignedTo_MD590-N47-2015.09.12-05.32.06_MD590_2_0140_cropped_features.hdf s3://mousebrainatlas-data/CSHL_patch_features/inception-bn-blue/MD590/MD590-N39-2015.08.03-19.37.45_MD590_1_0117_lossless_alignedTo_MD590-N47-2015.09.12-05.32.06_MD590_2_0140_cropped/MD590-N39-2015.08.03-19.37.45_MD590_1_0117_lossless_alignedTo_MD590-N47-2015.09.12-05.32.06_MD590_2_0140_cropped_features.hdf\n",
      "aws s3 cp /media/yuncong/BstemAtlasData/CSHL_patch_features/inception-bn-blue/MD590/MD590-N39-2015.08.03-19.37.45_MD590_1_0117_lossless_alignedTo_MD590-N47-2015.09.12-05.32.06_MD590_2_0140_cropped/MD590-N39-2015.08.03-19.37.45_MD590_1_0117_lossless_alignedTo_MD590-N47-2015.09.12-05.32.06_MD590_2_0140_cropped_patch_locations.txt s3://mousebrainatlas-data/CSHL_patch_features/inception-bn-blue/MD590/MD590-N39-2015.08.03-19.37.45_MD590_1_0117_lossless_alignedTo_MD590-N47-2015.09.12-05.32.06_MD590_2_0140_cropped/MD590-N39-2015.08.03-19.37.45_MD590_1_0117_lossless_alignedTo_MD590-N47-2015.09.12-05.32.06_MD590_2_0140_cropped_patch_locations.txt"
     ]
    },
    {
     "name": "stderr",
     "output_type": "stream",
     "text": [
      "Child returned 0\n",
      "2.86 seconds.\n",
      "Child returned"
     ]
    },
    {
     "name": "stdout",
     "output_type": "stream",
     "text": [
      "\n",
      "rm -rf /media/yuncong/BstemAtlasData/CSHL_data_processed/MD590/MD590_masks_alignedTo_MD590-N47-2015.09.12-05.32.06_MD590_2_0140_cropped/MD590-IHC39-2015.08.10-20.41.34_MD590_2_0116_mask_alignedTo_MD590-N47-2015.09.12-05.32.06_MD590_2_0140_cropped.png && mkdir -p /media/yuncong/BstemAtlasData/CSHL_data_processed/MD590/MD590_masks_alignedTo_MD590-N47-2015.09.12-05.32.06_MD590_2_0140_cropped"
     ]
    },
    {
     "name": "stderr",
     "output_type": "stream",
     "text": [
      " 0\n",
      "1.36 seconds.\n",
      "save: 6.57 seconds\n",
      "\n",
      "Section 195.\n",
      "Child returned"
     ]
    },
    {
     "name": "stdout",
     "output_type": "stream",
     "text": [
      "\n",
      "aws s3 cp s3://mousebrainatlas-data/CSHL_data_processed/MD590/MD590_masks_alignedTo_MD590-N47-2015.09.12-05.32.06_MD590_2_0140_cropped/MD590-IHC39-2015.08.10-20.41.34_MD590_2_0116_mask_alignedTo_MD590-N47-2015.09.12-05.32.06_MD590_2_0140_cropped.png /media/yuncong/BstemAtlasData/CSHL_data_processed/MD590/MD590_masks_alignedTo_MD590-N47-2015.09.12-05.32.06_MD590_2_0140_cropped/MD590-IHC39-2015.08.10-20.41.34_MD590_2_0116_mask_alignedTo_MD590-N47-2015.09.12-05.32.06_MD590_2_0140_cropped.png"
     ]
    },
    {
     "name": "stderr",
     "output_type": "stream",
     "text": [
      " 0\n",
      "Child returned 0\n",
      "1.87 seconds.\n",
      "locate patches: 1.90 seconds\n",
      "48769 samples.\n",
      "load image: 1.57 seconds\n",
      "extract patches: 18.50 seconds\n",
      "predict: 126.41 seconds\n"
     ]
    },
    {
     "name": "stdout",
     "output_type": "stream",
     "text": [
      "\n",
      "aws s3 cp /media/yuncong/BstemAtlasData/CSHL_patch_features/inception-bn-blue/MD590/MD590-IHC39-2015.08.10-20.41.34_MD590_2_0116_lossless_alignedTo_MD590-N47-2015.09.12-05.32.06_MD590_2_0140_cropped/MD590-IHC39-2015.08.10-20.41.34_MD590_2_0116_lossless_alignedTo_MD590-N47-2015.09.12-05.32.06_MD590_2_0140_cropped_features.hdf s3://mousebrainatlas-data/CSHL_patch_features/inception-bn-blue/MD590/MD590-IHC39-2015.08.10-20.41.34_MD590_2_0116_lossless_alignedTo_MD590-N47-2015.09.12-05.32.06_MD590_2_0140_cropped/MD590-IHC39-2015.08.10-20.41.34_MD590_2_0116_lossless_alignedTo_MD590-N47-2015.09.12-05.32.06_MD590_2_0140_cropped_features.hdf\n",
      "aws s3 cp /media/yuncong/BstemAtlasData/CSHL_patch_features/inception-bn-blue/MD590/MD590-IHC39-2015.08.10-20.41.34_MD590_2_0116_lossless_alignedTo_MD590-N47-2015.09.12-05.32.06_MD590_2_0140_cropped/MD590-IHC39-2015.08.10-20.41.34_MD590_2_0116_lossless_alignedTo_MD590-N47-2015.09.12-05.32.06_MD590_2_0140_cropped_patch_locations.txt s3://mousebrainatlas-data/CSHL_patch_features/inception-bn-blue/MD590/MD590-IHC39-2015.08.10-20.41.34_MD590_2_0116_lossless_alignedTo_MD590-N47-2015.09.12-05.32.06_MD590_2_0140_cropped/MD590-IHC39-2015.08.10-20.41.34_MD590_2_0116_lossless_alignedTo_MD590-N47-2015.09.12-05.32.06_MD590_2_0140_cropped_patch_locations.txt"
     ]
    },
    {
     "name": "stderr",
     "output_type": "stream",
     "text": [
      "Child returned 0\n",
      "2.80 seconds.\n",
      "Child returned"
     ]
    },
    {
     "name": "stdout",
     "output_type": "stream",
     "text": [
      "\n",
      "rm -rf /media/yuncong/BstemAtlasData/CSHL_data_processed/MD590/MD590_masks_alignedTo_MD590-N47-2015.09.12-05.32.06_MD590_2_0140_cropped/MD590-N40-2015.09.12-05.27.06_MD590_1_0118_mask_alignedTo_MD590-N47-2015.09.12-05.32.06_MD590_2_0140_cropped.png && mkdir -p /media/yuncong/BstemAtlasData/CSHL_data_processed/MD590/MD590_masks_alignedTo_MD590-N47-2015.09.12-05.32.06_MD590_2_0140_cropped"
     ]
    },
    {
     "name": "stderr",
     "output_type": "stream",
     "text": [
      " 0\n",
      "1.43 seconds.\n",
      "save: 6.65 seconds\n",
      "\n",
      "Section 196.\n",
      "Child returned"
     ]
    },
    {
     "name": "stdout",
     "output_type": "stream",
     "text": [
      "\n",
      "aws s3 cp s3://mousebrainatlas-data/CSHL_data_processed/MD590/MD590_masks_alignedTo_MD590-N47-2015.09.12-05.32.06_MD590_2_0140_cropped/MD590-N40-2015.09.12-05.27.06_MD590_1_0118_mask_alignedTo_MD590-N47-2015.09.12-05.32.06_MD590_2_0140_cropped.png /media/yuncong/BstemAtlasData/CSHL_data_processed/MD590/MD590_masks_alignedTo_MD590-N47-2015.09.12-05.32.06_MD590_2_0140_cropped/MD590-N40-2015.09.12-05.27.06_MD590_1_0118_mask_alignedTo_MD590-N47-2015.09.12-05.32.06_MD590_2_0140_cropped.png"
     ]
    },
    {
     "name": "stderr",
     "output_type": "stream",
     "text": [
      " 0\n",
      "Child returned 0\n",
      "1.89 seconds.\n",
      "locate patches: 1.92 seconds\n",
      "48894 samples.\n",
      "load image: 1.49 seconds\n",
      "extract patches: 18.13 seconds\n",
      "predict: 126.58 seconds\n"
     ]
    },
    {
     "name": "stdout",
     "output_type": "stream",
     "text": [
      "\n",
      "aws s3 cp /media/yuncong/BstemAtlasData/CSHL_patch_features/inception-bn-blue/MD590/MD590-N40-2015.09.12-05.27.06_MD590_1_0118_lossless_alignedTo_MD590-N47-2015.09.12-05.32.06_MD590_2_0140_cropped/MD590-N40-2015.09.12-05.27.06_MD590_1_0118_lossless_alignedTo_MD590-N47-2015.09.12-05.32.06_MD590_2_0140_cropped_features.hdf s3://mousebrainatlas-data/CSHL_patch_features/inception-bn-blue/MD590/MD590-N40-2015.09.12-05.27.06_MD590_1_0118_lossless_alignedTo_MD590-N47-2015.09.12-05.32.06_MD590_2_0140_cropped/MD590-N40-2015.09.12-05.27.06_MD590_1_0118_lossless_alignedTo_MD590-N47-2015.09.12-05.32.06_MD590_2_0140_cropped_features.hdf\n",
      "aws s3 cp /media/yuncong/BstemAtlasData/CSHL_patch_features/inception-bn-blue/MD590/MD590-N40-2015.09.12-05.27.06_MD590_1_0118_lossless_alignedTo_MD590-N47-2015.09.12-05.32.06_MD590_2_0140_cropped/MD590-N40-2015.09.12-05.27.06_MD590_1_0118_lossless_alignedTo_MD590-N47-2015.09.12-05.32.06_MD590_2_0140_cropped_patch_locations.txt s3://mousebrainatlas-data/CSHL_patch_features/inception-bn-blue/MD590/MD590-N40-2015.09.12-05.27.06_MD590_1_0118_lossless_alignedTo_MD590-N47-2015.09.12-05.32.06_MD590_2_0140_cropped/MD590-N40-2015.09.12-05.27.06_MD590_1_0118_lossless_alignedTo_MD590-N47-2015.09.12-05.32.06_MD590_2_0140_cropped_patch_locations.txt"
     ]
    },
    {
     "name": "stderr",
     "output_type": "stream",
     "text": [
      "Child returned 0\n",
      "2.97 seconds.\n",
      "Child returned"
     ]
    },
    {
     "name": "stdout",
     "output_type": "stream",
     "text": [
      "\n",
      "rm -rf /media/yuncong/BstemAtlasData/CSHL_data_processed/MD590/MD590_masks_alignedTo_MD590-N47-2015.09.12-05.32.06_MD590_2_0140_cropped/MD590-IHC40-2015.08.10-20.45.53_MD590_3_0118_mask_alignedTo_MD590-N47-2015.09.12-05.32.06_MD590_2_0140_cropped.png && mkdir -p /media/yuncong/BstemAtlasData/CSHL_data_processed/MD590/MD590_masks_alignedTo_MD590-N47-2015.09.12-05.32.06_MD590_2_0140_cropped"
     ]
    },
    {
     "name": "stderr",
     "output_type": "stream",
     "text": [
      " 0\n",
      "1.35 seconds.\n",
      "save: 6.72 seconds\n",
      "\n",
      "Section 197.\n",
      "Child returned"
     ]
    },
    {
     "name": "stdout",
     "output_type": "stream",
     "text": [
      "\n",
      "aws s3 cp s3://mousebrainatlas-data/CSHL_data_processed/MD590/MD590_masks_alignedTo_MD590-N47-2015.09.12-05.32.06_MD590_2_0140_cropped/MD590-IHC40-2015.08.10-20.45.53_MD590_3_0118_mask_alignedTo_MD590-N47-2015.09.12-05.32.06_MD590_2_0140_cropped.png /media/yuncong/BstemAtlasData/CSHL_data_processed/MD590/MD590_masks_alignedTo_MD590-N47-2015.09.12-05.32.06_MD590_2_0140_cropped/MD590-IHC40-2015.08.10-20.45.53_MD590_3_0118_mask_alignedTo_MD590-N47-2015.09.12-05.32.06_MD590_2_0140_cropped.png"
     ]
    },
    {
     "name": "stderr",
     "output_type": "stream",
     "text": [
      " 0\n",
      "Child returned 0\n",
      "1.78 seconds.\n",
      "locate patches: 1.81 seconds\n",
      "48354 samples.\n",
      "load image: 1.51 seconds\n",
      "extract patches: 17.49 seconds\n",
      "predict: 124.61 seconds\n"
     ]
    },
    {
     "name": "stdout",
     "output_type": "stream",
     "text": [
      "\n",
      "aws s3 cp /media/yuncong/BstemAtlasData/CSHL_patch_features/inception-bn-blue/MD590/MD590-IHC40-2015.08.10-20.45.53_MD590_3_0118_lossless_alignedTo_MD590-N47-2015.09.12-05.32.06_MD590_2_0140_cropped/MD590-IHC40-2015.08.10-20.45.53_MD590_3_0118_lossless_alignedTo_MD590-N47-2015.09.12-05.32.06_MD590_2_0140_cropped_features.hdf s3://mousebrainatlas-data/CSHL_patch_features/inception-bn-blue/MD590/MD590-IHC40-2015.08.10-20.45.53_MD590_3_0118_lossless_alignedTo_MD590-N47-2015.09.12-05.32.06_MD590_2_0140_cropped/MD590-IHC40-2015.08.10-20.45.53_MD590_3_0118_lossless_alignedTo_MD590-N47-2015.09.12-05.32.06_MD590_2_0140_cropped_features.hdf\n",
      "aws s3 cp /media/yuncong/BstemAtlasData/CSHL_patch_features/inception-bn-blue/MD590/MD590-IHC40-2015.08.10-20.45.53_MD590_3_0118_lossless_alignedTo_MD590-N47-2015.09.12-05.32.06_MD590_2_0140_cropped/MD590-IHC40-2015.08.10-20.45.53_MD590_3_0118_lossless_alignedTo_MD590-N47-2015.09.12-05.32.06_MD590_2_0140_cropped_patch_locations.txt s3://mousebrainatlas-data/CSHL_patch_features/inception-bn-blue/MD590/MD590-IHC40-2015.08.10-20.45.53_MD590_3_0118_lossless_alignedTo_MD590-N47-2015.09.12-05.32.06_MD590_2_0140_cropped/MD590-IHC40-2015.08.10-20.45.53_MD590_3_0118_lossless_alignedTo_MD590-N47-2015.09.12-05.32.06_MD590_2_0140_cropped_patch_locations.txt"
     ]
    },
    {
     "name": "stderr",
     "output_type": "stream",
     "text": [
      "Child returned 0\n",
      "2.65 seconds.\n",
      "Child returned"
     ]
    },
    {
     "name": "stdout",
     "output_type": "stream",
     "text": [
      "\n",
      "rm -rf /media/yuncong/BstemAtlasData/CSHL_data_processed/MD590/MD590_masks_alignedTo_MD590-N47-2015.09.12-05.32.06_MD590_2_0140_cropped/MD590-N40-2015.09.12-05.27.06_MD590_2_0119_mask_alignedTo_MD590-N47-2015.09.12-05.32.06_MD590_2_0140_cropped.png && mkdir -p /media/yuncong/BstemAtlasData/CSHL_data_processed/MD590/MD590_masks_alignedTo_MD590-N47-2015.09.12-05.32.06_MD590_2_0140_cropped"
     ]
    },
    {
     "name": "stderr",
     "output_type": "stream",
     "text": [
      " 0\n",
      "1.44 seconds.\n",
      "save: 6.47 seconds\n",
      "\n",
      "Section 198.\n",
      "Child returned"
     ]
    },
    {
     "name": "stdout",
     "output_type": "stream",
     "text": [
      "\n",
      "aws s3 cp s3://mousebrainatlas-data/CSHL_data_processed/MD590/MD590_masks_alignedTo_MD590-N47-2015.09.12-05.32.06_MD590_2_0140_cropped/MD590-N40-2015.09.12-05.27.06_MD590_2_0119_mask_alignedTo_MD590-N47-2015.09.12-05.32.06_MD590_2_0140_cropped.png /media/yuncong/BstemAtlasData/CSHL_data_processed/MD590/MD590_masks_alignedTo_MD590-N47-2015.09.12-05.32.06_MD590_2_0140_cropped/MD590-N40-2015.09.12-05.27.06_MD590_2_0119_mask_alignedTo_MD590-N47-2015.09.12-05.32.06_MD590_2_0140_cropped.png"
     ]
    },
    {
     "name": "stderr",
     "output_type": "stream",
     "text": [
      " 0\n",
      "Child returned 0\n",
      "1.88 seconds.\n",
      "locate patches: 1.90 seconds\n",
      "48296 samples.\n",
      "load image: 1.53 seconds\n",
      "extract patches: 17.71 seconds\n",
      "predict: 124.80 seconds\n"
     ]
    },
    {
     "name": "stdout",
     "output_type": "stream",
     "text": [
      "\n",
      "aws s3 cp /media/yuncong/BstemAtlasData/CSHL_patch_features/inception-bn-blue/MD590/MD590-N40-2015.09.12-05.27.06_MD590_2_0119_lossless_alignedTo_MD590-N47-2015.09.12-05.32.06_MD590_2_0140_cropped/MD590-N40-2015.09.12-05.27.06_MD590_2_0119_lossless_alignedTo_MD590-N47-2015.09.12-05.32.06_MD590_2_0140_cropped_features.hdf s3://mousebrainatlas-data/CSHL_patch_features/inception-bn-blue/MD590/MD590-N40-2015.09.12-05.27.06_MD590_2_0119_lossless_alignedTo_MD590-N47-2015.09.12-05.32.06_MD590_2_0140_cropped/MD590-N40-2015.09.12-05.27.06_MD590_2_0119_lossless_alignedTo_MD590-N47-2015.09.12-05.32.06_MD590_2_0140_cropped_features.hdf\n",
      "aws s3 cp /media/yuncong/BstemAtlasData/CSHL_patch_features/inception-bn-blue/MD590/MD590-N40-2015.09.12-05.27.06_MD590_2_0119_lossless_alignedTo_MD590-N47-2015.09.12-05.32.06_MD590_2_0140_cropped/MD590-N40-2015.09.12-05.27.06_MD590_2_0119_lossless_alignedTo_MD590-N47-2015.09.12-05.32.06_MD590_2_0140_cropped_patch_locations.txt s3://mousebrainatlas-data/CSHL_patch_features/inception-bn-blue/MD590/MD590-N40-2015.09.12-05.27.06_MD590_2_0119_lossless_alignedTo_MD590-N47-2015.09.12-05.32.06_MD590_2_0140_cropped/MD590-N40-2015.09.12-05.27.06_MD590_2_0119_lossless_alignedTo_MD590-N47-2015.09.12-05.32.06_MD590_2_0140_cropped_patch_locations.txt"
     ]
    },
    {
     "name": "stderr",
     "output_type": "stream",
     "text": [
      "Child returned 0\n",
      "2.68 seconds.\n",
      "Child returned"
     ]
    },
    {
     "name": "stdout",
     "output_type": "stream",
     "text": [
      "\n",
      "rm -rf /media/yuncong/BstemAtlasData/CSHL_data_processed/MD590/MD590_masks_alignedTo_MD590-N47-2015.09.12-05.32.06_MD590_2_0140_cropped/MD590-IHC40-2015.08.10-20.45.53_MD590_1_0120_mask_alignedTo_MD590-N47-2015.09.12-05.32.06_MD590_2_0140_cropped.png && mkdir -p /media/yuncong/BstemAtlasData/CSHL_data_processed/MD590/MD590_masks_alignedTo_MD590-N47-2015.09.12-05.32.06_MD590_2_0140_cropped"
     ]
    },
    {
     "name": "stderr",
     "output_type": "stream",
     "text": [
      " 0\n",
      "1.39 seconds.\n",
      "save: 6.45 seconds\n",
      "\n",
      "Section 199.\n",
      "Child returned"
     ]
    },
    {
     "name": "stdout",
     "output_type": "stream",
     "text": [
      "\n",
      "aws s3 cp s3://mousebrainatlas-data/CSHL_data_processed/MD590/MD590_masks_alignedTo_MD590-N47-2015.09.12-05.32.06_MD590_2_0140_cropped/MD590-IHC40-2015.08.10-20.45.53_MD590_1_0120_mask_alignedTo_MD590-N47-2015.09.12-05.32.06_MD590_2_0140_cropped.png /media/yuncong/BstemAtlasData/CSHL_data_processed/MD590/MD590_masks_alignedTo_MD590-N47-2015.09.12-05.32.06_MD590_2_0140_cropped/MD590-IHC40-2015.08.10-20.45.53_MD590_1_0120_mask_alignedTo_MD590-N47-2015.09.12-05.32.06_MD590_2_0140_cropped.png"
     ]
    },
    {
     "name": "stderr",
     "output_type": "stream",
     "text": [
      " 0\n",
      "Child returned 0\n",
      "1.82 seconds.\n",
      "locate patches: 1.85 seconds\n",
      "49657 samples.\n",
      "load image: 1.53 seconds\n",
      "extract patches: 18.73 seconds\n",
      "predict: 128.40 seconds\n"
     ]
    },
    {
     "name": "stdout",
     "output_type": "stream",
     "text": [
      "\n",
      "aws s3 cp /media/yuncong/BstemAtlasData/CSHL_patch_features/inception-bn-blue/MD590/MD590-IHC40-2015.08.10-20.45.53_MD590_1_0120_lossless_alignedTo_MD590-N47-2015.09.12-05.32.06_MD590_2_0140_cropped/MD590-IHC40-2015.08.10-20.45.53_MD590_1_0120_lossless_alignedTo_MD590-N47-2015.09.12-05.32.06_MD590_2_0140_cropped_features.hdf s3://mousebrainatlas-data/CSHL_patch_features/inception-bn-blue/MD590/MD590-IHC40-2015.08.10-20.45.53_MD590_1_0120_lossless_alignedTo_MD590-N47-2015.09.12-05.32.06_MD590_2_0140_cropped/MD590-IHC40-2015.08.10-20.45.53_MD590_1_0120_lossless_alignedTo_MD590-N47-2015.09.12-05.32.06_MD590_2_0140_cropped_features.hdf\n",
      "aws s3 cp /media/yuncong/BstemAtlasData/CSHL_patch_features/inception-bn-blue/MD590/MD590-IHC40-2015.08.10-20.45.53_MD590_1_0120_lossless_alignedTo_MD590-N47-2015.09.12-05.32.06_MD590_2_0140_cropped/MD590-IHC40-2015.08.10-20.45.53_MD590_1_0120_lossless_alignedTo_MD590-N47-2015.09.12-05.32.06_MD590_2_0140_cropped_patch_locations.txt s3://mousebrainatlas-data/CSHL_patch_features/inception-bn-blue/MD590/MD590-IHC40-2015.08.10-20.45.53_MD590_1_0120_lossless_alignedTo_MD590-N47-2015.09.12-05.32.06_MD590_2_0140_cropped/MD590-IHC40-2015.08.10-20.45.53_MD590_1_0120_lossless_alignedTo_MD590-N47-2015.09.12-05.32.06_MD590_2_0140_cropped_patch_locations.txt"
     ]
    },
    {
     "name": "stderr",
     "output_type": "stream",
     "text": [
      "Child returned 0\n",
      "2.69 seconds.\n",
      "Child returned"
     ]
    },
    {
     "name": "stdout",
     "output_type": "stream",
     "text": [
      "\n",
      "rm -rf /media/yuncong/BstemAtlasData/CSHL_data_processed/MD590/MD590_masks_alignedTo_MD590-N47-2015.09.12-05.32.06_MD590_2_0140_cropped/MD590-N41-2015.08.03-19.45.39_MD590_3_0121_mask_alignedTo_MD590-N47-2015.09.12-05.32.06_MD590_2_0140_cropped.png && mkdir -p /media/yuncong/BstemAtlasData/CSHL_data_processed/MD590/MD590_masks_alignedTo_MD590-N47-2015.09.12-05.32.06_MD590_2_0140_cropped"
     ]
    },
    {
     "name": "stderr",
     "output_type": "stream",
     "text": [
      " 0\n",
      "1.39 seconds.\n",
      "save: 6.51 seconds\n",
      "\n",
      "Section 200.\n",
      "Child returned"
     ]
    },
    {
     "name": "stdout",
     "output_type": "stream",
     "text": [
      "\n",
      "aws s3 cp s3://mousebrainatlas-data/CSHL_data_processed/MD590/MD590_masks_alignedTo_MD590-N47-2015.09.12-05.32.06_MD590_2_0140_cropped/MD590-N41-2015.08.03-19.45.39_MD590_3_0121_mask_alignedTo_MD590-N47-2015.09.12-05.32.06_MD590_2_0140_cropped.png /media/yuncong/BstemAtlasData/CSHL_data_processed/MD590/MD590_masks_alignedTo_MD590-N47-2015.09.12-05.32.06_MD590_2_0140_cropped/MD590-N41-2015.08.03-19.45.39_MD590_3_0121_mask_alignedTo_MD590-N47-2015.09.12-05.32.06_MD590_2_0140_cropped.png"
     ]
    },
    {
     "name": "stderr",
     "output_type": "stream",
     "text": [
      " 0\n",
      "Child returned 0\n",
      "1.98 seconds.\n",
      "locate patches: 2.01 seconds\n",
      "49157 samples.\n",
      "load image: 1.48 seconds\n",
      "extract patches: 18.38 seconds\n",
      "predict: 127.29 seconds\n"
     ]
    },
    {
     "name": "stdout",
     "output_type": "stream",
     "text": [
      "\n",
      "aws s3 cp /media/yuncong/BstemAtlasData/CSHL_patch_features/inception-bn-blue/MD590/MD590-N41-2015.08.03-19.45.39_MD590_3_0121_lossless_alignedTo_MD590-N47-2015.09.12-05.32.06_MD590_2_0140_cropped/MD590-N41-2015.08.03-19.45.39_MD590_3_0121_lossless_alignedTo_MD590-N47-2015.09.12-05.32.06_MD590_2_0140_cropped_features.hdf s3://mousebrainatlas-data/CSHL_patch_features/inception-bn-blue/MD590/MD590-N41-2015.08.03-19.45.39_MD590_3_0121_lossless_alignedTo_MD590-N47-2015.09.12-05.32.06_MD590_2_0140_cropped/MD590-N41-2015.08.03-19.45.39_MD590_3_0121_lossless_alignedTo_MD590-N47-2015.09.12-05.32.06_MD590_2_0140_cropped_features.hdf\n",
      "aws s3 cp /media/yuncong/BstemAtlasData/CSHL_patch_features/inception-bn-blue/MD590/MD590-N41-2015.08.03-19.45.39_MD590_3_0121_lossless_alignedTo_MD590-N47-2015.09.12-05.32.06_MD590_2_0140_cropped/MD590-N41-2015.08.03-19.45.39_MD590_3_0121_lossless_alignedTo_MD590-N47-2015.09.12-05.32.06_MD590_2_0140_cropped_patch_locations.txt s3://mousebrainatlas-data/CSHL_patch_features/inception-bn-blue/MD590/MD590-N41-2015.08.03-19.45.39_MD590_3_0121_lossless_alignedTo_MD590-N47-2015.09.12-05.32.06_MD590_2_0140_cropped/MD590-N41-2015.08.03-19.45.39_MD590_3_0121_lossless_alignedTo_MD590-N47-2015.09.12-05.32.06_MD590_2_0140_cropped_patch_locations.txt"
     ]
    },
    {
     "name": "stderr",
     "output_type": "stream",
     "text": [
      "Child returned 0\n",
      "2.61 seconds.\n",
      "Child returned"
     ]
    },
    {
     "name": "stdout",
     "output_type": "stream",
     "text": [
      "\n",
      "rm -rf /media/yuncong/BstemAtlasData/CSHL_data_processed/MD590/MD590_masks_alignedTo_MD590-N47-2015.09.12-05.32.06_MD590_2_0140_cropped/MD590-IHC41-2015.08.10-20.50.09_MD590_3_0121_mask_alignedTo_MD590-N47-2015.09.12-05.32.06_MD590_2_0140_cropped.png && mkdir -p /media/yuncong/BstemAtlasData/CSHL_data_processed/MD590/MD590_masks_alignedTo_MD590-N47-2015.09.12-05.32.06_MD590_2_0140_cropped"
     ]
    },
    {
     "name": "stderr",
     "output_type": "stream",
     "text": [
      " 0\n",
      "1.40 seconds.\n",
      "save: 6.46 seconds\n",
      "\n",
      "Section 201.\n",
      "Child returned"
     ]
    },
    {
     "name": "stdout",
     "output_type": "stream",
     "text": [
      "\n",
      "aws s3 cp s3://mousebrainatlas-data/CSHL_data_processed/MD590/MD590_masks_alignedTo_MD590-N47-2015.09.12-05.32.06_MD590_2_0140_cropped/MD590-IHC41-2015.08.10-20.50.09_MD590_3_0121_mask_alignedTo_MD590-N47-2015.09.12-05.32.06_MD590_2_0140_cropped.png /media/yuncong/BstemAtlasData/CSHL_data_processed/MD590/MD590_masks_alignedTo_MD590-N47-2015.09.12-05.32.06_MD590_2_0140_cropped/MD590-IHC41-2015.08.10-20.50.09_MD590_3_0121_mask_alignedTo_MD590-N47-2015.09.12-05.32.06_MD590_2_0140_cropped.png"
     ]
    },
    {
     "name": "stderr",
     "output_type": "stream",
     "text": [
      " 0\n",
      "Child returned 0\n",
      "1.93 seconds.\n",
      "locate patches: 1.96 seconds\n",
      "49293 samples.\n",
      "load image: 1.45 seconds\n",
      "extract patches: 18.78 seconds\n",
      "predict: 128.03 seconds\n"
     ]
    },
    {
     "name": "stdout",
     "output_type": "stream",
     "text": [
      "\n",
      "aws s3 cp /media/yuncong/BstemAtlasData/CSHL_patch_features/inception-bn-blue/MD590/MD590-IHC41-2015.08.10-20.50.09_MD590_3_0121_lossless_alignedTo_MD590-N47-2015.09.12-05.32.06_MD590_2_0140_cropped/MD590-IHC41-2015.08.10-20.50.09_MD590_3_0121_lossless_alignedTo_MD590-N47-2015.09.12-05.32.06_MD590_2_0140_cropped_features.hdf s3://mousebrainatlas-data/CSHL_patch_features/inception-bn-blue/MD590/MD590-IHC41-2015.08.10-20.50.09_MD590_3_0121_lossless_alignedTo_MD590-N47-2015.09.12-05.32.06_MD590_2_0140_cropped/MD590-IHC41-2015.08.10-20.50.09_MD590_3_0121_lossless_alignedTo_MD590-N47-2015.09.12-05.32.06_MD590_2_0140_cropped_features.hdf\n",
      "aws s3 cp /media/yuncong/BstemAtlasData/CSHL_patch_features/inception-bn-blue/MD590/MD590-IHC41-2015.08.10-20.50.09_MD590_3_0121_lossless_alignedTo_MD590-N47-2015.09.12-05.32.06_MD590_2_0140_cropped/MD590-IHC41-2015.08.10-20.50.09_MD590_3_0121_lossless_alignedTo_MD590-N47-2015.09.12-05.32.06_MD590_2_0140_cropped_patch_locations.txt s3://mousebrainatlas-data/CSHL_patch_features/inception-bn-blue/MD590/MD590-IHC41-2015.08.10-20.50.09_MD590_3_0121_lossless_alignedTo_MD590-N47-2015.09.12-05.32.06_MD590_2_0140_cropped/MD590-IHC41-2015.08.10-20.50.09_MD590_3_0121_lossless_alignedTo_MD590-N47-2015.09.12-05.32.06_MD590_2_0140_cropped_patch_locations.txt"
     ]
    },
    {
     "name": "stderr",
     "output_type": "stream",
     "text": [
      "Child returned 0\n",
      "2.64 seconds.\n",
      "Child returned"
     ]
    },
    {
     "name": "stdout",
     "output_type": "stream",
     "text": [
      "\n",
      "rm -rf /media/yuncong/BstemAtlasData/CSHL_data_processed/MD590/MD590_masks_alignedTo_MD590-N47-2015.09.12-05.32.06_MD590_2_0140_cropped/MD590-N41-2015.08.03-19.45.39_MD590_1_0123_mask_alignedTo_MD590-N47-2015.09.12-05.32.06_MD590_2_0140_cropped.png && mkdir -p /media/yuncong/BstemAtlasData/CSHL_data_processed/MD590/MD590_masks_alignedTo_MD590-N47-2015.09.12-05.32.06_MD590_2_0140_cropped"
     ]
    },
    {
     "name": "stderr",
     "output_type": "stream",
     "text": [
      " 0\n",
      "1.32 seconds.\n",
      "save: 6.45 seconds\n",
      "\n",
      "Section 202.\n",
      "Child returned"
     ]
    },
    {
     "name": "stdout",
     "output_type": "stream",
     "text": [
      "\n",
      "aws s3 cp s3://mousebrainatlas-data/CSHL_data_processed/MD590/MD590_masks_alignedTo_MD590-N47-2015.09.12-05.32.06_MD590_2_0140_cropped/MD590-N41-2015.08.03-19.45.39_MD590_1_0123_mask_alignedTo_MD590-N47-2015.09.12-05.32.06_MD590_2_0140_cropped.png /media/yuncong/BstemAtlasData/CSHL_data_processed/MD590/MD590_masks_alignedTo_MD590-N47-2015.09.12-05.32.06_MD590_2_0140_cropped/MD590-N41-2015.08.03-19.45.39_MD590_1_0123_mask_alignedTo_MD590-N47-2015.09.12-05.32.06_MD590_2_0140_cropped.png"
     ]
    },
    {
     "name": "stderr",
     "output_type": "stream",
     "text": [
      " 0\n",
      "Child returned 0\n",
      "1.95 seconds.\n",
      "locate patches: 1.98 seconds\n",
      "48840 samples.\n",
      "load image: 1.48 seconds\n",
      "extract patches: 18.83 seconds\n",
      "predict: 126.56 seconds\n"
     ]
    },
    {
     "name": "stdout",
     "output_type": "stream",
     "text": [
      "\n",
      "aws s3 cp /media/yuncong/BstemAtlasData/CSHL_patch_features/inception-bn-blue/MD590/MD590-N41-2015.08.03-19.45.39_MD590_1_0123_lossless_alignedTo_MD590-N47-2015.09.12-05.32.06_MD590_2_0140_cropped/MD590-N41-2015.08.03-19.45.39_MD590_1_0123_lossless_alignedTo_MD590-N47-2015.09.12-05.32.06_MD590_2_0140_cropped_features.hdf s3://mousebrainatlas-data/CSHL_patch_features/inception-bn-blue/MD590/MD590-N41-2015.08.03-19.45.39_MD590_1_0123_lossless_alignedTo_MD590-N47-2015.09.12-05.32.06_MD590_2_0140_cropped/MD590-N41-2015.08.03-19.45.39_MD590_1_0123_lossless_alignedTo_MD590-N47-2015.09.12-05.32.06_MD590_2_0140_cropped_features.hdf\n",
      "aws s3 cp /media/yuncong/BstemAtlasData/CSHL_patch_features/inception-bn-blue/MD590/MD590-N41-2015.08.03-19.45.39_MD590_1_0123_lossless_alignedTo_MD590-N47-2015.09.12-05.32.06_MD590_2_0140_cropped/MD590-N41-2015.08.03-19.45.39_MD590_1_0123_lossless_alignedTo_MD590-N47-2015.09.12-05.32.06_MD590_2_0140_cropped_patch_locations.txt s3://mousebrainatlas-data/CSHL_patch_features/inception-bn-blue/MD590/MD590-N41-2015.08.03-19.45.39_MD590_1_0123_lossless_alignedTo_MD590-N47-2015.09.12-05.32.06_MD590_2_0140_cropped/MD590-N41-2015.08.03-19.45.39_MD590_1_0123_lossless_alignedTo_MD590-N47-2015.09.12-05.32.06_MD590_2_0140_cropped_patch_locations.txt"
     ]
    },
    {
     "name": "stderr",
     "output_type": "stream",
     "text": [
      "Child returned 0\n",
      "2.66 seconds.\n",
      "Child returned"
     ]
    },
    {
     "name": "stdout",
     "output_type": "stream",
     "text": [
      "\n",
      "rm -rf /media/yuncong/BstemAtlasData/CSHL_data_processed/MD590/MD590_masks_alignedTo_MD590-N47-2015.09.12-05.32.06_MD590_2_0140_cropped/MD590-IHC41-2015.08.10-20.50.09_MD590_1_0123_mask_alignedTo_MD590-N47-2015.09.12-05.32.06_MD590_2_0140_cropped.png && mkdir -p /media/yuncong/BstemAtlasData/CSHL_data_processed/MD590/MD590_masks_alignedTo_MD590-N47-2015.09.12-05.32.06_MD590_2_0140_cropped"
     ]
    },
    {
     "name": "stderr",
     "output_type": "stream",
     "text": [
      " 0\n",
      "1.31 seconds.\n",
      "save: 6.40 seconds\n",
      "\n",
      "Section 203.\n",
      "Child returned"
     ]
    },
    {
     "name": "stdout",
     "output_type": "stream",
     "text": [
      "\n",
      "aws s3 cp s3://mousebrainatlas-data/CSHL_data_processed/MD590/MD590_masks_alignedTo_MD590-N47-2015.09.12-05.32.06_MD590_2_0140_cropped/MD590-IHC41-2015.08.10-20.50.09_MD590_1_0123_mask_alignedTo_MD590-N47-2015.09.12-05.32.06_MD590_2_0140_cropped.png /media/yuncong/BstemAtlasData/CSHL_data_processed/MD590/MD590_masks_alignedTo_MD590-N47-2015.09.12-05.32.06_MD590_2_0140_cropped/MD590-IHC41-2015.08.10-20.50.09_MD590_1_0123_mask_alignedTo_MD590-N47-2015.09.12-05.32.06_MD590_2_0140_cropped.png"
     ]
    },
    {
     "name": "stderr",
     "output_type": "stream",
     "text": [
      " 0\n",
      "Child returned 0\n",
      "1.81 seconds.\n",
      "locate patches: 1.83 seconds\n",
      "49210 samples.\n",
      "load image: 1.58 seconds\n",
      "extract patches: 18.35 seconds\n",
      "predict: 127.69 seconds\n"
     ]
    },
    {
     "name": "stdout",
     "output_type": "stream",
     "text": [
      "\n",
      "aws s3 cp /media/yuncong/BstemAtlasData/CSHL_patch_features/inception-bn-blue/MD590/MD590-IHC41-2015.08.10-20.50.09_MD590_1_0123_lossless_alignedTo_MD590-N47-2015.09.12-05.32.06_MD590_2_0140_cropped/MD590-IHC41-2015.08.10-20.50.09_MD590_1_0123_lossless_alignedTo_MD590-N47-2015.09.12-05.32.06_MD590_2_0140_cropped_features.hdf s3://mousebrainatlas-data/CSHL_patch_features/inception-bn-blue/MD590/MD590-IHC41-2015.08.10-20.50.09_MD590_1_0123_lossless_alignedTo_MD590-N47-2015.09.12-05.32.06_MD590_2_0140_cropped/MD590-IHC41-2015.08.10-20.50.09_MD590_1_0123_lossless_alignedTo_MD590-N47-2015.09.12-05.32.06_MD590_2_0140_cropped_features.hdf\n",
      "aws s3 cp /media/yuncong/BstemAtlasData/CSHL_patch_features/inception-bn-blue/MD590/MD590-IHC41-2015.08.10-20.50.09_MD590_1_0123_lossless_alignedTo_MD590-N47-2015.09.12-05.32.06_MD590_2_0140_cropped/MD590-IHC41-2015.08.10-20.50.09_MD590_1_0123_lossless_alignedTo_MD590-N47-2015.09.12-05.32.06_MD590_2_0140_cropped_patch_locations.txt s3://mousebrainatlas-data/CSHL_patch_features/inception-bn-blue/MD590/MD590-IHC41-2015.08.10-20.50.09_MD590_1_0123_lossless_alignedTo_MD590-N47-2015.09.12-05.32.06_MD590_2_0140_cropped/MD590-IHC41-2015.08.10-20.50.09_MD590_1_0123_lossless_alignedTo_MD590-N47-2015.09.12-05.32.06_MD590_2_0140_cropped_patch_locations.txt"
     ]
    },
    {
     "name": "stderr",
     "output_type": "stream",
     "text": [
      "Child returned 0\n",
      "2.69 seconds.\n",
      "Child returned"
     ]
    },
    {
     "name": "stdout",
     "output_type": "stream",
     "text": [
      "\n",
      "rm -rf /media/yuncong/BstemAtlasData/CSHL_data_processed/MD590/MD590_masks_alignedTo_MD590-N47-2015.09.12-05.32.06_MD590_2_0140_cropped/MD590-N42-2015.08.03-19.49.38_MD590_3_0124_mask_alignedTo_MD590-N47-2015.09.12-05.32.06_MD590_2_0140_cropped.png && mkdir -p /media/yuncong/BstemAtlasData/CSHL_data_processed/MD590/MD590_masks_alignedTo_MD590-N47-2015.09.12-05.32.06_MD590_2_0140_cropped"
     ]
    },
    {
     "name": "stderr",
     "output_type": "stream",
     "text": [
      " 0\n",
      "1.38 seconds.\n",
      "save: 6.53 seconds\n",
      "\n",
      "Section 204.\n",
      "Child returned"
     ]
    },
    {
     "name": "stdout",
     "output_type": "stream",
     "text": [
      "\n",
      "aws s3 cp s3://mousebrainatlas-data/CSHL_data_processed/MD590/MD590_masks_alignedTo_MD590-N47-2015.09.12-05.32.06_MD590_2_0140_cropped/MD590-N42-2015.08.03-19.49.38_MD590_3_0124_mask_alignedTo_MD590-N47-2015.09.12-05.32.06_MD590_2_0140_cropped.png /media/yuncong/BstemAtlasData/CSHL_data_processed/MD590/MD590_masks_alignedTo_MD590-N47-2015.09.12-05.32.06_MD590_2_0140_cropped/MD590-N42-2015.08.03-19.49.38_MD590_3_0124_mask_alignedTo_MD590-N47-2015.09.12-05.32.06_MD590_2_0140_cropped.png"
     ]
    },
    {
     "name": "stderr",
     "output_type": "stream",
     "text": [
      " 0\n",
      "Child returned 0\n",
      "1.87 seconds.\n",
      "locate patches: 1.90 seconds\n",
      "48771 samples.\n",
      "load image: 1.46 seconds\n",
      "extract patches: 18.15 seconds\n",
      "predict: 126.70 seconds\n"
     ]
    },
    {
     "name": "stdout",
     "output_type": "stream",
     "text": [
      "\n",
      "aws s3 cp /media/yuncong/BstemAtlasData/CSHL_patch_features/inception-bn-blue/MD590/MD590-N42-2015.08.03-19.49.38_MD590_3_0124_lossless_alignedTo_MD590-N47-2015.09.12-05.32.06_MD590_2_0140_cropped/MD590-N42-2015.08.03-19.49.38_MD590_3_0124_lossless_alignedTo_MD590-N47-2015.09.12-05.32.06_MD590_2_0140_cropped_features.hdf s3://mousebrainatlas-data/CSHL_patch_features/inception-bn-blue/MD590/MD590-N42-2015.08.03-19.49.38_MD590_3_0124_lossless_alignedTo_MD590-N47-2015.09.12-05.32.06_MD590_2_0140_cropped/MD590-N42-2015.08.03-19.49.38_MD590_3_0124_lossless_alignedTo_MD590-N47-2015.09.12-05.32.06_MD590_2_0140_cropped_features.hdf\n",
      "aws s3 cp /media/yuncong/BstemAtlasData/CSHL_patch_features/inception-bn-blue/MD590/MD590-N42-2015.08.03-19.49.38_MD590_3_0124_lossless_alignedTo_MD590-N47-2015.09.12-05.32.06_MD590_2_0140_cropped/MD590-N42-2015.08.03-19.49.38_MD590_3_0124_lossless_alignedTo_MD590-N47-2015.09.12-05.32.06_MD590_2_0140_cropped_patch_locations.txt s3://mousebrainatlas-data/CSHL_patch_features/inception-bn-blue/MD590/MD590-N42-2015.08.03-19.49.38_MD590_3_0124_lossless_alignedTo_MD590-N47-2015.09.12-05.32.06_MD590_2_0140_cropped/MD590-N42-2015.08.03-19.49.38_MD590_3_0124_lossless_alignedTo_MD590-N47-2015.09.12-05.32.06_MD590_2_0140_cropped_patch_locations.txt"
     ]
    },
    {
     "name": "stderr",
     "output_type": "stream",
     "text": [
      "Child returned 0\n",
      "2.56 seconds.\n",
      "Child returned"
     ]
    },
    {
     "name": "stdout",
     "output_type": "stream",
     "text": [
      "\n",
      "rm -rf /media/yuncong/BstemAtlasData/CSHL_data_processed/MD590/MD590_masks_alignedTo_MD590-N47-2015.09.12-05.32.06_MD590_2_0140_cropped/MD590-IHC42-2015.08.10-20.54.21_MD590_3_0124_mask_alignedTo_MD590-N47-2015.09.12-05.32.06_MD590_2_0140_cropped.png && mkdir -p /media/yuncong/BstemAtlasData/CSHL_data_processed/MD590/MD590_masks_alignedTo_MD590-N47-2015.09.12-05.32.06_MD590_2_0140_cropped"
     ]
    },
    {
     "name": "stderr",
     "output_type": "stream",
     "text": [
      " 0\n",
      "1.36 seconds.\n",
      "save: 6.33 seconds\n",
      "\n",
      "Section 205.\n",
      "Child returned"
     ]
    },
    {
     "name": "stdout",
     "output_type": "stream",
     "text": [
      "\n",
      "aws s3 cp s3://mousebrainatlas-data/CSHL_data_processed/MD590/MD590_masks_alignedTo_MD590-N47-2015.09.12-05.32.06_MD590_2_0140_cropped/MD590-IHC42-2015.08.10-20.54.21_MD590_3_0124_mask_alignedTo_MD590-N47-2015.09.12-05.32.06_MD590_2_0140_cropped.png /media/yuncong/BstemAtlasData/CSHL_data_processed/MD590/MD590_masks_alignedTo_MD590-N47-2015.09.12-05.32.06_MD590_2_0140_cropped/MD590-IHC42-2015.08.10-20.54.21_MD590_3_0124_mask_alignedTo_MD590-N47-2015.09.12-05.32.06_MD590_2_0140_cropped.png"
     ]
    },
    {
     "name": "stderr",
     "output_type": "stream",
     "text": [
      " 0\n",
      "Child returned 0\n",
      "1.83 seconds.\n",
      "locate patches: 1.85 seconds\n",
      "48944 samples.\n",
      "load image: 1.52 seconds\n",
      "extract patches: 18.63 seconds\n",
      "predict: 127.22 seconds\n"
     ]
    },
    {
     "name": "stdout",
     "output_type": "stream",
     "text": [
      "\n",
      "aws s3 cp /media/yuncong/BstemAtlasData/CSHL_patch_features/inception-bn-blue/MD590/MD590-IHC42-2015.08.10-20.54.21_MD590_3_0124_lossless_alignedTo_MD590-N47-2015.09.12-05.32.06_MD590_2_0140_cropped/MD590-IHC42-2015.08.10-20.54.21_MD590_3_0124_lossless_alignedTo_MD590-N47-2015.09.12-05.32.06_MD590_2_0140_cropped_features.hdf s3://mousebrainatlas-data/CSHL_patch_features/inception-bn-blue/MD590/MD590-IHC42-2015.08.10-20.54.21_MD590_3_0124_lossless_alignedTo_MD590-N47-2015.09.12-05.32.06_MD590_2_0140_cropped/MD590-IHC42-2015.08.10-20.54.21_MD590_3_0124_lossless_alignedTo_MD590-N47-2015.09.12-05.32.06_MD590_2_0140_cropped_features.hdf\n",
      "aws s3 cp /media/yuncong/BstemAtlasData/CSHL_patch_features/inception-bn-blue/MD590/MD590-IHC42-2015.08.10-20.54.21_MD590_3_0124_lossless_alignedTo_MD590-N47-2015.09.12-05.32.06_MD590_2_0140_cropped/MD590-IHC42-2015.08.10-20.54.21_MD590_3_0124_lossless_alignedTo_MD590-N47-2015.09.12-05.32.06_MD590_2_0140_cropped_patch_locations.txt s3://mousebrainatlas-data/CSHL_patch_features/inception-bn-blue/MD590/MD590-IHC42-2015.08.10-20.54.21_MD590_3_0124_lossless_alignedTo_MD590-N47-2015.09.12-05.32.06_MD590_2_0140_cropped/MD590-IHC42-2015.08.10-20.54.21_MD590_3_0124_lossless_alignedTo_MD590-N47-2015.09.12-05.32.06_MD590_2_0140_cropped_patch_locations.txt"
     ]
    },
    {
     "name": "stderr",
     "output_type": "stream",
     "text": [
      "Child returned 0\n",
      "2.68 seconds.\n",
      "Child returned"
     ]
    },
    {
     "name": "stdout",
     "output_type": "stream",
     "text": [
      "\n",
      "rm -rf /media/yuncong/BstemAtlasData/CSHL_data_processed/MD590/MD590_masks_alignedTo_MD590-N47-2015.09.12-05.32.06_MD590_2_0140_cropped/MD590-N42-2015.08.03-19.49.38_MD590_1_0126_mask_alignedTo_MD590-N47-2015.09.12-05.32.06_MD590_2_0140_cropped.png && mkdir -p /media/yuncong/BstemAtlasData/CSHL_data_processed/MD590/MD590_masks_alignedTo_MD590-N47-2015.09.12-05.32.06_MD590_2_0140_cropped"
     ]
    },
    {
     "name": "stderr",
     "output_type": "stream",
     "text": [
      " 0\n",
      "1.32 seconds.\n",
      "save: 6.44 seconds\n",
      "\n",
      "Section 206.\n",
      "Child returned"
     ]
    },
    {
     "name": "stdout",
     "output_type": "stream",
     "text": [
      "\n",
      "aws s3 cp s3://mousebrainatlas-data/CSHL_data_processed/MD590/MD590_masks_alignedTo_MD590-N47-2015.09.12-05.32.06_MD590_2_0140_cropped/MD590-N42-2015.08.03-19.49.38_MD590_1_0126_mask_alignedTo_MD590-N47-2015.09.12-05.32.06_MD590_2_0140_cropped.png /media/yuncong/BstemAtlasData/CSHL_data_processed/MD590/MD590_masks_alignedTo_MD590-N47-2015.09.12-05.32.06_MD590_2_0140_cropped/MD590-N42-2015.08.03-19.49.38_MD590_1_0126_mask_alignedTo_MD590-N47-2015.09.12-05.32.06_MD590_2_0140_cropped.png"
     ]
    },
    {
     "name": "stderr",
     "output_type": "stream",
     "text": [
      " 0\n",
      "Child returned 0\n",
      "1.91 seconds.\n",
      "locate patches: 1.93 seconds\n",
      "48714 samples.\n",
      "load image: 1.56 seconds\n",
      "extract patches: 18.54 seconds\n",
      "predict: 126.80 seconds\n"
     ]
    },
    {
     "name": "stdout",
     "output_type": "stream",
     "text": [
      "\n",
      "aws s3 cp /media/yuncong/BstemAtlasData/CSHL_patch_features/inception-bn-blue/MD590/MD590-N42-2015.08.03-19.49.38_MD590_1_0126_lossless_alignedTo_MD590-N47-2015.09.12-05.32.06_MD590_2_0140_cropped/MD590-N42-2015.08.03-19.49.38_MD590_1_0126_lossless_alignedTo_MD590-N47-2015.09.12-05.32.06_MD590_2_0140_cropped_features.hdf s3://mousebrainatlas-data/CSHL_patch_features/inception-bn-blue/MD590/MD590-N42-2015.08.03-19.49.38_MD590_1_0126_lossless_alignedTo_MD590-N47-2015.09.12-05.32.06_MD590_2_0140_cropped/MD590-N42-2015.08.03-19.49.38_MD590_1_0126_lossless_alignedTo_MD590-N47-2015.09.12-05.32.06_MD590_2_0140_cropped_features.hdf\n",
      "aws s3 cp /media/yuncong/BstemAtlasData/CSHL_patch_features/inception-bn-blue/MD590/MD590-N42-2015.08.03-19.49.38_MD590_1_0126_lossless_alignedTo_MD590-N47-2015.09.12-05.32.06_MD590_2_0140_cropped/MD590-N42-2015.08.03-19.49.38_MD590_1_0126_lossless_alignedTo_MD590-N47-2015.09.12-05.32.06_MD590_2_0140_cropped_patch_locations.txt s3://mousebrainatlas-data/CSHL_patch_features/inception-bn-blue/MD590/MD590-N42-2015.08.03-19.49.38_MD590_1_0126_lossless_alignedTo_MD590-N47-2015.09.12-05.32.06_MD590_2_0140_cropped/MD590-N42-2015.08.03-19.49.38_MD590_1_0126_lossless_alignedTo_MD590-N47-2015.09.12-05.32.06_MD590_2_0140_cropped_patch_locations.txt"
     ]
    },
    {
     "name": "stderr",
     "output_type": "stream",
     "text": [
      "Child returned 0\n",
      "2.90 seconds.\n",
      "Child returned"
     ]
    },
    {
     "name": "stdout",
     "output_type": "stream",
     "text": [
      "\n",
      "rm -rf /media/yuncong/BstemAtlasData/CSHL_data_processed/MD590/MD590_masks_alignedTo_MD590-N47-2015.09.12-05.32.06_MD590_2_0140_cropped/MD590-IHC42-2015.08.10-20.54.21_MD590_2_0125_mask_alignedTo_MD590-N47-2015.09.12-05.32.06_MD590_2_0140_cropped.png && mkdir -p /media/yuncong/BstemAtlasData/CSHL_data_processed/MD590/MD590_masks_alignedTo_MD590-N47-2015.09.12-05.32.06_MD590_2_0140_cropped"
     ]
    },
    {
     "name": "stderr",
     "output_type": "stream",
     "text": [
      " 0\n",
      "1.30 seconds.\n",
      "save: 6.62 seconds\n",
      "\n",
      "Section 207.\n",
      "Child returned"
     ]
    },
    {
     "name": "stdout",
     "output_type": "stream",
     "text": [
      "\n",
      "aws s3 cp s3://mousebrainatlas-data/CSHL_data_processed/MD590/MD590_masks_alignedTo_MD590-N47-2015.09.12-05.32.06_MD590_2_0140_cropped/MD590-IHC42-2015.08.10-20.54.21_MD590_2_0125_mask_alignedTo_MD590-N47-2015.09.12-05.32.06_MD590_2_0140_cropped.png /media/yuncong/BstemAtlasData/CSHL_data_processed/MD590/MD590_masks_alignedTo_MD590-N47-2015.09.12-05.32.06_MD590_2_0140_cropped/MD590-IHC42-2015.08.10-20.54.21_MD590_2_0125_mask_alignedTo_MD590-N47-2015.09.12-05.32.06_MD590_2_0140_cropped.png"
     ]
    },
    {
     "name": "stderr",
     "output_type": "stream",
     "text": [
      " 0\n",
      "Child returned 0\n",
      "1.82 seconds.\n",
      "locate patches: 1.85 seconds\n",
      "48920 samples.\n",
      "load image: 1.54 seconds\n",
      "extract patches: 18.20 seconds\n",
      "predict: 127.37 seconds\n"
     ]
    },
    {
     "name": "stdout",
     "output_type": "stream",
     "text": [
      "\n",
      "aws s3 cp /media/yuncong/BstemAtlasData/CSHL_patch_features/inception-bn-blue/MD590/MD590-IHC42-2015.08.10-20.54.21_MD590_2_0125_lossless_alignedTo_MD590-N47-2015.09.12-05.32.06_MD590_2_0140_cropped/MD590-IHC42-2015.08.10-20.54.21_MD590_2_0125_lossless_alignedTo_MD590-N47-2015.09.12-05.32.06_MD590_2_0140_cropped_features.hdf s3://mousebrainatlas-data/CSHL_patch_features/inception-bn-blue/MD590/MD590-IHC42-2015.08.10-20.54.21_MD590_2_0125_lossless_alignedTo_MD590-N47-2015.09.12-05.32.06_MD590_2_0140_cropped/MD590-IHC42-2015.08.10-20.54.21_MD590_2_0125_lossless_alignedTo_MD590-N47-2015.09.12-05.32.06_MD590_2_0140_cropped_features.hdf\n",
      "aws s3 cp /media/yuncong/BstemAtlasData/CSHL_patch_features/inception-bn-blue/MD590/MD590-IHC42-2015.08.10-20.54.21_MD590_2_0125_lossless_alignedTo_MD590-N47-2015.09.12-05.32.06_MD590_2_0140_cropped/MD590-IHC42-2015.08.10-20.54.21_MD590_2_0125_lossless_alignedTo_MD590-N47-2015.09.12-05.32.06_MD590_2_0140_cropped_patch_locations.txt s3://mousebrainatlas-data/CSHL_patch_features/inception-bn-blue/MD590/MD590-IHC42-2015.08.10-20.54.21_MD590_2_0125_lossless_alignedTo_MD590-N47-2015.09.12-05.32.06_MD590_2_0140_cropped/MD590-IHC42-2015.08.10-20.54.21_MD590_2_0125_lossless_alignedTo_MD590-N47-2015.09.12-05.32.06_MD590_2_0140_cropped_patch_locations.txt"
     ]
    },
    {
     "name": "stderr",
     "output_type": "stream",
     "text": [
      "Child returned 0\n",
      "3.05 seconds.\n",
      "Child returned"
     ]
    },
    {
     "name": "stdout",
     "output_type": "stream",
     "text": [
      "\n",
      "rm -rf /media/yuncong/BstemAtlasData/CSHL_data_processed/MD590/MD590_masks_alignedTo_MD590-N47-2015.09.12-05.32.06_MD590_2_0140_cropped/MD590-N43-2015.08.03-19.53.30_MD590_3_0127_mask_alignedTo_MD590-N47-2015.09.12-05.32.06_MD590_2_0140_cropped.png && mkdir -p /media/yuncong/BstemAtlasData/CSHL_data_processed/MD590/MD590_masks_alignedTo_MD590-N47-2015.09.12-05.32.06_MD590_2_0140_cropped"
     ]
    },
    {
     "name": "stderr",
     "output_type": "stream",
     "text": [
      " 0\n",
      "1.41 seconds.\n",
      "save: 6.88 seconds\n",
      "\n",
      "Section 208.\n",
      "Child returned"
     ]
    },
    {
     "name": "stdout",
     "output_type": "stream",
     "text": [
      "\n",
      "aws s3 cp s3://mousebrainatlas-data/CSHL_data_processed/MD590/MD590_masks_alignedTo_MD590-N47-2015.09.12-05.32.06_MD590_2_0140_cropped/MD590-N43-2015.08.03-19.53.30_MD590_3_0127_mask_alignedTo_MD590-N47-2015.09.12-05.32.06_MD590_2_0140_cropped.png /media/yuncong/BstemAtlasData/CSHL_data_processed/MD590/MD590_masks_alignedTo_MD590-N47-2015.09.12-05.32.06_MD590_2_0140_cropped/MD590-N43-2015.08.03-19.53.30_MD590_3_0127_mask_alignedTo_MD590-N47-2015.09.12-05.32.06_MD590_2_0140_cropped.png"
     ]
    },
    {
     "name": "stderr",
     "output_type": "stream",
     "text": [
      " 0\n",
      "Child returned 0\n",
      "1.92 seconds.\n",
      "locate patches: 1.95 seconds\n",
      "46945 samples.\n",
      "load image: 2.04 seconds\n",
      "extract patches: 16.77 seconds\n",
      "predict: 122.46 seconds\n"
     ]
    },
    {
     "name": "stdout",
     "output_type": "stream",
     "text": [
      "\n",
      "aws s3 cp /media/yuncong/BstemAtlasData/CSHL_patch_features/inception-bn-blue/MD590/MD590-N43-2015.08.03-19.53.30_MD590_3_0127_lossless_alignedTo_MD590-N47-2015.09.12-05.32.06_MD590_2_0140_cropped/MD590-N43-2015.08.03-19.53.30_MD590_3_0127_lossless_alignedTo_MD590-N47-2015.09.12-05.32.06_MD590_2_0140_cropped_features.hdf s3://mousebrainatlas-data/CSHL_patch_features/inception-bn-blue/MD590/MD590-N43-2015.08.03-19.53.30_MD590_3_0127_lossless_alignedTo_MD590-N47-2015.09.12-05.32.06_MD590_2_0140_cropped/MD590-N43-2015.08.03-19.53.30_MD590_3_0127_lossless_alignedTo_MD590-N47-2015.09.12-05.32.06_MD590_2_0140_cropped_features.hdf\n",
      "aws s3 cp /media/yuncong/BstemAtlasData/CSHL_patch_features/inception-bn-blue/MD590/MD590-N43-2015.08.03-19.53.30_MD590_3_0127_lossless_alignedTo_MD590-N47-2015.09.12-05.32.06_MD590_2_0140_cropped/MD590-N43-2015.08.03-19.53.30_MD590_3_0127_lossless_alignedTo_MD590-N47-2015.09.12-05.32.06_MD590_2_0140_cropped_patch_locations.txt s3://mousebrainatlas-data/CSHL_patch_features/inception-bn-blue/MD590/MD590-N43-2015.08.03-19.53.30_MD590_3_0127_lossless_alignedTo_MD590-N47-2015.09.12-05.32.06_MD590_2_0140_cropped/MD590-N43-2015.08.03-19.53.30_MD590_3_0127_lossless_alignedTo_MD590-N47-2015.09.12-05.32.06_MD590_2_0140_cropped_patch_locations.txt"
     ]
    },
    {
     "name": "stderr",
     "output_type": "stream",
     "text": [
      "Child returned 0\n",
      "2.67 seconds.\n",
      "Child returned"
     ]
    },
    {
     "name": "stdout",
     "output_type": "stream",
     "text": [
      "\n",
      "rm -rf /media/yuncong/BstemAtlasData/CSHL_data_processed/MD590/MD590_masks_alignedTo_MD590-N47-2015.09.12-05.32.06_MD590_2_0140_cropped/MD590-IHC43-2015.08.10-20.58.28_MD590_3_0127_mask_alignedTo_MD590-N47-2015.09.12-05.32.06_MD590_2_0140_cropped.png && mkdir -p /media/yuncong/BstemAtlasData/CSHL_data_processed/MD590/MD590_masks_alignedTo_MD590-N47-2015.09.12-05.32.06_MD590_2_0140_cropped"
     ]
    },
    {
     "name": "stderr",
     "output_type": "stream",
     "text": [
      " 0\n",
      "1.29 seconds.\n",
      "save: 6.36 seconds\n",
      "\n",
      "Section 209.\n",
      "Child returned"
     ]
    },
    {
     "name": "stdout",
     "output_type": "stream",
     "text": [
      "\n",
      "aws s3 cp s3://mousebrainatlas-data/CSHL_data_processed/MD590/MD590_masks_alignedTo_MD590-N47-2015.09.12-05.32.06_MD590_2_0140_cropped/MD590-IHC43-2015.08.10-20.58.28_MD590_3_0127_mask_alignedTo_MD590-N47-2015.09.12-05.32.06_MD590_2_0140_cropped.png /media/yuncong/BstemAtlasData/CSHL_data_processed/MD590/MD590_masks_alignedTo_MD590-N47-2015.09.12-05.32.06_MD590_2_0140_cropped/MD590-IHC43-2015.08.10-20.58.28_MD590_3_0127_mask_alignedTo_MD590-N47-2015.09.12-05.32.06_MD590_2_0140_cropped.png"
     ]
    },
    {
     "name": "stderr",
     "output_type": "stream",
     "text": [
      " 0\n",
      "Child returned 0\n",
      "1.90 seconds.\n",
      "locate patches: 1.93 seconds\n",
      "48469 samples.\n",
      "load image: 1.46 seconds\n",
      "extract patches: 18.33 seconds\n",
      "predict: 126.05 seconds\n"
     ]
    },
    {
     "name": "stdout",
     "output_type": "stream",
     "text": [
      "\n",
      "aws s3 cp /media/yuncong/BstemAtlasData/CSHL_patch_features/inception-bn-blue/MD590/MD590-IHC43-2015.08.10-20.58.28_MD590_3_0127_lossless_alignedTo_MD590-N47-2015.09.12-05.32.06_MD590_2_0140_cropped/MD590-IHC43-2015.08.10-20.58.28_MD590_3_0127_lossless_alignedTo_MD590-N47-2015.09.12-05.32.06_MD590_2_0140_cropped_features.hdf s3://mousebrainatlas-data/CSHL_patch_features/inception-bn-blue/MD590/MD590-IHC43-2015.08.10-20.58.28_MD590_3_0127_lossless_alignedTo_MD590-N47-2015.09.12-05.32.06_MD590_2_0140_cropped/MD590-IHC43-2015.08.10-20.58.28_MD590_3_0127_lossless_alignedTo_MD590-N47-2015.09.12-05.32.06_MD590_2_0140_cropped_features.hdf\n",
      "aws s3 cp /media/yuncong/BstemAtlasData/CSHL_patch_features/inception-bn-blue/MD590/MD590-IHC43-2015.08.10-20.58.28_MD590_3_0127_lossless_alignedTo_MD590-N47-2015.09.12-05.32.06_MD590_2_0140_cropped/MD590-IHC43-2015.08.10-20.58.28_MD590_3_0127_lossless_alignedTo_MD590-N47-2015.09.12-05.32.06_MD590_2_0140_cropped_patch_locations.txt s3://mousebrainatlas-data/CSHL_patch_features/inception-bn-blue/MD590/MD590-IHC43-2015.08.10-20.58.28_MD590_3_0127_lossless_alignedTo_MD590-N47-2015.09.12-05.32.06_MD590_2_0140_cropped/MD590-IHC43-2015.08.10-20.58.28_MD590_3_0127_lossless_alignedTo_MD590-N47-2015.09.12-05.32.06_MD590_2_0140_cropped_patch_locations.txt"
     ]
    },
    {
     "name": "stderr",
     "output_type": "stream",
     "text": [
      "Child returned 0\n",
      "2.65 seconds.\n",
      "Child returned"
     ]
    },
    {
     "name": "stdout",
     "output_type": "stream",
     "text": [
      "\n",
      "rm -rf /media/yuncong/BstemAtlasData/CSHL_data_processed/MD590/MD590_masks_alignedTo_MD590-N47-2015.09.12-05.32.06_MD590_2_0140_cropped/MD590-N43-2015.08.03-19.53.30_MD590_1_0129_mask_alignedTo_MD590-N47-2015.09.12-05.32.06_MD590_2_0140_cropped.png && mkdir -p /media/yuncong/BstemAtlasData/CSHL_data_processed/MD590/MD590_masks_alignedTo_MD590-N47-2015.09.12-05.32.06_MD590_2_0140_cropped"
     ]
    },
    {
     "name": "stderr",
     "output_type": "stream",
     "text": [
      " 0\n",
      "1.32 seconds.\n",
      "save: 6.34 seconds\n",
      "\n",
      "Section 210.\n",
      "Child returned"
     ]
    },
    {
     "name": "stdout",
     "output_type": "stream",
     "text": [
      "\n",
      "aws s3 cp s3://mousebrainatlas-data/CSHL_data_processed/MD590/MD590_masks_alignedTo_MD590-N47-2015.09.12-05.32.06_MD590_2_0140_cropped/MD590-N43-2015.08.03-19.53.30_MD590_1_0129_mask_alignedTo_MD590-N47-2015.09.12-05.32.06_MD590_2_0140_cropped.png /media/yuncong/BstemAtlasData/CSHL_data_processed/MD590/MD590_masks_alignedTo_MD590-N47-2015.09.12-05.32.06_MD590_2_0140_cropped/MD590-N43-2015.08.03-19.53.30_MD590_1_0129_mask_alignedTo_MD590-N47-2015.09.12-05.32.06_MD590_2_0140_cropped.png"
     ]
    },
    {
     "name": "stderr",
     "output_type": "stream",
     "text": [
      " 0\n",
      "Child returned 0\n",
      "1.85 seconds.\n",
      "locate patches: 1.87 seconds\n",
      "46772 samples.\n",
      "load image: 1.51 seconds\n",
      "extract patches: 17.23 seconds\n",
      "predict: 121.47 seconds\n"
     ]
    },
    {
     "name": "stdout",
     "output_type": "stream",
     "text": [
      "\n",
      "aws s3 cp /media/yuncong/BstemAtlasData/CSHL_patch_features/inception-bn-blue/MD590/MD590-N43-2015.08.03-19.53.30_MD590_1_0129_lossless_alignedTo_MD590-N47-2015.09.12-05.32.06_MD590_2_0140_cropped/MD590-N43-2015.08.03-19.53.30_MD590_1_0129_lossless_alignedTo_MD590-N47-2015.09.12-05.32.06_MD590_2_0140_cropped_features.hdf s3://mousebrainatlas-data/CSHL_patch_features/inception-bn-blue/MD590/MD590-N43-2015.08.03-19.53.30_MD590_1_0129_lossless_alignedTo_MD590-N47-2015.09.12-05.32.06_MD590_2_0140_cropped/MD590-N43-2015.08.03-19.53.30_MD590_1_0129_lossless_alignedTo_MD590-N47-2015.09.12-05.32.06_MD590_2_0140_cropped_features.hdf\n",
      "aws s3 cp /media/yuncong/BstemAtlasData/CSHL_patch_features/inception-bn-blue/MD590/MD590-N43-2015.08.03-19.53.30_MD590_1_0129_lossless_alignedTo_MD590-N47-2015.09.12-05.32.06_MD590_2_0140_cropped/MD590-N43-2015.08.03-19.53.30_MD590_1_0129_lossless_alignedTo_MD590-N47-2015.09.12-05.32.06_MD590_2_0140_cropped_patch_locations.txt s3://mousebrainatlas-data/CSHL_patch_features/inception-bn-blue/MD590/MD590-N43-2015.08.03-19.53.30_MD590_1_0129_lossless_alignedTo_MD590-N47-2015.09.12-05.32.06_MD590_2_0140_cropped/MD590-N43-2015.08.03-19.53.30_MD590_1_0129_lossless_alignedTo_MD590-N47-2015.09.12-05.32.06_MD590_2_0140_cropped_patch_locations.txt"
     ]
    },
    {
     "name": "stderr",
     "output_type": "stream",
     "text": [
      "Child returned 0\n",
      "2.65 seconds.\n",
      "Child returned"
     ]
    },
    {
     "name": "stdout",
     "output_type": "stream",
     "text": [
      "\n",
      "rm -rf /media/yuncong/BstemAtlasData/CSHL_data_processed/MD590/MD590_masks_alignedTo_MD590-N47-2015.09.12-05.32.06_MD590_2_0140_cropped/MD590-IHC43-2015.08.10-20.58.28_MD590_2_0128_mask_alignedTo_MD590-N47-2015.09.12-05.32.06_MD590_2_0140_cropped.png && mkdir -p /media/yuncong/BstemAtlasData/CSHL_data_processed/MD590/MD590_masks_alignedTo_MD590-N47-2015.09.12-05.32.06_MD590_2_0140_cropped"
     ]
    },
    {
     "name": "stderr",
     "output_type": "stream",
     "text": [
      " 0\n",
      "1.35 seconds.\n",
      "save: 6.37 seconds\n",
      "\n",
      "Section 211.\n",
      "Child returned"
     ]
    },
    {
     "name": "stdout",
     "output_type": "stream",
     "text": [
      "\n",
      "aws s3 cp s3://mousebrainatlas-data/CSHL_data_processed/MD590/MD590_masks_alignedTo_MD590-N47-2015.09.12-05.32.06_MD590_2_0140_cropped/MD590-IHC43-2015.08.10-20.58.28_MD590_2_0128_mask_alignedTo_MD590-N47-2015.09.12-05.32.06_MD590_2_0140_cropped.png /media/yuncong/BstemAtlasData/CSHL_data_processed/MD590/MD590_masks_alignedTo_MD590-N47-2015.09.12-05.32.06_MD590_2_0140_cropped/MD590-IHC43-2015.08.10-20.58.28_MD590_2_0128_mask_alignedTo_MD590-N47-2015.09.12-05.32.06_MD590_2_0140_cropped.png"
     ]
    },
    {
     "name": "stderr",
     "output_type": "stream",
     "text": [
      " 0\n",
      "Child returned 0\n",
      "1.77 seconds.\n",
      "locate patches: 1.80 seconds\n",
      "48585 samples.\n",
      "load image: 1.58 seconds\n",
      "extract patches: 18.47 seconds\n",
      "predict: 126.16 seconds\n"
     ]
    },
    {
     "name": "stdout",
     "output_type": "stream",
     "text": [
      "\n",
      "aws s3 cp /media/yuncong/BstemAtlasData/CSHL_patch_features/inception-bn-blue/MD590/MD590-IHC43-2015.08.10-20.58.28_MD590_2_0128_lossless_alignedTo_MD590-N47-2015.09.12-05.32.06_MD590_2_0140_cropped/MD590-IHC43-2015.08.10-20.58.28_MD590_2_0128_lossless_alignedTo_MD590-N47-2015.09.12-05.32.06_MD590_2_0140_cropped_features.hdf s3://mousebrainatlas-data/CSHL_patch_features/inception-bn-blue/MD590/MD590-IHC43-2015.08.10-20.58.28_MD590_2_0128_lossless_alignedTo_MD590-N47-2015.09.12-05.32.06_MD590_2_0140_cropped/MD590-IHC43-2015.08.10-20.58.28_MD590_2_0128_lossless_alignedTo_MD590-N47-2015.09.12-05.32.06_MD590_2_0140_cropped_features.hdf\n",
      "aws s3 cp /media/yuncong/BstemAtlasData/CSHL_patch_features/inception-bn-blue/MD590/MD590-IHC43-2015.08.10-20.58.28_MD590_2_0128_lossless_alignedTo_MD590-N47-2015.09.12-05.32.06_MD590_2_0140_cropped/MD590-IHC43-2015.08.10-20.58.28_MD590_2_0128_lossless_alignedTo_MD590-N47-2015.09.12-05.32.06_MD590_2_0140_cropped_patch_locations.txt s3://mousebrainatlas-data/CSHL_patch_features/inception-bn-blue/MD590/MD590-IHC43-2015.08.10-20.58.28_MD590_2_0128_lossless_alignedTo_MD590-N47-2015.09.12-05.32.06_MD590_2_0140_cropped/MD590-IHC43-2015.08.10-20.58.28_MD590_2_0128_lossless_alignedTo_MD590-N47-2015.09.12-05.32.06_MD590_2_0140_cropped_patch_locations.txt"
     ]
    },
    {
     "name": "stderr",
     "output_type": "stream",
     "text": [
      "Child returned 0\n",
      "2.80 seconds.\n",
      "Child returned"
     ]
    },
    {
     "name": "stdout",
     "output_type": "stream",
     "text": [
      "\n",
      "rm -rf /media/yuncong/BstemAtlasData/CSHL_data_processed/MD590/MD590_masks_alignedTo_MD590-N47-2015.09.12-05.32.06_MD590_2_0140_cropped/MD590-N44-2015.08.03-19.57.30_MD590_3_0130_mask_alignedTo_MD590-N47-2015.09.12-05.32.06_MD590_2_0140_cropped.png && mkdir -p /media/yuncong/BstemAtlasData/CSHL_data_processed/MD590/MD590_masks_alignedTo_MD590-N47-2015.09.12-05.32.06_MD590_2_0140_cropped"
     ]
    },
    {
     "name": "stderr",
     "output_type": "stream",
     "text": [
      " 0\n",
      "1.38 seconds.\n",
      "save: 6.61 seconds\n",
      "\n",
      "Section 212.\n",
      "Child returned"
     ]
    },
    {
     "name": "stdout",
     "output_type": "stream",
     "text": [
      "\n",
      "aws s3 cp s3://mousebrainatlas-data/CSHL_data_processed/MD590/MD590_masks_alignedTo_MD590-N47-2015.09.12-05.32.06_MD590_2_0140_cropped/MD590-N44-2015.08.03-19.57.30_MD590_3_0130_mask_alignedTo_MD590-N47-2015.09.12-05.32.06_MD590_2_0140_cropped.png /media/yuncong/BstemAtlasData/CSHL_data_processed/MD590/MD590_masks_alignedTo_MD590-N47-2015.09.12-05.32.06_MD590_2_0140_cropped/MD590-N44-2015.08.03-19.57.30_MD590_3_0130_mask_alignedTo_MD590-N47-2015.09.12-05.32.06_MD590_2_0140_cropped.png"
     ]
    },
    {
     "name": "stderr",
     "output_type": "stream",
     "text": [
      " 0\n",
      "Child returned 0\n",
      "1.83 seconds.\n",
      "locate patches: 1.86 seconds\n",
      "46762 samples.\n",
      "load image: 1.51 seconds\n",
      "extract patches: 17.56 seconds\n",
      "predict: 121.74 seconds\n"
     ]
    },
    {
     "name": "stdout",
     "output_type": "stream",
     "text": [
      "\n",
      "aws s3 cp /media/yuncong/BstemAtlasData/CSHL_patch_features/inception-bn-blue/MD590/MD590-N44-2015.08.03-19.57.30_MD590_3_0130_lossless_alignedTo_MD590-N47-2015.09.12-05.32.06_MD590_2_0140_cropped/MD590-N44-2015.08.03-19.57.30_MD590_3_0130_lossless_alignedTo_MD590-N47-2015.09.12-05.32.06_MD590_2_0140_cropped_features.hdf s3://mousebrainatlas-data/CSHL_patch_features/inception-bn-blue/MD590/MD590-N44-2015.08.03-19.57.30_MD590_3_0130_lossless_alignedTo_MD590-N47-2015.09.12-05.32.06_MD590_2_0140_cropped/MD590-N44-2015.08.03-19.57.30_MD590_3_0130_lossless_alignedTo_MD590-N47-2015.09.12-05.32.06_MD590_2_0140_cropped_features.hdf\n",
      "aws s3 cp /media/yuncong/BstemAtlasData/CSHL_patch_features/inception-bn-blue/MD590/MD590-N44-2015.08.03-19.57.30_MD590_3_0130_lossless_alignedTo_MD590-N47-2015.09.12-05.32.06_MD590_2_0140_cropped/MD590-N44-2015.08.03-19.57.30_MD590_3_0130_lossless_alignedTo_MD590-N47-2015.09.12-05.32.06_MD590_2_0140_cropped_patch_locations.txt s3://mousebrainatlas-data/CSHL_patch_features/inception-bn-blue/MD590/MD590-N44-2015.08.03-19.57.30_MD590_3_0130_lossless_alignedTo_MD590-N47-2015.09.12-05.32.06_MD590_2_0140_cropped/MD590-N44-2015.08.03-19.57.30_MD590_3_0130_lossless_alignedTo_MD590-N47-2015.09.12-05.32.06_MD590_2_0140_cropped_patch_locations.txt"
     ]
    },
    {
     "name": "stderr",
     "output_type": "stream",
     "text": [
      "Child returned 0\n",
      "2.78 seconds.\n",
      "Child returned"
     ]
    },
    {
     "name": "stdout",
     "output_type": "stream",
     "text": [
      "\n",
      "rm -rf /media/yuncong/BstemAtlasData/CSHL_data_processed/MD590/MD590_masks_alignedTo_MD590-N47-2015.09.12-05.32.06_MD590_2_0140_cropped/MD590-IHC44-2015.08.10-21.02.32_MD590_3_0130_mask_alignedTo_MD590-N47-2015.09.12-05.32.06_MD590_2_0140_cropped.png && mkdir -p /media/yuncong/BstemAtlasData/CSHL_data_processed/MD590/MD590_masks_alignedTo_MD590-N47-2015.09.12-05.32.06_MD590_2_0140_cropped"
     ]
    },
    {
     "name": "stderr",
     "output_type": "stream",
     "text": [
      " 0\n",
      "1.36 seconds.\n",
      "save: 6.51 seconds\n",
      "\n",
      "Section 213.\n",
      "Child returned"
     ]
    },
    {
     "name": "stdout",
     "output_type": "stream",
     "text": [
      "\n",
      "aws s3 cp s3://mousebrainatlas-data/CSHL_data_processed/MD590/MD590_masks_alignedTo_MD590-N47-2015.09.12-05.32.06_MD590_2_0140_cropped/MD590-IHC44-2015.08.10-21.02.32_MD590_3_0130_mask_alignedTo_MD590-N47-2015.09.12-05.32.06_MD590_2_0140_cropped.png /media/yuncong/BstemAtlasData/CSHL_data_processed/MD590/MD590_masks_alignedTo_MD590-N47-2015.09.12-05.32.06_MD590_2_0140_cropped/MD590-IHC44-2015.08.10-21.02.32_MD590_3_0130_mask_alignedTo_MD590-N47-2015.09.12-05.32.06_MD590_2_0140_cropped.png"
     ]
    },
    {
     "name": "stderr",
     "output_type": "stream",
     "text": [
      " 0\n",
      "Child returned 0\n",
      "1.96 seconds.\n",
      "locate patches: 1.99 seconds\n",
      "48704 samples.\n",
      "load image: 1.52 seconds\n",
      "extract patches: 18.97 seconds\n",
      "predict: 126.74 seconds\n"
     ]
    },
    {
     "name": "stdout",
     "output_type": "stream",
     "text": [
      "\n",
      "aws s3 cp /media/yuncong/BstemAtlasData/CSHL_patch_features/inception-bn-blue/MD590/MD590-IHC44-2015.08.10-21.02.32_MD590_3_0130_lossless_alignedTo_MD590-N47-2015.09.12-05.32.06_MD590_2_0140_cropped/MD590-IHC44-2015.08.10-21.02.32_MD590_3_0130_lossless_alignedTo_MD590-N47-2015.09.12-05.32.06_MD590_2_0140_cropped_features.hdf s3://mousebrainatlas-data/CSHL_patch_features/inception-bn-blue/MD590/MD590-IHC44-2015.08.10-21.02.32_MD590_3_0130_lossless_alignedTo_MD590-N47-2015.09.12-05.32.06_MD590_2_0140_cropped/MD590-IHC44-2015.08.10-21.02.32_MD590_3_0130_lossless_alignedTo_MD590-N47-2015.09.12-05.32.06_MD590_2_0140_cropped_features.hdf\n",
      "aws s3 cp /media/yuncong/BstemAtlasData/CSHL_patch_features/inception-bn-blue/MD590/MD590-IHC44-2015.08.10-21.02.32_MD590_3_0130_lossless_alignedTo_MD590-N47-2015.09.12-05.32.06_MD590_2_0140_cropped/MD590-IHC44-2015.08.10-21.02.32_MD590_3_0130_lossless_alignedTo_MD590-N47-2015.09.12-05.32.06_MD590_2_0140_cropped_patch_locations.txt s3://mousebrainatlas-data/CSHL_patch_features/inception-bn-blue/MD590/MD590-IHC44-2015.08.10-21.02.32_MD590_3_0130_lossless_alignedTo_MD590-N47-2015.09.12-05.32.06_MD590_2_0140_cropped/MD590-IHC44-2015.08.10-21.02.32_MD590_3_0130_lossless_alignedTo_MD590-N47-2015.09.12-05.32.06_MD590_2_0140_cropped_patch_locations.txt"
     ]
    },
    {
     "name": "stderr",
     "output_type": "stream",
     "text": [
      "Child returned 0\n",
      "2.78 seconds.\n",
      "Child returned"
     ]
    },
    {
     "name": "stdout",
     "output_type": "stream",
     "text": [
      "\n",
      "rm -rf /media/yuncong/BstemAtlasData/CSHL_data_processed/MD590/MD590_masks_alignedTo_MD590-N47-2015.09.12-05.32.06_MD590_2_0140_cropped/MD590-N44-2015.08.03-19.57.30_MD590_1_0132_mask_alignedTo_MD590-N47-2015.09.12-05.32.06_MD590_2_0140_cropped.png && mkdir -p /media/yuncong/BstemAtlasData/CSHL_data_processed/MD590/MD590_masks_alignedTo_MD590-N47-2015.09.12-05.32.06_MD590_2_0140_cropped"
     ]
    },
    {
     "name": "stderr",
     "output_type": "stream",
     "text": [
      " 0\n",
      "1.34 seconds.\n",
      "save: 6.64 seconds\n",
      "\n",
      "Section 214.\n",
      "Child returned"
     ]
    },
    {
     "name": "stdout",
     "output_type": "stream",
     "text": [
      "\n",
      "aws s3 cp s3://mousebrainatlas-data/CSHL_data_processed/MD590/MD590_masks_alignedTo_MD590-N47-2015.09.12-05.32.06_MD590_2_0140_cropped/MD590-N44-2015.08.03-19.57.30_MD590_1_0132_mask_alignedTo_MD590-N47-2015.09.12-05.32.06_MD590_2_0140_cropped.png /media/yuncong/BstemAtlasData/CSHL_data_processed/MD590/MD590_masks_alignedTo_MD590-N47-2015.09.12-05.32.06_MD590_2_0140_cropped/MD590-N44-2015.08.03-19.57.30_MD590_1_0132_mask_alignedTo_MD590-N47-2015.09.12-05.32.06_MD590_2_0140_cropped.png"
     ]
    },
    {
     "name": "stderr",
     "output_type": "stream",
     "text": [
      " 0\n",
      "Child returned 0\n",
      "2.02 seconds.\n",
      "locate patches: 2.05 seconds\n",
      "46244 samples.\n",
      "load image: 1.95 seconds\n",
      "extract patches: 17.54 seconds\n",
      "predict: 120.11 seconds\n"
     ]
    },
    {
     "name": "stdout",
     "output_type": "stream",
     "text": [
      "\n",
      "aws s3 cp /media/yuncong/BstemAtlasData/CSHL_patch_features/inception-bn-blue/MD590/MD590-N44-2015.08.03-19.57.30_MD590_1_0132_lossless_alignedTo_MD590-N47-2015.09.12-05.32.06_MD590_2_0140_cropped/MD590-N44-2015.08.03-19.57.30_MD590_1_0132_lossless_alignedTo_MD590-N47-2015.09.12-05.32.06_MD590_2_0140_cropped_features.hdf s3://mousebrainatlas-data/CSHL_patch_features/inception-bn-blue/MD590/MD590-N44-2015.08.03-19.57.30_MD590_1_0132_lossless_alignedTo_MD590-N47-2015.09.12-05.32.06_MD590_2_0140_cropped/MD590-N44-2015.08.03-19.57.30_MD590_1_0132_lossless_alignedTo_MD590-N47-2015.09.12-05.32.06_MD590_2_0140_cropped_features.hdf\n",
      "aws s3 cp /media/yuncong/BstemAtlasData/CSHL_patch_features/inception-bn-blue/MD590/MD590-N44-2015.08.03-19.57.30_MD590_1_0132_lossless_alignedTo_MD590-N47-2015.09.12-05.32.06_MD590_2_0140_cropped/MD590-N44-2015.08.03-19.57.30_MD590_1_0132_lossless_alignedTo_MD590-N47-2015.09.12-05.32.06_MD590_2_0140_cropped_patch_locations.txt s3://mousebrainatlas-data/CSHL_patch_features/inception-bn-blue/MD590/MD590-N44-2015.08.03-19.57.30_MD590_1_0132_lossless_alignedTo_MD590-N47-2015.09.12-05.32.06_MD590_2_0140_cropped/MD590-N44-2015.08.03-19.57.30_MD590_1_0132_lossless_alignedTo_MD590-N47-2015.09.12-05.32.06_MD590_2_0140_cropped_patch_locations.txt"
     ]
    },
    {
     "name": "stderr",
     "output_type": "stream",
     "text": [
      "Child returned 0\n",
      "2.75 seconds.\n",
      "Child returned"
     ]
    },
    {
     "name": "stdout",
     "output_type": "stream",
     "text": [
      "\n",
      "rm -rf /media/yuncong/BstemAtlasData/CSHL_data_processed/MD590/MD590_masks_alignedTo_MD590-N47-2015.09.12-05.32.06_MD590_2_0140_cropped/MD590-IHC44-2015.08.10-21.02.32_MD590_1_0132_mask_alignedTo_MD590-N47-2015.09.12-05.32.06_MD590_2_0140_cropped.png && mkdir -p /media/yuncong/BstemAtlasData/CSHL_data_processed/MD590/MD590_masks_alignedTo_MD590-N47-2015.09.12-05.32.06_MD590_2_0140_cropped"
     ]
    },
    {
     "name": "stderr",
     "output_type": "stream",
     "text": [
      " 0\n",
      "1.35 seconds.\n",
      "save: 6.40 seconds\n",
      "\n",
      "Section 215.\n",
      "Child returned"
     ]
    },
    {
     "name": "stdout",
     "output_type": "stream",
     "text": [
      "\n",
      "aws s3 cp s3://mousebrainatlas-data/CSHL_data_processed/MD590/MD590_masks_alignedTo_MD590-N47-2015.09.12-05.32.06_MD590_2_0140_cropped/MD590-IHC44-2015.08.10-21.02.32_MD590_1_0132_mask_alignedTo_MD590-N47-2015.09.12-05.32.06_MD590_2_0140_cropped.png /media/yuncong/BstemAtlasData/CSHL_data_processed/MD590/MD590_masks_alignedTo_MD590-N47-2015.09.12-05.32.06_MD590_2_0140_cropped/MD590-IHC44-2015.08.10-21.02.32_MD590_1_0132_mask_alignedTo_MD590-N47-2015.09.12-05.32.06_MD590_2_0140_cropped.png"
     ]
    },
    {
     "name": "stderr",
     "output_type": "stream",
     "text": [
      " 0\n",
      "Child returned 0\n",
      "1.85 seconds.\n",
      "locate patches: 1.88 seconds\n",
      "48546 samples.\n",
      "load image: 1.54 seconds\n",
      "extract patches: 19.57 seconds\n",
      "predict: 126.03 seconds\n"
     ]
    },
    {
     "name": "stdout",
     "output_type": "stream",
     "text": [
      "\n",
      "aws s3 cp /media/yuncong/BstemAtlasData/CSHL_patch_features/inception-bn-blue/MD590/MD590-IHC44-2015.08.10-21.02.32_MD590_1_0132_lossless_alignedTo_MD590-N47-2015.09.12-05.32.06_MD590_2_0140_cropped/MD590-IHC44-2015.08.10-21.02.32_MD590_1_0132_lossless_alignedTo_MD590-N47-2015.09.12-05.32.06_MD590_2_0140_cropped_features.hdf s3://mousebrainatlas-data/CSHL_patch_features/inception-bn-blue/MD590/MD590-IHC44-2015.08.10-21.02.32_MD590_1_0132_lossless_alignedTo_MD590-N47-2015.09.12-05.32.06_MD590_2_0140_cropped/MD590-IHC44-2015.08.10-21.02.32_MD590_1_0132_lossless_alignedTo_MD590-N47-2015.09.12-05.32.06_MD590_2_0140_cropped_features.hdf\n",
      "aws s3 cp /media/yuncong/BstemAtlasData/CSHL_patch_features/inception-bn-blue/MD590/MD590-IHC44-2015.08.10-21.02.32_MD590_1_0132_lossless_alignedTo_MD590-N47-2015.09.12-05.32.06_MD590_2_0140_cropped/MD590-IHC44-2015.08.10-21.02.32_MD590_1_0132_lossless_alignedTo_MD590-N47-2015.09.12-05.32.06_MD590_2_0140_cropped_patch_locations.txt s3://mousebrainatlas-data/CSHL_patch_features/inception-bn-blue/MD590/MD590-IHC44-2015.08.10-21.02.32_MD590_1_0132_lossless_alignedTo_MD590-N47-2015.09.12-05.32.06_MD590_2_0140_cropped/MD590-IHC44-2015.08.10-21.02.32_MD590_1_0132_lossless_alignedTo_MD590-N47-2015.09.12-05.32.06_MD590_2_0140_cropped_patch_locations.txt"
     ]
    },
    {
     "name": "stderr",
     "output_type": "stream",
     "text": [
      "Child returned 0\n",
      "2.65 seconds.\n",
      "Child returned"
     ]
    },
    {
     "name": "stdout",
     "output_type": "stream",
     "text": [
      "\n",
      "rm -rf /media/yuncong/BstemAtlasData/CSHL_data_processed/MD590/MD590_masks_alignedTo_MD590-N47-2015.09.12-05.32.06_MD590_2_0140_cropped/MD590-N45-2015.08.03-20.01.29_MD590_3_0133_mask_alignedTo_MD590-N47-2015.09.12-05.32.06_MD590_2_0140_cropped.png && mkdir -p /media/yuncong/BstemAtlasData/CSHL_data_processed/MD590/MD590_masks_alignedTo_MD590-N47-2015.09.12-05.32.06_MD590_2_0140_cropped"
     ]
    },
    {
     "name": "stderr",
     "output_type": "stream",
     "text": [
      " 0\n",
      "1.39 seconds.\n",
      "save: 6.48 seconds\n",
      "\n",
      "Section 216.\n",
      "Child returned"
     ]
    },
    {
     "name": "stdout",
     "output_type": "stream",
     "text": [
      "\n",
      "aws s3 cp s3://mousebrainatlas-data/CSHL_data_processed/MD590/MD590_masks_alignedTo_MD590-N47-2015.09.12-05.32.06_MD590_2_0140_cropped/MD590-N45-2015.08.03-20.01.29_MD590_3_0133_mask_alignedTo_MD590-N47-2015.09.12-05.32.06_MD590_2_0140_cropped.png /media/yuncong/BstemAtlasData/CSHL_data_processed/MD590/MD590_masks_alignedTo_MD590-N47-2015.09.12-05.32.06_MD590_2_0140_cropped/MD590-N45-2015.08.03-20.01.29_MD590_3_0133_mask_alignedTo_MD590-N47-2015.09.12-05.32.06_MD590_2_0140_cropped.png"
     ]
    },
    {
     "name": "stderr",
     "output_type": "stream",
     "text": [
      " 0\n",
      "Child returned 0\n",
      "1.89 seconds.\n",
      "locate patches: 1.91 seconds\n",
      "48405 samples.\n",
      "load image: 1.50 seconds\n",
      "extract patches: 20.00 seconds\n",
      "predict: 129.64 seconds\n"
     ]
    },
    {
     "name": "stdout",
     "output_type": "stream",
     "text": [
      "\n",
      "aws s3 cp /media/yuncong/BstemAtlasData/CSHL_patch_features/inception-bn-blue/MD590/MD590-N45-2015.08.03-20.01.29_MD590_3_0133_lossless_alignedTo_MD590-N47-2015.09.12-05.32.06_MD590_2_0140_cropped/MD590-N45-2015.08.03-20.01.29_MD590_3_0133_lossless_alignedTo_MD590-N47-2015.09.12-05.32.06_MD590_2_0140_cropped_features.hdf s3://mousebrainatlas-data/CSHL_patch_features/inception-bn-blue/MD590/MD590-N45-2015.08.03-20.01.29_MD590_3_0133_lossless_alignedTo_MD590-N47-2015.09.12-05.32.06_MD590_2_0140_cropped/MD590-N45-2015.08.03-20.01.29_MD590_3_0133_lossless_alignedTo_MD590-N47-2015.09.12-05.32.06_MD590_2_0140_cropped_features.hdf\n",
      "aws s3 cp /media/yuncong/BstemAtlasData/CSHL_patch_features/inception-bn-blue/MD590/MD590-N45-2015.08.03-20.01.29_MD590_3_0133_lossless_alignedTo_MD590-N47-2015.09.12-05.32.06_MD590_2_0140_cropped/MD590-N45-2015.08.03-20.01.29_MD590_3_0133_lossless_alignedTo_MD590-N47-2015.09.12-05.32.06_MD590_2_0140_cropped_patch_locations.txt s3://mousebrainatlas-data/CSHL_patch_features/inception-bn-blue/MD590/MD590-N45-2015.08.03-20.01.29_MD590_3_0133_lossless_alignedTo_MD590-N47-2015.09.12-05.32.06_MD590_2_0140_cropped/MD590-N45-2015.08.03-20.01.29_MD590_3_0133_lossless_alignedTo_MD590-N47-2015.09.12-05.32.06_MD590_2_0140_cropped_patch_locations.txt"
     ]
    },
    {
     "name": "stderr",
     "output_type": "stream",
     "text": [
      "Child returned 0\n",
      "2.90 seconds.\n",
      "Child returned"
     ]
    },
    {
     "name": "stdout",
     "output_type": "stream",
     "text": [
      "\n",
      "rm -rf /media/yuncong/BstemAtlasData/CSHL_data_processed/MD590/MD590_masks_alignedTo_MD590-N47-2015.09.12-05.32.06_MD590_2_0140_cropped/MD590-IHC45-2015.08.10-21.06.43_MD590_3_0133_mask_alignedTo_MD590-N47-2015.09.12-05.32.06_MD590_2_0140_cropped.png && mkdir -p /media/yuncong/BstemAtlasData/CSHL_data_processed/MD590/MD590_masks_alignedTo_MD590-N47-2015.09.12-05.32.06_MD590_2_0140_cropped"
     ]
    },
    {
     "name": "stderr",
     "output_type": "stream",
     "text": [
      " 0\n",
      "1.50 seconds.\n",
      "save: 6.82 seconds\n",
      "\n",
      "Section 217.\n",
      "Child returned"
     ]
    },
    {
     "name": "stdout",
     "output_type": "stream",
     "text": [
      "\n",
      "aws s3 cp s3://mousebrainatlas-data/CSHL_data_processed/MD590/MD590_masks_alignedTo_MD590-N47-2015.09.12-05.32.06_MD590_2_0140_cropped/MD590-IHC45-2015.08.10-21.06.43_MD590_3_0133_mask_alignedTo_MD590-N47-2015.09.12-05.32.06_MD590_2_0140_cropped.png /media/yuncong/BstemAtlasData/CSHL_data_processed/MD590/MD590_masks_alignedTo_MD590-N47-2015.09.12-05.32.06_MD590_2_0140_cropped/MD590-IHC45-2015.08.10-21.06.43_MD590_3_0133_mask_alignedTo_MD590-N47-2015.09.12-05.32.06_MD590_2_0140_cropped.png"
     ]
    },
    {
     "name": "stderr",
     "output_type": "stream",
     "text": [
      " 0\n",
      "Child returned 0\n",
      "2.00 seconds.\n",
      "locate patches: 2.02 seconds\n",
      "48537 samples.\n",
      "load image: 1.91 seconds\n",
      "extract patches: 19.39 seconds\n",
      "predict: 125.84 seconds\n"
     ]
    },
    {
     "name": "stdout",
     "output_type": "stream",
     "text": [
      "\n",
      "aws s3 cp /media/yuncong/BstemAtlasData/CSHL_patch_features/inception-bn-blue/MD590/MD590-IHC45-2015.08.10-21.06.43_MD590_3_0133_lossless_alignedTo_MD590-N47-2015.09.12-05.32.06_MD590_2_0140_cropped/MD590-IHC45-2015.08.10-21.06.43_MD590_3_0133_lossless_alignedTo_MD590-N47-2015.09.12-05.32.06_MD590_2_0140_cropped_features.hdf s3://mousebrainatlas-data/CSHL_patch_features/inception-bn-blue/MD590/MD590-IHC45-2015.08.10-21.06.43_MD590_3_0133_lossless_alignedTo_MD590-N47-2015.09.12-05.32.06_MD590_2_0140_cropped/MD590-IHC45-2015.08.10-21.06.43_MD590_3_0133_lossless_alignedTo_MD590-N47-2015.09.12-05.32.06_MD590_2_0140_cropped_features.hdf\n",
      "aws s3 cp /media/yuncong/BstemAtlasData/CSHL_patch_features/inception-bn-blue/MD590/MD590-IHC45-2015.08.10-21.06.43_MD590_3_0133_lossless_alignedTo_MD590-N47-2015.09.12-05.32.06_MD590_2_0140_cropped/MD590-IHC45-2015.08.10-21.06.43_MD590_3_0133_lossless_alignedTo_MD590-N47-2015.09.12-05.32.06_MD590_2_0140_cropped_patch_locations.txt s3://mousebrainatlas-data/CSHL_patch_features/inception-bn-blue/MD590/MD590-IHC45-2015.08.10-21.06.43_MD590_3_0133_lossless_alignedTo_MD590-N47-2015.09.12-05.32.06_MD590_2_0140_cropped/MD590-IHC45-2015.08.10-21.06.43_MD590_3_0133_lossless_alignedTo_MD590-N47-2015.09.12-05.32.06_MD590_2_0140_cropped_patch_locations.txt"
     ]
    },
    {
     "name": "stderr",
     "output_type": "stream",
     "text": [
      "Child returned 0\n",
      "2.57 seconds.\n",
      "Child returned"
     ]
    },
    {
     "name": "stdout",
     "output_type": "stream",
     "text": [
      "\n",
      "rm -rf /media/yuncong/BstemAtlasData/CSHL_data_processed/MD590/MD590_masks_alignedTo_MD590-N47-2015.09.12-05.32.06_MD590_2_0140_cropped/MD590-N45-2015.08.03-20.01.29_MD590_1_0135_mask_alignedTo_MD590-N47-2015.09.12-05.32.06_MD590_2_0140_cropped.png && mkdir -p /media/yuncong/BstemAtlasData/CSHL_data_processed/MD590/MD590_masks_alignedTo_MD590-N47-2015.09.12-05.32.06_MD590_2_0140_cropped"
     ]
    },
    {
     "name": "stderr",
     "output_type": "stream",
     "text": [
      " 0\n",
      "1.37 seconds.\n",
      "save: 6.35 seconds\n",
      "\n",
      "Section 218.\n",
      "Child returned"
     ]
    },
    {
     "name": "stdout",
     "output_type": "stream",
     "text": [
      "\n",
      "aws s3 cp s3://mousebrainatlas-data/CSHL_data_processed/MD590/MD590_masks_alignedTo_MD590-N47-2015.09.12-05.32.06_MD590_2_0140_cropped/MD590-N45-2015.08.03-20.01.29_MD590_1_0135_mask_alignedTo_MD590-N47-2015.09.12-05.32.06_MD590_2_0140_cropped.png /media/yuncong/BstemAtlasData/CSHL_data_processed/MD590/MD590_masks_alignedTo_MD590-N47-2015.09.12-05.32.06_MD590_2_0140_cropped/MD590-N45-2015.08.03-20.01.29_MD590_1_0135_mask_alignedTo_MD590-N47-2015.09.12-05.32.06_MD590_2_0140_cropped.png"
     ]
    },
    {
     "name": "stderr",
     "output_type": "stream",
     "text": [
      " 0\n",
      "Child returned 0\n",
      "1.83 seconds.\n",
      "locate patches: 1.86 seconds\n",
      "48262 samples.\n",
      "load image: 1.52 seconds\n",
      "extract patches: 19.17 seconds\n",
      "predict: 124.96 seconds\n"
     ]
    },
    {
     "name": "stdout",
     "output_type": "stream",
     "text": [
      "\n",
      "aws s3 cp /media/yuncong/BstemAtlasData/CSHL_patch_features/inception-bn-blue/MD590/MD590-N45-2015.08.03-20.01.29_MD590_1_0135_lossless_alignedTo_MD590-N47-2015.09.12-05.32.06_MD590_2_0140_cropped/MD590-N45-2015.08.03-20.01.29_MD590_1_0135_lossless_alignedTo_MD590-N47-2015.09.12-05.32.06_MD590_2_0140_cropped_features.hdf s3://mousebrainatlas-data/CSHL_patch_features/inception-bn-blue/MD590/MD590-N45-2015.08.03-20.01.29_MD590_1_0135_lossless_alignedTo_MD590-N47-2015.09.12-05.32.06_MD590_2_0140_cropped/MD590-N45-2015.08.03-20.01.29_MD590_1_0135_lossless_alignedTo_MD590-N47-2015.09.12-05.32.06_MD590_2_0140_cropped_features.hdf\n",
      "aws s3 cp /media/yuncong/BstemAtlasData/CSHL_patch_features/inception-bn-blue/MD590/MD590-N45-2015.08.03-20.01.29_MD590_1_0135_lossless_alignedTo_MD590-N47-2015.09.12-05.32.06_MD590_2_0140_cropped/MD590-N45-2015.08.03-20.01.29_MD590_1_0135_lossless_alignedTo_MD590-N47-2015.09.12-05.32.06_MD590_2_0140_cropped_patch_locations.txt s3://mousebrainatlas-data/CSHL_patch_features/inception-bn-blue/MD590/MD590-N45-2015.08.03-20.01.29_MD590_1_0135_lossless_alignedTo_MD590-N47-2015.09.12-05.32.06_MD590_2_0140_cropped/MD590-N45-2015.08.03-20.01.29_MD590_1_0135_lossless_alignedTo_MD590-N47-2015.09.12-05.32.06_MD590_2_0140_cropped_patch_locations.txt"
     ]
    },
    {
     "name": "stderr",
     "output_type": "stream",
     "text": [
      "Child returned 0\n",
      "2.57 seconds.\n",
      "Child returned"
     ]
    },
    {
     "name": "stdout",
     "output_type": "stream",
     "text": [
      "\n",
      "rm -rf /media/yuncong/BstemAtlasData/CSHL_data_processed/MD590/MD590_masks_alignedTo_MD590-N47-2015.09.12-05.32.06_MD590_2_0140_cropped/MD590-IHC45-2015.08.10-21.06.43_MD590_1_0135_mask_alignedTo_MD590-N47-2015.09.12-05.32.06_MD590_2_0140_cropped.png && mkdir -p /media/yuncong/BstemAtlasData/CSHL_data_processed/MD590/MD590_masks_alignedTo_MD590-N47-2015.09.12-05.32.06_MD590_2_0140_cropped"
     ]
    },
    {
     "name": "stderr",
     "output_type": "stream",
     "text": [
      " 0\n",
      "1.32 seconds.\n",
      "save: 6.27 seconds\n",
      "\n",
      "Section 219.\n",
      "Child returned"
     ]
    },
    {
     "name": "stdout",
     "output_type": "stream",
     "text": [
      "\n",
      "aws s3 cp s3://mousebrainatlas-data/CSHL_data_processed/MD590/MD590_masks_alignedTo_MD590-N47-2015.09.12-05.32.06_MD590_2_0140_cropped/MD590-IHC45-2015.08.10-21.06.43_MD590_1_0135_mask_alignedTo_MD590-N47-2015.09.12-05.32.06_MD590_2_0140_cropped.png /media/yuncong/BstemAtlasData/CSHL_data_processed/MD590/MD590_masks_alignedTo_MD590-N47-2015.09.12-05.32.06_MD590_2_0140_cropped/MD590-IHC45-2015.08.10-21.06.43_MD590_1_0135_mask_alignedTo_MD590-N47-2015.09.12-05.32.06_MD590_2_0140_cropped.png"
     ]
    },
    {
     "name": "stderr",
     "output_type": "stream",
     "text": [
      " 0\n",
      "Child returned 0\n",
      "1.81 seconds.\n",
      "locate patches: 1.84 seconds\n",
      "48382 samples.\n",
      "load image: 1.58 seconds\n",
      "extract patches: 18.66 seconds\n",
      "predict: 125.13 seconds\n"
     ]
    },
    {
     "name": "stdout",
     "output_type": "stream",
     "text": [
      "\n",
      "aws s3 cp /media/yuncong/BstemAtlasData/CSHL_patch_features/inception-bn-blue/MD590/MD590-IHC45-2015.08.10-21.06.43_MD590_1_0135_lossless_alignedTo_MD590-N47-2015.09.12-05.32.06_MD590_2_0140_cropped/MD590-IHC45-2015.08.10-21.06.43_MD590_1_0135_lossless_alignedTo_MD590-N47-2015.09.12-05.32.06_MD590_2_0140_cropped_features.hdf s3://mousebrainatlas-data/CSHL_patch_features/inception-bn-blue/MD590/MD590-IHC45-2015.08.10-21.06.43_MD590_1_0135_lossless_alignedTo_MD590-N47-2015.09.12-05.32.06_MD590_2_0140_cropped/MD590-IHC45-2015.08.10-21.06.43_MD590_1_0135_lossless_alignedTo_MD590-N47-2015.09.12-05.32.06_MD590_2_0140_cropped_features.hdf\n",
      "aws s3 cp /media/yuncong/BstemAtlasData/CSHL_patch_features/inception-bn-blue/MD590/MD590-IHC45-2015.08.10-21.06.43_MD590_1_0135_lossless_alignedTo_MD590-N47-2015.09.12-05.32.06_MD590_2_0140_cropped/MD590-IHC45-2015.08.10-21.06.43_MD590_1_0135_lossless_alignedTo_MD590-N47-2015.09.12-05.32.06_MD590_2_0140_cropped_patch_locations.txt s3://mousebrainatlas-data/CSHL_patch_features/inception-bn-blue/MD590/MD590-IHC45-2015.08.10-21.06.43_MD590_1_0135_lossless_alignedTo_MD590-N47-2015.09.12-05.32.06_MD590_2_0140_cropped/MD590-IHC45-2015.08.10-21.06.43_MD590_1_0135_lossless_alignedTo_MD590-N47-2015.09.12-05.32.06_MD590_2_0140_cropped_patch_locations.txt"
     ]
    },
    {
     "name": "stderr",
     "output_type": "stream",
     "text": [
      "Child returned 0\n",
      "2.73 seconds.\n",
      "Child returned"
     ]
    },
    {
     "name": "stdout",
     "output_type": "stream",
     "text": [
      "\n",
      "rm -rf /media/yuncong/BstemAtlasData/CSHL_data_processed/MD590/MD590_masks_alignedTo_MD590-N47-2015.09.12-05.32.06_MD590_2_0140_cropped/MD590-N46-2015.08.03-20.05.19_MD590_3_0136_mask_alignedTo_MD590-N47-2015.09.12-05.32.06_MD590_2_0140_cropped.png && mkdir -p /media/yuncong/BstemAtlasData/CSHL_data_processed/MD590/MD590_masks_alignedTo_MD590-N47-2015.09.12-05.32.06_MD590_2_0140_cropped"
     ]
    },
    {
     "name": "stderr",
     "output_type": "stream",
     "text": [
      " 0\n",
      "1.36 seconds.\n",
      "save: 6.52 seconds\n",
      "\n",
      "Section 220.\n",
      "Child returned"
     ]
    },
    {
     "name": "stdout",
     "output_type": "stream",
     "text": [
      "\n",
      "aws s3 cp s3://mousebrainatlas-data/CSHL_data_processed/MD590/MD590_masks_alignedTo_MD590-N47-2015.09.12-05.32.06_MD590_2_0140_cropped/MD590-N46-2015.08.03-20.05.19_MD590_3_0136_mask_alignedTo_MD590-N47-2015.09.12-05.32.06_MD590_2_0140_cropped.png /media/yuncong/BstemAtlasData/CSHL_data_processed/MD590/MD590_masks_alignedTo_MD590-N47-2015.09.12-05.32.06_MD590_2_0140_cropped/MD590-N46-2015.08.03-20.05.19_MD590_3_0136_mask_alignedTo_MD590-N47-2015.09.12-05.32.06_MD590_2_0140_cropped.png"
     ]
    },
    {
     "name": "stderr",
     "output_type": "stream",
     "text": [
      " 0\n",
      "Child returned 0\n",
      "1.82 seconds.\n",
      "locate patches: 1.85 seconds\n",
      "48256 samples.\n",
      "load image: 1.47 seconds\n",
      "extract patches: 18.80 seconds\n",
      "predict: 124.94 seconds\n"
     ]
    },
    {
     "name": "stdout",
     "output_type": "stream",
     "text": [
      "\n",
      "aws s3 cp /media/yuncong/BstemAtlasData/CSHL_patch_features/inception-bn-blue/MD590/MD590-N46-2015.08.03-20.05.19_MD590_3_0136_lossless_alignedTo_MD590-N47-2015.09.12-05.32.06_MD590_2_0140_cropped/MD590-N46-2015.08.03-20.05.19_MD590_3_0136_lossless_alignedTo_MD590-N47-2015.09.12-05.32.06_MD590_2_0140_cropped_features.hdf s3://mousebrainatlas-data/CSHL_patch_features/inception-bn-blue/MD590/MD590-N46-2015.08.03-20.05.19_MD590_3_0136_lossless_alignedTo_MD590-N47-2015.09.12-05.32.06_MD590_2_0140_cropped/MD590-N46-2015.08.03-20.05.19_MD590_3_0136_lossless_alignedTo_MD590-N47-2015.09.12-05.32.06_MD590_2_0140_cropped_features.hdf\n",
      "aws s3 cp /media/yuncong/BstemAtlasData/CSHL_patch_features/inception-bn-blue/MD590/MD590-N46-2015.08.03-20.05.19_MD590_3_0136_lossless_alignedTo_MD590-N47-2015.09.12-05.32.06_MD590_2_0140_cropped/MD590-N46-2015.08.03-20.05.19_MD590_3_0136_lossless_alignedTo_MD590-N47-2015.09.12-05.32.06_MD590_2_0140_cropped_patch_locations.txt s3://mousebrainatlas-data/CSHL_patch_features/inception-bn-blue/MD590/MD590-N46-2015.08.03-20.05.19_MD590_3_0136_lossless_alignedTo_MD590-N47-2015.09.12-05.32.06_MD590_2_0140_cropped/MD590-N46-2015.08.03-20.05.19_MD590_3_0136_lossless_alignedTo_MD590-N47-2015.09.12-05.32.06_MD590_2_0140_cropped_patch_locations.txt"
     ]
    },
    {
     "name": "stderr",
     "output_type": "stream",
     "text": [
      "Child returned 0\n",
      "2.70 seconds.\n",
      "Child returned"
     ]
    },
    {
     "name": "stdout",
     "output_type": "stream",
     "text": [
      "\n",
      "rm -rf /media/yuncong/BstemAtlasData/CSHL_data_processed/MD590/MD590_masks_alignedTo_MD590-N47-2015.09.12-05.32.06_MD590_2_0140_cropped/MD590-IHC46-2015.08.10-21.10.44_MD590_3_0136_mask_alignedTo_MD590-N47-2015.09.12-05.32.06_MD590_2_0140_cropped.png && mkdir -p /media/yuncong/BstemAtlasData/CSHL_data_processed/MD590/MD590_masks_alignedTo_MD590-N47-2015.09.12-05.32.06_MD590_2_0140_cropped"
     ]
    },
    {
     "name": "stderr",
     "output_type": "stream",
     "text": [
      " 0\n",
      "1.27 seconds.\n",
      "save: 6.38 seconds\n",
      "\n",
      "Section 221.\n",
      "Child returned"
     ]
    },
    {
     "name": "stdout",
     "output_type": "stream",
     "text": [
      "\n",
      "aws s3 cp s3://mousebrainatlas-data/CSHL_data_processed/MD590/MD590_masks_alignedTo_MD590-N47-2015.09.12-05.32.06_MD590_2_0140_cropped/MD590-IHC46-2015.08.10-21.10.44_MD590_3_0136_mask_alignedTo_MD590-N47-2015.09.12-05.32.06_MD590_2_0140_cropped.png /media/yuncong/BstemAtlasData/CSHL_data_processed/MD590/MD590_masks_alignedTo_MD590-N47-2015.09.12-05.32.06_MD590_2_0140_cropped/MD590-IHC46-2015.08.10-21.10.44_MD590_3_0136_mask_alignedTo_MD590-N47-2015.09.12-05.32.06_MD590_2_0140_cropped.png"
     ]
    },
    {
     "name": "stderr",
     "output_type": "stream",
     "text": [
      " 0\n",
      "Child returned 0\n",
      "1.83 seconds.\n",
      "locate patches: 1.86 seconds\n",
      "48719 samples.\n",
      "load image: 1.51 seconds\n",
      "extract patches: 18.80 seconds\n",
      "predict: 126.41 seconds\n"
     ]
    },
    {
     "name": "stdout",
     "output_type": "stream",
     "text": [
      "\n",
      "aws s3 cp /media/yuncong/BstemAtlasData/CSHL_patch_features/inception-bn-blue/MD590/MD590-IHC46-2015.08.10-21.10.44_MD590_3_0136_lossless_alignedTo_MD590-N47-2015.09.12-05.32.06_MD590_2_0140_cropped/MD590-IHC46-2015.08.10-21.10.44_MD590_3_0136_lossless_alignedTo_MD590-N47-2015.09.12-05.32.06_MD590_2_0140_cropped_features.hdf s3://mousebrainatlas-data/CSHL_patch_features/inception-bn-blue/MD590/MD590-IHC46-2015.08.10-21.10.44_MD590_3_0136_lossless_alignedTo_MD590-N47-2015.09.12-05.32.06_MD590_2_0140_cropped/MD590-IHC46-2015.08.10-21.10.44_MD590_3_0136_lossless_alignedTo_MD590-N47-2015.09.12-05.32.06_MD590_2_0140_cropped_features.hdf\n",
      "aws s3 cp /media/yuncong/BstemAtlasData/CSHL_patch_features/inception-bn-blue/MD590/MD590-IHC46-2015.08.10-21.10.44_MD590_3_0136_lossless_alignedTo_MD590-N47-2015.09.12-05.32.06_MD590_2_0140_cropped/MD590-IHC46-2015.08.10-21.10.44_MD590_3_0136_lossless_alignedTo_MD590-N47-2015.09.12-05.32.06_MD590_2_0140_cropped_patch_locations.txt s3://mousebrainatlas-data/CSHL_patch_features/inception-bn-blue/MD590/MD590-IHC46-2015.08.10-21.10.44_MD590_3_0136_lossless_alignedTo_MD590-N47-2015.09.12-05.32.06_MD590_2_0140_cropped/MD590-IHC46-2015.08.10-21.10.44_MD590_3_0136_lossless_alignedTo_MD590-N47-2015.09.12-05.32.06_MD590_2_0140_cropped_patch_locations.txt"
     ]
    },
    {
     "name": "stderr",
     "output_type": "stream",
     "text": [
      "Child returned 0\n",
      "2.69 seconds.\n",
      "Child returned"
     ]
    },
    {
     "name": "stdout",
     "output_type": "stream",
     "text": [
      "\n",
      "rm -rf /media/yuncong/BstemAtlasData/CSHL_data_processed/MD590/MD590_masks_alignedTo_MD590-N47-2015.09.12-05.32.06_MD590_2_0140_cropped/MD590-N46-2015.08.03-20.05.19_MD590_2_0137_mask_alignedTo_MD590-N47-2015.09.12-05.32.06_MD590_2_0140_cropped.png && mkdir -p /media/yuncong/BstemAtlasData/CSHL_data_processed/MD590/MD590_masks_alignedTo_MD590-N47-2015.09.12-05.32.06_MD590_2_0140_cropped"
     ]
    },
    {
     "name": "stderr",
     "output_type": "stream",
     "text": [
      " 0\n",
      "1.38 seconds.\n",
      "save: 6.61 seconds\n",
      "\n",
      "Section 222.\n",
      "Child returned"
     ]
    },
    {
     "name": "stdout",
     "output_type": "stream",
     "text": [
      "\n",
      "aws s3 cp s3://mousebrainatlas-data/CSHL_data_processed/MD590/MD590_masks_alignedTo_MD590-N47-2015.09.12-05.32.06_MD590_2_0140_cropped/MD590-N46-2015.08.03-20.05.19_MD590_2_0137_mask_alignedTo_MD590-N47-2015.09.12-05.32.06_MD590_2_0140_cropped.png /media/yuncong/BstemAtlasData/CSHL_data_processed/MD590/MD590_masks_alignedTo_MD590-N47-2015.09.12-05.32.06_MD590_2_0140_cropped/MD590-N46-2015.08.03-20.05.19_MD590_2_0137_mask_alignedTo_MD590-N47-2015.09.12-05.32.06_MD590_2_0140_cropped.png"
     ]
    },
    {
     "name": "stderr",
     "output_type": "stream",
     "text": [
      " 0\n",
      "Child returned 0\n",
      "1.85 seconds.\n",
      "locate patches: 1.87 seconds\n",
      "48226 samples.\n",
      "load image: 1.53 seconds\n",
      "extract patches: 19.33 seconds\n",
      "predict: 124.79 seconds\n"
     ]
    },
    {
     "name": "stdout",
     "output_type": "stream",
     "text": [
      "\n",
      "aws s3 cp /media/yuncong/BstemAtlasData/CSHL_patch_features/inception-bn-blue/MD590/MD590-N46-2015.08.03-20.05.19_MD590_2_0137_lossless_alignedTo_MD590-N47-2015.09.12-05.32.06_MD590_2_0140_cropped/MD590-N46-2015.08.03-20.05.19_MD590_2_0137_lossless_alignedTo_MD590-N47-2015.09.12-05.32.06_MD590_2_0140_cropped_features.hdf s3://mousebrainatlas-data/CSHL_patch_features/inception-bn-blue/MD590/MD590-N46-2015.08.03-20.05.19_MD590_2_0137_lossless_alignedTo_MD590-N47-2015.09.12-05.32.06_MD590_2_0140_cropped/MD590-N46-2015.08.03-20.05.19_MD590_2_0137_lossless_alignedTo_MD590-N47-2015.09.12-05.32.06_MD590_2_0140_cropped_features.hdf\n",
      "aws s3 cp /media/yuncong/BstemAtlasData/CSHL_patch_features/inception-bn-blue/MD590/MD590-N46-2015.08.03-20.05.19_MD590_2_0137_lossless_alignedTo_MD590-N47-2015.09.12-05.32.06_MD590_2_0140_cropped/MD590-N46-2015.08.03-20.05.19_MD590_2_0137_lossless_alignedTo_MD590-N47-2015.09.12-05.32.06_MD590_2_0140_cropped_patch_locations.txt s3://mousebrainatlas-data/CSHL_patch_features/inception-bn-blue/MD590/MD590-N46-2015.08.03-20.05.19_MD590_2_0137_lossless_alignedTo_MD590-N47-2015.09.12-05.32.06_MD590_2_0140_cropped/MD590-N46-2015.08.03-20.05.19_MD590_2_0137_lossless_alignedTo_MD590-N47-2015.09.12-05.32.06_MD590_2_0140_cropped_patch_locations.txt"
     ]
    },
    {
     "name": "stderr",
     "output_type": "stream",
     "text": [
      "Child returned 0\n",
      "2.75 seconds.\n",
      "Child returned"
     ]
    },
    {
     "name": "stdout",
     "output_type": "stream",
     "text": [
      "\n",
      "rm -rf /media/yuncong/BstemAtlasData/CSHL_data_processed/MD590/MD590_masks_alignedTo_MD590-N47-2015.09.12-05.32.06_MD590_2_0140_cropped/MD590-IHC46-2015.08.10-21.10.44_MD590_2_0137_mask_alignedTo_MD590-N47-2015.09.12-05.32.06_MD590_2_0140_cropped.png && mkdir -p /media/yuncong/BstemAtlasData/CSHL_data_processed/MD590/MD590_masks_alignedTo_MD590-N47-2015.09.12-05.32.06_MD590_2_0140_cropped"
     ]
    },
    {
     "name": "stderr",
     "output_type": "stream",
     "text": [
      " 0\n",
      "1.35 seconds.\n",
      "save: 6.49 seconds\n",
      "\n",
      "Section 223.\n",
      "Child returned"
     ]
    },
    {
     "name": "stdout",
     "output_type": "stream",
     "text": [
      "\n",
      "aws s3 cp s3://mousebrainatlas-data/CSHL_data_processed/MD590/MD590_masks_alignedTo_MD590-N47-2015.09.12-05.32.06_MD590_2_0140_cropped/MD590-IHC46-2015.08.10-21.10.44_MD590_2_0137_mask_alignedTo_MD590-N47-2015.09.12-05.32.06_MD590_2_0140_cropped.png /media/yuncong/BstemAtlasData/CSHL_data_processed/MD590/MD590_masks_alignedTo_MD590-N47-2015.09.12-05.32.06_MD590_2_0140_cropped/MD590-IHC46-2015.08.10-21.10.44_MD590_2_0137_mask_alignedTo_MD590-N47-2015.09.12-05.32.06_MD590_2_0140_cropped.png"
     ]
    },
    {
     "name": "stderr",
     "output_type": "stream",
     "text": [
      " 0\n",
      "Child returned 0\n",
      "1.79 seconds.\n",
      "locate patches: 1.82 seconds\n",
      "48466 samples.\n",
      "load image: 1.55 seconds\n",
      "extract patches: 18.87 seconds\n",
      "predict: 125.82 seconds\n"
     ]
    },
    {
     "name": "stdout",
     "output_type": "stream",
     "text": [
      "\n",
      "aws s3 cp /media/yuncong/BstemAtlasData/CSHL_patch_features/inception-bn-blue/MD590/MD590-IHC46-2015.08.10-21.10.44_MD590_2_0137_lossless_alignedTo_MD590-N47-2015.09.12-05.32.06_MD590_2_0140_cropped/MD590-IHC46-2015.08.10-21.10.44_MD590_2_0137_lossless_alignedTo_MD590-N47-2015.09.12-05.32.06_MD590_2_0140_cropped_features.hdf s3://mousebrainatlas-data/CSHL_patch_features/inception-bn-blue/MD590/MD590-IHC46-2015.08.10-21.10.44_MD590_2_0137_lossless_alignedTo_MD590-N47-2015.09.12-05.32.06_MD590_2_0140_cropped/MD590-IHC46-2015.08.10-21.10.44_MD590_2_0137_lossless_alignedTo_MD590-N47-2015.09.12-05.32.06_MD590_2_0140_cropped_features.hdf\n",
      "aws s3 cp /media/yuncong/BstemAtlasData/CSHL_patch_features/inception-bn-blue/MD590/MD590-IHC46-2015.08.10-21.10.44_MD590_2_0137_lossless_alignedTo_MD590-N47-2015.09.12-05.32.06_MD590_2_0140_cropped/MD590-IHC46-2015.08.10-21.10.44_MD590_2_0137_lossless_alignedTo_MD590-N47-2015.09.12-05.32.06_MD590_2_0140_cropped_patch_locations.txt s3://mousebrainatlas-data/CSHL_patch_features/inception-bn-blue/MD590/MD590-IHC46-2015.08.10-21.10.44_MD590_2_0137_lossless_alignedTo_MD590-N47-2015.09.12-05.32.06_MD590_2_0140_cropped/MD590-IHC46-2015.08.10-21.10.44_MD590_2_0137_lossless_alignedTo_MD590-N47-2015.09.12-05.32.06_MD590_2_0140_cropped_patch_locations.txt"
     ]
    },
    {
     "name": "stderr",
     "output_type": "stream",
     "text": [
      "Child returned 0\n",
      "20.68 seconds.\n",
      "Child returned"
     ]
    },
    {
     "name": "stdout",
     "output_type": "stream",
     "text": [
      "\n",
      "rm -rf /media/yuncong/BstemAtlasData/CSHL_data_processed/MD590/MD590_masks_alignedTo_MD590-N47-2015.09.12-05.32.06_MD590_2_0140_cropped/MD590-N47-2015.09.12-05.32.06_MD590_1_0139_mask_alignedTo_MD590-N47-2015.09.12-05.32.06_MD590_2_0140_cropped.png && mkdir -p /media/yuncong/BstemAtlasData/CSHL_data_processed/MD590/MD590_masks_alignedTo_MD590-N47-2015.09.12-05.32.06_MD590_2_0140_cropped"
     ]
    },
    {
     "name": "stderr",
     "output_type": "stream",
     "text": [
      " 0\n",
      "1.30 seconds.\n",
      "save: 24.35 seconds\n",
      "\n",
      "Section 224.\n",
      "Child returned"
     ]
    },
    {
     "name": "stdout",
     "output_type": "stream",
     "text": [
      "\n",
      "aws s3 cp s3://mousebrainatlas-data/CSHL_data_processed/MD590/MD590_masks_alignedTo_MD590-N47-2015.09.12-05.32.06_MD590_2_0140_cropped/MD590-N47-2015.09.12-05.32.06_MD590_1_0139_mask_alignedTo_MD590-N47-2015.09.12-05.32.06_MD590_2_0140_cropped.png /media/yuncong/BstemAtlasData/CSHL_data_processed/MD590/MD590_masks_alignedTo_MD590-N47-2015.09.12-05.32.06_MD590_2_0140_cropped/MD590-N47-2015.09.12-05.32.06_MD590_1_0139_mask_alignedTo_MD590-N47-2015.09.12-05.32.06_MD590_2_0140_cropped.png"
     ]
    },
    {
     "name": "stderr",
     "output_type": "stream",
     "text": [
      " 0\n",
      "Child returned 0\n",
      "1.86 seconds.\n",
      "locate patches: 1.89 seconds\n",
      "48329 samples.\n",
      "load image: 1.55 seconds\n",
      "extract patches: 19.29 seconds\n",
      "predict: 124.70 seconds\n"
     ]
    },
    {
     "name": "stdout",
     "output_type": "stream",
     "text": [
      "\n",
      "aws s3 cp /media/yuncong/BstemAtlasData/CSHL_patch_features/inception-bn-blue/MD590/MD590-N47-2015.09.12-05.32.06_MD590_1_0139_lossless_alignedTo_MD590-N47-2015.09.12-05.32.06_MD590_2_0140_cropped/MD590-N47-2015.09.12-05.32.06_MD590_1_0139_lossless_alignedTo_MD590-N47-2015.09.12-05.32.06_MD590_2_0140_cropped_features.hdf s3://mousebrainatlas-data/CSHL_patch_features/inception-bn-blue/MD590/MD590-N47-2015.09.12-05.32.06_MD590_1_0139_lossless_alignedTo_MD590-N47-2015.09.12-05.32.06_MD590_2_0140_cropped/MD590-N47-2015.09.12-05.32.06_MD590_1_0139_lossless_alignedTo_MD590-N47-2015.09.12-05.32.06_MD590_2_0140_cropped_features.hdf\n",
      "aws s3 cp /media/yuncong/BstemAtlasData/CSHL_patch_features/inception-bn-blue/MD590/MD590-N47-2015.09.12-05.32.06_MD590_1_0139_lossless_alignedTo_MD590-N47-2015.09.12-05.32.06_MD590_2_0140_cropped/MD590-N47-2015.09.12-05.32.06_MD590_1_0139_lossless_alignedTo_MD590-N47-2015.09.12-05.32.06_MD590_2_0140_cropped_patch_locations.txt s3://mousebrainatlas-data/CSHL_patch_features/inception-bn-blue/MD590/MD590-N47-2015.09.12-05.32.06_MD590_1_0139_lossless_alignedTo_MD590-N47-2015.09.12-05.32.06_MD590_2_0140_cropped/MD590-N47-2015.09.12-05.32.06_MD590_1_0139_lossless_alignedTo_MD590-N47-2015.09.12-05.32.06_MD590_2_0140_cropped_patch_locations.txt"
     ]
    },
    {
     "name": "stderr",
     "output_type": "stream",
     "text": [
      "Child returned 0\n",
      "2.57 seconds.\n",
      "Child returned"
     ]
    },
    {
     "name": "stdout",
     "output_type": "stream",
     "text": [
      "\n",
      "rm -rf /media/yuncong/BstemAtlasData/CSHL_data_processed/MD590/MD590_masks_alignedTo_MD590-N47-2015.09.12-05.32.06_MD590_2_0140_cropped/MD590-IHC47-2015.08.10-21.15.09_MD590_3_0139_mask_alignedTo_MD590-N47-2015.09.12-05.32.06_MD590_2_0140_cropped.png && mkdir -p /media/yuncong/BstemAtlasData/CSHL_data_processed/MD590/MD590_masks_alignedTo_MD590-N47-2015.09.12-05.32.06_MD590_2_0140_cropped"
     ]
    },
    {
     "name": "stderr",
     "output_type": "stream",
     "text": [
      " 0\n",
      "1.42 seconds.\n",
      "save: 6.41 seconds\n",
      "\n",
      "Section 225.\n",
      "Child returned"
     ]
    },
    {
     "name": "stdout",
     "output_type": "stream",
     "text": [
      "\n",
      "aws s3 cp s3://mousebrainatlas-data/CSHL_data_processed/MD590/MD590_masks_alignedTo_MD590-N47-2015.09.12-05.32.06_MD590_2_0140_cropped/MD590-IHC47-2015.08.10-21.15.09_MD590_3_0139_mask_alignedTo_MD590-N47-2015.09.12-05.32.06_MD590_2_0140_cropped.png /media/yuncong/BstemAtlasData/CSHL_data_processed/MD590/MD590_masks_alignedTo_MD590-N47-2015.09.12-05.32.06_MD590_2_0140_cropped/MD590-IHC47-2015.08.10-21.15.09_MD590_3_0139_mask_alignedTo_MD590-N47-2015.09.12-05.32.06_MD590_2_0140_cropped.png"
     ]
    },
    {
     "name": "stderr",
     "output_type": "stream",
     "text": [
      " 0\n",
      "Child returned 0\n",
      "1.85 seconds.\n",
      "locate patches: 1.88 seconds\n",
      "48526 samples.\n",
      "load image: 1.46 seconds\n",
      "extract patches: 18.95 seconds\n",
      "predict: 125.61 seconds\n"
     ]
    },
    {
     "name": "stdout",
     "output_type": "stream",
     "text": [
      "\n",
      "aws s3 cp /media/yuncong/BstemAtlasData/CSHL_patch_features/inception-bn-blue/MD590/MD590-IHC47-2015.08.10-21.15.09_MD590_3_0139_lossless_alignedTo_MD590-N47-2015.09.12-05.32.06_MD590_2_0140_cropped/MD590-IHC47-2015.08.10-21.15.09_MD590_3_0139_lossless_alignedTo_MD590-N47-2015.09.12-05.32.06_MD590_2_0140_cropped_features.hdf s3://mousebrainatlas-data/CSHL_patch_features/inception-bn-blue/MD590/MD590-IHC47-2015.08.10-21.15.09_MD590_3_0139_lossless_alignedTo_MD590-N47-2015.09.12-05.32.06_MD590_2_0140_cropped/MD590-IHC47-2015.08.10-21.15.09_MD590_3_0139_lossless_alignedTo_MD590-N47-2015.09.12-05.32.06_MD590_2_0140_cropped_features.hdf\n",
      "aws s3 cp /media/yuncong/BstemAtlasData/CSHL_patch_features/inception-bn-blue/MD590/MD590-IHC47-2015.08.10-21.15.09_MD590_3_0139_lossless_alignedTo_MD590-N47-2015.09.12-05.32.06_MD590_2_0140_cropped/MD590-IHC47-2015.08.10-21.15.09_MD590_3_0139_lossless_alignedTo_MD590-N47-2015.09.12-05.32.06_MD590_2_0140_cropped_patch_locations.txt s3://mousebrainatlas-data/CSHL_patch_features/inception-bn-blue/MD590/MD590-IHC47-2015.08.10-21.15.09_MD590_3_0139_lossless_alignedTo_MD590-N47-2015.09.12-05.32.06_MD590_2_0140_cropped/MD590-IHC47-2015.08.10-21.15.09_MD590_3_0139_lossless_alignedTo_MD590-N47-2015.09.12-05.32.06_MD590_2_0140_cropped_patch_locations.txt"
     ]
    },
    {
     "name": "stderr",
     "output_type": "stream",
     "text": [
      "Child returned 0\n",
      "2.68 seconds.\n",
      "Child returned"
     ]
    },
    {
     "name": "stdout",
     "output_type": "stream",
     "text": [
      "\n",
      "rm -rf /media/yuncong/BstemAtlasData/CSHL_data_processed/MD590/MD590_masks_alignedTo_MD590-N47-2015.09.12-05.32.06_MD590_2_0140_cropped/MD590-N47-2015.09.12-05.32.06_MD590_2_0140_mask_alignedTo_MD590-N47-2015.09.12-05.32.06_MD590_2_0140_cropped.png && mkdir -p /media/yuncong/BstemAtlasData/CSHL_data_processed/MD590/MD590_masks_alignedTo_MD590-N47-2015.09.12-05.32.06_MD590_2_0140_cropped"
     ]
    },
    {
     "name": "stderr",
     "output_type": "stream",
     "text": [
      " 0\n",
      "1.33 seconds.\n",
      "save: 6.52 seconds\n",
      "\n",
      "Section 226.\n",
      "Child returned"
     ]
    },
    {
     "name": "stdout",
     "output_type": "stream",
     "text": [
      "\n",
      "aws s3 cp s3://mousebrainatlas-data/CSHL_data_processed/MD590/MD590_masks_alignedTo_MD590-N47-2015.09.12-05.32.06_MD590_2_0140_cropped/MD590-N47-2015.09.12-05.32.06_MD590_2_0140_mask_alignedTo_MD590-N47-2015.09.12-05.32.06_MD590_2_0140_cropped.png /media/yuncong/BstemAtlasData/CSHL_data_processed/MD590/MD590_masks_alignedTo_MD590-N47-2015.09.12-05.32.06_MD590_2_0140_cropped/MD590-N47-2015.09.12-05.32.06_MD590_2_0140_mask_alignedTo_MD590-N47-2015.09.12-05.32.06_MD590_2_0140_cropped.png"
     ]
    },
    {
     "name": "stderr",
     "output_type": "stream",
     "text": [
      " 0\n",
      "Child returned 0\n",
      "1.92 seconds.\n",
      "locate patches: 1.94 seconds\n",
      "48368 samples.\n",
      "load image: 1.50 seconds\n",
      "extract patches: 18.67 seconds\n",
      "predict: 125.23 seconds\n"
     ]
    },
    {
     "name": "stdout",
     "output_type": "stream",
     "text": [
      "\n",
      "aws s3 cp /media/yuncong/BstemAtlasData/CSHL_patch_features/inception-bn-blue/MD590/MD590-N47-2015.09.12-05.32.06_MD590_2_0140_lossless_alignedTo_MD590-N47-2015.09.12-05.32.06_MD590_2_0140_cropped/MD590-N47-2015.09.12-05.32.06_MD590_2_0140_lossless_alignedTo_MD590-N47-2015.09.12-05.32.06_MD590_2_0140_cropped_features.hdf s3://mousebrainatlas-data/CSHL_patch_features/inception-bn-blue/MD590/MD590-N47-2015.09.12-05.32.06_MD590_2_0140_lossless_alignedTo_MD590-N47-2015.09.12-05.32.06_MD590_2_0140_cropped/MD590-N47-2015.09.12-05.32.06_MD590_2_0140_lossless_alignedTo_MD590-N47-2015.09.12-05.32.06_MD590_2_0140_cropped_features.hdf\n",
      "aws s3 cp /media/yuncong/BstemAtlasData/CSHL_patch_features/inception-bn-blue/MD590/MD590-N47-2015.09.12-05.32.06_MD590_2_0140_lossless_alignedTo_MD590-N47-2015.09.12-05.32.06_MD590_2_0140_cropped/MD590-N47-2015.09.12-05.32.06_MD590_2_0140_lossless_alignedTo_MD590-N47-2015.09.12-05.32.06_MD590_2_0140_cropped_patch_locations.txt s3://mousebrainatlas-data/CSHL_patch_features/inception-bn-blue/MD590/MD590-N47-2015.09.12-05.32.06_MD590_2_0140_lossless_alignedTo_MD590-N47-2015.09.12-05.32.06_MD590_2_0140_cropped/MD590-N47-2015.09.12-05.32.06_MD590_2_0140_lossless_alignedTo_MD590-N47-2015.09.12-05.32.06_MD590_2_0140_cropped_patch_locations.txt"
     ]
    },
    {
     "name": "stderr",
     "output_type": "stream",
     "text": [
      "Child returned 0\n",
      "2.52 seconds.\n",
      "Child returned"
     ]
    },
    {
     "name": "stdout",
     "output_type": "stream",
     "text": [
      "\n",
      "rm -rf /media/yuncong/BstemAtlasData/CSHL_data_processed/MD590/MD590_masks_alignedTo_MD590-N47-2015.09.12-05.32.06_MD590_2_0140_cropped/MD590-IHC47-2015.08.10-21.15.09_MD590_2_0140_mask_alignedTo_MD590-N47-2015.09.12-05.32.06_MD590_2_0140_cropped.png && mkdir -p /media/yuncong/BstemAtlasData/CSHL_data_processed/MD590/MD590_masks_alignedTo_MD590-N47-2015.09.12-05.32.06_MD590_2_0140_cropped"
     ]
    },
    {
     "name": "stderr",
     "output_type": "stream",
     "text": [
      " 0\n",
      "1.37 seconds.\n",
      "save: 6.27 seconds\n",
      "\n",
      "Section 227.\n",
      "Child returned"
     ]
    },
    {
     "name": "stdout",
     "output_type": "stream",
     "text": [
      "\n",
      "aws s3 cp s3://mousebrainatlas-data/CSHL_data_processed/MD590/MD590_masks_alignedTo_MD590-N47-2015.09.12-05.32.06_MD590_2_0140_cropped/MD590-IHC47-2015.08.10-21.15.09_MD590_2_0140_mask_alignedTo_MD590-N47-2015.09.12-05.32.06_MD590_2_0140_cropped.png /media/yuncong/BstemAtlasData/CSHL_data_processed/MD590/MD590_masks_alignedTo_MD590-N47-2015.09.12-05.32.06_MD590_2_0140_cropped/MD590-IHC47-2015.08.10-21.15.09_MD590_2_0140_mask_alignedTo_MD590-N47-2015.09.12-05.32.06_MD590_2_0140_cropped.png"
     ]
    },
    {
     "name": "stderr",
     "output_type": "stream",
     "text": [
      " 0\n",
      "Child returned 0\n",
      "1.90 seconds.\n",
      "locate patches: 1.92 seconds\n",
      "48537 samples.\n",
      "load image: 1.57 seconds\n",
      "extract patches: 18.93 seconds\n",
      "predict: 125.73 seconds\n"
     ]
    },
    {
     "name": "stdout",
     "output_type": "stream",
     "text": [
      "\n",
      "aws s3 cp /media/yuncong/BstemAtlasData/CSHL_patch_features/inception-bn-blue/MD590/MD590-IHC47-2015.08.10-21.15.09_MD590_2_0140_lossless_alignedTo_MD590-N47-2015.09.12-05.32.06_MD590_2_0140_cropped/MD590-IHC47-2015.08.10-21.15.09_MD590_2_0140_lossless_alignedTo_MD590-N47-2015.09.12-05.32.06_MD590_2_0140_cropped_features.hdf s3://mousebrainatlas-data/CSHL_patch_features/inception-bn-blue/MD590/MD590-IHC47-2015.08.10-21.15.09_MD590_2_0140_lossless_alignedTo_MD590-N47-2015.09.12-05.32.06_MD590_2_0140_cropped/MD590-IHC47-2015.08.10-21.15.09_MD590_2_0140_lossless_alignedTo_MD590-N47-2015.09.12-05.32.06_MD590_2_0140_cropped_features.hdf\n",
      "aws s3 cp /media/yuncong/BstemAtlasData/CSHL_patch_features/inception-bn-blue/MD590/MD590-IHC47-2015.08.10-21.15.09_MD590_2_0140_lossless_alignedTo_MD590-N47-2015.09.12-05.32.06_MD590_2_0140_cropped/MD590-IHC47-2015.08.10-21.15.09_MD590_2_0140_lossless_alignedTo_MD590-N47-2015.09.12-05.32.06_MD590_2_0140_cropped_patch_locations.txt s3://mousebrainatlas-data/CSHL_patch_features/inception-bn-blue/MD590/MD590-IHC47-2015.08.10-21.15.09_MD590_2_0140_lossless_alignedTo_MD590-N47-2015.09.12-05.32.06_MD590_2_0140_cropped/MD590-IHC47-2015.08.10-21.15.09_MD590_2_0140_lossless_alignedTo_MD590-N47-2015.09.12-05.32.06_MD590_2_0140_cropped_patch_locations.txt"
     ]
    },
    {
     "name": "stderr",
     "output_type": "stream",
     "text": [
      "Child returned 0\n",
      "2.73 seconds.\n",
      "Child returned"
     ]
    },
    {
     "name": "stdout",
     "output_type": "stream",
     "text": [
      "\n",
      "rm -rf /media/yuncong/BstemAtlasData/CSHL_data_processed/MD590/MD590_masks_alignedTo_MD590-N47-2015.09.12-05.32.06_MD590_2_0140_cropped/MD590-N48-2015.09.12-05.37.05_MD590_1_0142_mask_alignedTo_MD590-N47-2015.09.12-05.32.06_MD590_2_0140_cropped.png && mkdir -p /media/yuncong/BstemAtlasData/CSHL_data_processed/MD590/MD590_masks_alignedTo_MD590-N47-2015.09.12-05.32.06_MD590_2_0140_cropped"
     ]
    },
    {
     "name": "stderr",
     "output_type": "stream",
     "text": [
      " 0\n",
      "1.30 seconds.\n",
      "save: 6.43 seconds\n",
      "\n",
      "Section 228.\n",
      "Child returned"
     ]
    },
    {
     "name": "stdout",
     "output_type": "stream",
     "text": [
      "\n",
      "aws s3 cp s3://mousebrainatlas-data/CSHL_data_processed/MD590/MD590_masks_alignedTo_MD590-N47-2015.09.12-05.32.06_MD590_2_0140_cropped/MD590-N48-2015.09.12-05.37.05_MD590_1_0142_mask_alignedTo_MD590-N47-2015.09.12-05.32.06_MD590_2_0140_cropped.png /media/yuncong/BstemAtlasData/CSHL_data_processed/MD590/MD590_masks_alignedTo_MD590-N47-2015.09.12-05.32.06_MD590_2_0140_cropped/MD590-N48-2015.09.12-05.37.05_MD590_1_0142_mask_alignedTo_MD590-N47-2015.09.12-05.32.06_MD590_2_0140_cropped.png"
     ]
    },
    {
     "name": "stderr",
     "output_type": "stream",
     "text": [
      " 0\n",
      "Child returned 0\n",
      "1.82 seconds.\n",
      "locate patches: 1.85 seconds\n",
      "48352 samples.\n",
      "load image: 1.48 seconds\n",
      "extract patches: 18.60 seconds\n",
      "predict: 125.21 seconds\n"
     ]
    },
    {
     "name": "stdout",
     "output_type": "stream",
     "text": [
      "\n",
      "aws s3 cp /media/yuncong/BstemAtlasData/CSHL_patch_features/inception-bn-blue/MD590/MD590-N48-2015.09.12-05.37.05_MD590_1_0142_lossless_alignedTo_MD590-N47-2015.09.12-05.32.06_MD590_2_0140_cropped/MD590-N48-2015.09.12-05.37.05_MD590_1_0142_lossless_alignedTo_MD590-N47-2015.09.12-05.32.06_MD590_2_0140_cropped_features.hdf s3://mousebrainatlas-data/CSHL_patch_features/inception-bn-blue/MD590/MD590-N48-2015.09.12-05.37.05_MD590_1_0142_lossless_alignedTo_MD590-N47-2015.09.12-05.32.06_MD590_2_0140_cropped/MD590-N48-2015.09.12-05.37.05_MD590_1_0142_lossless_alignedTo_MD590-N47-2015.09.12-05.32.06_MD590_2_0140_cropped_features.hdf\n",
      "aws s3 cp /media/yuncong/BstemAtlasData/CSHL_patch_features/inception-bn-blue/MD590/MD590-N48-2015.09.12-05.37.05_MD590_1_0142_lossless_alignedTo_MD590-N47-2015.09.12-05.32.06_MD590_2_0140_cropped/MD590-N48-2015.09.12-05.37.05_MD590_1_0142_lossless_alignedTo_MD590-N47-2015.09.12-05.32.06_MD590_2_0140_cropped_patch_locations.txt s3://mousebrainatlas-data/CSHL_patch_features/inception-bn-blue/MD590/MD590-N48-2015.09.12-05.37.05_MD590_1_0142_lossless_alignedTo_MD590-N47-2015.09.12-05.32.06_MD590_2_0140_cropped/MD590-N48-2015.09.12-05.37.05_MD590_1_0142_lossless_alignedTo_MD590-N47-2015.09.12-05.32.06_MD590_2_0140_cropped_patch_locations.txt"
     ]
    },
    {
     "name": "stderr",
     "output_type": "stream",
     "text": [
      "Child returned 0\n",
      "2.58 seconds.\n",
      "Child returned"
     ]
    },
    {
     "name": "stdout",
     "output_type": "stream",
     "text": [
      "\n",
      "rm -rf /media/yuncong/BstemAtlasData/CSHL_data_processed/MD590/MD590_masks_alignedTo_MD590-N47-2015.09.12-05.32.06_MD590_2_0140_cropped/MD590-IHC48-2015.08.10-21.19.21_MD590_3_0142_mask_alignedTo_MD590-N47-2015.09.12-05.32.06_MD590_2_0140_cropped.png && mkdir -p /media/yuncong/BstemAtlasData/CSHL_data_processed/MD590/MD590_masks_alignedTo_MD590-N47-2015.09.12-05.32.06_MD590_2_0140_cropped"
     ]
    },
    {
     "name": "stderr",
     "output_type": "stream",
     "text": [
      " 0\n",
      "1.37 seconds.\n",
      "save: 6.39 seconds\n",
      "\n",
      "Section 229.\n",
      "Child returned"
     ]
    },
    {
     "name": "stdout",
     "output_type": "stream",
     "text": [
      "\n",
      "aws s3 cp s3://mousebrainatlas-data/CSHL_data_processed/MD590/MD590_masks_alignedTo_MD590-N47-2015.09.12-05.32.06_MD590_2_0140_cropped/MD590-IHC48-2015.08.10-21.19.21_MD590_3_0142_mask_alignedTo_MD590-N47-2015.09.12-05.32.06_MD590_2_0140_cropped.png /media/yuncong/BstemAtlasData/CSHL_data_processed/MD590/MD590_masks_alignedTo_MD590-N47-2015.09.12-05.32.06_MD590_2_0140_cropped/MD590-IHC48-2015.08.10-21.19.21_MD590_3_0142_mask_alignedTo_MD590-N47-2015.09.12-05.32.06_MD590_2_0140_cropped.png"
     ]
    },
    {
     "name": "stderr",
     "output_type": "stream",
     "text": [
      " 0\n",
      "Child returned 0\n",
      "1.89 seconds.\n",
      "locate patches: 1.92 seconds\n",
      "48522 samples.\n",
      "load image: 1.51 seconds\n",
      "extract patches: 20.11 seconds\n",
      "predict: 125.76 seconds\n"
     ]
    },
    {
     "name": "stdout",
     "output_type": "stream",
     "text": [
      "\n",
      "aws s3 cp /media/yuncong/BstemAtlasData/CSHL_patch_features/inception-bn-blue/MD590/MD590-IHC48-2015.08.10-21.19.21_MD590_3_0142_lossless_alignedTo_MD590-N47-2015.09.12-05.32.06_MD590_2_0140_cropped/MD590-IHC48-2015.08.10-21.19.21_MD590_3_0142_lossless_alignedTo_MD590-N47-2015.09.12-05.32.06_MD590_2_0140_cropped_features.hdf s3://mousebrainatlas-data/CSHL_patch_features/inception-bn-blue/MD590/MD590-IHC48-2015.08.10-21.19.21_MD590_3_0142_lossless_alignedTo_MD590-N47-2015.09.12-05.32.06_MD590_2_0140_cropped/MD590-IHC48-2015.08.10-21.19.21_MD590_3_0142_lossless_alignedTo_MD590-N47-2015.09.12-05.32.06_MD590_2_0140_cropped_features.hdf\n",
      "aws s3 cp /media/yuncong/BstemAtlasData/CSHL_patch_features/inception-bn-blue/MD590/MD590-IHC48-2015.08.10-21.19.21_MD590_3_0142_lossless_alignedTo_MD590-N47-2015.09.12-05.32.06_MD590_2_0140_cropped/MD590-IHC48-2015.08.10-21.19.21_MD590_3_0142_lossless_alignedTo_MD590-N47-2015.09.12-05.32.06_MD590_2_0140_cropped_patch_locations.txt s3://mousebrainatlas-data/CSHL_patch_features/inception-bn-blue/MD590/MD590-IHC48-2015.08.10-21.19.21_MD590_3_0142_lossless_alignedTo_MD590-N47-2015.09.12-05.32.06_MD590_2_0140_cropped/MD590-IHC48-2015.08.10-21.19.21_MD590_3_0142_lossless_alignedTo_MD590-N47-2015.09.12-05.32.06_MD590_2_0140_cropped_patch_locations.txt"
     ]
    },
    {
     "name": "stderr",
     "output_type": "stream",
     "text": [
      "Child returned 0\n",
      "2.65 seconds.\n",
      "Child returned"
     ]
    },
    {
     "name": "stdout",
     "output_type": "stream",
     "text": [
      "\n",
      "rm -rf /media/yuncong/BstemAtlasData/CSHL_data_processed/MD590/MD590_masks_alignedTo_MD590-N47-2015.09.12-05.32.06_MD590_2_0140_cropped/MD590-N48-2015.09.12-05.37.05_MD590_2_0143_mask_alignedTo_MD590-N47-2015.09.12-05.32.06_MD590_2_0140_cropped.png && mkdir -p /media/yuncong/BstemAtlasData/CSHL_data_processed/MD590/MD590_masks_alignedTo_MD590-N47-2015.09.12-05.32.06_MD590_2_0140_cropped"
     ]
    },
    {
     "name": "stderr",
     "output_type": "stream",
     "text": [
      " 0\n",
      "1.67 seconds.\n",
      "save: 6.76 seconds\n",
      "\n",
      "Section 230.\n",
      "Child returned"
     ]
    },
    {
     "name": "stdout",
     "output_type": "stream",
     "text": [
      "\n",
      "aws s3 cp s3://mousebrainatlas-data/CSHL_data_processed/MD590/MD590_masks_alignedTo_MD590-N47-2015.09.12-05.32.06_MD590_2_0140_cropped/MD590-N48-2015.09.12-05.37.05_MD590_2_0143_mask_alignedTo_MD590-N47-2015.09.12-05.32.06_MD590_2_0140_cropped.png /media/yuncong/BstemAtlasData/CSHL_data_processed/MD590/MD590_masks_alignedTo_MD590-N47-2015.09.12-05.32.06_MD590_2_0140_cropped/MD590-N48-2015.09.12-05.37.05_MD590_2_0143_mask_alignedTo_MD590-N47-2015.09.12-05.32.06_MD590_2_0140_cropped.png"
     ]
    },
    {
     "name": "stderr",
     "output_type": "stream",
     "text": [
      " 0\n",
      "Child returned 0\n",
      "2.00 seconds.\n",
      "locate patches: 2.02 seconds\n",
      "48469 samples.\n",
      "load image: 2.01 seconds\n",
      "extract patches: 18.67 seconds\n",
      "predict: 125.51 seconds\n"
     ]
    },
    {
     "name": "stdout",
     "output_type": "stream",
     "text": [
      "\n",
      "aws s3 cp /media/yuncong/BstemAtlasData/CSHL_patch_features/inception-bn-blue/MD590/MD590-N48-2015.09.12-05.37.05_MD590_2_0143_lossless_alignedTo_MD590-N47-2015.09.12-05.32.06_MD590_2_0140_cropped/MD590-N48-2015.09.12-05.37.05_MD590_2_0143_lossless_alignedTo_MD590-N47-2015.09.12-05.32.06_MD590_2_0140_cropped_features.hdf s3://mousebrainatlas-data/CSHL_patch_features/inception-bn-blue/MD590/MD590-N48-2015.09.12-05.37.05_MD590_2_0143_lossless_alignedTo_MD590-N47-2015.09.12-05.32.06_MD590_2_0140_cropped/MD590-N48-2015.09.12-05.37.05_MD590_2_0143_lossless_alignedTo_MD590-N47-2015.09.12-05.32.06_MD590_2_0140_cropped_features.hdf\n",
      "aws s3 cp /media/yuncong/BstemAtlasData/CSHL_patch_features/inception-bn-blue/MD590/MD590-N48-2015.09.12-05.37.05_MD590_2_0143_lossless_alignedTo_MD590-N47-2015.09.12-05.32.06_MD590_2_0140_cropped/MD590-N48-2015.09.12-05.37.05_MD590_2_0143_lossless_alignedTo_MD590-N47-2015.09.12-05.32.06_MD590_2_0140_cropped_patch_locations.txt s3://mousebrainatlas-data/CSHL_patch_features/inception-bn-blue/MD590/MD590-N48-2015.09.12-05.37.05_MD590_2_0143_lossless_alignedTo_MD590-N47-2015.09.12-05.32.06_MD590_2_0140_cropped/MD590-N48-2015.09.12-05.37.05_MD590_2_0143_lossless_alignedTo_MD590-N47-2015.09.12-05.32.06_MD590_2_0140_cropped_patch_locations.txt"
     ]
    },
    {
     "name": "stderr",
     "output_type": "stream",
     "text": [
      "Child returned 0\n",
      "2.56 seconds.\n",
      "Child returned"
     ]
    },
    {
     "name": "stdout",
     "output_type": "stream",
     "text": [
      "\n",
      "rm -rf /media/yuncong/BstemAtlasData/CSHL_data_processed/MD590/MD590_masks_alignedTo_MD590-N47-2015.09.12-05.32.06_MD590_2_0140_cropped/MD590-IHC48-2015.08.10-21.19.21_MD590_2_0143_mask_alignedTo_MD590-N47-2015.09.12-05.32.06_MD590_2_0140_cropped.png && mkdir -p /media/yuncong/BstemAtlasData/CSHL_data_processed/MD590/MD590_masks_alignedTo_MD590-N47-2015.09.12-05.32.06_MD590_2_0140_cropped"
     ]
    },
    {
     "name": "stderr",
     "output_type": "stream",
     "text": [
      " 0\n",
      "1.41 seconds.\n",
      "save: 6.38 seconds\n",
      "\n",
      "Section 231.\n",
      "Child returned"
     ]
    },
    {
     "name": "stdout",
     "output_type": "stream",
     "text": [
      "\n",
      "aws s3 cp s3://mousebrainatlas-data/CSHL_data_processed/MD590/MD590_masks_alignedTo_MD590-N47-2015.09.12-05.32.06_MD590_2_0140_cropped/MD590-IHC48-2015.08.10-21.19.21_MD590_2_0143_mask_alignedTo_MD590-N47-2015.09.12-05.32.06_MD590_2_0140_cropped.png /media/yuncong/BstemAtlasData/CSHL_data_processed/MD590/MD590_masks_alignedTo_MD590-N47-2015.09.12-05.32.06_MD590_2_0140_cropped/MD590-IHC48-2015.08.10-21.19.21_MD590_2_0143_mask_alignedTo_MD590-N47-2015.09.12-05.32.06_MD590_2_0140_cropped.png"
     ]
    },
    {
     "name": "stderr",
     "output_type": "stream",
     "text": [
      " 0\n",
      "Child returned 0\n",
      "1.82 seconds.\n",
      "locate patches: 1.85 seconds\n",
      "48519 samples.\n",
      "load image: 1.55 seconds\n",
      "extract patches: 18.71 seconds\n",
      "predict: 125.51 seconds\n"
     ]
    },
    {
     "name": "stdout",
     "output_type": "stream",
     "text": [
      "\n",
      "aws s3 cp /media/yuncong/BstemAtlasData/CSHL_patch_features/inception-bn-blue/MD590/MD590-IHC48-2015.08.10-21.19.21_MD590_2_0143_lossless_alignedTo_MD590-N47-2015.09.12-05.32.06_MD590_2_0140_cropped/MD590-IHC48-2015.08.10-21.19.21_MD590_2_0143_lossless_alignedTo_MD590-N47-2015.09.12-05.32.06_MD590_2_0140_cropped_features.hdf s3://mousebrainatlas-data/CSHL_patch_features/inception-bn-blue/MD590/MD590-IHC48-2015.08.10-21.19.21_MD590_2_0143_lossless_alignedTo_MD590-N47-2015.09.12-05.32.06_MD590_2_0140_cropped/MD590-IHC48-2015.08.10-21.19.21_MD590_2_0143_lossless_alignedTo_MD590-N47-2015.09.12-05.32.06_MD590_2_0140_cropped_features.hdf\n",
      "aws s3 cp /media/yuncong/BstemAtlasData/CSHL_patch_features/inception-bn-blue/MD590/MD590-IHC48-2015.08.10-21.19.21_MD590_2_0143_lossless_alignedTo_MD590-N47-2015.09.12-05.32.06_MD590_2_0140_cropped/MD590-IHC48-2015.08.10-21.19.21_MD590_2_0143_lossless_alignedTo_MD590-N47-2015.09.12-05.32.06_MD590_2_0140_cropped_patch_locations.txt s3://mousebrainatlas-data/CSHL_patch_features/inception-bn-blue/MD590/MD590-IHC48-2015.08.10-21.19.21_MD590_2_0143_lossless_alignedTo_MD590-N47-2015.09.12-05.32.06_MD590_2_0140_cropped/MD590-IHC48-2015.08.10-21.19.21_MD590_2_0143_lossless_alignedTo_MD590-N47-2015.09.12-05.32.06_MD590_2_0140_cropped_patch_locations.txt"
     ]
    },
    {
     "name": "stderr",
     "output_type": "stream",
     "text": [
      "Child returned 0\n",
      "3.18 seconds.\n",
      "Child returned"
     ]
    },
    {
     "name": "stdout",
     "output_type": "stream",
     "text": [
      "\n",
      "rm -rf /media/yuncong/BstemAtlasData/CSHL_data_processed/MD590/MD590_masks_alignedTo_MD590-N47-2015.09.12-05.32.06_MD590_2_0140_cropped/MD590-N49-2015.09.12-05.42.03_MD590_1_0145_mask_alignedTo_MD590-N47-2015.09.12-05.32.06_MD590_2_0140_cropped.png && mkdir -p /media/yuncong/BstemAtlasData/CSHL_data_processed/MD590/MD590_masks_alignedTo_MD590-N47-2015.09.12-05.32.06_MD590_2_0140_cropped"
     ]
    },
    {
     "name": "stderr",
     "output_type": "stream",
     "text": [
      " 0\n",
      "1.28 seconds.\n",
      "save: 6.86 seconds\n",
      "\n",
      "Section 232.\n",
      "Child returned"
     ]
    },
    {
     "name": "stdout",
     "output_type": "stream",
     "text": [
      "\n",
      "aws s3 cp s3://mousebrainatlas-data/CSHL_data_processed/MD590/MD590_masks_alignedTo_MD590-N47-2015.09.12-05.32.06_MD590_2_0140_cropped/MD590-N49-2015.09.12-05.42.03_MD590_1_0145_mask_alignedTo_MD590-N47-2015.09.12-05.32.06_MD590_2_0140_cropped.png /media/yuncong/BstemAtlasData/CSHL_data_processed/MD590/MD590_masks_alignedTo_MD590-N47-2015.09.12-05.32.06_MD590_2_0140_cropped/MD590-N49-2015.09.12-05.42.03_MD590_1_0145_mask_alignedTo_MD590-N47-2015.09.12-05.32.06_MD590_2_0140_cropped.png"
     ]
    },
    {
     "name": "stderr",
     "output_type": "stream",
     "text": [
      " 0\n",
      "Child returned 0\n",
      "1.87 seconds.\n",
      "locate patches: 1.90 seconds\n",
      "48294 samples.\n",
      "load image: 1.98 seconds\n",
      "extract patches: 18.17 seconds\n",
      "predict: 124.65 seconds\n"
     ]
    },
    {
     "name": "stdout",
     "output_type": "stream",
     "text": [
      "\n",
      "aws s3 cp /media/yuncong/BstemAtlasData/CSHL_patch_features/inception-bn-blue/MD590/MD590-N49-2015.09.12-05.42.03_MD590_1_0145_lossless_alignedTo_MD590-N47-2015.09.12-05.32.06_MD590_2_0140_cropped/MD590-N49-2015.09.12-05.42.03_MD590_1_0145_lossless_alignedTo_MD590-N47-2015.09.12-05.32.06_MD590_2_0140_cropped_features.hdf s3://mousebrainatlas-data/CSHL_patch_features/inception-bn-blue/MD590/MD590-N49-2015.09.12-05.42.03_MD590_1_0145_lossless_alignedTo_MD590-N47-2015.09.12-05.32.06_MD590_2_0140_cropped/MD590-N49-2015.09.12-05.42.03_MD590_1_0145_lossless_alignedTo_MD590-N47-2015.09.12-05.32.06_MD590_2_0140_cropped_features.hdf\n",
      "aws s3 cp /media/yuncong/BstemAtlasData/CSHL_patch_features/inception-bn-blue/MD590/MD590-N49-2015.09.12-05.42.03_MD590_1_0145_lossless_alignedTo_MD590-N47-2015.09.12-05.32.06_MD590_2_0140_cropped/MD590-N49-2015.09.12-05.42.03_MD590_1_0145_lossless_alignedTo_MD590-N47-2015.09.12-05.32.06_MD590_2_0140_cropped_patch_locations.txt s3://mousebrainatlas-data/CSHL_patch_features/inception-bn-blue/MD590/MD590-N49-2015.09.12-05.42.03_MD590_1_0145_lossless_alignedTo_MD590-N47-2015.09.12-05.32.06_MD590_2_0140_cropped/MD590-N49-2015.09.12-05.42.03_MD590_1_0145_lossless_alignedTo_MD590-N47-2015.09.12-05.32.06_MD590_2_0140_cropped_patch_locations.txt"
     ]
    },
    {
     "name": "stderr",
     "output_type": "stream",
     "text": [
      "Child returned 0\n",
      "2.54 seconds.\n",
      "Child returned"
     ]
    },
    {
     "name": "stdout",
     "output_type": "stream",
     "text": [
      "\n",
      "rm -rf /media/yuncong/BstemAtlasData/CSHL_data_processed/MD590/MD590_masks_alignedTo_MD590-N47-2015.09.12-05.32.06_MD590_2_0140_cropped/MD590-IHC49-2015.08.10-21.23.29_MD590_3_0145_mask_alignedTo_MD590-N47-2015.09.12-05.32.06_MD590_2_0140_cropped.png && mkdir -p /media/yuncong/BstemAtlasData/CSHL_data_processed/MD590/MD590_masks_alignedTo_MD590-N47-2015.09.12-05.32.06_MD590_2_0140_cropped"
     ]
    },
    {
     "name": "stderr",
     "output_type": "stream",
     "text": [
      " 0\n",
      "1.37 seconds.\n",
      "save: 6.30 seconds\n",
      "\n",
      "Section 233.\n",
      "Child returned"
     ]
    },
    {
     "name": "stdout",
     "output_type": "stream",
     "text": [
      "\n",
      "aws s3 cp s3://mousebrainatlas-data/CSHL_data_processed/MD590/MD590_masks_alignedTo_MD590-N47-2015.09.12-05.32.06_MD590_2_0140_cropped/MD590-IHC49-2015.08.10-21.23.29_MD590_3_0145_mask_alignedTo_MD590-N47-2015.09.12-05.32.06_MD590_2_0140_cropped.png /media/yuncong/BstemAtlasData/CSHL_data_processed/MD590/MD590_masks_alignedTo_MD590-N47-2015.09.12-05.32.06_MD590_2_0140_cropped/MD590-IHC49-2015.08.10-21.23.29_MD590_3_0145_mask_alignedTo_MD590-N47-2015.09.12-05.32.06_MD590_2_0140_cropped.png"
     ]
    },
    {
     "name": "stderr",
     "output_type": "stream",
     "text": [
      " 0\n",
      "Child returned 0\n",
      "1.91 seconds.\n",
      "locate patches: 1.93 seconds\n",
      "48162 samples.\n",
      "load image: 1.50 seconds\n",
      "extract patches: 18.32 seconds\n",
      "predict: 124.55 seconds\n"
     ]
    },
    {
     "name": "stdout",
     "output_type": "stream",
     "text": [
      "\n",
      "aws s3 cp /media/yuncong/BstemAtlasData/CSHL_patch_features/inception-bn-blue/MD590/MD590-IHC49-2015.08.10-21.23.29_MD590_3_0145_lossless_alignedTo_MD590-N47-2015.09.12-05.32.06_MD590_2_0140_cropped/MD590-IHC49-2015.08.10-21.23.29_MD590_3_0145_lossless_alignedTo_MD590-N47-2015.09.12-05.32.06_MD590_2_0140_cropped_features.hdf s3://mousebrainatlas-data/CSHL_patch_features/inception-bn-blue/MD590/MD590-IHC49-2015.08.10-21.23.29_MD590_3_0145_lossless_alignedTo_MD590-N47-2015.09.12-05.32.06_MD590_2_0140_cropped/MD590-IHC49-2015.08.10-21.23.29_MD590_3_0145_lossless_alignedTo_MD590-N47-2015.09.12-05.32.06_MD590_2_0140_cropped_features.hdf\n",
      "aws s3 cp /media/yuncong/BstemAtlasData/CSHL_patch_features/inception-bn-blue/MD590/MD590-IHC49-2015.08.10-21.23.29_MD590_3_0145_lossless_alignedTo_MD590-N47-2015.09.12-05.32.06_MD590_2_0140_cropped/MD590-IHC49-2015.08.10-21.23.29_MD590_3_0145_lossless_alignedTo_MD590-N47-2015.09.12-05.32.06_MD590_2_0140_cropped_patch_locations.txt s3://mousebrainatlas-data/CSHL_patch_features/inception-bn-blue/MD590/MD590-IHC49-2015.08.10-21.23.29_MD590_3_0145_lossless_alignedTo_MD590-N47-2015.09.12-05.32.06_MD590_2_0140_cropped/MD590-IHC49-2015.08.10-21.23.29_MD590_3_0145_lossless_alignedTo_MD590-N47-2015.09.12-05.32.06_MD590_2_0140_cropped_patch_locations.txt"
     ]
    },
    {
     "name": "stderr",
     "output_type": "stream",
     "text": [
      "Child returned 0\n",
      "2.71 seconds.\n",
      "Child returned"
     ]
    },
    {
     "name": "stdout",
     "output_type": "stream",
     "text": [
      "\n",
      "rm -rf /media/yuncong/BstemAtlasData/CSHL_data_processed/MD590/MD590_masks_alignedTo_MD590-N47-2015.09.12-05.32.06_MD590_2_0140_cropped/MD590-N49-2015.09.12-05.42.03_MD590_2_0146_mask_alignedTo_MD590-N47-2015.09.12-05.32.06_MD590_2_0140_cropped.png && mkdir -p /media/yuncong/BstemAtlasData/CSHL_data_processed/MD590/MD590_masks_alignedTo_MD590-N47-2015.09.12-05.32.06_MD590_2_0140_cropped"
     ]
    },
    {
     "name": "stderr",
     "output_type": "stream",
     "text": [
      " 0\n",
      "1.23 seconds.\n",
      "save: 6.35 seconds\n",
      "\n",
      "Section 234.\n",
      "Child returned"
     ]
    },
    {
     "name": "stdout",
     "output_type": "stream",
     "text": [
      "\n",
      "aws s3 cp s3://mousebrainatlas-data/CSHL_data_processed/MD590/MD590_masks_alignedTo_MD590-N47-2015.09.12-05.32.06_MD590_2_0140_cropped/MD590-N49-2015.09.12-05.42.03_MD590_2_0146_mask_alignedTo_MD590-N47-2015.09.12-05.32.06_MD590_2_0140_cropped.png /media/yuncong/BstemAtlasData/CSHL_data_processed/MD590/MD590_masks_alignedTo_MD590-N47-2015.09.12-05.32.06_MD590_2_0140_cropped/MD590-N49-2015.09.12-05.42.03_MD590_2_0146_mask_alignedTo_MD590-N47-2015.09.12-05.32.06_MD590_2_0140_cropped.png"
     ]
    },
    {
     "name": "stderr",
     "output_type": "stream",
     "text": [
      " 0\n",
      "Child returned 0\n",
      "1.90 seconds.\n",
      "locate patches: 1.93 seconds\n",
      "47923 samples.\n",
      "load image: 1.53 seconds\n",
      "extract patches: 18.85 seconds\n",
      "predict: 124.11 seconds\n"
     ]
    },
    {
     "name": "stdout",
     "output_type": "stream",
     "text": [
      "\n",
      "aws s3 cp /media/yuncong/BstemAtlasData/CSHL_patch_features/inception-bn-blue/MD590/MD590-N49-2015.09.12-05.42.03_MD590_2_0146_lossless_alignedTo_MD590-N47-2015.09.12-05.32.06_MD590_2_0140_cropped/MD590-N49-2015.09.12-05.42.03_MD590_2_0146_lossless_alignedTo_MD590-N47-2015.09.12-05.32.06_MD590_2_0140_cropped_features.hdf s3://mousebrainatlas-data/CSHL_patch_features/inception-bn-blue/MD590/MD590-N49-2015.09.12-05.42.03_MD590_2_0146_lossless_alignedTo_MD590-N47-2015.09.12-05.32.06_MD590_2_0140_cropped/MD590-N49-2015.09.12-05.42.03_MD590_2_0146_lossless_alignedTo_MD590-N47-2015.09.12-05.32.06_MD590_2_0140_cropped_features.hdf\n",
      "aws s3 cp /media/yuncong/BstemAtlasData/CSHL_patch_features/inception-bn-blue/MD590/MD590-N49-2015.09.12-05.42.03_MD590_2_0146_lossless_alignedTo_MD590-N47-2015.09.12-05.32.06_MD590_2_0140_cropped/MD590-N49-2015.09.12-05.42.03_MD590_2_0146_lossless_alignedTo_MD590-N47-2015.09.12-05.32.06_MD590_2_0140_cropped_patch_locations.txt s3://mousebrainatlas-data/CSHL_patch_features/inception-bn-blue/MD590/MD590-N49-2015.09.12-05.42.03_MD590_2_0146_lossless_alignedTo_MD590-N47-2015.09.12-05.32.06_MD590_2_0140_cropped/MD590-N49-2015.09.12-05.42.03_MD590_2_0146_lossless_alignedTo_MD590-N47-2015.09.12-05.32.06_MD590_2_0140_cropped_patch_locations.txt"
     ]
    },
    {
     "name": "stderr",
     "output_type": "stream",
     "text": [
      "Child returned 0\n",
      "2.60 seconds.\n",
      "Child returned"
     ]
    },
    {
     "name": "stdout",
     "output_type": "stream",
     "text": [
      "\n",
      "rm -rf /media/yuncong/BstemAtlasData/CSHL_data_processed/MD590/MD590_masks_alignedTo_MD590-N47-2015.09.12-05.32.06_MD590_2_0140_cropped/MD590-IHC49-2015.08.10-21.23.29_MD590_2_0146_mask_alignedTo_MD590-N47-2015.09.12-05.32.06_MD590_2_0140_cropped.png && mkdir -p /media/yuncong/BstemAtlasData/CSHL_data_processed/MD590/MD590_masks_alignedTo_MD590-N47-2015.09.12-05.32.06_MD590_2_0140_cropped"
     ]
    },
    {
     "name": "stderr",
     "output_type": "stream",
     "text": [
      " 0\n",
      "1.30 seconds.\n",
      "save: 6.28 seconds\n",
      "\n",
      "Section 235.\n",
      "Child returned"
     ]
    },
    {
     "name": "stdout",
     "output_type": "stream",
     "text": [
      "\n",
      "aws s3 cp s3://mousebrainatlas-data/CSHL_data_processed/MD590/MD590_masks_alignedTo_MD590-N47-2015.09.12-05.32.06_MD590_2_0140_cropped/MD590-IHC49-2015.08.10-21.23.29_MD590_2_0146_mask_alignedTo_MD590-N47-2015.09.12-05.32.06_MD590_2_0140_cropped.png /media/yuncong/BstemAtlasData/CSHL_data_processed/MD590/MD590_masks_alignedTo_MD590-N47-2015.09.12-05.32.06_MD590_2_0140_cropped/MD590-IHC49-2015.08.10-21.23.29_MD590_2_0146_mask_alignedTo_MD590-N47-2015.09.12-05.32.06_MD590_2_0140_cropped.png"
     ]
    },
    {
     "name": "stderr",
     "output_type": "stream",
     "text": [
      " 0\n",
      "Child returned 0\n",
      "1.88 seconds.\n",
      "locate patches: 1.90 seconds\n",
      "48077 samples.\n",
      "load image: 1.57 seconds\n",
      "extract patches: 18.61 seconds\n",
      "predict: 124.24 seconds\n"
     ]
    },
    {
     "name": "stdout",
     "output_type": "stream",
     "text": [
      "\n",
      "aws s3 cp /media/yuncong/BstemAtlasData/CSHL_patch_features/inception-bn-blue/MD590/MD590-IHC49-2015.08.10-21.23.29_MD590_2_0146_lossless_alignedTo_MD590-N47-2015.09.12-05.32.06_MD590_2_0140_cropped/MD590-IHC49-2015.08.10-21.23.29_MD590_2_0146_lossless_alignedTo_MD590-N47-2015.09.12-05.32.06_MD590_2_0140_cropped_features.hdf s3://mousebrainatlas-data/CSHL_patch_features/inception-bn-blue/MD590/MD590-IHC49-2015.08.10-21.23.29_MD590_2_0146_lossless_alignedTo_MD590-N47-2015.09.12-05.32.06_MD590_2_0140_cropped/MD590-IHC49-2015.08.10-21.23.29_MD590_2_0146_lossless_alignedTo_MD590-N47-2015.09.12-05.32.06_MD590_2_0140_cropped_features.hdf\n",
      "aws s3 cp /media/yuncong/BstemAtlasData/CSHL_patch_features/inception-bn-blue/MD590/MD590-IHC49-2015.08.10-21.23.29_MD590_2_0146_lossless_alignedTo_MD590-N47-2015.09.12-05.32.06_MD590_2_0140_cropped/MD590-IHC49-2015.08.10-21.23.29_MD590_2_0146_lossless_alignedTo_MD590-N47-2015.09.12-05.32.06_MD590_2_0140_cropped_patch_locations.txt s3://mousebrainatlas-data/CSHL_patch_features/inception-bn-blue/MD590/MD590-IHC49-2015.08.10-21.23.29_MD590_2_0146_lossless_alignedTo_MD590-N47-2015.09.12-05.32.06_MD590_2_0140_cropped/MD590-IHC49-2015.08.10-21.23.29_MD590_2_0146_lossless_alignedTo_MD590-N47-2015.09.12-05.32.06_MD590_2_0140_cropped_patch_locations.txt"
     ]
    },
    {
     "name": "stderr",
     "output_type": "stream",
     "text": [
      "Child returned 0\n",
      "2.68 seconds.\n",
      "Child returned"
     ]
    },
    {
     "name": "stdout",
     "output_type": "stream",
     "text": [
      "\n",
      "rm -rf /media/yuncong/BstemAtlasData/CSHL_data_processed/MD590/MD590_masks_alignedTo_MD590-N47-2015.09.12-05.32.06_MD590_2_0140_cropped/MD590-N50-2015.09.12-05.46.59_MD590_1_0148_mask_alignedTo_MD590-N47-2015.09.12-05.32.06_MD590_2_0140_cropped.png && mkdir -p /media/yuncong/BstemAtlasData/CSHL_data_processed/MD590/MD590_masks_alignedTo_MD590-N47-2015.09.12-05.32.06_MD590_2_0140_cropped"
     ]
    },
    {
     "name": "stderr",
     "output_type": "stream",
     "text": [
      " 0\n",
      "1.35 seconds.\n",
      "save: 6.35 seconds\n",
      "\n",
      "Section 236.\n",
      "Child returned"
     ]
    },
    {
     "name": "stdout",
     "output_type": "stream",
     "text": [
      "\n",
      "aws s3 cp s3://mousebrainatlas-data/CSHL_data_processed/MD590/MD590_masks_alignedTo_MD590-N47-2015.09.12-05.32.06_MD590_2_0140_cropped/MD590-N50-2015.09.12-05.46.59_MD590_1_0148_mask_alignedTo_MD590-N47-2015.09.12-05.32.06_MD590_2_0140_cropped.png /media/yuncong/BstemAtlasData/CSHL_data_processed/MD590/MD590_masks_alignedTo_MD590-N47-2015.09.12-05.32.06_MD590_2_0140_cropped/MD590-N50-2015.09.12-05.46.59_MD590_1_0148_mask_alignedTo_MD590-N47-2015.09.12-05.32.06_MD590_2_0140_cropped.png"
     ]
    },
    {
     "name": "stderr",
     "output_type": "stream",
     "text": [
      " 0\n",
      "Child returned 0\n",
      "1.98 seconds.\n",
      "locate patches: 2.01 seconds\n",
      "47973 samples.\n",
      "load image: 1.48 seconds\n",
      "extract patches: 18.55 seconds\n",
      "predict: 124.27 seconds\n"
     ]
    },
    {
     "name": "stdout",
     "output_type": "stream",
     "text": [
      "\n",
      "aws s3 cp /media/yuncong/BstemAtlasData/CSHL_patch_features/inception-bn-blue/MD590/MD590-N50-2015.09.12-05.46.59_MD590_1_0148_lossless_alignedTo_MD590-N47-2015.09.12-05.32.06_MD590_2_0140_cropped/MD590-N50-2015.09.12-05.46.59_MD590_1_0148_lossless_alignedTo_MD590-N47-2015.09.12-05.32.06_MD590_2_0140_cropped_features.hdf s3://mousebrainatlas-data/CSHL_patch_features/inception-bn-blue/MD590/MD590-N50-2015.09.12-05.46.59_MD590_1_0148_lossless_alignedTo_MD590-N47-2015.09.12-05.32.06_MD590_2_0140_cropped/MD590-N50-2015.09.12-05.46.59_MD590_1_0148_lossless_alignedTo_MD590-N47-2015.09.12-05.32.06_MD590_2_0140_cropped_features.hdf\n",
      "aws s3 cp /media/yuncong/BstemAtlasData/CSHL_patch_features/inception-bn-blue/MD590/MD590-N50-2015.09.12-05.46.59_MD590_1_0148_lossless_alignedTo_MD590-N47-2015.09.12-05.32.06_MD590_2_0140_cropped/MD590-N50-2015.09.12-05.46.59_MD590_1_0148_lossless_alignedTo_MD590-N47-2015.09.12-05.32.06_MD590_2_0140_cropped_patch_locations.txt s3://mousebrainatlas-data/CSHL_patch_features/inception-bn-blue/MD590/MD590-N50-2015.09.12-05.46.59_MD590_1_0148_lossless_alignedTo_MD590-N47-2015.09.12-05.32.06_MD590_2_0140_cropped/MD590-N50-2015.09.12-05.46.59_MD590_1_0148_lossless_alignedTo_MD590-N47-2015.09.12-05.32.06_MD590_2_0140_cropped_patch_locations.txt"
     ]
    },
    {
     "name": "stderr",
     "output_type": "stream",
     "text": [
      "Child returned 0\n",
      "3.72 seconds.\n",
      "Child returned"
     ]
    },
    {
     "name": "stdout",
     "output_type": "stream",
     "text": [
      "\n",
      "rm -rf /media/yuncong/BstemAtlasData/CSHL_data_processed/MD590/MD590_masks_alignedTo_MD590-N47-2015.09.12-05.32.06_MD590_2_0140_cropped/MD590-N50-2015.09.12-05.46.59_MD590_2_0149_mask_alignedTo_MD590-N47-2015.09.12-05.32.06_MD590_2_0140_cropped.png && mkdir -p /media/yuncong/BstemAtlasData/CSHL_data_processed/MD590/MD590_masks_alignedTo_MD590-N47-2015.09.12-05.32.06_MD590_2_0140_cropped"
     ]
    },
    {
     "name": "stderr",
     "output_type": "stream",
     "text": [
      " 0\n",
      "1.75 seconds.\n",
      "save: 7.82 seconds\n",
      "\n",
      "Section 238.\n",
      "Child returned"
     ]
    },
    {
     "name": "stdout",
     "output_type": "stream",
     "text": [
      "\n",
      "aws s3 cp s3://mousebrainatlas-data/CSHL_data_processed/MD590/MD590_masks_alignedTo_MD590-N47-2015.09.12-05.32.06_MD590_2_0140_cropped/MD590-N50-2015.09.12-05.46.59_MD590_2_0149_mask_alignedTo_MD590-N47-2015.09.12-05.32.06_MD590_2_0140_cropped.png /media/yuncong/BstemAtlasData/CSHL_data_processed/MD590/MD590_masks_alignedTo_MD590-N47-2015.09.12-05.32.06_MD590_2_0140_cropped/MD590-N50-2015.09.12-05.46.59_MD590_2_0149_mask_alignedTo_MD590-N47-2015.09.12-05.32.06_MD590_2_0140_cropped.png"
     ]
    },
    {
     "name": "stderr",
     "output_type": "stream",
     "text": [
      " 0\n",
      "Child returned 0\n",
      "2.06 seconds.\n",
      "locate patches: 2.10 seconds\n",
      "47797 samples.\n",
      "load image: 1.49 seconds\n",
      "extract patches: 18.76 seconds\n",
      "predict: 123.76 seconds\n"
     ]
    },
    {
     "name": "stdout",
     "output_type": "stream",
     "text": [
      "\n",
      "aws s3 cp /media/yuncong/BstemAtlasData/CSHL_patch_features/inception-bn-blue/MD590/MD590-N50-2015.09.12-05.46.59_MD590_2_0149_lossless_alignedTo_MD590-N47-2015.09.12-05.32.06_MD590_2_0140_cropped/MD590-N50-2015.09.12-05.46.59_MD590_2_0149_lossless_alignedTo_MD590-N47-2015.09.12-05.32.06_MD590_2_0140_cropped_features.hdf s3://mousebrainatlas-data/CSHL_patch_features/inception-bn-blue/MD590/MD590-N50-2015.09.12-05.46.59_MD590_2_0149_lossless_alignedTo_MD590-N47-2015.09.12-05.32.06_MD590_2_0140_cropped/MD590-N50-2015.09.12-05.46.59_MD590_2_0149_lossless_alignedTo_MD590-N47-2015.09.12-05.32.06_MD590_2_0140_cropped_features.hdf\n",
      "aws s3 cp /media/yuncong/BstemAtlasData/CSHL_patch_features/inception-bn-blue/MD590/MD590-N50-2015.09.12-05.46.59_MD590_2_0149_lossless_alignedTo_MD590-N47-2015.09.12-05.32.06_MD590_2_0140_cropped/MD590-N50-2015.09.12-05.46.59_MD590_2_0149_lossless_alignedTo_MD590-N47-2015.09.12-05.32.06_MD590_2_0140_cropped_patch_locations.txt s3://mousebrainatlas-data/CSHL_patch_features/inception-bn-blue/MD590/MD590-N50-2015.09.12-05.46.59_MD590_2_0149_lossless_alignedTo_MD590-N47-2015.09.12-05.32.06_MD590_2_0140_cropped/MD590-N50-2015.09.12-05.46.59_MD590_2_0149_lossless_alignedTo_MD590-N47-2015.09.12-05.32.06_MD590_2_0140_cropped_patch_locations.txt"
     ]
    },
    {
     "name": "stderr",
     "output_type": "stream",
     "text": [
      "Child returned 0\n",
      "2.69 seconds.\n",
      "Child returned"
     ]
    },
    {
     "name": "stdout",
     "output_type": "stream",
     "text": [
      "\n",
      "rm -rf /media/yuncong/BstemAtlasData/CSHL_data_processed/MD590/MD590_masks_alignedTo_MD590-N47-2015.09.12-05.32.06_MD590_2_0140_cropped/MD590-IHC50-2015.08.10-21.27.35_MD590_1_0150_mask_alignedTo_MD590-N47-2015.09.12-05.32.06_MD590_2_0140_cropped.png && mkdir -p /media/yuncong/BstemAtlasData/CSHL_data_processed/MD590/MD590_masks_alignedTo_MD590-N47-2015.09.12-05.32.06_MD590_2_0140_cropped"
     ]
    },
    {
     "name": "stderr",
     "output_type": "stream",
     "text": [
      " 0\n",
      "1.37 seconds.\n",
      "save: 6.42 seconds\n",
      "\n",
      "Section 239.\n",
      "Child returned"
     ]
    },
    {
     "name": "stdout",
     "output_type": "stream",
     "text": [
      "\n",
      "aws s3 cp s3://mousebrainatlas-data/CSHL_data_processed/MD590/MD590_masks_alignedTo_MD590-N47-2015.09.12-05.32.06_MD590_2_0140_cropped/MD590-IHC50-2015.08.10-21.27.35_MD590_1_0150_mask_alignedTo_MD590-N47-2015.09.12-05.32.06_MD590_2_0140_cropped.png /media/yuncong/BstemAtlasData/CSHL_data_processed/MD590/MD590_masks_alignedTo_MD590-N47-2015.09.12-05.32.06_MD590_2_0140_cropped/MD590-IHC50-2015.08.10-21.27.35_MD590_1_0150_mask_alignedTo_MD590-N47-2015.09.12-05.32.06_MD590_2_0140_cropped.png"
     ]
    },
    {
     "name": "stderr",
     "output_type": "stream",
     "text": [
      " 0\n",
      "Child returned 0\n",
      "1.81 seconds.\n",
      "locate patches: 1.84 seconds\n",
      "48343 samples.\n",
      "load image: 1.54 seconds\n",
      "extract patches: 18.78 seconds\n",
      "predict: 125.22 seconds\n"
     ]
    },
    {
     "name": "stdout",
     "output_type": "stream",
     "text": [
      "\n",
      "aws s3 cp /media/yuncong/BstemAtlasData/CSHL_patch_features/inception-bn-blue/MD590/MD590-IHC50-2015.08.10-21.27.35_MD590_1_0150_lossless_alignedTo_MD590-N47-2015.09.12-05.32.06_MD590_2_0140_cropped/MD590-IHC50-2015.08.10-21.27.35_MD590_1_0150_lossless_alignedTo_MD590-N47-2015.09.12-05.32.06_MD590_2_0140_cropped_features.hdf s3://mousebrainatlas-data/CSHL_patch_features/inception-bn-blue/MD590/MD590-IHC50-2015.08.10-21.27.35_MD590_1_0150_lossless_alignedTo_MD590-N47-2015.09.12-05.32.06_MD590_2_0140_cropped/MD590-IHC50-2015.08.10-21.27.35_MD590_1_0150_lossless_alignedTo_MD590-N47-2015.09.12-05.32.06_MD590_2_0140_cropped_features.hdf\n",
      "aws s3 cp /media/yuncong/BstemAtlasData/CSHL_patch_features/inception-bn-blue/MD590/MD590-IHC50-2015.08.10-21.27.35_MD590_1_0150_lossless_alignedTo_MD590-N47-2015.09.12-05.32.06_MD590_2_0140_cropped/MD590-IHC50-2015.08.10-21.27.35_MD590_1_0150_lossless_alignedTo_MD590-N47-2015.09.12-05.32.06_MD590_2_0140_cropped_patch_locations.txt s3://mousebrainatlas-data/CSHL_patch_features/inception-bn-blue/MD590/MD590-IHC50-2015.08.10-21.27.35_MD590_1_0150_lossless_alignedTo_MD590-N47-2015.09.12-05.32.06_MD590_2_0140_cropped/MD590-IHC50-2015.08.10-21.27.35_MD590_1_0150_lossless_alignedTo_MD590-N47-2015.09.12-05.32.06_MD590_2_0140_cropped_patch_locations.txt"
     ]
    },
    {
     "name": "stderr",
     "output_type": "stream",
     "text": [
      "Child returned 0\n",
      "2.65 seconds.\n",
      "Child returned"
     ]
    },
    {
     "name": "stdout",
     "output_type": "stream",
     "text": [
      "\n",
      "rm -rf /media/yuncong/BstemAtlasData/CSHL_data_processed/MD590/MD590_masks_alignedTo_MD590-N47-2015.09.12-05.32.06_MD590_2_0140_cropped/MD590-N51-2015.08.03-20.24.52_MD590_3_0151_mask_alignedTo_MD590-N47-2015.09.12-05.32.06_MD590_2_0140_cropped.png && mkdir -p /media/yuncong/BstemAtlasData/CSHL_data_processed/MD590/MD590_masks_alignedTo_MD590-N47-2015.09.12-05.32.06_MD590_2_0140_cropped"
     ]
    },
    {
     "name": "stderr",
     "output_type": "stream",
     "text": [
      " 0\n",
      "1.39 seconds.\n",
      "save: 6.43 seconds\n",
      "\n",
      "Section 240.\n",
      "Child returned"
     ]
    },
    {
     "name": "stdout",
     "output_type": "stream",
     "text": [
      "\n",
      "aws s3 cp s3://mousebrainatlas-data/CSHL_data_processed/MD590/MD590_masks_alignedTo_MD590-N47-2015.09.12-05.32.06_MD590_2_0140_cropped/MD590-N51-2015.08.03-20.24.52_MD590_3_0151_mask_alignedTo_MD590-N47-2015.09.12-05.32.06_MD590_2_0140_cropped.png /media/yuncong/BstemAtlasData/CSHL_data_processed/MD590/MD590_masks_alignedTo_MD590-N47-2015.09.12-05.32.06_MD590_2_0140_cropped/MD590-N51-2015.08.03-20.24.52_MD590_3_0151_mask_alignedTo_MD590-N47-2015.09.12-05.32.06_MD590_2_0140_cropped.png"
     ]
    },
    {
     "name": "stderr",
     "output_type": "stream",
     "text": [
      " 0\n",
      "Child returned 0\n",
      "1.84 seconds.\n",
      "locate patches: 1.87 seconds\n",
      "47878 samples.\n",
      "load image: 1.46 seconds\n",
      "extract patches: 18.51 seconds\n",
      "predict: 124.26 seconds\n"
     ]
    },
    {
     "name": "stdout",
     "output_type": "stream",
     "text": [
      "\n",
      "aws s3 cp /media/yuncong/BstemAtlasData/CSHL_patch_features/inception-bn-blue/MD590/MD590-N51-2015.08.03-20.24.52_MD590_3_0151_lossless_alignedTo_MD590-N47-2015.09.12-05.32.06_MD590_2_0140_cropped/MD590-N51-2015.08.03-20.24.52_MD590_3_0151_lossless_alignedTo_MD590-N47-2015.09.12-05.32.06_MD590_2_0140_cropped_features.hdf s3://mousebrainatlas-data/CSHL_patch_features/inception-bn-blue/MD590/MD590-N51-2015.08.03-20.24.52_MD590_3_0151_lossless_alignedTo_MD590-N47-2015.09.12-05.32.06_MD590_2_0140_cropped/MD590-N51-2015.08.03-20.24.52_MD590_3_0151_lossless_alignedTo_MD590-N47-2015.09.12-05.32.06_MD590_2_0140_cropped_features.hdf\n",
      "aws s3 cp /media/yuncong/BstemAtlasData/CSHL_patch_features/inception-bn-blue/MD590/MD590-N51-2015.08.03-20.24.52_MD590_3_0151_lossless_alignedTo_MD590-N47-2015.09.12-05.32.06_MD590_2_0140_cropped/MD590-N51-2015.08.03-20.24.52_MD590_3_0151_lossless_alignedTo_MD590-N47-2015.09.12-05.32.06_MD590_2_0140_cropped_patch_locations.txt s3://mousebrainatlas-data/CSHL_patch_features/inception-bn-blue/MD590/MD590-N51-2015.08.03-20.24.52_MD590_3_0151_lossless_alignedTo_MD590-N47-2015.09.12-05.32.06_MD590_2_0140_cropped/MD590-N51-2015.08.03-20.24.52_MD590_3_0151_lossless_alignedTo_MD590-N47-2015.09.12-05.32.06_MD590_2_0140_cropped_patch_locations.txt"
     ]
    },
    {
     "name": "stderr",
     "output_type": "stream",
     "text": [
      "Child returned 0\n",
      "2.55 seconds.\n",
      "Child returned"
     ]
    },
    {
     "name": "stdout",
     "output_type": "stream",
     "text": [
      "\n",
      "rm -rf /media/yuncong/BstemAtlasData/CSHL_data_processed/MD590/MD590_masks_alignedTo_MD590-N47-2015.09.12-05.32.06_MD590_2_0140_cropped/MD590-IHC51-2015.08.10-21.31.46_MD590_3_0151_mask_alignedTo_MD590-N47-2015.09.12-05.32.06_MD590_2_0140_cropped.png && mkdir -p /media/yuncong/BstemAtlasData/CSHL_data_processed/MD590/MD590_masks_alignedTo_MD590-N47-2015.09.12-05.32.06_MD590_2_0140_cropped"
     ]
    },
    {
     "name": "stderr",
     "output_type": "stream",
     "text": [
      " 0\n",
      "1.37 seconds.\n",
      "save: 6.31 seconds\n",
      "\n",
      "Section 241.\n",
      "Child returned"
     ]
    },
    {
     "name": "stdout",
     "output_type": "stream",
     "text": [
      "\n",
      "aws s3 cp s3://mousebrainatlas-data/CSHL_data_processed/MD590/MD590_masks_alignedTo_MD590-N47-2015.09.12-05.32.06_MD590_2_0140_cropped/MD590-IHC51-2015.08.10-21.31.46_MD590_3_0151_mask_alignedTo_MD590-N47-2015.09.12-05.32.06_MD590_2_0140_cropped.png /media/yuncong/BstemAtlasData/CSHL_data_processed/MD590/MD590_masks_alignedTo_MD590-N47-2015.09.12-05.32.06_MD590_2_0140_cropped/MD590-IHC51-2015.08.10-21.31.46_MD590_3_0151_mask_alignedTo_MD590-N47-2015.09.12-05.32.06_MD590_2_0140_cropped.png"
     ]
    },
    {
     "name": "stderr",
     "output_type": "stream",
     "text": [
      " 0\n",
      "Child returned 0\n",
      "2.01 seconds.\n",
      "locate patches: 2.04 seconds\n",
      "47838 samples.\n",
      "load image: 1.56 seconds\n",
      "extract patches: 18.40 seconds\n",
      "predict: 123.73 seconds\n"
     ]
    },
    {
     "name": "stdout",
     "output_type": "stream",
     "text": [
      "\n",
      "aws s3 cp /media/yuncong/BstemAtlasData/CSHL_patch_features/inception-bn-blue/MD590/MD590-IHC51-2015.08.10-21.31.46_MD590_3_0151_lossless_alignedTo_MD590-N47-2015.09.12-05.32.06_MD590_2_0140_cropped/MD590-IHC51-2015.08.10-21.31.46_MD590_3_0151_lossless_alignedTo_MD590-N47-2015.09.12-05.32.06_MD590_2_0140_cropped_features.hdf s3://mousebrainatlas-data/CSHL_patch_features/inception-bn-blue/MD590/MD590-IHC51-2015.08.10-21.31.46_MD590_3_0151_lossless_alignedTo_MD590-N47-2015.09.12-05.32.06_MD590_2_0140_cropped/MD590-IHC51-2015.08.10-21.31.46_MD590_3_0151_lossless_alignedTo_MD590-N47-2015.09.12-05.32.06_MD590_2_0140_cropped_features.hdf\n",
      "aws s3 cp /media/yuncong/BstemAtlasData/CSHL_patch_features/inception-bn-blue/MD590/MD590-IHC51-2015.08.10-21.31.46_MD590_3_0151_lossless_alignedTo_MD590-N47-2015.09.12-05.32.06_MD590_2_0140_cropped/MD590-IHC51-2015.08.10-21.31.46_MD590_3_0151_lossless_alignedTo_MD590-N47-2015.09.12-05.32.06_MD590_2_0140_cropped_patch_locations.txt s3://mousebrainatlas-data/CSHL_patch_features/inception-bn-blue/MD590/MD590-IHC51-2015.08.10-21.31.46_MD590_3_0151_lossless_alignedTo_MD590-N47-2015.09.12-05.32.06_MD590_2_0140_cropped/MD590-IHC51-2015.08.10-21.31.46_MD590_3_0151_lossless_alignedTo_MD590-N47-2015.09.12-05.32.06_MD590_2_0140_cropped_patch_locations.txt"
     ]
    },
    {
     "name": "stderr",
     "output_type": "stream",
     "text": [
      "Child returned 0\n",
      "2.64 seconds.\n",
      "Child returned"
     ]
    },
    {
     "name": "stdout",
     "output_type": "stream",
     "text": [
      "\n",
      "rm -rf /media/yuncong/BstemAtlasData/CSHL_data_processed/MD590/MD590_masks_alignedTo_MD590-N47-2015.09.12-05.32.06_MD590_2_0140_cropped/MD590-N51-2015.08.03-20.24.52_MD590_1_0153_mask_alignedTo_MD590-N47-2015.09.12-05.32.06_MD590_2_0140_cropped.png && mkdir -p /media/yuncong/BstemAtlasData/CSHL_data_processed/MD590/MD590_masks_alignedTo_MD590-N47-2015.09.12-05.32.06_MD590_2_0140_cropped"
     ]
    },
    {
     "name": "stderr",
     "output_type": "stream",
     "text": [
      " 0\n",
      "1.32 seconds.\n",
      "save: 6.40 seconds\n",
      "\n",
      "Section 242.\n",
      "Child returned"
     ]
    },
    {
     "name": "stdout",
     "output_type": "stream",
     "text": [
      "\n",
      "aws s3 cp s3://mousebrainatlas-data/CSHL_data_processed/MD590/MD590_masks_alignedTo_MD590-N47-2015.09.12-05.32.06_MD590_2_0140_cropped/MD590-N51-2015.08.03-20.24.52_MD590_1_0153_mask_alignedTo_MD590-N47-2015.09.12-05.32.06_MD590_2_0140_cropped.png /media/yuncong/BstemAtlasData/CSHL_data_processed/MD590/MD590_masks_alignedTo_MD590-N47-2015.09.12-05.32.06_MD590_2_0140_cropped/MD590-N51-2015.08.03-20.24.52_MD590_1_0153_mask_alignedTo_MD590-N47-2015.09.12-05.32.06_MD590_2_0140_cropped.png"
     ]
    },
    {
     "name": "stderr",
     "output_type": "stream",
     "text": [
      " 0\n",
      "Child returned 0\n",
      "1.87 seconds.\n",
      "locate patches: 1.90 seconds\n",
      "48223 samples.\n",
      "load image: 1.51 seconds\n",
      "extract patches: 18.70 seconds\n",
      "predict: 124.71 seconds\n"
     ]
    },
    {
     "name": "stdout",
     "output_type": "stream",
     "text": [
      "\n",
      "aws s3 cp /media/yuncong/BstemAtlasData/CSHL_patch_features/inception-bn-blue/MD590/MD590-N51-2015.08.03-20.24.52_MD590_1_0153_lossless_alignedTo_MD590-N47-2015.09.12-05.32.06_MD590_2_0140_cropped/MD590-N51-2015.08.03-20.24.52_MD590_1_0153_lossless_alignedTo_MD590-N47-2015.09.12-05.32.06_MD590_2_0140_cropped_features.hdf s3://mousebrainatlas-data/CSHL_patch_features/inception-bn-blue/MD590/MD590-N51-2015.08.03-20.24.52_MD590_1_0153_lossless_alignedTo_MD590-N47-2015.09.12-05.32.06_MD590_2_0140_cropped/MD590-N51-2015.08.03-20.24.52_MD590_1_0153_lossless_alignedTo_MD590-N47-2015.09.12-05.32.06_MD590_2_0140_cropped_features.hdf\n",
      "aws s3 cp /media/yuncong/BstemAtlasData/CSHL_patch_features/inception-bn-blue/MD590/MD590-N51-2015.08.03-20.24.52_MD590_1_0153_lossless_alignedTo_MD590-N47-2015.09.12-05.32.06_MD590_2_0140_cropped/MD590-N51-2015.08.03-20.24.52_MD590_1_0153_lossless_alignedTo_MD590-N47-2015.09.12-05.32.06_MD590_2_0140_cropped_patch_locations.txt s3://mousebrainatlas-data/CSHL_patch_features/inception-bn-blue/MD590/MD590-N51-2015.08.03-20.24.52_MD590_1_0153_lossless_alignedTo_MD590-N47-2015.09.12-05.32.06_MD590_2_0140_cropped/MD590-N51-2015.08.03-20.24.52_MD590_1_0153_lossless_alignedTo_MD590-N47-2015.09.12-05.32.06_MD590_2_0140_cropped_patch_locations.txt"
     ]
    },
    {
     "name": "stderr",
     "output_type": "stream",
     "text": [
      "Child returned 0\n",
      "2.82 seconds.\n",
      "Child returned"
     ]
    },
    {
     "name": "stdout",
     "output_type": "stream",
     "text": [
      "\n",
      "rm -rf /media/yuncong/BstemAtlasData/CSHL_data_processed/MD590/MD590_masks_alignedTo_MD590-N47-2015.09.12-05.32.06_MD590_2_0140_cropped/MD590-IHC51-2015.08.10-21.31.46_MD590_1_0153_mask_alignedTo_MD590-N47-2015.09.12-05.32.06_MD590_2_0140_cropped.png && mkdir -p /media/yuncong/BstemAtlasData/CSHL_data_processed/MD590/MD590_masks_alignedTo_MD590-N47-2015.09.12-05.32.06_MD590_2_0140_cropped"
     ]
    },
    {
     "name": "stderr",
     "output_type": "stream",
     "text": [
      " 0\n",
      "1.31 seconds.\n",
      "save: 6.51 seconds\n",
      "\n",
      "Section 243.\n",
      "Child returned"
     ]
    },
    {
     "name": "stdout",
     "output_type": "stream",
     "text": [
      "\n",
      "aws s3 cp s3://mousebrainatlas-data/CSHL_data_processed/MD590/MD590_masks_alignedTo_MD590-N47-2015.09.12-05.32.06_MD590_2_0140_cropped/MD590-IHC51-2015.08.10-21.31.46_MD590_1_0153_mask_alignedTo_MD590-N47-2015.09.12-05.32.06_MD590_2_0140_cropped.png /media/yuncong/BstemAtlasData/CSHL_data_processed/MD590/MD590_masks_alignedTo_MD590-N47-2015.09.12-05.32.06_MD590_2_0140_cropped/MD590-IHC51-2015.08.10-21.31.46_MD590_1_0153_mask_alignedTo_MD590-N47-2015.09.12-05.32.06_MD590_2_0140_cropped.png"
     ]
    },
    {
     "name": "stderr",
     "output_type": "stream",
     "text": [
      " 0\n",
      "Child returned 0\n",
      "1.84 seconds.\n",
      "locate patches: 1.87 seconds\n",
      "48519 samples.\n",
      "load image: 1.50 seconds\n",
      "extract patches: 18.96 seconds\n",
      "predict: 125.47 seconds\n"
     ]
    },
    {
     "name": "stdout",
     "output_type": "stream",
     "text": [
      "\n",
      "aws s3 cp /media/yuncong/BstemAtlasData/CSHL_patch_features/inception-bn-blue/MD590/MD590-IHC51-2015.08.10-21.31.46_MD590_1_0153_lossless_alignedTo_MD590-N47-2015.09.12-05.32.06_MD590_2_0140_cropped/MD590-IHC51-2015.08.10-21.31.46_MD590_1_0153_lossless_alignedTo_MD590-N47-2015.09.12-05.32.06_MD590_2_0140_cropped_features.hdf s3://mousebrainatlas-data/CSHL_patch_features/inception-bn-blue/MD590/MD590-IHC51-2015.08.10-21.31.46_MD590_1_0153_lossless_alignedTo_MD590-N47-2015.09.12-05.32.06_MD590_2_0140_cropped/MD590-IHC51-2015.08.10-21.31.46_MD590_1_0153_lossless_alignedTo_MD590-N47-2015.09.12-05.32.06_MD590_2_0140_cropped_features.hdf\n",
      "aws s3 cp /media/yuncong/BstemAtlasData/CSHL_patch_features/inception-bn-blue/MD590/MD590-IHC51-2015.08.10-21.31.46_MD590_1_0153_lossless_alignedTo_MD590-N47-2015.09.12-05.32.06_MD590_2_0140_cropped/MD590-IHC51-2015.08.10-21.31.46_MD590_1_0153_lossless_alignedTo_MD590-N47-2015.09.12-05.32.06_MD590_2_0140_cropped_patch_locations.txt s3://mousebrainatlas-data/CSHL_patch_features/inception-bn-blue/MD590/MD590-IHC51-2015.08.10-21.31.46_MD590_1_0153_lossless_alignedTo_MD590-N47-2015.09.12-05.32.06_MD590_2_0140_cropped/MD590-IHC51-2015.08.10-21.31.46_MD590_1_0153_lossless_alignedTo_MD590-N47-2015.09.12-05.32.06_MD590_2_0140_cropped_patch_locations.txt"
     ]
    },
    {
     "name": "stderr",
     "output_type": "stream",
     "text": [
      "Child returned 0\n",
      "2.71 seconds.\n",
      "Child returned"
     ]
    },
    {
     "name": "stdout",
     "output_type": "stream",
     "text": [
      "\n",
      "rm -rf /media/yuncong/BstemAtlasData/CSHL_data_processed/MD590/MD590_masks_alignedTo_MD590-N47-2015.09.12-05.32.06_MD590_2_0140_cropped/MD590-N52-2015.08.03-20.28.37_MD590_3_0154_mask_alignedTo_MD590-N47-2015.09.12-05.32.06_MD590_2_0140_cropped.png && mkdir -p /media/yuncong/BstemAtlasData/CSHL_data_processed/MD590/MD590_masks_alignedTo_MD590-N47-2015.09.12-05.32.06_MD590_2_0140_cropped"
     ]
    },
    {
     "name": "stderr",
     "output_type": "stream",
     "text": [
      " 0\n",
      "1.32 seconds.\n",
      "save: 6.41 seconds\n",
      "\n",
      "Section 244.\n",
      "Child returned"
     ]
    },
    {
     "name": "stdout",
     "output_type": "stream",
     "text": [
      "\n",
      "aws s3 cp s3://mousebrainatlas-data/CSHL_data_processed/MD590/MD590_masks_alignedTo_MD590-N47-2015.09.12-05.32.06_MD590_2_0140_cropped/MD590-N52-2015.08.03-20.28.37_MD590_3_0154_mask_alignedTo_MD590-N47-2015.09.12-05.32.06_MD590_2_0140_cropped.png /media/yuncong/BstemAtlasData/CSHL_data_processed/MD590/MD590_masks_alignedTo_MD590-N47-2015.09.12-05.32.06_MD590_2_0140_cropped/MD590-N52-2015.08.03-20.28.37_MD590_3_0154_mask_alignedTo_MD590-N47-2015.09.12-05.32.06_MD590_2_0140_cropped.png"
     ]
    },
    {
     "name": "stderr",
     "output_type": "stream",
     "text": [
      " 0\n",
      "Child returned 0\n",
      "1.87 seconds.\n",
      "locate patches: 1.90 seconds\n",
      "48186 samples.\n",
      "load image: 1.52 seconds\n",
      "extract patches: 18.42 seconds\n",
      "predict: 124.99 seconds\n"
     ]
    },
    {
     "name": "stdout",
     "output_type": "stream",
     "text": [
      "\n",
      "aws s3 cp /media/yuncong/BstemAtlasData/CSHL_patch_features/inception-bn-blue/MD590/MD590-N52-2015.08.03-20.28.37_MD590_3_0154_lossless_alignedTo_MD590-N47-2015.09.12-05.32.06_MD590_2_0140_cropped/MD590-N52-2015.08.03-20.28.37_MD590_3_0154_lossless_alignedTo_MD590-N47-2015.09.12-05.32.06_MD590_2_0140_cropped_features.hdf s3://mousebrainatlas-data/CSHL_patch_features/inception-bn-blue/MD590/MD590-N52-2015.08.03-20.28.37_MD590_3_0154_lossless_alignedTo_MD590-N47-2015.09.12-05.32.06_MD590_2_0140_cropped/MD590-N52-2015.08.03-20.28.37_MD590_3_0154_lossless_alignedTo_MD590-N47-2015.09.12-05.32.06_MD590_2_0140_cropped_features.hdf\n",
      "aws s3 cp /media/yuncong/BstemAtlasData/CSHL_patch_features/inception-bn-blue/MD590/MD590-N52-2015.08.03-20.28.37_MD590_3_0154_lossless_alignedTo_MD590-N47-2015.09.12-05.32.06_MD590_2_0140_cropped/MD590-N52-2015.08.03-20.28.37_MD590_3_0154_lossless_alignedTo_MD590-N47-2015.09.12-05.32.06_MD590_2_0140_cropped_patch_locations.txt s3://mousebrainatlas-data/CSHL_patch_features/inception-bn-blue/MD590/MD590-N52-2015.08.03-20.28.37_MD590_3_0154_lossless_alignedTo_MD590-N47-2015.09.12-05.32.06_MD590_2_0140_cropped/MD590-N52-2015.08.03-20.28.37_MD590_3_0154_lossless_alignedTo_MD590-N47-2015.09.12-05.32.06_MD590_2_0140_cropped_patch_locations.txt"
     ]
    },
    {
     "name": "stderr",
     "output_type": "stream",
     "text": [
      "Child returned 0\n",
      "3.03 seconds.\n",
      "Child returned"
     ]
    },
    {
     "name": "stdout",
     "output_type": "stream",
     "text": [
      "\n",
      "rm -rf /media/yuncong/BstemAtlasData/CSHL_data_processed/MD590/MD590_masks_alignedTo_MD590-N47-2015.09.12-05.32.06_MD590_2_0140_cropped/MD590-IHC52-2015.08.10-21.35.58_MD590_3_0154_mask_alignedTo_MD590-N47-2015.09.12-05.32.06_MD590_2_0140_cropped.png && mkdir -p /media/yuncong/BstemAtlasData/CSHL_data_processed/MD590/MD590_masks_alignedTo_MD590-N47-2015.09.12-05.32.06_MD590_2_0140_cropped"
     ]
    },
    {
     "name": "stderr",
     "output_type": "stream",
     "text": [
      " 0\n",
      "1.29 seconds.\n",
      "save: 6.72 seconds\n",
      "\n",
      "Section 245.\n",
      "Child returned"
     ]
    },
    {
     "name": "stdout",
     "output_type": "stream",
     "text": [
      "\n",
      "aws s3 cp s3://mousebrainatlas-data/CSHL_data_processed/MD590/MD590_masks_alignedTo_MD590-N47-2015.09.12-05.32.06_MD590_2_0140_cropped/MD590-IHC52-2015.08.10-21.35.58_MD590_3_0154_mask_alignedTo_MD590-N47-2015.09.12-05.32.06_MD590_2_0140_cropped.png /media/yuncong/BstemAtlasData/CSHL_data_processed/MD590/MD590_masks_alignedTo_MD590-N47-2015.09.12-05.32.06_MD590_2_0140_cropped/MD590-IHC52-2015.08.10-21.35.58_MD590_3_0154_mask_alignedTo_MD590-N47-2015.09.12-05.32.06_MD590_2_0140_cropped.png"
     ]
    },
    {
     "name": "stderr",
     "output_type": "stream",
     "text": [
      " 0\n",
      "Child returned 0\n",
      "1.81 seconds.\n",
      "locate patches: 1.83 seconds\n",
      "48541 samples.\n",
      "load image: 1.55 seconds\n",
      "extract patches: 18.47 seconds\n",
      "predict: 125.70 seconds\n"
     ]
    },
    {
     "name": "stdout",
     "output_type": "stream",
     "text": [
      "\n",
      "aws s3 cp /media/yuncong/BstemAtlasData/CSHL_patch_features/inception-bn-blue/MD590/MD590-IHC52-2015.08.10-21.35.58_MD590_3_0154_lossless_alignedTo_MD590-N47-2015.09.12-05.32.06_MD590_2_0140_cropped/MD590-IHC52-2015.08.10-21.35.58_MD590_3_0154_lossless_alignedTo_MD590-N47-2015.09.12-05.32.06_MD590_2_0140_cropped_features.hdf s3://mousebrainatlas-data/CSHL_patch_features/inception-bn-blue/MD590/MD590-IHC52-2015.08.10-21.35.58_MD590_3_0154_lossless_alignedTo_MD590-N47-2015.09.12-05.32.06_MD590_2_0140_cropped/MD590-IHC52-2015.08.10-21.35.58_MD590_3_0154_lossless_alignedTo_MD590-N47-2015.09.12-05.32.06_MD590_2_0140_cropped_features.hdf\n",
      "aws s3 cp /media/yuncong/BstemAtlasData/CSHL_patch_features/inception-bn-blue/MD590/MD590-IHC52-2015.08.10-21.35.58_MD590_3_0154_lossless_alignedTo_MD590-N47-2015.09.12-05.32.06_MD590_2_0140_cropped/MD590-IHC52-2015.08.10-21.35.58_MD590_3_0154_lossless_alignedTo_MD590-N47-2015.09.12-05.32.06_MD590_2_0140_cropped_patch_locations.txt s3://mousebrainatlas-data/CSHL_patch_features/inception-bn-blue/MD590/MD590-IHC52-2015.08.10-21.35.58_MD590_3_0154_lossless_alignedTo_MD590-N47-2015.09.12-05.32.06_MD590_2_0140_cropped/MD590-IHC52-2015.08.10-21.35.58_MD590_3_0154_lossless_alignedTo_MD590-N47-2015.09.12-05.32.06_MD590_2_0140_cropped_patch_locations.txt"
     ]
    },
    {
     "name": "stderr",
     "output_type": "stream",
     "text": [
      "Child returned 0\n",
      "2.80 seconds.\n",
      "Child returned"
     ]
    },
    {
     "name": "stdout",
     "output_type": "stream",
     "text": [
      "\n",
      "rm -rf /media/yuncong/BstemAtlasData/CSHL_data_processed/MD590/MD590_masks_alignedTo_MD590-N47-2015.09.12-05.32.06_MD590_2_0140_cropped/MD590-N52-2015.08.03-20.28.37_MD590_2_0155_mask_alignedTo_MD590-N47-2015.09.12-05.32.06_MD590_2_0140_cropped.png && mkdir -p /media/yuncong/BstemAtlasData/CSHL_data_processed/MD590/MD590_masks_alignedTo_MD590-N47-2015.09.12-05.32.06_MD590_2_0140_cropped"
     ]
    },
    {
     "name": "stderr",
     "output_type": "stream",
     "text": [
      " 0\n",
      "1.37 seconds.\n",
      "save: 6.67 seconds\n",
      "\n",
      "Section 246.\n",
      "Child returned"
     ]
    },
    {
     "name": "stdout",
     "output_type": "stream",
     "text": [
      "\n",
      "aws s3 cp s3://mousebrainatlas-data/CSHL_data_processed/MD590/MD590_masks_alignedTo_MD590-N47-2015.09.12-05.32.06_MD590_2_0140_cropped/MD590-N52-2015.08.03-20.28.37_MD590_2_0155_mask_alignedTo_MD590-N47-2015.09.12-05.32.06_MD590_2_0140_cropped.png /media/yuncong/BstemAtlasData/CSHL_data_processed/MD590/MD590_masks_alignedTo_MD590-N47-2015.09.12-05.32.06_MD590_2_0140_cropped/MD590-N52-2015.08.03-20.28.37_MD590_2_0155_mask_alignedTo_MD590-N47-2015.09.12-05.32.06_MD590_2_0140_cropped.png"
     ]
    },
    {
     "name": "stderr",
     "output_type": "stream",
     "text": [
      " 0\n",
      "Child returned 0\n",
      "1.95 seconds.\n",
      "locate patches: 1.98 seconds\n",
      "48371 samples.\n",
      "load image: 1.48 seconds\n",
      "extract patches: 18.24 seconds\n",
      "predict: 125.51 seconds\n"
     ]
    },
    {
     "name": "stdout",
     "output_type": "stream",
     "text": [
      "\n",
      "aws s3 cp /media/yuncong/BstemAtlasData/CSHL_patch_features/inception-bn-blue/MD590/MD590-N52-2015.08.03-20.28.37_MD590_2_0155_lossless_alignedTo_MD590-N47-2015.09.12-05.32.06_MD590_2_0140_cropped/MD590-N52-2015.08.03-20.28.37_MD590_2_0155_lossless_alignedTo_MD590-N47-2015.09.12-05.32.06_MD590_2_0140_cropped_features.hdf s3://mousebrainatlas-data/CSHL_patch_features/inception-bn-blue/MD590/MD590-N52-2015.08.03-20.28.37_MD590_2_0155_lossless_alignedTo_MD590-N47-2015.09.12-05.32.06_MD590_2_0140_cropped/MD590-N52-2015.08.03-20.28.37_MD590_2_0155_lossless_alignedTo_MD590-N47-2015.09.12-05.32.06_MD590_2_0140_cropped_features.hdf\n",
      "aws s3 cp /media/yuncong/BstemAtlasData/CSHL_patch_features/inception-bn-blue/MD590/MD590-N52-2015.08.03-20.28.37_MD590_2_0155_lossless_alignedTo_MD590-N47-2015.09.12-05.32.06_MD590_2_0140_cropped/MD590-N52-2015.08.03-20.28.37_MD590_2_0155_lossless_alignedTo_MD590-N47-2015.09.12-05.32.06_MD590_2_0140_cropped_patch_locations.txt s3://mousebrainatlas-data/CSHL_patch_features/inception-bn-blue/MD590/MD590-N52-2015.08.03-20.28.37_MD590_2_0155_lossless_alignedTo_MD590-N47-2015.09.12-05.32.06_MD590_2_0140_cropped/MD590-N52-2015.08.03-20.28.37_MD590_2_0155_lossless_alignedTo_MD590-N47-2015.09.12-05.32.06_MD590_2_0140_cropped_patch_locations.txt"
     ]
    },
    {
     "name": "stderr",
     "output_type": "stream",
     "text": [
      "Child returned 0\n",
      "2.79 seconds.\n",
      "Child returned"
     ]
    },
    {
     "name": "stdout",
     "output_type": "stream",
     "text": [
      "\n",
      "rm -rf /media/yuncong/BstemAtlasData/CSHL_data_processed/MD590/MD590_masks_alignedTo_MD590-N47-2015.09.12-05.32.06_MD590_2_0140_cropped/MD590-IHC52-2015.08.10-21.35.58_MD590_2_0155_mask_alignedTo_MD590-N47-2015.09.12-05.32.06_MD590_2_0140_cropped.png && mkdir -p /media/yuncong/BstemAtlasData/CSHL_data_processed/MD590/MD590_masks_alignedTo_MD590-N47-2015.09.12-05.32.06_MD590_2_0140_cropped"
     ]
    },
    {
     "name": "stderr",
     "output_type": "stream",
     "text": [
      " 0\n",
      "1.50 seconds.\n",
      "save: 6.69 seconds\n",
      "\n",
      "Section 247.\n",
      "Child returned"
     ]
    },
    {
     "name": "stdout",
     "output_type": "stream",
     "text": [
      "\n",
      "aws s3 cp s3://mousebrainatlas-data/CSHL_data_processed/MD590/MD590_masks_alignedTo_MD590-N47-2015.09.12-05.32.06_MD590_2_0140_cropped/MD590-IHC52-2015.08.10-21.35.58_MD590_2_0155_mask_alignedTo_MD590-N47-2015.09.12-05.32.06_MD590_2_0140_cropped.png /media/yuncong/BstemAtlasData/CSHL_data_processed/MD590/MD590_masks_alignedTo_MD590-N47-2015.09.12-05.32.06_MD590_2_0140_cropped/MD590-IHC52-2015.08.10-21.35.58_MD590_2_0155_mask_alignedTo_MD590-N47-2015.09.12-05.32.06_MD590_2_0140_cropped.png"
     ]
    },
    {
     "name": "stderr",
     "output_type": "stream",
     "text": [
      " 0\n",
      "Child returned 0\n",
      "1.93 seconds.\n",
      "locate patches: 1.97 seconds\n",
      "48239 samples.\n",
      "load image: 1.46 seconds\n",
      "extract patches: 18.63 seconds\n",
      "predict: 124.65 seconds\n"
     ]
    },
    {
     "name": "stdout",
     "output_type": "stream",
     "text": [
      "\n",
      "aws s3 cp /media/yuncong/BstemAtlasData/CSHL_patch_features/inception-bn-blue/MD590/MD590-IHC52-2015.08.10-21.35.58_MD590_2_0155_lossless_alignedTo_MD590-N47-2015.09.12-05.32.06_MD590_2_0140_cropped/MD590-IHC52-2015.08.10-21.35.58_MD590_2_0155_lossless_alignedTo_MD590-N47-2015.09.12-05.32.06_MD590_2_0140_cropped_features.hdf s3://mousebrainatlas-data/CSHL_patch_features/inception-bn-blue/MD590/MD590-IHC52-2015.08.10-21.35.58_MD590_2_0155_lossless_alignedTo_MD590-N47-2015.09.12-05.32.06_MD590_2_0140_cropped/MD590-IHC52-2015.08.10-21.35.58_MD590_2_0155_lossless_alignedTo_MD590-N47-2015.09.12-05.32.06_MD590_2_0140_cropped_features.hdf\n",
      "aws s3 cp /media/yuncong/BstemAtlasData/CSHL_patch_features/inception-bn-blue/MD590/MD590-IHC52-2015.08.10-21.35.58_MD590_2_0155_lossless_alignedTo_MD590-N47-2015.09.12-05.32.06_MD590_2_0140_cropped/MD590-IHC52-2015.08.10-21.35.58_MD590_2_0155_lossless_alignedTo_MD590-N47-2015.09.12-05.32.06_MD590_2_0140_cropped_patch_locations.txt s3://mousebrainatlas-data/CSHL_patch_features/inception-bn-blue/MD590/MD590-IHC52-2015.08.10-21.35.58_MD590_2_0155_lossless_alignedTo_MD590-N47-2015.09.12-05.32.06_MD590_2_0140_cropped/MD590-IHC52-2015.08.10-21.35.58_MD590_2_0155_lossless_alignedTo_MD590-N47-2015.09.12-05.32.06_MD590_2_0140_cropped_patch_locations.txt"
     ]
    },
    {
     "name": "stderr",
     "output_type": "stream",
     "text": [
      "Child returned 0\n",
      "2.65 seconds.\n",
      "Child returned"
     ]
    },
    {
     "name": "stdout",
     "output_type": "stream",
     "text": [
      "\n",
      "rm -rf /media/yuncong/BstemAtlasData/CSHL_data_processed/MD590/MD590_masks_alignedTo_MD590-N47-2015.09.12-05.32.06_MD590_2_0140_cropped/MD590-N53-2015.09.12-05.51.48_MD590_1_0157_mask_alignedTo_MD590-N47-2015.09.12-05.32.06_MD590_2_0140_cropped.png && mkdir -p /media/yuncong/BstemAtlasData/CSHL_data_processed/MD590/MD590_masks_alignedTo_MD590-N47-2015.09.12-05.32.06_MD590_2_0140_cropped"
     ]
    },
    {
     "name": "stderr",
     "output_type": "stream",
     "text": [
      " 0\n",
      "1.36 seconds.\n",
      "save: 6.46 seconds\n",
      "\n",
      "Section 248.\n",
      "Child returned"
     ]
    },
    {
     "name": "stdout",
     "output_type": "stream",
     "text": [
      "\n",
      "aws s3 cp s3://mousebrainatlas-data/CSHL_data_processed/MD590/MD590_masks_alignedTo_MD590-N47-2015.09.12-05.32.06_MD590_2_0140_cropped/MD590-N53-2015.09.12-05.51.48_MD590_1_0157_mask_alignedTo_MD590-N47-2015.09.12-05.32.06_MD590_2_0140_cropped.png /media/yuncong/BstemAtlasData/CSHL_data_processed/MD590/MD590_masks_alignedTo_MD590-N47-2015.09.12-05.32.06_MD590_2_0140_cropped/MD590-N53-2015.09.12-05.51.48_MD590_1_0157_mask_alignedTo_MD590-N47-2015.09.12-05.32.06_MD590_2_0140_cropped.png"
     ]
    },
    {
     "name": "stderr",
     "output_type": "stream",
     "text": [
      " 0\n",
      "Child returned 0\n",
      "1.88 seconds.\n",
      "locate patches: 1.91 seconds\n",
      "47615 samples.\n",
      "load image: 1.48 seconds\n",
      "extract patches: 17.12 seconds\n",
      "predict: 121.24 seconds\n"
     ]
    },
    {
     "name": "stdout",
     "output_type": "stream",
     "text": [
      "\n",
      "aws s3 cp /media/yuncong/BstemAtlasData/CSHL_patch_features/inception-bn-blue/MD590/MD590-N53-2015.09.12-05.51.48_MD590_1_0157_lossless_alignedTo_MD590-N47-2015.09.12-05.32.06_MD590_2_0140_cropped/MD590-N53-2015.09.12-05.51.48_MD590_1_0157_lossless_alignedTo_MD590-N47-2015.09.12-05.32.06_MD590_2_0140_cropped_features.hdf s3://mousebrainatlas-data/CSHL_patch_features/inception-bn-blue/MD590/MD590-N53-2015.09.12-05.51.48_MD590_1_0157_lossless_alignedTo_MD590-N47-2015.09.12-05.32.06_MD590_2_0140_cropped/MD590-N53-2015.09.12-05.51.48_MD590_1_0157_lossless_alignedTo_MD590-N47-2015.09.12-05.32.06_MD590_2_0140_cropped_features.hdf\n",
      "aws s3 cp /media/yuncong/BstemAtlasData/CSHL_patch_features/inception-bn-blue/MD590/MD590-N53-2015.09.12-05.51.48_MD590_1_0157_lossless_alignedTo_MD590-N47-2015.09.12-05.32.06_MD590_2_0140_cropped/MD590-N53-2015.09.12-05.51.48_MD590_1_0157_lossless_alignedTo_MD590-N47-2015.09.12-05.32.06_MD590_2_0140_cropped_patch_locations.txt s3://mousebrainatlas-data/CSHL_patch_features/inception-bn-blue/MD590/MD590-N53-2015.09.12-05.51.48_MD590_1_0157_lossless_alignedTo_MD590-N47-2015.09.12-05.32.06_MD590_2_0140_cropped/MD590-N53-2015.09.12-05.51.48_MD590_1_0157_lossless_alignedTo_MD590-N47-2015.09.12-05.32.06_MD590_2_0140_cropped_patch_locations.txt"
     ]
    },
    {
     "name": "stderr",
     "output_type": "stream",
     "text": [
      "Child returned 0\n",
      "2.71 seconds.\n",
      "Child returned"
     ]
    },
    {
     "name": "stdout",
     "output_type": "stream",
     "text": [
      "\n",
      "rm -rf /media/yuncong/BstemAtlasData/CSHL_data_processed/MD590/MD590_masks_alignedTo_MD590-N47-2015.09.12-05.32.06_MD590_2_0140_cropped/MD590-IHC53-2015.08.10-21.40.10_MD590_3_0157_mask_alignedTo_MD590-N47-2015.09.12-05.32.06_MD590_2_0140_cropped.png && mkdir -p /media/yuncong/BstemAtlasData/CSHL_data_processed/MD590/MD590_masks_alignedTo_MD590-N47-2015.09.12-05.32.06_MD590_2_0140_cropped"
     ]
    },
    {
     "name": "stderr",
     "output_type": "stream",
     "text": [
      " 0\n",
      "1.31 seconds.\n",
      "save: 6.46 seconds\n",
      "\n",
      "Section 249.\n",
      "Child returned"
     ]
    },
    {
     "name": "stdout",
     "output_type": "stream",
     "text": [
      "\n",
      "aws s3 cp s3://mousebrainatlas-data/CSHL_data_processed/MD590/MD590_masks_alignedTo_MD590-N47-2015.09.12-05.32.06_MD590_2_0140_cropped/MD590-IHC53-2015.08.10-21.40.10_MD590_3_0157_mask_alignedTo_MD590-N47-2015.09.12-05.32.06_MD590_2_0140_cropped.png /media/yuncong/BstemAtlasData/CSHL_data_processed/MD590/MD590_masks_alignedTo_MD590-N47-2015.09.12-05.32.06_MD590_2_0140_cropped/MD590-IHC53-2015.08.10-21.40.10_MD590_3_0157_mask_alignedTo_MD590-N47-2015.09.12-05.32.06_MD590_2_0140_cropped.png"
     ]
    },
    {
     "name": "stderr",
     "output_type": "stream",
     "text": [
      " 0\n",
      "Child returned 0\n",
      "1.93 seconds.\n",
      "locate patches: 1.96 seconds\n",
      "47876 samples.\n",
      "load image: 1.57 seconds\n",
      "extract patches: 16.12 seconds\n",
      "predict: 123.44 seconds\n"
     ]
    },
    {
     "name": "stdout",
     "output_type": "stream",
     "text": [
      "\n",
      "aws s3 cp /media/yuncong/BstemAtlasData/CSHL_patch_features/inception-bn-blue/MD590/MD590-IHC53-2015.08.10-21.40.10_MD590_3_0157_lossless_alignedTo_MD590-N47-2015.09.12-05.32.06_MD590_2_0140_cropped/MD590-IHC53-2015.08.10-21.40.10_MD590_3_0157_lossless_alignedTo_MD590-N47-2015.09.12-05.32.06_MD590_2_0140_cropped_features.hdf s3://mousebrainatlas-data/CSHL_patch_features/inception-bn-blue/MD590/MD590-IHC53-2015.08.10-21.40.10_MD590_3_0157_lossless_alignedTo_MD590-N47-2015.09.12-05.32.06_MD590_2_0140_cropped/MD590-IHC53-2015.08.10-21.40.10_MD590_3_0157_lossless_alignedTo_MD590-N47-2015.09.12-05.32.06_MD590_2_0140_cropped_features.hdf\n",
      "aws s3 cp /media/yuncong/BstemAtlasData/CSHL_patch_features/inception-bn-blue/MD590/MD590-IHC53-2015.08.10-21.40.10_MD590_3_0157_lossless_alignedTo_MD590-N47-2015.09.12-05.32.06_MD590_2_0140_cropped/MD590-IHC53-2015.08.10-21.40.10_MD590_3_0157_lossless_alignedTo_MD590-N47-2015.09.12-05.32.06_MD590_2_0140_cropped_patch_locations.txt s3://mousebrainatlas-data/CSHL_patch_features/inception-bn-blue/MD590/MD590-IHC53-2015.08.10-21.40.10_MD590_3_0157_lossless_alignedTo_MD590-N47-2015.09.12-05.32.06_MD590_2_0140_cropped/MD590-IHC53-2015.08.10-21.40.10_MD590_3_0157_lossless_alignedTo_MD590-N47-2015.09.12-05.32.06_MD590_2_0140_cropped_patch_locations.txt"
     ]
    },
    {
     "name": "stderr",
     "output_type": "stream",
     "text": [
      "Child returned 0\n",
      "3.12 seconds.\n",
      "Child returned"
     ]
    },
    {
     "name": "stdout",
     "output_type": "stream",
     "text": [
      "\n",
      "rm -rf /media/yuncong/BstemAtlasData/CSHL_data_processed/MD590/MD590_masks_alignedTo_MD590-N47-2015.09.12-05.32.06_MD590_2_0140_cropped/MD590-N53-2015.09.12-05.51.48_MD590_2_0158_mask_alignedTo_MD590-N47-2015.09.12-05.32.06_MD590_2_0140_cropped.png && mkdir -p /media/yuncong/BstemAtlasData/CSHL_data_processed/MD590/MD590_masks_alignedTo_MD590-N47-2015.09.12-05.32.06_MD590_2_0140_cropped"
     ]
    },
    {
     "name": "stderr",
     "output_type": "stream",
     "text": [
      " 0\n",
      "1.33 seconds.\n",
      "save: 6.86 seconds\n",
      "\n",
      "Section 250.\n",
      "Child returned"
     ]
    },
    {
     "name": "stdout",
     "output_type": "stream",
     "text": [
      "\n",
      "aws s3 cp s3://mousebrainatlas-data/CSHL_data_processed/MD590/MD590_masks_alignedTo_MD590-N47-2015.09.12-05.32.06_MD590_2_0140_cropped/MD590-N53-2015.09.12-05.51.48_MD590_2_0158_mask_alignedTo_MD590-N47-2015.09.12-05.32.06_MD590_2_0140_cropped.png /media/yuncong/BstemAtlasData/CSHL_data_processed/MD590/MD590_masks_alignedTo_MD590-N47-2015.09.12-05.32.06_MD590_2_0140_cropped/MD590-N53-2015.09.12-05.51.48_MD590_2_0158_mask_alignedTo_MD590-N47-2015.09.12-05.32.06_MD590_2_0140_cropped.png"
     ]
    },
    {
     "name": "stderr",
     "output_type": "stream",
     "text": [
      " 0\n",
      "Child returned 0\n",
      "1.90 seconds.\n",
      "locate patches: 1.92 seconds\n",
      "47699 samples.\n",
      "load image: 1.99 seconds\n",
      "extract patches: 15.54 seconds\n",
      "predict: 126.73 seconds\n"
     ]
    },
    {
     "name": "stdout",
     "output_type": "stream",
     "text": [
      "\n",
      "aws s3 cp /media/yuncong/BstemAtlasData/CSHL_patch_features/inception-bn-blue/MD590/MD590-N53-2015.09.12-05.51.48_MD590_2_0158_lossless_alignedTo_MD590-N47-2015.09.12-05.32.06_MD590_2_0140_cropped/MD590-N53-2015.09.12-05.51.48_MD590_2_0158_lossless_alignedTo_MD590-N47-2015.09.12-05.32.06_MD590_2_0140_cropped_features.hdf s3://mousebrainatlas-data/CSHL_patch_features/inception-bn-blue/MD590/MD590-N53-2015.09.12-05.51.48_MD590_2_0158_lossless_alignedTo_MD590-N47-2015.09.12-05.32.06_MD590_2_0140_cropped/MD590-N53-2015.09.12-05.51.48_MD590_2_0158_lossless_alignedTo_MD590-N47-2015.09.12-05.32.06_MD590_2_0140_cropped_features.hdf\n",
      "aws s3 cp /media/yuncong/BstemAtlasData/CSHL_patch_features/inception-bn-blue/MD590/MD590-N53-2015.09.12-05.51.48_MD590_2_0158_lossless_alignedTo_MD590-N47-2015.09.12-05.32.06_MD590_2_0140_cropped/MD590-N53-2015.09.12-05.51.48_MD590_2_0158_lossless_alignedTo_MD590-N47-2015.09.12-05.32.06_MD590_2_0140_cropped_patch_locations.txt s3://mousebrainatlas-data/CSHL_patch_features/inception-bn-blue/MD590/MD590-N53-2015.09.12-05.51.48_MD590_2_0158_lossless_alignedTo_MD590-N47-2015.09.12-05.32.06_MD590_2_0140_cropped/MD590-N53-2015.09.12-05.51.48_MD590_2_0158_lossless_alignedTo_MD590-N47-2015.09.12-05.32.06_MD590_2_0140_cropped_patch_locations.txt"
     ]
    },
    {
     "name": "stderr",
     "output_type": "stream",
     "text": [
      "Child returned 0\n",
      "2.63 seconds.\n",
      "Child returned"
     ]
    },
    {
     "name": "stdout",
     "output_type": "stream",
     "text": [
      "\n",
      "rm -rf /media/yuncong/BstemAtlasData/CSHL_data_processed/MD590/MD590_masks_alignedTo_MD590-N47-2015.09.12-05.32.06_MD590_2_0140_cropped/MD590-IHC53-2015.08.10-21.40.10_MD590_2_0158_mask_alignedTo_MD590-N47-2015.09.12-05.32.06_MD590_2_0140_cropped.png && mkdir -p /media/yuncong/BstemAtlasData/CSHL_data_processed/MD590/MD590_masks_alignedTo_MD590-N47-2015.09.12-05.32.06_MD590_2_0140_cropped"
     ]
    },
    {
     "name": "stderr",
     "output_type": "stream",
     "text": [
      " 0\n",
      "1.38 seconds.\n",
      "save: 6.39 seconds\n",
      "\n",
      "Section 251.\n",
      "Child returned"
     ]
    },
    {
     "name": "stdout",
     "output_type": "stream",
     "text": [
      "\n",
      "aws s3 cp s3://mousebrainatlas-data/CSHL_data_processed/MD590/MD590_masks_alignedTo_MD590-N47-2015.09.12-05.32.06_MD590_2_0140_cropped/MD590-IHC53-2015.08.10-21.40.10_MD590_2_0158_mask_alignedTo_MD590-N47-2015.09.12-05.32.06_MD590_2_0140_cropped.png /media/yuncong/BstemAtlasData/CSHL_data_processed/MD590/MD590_masks_alignedTo_MD590-N47-2015.09.12-05.32.06_MD590_2_0140_cropped/MD590-IHC53-2015.08.10-21.40.10_MD590_2_0158_mask_alignedTo_MD590-N47-2015.09.12-05.32.06_MD590_2_0140_cropped.png"
     ]
    },
    {
     "name": "stderr",
     "output_type": "stream",
     "text": [
      " 0\n",
      "Child returned 0\n",
      "1.93 seconds.\n",
      "locate patches: 1.96 seconds\n",
      "47682 samples.\n",
      "load image: 1.50 seconds\n",
      "extract patches: 14.69 seconds\n",
      "predict: 123.30 seconds\n"
     ]
    },
    {
     "name": "stdout",
     "output_type": "stream",
     "text": [
      "\n",
      "aws s3 cp /media/yuncong/BstemAtlasData/CSHL_patch_features/inception-bn-blue/MD590/MD590-IHC53-2015.08.10-21.40.10_MD590_2_0158_lossless_alignedTo_MD590-N47-2015.09.12-05.32.06_MD590_2_0140_cropped/MD590-IHC53-2015.08.10-21.40.10_MD590_2_0158_lossless_alignedTo_MD590-N47-2015.09.12-05.32.06_MD590_2_0140_cropped_features.hdf s3://mousebrainatlas-data/CSHL_patch_features/inception-bn-blue/MD590/MD590-IHC53-2015.08.10-21.40.10_MD590_2_0158_lossless_alignedTo_MD590-N47-2015.09.12-05.32.06_MD590_2_0140_cropped/MD590-IHC53-2015.08.10-21.40.10_MD590_2_0158_lossless_alignedTo_MD590-N47-2015.09.12-05.32.06_MD590_2_0140_cropped_features.hdf\n",
      "aws s3 cp /media/yuncong/BstemAtlasData/CSHL_patch_features/inception-bn-blue/MD590/MD590-IHC53-2015.08.10-21.40.10_MD590_2_0158_lossless_alignedTo_MD590-N47-2015.09.12-05.32.06_MD590_2_0140_cropped/MD590-IHC53-2015.08.10-21.40.10_MD590_2_0158_lossless_alignedTo_MD590-N47-2015.09.12-05.32.06_MD590_2_0140_cropped_patch_locations.txt s3://mousebrainatlas-data/CSHL_patch_features/inception-bn-blue/MD590/MD590-IHC53-2015.08.10-21.40.10_MD590_2_0158_lossless_alignedTo_MD590-N47-2015.09.12-05.32.06_MD590_2_0140_cropped/MD590-IHC53-2015.08.10-21.40.10_MD590_2_0158_lossless_alignedTo_MD590-N47-2015.09.12-05.32.06_MD590_2_0140_cropped_patch_locations.txt"
     ]
    },
    {
     "name": "stderr",
     "output_type": "stream",
     "text": [
      "Child returned 0\n",
      "2.59 seconds.\n",
      "Child returned"
     ]
    },
    {
     "name": "stdout",
     "output_type": "stream",
     "text": [
      "\n",
      "rm -rf /media/yuncong/BstemAtlasData/CSHL_data_processed/MD590/MD590_masks_alignedTo_MD590-N47-2015.09.12-05.32.06_MD590_2_0140_cropped/MD590-N54-2015.08.03-20.36.07_MD590_3_0160_mask_alignedTo_MD590-N47-2015.09.12-05.32.06_MD590_2_0140_cropped.png && mkdir -p /media/yuncong/BstemAtlasData/CSHL_data_processed/MD590/MD590_masks_alignedTo_MD590-N47-2015.09.12-05.32.06_MD590_2_0140_cropped"
     ]
    },
    {
     "name": "stderr",
     "output_type": "stream",
     "text": [
      " 0\n",
      "1.31 seconds.\n",
      "save: 6.34 seconds\n",
      "\n",
      "Section 252.\n",
      "Child returned"
     ]
    },
    {
     "name": "stdout",
     "output_type": "stream",
     "text": [
      "\n",
      "aws s3 cp s3://mousebrainatlas-data/CSHL_data_processed/MD590/MD590_masks_alignedTo_MD590-N47-2015.09.12-05.32.06_MD590_2_0140_cropped/MD590-N54-2015.08.03-20.36.07_MD590_3_0160_mask_alignedTo_MD590-N47-2015.09.12-05.32.06_MD590_2_0140_cropped.png /media/yuncong/BstemAtlasData/CSHL_data_processed/MD590/MD590_masks_alignedTo_MD590-N47-2015.09.12-05.32.06_MD590_2_0140_cropped/MD590-N54-2015.08.03-20.36.07_MD590_3_0160_mask_alignedTo_MD590-N47-2015.09.12-05.32.06_MD590_2_0140_cropped.png"
     ]
    },
    {
     "name": "stderr",
     "output_type": "stream",
     "text": [
      " 0\n",
      "Child returned 0\n",
      "1.84 seconds.\n",
      "locate patches: 1.86 seconds\n",
      "47252 samples.\n",
      "load image: 1.47 seconds\n",
      "extract patches: 14.55 seconds\n",
      "predict: 121.99 seconds\n"
     ]
    },
    {
     "name": "stdout",
     "output_type": "stream",
     "text": [
      "\n",
      "aws s3 cp /media/yuncong/BstemAtlasData/CSHL_patch_features/inception-bn-blue/MD590/MD590-N54-2015.08.03-20.36.07_MD590_3_0160_lossless_alignedTo_MD590-N47-2015.09.12-05.32.06_MD590_2_0140_cropped/MD590-N54-2015.08.03-20.36.07_MD590_3_0160_lossless_alignedTo_MD590-N47-2015.09.12-05.32.06_MD590_2_0140_cropped_features.hdf s3://mousebrainatlas-data/CSHL_patch_features/inception-bn-blue/MD590/MD590-N54-2015.08.03-20.36.07_MD590_3_0160_lossless_alignedTo_MD590-N47-2015.09.12-05.32.06_MD590_2_0140_cropped/MD590-N54-2015.08.03-20.36.07_MD590_3_0160_lossless_alignedTo_MD590-N47-2015.09.12-05.32.06_MD590_2_0140_cropped_features.hdf\n",
      "aws s3 cp /media/yuncong/BstemAtlasData/CSHL_patch_features/inception-bn-blue/MD590/MD590-N54-2015.08.03-20.36.07_MD590_3_0160_lossless_alignedTo_MD590-N47-2015.09.12-05.32.06_MD590_2_0140_cropped/MD590-N54-2015.08.03-20.36.07_MD590_3_0160_lossless_alignedTo_MD590-N47-2015.09.12-05.32.06_MD590_2_0140_cropped_patch_locations.txt s3://mousebrainatlas-data/CSHL_patch_features/inception-bn-blue/MD590/MD590-N54-2015.08.03-20.36.07_MD590_3_0160_lossless_alignedTo_MD590-N47-2015.09.12-05.32.06_MD590_2_0140_cropped/MD590-N54-2015.08.03-20.36.07_MD590_3_0160_lossless_alignedTo_MD590-N47-2015.09.12-05.32.06_MD590_2_0140_cropped_patch_locations.txt"
     ]
    },
    {
     "name": "stderr",
     "output_type": "stream",
     "text": [
      "Child returned 0\n",
      "2.78 seconds.\n",
      "Child returned"
     ]
    },
    {
     "name": "stdout",
     "output_type": "stream",
     "text": [
      "\n",
      "rm -rf /media/yuncong/BstemAtlasData/CSHL_data_processed/MD590/MD590_masks_alignedTo_MD590-N47-2015.09.12-05.32.06_MD590_2_0140_cropped/MD590-IHC54-2015.08.10-21.44.37_MD590_3_0160_mask_alignedTo_MD590-N47-2015.09.12-05.32.06_MD590_2_0140_cropped.png && mkdir -p /media/yuncong/BstemAtlasData/CSHL_data_processed/MD590/MD590_masks_alignedTo_MD590-N47-2015.09.12-05.32.06_MD590_2_0140_cropped"
     ]
    },
    {
     "name": "stderr",
     "output_type": "stream",
     "text": [
      " 0\n",
      "1.38 seconds.\n",
      "save: 6.57 seconds\n",
      "\n",
      "Section 253.\n",
      "Child returned"
     ]
    },
    {
     "name": "stdout",
     "output_type": "stream",
     "text": [
      "\n",
      "aws s3 cp s3://mousebrainatlas-data/CSHL_data_processed/MD590/MD590_masks_alignedTo_MD590-N47-2015.09.12-05.32.06_MD590_2_0140_cropped/MD590-IHC54-2015.08.10-21.44.37_MD590_3_0160_mask_alignedTo_MD590-N47-2015.09.12-05.32.06_MD590_2_0140_cropped.png /media/yuncong/BstemAtlasData/CSHL_data_processed/MD590/MD590_masks_alignedTo_MD590-N47-2015.09.12-05.32.06_MD590_2_0140_cropped/MD590-IHC54-2015.08.10-21.44.37_MD590_3_0160_mask_alignedTo_MD590-N47-2015.09.12-05.32.06_MD590_2_0140_cropped.png"
     ]
    },
    {
     "name": "stderr",
     "output_type": "stream",
     "text": [
      " 0\n",
      "Child returned 0\n",
      "1.76 seconds.\n",
      "locate patches: 1.79 seconds\n",
      "47477 samples.\n",
      "load image: 1.51 seconds\n",
      "extract patches: 14.30 seconds\n",
      "predict: 122.81 seconds\n"
     ]
    },
    {
     "name": "stdout",
     "output_type": "stream",
     "text": [
      "\n",
      "aws s3 cp /media/yuncong/BstemAtlasData/CSHL_patch_features/inception-bn-blue/MD590/MD590-IHC54-2015.08.10-21.44.37_MD590_3_0160_lossless_alignedTo_MD590-N47-2015.09.12-05.32.06_MD590_2_0140_cropped/MD590-IHC54-2015.08.10-21.44.37_MD590_3_0160_lossless_alignedTo_MD590-N47-2015.09.12-05.32.06_MD590_2_0140_cropped_features.hdf s3://mousebrainatlas-data/CSHL_patch_features/inception-bn-blue/MD590/MD590-IHC54-2015.08.10-21.44.37_MD590_3_0160_lossless_alignedTo_MD590-N47-2015.09.12-05.32.06_MD590_2_0140_cropped/MD590-IHC54-2015.08.10-21.44.37_MD590_3_0160_lossless_alignedTo_MD590-N47-2015.09.12-05.32.06_MD590_2_0140_cropped_features.hdf\n",
      "aws s3 cp /media/yuncong/BstemAtlasData/CSHL_patch_features/inception-bn-blue/MD590/MD590-IHC54-2015.08.10-21.44.37_MD590_3_0160_lossless_alignedTo_MD590-N47-2015.09.12-05.32.06_MD590_2_0140_cropped/MD590-IHC54-2015.08.10-21.44.37_MD590_3_0160_lossless_alignedTo_MD590-N47-2015.09.12-05.32.06_MD590_2_0140_cropped_patch_locations.txt s3://mousebrainatlas-data/CSHL_patch_features/inception-bn-blue/MD590/MD590-IHC54-2015.08.10-21.44.37_MD590_3_0160_lossless_alignedTo_MD590-N47-2015.09.12-05.32.06_MD590_2_0140_cropped/MD590-IHC54-2015.08.10-21.44.37_MD590_3_0160_lossless_alignedTo_MD590-N47-2015.09.12-05.32.06_MD590_2_0140_cropped_patch_locations.txt"
     ]
    },
    {
     "name": "stderr",
     "output_type": "stream",
     "text": [
      "Child returned 0\n",
      "2.59 seconds.\n",
      "Child returned"
     ]
    },
    {
     "name": "stdout",
     "output_type": "stream",
     "text": [
      "\n",
      "rm -rf /media/yuncong/BstemAtlasData/CSHL_data_processed/MD590/MD590_masks_alignedTo_MD590-N47-2015.09.12-05.32.06_MD590_2_0140_cropped/MD590-N54-2015.08.03-20.36.07_MD590_2_0161_mask_alignedTo_MD590-N47-2015.09.12-05.32.06_MD590_2_0140_cropped.png && mkdir -p /media/yuncong/BstemAtlasData/CSHL_data_processed/MD590/MD590_masks_alignedTo_MD590-N47-2015.09.12-05.32.06_MD590_2_0140_cropped"
     ]
    },
    {
     "name": "stderr",
     "output_type": "stream",
     "text": [
      " 0\n",
      "1.32 seconds.\n",
      "save: 6.31 seconds\n",
      "\n",
      "Section 254.\n",
      "Child returned"
     ]
    },
    {
     "name": "stdout",
     "output_type": "stream",
     "text": [
      "\n",
      "aws s3 cp s3://mousebrainatlas-data/CSHL_data_processed/MD590/MD590_masks_alignedTo_MD590-N47-2015.09.12-05.32.06_MD590_2_0140_cropped/MD590-N54-2015.08.03-20.36.07_MD590_2_0161_mask_alignedTo_MD590-N47-2015.09.12-05.32.06_MD590_2_0140_cropped.png /media/yuncong/BstemAtlasData/CSHL_data_processed/MD590/MD590_masks_alignedTo_MD590-N47-2015.09.12-05.32.06_MD590_2_0140_cropped/MD590-N54-2015.08.03-20.36.07_MD590_2_0161_mask_alignedTo_MD590-N47-2015.09.12-05.32.06_MD590_2_0140_cropped.png"
     ]
    },
    {
     "name": "stderr",
     "output_type": "stream",
     "text": [
      " 0\n",
      "Child returned 0\n",
      "1.79 seconds.\n",
      "locate patches: 1.82 seconds\n",
      "46962 samples.\n",
      "load image: 1.51 seconds\n",
      "extract patches: 14.42 seconds\n",
      "predict: 121.26 seconds\n"
     ]
    },
    {
     "name": "stdout",
     "output_type": "stream",
     "text": [
      "\n",
      "aws s3 cp /media/yuncong/BstemAtlasData/CSHL_patch_features/inception-bn-blue/MD590/MD590-N54-2015.08.03-20.36.07_MD590_2_0161_lossless_alignedTo_MD590-N47-2015.09.12-05.32.06_MD590_2_0140_cropped/MD590-N54-2015.08.03-20.36.07_MD590_2_0161_lossless_alignedTo_MD590-N47-2015.09.12-05.32.06_MD590_2_0140_cropped_features.hdf s3://mousebrainatlas-data/CSHL_patch_features/inception-bn-blue/MD590/MD590-N54-2015.08.03-20.36.07_MD590_2_0161_lossless_alignedTo_MD590-N47-2015.09.12-05.32.06_MD590_2_0140_cropped/MD590-N54-2015.08.03-20.36.07_MD590_2_0161_lossless_alignedTo_MD590-N47-2015.09.12-05.32.06_MD590_2_0140_cropped_features.hdf\n",
      "aws s3 cp /media/yuncong/BstemAtlasData/CSHL_patch_features/inception-bn-blue/MD590/MD590-N54-2015.08.03-20.36.07_MD590_2_0161_lossless_alignedTo_MD590-N47-2015.09.12-05.32.06_MD590_2_0140_cropped/MD590-N54-2015.08.03-20.36.07_MD590_2_0161_lossless_alignedTo_MD590-N47-2015.09.12-05.32.06_MD590_2_0140_cropped_patch_locations.txt s3://mousebrainatlas-data/CSHL_patch_features/inception-bn-blue/MD590/MD590-N54-2015.08.03-20.36.07_MD590_2_0161_lossless_alignedTo_MD590-N47-2015.09.12-05.32.06_MD590_2_0140_cropped/MD590-N54-2015.08.03-20.36.07_MD590_2_0161_lossless_alignedTo_MD590-N47-2015.09.12-05.32.06_MD590_2_0140_cropped_patch_locations.txt"
     ]
    },
    {
     "name": "stderr",
     "output_type": "stream",
     "text": [
      "Child returned 0\n",
      "2.64 seconds.\n",
      "Child returned"
     ]
    },
    {
     "name": "stdout",
     "output_type": "stream",
     "text": [
      "\n",
      "rm -rf /media/yuncong/BstemAtlasData/CSHL_data_processed/MD590/MD590_masks_alignedTo_MD590-N47-2015.09.12-05.32.06_MD590_2_0140_cropped/MD590-IHC54-2015.08.10-21.44.37_MD590_2_0161_mask_alignedTo_MD590-N47-2015.09.12-05.32.06_MD590_2_0140_cropped.png && mkdir -p /media/yuncong/BstemAtlasData/CSHL_data_processed/MD590/MD590_masks_alignedTo_MD590-N47-2015.09.12-05.32.06_MD590_2_0140_cropped"
     ]
    },
    {
     "name": "stderr",
     "output_type": "stream",
     "text": [
      " 0\n",
      "1.34 seconds.\n",
      "save: 6.33 seconds\n",
      "\n",
      "Section 255.\n",
      "Child returned"
     ]
    },
    {
     "name": "stdout",
     "output_type": "stream",
     "text": [
      "\n",
      "aws s3 cp s3://mousebrainatlas-data/CSHL_data_processed/MD590/MD590_masks_alignedTo_MD590-N47-2015.09.12-05.32.06_MD590_2_0140_cropped/MD590-IHC54-2015.08.10-21.44.37_MD590_2_0161_mask_alignedTo_MD590-N47-2015.09.12-05.32.06_MD590_2_0140_cropped.png /media/yuncong/BstemAtlasData/CSHL_data_processed/MD590/MD590_masks_alignedTo_MD590-N47-2015.09.12-05.32.06_MD590_2_0140_cropped/MD590-IHC54-2015.08.10-21.44.37_MD590_2_0161_mask_alignedTo_MD590-N47-2015.09.12-05.32.06_MD590_2_0140_cropped.png"
     ]
    },
    {
     "name": "stderr",
     "output_type": "stream",
     "text": [
      " 0\n",
      "Child returned 0\n",
      "1.88 seconds.\n",
      "locate patches: 1.91 seconds\n",
      "47230 samples.\n",
      "load image: 1.54 seconds\n",
      "extract patches: 14.20 seconds\n",
      "predict: 122.67 seconds\n"
     ]
    },
    {
     "name": "stdout",
     "output_type": "stream",
     "text": [
      "\n",
      "aws s3 cp /media/yuncong/BstemAtlasData/CSHL_patch_features/inception-bn-blue/MD590/MD590-IHC54-2015.08.10-21.44.37_MD590_2_0161_lossless_alignedTo_MD590-N47-2015.09.12-05.32.06_MD590_2_0140_cropped/MD590-IHC54-2015.08.10-21.44.37_MD590_2_0161_lossless_alignedTo_MD590-N47-2015.09.12-05.32.06_MD590_2_0140_cropped_features.hdf s3://mousebrainatlas-data/CSHL_patch_features/inception-bn-blue/MD590/MD590-IHC54-2015.08.10-21.44.37_MD590_2_0161_lossless_alignedTo_MD590-N47-2015.09.12-05.32.06_MD590_2_0140_cropped/MD590-IHC54-2015.08.10-21.44.37_MD590_2_0161_lossless_alignedTo_MD590-N47-2015.09.12-05.32.06_MD590_2_0140_cropped_features.hdf\n",
      "aws s3 cp /media/yuncong/BstemAtlasData/CSHL_patch_features/inception-bn-blue/MD590/MD590-IHC54-2015.08.10-21.44.37_MD590_2_0161_lossless_alignedTo_MD590-N47-2015.09.12-05.32.06_MD590_2_0140_cropped/MD590-IHC54-2015.08.10-21.44.37_MD590_2_0161_lossless_alignedTo_MD590-N47-2015.09.12-05.32.06_MD590_2_0140_cropped_patch_locations.txt s3://mousebrainatlas-data/CSHL_patch_features/inception-bn-blue/MD590/MD590-IHC54-2015.08.10-21.44.37_MD590_2_0161_lossless_alignedTo_MD590-N47-2015.09.12-05.32.06_MD590_2_0140_cropped/MD590-IHC54-2015.08.10-21.44.37_MD590_2_0161_lossless_alignedTo_MD590-N47-2015.09.12-05.32.06_MD590_2_0140_cropped_patch_locations.txt"
     ]
    },
    {
     "name": "stderr",
     "output_type": "stream",
     "text": [
      "Child returned 0\n",
      "3.04 seconds.\n",
      "Child returned"
     ]
    },
    {
     "name": "stdout",
     "output_type": "stream",
     "text": [
      "\n",
      "rm -rf /media/yuncong/BstemAtlasData/CSHL_data_processed/MD590/MD590_masks_alignedTo_MD590-N47-2015.09.12-05.32.06_MD590_2_0140_cropped/MD590-N54-2015.08.03-20.36.07_MD590_1_0162_mask_alignedTo_MD590-N47-2015.09.12-05.32.06_MD590_2_0140_cropped.png && mkdir -p /media/yuncong/BstemAtlasData/CSHL_data_processed/MD590/MD590_masks_alignedTo_MD590-N47-2015.09.12-05.32.06_MD590_2_0140_cropped"
     ]
    },
    {
     "name": "stderr",
     "output_type": "stream",
     "text": [
      " 0\n",
      "2.05 seconds.\n",
      "save: 7.48 seconds\n",
      "\n",
      "Section 256.\n",
      "Child returned"
     ]
    },
    {
     "name": "stdout",
     "output_type": "stream",
     "text": [
      "\n",
      "aws s3 cp s3://mousebrainatlas-data/CSHL_data_processed/MD590/MD590_masks_alignedTo_MD590-N47-2015.09.12-05.32.06_MD590_2_0140_cropped/MD590-N54-2015.08.03-20.36.07_MD590_1_0162_mask_alignedTo_MD590-N47-2015.09.12-05.32.06_MD590_2_0140_cropped.png /media/yuncong/BstemAtlasData/CSHL_data_processed/MD590/MD590_masks_alignedTo_MD590-N47-2015.09.12-05.32.06_MD590_2_0140_cropped/MD590-N54-2015.08.03-20.36.07_MD590_1_0162_mask_alignedTo_MD590-N47-2015.09.12-05.32.06_MD590_2_0140_cropped.png"
     ]
    },
    {
     "name": "stderr",
     "output_type": "stream",
     "text": [
      " 0\n",
      "Child returned 0\n",
      "1.79 seconds.\n",
      "locate patches: 1.82 seconds\n",
      "46768 samples.\n",
      "load image: 2.02 seconds\n",
      "extract patches: 14.73 seconds\n",
      "predict: 121.08 seconds\n"
     ]
    },
    {
     "name": "stdout",
     "output_type": "stream",
     "text": [
      "\n",
      "aws s3 cp /media/yuncong/BstemAtlasData/CSHL_patch_features/inception-bn-blue/MD590/MD590-N54-2015.08.03-20.36.07_MD590_1_0162_lossless_alignedTo_MD590-N47-2015.09.12-05.32.06_MD590_2_0140_cropped/MD590-N54-2015.08.03-20.36.07_MD590_1_0162_lossless_alignedTo_MD590-N47-2015.09.12-05.32.06_MD590_2_0140_cropped_features.hdf s3://mousebrainatlas-data/CSHL_patch_features/inception-bn-blue/MD590/MD590-N54-2015.08.03-20.36.07_MD590_1_0162_lossless_alignedTo_MD590-N47-2015.09.12-05.32.06_MD590_2_0140_cropped/MD590-N54-2015.08.03-20.36.07_MD590_1_0162_lossless_alignedTo_MD590-N47-2015.09.12-05.32.06_MD590_2_0140_cropped_features.hdf\n",
      "aws s3 cp /media/yuncong/BstemAtlasData/CSHL_patch_features/inception-bn-blue/MD590/MD590-N54-2015.08.03-20.36.07_MD590_1_0162_lossless_alignedTo_MD590-N47-2015.09.12-05.32.06_MD590_2_0140_cropped/MD590-N54-2015.08.03-20.36.07_MD590_1_0162_lossless_alignedTo_MD590-N47-2015.09.12-05.32.06_MD590_2_0140_cropped_patch_locations.txt s3://mousebrainatlas-data/CSHL_patch_features/inception-bn-blue/MD590/MD590-N54-2015.08.03-20.36.07_MD590_1_0162_lossless_alignedTo_MD590-N47-2015.09.12-05.32.06_MD590_2_0140_cropped/MD590-N54-2015.08.03-20.36.07_MD590_1_0162_lossless_alignedTo_MD590-N47-2015.09.12-05.32.06_MD590_2_0140_cropped_patch_locations.txt"
     ]
    },
    {
     "name": "stderr",
     "output_type": "stream",
     "text": [
      "Child returned 0\n",
      "2.68 seconds.\n",
      "Child returned"
     ]
    },
    {
     "name": "stdout",
     "output_type": "stream",
     "text": [
      "\n",
      "rm -rf /media/yuncong/BstemAtlasData/CSHL_data_processed/MD590/MD590_masks_alignedTo_MD590-N47-2015.09.12-05.32.06_MD590_2_0140_cropped/MD590-IHC54-2015.08.10-21.44.37_MD590_1_0162_mask_alignedTo_MD590-N47-2015.09.12-05.32.06_MD590_2_0140_cropped.png && mkdir -p /media/yuncong/BstemAtlasData/CSHL_data_processed/MD590/MD590_masks_alignedTo_MD590-N47-2015.09.12-05.32.06_MD590_2_0140_cropped"
     ]
    },
    {
     "name": "stderr",
     "output_type": "stream",
     "text": [
      " 0\n",
      "1.35 seconds.\n",
      "save: 6.41 seconds\n",
      "\n",
      "Section 257.\n",
      "Child returned"
     ]
    },
    {
     "name": "stdout",
     "output_type": "stream",
     "text": [
      "\n",
      "aws s3 cp s3://mousebrainatlas-data/CSHL_data_processed/MD590/MD590_masks_alignedTo_MD590-N47-2015.09.12-05.32.06_MD590_2_0140_cropped/MD590-IHC54-2015.08.10-21.44.37_MD590_1_0162_mask_alignedTo_MD590-N47-2015.09.12-05.32.06_MD590_2_0140_cropped.png /media/yuncong/BstemAtlasData/CSHL_data_processed/MD590/MD590_masks_alignedTo_MD590-N47-2015.09.12-05.32.06_MD590_2_0140_cropped/MD590-IHC54-2015.08.10-21.44.37_MD590_1_0162_mask_alignedTo_MD590-N47-2015.09.12-05.32.06_MD590_2_0140_cropped.png"
     ]
    },
    {
     "name": "stderr",
     "output_type": "stream",
     "text": [
      " 0\n",
      "Child returned 0\n",
      "1.74 seconds.\n",
      "locate patches: 1.77 seconds\n",
      "46864 samples.\n",
      "load image: 1.46 seconds\n",
      "extract patches: 14.09 seconds\n",
      "predict: 121.41 seconds\n"
     ]
    },
    {
     "name": "stdout",
     "output_type": "stream",
     "text": [
      "\n",
      "aws s3 cp /media/yuncong/BstemAtlasData/CSHL_patch_features/inception-bn-blue/MD590/MD590-IHC54-2015.08.10-21.44.37_MD590_1_0162_lossless_alignedTo_MD590-N47-2015.09.12-05.32.06_MD590_2_0140_cropped/MD590-IHC54-2015.08.10-21.44.37_MD590_1_0162_lossless_alignedTo_MD590-N47-2015.09.12-05.32.06_MD590_2_0140_cropped_features.hdf s3://mousebrainatlas-data/CSHL_patch_features/inception-bn-blue/MD590/MD590-IHC54-2015.08.10-21.44.37_MD590_1_0162_lossless_alignedTo_MD590-N47-2015.09.12-05.32.06_MD590_2_0140_cropped/MD590-IHC54-2015.08.10-21.44.37_MD590_1_0162_lossless_alignedTo_MD590-N47-2015.09.12-05.32.06_MD590_2_0140_cropped_features.hdf\n",
      "aws s3 cp /media/yuncong/BstemAtlasData/CSHL_patch_features/inception-bn-blue/MD590/MD590-IHC54-2015.08.10-21.44.37_MD590_1_0162_lossless_alignedTo_MD590-N47-2015.09.12-05.32.06_MD590_2_0140_cropped/MD590-IHC54-2015.08.10-21.44.37_MD590_1_0162_lossless_alignedTo_MD590-N47-2015.09.12-05.32.06_MD590_2_0140_cropped_patch_locations.txt s3://mousebrainatlas-data/CSHL_patch_features/inception-bn-blue/MD590/MD590-IHC54-2015.08.10-21.44.37_MD590_1_0162_lossless_alignedTo_MD590-N47-2015.09.12-05.32.06_MD590_2_0140_cropped/MD590-IHC54-2015.08.10-21.44.37_MD590_1_0162_lossless_alignedTo_MD590-N47-2015.09.12-05.32.06_MD590_2_0140_cropped_patch_locations.txt"
     ]
    },
    {
     "name": "stderr",
     "output_type": "stream",
     "text": [
      "Child returned 0\n",
      "2.60 seconds.\n",
      "Child returned"
     ]
    },
    {
     "name": "stdout",
     "output_type": "stream",
     "text": [
      "\n",
      "rm -rf /media/yuncong/BstemAtlasData/CSHL_data_processed/MD590/MD590_masks_alignedTo_MD590-N47-2015.09.12-05.32.06_MD590_2_0140_cropped/MD590-N55-2015.09.12-05.56.37_MD590_1_0163_mask_alignedTo_MD590-N47-2015.09.12-05.32.06_MD590_2_0140_cropped.png && mkdir -p /media/yuncong/BstemAtlasData/CSHL_data_processed/MD590/MD590_masks_alignedTo_MD590-N47-2015.09.12-05.32.06_MD590_2_0140_cropped"
     ]
    },
    {
     "name": "stderr",
     "output_type": "stream",
     "text": [
      " 0\n",
      "1.29 seconds.\n",
      "save: 6.28 seconds\n",
      "\n",
      "Section 258.\n",
      "Child returned"
     ]
    },
    {
     "name": "stdout",
     "output_type": "stream",
     "text": [
      "\n",
      "aws s3 cp s3://mousebrainatlas-data/CSHL_data_processed/MD590/MD590_masks_alignedTo_MD590-N47-2015.09.12-05.32.06_MD590_2_0140_cropped/MD590-N55-2015.09.12-05.56.37_MD590_1_0163_mask_alignedTo_MD590-N47-2015.09.12-05.32.06_MD590_2_0140_cropped.png /media/yuncong/BstemAtlasData/CSHL_data_processed/MD590/MD590_masks_alignedTo_MD590-N47-2015.09.12-05.32.06_MD590_2_0140_cropped/MD590-N55-2015.09.12-05.56.37_MD590_1_0163_mask_alignedTo_MD590-N47-2015.09.12-05.32.06_MD590_2_0140_cropped.png"
     ]
    },
    {
     "name": "stderr",
     "output_type": "stream",
     "text": [
      " 0\n",
      "Child returned 0\n",
      "1.92 seconds.\n",
      "locate patches: 1.95 seconds\n",
      "46721 samples.\n",
      "load image: 1.52 seconds\n",
      "extract patches: 14.62 seconds\n",
      "predict: 121.24 seconds\n"
     ]
    },
    {
     "name": "stdout",
     "output_type": "stream",
     "text": [
      "\n",
      "aws s3 cp /media/yuncong/BstemAtlasData/CSHL_patch_features/inception-bn-blue/MD590/MD590-N55-2015.09.12-05.56.37_MD590_1_0163_lossless_alignedTo_MD590-N47-2015.09.12-05.32.06_MD590_2_0140_cropped/MD590-N55-2015.09.12-05.56.37_MD590_1_0163_lossless_alignedTo_MD590-N47-2015.09.12-05.32.06_MD590_2_0140_cropped_features.hdf s3://mousebrainatlas-data/CSHL_patch_features/inception-bn-blue/MD590/MD590-N55-2015.09.12-05.56.37_MD590_1_0163_lossless_alignedTo_MD590-N47-2015.09.12-05.32.06_MD590_2_0140_cropped/MD590-N55-2015.09.12-05.56.37_MD590_1_0163_lossless_alignedTo_MD590-N47-2015.09.12-05.32.06_MD590_2_0140_cropped_features.hdf\n",
      "aws s3 cp /media/yuncong/BstemAtlasData/CSHL_patch_features/inception-bn-blue/MD590/MD590-N55-2015.09.12-05.56.37_MD590_1_0163_lossless_alignedTo_MD590-N47-2015.09.12-05.32.06_MD590_2_0140_cropped/MD590-N55-2015.09.12-05.56.37_MD590_1_0163_lossless_alignedTo_MD590-N47-2015.09.12-05.32.06_MD590_2_0140_cropped_patch_locations.txt s3://mousebrainatlas-data/CSHL_patch_features/inception-bn-blue/MD590/MD590-N55-2015.09.12-05.56.37_MD590_1_0163_lossless_alignedTo_MD590-N47-2015.09.12-05.32.06_MD590_2_0140_cropped/MD590-N55-2015.09.12-05.56.37_MD590_1_0163_lossless_alignedTo_MD590-N47-2015.09.12-05.32.06_MD590_2_0140_cropped_patch_locations.txt"
     ]
    },
    {
     "name": "stderr",
     "output_type": "stream",
     "text": [
      "Child returned 0\n",
      "2.61 seconds.\n",
      "Child returned"
     ]
    },
    {
     "name": "stdout",
     "output_type": "stream",
     "text": [
      "\n",
      "rm -rf /media/yuncong/BstemAtlasData/CSHL_data_processed/MD590/MD590_masks_alignedTo_MD590-N47-2015.09.12-05.32.06_MD590_2_0140_cropped/MD590-N55-2015.09.12-05.56.37_MD590_2_0164_mask_alignedTo_MD590-N47-2015.09.12-05.32.06_MD590_2_0140_cropped.png && mkdir -p /media/yuncong/BstemAtlasData/CSHL_data_processed/MD590/MD590_masks_alignedTo_MD590-N47-2015.09.12-05.32.06_MD590_2_0140_cropped"
     ]
    },
    {
     "name": "stderr",
     "output_type": "stream",
     "text": [
      " 0\n",
      "1.31 seconds.\n",
      "save: 6.20 seconds\n",
      "\n",
      "Section 260.\n",
      "Child returned"
     ]
    },
    {
     "name": "stdout",
     "output_type": "stream",
     "text": [
      "\n",
      "aws s3 cp s3://mousebrainatlas-data/CSHL_data_processed/MD590/MD590_masks_alignedTo_MD590-N47-2015.09.12-05.32.06_MD590_2_0140_cropped/MD590-N55-2015.09.12-05.56.37_MD590_2_0164_mask_alignedTo_MD590-N47-2015.09.12-05.32.06_MD590_2_0140_cropped.png /media/yuncong/BstemAtlasData/CSHL_data_processed/MD590/MD590_masks_alignedTo_MD590-N47-2015.09.12-05.32.06_MD590_2_0140_cropped/MD590-N55-2015.09.12-05.56.37_MD590_2_0164_mask_alignedTo_MD590-N47-2015.09.12-05.32.06_MD590_2_0140_cropped.png"
     ]
    },
    {
     "name": "stderr",
     "output_type": "stream",
     "text": [
      " 0\n",
      "Child returned 0\n",
      "1.84 seconds.\n",
      "locate patches: 1.86 seconds\n",
      "46289 samples.\n",
      "load image: 1.44 seconds\n",
      "extract patches: 13.76 seconds\n",
      "predict: 119.08 seconds\n"
     ]
    },
    {
     "name": "stdout",
     "output_type": "stream",
     "text": [
      "\n",
      "aws s3 cp /media/yuncong/BstemAtlasData/CSHL_patch_features/inception-bn-blue/MD590/MD590-N55-2015.09.12-05.56.37_MD590_2_0164_lossless_alignedTo_MD590-N47-2015.09.12-05.32.06_MD590_2_0140_cropped/MD590-N55-2015.09.12-05.56.37_MD590_2_0164_lossless_alignedTo_MD590-N47-2015.09.12-05.32.06_MD590_2_0140_cropped_features.hdf s3://mousebrainatlas-data/CSHL_patch_features/inception-bn-blue/MD590/MD590-N55-2015.09.12-05.56.37_MD590_2_0164_lossless_alignedTo_MD590-N47-2015.09.12-05.32.06_MD590_2_0140_cropped/MD590-N55-2015.09.12-05.56.37_MD590_2_0164_lossless_alignedTo_MD590-N47-2015.09.12-05.32.06_MD590_2_0140_cropped_features.hdf\n",
      "aws s3 cp /media/yuncong/BstemAtlasData/CSHL_patch_features/inception-bn-blue/MD590/MD590-N55-2015.09.12-05.56.37_MD590_2_0164_lossless_alignedTo_MD590-N47-2015.09.12-05.32.06_MD590_2_0140_cropped/MD590-N55-2015.09.12-05.56.37_MD590_2_0164_lossless_alignedTo_MD590-N47-2015.09.12-05.32.06_MD590_2_0140_cropped_patch_locations.txt s3://mousebrainatlas-data/CSHL_patch_features/inception-bn-blue/MD590/MD590-N55-2015.09.12-05.56.37_MD590_2_0164_lossless_alignedTo_MD590-N47-2015.09.12-05.32.06_MD590_2_0140_cropped/MD590-N55-2015.09.12-05.56.37_MD590_2_0164_lossless_alignedTo_MD590-N47-2015.09.12-05.32.06_MD590_2_0140_cropped_patch_locations.txt"
     ]
    },
    {
     "name": "stderr",
     "output_type": "stream",
     "text": [
      "Child returned 0\n",
      "2.55 seconds.\n",
      "Child returned"
     ]
    },
    {
     "name": "stdout",
     "output_type": "stream",
     "text": [
      "\n",
      "rm -rf /media/yuncong/BstemAtlasData/CSHL_data_processed/MD590/MD590_masks_alignedTo_MD590-N47-2015.09.12-05.32.06_MD590_2_0140_cropped/MD590-IHC55-2015.08.10-21.49.38_MD590_2_0164_mask_alignedTo_MD590-N47-2015.09.12-05.32.06_MD590_2_0140_cropped.png && mkdir -p /media/yuncong/BstemAtlasData/CSHL_data_processed/MD590/MD590_masks_alignedTo_MD590-N47-2015.09.12-05.32.06_MD590_2_0140_cropped"
     ]
    },
    {
     "name": "stderr",
     "output_type": "stream",
     "text": [
      " 0\n",
      "1.44 seconds.\n",
      "save: 6.32 seconds\n",
      "\n",
      "Section 261.\n",
      "Child returned"
     ]
    },
    {
     "name": "stdout",
     "output_type": "stream",
     "text": [
      "\n",
      "aws s3 cp s3://mousebrainatlas-data/CSHL_data_processed/MD590/MD590_masks_alignedTo_MD590-N47-2015.09.12-05.32.06_MD590_2_0140_cropped/MD590-IHC55-2015.08.10-21.49.38_MD590_2_0164_mask_alignedTo_MD590-N47-2015.09.12-05.32.06_MD590_2_0140_cropped.png /media/yuncong/BstemAtlasData/CSHL_data_processed/MD590/MD590_masks_alignedTo_MD590-N47-2015.09.12-05.32.06_MD590_2_0140_cropped/MD590-IHC55-2015.08.10-21.49.38_MD590_2_0164_mask_alignedTo_MD590-N47-2015.09.12-05.32.06_MD590_2_0140_cropped.png"
     ]
    },
    {
     "name": "stderr",
     "output_type": "stream",
     "text": [
      " 0\n",
      "Child returned 0\n",
      "1.81 seconds.\n",
      "locate patches: 1.84 seconds\n",
      "46276 samples.\n",
      "load image: 1.45 seconds\n",
      "extract patches: 14.31 seconds\n",
      "predict: 118.91 seconds\n"
     ]
    },
    {
     "name": "stdout",
     "output_type": "stream",
     "text": [
      "\n",
      "aws s3 cp /media/yuncong/BstemAtlasData/CSHL_patch_features/inception-bn-blue/MD590/MD590-IHC55-2015.08.10-21.49.38_MD590_2_0164_lossless_alignedTo_MD590-N47-2015.09.12-05.32.06_MD590_2_0140_cropped/MD590-IHC55-2015.08.10-21.49.38_MD590_2_0164_lossless_alignedTo_MD590-N47-2015.09.12-05.32.06_MD590_2_0140_cropped_features.hdf s3://mousebrainatlas-data/CSHL_patch_features/inception-bn-blue/MD590/MD590-IHC55-2015.08.10-21.49.38_MD590_2_0164_lossless_alignedTo_MD590-N47-2015.09.12-05.32.06_MD590_2_0140_cropped/MD590-IHC55-2015.08.10-21.49.38_MD590_2_0164_lossless_alignedTo_MD590-N47-2015.09.12-05.32.06_MD590_2_0140_cropped_features.hdf\n",
      "aws s3 cp /media/yuncong/BstemAtlasData/CSHL_patch_features/inception-bn-blue/MD590/MD590-IHC55-2015.08.10-21.49.38_MD590_2_0164_lossless_alignedTo_MD590-N47-2015.09.12-05.32.06_MD590_2_0140_cropped/MD590-IHC55-2015.08.10-21.49.38_MD590_2_0164_lossless_alignedTo_MD590-N47-2015.09.12-05.32.06_MD590_2_0140_cropped_patch_locations.txt s3://mousebrainatlas-data/CSHL_patch_features/inception-bn-blue/MD590/MD590-IHC55-2015.08.10-21.49.38_MD590_2_0164_lossless_alignedTo_MD590-N47-2015.09.12-05.32.06_MD590_2_0140_cropped/MD590-IHC55-2015.08.10-21.49.38_MD590_2_0164_lossless_alignedTo_MD590-N47-2015.09.12-05.32.06_MD590_2_0140_cropped_patch_locations.txt"
     ]
    },
    {
     "name": "stderr",
     "output_type": "stream",
     "text": [
      "Child returned 0\n",
      "2.66 seconds.\n",
      "Child returned"
     ]
    },
    {
     "name": "stdout",
     "output_type": "stream",
     "text": [
      "\n",
      "rm -rf /media/yuncong/BstemAtlasData/CSHL_data_processed/MD590/MD590_masks_alignedTo_MD590-N47-2015.09.12-05.32.06_MD590_2_0140_cropped/MD590-N55-2015.09.12-05.56.37_MD590_3_0165_mask_alignedTo_MD590-N47-2015.09.12-05.32.06_MD590_2_0140_cropped.png && mkdir -p /media/yuncong/BstemAtlasData/CSHL_data_processed/MD590/MD590_masks_alignedTo_MD590-N47-2015.09.12-05.32.06_MD590_2_0140_cropped"
     ]
    },
    {
     "name": "stderr",
     "output_type": "stream",
     "text": [
      " 0\n",
      "1.36 seconds.\n",
      "save: 6.35 seconds\n",
      "\n",
      "Section 262.\n",
      "Child returned"
     ]
    },
    {
     "name": "stdout",
     "output_type": "stream",
     "text": [
      "\n",
      "aws s3 cp s3://mousebrainatlas-data/CSHL_data_processed/MD590/MD590_masks_alignedTo_MD590-N47-2015.09.12-05.32.06_MD590_2_0140_cropped/MD590-N55-2015.09.12-05.56.37_MD590_3_0165_mask_alignedTo_MD590-N47-2015.09.12-05.32.06_MD590_2_0140_cropped.png /media/yuncong/BstemAtlasData/CSHL_data_processed/MD590/MD590_masks_alignedTo_MD590-N47-2015.09.12-05.32.06_MD590_2_0140_cropped/MD590-N55-2015.09.12-05.56.37_MD590_3_0165_mask_alignedTo_MD590-N47-2015.09.12-05.32.06_MD590_2_0140_cropped.png"
     ]
    },
    {
     "name": "stderr",
     "output_type": "stream",
     "text": [
      " 0\n",
      "Child returned 0\n",
      "1.76 seconds.\n",
      "locate patches: 1.80 seconds\n",
      "45556 samples.\n",
      "load image: 1.45 seconds\n",
      "extract patches: 13.91 seconds\n",
      "predict: 117.88 seconds\n"
     ]
    },
    {
     "name": "stdout",
     "output_type": "stream",
     "text": [
      "\n",
      "aws s3 cp /media/yuncong/BstemAtlasData/CSHL_patch_features/inception-bn-blue/MD590/MD590-N55-2015.09.12-05.56.37_MD590_3_0165_lossless_alignedTo_MD590-N47-2015.09.12-05.32.06_MD590_2_0140_cropped/MD590-N55-2015.09.12-05.56.37_MD590_3_0165_lossless_alignedTo_MD590-N47-2015.09.12-05.32.06_MD590_2_0140_cropped_features.hdf s3://mousebrainatlas-data/CSHL_patch_features/inception-bn-blue/MD590/MD590-N55-2015.09.12-05.56.37_MD590_3_0165_lossless_alignedTo_MD590-N47-2015.09.12-05.32.06_MD590_2_0140_cropped/MD590-N55-2015.09.12-05.56.37_MD590_3_0165_lossless_alignedTo_MD590-N47-2015.09.12-05.32.06_MD590_2_0140_cropped_features.hdf\n",
      "aws s3 cp /media/yuncong/BstemAtlasData/CSHL_patch_features/inception-bn-blue/MD590/MD590-N55-2015.09.12-05.56.37_MD590_3_0165_lossless_alignedTo_MD590-N47-2015.09.12-05.32.06_MD590_2_0140_cropped/MD590-N55-2015.09.12-05.56.37_MD590_3_0165_lossless_alignedTo_MD590-N47-2015.09.12-05.32.06_MD590_2_0140_cropped_patch_locations.txt s3://mousebrainatlas-data/CSHL_patch_features/inception-bn-blue/MD590/MD590-N55-2015.09.12-05.56.37_MD590_3_0165_lossless_alignedTo_MD590-N47-2015.09.12-05.32.06_MD590_2_0140_cropped/MD590-N55-2015.09.12-05.56.37_MD590_3_0165_lossless_alignedTo_MD590-N47-2015.09.12-05.32.06_MD590_2_0140_cropped_patch_locations.txt"
     ]
    },
    {
     "name": "stderr",
     "output_type": "stream",
     "text": [
      "Child returned 0\n",
      "2.42 seconds.\n",
      "Child returned"
     ]
    },
    {
     "name": "stdout",
     "output_type": "stream",
     "text": [
      "\n",
      "rm -rf /media/yuncong/BstemAtlasData/CSHL_data_processed/MD590/MD590_masks_alignedTo_MD590-N47-2015.09.12-05.32.06_MD590_2_0140_cropped/MD590-IHC55-2015.08.10-21.49.38_MD590_1_0165_mask_alignedTo_MD590-N47-2015.09.12-05.32.06_MD590_2_0140_cropped.png && mkdir -p /media/yuncong/BstemAtlasData/CSHL_data_processed/MD590/MD590_masks_alignedTo_MD590-N47-2015.09.12-05.32.06_MD590_2_0140_cropped"
     ]
    },
    {
     "name": "stderr",
     "output_type": "stream",
     "text": [
      " 0\n",
      "1.27 seconds.\n",
      "save: 5.99 seconds\n",
      "\n",
      "Section 263.\n",
      "Child returned"
     ]
    },
    {
     "name": "stdout",
     "output_type": "stream",
     "text": [
      "\n",
      "aws s3 cp s3://mousebrainatlas-data/CSHL_data_processed/MD590/MD590_masks_alignedTo_MD590-N47-2015.09.12-05.32.06_MD590_2_0140_cropped/MD590-IHC55-2015.08.10-21.49.38_MD590_1_0165_mask_alignedTo_MD590-N47-2015.09.12-05.32.06_MD590_2_0140_cropped.png /media/yuncong/BstemAtlasData/CSHL_data_processed/MD590/MD590_masks_alignedTo_MD590-N47-2015.09.12-05.32.06_MD590_2_0140_cropped/MD590-IHC55-2015.08.10-21.49.38_MD590_1_0165_mask_alignedTo_MD590-N47-2015.09.12-05.32.06_MD590_2_0140_cropped.png"
     ]
    },
    {
     "name": "stderr",
     "output_type": "stream",
     "text": [
      " 0\n",
      "Child returned 0\n",
      "1.75 seconds.\n",
      "locate patches: 1.77 seconds\n",
      "45845 samples.\n",
      "load image: 1.57 seconds\n",
      "extract patches: 13.77 seconds\n",
      "predict: 118.52 seconds\n"
     ]
    },
    {
     "name": "stdout",
     "output_type": "stream",
     "text": [
      "\n",
      "aws s3 cp /media/yuncong/BstemAtlasData/CSHL_patch_features/inception-bn-blue/MD590/MD590-IHC55-2015.08.10-21.49.38_MD590_1_0165_lossless_alignedTo_MD590-N47-2015.09.12-05.32.06_MD590_2_0140_cropped/MD590-IHC55-2015.08.10-21.49.38_MD590_1_0165_lossless_alignedTo_MD590-N47-2015.09.12-05.32.06_MD590_2_0140_cropped_features.hdf s3://mousebrainatlas-data/CSHL_patch_features/inception-bn-blue/MD590/MD590-IHC55-2015.08.10-21.49.38_MD590_1_0165_lossless_alignedTo_MD590-N47-2015.09.12-05.32.06_MD590_2_0140_cropped/MD590-IHC55-2015.08.10-21.49.38_MD590_1_0165_lossless_alignedTo_MD590-N47-2015.09.12-05.32.06_MD590_2_0140_cropped_features.hdf\n",
      "aws s3 cp /media/yuncong/BstemAtlasData/CSHL_patch_features/inception-bn-blue/MD590/MD590-IHC55-2015.08.10-21.49.38_MD590_1_0165_lossless_alignedTo_MD590-N47-2015.09.12-05.32.06_MD590_2_0140_cropped/MD590-IHC55-2015.08.10-21.49.38_MD590_1_0165_lossless_alignedTo_MD590-N47-2015.09.12-05.32.06_MD590_2_0140_cropped_patch_locations.txt s3://mousebrainatlas-data/CSHL_patch_features/inception-bn-blue/MD590/MD590-IHC55-2015.08.10-21.49.38_MD590_1_0165_lossless_alignedTo_MD590-N47-2015.09.12-05.32.06_MD590_2_0140_cropped/MD590-IHC55-2015.08.10-21.49.38_MD590_1_0165_lossless_alignedTo_MD590-N47-2015.09.12-05.32.06_MD590_2_0140_cropped_patch_locations.txt"
     ]
    },
    {
     "name": "stderr",
     "output_type": "stream",
     "text": [
      "Child returned 0\n",
      "2.71 seconds.\n",
      "Child returned"
     ]
    },
    {
     "name": "stdout",
     "output_type": "stream",
     "text": [
      "\n",
      "rm -rf /media/yuncong/BstemAtlasData/CSHL_data_processed/MD590/MD590_masks_alignedTo_MD590-N47-2015.09.12-05.32.06_MD590_2_0140_cropped/MD590-IHC56-2015.08.10-21.54.46_MD590_3_0166_mask_alignedTo_MD590-N47-2015.09.12-05.32.06_MD590_2_0140_cropped.png && mkdir -p /media/yuncong/BstemAtlasData/CSHL_data_processed/MD590/MD590_masks_alignedTo_MD590-N47-2015.09.12-05.32.06_MD590_2_0140_cropped"
     ]
    },
    {
     "name": "stderr",
     "output_type": "stream",
     "text": [
      " 0\n",
      "1.27 seconds.\n",
      "save: 6.35 seconds\n",
      "\n",
      "Section 264.\n",
      "Child returned"
     ]
    },
    {
     "name": "stdout",
     "output_type": "stream",
     "text": [
      "\n",
      "aws s3 cp s3://mousebrainatlas-data/CSHL_data_processed/MD590/MD590_masks_alignedTo_MD590-N47-2015.09.12-05.32.06_MD590_2_0140_cropped/MD590-IHC56-2015.08.10-21.54.46_MD590_3_0166_mask_alignedTo_MD590-N47-2015.09.12-05.32.06_MD590_2_0140_cropped.png /media/yuncong/BstemAtlasData/CSHL_data_processed/MD590/MD590_masks_alignedTo_MD590-N47-2015.09.12-05.32.06_MD590_2_0140_cropped/MD590-IHC56-2015.08.10-21.54.46_MD590_3_0166_mask_alignedTo_MD590-N47-2015.09.12-05.32.06_MD590_2_0140_cropped.png"
     ]
    },
    {
     "name": "stderr",
     "output_type": "stream",
     "text": [
      " 0\n",
      "Child returned 0\n",
      "1.78 seconds.\n",
      "locate patches: 1.80 seconds\n",
      "45021 samples.\n",
      "load image: 1.59 seconds\n",
      "extract patches: 14.38 seconds\n",
      "predict: 116.02 seconds\n"
     ]
    },
    {
     "name": "stdout",
     "output_type": "stream",
     "text": [
      "\n",
      "aws s3 cp /media/yuncong/BstemAtlasData/CSHL_patch_features/inception-bn-blue/MD590/MD590-IHC56-2015.08.10-21.54.46_MD590_3_0166_lossless_alignedTo_MD590-N47-2015.09.12-05.32.06_MD590_2_0140_cropped/MD590-IHC56-2015.08.10-21.54.46_MD590_3_0166_lossless_alignedTo_MD590-N47-2015.09.12-05.32.06_MD590_2_0140_cropped_features.hdf s3://mousebrainatlas-data/CSHL_patch_features/inception-bn-blue/MD590/MD590-IHC56-2015.08.10-21.54.46_MD590_3_0166_lossless_alignedTo_MD590-N47-2015.09.12-05.32.06_MD590_2_0140_cropped/MD590-IHC56-2015.08.10-21.54.46_MD590_3_0166_lossless_alignedTo_MD590-N47-2015.09.12-05.32.06_MD590_2_0140_cropped_features.hdf\n",
      "aws s3 cp /media/yuncong/BstemAtlasData/CSHL_patch_features/inception-bn-blue/MD590/MD590-IHC56-2015.08.10-21.54.46_MD590_3_0166_lossless_alignedTo_MD590-N47-2015.09.12-05.32.06_MD590_2_0140_cropped/MD590-IHC56-2015.08.10-21.54.46_MD590_3_0166_lossless_alignedTo_MD590-N47-2015.09.12-05.32.06_MD590_2_0140_cropped_patch_locations.txt s3://mousebrainatlas-data/CSHL_patch_features/inception-bn-blue/MD590/MD590-IHC56-2015.08.10-21.54.46_MD590_3_0166_lossless_alignedTo_MD590-N47-2015.09.12-05.32.06_MD590_2_0140_cropped/MD590-IHC56-2015.08.10-21.54.46_MD590_3_0166_lossless_alignedTo_MD590-N47-2015.09.12-05.32.06_MD590_2_0140_cropped_patch_locations.txt"
     ]
    },
    {
     "name": "stderr",
     "output_type": "stream",
     "text": [
      "Child returned 0\n",
      "2.58 seconds.\n",
      "Child returned"
     ]
    },
    {
     "name": "stdout",
     "output_type": "stream",
     "text": [
      "\n",
      "rm -rf /media/yuncong/BstemAtlasData/CSHL_data_processed/MD590/MD590_masks_alignedTo_MD590-N47-2015.09.12-05.32.06_MD590_2_0140_cropped/MD590-IHC56-2015.08.10-21.54.46_MD590_2_0167_mask_alignedTo_MD590-N47-2015.09.12-05.32.06_MD590_2_0140_cropped.png && mkdir -p /media/yuncong/BstemAtlasData/CSHL_data_processed/MD590/MD590_masks_alignedTo_MD590-N47-2015.09.12-05.32.06_MD590_2_0140_cropped"
     ]
    },
    {
     "name": "stderr",
     "output_type": "stream",
     "text": [
      " 0\n",
      "1.27 seconds.\n",
      "save: 6.20 seconds\n",
      "\n",
      "Section 265.\n",
      "Child returned"
     ]
    },
    {
     "name": "stdout",
     "output_type": "stream",
     "text": [
      "\n",
      "aws s3 cp s3://mousebrainatlas-data/CSHL_data_processed/MD590/MD590_masks_alignedTo_MD590-N47-2015.09.12-05.32.06_MD590_2_0140_cropped/MD590-IHC56-2015.08.10-21.54.46_MD590_2_0167_mask_alignedTo_MD590-N47-2015.09.12-05.32.06_MD590_2_0140_cropped.png /media/yuncong/BstemAtlasData/CSHL_data_processed/MD590/MD590_masks_alignedTo_MD590-N47-2015.09.12-05.32.06_MD590_2_0140_cropped/MD590-IHC56-2015.08.10-21.54.46_MD590_2_0167_mask_alignedTo_MD590-N47-2015.09.12-05.32.06_MD590_2_0140_cropped.png"
     ]
    },
    {
     "name": "stderr",
     "output_type": "stream",
     "text": [
      " 0\n",
      "Child returned 0\n",
      "1.75 seconds.\n",
      "locate patches: 1.77 seconds\n",
      "44878 samples.\n",
      "load image: 1.53 seconds\n",
      "extract patches: 12.95 seconds\n",
      "predict: 115.51 seconds\n"
     ]
    },
    {
     "name": "stdout",
     "output_type": "stream",
     "text": [
      "\n",
      "aws s3 cp /media/yuncong/BstemAtlasData/CSHL_patch_features/inception-bn-blue/MD590/MD590-IHC56-2015.08.10-21.54.46_MD590_2_0167_lossless_alignedTo_MD590-N47-2015.09.12-05.32.06_MD590_2_0140_cropped/MD590-IHC56-2015.08.10-21.54.46_MD590_2_0167_lossless_alignedTo_MD590-N47-2015.09.12-05.32.06_MD590_2_0140_cropped_features.hdf s3://mousebrainatlas-data/CSHL_patch_features/inception-bn-blue/MD590/MD590-IHC56-2015.08.10-21.54.46_MD590_2_0167_lossless_alignedTo_MD590-N47-2015.09.12-05.32.06_MD590_2_0140_cropped/MD590-IHC56-2015.08.10-21.54.46_MD590_2_0167_lossless_alignedTo_MD590-N47-2015.09.12-05.32.06_MD590_2_0140_cropped_features.hdf\n",
      "aws s3 cp /media/yuncong/BstemAtlasData/CSHL_patch_features/inception-bn-blue/MD590/MD590-IHC56-2015.08.10-21.54.46_MD590_2_0167_lossless_alignedTo_MD590-N47-2015.09.12-05.32.06_MD590_2_0140_cropped/MD590-IHC56-2015.08.10-21.54.46_MD590_2_0167_lossless_alignedTo_MD590-N47-2015.09.12-05.32.06_MD590_2_0140_cropped_patch_locations.txt s3://mousebrainatlas-data/CSHL_patch_features/inception-bn-blue/MD590/MD590-IHC56-2015.08.10-21.54.46_MD590_2_0167_lossless_alignedTo_MD590-N47-2015.09.12-05.32.06_MD590_2_0140_cropped/MD590-IHC56-2015.08.10-21.54.46_MD590_2_0167_lossless_alignedTo_MD590-N47-2015.09.12-05.32.06_MD590_2_0140_cropped_patch_locations.txt"
     ]
    },
    {
     "name": "stderr",
     "output_type": "stream",
     "text": [
      "Child returned 0\n",
      "2.57 seconds.\n",
      "Child returned"
     ]
    },
    {
     "name": "stdout",
     "output_type": "stream",
     "text": [
      "\n",
      "rm -rf /media/yuncong/BstemAtlasData/CSHL_data_processed/MD590/MD590_masks_alignedTo_MD590-N47-2015.09.12-05.32.06_MD590_2_0140_cropped/MD590-IHC56-2015.08.10-21.54.46_MD590_1_0168_mask_alignedTo_MD590-N47-2015.09.12-05.32.06_MD590_2_0140_cropped.png && mkdir -p /media/yuncong/BstemAtlasData/CSHL_data_processed/MD590/MD590_masks_alignedTo_MD590-N47-2015.09.12-05.32.06_MD590_2_0140_cropped"
     ]
    },
    {
     "name": "stderr",
     "output_type": "stream",
     "text": [
      " 0\n",
      "1.36 seconds.\n",
      "save: 6.18 seconds\n",
      "\n",
      "Section 266.\n",
      "Child returned"
     ]
    },
    {
     "name": "stdout",
     "output_type": "stream",
     "text": [
      "\n",
      "aws s3 cp s3://mousebrainatlas-data/CSHL_data_processed/MD590/MD590_masks_alignedTo_MD590-N47-2015.09.12-05.32.06_MD590_2_0140_cropped/MD590-IHC56-2015.08.10-21.54.46_MD590_1_0168_mask_alignedTo_MD590-N47-2015.09.12-05.32.06_MD590_2_0140_cropped.png /media/yuncong/BstemAtlasData/CSHL_data_processed/MD590/MD590_masks_alignedTo_MD590-N47-2015.09.12-05.32.06_MD590_2_0140_cropped/MD590-IHC56-2015.08.10-21.54.46_MD590_1_0168_mask_alignedTo_MD590-N47-2015.09.12-05.32.06_MD590_2_0140_cropped.png"
     ]
    },
    {
     "name": "stderr",
     "output_type": "stream",
     "text": [
      " 0\n",
      "Child returned 0\n",
      "1.75 seconds.\n",
      "locate patches: 1.78 seconds\n",
      "44402 samples.\n",
      "load image: 1.56 seconds\n",
      "extract patches: 13.19 seconds\n",
      "predict: 114.34 seconds\n"
     ]
    },
    {
     "name": "stdout",
     "output_type": "stream",
     "text": [
      "\n",
      "aws s3 cp /media/yuncong/BstemAtlasData/CSHL_patch_features/inception-bn-blue/MD590/MD590-IHC56-2015.08.10-21.54.46_MD590_1_0168_lossless_alignedTo_MD590-N47-2015.09.12-05.32.06_MD590_2_0140_cropped/MD590-IHC56-2015.08.10-21.54.46_MD590_1_0168_lossless_alignedTo_MD590-N47-2015.09.12-05.32.06_MD590_2_0140_cropped_features.hdf s3://mousebrainatlas-data/CSHL_patch_features/inception-bn-blue/MD590/MD590-IHC56-2015.08.10-21.54.46_MD590_1_0168_lossless_alignedTo_MD590-N47-2015.09.12-05.32.06_MD590_2_0140_cropped/MD590-IHC56-2015.08.10-21.54.46_MD590_1_0168_lossless_alignedTo_MD590-N47-2015.09.12-05.32.06_MD590_2_0140_cropped_features.hdf\n",
      "aws s3 cp /media/yuncong/BstemAtlasData/CSHL_patch_features/inception-bn-blue/MD590/MD590-IHC56-2015.08.10-21.54.46_MD590_1_0168_lossless_alignedTo_MD590-N47-2015.09.12-05.32.06_MD590_2_0140_cropped/MD590-IHC56-2015.08.10-21.54.46_MD590_1_0168_lossless_alignedTo_MD590-N47-2015.09.12-05.32.06_MD590_2_0140_cropped_patch_locations.txt s3://mousebrainatlas-data/CSHL_patch_features/inception-bn-blue/MD590/MD590-IHC56-2015.08.10-21.54.46_MD590_1_0168_lossless_alignedTo_MD590-N47-2015.09.12-05.32.06_MD590_2_0140_cropped/MD590-IHC56-2015.08.10-21.54.46_MD590_1_0168_lossless_alignedTo_MD590-N47-2015.09.12-05.32.06_MD590_2_0140_cropped_patch_locations.txt"
     ]
    },
    {
     "name": "stderr",
     "output_type": "stream",
     "text": [
      "Child returned 0\n",
      "2.55 seconds.\n",
      "Child returned"
     ]
    },
    {
     "name": "stdout",
     "output_type": "stream",
     "text": [
      "\n",
      "rm -rf /media/yuncong/BstemAtlasData/CSHL_data_processed/MD590/MD590_masks_alignedTo_MD590-N47-2015.09.12-05.32.06_MD590_2_0140_cropped/MD590-N57-2015.09.12-06.02.32_MD590_1_0169_mask_alignedTo_MD590-N47-2015.09.12-05.32.06_MD590_2_0140_cropped.png && mkdir -p /media/yuncong/BstemAtlasData/CSHL_data_processed/MD590/MD590_masks_alignedTo_MD590-N47-2015.09.12-05.32.06_MD590_2_0140_cropped"
     ]
    },
    {
     "name": "stderr",
     "output_type": "stream",
     "text": [
      " 0\n",
      "1.26 seconds.\n",
      "save: 6.02 seconds\n",
      "\n",
      "Section 267.\n",
      "Child returned"
     ]
    },
    {
     "name": "stdout",
     "output_type": "stream",
     "text": [
      "\n",
      "aws s3 cp s3://mousebrainatlas-data/CSHL_data_processed/MD590/MD590_masks_alignedTo_MD590-N47-2015.09.12-05.32.06_MD590_2_0140_cropped/MD590-N57-2015.09.12-06.02.32_MD590_1_0169_mask_alignedTo_MD590-N47-2015.09.12-05.32.06_MD590_2_0140_cropped.png /media/yuncong/BstemAtlasData/CSHL_data_processed/MD590/MD590_masks_alignedTo_MD590-N47-2015.09.12-05.32.06_MD590_2_0140_cropped/MD590-N57-2015.09.12-06.02.32_MD590_1_0169_mask_alignedTo_MD590-N47-2015.09.12-05.32.06_MD590_2_0140_cropped.png"
     ]
    },
    {
     "name": "stderr",
     "output_type": "stream",
     "text": [
      " 0\n",
      "Child returned 0\n",
      "1.80 seconds.\n",
      "locate patches: 1.83 seconds\n",
      "43950 samples.\n",
      "load image: 1.42 seconds\n",
      "extract patches: 13.54 seconds\n",
      "predict: 116.12 seconds\n"
     ]
    },
    {
     "name": "stdout",
     "output_type": "stream",
     "text": [
      "\n",
      "aws s3 cp /media/yuncong/BstemAtlasData/CSHL_patch_features/inception-bn-blue/MD590/MD590-N57-2015.09.12-06.02.32_MD590_1_0169_lossless_alignedTo_MD590-N47-2015.09.12-05.32.06_MD590_2_0140_cropped/MD590-N57-2015.09.12-06.02.32_MD590_1_0169_lossless_alignedTo_MD590-N47-2015.09.12-05.32.06_MD590_2_0140_cropped_features.hdf s3://mousebrainatlas-data/CSHL_patch_features/inception-bn-blue/MD590/MD590-N57-2015.09.12-06.02.32_MD590_1_0169_lossless_alignedTo_MD590-N47-2015.09.12-05.32.06_MD590_2_0140_cropped/MD590-N57-2015.09.12-06.02.32_MD590_1_0169_lossless_alignedTo_MD590-N47-2015.09.12-05.32.06_MD590_2_0140_cropped_features.hdf\n",
      "aws s3 cp /media/yuncong/BstemAtlasData/CSHL_patch_features/inception-bn-blue/MD590/MD590-N57-2015.09.12-06.02.32_MD590_1_0169_lossless_alignedTo_MD590-N47-2015.09.12-05.32.06_MD590_2_0140_cropped/MD590-N57-2015.09.12-06.02.32_MD590_1_0169_lossless_alignedTo_MD590-N47-2015.09.12-05.32.06_MD590_2_0140_cropped_patch_locations.txt s3://mousebrainatlas-data/CSHL_patch_features/inception-bn-blue/MD590/MD590-N57-2015.09.12-06.02.32_MD590_1_0169_lossless_alignedTo_MD590-N47-2015.09.12-05.32.06_MD590_2_0140_cropped/MD590-N57-2015.09.12-06.02.32_MD590_1_0169_lossless_alignedTo_MD590-N47-2015.09.12-05.32.06_MD590_2_0140_cropped_patch_locations.txt"
     ]
    },
    {
     "name": "stderr",
     "output_type": "stream",
     "text": [
      "Child returned 0\n",
      "2.52 seconds.\n",
      "Child returned"
     ]
    },
    {
     "name": "stdout",
     "output_type": "stream",
     "text": [
      "\n",
      "rm -rf /media/yuncong/BstemAtlasData/CSHL_data_processed/MD590/MD590_masks_alignedTo_MD590-N47-2015.09.12-05.32.06_MD590_2_0140_cropped/MD590-N57-2015.09.12-06.02.32_MD590_2_0170_mask_alignedTo_MD590-N47-2015.09.12-05.32.06_MD590_2_0140_cropped.png && mkdir -p /media/yuncong/BstemAtlasData/CSHL_data_processed/MD590/MD590_masks_alignedTo_MD590-N47-2015.09.12-05.32.06_MD590_2_0140_cropped"
     ]
    },
    {
     "name": "stderr",
     "output_type": "stream",
     "text": [
      " 0\n",
      "1.47 seconds.\n",
      "save: 6.26 seconds\n",
      "\n",
      "Section 268.\n",
      "Child returned"
     ]
    },
    {
     "name": "stdout",
     "output_type": "stream",
     "text": [
      "\n",
      "aws s3 cp s3://mousebrainatlas-data/CSHL_data_processed/MD590/MD590_masks_alignedTo_MD590-N47-2015.09.12-05.32.06_MD590_2_0140_cropped/MD590-N57-2015.09.12-06.02.32_MD590_2_0170_mask_alignedTo_MD590-N47-2015.09.12-05.32.06_MD590_2_0140_cropped.png /media/yuncong/BstemAtlasData/CSHL_data_processed/MD590/MD590_masks_alignedTo_MD590-N47-2015.09.12-05.32.06_MD590_2_0140_cropped/MD590-N57-2015.09.12-06.02.32_MD590_2_0170_mask_alignedTo_MD590-N47-2015.09.12-05.32.06_MD590_2_0140_cropped.png"
     ]
    },
    {
     "name": "stderr",
     "output_type": "stream",
     "text": [
      " 0\n",
      "Child returned 0\n",
      "1.81 seconds.\n",
      "locate patches: 1.84 seconds\n",
      "42755 samples.\n",
      "load image: 1.49 seconds\n",
      "extract patches: 12.65 seconds\n",
      "predict: 110.39 seconds\n"
     ]
    },
    {
     "name": "stdout",
     "output_type": "stream",
     "text": [
      "\n",
      "aws s3 cp /media/yuncong/BstemAtlasData/CSHL_patch_features/inception-bn-blue/MD590/MD590-N57-2015.09.12-06.02.32_MD590_2_0170_lossless_alignedTo_MD590-N47-2015.09.12-05.32.06_MD590_2_0140_cropped/MD590-N57-2015.09.12-06.02.32_MD590_2_0170_lossless_alignedTo_MD590-N47-2015.09.12-05.32.06_MD590_2_0140_cropped_features.hdf s3://mousebrainatlas-data/CSHL_patch_features/inception-bn-blue/MD590/MD590-N57-2015.09.12-06.02.32_MD590_2_0170_lossless_alignedTo_MD590-N47-2015.09.12-05.32.06_MD590_2_0140_cropped/MD590-N57-2015.09.12-06.02.32_MD590_2_0170_lossless_alignedTo_MD590-N47-2015.09.12-05.32.06_MD590_2_0140_cropped_features.hdf\n",
      "aws s3 cp /media/yuncong/BstemAtlasData/CSHL_patch_features/inception-bn-blue/MD590/MD590-N57-2015.09.12-06.02.32_MD590_2_0170_lossless_alignedTo_MD590-N47-2015.09.12-05.32.06_MD590_2_0140_cropped/MD590-N57-2015.09.12-06.02.32_MD590_2_0170_lossless_alignedTo_MD590-N47-2015.09.12-05.32.06_MD590_2_0140_cropped_patch_locations.txt s3://mousebrainatlas-data/CSHL_patch_features/inception-bn-blue/MD590/MD590-N57-2015.09.12-06.02.32_MD590_2_0170_lossless_alignedTo_MD590-N47-2015.09.12-05.32.06_MD590_2_0140_cropped/MD590-N57-2015.09.12-06.02.32_MD590_2_0170_lossless_alignedTo_MD590-N47-2015.09.12-05.32.06_MD590_2_0140_cropped_patch_locations.txt"
     ]
    },
    {
     "name": "stderr",
     "output_type": "stream",
     "text": [
      "Child returned 0\n",
      "2.68 seconds.\n",
      "Child returned"
     ]
    },
    {
     "name": "stdout",
     "output_type": "stream",
     "text": [
      "\n",
      "rm -rf /media/yuncong/BstemAtlasData/CSHL_data_processed/MD590/MD590_masks_alignedTo_MD590-N47-2015.09.12-05.32.06_MD590_2_0140_cropped/MD590-N57-2015.09.12-06.02.32_MD590_3_0171_mask_alignedTo_MD590-N47-2015.09.12-05.32.06_MD590_2_0140_cropped.png && mkdir -p /media/yuncong/BstemAtlasData/CSHL_data_processed/MD590/MD590_masks_alignedTo_MD590-N47-2015.09.12-05.32.06_MD590_2_0140_cropped"
     ]
    },
    {
     "name": "stderr",
     "output_type": "stream",
     "text": [
      " 0\n",
      "1.24 seconds.\n",
      "save: 6.08 seconds\n",
      "\n",
      "Section 269.\n",
      "Child returned"
     ]
    },
    {
     "name": "stdout",
     "output_type": "stream",
     "text": [
      "\n",
      "aws s3 cp s3://mousebrainatlas-data/CSHL_data_processed/MD590/MD590_masks_alignedTo_MD590-N47-2015.09.12-05.32.06_MD590_2_0140_cropped/MD590-N57-2015.09.12-06.02.32_MD590_3_0171_mask_alignedTo_MD590-N47-2015.09.12-05.32.06_MD590_2_0140_cropped.png /media/yuncong/BstemAtlasData/CSHL_data_processed/MD590/MD590_masks_alignedTo_MD590-N47-2015.09.12-05.32.06_MD590_2_0140_cropped/MD590-N57-2015.09.12-06.02.32_MD590_3_0171_mask_alignedTo_MD590-N47-2015.09.12-05.32.06_MD590_2_0140_cropped.png"
     ]
    },
    {
     "name": "stderr",
     "output_type": "stream",
     "text": [
      " 0\n",
      "Child returned 0\n",
      "1.79 seconds.\n",
      "locate patches: 1.85 seconds\n",
      "43444 samples.\n",
      "load image: 1.44 seconds\n",
      "extract patches: 13.26 seconds\n",
      "predict: 112.26 seconds\n"
     ]
    },
    {
     "name": "stdout",
     "output_type": "stream",
     "text": [
      "\n",
      "aws s3 cp /media/yuncong/BstemAtlasData/CSHL_patch_features/inception-bn-blue/MD590/MD590-N57-2015.09.12-06.02.32_MD590_3_0171_lossless_alignedTo_MD590-N47-2015.09.12-05.32.06_MD590_2_0140_cropped/MD590-N57-2015.09.12-06.02.32_MD590_3_0171_lossless_alignedTo_MD590-N47-2015.09.12-05.32.06_MD590_2_0140_cropped_features.hdf s3://mousebrainatlas-data/CSHL_patch_features/inception-bn-blue/MD590/MD590-N57-2015.09.12-06.02.32_MD590_3_0171_lossless_alignedTo_MD590-N47-2015.09.12-05.32.06_MD590_2_0140_cropped/MD590-N57-2015.09.12-06.02.32_MD590_3_0171_lossless_alignedTo_MD590-N47-2015.09.12-05.32.06_MD590_2_0140_cropped_features.hdf\n",
      "aws s3 cp /media/yuncong/BstemAtlasData/CSHL_patch_features/inception-bn-blue/MD590/MD590-N57-2015.09.12-06.02.32_MD590_3_0171_lossless_alignedTo_MD590-N47-2015.09.12-05.32.06_MD590_2_0140_cropped/MD590-N57-2015.09.12-06.02.32_MD590_3_0171_lossless_alignedTo_MD590-N47-2015.09.12-05.32.06_MD590_2_0140_cropped_patch_locations.txt s3://mousebrainatlas-data/CSHL_patch_features/inception-bn-blue/MD590/MD590-N57-2015.09.12-06.02.32_MD590_3_0171_lossless_alignedTo_MD590-N47-2015.09.12-05.32.06_MD590_2_0140_cropped/MD590-N57-2015.09.12-06.02.32_MD590_3_0171_lossless_alignedTo_MD590-N47-2015.09.12-05.32.06_MD590_2_0140_cropped_patch_locations.txt"
     ]
    },
    {
     "name": "stderr",
     "output_type": "stream",
     "text": [
      "Child returned 0\n",
      "2.46 seconds.\n",
      "Child returned"
     ]
    },
    {
     "name": "stdout",
     "output_type": "stream",
     "text": [
      "\n",
      "rm -rf /media/yuncong/BstemAtlasData/CSHL_data_processed/MD590/MD590_masks_alignedTo_MD590-N47-2015.09.12-05.32.06_MD590_2_0140_cropped/MD590-N58-2015.09.12-06.08.20_MD590_1_0172_mask_alignedTo_MD590-N47-2015.09.12-05.32.06_MD590_2_0140_cropped.png && mkdir -p /media/yuncong/BstemAtlasData/CSHL_data_processed/MD590/MD590_masks_alignedTo_MD590-N47-2015.09.12-05.32.06_MD590_2_0140_cropped"
     ]
    },
    {
     "name": "stderr",
     "output_type": "stream",
     "text": [
      " 0\n",
      "1.30 seconds.\n",
      "save: 5.96 seconds\n",
      "\n",
      "Section 270.\n",
      "Child returned"
     ]
    },
    {
     "name": "stdout",
     "output_type": "stream",
     "text": [
      "\n",
      "aws s3 cp s3://mousebrainatlas-data/CSHL_data_processed/MD590/MD590_masks_alignedTo_MD590-N47-2015.09.12-05.32.06_MD590_2_0140_cropped/MD590-N58-2015.09.12-06.08.20_MD590_1_0172_mask_alignedTo_MD590-N47-2015.09.12-05.32.06_MD590_2_0140_cropped.png /media/yuncong/BstemAtlasData/CSHL_data_processed/MD590/MD590_masks_alignedTo_MD590-N47-2015.09.12-05.32.06_MD590_2_0140_cropped/MD590-N58-2015.09.12-06.08.20_MD590_1_0172_mask_alignedTo_MD590-N47-2015.09.12-05.32.06_MD590_2_0140_cropped.png"
     ]
    },
    {
     "name": "stderr",
     "output_type": "stream",
     "text": [
      " 0\n",
      "Child returned 0\n",
      "1.79 seconds.\n",
      "locate patches: 1.82 seconds\n",
      "42417 samples.\n",
      "load image: 1.45 seconds\n",
      "extract patches: 13.12 seconds\n",
      "predict: 109.09 seconds\n"
     ]
    },
    {
     "name": "stdout",
     "output_type": "stream",
     "text": [
      "\n",
      "aws s3 cp /media/yuncong/BstemAtlasData/CSHL_patch_features/inception-bn-blue/MD590/MD590-N58-2015.09.12-06.08.20_MD590_1_0172_lossless_alignedTo_MD590-N47-2015.09.12-05.32.06_MD590_2_0140_cropped/MD590-N58-2015.09.12-06.08.20_MD590_1_0172_lossless_alignedTo_MD590-N47-2015.09.12-05.32.06_MD590_2_0140_cropped_features.hdf s3://mousebrainatlas-data/CSHL_patch_features/inception-bn-blue/MD590/MD590-N58-2015.09.12-06.08.20_MD590_1_0172_lossless_alignedTo_MD590-N47-2015.09.12-05.32.06_MD590_2_0140_cropped/MD590-N58-2015.09.12-06.08.20_MD590_1_0172_lossless_alignedTo_MD590-N47-2015.09.12-05.32.06_MD590_2_0140_cropped_features.hdf\n",
      "aws s3 cp /media/yuncong/BstemAtlasData/CSHL_patch_features/inception-bn-blue/MD590/MD590-N58-2015.09.12-06.08.20_MD590_1_0172_lossless_alignedTo_MD590-N47-2015.09.12-05.32.06_MD590_2_0140_cropped/MD590-N58-2015.09.12-06.08.20_MD590_1_0172_lossless_alignedTo_MD590-N47-2015.09.12-05.32.06_MD590_2_0140_cropped_patch_locations.txt s3://mousebrainatlas-data/CSHL_patch_features/inception-bn-blue/MD590/MD590-N58-2015.09.12-06.08.20_MD590_1_0172_lossless_alignedTo_MD590-N47-2015.09.12-05.32.06_MD590_2_0140_cropped/MD590-N58-2015.09.12-06.08.20_MD590_1_0172_lossless_alignedTo_MD590-N47-2015.09.12-05.32.06_MD590_2_0140_cropped_patch_locations.txt"
     ]
    },
    {
     "name": "stderr",
     "output_type": "stream",
     "text": [
      "Child returned 0\n",
      "2.42 seconds.\n",
      "Child returned"
     ]
    },
    {
     "name": "stdout",
     "output_type": "stream",
     "text": [
      "\n",
      "rm -rf /media/yuncong/BstemAtlasData/CSHL_data_processed/MD590/MD590_masks_alignedTo_MD590-N47-2015.09.12-05.32.06_MD590_2_0140_cropped/MD590-IHC58-2015.08.10-22.04.21_MD590_3_0172_mask_alignedTo_MD590-N47-2015.09.12-05.32.06_MD590_2_0140_cropped.png && mkdir -p /media/yuncong/BstemAtlasData/CSHL_data_processed/MD590/MD590_masks_alignedTo_MD590-N47-2015.09.12-05.32.06_MD590_2_0140_cropped"
     ]
    },
    {
     "name": "stderr",
     "output_type": "stream",
     "text": [
      " 0\n",
      "1.31 seconds.\n",
      "save: 5.87 seconds\n",
      "\n",
      "Section 271.\n",
      "Child returned"
     ]
    },
    {
     "name": "stdout",
     "output_type": "stream",
     "text": [
      "\n",
      "aws s3 cp s3://mousebrainatlas-data/CSHL_data_processed/MD590/MD590_masks_alignedTo_MD590-N47-2015.09.12-05.32.06_MD590_2_0140_cropped/MD590-IHC58-2015.08.10-22.04.21_MD590_3_0172_mask_alignedTo_MD590-N47-2015.09.12-05.32.06_MD590_2_0140_cropped.png /media/yuncong/BstemAtlasData/CSHL_data_processed/MD590/MD590_masks_alignedTo_MD590-N47-2015.09.12-05.32.06_MD590_2_0140_cropped/MD590-IHC58-2015.08.10-22.04.21_MD590_3_0172_mask_alignedTo_MD590-N47-2015.09.12-05.32.06_MD590_2_0140_cropped.png"
     ]
    },
    {
     "name": "stderr",
     "output_type": "stream",
     "text": [
      " 0\n",
      "Child returned 0\n",
      "1.75 seconds.\n",
      "locate patches: 1.78 seconds\n",
      "42397 samples.\n",
      "load image: 1.67 seconds\n",
      "extract patches: 13.03 seconds\n",
      "predict: 109.59 seconds\n"
     ]
    },
    {
     "name": "stdout",
     "output_type": "stream",
     "text": [
      "\n",
      "aws s3 cp /media/yuncong/BstemAtlasData/CSHL_patch_features/inception-bn-blue/MD590/MD590-IHC58-2015.08.10-22.04.21_MD590_3_0172_lossless_alignedTo_MD590-N47-2015.09.12-05.32.06_MD590_2_0140_cropped/MD590-IHC58-2015.08.10-22.04.21_MD590_3_0172_lossless_alignedTo_MD590-N47-2015.09.12-05.32.06_MD590_2_0140_cropped_features.hdf s3://mousebrainatlas-data/CSHL_patch_features/inception-bn-blue/MD590/MD590-IHC58-2015.08.10-22.04.21_MD590_3_0172_lossless_alignedTo_MD590-N47-2015.09.12-05.32.06_MD590_2_0140_cropped/MD590-IHC58-2015.08.10-22.04.21_MD590_3_0172_lossless_alignedTo_MD590-N47-2015.09.12-05.32.06_MD590_2_0140_cropped_features.hdf\n",
      "aws s3 cp /media/yuncong/BstemAtlasData/CSHL_patch_features/inception-bn-blue/MD590/MD590-IHC58-2015.08.10-22.04.21_MD590_3_0172_lossless_alignedTo_MD590-N47-2015.09.12-05.32.06_MD590_2_0140_cropped/MD590-IHC58-2015.08.10-22.04.21_MD590_3_0172_lossless_alignedTo_MD590-N47-2015.09.12-05.32.06_MD590_2_0140_cropped_patch_locations.txt s3://mousebrainatlas-data/CSHL_patch_features/inception-bn-blue/MD590/MD590-IHC58-2015.08.10-22.04.21_MD590_3_0172_lossless_alignedTo_MD590-N47-2015.09.12-05.32.06_MD590_2_0140_cropped/MD590-IHC58-2015.08.10-22.04.21_MD590_3_0172_lossless_alignedTo_MD590-N47-2015.09.12-05.32.06_MD590_2_0140_cropped_patch_locations.txt"
     ]
    },
    {
     "name": "stderr",
     "output_type": "stream",
     "text": [
      "Child returned 0\n",
      "2.38 seconds.\n",
      "Child returned"
     ]
    },
    {
     "name": "stdout",
     "output_type": "stream",
     "text": [
      "\n",
      "rm -rf /media/yuncong/BstemAtlasData/CSHL_data_processed/MD590/MD590_masks_alignedTo_MD590-N47-2015.09.12-05.32.06_MD590_2_0140_cropped/MD590-N58-2015.09.12-06.08.20_MD590_2_0173_mask_alignedTo_MD590-N47-2015.09.12-05.32.06_MD590_2_0140_cropped.png && mkdir -p /media/yuncong/BstemAtlasData/CSHL_data_processed/MD590/MD590_masks_alignedTo_MD590-N47-2015.09.12-05.32.06_MD590_2_0140_cropped"
     ]
    },
    {
     "name": "stderr",
     "output_type": "stream",
     "text": [
      " 0\n",
      "1.27 seconds.\n",
      "save: 5.79 seconds\n",
      "\n",
      "Section 272.\n",
      "Child returned"
     ]
    },
    {
     "name": "stdout",
     "output_type": "stream",
     "text": [
      "\n",
      "aws s3 cp s3://mousebrainatlas-data/CSHL_data_processed/MD590/MD590_masks_alignedTo_MD590-N47-2015.09.12-05.32.06_MD590_2_0140_cropped/MD590-N58-2015.09.12-06.08.20_MD590_2_0173_mask_alignedTo_MD590-N47-2015.09.12-05.32.06_MD590_2_0140_cropped.png /media/yuncong/BstemAtlasData/CSHL_data_processed/MD590/MD590_masks_alignedTo_MD590-N47-2015.09.12-05.32.06_MD590_2_0140_cropped/MD590-N58-2015.09.12-06.08.20_MD590_2_0173_mask_alignedTo_MD590-N47-2015.09.12-05.32.06_MD590_2_0140_cropped.png"
     ]
    },
    {
     "name": "stderr",
     "output_type": "stream",
     "text": [
      " 0\n",
      "Child returned 0\n",
      "1.80 seconds.\n",
      "locate patches: 1.83 seconds\n",
      "42488 samples.\n",
      "load image: 1.51 seconds\n",
      "extract patches: 13.47 seconds\n",
      "predict: 109.08 seconds\n"
     ]
    },
    {
     "name": "stdout",
     "output_type": "stream",
     "text": [
      "\n",
      "aws s3 cp /media/yuncong/BstemAtlasData/CSHL_patch_features/inception-bn-blue/MD590/MD590-N58-2015.09.12-06.08.20_MD590_2_0173_lossless_alignedTo_MD590-N47-2015.09.12-05.32.06_MD590_2_0140_cropped/MD590-N58-2015.09.12-06.08.20_MD590_2_0173_lossless_alignedTo_MD590-N47-2015.09.12-05.32.06_MD590_2_0140_cropped_features.hdf s3://mousebrainatlas-data/CSHL_patch_features/inception-bn-blue/MD590/MD590-N58-2015.09.12-06.08.20_MD590_2_0173_lossless_alignedTo_MD590-N47-2015.09.12-05.32.06_MD590_2_0140_cropped/MD590-N58-2015.09.12-06.08.20_MD590_2_0173_lossless_alignedTo_MD590-N47-2015.09.12-05.32.06_MD590_2_0140_cropped_features.hdf\n",
      "aws s3 cp /media/yuncong/BstemAtlasData/CSHL_patch_features/inception-bn-blue/MD590/MD590-N58-2015.09.12-06.08.20_MD590_2_0173_lossless_alignedTo_MD590-N47-2015.09.12-05.32.06_MD590_2_0140_cropped/MD590-N58-2015.09.12-06.08.20_MD590_2_0173_lossless_alignedTo_MD590-N47-2015.09.12-05.32.06_MD590_2_0140_cropped_patch_locations.txt s3://mousebrainatlas-data/CSHL_patch_features/inception-bn-blue/MD590/MD590-N58-2015.09.12-06.08.20_MD590_2_0173_lossless_alignedTo_MD590-N47-2015.09.12-05.32.06_MD590_2_0140_cropped/MD590-N58-2015.09.12-06.08.20_MD590_2_0173_lossless_alignedTo_MD590-N47-2015.09.12-05.32.06_MD590_2_0140_cropped_patch_locations.txt"
     ]
    },
    {
     "name": "stderr",
     "output_type": "stream",
     "text": [
      "Child returned 0\n",
      "2.55 seconds.\n",
      "Child returned"
     ]
    },
    {
     "name": "stdout",
     "output_type": "stream",
     "text": [
      "\n",
      "rm -rf /media/yuncong/BstemAtlasData/CSHL_data_processed/MD590/MD590_masks_alignedTo_MD590-N47-2015.09.12-05.32.06_MD590_2_0140_cropped/MD590-IHC58-2015.08.10-22.04.21_MD590_2_0173_mask_alignedTo_MD590-N47-2015.09.12-05.32.06_MD590_2_0140_cropped.png && mkdir -p /media/yuncong/BstemAtlasData/CSHL_data_processed/MD590/MD590_masks_alignedTo_MD590-N47-2015.09.12-05.32.06_MD590_2_0140_cropped"
     ]
    },
    {
     "name": "stderr",
     "output_type": "stream",
     "text": [
      " 0\n",
      "1.32 seconds.\n",
      "save: 5.99 seconds\n",
      "\n",
      "Section 273.\n",
      "Child returned"
     ]
    },
    {
     "name": "stdout",
     "output_type": "stream",
     "text": [
      "\n",
      "aws s3 cp s3://mousebrainatlas-data/CSHL_data_processed/MD590/MD590_masks_alignedTo_MD590-N47-2015.09.12-05.32.06_MD590_2_0140_cropped/MD590-IHC58-2015.08.10-22.04.21_MD590_2_0173_mask_alignedTo_MD590-N47-2015.09.12-05.32.06_MD590_2_0140_cropped.png /media/yuncong/BstemAtlasData/CSHL_data_processed/MD590/MD590_masks_alignedTo_MD590-N47-2015.09.12-05.32.06_MD590_2_0140_cropped/MD590-IHC58-2015.08.10-22.04.21_MD590_2_0173_mask_alignedTo_MD590-N47-2015.09.12-05.32.06_MD590_2_0140_cropped.png"
     ]
    },
    {
     "name": "stderr",
     "output_type": "stream",
     "text": [
      " 0\n",
      "Child returned 0\n",
      "1.74 seconds.\n",
      "locate patches: 1.77 seconds\n",
      "42563 samples.\n",
      "load image: 1.54 seconds\n",
      "extract patches: 13.79 seconds\n",
      "predict: 109.45 seconds\n"
     ]
    },
    {
     "name": "stdout",
     "output_type": "stream",
     "text": [
      "\n",
      "aws s3 cp /media/yuncong/BstemAtlasData/CSHL_patch_features/inception-bn-blue/MD590/MD590-IHC58-2015.08.10-22.04.21_MD590_2_0173_lossless_alignedTo_MD590-N47-2015.09.12-05.32.06_MD590_2_0140_cropped/MD590-IHC58-2015.08.10-22.04.21_MD590_2_0173_lossless_alignedTo_MD590-N47-2015.09.12-05.32.06_MD590_2_0140_cropped_features.hdf s3://mousebrainatlas-data/CSHL_patch_features/inception-bn-blue/MD590/MD590-IHC58-2015.08.10-22.04.21_MD590_2_0173_lossless_alignedTo_MD590-N47-2015.09.12-05.32.06_MD590_2_0140_cropped/MD590-IHC58-2015.08.10-22.04.21_MD590_2_0173_lossless_alignedTo_MD590-N47-2015.09.12-05.32.06_MD590_2_0140_cropped_features.hdf\n",
      "aws s3 cp /media/yuncong/BstemAtlasData/CSHL_patch_features/inception-bn-blue/MD590/MD590-IHC58-2015.08.10-22.04.21_MD590_2_0173_lossless_alignedTo_MD590-N47-2015.09.12-05.32.06_MD590_2_0140_cropped/MD590-IHC58-2015.08.10-22.04.21_MD590_2_0173_lossless_alignedTo_MD590-N47-2015.09.12-05.32.06_MD590_2_0140_cropped_patch_locations.txt s3://mousebrainatlas-data/CSHL_patch_features/inception-bn-blue/MD590/MD590-IHC58-2015.08.10-22.04.21_MD590_2_0173_lossless_alignedTo_MD590-N47-2015.09.12-05.32.06_MD590_2_0140_cropped/MD590-IHC58-2015.08.10-22.04.21_MD590_2_0173_lossless_alignedTo_MD590-N47-2015.09.12-05.32.06_MD590_2_0140_cropped_patch_locations.txt"
     ]
    },
    {
     "name": "stderr",
     "output_type": "stream",
     "text": [
      "Child returned 0\n",
      "2.75 seconds.\n",
      "Child returned"
     ]
    },
    {
     "name": "stdout",
     "output_type": "stream",
     "text": [
      "\n",
      "rm -rf /media/yuncong/BstemAtlasData/CSHL_data_processed/MD590/MD590_masks_alignedTo_MD590-N47-2015.09.12-05.32.06_MD590_2_0140_cropped/MD590-N58-2015.09.12-06.08.20_MD590_3_0174_mask_alignedTo_MD590-N47-2015.09.12-05.32.06_MD590_2_0140_cropped.png && mkdir -p /media/yuncong/BstemAtlasData/CSHL_data_processed/MD590/MD590_masks_alignedTo_MD590-N47-2015.09.12-05.32.06_MD590_2_0140_cropped"
     ]
    },
    {
     "name": "stderr",
     "output_type": "stream",
     "text": [
      " 0\n",
      "1.24 seconds.\n",
      "save: 6.17 seconds\n",
      "\n",
      "Section 274.\n",
      "Child returned"
     ]
    },
    {
     "name": "stdout",
     "output_type": "stream",
     "text": [
      "\n",
      "aws s3 cp s3://mousebrainatlas-data/CSHL_data_processed/MD590/MD590_masks_alignedTo_MD590-N47-2015.09.12-05.32.06_MD590_2_0140_cropped/MD590-N58-2015.09.12-06.08.20_MD590_3_0174_mask_alignedTo_MD590-N47-2015.09.12-05.32.06_MD590_2_0140_cropped.png /media/yuncong/BstemAtlasData/CSHL_data_processed/MD590/MD590_masks_alignedTo_MD590-N47-2015.09.12-05.32.06_MD590_2_0140_cropped/MD590-N58-2015.09.12-06.08.20_MD590_3_0174_mask_alignedTo_MD590-N47-2015.09.12-05.32.06_MD590_2_0140_cropped.png"
     ]
    },
    {
     "name": "stderr",
     "output_type": "stream",
     "text": [
      " 0\n",
      "Child returned 0\n",
      "1.76 seconds.\n",
      "locate patches: 1.79 seconds\n",
      "42261 samples.\n",
      "load image: 1.50 seconds\n",
      "extract patches: 13.65 seconds\n",
      "predict: 109.45 seconds\n"
     ]
    },
    {
     "name": "stdout",
     "output_type": "stream",
     "text": [
      "\n",
      "aws s3 cp /media/yuncong/BstemAtlasData/CSHL_patch_features/inception-bn-blue/MD590/MD590-N58-2015.09.12-06.08.20_MD590_3_0174_lossless_alignedTo_MD590-N47-2015.09.12-05.32.06_MD590_2_0140_cropped/MD590-N58-2015.09.12-06.08.20_MD590_3_0174_lossless_alignedTo_MD590-N47-2015.09.12-05.32.06_MD590_2_0140_cropped_features.hdf s3://mousebrainatlas-data/CSHL_patch_features/inception-bn-blue/MD590/MD590-N58-2015.09.12-06.08.20_MD590_3_0174_lossless_alignedTo_MD590-N47-2015.09.12-05.32.06_MD590_2_0140_cropped/MD590-N58-2015.09.12-06.08.20_MD590_3_0174_lossless_alignedTo_MD590-N47-2015.09.12-05.32.06_MD590_2_0140_cropped_features.hdf\n",
      "aws s3 cp /media/yuncong/BstemAtlasData/CSHL_patch_features/inception-bn-blue/MD590/MD590-N58-2015.09.12-06.08.20_MD590_3_0174_lossless_alignedTo_MD590-N47-2015.09.12-05.32.06_MD590_2_0140_cropped/MD590-N58-2015.09.12-06.08.20_MD590_3_0174_lossless_alignedTo_MD590-N47-2015.09.12-05.32.06_MD590_2_0140_cropped_patch_locations.txt s3://mousebrainatlas-data/CSHL_patch_features/inception-bn-blue/MD590/MD590-N58-2015.09.12-06.08.20_MD590_3_0174_lossless_alignedTo_MD590-N47-2015.09.12-05.32.06_MD590_2_0140_cropped/MD590-N58-2015.09.12-06.08.20_MD590_3_0174_lossless_alignedTo_MD590-N47-2015.09.12-05.32.06_MD590_2_0140_cropped_patch_locations.txt"
     ]
    },
    {
     "name": "stderr",
     "output_type": "stream",
     "text": [
      "Child returned 0\n",
      "2.59 seconds.\n",
      "Child returned"
     ]
    },
    {
     "name": "stdout",
     "output_type": "stream",
     "text": [
      "\n",
      "rm -rf /media/yuncong/BstemAtlasData/CSHL_data_processed/MD590/MD590_masks_alignedTo_MD590-N47-2015.09.12-05.32.06_MD590_2_0140_cropped/MD590-IHC58-2015.08.10-22.04.21_MD590_1_0174_mask_alignedTo_MD590-N47-2015.09.12-05.32.06_MD590_2_0140_cropped.png && mkdir -p /media/yuncong/BstemAtlasData/CSHL_data_processed/MD590/MD590_masks_alignedTo_MD590-N47-2015.09.12-05.32.06_MD590_2_0140_cropped"
     ]
    },
    {
     "name": "stderr",
     "output_type": "stream",
     "text": [
      " 0\n",
      "1.27 seconds.\n",
      "save: 5.94 seconds\n",
      "\n",
      "Section 275.\n",
      "Child returned"
     ]
    },
    {
     "name": "stdout",
     "output_type": "stream",
     "text": [
      "\n",
      "aws s3 cp s3://mousebrainatlas-data/CSHL_data_processed/MD590/MD590_masks_alignedTo_MD590-N47-2015.09.12-05.32.06_MD590_2_0140_cropped/MD590-IHC58-2015.08.10-22.04.21_MD590_1_0174_mask_alignedTo_MD590-N47-2015.09.12-05.32.06_MD590_2_0140_cropped.png /media/yuncong/BstemAtlasData/CSHL_data_processed/MD590/MD590_masks_alignedTo_MD590-N47-2015.09.12-05.32.06_MD590_2_0140_cropped/MD590-IHC58-2015.08.10-22.04.21_MD590_1_0174_mask_alignedTo_MD590-N47-2015.09.12-05.32.06_MD590_2_0140_cropped.png"
     ]
    },
    {
     "name": "stderr",
     "output_type": "stream",
     "text": [
      " 0\n",
      "Child returned 0\n",
      "1.70 seconds.\n",
      "locate patches: 1.73 seconds\n",
      "42077 samples.\n",
      "load image: 1.55 seconds\n",
      "extract patches: 13.52 seconds\n",
      "predict: 107.94 seconds\n"
     ]
    },
    {
     "name": "stdout",
     "output_type": "stream",
     "text": [
      "\n",
      "aws s3 cp /media/yuncong/BstemAtlasData/CSHL_patch_features/inception-bn-blue/MD590/MD590-IHC58-2015.08.10-22.04.21_MD590_1_0174_lossless_alignedTo_MD590-N47-2015.09.12-05.32.06_MD590_2_0140_cropped/MD590-IHC58-2015.08.10-22.04.21_MD590_1_0174_lossless_alignedTo_MD590-N47-2015.09.12-05.32.06_MD590_2_0140_cropped_features.hdf s3://mousebrainatlas-data/CSHL_patch_features/inception-bn-blue/MD590/MD590-IHC58-2015.08.10-22.04.21_MD590_1_0174_lossless_alignedTo_MD590-N47-2015.09.12-05.32.06_MD590_2_0140_cropped/MD590-IHC58-2015.08.10-22.04.21_MD590_1_0174_lossless_alignedTo_MD590-N47-2015.09.12-05.32.06_MD590_2_0140_cropped_features.hdf\n",
      "aws s3 cp /media/yuncong/BstemAtlasData/CSHL_patch_features/inception-bn-blue/MD590/MD590-IHC58-2015.08.10-22.04.21_MD590_1_0174_lossless_alignedTo_MD590-N47-2015.09.12-05.32.06_MD590_2_0140_cropped/MD590-IHC58-2015.08.10-22.04.21_MD590_1_0174_lossless_alignedTo_MD590-N47-2015.09.12-05.32.06_MD590_2_0140_cropped_patch_locations.txt s3://mousebrainatlas-data/CSHL_patch_features/inception-bn-blue/MD590/MD590-IHC58-2015.08.10-22.04.21_MD590_1_0174_lossless_alignedTo_MD590-N47-2015.09.12-05.32.06_MD590_2_0140_cropped/MD590-IHC58-2015.08.10-22.04.21_MD590_1_0174_lossless_alignedTo_MD590-N47-2015.09.12-05.32.06_MD590_2_0140_cropped_patch_locations.txt"
     ]
    },
    {
     "name": "stderr",
     "output_type": "stream",
     "text": [
      "Child returned 0\n",
      "2.46 seconds.\n",
      "Child returned"
     ]
    },
    {
     "name": "stdout",
     "output_type": "stream",
     "text": [
      "\n",
      "rm -rf /media/yuncong/BstemAtlasData/CSHL_data_processed/MD590/MD590_masks_alignedTo_MD590-N47-2015.09.12-05.32.06_MD590_2_0140_cropped/MD590-N59-2015.09.12-06.14.08_MD590_1_0175_mask_alignedTo_MD590-N47-2015.09.12-05.32.06_MD590_2_0140_cropped.png && mkdir -p /media/yuncong/BstemAtlasData/CSHL_data_processed/MD590/MD590_masks_alignedTo_MD590-N47-2015.09.12-05.32.06_MD590_2_0140_cropped"
     ]
    },
    {
     "name": "stderr",
     "output_type": "stream",
     "text": [
      " 0\n",
      "1.28 seconds.\n",
      "save: 5.87 seconds\n",
      "\n",
      "Section 276.\n",
      "Child returned"
     ]
    },
    {
     "name": "stdout",
     "output_type": "stream",
     "text": [
      "\n",
      "aws s3 cp s3://mousebrainatlas-data/CSHL_data_processed/MD590/MD590_masks_alignedTo_MD590-N47-2015.09.12-05.32.06_MD590_2_0140_cropped/MD590-N59-2015.09.12-06.14.08_MD590_1_0175_mask_alignedTo_MD590-N47-2015.09.12-05.32.06_MD590_2_0140_cropped.png /media/yuncong/BstemAtlasData/CSHL_data_processed/MD590/MD590_masks_alignedTo_MD590-N47-2015.09.12-05.32.06_MD590_2_0140_cropped/MD590-N59-2015.09.12-06.14.08_MD590_1_0175_mask_alignedTo_MD590-N47-2015.09.12-05.32.06_MD590_2_0140_cropped.png"
     ]
    },
    {
     "name": "stderr",
     "output_type": "stream",
     "text": [
      " 0\n",
      "Child returned 0\n",
      "1.73 seconds.\n",
      "locate patches: 1.76 seconds\n",
      "41718 samples.\n",
      "load image: 1.53 seconds\n",
      "extract patches: 12.80 seconds\n",
      "predict: 107.05 seconds\n"
     ]
    },
    {
     "name": "stdout",
     "output_type": "stream",
     "text": [
      "\n",
      "aws s3 cp /media/yuncong/BstemAtlasData/CSHL_patch_features/inception-bn-blue/MD590/MD590-N59-2015.09.12-06.14.08_MD590_1_0175_lossless_alignedTo_MD590-N47-2015.09.12-05.32.06_MD590_2_0140_cropped/MD590-N59-2015.09.12-06.14.08_MD590_1_0175_lossless_alignedTo_MD590-N47-2015.09.12-05.32.06_MD590_2_0140_cropped_features.hdf s3://mousebrainatlas-data/CSHL_patch_features/inception-bn-blue/MD590/MD590-N59-2015.09.12-06.14.08_MD590_1_0175_lossless_alignedTo_MD590-N47-2015.09.12-05.32.06_MD590_2_0140_cropped/MD590-N59-2015.09.12-06.14.08_MD590_1_0175_lossless_alignedTo_MD590-N47-2015.09.12-05.32.06_MD590_2_0140_cropped_features.hdf\n",
      "aws s3 cp /media/yuncong/BstemAtlasData/CSHL_patch_features/inception-bn-blue/MD590/MD590-N59-2015.09.12-06.14.08_MD590_1_0175_lossless_alignedTo_MD590-N47-2015.09.12-05.32.06_MD590_2_0140_cropped/MD590-N59-2015.09.12-06.14.08_MD590_1_0175_lossless_alignedTo_MD590-N47-2015.09.12-05.32.06_MD590_2_0140_cropped_patch_locations.txt s3://mousebrainatlas-data/CSHL_patch_features/inception-bn-blue/MD590/MD590-N59-2015.09.12-06.14.08_MD590_1_0175_lossless_alignedTo_MD590-N47-2015.09.12-05.32.06_MD590_2_0140_cropped/MD590-N59-2015.09.12-06.14.08_MD590_1_0175_lossless_alignedTo_MD590-N47-2015.09.12-05.32.06_MD590_2_0140_cropped_patch_locations.txt"
     ]
    },
    {
     "name": "stderr",
     "output_type": "stream",
     "text": [
      "Child returned 0\n",
      "2.43 seconds.\n",
      "Child returned"
     ]
    },
    {
     "name": "stdout",
     "output_type": "stream",
     "text": [
      "\n",
      "rm -rf /media/yuncong/BstemAtlasData/CSHL_data_processed/MD590/MD590_masks_alignedTo_MD590-N47-2015.09.12-05.32.06_MD590_2_0140_cropped/MD590-N59-2015.09.12-06.14.08_MD590_2_0176_mask_alignedTo_MD590-N47-2015.09.12-05.32.06_MD590_2_0140_cropped.png && mkdir -p /media/yuncong/BstemAtlasData/CSHL_data_processed/MD590/MD590_masks_alignedTo_MD590-N47-2015.09.12-05.32.06_MD590_2_0140_cropped"
     ]
    },
    {
     "name": "stderr",
     "output_type": "stream",
     "text": [
      " 0\n",
      "1.33 seconds.\n",
      "save: 5.88 seconds\n",
      "\n",
      "Section 277.\n",
      "Child returned"
     ]
    },
    {
     "name": "stdout",
     "output_type": "stream",
     "text": [
      "\n",
      "aws s3 cp s3://mousebrainatlas-data/CSHL_data_processed/MD590/MD590_masks_alignedTo_MD590-N47-2015.09.12-05.32.06_MD590_2_0140_cropped/MD590-N59-2015.09.12-06.14.08_MD590_2_0176_mask_alignedTo_MD590-N47-2015.09.12-05.32.06_MD590_2_0140_cropped.png /media/yuncong/BstemAtlasData/CSHL_data_processed/MD590/MD590_masks_alignedTo_MD590-N47-2015.09.12-05.32.06_MD590_2_0140_cropped/MD590-N59-2015.09.12-06.14.08_MD590_2_0176_mask_alignedTo_MD590-N47-2015.09.12-05.32.06_MD590_2_0140_cropped.png"
     ]
    },
    {
     "name": "stderr",
     "output_type": "stream",
     "text": [
      " 0\n",
      "Child returned 0\n",
      "1.74 seconds.\n",
      "locate patches: 1.76 seconds\n",
      "41748 samples.\n",
      "load image: 1.52 seconds\n",
      "extract patches: 12.94 seconds\n",
      "predict: 107.48 seconds\n"
     ]
    },
    {
     "name": "stdout",
     "output_type": "stream",
     "text": [
      "\n",
      "aws s3 cp /media/yuncong/BstemAtlasData/CSHL_patch_features/inception-bn-blue/MD590/MD590-N59-2015.09.12-06.14.08_MD590_2_0176_lossless_alignedTo_MD590-N47-2015.09.12-05.32.06_MD590_2_0140_cropped/MD590-N59-2015.09.12-06.14.08_MD590_2_0176_lossless_alignedTo_MD590-N47-2015.09.12-05.32.06_MD590_2_0140_cropped_features.hdf s3://mousebrainatlas-data/CSHL_patch_features/inception-bn-blue/MD590/MD590-N59-2015.09.12-06.14.08_MD590_2_0176_lossless_alignedTo_MD590-N47-2015.09.12-05.32.06_MD590_2_0140_cropped/MD590-N59-2015.09.12-06.14.08_MD590_2_0176_lossless_alignedTo_MD590-N47-2015.09.12-05.32.06_MD590_2_0140_cropped_features.hdf\n",
      "aws s3 cp /media/yuncong/BstemAtlasData/CSHL_patch_features/inception-bn-blue/MD590/MD590-N59-2015.09.12-06.14.08_MD590_2_0176_lossless_alignedTo_MD590-N47-2015.09.12-05.32.06_MD590_2_0140_cropped/MD590-N59-2015.09.12-06.14.08_MD590_2_0176_lossless_alignedTo_MD590-N47-2015.09.12-05.32.06_MD590_2_0140_cropped_patch_locations.txt s3://mousebrainatlas-data/CSHL_patch_features/inception-bn-blue/MD590/MD590-N59-2015.09.12-06.14.08_MD590_2_0176_lossless_alignedTo_MD590-N47-2015.09.12-05.32.06_MD590_2_0140_cropped/MD590-N59-2015.09.12-06.14.08_MD590_2_0176_lossless_alignedTo_MD590-N47-2015.09.12-05.32.06_MD590_2_0140_cropped_patch_locations.txt"
     ]
    },
    {
     "name": "stderr",
     "output_type": "stream",
     "text": [
      "Child returned 0\n",
      "2.56 seconds.\n",
      "Child returned"
     ]
    },
    {
     "name": "stdout",
     "output_type": "stream",
     "text": [
      "\n",
      "rm -rf /media/yuncong/BstemAtlasData/CSHL_data_processed/MD590/MD590_masks_alignedTo_MD590-N47-2015.09.12-05.32.06_MD590_2_0140_cropped/MD590-N59-2015.09.12-06.14.08_MD590_3_0177_mask_alignedTo_MD590-N47-2015.09.12-05.32.06_MD590_2_0140_cropped.png && mkdir -p /media/yuncong/BstemAtlasData/CSHL_data_processed/MD590/MD590_masks_alignedTo_MD590-N47-2015.09.12-05.32.06_MD590_2_0140_cropped"
     ]
    },
    {
     "name": "stderr",
     "output_type": "stream",
     "text": [
      " 0\n",
      "1.27 seconds.\n",
      "save: 5.91 seconds\n",
      "\n",
      "Section 278.\n",
      "Child returned"
     ]
    },
    {
     "name": "stdout",
     "output_type": "stream",
     "text": [
      "\n",
      "aws s3 cp s3://mousebrainatlas-data/CSHL_data_processed/MD590/MD590_masks_alignedTo_MD590-N47-2015.09.12-05.32.06_MD590_2_0140_cropped/MD590-N59-2015.09.12-06.14.08_MD590_3_0177_mask_alignedTo_MD590-N47-2015.09.12-05.32.06_MD590_2_0140_cropped.png /media/yuncong/BstemAtlasData/CSHL_data_processed/MD590/MD590_masks_alignedTo_MD590-N47-2015.09.12-05.32.06_MD590_2_0140_cropped/MD590-N59-2015.09.12-06.14.08_MD590_3_0177_mask_alignedTo_MD590-N47-2015.09.12-05.32.06_MD590_2_0140_cropped.png"
     ]
    },
    {
     "name": "stderr",
     "output_type": "stream",
     "text": [
      " 0\n",
      "Child returned 0\n",
      "1.76 seconds.\n",
      "locate patches: 1.79 seconds\n",
      "41191 samples.\n",
      "load image: 1.44 seconds\n",
      "extract patches: 12.72 seconds\n",
      "predict: 105.78 seconds\n"
     ]
    },
    {
     "name": "stdout",
     "output_type": "stream",
     "text": [
      "\n",
      "aws s3 cp /media/yuncong/BstemAtlasData/CSHL_patch_features/inception-bn-blue/MD590/MD590-N59-2015.09.12-06.14.08_MD590_3_0177_lossless_alignedTo_MD590-N47-2015.09.12-05.32.06_MD590_2_0140_cropped/MD590-N59-2015.09.12-06.14.08_MD590_3_0177_lossless_alignedTo_MD590-N47-2015.09.12-05.32.06_MD590_2_0140_cropped_features.hdf s3://mousebrainatlas-data/CSHL_patch_features/inception-bn-blue/MD590/MD590-N59-2015.09.12-06.14.08_MD590_3_0177_lossless_alignedTo_MD590-N47-2015.09.12-05.32.06_MD590_2_0140_cropped/MD590-N59-2015.09.12-06.14.08_MD590_3_0177_lossless_alignedTo_MD590-N47-2015.09.12-05.32.06_MD590_2_0140_cropped_features.hdf\n",
      "aws s3 cp /media/yuncong/BstemAtlasData/CSHL_patch_features/inception-bn-blue/MD590/MD590-N59-2015.09.12-06.14.08_MD590_3_0177_lossless_alignedTo_MD590-N47-2015.09.12-05.32.06_MD590_2_0140_cropped/MD590-N59-2015.09.12-06.14.08_MD590_3_0177_lossless_alignedTo_MD590-N47-2015.09.12-05.32.06_MD590_2_0140_cropped_patch_locations.txt s3://mousebrainatlas-data/CSHL_patch_features/inception-bn-blue/MD590/MD590-N59-2015.09.12-06.14.08_MD590_3_0177_lossless_alignedTo_MD590-N47-2015.09.12-05.32.06_MD590_2_0140_cropped/MD590-N59-2015.09.12-06.14.08_MD590_3_0177_lossless_alignedTo_MD590-N47-2015.09.12-05.32.06_MD590_2_0140_cropped_patch_locations.txt"
     ]
    },
    {
     "name": "stderr",
     "output_type": "stream",
     "text": [
      "Child returned 0\n",
      "2.57 seconds.\n",
      "Child returned"
     ]
    },
    {
     "name": "stdout",
     "output_type": "stream",
     "text": [
      "\n",
      "rm -rf /media/yuncong/BstemAtlasData/CSHL_data_processed/MD590/MD590_masks_alignedTo_MD590-N47-2015.09.12-05.32.06_MD590_2_0140_cropped/MD590-N60-2015.08.03-20.59.41_MD590_3_0178_mask_alignedTo_MD590-N47-2015.09.12-05.32.06_MD590_2_0140_cropped.png && mkdir -p /media/yuncong/BstemAtlasData/CSHL_data_processed/MD590/MD590_masks_alignedTo_MD590-N47-2015.09.12-05.32.06_MD590_2_0140_cropped"
     ]
    },
    {
     "name": "stderr",
     "output_type": "stream",
     "text": [
      " 0\n",
      "1.23 seconds.\n",
      "save: 5.87 seconds\n",
      "\n",
      "Section 279.\n",
      "Child returned"
     ]
    },
    {
     "name": "stdout",
     "output_type": "stream",
     "text": [
      "\n",
      "aws s3 cp s3://mousebrainatlas-data/CSHL_data_processed/MD590/MD590_masks_alignedTo_MD590-N47-2015.09.12-05.32.06_MD590_2_0140_cropped/MD590-N60-2015.08.03-20.59.41_MD590_3_0178_mask_alignedTo_MD590-N47-2015.09.12-05.32.06_MD590_2_0140_cropped.png /media/yuncong/BstemAtlasData/CSHL_data_processed/MD590/MD590_masks_alignedTo_MD590-N47-2015.09.12-05.32.06_MD590_2_0140_cropped/MD590-N60-2015.08.03-20.59.41_MD590_3_0178_mask_alignedTo_MD590-N47-2015.09.12-05.32.06_MD590_2_0140_cropped.png"
     ]
    },
    {
     "name": "stderr",
     "output_type": "stream",
     "text": [
      " 0\n",
      "Child returned 0\n",
      "1.72 seconds.\n",
      "locate patches: 1.75 seconds\n",
      "40408 samples.\n",
      "load image: 1.45 seconds\n",
      "extract patches: 12.16 seconds\n",
      "predict: 104.20 seconds\n"
     ]
    },
    {
     "name": "stdout",
     "output_type": "stream",
     "text": [
      "\n",
      "aws s3 cp /media/yuncong/BstemAtlasData/CSHL_patch_features/inception-bn-blue/MD590/MD590-N60-2015.08.03-20.59.41_MD590_3_0178_lossless_alignedTo_MD590-N47-2015.09.12-05.32.06_MD590_2_0140_cropped/MD590-N60-2015.08.03-20.59.41_MD590_3_0178_lossless_alignedTo_MD590-N47-2015.09.12-05.32.06_MD590_2_0140_cropped_features.hdf s3://mousebrainatlas-data/CSHL_patch_features/inception-bn-blue/MD590/MD590-N60-2015.08.03-20.59.41_MD590_3_0178_lossless_alignedTo_MD590-N47-2015.09.12-05.32.06_MD590_2_0140_cropped/MD590-N60-2015.08.03-20.59.41_MD590_3_0178_lossless_alignedTo_MD590-N47-2015.09.12-05.32.06_MD590_2_0140_cropped_features.hdf\n",
      "aws s3 cp /media/yuncong/BstemAtlasData/CSHL_patch_features/inception-bn-blue/MD590/MD590-N60-2015.08.03-20.59.41_MD590_3_0178_lossless_alignedTo_MD590-N47-2015.09.12-05.32.06_MD590_2_0140_cropped/MD590-N60-2015.08.03-20.59.41_MD590_3_0178_lossless_alignedTo_MD590-N47-2015.09.12-05.32.06_MD590_2_0140_cropped_patch_locations.txt s3://mousebrainatlas-data/CSHL_patch_features/inception-bn-blue/MD590/MD590-N60-2015.08.03-20.59.41_MD590_3_0178_lossless_alignedTo_MD590-N47-2015.09.12-05.32.06_MD590_2_0140_cropped/MD590-N60-2015.08.03-20.59.41_MD590_3_0178_lossless_alignedTo_MD590-N47-2015.09.12-05.32.06_MD590_2_0140_cropped_patch_locations.txt"
     ]
    },
    {
     "name": "stderr",
     "output_type": "stream",
     "text": [
      "Child returned 0\n",
      "2.42 seconds.\n",
      "Child returned"
     ]
    },
    {
     "name": "stdout",
     "output_type": "stream",
     "text": [
      "\n",
      "rm -rf /media/yuncong/BstemAtlasData/CSHL_data_processed/MD590/MD590_masks_alignedTo_MD590-N47-2015.09.12-05.32.06_MD590_2_0140_cropped/MD590-N60-2015.08.03-20.59.41_MD590_2_0179_mask_alignedTo_MD590-N47-2015.09.12-05.32.06_MD590_2_0140_cropped.png && mkdir -p /media/yuncong/BstemAtlasData/CSHL_data_processed/MD590/MD590_masks_alignedTo_MD590-N47-2015.09.12-05.32.06_MD590_2_0140_cropped"
     ]
    },
    {
     "name": "stderr",
     "output_type": "stream",
     "text": [
      " 0\n",
      "1.36 seconds.\n",
      "save: 5.79 seconds\n",
      "\n",
      "Section 281.\n",
      "Child returned"
     ]
    },
    {
     "name": "stdout",
     "output_type": "stream",
     "text": [
      "\n",
      "aws s3 cp s3://mousebrainatlas-data/CSHL_data_processed/MD590/MD590_masks_alignedTo_MD590-N47-2015.09.12-05.32.06_MD590_2_0140_cropped/MD590-N60-2015.08.03-20.59.41_MD590_2_0179_mask_alignedTo_MD590-N47-2015.09.12-05.32.06_MD590_2_0140_cropped.png /media/yuncong/BstemAtlasData/CSHL_data_processed/MD590/MD590_masks_alignedTo_MD590-N47-2015.09.12-05.32.06_MD590_2_0140_cropped/MD590-N60-2015.08.03-20.59.41_MD590_2_0179_mask_alignedTo_MD590-N47-2015.09.12-05.32.06_MD590_2_0140_cropped.png"
     ]
    },
    {
     "name": "stderr",
     "output_type": "stream",
     "text": [
      " 0\n",
      "Child returned 0\n",
      "1.71 seconds.\n",
      "locate patches: 1.74 seconds\n",
      "40208 samples.\n",
      "load image: 1.45 seconds\n",
      "extract patches: 13.01 seconds\n",
      "predict: 103.26 seconds\n"
     ]
    },
    {
     "name": "stdout",
     "output_type": "stream",
     "text": [
      "\n",
      "aws s3 cp /media/yuncong/BstemAtlasData/CSHL_patch_features/inception-bn-blue/MD590/MD590-N60-2015.08.03-20.59.41_MD590_2_0179_lossless_alignedTo_MD590-N47-2015.09.12-05.32.06_MD590_2_0140_cropped/MD590-N60-2015.08.03-20.59.41_MD590_2_0179_lossless_alignedTo_MD590-N47-2015.09.12-05.32.06_MD590_2_0140_cropped_features.hdf s3://mousebrainatlas-data/CSHL_patch_features/inception-bn-blue/MD590/MD590-N60-2015.08.03-20.59.41_MD590_2_0179_lossless_alignedTo_MD590-N47-2015.09.12-05.32.06_MD590_2_0140_cropped/MD590-N60-2015.08.03-20.59.41_MD590_2_0179_lossless_alignedTo_MD590-N47-2015.09.12-05.32.06_MD590_2_0140_cropped_features.hdf\n",
      "aws s3 cp /media/yuncong/BstemAtlasData/CSHL_patch_features/inception-bn-blue/MD590/MD590-N60-2015.08.03-20.59.41_MD590_2_0179_lossless_alignedTo_MD590-N47-2015.09.12-05.32.06_MD590_2_0140_cropped/MD590-N60-2015.08.03-20.59.41_MD590_2_0179_lossless_alignedTo_MD590-N47-2015.09.12-05.32.06_MD590_2_0140_cropped_patch_locations.txt s3://mousebrainatlas-data/CSHL_patch_features/inception-bn-blue/MD590/MD590-N60-2015.08.03-20.59.41_MD590_2_0179_lossless_alignedTo_MD590-N47-2015.09.12-05.32.06_MD590_2_0140_cropped/MD590-N60-2015.08.03-20.59.41_MD590_2_0179_lossless_alignedTo_MD590-N47-2015.09.12-05.32.06_MD590_2_0140_cropped_patch_locations.txt"
     ]
    },
    {
     "name": "stderr",
     "output_type": "stream",
     "text": [
      "Child returned 0\n",
      "2.43 seconds.\n",
      "Child returned"
     ]
    },
    {
     "name": "stdout",
     "output_type": "stream",
     "text": [
      "\n",
      "rm -rf /media/yuncong/BstemAtlasData/CSHL_data_processed/MD590/MD590_masks_alignedTo_MD590-N47-2015.09.12-05.32.06_MD590_2_0140_cropped/MD590-IHC60-2015.08.10-22.13.42_MD590_2_0179_mask_alignedTo_MD590-N47-2015.09.12-05.32.06_MD590_2_0140_cropped.png && mkdir -p /media/yuncong/BstemAtlasData/CSHL_data_processed/MD590/MD590_masks_alignedTo_MD590-N47-2015.09.12-05.32.06_MD590_2_0140_cropped"
     ]
    },
    {
     "name": "stderr",
     "output_type": "stream",
     "text": [
      " 0\n",
      "1.24 seconds.\n",
      "save: 5.84 seconds\n",
      "\n",
      "Section 282.\n",
      "Child returned"
     ]
    },
    {
     "name": "stdout",
     "output_type": "stream",
     "text": [
      "\n",
      "aws s3 cp s3://mousebrainatlas-data/CSHL_data_processed/MD590/MD590_masks_alignedTo_MD590-N47-2015.09.12-05.32.06_MD590_2_0140_cropped/MD590-IHC60-2015.08.10-22.13.42_MD590_2_0179_mask_alignedTo_MD590-N47-2015.09.12-05.32.06_MD590_2_0140_cropped.png /media/yuncong/BstemAtlasData/CSHL_data_processed/MD590/MD590_masks_alignedTo_MD590-N47-2015.09.12-05.32.06_MD590_2_0140_cropped/MD590-IHC60-2015.08.10-22.13.42_MD590_2_0179_mask_alignedTo_MD590-N47-2015.09.12-05.32.06_MD590_2_0140_cropped.png"
     ]
    },
    {
     "name": "stderr",
     "output_type": "stream",
     "text": [
      " 0\n",
      "Child returned 0\n",
      "1.74 seconds.\n",
      "locate patches: 1.77 seconds\n",
      "40305 samples.\n",
      "load image: 1.58 seconds\n",
      "extract patches: 13.23 seconds\n",
      "predict: 103.85 seconds\n"
     ]
    },
    {
     "name": "stdout",
     "output_type": "stream",
     "text": [
      "\n",
      "aws s3 cp /media/yuncong/BstemAtlasData/CSHL_patch_features/inception-bn-blue/MD590/MD590-IHC60-2015.08.10-22.13.42_MD590_2_0179_lossless_alignedTo_MD590-N47-2015.09.12-05.32.06_MD590_2_0140_cropped/MD590-IHC60-2015.08.10-22.13.42_MD590_2_0179_lossless_alignedTo_MD590-N47-2015.09.12-05.32.06_MD590_2_0140_cropped_features.hdf s3://mousebrainatlas-data/CSHL_patch_features/inception-bn-blue/MD590/MD590-IHC60-2015.08.10-22.13.42_MD590_2_0179_lossless_alignedTo_MD590-N47-2015.09.12-05.32.06_MD590_2_0140_cropped/MD590-IHC60-2015.08.10-22.13.42_MD590_2_0179_lossless_alignedTo_MD590-N47-2015.09.12-05.32.06_MD590_2_0140_cropped_features.hdf\n",
      "aws s3 cp /media/yuncong/BstemAtlasData/CSHL_patch_features/inception-bn-blue/MD590/MD590-IHC60-2015.08.10-22.13.42_MD590_2_0179_lossless_alignedTo_MD590-N47-2015.09.12-05.32.06_MD590_2_0140_cropped/MD590-IHC60-2015.08.10-22.13.42_MD590_2_0179_lossless_alignedTo_MD590-N47-2015.09.12-05.32.06_MD590_2_0140_cropped_patch_locations.txt s3://mousebrainatlas-data/CSHL_patch_features/inception-bn-blue/MD590/MD590-IHC60-2015.08.10-22.13.42_MD590_2_0179_lossless_alignedTo_MD590-N47-2015.09.12-05.32.06_MD590_2_0140_cropped/MD590-IHC60-2015.08.10-22.13.42_MD590_2_0179_lossless_alignedTo_MD590-N47-2015.09.12-05.32.06_MD590_2_0140_cropped_patch_locations.txt"
     ]
    },
    {
     "name": "stderr",
     "output_type": "stream",
     "text": [
      "Child returned 0\n",
      "2.61 seconds.\n",
      "Child returned"
     ]
    },
    {
     "name": "stdout",
     "output_type": "stream",
     "text": [
      "\n",
      "rm -rf /media/yuncong/BstemAtlasData/CSHL_data_processed/MD590/MD590_masks_alignedTo_MD590-N47-2015.09.12-05.32.06_MD590_2_0140_cropped/MD590-N60-2015.08.03-20.59.41_MD590_1_0180_mask_alignedTo_MD590-N47-2015.09.12-05.32.06_MD590_2_0140_cropped.png && mkdir -p /media/yuncong/BstemAtlasData/CSHL_data_processed/MD590/MD590_masks_alignedTo_MD590-N47-2015.09.12-05.32.06_MD590_2_0140_cropped"
     ]
    },
    {
     "name": "stderr",
     "output_type": "stream",
     "text": [
      " 0\n",
      "1.26 seconds.\n",
      "save: 5.86 seconds\n",
      "\n",
      "Section 283.\n",
      "Child returned"
     ]
    },
    {
     "name": "stdout",
     "output_type": "stream",
     "text": [
      "\n",
      "aws s3 cp s3://mousebrainatlas-data/CSHL_data_processed/MD590/MD590_masks_alignedTo_MD590-N47-2015.09.12-05.32.06_MD590_2_0140_cropped/MD590-N60-2015.08.03-20.59.41_MD590_1_0180_mask_alignedTo_MD590-N47-2015.09.12-05.32.06_MD590_2_0140_cropped.png /media/yuncong/BstemAtlasData/CSHL_data_processed/MD590/MD590_masks_alignedTo_MD590-N47-2015.09.12-05.32.06_MD590_2_0140_cropped/MD590-N60-2015.08.03-20.59.41_MD590_1_0180_mask_alignedTo_MD590-N47-2015.09.12-05.32.06_MD590_2_0140_cropped.png"
     ]
    },
    {
     "name": "stderr",
     "output_type": "stream",
     "text": [
      " 0\n",
      "Child returned 0\n",
      "1.75 seconds.\n",
      "locate patches: 1.77 seconds\n",
      "39879 samples.\n",
      "load image: 1.60 seconds\n",
      "extract patches: 13.08 seconds\n",
      "predict: 102.65 seconds\n"
     ]
    },
    {
     "name": "stdout",
     "output_type": "stream",
     "text": [
      "\n",
      "aws s3 cp /media/yuncong/BstemAtlasData/CSHL_patch_features/inception-bn-blue/MD590/MD590-N60-2015.08.03-20.59.41_MD590_1_0180_lossless_alignedTo_MD590-N47-2015.09.12-05.32.06_MD590_2_0140_cropped/MD590-N60-2015.08.03-20.59.41_MD590_1_0180_lossless_alignedTo_MD590-N47-2015.09.12-05.32.06_MD590_2_0140_cropped_features.hdf s3://mousebrainatlas-data/CSHL_patch_features/inception-bn-blue/MD590/MD590-N60-2015.08.03-20.59.41_MD590_1_0180_lossless_alignedTo_MD590-N47-2015.09.12-05.32.06_MD590_2_0140_cropped/MD590-N60-2015.08.03-20.59.41_MD590_1_0180_lossless_alignedTo_MD590-N47-2015.09.12-05.32.06_MD590_2_0140_cropped_features.hdf\n",
      "aws s3 cp /media/yuncong/BstemAtlasData/CSHL_patch_features/inception-bn-blue/MD590/MD590-N60-2015.08.03-20.59.41_MD590_1_0180_lossless_alignedTo_MD590-N47-2015.09.12-05.32.06_MD590_2_0140_cropped/MD590-N60-2015.08.03-20.59.41_MD590_1_0180_lossless_alignedTo_MD590-N47-2015.09.12-05.32.06_MD590_2_0140_cropped_patch_locations.txt s3://mousebrainatlas-data/CSHL_patch_features/inception-bn-blue/MD590/MD590-N60-2015.08.03-20.59.41_MD590_1_0180_lossless_alignedTo_MD590-N47-2015.09.12-05.32.06_MD590_2_0140_cropped/MD590-N60-2015.08.03-20.59.41_MD590_1_0180_lossless_alignedTo_MD590-N47-2015.09.12-05.32.06_MD590_2_0140_cropped_patch_locations.txt"
     ]
    },
    {
     "name": "stderr",
     "output_type": "stream",
     "text": [
      "Child returned 0\n",
      "2.52 seconds.\n",
      "Child returned"
     ]
    },
    {
     "name": "stdout",
     "output_type": "stream",
     "text": [
      "\n",
      "rm -rf /media/yuncong/BstemAtlasData/CSHL_data_processed/MD590/MD590_masks_alignedTo_MD590-N47-2015.09.12-05.32.06_MD590_2_0140_cropped/MD590-IHC60-2015.08.10-22.13.42_MD590_1_0180_mask_alignedTo_MD590-N47-2015.09.12-05.32.06_MD590_2_0140_cropped.png && mkdir -p /media/yuncong/BstemAtlasData/CSHL_data_processed/MD590/MD590_masks_alignedTo_MD590-N47-2015.09.12-05.32.06_MD590_2_0140_cropped"
     ]
    },
    {
     "name": "stderr",
     "output_type": "stream",
     "text": [
      " 0\n",
      "1.24 seconds.\n",
      "save: 5.71 seconds\n",
      "\n",
      "Section 284.\n",
      "Child returned"
     ]
    },
    {
     "name": "stdout",
     "output_type": "stream",
     "text": [
      "\n",
      "aws s3 cp s3://mousebrainatlas-data/CSHL_data_processed/MD590/MD590_masks_alignedTo_MD590-N47-2015.09.12-05.32.06_MD590_2_0140_cropped/MD590-IHC60-2015.08.10-22.13.42_MD590_1_0180_mask_alignedTo_MD590-N47-2015.09.12-05.32.06_MD590_2_0140_cropped.png /media/yuncong/BstemAtlasData/CSHL_data_processed/MD590/MD590_masks_alignedTo_MD590-N47-2015.09.12-05.32.06_MD590_2_0140_cropped/MD590-IHC60-2015.08.10-22.13.42_MD590_1_0180_mask_alignedTo_MD590-N47-2015.09.12-05.32.06_MD590_2_0140_cropped.png"
     ]
    },
    {
     "name": "stderr",
     "output_type": "stream",
     "text": [
      " 0\n",
      "Child returned 0\n",
      "2.69 seconds.\n",
      "locate patches: 2.72 seconds\n",
      "40019 samples.\n",
      "load image: 1.56 seconds\n",
      "extract patches: 12.90 seconds\n",
      "predict: 103.40 seconds\n"
     ]
    },
    {
     "name": "stdout",
     "output_type": "stream",
     "text": [
      "\n",
      "aws s3 cp /media/yuncong/BstemAtlasData/CSHL_patch_features/inception-bn-blue/MD590/MD590-IHC60-2015.08.10-22.13.42_MD590_1_0180_lossless_alignedTo_MD590-N47-2015.09.12-05.32.06_MD590_2_0140_cropped/MD590-IHC60-2015.08.10-22.13.42_MD590_1_0180_lossless_alignedTo_MD590-N47-2015.09.12-05.32.06_MD590_2_0140_cropped_features.hdf s3://mousebrainatlas-data/CSHL_patch_features/inception-bn-blue/MD590/MD590-IHC60-2015.08.10-22.13.42_MD590_1_0180_lossless_alignedTo_MD590-N47-2015.09.12-05.32.06_MD590_2_0140_cropped/MD590-IHC60-2015.08.10-22.13.42_MD590_1_0180_lossless_alignedTo_MD590-N47-2015.09.12-05.32.06_MD590_2_0140_cropped_features.hdf\n",
      "aws s3 cp /media/yuncong/BstemAtlasData/CSHL_patch_features/inception-bn-blue/MD590/MD590-IHC60-2015.08.10-22.13.42_MD590_1_0180_lossless_alignedTo_MD590-N47-2015.09.12-05.32.06_MD590_2_0140_cropped/MD590-IHC60-2015.08.10-22.13.42_MD590_1_0180_lossless_alignedTo_MD590-N47-2015.09.12-05.32.06_MD590_2_0140_cropped_patch_locations.txt s3://mousebrainatlas-data/CSHL_patch_features/inception-bn-blue/MD590/MD590-IHC60-2015.08.10-22.13.42_MD590_1_0180_lossless_alignedTo_MD590-N47-2015.09.12-05.32.06_MD590_2_0140_cropped/MD590-IHC60-2015.08.10-22.13.42_MD590_1_0180_lossless_alignedTo_MD590-N47-2015.09.12-05.32.06_MD590_2_0140_cropped_patch_locations.txt"
     ]
    },
    {
     "name": "stderr",
     "output_type": "stream",
     "text": [
      "Child returned 0\n",
      "2.44 seconds.\n",
      "Child returned"
     ]
    },
    {
     "name": "stdout",
     "output_type": "stream",
     "text": [
      "\n",
      "rm -rf /media/yuncong/BstemAtlasData/CSHL_data_processed/MD590/MD590_masks_alignedTo_MD590-N47-2015.09.12-05.32.06_MD590_2_0140_cropped/MD590-N61-2015.08.03-21.04.14_MD590_3_0181_mask_alignedTo_MD590-N47-2015.09.12-05.32.06_MD590_2_0140_cropped.png && mkdir -p /media/yuncong/BstemAtlasData/CSHL_data_processed/MD590/MD590_masks_alignedTo_MD590-N47-2015.09.12-05.32.06_MD590_2_0140_cropped"
     ]
    },
    {
     "name": "stderr",
     "output_type": "stream",
     "text": [
      " 0\n",
      "1.29 seconds.\n",
      "save: 5.74 seconds\n",
      "\n",
      "Section 285.\n",
      "Child returned"
     ]
    },
    {
     "name": "stdout",
     "output_type": "stream",
     "text": [
      "\n",
      "aws s3 cp s3://mousebrainatlas-data/CSHL_data_processed/MD590/MD590_masks_alignedTo_MD590-N47-2015.09.12-05.32.06_MD590_2_0140_cropped/MD590-N61-2015.08.03-21.04.14_MD590_3_0181_mask_alignedTo_MD590-N47-2015.09.12-05.32.06_MD590_2_0140_cropped.png /media/yuncong/BstemAtlasData/CSHL_data_processed/MD590/MD590_masks_alignedTo_MD590-N47-2015.09.12-05.32.06_MD590_2_0140_cropped/MD590-N61-2015.08.03-21.04.14_MD590_3_0181_mask_alignedTo_MD590-N47-2015.09.12-05.32.06_MD590_2_0140_cropped.png"
     ]
    },
    {
     "name": "stderr",
     "output_type": "stream",
     "text": [
      " 0\n",
      "Child returned 0\n",
      "1.71 seconds.\n",
      "locate patches: 1.74 seconds\n",
      "39706 samples.\n",
      "load image: 1.49 seconds\n",
      "extract patches: 12.94 seconds\n",
      "predict: 102.46 seconds\n"
     ]
    },
    {
     "name": "stdout",
     "output_type": "stream",
     "text": [
      "\n",
      "aws s3 cp /media/yuncong/BstemAtlasData/CSHL_patch_features/inception-bn-blue/MD590/MD590-N61-2015.08.03-21.04.14_MD590_3_0181_lossless_alignedTo_MD590-N47-2015.09.12-05.32.06_MD590_2_0140_cropped/MD590-N61-2015.08.03-21.04.14_MD590_3_0181_lossless_alignedTo_MD590-N47-2015.09.12-05.32.06_MD590_2_0140_cropped_features.hdf s3://mousebrainatlas-data/CSHL_patch_features/inception-bn-blue/MD590/MD590-N61-2015.08.03-21.04.14_MD590_3_0181_lossless_alignedTo_MD590-N47-2015.09.12-05.32.06_MD590_2_0140_cropped/MD590-N61-2015.08.03-21.04.14_MD590_3_0181_lossless_alignedTo_MD590-N47-2015.09.12-05.32.06_MD590_2_0140_cropped_features.hdf\n",
      "aws s3 cp /media/yuncong/BstemAtlasData/CSHL_patch_features/inception-bn-blue/MD590/MD590-N61-2015.08.03-21.04.14_MD590_3_0181_lossless_alignedTo_MD590-N47-2015.09.12-05.32.06_MD590_2_0140_cropped/MD590-N61-2015.08.03-21.04.14_MD590_3_0181_lossless_alignedTo_MD590-N47-2015.09.12-05.32.06_MD590_2_0140_cropped_patch_locations.txt s3://mousebrainatlas-data/CSHL_patch_features/inception-bn-blue/MD590/MD590-N61-2015.08.03-21.04.14_MD590_3_0181_lossless_alignedTo_MD590-N47-2015.09.12-05.32.06_MD590_2_0140_cropped/MD590-N61-2015.08.03-21.04.14_MD590_3_0181_lossless_alignedTo_MD590-N47-2015.09.12-05.32.06_MD590_2_0140_cropped_patch_locations.txt"
     ]
    },
    {
     "name": "stderr",
     "output_type": "stream",
     "text": [
      "Child returned 0\n",
      "2.52 seconds.\n",
      "Child returned"
     ]
    },
    {
     "name": "stdout",
     "output_type": "stream",
     "text": [
      "\n",
      "rm -rf /media/yuncong/BstemAtlasData/CSHL_data_processed/MD590/MD590_masks_alignedTo_MD590-N47-2015.09.12-05.32.06_MD590_2_0140_cropped/MD590-IHC61-2015.08.10-22.18.21_MD590_3_0181_mask_alignedTo_MD590-N47-2015.09.12-05.32.06_MD590_2_0140_cropped.png && mkdir -p /media/yuncong/BstemAtlasData/CSHL_data_processed/MD590/MD590_masks_alignedTo_MD590-N47-2015.09.12-05.32.06_MD590_2_0140_cropped"
     ]
    },
    {
     "name": "stderr",
     "output_type": "stream",
     "text": [
      " 0\n",
      "1.26 seconds.\n",
      "save: 5.71 seconds\n",
      "\n",
      "Section 286.\n",
      "Child returned"
     ]
    },
    {
     "name": "stdout",
     "output_type": "stream",
     "text": [
      "\n",
      "aws s3 cp s3://mousebrainatlas-data/CSHL_data_processed/MD590/MD590_masks_alignedTo_MD590-N47-2015.09.12-05.32.06_MD590_2_0140_cropped/MD590-IHC61-2015.08.10-22.18.21_MD590_3_0181_mask_alignedTo_MD590-N47-2015.09.12-05.32.06_MD590_2_0140_cropped.png /media/yuncong/BstemAtlasData/CSHL_data_processed/MD590/MD590_masks_alignedTo_MD590-N47-2015.09.12-05.32.06_MD590_2_0140_cropped/MD590-IHC61-2015.08.10-22.18.21_MD590_3_0181_mask_alignedTo_MD590-N47-2015.09.12-05.32.06_MD590_2_0140_cropped.png"
     ]
    },
    {
     "name": "stderr",
     "output_type": "stream",
     "text": [
      " 0\n",
      "Child returned 0\n",
      "1.75 seconds.\n",
      "locate patches: 1.78 seconds\n",
      "39657 samples.\n",
      "load image: 1.58 seconds\n",
      "extract patches: 13.19 seconds\n",
      "predict: 102.07 seconds\n"
     ]
    },
    {
     "name": "stdout",
     "output_type": "stream",
     "text": [
      "\n",
      "aws s3 cp /media/yuncong/BstemAtlasData/CSHL_patch_features/inception-bn-blue/MD590/MD590-IHC61-2015.08.10-22.18.21_MD590_3_0181_lossless_alignedTo_MD590-N47-2015.09.12-05.32.06_MD590_2_0140_cropped/MD590-IHC61-2015.08.10-22.18.21_MD590_3_0181_lossless_alignedTo_MD590-N47-2015.09.12-05.32.06_MD590_2_0140_cropped_features.hdf s3://mousebrainatlas-data/CSHL_patch_features/inception-bn-blue/MD590/MD590-IHC61-2015.08.10-22.18.21_MD590_3_0181_lossless_alignedTo_MD590-N47-2015.09.12-05.32.06_MD590_2_0140_cropped/MD590-IHC61-2015.08.10-22.18.21_MD590_3_0181_lossless_alignedTo_MD590-N47-2015.09.12-05.32.06_MD590_2_0140_cropped_features.hdf\n",
      "aws s3 cp /media/yuncong/BstemAtlasData/CSHL_patch_features/inception-bn-blue/MD590/MD590-IHC61-2015.08.10-22.18.21_MD590_3_0181_lossless_alignedTo_MD590-N47-2015.09.12-05.32.06_MD590_2_0140_cropped/MD590-IHC61-2015.08.10-22.18.21_MD590_3_0181_lossless_alignedTo_MD590-N47-2015.09.12-05.32.06_MD590_2_0140_cropped_patch_locations.txt s3://mousebrainatlas-data/CSHL_patch_features/inception-bn-blue/MD590/MD590-IHC61-2015.08.10-22.18.21_MD590_3_0181_lossless_alignedTo_MD590-N47-2015.09.12-05.32.06_MD590_2_0140_cropped/MD590-IHC61-2015.08.10-22.18.21_MD590_3_0181_lossless_alignedTo_MD590-N47-2015.09.12-05.32.06_MD590_2_0140_cropped_patch_locations.txt"
     ]
    },
    {
     "name": "stderr",
     "output_type": "stream",
     "text": [
      "Child returned 0\n",
      "3.60 seconds.\n",
      "Child returned"
     ]
    },
    {
     "name": "stdout",
     "output_type": "stream",
     "text": [
      "\n",
      "rm -rf /media/yuncong/BstemAtlasData/CSHL_data_processed/MD590/MD590_masks_alignedTo_MD590-N47-2015.09.12-05.32.06_MD590_2_0140_cropped/MD590-N61-2015.08.03-21.04.14_MD590_2_0182_mask_alignedTo_MD590-N47-2015.09.12-05.32.06_MD590_2_0140_cropped.png && mkdir -p /media/yuncong/BstemAtlasData/CSHL_data_processed/MD590/MD590_masks_alignedTo_MD590-N47-2015.09.12-05.32.06_MD590_2_0140_cropped"
     ]
    },
    {
     "name": "stderr",
     "output_type": "stream",
     "text": [
      " 0\n",
      "1.26 seconds.\n",
      "save: 6.79 seconds\n",
      "\n",
      "Section 287.\n",
      "Child returned"
     ]
    },
    {
     "name": "stdout",
     "output_type": "stream",
     "text": [
      "\n",
      "aws s3 cp s3://mousebrainatlas-data/CSHL_data_processed/MD590/MD590_masks_alignedTo_MD590-N47-2015.09.12-05.32.06_MD590_2_0140_cropped/MD590-N61-2015.08.03-21.04.14_MD590_2_0182_mask_alignedTo_MD590-N47-2015.09.12-05.32.06_MD590_2_0140_cropped.png /media/yuncong/BstemAtlasData/CSHL_data_processed/MD590/MD590_masks_alignedTo_MD590-N47-2015.09.12-05.32.06_MD590_2_0140_cropped/MD590-N61-2015.08.03-21.04.14_MD590_2_0182_mask_alignedTo_MD590-N47-2015.09.12-05.32.06_MD590_2_0140_cropped.png"
     ]
    },
    {
     "name": "stderr",
     "output_type": "stream",
     "text": [
      " 0\n",
      "Child returned 0\n",
      "1.98 seconds.\n",
      "locate patches: 2.00 seconds\n",
      "39337 samples.\n",
      "load image: 1.78 seconds\n",
      "extract patches: 13.20 seconds\n",
      "predict: 101.24 seconds\n"
     ]
    },
    {
     "name": "stdout",
     "output_type": "stream",
     "text": [
      "\n",
      "aws s3 cp /media/yuncong/BstemAtlasData/CSHL_patch_features/inception-bn-blue/MD590/MD590-N61-2015.08.03-21.04.14_MD590_2_0182_lossless_alignedTo_MD590-N47-2015.09.12-05.32.06_MD590_2_0140_cropped/MD590-N61-2015.08.03-21.04.14_MD590_2_0182_lossless_alignedTo_MD590-N47-2015.09.12-05.32.06_MD590_2_0140_cropped_features.hdf s3://mousebrainatlas-data/CSHL_patch_features/inception-bn-blue/MD590/MD590-N61-2015.08.03-21.04.14_MD590_2_0182_lossless_alignedTo_MD590-N47-2015.09.12-05.32.06_MD590_2_0140_cropped/MD590-N61-2015.08.03-21.04.14_MD590_2_0182_lossless_alignedTo_MD590-N47-2015.09.12-05.32.06_MD590_2_0140_cropped_features.hdf\n",
      "aws s3 cp /media/yuncong/BstemAtlasData/CSHL_patch_features/inception-bn-blue/MD590/MD590-N61-2015.08.03-21.04.14_MD590_2_0182_lossless_alignedTo_MD590-N47-2015.09.12-05.32.06_MD590_2_0140_cropped/MD590-N61-2015.08.03-21.04.14_MD590_2_0182_lossless_alignedTo_MD590-N47-2015.09.12-05.32.06_MD590_2_0140_cropped_patch_locations.txt s3://mousebrainatlas-data/CSHL_patch_features/inception-bn-blue/MD590/MD590-N61-2015.08.03-21.04.14_MD590_2_0182_lossless_alignedTo_MD590-N47-2015.09.12-05.32.06_MD590_2_0140_cropped/MD590-N61-2015.08.03-21.04.14_MD590_2_0182_lossless_alignedTo_MD590-N47-2015.09.12-05.32.06_MD590_2_0140_cropped_patch_locations.txt"
     ]
    },
    {
     "name": "stderr",
     "output_type": "stream",
     "text": [
      "Child returned 0\n",
      "3.10 seconds.\n",
      "Child returned"
     ]
    },
    {
     "name": "stdout",
     "output_type": "stream",
     "text": [
      "\n",
      "rm -rf /media/yuncong/BstemAtlasData/CSHL_data_processed/MD590/MD590_masks_alignedTo_MD590-N47-2015.09.12-05.32.06_MD590_2_0140_cropped/MD590-IHC61-2015.08.10-22.18.21_MD590_2_0182_mask_alignedTo_MD590-N47-2015.09.12-05.32.06_MD590_2_0140_cropped.png && mkdir -p /media/yuncong/BstemAtlasData/CSHL_data_processed/MD590/MD590_masks_alignedTo_MD590-N47-2015.09.12-05.32.06_MD590_2_0140_cropped"
     ]
    },
    {
     "name": "stderr",
     "output_type": "stream",
     "text": [
      " 0\n",
      "1.25 seconds.\n",
      "save: 6.25 seconds\n",
      "\n",
      "Section 288.\n",
      "Child returned"
     ]
    },
    {
     "name": "stdout",
     "output_type": "stream",
     "text": [
      "\n",
      "aws s3 cp s3://mousebrainatlas-data/CSHL_data_processed/MD590/MD590_masks_alignedTo_MD590-N47-2015.09.12-05.32.06_MD590_2_0140_cropped/MD590-IHC61-2015.08.10-22.18.21_MD590_2_0182_mask_alignedTo_MD590-N47-2015.09.12-05.32.06_MD590_2_0140_cropped.png /media/yuncong/BstemAtlasData/CSHL_data_processed/MD590/MD590_masks_alignedTo_MD590-N47-2015.09.12-05.32.06_MD590_2_0140_cropped/MD590-IHC61-2015.08.10-22.18.21_MD590_2_0182_mask_alignedTo_MD590-N47-2015.09.12-05.32.06_MD590_2_0140_cropped.png"
     ]
    },
    {
     "name": "stderr",
     "output_type": "stream",
     "text": [
      " 0\n",
      "Child returned 0\n",
      "1.66 seconds.\n",
      "locate patches: 1.68 seconds\n",
      "39158 samples.\n",
      "load image: 1.51 seconds\n",
      "extract patches: 12.94 seconds\n",
      "predict: 100.42 seconds\n"
     ]
    },
    {
     "name": "stdout",
     "output_type": "stream",
     "text": [
      "\n",
      "aws s3 cp /media/yuncong/BstemAtlasData/CSHL_patch_features/inception-bn-blue/MD590/MD590-IHC61-2015.08.10-22.18.21_MD590_2_0182_lossless_alignedTo_MD590-N47-2015.09.12-05.32.06_MD590_2_0140_cropped/MD590-IHC61-2015.08.10-22.18.21_MD590_2_0182_lossless_alignedTo_MD590-N47-2015.09.12-05.32.06_MD590_2_0140_cropped_features.hdf s3://mousebrainatlas-data/CSHL_patch_features/inception-bn-blue/MD590/MD590-IHC61-2015.08.10-22.18.21_MD590_2_0182_lossless_alignedTo_MD590-N47-2015.09.12-05.32.06_MD590_2_0140_cropped/MD590-IHC61-2015.08.10-22.18.21_MD590_2_0182_lossless_alignedTo_MD590-N47-2015.09.12-05.32.06_MD590_2_0140_cropped_features.hdf\n",
      "aws s3 cp /media/yuncong/BstemAtlasData/CSHL_patch_features/inception-bn-blue/MD590/MD590-IHC61-2015.08.10-22.18.21_MD590_2_0182_lossless_alignedTo_MD590-N47-2015.09.12-05.32.06_MD590_2_0140_cropped/MD590-IHC61-2015.08.10-22.18.21_MD590_2_0182_lossless_alignedTo_MD590-N47-2015.09.12-05.32.06_MD590_2_0140_cropped_patch_locations.txt s3://mousebrainatlas-data/CSHL_patch_features/inception-bn-blue/MD590/MD590-IHC61-2015.08.10-22.18.21_MD590_2_0182_lossless_alignedTo_MD590-N47-2015.09.12-05.32.06_MD590_2_0140_cropped/MD590-IHC61-2015.08.10-22.18.21_MD590_2_0182_lossless_alignedTo_MD590-N47-2015.09.12-05.32.06_MD590_2_0140_cropped_patch_locations.txt"
     ]
    },
    {
     "name": "stderr",
     "output_type": "stream",
     "text": [
      "Child returned 0\n",
      "2.42 seconds.\n",
      "Child returned"
     ]
    },
    {
     "name": "stdout",
     "output_type": "stream",
     "text": [
      "\n",
      "rm -rf /media/yuncong/BstemAtlasData/CSHL_data_processed/MD590/MD590_masks_alignedTo_MD590-N47-2015.09.12-05.32.06_MD590_2_0140_cropped/MD590-N61-2015.08.03-21.04.14_MD590_1_0183_mask_alignedTo_MD590-N47-2015.09.12-05.32.06_MD590_2_0140_cropped.png && mkdir -p /media/yuncong/BstemAtlasData/CSHL_data_processed/MD590/MD590_masks_alignedTo_MD590-N47-2015.09.12-05.32.06_MD590_2_0140_cropped"
     ]
    },
    {
     "name": "stderr",
     "output_type": "stream",
     "text": [
      " 0\n",
      "1.32 seconds.\n",
      "save: 5.69 seconds\n",
      "\n",
      "Section 289.\n",
      "Child returned"
     ]
    },
    {
     "name": "stdout",
     "output_type": "stream",
     "text": [
      "\n",
      "aws s3 cp s3://mousebrainatlas-data/CSHL_data_processed/MD590/MD590_masks_alignedTo_MD590-N47-2015.09.12-05.32.06_MD590_2_0140_cropped/MD590-N61-2015.08.03-21.04.14_MD590_1_0183_mask_alignedTo_MD590-N47-2015.09.12-05.32.06_MD590_2_0140_cropped.png /media/yuncong/BstemAtlasData/CSHL_data_processed/MD590/MD590_masks_alignedTo_MD590-N47-2015.09.12-05.32.06_MD590_2_0140_cropped/MD590-N61-2015.08.03-21.04.14_MD590_1_0183_mask_alignedTo_MD590-N47-2015.09.12-05.32.06_MD590_2_0140_cropped.png"
     ]
    },
    {
     "name": "stderr",
     "output_type": "stream",
     "text": [
      " 0\n",
      "Child returned 0\n",
      "1.69 seconds.\n",
      "locate patches: 1.71 seconds\n",
      "38521 samples.\n",
      "load image: 1.43 seconds\n",
      "extract patches: 12.38 seconds\n",
      "predict: 97.48 seconds\n"
     ]
    },
    {
     "name": "stdout",
     "output_type": "stream",
     "text": [
      "\n",
      "aws s3 cp /media/yuncong/BstemAtlasData/CSHL_patch_features/inception-bn-blue/MD590/MD590-N61-2015.08.03-21.04.14_MD590_1_0183_lossless_alignedTo_MD590-N47-2015.09.12-05.32.06_MD590_2_0140_cropped/MD590-N61-2015.08.03-21.04.14_MD590_1_0183_lossless_alignedTo_MD590-N47-2015.09.12-05.32.06_MD590_2_0140_cropped_features.hdf s3://mousebrainatlas-data/CSHL_patch_features/inception-bn-blue/MD590/MD590-N61-2015.08.03-21.04.14_MD590_1_0183_lossless_alignedTo_MD590-N47-2015.09.12-05.32.06_MD590_2_0140_cropped/MD590-N61-2015.08.03-21.04.14_MD590_1_0183_lossless_alignedTo_MD590-N47-2015.09.12-05.32.06_MD590_2_0140_cropped_features.hdf\n",
      "aws s3 cp /media/yuncong/BstemAtlasData/CSHL_patch_features/inception-bn-blue/MD590/MD590-N61-2015.08.03-21.04.14_MD590_1_0183_lossless_alignedTo_MD590-N47-2015.09.12-05.32.06_MD590_2_0140_cropped/MD590-N61-2015.08.03-21.04.14_MD590_1_0183_lossless_alignedTo_MD590-N47-2015.09.12-05.32.06_MD590_2_0140_cropped_patch_locations.txt s3://mousebrainatlas-data/CSHL_patch_features/inception-bn-blue/MD590/MD590-N61-2015.08.03-21.04.14_MD590_1_0183_lossless_alignedTo_MD590-N47-2015.09.12-05.32.06_MD590_2_0140_cropped/MD590-N61-2015.08.03-21.04.14_MD590_1_0183_lossless_alignedTo_MD590-N47-2015.09.12-05.32.06_MD590_2_0140_cropped_patch_locations.txt"
     ]
    },
    {
     "name": "stderr",
     "output_type": "stream",
     "text": [
      "Child returned 0\n",
      "2.36 seconds.\n",
      "Child returned"
     ]
    },
    {
     "name": "stdout",
     "output_type": "stream",
     "text": [
      "\n",
      "rm -rf /media/yuncong/BstemAtlasData/CSHL_data_processed/MD590/MD590_masks_alignedTo_MD590-N47-2015.09.12-05.32.06_MD590_2_0140_cropped/MD590-IHC61-2015.08.10-22.18.21_MD590_1_0183_mask_alignedTo_MD590-N47-2015.09.12-05.32.06_MD590_2_0140_cropped.png && mkdir -p /media/yuncong/BstemAtlasData/CSHL_data_processed/MD590/MD590_masks_alignedTo_MD590-N47-2015.09.12-05.32.06_MD590_2_0140_cropped"
     ]
    },
    {
     "name": "stderr",
     "output_type": "stream",
     "text": [
      " 0\n",
      "1.31 seconds.\n",
      "save: 5.66 seconds\n",
      "\n",
      "Section 290.\n",
      "Child returned"
     ]
    },
    {
     "name": "stdout",
     "output_type": "stream",
     "text": [
      "\n",
      "aws s3 cp s3://mousebrainatlas-data/CSHL_data_processed/MD590/MD590_masks_alignedTo_MD590-N47-2015.09.12-05.32.06_MD590_2_0140_cropped/MD590-IHC61-2015.08.10-22.18.21_MD590_1_0183_mask_alignedTo_MD590-N47-2015.09.12-05.32.06_MD590_2_0140_cropped.png /media/yuncong/BstemAtlasData/CSHL_data_processed/MD590/MD590_masks_alignedTo_MD590-N47-2015.09.12-05.32.06_MD590_2_0140_cropped/MD590-IHC61-2015.08.10-22.18.21_MD590_1_0183_mask_alignedTo_MD590-N47-2015.09.12-05.32.06_MD590_2_0140_cropped.png"
     ]
    },
    {
     "name": "stderr",
     "output_type": "stream",
     "text": [
      " 0\n",
      "Child returned 0\n",
      "1.64 seconds.\n",
      "locate patches: 1.66 seconds\n",
      "38457 samples.\n",
      "load image: 1.54 seconds\n",
      "extract patches: 12.98 seconds\n",
      "predict: 101.49 seconds\n"
     ]
    },
    {
     "name": "stdout",
     "output_type": "stream",
     "text": [
      "\n",
      "aws s3 cp /media/yuncong/BstemAtlasData/CSHL_patch_features/inception-bn-blue/MD590/MD590-IHC61-2015.08.10-22.18.21_MD590_1_0183_lossless_alignedTo_MD590-N47-2015.09.12-05.32.06_MD590_2_0140_cropped/MD590-IHC61-2015.08.10-22.18.21_MD590_1_0183_lossless_alignedTo_MD590-N47-2015.09.12-05.32.06_MD590_2_0140_cropped_features.hdf s3://mousebrainatlas-data/CSHL_patch_features/inception-bn-blue/MD590/MD590-IHC61-2015.08.10-22.18.21_MD590_1_0183_lossless_alignedTo_MD590-N47-2015.09.12-05.32.06_MD590_2_0140_cropped/MD590-IHC61-2015.08.10-22.18.21_MD590_1_0183_lossless_alignedTo_MD590-N47-2015.09.12-05.32.06_MD590_2_0140_cropped_features.hdf\n",
      "aws s3 cp /media/yuncong/BstemAtlasData/CSHL_patch_features/inception-bn-blue/MD590/MD590-IHC61-2015.08.10-22.18.21_MD590_1_0183_lossless_alignedTo_MD590-N47-2015.09.12-05.32.06_MD590_2_0140_cropped/MD590-IHC61-2015.08.10-22.18.21_MD590_1_0183_lossless_alignedTo_MD590-N47-2015.09.12-05.32.06_MD590_2_0140_cropped_patch_locations.txt s3://mousebrainatlas-data/CSHL_patch_features/inception-bn-blue/MD590/MD590-IHC61-2015.08.10-22.18.21_MD590_1_0183_lossless_alignedTo_MD590-N47-2015.09.12-05.32.06_MD590_2_0140_cropped/MD590-IHC61-2015.08.10-22.18.21_MD590_1_0183_lossless_alignedTo_MD590-N47-2015.09.12-05.32.06_MD590_2_0140_cropped_patch_locations.txt"
     ]
    },
    {
     "name": "stderr",
     "output_type": "stream",
     "text": [
      "Child returned 0\n",
      "2.36 seconds.\n",
      "Child returned"
     ]
    },
    {
     "name": "stdout",
     "output_type": "stream",
     "text": [
      "\n",
      "rm -rf /media/yuncong/BstemAtlasData/CSHL_data_processed/MD590/MD590_masks_alignedTo_MD590-N47-2015.09.12-05.32.06_MD590_2_0140_cropped/MD590-N62-2015.08.03-21.08.37_MD590_3_0184_mask_alignedTo_MD590-N47-2015.09.12-05.32.06_MD590_2_0140_cropped.png && mkdir -p /media/yuncong/BstemAtlasData/CSHL_data_processed/MD590/MD590_masks_alignedTo_MD590-N47-2015.09.12-05.32.06_MD590_2_0140_cropped"
     ]
    },
    {
     "name": "stderr",
     "output_type": "stream",
     "text": [
      " 0\n",
      "1.43 seconds.\n",
      "save: 5.72 seconds\n",
      "\n",
      "Section 291.\n",
      "Child returned"
     ]
    },
    {
     "name": "stdout",
     "output_type": "stream",
     "text": [
      "\n",
      "aws s3 cp s3://mousebrainatlas-data/CSHL_data_processed/MD590/MD590_masks_alignedTo_MD590-N47-2015.09.12-05.32.06_MD590_2_0140_cropped/MD590-N62-2015.08.03-21.08.37_MD590_3_0184_mask_alignedTo_MD590-N47-2015.09.12-05.32.06_MD590_2_0140_cropped.png /media/yuncong/BstemAtlasData/CSHL_data_processed/MD590/MD590_masks_alignedTo_MD590-N47-2015.09.12-05.32.06_MD590_2_0140_cropped/MD590-N62-2015.08.03-21.08.37_MD590_3_0184_mask_alignedTo_MD590-N47-2015.09.12-05.32.06_MD590_2_0140_cropped.png"
     ]
    },
    {
     "name": "stderr",
     "output_type": "stream",
     "text": [
      " 0\n",
      "Child returned 0\n",
      "1.79 seconds.\n",
      "locate patches: 1.81 seconds\n",
      "38374 samples.\n",
      "load image: 1.65 seconds\n",
      "extract patches: 12.84 seconds\n",
      "predict: 98.37 seconds\n"
     ]
    },
    {
     "name": "stdout",
     "output_type": "stream",
     "text": [
      "\n",
      "aws s3 cp /media/yuncong/BstemAtlasData/CSHL_patch_features/inception-bn-blue/MD590/MD590-N62-2015.08.03-21.08.37_MD590_3_0184_lossless_alignedTo_MD590-N47-2015.09.12-05.32.06_MD590_2_0140_cropped/MD590-N62-2015.08.03-21.08.37_MD590_3_0184_lossless_alignedTo_MD590-N47-2015.09.12-05.32.06_MD590_2_0140_cropped_features.hdf s3://mousebrainatlas-data/CSHL_patch_features/inception-bn-blue/MD590/MD590-N62-2015.08.03-21.08.37_MD590_3_0184_lossless_alignedTo_MD590-N47-2015.09.12-05.32.06_MD590_2_0140_cropped/MD590-N62-2015.08.03-21.08.37_MD590_3_0184_lossless_alignedTo_MD590-N47-2015.09.12-05.32.06_MD590_2_0140_cropped_features.hdf\n",
      "aws s3 cp /media/yuncong/BstemAtlasData/CSHL_patch_features/inception-bn-blue/MD590/MD590-N62-2015.08.03-21.08.37_MD590_3_0184_lossless_alignedTo_MD590-N47-2015.09.12-05.32.06_MD590_2_0140_cropped/MD590-N62-2015.08.03-21.08.37_MD590_3_0184_lossless_alignedTo_MD590-N47-2015.09.12-05.32.06_MD590_2_0140_cropped_patch_locations.txt s3://mousebrainatlas-data/CSHL_patch_features/inception-bn-blue/MD590/MD590-N62-2015.08.03-21.08.37_MD590_3_0184_lossless_alignedTo_MD590-N47-2015.09.12-05.32.06_MD590_2_0140_cropped/MD590-N62-2015.08.03-21.08.37_MD590_3_0184_lossless_alignedTo_MD590-N47-2015.09.12-05.32.06_MD590_2_0140_cropped_patch_locations.txt"
     ]
    },
    {
     "name": "stderr",
     "output_type": "stream",
     "text": [
      "Child returned 0\n",
      "2.52 seconds.\n",
      "Child returned"
     ]
    },
    {
     "name": "stdout",
     "output_type": "stream",
     "text": [
      "\n",
      "rm -rf /media/yuncong/BstemAtlasData/CSHL_data_processed/MD590/MD590_masks_alignedTo_MD590-N47-2015.09.12-05.32.06_MD590_2_0140_cropped/MD590-IHC62-2015.08.10-22.22.52_MD590_3_0184_mask_alignedTo_MD590-N47-2015.09.12-05.32.06_MD590_2_0140_cropped.png && mkdir -p /media/yuncong/BstemAtlasData/CSHL_data_processed/MD590/MD590_masks_alignedTo_MD590-N47-2015.09.12-05.32.06_MD590_2_0140_cropped"
     ]
    },
    {
     "name": "stderr",
     "output_type": "stream",
     "text": [
      " 0\n",
      "1.26 seconds.\n",
      "save: 5.69 seconds\n",
      "\n",
      "Section 292.\n",
      "Child returned"
     ]
    },
    {
     "name": "stdout",
     "output_type": "stream",
     "text": [
      "\n",
      "aws s3 cp s3://mousebrainatlas-data/CSHL_data_processed/MD590/MD590_masks_alignedTo_MD590-N47-2015.09.12-05.32.06_MD590_2_0140_cropped/MD590-IHC62-2015.08.10-22.22.52_MD590_3_0184_mask_alignedTo_MD590-N47-2015.09.12-05.32.06_MD590_2_0140_cropped.png /media/yuncong/BstemAtlasData/CSHL_data_processed/MD590/MD590_masks_alignedTo_MD590-N47-2015.09.12-05.32.06_MD590_2_0140_cropped/MD590-IHC62-2015.08.10-22.22.52_MD590_3_0184_mask_alignedTo_MD590-N47-2015.09.12-05.32.06_MD590_2_0140_cropped.png"
     ]
    },
    {
     "name": "stderr",
     "output_type": "stream",
     "text": [
      " 0\n",
      "Child returned 0\n",
      "1.73 seconds.\n",
      "locate patches: 1.75 seconds\n",
      "38475 samples.\n",
      "load image: 1.52 seconds\n",
      "extract patches: 12.89 seconds\n",
      "predict: 98.80 seconds\n"
     ]
    },
    {
     "name": "stdout",
     "output_type": "stream",
     "text": [
      "\n",
      "aws s3 cp /media/yuncong/BstemAtlasData/CSHL_patch_features/inception-bn-blue/MD590/MD590-IHC62-2015.08.10-22.22.52_MD590_3_0184_lossless_alignedTo_MD590-N47-2015.09.12-05.32.06_MD590_2_0140_cropped/MD590-IHC62-2015.08.10-22.22.52_MD590_3_0184_lossless_alignedTo_MD590-N47-2015.09.12-05.32.06_MD590_2_0140_cropped_features.hdf s3://mousebrainatlas-data/CSHL_patch_features/inception-bn-blue/MD590/MD590-IHC62-2015.08.10-22.22.52_MD590_3_0184_lossless_alignedTo_MD590-N47-2015.09.12-05.32.06_MD590_2_0140_cropped/MD590-IHC62-2015.08.10-22.22.52_MD590_3_0184_lossless_alignedTo_MD590-N47-2015.09.12-05.32.06_MD590_2_0140_cropped_features.hdf\n",
      "aws s3 cp /media/yuncong/BstemAtlasData/CSHL_patch_features/inception-bn-blue/MD590/MD590-IHC62-2015.08.10-22.22.52_MD590_3_0184_lossless_alignedTo_MD590-N47-2015.09.12-05.32.06_MD590_2_0140_cropped/MD590-IHC62-2015.08.10-22.22.52_MD590_3_0184_lossless_alignedTo_MD590-N47-2015.09.12-05.32.06_MD590_2_0140_cropped_patch_locations.txt s3://mousebrainatlas-data/CSHL_patch_features/inception-bn-blue/MD590/MD590-IHC62-2015.08.10-22.22.52_MD590_3_0184_lossless_alignedTo_MD590-N47-2015.09.12-05.32.06_MD590_2_0140_cropped/MD590-IHC62-2015.08.10-22.22.52_MD590_3_0184_lossless_alignedTo_MD590-N47-2015.09.12-05.32.06_MD590_2_0140_cropped_patch_locations.txt"
     ]
    },
    {
     "name": "stderr",
     "output_type": "stream",
     "text": [
      "Child returned 0\n",
      "2.46 seconds.\n",
      "Child returned"
     ]
    },
    {
     "name": "stdout",
     "output_type": "stream",
     "text": [
      "\n",
      "rm -rf /media/yuncong/BstemAtlasData/CSHL_data_processed/MD590/MD590_masks_alignedTo_MD590-N47-2015.09.12-05.32.06_MD590_2_0140_cropped/MD590-N62-2015.08.03-21.08.37_MD590_2_0185_mask_alignedTo_MD590-N47-2015.09.12-05.32.06_MD590_2_0140_cropped.png && mkdir -p /media/yuncong/BstemAtlasData/CSHL_data_processed/MD590/MD590_masks_alignedTo_MD590-N47-2015.09.12-05.32.06_MD590_2_0140_cropped"
     ]
    },
    {
     "name": "stderr",
     "output_type": "stream",
     "text": [
      " 0\n",
      "1.38 seconds.\n",
      "save: 5.75 seconds\n",
      "\n",
      "Section 293.\n",
      "Child returned"
     ]
    },
    {
     "name": "stdout",
     "output_type": "stream",
     "text": [
      "\n",
      "aws s3 cp s3://mousebrainatlas-data/CSHL_data_processed/MD590/MD590_masks_alignedTo_MD590-N47-2015.09.12-05.32.06_MD590_2_0140_cropped/MD590-N62-2015.08.03-21.08.37_MD590_2_0185_mask_alignedTo_MD590-N47-2015.09.12-05.32.06_MD590_2_0140_cropped.png /media/yuncong/BstemAtlasData/CSHL_data_processed/MD590/MD590_masks_alignedTo_MD590-N47-2015.09.12-05.32.06_MD590_2_0140_cropped/MD590-N62-2015.08.03-21.08.37_MD590_2_0185_mask_alignedTo_MD590-N47-2015.09.12-05.32.06_MD590_2_0140_cropped.png"
     ]
    },
    {
     "name": "stderr",
     "output_type": "stream",
     "text": [
      " 0\n",
      "Child returned 0\n",
      "1.75 seconds.\n",
      "locate patches: 1.78 seconds\n",
      "38044 samples.\n",
      "load image: 1.43 seconds\n",
      "extract patches: 12.59 seconds\n",
      "predict: 97.82 seconds\n"
     ]
    },
    {
     "name": "stdout",
     "output_type": "stream",
     "text": [
      "\n",
      "aws s3 cp /media/yuncong/BstemAtlasData/CSHL_patch_features/inception-bn-blue/MD590/MD590-N62-2015.08.03-21.08.37_MD590_2_0185_lossless_alignedTo_MD590-N47-2015.09.12-05.32.06_MD590_2_0140_cropped/MD590-N62-2015.08.03-21.08.37_MD590_2_0185_lossless_alignedTo_MD590-N47-2015.09.12-05.32.06_MD590_2_0140_cropped_features.hdf s3://mousebrainatlas-data/CSHL_patch_features/inception-bn-blue/MD590/MD590-N62-2015.08.03-21.08.37_MD590_2_0185_lossless_alignedTo_MD590-N47-2015.09.12-05.32.06_MD590_2_0140_cropped/MD590-N62-2015.08.03-21.08.37_MD590_2_0185_lossless_alignedTo_MD590-N47-2015.09.12-05.32.06_MD590_2_0140_cropped_features.hdf\n",
      "aws s3 cp /media/yuncong/BstemAtlasData/CSHL_patch_features/inception-bn-blue/MD590/MD590-N62-2015.08.03-21.08.37_MD590_2_0185_lossless_alignedTo_MD590-N47-2015.09.12-05.32.06_MD590_2_0140_cropped/MD590-N62-2015.08.03-21.08.37_MD590_2_0185_lossless_alignedTo_MD590-N47-2015.09.12-05.32.06_MD590_2_0140_cropped_patch_locations.txt s3://mousebrainatlas-data/CSHL_patch_features/inception-bn-blue/MD590/MD590-N62-2015.08.03-21.08.37_MD590_2_0185_lossless_alignedTo_MD590-N47-2015.09.12-05.32.06_MD590_2_0140_cropped/MD590-N62-2015.08.03-21.08.37_MD590_2_0185_lossless_alignedTo_MD590-N47-2015.09.12-05.32.06_MD590_2_0140_cropped_patch_locations.txt"
     ]
    },
    {
     "name": "stderr",
     "output_type": "stream",
     "text": [
      "Child returned 0\n",
      "2.55 seconds.\n",
      "Child returned"
     ]
    },
    {
     "name": "stdout",
     "output_type": "stream",
     "text": [
      "\n",
      "rm -rf /media/yuncong/BstemAtlasData/CSHL_data_processed/MD590/MD590_masks_alignedTo_MD590-N47-2015.09.12-05.32.06_MD590_2_0140_cropped/MD590-IHC62-2015.08.10-22.22.52_MD590_2_0185_mask_alignedTo_MD590-N47-2015.09.12-05.32.06_MD590_2_0140_cropped.png && mkdir -p /media/yuncong/BstemAtlasData/CSHL_data_processed/MD590/MD590_masks_alignedTo_MD590-N47-2015.09.12-05.32.06_MD590_2_0140_cropped"
     ]
    },
    {
     "name": "stderr",
     "output_type": "stream",
     "text": [
      " 0\n",
      "1.30 seconds.\n",
      "save: 5.80 seconds\n",
      "\n",
      "Section 294.\n",
      "Child returned"
     ]
    },
    {
     "name": "stdout",
     "output_type": "stream",
     "text": [
      "\n",
      "aws s3 cp s3://mousebrainatlas-data/CSHL_data_processed/MD590/MD590_masks_alignedTo_MD590-N47-2015.09.12-05.32.06_MD590_2_0140_cropped/MD590-IHC62-2015.08.10-22.22.52_MD590_2_0185_mask_alignedTo_MD590-N47-2015.09.12-05.32.06_MD590_2_0140_cropped.png /media/yuncong/BstemAtlasData/CSHL_data_processed/MD590/MD590_masks_alignedTo_MD590-N47-2015.09.12-05.32.06_MD590_2_0140_cropped/MD590-IHC62-2015.08.10-22.22.52_MD590_2_0185_mask_alignedTo_MD590-N47-2015.09.12-05.32.06_MD590_2_0140_cropped.png"
     ]
    },
    {
     "name": "stderr",
     "output_type": "stream",
     "text": [
      " 0\n",
      "Child returned 0\n",
      "1.69 seconds.\n",
      "locate patches: 1.72 seconds\n",
      "38073 samples.\n",
      "load image: 1.62 seconds\n",
      "extract patches: 12.55 seconds\n",
      "predict: 98.06 seconds\n"
     ]
    },
    {
     "name": "stdout",
     "output_type": "stream",
     "text": [
      "\n",
      "aws s3 cp /media/yuncong/BstemAtlasData/CSHL_patch_features/inception-bn-blue/MD590/MD590-IHC62-2015.08.10-22.22.52_MD590_2_0185_lossless_alignedTo_MD590-N47-2015.09.12-05.32.06_MD590_2_0140_cropped/MD590-IHC62-2015.08.10-22.22.52_MD590_2_0185_lossless_alignedTo_MD590-N47-2015.09.12-05.32.06_MD590_2_0140_cropped_features.hdf s3://mousebrainatlas-data/CSHL_patch_features/inception-bn-blue/MD590/MD590-IHC62-2015.08.10-22.22.52_MD590_2_0185_lossless_alignedTo_MD590-N47-2015.09.12-05.32.06_MD590_2_0140_cropped/MD590-IHC62-2015.08.10-22.22.52_MD590_2_0185_lossless_alignedTo_MD590-N47-2015.09.12-05.32.06_MD590_2_0140_cropped_features.hdf\n",
      "aws s3 cp /media/yuncong/BstemAtlasData/CSHL_patch_features/inception-bn-blue/MD590/MD590-IHC62-2015.08.10-22.22.52_MD590_2_0185_lossless_alignedTo_MD590-N47-2015.09.12-05.32.06_MD590_2_0140_cropped/MD590-IHC62-2015.08.10-22.22.52_MD590_2_0185_lossless_alignedTo_MD590-N47-2015.09.12-05.32.06_MD590_2_0140_cropped_patch_locations.txt s3://mousebrainatlas-data/CSHL_patch_features/inception-bn-blue/MD590/MD590-IHC62-2015.08.10-22.22.52_MD590_2_0185_lossless_alignedTo_MD590-N47-2015.09.12-05.32.06_MD590_2_0140_cropped/MD590-IHC62-2015.08.10-22.22.52_MD590_2_0185_lossless_alignedTo_MD590-N47-2015.09.12-05.32.06_MD590_2_0140_cropped_patch_locations.txt"
     ]
    },
    {
     "name": "stderr",
     "output_type": "stream",
     "text": [
      "Child returned 0\n",
      "2.48 seconds.\n",
      "Child returned"
     ]
    },
    {
     "name": "stdout",
     "output_type": "stream",
     "text": [
      "\n",
      "rm -rf /media/yuncong/BstemAtlasData/CSHL_data_processed/MD590/MD590_masks_alignedTo_MD590-N47-2015.09.12-05.32.06_MD590_2_0140_cropped/MD590-N62-2015.08.03-21.08.37_MD590_1_0186_mask_alignedTo_MD590-N47-2015.09.12-05.32.06_MD590_2_0140_cropped.png && mkdir -p /media/yuncong/BstemAtlasData/CSHL_data_processed/MD590/MD590_masks_alignedTo_MD590-N47-2015.09.12-05.32.06_MD590_2_0140_cropped"
     ]
    },
    {
     "name": "stderr",
     "output_type": "stream",
     "text": [
      " 0\n",
      "1.32 seconds.\n",
      "save: 5.67 seconds\n",
      "\n",
      "Section 295.\n",
      "Child returned"
     ]
    },
    {
     "name": "stdout",
     "output_type": "stream",
     "text": [
      "\n",
      "aws s3 cp s3://mousebrainatlas-data/CSHL_data_processed/MD590/MD590_masks_alignedTo_MD590-N47-2015.09.12-05.32.06_MD590_2_0140_cropped/MD590-N62-2015.08.03-21.08.37_MD590_1_0186_mask_alignedTo_MD590-N47-2015.09.12-05.32.06_MD590_2_0140_cropped.png /media/yuncong/BstemAtlasData/CSHL_data_processed/MD590/MD590_masks_alignedTo_MD590-N47-2015.09.12-05.32.06_MD590_2_0140_cropped/MD590-N62-2015.08.03-21.08.37_MD590_1_0186_mask_alignedTo_MD590-N47-2015.09.12-05.32.06_MD590_2_0140_cropped.png"
     ]
    },
    {
     "name": "stderr",
     "output_type": "stream",
     "text": [
      " 0\n",
      "Child returned 0\n",
      "1.72 seconds.\n",
      "locate patches: 1.75 seconds\n",
      "38276 samples.\n",
      "load image: 1.44 seconds\n",
      "extract patches: 13.01 seconds\n",
      "predict: 98.79 seconds\n"
     ]
    },
    {
     "name": "stdout",
     "output_type": "stream",
     "text": [
      "\n",
      "aws s3 cp /media/yuncong/BstemAtlasData/CSHL_patch_features/inception-bn-blue/MD590/MD590-N62-2015.08.03-21.08.37_MD590_1_0186_lossless_alignedTo_MD590-N47-2015.09.12-05.32.06_MD590_2_0140_cropped/MD590-N62-2015.08.03-21.08.37_MD590_1_0186_lossless_alignedTo_MD590-N47-2015.09.12-05.32.06_MD590_2_0140_cropped_features.hdf s3://mousebrainatlas-data/CSHL_patch_features/inception-bn-blue/MD590/MD590-N62-2015.08.03-21.08.37_MD590_1_0186_lossless_alignedTo_MD590-N47-2015.09.12-05.32.06_MD590_2_0140_cropped/MD590-N62-2015.08.03-21.08.37_MD590_1_0186_lossless_alignedTo_MD590-N47-2015.09.12-05.32.06_MD590_2_0140_cropped_features.hdf\n",
      "aws s3 cp /media/yuncong/BstemAtlasData/CSHL_patch_features/inception-bn-blue/MD590/MD590-N62-2015.08.03-21.08.37_MD590_1_0186_lossless_alignedTo_MD590-N47-2015.09.12-05.32.06_MD590_2_0140_cropped/MD590-N62-2015.08.03-21.08.37_MD590_1_0186_lossless_alignedTo_MD590-N47-2015.09.12-05.32.06_MD590_2_0140_cropped_patch_locations.txt s3://mousebrainatlas-data/CSHL_patch_features/inception-bn-blue/MD590/MD590-N62-2015.08.03-21.08.37_MD590_1_0186_lossless_alignedTo_MD590-N47-2015.09.12-05.32.06_MD590_2_0140_cropped/MD590-N62-2015.08.03-21.08.37_MD590_1_0186_lossless_alignedTo_MD590-N47-2015.09.12-05.32.06_MD590_2_0140_cropped_patch_locations.txt"
     ]
    },
    {
     "name": "stderr",
     "output_type": "stream",
     "text": [
      "Child returned 0\n",
      "2.50 seconds.\n",
      "Child returned"
     ]
    },
    {
     "name": "stdout",
     "output_type": "stream",
     "text": [
      "\n",
      "rm -rf /media/yuncong/BstemAtlasData/CSHL_data_processed/MD590/MD590_masks_alignedTo_MD590-N47-2015.09.12-05.32.06_MD590_2_0140_cropped/MD590-IHC62-2015.08.10-22.22.52_MD590_1_0186_mask_alignedTo_MD590-N47-2015.09.12-05.32.06_MD590_2_0140_cropped.png && mkdir -p /media/yuncong/BstemAtlasData/CSHL_data_processed/MD590/MD590_masks_alignedTo_MD590-N47-2015.09.12-05.32.06_MD590_2_0140_cropped"
     ]
    },
    {
     "name": "stderr",
     "output_type": "stream",
     "text": [
      " 0\n",
      "1.29 seconds.\n",
      "save: 5.72 seconds\n",
      "\n",
      "Section 296.\n",
      "Child returned"
     ]
    },
    {
     "name": "stdout",
     "output_type": "stream",
     "text": [
      "\n",
      "aws s3 cp s3://mousebrainatlas-data/CSHL_data_processed/MD590/MD590_masks_alignedTo_MD590-N47-2015.09.12-05.32.06_MD590_2_0140_cropped/MD590-IHC62-2015.08.10-22.22.52_MD590_1_0186_mask_alignedTo_MD590-N47-2015.09.12-05.32.06_MD590_2_0140_cropped.png /media/yuncong/BstemAtlasData/CSHL_data_processed/MD590/MD590_masks_alignedTo_MD590-N47-2015.09.12-05.32.06_MD590_2_0140_cropped/MD590-IHC62-2015.08.10-22.22.52_MD590_1_0186_mask_alignedTo_MD590-N47-2015.09.12-05.32.06_MD590_2_0140_cropped.png"
     ]
    },
    {
     "name": "stderr",
     "output_type": "stream",
     "text": [
      " 0\n",
      "Child returned 0\n",
      "1.76 seconds.\n",
      "locate patches: 1.79 seconds\n",
      "37276 samples.\n",
      "load image: 1.49 seconds\n",
      "extract patches: 12.49 seconds\n",
      "predict: 95.93 seconds\n"
     ]
    },
    {
     "name": "stdout",
     "output_type": "stream",
     "text": [
      "\n",
      "aws s3 cp /media/yuncong/BstemAtlasData/CSHL_patch_features/inception-bn-blue/MD590/MD590-IHC62-2015.08.10-22.22.52_MD590_1_0186_lossless_alignedTo_MD590-N47-2015.09.12-05.32.06_MD590_2_0140_cropped/MD590-IHC62-2015.08.10-22.22.52_MD590_1_0186_lossless_alignedTo_MD590-N47-2015.09.12-05.32.06_MD590_2_0140_cropped_features.hdf s3://mousebrainatlas-data/CSHL_patch_features/inception-bn-blue/MD590/MD590-IHC62-2015.08.10-22.22.52_MD590_1_0186_lossless_alignedTo_MD590-N47-2015.09.12-05.32.06_MD590_2_0140_cropped/MD590-IHC62-2015.08.10-22.22.52_MD590_1_0186_lossless_alignedTo_MD590-N47-2015.09.12-05.32.06_MD590_2_0140_cropped_features.hdf\n",
      "aws s3 cp /media/yuncong/BstemAtlasData/CSHL_patch_features/inception-bn-blue/MD590/MD590-IHC62-2015.08.10-22.22.52_MD590_1_0186_lossless_alignedTo_MD590-N47-2015.09.12-05.32.06_MD590_2_0140_cropped/MD590-IHC62-2015.08.10-22.22.52_MD590_1_0186_lossless_alignedTo_MD590-N47-2015.09.12-05.32.06_MD590_2_0140_cropped_patch_locations.txt s3://mousebrainatlas-data/CSHL_patch_features/inception-bn-blue/MD590/MD590-IHC62-2015.08.10-22.22.52_MD590_1_0186_lossless_alignedTo_MD590-N47-2015.09.12-05.32.06_MD590_2_0140_cropped/MD590-IHC62-2015.08.10-22.22.52_MD590_1_0186_lossless_alignedTo_MD590-N47-2015.09.12-05.32.06_MD590_2_0140_cropped_patch_locations.txt"
     ]
    },
    {
     "name": "stderr",
     "output_type": "stream",
     "text": [
      "Child returned 0\n",
      "2.54 seconds.\n",
      "Child returned"
     ]
    },
    {
     "name": "stdout",
     "output_type": "stream",
     "text": [
      "\n",
      "rm -rf /media/yuncong/BstemAtlasData/CSHL_data_processed/MD590/MD590_masks_alignedTo_MD590-N47-2015.09.12-05.32.06_MD590_2_0140_cropped/MD590-N63-2015.08.03-21.13.04_MD590_3_0187_mask_alignedTo_MD590-N47-2015.09.12-05.32.06_MD590_2_0140_cropped.png && mkdir -p /media/yuncong/BstemAtlasData/CSHL_data_processed/MD590/MD590_masks_alignedTo_MD590-N47-2015.09.12-05.32.06_MD590_2_0140_cropped"
     ]
    },
    {
     "name": "stderr",
     "output_type": "stream",
     "text": [
      " 0\n",
      "1.25 seconds.\n",
      "save: 5.61 seconds\n",
      "\n",
      "Section 297.\n",
      "Child returned"
     ]
    },
    {
     "name": "stdout",
     "output_type": "stream",
     "text": [
      "\n",
      "aws s3 cp s3://mousebrainatlas-data/CSHL_data_processed/MD590/MD590_masks_alignedTo_MD590-N47-2015.09.12-05.32.06_MD590_2_0140_cropped/MD590-N63-2015.08.03-21.13.04_MD590_3_0187_mask_alignedTo_MD590-N47-2015.09.12-05.32.06_MD590_2_0140_cropped.png /media/yuncong/BstemAtlasData/CSHL_data_processed/MD590/MD590_masks_alignedTo_MD590-N47-2015.09.12-05.32.06_MD590_2_0140_cropped/MD590-N63-2015.08.03-21.13.04_MD590_3_0187_mask_alignedTo_MD590-N47-2015.09.12-05.32.06_MD590_2_0140_cropped.png"
     ]
    },
    {
     "name": "stderr",
     "output_type": "stream",
     "text": [
      " 0\n",
      "Child returned 0\n",
      "1.80 seconds.\n",
      "locate patches: 1.83 seconds\n",
      "36670 samples.\n",
      "load image: 1.56 seconds\n",
      "extract patches: 12.04 seconds\n",
      "predict: 94.61 seconds\n"
     ]
    },
    {
     "name": "stdout",
     "output_type": "stream",
     "text": [
      "\n",
      "aws s3 cp /media/yuncong/BstemAtlasData/CSHL_patch_features/inception-bn-blue/MD590/MD590-N63-2015.08.03-21.13.04_MD590_3_0187_lossless_alignedTo_MD590-N47-2015.09.12-05.32.06_MD590_2_0140_cropped/MD590-N63-2015.08.03-21.13.04_MD590_3_0187_lossless_alignedTo_MD590-N47-2015.09.12-05.32.06_MD590_2_0140_cropped_features.hdf s3://mousebrainatlas-data/CSHL_patch_features/inception-bn-blue/MD590/MD590-N63-2015.08.03-21.13.04_MD590_3_0187_lossless_alignedTo_MD590-N47-2015.09.12-05.32.06_MD590_2_0140_cropped/MD590-N63-2015.08.03-21.13.04_MD590_3_0187_lossless_alignedTo_MD590-N47-2015.09.12-05.32.06_MD590_2_0140_cropped_features.hdf\n",
      "aws s3 cp /media/yuncong/BstemAtlasData/CSHL_patch_features/inception-bn-blue/MD590/MD590-N63-2015.08.03-21.13.04_MD590_3_0187_lossless_alignedTo_MD590-N47-2015.09.12-05.32.06_MD590_2_0140_cropped/MD590-N63-2015.08.03-21.13.04_MD590_3_0187_lossless_alignedTo_MD590-N47-2015.09.12-05.32.06_MD590_2_0140_cropped_patch_locations.txt s3://mousebrainatlas-data/CSHL_patch_features/inception-bn-blue/MD590/MD590-N63-2015.08.03-21.13.04_MD590_3_0187_lossless_alignedTo_MD590-N47-2015.09.12-05.32.06_MD590_2_0140_cropped/MD590-N63-2015.08.03-21.13.04_MD590_3_0187_lossless_alignedTo_MD590-N47-2015.09.12-05.32.06_MD590_2_0140_cropped_patch_locations.txt"
     ]
    },
    {
     "name": "stderr",
     "output_type": "stream",
     "text": [
      "Child returned 0\n",
      "2.39 seconds.\n",
      "Child returned"
     ]
    },
    {
     "name": "stdout",
     "output_type": "stream",
     "text": [
      "\n",
      "rm -rf /media/yuncong/BstemAtlasData/CSHL_data_processed/MD590/MD590_masks_alignedTo_MD590-N47-2015.09.12-05.32.06_MD590_2_0140_cropped/MD590-IHC63-2015.08.10-22.27.12_MD590_3_0187_mask_alignedTo_MD590-N47-2015.09.12-05.32.06_MD590_2_0140_cropped.png && mkdir -p /media/yuncong/BstemAtlasData/CSHL_data_processed/MD590/MD590_masks_alignedTo_MD590-N47-2015.09.12-05.32.06_MD590_2_0140_cropped"
     ]
    },
    {
     "name": "stderr",
     "output_type": "stream",
     "text": [
      " 0\n",
      "1.37 seconds.\n",
      "save: 5.59 seconds\n",
      "\n",
      "Section 298.\n",
      "Child returned"
     ]
    },
    {
     "name": "stdout",
     "output_type": "stream",
     "text": [
      "\n",
      "aws s3 cp s3://mousebrainatlas-data/CSHL_data_processed/MD590/MD590_masks_alignedTo_MD590-N47-2015.09.12-05.32.06_MD590_2_0140_cropped/MD590-IHC63-2015.08.10-22.27.12_MD590_3_0187_mask_alignedTo_MD590-N47-2015.09.12-05.32.06_MD590_2_0140_cropped.png /media/yuncong/BstemAtlasData/CSHL_data_processed/MD590/MD590_masks_alignedTo_MD590-N47-2015.09.12-05.32.06_MD590_2_0140_cropped/MD590-IHC63-2015.08.10-22.27.12_MD590_3_0187_mask_alignedTo_MD590-N47-2015.09.12-05.32.06_MD590_2_0140_cropped.png"
     ]
    },
    {
     "name": "stderr",
     "output_type": "stream",
     "text": [
      " 0\n",
      "Child returned 0\n",
      "1.68 seconds.\n",
      "locate patches: 1.70 seconds\n",
      "37099 samples.\n",
      "load image: 1.56 seconds\n",
      "extract patches: 12.65 seconds\n",
      "predict: 95.38 seconds\n"
     ]
    },
    {
     "name": "stdout",
     "output_type": "stream",
     "text": [
      "\n",
      "aws s3 cp /media/yuncong/BstemAtlasData/CSHL_patch_features/inception-bn-blue/MD590/MD590-IHC63-2015.08.10-22.27.12_MD590_3_0187_lossless_alignedTo_MD590-N47-2015.09.12-05.32.06_MD590_2_0140_cropped/MD590-IHC63-2015.08.10-22.27.12_MD590_3_0187_lossless_alignedTo_MD590-N47-2015.09.12-05.32.06_MD590_2_0140_cropped_features.hdf s3://mousebrainatlas-data/CSHL_patch_features/inception-bn-blue/MD590/MD590-IHC63-2015.08.10-22.27.12_MD590_3_0187_lossless_alignedTo_MD590-N47-2015.09.12-05.32.06_MD590_2_0140_cropped/MD590-IHC63-2015.08.10-22.27.12_MD590_3_0187_lossless_alignedTo_MD590-N47-2015.09.12-05.32.06_MD590_2_0140_cropped_features.hdf\n",
      "aws s3 cp /media/yuncong/BstemAtlasData/CSHL_patch_features/inception-bn-blue/MD590/MD590-IHC63-2015.08.10-22.27.12_MD590_3_0187_lossless_alignedTo_MD590-N47-2015.09.12-05.32.06_MD590_2_0140_cropped/MD590-IHC63-2015.08.10-22.27.12_MD590_3_0187_lossless_alignedTo_MD590-N47-2015.09.12-05.32.06_MD590_2_0140_cropped_patch_locations.txt s3://mousebrainatlas-data/CSHL_patch_features/inception-bn-blue/MD590/MD590-IHC63-2015.08.10-22.27.12_MD590_3_0187_lossless_alignedTo_MD590-N47-2015.09.12-05.32.06_MD590_2_0140_cropped/MD590-IHC63-2015.08.10-22.27.12_MD590_3_0187_lossless_alignedTo_MD590-N47-2015.09.12-05.32.06_MD590_2_0140_cropped_patch_locations.txt"
     ]
    },
    {
     "name": "stderr",
     "output_type": "stream",
     "text": [
      "Child returned 0\n",
      "2.43 seconds.\n",
      "Child returned"
     ]
    },
    {
     "name": "stdout",
     "output_type": "stream",
     "text": [
      "\n",
      "rm -rf /media/yuncong/BstemAtlasData/CSHL_data_processed/MD590/MD590_masks_alignedTo_MD590-N47-2015.09.12-05.32.06_MD590_2_0140_cropped/MD590-N63-2015.08.03-21.13.04_MD590_2_0188_mask_alignedTo_MD590-N47-2015.09.12-05.32.06_MD590_2_0140_cropped.png && mkdir -p /media/yuncong/BstemAtlasData/CSHL_data_processed/MD590/MD590_masks_alignedTo_MD590-N47-2015.09.12-05.32.06_MD590_2_0140_cropped"
     ]
    },
    {
     "name": "stderr",
     "output_type": "stream",
     "text": [
      " 0\n",
      "1.23 seconds.\n",
      "save: 5.46 seconds\n",
      "\n",
      "Section 299.\n",
      "Child returned"
     ]
    },
    {
     "name": "stdout",
     "output_type": "stream",
     "text": [
      "\n",
      "aws s3 cp s3://mousebrainatlas-data/CSHL_data_processed/MD590/MD590_masks_alignedTo_MD590-N47-2015.09.12-05.32.06_MD590_2_0140_cropped/MD590-N63-2015.08.03-21.13.04_MD590_2_0188_mask_alignedTo_MD590-N47-2015.09.12-05.32.06_MD590_2_0140_cropped.png /media/yuncong/BstemAtlasData/CSHL_data_processed/MD590/MD590_masks_alignedTo_MD590-N47-2015.09.12-05.32.06_MD590_2_0140_cropped/MD590-N63-2015.08.03-21.13.04_MD590_2_0188_mask_alignedTo_MD590-N47-2015.09.12-05.32.06_MD590_2_0140_cropped.png"
     ]
    },
    {
     "name": "stderr",
     "output_type": "stream",
     "text": [
      " 0\n",
      "Child returned 0\n",
      "1.74 seconds.\n",
      "locate patches: 1.78 seconds\n",
      "36492 samples.\n",
      "load image: 1.45 seconds\n",
      "extract patches: 12.64 seconds\n",
      "predict: 94.04 seconds\n"
     ]
    },
    {
     "name": "stdout",
     "output_type": "stream",
     "text": [
      "\n",
      "aws s3 cp /media/yuncong/BstemAtlasData/CSHL_patch_features/inception-bn-blue/MD590/MD590-N63-2015.08.03-21.13.04_MD590_2_0188_lossless_alignedTo_MD590-N47-2015.09.12-05.32.06_MD590_2_0140_cropped/MD590-N63-2015.08.03-21.13.04_MD590_2_0188_lossless_alignedTo_MD590-N47-2015.09.12-05.32.06_MD590_2_0140_cropped_features.hdf s3://mousebrainatlas-data/CSHL_patch_features/inception-bn-blue/MD590/MD590-N63-2015.08.03-21.13.04_MD590_2_0188_lossless_alignedTo_MD590-N47-2015.09.12-05.32.06_MD590_2_0140_cropped/MD590-N63-2015.08.03-21.13.04_MD590_2_0188_lossless_alignedTo_MD590-N47-2015.09.12-05.32.06_MD590_2_0140_cropped_features.hdf\n",
      "aws s3 cp /media/yuncong/BstemAtlasData/CSHL_patch_features/inception-bn-blue/MD590/MD590-N63-2015.08.03-21.13.04_MD590_2_0188_lossless_alignedTo_MD590-N47-2015.09.12-05.32.06_MD590_2_0140_cropped/MD590-N63-2015.08.03-21.13.04_MD590_2_0188_lossless_alignedTo_MD590-N47-2015.09.12-05.32.06_MD590_2_0140_cropped_patch_locations.txt s3://mousebrainatlas-data/CSHL_patch_features/inception-bn-blue/MD590/MD590-N63-2015.08.03-21.13.04_MD590_2_0188_lossless_alignedTo_MD590-N47-2015.09.12-05.32.06_MD590_2_0140_cropped/MD590-N63-2015.08.03-21.13.04_MD590_2_0188_lossless_alignedTo_MD590-N47-2015.09.12-05.32.06_MD590_2_0140_cropped_patch_locations.txt"
     ]
    },
    {
     "name": "stderr",
     "output_type": "stream",
     "text": [
      "Child returned 0\n",
      "2.43 seconds.\n",
      "Child returned"
     ]
    },
    {
     "name": "stdout",
     "output_type": "stream",
     "text": [
      "\n",
      "rm -rf /media/yuncong/BstemAtlasData/CSHL_data_processed/MD590/MD590_masks_alignedTo_MD590-N47-2015.09.12-05.32.06_MD590_2_0140_cropped/MD590-IHC63-2015.08.10-22.27.12_MD590_2_0188_mask_alignedTo_MD590-N47-2015.09.12-05.32.06_MD590_2_0140_cropped.png && mkdir -p /media/yuncong/BstemAtlasData/CSHL_data_processed/MD590/MD590_masks_alignedTo_MD590-N47-2015.09.12-05.32.06_MD590_2_0140_cropped"
     ]
    },
    {
     "name": "stderr",
     "output_type": "stream",
     "text": [
      " 0\n",
      "1.21 seconds.\n",
      "save: 5.43 seconds\n",
      "\n",
      "Section 300.\n",
      "Child returned"
     ]
    },
    {
     "name": "stdout",
     "output_type": "stream",
     "text": [
      "\n",
      "aws s3 cp s3://mousebrainatlas-data/CSHL_data_processed/MD590/MD590_masks_alignedTo_MD590-N47-2015.09.12-05.32.06_MD590_2_0140_cropped/MD590-IHC63-2015.08.10-22.27.12_MD590_2_0188_mask_alignedTo_MD590-N47-2015.09.12-05.32.06_MD590_2_0140_cropped.png /media/yuncong/BstemAtlasData/CSHL_data_processed/MD590/MD590_masks_alignedTo_MD590-N47-2015.09.12-05.32.06_MD590_2_0140_cropped/MD590-IHC63-2015.08.10-22.27.12_MD590_2_0188_mask_alignedTo_MD590-N47-2015.09.12-05.32.06_MD590_2_0140_cropped.png"
     ]
    },
    {
     "name": "stderr",
     "output_type": "stream",
     "text": [
      " 0\n",
      "Child returned 0\n",
      "1.71 seconds.\n",
      "locate patches: 1.74 seconds\n",
      "36793 samples.\n",
      "load image: 1.45 seconds\n",
      "extract patches: 12.65 seconds\n",
      "predict: 94.74 seconds\n"
     ]
    },
    {
     "name": "stdout",
     "output_type": "stream",
     "text": [
      "\n",
      "aws s3 cp /media/yuncong/BstemAtlasData/CSHL_patch_features/inception-bn-blue/MD590/MD590-IHC63-2015.08.10-22.27.12_MD590_2_0188_lossless_alignedTo_MD590-N47-2015.09.12-05.32.06_MD590_2_0140_cropped/MD590-IHC63-2015.08.10-22.27.12_MD590_2_0188_lossless_alignedTo_MD590-N47-2015.09.12-05.32.06_MD590_2_0140_cropped_features.hdf s3://mousebrainatlas-data/CSHL_patch_features/inception-bn-blue/MD590/MD590-IHC63-2015.08.10-22.27.12_MD590_2_0188_lossless_alignedTo_MD590-N47-2015.09.12-05.32.06_MD590_2_0140_cropped/MD590-IHC63-2015.08.10-22.27.12_MD590_2_0188_lossless_alignedTo_MD590-N47-2015.09.12-05.32.06_MD590_2_0140_cropped_features.hdf\n",
      "aws s3 cp /media/yuncong/BstemAtlasData/CSHL_patch_features/inception-bn-blue/MD590/MD590-IHC63-2015.08.10-22.27.12_MD590_2_0188_lossless_alignedTo_MD590-N47-2015.09.12-05.32.06_MD590_2_0140_cropped/MD590-IHC63-2015.08.10-22.27.12_MD590_2_0188_lossless_alignedTo_MD590-N47-2015.09.12-05.32.06_MD590_2_0140_cropped_patch_locations.txt s3://mousebrainatlas-data/CSHL_patch_features/inception-bn-blue/MD590/MD590-IHC63-2015.08.10-22.27.12_MD590_2_0188_lossless_alignedTo_MD590-N47-2015.09.12-05.32.06_MD590_2_0140_cropped/MD590-IHC63-2015.08.10-22.27.12_MD590_2_0188_lossless_alignedTo_MD590-N47-2015.09.12-05.32.06_MD590_2_0140_cropped_patch_locations.txt"
     ]
    },
    {
     "name": "stderr",
     "output_type": "stream",
     "text": [
      "Child returned 0\n",
      "2.30 seconds.\n",
      "Child returned"
     ]
    },
    {
     "name": "stdout",
     "output_type": "stream",
     "text": [
      "\n",
      "rm -rf /media/yuncong/BstemAtlasData/CSHL_data_processed/MD590/MD590_masks_alignedTo_MD590-N47-2015.09.12-05.32.06_MD590_2_0140_cropped/MD590-N63-2015.08.03-21.13.04_MD590_1_0189_mask_alignedTo_MD590-N47-2015.09.12-05.32.06_MD590_2_0140_cropped.png && mkdir -p /media/yuncong/BstemAtlasData/CSHL_data_processed/MD590/MD590_masks_alignedTo_MD590-N47-2015.09.12-05.32.06_MD590_2_0140_cropped"
     ]
    },
    {
     "name": "stderr",
     "output_type": "stream",
     "text": [
      " 0\n",
      "1.30 seconds.\n",
      "save: 5.43 seconds\n",
      "\n",
      "Section 301.\n",
      "Child returned"
     ]
    },
    {
     "name": "stdout",
     "output_type": "stream",
     "text": [
      "\n",
      "aws s3 cp s3://mousebrainatlas-data/CSHL_data_processed/MD590/MD590_masks_alignedTo_MD590-N47-2015.09.12-05.32.06_MD590_2_0140_cropped/MD590-N63-2015.08.03-21.13.04_MD590_1_0189_mask_alignedTo_MD590-N47-2015.09.12-05.32.06_MD590_2_0140_cropped.png /media/yuncong/BstemAtlasData/CSHL_data_processed/MD590/MD590_masks_alignedTo_MD590-N47-2015.09.12-05.32.06_MD590_2_0140_cropped/MD590-N63-2015.08.03-21.13.04_MD590_1_0189_mask_alignedTo_MD590-N47-2015.09.12-05.32.06_MD590_2_0140_cropped.png"
     ]
    },
    {
     "name": "stderr",
     "output_type": "stream",
     "text": [
      " 0\n",
      "Child returned 0\n",
      "1.69 seconds.\n",
      "locate patches: 1.71 seconds\n",
      "36055 samples.\n",
      "load image: 1.44 seconds\n",
      "extract patches: 12.96 seconds\n",
      "predict: 92.73 seconds\n"
     ]
    },
    {
     "name": "stdout",
     "output_type": "stream",
     "text": [
      "\n",
      "aws s3 cp /media/yuncong/BstemAtlasData/CSHL_patch_features/inception-bn-blue/MD590/MD590-N63-2015.08.03-21.13.04_MD590_1_0189_lossless_alignedTo_MD590-N47-2015.09.12-05.32.06_MD590_2_0140_cropped/MD590-N63-2015.08.03-21.13.04_MD590_1_0189_lossless_alignedTo_MD590-N47-2015.09.12-05.32.06_MD590_2_0140_cropped_features.hdf s3://mousebrainatlas-data/CSHL_patch_features/inception-bn-blue/MD590/MD590-N63-2015.08.03-21.13.04_MD590_1_0189_lossless_alignedTo_MD590-N47-2015.09.12-05.32.06_MD590_2_0140_cropped/MD590-N63-2015.08.03-21.13.04_MD590_1_0189_lossless_alignedTo_MD590-N47-2015.09.12-05.32.06_MD590_2_0140_cropped_features.hdf\n",
      "aws s3 cp /media/yuncong/BstemAtlasData/CSHL_patch_features/inception-bn-blue/MD590/MD590-N63-2015.08.03-21.13.04_MD590_1_0189_lossless_alignedTo_MD590-N47-2015.09.12-05.32.06_MD590_2_0140_cropped/MD590-N63-2015.08.03-21.13.04_MD590_1_0189_lossless_alignedTo_MD590-N47-2015.09.12-05.32.06_MD590_2_0140_cropped_patch_locations.txt s3://mousebrainatlas-data/CSHL_patch_features/inception-bn-blue/MD590/MD590-N63-2015.08.03-21.13.04_MD590_1_0189_lossless_alignedTo_MD590-N47-2015.09.12-05.32.06_MD590_2_0140_cropped/MD590-N63-2015.08.03-21.13.04_MD590_1_0189_lossless_alignedTo_MD590-N47-2015.09.12-05.32.06_MD590_2_0140_cropped_patch_locations.txt"
     ]
    },
    {
     "name": "stderr",
     "output_type": "stream",
     "text": [
      "Child returned 0\n",
      "2.40 seconds.\n",
      "Child returned"
     ]
    },
    {
     "name": "stdout",
     "output_type": "stream",
     "text": [
      "\n",
      "rm -rf /media/yuncong/BstemAtlasData/CSHL_data_processed/MD590/MD590_masks_alignedTo_MD590-N47-2015.09.12-05.32.06_MD590_2_0140_cropped/MD590-IHC63-2015.08.10-22.27.12_MD590_1_0189_mask_alignedTo_MD590-N47-2015.09.12-05.32.06_MD590_2_0140_cropped.png && mkdir -p /media/yuncong/BstemAtlasData/CSHL_data_processed/MD590/MD590_masks_alignedTo_MD590-N47-2015.09.12-05.32.06_MD590_2_0140_cropped"
     ]
    },
    {
     "name": "stderr",
     "output_type": "stream",
     "text": [
      " 0\n",
      "1.27 seconds.\n",
      "save: 5.43 seconds\n",
      "\n",
      "Section 302.\n",
      "Child returned"
     ]
    },
    {
     "name": "stdout",
     "output_type": "stream",
     "text": [
      "\n",
      "aws s3 cp s3://mousebrainatlas-data/CSHL_data_processed/MD590/MD590_masks_alignedTo_MD590-N47-2015.09.12-05.32.06_MD590_2_0140_cropped/MD590-IHC63-2015.08.10-22.27.12_MD590_1_0189_mask_alignedTo_MD590-N47-2015.09.12-05.32.06_MD590_2_0140_cropped.png /media/yuncong/BstemAtlasData/CSHL_data_processed/MD590/MD590_masks_alignedTo_MD590-N47-2015.09.12-05.32.06_MD590_2_0140_cropped/MD590-IHC63-2015.08.10-22.27.12_MD590_1_0189_mask_alignedTo_MD590-N47-2015.09.12-05.32.06_MD590_2_0140_cropped.png"
     ]
    },
    {
     "name": "stderr",
     "output_type": "stream",
     "text": [
      " 0\n",
      "Child returned 0\n",
      "1.70 seconds.\n",
      "locate patches: 1.73 seconds\n",
      "35980 samples.\n",
      "load image: 1.56 seconds\n",
      "extract patches: 12.35 seconds\n",
      "predict: 92.51 seconds\n"
     ]
    },
    {
     "name": "stdout",
     "output_type": "stream",
     "text": [
      "\n",
      "aws s3 cp /media/yuncong/BstemAtlasData/CSHL_patch_features/inception-bn-blue/MD590/MD590-IHC63-2015.08.10-22.27.12_MD590_1_0189_lossless_alignedTo_MD590-N47-2015.09.12-05.32.06_MD590_2_0140_cropped/MD590-IHC63-2015.08.10-22.27.12_MD590_1_0189_lossless_alignedTo_MD590-N47-2015.09.12-05.32.06_MD590_2_0140_cropped_features.hdf s3://mousebrainatlas-data/CSHL_patch_features/inception-bn-blue/MD590/MD590-IHC63-2015.08.10-22.27.12_MD590_1_0189_lossless_alignedTo_MD590-N47-2015.09.12-05.32.06_MD590_2_0140_cropped/MD590-IHC63-2015.08.10-22.27.12_MD590_1_0189_lossless_alignedTo_MD590-N47-2015.09.12-05.32.06_MD590_2_0140_cropped_features.hdf\n",
      "aws s3 cp /media/yuncong/BstemAtlasData/CSHL_patch_features/inception-bn-blue/MD590/MD590-IHC63-2015.08.10-22.27.12_MD590_1_0189_lossless_alignedTo_MD590-N47-2015.09.12-05.32.06_MD590_2_0140_cropped/MD590-IHC63-2015.08.10-22.27.12_MD590_1_0189_lossless_alignedTo_MD590-N47-2015.09.12-05.32.06_MD590_2_0140_cropped_patch_locations.txt s3://mousebrainatlas-data/CSHL_patch_features/inception-bn-blue/MD590/MD590-IHC63-2015.08.10-22.27.12_MD590_1_0189_lossless_alignedTo_MD590-N47-2015.09.12-05.32.06_MD590_2_0140_cropped/MD590-IHC63-2015.08.10-22.27.12_MD590_1_0189_lossless_alignedTo_MD590-N47-2015.09.12-05.32.06_MD590_2_0140_cropped_patch_locations.txt"
     ]
    },
    {
     "name": "stderr",
     "output_type": "stream",
     "text": [
      "Child returned 0\n",
      "2.66 seconds.\n",
      "Child returned"
     ]
    },
    {
     "name": "stdout",
     "output_type": "stream",
     "text": [
      "\n",
      "rm -rf /media/yuncong/BstemAtlasData/CSHL_data_processed/MD590/MD590_masks_alignedTo_MD590-N47-2015.09.12-05.32.06_MD590_2_0140_cropped/MD590-N64-2015.08.03-21.17.23_MD590_3_0190_mask_alignedTo_MD590-N47-2015.09.12-05.32.06_MD590_2_0140_cropped.png && mkdir -p /media/yuncong/BstemAtlasData/CSHL_data_processed/MD590/MD590_masks_alignedTo_MD590-N47-2015.09.12-05.32.06_MD590_2_0140_cropped"
     ]
    },
    {
     "name": "stderr",
     "output_type": "stream",
     "text": [
      " 0\n",
      "1.30 seconds.\n",
      "save: 5.78 seconds\n",
      "\n",
      "Section 303.\n",
      "Child returned"
     ]
    },
    {
     "name": "stdout",
     "output_type": "stream",
     "text": [
      "\n",
      "aws s3 cp s3://mousebrainatlas-data/CSHL_data_processed/MD590/MD590_masks_alignedTo_MD590-N47-2015.09.12-05.32.06_MD590_2_0140_cropped/MD590-N64-2015.08.03-21.17.23_MD590_3_0190_mask_alignedTo_MD590-N47-2015.09.12-05.32.06_MD590_2_0140_cropped.png /media/yuncong/BstemAtlasData/CSHL_data_processed/MD590/MD590_masks_alignedTo_MD590-N47-2015.09.12-05.32.06_MD590_2_0140_cropped/MD590-N64-2015.08.03-21.17.23_MD590_3_0190_mask_alignedTo_MD590-N47-2015.09.12-05.32.06_MD590_2_0140_cropped.png"
     ]
    },
    {
     "name": "stderr",
     "output_type": "stream",
     "text": [
      " 0\n",
      "Child returned 0\n",
      "1.61 seconds.\n",
      "locate patches: 1.64 seconds\n",
      "35578 samples.\n",
      "load image: 1.47 seconds\n",
      "extract patches: 12.57 seconds\n",
      "predict: 91.23 seconds\n"
     ]
    },
    {
     "name": "stdout",
     "output_type": "stream",
     "text": [
      "\n",
      "aws s3 cp /media/yuncong/BstemAtlasData/CSHL_patch_features/inception-bn-blue/MD590/MD590-N64-2015.08.03-21.17.23_MD590_3_0190_lossless_alignedTo_MD590-N47-2015.09.12-05.32.06_MD590_2_0140_cropped/MD590-N64-2015.08.03-21.17.23_MD590_3_0190_lossless_alignedTo_MD590-N47-2015.09.12-05.32.06_MD590_2_0140_cropped_features.hdf s3://mousebrainatlas-data/CSHL_patch_features/inception-bn-blue/MD590/MD590-N64-2015.08.03-21.17.23_MD590_3_0190_lossless_alignedTo_MD590-N47-2015.09.12-05.32.06_MD590_2_0140_cropped/MD590-N64-2015.08.03-21.17.23_MD590_3_0190_lossless_alignedTo_MD590-N47-2015.09.12-05.32.06_MD590_2_0140_cropped_features.hdf\n",
      "aws s3 cp /media/yuncong/BstemAtlasData/CSHL_patch_features/inception-bn-blue/MD590/MD590-N64-2015.08.03-21.17.23_MD590_3_0190_lossless_alignedTo_MD590-N47-2015.09.12-05.32.06_MD590_2_0140_cropped/MD590-N64-2015.08.03-21.17.23_MD590_3_0190_lossless_alignedTo_MD590-N47-2015.09.12-05.32.06_MD590_2_0140_cropped_patch_locations.txt s3://mousebrainatlas-data/CSHL_patch_features/inception-bn-blue/MD590/MD590-N64-2015.08.03-21.17.23_MD590_3_0190_lossless_alignedTo_MD590-N47-2015.09.12-05.32.06_MD590_2_0140_cropped/MD590-N64-2015.08.03-21.17.23_MD590_3_0190_lossless_alignedTo_MD590-N47-2015.09.12-05.32.06_MD590_2_0140_cropped_patch_locations.txt"
     ]
    },
    {
     "name": "stderr",
     "output_type": "stream",
     "text": [
      "Child returned 0\n",
      "2.31 seconds.\n",
      "Child returned"
     ]
    },
    {
     "name": "stdout",
     "output_type": "stream",
     "text": [
      "\n",
      "rm -rf /media/yuncong/BstemAtlasData/CSHL_data_processed/MD590/MD590_masks_alignedTo_MD590-N47-2015.09.12-05.32.06_MD590_2_0140_cropped/MD590-IHC64-2015.08.10-22.31.41_MD590_3_0190_mask_alignedTo_MD590-N47-2015.09.12-05.32.06_MD590_2_0140_cropped.png && mkdir -p /media/yuncong/BstemAtlasData/CSHL_data_processed/MD590/MD590_masks_alignedTo_MD590-N47-2015.09.12-05.32.06_MD590_2_0140_cropped"
     ]
    },
    {
     "name": "stderr",
     "output_type": "stream",
     "text": [
      " 0\n",
      "1.23 seconds.\n",
      "save: 5.36 seconds\n",
      "\n",
      "Section 304.\n",
      "Child returned"
     ]
    },
    {
     "name": "stdout",
     "output_type": "stream",
     "text": [
      "\n",
      "aws s3 cp s3://mousebrainatlas-data/CSHL_data_processed/MD590/MD590_masks_alignedTo_MD590-N47-2015.09.12-05.32.06_MD590_2_0140_cropped/MD590-IHC64-2015.08.10-22.31.41_MD590_3_0190_mask_alignedTo_MD590-N47-2015.09.12-05.32.06_MD590_2_0140_cropped.png /media/yuncong/BstemAtlasData/CSHL_data_processed/MD590/MD590_masks_alignedTo_MD590-N47-2015.09.12-05.32.06_MD590_2_0140_cropped/MD590-IHC64-2015.08.10-22.31.41_MD590_3_0190_mask_alignedTo_MD590-N47-2015.09.12-05.32.06_MD590_2_0140_cropped.png"
     ]
    },
    {
     "name": "stderr",
     "output_type": "stream",
     "text": [
      " 0\n",
      "Child returned 0\n",
      "1.70 seconds.\n",
      "locate patches: 1.73 seconds\n",
      "35419 samples.\n",
      "load image: 1.46 seconds\n",
      "extract patches: 12.92 seconds\n",
      "predict: 90.98 seconds\n"
     ]
    },
    {
     "name": "stdout",
     "output_type": "stream",
     "text": [
      "\n",
      "aws s3 cp /media/yuncong/BstemAtlasData/CSHL_patch_features/inception-bn-blue/MD590/MD590-IHC64-2015.08.10-22.31.41_MD590_3_0190_lossless_alignedTo_MD590-N47-2015.09.12-05.32.06_MD590_2_0140_cropped/MD590-IHC64-2015.08.10-22.31.41_MD590_3_0190_lossless_alignedTo_MD590-N47-2015.09.12-05.32.06_MD590_2_0140_cropped_features.hdf s3://mousebrainatlas-data/CSHL_patch_features/inception-bn-blue/MD590/MD590-IHC64-2015.08.10-22.31.41_MD590_3_0190_lossless_alignedTo_MD590-N47-2015.09.12-05.32.06_MD590_2_0140_cropped/MD590-IHC64-2015.08.10-22.31.41_MD590_3_0190_lossless_alignedTo_MD590-N47-2015.09.12-05.32.06_MD590_2_0140_cropped_features.hdf\n",
      "aws s3 cp /media/yuncong/BstemAtlasData/CSHL_patch_features/inception-bn-blue/MD590/MD590-IHC64-2015.08.10-22.31.41_MD590_3_0190_lossless_alignedTo_MD590-N47-2015.09.12-05.32.06_MD590_2_0140_cropped/MD590-IHC64-2015.08.10-22.31.41_MD590_3_0190_lossless_alignedTo_MD590-N47-2015.09.12-05.32.06_MD590_2_0140_cropped_patch_locations.txt s3://mousebrainatlas-data/CSHL_patch_features/inception-bn-blue/MD590/MD590-IHC64-2015.08.10-22.31.41_MD590_3_0190_lossless_alignedTo_MD590-N47-2015.09.12-05.32.06_MD590_2_0140_cropped/MD590-IHC64-2015.08.10-22.31.41_MD590_3_0190_lossless_alignedTo_MD590-N47-2015.09.12-05.32.06_MD590_2_0140_cropped_patch_locations.txt"
     ]
    },
    {
     "name": "stderr",
     "output_type": "stream",
     "text": [
      "Child returned 0\n",
      "2.33 seconds.\n",
      "Child returned"
     ]
    },
    {
     "name": "stdout",
     "output_type": "stream",
     "text": [
      "\n",
      "rm -rf /media/yuncong/BstemAtlasData/CSHL_data_processed/MD590/MD590_masks_alignedTo_MD590-N47-2015.09.12-05.32.06_MD590_2_0140_cropped/MD590-N64-2015.08.03-21.17.23_MD590_2_0191_mask_alignedTo_MD590-N47-2015.09.12-05.32.06_MD590_2_0140_cropped.png && mkdir -p /media/yuncong/BstemAtlasData/CSHL_data_processed/MD590/MD590_masks_alignedTo_MD590-N47-2015.09.12-05.32.06_MD590_2_0140_cropped"
     ]
    },
    {
     "name": "stderr",
     "output_type": "stream",
     "text": [
      " 0\n",
      "1.21 seconds.\n",
      "save: 5.30 seconds\n",
      "\n",
      "Section 305.\n",
      "Child returned"
     ]
    },
    {
     "name": "stdout",
     "output_type": "stream",
     "text": [
      "\n",
      "aws s3 cp s3://mousebrainatlas-data/CSHL_data_processed/MD590/MD590_masks_alignedTo_MD590-N47-2015.09.12-05.32.06_MD590_2_0140_cropped/MD590-N64-2015.08.03-21.17.23_MD590_2_0191_mask_alignedTo_MD590-N47-2015.09.12-05.32.06_MD590_2_0140_cropped.png /media/yuncong/BstemAtlasData/CSHL_data_processed/MD590/MD590_masks_alignedTo_MD590-N47-2015.09.12-05.32.06_MD590_2_0140_cropped/MD590-N64-2015.08.03-21.17.23_MD590_2_0191_mask_alignedTo_MD590-N47-2015.09.12-05.32.06_MD590_2_0140_cropped.png"
     ]
    },
    {
     "name": "stderr",
     "output_type": "stream",
     "text": [
      " 0\n",
      "Child returned 0\n",
      "1.71 seconds.\n",
      "locate patches: 1.74 seconds\n",
      "35077 samples.\n",
      "load image: 1.44 seconds\n",
      "extract patches: 12.47 seconds\n",
      "predict: 90.16 seconds\n"
     ]
    },
    {
     "name": "stdout",
     "output_type": "stream",
     "text": [
      "\n",
      "aws s3 cp /media/yuncong/BstemAtlasData/CSHL_patch_features/inception-bn-blue/MD590/MD590-N64-2015.08.03-21.17.23_MD590_2_0191_lossless_alignedTo_MD590-N47-2015.09.12-05.32.06_MD590_2_0140_cropped/MD590-N64-2015.08.03-21.17.23_MD590_2_0191_lossless_alignedTo_MD590-N47-2015.09.12-05.32.06_MD590_2_0140_cropped_features.hdf s3://mousebrainatlas-data/CSHL_patch_features/inception-bn-blue/MD590/MD590-N64-2015.08.03-21.17.23_MD590_2_0191_lossless_alignedTo_MD590-N47-2015.09.12-05.32.06_MD590_2_0140_cropped/MD590-N64-2015.08.03-21.17.23_MD590_2_0191_lossless_alignedTo_MD590-N47-2015.09.12-05.32.06_MD590_2_0140_cropped_features.hdf\n",
      "aws s3 cp /media/yuncong/BstemAtlasData/CSHL_patch_features/inception-bn-blue/MD590/MD590-N64-2015.08.03-21.17.23_MD590_2_0191_lossless_alignedTo_MD590-N47-2015.09.12-05.32.06_MD590_2_0140_cropped/MD590-N64-2015.08.03-21.17.23_MD590_2_0191_lossless_alignedTo_MD590-N47-2015.09.12-05.32.06_MD590_2_0140_cropped_patch_locations.txt s3://mousebrainatlas-data/CSHL_patch_features/inception-bn-blue/MD590/MD590-N64-2015.08.03-21.17.23_MD590_2_0191_lossless_alignedTo_MD590-N47-2015.09.12-05.32.06_MD590_2_0140_cropped/MD590-N64-2015.08.03-21.17.23_MD590_2_0191_lossless_alignedTo_MD590-N47-2015.09.12-05.32.06_MD590_2_0140_cropped_patch_locations.txt"
     ]
    },
    {
     "name": "stderr",
     "output_type": "stream",
     "text": [
      "Child returned 0\n",
      "2.35 seconds.\n",
      "Child returned"
     ]
    },
    {
     "name": "stdout",
     "output_type": "stream",
     "text": [
      "\n",
      "rm -rf /media/yuncong/BstemAtlasData/CSHL_data_processed/MD590/MD590_masks_alignedTo_MD590-N47-2015.09.12-05.32.06_MD590_2_0140_cropped/MD590-IHC64-2015.08.10-22.31.41_MD590_2_0191_mask_alignedTo_MD590-N47-2015.09.12-05.32.06_MD590_2_0140_cropped.png && mkdir -p /media/yuncong/BstemAtlasData/CSHL_data_processed/MD590/MD590_masks_alignedTo_MD590-N47-2015.09.12-05.32.06_MD590_2_0140_cropped"
     ]
    },
    {
     "name": "stderr",
     "output_type": "stream",
     "text": [
      " 0\n",
      "1.32 seconds.\n",
      "save: 5.44 seconds\n",
      "\n",
      "Section 306.\n",
      "Child returned"
     ]
    },
    {
     "name": "stdout",
     "output_type": "stream",
     "text": [
      "\n",
      "aws s3 cp s3://mousebrainatlas-data/CSHL_data_processed/MD590/MD590_masks_alignedTo_MD590-N47-2015.09.12-05.32.06_MD590_2_0140_cropped/MD590-IHC64-2015.08.10-22.31.41_MD590_2_0191_mask_alignedTo_MD590-N47-2015.09.12-05.32.06_MD590_2_0140_cropped.png /media/yuncong/BstemAtlasData/CSHL_data_processed/MD590/MD590_masks_alignedTo_MD590-N47-2015.09.12-05.32.06_MD590_2_0140_cropped/MD590-IHC64-2015.08.10-22.31.41_MD590_2_0191_mask_alignedTo_MD590-N47-2015.09.12-05.32.06_MD590_2_0140_cropped.png"
     ]
    },
    {
     "name": "stderr",
     "output_type": "stream",
     "text": [
      " 0\n",
      "Child returned 0\n",
      "1.61 seconds.\n",
      "locate patches: 1.64 seconds\n",
      "34970 samples.\n",
      "load image: 1.56 seconds\n",
      "extract patches: 12.72 seconds\n",
      "predict: 89.67 seconds\n"
     ]
    },
    {
     "name": "stdout",
     "output_type": "stream",
     "text": [
      "\n",
      "aws s3 cp /media/yuncong/BstemAtlasData/CSHL_patch_features/inception-bn-blue/MD590/MD590-IHC64-2015.08.10-22.31.41_MD590_2_0191_lossless_alignedTo_MD590-N47-2015.09.12-05.32.06_MD590_2_0140_cropped/MD590-IHC64-2015.08.10-22.31.41_MD590_2_0191_lossless_alignedTo_MD590-N47-2015.09.12-05.32.06_MD590_2_0140_cropped_features.hdf s3://mousebrainatlas-data/CSHL_patch_features/inception-bn-blue/MD590/MD590-IHC64-2015.08.10-22.31.41_MD590_2_0191_lossless_alignedTo_MD590-N47-2015.09.12-05.32.06_MD590_2_0140_cropped/MD590-IHC64-2015.08.10-22.31.41_MD590_2_0191_lossless_alignedTo_MD590-N47-2015.09.12-05.32.06_MD590_2_0140_cropped_features.hdf\n",
      "aws s3 cp /media/yuncong/BstemAtlasData/CSHL_patch_features/inception-bn-blue/MD590/MD590-IHC64-2015.08.10-22.31.41_MD590_2_0191_lossless_alignedTo_MD590-N47-2015.09.12-05.32.06_MD590_2_0140_cropped/MD590-IHC64-2015.08.10-22.31.41_MD590_2_0191_lossless_alignedTo_MD590-N47-2015.09.12-05.32.06_MD590_2_0140_cropped_patch_locations.txt s3://mousebrainatlas-data/CSHL_patch_features/inception-bn-blue/MD590/MD590-IHC64-2015.08.10-22.31.41_MD590_2_0191_lossless_alignedTo_MD590-N47-2015.09.12-05.32.06_MD590_2_0140_cropped/MD590-IHC64-2015.08.10-22.31.41_MD590_2_0191_lossless_alignedTo_MD590-N47-2015.09.12-05.32.06_MD590_2_0140_cropped_patch_locations.txt"
     ]
    },
    {
     "name": "stderr",
     "output_type": "stream",
     "text": [
      "Child returned 0\n",
      "2.34 seconds.\n",
      "Child returned"
     ]
    },
    {
     "name": "stdout",
     "output_type": "stream",
     "text": [
      "\n",
      "rm -rf /media/yuncong/BstemAtlasData/CSHL_data_processed/MD590/MD590_masks_alignedTo_MD590-N47-2015.09.12-05.32.06_MD590_2_0140_cropped/MD590-N64-2015.08.03-21.17.23_MD590_1_0192_mask_alignedTo_MD590-N47-2015.09.12-05.32.06_MD590_2_0140_cropped.png && mkdir -p /media/yuncong/BstemAtlasData/CSHL_data_processed/MD590/MD590_masks_alignedTo_MD590-N47-2015.09.12-05.32.06_MD590_2_0140_cropped"
     ]
    },
    {
     "name": "stderr",
     "output_type": "stream",
     "text": [
      " 0\n",
      "1.31 seconds.\n",
      "save: 5.33 seconds\n",
      "\n",
      "Section 307.\n",
      "Child returned"
     ]
    },
    {
     "name": "stdout",
     "output_type": "stream",
     "text": [
      "\n",
      "aws s3 cp s3://mousebrainatlas-data/CSHL_data_processed/MD590/MD590_masks_alignedTo_MD590-N47-2015.09.12-05.32.06_MD590_2_0140_cropped/MD590-N64-2015.08.03-21.17.23_MD590_1_0192_mask_alignedTo_MD590-N47-2015.09.12-05.32.06_MD590_2_0140_cropped.png /media/yuncong/BstemAtlasData/CSHL_data_processed/MD590/MD590_masks_alignedTo_MD590-N47-2015.09.12-05.32.06_MD590_2_0140_cropped/MD590-N64-2015.08.03-21.17.23_MD590_1_0192_mask_alignedTo_MD590-N47-2015.09.12-05.32.06_MD590_2_0140_cropped.png"
     ]
    },
    {
     "name": "stderr",
     "output_type": "stream",
     "text": [
      " 0\n",
      "Child returned 0\n",
      "1.80 seconds.\n",
      "locate patches: 1.82 seconds\n",
      "34403 samples.\n",
      "load image: 1.54 seconds\n",
      "extract patches: 13.43 seconds\n",
      "predict: 88.56 seconds\n"
     ]
    },
    {
     "name": "stdout",
     "output_type": "stream",
     "text": [
      "\n",
      "aws s3 cp /media/yuncong/BstemAtlasData/CSHL_patch_features/inception-bn-blue/MD590/MD590-N64-2015.08.03-21.17.23_MD590_1_0192_lossless_alignedTo_MD590-N47-2015.09.12-05.32.06_MD590_2_0140_cropped/MD590-N64-2015.08.03-21.17.23_MD590_1_0192_lossless_alignedTo_MD590-N47-2015.09.12-05.32.06_MD590_2_0140_cropped_features.hdf s3://mousebrainatlas-data/CSHL_patch_features/inception-bn-blue/MD590/MD590-N64-2015.08.03-21.17.23_MD590_1_0192_lossless_alignedTo_MD590-N47-2015.09.12-05.32.06_MD590_2_0140_cropped/MD590-N64-2015.08.03-21.17.23_MD590_1_0192_lossless_alignedTo_MD590-N47-2015.09.12-05.32.06_MD590_2_0140_cropped_features.hdf\n",
      "aws s3 cp /media/yuncong/BstemAtlasData/CSHL_patch_features/inception-bn-blue/MD590/MD590-N64-2015.08.03-21.17.23_MD590_1_0192_lossless_alignedTo_MD590-N47-2015.09.12-05.32.06_MD590_2_0140_cropped/MD590-N64-2015.08.03-21.17.23_MD590_1_0192_lossless_alignedTo_MD590-N47-2015.09.12-05.32.06_MD590_2_0140_cropped_patch_locations.txt s3://mousebrainatlas-data/CSHL_patch_features/inception-bn-blue/MD590/MD590-N64-2015.08.03-21.17.23_MD590_1_0192_lossless_alignedTo_MD590-N47-2015.09.12-05.32.06_MD590_2_0140_cropped/MD590-N64-2015.08.03-21.17.23_MD590_1_0192_lossless_alignedTo_MD590-N47-2015.09.12-05.32.06_MD590_2_0140_cropped_patch_locations.txt"
     ]
    },
    {
     "name": "stderr",
     "output_type": "stream",
     "text": [
      "Child returned 0\n",
      "2.24 seconds.\n",
      "Child returned"
     ]
    },
    {
     "name": "stdout",
     "output_type": "stream",
     "text": [
      "\n",
      "rm -rf /media/yuncong/BstemAtlasData/CSHL_data_processed/MD590/MD590_masks_alignedTo_MD590-N47-2015.09.12-05.32.06_MD590_2_0140_cropped/MD590-IHC64-2015.08.10-22.31.41_MD590_1_0192_mask_alignedTo_MD590-N47-2015.09.12-05.32.06_MD590_2_0140_cropped.png && mkdir -p /media/yuncong/BstemAtlasData/CSHL_data_processed/MD590/MD590_masks_alignedTo_MD590-N47-2015.09.12-05.32.06_MD590_2_0140_cropped"
     ]
    },
    {
     "name": "stderr",
     "output_type": "stream",
     "text": [
      " 0\n",
      "1.26 seconds.\n",
      "save: 5.21 seconds\n",
      "\n",
      "Section 308.\n",
      "Child returned"
     ]
    },
    {
     "name": "stdout",
     "output_type": "stream",
     "text": [
      "\n",
      "aws s3 cp s3://mousebrainatlas-data/CSHL_data_processed/MD590/MD590_masks_alignedTo_MD590-N47-2015.09.12-05.32.06_MD590_2_0140_cropped/MD590-IHC64-2015.08.10-22.31.41_MD590_1_0192_mask_alignedTo_MD590-N47-2015.09.12-05.32.06_MD590_2_0140_cropped.png /media/yuncong/BstemAtlasData/CSHL_data_processed/MD590/MD590_masks_alignedTo_MD590-N47-2015.09.12-05.32.06_MD590_2_0140_cropped/MD590-IHC64-2015.08.10-22.31.41_MD590_1_0192_mask_alignedTo_MD590-N47-2015.09.12-05.32.06_MD590_2_0140_cropped.png"
     ]
    },
    {
     "name": "stderr",
     "output_type": "stream",
     "text": [
      " 0\n",
      "Child returned 0\n",
      "1.67 seconds.\n",
      "locate patches: 1.70 seconds\n",
      "34221 samples.\n",
      "load image: 1.52 seconds\n",
      "extract patches: 12.58 seconds\n",
      "predict: 87.95 seconds\n"
     ]
    },
    {
     "name": "stdout",
     "output_type": "stream",
     "text": [
      "\n",
      "aws s3 cp /media/yuncong/BstemAtlasData/CSHL_patch_features/inception-bn-blue/MD590/MD590-IHC64-2015.08.10-22.31.41_MD590_1_0192_lossless_alignedTo_MD590-N47-2015.09.12-05.32.06_MD590_2_0140_cropped/MD590-IHC64-2015.08.10-22.31.41_MD590_1_0192_lossless_alignedTo_MD590-N47-2015.09.12-05.32.06_MD590_2_0140_cropped_features.hdf s3://mousebrainatlas-data/CSHL_patch_features/inception-bn-blue/MD590/MD590-IHC64-2015.08.10-22.31.41_MD590_1_0192_lossless_alignedTo_MD590-N47-2015.09.12-05.32.06_MD590_2_0140_cropped/MD590-IHC64-2015.08.10-22.31.41_MD590_1_0192_lossless_alignedTo_MD590-N47-2015.09.12-05.32.06_MD590_2_0140_cropped_features.hdf\n",
      "aws s3 cp /media/yuncong/BstemAtlasData/CSHL_patch_features/inception-bn-blue/MD590/MD590-IHC64-2015.08.10-22.31.41_MD590_1_0192_lossless_alignedTo_MD590-N47-2015.09.12-05.32.06_MD590_2_0140_cropped/MD590-IHC64-2015.08.10-22.31.41_MD590_1_0192_lossless_alignedTo_MD590-N47-2015.09.12-05.32.06_MD590_2_0140_cropped_patch_locations.txt s3://mousebrainatlas-data/CSHL_patch_features/inception-bn-blue/MD590/MD590-IHC64-2015.08.10-22.31.41_MD590_1_0192_lossless_alignedTo_MD590-N47-2015.09.12-05.32.06_MD590_2_0140_cropped/MD590-IHC64-2015.08.10-22.31.41_MD590_1_0192_lossless_alignedTo_MD590-N47-2015.09.12-05.32.06_MD590_2_0140_cropped_patch_locations.txt"
     ]
    },
    {
     "name": "stderr",
     "output_type": "stream",
     "text": [
      "Child returned 0\n",
      "2.31 seconds.\n",
      "Child returned"
     ]
    },
    {
     "name": "stdout",
     "output_type": "stream",
     "text": [
      "\n",
      "rm -rf /media/yuncong/BstemAtlasData/CSHL_data_processed/MD590/MD590_masks_alignedTo_MD590-N47-2015.09.12-05.32.06_MD590_2_0140_cropped/MD590-N65-2015.08.03-21.21.32_MD590_3_0193_mask_alignedTo_MD590-N47-2015.09.12-05.32.06_MD590_2_0140_cropped.png && mkdir -p /media/yuncong/BstemAtlasData/CSHL_data_processed/MD590/MD590_masks_alignedTo_MD590-N47-2015.09.12-05.32.06_MD590_2_0140_cropped"
     ]
    },
    {
     "name": "stderr",
     "output_type": "stream",
     "text": [
      " 0\n",
      "1.28 seconds.\n",
      "save: 5.28 seconds\n",
      "\n",
      "Section 309.\n",
      "Child returned"
     ]
    },
    {
     "name": "stdout",
     "output_type": "stream",
     "text": [
      "\n",
      "aws s3 cp s3://mousebrainatlas-data/CSHL_data_processed/MD590/MD590_masks_alignedTo_MD590-N47-2015.09.12-05.32.06_MD590_2_0140_cropped/MD590-N65-2015.08.03-21.21.32_MD590_3_0193_mask_alignedTo_MD590-N47-2015.09.12-05.32.06_MD590_2_0140_cropped.png /media/yuncong/BstemAtlasData/CSHL_data_processed/MD590/MD590_masks_alignedTo_MD590-N47-2015.09.12-05.32.06_MD590_2_0140_cropped/MD590-N65-2015.08.03-21.21.32_MD590_3_0193_mask_alignedTo_MD590-N47-2015.09.12-05.32.06_MD590_2_0140_cropped.png"
     ]
    },
    {
     "name": "stderr",
     "output_type": "stream",
     "text": [
      " 0\n",
      "Child returned 0\n",
      "1.63 seconds.\n",
      "locate patches: 1.65 seconds\n",
      "33847 samples.\n",
      "load image: 1.43 seconds\n",
      "extract patches: 12.44 seconds\n",
      "predict: 87.05 seconds\n"
     ]
    },
    {
     "name": "stdout",
     "output_type": "stream",
     "text": [
      "\n",
      "aws s3 cp /media/yuncong/BstemAtlasData/CSHL_patch_features/inception-bn-blue/MD590/MD590-N65-2015.08.03-21.21.32_MD590_3_0193_lossless_alignedTo_MD590-N47-2015.09.12-05.32.06_MD590_2_0140_cropped/MD590-N65-2015.08.03-21.21.32_MD590_3_0193_lossless_alignedTo_MD590-N47-2015.09.12-05.32.06_MD590_2_0140_cropped_features.hdf s3://mousebrainatlas-data/CSHL_patch_features/inception-bn-blue/MD590/MD590-N65-2015.08.03-21.21.32_MD590_3_0193_lossless_alignedTo_MD590-N47-2015.09.12-05.32.06_MD590_2_0140_cropped/MD590-N65-2015.08.03-21.21.32_MD590_3_0193_lossless_alignedTo_MD590-N47-2015.09.12-05.32.06_MD590_2_0140_cropped_features.hdf\n",
      "aws s3 cp /media/yuncong/BstemAtlasData/CSHL_patch_features/inception-bn-blue/MD590/MD590-N65-2015.08.03-21.21.32_MD590_3_0193_lossless_alignedTo_MD590-N47-2015.09.12-05.32.06_MD590_2_0140_cropped/MD590-N65-2015.08.03-21.21.32_MD590_3_0193_lossless_alignedTo_MD590-N47-2015.09.12-05.32.06_MD590_2_0140_cropped_patch_locations.txt s3://mousebrainatlas-data/CSHL_patch_features/inception-bn-blue/MD590/MD590-N65-2015.08.03-21.21.32_MD590_3_0193_lossless_alignedTo_MD590-N47-2015.09.12-05.32.06_MD590_2_0140_cropped/MD590-N65-2015.08.03-21.21.32_MD590_3_0193_lossless_alignedTo_MD590-N47-2015.09.12-05.32.06_MD590_2_0140_cropped_patch_locations.txt"
     ]
    },
    {
     "name": "stderr",
     "output_type": "stream",
     "text": [
      "Child returned 0\n",
      "2.19 seconds.\n",
      "Child returned"
     ]
    },
    {
     "name": "stdout",
     "output_type": "stream",
     "text": [
      "\n",
      "rm -rf /media/yuncong/BstemAtlasData/CSHL_data_processed/MD590/MD590_masks_alignedTo_MD590-N47-2015.09.12-05.32.06_MD590_2_0140_cropped/MD590-IHC65-2015.08.10-22.35.53_MD590_3_0193_mask_alignedTo_MD590-N47-2015.09.12-05.32.06_MD590_2_0140_cropped.png && mkdir -p /media/yuncong/BstemAtlasData/CSHL_data_processed/MD590/MD590_masks_alignedTo_MD590-N47-2015.09.12-05.32.06_MD590_2_0140_cropped"
     ]
    },
    {
     "name": "stderr",
     "output_type": "stream",
     "text": [
      " 0\n",
      "1.38 seconds.\n",
      "save: 5.26 seconds\n",
      "\n",
      "Section 310.\n",
      "Child returned"
     ]
    },
    {
     "name": "stdout",
     "output_type": "stream",
     "text": [
      "\n",
      "aws s3 cp s3://mousebrainatlas-data/CSHL_data_processed/MD590/MD590_masks_alignedTo_MD590-N47-2015.09.12-05.32.06_MD590_2_0140_cropped/MD590-IHC65-2015.08.10-22.35.53_MD590_3_0193_mask_alignedTo_MD590-N47-2015.09.12-05.32.06_MD590_2_0140_cropped.png /media/yuncong/BstemAtlasData/CSHL_data_processed/MD590/MD590_masks_alignedTo_MD590-N47-2015.09.12-05.32.06_MD590_2_0140_cropped/MD590-IHC65-2015.08.10-22.35.53_MD590_3_0193_mask_alignedTo_MD590-N47-2015.09.12-05.32.06_MD590_2_0140_cropped.png"
     ]
    },
    {
     "name": "stderr",
     "output_type": "stream",
     "text": [
      " 0\n",
      "Child returned 0\n",
      "1.59 seconds.\n",
      "locate patches: 1.61 seconds\n",
      "33700 samples.\n",
      "load image: 1.57 seconds\n",
      "extract patches: 12.27 seconds\n",
      "predict: 86.66 seconds\n"
     ]
    },
    {
     "name": "stdout",
     "output_type": "stream",
     "text": [
      "\n",
      "aws s3 cp /media/yuncong/BstemAtlasData/CSHL_patch_features/inception-bn-blue/MD590/MD590-IHC65-2015.08.10-22.35.53_MD590_3_0193_lossless_alignedTo_MD590-N47-2015.09.12-05.32.06_MD590_2_0140_cropped/MD590-IHC65-2015.08.10-22.35.53_MD590_3_0193_lossless_alignedTo_MD590-N47-2015.09.12-05.32.06_MD590_2_0140_cropped_features.hdf s3://mousebrainatlas-data/CSHL_patch_features/inception-bn-blue/MD590/MD590-IHC65-2015.08.10-22.35.53_MD590_3_0193_lossless_alignedTo_MD590-N47-2015.09.12-05.32.06_MD590_2_0140_cropped/MD590-IHC65-2015.08.10-22.35.53_MD590_3_0193_lossless_alignedTo_MD590-N47-2015.09.12-05.32.06_MD590_2_0140_cropped_features.hdf\n",
      "aws s3 cp /media/yuncong/BstemAtlasData/CSHL_patch_features/inception-bn-blue/MD590/MD590-IHC65-2015.08.10-22.35.53_MD590_3_0193_lossless_alignedTo_MD590-N47-2015.09.12-05.32.06_MD590_2_0140_cropped/MD590-IHC65-2015.08.10-22.35.53_MD590_3_0193_lossless_alignedTo_MD590-N47-2015.09.12-05.32.06_MD590_2_0140_cropped_patch_locations.txt s3://mousebrainatlas-data/CSHL_patch_features/inception-bn-blue/MD590/MD590-IHC65-2015.08.10-22.35.53_MD590_3_0193_lossless_alignedTo_MD590-N47-2015.09.12-05.32.06_MD590_2_0140_cropped/MD590-IHC65-2015.08.10-22.35.53_MD590_3_0193_lossless_alignedTo_MD590-N47-2015.09.12-05.32.06_MD590_2_0140_cropped_patch_locations.txt"
     ]
    },
    {
     "name": "stderr",
     "output_type": "stream",
     "text": [
      "Child returned 0\n",
      "2.24 seconds.\n",
      "Child returned"
     ]
    },
    {
     "name": "stdout",
     "output_type": "stream",
     "text": [
      "\n",
      "rm -rf /media/yuncong/BstemAtlasData/CSHL_data_processed/MD590/MD590_masks_alignedTo_MD590-N47-2015.09.12-05.32.06_MD590_2_0140_cropped/MD590-N65-2015.08.03-21.21.32_MD590_2_0194_mask_alignedTo_MD590-N47-2015.09.12-05.32.06_MD590_2_0140_cropped.png && mkdir -p /media/yuncong/BstemAtlasData/CSHL_data_processed/MD590/MD590_masks_alignedTo_MD590-N47-2015.09.12-05.32.06_MD590_2_0140_cropped"
     ]
    },
    {
     "name": "stderr",
     "output_type": "stream",
     "text": [
      " 0\n",
      "1.26 seconds.\n",
      "save: 5.17 seconds\n",
      "\n",
      "Section 311.\n",
      "Child returned"
     ]
    },
    {
     "name": "stdout",
     "output_type": "stream",
     "text": [
      "\n",
      "aws s3 cp s3://mousebrainatlas-data/CSHL_data_processed/MD590/MD590_masks_alignedTo_MD590-N47-2015.09.12-05.32.06_MD590_2_0140_cropped/MD590-N65-2015.08.03-21.21.32_MD590_2_0194_mask_alignedTo_MD590-N47-2015.09.12-05.32.06_MD590_2_0140_cropped.png /media/yuncong/BstemAtlasData/CSHL_data_processed/MD590/MD590_masks_alignedTo_MD590-N47-2015.09.12-05.32.06_MD590_2_0140_cropped/MD590-N65-2015.08.03-21.21.32_MD590_2_0194_mask_alignedTo_MD590-N47-2015.09.12-05.32.06_MD590_2_0140_cropped.png"
     ]
    },
    {
     "name": "stderr",
     "output_type": "stream",
     "text": [
      " 0\n",
      "Child returned 0\n",
      "1.66 seconds.\n",
      "locate patches: 1.69 seconds\n",
      "33310 samples.\n",
      "load image: 1.54 seconds\n",
      "extract patches: 12.51 seconds\n",
      "predict: 85.83 seconds\n"
     ]
    },
    {
     "name": "stdout",
     "output_type": "stream",
     "text": [
      "\n",
      "aws s3 cp /media/yuncong/BstemAtlasData/CSHL_patch_features/inception-bn-blue/MD590/MD590-N65-2015.08.03-21.21.32_MD590_2_0194_lossless_alignedTo_MD590-N47-2015.09.12-05.32.06_MD590_2_0140_cropped/MD590-N65-2015.08.03-21.21.32_MD590_2_0194_lossless_alignedTo_MD590-N47-2015.09.12-05.32.06_MD590_2_0140_cropped_features.hdf s3://mousebrainatlas-data/CSHL_patch_features/inception-bn-blue/MD590/MD590-N65-2015.08.03-21.21.32_MD590_2_0194_lossless_alignedTo_MD590-N47-2015.09.12-05.32.06_MD590_2_0140_cropped/MD590-N65-2015.08.03-21.21.32_MD590_2_0194_lossless_alignedTo_MD590-N47-2015.09.12-05.32.06_MD590_2_0140_cropped_features.hdf\n",
      "aws s3 cp /media/yuncong/BstemAtlasData/CSHL_patch_features/inception-bn-blue/MD590/MD590-N65-2015.08.03-21.21.32_MD590_2_0194_lossless_alignedTo_MD590-N47-2015.09.12-05.32.06_MD590_2_0140_cropped/MD590-N65-2015.08.03-21.21.32_MD590_2_0194_lossless_alignedTo_MD590-N47-2015.09.12-05.32.06_MD590_2_0140_cropped_patch_locations.txt s3://mousebrainatlas-data/CSHL_patch_features/inception-bn-blue/MD590/MD590-N65-2015.08.03-21.21.32_MD590_2_0194_lossless_alignedTo_MD590-N47-2015.09.12-05.32.06_MD590_2_0140_cropped/MD590-N65-2015.08.03-21.21.32_MD590_2_0194_lossless_alignedTo_MD590-N47-2015.09.12-05.32.06_MD590_2_0140_cropped_patch_locations.txt"
     ]
    },
    {
     "name": "stderr",
     "output_type": "stream",
     "text": [
      "Child returned 0\n",
      "2.26 seconds.\n",
      "Child returned"
     ]
    },
    {
     "name": "stdout",
     "output_type": "stream",
     "text": [
      "\n",
      "rm -rf /media/yuncong/BstemAtlasData/CSHL_data_processed/MD590/MD590_masks_alignedTo_MD590-N47-2015.09.12-05.32.06_MD590_2_0140_cropped/MD590-IHC65-2015.08.10-22.35.53_MD590_2_0194_mask_alignedTo_MD590-N47-2015.09.12-05.32.06_MD590_2_0140_cropped.png && mkdir -p /media/yuncong/BstemAtlasData/CSHL_data_processed/MD590/MD590_masks_alignedTo_MD590-N47-2015.09.12-05.32.06_MD590_2_0140_cropped"
     ]
    },
    {
     "name": "stderr",
     "output_type": "stream",
     "text": [
      " 0\n",
      "1.22 seconds.\n",
      "save: 5.14 seconds\n",
      "\n",
      "Section 312.\n",
      "Child returned"
     ]
    },
    {
     "name": "stdout",
     "output_type": "stream",
     "text": [
      "\n",
      "aws s3 cp s3://mousebrainatlas-data/CSHL_data_processed/MD590/MD590_masks_alignedTo_MD590-N47-2015.09.12-05.32.06_MD590_2_0140_cropped/MD590-IHC65-2015.08.10-22.35.53_MD590_2_0194_mask_alignedTo_MD590-N47-2015.09.12-05.32.06_MD590_2_0140_cropped.png /media/yuncong/BstemAtlasData/CSHL_data_processed/MD590/MD590_masks_alignedTo_MD590-N47-2015.09.12-05.32.06_MD590_2_0140_cropped/MD590-IHC65-2015.08.10-22.35.53_MD590_2_0194_mask_alignedTo_MD590-N47-2015.09.12-05.32.06_MD590_2_0140_cropped.png"
     ]
    },
    {
     "name": "stderr",
     "output_type": "stream",
     "text": [
      " 0\n",
      "Child returned 0\n",
      "1.69 seconds.\n",
      "locate patches: 1.72 seconds\n",
      "33359 samples.\n",
      "load image: 1.51 seconds\n",
      "extract patches: 12.85 seconds\n",
      "predict: 85.89 seconds\n"
     ]
    },
    {
     "name": "stdout",
     "output_type": "stream",
     "text": [
      "\n",
      "aws s3 cp /media/yuncong/BstemAtlasData/CSHL_patch_features/inception-bn-blue/MD590/MD590-IHC65-2015.08.10-22.35.53_MD590_2_0194_lossless_alignedTo_MD590-N47-2015.09.12-05.32.06_MD590_2_0140_cropped/MD590-IHC65-2015.08.10-22.35.53_MD590_2_0194_lossless_alignedTo_MD590-N47-2015.09.12-05.32.06_MD590_2_0140_cropped_features.hdf s3://mousebrainatlas-data/CSHL_patch_features/inception-bn-blue/MD590/MD590-IHC65-2015.08.10-22.35.53_MD590_2_0194_lossless_alignedTo_MD590-N47-2015.09.12-05.32.06_MD590_2_0140_cropped/MD590-IHC65-2015.08.10-22.35.53_MD590_2_0194_lossless_alignedTo_MD590-N47-2015.09.12-05.32.06_MD590_2_0140_cropped_features.hdf\n",
      "aws s3 cp /media/yuncong/BstemAtlasData/CSHL_patch_features/inception-bn-blue/MD590/MD590-IHC65-2015.08.10-22.35.53_MD590_2_0194_lossless_alignedTo_MD590-N47-2015.09.12-05.32.06_MD590_2_0140_cropped/MD590-IHC65-2015.08.10-22.35.53_MD590_2_0194_lossless_alignedTo_MD590-N47-2015.09.12-05.32.06_MD590_2_0140_cropped_patch_locations.txt s3://mousebrainatlas-data/CSHL_patch_features/inception-bn-blue/MD590/MD590-IHC65-2015.08.10-22.35.53_MD590_2_0194_lossless_alignedTo_MD590-N47-2015.09.12-05.32.06_MD590_2_0140_cropped/MD590-IHC65-2015.08.10-22.35.53_MD590_2_0194_lossless_alignedTo_MD590-N47-2015.09.12-05.32.06_MD590_2_0140_cropped_patch_locations.txt"
     ]
    },
    {
     "name": "stderr",
     "output_type": "stream",
     "text": [
      "Child returned 0\n",
      "2.24 seconds.\n",
      "Child returned"
     ]
    },
    {
     "name": "stdout",
     "output_type": "stream",
     "text": [
      "\n",
      "rm -rf /media/yuncong/BstemAtlasData/CSHL_data_processed/MD590/MD590_masks_alignedTo_MD590-N47-2015.09.12-05.32.06_MD590_2_0140_cropped/MD590-N65-2015.08.03-21.21.32_MD590_1_0195_mask_alignedTo_MD590-N47-2015.09.12-05.32.06_MD590_2_0140_cropped.png && mkdir -p /media/yuncong/BstemAtlasData/CSHL_data_processed/MD590/MD590_masks_alignedTo_MD590-N47-2015.09.12-05.32.06_MD590_2_0140_cropped"
     ]
    },
    {
     "name": "stderr",
     "output_type": "stream",
     "text": [
      " 0\n",
      "1.23 seconds.\n",
      "save: 5.17 seconds\n",
      "\n",
      "Section 313.\n",
      "Child returned"
     ]
    },
    {
     "name": "stdout",
     "output_type": "stream",
     "text": [
      "\n",
      "aws s3 cp s3://mousebrainatlas-data/CSHL_data_processed/MD590/MD590_masks_alignedTo_MD590-N47-2015.09.12-05.32.06_MD590_2_0140_cropped/MD590-N65-2015.08.03-21.21.32_MD590_1_0195_mask_alignedTo_MD590-N47-2015.09.12-05.32.06_MD590_2_0140_cropped.png /media/yuncong/BstemAtlasData/CSHL_data_processed/MD590/MD590_masks_alignedTo_MD590-N47-2015.09.12-05.32.06_MD590_2_0140_cropped/MD590-N65-2015.08.03-21.21.32_MD590_1_0195_mask_alignedTo_MD590-N47-2015.09.12-05.32.06_MD590_2_0140_cropped.png"
     ]
    },
    {
     "name": "stderr",
     "output_type": "stream",
     "text": [
      " 0\n",
      "Child returned 0\n",
      "1.71 seconds.\n",
      "locate patches: 1.73 seconds\n",
      "32754 samples.\n",
      "load image: 1.45 seconds\n",
      "extract patches: 12.74 seconds\n",
      "predict: 83.70 seconds\n"
     ]
    },
    {
     "name": "stdout",
     "output_type": "stream",
     "text": [
      "\n",
      "aws s3 cp /media/yuncong/BstemAtlasData/CSHL_patch_features/inception-bn-blue/MD590/MD590-N65-2015.08.03-21.21.32_MD590_1_0195_lossless_alignedTo_MD590-N47-2015.09.12-05.32.06_MD590_2_0140_cropped/MD590-N65-2015.08.03-21.21.32_MD590_1_0195_lossless_alignedTo_MD590-N47-2015.09.12-05.32.06_MD590_2_0140_cropped_features.hdf s3://mousebrainatlas-data/CSHL_patch_features/inception-bn-blue/MD590/MD590-N65-2015.08.03-21.21.32_MD590_1_0195_lossless_alignedTo_MD590-N47-2015.09.12-05.32.06_MD590_2_0140_cropped/MD590-N65-2015.08.03-21.21.32_MD590_1_0195_lossless_alignedTo_MD590-N47-2015.09.12-05.32.06_MD590_2_0140_cropped_features.hdf\n",
      "aws s3 cp /media/yuncong/BstemAtlasData/CSHL_patch_features/inception-bn-blue/MD590/MD590-N65-2015.08.03-21.21.32_MD590_1_0195_lossless_alignedTo_MD590-N47-2015.09.12-05.32.06_MD590_2_0140_cropped/MD590-N65-2015.08.03-21.21.32_MD590_1_0195_lossless_alignedTo_MD590-N47-2015.09.12-05.32.06_MD590_2_0140_cropped_patch_locations.txt s3://mousebrainatlas-data/CSHL_patch_features/inception-bn-blue/MD590/MD590-N65-2015.08.03-21.21.32_MD590_1_0195_lossless_alignedTo_MD590-N47-2015.09.12-05.32.06_MD590_2_0140_cropped/MD590-N65-2015.08.03-21.21.32_MD590_1_0195_lossless_alignedTo_MD590-N47-2015.09.12-05.32.06_MD590_2_0140_cropped_patch_locations.txt"
     ]
    },
    {
     "name": "stderr",
     "output_type": "stream",
     "text": [
      "Child returned 0\n",
      "2.72 seconds.\n",
      "Child returned"
     ]
    },
    {
     "name": "stdout",
     "output_type": "stream",
     "text": [
      "\n",
      "rm -rf /media/yuncong/BstemAtlasData/CSHL_data_processed/MD590/MD590_masks_alignedTo_MD590-N47-2015.09.12-05.32.06_MD590_2_0140_cropped/MD590-IHC65-2015.08.10-22.35.53_MD590_1_0195_mask_alignedTo_MD590-N47-2015.09.12-05.32.06_MD590_2_0140_cropped.png && mkdir -p /media/yuncong/BstemAtlasData/CSHL_data_processed/MD590/MD590_masks_alignedTo_MD590-N47-2015.09.12-05.32.06_MD590_2_0140_cropped"
     ]
    },
    {
     "name": "stderr",
     "output_type": "stream",
     "text": [
      " 0\n",
      "1.76 seconds.\n",
      "save: 6.11 seconds\n",
      "\n",
      "Section 314.\n",
      "Child returned"
     ]
    },
    {
     "name": "stdout",
     "output_type": "stream",
     "text": [
      "\n",
      "aws s3 cp s3://mousebrainatlas-data/CSHL_data_processed/MD590/MD590_masks_alignedTo_MD590-N47-2015.09.12-05.32.06_MD590_2_0140_cropped/MD590-IHC65-2015.08.10-22.35.53_MD590_1_0195_mask_alignedTo_MD590-N47-2015.09.12-05.32.06_MD590_2_0140_cropped.png /media/yuncong/BstemAtlasData/CSHL_data_processed/MD590/MD590_masks_alignedTo_MD590-N47-2015.09.12-05.32.06_MD590_2_0140_cropped/MD590-IHC65-2015.08.10-22.35.53_MD590_1_0195_mask_alignedTo_MD590-N47-2015.09.12-05.32.06_MD590_2_0140_cropped.png"
     ]
    },
    {
     "name": "stderr",
     "output_type": "stream",
     "text": [
      " 0\n",
      "Child returned 0\n",
      "1.80 seconds.\n",
      "locate patches: 1.82 seconds\n",
      "32811 samples.\n",
      "load image: 1.54 seconds\n",
      "extract patches: 12.54 seconds\n",
      "predict: 84.42 seconds\n"
     ]
    },
    {
     "name": "stdout",
     "output_type": "stream",
     "text": [
      "\n",
      "aws s3 cp /media/yuncong/BstemAtlasData/CSHL_patch_features/inception-bn-blue/MD590/MD590-IHC65-2015.08.10-22.35.53_MD590_1_0195_lossless_alignedTo_MD590-N47-2015.09.12-05.32.06_MD590_2_0140_cropped/MD590-IHC65-2015.08.10-22.35.53_MD590_1_0195_lossless_alignedTo_MD590-N47-2015.09.12-05.32.06_MD590_2_0140_cropped_features.hdf s3://mousebrainatlas-data/CSHL_patch_features/inception-bn-blue/MD590/MD590-IHC65-2015.08.10-22.35.53_MD590_1_0195_lossless_alignedTo_MD590-N47-2015.09.12-05.32.06_MD590_2_0140_cropped/MD590-IHC65-2015.08.10-22.35.53_MD590_1_0195_lossless_alignedTo_MD590-N47-2015.09.12-05.32.06_MD590_2_0140_cropped_features.hdf\n",
      "aws s3 cp /media/yuncong/BstemAtlasData/CSHL_patch_features/inception-bn-blue/MD590/MD590-IHC65-2015.08.10-22.35.53_MD590_1_0195_lossless_alignedTo_MD590-N47-2015.09.12-05.32.06_MD590_2_0140_cropped/MD590-IHC65-2015.08.10-22.35.53_MD590_1_0195_lossless_alignedTo_MD590-N47-2015.09.12-05.32.06_MD590_2_0140_cropped_patch_locations.txt s3://mousebrainatlas-data/CSHL_patch_features/inception-bn-blue/MD590/MD590-IHC65-2015.08.10-22.35.53_MD590_1_0195_lossless_alignedTo_MD590-N47-2015.09.12-05.32.06_MD590_2_0140_cropped/MD590-IHC65-2015.08.10-22.35.53_MD590_1_0195_lossless_alignedTo_MD590-N47-2015.09.12-05.32.06_MD590_2_0140_cropped_patch_locations.txt"
     ]
    },
    {
     "name": "stderr",
     "output_type": "stream",
     "text": [
      "Child returned 0\n",
      "2.75 seconds.\n",
      "Child returned"
     ]
    },
    {
     "name": "stdout",
     "output_type": "stream",
     "text": [
      "\n",
      "rm -rf /media/yuncong/BstemAtlasData/CSHL_data_processed/MD590/MD590_masks_alignedTo_MD590-N47-2015.09.12-05.32.06_MD590_2_0140_cropped/MD590-N66-2015.08.03-21.25.41_MD590_3_0196_mask_alignedTo_MD590-N47-2015.09.12-05.32.06_MD590_2_0140_cropped.png && mkdir -p /media/yuncong/BstemAtlasData/CSHL_data_processed/MD590/MD590_masks_alignedTo_MD590-N47-2015.09.12-05.32.06_MD590_2_0140_cropped"
     ]
    },
    {
     "name": "stderr",
     "output_type": "stream",
     "text": [
      " 0\n",
      "1.21 seconds.\n",
      "save: 5.57 seconds\n",
      "\n",
      "Section 315.\n",
      "Child returned"
     ]
    },
    {
     "name": "stdout",
     "output_type": "stream",
     "text": [
      "\n",
      "aws s3 cp s3://mousebrainatlas-data/CSHL_data_processed/MD590/MD590_masks_alignedTo_MD590-N47-2015.09.12-05.32.06_MD590_2_0140_cropped/MD590-N66-2015.08.03-21.25.41_MD590_3_0196_mask_alignedTo_MD590-N47-2015.09.12-05.32.06_MD590_2_0140_cropped.png /media/yuncong/BstemAtlasData/CSHL_data_processed/MD590/MD590_masks_alignedTo_MD590-N47-2015.09.12-05.32.06_MD590_2_0140_cropped/MD590-N66-2015.08.03-21.25.41_MD590_3_0196_mask_alignedTo_MD590-N47-2015.09.12-05.32.06_MD590_2_0140_cropped.png"
     ]
    },
    {
     "name": "stderr",
     "output_type": "stream",
     "text": [
      " 0\n",
      "Child returned 0\n",
      "1.59 seconds.\n",
      "locate patches: 1.61 seconds\n",
      "32558 samples.\n",
      "load image: 1.54 seconds\n",
      "extract patches: 12.78 seconds\n",
      "predict: 83.48 seconds\n"
     ]
    },
    {
     "name": "stdout",
     "output_type": "stream",
     "text": [
      "\n",
      "aws s3 cp /media/yuncong/BstemAtlasData/CSHL_patch_features/inception-bn-blue/MD590/MD590-N66-2015.08.03-21.25.41_MD590_3_0196_lossless_alignedTo_MD590-N47-2015.09.12-05.32.06_MD590_2_0140_cropped/MD590-N66-2015.08.03-21.25.41_MD590_3_0196_lossless_alignedTo_MD590-N47-2015.09.12-05.32.06_MD590_2_0140_cropped_features.hdf s3://mousebrainatlas-data/CSHL_patch_features/inception-bn-blue/MD590/MD590-N66-2015.08.03-21.25.41_MD590_3_0196_lossless_alignedTo_MD590-N47-2015.09.12-05.32.06_MD590_2_0140_cropped/MD590-N66-2015.08.03-21.25.41_MD590_3_0196_lossless_alignedTo_MD590-N47-2015.09.12-05.32.06_MD590_2_0140_cropped_features.hdf\n",
      "aws s3 cp /media/yuncong/BstemAtlasData/CSHL_patch_features/inception-bn-blue/MD590/MD590-N66-2015.08.03-21.25.41_MD590_3_0196_lossless_alignedTo_MD590-N47-2015.09.12-05.32.06_MD590_2_0140_cropped/MD590-N66-2015.08.03-21.25.41_MD590_3_0196_lossless_alignedTo_MD590-N47-2015.09.12-05.32.06_MD590_2_0140_cropped_patch_locations.txt s3://mousebrainatlas-data/CSHL_patch_features/inception-bn-blue/MD590/MD590-N66-2015.08.03-21.25.41_MD590_3_0196_lossless_alignedTo_MD590-N47-2015.09.12-05.32.06_MD590_2_0140_cropped/MD590-N66-2015.08.03-21.25.41_MD590_3_0196_lossless_alignedTo_MD590-N47-2015.09.12-05.32.06_MD590_2_0140_cropped_patch_locations.txt"
     ]
    },
    {
     "name": "stderr",
     "output_type": "stream",
     "text": [
      "Child returned 0\n",
      "2.28 seconds.\n",
      "Child returned"
     ]
    },
    {
     "name": "stdout",
     "output_type": "stream",
     "text": [
      "\n",
      "rm -rf /media/yuncong/BstemAtlasData/CSHL_data_processed/MD590/MD590_masks_alignedTo_MD590-N47-2015.09.12-05.32.06_MD590_2_0140_cropped/MD590-IHC66-2015.08.10-22.50.24_MD590_3_0196_mask_alignedTo_MD590-N47-2015.09.12-05.32.06_MD590_2_0140_cropped.png && mkdir -p /media/yuncong/BstemAtlasData/CSHL_data_processed/MD590/MD590_masks_alignedTo_MD590-N47-2015.09.12-05.32.06_MD590_2_0140_cropped"
     ]
    },
    {
     "name": "stderr",
     "output_type": "stream",
     "text": [
      " 0\n",
      "1.26 seconds.\n",
      "save: 5.14 seconds\n",
      "\n",
      "Section 316.\n",
      "Child returned"
     ]
    },
    {
     "name": "stdout",
     "output_type": "stream",
     "text": [
      "\n",
      "aws s3 cp s3://mousebrainatlas-data/CSHL_data_processed/MD590/MD590_masks_alignedTo_MD590-N47-2015.09.12-05.32.06_MD590_2_0140_cropped/MD590-IHC66-2015.08.10-22.50.24_MD590_3_0196_mask_alignedTo_MD590-N47-2015.09.12-05.32.06_MD590_2_0140_cropped.png /media/yuncong/BstemAtlasData/CSHL_data_processed/MD590/MD590_masks_alignedTo_MD590-N47-2015.09.12-05.32.06_MD590_2_0140_cropped/MD590-IHC66-2015.08.10-22.50.24_MD590_3_0196_mask_alignedTo_MD590-N47-2015.09.12-05.32.06_MD590_2_0140_cropped.png"
     ]
    },
    {
     "name": "stderr",
     "output_type": "stream",
     "text": [
      " 0\n",
      "Child returned 0\n",
      "1.69 seconds.\n",
      "locate patches: 1.72 seconds\n",
      "32491 samples.\n",
      "load image: 1.52 seconds\n",
      "extract patches: 13.12 seconds\n",
      "predict: 82.97 seconds\n"
     ]
    },
    {
     "name": "stdout",
     "output_type": "stream",
     "text": [
      "\n",
      "aws s3 cp /media/yuncong/BstemAtlasData/CSHL_patch_features/inception-bn-blue/MD590/MD590-IHC66-2015.08.10-22.50.24_MD590_3_0196_lossless_alignedTo_MD590-N47-2015.09.12-05.32.06_MD590_2_0140_cropped/MD590-IHC66-2015.08.10-22.50.24_MD590_3_0196_lossless_alignedTo_MD590-N47-2015.09.12-05.32.06_MD590_2_0140_cropped_features.hdf s3://mousebrainatlas-data/CSHL_patch_features/inception-bn-blue/MD590/MD590-IHC66-2015.08.10-22.50.24_MD590_3_0196_lossless_alignedTo_MD590-N47-2015.09.12-05.32.06_MD590_2_0140_cropped/MD590-IHC66-2015.08.10-22.50.24_MD590_3_0196_lossless_alignedTo_MD590-N47-2015.09.12-05.32.06_MD590_2_0140_cropped_features.hdf\n",
      "aws s3 cp /media/yuncong/BstemAtlasData/CSHL_patch_features/inception-bn-blue/MD590/MD590-IHC66-2015.08.10-22.50.24_MD590_3_0196_lossless_alignedTo_MD590-N47-2015.09.12-05.32.06_MD590_2_0140_cropped/MD590-IHC66-2015.08.10-22.50.24_MD590_3_0196_lossless_alignedTo_MD590-N47-2015.09.12-05.32.06_MD590_2_0140_cropped_patch_locations.txt s3://mousebrainatlas-data/CSHL_patch_features/inception-bn-blue/MD590/MD590-IHC66-2015.08.10-22.50.24_MD590_3_0196_lossless_alignedTo_MD590-N47-2015.09.12-05.32.06_MD590_2_0140_cropped/MD590-IHC66-2015.08.10-22.50.24_MD590_3_0196_lossless_alignedTo_MD590-N47-2015.09.12-05.32.06_MD590_2_0140_cropped_patch_locations.txt"
     ]
    },
    {
     "name": "stderr",
     "output_type": "stream",
     "text": [
      "Child returned 0\n",
      "2.94 seconds.\n",
      "Child returned"
     ]
    },
    {
     "name": "stdout",
     "output_type": "stream",
     "text": [
      "\n",
      "rm -rf /media/yuncong/BstemAtlasData/CSHL_data_processed/MD590/MD590_masks_alignedTo_MD590-N47-2015.09.12-05.32.06_MD590_2_0140_cropped/MD590-N66-2015.08.03-21.25.41_MD590_2_0197_mask_alignedTo_MD590-N47-2015.09.12-05.32.06_MD590_2_0140_cropped.png && mkdir -p /media/yuncong/BstemAtlasData/CSHL_data_processed/MD590/MD590_masks_alignedTo_MD590-N47-2015.09.12-05.32.06_MD590_2_0140_cropped"
     ]
    },
    {
     "name": "stderr",
     "output_type": "stream",
     "text": [
      " 0\n",
      "1.20 seconds.\n",
      "save: 5.75 seconds\n",
      "\n",
      "Section 317.\n",
      "Child returned"
     ]
    },
    {
     "name": "stdout",
     "output_type": "stream",
     "text": [
      "\n",
      "aws s3 cp s3://mousebrainatlas-data/CSHL_data_processed/MD590/MD590_masks_alignedTo_MD590-N47-2015.09.12-05.32.06_MD590_2_0140_cropped/MD590-N66-2015.08.03-21.25.41_MD590_2_0197_mask_alignedTo_MD590-N47-2015.09.12-05.32.06_MD590_2_0140_cropped.png /media/yuncong/BstemAtlasData/CSHL_data_processed/MD590/MD590_masks_alignedTo_MD590-N47-2015.09.12-05.32.06_MD590_2_0140_cropped/MD590-N66-2015.08.03-21.25.41_MD590_2_0197_mask_alignedTo_MD590-N47-2015.09.12-05.32.06_MD590_2_0140_cropped.png"
     ]
    },
    {
     "name": "stderr",
     "output_type": "stream",
     "text": [
      " 0\n",
      "Child returned 0\n",
      "1.82 seconds.\n",
      "locate patches: 1.85 seconds\n",
      "31977 samples.\n",
      "load image: 1.56 seconds\n",
      "extract patches: 12.88 seconds\n",
      "predict: 81.74 seconds\n"
     ]
    },
    {
     "name": "stdout",
     "output_type": "stream",
     "text": [
      "\n",
      "aws s3 cp /media/yuncong/BstemAtlasData/CSHL_patch_features/inception-bn-blue/MD590/MD590-N66-2015.08.03-21.25.41_MD590_2_0197_lossless_alignedTo_MD590-N47-2015.09.12-05.32.06_MD590_2_0140_cropped/MD590-N66-2015.08.03-21.25.41_MD590_2_0197_lossless_alignedTo_MD590-N47-2015.09.12-05.32.06_MD590_2_0140_cropped_features.hdf s3://mousebrainatlas-data/CSHL_patch_features/inception-bn-blue/MD590/MD590-N66-2015.08.03-21.25.41_MD590_2_0197_lossless_alignedTo_MD590-N47-2015.09.12-05.32.06_MD590_2_0140_cropped/MD590-N66-2015.08.03-21.25.41_MD590_2_0197_lossless_alignedTo_MD590-N47-2015.09.12-05.32.06_MD590_2_0140_cropped_features.hdf\n",
      "aws s3 cp /media/yuncong/BstemAtlasData/CSHL_patch_features/inception-bn-blue/MD590/MD590-N66-2015.08.03-21.25.41_MD590_2_0197_lossless_alignedTo_MD590-N47-2015.09.12-05.32.06_MD590_2_0140_cropped/MD590-N66-2015.08.03-21.25.41_MD590_2_0197_lossless_alignedTo_MD590-N47-2015.09.12-05.32.06_MD590_2_0140_cropped_patch_locations.txt s3://mousebrainatlas-data/CSHL_patch_features/inception-bn-blue/MD590/MD590-N66-2015.08.03-21.25.41_MD590_2_0197_lossless_alignedTo_MD590-N47-2015.09.12-05.32.06_MD590_2_0140_cropped/MD590-N66-2015.08.03-21.25.41_MD590_2_0197_lossless_alignedTo_MD590-N47-2015.09.12-05.32.06_MD590_2_0140_cropped_patch_locations.txt"
     ]
    },
    {
     "name": "stderr",
     "output_type": "stream",
     "text": [
      "Child returned 0\n",
      "3.63 seconds.\n",
      "Child returned"
     ]
    },
    {
     "name": "stdout",
     "output_type": "stream",
     "text": [
      "\n",
      "rm -rf /media/yuncong/BstemAtlasData/CSHL_data_processed/MD590/MD590_masks_alignedTo_MD590-N47-2015.09.12-05.32.06_MD590_2_0140_cropped/MD590-IHC66-2015.08.10-22.50.24_MD590_2_0197_mask_alignedTo_MD590-N47-2015.09.12-05.32.06_MD590_2_0140_cropped.png && mkdir -p /media/yuncong/BstemAtlasData/CSHL_data_processed/MD590/MD590_masks_alignedTo_MD590-N47-2015.09.12-05.32.06_MD590_2_0140_cropped"
     ]
    },
    {
     "name": "stderr",
     "output_type": "stream",
     "text": [
      " 0\n",
      "1.26 seconds.\n",
      "save: 6.50 seconds\n",
      "\n",
      "Section 318.\n",
      "Child returned"
     ]
    },
    {
     "name": "stdout",
     "output_type": "stream",
     "text": [
      "\n",
      "aws s3 cp s3://mousebrainatlas-data/CSHL_data_processed/MD590/MD590_masks_alignedTo_MD590-N47-2015.09.12-05.32.06_MD590_2_0140_cropped/MD590-IHC66-2015.08.10-22.50.24_MD590_2_0197_mask_alignedTo_MD590-N47-2015.09.12-05.32.06_MD590_2_0140_cropped.png /media/yuncong/BstemAtlasData/CSHL_data_processed/MD590/MD590_masks_alignedTo_MD590-N47-2015.09.12-05.32.06_MD590_2_0140_cropped/MD590-IHC66-2015.08.10-22.50.24_MD590_2_0197_mask_alignedTo_MD590-N47-2015.09.12-05.32.06_MD590_2_0140_cropped.png"
     ]
    },
    {
     "name": "stderr",
     "output_type": "stream",
     "text": [
      " 0\n",
      "Child returned 0\n",
      "1.71 seconds.\n",
      "locate patches: 1.74 seconds\n",
      "32141 samples.\n",
      "load image: 1.53 seconds\n",
      "extract patches: 13.17 seconds\n",
      "predict: 82.35 seconds\n"
     ]
    },
    {
     "name": "stdout",
     "output_type": "stream",
     "text": [
      "\n",
      "aws s3 cp /media/yuncong/BstemAtlasData/CSHL_patch_features/inception-bn-blue/MD590/MD590-IHC66-2015.08.10-22.50.24_MD590_2_0197_lossless_alignedTo_MD590-N47-2015.09.12-05.32.06_MD590_2_0140_cropped/MD590-IHC66-2015.08.10-22.50.24_MD590_2_0197_lossless_alignedTo_MD590-N47-2015.09.12-05.32.06_MD590_2_0140_cropped_features.hdf s3://mousebrainatlas-data/CSHL_patch_features/inception-bn-blue/MD590/MD590-IHC66-2015.08.10-22.50.24_MD590_2_0197_lossless_alignedTo_MD590-N47-2015.09.12-05.32.06_MD590_2_0140_cropped/MD590-IHC66-2015.08.10-22.50.24_MD590_2_0197_lossless_alignedTo_MD590-N47-2015.09.12-05.32.06_MD590_2_0140_cropped_features.hdf\n",
      "aws s3 cp /media/yuncong/BstemAtlasData/CSHL_patch_features/inception-bn-blue/MD590/MD590-IHC66-2015.08.10-22.50.24_MD590_2_0197_lossless_alignedTo_MD590-N47-2015.09.12-05.32.06_MD590_2_0140_cropped/MD590-IHC66-2015.08.10-22.50.24_MD590_2_0197_lossless_alignedTo_MD590-N47-2015.09.12-05.32.06_MD590_2_0140_cropped_patch_locations.txt s3://mousebrainatlas-data/CSHL_patch_features/inception-bn-blue/MD590/MD590-IHC66-2015.08.10-22.50.24_MD590_2_0197_lossless_alignedTo_MD590-N47-2015.09.12-05.32.06_MD590_2_0140_cropped/MD590-IHC66-2015.08.10-22.50.24_MD590_2_0197_lossless_alignedTo_MD590-N47-2015.09.12-05.32.06_MD590_2_0140_cropped_patch_locations.txt"
     ]
    },
    {
     "name": "stderr",
     "output_type": "stream",
     "text": [
      "Child returned 0\n",
      "2.18 seconds.\n",
      "Child returned"
     ]
    },
    {
     "name": "stdout",
     "output_type": "stream",
     "text": [
      "\n",
      "rm -rf /media/yuncong/BstemAtlasData/CSHL_data_processed/MD590/MD590_masks_alignedTo_MD590-N47-2015.09.12-05.32.06_MD590_2_0140_cropped/MD590-N66-2015.08.03-21.25.41_MD590_1_0198_mask_alignedTo_MD590-N47-2015.09.12-05.32.06_MD590_2_0140_cropped.png && mkdir -p /media/yuncong/BstemAtlasData/CSHL_data_processed/MD590/MD590_masks_alignedTo_MD590-N47-2015.09.12-05.32.06_MD590_2_0140_cropped"
     ]
    },
    {
     "name": "stderr",
     "output_type": "stream",
     "text": [
      " 0\n",
      "1.20 seconds.\n",
      "save: 4.96 seconds\n",
      "\n",
      "Section 319.\n",
      "Child returned"
     ]
    },
    {
     "name": "stdout",
     "output_type": "stream",
     "text": [
      "\n",
      "aws s3 cp s3://mousebrainatlas-data/CSHL_data_processed/MD590/MD590_masks_alignedTo_MD590-N47-2015.09.12-05.32.06_MD590_2_0140_cropped/MD590-N66-2015.08.03-21.25.41_MD590_1_0198_mask_alignedTo_MD590-N47-2015.09.12-05.32.06_MD590_2_0140_cropped.png /media/yuncong/BstemAtlasData/CSHL_data_processed/MD590/MD590_masks_alignedTo_MD590-N47-2015.09.12-05.32.06_MD590_2_0140_cropped/MD590-N66-2015.08.03-21.25.41_MD590_1_0198_mask_alignedTo_MD590-N47-2015.09.12-05.32.06_MD590_2_0140_cropped.png"
     ]
    },
    {
     "name": "stderr",
     "output_type": "stream",
     "text": [
      " 0\n",
      "Child returned 0\n",
      "1.64 seconds.\n",
      "locate patches: 1.67 seconds\n",
      "31872 samples.\n",
      "load image: 1.48 seconds\n",
      "extract patches: 12.91 seconds\n",
      "predict: 81.66 seconds\n"
     ]
    },
    {
     "name": "stdout",
     "output_type": "stream",
     "text": [
      "\n",
      "aws s3 cp /media/yuncong/BstemAtlasData/CSHL_patch_features/inception-bn-blue/MD590/MD590-N66-2015.08.03-21.25.41_MD590_1_0198_lossless_alignedTo_MD590-N47-2015.09.12-05.32.06_MD590_2_0140_cropped/MD590-N66-2015.08.03-21.25.41_MD590_1_0198_lossless_alignedTo_MD590-N47-2015.09.12-05.32.06_MD590_2_0140_cropped_features.hdf s3://mousebrainatlas-data/CSHL_patch_features/inception-bn-blue/MD590/MD590-N66-2015.08.03-21.25.41_MD590_1_0198_lossless_alignedTo_MD590-N47-2015.09.12-05.32.06_MD590_2_0140_cropped/MD590-N66-2015.08.03-21.25.41_MD590_1_0198_lossless_alignedTo_MD590-N47-2015.09.12-05.32.06_MD590_2_0140_cropped_features.hdf\n",
      "aws s3 cp /media/yuncong/BstemAtlasData/CSHL_patch_features/inception-bn-blue/MD590/MD590-N66-2015.08.03-21.25.41_MD590_1_0198_lossless_alignedTo_MD590-N47-2015.09.12-05.32.06_MD590_2_0140_cropped/MD590-N66-2015.08.03-21.25.41_MD590_1_0198_lossless_alignedTo_MD590-N47-2015.09.12-05.32.06_MD590_2_0140_cropped_patch_locations.txt s3://mousebrainatlas-data/CSHL_patch_features/inception-bn-blue/MD590/MD590-N66-2015.08.03-21.25.41_MD590_1_0198_lossless_alignedTo_MD590-N47-2015.09.12-05.32.06_MD590_2_0140_cropped/MD590-N66-2015.08.03-21.25.41_MD590_1_0198_lossless_alignedTo_MD590-N47-2015.09.12-05.32.06_MD590_2_0140_cropped_patch_locations.txt"
     ]
    },
    {
     "name": "stderr",
     "output_type": "stream",
     "text": [
      "Child returned 0\n",
      "2.19 seconds.\n",
      "Child returned"
     ]
    },
    {
     "name": "stdout",
     "output_type": "stream",
     "text": [
      "\n",
      "rm -rf /media/yuncong/BstemAtlasData/CSHL_data_processed/MD590/MD590_masks_alignedTo_MD590-N47-2015.09.12-05.32.06_MD590_2_0140_cropped/MD590-IHC66-2015.08.10-22.50.24_MD590_1_0198_mask_alignedTo_MD590-N47-2015.09.12-05.32.06_MD590_2_0140_cropped.png && mkdir -p /media/yuncong/BstemAtlasData/CSHL_data_processed/MD590/MD590_masks_alignedTo_MD590-N47-2015.09.12-05.32.06_MD590_2_0140_cropped"
     ]
    },
    {
     "name": "stderr",
     "output_type": "stream",
     "text": [
      " 0\n",
      "1.24 seconds.\n",
      "save: 5.04 seconds\n",
      "\n",
      "Section 320.\n",
      "Child returned"
     ]
    },
    {
     "name": "stdout",
     "output_type": "stream",
     "text": [
      "\n",
      "aws s3 cp s3://mousebrainatlas-data/CSHL_data_processed/MD590/MD590_masks_alignedTo_MD590-N47-2015.09.12-05.32.06_MD590_2_0140_cropped/MD590-IHC66-2015.08.10-22.50.24_MD590_1_0198_mask_alignedTo_MD590-N47-2015.09.12-05.32.06_MD590_2_0140_cropped.png /media/yuncong/BstemAtlasData/CSHL_data_processed/MD590/MD590_masks_alignedTo_MD590-N47-2015.09.12-05.32.06_MD590_2_0140_cropped/MD590-IHC66-2015.08.10-22.50.24_MD590_1_0198_mask_alignedTo_MD590-N47-2015.09.12-05.32.06_MD590_2_0140_cropped.png"
     ]
    },
    {
     "name": "stderr",
     "output_type": "stream",
     "text": [
      " 0\n",
      "Child returned 0\n",
      "1.69 seconds.\n",
      "locate patches: 1.72 seconds\n",
      "31933 samples.\n",
      "load image: 1.45 seconds\n",
      "extract patches: 12.48 seconds\n",
      "predict: 81.92 seconds\n"
     ]
    },
    {
     "name": "stdout",
     "output_type": "stream",
     "text": [
      "\n",
      "aws s3 cp /media/yuncong/BstemAtlasData/CSHL_patch_features/inception-bn-blue/MD590/MD590-IHC66-2015.08.10-22.50.24_MD590_1_0198_lossless_alignedTo_MD590-N47-2015.09.12-05.32.06_MD590_2_0140_cropped/MD590-IHC66-2015.08.10-22.50.24_MD590_1_0198_lossless_alignedTo_MD590-N47-2015.09.12-05.32.06_MD590_2_0140_cropped_features.hdf s3://mousebrainatlas-data/CSHL_patch_features/inception-bn-blue/MD590/MD590-IHC66-2015.08.10-22.50.24_MD590_1_0198_lossless_alignedTo_MD590-N47-2015.09.12-05.32.06_MD590_2_0140_cropped/MD590-IHC66-2015.08.10-22.50.24_MD590_1_0198_lossless_alignedTo_MD590-N47-2015.09.12-05.32.06_MD590_2_0140_cropped_features.hdf\n",
      "aws s3 cp /media/yuncong/BstemAtlasData/CSHL_patch_features/inception-bn-blue/MD590/MD590-IHC66-2015.08.10-22.50.24_MD590_1_0198_lossless_alignedTo_MD590-N47-2015.09.12-05.32.06_MD590_2_0140_cropped/MD590-IHC66-2015.08.10-22.50.24_MD590_1_0198_lossless_alignedTo_MD590-N47-2015.09.12-05.32.06_MD590_2_0140_cropped_patch_locations.txt s3://mousebrainatlas-data/CSHL_patch_features/inception-bn-blue/MD590/MD590-IHC66-2015.08.10-22.50.24_MD590_1_0198_lossless_alignedTo_MD590-N47-2015.09.12-05.32.06_MD590_2_0140_cropped/MD590-IHC66-2015.08.10-22.50.24_MD590_1_0198_lossless_alignedTo_MD590-N47-2015.09.12-05.32.06_MD590_2_0140_cropped_patch_locations.txt"
     ]
    },
    {
     "name": "stderr",
     "output_type": "stream",
     "text": [
      "Child returned 0\n",
      "2.30 seconds.\n",
      "Child returned"
     ]
    },
    {
     "name": "stdout",
     "output_type": "stream",
     "text": [
      "\n",
      "rm -rf /media/yuncong/BstemAtlasData/CSHL_data_processed/MD590/MD590_masks_alignedTo_MD590-N47-2015.09.12-05.32.06_MD590_2_0140_cropped/MD590-N67-2015.08.03-21.29.46_MD590_3_0199_mask_alignedTo_MD590-N47-2015.09.12-05.32.06_MD590_2_0140_cropped.png && mkdir -p /media/yuncong/BstemAtlasData/CSHL_data_processed/MD590/MD590_masks_alignedTo_MD590-N47-2015.09.12-05.32.06_MD590_2_0140_cropped"
     ]
    },
    {
     "name": "stderr",
     "output_type": "stream",
     "text": [
      " 0\n",
      "1.22 seconds.\n",
      "save: 5.16 seconds\n",
      "\n",
      "Section 321.\n",
      "Child returned"
     ]
    },
    {
     "name": "stdout",
     "output_type": "stream",
     "text": [
      "\n",
      "aws s3 cp s3://mousebrainatlas-data/CSHL_data_processed/MD590/MD590_masks_alignedTo_MD590-N47-2015.09.12-05.32.06_MD590_2_0140_cropped/MD590-N67-2015.08.03-21.29.46_MD590_3_0199_mask_alignedTo_MD590-N47-2015.09.12-05.32.06_MD590_2_0140_cropped.png /media/yuncong/BstemAtlasData/CSHL_data_processed/MD590/MD590_masks_alignedTo_MD590-N47-2015.09.12-05.32.06_MD590_2_0140_cropped/MD590-N67-2015.08.03-21.29.46_MD590_3_0199_mask_alignedTo_MD590-N47-2015.09.12-05.32.06_MD590_2_0140_cropped.png"
     ]
    },
    {
     "name": "stderr",
     "output_type": "stream",
     "text": [
      " 0\n",
      "Child returned 0\n",
      "1.71 seconds.\n",
      "locate patches: 1.73 seconds\n",
      "31607 samples.\n",
      "load image: 1.46 seconds\n",
      "extract patches: 12.70 seconds\n",
      "predict: 81.19 seconds\n"
     ]
    },
    {
     "name": "stdout",
     "output_type": "stream",
     "text": [
      "\n",
      "aws s3 cp /media/yuncong/BstemAtlasData/CSHL_patch_features/inception-bn-blue/MD590/MD590-N67-2015.08.03-21.29.46_MD590_3_0199_lossless_alignedTo_MD590-N47-2015.09.12-05.32.06_MD590_2_0140_cropped/MD590-N67-2015.08.03-21.29.46_MD590_3_0199_lossless_alignedTo_MD590-N47-2015.09.12-05.32.06_MD590_2_0140_cropped_features.hdf s3://mousebrainatlas-data/CSHL_patch_features/inception-bn-blue/MD590/MD590-N67-2015.08.03-21.29.46_MD590_3_0199_lossless_alignedTo_MD590-N47-2015.09.12-05.32.06_MD590_2_0140_cropped/MD590-N67-2015.08.03-21.29.46_MD590_3_0199_lossless_alignedTo_MD590-N47-2015.09.12-05.32.06_MD590_2_0140_cropped_features.hdf\n",
      "aws s3 cp /media/yuncong/BstemAtlasData/CSHL_patch_features/inception-bn-blue/MD590/MD590-N67-2015.08.03-21.29.46_MD590_3_0199_lossless_alignedTo_MD590-N47-2015.09.12-05.32.06_MD590_2_0140_cropped/MD590-N67-2015.08.03-21.29.46_MD590_3_0199_lossless_alignedTo_MD590-N47-2015.09.12-05.32.06_MD590_2_0140_cropped_patch_locations.txt s3://mousebrainatlas-data/CSHL_patch_features/inception-bn-blue/MD590/MD590-N67-2015.08.03-21.29.46_MD590_3_0199_lossless_alignedTo_MD590-N47-2015.09.12-05.32.06_MD590_2_0140_cropped/MD590-N67-2015.08.03-21.29.46_MD590_3_0199_lossless_alignedTo_MD590-N47-2015.09.12-05.32.06_MD590_2_0140_cropped_patch_locations.txt"
     ]
    },
    {
     "name": "stderr",
     "output_type": "stream",
     "text": [
      "Child returned 0\n",
      "2.28 seconds.\n",
      "Child returned"
     ]
    },
    {
     "name": "stdout",
     "output_type": "stream",
     "text": [
      "\n",
      "rm -rf /media/yuncong/BstemAtlasData/CSHL_data_processed/MD590/MD590_masks_alignedTo_MD590-N47-2015.09.12-05.32.06_MD590_2_0140_cropped/MD590-IHC67-2015.08.10-22.54.35_MD590_3_0199_mask_alignedTo_MD590-N47-2015.09.12-05.32.06_MD590_2_0140_cropped.png && mkdir -p /media/yuncong/BstemAtlasData/CSHL_data_processed/MD590/MD590_masks_alignedTo_MD590-N47-2015.09.12-05.32.06_MD590_2_0140_cropped"
     ]
    },
    {
     "name": "stderr",
     "output_type": "stream",
     "text": [
      " 0\n",
      "1.25 seconds.\n",
      "save: 5.12 seconds\n",
      "\n",
      "Section 322.\n",
      "Child returned"
     ]
    },
    {
     "name": "stdout",
     "output_type": "stream",
     "text": [
      "\n",
      "aws s3 cp s3://mousebrainatlas-data/CSHL_data_processed/MD590/MD590_masks_alignedTo_MD590-N47-2015.09.12-05.32.06_MD590_2_0140_cropped/MD590-IHC67-2015.08.10-22.54.35_MD590_3_0199_mask_alignedTo_MD590-N47-2015.09.12-05.32.06_MD590_2_0140_cropped.png /media/yuncong/BstemAtlasData/CSHL_data_processed/MD590/MD590_masks_alignedTo_MD590-N47-2015.09.12-05.32.06_MD590_2_0140_cropped/MD590-IHC67-2015.08.10-22.54.35_MD590_3_0199_mask_alignedTo_MD590-N47-2015.09.12-05.32.06_MD590_2_0140_cropped.png"
     ]
    },
    {
     "name": "stderr",
     "output_type": "stream",
     "text": [
      " 0\n",
      "Child returned 0\n",
      "1.65 seconds.\n",
      "locate patches: 1.67 seconds\n",
      "31384 samples.\n",
      "load image: 1.54 seconds\n",
      "extract patches: 12.18 seconds\n",
      "predict: 79.49 seconds\n"
     ]
    },
    {
     "name": "stdout",
     "output_type": "stream",
     "text": [
      "\n",
      "aws s3 cp /media/yuncong/BstemAtlasData/CSHL_patch_features/inception-bn-blue/MD590/MD590-IHC67-2015.08.10-22.54.35_MD590_3_0199_lossless_alignedTo_MD590-N47-2015.09.12-05.32.06_MD590_2_0140_cropped/MD590-IHC67-2015.08.10-22.54.35_MD590_3_0199_lossless_alignedTo_MD590-N47-2015.09.12-05.32.06_MD590_2_0140_cropped_features.hdf s3://mousebrainatlas-data/CSHL_patch_features/inception-bn-blue/MD590/MD590-IHC67-2015.08.10-22.54.35_MD590_3_0199_lossless_alignedTo_MD590-N47-2015.09.12-05.32.06_MD590_2_0140_cropped/MD590-IHC67-2015.08.10-22.54.35_MD590_3_0199_lossless_alignedTo_MD590-N47-2015.09.12-05.32.06_MD590_2_0140_cropped_features.hdf\n",
      "aws s3 cp /media/yuncong/BstemAtlasData/CSHL_patch_features/inception-bn-blue/MD590/MD590-IHC67-2015.08.10-22.54.35_MD590_3_0199_lossless_alignedTo_MD590-N47-2015.09.12-05.32.06_MD590_2_0140_cropped/MD590-IHC67-2015.08.10-22.54.35_MD590_3_0199_lossless_alignedTo_MD590-N47-2015.09.12-05.32.06_MD590_2_0140_cropped_patch_locations.txt s3://mousebrainatlas-data/CSHL_patch_features/inception-bn-blue/MD590/MD590-IHC67-2015.08.10-22.54.35_MD590_3_0199_lossless_alignedTo_MD590-N47-2015.09.12-05.32.06_MD590_2_0140_cropped/MD590-IHC67-2015.08.10-22.54.35_MD590_3_0199_lossless_alignedTo_MD590-N47-2015.09.12-05.32.06_MD590_2_0140_cropped_patch_locations.txt"
     ]
    },
    {
     "name": "stderr",
     "output_type": "stream",
     "text": [
      "Child returned 0\n",
      "2.28 seconds.\n",
      "Child returned"
     ]
    },
    {
     "name": "stdout",
     "output_type": "stream",
     "text": [
      "\n",
      "rm -rf /media/yuncong/BstemAtlasData/CSHL_data_processed/MD590/MD590_masks_alignedTo_MD590-N47-2015.09.12-05.32.06_MD590_2_0140_cropped/MD590-N67-2015.08.03-21.29.46_MD590_2_0200_mask_alignedTo_MD590-N47-2015.09.12-05.32.06_MD590_2_0140_cropped.png && mkdir -p /media/yuncong/BstemAtlasData/CSHL_data_processed/MD590/MD590_masks_alignedTo_MD590-N47-2015.09.12-05.32.06_MD590_2_0140_cropped"
     ]
    },
    {
     "name": "stderr",
     "output_type": "stream",
     "text": [
      " 0\n",
      "1.18 seconds.\n",
      "save: 4.98 seconds\n",
      "\n",
      "Section 323.\n",
      "Child returned"
     ]
    },
    {
     "name": "stdout",
     "output_type": "stream",
     "text": [
      "\n",
      "aws s3 cp s3://mousebrainatlas-data/CSHL_data_processed/MD590/MD590_masks_alignedTo_MD590-N47-2015.09.12-05.32.06_MD590_2_0140_cropped/MD590-N67-2015.08.03-21.29.46_MD590_2_0200_mask_alignedTo_MD590-N47-2015.09.12-05.32.06_MD590_2_0140_cropped.png /media/yuncong/BstemAtlasData/CSHL_data_processed/MD590/MD590_masks_alignedTo_MD590-N47-2015.09.12-05.32.06_MD590_2_0140_cropped/MD590-N67-2015.08.03-21.29.46_MD590_2_0200_mask_alignedTo_MD590-N47-2015.09.12-05.32.06_MD590_2_0140_cropped.png"
     ]
    },
    {
     "name": "stderr",
     "output_type": "stream",
     "text": [
      " 0\n",
      "Child returned 0\n",
      "1.69 seconds.\n",
      "locate patches: 1.72 seconds\n",
      "31300 samples.\n",
      "load image: 1.48 seconds\n",
      "extract patches: 12.63 seconds\n",
      "predict: 80.04 seconds\n"
     ]
    },
    {
     "name": "stdout",
     "output_type": "stream",
     "text": [
      "\n",
      "aws s3 cp /media/yuncong/BstemAtlasData/CSHL_patch_features/inception-bn-blue/MD590/MD590-N67-2015.08.03-21.29.46_MD590_2_0200_lossless_alignedTo_MD590-N47-2015.09.12-05.32.06_MD590_2_0140_cropped/MD590-N67-2015.08.03-21.29.46_MD590_2_0200_lossless_alignedTo_MD590-N47-2015.09.12-05.32.06_MD590_2_0140_cropped_features.hdf s3://mousebrainatlas-data/CSHL_patch_features/inception-bn-blue/MD590/MD590-N67-2015.08.03-21.29.46_MD590_2_0200_lossless_alignedTo_MD590-N47-2015.09.12-05.32.06_MD590_2_0140_cropped/MD590-N67-2015.08.03-21.29.46_MD590_2_0200_lossless_alignedTo_MD590-N47-2015.09.12-05.32.06_MD590_2_0140_cropped_features.hdf\n",
      "aws s3 cp /media/yuncong/BstemAtlasData/CSHL_patch_features/inception-bn-blue/MD590/MD590-N67-2015.08.03-21.29.46_MD590_2_0200_lossless_alignedTo_MD590-N47-2015.09.12-05.32.06_MD590_2_0140_cropped/MD590-N67-2015.08.03-21.29.46_MD590_2_0200_lossless_alignedTo_MD590-N47-2015.09.12-05.32.06_MD590_2_0140_cropped_patch_locations.txt s3://mousebrainatlas-data/CSHL_patch_features/inception-bn-blue/MD590/MD590-N67-2015.08.03-21.29.46_MD590_2_0200_lossless_alignedTo_MD590-N47-2015.09.12-05.32.06_MD590_2_0140_cropped/MD590-N67-2015.08.03-21.29.46_MD590_2_0200_lossless_alignedTo_MD590-N47-2015.09.12-05.32.06_MD590_2_0140_cropped_patch_locations.txt"
     ]
    },
    {
     "name": "stderr",
     "output_type": "stream",
     "text": [
      "Child returned 0\n",
      "2.25 seconds.\n",
      "Child returned"
     ]
    },
    {
     "name": "stdout",
     "output_type": "stream",
     "text": [
      "\n",
      "rm -rf /media/yuncong/BstemAtlasData/CSHL_data_processed/MD590/MD590_masks_alignedTo_MD590-N47-2015.09.12-05.32.06_MD590_2_0140_cropped/MD590-IHC67-2015.08.10-22.54.35_MD590_2_0200_mask_alignedTo_MD590-N47-2015.09.12-05.32.06_MD590_2_0140_cropped.png && mkdir -p /media/yuncong/BstemAtlasData/CSHL_data_processed/MD590/MD590_masks_alignedTo_MD590-N47-2015.09.12-05.32.06_MD590_2_0140_cropped"
     ]
    },
    {
     "name": "stderr",
     "output_type": "stream",
     "text": [
      " 0\n",
      "1.27 seconds.\n",
      "save: 5.08 seconds\n",
      "\n",
      "Section 324.\n",
      "Child returned"
     ]
    },
    {
     "name": "stdout",
     "output_type": "stream",
     "text": [
      "\n",
      "aws s3 cp s3://mousebrainatlas-data/CSHL_data_processed/MD590/MD590_masks_alignedTo_MD590-N47-2015.09.12-05.32.06_MD590_2_0140_cropped/MD590-IHC67-2015.08.10-22.54.35_MD590_2_0200_mask_alignedTo_MD590-N47-2015.09.12-05.32.06_MD590_2_0140_cropped.png /media/yuncong/BstemAtlasData/CSHL_data_processed/MD590/MD590_masks_alignedTo_MD590-N47-2015.09.12-05.32.06_MD590_2_0140_cropped/MD590-IHC67-2015.08.10-22.54.35_MD590_2_0200_mask_alignedTo_MD590-N47-2015.09.12-05.32.06_MD590_2_0140_cropped.png"
     ]
    },
    {
     "name": "stderr",
     "output_type": "stream",
     "text": [
      " 0\n",
      "Child returned 0\n",
      "1.80 seconds.\n",
      "locate patches: 1.84 seconds\n",
      "31557 samples.\n",
      "load image: 1.48 seconds\n",
      "extract patches: 12.90 seconds\n",
      "predict: 81.32 seconds\n"
     ]
    },
    {
     "name": "stdout",
     "output_type": "stream",
     "text": [
      "\n",
      "aws s3 cp /media/yuncong/BstemAtlasData/CSHL_patch_features/inception-bn-blue/MD590/MD590-IHC67-2015.08.10-22.54.35_MD590_2_0200_lossless_alignedTo_MD590-N47-2015.09.12-05.32.06_MD590_2_0140_cropped/MD590-IHC67-2015.08.10-22.54.35_MD590_2_0200_lossless_alignedTo_MD590-N47-2015.09.12-05.32.06_MD590_2_0140_cropped_features.hdf s3://mousebrainatlas-data/CSHL_patch_features/inception-bn-blue/MD590/MD590-IHC67-2015.08.10-22.54.35_MD590_2_0200_lossless_alignedTo_MD590-N47-2015.09.12-05.32.06_MD590_2_0140_cropped/MD590-IHC67-2015.08.10-22.54.35_MD590_2_0200_lossless_alignedTo_MD590-N47-2015.09.12-05.32.06_MD590_2_0140_cropped_features.hdf\n",
      "aws s3 cp /media/yuncong/BstemAtlasData/CSHL_patch_features/inception-bn-blue/MD590/MD590-IHC67-2015.08.10-22.54.35_MD590_2_0200_lossless_alignedTo_MD590-N47-2015.09.12-05.32.06_MD590_2_0140_cropped/MD590-IHC67-2015.08.10-22.54.35_MD590_2_0200_lossless_alignedTo_MD590-N47-2015.09.12-05.32.06_MD590_2_0140_cropped_patch_locations.txt s3://mousebrainatlas-data/CSHL_patch_features/inception-bn-blue/MD590/MD590-IHC67-2015.08.10-22.54.35_MD590_2_0200_lossless_alignedTo_MD590-N47-2015.09.12-05.32.06_MD590_2_0140_cropped/MD590-IHC67-2015.08.10-22.54.35_MD590_2_0200_lossless_alignedTo_MD590-N47-2015.09.12-05.32.06_MD590_2_0140_cropped_patch_locations.txt"
     ]
    },
    {
     "name": "stderr",
     "output_type": "stream",
     "text": [
      "Child returned 0\n",
      "2.24 seconds.\n",
      "Child returned"
     ]
    },
    {
     "name": "stdout",
     "output_type": "stream",
     "text": [
      "\n",
      "rm -rf /media/yuncong/BstemAtlasData/CSHL_data_processed/MD590/MD590_masks_alignedTo_MD590-N47-2015.09.12-05.32.06_MD590_2_0140_cropped/MD590-N67-2015.08.03-21.29.46_MD590_1_0201_mask_alignedTo_MD590-N47-2015.09.12-05.32.06_MD590_2_0140_cropped.png && mkdir -p /media/yuncong/BstemAtlasData/CSHL_data_processed/MD590/MD590_masks_alignedTo_MD590-N47-2015.09.12-05.32.06_MD590_2_0140_cropped"
     ]
    },
    {
     "name": "stderr",
     "output_type": "stream",
     "text": [
      " 0\n",
      "1.21 seconds.\n",
      "save: 5.03 seconds\n",
      "\n",
      "Section 325.\n",
      "Child returned"
     ]
    },
    {
     "name": "stdout",
     "output_type": "stream",
     "text": [
      "\n",
      "aws s3 cp s3://mousebrainatlas-data/CSHL_data_processed/MD590/MD590_masks_alignedTo_MD590-N47-2015.09.12-05.32.06_MD590_2_0140_cropped/MD590-N67-2015.08.03-21.29.46_MD590_1_0201_mask_alignedTo_MD590-N47-2015.09.12-05.32.06_MD590_2_0140_cropped.png /media/yuncong/BstemAtlasData/CSHL_data_processed/MD590/MD590_masks_alignedTo_MD590-N47-2015.09.12-05.32.06_MD590_2_0140_cropped/MD590-N67-2015.08.03-21.29.46_MD590_1_0201_mask_alignedTo_MD590-N47-2015.09.12-05.32.06_MD590_2_0140_cropped.png"
     ]
    },
    {
     "name": "stderr",
     "output_type": "stream",
     "text": [
      " 0\n",
      "Child returned 0\n",
      "1.74 seconds.\n",
      "locate patches: 1.77 seconds\n",
      "31208 samples.\n",
      "load image: 1.43 seconds\n",
      "extract patches: 12.84 seconds\n",
      "predict: 80.04 seconds\n"
     ]
    },
    {
     "name": "stdout",
     "output_type": "stream",
     "text": [
      "\n",
      "aws s3 cp /media/yuncong/BstemAtlasData/CSHL_patch_features/inception-bn-blue/MD590/MD590-N67-2015.08.03-21.29.46_MD590_1_0201_lossless_alignedTo_MD590-N47-2015.09.12-05.32.06_MD590_2_0140_cropped/MD590-N67-2015.08.03-21.29.46_MD590_1_0201_lossless_alignedTo_MD590-N47-2015.09.12-05.32.06_MD590_2_0140_cropped_features.hdf s3://mousebrainatlas-data/CSHL_patch_features/inception-bn-blue/MD590/MD590-N67-2015.08.03-21.29.46_MD590_1_0201_lossless_alignedTo_MD590-N47-2015.09.12-05.32.06_MD590_2_0140_cropped/MD590-N67-2015.08.03-21.29.46_MD590_1_0201_lossless_alignedTo_MD590-N47-2015.09.12-05.32.06_MD590_2_0140_cropped_features.hdf\n",
      "aws s3 cp /media/yuncong/BstemAtlasData/CSHL_patch_features/inception-bn-blue/MD590/MD590-N67-2015.08.03-21.29.46_MD590_1_0201_lossless_alignedTo_MD590-N47-2015.09.12-05.32.06_MD590_2_0140_cropped/MD590-N67-2015.08.03-21.29.46_MD590_1_0201_lossless_alignedTo_MD590-N47-2015.09.12-05.32.06_MD590_2_0140_cropped_patch_locations.txt s3://mousebrainatlas-data/CSHL_patch_features/inception-bn-blue/MD590/MD590-N67-2015.08.03-21.29.46_MD590_1_0201_lossless_alignedTo_MD590-N47-2015.09.12-05.32.06_MD590_2_0140_cropped/MD590-N67-2015.08.03-21.29.46_MD590_1_0201_lossless_alignedTo_MD590-N47-2015.09.12-05.32.06_MD590_2_0140_cropped_patch_locations.txt"
     ]
    },
    {
     "name": "stderr",
     "output_type": "stream",
     "text": [
      "Child returned 0\n",
      "2.26 seconds.\n",
      "Child returned"
     ]
    },
    {
     "name": "stdout",
     "output_type": "stream",
     "text": [
      "\n",
      "rm -rf /media/yuncong/BstemAtlasData/CSHL_data_processed/MD590/MD590_masks_alignedTo_MD590-N47-2015.09.12-05.32.06_MD590_2_0140_cropped/MD590-IHC67-2015.08.10-22.54.35_MD590_1_0201_mask_alignedTo_MD590-N47-2015.09.12-05.32.06_MD590_2_0140_cropped.png && mkdir -p /media/yuncong/BstemAtlasData/CSHL_data_processed/MD590/MD590_masks_alignedTo_MD590-N47-2015.09.12-05.32.06_MD590_2_0140_cropped"
     ]
    },
    {
     "name": "stderr",
     "output_type": "stream",
     "text": [
      " 0\n",
      "1.29 seconds.\n",
      "save: 5.12 seconds\n",
      "\n",
      "Section 326.\n",
      "Child returned"
     ]
    },
    {
     "name": "stdout",
     "output_type": "stream",
     "text": [
      "\n",
      "aws s3 cp s3://mousebrainatlas-data/CSHL_data_processed/MD590/MD590_masks_alignedTo_MD590-N47-2015.09.12-05.32.06_MD590_2_0140_cropped/MD590-IHC67-2015.08.10-22.54.35_MD590_1_0201_mask_alignedTo_MD590-N47-2015.09.12-05.32.06_MD590_2_0140_cropped.png /media/yuncong/BstemAtlasData/CSHL_data_processed/MD590/MD590_masks_alignedTo_MD590-N47-2015.09.12-05.32.06_MD590_2_0140_cropped/MD590-IHC67-2015.08.10-22.54.35_MD590_1_0201_mask_alignedTo_MD590-N47-2015.09.12-05.32.06_MD590_2_0140_cropped.png"
     ]
    },
    {
     "name": "stderr",
     "output_type": "stream",
     "text": [
      " 0\n",
      "Child returned 0\n",
      "1.75 seconds.\n",
      "locate patches: 1.78 seconds\n",
      "31244 samples.\n",
      "load image: 1.56 seconds\n",
      "extract patches: 12.66 seconds\n",
      "predict: 80.03 seconds\n"
     ]
    },
    {
     "name": "stdout",
     "output_type": "stream",
     "text": [
      "\n",
      "aws s3 cp /media/yuncong/BstemAtlasData/CSHL_patch_features/inception-bn-blue/MD590/MD590-IHC67-2015.08.10-22.54.35_MD590_1_0201_lossless_alignedTo_MD590-N47-2015.09.12-05.32.06_MD590_2_0140_cropped/MD590-IHC67-2015.08.10-22.54.35_MD590_1_0201_lossless_alignedTo_MD590-N47-2015.09.12-05.32.06_MD590_2_0140_cropped_features.hdf s3://mousebrainatlas-data/CSHL_patch_features/inception-bn-blue/MD590/MD590-IHC67-2015.08.10-22.54.35_MD590_1_0201_lossless_alignedTo_MD590-N47-2015.09.12-05.32.06_MD590_2_0140_cropped/MD590-IHC67-2015.08.10-22.54.35_MD590_1_0201_lossless_alignedTo_MD590-N47-2015.09.12-05.32.06_MD590_2_0140_cropped_features.hdf\n",
      "aws s3 cp /media/yuncong/BstemAtlasData/CSHL_patch_features/inception-bn-blue/MD590/MD590-IHC67-2015.08.10-22.54.35_MD590_1_0201_lossless_alignedTo_MD590-N47-2015.09.12-05.32.06_MD590_2_0140_cropped/MD590-IHC67-2015.08.10-22.54.35_MD590_1_0201_lossless_alignedTo_MD590-N47-2015.09.12-05.32.06_MD590_2_0140_cropped_patch_locations.txt s3://mousebrainatlas-data/CSHL_patch_features/inception-bn-blue/MD590/MD590-IHC67-2015.08.10-22.54.35_MD590_1_0201_lossless_alignedTo_MD590-N47-2015.09.12-05.32.06_MD590_2_0140_cropped/MD590-IHC67-2015.08.10-22.54.35_MD590_1_0201_lossless_alignedTo_MD590-N47-2015.09.12-05.32.06_MD590_2_0140_cropped_patch_locations.txt"
     ]
    },
    {
     "name": "stderr",
     "output_type": "stream",
     "text": [
      "Child returned 0\n",
      "2.16 seconds.\n",
      "Child returned"
     ]
    },
    {
     "name": "stdout",
     "output_type": "stream",
     "text": [
      "\n",
      "rm -rf /media/yuncong/BstemAtlasData/CSHL_data_processed/MD590/MD590_masks_alignedTo_MD590-N47-2015.09.12-05.32.06_MD590_2_0140_cropped/MD590-N68-2015.08.03-21.33.49_MD590_3_0202_mask_alignedTo_MD590-N47-2015.09.12-05.32.06_MD590_2_0140_cropped.png && mkdir -p /media/yuncong/BstemAtlasData/CSHL_data_processed/MD590/MD590_masks_alignedTo_MD590-N47-2015.09.12-05.32.06_MD590_2_0140_cropped"
     ]
    },
    {
     "name": "stderr",
     "output_type": "stream",
     "text": [
      " 0\n",
      "1.28 seconds.\n",
      "save: 5.00 seconds\n",
      "\n",
      "Section 327.\n",
      "Child returned"
     ]
    },
    {
     "name": "stdout",
     "output_type": "stream",
     "text": [
      "\n",
      "aws s3 cp s3://mousebrainatlas-data/CSHL_data_processed/MD590/MD590_masks_alignedTo_MD590-N47-2015.09.12-05.32.06_MD590_2_0140_cropped/MD590-N68-2015.08.03-21.33.49_MD590_3_0202_mask_alignedTo_MD590-N47-2015.09.12-05.32.06_MD590_2_0140_cropped.png /media/yuncong/BstemAtlasData/CSHL_data_processed/MD590/MD590_masks_alignedTo_MD590-N47-2015.09.12-05.32.06_MD590_2_0140_cropped/MD590-N68-2015.08.03-21.33.49_MD590_3_0202_mask_alignedTo_MD590-N47-2015.09.12-05.32.06_MD590_2_0140_cropped.png"
     ]
    },
    {
     "name": "stderr",
     "output_type": "stream",
     "text": [
      " 0\n",
      "Child returned 0\n",
      "1.75 seconds.\n",
      "locate patches: 1.77 seconds\n",
      "30771 samples.\n",
      "load image: 1.49 seconds\n",
      "extract patches: 19.67 seconds\n",
      "predict: 101.39 seconds\n"
     ]
    },
    {
     "name": "stdout",
     "output_type": "stream",
     "text": [
      "\n",
      "aws s3 cp /media/yuncong/BstemAtlasData/CSHL_patch_features/inception-bn-blue/MD590/MD590-N68-2015.08.03-21.33.49_MD590_3_0202_lossless_alignedTo_MD590-N47-2015.09.12-05.32.06_MD590_2_0140_cropped/MD590-N68-2015.08.03-21.33.49_MD590_3_0202_lossless_alignedTo_MD590-N47-2015.09.12-05.32.06_MD590_2_0140_cropped_features.hdf s3://mousebrainatlas-data/CSHL_patch_features/inception-bn-blue/MD590/MD590-N68-2015.08.03-21.33.49_MD590_3_0202_lossless_alignedTo_MD590-N47-2015.09.12-05.32.06_MD590_2_0140_cropped/MD590-N68-2015.08.03-21.33.49_MD590_3_0202_lossless_alignedTo_MD590-N47-2015.09.12-05.32.06_MD590_2_0140_cropped_features.hdf\n",
      "aws s3 cp /media/yuncong/BstemAtlasData/CSHL_patch_features/inception-bn-blue/MD590/MD590-N68-2015.08.03-21.33.49_MD590_3_0202_lossless_alignedTo_MD590-N47-2015.09.12-05.32.06_MD590_2_0140_cropped/MD590-N68-2015.08.03-21.33.49_MD590_3_0202_lossless_alignedTo_MD590-N47-2015.09.12-05.32.06_MD590_2_0140_cropped_patch_locations.txt s3://mousebrainatlas-data/CSHL_patch_features/inception-bn-blue/MD590/MD590-N68-2015.08.03-21.33.49_MD590_3_0202_lossless_alignedTo_MD590-N47-2015.09.12-05.32.06_MD590_2_0140_cropped/MD590-N68-2015.08.03-21.33.49_MD590_3_0202_lossless_alignedTo_MD590-N47-2015.09.12-05.32.06_MD590_2_0140_cropped_patch_locations.txt"
     ]
    },
    {
     "name": "stderr",
     "output_type": "stream",
     "text": [
      "Child returned 0\n",
      "2.30 seconds.\n",
      "Child returned"
     ]
    },
    {
     "name": "stdout",
     "output_type": "stream",
     "text": [
      "\n",
      "rm -rf /media/yuncong/BstemAtlasData/CSHL_data_processed/MD590/MD590_masks_alignedTo_MD590-N47-2015.09.12-05.32.06_MD590_2_0140_cropped/MD590-IHC68-2015.08.10-22.58.41_MD590_3_0202_mask_alignedTo_MD590-N47-2015.09.12-05.32.06_MD590_2_0140_cropped.png && mkdir -p /media/yuncong/BstemAtlasData/CSHL_data_processed/MD590/MD590_masks_alignedTo_MD590-N47-2015.09.12-05.32.06_MD590_2_0140_cropped"
     ]
    },
    {
     "name": "stderr",
     "output_type": "stream",
     "text": [
      " 0\n",
      "1.21 seconds.\n",
      "save: 5.03 seconds\n",
      "\n",
      "Section 328.\n",
      "Child returned"
     ]
    },
    {
     "name": "stdout",
     "output_type": "stream",
     "text": [
      "\n",
      "aws s3 cp s3://mousebrainatlas-data/CSHL_data_processed/MD590/MD590_masks_alignedTo_MD590-N47-2015.09.12-05.32.06_MD590_2_0140_cropped/MD590-IHC68-2015.08.10-22.58.41_MD590_3_0202_mask_alignedTo_MD590-N47-2015.09.12-05.32.06_MD590_2_0140_cropped.png /media/yuncong/BstemAtlasData/CSHL_data_processed/MD590/MD590_masks_alignedTo_MD590-N47-2015.09.12-05.32.06_MD590_2_0140_cropped/MD590-IHC68-2015.08.10-22.58.41_MD590_3_0202_mask_alignedTo_MD590-N47-2015.09.12-05.32.06_MD590_2_0140_cropped.png"
     ]
    },
    {
     "name": "stderr",
     "output_type": "stream",
     "text": [
      " 0\n",
      "Child returned 0\n",
      "1.64 seconds.\n",
      "locate patches: 1.67 seconds\n",
      "31278 samples.\n",
      "load image: 1.46 seconds\n",
      "extract patches: 12.93 seconds\n",
      "predict: 80.28 seconds\n"
     ]
    },
    {
     "name": "stdout",
     "output_type": "stream",
     "text": [
      "\n",
      "aws s3 cp /media/yuncong/BstemAtlasData/CSHL_patch_features/inception-bn-blue/MD590/MD590-IHC68-2015.08.10-22.58.41_MD590_3_0202_lossless_alignedTo_MD590-N47-2015.09.12-05.32.06_MD590_2_0140_cropped/MD590-IHC68-2015.08.10-22.58.41_MD590_3_0202_lossless_alignedTo_MD590-N47-2015.09.12-05.32.06_MD590_2_0140_cropped_features.hdf s3://mousebrainatlas-data/CSHL_patch_features/inception-bn-blue/MD590/MD590-IHC68-2015.08.10-22.58.41_MD590_3_0202_lossless_alignedTo_MD590-N47-2015.09.12-05.32.06_MD590_2_0140_cropped/MD590-IHC68-2015.08.10-22.58.41_MD590_3_0202_lossless_alignedTo_MD590-N47-2015.09.12-05.32.06_MD590_2_0140_cropped_features.hdf\n",
      "aws s3 cp /media/yuncong/BstemAtlasData/CSHL_patch_features/inception-bn-blue/MD590/MD590-IHC68-2015.08.10-22.58.41_MD590_3_0202_lossless_alignedTo_MD590-N47-2015.09.12-05.32.06_MD590_2_0140_cropped/MD590-IHC68-2015.08.10-22.58.41_MD590_3_0202_lossless_alignedTo_MD590-N47-2015.09.12-05.32.06_MD590_2_0140_cropped_patch_locations.txt s3://mousebrainatlas-data/CSHL_patch_features/inception-bn-blue/MD590/MD590-IHC68-2015.08.10-22.58.41_MD590_3_0202_lossless_alignedTo_MD590-N47-2015.09.12-05.32.06_MD590_2_0140_cropped/MD590-IHC68-2015.08.10-22.58.41_MD590_3_0202_lossless_alignedTo_MD590-N47-2015.09.12-05.32.06_MD590_2_0140_cropped_patch_locations.txt"
     ]
    },
    {
     "name": "stderr",
     "output_type": "stream",
     "text": [
      "Child returned 0\n",
      "2.14 seconds.\n",
      "Child returned"
     ]
    },
    {
     "name": "stdout",
     "output_type": "stream",
     "text": [
      "\n",
      "rm -rf /media/yuncong/BstemAtlasData/CSHL_data_processed/MD590/MD590_masks_alignedTo_MD590-N47-2015.09.12-05.32.06_MD590_2_0140_cropped/MD590-N68-2015.08.03-21.33.49_MD590_2_0203_mask_alignedTo_MD590-N47-2015.09.12-05.32.06_MD590_2_0140_cropped.png && mkdir -p /media/yuncong/BstemAtlasData/CSHL_data_processed/MD590/MD590_masks_alignedTo_MD590-N47-2015.09.12-05.32.06_MD590_2_0140_cropped"
     ]
    },
    {
     "name": "stderr",
     "output_type": "stream",
     "text": [
      " 0\n",
      "1.24 seconds.\n",
      "save: 4.94 seconds\n",
      "\n",
      "Section 329.\n",
      "Child returned"
     ]
    },
    {
     "name": "stdout",
     "output_type": "stream",
     "text": [
      "\n",
      "aws s3 cp s3://mousebrainatlas-data/CSHL_data_processed/MD590/MD590_masks_alignedTo_MD590-N47-2015.09.12-05.32.06_MD590_2_0140_cropped/MD590-N68-2015.08.03-21.33.49_MD590_2_0203_mask_alignedTo_MD590-N47-2015.09.12-05.32.06_MD590_2_0140_cropped.png /media/yuncong/BstemAtlasData/CSHL_data_processed/MD590/MD590_masks_alignedTo_MD590-N47-2015.09.12-05.32.06_MD590_2_0140_cropped/MD590-N68-2015.08.03-21.33.49_MD590_2_0203_mask_alignedTo_MD590-N47-2015.09.12-05.32.06_MD590_2_0140_cropped.png"
     ]
    },
    {
     "name": "stderr",
     "output_type": "stream",
     "text": [
      " 0\n",
      "Child returned 0\n",
      "1.69 seconds.\n",
      "locate patches: 1.71 seconds\n",
      "31016 samples.\n",
      "load image: 1.45 seconds\n",
      "extract patches: 13.22 seconds\n",
      "predict: 79.47 seconds\n"
     ]
    },
    {
     "name": "stdout",
     "output_type": "stream",
     "text": [
      "\n",
      "aws s3 cp /media/yuncong/BstemAtlasData/CSHL_patch_features/inception-bn-blue/MD590/MD590-N68-2015.08.03-21.33.49_MD590_2_0203_lossless_alignedTo_MD590-N47-2015.09.12-05.32.06_MD590_2_0140_cropped/MD590-N68-2015.08.03-21.33.49_MD590_2_0203_lossless_alignedTo_MD590-N47-2015.09.12-05.32.06_MD590_2_0140_cropped_features.hdf s3://mousebrainatlas-data/CSHL_patch_features/inception-bn-blue/MD590/MD590-N68-2015.08.03-21.33.49_MD590_2_0203_lossless_alignedTo_MD590-N47-2015.09.12-05.32.06_MD590_2_0140_cropped/MD590-N68-2015.08.03-21.33.49_MD590_2_0203_lossless_alignedTo_MD590-N47-2015.09.12-05.32.06_MD590_2_0140_cropped_features.hdf\n",
      "aws s3 cp /media/yuncong/BstemAtlasData/CSHL_patch_features/inception-bn-blue/MD590/MD590-N68-2015.08.03-21.33.49_MD590_2_0203_lossless_alignedTo_MD590-N47-2015.09.12-05.32.06_MD590_2_0140_cropped/MD590-N68-2015.08.03-21.33.49_MD590_2_0203_lossless_alignedTo_MD590-N47-2015.09.12-05.32.06_MD590_2_0140_cropped_patch_locations.txt s3://mousebrainatlas-data/CSHL_patch_features/inception-bn-blue/MD590/MD590-N68-2015.08.03-21.33.49_MD590_2_0203_lossless_alignedTo_MD590-N47-2015.09.12-05.32.06_MD590_2_0140_cropped/MD590-N68-2015.08.03-21.33.49_MD590_2_0203_lossless_alignedTo_MD590-N47-2015.09.12-05.32.06_MD590_2_0140_cropped_patch_locations.txt"
     ]
    },
    {
     "name": "stderr",
     "output_type": "stream",
     "text": [
      "Child returned 0\n",
      "2.26 seconds.\n",
      "Child returned"
     ]
    },
    {
     "name": "stdout",
     "output_type": "stream",
     "text": [
      "\n",
      "rm -rf /media/yuncong/BstemAtlasData/CSHL_data_processed/MD590/MD590_masks_alignedTo_MD590-N47-2015.09.12-05.32.06_MD590_2_0140_cropped/MD590-IHC68-2015.08.10-22.58.41_MD590_2_0203_mask_alignedTo_MD590-N47-2015.09.12-05.32.06_MD590_2_0140_cropped.png && mkdir -p /media/yuncong/BstemAtlasData/CSHL_data_processed/MD590/MD590_masks_alignedTo_MD590-N47-2015.09.12-05.32.06_MD590_2_0140_cropped"
     ]
    },
    {
     "name": "stderr",
     "output_type": "stream",
     "text": [
      " 0\n",
      "1.31 seconds.\n",
      "save: 5.09 seconds\n",
      "\n",
      "Section 330.\n",
      "Child returned"
     ]
    },
    {
     "name": "stdout",
     "output_type": "stream",
     "text": [
      "\n",
      "aws s3 cp s3://mousebrainatlas-data/CSHL_data_processed/MD590/MD590_masks_alignedTo_MD590-N47-2015.09.12-05.32.06_MD590_2_0140_cropped/MD590-IHC68-2015.08.10-22.58.41_MD590_2_0203_mask_alignedTo_MD590-N47-2015.09.12-05.32.06_MD590_2_0140_cropped.png /media/yuncong/BstemAtlasData/CSHL_data_processed/MD590/MD590_masks_alignedTo_MD590-N47-2015.09.12-05.32.06_MD590_2_0140_cropped/MD590-IHC68-2015.08.10-22.58.41_MD590_2_0203_mask_alignedTo_MD590-N47-2015.09.12-05.32.06_MD590_2_0140_cropped.png"
     ]
    },
    {
     "name": "stderr",
     "output_type": "stream",
     "text": [
      " 0\n",
      "Child returned 0\n",
      "1.71 seconds.\n",
      "locate patches: 1.73 seconds\n",
      "31405 samples.\n",
      "load image: 1.56 seconds\n",
      "extract patches: 13.03 seconds\n",
      "predict: 80.49 seconds\n"
     ]
    },
    {
     "name": "stdout",
     "output_type": "stream",
     "text": [
      "\n",
      "aws s3 cp /media/yuncong/BstemAtlasData/CSHL_patch_features/inception-bn-blue/MD590/MD590-IHC68-2015.08.10-22.58.41_MD590_2_0203_lossless_alignedTo_MD590-N47-2015.09.12-05.32.06_MD590_2_0140_cropped/MD590-IHC68-2015.08.10-22.58.41_MD590_2_0203_lossless_alignedTo_MD590-N47-2015.09.12-05.32.06_MD590_2_0140_cropped_features.hdf s3://mousebrainatlas-data/CSHL_patch_features/inception-bn-blue/MD590/MD590-IHC68-2015.08.10-22.58.41_MD590_2_0203_lossless_alignedTo_MD590-N47-2015.09.12-05.32.06_MD590_2_0140_cropped/MD590-IHC68-2015.08.10-22.58.41_MD590_2_0203_lossless_alignedTo_MD590-N47-2015.09.12-05.32.06_MD590_2_0140_cropped_features.hdf\n",
      "aws s3 cp /media/yuncong/BstemAtlasData/CSHL_patch_features/inception-bn-blue/MD590/MD590-IHC68-2015.08.10-22.58.41_MD590_2_0203_lossless_alignedTo_MD590-N47-2015.09.12-05.32.06_MD590_2_0140_cropped/MD590-IHC68-2015.08.10-22.58.41_MD590_2_0203_lossless_alignedTo_MD590-N47-2015.09.12-05.32.06_MD590_2_0140_cropped_patch_locations.txt s3://mousebrainatlas-data/CSHL_patch_features/inception-bn-blue/MD590/MD590-IHC68-2015.08.10-22.58.41_MD590_2_0203_lossless_alignedTo_MD590-N47-2015.09.12-05.32.06_MD590_2_0140_cropped/MD590-IHC68-2015.08.10-22.58.41_MD590_2_0203_lossless_alignedTo_MD590-N47-2015.09.12-05.32.06_MD590_2_0140_cropped_patch_locations.txt"
     ]
    },
    {
     "name": "stderr",
     "output_type": "stream",
     "text": [
      "Child returned 0\n",
      "3.27 seconds.\n",
      "Child returned"
     ]
    },
    {
     "name": "stdout",
     "output_type": "stream",
     "text": [
      "\n",
      "rm -rf /media/yuncong/BstemAtlasData/CSHL_data_processed/MD590/MD590_masks_alignedTo_MD590-N47-2015.09.12-05.32.06_MD590_2_0140_cropped/MD590-N68-2015.08.03-21.33.49_MD590_1_0204_mask_alignedTo_MD590-N47-2015.09.12-05.32.06_MD590_2_0140_cropped.png && mkdir -p /media/yuncong/BstemAtlasData/CSHL_data_processed/MD590/MD590_masks_alignedTo_MD590-N47-2015.09.12-05.32.06_MD590_2_0140_cropped"
     ]
    },
    {
     "name": "stderr",
     "output_type": "stream",
     "text": [
      " 0\n",
      "1.24 seconds.\n",
      "save: 6.10 seconds\n",
      "\n",
      "Section 331.\n",
      "Child returned"
     ]
    },
    {
     "name": "stdout",
     "output_type": "stream",
     "text": [
      "\n",
      "aws s3 cp s3://mousebrainatlas-data/CSHL_data_processed/MD590/MD590_masks_alignedTo_MD590-N47-2015.09.12-05.32.06_MD590_2_0140_cropped/MD590-N68-2015.08.03-21.33.49_MD590_1_0204_mask_alignedTo_MD590-N47-2015.09.12-05.32.06_MD590_2_0140_cropped.png /media/yuncong/BstemAtlasData/CSHL_data_processed/MD590/MD590_masks_alignedTo_MD590-N47-2015.09.12-05.32.06_MD590_2_0140_cropped/MD590-N68-2015.08.03-21.33.49_MD590_1_0204_mask_alignedTo_MD590-N47-2015.09.12-05.32.06_MD590_2_0140_cropped.png"
     ]
    },
    {
     "name": "stderr",
     "output_type": "stream",
     "text": [
      " 0\n",
      "Child returned 0\n",
      "1.70 seconds.\n",
      "locate patches: 1.72 seconds\n",
      "30903 samples.\n",
      "load image: 1.53 seconds\n",
      "extract patches: 12.59 seconds\n",
      "predict: 78.84 seconds\n"
     ]
    },
    {
     "name": "stdout",
     "output_type": "stream",
     "text": [
      "\n",
      "aws s3 cp /media/yuncong/BstemAtlasData/CSHL_patch_features/inception-bn-blue/MD590/MD590-N68-2015.08.03-21.33.49_MD590_1_0204_lossless_alignedTo_MD590-N47-2015.09.12-05.32.06_MD590_2_0140_cropped/MD590-N68-2015.08.03-21.33.49_MD590_1_0204_lossless_alignedTo_MD590-N47-2015.09.12-05.32.06_MD590_2_0140_cropped_features.hdf s3://mousebrainatlas-data/CSHL_patch_features/inception-bn-blue/MD590/MD590-N68-2015.08.03-21.33.49_MD590_1_0204_lossless_alignedTo_MD590-N47-2015.09.12-05.32.06_MD590_2_0140_cropped/MD590-N68-2015.08.03-21.33.49_MD590_1_0204_lossless_alignedTo_MD590-N47-2015.09.12-05.32.06_MD590_2_0140_cropped_features.hdf\n",
      "aws s3 cp /media/yuncong/BstemAtlasData/CSHL_patch_features/inception-bn-blue/MD590/MD590-N68-2015.08.03-21.33.49_MD590_1_0204_lossless_alignedTo_MD590-N47-2015.09.12-05.32.06_MD590_2_0140_cropped/MD590-N68-2015.08.03-21.33.49_MD590_1_0204_lossless_alignedTo_MD590-N47-2015.09.12-05.32.06_MD590_2_0140_cropped_patch_locations.txt s3://mousebrainatlas-data/CSHL_patch_features/inception-bn-blue/MD590/MD590-N68-2015.08.03-21.33.49_MD590_1_0204_lossless_alignedTo_MD590-N47-2015.09.12-05.32.06_MD590_2_0140_cropped/MD590-N68-2015.08.03-21.33.49_MD590_1_0204_lossless_alignedTo_MD590-N47-2015.09.12-05.32.06_MD590_2_0140_cropped_patch_locations.txt"
     ]
    },
    {
     "name": "stderr",
     "output_type": "stream",
     "text": [
      "Child returned 0\n",
      "2.58 seconds.\n",
      "Child returned"
     ]
    },
    {
     "name": "stdout",
     "output_type": "stream",
     "text": [
      "\n",
      "rm -rf /media/yuncong/BstemAtlasData/CSHL_data_processed/MD590/MD590_masks_alignedTo_MD590-N47-2015.09.12-05.32.06_MD590_2_0140_cropped/MD590-IHC68-2015.08.10-22.58.41_MD590_1_0204_mask_alignedTo_MD590-N47-2015.09.12-05.32.06_MD590_2_0140_cropped.png && mkdir -p /media/yuncong/BstemAtlasData/CSHL_data_processed/MD590/MD590_masks_alignedTo_MD590-N47-2015.09.12-05.32.06_MD590_2_0140_cropped"
     ]
    },
    {
     "name": "stderr",
     "output_type": "stream",
     "text": [
      " 0\n",
      "1.23 seconds.\n",
      "save: 5.36 seconds\n",
      "\n",
      "Section 332.\n",
      "Child returned"
     ]
    },
    {
     "name": "stdout",
     "output_type": "stream",
     "text": [
      "\n",
      "aws s3 cp s3://mousebrainatlas-data/CSHL_data_processed/MD590/MD590_masks_alignedTo_MD590-N47-2015.09.12-05.32.06_MD590_2_0140_cropped/MD590-IHC68-2015.08.10-22.58.41_MD590_1_0204_mask_alignedTo_MD590-N47-2015.09.12-05.32.06_MD590_2_0140_cropped.png /media/yuncong/BstemAtlasData/CSHL_data_processed/MD590/MD590_masks_alignedTo_MD590-N47-2015.09.12-05.32.06_MD590_2_0140_cropped/MD590-IHC68-2015.08.10-22.58.41_MD590_1_0204_mask_alignedTo_MD590-N47-2015.09.12-05.32.06_MD590_2_0140_cropped.png"
     ]
    },
    {
     "name": "stderr",
     "output_type": "stream",
     "text": [
      " 0\n",
      "Child returned 0\n",
      "1.69 seconds.\n",
      "locate patches: 1.72 seconds\n",
      "30735 samples.\n",
      "load image: 1.51 seconds\n",
      "extract patches: 12.56 seconds\n",
      "predict: 78.66 seconds\n"
     ]
    },
    {
     "name": "stdout",
     "output_type": "stream",
     "text": [
      "\n",
      "aws s3 cp /media/yuncong/BstemAtlasData/CSHL_patch_features/inception-bn-blue/MD590/MD590-IHC68-2015.08.10-22.58.41_MD590_1_0204_lossless_alignedTo_MD590-N47-2015.09.12-05.32.06_MD590_2_0140_cropped/MD590-IHC68-2015.08.10-22.58.41_MD590_1_0204_lossless_alignedTo_MD590-N47-2015.09.12-05.32.06_MD590_2_0140_cropped_features.hdf s3://mousebrainatlas-data/CSHL_patch_features/inception-bn-blue/MD590/MD590-IHC68-2015.08.10-22.58.41_MD590_1_0204_lossless_alignedTo_MD590-N47-2015.09.12-05.32.06_MD590_2_0140_cropped/MD590-IHC68-2015.08.10-22.58.41_MD590_1_0204_lossless_alignedTo_MD590-N47-2015.09.12-05.32.06_MD590_2_0140_cropped_features.hdf\n",
      "aws s3 cp /media/yuncong/BstemAtlasData/CSHL_patch_features/inception-bn-blue/MD590/MD590-IHC68-2015.08.10-22.58.41_MD590_1_0204_lossless_alignedTo_MD590-N47-2015.09.12-05.32.06_MD590_2_0140_cropped/MD590-IHC68-2015.08.10-22.58.41_MD590_1_0204_lossless_alignedTo_MD590-N47-2015.09.12-05.32.06_MD590_2_0140_cropped_patch_locations.txt s3://mousebrainatlas-data/CSHL_patch_features/inception-bn-blue/MD590/MD590-IHC68-2015.08.10-22.58.41_MD590_1_0204_lossless_alignedTo_MD590-N47-2015.09.12-05.32.06_MD590_2_0140_cropped/MD590-IHC68-2015.08.10-22.58.41_MD590_1_0204_lossless_alignedTo_MD590-N47-2015.09.12-05.32.06_MD590_2_0140_cropped_patch_locations.txt"
     ]
    },
    {
     "name": "stderr",
     "output_type": "stream",
     "text": [
      "Child returned 0\n",
      "2.24 seconds.\n",
      "Child returned"
     ]
    },
    {
     "name": "stdout",
     "output_type": "stream",
     "text": [
      "\n",
      "rm -rf /media/yuncong/BstemAtlasData/CSHL_data_processed/MD590/MD590_masks_alignedTo_MD590-N47-2015.09.12-05.32.06_MD590_2_0140_cropped/MD590-N69-2015.08.03-21.37.52_MD590_3_0205_mask_alignedTo_MD590-N47-2015.09.12-05.32.06_MD590_2_0140_cropped.png && mkdir -p /media/yuncong/BstemAtlasData/CSHL_data_processed/MD590/MD590_masks_alignedTo_MD590-N47-2015.09.12-05.32.06_MD590_2_0140_cropped"
     ]
    },
    {
     "name": "stderr",
     "output_type": "stream",
     "text": [
      " 0\n",
      "1.23 seconds.\n",
      "save: 5.04 seconds\n",
      "\n",
      "Section 333.\n",
      "Child returned"
     ]
    },
    {
     "name": "stdout",
     "output_type": "stream",
     "text": [
      "\n",
      "aws s3 cp s3://mousebrainatlas-data/CSHL_data_processed/MD590/MD590_masks_alignedTo_MD590-N47-2015.09.12-05.32.06_MD590_2_0140_cropped/MD590-N69-2015.08.03-21.37.52_MD590_3_0205_mask_alignedTo_MD590-N47-2015.09.12-05.32.06_MD590_2_0140_cropped.png /media/yuncong/BstemAtlasData/CSHL_data_processed/MD590/MD590_masks_alignedTo_MD590-N47-2015.09.12-05.32.06_MD590_2_0140_cropped/MD590-N69-2015.08.03-21.37.52_MD590_3_0205_mask_alignedTo_MD590-N47-2015.09.12-05.32.06_MD590_2_0140_cropped.png"
     ]
    },
    {
     "name": "stderr",
     "output_type": "stream",
     "text": [
      " 0\n",
      "Child returned 0\n",
      "1.87 seconds.\n",
      "locate patches: 1.90 seconds\n",
      "30721 samples.\n",
      "load image: 1.44 seconds\n",
      "extract patches: 12.40 seconds\n",
      "predict: 77.86 seconds\n"
     ]
    },
    {
     "name": "stdout",
     "output_type": "stream",
     "text": [
      "\n",
      "aws s3 cp /media/yuncong/BstemAtlasData/CSHL_patch_features/inception-bn-blue/MD590/MD590-N69-2015.08.03-21.37.52_MD590_3_0205_lossless_alignedTo_MD590-N47-2015.09.12-05.32.06_MD590_2_0140_cropped/MD590-N69-2015.08.03-21.37.52_MD590_3_0205_lossless_alignedTo_MD590-N47-2015.09.12-05.32.06_MD590_2_0140_cropped_features.hdf s3://mousebrainatlas-data/CSHL_patch_features/inception-bn-blue/MD590/MD590-N69-2015.08.03-21.37.52_MD590_3_0205_lossless_alignedTo_MD590-N47-2015.09.12-05.32.06_MD590_2_0140_cropped/MD590-N69-2015.08.03-21.37.52_MD590_3_0205_lossless_alignedTo_MD590-N47-2015.09.12-05.32.06_MD590_2_0140_cropped_features.hdf\n",
      "aws s3 cp /media/yuncong/BstemAtlasData/CSHL_patch_features/inception-bn-blue/MD590/MD590-N69-2015.08.03-21.37.52_MD590_3_0205_lossless_alignedTo_MD590-N47-2015.09.12-05.32.06_MD590_2_0140_cropped/MD590-N69-2015.08.03-21.37.52_MD590_3_0205_lossless_alignedTo_MD590-N47-2015.09.12-05.32.06_MD590_2_0140_cropped_patch_locations.txt s3://mousebrainatlas-data/CSHL_patch_features/inception-bn-blue/MD590/MD590-N69-2015.08.03-21.37.52_MD590_3_0205_lossless_alignedTo_MD590-N47-2015.09.12-05.32.06_MD590_2_0140_cropped/MD590-N69-2015.08.03-21.37.52_MD590_3_0205_lossless_alignedTo_MD590-N47-2015.09.12-05.32.06_MD590_2_0140_cropped_patch_locations.txt"
     ]
    },
    {
     "name": "stderr",
     "output_type": "stream",
     "text": [
      "Child returned 0\n",
      "2.37 seconds.\n",
      "Child returned"
     ]
    },
    {
     "name": "stdout",
     "output_type": "stream",
     "text": [
      "\n",
      "rm -rf /media/yuncong/BstemAtlasData/CSHL_data_processed/MD590/MD590_masks_alignedTo_MD590-N47-2015.09.12-05.32.06_MD590_2_0140_cropped/MD590-IHC69-2015.08.10-23.02.45_MD590_3_0205_mask_alignedTo_MD590-N47-2015.09.12-05.32.06_MD590_2_0140_cropped.png && mkdir -p /media/yuncong/BstemAtlasData/CSHL_data_processed/MD590/MD590_masks_alignedTo_MD590-N47-2015.09.12-05.32.06_MD590_2_0140_cropped"
     ]
    },
    {
     "name": "stderr",
     "output_type": "stream",
     "text": [
      " 0\n",
      "1.24 seconds.\n",
      "save: 5.16 seconds\n",
      "\n",
      "Section 334.\n",
      "Child returned"
     ]
    },
    {
     "name": "stdout",
     "output_type": "stream",
     "text": [
      "\n",
      "aws s3 cp s3://mousebrainatlas-data/CSHL_data_processed/MD590/MD590_masks_alignedTo_MD590-N47-2015.09.12-05.32.06_MD590_2_0140_cropped/MD590-IHC69-2015.08.10-23.02.45_MD590_3_0205_mask_alignedTo_MD590-N47-2015.09.12-05.32.06_MD590_2_0140_cropped.png /media/yuncong/BstemAtlasData/CSHL_data_processed/MD590/MD590_masks_alignedTo_MD590-N47-2015.09.12-05.32.06_MD590_2_0140_cropped/MD590-IHC69-2015.08.10-23.02.45_MD590_3_0205_mask_alignedTo_MD590-N47-2015.09.12-05.32.06_MD590_2_0140_cropped.png"
     ]
    },
    {
     "name": "stderr",
     "output_type": "stream",
     "text": [
      " 0\n",
      "Child returned 0\n",
      "1.71 seconds.\n",
      "locate patches: 1.74 seconds\n",
      "30811 samples.\n",
      "load image: 1.57 seconds\n",
      "extract patches: 12.92 seconds\n",
      "predict: 78.78 seconds\n"
     ]
    },
    {
     "name": "stdout",
     "output_type": "stream",
     "text": [
      "\n",
      "aws s3 cp /media/yuncong/BstemAtlasData/CSHL_patch_features/inception-bn-blue/MD590/MD590-IHC69-2015.08.10-23.02.45_MD590_3_0205_lossless_alignedTo_MD590-N47-2015.09.12-05.32.06_MD590_2_0140_cropped/MD590-IHC69-2015.08.10-23.02.45_MD590_3_0205_lossless_alignedTo_MD590-N47-2015.09.12-05.32.06_MD590_2_0140_cropped_features.hdf s3://mousebrainatlas-data/CSHL_patch_features/inception-bn-blue/MD590/MD590-IHC69-2015.08.10-23.02.45_MD590_3_0205_lossless_alignedTo_MD590-N47-2015.09.12-05.32.06_MD590_2_0140_cropped/MD590-IHC69-2015.08.10-23.02.45_MD590_3_0205_lossless_alignedTo_MD590-N47-2015.09.12-05.32.06_MD590_2_0140_cropped_features.hdf\n",
      "aws s3 cp /media/yuncong/BstemAtlasData/CSHL_patch_features/inception-bn-blue/MD590/MD590-IHC69-2015.08.10-23.02.45_MD590_3_0205_lossless_alignedTo_MD590-N47-2015.09.12-05.32.06_MD590_2_0140_cropped/MD590-IHC69-2015.08.10-23.02.45_MD590_3_0205_lossless_alignedTo_MD590-N47-2015.09.12-05.32.06_MD590_2_0140_cropped_patch_locations.txt s3://mousebrainatlas-data/CSHL_patch_features/inception-bn-blue/MD590/MD590-IHC69-2015.08.10-23.02.45_MD590_3_0205_lossless_alignedTo_MD590-N47-2015.09.12-05.32.06_MD590_2_0140_cropped/MD590-IHC69-2015.08.10-23.02.45_MD590_3_0205_lossless_alignedTo_MD590-N47-2015.09.12-05.32.06_MD590_2_0140_cropped_patch_locations.txt"
     ]
    },
    {
     "name": "stderr",
     "output_type": "stream",
     "text": [
      "Child returned 0\n",
      "2.26 seconds.\n",
      "Child returned"
     ]
    },
    {
     "name": "stdout",
     "output_type": "stream",
     "text": [
      "\n",
      "rm -rf /media/yuncong/BstemAtlasData/CSHL_data_processed/MD590/MD590_masks_alignedTo_MD590-N47-2015.09.12-05.32.06_MD590_2_0140_cropped/MD590-N69-2015.08.03-21.37.52_MD590_2_0206_mask_alignedTo_MD590-N47-2015.09.12-05.32.06_MD590_2_0140_cropped.png && mkdir -p /media/yuncong/BstemAtlasData/CSHL_data_processed/MD590/MD590_masks_alignedTo_MD590-N47-2015.09.12-05.32.06_MD590_2_0140_cropped"
     ]
    },
    {
     "name": "stderr",
     "output_type": "stream",
     "text": [
      " 0\n",
      "1.15 seconds.\n",
      "save: 5.03 seconds\n",
      "\n",
      "Section 335.\n",
      "Child returned"
     ]
    },
    {
     "name": "stdout",
     "output_type": "stream",
     "text": [
      "\n",
      "aws s3 cp s3://mousebrainatlas-data/CSHL_data_processed/MD590/MD590_masks_alignedTo_MD590-N47-2015.09.12-05.32.06_MD590_2_0140_cropped/MD590-N69-2015.08.03-21.37.52_MD590_2_0206_mask_alignedTo_MD590-N47-2015.09.12-05.32.06_MD590_2_0140_cropped.png /media/yuncong/BstemAtlasData/CSHL_data_processed/MD590/MD590_masks_alignedTo_MD590-N47-2015.09.12-05.32.06_MD590_2_0140_cropped/MD590-N69-2015.08.03-21.37.52_MD590_2_0206_mask_alignedTo_MD590-N47-2015.09.12-05.32.06_MD590_2_0140_cropped.png"
     ]
    },
    {
     "name": "stderr",
     "output_type": "stream",
     "text": [
      " 0\n",
      "Child returned 0\n",
      "1.70 seconds.\n",
      "locate patches: 1.73 seconds\n",
      "30592 samples.\n",
      "load image: 1.53 seconds\n",
      "extract patches: 13.06 seconds\n",
      "predict: 78.19 seconds\n"
     ]
    },
    {
     "name": "stdout",
     "output_type": "stream",
     "text": [
      "\n",
      "aws s3 cp /media/yuncong/BstemAtlasData/CSHL_patch_features/inception-bn-blue/MD590/MD590-N69-2015.08.03-21.37.52_MD590_2_0206_lossless_alignedTo_MD590-N47-2015.09.12-05.32.06_MD590_2_0140_cropped/MD590-N69-2015.08.03-21.37.52_MD590_2_0206_lossless_alignedTo_MD590-N47-2015.09.12-05.32.06_MD590_2_0140_cropped_features.hdf s3://mousebrainatlas-data/CSHL_patch_features/inception-bn-blue/MD590/MD590-N69-2015.08.03-21.37.52_MD590_2_0206_lossless_alignedTo_MD590-N47-2015.09.12-05.32.06_MD590_2_0140_cropped/MD590-N69-2015.08.03-21.37.52_MD590_2_0206_lossless_alignedTo_MD590-N47-2015.09.12-05.32.06_MD590_2_0140_cropped_features.hdf\n",
      "aws s3 cp /media/yuncong/BstemAtlasData/CSHL_patch_features/inception-bn-blue/MD590/MD590-N69-2015.08.03-21.37.52_MD590_2_0206_lossless_alignedTo_MD590-N47-2015.09.12-05.32.06_MD590_2_0140_cropped/MD590-N69-2015.08.03-21.37.52_MD590_2_0206_lossless_alignedTo_MD590-N47-2015.09.12-05.32.06_MD590_2_0140_cropped_patch_locations.txt s3://mousebrainatlas-data/CSHL_patch_features/inception-bn-blue/MD590/MD590-N69-2015.08.03-21.37.52_MD590_2_0206_lossless_alignedTo_MD590-N47-2015.09.12-05.32.06_MD590_2_0140_cropped/MD590-N69-2015.08.03-21.37.52_MD590_2_0206_lossless_alignedTo_MD590-N47-2015.09.12-05.32.06_MD590_2_0140_cropped_patch_locations.txt"
     ]
    },
    {
     "name": "stderr",
     "output_type": "stream",
     "text": [
      "Child returned 0\n",
      "2.19 seconds.\n",
      "Child returned"
     ]
    },
    {
     "name": "stdout",
     "output_type": "stream",
     "text": [
      "\n",
      "rm -rf /media/yuncong/BstemAtlasData/CSHL_data_processed/MD590/MD590_masks_alignedTo_MD590-N47-2015.09.12-05.32.06_MD590_2_0140_cropped/MD590-IHC69-2015.08.10-23.02.45_MD590_2_0206_mask_alignedTo_MD590-N47-2015.09.12-05.32.06_MD590_2_0140_cropped.png && mkdir -p /media/yuncong/BstemAtlasData/CSHL_data_processed/MD590/MD590_masks_alignedTo_MD590-N47-2015.09.12-05.32.06_MD590_2_0140_cropped"
     ]
    },
    {
     "name": "stderr",
     "output_type": "stream",
     "text": [
      " 0\n",
      "1.23 seconds.\n",
      "save: 4.97 seconds\n",
      "\n",
      "Section 336.\n",
      "Child returned"
     ]
    },
    {
     "name": "stdout",
     "output_type": "stream",
     "text": [
      "\n",
      "aws s3 cp s3://mousebrainatlas-data/CSHL_data_processed/MD590/MD590_masks_alignedTo_MD590-N47-2015.09.12-05.32.06_MD590_2_0140_cropped/MD590-IHC69-2015.08.10-23.02.45_MD590_2_0206_mask_alignedTo_MD590-N47-2015.09.12-05.32.06_MD590_2_0140_cropped.png /media/yuncong/BstemAtlasData/CSHL_data_processed/MD590/MD590_masks_alignedTo_MD590-N47-2015.09.12-05.32.06_MD590_2_0140_cropped/MD590-IHC69-2015.08.10-23.02.45_MD590_2_0206_mask_alignedTo_MD590-N47-2015.09.12-05.32.06_MD590_2_0140_cropped.png"
     ]
    },
    {
     "name": "stderr",
     "output_type": "stream",
     "text": [
      " 0\n",
      "Child returned 0\n",
      "1.60 seconds.\n",
      "locate patches: 1.63 seconds\n",
      "30741 samples.\n",
      "load image: 1.51 seconds\n",
      "extract patches: 12.70 seconds\n",
      "predict: 78.84 seconds\n"
     ]
    },
    {
     "name": "stdout",
     "output_type": "stream",
     "text": [
      "\n",
      "aws s3 cp /media/yuncong/BstemAtlasData/CSHL_patch_features/inception-bn-blue/MD590/MD590-IHC69-2015.08.10-23.02.45_MD590_2_0206_lossless_alignedTo_MD590-N47-2015.09.12-05.32.06_MD590_2_0140_cropped/MD590-IHC69-2015.08.10-23.02.45_MD590_2_0206_lossless_alignedTo_MD590-N47-2015.09.12-05.32.06_MD590_2_0140_cropped_features.hdf s3://mousebrainatlas-data/CSHL_patch_features/inception-bn-blue/MD590/MD590-IHC69-2015.08.10-23.02.45_MD590_2_0206_lossless_alignedTo_MD590-N47-2015.09.12-05.32.06_MD590_2_0140_cropped/MD590-IHC69-2015.08.10-23.02.45_MD590_2_0206_lossless_alignedTo_MD590-N47-2015.09.12-05.32.06_MD590_2_0140_cropped_features.hdf\n",
      "aws s3 cp /media/yuncong/BstemAtlasData/CSHL_patch_features/inception-bn-blue/MD590/MD590-IHC69-2015.08.10-23.02.45_MD590_2_0206_lossless_alignedTo_MD590-N47-2015.09.12-05.32.06_MD590_2_0140_cropped/MD590-IHC69-2015.08.10-23.02.45_MD590_2_0206_lossless_alignedTo_MD590-N47-2015.09.12-05.32.06_MD590_2_0140_cropped_patch_locations.txt s3://mousebrainatlas-data/CSHL_patch_features/inception-bn-blue/MD590/MD590-IHC69-2015.08.10-23.02.45_MD590_2_0206_lossless_alignedTo_MD590-N47-2015.09.12-05.32.06_MD590_2_0140_cropped/MD590-IHC69-2015.08.10-23.02.45_MD590_2_0206_lossless_alignedTo_MD590-N47-2015.09.12-05.32.06_MD590_2_0140_cropped_patch_locations.txt"
     ]
    },
    {
     "name": "stderr",
     "output_type": "stream",
     "text": [
      "Child returned 0\n",
      "2.42 seconds.\n",
      "Child returned"
     ]
    },
    {
     "name": "stdout",
     "output_type": "stream",
     "text": [
      "\n",
      "rm -rf /media/yuncong/BstemAtlasData/CSHL_data_processed/MD590/MD590_masks_alignedTo_MD590-N47-2015.09.12-05.32.06_MD590_2_0140_cropped/MD590-N69-2015.08.03-21.37.52_MD590_1_0207_mask_alignedTo_MD590-N47-2015.09.12-05.32.06_MD590_2_0140_cropped.png && mkdir -p /media/yuncong/BstemAtlasData/CSHL_data_processed/MD590/MD590_masks_alignedTo_MD590-N47-2015.09.12-05.32.06_MD590_2_0140_cropped"
     ]
    },
    {
     "name": "stderr",
     "output_type": "stream",
     "text": [
      " 0\n",
      "1.28 seconds.\n",
      "save: 5.25 seconds\n",
      "\n",
      "Section 337.\n",
      "Child returned"
     ]
    },
    {
     "name": "stdout",
     "output_type": "stream",
     "text": [
      "\n",
      "aws s3 cp s3://mousebrainatlas-data/CSHL_data_processed/MD590/MD590_masks_alignedTo_MD590-N47-2015.09.12-05.32.06_MD590_2_0140_cropped/MD590-N69-2015.08.03-21.37.52_MD590_1_0207_mask_alignedTo_MD590-N47-2015.09.12-05.32.06_MD590_2_0140_cropped.png /media/yuncong/BstemAtlasData/CSHL_data_processed/MD590/MD590_masks_alignedTo_MD590-N47-2015.09.12-05.32.06_MD590_2_0140_cropped/MD590-N69-2015.08.03-21.37.52_MD590_1_0207_mask_alignedTo_MD590-N47-2015.09.12-05.32.06_MD590_2_0140_cropped.png"
     ]
    },
    {
     "name": "stderr",
     "output_type": "stream",
     "text": [
      " 0\n",
      "Child returned 0\n",
      "1.74 seconds.\n",
      "locate patches: 1.76 seconds\n",
      "30305 samples.\n",
      "load image: 1.64 seconds\n",
      "extract patches: 12.16 seconds\n",
      "predict: 77.23 seconds\n"
     ]
    },
    {
     "name": "stdout",
     "output_type": "stream",
     "text": [
      "\n",
      "aws s3 cp /media/yuncong/BstemAtlasData/CSHL_patch_features/inception-bn-blue/MD590/MD590-N69-2015.08.03-21.37.52_MD590_1_0207_lossless_alignedTo_MD590-N47-2015.09.12-05.32.06_MD590_2_0140_cropped/MD590-N69-2015.08.03-21.37.52_MD590_1_0207_lossless_alignedTo_MD590-N47-2015.09.12-05.32.06_MD590_2_0140_cropped_features.hdf s3://mousebrainatlas-data/CSHL_patch_features/inception-bn-blue/MD590/MD590-N69-2015.08.03-21.37.52_MD590_1_0207_lossless_alignedTo_MD590-N47-2015.09.12-05.32.06_MD590_2_0140_cropped/MD590-N69-2015.08.03-21.37.52_MD590_1_0207_lossless_alignedTo_MD590-N47-2015.09.12-05.32.06_MD590_2_0140_cropped_features.hdf\n",
      "aws s3 cp /media/yuncong/BstemAtlasData/CSHL_patch_features/inception-bn-blue/MD590/MD590-N69-2015.08.03-21.37.52_MD590_1_0207_lossless_alignedTo_MD590-N47-2015.09.12-05.32.06_MD590_2_0140_cropped/MD590-N69-2015.08.03-21.37.52_MD590_1_0207_lossless_alignedTo_MD590-N47-2015.09.12-05.32.06_MD590_2_0140_cropped_patch_locations.txt s3://mousebrainatlas-data/CSHL_patch_features/inception-bn-blue/MD590/MD590-N69-2015.08.03-21.37.52_MD590_1_0207_lossless_alignedTo_MD590-N47-2015.09.12-05.32.06_MD590_2_0140_cropped/MD590-N69-2015.08.03-21.37.52_MD590_1_0207_lossless_alignedTo_MD590-N47-2015.09.12-05.32.06_MD590_2_0140_cropped_patch_locations.txt"
     ]
    },
    {
     "name": "stderr",
     "output_type": "stream",
     "text": [
      "Child returned 0\n",
      "2.14 seconds.\n",
      "Child returned"
     ]
    },
    {
     "name": "stdout",
     "output_type": "stream",
     "text": [
      "\n",
      "rm -rf /media/yuncong/BstemAtlasData/CSHL_data_processed/MD590/MD590_masks_alignedTo_MD590-N47-2015.09.12-05.32.06_MD590_2_0140_cropped/MD590-IHC69-2015.08.10-23.02.45_MD590_1_0207_mask_alignedTo_MD590-N47-2015.09.12-05.32.06_MD590_2_0140_cropped.png && mkdir -p /media/yuncong/BstemAtlasData/CSHL_data_processed/MD590/MD590_masks_alignedTo_MD590-N47-2015.09.12-05.32.06_MD590_2_0140_cropped"
     ]
    },
    {
     "name": "stderr",
     "output_type": "stream",
     "text": [
      " 0\n",
      "1.38 seconds.\n",
      "save: 5.02 seconds\n",
      "\n",
      "Section 338.\n",
      "Child returned"
     ]
    },
    {
     "name": "stdout",
     "output_type": "stream",
     "text": [
      "\n",
      "aws s3 cp s3://mousebrainatlas-data/CSHL_data_processed/MD590/MD590_masks_alignedTo_MD590-N47-2015.09.12-05.32.06_MD590_2_0140_cropped/MD590-IHC69-2015.08.10-23.02.45_MD590_1_0207_mask_alignedTo_MD590-N47-2015.09.12-05.32.06_MD590_2_0140_cropped.png /media/yuncong/BstemAtlasData/CSHL_data_processed/MD590/MD590_masks_alignedTo_MD590-N47-2015.09.12-05.32.06_MD590_2_0140_cropped/MD590-IHC69-2015.08.10-23.02.45_MD590_1_0207_mask_alignedTo_MD590-N47-2015.09.12-05.32.06_MD590_2_0140_cropped.png"
     ]
    },
    {
     "name": "stderr",
     "output_type": "stream",
     "text": [
      " 0\n",
      "Child returned 0\n",
      "1.71 seconds.\n",
      "locate patches: 1.73 seconds\n",
      "30439 samples.\n",
      "load image: 1.55 seconds\n",
      "extract patches: 12.18 seconds\n",
      "predict: 76.80 seconds\n"
     ]
    },
    {
     "name": "stdout",
     "output_type": "stream",
     "text": [
      "\n",
      "aws s3 cp /media/yuncong/BstemAtlasData/CSHL_patch_features/inception-bn-blue/MD590/MD590-IHC69-2015.08.10-23.02.45_MD590_1_0207_lossless_alignedTo_MD590-N47-2015.09.12-05.32.06_MD590_2_0140_cropped/MD590-IHC69-2015.08.10-23.02.45_MD590_1_0207_lossless_alignedTo_MD590-N47-2015.09.12-05.32.06_MD590_2_0140_cropped_features.hdf s3://mousebrainatlas-data/CSHL_patch_features/inception-bn-blue/MD590/MD590-IHC69-2015.08.10-23.02.45_MD590_1_0207_lossless_alignedTo_MD590-N47-2015.09.12-05.32.06_MD590_2_0140_cropped/MD590-IHC69-2015.08.10-23.02.45_MD590_1_0207_lossless_alignedTo_MD590-N47-2015.09.12-05.32.06_MD590_2_0140_cropped_features.hdf\n",
      "aws s3 cp /media/yuncong/BstemAtlasData/CSHL_patch_features/inception-bn-blue/MD590/MD590-IHC69-2015.08.10-23.02.45_MD590_1_0207_lossless_alignedTo_MD590-N47-2015.09.12-05.32.06_MD590_2_0140_cropped/MD590-IHC69-2015.08.10-23.02.45_MD590_1_0207_lossless_alignedTo_MD590-N47-2015.09.12-05.32.06_MD590_2_0140_cropped_patch_locations.txt s3://mousebrainatlas-data/CSHL_patch_features/inception-bn-blue/MD590/MD590-IHC69-2015.08.10-23.02.45_MD590_1_0207_lossless_alignedTo_MD590-N47-2015.09.12-05.32.06_MD590_2_0140_cropped/MD590-IHC69-2015.08.10-23.02.45_MD590_1_0207_lossless_alignedTo_MD590-N47-2015.09.12-05.32.06_MD590_2_0140_cropped_patch_locations.txt"
     ]
    },
    {
     "name": "stderr",
     "output_type": "stream",
     "text": [
      "Child returned 0\n",
      "2.17 seconds.\n",
      "Child returned"
     ]
    },
    {
     "name": "stdout",
     "output_type": "stream",
     "text": [
      "\n",
      "rm -rf /media/yuncong/BstemAtlasData/CSHL_data_processed/MD590/MD590_masks_alignedTo_MD590-N47-2015.09.12-05.32.06_MD590_2_0140_cropped/MD590-N70-2015.08.03-21.41.49_MD590_3_0208_mask_alignedTo_MD590-N47-2015.09.12-05.32.06_MD590_2_0140_cropped.png && mkdir -p /media/yuncong/BstemAtlasData/CSHL_data_processed/MD590/MD590_masks_alignedTo_MD590-N47-2015.09.12-05.32.06_MD590_2_0140_cropped"
     ]
    },
    {
     "name": "stderr",
     "output_type": "stream",
     "text": [
      " 0\n",
      "1.26 seconds.\n",
      "save: 4.93 seconds\n",
      "\n",
      "Section 339.\n",
      "Child returned"
     ]
    },
    {
     "name": "stdout",
     "output_type": "stream",
     "text": [
      "\n",
      "aws s3 cp s3://mousebrainatlas-data/CSHL_data_processed/MD590/MD590_masks_alignedTo_MD590-N47-2015.09.12-05.32.06_MD590_2_0140_cropped/MD590-N70-2015.08.03-21.41.49_MD590_3_0208_mask_alignedTo_MD590-N47-2015.09.12-05.32.06_MD590_2_0140_cropped.png /media/yuncong/BstemAtlasData/CSHL_data_processed/MD590/MD590_masks_alignedTo_MD590-N47-2015.09.12-05.32.06_MD590_2_0140_cropped/MD590-N70-2015.08.03-21.41.49_MD590_3_0208_mask_alignedTo_MD590-N47-2015.09.12-05.32.06_MD590_2_0140_cropped.png"
     ]
    },
    {
     "name": "stderr",
     "output_type": "stream",
     "text": [
      " 0\n",
      "Child returned 0\n",
      "1.73 seconds.\n",
      "locate patches: 1.76 seconds\n",
      "29861 samples.\n",
      "load image: 1.58 seconds\n",
      "extract patches: 12.18 seconds\n",
      "predict: 76.48 seconds\n"
     ]
    },
    {
     "name": "stdout",
     "output_type": "stream",
     "text": [
      "\n",
      "aws s3 cp /media/yuncong/BstemAtlasData/CSHL_patch_features/inception-bn-blue/MD590/MD590-N70-2015.08.03-21.41.49_MD590_3_0208_lossless_alignedTo_MD590-N47-2015.09.12-05.32.06_MD590_2_0140_cropped/MD590-N70-2015.08.03-21.41.49_MD590_3_0208_lossless_alignedTo_MD590-N47-2015.09.12-05.32.06_MD590_2_0140_cropped_features.hdf s3://mousebrainatlas-data/CSHL_patch_features/inception-bn-blue/MD590/MD590-N70-2015.08.03-21.41.49_MD590_3_0208_lossless_alignedTo_MD590-N47-2015.09.12-05.32.06_MD590_2_0140_cropped/MD590-N70-2015.08.03-21.41.49_MD590_3_0208_lossless_alignedTo_MD590-N47-2015.09.12-05.32.06_MD590_2_0140_cropped_features.hdf\n",
      "aws s3 cp /media/yuncong/BstemAtlasData/CSHL_patch_features/inception-bn-blue/MD590/MD590-N70-2015.08.03-21.41.49_MD590_3_0208_lossless_alignedTo_MD590-N47-2015.09.12-05.32.06_MD590_2_0140_cropped/MD590-N70-2015.08.03-21.41.49_MD590_3_0208_lossless_alignedTo_MD590-N47-2015.09.12-05.32.06_MD590_2_0140_cropped_patch_locations.txt s3://mousebrainatlas-data/CSHL_patch_features/inception-bn-blue/MD590/MD590-N70-2015.08.03-21.41.49_MD590_3_0208_lossless_alignedTo_MD590-N47-2015.09.12-05.32.06_MD590_2_0140_cropped/MD590-N70-2015.08.03-21.41.49_MD590_3_0208_lossless_alignedTo_MD590-N47-2015.09.12-05.32.06_MD590_2_0140_cropped_patch_locations.txt"
     ]
    },
    {
     "name": "stderr",
     "output_type": "stream",
     "text": [
      "Child returned 0\n",
      "2.14 seconds.\n",
      "Child returned"
     ]
    },
    {
     "name": "stdout",
     "output_type": "stream",
     "text": [
      "\n",
      "rm -rf /media/yuncong/BstemAtlasData/CSHL_data_processed/MD590/MD590_masks_alignedTo_MD590-N47-2015.09.12-05.32.06_MD590_2_0140_cropped/MD590-IHC70-2015.08.10-23.06.44_MD590_3_0208_mask_alignedTo_MD590-N47-2015.09.12-05.32.06_MD590_2_0140_cropped.png && mkdir -p /media/yuncong/BstemAtlasData/CSHL_data_processed/MD590/MD590_masks_alignedTo_MD590-N47-2015.09.12-05.32.06_MD590_2_0140_cropped"
     ]
    },
    {
     "name": "stderr",
     "output_type": "stream",
     "text": [
      " 0\n",
      "1.19 seconds.\n",
      "save: 4.83 seconds\n",
      "\n",
      "Section 340.\n",
      "Child returned"
     ]
    },
    {
     "name": "stdout",
     "output_type": "stream",
     "text": [
      "\n",
      "aws s3 cp s3://mousebrainatlas-data/CSHL_data_processed/MD590/MD590_masks_alignedTo_MD590-N47-2015.09.12-05.32.06_MD590_2_0140_cropped/MD590-IHC70-2015.08.10-23.06.44_MD590_3_0208_mask_alignedTo_MD590-N47-2015.09.12-05.32.06_MD590_2_0140_cropped.png /media/yuncong/BstemAtlasData/CSHL_data_processed/MD590/MD590_masks_alignedTo_MD590-N47-2015.09.12-05.32.06_MD590_2_0140_cropped/MD590-IHC70-2015.08.10-23.06.44_MD590_3_0208_mask_alignedTo_MD590-N47-2015.09.12-05.32.06_MD590_2_0140_cropped.png"
     ]
    },
    {
     "name": "stderr",
     "output_type": "stream",
     "text": [
      " 0\n",
      "Child returned 0\n",
      "1.56 seconds.\n",
      "locate patches: 1.59 seconds\n",
      "30354 samples.\n",
      "load image: 1.53 seconds\n",
      "extract patches: 12.47 seconds\n",
      "predict: 77.76 seconds\n"
     ]
    },
    {
     "name": "stdout",
     "output_type": "stream",
     "text": [
      "\n",
      "aws s3 cp /media/yuncong/BstemAtlasData/CSHL_patch_features/inception-bn-blue/MD590/MD590-IHC70-2015.08.10-23.06.44_MD590_3_0208_lossless_alignedTo_MD590-N47-2015.09.12-05.32.06_MD590_2_0140_cropped/MD590-IHC70-2015.08.10-23.06.44_MD590_3_0208_lossless_alignedTo_MD590-N47-2015.09.12-05.32.06_MD590_2_0140_cropped_features.hdf s3://mousebrainatlas-data/CSHL_patch_features/inception-bn-blue/MD590/MD590-IHC70-2015.08.10-23.06.44_MD590_3_0208_lossless_alignedTo_MD590-N47-2015.09.12-05.32.06_MD590_2_0140_cropped/MD590-IHC70-2015.08.10-23.06.44_MD590_3_0208_lossless_alignedTo_MD590-N47-2015.09.12-05.32.06_MD590_2_0140_cropped_features.hdf\n",
      "aws s3 cp /media/yuncong/BstemAtlasData/CSHL_patch_features/inception-bn-blue/MD590/MD590-IHC70-2015.08.10-23.06.44_MD590_3_0208_lossless_alignedTo_MD590-N47-2015.09.12-05.32.06_MD590_2_0140_cropped/MD590-IHC70-2015.08.10-23.06.44_MD590_3_0208_lossless_alignedTo_MD590-N47-2015.09.12-05.32.06_MD590_2_0140_cropped_patch_locations.txt s3://mousebrainatlas-data/CSHL_patch_features/inception-bn-blue/MD590/MD590-IHC70-2015.08.10-23.06.44_MD590_3_0208_lossless_alignedTo_MD590-N47-2015.09.12-05.32.06_MD590_2_0140_cropped/MD590-IHC70-2015.08.10-23.06.44_MD590_3_0208_lossless_alignedTo_MD590-N47-2015.09.12-05.32.06_MD590_2_0140_cropped_patch_locations.txt"
     ]
    },
    {
     "name": "stderr",
     "output_type": "stream",
     "text": [
      "Child returned 0\n",
      "2.28 seconds.\n",
      "Child returned"
     ]
    },
    {
     "name": "stdout",
     "output_type": "stream",
     "text": [
      "\n",
      "rm -rf /media/yuncong/BstemAtlasData/CSHL_data_processed/MD590/MD590_masks_alignedTo_MD590-N47-2015.09.12-05.32.06_MD590_2_0140_cropped/MD590-N70-2015.08.03-21.41.49_MD590_2_0209_mask_alignedTo_MD590-N47-2015.09.12-05.32.06_MD590_2_0140_cropped.png && mkdir -p /media/yuncong/BstemAtlasData/CSHL_data_processed/MD590/MD590_masks_alignedTo_MD590-N47-2015.09.12-05.32.06_MD590_2_0140_cropped"
     ]
    },
    {
     "name": "stderr",
     "output_type": "stream",
     "text": [
      " 0\n",
      "1.29 seconds.\n",
      "save: 5.08 seconds\n",
      "\n",
      "Section 341.\n",
      "Child returned"
     ]
    },
    {
     "name": "stdout",
     "output_type": "stream",
     "text": [
      "\n",
      "aws s3 cp s3://mousebrainatlas-data/CSHL_data_processed/MD590/MD590_masks_alignedTo_MD590-N47-2015.09.12-05.32.06_MD590_2_0140_cropped/MD590-N70-2015.08.03-21.41.49_MD590_2_0209_mask_alignedTo_MD590-N47-2015.09.12-05.32.06_MD590_2_0140_cropped.png /media/yuncong/BstemAtlasData/CSHL_data_processed/MD590/MD590_masks_alignedTo_MD590-N47-2015.09.12-05.32.06_MD590_2_0140_cropped/MD590-N70-2015.08.03-21.41.49_MD590_2_0209_mask_alignedTo_MD590-N47-2015.09.12-05.32.06_MD590_2_0140_cropped.png"
     ]
    },
    {
     "name": "stderr",
     "output_type": "stream",
     "text": [
      " 0\n",
      "Child returned 0\n",
      "1.64 seconds.\n",
      "locate patches: 1.66 seconds\n",
      "30240 samples.\n",
      "load image: 1.48 seconds\n",
      "extract patches: 12.90 seconds\n",
      "predict: 76.39 seconds\n"
     ]
    },
    {
     "name": "stdout",
     "output_type": "stream",
     "text": [
      "\n",
      "aws s3 cp /media/yuncong/BstemAtlasData/CSHL_patch_features/inception-bn-blue/MD590/MD590-N70-2015.08.03-21.41.49_MD590_2_0209_lossless_alignedTo_MD590-N47-2015.09.12-05.32.06_MD590_2_0140_cropped/MD590-N70-2015.08.03-21.41.49_MD590_2_0209_lossless_alignedTo_MD590-N47-2015.09.12-05.32.06_MD590_2_0140_cropped_features.hdf s3://mousebrainatlas-data/CSHL_patch_features/inception-bn-blue/MD590/MD590-N70-2015.08.03-21.41.49_MD590_2_0209_lossless_alignedTo_MD590-N47-2015.09.12-05.32.06_MD590_2_0140_cropped/MD590-N70-2015.08.03-21.41.49_MD590_2_0209_lossless_alignedTo_MD590-N47-2015.09.12-05.32.06_MD590_2_0140_cropped_features.hdf\n",
      "aws s3 cp /media/yuncong/BstemAtlasData/CSHL_patch_features/inception-bn-blue/MD590/MD590-N70-2015.08.03-21.41.49_MD590_2_0209_lossless_alignedTo_MD590-N47-2015.09.12-05.32.06_MD590_2_0140_cropped/MD590-N70-2015.08.03-21.41.49_MD590_2_0209_lossless_alignedTo_MD590-N47-2015.09.12-05.32.06_MD590_2_0140_cropped_patch_locations.txt s3://mousebrainatlas-data/CSHL_patch_features/inception-bn-blue/MD590/MD590-N70-2015.08.03-21.41.49_MD590_2_0209_lossless_alignedTo_MD590-N47-2015.09.12-05.32.06_MD590_2_0140_cropped/MD590-N70-2015.08.03-21.41.49_MD590_2_0209_lossless_alignedTo_MD590-N47-2015.09.12-05.32.06_MD590_2_0140_cropped_patch_locations.txt"
     ]
    },
    {
     "name": "stderr",
     "output_type": "stream",
     "text": [
      "Child returned 0\n",
      "2.08 seconds.\n",
      "Child returned"
     ]
    },
    {
     "name": "stdout",
     "output_type": "stream",
     "text": [
      "\n",
      "rm -rf /media/yuncong/BstemAtlasData/CSHL_data_processed/MD590/MD590_masks_alignedTo_MD590-N47-2015.09.12-05.32.06_MD590_2_0140_cropped/MD590-IHC70-2015.08.10-23.06.44_MD590_2_0209_mask_alignedTo_MD590-N47-2015.09.12-05.32.06_MD590_2_0140_cropped.png && mkdir -p /media/yuncong/BstemAtlasData/CSHL_data_processed/MD590/MD590_masks_alignedTo_MD590-N47-2015.09.12-05.32.06_MD590_2_0140_cropped"
     ]
    },
    {
     "name": "stderr",
     "output_type": "stream",
     "text": [
      " 0\n",
      "1.21 seconds.\n",
      "save: 4.82 seconds\n",
      "\n",
      "Section 342.\n",
      "Child returned"
     ]
    },
    {
     "name": "stdout",
     "output_type": "stream",
     "text": [
      "\n",
      "aws s3 cp s3://mousebrainatlas-data/CSHL_data_processed/MD590/MD590_masks_alignedTo_MD590-N47-2015.09.12-05.32.06_MD590_2_0140_cropped/MD590-IHC70-2015.08.10-23.06.44_MD590_2_0209_mask_alignedTo_MD590-N47-2015.09.12-05.32.06_MD590_2_0140_cropped.png /media/yuncong/BstemAtlasData/CSHL_data_processed/MD590/MD590_masks_alignedTo_MD590-N47-2015.09.12-05.32.06_MD590_2_0140_cropped/MD590-IHC70-2015.08.10-23.06.44_MD590_2_0209_mask_alignedTo_MD590-N47-2015.09.12-05.32.06_MD590_2_0140_cropped.png"
     ]
    },
    {
     "name": "stderr",
     "output_type": "stream",
     "text": [
      " 0\n",
      "Child returned 0\n",
      "1.75 seconds.\n",
      "locate patches: 1.78 seconds\n",
      "30226 samples.\n",
      "load image: 1.47 seconds\n",
      "extract patches: 12.67 seconds\n",
      "predict: 77.14 seconds\n"
     ]
    },
    {
     "name": "stdout",
     "output_type": "stream",
     "text": [
      "\n",
      "aws s3 cp /media/yuncong/BstemAtlasData/CSHL_patch_features/inception-bn-blue/MD590/MD590-IHC70-2015.08.10-23.06.44_MD590_2_0209_lossless_alignedTo_MD590-N47-2015.09.12-05.32.06_MD590_2_0140_cropped/MD590-IHC70-2015.08.10-23.06.44_MD590_2_0209_lossless_alignedTo_MD590-N47-2015.09.12-05.32.06_MD590_2_0140_cropped_features.hdf s3://mousebrainatlas-data/CSHL_patch_features/inception-bn-blue/MD590/MD590-IHC70-2015.08.10-23.06.44_MD590_2_0209_lossless_alignedTo_MD590-N47-2015.09.12-05.32.06_MD590_2_0140_cropped/MD590-IHC70-2015.08.10-23.06.44_MD590_2_0209_lossless_alignedTo_MD590-N47-2015.09.12-05.32.06_MD590_2_0140_cropped_features.hdf\n",
      "aws s3 cp /media/yuncong/BstemAtlasData/CSHL_patch_features/inception-bn-blue/MD590/MD590-IHC70-2015.08.10-23.06.44_MD590_2_0209_lossless_alignedTo_MD590-N47-2015.09.12-05.32.06_MD590_2_0140_cropped/MD590-IHC70-2015.08.10-23.06.44_MD590_2_0209_lossless_alignedTo_MD590-N47-2015.09.12-05.32.06_MD590_2_0140_cropped_patch_locations.txt s3://mousebrainatlas-data/CSHL_patch_features/inception-bn-blue/MD590/MD590-IHC70-2015.08.10-23.06.44_MD590_2_0209_lossless_alignedTo_MD590-N47-2015.09.12-05.32.06_MD590_2_0140_cropped/MD590-IHC70-2015.08.10-23.06.44_MD590_2_0209_lossless_alignedTo_MD590-N47-2015.09.12-05.32.06_MD590_2_0140_cropped_patch_locations.txt"
     ]
    },
    {
     "name": "stderr",
     "output_type": "stream",
     "text": [
      "Child returned 0\n",
      "2.27 seconds.\n",
      "Child returned"
     ]
    },
    {
     "name": "stdout",
     "output_type": "stream",
     "text": [
      "\n",
      "rm -rf /media/yuncong/BstemAtlasData/CSHL_data_processed/MD590/MD590_masks_alignedTo_MD590-N47-2015.09.12-05.32.06_MD590_2_0140_cropped/MD590-N70-2015.08.03-21.41.49_MD590_1_0210_mask_alignedTo_MD590-N47-2015.09.12-05.32.06_MD590_2_0140_cropped.png && mkdir -p /media/yuncong/BstemAtlasData/CSHL_data_processed/MD590/MD590_masks_alignedTo_MD590-N47-2015.09.12-05.32.06_MD590_2_0140_cropped"
     ]
    },
    {
     "name": "stderr",
     "output_type": "stream",
     "text": [
      " 0\n",
      "1.25 seconds.\n",
      "save: 5.05 seconds\n",
      "\n",
      "Section 343.\n",
      "Child returned"
     ]
    },
    {
     "name": "stdout",
     "output_type": "stream",
     "text": [
      "\n",
      "aws s3 cp s3://mousebrainatlas-data/CSHL_data_processed/MD590/MD590_masks_alignedTo_MD590-N47-2015.09.12-05.32.06_MD590_2_0140_cropped/MD590-N70-2015.08.03-21.41.49_MD590_1_0210_mask_alignedTo_MD590-N47-2015.09.12-05.32.06_MD590_2_0140_cropped.png /media/yuncong/BstemAtlasData/CSHL_data_processed/MD590/MD590_masks_alignedTo_MD590-N47-2015.09.12-05.32.06_MD590_2_0140_cropped/MD590-N70-2015.08.03-21.41.49_MD590_1_0210_mask_alignedTo_MD590-N47-2015.09.12-05.32.06_MD590_2_0140_cropped.png"
     ]
    },
    {
     "name": "stderr",
     "output_type": "stream",
     "text": [
      " 0\n",
      "Child returned 0\n",
      "1.65 seconds.\n",
      "locate patches: 1.67 seconds\n",
      "29850 samples.\n",
      "load image: 1.49 seconds\n",
      "extract patches: 12.42 seconds\n",
      "predict: 76.07 seconds\n"
     ]
    },
    {
     "name": "stdout",
     "output_type": "stream",
     "text": [
      "\n",
      "aws s3 cp /media/yuncong/BstemAtlasData/CSHL_patch_features/inception-bn-blue/MD590/MD590-N70-2015.08.03-21.41.49_MD590_1_0210_lossless_alignedTo_MD590-N47-2015.09.12-05.32.06_MD590_2_0140_cropped/MD590-N70-2015.08.03-21.41.49_MD590_1_0210_lossless_alignedTo_MD590-N47-2015.09.12-05.32.06_MD590_2_0140_cropped_features.hdf s3://mousebrainatlas-data/CSHL_patch_features/inception-bn-blue/MD590/MD590-N70-2015.08.03-21.41.49_MD590_1_0210_lossless_alignedTo_MD590-N47-2015.09.12-05.32.06_MD590_2_0140_cropped/MD590-N70-2015.08.03-21.41.49_MD590_1_0210_lossless_alignedTo_MD590-N47-2015.09.12-05.32.06_MD590_2_0140_cropped_features.hdf\n",
      "aws s3 cp /media/yuncong/BstemAtlasData/CSHL_patch_features/inception-bn-blue/MD590/MD590-N70-2015.08.03-21.41.49_MD590_1_0210_lossless_alignedTo_MD590-N47-2015.09.12-05.32.06_MD590_2_0140_cropped/MD590-N70-2015.08.03-21.41.49_MD590_1_0210_lossless_alignedTo_MD590-N47-2015.09.12-05.32.06_MD590_2_0140_cropped_patch_locations.txt s3://mousebrainatlas-data/CSHL_patch_features/inception-bn-blue/MD590/MD590-N70-2015.08.03-21.41.49_MD590_1_0210_lossless_alignedTo_MD590-N47-2015.09.12-05.32.06_MD590_2_0140_cropped/MD590-N70-2015.08.03-21.41.49_MD590_1_0210_lossless_alignedTo_MD590-N47-2015.09.12-05.32.06_MD590_2_0140_cropped_patch_locations.txt"
     ]
    },
    {
     "name": "stderr",
     "output_type": "stream",
     "text": [
      "Child returned 0\n",
      "2.74 seconds.\n",
      "Child returned"
     ]
    },
    {
     "name": "stdout",
     "output_type": "stream",
     "text": [
      "\n"
     ]
    },
    {
     "name": "stderr",
     "output_type": "stream",
     "text": [
      " 0\n",
      "1.21 seconds.\n",
      "save: 5.52 seconds\n"
     ]
    }
   ],
   "source": [
    "# for stack in all_stacks:\n",
    "for stack in ['MD590']:\n",
    "    \n",
    "#     if stack in ['MD585', 'MD589']:\n",
    "#         continue\n",
    "\n",
    "#     image_dir = DataManager.get_image_dir(stack, resol='lossless', version='cropped')\n",
    "#     download_from_s3(image_dir, is_dir=True)\n",
    "    # download takes 3000 sec.\n",
    "\n",
    "    print stack\n",
    "\n",
    "    section_to_filename = metadata_cache['sections_to_filenames'][stack]\n",
    "\n",
    "    image_width, image_height = metadata_cache['image_shape'][stack]\n",
    "    grid_spec = (patch_size, stride, image_width, image_height)\n",
    "\n",
    "    sample_locations = grid_parameters_to_sample_locations(grid_spec=grid_spec)\n",
    "\n",
    "    first_detect_sec, last_detect_sec = metadata_cache['section_limits'][stack]\n",
    "\n",
    "    bar = show_progress_bar(first_detect_sec, last_detect_sec)\n",
    "# \n",
    "#     for sec in range(151, 152):\n",
    "    for sec in range(first_detect_sec, last_detect_sec+1):\n",
    "#     for sec in range(143, last_detect_sec+1):\n",
    "        \n",
    "        if is_invalid(stack=stack, sec=sec):\n",
    "            continue\n",
    "            \n",
    "#         if section_to_filename[sec].split('-')[1][0] == 'F':\n",
    "#             continue\n",
    "#         if section_to_filename[sec].split('-')[1][0] == 'N':\n",
    "#             continue\n",
    "                \n",
    "        bar.value = sec\n",
    "        \n",
    "        sys.stderr.write('\\nSection %d.\\n' % sec)\n",
    "\n",
    "        # Use grids only on mask.\n",
    "        t = time.time()\n",
    "        mask_tb = DataManager.load_thumbnail_mask_v2(stack=stack, section=sec)\n",
    "        indices_roi = locate_patches_v2(grid_spec=grid_spec, mask_tb=mask_tb)\n",
    "        sys.stderr.write('locate patches: %.2f seconds\\n' % (time.time() - t))       \n",
    "        \n",
    "#         Use grids on the entire frame.\n",
    "#         indices_roi = range(len(sample_locations))\n",
    "\n",
    "        n = len(indices_roi)\n",
    "        sys.stderr.write('%d samples.\\n' % n)\n",
    "\n",
    "        sample_locations_roi = sample_locations[indices_roi]\n",
    "        \n",
    "        t = time.time()\n",
    "        img_fp = DataManager.get_image_filepath(stack=stack, section=sec, version='cropped_gray', resol='lossless')\n",
    "        download_from_s3(img_fp)\n",
    "        im = img_as_ubyte(imread(img_fp))\n",
    "        sys.stderr.write('load image: %.2f seconds\\n' % (time.time() - t)) # ~ 35s\n",
    "        \n",
    "#         t = time.time()\n",
    "#         sat = convert_to_saturation(im)\n",
    "#         del im\n",
    "#         sys.stderr.write('Convert to saturation: %.2f seconds\\n' % (time.time() - t)) # ~ 35s\n",
    "#         sat = imread(DataManager.get_image_filepath(stack=stack, section=sec, version='saturation'))\n",
    "        \n",
    "\n",
    "        t = time.time()\n",
    "\n",
    "        patches = np.array([im[y-half_size:y+half_size, x-half_size:x+half_size]\n",
    "                            for x, y in sample_locations_roi]) # n x 224 x 224\n",
    "        patches_mean_subtracted = patches - mean_img\n",
    "        patches_mean_subtracted_input = patches_mean_subtracted[:, None, :, :] # n x 1 x 224 x 224\n",
    "\n",
    "#         patches = np.array([im[y-half_size:y+half_size, x-half_size:x+half_size]\n",
    "#                             for x, y in sample_locations_roi]) # n x 224 x 224 x 1\n",
    "#         patches_mean_subtracted_input = np.rollaxis(patches, 3, 1) - mean_img # n x 3 x 224 x 224\n",
    "\n",
    "        sys.stderr.write('extract patches: %.2f seconds\\n' % (time.time() - t)) # ~ 20s / 140k patches\n",
    "\n",
    "        # Increase batch_size to 500 does not save any time.\n",
    "        batch_size = 256 \n",
    "#         batch_size = 16\n",
    "\n",
    "        # For mxnet 0.9.4, using 80000 patches in a NDArrayIter works but using 90000 patches causes error:\n",
    "        # TypeError: Invalid type '<type 'numpy.ndarray'>' for data, should be NDArray or numpy.ndarray\n",
    "\n",
    "        t1 = time.time()\n",
    "        features = np.empty((n, output_dim))\n",
    "        \n",
    "#         n_each_iter = 20000\n",
    "        n_each_iter = 80000\n",
    "        for b in range(0, n, n_each_iter):\n",
    "            data_iter = mx.io.NDArrayIter(\n",
    "                patches_mean_subtracted_input[b:b+n_each_iter], \n",
    "                np.zeros((n_each_iter, ), np.int), # labels are not important since it is just feed-forward\n",
    "                batch_size = batch_size,\n",
    "                shuffle=False)\n",
    "\n",
    "#             if b == 0:\n",
    "#                 features = model.predict(data_iter)\n",
    "#             else:\n",
    "#                 features = np.vstack([features, model.predict(data_iter)])\n",
    "            features[b:b+n_each_iter] = model.predict(data_iter)\n",
    "        sys.stderr.write('predict: %.2f seconds\\n' % (time.time() - t1)) # 220s-250s\n",
    "        # inception-bn-blue ~80s / 30k patches\n",
    "        \n",
    "#         data_iter = mx.io.NDArrayIter(\n",
    "#             patches_mean_subtracted_input, \n",
    "#             np.zeros((n, ), np.int), # labels are not important since it is just feed-forward\n",
    "#             batch_size = batch_size,\n",
    "#             shuffle=False\n",
    "#         )\n",
    "\n",
    "#         t = time.time()\n",
    "#         features = model.predict(data_iter)\n",
    "#         sys.stderr.write('predict: %.2f seconds\\n' % (time.time() - t))\n",
    "\n",
    "    # The first time when CUDA needs to load model is very slow ~350s, but later runs are faster ~90s\n",
    "        \n",
    "    # Had to modify [model]-symbol.json according to this https://github.com/dmlc/mxnet/issues/2718\n",
    "    \n",
    "    # Out of memory after about 20 sections - had to modify storage code according to https://github.com/dmlc/mxnet/issues/3055\n",
    "    #    - don't think increasing kPoolThreshold to over 4GB will be beneficial, \n",
    "    # since the computation time is similar to before limiting the pool, computation is most likely compute-bound.\n",
    "    # Issue solved by developers.\n",
    "\n",
    "        \n",
    "#         del patches_mean_subtracted_input, patches, im\n",
    "        del patches_mean_subtracted_input, patches_mean_subtracted, patches, im\n",
    "        \n",
    "        t = time.time()\n",
    "\n",
    "        features_fp = DataManager.get_dnn_features_filepath(stack=stack, model_name=model_name, \n",
    "                                                          section=sec)\n",
    "        create_parent_dir_if_not_exists(features_fp)\n",
    "        bp.pack_ndarray_file(features.astype(np.float16), features_fp) # bloscpack produces files of similar size\n",
    "        \n",
    "        upload_to_s3(features_fp, local_root=DATA_ROOTDIR)\n",
    "\n",
    "        feature_locs_fp = DataManager.get_dnn_feature_locations_filepath(stack=stack, model_name=model_name, \n",
    "                                                  section=sec)\n",
    "        np.savetxt(feature_locs_fp, np.c_[indices_roi, sample_locations_roi], fmt='%d %d %d')\n",
    "        \n",
    "        upload_to_s3(feature_locs_fp, local_root=DATA_ROOTDIR)\n",
    "\n",
    "        sys.stderr.write('save: %.2f seconds\\n' % (time.time() - t)) # ~.5s\n",
    "        \n",
    "#         del patches_mean_subtracted_input, patches, im\n",
    "#         del patches_mean_subtracted_input, patches_mean_subtracted, patches, sat"
   ]
  },
  {
   "cell_type": "code",
   "execution_count": null,
   "metadata": {},
   "outputs": [],
   "source": [
    "# transfer_data_synced(os.path.join('CSHL_patch_features', model_name, 'MD589'), \n",
    "#                     from_hostname='workstation',\n",
    "#                     to_hostname='s3',\n",
    "#                     is_dir=True)"
   ]
  },
  {
   "cell_type": "markdown",
   "metadata": {
    "collapsed": true
   },
   "source": [
    "# Sync with Gordon"
   ]
  },
  {
   "cell_type": "code",
   "execution_count": null,
   "metadata": {},
   "outputs": [],
   "source": [
    "cmd = 'cd /media/yuncong/BstemAtlasData/CSHL_patch_features/Sat16ClassFinetuned/%(stack)s/ && \\\n",
    "rsync -r . yuncong@oasis-dm.sdsc.edu:/home/yuncong/csd395/CSHL_patch_features/Sat16ClassFinetuned/%(stack)s' % \\\n",
    "{'stack': stack}\n",
    "\n",
    "os.system(cmd)"
   ]
  }
 ],
 "metadata": {
  "kernelspec": {
   "display_name": "Python 2",
   "language": "python",
   "name": "python2"
  },
  "language_info": {
   "codemirror_mode": {
    "name": "ipython",
    "version": 2
   },
   "file_extension": ".py",
   "mimetype": "text/x-python",
   "name": "python",
   "nbconvert_exporter": "python",
   "pygments_lexer": "ipython2",
   "version": "2.7.12"
  }
 },
 "nbformat": 4,
 "nbformat_minor": 1
}
