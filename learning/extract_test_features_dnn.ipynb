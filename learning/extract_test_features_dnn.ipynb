{
 "cells": [
  {
   "cell_type": "code",
   "execution_count": 28,
   "metadata": {
    "collapsed": false,
    "scrolled": true
   },
   "outputs": [
    {
     "name": "stdout",
     "output_type": "stream",
     "text": [
      "The autoreload extension is already loaded. To reload it, use:\n",
      "  %reload_ext autoreload\n"
     ]
    }
   ],
   "source": [
    "%load_ext autoreload\n",
    "%autoreload 2\n",
    "\n",
    "import numpy as np\n",
    "\n",
    "import sys\n",
    "import os\n",
    "\n",
    "sys.path.append(os.environ['REPO_DIR'] + '/utilities')\n",
    "from utilities2015 import *\n",
    "from metadata import *\n",
    "from data_manager import *\n",
    "\n",
    "import matplotlib.pyplot as plt\n",
    "%matplotlib inline\n",
    "\n",
    "import mxnet as mx\n",
    "\n",
    "from joblib import Parallel, delayed\n",
    "import time"
   ]
  },
  {
   "cell_type": "code",
   "execution_count": 2,
   "metadata": {
    "collapsed": true
   },
   "outputs": [],
   "source": [
    "patches_rootdir = '/home/yuncong/CSHL_data_patches/'\n",
    "model_dir = '/home/yuncong/mxnet_models/'"
   ]
  },
  {
   "cell_type": "code",
   "execution_count": 3,
   "metadata": {
    "collapsed": true
   },
   "outputs": [],
   "source": [
    "# mean_img = mx.nd.load(os.path.join(model_dir, 'mean_224.nd'))['mean_img'].asnumpy()\n",
    "mean_img = np.load(model_dir + '/saturation_mean_224.npy')"
   ]
  },
  {
   "cell_type": "code",
   "execution_count": 4,
   "metadata": {
    "collapsed": true
   },
   "outputs": [],
   "source": [
    "model_name = 'Sat16ClassFinetuned'\n",
    "model_iteration = 10\n",
    "\n",
    "model0 = mx.model.FeedForward.load(os.path.join(model_dir, model_name), model_iteration, ctx=mx.gpu())\n",
    "\n",
    "flatten_output = model0.symbol.get_internals()['flatten_output']\n",
    "\n",
    "model = mx.model.FeedForward(ctx=mx.gpu(), symbol=flatten_output, num_epoch=model_iteration,\n",
    "                            arg_params=model0.arg_params, aux_params=model0.aux_params,\n",
    "                            allow_extra_params=True)"
   ]
  },
  {
   "cell_type": "code",
   "execution_count": 5,
   "metadata": {
    "collapsed": false
   },
   "outputs": [],
   "source": [
    "patch_features_rootdir = create_if_not_exists('/home/yuncong/CSHL_patch_features_%(model_name)s_v2' % {'model_name': model_name})"
   ]
  },
  {
   "cell_type": "code",
   "execution_count": 8,
   "metadata": {
    "collapsed": true
   },
   "outputs": [],
   "source": [
    "patch_size = 224\n",
    "half_size = patch_size/2\n",
    "stride = 56"
   ]
  },
  {
   "cell_type": "code",
   "execution_count": 10,
   "metadata": {
    "collapsed": true
   },
   "outputs": [],
   "source": [
    "from learning_utilities import *"
   ]
  },
  {
   "cell_type": "code",
   "execution_count": 13,
   "metadata": {
    "collapsed": false,
    "scrolled": true
   },
   "outputs": [
    {
     "name": "stdout",
     "output_type": "stream",
     "text": [
      "MD585\n",
      "MD585-N16-2015.07.16-20.32.33_MD585_2_0047"
     ]
    },
    {
     "name": "stderr",
     "output_type": "stream",
     "text": [
      "locate patches: 0.02 seconds\n",
      "load saturation image: 1.82 seconds\n",
      "extract, reshape, normalize: 16.48 seconds\n",
      "predict: 70.21 seconds\n"
     ]
    },
    {
     "name": "stdout",
     "output_type": "stream",
     "text": [
      "\n",
      "MD585-IHC16-2015.08.19-13.14.51_MD585_3_0048\n",
      "MD585-N17-2015.07.16-20.35.23_MD585_1_0049\n",
      "37101 patches in ROI\n",
      "37101 roi samples\n",
      "MD585-IHC17-2015.07.16-15.32.03_MD585_1_0049"
     ]
    },
    {
     "name": "stderr",
     "output_type": "stream",
     "text": [
      "save: 1.23 seconds\n",
      "locate patches: 0.03 seconds\n",
      "load saturation image: 1.84 seconds\n",
      "extract, reshape, normalize: 14.14 seconds\n",
      "predict: 61.07 seconds\n"
     ]
    },
    {
     "name": "stdout",
     "output_type": "stream",
     "text": [
      "\n",
      "32166 patches in ROI\n",
      "32166 roi samples\n",
      "MD585-N17-2015.07.16-20.35.23_MD585_2_0050"
     ]
    },
    {
     "name": "stderr",
     "output_type": "stream",
     "text": [
      "save: 1.10 seconds\n",
      "locate patches: 0.02 seconds\n",
      "load saturation image: 1.78 seconds\n",
      "extract, reshape, normalize: 11.01 seconds\n",
      "predict: 68.03 seconds\n"
     ]
    },
    {
     "name": "stdout",
     "output_type": "stream",
     "text": [
      "\n",
      "35033 patches in ROI\n",
      "35033 roi samples\n",
      "MD585-IHC17-2015.07.16-15.32.03_MD585_2_0050"
     ]
    },
    {
     "name": "stderr",
     "output_type": "stream",
     "text": [
      "save: 1.21 seconds\n",
      "locate patches: 0.03 seconds\n",
      "load saturation image: 1.85 seconds\n",
      "extract, reshape, normalize: 7.45 seconds\n",
      "predict: 67.00 seconds\n"
     ]
    },
    {
     "name": "stdout",
     "output_type": "stream",
     "text": [
      "\n",
      "34062 patches in ROI\n",
      "34062 roi samples\n",
      "MD585-N17-2015.07.16-20.35.23_MD585_3_0051"
     ]
    },
    {
     "name": "stderr",
     "output_type": "stream",
     "text": [
      "save: 1.14 seconds\n",
      "locate patches: 0.02 seconds\n",
      "load saturation image: 1.87 seconds\n",
      "extract, reshape, normalize: 14.55 seconds\n",
      "predict: 70.40 seconds\n"
     ]
    },
    {
     "name": "stdout",
     "output_type": "stream",
     "text": [
      "\n",
      "36370 patches in ROI\n",
      "36370 roi samples\n",
      "MD585-IHC17-2015.07.16-15.32.03_MD585_3_0051"
     ]
    },
    {
     "name": "stderr",
     "output_type": "stream",
     "text": [
      "save: 1.18 seconds\n",
      "locate patches: 0.03 seconds\n",
      "load saturation image: 1.83 seconds\n",
      "extract, reshape, normalize: 8.60 seconds\n",
      "predict: 68.23 seconds\n"
     ]
    },
    {
     "name": "stdout",
     "output_type": "stream",
     "text": [
      "\n",
      "34946 patches in ROI\n",
      "34946 roi samples\n",
      "MD585-N18-2015.07.16-20.39.16_MD585_1_0052"
     ]
    },
    {
     "name": "stderr",
     "output_type": "stream",
     "text": [
      "save: 1.21 seconds\n",
      "locate patches: 0.03 seconds\n",
      "load saturation image: 1.79 seconds\n",
      "extract, reshape, normalize: 7.88 seconds\n",
      "predict: 71.89 seconds\n"
     ]
    },
    {
     "name": "stdout",
     "output_type": "stream",
     "text": [
      "\n",
      "36818 patches in ROI\n",
      "36818 roi samples\n",
      "MD585-IHC18-2015.07.16-15.35.58_MD585_1_0052"
     ]
    },
    {
     "name": "stderr",
     "output_type": "stream",
     "text": [
      "save: 1.19 seconds\n",
      "locate patches: 0.02 seconds\n",
      "load saturation image: 1.85 seconds\n",
      "extract, reshape, normalize: 11.35 seconds\n",
      "predict: 64.33 seconds\n"
     ]
    },
    {
     "name": "stdout",
     "output_type": "stream",
     "text": [
      "\n",
      "33432 patches in ROI\n",
      "33432 roi samples\n",
      "MD585-N18-2015.07.16-20.39.16_MD585_2_0053"
     ]
    },
    {
     "name": "stderr",
     "output_type": "stream",
     "text": [
      "save: 1.12 seconds\n",
      "locate patches: 0.02 seconds\n",
      "load saturation image: 1.86 seconds\n",
      "extract, reshape, normalize: 9.70 seconds\n",
      "predict: 74.03 seconds\n"
     ]
    },
    {
     "name": "stdout",
     "output_type": "stream",
     "text": [
      "\n",
      "37904 patches in ROI\n",
      "37904 roi samples\n",
      "MD585-IHC18-2015.07.16-15.35.58_MD585_2_0053"
     ]
    },
    {
     "name": "stderr",
     "output_type": "stream",
     "text": [
      "save: 1.21 seconds\n",
      "locate patches: 0.02 seconds\n",
      "load saturation image: 1.92 seconds\n",
      "extract, reshape, normalize: 7.00 seconds\n",
      "predict: 64.80 seconds\n"
     ]
    },
    {
     "name": "stdout",
     "output_type": "stream",
     "text": [
      "\n",
      "33476 patches in ROI\n",
      "33476 roi samples\n",
      "MD585-N18-2015.07.16-20.39.16_MD585_3_0054"
     ]
    },
    {
     "name": "stderr",
     "output_type": "stream",
     "text": [
      "save: 1.13 seconds\n",
      "locate patches: 0.03 seconds\n",
      "load saturation image: 1.82 seconds\n",
      "extract, reshape, normalize: 15.14 seconds\n",
      "predict: 73.80 seconds\n"
     ]
    },
    {
     "name": "stdout",
     "output_type": "stream",
     "text": [
      "\n",
      "38229 patches in ROI\n",
      "38229 roi samples\n",
      "MD585-IHC18-2015.07.16-15.35.58_MD585_3_0054"
     ]
    },
    {
     "name": "stderr",
     "output_type": "stream",
     "text": [
      "save: 1.23 seconds\n",
      "locate patches: 0.02 seconds\n",
      "load saturation image: 1.89 seconds\n",
      "extract, reshape, normalize: 8.53 seconds\n",
      "predict: 67.21 seconds\n"
     ]
    },
    {
     "name": "stdout",
     "output_type": "stream",
     "text": [
      "\n",
      "34425 patches in ROI\n",
      "34425 roi samples\n",
      "MD585-N19-2015.07.16-20.43.18_MD585_1_0055"
     ]
    },
    {
     "name": "stderr",
     "output_type": "stream",
     "text": [
      "save: 1.15 seconds\n",
      "locate patches: 0.02 seconds\n",
      "load saturation image: 1.85 seconds\n",
      "extract, reshape, normalize: 6.82 seconds\n",
      "predict: 64.63 seconds\n"
     ]
    },
    {
     "name": "stdout",
     "output_type": "stream",
     "text": [
      "\n",
      "33483 patches in ROI\n",
      "33483 roi samples\n",
      "MD585-IHC19-2015.07.16-15.39.52_MD585_1_0055"
     ]
    },
    {
     "name": "stderr",
     "output_type": "stream",
     "text": [
      "save: 1.12 seconds\n",
      "locate patches: 0.02 seconds\n",
      "load saturation image: 1.82 seconds\n",
      "extract, reshape, normalize: 13.11 seconds\n",
      "predict: 72.16 seconds\n"
     ]
    },
    {
     "name": "stdout",
     "output_type": "stream",
     "text": [
      "\n",
      "36764 patches in ROI\n",
      "36764 roi samples\n",
      "MD585-N19-2015.07.16-20.43.18_MD585_2_0056"
     ]
    },
    {
     "name": "stderr",
     "output_type": "stream",
     "text": [
      "save: 1.22 seconds\n",
      "locate patches: 0.03 seconds\n",
      "load saturation image: 1.79 seconds\n",
      "extract, reshape, normalize: 8.86 seconds\n",
      "predict: 74.92 seconds\n"
     ]
    },
    {
     "name": "stdout",
     "output_type": "stream",
     "text": [
      "\n",
      "38455 patches in ROI\n",
      "38455 roi samples\n",
      "MD585-IHC19-2015.07.16-15.39.52_MD585_2_0056"
     ]
    },
    {
     "name": "stderr",
     "output_type": "stream",
     "text": [
      "save: 1.24 seconds\n",
      "locate patches: 0.02 seconds\n",
      "load saturation image: 1.84 seconds\n",
      "extract, reshape, normalize: 8.90 seconds\n",
      "predict: 71.38 seconds\n"
     ]
    },
    {
     "name": "stdout",
     "output_type": "stream",
     "text": [
      "\n",
      "36511 patches in ROI\n",
      "36511 roi samples\n",
      "MD585-N19-2015.07.16-20.43.18_MD585_3_0057"
     ]
    },
    {
     "name": "stderr",
     "output_type": "stream",
     "text": [
      "save: 1.27 seconds\n",
      "locate patches: 0.03 seconds\n",
      "load saturation image: 1.78 seconds\n",
      "extract, reshape, normalize: 9.43 seconds\n",
      "predict: 78.95 seconds\n"
     ]
    },
    {
     "name": "stdout",
     "output_type": "stream",
     "text": [
      "\n",
      "40198 patches in ROI\n",
      "40198 roi samples\n",
      "MD585-IHC19-2015.07.16-15.39.52_MD585_3_0057"
     ]
    },
    {
     "name": "stderr",
     "output_type": "stream",
     "text": [
      "save: 1.35 seconds\n",
      "locate patches: 0.02 seconds\n",
      "load saturation image: 1.78 seconds\n",
      "extract, reshape, normalize: 8.73 seconds\n",
      "predict: 73.21 seconds\n"
     ]
    },
    {
     "name": "stdout",
     "output_type": "stream",
     "text": [
      "\n",
      "37390 patches in ROI\n",
      "37390 roi samples\n",
      "MD585-N20-2015.07.16-20.47.19_MD585_1_0058"
     ]
    },
    {
     "name": "stderr",
     "output_type": "stream",
     "text": [
      "save: 1.24 seconds\n",
      "locate patches: 0.02 seconds\n",
      "load saturation image: 1.95 seconds\n",
      "extract, reshape, normalize: 7.86 seconds\n",
      "predict: 63.62 seconds\n"
     ]
    },
    {
     "name": "stdout",
     "output_type": "stream",
     "text": [
      "\n",
      "32914 patches in ROI\n",
      "32914 roi samples\n",
      "MD585-IHC20-2015.07.16-15.43.53_MD585_1_0058"
     ]
    },
    {
     "name": "stderr",
     "output_type": "stream",
     "text": [
      "save: 1.13 seconds\n",
      "locate patches: 0.02 seconds\n",
      "load saturation image: 1.86 seconds\n",
      "extract, reshape, normalize: 9.50 seconds\n",
      "predict: 70.12 seconds\n"
     ]
    },
    {
     "name": "stdout",
     "output_type": "stream",
     "text": [
      "\n",
      "35619 patches in ROI\n",
      "35619 roi samples\n",
      "MD585-N20-2015.07.16-20.47.19_MD585_2_0059"
     ]
    },
    {
     "name": "stderr",
     "output_type": "stream",
     "text": [
      "save: 1.24 seconds\n",
      "locate patches: 0.02 seconds\n",
      "load saturation image: 1.79 seconds\n",
      "extract, reshape, normalize: 8.59 seconds\n",
      "predict: 76.71 seconds\n"
     ]
    },
    {
     "name": "stdout",
     "output_type": "stream",
     "text": [
      "\n",
      "38950 patches in ROI\n",
      "38950 roi samples\n",
      "MD585-IHC20-2015.07.16-15.43.53_MD585_2_0059"
     ]
    },
    {
     "name": "stderr",
     "output_type": "stream",
     "text": [
      "save: 1.28 seconds\n",
      "locate patches: 0.02 seconds\n",
      "load saturation image: 1.86 seconds\n",
      "extract, reshape, normalize: 8.76 seconds\n",
      "predict: 73.40 seconds\n"
     ]
    },
    {
     "name": "stdout",
     "output_type": "stream",
     "text": [
      "\n",
      "37654 patches in ROI\n",
      "37654 roi samples\n",
      "MD585-N20-2015.07.16-20.47.19_MD585_3_0060"
     ]
    },
    {
     "name": "stderr",
     "output_type": "stream",
     "text": [
      "save: 1.29 seconds\n",
      "locate patches: 0.03 seconds\n",
      "load saturation image: 1.82 seconds\n",
      "extract, reshape, normalize: 12.15 seconds\n",
      "predict: 76.33 seconds\n"
     ]
    },
    {
     "name": "stdout",
     "output_type": "stream",
     "text": [
      "\n",
      "39338 patches in ROI\n",
      "39338 roi samples\n",
      "MD585-IHC20-2015.07.16-15.43.53_MD585_3_0060"
     ]
    },
    {
     "name": "stderr",
     "output_type": "stream",
     "text": [
      "save: 1.28 seconds\n",
      "locate patches: 0.02 seconds\n",
      "load saturation image: 1.81 seconds\n",
      "extract, reshape, normalize: 11.10 seconds\n",
      "predict: 73.64 seconds\n"
     ]
    },
    {
     "name": "stdout",
     "output_type": "stream",
     "text": [
      "\n",
      "37961 patches in ROI\n",
      "37961 roi samples\n",
      "MD585-N21-2015.07.18-07.06.33_MD585_1_0061"
     ]
    },
    {
     "name": "stderr",
     "output_type": "stream",
     "text": [
      "save: 1.28 seconds\n",
      "locate patches: 0.02 seconds\n",
      "load saturation image: 1.95 seconds\n",
      "extract, reshape, normalize: 6.72 seconds\n",
      "predict: 62.29 seconds\n"
     ]
    },
    {
     "name": "stdout",
     "output_type": "stream",
     "text": [
      "\n",
      "32390 patches in ROI\n",
      "32390 roi samples\n",
      "MD585-IHC21-2015.07.16-15.47.52_MD585_1_0061"
     ]
    },
    {
     "name": "stderr",
     "output_type": "stream",
     "text": [
      "save: 1.11 seconds\n",
      "locate patches: 0.02 seconds\n",
      "load saturation image: 1.84 seconds\n",
      "extract, reshape, normalize: 8.89 seconds\n",
      "predict: 73.45 seconds\n"
     ]
    },
    {
     "name": "stdout",
     "output_type": "stream",
     "text": [
      "\n",
      "37804 patches in ROI\n",
      "37804 roi samples\n",
      "MD585-N21-2015.07.18-07.06.33_MD585_2_0062"
     ]
    },
    {
     "name": "stderr",
     "output_type": "stream",
     "text": [
      "save: 1.27 seconds\n",
      "locate patches: 0.03 seconds\n",
      "load saturation image: 1.81 seconds\n",
      "extract, reshape, normalize: 8.76 seconds\n",
      "predict: 78.43 seconds\n"
     ]
    },
    {
     "name": "stdout",
     "output_type": "stream",
     "text": [
      "\n",
      "40235 patches in ROI\n",
      "40235 roi samples\n",
      "MD585-IHC21-2015.07.16-15.47.52_MD585_2_0062"
     ]
    },
    {
     "name": "stderr",
     "output_type": "stream",
     "text": [
      "save: 1.32 seconds\n",
      "locate patches: 0.02 seconds\n",
      "load saturation image: 1.93 seconds\n",
      "extract, reshape, normalize: 8.64 seconds\n",
      "predict: 74.36 seconds\n"
     ]
    },
    {
     "name": "stdout",
     "output_type": "stream",
     "text": [
      "\n",
      "38513 patches in ROI\n",
      "38513 roi samples\n",
      "MD585-N21-2015.07.18-07.06.33_MD585_3_0063"
     ]
    },
    {
     "name": "stderr",
     "output_type": "stream",
     "text": [
      "save: 1.35 seconds\n",
      "locate patches: 0.02 seconds\n",
      "load saturation image: 1.81 seconds\n",
      "extract, reshape, normalize: 9.55 seconds\n",
      "predict: 78.76 seconds\n"
     ]
    },
    {
     "name": "stdout",
     "output_type": "stream",
     "text": [
      "\n",
      "39991 patches in ROI\n",
      "39991 roi samples\n",
      "MD585-IHC21-2015.07.16-15.47.52_MD585_3_0063"
     ]
    },
    {
     "name": "stderr",
     "output_type": "stream",
     "text": [
      "save: 1.30 seconds\n",
      "locate patches: 0.02 seconds\n",
      "load saturation image: 1.80 seconds\n",
      "extract, reshape, normalize: 8.30 seconds\n",
      "predict: 73.76 seconds\n"
     ]
    },
    {
     "name": "stdout",
     "output_type": "stream",
     "text": [
      "\n",
      "37907 patches in ROI\n",
      "37907 roi samples\n",
      "MD585-N22-2015.07.18-07.10.40_MD585_1_0064"
     ]
    },
    {
     "name": "stderr",
     "output_type": "stream",
     "text": [
      "save: 1.29 seconds\n",
      "locate patches: 0.02 seconds\n",
      "load saturation image: 1.88 seconds\n",
      "extract, reshape, normalize: 11.65 seconds\n",
      "predict: 72.91 seconds\n"
     ]
    },
    {
     "name": "stdout",
     "output_type": "stream",
     "text": [
      "\n",
      "37804 patches in ROI\n",
      "37804 roi samples\n",
      "MD585-IHC22-2015.07.16-15.51.54_MD585_1_0064"
     ]
    },
    {
     "name": "stderr",
     "output_type": "stream",
     "text": [
      "save: 1.35 seconds\n",
      "locate patches: 0.03 seconds\n",
      "load saturation image: 1.86 seconds\n",
      "extract, reshape, normalize: 12.81 seconds\n",
      "predict: 72.75 seconds\n"
     ]
    },
    {
     "name": "stdout",
     "output_type": "stream",
     "text": [
      "\n",
      "37393 patches in ROI\n",
      "37393 roi samples\n",
      "MD585-N22-2015.07.18-07.10.40_MD585_2_0065"
     ]
    },
    {
     "name": "stderr",
     "output_type": "stream",
     "text": [
      "save: 1.31 seconds\n",
      "locate patches: 0.02 seconds\n",
      "load saturation image: 1.86 seconds\n",
      "extract, reshape, normalize: 8.94 seconds\n",
      "predict: 75.79 seconds\n"
     ]
    },
    {
     "name": "stdout",
     "output_type": "stream",
     "text": [
      "\n",
      "38875 patches in ROI\n",
      "38875 roi samples\n",
      "MD585-N22-2015.07.18-07.10.40_MD585_3_0066"
     ]
    },
    {
     "name": "stderr",
     "output_type": "stream",
     "text": [
      "save: 1.31 seconds\n",
      "locate patches: 0.02 seconds\n",
      "load saturation image: 1.90 seconds\n",
      "extract, reshape, normalize: 9.30 seconds\n",
      "predict: 78.69 seconds\n"
     ]
    },
    {
     "name": "stdout",
     "output_type": "stream",
     "text": [
      "\n",
      "40587 patches in ROI\n",
      "40587 roi samples\n",
      "MD585-IHC22-2015.07.16-15.51.54_MD585_3_0066"
     ]
    },
    {
     "name": "stderr",
     "output_type": "stream",
     "text": [
      "save: 1.34 seconds\n",
      "locate patches: 0.02 seconds\n",
      "load saturation image: 1.88 seconds\n",
      "extract, reshape, normalize: 10.25 seconds\n",
      "predict: 80.98 seconds\n"
     ]
    },
    {
     "name": "stdout",
     "output_type": "stream",
     "text": [
      "\n",
      "41690 patches in ROI\n",
      "41690 roi samples\n",
      "MD585-N23-2015.07.16-20.51.24_MD585_1_0067"
     ]
    },
    {
     "name": "stderr",
     "output_type": "stream",
     "text": [
      "save: 1.43 seconds\n",
      "locate patches: 0.02 seconds\n",
      "load saturation image: 1.88 seconds\n",
      "extract, reshape, normalize: 7.79 seconds\n",
      "predict: 72.97 seconds\n"
     ]
    },
    {
     "name": "stdout",
     "output_type": "stream",
     "text": [
      "\n",
      "37589 patches in ROI\n",
      "37589 roi samples\n",
      "MD585-IHC23-2015.08.19-13.18.49_MD585_1_0067"
     ]
    },
    {
     "name": "stderr",
     "output_type": "stream",
     "text": [
      "save: 1.33 seconds\n",
      "locate patches: 0.02 seconds\n",
      "load saturation image: 1.89 seconds\n",
      "extract, reshape, normalize: 10.03 seconds\n",
      "predict: 83.67 seconds\n"
     ]
    },
    {
     "name": "stdout",
     "output_type": "stream",
     "text": [
      "\n",
      "42876 patches in ROI\n",
      "42876 roi samples\n",
      "MD585-N23-2015.07.16-20.51.24_MD585_2_0068"
     ]
    },
    {
     "name": "stderr",
     "output_type": "stream",
     "text": [
      "save: 1.46 seconds\n",
      "locate patches: 0.02 seconds\n",
      "load saturation image: 1.94 seconds\n",
      "extract, reshape, normalize: 9.60 seconds\n",
      "predict: 74.99 seconds\n"
     ]
    },
    {
     "name": "stdout",
     "output_type": "stream",
     "text": [
      "\n",
      "38652 patches in ROI\n",
      "38652 roi samples\n",
      "MD585-IHC23-2015.08.19-13.18.49_MD585_2_0068"
     ]
    },
    {
     "name": "stderr",
     "output_type": "stream",
     "text": [
      "save: 1.31 seconds\n",
      "locate patches: 0.02 seconds\n",
      "load saturation image: 1.90 seconds\n",
      "extract, reshape, normalize: 8.03 seconds\n",
      "predict: 77.91 seconds\n"
     ]
    },
    {
     "name": "stdout",
     "output_type": "stream",
     "text": [
      "\n",
      "38111 patches in ROI\n",
      "38111 roi samples\n",
      "MD585-N23-2015.07.16-20.51.24_MD585_3_0069"
     ]
    },
    {
     "name": "stderr",
     "output_type": "stream",
     "text": [
      "save: 1.35 seconds\n",
      "locate patches: 0.02 seconds\n",
      "load saturation image: 1.86 seconds\n",
      "extract, reshape, normalize: 8.86 seconds\n",
      "predict: 76.87 seconds\n"
     ]
    },
    {
     "name": "stdout",
     "output_type": "stream",
     "text": [
      "\n",
      "39454 patches in ROI\n",
      "39454 roi samples\n",
      "MD585-IHC23-2015.08.19-13.18.49_MD585_3_0069"
     ]
    },
    {
     "name": "stderr",
     "output_type": "stream",
     "text": [
      "save: 1.39 seconds\n",
      "locate patches: 0.02 seconds\n",
      "load saturation image: 1.85 seconds\n",
      "extract, reshape, normalize: 9.51 seconds\n",
      "predict: 76.64 seconds\n"
     ]
    },
    {
     "name": "stdout",
     "output_type": "stream",
     "text": [
      "\n",
      "39266 patches in ROI\n",
      "39266 roi samples\n",
      "MD585-N24-2015.08.19-15.29.12_MD585_1_0070"
     ]
    },
    {
     "name": "stderr",
     "output_type": "stream",
     "text": [
      "save: 1.34 seconds\n",
      "locate patches: 0.02 seconds\n",
      "load saturation image: 1.88 seconds\n",
      "extract, reshape, normalize: 9.80 seconds\n",
      "predict: 84.18 seconds\n"
     ]
    },
    {
     "name": "stdout",
     "output_type": "stream",
     "text": [
      "\n",
      "42915 patches in ROI\n",
      "42915 roi samples\n",
      "MD585-IHC24-2015.07.18-07.14.51_MD585_1_0070"
     ]
    },
    {
     "name": "stderr",
     "output_type": "stream",
     "text": [
      "save: 1.41 seconds\n",
      "locate patches: 0.02 seconds\n",
      "load saturation image: 1.94 seconds\n",
      "extract, reshape, normalize: 8.80 seconds\n",
      "predict: 71.12 seconds\n"
     ]
    },
    {
     "name": "stdout",
     "output_type": "stream",
     "text": [
      "\n",
      "36845 patches in ROI\n",
      "36845 roi samples\n",
      "MD585-N24-2015.08.19-15.29.12_MD585_2_0071"
     ]
    },
    {
     "name": "stderr",
     "output_type": "stream",
     "text": [
      "save: 1.26 seconds\n",
      "locate patches: 0.02 seconds\n",
      "load saturation image: 1.78 seconds\n",
      "extract, reshape, normalize: 13.50 seconds\n",
      "predict: 96.17 seconds\n"
     ]
    },
    {
     "name": "stdout",
     "output_type": "stream",
     "text": [
      "\n",
      "47983 patches in ROI\n",
      "47983 roi samples\n",
      "MD585-IHC24-2015.07.18-07.14.51_MD585_2_0071"
     ]
    },
    {
     "name": "stderr",
     "output_type": "stream",
     "text": [
      "save: 1.50 seconds\n",
      "locate patches: 0.02 seconds\n",
      "load saturation image: 1.95 seconds\n",
      "extract, reshape, normalize: 9.78 seconds\n",
      "predict: 79.82 seconds\n"
     ]
    },
    {
     "name": "stdout",
     "output_type": "stream",
     "text": [
      "\n",
      "41106 patches in ROI\n",
      "41106 roi samples\n",
      "MD585-N24-2015.08.19-15.29.12_MD585_3_0072"
     ]
    },
    {
     "name": "stderr",
     "output_type": "stream",
     "text": [
      "save: 1.38 seconds\n",
      "locate patches: 0.03 seconds\n",
      "load saturation image: 1.92 seconds\n",
      "extract, reshape, normalize: 11.22 seconds\n",
      "predict: 95.21 seconds\n"
     ]
    },
    {
     "name": "stdout",
     "output_type": "stream",
     "text": [
      "\n",
      "47201 patches in ROI\n",
      "47201 roi samples\n",
      "MD585-IHC24-2015.07.18-07.14.51_MD585_3_0072\n",
      "42225"
     ]
    },
    {
     "name": "stderr",
     "output_type": "stream",
     "text": [
      "save: 1.48 seconds\n",
      "locate patches: 0.09 seconds\n",
      "load saturation image: 1.87 seconds\n",
      "extract, reshape, normalize: 10.65 seconds\n",
      "predict: 82.13 seconds\n",
      "save: 1.43 seconds\n"
     ]
    },
    {
     "name": "stdout",
     "output_type": "stream",
     "text": [
      " patches in ROI\n",
      "42225 roi samples\n",
      "MD585-N25-2015.08.19-15.33.31_MD585_1_0073"
     ]
    },
    {
     "name": "stderr",
     "output_type": "stream",
     "text": [
      "locate patches: 0.03 seconds\n",
      "load saturation image: 1.99 seconds\n",
      "extract, reshape, normalize: 10.17 seconds\n",
      "predict: 89.03 seconds\n"
     ]
    },
    {
     "name": "stdout",
     "output_type": "stream",
     "text": [
      "\n",
      "44513 patches in ROI\n",
      "44513 roi samples\n",
      "MD585-IHC25-2015.07.18-07.19.12_MD585_1_0073"
     ]
    },
    {
     "name": "stderr",
     "output_type": "stream",
     "text": [
      "save: 1.60 seconds\n",
      "locate patches: 0.02 seconds\n",
      "load saturation image: 1.88 seconds\n",
      "extract, reshape, normalize: 10.05 seconds\n",
      "predict: 73.70 seconds\n"
     ]
    },
    {
     "name": "stdout",
     "output_type": "stream",
     "text": [
      "\n",
      "37905 patches in ROI\n",
      "37905 roi samples\n",
      "MD585-N25-2015.08.19-15.33.31_MD585_2_0074"
     ]
    },
    {
     "name": "stderr",
     "output_type": "stream",
     "text": [
      "save: 1.36 seconds\n",
      "locate patches: 0.02 seconds\n",
      "load saturation image: 1.83 seconds\n",
      "extract, reshape, normalize: 11.01 seconds\n",
      "predict: 92.46 seconds\n"
     ]
    },
    {
     "name": "stdout",
     "output_type": "stream",
     "text": [
      "\n",
      "46096 patches in ROI\n",
      "46096 roi samples\n",
      "MD585-IHC25-2015.07.18-07.19.12_MD585_2_0074\n",
      "41709"
     ]
    },
    {
     "name": "stderr",
     "output_type": "stream",
     "text": [
      "save: 1.48 seconds\n",
      "locate patches: 0.09 seconds\n",
      "load saturation image: 1.87 seconds\n",
      "extract, reshape, normalize: 11.17 seconds\n",
      "predict: 80.94 seconds\n",
      "save: 1.41 seconds\n"
     ]
    },
    {
     "name": "stdout",
     "output_type": "stream",
     "text": [
      " patches in ROI\n",
      "41709 roi samples\n",
      "MD585-N25-2015.08.19-15.33.31_MD585_3_0075"
     ]
    },
    {
     "name": "stderr",
     "output_type": "stream",
     "text": [
      "locate patches: 0.03 seconds\n",
      "load saturation image: 1.80 seconds\n",
      "extract, reshape, normalize: 11.32 seconds\n",
      "predict: 93.89 seconds\n"
     ]
    },
    {
     "name": "stdout",
     "output_type": "stream",
     "text": [
      "\n",
      "46507 patches in ROI\n",
      "46507 roi samples\n",
      "MD585-IHC25-2015.07.18-07.19.12_MD585_3_0075"
     ]
    },
    {
     "name": "stderr",
     "output_type": "stream",
     "text": [
      "save: 1.58 seconds\n",
      "locate patches: 0.02 seconds\n",
      "load saturation image: 1.86 seconds\n",
      "extract, reshape, normalize: 16.10 seconds\n",
      "predict: 82.77 seconds\n"
     ]
    },
    {
     "name": "stdout",
     "output_type": "stream",
     "text": [
      "\n",
      "42513 patches in ROI\n",
      "42513 roi samples\n",
      "MD585-N26-2015.08.19-15.37.53_MD585_1_0076"
     ]
    },
    {
     "name": "stderr",
     "output_type": "stream",
     "text": [
      "save: 1.43 seconds\n",
      "locate patches: 0.02 seconds\n",
      "load saturation image: 1.92 seconds\n",
      "extract, reshape, normalize: 10.69 seconds\n",
      "predict: 92.23 seconds\n"
     ]
    },
    {
     "name": "stdout",
     "output_type": "stream",
     "text": [
      "\n",
      "45773 patches in ROI\n",
      "45773 roi samples\n",
      "MD585-IHC26-2015.08.19-13.23.15_MD585_1_0076"
     ]
    },
    {
     "name": "stderr",
     "output_type": "stream",
     "text": [
      "save: 1.47 seconds\n",
      "locate patches: 0.03 seconds\n",
      "load saturation image: 1.83 seconds\n",
      "extract, reshape, normalize: 17.72 seconds\n",
      "predict: 84.95 seconds\n"
     ]
    },
    {
     "name": "stdout",
     "output_type": "stream",
     "text": [
      "\n",
      "43708 patches in ROI\n",
      "43708 roi samples\n",
      "MD585-N26-2015.08.19-15.37.53_MD585_2_0077"
     ]
    },
    {
     "name": "stderr",
     "output_type": "stream",
     "text": [
      "save: 1.42 seconds\n",
      "locate patches: 0.03 seconds\n",
      "load saturation image: 1.96 seconds\n",
      "extract, reshape, normalize: 10.56 seconds\n",
      "predict: 83.79 seconds\n"
     ]
    },
    {
     "name": "stdout",
     "output_type": "stream",
     "text": [
      "\n",
      "42325 patches in ROI\n",
      "42325 roi samples\n",
      "MD585-IHC26-2015.08.19-13.23.15_MD585_2_0077"
     ]
    },
    {
     "name": "stderr",
     "output_type": "stream",
     "text": [
      "save: 1.42 seconds\n",
      "locate patches: 0.02 seconds\n",
      "load saturation image: 1.88 seconds\n",
      "extract, reshape, normalize: 15.15 seconds\n",
      "predict: 90.40 seconds\n"
     ]
    },
    {
     "name": "stdout",
     "output_type": "stream",
     "text": [
      "\n",
      "46289 patches in ROI\n",
      "46289 roi samples\n",
      "MD585-N26-2015.08.19-15.37.53_MD585_3_0078"
     ]
    },
    {
     "name": "stderr",
     "output_type": "stream",
     "text": [
      "save: 1.54 seconds\n",
      "locate patches: 0.02 seconds\n",
      "load saturation image: 1.84 seconds\n",
      "extract, reshape, normalize: 15.66 seconds\n",
      "predict: 93.72 seconds\n"
     ]
    },
    {
     "name": "stdout",
     "output_type": "stream",
     "text": [
      "\n",
      "47047 patches in ROI\n",
      "47047 roi samples\n",
      "MD585-IHC26-2015.08.19-13.23.15_MD585_3_0078"
     ]
    },
    {
     "name": "stderr",
     "output_type": "stream",
     "text": [
      "save: 1.53 seconds\n",
      "locate patches: 0.02 seconds\n",
      "load saturation image: 1.98 seconds\n",
      "extract, reshape, normalize: 18.05 seconds\n",
      "predict: 91.60 seconds\n"
     ]
    },
    {
     "name": "stdout",
     "output_type": "stream",
     "text": [
      "\n",
      "46536 patches in ROI\n",
      "46536 roi samples\n",
      "MD585-N27-2015.08.19-15.42.30_MD585_1_0079"
     ]
    },
    {
     "name": "stderr",
     "output_type": "stream",
     "text": [
      "save: 1.52 seconds\n",
      "locate patches: 0.02 seconds\n"
     ]
    },
    {
     "name": "stdout",
     "output_type": "stream",
     "text": [
      "\n",
      "41863 patches in ROI\n",
      "41863"
     ]
    },
    {
     "name": "stderr",
     "output_type": "stream",
     "text": [
      "load saturation image: 1.95 seconds\n",
      "extract, reshape, normalize: 9.71 seconds\n",
      "predict: 82.84 seconds\n",
      "save: 1.41 seconds\n"
     ]
    },
    {
     "name": "stdout",
     "output_type": "stream",
     "text": [
      " roi samples\n",
      "MD585-IHC27-2015.08.19-13.28.05_MD585_1_0079"
     ]
    },
    {
     "name": "stderr",
     "output_type": "stream",
     "text": [
      "locate patches: 0.02 seconds\n",
      "load saturation image: 1.94 seconds\n",
      "extract, reshape, normalize: 11.13 seconds\n",
      "predict: 91.54 seconds\n"
     ]
    },
    {
     "name": "stdout",
     "output_type": "stream",
     "text": [
      "\n",
      "46372 patches in ROI\n",
      "46372 roi samples\n",
      "MD585-N27-2015.08.19-15.42.30_MD585_2_0080"
     ]
    },
    {
     "name": "stderr",
     "output_type": "stream",
     "text": [
      "save: 1.60 seconds\n",
      "locate patches: 0.02 seconds\n",
      "load saturation image: 1.86 seconds\n",
      "extract, reshape, normalize: 11.99 seconds\n",
      "predict: 93.74 seconds\n"
     ]
    },
    {
     "name": "stdout",
     "output_type": "stream",
     "text": [
      "\n",
      "47217 patches in ROI\n",
      "47217 roi samples\n",
      "MD585-IHC27-2015.08.19-13.28.05_MD585_2_0080"
     ]
    },
    {
     "name": "stderr",
     "output_type": "stream",
     "text": [
      "save: 1.54 seconds\n",
      "locate patches: 0.02 seconds\n",
      "load saturation image: 2.02 seconds\n",
      "extract, reshape, normalize: 11.12 seconds\n",
      "predict: 91.05 seconds\n"
     ]
    },
    {
     "name": "stdout",
     "output_type": "stream",
     "text": [
      "\n",
      "45922 patches in ROI\n",
      "45922 roi samples\n",
      "MD585-N27-2015.08.19-15.42.30_MD585_3_0081"
     ]
    },
    {
     "name": "stderr",
     "output_type": "stream",
     "text": [
      "save: 1.51 seconds\n",
      "locate patches: 0.03 seconds\n",
      "load saturation image: 1.90 seconds\n",
      "extract, reshape, normalize: 11.39 seconds\n",
      "predict: 92.06 seconds\n"
     ]
    },
    {
     "name": "stdout",
     "output_type": "stream",
     "text": [
      "\n",
      "46426 patches in ROI\n",
      "46426 roi samples\n",
      "MD585-IHC27-2015.08.19-13.28.05_MD585_3_0081"
     ]
    },
    {
     "name": "stderr",
     "output_type": "stream",
     "text": [
      "save: 1.59 seconds\n",
      "locate patches: 0.02 seconds\n",
      "load saturation image: 1.93 seconds\n",
      "extract, reshape, normalize: 11.77 seconds\n",
      "predict: 94.23 seconds\n"
     ]
    },
    {
     "name": "stdout",
     "output_type": "stream",
     "text": [
      "\n",
      "47547 patches in ROI\n",
      "47547 roi samples\n",
      "MD585-N28-2015.08.19-15.47.09_MD585_1_0082"
     ]
    },
    {
     "name": "stderr",
     "output_type": "stream",
     "text": [
      "save: 1.61 seconds\n",
      "locate patches: 0.02 seconds\n",
      "load saturation image: 1.74 seconds\n",
      "extract, reshape, normalize: 12.74 seconds\n",
      "predict: 99.46 seconds\n"
     ]
    },
    {
     "name": "stdout",
     "output_type": "stream",
     "text": [
      "\n",
      "49806 patches in ROI\n",
      "49806 roi samples\n",
      "MD585-IHC28-2015.08.19-13.33.04_MD585_1_0082\n",
      "43460"
     ]
    },
    {
     "name": "stderr",
     "output_type": "stream",
     "text": [
      "save: 1.64 seconds\n",
      "locate patches: 0.03 seconds\n",
      "load saturation image: 1.87 seconds\n",
      "extract, reshape, normalize: 10.55 seconds\n",
      "predict: 85.43 seconds\n",
      "save: 1.45 seconds\n"
     ]
    },
    {
     "name": "stdout",
     "output_type": "stream",
     "text": [
      " patches in ROI\n",
      "43460 roi samples\n",
      "MD585-N28-2015.08.19-15.47.09_MD585_2_0083"
     ]
    },
    {
     "name": "stderr",
     "output_type": "stream",
     "text": [
      "locate patches: 0.02 seconds\n",
      "load saturation image: 1.95 seconds\n",
      "extract, reshape, normalize: 10.67 seconds\n",
      "predict: 87.92 seconds\n"
     ]
    },
    {
     "name": "stdout",
     "output_type": "stream",
     "text": [
      "\n",
      "44387 patches in ROI\n",
      "44387 roi samples\n",
      "MD585-IHC28-2015.08.19-13.33.04_MD585_2_0083"
     ]
    },
    {
     "name": "stderr",
     "output_type": "stream",
     "text": [
      "save: 1.47 seconds\n",
      "locate patches: 0.02 seconds\n",
      "load saturation image: 1.93 seconds\n",
      "extract, reshape, normalize: 10.70 seconds\n",
      "predict: 85.63 seconds\n"
     ]
    },
    {
     "name": "stdout",
     "output_type": "stream",
     "text": [
      "\n",
      "43699 patches in ROI\n",
      "43699 roi samples\n",
      "MD585-N28-2015.08.19-15.47.09_MD585_3_0084"
     ]
    },
    {
     "name": "stderr",
     "output_type": "stream",
     "text": [
      "save: 1.49 seconds\n",
      "locate patches: 0.02 seconds\n",
      "load saturation image: 1.99 seconds\n",
      "extract, reshape, normalize: 14.82 seconds\n",
      "predict: 87.90 seconds\n"
     ]
    },
    {
     "name": "stdout",
     "output_type": "stream",
     "text": [
      "\n",
      "44421 patches in ROI\n",
      "44421 roi samples\n",
      "MD585-IHC28-2015.08.19-13.33.04_MD585_3_0084"
     ]
    },
    {
     "name": "stderr",
     "output_type": "stream",
     "text": [
      "save: 1.47 seconds\n",
      "locate patches: 0.02 seconds\n",
      "load saturation image: 2.03 seconds\n",
      "extract, reshape, normalize: 19.11 seconds\n",
      "predict: 85.52 seconds\n"
     ]
    },
    {
     "name": "stdout",
     "output_type": "stream",
     "text": [
      "\n",
      "44029 patches in ROI\n",
      "44029 roi samples\n",
      "MD585-N29-2015.08.19-15.51.55_MD585_1_0085"
     ]
    },
    {
     "name": "stderr",
     "output_type": "stream",
     "text": [
      "save: 1.63 seconds\n",
      "locate patches: 0.03 seconds\n",
      "load saturation image: 1.85 seconds\n",
      "extract, reshape, normalize: 13.86 seconds\n",
      "predict: 92.02 seconds\n"
     ]
    },
    {
     "name": "stdout",
     "output_type": "stream",
     "text": [
      "\n",
      "46201 patches in ROI\n",
      "46201 roi samples\n",
      "MD585-IHC29-2015.08.19-13.38.04_MD585_1_0085"
     ]
    },
    {
     "name": "stderr",
     "output_type": "stream",
     "text": [
      "save: 1.61 seconds\n",
      "locate patches: 0.02 seconds\n",
      "load saturation image: 1.89 seconds\n",
      "extract, reshape, normalize: 19.32 seconds\n",
      "predict: 92.75 seconds\n"
     ]
    },
    {
     "name": "stdout",
     "output_type": "stream",
     "text": [
      "\n",
      "47032 patches in ROI\n",
      "47032 roi samples\n",
      "MD585-N29-2015.07.30-15.11.04_MD585_2_0086"
     ]
    },
    {
     "name": "stderr",
     "output_type": "stream",
     "text": [
      "save: 1.51 seconds\n",
      "locate patches: 0.02 seconds\n",
      "load saturation image: 1.99 seconds\n",
      "extract, reshape, normalize: 10.36 seconds\n",
      "predict: 70.52 seconds\n"
     ]
    },
    {
     "name": "stdout",
     "output_type": "stream",
     "text": [
      "\n",
      "36355 patches in ROI\n",
      "36355 roi samples\n",
      "MD585-IHC29-2015.08.19-13.38.04_MD585_2_0086"
     ]
    },
    {
     "name": "stderr",
     "output_type": "stream",
     "text": [
      "save: 1.26 seconds\n",
      "locate patches: 0.03 seconds\n",
      "load saturation image: 2.08 seconds\n",
      "extract, reshape, normalize: 14.56 seconds\n",
      "predict: 85.88 seconds\n"
     ]
    },
    {
     "name": "stdout",
     "output_type": "stream",
     "text": [
      "\n",
      "43772 patches in ROI\n",
      "43772 roi samples\n",
      "MD585-N29-2015.08.19-15.51.55_MD585_3_0087"
     ]
    },
    {
     "name": "stderr",
     "output_type": "stream",
     "text": [
      "save: 1.62 seconds\n",
      "locate patches: 0.02 seconds\n",
      "load saturation image: 1.90 seconds\n",
      "extract, reshape, normalize: 15.12 seconds\n",
      "predict: 87.54 seconds\n"
     ]
    },
    {
     "name": "stdout",
     "output_type": "stream",
     "text": [
      "\n",
      "44976 patches in ROI\n",
      "44976 roi samples\n",
      "MD585-IHC29-2015.08.19-13.38.04_MD585_3_0087"
     ]
    },
    {
     "name": "stderr",
     "output_type": "stream",
     "text": [
      "save: 1.58 seconds\n",
      "locate patches: 0.03 seconds\n",
      "load saturation image: 2.05 seconds\n",
      "extract, reshape, normalize: 13.37 seconds\n",
      "predict: 87.06 seconds\n"
     ]
    },
    {
     "name": "stdout",
     "output_type": "stream",
     "text": [
      "\n",
      "43691 patches in ROI\n",
      "43691 roi samples\n",
      "MD585-N30-2015.08.19-15.56.52_MD585_1_0088"
     ]
    },
    {
     "name": "stderr",
     "output_type": "stream",
     "text": [
      "save: 1.62 seconds\n",
      "locate patches: 0.02 seconds\n",
      "load saturation image: 1.90 seconds\n",
      "extract, reshape, normalize: 14.01 seconds\n",
      "predict: 91.75 seconds\n"
     ]
    },
    {
     "name": "stdout",
     "output_type": "stream",
     "text": [
      "\n",
      "46771 patches in ROI\n",
      "46771 roi samples\n",
      "MD585-IHC30-2015.08.19-13.43.06_MD585_1_0088"
     ]
    },
    {
     "name": "stderr",
     "output_type": "stream",
     "text": [
      "save: 1.53 seconds\n",
      "locate patches: 0.02 seconds\n",
      "load saturation image: 2.03 seconds\n",
      "extract, reshape, normalize: 11.23 seconds\n",
      "predict: 87.04 seconds\n"
     ]
    },
    {
     "name": "stdout",
     "output_type": "stream",
     "text": [
      "\n",
      "43697 patches in ROI\n",
      "43697 roi samples\n",
      "MD585-N30-2015.08.19-15.56.52_MD585_2_0089"
     ]
    },
    {
     "name": "stderr",
     "output_type": "stream",
     "text": [
      "save: 1.56 seconds\n",
      "locate patches: 0.02 seconds\n",
      "load saturation image: 2.06 seconds\n",
      "extract, reshape, normalize: 19.83 seconds\n",
      "predict: 89.24 seconds\n"
     ]
    },
    {
     "name": "stdout",
     "output_type": "stream",
     "text": [
      "\n",
      "45263 patches in ROI\n",
      "45263 roi samples\n",
      "MD585-IHC30-2015.08.19-13.43.06_MD585_2_0089"
     ]
    },
    {
     "name": "stderr",
     "output_type": "stream",
     "text": [
      "save: 1.67 seconds\n",
      "locate patches: 0.02 seconds\n",
      "load saturation image: 1.97 seconds\n",
      "extract, reshape, normalize: 16.29 seconds\n",
      "predict: 87.32 seconds\n"
     ]
    },
    {
     "name": "stdout",
     "output_type": "stream",
     "text": [
      "\n",
      "44168 patches in ROI\n",
      "44168 roi samples\n",
      "MD585-N30-2015.08.19-15.56.52_MD585_3_0090"
     ]
    },
    {
     "name": "stderr",
     "output_type": "stream",
     "text": [
      "save: 1.52 seconds\n",
      "locate patches: 0.03 seconds\n",
      "load saturation image: 1.95 seconds\n",
      "extract, reshape, normalize: 16.42 seconds\n",
      "predict: 87.85 seconds\n"
     ]
    },
    {
     "name": "stdout",
     "output_type": "stream",
     "text": [
      "\n",
      "44868 patches in ROI\n",
      "44868 roi samples\n",
      "MD585-IHC30-2015.08.19-13.43.06_MD585_3_0090"
     ]
    },
    {
     "name": "stderr",
     "output_type": "stream",
     "text": [
      "save: 1.59 seconds\n",
      "locate patches: 0.02 seconds\n",
      "load saturation image: 1.93 seconds\n",
      "extract, reshape, normalize: 14.94 seconds\n",
      "predict: 88.47 seconds\n"
     ]
    },
    {
     "name": "stdout",
     "output_type": "stream",
     "text": [
      "\n",
      "44762 patches in ROI\n",
      "44762 roi samples\n",
      "MD585-N31-2015.08.19-16.01.47_MD585_1_0091"
     ]
    },
    {
     "name": "stderr",
     "output_type": "stream",
     "text": [
      "save: 1.65 seconds\n",
      "locate patches: 0.03 seconds\n",
      "load saturation image: 1.90 seconds\n",
      "extract, reshape, normalize: 17.63 seconds\n",
      "predict: 87.31 seconds\n"
     ]
    },
    {
     "name": "stdout",
     "output_type": "stream",
     "text": [
      "\n",
      "44493 patches in ROI\n",
      "44493 roi samples\n",
      "MD585-IHC31-2015.08.19-13.48.12_MD585_1_0091"
     ]
    },
    {
     "name": "stderr",
     "output_type": "stream",
     "text": [
      "save: 1.60 seconds\n",
      "locate patches: 0.02 seconds\n",
      "load saturation image: 1.85 seconds\n",
      "extract, reshape, normalize: 16.09 seconds\n",
      "predict: 90.63 seconds\n"
     ]
    },
    {
     "name": "stdout",
     "output_type": "stream",
     "text": [
      "\n",
      "45812 patches in ROI\n",
      "45812 roi samples\n",
      "MD585-N31-2015.08.19-16.01.47_MD585_2_0092"
     ]
    },
    {
     "name": "stderr",
     "output_type": "stream",
     "text": [
      "save: 1.66 seconds\n",
      "locate patches: 0.02 seconds\n",
      "load saturation image: 1.96 seconds\n",
      "extract, reshape, normalize: 11.14 seconds\n",
      "predict: 85.28 seconds\n"
     ]
    },
    {
     "name": "stdout",
     "output_type": "stream",
     "text": [
      "\n",
      "43421 patches in ROI\n",
      "43421 roi samples\n",
      "MD585-IHC31-2015.08.19-13.48.12_MD585_2_0092"
     ]
    },
    {
     "name": "stderr",
     "output_type": "stream",
     "text": [
      "save: 1.49 seconds\n",
      "locate patches: 0.02 seconds\n",
      "load saturation image: 1.97 seconds\n",
      "extract, reshape, normalize: 15.19 seconds\n",
      "predict: 85.40 seconds\n"
     ]
    },
    {
     "name": "stdout",
     "output_type": "stream",
     "text": [
      "\n",
      "43268 patches in ROI\n",
      "43268 roi samples\n",
      "MD585-N31-2015.08.19-16.01.47_MD585_3_0093\n",
      "43349"
     ]
    },
    {
     "name": "stderr",
     "output_type": "stream",
     "text": [
      "save: 1.57 seconds\n",
      "locate patches: 0.02 seconds\n",
      "load saturation image: 2.00 seconds\n",
      "extract, reshape, normalize: 18.94 seconds\n",
      "predict: 84.56 seconds\n",
      "save: 1.51 seconds\n"
     ]
    },
    {
     "name": "stdout",
     "output_type": "stream",
     "text": [
      " patches in ROI\n",
      "43349 roi samples\n",
      "MD585-IHC31-2015.08.19-13.48.12_MD585_3_0093"
     ]
    },
    {
     "name": "stderr",
     "output_type": "stream",
     "text": [
      "locate patches: 0.03 seconds\n",
      "load saturation image: 1.94 seconds\n",
      "extract, reshape, normalize: 15.26 seconds\n",
      "predict: 85.48 seconds\n"
     ]
    },
    {
     "name": "stdout",
     "output_type": "stream",
     "text": [
      "\n",
      "43452 patches in ROI\n",
      "43452 roi samples\n",
      "MD585-N32-2015.08.19-16.07.10_MD585_1_0094"
     ]
    },
    {
     "name": "stderr",
     "output_type": "stream",
     "text": [
      "save: 1.49 seconds\n",
      "locate patches: 0.03 seconds\n",
      "load saturation image: 2.18 seconds\n",
      "extract, reshape, normalize: 17.49 seconds\n",
      "predict: 84.93 seconds\n"
     ]
    },
    {
     "name": "stdout",
     "output_type": "stream",
     "text": [
      "\n",
      "43492 patches in ROI\n",
      "43492 roi samples\n",
      "MD585-IHC32-2015.08.19-13.53.29_MD585_1_0094"
     ]
    },
    {
     "name": "stderr",
     "output_type": "stream",
     "text": [
      "save: 1.54 seconds\n",
      "locate patches: 0.02 seconds\n",
      "load saturation image: 2.02 seconds\n",
      "extract, reshape, normalize: 14.60 seconds\n",
      "predict: 96.09 seconds\n"
     ]
    },
    {
     "name": "stdout",
     "output_type": "stream",
     "text": [
      "\n",
      "48138 patches in ROI\n",
      "48138 roi samples\n",
      "MD585-N32-2015.08.19-16.07.10_MD585_2_0095"
     ]
    },
    {
     "name": "stderr",
     "output_type": "stream",
     "text": [
      "save: 1.59 seconds\n",
      "locate patches: 0.02 seconds\n",
      "load saturation image: 2.14 seconds\n",
      "extract, reshape, normalize: 18.73 seconds\n",
      "predict: 84.64 seconds\n"
     ]
    },
    {
     "name": "stdout",
     "output_type": "stream",
     "text": [
      "\n",
      "43235 patches in ROI\n",
      "43235 roi samples\n",
      "MD585-IHC32-2015.08.19-13.53.29_MD585_2_0095"
     ]
    },
    {
     "name": "stderr",
     "output_type": "stream",
     "text": [
      "save: 1.49 seconds\n",
      "locate patches: 0.03 seconds\n",
      "load saturation image: 2.07 seconds\n",
      "extract, reshape, normalize: 20.73 seconds\n",
      "predict: 89.27 seconds\n"
     ]
    },
    {
     "name": "stdout",
     "output_type": "stream",
     "text": [
      "\n",
      "45051 patches in ROI\n",
      "45051 roi samples\n",
      "MD585-N32-2015.08.19-16.07.10_MD585_3_0096"
     ]
    },
    {
     "name": "stderr",
     "output_type": "stream",
     "text": [
      "save: 1.66 seconds\n",
      "locate patches: 0.02 seconds\n",
      "load saturation image: 1.97 seconds\n",
      "extract, reshape, normalize: 11.24 seconds\n",
      "predict: 87.37 seconds\n"
     ]
    },
    {
     "name": "stdout",
     "output_type": "stream",
     "text": [
      "\n",
      "44583 patches in ROI\n",
      "44583 roi samples\n",
      "MD585-IHC32-2015.08.19-13.53.29_MD585_3_0096"
     ]
    },
    {
     "name": "stderr",
     "output_type": "stream",
     "text": [
      "save: 1.65 seconds\n",
      "locate patches: 0.03 seconds\n",
      "load saturation image: 2.02 seconds\n",
      "extract, reshape, normalize: 11.25 seconds\n",
      "predict: 90.10 seconds\n"
     ]
    },
    {
     "name": "stdout",
     "output_type": "stream",
     "text": [
      "\n",
      "44853 patches in ROI\n",
      "44853 roi samples\n",
      "MD585-N33-2015.07.16-21.37.52_MD585_1_0097"
     ]
    },
    {
     "name": "stderr",
     "output_type": "stream",
     "text": [
      "save: 1.61 seconds\n",
      "locate patches: 0.02 seconds\n",
      "load saturation image: 1.96 seconds\n",
      "extract, reshape, normalize: 16.19 seconds\n",
      "predict: 88.36 seconds\n"
     ]
    },
    {
     "name": "stdout",
     "output_type": "stream",
     "text": [
      "\n",
      "45182 patches in ROI\n",
      "45182 roi samples\n",
      "MD585-IHC33-2015.07.16-16.33.07_MD585_1_0097"
     ]
    },
    {
     "name": "stderr",
     "output_type": "stream",
     "text": [
      "save: 1.60 seconds\n",
      "locate patches: 0.03 seconds\n",
      "load saturation image: 1.92 seconds\n",
      "extract, reshape, normalize: 14.98 seconds\n",
      "predict: 89.84 seconds\n"
     ]
    },
    {
     "name": "stdout",
     "output_type": "stream",
     "text": [
      "\n",
      "45273 patches in ROI\n",
      "45273 roi samples\n",
      "MD585-N33-2015.07.16-21.37.52_MD585_2_0098"
     ]
    },
    {
     "name": "stderr",
     "output_type": "stream",
     "text": [
      "save: 1.68 seconds\n",
      "locate patches: 0.02 seconds\n",
      "load saturation image: 1.92 seconds\n",
      "extract, reshape, normalize: 20.65 seconds\n",
      "predict: 90.05 seconds\n"
     ]
    },
    {
     "name": "stdout",
     "output_type": "stream",
     "text": [
      "\n",
      "45760 patches in ROI\n",
      "45760 roi samples\n",
      "MD585-IHC33-2015.07.16-16.33.07_MD585_2_0098"
     ]
    },
    {
     "name": "stderr",
     "output_type": "stream",
     "text": [
      "save: 1.57 seconds\n",
      "locate patches: 0.03 seconds\n",
      "load saturation image: 2.15 seconds\n",
      "extract, reshape, normalize: 17.17 seconds\n",
      "predict: 90.14 seconds\n"
     ]
    },
    {
     "name": "stdout",
     "output_type": "stream",
     "text": [
      "\n",
      "45286 patches in ROI\n",
      "45286 roi samples\n",
      "MD585-N33-2015.07.16-21.37.52_MD585_3_0099"
     ]
    },
    {
     "name": "stderr",
     "output_type": "stream",
     "text": [
      "save: 1.63 seconds\n",
      "locate patches: 0.02 seconds\n",
      "load saturation image: 1.98 seconds\n",
      "extract, reshape, normalize: 17.26 seconds\n",
      "predict: 84.34 seconds\n"
     ]
    },
    {
     "name": "stdout",
     "output_type": "stream",
     "text": [
      "\n",
      "43471 patches in ROI\n",
      "43471 roi samples\n",
      "MD585-IHC33-2015.07.16-16.33.07_MD585_3_0099\n",
      "46354"
     ]
    },
    {
     "name": "stderr",
     "output_type": "stream",
     "text": [
      "save: 1.49 seconds\n",
      "locate patches: 0.10 seconds\n",
      "load saturation image: 2.02 seconds\n",
      "extract, reshape, normalize: 14.40 seconds\n",
      "predict: 92.86 seconds\n",
      "save: 1.59 seconds\n"
     ]
    },
    {
     "name": "stdout",
     "output_type": "stream",
     "text": [
      " patches in ROI\n",
      "46354 roi samples\n",
      "MD585-N34-2015.07.16-21.43.03_MD585_1_0100"
     ]
    },
    {
     "name": "stderr",
     "output_type": "stream",
     "text": [
      "locate patches: 0.03 seconds\n",
      "load saturation image: 1.91 seconds\n",
      "extract, reshape, normalize: 23.40 seconds\n",
      "predict: 93.26 seconds\n"
     ]
    },
    {
     "name": "stdout",
     "output_type": "stream",
     "text": [
      "\n",
      "46328 patches in ROI\n",
      "46328 roi samples\n",
      "MD585-IHC34-2015.07.16-16.38.23_MD585_1_0100"
     ]
    },
    {
     "name": "stderr",
     "output_type": "stream",
     "text": [
      "save: 1.54 seconds\n",
      "locate patches: 0.02 seconds\n",
      "load saturation image: 1.92 seconds\n",
      "extract, reshape, normalize: 14.04 seconds\n",
      "predict: 89.07 seconds\n"
     ]
    },
    {
     "name": "stdout",
     "output_type": "stream",
     "text": [
      "\n",
      "45705 patches in ROI\n",
      "45705 roi samples\n",
      "MD585-N34-2015.07.16-21.43.03_MD585_2_0101"
     ]
    },
    {
     "name": "stderr",
     "output_type": "stream",
     "text": [
      "save: 1.56 seconds\n",
      "locate patches: 0.03 seconds\n",
      "load saturation image: 2.01 seconds\n",
      "extract, reshape, normalize: 10.42 seconds\n",
      "predict: 85.78 seconds\n"
     ]
    },
    {
     "name": "stdout",
     "output_type": "stream",
     "text": [
      "\n",
      "43264 patches in ROI\n",
      "43264 roi samples\n",
      "MD585-IHC34-2015.07.16-16.38.23_MD585_2_0101"
     ]
    },
    {
     "name": "stderr",
     "output_type": "stream",
     "text": [
      "save: 1.48 seconds\n",
      "locate patches: 0.02 seconds\n",
      "load saturation image: 2.16 seconds\n",
      "extract, reshape, normalize: 15.62 seconds\n",
      "predict: 83.70 seconds\n"
     ]
    },
    {
     "name": "stdout",
     "output_type": "stream",
     "text": [
      "\n",
      "43193 patches in ROI\n",
      "43193 roi samples\n",
      "MD585-N34-2015.07.16-21.43.03_MD585_3_0102"
     ]
    },
    {
     "name": "stderr",
     "output_type": "stream",
     "text": [
      "save: 1.48 seconds\n",
      "locate patches: 0.03 seconds\n"
     ]
    },
    {
     "name": "stdout",
     "output_type": "stream",
     "text": [
      "\n",
      "44718 patches in ROI\n",
      "44718"
     ]
    },
    {
     "name": "stderr",
     "output_type": "stream",
     "text": [
      "load saturation image: 2.04 seconds\n",
      "extract, reshape, normalize: 13.61 seconds\n",
      "predict: 88.84 seconds\n",
      "save: 1.62 seconds\n"
     ]
    },
    {
     "name": "stdout",
     "output_type": "stream",
     "text": [
      " roi samples\n",
      "MD585-IHC34-2015.07.16-16.38.23_MD585_3_0102"
     ]
    },
    {
     "name": "stderr",
     "output_type": "stream",
     "text": [
      "locate patches: 0.03 seconds\n",
      "load saturation image: 2.11 seconds\n",
      "extract, reshape, normalize: 13.52 seconds\n",
      "predict: 83.91 seconds\n"
     ]
    },
    {
     "name": "stdout",
     "output_type": "stream",
     "text": [
      "\n",
      "43088 patches in ROI\n",
      "43088 roi samples\n",
      "MD585-N35-2015.07.16-21.48.15_MD585_1_0103\n",
      "45538"
     ]
    },
    {
     "name": "stderr",
     "output_type": "stream",
     "text": [
      "save: 1.55 seconds\n",
      "locate patches: 0.06 seconds\n",
      "load saturation image: 1.94 seconds\n",
      "extract, reshape, normalize: 11.41 seconds\n",
      "predict: 90.77 seconds\n",
      "save: 1.60 seconds\n"
     ]
    },
    {
     "name": "stdout",
     "output_type": "stream",
     "text": [
      " patches in ROI\n",
      "45538 roi samples\n",
      "MD585-IHC35-2015.07.16-16.43.41_MD585_1_0103"
     ]
    },
    {
     "name": "stderr",
     "output_type": "stream",
     "text": [
      "locate patches: 0.02 seconds\n",
      "load saturation image: 1.89 seconds\n",
      "extract, reshape, normalize: 11.91 seconds\n",
      "predict: 83.64 seconds\n"
     ]
    },
    {
     "name": "stdout",
     "output_type": "stream",
     "text": [
      "\n",
      "42896 patches in ROI\n",
      "42896 roi samples\n",
      "MD585-N35-2015.07.16-21.48.15_MD585_2_0104"
     ]
    },
    {
     "name": "stderr",
     "output_type": "stream",
     "text": [
      "save: 1.47 seconds\n",
      "locate patches: 0.03 seconds\n",
      "load saturation image: 2.16 seconds\n",
      "extract, reshape, normalize: 9.86 seconds\n",
      "predict: 83.89 seconds\n"
     ]
    },
    {
     "name": "stdout",
     "output_type": "stream",
     "text": [
      "\n",
      "42245 patches in ROI\n",
      "42245 roi samples\n",
      "MD585-IHC35-2015.07.16-16.43.41_MD585_2_0104\n",
      "45899"
     ]
    },
    {
     "name": "stderr",
     "output_type": "stream",
     "text": [
      "save: 1.53 seconds\n",
      "locate patches: 0.03 seconds\n",
      "load saturation image: 1.97 seconds\n",
      "extract, reshape, normalize: 18.26 seconds\n",
      "predict: 90.04 seconds\n",
      "save: 1.62 seconds\n"
     ]
    },
    {
     "name": "stdout",
     "output_type": "stream",
     "text": [
      " patches in ROI\n",
      "45899 roi samples\n",
      "MD585-N35-2015.07.16-21.48.15_MD585_3_0105"
     ]
    },
    {
     "name": "stderr",
     "output_type": "stream",
     "text": [
      "locate patches: 0.02 seconds\n",
      "load saturation image: 1.95 seconds\n",
      "extract, reshape, normalize: 13.08 seconds\n",
      "predict: 83.26 seconds\n"
     ]
    },
    {
     "name": "stdout",
     "output_type": "stream",
     "text": [
      "\n",
      "42353 patches in ROI\n",
      "42353 roi samples\n",
      "MD585-IHC35-2015.07.16-16.43.41_MD585_3_0105"
     ]
    },
    {
     "name": "stderr",
     "output_type": "stream",
     "text": [
      "save: 1.45 seconds\n",
      "locate patches: 0.02 seconds\n",
      "load saturation image: 2.03 seconds\n",
      "extract, reshape, normalize: 13.92 seconds\n",
      "predict: 86.76 seconds\n"
     ]
    },
    {
     "name": "stdout",
     "output_type": "stream",
     "text": [
      "\n",
      "44252 patches in ROI\n",
      "44252 roi samples\n",
      "MD585-N36-2015.07.16-21.53.31_MD585_1_0106"
     ]
    },
    {
     "name": "stderr",
     "output_type": "stream",
     "text": [
      "save: 1.64 seconds\n",
      "locate patches: 0.02 seconds\n",
      "load saturation image: 1.99 seconds\n",
      "extract, reshape, normalize: 17.13 seconds\n",
      "predict: 87.04 seconds\n"
     ]
    },
    {
     "name": "stdout",
     "output_type": "stream",
     "text": [
      "\n",
      "44141 patches in ROI\n",
      "44141 roi samples\n",
      "MD585-IHC36-2015.08.19-13.58.57_MD585_1_0106"
     ]
    },
    {
     "name": "stderr",
     "output_type": "stream",
     "text": [
      "save: 1.51 seconds\n",
      "locate patches: 0.02 seconds\n",
      "load saturation image: 2.13 seconds\n",
      "extract, reshape, normalize: 19.62 seconds\n",
      "predict: 88.90 seconds\n"
     ]
    },
    {
     "name": "stdout",
     "output_type": "stream",
     "text": [
      "\n",
      "45249 patches in ROI\n",
      "45249 roi samples\n",
      "MD585-N36-2015.07.16-21.53.31_MD585_2_0107"
     ]
    },
    {
     "name": "stderr",
     "output_type": "stream",
     "text": [
      "save: 1.69 seconds\n",
      "locate patches: 0.02 seconds\n",
      "load saturation image: 1.91 seconds\n",
      "extract, reshape, normalize: 12.94 seconds\n",
      "predict: 89.63 seconds\n"
     ]
    },
    {
     "name": "stdout",
     "output_type": "stream",
     "text": [
      "\n",
      "45216 patches in ROI\n",
      "45216 roi samples\n",
      "MD585-IHC36-2015.08.19-13.58.57_MD585_2_0107"
     ]
    },
    {
     "name": "stderr",
     "output_type": "stream",
     "text": [
      "save: 1.68 seconds\n",
      "locate patches: 0.03 seconds\n",
      "load saturation image: 2.00 seconds\n",
      "extract, reshape, normalize: 16.88 seconds\n",
      "predict: 88.24 seconds\n"
     ]
    },
    {
     "name": "stdout",
     "output_type": "stream",
     "text": [
      "\n",
      "44878 patches in ROI\n",
      "44878 roi samples\n",
      "MD585-N36-2015.07.16-21.53.31_MD585_3_0108"
     ]
    },
    {
     "name": "stderr",
     "output_type": "stream",
     "text": [
      "save: 1.67 seconds\n",
      "locate patches: 0.02 seconds\n",
      "load saturation image: 1.95 seconds\n",
      "extract, reshape, normalize: 15.93 seconds\n",
      "predict: 86.45 seconds\n"
     ]
    },
    {
     "name": "stdout",
     "output_type": "stream",
     "text": [
      "\n",
      "44018 patches in ROI\n",
      "44018 roi samples\n",
      "MD585-IHC36-2015.08.19-13.58.57_MD585_3_0108"
     ]
    },
    {
     "name": "stderr",
     "output_type": "stream",
     "text": [
      "save: 1.51 seconds\n",
      "locate patches: 0.02 seconds\n",
      "load saturation image: 2.05 seconds\n",
      "extract, reshape, normalize: 12.01 seconds\n",
      "predict: 89.92 seconds\n"
     ]
    },
    {
     "name": "stdout",
     "output_type": "stream",
     "text": [
      "\n",
      "45465 patches in ROI\n",
      "45465 roi samples\n",
      "MD585-N37-2015.07.16-21.59.03_MD585_1_0109"
     ]
    },
    {
     "name": "stderr",
     "output_type": "stream",
     "text": [
      "save: 1.71 seconds\n",
      "locate patches: 0.03 seconds\n",
      "load saturation image: 1.88 seconds\n",
      "extract, reshape, normalize: 19.44 seconds\n",
      "predict: 92.50 seconds\n"
     ]
    },
    {
     "name": "stdout",
     "output_type": "stream",
     "text": [
      "\n",
      "46657 patches in ROI\n",
      "46657 roi samples\n",
      "MD585-IHC37-2015.08.19-14.04.32_MD585_1_0109"
     ]
    },
    {
     "name": "stderr",
     "output_type": "stream",
     "text": [
      "save: 1.72 seconds\n",
      "locate patches: 0.02 seconds\n",
      "load saturation image: 1.98 seconds\n",
      "extract, reshape, normalize: 16.31 seconds\n",
      "predict: 89.36 seconds\n"
     ]
    },
    {
     "name": "stdout",
     "output_type": "stream",
     "text": [
      "\n",
      "45218 patches in ROI\n",
      "45218 roi samples\n",
      "MD585-N37-2015.07.16-21.59.03_MD585_2_0110"
     ]
    },
    {
     "name": "stderr",
     "output_type": "stream",
     "text": [
      "save: 1.55 seconds\n",
      "locate patches: 0.03 seconds\n",
      "load saturation image: 2.20 seconds\n",
      "extract, reshape, normalize: 23.21 seconds\n",
      "predict: 89.97 seconds\n"
     ]
    },
    {
     "name": "stdout",
     "output_type": "stream",
     "text": [
      "\n",
      "45381 patches in ROI\n",
      "45381 roi samples\n",
      "MD585-IHC37-2015.08.19-14.04.32_MD585_2_0110"
     ]
    },
    {
     "name": "stderr",
     "output_type": "stream",
     "text": [
      "save: 1.68 seconds\n",
      "locate patches: 0.03 seconds\n",
      "load saturation image: 1.97 seconds\n",
      "extract, reshape, normalize: 17.28 seconds\n",
      "predict: 88.25 seconds\n"
     ]
    },
    {
     "name": "stdout",
     "output_type": "stream",
     "text": [
      "\n",
      "45047 patches in ROI\n",
      "45047 roi samples\n",
      "MD585-N37-2015.07.16-21.59.03_MD585_3_0111"
     ]
    },
    {
     "name": "stderr",
     "output_type": "stream",
     "text": [
      "save: 1.55 seconds\n",
      "locate patches: 0.02 seconds\n",
      "load saturation image: 2.07 seconds\n",
      "extract, reshape, normalize: 10.85 seconds\n",
      "predict: 90.69 seconds\n"
     ]
    },
    {
     "name": "stdout",
     "output_type": "stream",
     "text": [
      "\n",
      "45572 patches in ROI\n",
      "45572 roi samples\n",
      "MD585-IHC37-2015.08.19-14.04.32_MD585_3_0111"
     ]
    },
    {
     "name": "stderr",
     "output_type": "stream",
     "text": [
      "save: 1.64 seconds\n",
      "locate patches: 0.02 seconds\n",
      "load saturation image: 1.97 seconds\n",
      "extract, reshape, normalize: 13.13 seconds\n",
      "predict: 89.12 seconds\n"
     ]
    },
    {
     "name": "stdout",
     "output_type": "stream",
     "text": [
      "\n",
      "45089 patches in ROI\n",
      "45089 roi samples\n",
      "MD585-N38-2015.07.16-22.04.12_MD585_1_0112"
     ]
    },
    {
     "name": "stderr",
     "output_type": "stream",
     "text": [
      "save: 1.67 seconds\n",
      "locate patches: 0.03 seconds\n",
      "load saturation image: 1.91 seconds\n",
      "extract, reshape, normalize: 14.22 seconds\n",
      "predict: 92.36 seconds\n"
     ]
    },
    {
     "name": "stdout",
     "output_type": "stream",
     "text": [
      "\n",
      "46399 patches in ROI\n",
      "46399 roi samples\n",
      "MD585-IHC38-2015.07.16-17.00.35_MD585_1_0112"
     ]
    },
    {
     "name": "stderr",
     "output_type": "stream",
     "text": [
      "save: 1.74 seconds\n",
      "locate patches: 0.02 seconds\n",
      "load saturation image: 1.93 seconds\n",
      "extract, reshape, normalize: 7.09 seconds\n",
      "predict: 60.14 seconds\n"
     ]
    },
    {
     "name": "stdout",
     "output_type": "stream",
     "text": [
      "\n",
      "31116 patches in ROI\n",
      "31116 roi samples\n",
      "MD585-N38-2015.07.16-22.04.12_MD585_2_0113"
     ]
    },
    {
     "name": "stderr",
     "output_type": "stream",
     "text": [
      "save: 1.12 seconds\n",
      "locate patches: 0.03 seconds\n",
      "load saturation image: 1.98 seconds\n",
      "extract, reshape, normalize: 24.54 seconds\n",
      "predict: 88.28 seconds\n"
     ]
    },
    {
     "name": "stdout",
     "output_type": "stream",
     "text": [
      "\n",
      "44847 patches in ROI\n",
      "44847 roi samples\n",
      "MD585-IHC38-2015.07.16-17.00.35_MD585_2_0113"
     ]
    },
    {
     "name": "stderr",
     "output_type": "stream",
     "text": [
      "save: 1.54 seconds\n",
      "locate patches: 0.02 seconds\n",
      "load saturation image: 2.02 seconds\n",
      "extract, reshape, normalize: 13.85 seconds\n",
      "predict: 87.51 seconds\n"
     ]
    },
    {
     "name": "stdout",
     "output_type": "stream",
     "text": [
      "\n",
      "45016 patches in ROI\n",
      "45016 roi samples\n",
      "MD585-N38-2015.07.16-22.04.12_MD585_3_0114"
     ]
    },
    {
     "name": "stderr",
     "output_type": "stream",
     "text": [
      "save: 1.59 seconds\n",
      "locate patches: 0.02 seconds\n",
      "load saturation image: 1.95 seconds\n",
      "extract, reshape, normalize: 11.52 seconds\n",
      "predict: 89.91 seconds\n"
     ]
    },
    {
     "name": "stdout",
     "output_type": "stream",
     "text": [
      "\n",
      "44964 patches in ROI\n",
      "44964 roi samples\n",
      "MD585-IHC38-2015.07.16-17.00.35_MD585_3_0114"
     ]
    },
    {
     "name": "stderr",
     "output_type": "stream",
     "text": [
      "save: 1.64 seconds\n",
      "locate patches: 0.02 seconds\n",
      "load saturation image: 1.89 seconds\n",
      "extract, reshape, normalize: 17.80 seconds\n",
      "predict: 88.16 seconds\n"
     ]
    },
    {
     "name": "stdout",
     "output_type": "stream",
     "text": [
      "\n",
      "45177 patches in ROI\n",
      "45177 roi samples\n",
      "MD585-N39-2015.07.16-22.09.19_MD585_1_0115"
     ]
    },
    {
     "name": "stderr",
     "output_type": "stream",
     "text": [
      "save: 1.64 seconds\n",
      "locate patches: 0.02 seconds\n",
      "load saturation image: 1.98 seconds\n",
      "extract, reshape, normalize: 11.20 seconds\n",
      "predict: 91.44 seconds\n"
     ]
    },
    {
     "name": "stdout",
     "output_type": "stream",
     "text": [
      "\n",
      "45696 patches in ROI\n",
      "45696 roi samples\n",
      "MD585-IHC39-2015.08.19-14.10.09_MD585_1_0115"
     ]
    },
    {
     "name": "stderr",
     "output_type": "stream",
     "text": [
      "save: 1.61 seconds\n",
      "locate patches: 0.02 seconds\n",
      "load saturation image: 1.89 seconds\n",
      "extract, reshape, normalize: 13.50 seconds\n",
      "predict: 96.22 seconds\n"
     ]
    },
    {
     "name": "stdout",
     "output_type": "stream",
     "text": [
      "\n",
      "48723 patches in ROI\n",
      "48723 roi samples\n",
      "MD585-N39-2015.07.16-22.09.19_MD585_2_0116"
     ]
    },
    {
     "name": "stderr",
     "output_type": "stream",
     "text": [
      "save: 1.62 seconds\n",
      "locate patches: 0.03 seconds\n",
      "load saturation image: 2.08 seconds\n",
      "extract, reshape, normalize: 11.24 seconds\n",
      "predict: 91.40 seconds\n"
     ]
    },
    {
     "name": "stdout",
     "output_type": "stream",
     "text": [
      "\n",
      "45531 patches in ROI\n",
      "45531 roi samples\n",
      "MD585-IHC39-2015.08.19-14.10.09_MD585_2_0116"
     ]
    },
    {
     "name": "stderr",
     "output_type": "stream",
     "text": [
      "save: 1.61 seconds\n",
      "locate patches: 0.02 seconds\n",
      "load saturation image: 2.01 seconds\n",
      "extract, reshape, normalize: 12.35 seconds\n",
      "predict: 87.73 seconds\n"
     ]
    },
    {
     "name": "stdout",
     "output_type": "stream",
     "text": [
      "\n",
      "44706 patches in ROI\n",
      "44706 roi samples\n",
      "MD585-N39-2015.07.16-22.09.19_MD585_3_0117"
     ]
    },
    {
     "name": "stderr",
     "output_type": "stream",
     "text": [
      "save: 1.63 seconds\n",
      "locate patches: 0.02 seconds\n"
     ]
    },
    {
     "name": "stdout",
     "output_type": "stream",
     "text": [
      "\n",
      "43966 patches in ROI\n",
      "43966 "
     ]
    },
    {
     "name": "stderr",
     "output_type": "stream",
     "text": [
      "load saturation image: 1.94 seconds\n",
      "extract, reshape, normalize: 11.79 seconds\n",
      "predict: 87.46 seconds\n",
      "save: 1.62 seconds\n"
     ]
    },
    {
     "name": "stdout",
     "output_type": "stream",
     "text": [
      "roi samples\n",
      "MD585-IHC39-2015.08.19-14.10.09_MD585_3_0117"
     ]
    },
    {
     "name": "stderr",
     "output_type": "stream",
     "text": [
      "locate patches: 0.02 seconds\n",
      "load saturation image: 1.93 seconds\n",
      "extract, reshape, normalize: 12.86 seconds\n",
      "predict: 86.51 seconds\n"
     ]
    },
    {
     "name": "stdout",
     "output_type": "stream",
     "text": [
      "\n",
      "44239 patches in ROI\n",
      "44239 roi samples\n",
      "MD585-N40-2015.07.16-22.14.28_MD585_1_0118"
     ]
    },
    {
     "name": "stderr",
     "output_type": "stream",
     "text": [
      "save: 1.57 seconds\n",
      "locate patches: 0.02 seconds\n",
      "load saturation image: 1.90 seconds\n",
      "extract, reshape, normalize: 7.74 seconds\n",
      "predict: 63.25 seconds\n"
     ]
    },
    {
     "name": "stdout",
     "output_type": "stream",
     "text": [
      "\n",
      "32642 patches in ROI\n",
      "32642 roi samples\n",
      "MD585-IHC40-2015.08.19-14.15.44_MD585_1_0118"
     ]
    },
    {
     "name": "stderr",
     "output_type": "stream",
     "text": [
      "save: 1.12 seconds\n",
      "locate patches: 0.02 seconds\n",
      "load saturation image: 2.02 seconds\n",
      "extract, reshape, normalize: 10.90 seconds\n",
      "predict: 89.26 seconds\n"
     ]
    },
    {
     "name": "stdout",
     "output_type": "stream",
     "text": [
      "\n",
      "44941 patches in ROI\n",
      "44941 roi samples\n",
      "MD585-N40-2015.07.16-22.14.28_MD585_2_0119"
     ]
    },
    {
     "name": "stderr",
     "output_type": "stream",
     "text": [
      "save: 1.56 seconds\n",
      "locate patches: 0.02 seconds\n",
      "load saturation image: 2.04 seconds\n",
      "extract, reshape, normalize: 12.82 seconds\n",
      "predict: 84.32 seconds\n"
     ]
    },
    {
     "name": "stdout",
     "output_type": "stream",
     "text": [
      "\n",
      "43406 patches in ROI\n",
      "43406 roi samples\n",
      "MD585-IHC40-2015.08.19-14.15.44_MD585_2_0119"
     ]
    },
    {
     "name": "stderr",
     "output_type": "stream",
     "text": [
      "save: 1.54 seconds\n",
      "locate patches: 0.03 seconds\n",
      "load saturation image: 1.98 seconds\n",
      "extract, reshape, normalize: 11.38 seconds\n",
      "predict: 90.70 seconds\n"
     ]
    },
    {
     "name": "stdout",
     "output_type": "stream",
     "text": [
      "\n",
      "44961 patches in ROI\n",
      "44961 roi samples\n",
      "MD585-N40-2015.07.16-22.14.28_MD585_3_0120"
     ]
    },
    {
     "name": "stderr",
     "output_type": "stream",
     "text": [
      "save: 1.63 seconds\n",
      "locate patches: 0.03 seconds\n",
      "load saturation image: 1.89 seconds\n",
      "extract, reshape, normalize: 16.80 seconds\n",
      "predict: 84.33 seconds\n"
     ]
    },
    {
     "name": "stdout",
     "output_type": "stream",
     "text": [
      "\n",
      "43349 patches in ROI\n",
      "43349 roi samples\n",
      "MD585-IHC40-2015.08.19-14.15.44_MD585_3_0120"
     ]
    },
    {
     "name": "stderr",
     "output_type": "stream",
     "text": [
      "save: 1.55 seconds\n",
      "locate patches: 0.02 seconds\n",
      "load saturation image: 2.00 seconds\n",
      "extract, reshape, normalize: 10.91 seconds\n",
      "predict: 89.36 seconds\n"
     ]
    },
    {
     "name": "stdout",
     "output_type": "stream",
     "text": [
      "\n",
      "44633 patches in ROI\n",
      "44633 roi samples\n",
      "MD585-N41-2015.07.16-22.19.30_MD585_1_0121"
     ]
    },
    {
     "name": "stderr",
     "output_type": "stream",
     "text": [
      "save: 1.59 seconds\n",
      "locate patches: 0.02 seconds\n",
      "load saturation image: 1.91 seconds\n",
      "extract, reshape, normalize: 8.86 seconds\n",
      "predict: 66.88 seconds\n"
     ]
    },
    {
     "name": "stdout",
     "output_type": "stream",
     "text": [
      "\n",
      "34217 patches in ROI\n",
      "34217 roi samples\n",
      "MD585-IHC41-2015.08.19-14.21.09_MD585_1_0121"
     ]
    },
    {
     "name": "stderr",
     "output_type": "stream",
     "text": [
      "save: 1.17 seconds\n",
      "locate patches: 0.03 seconds\n",
      "load saturation image: 2.02 seconds\n",
      "extract, reshape, normalize: 11.08 seconds\n",
      "predict: 84.89 seconds\n"
     ]
    },
    {
     "name": "stdout",
     "output_type": "stream",
     "text": [
      "\n",
      "43112 patches in ROI\n",
      "43112 roi samples\n",
      "MD585-N41-2015.07.16-22.19.30_MD585_2_0122"
     ]
    },
    {
     "name": "stderr",
     "output_type": "stream",
     "text": [
      "save: 1.49 seconds\n",
      "locate patches: 0.02 seconds\n",
      "load saturation image: 2.04 seconds\n",
      "extract, reshape, normalize: 10.14 seconds\n",
      "predict: 87.08 seconds\n"
     ]
    },
    {
     "name": "stdout",
     "output_type": "stream",
     "text": [
      "\n",
      "44271 patches in ROI\n",
      "44271 roi samples\n",
      "MD585-IHC41-2015.08.19-14.21.09_MD585_2_0122"
     ]
    },
    {
     "name": "stderr",
     "output_type": "stream",
     "text": [
      "save: 1.59 seconds\n",
      "locate patches: 0.02 seconds\n",
      "load saturation image: 1.99 seconds\n",
      "extract, reshape, normalize: 18.06 seconds\n",
      "predict: 85.62 seconds\n"
     ]
    },
    {
     "name": "stdout",
     "output_type": "stream",
     "text": [
      "\n",
      "43614 patches in ROI\n",
      "43614 roi samples\n",
      "MD585-N41-2015.07.16-22.19.30_MD585_3_0123"
     ]
    },
    {
     "name": "stderr",
     "output_type": "stream",
     "text": [
      "save: 1.50 seconds\n",
      "locate patches: 0.02 seconds\n",
      "load saturation image: 2.00 seconds\n",
      "extract, reshape, normalize: 18.13 seconds\n",
      "predict: 87.11 seconds\n"
     ]
    },
    {
     "name": "stdout",
     "output_type": "stream",
     "text": [
      "\n",
      "43893 patches in ROI\n",
      "43893 roi samples\n",
      "MD585-IHC41-2015.08.19-14.21.09_MD585_3_0123"
     ]
    },
    {
     "name": "stderr",
     "output_type": "stream",
     "text": [
      "save: 1.52 seconds\n",
      "locate patches: 0.03 seconds\n",
      "load saturation image: 2.06 seconds\n",
      "extract, reshape, normalize: 15.82 seconds\n",
      "predict: 88.44 seconds\n"
     ]
    },
    {
     "name": "stdout",
     "output_type": "stream",
     "text": [
      "\n",
      "44863 patches in ROI\n",
      "44863 roi samples\n",
      "MD585-N42-2015.07.16-22.24.42_MD585_1_0124"
     ]
    },
    {
     "name": "stderr",
     "output_type": "stream",
     "text": [
      "save: 1.54 seconds\n",
      "locate patches: 0.02 seconds\n",
      "load saturation image: 2.03 seconds\n",
      "extract, reshape, normalize: 12.96 seconds\n",
      "predict: 86.86 seconds\n"
     ]
    },
    {
     "name": "stdout",
     "output_type": "stream",
     "text": [
      "\n",
      "43654 patches in ROI\n",
      "43654 roi samples\n",
      "MD585-IHC42-2015.08.19-14.26.30_MD585_1_0124"
     ]
    },
    {
     "name": "stderr",
     "output_type": "stream",
     "text": [
      "save: 1.62 seconds\n",
      "locate patches: 0.03 seconds\n",
      "load saturation image: 1.96 seconds\n",
      "extract, reshape, normalize: 11.84 seconds\n",
      "predict: 90.22 seconds\n"
     ]
    },
    {
     "name": "stdout",
     "output_type": "stream",
     "text": [
      "\n",
      "45767 patches in ROI\n",
      "45767 roi samples\n",
      "MD585-N42-2015.07.16-22.24.42_MD585_2_0125"
     ]
    },
    {
     "name": "stderr",
     "output_type": "stream",
     "text": [
      "save: 1.62 seconds\n",
      "locate patches: 0.02 seconds\n",
      "load saturation image: 1.94 seconds\n",
      "extract, reshape, normalize: 11.40 seconds\n",
      "predict: 84.50 seconds\n"
     ]
    },
    {
     "name": "stdout",
     "output_type": "stream",
     "text": [
      "\n",
      "42713 patches in ROI\n",
      "42713 roi samples\n",
      "MD585-IHC42-2015.08.19-14.26.30_MD585_2_0125"
     ]
    },
    {
     "name": "stderr",
     "output_type": "stream",
     "text": [
      "save: 1.53 seconds\n",
      "locate patches: 0.02 seconds\n",
      "load saturation image: 2.01 seconds\n",
      "extract, reshape, normalize: 10.59 seconds\n",
      "predict: 84.28 seconds\n"
     ]
    },
    {
     "name": "stdout",
     "output_type": "stream",
     "text": [
      "\n",
      "42746 patches in ROI\n",
      "42746 roi samples\n",
      "MD585-N42-2015.07.16-22.24.42_MD585_3_0126"
     ]
    },
    {
     "name": "stderr",
     "output_type": "stream",
     "text": [
      "save: 1.52 seconds\n",
      "locate patches: 0.02 seconds\n",
      "load saturation image: 2.06 seconds\n",
      "extract, reshape, normalize: 10.71 seconds\n",
      "predict: 86.41 seconds\n"
     ]
    },
    {
     "name": "stdout",
     "output_type": "stream",
     "text": [
      "\n",
      "43579 patches in ROI\n",
      "43579 roi samples\n",
      "MD585-IHC42-2015.08.19-14.26.30_MD585_3_0126"
     ]
    },
    {
     "name": "stderr",
     "output_type": "stream",
     "text": [
      "save: 1.50 seconds\n",
      "locate patches: 0.02 seconds\n",
      "load saturation image: 2.07 seconds\n",
      "extract, reshape, normalize: 10.54 seconds\n",
      "predict: 85.36 seconds\n"
     ]
    },
    {
     "name": "stdout",
     "output_type": "stream",
     "text": [
      "\n",
      "43427 patches in ROI\n",
      "43427 roi samples\n",
      "MD585-N43-2015.07.16-22.29.50_MD585_1_0127"
     ]
    },
    {
     "name": "stderr",
     "output_type": "stream",
     "text": [
      "save: 1.61 seconds\n",
      "locate patches: 0.02 seconds\n",
      "load saturation image: 1.81 seconds\n",
      "extract, reshape, normalize: 11.76 seconds\n",
      "predict: 91.65 seconds\n"
     ]
    },
    {
     "name": "stdout",
     "output_type": "stream",
     "text": [
      "\n",
      "46204 patches in ROI\n",
      "46204 roi samples\n",
      "MD585-IHC43-2015.08.19-14.32.02_MD585_1_0127"
     ]
    },
    {
     "name": "stderr",
     "output_type": "stream",
     "text": [
      "save: 1.63 seconds\n",
      "locate patches: 0.02 seconds\n",
      "load saturation image: 2.02 seconds\n",
      "extract, reshape, normalize: 11.14 seconds\n",
      "predict: 88.01 seconds\n"
     ]
    },
    {
     "name": "stdout",
     "output_type": "stream",
     "text": [
      "\n",
      "44319 patches in ROI\n",
      "44319 roi samples\n",
      "MD585-N43-2015.07.16-22.29.50_MD585_2_0128"
     ]
    },
    {
     "name": "stderr",
     "output_type": "stream",
     "text": [
      "save: 1.63 seconds\n",
      "locate patches: 0.02 seconds\n",
      "load saturation image: 1.94 seconds\n",
      "extract, reshape, normalize: 11.82 seconds\n",
      "predict: 92.30 seconds\n"
     ]
    },
    {
     "name": "stdout",
     "output_type": "stream",
     "text": [
      "\n",
      "46226 patches in ROI\n",
      "46226 roi samples\n",
      "MD585-IHC43-2015.08.19-14.32.02_MD585_2_0128"
     ]
    },
    {
     "name": "stderr",
     "output_type": "stream",
     "text": [
      "save: 1.67 seconds\n",
      "locate patches: 0.02 seconds\n",
      "load saturation image: 2.11 seconds\n",
      "extract, reshape, normalize: 10.76 seconds\n",
      "predict: 85.88 seconds\n"
     ]
    },
    {
     "name": "stdout",
     "output_type": "stream",
     "text": [
      "\n",
      "43438 patches in ROI\n",
      "43438 roi samples\n",
      "MD585-N43-2015.07.16-22.29.50_MD585_3_0129"
     ]
    },
    {
     "name": "stderr",
     "output_type": "stream",
     "text": [
      "save: 1.50 seconds\n",
      "locate patches: 0.02 seconds\n",
      "load saturation image: 1.99 seconds\n",
      "extract, reshape, normalize: 10.83 seconds\n",
      "predict: 86.03 seconds\n"
     ]
    },
    {
     "name": "stdout",
     "output_type": "stream",
     "text": [
      "\n",
      "43509 patches in ROI\n",
      "43509 roi samples\n",
      "MD585-IHC43-2015.08.19-14.32.02_MD585_3_0129\n",
      "43138"
     ]
    },
    {
     "name": "stderr",
     "output_type": "stream",
     "text": [
      "save: 1.56 seconds\n",
      "locate patches: 0.07 seconds\n",
      "load saturation image: 2.01 seconds\n",
      "extract, reshape, normalize: 11.47 seconds\n",
      "predict: 84.59 seconds\n",
      "save: 1.49 seconds\n"
     ]
    },
    {
     "name": "stdout",
     "output_type": "stream",
     "text": [
      " patches in ROI\n",
      "43138 roi samples\n",
      "MD585-N44-2015.07.16-22.35.02_MD585_1_0130\n",
      "43712"
     ]
    },
    {
     "name": "stderr",
     "output_type": "stream",
     "text": [
      "locate patches: 0.11 seconds\n",
      "load saturation image: 1.94 seconds\n",
      "extract, reshape, normalize: 10.92 seconds\n",
      "predict: 86.68 seconds\n"
     ]
    },
    {
     "name": "stdout",
     "output_type": "stream",
     "text": [
      " patches in ROI\n",
      "43712 roi samples\n",
      "MD585-IHC44-2015.08.19-14.37.23_MD585_1_0130"
     ]
    },
    {
     "name": "stderr",
     "output_type": "stream",
     "text": [
      "save: 1.49 seconds\n",
      "locate patches: 0.02 seconds\n",
      "load saturation image: 2.05 seconds\n",
      "extract, reshape, normalize: 12.25 seconds\n",
      "predict: 85.66 seconds\n"
     ]
    },
    {
     "name": "stdout",
     "output_type": "stream",
     "text": [
      "\n",
      "43717 patches in ROI\n",
      "43717 roi samples\n",
      "MD585-N44-2015.07.16-22.35.02_MD585_2_0131\n",
      "43532"
     ]
    },
    {
     "name": "stderr",
     "output_type": "stream",
     "text": [
      "save: 1.63 seconds\n",
      "locate patches: 0.02 seconds\n",
      "load saturation image: 1.94 seconds\n",
      "extract, reshape, normalize: 10.79 seconds\n",
      "predict: 86.38 seconds\n",
      "save: 1.61 seconds\n"
     ]
    },
    {
     "name": "stdout",
     "output_type": "stream",
     "text": [
      " patches in ROI\n",
      "43532 roi samples\n",
      "MD585-IHC44-2015.08.19-14.37.23_MD585_2_0131"
     ]
    },
    {
     "name": "stderr",
     "output_type": "stream",
     "text": [
      "locate patches: 0.02 seconds\n",
      "load saturation image: 1.96 seconds\n",
      "extract, reshape, normalize: 12.06 seconds\n",
      "predict: 85.75 seconds\n"
     ]
    },
    {
     "name": "stdout",
     "output_type": "stream",
     "text": [
      "\n",
      "43563 patches in ROI\n",
      "43563 roi samples\n",
      "MD585-N44-2015.07.16-22.35.02_MD585_3_0132"
     ]
    },
    {
     "name": "stderr",
     "output_type": "stream",
     "text": [
      "save: 1.62 seconds\n",
      "locate patches: 0.02 seconds\n",
      "load saturation image: 1.94 seconds\n",
      "extract, reshape, normalize: 10.76 seconds\n",
      "predict: 86.03 seconds\n"
     ]
    },
    {
     "name": "stdout",
     "output_type": "stream",
     "text": [
      "\n",
      "43518 patches in ROI\n",
      "43518 roi samples\n",
      "MD585-IHC44-2015.08.19-14.37.23_MD585_3_0132"
     ]
    },
    {
     "name": "stderr",
     "output_type": "stream",
     "text": [
      "save: 1.52 seconds\n",
      "locate patches: 0.02 seconds\n",
      "load saturation image: 1.96 seconds\n",
      "extract, reshape, normalize: 11.05 seconds\n",
      "predict: 88.46 seconds\n"
     ]
    },
    {
     "name": "stdout",
     "output_type": "stream",
     "text": [
      "\n",
      "44873 patches in ROI\n",
      "44873 roi samples\n",
      "MD585-N45-2015.07.16-22.40.26_MD585_1_0133"
     ]
    },
    {
     "name": "stderr",
     "output_type": "stream",
     "text": [
      "save: 1.67 seconds\n",
      "locate patches: 0.02 seconds\n",
      "load saturation image: 1.93 seconds\n",
      "extract, reshape, normalize: 11.12 seconds\n",
      "predict: 85.85 seconds\n"
     ]
    },
    {
     "name": "stdout",
     "output_type": "stream",
     "text": [
      "\n",
      "43520 patches in ROI\n",
      "43520 roi samples\n",
      "MD585-IHC45-2015.08.19-14.42.34_MD585_1_0133"
     ]
    },
    {
     "name": "stderr",
     "output_type": "stream",
     "text": [
      "save: 1.56 seconds\n",
      "locate patches: 0.03 seconds\n",
      "load saturation image: 1.78 seconds\n",
      "extract, reshape, normalize: 11.65 seconds\n",
      "predict: 90.33 seconds\n"
     ]
    },
    {
     "name": "stdout",
     "output_type": "stream",
     "text": [
      "\n",
      "45697 patches in ROI\n",
      "45697 roi samples\n",
      "MD585-N45-2015.07.16-22.40.26_MD585_2_0134"
     ]
    },
    {
     "name": "stderr",
     "output_type": "stream",
     "text": [
      "save: 1.65 seconds\n",
      "locate patches: 0.03 seconds\n",
      "load saturation image: 2.06 seconds\n",
      "extract, reshape, normalize: 10.43 seconds\n",
      "predict: 84.77 seconds\n"
     ]
    },
    {
     "name": "stdout",
     "output_type": "stream",
     "text": [
      "\n",
      "42790 patches in ROI\n",
      "42790 roi samples\n",
      "MD585-IHC45-2015.08.19-14.42.34_MD585_2_0134"
     ]
    },
    {
     "name": "stderr",
     "output_type": "stream",
     "text": [
      "save: 1.46 seconds\n",
      "locate patches: 0.03 seconds\n",
      "load saturation image: 1.86 seconds\n",
      "extract, reshape, normalize: 14.00 seconds\n",
      "predict: 89.00 seconds\n"
     ]
    },
    {
     "name": "stdout",
     "output_type": "stream",
     "text": [
      "\n",
      "45025 patches in ROI\n",
      "45025 roi samples\n",
      "MD585-N45-2015.07.16-22.40.26_MD585_3_0135"
     ]
    },
    {
     "name": "stderr",
     "output_type": "stream",
     "text": [
      "save: 1.68 seconds\n",
      "locate patches: 0.02 seconds\n",
      "load saturation image: 1.96 seconds\n",
      "extract, reshape, normalize: 10.79 seconds\n",
      "predict: 82.75 seconds\n"
     ]
    },
    {
     "name": "stdout",
     "output_type": "stream",
     "text": [
      "\n",
      "42133 patches in ROI\n",
      "42133 roi samples\n",
      "MD585-IHC45-2015.08.19-14.42.34_MD585_3_0135"
     ]
    },
    {
     "name": "stderr",
     "output_type": "stream",
     "text": [
      "save: 1.44 seconds\n",
      "locate patches: 0.03 seconds\n",
      "load saturation image: 1.77 seconds\n",
      "extract, reshape, normalize: 15.31 seconds\n",
      "predict: 84.76 seconds\n"
     ]
    },
    {
     "name": "stdout",
     "output_type": "stream",
     "text": [
      "\n",
      "42760 patches in ROI\n",
      "42760 roi samples\n",
      "MD585-N46-2015.07.16-22.45.37_MD585_1_0136"
     ]
    },
    {
     "name": "stderr",
     "output_type": "stream",
     "text": [
      "save: 1.52 seconds\n",
      "locate patches: 0.02 seconds\n",
      "load saturation image: 2.07 seconds\n",
      "extract, reshape, normalize: 18.98 seconds\n",
      "predict: 91.93 seconds\n"
     ]
    },
    {
     "name": "stdout",
     "output_type": "stream",
     "text": [
      "\n",
      "46394 patches in ROI\n",
      "46394 roi samples\n",
      "MD585-IHC46-2015.08.19-14.47.51_MD585_1_0136"
     ]
    },
    {
     "name": "stderr",
     "output_type": "stream",
     "text": [
      "save: 1.64 seconds\n",
      "locate patches: 0.03 seconds\n",
      "load saturation image: 1.99 seconds\n",
      "extract, reshape, normalize: 11.30 seconds\n",
      "predict: 87.09 seconds\n"
     ]
    },
    {
     "name": "stdout",
     "output_type": "stream",
     "text": [
      "\n",
      "43992 patches in ROI\n",
      "43992 roi samples\n",
      "MD585-N46-2015.07.16-22.45.37_MD585_2_0137"
     ]
    },
    {
     "name": "stderr",
     "output_type": "stream",
     "text": [
      "save: 1.51 seconds\n",
      "locate patches: 0.02 seconds\n",
      "load saturation image: 2.02 seconds\n",
      "extract, reshape, normalize: 13.59 seconds\n",
      "predict: 88.84 seconds\n"
     ]
    },
    {
     "name": "stdout",
     "output_type": "stream",
     "text": [
      "\n",
      "44696 patches in ROI\n",
      "44696 roi samples\n",
      "MD585-IHC46-2015.08.19-14.47.51_MD585_2_0137"
     ]
    },
    {
     "name": "stderr",
     "output_type": "stream",
     "text": [
      "save: 1.57 seconds\n",
      "locate patches: 0.02 seconds\n",
      "load saturation image: 1.94 seconds\n",
      "extract, reshape, normalize: 11.76 seconds\n",
      "predict: 85.86 seconds\n"
     ]
    },
    {
     "name": "stdout",
     "output_type": "stream",
     "text": [
      "\n",
      "43667 patches in ROI\n",
      "43667 roi samples\n",
      "MD585-N46-2015.07.16-22.45.37_MD585_3_0138"
     ]
    },
    {
     "name": "stderr",
     "output_type": "stream",
     "text": [
      "save: 1.56 seconds\n",
      "locate patches: 0.03 seconds\n",
      "load saturation image: 1.95 seconds\n",
      "extract, reshape, normalize: 10.32 seconds\n",
      "predict: 82.92 seconds\n"
     ]
    },
    {
     "name": "stdout",
     "output_type": "stream",
     "text": [
      "\n",
      "42047 patches in ROI\n",
      "42047 roi samples\n",
      "MD585-IHC46-2015.08.19-14.47.51_MD585_3_0138"
     ]
    },
    {
     "name": "stderr",
     "output_type": "stream",
     "text": [
      "save: 1.51 seconds\n",
      "locate patches: 0.02 seconds\n",
      "load saturation image: 2.02 seconds\n",
      "extract, reshape, normalize: 11.05 seconds\n",
      "predict: 86.00 seconds\n"
     ]
    },
    {
     "name": "stdout",
     "output_type": "stream",
     "text": [
      "\n",
      "43612 patches in ROI\n",
      "43612 roi samples\n",
      "MD585-N47-2015.07.16-22.50.52_MD585_1_0139"
     ]
    },
    {
     "name": "stderr",
     "output_type": "stream",
     "text": [
      "save: 1.56 seconds\n",
      "locate patches: 0.03 seconds\n",
      "load saturation image: 1.83 seconds\n",
      "extract, reshape, normalize: 11.45 seconds\n",
      "predict: 89.53 seconds\n"
     ]
    },
    {
     "name": "stdout",
     "output_type": "stream",
     "text": [
      "\n",
      "45149 patches in ROI\n",
      "45149 roi samples\n",
      "MD585-IHC47-2015.08.19-14.53.04_MD585_1_0139"
     ]
    },
    {
     "name": "stderr",
     "output_type": "stream",
     "text": [
      "save: 1.48 seconds\n",
      "locate patches: 0.02 seconds\n",
      "load saturation image: 1.84 seconds\n",
      "extract, reshape, normalize: 10.75 seconds\n",
      "predict: 84.84 seconds\n"
     ]
    },
    {
     "name": "stdout",
     "output_type": "stream",
     "text": [
      "\n",
      "42807 patches in ROI\n",
      "42807 roi samples\n",
      "MD585-N47-2015.07.16-22.50.52_MD585_2_0140"
     ]
    },
    {
     "name": "stderr",
     "output_type": "stream",
     "text": [
      "save: 1.59 seconds\n",
      "locate patches: 0.02 seconds\n",
      "load saturation image: 2.04 seconds\n",
      "extract, reshape, normalize: 10.21 seconds\n",
      "predict: 82.06 seconds\n"
     ]
    },
    {
     "name": "stdout",
     "output_type": "stream",
     "text": [
      "\n",
      "41650 patches in ROI\n",
      "41650 roi samples\n",
      "MD585-N47-2015.07.16-22.50.52_MD585_3_0141"
     ]
    },
    {
     "name": "stderr",
     "output_type": "stream",
     "text": [
      "save: 1.44 seconds\n",
      "locate patches: 0.02 seconds\n",
      "load saturation image: 2.09 seconds\n",
      "extract, reshape, normalize: 10.37 seconds\n",
      "predict: 81.06 seconds\n"
     ]
    },
    {
     "name": "stdout",
     "output_type": "stream",
     "text": [
      "\n",
      "41335 patches in ROI\n",
      "41335 roi samples\n",
      "MD585-IHC47-2015.08.19-14.53.04_MD585_3_0141"
     ]
    },
    {
     "name": "stderr",
     "output_type": "stream",
     "text": [
      "save: 1.49 seconds\n",
      "locate patches: 0.02 seconds\n",
      "load saturation image: 2.00 seconds\n",
      "extract, reshape, normalize: 9.86 seconds\n",
      "predict: 81.23 seconds\n"
     ]
    },
    {
     "name": "stdout",
     "output_type": "stream",
     "text": [
      "\n",
      "41253 patches in ROI\n",
      "41253 roi samples\n",
      "MD585-N48-2015.07.16-22.56.02_MD585_1_0142"
     ]
    },
    {
     "name": "stderr",
     "output_type": "stream",
     "text": [
      "save: 1.49 seconds\n",
      "locate patches: 0.02 seconds\n",
      "load saturation image: 2.05 seconds\n",
      "extract, reshape, normalize: 10.03 seconds\n",
      "predict: 80.88 seconds\n"
     ]
    },
    {
     "name": "stdout",
     "output_type": "stream",
     "text": [
      "\n",
      "41187 patches in ROI\n",
      "41187 roi samples\n",
      "MD585-IHC48-2015.08.19-14.58.14_MD585_1_0142"
     ]
    },
    {
     "name": "stderr",
     "output_type": "stream",
     "text": [
      "save: 1.43 seconds\n",
      "locate patches: 0.02 seconds\n",
      "load saturation image: 2.03 seconds\n",
      "extract, reshape, normalize: 10.07 seconds\n",
      "predict: 82.61 seconds\n"
     ]
    },
    {
     "name": "stdout",
     "output_type": "stream",
     "text": [
      "\n",
      "41774 patches in ROI\n",
      "41774 roi samples\n",
      "MD585-N48-2015.07.16-22.56.02_MD585_2_0143"
     ]
    },
    {
     "name": "stderr",
     "output_type": "stream",
     "text": [
      "save: 1.57 seconds\n",
      "locate patches: 0.03 seconds\n",
      "load saturation image: 2.03 seconds\n",
      "extract, reshape, normalize: 9.98 seconds\n",
      "predict: 79.68 seconds\n"
     ]
    },
    {
     "name": "stdout",
     "output_type": "stream",
     "text": [
      "\n",
      "40543 patches in ROI\n",
      "40543 roi samples\n",
      "MD585-IHC48-2015.08.19-14.58.14_MD585_2_0143"
     ]
    },
    {
     "name": "stderr",
     "output_type": "stream",
     "text": [
      "save: 1.40 seconds\n",
      "locate patches: 0.03 seconds\n",
      "load saturation image: 2.02 seconds\n",
      "extract, reshape, normalize: 10.00 seconds\n",
      "predict: 80.36 seconds\n"
     ]
    },
    {
     "name": "stdout",
     "output_type": "stream",
     "text": [
      "\n",
      "40793 patches in ROI\n",
      "40793 roi samples\n",
      "MD585-N48-2015.07.16-22.56.02_MD585_3_0144"
     ]
    },
    {
     "name": "stderr",
     "output_type": "stream",
     "text": [
      "save: 1.45 seconds\n",
      "locate patches: 0.02 seconds\n",
      "load saturation image: 2.01 seconds\n",
      "extract, reshape, normalize: 9.85 seconds\n",
      "predict: 78.92 seconds\n"
     ]
    },
    {
     "name": "stdout",
     "output_type": "stream",
     "text": [
      "\n",
      "40205 patches in ROI\n",
      "40205 roi samples\n",
      "MD585-IHC48-2015.08.19-14.58.14_MD585_3_0144"
     ]
    },
    {
     "name": "stderr",
     "output_type": "stream",
     "text": [
      "save: 1.38 seconds\n",
      "locate patches: 0.02 seconds\n",
      "load saturation image: 1.96 seconds\n",
      "extract, reshape, normalize: 9.69 seconds\n",
      "predict: 78.50 seconds\n"
     ]
    },
    {
     "name": "stdout",
     "output_type": "stream",
     "text": [
      "\n",
      "40024 patches in ROI\n",
      "40024 roi samples\n",
      "MD585-N49-2015.07.16-23.01.02_MD585_1_0145"
     ]
    },
    {
     "name": "stderr",
     "output_type": "stream",
     "text": [
      "save: 1.38 seconds\n",
      "locate patches: 0.02 seconds\n",
      "load saturation image: 1.94 seconds\n",
      "extract, reshape, normalize: 18.39 seconds\n",
      "predict: 84.83 seconds\n"
     ]
    },
    {
     "name": "stdout",
     "output_type": "stream",
     "text": [
      "\n",
      "43215 patches in ROI\n",
      "43215 roi samples\n",
      "MD585-IHC49-2015.07.16-17.58.21_MD585_3_0147"
     ]
    },
    {
     "name": "stderr",
     "output_type": "stream",
     "text": [
      "save: 1.59 seconds\n",
      "locate patches: 0.02 seconds\n",
      "load saturation image: 1.88 seconds\n",
      "extract, reshape, normalize: 17.80 seconds\n",
      "predict: 77.64 seconds\n"
     ]
    },
    {
     "name": "stdout",
     "output_type": "stream",
     "text": [
      "\n",
      "39743 patches in ROI\n",
      "39743 roi samples\n",
      "MD585-N49-2015.07.16-23.01.02_MD585_2_0146"
     ]
    },
    {
     "name": "stderr",
     "output_type": "stream",
     "text": [
      "save: 1.41 seconds\n",
      "locate patches: 0.03 seconds\n",
      "load saturation image: 1.90 seconds\n",
      "extract, reshape, normalize: 13.09 seconds\n",
      "predict: 76.54 seconds\n"
     ]
    },
    {
     "name": "stdout",
     "output_type": "stream",
     "text": [
      "\n",
      "39321 patches in ROI\n",
      "39321 roi samples\n",
      "MD585-IHC49-2015.07.16-17.58.21_MD585_2_0146"
     ]
    },
    {
     "name": "stderr",
     "output_type": "stream",
     "text": [
      "save: 1.35 seconds\n",
      "locate patches: 0.03 seconds\n",
      "load saturation image: 1.91 seconds\n",
      "extract, reshape, normalize: 10.75 seconds\n",
      "predict: 79.71 seconds\n"
     ]
    },
    {
     "name": "stdout",
     "output_type": "stream",
     "text": [
      "\n",
      "40630 patches in ROI\n",
      "40630 roi samples\n",
      "MD585-N49-2015.07.16-23.01.02_MD585_3_0147"
     ]
    },
    {
     "name": "stderr",
     "output_type": "stream",
     "text": [
      "save: 1.39 seconds\n",
      "locate patches: 0.02 seconds\n",
      "load saturation image: 2.10 seconds\n",
      "extract, reshape, normalize: 12.40 seconds\n",
      "predict: 74.81 seconds\n"
     ]
    },
    {
     "name": "stdout",
     "output_type": "stream",
     "text": [
      "\n",
      "38483 patches in ROI\n",
      "38483 roi samples\n",
      "MD585-IHC49-2015.07.16-17.58.21_MD585_1_0145"
     ]
    },
    {
     "name": "stderr",
     "output_type": "stream",
     "text": [
      "save: 1.37 seconds\n",
      "locate patches: 0.03 seconds\n",
      "load saturation image: 1.95 seconds\n",
      "extract, reshape, normalize: 9.95 seconds\n",
      "predict: 80.03 seconds\n"
     ]
    },
    {
     "name": "stdout",
     "output_type": "stream",
     "text": [
      "\n",
      "40472 patches in ROI\n",
      "40472 roi samples\n",
      "MD585-N50-2015.07.16-23.05.49_MD585_1_0148"
     ]
    },
    {
     "name": "stderr",
     "output_type": "stream",
     "text": [
      "save: 1.39 seconds\n",
      "locate patches: 0.02 seconds\n",
      "load saturation image: 1.95 seconds\n",
      "extract, reshape, normalize: 16.15 seconds\n",
      "predict: 84.98 seconds\n"
     ]
    },
    {
     "name": "stdout",
     "output_type": "stream",
     "text": [
      "\n",
      "43277 patches in ROI\n",
      "43277 roi samples\n",
      "MD585-IHC50-2015.07.16-18.02.54_MD585_3_0150"
     ]
    },
    {
     "name": "stderr",
     "output_type": "stream",
     "text": [
      "save: 1.53 seconds\n",
      "locate patches: 0.02 seconds\n",
      "load saturation image: 1.78 seconds\n",
      "extract, reshape, normalize: 11.84 seconds\n",
      "predict: 85.24 seconds\n"
     ]
    },
    {
     "name": "stdout",
     "output_type": "stream",
     "text": [
      "\n",
      "42498 patches in ROI\n",
      "42498 roi samples\n",
      "MD585-N50-2015.07.16-23.05.49_MD585_2_0149"
     ]
    },
    {
     "name": "stderr",
     "output_type": "stream",
     "text": [
      "save: 1.38 seconds\n",
      "locate patches: 0.02 seconds\n",
      "load saturation image: 2.07 seconds\n",
      "extract, reshape, normalize: 11.25 seconds\n",
      "predict: 73.40 seconds\n"
     ]
    },
    {
     "name": "stdout",
     "output_type": "stream",
     "text": [
      "\n",
      "37830 patches in ROI\n",
      "37830 roi samples\n",
      "MD585-IHC50-2015.07.16-18.02.54_MD585_2_0149"
     ]
    },
    {
     "name": "stderr",
     "output_type": "stream",
     "text": [
      "save: 1.40 seconds\n",
      "locate patches: 0.02 seconds\n",
      "load saturation image: 1.99 seconds\n",
      "extract, reshape, normalize: 10.57 seconds\n",
      "predict: 77.05 seconds\n"
     ]
    },
    {
     "name": "stdout",
     "output_type": "stream",
     "text": [
      "\n",
      "39402 patches in ROI\n",
      "39402 roi samples\n",
      "MD585-N50-2015.07.16-23.05.49_MD585_3_0150"
     ]
    },
    {
     "name": "stderr",
     "output_type": "stream",
     "text": [
      "save: 1.36 seconds\n",
      "locate patches: 0.03 seconds\n",
      "load saturation image: 1.93 seconds\n",
      "extract, reshape, normalize: 9.32 seconds\n",
      "predict: 76.32 seconds\n"
     ]
    },
    {
     "name": "stdout",
     "output_type": "stream",
     "text": [
      "\n",
      "39181 patches in ROI\n",
      "39181 roi samples\n",
      "MD585-IHC50-2015.07.16-18.02.54_MD585_1_0148"
     ]
    },
    {
     "name": "stderr",
     "output_type": "stream",
     "text": [
      "save: 1.41 seconds\n",
      "locate patches: 0.02 seconds\n",
      "load saturation image: 1.92 seconds\n",
      "extract, reshape, normalize: 9.47 seconds\n",
      "predict: 78.25 seconds\n"
     ]
    },
    {
     "name": "stdout",
     "output_type": "stream",
     "text": [
      "\n",
      "39729 patches in ROI\n",
      "39729 roi samples\n",
      "MD585-N51-2015.07.16-23.10.35_MD585_1_0151"
     ]
    },
    {
     "name": "stderr",
     "output_type": "stream",
     "text": [
      "save: 1.34 seconds\n",
      "locate patches: 0.02 seconds\n",
      "load saturation image: 1.92 seconds\n",
      "extract, reshape, normalize: 15.35 seconds\n",
      "predict: 81.40 seconds\n"
     ]
    },
    {
     "name": "stdout",
     "output_type": "stream",
     "text": [
      "\n",
      "41488 patches in ROI\n",
      "41488 roi samples\n",
      "MD585-IHC51-2015.08.19-15.03.10_MD585_1_0151"
     ]
    },
    {
     "name": "stderr",
     "output_type": "stream",
     "text": [
      "save: 1.50 seconds\n",
      "locate patches: 0.02 seconds\n",
      "load saturation image: 1.68 seconds\n",
      "extract, reshape, normalize: 14.24 seconds\n",
      "predict: 90.06 seconds\n"
     ]
    },
    {
     "name": "stdout",
     "output_type": "stream",
     "text": [
      "\n",
      "45078 patches in ROI\n",
      "45078 roi samples\n",
      "MD585-N51-2015.07.16-23.10.35_MD585_2_0152"
     ]
    },
    {
     "name": "stderr",
     "output_type": "stream",
     "text": [
      "save: 1.54 seconds\n",
      "locate patches: 0.03 seconds\n",
      "load saturation image: 1.98 seconds\n",
      "extract, reshape, normalize: 9.26 seconds\n",
      "predict: 71.93 seconds\n"
     ]
    },
    {
     "name": "stdout",
     "output_type": "stream",
     "text": [
      "\n",
      "36938 patches in ROI\n",
      "36938 roi samples\n",
      "MD585-IHC51-2015.08.19-15.03.10_MD585_2_0152"
     ]
    },
    {
     "name": "stderr",
     "output_type": "stream",
     "text": [
      "save: 1.32 seconds\n",
      "locate patches: 0.02 seconds\n",
      "load saturation image: 1.77 seconds\n",
      "extract, reshape, normalize: 11.82 seconds\n",
      "predict: 93.47 seconds\n"
     ]
    },
    {
     "name": "stdout",
     "output_type": "stream",
     "text": [
      "\n",
      "46415 patches in ROI\n",
      "46415 roi samples\n",
      "MD585-N51-2015.07.16-23.10.35_MD585_3_0153"
     ]
    },
    {
     "name": "stderr",
     "output_type": "stream",
     "text": [
      "save: 1.44 seconds\n",
      "locate patches: 0.02 seconds\n",
      "load saturation image: 2.01 seconds\n",
      "extract, reshape, normalize: 8.71 seconds\n",
      "predict: 70.34 seconds\n"
     ]
    },
    {
     "name": "stdout",
     "output_type": "stream",
     "text": [
      "\n",
      "36114 patches in ROI\n",
      "36114 roi samples\n",
      "MD585-IHC51-2015.08.19-15.03.10_MD585_3_0153"
     ]
    },
    {
     "name": "stderr",
     "output_type": "stream",
     "text": [
      "save: 1.24 seconds\n",
      "locate patches: 0.02 seconds\n",
      "load saturation image: 1.89 seconds\n",
      "extract, reshape, normalize: 14.21 seconds\n",
      "predict: 97.02 seconds\n"
     ]
    },
    {
     "name": "stdout",
     "output_type": "stream",
     "text": [
      "\n",
      "47841 patches in ROI\n",
      "47841 roi samples\n",
      "MD585-N52-2015.08.19-16.12.22_MD585_1_0154"
     ]
    },
    {
     "name": "stderr",
     "output_type": "stream",
     "text": [
      "save: 1.47 seconds\n",
      "locate patches: 0.02 seconds\n",
      "load saturation image: 1.82 seconds\n",
      "extract, reshape, normalize: 12.33 seconds\n",
      "predict: 92.66 seconds\n"
     ]
    },
    {
     "name": "stdout",
     "output_type": "stream",
     "text": [
      "\n",
      "45800 patches in ROI\n",
      "45800 roi samples\n",
      "MD585-IHC52-2015.08.19-15.07.35_MD585_1_0154"
     ]
    },
    {
     "name": "stderr",
     "output_type": "stream",
     "text": [
      "save: 1.43 seconds\n",
      "locate patches: 0.02 seconds\n",
      "load saturation image: 1.94 seconds\n",
      "extract, reshape, normalize: 11.02 seconds\n",
      "predict: 83.10 seconds\n"
     ]
    },
    {
     "name": "stdout",
     "output_type": "stream",
     "text": [
      "\n",
      "41638 patches in ROI\n",
      "41638 roi samples\n",
      "MD585-N52-2015.08.19-16.12.22_MD585_2_0155"
     ]
    },
    {
     "name": "stderr",
     "output_type": "stream",
     "text": [
      "save: 1.35 seconds\n",
      "locate patches: 0.02 seconds\n",
      "load saturation image: 1.78 seconds\n",
      "extract, reshape, normalize: 18.03 seconds\n",
      "predict: 90.82 seconds\n"
     ]
    },
    {
     "name": "stdout",
     "output_type": "stream",
     "text": [
      "\n",
      "46043 patches in ROI\n",
      "46043 roi samples\n",
      "MD585-IHC52-2015.08.19-15.07.35_MD585_2_0155"
     ]
    },
    {
     "name": "stderr",
     "output_type": "stream",
     "text": [
      "save: 1.56 seconds\n",
      "locate patches: 0.03 seconds\n",
      "load saturation image: 1.83 seconds\n",
      "extract, reshape, normalize: 11.15 seconds\n",
      "predict: 88.12 seconds\n"
     ]
    },
    {
     "name": "stdout",
     "output_type": "stream",
     "text": [
      "\n",
      "43790 patches in ROI\n",
      "43790 roi samples\n",
      "MD585-IHC52-2015.08.19-15.07.35_MD585_3_0156"
     ]
    },
    {
     "name": "stderr",
     "output_type": "stream",
     "text": [
      "save: 1.47 seconds\n",
      "locate patches: 0.03 seconds\n",
      "load saturation image: 1.71 seconds\n",
      "extract, reshape, normalize: 19.56 seconds\n",
      "predict: 87.80 seconds\n"
     ]
    },
    {
     "name": "stdout",
     "output_type": "stream",
     "text": [
      "\n",
      "44774 patches in ROI\n",
      "44774 roi samples\n",
      "MD585-N53-2015.08.19-16.16.47_MD585_1_0157"
     ]
    },
    {
     "name": "stderr",
     "output_type": "stream",
     "text": [
      "save: 1.54 seconds\n",
      "locate patches: 0.02 seconds\n",
      "load saturation image: 1.89 seconds\n",
      "extract, reshape, normalize: 13.28 seconds\n",
      "predict: 83.37 seconds\n"
     ]
    },
    {
     "name": "stdout",
     "output_type": "stream",
     "text": [
      "\n",
      "41855 patches in ROI\n",
      "41855 roi samples\n",
      "MD585-IHC53-2015.08.19-15.12.08_MD585_1_0157"
     ]
    },
    {
     "name": "stderr",
     "output_type": "stream",
     "text": [
      "save: 1.32 seconds\n",
      "locate patches: 0.02 seconds\n",
      "load saturation image: 1.94 seconds\n",
      "extract, reshape, normalize: 15.89 seconds\n",
      "predict: 86.56 seconds\n"
     ]
    },
    {
     "name": "stdout",
     "output_type": "stream",
     "text": [
      "\n",
      "44222 patches in ROI\n",
      "44222 roi samples\n",
      "MD585-N53-2015.08.19-16.16.47_MD585_2_0158"
     ]
    },
    {
     "name": "stderr",
     "output_type": "stream",
     "text": [
      "save: 1.38 seconds\n",
      "locate patches: 0.02 seconds\n",
      "load saturation image: 1.87 seconds\n",
      "extract, reshape, normalize: 14.36 seconds\n",
      "predict: 93.06 seconds\n"
     ]
    },
    {
     "name": "stdout",
     "output_type": "stream",
     "text": [
      "\n",
      "46569 patches in ROI\n",
      "46569 roi samples\n",
      "MD585-IHC53-2015.08.19-15.12.08_MD585_2_0158"
     ]
    },
    {
     "name": "stderr",
     "output_type": "stream",
     "text": [
      "save: 1.51 seconds\n",
      "locate patches: 0.02 seconds\n",
      "load saturation image: 1.73 seconds\n",
      "extract, reshape, normalize: 12.13 seconds\n",
      "predict: 92.30 seconds\n"
     ]
    },
    {
     "name": "stdout",
     "output_type": "stream",
     "text": [
      "\n",
      "46830 patches in ROI\n",
      "46830 roi samples\n",
      "MD585-N53-2015.08.19-16.16.47_MD585_3_0159"
     ]
    },
    {
     "name": "stderr",
     "output_type": "stream",
     "text": [
      "save: 1.42 seconds\n",
      "locate patches: 0.02 seconds\n",
      "load saturation image: 1.80 seconds\n",
      "extract, reshape, normalize: 15.09 seconds\n",
      "predict: 93.62 seconds\n"
     ]
    },
    {
     "name": "stdout",
     "output_type": "stream",
     "text": [
      "\n",
      "46547 patches in ROI\n",
      "46547 roi samples\n",
      "MD585-IHC53-2015.08.19-15.12.08_MD585_3_0159"
     ]
    },
    {
     "name": "stderr",
     "output_type": "stream",
     "text": [
      "save: 1.41 seconds\n",
      "locate patches: 0.02 seconds\n",
      "load saturation image: 1.75 seconds\n",
      "extract, reshape, normalize: 11.63 seconds\n",
      "predict: 91.39 seconds\n"
     ]
    },
    {
     "name": "stdout",
     "output_type": "stream",
     "text": [
      "\n",
      "46122 patches in ROI\n",
      "46122 roi samples\n",
      "MD585-N54-2015.08.19-16.21.14_MD585_1_0160"
     ]
    },
    {
     "name": "stderr",
     "output_type": "stream",
     "text": [
      "save: 1.49 seconds\n",
      "locate patches: 0.02 seconds\n",
      "load saturation image: 1.95 seconds\n",
      "extract, reshape, normalize: 9.23 seconds\n",
      "predict: 69.41 seconds\n"
     ]
    },
    {
     "name": "stdout",
     "output_type": "stream",
     "text": [
      "\n",
      "35671 patches in ROI\n",
      "35671 roi samples\n",
      "MD585-IHC54-2015.08.19-15.16.31_MD585_1_0160"
     ]
    },
    {
     "name": "stderr",
     "output_type": "stream",
     "text": [
      "save: 1.27 seconds\n",
      "locate patches: 0.02 seconds\n",
      "load saturation image: 1.84 seconds\n",
      "extract, reshape, normalize: 12.05 seconds\n",
      "predict: 81.52 seconds\n"
     ]
    },
    {
     "name": "stdout",
     "output_type": "stream",
     "text": [
      "\n",
      "41013 patches in ROI\n",
      "41013 roi samples\n",
      "MD585-N54-2015.08.19-16.21.14_MD585_2_0161"
     ]
    },
    {
     "name": "stderr",
     "output_type": "stream",
     "text": [
      "save: 1.44 seconds\n",
      "locate patches: 0.03 seconds\n",
      "load saturation image: 1.72 seconds\n",
      "extract, reshape, normalize: 13.30 seconds\n",
      "predict: 88.77 seconds\n"
     ]
    },
    {
     "name": "stdout",
     "output_type": "stream",
     "text": [
      "\n",
      "45256 patches in ROI\n",
      "45256 roi samples\n",
      "MD585-IHC54-2015.08.19-15.16.31_MD585_2_0161"
     ]
    },
    {
     "name": "stderr",
     "output_type": "stream",
     "text": [
      "save: 1.43 seconds\n",
      "locate patches: 0.03 seconds\n",
      "load saturation image: 1.80 seconds\n",
      "extract, reshape, normalize: 10.15 seconds\n",
      "predict: 78.30 seconds\n"
     ]
    },
    {
     "name": "stdout",
     "output_type": "stream",
     "text": [
      "\n",
      "39794 patches in ROI\n",
      "39794 roi samples\n",
      "MD585-N54-2015.08.19-16.21.14_MD585_3_0162"
     ]
    },
    {
     "name": "stderr",
     "output_type": "stream",
     "text": [
      "save: 1.29 seconds\n",
      "locate patches: 0.02 seconds\n",
      "load saturation image: 1.74 seconds\n",
      "extract, reshape, normalize: 15.08 seconds\n",
      "predict: 88.49 seconds\n"
     ]
    },
    {
     "name": "stdout",
     "output_type": "stream",
     "text": [
      "\n",
      "45020 patches in ROI\n",
      "45020 roi samples\n",
      "MD585-IHC54-2015.08.19-15.16.31_MD585_3_0162"
     ]
    },
    {
     "name": "stderr",
     "output_type": "stream",
     "text": [
      "save: 1.54 seconds\n",
      "locate patches: 0.02 seconds\n",
      "load saturation image: 1.80 seconds\n",
      "extract, reshape, normalize: 9.37 seconds\n",
      "predict: 75.74 seconds\n"
     ]
    },
    {
     "name": "stdout",
     "output_type": "stream",
     "text": [
      "\n",
      "38853 patches in ROI\n",
      "38853 roi samples\n",
      "MD585-N55-2015.08.19-16.25.32_MD585_1_0163"
     ]
    },
    {
     "name": "stderr",
     "output_type": "stream",
     "text": [
      "save: 1.30 seconds\n",
      "locate patches: 0.03 seconds\n",
      "load saturation image: 1.85 seconds\n",
      "extract, reshape, normalize: 7.86 seconds\n",
      "predict: 63.93 seconds\n"
     ]
    },
    {
     "name": "stdout",
     "output_type": "stream",
     "text": [
      "\n",
      "32809 patches in ROI\n",
      "32809 roi samples\n",
      "MD585-IHC55-2015.08.19-15.21.01_MD585_1_0163\n",
      "38107"
     ]
    },
    {
     "name": "stderr",
     "output_type": "stream",
     "text": [
      "save: 1.07 seconds\n",
      "locate patches: 0.03 seconds\n",
      "load saturation image: 1.86 seconds\n",
      "extract, reshape, normalize: 9.40 seconds\n",
      "predict: 73.77 seconds\n",
      "save: 1.32 seconds\n"
     ]
    },
    {
     "name": "stdout",
     "output_type": "stream",
     "text": [
      " patches in ROI\n",
      "38107 roi samples\n",
      "MD585-N55-2015.08.19-16.25.32_MD585_2_0164"
     ]
    },
    {
     "name": "stderr",
     "output_type": "stream",
     "text": [
      "locate patches: 0.03 seconds\n",
      "load saturation image: 1.73 seconds\n",
      "extract, reshape, normalize: 13.14 seconds\n",
      "predict: 88.28 seconds\n"
     ]
    },
    {
     "name": "stdout",
     "output_type": "stream",
     "text": [
      "\n",
      "44620 patches in ROI\n",
      "44620 roi samples\n",
      "MD585-IHC55-2015.08.19-15.21.01_MD585_2_0164"
     ]
    },
    {
     "name": "stderr",
     "output_type": "stream",
     "text": [
      "save: 1.35 seconds\n",
      "locate patches: 0.02 seconds\n",
      "load saturation image: 1.96 seconds\n",
      "extract, reshape, normalize: 11.34 seconds\n",
      "predict: 71.85 seconds\n"
     ]
    },
    {
     "name": "stdout",
     "output_type": "stream",
     "text": [
      "\n",
      "36953 patches in ROI\n",
      "36953 roi samples\n",
      "MD585-N55-2015.08.19-16.25.32_MD585_3_0165"
     ]
    },
    {
     "name": "stderr",
     "output_type": "stream",
     "text": [
      "save: 1.23 seconds\n",
      "locate patches: 0.02 seconds\n",
      "load saturation image: 1.79 seconds\n",
      "extract, reshape, normalize: 11.35 seconds\n",
      "predict: 87.07 seconds\n"
     ]
    },
    {
     "name": "stdout",
     "output_type": "stream",
     "text": [
      "\n",
      "43805 patches in ROI\n",
      "43805 roi samples\n",
      "MD585-IHC55-2015.08.19-15.21.01_MD585_3_0165"
     ]
    },
    {
     "name": "stderr",
     "output_type": "stream",
     "text": [
      "save: 1.41 seconds\n",
      "locate patches: 0.02 seconds\n",
      "load saturation image: 1.87 seconds\n",
      "extract, reshape, normalize: 8.54 seconds\n",
      "predict: 70.01 seconds\n"
     ]
    },
    {
     "name": "stdout",
     "output_type": "stream",
     "text": [
      "\n",
      "36151 patches in ROI\n",
      "36151 roi samples\n",
      "MD585-N56-2015.07.16-23.31.53_MD585_1_0166"
     ]
    },
    {
     "name": "stderr",
     "output_type": "stream",
     "text": [
      "save: 1.20 seconds\n",
      "locate patches: 0.02 seconds\n",
      "load saturation image: 1.86 seconds\n",
      "extract, reshape, normalize: 7.33 seconds\n",
      "predict: 59.44 seconds\n"
     ]
    },
    {
     "name": "stdout",
     "output_type": "stream",
     "text": [
      "\n",
      "30801 patches in ROI\n",
      "30801 roi samples\n",
      "MD585-IHC56-2015.07.16-18.29.48_MD585_1_0166"
     ]
    },
    {
     "name": "stderr",
     "output_type": "stream",
     "text": [
      "save: 1.04 seconds\n",
      "locate patches: 0.03 seconds\n",
      "load saturation image: 1.98 seconds\n",
      "extract, reshape, normalize: 9.55 seconds\n",
      "predict: 64.94 seconds\n"
     ]
    },
    {
     "name": "stdout",
     "output_type": "stream",
     "text": [
      "\n",
      "33454 patches in ROI\n",
      "33454 roi samples\n",
      "MD585-N56-2015.07.16-23.31.53_MD585_2_0167"
     ]
    },
    {
     "name": "stderr",
     "output_type": "stream",
     "text": [
      "save: 1.15 seconds\n",
      "locate patches: 0.02 seconds\n",
      "load saturation image: 1.93 seconds\n",
      "extract, reshape, normalize: 7.94 seconds\n",
      "predict: 66.49 seconds\n"
     ]
    },
    {
     "name": "stdout",
     "output_type": "stream",
     "text": [
      "\n",
      "34448 patches in ROI\n",
      "34448 roi samples\n",
      "MD585-IHC56-2015.07.16-18.29.48_MD585_2_0167"
     ]
    },
    {
     "name": "stderr",
     "output_type": "stream",
     "text": [
      "save: 1.21 seconds\n",
      "locate patches: 0.02 seconds\n",
      "load saturation image: 1.94 seconds\n",
      "extract, reshape, normalize: 13.72 seconds\n",
      "predict: 64.58 seconds\n"
     ]
    },
    {
     "name": "stdout",
     "output_type": "stream",
     "text": [
      "\n",
      "33732 patches in ROI\n",
      "33732 roi samples\n",
      "MD585-N56-2015.07.16-23.31.53_MD585_3_0168"
     ]
    },
    {
     "name": "stderr",
     "output_type": "stream",
     "text": [
      "save: 1.16 seconds\n",
      "locate patches: 0.03 seconds\n",
      "load saturation image: 1.85 seconds\n",
      "extract, reshape, normalize: 8.45 seconds\n",
      "predict: 65.23 seconds\n"
     ]
    },
    {
     "name": "stdout",
     "output_type": "stream",
     "text": [
      "\n",
      "33600 patches in ROI\n",
      "33600 roi samples\n",
      "MD585-IHC56-2015.07.16-18.29.48_MD585_3_0168"
     ]
    },
    {
     "name": "stderr",
     "output_type": "stream",
     "text": [
      "save: 1.16 seconds\n",
      "locate patches: 0.02 seconds\n",
      "load saturation image: 1.86 seconds\n",
      "extract, reshape, normalize: 8.39 seconds\n",
      "predict: 64.61 seconds\n"
     ]
    },
    {
     "name": "stdout",
     "output_type": "stream",
     "text": [
      "\n",
      "33440 patches in ROI\n",
      "33440 roi samples\n",
      "MD585-N57-2015.07.16-23.36.08_MD585_1_0169"
     ]
    },
    {
     "name": "stderr",
     "output_type": "stream",
     "text": [
      "save: 1.16 seconds\n",
      "locate patches: 0.03 seconds\n",
      "load saturation image: 1.92 seconds\n",
      "extract, reshape, normalize: 6.49 seconds\n",
      "predict: 53.52 seconds\n"
     ]
    },
    {
     "name": "stdout",
     "output_type": "stream",
     "text": [
      "\n",
      "28032 patches in ROI\n",
      "28032 roi samples\n",
      "MD585-IHC57-2015.07.16-18.33.52_MD585_1_0169"
     ]
    },
    {
     "name": "stderr",
     "output_type": "stream",
     "text": [
      "save: 0.97 seconds\n",
      "locate patches: 0.03 seconds\n",
      "load saturation image: 1.91 seconds\n",
      "extract, reshape, normalize: 7.37 seconds\n",
      "predict: 60.78 seconds\n"
     ]
    },
    {
     "name": "stdout",
     "output_type": "stream",
     "text": [
      "\n",
      "31355 patches in ROI\n",
      "31355 roi samples\n",
      "MD585-N57-2015.07.16-23.36.08_MD585_2_0170"
     ]
    },
    {
     "name": "stderr",
     "output_type": "stream",
     "text": [
      "save: 1.08 seconds\n",
      "locate patches: 0.02 seconds\n",
      "load saturation image: 1.83 seconds\n",
      "extract, reshape, normalize: 8.20 seconds\n",
      "predict: 62.95 seconds\n"
     ]
    },
    {
     "name": "stdout",
     "output_type": "stream",
     "text": [
      "\n",
      "32419 patches in ROI\n",
      "32419 roi samples\n",
      "MD585-IHC57-2015.07.16-18.33.52_MD585_2_0170"
     ]
    },
    {
     "name": "stderr",
     "output_type": "stream",
     "text": [
      "save: 1.10 seconds\n",
      "locate patches: 0.02 seconds\n",
      "load saturation image: 2.03 seconds\n",
      "extract, reshape, normalize: 7.49 seconds\n",
      "predict: 59.89 seconds\n"
     ]
    },
    {
     "name": "stdout",
     "output_type": "stream",
     "text": [
      "\n",
      "31073 patches in ROI\n",
      "31073 roi samples\n",
      "MD585-N57-2015.07.16-23.36.08_MD585_3_0171"
     ]
    },
    {
     "name": "stderr",
     "output_type": "stream",
     "text": [
      "save: 1.08 seconds\n",
      "locate patches: 0.02 seconds\n",
      "load saturation image: 1.86 seconds\n",
      "extract, reshape, normalize: 14.48 seconds\n",
      "predict: 63.61 seconds\n"
     ]
    },
    {
     "name": "stdout",
     "output_type": "stream",
     "text": [
      "\n",
      "32189 patches in ROI\n",
      "32189 roi samples\n",
      "MD585-IHC57-2015.07.16-18.33.52_MD585_3_0171"
     ]
    },
    {
     "name": "stderr",
     "output_type": "stream",
     "text": [
      "save: 1.53 seconds\n",
      "locate patches: 0.04 seconds\n",
      "load saturation image: 2.79 seconds\n",
      "extract, reshape, normalize: 12.02 seconds\n",
      "predict: 59.78 seconds\n"
     ]
    },
    {
     "name": "stdout",
     "output_type": "stream",
     "text": [
      "\n",
      "27931 patches in ROI\n",
      "27931 roi samples\n",
      "MD585-N58-2015.07.16-23.40.18_MD585_1_0172"
     ]
    },
    {
     "name": "stderr",
     "output_type": "stream",
     "text": [
      "save: 1.32 seconds\n",
      "locate patches: 0.04 seconds\n",
      "load saturation image: 3.11 seconds\n",
      "extract, reshape, normalize: 15.21 seconds\n",
      "predict: 59.67 seconds\n"
     ]
    },
    {
     "name": "stdout",
     "output_type": "stream",
     "text": [
      "\n",
      "29817 patches in ROI\n",
      "29817 roi samples\n",
      "MD585-IHC58-2015.07.16-18.38.08_MD585_1_0172"
     ]
    },
    {
     "name": "stderr",
     "output_type": "stream",
     "text": [
      "save: 1.51 seconds\n",
      "locate patches: 0.04 seconds\n",
      "load saturation image: 2.92 seconds\n",
      "extract, reshape, normalize: 12.33 seconds\n",
      "predict: 55.49 seconds\n"
     ]
    },
    {
     "name": "stdout",
     "output_type": "stream",
     "text": [
      "\n",
      "27857 patches in ROI\n",
      "27857 roi samples\n",
      "MD585-N58-2015.07.16-23.40.18_MD585_2_0173"
     ]
    },
    {
     "name": "stderr",
     "output_type": "stream",
     "text": [
      "save: 1.25 seconds\n",
      "locate patches: 0.04 seconds\n",
      "load saturation image: 3.01 seconds\n",
      "extract, reshape, normalize: 14.73 seconds\n",
      "predict: 64.60 seconds\n"
     ]
    },
    {
     "name": "stdout",
     "output_type": "stream",
     "text": [
      "\n",
      "32232 patches in ROI\n",
      "32232 roi samples\n",
      "MD585-IHC58-2015.07.16-18.38.08_MD585_2_0173"
     ]
    },
    {
     "name": "stderr",
     "output_type": "stream",
     "text": [
      "save: 1.80 seconds\n",
      "locate patches: 0.04 seconds\n",
      "load saturation image: 2.77 seconds\n",
      "extract, reshape, normalize: 11.06 seconds\n",
      "predict: 54.56 seconds\n",
      "save: 1.17 seconds\n"
     ]
    },
    {
     "name": "stdout",
     "output_type": "stream",
     "text": [
      "\n",
      "27297 patches in ROI\n",
      "27297 roi samples\n",
      "MD585-N58-2015.07.16-23.40.18_MD585_3_0174"
     ]
    },
    {
     "name": "stderr",
     "output_type": "stream",
     "text": [
      "locate patches: 0.04 seconds\n",
      "load saturation image: 2.94 seconds\n",
      "extract, reshape, normalize: 20.98 seconds\n",
      "predict: 57.51 seconds\n"
     ]
    },
    {
     "name": "stdout",
     "output_type": "stream",
     "text": [
      "\n",
      "28365 patches in ROI\n",
      "28365 roi samples\n",
      "MD585-IHC58-2015.07.16-18.38.08_MD585_3_0174\n",
      "28723"
     ]
    },
    {
     "name": "stderr",
     "output_type": "stream",
     "text": [
      "save: 1.52 seconds\n",
      "locate patches: 0.06 seconds\n",
      "load saturation image: 2.65 seconds\n",
      "extract, reshape, normalize: 11.03 seconds\n",
      "predict: 57.15 seconds\n",
      "save: 1.47 seconds\n"
     ]
    },
    {
     "name": "stdout",
     "output_type": "stream",
     "text": [
      " patches in ROI\n",
      "28723 roi samples\n",
      "MD585-N59-2015.07.16-23.44.31_MD585_3_0177"
     ]
    },
    {
     "name": "stderr",
     "output_type": "stream",
     "text": [
      "locate patches: 0.04 seconds\n",
      "load saturation image: 2.71 seconds\n",
      "extract, reshape, normalize: 14.75 seconds\n",
      "predict: 80.07 seconds\n"
     ]
    },
    {
     "name": "stdout",
     "output_type": "stream",
     "text": [
      "\n",
      "38171 patches in ROI\n",
      "38171 roi samples\n",
      "MD585-IHC59-2015.07.16-18.42.14_MD585_1_0175"
     ]
    },
    {
     "name": "stderr",
     "output_type": "stream",
     "text": [
      "save: 1.80 seconds\n",
      "locate patches: 0.04 seconds\n",
      "load saturation image: 3.04 seconds\n",
      "extract, reshape, normalize: 12.13 seconds\n",
      "predict: 59.40 seconds\n"
     ]
    },
    {
     "name": "stdout",
     "output_type": "stream",
     "text": [
      "\n",
      "29697 patches in ROI\n",
      "29697 roi samples\n",
      "MD585-N59-2015.07.16-23.44.31_MD585_2_0176"
     ]
    },
    {
     "name": "stderr",
     "output_type": "stream",
     "text": [
      "save: 1.62 seconds\n",
      "locate patches: 0.04 seconds\n",
      "load saturation image: 2.70 seconds\n",
      "extract, reshape, normalize: 16.06 seconds\n",
      "predict: 68.10 seconds\n"
     ]
    },
    {
     "name": "stdout",
     "output_type": "stream",
     "text": [
      "\n",
      "32769 patches in ROI\n",
      "32769 roi samples\n",
      "MD585-IHC59-2015.07.16-18.42.14_MD585_2_0176"
     ]
    },
    {
     "name": "stderr",
     "output_type": "stream",
     "text": [
      "save: 1.57 seconds\n",
      "locate patches: 0.04 seconds\n",
      "load saturation image: 2.97 seconds\n",
      "extract, reshape, normalize: 13.45 seconds\n",
      "predict: 57.85 seconds\n"
     ]
    },
    {
     "name": "stdout",
     "output_type": "stream",
     "text": [
      "\n",
      "28139 patches in ROI\n",
      "28139 roi samples\n",
      "MD585-N59-2015.07.16-23.44.31_MD585_1_0175"
     ]
    },
    {
     "name": "stderr",
     "output_type": "stream",
     "text": [
      "save: 1.37 seconds\n",
      "locate patches: 0.04 seconds\n"
     ]
    },
    {
     "name": "stdout",
     "output_type": "stream",
     "text": [
      "\n",
      "32952 patches in ROI\n",
      "32952"
     ]
    },
    {
     "name": "stderr",
     "output_type": "stream",
     "text": [
      "load saturation image: 2.75 seconds\n",
      "extract, reshape, normalize: 12.62 seconds\n",
      "predict: 67.86 seconds\n",
      "save: 1.39 seconds\n"
     ]
    },
    {
     "name": "stdout",
     "output_type": "stream",
     "text": [
      " roi samples\n",
      "MD585-IHC59-2015.07.16-18.42.14_MD585_3_0177"
     ]
    },
    {
     "name": "stderr",
     "output_type": "stream",
     "text": [
      "locate patches: 0.04 seconds\n",
      "load saturation image: 3.36 seconds\n",
      "extract, reshape, normalize: 12.96 seconds\n",
      "predict: 61.37 seconds\n"
     ]
    },
    {
     "name": "stdout",
     "output_type": "stream",
     "text": [
      "\n",
      "28441 patches in ROI\n",
      "28441 roi samples\n",
      "MD585-N60-2015.07.16-23.48.44_MD585_1_0178"
     ]
    },
    {
     "name": "stderr",
     "output_type": "stream",
     "text": [
      "save: 1.54 seconds\n",
      "locate patches: 0.04 seconds\n",
      "load saturation image: 3.05 seconds\n",
      "extract, reshape, normalize: 12.10 seconds\n",
      "predict: 61.59 seconds\n"
     ]
    },
    {
     "name": "stdout",
     "output_type": "stream",
     "text": [
      "\n",
      "30882 patches in ROI\n",
      "30882 roi samples\n",
      "MD585-IHC60-2015.08.19-15.25.07_MD585_1_0178\n",
      "30269"
     ]
    },
    {
     "name": "stderr",
     "output_type": "stream",
     "text": [
      "save: 1.53 seconds\n",
      "locate patches: 0.05 seconds\n",
      "load saturation image: 2.96 seconds\n",
      "extract, reshape, normalize: 20.28 seconds\n",
      "predict: 65.37 seconds\n",
      "save: 1.49 seconds\n"
     ]
    },
    {
     "name": "stdout",
     "output_type": "stream",
     "text": [
      " patches in ROI\n",
      "30269 roi samples\n",
      "MD585-N60-2015.07.16-23.48.44_MD585_2_0179\n",
      "30943"
     ]
    },
    {
     "name": "stderr",
     "output_type": "stream",
     "text": [
      "locate patches: 0.04 seconds\n",
      "load saturation image: 3.06 seconds\n",
      "extract, reshape, normalize: 13.03 seconds\n",
      "predict: 63.34 seconds\n"
     ]
    },
    {
     "name": "stdout",
     "output_type": "stream",
     "text": [
      " patches in ROI\n",
      "30943 roi samples\n",
      "MD585-IHC60-2015.08.19-15.25.07_MD585_2_0179"
     ]
    },
    {
     "name": "stderr",
     "output_type": "stream",
     "text": [
      "save: 1.51 seconds\n",
      "locate patches: 0.04 seconds\n",
      "load saturation image: 2.69 seconds\n",
      "extract, reshape, normalize: 14.20 seconds\n",
      "predict: 61.11 seconds\n"
     ]
    },
    {
     "name": "stdout",
     "output_type": "stream",
     "text": [
      "\n",
      "30111 patches in ROI\n",
      "30111 roi samples\n",
      "MD585-N60-2015.07.16-23.48.44_MD585_3_0180\n",
      "31856"
     ]
    },
    {
     "name": "stderr",
     "output_type": "stream",
     "text": [
      "save: 1.55 seconds\n",
      "locate patches: 0.04 seconds\n",
      "load saturation image: 3.12 seconds\n",
      "extract, reshape, normalize: 14.92 seconds\n",
      "predict: 64.93 seconds\n",
      "save: 1.60 seconds\n"
     ]
    },
    {
     "name": "stdout",
     "output_type": "stream",
     "text": [
      " patches in ROI\n",
      "31856 roi samples\n",
      "MD585-IHC60-2015.08.19-15.25.07_MD585_3_0180\n",
      "30266"
     ]
    },
    {
     "name": "stderr",
     "output_type": "stream",
     "text": [
      "locate patches: 0.05 seconds\n",
      "load saturation image: 2.75 seconds\n",
      "extract, reshape, normalize: 12.51 seconds\n",
      "predict: 60.47 seconds\n"
     ]
    },
    {
     "name": "stdout",
     "output_type": "stream",
     "text": [
      " patches in ROI\n",
      "30266 roi samples\n",
      "MD585-N61-2015.07.16-23.52.50_MD585_1_0181\n",
      "28333"
     ]
    },
    {
     "name": "stderr",
     "output_type": "stream",
     "text": [
      "save: 1.33 seconds\n",
      "locate patches: 0.04 seconds\n",
      "load saturation image: 3.21 seconds\n",
      "extract, reshape, normalize: 11.76 seconds\n",
      "predict: 57.79 seconds\n",
      "save: 1.44 seconds\n"
     ]
    },
    {
     "name": "stdout",
     "output_type": "stream",
     "text": [
      " patches in ROI\n",
      "28333 roi samples\n",
      "MD585-IHC61-2015.07.16-18.50.40_MD585_3_0183"
     ]
    },
    {
     "name": "stderr",
     "output_type": "stream",
     "text": [
      "locate patches: 0.04 seconds\n",
      "load saturation image: 2.75 seconds\n",
      "extract, reshape, normalize: 14.79 seconds\n",
      "predict: 66.75 seconds\n"
     ]
    },
    {
     "name": "stdout",
     "output_type": "stream",
     "text": [
      "\n",
      "32911 patches in ROI\n",
      "32911 roi samples\n",
      "MD585-N61-2015.07.16-23.52.50_MD585_2_0182\n",
      "35677"
     ]
    },
    {
     "name": "stderr",
     "output_type": "stream",
     "text": [
      "save: 1.69 seconds\n",
      "locate patches: 0.04 seconds\n",
      "load saturation image: 2.82 seconds\n",
      "extract, reshape, normalize: 23.66 seconds\n",
      "predict: 80.84 seconds\n",
      "save: 1.76 seconds\n"
     ]
    },
    {
     "name": "stdout",
     "output_type": "stream",
     "text": [
      " patches in ROI\n",
      "35677 roi samples\n",
      "MD585-IHC61-2015.07.16-18.50.40_MD585_2_0182\n",
      "30528"
     ]
    },
    {
     "name": "stderr",
     "output_type": "stream",
     "text": [
      "locate patches: 0.05 seconds\n",
      "load saturation image: 2.87 seconds\n",
      "extract, reshape, normalize: 16.12 seconds\n",
      "predict: 62.02 seconds\n"
     ]
    },
    {
     "name": "stdout",
     "output_type": "stream",
     "text": [
      " patches in ROI\n",
      "30528 roi samples\n"
     ]
    },
    {
     "name": "stderr",
     "output_type": "stream",
     "text": [
      "save: 1.41 seconds\n"
     ]
    }
   ],
   "source": [
    "# for stack in all_stacks:\n",
    "\n",
    "# for stack in ['MD594']:\n",
    "for stack in ['MD585']:\n",
    "    \n",
    "    filename_to_section, section_to_filename = DataManager.load_sorted_filenames(stack)\n",
    "\n",
    "    print stack\n",
    "\n",
    "    image_width, image_height = DataManager.get_image_dimension(stack)\n",
    "    grid_spec = (patch_size, stride, image_width, image_height)\n",
    "\n",
    "    sample_locations = grid_parameters_to_sample_locations(grid_spec=grid_spec)\n",
    "\n",
    "    first_detect_sec, last_detect_sec = DataManager.load_cropbox(stack)[4:]\n",
    "\n",
    "    bar = show_progress_bar(first_detect_sec, last_detect_sec)\n",
    "\n",
    "    for sec in range(first_detect_sec, last_detect_sec+1):\n",
    "#     for sec in range(first_detect_sec, first_detect_sec+1):\n",
    "\n",
    "        fn = section_to_filename[sec]\n",
    "        if fn in ['Placeholder', 'Rescan', 'Nonexisting']:\n",
    "            continue\n",
    "            \n",
    "        print fn\n",
    "            \n",
    "        output_dir = create_if_not_exists(os.path.join(patch_features_rootdir, stack, fn))\n",
    "        output_indices_fn = os.path.join(output_dir, '%(fn)s_indices_locations.txt' % {'fn': fn})\n",
    "        if os.path.exists(output_indices_fn):\n",
    "            continue\n",
    "    \n",
    "        bar.value = sec\n",
    "\n",
    "#         mask_tb = DataManager.load_thumbnail_mask(stack=stack, section=sec, cerebellum_removed=True)\n",
    "        mask_tb = DataManager.load_thumbnail_mask_v2(stack=stack, section=sec)\n",
    "\n",
    "        t = time.time()\n",
    "        indices_roi = locate_patches(grid_spec=grid_spec, mask_tb=mask_tb, bbox=(0,0, image_width, image_height))\n",
    "        sys.stderr.write('locate patches: %.2f seconds\\n' % (time.time() - t))\n",
    "\n",
    "        n = len(indices_roi)\n",
    "        print n, 'roi samples'\n",
    "\n",
    "        sample_locations_roi = sample_locations[indices_roi]\n",
    "\n",
    "        ##################################\n",
    "\n",
    "        t = time.time()\n",
    "\n",
    "        sat = imread(DataManager.get_image_filepath(stack=stack, section=sec, version='saturation'))\n",
    "\n",
    "        sys.stderr.write('load saturation image: %.2f seconds\\n' % (time.time() - t)) # ~ 2s\n",
    "\n",
    "\n",
    "        t = time.time()\n",
    "\n",
    "#         patches = np.array([sat[y-half_size:y+half_size, x-half_size:x+half_size].copy()\n",
    "#                             for x, y in sample_locations_roi]) # n x 224 x 224\n",
    "\n",
    "        patches = np.array([sat[y-half_size:y+half_size, x-half_size:x+half_size]\n",
    "                            for x, y in sample_locations_roi]) # n x 224 x 224\n",
    "        \n",
    "        patches_mean_subtracted = patches - mean_img\n",
    "        \n",
    "        patches_mean_subtracted_input = patches_mean_subtracted[:, None, :, :] # n x 1 x 224 x 224\n",
    "        #         patches = np.rollaxis(patches2, 3, 1)\n",
    "\n",
    "        sys.stderr.write('extract, reshape, normalize: %.2f seconds\\n' % (time.time() - t)) # ~ 4s / 20k patches\n",
    "\n",
    "        batch_size = 256 # increasing to 500 does not save any time\n",
    "#         batch_size = 16 # increasing to 500 does not save any time\n",
    "\n",
    "        data_iter = mx.io.NDArrayIter(\n",
    "            patches_mean_subtracted_input, \n",
    "            np.zeros((n, ), np.int), # labels are not important since it is just feed-forward\n",
    "            batch_size = batch_size,\n",
    "            shuffle=False\n",
    "        )\n",
    "\n",
    "        t = time.time()\n",
    "        \n",
    "        features = model.predict(data_iter)\n",
    "        \n",
    "        sys.stderr.write('predict: %.2f seconds\\n' % (time.time() - t))\n",
    "        # The first time CUDA needs to load model, which is very slow ~350s, but later runs are faster ~90s\n",
    "        \n",
    "    # Had to modify [model]-symbol.json according to this https://github.com/dmlc/mxnet/issues/2718\n",
    "    \n",
    "    # Out of memory after about 20 sections - had to modify storage code according to https://github.com/dmlc/mxnet/issues/3055\n",
    "    #    - don't think increasing kPoolThreshold to over 4GB will be beneficial, \n",
    "    # since the computation time is similar to before limiting the pool, computation is most likely compute-bound.\n",
    "    # Issue solved by developers.\n",
    "        \n",
    "        t = time.time()\n",
    "        \n",
    "        output_dir = create_if_not_exists(os.path.join(patch_features_rootdir, stack, \n",
    "                                   '%(fn)s_lossless_alignedTo_%(anchor_fn)s_cropped' % dict(fn=fn, anchor_fn=anchor_fn)))\n",
    "\n",
    "        output_indices_fn = os.path.join(output_dir, '%(fn)s_lossless_alignedTo_%(anchor_fn)s_cropped_patch_locations.txt' % \\\n",
    "                                         dict(fn=fn, anchor_fn=anchor_fn))\n",
    "        np.savetxt(output_indices_fn, np.c_[indices_roi, sample_locations_roi], fmt='%d %d %d')\n",
    "        \n",
    "        output_features_fn = os.path.join(output_dir, '%(fn)s_lossless_alignedTo_%(anchor_fn)s_cropped_features.hdf' % \\\n",
    "                                         dict(fn=fn, anchor_fn=anchor_fn))\n",
    "        save_hdf(features.astype(np.float16), output_features_fn) # bloscpack produces files of similar size\n",
    "        \n",
    "        sys.stderr.write('save: %.2f seconds\\n' % (time.time() - t)) # ~.5s"
   ]
  },
  {
   "cell_type": "code",
   "execution_count": null,
   "metadata": {
    "collapsed": true
   },
   "outputs": [],
   "source": []
  },
  {
   "cell_type": "code",
   "execution_count": null,
   "metadata": {
    "collapsed": true
   },
   "outputs": [],
   "source": [
    "# Create symbolic links"
   ]
  },
  {
   "cell_type": "code",
   "execution_count": 43,
   "metadata": {
    "collapsed": false
   },
   "outputs": [],
   "source": [
    "patch_features_sorted_rootdir = '/home/yuncong/CSHL_patch_features_Sat16ClassFinetuned_v2_sorted'"
   ]
  },
  {
   "cell_type": "code",
   "execution_count": 44,
   "metadata": {
    "collapsed": false
   },
   "outputs": [
    {
     "name": "stdout",
     "output_type": "stream",
     "text": [
      "mkdir /home/yuncong/CSHL_patch_features_Sat16ClassFinetuned_v2_sorted;cd /home/yuncong/CSHL_patch_features_Sat16ClassFinetuned_v2_sorted &&rm -rf MD594 &&mkdir MD594\n"
     ]
    },
    {
     "name": "stderr",
     "output_type": "stream",
     "text": [
      "Child returned 0\n"
     ]
    }
   ],
   "source": [
    "cmd = ('mkdir %(patch_features_sorted_rootdir)s;'\n",
    "       'cd %(patch_features_sorted_rootdir)s &&'\n",
    "        'rm -rf %(stack)s &&'\n",
    "      'mkdir %(stack)s') % \\\n",
    "        dict(stack=stack, patch_features_sorted_rootdir=patch_features_sorted_rootdir)\n",
    "execute_command(cmd)"
   ]
  },
  {
   "cell_type": "code",
   "execution_count": 75,
   "metadata": {
    "collapsed": false
   },
   "outputs": [],
   "source": [
    "# for stack in ['MD585', 'MD589', 'MD594']:\n",
    "    \n",
    "#     execute_command('cd %(patch_features_sorted_rootdir)s && rm -rf %(stack)s && mkdir %(stack)s;' % \\\n",
    "#                dict(stack=stack, patch_features_sorted_rootdir=patch_features_sorted_rootdir))\n",
    "\n",
    "#     filename_to_section, section_to_filename = DataManager.load_sorted_filenames(stack)\n",
    "\n",
    "#     for sec, fn in section_to_filename.iteritems():\n",
    "\n",
    "#         if fn in ['Placeholder', 'Nonexisting', 'Rescan']:\n",
    "#             continue\n",
    "    \n",
    "#         cmd = ('cd %(patch_features_sorted_rootdir)s/%(stack)s && mkdir %(stack)s_%(sec)04d_lossless_aligned_cropped; '\n",
    "#     'ln -s %(patch_features_unsorted_rootdir_relpath)s/%(stack)s/%(fn)s_lossless_alignedTo_%(anchor_fn)s_cropped/%(fn)s_lossless_alignedTo_%(anchor_fn)s_cropped_features.hdf '\n",
    "#     '%(stack)s_%(sec)04d_lossless_aligned_cropped/%(stack)s_%(sec)04d_lossless_aligned_cropped_features.hdf && '\n",
    "#     'ln -s %(patch_features_unsorted_rootdir_relpath)s/%(stack)s/%(fn)s_lossless_alignedTo_%(anchor_fn)s_cropped/%(fn)s_lossless_alignedTo_%(anchor_fn)s_cropped_patch_locations.txt '\n",
    "#     '%(stack)s_%(sec)04d_lossless_aligned_cropped/%(stack)s_%(sec)04d_lossless_aligned_cropped_patch_locations.txt') % \\\n",
    "#                 dict(stack=stack, sec=sec, anchor_fn=anchor_fn, fn=fn,\n",
    "#                     patch_features_unsorted_rootdir_relpath='../../../CSHL_patch_features_Sat16ClassFinetuned_v2',\n",
    "#                     patch_features_sorted_rootdir=patch_features_sorted_rootdir)\n",
    "#         execute_command(cmd)"
   ]
  },
  {
   "cell_type": "code",
   "execution_count": null,
   "metadata": {
    "collapsed": true
   },
   "outputs": [],
   "source": []
  },
  {
   "cell_type": "code",
   "execution_count": null,
   "metadata": {
    "collapsed": true
   },
   "outputs": [],
   "source": [
    "# Sync with Gordon"
   ]
  },
  {
   "cell_type": "code",
   "execution_count": null,
   "metadata": {
    "collapsed": true
   },
   "outputs": [],
   "source": [
    "cmd = 'cd /home/yuncong/CSHL_patch_predictions/%(stack)s; rsync -r . yuncong@oasis-dm.sdsc.edu:/home/yuncong/csd395/CSHL_patch_features/%(stack)s' % \\\n",
    "{'stack': stack}\n",
    "\n",
    "os.system(cmd)"
   ]
  },
  {
   "cell_type": "code",
   "execution_count": null,
   "metadata": {
    "collapsed": true
   },
   "outputs": [],
   "source": [
    "cmd = 'cd /home/yuncong/CSHL_patch_features_Sat16ClassFinetuned/%(stack)s/; \\\n",
    "rsync -r . yuncong@oasis-dm.sdsc.edu:/home/yuncong/csd395/CSHL_patch_features_Sat16ClassFinetuned/%(stack)s' % \\\n",
    "{'stack': stack}\n",
    "\n",
    "os.system(cmd)"
   ]
  },
  {
   "cell_type": "code",
   "execution_count": null,
   "metadata": {
    "collapsed": false,
    "scrolled": true
   },
   "outputs": [],
   "source": [
    "# for stack in ['MD593', 'MD602', 'MD592', 'MD585', 'MD590', 'MD591', 'MD595', 'MD598']:\n",
    "# # for stack in ['MD589']:\n",
    "    \n",
    "#     if stack in ['MD589', 'MD594']:\n",
    "#         stack_has_annotation = True\n",
    "#     else:\n",
    "#         stack_has_annotation = False\n",
    "\n",
    "#     dm = DataManager(stack=stack, data_dir='/media/yuncong/BstemAtlasData/CSHL_data_processed')\n",
    "\n",
    "#     table_filepath = os.path.join(patches_rootdir, '%(stack)s_indices_allROIs_allSections.h5'%{'stack':stack})\n",
    "#     indices_allROIs_allSections = pd.read_hdf(table_filepath, 'indices_allROIs_allSections')\n",
    "#     grid_parameters = pd.read_hdf(table_filepath, 'grid_parameters')\n",
    "    \n",
    "#     patch_size, stride, w, h = grid_parameters.tolist()\n",
    "#     half_size = patch_size/2\n",
    "#     ys, xs = np.meshgrid(np.arange(half_size, h-half_size, stride), np.arange(half_size, w-half_size, stride),\n",
    "#                      indexing='xy')\n",
    "#     sample_locations = np.c_[xs.flat, ys.flat]\n",
    "    \n",
    "#     if stack_has_annotation:\n",
    "#         table_filepath = os.path.join(patches_rootdir, '%(stack)s_indices_allLandmarks_allSections.h5'%{'stack':stack})\n",
    "#         indices_allLandmarks_allSections = pd.read_hdf(table_filepath, 'indices_allLandmarks_allSections')\n",
    "\n",
    "#     first_detect_sec, last_detect_sec = detect_bbox_range_lookup[stack]\n",
    "    \n",
    "#     bar = show_progress_bar(first_detect_sec, last_detect_sec)\n",
    "    \n",
    "#     for sec in range(first_detect_sec, last_detect_sec+1):\n",
    "# #     for sec in range(first_detect_sec, first_detect_sec+10):\n",
    "# #     for sec in range(first_detect_sec, first_detect_sec+1):\n",
    "        \n",
    "#         if sec not in indices_allROIs_allSections.columns:\n",
    "#             continue\n",
    "            \n",
    "#         bar.value = sec\n",
    "                \n",
    "#         indices_roi = indices_allROIs_allSections[sec]['roi1']\n",
    "        \n",
    "#         n = len(indices_roi)\n",
    "#         print n, 'roi samples'\n",
    "        \n",
    "#         ######################\n",
    "#         t = time.time()\n",
    "        \n",
    "#         true_labels = -1 * np.ones((99999,), np.int)\n",
    "#         if stack_has_annotation:\n",
    "#             if sec in indices_allLandmarks_allSections:\n",
    "#                 for l in indices_allLandmarks_allSections[sec].dropna().keys() & labels_surroundIncluded:\n",
    "#                     true_labels[indices_allLandmarks_allSections[sec][l]] = labels_surroundIncluded_index[l]\n",
    "#         patch_labels = true_labels[indices_roi]\n",
    "        \n",
    "#         create_if_not_exists(test_features_rootdir + '/%(stack)s/%(sec)04d' % {'stack': stack, 'sec': sec})\n",
    "#         np.save(test_features_rootdir + '/%(stack)s/%(sec)04d/%(stack)s_%(sec)04d_roi1_labels.npy' % \\\n",
    "#                 {'stack': stack, 'sec': sec}, \n",
    "#                 patch_labels)\n",
    "        \n",
    "#         sys.stderr.write('get true labels: %.2f seconds\\n' % (time.time() - t)) # ~ 0s\n",
    "                \n",
    "#         ######################\n",
    "        \n",
    "#         sample_locations_roi = sample_locations[indices_roi]\n",
    "\n",
    "#         t = time.time()\n",
    "        \n",
    "#         sat = imread(sat_rootdir + '/%(stack)s_saturation/%(stack)s_%(sec)04d_sat.jpg' % {'stack': stack, 'sec': sec})\n",
    "            \n",
    "#         sys.stderr.write('load saturation image: %.2f seconds\\n' % (time.time() - t)) # ~ 2s\n",
    "    \n",
    "#         t = time.time()\n",
    "    \n",
    "#         patches = np.array([sat[y-half_size:y+half_size, x-half_size:x+half_size]\n",
    "#                             for x, y in sample_locations_roi]) # n x 224 x 224\n",
    "#         patches = patches - mean_img\n",
    "#         patches = patches[:, None, :, :] # n x 1 x 224 x 224\n",
    "# #         patches = np.rollaxis(patches2, 3, 1)\n",
    "    \n",
    "#         sys.stderr.write('extract, reshape, normalize: %.2f seconds\\n' % (time.time() - t)) # ~ 6s\n",
    "        \n",
    "#         batch_size = 256 # increasing to 500 does not save any time\n",
    "\n",
    "#         data_iter = mx.io.NDArrayIter(\n",
    "#             patches, \n",
    "#             np.zeros((n, ), np.int), # labels are not important since it is just feed-forward\n",
    "#             batch_size = batch_size,\n",
    "#             shuffle=False\n",
    "#         )\n",
    "\n",
    "#         t = time.time()\n",
    "\n",
    "#         features = model.predict(data_iter)\n",
    "        \n",
    "#         sys.stderr.write('predict: %.2f seconds\\n' % (time.time() - t)) # ~40s\n",
    "        \n",
    "#         t = time.time()\n",
    "        \n",
    "#         save_hdf(features, test_features_rootdir + '/%(stack)s/%(sec)04d/%(stack)s_%(sec)04d_roi1_features.hdf' % \\\n",
    "#                  {'stack': stack, 'sec': sec})\n",
    "        \n",
    "#         sys.stderr.write('save: %.2f seconds\\n' % (time.time() - t)) # ~.5s\n",
    "        \n",
    "#         del sat, patches, sample_locations_roi, features\n",
    "                \n",
    "#     del sample_locations\n"
   ]
  },
  {
   "cell_type": "code",
   "execution_count": null,
   "metadata": {
    "collapsed": true
   },
   "outputs": [],
   "source": []
  }
 ],
 "metadata": {
  "kernelspec": {
   "display_name": "Python 2",
   "language": "python",
   "name": "python2"
  },
  "language_info": {
   "codemirror_mode": {
    "name": "ipython",
    "version": 2
   },
   "file_extension": ".py",
   "mimetype": "text/x-python",
   "name": "python",
   "nbconvert_exporter": "python",
   "pygments_lexer": "ipython2",
   "version": "2.7.6"
  }
 },
 "nbformat": 4,
 "nbformat_minor": 0
}
