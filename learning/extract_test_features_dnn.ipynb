{
 "cells": [
  {
   "cell_type": "code",
   "execution_count": 1,
   "metadata": {
    "collapsed": false,
    "scrolled": true
   },
   "outputs": [
    {
     "name": "stdout",
     "output_type": "stream",
     "text": [
      "Setting environment for Precision WorkStation\n"
     ]
    },
    {
     "name": "stderr",
     "output_type": "stream",
     "text": [
      "No vtk\n"
     ]
    }
   ],
   "source": [
    "%load_ext autoreload\n",
    "%autoreload 2\n",
    "\n",
    "import numpy as np\n",
    "\n",
    "import sys\n",
    "import os\n",
    "\n",
    "sys.path.append(os.environ['REPO_DIR'] + '/utilities')\n",
    "from utilities2015 import *\n",
    "from metadata import *\n",
    "from data_manager import *\n",
    "\n",
    "from learning_utilities import *\n",
    "\n",
    "import matplotlib.pyplot as plt\n",
    "%matplotlib inline\n",
    "\n",
    "import mxnet as mx\n",
    "\n",
    "from joblib import Parallel, delayed\n",
    "import time"
   ]
  },
  {
   "cell_type": "code",
   "execution_count": 2,
   "metadata": {
    "collapsed": true
   },
   "outputs": [],
   "source": [
    "# patches_rootdir = '/home/yuncong/CSHL_data_patches/'\n",
    "model_dir = '/home/yuncong/mxnet_models/'"
   ]
  },
  {
   "cell_type": "code",
   "execution_count": 3,
   "metadata": {
    "collapsed": true
   },
   "outputs": [],
   "source": [
    "model_name = 'Sat16ClassFinetuned'"
   ]
  },
  {
   "cell_type": "code",
   "execution_count": 4,
   "metadata": {
    "collapsed": false
   },
   "outputs": [],
   "source": [
    "# mean_img = mx.nd.load(os.path.join(model_dir, 'mean_224.nd'))['mean_img'].asnumpy()\n",
    "mean_img = np.load(os.path.join(model_dir, model_name, 'saturation_mean_224.npy'))"
   ]
  },
  {
   "cell_type": "code",
   "execution_count": 5,
   "metadata": {
    "collapsed": false,
    "scrolled": true
   },
   "outputs": [],
   "source": [
    "model_iteration = 10\n",
    "\n",
    "model0 = mx.model.FeedForward.load(os.path.join(model_dir, model_name, model_name), model_iteration, ctx=mx.gpu())\n",
    "\n",
    "flatten_output = model0.symbol.get_internals()['flatten_output']\n",
    "\n",
    "model = mx.model.FeedForward(ctx=mx.gpu(), symbol=flatten_output, num_epoch=model_iteration,\n",
    "                            arg_params=model0.arg_params, aux_params=model0.aux_params,\n",
    "                            allow_extra_params=True)"
   ]
  },
  {
   "cell_type": "code",
   "execution_count": 6,
   "metadata": {
    "collapsed": false
   },
   "outputs": [],
   "source": [
    "# model_name = 'Inception'\n",
    "# model_iteration = 9\n",
    "# model0 = mx.model.FeedForward.load(os.path.join(model_dir, 'inception-21k', model_name), model_iteration, ctx=mx.gpu())\n",
    "# flatten_output = model0.symbol.get_internals()['flatten_output']"
   ]
  },
  {
   "cell_type": "code",
   "execution_count": 7,
   "metadata": {
    "collapsed": true
   },
   "outputs": [],
   "source": [
    "# a = mx.viz.plot_network(flatten_output, shape={\"data\":(1, 1, 224, 224)}, node_attrs={\"shape\":'rect',\"fixedsize\":'false'})\n",
    "# a.render(model_name)"
   ]
  },
  {
   "cell_type": "code",
   "execution_count": 8,
   "metadata": {
    "collapsed": false
   },
   "outputs": [],
   "source": [
    "patch_features_rootdir = create_if_not_exists('/media/yuncong/BstemAtlasData/CSHL_patch_features_%(model_name)s_v2' % {'model_name': model_name})"
   ]
  },
  {
   "cell_type": "code",
   "execution_count": 9,
   "metadata": {
    "collapsed": true
   },
   "outputs": [],
   "source": [
    "patch_size = 224\n",
    "half_size = patch_size/2\n",
    "stride = 56"
   ]
  },
  {
   "cell_type": "code",
   "execution_count": 11,
   "metadata": {
    "collapsed": false,
    "scrolled": true
   },
   "outputs": [
    {
     "name": "stdout",
     "output_type": "stream",
     "text": [
      "MD635\n",
      "MD635-F25-2016.05.18-21.02.30_MD635_3_0075\n",
      "29145"
     ]
    },
    {
     "name": "stderr",
     "output_type": "stream",
     "text": [
      "locate patches: 0.04 seconds\n",
      "load saturation image: 18.72 seconds\n",
      "extract, reshape, normalize: 9.14 seconds\n",
      "predict: 52.19 seconds\n"
     ]
    },
    {
     "name": "stdout",
     "output_type": "stream",
     "text": [
      " patches in ROI\n",
      "29145 roi samples\n",
      "MD635-F26-2016.05.18-21.16.59_MD635_1_0076"
     ]
    },
    {
     "name": "stderr",
     "output_type": "stream",
     "text": [
      "save: 2.04 seconds\n",
      "locate patches: 0.04 seconds\n",
      "load saturation image: 21.64 seconds\n",
      "extract, reshape, normalize: 5.51 seconds\n",
      "predict: 54.96 seconds\n"
     ]
    },
    {
     "name": "stdout",
     "output_type": "stream",
     "text": [
      "\n",
      "29208 patches in ROI\n",
      "29208 roi samples\n",
      "MD635-F26-2016.05.18-21.16.59_MD635_2_0077"
     ]
    },
    {
     "name": "stderr",
     "output_type": "stream",
     "text": [
      "save: 2.01 seconds\n",
      "locate patches: 0.04 seconds\n",
      "load saturation image: 20.75 seconds\n",
      "extract, reshape, normalize: 5.93 seconds\n",
      "predict: 54.71 seconds\n"
     ]
    },
    {
     "name": "stdout",
     "output_type": "stream",
     "text": [
      "\n",
      "29035 patches in ROI\n",
      "29035 roi samples\n",
      "MD635-F26-2016.05.18-21.16.59_MD635_3_0078"
     ]
    },
    {
     "name": "stderr",
     "output_type": "stream",
     "text": [
      "save: 2.01 seconds\n",
      "locate patches: 0.04 seconds\n",
      "load saturation image: 19.55 seconds\n",
      "extract, reshape, normalize: 5.76 seconds\n",
      "predict: 55.85 seconds\n"
     ]
    },
    {
     "name": "stdout",
     "output_type": "stream",
     "text": [
      "\n",
      "29582 patches in ROI\n",
      "29582 roi samples\n",
      "MD635-F27-2016.05.18-21.31.38_MD635_1_0079"
     ]
    },
    {
     "name": "stderr",
     "output_type": "stream",
     "text": [
      "save: 1.99 seconds\n",
      "locate patches: 0.04 seconds\n",
      "load saturation image: 23.02 seconds\n",
      "extract, reshape, normalize: 5.90 seconds\n",
      "predict: 56.79 seconds\n"
     ]
    },
    {
     "name": "stdout",
     "output_type": "stream",
     "text": [
      "\n",
      "30092 patches in ROI\n",
      "30092 roi samples\n",
      "MD635-F27-2016.05.18-21.31.38_MD635_2_0080"
     ]
    },
    {
     "name": "stderr",
     "output_type": "stream",
     "text": [
      "save: 2.09 seconds\n",
      "locate patches: 0.04 seconds\n",
      "load saturation image: 19.44 seconds\n",
      "extract, reshape, normalize: 5.72 seconds\n",
      "predict: 57.86 seconds\n"
     ]
    },
    {
     "name": "stdout",
     "output_type": "stream",
     "text": [
      "\n",
      "30493 patches in ROI\n",
      "30493 roi samples\n",
      "MD635-F27-2016.05.18-21.31.38_MD635_3_0081"
     ]
    },
    {
     "name": "stderr",
     "output_type": "stream",
     "text": [
      "save: 2.08 seconds\n",
      "locate patches: 0.04 seconds\n",
      "load saturation image: 18.16 seconds\n",
      "extract, reshape, normalize: 6.16 seconds\n",
      "predict: 59.48 seconds\n"
     ]
    },
    {
     "name": "stdout",
     "output_type": "stream",
     "text": [
      "\n",
      "30796 patches in ROI\n",
      "30796 roi samples\n",
      "MD635-F28-2016.05.18-21.46.26_MD635_1_0082"
     ]
    },
    {
     "name": "stderr",
     "output_type": "stream",
     "text": [
      "save: 2.12 seconds\n",
      "locate patches: 0.03 seconds\n",
      "load saturation image: 20.29 seconds\n",
      "extract, reshape, normalize: 5.14 seconds\n",
      "predict: 51.46 seconds\n"
     ]
    },
    {
     "name": "stdout",
     "output_type": "stream",
     "text": [
      "\n",
      "27169 patches in ROI\n",
      "27169 roi samples\n",
      "MD635-F28-2016.05.18-21.46.26_MD635_2_0083"
     ]
    },
    {
     "name": "stderr",
     "output_type": "stream",
     "text": [
      "save: 1.84 seconds\n",
      "locate patches: 0.03 seconds\n",
      "load saturation image: 21.50 seconds\n",
      "extract, reshape, normalize: 6.02 seconds\n",
      "predict: 58.84 seconds\n"
     ]
    },
    {
     "name": "stdout",
     "output_type": "stream",
     "text": [
      "\n",
      "30823 patches in ROI\n",
      "30823 roi samples\n",
      "MD635-F28-2016.05.18-21.46.26_MD635_3_0084"
     ]
    },
    {
     "name": "stderr",
     "output_type": "stream",
     "text": [
      "save: 2.09 seconds\n",
      "locate patches: 0.04 seconds\n",
      "load saturation image: 19.50 seconds\n",
      "extract, reshape, normalize: 5.96 seconds\n",
      "predict: 59.87 seconds\n"
     ]
    },
    {
     "name": "stdout",
     "output_type": "stream",
     "text": [
      "\n",
      "31271 patches in ROI\n",
      "31271 roi samples\n",
      "MD635-F29-2016.05.18-22.01.14_MD635_1_0085"
     ]
    },
    {
     "name": "stderr",
     "output_type": "stream",
     "text": [
      "save: 2.13 seconds\n",
      "locate patches: 0.04 seconds\n",
      "load saturation image: 21.06 seconds\n",
      "extract, reshape, normalize: 5.90 seconds\n",
      "predict: 59.80 seconds\n"
     ]
    },
    {
     "name": "stdout",
     "output_type": "stream",
     "text": [
      "\n",
      "31335 patches in ROI\n",
      "31335 roi samples\n",
      "MD635-F29-2016.05.18-22.01.14_MD635_2_0086"
     ]
    },
    {
     "name": "stderr",
     "output_type": "stream",
     "text": [
      "save: 2.16 seconds\n",
      "locate patches: 0.04 seconds\n",
      "load saturation image: 21.53 seconds\n",
      "extract, reshape, normalize: 6.57 seconds\n",
      "predict: 60.24 seconds\n"
     ]
    },
    {
     "name": "stdout",
     "output_type": "stream",
     "text": [
      "\n",
      "31683 patches in ROI\n",
      "31683 roi samples\n",
      "MD635-F29-2016.05.18-22.01.14_MD635_3_0087"
     ]
    },
    {
     "name": "stderr",
     "output_type": "stream",
     "text": [
      "save: 2.13 seconds\n",
      "locate patches: 0.03 seconds\n",
      "load saturation image: 19.00 seconds\n",
      "extract, reshape, normalize: 6.05 seconds\n",
      "predict: 60.96 seconds\n"
     ]
    },
    {
     "name": "stdout",
     "output_type": "stream",
     "text": [
      "\n",
      "31928 patches in ROI\n",
      "31928 roi samples\n",
      "MD635-F30-2016.05.18-22.15.39_MD635_1_0088"
     ]
    },
    {
     "name": "stderr",
     "output_type": "stream",
     "text": [
      "save: 2.22 seconds\n",
      "locate patches: 0.04 seconds\n",
      "load saturation image: 22.36 seconds\n",
      "extract, reshape, normalize: 6.16 seconds\n",
      "predict: 61.39 seconds\n"
     ]
    },
    {
     "name": "stdout",
     "output_type": "stream",
     "text": [
      "\n",
      "32093 patches in ROI\n",
      "32093 roi samples\n",
      "MD635-F30-2016.05.18-22.15.39_MD635_2_0089"
     ]
    },
    {
     "name": "stderr",
     "output_type": "stream",
     "text": [
      "save: 2.17 seconds\n",
      "locate patches: 0.04 seconds\n",
      "load saturation image: 20.39 seconds\n",
      "extract, reshape, normalize: 6.31 seconds\n",
      "predict: 62.21 seconds\n"
     ]
    },
    {
     "name": "stdout",
     "output_type": "stream",
     "text": [
      "\n",
      "32437 patches in ROI\n",
      "32437 roi samples\n",
      "MD635-F30-2016.05.18-22.15.39_MD635_3_0090"
     ]
    },
    {
     "name": "stderr",
     "output_type": "stream",
     "text": [
      "save: 2.21 seconds\n",
      "locate patches: 0.03 seconds\n",
      "load saturation image: 17.96 seconds\n",
      "extract, reshape, normalize: 6.86 seconds\n",
      "predict: 62.42 seconds\n"
     ]
    },
    {
     "name": "stdout",
     "output_type": "stream",
     "text": [
      "\n",
      "32603 patches in ROI\n",
      "32603 roi samples\n",
      "MD635-F31-2016.05.18-22.31.18_MD635_1_0091"
     ]
    },
    {
     "name": "stderr",
     "output_type": "stream",
     "text": [
      "save: 2.30 seconds\n",
      "locate patches: 0.03 seconds\n",
      "load saturation image: 23.20 seconds\n",
      "extract, reshape, normalize: 6.64 seconds\n",
      "predict: 62.96 seconds\n"
     ]
    },
    {
     "name": "stdout",
     "output_type": "stream",
     "text": [
      "\n",
      "32973 patches in ROI\n",
      "32973 roi samples\n",
      "MD635-F31-2016.05.18-22.31.18_MD635_2_0092"
     ]
    },
    {
     "name": "stderr",
     "output_type": "stream",
     "text": [
      "save: 2.21 seconds\n",
      "locate patches: 0.03 seconds\n",
      "load saturation image: 18.68 seconds\n",
      "extract, reshape, normalize: 6.57 seconds\n",
      "predict: 65.29 seconds\n"
     ]
    },
    {
     "name": "stdout",
     "output_type": "stream",
     "text": [
      "\n",
      "33761 patches in ROI\n",
      "33761 roi samples\n",
      "MD635-F32-2016.05.18-22.50.16_MD635_1_0094"
     ]
    },
    {
     "name": "stderr",
     "output_type": "stream",
     "text": [
      "save: 2.30 seconds\n",
      "locate patches: 0.03 seconds\n",
      "load saturation image: 25.61 seconds\n",
      "extract, reshape, normalize: 7.33 seconds\n",
      "predict: 63.92 seconds\n"
     ]
    },
    {
     "name": "stdout",
     "output_type": "stream",
     "text": [
      "\n",
      "33485 patches in ROI\n",
      "33485 roi samples\n",
      "MD635-F32-2016.05.18-22.50.16_MD635_2_0095"
     ]
    },
    {
     "name": "stderr",
     "output_type": "stream",
     "text": [
      "save: 2.29 seconds\n",
      "locate patches: 0.04 seconds\n",
      "load saturation image: 21.92 seconds\n",
      "extract, reshape, normalize: 7.30 seconds\n",
      "predict: 65.33 seconds\n"
     ]
    },
    {
     "name": "stdout",
     "output_type": "stream",
     "text": [
      "\n",
      "34224 patches in ROI\n",
      "34224 roi samples\n",
      "MD635-F32-2016.05.18-22.50.16_MD635_3_0096"
     ]
    },
    {
     "name": "stderr",
     "output_type": "stream",
     "text": [
      "save: 2.32 seconds\n",
      "locate patches: 0.04 seconds\n",
      "load saturation image: 21.30 seconds\n",
      "extract, reshape, normalize: 7.30 seconds\n",
      "predict: 67.19 seconds\n"
     ]
    },
    {
     "name": "stdout",
     "output_type": "stream",
     "text": [
      "\n",
      "34992 patches in ROI\n",
      "34992 roi samples\n",
      "MD635-F33-2016.05.18-23.06.34_MD635_1_0097"
     ]
    },
    {
     "name": "stderr",
     "output_type": "stream",
     "text": [
      "save: 2.36 seconds\n",
      "locate patches: 0.04 seconds\n",
      "load saturation image: 23.30 seconds\n",
      "extract, reshape, normalize: 6.95 seconds\n",
      "predict: 67.89 seconds\n"
     ]
    },
    {
     "name": "stdout",
     "output_type": "stream",
     "text": [
      "\n",
      "35518 patches in ROI\n",
      "35518 roi samples\n",
      "MD635-F33-2016.05.18-23.06.34_MD635_2_0098"
     ]
    },
    {
     "name": "stderr",
     "output_type": "stream",
     "text": [
      "save: 2.39 seconds\n",
      "locate patches: 0.04 seconds\n",
      "load saturation image: 20.02 seconds\n",
      "extract, reshape, normalize: 7.70 seconds\n",
      "predict: 69.30 seconds\n"
     ]
    },
    {
     "name": "stdout",
     "output_type": "stream",
     "text": [
      "\n",
      "36014 patches in ROI\n",
      "36014 roi samples\n",
      "MD635-F33-2016.05.18-23.06.34_MD635_3_0099"
     ]
    },
    {
     "name": "stderr",
     "output_type": "stream",
     "text": [
      "save: 2.43 seconds\n",
      "locate patches: 0.04 seconds\n",
      "load saturation image: 22.15 seconds\n",
      "extract, reshape, normalize: 7.23 seconds\n",
      "predict: 69.22 seconds\n"
     ]
    },
    {
     "name": "stdout",
     "output_type": "stream",
     "text": [
      "\n",
      "36158 patches in ROI\n",
      "36158 roi samples\n",
      "MD635-F34-2016.05.18-23.23.55_MD635_1_0100"
     ]
    },
    {
     "name": "stderr",
     "output_type": "stream",
     "text": [
      "save: 2.44 seconds\n",
      "locate patches: 0.04 seconds\n",
      "load saturation image: 20.76 seconds\n",
      "extract, reshape, normalize: 6.82 seconds\n",
      "predict: 70.53 seconds\n"
     ]
    },
    {
     "name": "stdout",
     "output_type": "stream",
     "text": [
      "\n",
      "36502 patches in ROI\n",
      "36502 roi samples\n",
      "MD635-F34-2016.05.18-23.23.55_MD635_2_0101"
     ]
    },
    {
     "name": "stderr",
     "output_type": "stream",
     "text": [
      "save: 2.45 seconds\n",
      "locate patches: 0.04 seconds\n",
      "load saturation image: 21.49 seconds\n",
      "extract, reshape, normalize: 7.23 seconds\n",
      "predict: 70.80 seconds\n"
     ]
    },
    {
     "name": "stdout",
     "output_type": "stream",
     "text": [
      "\n",
      "36658 patches in ROI\n",
      "36658 roi samples\n",
      "MD635-F34-2016.05.18-23.23.55_MD635_3_0102"
     ]
    },
    {
     "name": "stderr",
     "output_type": "stream",
     "text": [
      "save: 2.47 seconds\n",
      "locate patches: 0.03 seconds\n",
      "load saturation image: 24.45 seconds\n",
      "extract, reshape, normalize: 7.13 seconds\n",
      "predict: 71.75 seconds\n"
     ]
    },
    {
     "name": "stdout",
     "output_type": "stream",
     "text": [
      "\n",
      "37149 patches in ROI\n",
      "37149 roi samples\n",
      "MD635-F35-2016.05.18-23.40.52_MD635_1_0103"
     ]
    },
    {
     "name": "stderr",
     "output_type": "stream",
     "text": [
      "save: 2.52 seconds\n",
      "locate patches: 0.04 seconds\n",
      "load saturation image: 24.99 seconds\n",
      "extract, reshape, normalize: 7.92 seconds\n",
      "predict: 72.89 seconds\n"
     ]
    },
    {
     "name": "stdout",
     "output_type": "stream",
     "text": [
      "\n",
      "37514 patches in ROI\n",
      "37514 roi samples\n",
      "MD635-F35-2016.05.18-23.40.52_MD635_2_0104"
     ]
    },
    {
     "name": "stderr",
     "output_type": "stream",
     "text": [
      "save: 2.54 seconds\n",
      "locate patches: 0.04 seconds\n",
      "load saturation image: 22.89 seconds\n",
      "extract, reshape, normalize: 7.65 seconds\n",
      "predict: 72.79 seconds\n"
     ]
    },
    {
     "name": "stdout",
     "output_type": "stream",
     "text": [
      "\n",
      "37754 patches in ROI\n",
      "37754 roi samples\n",
      "MD635-F35-2016.05.18-23.40.52_MD635_3_0105"
     ]
    },
    {
     "name": "stderr",
     "output_type": "stream",
     "text": [
      "save: 2.50 seconds\n",
      "locate patches: 0.03 seconds\n",
      "load saturation image: 25.34 seconds\n",
      "extract, reshape, normalize: 9.51 seconds\n",
      "predict: 87.15 seconds\n"
     ]
    },
    {
     "name": "stdout",
     "output_type": "stream",
     "text": [
      "\n",
      "44603 patches in ROI\n",
      "44603 roi samples\n",
      "MD635-F36-2016.05.18-23.59.35_MD635_1_0106"
     ]
    },
    {
     "name": "stderr",
     "output_type": "stream",
     "text": [
      "save: 3.01 seconds\n",
      "locate patches: 0.04 seconds\n",
      "load saturation image: 25.21 seconds\n",
      "extract, reshape, normalize: 7.17 seconds\n",
      "predict: 70.04 seconds\n"
     ]
    },
    {
     "name": "stdout",
     "output_type": "stream",
     "text": [
      "\n",
      "36506 patches in ROI\n",
      "36506 roi samples\n",
      "MD635-F36-2016.05.18-23.59.35_MD635_2_0107"
     ]
    },
    {
     "name": "stderr",
     "output_type": "stream",
     "text": [
      "save: 2.46 seconds\n",
      "locate patches: 0.04 seconds\n",
      "load saturation image: 24.06 seconds\n",
      "extract, reshape, normalize: 7.44 seconds\n",
      "predict: 73.52 seconds\n"
     ]
    },
    {
     "name": "stdout",
     "output_type": "stream",
     "text": [
      "\n",
      "38362 patches in ROI\n",
      "38362 roi samples\n",
      "MD635-F36-2016.05.18-23.59.35_MD635_3_0108"
     ]
    },
    {
     "name": "stderr",
     "output_type": "stream",
     "text": [
      "save: 2.61 seconds\n",
      "locate patches: 0.03 seconds\n",
      "load saturation image: 21.89 seconds\n",
      "extract, reshape, normalize: 7.56 seconds\n",
      "predict: 74.47 seconds\n"
     ]
    },
    {
     "name": "stdout",
     "output_type": "stream",
     "text": [
      "\n",
      "38456 patches in ROI\n",
      "38456 roi samples\n",
      "MD635-F37-2016.05.23-14.05.18_MD635_1_0109"
     ]
    },
    {
     "name": "stderr",
     "output_type": "stream",
     "text": [
      "save: 2.57 seconds\n",
      "locate patches: 0.04 seconds\n",
      "load saturation image: 23.18 seconds\n",
      "extract, reshape, normalize: 8.48 seconds\n",
      "predict: 74.67 seconds\n"
     ]
    },
    {
     "name": "stdout",
     "output_type": "stream",
     "text": [
      "\n",
      "38808 patches in ROI\n",
      "38808 roi samples\n",
      "MD635-F37-2016.05.23-14.05.18_MD635_2_0110"
     ]
    },
    {
     "name": "stderr",
     "output_type": "stream",
     "text": [
      "save: 2.61 seconds\n",
      "locate patches: 0.04 seconds\n",
      "load saturation image: 25.49 seconds\n",
      "extract, reshape, normalize: 7.76 seconds\n",
      "predict: 75.77 seconds\n"
     ]
    },
    {
     "name": "stdout",
     "output_type": "stream",
     "text": [
      "\n",
      "39310 patches in ROI\n",
      "39310 roi samples\n",
      "MD635-F37-2016.05.23-14.05.18_MD635_3_0111"
     ]
    },
    {
     "name": "stderr",
     "output_type": "stream",
     "text": [
      "save: 2.69 seconds\n",
      "locate patches: 0.04 seconds\n",
      "load saturation image: 24.79 seconds\n",
      "extract, reshape, normalize: 11.52 seconds\n",
      "predict: 90.04 seconds\n"
     ]
    },
    {
     "name": "stdout",
     "output_type": "stream",
     "text": [
      "\n",
      "46223 patches in ROI\n",
      "46223 roi samples\n",
      "MD635-F38-2016.05.19-00.34.28_MD635_1_0112"
     ]
    },
    {
     "name": "stderr",
     "output_type": "stream",
     "text": [
      "save: 3.12 seconds\n",
      "locate patches: 0.04 seconds\n",
      "load saturation image: 23.72 seconds\n",
      "extract, reshape, normalize: 7.71 seconds\n",
      "predict: 77.45 seconds\n"
     ]
    },
    {
     "name": "stdout",
     "output_type": "stream",
     "text": [
      "\n",
      "40158 patches in ROI\n",
      "40158 roi samples\n",
      "MD635-F38-2016.05.19-00.34.28_MD635_2_0113"
     ]
    },
    {
     "name": "stderr",
     "output_type": "stream",
     "text": [
      "save: 2.73 seconds\n",
      "locate patches: 0.04 seconds\n",
      "load saturation image: 21.68 seconds\n",
      "extract, reshape, normalize: 7.73 seconds\n",
      "predict: 76.25 seconds\n"
     ]
    },
    {
     "name": "stdout",
     "output_type": "stream",
     "text": [
      "\n",
      "39644 patches in ROI\n",
      "39644 roi samples\n",
      "MD635-F38-2016.05.19-00.34.28_MD635_3_0114"
     ]
    },
    {
     "name": "stderr",
     "output_type": "stream",
     "text": [
      "save: 2.67 seconds\n",
      "locate patches: 0.04 seconds\n",
      "load saturation image: 24.66 seconds\n",
      "extract, reshape, normalize: 7.36 seconds\n",
      "predict: 74.96 seconds\n"
     ]
    },
    {
     "name": "stdout",
     "output_type": "stream",
     "text": [
      "\n",
      "38699 patches in ROI\n",
      "38699 roi samples\n",
      "MD635-F39-2016.05.19-00.52.10_MD635_1_0115"
     ]
    },
    {
     "name": "stderr",
     "output_type": "stream",
     "text": [
      "save: 2.60 seconds\n",
      "locate patches: 0.04 seconds\n",
      "load saturation image: 21.77 seconds\n",
      "extract, reshape, normalize: 7.71 seconds\n",
      "predict: 77.42 seconds\n"
     ]
    },
    {
     "name": "stdout",
     "output_type": "stream",
     "text": [
      "\n",
      "39988 patches in ROI\n",
      "39988 roi samples\n",
      "MD635-F39-2016.05.19-00.52.10_MD635_2_0116"
     ]
    },
    {
     "name": "stderr",
     "output_type": "stream",
     "text": [
      "save: 2.73 seconds\n",
      "locate patches: 0.03 seconds\n",
      "load saturation image: 24.71 seconds\n",
      "extract, reshape, normalize: 7.57 seconds\n",
      "predict: 78.06 seconds\n"
     ]
    },
    {
     "name": "stdout",
     "output_type": "stream",
     "text": [
      "\n",
      "40236 patches in ROI\n",
      "40236 roi samples\n",
      "MD635-F39-2016.05.19-00.52.10_MD635_3_0117"
     ]
    },
    {
     "name": "stderr",
     "output_type": "stream",
     "text": [
      "save: 2.70 seconds\n",
      "locate patches: 0.04 seconds\n",
      "load saturation image: 21.48 seconds\n",
      "extract, reshape, normalize: 7.94 seconds\n",
      "predict: 78.41 seconds\n"
     ]
    },
    {
     "name": "stdout",
     "output_type": "stream",
     "text": [
      "\n",
      "40498 patches in ROI\n",
      "40498 roi samples\n",
      "MD635-F40-2016.05.19-01.08.51_MD635_1_0118"
     ]
    },
    {
     "name": "stderr",
     "output_type": "stream",
     "text": [
      "save: 2.51 seconds\n",
      "locate patches: 0.03 seconds\n",
      "load saturation image: 22.16 seconds\n",
      "extract, reshape, normalize: 7.66 seconds\n",
      "predict: 78.64 seconds\n"
     ]
    },
    {
     "name": "stdout",
     "output_type": "stream",
     "text": [
      "\n",
      "40452 patches in ROI\n",
      "40452 roi samples\n",
      "MD635-F40-2016.05.19-01.08.51_MD635_2_0119"
     ]
    },
    {
     "name": "stderr",
     "output_type": "stream",
     "text": [
      "save: 2.69 seconds\n",
      "locate patches: 0.04 seconds\n",
      "load saturation image: 26.03 seconds\n",
      "extract, reshape, normalize: 8.04 seconds\n",
      "predict: 78.31 seconds\n"
     ]
    },
    {
     "name": "stdout",
     "output_type": "stream",
     "text": [
      "\n",
      "40684 patches in ROI\n",
      "40684 roi samples\n",
      "MD635-F40-2016.05.19-01.08.51_MD635_3_0120"
     ]
    },
    {
     "name": "stderr",
     "output_type": "stream",
     "text": [
      "save: 2.80 seconds\n",
      "locate patches: 0.04 seconds\n",
      "load saturation image: 25.67 seconds\n",
      "extract, reshape, normalize: 7.88 seconds\n",
      "predict: 78.93 seconds\n"
     ]
    },
    {
     "name": "stdout",
     "output_type": "stream",
     "text": [
      "\n",
      "40915 patches in ROI\n",
      "40915 roi samples\n",
      "MD635-F41-2016.05.19-01.28.39_MD635_1_0121"
     ]
    },
    {
     "name": "stderr",
     "output_type": "stream",
     "text": [
      "save: 2.75 seconds\n",
      "locate patches: 0.03 seconds\n",
      "load saturation image: 24.15 seconds\n",
      "extract, reshape, normalize: 8.21 seconds\n",
      "predict: 78.78 seconds\n"
     ]
    },
    {
     "name": "stdout",
     "output_type": "stream",
     "text": [
      "\n",
      "40909 patches in ROI\n",
      "40909 roi samples\n",
      "MD635-F41-2016.05.19-01.28.39_MD635_2_0122"
     ]
    },
    {
     "name": "stderr",
     "output_type": "stream",
     "text": [
      "save: 2.75 seconds\n",
      "locate patches: 0.04 seconds\n",
      "load saturation image: 21.42 seconds\n",
      "extract, reshape, normalize: 8.41 seconds\n",
      "predict: 83.75 seconds\n"
     ]
    },
    {
     "name": "stdout",
     "output_type": "stream",
     "text": [
      "\n",
      "43088 patches in ROI\n",
      "43088 roi samples\n",
      "MD635-F41-2016.05.19-01.28.39_MD635_3_0123"
     ]
    },
    {
     "name": "stderr",
     "output_type": "stream",
     "text": [
      "save: 2.87 seconds\n",
      "locate patches: 0.03 seconds\n",
      "load saturation image: 21.86 seconds\n",
      "extract, reshape, normalize: 8.05 seconds\n",
      "predict: 80.06 seconds\n"
     ]
    },
    {
     "name": "stdout",
     "output_type": "stream",
     "text": [
      "\n",
      "41459 patches in ROI\n",
      "41459 roi samples\n",
      "MD635-F42-2016.05.19-01.47.04_MD635_1_0124"
     ]
    },
    {
     "name": "stderr",
     "output_type": "stream",
     "text": [
      "save: 2.78 seconds\n",
      "locate patches: 0.04 seconds\n",
      "load saturation image: 25.10 seconds\n",
      "extract, reshape, normalize: 8.02 seconds\n",
      "predict: 80.12 seconds\n"
     ]
    },
    {
     "name": "stdout",
     "output_type": "stream",
     "text": [
      "\n",
      "41459 patches in ROI\n",
      "41459 roi samples\n",
      "MD635-F42-2016.05.19-01.47.04_MD635_2_0125"
     ]
    },
    {
     "name": "stderr",
     "output_type": "stream",
     "text": [
      "save: 2.78 seconds\n",
      "locate patches: 0.03 seconds\n",
      "load saturation image: 22.09 seconds\n",
      "extract, reshape, normalize: 7.56 seconds\n",
      "predict: 76.41 seconds\n"
     ]
    },
    {
     "name": "stdout",
     "output_type": "stream",
     "text": [
      "\n",
      "39268 patches in ROI\n",
      "39268 roi samples\n",
      "MD635-F42-2016.05.19-01.47.04_MD635_3_0126"
     ]
    },
    {
     "name": "stderr",
     "output_type": "stream",
     "text": [
      "save: 2.66 seconds\n",
      "locate patches: 0.04 seconds\n",
      "load saturation image: 23.26 seconds\n",
      "extract, reshape, normalize: 7.53 seconds\n",
      "predict: 75.52 seconds\n"
     ]
    },
    {
     "name": "stdout",
     "output_type": "stream",
     "text": [
      "\n",
      "39053 patches in ROI\n",
      "39053 roi samples\n",
      "MD635-F43-2016.05.19-02.06.14_MD635_1_0127"
     ]
    },
    {
     "name": "stderr",
     "output_type": "stream",
     "text": [
      "save: 2.62 seconds\n",
      "locate patches: 0.04 seconds\n",
      "load saturation image: 22.35 seconds\n",
      "extract, reshape, normalize: 8.94 seconds\n",
      "predict: 81.00 seconds\n"
     ]
    },
    {
     "name": "stdout",
     "output_type": "stream",
     "text": [
      "\n",
      "41864 patches in ROI\n",
      "41864 roi samples\n",
      "MD635-F43-2016.05.19-02.06.14_MD635_2_0128"
     ]
    },
    {
     "name": "stderr",
     "output_type": "stream",
     "text": [
      "save: 2.78 seconds\n",
      "locate patches: 0.03 seconds\n",
      "load saturation image: 23.46 seconds\n",
      "extract, reshape, normalize: 8.23 seconds\n",
      "predict: 81.69 seconds\n"
     ]
    },
    {
     "name": "stdout",
     "output_type": "stream",
     "text": [
      "\n",
      "42071 patches in ROI\n",
      "42071 roi samples\n",
      "MD635-F43-2016.05.19-02.06.14_MD635_3_0129"
     ]
    },
    {
     "name": "stderr",
     "output_type": "stream",
     "text": [
      "save: 2.85 seconds\n",
      "locate patches: 0.04 seconds\n",
      "load saturation image: 25.01 seconds\n",
      "extract, reshape, normalize: 10.36 seconds\n",
      "predict: 82.56 seconds\n"
     ]
    },
    {
     "name": "stdout",
     "output_type": "stream",
     "text": [
      "\n",
      "42515 patches in ROI\n",
      "42515 roi samples\n",
      "MD635-F44-2016.05.19-02.24.57_MD635_1_0130"
     ]
    },
    {
     "name": "stderr",
     "output_type": "stream",
     "text": [
      "save: 2.88 seconds\n",
      "locate patches: 0.03 seconds\n",
      "load saturation image: 24.09 seconds\n",
      "extract, reshape, normalize: 8.54 seconds\n",
      "predict: 81.85 seconds\n"
     ]
    },
    {
     "name": "stdout",
     "output_type": "stream",
     "text": [
      "\n",
      "42223 patches in ROI\n",
      "42223 roi samples\n",
      "MD635-F44-2016.05.19-02.24.57_MD635_2_0131"
     ]
    },
    {
     "name": "stderr",
     "output_type": "stream",
     "text": [
      "save: 2.83 seconds\n",
      "locate patches: 0.04 seconds\n",
      "load saturation image: 20.78 seconds\n",
      "extract, reshape, normalize: 9.71 seconds\n",
      "predict: 88.49 seconds\n"
     ]
    },
    {
     "name": "stdout",
     "output_type": "stream",
     "text": [
      "\n",
      "45424 patches in ROI\n",
      "45424 roi samples\n",
      "MD635-F44-2016.05.19-02.24.57_MD635_3_0132"
     ]
    },
    {
     "name": "stderr",
     "output_type": "stream",
     "text": [
      "save: 3.07 seconds\n",
      "locate patches: 0.03 seconds\n",
      "load saturation image: 22.53 seconds\n",
      "extract, reshape, normalize: 8.22 seconds\n",
      "predict: 83.44 seconds\n"
     ]
    },
    {
     "name": "stdout",
     "output_type": "stream",
     "text": [
      "\n",
      "42815 patches in ROI\n",
      "42815 roi samples\n",
      "MD635-F45-2016.05.19-02.43.09_MD635_1_0133"
     ]
    },
    {
     "name": "stderr",
     "output_type": "stream",
     "text": [
      "save: 2.86 seconds\n",
      "locate patches: 0.03 seconds\n",
      "load saturation image: 23.71 seconds\n",
      "extract, reshape, normalize: 8.38 seconds\n",
      "predict: 82.54 seconds\n"
     ]
    },
    {
     "name": "stdout",
     "output_type": "stream",
     "text": [
      "\n",
      "42660 patches in ROI\n",
      "42660 roi samples\n",
      "MD635-F45-2016.05.19-02.43.09_MD635_2_0134"
     ]
    },
    {
     "name": "stderr",
     "output_type": "stream",
     "text": [
      "save: 2.90 seconds\n",
      "locate patches: 0.04 seconds\n",
      "load saturation image: 23.09 seconds\n",
      "extract, reshape, normalize: 8.31 seconds\n",
      "predict: 83.39 seconds\n"
     ]
    },
    {
     "name": "stdout",
     "output_type": "stream",
     "text": [
      "\n",
      "42806 patches in ROI\n",
      "42806 roi samples\n",
      "MD635-F45-2016.05.19-02.43.09_MD635_3_0135"
     ]
    },
    {
     "name": "stderr",
     "output_type": "stream",
     "text": [
      "save: 2.85 seconds\n",
      "locate patches: 0.04 seconds\n",
      "load saturation image: 23.51 seconds\n",
      "extract, reshape, normalize: 8.16 seconds\n",
      "predict: 80.57 seconds\n"
     ]
    },
    {
     "name": "stdout",
     "output_type": "stream",
     "text": [
      "\n",
      "41544 patches in ROI\n",
      "41544 roi samples\n",
      "MD635-F46-2016.05.19-03.02.11_MD635_1_0136"
     ]
    },
    {
     "name": "stderr",
     "output_type": "stream",
     "text": [
      "save: 2.80 seconds\n",
      "locate patches: 0.04 seconds\n",
      "load saturation image: 26.24 seconds\n",
      "extract, reshape, normalize: 8.90 seconds\n",
      "predict: 84.61 seconds\n"
     ]
    },
    {
     "name": "stdout",
     "output_type": "stream",
     "text": [
      "\n",
      "43540 patches in ROI\n",
      "43540 roi samples\n",
      "MD635-F46-2016.05.19-03.02.11_MD635_2_0137"
     ]
    },
    {
     "name": "stderr",
     "output_type": "stream",
     "text": [
      "save: 2.92 seconds\n",
      "locate patches: 0.04 seconds\n",
      "load saturation image: 28.50 seconds\n",
      "extract, reshape, normalize: 10.66 seconds\n",
      "predict: 84.55 seconds\n"
     ]
    },
    {
     "name": "stdout",
     "output_type": "stream",
     "text": [
      "\n",
      "43719 patches in ROI\n",
      "43719 roi samples\n",
      "MD635-F46-2016.05.19-03.02.11_MD635_3_0138"
     ]
    },
    {
     "name": "stderr",
     "output_type": "stream",
     "text": [
      "save: 2.91 seconds\n",
      "locate patches: 0.03 seconds\n",
      "load saturation image: 28.20 seconds\n",
      "extract, reshape, normalize: 10.61 seconds\n",
      "predict: 85.17 seconds\n"
     ]
    },
    {
     "name": "stdout",
     "output_type": "stream",
     "text": [
      "\n",
      "43793 patches in ROI\n",
      "43793 roi samples\n",
      "MD635-F47-2016.05.19-03.19.48_MD635_1_0139"
     ]
    },
    {
     "name": "stderr",
     "output_type": "stream",
     "text": [
      "save: 2.96 seconds\n",
      "locate patches: 0.04 seconds\n",
      "load saturation image: 28.89 seconds\n",
      "extract, reshape, normalize: 9.14 seconds\n",
      "predict: 84.02 seconds\n"
     ]
    },
    {
     "name": "stdout",
     "output_type": "stream",
     "text": [
      "\n",
      "43431 patches in ROI\n",
      "43431 roi samples\n",
      "MD635-F47-2016.05.19-03.19.48_MD635_2_0140"
     ]
    },
    {
     "name": "stderr",
     "output_type": "stream",
     "text": [
      "save: 2.95 seconds\n",
      "locate patches: 0.04 seconds\n",
      "load saturation image: 23.69 seconds\n",
      "extract, reshape, normalize: 6.50 seconds\n",
      "predict: 64.59 seconds\n"
     ]
    },
    {
     "name": "stdout",
     "output_type": "stream",
     "text": [
      "\n",
      "33588 patches in ROI\n",
      "33588 roi samples\n",
      "MD635-F47-2016.05.19-03.19.48_MD635_3_0141"
     ]
    },
    {
     "name": "stderr",
     "output_type": "stream",
     "text": [
      "save: 2.28 seconds\n",
      "locate patches: 0.04 seconds\n",
      "load saturation image: 27.69 seconds\n",
      "extract, reshape, normalize: 8.89 seconds\n",
      "predict: 86.02 seconds\n"
     ]
    },
    {
     "name": "stdout",
     "output_type": "stream",
     "text": [
      "\n",
      "44345 patches in ROI\n",
      "44345 roi samples\n",
      "MD635-F48-2016.05.19-03.40.12_MD635_1_0142"
     ]
    },
    {
     "name": "stderr",
     "output_type": "stream",
     "text": [
      "save: 3.09 seconds\n",
      "locate patches: 0.04 seconds\n",
      "load saturation image: 25.43 seconds\n",
      "extract, reshape, normalize: 11.66 seconds\n",
      "predict: 85.93 seconds\n"
     ]
    },
    {
     "name": "stdout",
     "output_type": "stream",
     "text": [
      "\n",
      "44107 patches in ROI\n",
      "44107 roi samples\n",
      "MD635-F48-2016.05.19-03.40.12_MD635_2_0143"
     ]
    },
    {
     "name": "stderr",
     "output_type": "stream",
     "text": [
      "save: 2.94 seconds\n",
      "locate patches: 0.04 seconds\n",
      "load saturation image: 25.66 seconds\n",
      "extract, reshape, normalize: 10.27 seconds\n",
      "predict: 85.99 seconds\n"
     ]
    },
    {
     "name": "stdout",
     "output_type": "stream",
     "text": [
      "\n",
      "44484 patches in ROI\n",
      "44484 roi samples\n",
      "MD635-F48-2016.05.19-03.40.12_MD635_3_0144"
     ]
    },
    {
     "name": "stderr",
     "output_type": "stream",
     "text": [
      "save: 2.97 seconds\n",
      "locate patches: 0.03 seconds\n",
      "load saturation image: 24.30 seconds\n",
      "extract, reshape, normalize: 9.47 seconds\n",
      "predict: 86.38 seconds\n"
     ]
    },
    {
     "name": "stdout",
     "output_type": "stream",
     "text": [
      "\n",
      "44494 patches in ROI\n",
      "44494 roi samples\n",
      "MD635-F49-2016.05.19-03.59.43_MD635_1_0145"
     ]
    },
    {
     "name": "stderr",
     "output_type": "stream",
     "text": [
      "save: 3.00 seconds\n",
      "locate patches: 0.04 seconds\n",
      "load saturation image: 26.10 seconds\n",
      "extract, reshape, normalize: 9.57 seconds\n",
      "predict: 83.98 seconds\n"
     ]
    },
    {
     "name": "stdout",
     "output_type": "stream",
     "text": [
      "\n",
      "43381 patches in ROI\n",
      "43381 roi samples\n",
      "MD635-F49-2016.05.19-03.59.43_MD635_2_0146"
     ]
    },
    {
     "name": "stderr",
     "output_type": "stream",
     "text": [
      "save: 2.83 seconds\n",
      "locate patches: 0.04 seconds\n",
      "load saturation image: 29.25 seconds\n",
      "extract, reshape, normalize: 10.48 seconds\n",
      "predict: 87.39 seconds\n"
     ]
    },
    {
     "name": "stdout",
     "output_type": "stream",
     "text": [
      "\n",
      "44825 patches in ROI\n",
      "44825 roi samples\n",
      "MD635-F49-2016.05.23-14.25.13_MD635_3_0147"
     ]
    },
    {
     "name": "stderr",
     "output_type": "stream",
     "text": [
      "save: 3.00 seconds\n",
      "locate patches: 0.03 seconds\n",
      "load saturation image: 25.03 seconds\n",
      "extract, reshape, normalize: 11.86 seconds\n",
      "predict: 88.70 seconds\n"
     ]
    },
    {
     "name": "stdout",
     "output_type": "stream",
     "text": [
      "\n",
      "45668 patches in ROI\n",
      "45668 roi samples\n",
      "MD635-F50-2016.05.23-14.45.07_MD635_1_0148"
     ]
    },
    {
     "name": "stderr",
     "output_type": "stream",
     "text": [
      "save: 3.06 seconds\n",
      "locate patches: 0.04 seconds\n",
      "load saturation image: 27.63 seconds\n",
      "extract, reshape, normalize: 8.73 seconds\n",
      "predict: 85.41 seconds\n"
     ]
    },
    {
     "name": "stdout",
     "output_type": "stream",
     "text": [
      "\n",
      "43861 patches in ROI\n",
      "43861 roi samples\n",
      "MD635-F50-2016.05.23-14.45.07_MD635_2_0149"
     ]
    },
    {
     "name": "stderr",
     "output_type": "stream",
     "text": [
      "save: 2.95 seconds\n",
      "locate patches: 0.04 seconds\n",
      "load saturation image: 26.08 seconds\n",
      "extract, reshape, normalize: 8.71 seconds\n",
      "predict: 86.14 seconds\n"
     ]
    },
    {
     "name": "stdout",
     "output_type": "stream",
     "text": [
      "\n",
      "44515 patches in ROI\n",
      "44515 roi samples\n",
      "MD635-F50-2016.05.23-14.45.07_MD635_3_0150"
     ]
    },
    {
     "name": "stderr",
     "output_type": "stream",
     "text": [
      "save: 2.98 seconds\n",
      "locate patches: 0.04 seconds\n",
      "load saturation image: 24.09 seconds\n",
      "extract, reshape, normalize: 11.81 seconds\n",
      "predict: 94.86 seconds\n"
     ]
    },
    {
     "name": "stdout",
     "output_type": "stream",
     "text": [
      "\n",
      "48517 patches in ROI\n",
      "48517 roi samples\n",
      "MD635-F51-2016.05.23-15.04.39_MD635_1_0151"
     ]
    },
    {
     "name": "stderr",
     "output_type": "stream",
     "text": [
      "save: 3.26 seconds\n",
      "locate patches: 0.04 seconds\n",
      "load saturation image: 25.80 seconds\n",
      "extract, reshape, normalize: 9.04 seconds\n",
      "predict: 86.73 seconds\n"
     ]
    },
    {
     "name": "stdout",
     "output_type": "stream",
     "text": [
      "\n",
      "44720 patches in ROI\n",
      "44720 roi samples\n",
      "MD635-F51-2016.05.23-15.04.39_MD635_2_0152"
     ]
    },
    {
     "name": "stderr",
     "output_type": "stream",
     "text": [
      "save: 3.00 seconds\n",
      "locate patches: 0.03 seconds\n",
      "load saturation image: 26.80 seconds\n",
      "extract, reshape, normalize: 9.52 seconds\n",
      "predict: 91.20 seconds\n"
     ]
    },
    {
     "name": "stdout",
     "output_type": "stream",
     "text": [
      "\n",
      "46917 patches in ROI\n",
      "46917 roi samples\n",
      "MD635-F51-2016.05.23-15.04.39_MD635_3_0153"
     ]
    },
    {
     "name": "stderr",
     "output_type": "stream",
     "text": [
      "save: 3.17 seconds\n",
      "locate patches: 0.03 seconds\n",
      "load saturation image: 25.76 seconds\n",
      "extract, reshape, normalize: 10.22 seconds\n",
      "predict: 89.78 seconds\n"
     ]
    },
    {
     "name": "stdout",
     "output_type": "stream",
     "text": [
      "\n",
      "46328 patches in ROI\n",
      "46328 roi samples\n",
      "MD635-F52-2016.05.23-15.23.47_MD635_1_0154"
     ]
    },
    {
     "name": "stderr",
     "output_type": "stream",
     "text": [
      "save: 3.09 seconds\n",
      "locate patches: 0.04 seconds\n",
      "load saturation image: 25.57 seconds\n",
      "extract, reshape, normalize: 9.12 seconds\n",
      "predict: 90.01 seconds\n"
     ]
    },
    {
     "name": "stdout",
     "output_type": "stream",
     "text": [
      "\n",
      "46149 patches in ROI\n",
      "46149 roi samples\n",
      "MD635-F52-2016.05.19-04.56.12_MD635_2_0155"
     ]
    },
    {
     "name": "stderr",
     "output_type": "stream",
     "text": [
      "save: 3.09 seconds\n",
      "locate patches: 0.04 seconds\n",
      "load saturation image: 26.91 seconds\n",
      "extract, reshape, normalize: 11.70 seconds\n",
      "predict: 91.77 seconds\n"
     ]
    },
    {
     "name": "stdout",
     "output_type": "stream",
     "text": [
      "\n",
      "47063 patches in ROI\n",
      "47063 roi samples\n",
      "MD635-F52-2016.05.23-15.23.47_MD635_3_0156"
     ]
    },
    {
     "name": "stderr",
     "output_type": "stream",
     "text": [
      "save: 3.14 seconds\n",
      "locate patches: 0.04 seconds\n",
      "load saturation image: 23.10 seconds\n",
      "extract, reshape, normalize: 9.00 seconds\n",
      "predict: 87.48 seconds\n"
     ]
    },
    {
     "name": "stdout",
     "output_type": "stream",
     "text": [
      "\n",
      "45041 patches in ROI\n",
      "45041 roi samples\n",
      "MD635-F53-2016.05.23-15.42.22_MD635_1_0157\n",
      "48293"
     ]
    },
    {
     "name": "stderr",
     "output_type": "stream",
     "text": [
      "save: 3.03 seconds\n",
      "locate patches: 0.04 seconds\n",
      "load saturation image: 24.15 seconds\n",
      "extract, reshape, normalize: 11.21 seconds\n",
      "predict: 94.09 seconds\n",
      "save: 3.25 seconds\n"
     ]
    },
    {
     "name": "stdout",
     "output_type": "stream",
     "text": [
      " patches in ROI\n",
      "48293 roi samples\n",
      "MD635-F53-2016.05.19-05.14.50_MD635_2_0158"
     ]
    },
    {
     "name": "stderr",
     "output_type": "stream",
     "text": [
      "locate patches: 0.03 seconds\n",
      "load saturation image: 26.19 seconds\n",
      "extract, reshape, normalize: 10.58 seconds\n",
      "predict: 97.76 seconds\n"
     ]
    },
    {
     "name": "stdout",
     "output_type": "stream",
     "text": [
      "\n",
      "49941 patches in ROI\n",
      "49941 roi samples\n",
      "MD635-F53-2016.05.19-05.14.50_MD635_3_0159"
     ]
    },
    {
     "name": "stderr",
     "output_type": "stream",
     "text": [
      "save: 3.35 seconds\n",
      "locate patches: 0.03 seconds\n",
      "load saturation image: 25.73 seconds\n",
      "extract, reshape, normalize: 12.37 seconds\n",
      "predict: 98.51 seconds\n"
     ]
    },
    {
     "name": "stdout",
     "output_type": "stream",
     "text": [
      "\n",
      "50507 patches in ROI\n",
      "50507 roi samples\n",
      "MD635-F54-2016.05.23-16.02.27_MD635_2_0161"
     ]
    },
    {
     "name": "stderr",
     "output_type": "stream",
     "text": [
      "save: 3.41 seconds\n",
      "locate patches: 0.03 seconds\n",
      "load saturation image: 27.18 seconds\n",
      "extract, reshape, normalize: 13.53 seconds\n",
      "predict: 96.60 seconds\n"
     ]
    },
    {
     "name": "stdout",
     "output_type": "stream",
     "text": [
      "\n",
      "49641 patches in ROI\n",
      "49641 roi samples\n",
      "MD635-F54-2016.05.19-05.34.49_MD635_3_0162"
     ]
    },
    {
     "name": "stderr",
     "output_type": "stream",
     "text": [
      "save: 3.34 seconds\n",
      "locate patches: 0.03 seconds\n",
      "load saturation image: 30.33 seconds\n",
      "extract, reshape, normalize: 11.16 seconds\n",
      "predict: 98.48 seconds\n"
     ]
    },
    {
     "name": "stdout",
     "output_type": "stream",
     "text": [
      "\n",
      "50549 patches in ROI\n",
      "50549 roi samples\n",
      "MD635-F55-2016.05.19-05.55.53_MD635_2_0164"
     ]
    },
    {
     "name": "stderr",
     "output_type": "stream",
     "text": [
      "save: 3.41 seconds\n",
      "locate patches: 0.04 seconds\n",
      "load saturation image: 29.10 seconds\n",
      "extract, reshape, normalize: 12.71 seconds\n",
      "predict: 101.40 seconds\n"
     ]
    },
    {
     "name": "stdout",
     "output_type": "stream",
     "text": [
      "\n",
      "51805 patches in ROI\n",
      "51805 roi samples\n",
      "MD635-F55-2016.05.23-16.24.34_MD635_3_0165\n",
      "51615"
     ]
    },
    {
     "name": "stderr",
     "output_type": "stream",
     "text": [
      "save: 2.73 seconds\n",
      "locate patches: 0.04 seconds\n",
      "load saturation image: 30.14 seconds\n",
      "extract, reshape, normalize: 13.95 seconds\n",
      "predict: 100.79 seconds\n",
      "save: 2.83 seconds\n"
     ]
    },
    {
     "name": "stdout",
     "output_type": "stream",
     "text": [
      " patches in ROI\n",
      "51615 roi samples\n",
      "MD635-F56-2016.05.19-06.13.54_MD635_1_0166"
     ]
    },
    {
     "name": "stderr",
     "output_type": "stream",
     "text": [
      "locate patches: 0.03 seconds\n",
      "load saturation image: 31.69 seconds\n",
      "extract, reshape, normalize: 11.11 seconds\n",
      "predict: 101.23 seconds\n"
     ]
    },
    {
     "name": "stdout",
     "output_type": "stream",
     "text": [
      "\n",
      "51921 patches in ROI\n",
      "51921 roi samples\n",
      "MD635-F56-2016.05.19-06.13.54_MD635_2_0167"
     ]
    },
    {
     "name": "stderr",
     "output_type": "stream",
     "text": [
      "save: 2.72 seconds\n",
      "locate patches: 0.03 seconds\n",
      "load saturation image: 29.62 seconds\n",
      "extract, reshape, normalize: 11.15 seconds\n",
      "predict: 102.79 seconds\n"
     ]
    },
    {
     "name": "stdout",
     "output_type": "stream",
     "text": [
      "\n",
      "52681 patches in ROI\n",
      "52681 roi samples\n",
      "MD635-F57-2016.05.19-06.32.00_MD635_1_0169"
     ]
    },
    {
     "name": "stderr",
     "output_type": "stream",
     "text": [
      "save: 2.91 seconds\n",
      "locate patches: 0.03 seconds\n",
      "load saturation image: 29.57 seconds\n",
      "extract, reshape, normalize: 11.69 seconds\n",
      "predict: 103.68 seconds\n"
     ]
    },
    {
     "name": "stdout",
     "output_type": "stream",
     "text": [
      "\n",
      "53004 patches in ROI\n",
      "53004 roi samples\n",
      "MD635-F57-2016.05.19-06.32.00_MD635_2_0170"
     ]
    },
    {
     "name": "stderr",
     "output_type": "stream",
     "text": [
      "save: 2.93 seconds\n",
      "locate patches: 0.03 seconds\n",
      "load saturation image: 27.88 seconds\n",
      "extract, reshape, normalize: 12.84 seconds\n",
      "predict: 102.73 seconds\n"
     ]
    },
    {
     "name": "stdout",
     "output_type": "stream",
     "text": [
      "\n",
      "52552 patches in ROI\n",
      "52552 roi samples\n",
      "MD635-F58-2016.05.19-06.52.57_MD635_1_0172"
     ]
    },
    {
     "name": "stderr",
     "output_type": "stream",
     "text": [
      "save: 2.97 seconds\n",
      "locate patches: 0.03 seconds\n",
      "load saturation image: 29.98 seconds\n",
      "extract, reshape, normalize: 11.01 seconds\n",
      "predict: 103.19 seconds\n"
     ]
    },
    {
     "name": "stdout",
     "output_type": "stream",
     "text": [
      "\n",
      "52803 patches in ROI\n",
      "52803 roi samples\n",
      "MD635-F58-2016.05.19-06.52.57_MD635_2_0173"
     ]
    },
    {
     "name": "stderr",
     "output_type": "stream",
     "text": [
      "save: 2.76 seconds\n",
      "locate patches: 0.03 seconds\n",
      "load saturation image: 29.13 seconds\n",
      "extract, reshape, normalize: 12.01 seconds\n",
      "predict: 103.71 seconds\n"
     ]
    },
    {
     "name": "stdout",
     "output_type": "stream",
     "text": [
      "\n",
      "53107 patches in ROI\n",
      "53107 roi samples\n",
      "MD635-F59-2016.05.19-07.14.24_MD635_1_0175"
     ]
    },
    {
     "name": "stderr",
     "output_type": "stream",
     "text": [
      "save: 2.89 seconds\n",
      "locate patches: 0.03 seconds\n",
      "load saturation image: 26.57 seconds\n",
      "extract, reshape, normalize: 11.17 seconds\n",
      "predict: 102.56 seconds\n"
     ]
    },
    {
     "name": "stdout",
     "output_type": "stream",
     "text": [
      "\n",
      "52972 patches in ROI\n",
      "52972 roi samples\n",
      "MD635-F59-2016.05.19-07.14.24_MD635_2_0176\n",
      "53578"
     ]
    },
    {
     "name": "stderr",
     "output_type": "stream",
     "text": [
      "save: 2.87 seconds\n",
      "locate patches: 0.04 seconds\n",
      "load saturation image: 28.27 seconds\n",
      "extract, reshape, normalize: 10.67 seconds\n",
      "predict: 104.04 seconds\n",
      "save: 2.84 seconds\n"
     ]
    },
    {
     "name": "stdout",
     "output_type": "stream",
     "text": [
      " patches in ROI\n",
      "53578 roi samples\n",
      "MD635-F60-2016.05.19-07.35.14_MD635_1_0178"
     ]
    },
    {
     "name": "stderr",
     "output_type": "stream",
     "text": [
      "locate patches: 0.03 seconds\n",
      "load saturation image: 27.42 seconds\n",
      "extract, reshape, normalize: 11.99 seconds\n",
      "predict: 103.13 seconds\n"
     ]
    },
    {
     "name": "stdout",
     "output_type": "stream",
     "text": [
      "\n",
      "53581 patches in ROI\n",
      "53581 roi samples\n",
      "MD635-F60-2016.05.19-07.35.14_MD635_2_0179"
     ]
    },
    {
     "name": "stderr",
     "output_type": "stream",
     "text": [
      "save: 3.03 seconds\n",
      "locate patches: 0.04 seconds\n",
      "load saturation image: 27.28 seconds\n",
      "extract, reshape, normalize: 12.90 seconds\n",
      "predict: 104.08 seconds\n"
     ]
    },
    {
     "name": "stdout",
     "output_type": "stream",
     "text": [
      "\n",
      "54037 patches in ROI\n",
      "54037 roi samples\n",
      "MD635-F61-2016.05.19-07.56.43_MD635_1_0181\n",
      "54662"
     ]
    },
    {
     "name": "stderr",
     "output_type": "stream",
     "text": [
      "save: 2.90 seconds\n",
      "locate patches: 0.04 seconds\n",
      "load saturation image: 25.80 seconds\n",
      "extract, reshape, normalize: 11.93 seconds\n",
      "predict: 104.69 seconds\n",
      "save: 3.06 seconds\n"
     ]
    },
    {
     "name": "stdout",
     "output_type": "stream",
     "text": [
      " patches in ROI\n",
      "54662 roi samples\n",
      "MD635-F61-2016.05.19-07.56.43_MD635_2_0182"
     ]
    },
    {
     "name": "stderr",
     "output_type": "stream",
     "text": [
      "locate patches: 0.03 seconds\n",
      "load saturation image: 24.54 seconds\n",
      "extract, reshape, normalize: 11.60 seconds\n",
      "predict: 105.38 seconds\n"
     ]
    },
    {
     "name": "stdout",
     "output_type": "stream",
     "text": [
      "\n",
      "54856 patches in ROI\n",
      "54856 roi samples\n",
      "MD635-F62-2016.05.19-08.18.25_MD635_1_0184"
     ]
    },
    {
     "name": "stderr",
     "output_type": "stream",
     "text": [
      "save: 3.21 seconds\n",
      "locate patches: 0.04 seconds\n",
      "load saturation image: 30.47 seconds\n",
      "extract, reshape, normalize: 14.55 seconds\n",
      "predict: 105.31 seconds\n"
     ]
    },
    {
     "name": "stdout",
     "output_type": "stream",
     "text": [
      "\n",
      "55130 patches in ROI\n",
      "55130 roi samples\n",
      "MD635-F62-2016.05.19-08.18.25_MD635_2_0185"
     ]
    },
    {
     "name": "stderr",
     "output_type": "stream",
     "text": [
      "save: 2.80 seconds\n",
      "locate patches: 0.03 seconds\n",
      "load saturation image: 27.54 seconds\n",
      "extract, reshape, normalize: 19.15 seconds\n",
      "predict: 108.37 seconds\n"
     ]
    },
    {
     "name": "stdout",
     "output_type": "stream",
     "text": [
      "\n",
      "55726 patches in ROI\n",
      "55726 roi samples\n",
      "MD635-F63-2016.05.19-08.39.03_MD635_1_0187"
     ]
    },
    {
     "name": "stderr",
     "output_type": "stream",
     "text": [
      "save: 2.97 seconds\n",
      "locate patches: 0.03 seconds\n",
      "load saturation image: 29.75 seconds\n",
      "extract, reshape, normalize: 14.08 seconds\n",
      "predict: 107.29 seconds\n"
     ]
    },
    {
     "name": "stdout",
     "output_type": "stream",
     "text": [
      "\n",
      "55457 patches in ROI\n",
      "55457 roi samples\n",
      "MD635-F63-2016.05.19-08.39.03_MD635_2_0188"
     ]
    },
    {
     "name": "stderr",
     "output_type": "stream",
     "text": [
      "save: 2.84 seconds\n",
      "locate patches: 0.03 seconds\n",
      "load saturation image: 27.80 seconds\n",
      "extract, reshape, normalize: 11.72 seconds\n",
      "predict: 107.97 seconds\n"
     ]
    },
    {
     "name": "stdout",
     "output_type": "stream",
     "text": [
      "\n",
      "55698 patches in ROI\n",
      "55698 roi samples\n",
      "MD635-F64-2016.05.19-09.00.59_MD635_1_0190"
     ]
    },
    {
     "name": "stderr",
     "output_type": "stream",
     "text": [
      "save: 2.96 seconds\n",
      "locate patches: 0.03 seconds\n",
      "load saturation image: 25.82 seconds\n",
      "extract, reshape, normalize: 11.01 seconds\n",
      "predict: 108.56 seconds\n"
     ]
    },
    {
     "name": "stdout",
     "output_type": "stream",
     "text": [
      "\n",
      "55827 patches in ROI\n",
      "55827 roi samples\n",
      "MD635-F64-2016.05.19-09.00.59_MD635_2_0191"
     ]
    },
    {
     "name": "stderr",
     "output_type": "stream",
     "text": [
      "save: 3.00 seconds\n",
      "locate patches: 0.03 seconds\n",
      "load saturation image: 28.94 seconds\n",
      "extract, reshape, normalize: 14.92 seconds\n",
      "predict: 108.78 seconds\n"
     ]
    },
    {
     "name": "stdout",
     "output_type": "stream",
     "text": [
      "\n",
      "55943 patches in ROI\n",
      "55943 roi samples\n",
      "MD635-F65-2016.05.19-09.20.00_MD635_1_0193"
     ]
    },
    {
     "name": "stderr",
     "output_type": "stream",
     "text": [
      "save: 2.96 seconds\n",
      "locate patches: 0.04 seconds\n",
      "load saturation image: 28.13 seconds\n",
      "extract, reshape, normalize: 12.22 seconds\n",
      "predict: 109.00 seconds\n"
     ]
    },
    {
     "name": "stdout",
     "output_type": "stream",
     "text": [
      "\n",
      "56237 patches in ROI\n",
      "56237 roi samples\n",
      "MD635-F65-2016.05.19-09.20.00_MD635_2_0194"
     ]
    },
    {
     "name": "stderr",
     "output_type": "stream",
     "text": [
      "save: 2.89 seconds\n",
      "locate patches: 0.03 seconds\n",
      "load saturation image: 26.28 seconds\n",
      "extract, reshape, normalize: 11.93 seconds\n",
      "predict: 109.01 seconds\n"
     ]
    },
    {
     "name": "stdout",
     "output_type": "stream",
     "text": [
      "\n",
      "56160 patches in ROI\n",
      "56160 roi samples\n",
      "MD635-F66-2016.05.19-09.39.33_MD635_1_0196"
     ]
    },
    {
     "name": "stderr",
     "output_type": "stream",
     "text": [
      "save: 3.20 seconds\n",
      "locate patches: 0.03 seconds\n",
      "load saturation image: 26.05 seconds\n",
      "extract, reshape, normalize: 11.17 seconds\n",
      "predict: 108.96 seconds\n"
     ]
    },
    {
     "name": "stdout",
     "output_type": "stream",
     "text": [
      "\n",
      "56162 patches in ROI\n",
      "56162 roi samples\n",
      "MD635-F66-2016.05.19-09.39.33_MD635_2_0197"
     ]
    },
    {
     "name": "stderr",
     "output_type": "stream",
     "text": [
      "save: 3.22 seconds\n",
      "locate patches: 0.03 seconds\n",
      "load saturation image: 26.43 seconds\n",
      "extract, reshape, normalize: 14.21 seconds\n",
      "predict: 110.05 seconds\n"
     ]
    },
    {
     "name": "stdout",
     "output_type": "stream",
     "text": [
      "\n",
      "56678 patches in ROI\n",
      "56678 roi samples\n",
      "MD635-F67-2016.05.19-09.59.06_MD635_1_0199"
     ]
    },
    {
     "name": "stderr",
     "output_type": "stream",
     "text": [
      "save: 3.33 seconds\n",
      "locate patches: 0.03 seconds\n",
      "load saturation image: 26.47 seconds\n",
      "extract, reshape, normalize: 13.17 seconds\n",
      "predict: 109.96 seconds\n"
     ]
    },
    {
     "name": "stdout",
     "output_type": "stream",
     "text": [
      "\n",
      "56618 patches in ROI\n",
      "56618 roi samples\n",
      "MD635-F67-2016.05.19-09.59.06_MD635_2_0200\n",
      "56722"
     ]
    },
    {
     "name": "stderr",
     "output_type": "stream",
     "text": [
      "save: 2.95 seconds\n",
      "locate patches: 0.03 seconds\n",
      "load saturation image: 26.95 seconds\n",
      "extract, reshape, normalize: 11.40 seconds\n",
      "predict: 110.06 seconds\n",
      "save: 2.95 seconds\n"
     ]
    },
    {
     "name": "stdout",
     "output_type": "stream",
     "text": [
      " patches in ROI\n",
      "56722 roi samples\n",
      "MD635-F68-2016.05.19-10.18.40_MD635_1_0202"
     ]
    },
    {
     "name": "stderr",
     "output_type": "stream",
     "text": [
      "locate patches: 0.03 seconds\n",
      "load saturation image: 25.22 seconds\n",
      "extract, reshape, normalize: 11.49 seconds\n",
      "predict: 110.43 seconds\n"
     ]
    },
    {
     "name": "stdout",
     "output_type": "stream",
     "text": [
      "\n",
      "56906 patches in ROI\n",
      "56906 roi samples\n",
      "MD635-F68-2016.05.19-10.18.40_MD635_2_0203"
     ]
    },
    {
     "name": "stderr",
     "output_type": "stream",
     "text": [
      "save: 2.84 seconds\n",
      "locate patches: 0.03 seconds\n",
      "load saturation image: 26.65 seconds\n",
      "extract, reshape, normalize: 13.01 seconds\n",
      "predict: 109.46 seconds\n"
     ]
    },
    {
     "name": "stdout",
     "output_type": "stream",
     "text": [
      "\n",
      "57167 patches in ROI\n",
      "57167 roi samples\n",
      "MD635-F69-2016.05.19-10.38.34_MD635_1_0205"
     ]
    },
    {
     "name": "stderr",
     "output_type": "stream",
     "text": [
      "save: 2.81 seconds\n",
      "locate patches: 0.03 seconds\n",
      "load saturation image: 26.07 seconds\n",
      "extract, reshape, normalize: 13.53 seconds\n",
      "predict: 110.62 seconds\n"
     ]
    },
    {
     "name": "stdout",
     "output_type": "stream",
     "text": [
      "\n",
      "56878 patches in ROI\n",
      "56878 roi samples\n",
      "MD635-F69-2016.05.19-10.38.34_MD635_2_0206\n",
      "57018"
     ]
    },
    {
     "name": "stderr",
     "output_type": "stream",
     "text": [
      "save: 3.17 seconds\n",
      "locate patches: 0.04 seconds\n",
      "load saturation image: 24.92 seconds\n",
      "extract, reshape, normalize: 12.58 seconds\n",
      "predict: 110.59 seconds\n",
      "save: 3.25 seconds\n"
     ]
    },
    {
     "name": "stdout",
     "output_type": "stream",
     "text": [
      " patches in ROI\n",
      "57018 roi samples\n",
      "MD635-F70-2016.05.19-10.57.59_MD635_1_0208"
     ]
    },
    {
     "name": "stderr",
     "output_type": "stream",
     "text": [
      "locate patches: 0.04 seconds\n",
      "load saturation image: 25.37 seconds\n",
      "extract, reshape, normalize: 12.79 seconds\n",
      "predict: 110.64 seconds\n"
     ]
    },
    {
     "name": "stdout",
     "output_type": "stream",
     "text": [
      "\n",
      "56954 patches in ROI\n",
      "56954 roi samples\n",
      "MD635-F70-2016.05.19-10.57.59_MD635_2_0209"
     ]
    },
    {
     "name": "stderr",
     "output_type": "stream",
     "text": [
      "save: 3.00 seconds\n",
      "locate patches: 0.03 seconds\n",
      "load saturation image: 25.45 seconds\n",
      "extract, reshape, normalize: 11.42 seconds\n",
      "predict: 111.59 seconds\n"
     ]
    },
    {
     "name": "stdout",
     "output_type": "stream",
     "text": [
      "\n",
      "57745 patches in ROI\n",
      "57745 roi samples\n",
      "MD635-F71-2016.05.19-11.17.07_MD635_1_0211"
     ]
    },
    {
     "name": "stderr",
     "output_type": "stream",
     "text": [
      "save: 2.85 seconds\n",
      "locate patches: 0.04 seconds\n",
      "load saturation image: 28.29 seconds\n",
      "extract, reshape, normalize: 11.79 seconds\n",
      "predict: 110.98 seconds\n"
     ]
    },
    {
     "name": "stdout",
     "output_type": "stream",
     "text": [
      "\n",
      "57250 patches in ROI\n",
      "57250 roi samples\n",
      "MD635-F71-2016.05.19-11.17.07_MD635_2_0212"
     ]
    },
    {
     "name": "stderr",
     "output_type": "stream",
     "text": [
      "save: 2.90 seconds\n",
      "locate patches: 0.03 seconds\n",
      "load saturation image: 26.96 seconds\n",
      "extract, reshape, normalize: 11.78 seconds\n",
      "predict: 112.84 seconds\n"
     ]
    },
    {
     "name": "stdout",
     "output_type": "stream",
     "text": [
      "\n",
      "57908 patches in ROI\n",
      "57908 roi samples\n",
      "MD635-F72-2016.05.19-11.37.07_MD635_1_0214"
     ]
    },
    {
     "name": "stderr",
     "output_type": "stream",
     "text": [
      "save: 3.11 seconds\n",
      "locate patches: 0.03 seconds\n",
      "load saturation image: 27.27 seconds\n",
      "extract, reshape, normalize: 13.62 seconds\n",
      "predict: 109.26 seconds\n"
     ]
    },
    {
     "name": "stdout",
     "output_type": "stream",
     "text": [
      "\n",
      "56780 patches in ROI\n",
      "56780 roi samples\n",
      "MD635-F72-2016.05.19-11.37.07_MD635_2_0215"
     ]
    },
    {
     "name": "stderr",
     "output_type": "stream",
     "text": [
      "save: 2.73 seconds\n",
      "locate patches: 0.03 seconds\n",
      "load saturation image: 26.66 seconds\n",
      "extract, reshape, normalize: 21.10 seconds\n",
      "predict: 112.00 seconds\n"
     ]
    },
    {
     "name": "stdout",
     "output_type": "stream",
     "text": [
      "\n",
      "57106 patches in ROI\n",
      "57106 roi samples\n",
      "MD635-F73-2016.05.19-11.56.44_MD635_1_0217"
     ]
    },
    {
     "name": "stderr",
     "output_type": "stream",
     "text": [
      "save: 3.18 seconds\n",
      "locate patches: 0.03 seconds\n",
      "load saturation image: 27.90 seconds\n",
      "extract, reshape, normalize: 11.64 seconds\n",
      "predict: 110.74 seconds\n"
     ]
    },
    {
     "name": "stdout",
     "output_type": "stream",
     "text": [
      "\n",
      "57165 patches in ROI\n",
      "57165 roi samples\n",
      "MD635-F73-2016.05.19-11.56.44_MD635_2_0218"
     ]
    },
    {
     "name": "stderr",
     "output_type": "stream",
     "text": [
      "save: 3.09 seconds\n",
      "locate patches: 0.03 seconds\n",
      "load saturation image: 26.49 seconds\n",
      "extract, reshape, normalize: 12.79 seconds\n",
      "predict: 109.65 seconds\n"
     ]
    },
    {
     "name": "stdout",
     "output_type": "stream",
     "text": [
      "\n",
      "57116 patches in ROI\n",
      "57116 roi samples\n",
      "MD635-F74-2016.05.19-12.15.18_MD635_1_0220"
     ]
    },
    {
     "name": "stderr",
     "output_type": "stream",
     "text": [
      "save: 3.22 seconds\n",
      "locate patches: 0.04 seconds\n",
      "load saturation image: 27.45 seconds\n",
      "extract, reshape, normalize: 13.34 seconds\n",
      "predict: 110.96 seconds\n"
     ]
    },
    {
     "name": "stdout",
     "output_type": "stream",
     "text": [
      "\n",
      "MD635-F74-2016.05.19-12.15.18_MD635_2_0221\n",
      "57220 patches in ROI\n",
      "57220 roi samples\n",
      "MD635-F75-2016.05.19-12.32.46_MD635_1_0223"
     ]
    },
    {
     "name": "stderr",
     "output_type": "stream",
     "text": [
      "save: 2.88 seconds\n",
      "locate patches: 0.04 seconds\n",
      "load saturation image: 25.66 seconds\n",
      "extract, reshape, normalize: 13.51 seconds\n",
      "predict: 110.16 seconds\n"
     ]
    },
    {
     "name": "stdout",
     "output_type": "stream",
     "text": [
      "\n",
      "57089 patches in ROI\n",
      "57089 roi samples\n",
      "MD635-F75-2016.05.19-12.32.46_MD635_2_0224"
     ]
    },
    {
     "name": "stderr",
     "output_type": "stream",
     "text": [
      "save: 3.18 seconds\n",
      "locate patches: 0.03 seconds\n",
      "load saturation image: 26.66 seconds\n",
      "extract, reshape, normalize: 12.28 seconds\n",
      "predict: 110.52 seconds\n"
     ]
    },
    {
     "name": "stdout",
     "output_type": "stream",
     "text": [
      "\n",
      "57052 patches in ROI\n",
      "57052 roi samples\n",
      "MD635-F76-2016.05.19-12.50.14_MD635_1_0226"
     ]
    },
    {
     "name": "stderr",
     "output_type": "stream",
     "text": [
      "save: 3.00 seconds\n",
      "locate patches: 0.03 seconds\n",
      "load saturation image: 26.52 seconds\n",
      "extract, reshape, normalize: 11.49 seconds\n",
      "predict: 110.15 seconds\n"
     ]
    },
    {
     "name": "stdout",
     "output_type": "stream",
     "text": [
      "\n",
      "56937 patches in ROI\n",
      "56937 roi samples\n",
      "MD635-F77-2016.05.19-13.07.42_MD635_1_0229"
     ]
    },
    {
     "name": "stderr",
     "output_type": "stream",
     "text": [
      "save: 2.91 seconds\n",
      "locate patches: 0.04 seconds\n",
      "load saturation image: 29.19 seconds\n",
      "extract, reshape, normalize: 12.25 seconds\n",
      "predict: 109.01 seconds\n"
     ]
    },
    {
     "name": "stdout",
     "output_type": "stream",
     "text": [
      "\n",
      "56869 patches in ROI\n",
      "56869 roi samples\n",
      "MD635-F77-2016.05.19-13.07.42_MD635_2_0230"
     ]
    },
    {
     "name": "stderr",
     "output_type": "stream",
     "text": [
      "save: 3.23 seconds\n",
      "locate patches: 0.03 seconds\n",
      "load saturation image: 27.18 seconds\n",
      "extract, reshape, normalize: 11.66 seconds\n",
      "predict: 110.06 seconds\n"
     ]
    },
    {
     "name": "stdout",
     "output_type": "stream",
     "text": [
      "\n",
      "57077 patches in ROI\n",
      "57077 roi samples\n",
      "MD635-F78-2016.05.19-13.26.25_MD635_1_0232"
     ]
    },
    {
     "name": "stderr",
     "output_type": "stream",
     "text": [
      "save: 2.97 seconds\n",
      "locate patches: 0.04 seconds\n",
      "load saturation image: 28.93 seconds\n",
      "extract, reshape, normalize: 12.65 seconds\n",
      "predict: 111.14 seconds\n"
     ]
    },
    {
     "name": "stdout",
     "output_type": "stream",
     "text": [
      "\n",
      "57137 patches in ROI\n",
      "57137 roi samples\n",
      "MD635-F78-2016.05.19-13.26.25_MD635_2_0233"
     ]
    },
    {
     "name": "stderr",
     "output_type": "stream",
     "text": [
      "save: 3.19 seconds\n",
      "locate patches: 0.03 seconds\n",
      "load saturation image: 27.30 seconds\n",
      "extract, reshape, normalize: 12.64 seconds\n",
      "predict: 110.37 seconds\n"
     ]
    },
    {
     "name": "stdout",
     "output_type": "stream",
     "text": [
      "\n",
      "57047 patches in ROI\n",
      "57047 roi samples\n",
      "MD635-F79-2016.05.19-13.44.43_MD635_1_0235"
     ]
    },
    {
     "name": "stderr",
     "output_type": "stream",
     "text": [
      "save: 3.18 seconds\n",
      "locate patches: 0.03 seconds\n",
      "load saturation image: 29.07 seconds\n",
      "extract, reshape, normalize: 12.11 seconds\n",
      "predict: 109.74 seconds\n"
     ]
    },
    {
     "name": "stdout",
     "output_type": "stream",
     "text": [
      "\n",
      "57093 patches in ROI\n",
      "57093 roi samples\n",
      "MD635-F79-2016.05.19-13.44.43_MD635_2_0236"
     ]
    },
    {
     "name": "stderr",
     "output_type": "stream",
     "text": [
      "save: 3.25 seconds\n",
      "locate patches: 0.03 seconds\n",
      "load saturation image: 27.19 seconds\n",
      "extract, reshape, normalize: 12.47 seconds\n",
      "predict: 108.67 seconds\n"
     ]
    },
    {
     "name": "stdout",
     "output_type": "stream",
     "text": [
      "\n",
      "56228 patches in ROI\n",
      "56228 roi samples\n",
      "MD635-F80-2016.05.19-14.03.50_MD635_1_0238"
     ]
    },
    {
     "name": "stderr",
     "output_type": "stream",
     "text": [
      "save: 3.15 seconds\n",
      "locate patches: 0.04 seconds\n",
      "load saturation image: 29.10 seconds\n",
      "extract, reshape, normalize: 11.08 seconds\n",
      "predict: 109.48 seconds\n"
     ]
    },
    {
     "name": "stdout",
     "output_type": "stream",
     "text": [
      "\n",
      "56397 patches in ROI\n",
      "56397 roi samples\n",
      "MD635-F80-2016.05.19-14.03.50_MD635_2_0239"
     ]
    },
    {
     "name": "stderr",
     "output_type": "stream",
     "text": [
      "save: 3.20 seconds\n",
      "locate patches: 0.03 seconds\n",
      "load saturation image: 27.71 seconds\n",
      "extract, reshape, normalize: 12.41 seconds\n",
      "predict: 107.38 seconds\n"
     ]
    },
    {
     "name": "stdout",
     "output_type": "stream",
     "text": [
      "\n",
      "55581 patches in ROI\n",
      "55581 roi samples\n",
      "MD635-F81-2016.05.19-14.21.58_MD635_1_0241"
     ]
    },
    {
     "name": "stderr",
     "output_type": "stream",
     "text": [
      "save: 2.78 seconds\n",
      "locate patches: 0.03 seconds\n",
      "load saturation image: 28.49 seconds\n",
      "extract, reshape, normalize: 12.60 seconds\n",
      "predict: 109.16 seconds\n"
     ]
    },
    {
     "name": "stdout",
     "output_type": "stream",
     "text": [
      "\n",
      "56536 patches in ROI\n",
      "56536 roi samples\n",
      "MD635-F82-2016.05.19-14.39.57_MD635_1_0244"
     ]
    },
    {
     "name": "stderr",
     "output_type": "stream",
     "text": [
      "save: 3.03 seconds\n",
      "locate patches: 0.03 seconds\n",
      "load saturation image: 27.61 seconds\n",
      "extract, reshape, normalize: 14.03 seconds\n",
      "predict: 109.93 seconds\n"
     ]
    },
    {
     "name": "stdout",
     "output_type": "stream",
     "text": [
      "\n",
      "56866 patches in ROI\n",
      "56866 roi samples\n",
      "MD635-F82-2016.05.19-14.39.57_MD635_2_0245"
     ]
    },
    {
     "name": "stderr",
     "output_type": "stream",
     "text": [
      "save: 3.18 seconds\n",
      "locate patches: 0.03 seconds\n",
      "load saturation image: 26.77 seconds\n",
      "extract, reshape, normalize: 13.35 seconds\n",
      "predict: 110.41 seconds\n"
     ]
    },
    {
     "name": "stdout",
     "output_type": "stream",
     "text": [
      "\n",
      "56849 patches in ROI\n",
      "56849 roi samples\n",
      "MD635-F83-2016.05.19-14.59.24_MD635_1_0247"
     ]
    },
    {
     "name": "stderr",
     "output_type": "stream",
     "text": [
      "save: 2.87 seconds\n",
      "locate patches: 0.03 seconds\n",
      "load saturation image: 28.80 seconds\n",
      "extract, reshape, normalize: 11.29 seconds\n",
      "predict: 110.32 seconds\n"
     ]
    },
    {
     "name": "stdout",
     "output_type": "stream",
     "text": [
      "\n",
      "56841 patches in ROI\n",
      "56841 roi samples\n",
      "MD635-F83-2016.05.19-14.59.24_MD635_2_0248"
     ]
    },
    {
     "name": "stderr",
     "output_type": "stream",
     "text": [
      "save: 3.10 seconds\n",
      "locate patches: 0.03 seconds\n",
      "load saturation image: 27.85 seconds\n",
      "extract, reshape, normalize: 12.07 seconds\n",
      "predict: 108.69 seconds\n"
     ]
    },
    {
     "name": "stdout",
     "output_type": "stream",
     "text": [
      "\n",
      "56770 patches in ROI\n",
      "56770 roi samples\n",
      "MD635-F84-2016.05.19-15.18.11_MD635_1_0250"
     ]
    },
    {
     "name": "stderr",
     "output_type": "stream",
     "text": [
      "save: 3.24 seconds\n",
      "locate patches: 0.03 seconds\n",
      "load saturation image: 26.89 seconds\n",
      "extract, reshape, normalize: 11.61 seconds\n",
      "predict: 109.02 seconds\n"
     ]
    },
    {
     "name": "stdout",
     "output_type": "stream",
     "text": [
      "\n",
      "56451 patches in ROI\n",
      "56451 roi samples\n",
      "MD635-F84-2016.05.19-15.18.11_MD635_2_0251"
     ]
    },
    {
     "name": "stderr",
     "output_type": "stream",
     "text": [
      "save: 3.13 seconds\n",
      "locate patches: 0.03 seconds\n",
      "load saturation image: 25.32 seconds\n",
      "extract, reshape, normalize: 11.08 seconds\n",
      "predict: 108.22 seconds\n"
     ]
    },
    {
     "name": "stdout",
     "output_type": "stream",
     "text": [
      "\n",
      "55954 patches in ROI\n",
      "55954 roi samples\n",
      "MD635-F85-2016.05.19-15.36.47_MD635_1_0253\n",
      "55961"
     ]
    },
    {
     "name": "stderr",
     "output_type": "stream",
     "text": [
      "save: 3.21 seconds\n",
      "locate patches: 0.04 seconds\n",
      "load saturation image: 28.53 seconds\n",
      "extract, reshape, normalize: 11.56 seconds\n",
      "predict: 108.09 seconds\n",
      "save: 2.97 seconds\n"
     ]
    },
    {
     "name": "stdout",
     "output_type": "stream",
     "text": [
      " patches in ROI\n",
      "55961 roi samples\n",
      "MD635-F85-2016.05.19-15.36.47_MD635_2_0254"
     ]
    },
    {
     "name": "stderr",
     "output_type": "stream",
     "text": [
      "locate patches: 0.03 seconds\n",
      "load saturation image: 26.65 seconds\n",
      "extract, reshape, normalize: 12.24 seconds\n",
      "predict: 108.26 seconds\n"
     ]
    },
    {
     "name": "stdout",
     "output_type": "stream",
     "text": [
      "\n",
      "55973 patches in ROI\n",
      "55973 roi samples\n",
      "MD635-F86-2016.05.19-15.55.34_MD635_1_0256"
     ]
    },
    {
     "name": "stderr",
     "output_type": "stream",
     "text": [
      "save: 3.07 seconds\n",
      "locate patches: 0.03 seconds\n",
      "load saturation image: 27.90 seconds\n",
      "extract, reshape, normalize: 11.64 seconds\n",
      "predict: 108.93 seconds\n"
     ]
    },
    {
     "name": "stdout",
     "output_type": "stream",
     "text": [
      "\n",
      "56217 patches in ROI\n",
      "56217 roi samples\n",
      "MD635-F86-2016.05.19-15.55.34_MD635_2_0257"
     ]
    },
    {
     "name": "stderr",
     "output_type": "stream",
     "text": [
      "save: 2.86 seconds\n",
      "locate patches: 0.03 seconds\n",
      "load saturation image: 26.01 seconds\n",
      "extract, reshape, normalize: 11.96 seconds\n",
      "predict: 108.97 seconds\n"
     ]
    },
    {
     "name": "stdout",
     "output_type": "stream",
     "text": [
      "\n",
      "56274 patches in ROI\n",
      "56274 roi samples\n",
      "MD635-F87-2016.05.19-16.15.25_MD635_1_0259"
     ]
    },
    {
     "name": "stderr",
     "output_type": "stream",
     "text": [
      "save: 3.02 seconds\n",
      "locate patches: 0.03 seconds\n",
      "load saturation image: 28.04 seconds\n",
      "extract, reshape, normalize: 12.52 seconds\n",
      "predict: 109.32 seconds\n"
     ]
    },
    {
     "name": "stdout",
     "output_type": "stream",
     "text": [
      "\n",
      "56363 patches in ROI\n",
      "56363 roi samples\n",
      "MD635-F87-2016.05.19-16.15.25_MD635_2_0260"
     ]
    },
    {
     "name": "stderr",
     "output_type": "stream",
     "text": [
      "save: 3.12 seconds\n",
      "locate patches: 0.03 seconds\n",
      "load saturation image: 26.77 seconds\n",
      "extract, reshape, normalize: 11.87 seconds\n",
      "predict: 110.45 seconds\n"
     ]
    },
    {
     "name": "stdout",
     "output_type": "stream",
     "text": [
      "\n",
      "56873 patches in ROI\n",
      "56873 roi samples\n",
      "MD635-F88-2016.05.19-16.34.48_MD635_1_0262"
     ]
    },
    {
     "name": "stderr",
     "output_type": "stream",
     "text": [
      "save: 3.06 seconds\n",
      "locate patches: 0.03 seconds\n",
      "load saturation image: 26.70 seconds\n",
      "extract, reshape, normalize: 13.25 seconds\n",
      "predict: 109.02 seconds\n"
     ]
    },
    {
     "name": "stdout",
     "output_type": "stream",
     "text": [
      "\n",
      "57148 patches in ROI\n",
      "57148 roi samples\n",
      "MD635-F88-2016.05.19-16.34.48_MD635_2_0263\n",
      "57086"
     ]
    },
    {
     "name": "stderr",
     "output_type": "stream",
     "text": [
      "save: 3.17 seconds\n",
      "locate patches: 0.05 seconds\n",
      "load saturation image: 27.10 seconds\n",
      "extract, reshape, normalize: 13.82 seconds\n",
      "predict: 110.47 seconds\n",
      "save: 3.16 seconds\n"
     ]
    },
    {
     "name": "stdout",
     "output_type": "stream",
     "text": [
      " patches in ROI\n",
      "57086 roi samples\n",
      "MD635-F89-2016.05.19-16.53.54_MD635_1_0265"
     ]
    },
    {
     "name": "stderr",
     "output_type": "stream",
     "text": [
      "locate patches: 0.03 seconds\n",
      "load saturation image: 29.82 seconds\n",
      "extract, reshape, normalize: 12.07 seconds\n",
      "predict: 109.59 seconds\n"
     ]
    },
    {
     "name": "stdout",
     "output_type": "stream",
     "text": [
      "\n",
      "56627 patches in ROI\n",
      "56627 roi samples\n",
      "MD635-F89-2016.05.19-16.53.54_MD635_2_0266"
     ]
    },
    {
     "name": "stderr",
     "output_type": "stream",
     "text": [
      "save: 3.06 seconds\n",
      "locate patches: 0.04 seconds\n",
      "load saturation image: 27.47 seconds\n",
      "extract, reshape, normalize: 11.85 seconds\n",
      "predict: 109.11 seconds\n"
     ]
    },
    {
     "name": "stdout",
     "output_type": "stream",
     "text": [
      "\n",
      "57207 patches in ROI\n",
      "57207 roi samples\n",
      "MD635-F90-2016.05.19-17.14.09_MD635_2_0269"
     ]
    },
    {
     "name": "stderr",
     "output_type": "stream",
     "text": [
      "save: 3.31 seconds\n",
      "locate patches: 0.03 seconds\n"
     ]
    },
    {
     "name": "stdout",
     "output_type": "stream",
     "text": [
      "\n",
      "57300 patches in ROI\n",
      "57300"
     ]
    },
    {
     "name": "stderr",
     "output_type": "stream",
     "text": [
      "load saturation image: 28.23 seconds\n",
      "extract, reshape, normalize: 12.44 seconds\n",
      "predict: 110.76 seconds\n",
      "save: 2.76 seconds\n"
     ]
    },
    {
     "name": "stdout",
     "output_type": "stream",
     "text": [
      " roi samples\n",
      "MD635-F91-2016.05.19-17.33.31_MD635_1_0271"
     ]
    },
    {
     "name": "stderr",
     "output_type": "stream",
     "text": [
      "locate patches: 0.03 seconds\n",
      "load saturation image: 28.96 seconds\n",
      "extract, reshape, normalize: 12.00 seconds\n",
      "predict: 108.23 seconds\n"
     ]
    },
    {
     "name": "stdout",
     "output_type": "stream",
     "text": [
      "\n",
      "56747 patches in ROI\n",
      "56747 roi samples\n",
      "MD635-F91-2016.05.19-17.33.31_MD635_2_0272"
     ]
    },
    {
     "name": "stderr",
     "output_type": "stream",
     "text": [
      "save: 2.97 seconds\n",
      "locate patches: 0.04 seconds\n",
      "load saturation image: 27.02 seconds\n",
      "extract, reshape, normalize: 11.68 seconds\n",
      "predict: 108.52 seconds\n"
     ]
    },
    {
     "name": "stdout",
     "output_type": "stream",
     "text": [
      "\n",
      "57032 patches in ROI\n",
      "57032 roi samples\n",
      "MD635-F92-2016.05.19-17.52.45_MD635_1_0274"
     ]
    },
    {
     "name": "stderr",
     "output_type": "stream",
     "text": [
      "save: 3.04 seconds\n",
      "locate patches: 0.03 seconds\n",
      "load saturation image: 26.45 seconds\n",
      "extract, reshape, normalize: 13.69 seconds\n",
      "predict: 110.28 seconds\n"
     ]
    },
    {
     "name": "stdout",
     "output_type": "stream",
     "text": [
      "\n",
      "56924 patches in ROI\n",
      "56924 roi samples\n",
      "MD635-F92-2016.05.19-17.52.45_MD635_2_0275"
     ]
    },
    {
     "name": "stderr",
     "output_type": "stream",
     "text": [
      "save: 3.03 seconds\n",
      "locate patches: 0.03 seconds\n",
      "load saturation image: 26.30 seconds\n",
      "extract, reshape, normalize: 11.27 seconds\n",
      "predict: 110.58 seconds\n"
     ]
    },
    {
     "name": "stdout",
     "output_type": "stream",
     "text": [
      "\n",
      "57131 patches in ROI\n",
      "57131 roi samples\n",
      "MD635-F93-2016.05.19-18.12.24_MD635_1_0277"
     ]
    },
    {
     "name": "stderr",
     "output_type": "stream",
     "text": [
      "save: 3.19 seconds\n",
      "locate patches: 0.03 seconds\n",
      "load saturation image: 28.83 seconds\n",
      "extract, reshape, normalize: 12.71 seconds\n",
      "predict: 107.99 seconds\n"
     ]
    },
    {
     "name": "stdout",
     "output_type": "stream",
     "text": [
      "\n",
      "56704 patches in ROI\n",
      "56704 roi samples\n",
      "MD635-F93-2016.05.19-18.12.24_MD635_2_0278\n",
      "56732"
     ]
    },
    {
     "name": "stderr",
     "output_type": "stream",
     "text": [
      "save: 3.22 seconds\n",
      "locate patches: 0.03 seconds\n",
      "load saturation image: 27.84 seconds\n",
      "extract, reshape, normalize: 11.46 seconds\n",
      "predict: 108.11 seconds\n",
      "save: 3.27 seconds\n"
     ]
    },
    {
     "name": "stdout",
     "output_type": "stream",
     "text": [
      " patches in ROI\n",
      "56732 roi samples\n",
      "MD635-F94-2016.05.19-18.31.07_MD635_1_0280"
     ]
    },
    {
     "name": "stderr",
     "output_type": "stream",
     "text": [
      "locate patches: 0.03 seconds\n",
      "load saturation image: 26.55 seconds\n",
      "extract, reshape, normalize: 12.73 seconds\n",
      "predict: 109.68 seconds\n"
     ]
    },
    {
     "name": "stdout",
     "output_type": "stream",
     "text": [
      "\n",
      "56597 patches in ROI\n",
      "56597 roi samples\n",
      "MD635-F94-2016.05.19-18.31.07_MD635_2_0281"
     ]
    },
    {
     "name": "stderr",
     "output_type": "stream",
     "text": [
      "save: 3.22 seconds\n",
      "locate patches: 0.03 seconds\n",
      "load saturation image: 27.25 seconds\n",
      "extract, reshape, normalize: 10.92 seconds\n",
      "predict: 106.55 seconds\n"
     ]
    },
    {
     "name": "stdout",
     "output_type": "stream",
     "text": [
      "\n",
      "55288 patches in ROI\n",
      "55288 roi samples\n",
      "MD635-F95-2016.05.19-18.49.58_MD635_1_0283"
     ]
    },
    {
     "name": "stderr",
     "output_type": "stream",
     "text": [
      "save: 3.10 seconds\n",
      "locate patches: 0.03 seconds\n",
      "load saturation image: 27.11 seconds\n",
      "extract, reshape, normalize: 12.12 seconds\n",
      "predict: 107.53 seconds\n",
      "save: 3.27 seconds\n"
     ]
    },
    {
     "name": "stdout",
     "output_type": "stream",
     "text": [
      "\n",
      "56552 patches in ROI\n",
      "56552 roi samples\n",
      "MD635-F95-2016.05.19-18.49.58_MD635_2_0284"
     ]
    },
    {
     "name": "stderr",
     "output_type": "stream",
     "text": [
      "locate patches: 0.04 seconds\n",
      "load saturation image: 29.34 seconds\n",
      "extract, reshape, normalize: 12.56 seconds\n",
      "predict: 109.57 seconds\n"
     ]
    },
    {
     "name": "stdout",
     "output_type": "stream",
     "text": [
      "\n",
      "56669 patches in ROI\n",
      "56669 roi samples\n",
      "MD635-F96-2016.05.19-19.08.35_MD635_1_0286"
     ]
    },
    {
     "name": "stderr",
     "output_type": "stream",
     "text": [
      "save: 2.93 seconds\n",
      "locate patches: 0.03 seconds\n",
      "load saturation image: 27.36 seconds\n",
      "extract, reshape, normalize: 11.03 seconds\n",
      "predict: 108.77 seconds\n"
     ]
    },
    {
     "name": "stdout",
     "output_type": "stream",
     "text": [
      "\n",
      "56300 patches in ROI\n",
      "56300 roi samples\n",
      "MD635-F96-2016.05.19-19.08.35_MD635_2_0287"
     ]
    },
    {
     "name": "stderr",
     "output_type": "stream",
     "text": [
      "save: 3.08 seconds\n",
      "locate patches: 0.03 seconds\n",
      "load saturation image: 26.86 seconds\n",
      "extract, reshape, normalize: 11.35 seconds\n",
      "predict: 109.10 seconds\n"
     ]
    },
    {
     "name": "stdout",
     "output_type": "stream",
     "text": [
      "\n",
      "56366 patches in ROI\n",
      "56366 roi samples\n",
      "MD635-F97-2016.05.19-19.26.37_MD635_1_0289"
     ]
    },
    {
     "name": "stderr",
     "output_type": "stream",
     "text": [
      "save: 3.20 seconds\n",
      "locate patches: 0.03 seconds\n",
      "load saturation image: 27.25 seconds\n",
      "extract, reshape, normalize: 11.75 seconds\n",
      "predict: 106.78 seconds\n"
     ]
    },
    {
     "name": "stdout",
     "output_type": "stream",
     "text": [
      "\n",
      "56005 patches in ROI\n",
      "56005 roi samples\n",
      "MD635-F97-2016.05.19-19.26.37_MD635_2_0290"
     ]
    },
    {
     "name": "stderr",
     "output_type": "stream",
     "text": [
      "save: 3.20 seconds\n",
      "locate patches: 0.04 seconds\n"
     ]
    },
    {
     "name": "stdout",
     "output_type": "stream",
     "text": [
      "\n",
      "56397 patches in ROI\n",
      "56397"
     ]
    },
    {
     "name": "stderr",
     "output_type": "stream",
     "text": [
      "load saturation image: 26.91 seconds\n",
      "extract, reshape, normalize: 11.45 seconds\n",
      "predict: 109.26 seconds\n",
      "save: 2.77 seconds\n"
     ]
    },
    {
     "name": "stdout",
     "output_type": "stream",
     "text": [
      " roi samples\n",
      "MD635-F98-2016.05.19-19.46.20_MD635_1_0292\n",
      "55751"
     ]
    },
    {
     "name": "stderr",
     "output_type": "stream",
     "text": [
      "locate patches: 0.04 seconds\n",
      "load saturation image: 27.80 seconds\n",
      "extract, reshape, normalize: 12.32 seconds\n",
      "predict: 107.06 seconds\n"
     ]
    },
    {
     "name": "stdout",
     "output_type": "stream",
     "text": [
      " patches in ROI\n",
      "55751 roi samples\n",
      "MD635-F98-2016.05.19-19.46.20_MD635_2_0293"
     ]
    },
    {
     "name": "stderr",
     "output_type": "stream",
     "text": [
      "save: 3.12 seconds\n",
      "locate patches: 0.03 seconds\n",
      "load saturation image: 27.24 seconds\n",
      "extract, reshape, normalize: 11.45 seconds\n",
      "predict: 107.94 seconds\n",
      "save: 2.69 seconds\n"
     ]
    },
    {
     "name": "stdout",
     "output_type": "stream",
     "text": [
      "\n",
      "55892 patches in ROI\n",
      "55892 roi samples\n",
      "MD635-F99-2016.05.19-20.06.21_MD635_1_0295"
     ]
    },
    {
     "name": "stderr",
     "output_type": "stream",
     "text": [
      "locate patches: 0.04 seconds\n",
      "load saturation image: 30.16 seconds\n",
      "extract, reshape, normalize: 11.13 seconds\n",
      "predict: 106.82 seconds\n"
     ]
    },
    {
     "name": "stdout",
     "output_type": "stream",
     "text": [
      "\n",
      "55429 patches in ROI\n",
      "55429 roi samples\n",
      "MD635-F99-2016.05.19-20.06.21_MD635_2_0296"
     ]
    },
    {
     "name": "stderr",
     "output_type": "stream",
     "text": [
      "save: 2.89 seconds\n",
      "locate patches: 0.04 seconds\n",
      "load saturation image: 28.33 seconds\n",
      "extract, reshape, normalize: 12.99 seconds\n",
      "predict: 107.05 seconds\n"
     ]
    },
    {
     "name": "stdout",
     "output_type": "stream",
     "text": [
      "\n",
      "55464 patches in ROI\n",
      "55464 roi samples\n",
      "MD635-F100-2016.05.19-20.25.22_MD635_1_0298"
     ]
    },
    {
     "name": "stderr",
     "output_type": "stream",
     "text": [
      "save: 2.99 seconds\n",
      "locate patches: 0.04 seconds\n",
      "load saturation image: 28.16 seconds\n",
      "extract, reshape, normalize: 11.83 seconds\n",
      "predict: 106.68 seconds\n"
     ]
    },
    {
     "name": "stdout",
     "output_type": "stream",
     "text": [
      "\n",
      "55567 patches in ROI\n",
      "55567 roi samples\n",
      "MD635-F100-2016.05.19-20.25.22_MD635_2_0299"
     ]
    },
    {
     "name": "stderr",
     "output_type": "stream",
     "text": [
      "save: 3.12 seconds\n",
      "locate patches: 0.03 seconds\n",
      "load saturation image: 26.12 seconds\n",
      "extract, reshape, normalize: 12.03 seconds\n",
      "predict: 106.94 seconds\n"
     ]
    },
    {
     "name": "stdout",
     "output_type": "stream",
     "text": [
      "\n",
      "55320 patches in ROI\n",
      "55320 roi samples\n",
      "MD635-F101-2016.05.19-20.44.28_MD635_1_0301"
     ]
    },
    {
     "name": "stderr",
     "output_type": "stream",
     "text": [
      "save: 2.97 seconds\n",
      "locate patches: 0.03 seconds\n",
      "load saturation image: 26.20 seconds\n",
      "extract, reshape, normalize: 11.15 seconds\n",
      "predict: 105.78 seconds\n"
     ]
    },
    {
     "name": "stdout",
     "output_type": "stream",
     "text": [
      "\n",
      "54691 patches in ROI\n",
      "54691 roi samples\n",
      "MD635-F101-2016.05.19-20.44.28_MD635_2_0302"
     ]
    },
    {
     "name": "stderr",
     "output_type": "stream",
     "text": [
      "save: 3.05 seconds\n",
      "locate patches: 0.04 seconds\n",
      "load saturation image: 26.10 seconds\n",
      "extract, reshape, normalize: 12.86 seconds\n",
      "predict: 104.88 seconds\n"
     ]
    },
    {
     "name": "stdout",
     "output_type": "stream",
     "text": [
      "\n",
      "54490 patches in ROI\n",
      "54490 roi samples\n",
      "MD635-F102-2016.05.19-20.58.51_MD635_1_0304"
     ]
    },
    {
     "name": "stderr",
     "output_type": "stream",
     "text": [
      "save: 3.01 seconds\n",
      "locate patches: 0.03 seconds\n",
      "load saturation image: 27.17 seconds\n",
      "extract, reshape, normalize: 11.06 seconds\n",
      "predict: 105.69 seconds\n"
     ]
    },
    {
     "name": "stdout",
     "output_type": "stream",
     "text": [
      "\n",
      "54689 patches in ROI\n",
      "54689 roi samples\n",
      "MD635-F102-2016.05.19-20.58.51_MD635_2_0305"
     ]
    },
    {
     "name": "stderr",
     "output_type": "stream",
     "text": [
      "save: 3.12 seconds\n",
      "locate patches: 0.03 seconds\n",
      "load saturation image: 27.32 seconds\n",
      "extract, reshape, normalize: 12.20 seconds\n",
      "predict: 104.05 seconds\n"
     ]
    },
    {
     "name": "stdout",
     "output_type": "stream",
     "text": [
      "\n",
      "53816 patches in ROI\n",
      "53816 roi samples\n",
      "MD635-F103-2016.05.19-21.14.34_MD635_1_0307"
     ]
    },
    {
     "name": "stderr",
     "output_type": "stream",
     "text": [
      "save: 2.69 seconds\n",
      "locate patches: 0.03 seconds\n",
      "load saturation image: 28.48 seconds\n",
      "extract, reshape, normalize: 11.33 seconds\n",
      "predict: 103.88 seconds\n"
     ]
    },
    {
     "name": "stdout",
     "output_type": "stream",
     "text": [
      "\n",
      "53770 patches in ROI\n",
      "53770 roi samples\n",
      "MD635-F103-2016.05.19-21.14.34_MD635_2_0308"
     ]
    },
    {
     "name": "stderr",
     "output_type": "stream",
     "text": [
      "save: 3.02 seconds\n",
      "locate patches: 0.03 seconds\n",
      "load saturation image: 27.19 seconds\n",
      "extract, reshape, normalize: 11.68 seconds\n",
      "predict: 104.01 seconds\n"
     ]
    },
    {
     "name": "stdout",
     "output_type": "stream",
     "text": [
      "\n",
      "53769 patches in ROI\n",
      "53769 roi samples\n",
      "MD635-F104-2016.05.19-21.30.09_MD635_1_0310"
     ]
    },
    {
     "name": "stderr",
     "output_type": "stream",
     "text": [
      "save: 3.02 seconds\n",
      "locate patches: 0.03 seconds\n",
      "load saturation image: 28.01 seconds\n",
      "extract, reshape, normalize: 11.80 seconds\n",
      "predict: 102.70 seconds\n"
     ]
    },
    {
     "name": "stdout",
     "output_type": "stream",
     "text": [
      "\n",
      "53456 patches in ROI\n",
      "53456 roi samples\n",
      "MD635-F104-2016.05.19-21.30.09_MD635_2_0311"
     ]
    },
    {
     "name": "stderr",
     "output_type": "stream",
     "text": [
      "save: 2.97 seconds\n",
      "locate patches: 0.03 seconds\n",
      "load saturation image: 25.91 seconds\n",
      "extract, reshape, normalize: 11.84 seconds\n",
      "predict: 100.73 seconds\n"
     ]
    },
    {
     "name": "stdout",
     "output_type": "stream",
     "text": [
      "\n",
      "53071 patches in ROI\n",
      "53071 roi samples\n",
      "MD635-F105-2016.05.19-21.45.41_MD635_1_0313"
     ]
    },
    {
     "name": "stderr",
     "output_type": "stream",
     "text": [
      "save: 2.82 seconds\n",
      "locate patches: 0.04 seconds\n",
      "load saturation image: 26.89 seconds\n",
      "extract, reshape, normalize: 10.65 seconds\n",
      "predict: 101.73 seconds\n"
     ]
    },
    {
     "name": "stdout",
     "output_type": "stream",
     "text": [
      "\n",
      "52781 patches in ROI\n",
      "52781 roi samples\n",
      "MD635-F105-2016.05.19-21.45.41_MD635_2_0314"
     ]
    },
    {
     "name": "stderr",
     "output_type": "stream",
     "text": [
      "save: 2.98 seconds\n",
      "locate patches: 0.03 seconds\n",
      "load saturation image: 26.36 seconds\n",
      "extract, reshape, normalize: 11.56 seconds\n",
      "predict: 101.69 seconds\n"
     ]
    },
    {
     "name": "stdout",
     "output_type": "stream",
     "text": [
      "\n",
      "52627 patches in ROI\n",
      "52627 roi samples\n",
      "MD635-F106-2016.05.19-22.01.46_MD635_1_0316"
     ]
    },
    {
     "name": "stderr",
     "output_type": "stream",
     "text": [
      "save: 2.95 seconds\n",
      "locate patches: 0.03 seconds\n",
      "load saturation image: 25.86 seconds\n",
      "extract, reshape, normalize: 11.56 seconds\n",
      "predict: 100.96 seconds\n"
     ]
    },
    {
     "name": "stdout",
     "output_type": "stream",
     "text": [
      "\n",
      "52225 patches in ROI\n",
      "52225 roi samples\n",
      "MD635-F106-2016.05.19-22.01.46_MD635_2_0317"
     ]
    },
    {
     "name": "stderr",
     "output_type": "stream",
     "text": [
      "save: 2.84 seconds\n",
      "locate patches: 0.04 seconds\n",
      "load saturation image: 27.06 seconds\n",
      "extract, reshape, normalize: 13.11 seconds\n",
      "predict: 100.37 seconds\n"
     ]
    },
    {
     "name": "stdout",
     "output_type": "stream",
     "text": [
      "\n",
      "52100 patches in ROI\n",
      "52100 roi samples\n",
      "MD635-F107-2016.05.19-22.17.03_MD635_1_0319"
     ]
    },
    {
     "name": "stderr",
     "output_type": "stream",
     "text": [
      "save: 2.89 seconds\n",
      "locate patches: 0.03 seconds\n",
      "load saturation image: 28.70 seconds\n",
      "extract, reshape, normalize: 10.23 seconds\n",
      "predict: 98.88 seconds\n"
     ]
    },
    {
     "name": "stdout",
     "output_type": "stream",
     "text": [
      "\n",
      "51389 patches in ROI\n",
      "51389 roi samples\n",
      "MD635-F107-2016.05.19-22.17.03_MD635_2_0320"
     ]
    },
    {
     "name": "stderr",
     "output_type": "stream",
     "text": [
      "save: 2.91 seconds\n",
      "locate patches: 0.03 seconds\n",
      "load saturation image: 28.10 seconds\n",
      "extract, reshape, normalize: 11.57 seconds\n",
      "predict: 99.73 seconds\n"
     ]
    },
    {
     "name": "stdout",
     "output_type": "stream",
     "text": [
      "\n",
      "51938 patches in ROI\n",
      "51938 roi samples\n",
      "MD635-F108-2016.05.19-22.32.40_MD635_1_0322"
     ]
    },
    {
     "name": "stderr",
     "output_type": "stream",
     "text": [
      "save: 2.91 seconds\n",
      "locate patches: 0.03 seconds\n",
      "load saturation image: 26.72 seconds\n",
      "extract, reshape, normalize: 9.81 seconds\n",
      "predict: 96.38 seconds\n"
     ]
    },
    {
     "name": "stdout",
     "output_type": "stream",
     "text": [
      "\n",
      "49989 patches in ROI\n",
      "49989 roi samples\n",
      "MD635-F108-2016.05.19-22.32.40_MD635_2_0323"
     ]
    },
    {
     "name": "stderr",
     "output_type": "stream",
     "text": [
      "save: 3.35 seconds\n",
      "locate patches: 0.03 seconds\n",
      "load saturation image: 25.87 seconds\n",
      "extract, reshape, normalize: 10.97 seconds\n",
      "predict: 95.30 seconds\n"
     ]
    },
    {
     "name": "stdout",
     "output_type": "stream",
     "text": [
      "\n",
      "49866 patches in ROI\n",
      "49866 roi samples\n",
      "MD635-F109-2016.05.19-22.46.43_MD635_1_0325"
     ]
    },
    {
     "name": "stderr",
     "output_type": "stream",
     "text": [
      "save: 3.33 seconds\n",
      "locate patches: 0.04 seconds\n",
      "load saturation image: 27.20 seconds\n",
      "extract, reshape, normalize: 9.22 seconds\n",
      "predict: 92.70 seconds\n"
     ]
    },
    {
     "name": "stdout",
     "output_type": "stream",
     "text": [
      "\n",
      "48284 patches in ROI\n",
      "48284 roi samples\n",
      "MD635-F109-2016.05.19-22.46.43_MD635_2_0326"
     ]
    },
    {
     "name": "stderr",
     "output_type": "stream",
     "text": [
      "save: 3.20 seconds\n",
      "locate patches: 0.04 seconds\n",
      "load saturation image: 27.22 seconds\n",
      "extract, reshape, normalize: 9.63 seconds\n",
      "predict: 92.46 seconds\n"
     ]
    },
    {
     "name": "stdout",
     "output_type": "stream",
     "text": [
      "\n",
      "48302 patches in ROI\n",
      "48302 roi samples\n",
      "MD635-F110-2016.05.19-23.00.00_MD635_1_0328\n",
      "47875"
     ]
    },
    {
     "name": "stderr",
     "output_type": "stream",
     "text": [
      "save: 3.22 seconds\n",
      "locate patches: 0.04 seconds\n",
      "load saturation image: 28.78 seconds\n",
      "extract, reshape, normalize: 9.83 seconds\n",
      "predict: 92.11 seconds\n",
      "save: 3.19 seconds\n"
     ]
    },
    {
     "name": "stdout",
     "output_type": "stream",
     "text": [
      " patches in ROI\n",
      "47875 roi samples\n",
      "MD635-F110-2016.05.19-23.00.00_MD635_2_0329"
     ]
    },
    {
     "name": "stderr",
     "output_type": "stream",
     "text": [
      "locate patches: 0.03 seconds\n",
      "load saturation image: 25.83 seconds\n",
      "extract, reshape, normalize: 9.35 seconds\n",
      "predict: 91.87 seconds\n"
     ]
    },
    {
     "name": "stdout",
     "output_type": "stream",
     "text": [
      "\n",
      "47957 patches in ROI\n",
      "47957 roi samples\n",
      "MD635-F111-2016.05.19-23.13.55_MD635_1_0331"
     ]
    },
    {
     "name": "stderr",
     "output_type": "stream",
     "text": [
      "save: 3.20 seconds\n",
      "locate patches: 0.03 seconds\n"
     ]
    },
    {
     "name": "stdout",
     "output_type": "stream",
     "text": [
      "\n",
      "47569 patches in ROI\n",
      "47569"
     ]
    },
    {
     "name": "stderr",
     "output_type": "stream",
     "text": [
      "load saturation image: 27.66 seconds\n",
      "extract, reshape, normalize: 10.78 seconds\n",
      "predict: 90.96 seconds\n",
      "save: 3.16 seconds\n"
     ]
    },
    {
     "name": "stdout",
     "output_type": "stream",
     "text": [
      " roi samples\n",
      "MD635-F111-2016.05.19-23.13.55_MD635_2_0332"
     ]
    },
    {
     "name": "stderr",
     "output_type": "stream",
     "text": [
      "locate patches: 0.03 seconds\n",
      "load saturation image: 26.71 seconds\n",
      "extract, reshape, normalize: 9.98 seconds\n",
      "predict: 90.34 seconds\n"
     ]
    },
    {
     "name": "stdout",
     "output_type": "stream",
     "text": [
      "\n",
      "47300 patches in ROI\n",
      "47300 roi samples\n",
      "MD635-F112-2016.05.19-23.28.08_MD635_1_0334"
     ]
    },
    {
     "name": "stderr",
     "output_type": "stream",
     "text": [
      "save: 3.15 seconds\n",
      "locate patches: 0.03 seconds\n",
      "load saturation image: 25.35 seconds\n",
      "extract, reshape, normalize: 9.55 seconds\n",
      "predict: 90.28 seconds\n"
     ]
    },
    {
     "name": "stdout",
     "output_type": "stream",
     "text": [
      "\n",
      "47103 patches in ROI\n",
      "47103 roi samples\n",
      "MD635-F112-2016.05.19-23.28.08_MD635_2_0335"
     ]
    },
    {
     "name": "stderr",
     "output_type": "stream",
     "text": [
      "save: 3.17 seconds\n",
      "locate patches: 0.03 seconds\n",
      "load saturation image: 24.48 seconds\n",
      "extract, reshape, normalize: 9.60 seconds\n",
      "predict: 90.11 seconds\n"
     ]
    },
    {
     "name": "stdout",
     "output_type": "stream",
     "text": [
      "\n",
      "46973 patches in ROI\n",
      "46973 roi samples\n",
      "MD635-F113-2016.05.19-23.40.05_MD635_1_0337"
     ]
    },
    {
     "name": "stderr",
     "output_type": "stream",
     "text": [
      "save: 3.12 seconds\n",
      "locate patches: 0.04 seconds\n",
      "load saturation image: 25.97 seconds\n",
      "extract, reshape, normalize: 9.35 seconds\n",
      "predict: 89.67 seconds\n"
     ]
    },
    {
     "name": "stdout",
     "output_type": "stream",
     "text": [
      "\n",
      "46688 patches in ROI\n",
      "46688 roi samples\n",
      "MD635-F113-2016.05.19-23.40.05_MD635_2_0338"
     ]
    },
    {
     "name": "stderr",
     "output_type": "stream",
     "text": [
      "save: 3.10 seconds\n",
      "locate patches: 0.03 seconds\n",
      "load saturation image: 24.47 seconds\n",
      "extract, reshape, normalize: 9.60 seconds\n",
      "predict: 89.17 seconds\n"
     ]
    },
    {
     "name": "stdout",
     "output_type": "stream",
     "text": [
      "\n",
      "46483 patches in ROI\n",
      "46483 roi samples\n",
      "MD635-F113-2016.05.19-23.40.05_MD635_3_0339"
     ]
    },
    {
     "name": "stderr",
     "output_type": "stream",
     "text": [
      "save: 3.01 seconds\n",
      "locate patches: 0.03 seconds\n"
     ]
    },
    {
     "name": "stdout",
     "output_type": "stream",
     "text": [
      "\n",
      "45536 patches in ROI\n",
      "45536"
     ]
    },
    {
     "name": "stderr",
     "output_type": "stream",
     "text": [
      "load saturation image: 22.91 seconds\n",
      "extract, reshape, normalize: 9.13 seconds\n",
      "predict: 86.73 seconds\n",
      "save: 3.07 seconds\n"
     ]
    },
    {
     "name": "stdout",
     "output_type": "stream",
     "text": [
      " roi samples\n",
      "MD635-F114-2016.05.19-23.57.07_MD635_1_0340\n",
      "45599"
     ]
    },
    {
     "name": "stderr",
     "output_type": "stream",
     "text": [
      "locate patches: 0.04 seconds\n",
      "load saturation image: 23.25 seconds\n",
      "extract, reshape, normalize: 10.26 seconds\n",
      "predict: 87.18 seconds\n"
     ]
    },
    {
     "name": "stdout",
     "output_type": "stream",
     "text": [
      " patches in ROI\n",
      "45599 roi samples\n",
      "MD635-F114-2016.05.19-23.57.07_MD635_2_0341"
     ]
    },
    {
     "name": "stderr",
     "output_type": "stream",
     "text": [
      "save: 3.04 seconds\n",
      "locate patches: 0.03 seconds\n",
      "load saturation image: 22.91 seconds\n",
      "extract, reshape, normalize: 9.20 seconds\n",
      "predict: 87.80 seconds\n"
     ]
    },
    {
     "name": "stdout",
     "output_type": "stream",
     "text": [
      "\n",
      "45767 patches in ROI\n",
      "45767 roi samples\n",
      "MD635-F114-2016.05.19-23.57.07_MD635_3_0342\n",
      "45393"
     ]
    },
    {
     "name": "stderr",
     "output_type": "stream",
     "text": [
      "save: 3.20 seconds\n",
      "locate patches: 0.03 seconds\n",
      "load saturation image: 20.06 seconds\n",
      "extract, reshape, normalize: 9.61 seconds\n",
      "predict: 87.08 seconds\n",
      "save: 3.04 seconds\n"
     ]
    },
    {
     "name": "stdout",
     "output_type": "stream",
     "text": [
      " patches in ROI\n",
      "45393 roi samples\n",
      "MD635-F115-2016.05.20-00.14.05_MD635_1_0343"
     ]
    },
    {
     "name": "stderr",
     "output_type": "stream",
     "text": [
      "locate patches: 0.03 seconds\n",
      "load saturation image: 24.66 seconds\n",
      "extract, reshape, normalize: 9.29 seconds\n",
      "predict: 86.98 seconds\n"
     ]
    },
    {
     "name": "stdout",
     "output_type": "stream",
     "text": [
      "\n",
      "45411 patches in ROI\n",
      "45411 roi samples\n",
      "MD635-F115-2016.05.20-00.14.05_MD635_2_0344"
     ]
    },
    {
     "name": "stderr",
     "output_type": "stream",
     "text": [
      "save: 3.05 seconds\n",
      "locate patches: 0.04 seconds\n",
      "load saturation image: 24.78 seconds\n",
      "extract, reshape, normalize: 9.40 seconds\n",
      "predict: 86.54 seconds\n"
     ]
    },
    {
     "name": "stdout",
     "output_type": "stream",
     "text": [
      "\n",
      "45098 patches in ROI\n",
      "45098 roi samples\n",
      "MD635-F115-2016.05.20-00.14.05_MD635_3_0345"
     ]
    },
    {
     "name": "stderr",
     "output_type": "stream",
     "text": [
      "save: 3.05 seconds\n",
      "locate patches: 0.03 seconds\n",
      "load saturation image: 22.84 seconds\n",
      "extract, reshape, normalize: 9.13 seconds\n",
      "predict: 86.27 seconds\n"
     ]
    },
    {
     "name": "stdout",
     "output_type": "stream",
     "text": [
      "\n",
      "45028 patches in ROI\n",
      "45028 roi samples\n",
      "MD635-F116-2016.05.20-00.31.07_MD635_1_0346"
     ]
    },
    {
     "name": "stderr",
     "output_type": "stream",
     "text": [
      "save: 3.04 seconds\n",
      "locate patches: 0.04 seconds\n",
      "load saturation image: 21.89 seconds\n",
      "extract, reshape, normalize: 8.72 seconds\n",
      "predict: 83.47 seconds\n"
     ]
    },
    {
     "name": "stdout",
     "output_type": "stream",
     "text": [
      "\n",
      "43536 patches in ROI\n",
      "43536 roi samples\n",
      "MD635-F116-2016.05.20-00.31.07_MD635_2_0347"
     ]
    },
    {
     "name": "stderr",
     "output_type": "stream",
     "text": [
      "save: 2.94 seconds\n",
      "locate patches: 0.03 seconds\n",
      "load saturation image: 23.59 seconds\n",
      "extract, reshape, normalize: 8.81 seconds\n",
      "predict: 84.37 seconds\n"
     ]
    },
    {
     "name": "stdout",
     "output_type": "stream",
     "text": [
      "\n",
      "43990 patches in ROI\n",
      "43990 roi samples\n",
      "MD635-F116-2016.05.20-00.31.07_MD635_3_0348"
     ]
    },
    {
     "name": "stderr",
     "output_type": "stream",
     "text": [
      "save: 2.94 seconds\n",
      "locate patches: 0.03 seconds\n",
      "load saturation image: 24.15 seconds\n",
      "extract, reshape, normalize: 8.86 seconds\n",
      "predict: 83.82 seconds\n"
     ]
    },
    {
     "name": "stdout",
     "output_type": "stream",
     "text": [
      "\n",
      "43896 patches in ROI\n",
      "43896 roi samples\n",
      "MD635-F117-2016.05.20-00.49.06_MD635_1_0349\n",
      "43380"
     ]
    },
    {
     "name": "stderr",
     "output_type": "stream",
     "text": [
      "save: 2.94 seconds\n",
      "locate patches: 0.04 seconds\n",
      "load saturation image: 24.09 seconds\n",
      "extract, reshape, normalize: 8.71 seconds\n",
      "predict: 83.02 seconds\n",
      "save: 2.98 seconds\n"
     ]
    },
    {
     "name": "stdout",
     "output_type": "stream",
     "text": [
      " patches in ROI\n",
      "43380 roi samples\n",
      "MD635-F117-2016.05.20-00.49.06_MD635_2_0350"
     ]
    },
    {
     "name": "stderr",
     "output_type": "stream",
     "text": [
      "locate patches: 0.04 seconds\n",
      "load saturation image: 24.28 seconds\n",
      "extract, reshape, normalize: 9.41 seconds\n",
      "predict: 82.97 seconds\n"
     ]
    },
    {
     "name": "stdout",
     "output_type": "stream",
     "text": [
      "\n",
      "43483 patches in ROI\n",
      "43483 roi samples\n",
      "MD635-F117-2016.05.20-00.49.06_MD635_3_0351"
     ]
    },
    {
     "name": "stderr",
     "output_type": "stream",
     "text": [
      "save: 2.92 seconds\n",
      "locate patches: 0.03 seconds\n",
      "load saturation image: 23.91 seconds\n",
      "extract, reshape, normalize: 9.62 seconds\n",
      "predict: 82.66 seconds\n"
     ]
    },
    {
     "name": "stdout",
     "output_type": "stream",
     "text": [
      "\n",
      "43242 patches in ROI\n",
      "43242 roi samples\n",
      "MD635-F118-2016.05.20-01.05.52_MD635_1_0352"
     ]
    },
    {
     "name": "stderr",
     "output_type": "stream",
     "text": [
      "save: 2.89 seconds\n",
      "locate patches: 0.03 seconds\n",
      "load saturation image: 26.47 seconds\n",
      "extract, reshape, normalize: 8.91 seconds\n",
      "predict: 81.73 seconds\n"
     ]
    },
    {
     "name": "stdout",
     "output_type": "stream",
     "text": [
      "\n",
      "42849 patches in ROI\n",
      "42849 roi samples\n",
      "MD635-F118-2016.05.20-01.05.52_MD635_2_0353"
     ]
    },
    {
     "name": "stderr",
     "output_type": "stream",
     "text": [
      "save: 2.82 seconds\n",
      "locate patches: 0.04 seconds\n",
      "load saturation image: 24.62 seconds\n",
      "extract, reshape, normalize: 8.70 seconds\n",
      "predict: 81.49 seconds\n"
     ]
    },
    {
     "name": "stdout",
     "output_type": "stream",
     "text": [
      "\n",
      "42542 patches in ROI\n",
      "42542 roi samples\n",
      "MD635-F118-2016.05.20-01.05.52_MD635_3_0354"
     ]
    },
    {
     "name": "stderr",
     "output_type": "stream",
     "text": [
      "save: 2.84 seconds\n",
      "locate patches: 0.04 seconds\n",
      "load saturation image: 22.29 seconds\n",
      "extract, reshape, normalize: 9.19 seconds\n",
      "predict: 78.57 seconds\n"
     ]
    },
    {
     "name": "stdout",
     "output_type": "stream",
     "text": [
      "\n",
      "41251 patches in ROI\n",
      "41251 roi samples\n",
      "MD635-F119-2016.05.20-01.22.34_MD635_1_0355"
     ]
    },
    {
     "name": "stderr",
     "output_type": "stream",
     "text": [
      "save: 2.76 seconds\n",
      "locate patches: 0.04 seconds\n",
      "load saturation image: 27.62 seconds\n",
      "extract, reshape, normalize: 9.28 seconds\n",
      "predict: 80.58 seconds\n"
     ]
    },
    {
     "name": "stdout",
     "output_type": "stream",
     "text": [
      "\n",
      "42118 patches in ROI\n",
      "42118 roi samples\n",
      "MD635-F119-2016.05.20-01.22.34_MD635_2_0356"
     ]
    },
    {
     "name": "stderr",
     "output_type": "stream",
     "text": [
      "save: 2.81 seconds\n",
      "locate patches: 0.04 seconds\n",
      "load saturation image: 24.03 seconds\n",
      "extract, reshape, normalize: 9.04 seconds\n",
      "predict: 79.91 seconds\n"
     ]
    },
    {
     "name": "stdout",
     "output_type": "stream",
     "text": [
      "\n",
      "41846 patches in ROI\n",
      "41846 roi samples\n",
      "MD635-F119-2016.05.20-01.22.34_MD635_3_0357"
     ]
    },
    {
     "name": "stderr",
     "output_type": "stream",
     "text": [
      "save: 2.79 seconds\n",
      "locate patches: 0.03 seconds\n",
      "load saturation image: 20.78 seconds\n",
      "extract, reshape, normalize: 8.33 seconds\n",
      "predict: 81.45 seconds\n"
     ]
    },
    {
     "name": "stdout",
     "output_type": "stream",
     "text": [
      "\n",
      "42241 patches in ROI\n",
      "42241 roi samples\n",
      "MD635-F120-2016.05.20-01.39.14_MD635_1_0358"
     ]
    },
    {
     "name": "stderr",
     "output_type": "stream",
     "text": [
      "save: 2.83 seconds\n",
      "locate patches: 0.03 seconds\n",
      "load saturation image: 25.45 seconds\n",
      "extract, reshape, normalize: 11.16 seconds\n",
      "predict: 77.77 seconds\n"
     ]
    },
    {
     "name": "stdout",
     "output_type": "stream",
     "text": [
      "\n",
      "40721 patches in ROI\n",
      "40721 roi samples\n",
      "MD635-F120-2016.05.20-01.39.14_MD635_2_0359"
     ]
    },
    {
     "name": "stderr",
     "output_type": "stream",
     "text": [
      "save: 2.77 seconds\n",
      "locate patches: 0.03 seconds\n",
      "load saturation image: 27.14 seconds\n",
      "extract, reshape, normalize: 8.40 seconds\n",
      "predict: 79.60 seconds\n"
     ]
    },
    {
     "name": "stdout",
     "output_type": "stream",
     "text": [
      "\n",
      "41682 patches in ROI\n",
      "41682 roi samples\n",
      "MD635-F120-2016.05.20-01.39.14_MD635_3_0360"
     ]
    },
    {
     "name": "stderr",
     "output_type": "stream",
     "text": [
      "save: 2.78 seconds\n",
      "locate patches: 0.04 seconds\n"
     ]
    },
    {
     "name": "stdout",
     "output_type": "stream",
     "text": [
      "\n",
      "41481 patches in ROI\n",
      "41481"
     ]
    },
    {
     "name": "stderr",
     "output_type": "stream",
     "text": [
      "load saturation image: 21.95 seconds\n",
      "extract, reshape, normalize: 9.39 seconds\n",
      "predict: 79.43 seconds\n",
      "save: 2.80 seconds\n"
     ]
    },
    {
     "name": "stdout",
     "output_type": "stream",
     "text": [
      " roi samples\n",
      "MD635-F121-2016.05.20-01.55.48_MD635_1_0361"
     ]
    },
    {
     "name": "stderr",
     "output_type": "stream",
     "text": [
      "locate patches: 0.04 seconds\n",
      "load saturation image: 25.75 seconds\n",
      "extract, reshape, normalize: 8.12 seconds\n",
      "predict: 77.87 seconds\n"
     ]
    },
    {
     "name": "stdout",
     "output_type": "stream",
     "text": [
      "\n",
      "40729 patches in ROI\n",
      "40729 roi samples\n",
      "MD635-F121-2016.05.20-01.55.48_MD635_2_0362"
     ]
    },
    {
     "name": "stderr",
     "output_type": "stream",
     "text": [
      "save: 2.75 seconds\n",
      "locate patches: 0.03 seconds\n",
      "load saturation image: 24.59 seconds\n",
      "extract, reshape, normalize: 8.82 seconds\n",
      "predict: 76.13 seconds\n"
     ]
    },
    {
     "name": "stdout",
     "output_type": "stream",
     "text": [
      "\n",
      "39948 patches in ROI\n",
      "39948 roi samples\n",
      "MD635-F121-2016.05.20-01.55.48_MD635_3_0363"
     ]
    },
    {
     "name": "stderr",
     "output_type": "stream",
     "text": [
      "save: 2.66 seconds\n",
      "locate patches: 0.04 seconds\n",
      "load saturation image: 24.18 seconds\n",
      "extract, reshape, normalize: 26.35 seconds\n",
      "predict: 78.27 seconds\n"
     ]
    },
    {
     "name": "stdout",
     "output_type": "stream",
     "text": [
      "\n",
      "40708 patches in ROI\n",
      "40708 roi samples\n",
      "MD635-F122-2016.05.23-17.02.25_MD635_1_0364"
     ]
    },
    {
     "name": "stderr",
     "output_type": "stream",
     "text": [
      "save: 2.77 seconds\n",
      "locate patches: 0.03 seconds\n",
      "load saturation image: 26.88 seconds\n",
      "extract, reshape, normalize: 8.71 seconds\n",
      "predict: 76.55 seconds\n"
     ]
    },
    {
     "name": "stdout",
     "output_type": "stream",
     "text": [
      "\n",
      "40343 patches in ROI\n",
      "40343 roi samples\n",
      "MD635-F122-2016.05.20-12.43.46_MD635_2_0365\n",
      "40008"
     ]
    },
    {
     "name": "stderr",
     "output_type": "stream",
     "text": [
      "save: 2.68 seconds\n",
      "locate patches: 0.03 seconds\n",
      "load saturation image: 22.05 seconds\n",
      "extract, reshape, normalize: 7.95 seconds\n",
      "predict: 76.63 seconds\n",
      "save: 2.70 seconds\n"
     ]
    },
    {
     "name": "stdout",
     "output_type": "stream",
     "text": [
      " patches in ROI\n",
      "40008 roi samples\n",
      "MD635-F122-2016.05.20-12.43.46_MD635_3_0366"
     ]
    },
    {
     "name": "stderr",
     "output_type": "stream",
     "text": [
      "locate patches: 0.03 seconds\n",
      "load saturation image: 23.07 seconds\n",
      "extract, reshape, normalize: 8.41 seconds\n",
      "predict: 75.69 seconds\n"
     ]
    },
    {
     "name": "stdout",
     "output_type": "stream",
     "text": [
      "\n",
      "39886 patches in ROI\n",
      "39886 roi samples\n",
      "MD635-F123-2016.05.20-13.02.20_MD635_1_0367"
     ]
    },
    {
     "name": "stderr",
     "output_type": "stream",
     "text": [
      "save: 2.67 seconds\n",
      "locate patches: 0.04 seconds\n",
      "load saturation image: 22.55 seconds\n",
      "extract, reshape, normalize: 8.47 seconds\n",
      "predict: 76.16 seconds\n"
     ]
    },
    {
     "name": "stdout",
     "output_type": "stream",
     "text": [
      "\n",
      "39752 patches in ROI\n",
      "39752 roi samples\n",
      "MD635-F123-2016.05.20-13.02.20_MD635_2_0368"
     ]
    },
    {
     "name": "stderr",
     "output_type": "stream",
     "text": [
      "save: 2.74 seconds\n",
      "locate patches: 0.03 seconds\n",
      "load saturation image: 23.10 seconds\n",
      "extract, reshape, normalize: 9.02 seconds\n",
      "predict: 75.30 seconds\n"
     ]
    },
    {
     "name": "stdout",
     "output_type": "stream",
     "text": [
      "\n",
      "39489 patches in ROI\n",
      "39489 roi samples\n",
      "MD635-F123-2016.05.20-13.02.20_MD635_3_0369"
     ]
    },
    {
     "name": "stderr",
     "output_type": "stream",
     "text": [
      "save: 2.62 seconds\n",
      "locate patches: 0.03 seconds\n",
      "load saturation image: 23.53 seconds\n",
      "extract, reshape, normalize: 8.59 seconds\n",
      "predict: 75.67 seconds\n"
     ]
    },
    {
     "name": "stdout",
     "output_type": "stream",
     "text": [
      "\n",
      "39522 patches in ROI\n",
      "39522 roi samples\n",
      "MD635-F124-2016.05.20-02.13.16_MD635_1_0370"
     ]
    },
    {
     "name": "stderr",
     "output_type": "stream",
     "text": [
      "save: 2.65 seconds\n",
      "locate patches: 0.04 seconds\n",
      "load saturation image: 25.28 seconds\n",
      "extract, reshape, normalize: 8.00 seconds\n",
      "predict: 73.57 seconds\n"
     ]
    },
    {
     "name": "stdout",
     "output_type": "stream",
     "text": [
      "\n",
      "38836 patches in ROI\n",
      "38836 roi samples\n",
      "MD635-F124-2016.05.20-02.13.16_MD635_2_0371"
     ]
    },
    {
     "name": "stderr",
     "output_type": "stream",
     "text": [
      "save: 2.60 seconds\n",
      "locate patches: 0.04 seconds\n",
      "load saturation image: 24.12 seconds\n",
      "extract, reshape, normalize: 9.55 seconds\n",
      "predict: 73.88 seconds\n"
     ]
    },
    {
     "name": "stdout",
     "output_type": "stream",
     "text": [
      "\n",
      "38672 patches in ROI\n",
      "38672 roi samples\n",
      "MD635-F124-2016.05.20-02.13.16_MD635_3_0372"
     ]
    },
    {
     "name": "stderr",
     "output_type": "stream",
     "text": [
      "save: 2.60 seconds\n",
      "locate patches: 0.03 seconds\n",
      "load saturation image: 21.04 seconds\n",
      "extract, reshape, normalize: 8.00 seconds\n",
      "predict: 73.74 seconds\n"
     ]
    },
    {
     "name": "stdout",
     "output_type": "stream",
     "text": [
      "\n",
      "38860 patches in ROI\n",
      "38860 roi samples\n",
      "MD635-F125-2016.05.20-02.28.59_MD635_1_0373"
     ]
    },
    {
     "name": "stderr",
     "output_type": "stream",
     "text": [
      "save: 2.65 seconds\n",
      "locate patches: 0.03 seconds\n",
      "load saturation image: 24.18 seconds\n",
      "extract, reshape, normalize: 8.62 seconds\n",
      "predict: 73.38 seconds\n"
     ]
    },
    {
     "name": "stdout",
     "output_type": "stream",
     "text": [
      "\n",
      "38466 patches in ROI\n",
      "38466 roi samples\n",
      "MD635-F125-2016.05.20-02.28.59_MD635_2_0374"
     ]
    },
    {
     "name": "stderr",
     "output_type": "stream",
     "text": [
      "save: 2.57 seconds\n",
      "locate patches: 0.03 seconds\n",
      "load saturation image: 22.16 seconds\n",
      "extract, reshape, normalize: 8.05 seconds\n",
      "predict: 72.32 seconds\n"
     ]
    },
    {
     "name": "stdout",
     "output_type": "stream",
     "text": [
      "\n",
      "38120 patches in ROI\n",
      "38120 roi samples\n",
      "MD635-F125-2016.05.20-02.28.59_MD635_3_0375"
     ]
    },
    {
     "name": "stderr",
     "output_type": "stream",
     "text": [
      "save: 2.60 seconds\n",
      "locate patches: 0.03 seconds\n",
      "load saturation image: 22.24 seconds\n",
      "extract, reshape, normalize: 7.66 seconds\n",
      "predict: 72.46 seconds\n"
     ]
    },
    {
     "name": "stdout",
     "output_type": "stream",
     "text": [
      "\n",
      "37990 patches in ROI\n",
      "37990 roi samples\n",
      "MD635-F126-2016.05.20-02.44.24_MD635_1_0376"
     ]
    },
    {
     "name": "stderr",
     "output_type": "stream",
     "text": [
      "save: 2.58 seconds\n",
      "locate patches: 0.04 seconds\n",
      "load saturation image: 25.37 seconds\n",
      "extract, reshape, normalize: 8.08 seconds\n",
      "predict: 71.22 seconds\n"
     ]
    },
    {
     "name": "stdout",
     "output_type": "stream",
     "text": [
      "\n",
      "37545 patches in ROI\n",
      "37545 roi samples\n",
      "MD635-F126-2016.05.20-02.44.24_MD635_2_0377"
     ]
    },
    {
     "name": "stderr",
     "output_type": "stream",
     "text": [
      "save: 2.52 seconds\n",
      "locate patches: 0.03 seconds\n",
      "load saturation image: 22.94 seconds\n",
      "extract, reshape, normalize: 7.89 seconds\n",
      "predict: 72.18 seconds\n"
     ]
    },
    {
     "name": "stdout",
     "output_type": "stream",
     "text": [
      "\n",
      "37784 patches in ROI\n",
      "37784 roi samples\n",
      "MD635-F126-2016.05.20-02.44.24_MD635_3_0378"
     ]
    },
    {
     "name": "stderr",
     "output_type": "stream",
     "text": [
      "save: 2.55 seconds\n",
      "locate patches: 0.03 seconds\n",
      "load saturation image: 21.64 seconds\n",
      "extract, reshape, normalize: 11.74 seconds\n",
      "predict: 72.28 seconds\n"
     ]
    },
    {
     "name": "stdout",
     "output_type": "stream",
     "text": [
      "\n",
      "37969 patches in ROI\n",
      "37969 roi samples\n",
      "MD635-F127-2016.05.20-02.59.46_MD635_1_0379"
     ]
    },
    {
     "name": "stderr",
     "output_type": "stream",
     "text": [
      "save: 2.54 seconds\n",
      "locate patches: 0.03 seconds\n",
      "load saturation image: 23.81 seconds\n",
      "extract, reshape, normalize: 8.76 seconds\n",
      "predict: 71.95 seconds\n"
     ]
    },
    {
     "name": "stdout",
     "output_type": "stream",
     "text": [
      "\n",
      "37671 patches in ROI\n",
      "37671 roi samples\n",
      "MD635-F127-2016.05.20-02.59.46_MD635_2_0380"
     ]
    },
    {
     "name": "stderr",
     "output_type": "stream",
     "text": [
      "save: 2.53 seconds\n",
      "locate patches: 0.03 seconds\n",
      "load saturation image: 22.01 seconds\n",
      "extract, reshape, normalize: 7.79 seconds\n",
      "predict: 70.78 seconds\n"
     ]
    },
    {
     "name": "stdout",
     "output_type": "stream",
     "text": [
      "\n",
      "37286 patches in ROI\n",
      "37286 roi samples\n",
      "MD635-F127-2016.05.20-02.59.46_MD635_3_0381"
     ]
    },
    {
     "name": "stderr",
     "output_type": "stream",
     "text": [
      "save: 2.53 seconds\n",
      "locate patches: 0.03 seconds\n",
      "load saturation image: 20.91 seconds\n",
      "extract, reshape, normalize: 7.50 seconds\n",
      "predict: 70.94 seconds\n"
     ]
    },
    {
     "name": "stdout",
     "output_type": "stream",
     "text": [
      "\n",
      "37322 patches in ROI\n",
      "37322 roi samples\n",
      "MD635-F128-2016.05.20-03.14.48_MD635_1_0382"
     ]
    },
    {
     "name": "stderr",
     "output_type": "stream",
     "text": [
      "save: 2.53 seconds\n",
      "locate patches: 0.03 seconds\n",
      "load saturation image: 25.18 seconds\n",
      "extract, reshape, normalize: 8.24 seconds\n",
      "predict: 70.74 seconds\n"
     ]
    },
    {
     "name": "stdout",
     "output_type": "stream",
     "text": [
      "\n",
      "37143 patches in ROI\n",
      "37143 roi samples\n",
      "MD635-F128-2016.05.20-03.14.48_MD635_2_0383"
     ]
    },
    {
     "name": "stderr",
     "output_type": "stream",
     "text": [
      "save: 2.40 seconds\n",
      "locate patches: 0.03 seconds\n",
      "load saturation image: 21.90 seconds\n",
      "extract, reshape, normalize: 7.91 seconds\n",
      "predict: 69.86 seconds\n"
     ]
    },
    {
     "name": "stdout",
     "output_type": "stream",
     "text": [
      "\n",
      "36632 patches in ROI\n",
      "36632 roi samples\n",
      "MD635-F128-2016.05.20-03.14.48_MD635_3_0384"
     ]
    },
    {
     "name": "stderr",
     "output_type": "stream",
     "text": [
      "save: 2.46 seconds\n",
      "locate patches: 0.03 seconds\n",
      "load saturation image: 19.94 seconds\n",
      "extract, reshape, normalize: 9.41 seconds\n",
      "predict: 70.38 seconds\n"
     ]
    },
    {
     "name": "stdout",
     "output_type": "stream",
     "text": [
      "\n",
      "36994 patches in ROI\n",
      "36994 roi samples\n",
      "MD635-F129-2016.05.20-03.29.55_MD635_1_0385"
     ]
    },
    {
     "name": "stderr",
     "output_type": "stream",
     "text": [
      "save: 2.52 seconds\n",
      "locate patches: 0.04 seconds\n",
      "load saturation image: 23.54 seconds\n",
      "extract, reshape, normalize: 10.00 seconds\n",
      "predict: 69.17 seconds\n"
     ]
    },
    {
     "name": "stdout",
     "output_type": "stream",
     "text": [
      "\n",
      "36430 patches in ROI\n",
      "36430 roi samples\n",
      "MD635-F129-2016.05.20-03.29.55_MD635_2_0386"
     ]
    },
    {
     "name": "stderr",
     "output_type": "stream",
     "text": [
      "save: 2.46 seconds\n",
      "locate patches: 0.03 seconds\n",
      "load saturation image: 22.15 seconds\n",
      "extract, reshape, normalize: 8.23 seconds\n",
      "predict: 69.44 seconds\n"
     ]
    },
    {
     "name": "stdout",
     "output_type": "stream",
     "text": [
      "\n",
      "36391 patches in ROI\n",
      "36391 roi samples\n",
      "MD635-F129-2016.05.20-03.29.55_MD635_3_0387"
     ]
    },
    {
     "name": "stderr",
     "output_type": "stream",
     "text": [
      "save: 2.45 seconds\n",
      "locate patches: 0.04 seconds\n",
      "load saturation image: 21.62 seconds\n",
      "extract, reshape, normalize: 8.22 seconds\n",
      "predict: 68.99 seconds\n"
     ]
    },
    {
     "name": "stdout",
     "output_type": "stream",
     "text": [
      "\n",
      "36211 patches in ROI\n",
      "36211 roi samples\n",
      "MD635-F130-2016.05.20-03.44.32_MD635_1_0388"
     ]
    },
    {
     "name": "stderr",
     "output_type": "stream",
     "text": [
      "save: 2.43 seconds\n",
      "locate patches: 0.03 seconds\n",
      "load saturation image: 26.78 seconds\n",
      "extract, reshape, normalize: 7.76 seconds\n",
      "predict: 67.86 seconds\n"
     ]
    },
    {
     "name": "stdout",
     "output_type": "stream",
     "text": [
      "\n",
      "36013 patches in ROI\n",
      "36013 roi samples\n",
      "MD635-F130-2016.05.20-03.44.32_MD635_2_0389"
     ]
    },
    {
     "name": "stderr",
     "output_type": "stream",
     "text": [
      "save: 2.44 seconds\n",
      "locate patches: 0.03 seconds\n",
      "load saturation image: 21.92 seconds\n",
      "extract, reshape, normalize: 7.30 seconds\n",
      "predict: 68.35 seconds\n"
     ]
    },
    {
     "name": "stdout",
     "output_type": "stream",
     "text": [
      "\n",
      "35900 patches in ROI\n",
      "35900 roi samples\n",
      "MD635-F130-2016.05.20-03.44.32_MD635_3_0390"
     ]
    },
    {
     "name": "stderr",
     "output_type": "stream",
     "text": [
      "save: 2.44 seconds\n",
      "locate patches: 0.03 seconds\n",
      "load saturation image: 19.30 seconds\n",
      "extract, reshape, normalize: 8.47 seconds\n",
      "predict: 68.73 seconds\n"
     ]
    },
    {
     "name": "stdout",
     "output_type": "stream",
     "text": [
      "\n",
      "36135 patches in ROI\n",
      "36135 roi samples\n",
      "MD635-F131-2016.05.20-03.59.18_MD635_1_0391"
     ]
    },
    {
     "name": "stderr",
     "output_type": "stream",
     "text": [
      "save: 2.40 seconds\n",
      "locate patches: 0.03 seconds\n",
      "load saturation image: 26.92 seconds\n",
      "extract, reshape, normalize: 7.53 seconds\n",
      "predict: 67.61 seconds\n"
     ]
    },
    {
     "name": "stdout",
     "output_type": "stream",
     "text": [
      "\n",
      "35612 patches in ROI\n",
      "35612 roi samples\n",
      "MD635-F131-2016.05.20-03.59.18_MD635_2_0392"
     ]
    },
    {
     "name": "stderr",
     "output_type": "stream",
     "text": [
      "save: 2.43 seconds\n",
      "locate patches: 0.03 seconds\n",
      "load saturation image: 23.62 seconds\n",
      "extract, reshape, normalize: 8.56 seconds\n",
      "predict: 67.01 seconds\n"
     ]
    },
    {
     "name": "stdout",
     "output_type": "stream",
     "text": [
      "\n",
      "35472 patches in ROI\n",
      "35472 roi samples\n",
      "MD635-F131-2016.05.20-03.59.18_MD635_3_0393"
     ]
    },
    {
     "name": "stderr",
     "output_type": "stream",
     "text": [
      "save: 2.40 seconds\n",
      "locate patches: 0.04 seconds\n",
      "load saturation image: 23.14 seconds\n",
      "extract, reshape, normalize: 7.98 seconds\n",
      "predict: 66.75 seconds\n",
      "save: 2.36 seconds\n"
     ]
    },
    {
     "name": "stdout",
     "output_type": "stream",
     "text": [
      "\n",
      "35255 patches in ROI\n",
      "35255 roi samples\n",
      "MD635-F132-2016.05.20-04.14.48_MD635_1_0394"
     ]
    },
    {
     "name": "stderr",
     "output_type": "stream",
     "text": [
      "locate patches: 0.03 seconds\n",
      "load saturation image: 22.08 seconds\n",
      "extract, reshape, normalize: 7.31 seconds\n",
      "predict: 66.09 seconds\n"
     ]
    },
    {
     "name": "stdout",
     "output_type": "stream",
     "text": [
      "\n",
      "34836 patches in ROI\n",
      "34836 roi samples\n",
      "MD635-F132-2016.05.20-04.14.48_MD635_2_0395"
     ]
    },
    {
     "name": "stderr",
     "output_type": "stream",
     "text": [
      "save: 2.34 seconds\n",
      "locate patches: 0.03 seconds\n",
      "load saturation image: 23.82 seconds\n",
      "extract, reshape, normalize: 7.30 seconds\n",
      "predict: 65.86 seconds\n"
     ]
    },
    {
     "name": "stdout",
     "output_type": "stream",
     "text": [
      "\n",
      "34633 patches in ROI\n",
      "34633 roi samples\n",
      "MD635-F132-2016.05.20-04.14.48_MD635_3_0396"
     ]
    },
    {
     "name": "stderr",
     "output_type": "stream",
     "text": [
      "save: 2.36 seconds\n",
      "locate patches: 0.04 seconds\n",
      "load saturation image: 21.67 seconds\n",
      "extract, reshape, normalize: 10.38 seconds\n",
      "predict: 64.39 seconds\n"
     ]
    },
    {
     "name": "stdout",
     "output_type": "stream",
     "text": [
      "\n",
      "34190 patches in ROI\n",
      "34190 roi samples\n",
      "MD635-F133-2016.05.20-04.28.44_MD635_1_0397"
     ]
    },
    {
     "name": "stderr",
     "output_type": "stream",
     "text": [
      "save: 2.29 seconds\n",
      "locate patches: 0.03 seconds\n",
      "load saturation image: 22.96 seconds\n",
      "extract, reshape, normalize: 7.74 seconds\n",
      "predict: 64.26 seconds\n"
     ]
    },
    {
     "name": "stdout",
     "output_type": "stream",
     "text": [
      "\n",
      "33922 patches in ROI\n",
      "33922 roi samples\n",
      "MD635-F133-2016.05.20-04.28.44_MD635_2_0398"
     ]
    },
    {
     "name": "stderr",
     "output_type": "stream",
     "text": [
      "save: 2.27 seconds\n",
      "locate patches: 0.03 seconds\n",
      "load saturation image: 19.83 seconds\n",
      "extract, reshape, normalize: 6.76 seconds\n",
      "predict: 61.44 seconds\n"
     ]
    },
    {
     "name": "stdout",
     "output_type": "stream",
     "text": [
      "\n",
      "32708 patches in ROI\n",
      "32708 roi samples\n",
      "MD635-F133-2016.05.20-04.28.44_MD635_3_0399\n",
      "31707"
     ]
    },
    {
     "name": "stderr",
     "output_type": "stream",
     "text": [
      "save: 2.24 seconds\n",
      "locate patches: 0.04 seconds\n",
      "load saturation image: 19.32 seconds\n",
      "extract, reshape, normalize: 6.54 seconds\n",
      "predict: 59.77 seconds\n",
      "save: 2.11 seconds\n"
     ]
    },
    {
     "name": "stdout",
     "output_type": "stream",
     "text": [
      " patches in ROI\n",
      "31707 roi samples\n",
      "MD635-F134-2016.05.20-04.44.11_MD635_2_0401"
     ]
    },
    {
     "name": "stderr",
     "output_type": "stream",
     "text": [
      "locate patches: 0.03 seconds\n",
      "load saturation image: 21.44 seconds\n",
      "extract, reshape, normalize: 7.37 seconds\n",
      "predict: 63.17 seconds\n"
     ]
    },
    {
     "name": "stdout",
     "output_type": "stream",
     "text": [
      "\n",
      "32802 patches in ROI\n",
      "32802 roi samples\n",
      "MD635-F134-2016.05.20-04.44.11_MD635_3_0402"
     ]
    },
    {
     "name": "stderr",
     "output_type": "stream",
     "text": [
      "save: 2.19 seconds\n",
      "locate patches: 0.04 seconds\n",
      "load saturation image: 20.10 seconds\n",
      "extract, reshape, normalize: 6.94 seconds\n",
      "predict: 62.96 seconds\n"
     ]
    },
    {
     "name": "stdout",
     "output_type": "stream",
     "text": [
      "\n",
      "33120 patches in ROI\n",
      "33120 roi samples\n",
      "MD635-F135-2016.05.20-04.58.19_MD635_1_0403"
     ]
    },
    {
     "name": "stderr",
     "output_type": "stream",
     "text": [
      "save: 2.24 seconds\n",
      "locate patches: 0.04 seconds\n",
      "load saturation image: 23.79 seconds\n",
      "extract, reshape, normalize: 7.40 seconds\n",
      "predict: 61.04 seconds\n"
     ]
    },
    {
     "name": "stdout",
     "output_type": "stream",
     "text": [
      "\n",
      "32272 patches in ROI\n",
      "32272 roi samples\n",
      "MD635-F135-2016.05.20-04.58.19_MD635_3_0405"
     ]
    },
    {
     "name": "stderr",
     "output_type": "stream",
     "text": [
      "save: 2.15 seconds\n",
      "locate patches: 0.03 seconds\n",
      "load saturation image: 21.03 seconds\n",
      "extract, reshape, normalize: 6.82 seconds\n",
      "predict: 60.72 seconds\n"
     ]
    },
    {
     "name": "stdout",
     "output_type": "stream",
     "text": [
      "\n",
      "32027 patches in ROI\n",
      "32027 roi samples\n",
      "MD635-F136-2016.05.20-05.12.43_MD635_2_0407"
     ]
    },
    {
     "name": "stderr",
     "output_type": "stream",
     "text": [
      "save: 2.15 seconds\n",
      "locate patches: 0.03 seconds\n",
      "load saturation image: 20.21 seconds\n",
      "extract, reshape, normalize: 6.16 seconds\n",
      "predict: 57.34 seconds\n"
     ]
    },
    {
     "name": "stdout",
     "output_type": "stream",
     "text": [
      "\n",
      "30556 patches in ROI\n",
      "30556 roi samples\n",
      "MD635-F136-2016.05.20-05.12.43_MD635_3_0408"
     ]
    },
    {
     "name": "stderr",
     "output_type": "stream",
     "text": [
      "save: 2.01 seconds\n",
      "locate patches: 0.03 seconds\n",
      "load saturation image: 19.33 seconds\n",
      "extract, reshape, normalize: 6.32 seconds\n",
      "predict: 59.32 seconds\n"
     ]
    },
    {
     "name": "stdout",
     "output_type": "stream",
     "text": [
      "\n",
      "31578 patches in ROI\n",
      "31578 roi samples\n",
      "MD635-F137-2016.05.20-05.30.36_MD635_1_0409"
     ]
    },
    {
     "name": "stderr",
     "output_type": "stream",
     "text": [
      "save: 2.20 seconds\n",
      "locate patches: 0.03 seconds\n",
      "load saturation image: 26.82 seconds\n",
      "extract, reshape, normalize: 7.03 seconds\n",
      "predict: 58.58 seconds\n"
     ]
    },
    {
     "name": "stdout",
     "output_type": "stream",
     "text": [
      "\n",
      "31346 patches in ROI\n",
      "31346 roi samples\n",
      "MD635-F137-2016.05.20-05.30.36_MD635_2_0410\n",
      "31215"
     ]
    },
    {
     "name": "stderr",
     "output_type": "stream",
     "text": [
      "save: 2.11 seconds\n",
      "locate patches: 0.04 seconds\n",
      "load saturation image: 22.24 seconds\n",
      "extract, reshape, normalize: 7.22 seconds\n",
      "predict: 58.45 seconds\n",
      "save: 2.09 seconds\n"
     ]
    },
    {
     "name": "stdout",
     "output_type": "stream",
     "text": [
      " patches in ROI\n",
      "31215 roi samples\n",
      "MD635-F137-2016.05.20-05.30.36_MD635_3_0411"
     ]
    },
    {
     "name": "stderr",
     "output_type": "stream",
     "text": [
      "locate patches: 0.03 seconds\n",
      "load saturation image: 21.26 seconds\n",
      "extract, reshape, normalize: 6.51 seconds\n",
      "predict: 58.22 seconds\n"
     ]
    },
    {
     "name": "stdout",
     "output_type": "stream",
     "text": [
      "\n",
      "31143 patches in ROI\n",
      "31143 roi samples\n",
      "MD635-F138-2016.05.20-05.45.33_MD635_1_0412"
     ]
    },
    {
     "name": "stderr",
     "output_type": "stream",
     "text": [
      "save: 2.09 seconds\n",
      "locate patches: 0.03 seconds\n",
      "load saturation image: 24.80 seconds\n",
      "extract, reshape, normalize: 7.00 seconds\n",
      "predict: 57.84 seconds\n"
     ]
    },
    {
     "name": "stdout",
     "output_type": "stream",
     "text": [
      "\n",
      "30829 patches in ROI\n",
      "30829 roi samples\n",
      "MD635-F138-2016.05.20-05.45.33_MD635_2_0413"
     ]
    },
    {
     "name": "stderr",
     "output_type": "stream",
     "text": [
      "save: 2.14 seconds\n",
      "locate patches: 0.04 seconds\n",
      "load saturation image: 23.57 seconds\n",
      "extract, reshape, normalize: 6.39 seconds\n",
      "predict: 57.19 seconds\n"
     ]
    },
    {
     "name": "stdout",
     "output_type": "stream",
     "text": [
      "\n",
      "30652 patches in ROI\n",
      "30652 roi samples\n",
      "MD635-F138-2016.05.20-05.45.33_MD635_3_0414"
     ]
    },
    {
     "name": "stderr",
     "output_type": "stream",
     "text": [
      "save: 2.08 seconds\n",
      "locate patches: 0.04 seconds\n",
      "load saturation image: 19.93 seconds\n",
      "extract, reshape, normalize: 7.22 seconds\n",
      "predict: 57.45 seconds\n"
     ]
    },
    {
     "name": "stdout",
     "output_type": "stream",
     "text": [
      "\n",
      "30506 patches in ROI\n",
      "30506 roi samples\n",
      "MD635-F139-2016.05.20-06.00.29_MD635_1_0415"
     ]
    },
    {
     "name": "stderr",
     "output_type": "stream",
     "text": [
      "save: 2.01 seconds\n",
      "locate patches: 0.03 seconds\n",
      "load saturation image: 23.00 seconds\n",
      "extract, reshape, normalize: 6.14 seconds\n",
      "predict: 56.23 seconds\n"
     ]
    },
    {
     "name": "stdout",
     "output_type": "stream",
     "text": [
      "\n",
      "30060 patches in ROI\n",
      "30060 roi samples\n",
      "MD635-F139-2016.05.20-06.00.29_MD635_2_0416"
     ]
    },
    {
     "name": "stderr",
     "output_type": "stream",
     "text": [
      "save: 2.07 seconds\n",
      "locate patches: 0.03 seconds\n"
     ]
    },
    {
     "name": "stdout",
     "output_type": "stream",
     "text": [
      "\n",
      "29945 patches in ROI\n",
      "29945"
     ]
    },
    {
     "name": "stderr",
     "output_type": "stream",
     "text": [
      "load saturation image: 22.31 seconds\n",
      "extract, reshape, normalize: 6.24 seconds\n",
      "predict: 56.38 seconds\n",
      "save: 2.04 seconds\n"
     ]
    },
    {
     "name": "stdout",
     "output_type": "stream",
     "text": [
      " roi samples\n",
      "MD635-F139-2016.05.20-06.00.29_MD635_3_0417"
     ]
    },
    {
     "name": "stderr",
     "output_type": "stream",
     "text": [
      "locate patches: 0.03 seconds\n",
      "load saturation image: 20.85 seconds\n",
      "extract, reshape, normalize: 6.70 seconds\n",
      "predict: 55.92 seconds\n"
     ]
    },
    {
     "name": "stdout",
     "output_type": "stream",
     "text": [
      "\n",
      "29859 patches in ROI\n",
      "29859 roi samples\n",
      "MD635-F140-2016.05.20-06.14.16_MD635_1_0418\n",
      "29346"
     ]
    },
    {
     "name": "stderr",
     "output_type": "stream",
     "text": [
      "save: 2.06 seconds\n",
      "locate patches: 0.04 seconds\n",
      "load saturation image: 22.21 seconds\n",
      "extract, reshape, normalize: 6.68 seconds\n",
      "predict: 54.80 seconds\n",
      "save: 1.98 seconds\n"
     ]
    },
    {
     "name": "stdout",
     "output_type": "stream",
     "text": [
      " patches in ROI\n",
      "29346 roi samples\n",
      "MD635-F140-2016.05.20-06.14.16_MD635_2_0419"
     ]
    },
    {
     "name": "stderr",
     "output_type": "stream",
     "text": [
      "locate patches: 0.03 seconds\n",
      "load saturation image: 22.93 seconds\n",
      "extract, reshape, normalize: 5.97 seconds\n",
      "predict: 54.03 seconds\n"
     ]
    },
    {
     "name": "stdout",
     "output_type": "stream",
     "text": [
      "\n",
      "28956 patches in ROI\n",
      "28956 roi samples\n",
      "MD635-F140-2016.05.20-06.14.16_MD635_3_0420"
     ]
    },
    {
     "name": "stderr",
     "output_type": "stream",
     "text": [
      "save: 1.94 seconds\n",
      "locate patches: 0.03 seconds\n",
      "load saturation image: 18.90 seconds\n",
      "extract, reshape, normalize: 5.97 seconds\n",
      "predict: 54.30 seconds\n"
     ]
    },
    {
     "name": "stdout",
     "output_type": "stream",
     "text": [
      "\n",
      "29030 patches in ROI\n",
      "29030 roi samples\n",
      "MD635-F141-2016.05.20-06.27.21_MD635_1_0421"
     ]
    },
    {
     "name": "stderr",
     "output_type": "stream",
     "text": [
      "save: 1.96 seconds\n",
      "locate patches: 0.04 seconds\n",
      "load saturation image: 22.12 seconds\n",
      "extract, reshape, normalize: 5.54 seconds\n",
      "predict: 49.50 seconds\n"
     ]
    },
    {
     "name": "stdout",
     "output_type": "stream",
     "text": [
      "\n",
      "26331 patches in ROI\n",
      "26331 roi samples\n",
      "MD635-F141-2016.05.20-06.27.21_MD635_2_0422"
     ]
    },
    {
     "name": "stderr",
     "output_type": "stream",
     "text": [
      "save: 1.79 seconds\n",
      "locate patches: 0.04 seconds\n",
      "load saturation image: 21.73 seconds\n",
      "extract, reshape, normalize: 5.36 seconds\n",
      "predict: 48.57 seconds\n"
     ]
    },
    {
     "name": "stdout",
     "output_type": "stream",
     "text": [
      "\n",
      "26111 patches in ROI\n",
      "26111 roi samples\n",
      "MD635-F141-2016.05.20-06.27.21_MD635_3_0423\n",
      "25838"
     ]
    },
    {
     "name": "stderr",
     "output_type": "stream",
     "text": [
      "save: 1.77 seconds\n",
      "locate patches: 0.04 seconds\n",
      "load saturation image: 21.61 seconds\n",
      "extract, reshape, normalize: 5.11 seconds\n",
      "predict: 47.67 seconds\n",
      "save: 1.74 seconds\n"
     ]
    },
    {
     "name": "stdout",
     "output_type": "stream",
     "text": [
      " patches in ROI\n",
      "25838 roi samples\n",
      "MD635-F142-2016.05.20-06.40.47_MD635_1_0424\n",
      "25318"
     ]
    },
    {
     "name": "stderr",
     "output_type": "stream",
     "text": [
      "locate patches: 0.04 seconds\n",
      "load saturation image: 23.81 seconds\n",
      "extract, reshape, normalize: 5.13 seconds\n",
      "predict: 46.48 seconds\n"
     ]
    },
    {
     "name": "stdout",
     "output_type": "stream",
     "text": [
      " patches in ROI\n",
      "25318 roi samples\n"
     ]
    },
    {
     "name": "stderr",
     "output_type": "stream",
     "text": [
      "save: 1.72 seconds\n"
     ]
    }
   ],
   "source": [
    "# for stack in all_stacks:\n",
    "\n",
    "for stack in ['MD635']:\n",
    "\n",
    "    print stack\n",
    "\n",
    "    section_to_filename = metadata_cache['sections_to_filenames'][stack]\n",
    "    anchor_fn = metadata_cache['anchor_fn'][stack]\n",
    "\n",
    "    image_width, image_height = metadata_cache['image_shape'][stack]\n",
    "    grid_spec = (patch_size, stride, image_width, image_height)\n",
    "\n",
    "    sample_locations = grid_parameters_to_sample_locations(grid_spec=grid_spec)\n",
    "\n",
    "    first_detect_sec, last_detect_sec = metadata_cache['section_limits'][stack]\n",
    "\n",
    "    bar = show_progress_bar(first_detect_sec, last_detect_sec)\n",
    "\n",
    "#     for sec in range(200, 201):\n",
    "    for sec in range(first_detect_sec, last_detect_sec+1):\n",
    "#     for sec in range(first_detect_sec, first_detect_sec+1):\n",
    "\n",
    "        fn = section_to_filename[sec]\n",
    "        if fn in ['Placeholder', 'Rescan', 'Nonexisting']:\n",
    "            continue\n",
    "            \n",
    "        print fn\n",
    "            \n",
    "        output_dir = create_if_not_exists(os.path.join(patch_features_rootdir, stack, \n",
    "                                       '%(fn)s_lossless_alignedTo_%(anchor_fn)s_cropped' % \\\n",
    "                                                       dict(fn=fn, anchor_fn=anchor_fn)))\n",
    "        output_indices_fn = os.path.join(output_dir, \n",
    "                                         '%(fn)s_lossless_alignedTo_%(anchor_fn)s_cropped_patch_locations.txt' % \\\n",
    "                                         dict(fn=fn, anchor_fn=anchor_fn))\n",
    "        if os.path.exists(output_indices_fn):\n",
    "            continue\n",
    "    \n",
    "        bar.value = sec\n",
    "\n",
    "#         mask_tb = DataManager.load_thumbnail_mask(stack=stack, section=sec, cerebellum_removed=True)\n",
    "        mask_tb = DataManager.load_thumbnail_mask_v2(stack=stack, section=sec)\n",
    "\n",
    "        t = time.time()\n",
    "        indices_roi = locate_patches_v2(grid_spec=grid_spec, mask_tb=mask_tb, bbox=(0,0, image_width, image_height))\n",
    "        sys.stderr.write('locate patches: %.2f seconds\\n' % (time.time() - t))\n",
    "\n",
    "        n = len(indices_roi)\n",
    "        print n, 'roi samples'\n",
    "\n",
    "        sample_locations_roi = sample_locations[indices_roi]\n",
    "\n",
    "        ##################################\n",
    "\n",
    "        t = time.time()\n",
    "\n",
    "        sat = imread(DataManager.get_image_filepath(stack=stack, section=sec, version='saturation'))\n",
    "\n",
    "        sys.stderr.write('load saturation image: %.2f seconds\\n' % (time.time() - t)) # ~ 2s\n",
    "\n",
    "\n",
    "        t = time.time()\n",
    "\n",
    "#         patches = np.array([sat[y-half_size:y+half_size, x-half_size:x+half_size].copy()\n",
    "#                             for x, y in sample_locations_roi]) # n x 224 x 224\n",
    "\n",
    "        patches = np.array([sat[y-half_size:y+half_size, x-half_size:x+half_size]\n",
    "                            for x, y in sample_locations_roi]) # n x 224 x 224\n",
    "        \n",
    "        patches_mean_subtracted = patches - mean_img\n",
    "        \n",
    "        patches_mean_subtracted_input = patches_mean_subtracted[:, None, :, :] # n x 1 x 224 x 224\n",
    "        #         patches = np.rollaxis(patches2, 3, 1)\n",
    "\n",
    "        sys.stderr.write('extract, reshape, normalize: %.2f seconds\\n' % (time.time() - t)) # ~ 4s / 20k patches\n",
    "\n",
    "        batch_size = 256 # increasing to 500 does not save any time\n",
    "#         batch_size = 16 # increasing to 500 does not save any time\n",
    "\n",
    "        data_iter = mx.io.NDArrayIter(\n",
    "            patches_mean_subtracted_input, \n",
    "            np.zeros((n, ), np.int), # labels are not important since it is just feed-forward\n",
    "            batch_size = batch_size,\n",
    "            shuffle=False\n",
    "        )\n",
    "\n",
    "        t = time.time()\n",
    "        \n",
    "        features = model.predict(data_iter)\n",
    "        \n",
    "        sys.stderr.write('predict: %.2f seconds\\n' % (time.time() - t))\n",
    "        # The first time CUDA needs to load model, which is very slow ~350s, but later runs are faster ~90s\n",
    "        \n",
    "    # Had to modify [model]-symbol.json according to this https://github.com/dmlc/mxnet/issues/2718\n",
    "    \n",
    "    # Out of memory after about 20 sections - had to modify storage code according to https://github.com/dmlc/mxnet/issues/3055\n",
    "    #    - don't think increasing kPoolThreshold to over 4GB will be beneficial, \n",
    "    # since the computation time is similar to before limiting the pool, computation is most likely compute-bound.\n",
    "    # Issue solved by developers.\n",
    "        \n",
    "        t = time.time()\n",
    "        \n",
    "        output_dir = create_if_not_exists(os.path.join(patch_features_rootdir, stack, \n",
    "                                   '%(fn)s_lossless_alignedTo_%(anchor_fn)s_cropped' % dict(fn=fn, anchor_fn=anchor_fn)))\n",
    "\n",
    "        output_indices_fn = os.path.join(output_dir, \n",
    "                                         '%(fn)s_lossless_alignedTo_%(anchor_fn)s_cropped_patch_locations.txt' % \\\n",
    "                                         dict(fn=fn, anchor_fn=anchor_fn))\n",
    "        np.savetxt(output_indices_fn, np.c_[indices_roi, sample_locations_roi], fmt='%d %d %d')\n",
    "        \n",
    "        output_features_fn = os.path.join(output_dir, '%(fn)s_lossless_alignedTo_%(anchor_fn)s_cropped_features.hdf' % \\\n",
    "                                         dict(fn=fn, anchor_fn=anchor_fn))\n",
    "        save_hdf(features.astype(np.float16), output_features_fn) # bloscpack produces files of similar size\n",
    "        \n",
    "        sys.stderr.write('save: %.2f seconds\\n' % (time.time() - t)) # ~.5s"
   ]
  },
  {
   "cell_type": "code",
   "execution_count": null,
   "metadata": {
    "collapsed": true
   },
   "outputs": [],
   "source": [
    "# Create symbolic links"
   ]
  },
  {
   "cell_type": "code",
   "execution_count": null,
   "metadata": {
    "collapsed": false
   },
   "outputs": [],
   "source": [
    "# patch_features_sorted_rootdir = '/home/yuncong/CSHL_patch_features_Sat16ClassFinetuned_v2_sorted'"
   ]
  },
  {
   "cell_type": "code",
   "execution_count": null,
   "metadata": {
    "collapsed": false
   },
   "outputs": [],
   "source": [
    "# cmd = ('mkdir %(patch_features_sorted_rootdir)s;'\n",
    "#        'cd %(patch_features_sorted_rootdir)s &&'\n",
    "#         'rm -rf %(stack)s &&'\n",
    "#       'mkdir %(stack)s') % \\\n",
    "#         dict(stack=stack, patch_features_sorted_rootdir=patch_features_sorted_rootdir)\n",
    "# execute_command(cmd)"
   ]
  },
  {
   "cell_type": "code",
   "execution_count": null,
   "metadata": {
    "collapsed": false
   },
   "outputs": [],
   "source": [
    "# for stack in ['MD585', 'MD589', 'MD594']:\n",
    "    \n",
    "#     execute_command('cd %(patch_features_sorted_rootdir)s && rm -rf %(stack)s && mkdir %(stack)s;' % \\\n",
    "#                dict(stack=stack, patch_features_sorted_rootdir=patch_features_sorted_rootdir))\n",
    "\n",
    "#     filename_to_section, section_to_filename = DataManager.load_sorted_filenames(stack)\n",
    "\n",
    "#     for sec, fn in section_to_filename.iteritems():\n",
    "\n",
    "#         if fn in ['Placeholder', 'Nonexisting', 'Rescan']:\n",
    "#             continue\n",
    "    \n",
    "#         cmd = ('cd %(patch_features_sorted_rootdir)s/%(stack)s && mkdir %(stack)s_%(sec)04d_lossless_aligned_cropped; '\n",
    "#     'ln -s %(patch_features_unsorted_rootdir_relpath)s/%(stack)s/%(fn)s_lossless_alignedTo_%(anchor_fn)s_cropped/%(fn)s_lossless_alignedTo_%(anchor_fn)s_cropped_features.hdf '\n",
    "#     '%(stack)s_%(sec)04d_lossless_aligned_cropped/%(stack)s_%(sec)04d_lossless_aligned_cropped_features.hdf && '\n",
    "#     'ln -s %(patch_features_unsorted_rootdir_relpath)s/%(stack)s/%(fn)s_lossless_alignedTo_%(anchor_fn)s_cropped/%(fn)s_lossless_alignedTo_%(anchor_fn)s_cropped_patch_locations.txt '\n",
    "#     '%(stack)s_%(sec)04d_lossless_aligned_cropped/%(stack)s_%(sec)04d_lossless_aligned_cropped_patch_locations.txt') % \\\n",
    "#                 dict(stack=stack, sec=sec, anchor_fn=anchor_fn, fn=fn,\n",
    "#                     patch_features_unsorted_rootdir_relpath='../../../CSHL_patch_features_Sat16ClassFinetuned_v2',\n",
    "#                     patch_features_sorted_rootdir=patch_features_sorted_rootdir)\n",
    "#         execute_command(cmd)"
   ]
  },
  {
   "cell_type": "code",
   "execution_count": null,
   "metadata": {
    "collapsed": true
   },
   "outputs": [],
   "source": []
  },
  {
   "cell_type": "markdown",
   "metadata": {
    "collapsed": true
   },
   "source": [
    "# Sync with Gordon"
   ]
  },
  {
   "cell_type": "code",
   "execution_count": 17,
   "metadata": {
    "collapsed": false
   },
   "outputs": [
    {
     "data": {
      "text/plain": [
       "0"
      ]
     },
     "execution_count": 17,
     "metadata": {},
     "output_type": "execute_result"
    }
   ],
   "source": [
    "cmd = 'cd /media/yuncong/BstemAtlasData/CSHL_patch_features_Sat16ClassFinetuned_v2/%(stack)s/; \\\n",
    "rsync -r . yuncong@oasis-dm.sdsc.edu:/home/yuncong/csd395/CSHL_patch_features_Sat16ClassFinetuned_v2/%(stack)s' % \\\n",
    "{'stack': stack}\n",
    "\n",
    "os.system(cmd)"
   ]
  },
  {
   "cell_type": "code",
   "execution_count": null,
   "metadata": {
    "collapsed": true
   },
   "outputs": [],
   "source": [
    "# cmd = 'cd /home/yuncong/CSHL_patch_predictions/%(stack)s; rsync -r . yuncong@oasis-dm.sdsc.edu:/home/yuncong/csd395/CSHL_patch_features/%(stack)s' % \\\n",
    "# {'stack': stack}\n",
    "\n",
    "# os.system(cmd)"
   ]
  },
  {
   "cell_type": "code",
   "execution_count": null,
   "metadata": {
    "collapsed": false,
    "scrolled": true
   },
   "outputs": [],
   "source": [
    "# for stack in ['MD593', 'MD602', 'MD592', 'MD585', 'MD590', 'MD591', 'MD595', 'MD598']:\n",
    "# # for stack in ['MD589']:\n",
    "    \n",
    "#     if stack in ['MD589', 'MD594']:\n",
    "#         stack_has_annotation = True\n",
    "#     else:\n",
    "#         stack_has_annotation = False\n",
    "\n",
    "#     dm = DataManager(stack=stack, data_dir='/media/yuncong/BstemAtlasData/CSHL_data_processed')\n",
    "\n",
    "#     table_filepath = os.path.join(patches_rootdir, '%(stack)s_indices_allROIs_allSections.h5'%{'stack':stack})\n",
    "#     indices_allROIs_allSections = pd.read_hdf(table_filepath, 'indices_allROIs_allSections')\n",
    "#     grid_parameters = pd.read_hdf(table_filepath, 'grid_parameters')\n",
    "    \n",
    "#     patch_size, stride, w, h = grid_parameters.tolist()\n",
    "#     half_size = patch_size/2\n",
    "#     ys, xs = np.meshgrid(np.arange(half_size, h-half_size, stride), np.arange(half_size, w-half_size, stride),\n",
    "#                      indexing='xy')\n",
    "#     sample_locations = np.c_[xs.flat, ys.flat]\n",
    "    \n",
    "#     if stack_has_annotation:\n",
    "#         table_filepath = os.path.join(patches_rootdir, '%(stack)s_indices_allLandmarks_allSections.h5'%{'stack':stack})\n",
    "#         indices_allLandmarks_allSections = pd.read_hdf(table_filepath, 'indices_allLandmarks_allSections')\n",
    "\n",
    "#     first_detect_sec, last_detect_sec = detect_bbox_range_lookup[stack]\n",
    "    \n",
    "#     bar = show_progress_bar(first_detect_sec, last_detect_sec)\n",
    "    \n",
    "#     for sec in range(first_detect_sec, last_detect_sec+1):\n",
    "# #     for sec in range(first_detect_sec, first_detect_sec+10):\n",
    "# #     for sec in range(first_detect_sec, first_detect_sec+1):\n",
    "        \n",
    "#         if sec not in indices_allROIs_allSections.columns:\n",
    "#             continue\n",
    "            \n",
    "#         bar.value = sec\n",
    "                \n",
    "#         indices_roi = indices_allROIs_allSections[sec]['roi1']\n",
    "        \n",
    "#         n = len(indices_roi)\n",
    "#         print n, 'roi samples'\n",
    "        \n",
    "#         ######################\n",
    "#         t = time.time()\n",
    "        \n",
    "#         true_labels = -1 * np.ones((99999,), np.int)\n",
    "#         if stack_has_annotation:\n",
    "#             if sec in indices_allLandmarks_allSections:\n",
    "#                 for l in indices_allLandmarks_allSections[sec].dropna().keys() & labels_surroundIncluded:\n",
    "#                     true_labels[indices_allLandmarks_allSections[sec][l]] = labels_surroundIncluded_index[l]\n",
    "#         patch_labels = true_labels[indices_roi]\n",
    "        \n",
    "#         create_if_not_exists(test_features_rootdir + '/%(stack)s/%(sec)04d' % {'stack': stack, 'sec': sec})\n",
    "#         np.save(test_features_rootdir + '/%(stack)s/%(sec)04d/%(stack)s_%(sec)04d_roi1_labels.npy' % \\\n",
    "#                 {'stack': stack, 'sec': sec}, \n",
    "#                 patch_labels)\n",
    "        \n",
    "#         sys.stderr.write('get true labels: %.2f seconds\\n' % (time.time() - t)) # ~ 0s\n",
    "                \n",
    "#         ######################\n",
    "        \n",
    "#         sample_locations_roi = sample_locations[indices_roi]\n",
    "\n",
    "#         t = time.time()\n",
    "        \n",
    "#         sat = imread(sat_rootdir + '/%(stack)s_saturation/%(stack)s_%(sec)04d_sat.jpg' % {'stack': stack, 'sec': sec})\n",
    "            \n",
    "#         sys.stderr.write('load saturation image: %.2f seconds\\n' % (time.time() - t)) # ~ 2s\n",
    "    \n",
    "#         t = time.time()\n",
    "    \n",
    "#         patches = np.array([sat[y-half_size:y+half_size, x-half_size:x+half_size]\n",
    "#                             for x, y in sample_locations_roi]) # n x 224 x 224\n",
    "#         patches = patches - mean_img\n",
    "#         patches = patches[:, None, :, :] # n x 1 x 224 x 224\n",
    "# #         patches = np.rollaxis(patches2, 3, 1)\n",
    "    \n",
    "#         sys.stderr.write('extract, reshape, normalize: %.2f seconds\\n' % (time.time() - t)) # ~ 6s\n",
    "        \n",
    "#         batch_size = 256 # increasing to 500 does not save any time\n",
    "\n",
    "#         data_iter = mx.io.NDArrayIter(\n",
    "#             patches, \n",
    "#             np.zeros((n, ), np.int), # labels are not important since it is just feed-forward\n",
    "#             batch_size = batch_size,\n",
    "#             shuffle=False\n",
    "#         )\n",
    "\n",
    "#         t = time.time()\n",
    "\n",
    "#         features = model.predict(data_iter)\n",
    "        \n",
    "#         sys.stderr.write('predict: %.2f seconds\\n' % (time.time() - t)) # ~40s\n",
    "        \n",
    "#         t = time.time()\n",
    "        \n",
    "#         save_hdf(features, test_features_rootdir + '/%(stack)s/%(sec)04d/%(stack)s_%(sec)04d_roi1_features.hdf' % \\\n",
    "#                  {'stack': stack, 'sec': sec})\n",
    "        \n",
    "#         sys.stderr.write('save: %.2f seconds\\n' % (time.time() - t)) # ~.5s\n",
    "        \n",
    "#         del sat, patches, sample_locations_roi, features\n",
    "                \n",
    "#     del sample_locations\n"
   ]
  },
  {
   "cell_type": "code",
   "execution_count": null,
   "metadata": {
    "collapsed": true
   },
   "outputs": [],
   "source": []
  }
 ],
 "metadata": {
  "kernelspec": {
   "display_name": "Python 2",
   "language": "python",
   "name": "python2"
  },
  "language_info": {
   "codemirror_mode": {
    "name": "ipython",
    "version": 2
   },
   "file_extension": ".py",
   "mimetype": "text/x-python",
   "name": "python",
   "nbconvert_exporter": "python",
   "pygments_lexer": "ipython2",
   "version": "2.7.3"
  }
 },
 "nbformat": 4,
 "nbformat_minor": 0
}
