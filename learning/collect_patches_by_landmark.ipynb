{
 "cells": [
  {
   "cell_type": "code",
   "execution_count": 1,
   "metadata": {
    "collapsed": true
   },
   "outputs": [],
   "source": [
    "%reload_ext autoreload\n",
    "%autoreload 2\n",
    "\n",
    "import cv2\n",
    "\n",
    "import os\n",
    "import sys\n",
    "sys.path.append(os.path.join(os.environ['REPO_DIR'], 'utilities'))\n",
    "from utilities2015 import *\n",
    "\n",
    "from collections import defaultdict\n",
    "\n",
    "from matplotlib.path import Path\n",
    "%matplotlib inline"
   ]
  },
  {
   "cell_type": "code",
   "execution_count": 2,
   "metadata": {
    "collapsed": false
   },
   "outputs": [],
   "source": [
    "stack = 'MD589'\n",
    "first, last = section_range_lookup[stack]"
   ]
  },
  {
   "cell_type": "code",
   "execution_count": null,
   "metadata": {
    "collapsed": true
   },
   "outputs": [],
   "source": [
    "# label_polygon = defaultdict(lambda: {})\n",
    "\n",
    "# for sec, dm in dms.iteritems():\n",
    "    \n",
    "#     res = dm.load_proposal_review_result(None, 'latest', 'consolidated')\n",
    "#     if res is None:\n",
    "#         continue\n",
    "#     usr, ts, suffix, result = res\n",
    "#     for props in result:\n",
    "#         label_polygon[props['label']][sec] = props['vertices']\n",
    "    \n",
    "# label_polygon.default_factory = None\n",
    "\n",
    "# pickle.dump(label_polygon, open(os.environ['REPO_DIR']+'/database/'+stack+'_label_polygons.pkl', 'w'))"
   ]
  },
  {
   "cell_type": "code",
   "execution_count": 3,
   "metadata": {
    "collapsed": true
   },
   "outputs": [],
   "source": [
    "label_polygon = pickle.load(open(os.environ['REPO_DIR']+'/database/'+stack+'_label_polygons.pkl', 'r'))\n",
    "\n",
    "labels_to_collect = ['5N', '7n', '7N', '12N', 'Gr', 'LVe', 'Pn', 'SuVe', 'VLL']\n",
    "\n",
    "assert set(labels_to_collect).issubset(set(label_polygon.keys()))"
   ]
  },
  {
   "cell_type": "code",
   "execution_count": 4,
   "metadata": {
    "collapsed": true
   },
   "outputs": [],
   "source": [
    "section_contains_labels = defaultdict(set)\n",
    "for l, secs in label_polygon.iteritems():\n",
    "    for s in secs:\n",
    "        section_contains_labels[s].add(l)\n",
    "section_contains_labels.default_factory = None"
   ]
  },
  {
   "cell_type": "code",
   "execution_count": 5,
   "metadata": {
    "collapsed": false
   },
   "outputs": [],
   "source": [
    "patch_size = 224\n",
    "half_size = patch_size/2\n",
    "stride = 56\n",
    "\n",
    "dm = DataManager(stack=stack, section=first, segm_params_id='tSLIC200', load_mask=False)\n",
    "\n",
    "w = dm.image_width\n",
    "h = dm.image_height \n",
    "\n",
    "ys, xs = np.meshgrid(np.arange(half_size, h-half_size, stride), np.arange(half_size, w-half_size, stride),\n",
    "                     indexing='xy')\n",
    "    \n",
    "sample_locations = np.c_[xs.flat, ys.flat]"
   ]
  },
  {
   "cell_type": "code",
   "execution_count": null,
   "metadata": {
    "collapsed": false
   },
   "outputs": [],
   "source": [
    "from shapely.geometry import Polygon, Point\n",
    "from shapely.ops import cascaded_union"
   ]
  },
  {
   "cell_type": "code",
   "execution_count": null,
   "metadata": {
    "collapsed": true
   },
   "outputs": [],
   "source": [
    "margin = int(.3*half_size)"
   ]
  },
  {
   "cell_type": "code",
   "execution_count": null,
   "metadata": {
    "collapsed": true
   },
   "outputs": [],
   "source": [
    "sample_locations_ul = sample_locations - (margin, margin)\n",
    "sample_locations_ur = sample_locations - (-margin, margin)\n",
    "sample_locations_ll = sample_locations - (margin, -margin)\n",
    "sample_locations_lr = sample_locations - (-margin, -margin)"
   ]
  },
  {
   "cell_type": "code",
   "execution_count": null,
   "metadata": {
    "collapsed": false,
    "scrolled": true
   },
   "outputs": [],
   "source": [
    "# import time\n",
    "# t = time.time()\n",
    "\n",
    "for sec, labels in section_contains_labels.iteritems():\n",
    "\n",
    "# sec = 155\n",
    "# labels = section_contains_labels[sec]\n",
    "\n",
    "    print sec\n",
    "\n",
    "    labs = set(labels) & set(labels_to_collect)\n",
    "\n",
    "    if len(labs) == 0:\n",
    "        continue\n",
    "\n",
    "    dm = DataManager(stack=stack, section=sec, segm_params_id='tSLIC200', load_mask=False)\n",
    "\n",
    "    mask = dm.load_thumbnail_mask()\n",
    "    indices_fg = np.where(mask[sample_locations[:,1]/32, sample_locations[:,0]/32])[0]\n",
    "    indices_bg = np.setdiff1d(range(sample_locations.shape[0]), indices_fg)\n",
    "\n",
    "    all_polygons = dict([])\n",
    "    indices_inside = dict([])\n",
    "    indices_buffer = dict([])\n",
    "\n",
    "    # dm._load_image(['rgb'])\n",
    "    dm._load_image(['rgb-jpg'])\n",
    "\n",
    "    for label in labs:\n",
    "\n",
    "        path = Path(label_polygon[label][sec])\n",
    "        indices_inside[label] =  np.where(path.contains_points(sample_locations_ll) &\\\n",
    "                                          path.contains_points(sample_locations_lr) &\\\n",
    "                                          path.contains_points(sample_locations_ul) &\\\n",
    "                                          path.contains_points(sample_locations_ur))[0]\n",
    "\n",
    "    indices_allInside = np.concatenate(indices_inside.values())\n",
    "        \n",
    "    for label in labs:\n",
    " \n",
    "        surround = Polygon(label_polygon[label][sec]).buffer(500, resolution=2)\n",
    "\n",
    "        path = Path(list(surround.exterior.coords))\n",
    "        indices_buf =  np.where(path.contains_points(sample_locations_ll) &\\\n",
    "                                path.contains_points(sample_locations_lr) &\\\n",
    "                                path.contains_points(sample_locations_ul) &\\\n",
    "                                path.contains_points(sample_locations_ur))[0]\n",
    "\n",
    "        indices_buffer[label] = np.setdiff1d(indices_buf, np.r_[indices_bg, indices_allInside])\n",
    "\n",
    "    #         for i in indices_inside[label]:\n",
    "\n",
    "        if len(indices_inside[label]) > 0:\n",
    "\n",
    "            output_dir = '/home/yuncong/CSHL_data_patches/%s/%04d/%s'%(stack, sec, label)\n",
    "            if not os.path.exists(output_dir):\n",
    "                os.makedirs(output_dir)\n",
    "\n",
    "            for i in np.random.choice(indices_inside[label], min(10, len(indices_inside[label])), replace=False):\n",
    "                x, y = sample_locations[i]\n",
    "    #             patch = dm.image_rgb[y-half_size:y+half_size, x-half_size:x+half_size]\n",
    "                patch = dm.image_rgb_jpg[y-half_size:y+half_size, x-half_size:x+half_size]\n",
    "                cv2.imwrite(output_dir + '/%s_%04d_%08d.jpg'%(stack, sec, i), img_as_ubyte(patch[..., ::-1]))\n",
    "\n",
    "    #         for i in indices_buffer[label]:\n",
    "        if len(indices_buffer[label]) > 0:\n",
    "\n",
    "            output_dir = '/home/yuncong/CSHL_data_patches/%s/%04d/%s_surround'%(stack, sec, label)\n",
    "            if not os.path.exists(output_dir):\n",
    "                os.makedirs(output_dir)\n",
    "\n",
    "            for i in np.random.choice(indices_buffer[label], min(10, len(indices_buffer[label])), replace=False):\n",
    "                x, y = sample_locations[i]\n",
    "    #             patch = dm.image_rgb[y-half_size:y+half_size, x-half_size:x+half_size]\n",
    "                patch = dm.image_rgb_jpg[y-half_size:y+half_size, x-half_size:x+half_size]\n",
    "                cv2.imwrite(output_dir + '/%s_%04d_%08d.jpg'%(stack, sec, i), img_as_ubyte(patch[..., ::-1]))\n",
    "\n",
    "#     output_dir = '/home/yuncong/CSHL_data_patches/%s/%04d/bg'%(stack, sec)\n",
    "#     if not os.path.exists(output_dir):\n",
    "#         os.makedirs(output_dir)\n",
    "\n",
    "#     for i in np.random.choice(indices_bg, 10, replace=False):\n",
    "#         x, y = sample_locations[i]\n",
    "#         patch = dm.image_rgb[y-half_size:y+half_size, x-half_size:x+half_size]\n",
    "#         cv2.imwrite(output_dir + '/%08d.jpg'%i, img_as_ubyte(patch[..., ::-1]))\n",
    "\n",
    "# print time.time() - t"
   ]
  },
  {
   "cell_type": "code",
   "execution_count": null,
   "metadata": {
    "collapsed": true
   },
   "outputs": [],
   "source": [
    "# Whole slide\n",
    "\n",
    "sec = 195\n",
    "output_dir = '/home/yuncong/CSHL_data_patches/%s/%04d/%s'%(stack, sec, label)\n",
    "if not os.path.exists(output_dir):\n",
    "    os.makedirs(output_dir)\n",
    "\n",
    "for i in indices_fg:\n",
    "    x, y = sample_locations[i]\n",
    "#             patch = dm.image_rgb[y-half_size:y+half_size, x-half_size:x+half_size]\n",
    "    patch = dm.image_rgb_jpg[y-half_size:y+half_size, x-half_size:x+half_size]\n",
    "    cv2.imwrite(output_dir + '/%s_%04d_%08d.jpg'%(stack, sec, i), img_as_ubyte(patch[..., ::-1]))"
   ]
  },
  {
   "cell_type": "code",
   "execution_count": 7,
   "metadata": {
    "collapsed": false
   },
   "outputs": [
    {
     "name": "stdout",
     "output_type": "stream",
     "text": [
      "22401 patches\n"
     ]
    },
    {
     "name": "stderr",
     "output_type": "stream",
     "text": [
      "/oasis/projects/nsf/csd181/yuncong/virtualenv-1.9.1/yuncongve/lib/python2.7/site-packages/PIL/Image.py:2224: DecompressionBombWarning: Image size (157463552 pixels) exceeds limit of 89478485 pixels, could be decompression bomb DOS attack.\n",
      "  DecompressionBombWarning)\n"
     ]
    }
   ],
   "source": [
    "# ROI\n",
    "\n",
    "box_x = 37\n",
    "box_y = 122\n",
    "box_w = 393\n",
    "box_h = 219\n",
    "xmin = box_x*32\n",
    "xmax = (box_x+box_w)*32\n",
    "ymin = box_y*32\n",
    "ymax = (box_y+box_h)*32\n",
    "\n",
    "sec = 195\n",
    "\n",
    "dm = DataManager(stack=stack, section=sec, segm_params_id='tSLIC200', load_mask=False)\n",
    "\n",
    "mask = dm.load_thumbnail_mask()\n",
    "indices_fg = np.where(mask[sample_locations[:,1]/32, sample_locations[:,0]/32])[0]\n",
    "indices_bg = np.setdiff1d(range(sample_locations.shape[0]), indices_fg)\n",
    "\n",
    "# dm._load_image(['rgb'])\n",
    "dm._load_image(['rgb-jpg'])\n",
    "\n",
    "output_dir = '/home/yuncong/CSHL_data_patches/%s_byROI/%04d/roi1'%(stack, sec)\n",
    "if not os.path.exists(output_dir):\n",
    "    os.makedirs(output_dir)\n",
    "\n",
    "indices_roi = np.where(np.all(np.c_[sample_locations[:,0] > xmin, sample_locations[:,1] > ymin, \n",
    "                                    sample_locations[:,0] < xmax, sample_locations[:,1] < ymax], axis=1))[0]\n",
    "\n",
    "indices_roi = np.setdiff1d(indices_roi, indices_bg)\n",
    "\n",
    "print len(indices_roi), 'patches'\n",
    "\n",
    "# for i in indices_roi:\n",
    "# # for i in np.random.choice(indices_roi, min(10, len(indices_roi)), replace=False):\n",
    "#     x, y = sample_locations[i]\n",
    "# #             patch = dm.image_rgb[y-half_size:y+half_size, x-half_size:x+half_size]\n",
    "#     patch = dm.image_rgb_jpg[y-half_size:y+half_size, x-half_size:x+half_size]\n",
    "#     cv2.imwrite(output_dir + '/%s_%04d_%08d.jpg'%(stack, sec, i), img_as_ubyte(patch[..., ::-1]))"
   ]
  },
  {
   "cell_type": "code",
   "execution_count": 8,
   "metadata": {
    "collapsed": true
   },
   "outputs": [],
   "source": [
    "for i in indices_roi:\n",
    "# for i in np.random.choice(indices_roi, min(10, len(indices_roi)), replace=False):\n",
    "    x, y = sample_locations[i]\n",
    "#             patch = dm.image_rgb[y-half_size:y+half_size, x-half_size:x+half_size]\n",
    "    patch = dm.image_rgb_jpg[y-half_size:y+half_size, x-half_size:x+half_size]\n",
    "    cv2.imwrite(output_dir + '/%s_%04d_%08d.jpg'%(stack, sec, i), img_as_ubyte(patch[..., ::-1]))"
   ]
  },
  {
   "cell_type": "code",
   "execution_count": 13,
   "metadata": {
    "collapsed": false
   },
   "outputs": [
    {
     "name": "stdout",
     "output_type": "stream",
     "text": [
      "tar -I pigz -C MD589_byROI/0195/roi1 -cf MD589_0195_roi1.tar .\n"
     ]
    }
   ],
   "source": [
    "print 'tar -I pigz -C %(stack)s_byROI/%(sec)04d/roi1 -cf %(stack)s_%(sec)04d_roi1.tar .'% {'stack': stack, 'sec': sec}"
   ]
  },
  {
   "cell_type": "code",
   "execution_count": null,
   "metadata": {
    "collapsed": false
   },
   "outputs": [],
   "source": [
    "# copy patches to byLandmark folder\n",
    "\n",
    "bg_dir = '/home/yuncong/CSHL_data_patches/%s_byLandmark/BackG/'%stack\n",
    "if not os.path.exists(bg_dir):\n",
    "    os.makedirs(bg_dir)\n",
    "    \n",
    "for l in labels_to_collect:\n",
    "    output_dir = '/home/yuncong/CSHL_data_patches/%s_byLandmark/%s/'%(stack, l)\n",
    "    if not os.path.exists(output_dir):\n",
    "        os.makedirs(output_dir)\n",
    "\n",
    "for f in os.listdir('/home/yuncong/CSHL_data_patches/%s'%(stack)):\n",
    "    os.chdir('/home/yuncong/CSHL_data_patches/%s'%(stack))\n",
    "    for s in os.listdir('.'):\n",
    "        for l in os.listdir(s):\n",
    "            if len(l.split('_')) == 2:\n",
    "                os.system('cp /home/yuncong/CSHL_data_patches/%s/%04d/%s/*'%(stack, int(s), l) + ' ' + bg_dir)\n",
    "            else:\n",
    "                output_dir = '/home/yuncong/CSHL_data_patches/%s_byLandmark/%s/'%(stack, l)\n",
    "                os.system('cp /home/yuncong/CSHL_data_patches/%s/%04d/%s/*'%(stack, int(s), l) + ' ' + output_dir)"
   ]
  },
  {
   "cell_type": "code",
   "execution_count": null,
   "metadata": {
    "collapsed": false,
    "scrolled": true
   },
   "outputs": [],
   "source": [
    "# Count number of patches each landmark\n",
    "\n",
    "patches_dir = '/oasis/projects/nsf/csd395/yuncong/CSHL_data_patches/'\n",
    "labels = os.listdir(patches_dir + stack + '_byLandmark')\n",
    "for l in labels:\n",
    "    print l, len(os.listdir(patches_dir + stack + '_byLandmark/' + l))"
   ]
  },
  {
   "cell_type": "code",
   "execution_count": null,
   "metadata": {
    "collapsed": true
   },
   "outputs": [],
   "source": [
    "# from joblib import delayed, Parallel\n",
    "\n",
    "# import time\n",
    "# t = time.time()\n",
    "\n",
    "# _ = Parallel(n_jobs=16)(delayed(os.system)('cp %(f1)s %(f2)s'%{'f1': output_dir + '/%08d.jpg'%i,\n",
    "#                                             'f2': output_dir2 + '/%08d.jpg'%i}) for i in reduced_sample_indices)\n",
    "\n",
    "# print time.time() - t"
   ]
  }
 ],
 "metadata": {
  "kernelspec": {
   "display_name": "Python 2",
   "language": "python",
   "name": "python2"
  },
  "language_info": {
   "codemirror_mode": {
    "name": "ipython",
    "version": 2
   },
   "file_extension": ".py",
   "mimetype": "text/x-python",
   "name": "python",
   "nbconvert_exporter": "python",
   "pygments_lexer": "ipython2",
   "version": "2.7.3"
  }
 },
 "nbformat": 4,
 "nbformat_minor": 0
}
