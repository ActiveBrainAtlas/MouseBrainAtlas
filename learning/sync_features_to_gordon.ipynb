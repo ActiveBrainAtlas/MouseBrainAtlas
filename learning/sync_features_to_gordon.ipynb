{
 "cells": [
  {
   "cell_type": "code",
   "execution_count": 6,
   "metadata": {
    "collapsed": true
   },
   "outputs": [],
   "source": [
    "import os\n",
    "import sys\n",
    "import bloscpack as bp"
   ]
  },
  {
   "cell_type": "code",
   "execution_count": 7,
   "metadata": {
    "collapsed": true
   },
   "outputs": [],
   "source": [
    "# stack = 'MD589'"
   ]
  },
  {
   "cell_type": "code",
   "execution_count": 9,
   "metadata": {
    "collapsed": false
   },
   "outputs": [],
   "source": [
    "# test_features_rootdir = '/home/yuncong/CSHL_patch_features_%(model_name)s' % {'model_name': model_name}"
   ]
  },
  {
   "cell_type": "code",
   "execution_count": 15,
   "metadata": {
    "collapsed": false
   },
   "outputs": [],
   "source": [
    "# d = '/home/yuncong/CSHL_patch_predictions/%(stack)s' % {'stack': stack}\n",
    "# for subd in os.listdir(d):\n",
    "    \n",
    "#     sec = int(subd)\n",
    "    \n",
    "#     d_features_subd = os.path.join(d_features, subd)\n",
    "    \n",
    "#     if not os.path.exists(d_features_subd):\n",
    "#         os.makedirs(d_features_subd)\n",
    "    \n",
    "#     f = os.path.join(d, subd) + '/' + stack + '_' + subd + '_roi1_features.bp'\n",
    "#     os.system('cp ' + f + ' ' + d_features_subd)\n",
    "    \n",
    "#     f = os.path.join(d, subd) + '/' + stack + '_' + subd + '_roi1_patchLabels.npy'\n",
    "#     os.system('cp ' + f + ' ' + d_features_subd)"
   ]
  },
  {
   "cell_type": "code",
   "execution_count": 19,
   "metadata": {
    "collapsed": false
   },
   "outputs": [
    {
     "data": {
      "text/plain": [
       "0"
      ]
     },
     "execution_count": 19,
     "metadata": {},
     "output_type": "execute_result"
    }
   ],
   "source": [
    "stack = 'MD598'\n",
    "\n",
    "cmd = 'cd /home/yuncong/CSHL_patch_predictions/%(stack)s; rsync -r . yuncong@oasis-dm.sdsc.edu:/home/yuncong/csd395/CSHL_patch_features/%(stack)s' % \\\n",
    "{'stack': stack}\n",
    "\n",
    "os.system(cmd)"
   ]
  },
  {
   "cell_type": "code",
   "execution_count": 12,
   "metadata": {
    "collapsed": false
   },
   "outputs": [
    {
     "name": "stdout",
     "output_type": "stream",
     "text": [
      "Setting environment for Precision WorkStation\n"
     ]
    }
   ],
   "source": [
    "sys.path.append(os.environ['REPO_DIR'] + '/utilities')\n",
    "from metadata import *"
   ]
  },
  {
   "cell_type": "code",
   "execution_count": 15,
   "metadata": {
    "collapsed": false
   },
   "outputs": [],
   "source": [
    "# for stack in ['MD585', 'MD593', 'MD592', 'MD590', 'MD591', 'MD595', 'MD598', 'MD602']:\n",
    "# stack = 'MD589'\n",
    "\n",
    "# for stack in all_stacks:\n",
    "    \n",
    "#     if stack in ['MD590', 'MD591', 'MD585', 'MD602']:\n",
    "#         continue\n",
    "\n",
    "for stack in ['MD591']:\n",
    "    \n",
    "    cmd = 'cd /home/yuncong/CSHL_patch_features_Sat16ClassFinetuned/%(stack)s/; \\\n",
    "    rsync -r . yuncong@oasis-dm.sdsc.edu:/home/yuncong/csd395/CSHL_patch_features_Sat16ClassFinetuned/%(stack)s' % \\\n",
    "    {'stack': stack}\n",
    "\n",
    "    os.system(cmd)"
   ]
  },
  {
   "cell_type": "code",
   "execution_count": 44,
   "metadata": {
    "collapsed": false
   },
   "outputs": [
    {
     "data": {
      "text/plain": [
       "0"
      ]
     },
     "execution_count": 44,
     "metadata": {},
     "output_type": "execute_result"
    }
   ],
   "source": [
    "cmd = 'cd /home/yuncong/CSHL_patch_features_Sat16ClassFinetuned/train/; \\\n",
    "rsync -r . yuncong@oasis-dm.sdsc.edu:/home/yuncong/csd395/CSHL_patch_features_Sat16ClassFinetuned/train'\n",
    "\n",
    "os.system(cmd)"
   ]
  }
 ],
 "metadata": {
  "kernelspec": {
   "display_name": "Python 2",
   "language": "python",
   "name": "python2"
  },
  "language_info": {
   "codemirror_mode": {
    "name": "ipython",
    "version": 2
   },
   "file_extension": ".py",
   "mimetype": "text/x-python",
   "name": "python",
   "nbconvert_exporter": "python",
   "pygments_lexer": "ipython2",
   "version": "2.7.6"
  }
 },
 "nbformat": 4,
 "nbformat_minor": 0
}
