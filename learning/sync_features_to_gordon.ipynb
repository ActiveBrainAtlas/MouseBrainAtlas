{
 "cells": [
  {
   "cell_type": "code",
   "execution_count": 22,
   "metadata": {
    "collapsed": true
   },
   "outputs": [],
   "source": [
    "import os\n",
    "import sys\n",
    "import bloscpack as bp"
   ]
  },
  {
   "cell_type": "code",
   "execution_count": 24,
   "metadata": {
    "collapsed": true
   },
   "outputs": [],
   "source": [
    "stack = 'MD585'"
   ]
  },
  {
   "cell_type": "code",
   "execution_count": 25,
   "metadata": {
    "collapsed": true
   },
   "outputs": [],
   "source": [
    "d_features = '/home/yuncong/CSHL_patch_features/' + stack\n",
    "if not os.path.exists(d_features):\n",
    "    os.makedirs(d_features)"
   ]
  },
  {
   "cell_type": "code",
   "execution_count": 5,
   "metadata": {
    "collapsed": false,
    "scrolled": true
   },
   "outputs": [
    {
     "name": "stdout",
     "output_type": "stream",
     "text": [
      "ssh yuncong@oasis-dm.sdsc.edu mkdir /home/yuncong/csd395/CSHL_data_features/MD594/0292;    scp /home/yuncong/CSHL_patch_features/MD594/0292/%(stack)s_%(sec)04d_roi1_features.bp yuncong@oasis-dm.sdsc.edu:/home/yuncong/csd395/CSHL_data_features/MD594/0292/\n",
      "ssh yuncong@oasis-dm.sdsc.edu mkdir /home/yuncong/csd395/CSHL_data_features/MD594/0269;    scp /home/yuncong/CSHL_patch_features/MD594/0269/%(stack)s_%(sec)04d_roi1_features.bp yuncong@oasis-dm.sdsc.edu:/home/yuncong/csd395/CSHL_data_features/MD594/0269/\n",
      "ssh yuncong@oasis-dm.sdsc.edu mkdir /home/yuncong/csd395/CSHL_data_features/MD594/0156;    scp /home/yuncong/CSHL_patch_features/MD594/0156/%(stack)s_%(sec)04d_roi1_features.bp yuncong@oasis-dm.sdsc.edu:/home/yuncong/csd395/CSHL_data_features/MD594/0156/\n",
      "ssh yuncong@oasis-dm.sdsc.edu mkdir /home/yuncong/csd395/CSHL_data_features/MD594/0215;    scp /home/yuncong/CSHL_patch_features/MD594/0215/%(stack)s_%(sec)04d_roi1_features.bp yuncong@oasis-dm.sdsc.edu:/home/yuncong/csd395/CSHL_data_features/MD594/0215/\n",
      "ssh yuncong@oasis-dm.sdsc.edu mkdir /home/yuncong/csd395/CSHL_data_features/MD594/0189;    scp /home/yuncong/CSHL_patch_features/MD594/0189/%(stack)s_%(sec)04d_roi1_features.bp yuncong@oasis-dm.sdsc.edu:/home/yuncong/csd395/CSHL_data_features/MD594/0189/\n",
      "ssh yuncong@oasis-dm.sdsc.edu mkdir /home/yuncong/csd395/CSHL_data_features/MD594/0151;    scp /home/yuncong/CSHL_patch_features/MD594/0151/%(stack)s_%(sec)04d_roi1_features.bp yuncong@oasis-dm.sdsc.edu:/home/yuncong/csd395/CSHL_data_features/MD594/0151/\n",
      "ssh yuncong@oasis-dm.sdsc.edu mkdir /home/yuncong/csd395/CSHL_data_features/MD594/0293;    scp /home/yuncong/CSHL_patch_features/MD594/0293/%(stack)s_%(sec)04d_roi1_features.bp yuncong@oasis-dm.sdsc.edu:/home/yuncong/csd395/CSHL_data_features/MD594/0293/\n",
      "ssh yuncong@oasis-dm.sdsc.edu mkdir /home/yuncong/csd395/CSHL_data_features/MD594/0195;    scp /home/yuncong/CSHL_patch_features/MD594/0195/%(stack)s_%(sec)04d_roi1_features.bp yuncong@oasis-dm.sdsc.edu:/home/yuncong/csd395/CSHL_data_features/MD594/0195/\n",
      "ssh yuncong@oasis-dm.sdsc.edu mkdir /home/yuncong/csd395/CSHL_data_features/MD594/0245;    scp /home/yuncong/CSHL_patch_features/MD594/0245/%(stack)s_%(sec)04d_roi1_features.bp yuncong@oasis-dm.sdsc.edu:/home/yuncong/csd395/CSHL_data_features/MD594/0245/\n",
      "ssh yuncong@oasis-dm.sdsc.edu mkdir /home/yuncong/csd395/CSHL_data_features/MD594/0225;    scp /home/yuncong/CSHL_patch_features/MD594/0225/%(stack)s_%(sec)04d_roi1_features.bp yuncong@oasis-dm.sdsc.edu:/home/yuncong/csd395/CSHL_data_features/MD594/0225/\n",
      "ssh yuncong@oasis-dm.sdsc.edu mkdir /home/yuncong/csd395/CSHL_data_features/MD594/0280;    scp /home/yuncong/CSHL_patch_features/MD594/0280/%(stack)s_%(sec)04d_roi1_features.bp yuncong@oasis-dm.sdsc.edu:/home/yuncong/csd395/CSHL_data_features/MD594/0280/\n",
      "ssh yuncong@oasis-dm.sdsc.edu mkdir /home/yuncong/csd395/CSHL_data_features/MD594/0170;    scp /home/yuncong/CSHL_patch_features/MD594/0170/%(stack)s_%(sec)04d_roi1_features.bp yuncong@oasis-dm.sdsc.edu:/home/yuncong/csd395/CSHL_data_features/MD594/0170/\n",
      "ssh yuncong@oasis-dm.sdsc.edu mkdir /home/yuncong/csd395/CSHL_data_features/MD594/0241;    scp /home/yuncong/CSHL_patch_features/MD594/0241/%(stack)s_%(sec)04d_roi1_features.bp yuncong@oasis-dm.sdsc.edu:/home/yuncong/csd395/CSHL_data_features/MD594/0241/\n",
      "ssh yuncong@oasis-dm.sdsc.edu mkdir /home/yuncong/csd395/CSHL_data_features/MD594/0290;    scp /home/yuncong/CSHL_patch_features/MD594/0290/%(stack)s_%(sec)04d_roi1_features.bp yuncong@oasis-dm.sdsc.edu:/home/yuncong/csd395/CSHL_data_features/MD594/0290/\n",
      "ssh yuncong@oasis-dm.sdsc.edu mkdir /home/yuncong/csd395/CSHL_data_features/MD594/0266;    scp /home/yuncong/CSHL_patch_features/MD594/0266/%(stack)s_%(sec)04d_roi1_features.bp yuncong@oasis-dm.sdsc.edu:/home/yuncong/csd395/CSHL_data_features/MD594/0266/\n",
      "ssh yuncong@oasis-dm.sdsc.edu mkdir /home/yuncong/csd395/CSHL_data_features/MD594/0260;    scp /home/yuncong/CSHL_patch_features/MD594/0260/%(stack)s_%(sec)04d_roi1_features.bp yuncong@oasis-dm.sdsc.edu:/home/yuncong/csd395/CSHL_data_features/MD594/0260/\n",
      "ssh yuncong@oasis-dm.sdsc.edu mkdir /home/yuncong/csd395/CSHL_data_features/MD594/0251;    scp /home/yuncong/CSHL_patch_features/MD594/0251/%(stack)s_%(sec)04d_roi1_features.bp yuncong@oasis-dm.sdsc.edu:/home/yuncong/csd395/CSHL_data_features/MD594/0251/\n",
      "ssh yuncong@oasis-dm.sdsc.edu mkdir /home/yuncong/csd395/CSHL_data_features/MD594/0210;    scp /home/yuncong/CSHL_patch_features/MD594/0210/%(stack)s_%(sec)04d_roi1_features.bp yuncong@oasis-dm.sdsc.edu:/home/yuncong/csd395/CSHL_data_features/MD594/0210/\n",
      "ssh yuncong@oasis-dm.sdsc.edu mkdir /home/yuncong/csd395/CSHL_data_features/MD594/0196;    scp /home/yuncong/CSHL_patch_features/MD594/0196/%(stack)s_%(sec)04d_roi1_features.bp yuncong@oasis-dm.sdsc.edu:/home/yuncong/csd395/CSHL_data_features/MD594/0196/\n",
      "ssh yuncong@oasis-dm.sdsc.edu mkdir /home/yuncong/csd395/CSHL_data_features/MD594/0261;    scp /home/yuncong/CSHL_patch_features/MD594/0261/%(stack)s_%(sec)04d_roi1_features.bp yuncong@oasis-dm.sdsc.edu:/home/yuncong/csd395/CSHL_data_features/MD594/0261/\n",
      "ssh yuncong@oasis-dm.sdsc.edu mkdir /home/yuncong/csd395/CSHL_data_features/MD594/0169;    scp /home/yuncong/CSHL_patch_features/MD594/0169/%(stack)s_%(sec)04d_roi1_features.bp yuncong@oasis-dm.sdsc.edu:/home/yuncong/csd395/CSHL_data_features/MD594/0169/\n",
      "ssh yuncong@oasis-dm.sdsc.edu mkdir /home/yuncong/csd395/CSHL_data_features/MD594/0221;    scp /home/yuncong/CSHL_patch_features/MD594/0221/%(stack)s_%(sec)04d_roi1_features.bp yuncong@oasis-dm.sdsc.edu:/home/yuncong/csd395/CSHL_data_features/MD594/0221/\n",
      "ssh yuncong@oasis-dm.sdsc.edu mkdir /home/yuncong/csd395/CSHL_data_features/MD594/0160;    scp /home/yuncong/CSHL_patch_features/MD594/0160/%(stack)s_%(sec)04d_roi1_features.bp yuncong@oasis-dm.sdsc.edu:/home/yuncong/csd395/CSHL_data_features/MD594/0160/\n",
      "ssh yuncong@oasis-dm.sdsc.edu mkdir /home/yuncong/csd395/CSHL_data_features/MD594/0192;    scp /home/yuncong/CSHL_patch_features/MD594/0192/%(stack)s_%(sec)04d_roi1_features.bp yuncong@oasis-dm.sdsc.edu:/home/yuncong/csd395/CSHL_data_features/MD594/0192/\n",
      "ssh yuncong@oasis-dm.sdsc.edu mkdir /home/yuncong/csd395/CSHL_data_features/MD594/0198;    scp /home/yuncong/CSHL_patch_features/MD594/0198/%(stack)s_%(sec)04d_roi1_features.bp yuncong@oasis-dm.sdsc.edu:/home/yuncong/csd395/CSHL_data_features/MD594/0198/\n",
      "ssh yuncong@oasis-dm.sdsc.edu mkdir /home/yuncong/csd395/CSHL_data_features/MD594/0237;    scp /home/yuncong/CSHL_patch_features/MD594/0237/%(stack)s_%(sec)04d_roi1_features.bp yuncong@oasis-dm.sdsc.edu:/home/yuncong/csd395/CSHL_data_features/MD594/0237/\n",
      "ssh yuncong@oasis-dm.sdsc.edu mkdir /home/yuncong/csd395/CSHL_data_features/MD594/0172;    scp /home/yuncong/CSHL_patch_features/MD594/0172/%(stack)s_%(sec)04d_roi1_features.bp yuncong@oasis-dm.sdsc.edu:/home/yuncong/csd395/CSHL_data_features/MD594/0172/\n",
      "ssh yuncong@oasis-dm.sdsc.edu mkdir /home/yuncong/csd395/CSHL_data_features/MD594/0279;    scp /home/yuncong/CSHL_patch_features/MD594/0279/%(stack)s_%(sec)04d_roi1_features.bp yuncong@oasis-dm.sdsc.edu:/home/yuncong/csd395/CSHL_data_features/MD594/0279/\n",
      "ssh yuncong@oasis-dm.sdsc.edu mkdir /home/yuncong/csd395/CSHL_data_features/MD594/0144;    scp /home/yuncong/CSHL_patch_features/MD594/0144/%(stack)s_%(sec)04d_roi1_features.bp yuncong@oasis-dm.sdsc.edu:/home/yuncong/csd395/CSHL_data_features/MD594/0144/\n",
      "ssh yuncong@oasis-dm.sdsc.edu mkdir /home/yuncong/csd395/CSHL_data_features/MD594/0296;    scp /home/yuncong/CSHL_patch_features/MD594/0296/%(stack)s_%(sec)04d_roi1_features.bp yuncong@oasis-dm.sdsc.edu:/home/yuncong/csd395/CSHL_data_features/MD594/0296/\n",
      "ssh yuncong@oasis-dm.sdsc.edu mkdir /home/yuncong/csd395/CSHL_data_features/MD594/0239;    scp /home/yuncong/CSHL_patch_features/MD594/0239/%(stack)s_%(sec)04d_roi1_features.bp yuncong@oasis-dm.sdsc.edu:/home/yuncong/csd395/CSHL_data_features/MD594/0239/\n",
      "ssh yuncong@oasis-dm.sdsc.edu mkdir /home/yuncong/csd395/CSHL_data_features/MD594/0171;    scp /home/yuncong/CSHL_patch_features/MD594/0171/%(stack)s_%(sec)04d_roi1_features.bp yuncong@oasis-dm.sdsc.edu:/home/yuncong/csd395/CSHL_data_features/MD594/0171/\n",
      "ssh yuncong@oasis-dm.sdsc.edu mkdir /home/yuncong/csd395/CSHL_data_features/MD594/0253;    scp /home/yuncong/CSHL_patch_features/MD594/0253/%(stack)s_%(sec)04d_roi1_features.bp yuncong@oasis-dm.sdsc.edu:/home/yuncong/csd395/CSHL_data_features/MD594/0253/\n",
      "ssh yuncong@oasis-dm.sdsc.edu mkdir /home/yuncong/csd395/CSHL_data_features/MD594/0234;    scp /home/yuncong/CSHL_patch_features/MD594/0234/%(stack)s_%(sec)04d_roi1_features.bp yuncong@oasis-dm.sdsc.edu:/home/yuncong/csd395/CSHL_data_features/MD594/0234/\n",
      "ssh yuncong@oasis-dm.sdsc.edu mkdir /home/yuncong/csd395/CSHL_data_features/MD594/0248;    scp /home/yuncong/CSHL_patch_features/MD594/0248/%(stack)s_%(sec)04d_roi1_features.bp yuncong@oasis-dm.sdsc.edu:/home/yuncong/csd395/CSHL_data_features/MD594/0248/\n",
      "ssh yuncong@oasis-dm.sdsc.edu mkdir /home/yuncong/csd395/CSHL_data_features/MD594/0227;    scp /home/yuncong/CSHL_patch_features/MD594/0227/%(stack)s_%(sec)04d_roi1_features.bp yuncong@oasis-dm.sdsc.edu:/home/yuncong/csd395/CSHL_data_features/MD594/0227/\n",
      "ssh yuncong@oasis-dm.sdsc.edu mkdir /home/yuncong/csd395/CSHL_data_features/MD594/0257;    scp /home/yuncong/CSHL_patch_features/MD594/0257/%(stack)s_%(sec)04d_roi1_features.bp yuncong@oasis-dm.sdsc.edu:/home/yuncong/csd395/CSHL_data_features/MD594/0257/\n",
      "ssh yuncong@oasis-dm.sdsc.edu mkdir /home/yuncong/csd395/CSHL_data_features/MD594/0145;    scp /home/yuncong/CSHL_patch_features/MD594/0145/%(stack)s_%(sec)04d_roi1_features.bp yuncong@oasis-dm.sdsc.edu:/home/yuncong/csd395/CSHL_data_features/MD594/0145/\n",
      "ssh yuncong@oasis-dm.sdsc.edu mkdir /home/yuncong/csd395/CSHL_data_features/MD594/0216;    scp /home/yuncong/CSHL_patch_features/MD594/0216/%(stack)s_%(sec)04d_roi1_features.bp yuncong@oasis-dm.sdsc.edu:/home/yuncong/csd395/CSHL_data_features/MD594/0216/\n",
      "ssh yuncong@oasis-dm.sdsc.edu mkdir /home/yuncong/csd395/CSHL_data_features/MD594/0254;    scp /home/yuncong/CSHL_patch_features/MD594/0254/%(stack)s_%(sec)04d_roi1_features.bp yuncong@oasis-dm.sdsc.edu:/home/yuncong/csd395/CSHL_data_features/MD594/0254/\n",
      "ssh yuncong@oasis-dm.sdsc.edu mkdir /home/yuncong/csd395/CSHL_data_features/MD594/0155;    scp /home/yuncong/CSHL_patch_features/MD594/0155/%(stack)s_%(sec)04d_roi1_features.bp yuncong@oasis-dm.sdsc.edu:/home/yuncong/csd395/CSHL_data_features/MD594/0155/\n",
      "ssh yuncong@oasis-dm.sdsc.edu mkdir /home/yuncong/csd395/CSHL_data_features/MD594/0287;    scp /home/yuncong/CSHL_patch_features/MD594/0287/%(stack)s_%(sec)04d_roi1_features.bp yuncong@oasis-dm.sdsc.edu:/home/yuncong/csd395/CSHL_data_features/MD594/0287/\n",
      "ssh yuncong@oasis-dm.sdsc.edu mkdir /home/yuncong/csd395/CSHL_data_features/MD594/0209;    scp /home/yuncong/CSHL_patch_features/MD594/0209/%(stack)s_%(sec)04d_roi1_features.bp yuncong@oasis-dm.sdsc.edu:/home/yuncong/csd395/CSHL_data_features/MD594/0209/\n",
      "ssh yuncong@oasis-dm.sdsc.edu mkdir /home/yuncong/csd395/CSHL_data_features/MD594/0166;    scp /home/yuncong/CSHL_patch_features/MD594/0166/%(stack)s_%(sec)04d_roi1_features.bp yuncong@oasis-dm.sdsc.edu:/home/yuncong/csd395/CSHL_data_features/MD594/0166/\n",
      "ssh yuncong@oasis-dm.sdsc.edu mkdir /home/yuncong/csd395/CSHL_data_features/MD594/0207;    scp /home/yuncong/CSHL_patch_features/MD594/0207/%(stack)s_%(sec)04d_roi1_features.bp yuncong@oasis-dm.sdsc.edu:/home/yuncong/csd395/CSHL_data_features/MD594/0207/\n",
      "ssh yuncong@oasis-dm.sdsc.edu mkdir /home/yuncong/csd395/CSHL_data_features/MD594/0282;    scp /home/yuncong/CSHL_patch_features/MD594/0282/%(stack)s_%(sec)04d_roi1_features.bp yuncong@oasis-dm.sdsc.edu:/home/yuncong/csd395/CSHL_data_features/MD594/0282/\n",
      "ssh yuncong@oasis-dm.sdsc.edu mkdir /home/yuncong/csd395/CSHL_data_features/MD594/0180;    scp /home/yuncong/CSHL_patch_features/MD594/0180/%(stack)s_%(sec)04d_roi1_features.bp yuncong@oasis-dm.sdsc.edu:/home/yuncong/csd395/CSHL_data_features/MD594/0180/\n",
      "ssh yuncong@oasis-dm.sdsc.edu mkdir /home/yuncong/csd395/CSHL_data_features/MD594/0159;    scp /home/yuncong/CSHL_patch_features/MD594/0159/%(stack)s_%(sec)04d_roi1_features.bp yuncong@oasis-dm.sdsc.edu:/home/yuncong/csd395/CSHL_data_features/MD594/0159/\n",
      "ssh yuncong@oasis-dm.sdsc.edu mkdir /home/yuncong/csd395/CSHL_data_features/MD594/0208;    scp /home/yuncong/CSHL_patch_features/MD594/0208/%(stack)s_%(sec)04d_roi1_features.bp yuncong@oasis-dm.sdsc.edu:/home/yuncong/csd395/CSHL_data_features/MD594/0208/\n",
      "ssh yuncong@oasis-dm.sdsc.edu mkdir /home/yuncong/csd395/CSHL_data_features/MD594/0291;    scp /home/yuncong/CSHL_patch_features/MD594/0291/%(stack)s_%(sec)04d_roi1_features.bp yuncong@oasis-dm.sdsc.edu:/home/yuncong/csd395/CSHL_data_features/MD594/0291/\n",
      "ssh yuncong@oasis-dm.sdsc.edu mkdir /home/yuncong/csd395/CSHL_data_features/MD594/0154;    scp /home/yuncong/CSHL_patch_features/MD594/0154/%(stack)s_%(sec)04d_roi1_features.bp yuncong@oasis-dm.sdsc.edu:/home/yuncong/csd395/CSHL_data_features/MD594/0154/\n",
      "ssh yuncong@oasis-dm.sdsc.edu mkdir /home/yuncong/csd395/CSHL_data_features/MD594/0191;    scp /home/yuncong/CSHL_patch_features/MD594/0191/%(stack)s_%(sec)04d_roi1_features.bp yuncong@oasis-dm.sdsc.edu:/home/yuncong/csd395/CSHL_data_features/MD594/0191/\n",
      "ssh yuncong@oasis-dm.sdsc.edu mkdir /home/yuncong/csd395/CSHL_data_features/MD594/0157;    scp /home/yuncong/CSHL_patch_features/MD594/0157/%(stack)s_%(sec)04d_roi1_features.bp yuncong@oasis-dm.sdsc.edu:/home/yuncong/csd395/CSHL_data_features/MD594/0157/\n",
      "ssh yuncong@oasis-dm.sdsc.edu mkdir /home/yuncong/csd395/CSHL_data_features/MD594/0219;    scp /home/yuncong/CSHL_patch_features/MD594/0219/%(stack)s_%(sec)04d_roi1_features.bp yuncong@oasis-dm.sdsc.edu:/home/yuncong/csd395/CSHL_data_features/MD594/0219/\n",
      "ssh yuncong@oasis-dm.sdsc.edu mkdir /home/yuncong/csd395/CSHL_data_features/MD594/0153;    scp /home/yuncong/CSHL_patch_features/MD594/0153/%(stack)s_%(sec)04d_roi1_features.bp yuncong@oasis-dm.sdsc.edu:/home/yuncong/csd395/CSHL_data_features/MD594/0153/\n",
      "ssh yuncong@oasis-dm.sdsc.edu mkdir /home/yuncong/csd395/CSHL_data_features/MD594/0228;    scp /home/yuncong/CSHL_patch_features/MD594/0228/%(stack)s_%(sec)04d_roi1_features.bp yuncong@oasis-dm.sdsc.edu:/home/yuncong/csd395/CSHL_data_features/MD594/0228/\n",
      "ssh yuncong@oasis-dm.sdsc.edu mkdir /home/yuncong/csd395/CSHL_data_features/MD594/0256;    scp /home/yuncong/CSHL_patch_features/MD594/0256/%(stack)s_%(sec)04d_roi1_features.bp yuncong@oasis-dm.sdsc.edu:/home/yuncong/csd395/CSHL_data_features/MD594/0256/\n",
      "ssh yuncong@oasis-dm.sdsc.edu mkdir /home/yuncong/csd395/CSHL_data_features/MD594/0302;    scp /home/yuncong/CSHL_patch_features/MD594/0302/%(stack)s_%(sec)04d_roi1_features.bp yuncong@oasis-dm.sdsc.edu:/home/yuncong/csd395/CSHL_data_features/MD594/0302/\n",
      "ssh yuncong@oasis-dm.sdsc.edu mkdir /home/yuncong/csd395/CSHL_data_features/MD594/0184;    scp /home/yuncong/CSHL_patch_features/MD594/0184/%(stack)s_%(sec)04d_roi1_features.bp yuncong@oasis-dm.sdsc.edu:/home/yuncong/csd395/CSHL_data_features/MD594/0184/\n",
      "ssh yuncong@oasis-dm.sdsc.edu mkdir /home/yuncong/csd395/CSHL_data_features/MD594/0213;    scp /home/yuncong/CSHL_patch_features/MD594/0213/%(stack)s_%(sec)04d_roi1_features.bp yuncong@oasis-dm.sdsc.edu:/home/yuncong/csd395/CSHL_data_features/MD594/0213/\n",
      "ssh yuncong@oasis-dm.sdsc.edu mkdir /home/yuncong/csd395/CSHL_data_features/MD594/0295;    scp /home/yuncong/CSHL_patch_features/MD594/0295/%(stack)s_%(sec)04d_roi1_features.bp yuncong@oasis-dm.sdsc.edu:/home/yuncong/csd395/CSHL_data_features/MD594/0295/\n",
      "ssh yuncong@oasis-dm.sdsc.edu mkdir /home/yuncong/csd395/CSHL_data_features/MD594/0185;    scp /home/yuncong/CSHL_patch_features/MD594/0185/%(stack)s_%(sec)04d_roi1_features.bp yuncong@oasis-dm.sdsc.edu:/home/yuncong/csd395/CSHL_data_features/MD594/0185/\n",
      "ssh yuncong@oasis-dm.sdsc.edu mkdir /home/yuncong/csd395/CSHL_data_features/MD594/0143;    scp /home/yuncong/CSHL_patch_features/MD594/0143/%(stack)s_%(sec)04d_roi1_features.bp yuncong@oasis-dm.sdsc.edu:/home/yuncong/csd395/CSHL_data_features/MD594/0143/\n",
      "ssh yuncong@oasis-dm.sdsc.edu mkdir /home/yuncong/csd395/CSHL_data_features/MD594/0247;    scp /home/yuncong/CSHL_patch_features/MD594/0247/%(stack)s_%(sec)04d_roi1_features.bp yuncong@oasis-dm.sdsc.edu:/home/yuncong/csd395/CSHL_data_features/MD594/0247/\n",
      "ssh yuncong@oasis-dm.sdsc.edu mkdir /home/yuncong/csd395/CSHL_data_features/MD594/0204;    scp /home/yuncong/CSHL_patch_features/MD594/0204/%(stack)s_%(sec)04d_roi1_features.bp yuncong@oasis-dm.sdsc.edu:/home/yuncong/csd395/CSHL_data_features/MD594/0204/\n",
      "ssh yuncong@oasis-dm.sdsc.edu mkdir /home/yuncong/csd395/CSHL_data_features/MD594/0178;    scp /home/yuncong/CSHL_patch_features/MD594/0178/%(stack)s_%(sec)04d_roi1_features.bp yuncong@oasis-dm.sdsc.edu:/home/yuncong/csd395/CSHL_data_features/MD594/0178/\n",
      "ssh yuncong@oasis-dm.sdsc.edu mkdir /home/yuncong/csd395/CSHL_data_features/MD594/0177;    scp /home/yuncong/CSHL_patch_features/MD594/0177/%(stack)s_%(sec)04d_roi1_features.bp yuncong@oasis-dm.sdsc.edu:/home/yuncong/csd395/CSHL_data_features/MD594/0177/\n",
      "ssh yuncong@oasis-dm.sdsc.edu mkdir /home/yuncong/csd395/CSHL_data_features/MD594/0148;    scp /home/yuncong/CSHL_patch_features/MD594/0148/%(stack)s_%(sec)04d_roi1_features.bp yuncong@oasis-dm.sdsc.edu:/home/yuncong/csd395/CSHL_data_features/MD594/0148/\n",
      "ssh yuncong@oasis-dm.sdsc.edu mkdir /home/yuncong/csd395/CSHL_data_features/MD594/0259;    scp /home/yuncong/CSHL_patch_features/MD594/0259/%(stack)s_%(sec)04d_roi1_features.bp yuncong@oasis-dm.sdsc.edu:/home/yuncong/csd395/CSHL_data_features/MD594/0259/\n",
      "ssh yuncong@oasis-dm.sdsc.edu mkdir /home/yuncong/csd395/CSHL_data_features/MD594/0235;    scp /home/yuncong/CSHL_patch_features/MD594/0235/%(stack)s_%(sec)04d_roi1_features.bp yuncong@oasis-dm.sdsc.edu:/home/yuncong/csd395/CSHL_data_features/MD594/0235/\n",
      "ssh yuncong@oasis-dm.sdsc.edu mkdir /home/yuncong/csd395/CSHL_data_features/MD594/0203;    scp /home/yuncong/CSHL_patch_features/MD594/0203/%(stack)s_%(sec)04d_roi1_features.bp yuncong@oasis-dm.sdsc.edu:/home/yuncong/csd395/CSHL_data_features/MD594/0203/\n",
      "ssh yuncong@oasis-dm.sdsc.edu mkdir /home/yuncong/csd395/CSHL_data_features/MD594/0242;    scp /home/yuncong/CSHL_patch_features/MD594/0242/%(stack)s_%(sec)04d_roi1_features.bp yuncong@oasis-dm.sdsc.edu:/home/yuncong/csd395/CSHL_data_features/MD594/0242/\n",
      "ssh yuncong@oasis-dm.sdsc.edu mkdir /home/yuncong/csd395/CSHL_data_features/MD594/0202;    scp /home/yuncong/CSHL_patch_features/MD594/0202/%(stack)s_%(sec)04d_roi1_features.bp yuncong@oasis-dm.sdsc.edu:/home/yuncong/csd395/CSHL_data_features/MD594/0202/\n",
      "ssh yuncong@oasis-dm.sdsc.edu mkdir /home/yuncong/csd395/CSHL_data_features/MD594/0222;    scp /home/yuncong/CSHL_patch_features/MD594/0222/%(stack)s_%(sec)04d_roi1_features.bp yuncong@oasis-dm.sdsc.edu:/home/yuncong/csd395/CSHL_data_features/MD594/0222/\n",
      "ssh yuncong@oasis-dm.sdsc.edu mkdir /home/yuncong/csd395/CSHL_data_features/MD594/0304;    scp /home/yuncong/CSHL_patch_features/MD594/0304/%(stack)s_%(sec)04d_roi1_features.bp yuncong@oasis-dm.sdsc.edu:/home/yuncong/csd395/CSHL_data_features/MD594/0304/\n",
      "ssh yuncong@oasis-dm.sdsc.edu mkdir /home/yuncong/csd395/CSHL_data_features/MD594/0233;    scp /home/yuncong/CSHL_patch_features/MD594/0233/%(stack)s_%(sec)04d_roi1_features.bp yuncong@oasis-dm.sdsc.edu:/home/yuncong/csd395/CSHL_data_features/MD594/0233/\n",
      "ssh yuncong@oasis-dm.sdsc.edu mkdir /home/yuncong/csd395/CSHL_data_features/MD594/0147;    scp /home/yuncong/CSHL_patch_features/MD594/0147/%(stack)s_%(sec)04d_roi1_features.bp yuncong@oasis-dm.sdsc.edu:/home/yuncong/csd395/CSHL_data_features/MD594/0147/\n",
      "ssh yuncong@oasis-dm.sdsc.edu mkdir /home/yuncong/csd395/CSHL_data_features/MD594/0240;    scp /home/yuncong/CSHL_patch_features/MD594/0240/%(stack)s_%(sec)04d_roi1_features.bp yuncong@oasis-dm.sdsc.edu:/home/yuncong/csd395/CSHL_data_features/MD594/0240/\n",
      "ssh yuncong@oasis-dm.sdsc.edu mkdir /home/yuncong/csd395/CSHL_data_features/MD594/0305;    scp /home/yuncong/CSHL_patch_features/MD594/0305/%(stack)s_%(sec)04d_roi1_features.bp yuncong@oasis-dm.sdsc.edu:/home/yuncong/csd395/CSHL_data_features/MD594/0305/\n",
      "ssh yuncong@oasis-dm.sdsc.edu mkdir /home/yuncong/csd395/CSHL_data_features/MD594/0284;    scp /home/yuncong/CSHL_patch_features/MD594/0284/%(stack)s_%(sec)04d_roi1_features.bp yuncong@oasis-dm.sdsc.edu:/home/yuncong/csd395/CSHL_data_features/MD594/0284/\n",
      "ssh yuncong@oasis-dm.sdsc.edu mkdir /home/yuncong/csd395/CSHL_data_features/MD594/0183;    scp /home/yuncong/CSHL_patch_features/MD594/0183/%(stack)s_%(sec)04d_roi1_features.bp yuncong@oasis-dm.sdsc.edu:/home/yuncong/csd395/CSHL_data_features/MD594/0183/\n",
      "ssh yuncong@oasis-dm.sdsc.edu mkdir /home/yuncong/csd395/CSHL_data_features/MD594/0186;    scp /home/yuncong/CSHL_patch_features/MD594/0186/%(stack)s_%(sec)04d_roi1_features.bp yuncong@oasis-dm.sdsc.edu:/home/yuncong/csd395/CSHL_data_features/MD594/0186/\n",
      "ssh yuncong@oasis-dm.sdsc.edu mkdir /home/yuncong/csd395/CSHL_data_features/MD594/0274;    scp /home/yuncong/CSHL_patch_features/MD594/0274/%(stack)s_%(sec)04d_roi1_features.bp yuncong@oasis-dm.sdsc.edu:/home/yuncong/csd395/CSHL_data_features/MD594/0274/\n",
      "ssh yuncong@oasis-dm.sdsc.edu mkdir /home/yuncong/csd395/CSHL_data_features/MD594/0238;    scp /home/yuncong/CSHL_patch_features/MD594/0238/%(stack)s_%(sec)04d_roi1_features.bp yuncong@oasis-dm.sdsc.edu:/home/yuncong/csd395/CSHL_data_features/MD594/0238/\n",
      "ssh yuncong@oasis-dm.sdsc.edu mkdir /home/yuncong/csd395/CSHL_data_features/MD594/0283;    scp /home/yuncong/CSHL_patch_features/MD594/0283/%(stack)s_%(sec)04d_roi1_features.bp yuncong@oasis-dm.sdsc.edu:/home/yuncong/csd395/CSHL_data_features/MD594/0283/\n",
      "ssh yuncong@oasis-dm.sdsc.edu mkdir /home/yuncong/csd395/CSHL_data_features/MD594/0174;    scp /home/yuncong/CSHL_patch_features/MD594/0174/%(stack)s_%(sec)04d_roi1_features.bp yuncong@oasis-dm.sdsc.edu:/home/yuncong/csd395/CSHL_data_features/MD594/0174/\n",
      "ssh yuncong@oasis-dm.sdsc.edu mkdir /home/yuncong/csd395/CSHL_data_features/MD594/0273;    scp /home/yuncong/CSHL_patch_features/MD594/0273/%(stack)s_%(sec)04d_roi1_features.bp yuncong@oasis-dm.sdsc.edu:/home/yuncong/csd395/CSHL_data_features/MD594/0273/\n",
      "ssh yuncong@oasis-dm.sdsc.edu mkdir /home/yuncong/csd395/CSHL_data_features/MD594/0181;    scp /home/yuncong/CSHL_patch_features/MD594/0181/%(stack)s_%(sec)04d_roi1_features.bp yuncong@oasis-dm.sdsc.edu:/home/yuncong/csd395/CSHL_data_features/MD594/0181/\n",
      "ssh yuncong@oasis-dm.sdsc.edu mkdir /home/yuncong/csd395/CSHL_data_features/MD594/0223;    scp /home/yuncong/CSHL_patch_features/MD594/0223/%(stack)s_%(sec)04d_roi1_features.bp yuncong@oasis-dm.sdsc.edu:/home/yuncong/csd395/CSHL_data_features/MD594/0223/\n",
      "ssh yuncong@oasis-dm.sdsc.edu mkdir /home/yuncong/csd395/CSHL_data_features/MD594/0275;    scp /home/yuncong/CSHL_patch_features/MD594/0275/%(stack)s_%(sec)04d_roi1_features.bp yuncong@oasis-dm.sdsc.edu:/home/yuncong/csd395/CSHL_data_features/MD594/0275/\n",
      "ssh yuncong@oasis-dm.sdsc.edu mkdir /home/yuncong/csd395/CSHL_data_features/MD594/0206;    scp /home/yuncong/CSHL_patch_features/MD594/0206/%(stack)s_%(sec)04d_roi1_features.bp yuncong@oasis-dm.sdsc.edu:/home/yuncong/csd395/CSHL_data_features/MD594/0206/\n",
      "ssh yuncong@oasis-dm.sdsc.edu mkdir /home/yuncong/csd395/CSHL_data_features/MD594/0298;    scp /home/yuncong/CSHL_patch_features/MD594/0298/%(stack)s_%(sec)04d_roi1_features.bp yuncong@oasis-dm.sdsc.edu:/home/yuncong/csd395/CSHL_data_features/MD594/0298/\n",
      "ssh yuncong@oasis-dm.sdsc.edu mkdir /home/yuncong/csd395/CSHL_data_features/MD594/0303;    scp /home/yuncong/CSHL_patch_features/MD594/0303/%(stack)s_%(sec)04d_roi1_features.bp yuncong@oasis-dm.sdsc.edu:/home/yuncong/csd395/CSHL_data_features/MD594/0303/\n",
      "ssh yuncong@oasis-dm.sdsc.edu mkdir /home/yuncong/csd395/CSHL_data_features/MD594/0294;    scp /home/yuncong/CSHL_patch_features/MD594/0294/%(stack)s_%(sec)04d_roi1_features.bp yuncong@oasis-dm.sdsc.edu:/home/yuncong/csd395/CSHL_data_features/MD594/0294/\n",
      "ssh yuncong@oasis-dm.sdsc.edu mkdir /home/yuncong/csd395/CSHL_data_features/MD594/0244;    scp /home/yuncong/CSHL_patch_features/MD594/0244/%(stack)s_%(sec)04d_roi1_features.bp yuncong@oasis-dm.sdsc.edu:/home/yuncong/csd395/CSHL_data_features/MD594/0244/\n",
      "ssh yuncong@oasis-dm.sdsc.edu mkdir /home/yuncong/csd395/CSHL_data_features/MD594/0278;    scp /home/yuncong/CSHL_patch_features/MD594/0278/%(stack)s_%(sec)04d_roi1_features.bp yuncong@oasis-dm.sdsc.edu:/home/yuncong/csd395/CSHL_data_features/MD594/0278/\n",
      "ssh yuncong@oasis-dm.sdsc.edu mkdir /home/yuncong/csd395/CSHL_data_features/MD594/0246;    scp /home/yuncong/CSHL_patch_features/MD594/0246/%(stack)s_%(sec)04d_roi1_features.bp yuncong@oasis-dm.sdsc.edu:/home/yuncong/csd395/CSHL_data_features/MD594/0246/\n",
      "ssh yuncong@oasis-dm.sdsc.edu mkdir /home/yuncong/csd395/CSHL_data_features/MD594/0149;    scp /home/yuncong/CSHL_patch_features/MD594/0149/%(stack)s_%(sec)04d_roi1_features.bp yuncong@oasis-dm.sdsc.edu:/home/yuncong/csd395/CSHL_data_features/MD594/0149/\n",
      "ssh yuncong@oasis-dm.sdsc.edu mkdir /home/yuncong/csd395/CSHL_data_features/MD594/0255;    scp /home/yuncong/CSHL_patch_features/MD594/0255/%(stack)s_%(sec)04d_roi1_features.bp yuncong@oasis-dm.sdsc.edu:/home/yuncong/csd395/CSHL_data_features/MD594/0255/\n",
      "ssh yuncong@oasis-dm.sdsc.edu mkdir /home/yuncong/csd395/CSHL_data_features/MD594/0231;    scp /home/yuncong/CSHL_patch_features/MD594/0231/%(stack)s_%(sec)04d_roi1_features.bp yuncong@oasis-dm.sdsc.edu:/home/yuncong/csd395/CSHL_data_features/MD594/0231/\n",
      "ssh yuncong@oasis-dm.sdsc.edu mkdir /home/yuncong/csd395/CSHL_data_features/MD594/0152;    scp /home/yuncong/CSHL_patch_features/MD594/0152/%(stack)s_%(sec)04d_roi1_features.bp yuncong@oasis-dm.sdsc.edu:/home/yuncong/csd395/CSHL_data_features/MD594/0152/\n",
      "ssh yuncong@oasis-dm.sdsc.edu mkdir /home/yuncong/csd395/CSHL_data_features/MD594/0263;    scp /home/yuncong/CSHL_patch_features/MD594/0263/%(stack)s_%(sec)04d_roi1_features.bp yuncong@oasis-dm.sdsc.edu:/home/yuncong/csd395/CSHL_data_features/MD594/0263/\n",
      "ssh yuncong@oasis-dm.sdsc.edu mkdir /home/yuncong/csd395/CSHL_data_features/MD594/0168;    scp /home/yuncong/CSHL_patch_features/MD594/0168/%(stack)s_%(sec)04d_roi1_features.bp yuncong@oasis-dm.sdsc.edu:/home/yuncong/csd395/CSHL_data_features/MD594/0168/\n",
      "ssh yuncong@oasis-dm.sdsc.edu mkdir /home/yuncong/csd395/CSHL_data_features/MD594/0286;    scp /home/yuncong/CSHL_patch_features/MD594/0286/%(stack)s_%(sec)04d_roi1_features.bp yuncong@oasis-dm.sdsc.edu:/home/yuncong/csd395/CSHL_data_features/MD594/0286/\n",
      "ssh yuncong@oasis-dm.sdsc.edu mkdir /home/yuncong/csd395/CSHL_data_features/MD594/0236;    scp /home/yuncong/CSHL_patch_features/MD594/0236/%(stack)s_%(sec)04d_roi1_features.bp yuncong@oasis-dm.sdsc.edu:/home/yuncong/csd395/CSHL_data_features/MD594/0236/\n",
      "ssh yuncong@oasis-dm.sdsc.edu mkdir /home/yuncong/csd395/CSHL_data_features/MD594/0212;    scp /home/yuncong/CSHL_patch_features/MD594/0212/%(stack)s_%(sec)04d_roi1_features.bp yuncong@oasis-dm.sdsc.edu:/home/yuncong/csd395/CSHL_data_features/MD594/0212/\n",
      "ssh yuncong@oasis-dm.sdsc.edu mkdir /home/yuncong/csd395/CSHL_data_features/MD594/0249;    scp /home/yuncong/CSHL_patch_features/MD594/0249/%(stack)s_%(sec)04d_roi1_features.bp yuncong@oasis-dm.sdsc.edu:/home/yuncong/csd395/CSHL_data_features/MD594/0249/\n",
      "ssh yuncong@oasis-dm.sdsc.edu mkdir /home/yuncong/csd395/CSHL_data_features/MD594/0150;    scp /home/yuncong/CSHL_patch_features/MD594/0150/%(stack)s_%(sec)04d_roi1_features.bp yuncong@oasis-dm.sdsc.edu:/home/yuncong/csd395/CSHL_data_features/MD594/0150/\n",
      "ssh yuncong@oasis-dm.sdsc.edu mkdir /home/yuncong/csd395/CSHL_data_features/MD594/0285;    scp /home/yuncong/CSHL_patch_features/MD594/0285/%(stack)s_%(sec)04d_roi1_features.bp yuncong@oasis-dm.sdsc.edu:/home/yuncong/csd395/CSHL_data_features/MD594/0285/\n",
      "ssh yuncong@oasis-dm.sdsc.edu mkdir /home/yuncong/csd395/CSHL_data_features/MD594/0258;    scp /home/yuncong/CSHL_patch_features/MD594/0258/%(stack)s_%(sec)04d_roi1_features.bp yuncong@oasis-dm.sdsc.edu:/home/yuncong/csd395/CSHL_data_features/MD594/0258/\n",
      "ssh yuncong@oasis-dm.sdsc.edu mkdir /home/yuncong/csd395/CSHL_data_features/MD594/0262;    scp /home/yuncong/CSHL_patch_features/MD594/0262/%(stack)s_%(sec)04d_roi1_features.bp yuncong@oasis-dm.sdsc.edu:/home/yuncong/csd395/CSHL_data_features/MD594/0262/\n",
      "ssh yuncong@oasis-dm.sdsc.edu mkdir /home/yuncong/csd395/CSHL_data_features/MD594/0146;    scp /home/yuncong/CSHL_patch_features/MD594/0146/%(stack)s_%(sec)04d_roi1_features.bp yuncong@oasis-dm.sdsc.edu:/home/yuncong/csd395/CSHL_data_features/MD594/0146/\n",
      "ssh yuncong@oasis-dm.sdsc.edu mkdir /home/yuncong/csd395/CSHL_data_features/MD594/0205;    scp /home/yuncong/CSHL_patch_features/MD594/0205/%(stack)s_%(sec)04d_roi1_features.bp yuncong@oasis-dm.sdsc.edu:/home/yuncong/csd395/CSHL_data_features/MD594/0205/\n",
      "ssh yuncong@oasis-dm.sdsc.edu mkdir /home/yuncong/csd395/CSHL_data_features/MD594/0176;    scp /home/yuncong/CSHL_patch_features/MD594/0176/%(stack)s_%(sec)04d_roi1_features.bp yuncong@oasis-dm.sdsc.edu:/home/yuncong/csd395/CSHL_data_features/MD594/0176/\n",
      "ssh yuncong@oasis-dm.sdsc.edu mkdir /home/yuncong/csd395/CSHL_data_features/MD594/0267;    scp /home/yuncong/CSHL_patch_features/MD594/0267/%(stack)s_%(sec)04d_roi1_features.bp yuncong@oasis-dm.sdsc.edu:/home/yuncong/csd395/CSHL_data_features/MD594/0267/\n",
      "ssh yuncong@oasis-dm.sdsc.edu mkdir /home/yuncong/csd395/CSHL_data_features/MD594/0187;    scp /home/yuncong/CSHL_patch_features/MD594/0187/%(stack)s_%(sec)04d_roi1_features.bp yuncong@oasis-dm.sdsc.edu:/home/yuncong/csd395/CSHL_data_features/MD594/0187/\n",
      "ssh yuncong@oasis-dm.sdsc.edu mkdir /home/yuncong/csd395/CSHL_data_features/MD594/0200;    scp /home/yuncong/CSHL_patch_features/MD594/0200/%(stack)s_%(sec)04d_roi1_features.bp yuncong@oasis-dm.sdsc.edu:/home/yuncong/csd395/CSHL_data_features/MD594/0200/\n",
      "ssh yuncong@oasis-dm.sdsc.edu mkdir /home/yuncong/csd395/CSHL_data_features/MD594/0299;    scp /home/yuncong/CSHL_patch_features/MD594/0299/%(stack)s_%(sec)04d_roi1_features.bp yuncong@oasis-dm.sdsc.edu:/home/yuncong/csd395/CSHL_data_features/MD594/0299/\n",
      "ssh yuncong@oasis-dm.sdsc.edu mkdir /home/yuncong/csd395/CSHL_data_features/MD594/0268;    scp /home/yuncong/CSHL_patch_features/MD594/0268/%(stack)s_%(sec)04d_roi1_features.bp yuncong@oasis-dm.sdsc.edu:/home/yuncong/csd395/CSHL_data_features/MD594/0268/\n",
      "ssh yuncong@oasis-dm.sdsc.edu mkdir /home/yuncong/csd395/CSHL_data_features/MD594/0301;    scp /home/yuncong/CSHL_patch_features/MD594/0301/%(stack)s_%(sec)04d_roi1_features.bp yuncong@oasis-dm.sdsc.edu:/home/yuncong/csd395/CSHL_data_features/MD594/0301/\n",
      "ssh yuncong@oasis-dm.sdsc.edu mkdir /home/yuncong/csd395/CSHL_data_features/MD594/0158;    scp /home/yuncong/CSHL_patch_features/MD594/0158/%(stack)s_%(sec)04d_roi1_features.bp yuncong@oasis-dm.sdsc.edu:/home/yuncong/csd395/CSHL_data_features/MD594/0158/\n",
      "ssh yuncong@oasis-dm.sdsc.edu mkdir /home/yuncong/csd395/CSHL_data_features/MD594/0182;    scp /home/yuncong/CSHL_patch_features/MD594/0182/%(stack)s_%(sec)04d_roi1_features.bp yuncong@oasis-dm.sdsc.edu:/home/yuncong/csd395/CSHL_data_features/MD594/0182/\n",
      "ssh yuncong@oasis-dm.sdsc.edu mkdir /home/yuncong/csd395/CSHL_data_features/MD594/0232;    scp /home/yuncong/CSHL_patch_features/MD594/0232/%(stack)s_%(sec)04d_roi1_features.bp yuncong@oasis-dm.sdsc.edu:/home/yuncong/csd395/CSHL_data_features/MD594/0232/\n",
      "ssh yuncong@oasis-dm.sdsc.edu mkdir /home/yuncong/csd395/CSHL_data_features/MD594/0214;    scp /home/yuncong/CSHL_patch_features/MD594/0214/%(stack)s_%(sec)04d_roi1_features.bp yuncong@oasis-dm.sdsc.edu:/home/yuncong/csd395/CSHL_data_features/MD594/0214/\n",
      "ssh yuncong@oasis-dm.sdsc.edu mkdir /home/yuncong/csd395/CSHL_data_features/MD594/0289;    scp /home/yuncong/CSHL_patch_features/MD594/0289/%(stack)s_%(sec)04d_roi1_features.bp yuncong@oasis-dm.sdsc.edu:/home/yuncong/csd395/CSHL_data_features/MD594/0289/\n",
      "ssh yuncong@oasis-dm.sdsc.edu mkdir /home/yuncong/csd395/CSHL_data_features/MD594/0271;    scp /home/yuncong/CSHL_patch_features/MD594/0271/%(stack)s_%(sec)04d_roi1_features.bp yuncong@oasis-dm.sdsc.edu:/home/yuncong/csd395/CSHL_data_features/MD594/0271/\n",
      "ssh yuncong@oasis-dm.sdsc.edu mkdir /home/yuncong/csd395/CSHL_data_features/MD594/0179;    scp /home/yuncong/CSHL_patch_features/MD594/0179/%(stack)s_%(sec)04d_roi1_features.bp yuncong@oasis-dm.sdsc.edu:/home/yuncong/csd395/CSHL_data_features/MD594/0179/\n",
      "ssh yuncong@oasis-dm.sdsc.edu mkdir /home/yuncong/csd395/CSHL_data_features/MD594/0217;    scp /home/yuncong/CSHL_patch_features/MD594/0217/%(stack)s_%(sec)04d_roi1_features.bp yuncong@oasis-dm.sdsc.edu:/home/yuncong/csd395/CSHL_data_features/MD594/0217/\n",
      "ssh yuncong@oasis-dm.sdsc.edu mkdir /home/yuncong/csd395/CSHL_data_features/MD594/0199;    scp /home/yuncong/CSHL_patch_features/MD594/0199/%(stack)s_%(sec)04d_roi1_features.bp yuncong@oasis-dm.sdsc.edu:/home/yuncong/csd395/CSHL_data_features/MD594/0199/\n",
      "ssh yuncong@oasis-dm.sdsc.edu mkdir /home/yuncong/csd395/CSHL_data_features/MD594/0252;    scp /home/yuncong/CSHL_patch_features/MD594/0252/%(stack)s_%(sec)04d_roi1_features.bp yuncong@oasis-dm.sdsc.edu:/home/yuncong/csd395/CSHL_data_features/MD594/0252/\n",
      "ssh yuncong@oasis-dm.sdsc.edu mkdir /home/yuncong/csd395/CSHL_data_features/MD594/0297;    scp /home/yuncong/CSHL_patch_features/MD594/0297/%(stack)s_%(sec)04d_roi1_features.bp yuncong@oasis-dm.sdsc.edu:/home/yuncong/csd395/CSHL_data_features/MD594/0297/\n",
      "ssh yuncong@oasis-dm.sdsc.edu mkdir /home/yuncong/csd395/CSHL_data_features/MD594/0218;    scp /home/yuncong/CSHL_patch_features/MD594/0218/%(stack)s_%(sec)04d_roi1_features.bp yuncong@oasis-dm.sdsc.edu:/home/yuncong/csd395/CSHL_data_features/MD594/0218/\n",
      "ssh yuncong@oasis-dm.sdsc.edu mkdir /home/yuncong/csd395/CSHL_data_features/MD594/0193;    scp /home/yuncong/CSHL_patch_features/MD594/0193/%(stack)s_%(sec)04d_roi1_features.bp yuncong@oasis-dm.sdsc.edu:/home/yuncong/csd395/CSHL_data_features/MD594/0193/\n",
      "ssh yuncong@oasis-dm.sdsc.edu mkdir /home/yuncong/csd395/CSHL_data_features/MD594/0165;    scp /home/yuncong/CSHL_patch_features/MD594/0165/%(stack)s_%(sec)04d_roi1_features.bp yuncong@oasis-dm.sdsc.edu:/home/yuncong/csd395/CSHL_data_features/MD594/0165/\n",
      "ssh yuncong@oasis-dm.sdsc.edu mkdir /home/yuncong/csd395/CSHL_data_features/MD594/0277;    scp /home/yuncong/CSHL_patch_features/MD594/0277/%(stack)s_%(sec)04d_roi1_features.bp yuncong@oasis-dm.sdsc.edu:/home/yuncong/csd395/CSHL_data_features/MD594/0277/\n",
      "ssh yuncong@oasis-dm.sdsc.edu mkdir /home/yuncong/csd395/CSHL_data_features/MD594/0250;    scp /home/yuncong/CSHL_patch_features/MD594/0250/%(stack)s_%(sec)04d_roi1_features.bp yuncong@oasis-dm.sdsc.edu:/home/yuncong/csd395/CSHL_data_features/MD594/0250/\n",
      "ssh yuncong@oasis-dm.sdsc.edu mkdir /home/yuncong/csd395/CSHL_data_features/MD594/0272;    scp /home/yuncong/CSHL_patch_features/MD594/0272/%(stack)s_%(sec)04d_roi1_features.bp yuncong@oasis-dm.sdsc.edu:/home/yuncong/csd395/CSHL_data_features/MD594/0272/\n",
      "ssh yuncong@oasis-dm.sdsc.edu mkdir /home/yuncong/csd395/CSHL_data_features/MD594/0243;    scp /home/yuncong/CSHL_patch_features/MD594/0243/%(stack)s_%(sec)04d_roi1_features.bp yuncong@oasis-dm.sdsc.edu:/home/yuncong/csd395/CSHL_data_features/MD594/0243/\n",
      "ssh yuncong@oasis-dm.sdsc.edu mkdir /home/yuncong/csd395/CSHL_data_features/MD594/0194;    scp /home/yuncong/CSHL_patch_features/MD594/0194/%(stack)s_%(sec)04d_roi1_features.bp yuncong@oasis-dm.sdsc.edu:/home/yuncong/csd395/CSHL_data_features/MD594/0194/\n",
      "ssh yuncong@oasis-dm.sdsc.edu mkdir /home/yuncong/csd395/CSHL_data_features/MD594/0226;    scp /home/yuncong/CSHL_patch_features/MD594/0226/%(stack)s_%(sec)04d_roi1_features.bp yuncong@oasis-dm.sdsc.edu:/home/yuncong/csd395/CSHL_data_features/MD594/0226/\n",
      "ssh yuncong@oasis-dm.sdsc.edu mkdir /home/yuncong/csd395/CSHL_data_features/MD594/0270;    scp /home/yuncong/CSHL_patch_features/MD594/0270/%(stack)s_%(sec)04d_roi1_features.bp yuncong@oasis-dm.sdsc.edu:/home/yuncong/csd395/CSHL_data_features/MD594/0270/\n",
      "ssh yuncong@oasis-dm.sdsc.edu mkdir /home/yuncong/csd395/CSHL_data_features/MD594/0276;    scp /home/yuncong/CSHL_patch_features/MD594/0276/%(stack)s_%(sec)04d_roi1_features.bp yuncong@oasis-dm.sdsc.edu:/home/yuncong/csd395/CSHL_data_features/MD594/0276/\n",
      "ssh yuncong@oasis-dm.sdsc.edu mkdir /home/yuncong/csd395/CSHL_data_features/MD594/0300;    scp /home/yuncong/CSHL_patch_features/MD594/0300/%(stack)s_%(sec)04d_roi1_features.bp yuncong@oasis-dm.sdsc.edu:/home/yuncong/csd395/CSHL_data_features/MD594/0300/\n",
      "ssh yuncong@oasis-dm.sdsc.edu mkdir /home/yuncong/csd395/CSHL_data_features/MD594/0197;    scp /home/yuncong/CSHL_patch_features/MD594/0197/%(stack)s_%(sec)04d_roi1_features.bp yuncong@oasis-dm.sdsc.edu:/home/yuncong/csd395/CSHL_data_features/MD594/0197/\n",
      "ssh yuncong@oasis-dm.sdsc.edu mkdir /home/yuncong/csd395/CSHL_data_features/MD594/0201;    scp /home/yuncong/CSHL_patch_features/MD594/0201/%(stack)s_%(sec)04d_roi1_features.bp yuncong@oasis-dm.sdsc.edu:/home/yuncong/csd395/CSHL_data_features/MD594/0201/\n",
      "ssh yuncong@oasis-dm.sdsc.edu mkdir /home/yuncong/csd395/CSHL_data_features/MD594/0190;    scp /home/yuncong/CSHL_patch_features/MD594/0190/%(stack)s_%(sec)04d_roi1_features.bp yuncong@oasis-dm.sdsc.edu:/home/yuncong/csd395/CSHL_data_features/MD594/0190/\n",
      "ssh yuncong@oasis-dm.sdsc.edu mkdir /home/yuncong/csd395/CSHL_data_features/MD594/0188;    scp /home/yuncong/CSHL_patch_features/MD594/0188/%(stack)s_%(sec)04d_roi1_features.bp yuncong@oasis-dm.sdsc.edu:/home/yuncong/csd395/CSHL_data_features/MD594/0188/\n",
      "ssh yuncong@oasis-dm.sdsc.edu mkdir /home/yuncong/csd395/CSHL_data_features/MD594/0264;    scp /home/yuncong/CSHL_patch_features/MD594/0264/%(stack)s_%(sec)04d_roi1_features.bp yuncong@oasis-dm.sdsc.edu:/home/yuncong/csd395/CSHL_data_features/MD594/0264/\n",
      "ssh yuncong@oasis-dm.sdsc.edu mkdir /home/yuncong/csd395/CSHL_data_features/MD594/0164;    scp /home/yuncong/CSHL_patch_features/MD594/0164/%(stack)s_%(sec)04d_roi1_features.bp yuncong@oasis-dm.sdsc.edu:/home/yuncong/csd395/CSHL_data_features/MD594/0164/\n",
      "ssh yuncong@oasis-dm.sdsc.edu mkdir /home/yuncong/csd395/CSHL_data_features/MD594/0229;    scp /home/yuncong/CSHL_patch_features/MD594/0229/%(stack)s_%(sec)04d_roi1_features.bp yuncong@oasis-dm.sdsc.edu:/home/yuncong/csd395/CSHL_data_features/MD594/0229/\n",
      "ssh yuncong@oasis-dm.sdsc.edu mkdir /home/yuncong/csd395/CSHL_data_features/MD594/0230;    scp /home/yuncong/CSHL_patch_features/MD594/0230/%(stack)s_%(sec)04d_roi1_features.bp yuncong@oasis-dm.sdsc.edu:/home/yuncong/csd395/CSHL_data_features/MD594/0230/\n",
      "ssh yuncong@oasis-dm.sdsc.edu mkdir /home/yuncong/csd395/CSHL_data_features/MD594/0265;    scp /home/yuncong/CSHL_patch_features/MD594/0265/%(stack)s_%(sec)04d_roi1_features.bp yuncong@oasis-dm.sdsc.edu:/home/yuncong/csd395/CSHL_data_features/MD594/0265/\n",
      "ssh yuncong@oasis-dm.sdsc.edu mkdir /home/yuncong/csd395/CSHL_data_features/MD594/0288;    scp /home/yuncong/CSHL_patch_features/MD594/0288/%(stack)s_%(sec)04d_roi1_features.bp yuncong@oasis-dm.sdsc.edu:/home/yuncong/csd395/CSHL_data_features/MD594/0288/\n",
      "ssh yuncong@oasis-dm.sdsc.edu mkdir /home/yuncong/csd395/CSHL_data_features/MD594/0211;    scp /home/yuncong/CSHL_patch_features/MD594/0211/%(stack)s_%(sec)04d_roi1_features.bp yuncong@oasis-dm.sdsc.edu:/home/yuncong/csd395/CSHL_data_features/MD594/0211/\n",
      "ssh yuncong@oasis-dm.sdsc.edu mkdir /home/yuncong/csd395/CSHL_data_features/MD594/0175;    scp /home/yuncong/CSHL_patch_features/MD594/0175/%(stack)s_%(sec)04d_roi1_features.bp yuncong@oasis-dm.sdsc.edu:/home/yuncong/csd395/CSHL_data_features/MD594/0175/\n",
      "ssh yuncong@oasis-dm.sdsc.edu mkdir /home/yuncong/csd395/CSHL_data_features/MD594/0167;    scp /home/yuncong/CSHL_patch_features/MD594/0167/%(stack)s_%(sec)04d_roi1_features.bp yuncong@oasis-dm.sdsc.edu:/home/yuncong/csd395/CSHL_data_features/MD594/0167/\n",
      "ssh yuncong@oasis-dm.sdsc.edu mkdir /home/yuncong/csd395/CSHL_data_features/MD594/0161;    scp /home/yuncong/CSHL_patch_features/MD594/0161/%(stack)s_%(sec)04d_roi1_features.bp yuncong@oasis-dm.sdsc.edu:/home/yuncong/csd395/CSHL_data_features/MD594/0161/\n",
      "ssh yuncong@oasis-dm.sdsc.edu mkdir /home/yuncong/csd395/CSHL_data_features/MD594/0220;    scp /home/yuncong/CSHL_patch_features/MD594/0220/%(stack)s_%(sec)04d_roi1_features.bp yuncong@oasis-dm.sdsc.edu:/home/yuncong/csd395/CSHL_data_features/MD594/0220/\n",
      "ssh yuncong@oasis-dm.sdsc.edu mkdir /home/yuncong/csd395/CSHL_data_features/MD594/0162;    scp /home/yuncong/CSHL_patch_features/MD594/0162/%(stack)s_%(sec)04d_roi1_features.bp yuncong@oasis-dm.sdsc.edu:/home/yuncong/csd395/CSHL_data_features/MD594/0162/\n",
      "ssh yuncong@oasis-dm.sdsc.edu mkdir /home/yuncong/csd395/CSHL_data_features/MD594/0281;    scp /home/yuncong/CSHL_patch_features/MD594/0281/%(stack)s_%(sec)04d_roi1_features.bp yuncong@oasis-dm.sdsc.edu:/home/yuncong/csd395/CSHL_data_features/MD594/0281/\n",
      "ssh yuncong@oasis-dm.sdsc.edu mkdir /home/yuncong/csd395/CSHL_data_features/MD594/0224;    scp /home/yuncong/CSHL_patch_features/MD594/0224/%(stack)s_%(sec)04d_roi1_features.bp yuncong@oasis-dm.sdsc.edu:/home/yuncong/csd395/CSHL_data_features/MD594/0224/\n",
      "ssh yuncong@oasis-dm.sdsc.edu mkdir /home/yuncong/csd395/CSHL_data_features/MD594/0163;    scp /home/yuncong/CSHL_patch_features/MD594/0163/%(stack)s_%(sec)04d_roi1_features.bp yuncong@oasis-dm.sdsc.edu:/home/yuncong/csd395/CSHL_data_features/MD594/0163/\n",
      "ssh yuncong@oasis-dm.sdsc.edu mkdir /home/yuncong/csd395/CSHL_data_features/MD594/0173;    scp /home/yuncong/CSHL_patch_features/MD594/0173/%(stack)s_%(sec)04d_roi1_features.bp yuncong@oasis-dm.sdsc.edu:/home/yuncong/csd395/CSHL_data_features/MD594/0173/\n"
     ]
    }
   ],
   "source": [
    "# d = '/home/yuncong/CSHL_patch_predictions/MD594'\n",
    "# for subd in os.listdir(d):\n",
    "    \n",
    "#     sec = int(subd)\n",
    "    \n",
    "#     d_features_subd = os.path.join(d_features, subd)\n",
    "    \n",
    "#     if not os.path.exists(d_features_subd):\n",
    "#         os.makedirs(d_features_subd)\n",
    "    \n",
    "# #     f = os.path.join(d, subd) + '/MD594_' + subd + '_roi1_features.bp'\n",
    "# #     os.system('mv ' + f + ' ' + d_features_subd)\n",
    "    \n",
    "# #     fn = d_features_subd + '/%(stack)s_%(sec)04d_roi1_features.bp'\n",
    "    \n",
    "# #     cmd = 'ssh yuncong@oasis-dm.sdsc.edu mkdir /home/yuncong/csd395/CSHL_data_features/%(stack)s/%(sec)04d;\\\n",
    "# #     scp %(fn)s yuncong@oasis-dm.sdsc.edu:/home/yuncong/csd395/CSHL_data_features/%(stack)s/%(sec)04d/'% \\\n",
    "# #         {'fn': fn, 'stack': stack, 'sec':sec}\n",
    "        \n",
    "#     os.system(cmd)\n",
    "        \n",
    "#     print cmd"
   ]
  },
  {
   "cell_type": "code",
   "execution_count": 15,
   "metadata": {
    "collapsed": false
   },
   "outputs": [],
   "source": [
    "d = '/home/yuncong/CSHL_patch_predictions/' + stack\n",
    "for subd in os.listdir(d):\n",
    "    \n",
    "    sec = int(subd)\n",
    "    \n",
    "    d_features_subd = os.path.join(d_features, subd)\n",
    "    \n",
    "    if not os.path.exists(d_features_subd):\n",
    "        os.makedirs(d_features_subd)\n",
    "    \n",
    "    f = os.path.join(d, subd) + '/' + stack + '_' + subd + '_roi1_features.bp'\n",
    "    os.system('cp ' + f + ' ' + d_features_subd)\n",
    "    \n",
    "    f = os.path.join(d, subd) + '/' + stack + '_' + subd + '_roi1_patchLabels.npy'\n",
    "    os.system('cp ' + f + ' ' + d_features_subd)"
   ]
  },
  {
   "cell_type": "code",
   "execution_count": 19,
   "metadata": {
    "collapsed": false
   },
   "outputs": [
    {
     "data": {
      "text/plain": [
       "0"
      ]
     },
     "execution_count": 19,
     "metadata": {},
     "output_type": "execute_result"
    }
   ],
   "source": [
    "cmd = 'cd /home/yuncong/CSHL_patch_features/%(stack)s; rsync -r . yuncong@oasis-dm.sdsc.edu:/home/yuncong/csd395/CSHL_patch_features/%(stack)s' % \\\n",
    "{'stack': stack}\n",
    "\n",
    "os.system(cmd)"
   ]
  },
  {
   "cell_type": "code",
   "execution_count": 31,
   "metadata": {
    "collapsed": true
   },
   "outputs": [],
   "source": [
    "for stack in ['MD593', 'MD592', 'MD590', 'MD591', 'MD595', 'MD598', 'MD602']:\n",
    "    cmd = 'cd /home/yuncong/CSHL_patch_features/%(stack)s/; rsync -r . yuncong@oasis-dm.sdsc.edu:/home/yuncong/csd395/CSHL_patch_features/%(stack)s' % \\\n",
    "    {'stack': stack}\n",
    "\n",
    "    os.system(cmd)"
   ]
  }
 ],
 "metadata": {
  "kernelspec": {
   "display_name": "Python 2",
   "language": "python",
   "name": "python2"
  },
  "language_info": {
   "codemirror_mode": {
    "name": "ipython",
    "version": 2
   },
   "file_extension": ".py",
   "mimetype": "text/x-python",
   "name": "python",
   "nbconvert_exporter": "python",
   "pygments_lexer": "ipython2",
   "version": "2.7.6"
  }
 },
 "nbformat": 4,
 "nbformat_minor": 0
}
