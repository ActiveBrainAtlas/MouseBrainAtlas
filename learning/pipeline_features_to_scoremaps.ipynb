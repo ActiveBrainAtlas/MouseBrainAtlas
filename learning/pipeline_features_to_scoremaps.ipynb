{
 "cells": [
  {
   "cell_type": "code",
   "execution_count": 1,
   "metadata": {
    "collapsed": false
   },
   "outputs": [
    {
     "name": "stdout",
     "output_type": "stream",
     "text": [
      "Setting environment for Gordon\n"
     ]
    }
   ],
   "source": [
    "import os\n",
    "import sys\n",
    "import time\n",
    "\n",
    "sys.path.append(os.path.join(os.environ['REPO_DIR'], 'utilities'))\n",
    "from preprocess_utility import *\n",
    "from data_manager import *\n",
    "from metadata import *"
   ]
  },
  {
   "cell_type": "code",
   "execution_count": null,
   "metadata": {
    "collapsed": true
   },
   "outputs": [],
   "source": [
    "from preprocess_utility import *"
   ]
  },
  {
   "cell_type": "code",
   "execution_count": null,
   "metadata": {
    "collapsed": true
   },
   "outputs": [],
   "source": [
    "t = time.time()\n",
    "sys.stderr.write('running svm classifier ...')\n",
    "\n",
    "exclude_nodes = [33]\n",
    "\n",
    "run_distributed4(command='%(script_path)s %(stack)s %%(first_sec)d %%(last_sec)d' % \\\n",
    "                {'script_path': os.path.join(os.environ['REPO_DIR'], 'learning') + '/svm_predict.py',\n",
    "                'stack': stack},\n",
    "                kwargs_list=dict(sections=range(first_sec, last_sec+1)),\n",
    "                exclude_nodes=exclude_nodes,\n",
    "                argument_type='partition')\n",
    "\n",
    "sys.stderr.write('done in %f seconds\\n' % (time.time() - t)) # ~ 1000 seconds"
   ]
  },
  {
   "cell_type": "code",
   "execution_count": null,
   "metadata": {
    "collapsed": true
   },
   "outputs": [],
   "source": [
    "t = time.time()\n",
    "sys.stderr.write('interpolating scoremaps ...')\n",
    "\n",
    "stack = 'MD591'\n",
    "add_annotation = False\n",
    "\n",
    "exclude_nodes = [32, 33]\n",
    "# first_sec, last_sec = DataManager.load_cropbox(stack)[4:]\n",
    "first_sec, last_sec = (116, 133)\n",
    "\n",
    "run_distributed4(command='%(script_path)s %(stack)s %%(first_sec)d %%(last_sec)d' % \\\n",
    "                {'script_path': os.path.join(os.environ['REPO_DIR'], 'learning') + '/interpolate_scoremaps_v2.py',\n",
    "                'stack': stack},\n",
    "                kwargs_list=dict(sections=range(first_sec, last_sec+1)),\n",
    "                exclude_nodes=exclude_nodes,\n",
    "                argument_type='partition')\n",
    "\n",
    "sys.stderr.write('done in %f seconds\\n' % (time.time() - t)) # ~240 seconds "
   ]
  },
  {
   "cell_type": "code",
   "execution_count": null,
   "metadata": {
    "collapsed": true
   },
   "outputs": [],
   "source": [
    "t = time.time()\n",
    "sys.stderr.write('visualize scoremaps ...')\n",
    "\n",
    "stack = 'MD591'\n",
    "add_annotation = False\n",
    "\n",
    "exclude_nodes = [33]\n",
    "first_sec, last_sec = DataManager.load_cropbox(stack)[4:]\n",
    "\n",
    "run_distributed4(command='%(script_path)s %(stack)s -b %%(first_sec)d -e %%(last_sec)d %(add_annotation)s' % \\\n",
    "                {'script_path': os.path.join(os.environ['REPO_DIR'], 'learning') + '/visualize_scoremaps_v2.py',\n",
    "                'stack': stack,\n",
    "                'add_annotation': '-a' if add_annotation else ''},\n",
    "                kwargs_list=dict(sections=range(first_sec, last_sec+1)),\n",
    "                exclude_nodes=exclude_nodes,\n",
    "                argument_type='partition')\n",
    "\n",
    "sys.stderr.write('done in %f seconds\\n' % (time.time() - t)) # 464 seconds / stack"
   ]
  }
 ],
 "metadata": {
  "kernelspec": {
   "display_name": "Python 2",
   "language": "python",
   "name": "python2"
  },
  "language_info": {
   "codemirror_mode": {
    "name": "ipython",
    "version": 2
   },
   "file_extension": ".py",
   "mimetype": "text/x-python",
   "name": "python",
   "nbconvert_exporter": "python",
   "pygments_lexer": "ipython2",
   "version": "2.7.3"
  }
 },
 "nbformat": 4,
 "nbformat_minor": 1
}
