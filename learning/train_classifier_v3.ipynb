{
 "cells": [
  {
   "cell_type": "code",
   "execution_count": 1,
   "metadata": {
    "collapsed": true
   },
   "outputs": [],
   "source": [
    "%reload_ext autoreload\n",
    "%autoreload 2"
   ]
  },
  {
   "cell_type": "code",
   "execution_count": 2,
   "metadata": {
    "scrolled": true
   },
   "outputs": [
    {
     "name": "stderr",
     "output_type": "stream",
     "text": [
      "/usr/local/lib/python2.7/dist-packages/matplotlib/__init__.py:1401: UserWarning:  This call to matplotlib.use() has no effect\n",
      "because the backend has already been chosen;\n",
      "matplotlib.use() must be called *before* pylab, matplotlib.pyplot,\n",
      "or matplotlib.backends is imported for the first time.\n",
      "\n",
      "  warnings.warn(_use_error_msg)\n"
     ]
    },
    {
     "name": "stdout",
     "output_type": "stream",
     "text": [
      "Setting environment for AWS compute node\n"
     ]
    },
    {
     "name": "stderr",
     "output_type": "stream",
     "text": [
      "No vtk\n",
      "File does not exist: /shared/CSHL_data_processed/MD635/MD635_anchor.txt\n",
      "File does not exist: /shared/CSHL_data_processed/MD635/MD635_sorted_filenames.txt\n",
      "File does not exist: /shared/CSHL_data_processed/MD635/MD635_cropbox.txt\n",
      "File does not exist: /shared/CSHL_data_processed/MD635/MD635_cropbox.txt\n",
      "File does not exist: /shared/CSHL_data_processed/MD657/MD657_anchor.txt\n",
      "File does not exist: /shared/CSHL_data_processed/MD657/MD657_sorted_filenames.txt\n",
      "File does not exist: /shared/CSHL_data_processed/MD657/MD657_cropbox.txt\n",
      "File does not exist: /shared/CSHL_data_processed/MD657/MD657_cropbox.txt\n"
     ]
    }
   ],
   "source": [
    "import os\n",
    "import sys\n",
    "import time\n",
    "\n",
    "import matplotlib.pyplot as plt\n",
    "%matplotlib inline\n",
    "import numpy as np\n",
    "\n",
    "sys.path.append(os.path.join(os.environ['REPO_DIR'], 'utilities'))\n",
    "from utilities2015 import *\n",
    "from metadata import *\n",
    "from data_manager import *\n",
    "from learning_utilities import *"
   ]
  },
  {
   "cell_type": "code",
   "execution_count": 3,
   "metadata": {},
   "outputs": [
    {
     "name": "stderr",
     "output_type": "stream",
     "text": [
      "xgboost is not loaded."
     ]
    }
   ],
   "source": [
    "from sklearn.externals import joblib\n",
    "\n",
    "from sklearn.linear_model import LogisticRegression\n",
    "from sklearn.svm import LinearSVC, SVC\n",
    "from sklearn.calibration import CalibratedClassifierCV\n",
    "from sklearn.ensemble import GradientBoostingClassifier \n",
    "\n",
    "sys.path.append('/home/yuncong/csd395/xgboost/python-package')\n",
    "try:\n",
    "    from xgboost.sklearn import XGBClassifier\n",
    "except:\n",
    "    sys.stderr.write('xgboost is not loaded.')"
   ]
  },
  {
   "cell_type": "code",
   "execution_count": 4,
   "metadata": {},
   "outputs": [],
   "source": [
    "structures_to_sample = all_known_structures\n",
    "\n",
    "negative_labels_to_sample = [s + '_negative' for s in structures_to_sample]\n",
    "\n",
    "margins_to_sample = [500] # (200: 100 um, 500: 250 um)\n",
    "surround_labels_to_sample = [convert_to_surround_name(s, margin=m, suffix=surr_l) \n",
    "                             for m in margins_to_sample\n",
    "                             for s in structures_to_sample \n",
    "                             for surr_l in structures_to_sample + ['noclass'] \n",
    "                             if surr_l != s]\n",
    "\n",
    "labels_to_sample = structures_to_sample + negative_labels_to_sample + surround_labels_to_sample + ['noclass']"
   ]
  },
  {
   "cell_type": "markdown",
   "metadata": {},
   "source": [
    "# Train Classifiers"
   ]
  },
  {
   "cell_type": "code",
   "execution_count": 5,
   "metadata": {},
   "outputs": [
    {
     "data": {
      "text/html": [
       "<div>\n",
       "<table border=\"1\" class=\"dataframe\">\n",
       "  <thead>\n",
       "    <tr style=\"text-align: right;\">\n",
       "      <th></th>\n",
       "      <th>model</th>\n",
       "      <th>margin</th>\n",
       "      <th>train_set_id</th>\n",
       "      <th>neg_composition</th>\n",
       "      <th>sample_weighting</th>\n",
       "    </tr>\n",
       "    <tr>\n",
       "      <th>classifier_id</th>\n",
       "      <th></th>\n",
       "      <th></th>\n",
       "      <th></th>\n",
       "      <th></th>\n",
       "      <th></th>\n",
       "    </tr>\n",
       "  </thead>\n",
       "  <tbody>\n",
       "    <tr>\n",
       "      <th>99</th>\n",
       "      <td>gb2</td>\n",
       "      <td>500</td>\n",
       "      <td>98/99</td>\n",
       "      <td>neg_has_all_surround</td>\n",
       "      <td>unweighted</td>\n",
       "    </tr>\n",
       "  </tbody>\n",
       "</table>\n",
       "</div>"
      ],
      "text/plain": [
       "              model  margin train_set_id       neg_composition  \\\n",
       "classifier_id                                                    \n",
       "99              gb2     500        98/99  neg_has_all_surround   \n",
       "\n",
       "              sample_weighting  \n",
       "classifier_id                   \n",
       "99                  unweighted  "
      ]
     },
     "execution_count": 5,
     "metadata": {},
     "output_type": "execute_result"
    }
   ],
   "source": [
    "learning_setting_properties"
   ]
  },
  {
   "cell_type": "code",
   "execution_count": 6,
   "metadata": {},
   "outputs": [],
   "source": [
    "classifier_id = 99\n",
    "classifier_properties = learning_setting_properties.loc[classifier_id]\n",
    "\n",
    "margin = classifier_properties['margin']\n",
    "model = classifier_properties['model']\n",
    "sample_weighting = classifier_properties['sample_weighting']\n",
    "neg_composition = classifier_properties['neg_composition']"
   ]
  },
  {
   "cell_type": "code",
   "execution_count": 7,
   "metadata": {},
   "outputs": [],
   "source": [
    "# Load training dataset.\n",
    "\n",
    "train_set_id_x = classifier_properties['train_set_id']\n",
    "if isinstance(train_set_id_x, str) and '/' in train_set_id_x:\n",
    "    # Use multiple training sets\n",
    "    training_set_ids = map(int, train_set_id_x.split('/'))\n",
    "    training_features, training_addresses = load_datasets(training_set_ids, labels_to_sample=labels_to_sample)\n",
    "else:\n",
    "    # Use a single training set\n",
    "    training_features, training_addresses = load_datasets([train_set_id_x], labels_to_sample=labels_to_sample)\n",
    "    \n",
    "assert set(training_addresses.keys()) == set(training_features.keys()), \\\n",
    "    'Training features and training addresses are not consistent.'"
   ]
  },
  {
   "cell_type": "code",
   "execution_count": 8,
   "metadata": {
    "collapsed": true
   },
   "outputs": [],
   "source": [
    "labels_found = training_features.keys()\n",
    "structures_found = set([convert_to_original_name(l) for l in labels_found]) - {'noclass'}"
   ]
  },
  {
   "cell_type": "code",
   "execution_count": 9,
   "metadata": {
    "collapsed": true
   },
   "outputs": [],
   "source": [
    "# Visualize training patches\n",
    "\n",
    "# patches = extract_patches_given_locations_multiple_sections(training_addresses['12N'][:10], \n",
    "#                                                             location_or_grid_index='grid_index',\n",
    "#                                                             version='compressed')\n",
    "# display_images_in_grids(patches, nc=10)\n",
    "\n",
    "# patches = extract_patches_given_locations_multiple_sections(training_addresses['12N_surround'][:10], \n",
    "#                                                             location_or_grid_index='grid_index',\n",
    "#                                                             version='compressed')\n",
    "# display_images_in_grids(patches, nc=10)"
   ]
  },
  {
   "cell_type": "code",
   "execution_count": 10,
   "metadata": {
    "collapsed": true
   },
   "outputs": [],
   "source": [
    "setting_dir = os.path.join(os.path.join(CLF_ROOTDIR, 'setting_%d' % classifier_id))"
   ]
  },
  {
   "cell_type": "code",
   "execution_count": 13,
   "metadata": {
    "scrolled": true
   },
   "outputs": [
    {
     "name": "stdout",
     "output_type": "stream",
     "text": [
      "Tz\n",
      "      Iter       Train Loss   Remaining Time \n",
      "         1           0.9214            2.82s\n",
      "         2           0.7310            2.85s\n",
      "         3           0.5859            2.89s\n",
      "         4           0.4875            2.91s\n",
      "         5           0.4175            2.90s\n",
      "         6           0.3489            2.88s\n",
      "         7           0.2984            2.84s\n",
      "         8           0.2505            2.83s\n",
      "         9           0.2088            2.80s\n",
      "        10           0.1713            2.78s\n",
      "        20           0.0376            2.49s\n",
      "        30           0.0082            2.20s\n",
      "        40           0.0019            1.89s\n",
      "        50           0.0005            1.54s\n",
      "        60           0.0004            1.04s\n",
      "        70           0.0004            0.67s\n",
      "        80           0.0004            0.39s\n",
      "        90           0.0004            0.17s\n",
      "       100           0.0004            0.00s\n",
      "aws s3 cp /shared/CSHL_classifiers/setting_99/classifiers/Tz_clf_setting_99.dump s3://mousebrainatlas-data/CSHL_classifiers/setting_99/classifiers/Tz_clf_setting_99.dump\n"
     ]
    },
    {
     "name": "stderr",
     "output_type": "stream",
     "text": [
      "Fitting classifier: 1.59 seconds\n",
      "Child returned 0\n",
      "0.47 seconds.\n"
     ]
    },
    {
     "name": "stdout",
     "output_type": "stream",
     "text": [
      "Sp5O\n",
      "      Iter       Train Loss   Remaining Time \n",
      "         1           1.0177            2.84s\n",
      "         2           0.8420            2.82s\n",
      "         3           0.7364            2.76s\n",
      "         4           0.6295            2.79s\n",
      "         5           0.5556            2.74s\n",
      "         6           0.4760            2.73s\n",
      "         7           0.4128            2.73s\n",
      "         8           0.3614            2.73s\n",
      "         9           0.3139            2.84s\n",
      "        10           0.2788            2.79s\n",
      "        20           0.0922            2.41s\n",
      "        30           0.0309            2.11s\n",
      "        40           0.0103            1.80s\n",
      "        50           0.0034            1.49s\n",
      "        60           0.0011            1.19s\n",
      "        70           0.0005            0.87s\n",
      "        80           0.0005            0.51s\n",
      "        90           0.0005            0.23s\n",
      "       100           0.0005            0.00s\n",
      "aws s3 cp /shared/CSHL_classifiers/setting_99/classifiers/Sp5O_clf_setting_99.dump s3://mousebrainatlas-data/CSHL_classifiers/setting_99/classifiers/Sp5O_clf_setting_99.dump\n"
     ]
    },
    {
     "name": "stderr",
     "output_type": "stream",
     "text": [
      "Fitting classifier: 2.05 seconds\n",
      "Child returned 0\n",
      "0.42 seconds.\n"
     ]
    },
    {
     "name": "stdout",
     "output_type": "stream",
     "text": [
      "7n\n",
      "      Iter       Train Loss   Remaining Time \n",
      "         1           0.8660            2.48s\n",
      "         2           0.6657            2.83s\n",
      "         3           0.5393            2.85s\n",
      "         4           0.4367            2.90s\n",
      "         5           0.3645            2.81s\n",
      "         6           0.3028            2.80s\n",
      "         7           0.2489            2.83s\n",
      "         8           0.2081            2.83s\n",
      "         9           0.1744            2.80s\n",
      "        10           0.1486            2.77s\n",
      "        20           0.0259            2.52s\n",
      "        30           0.0052            2.23s\n",
      "        40           0.0011            1.90s\n",
      "        50           0.0004            1.48s\n",
      "        60           0.0003            1.00s\n",
      "        70           0.0003            0.64s\n",
      "        80           0.0003            0.38s\n",
      "        90           0.0003            0.17s\n",
      "       100           0.0003            0.00s\n",
      "aws s3 cp /shared/CSHL_classifiers/setting_99/classifiers/7n_clf_setting_99.dump s3://mousebrainatlas-data/CSHL_classifiers/setting_99/classifiers/7n_clf_setting_99.dump\n"
     ]
    },
    {
     "name": "stderr",
     "output_type": "stream",
     "text": [
      "Fitting classifier: 1.53 seconds\n",
      "Child returned 0\n",
      "0.42 seconds.\n"
     ]
    },
    {
     "name": "stdout",
     "output_type": "stream",
     "text": [
      "DC\n",
      "      Iter       Train Loss   Remaining Time \n",
      "         1           0.8595            4.11s\n",
      "         2           0.7138            4.23s\n",
      "         3           0.6177            4.18s\n",
      "         4           0.5191            4.15s\n",
      "         5           0.4595            3.96s\n",
      "         6           0.3905            3.98s\n",
      "         7           0.3368            3.96s\n",
      "         8           0.2872            3.97s\n",
      "         9           0.2536            3.96s\n",
      "        10           0.2208            3.89s\n",
      "        20           0.0553            3.49s\n",
      "        30           0.0166            3.03s\n",
      "        40           0.0051            2.58s\n",
      "        50           0.0014            2.16s\n",
      "        60           0.0005            1.69s\n",
      "        70           0.0004            1.09s\n",
      "        80           0.0004            0.64s\n",
      "        90           0.0004            0.28s\n",
      "       100           0.0004            0.00s\n",
      "aws s3 cp /shared/CSHL_classifiers/setting_99/classifiers/DC_clf_setting_99.dump s3://mousebrainatlas-data/CSHL_classifiers/setting_99/classifiers/DC_clf_setting_99.dump\n"
     ]
    },
    {
     "name": "stderr",
     "output_type": "stream",
     "text": [
      "Fitting classifier: 2.58 seconds\n",
      "Child returned 0\n",
      "0.42 seconds.\n"
     ]
    },
    {
     "name": "stdout",
     "output_type": "stream",
     "text": [
      "5N\n",
      "      Iter       Train Loss   Remaining Time \n",
      "         1           1.0637            2.09s\n",
      "         2           0.8789            2.19s\n",
      "         3           0.7462            2.12s\n",
      "         4           0.6306            2.10s\n",
      "         5           0.5506            2.06s\n",
      "         6           0.4660            2.03s\n",
      "         7           0.4048            1.99s\n",
      "         8           0.3532            1.96s\n",
      "         9           0.2966            1.96s\n",
      "        10           0.2599            1.93s\n",
      "        20           0.0579            1.69s\n",
      "        30           0.0141            1.48s\n",
      "        40           0.0036            1.26s\n",
      "        50           0.0010            1.05s\n",
      "        60           0.0004            0.78s\n",
      "        70           0.0004            0.50s\n",
      "        80           0.0004            0.29s\n",
      "        90           0.0004            0.13s\n",
      "       100           0.0004            0.00s\n",
      "aws s3 cp /shared/CSHL_classifiers/setting_99/classifiers/5N_clf_setting_99.dump s3://mousebrainatlas-data/CSHL_classifiers/setting_99/classifiers/5N_clf_setting_99.dump\n"
     ]
    },
    {
     "name": "stderr",
     "output_type": "stream",
     "text": [
      "Fitting classifier: 1.19 seconds\n",
      "Child returned 0\n",
      "0.42 seconds.\n"
     ]
    },
    {
     "name": "stdout",
     "output_type": "stream",
     "text": [
      "3N\n",
      "      Iter       Train Loss   Remaining Time \n",
      "         1           1.0229            2.81s\n",
      "         2           0.8617            2.87s\n",
      "         3           0.7249            2.88s\n",
      "         4           0.6155            2.87s\n",
      "         5           0.5126            2.92s\n",
      "         6           0.4442            2.95s\n",
      "         7           0.3900            2.90s\n",
      "         8           0.3361            2.88s\n",
      "         9           0.2921            2.84s\n",
      "        10           0.2612            2.79s\n",
      "        20           0.0794            2.37s\n",
      "        30           0.0251            2.07s\n",
      "        40           0.0072            1.77s\n",
      "        50           0.0022            1.48s\n",
      "        60           0.0007            1.18s\n",
      "        70           0.0005            0.79s\n",
      "        80           0.0005            0.46s\n",
      "        90           0.0005            0.21s\n",
      "       100           0.0005            0.00s\n",
      "aws s3 cp /shared/CSHL_classifiers/setting_99/classifiers/3N_clf_setting_99.dump s3://mousebrainatlas-data/CSHL_classifiers/setting_99/classifiers/3N_clf_setting_99.dump\n"
     ]
    },
    {
     "name": "stderr",
     "output_type": "stream",
     "text": [
      "Fitting classifier: 1.88 seconds\n",
      "Child returned 0\n",
      "0.42 seconds.\n"
     ]
    },
    {
     "name": "stdout",
     "output_type": "stream",
     "text": [
      "Pn\n",
      "      Iter       Train Loss   Remaining Time \n",
      "         1           0.9465            3.61s\n",
      "         2           0.7867            3.53s\n",
      "         3           0.6617            3.41s\n",
      "         4           0.5749            3.33s\n",
      "         5           0.4967            3.37s\n",
      "         6           0.4344            3.28s\n",
      "         7           0.3754            3.24s\n",
      "         8           0.3171            3.21s\n",
      "         9           0.2864            3.15s\n",
      "        10           0.2603            3.10s\n",
      "        20           0.0705            2.81s\n",
      "        30           0.0194            2.49s\n",
      "        40           0.0065            2.13s\n",
      "        50           0.0019            1.77s\n",
      "        60           0.0006            1.42s\n",
      "        70           0.0004            0.95s\n",
      "        80           0.0004            0.56s\n",
      "        90           0.0004            0.25s\n",
      "       100           0.0004            0.00s\n",
      "aws s3 cp /shared/CSHL_classifiers/setting_99/classifiers/Pn_clf_setting_99.dump s3://mousebrainatlas-data/CSHL_classifiers/setting_99/classifiers/Pn_clf_setting_99.dump\n"
     ]
    },
    {
     "name": "stderr",
     "output_type": "stream",
     "text": [
      "Fitting classifier: 2.25 seconds\n",
      "Child returned 0\n",
      "0.42 seconds.\n"
     ]
    },
    {
     "name": "stdout",
     "output_type": "stream",
     "text": [
      "10N\n",
      "      Iter       Train Loss   Remaining Time \n",
      "         1           0.8020            3.56s\n",
      "         2           0.6258            3.42s\n",
      "         3           0.4966            3.58s\n",
      "         4           0.4118            3.51s\n",
      "         5           0.3414            3.55s\n",
      "         6           0.2893            3.48s\n",
      "         7           0.2387            3.48s\n",
      "         8           0.2006            3.47s\n",
      "         9           0.1670            3.46s\n",
      "        10           0.1401            3.43s\n",
      "        20           0.0289            3.13s\n",
      "        30           0.0068            2.72s\n",
      "        40           0.0016            2.34s\n",
      "        50           0.0004            1.91s\n",
      "        60           0.0004            1.29s\n",
      "        70           0.0004            0.83s\n",
      "        80           0.0004            0.49s\n",
      "        90           0.0004            0.22s\n",
      "       100           0.0004            0.00s\n",
      "aws s3 cp /shared/CSHL_classifiers/setting_99/classifiers/10N_clf_setting_99.dump s3://mousebrainatlas-data/CSHL_classifiers/setting_99/classifiers/10N_clf_setting_99.dump\n"
     ]
    },
    {
     "name": "stderr",
     "output_type": "stream",
     "text": [
      "Fitting classifier: 1.98 seconds\n",
      "Child returned 0\n",
      "0.37 seconds.\n"
     ]
    },
    {
     "name": "stdout",
     "output_type": "stream",
     "text": [
      "LC\n",
      "      Iter       Train Loss   Remaining Time \n",
      "         1           1.0764            1.25s\n",
      "         2           0.8664            1.47s\n",
      "         3           0.7188            1.53s\n",
      "         4           0.5975            1.60s\n",
      "         5           0.5081            1.59s\n",
      "         6           0.4274            1.54s\n",
      "         7           0.3556            1.52s\n",
      "         8           0.3067            1.51s\n",
      "         9           0.2605            1.50s\n",
      "        10           0.2214            1.48s\n",
      "        20           0.0454            1.32s\n",
      "        30           0.0095            1.17s\n",
      "        40           0.0023            1.02s\n",
      "        50           0.0005            0.84s\n",
      "        60           0.0004            0.58s\n",
      "        70           0.0004            0.37s\n",
      "        80           0.0004            0.22s\n",
      "        90           0.0004            0.10s\n",
      "       100           0.0004            0.00s\n"
     ]
    },
    {
     "name": "stderr",
     "output_type": "stream",
     "text": [
      "Fitting classifier: 0.89 seconds\n"
     ]
    },
    {
     "name": "stdout",
     "output_type": "stream",
     "text": [
      "aws s3 cp /shared/CSHL_classifiers/setting_99/classifiers/LC_clf_setting_99.dump s3://mousebrainatlas-data/CSHL_classifiers/setting_99/classifiers/LC_clf_setting_99.dump\n"
     ]
    },
    {
     "name": "stderr",
     "output_type": "stream",
     "text": [
      "Child returned 0\n",
      "0.42 seconds.\n"
     ]
    },
    {
     "name": "stdout",
     "output_type": "stream",
     "text": [
      "7N\n",
      "      Iter       Train Loss   Remaining Time \n",
      "         1           1.1306            1.88s\n",
      "         2           0.9312            2.04s\n",
      "         3           0.7890            2.16s\n",
      "         4           0.6827            2.08s\n",
      "         5           0.5929            2.04s\n",
      "         6           0.5096            1.96s\n",
      "         7           0.4304            1.97s\n",
      "         8           0.3759            1.95s\n",
      "         9           0.3228            1.95s\n",
      "        10           0.2757            1.94s\n",
      "        20           0.0642            1.73s\n",
      "        30           0.0177            1.52s\n",
      "        40           0.0054            1.28s\n",
      "        50           0.0015            1.06s\n",
      "        60           0.0005            0.83s\n",
      "        70           0.0005            0.54s\n",
      "        80           0.0005            0.31s\n",
      "        90           0.0005            0.14s\n",
      "       100           0.0005            0.00s\n"
     ]
    },
    {
     "name": "stderr",
     "output_type": "stream",
     "text": [
      "Fitting classifier: 1.27 seconds\n"
     ]
    },
    {
     "name": "stdout",
     "output_type": "stream",
     "text": [
      "aws s3 cp /shared/CSHL_classifiers/setting_99/classifiers/7N_clf_setting_99.dump s3://mousebrainatlas-data/CSHL_classifiers/setting_99/classifiers/7N_clf_setting_99.dump\n"
     ]
    },
    {
     "name": "stderr",
     "output_type": "stream",
     "text": [
      "Child returned 0\n",
      "0.42 seconds.\n"
     ]
    },
    {
     "name": "stdout",
     "output_type": "stream",
     "text": [
      "Amb\n",
      "      Iter       Train Loss   Remaining Time \n",
      "         1           0.8827            2.89s\n",
      "         2           0.6815            3.05s\n",
      "         3           0.5473            3.05s\n",
      "         4           0.4528            3.00s\n",
      "         5           0.3648            3.02s\n",
      "         6           0.3035            3.01s\n",
      "         7           0.2543            2.98s\n",
      "         8           0.2061            2.98s\n",
      "         9           0.1784            2.93s\n",
      "        10           0.1506            2.91s\n",
      "        20           0.0235            2.65s\n",
      "        30           0.0045            2.30s\n",
      "        40           0.0008            1.97s\n",
      "        50           0.0004            1.44s\n",
      "        60           0.0004            0.96s\n",
      "        70           0.0004            0.62s\n",
      "        80           0.0004            0.36s\n",
      "        90           0.0004            0.16s\n",
      "       100           0.0004            0.00s\n",
      "aws s3 cp /shared/CSHL_classifiers/setting_99/classifiers/Amb_clf_setting_99.dump s3://mousebrainatlas-data/CSHL_classifiers/setting_99/classifiers/Amb_clf_setting_99.dump\n"
     ]
    },
    {
     "name": "stderr",
     "output_type": "stream",
     "text": [
      "Fitting classifier: 1.48 seconds\n",
      "Child returned 0\n",
      "0.41 seconds.\n"
     ]
    },
    {
     "name": "stdout",
     "output_type": "stream",
     "text": [
      "12N\n",
      "      Iter       Train Loss   Remaining Time \n",
      "         1           0.7912            3.41s\n",
      "         2           0.5950            3.62s\n",
      "         3           0.4817            3.70s\n",
      "         4           0.4005            3.67s\n",
      "         5           0.3396            3.66s\n",
      "         6           0.2773            3.68s\n",
      "         7           0.2296            3.65s\n",
      "         8           0.1898            3.62s\n",
      "         9           0.1692            3.51s\n",
      "        10           0.1412            3.49s\n",
      "        20           0.0311            3.08s\n",
      "        30           0.0080            2.68s\n",
      "        40           0.0020            2.30s\n",
      "        50           0.0005            1.89s\n",
      "        60           0.0003            1.35s\n",
      "        70           0.0003            0.87s\n",
      "        80           0.0003            0.51s\n",
      "        90           0.0003            0.23s\n",
      "       100           0.0003            0.00s\n",
      "aws s3 cp /shared/CSHL_classifiers/setting_99/classifiers/12N_clf_setting_99.dump s3://mousebrainatlas-data/CSHL_classifiers/setting_99/classifiers/12N_clf_setting_99.dump\n"
     ]
    },
    {
     "name": "stderr",
     "output_type": "stream",
     "text": [
      "Fitting classifier: 2.07 seconds\n",
      "Child returned 0\n",
      "0.42 seconds.\n"
     ]
    },
    {
     "name": "stdout",
     "output_type": "stream",
     "text": [
      "RMC\n",
      "      Iter       Train Loss   Remaining Time \n",
      "         1           1.1186            1.50s\n",
      "         2           0.9279            1.61s\n",
      "         3           0.7831            1.60s\n",
      "         4           0.6687            1.61s\n",
      "         5           0.5869            1.60s\n",
      "         6           0.5100            1.57s\n",
      "         7           0.4437            1.56s\n",
      "         8           0.3850            1.53s\n",
      "         9           0.3336            1.51s\n",
      "        10           0.2920            1.50s\n",
      "        20           0.0792            1.32s\n",
      "        30           0.0248            1.15s\n",
      "        40           0.0071            0.98s\n",
      "        50           0.0021            0.82s\n",
      "        60           0.0006            0.66s\n",
      "        70           0.0005            0.44s\n",
      "        80           0.0005            0.26s\n",
      "        90           0.0005            0.11s\n",
      "       100           0.0005            0.00s\n",
      "aws s3 cp /shared/CSHL_classifiers/setting_99/classifiers/RMC_clf_setting_99.dump s3://mousebrainatlas-data/CSHL_classifiers/setting_99/classifiers/RMC_clf_setting_99.dump\n"
     ]
    },
    {
     "name": "stderr",
     "output_type": "stream",
     "text": [
      "Fitting classifier: 1.04 seconds\n",
      "Child returned 0\n",
      "0.42 seconds.\n"
     ]
    },
    {
     "name": "stdout",
     "output_type": "stream",
     "text": [
      "VCA\n",
      "      Iter       Train Loss   Remaining Time \n",
      "         1           0.8786            3.99s\n",
      "         2           0.7074            4.19s\n",
      "         3           0.5889            4.11s\n",
      "         4           0.5003            4.13s\n",
      "         5           0.4281            4.10s\n",
      "         6           0.3617            4.11s\n",
      "         7           0.3108            4.05s\n",
      "         8           0.2708            4.01s\n",
      "         9           0.2361            3.94s\n",
      "        10           0.2003            3.91s\n",
      "        20           0.0496            3.47s\n",
      "        30           0.0154            3.00s\n",
      "        40           0.0044            2.57s\n",
      "        50           0.0012            2.14s\n",
      "        60           0.0004            1.64s\n",
      "        70           0.0004            1.06s\n",
      "        80           0.0004            0.62s\n",
      "        90           0.0004            0.27s\n",
      "       100           0.0004            0.00s\n",
      "aws s3 cp /shared/CSHL_classifiers/setting_99/classifiers/VCA_clf_setting_99.dump s3://mousebrainatlas-data/CSHL_classifiers/setting_99/classifiers/VCA_clf_setting_99.dump\n"
     ]
    },
    {
     "name": "stderr",
     "output_type": "stream",
     "text": [
      "Fitting classifier: 2.50 seconds\n",
      "Child returned 0\n",
      "0.43 seconds.\n"
     ]
    },
    {
     "name": "stdout",
     "output_type": "stream",
     "text": [
      "Sp5I\n",
      "      Iter       Train Loss   Remaining Time \n",
      "         1           0.9520            3.58s\n",
      "         2           0.7597            4.13s\n",
      "         3           0.6413            4.14s\n",
      "         4           0.5837            3.93s\n",
      "         5           0.5168            3.90s\n",
      "         6           0.4390            3.94s\n",
      "         7           0.3927            3.86s\n",
      "         8           0.3460            3.88s\n",
      "         9           0.3012            3.86s\n",
      "        10           0.2695            3.81s\n",
      "        20           0.0783            3.47s\n",
      "        30           0.0254            3.01s\n",
      "        40           0.0095            2.55s\n",
      "        50           0.0033            2.12s\n",
      "        60           0.0012            1.69s\n",
      "        70           0.0005            1.24s\n",
      "        80           0.0005            0.72s\n",
      "        90           0.0005            0.32s\n",
      "       100           0.0005            0.00s\n",
      "aws s3 cp /shared/CSHL_classifiers/setting_99/classifiers/Sp5I_clf_setting_99.dump s3://mousebrainatlas-data/CSHL_classifiers/setting_99/classifiers/Sp5I_clf_setting_99.dump\n"
     ]
    },
    {
     "name": "stderr",
     "output_type": "stream",
     "text": [
      "Fitting classifier: 2.92 seconds\n",
      "Child returned 0\n",
      "0.37 seconds.\n"
     ]
    },
    {
     "name": "stdout",
     "output_type": "stream",
     "text": [
      "Sp5C\n",
      "      Iter       Train Loss   Remaining Time \n",
      "         1           0.9766            2.83s\n",
      "         2           0.8061            3.16s\n",
      "         3           0.6765            3.20s\n",
      "         4           0.5708            3.21s\n",
      "         5           0.4941            3.22s\n",
      "         6           0.4230            3.20s\n",
      "         7           0.3640            3.18s\n",
      "         8           0.3201            3.17s\n",
      "         9           0.2768            3.14s\n",
      "        10           0.2436            3.13s\n",
      "        20           0.0734            2.75s\n",
      "        30           0.0239            2.40s\n",
      "        40           0.0085            2.04s\n",
      "        50           0.0028            1.69s\n",
      "        60           0.0009            1.35s\n",
      "        70           0.0005            0.96s\n",
      "        80           0.0004            0.57s\n",
      "        90           0.0004            0.25s\n",
      "       100           0.0004            0.00s\n",
      "aws s3 cp /shared/CSHL_classifiers/setting_99/classifiers/Sp5C_clf_setting_99.dump s3://mousebrainatlas-data/CSHL_classifiers/setting_99/classifiers/Sp5C_clf_setting_99.dump\n"
     ]
    },
    {
     "name": "stderr",
     "output_type": "stream",
     "text": [
      "Fitting classifier: 2.30 seconds\n",
      "Child returned 0\n",
      "0.37 seconds.\n"
     ]
    },
    {
     "name": "stdout",
     "output_type": "stream",
     "text": [
      "4N\n",
      "      Iter       Train Loss   Remaining Time \n",
      "         1           0.9650            2.51s\n",
      "         2           0.7588            2.82s\n",
      "         3           0.6311            2.77s\n",
      "         4           0.5145            2.76s\n",
      "         5           0.4293            2.76s\n",
      "         6           0.3591            2.78s\n",
      "         7           0.3048            2.75s\n",
      "         8           0.2588            2.71s\n",
      "         9           0.2272            2.63s\n",
      "        10           0.1939            2.59s\n",
      "        20           0.0391            2.33s\n",
      "        30           0.0098            2.01s\n",
      "        40           0.0022            1.74s\n",
      "        50           0.0005            1.43s\n",
      "        60           0.0004            0.98s\n",
      "        70           0.0004            0.63s\n",
      "        80           0.0004            0.37s\n",
      "        90           0.0004            0.16s\n",
      "       100           0.0004            0.00s\n",
      "aws s3 cp /shared/CSHL_classifiers/setting_99/classifiers/4N_clf_setting_99.dump s3://mousebrainatlas-data/CSHL_classifiers/setting_99/classifiers/4N_clf_setting_99.dump\n"
     ]
    },
    {
     "name": "stderr",
     "output_type": "stream",
     "text": [
      "Fitting classifier: 1.51 seconds\n",
      "Child returned 0\n",
      "0.37 seconds.\n"
     ]
    },
    {
     "name": "stdout",
     "output_type": "stream",
     "text": [
      "AP\n",
      "      Iter       Train Loss   Remaining Time \n",
      "         1           0.7286            2.36s\n",
      "         2           0.5527            3.01s\n",
      "         3           0.4292            3.24s\n",
      "         4           0.3500            3.32s\n",
      "         5           0.2840            3.40s\n",
      "         6           0.2377            3.38s\n",
      "         7           0.1904            3.37s\n",
      "         8           0.1579            3.31s\n",
      "         9           0.1251            3.33s\n",
      "        10           0.1019            3.32s\n",
      "        20           0.0137            3.00s\n",
      "        30           0.0024            2.60s\n",
      "        40           0.0004            2.19s\n",
      "        50           0.0003            1.52s\n",
      "        60           0.0003            1.01s\n",
      "        70           0.0003            0.65s\n",
      "        80           0.0003            0.38s\n",
      "        90           0.0003            0.17s\n",
      "       100           0.0003            0.00s\n",
      "aws s3 cp /shared/CSHL_classifiers/setting_99/classifiers/AP_clf_setting_99.dump s3://mousebrainatlas-data/CSHL_classifiers/setting_99/classifiers/AP_clf_setting_99.dump\n"
     ]
    },
    {
     "name": "stderr",
     "output_type": "stream",
     "text": [
      "Fitting classifier: 1.56 seconds\n",
      "Child returned 0\n",
      "0.42 seconds.\n"
     ]
    },
    {
     "name": "stdout",
     "output_type": "stream",
     "text": [
      "PBG\n",
      "      Iter       Train Loss   Remaining Time \n",
      "         1           0.8775            2.84s\n",
      "         2           0.6796            2.89s\n",
      "         3           0.5448            2.95s\n",
      "         4           0.4550            2.96s\n",
      "         5           0.3778            2.97s\n",
      "         6           0.3156            2.89s\n",
      "         7           0.2660            2.86s\n",
      "         8           0.2176            2.84s\n",
      "         9           0.1800            2.82s\n",
      "        10           0.1489            2.80s\n",
      "        20           0.0275            2.52s\n",
      "        30           0.0059            2.21s\n",
      "        40           0.0013            1.89s\n",
      "        50           0.0004            1.51s\n",
      "        60           0.0004            1.01s\n",
      "        70           0.0004            0.65s\n",
      "        80           0.0004            0.38s\n",
      "        90           0.0004            0.17s\n",
      "       100           0.0004            0.00s\n",
      "aws s3 cp /shared/CSHL_classifiers/setting_99/classifiers/PBG_clf_setting_99.dump s3://mousebrainatlas-data/CSHL_classifiers/setting_99/classifiers/PBG_clf_setting_99.dump\n"
     ]
    },
    {
     "name": "stderr",
     "output_type": "stream",
     "text": [
      "Fitting classifier: 1.54 seconds\n",
      "Child returned 0\n",
      "0.42 seconds.\n"
     ]
    },
    {
     "name": "stdout",
     "output_type": "stream",
     "text": [
      "LRt\n",
      "      Iter       Train Loss   Remaining Time \n",
      "         1           1.0048            2.83s\n",
      "         2           0.8405            2.93s\n",
      "         3           0.7029            3.00s\n",
      "         4           0.5871            3.03s\n",
      "         5           0.5022            3.03s\n",
      "         6           0.4313            3.01s\n",
      "         7           0.3690            2.97s\n",
      "         8           0.3236            2.94s\n",
      "         9           0.2772            2.92s\n",
      "        10           0.2391            2.90s\n",
      "        20           0.0628            2.59s\n",
      "        30           0.0171            2.27s\n",
      "        40           0.0047            1.95s\n",
      "        50           0.0014            1.62s\n",
      "        60           0.0005            1.26s\n",
      "        70           0.0005            0.82s\n",
      "        80           0.0005            0.48s\n",
      "        90           0.0005            0.21s\n",
      "       100           0.0005            0.00s\n",
      "aws s3 cp /shared/CSHL_classifiers/setting_99/classifiers/LRt_clf_setting_99.dump s3://mousebrainatlas-data/CSHL_classifiers/setting_99/classifiers/LRt_clf_setting_99.dump\n"
     ]
    },
    {
     "name": "stderr",
     "output_type": "stream",
     "text": [
      "Fitting classifier: 1.94 seconds\n",
      "Child returned 0\n",
      "0.42 seconds.\n"
     ]
    },
    {
     "name": "stdout",
     "output_type": "stream",
     "text": [
      "IC\n",
      "      Iter       Train Loss   Remaining Time \n",
      "         1           1.0709            2.92s\n",
      "         2           0.9236            2.86s\n",
      "         3           0.8005            2.81s\n",
      "         4           0.6955            2.83s\n",
      "         5           0.6001            2.82s\n",
      "         6           0.5211            2.82s\n",
      "         7           0.4587            2.80s\n",
      "         8           0.4002            2.78s\n",
      "         9           0.3475            2.77s\n",
      "        10           0.3061            2.72s\n",
      "        20           0.1001            2.35s\n",
      "        30           0.0353            2.03s\n",
      "        40           0.0125            1.75s\n",
      "        50           0.0043            1.45s\n",
      "        60           0.0014            1.17s\n",
      "        70           0.0006            0.87s\n",
      "        80           0.0005            0.52s\n",
      "        90           0.0005            0.23s\n",
      "       100           0.0005            0.00s\n",
      "aws s3 cp /shared/CSHL_classifiers/setting_99/classifiers/IC_clf_setting_99.dump s3://mousebrainatlas-data/CSHL_classifiers/setting_99/classifiers/IC_clf_setting_99.dump\n"
     ]
    },
    {
     "name": "stderr",
     "output_type": "stream",
     "text": [
      "Fitting classifier: 2.09 seconds\n",
      "Child returned 0\n",
      "0.37 seconds.\n"
     ]
    },
    {
     "name": "stdout",
     "output_type": "stream",
     "text": [
      "VLL\n",
      "      Iter       Train Loss   Remaining Time \n",
      "         1           0.9976            2.64s\n",
      "         2           0.8065            2.70s\n",
      "         3           0.6426            2.68s\n",
      "         4           0.5293            2.67s\n",
      "         5           0.4577            2.64s\n",
      "         6           0.3878            2.64s\n",
      "         7           0.3280            2.61s\n",
      "         8           0.2752            2.57s\n",
      "         9           0.2296            2.51s\n",
      "        10           0.1929            2.50s\n",
      "        20           0.0427            2.20s\n",
      "        30           0.0092            1.91s\n",
      "        40           0.0022            1.62s\n",
      "        50           0.0006            1.33s\n",
      "        60           0.0004            0.92s\n",
      "        70           0.0004            0.59s\n",
      "        80           0.0004            0.35s\n",
      "        90           0.0004            0.15s\n",
      "       100           0.0004            0.00s\n",
      "aws s3 cp /shared/CSHL_classifiers/setting_99/classifiers/VLL_clf_setting_99.dump s3://mousebrainatlas-data/CSHL_classifiers/setting_99/classifiers/VLL_clf_setting_99.dump\n"
     ]
    },
    {
     "name": "stderr",
     "output_type": "stream",
     "text": [
      "Fitting classifier: 1.41 seconds\n",
      "Child returned 0\n",
      "0.37 seconds.\n"
     ]
    },
    {
     "name": "stdout",
     "output_type": "stream",
     "text": [
      "VCP\n",
      "      Iter       Train Loss   Remaining Time \n",
      "         1           0.9044            3.79s\n",
      "         2           0.7633            3.83s\n",
      "         3           0.6250            4.02s\n",
      "         4           0.5360            3.94s\n",
      "         5           0.4543            3.97s\n",
      "         6           0.3978            3.89s\n",
      "         7           0.3440            3.85s\n",
      "         8           0.2986            3.80s\n",
      "         9           0.2640            3.81s\n",
      "        10           0.2304            3.77s\n",
      "        20           0.0731            3.29s\n",
      "        30           0.0233            2.89s\n",
      "        40           0.0077            2.48s\n",
      "        50           0.0029            2.04s\n",
      "        60           0.0009            1.63s\n",
      "        70           0.0004            1.16s\n",
      "        80           0.0004            0.68s\n",
      "        90           0.0004            0.30s\n",
      "       100           0.0004            0.00s\n",
      "aws s3 cp /shared/CSHL_classifiers/setting_99/classifiers/VCP_clf_setting_99.dump s3://mousebrainatlas-data/CSHL_classifiers/setting_99/classifiers/VCP_clf_setting_99.dump\n"
     ]
    },
    {
     "name": "stderr",
     "output_type": "stream",
     "text": [
      "Fitting classifier: 2.75 seconds\n",
      "Child returned 0\n",
      "0.37 seconds.\n"
     ]
    },
    {
     "name": "stdout",
     "output_type": "stream",
     "text": [
      "SNC\n",
      "      Iter       Train Loss   Remaining Time \n",
      "         1           1.0127            2.63s\n",
      "         2           0.8254            2.73s\n",
      "         3           0.7048            2.76s\n",
      "         4           0.5994            2.74s\n",
      "         5           0.5021            2.72s\n",
      "         6           0.4278            2.71s\n",
      "         7           0.3661            2.70s\n",
      "         8           0.3172            2.69s\n",
      "         9           0.2707            2.67s\n",
      "        10           0.2426            2.61s\n",
      "        20           0.0585            2.33s\n",
      "        30           0.0169            2.03s\n",
      "        40           0.0049            1.75s\n",
      "        50           0.0015            1.45s\n",
      "        60           0.0005            1.14s\n",
      "        70           0.0005            0.75s\n",
      "        80           0.0005            0.44s\n",
      "        90           0.0005            0.20s\n",
      "       100           0.0005            0.00s\n",
      "aws s3 cp /shared/CSHL_classifiers/setting_99/classifiers/SNC_clf_setting_99.dump s3://mousebrainatlas-data/CSHL_classifiers/setting_99/classifiers/SNC_clf_setting_99.dump\n"
     ]
    },
    {
     "name": "stderr",
     "output_type": "stream",
     "text": [
      "Fitting classifier: 1.78 seconds\n",
      "Child returned 0\n",
      "0.41 seconds.\n"
     ]
    },
    {
     "name": "stdout",
     "output_type": "stream",
     "text": [
      "6N\n",
      "      Iter       Train Loss   Remaining Time \n",
      "         1           0.9218            2.69s\n",
      "         2           0.7017            2.90s\n",
      "         3           0.5600            2.93s\n",
      "         4           0.4611            2.89s\n",
      "         5           0.3786            2.84s\n",
      "         6           0.3142            2.79s\n",
      "         7           0.2658            2.74s\n",
      "         8           0.2181            2.72s\n",
      "         9           0.1798            2.70s\n",
      "        10           0.1548            2.65s\n",
      "        20           0.0276            2.37s\n",
      "        30           0.0062            2.07s\n",
      "        40           0.0013            1.77s\n",
      "        50           0.0004            1.38s\n",
      "        60           0.0004            0.92s\n",
      "        70           0.0004            0.59s\n",
      "        80           0.0004            0.35s\n",
      "        90           0.0004            0.15s\n",
      "       100           0.0004            0.00s\n",
      "aws s3 cp /shared/CSHL_classifiers/setting_99/classifiers/6N_clf_setting_99.dump s3://mousebrainatlas-data/CSHL_classifiers/setting_99/classifiers/6N_clf_setting_99.dump\n"
     ]
    },
    {
     "name": "stderr",
     "output_type": "stream",
     "text": [
      "Fitting classifier: 1.42 seconds\n",
      "Child returned 0\n",
      "0.36 seconds.\n"
     ]
    },
    {
     "name": "stdout",
     "output_type": "stream",
     "text": [
      "SNR\n",
      "      Iter       Train Loss   Remaining Time \n",
      "         1           0.7999            4.19s\n",
      "         2           0.6607            4.47s\n",
      "         3           0.5509            4.38s\n",
      "         4           0.4609            4.41s\n",
      "         5           0.3838            4.49s\n",
      "         6           0.3430            4.33s\n",
      "         7           0.2939            4.33s\n",
      "         8           0.2586            4.23s\n",
      "         9           0.2263            4.22s\n",
      "        10           0.1966            4.22s\n",
      "        20           0.0620            3.72s\n",
      "        30           0.0192            3.28s\n",
      "        40           0.0073            2.74s\n",
      "        50           0.0024            2.30s\n",
      "        60           0.0008            1.84s\n",
      "        70           0.0004            1.30s\n",
      "        80           0.0004            0.76s\n",
      "        90           0.0004            0.34s\n",
      "       100           0.0004            0.00s\n",
      "aws s3 cp /shared/CSHL_classifiers/setting_99/classifiers/SNR_clf_setting_99.dump s3://mousebrainatlas-data/CSHL_classifiers/setting_99/classifiers/SNR_clf_setting_99.dump\n"
     ]
    },
    {
     "name": "stderr",
     "output_type": "stream",
     "text": [
      "Fitting classifier: 3.06 seconds\n",
      "Child returned 0\n",
      "1.17 seconds.\n"
     ]
    },
    {
     "name": "stdout",
     "output_type": "stream",
     "text": [
      "SC\n",
      "      Iter       Train Loss   Remaining Time \n",
      "         1           1.0485            3.17s\n",
      "         2           0.9059            3.09s\n",
      "         3           0.7961            2.96s\n",
      "         4           0.6944            2.94s\n",
      "         5           0.6202            2.85s\n",
      "         6           0.5470            2.82s\n",
      "         7           0.4869            2.77s\n",
      "         8           0.4305            2.75s\n",
      "         9           0.3761            2.73s\n",
      "        10           0.3429            2.67s\n",
      "        20           0.1131            2.40s\n",
      "        30           0.0384            2.08s\n",
      "        40           0.0153            1.77s\n",
      "        50           0.0056            1.47s\n",
      "        60           0.0021            1.18s\n",
      "        70           0.0008            0.88s\n",
      "        80           0.0005            0.54s\n",
      "        90           0.0005            0.24s\n",
      "       100           0.0005            0.00s\n",
      "aws s3 cp /shared/CSHL_classifiers/setting_99/classifiers/SC_clf_setting_99.dump s3://mousebrainatlas-data/CSHL_classifiers/setting_99/classifiers/SC_clf_setting_99.dump\n"
     ]
    },
    {
     "name": "stderr",
     "output_type": "stream",
     "text": [
      "Fitting classifier: 2.21 seconds\n",
      "Child returned 0\n",
      "0.47 seconds.\n"
     ]
    },
    {
     "name": "stdout",
     "output_type": "stream",
     "text": [
      "RtTg\n",
      "      Iter       Train Loss   Remaining Time \n",
      "         1           0.9291            4.30s\n",
      "         2           0.7865            4.37s\n",
      "         3           0.6782            4.42s\n",
      "         4           0.5876            4.41s\n",
      "         5           0.5185            4.35s\n",
      "         6           0.4502            4.36s\n",
      "         7           0.3908            4.27s\n",
      "         8           0.3507            4.17s\n",
      "         9           0.3237            4.04s\n",
      "        10           0.2905            3.97s\n",
      "        20           0.0935            3.43s\n",
      "        30           0.0306            3.01s\n",
      "        40           0.0115            2.57s\n",
      "        50           0.0042            2.14s\n",
      "        60           0.0016            1.71s\n",
      "        70           0.0006            1.27s\n",
      "        80           0.0005            0.77s\n",
      "        90           0.0005            0.34s\n",
      "       100           0.0005            0.00s\n",
      "aws s3 cp /shared/CSHL_classifiers/setting_99/classifiers/RtTg_clf_setting_99.dump s3://mousebrainatlas-data/CSHL_classifiers/setting_99/classifiers/RtTg_clf_setting_99.dump\n"
     ]
    },
    {
     "name": "stderr",
     "output_type": "stream",
     "text": [
      "Fitting classifier: 3.11 seconds\n",
      "Child returned 0\n",
      "0.41 seconds.\n"
     ]
    }
   ],
   "source": [
    "clf_dir = create_if_not_exists(os.path.join(setting_dir, 'classifiers'))\n",
    "\n",
    "for structure in structures_found:\n",
    "\n",
    "    print structure\n",
    "    \n",
    "    #############################\n",
    "    ## Define Positive Samples ##\n",
    "    #############################\n",
    "    \n",
    "    features_pos = training_features[structure]\n",
    "    n_pos = len(features_pos)\n",
    "    \n",
    "    #############################\n",
    "    ## Define Negative Samples ##\n",
    "    #############################\n",
    "    \n",
    "#     if setting in [1, 3, 4, 5, 6, 7]:\n",
    "    if neg_composition == 'neg_has_only_surround_noclass':\n",
    "        neg_classes = [convert_to_surround_name(structure, margin=margin, suffix='noclass')]\n",
    "#     elif setting in [2, 10, 23, 24, 25, 26]:\n",
    "    elif neg_composition == 'neg_has_all_surround':\n",
    "        neg_classes = [convert_to_surround_name(structure, margin=margin, suffix='noclass')]\n",
    "        for surr_s in structures_found:\n",
    "            c = convert_to_surround_name(structure, margin=margin, suffix=surr_s)\n",
    "            if c in labels_found:\n",
    "                neg_classes.append(c)\n",
    "#     elif setting in [8,9,11]:\n",
    "    elif neg_composition == 'neg_has_everything_else':\n",
    "        neg_classes = [structure + '_negative']\n",
    "    else:\n",
    "        raise Exception('Setting is not recognized.')\n",
    "\n",
    "    features_neg = np.concatenate([training_features[neg_class] for neg_class in neg_classes])\n",
    "        \n",
    "    n_neg = len(features_neg)\n",
    "        \n",
    "    ###########################\n",
    "    ## Define Sample Weights ##\n",
    "    ###########################\n",
    "    \n",
    "#     if setting == 9:\n",
    "    if sample_weighting == 'weighted':\n",
    "        neg_distances = np.concatenate([distances_to_structures[neg_class][structure] for neg_class in neg_classes])\n",
    "            \n",
    "        sample_weights_neg = np.ones((n_neg,))\n",
    "        sample_weights_neg[neg_distances > thresh] = diminishing(neg_distances[neg_distances > thresh])\n",
    "        sample_weights = np.r_[np.ones((n_pos,)), sample_weights_neg]\n",
    "    else:\n",
    "        sample_weights = None\n",
    "    \n",
    "    ###########################################################################################\n",
    "\n",
    "    train_data = np.r_[features_pos, features_neg]\n",
    "    train_labels = np.r_[np.ones((features_pos.shape[0], )), \n",
    "                         -np.ones((features_neg.shape[0], ))]\n",
    "    \n",
    "#     n_train = len(train_labels0)\n",
    "#     ri = np.random.choice(range(n_train), size=100, replace=False)\n",
    "#     train_data = train_data0[ri]\n",
    "#     train_labels = train_labels0[ri]\n",
    "    \n",
    "    ##################\n",
    "    ## Define Model ##\n",
    "    ##################\n",
    "    \n",
    "#     if setting in [1, 2, 8, 9, 10, 11, 23, 24]:\n",
    "    if model == 'lr':\n",
    "        clf = LogisticRegression(penalty='l2', dual=False, tol=0.0001, C=1.0, \n",
    "                                 fit_intercept=True, intercept_scaling=1, class_weight=None, \n",
    "                                 random_state=None, solver='liblinear', max_iter=100, multi_class='ovr', \n",
    "                                 verbose=0, warm_start=False, n_jobs=1)\n",
    "            \n",
    "#     elif setting == 3:\n",
    "    elif model == 'lin_svc':\n",
    "        clf = SVC(C=1.0, kernel='linear', degree=3, gamma='auto', coef0=0.0, shrinking=True, \n",
    "                  probability=True, tol=0.001, cache_size=1000, max_iter=-1,\n",
    "              decision_function_shape=None, random_state=None)\n",
    "        \n",
    "\n",
    "#     elif setting == 4:\n",
    "    elif model == 'lin_svc_calib':\n",
    "        \n",
    "        sv_uncalibrated = LinearSVC(penalty='l2', loss='squared_hinge', dual=True, tol=0.0001, \n",
    "                                C=1.0, multi_class='ovr', \n",
    "                                fit_intercept=True, intercept_scaling=1, max_iter=100)\n",
    "        clf = CalibratedClassifierCV(sv_uncalibrated)\n",
    "        \n",
    "        \n",
    "#     elif setting in [5]:        \n",
    "    elif model == 'xgb1':\n",
    "        clf = XGBClassifier(max_depth=3, learning_rate=0.2, n_estimators=200, \n",
    "                            silent=False, objective='binary:logistic', nthread=-1, gamma=0, \n",
    "                            min_child_weight=20, max_delta_step=0, subsample=.8, \n",
    "                            colsample_bytree=.8, colsample_bylevel=1, reg_alpha=0, reg_lambda=1, \n",
    "                            scale_pos_weight=1, base_score=0.5, seed=0, missing=None)\n",
    "        \n",
    "#     elif setting in [6, 25]:\n",
    "    elif model == 'gb1':\n",
    "        clf = GradientBoostingClassifier(loss='deviance', learning_rate=0.3, n_estimators=200, \n",
    "                                         subsample=1., criterion='friedman_mse', \n",
    "                                         min_samples_split=50, min_samples_leaf=20, \n",
    "                                         min_weight_fraction_leaf=0.0, max_depth=3, \n",
    "                                         min_impurity_split=1e-07, init=None, random_state=None, \n",
    "                                         max_features=None, verbose=1, max_leaf_nodes=None, \n",
    "                                         warm_start=False, presort='auto')\n",
    "        \n",
    "#     elif setting in [7, 26]:     \n",
    "    elif model == 'gb2':\n",
    "        clf = GradientBoostingClassifier(loss='deviance', learning_rate=0.3, n_estimators=100, \n",
    "                                         subsample=1., criterion='friedman_mse', \n",
    "                                         min_samples_split=50, min_samples_leaf=20, \n",
    "                                         min_weight_fraction_leaf=0.0, max_depth=5, \n",
    "                                         min_impurity_split=1e-07, init=None, random_state=None, \n",
    "                                         max_features=None, verbose=1, max_leaf_nodes=None, \n",
    "                                         warm_start=False, presort='auto')\n",
    "        \n",
    "    \n",
    "    else:\n",
    "        sys.stderr.write('Setting is not recognized.\\n')\n",
    "\n",
    "    \n",
    "    t = time.time()    \n",
    "    clf.fit(train_data, train_labels, sample_weight=sample_weights)\n",
    "    sys.stderr.write('Fitting classifier: %.2f seconds\\n' % (time.time() - t))\n",
    "\n",
    "    clf_fp = os.path.join(clf_dir, '%(structure)s_clf_setting_%(setting)d.dump' % \\\n",
    "                                  dict(structure=structure, setting=classifier_id))\n",
    "    \n",
    "    joblib.dump(clf, clf_fp)\n",
    "    \n",
    "    transfer_data_synced(relative_to_ec2(clf_fp), \n",
    "                    from_hostname='ec2',\n",
    "                    to_hostname='s3',\n",
    "                    is_dir=False)"
   ]
  },
  {
   "cell_type": "markdown",
   "metadata": {},
   "source": [
    "# Load pre-computed classifiers"
   ]
  },
  {
   "cell_type": "code",
   "execution_count": 15,
   "metadata": {
    "scrolled": true
   },
   "outputs": [
    {
     "name": "stdout",
     "output_type": "stream",
     "text": [
      "rm -rf /shared/CSHL_classifiers/setting_99/classifiers/sp5_clf_setting_99.dump && mkdir -p /shared/CSHL_classifiers/setting_99/classifiers\n",
      "aws s3 cp s3://mousebrainatlas-data/CSHL_classifiers/setting_99/classifiers/sp5_clf_setting_99.dump /shared/CSHL_classifiers/setting_99/classifiers/sp5_clf_setting_99.dump\n"
     ]
    },
    {
     "name": "stderr",
     "output_type": "stream",
     "text": [
      "Child returned 0\n",
      "Child returned 1\n",
      "0.34 seconds.\n",
      "Classifier for sp5 is not found.\n",
      "Child returned 0\n"
     ]
    },
    {
     "name": "stdout",
     "output_type": "stream",
     "text": [
      "rm -rf /shared/CSHL_classifiers/setting_99/classifiers/outerContour_clf_setting_99.dump && mkdir -p /shared/CSHL_classifiers/setting_99/classifiers\n",
      "aws s3 cp s3://mousebrainatlas-data/CSHL_classifiers/setting_99/classifiers/outerContour_clf_setting_99.dump /shared/CSHL_classifiers/setting_99/classifiers/outerContour_clf_setting_99.dump\n"
     ]
    },
    {
     "name": "stderr",
     "output_type": "stream",
     "text": [
      "Child returned 1\n",
      "0.35 seconds.\n",
      "Classifier for outerContour is not found.\n"
     ]
    }
   ],
   "source": [
    "clf_allClasses = {}\n",
    "for structure in structures_to_sample:\n",
    "    clf_fp = os.path.join(setting_dir, 'classifiers', '%(structure)s_clf_setting_%(setting)d.dump' % {'structure': structure, 'setting':classifier_id})\n",
    "    download_from_s3_if_not_exists(clf_fp)\n",
    "    if os.path.exists(clf_fp):\n",
    "        clf_allClasses[structure] = joblib.load(clf_fp)\n",
    "    else:\n",
    "        sys.stderr.write('Classifier for %s is not found.\\n' % structure)"
   ]
  },
  {
   "cell_type": "code",
   "execution_count": 22,
   "metadata": {},
   "outputs": [],
   "source": [
    "margin = 500\n",
    "neg_composition = 'neg_has_all_surround'"
   ]
  },
  {
   "cell_type": "code",
   "execution_count": 20,
   "metadata": {},
   "outputs": [
    {
     "data": {
      "image/png": "[encoded data removed]",
      "text/plain": [
       "<matplotlib.figure.Figure at 0x7f485a143690>"
      ]
     },
     "metadata": {},
     "output_type": "display_data"
    }
   ],
   "source": [
    "# Compute training accuracy\n",
    "\n",
    "acc_all_structures = {}\n",
    "\n",
    "ncols = 5\n",
    "nrows = int(np.ceil(len(structures_found)/float(ncols)))\n",
    "\n",
    "fig, axes = plt.subplots(nrows, ncols, figsize=(ncols*2, nrows*2), sharex=True, sharey=True)\n",
    "axes = axes.flatten()\n",
    "\n",
    "for i, structure in enumerate(structures_found):\n",
    "        \n",
    "    features_pos = training_features[structure]\n",
    "    n_pos = len(features_pos)\n",
    "    \n",
    "#     if setting in [1, 3, 4, 5, 6, 7]:\n",
    "#         neg_classes = [convert_to_surround_name(structure, margin=margin, suffix='noclass')]\n",
    "#     elif setting in [2, 10, 23, 24, 25, 26]:\n",
    "#         neg_classes = [convert_to_surround_name(structure, margin=margin, suffix='noclass')]            \n",
    "#         for surr_l in structures_found:\n",
    "#             c = convert_to_surround_name(structure, margin=margin, suffix=surr_l)\n",
    "#             if c in labels_found:\n",
    "#                 neg_classes.append(c)\n",
    "#     elif setting in [8,9,11]:\n",
    "#         neg_classes = [structure + '_negative']\n",
    "#     else:\n",
    "#         sys.stderr.write('Setting is not recognized.\\n')\n",
    "#         raise\n",
    "\n",
    "#     if setting in [1, 3, 4, 5, 6, 7]:\n",
    "    if neg_composition == 'neg_has_only_surround_noclass':\n",
    "        neg_classes = [convert_to_surround_name(structure, margin=margin, suffix='noclass')]\n",
    "#     elif setting in [2, 10, 23, 24, 25, 26]:\n",
    "    elif neg_composition == 'neg_has_all_surround':\n",
    "        neg_classes = [convert_to_surround_name(structure, margin=margin, suffix='noclass')]\n",
    "        for surr_s in structures_found:\n",
    "            c = convert_to_surround_name(structure, margin=margin, suffix=surr_s)\n",
    "            if c in labels_found:\n",
    "                neg_classes.append(c)\n",
    "#     elif setting in [8,9,11]:\n",
    "    elif neg_composition == 'neg_has_everything_else':\n",
    "        neg_classes = [structure + '_negative']\n",
    "    else:\n",
    "        raise Exception('Setting is not recognized.')\n",
    "        \n",
    "        \n",
    "    features_neg = np.concatenate([training_features[neg_class] for neg_class in neg_classes])\n",
    "#     neg_distances = np.concatenate([distances_to_structures[neg_class][label] for neg_class in neg_classes])\n",
    "        \n",
    "    n_neg = len(features_neg)\n",
    "    \n",
    "    train_data = np.r_[features_pos, features_neg]\n",
    "    train_labels = np.r_[np.ones((features_pos.shape[0], )), \n",
    "                         -np.ones((features_neg.shape[0], ))]\n",
    "    \n",
    "    clf = clf_allClasses[structure]\n",
    "    \n",
    "    probs = clf.predict_proba(train_data)[:, clf.classes_.tolist().index(1.)]\n",
    "    cm = compute_confusion_matrix(np.c_[probs, 1-probs], [0 if l==1. else 1 for l in train_labels], soft=True)\n",
    "    \n",
    "    acc_all_structures[structure] = (n_pos*cm[0,0] + n_neg*cm[1,1])/(n_pos + n_neg)\n",
    "    \n",
    "    plot_confusion_matrix(cm, title='%(structure)s'% {'structure':structure},\n",
    "                          labels=['',''],\n",
    "#                           labels=[label, convert_to_surround_name(label)],\n",
    "                         axis=axes[i])\n",
    "#     plt.show();\n",
    "\n",
    "plt.tight_layout()"
   ]
  },
  {
   "cell_type": "code",
   "execution_count": 21,
   "metadata": {},
   "outputs": [
    {
     "name": "stdout",
     "output_type": "stream",
     "text": [
      "training accuracy: 0.999783448578\n"
     ]
    }
   ],
   "source": [
    "print 'training accuracy:', np.mean(acc_all_structures.values())"
   ]
  },
  {
   "cell_type": "code",
   "execution_count": null,
   "metadata": {
    "collapsed": true
   },
   "outputs": [],
   "source": []
  },
  {
   "cell_type": "code",
   "execution_count": 34,
   "metadata": {
    "collapsed": true
   },
   "outputs": [],
   "source": [
    "def patch_boxes_overlay_on(bg, downscale_factor, locs, patch_size, colors=None, stack=None, sec=None):\n",
    "    \"\"\"\n",
    "    Assume bg has the specified downscale_factor.\n",
    "    \"\"\"\n",
    "\n",
    "    if bg == 'original':\n",
    "        bg = imread(DataManager.get_image_filepath(stack=stack, section=sec, version='compressed'))[::downscale_factor, ::downscale_factor]\n",
    "       \n",
    "    # viz = bg.copy()\n",
    "    viz = gray2rgb(bg).copy()\n",
    "    # need copy() because of this bug http://stackoverflow.com/a/31316516\n",
    "    \n",
    "    half_size = patch_size/2/downscale_factor\n",
    "    if isinstance(locs[0], list):\n",
    "        if colors is None:\n",
    "            colors = random_colors(len(locs))\n",
    "        for i, locs_oneColor in enumerate(locs):\n",
    "            for x, y in locs_oneColor:\n",
    "                x = x / downscale_factor\n",
    "                y = y / downscale_factor\n",
    "                cv2.rectangle(viz, (x-half_size, y-half_size), (x+half_size, y+half_size), colors[i], 2)\n",
    "    else:\n",
    "        if colors is None:\n",
    "            colors = (255,0,0)\n",
    "        for x, y in locs:\n",
    "            x = x / downscale_factor\n",
    "            y = y / downscale_factor\n",
    "            cv2.rectangle(viz, (x-half_size, y-half_size), (x+half_size, y+half_size), colors, 2)\n",
    "            \n",
    "    return viz"
   ]
  },
  {
   "cell_type": "code",
   "execution_count": 35,
   "metadata": {},
   "outputs": [
    {
     "data": {
      "text/html": [
       "<a href='tmp.jpg' target='_blank'>tmp.jpg</a><br>"
      ],
      "text/plain": [
       "/shared/MouseBrainAtlas/learning/tmp.jpg"
      ]
     },
     "execution_count": 35,
     "metadata": {},
     "output_type": "execute_result"
    }
   ],
   "source": [
    "# Visualize a patch in context\n",
    "\n",
    "patch_size, stride, _, _ = get_default_gridspec('MD589')\n",
    "grid_locations = grid_parameters_to_sample_locations(get_default_gridspec('MD589'))\n",
    "viz = patch_boxes_overlay_on('original', 8, \n",
    "                       [grid_locations[44453]],\n",
    "                      patch_size=patch_size,\n",
    "                      stack='MD589',\n",
    "                       sec=219)\n",
    "display_image(viz)"
   ]
  }
 ],
 "metadata": {
  "kernelspec": {
   "display_name": "Python 2",
   "language": "python",
   "name": "python2"
  },
  "language_info": {
   "codemirror_mode": {
    "name": "ipython",
    "version": 2
   },
   "file_extension": ".py",
   "mimetype": "text/x-python",
   "name": "python",
   "nbconvert_exporter": "python",
   "pygments_lexer": "ipython2",
   "version": "2.7.12"
  }
 },
 "nbformat": 4,
 "nbformat_minor": 1
}
