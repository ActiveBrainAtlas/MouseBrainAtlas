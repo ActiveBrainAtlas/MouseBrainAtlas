{
 "cells": [
  {
   "cell_type": "code",
   "execution_count": 1,
   "metadata": {
    "collapsed": true
   },
   "outputs": [],
   "source": [
    "%reload_ext autoreload\n",
    "%autoreload 2"
   ]
  },
  {
   "cell_type": "code",
   "execution_count": 2,
   "metadata": {
    "scrolled": true
   },
   "outputs": [
    {
     "name": "stderr",
     "output_type": "stream",
     "text": [
      "/usr/local/lib/python2.7/dist-packages/matplotlib/__init__.py:1401: UserWarning:  This call to matplotlib.use() has no effect\n",
      "because the backend has already been chosen;\n",
      "matplotlib.use() must be called *before* pylab, matplotlib.pyplot,\n",
      "or matplotlib.backends is imported for the first time.\n",
      "\n",
      "  warnings.warn(_use_error_msg)\n"
     ]
    },
    {
     "name": "stdout",
     "output_type": "stream",
     "text": [
      "Setting environment for AWS compute node\n"
     ]
    },
    {
     "name": "stderr",
     "output_type": "stream",
     "text": [
      "No vtk\n",
      "File does not exist: /shared/CSHL_data_processed/MD635/MD635_anchor.txt\n",
      "File does not exist: /shared/CSHL_data_processed/MD635/MD635_sorted_filenames.txt\n",
      "File does not exist: /shared/CSHL_data_processed/MD635/MD635_cropbox.txt\n",
      "File does not exist: /shared/CSHL_data_processed/MD635/MD635_cropbox.txt\n",
      "File does not exist: /shared/CSHL_data_processed/MD657/MD657_anchor.txt\n",
      "File does not exist: /shared/CSHL_data_processed/MD657/MD657_sorted_filenames.txt\n",
      "File does not exist: /shared/CSHL_data_processed/MD657/MD657_cropbox.txt\n",
      "File does not exist: /shared/CSHL_data_processed/MD657/MD657_cropbox.txt\n"
     ]
    }
   ],
   "source": [
    "import os\n",
    "import sys\n",
    "import time\n",
    "\n",
    "import matplotlib.pyplot as plt\n",
    "%matplotlib inline\n",
    "import numpy as np\n",
    "\n",
    "sys.path.append(os.path.join(os.environ['REPO_DIR'], 'utilities'))\n",
    "from utilities2015 import *\n",
    "from metadata import *\n",
    "from data_manager import *\n",
    "from learning_utilities import *"
   ]
  },
  {
   "cell_type": "code",
   "execution_count": 3,
   "metadata": {},
   "outputs": [
    {
     "name": "stderr",
     "output_type": "stream",
     "text": [
      "xgboost is not loaded."
     ]
    }
   ],
   "source": [
    "from sklearn.externals import joblib\n",
    "\n",
    "from sklearn.linear_model import LogisticRegression\n",
    "from sklearn.svm import LinearSVC, SVC\n",
    "from sklearn.calibration import CalibratedClassifierCV\n",
    "from sklearn.ensemble import GradientBoostingClassifier \n",
    "\n",
    "sys.path.append('/home/yuncong/csd395/xgboost/python-package')\n",
    "try:\n",
    "    from xgboost.sklearn import XGBClassifier\n",
    "except:\n",
    "    sys.stderr.write('xgboost is not loaded.')"
   ]
  },
  {
   "cell_type": "code",
   "execution_count": 4,
   "metadata": {
    "collapsed": true
   },
   "outputs": [],
   "source": [
    "# structures_to_sample = all_known_structures\n",
    "\n",
    "# negative_labels_to_sample = [s + '_negative' for s in structures_to_sample]\n",
    "\n",
    "# margins_to_sample = [500] # (200: 100 um, 500: 250 um)\n",
    "# surround_labels_to_sample = [convert_to_surround_name(s, margin=m, suffix=surr_l) \n",
    "#                              for m in margins_to_sample\n",
    "#                              for s in structures_to_sample \n",
    "#                              for surr_l in structures_to_sample + ['noclass'] \n",
    "#                              if surr_l != s]\n",
    "\n",
    "# labels_to_sample = structures_to_sample + negative_labels_to_sample + surround_labels_to_sample + ['noclass']"
   ]
  },
  {
   "cell_type": "markdown",
   "metadata": {},
   "source": [
    "# Train Classifiers"
   ]
  },
  {
   "cell_type": "code",
   "execution_count": 5,
   "metadata": {
    "scrolled": true
   },
   "outputs": [
    {
     "data": {
      "text/html": [
       "<div>\n",
       "<table border=\"1\" class=\"dataframe\">\n",
       "  <thead>\n",
       "    <tr style=\"text-align: right;\">\n",
       "      <th></th>\n",
       "      <th>model</th>\n",
       "      <th>margin</th>\n",
       "      <th>train_set_id</th>\n",
       "      <th>neg_composition</th>\n",
       "      <th>sample_weighting</th>\n",
       "    </tr>\n",
       "    <tr>\n",
       "      <th>classifier_id</th>\n",
       "      <th></th>\n",
       "      <th></th>\n",
       "      <th></th>\n",
       "      <th></th>\n",
       "      <th></th>\n",
       "    </tr>\n",
       "  </thead>\n",
       "  <tbody>\n",
       "    <tr>\n",
       "      <th>30</th>\n",
       "      <td>lr</td>\n",
       "      <td>500</td>\n",
       "      <td>20/21</td>\n",
       "      <td>neg_has_all_surround</td>\n",
       "      <td>NaN</td>\n",
       "    </tr>\n",
       "    <tr>\n",
       "      <th>31</th>\n",
       "      <td>lr</td>\n",
       "      <td>500</td>\n",
       "      <td>21/22</td>\n",
       "      <td>neg_has_all_surround</td>\n",
       "      <td>NaN</td>\n",
       "    </tr>\n",
       "    <tr>\n",
       "      <th>32</th>\n",
       "      <td>lr</td>\n",
       "      <td>500</td>\n",
       "      <td>20/22</td>\n",
       "      <td>neg_has_all_surround</td>\n",
       "      <td>NaN</td>\n",
       "    </tr>\n",
       "  </tbody>\n",
       "</table>\n",
       "</div>"
      ],
      "text/plain": [
       "              model  margin train_set_id       neg_composition  \\\n",
       "classifier_id                                                    \n",
       "30               lr     500        20/21  neg_has_all_surround   \n",
       "31               lr     500        21/22  neg_has_all_surround   \n",
       "32               lr     500        20/22  neg_has_all_surround   \n",
       "\n",
       "               sample_weighting  \n",
       "classifier_id                    \n",
       "30                          NaN  \n",
       "31                          NaN  \n",
       "32                          NaN  "
      ]
     },
     "execution_count": 5,
     "metadata": {},
     "output_type": "execute_result"
    }
   ],
   "source": [
    "classifier_settings"
   ]
  },
  {
   "cell_type": "code",
   "execution_count": 33,
   "metadata": {
    "collapsed": true
   },
   "outputs": [],
   "source": [
    "classifier_id = 32\n",
    "classifier_properties = classifier_settings.loc[classifier_id]\n",
    "\n",
    "margin = classifier_properties['margin']\n",
    "model = classifier_properties['model']\n",
    "sample_weighting = classifier_properties['sample_weighting']\n",
    "neg_composition = classifier_properties['neg_composition']"
   ]
  },
  {
   "cell_type": "code",
   "execution_count": 34,
   "metadata": {
    "collapsed": true
   },
   "outputs": [],
   "source": [
    "# Determine which labels to load.\n",
    "\n",
    "structures_to_sample = all_known_structures\n",
    "negative_labels_to_sample = [s + '_negative' for s in structures_to_sample]\n",
    "\n",
    "margins_to_sample = [margin] # (200: 100 um, 500: 250 um)\n",
    "surround_positive_labels_to_sample = [convert_to_surround_name(s, margin=m, suffix=surr_l) \n",
    "                             for m in margins_to_sample\n",
    "                             for s in structures_to_sample \n",
    "                             for surr_l in structures_to_sample\n",
    "                             if surr_l != s]\n",
    "surround_noclass_labels_to_sample = [convert_to_surround_name(s, margin=m, suffix='noclass') \n",
    "                             for m in margins_to_sample\n",
    "                             for s in structures_to_sample]\n",
    "\n",
    "if neg_composition == 'neg_has_everything_else':\n",
    "    labels_to_sample = structures_to_sample + negative_labels_to_sample\n",
    "elif neg_composition == 'neg_has_only_surround_noclass':\n",
    "    labels_to_sample = structures_to_sample + surround_noclass_labels_to_sample + ['noclass']\n",
    "elif neg_composition == 'neg_has_all_surround':\n",
    "    labels_to_sample = structures_to_sample + surround_positive_labels_to_sample + surround_noclass_labels_to_sample + ['noclass']"
   ]
  },
  {
   "cell_type": "code",
   "execution_count": 35,
   "metadata": {},
   "outputs": [
    {
     "name": "stdout",
     "output_type": "stream",
     "text": [
      "rm -rf /shared/CSHL_classifiers/datasets/dataset_20/patch_addresses.pkl && mkdir -p /shared/CSHL_classifiers/datasets/dataset_20\n",
      "aws s3 cp s3://mousebrainatlas-data/CSHL_classifiers/datasets/dataset_20/patch_addresses.pkl /shared/CSHL_classifiers/datasets/dataset_20/patch_addresses.pkl\n"
     ]
    },
    {
     "name": "stderr",
     "output_type": "stream",
     "text": [
      "Child returned 0\n",
      "Child returned 0\n",
      "0.74 seconds.\n"
     ]
    },
    {
     "name": "stdout",
     "output_type": "stream",
     "text": [
      "rm -rf /shared/CSHL_classifiers/datasets/dataset_20/patch_features.hdf && mkdir -p /shared/CSHL_classifiers/datasets/dataset_20\n",
      "aws s3 cp s3://mousebrainatlas-data/CSHL_classifiers/datasets/dataset_20/patch_features.hdf /shared/CSHL_classifiers/datasets/dataset_20/patch_features.hdf\n"
     ]
    },
    {
     "name": "stderr",
     "output_type": "stream",
     "text": [
      "Child returned 0\n",
      "Child returned 0\n",
      "1.57 seconds.\n"
     ]
    },
    {
     "name": "stdout",
     "output_type": "stream",
     "text": [
      "rm -rf /shared/CSHL_classifiers/datasets/dataset_22/patch_addresses.pkl && mkdir -p /shared/CSHL_classifiers/datasets/dataset_22\n",
      "aws s3 cp s3://mousebrainatlas-data/CSHL_classifiers/datasets/dataset_22/patch_addresses.pkl /shared/CSHL_classifiers/datasets/dataset_22/patch_addresses.pkl\n"
     ]
    },
    {
     "name": "stderr",
     "output_type": "stream",
     "text": [
      "Child returned 0\n",
      "Child returned 0\n",
      "0.64 seconds.\n"
     ]
    },
    {
     "name": "stdout",
     "output_type": "stream",
     "text": [
      "rm -rf /shared/CSHL_classifiers/datasets/dataset_22/patch_features.hdf && mkdir -p /shared/CSHL_classifiers/datasets/dataset_22\n",
      "aws s3 cp s3://mousebrainatlas-data/CSHL_classifiers/datasets/dataset_22/patch_features.hdf /shared/CSHL_classifiers/datasets/dataset_22/patch_features.hdf\n"
     ]
    },
    {
     "name": "stderr",
     "output_type": "stream",
     "text": [
      "Child returned 0\n",
      "Child returned 0\n",
      "1.54 seconds.\n"
     ]
    }
   ],
   "source": [
    "# Load training dataset.\n",
    "\n",
    "training_set_ids = map(int, str(classifier_properties['train_set_id']).split('/'))\n",
    "training_features, training_addresses = load_datasets(training_set_ids, labels_to_sample=labels_to_sample)\n",
    "    \n",
    "assert set(training_addresses.keys()) == set(training_features.keys()), \\\n",
    "    'Training features and training addresses are not consistent.'"
   ]
  },
  {
   "cell_type": "code",
   "execution_count": 36,
   "metadata": {
    "collapsed": true
   },
   "outputs": [],
   "source": [
    "labels_found = training_features.keys()\n",
    "structures_found = set([convert_to_original_name(l) for l in labels_found]) - {'noclass'}"
   ]
  },
  {
   "cell_type": "code",
   "execution_count": 37,
   "metadata": {
    "collapsed": true
   },
   "outputs": [],
   "source": [
    "setting_dir = os.path.join(os.path.join(CLF_ROOTDIR, 'setting_%d' % classifier_id))"
   ]
  },
  {
   "cell_type": "code",
   "execution_count": 38,
   "metadata": {
    "scrolled": true
   },
   "outputs": [
    {
     "name": "stdout",
     "output_type": "stream",
     "text": [
      "Tz\n"
     ]
    },
    {
     "name": "stderr",
     "output_type": "stream",
     "text": [
      "Fitting classifier: 1.40 seconds\n"
     ]
    },
    {
     "name": "stdout",
     "output_type": "stream",
     "text": [
      "aws s3 cp /shared/CSHL_classifiers/setting_32/classifiers/Tz_clf_setting_32.dump s3://mousebrainatlas-data/CSHL_classifiers/setting_32/classifiers/Tz_clf_setting_32.dump\n"
     ]
    },
    {
     "name": "stderr",
     "output_type": "stream",
     "text": [
      "Child returned 0\n",
      "0.39 seconds.\n"
     ]
    },
    {
     "name": "stdout",
     "output_type": "stream",
     "text": [
      "Sp5O\n"
     ]
    },
    {
     "name": "stderr",
     "output_type": "stream",
     "text": [
      "Fitting classifier: 2.14 seconds\n"
     ]
    },
    {
     "name": "stdout",
     "output_type": "stream",
     "text": [
      "aws s3 cp /shared/CSHL_classifiers/setting_32/classifiers/Sp5O_clf_setting_32.dump s3://mousebrainatlas-data/CSHL_classifiers/setting_32/classifiers/Sp5O_clf_setting_32.dump\n"
     ]
    },
    {
     "name": "stderr",
     "output_type": "stream",
     "text": [
      "Child returned 0\n",
      "0.44 seconds.\n"
     ]
    },
    {
     "name": "stdout",
     "output_type": "stream",
     "text": [
      "7n\n"
     ]
    },
    {
     "name": "stderr",
     "output_type": "stream",
     "text": [
      "Fitting classifier: 1.13 seconds\n"
     ]
    },
    {
     "name": "stdout",
     "output_type": "stream",
     "text": [
      "aws s3 cp /shared/CSHL_classifiers/setting_32/classifiers/7n_clf_setting_32.dump s3://mousebrainatlas-data/CSHL_classifiers/setting_32/classifiers/7n_clf_setting_32.dump\n"
     ]
    },
    {
     "name": "stderr",
     "output_type": "stream",
     "text": [
      "Child returned 0\n",
      "0.39 seconds.\n"
     ]
    },
    {
     "name": "stdout",
     "output_type": "stream",
     "text": [
      "DC\n"
     ]
    },
    {
     "name": "stderr",
     "output_type": "stream",
     "text": [
      "Fitting classifier: 3.30 seconds\n"
     ]
    },
    {
     "name": "stdout",
     "output_type": "stream",
     "text": [
      "aws s3 cp /shared/CSHL_classifiers/setting_32/classifiers/DC_clf_setting_32.dump s3://mousebrainatlas-data/CSHL_classifiers/setting_32/classifiers/DC_clf_setting_32.dump\n"
     ]
    },
    {
     "name": "stderr",
     "output_type": "stream",
     "text": [
      "Child returned 0\n",
      "0.50 seconds.\n"
     ]
    },
    {
     "name": "stdout",
     "output_type": "stream",
     "text": [
      "5N\n"
     ]
    },
    {
     "name": "stderr",
     "output_type": "stream",
     "text": [
      "Fitting classifier: 1.23 seconds\n"
     ]
    },
    {
     "name": "stdout",
     "output_type": "stream",
     "text": [
      "aws s3 cp /shared/CSHL_classifiers/setting_32/classifiers/5N_clf_setting_32.dump s3://mousebrainatlas-data/CSHL_classifiers/setting_32/classifiers/5N_clf_setting_32.dump\n"
     ]
    },
    {
     "name": "stderr",
     "output_type": "stream",
     "text": [
      "Child returned 0\n",
      "0.44 seconds.\n"
     ]
    },
    {
     "name": "stdout",
     "output_type": "stream",
     "text": [
      "RtTg\n"
     ]
    },
    {
     "name": "stderr",
     "output_type": "stream",
     "text": [
      "Fitting classifier: 2.56 seconds\n"
     ]
    },
    {
     "name": "stdout",
     "output_type": "stream",
     "text": [
      "aws s3 cp /shared/CSHL_classifiers/setting_32/classifiers/RtTg_clf_setting_32.dump s3://mousebrainatlas-data/CSHL_classifiers/setting_32/classifiers/RtTg_clf_setting_32.dump\n"
     ]
    },
    {
     "name": "stderr",
     "output_type": "stream",
     "text": [
      "Child returned 0\n",
      "0.39 seconds.\n"
     ]
    },
    {
     "name": "stdout",
     "output_type": "stream",
     "text": [
      "Pn\n"
     ]
    },
    {
     "name": "stderr",
     "output_type": "stream",
     "text": [
      "Fitting classifier: 2.61 seconds\n"
     ]
    },
    {
     "name": "stdout",
     "output_type": "stream",
     "text": [
      "aws s3 cp /shared/CSHL_classifiers/setting_32/classifiers/Pn_clf_setting_32.dump s3://mousebrainatlas-data/CSHL_classifiers/setting_32/classifiers/Pn_clf_setting_32.dump\n"
     ]
    },
    {
     "name": "stderr",
     "output_type": "stream",
     "text": [
      "Child returned 0\n",
      "0.44 seconds.\n"
     ]
    },
    {
     "name": "stdout",
     "output_type": "stream",
     "text": [
      "10N\n"
     ]
    },
    {
     "name": "stderr",
     "output_type": "stream",
     "text": [
      "Fitting classifier: 1.40 seconds\n"
     ]
    },
    {
     "name": "stdout",
     "output_type": "stream",
     "text": [
      "aws s3 cp /shared/CSHL_classifiers/setting_32/classifiers/10N_clf_setting_32.dump s3://mousebrainatlas-data/CSHL_classifiers/setting_32/classifiers/10N_clf_setting_32.dump\n"
     ]
    },
    {
     "name": "stderr",
     "output_type": "stream",
     "text": [
      "Child returned 0\n",
      "0.39 seconds.\n"
     ]
    },
    {
     "name": "stdout",
     "output_type": "stream",
     "text": [
      "LC\n"
     ]
    },
    {
     "name": "stderr",
     "output_type": "stream",
     "text": [
      "Fitting classifier: 1.03 seconds\n"
     ]
    },
    {
     "name": "stdout",
     "output_type": "stream",
     "text": [
      "aws s3 cp /shared/CSHL_classifiers/setting_32/classifiers/LC_clf_setting_32.dump s3://mousebrainatlas-data/CSHL_classifiers/setting_32/classifiers/LC_clf_setting_32.dump\n"
     ]
    },
    {
     "name": "stderr",
     "output_type": "stream",
     "text": [
      "Child returned 0\n",
      "0.39 seconds.\n"
     ]
    },
    {
     "name": "stdout",
     "output_type": "stream",
     "text": [
      "7N\n"
     ]
    },
    {
     "name": "stderr",
     "output_type": "stream",
     "text": [
      "Fitting classifier: 1.18 seconds\n"
     ]
    },
    {
     "name": "stdout",
     "output_type": "stream",
     "text": [
      "aws s3 cp /shared/CSHL_classifiers/setting_32/classifiers/7N_clf_setting_32.dump s3://mousebrainatlas-data/CSHL_classifiers/setting_32/classifiers/7N_clf_setting_32.dump\n"
     ]
    },
    {
     "name": "stderr",
     "output_type": "stream",
     "text": [
      "Child returned 0\n",
      "0.44 seconds.\n"
     ]
    },
    {
     "name": "stdout",
     "output_type": "stream",
     "text": [
      "Amb\n"
     ]
    },
    {
     "name": "stderr",
     "output_type": "stream",
     "text": [
      "Fitting classifier: 0.53 seconds\n"
     ]
    },
    {
     "name": "stdout",
     "output_type": "stream",
     "text": [
      "aws s3 cp /shared/CSHL_classifiers/setting_32/classifiers/Amb_clf_setting_32.dump s3://mousebrainatlas-data/CSHL_classifiers/setting_32/classifiers/Amb_clf_setting_32.dump\n"
     ]
    },
    {
     "name": "stderr",
     "output_type": "stream",
     "text": [
      "Child returned 0\n",
      "0.44 seconds.\n"
     ]
    },
    {
     "name": "stdout",
     "output_type": "stream",
     "text": [
      "12N\n"
     ]
    },
    {
     "name": "stderr",
     "output_type": "stream",
     "text": [
      "Fitting classifier: 1.87 seconds\n"
     ]
    },
    {
     "name": "stdout",
     "output_type": "stream",
     "text": [
      "aws s3 cp /shared/CSHL_classifiers/setting_32/classifiers/12N_clf_setting_32.dump s3://mousebrainatlas-data/CSHL_classifiers/setting_32/classifiers/12N_clf_setting_32.dump\n"
     ]
    },
    {
     "name": "stderr",
     "output_type": "stream",
     "text": [
      "Child returned 0\n",
      "0.45 seconds.\n"
     ]
    },
    {
     "name": "stdout",
     "output_type": "stream",
     "text": [
      "RMC\n"
     ]
    },
    {
     "name": "stderr",
     "output_type": "stream",
     "text": [
      "Fitting classifier: 1.12 seconds\n"
     ]
    },
    {
     "name": "stdout",
     "output_type": "stream",
     "text": [
      "aws s3 cp /shared/CSHL_classifiers/setting_32/classifiers/RMC_clf_setting_32.dump s3://mousebrainatlas-data/CSHL_classifiers/setting_32/classifiers/RMC_clf_setting_32.dump\n"
     ]
    },
    {
     "name": "stderr",
     "output_type": "stream",
     "text": [
      "Child returned 0\n",
      "0.39 seconds.\n"
     ]
    },
    {
     "name": "stdout",
     "output_type": "stream",
     "text": [
      "VCA\n"
     ]
    },
    {
     "name": "stderr",
     "output_type": "stream",
     "text": [
      "Fitting classifier: 3.21 seconds\n"
     ]
    },
    {
     "name": "stdout",
     "output_type": "stream",
     "text": [
      "aws s3 cp /shared/CSHL_classifiers/setting_32/classifiers/VCA_clf_setting_32.dump s3://mousebrainatlas-data/CSHL_classifiers/setting_32/classifiers/VCA_clf_setting_32.dump\n"
     ]
    },
    {
     "name": "stderr",
     "output_type": "stream",
     "text": [
      "Child returned 0\n",
      "0.40 seconds.\n"
     ]
    },
    {
     "name": "stdout",
     "output_type": "stream",
     "text": [
      "Sp5I\n"
     ]
    },
    {
     "name": "stderr",
     "output_type": "stream",
     "text": [
      "Fitting classifier: 4.07 seconds\n"
     ]
    },
    {
     "name": "stdout",
     "output_type": "stream",
     "text": [
      "aws s3 cp /shared/CSHL_classifiers/setting_32/classifiers/Sp5I_clf_setting_32.dump s3://mousebrainatlas-data/CSHL_classifiers/setting_32/classifiers/Sp5I_clf_setting_32.dump\n"
     ]
    },
    {
     "name": "stderr",
     "output_type": "stream",
     "text": [
      "Child returned 0\n",
      "0.44 seconds.\n"
     ]
    },
    {
     "name": "stdout",
     "output_type": "stream",
     "text": [
      "Sp5C\n"
     ]
    },
    {
     "name": "stderr",
     "output_type": "stream",
     "text": [
      "Fitting classifier: 2.51 seconds\n"
     ]
    },
    {
     "name": "stdout",
     "output_type": "stream",
     "text": [
      "aws s3 cp /shared/CSHL_classifiers/setting_32/classifiers/Sp5C_clf_setting_32.dump s3://mousebrainatlas-data/CSHL_classifiers/setting_32/classifiers/Sp5C_clf_setting_32.dump\n"
     ]
    },
    {
     "name": "stderr",
     "output_type": "stream",
     "text": [
      "Child returned 0\n",
      "0.44 seconds.\n"
     ]
    },
    {
     "name": "stdout",
     "output_type": "stream",
     "text": [
      "4N\n"
     ]
    },
    {
     "name": "stderr",
     "output_type": "stream",
     "text": [
      "Fitting classifier: 0.46 seconds\n"
     ]
    },
    {
     "name": "stdout",
     "output_type": "stream",
     "text": [
      "aws s3 cp /shared/CSHL_classifiers/setting_32/classifiers/4N_clf_setting_32.dump s3://mousebrainatlas-data/CSHL_classifiers/setting_32/classifiers/4N_clf_setting_32.dump\n"
     ]
    },
    {
     "name": "stderr",
     "output_type": "stream",
     "text": [
      "Child returned 0\n",
      "0.45 seconds.\n"
     ]
    },
    {
     "name": "stdout",
     "output_type": "stream",
     "text": [
      "AP\n"
     ]
    },
    {
     "name": "stderr",
     "output_type": "stream",
     "text": [
      "Fitting classifier: 0.98 seconds\n"
     ]
    },
    {
     "name": "stdout",
     "output_type": "stream",
     "text": [
      "aws s3 cp /shared/CSHL_classifiers/setting_32/classifiers/AP_clf_setting_32.dump s3://mousebrainatlas-data/CSHL_classifiers/setting_32/classifiers/AP_clf_setting_32.dump\n"
     ]
    },
    {
     "name": "stderr",
     "output_type": "stream",
     "text": [
      "Child returned 0\n",
      "0.39 seconds.\n"
     ]
    },
    {
     "name": "stdout",
     "output_type": "stream",
     "text": [
      "PBG\n"
     ]
    },
    {
     "name": "stderr",
     "output_type": "stream",
     "text": [
      "Fitting classifier: 1.16 seconds\n"
     ]
    },
    {
     "name": "stdout",
     "output_type": "stream",
     "text": [
      "aws s3 cp /shared/CSHL_classifiers/setting_32/classifiers/PBG_clf_setting_32.dump s3://mousebrainatlas-data/CSHL_classifiers/setting_32/classifiers/PBG_clf_setting_32.dump\n"
     ]
    },
    {
     "name": "stderr",
     "output_type": "stream",
     "text": [
      "Child returned 0\n",
      "0.39 seconds.\n"
     ]
    },
    {
     "name": "stdout",
     "output_type": "stream",
     "text": [
      "LRt\n"
     ]
    },
    {
     "name": "stderr",
     "output_type": "stream",
     "text": [
      "Fitting classifier: 1.32 seconds\n"
     ]
    },
    {
     "name": "stdout",
     "output_type": "stream",
     "text": [
      "aws s3 cp /shared/CSHL_classifiers/setting_32/classifiers/LRt_clf_setting_32.dump s3://mousebrainatlas-data/CSHL_classifiers/setting_32/classifiers/LRt_clf_setting_32.dump\n"
     ]
    },
    {
     "name": "stderr",
     "output_type": "stream",
     "text": [
      "Child returned 0\n",
      "0.39 seconds.\n"
     ]
    },
    {
     "name": "stdout",
     "output_type": "stream",
     "text": [
      "IC\n"
     ]
    },
    {
     "name": "stderr",
     "output_type": "stream",
     "text": [
      "Fitting classifier: 2.56 seconds\n"
     ]
    },
    {
     "name": "stdout",
     "output_type": "stream",
     "text": [
      "aws s3 cp /shared/CSHL_classifiers/setting_32/classifiers/IC_clf_setting_32.dump s3://mousebrainatlas-data/CSHL_classifiers/setting_32/classifiers/IC_clf_setting_32.dump\n"
     ]
    },
    {
     "name": "stderr",
     "output_type": "stream",
     "text": [
      "Child returned 0\n",
      "0.45 seconds.\n"
     ]
    },
    {
     "name": "stdout",
     "output_type": "stream",
     "text": [
      "VLL\n"
     ]
    },
    {
     "name": "stderr",
     "output_type": "stream",
     "text": [
      "Fitting classifier: 1.18 seconds\n"
     ]
    },
    {
     "name": "stdout",
     "output_type": "stream",
     "text": [
      "aws s3 cp /shared/CSHL_classifiers/setting_32/classifiers/VLL_clf_setting_32.dump s3://mousebrainatlas-data/CSHL_classifiers/setting_32/classifiers/VLL_clf_setting_32.dump\n"
     ]
    },
    {
     "name": "stderr",
     "output_type": "stream",
     "text": [
      "Child returned 0\n",
      "0.44 seconds.\n"
     ]
    },
    {
     "name": "stdout",
     "output_type": "stream",
     "text": [
      "VCP\n"
     ]
    },
    {
     "name": "stderr",
     "output_type": "stream",
     "text": [
      "Fitting classifier: 3.09 seconds\n"
     ]
    },
    {
     "name": "stdout",
     "output_type": "stream",
     "text": [
      "aws s3 cp /shared/CSHL_classifiers/setting_32/classifiers/VCP_clf_setting_32.dump s3://mousebrainatlas-data/CSHL_classifiers/setting_32/classifiers/VCP_clf_setting_32.dump\n"
     ]
    },
    {
     "name": "stderr",
     "output_type": "stream",
     "text": [
      "Child returned 0\n",
      "0.45 seconds.\n"
     ]
    },
    {
     "name": "stdout",
     "output_type": "stream",
     "text": [
      "SNC\n"
     ]
    },
    {
     "name": "stderr",
     "output_type": "stream",
     "text": [
      "Fitting classifier: 1.97 seconds\n"
     ]
    },
    {
     "name": "stdout",
     "output_type": "stream",
     "text": [
      "aws s3 cp /shared/CSHL_classifiers/setting_32/classifiers/SNC_clf_setting_32.dump s3://mousebrainatlas-data/CSHL_classifiers/setting_32/classifiers/SNC_clf_setting_32.dump\n"
     ]
    },
    {
     "name": "stderr",
     "output_type": "stream",
     "text": [
      "Child returned 0\n",
      "0.44 seconds.\n"
     ]
    },
    {
     "name": "stdout",
     "output_type": "stream",
     "text": [
      "6N\n"
     ]
    },
    {
     "name": "stderr",
     "output_type": "stream",
     "text": [
      "Fitting classifier: 0.61 seconds\n"
     ]
    },
    {
     "name": "stdout",
     "output_type": "stream",
     "text": [
      "aws s3 cp /shared/CSHL_classifiers/setting_32/classifiers/6N_clf_setting_32.dump s3://mousebrainatlas-data/CSHL_classifiers/setting_32/classifiers/6N_clf_setting_32.dump\n"
     ]
    },
    {
     "name": "stderr",
     "output_type": "stream",
     "text": [
      "Child returned 0\n",
      "0.39 seconds.\n"
     ]
    },
    {
     "name": "stdout",
     "output_type": "stream",
     "text": [
      "SNR\n"
     ]
    },
    {
     "name": "stderr",
     "output_type": "stream",
     "text": [
      "Fitting classifier: 2.08 seconds\n"
     ]
    },
    {
     "name": "stdout",
     "output_type": "stream",
     "text": [
      "aws s3 cp /shared/CSHL_classifiers/setting_32/classifiers/SNR_clf_setting_32.dump s3://mousebrainatlas-data/CSHL_classifiers/setting_32/classifiers/SNR_clf_setting_32.dump\n"
     ]
    },
    {
     "name": "stderr",
     "output_type": "stream",
     "text": [
      "Child returned 0\n",
      "0.39 seconds.\n"
     ]
    },
    {
     "name": "stdout",
     "output_type": "stream",
     "text": [
      "SC\n"
     ]
    },
    {
     "name": "stderr",
     "output_type": "stream",
     "text": [
      "Fitting classifier: 2.99 seconds\n"
     ]
    },
    {
     "name": "stdout",
     "output_type": "stream",
     "text": [
      "aws s3 cp /shared/CSHL_classifiers/setting_32/classifiers/SC_clf_setting_32.dump s3://mousebrainatlas-data/CSHL_classifiers/setting_32/classifiers/SC_clf_setting_32.dump\n"
     ]
    },
    {
     "name": "stderr",
     "output_type": "stream",
     "text": [
      "Child returned 0\n",
      "0.45 seconds.\n"
     ]
    },
    {
     "name": "stdout",
     "output_type": "stream",
     "text": [
      "3N\n"
     ]
    },
    {
     "name": "stderr",
     "output_type": "stream",
     "text": [
      "Fitting classifier: 1.22 seconds\n"
     ]
    },
    {
     "name": "stdout",
     "output_type": "stream",
     "text": [
      "aws s3 cp /shared/CSHL_classifiers/setting_32/classifiers/3N_clf_setting_32.dump s3://mousebrainatlas-data/CSHL_classifiers/setting_32/classifiers/3N_clf_setting_32.dump\n"
     ]
    },
    {
     "name": "stderr",
     "output_type": "stream",
     "text": [
      "Child returned 0\n",
      "0.39 seconds.\n"
     ]
    }
   ],
   "source": [
    "clf_dir = create_if_not_exists(os.path.join(setting_dir, 'classifiers'))\n",
    "\n",
    "for structure in structures_found:\n",
    "\n",
    "    print structure\n",
    "    \n",
    "    #############################\n",
    "    ## Define Positive Samples ##\n",
    "    #############################\n",
    "    \n",
    "    features_pos = training_features[structure]\n",
    "    n_pos = len(features_pos)\n",
    "    \n",
    "    #############################\n",
    "    ## Define Negative Samples ##\n",
    "    #############################\n",
    "    \n",
    "#     if setting in [1, 3, 4, 5, 6, 7]:\n",
    "    if neg_composition == 'neg_has_only_surround_noclass':\n",
    "        neg_classes = [convert_to_surround_name(structure, margin=margin, suffix='noclass')]\n",
    "#     elif setting in [2, 10, 23, 24, 25, 26]:\n",
    "    elif neg_composition == 'neg_has_all_surround':\n",
    "        neg_classes = [convert_to_surround_name(structure, margin=margin, suffix='noclass')]\n",
    "        for surr_s in structures_found:\n",
    "            c = convert_to_surround_name(structure, margin=margin, suffix=surr_s)\n",
    "            if c in labels_found:\n",
    "                neg_classes.append(c)\n",
    "#     elif setting in [8,9,11]:\n",
    "    elif neg_composition == 'neg_has_everything_else':\n",
    "        neg_classes = [structure + '_negative']\n",
    "    else:\n",
    "        raise Exception('neg_composition %s is not recognized.' % neg_composition)\n",
    "\n",
    "    features_neg = np.concatenate([training_features[neg_class] for neg_class in neg_classes])\n",
    "        \n",
    "    n_neg = len(features_neg)\n",
    "        \n",
    "    ###########################\n",
    "    ## Define Sample Weights ##\n",
    "    ###########################\n",
    "    \n",
    "#     if setting == 9:\n",
    "    if sample_weighting == 'weighted':\n",
    "        neg_distances = np.concatenate([distances_to_structures[neg_class][structure] for neg_class in neg_classes])\n",
    "            \n",
    "        sample_weights_neg = np.ones((n_neg,))\n",
    "        sample_weights_neg[neg_distances > thresh] = diminishing(neg_distances[neg_distances > thresh])\n",
    "        sample_weights = np.r_[np.ones((n_pos,)), sample_weights_neg]\n",
    "    else:\n",
    "        sample_weights = None\n",
    "    \n",
    "    ###########################################################################################\n",
    "\n",
    "    train_data = np.r_[features_pos, features_neg]\n",
    "    train_labels = np.r_[np.ones((features_pos.shape[0], )), \n",
    "                         -np.ones((features_neg.shape[0], ))]\n",
    "    \n",
    "#     n_train = len(train_labels0)\n",
    "#     ri = np.random.choice(range(n_train), size=100, replace=False)\n",
    "#     train_data = train_data0[ri]\n",
    "#     train_labels = train_labels0[ri]\n",
    "    \n",
    "    ##################\n",
    "    ## Define Model ##\n",
    "    ##################\n",
    "    \n",
    "#     if setting in [1, 2, 8, 9, 10, 11, 23, 24]:\n",
    "    if model == 'lr':\n",
    "        clf = LogisticRegression(penalty='l2', dual=False, tol=0.0001, C=1.0, \n",
    "                                 fit_intercept=True, intercept_scaling=1, class_weight=None, \n",
    "                                 random_state=None, solver='liblinear', max_iter=100, multi_class='ovr', \n",
    "                                 verbose=0, warm_start=False, n_jobs=1)\n",
    "            \n",
    "#     elif setting == 3:\n",
    "    elif model == 'lin_svc':\n",
    "        clf = SVC(C=1.0, kernel='linear', degree=3, gamma='auto', coef0=0.0, shrinking=True, \n",
    "                  probability=True, tol=0.001, cache_size=1000, max_iter=-1,\n",
    "              decision_function_shape=None, random_state=None)\n",
    "        \n",
    "\n",
    "#     elif setting == 4:\n",
    "    elif model == 'lin_svc_calib':\n",
    "        \n",
    "        sv_uncalibrated = LinearSVC(penalty='l2', loss='squared_hinge', dual=True, tol=0.0001, \n",
    "                                C=1.0, multi_class='ovr', \n",
    "                                fit_intercept=True, intercept_scaling=1, max_iter=100)\n",
    "        clf = CalibratedClassifierCV(sv_uncalibrated)\n",
    "        \n",
    "        \n",
    "#     elif setting in [5]:        \n",
    "    elif model == 'xgb1':\n",
    "        clf = XGBClassifier(max_depth=3, learning_rate=0.2, n_estimators=200, \n",
    "                            silent=False, objective='binary:logistic', nthread=-1, gamma=0, \n",
    "                            min_child_weight=20, max_delta_step=0, subsample=.8, \n",
    "                            colsample_bytree=.8, colsample_bylevel=1, reg_alpha=0, reg_lambda=1, \n",
    "                            scale_pos_weight=1, base_score=0.5, seed=0, missing=None)\n",
    "        \n",
    "#     elif setting in [6, 25]:\n",
    "    elif model == 'gb1':\n",
    "        clf = GradientBoostingClassifier(loss='deviance', learning_rate=0.3, n_estimators=200, \n",
    "                                         subsample=1., criterion='friedman_mse', \n",
    "                                         min_samples_split=50, min_samples_leaf=20, \n",
    "                                         min_weight_fraction_leaf=0.0, max_depth=3, \n",
    "                                         min_impurity_split=1e-07, init=None, random_state=None, \n",
    "                                         max_features=None, verbose=1, max_leaf_nodes=None, \n",
    "                                         warm_start=False, presort='auto')\n",
    "        \n",
    "#     elif setting in [7, 26]:     \n",
    "    elif model == 'gb2':\n",
    "        clf = GradientBoostingClassifier(loss='deviance', learning_rate=0.3, n_estimators=100, \n",
    "                                         subsample=1., criterion='friedman_mse', \n",
    "                                         min_samples_split=50, min_samples_leaf=20, \n",
    "                                         min_weight_fraction_leaf=0.0, max_depth=5, \n",
    "                                         min_impurity_split=1e-07, init=None, random_state=None, \n",
    "                                         max_features=None, verbose=1, max_leaf_nodes=None, \n",
    "                                         warm_start=False, presort='auto')\n",
    "        \n",
    "    \n",
    "    else:\n",
    "        sys.stderr.write('Setting is not recognized.\\n')\n",
    "\n",
    "    \n",
    "    t = time.time()    \n",
    "    clf.fit(train_data, train_labels, sample_weight=sample_weights)\n",
    "    sys.stderr.write('Fitting classifier: %.2f seconds\\n' % (time.time() - t))\n",
    "\n",
    "    clf_fp = os.path.join(clf_dir, '%(structure)s_clf_setting_%(setting)d.dump' % \\\n",
    "                                  dict(structure=structure, setting=classifier_id))\n",
    "    \n",
    "    joblib.dump(clf, clf_fp)\n",
    "    \n",
    "    upload_from_ec2_to_s3(clf_fp)"
   ]
  },
  {
   "cell_type": "markdown",
   "metadata": {},
   "source": [
    "# Load pre-computed classifiers, measure training accuracy"
   ]
  },
  {
   "cell_type": "code",
   "execution_count": 39,
   "metadata": {
    "collapsed": true
   },
   "outputs": [],
   "source": [
    "classifier_id = 32"
   ]
  },
  {
   "cell_type": "code",
   "execution_count": 40,
   "metadata": {
    "scrolled": true
   },
   "outputs": [
    {
     "name": "stdout",
     "output_type": "stream",
     "text": [
      "rm -rf /shared/CSHL_classifiers/setting_32/classifiers/5N_clf_setting_32.dump && mkdir -p /shared/CSHL_classifiers/setting_32/classifiers\n",
      "aws s3 cp s3://mousebrainatlas-data/CSHL_classifiers/setting_32/classifiers/5N_clf_setting_32.dump /shared/CSHL_classifiers/setting_32/classifiers/5N_clf_setting_32.dump\n"
     ]
    },
    {
     "name": "stderr",
     "output_type": "stream",
     "text": [
      "Child returned 0\n",
      "Child returned 0\n",
      "0.49 seconds.\n",
      "Child returned 0\n"
     ]
    },
    {
     "name": "stdout",
     "output_type": "stream",
     "text": [
      "rm -rf /shared/CSHL_classifiers/setting_32/classifiers/6N_clf_setting_32.dump && mkdir -p /shared/CSHL_classifiers/setting_32/classifiers\n",
      "aws s3 cp s3://mousebrainatlas-data/CSHL_classifiers/setting_32/classifiers/6N_clf_setting_32.dump /shared/CSHL_classifiers/setting_32/classifiers/6N_clf_setting_32.dump\n"
     ]
    },
    {
     "name": "stderr",
     "output_type": "stream",
     "text": [
      "Child returned 0\n",
      "0.47 seconds.\n",
      "Child returned 0\n"
     ]
    },
    {
     "name": "stdout",
     "output_type": "stream",
     "text": [
      "rm -rf /shared/CSHL_classifiers/setting_32/classifiers/7N_clf_setting_32.dump && mkdir -p /shared/CSHL_classifiers/setting_32/classifiers\n",
      "aws s3 cp s3://mousebrainatlas-data/CSHL_classifiers/setting_32/classifiers/7N_clf_setting_32.dump /shared/CSHL_classifiers/setting_32/classifiers/7N_clf_setting_32.dump\n"
     ]
    },
    {
     "name": "stderr",
     "output_type": "stream",
     "text": [
      "Child returned 0\n",
      "0.50 seconds.\n",
      "Child returned 0\n"
     ]
    },
    {
     "name": "stdout",
     "output_type": "stream",
     "text": [
      "rm -rf /shared/CSHL_classifiers/setting_32/classifiers/7n_clf_setting_32.dump && mkdir -p /shared/CSHL_classifiers/setting_32/classifiers\n",
      "aws s3 cp s3://mousebrainatlas-data/CSHL_classifiers/setting_32/classifiers/7n_clf_setting_32.dump /shared/CSHL_classifiers/setting_32/classifiers/7n_clf_setting_32.dump\n"
     ]
    },
    {
     "name": "stderr",
     "output_type": "stream",
     "text": [
      "Child returned 0\n",
      "0.44 seconds.\n",
      "Child returned 0\n"
     ]
    },
    {
     "name": "stdout",
     "output_type": "stream",
     "text": [
      "rm -rf /shared/CSHL_classifiers/setting_32/classifiers/Amb_clf_setting_32.dump && mkdir -p /shared/CSHL_classifiers/setting_32/classifiers\n",
      "aws s3 cp s3://mousebrainatlas-data/CSHL_classifiers/setting_32/classifiers/Amb_clf_setting_32.dump /shared/CSHL_classifiers/setting_32/classifiers/Amb_clf_setting_32.dump\n"
     ]
    },
    {
     "name": "stderr",
     "output_type": "stream",
     "text": [
      "Child returned 0\n",
      "1.12 seconds.\n",
      "Child returned 0\n"
     ]
    },
    {
     "name": "stdout",
     "output_type": "stream",
     "text": [
      "rm -rf /shared/CSHL_classifiers/setting_32/classifiers/LC_clf_setting_32.dump && mkdir -p /shared/CSHL_classifiers/setting_32/classifiers\n",
      "aws s3 cp s3://mousebrainatlas-data/CSHL_classifiers/setting_32/classifiers/LC_clf_setting_32.dump /shared/CSHL_classifiers/setting_32/classifiers/LC_clf_setting_32.dump\n"
     ]
    },
    {
     "name": "stderr",
     "output_type": "stream",
     "text": [
      "Child returned 0\n",
      "0.48 seconds.\n",
      "Child returned 0\n"
     ]
    },
    {
     "name": "stdout",
     "output_type": "stream",
     "text": [
      "rm -rf /shared/CSHL_classifiers/setting_32/classifiers/LRt_clf_setting_32.dump && mkdir -p /shared/CSHL_classifiers/setting_32/classifiers\n",
      "aws s3 cp s3://mousebrainatlas-data/CSHL_classifiers/setting_32/classifiers/LRt_clf_setting_32.dump /shared/CSHL_classifiers/setting_32/classifiers/LRt_clf_setting_32.dump\n"
     ]
    },
    {
     "name": "stderr",
     "output_type": "stream",
     "text": [
      "Child returned 0\n",
      "0.43 seconds.\n",
      "Child returned 0\n"
     ]
    },
    {
     "name": "stdout",
     "output_type": "stream",
     "text": [
      "rm -rf /shared/CSHL_classifiers/setting_32/classifiers/Pn_clf_setting_32.dump && mkdir -p /shared/CSHL_classifiers/setting_32/classifiers\n",
      "aws s3 cp s3://mousebrainatlas-data/CSHL_classifiers/setting_32/classifiers/Pn_clf_setting_32.dump /shared/CSHL_classifiers/setting_32/classifiers/Pn_clf_setting_32.dump\n"
     ]
    },
    {
     "name": "stderr",
     "output_type": "stream",
     "text": [
      "Child returned 0\n",
      "0.75 seconds.\n",
      "Child returned 0\n"
     ]
    },
    {
     "name": "stdout",
     "output_type": "stream",
     "text": [
      "rm -rf /shared/CSHL_classifiers/setting_32/classifiers/Tz_clf_setting_32.dump && mkdir -p /shared/CSHL_classifiers/setting_32/classifiers\n",
      "aws s3 cp s3://mousebrainatlas-data/CSHL_classifiers/setting_32/classifiers/Tz_clf_setting_32.dump /shared/CSHL_classifiers/setting_32/classifiers/Tz_clf_setting_32.dump\n"
     ]
    },
    {
     "name": "stderr",
     "output_type": "stream",
     "text": [
      "Child returned 0\n",
      "0.50 seconds.\n",
      "Child returned 0\n"
     ]
    },
    {
     "name": "stdout",
     "output_type": "stream",
     "text": [
      "rm -rf /shared/CSHL_classifiers/setting_32/classifiers/VLL_clf_setting_32.dump && mkdir -p /shared/CSHL_classifiers/setting_32/classifiers\n",
      "aws s3 cp s3://mousebrainatlas-data/CSHL_classifiers/setting_32/classifiers/VLL_clf_setting_32.dump /shared/CSHL_classifiers/setting_32/classifiers/VLL_clf_setting_32.dump\n"
     ]
    },
    {
     "name": "stderr",
     "output_type": "stream",
     "text": [
      "Child returned 0\n",
      "0.57 seconds.\n",
      "Child returned 0\n"
     ]
    },
    {
     "name": "stdout",
     "output_type": "stream",
     "text": [
      "rm -rf /shared/CSHL_classifiers/setting_32/classifiers/RMC_clf_setting_32.dump && mkdir -p /shared/CSHL_classifiers/setting_32/classifiers\n",
      "aws s3 cp s3://mousebrainatlas-data/CSHL_classifiers/setting_32/classifiers/RMC_clf_setting_32.dump /shared/CSHL_classifiers/setting_32/classifiers/RMC_clf_setting_32.dump\n"
     ]
    },
    {
     "name": "stderr",
     "output_type": "stream",
     "text": [
      "Child returned 0\n",
      "0.58 seconds.\n",
      "Child returned 0\n"
     ]
    },
    {
     "name": "stdout",
     "output_type": "stream",
     "text": [
      "rm -rf /shared/CSHL_classifiers/setting_32/classifiers/SNC_clf_setting_32.dump && mkdir -p /shared/CSHL_classifiers/setting_32/classifiers\n",
      "aws s3 cp s3://mousebrainatlas-data/CSHL_classifiers/setting_32/classifiers/SNC_clf_setting_32.dump /shared/CSHL_classifiers/setting_32/classifiers/SNC_clf_setting_32.dump\n"
     ]
    },
    {
     "name": "stderr",
     "output_type": "stream",
     "text": [
      "Child returned 0\n",
      "0.47 seconds.\n",
      "Child returned 0\n"
     ]
    },
    {
     "name": "stdout",
     "output_type": "stream",
     "text": [
      "rm -rf /shared/CSHL_classifiers/setting_32/classifiers/SNR_clf_setting_32.dump && mkdir -p /shared/CSHL_classifiers/setting_32/classifiers\n",
      "aws s3 cp s3://mousebrainatlas-data/CSHL_classifiers/setting_32/classifiers/SNR_clf_setting_32.dump /shared/CSHL_classifiers/setting_32/classifiers/SNR_clf_setting_32.dump\n"
     ]
    },
    {
     "name": "stderr",
     "output_type": "stream",
     "text": [
      "Child returned 0\n",
      "0.47 seconds.\n",
      "Child returned 0\n"
     ]
    },
    {
     "name": "stdout",
     "output_type": "stream",
     "text": [
      "rm -rf /shared/CSHL_classifiers/setting_32/classifiers/3N_clf_setting_32.dump && mkdir -p /shared/CSHL_classifiers/setting_32/classifiers\n",
      "aws s3 cp s3://mousebrainatlas-data/CSHL_classifiers/setting_32/classifiers/3N_clf_setting_32.dump /shared/CSHL_classifiers/setting_32/classifiers/3N_clf_setting_32.dump\n"
     ]
    },
    {
     "name": "stderr",
     "output_type": "stream",
     "text": [
      "Child returned 0\n",
      "0.43 seconds.\n",
      "Child returned 0\n"
     ]
    },
    {
     "name": "stdout",
     "output_type": "stream",
     "text": [
      "rm -rf /shared/CSHL_classifiers/setting_32/classifiers/4N_clf_setting_32.dump && mkdir -p /shared/CSHL_classifiers/setting_32/classifiers\n",
      "aws s3 cp s3://mousebrainatlas-data/CSHL_classifiers/setting_32/classifiers/4N_clf_setting_32.dump /shared/CSHL_classifiers/setting_32/classifiers/4N_clf_setting_32.dump\n"
     ]
    },
    {
     "name": "stderr",
     "output_type": "stream",
     "text": [
      "Child returned 0\n",
      "0.47 seconds.\n",
      "Child returned 0\n"
     ]
    },
    {
     "name": "stdout",
     "output_type": "stream",
     "text": [
      "rm -rf /shared/CSHL_classifiers/setting_32/classifiers/Sp5I_clf_setting_32.dump && mkdir -p /shared/CSHL_classifiers/setting_32/classifiers\n",
      "aws s3 cp s3://mousebrainatlas-data/CSHL_classifiers/setting_32/classifiers/Sp5I_clf_setting_32.dump /shared/CSHL_classifiers/setting_32/classifiers/Sp5I_clf_setting_32.dump\n"
     ]
    },
    {
     "name": "stderr",
     "output_type": "stream",
     "text": [
      "Child returned 0\n",
      "0.47 seconds.\n",
      "Child returned 0\n"
     ]
    },
    {
     "name": "stdout",
     "output_type": "stream",
     "text": [
      "rm -rf /shared/CSHL_classifiers/setting_32/classifiers/Sp5O_clf_setting_32.dump && mkdir -p /shared/CSHL_classifiers/setting_32/classifiers\n",
      "aws s3 cp s3://mousebrainatlas-data/CSHL_classifiers/setting_32/classifiers/Sp5O_clf_setting_32.dump /shared/CSHL_classifiers/setting_32/classifiers/Sp5O_clf_setting_32.dump\n"
     ]
    },
    {
     "name": "stderr",
     "output_type": "stream",
     "text": [
      "Child returned 0\n",
      "0.47 seconds.\n",
      "Child returned 0\n"
     ]
    },
    {
     "name": "stdout",
     "output_type": "stream",
     "text": [
      "rm -rf /shared/CSHL_classifiers/setting_32/classifiers/Sp5C_clf_setting_32.dump && mkdir -p /shared/CSHL_classifiers/setting_32/classifiers\n",
      "aws s3 cp s3://mousebrainatlas-data/CSHL_classifiers/setting_32/classifiers/Sp5C_clf_setting_32.dump /shared/CSHL_classifiers/setting_32/classifiers/Sp5C_clf_setting_32.dump\n"
     ]
    },
    {
     "name": "stderr",
     "output_type": "stream",
     "text": [
      "Child returned 0\n",
      "0.46 seconds.\n",
      "Child returned 0\n"
     ]
    },
    {
     "name": "stdout",
     "output_type": "stream",
     "text": [
      "rm -rf /shared/CSHL_classifiers/setting_32/classifiers/PBG_clf_setting_32.dump && mkdir -p /shared/CSHL_classifiers/setting_32/classifiers\n",
      "aws s3 cp s3://mousebrainatlas-data/CSHL_classifiers/setting_32/classifiers/PBG_clf_setting_32.dump /shared/CSHL_classifiers/setting_32/classifiers/PBG_clf_setting_32.dump\n"
     ]
    },
    {
     "name": "stderr",
     "output_type": "stream",
     "text": [
      "Child returned 0\n",
      "0.45 seconds.\n",
      "Child returned 0\n"
     ]
    },
    {
     "name": "stdout",
     "output_type": "stream",
     "text": [
      "rm -rf /shared/CSHL_classifiers/setting_32/classifiers/10N_clf_setting_32.dump && mkdir -p /shared/CSHL_classifiers/setting_32/classifiers\n",
      "aws s3 cp s3://mousebrainatlas-data/CSHL_classifiers/setting_32/classifiers/10N_clf_setting_32.dump /shared/CSHL_classifiers/setting_32/classifiers/10N_clf_setting_32.dump\n"
     ]
    },
    {
     "name": "stderr",
     "output_type": "stream",
     "text": [
      "Child returned 0\n",
      "0.48 seconds.\n",
      "Child returned 0\n"
     ]
    },
    {
     "name": "stdout",
     "output_type": "stream",
     "text": [
      "rm -rf /shared/CSHL_classifiers/setting_32/classifiers/VCA_clf_setting_32.dump && mkdir -p /shared/CSHL_classifiers/setting_32/classifiers\n",
      "aws s3 cp s3://mousebrainatlas-data/CSHL_classifiers/setting_32/classifiers/VCA_clf_setting_32.dump /shared/CSHL_classifiers/setting_32/classifiers/VCA_clf_setting_32.dump\n"
     ]
    },
    {
     "name": "stderr",
     "output_type": "stream",
     "text": [
      "Child returned 0\n",
      "0.47 seconds.\n",
      "Child returned 0\n"
     ]
    },
    {
     "name": "stdout",
     "output_type": "stream",
     "text": [
      "rm -rf /shared/CSHL_classifiers/setting_32/classifiers/VCP_clf_setting_32.dump && mkdir -p /shared/CSHL_classifiers/setting_32/classifiers\n",
      "aws s3 cp s3://mousebrainatlas-data/CSHL_classifiers/setting_32/classifiers/VCP_clf_setting_32.dump /shared/CSHL_classifiers/setting_32/classifiers/VCP_clf_setting_32.dump\n"
     ]
    },
    {
     "name": "stderr",
     "output_type": "stream",
     "text": [
      "Child returned 0\n",
      "0.45 seconds.\n",
      "Child returned 0\n"
     ]
    },
    {
     "name": "stdout",
     "output_type": "stream",
     "text": [
      "rm -rf /shared/CSHL_classifiers/setting_32/classifiers/DC_clf_setting_32.dump && mkdir -p /shared/CSHL_classifiers/setting_32/classifiers\n",
      "aws s3 cp s3://mousebrainatlas-data/CSHL_classifiers/setting_32/classifiers/DC_clf_setting_32.dump /shared/CSHL_classifiers/setting_32/classifiers/DC_clf_setting_32.dump\n"
     ]
    },
    {
     "name": "stderr",
     "output_type": "stream",
     "text": [
      "Child returned 0\n",
      "0.45 seconds.\n",
      "Child returned 0\n"
     ]
    },
    {
     "name": "stdout",
     "output_type": "stream",
     "text": [
      "rm -rf /shared/CSHL_classifiers/setting_32/classifiers/AP_clf_setting_32.dump && mkdir -p /shared/CSHL_classifiers/setting_32/classifiers\n",
      "aws s3 cp s3://mousebrainatlas-data/CSHL_classifiers/setting_32/classifiers/AP_clf_setting_32.dump /shared/CSHL_classifiers/setting_32/classifiers/AP_clf_setting_32.dump\n"
     ]
    },
    {
     "name": "stderr",
     "output_type": "stream",
     "text": [
      "Child returned 0\n",
      "0.48 seconds.\n",
      "Child returned 0\n"
     ]
    },
    {
     "name": "stdout",
     "output_type": "stream",
     "text": [
      "rm -rf /shared/CSHL_classifiers/setting_32/classifiers/12N_clf_setting_32.dump && mkdir -p /shared/CSHL_classifiers/setting_32/classifiers\n",
      "aws s3 cp s3://mousebrainatlas-data/CSHL_classifiers/setting_32/classifiers/12N_clf_setting_32.dump /shared/CSHL_classifiers/setting_32/classifiers/12N_clf_setting_32.dump\n"
     ]
    },
    {
     "name": "stderr",
     "output_type": "stream",
     "text": [
      "Child returned 0\n",
      "0.47 seconds.\n",
      "Child returned 0\n"
     ]
    },
    {
     "name": "stdout",
     "output_type": "stream",
     "text": [
      "rm -rf /shared/CSHL_classifiers/setting_32/classifiers/RtTg_clf_setting_32.dump && mkdir -p /shared/CSHL_classifiers/setting_32/classifiers\n",
      "aws s3 cp s3://mousebrainatlas-data/CSHL_classifiers/setting_32/classifiers/RtTg_clf_setting_32.dump /shared/CSHL_classifiers/setting_32/classifiers/RtTg_clf_setting_32.dump\n"
     ]
    },
    {
     "name": "stderr",
     "output_type": "stream",
     "text": [
      "Child returned 0\n",
      "0.46 seconds.\n",
      "Child returned 0\n"
     ]
    },
    {
     "name": "stdout",
     "output_type": "stream",
     "text": [
      "rm -rf /shared/CSHL_classifiers/setting_32/classifiers/sp5_clf_setting_32.dump && mkdir -p /shared/CSHL_classifiers/setting_32/classifiers\n",
      "aws s3 cp s3://mousebrainatlas-data/CSHL_classifiers/setting_32/classifiers/sp5_clf_setting_32.dump /shared/CSHL_classifiers/setting_32/classifiers/sp5_clf_setting_32.dump\n"
     ]
    },
    {
     "name": "stderr",
     "output_type": "stream",
     "text": [
      "Child returned 1\n",
      "0.41 seconds.\n",
      "Classifier for sp5 is not found.\n",
      "Child returned 0\n"
     ]
    },
    {
     "name": "stdout",
     "output_type": "stream",
     "text": [
      "rm -rf /shared/CSHL_classifiers/setting_32/classifiers/outerContour_clf_setting_32.dump && mkdir -p /shared/CSHL_classifiers/setting_32/classifiers\n",
      "aws s3 cp s3://mousebrainatlas-data/CSHL_classifiers/setting_32/classifiers/outerContour_clf_setting_32.dump /shared/CSHL_classifiers/setting_32/classifiers/outerContour_clf_setting_32.dump\n"
     ]
    },
    {
     "name": "stderr",
     "output_type": "stream",
     "text": [
      "Child returned 1\n",
      "0.40 seconds.\n",
      "Classifier for outerContour is not found.\n",
      "Child returned 0\n"
     ]
    },
    {
     "name": "stdout",
     "output_type": "stream",
     "text": [
      "rm -rf /shared/CSHL_classifiers/setting_32/classifiers/SC_clf_setting_32.dump && mkdir -p /shared/CSHL_classifiers/setting_32/classifiers\n",
      "aws s3 cp s3://mousebrainatlas-data/CSHL_classifiers/setting_32/classifiers/SC_clf_setting_32.dump /shared/CSHL_classifiers/setting_32/classifiers/SC_clf_setting_32.dump\n"
     ]
    },
    {
     "name": "stderr",
     "output_type": "stream",
     "text": [
      "Child returned 0\n",
      "0.44 seconds.\n",
      "Child returned 0\n"
     ]
    },
    {
     "name": "stdout",
     "output_type": "stream",
     "text": [
      "rm -rf /shared/CSHL_classifiers/setting_32/classifiers/IC_clf_setting_32.dump && mkdir -p /shared/CSHL_classifiers/setting_32/classifiers\n",
      "aws s3 cp s3://mousebrainatlas-data/CSHL_classifiers/setting_32/classifiers/IC_clf_setting_32.dump /shared/CSHL_classifiers/setting_32/classifiers/IC_clf_setting_32.dump\n"
     ]
    },
    {
     "name": "stderr",
     "output_type": "stream",
     "text": [
      "Child returned 0\n",
      "0.94 seconds.\n"
     ]
    }
   ],
   "source": [
    "clf_allClasses = {}\n",
    "for structure in structures_to_sample:\n",
    "    clf_fp = os.path.join(setting_dir, 'classifiers', '%(structure)s_clf_setting_%(setting)d.dump' % {'structure': structure, 'setting':classifier_id})\n",
    "    download_from_s3_to_ec2(clf_fp)\n",
    "    if os.path.exists(clf_fp):\n",
    "        clf_allClasses[structure] = joblib.load(clf_fp)\n",
    "    else:\n",
    "        sys.stderr.write('Classifier for %s is not found.\\n' % structure)"
   ]
  },
  {
   "cell_type": "code",
   "execution_count": 41,
   "metadata": {
    "collapsed": true
   },
   "outputs": [],
   "source": [
    "margin = 500\n",
    "neg_composition = 'neg_has_all_surround'"
   ]
  },
  {
   "cell_type": "code",
   "execution_count": 42,
   "metadata": {},
   "outputs": [
    {
     "data": {
      "image/png": "[encoded data removed]",
      "text/plain": [
       "<matplotlib.figure.Figure at 0x7f36afd57910>"
      ]
     },
     "metadata": {},
     "output_type": "display_data"
    }
   ],
   "source": [
    "# Compute training accuracy\n",
    "\n",
    "acc_all_structures = {}\n",
    "\n",
    "ncols = 5\n",
    "nrows = int(np.ceil(len(structures_found)/float(ncols)))\n",
    "\n",
    "fig, axes = plt.subplots(nrows, ncols, figsize=(ncols*2, nrows*2), sharex=True, sharey=True)\n",
    "axes = axes.flatten()\n",
    "\n",
    "for i, structure in enumerate(structures_found):\n",
    "        \n",
    "    features_pos = training_features[structure]\n",
    "    n_pos = len(features_pos)\n",
    "    \n",
    "#     if setting in [1, 3, 4, 5, 6, 7]:\n",
    "#         neg_classes = [convert_to_surround_name(structure, margin=margin, suffix='noclass')]\n",
    "#     elif setting in [2, 10, 23, 24, 25, 26]:\n",
    "#         neg_classes = [convert_to_surround_name(structure, margin=margin, suffix='noclass')]            \n",
    "#         for surr_l in structures_found:\n",
    "#             c = convert_to_surround_name(structure, margin=margin, suffix=surr_l)\n",
    "#             if c in labels_found:\n",
    "#                 neg_classes.append(c)\n",
    "#     elif setting in [8,9,11]:\n",
    "#         neg_classes = [structure + '_negative']\n",
    "#     else:\n",
    "#         sys.stderr.write('Setting is not recognized.\\n')\n",
    "#         raise\n",
    "\n",
    "#     if setting in [1, 3, 4, 5, 6, 7]:\n",
    "    if neg_composition == 'neg_has_only_surround_noclass':\n",
    "        neg_classes = [convert_to_surround_name(structure, margin=margin, suffix='noclass')]\n",
    "#     elif setting in [2, 10, 23, 24, 25, 26]:\n",
    "    elif neg_composition == 'neg_has_all_surround':\n",
    "        neg_classes = [convert_to_surround_name(structure, margin=margin, suffix='noclass')]\n",
    "        for surr_s in structures_found:\n",
    "            c = convert_to_surround_name(structure, margin=margin, suffix=surr_s)\n",
    "            if c in labels_found:\n",
    "                neg_classes.append(c)\n",
    "#     elif setting in [8,9,11]:\n",
    "    elif neg_composition == 'neg_has_everything_else':\n",
    "        neg_classes = [structure + '_negative']\n",
    "    else:\n",
    "        raise Exception('Setting is not recognized.')\n",
    "        \n",
    "        \n",
    "    features_neg = np.concatenate([training_features[neg_class] for neg_class in neg_classes])\n",
    "#     neg_distances = np.concatenate([distances_to_structures[neg_class][label] for neg_class in neg_classes])\n",
    "        \n",
    "    n_neg = len(features_neg)\n",
    "    \n",
    "    train_data = np.r_[features_pos, features_neg]\n",
    "    train_labels = np.r_[np.ones((features_pos.shape[0], )), \n",
    "                         -np.ones((features_neg.shape[0], ))]\n",
    "    \n",
    "    clf = clf_allClasses[structure]\n",
    "    \n",
    "    probs = clf.predict_proba(train_data)[:, clf.classes_.tolist().index(1.)]\n",
    "    cm = compute_confusion_matrix(np.c_[probs, 1-probs], [0 if l==1. else 1 for l in train_labels], soft=True)\n",
    "    \n",
    "    acc_all_structures[structure] = (n_pos*cm[0,0] + n_neg*cm[1,1])/(n_pos + n_neg)\n",
    "    \n",
    "    plot_confusion_matrix(cm, title='%(structure)s'% {'structure':structure},\n",
    "                          labels=['',''],\n",
    "#                           labels=[label, convert_to_surround_name(label)],\n",
    "                         axis=axes[i])\n",
    "#     plt.show();\n",
    "\n",
    "plt.tight_layout()"
   ]
  },
  {
   "cell_type": "code",
   "execution_count": 43,
   "metadata": {},
   "outputs": [
    {
     "name": "stdout",
     "output_type": "stream",
     "text": [
      "training accuracy: 0.868818357807\n"
     ]
    }
   ],
   "source": [
    "print 'training accuracy:', np.mean(acc_all_structures.values())"
   ]
  },
  {
   "cell_type": "code",
   "execution_count": null,
   "metadata": {
    "collapsed": true
   },
   "outputs": [],
   "source": []
  },
  {
   "cell_type": "code",
   "execution_count": null,
   "metadata": {
    "collapsed": true
   },
   "outputs": [],
   "source": [
    "# Visualize training patches\n",
    "\n",
    "patches = extract_patches_given_locations_multiple_sections(training_addresses['12N'][:10], \n",
    "                                                            location_or_grid_index='grid_index',\n",
    "                                                            version='compressed')\n",
    "display_images_in_grids(patches, nc=10)\n",
    "\n",
    "# patches = extract_patches_given_locations_multiple_sections(training_addresses['12N_surround'][:10], \n",
    "#                                                             location_or_grid_index='grid_index',\n",
    "#                                                             version='compressed')\n",
    "# display_images_in_grids(patches, nc=10)"
   ]
  },
  {
   "cell_type": "code",
   "execution_count": 34,
   "metadata": {
    "collapsed": true
   },
   "outputs": [],
   "source": [
    "def patch_boxes_overlay_on(bg, downscale_factor, locs, patch_size, colors=None, stack=None, sec=None):\n",
    "    \"\"\"\n",
    "    Assume bg has the specified downscale_factor.\n",
    "    \"\"\"\n",
    "\n",
    "    if bg == 'original':\n",
    "        bg = imread(DataManager.get_image_filepath(stack=stack, section=sec, version='compressed'))[::downscale_factor, ::downscale_factor]\n",
    "       \n",
    "    # viz = bg.copy()\n",
    "    viz = gray2rgb(bg).copy()\n",
    "    # need copy() because of this bug http://stackoverflow.com/a/31316516\n",
    "    \n",
    "    half_size = patch_size/2/downscale_factor\n",
    "    if isinstance(locs[0], list):\n",
    "        if colors is None:\n",
    "            colors = random_colors(len(locs))\n",
    "        for i, locs_oneColor in enumerate(locs):\n",
    "            for x, y in locs_oneColor:\n",
    "                x = x / downscale_factor\n",
    "                y = y / downscale_factor\n",
    "                cv2.rectangle(viz, (x-half_size, y-half_size), (x+half_size, y+half_size), colors[i], 2)\n",
    "    else:\n",
    "        if colors is None:\n",
    "            colors = (255,0,0)\n",
    "        for x, y in locs:\n",
    "            x = x / downscale_factor\n",
    "            y = y / downscale_factor\n",
    "            cv2.rectangle(viz, (x-half_size, y-half_size), (x+half_size, y+half_size), colors, 2)\n",
    "            \n",
    "    return viz"
   ]
  },
  {
   "cell_type": "code",
   "execution_count": 35,
   "metadata": {},
   "outputs": [
    {
     "data": {
      "text/html": [
       "<a href='tmp.jpg' target='_blank'>tmp.jpg</a><br>"
      ],
      "text/plain": [
       "/shared/MouseBrainAtlas/learning/tmp.jpg"
      ]
     },
     "execution_count": 35,
     "metadata": {},
     "output_type": "execute_result"
    }
   ],
   "source": [
    "# Visualize a patch in context\n",
    "\n",
    "patch_size, stride, _, _ = get_default_gridspec('MD589')\n",
    "grid_locations = grid_parameters_to_sample_locations(get_default_gridspec('MD589'))\n",
    "viz = patch_boxes_overlay_on('original', 8, \n",
    "                       [grid_locations[44453]],\n",
    "                      patch_size=patch_size,\n",
    "                      stack='MD589',\n",
    "                       sec=219)\n",
    "display_image(viz)"
   ]
  }
 ],
 "metadata": {
  "kernelspec": {
   "display_name": "Python 2",
   "language": "python",
   "name": "python2"
  },
  "language_info": {
   "codemirror_mode": {
    "name": "ipython",
    "version": 2
   },
   "file_extension": ".py",
   "mimetype": "text/x-python",
   "name": "python",
   "nbconvert_exporter": "python",
   "pygments_lexer": "ipython2",
   "version": "2.7.12"
  }
 },
 "nbformat": 4,
 "nbformat_minor": 1
}
