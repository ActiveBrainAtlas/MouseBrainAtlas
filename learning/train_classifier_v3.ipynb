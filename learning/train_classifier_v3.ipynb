{
 "cells": [
  {
   "cell_type": "code",
   "execution_count": 1,
   "metadata": {
    "collapsed": true
   },
   "outputs": [],
   "source": [
    "%reload_ext autoreload\n",
    "%autoreload 2"
   ]
  },
  {
   "cell_type": "code",
   "execution_count": 2,
   "metadata": {
    "scrolled": true
   },
   "outputs": [
    {
     "name": "stderr",
     "output_type": "stream",
     "text": [
      "/usr/local/lib/python2.7/dist-packages/matplotlib/__init__.py:1401: UserWarning:  This call to matplotlib.use() has no effect\n",
      "because the backend has already been chosen;\n",
      "matplotlib.use() must be called *before* pylab, matplotlib.pyplot,\n",
      "or matplotlib.backends is imported for the first time.\n",
      "\n",
      "  warnings.warn(_use_error_msg)\n"
     ]
    },
    {
     "name": "stdout",
     "output_type": "stream",
     "text": [
      "Setting environment for AWS compute node\n"
     ]
    },
    {
     "name": "stderr",
     "output_type": "stream",
     "text": [
      "No vtk\n",
      "File does not exist: /shared/CSHL_data_processed/MD635/MD635_anchor.txt\n",
      "File does not exist: /shared/CSHL_data_processed/MD635/MD635_sorted_filenames.txt\n",
      "File does not exist: /shared/CSHL_data_processed/MD635/MD635_cropbox.txt\n",
      "File does not exist: /shared/CSHL_data_processed/MD635/MD635_cropbox.txt\n",
      "File does not exist: /shared/CSHL_data_processed/MD657/MD657_anchor.txt\n",
      "File does not exist: /shared/CSHL_data_processed/MD657/MD657_sorted_filenames.txt\n",
      "File does not exist: /shared/CSHL_data_processed/MD657/MD657_cropbox.txt\n",
      "File does not exist: /shared/CSHL_data_processed/MD657/MD657_cropbox.txt\n"
     ]
    }
   ],
   "source": [
    "import os\n",
    "import sys\n",
    "import time\n",
    "\n",
    "import matplotlib.pyplot as plt\n",
    "%matplotlib inline\n",
    "import numpy as np\n",
    "\n",
    "sys.path.append(os.path.join(os.environ['REPO_DIR'], 'utilities'))\n",
    "from utilities2015 import *\n",
    "from metadata import *\n",
    "from data_manager import *\n",
    "from learning_utilities import *"
   ]
  },
  {
   "cell_type": "code",
   "execution_count": 3,
   "metadata": {},
   "outputs": [
    {
     "name": "stderr",
     "output_type": "stream",
     "text": [
      "xgboost is not loaded."
     ]
    }
   ],
   "source": [
    "from sklearn.externals import joblib\n",
    "\n",
    "from sklearn.linear_model import LogisticRegression\n",
    "from sklearn.svm import LinearSVC, SVC\n",
    "from sklearn.calibration import CalibratedClassifierCV\n",
    "from sklearn.ensemble import GradientBoostingClassifier \n",
    "\n",
    "sys.path.append('/home/yuncong/csd395/xgboost/python-package')\n",
    "try:\n",
    "    from xgboost.sklearn import XGBClassifier\n",
    "except:\n",
    "    sys.stderr.write('xgboost is not loaded.')"
   ]
  },
  {
   "cell_type": "code",
   "execution_count": 4,
   "metadata": {
    "collapsed": true
   },
   "outputs": [],
   "source": [
    "# structures_to_sample = all_known_structures\n",
    "\n",
    "# negative_labels_to_sample = [s + '_negative' for s in structures_to_sample]\n",
    "\n",
    "# margins_to_sample = [500] # (200: 100 um, 500: 250 um)\n",
    "# surround_labels_to_sample = [convert_to_surround_name(s, margin=m, suffix=surr_l) \n",
    "#                              for m in margins_to_sample\n",
    "#                              for s in structures_to_sample \n",
    "#                              for surr_l in structures_to_sample + ['noclass'] \n",
    "#                              if surr_l != s]\n",
    "\n",
    "# labels_to_sample = structures_to_sample + negative_labels_to_sample + surround_labels_to_sample + ['noclass']"
   ]
  },
  {
   "cell_type": "markdown",
   "metadata": {},
   "source": [
    "# Train Classifiers"
   ]
  },
  {
   "cell_type": "code",
   "execution_count": 5,
   "metadata": {
    "scrolled": true
   },
   "outputs": [
    {
     "data": {
      "text/html": [
       "<div>\n",
       "<table border=\"1\" class=\"dataframe\">\n",
       "  <thead>\n",
       "    <tr style=\"text-align: right;\">\n",
       "      <th></th>\n",
       "      <th>model</th>\n",
       "      <th>margin</th>\n",
       "      <th>train_set_id</th>\n",
       "      <th>neg_composition</th>\n",
       "      <th>sample_weighting</th>\n",
       "    </tr>\n",
       "    <tr>\n",
       "      <th>classifier_id</th>\n",
       "      <th></th>\n",
       "      <th></th>\n",
       "      <th></th>\n",
       "      <th></th>\n",
       "      <th></th>\n",
       "    </tr>\n",
       "  </thead>\n",
       "  <tbody>\n",
       "    <tr>\n",
       "      <th>30</th>\n",
       "      <td>lr</td>\n",
       "      <td>500</td>\n",
       "      <td>20/21</td>\n",
       "      <td>neg_has_all_surround</td>\n",
       "      <td>NaN</td>\n",
       "    </tr>\n",
       "    <tr>\n",
       "      <th>31</th>\n",
       "      <td>lr</td>\n",
       "      <td>500</td>\n",
       "      <td>21/22</td>\n",
       "      <td>neg_has_all_surround</td>\n",
       "      <td>NaN</td>\n",
       "    </tr>\n",
       "    <tr>\n",
       "      <th>32</th>\n",
       "      <td>lr</td>\n",
       "      <td>500</td>\n",
       "      <td>20/22</td>\n",
       "      <td>neg_has_all_surround</td>\n",
       "      <td>NaN</td>\n",
       "    </tr>\n",
       "    <tr>\n",
       "      <th>33</th>\n",
       "      <td>gb1</td>\n",
       "      <td>500</td>\n",
       "      <td>20/21</td>\n",
       "      <td>neg_has_all_surround</td>\n",
       "      <td>NaN</td>\n",
       "    </tr>\n",
       "    <tr>\n",
       "      <th>34</th>\n",
       "      <td>gb1</td>\n",
       "      <td>500</td>\n",
       "      <td>21/22</td>\n",
       "      <td>neg_has_all_surround</td>\n",
       "      <td>NaN</td>\n",
       "    </tr>\n",
       "    <tr>\n",
       "      <th>35</th>\n",
       "      <td>gb1</td>\n",
       "      <td>500</td>\n",
       "      <td>20/22</td>\n",
       "      <td>neg_has_all_surround</td>\n",
       "      <td>NaN</td>\n",
       "    </tr>\n",
       "  </tbody>\n",
       "</table>\n",
       "</div>"
      ],
      "text/plain": [
       "              model  margin train_set_id       neg_composition  \\\n",
       "classifier_id                                                    \n",
       "30               lr     500        20/21  neg_has_all_surround   \n",
       "31               lr     500        21/22  neg_has_all_surround   \n",
       "32               lr     500        20/22  neg_has_all_surround   \n",
       "33              gb1     500        20/21  neg_has_all_surround   \n",
       "34              gb1     500        21/22  neg_has_all_surround   \n",
       "35              gb1     500        20/22  neg_has_all_surround   \n",
       "\n",
       "               sample_weighting  \n",
       "classifier_id                    \n",
       "30                          NaN  \n",
       "31                          NaN  \n",
       "32                          NaN  \n",
       "33                          NaN  \n",
       "34                          NaN  \n",
       "35                          NaN  "
      ]
     },
     "execution_count": 5,
     "metadata": {},
     "output_type": "execute_result"
    }
   ],
   "source": [
    "classifier_settings"
   ]
  },
  {
   "cell_type": "code",
   "execution_count": 6,
   "metadata": {
    "collapsed": true
   },
   "outputs": [],
   "source": [
    "classifier_id = 33\n",
    "classifier_properties = classifier_settings.loc[classifier_id]\n",
    "\n",
    "margin = classifier_properties['margin']\n",
    "model = classifier_properties['model']\n",
    "sample_weighting = classifier_properties['sample_weighting']\n",
    "neg_composition = classifier_properties['neg_composition']"
   ]
  },
  {
   "cell_type": "code",
   "execution_count": 7,
   "metadata": {
    "collapsed": true
   },
   "outputs": [],
   "source": [
    "# Determine which labels to load.\n",
    "\n",
    "structures_to_sample = all_known_structures\n",
    "negative_labels_to_sample = [s + '_negative' for s in structures_to_sample]\n",
    "\n",
    "margins_to_sample = [margin] # (200: 100 um, 500: 250 um)\n",
    "surround_positive_labels_to_sample = [convert_to_surround_name(s, margin=m, suffix=surr_l) \n",
    "                             for m in margins_to_sample\n",
    "                             for s in structures_to_sample \n",
    "                             for surr_l in structures_to_sample\n",
    "                             if surr_l != s]\n",
    "surround_noclass_labels_to_sample = [convert_to_surround_name(s, margin=m, suffix='noclass') \n",
    "                             for m in margins_to_sample\n",
    "                             for s in structures_to_sample]\n",
    "\n",
    "if neg_composition == 'neg_has_everything_else':\n",
    "    labels_to_sample = structures_to_sample + negative_labels_to_sample\n",
    "elif neg_composition == 'neg_has_only_surround_noclass':\n",
    "    labels_to_sample = structures_to_sample + surround_noclass_labels_to_sample + ['noclass']\n",
    "elif neg_composition == 'neg_has_all_surround':\n",
    "    labels_to_sample = structures_to_sample + surround_positive_labels_to_sample + surround_noclass_labels_to_sample + ['noclass']"
   ]
  },
  {
   "cell_type": "code",
   "execution_count": 8,
   "metadata": {},
   "outputs": [
    {
     "name": "stdout",
     "output_type": "stream",
     "text": [
      "rm -rf /shared/CSHL_classifiers/datasets/dataset_20/patch_addresses.pkl && mkdir -p /shared/CSHL_classifiers/datasets/dataset_20\n",
      "aws s3 cp s3://mousebrainatlas-data/CSHL_classifiers/datasets/dataset_20/patch_addresses.pkl /shared/CSHL_classifiers/datasets/dataset_20/patch_addresses.pkl\n"
     ]
    },
    {
     "name": "stderr",
     "output_type": "stream",
     "text": [
      "Child returned 0\n",
      "Child returned 0\n",
      "0.62 seconds.\n"
     ]
    },
    {
     "name": "stdout",
     "output_type": "stream",
     "text": [
      "rm -rf /shared/CSHL_classifiers/datasets/dataset_20/patch_features.hdf && mkdir -p /shared/CSHL_classifiers/datasets/dataset_20\n",
      "aws s3 cp s3://mousebrainatlas-data/CSHL_classifiers/datasets/dataset_20/patch_features.hdf /shared/CSHL_classifiers/datasets/dataset_20/patch_features.hdf\n"
     ]
    },
    {
     "name": "stderr",
     "output_type": "stream",
     "text": [
      "Child returned 0\n",
      "Child returned 0\n",
      "1.53 seconds.\n"
     ]
    },
    {
     "name": "stdout",
     "output_type": "stream",
     "text": [
      "rm -rf /shared/CSHL_classifiers/datasets/dataset_21/patch_addresses.pkl && mkdir -p /shared/CSHL_classifiers/datasets/dataset_21\n",
      "aws s3 cp s3://mousebrainatlas-data/CSHL_classifiers/datasets/dataset_21/patch_addresses.pkl /shared/CSHL_classifiers/datasets/dataset_21/patch_addresses.pkl\n"
     ]
    },
    {
     "name": "stderr",
     "output_type": "stream",
     "text": [
      "Child returned 0\n",
      "Child returned 0\n",
      "0.54 seconds.\n"
     ]
    },
    {
     "name": "stdout",
     "output_type": "stream",
     "text": [
      "rm -rf /shared/CSHL_classifiers/datasets/dataset_21/patch_features.hdf && mkdir -p /shared/CSHL_classifiers/datasets/dataset_21\n",
      "aws s3 cp s3://mousebrainatlas-data/CSHL_classifiers/datasets/dataset_21/patch_features.hdf /shared/CSHL_classifiers/datasets/dataset_21/patch_features.hdf\n"
     ]
    },
    {
     "name": "stderr",
     "output_type": "stream",
     "text": [
      "Child returned 0\n",
      "Child returned 0\n",
      "1.50 seconds.\n"
     ]
    }
   ],
   "source": [
    "# Load training dataset.\n",
    "\n",
    "training_set_ids = map(int, str(classifier_properties['train_set_id']).split('/'))\n",
    "training_features, training_addresses = load_datasets(training_set_ids, labels_to_sample=labels_to_sample)\n",
    "    \n",
    "assert set(training_addresses.keys()) == set(training_features.keys()), \\\n",
    "    'Training features and training addresses are not consistent.'"
   ]
  },
  {
   "cell_type": "code",
   "execution_count": 9,
   "metadata": {
    "collapsed": true
   },
   "outputs": [],
   "source": [
    "labels_found = training_features.keys()\n",
    "structures_found = set([convert_to_original_name(l) for l in labels_found]) - {'noclass'}"
   ]
  },
  {
   "cell_type": "code",
   "execution_count": 10,
   "metadata": {
    "collapsed": true
   },
   "outputs": [],
   "source": [
    "setting_dir = os.path.join(os.path.join(CLF_ROOTDIR, 'setting_%d' % classifier_id))"
   ]
  },
  {
   "cell_type": "code",
   "execution_count": 11,
   "metadata": {
    "scrolled": true
   },
   "outputs": [
    {
     "name": "stdout",
     "output_type": "stream",
     "text": [
      "Tz\n",
      "      Iter       Train Loss   Remaining Time \n",
      "         1           1.1062            1.06m\n",
      "         2           0.9608            1.06m\n",
      "         3           0.8632            1.06m\n",
      "         4           0.7888            1.05m\n",
      "         5           0.7305            1.05m\n",
      "         6           0.6861            1.05m\n",
      "         7           0.6490            1.04m\n",
      "         8           0.6156            1.04m\n",
      "         9           0.5883            1.04m\n",
      "        10           0.5632            1.04m\n",
      "        20           0.4094           58.36s\n",
      "        30           0.3218           54.48s\n",
      "        40           0.2653           50.70s\n",
      "        50           0.2236           46.91s\n",
      "        60           0.1870           43.50s\n",
      "        70           0.1617           40.08s\n",
      "        80           0.1393           36.94s\n",
      "        90           0.1203           33.69s\n",
      "       100           0.1013           30.80s\n",
      "       200           0.0223            0.00s\n",
      "aws s3 cp /shared/CSHL_classifiers/setting_33/classifiers/Tz_clf_setting_33.dump s3://mousebrainatlas-data/CSHL_classifiers/setting_33/classifiers/Tz_clf_setting_33.dump\n"
     ]
    },
    {
     "name": "stderr",
     "output_type": "stream",
     "text": [
      "Fitting classifier: 61.92 seconds\n",
      "Child returned 0\n",
      "0.44 seconds.\n"
     ]
    },
    {
     "name": "stdout",
     "output_type": "stream",
     "text": [
      "Sp5O\n",
      "      Iter       Train Loss   Remaining Time \n",
      "         1           1.1878            1.48m\n",
      "         2           1.1292            1.45m\n",
      "         3           1.0822            1.43m\n",
      "         4           1.0472            1.43m\n",
      "         5           1.0169            1.42m\n",
      "         6           0.9908            1.41m\n",
      "         7           0.9726            1.39m\n",
      "         8           0.9542            1.39m\n",
      "         9           0.9382            1.38m\n",
      "        10           0.9213            1.36m\n",
      "        20           0.8190            1.27m\n",
      "        30           0.7665            1.17m\n",
      "        40           0.7184            1.08m\n",
      "        50           0.6627            1.02m\n",
      "        60           0.6174           56.79s\n",
      "        70           0.5751           52.67s\n",
      "        80           0.5423           48.34s\n",
      "        90           0.5042           44.34s\n",
      "       100           0.4713           40.27s\n",
      "       200           0.2501            0.00s\n",
      "aws s3 cp /shared/CSHL_classifiers/setting_33/classifiers/Sp5O_clf_setting_33.dump s3://mousebrainatlas-data/CSHL_classifiers/setting_33/classifiers/Sp5O_clf_setting_33.dump\n"
     ]
    },
    {
     "name": "stderr",
     "output_type": "stream",
     "text": [
      "Fitting classifier: 81.07 seconds\n",
      "Child returned 0\n",
      "0.49 seconds.\n"
     ]
    },
    {
     "name": "stdout",
     "output_type": "stream",
     "text": [
      "7n\n",
      "      Iter       Train Loss   Remaining Time \n",
      "         1           1.0636           53.16s\n",
      "         2           0.8719           52.53s\n",
      "         3           0.7436           52.15s\n",
      "         4           0.6551           51.87s\n",
      "         5           0.5891           51.57s\n",
      "         6           0.5369           51.41s\n",
      "         7           0.4972           51.15s\n",
      "         8           0.4665           51.04s\n",
      "         9           0.4426           50.63s\n",
      "        10           0.4250           50.24s\n",
      "        20           0.3161           46.52s\n",
      "        30           0.2541           43.14s\n",
      "        40           0.2123           39.87s\n",
      "        50           0.1800           36.90s\n",
      "        60           0.1496           34.29s\n",
      "        70           0.1235           31.85s\n",
      "        80           0.1033           29.32s\n",
      "        90           0.0850           26.96s\n",
      "       100           0.0717           24.52s\n",
      "       200           0.0151            0.00s\n",
      "aws s3 cp /shared/CSHL_classifiers/setting_33/classifiers/7n_clf_setting_33.dump s3://mousebrainatlas-data/CSHL_classifiers/setting_33/classifiers/7n_clf_setting_33.dump\n"
     ]
    },
    {
     "name": "stderr",
     "output_type": "stream",
     "text": [
      "Fitting classifier: 49.34 seconds\n",
      "Child returned 0\n",
      "0.44 seconds.\n"
     ]
    },
    {
     "name": "stdout",
     "output_type": "stream",
     "text": [
      "DC\n",
      "      Iter       Train Loss   Remaining Time \n",
      "         1           1.0081            1.97m\n",
      "         2           0.9364            1.96m\n",
      "         3           0.8860            1.96m\n",
      "         4           0.8430            1.96m\n",
      "         5           0.8068            1.95m\n",
      "         6           0.7822            1.92m\n",
      "         7           0.7583            1.91m\n",
      "         8           0.7310            1.91m\n",
      "         9           0.7129            1.90m\n",
      "        10           0.6960            1.88m\n",
      "        20           0.5672            1.77m\n",
      "        30           0.4789            1.66m\n",
      "        40           0.4191            1.57m\n",
      "        50           0.3733            1.46m\n",
      "        60           0.3350            1.36m\n",
      "        70           0.3029            1.26m\n",
      "        80           0.2751            1.16m\n",
      "        90           0.2496            1.06m\n",
      "       100           0.2327           57.64s\n",
      "       200           0.0965            0.00s\n",
      "aws s3 cp /shared/CSHL_classifiers/setting_33/classifiers/DC_clf_setting_33.dump s3://mousebrainatlas-data/CSHL_classifiers/setting_33/classifiers/DC_clf_setting_33.dump\n"
     ]
    },
    {
     "name": "stderr",
     "output_type": "stream",
     "text": [
      "Fitting classifier: 115.51 seconds\n",
      "Child returned 0\n",
      "0.44 seconds.\n"
     ]
    },
    {
     "name": "stdout",
     "output_type": "stream",
     "text": [
      "5N\n",
      "      Iter       Train Loss   Remaining Time \n",
      "         1           1.1539           53.33s\n",
      "         2           1.0205           52.35s\n",
      "         3           0.9308           51.81s\n",
      "         4           0.8690           51.42s\n",
      "         5           0.8196           51.21s\n",
      "         6           0.7811           51.02s\n",
      "         7           0.7502           50.59s\n",
      "         8           0.7247           50.15s\n",
      "         9           0.6991           50.00s\n",
      "        10           0.6754           49.82s\n",
      "        20           0.5336           47.06s\n",
      "        30           0.4543           42.69s\n",
      "        40           0.3887           39.75s\n",
      "        50           0.3325           37.07s\n",
      "        60           0.2853           34.52s\n",
      "        70           0.2476           31.95s\n",
      "        80           0.2154           29.38s\n",
      "        90           0.1877           26.82s\n",
      "       100           0.1614           24.43s\n",
      "       200           0.0480            0.00s\n",
      "aws s3 cp /shared/CSHL_classifiers/setting_33/classifiers/5N_clf_setting_33.dump s3://mousebrainatlas-data/CSHL_classifiers/setting_33/classifiers/5N_clf_setting_33.dump\n"
     ]
    },
    {
     "name": "stderr",
     "output_type": "stream",
     "text": [
      "Fitting classifier: 48.58 seconds\n",
      "Child returned 0\n",
      "0.44 seconds.\n"
     ]
    },
    {
     "name": "stdout",
     "output_type": "stream",
     "text": [
      "RtTg\n",
      "      Iter       Train Loss   Remaining Time \n",
      "         1           1.1799            1.56m\n",
      "         2           1.1385            1.55m\n",
      "         3           1.0965            1.55m\n",
      "         4           1.0664            1.52m\n",
      "         5           1.0412            1.51m\n",
      "         6           1.0192            1.49m\n",
      "         7           1.0005            1.47m\n",
      "         8           0.9822            1.46m\n",
      "         9           0.9631            1.46m\n",
      "        10           0.9478            1.45m\n",
      "        20           0.8310            1.35m\n",
      "        30           0.7512            1.27m\n",
      "        40           0.6952            1.19m\n",
      "        50           0.6466            1.11m\n",
      "        60           0.6003            1.03m\n",
      "        70           0.5599           57.11s\n",
      "        80           0.5255           52.61s\n",
      "        90           0.4942           47.97s\n",
      "       100           0.4609           43.66s\n",
      "       200           0.2486            0.00s\n",
      "aws s3 cp /shared/CSHL_classifiers/setting_33/classifiers/RtTg_clf_setting_33.dump s3://mousebrainatlas-data/CSHL_classifiers/setting_33/classifiers/RtTg_clf_setting_33.dump\n"
     ]
    },
    {
     "name": "stderr",
     "output_type": "stream",
     "text": [
      "Fitting classifier: 87.79 seconds\n",
      "Child returned 0\n",
      "0.44 seconds.\n"
     ]
    },
    {
     "name": "stdout",
     "output_type": "stream",
     "text": [
      "Pn\n",
      "      Iter       Train Loss   Remaining Time \n",
      "         1           1.0953            1.47m\n",
      "         2           0.9889            1.45m\n",
      "         3           0.9189            1.43m\n",
      "         4           0.8648            1.41m\n",
      "         5           0.8205            1.41m\n",
      "         6           0.7851            1.40m\n",
      "         7           0.7570            1.38m\n",
      "         8           0.7338            1.37m\n",
      "         9           0.7134            1.37m\n",
      "        10           0.6945            1.37m\n",
      "        20           0.5650            1.29m\n",
      "        30           0.4865            1.20m\n",
      "        40           0.4244            1.13m\n",
      "        50           0.3756            1.06m\n",
      "        60           0.3330           59.08s\n",
      "        70           0.2981           54.68s\n",
      "        80           0.2678           50.39s\n",
      "        90           0.2396           46.07s\n",
      "       100           0.2165           41.76s\n",
      "       200           0.0756            0.00s\n",
      "aws s3 cp /shared/CSHL_classifiers/setting_33/classifiers/Pn_clf_setting_33.dump s3://mousebrainatlas-data/CSHL_classifiers/setting_33/classifiers/Pn_clf_setting_33.dump\n"
     ]
    },
    {
     "name": "stderr",
     "output_type": "stream",
     "text": [
      "Fitting classifier: 84.17 seconds\n",
      "Child returned 0\n",
      "0.44 seconds.\n"
     ]
    },
    {
     "name": "stdout",
     "output_type": "stream",
     "text": [
      "10N\n",
      "      Iter       Train Loss   Remaining Time \n",
      "         1           0.9793            1.40m\n",
      "         2           0.8305            1.38m\n",
      "         3           0.7366            1.38m\n",
      "         4           0.6614            1.37m\n",
      "         5           0.6120            1.35m\n",
      "         6           0.5650            1.35m\n",
      "         7           0.5319            1.34m\n",
      "         8           0.5015            1.34m\n",
      "         9           0.4778            1.33m\n",
      "        10           0.4563            1.32m\n",
      "        20           0.3333            1.25m\n",
      "        30           0.2661            1.17m\n",
      "        40           0.2189            1.10m\n",
      "        50           0.1857            1.02m\n",
      "        60           0.1568           57.19s\n",
      "        70           0.1338           52.96s\n",
      "        80           0.1108           48.87s\n",
      "        90           0.0950           44.79s\n",
      "       100           0.0808           40.72s\n",
      "       200           0.0208            0.00s\n",
      "aws s3 cp /shared/CSHL_classifiers/setting_33/classifiers/10N_clf_setting_33.dump s3://mousebrainatlas-data/CSHL_classifiers/setting_33/classifiers/10N_clf_setting_33.dump\n"
     ]
    },
    {
     "name": "stderr",
     "output_type": "stream",
     "text": [
      "Fitting classifier: 81.40 seconds\n",
      "Child returned 0\n",
      "0.49 seconds.\n"
     ]
    },
    {
     "name": "stdout",
     "output_type": "stream",
     "text": [
      "LC\n",
      "      Iter       Train Loss   Remaining Time \n",
      "         1           1.1719           53.21s\n",
      "         2           1.0425           51.96s\n",
      "         3           0.9449           52.01s\n",
      "         4           0.8771           51.62s\n",
      "         5           0.8284           51.25s\n",
      "         6           0.7898           50.91s\n",
      "         7           0.7564           50.57s\n",
      "         8           0.7294           50.11s\n",
      "         9           0.7038           49.97s\n",
      "        10           0.6839           49.80s\n",
      "        20           0.5532           45.52s\n",
      "        30           0.4601           42.85s\n",
      "        40           0.3994           39.63s\n",
      "        50           0.3455           37.00s\n",
      "        60           0.2977           34.43s\n",
      "        70           0.2578           31.93s\n",
      "        80           0.2204           29.52s\n",
      "        90           0.1903           27.04s\n",
      "       100           0.1643           24.56s\n",
      "       200           0.0447            0.00s\n",
      "aws s3 cp /shared/CSHL_classifiers/setting_33/classifiers/LC_clf_setting_33.dump s3://mousebrainatlas-data/CSHL_classifiers/setting_33/classifiers/LC_clf_setting_33.dump\n"
     ]
    },
    {
     "name": "stderr",
     "output_type": "stream",
     "text": [
      "Fitting classifier: 49.38 seconds\n",
      "Child returned 0\n",
      "0.44 seconds.\n"
     ]
    },
    {
     "name": "stdout",
     "output_type": "stream",
     "text": [
      "7N\n",
      "      Iter       Train Loss   Remaining Time \n",
      "         1           1.1981           53.48s\n",
      "         2           1.0788           52.26s\n",
      "         3           0.9901           51.57s\n",
      "         4           0.9254           51.45s\n",
      "         5           0.8744           51.35s\n",
      "         6           0.8267           51.30s\n",
      "         7           0.7884           51.15s\n",
      "         8           0.7585           50.98s\n",
      "         9           0.7322           50.75s\n",
      "        10           0.7131           50.51s\n",
      "        20           0.5663           47.11s\n",
      "        30           0.4867           42.98s\n",
      "        40           0.4170           39.87s\n",
      "        50           0.3641           36.89s\n",
      "        60           0.3145           34.13s\n",
      "        70           0.2779           31.46s\n",
      "        80           0.2420           29.07s\n",
      "        90           0.2126           26.51s\n",
      "       100           0.1897           23.98s\n",
      "       200           0.0543            0.00s\n",
      "aws s3 cp /shared/CSHL_classifiers/setting_33/classifiers/7N_clf_setting_33.dump s3://mousebrainatlas-data/CSHL_classifiers/setting_33/classifiers/7N_clf_setting_33.dump\n"
     ]
    },
    {
     "name": "stderr",
     "output_type": "stream",
     "text": [
      "Fitting classifier: 48.43 seconds\n",
      "Child returned 0\n",
      "0.44 seconds.\n"
     ]
    },
    {
     "name": "stdout",
     "output_type": "stream",
     "text": [
      "Amb\n",
      "      Iter       Train Loss   Remaining Time \n",
      "         1           0.9373           39.01s\n",
      "         2           0.7654           38.19s\n",
      "         3           0.6518           37.69s\n",
      "         4           0.5626           37.60s\n",
      "         5           0.5032           37.30s\n",
      "         6           0.4544           37.10s\n",
      "         7           0.4185           37.05s\n",
      "         8           0.3907           36.85s\n",
      "         9           0.3646           36.65s\n",
      "        10           0.3415           36.48s\n",
      "        20           0.2164           34.21s\n",
      "        30           0.1550           32.07s\n",
      "        40           0.1146           29.73s\n",
      "        50           0.0838           28.01s\n",
      "        60           0.0647           25.89s\n",
      "        70           0.0505           23.98s\n",
      "        80           0.0404           22.00s\n",
      "        90           0.0319           20.03s\n",
      "       100           0.0245           18.22s\n",
      "       200           0.0025            0.00s\n",
      "aws s3 cp /shared/CSHL_classifiers/setting_33/classifiers/Amb_clf_setting_33.dump s3://mousebrainatlas-data/CSHL_classifiers/setting_33/classifiers/Amb_clf_setting_33.dump\n"
     ]
    },
    {
     "name": "stderr",
     "output_type": "stream",
     "text": [
      "Fitting classifier: 36.33 seconds\n",
      "Child returned 0\n",
      "0.45 seconds.\n"
     ]
    },
    {
     "name": "stdout",
     "output_type": "stream",
     "text": [
      "12N\n",
      "      Iter       Train Loss   Remaining Time \n",
      "         1           1.0160            1.35m\n",
      "         2           0.8664            1.32m\n",
      "         3           0.7580            1.32m\n",
      "         4           0.6780            1.31m\n",
      "         5           0.6185            1.30m\n",
      "         6           0.5775            1.30m\n",
      "         7           0.5400            1.30m\n",
      "         8           0.5084            1.29m\n",
      "         9           0.4825            1.29m\n",
      "        10           0.4612            1.29m\n",
      "        20           0.3363            1.21m\n",
      "        30           0.2762            1.13m\n",
      "        40           0.2325            1.05m\n",
      "        50           0.1940           58.99s\n",
      "        60           0.1638           54.97s\n",
      "        70           0.1398           50.84s\n",
      "        80           0.1198           46.82s\n",
      "        90           0.1025           42.92s\n",
      "       100           0.0892           38.99s\n",
      "       200           0.0242            0.00s\n",
      "aws s3 cp /shared/CSHL_classifiers/setting_33/classifiers/12N_clf_setting_33.dump s3://mousebrainatlas-data/CSHL_classifiers/setting_33/classifiers/12N_clf_setting_33.dump\n"
     ]
    },
    {
     "name": "stderr",
     "output_type": "stream",
     "text": [
      "Fitting classifier: 77.70 seconds\n",
      "Child returned 0\n",
      "0.44 seconds.\n"
     ]
    },
    {
     "name": "stdout",
     "output_type": "stream",
     "text": [
      "RMC\n",
      "      Iter       Train Loss   Remaining Time \n",
      "         1           1.2248           53.15s\n",
      "         2           1.1291           51.71s\n",
      "         3           1.0627           51.33s\n",
      "         4           1.0155           51.00s\n",
      "         5           0.9777           51.09s\n",
      "         6           0.9446           51.06s\n",
      "         7           0.9173           50.78s\n",
      "         8           0.8941           49.51s\n",
      "         9           0.8720           48.86s\n",
      "        10           0.8524           48.49s\n",
      "        20           0.7111           44.84s\n",
      "        30           0.6177           41.11s\n",
      "        40           0.5467           37.96s\n",
      "        50           0.4937           35.13s\n",
      "        60           0.4422           32.73s\n",
      "        70           0.3960           30.21s\n",
      "        80           0.3533           27.84s\n",
      "        90           0.3199           25.41s\n",
      "       100           0.2909           23.00s\n",
      "       200           0.1040            0.00s\n",
      "aws s3 cp /shared/CSHL_classifiers/setting_33/classifiers/RMC_clf_setting_33.dump s3://mousebrainatlas-data/CSHL_classifiers/setting_33/classifiers/RMC_clf_setting_33.dump\n"
     ]
    },
    {
     "name": "stderr",
     "output_type": "stream",
     "text": [
      "Fitting classifier: 46.13 seconds\n",
      "Child returned 0\n",
      "0.45 seconds.\n"
     ]
    },
    {
     "name": "stdout",
     "output_type": "stream",
     "text": [
      "VCA\n",
      "      Iter       Train Loss   Remaining Time \n",
      "         1           0.9709            1.92m\n",
      "         2           0.8766            1.92m\n",
      "         3           0.8142            1.91m\n",
      "         4           0.7701            1.90m\n",
      "         5           0.7347            1.89m\n",
      "         6           0.7066            1.89m\n",
      "         7           0.6807            1.88m\n",
      "         8           0.6587            1.87m\n",
      "         9           0.6416            1.85m\n",
      "        10           0.6249            1.83m\n",
      "        20           0.5210            1.73m\n",
      "        30           0.4621            1.61m\n",
      "        40           0.4102            1.51m\n",
      "        50           0.3709            1.40m\n",
      "        60           0.3349            1.31m\n",
      "        70           0.3021            1.22m\n",
      "        80           0.2742            1.12m\n",
      "        90           0.2482            1.03m\n",
      "       100           0.2269           55.75s\n",
      "       200           0.0964            0.00s\n",
      "aws s3 cp /shared/CSHL_classifiers/setting_33/classifiers/VCA_clf_setting_33.dump s3://mousebrainatlas-data/CSHL_classifiers/setting_33/classifiers/VCA_clf_setting_33.dump\n"
     ]
    },
    {
     "name": "stderr",
     "output_type": "stream",
     "text": [
      "Fitting classifier: 111.54 seconds\n",
      "Child returned 0\n",
      "0.44 seconds.\n"
     ]
    },
    {
     "name": "stdout",
     "output_type": "stream",
     "text": [
      "Sp5I\n",
      "      Iter       Train Loss   Remaining Time \n",
      "         1           1.0006            1.96m\n",
      "         2           0.9404            1.97m\n",
      "         3           0.8920            1.97m\n",
      "         4           0.8519            1.96m\n",
      "         5           0.8234            1.95m\n",
      "         6           0.8008            1.95m\n",
      "         7           0.7855            1.94m\n",
      "         8           0.7719            1.92m\n",
      "         9           0.7583            1.91m\n",
      "        10           0.7470            1.90m\n",
      "        20           0.6720            1.75m\n",
      "        30           0.6155            1.63m\n",
      "        40           0.5637            1.52m\n",
      "        50           0.5245            1.43m\n",
      "        60           0.4849            1.33m\n",
      "        70           0.4558            1.23m\n",
      "        80           0.4271            1.12m\n",
      "        90           0.3977            1.02m\n",
      "       100           0.3685           54.96s\n",
      "       200           0.1918            0.00s\n",
      "aws s3 cp /shared/CSHL_classifiers/setting_33/classifiers/Sp5I_clf_setting_33.dump s3://mousebrainatlas-data/CSHL_classifiers/setting_33/classifiers/Sp5I_clf_setting_33.dump\n"
     ]
    },
    {
     "name": "stderr",
     "output_type": "stream",
     "text": [
      "Fitting classifier: 103.59 seconds\n",
      "Child returned 0\n",
      "0.49 seconds.\n"
     ]
    },
    {
     "name": "stdout",
     "output_type": "stream",
     "text": [
      "Sp5C\n",
      "      Iter       Train Loss   Remaining Time \n",
      "         1           1.1313            1.27m\n",
      "         2           1.0548            1.24m\n",
      "         3           1.0030            1.24m\n",
      "         4           0.9628            1.24m\n",
      "         5           0.9280            1.22m\n",
      "         6           0.9028            1.20m\n",
      "         7           0.8822            1.19m\n",
      "         8           0.8633            1.19m\n",
      "         9           0.8467            1.17m\n",
      "        10           0.8323            1.17m\n",
      "        20           0.7304            1.07m\n",
      "        30           0.6618           59.31s\n",
      "        40           0.6002           55.44s\n",
      "        50           0.5503           51.64s\n",
      "        60           0.5027           48.35s\n",
      "        70           0.4636           44.62s\n",
      "        80           0.4280           41.18s\n",
      "        90           0.3955           37.63s\n",
      "       100           0.3687           34.12s\n",
      "       200           0.1697            0.00s\n",
      "aws s3 cp /shared/CSHL_classifiers/setting_33/classifiers/Sp5C_clf_setting_33.dump s3://mousebrainatlas-data/CSHL_classifiers/setting_33/classifiers/Sp5C_clf_setting_33.dump\n"
     ]
    },
    {
     "name": "stderr",
     "output_type": "stream",
     "text": [
      "Fitting classifier: 69.38 seconds\n",
      "Child returned 0\n",
      "0.44 seconds.\n"
     ]
    },
    {
     "name": "stdout",
     "output_type": "stream",
     "text": [
      "4N\n",
      "      Iter       Train Loss   Remaining Time \n",
      "         1           0.4782           29.70s\n",
      "         2           0.4076           29.13s\n",
      "         3           0.3537           28.72s\n",
      "         4           0.3201           28.12s\n",
      "         5           0.2975           27.55s\n",
      "         6           0.2712           27.53s\n",
      "         7           0.2463           28.04s\n",
      "         8           0.2273           27.63s\n",
      "         9           0.2112           27.49s\n",
      "        10           0.1962           27.57s\n",
      "        20           0.1204           26.27s\n",
      "        30           0.0793           24.34s\n",
      "        40           0.0548           22.69s\n",
      "        50           0.0367           21.25s\n",
      "        60           0.0258           19.97s\n",
      "        70           0.0180           18.48s\n",
      "        80           0.0132           16.98s\n",
      "        90           0.0099           15.47s\n",
      "       100           0.0070           14.02s\n",
      "       200           0.0003            0.00s\n",
      "aws s3 cp /shared/CSHL_classifiers/setting_33/classifiers/4N_clf_setting_33.dump s3://mousebrainatlas-data/CSHL_classifiers/setting_33/classifiers/4N_clf_setting_33.dump\n"
     ]
    },
    {
     "name": "stderr",
     "output_type": "stream",
     "text": [
      "Fitting classifier: 28.11 seconds\n",
      "Child returned 0\n",
      "0.44 seconds.\n"
     ]
    },
    {
     "name": "stdout",
     "output_type": "stream",
     "text": [
      "AP\n",
      "      Iter       Train Loss   Remaining Time \n",
      "         1           1.0140           53.48s\n",
      "         2           0.8017           51.95s\n",
      "         3           0.6687           50.85s\n",
      "         4           0.5726           50.32s\n",
      "         5           0.5032           49.88s\n",
      "         6           0.4517           49.51s\n",
      "         7           0.4123           49.33s\n",
      "         8           0.3815           48.80s\n",
      "         9           0.3544           48.52s\n",
      "        10           0.3320           48.37s\n",
      "        20           0.2120           45.61s\n",
      "        30           0.1512           43.17s\n",
      "        40           0.1132           39.53s\n",
      "        50           0.0849           36.60s\n",
      "        60           0.0643           33.95s\n",
      "        70           0.0509           31.17s\n",
      "        80           0.0397           28.88s\n",
      "        90           0.0310           26.41s\n",
      "       100           0.0245           24.11s\n",
      "       200           0.0027            0.00s\n",
      "aws s3 cp /shared/CSHL_classifiers/setting_33/classifiers/AP_clf_setting_33.dump s3://mousebrainatlas-data/CSHL_classifiers/setting_33/classifiers/AP_clf_setting_33.dump\n"
     ]
    },
    {
     "name": "stderr",
     "output_type": "stream",
     "text": [
      "Fitting classifier: 47.89 seconds\n",
      "Child returned 0\n",
      "0.44 seconds.\n"
     ]
    },
    {
     "name": "stdout",
     "output_type": "stream",
     "text": [
      "PBG\n",
      "      Iter       Train Loss   Remaining Time \n",
      "         1           1.0564           46.56s\n",
      "         2           0.8739           45.87s\n",
      "         3           0.7494           45.50s\n",
      "         4           0.6595           45.16s\n",
      "         5           0.6020           44.91s\n",
      "         6           0.5492           44.69s\n",
      "         7           0.5099           44.57s\n",
      "         8           0.4702           44.53s\n",
      "         9           0.4464           44.25s\n",
      "        10           0.4280           44.03s\n",
      "        20           0.3019           41.32s\n",
      "        30           0.2307           37.98s\n",
      "        40           0.1871           34.90s\n",
      "        50           0.1503           32.67s\n",
      "        60           0.1198           30.50s\n",
      "        70           0.1002           28.08s\n",
      "        80           0.0799           25.90s\n",
      "        90           0.0668           23.62s\n",
      "       100           0.0550           21.45s\n",
      "       200           0.0093            0.00s\n",
      "aws s3 cp /shared/CSHL_classifiers/setting_33/classifiers/PBG_clf_setting_33.dump s3://mousebrainatlas-data/CSHL_classifiers/setting_33/classifiers/PBG_clf_setting_33.dump\n"
     ]
    },
    {
     "name": "stderr",
     "output_type": "stream",
     "text": [
      "Fitting classifier: 42.97 seconds\n",
      "Child returned 0\n",
      "0.39 seconds.\n"
     ]
    },
    {
     "name": "stdout",
     "output_type": "stream",
     "text": [
      "LRt\n",
      "      Iter       Train Loss   Remaining Time \n",
      "         1           1.2215           52.48s\n",
      "         2           1.1156           51.86s\n",
      "         3           1.0249           51.30s\n",
      "         4           0.9615           50.57s\n",
      "         5           0.9137           50.29s\n",
      "         6           0.8703           49.83s\n",
      "         7           0.8351           49.52s\n",
      "         8           0.8045           49.34s\n",
      "         9           0.7825           48.05s\n",
      "        10           0.7601           47.87s\n",
      "        20           0.6180           44.23s\n",
      "        30           0.5242           40.60s\n",
      "        40           0.4535           37.79s\n",
      "        50           0.3986           34.94s\n",
      "        60           0.3503           32.32s\n",
      "        70           0.3090           29.86s\n",
      "        80           0.2717           27.54s\n",
      "        90           0.2380           25.23s\n",
      "       100           0.2114           22.87s\n",
      "       200           0.0655            0.00s\n",
      "aws s3 cp /shared/CSHL_classifiers/setting_33/classifiers/LRt_clf_setting_33.dump s3://mousebrainatlas-data/CSHL_classifiers/setting_33/classifiers/LRt_clf_setting_33.dump\n"
     ]
    },
    {
     "name": "stderr",
     "output_type": "stream",
     "text": [
      "Fitting classifier: 45.71 seconds\n",
      "Child returned 0\n",
      "0.44 seconds.\n"
     ]
    },
    {
     "name": "stdout",
     "output_type": "stream",
     "text": [
      "IC\n",
      "      Iter       Train Loss   Remaining Time \n",
      "         1           1.1810            1.32m\n",
      "         2           1.1164            1.28m\n",
      "         3           1.0708            1.27m\n",
      "         4           1.0326            1.25m\n",
      "         5           1.0011            1.24m\n",
      "         6           0.9710            1.23m\n",
      "         7           0.9487            1.21m\n",
      "         8           0.9313            1.20m\n",
      "         9           0.9144            1.18m\n",
      "        10           0.8961            1.17m\n",
      "        20           0.7781            1.09m\n",
      "        30           0.7063            1.01m\n",
      "        40           0.6476           56.07s\n",
      "        50           0.5974           52.28s\n",
      "        60           0.5507           48.55s\n",
      "        70           0.5091           45.07s\n",
      "        80           0.4707           41.58s\n",
      "        90           0.4404           37.83s\n",
      "       100           0.4101           34.29s\n",
      "       200           0.2074            0.00s\n",
      "aws s3 cp /shared/CSHL_classifiers/setting_33/classifiers/IC_clf_setting_33.dump s3://mousebrainatlas-data/CSHL_classifiers/setting_33/classifiers/IC_clf_setting_33.dump\n"
     ]
    },
    {
     "name": "stderr",
     "output_type": "stream",
     "text": [
      "Fitting classifier: 68.42 seconds\n",
      "Child returned 0\n",
      "0.44 seconds.\n"
     ]
    },
    {
     "name": "stdout",
     "output_type": "stream",
     "text": [
      "VLL\n",
      "      Iter       Train Loss   Remaining Time \n",
      "         1           1.1597           50.38s\n",
      "         2           1.0220           49.27s\n",
      "         3           0.9250           49.14s\n",
      "         4           0.8527           48.87s\n",
      "         5           0.7990           48.56s\n",
      "         6           0.7587           48.19s\n",
      "         7           0.7298           47.70s\n",
      "         8           0.7012           47.55s\n",
      "         9           0.6794           47.43s\n",
      "        10           0.6598           47.02s\n",
      "        20           0.5215           44.70s\n",
      "        30           0.4452           40.57s\n",
      "        40           0.3792           37.87s\n",
      "        50           0.3210           35.13s\n",
      "        60           0.2815           32.71s\n",
      "        70           0.2441           30.27s\n",
      "        80           0.2095           27.96s\n",
      "        90           0.1839           25.47s\n",
      "       100           0.1606           23.09s\n",
      "       200           0.0451            0.00s\n",
      "aws s3 cp /shared/CSHL_classifiers/setting_33/classifiers/VLL_clf_setting_33.dump s3://mousebrainatlas-data/CSHL_classifiers/setting_33/classifiers/VLL_clf_setting_33.dump\n"
     ]
    },
    {
     "name": "stderr",
     "output_type": "stream",
     "text": [
      "Fitting classifier: 46.17 seconds\n",
      "Child returned 0\n",
      "0.49 seconds.\n"
     ]
    },
    {
     "name": "stdout",
     "output_type": "stream",
     "text": [
      "VCP\n",
      "      Iter       Train Loss   Remaining Time \n",
      "         1           0.9945            1.70m\n",
      "         2           0.9095            1.70m\n",
      "         3           0.8541            1.63m\n",
      "         4           0.8015            1.65m\n",
      "         5           0.7701            1.67m\n",
      "         6           0.7405            1.67m\n",
      "         7           0.7193            1.63m\n",
      "         8           0.6982            1.62m\n",
      "         9           0.6802            1.61m\n",
      "        10           0.6640            1.61m\n",
      "        20           0.5659            1.51m\n",
      "        30           0.5043            1.39m\n",
      "        40           0.4562            1.30m\n",
      "        50           0.4095            1.24m\n",
      "        60           0.3724            1.14m\n",
      "        70           0.3422            1.05m\n",
      "        80           0.3117           58.00s\n",
      "        90           0.2871           53.07s\n",
      "       100           0.2663           48.16s\n",
      "       200           0.1212            0.00s\n",
      "aws s3 cp /shared/CSHL_classifiers/setting_33/classifiers/VCP_clf_setting_33.dump s3://mousebrainatlas-data/CSHL_classifiers/setting_33/classifiers/VCP_clf_setting_33.dump\n"
     ]
    },
    {
     "name": "stderr",
     "output_type": "stream",
     "text": [
      "Fitting classifier: 97.04 seconds\n",
      "Child returned 0\n",
      "0.49 seconds.\n"
     ]
    },
    {
     "name": "stdout",
     "output_type": "stream",
     "text": [
      "SNC\n",
      "      Iter       Train Loss   Remaining Time \n",
      "         1           1.0913            1.26m\n",
      "         2           0.9864            1.22m\n",
      "         3           0.9110            1.22m\n",
      "         4           0.8513            1.19m\n",
      "         5           0.8056            1.19m\n",
      "         6           0.7714            1.19m\n",
      "         7           0.7429            1.19m\n",
      "         8           0.7177            1.18m\n",
      "         9           0.6988            1.18m\n",
      "        10           0.6774            1.18m\n",
      "        20           0.5508            1.10m\n",
      "        30           0.4705            1.02m\n",
      "        40           0.4145           56.02s\n",
      "        50           0.3717           51.57s\n",
      "        60           0.3340           47.63s\n",
      "        70           0.2993           43.84s\n",
      "        80           0.2670           40.61s\n",
      "        90           0.2389           37.14s\n",
      "       100           0.2158           33.66s\n",
      "       200           0.0845            0.00s\n",
      "aws s3 cp /shared/CSHL_classifiers/setting_33/classifiers/SNC_clf_setting_33.dump s3://mousebrainatlas-data/CSHL_classifiers/setting_33/classifiers/SNC_clf_setting_33.dump\n"
     ]
    },
    {
     "name": "stderr",
     "output_type": "stream",
     "text": [
      "Fitting classifier: 66.53 seconds\n",
      "Child returned 0\n",
      "1.01 seconds.\n"
     ]
    },
    {
     "name": "stdout",
     "output_type": "stream",
     "text": [
      "6N\n",
      "      Iter       Train Loss   Remaining Time \n",
      "         1           0.6789           28.71s\n",
      "         2           0.5683           28.34s\n",
      "         3           0.4917           28.10s\n",
      "         4           0.4332           28.28s\n",
      "         5           0.3847           28.50s\n",
      "         6           0.3497           28.94s\n",
      "         7           0.3224           28.90s\n",
      "         8           0.2970           28.87s\n",
      "         9           0.2783           28.64s\n",
      "        10           0.2553           28.79s\n",
      "        20           0.1597           26.61s\n",
      "        30           0.0990           25.53s\n",
      "        40           0.0636           24.06s\n",
      "        50           0.0457           22.34s\n",
      "        60           0.0330           20.83s\n",
      "        70           0.0229           19.38s\n",
      "        80           0.0169           17.81s\n",
      "        90           0.0126           16.29s\n",
      "       100           0.0099           14.74s\n",
      "       200           0.0018            0.00s\n",
      "aws s3 cp /shared/CSHL_classifiers/setting_33/classifiers/6N_clf_setting_33.dump s3://mousebrainatlas-data/CSHL_classifiers/setting_33/classifiers/6N_clf_setting_33.dump\n"
     ]
    },
    {
     "name": "stderr",
     "output_type": "stream",
     "text": [
      "Fitting classifier: 29.05 seconds\n",
      "Child returned 0\n",
      "0.44 seconds.\n"
     ]
    },
    {
     "name": "stdout",
     "output_type": "stream",
     "text": [
      "SNR\n",
      "      Iter       Train Loss   Remaining Time \n",
      "         1           1.1277            1.32m\n",
      "         2           1.0347            1.30m\n",
      "         3           0.9697            1.29m\n",
      "         4           0.9169            1.28m\n",
      "         5           0.8762            1.27m\n",
      "         6           0.8432            1.25m\n",
      "         7           0.8176            1.25m\n",
      "         8           0.7955            1.23m\n",
      "         9           0.7730            1.22m\n",
      "        10           0.7559            1.21m\n",
      "        20           0.6290            1.13m\n",
      "        30           0.5558            1.03m\n",
      "        40           0.4918           58.35s\n",
      "        50           0.4445           54.05s\n",
      "        60           0.4031           49.92s\n",
      "        70           0.3677           46.17s\n",
      "        80           0.3344           42.48s\n",
      "        90           0.3023           39.13s\n",
      "       100           0.2793           35.36s\n",
      "       200           0.1131            0.00s\n",
      "aws s3 cp /shared/CSHL_classifiers/setting_33/classifiers/SNR_clf_setting_33.dump s3://mousebrainatlas-data/CSHL_classifiers/setting_33/classifiers/SNR_clf_setting_33.dump\n"
     ]
    },
    {
     "name": "stderr",
     "output_type": "stream",
     "text": [
      "Fitting classifier: 71.24 seconds\n",
      "Child returned 0\n",
      "0.44 seconds.\n"
     ]
    },
    {
     "name": "stdout",
     "output_type": "stream",
     "text": [
      "SC\n",
      "      Iter       Train Loss   Remaining Time \n",
      "         1           1.1950            1.28m\n",
      "         2           1.1496            1.24m\n",
      "         3           1.1167            1.25m\n",
      "         4           1.0894            1.24m\n",
      "         5           1.0683            1.22m\n",
      "         6           1.0479            1.22m\n",
      "         7           1.0303            1.20m\n",
      "         8           1.0168            1.18m\n",
      "         9           1.0041            1.16m\n",
      "        10           0.9918            1.15m\n",
      "        20           0.8979            1.04m\n",
      "        30           0.8275           58.22s\n",
      "        40           0.7738           54.23s\n",
      "        50           0.7210           50.48s\n",
      "        60           0.6806           46.53s\n",
      "        70           0.6434           43.20s\n",
      "        80           0.6010           39.92s\n",
      "        90           0.5644           36.57s\n",
      "       100           0.5272           33.32s\n",
      "       200           0.2856            0.00s\n",
      "aws s3 cp /shared/CSHL_classifiers/setting_33/classifiers/SC_clf_setting_33.dump s3://mousebrainatlas-data/CSHL_classifiers/setting_33/classifiers/SC_clf_setting_33.dump\n"
     ]
    },
    {
     "name": "stderr",
     "output_type": "stream",
     "text": [
      "Fitting classifier: 67.76 seconds\n",
      "Child returned 0\n",
      "0.55 seconds.\n"
     ]
    },
    {
     "name": "stdout",
     "output_type": "stream",
     "text": [
      "3N\n",
      "      Iter       Train Loss   Remaining Time \n",
      "         1           1.1771           51.92s\n",
      "         2           1.0426           50.97s\n",
      "         3           0.9495           50.47s\n",
      "         4           0.8786           50.12s\n",
      "         5           0.8195           49.59s\n",
      "         6           0.7763           49.46s\n",
      "         7           0.7353           48.85s\n",
      "         8           0.7051           48.63s\n",
      "         9           0.6801           48.42s\n",
      "        10           0.6570           48.14s\n",
      "        20           0.4999           43.73s\n",
      "        30           0.4076           40.10s\n",
      "        40           0.3430           37.07s\n",
      "        50           0.2935           34.71s\n",
      "        60           0.2471           32.32s\n",
      "        70           0.2137           29.75s\n",
      "        80           0.1801           27.59s\n",
      "        90           0.1560           25.16s\n",
      "       100           0.1336           22.82s\n",
      "       200           0.0348            0.00s\n",
      "aws s3 cp /shared/CSHL_classifiers/setting_33/classifiers/3N_clf_setting_33.dump s3://mousebrainatlas-data/CSHL_classifiers/setting_33/classifiers/3N_clf_setting_33.dump\n"
     ]
    },
    {
     "name": "stderr",
     "output_type": "stream",
     "text": [
      "Fitting classifier: 45.03 seconds\n",
      "Child returned 0\n",
      "0.44 seconds.\n"
     ]
    }
   ],
   "source": [
    "clf_dir = create_if_not_exists(os.path.join(setting_dir, 'classifiers'))\n",
    "\n",
    "for structure in structures_found:\n",
    "\n",
    "    print structure\n",
    "    \n",
    "    #############################\n",
    "    ## Define Positive Samples ##\n",
    "    #############################\n",
    "    \n",
    "    features_pos = training_features[structure]\n",
    "    n_pos = len(features_pos)\n",
    "    \n",
    "    #############################\n",
    "    ## Define Negative Samples ##\n",
    "    #############################\n",
    "    \n",
    "#     if setting in [1, 3, 4, 5, 6, 7]:\n",
    "    if neg_composition == 'neg_has_only_surround_noclass':\n",
    "        neg_classes = [convert_to_surround_name(structure, margin=margin, suffix='noclass')]\n",
    "#     elif setting in [2, 10, 23, 24, 25, 26]:\n",
    "    elif neg_composition == 'neg_has_all_surround':\n",
    "        neg_classes = [convert_to_surround_name(structure, margin=margin, suffix='noclass')]\n",
    "        for surr_s in structures_found:\n",
    "            c = convert_to_surround_name(structure, margin=margin, suffix=surr_s)\n",
    "            if c in labels_found:\n",
    "                neg_classes.append(c)\n",
    "#     elif setting in [8,9,11]:\n",
    "    elif neg_composition == 'neg_has_everything_else':\n",
    "        neg_classes = [structure + '_negative']\n",
    "    else:\n",
    "        raise Exception('neg_composition %s is not recognized.' % neg_composition)\n",
    "\n",
    "    features_neg = np.concatenate([training_features[neg_class] for neg_class in neg_classes])\n",
    "        \n",
    "    n_neg = len(features_neg)\n",
    "        \n",
    "    ###########################\n",
    "    ## Define Sample Weights ##\n",
    "    ###########################\n",
    "    \n",
    "#     if setting == 9:\n",
    "    if sample_weighting == 'weighted':\n",
    "        neg_distances = np.concatenate([distances_to_structures[neg_class][structure] for neg_class in neg_classes])\n",
    "            \n",
    "        sample_weights_neg = np.ones((n_neg,))\n",
    "        sample_weights_neg[neg_distances > thresh] = diminishing(neg_distances[neg_distances > thresh])\n",
    "        sample_weights = np.r_[np.ones((n_pos,)), sample_weights_neg]\n",
    "    else:\n",
    "        sample_weights = None\n",
    "    \n",
    "    ###########################################################################################\n",
    "\n",
    "    train_data = np.r_[features_pos, features_neg]\n",
    "    train_labels = np.r_[np.ones((features_pos.shape[0], )), \n",
    "                         -np.ones((features_neg.shape[0], ))]\n",
    "    \n",
    "#     n_train = len(train_labels0)\n",
    "#     ri = np.random.choice(range(n_train), size=100, replace=False)\n",
    "#     train_data = train_data0[ri]\n",
    "#     train_labels = train_labels0[ri]\n",
    "    \n",
    "    ##################\n",
    "    ## Define Model ##\n",
    "    ##################\n",
    "    \n",
    "#     if setting in [1, 2, 8, 9, 10, 11, 23, 24]:\n",
    "    if model == 'lr':\n",
    "        clf = LogisticRegression(penalty='l2', dual=False, tol=0.0001, C=1.0, \n",
    "                                 fit_intercept=True, intercept_scaling=1, class_weight=None, \n",
    "                                 random_state=None, solver='liblinear', max_iter=100, multi_class='ovr', \n",
    "                                 verbose=0, warm_start=False, n_jobs=1)\n",
    "            \n",
    "#     elif setting == 3:\n",
    "    elif model == 'lin_svc':\n",
    "        clf = SVC(C=1.0, kernel='linear', degree=3, gamma='auto', coef0=0.0, shrinking=True, \n",
    "                  probability=True, tol=0.001, cache_size=1000, max_iter=-1,\n",
    "              decision_function_shape=None, random_state=None)\n",
    "        \n",
    "\n",
    "#     elif setting == 4:\n",
    "    elif model == 'lin_svc_calib':\n",
    "        \n",
    "        sv_uncalibrated = LinearSVC(penalty='l2', loss='squared_hinge', dual=True, tol=0.0001, \n",
    "                                C=1.0, multi_class='ovr', \n",
    "                                fit_intercept=True, intercept_scaling=1, max_iter=100)\n",
    "        clf = CalibratedClassifierCV(sv_uncalibrated)\n",
    "        \n",
    "        \n",
    "#     elif setting in [5]:        \n",
    "    elif model == 'xgb1':\n",
    "        clf = XGBClassifier(max_depth=3, learning_rate=0.2, n_estimators=200, \n",
    "                            silent=False, objective='binary:logistic', nthread=-1, gamma=0, \n",
    "                            min_child_weight=20, max_delta_step=0, subsample=.8, \n",
    "                            colsample_bytree=.8, colsample_bylevel=1, reg_alpha=0, reg_lambda=1, \n",
    "                            scale_pos_weight=1, base_score=0.5, seed=0, missing=None)\n",
    "        \n",
    "#     elif setting in [6, 25]:\n",
    "    elif model == 'gb1':\n",
    "        clf = GradientBoostingClassifier(loss='deviance', learning_rate=0.3, n_estimators=200, \n",
    "                                         subsample=1., criterion='friedman_mse', \n",
    "                                         min_samples_split=50, min_samples_leaf=20, \n",
    "                                         min_weight_fraction_leaf=0.0, max_depth=3, \n",
    "                                         min_impurity_split=1e-07, init=None, random_state=None, \n",
    "                                         max_features=None, verbose=1, max_leaf_nodes=None, \n",
    "                                         warm_start=False, presort='auto')\n",
    "        \n",
    "#     elif setting in [7, 26]:     \n",
    "    elif model == 'gb2':\n",
    "        clf = GradientBoostingClassifier(loss='deviance', learning_rate=0.3, n_estimators=100, \n",
    "                                         subsample=1., criterion='friedman_mse', \n",
    "                                         min_samples_split=50, min_samples_leaf=20, \n",
    "                                         min_weight_fraction_leaf=0.0, max_depth=5, \n",
    "                                         min_impurity_split=1e-07, init=None, random_state=None, \n",
    "                                         max_features=None, verbose=1, max_leaf_nodes=None, \n",
    "                                         warm_start=False, presort='auto')\n",
    "        \n",
    "    \n",
    "    else:\n",
    "        sys.stderr.write('Setting is not recognized.\\n')\n",
    "\n",
    "    \n",
    "    t = time.time()    \n",
    "    clf.fit(train_data, train_labels, sample_weight=sample_weights)\n",
    "    sys.stderr.write('Fitting classifier: %.2f seconds\\n' % (time.time() - t))\n",
    "\n",
    "    clf_fp = os.path.join(clf_dir, '%(structure)s_clf_setting_%(setting)d.dump' % \\\n",
    "                                  dict(structure=structure, setting=classifier_id))\n",
    "    \n",
    "    joblib.dump(clf, clf_fp)\n",
    "    \n",
    "    upload_from_ec2_to_s3(clf_fp)"
   ]
  },
  {
   "cell_type": "markdown",
   "metadata": {},
   "source": [
    "# Load pre-computed classifiers, measure training accuracy"
   ]
  },
  {
   "cell_type": "code",
   "execution_count": 12,
   "metadata": {
    "collapsed": true
   },
   "outputs": [],
   "source": [
    "classifier_id = 33"
   ]
  },
  {
   "cell_type": "code",
   "execution_count": 13,
   "metadata": {
    "scrolled": true
   },
   "outputs": [
    {
     "name": "stderr",
     "output_type": "stream",
     "text": [
      "Child returned 0\n"
     ]
    },
    {
     "name": "stdout",
     "output_type": "stream",
     "text": [
      "rm -rf /shared/CSHL_classifiers/setting_33/classifiers/5N_clf_setting_33.dump && mkdir -p /shared/CSHL_classifiers/setting_33/classifiers\n",
      "aws s3 cp s3://mousebrainatlas-data/CSHL_classifiers/setting_33/classifiers/5N_clf_setting_33.dump /shared/CSHL_classifiers/setting_33/classifiers/5N_clf_setting_33.dump\n"
     ]
    },
    {
     "name": "stderr",
     "output_type": "stream",
     "text": [
      "Child returned 0\n",
      "0.51 seconds.\n",
      "Child returned 0\n"
     ]
    },
    {
     "name": "stdout",
     "output_type": "stream",
     "text": [
      "rm -rf /shared/CSHL_classifiers/setting_33/classifiers/6N_clf_setting_33.dump && mkdir -p /shared/CSHL_classifiers/setting_33/classifiers\n",
      "aws s3 cp s3://mousebrainatlas-data/CSHL_classifiers/setting_33/classifiers/6N_clf_setting_33.dump /shared/CSHL_classifiers/setting_33/classifiers/6N_clf_setting_33.dump\n"
     ]
    },
    {
     "name": "stderr",
     "output_type": "stream",
     "text": [
      "Child returned 0\n",
      "0.51 seconds.\n",
      "Child returned 0\n"
     ]
    },
    {
     "name": "stdout",
     "output_type": "stream",
     "text": [
      "rm -rf /shared/CSHL_classifiers/setting_33/classifiers/7N_clf_setting_33.dump && mkdir -p /shared/CSHL_classifiers/setting_33/classifiers\n",
      "aws s3 cp s3://mousebrainatlas-data/CSHL_classifiers/setting_33/classifiers/7N_clf_setting_33.dump /shared/CSHL_classifiers/setting_33/classifiers/7N_clf_setting_33.dump\n"
     ]
    },
    {
     "name": "stderr",
     "output_type": "stream",
     "text": [
      "Child returned 0\n",
      "0.51 seconds.\n",
      "Child returned 0\n"
     ]
    },
    {
     "name": "stdout",
     "output_type": "stream",
     "text": [
      "rm -rf /shared/CSHL_classifiers/setting_33/classifiers/7n_clf_setting_33.dump && mkdir -p /shared/CSHL_classifiers/setting_33/classifiers\n",
      "aws s3 cp s3://mousebrainatlas-data/CSHL_classifiers/setting_33/classifiers/7n_clf_setting_33.dump /shared/CSHL_classifiers/setting_33/classifiers/7n_clf_setting_33.dump\n"
     ]
    },
    {
     "name": "stderr",
     "output_type": "stream",
     "text": [
      "Child returned 0\n",
      "0.50 seconds.\n",
      "Child returned 0\n"
     ]
    },
    {
     "name": "stdout",
     "output_type": "stream",
     "text": [
      "rm -rf /shared/CSHL_classifiers/setting_33/classifiers/Amb_clf_setting_33.dump && mkdir -p /shared/CSHL_classifiers/setting_33/classifiers\n",
      "aws s3 cp s3://mousebrainatlas-data/CSHL_classifiers/setting_33/classifiers/Amb_clf_setting_33.dump /shared/CSHL_classifiers/setting_33/classifiers/Amb_clf_setting_33.dump\n"
     ]
    },
    {
     "name": "stderr",
     "output_type": "stream",
     "text": [
      "Child returned 0\n",
      "0.45 seconds.\n",
      "Child returned 0\n"
     ]
    },
    {
     "name": "stdout",
     "output_type": "stream",
     "text": [
      "rm -rf /shared/CSHL_classifiers/setting_33/classifiers/LC_clf_setting_33.dump && mkdir -p /shared/CSHL_classifiers/setting_33/classifiers\n",
      "aws s3 cp s3://mousebrainatlas-data/CSHL_classifiers/setting_33/classifiers/LC_clf_setting_33.dump /shared/CSHL_classifiers/setting_33/classifiers/LC_clf_setting_33.dump\n"
     ]
    },
    {
     "name": "stderr",
     "output_type": "stream",
     "text": [
      "Child returned 0\n",
      "0.50 seconds.\n",
      "Child returned 0\n"
     ]
    },
    {
     "name": "stdout",
     "output_type": "stream",
     "text": [
      "rm -rf /shared/CSHL_classifiers/setting_33/classifiers/LRt_clf_setting_33.dump && mkdir -p /shared/CSHL_classifiers/setting_33/classifiers\n",
      "aws s3 cp s3://mousebrainatlas-data/CSHL_classifiers/setting_33/classifiers/LRt_clf_setting_33.dump /shared/CSHL_classifiers/setting_33/classifiers/LRt_clf_setting_33.dump\n"
     ]
    },
    {
     "name": "stderr",
     "output_type": "stream",
     "text": [
      "Child returned 0\n",
      "0.47 seconds.\n",
      "Child returned 0\n"
     ]
    },
    {
     "name": "stdout",
     "output_type": "stream",
     "text": [
      "rm -rf /shared/CSHL_classifiers/setting_33/classifiers/Pn_clf_setting_33.dump && mkdir -p /shared/CSHL_classifiers/setting_33/classifiers\n",
      "aws s3 cp s3://mousebrainatlas-data/CSHL_classifiers/setting_33/classifiers/Pn_clf_setting_33.dump /shared/CSHL_classifiers/setting_33/classifiers/Pn_clf_setting_33.dump\n"
     ]
    },
    {
     "name": "stderr",
     "output_type": "stream",
     "text": [
      "Child returned 0\n",
      "0.51 seconds.\n",
      "Child returned 0\n"
     ]
    },
    {
     "name": "stdout",
     "output_type": "stream",
     "text": [
      "rm -rf /shared/CSHL_classifiers/setting_33/classifiers/Tz_clf_setting_33.dump && mkdir -p /shared/CSHL_classifiers/setting_33/classifiers\n",
      "aws s3 cp s3://mousebrainatlas-data/CSHL_classifiers/setting_33/classifiers/Tz_clf_setting_33.dump /shared/CSHL_classifiers/setting_33/classifiers/Tz_clf_setting_33.dump\n"
     ]
    },
    {
     "name": "stderr",
     "output_type": "stream",
     "text": [
      "Child returned 0\n",
      "0.51 seconds.\n",
      "Child returned 0\n"
     ]
    },
    {
     "name": "stdout",
     "output_type": "stream",
     "text": [
      "rm -rf /shared/CSHL_classifiers/setting_33/classifiers/VLL_clf_setting_33.dump && mkdir -p /shared/CSHL_classifiers/setting_33/classifiers\n",
      "aws s3 cp s3://mousebrainatlas-data/CSHL_classifiers/setting_33/classifiers/VLL_clf_setting_33.dump /shared/CSHL_classifiers/setting_33/classifiers/VLL_clf_setting_33.dump\n"
     ]
    },
    {
     "name": "stderr",
     "output_type": "stream",
     "text": [
      "Child returned 0\n",
      "1.37 seconds.\n",
      "Child returned 0\n"
     ]
    },
    {
     "name": "stdout",
     "output_type": "stream",
     "text": [
      "rm -rf /shared/CSHL_classifiers/setting_33/classifiers/RMC_clf_setting_33.dump && mkdir -p /shared/CSHL_classifiers/setting_33/classifiers\n",
      "aws s3 cp s3://mousebrainatlas-data/CSHL_classifiers/setting_33/classifiers/RMC_clf_setting_33.dump /shared/CSHL_classifiers/setting_33/classifiers/RMC_clf_setting_33.dump\n"
     ]
    },
    {
     "name": "stderr",
     "output_type": "stream",
     "text": [
      "Child returned 0\n",
      "0.52 seconds.\n",
      "Child returned 0\n"
     ]
    },
    {
     "name": "stdout",
     "output_type": "stream",
     "text": [
      "rm -rf /shared/CSHL_classifiers/setting_33/classifiers/SNC_clf_setting_33.dump && mkdir -p /shared/CSHL_classifiers/setting_33/classifiers\n",
      "aws s3 cp s3://mousebrainatlas-data/CSHL_classifiers/setting_33/classifiers/SNC_clf_setting_33.dump /shared/CSHL_classifiers/setting_33/classifiers/SNC_clf_setting_33.dump\n"
     ]
    },
    {
     "name": "stderr",
     "output_type": "stream",
     "text": [
      "Child returned 0\n",
      "0.56 seconds.\n",
      "Child returned 0\n"
     ]
    },
    {
     "name": "stdout",
     "output_type": "stream",
     "text": [
      "rm -rf /shared/CSHL_classifiers/setting_33/classifiers/SNR_clf_setting_33.dump && mkdir -p /shared/CSHL_classifiers/setting_33/classifiers\n",
      "aws s3 cp s3://mousebrainatlas-data/CSHL_classifiers/setting_33/classifiers/SNR_clf_setting_33.dump /shared/CSHL_classifiers/setting_33/classifiers/SNR_clf_setting_33.dump\n"
     ]
    },
    {
     "name": "stderr",
     "output_type": "stream",
     "text": [
      "Child returned 0\n",
      "0.63 seconds.\n",
      "Child returned 0\n"
     ]
    },
    {
     "name": "stdout",
     "output_type": "stream",
     "text": [
      "rm -rf /shared/CSHL_classifiers/setting_33/classifiers/3N_clf_setting_33.dump && mkdir -p /shared/CSHL_classifiers/setting_33/classifiers\n",
      "aws s3 cp s3://mousebrainatlas-data/CSHL_classifiers/setting_33/classifiers/3N_clf_setting_33.dump /shared/CSHL_classifiers/setting_33/classifiers/3N_clf_setting_33.dump\n"
     ]
    },
    {
     "name": "stderr",
     "output_type": "stream",
     "text": [
      "Child returned 0\n",
      "0.46 seconds.\n",
      "Child returned 0\n"
     ]
    },
    {
     "name": "stdout",
     "output_type": "stream",
     "text": [
      "rm -rf /shared/CSHL_classifiers/setting_33/classifiers/4N_clf_setting_33.dump && mkdir -p /shared/CSHL_classifiers/setting_33/classifiers\n",
      "aws s3 cp s3://mousebrainatlas-data/CSHL_classifiers/setting_33/classifiers/4N_clf_setting_33.dump /shared/CSHL_classifiers/setting_33/classifiers/4N_clf_setting_33.dump\n"
     ]
    },
    {
     "name": "stderr",
     "output_type": "stream",
     "text": [
      "Child returned 0\n",
      "0.51 seconds.\n",
      "Child returned 0\n"
     ]
    },
    {
     "name": "stdout",
     "output_type": "stream",
     "text": [
      "rm -rf /shared/CSHL_classifiers/setting_33/classifiers/Sp5I_clf_setting_33.dump && mkdir -p /shared/CSHL_classifiers/setting_33/classifiers\n",
      "aws s3 cp s3://mousebrainatlas-data/CSHL_classifiers/setting_33/classifiers/Sp5I_clf_setting_33.dump /shared/CSHL_classifiers/setting_33/classifiers/Sp5I_clf_setting_33.dump\n"
     ]
    },
    {
     "name": "stderr",
     "output_type": "stream",
     "text": [
      "Child returned 0\n",
      "0.51 seconds.\n",
      "Child returned 0\n"
     ]
    },
    {
     "name": "stdout",
     "output_type": "stream",
     "text": [
      "rm -rf /shared/CSHL_classifiers/setting_33/classifiers/Sp5O_clf_setting_33.dump && mkdir -p /shared/CSHL_classifiers/setting_33/classifiers\n",
      "aws s3 cp s3://mousebrainatlas-data/CSHL_classifiers/setting_33/classifiers/Sp5O_clf_setting_33.dump /shared/CSHL_classifiers/setting_33/classifiers/Sp5O_clf_setting_33.dump\n"
     ]
    },
    {
     "name": "stderr",
     "output_type": "stream",
     "text": [
      "Child returned 0\n",
      "0.44 seconds.\n",
      "Child returned 0\n"
     ]
    },
    {
     "name": "stdout",
     "output_type": "stream",
     "text": [
      "rm -rf /shared/CSHL_classifiers/setting_33/classifiers/Sp5C_clf_setting_33.dump && mkdir -p /shared/CSHL_classifiers/setting_33/classifiers\n",
      "aws s3 cp s3://mousebrainatlas-data/CSHL_classifiers/setting_33/classifiers/Sp5C_clf_setting_33.dump /shared/CSHL_classifiers/setting_33/classifiers/Sp5C_clf_setting_33.dump\n"
     ]
    },
    {
     "name": "stderr",
     "output_type": "stream",
     "text": [
      "Child returned 0\n",
      "0.46 seconds.\n",
      "Child returned 0\n"
     ]
    },
    {
     "name": "stdout",
     "output_type": "stream",
     "text": [
      "rm -rf /shared/CSHL_classifiers/setting_33/classifiers/PBG_clf_setting_33.dump && mkdir -p /shared/CSHL_classifiers/setting_33/classifiers\n",
      "aws s3 cp s3://mousebrainatlas-data/CSHL_classifiers/setting_33/classifiers/PBG_clf_setting_33.dump /shared/CSHL_classifiers/setting_33/classifiers/PBG_clf_setting_33.dump\n"
     ]
    },
    {
     "name": "stderr",
     "output_type": "stream",
     "text": [
      "Child returned 0\n",
      "0.44 seconds.\n",
      "Child returned 0\n"
     ]
    },
    {
     "name": "stdout",
     "output_type": "stream",
     "text": [
      "rm -rf /shared/CSHL_classifiers/setting_33/classifiers/10N_clf_setting_33.dump && mkdir -p /shared/CSHL_classifiers/setting_33/classifiers\n",
      "aws s3 cp s3://mousebrainatlas-data/CSHL_classifiers/setting_33/classifiers/10N_clf_setting_33.dump /shared/CSHL_classifiers/setting_33/classifiers/10N_clf_setting_33.dump\n"
     ]
    },
    {
     "name": "stderr",
     "output_type": "stream",
     "text": [
      "Child returned 0\n",
      "0.51 seconds.\n",
      "Child returned 0\n"
     ]
    },
    {
     "name": "stdout",
     "output_type": "stream",
     "text": [
      "rm -rf /shared/CSHL_classifiers/setting_33/classifiers/VCA_clf_setting_33.dump && mkdir -p /shared/CSHL_classifiers/setting_33/classifiers\n",
      "aws s3 cp s3://mousebrainatlas-data/CSHL_classifiers/setting_33/classifiers/VCA_clf_setting_33.dump /shared/CSHL_classifiers/setting_33/classifiers/VCA_clf_setting_33.dump\n"
     ]
    },
    {
     "name": "stderr",
     "output_type": "stream",
     "text": [
      "Child returned 0\n",
      "0.51 seconds.\n",
      "Child returned 0\n"
     ]
    },
    {
     "name": "stdout",
     "output_type": "stream",
     "text": [
      "rm -rf /shared/CSHL_classifiers/setting_33/classifiers/VCP_clf_setting_33.dump && mkdir -p /shared/CSHL_classifiers/setting_33/classifiers\n",
      "aws s3 cp s3://mousebrainatlas-data/CSHL_classifiers/setting_33/classifiers/VCP_clf_setting_33.dump /shared/CSHL_classifiers/setting_33/classifiers/VCP_clf_setting_33.dump\n"
     ]
    },
    {
     "name": "stderr",
     "output_type": "stream",
     "text": [
      "Child returned 0\n",
      "0.49 seconds.\n",
      "Child returned 0\n"
     ]
    },
    {
     "name": "stdout",
     "output_type": "stream",
     "text": [
      "rm -rf /shared/CSHL_classifiers/setting_33/classifiers/DC_clf_setting_33.dump && mkdir -p /shared/CSHL_classifiers/setting_33/classifiers\n",
      "aws s3 cp s3://mousebrainatlas-data/CSHL_classifiers/setting_33/classifiers/DC_clf_setting_33.dump /shared/CSHL_classifiers/setting_33/classifiers/DC_clf_setting_33.dump\n"
     ]
    },
    {
     "name": "stderr",
     "output_type": "stream",
     "text": [
      "Child returned 0\n",
      "0.44 seconds.\n",
      "Child returned 0\n"
     ]
    },
    {
     "name": "stdout",
     "output_type": "stream",
     "text": [
      "rm -rf /shared/CSHL_classifiers/setting_33/classifiers/AP_clf_setting_33.dump && mkdir -p /shared/CSHL_classifiers/setting_33/classifiers\n",
      "aws s3 cp s3://mousebrainatlas-data/CSHL_classifiers/setting_33/classifiers/AP_clf_setting_33.dump /shared/CSHL_classifiers/setting_33/classifiers/AP_clf_setting_33.dump\n"
     ]
    },
    {
     "name": "stderr",
     "output_type": "stream",
     "text": [
      "Child returned 0\n",
      "0.45 seconds.\n",
      "Child returned 0\n"
     ]
    },
    {
     "name": "stdout",
     "output_type": "stream",
     "text": [
      "rm -rf /shared/CSHL_classifiers/setting_33/classifiers/12N_clf_setting_33.dump && mkdir -p /shared/CSHL_classifiers/setting_33/classifiers\n",
      "aws s3 cp s3://mousebrainatlas-data/CSHL_classifiers/setting_33/classifiers/12N_clf_setting_33.dump /shared/CSHL_classifiers/setting_33/classifiers/12N_clf_setting_33.dump\n"
     ]
    },
    {
     "name": "stderr",
     "output_type": "stream",
     "text": [
      "Child returned 0\n",
      "0.51 seconds.\n",
      "Child returned 0\n"
     ]
    },
    {
     "name": "stdout",
     "output_type": "stream",
     "text": [
      "rm -rf /shared/CSHL_classifiers/setting_33/classifiers/RtTg_clf_setting_33.dump && mkdir -p /shared/CSHL_classifiers/setting_33/classifiers\n",
      "aws s3 cp s3://mousebrainatlas-data/CSHL_classifiers/setting_33/classifiers/RtTg_clf_setting_33.dump /shared/CSHL_classifiers/setting_33/classifiers/RtTg_clf_setting_33.dump\n"
     ]
    },
    {
     "name": "stderr",
     "output_type": "stream",
     "text": [
      "Child returned 0\n",
      "0.56 seconds.\n",
      "Child returned 0\n"
     ]
    },
    {
     "name": "stdout",
     "output_type": "stream",
     "text": [
      "rm -rf /shared/CSHL_classifiers/setting_33/classifiers/sp5_clf_setting_33.dump && mkdir -p /shared/CSHL_classifiers/setting_33/classifiers\n",
      "aws s3 cp s3://mousebrainatlas-data/CSHL_classifiers/setting_33/classifiers/sp5_clf_setting_33.dump /shared/CSHL_classifiers/setting_33/classifiers/sp5_clf_setting_33.dump\n"
     ]
    },
    {
     "name": "stderr",
     "output_type": "stream",
     "text": [
      "Child returned 1\n",
      "0.39 seconds.\n",
      "Classifier for sp5 is not found.\n",
      "Child returned 0\n"
     ]
    },
    {
     "name": "stdout",
     "output_type": "stream",
     "text": [
      "rm -rf /shared/CSHL_classifiers/setting_33/classifiers/outerContour_clf_setting_33.dump && mkdir -p /shared/CSHL_classifiers/setting_33/classifiers\n",
      "aws s3 cp s3://mousebrainatlas-data/CSHL_classifiers/setting_33/classifiers/outerContour_clf_setting_33.dump /shared/CSHL_classifiers/setting_33/classifiers/outerContour_clf_setting_33.dump\n"
     ]
    },
    {
     "name": "stderr",
     "output_type": "stream",
     "text": [
      "Child returned 1\n",
      "0.38 seconds.\n",
      "Classifier for outerContour is not found.\n",
      "Child returned 0\n"
     ]
    },
    {
     "name": "stdout",
     "output_type": "stream",
     "text": [
      "rm -rf /shared/CSHL_classifiers/setting_33/classifiers/SC_clf_setting_33.dump && mkdir -p /shared/CSHL_classifiers/setting_33/classifiers\n",
      "aws s3 cp s3://mousebrainatlas-data/CSHL_classifiers/setting_33/classifiers/SC_clf_setting_33.dump /shared/CSHL_classifiers/setting_33/classifiers/SC_clf_setting_33.dump\n"
     ]
    },
    {
     "name": "stderr",
     "output_type": "stream",
     "text": [
      "Child returned 0\n",
      "0.50 seconds.\n",
      "Child returned 0\n"
     ]
    },
    {
     "name": "stdout",
     "output_type": "stream",
     "text": [
      "rm -rf /shared/CSHL_classifiers/setting_33/classifiers/IC_clf_setting_33.dump && mkdir -p /shared/CSHL_classifiers/setting_33/classifiers\n",
      "aws s3 cp s3://mousebrainatlas-data/CSHL_classifiers/setting_33/classifiers/IC_clf_setting_33.dump /shared/CSHL_classifiers/setting_33/classifiers/IC_clf_setting_33.dump\n"
     ]
    },
    {
     "name": "stderr",
     "output_type": "stream",
     "text": [
      "Child returned 0\n",
      "0.46 seconds.\n"
     ]
    }
   ],
   "source": [
    "clf_allClasses = {}\n",
    "for structure in structures_to_sample:\n",
    "    clf_fp = os.path.join(setting_dir, 'classifiers', '%(structure)s_clf_setting_%(setting)d.dump' % {'structure': structure, 'setting':classifier_id})\n",
    "    download_from_s3_to_ec2(clf_fp)\n",
    "    if os.path.exists(clf_fp):\n",
    "        clf_allClasses[structure] = joblib.load(clf_fp)\n",
    "    else:\n",
    "        sys.stderr.write('Classifier for %s is not found.\\n' % structure)"
   ]
  },
  {
   "cell_type": "code",
   "execution_count": 14,
   "metadata": {
    "collapsed": true
   },
   "outputs": [],
   "source": [
    "margin = 500\n",
    "neg_composition = 'neg_has_all_surround'"
   ]
  },
  {
   "cell_type": "code",
   "execution_count": 15,
   "metadata": {},
   "outputs": [
    {
     "data": {
      "image/png": "[encoded data removed]",
      "text/plain": [
       "<matplotlib.figure.Figure at 0x7fe80e410610>"
      ]
     },
     "metadata": {},
     "output_type": "display_data"
    }
   ],
   "source": [
    "# Compute training accuracy\n",
    "\n",
    "acc_all_structures = {}\n",
    "\n",
    "ncols = 5\n",
    "nrows = int(np.ceil(len(structures_found)/float(ncols)))\n",
    "\n",
    "fig, axes = plt.subplots(nrows, ncols, figsize=(ncols*2, nrows*2), sharex=True, sharey=True)\n",
    "axes = axes.flatten()\n",
    "\n",
    "for i, structure in enumerate(structures_found):\n",
    "        \n",
    "    features_pos = training_features[structure]\n",
    "    n_pos = len(features_pos)\n",
    "    \n",
    "#     if setting in [1, 3, 4, 5, 6, 7]:\n",
    "#         neg_classes = [convert_to_surround_name(structure, margin=margin, suffix='noclass')]\n",
    "#     elif setting in [2, 10, 23, 24, 25, 26]:\n",
    "#         neg_classes = [convert_to_surround_name(structure, margin=margin, suffix='noclass')]            \n",
    "#         for surr_l in structures_found:\n",
    "#             c = convert_to_surround_name(structure, margin=margin, suffix=surr_l)\n",
    "#             if c in labels_found:\n",
    "#                 neg_classes.append(c)\n",
    "#     elif setting in [8,9,11]:\n",
    "#         neg_classes = [structure + '_negative']\n",
    "#     else:\n",
    "#         sys.stderr.write('Setting is not recognized.\\n')\n",
    "#         raise\n",
    "\n",
    "#     if setting in [1, 3, 4, 5, 6, 7]:\n",
    "    if neg_composition == 'neg_has_only_surround_noclass':\n",
    "        neg_classes = [convert_to_surround_name(structure, margin=margin, suffix='noclass')]\n",
    "#     elif setting in [2, 10, 23, 24, 25, 26]:\n",
    "    elif neg_composition == 'neg_has_all_surround':\n",
    "        neg_classes = [convert_to_surround_name(structure, margin=margin, suffix='noclass')]\n",
    "        for surr_s in structures_found:\n",
    "            c = convert_to_surround_name(structure, margin=margin, suffix=surr_s)\n",
    "            if c in labels_found:\n",
    "                neg_classes.append(c)\n",
    "#     elif setting in [8,9,11]:\n",
    "    elif neg_composition == 'neg_has_everything_else':\n",
    "        neg_classes = [structure + '_negative']\n",
    "    else:\n",
    "        raise Exception('Setting is not recognized.')\n",
    "        \n",
    "        \n",
    "    features_neg = np.concatenate([training_features[neg_class] for neg_class in neg_classes])\n",
    "#     neg_distances = np.concatenate([distances_to_structures[neg_class][label] for neg_class in neg_classes])\n",
    "        \n",
    "    n_neg = len(features_neg)\n",
    "    \n",
    "    train_data = np.r_[features_pos, features_neg]\n",
    "    train_labels = np.r_[np.ones((features_pos.shape[0], )), \n",
    "                         -np.ones((features_neg.shape[0], ))]\n",
    "    \n",
    "    clf = clf_allClasses[structure]\n",
    "    \n",
    "    probs = clf.predict_proba(train_data)[:, clf.classes_.tolist().index(1.)]\n",
    "    cm = compute_confusion_matrix(np.c_[probs, 1-probs], [0 if l==1. else 1 for l in train_labels], soft=True)\n",
    "    \n",
    "    acc_all_structures[structure] = (n_pos*cm[0,0] + n_neg*cm[1,1])/(n_pos + n_neg)\n",
    "    \n",
    "    plot_confusion_matrix(cm, title='%(structure)s'% {'structure':structure},\n",
    "                          labels=['',''],\n",
    "#                           labels=[label, convert_to_surround_name(label)],\n",
    "                         axis=axes[i])\n",
    "#     plt.show();\n",
    "\n",
    "plt.tight_layout()"
   ]
  },
  {
   "cell_type": "code",
   "execution_count": 16,
   "metadata": {},
   "outputs": [
    {
     "name": "stdout",
     "output_type": "stream",
     "text": [
      "training accuracy: 0.960697105946\n"
     ]
    }
   ],
   "source": [
    "print 'training accuracy:', np.mean(acc_all_structures.values())"
   ]
  },
  {
   "cell_type": "code",
   "execution_count": null,
   "metadata": {
    "collapsed": true
   },
   "outputs": [],
   "source": []
  },
  {
   "cell_type": "code",
   "execution_count": null,
   "metadata": {
    "collapsed": true
   },
   "outputs": [],
   "source": [
    "# Visualize training patches\n",
    "\n",
    "patches = extract_patches_given_locations_multiple_sections(training_addresses['12N'][:10], \n",
    "                                                            location_or_grid_index='grid_index',\n",
    "                                                            version='compressed')\n",
    "display_images_in_grids(patches, nc=10)\n",
    "\n",
    "# patches = extract_patches_given_locations_multiple_sections(training_addresses['12N_surround'][:10], \n",
    "#                                                             location_or_grid_index='grid_index',\n",
    "#                                                             version='compressed')\n",
    "# display_images_in_grids(patches, nc=10)"
   ]
  },
  {
   "cell_type": "code",
   "execution_count": 34,
   "metadata": {
    "collapsed": true
   },
   "outputs": [],
   "source": [
    "def patch_boxes_overlay_on(bg, downscale_factor, locs, patch_size, colors=None, stack=None, sec=None):\n",
    "    \"\"\"\n",
    "    Assume bg has the specified downscale_factor.\n",
    "    \"\"\"\n",
    "\n",
    "    if bg == 'original':\n",
    "        bg = imread(DataManager.get_image_filepath(stack=stack, section=sec, version='compressed'))[::downscale_factor, ::downscale_factor]\n",
    "       \n",
    "    # viz = bg.copy()\n",
    "    viz = gray2rgb(bg).copy()\n",
    "    # need copy() because of this bug http://stackoverflow.com/a/31316516\n",
    "    \n",
    "    half_size = patch_size/2/downscale_factor\n",
    "    if isinstance(locs[0], list):\n",
    "        if colors is None:\n",
    "            colors = random_colors(len(locs))\n",
    "        for i, locs_oneColor in enumerate(locs):\n",
    "            for x, y in locs_oneColor:\n",
    "                x = x / downscale_factor\n",
    "                y = y / downscale_factor\n",
    "                cv2.rectangle(viz, (x-half_size, y-half_size), (x+half_size, y+half_size), colors[i], 2)\n",
    "    else:\n",
    "        if colors is None:\n",
    "            colors = (255,0,0)\n",
    "        for x, y in locs:\n",
    "            x = x / downscale_factor\n",
    "            y = y / downscale_factor\n",
    "            cv2.rectangle(viz, (x-half_size, y-half_size), (x+half_size, y+half_size), colors, 2)\n",
    "            \n",
    "    return viz"
   ]
  },
  {
   "cell_type": "code",
   "execution_count": 35,
   "metadata": {},
   "outputs": [
    {
     "data": {
      "text/html": [
       "<a href='tmp.jpg' target='_blank'>tmp.jpg</a><br>"
      ],
      "text/plain": [
       "/shared/MouseBrainAtlas/learning/tmp.jpg"
      ]
     },
     "execution_count": 35,
     "metadata": {},
     "output_type": "execute_result"
    }
   ],
   "source": [
    "# Visualize a patch in context\n",
    "\n",
    "patch_size, stride, _, _ = get_default_gridspec('MD589')\n",
    "grid_locations = grid_parameters_to_sample_locations(get_default_gridspec('MD589'))\n",
    "viz = patch_boxes_overlay_on('original', 8, \n",
    "                       [grid_locations[44453]],\n",
    "                      patch_size=patch_size,\n",
    "                      stack='MD589',\n",
    "                       sec=219)\n",
    "display_image(viz)"
   ]
  }
 ],
 "metadata": {
  "kernelspec": {
   "display_name": "Python 2",
   "language": "python",
   "name": "python2"
  },
  "language_info": {
   "codemirror_mode": {
    "name": "ipython",
    "version": 2
   },
   "file_extension": ".py",
   "mimetype": "text/x-python",
   "name": "python",
   "nbconvert_exporter": "python",
   "pygments_lexer": "ipython2",
   "version": "2.7.12"
  }
 },
 "nbformat": 4,
 "nbformat_minor": 1
}
