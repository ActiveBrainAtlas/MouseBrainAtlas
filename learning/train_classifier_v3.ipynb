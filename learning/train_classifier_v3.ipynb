{
 "cells": [
  {
   "cell_type": "code",
   "execution_count": 1,
   "metadata": {
    "collapsed": true
   },
   "outputs": [],
   "source": [
    "%reload_ext autoreload\n",
    "%autoreload 2"
   ]
  },
  {
   "cell_type": "code",
   "execution_count": 2,
   "metadata": {
    "scrolled": true
   },
   "outputs": [
    {
     "name": "stderr",
     "output_type": "stream",
     "text": [
      "/usr/local/lib/python2.7/dist-packages/matplotlib/__init__.py:1401: UserWarning:  This call to matplotlib.use() has no effect\n",
      "because the backend has already been chosen;\n",
      "matplotlib.use() must be called *before* pylab, matplotlib.pyplot,\n",
      "or matplotlib.backends is imported for the first time.\n",
      "\n",
      "  warnings.warn(_use_error_msg)\n"
     ]
    },
    {
     "name": "stdout",
     "output_type": "stream",
     "text": [
      "Setting environment for AWS compute node\n"
     ]
    },
    {
     "name": "stderr",
     "output_type": "stream",
     "text": [
      "No vtk\n",
      "File does not exist: /shared/CSHL_data_processed/MD635/MD635_anchor.txt\n",
      "File does not exist: /shared/CSHL_data_processed/MD635/MD635_sorted_filenames.txt\n",
      "File does not exist: /shared/CSHL_data_processed/MD635/MD635_cropbox.txt\n",
      "File does not exist: /shared/CSHL_data_processed/MD635/MD635_cropbox.txt\n",
      "File does not exist: /shared/CSHL_data_processed/MD657/MD657_anchor.txt\n",
      "File does not exist: /shared/CSHL_data_processed/MD657/MD657_sorted_filenames.txt\n",
      "File does not exist: /shared/CSHL_data_processed/MD657/MD657_cropbox.txt\n",
      "File does not exist: /shared/CSHL_data_processed/MD657/MD657_cropbox.txt\n"
     ]
    }
   ],
   "source": [
    "import os\n",
    "import sys\n",
    "import time\n",
    "\n",
    "import matplotlib.pyplot as plt\n",
    "%matplotlib inline\n",
    "import numpy as np\n",
    "\n",
    "sys.path.append(os.path.join(os.environ['REPO_DIR'], 'utilities'))\n",
    "from utilities2015 import *\n",
    "from metadata import *\n",
    "from data_manager import *\n",
    "from learning_utilities import *"
   ]
  },
  {
   "cell_type": "code",
   "execution_count": 3,
   "metadata": {},
   "outputs": [
    {
     "name": "stderr",
     "output_type": "stream",
     "text": [
      "xgboost is not loaded."
     ]
    }
   ],
   "source": [
    "from sklearn.externals import joblib\n",
    "\n",
    "from sklearn.linear_model import LogisticRegression\n",
    "from sklearn.svm import LinearSVC, SVC\n",
    "from sklearn.calibration import CalibratedClassifierCV\n",
    "from sklearn.ensemble import GradientBoostingClassifier \n",
    "\n",
    "sys.path.append('/home/yuncong/csd395/xgboost/python-package')\n",
    "try:\n",
    "    from xgboost.sklearn import XGBClassifier\n",
    "except:\n",
    "    sys.stderr.write('xgboost is not loaded.')"
   ]
  },
  {
   "cell_type": "code",
   "execution_count": 4,
   "metadata": {},
   "outputs": [],
   "source": [
    "# structures_to_sample = all_known_structures\n",
    "\n",
    "# negative_labels_to_sample = [s + '_negative' for s in structures_to_sample]\n",
    "\n",
    "# margins_to_sample = [500] # (200: 100 um, 500: 250 um)\n",
    "# surround_labels_to_sample = [convert_to_surround_name(s, margin=m, suffix=surr_l) \n",
    "#                              for m in margins_to_sample\n",
    "#                              for s in structures_to_sample \n",
    "#                              for surr_l in structures_to_sample + ['noclass'] \n",
    "#                              if surr_l != s]\n",
    "\n",
    "# labels_to_sample = structures_to_sample + negative_labels_to_sample + surround_labels_to_sample + ['noclass']"
   ]
  },
  {
   "cell_type": "markdown",
   "metadata": {},
   "source": [
    "# Train Classifiers"
   ]
  },
  {
   "cell_type": "code",
   "execution_count": 5,
   "metadata": {},
   "outputs": [
    {
     "data": {
      "text/html": [
       "<div>\n",
       "<table border=\"1\" class=\"dataframe\">\n",
       "  <thead>\n",
       "    <tr style=\"text-align: right;\">\n",
       "      <th></th>\n",
       "      <th>model</th>\n",
       "      <th>margin</th>\n",
       "      <th>train_set_id</th>\n",
       "      <th>neg_composition</th>\n",
       "      <th>sample_weighting</th>\n",
       "    </tr>\n",
       "    <tr>\n",
       "      <th>classifier_id</th>\n",
       "      <th></th>\n",
       "      <th></th>\n",
       "      <th></th>\n",
       "      <th></th>\n",
       "      <th></th>\n",
       "    </tr>\n",
       "  </thead>\n",
       "  <tbody>\n",
       "    <tr>\n",
       "      <th>99</th>\n",
       "      <td>gb2</td>\n",
       "      <td>500</td>\n",
       "      <td>98/99</td>\n",
       "      <td>neg_has_all_surround</td>\n",
       "      <td>unweighted</td>\n",
       "    </tr>\n",
       "  </tbody>\n",
       "</table>\n",
       "</div>"
      ],
      "text/plain": [
       "              model  margin train_set_id       neg_composition  \\\n",
       "classifier_id                                                    \n",
       "99              gb2     500        98/99  neg_has_all_surround   \n",
       "\n",
       "              sample_weighting  \n",
       "classifier_id                   \n",
       "99                  unweighted  "
      ]
     },
     "execution_count": 5,
     "metadata": {},
     "output_type": "execute_result"
    }
   ],
   "source": [
    "learning_setting_properties"
   ]
  },
  {
   "cell_type": "code",
   "execution_count": 6,
   "metadata": {},
   "outputs": [
    {
     "name": "stdout",
     "output_type": "stream",
     "text": [
      "model                                gb2\n",
      "margin                               500\n",
      "train_set_id                       98/99\n",
      "neg_composition     neg_has_all_surround\n",
      "sample_weighting              unweighted\n",
      "Name: 99, dtype: object\n"
     ]
    }
   ],
   "source": [
    "classifier_id = 99\n",
    "classifier_properties = learning_setting_properties.loc[classifier_id]\n",
    "print classifier_properties\n",
    "\n",
    "margin = classifier_properties['margin']\n",
    "model = classifier_properties['model']\n",
    "sample_weighting = classifier_properties['sample_weighting']\n",
    "neg_composition = classifier_properties['neg_composition']"
   ]
  },
  {
   "cell_type": "code",
   "execution_count": 7,
   "metadata": {
    "collapsed": true
   },
   "outputs": [],
   "source": [
    "# Determine which labels to load.\n",
    "\n",
    "structures_to_sample = all_known_structures\n",
    "negative_labels_to_sample = [s + '_negative' for s in structures_to_sample]\n",
    "\n",
    "margins_to_sample = [margin] # (200: 100 um, 500: 250 um)\n",
    "surround_positive_labels_to_sample = [convert_to_surround_name(s, margin=m, suffix=surr_l) \n",
    "                             for m in margins_to_sample\n",
    "                             for s in structures_to_sample \n",
    "                             for surr_l in structures_to_sample\n",
    "                             if surr_l != s]\n",
    "surround_noclass_labels_to_sample = [convert_to_surround_name(s, margin=m, suffix='noclass') \n",
    "                             for m in margins_to_sample\n",
    "                             for s in structures_to_sample]\n",
    "\n",
    "if neg_composition == 'neg_has_everything_else':\n",
    "    labels_to_sample = structures_to_sample + negative_labels_to_sample\n",
    "elif neg_composition == 'neg_has_only_surround_noclass':\n",
    "    labels_to_sample = structures_to_sample + surround_noclass_labels_to_sample + ['noclass']\n",
    "elif neg_composition == 'neg_has_all_surround':\n",
    "    labels_to_sample = structures_to_sample + surround_positive_labels_to_sample + surround_noclass_labels_to_sample + ['noclass']"
   ]
  },
  {
   "cell_type": "code",
   "execution_count": 8,
   "metadata": {},
   "outputs": [],
   "source": [
    "# Load training dataset.\n",
    "\n",
    "train_set_id_x = classifier_properties['train_set_id']\n",
    "if isinstance(train_set_id_x, str) and '/' in train_set_id_x:\n",
    "    # Use multiple training sets\n",
    "    training_set_ids = map(int, train_set_id_x.split('/'))\n",
    "    training_features, training_addresses = load_datasets(training_set_ids, labels_to_sample=labels_to_sample)\n",
    "else:\n",
    "    # Use a single training set\n",
    "    training_features, training_addresses = load_datasets([train_set_id_x], labels_to_sample=labels_to_sample)\n",
    "    \n",
    "assert set(training_addresses.keys()) == set(training_features.keys()), \\\n",
    "    'Training features and training addresses are not consistent.'"
   ]
  },
  {
   "cell_type": "code",
   "execution_count": 9,
   "metadata": {
    "collapsed": true
   },
   "outputs": [],
   "source": [
    "labels_found = training_features.keys()\n",
    "structures_found = set([convert_to_original_name(l) for l in labels_found]) - {'noclass'}"
   ]
  },
  {
   "cell_type": "code",
   "execution_count": 10,
   "metadata": {
    "collapsed": true
   },
   "outputs": [],
   "source": [
    "# Visualize training patches\n",
    "\n",
    "# patches = extract_patches_given_locations_multiple_sections(training_addresses['12N'][:10], \n",
    "#                                                             location_or_grid_index='grid_index',\n",
    "#                                                             version='compressed')\n",
    "# display_images_in_grids(patches, nc=10)\n",
    "\n",
    "# patches = extract_patches_given_locations_multiple_sections(training_addresses['12N_surround'][:10], \n",
    "#                                                             location_or_grid_index='grid_index',\n",
    "#                                                             version='compressed')\n",
    "# display_images_in_grids(patches, nc=10)"
   ]
  },
  {
   "cell_type": "code",
   "execution_count": 11,
   "metadata": {
    "collapsed": true
   },
   "outputs": [],
   "source": [
    "setting_dir = os.path.join(os.path.join(CLF_ROOTDIR, 'setting_%d' % classifier_id))"
   ]
  },
  {
   "cell_type": "code",
   "execution_count": 12,
   "metadata": {
    "scrolled": true
   },
   "outputs": [
    {
     "name": "stdout",
     "output_type": "stream",
     "text": [
      "Tz\n",
      "      Iter       Train Loss   Remaining Time \n",
      "         1           0.9214            2.82s\n",
      "         2           0.7307            2.85s\n",
      "         3           0.5865            2.90s\n",
      "         4           0.4882            2.89s\n",
      "         5           0.4157            2.88s\n",
      "         6           0.3441            2.90s\n",
      "         7           0.2859            2.89s\n",
      "         8           0.2356            2.86s\n",
      "         9           0.2022            2.81s\n",
      "        10           0.1765            2.77s\n",
      "        20           0.0382            2.48s\n",
      "        30           0.0084            2.16s\n",
      "        40           0.0019            1.85s\n",
      "        50           0.0005            1.51s\n",
      "        60           0.0004            1.02s\n",
      "        70           0.0004            0.66s\n",
      "        80           0.0004            0.38s\n",
      "        90           0.0004            0.17s\n",
      "       100           0.0004            0.00s\n",
      "aws s3 cp /shared/CSHL_classifiers/setting_99/classifiers/Tz_clf_setting_99.dump s3://mousebrainatlas-data/CSHL_classifiers/setting_99/classifiers/Tz_clf_setting_99.dump\n"
     ]
    },
    {
     "name": "stderr",
     "output_type": "stream",
     "text": [
      "Fitting classifier: 1.57 seconds\n",
      "Child returned 0\n",
      "0.42 seconds.\n"
     ]
    },
    {
     "name": "stdout",
     "output_type": "stream",
     "text": [
      "Sp5O\n",
      "      Iter       Train Loss   Remaining Time \n",
      "         1           1.0177            2.85s\n",
      "         2           0.8413            2.84s\n",
      "         3           0.7352            2.77s\n",
      "         4           0.6280            2.80s\n",
      "         5           0.5488            2.78s\n",
      "         6           0.4856            2.76s\n",
      "         7           0.4274            2.74s\n",
      "         8           0.3833            2.70s\n",
      "         9           0.3372            2.70s\n",
      "        10           0.2946            2.66s\n",
      "        20           0.0930            2.37s\n",
      "        30           0.0279            2.09s\n",
      "        40           0.0097            1.78s\n",
      "        50           0.0031            1.49s\n",
      "        60           0.0010            1.19s\n",
      "        70           0.0005            0.85s\n",
      "        80           0.0005            0.50s\n",
      "        90           0.0005            0.22s\n",
      "       100           0.0005            0.00s\n"
     ]
    },
    {
     "name": "stderr",
     "output_type": "stream",
     "text": [
      "Fitting classifier: 2.01 seconds\n"
     ]
    },
    {
     "name": "stdout",
     "output_type": "stream",
     "text": [
      "aws s3 cp /shared/CSHL_classifiers/setting_99/classifiers/Sp5O_clf_setting_99.dump s3://mousebrainatlas-data/CSHL_classifiers/setting_99/classifiers/Sp5O_clf_setting_99.dump\n"
     ]
    },
    {
     "name": "stderr",
     "output_type": "stream",
     "text": [
      "Child returned 0\n",
      "0.37 seconds.\n"
     ]
    },
    {
     "name": "stdout",
     "output_type": "stream",
     "text": [
      "7n\n",
      "      Iter       Train Loss   Remaining Time \n",
      "         1           0.8660            2.49s\n",
      "         2           0.6657            2.84s\n",
      "         3           0.5393            2.86s\n",
      "         4           0.4367            2.91s\n",
      "         5           0.3645            2.82s\n",
      "         6           0.3028            2.81s\n",
      "         7           0.2489            2.83s\n",
      "         8           0.2081            2.84s\n",
      "         9           0.1745            2.81s\n",
      "        10           0.1486            2.78s\n",
      "        20           0.0241            2.59s\n",
      "        30           0.0050            2.24s\n",
      "        40           0.0010            1.94s\n",
      "        50           0.0003            1.52s\n",
      "        60           0.0003            1.01s\n",
      "        70           0.0003            0.65s\n",
      "        80           0.0003            0.38s\n",
      "        90           0.0003            0.17s\n",
      "       100           0.0003            0.00s\n",
      "aws s3 cp /shared/CSHL_classifiers/setting_99/classifiers/7n_clf_setting_99.dump s3://mousebrainatlas-data/CSHL_classifiers/setting_99/classifiers/7n_clf_setting_99.dump\n"
     ]
    },
    {
     "name": "stderr",
     "output_type": "stream",
     "text": [
      "Fitting classifier: 1.55 seconds\n",
      "Child returned 0\n",
      "0.42 seconds.\n"
     ]
    },
    {
     "name": "stdout",
     "output_type": "stream",
     "text": [
      "DC\n",
      "      Iter       Train Loss   Remaining Time \n",
      "         1           0.8595            4.12s\n",
      "         2           0.7134            4.24s\n",
      "         3           0.5853            4.27s\n",
      "         4           0.4986            4.27s\n",
      "         5           0.4216            4.23s\n",
      "         6           0.3530            4.20s\n",
      "         7           0.3057            4.16s\n",
      "         8           0.2659            4.07s\n",
      "         9           0.2386            3.94s\n",
      "        10           0.2051            3.91s\n",
      "        20           0.0501            3.56s\n",
      "        30           0.0140            3.08s\n",
      "        40           0.0040            2.63s\n",
      "        50           0.0011            2.20s\n",
      "        60           0.0004            1.67s\n",
      "        70           0.0004            1.07s\n",
      "        80           0.0004            0.63s\n",
      "        90           0.0004            0.28s\n",
      "       100           0.0004            0.00s\n",
      "aws s3 cp /shared/CSHL_classifiers/setting_99/classifiers/DC_clf_setting_99.dump s3://mousebrainatlas-data/CSHL_classifiers/setting_99/classifiers/DC_clf_setting_99.dump\n"
     ]
    },
    {
     "name": "stderr",
     "output_type": "stream",
     "text": [
      "Fitting classifier: 2.54 seconds\n",
      "Child returned 0\n",
      "0.42 seconds.\n"
     ]
    },
    {
     "name": "stdout",
     "output_type": "stream",
     "text": [
      "5N\n",
      "      Iter       Train Loss   Remaining Time \n",
      "         1           1.0637            2.10s\n",
      "         2           0.8784            2.20s\n",
      "         3           0.7461            2.12s\n",
      "         4           0.6339            2.08s\n",
      "         5           0.5319            2.10s\n",
      "         6           0.4671            2.04s\n",
      "         7           0.3948            2.00s\n",
      "         8           0.3433            1.95s\n",
      "         9           0.3003            1.93s\n",
      "        10           0.2653            1.89s\n",
      "        20           0.0607            1.68s\n",
      "        30           0.0147            1.47s\n",
      "        40           0.0037            1.25s\n",
      "        50           0.0010            1.04s\n",
      "        60           0.0005            0.77s\n",
      "        70           0.0005            0.50s\n",
      "        80           0.0005            0.29s\n",
      "        90           0.0005            0.13s\n",
      "       100           0.0005            0.00s\n",
      "aws s3 cp /shared/CSHL_classifiers/setting_99/classifiers/5N_clf_setting_99.dump s3://mousebrainatlas-data/CSHL_classifiers/setting_99/classifiers/5N_clf_setting_99.dump\n"
     ]
    },
    {
     "name": "stderr",
     "output_type": "stream",
     "text": [
      "Fitting classifier: 1.18 seconds\n",
      "Child returned 0\n",
      "0.42 seconds.\n"
     ]
    },
    {
     "name": "stdout",
     "output_type": "stream",
     "text": [
      "RtTg\n",
      "      Iter       Train Loss   Remaining Time \n",
      "         1           0.9291            4.20s\n",
      "         2           0.7868            4.32s\n",
      "         3           0.6797            4.36s\n",
      "         4           0.6064            4.26s\n",
      "         5           0.5207            4.28s\n",
      "         6           0.4428            4.26s\n",
      "         7           0.3777            4.20s\n",
      "         8           0.3333            4.11s\n",
      "         9           0.2921            4.09s\n",
      "        10           0.2603            4.01s\n",
      "        20           0.0861            3.46s\n",
      "        30           0.0338            2.98s\n",
      "        40           0.0121            2.55s\n",
      "        50           0.0041            2.14s\n",
      "        60           0.0015            1.70s\n",
      "        70           0.0005            1.27s\n",
      "        80           0.0005            0.76s\n",
      "        90           0.0005            0.34s\n",
      "       100           0.0005            0.00s\n",
      "aws s3 cp /shared/CSHL_classifiers/setting_99/classifiers/RtTg_clf_setting_99.dump s3://mousebrainatlas-data/CSHL_classifiers/setting_99/classifiers/RtTg_clf_setting_99.dump\n"
     ]
    },
    {
     "name": "stderr",
     "output_type": "stream",
     "text": [
      "Fitting classifier: 3.07 seconds\n",
      "Child returned 0\n",
      "0.36 seconds.\n"
     ]
    },
    {
     "name": "stdout",
     "output_type": "stream",
     "text": [
      "Pn\n",
      "      Iter       Train Loss   Remaining Time \n",
      "         1           0.9465            3.61s\n",
      "         2           0.7865            3.53s\n",
      "         3           0.6615            3.41s\n",
      "         4           0.5807            3.30s\n",
      "         5           0.4961            3.23s\n",
      "         6           0.4251            3.28s\n",
      "         7           0.3611            3.30s\n",
      "         8           0.3289            3.22s\n",
      "         9           0.2801            3.20s\n",
      "        10           0.2443            3.15s\n",
      "        20           0.0679            2.89s\n",
      "        30           0.0198            2.54s\n",
      "        40           0.0064            2.17s\n",
      "        50           0.0019            1.80s\n",
      "        60           0.0005            1.43s\n",
      "        70           0.0005            0.94s\n",
      "        80           0.0005            0.55s\n",
      "        90           0.0005            0.24s\n",
      "       100           0.0005            0.00s\n",
      "aws s3 cp /shared/CSHL_classifiers/setting_99/classifiers/Pn_clf_setting_99.dump s3://mousebrainatlas-data/CSHL_classifiers/setting_99/classifiers/Pn_clf_setting_99.dump\n"
     ]
    },
    {
     "name": "stderr",
     "output_type": "stream",
     "text": [
      "Fitting classifier: 2.23 seconds\n",
      "Child returned 0\n",
      "0.36 seconds.\n"
     ]
    },
    {
     "name": "stdout",
     "output_type": "stream",
     "text": [
      "10N\n",
      "      Iter       Train Loss   Remaining Time \n",
      "         1           0.8020            3.53s\n",
      "         2           0.6258            3.38s\n",
      "         3           0.4966            3.55s\n",
      "         4           0.4118            3.49s\n",
      "         5           0.3414            3.53s\n",
      "         6           0.2893            3.46s\n",
      "         7           0.2387            3.45s\n",
      "         8           0.2006            3.45s\n",
      "         9           0.1670            3.44s\n",
      "        10           0.1401            3.40s\n",
      "        20           0.0289            3.11s\n",
      "        30           0.0068            2.71s\n",
      "        40           0.0016            2.33s\n",
      "        50           0.0004            1.90s\n",
      "        60           0.0004            1.29s\n",
      "        70           0.0004            0.83s\n",
      "        80           0.0004            0.48s\n",
      "        90           0.0004            0.22s\n",
      "       100           0.0004            0.00s\n",
      "aws s3 cp /shared/CSHL_classifiers/setting_99/classifiers/10N_clf_setting_99.dump s3://mousebrainatlas-data/CSHL_classifiers/setting_99/classifiers/10N_clf_setting_99.dump\n"
     ]
    },
    {
     "name": "stderr",
     "output_type": "stream",
     "text": [
      "Fitting classifier: 1.97 seconds\n",
      "Child returned 0\n",
      "0.36 seconds.\n"
     ]
    },
    {
     "name": "stdout",
     "output_type": "stream",
     "text": [
      "LC\n",
      "      Iter       Train Loss   Remaining Time \n",
      "         1           1.0764            1.24s\n",
      "         2           0.8664            1.47s\n",
      "         3           0.7188            1.52s\n",
      "         4           0.5975            1.60s\n",
      "         5           0.5080            1.59s\n",
      "         6           0.4274            1.54s\n",
      "         7           0.3559            1.52s\n",
      "         8           0.3081            1.49s\n",
      "         9           0.2590            1.49s\n",
      "        10           0.2211            1.48s\n",
      "        20           0.0489            1.30s\n",
      "        30           0.0115            1.12s\n",
      "        40           0.0028            0.97s\n",
      "        50           0.0007            0.80s\n",
      "        60           0.0004            0.57s\n",
      "        70           0.0004            0.37s\n",
      "        80           0.0004            0.21s\n",
      "        90           0.0004            0.10s\n",
      "       100           0.0004            0.00s\n",
      "aws s3 cp /shared/CSHL_classifiers/setting_99/classifiers/LC_clf_setting_99.dump s3://mousebrainatlas-data/CSHL_classifiers/setting_99/classifiers/LC_clf_setting_99.dump\n"
     ]
    },
    {
     "name": "stderr",
     "output_type": "stream",
     "text": [
      "Fitting classifier: 0.87 seconds\n",
      "Child returned 0\n",
      "0.36 seconds.\n"
     ]
    },
    {
     "name": "stdout",
     "output_type": "stream",
     "text": [
      "7N\n",
      "      Iter       Train Loss   Remaining Time \n",
      "         1           1.1306            1.88s\n",
      "         2           0.9312            2.04s\n",
      "         3           0.7890            2.16s\n",
      "         4           0.6827            2.08s\n",
      "         5           0.5929            2.04s\n",
      "         6           0.5096            1.96s\n",
      "         7           0.4304            1.97s\n",
      "         8           0.3759            1.95s\n",
      "         9           0.3228            1.94s\n",
      "        10           0.2757            1.94s\n",
      "        20           0.0642            1.73s\n",
      "        30           0.0177            1.51s\n",
      "        40           0.0054            1.27s\n",
      "        50           0.0015            1.06s\n",
      "        60           0.0005            0.83s\n",
      "        70           0.0005            0.53s\n",
      "        80           0.0005            0.31s\n",
      "        90           0.0005            0.14s\n",
      "       100           0.0005            0.00s\n"
     ]
    },
    {
     "name": "stderr",
     "output_type": "stream",
     "text": [
      "Fitting classifier: 1.27 seconds\n"
     ]
    },
    {
     "name": "stdout",
     "output_type": "stream",
     "text": [
      "aws s3 cp /shared/CSHL_classifiers/setting_99/classifiers/7N_clf_setting_99.dump s3://mousebrainatlas-data/CSHL_classifiers/setting_99/classifiers/7N_clf_setting_99.dump\n"
     ]
    },
    {
     "name": "stderr",
     "output_type": "stream",
     "text": [
      "Child returned 0\n",
      "0.36 seconds.\n"
     ]
    },
    {
     "name": "stdout",
     "output_type": "stream",
     "text": [
      "Amb\n",
      "      Iter       Train Loss   Remaining Time \n",
      "         1           0.8827            2.86s\n",
      "         2           0.6689            3.06s\n",
      "         3           0.5361            3.01s\n",
      "         4           0.4438            2.91s\n",
      "         5           0.3567            2.96s\n",
      "         6           0.2969            2.96s\n",
      "         7           0.2525            2.92s\n",
      "         8           0.2038            2.88s\n",
      "         9           0.1660            2.88s\n",
      "        10           0.1457            2.81s\n",
      "        20           0.0258            2.50s\n",
      "        30           0.0050            2.21s\n",
      "        40           0.0009            1.91s\n",
      "        50           0.0004            1.45s\n",
      "        60           0.0004            0.97s\n",
      "        70           0.0004            0.62s\n",
      "        80           0.0004            0.36s\n",
      "        90           0.0004            0.16s\n",
      "       100           0.0004            0.00s\n"
     ]
    },
    {
     "name": "stderr",
     "output_type": "stream",
     "text": [
      "Fitting classifier: 1.49 seconds\n"
     ]
    },
    {
     "name": "stdout",
     "output_type": "stream",
     "text": [
      "aws s3 cp /shared/CSHL_classifiers/setting_99/classifiers/Amb_clf_setting_99.dump s3://mousebrainatlas-data/CSHL_classifiers/setting_99/classifiers/Amb_clf_setting_99.dump\n"
     ]
    },
    {
     "name": "stderr",
     "output_type": "stream",
     "text": [
      "Child returned 0\n",
      "0.36 seconds.\n"
     ]
    },
    {
     "name": "stdout",
     "output_type": "stream",
     "text": [
      "12N\n",
      "      Iter       Train Loss   Remaining Time \n",
      "         1           0.7912            3.37s\n",
      "         2           0.5949            3.59s\n",
      "         3           0.4816            3.66s\n",
      "         4           0.4003            3.65s\n",
      "         5           0.3389            3.64s\n",
      "         6           0.2812            3.61s\n",
      "         7           0.2298            3.59s\n",
      "         8           0.1909            3.60s\n",
      "         9           0.1697            3.49s\n",
      "        10           0.1412            3.45s\n",
      "        20           0.0313            3.03s\n",
      "        30           0.0071            2.68s\n",
      "        40           0.0017            2.32s\n",
      "        50           0.0004            1.90s\n",
      "        60           0.0004            1.30s\n",
      "        70           0.0004            0.84s\n",
      "        80           0.0004            0.49s\n",
      "        90           0.0004            0.22s\n",
      "       100           0.0004            0.00s\n",
      "aws s3 cp /shared/CSHL_classifiers/setting_99/classifiers/12N_clf_setting_99.dump s3://mousebrainatlas-data/CSHL_classifiers/setting_99/classifiers/12N_clf_setting_99.dump\n"
     ]
    },
    {
     "name": "stderr",
     "output_type": "stream",
     "text": [
      "Fitting classifier: 1.99 seconds\n",
      "Child returned 0\n",
      "0.36 seconds.\n"
     ]
    },
    {
     "name": "stdout",
     "output_type": "stream",
     "text": [
      "RMC\n",
      "      Iter       Train Loss   Remaining Time \n",
      "         1           1.1186            1.48s\n",
      "         2           0.9279            1.61s\n",
      "         3           0.7831            1.59s\n",
      "         4           0.6687            1.60s\n",
      "         5           0.5869            1.59s\n",
      "         6           0.5100            1.56s\n",
      "         7           0.4437            1.55s\n",
      "         8           0.3850            1.53s\n",
      "         9           0.3336            1.51s\n",
      "        10           0.2920            1.49s\n",
      "        20           0.0792            1.32s\n",
      "        30           0.0248            1.14s\n",
      "        40           0.0071            0.98s\n",
      "        50           0.0021            0.81s\n",
      "        60           0.0006            0.65s\n",
      "        70           0.0005            0.43s\n",
      "        80           0.0005            0.25s\n",
      "        90           0.0005            0.11s\n",
      "       100           0.0005            0.00s\n",
      "aws s3 cp /shared/CSHL_classifiers/setting_99/classifiers/RMC_clf_setting_99.dump s3://mousebrainatlas-data/CSHL_classifiers/setting_99/classifiers/RMC_clf_setting_99.dump\n"
     ]
    },
    {
     "name": "stderr",
     "output_type": "stream",
     "text": [
      "Fitting classifier: 1.03 seconds\n",
      "Child returned 0\n",
      "0.41 seconds.\n"
     ]
    },
    {
     "name": "stdout",
     "output_type": "stream",
     "text": [
      "VCA\n",
      "      Iter       Train Loss   Remaining Time \n",
      "         1           0.8779            3.94s\n",
      "         2           0.7072            4.03s\n",
      "         3           0.5968            4.09s\n",
      "         4           0.5008            4.04s\n",
      "         5           0.4125            4.07s\n",
      "         6           0.3565            4.04s\n",
      "         7           0.3106            3.98s\n",
      "         8           0.2677            3.95s\n",
      "         9           0.2307            3.93s\n",
      "        10           0.1965            3.91s\n",
      "        20           0.0520            3.45s\n",
      "        30           0.0147            3.00s\n",
      "        40           0.0042            2.58s\n",
      "        50           0.0011            2.15s\n",
      "        60           0.0004            1.65s\n",
      "        70           0.0004            1.06s\n",
      "        80           0.0004            0.62s\n",
      "        90           0.0004            0.28s\n",
      "       100           0.0004            0.00s\n",
      "aws s3 cp /shared/CSHL_classifiers/setting_99/classifiers/VCA_clf_setting_99.dump s3://mousebrainatlas-data/CSHL_classifiers/setting_99/classifiers/VCA_clf_setting_99.dump\n"
     ]
    },
    {
     "name": "stderr",
     "output_type": "stream",
     "text": [
      "Fitting classifier: 2.51 seconds\n",
      "Child returned 0\n",
      "0.41 seconds.\n"
     ]
    },
    {
     "name": "stdout",
     "output_type": "stream",
     "text": [
      "Sp5I\n",
      "      Iter       Train Loss   Remaining Time \n",
      "         1           0.9520            3.56s\n",
      "         2           0.7597            4.13s\n",
      "         3           0.6413            4.13s\n",
      "         4           0.5837            3.92s\n",
      "         5           0.5168            3.89s\n",
      "         6           0.4390            3.92s\n",
      "         7           0.3927            3.85s\n",
      "         8           0.3460            3.87s\n",
      "         9           0.3012            3.85s\n",
      "        10           0.2695            3.80s\n",
      "        20           0.0783            3.46s\n",
      "        30           0.0254            3.00s\n",
      "        40           0.0095            2.54s\n",
      "        50           0.0033            2.11s\n",
      "        60           0.0012            1.69s\n",
      "        70           0.0005            1.23s\n",
      "        80           0.0005            0.72s\n",
      "        90           0.0005            0.32s\n",
      "       100           0.0005            0.00s\n",
      "aws s3 cp /shared/CSHL_classifiers/setting_99/classifiers/Sp5I_clf_setting_99.dump s3://mousebrainatlas-data/CSHL_classifiers/setting_99/classifiers/Sp5I_clf_setting_99.dump\n"
     ]
    },
    {
     "name": "stderr",
     "output_type": "stream",
     "text": [
      "Fitting classifier: 2.91 seconds\n",
      "Child returned 0\n",
      "0.56 seconds.\n"
     ]
    },
    {
     "name": "stdout",
     "output_type": "stream",
     "text": [
      "Sp5C\n",
      "      Iter       Train Loss   Remaining Time \n",
      "         1           0.9766            2.81s\n",
      "         2           0.8061            3.15s\n",
      "         3           0.6765            3.19s\n",
      "         4           0.5708            3.20s\n",
      "         5           0.4941            3.21s\n",
      "         6           0.4230            3.19s\n",
      "         7           0.3640            3.17s\n",
      "         8           0.3201            3.16s\n",
      "         9           0.2768            3.13s\n",
      "        10           0.2436            3.12s\n",
      "        20           0.0734            2.74s\n",
      "        30           0.0239            2.38s\n",
      "        40           0.0085            2.03s\n",
      "        50           0.0028            1.68s\n",
      "        60           0.0009            1.35s\n",
      "        70           0.0005            0.96s\n",
      "        80           0.0004            0.57s\n",
      "        90           0.0004            0.25s\n",
      "       100           0.0004            0.00s\n",
      "aws s3 cp /shared/CSHL_classifiers/setting_99/classifiers/Sp5C_clf_setting_99.dump s3://mousebrainatlas-data/CSHL_classifiers/setting_99/classifiers/Sp5C_clf_setting_99.dump\n"
     ]
    },
    {
     "name": "stderr",
     "output_type": "stream",
     "text": [
      "Fitting classifier: 2.29 seconds\n",
      "Child returned 0\n",
      "0.41 seconds.\n"
     ]
    },
    {
     "name": "stdout",
     "output_type": "stream",
     "text": [
      "4N\n",
      "      Iter       Train Loss   Remaining Time \n",
      "         1           0.9650            2.52s\n",
      "         2           0.7588            2.82s\n",
      "         3           0.6311            2.77s\n",
      "         4           0.5145            2.75s\n",
      "         5           0.4293            2.75s\n",
      "         6           0.3591            2.78s\n",
      "         7           0.3048            2.73s\n",
      "         8           0.2588            2.69s\n",
      "         9           0.2272            2.62s\n",
      "        10           0.1939            2.58s\n",
      "        20           0.0391            2.32s\n",
      "        30           0.0098            2.00s\n",
      "        40           0.0022            1.73s\n",
      "        50           0.0005            1.43s\n",
      "        60           0.0004            0.98s\n",
      "        70           0.0004            0.63s\n",
      "        80           0.0004            0.37s\n",
      "        90           0.0004            0.16s\n",
      "       100           0.0004            0.00s\n",
      "aws s3 cp /shared/CSHL_classifiers/setting_99/classifiers/4N_clf_setting_99.dump s3://mousebrainatlas-data/CSHL_classifiers/setting_99/classifiers/4N_clf_setting_99.dump\n"
     ]
    },
    {
     "name": "stderr",
     "output_type": "stream",
     "text": [
      "Fitting classifier: 1.50 seconds\n",
      "Child returned 0\n",
      "0.41 seconds.\n"
     ]
    },
    {
     "name": "stdout",
     "output_type": "stream",
     "text": [
      "AP\n",
      "      Iter       Train Loss   Remaining Time \n",
      "         1           0.7286            2.35s\n",
      "         2           0.5527            2.99s\n",
      "         3           0.4292            3.22s\n",
      "         4           0.3500            3.30s\n",
      "         5           0.2840            3.38s\n",
      "         6           0.2377            3.35s\n",
      "         7           0.1904            3.35s\n",
      "         8           0.1579            3.28s\n",
      "         9           0.1251            3.31s\n",
      "        10           0.1019            3.30s\n",
      "        20           0.0137            2.98s\n",
      "        30           0.0024            2.59s\n",
      "        40           0.0004            2.18s\n",
      "        50           0.0003            1.51s\n",
      "        60           0.0003            1.01s\n",
      "        70           0.0003            0.65s\n",
      "        80           0.0003            0.38s\n",
      "        90           0.0003            0.17s\n",
      "       100           0.0003            0.00s\n",
      "aws s3 cp /shared/CSHL_classifiers/setting_99/classifiers/AP_clf_setting_99.dump s3://mousebrainatlas-data/CSHL_classifiers/setting_99/classifiers/AP_clf_setting_99.dump\n"
     ]
    },
    {
     "name": "stderr",
     "output_type": "stream",
     "text": [
      "Fitting classifier: 1.55 seconds\n",
      "Child returned 0\n",
      "0.36 seconds.\n"
     ]
    },
    {
     "name": "stdout",
     "output_type": "stream",
     "text": [
      "PBG\n",
      "      Iter       Train Loss   Remaining Time \n",
      "         1           0.8775            2.81s\n",
      "         2           0.6798            2.87s\n",
      "         3           0.5453            2.93s\n",
      "         4           0.4526            2.90s\n",
      "         5           0.3718            2.93s\n",
      "         6           0.3079            2.93s\n",
      "         7           0.2543            2.93s\n",
      "         8           0.2152            2.88s\n",
      "         9           0.1827            2.83s\n",
      "        10           0.1522            2.81s\n",
      "        20           0.0283            2.49s\n",
      "        30           0.0058            2.18s\n",
      "        40           0.0013            1.87s\n",
      "        50           0.0004            1.51s\n",
      "        60           0.0004            1.01s\n",
      "        70           0.0004            0.65s\n",
      "        80           0.0004            0.38s\n",
      "        90           0.0004            0.17s\n",
      "       100           0.0004            0.00s\n",
      "aws s3 cp /shared/CSHL_classifiers/setting_99/classifiers/PBG_clf_setting_99.dump s3://mousebrainatlas-data/CSHL_classifiers/setting_99/classifiers/PBG_clf_setting_99.dump\n"
     ]
    },
    {
     "name": "stderr",
     "output_type": "stream",
     "text": [
      "Fitting classifier: 1.55 seconds\n",
      "Child returned 0\n",
      "0.36 seconds.\n"
     ]
    },
    {
     "name": "stdout",
     "output_type": "stream",
     "text": [
      "LRt\n",
      "      Iter       Train Loss   Remaining Time \n",
      "         1           1.0048            2.81s\n",
      "         2           0.8405            2.92s\n",
      "         3           0.7029            2.99s\n",
      "         4           0.5871            3.03s\n",
      "         5           0.5022            3.02s\n",
      "         6           0.4313            3.00s\n",
      "         7           0.3690            2.96s\n",
      "         8           0.3236            2.94s\n",
      "         9           0.2772            2.92s\n",
      "        10           0.2391            2.90s\n",
      "        20           0.0628            2.58s\n",
      "        30           0.0171            2.26s\n",
      "        40           0.0047            1.94s\n",
      "        50           0.0014            1.61s\n",
      "        60           0.0005            1.25s\n",
      "        70           0.0005            0.82s\n",
      "        80           0.0005            0.48s\n",
      "        90           0.0005            0.21s\n",
      "       100           0.0005            0.00s\n",
      "aws s3 cp /shared/CSHL_classifiers/setting_99/classifiers/LRt_clf_setting_99.dump s3://mousebrainatlas-data/CSHL_classifiers/setting_99/classifiers/LRt_clf_setting_99.dump\n"
     ]
    },
    {
     "name": "stderr",
     "output_type": "stream",
     "text": [
      "Fitting classifier: 1.94 seconds\n",
      "Child returned 0\n",
      "0.41 seconds.\n"
     ]
    },
    {
     "name": "stdout",
     "output_type": "stream",
     "text": [
      "IC\n",
      "      Iter       Train Loss   Remaining Time \n",
      "         1           1.0709            2.94s\n",
      "         2           0.9205            2.91s\n",
      "         3           0.7918            2.86s\n",
      "         4           0.6812            2.84s\n",
      "         5           0.6088            2.80s\n",
      "         6           0.5319            2.78s\n",
      "         7           0.4763            2.74s\n",
      "         8           0.4203            2.69s\n",
      "         9           0.3779            2.65s\n",
      "        10           0.3290            2.63s\n",
      "        20           0.1071            2.32s\n",
      "        30           0.0354            2.02s\n",
      "        40           0.0121            1.73s\n",
      "        50           0.0041            1.45s\n",
      "        60           0.0013            1.16s\n",
      "        70           0.0005            0.86s\n",
      "        80           0.0005            0.51s\n",
      "        90           0.0005            0.23s\n",
      "       100           0.0005            0.00s\n",
      "aws s3 cp /shared/CSHL_classifiers/setting_99/classifiers/IC_clf_setting_99.dump s3://mousebrainatlas-data/CSHL_classifiers/setting_99/classifiers/IC_clf_setting_99.dump\n"
     ]
    },
    {
     "name": "stderr",
     "output_type": "stream",
     "text": [
      "Fitting classifier: 2.06 seconds\n",
      "Child returned 0\n",
      "0.36 seconds.\n"
     ]
    },
    {
     "name": "stdout",
     "output_type": "stream",
     "text": [
      "VLL\n",
      "      Iter       Train Loss   Remaining Time \n",
      "         1           0.9976            2.63s\n",
      "         2           0.8113            2.61s\n",
      "         3           0.6494            2.62s\n",
      "         4           0.5406            2.58s\n",
      "         5           0.4445            2.57s\n",
      "         6           0.3747            2.56s\n",
      "         7           0.3132            2.54s\n",
      "         8           0.2748            2.48s\n",
      "         9           0.2324            2.46s\n",
      "        10           0.1982            2.43s\n",
      "        20           0.0410            2.14s\n",
      "        30           0.0096            1.86s\n",
      "        40           0.0022            1.60s\n",
      "        50           0.0005            1.30s\n",
      "        60           0.0004            0.89s\n",
      "        70           0.0004            0.58s\n",
      "        80           0.0004            0.34s\n",
      "        90           0.0004            0.15s\n",
      "       100           0.0004            0.00s\n",
      "aws s3 cp /shared/CSHL_classifiers/setting_99/classifiers/VLL_clf_setting_99.dump s3://mousebrainatlas-data/CSHL_classifiers/setting_99/classifiers/VLL_clf_setting_99.dump\n"
     ]
    },
    {
     "name": "stderr",
     "output_type": "stream",
     "text": [
      "Fitting classifier: 1.37 seconds\n",
      "Child returned 0\n",
      "0.41 seconds.\n"
     ]
    },
    {
     "name": "stdout",
     "output_type": "stream",
     "text": [
      "VCP\n",
      "      Iter       Train Loss   Remaining Time \n",
      "         1           0.9044            3.78s\n",
      "         2           0.7633            3.82s\n",
      "         3           0.6250            4.01s\n",
      "         4           0.5360            3.93s\n",
      "         5           0.4543            3.95s\n",
      "         6           0.3978            3.88s\n",
      "         7           0.3440            3.83s\n",
      "         8           0.2986            3.78s\n",
      "         9           0.2640            3.80s\n",
      "        10           0.2304            3.75s\n",
      "        20           0.0731            3.28s\n",
      "        30           0.0233            2.87s\n",
      "        40           0.0077            2.46s\n",
      "        50           0.0029            2.03s\n",
      "        60           0.0009            1.62s\n",
      "        70           0.0004            1.15s\n",
      "        80           0.0004            0.67s\n",
      "        90           0.0004            0.30s\n",
      "       100           0.0004            0.00s\n",
      "aws s3 cp /shared/CSHL_classifiers/setting_99/classifiers/VCP_clf_setting_99.dump s3://mousebrainatlas-data/CSHL_classifiers/setting_99/classifiers/VCP_clf_setting_99.dump\n"
     ]
    },
    {
     "name": "stderr",
     "output_type": "stream",
     "text": [
      "Fitting classifier: 2.73 seconds\n",
      "Child returned 0\n",
      "0.41 seconds.\n"
     ]
    },
    {
     "name": "stdout",
     "output_type": "stream",
     "text": [
      "SNC\n",
      "      Iter       Train Loss   Remaining Time \n",
      "         1           1.0127            2.57s\n",
      "         2           0.8249            2.66s\n",
      "         3           0.6645            2.69s\n",
      "         4           0.5617            2.72s\n",
      "         5           0.4764            2.68s\n",
      "         6           0.4094            2.65s\n",
      "         7           0.3612            2.62s\n",
      "         8           0.3166            2.55s\n",
      "         9           0.2762            2.50s\n",
      "        10           0.2393            2.49s\n",
      "        20           0.0625            2.26s\n",
      "        30           0.0176            1.98s\n",
      "        40           0.0047            1.70s\n",
      "        50           0.0014            1.41s\n",
      "        60           0.0005            1.10s\n",
      "        70           0.0005            0.71s\n",
      "        80           0.0005            0.42s\n",
      "        90           0.0005            0.19s\n",
      "       100           0.0005            0.00s\n",
      "aws s3 cp /shared/CSHL_classifiers/setting_99/classifiers/SNC_clf_setting_99.dump s3://mousebrainatlas-data/CSHL_classifiers/setting_99/classifiers/SNC_clf_setting_99.dump\n"
     ]
    },
    {
     "name": "stderr",
     "output_type": "stream",
     "text": [
      "Fitting classifier: 1.69 seconds\n",
      "Child returned 0\n",
      "0.41 seconds.\n"
     ]
    },
    {
     "name": "stdout",
     "output_type": "stream",
     "text": [
      "6N\n",
      "      Iter       Train Loss   Remaining Time \n",
      "         1           0.9218            2.63s\n",
      "         2           0.7018            2.85s\n",
      "         3           0.5570            2.88s\n",
      "         4           0.4625            2.82s\n",
      "         5           0.3828            2.80s\n",
      "         6           0.3059            2.77s\n",
      "         7           0.2518            2.76s\n",
      "         8           0.2139            2.69s\n",
      "         9           0.1759            2.70s\n",
      "        10           0.1498            2.66s\n",
      "        20           0.0269            2.37s\n",
      "        30           0.0054            2.08s\n",
      "        40           0.0011            1.78s\n",
      "        50           0.0004            1.36s\n",
      "        60           0.0004            0.91s\n",
      "        70           0.0004            0.59s\n",
      "        80           0.0004            0.34s\n",
      "        90           0.0004            0.15s\n",
      "       100           0.0004            0.00s\n"
     ]
    },
    {
     "name": "stderr",
     "output_type": "stream",
     "text": [
      "Fitting classifier: 1.39 seconds\n"
     ]
    },
    {
     "name": "stdout",
     "output_type": "stream",
     "text": [
      "aws s3 cp /shared/CSHL_classifiers/setting_99/classifiers/6N_clf_setting_99.dump s3://mousebrainatlas-data/CSHL_classifiers/setting_99/classifiers/6N_clf_setting_99.dump\n"
     ]
    },
    {
     "name": "stderr",
     "output_type": "stream",
     "text": [
      "Child returned 0\n",
      "0.41 seconds.\n"
     ]
    },
    {
     "name": "stdout",
     "output_type": "stream",
     "text": [
      "SNR\n",
      "      Iter       Train Loss   Remaining Time \n",
      "         1           0.7999            4.15s\n",
      "         2           0.6607            4.41s\n",
      "         3           0.5532            4.30s\n",
      "         4           0.4665            4.25s\n",
      "         5           0.3909            4.32s\n",
      "         6           0.3313            4.37s\n",
      "         7           0.2886            4.28s\n",
      "         8           0.2571            4.17s\n",
      "         9           0.2204            4.17s\n",
      "        10           0.1877            4.17s\n",
      "        20           0.0561            3.65s\n",
      "        30           0.0210            3.12s\n",
      "        40           0.0064            2.69s\n",
      "        50           0.0023            2.23s\n",
      "        60           0.0008            1.78s\n",
      "        70           0.0004            1.27s\n",
      "        80           0.0004            0.74s\n",
      "        90           0.0004            0.33s\n",
      "       100           0.0004            0.00s\n",
      "aws s3 cp /shared/CSHL_classifiers/setting_99/classifiers/SNR_clf_setting_99.dump s3://mousebrainatlas-data/CSHL_classifiers/setting_99/classifiers/SNR_clf_setting_99.dump\n"
     ]
    },
    {
     "name": "stderr",
     "output_type": "stream",
     "text": [
      "Fitting classifier: 3.00 seconds\n",
      "Child returned 0\n",
      "0.36 seconds.\n"
     ]
    },
    {
     "name": "stdout",
     "output_type": "stream",
     "text": [
      "SC\n",
      "      Iter       Train Loss   Remaining Time \n",
      "         1           1.0485            3.09s\n",
      "         2           0.9059            3.02s\n",
      "         3           0.7961            2.90s\n",
      "         4           0.6944            2.89s\n",
      "         5           0.6202            2.80s\n",
      "         6           0.5470            2.76s\n",
      "         7           0.4869            2.71s\n",
      "         8           0.4305            2.70s\n",
      "         9           0.3761            2.67s\n",
      "        10           0.3429            2.62s\n",
      "        20           0.1131            2.35s\n",
      "        30           0.0384            2.04s\n",
      "        40           0.0153            1.73s\n",
      "        50           0.0056            1.44s\n",
      "        60           0.0021            1.16s\n",
      "        70           0.0008            0.86s\n",
      "        80           0.0005            0.53s\n",
      "        90           0.0005            0.24s\n",
      "       100           0.0005            0.00s\n",
      "aws s3 cp /shared/CSHL_classifiers/setting_99/classifiers/SC_clf_setting_99.dump s3://mousebrainatlas-data/CSHL_classifiers/setting_99/classifiers/SC_clf_setting_99.dump\n"
     ]
    },
    {
     "name": "stderr",
     "output_type": "stream",
     "text": [
      "Fitting classifier: 2.16 seconds\n",
      "Child returned 0\n",
      "0.41 seconds.\n"
     ]
    },
    {
     "name": "stdout",
     "output_type": "stream",
     "text": [
      "3N\n",
      "      Iter       Train Loss   Remaining Time \n",
      "         1           1.0229            2.80s\n",
      "         2           0.8617            2.85s\n",
      "         3           0.7249            2.87s\n",
      "         4           0.6155            2.85s\n",
      "         5           0.5126            2.91s\n",
      "         6           0.4442            2.93s\n",
      "         7           0.3900            2.88s\n",
      "         8           0.3361            2.86s\n",
      "         9           0.2921            2.82s\n",
      "        10           0.2612            2.77s\n",
      "        20           0.0794            2.35s\n",
      "        30           0.0251            2.05s\n",
      "        40           0.0072            1.76s\n",
      "        50           0.0022            1.47s\n",
      "        60           0.0007            1.17s\n",
      "        70           0.0005            0.79s\n",
      "        80           0.0005            0.46s\n",
      "        90           0.0005            0.20s\n",
      "       100           0.0005            0.00s\n",
      "aws s3 cp /shared/CSHL_classifiers/setting_99/classifiers/3N_clf_setting_99.dump s3://mousebrainatlas-data/CSHL_classifiers/setting_99/classifiers/3N_clf_setting_99.dump\n"
     ]
    },
    {
     "name": "stderr",
     "output_type": "stream",
     "text": [
      "Fitting classifier: 1.86 seconds\n",
      "Child returned 0\n",
      "0.36 seconds.\n"
     ]
    }
   ],
   "source": [
    "clf_dir = create_if_not_exists(os.path.join(setting_dir, 'classifiers'))\n",
    "\n",
    "for structure in structures_found:\n",
    "\n",
    "    print structure\n",
    "    \n",
    "    #############################\n",
    "    ## Define Positive Samples ##\n",
    "    #############################\n",
    "    \n",
    "    features_pos = training_features[structure]\n",
    "    n_pos = len(features_pos)\n",
    "    \n",
    "    #############################\n",
    "    ## Define Negative Samples ##\n",
    "    #############################\n",
    "    \n",
    "#     if setting in [1, 3, 4, 5, 6, 7]:\n",
    "    if neg_composition == 'neg_has_only_surround_noclass':\n",
    "        neg_classes = [convert_to_surround_name(structure, margin=margin, suffix='noclass')]\n",
    "#     elif setting in [2, 10, 23, 24, 25, 26]:\n",
    "    elif neg_composition == 'neg_has_all_surround':\n",
    "        neg_classes = [convert_to_surround_name(structure, margin=margin, suffix='noclass')]\n",
    "        for surr_s in structures_found:\n",
    "            c = convert_to_surround_name(structure, margin=margin, suffix=surr_s)\n",
    "            if c in labels_found:\n",
    "                neg_classes.append(c)\n",
    "#     elif setting in [8,9,11]:\n",
    "    elif neg_composition == 'neg_has_everything_else':\n",
    "        neg_classes = [structure + '_negative']\n",
    "    else:\n",
    "        raise Exception('neg_composition %s is not recognized.' % neg_composition)\n",
    "\n",
    "    features_neg = np.concatenate([training_features[neg_class] for neg_class in neg_classes])\n",
    "        \n",
    "    n_neg = len(features_neg)\n",
    "        \n",
    "    ###########################\n",
    "    ## Define Sample Weights ##\n",
    "    ###########################\n",
    "    \n",
    "#     if setting == 9:\n",
    "    if sample_weighting == 'weighted':\n",
    "        neg_distances = np.concatenate([distances_to_structures[neg_class][structure] for neg_class in neg_classes])\n",
    "            \n",
    "        sample_weights_neg = np.ones((n_neg,))\n",
    "        sample_weights_neg[neg_distances > thresh] = diminishing(neg_distances[neg_distances > thresh])\n",
    "        sample_weights = np.r_[np.ones((n_pos,)), sample_weights_neg]\n",
    "    else:\n",
    "        sample_weights = None\n",
    "    \n",
    "    ###########################################################################################\n",
    "\n",
    "    train_data = np.r_[features_pos, features_neg]\n",
    "    train_labels = np.r_[np.ones((features_pos.shape[0], )), \n",
    "                         -np.ones((features_neg.shape[0], ))]\n",
    "    \n",
    "#     n_train = len(train_labels0)\n",
    "#     ri = np.random.choice(range(n_train), size=100, replace=False)\n",
    "#     train_data = train_data0[ri]\n",
    "#     train_labels = train_labels0[ri]\n",
    "    \n",
    "    ##################\n",
    "    ## Define Model ##\n",
    "    ##################\n",
    "    \n",
    "#     if setting in [1, 2, 8, 9, 10, 11, 23, 24]:\n",
    "    if model == 'lr':\n",
    "        clf = LogisticRegression(penalty='l2', dual=False, tol=0.0001, C=1.0, \n",
    "                                 fit_intercept=True, intercept_scaling=1, class_weight=None, \n",
    "                                 random_state=None, solver='liblinear', max_iter=100, multi_class='ovr', \n",
    "                                 verbose=0, warm_start=False, n_jobs=1)\n",
    "            \n",
    "#     elif setting == 3:\n",
    "    elif model == 'lin_svc':\n",
    "        clf = SVC(C=1.0, kernel='linear', degree=3, gamma='auto', coef0=0.0, shrinking=True, \n",
    "                  probability=True, tol=0.001, cache_size=1000, max_iter=-1,\n",
    "              decision_function_shape=None, random_state=None)\n",
    "        \n",
    "\n",
    "#     elif setting == 4:\n",
    "    elif model == 'lin_svc_calib':\n",
    "        \n",
    "        sv_uncalibrated = LinearSVC(penalty='l2', loss='squared_hinge', dual=True, tol=0.0001, \n",
    "                                C=1.0, multi_class='ovr', \n",
    "                                fit_intercept=True, intercept_scaling=1, max_iter=100)\n",
    "        clf = CalibratedClassifierCV(sv_uncalibrated)\n",
    "        \n",
    "        \n",
    "#     elif setting in [5]:        \n",
    "    elif model == 'xgb1':\n",
    "        clf = XGBClassifier(max_depth=3, learning_rate=0.2, n_estimators=200, \n",
    "                            silent=False, objective='binary:logistic', nthread=-1, gamma=0, \n",
    "                            min_child_weight=20, max_delta_step=0, subsample=.8, \n",
    "                            colsample_bytree=.8, colsample_bylevel=1, reg_alpha=0, reg_lambda=1, \n",
    "                            scale_pos_weight=1, base_score=0.5, seed=0, missing=None)\n",
    "        \n",
    "#     elif setting in [6, 25]:\n",
    "    elif model == 'gb1':\n",
    "        clf = GradientBoostingClassifier(loss='deviance', learning_rate=0.3, n_estimators=200, \n",
    "                                         subsample=1., criterion='friedman_mse', \n",
    "                                         min_samples_split=50, min_samples_leaf=20, \n",
    "                                         min_weight_fraction_leaf=0.0, max_depth=3, \n",
    "                                         min_impurity_split=1e-07, init=None, random_state=None, \n",
    "                                         max_features=None, verbose=1, max_leaf_nodes=None, \n",
    "                                         warm_start=False, presort='auto')\n",
    "        \n",
    "#     elif setting in [7, 26]:     \n",
    "    elif model == 'gb2':\n",
    "        clf = GradientBoostingClassifier(loss='deviance', learning_rate=0.3, n_estimators=100, \n",
    "                                         subsample=1., criterion='friedman_mse', \n",
    "                                         min_samples_split=50, min_samples_leaf=20, \n",
    "                                         min_weight_fraction_leaf=0.0, max_depth=5, \n",
    "                                         min_impurity_split=1e-07, init=None, random_state=None, \n",
    "                                         max_features=None, verbose=1, max_leaf_nodes=None, \n",
    "                                         warm_start=False, presort='auto')\n",
    "        \n",
    "    \n",
    "    else:\n",
    "        sys.stderr.write('Setting is not recognized.\\n')\n",
    "\n",
    "    \n",
    "    t = time.time()    \n",
    "    clf.fit(train_data, train_labels, sample_weight=sample_weights)\n",
    "    sys.stderr.write('Fitting classifier: %.2f seconds\\n' % (time.time() - t))\n",
    "\n",
    "    clf_fp = os.path.join(clf_dir, '%(structure)s_clf_setting_%(setting)d.dump' % \\\n",
    "                                  dict(structure=structure, setting=classifier_id))\n",
    "    \n",
    "    joblib.dump(clf, clf_fp)\n",
    "    \n",
    "    upload_from_ec2_to_s3(clf_fp)"
   ]
  },
  {
   "cell_type": "markdown",
   "metadata": {},
   "source": [
    "# Load pre-computed classifiers"
   ]
  },
  {
   "cell_type": "code",
   "execution_count": null,
   "metadata": {
    "collapsed": true
   },
   "outputs": [],
   "source": [
    "classifier_id = 99"
   ]
  },
  {
   "cell_type": "code",
   "execution_count": 17,
   "metadata": {
    "scrolled": true
   },
   "outputs": [
    {
     "name": "stdout",
     "output_type": "stream",
     "text": [
      "rm -rf /shared/CSHL_classifiers/setting_99/classifiers/sp5_clf_setting_99.dump && mkdir -p /shared/CSHL_classifiers/setting_99/classifiers\n",
      "aws s3 cp s3://mousebrainatlas-data/CSHL_classifiers/setting_99/classifiers/sp5_clf_setting_99.dump /shared/CSHL_classifiers/setting_99/classifiers/sp5_clf_setting_99.dump\n"
     ]
    },
    {
     "name": "stderr",
     "output_type": "stream",
     "text": [
      "Child returned 0\n",
      "Child returned 1\n",
      "0.44 seconds.\n",
      "Classifier for sp5 is not found.\n",
      "Child returned 0\n"
     ]
    },
    {
     "name": "stdout",
     "output_type": "stream",
     "text": [
      "rm -rf /shared/CSHL_classifiers/setting_99/classifiers/outerContour_clf_setting_99.dump && mkdir -p /shared/CSHL_classifiers/setting_99/classifiers\n",
      "aws s3 cp s3://mousebrainatlas-data/CSHL_classifiers/setting_99/classifiers/outerContour_clf_setting_99.dump /shared/CSHL_classifiers/setting_99/classifiers/outerContour_clf_setting_99.dump\n"
     ]
    },
    {
     "name": "stderr",
     "output_type": "stream",
     "text": [
      "Child returned 1\n",
      "0.35 seconds.\n",
      "Classifier for outerContour is not found.\n"
     ]
    }
   ],
   "source": [
    "clf_allClasses = {}\n",
    "for structure in structures_to_sample:\n",
    "    clf_fp = os.path.join(setting_dir, 'classifiers', '%(structure)s_clf_setting_%(setting)d.dump' % {'structure': structure, 'setting':classifier_id})\n",
    "    download_from_s3_to_ec2(clf_fp)\n",
    "    if os.path.exists(clf_fp):\n",
    "        clf_allClasses[structure] = joblib.load(clf_fp)\n",
    "    else:\n",
    "        sys.stderr.write('Classifier for %s is not found.\\n' % structure)"
   ]
  },
  {
   "cell_type": "code",
   "execution_count": 14,
   "metadata": {},
   "outputs": [],
   "source": [
    "margin = 500\n",
    "neg_composition = 'neg_has_all_surround'"
   ]
  },
  {
   "cell_type": "code",
   "execution_count": 15,
   "metadata": {},
   "outputs": [
    {
     "data": {
      "image/png": "[encoded data removed]",
      "text/plain": [
       "<matplotlib.figure.Figure at 0x7ffb480193d0>"
      ]
     },
     "metadata": {},
     "output_type": "display_data"
    }
   ],
   "source": [
    "# Compute training accuracy\n",
    "\n",
    "acc_all_structures = {}\n",
    "\n",
    "ncols = 5\n",
    "nrows = int(np.ceil(len(structures_found)/float(ncols)))\n",
    "\n",
    "fig, axes = plt.subplots(nrows, ncols, figsize=(ncols*2, nrows*2), sharex=True, sharey=True)\n",
    "axes = axes.flatten()\n",
    "\n",
    "for i, structure in enumerate(structures_found):\n",
    "        \n",
    "    features_pos = training_features[structure]\n",
    "    n_pos = len(features_pos)\n",
    "    \n",
    "#     if setting in [1, 3, 4, 5, 6, 7]:\n",
    "#         neg_classes = [convert_to_surround_name(structure, margin=margin, suffix='noclass')]\n",
    "#     elif setting in [2, 10, 23, 24, 25, 26]:\n",
    "#         neg_classes = [convert_to_surround_name(structure, margin=margin, suffix='noclass')]            \n",
    "#         for surr_l in structures_found:\n",
    "#             c = convert_to_surround_name(structure, margin=margin, suffix=surr_l)\n",
    "#             if c in labels_found:\n",
    "#                 neg_classes.append(c)\n",
    "#     elif setting in [8,9,11]:\n",
    "#         neg_classes = [structure + '_negative']\n",
    "#     else:\n",
    "#         sys.stderr.write('Setting is not recognized.\\n')\n",
    "#         raise\n",
    "\n",
    "#     if setting in [1, 3, 4, 5, 6, 7]:\n",
    "    if neg_composition == 'neg_has_only_surround_noclass':\n",
    "        neg_classes = [convert_to_surround_name(structure, margin=margin, suffix='noclass')]\n",
    "#     elif setting in [2, 10, 23, 24, 25, 26]:\n",
    "    elif neg_composition == 'neg_has_all_surround':\n",
    "        neg_classes = [convert_to_surround_name(structure, margin=margin, suffix='noclass')]\n",
    "        for surr_s in structures_found:\n",
    "            c = convert_to_surround_name(structure, margin=margin, suffix=surr_s)\n",
    "            if c in labels_found:\n",
    "                neg_classes.append(c)\n",
    "#     elif setting in [8,9,11]:\n",
    "    elif neg_composition == 'neg_has_everything_else':\n",
    "        neg_classes = [structure + '_negative']\n",
    "    else:\n",
    "        raise Exception('Setting is not recognized.')\n",
    "        \n",
    "        \n",
    "    features_neg = np.concatenate([training_features[neg_class] for neg_class in neg_classes])\n",
    "#     neg_distances = np.concatenate([distances_to_structures[neg_class][label] for neg_class in neg_classes])\n",
    "        \n",
    "    n_neg = len(features_neg)\n",
    "    \n",
    "    train_data = np.r_[features_pos, features_neg]\n",
    "    train_labels = np.r_[np.ones((features_pos.shape[0], )), \n",
    "                         -np.ones((features_neg.shape[0], ))]\n",
    "    \n",
    "    clf = clf_allClasses[structure]\n",
    "    \n",
    "    probs = clf.predict_proba(train_data)[:, clf.classes_.tolist().index(1.)]\n",
    "    cm = compute_confusion_matrix(np.c_[probs, 1-probs], [0 if l==1. else 1 for l in train_labels], soft=True)\n",
    "    \n",
    "    acc_all_structures[structure] = (n_pos*cm[0,0] + n_neg*cm[1,1])/(n_pos + n_neg)\n",
    "    \n",
    "    plot_confusion_matrix(cm, title='%(structure)s'% {'structure':structure},\n",
    "                          labels=['',''],\n",
    "#                           labels=[label, convert_to_surround_name(label)],\n",
    "                         axis=axes[i])\n",
    "#     plt.show();\n",
    "\n",
    "plt.tight_layout()"
   ]
  },
  {
   "cell_type": "code",
   "execution_count": 16,
   "metadata": {},
   "outputs": [
    {
     "name": "stdout",
     "output_type": "stream",
     "text": [
      "training accuracy: 0.999782360074\n"
     ]
    }
   ],
   "source": [
    "print 'training accuracy:', np.mean(acc_all_structures.values())"
   ]
  },
  {
   "cell_type": "code",
   "execution_count": null,
   "metadata": {
    "collapsed": true
   },
   "outputs": [],
   "source": []
  },
  {
   "cell_type": "code",
   "execution_count": 34,
   "metadata": {
    "collapsed": true
   },
   "outputs": [],
   "source": [
    "def patch_boxes_overlay_on(bg, downscale_factor, locs, patch_size, colors=None, stack=None, sec=None):\n",
    "    \"\"\"\n",
    "    Assume bg has the specified downscale_factor.\n",
    "    \"\"\"\n",
    "\n",
    "    if bg == 'original':\n",
    "        bg = imread(DataManager.get_image_filepath(stack=stack, section=sec, version='compressed'))[::downscale_factor, ::downscale_factor]\n",
    "       \n",
    "    # viz = bg.copy()\n",
    "    viz = gray2rgb(bg).copy()\n",
    "    # need copy() because of this bug http://stackoverflow.com/a/31316516\n",
    "    \n",
    "    half_size = patch_size/2/downscale_factor\n",
    "    if isinstance(locs[0], list):\n",
    "        if colors is None:\n",
    "            colors = random_colors(len(locs))\n",
    "        for i, locs_oneColor in enumerate(locs):\n",
    "            for x, y in locs_oneColor:\n",
    "                x = x / downscale_factor\n",
    "                y = y / downscale_factor\n",
    "                cv2.rectangle(viz, (x-half_size, y-half_size), (x+half_size, y+half_size), colors[i], 2)\n",
    "    else:\n",
    "        if colors is None:\n",
    "            colors = (255,0,0)\n",
    "        for x, y in locs:\n",
    "            x = x / downscale_factor\n",
    "            y = y / downscale_factor\n",
    "            cv2.rectangle(viz, (x-half_size, y-half_size), (x+half_size, y+half_size), colors, 2)\n",
    "            \n",
    "    return viz"
   ]
  },
  {
   "cell_type": "code",
   "execution_count": 35,
   "metadata": {},
   "outputs": [
    {
     "data": {
      "text/html": [
       "<a href='tmp.jpg' target='_blank'>tmp.jpg</a><br>"
      ],
      "text/plain": [
       "/shared/MouseBrainAtlas/learning/tmp.jpg"
      ]
     },
     "execution_count": 35,
     "metadata": {},
     "output_type": "execute_result"
    }
   ],
   "source": [
    "# Visualize a patch in context\n",
    "\n",
    "patch_size, stride, _, _ = get_default_gridspec('MD589')\n",
    "grid_locations = grid_parameters_to_sample_locations(get_default_gridspec('MD589'))\n",
    "viz = patch_boxes_overlay_on('original', 8, \n",
    "                       [grid_locations[44453]],\n",
    "                      patch_size=patch_size,\n",
    "                      stack='MD589',\n",
    "                       sec=219)\n",
    "display_image(viz)"
   ]
  }
 ],
 "metadata": {
  "kernelspec": {
   "display_name": "Python 2",
   "language": "python",
   "name": "python2"
  },
  "language_info": {
   "codemirror_mode": {
    "name": "ipython",
    "version": 2
   },
   "file_extension": ".py",
   "mimetype": "text/x-python",
   "name": "python",
   "nbconvert_exporter": "python",
   "pygments_lexer": "ipython2",
   "version": "2.7.12"
  }
 },
 "nbformat": 4,
 "nbformat_minor": 1
}
