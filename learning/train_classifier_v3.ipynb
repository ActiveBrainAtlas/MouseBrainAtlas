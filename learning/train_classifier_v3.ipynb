{
 "cells": [
  {
   "cell_type": "code",
   "execution_count": 2,
   "metadata": {
    "collapsed": false
   },
   "outputs": [
    {
     "name": "stdout",
     "output_type": "stream",
     "text": [
      "Setting environment for Gordon\n"
     ]
    },
    {
     "name": "stderr",
     "output_type": "stream",
     "text": [
      "No vtk\n",
      "Cannot import mxnet.\n"
     ]
    }
   ],
   "source": [
    "%reload_ext autoreload\n",
    "%autoreload 2\n",
    "\n",
    "import os\n",
    "import sys\n",
    "import time\n",
    "\n",
    "sys.path.append(os.path.join(os.environ['REPO_DIR'], 'utilities'))\n",
    "from utilities2015 import *\n",
    "from metadata import *\n",
    "from data_manager import *\n",
    "\n",
    "import matplotlib.pyplot as plt\n",
    "%matplotlib inline\n",
    "\n",
    "import numpy as np\n",
    "\n",
    "from learning_utilities import *"
   ]
  },
  {
   "cell_type": "code",
   "execution_count": 3,
   "metadata": {
    "collapsed": true
   },
   "outputs": [],
   "source": [
    "from sklearn.externals import joblib\n",
    "\n",
    "from sklearn.linear_model import LogisticRegression\n",
    "from sklearn.svm import LinearSVC, SVC\n",
    "from sklearn.calibration import CalibratedClassifierCV\n",
    "from sklearn.ensemble import GradientBoostingClassifier \n",
    "\n",
    "sys.path.append('/home/yuncong/csd395/xgboost/python-package')\n",
    "from xgboost.sklearn import XGBClassifier"
   ]
  },
  {
   "cell_type": "code",
   "execution_count": 4,
   "metadata": {
    "collapsed": false
   },
   "outputs": [],
   "source": [
    "structures_to_sample = all_known_structures\n",
    "\n",
    "negative_labels_to_sample = [s + '_negative' for s in structures_to_sample]\n",
    "\n",
    "margins_to_sample = [200, 500]\n",
    "surround_labels_to_sample = [convert_to_surround_name(s, margin=m, suffix=surr_l) \n",
    "                             for m in margins_to_sample\n",
    "                             for s in structures_to_sample \n",
    "                             for surr_l in structures_to_sample + ['noclass'] \n",
    "                             if surr_l != s]\n",
    "\n",
    "labels_to_sample = structures_to_sample + negative_labels_to_sample + surround_labels_to_sample + ['noclass']"
   ]
  },
  {
   "cell_type": "markdown",
   "metadata": {},
   "source": [
    "# Extract Training Data"
   ]
  },
  {
   "cell_type": "code",
   "execution_count": 27,
   "metadata": {
    "collapsed": false
   },
   "outputs": [],
   "source": [
    "# Extract training features - random subset\n",
    "\n",
    "training_addresses = defaultdict(list)\n",
    "\n",
    "labels_found = set([])\n",
    "\n",
    "# for stack in all_annotated_nissl_stacks:\n",
    "for stack in all_annotated_ntb_stacks:\n",
    "\n",
    "    annotation_grid_indices_fn = os.path.join(ANNOTATION_ROOTDIR, stack, stack + '_annotation_grid_indices.h5')\n",
    "    label_gridIndices = read_hdf(annotation_grid_indices_fn, 'grid_indices')\n",
    "    \n",
    "    labels_this_stack = set(label_gridIndices.index) & set(labels_to_sample)\n",
    "    labels_found = labels_found | labels_this_stack\n",
    "    \n",
    "    training_addresses_sec_idx = sample_locations(label_gridIndices, labels_this_stack, \n",
    "                                                  num_samples_per_landmark=1000)\n",
    "    \n",
    "    for name, addresses in training_addresses_sec_idx.iteritems():\n",
    "        training_addresses[name] += [(stack, ) + addr for addr in addresses]\n",
    "        \n",
    "training_addresses.default_factory = None\n",
    "        \n",
    "# sampled_addresses = {name_u: np.array(addresses) for name_u, addresses in sampled_addresses.iteritems()}"
   ]
  },
  {
   "cell_type": "code",
   "execution_count": 30,
   "metadata": {
    "collapsed": false
   },
   "outputs": [
    {
     "name": "stdout",
     "output_type": "stream",
     "text": [
      "('MD635', 75)\n",
      "('MD635', 76)\n",
      "('MD635', 77)\n",
      "('MD635', 78)\n",
      "('MD635', 79)\n",
      "('MD635', 80)\n",
      "('MD635', 81)\n",
      "('MD635', 82)\n"
     ]
    },
    {
     "name": "stderr",
     "output_type": "stream",
     "text": [
      "Patch in annotation but not in mask: MD635 82 MD635-F28-2016.05.18-21.46.26_MD635_1_0082 alignedTo MD635-F63-2016.05.19-08.39.03_MD635_2_0188 @31786\n",
      "Patch in annotation but not in mask: MD635 82 MD635-F28-2016.05.18-21.46.26_MD635_1_0082 alignedTo MD635-F63-2016.05.19-08.39.03_MD635_2_0188 @28772\n",
      "Patch in annotation but not in mask: MD635 82 MD635-F28-2016.05.18-21.46.26_MD635_1_0082 alignedTo MD635-F63-2016.05.19-08.39.03_MD635_2_0188 @31537\n",
      "Patch in annotation but not in mask: MD635 82 MD635-F28-2016.05.18-21.46.26_MD635_1_0082 alignedTo MD635-F63-2016.05.19-08.39.03_MD635_2_0188 @35047\n",
      "Patch in annotation but not in mask: MD635 82 MD635-F28-2016.05.18-21.46.26_MD635_1_0082 alignedTo MD635-F63-2016.05.19-08.39.03_MD635_2_0188 @30782\n"
     ]
    },
    {
     "name": "stdout",
     "output_type": "stream",
     "text": [
      "('MD635', 83)\n",
      "('MD635', 84)\n",
      "('MD635', 85)\n",
      "('MD635', 86)\n",
      "('MD635', 87)\n"
     ]
    },
    {
     "name": "stderr",
     "output_type": "stream",
     "text": [
      "Patch in annotation but not in mask: MD635 87 MD635-F29-2016.05.18-22.01.14_MD635_3_0087 alignedTo MD635-F63-2016.05.19-08.39.03_MD635_2_0188 @94\n"
     ]
    },
    {
     "name": "stdout",
     "output_type": "stream",
     "text": [
      "('MD635', 88)\n"
     ]
    },
    {
     "name": "stderr",
     "output_type": "stream",
     "text": [
      "Patch in annotation but not in mask: MD635 88 MD635-F30-2016.05.18-22.15.39_MD635_1_0088 alignedTo MD635-F63-2016.05.19-08.39.03_MD635_2_0188 @170\n"
     ]
    },
    {
     "name": "stdout",
     "output_type": "stream",
     "text": [
      "('MD635', 89)\n",
      "('MD635', 90)\n",
      "('MD635', 91)\n",
      "('MD635', 92)\n",
      "('MD635', 94)\n"
     ]
    },
    {
     "name": "stderr",
     "output_type": "stream",
     "text": [
      "Patch in annotation but not in mask: MD635 94 MD635-F32-2016.05.18-22.50.16_MD635_1_0094 alignedTo MD635-F63-2016.05.19-08.39.03_MD635_2_0188 @123\n"
     ]
    },
    {
     "name": "stdout",
     "output_type": "stream",
     "text": [
      "('MD635', 95)\n"
     ]
    },
    {
     "name": "stderr",
     "output_type": "stream",
     "text": [
      "Patch in annotation but not in mask: MD635 95 MD635-F32-2016.05.18-22.50.16_MD635_2_0095 alignedTo MD635-F63-2016.05.19-08.39.03_MD635_2_0188 @157\n"
     ]
    },
    {
     "name": "stdout",
     "output_type": "stream",
     "text": [
      "('MD635', 96)\n",
      "('MD635', 97)\n"
     ]
    },
    {
     "name": "stderr",
     "output_type": "stream",
     "text": [
      "Patch in annotation but not in mask: MD635 97 MD635-F33-2016.05.18-23.06.34_MD635_1_0097 alignedTo MD635-F63-2016.05.19-08.39.03_MD635_2_0188 @50\n"
     ]
    },
    {
     "name": "stdout",
     "output_type": "stream",
     "text": [
      "('MD635', 98)\n"
     ]
    },
    {
     "name": "stderr",
     "output_type": "stream",
     "text": [
      "Patch in annotation but not in mask: MD635 98 MD635-F33-2016.05.18-23.06.34_MD635_2_0098 alignedTo MD635-F63-2016.05.19-08.39.03_MD635_2_0188 @220\n",
      "Patch in annotation but not in mask: MD635 98 MD635-F33-2016.05.18-23.06.34_MD635_2_0098 alignedTo MD635-F63-2016.05.19-08.39.03_MD635_2_0188 @146\n"
     ]
    },
    {
     "name": "stdout",
     "output_type": "stream",
     "text": [
      "('MD635', 99)\n",
      "('MD635', 100)\n"
     ]
    },
    {
     "name": "stderr",
     "output_type": "stream",
     "text": [
      "Patch in annotation but not in mask: MD635 100 MD635-F34-2016.05.18-23.23.55_MD635_1_0100 alignedTo MD635-F63-2016.05.19-08.39.03_MD635_2_0188 @188\n",
      "Patch in annotation but not in mask: MD635 100 MD635-F34-2016.05.18-23.23.55_MD635_1_0100 alignedTo MD635-F63-2016.05.19-08.39.03_MD635_2_0188 @72\n"
     ]
    },
    {
     "name": "stdout",
     "output_type": "stream",
     "text": [
      "('MD635', 101)\n"
     ]
    },
    {
     "name": "stderr",
     "output_type": "stream",
     "text": [
      "Patch in annotation but not in mask: MD635 101 MD635-F34-2016.05.18-23.23.55_MD635_2_0101 alignedTo MD635-F63-2016.05.19-08.39.03_MD635_2_0188 @207\n",
      "Patch in annotation but not in mask: MD635 101 MD635-F34-2016.05.18-23.23.55_MD635_2_0101 alignedTo MD635-F63-2016.05.19-08.39.03_MD635_2_0188 @167\n"
     ]
    },
    {
     "name": "stdout",
     "output_type": "stream",
     "text": [
      "('MD635', 102)\n",
      "('MD635', 103)\n",
      "('MD635', 104)\n"
     ]
    },
    {
     "name": "stderr",
     "output_type": "stream",
     "text": [
      "Patch in annotation but not in mask: MD635 104 MD635-F35-2016.05.18-23.40.52_MD635_2_0104 alignedTo MD635-F63-2016.05.19-08.39.03_MD635_2_0188 @160\n"
     ]
    },
    {
     "name": "stdout",
     "output_type": "stream",
     "text": [
      "('MD635', 105)\n"
     ]
    },
    {
     "name": "stderr",
     "output_type": "stream",
     "text": [
      "Patch in annotation but not in mask: MD635 105 MD635-F35-2016.05.18-23.40.52_MD635_3_0105 alignedTo MD635-F63-2016.05.19-08.39.03_MD635_2_0188 @211\n",
      "Patch in annotation but not in mask: MD635 105 MD635-F35-2016.05.18-23.40.52_MD635_3_0105 alignedTo MD635-F63-2016.05.19-08.39.03_MD635_2_0188 @222\n"
     ]
    },
    {
     "name": "stdout",
     "output_type": "stream",
     "text": [
      "('MD635', 106)\n"
     ]
    },
    {
     "name": "stderr",
     "output_type": "stream",
     "text": [
      "Patch in annotation but not in mask: MD635 106 MD635-F36-2016.05.18-23.59.35_MD635_1_0106 alignedTo MD635-F63-2016.05.19-08.39.03_MD635_2_0188 @177\n"
     ]
    },
    {
     "name": "stdout",
     "output_type": "stream",
     "text": [
      "('MD635', 107)\n"
     ]
    },
    {
     "name": "stderr",
     "output_type": "stream",
     "text": [
      "Patch in annotation but not in mask: MD635 107 MD635-F36-2016.05.18-23.59.35_MD635_2_0107 alignedTo MD635-F63-2016.05.19-08.39.03_MD635_2_0188 @222\n"
     ]
    },
    {
     "name": "stdout",
     "output_type": "stream",
     "text": [
      "('MD635', 108)\n",
      "('MD635', 109)\n",
      "('MD635', 110)\n",
      "('MD635', 111)\n",
      "('MD635', 112)\n"
     ]
    },
    {
     "name": "stderr",
     "output_type": "stream",
     "text": [
      "Patch in annotation but not in mask: MD635 112 MD635-F38-2016.05.19-00.34.28_MD635_1_0112 alignedTo MD635-F63-2016.05.19-08.39.03_MD635_2_0188 @196\n"
     ]
    },
    {
     "name": "stdout",
     "output_type": "stream",
     "text": [
      "('MD635', 113)\n",
      "('MD635', 114)\n",
      "('MD635', 115)\n",
      "('MD635', 116)\n",
      "('MD635', 117)\n"
     ]
    },
    {
     "name": "stderr",
     "output_type": "stream",
     "text": [
      "Patch in annotation but not in mask: MD635 117 MD635-F39-2016.05.19-00.52.10_MD635_3_0117 alignedTo MD635-F63-2016.05.19-08.39.03_MD635_2_0188 @63\n"
     ]
    },
    {
     "name": "stdout",
     "output_type": "stream",
     "text": [
      "('MD635', 118)\n",
      "('MD635', 119)\n"
     ]
    },
    {
     "name": "stderr",
     "output_type": "stream",
     "text": [
      "Patch in annotation but not in mask: MD635 119 MD635-F40-2016.05.19-01.08.51_MD635_2_0119 alignedTo MD635-F63-2016.05.19-08.39.03_MD635_2_0188 @133\n"
     ]
    },
    {
     "name": "stdout",
     "output_type": "stream",
     "text": [
      "('MD635', 120)\n"
     ]
    },
    {
     "name": "stderr",
     "output_type": "stream",
     "text": [
      "Patch in annotation but not in mask: MD635 120 MD635-F40-2016.05.19-01.08.51_MD635_3_0120 alignedTo MD635-F63-2016.05.19-08.39.03_MD635_2_0188 @60\n",
      "Patch in annotation but not in mask: MD635 120 MD635-F40-2016.05.19-01.08.51_MD635_3_0120 alignedTo MD635-F63-2016.05.19-08.39.03_MD635_2_0188 @201\n"
     ]
    },
    {
     "name": "stdout",
     "output_type": "stream",
     "text": [
      "('MD635', 121)\n",
      "('MD635', 122)\n",
      "('MD635', 123)\n"
     ]
    },
    {
     "name": "stderr",
     "output_type": "stream",
     "text": [
      "Patch in annotation but not in mask: MD635 123 MD635-F41-2016.05.19-01.28.39_MD635_3_0123 alignedTo MD635-F63-2016.05.19-08.39.03_MD635_2_0188 @80\n",
      "Patch in annotation but not in mask: MD635 123 MD635-F41-2016.05.19-01.28.39_MD635_3_0123 alignedTo MD635-F63-2016.05.19-08.39.03_MD635_2_0188 @178\n"
     ]
    },
    {
     "name": "stdout",
     "output_type": "stream",
     "text": [
      "('MD635', 124)\n",
      "('MD635', 125)\n"
     ]
    },
    {
     "name": "stderr",
     "output_type": "stream",
     "text": [
      "Patch in annotation but not in mask: MD635 125 MD635-F42-2016.05.19-01.47.04_MD635_2_0125 alignedTo MD635-F63-2016.05.19-08.39.03_MD635_2_0188 @122\n"
     ]
    },
    {
     "name": "stdout",
     "output_type": "stream",
     "text": [
      "('MD635', 126)\n",
      "('MD635', 127)\n"
     ]
    },
    {
     "name": "stderr",
     "output_type": "stream",
     "text": [
      "Patch in annotation but not in mask: MD635 127 MD635-F43-2016.05.19-02.06.14_MD635_1_0127 alignedTo MD635-F63-2016.05.19-08.39.03_MD635_2_0188 @85\n"
     ]
    },
    {
     "name": "stdout",
     "output_type": "stream",
     "text": [
      "('MD635', 128)\n",
      "('MD635', 129)\n",
      "('MD635', 130)\n",
      "('MD635', 131)\n"
     ]
    },
    {
     "name": "stderr",
     "output_type": "stream",
     "text": [
      "Patch in annotation but not in mask: MD635 131 MD635-F44-2016.05.19-02.24.57_MD635_2_0131 alignedTo MD635-F63-2016.05.19-08.39.03_MD635_2_0188 @188\n"
     ]
    },
    {
     "name": "stdout",
     "output_type": "stream",
     "text": [
      "('MD635', 132)\n",
      "('MD635', 133)\n"
     ]
    },
    {
     "name": "stderr",
     "output_type": "stream",
     "text": [
      "Patch in annotation but not in mask: MD635 133 MD635-F45-2016.05.19-02.43.09_MD635_1_0133 alignedTo MD635-F63-2016.05.19-08.39.03_MD635_2_0188 @78\n"
     ]
    },
    {
     "name": "stdout",
     "output_type": "stream",
     "text": [
      "('MD635', 134)\n",
      "('MD635', 135)\n"
     ]
    },
    {
     "name": "stderr",
     "output_type": "stream",
     "text": [
      "Patch in annotation but not in mask: MD635 135 MD635-F45-2016.05.19-02.43.09_MD635_3_0135 alignedTo MD635-F63-2016.05.19-08.39.03_MD635_2_0188 @86\n"
     ]
    },
    {
     "name": "stdout",
     "output_type": "stream",
     "text": [
      "('MD635', 136)\n"
     ]
    },
    {
     "name": "stderr",
     "output_type": "stream",
     "text": [
      "Patch in annotation but not in mask: MD635 136 MD635-F46-2016.05.19-03.02.11_MD635_1_0136 alignedTo MD635-F63-2016.05.19-08.39.03_MD635_2_0188 @180\n",
      "Patch in annotation but not in mask: MD635 136 MD635-F46-2016.05.19-03.02.11_MD635_1_0136 alignedTo MD635-F63-2016.05.19-08.39.03_MD635_2_0188 @218\n"
     ]
    },
    {
     "name": "stdout",
     "output_type": "stream",
     "text": [
      "('MD635', 137)\n"
     ]
    },
    {
     "name": "stderr",
     "output_type": "stream",
     "text": [
      "Patch in annotation but not in mask: MD635 137 MD635-F46-2016.05.19-03.02.11_MD635_2_0137 alignedTo MD635-F63-2016.05.19-08.39.03_MD635_2_0188 @227\n"
     ]
    },
    {
     "name": "stdout",
     "output_type": "stream",
     "text": [
      "('MD635', 138)\n"
     ]
    },
    {
     "name": "stderr",
     "output_type": "stream",
     "text": [
      "Patch in annotation but not in mask: MD635 138 MD635-F46-2016.05.19-03.02.11_MD635_3_0138 alignedTo MD635-F63-2016.05.19-08.39.03_MD635_2_0188 @197\n"
     ]
    },
    {
     "name": "stdout",
     "output_type": "stream",
     "text": [
      "('MD635', 139)\n",
      "('MD635', 140)\n"
     ]
    },
    {
     "name": "stderr",
     "output_type": "stream",
     "text": [
      "Patch in annotation but not in mask: MD635 140 MD635-F47-2016.05.19-03.19.48_MD635_2_0140 alignedTo MD635-F63-2016.05.19-08.39.03_MD635_2_0188 @89\n",
      "Patch in annotation but not in mask: MD635 140 MD635-F47-2016.05.19-03.19.48_MD635_2_0140 alignedTo MD635-F63-2016.05.19-08.39.03_MD635_2_0188 @41600\n",
      "Patch in annotation but not in mask: MD635 140 MD635-F47-2016.05.19-03.19.48_MD635_2_0140 alignedTo MD635-F63-2016.05.19-08.39.03_MD635_2_0188 @41851\n"
     ]
    },
    {
     "name": "stdout",
     "output_type": "stream",
     "text": [
      "('MD635', 141)\n",
      "('MD635', 142)\n",
      "('MD635', 143)\n"
     ]
    },
    {
     "name": "stderr",
     "output_type": "stream",
     "text": [
      "Patch in annotation but not in mask: MD635 143 MD635-F48-2016.05.19-03.40.12_MD635_2_0143 alignedTo MD635-F63-2016.05.19-08.39.03_MD635_2_0188 @207\n"
     ]
    },
    {
     "name": "stdout",
     "output_type": "stream",
     "text": [
      "('MD635', 144)\n"
     ]
    },
    {
     "name": "stderr",
     "output_type": "stream",
     "text": [
      "Patch in annotation but not in mask: MD635 144 MD635-F48-2016.05.19-03.40.12_MD635_3_0144 alignedTo MD635-F63-2016.05.19-08.39.03_MD635_2_0188 @22\n"
     ]
    },
    {
     "name": "stdout",
     "output_type": "stream",
     "text": [
      "('MD635', 145)\n"
     ]
    },
    {
     "name": "stderr",
     "output_type": "stream",
     "text": [
      "Patch in annotation but not in mask: MD635 145 MD635-F49-2016.05.19-03.59.43_MD635_1_0145 alignedTo MD635-F63-2016.05.19-08.39.03_MD635_2_0188 @153\n",
      "Patch in annotation but not in mask: MD635 145 MD635-F49-2016.05.19-03.59.43_MD635_1_0145 alignedTo MD635-F63-2016.05.19-08.39.03_MD635_2_0188 @64\n"
     ]
    },
    {
     "name": "stdout",
     "output_type": "stream",
     "text": [
      "('MD635', 146)\n",
      "('MD635', 147)\n"
     ]
    },
    {
     "name": "stderr",
     "output_type": "stream",
     "text": [
      "Patch in annotation but not in mask: MD635 147 MD635-F49-2016.05.23-14.25.13_MD635_3_0147 alignedTo MD635-F63-2016.05.19-08.39.03_MD635_2_0188 @196\n"
     ]
    },
    {
     "name": "stdout",
     "output_type": "stream",
     "text": [
      "('MD635', 148)\n",
      "('MD635', 149)\n"
     ]
    },
    {
     "name": "stderr",
     "output_type": "stream",
     "text": [
      "Patch in annotation but not in mask: MD635 149 MD635-F50-2016.05.23-14.45.07_MD635_2_0149 alignedTo MD635-F63-2016.05.19-08.39.03_MD635_2_0188 @37\n",
      "Patch in annotation but not in mask: MD635 149 MD635-F50-2016.05.23-14.45.07_MD635_2_0149 alignedTo MD635-F63-2016.05.19-08.39.03_MD635_2_0188 @64\n"
     ]
    },
    {
     "name": "stdout",
     "output_type": "stream",
     "text": [
      "('MD635', 150)\n"
     ]
    },
    {
     "name": "stderr",
     "output_type": "stream",
     "text": [
      "Patch in annotation but not in mask: MD635 150 MD635-F50-2016.05.23-14.45.07_MD635_3_0150 alignedTo MD635-F63-2016.05.19-08.39.03_MD635_2_0188 @167\n",
      "Patch in annotation but not in mask: MD635 150 MD635-F50-2016.05.23-14.45.07_MD635_3_0150 alignedTo MD635-F63-2016.05.19-08.39.03_MD635_2_0188 @142\n",
      "Patch in annotation but not in mask: MD635 150 MD635-F50-2016.05.23-14.45.07_MD635_3_0150 alignedTo MD635-F63-2016.05.19-08.39.03_MD635_2_0188 @90\n"
     ]
    },
    {
     "name": "stdout",
     "output_type": "stream",
     "text": [
      "('MD635', 151)\n",
      "('MD635', 152)\n"
     ]
    },
    {
     "name": "stderr",
     "output_type": "stream",
     "text": [
      "Patch in annotation but not in mask: MD635 152 MD635-F51-2016.05.23-15.04.39_MD635_2_0152 alignedTo MD635-F63-2016.05.19-08.39.03_MD635_2_0188 @20\n"
     ]
    },
    {
     "name": "stdout",
     "output_type": "stream",
     "text": [
      "('MD635', 153)\n",
      "('MD635', 154)\n"
     ]
    },
    {
     "name": "stderr",
     "output_type": "stream",
     "text": [
      "Patch in annotation but not in mask: MD635 154 MD635-F52-2016.05.23-15.23.47_MD635_1_0154 alignedTo MD635-F63-2016.05.19-08.39.03_MD635_2_0188 @40\n",
      "Patch in annotation but not in mask: MD635 154 MD635-F52-2016.05.23-15.23.47_MD635_1_0154 alignedTo MD635-F63-2016.05.19-08.39.03_MD635_2_0188 @27\n",
      "Patch in annotation but not in mask: MD635 154 MD635-F52-2016.05.23-15.23.47_MD635_1_0154 alignedTo MD635-F63-2016.05.19-08.39.03_MD635_2_0188 @119\n"
     ]
    },
    {
     "name": "stdout",
     "output_type": "stream",
     "text": [
      "('MD635', 155)\n",
      "('MD635', 156)\n",
      "('MD635', 157)\n",
      "('MD635', 158)\n"
     ]
    },
    {
     "name": "stderr",
     "output_type": "stream",
     "text": [
      "Patch in annotation but not in mask: MD635 158 MD635-F53-2016.05.19-05.14.50_MD635_2_0158 alignedTo MD635-F63-2016.05.19-08.39.03_MD635_2_0188 @65\n"
     ]
    },
    {
     "name": "stdout",
     "output_type": "stream",
     "text": [
      "('MD635', 159)\n"
     ]
    },
    {
     "name": "stderr",
     "output_type": "stream",
     "text": [
      "Patch in annotation but not in mask: MD635 159 MD635-F53-2016.05.19-05.14.50_MD635_3_0159 alignedTo MD635-F63-2016.05.19-08.39.03_MD635_2_0188 @183\n"
     ]
    },
    {
     "name": "stdout",
     "output_type": "stream",
     "text": [
      "('MD635', 160)\n",
      "('MD635', 161)\n",
      "('MD635', 162)\n",
      "('MD635', 163)\n",
      "('MD635', 164)\n",
      "('MD635', 165)\n",
      "('MD635', 166)\n",
      "('MD635', 167)\n"
     ]
    },
    {
     "name": "stderr",
     "output_type": "stream",
     "text": [
      "Patch in annotation but not in mask: MD635 167 MD635-F57-2016.05.19-06.32.00_MD635_2_0170 alignedTo MD635-F63-2016.05.19-08.39.03_MD635_2_0188 @66\n"
     ]
    },
    {
     "name": "stdout",
     "output_type": "stream",
     "text": [
      "('MD635', 168)\n",
      "('MD635', 169)\n"
     ]
    },
    {
     "name": "stderr",
     "output_type": "stream",
     "text": [
      "Patch in annotation but not in mask: MD635 169 MD635-F58-2016.05.19-06.52.57_MD635_2_0173 alignedTo MD635-F63-2016.05.19-08.39.03_MD635_2_0188 @81\n"
     ]
    },
    {
     "name": "stdout",
     "output_type": "stream",
     "text": [
      "('MD635', 170)\n"
     ]
    },
    {
     "name": "stderr",
     "output_type": "stream",
     "text": [
      "Patch in annotation but not in mask: MD635 170 MD635-F59-2016.05.19-07.14.24_MD635_1_0175 alignedTo MD635-F63-2016.05.19-08.39.03_MD635_2_0188 @82\n",
      "Patch in annotation but not in mask: MD635 170 MD635-F59-2016.05.19-07.14.24_MD635_1_0175 alignedTo MD635-F63-2016.05.19-08.39.03_MD635_2_0188 @192\n"
     ]
    },
    {
     "name": "stdout",
     "output_type": "stream",
     "text": [
      "('MD635', 171)\n"
     ]
    },
    {
     "name": "stderr",
     "output_type": "stream",
     "text": [
      "Patch in annotation but not in mask: MD635 171 MD635-F59-2016.05.19-07.14.24_MD635_2_0176 alignedTo MD635-F63-2016.05.19-08.39.03_MD635_2_0188 @54\n",
      "Patch in annotation but not in mask: MD635 171 MD635-F59-2016.05.19-07.14.24_MD635_2_0176 alignedTo MD635-F63-2016.05.19-08.39.03_MD635_2_0188 @223\n"
     ]
    },
    {
     "name": "stdout",
     "output_type": "stream",
     "text": [
      "('MD635', 172)\n",
      "('MD635', 173)\n"
     ]
    },
    {
     "name": "stderr",
     "output_type": "stream",
     "text": [
      "Patch in annotation but not in mask: MD635 173 MD635-F60-2016.05.19-07.35.14_MD635_2_0179 alignedTo MD635-F63-2016.05.19-08.39.03_MD635_2_0188 @182\n",
      "Patch in annotation but not in mask: MD635 173 MD635-F60-2016.05.19-07.35.14_MD635_2_0179 alignedTo MD635-F63-2016.05.19-08.39.03_MD635_2_0188 @221\n"
     ]
    },
    {
     "name": "stdout",
     "output_type": "stream",
     "text": [
      "('MD635', 174)\n"
     ]
    },
    {
     "name": "stderr",
     "output_type": "stream",
     "text": [
      "Patch in annotation but not in mask: MD635 174 MD635-F61-2016.05.19-07.56.43_MD635_1_0181 alignedTo MD635-F63-2016.05.19-08.39.03_MD635_2_0188 @222\n",
      "Patch in annotation but not in mask: MD635 174 MD635-F61-2016.05.19-07.56.43_MD635_1_0181 alignedTo MD635-F63-2016.05.19-08.39.03_MD635_2_0188 @227\n",
      "Patch in annotation but not in mask: MD635 174 MD635-F61-2016.05.19-07.56.43_MD635_1_0181 alignedTo MD635-F63-2016.05.19-08.39.03_MD635_2_0188 @145\n"
     ]
    },
    {
     "name": "stdout",
     "output_type": "stream",
     "text": [
      "('MD635', 175)\n"
     ]
    },
    {
     "name": "stderr",
     "output_type": "stream",
     "text": [
      "Patch in annotation but not in mask: MD635 175 MD635-F61-2016.05.19-07.56.43_MD635_2_0182 alignedTo MD635-F63-2016.05.19-08.39.03_MD635_2_0188 @37\n"
     ]
    },
    {
     "name": "stdout",
     "output_type": "stream",
     "text": [
      "('MD635', 176)\n"
     ]
    },
    {
     "name": "stderr",
     "output_type": "stream",
     "text": [
      "Patch in annotation but not in mask: MD635 176 MD635-F62-2016.05.19-08.18.25_MD635_1_0184 alignedTo MD635-F63-2016.05.19-08.39.03_MD635_2_0188 @112\n"
     ]
    },
    {
     "name": "stdout",
     "output_type": "stream",
     "text": [
      "('MD635', 177)\n"
     ]
    },
    {
     "name": "stderr",
     "output_type": "stream",
     "text": [
      "Patch in annotation but not in mask: MD635 177 MD635-F62-2016.05.19-08.18.25_MD635_2_0185 alignedTo MD635-F63-2016.05.19-08.39.03_MD635_2_0188 @47\n"
     ]
    },
    {
     "name": "stdout",
     "output_type": "stream",
     "text": [
      "('MD635', 178)\n",
      "('MD635', 179)\n",
      "('MD635', 180)\n",
      "('MD635', 181)\n",
      "('MD635', 182)\n",
      "('MD635', 183)\n",
      "('MD635', 184)\n",
      "('MD635', 185)\n"
     ]
    },
    {
     "name": "stderr",
     "output_type": "stream",
     "text": [
      "Patch in annotation but not in mask: MD635 185 MD635-F66-2016.05.19-09.39.33_MD635_2_0197 alignedTo MD635-F63-2016.05.19-08.39.03_MD635_2_0188 @147\n"
     ]
    },
    {
     "name": "stdout",
     "output_type": "stream",
     "text": [
      "('MD635', 186)\n",
      "('MD635', 187)\n",
      "('MD635', 188)\n",
      "('MD635', 189)\n",
      "('MD635', 190)\n"
     ]
    },
    {
     "name": "stderr",
     "output_type": "stream",
     "text": [
      "Patch in annotation but not in mask: MD635 190 MD635-F69-2016.05.19-10.38.34_MD635_1_0205 alignedTo MD635-F63-2016.05.19-08.39.03_MD635_2_0188 @58\n"
     ]
    },
    {
     "name": "stdout",
     "output_type": "stream",
     "text": [
      "('MD635', 191)\n"
     ]
    },
    {
     "name": "stderr",
     "output_type": "stream",
     "text": [
      "Patch in annotation but not in mask: MD635 191 MD635-F69-2016.05.19-10.38.34_MD635_2_0206 alignedTo MD635-F63-2016.05.19-08.39.03_MD635_2_0188 @176\n"
     ]
    },
    {
     "name": "stdout",
     "output_type": "stream",
     "text": [
      "('MD635', 192)\n",
      "('MD635', 193)\n",
      "('MD635', 194)\n",
      "('MD635', 195)\n",
      "('MD635', 196)\n",
      "('MD635', 197)\n"
     ]
    },
    {
     "name": "stderr",
     "output_type": "stream",
     "text": [
      "Patch in annotation but not in mask: MD635 197 MD635-F72-2016.05.19-11.37.07_MD635_2_0215 alignedTo MD635-F63-2016.05.19-08.39.03_MD635_2_0188 @14056\n"
     ]
    },
    {
     "name": "stdout",
     "output_type": "stream",
     "text": [
      "('MD635', 198)\n"
     ]
    },
    {
     "name": "stderr",
     "output_type": "stream",
     "text": [
      "Patch in annotation but not in mask: MD635 198 MD635-F73-2016.05.19-11.56.44_MD635_1_0217 alignedTo MD635-F63-2016.05.19-08.39.03_MD635_2_0188 @16315\n",
      "Patch in annotation but not in mask: MD635 198 MD635-F73-2016.05.19-11.56.44_MD635_1_0217 alignedTo MD635-F63-2016.05.19-08.39.03_MD635_2_0188 @136\n"
     ]
    },
    {
     "name": "stdout",
     "output_type": "stream",
     "text": [
      "('MD635', 199)\n"
     ]
    },
    {
     "name": "stderr",
     "output_type": "stream",
     "text": [
      "Patch in annotation but not in mask: MD635 199 MD635-F73-2016.05.19-11.56.44_MD635_2_0218 alignedTo MD635-F63-2016.05.19-08.39.03_MD635_2_0188 @140\n"
     ]
    },
    {
     "name": "stdout",
     "output_type": "stream",
     "text": [
      "('MD635', 200)\n"
     ]
    },
    {
     "name": "stderr",
     "output_type": "stream",
     "text": [
      "Patch in annotation but not in mask: MD635 200 MD635-F74-2016.05.19-12.15.18_MD635_1_0220 alignedTo MD635-F63-2016.05.19-08.39.03_MD635_2_0188 @19781\n",
      "Patch in annotation but not in mask: MD635 200 MD635-F74-2016.05.19-12.15.18_MD635_1_0220 alignedTo MD635-F63-2016.05.19-08.39.03_MD635_2_0188 @20026\n",
      "Patch in annotation but not in mask: MD635 200 MD635-F74-2016.05.19-12.15.18_MD635_1_0220 alignedTo MD635-F63-2016.05.19-08.39.03_MD635_2_0188 @21542\n",
      "Patch in annotation but not in mask: MD635 200 MD635-F74-2016.05.19-12.15.18_MD635_1_0220 alignedTo MD635-F63-2016.05.19-08.39.03_MD635_2_0188 @21536\n",
      "Patch in annotation but not in mask: MD635 200 MD635-F74-2016.05.19-12.15.18_MD635_1_0220 alignedTo MD635-F63-2016.05.19-08.39.03_MD635_2_0188 @20786\n",
      "Patch in annotation but not in mask: MD635 200 MD635-F74-2016.05.19-12.15.18_MD635_1_0220 alignedTo MD635-F63-2016.05.19-08.39.03_MD635_2_0188 @21785\n",
      "Patch in annotation but not in mask: MD635 200 MD635-F74-2016.05.19-12.15.18_MD635_1_0220 alignedTo MD635-F63-2016.05.19-08.39.03_MD635_2_0188 @20031\n",
      "Patch in annotation but not in mask: MD635 200 MD635-F74-2016.05.19-12.15.18_MD635_1_0220 alignedTo MD635-F63-2016.05.19-08.39.03_MD635_2_0188 @20780\n"
     ]
    },
    {
     "name": "stdout",
     "output_type": "stream",
     "text": [
      "('MD635', 201)\n",
      "('MD635', 202)\n"
     ]
    },
    {
     "name": "stderr",
     "output_type": "stream",
     "text": [
      "Patch in annotation but not in mask: MD635 202 MD635-F75-2016.05.19-12.32.46_MD635_1_0223 alignedTo MD635-F63-2016.05.19-08.39.03_MD635_2_0188 @16566\n"
     ]
    },
    {
     "name": "stdout",
     "output_type": "stream",
     "text": [
      "('MD635', 203)\n",
      "('MD635', 204)\n"
     ]
    },
    {
     "name": "stderr",
     "output_type": "stream",
     "text": [
      "Patch in annotation but not in mask: MD635 204 MD635-F76-2016.05.19-12.50.14_MD635_1_0226 alignedTo MD635-F63-2016.05.19-08.39.03_MD635_2_0188 @241\n",
      "Patch in annotation but not in mask: MD635 204 MD635-F76-2016.05.19-12.50.14_MD635_1_0226 alignedTo MD635-F63-2016.05.19-08.39.03_MD635_2_0188 @158\n"
     ]
    },
    {
     "name": "stdout",
     "output_type": "stream",
     "text": [
      "('MD635', 206)\n",
      "('MD635', 207)\n",
      "('MD635', 208)\n",
      "('MD635', 209)\n"
     ]
    },
    {
     "name": "stderr",
     "output_type": "stream",
     "text": [
      "Patch in annotation but not in mask: MD635 209 MD635-F78-2016.05.19-13.26.25_MD635_2_0233 alignedTo MD635-F63-2016.05.19-08.39.03_MD635_2_0188 @34\n",
      "Patch in annotation but not in mask: MD635 209 MD635-F78-2016.05.19-13.26.25_MD635_2_0233 alignedTo MD635-F63-2016.05.19-08.39.03_MD635_2_0188 @100\n"
     ]
    },
    {
     "name": "stdout",
     "output_type": "stream",
     "text": [
      "('MD635', 210)\n"
     ]
    },
    {
     "name": "stderr",
     "output_type": "stream",
     "text": [
      "Patch in annotation but not in mask: MD635 210 MD635-F79-2016.05.19-13.44.43_MD635_1_0235 alignedTo MD635-F63-2016.05.19-08.39.03_MD635_2_0188 @223\n"
     ]
    },
    {
     "name": "stdout",
     "output_type": "stream",
     "text": [
      "('MD635', 211)\n"
     ]
    },
    {
     "name": "stderr",
     "output_type": "stream",
     "text": [
      "Patch in annotation but not in mask: MD635 211 MD635-F79-2016.05.19-13.44.43_MD635_2_0236 alignedTo MD635-F63-2016.05.19-08.39.03_MD635_2_0188 @134\n"
     ]
    },
    {
     "name": "stdout",
     "output_type": "stream",
     "text": [
      "('MD635', 212)\n",
      "('MD635', 213)\n",
      "('MD635', 214)\n"
     ]
    },
    {
     "name": "stderr",
     "output_type": "stream",
     "text": [
      "Patch in annotation but not in mask: MD635 214 MD635-F81-2016.05.19-14.21.58_MD635_1_0241 alignedTo MD635-F63-2016.05.19-08.39.03_MD635_2_0188 @136\n"
     ]
    },
    {
     "name": "stdout",
     "output_type": "stream",
     "text": [
      "('MD635', 216)\n",
      "('MD635', 217)\n",
      "('MD635', 218)\n"
     ]
    },
    {
     "name": "stderr",
     "output_type": "stream",
     "text": [
      "Patch in annotation but not in mask: MD635 218 MD635-F83-2016.05.19-14.59.24_MD635_1_0247 alignedTo MD635-F63-2016.05.19-08.39.03_MD635_2_0188 @24\n"
     ]
    },
    {
     "name": "stdout",
     "output_type": "stream",
     "text": [
      "('MD635', 219)\n"
     ]
    },
    {
     "name": "stderr",
     "output_type": "stream",
     "text": [
      "Patch in annotation but not in mask: MD635 219 MD635-F83-2016.05.19-14.59.24_MD635_2_0248 alignedTo MD635-F63-2016.05.19-08.39.03_MD635_2_0188 @142\n"
     ]
    },
    {
     "name": "stdout",
     "output_type": "stream",
     "text": [
      "('MD635', 220)\n",
      "('MD635', 221)\n"
     ]
    },
    {
     "name": "stderr",
     "output_type": "stream",
     "text": [
      "Patch in annotation but not in mask: MD635 221 MD635-F84-2016.05.19-15.18.11_MD635_2_0251 alignedTo MD635-F63-2016.05.19-08.39.03_MD635_2_0188 @132\n",
      "Patch in annotation but not in mask: MD635 221 MD635-F84-2016.05.19-15.18.11_MD635_2_0251 alignedTo MD635-F63-2016.05.19-08.39.03_MD635_2_0188 @179\n",
      "Patch in annotation but not in mask: MD635 221 MD635-F84-2016.05.19-15.18.11_MD635_2_0251 alignedTo MD635-F63-2016.05.19-08.39.03_MD635_2_0188 @147\n"
     ]
    },
    {
     "name": "stdout",
     "output_type": "stream",
     "text": [
      "('MD635', 222)\n"
     ]
    },
    {
     "name": "stderr",
     "output_type": "stream",
     "text": [
      "Patch in annotation but not in mask: MD635 222 MD635-F85-2016.05.19-15.36.47_MD635_1_0253 alignedTo MD635-F63-2016.05.19-08.39.03_MD635_2_0188 @133\n"
     ]
    },
    {
     "name": "stdout",
     "output_type": "stream",
     "text": [
      "('MD635', 223)\n",
      "('MD635', 224)\n",
      "('MD635', 225)\n"
     ]
    },
    {
     "name": "stderr",
     "output_type": "stream",
     "text": [
      "Patch in annotation but not in mask: MD635 225 MD635-F86-2016.05.19-15.55.34_MD635_2_0257 alignedTo MD635-F63-2016.05.19-08.39.03_MD635_2_0188 @191\n",
      "Patch in annotation but not in mask: MD635 225 MD635-F86-2016.05.19-15.55.34_MD635_2_0257 alignedTo MD635-F63-2016.05.19-08.39.03_MD635_2_0188 @214\n"
     ]
    },
    {
     "name": "stdout",
     "output_type": "stream",
     "text": [
      "('MD635', 226)\n",
      "('MD635', 227)\n",
      "('MD635', 228)\n"
     ]
    },
    {
     "name": "stderr",
     "output_type": "stream",
     "text": [
      "Patch in annotation but not in mask: MD635 228 MD635-F88-2016.05.19-16.34.48_MD635_1_0262 alignedTo MD635-F63-2016.05.19-08.39.03_MD635_2_0188 @79\n",
      "Patch in annotation but not in mask: MD635 228 MD635-F88-2016.05.19-16.34.48_MD635_1_0262 alignedTo MD635-F63-2016.05.19-08.39.03_MD635_2_0188 @108\n",
      "Patch in annotation but not in mask: MD635 228 MD635-F88-2016.05.19-16.34.48_MD635_1_0262 alignedTo MD635-F63-2016.05.19-08.39.03_MD635_2_0188 @29\n"
     ]
    },
    {
     "name": "stdout",
     "output_type": "stream",
     "text": [
      "('MD635', 229)\n",
      "('MD635', 230)\n"
     ]
    },
    {
     "name": "stderr",
     "output_type": "stream",
     "text": [
      "Patch in annotation but not in mask: MD635 230 MD635-F89-2016.05.19-16.53.54_MD635_1_0265 alignedTo MD635-F63-2016.05.19-08.39.03_MD635_2_0188 @52\n",
      "Patch in annotation but not in mask: MD635 230 MD635-F89-2016.05.19-16.53.54_MD635_1_0265 alignedTo MD635-F63-2016.05.19-08.39.03_MD635_2_0188 @237\n",
      "Patch in annotation but not in mask: MD635 230 MD635-F89-2016.05.19-16.53.54_MD635_1_0265 alignedTo MD635-F63-2016.05.19-08.39.03_MD635_2_0188 @91\n"
     ]
    },
    {
     "name": "stdout",
     "output_type": "stream",
     "text": [
      "('MD635', 231)\n",
      "('MD635', 233)\n",
      "('MD635', 234)\n",
      "('MD635', 235)\n",
      "('MD635', 236)\n",
      "('MD635', 237)\n"
     ]
    },
    {
     "name": "stderr",
     "output_type": "stream",
     "text": [
      "Patch in annotation but not in mask: MD635 237 MD635-F92-2016.05.19-17.52.45_MD635_2_0275 alignedTo MD635-F63-2016.05.19-08.39.03_MD635_2_0188 @170\n"
     ]
    },
    {
     "name": "stdout",
     "output_type": "stream",
     "text": [
      "('MD635', 238)\n",
      "('MD635', 239)\n"
     ]
    },
    {
     "name": "stderr",
     "output_type": "stream",
     "text": [
      "Patch in annotation but not in mask: MD635 239 MD635-F93-2016.05.19-18.12.24_MD635_2_0278 alignedTo MD635-F63-2016.05.19-08.39.03_MD635_2_0188 @14\n"
     ]
    },
    {
     "name": "stdout",
     "output_type": "stream",
     "text": [
      "('MD635', 240)\n"
     ]
    }
   ],
   "source": [
    "training_features = apply_function_to_dict(addresses_to_features, training_addresses)"
   ]
  },
  {
   "cell_type": "code",
   "execution_count": 33,
   "metadata": {
    "collapsed": true
   },
   "outputs": [],
   "source": [
    "# Remove addresses whose features are None\n",
    "\n",
    "# for name in labels_found:\n",
    "#     valid = [(ftr, addr) for ftr, addr in zip(training_features[name], training_addresses[name])\n",
    "#                 if ftr is not None]\n",
    "#     res = zip(*valid)\n",
    "#     training_features[name] = np.array(res[0])\n",
    "#     training_addresses[name] = res[1]\n",
    "    \n",
    "training_features = {label: np.array([f for f in feats if f is not None]) \n",
    "                 for label, feats in training_features.iteritems()}"
   ]
  },
  {
   "cell_type": "code",
   "execution_count": 72,
   "metadata": {
    "collapsed": false
   },
   "outputs": [
    {
     "name": "stdout",
     "output_type": "stream",
     "text": [
      "10N \t\t1000\n",
      "10N_negative \t\t995\n",
      "10N_surround_200_12N \t\t1000\n",
      "10N_surround_200_noclass \t\t1000\n",
      "10N_surround_500_12N \t\t1000\n",
      "10N_surround_500_AP \t\t76\n",
      "10N_surround_500_noclass \t\t1000\n",
      "12N \t\t1000\n",
      "12N_negative \t\t998\n",
      "12N_surround_200_10N \t\t1000\n",
      "12N_surround_200_noclass \t\t1000\n",
      "12N_surround_500_10N \t\t1000\n",
      "12N_surround_500_AP \t\t106\n",
      "12N_surround_500_noclass \t\t1000\n",
      "5N \t\t1000\n",
      "5N_negative \t\t994\n",
      "5N_surround_200_noclass \t\t1000\n",
      "5N_surround_500_noclass \t\t1000\n",
      "6N \t\t496\n",
      "6N_negative \t\t998\n",
      "6N_surround_200_7n \t\t49\n",
      "6N_surround_200_noclass \t\t1000\n",
      "6N_surround_500_7n \t\t101\n",
      "6N_surround_500_noclass \t\t1000\n",
      "7N \t\t998\n",
      "7N_negative \t\t997\n",
      "7N_surround_200_noclass \t\t1000\n",
      "7N_surround_500_7n \t\t110\n",
      "7N_surround_500_noclass \t\t1000\n",
      "7n \t\t1000\n",
      "7n_negative \t\t996\n",
      "7n_surround_200_6N \t\t54\n",
      "7n_surround_200_noclass \t\t1000\n",
      "7n_surround_500_6N \t\t125\n",
      "7n_surround_500_7N \t\t108\n",
      "7n_surround_500_noclass \t\t1000\n",
      "AP \t\t923\n",
      "AP_negative \t\t996\n",
      "AP_surround_200_noclass \t\t1000\n",
      "AP_surround_500_10N \t\t58\n",
      "AP_surround_500_12N \t\t142\n",
      "AP_surround_500_noclass \t\t1000\n",
      "DC \t\t1000\n",
      "DC_negative \t\t993\n",
      "DC_surround_200_VCA \t\t5\n",
      "DC_surround_200_VCP \t\t29\n",
      "DC_surround_200_noclass \t\t1000\n",
      "DC_surround_500_VCA \t\t888\n",
      "DC_surround_500_VCP \t\t981\n",
      "DC_surround_500_noclass \t\t1000\n",
      "IC \t\t1000\n",
      "IC_negative \t\t994\n",
      "IC_surround_200_SC \t\t1000\n",
      "IC_surround_200_noclass \t\t1000\n",
      "IC_surround_500_SC \t\t1000\n",
      "IC_surround_500_noclass \t\t1000\n",
      "LC \t\t1000\n",
      "LC_negative \t\t995\n",
      "LC_surround_200_noclass \t\t1000\n",
      "LC_surround_500_noclass \t\t1000\n",
      "Pn \t\t992\n",
      "Pn_negative \t\t996\n",
      "Pn_surround_200_RtTg \t\t449\n",
      "Pn_surround_200_noclass \t\t1000\n",
      "Pn_surround_500_RtTg \t\t1000\n",
      "Pn_surround_500_Tz \t\t5\n",
      "Pn_surround_500_noclass \t\t1000\n",
      "RtTg \t\t1000\n",
      "RtTg_negative \t\t995\n",
      "RtTg_surround_200_Pn \t\t482\n",
      "RtTg_surround_200_Tz \t\t3\n",
      "RtTg_surround_200_noclass \t\t1000\n",
      "RtTg_surround_500_Pn \t\t1000\n",
      "RtTg_surround_500_Tz \t\t470\n",
      "RtTg_surround_500_noclass \t\t1000\n",
      "SC \t\t1000\n",
      "SC_negative \t\t995\n",
      "SC_surround_200_IC \t\t1000\n",
      "SC_surround_200_noclass \t\t1000\n",
      "SC_surround_500_IC \t\t1000\n",
      "SC_surround_500_noclass \t\t1000\n",
      "SNC \t\t949\n",
      "SNC_negative \t\t998\n",
      "SNC_surround_200_SNR \t\t663\n",
      "SNC_surround_200_noclass \t\t1000\n",
      "SNC_surround_500_SNR \t\t1000\n",
      "SNC_surround_500_noclass \t\t1000\n",
      "SNR \t\t1000\n",
      "SNR_negative \t\t992\n",
      "SNR_surround_200_SNC \t\t490\n",
      "SNR_surround_200_noclass \t\t1000\n",
      "SNR_surround_500_SNC \t\t949\n",
      "SNR_surround_500_VLL \t\t240\n",
      "SNR_surround_500_noclass \t\t1000\n",
      "Sp5C \t\t1000\n",
      "Sp5C_negative \t\t997\n",
      "Sp5C_surround_200_noclass \t\t1000\n",
      "Sp5C_surround_500_noclass \t\t1000\n",
      "Tz \t\t1000\n",
      "Tz_negative \t\t999\n",
      "Tz_surround_200_RtTg \t\t8\n",
      "Tz_surround_200_noclass \t\t1000\n",
      "Tz_surround_500_Pn \t\t7\n",
      "Tz_surround_500_RtTg \t\t771\n",
      "Tz_surround_500_noclass \t\t1000\n",
      "VCA \t\t995\n",
      "VCA_negative \t\t993\n",
      "VCA_surround_200_DC \t\t5\n",
      "VCA_surround_200_VCP \t\t408\n",
      "VCA_surround_200_noclass \t\t1000\n",
      "VCA_surround_500_DC \t\t928\n",
      "VCA_surround_500_VCP \t\t1000\n",
      "VCA_surround_500_noclass \t\t1000\n",
      "VCP \t\t1000\n",
      "VCP_negative \t\t993\n",
      "VCP_surround_200_DC \t\t27\n",
      "VCP_surround_200_VCA \t\t455\n",
      "VCP_surround_200_noclass \t\t1000\n",
      "VCP_surround_500_DC \t\t1000\n",
      "VCP_surround_500_VCA \t\t1000\n",
      "VCP_surround_500_noclass \t\t1000\n",
      "VLL \t\t1000\n",
      "VLL_negative \t\t996\n",
      "VLL_surround_200_noclass \t\t1000\n",
      "VLL_surround_500_SNR \t\t235\n",
      "VLL_surround_500_noclass \t\t1000\n",
      "noclass \t\t996\n"
     ]
    }
   ],
   "source": [
    "for label in sorted(training_addresses.iterkeys()):\n",
    "    print label, len(training_addresses[label])"
   ]
  },
  {
   "cell_type": "code",
   "execution_count": 35,
   "metadata": {
    "collapsed": true
   },
   "outputs": [],
   "source": [
    "# Save this set as dataset.\n",
    "\n",
    "dataset = 3\n",
    "\n",
    "train_feat_dir = create_if_not_exists(os.path.join(CLF_ROOTDIR, 'datasets', 'dataset_%d' % dataset, 'patch_features'))\n",
    "\n",
    "# Save training features\n",
    "for label, feats in training_features.iteritems():\n",
    "    bp.pack_ndarray_file(feats, os.path.join(train_feat_dir, label + '.bp'))\n",
    "    \n",
    "# Save training addresses\n",
    "save_pickle(training_addresses, os.path.join(CLF_ROOTDIR, 'datasets', 'dataset_%d' % dataset, 'patch_addresses.pkl'))"
   ]
  },
  {
   "cell_type": "markdown",
   "metadata": {},
   "source": [
    "# Load training dataset\n"
   ]
  },
  {
   "cell_type": "code",
   "execution_count": 5,
   "metadata": {
    "collapsed": true
   },
   "outputs": [],
   "source": [
    "dataset = 2"
   ]
  },
  {
   "cell_type": "code",
   "execution_count": 6,
   "metadata": {
    "collapsed": false
   },
   "outputs": [],
   "source": [
    "# load training addresses\n",
    "training_addresses = load_pickle(os.path.join(CLF_ROOTDIR, 'datasets', 'dataset_%d' % dataset, 'patch_addresses.pkl'))\n",
    "training_addresses = {l: addrs for l, addrs in training_addresses.iteritems() if l in labels_to_sample}"
   ]
  },
  {
   "cell_type": "code",
   "execution_count": null,
   "metadata": {
    "collapsed": false
   },
   "outputs": [],
   "source": [
    "# Visualize training patches\n",
    "patches = extract_patches_given_locations_multiple_sections(training_addresses['12N'][:10], \n",
    "                                                            location_or_grid_index='grid_index',\n",
    "                                                            version='compressed')\n",
    "display_images_in_grids(patches)"
   ]
  },
  {
   "cell_type": "code",
   "execution_count": 38,
   "metadata": {
    "collapsed": false
   },
   "outputs": [],
   "source": [
    "# Load training features\n",
    "\n",
    "training_features = {}\n",
    "for label in labels_to_sample:\n",
    "    feat_fp = os.path.join(CLF_ROOTDIR, 'datasets', 'dataset_%d' % dataset, 'patch_features', label + '.bp')\n",
    "    if os.path.exists(feat_fp):\n",
    "        training_features[label] = bp.unpack_ndarray_file(feat_fp)"
   ]
  },
  {
   "cell_type": "code",
   "execution_count": 39,
   "metadata": {
    "collapsed": false
   },
   "outputs": [],
   "source": [
    "assert set(training_addresses.keys()) == set(training_features.keys()), \\\n",
    "'Training features and training addresses are not consistent.'"
   ]
  },
  {
   "cell_type": "code",
   "execution_count": 40,
   "metadata": {
    "collapsed": false
   },
   "outputs": [],
   "source": [
    "labels_found = training_features.keys()\n",
    "structures_found = set([convert_to_original_name(l) for l in labels_found]) - {'noclass'}"
   ]
  },
  {
   "cell_type": "markdown",
   "metadata": {},
   "source": [
    "# Train Classifiers"
   ]
  },
  {
   "cell_type": "code",
   "execution_count": 63,
   "metadata": {
    "collapsed": true
   },
   "outputs": [],
   "source": [
    "setting = 11\n",
    "setting_dir = os.path.join(os.path.join(CLF_ROOTDIR, 'setting_%d' % setting))"
   ]
  },
  {
   "cell_type": "code",
   "execution_count": 64,
   "metadata": {
    "collapsed": true
   },
   "outputs": [],
   "source": [
    "if setting in [1,2,3,4,5,6,7,10]:\n",
    "    margin = 500"
   ]
  },
  {
   "cell_type": "code",
   "execution_count": 65,
   "metadata": {
    "collapsed": false,
    "scrolled": true
   },
   "outputs": [
    {
     "name": "stdout",
     "output_type": "stream",
     "text": [
      "RtTg\n"
     ]
    },
    {
     "name": "stderr",
     "output_type": "stream",
     "text": [
      "Fitting classifier: 2.22 seconds\n"
     ]
    },
    {
     "name": "stdout",
     "output_type": "stream",
     "text": [
      "VCA\n"
     ]
    },
    {
     "name": "stderr",
     "output_type": "stream",
     "text": [
      "Fitting classifier: 1.67 seconds\n"
     ]
    },
    {
     "name": "stdout",
     "output_type": "stream",
     "text": [
      "Tz\n"
     ]
    },
    {
     "name": "stderr",
     "output_type": "stream",
     "text": [
      "Fitting classifier: 1.51 seconds\n"
     ]
    },
    {
     "name": "stdout",
     "output_type": "stream",
     "text": [
      "VLL\n"
     ]
    },
    {
     "name": "stderr",
     "output_type": "stream",
     "text": [
      "Fitting classifier: 1.64 seconds\n"
     ]
    },
    {
     "name": "stdout",
     "output_type": "stream",
     "text": [
      "7n\n"
     ]
    },
    {
     "name": "stderr",
     "output_type": "stream",
     "text": [
      "Fitting classifier: 1.22 seconds\n"
     ]
    },
    {
     "name": "stdout",
     "output_type": "stream",
     "text": [
      "DC\n"
     ]
    },
    {
     "name": "stderr",
     "output_type": "stream",
     "text": [
      "Fitting classifier: 1.91 seconds\n"
     ]
    },
    {
     "name": "stdout",
     "output_type": "stream",
     "text": [
      "12N\n"
     ]
    },
    {
     "name": "stderr",
     "output_type": "stream",
     "text": [
      "Fitting classifier: 1.14 seconds\n"
     ]
    },
    {
     "name": "stdout",
     "output_type": "stream",
     "text": [
      "Sp5C\n"
     ]
    },
    {
     "name": "stderr",
     "output_type": "stream",
     "text": [
      "Fitting classifier: 1.01 seconds\n"
     ]
    },
    {
     "name": "stdout",
     "output_type": "stream",
     "text": [
      "VCP\n"
     ]
    },
    {
     "name": "stderr",
     "output_type": "stream",
     "text": [
      "Fitting classifier: 1.62 seconds\n"
     ]
    },
    {
     "name": "stdout",
     "output_type": "stream",
     "text": [
      "AP\n"
     ]
    },
    {
     "name": "stderr",
     "output_type": "stream",
     "text": [
      "Fitting classifier: 1.01 seconds\n"
     ]
    },
    {
     "name": "stdout",
     "output_type": "stream",
     "text": [
      "5N\n"
     ]
    },
    {
     "name": "stderr",
     "output_type": "stream",
     "text": [
      "Fitting classifier: 1.26 seconds\n"
     ]
    },
    {
     "name": "stdout",
     "output_type": "stream",
     "text": [
      "SNR\n"
     ]
    },
    {
     "name": "stderr",
     "output_type": "stream",
     "text": [
      "Fitting classifier: 2.14 seconds\n"
     ]
    },
    {
     "name": "stdout",
     "output_type": "stream",
     "text": [
      "6N\n"
     ]
    },
    {
     "name": "stderr",
     "output_type": "stream",
     "text": [
      "Fitting classifier: 0.89 seconds\n"
     ]
    },
    {
     "name": "stdout",
     "output_type": "stream",
     "text": [
      "7N\n"
     ]
    },
    {
     "name": "stderr",
     "output_type": "stream",
     "text": [
      "Fitting classifier: 1.44 seconds\n"
     ]
    },
    {
     "name": "stdout",
     "output_type": "stream",
     "text": [
      "SC\n"
     ]
    },
    {
     "name": "stderr",
     "output_type": "stream",
     "text": [
      "Fitting classifier: 2.26 seconds\n"
     ]
    },
    {
     "name": "stdout",
     "output_type": "stream",
     "text": [
      "10N\n"
     ]
    },
    {
     "name": "stderr",
     "output_type": "stream",
     "text": [
      "Fitting classifier: 1.56 seconds\n"
     ]
    },
    {
     "name": "stdout",
     "output_type": "stream",
     "text": [
      "IC\n"
     ]
    },
    {
     "name": "stderr",
     "output_type": "stream",
     "text": [
      "Fitting classifier: 2.96 seconds\n"
     ]
    },
    {
     "name": "stdout",
     "output_type": "stream",
     "text": [
      "LC\n"
     ]
    },
    {
     "name": "stderr",
     "output_type": "stream",
     "text": [
      "Fitting classifier: 1.00 seconds\n"
     ]
    },
    {
     "name": "stdout",
     "output_type": "stream",
     "text": [
      "Pn\n"
     ]
    },
    {
     "name": "stderr",
     "output_type": "stream",
     "text": [
      "Fitting classifier: 1.99 seconds\n"
     ]
    },
    {
     "name": "stdout",
     "output_type": "stream",
     "text": [
      "SNC\n"
     ]
    },
    {
     "name": "stderr",
     "output_type": "stream",
     "text": [
      "Fitting classifier: 1.73 seconds\n"
     ]
    }
   ],
   "source": [
    "clf_dir = create_if_not_exists(os.path.join(setting_dir, 'classifiers'))\n",
    "\n",
    "for structure in structures_found:\n",
    "\n",
    "    print structure\n",
    "    \n",
    "    #############################\n",
    "    ## Define Positive Samples ##\n",
    "    #############################\n",
    "    \n",
    "    features_pos = training_features[structure]\n",
    "    n_pos = len(features_pos)\n",
    "    \n",
    "    #############################\n",
    "    ## Define Negative Samples ##\n",
    "    #############################\n",
    "    \n",
    "    if setting in [1, 3, 4, 5, 6, 7]:\n",
    "        neg_classes = [convert_to_surround_name(structure, margin=margin, suffix='noclass')]\n",
    "    elif setting in [2, 10]:\n",
    "        neg_classes = [convert_to_surround_name(structure, margin=margin, suffix='noclass')]\n",
    "        for surr_s in structures_found:\n",
    "            c = convert_to_surround_name(structure, margin=margin, suffix=surr_s)\n",
    "            if c in labels_found:\n",
    "                neg_classes.append(c)\n",
    "    elif setting in [8,9,11]:\n",
    "        neg_classes = [structure + '_negative']\n",
    "    else:\n",
    "        sys.stderr.write('Setting is not recognized.\\n')\n",
    "\n",
    "    features_neg = np.concatenate([training_features[neg_class] for neg_class in neg_classes])\n",
    "        \n",
    "    n_neg = len(features_neg)\n",
    "        \n",
    "    ###########################\n",
    "    ## Define Sample Weights ##\n",
    "    ###########################\n",
    "    \n",
    "    if setting == 9:\n",
    "        neg_distances = np.concatenate([distances_to_structures[neg_class][structure] for neg_class in neg_classes])\n",
    "            \n",
    "        sample_weights_neg = np.ones((n_neg,))\n",
    "        sample_weights_neg[neg_distances > thresh] = diminishing(neg_distances[neg_distances > thresh])\n",
    "        sample_weights = np.r_[np.ones((n_pos,)), sample_weights_neg]\n",
    "    else:\n",
    "        sample_weights = None\n",
    "    \n",
    "    ###########################################################################################\n",
    "\n",
    "    train_data = np.r_[features_pos, features_neg]\n",
    "    train_labels = np.r_[np.ones((features_pos.shape[0], )), \n",
    "                         -np.ones((features_neg.shape[0], ))]\n",
    "    \n",
    "#     n_train = len(train_labels0)\n",
    "#     ri = np.random.choice(range(n_train), size=100, replace=False)\n",
    "#     train_data = train_data0[ri]\n",
    "#     train_labels = train_labels0[ri]\n",
    "    \n",
    "    ##################\n",
    "    ## Define Model ##\n",
    "    ##################\n",
    "    \n",
    "    if setting in [1, 2, 8, 9, 10, 11]:\n",
    "        clf = LogisticRegression(penalty='l2', dual=False, tol=0.0001, C=1.0, \n",
    "                                 fit_intercept=True, intercept_scaling=1, class_weight=None, \n",
    "                                 random_state=None, solver='liblinear', max_iter=100, multi_class='ovr', \n",
    "                                 verbose=0, warm_start=False, n_jobs=1)\n",
    "            \n",
    "    elif setting == 3:\n",
    "        clf = SVC(C=1.0, kernel='linear', degree=3, gamma='auto', coef0=0.0, shrinking=True, \n",
    "                  probability=True, tol=0.001, cache_size=1000, max_iter=-1,\n",
    "              decision_function_shape=None, random_state=None)\n",
    "        \n",
    "\n",
    "    elif setting == 4:\n",
    "        \n",
    "        sv_uncalibrated = LinearSVC(penalty='l2', loss='squared_hinge', dual=True, tol=0.0001, \n",
    "                                C=1.0, multi_class='ovr', \n",
    "                                fit_intercept=True, intercept_scaling=1, max_iter=100)\n",
    "        clf = CalibratedClassifierCV(sv_uncalibrated)\n",
    "        \n",
    "        \n",
    "    elif setting == 5:        \n",
    "        clf = XGBClassifier(max_depth=3, learning_rate=0.2, n_estimators=200, \n",
    "                            silent=False, objective='binary:logistic', nthread=-1, gamma=0, \n",
    "                            min_child_weight=20, max_delta_step=0, subsample=.8, \n",
    "                            colsample_bytree=.8, colsample_bylevel=1, reg_alpha=0, reg_lambda=1, \n",
    "                            scale_pos_weight=1, base_score=0.5, seed=0, missing=None)\n",
    "        \n",
    "    elif setting == 6:\n",
    "        clf = GradientBoostingClassifier(loss='deviance', learning_rate=0.3, n_estimators=200, \n",
    "                                         subsample=1., criterion='friedman_mse', \n",
    "                                         min_samples_split=50, min_samples_leaf=20, \n",
    "                                         min_weight_fraction_leaf=0.0, max_depth=3, \n",
    "                                         min_impurity_split=1e-07, init=None, random_state=None, \n",
    "                                         max_features=None, verbose=1, max_leaf_nodes=None, \n",
    "                                         warm_start=False, presort='auto')\n",
    "        \n",
    "    elif setting == 7:        \n",
    "        clf = GradientBoostingClassifier(loss='deviance', learning_rate=0.3, n_estimators=100, \n",
    "                                         subsample=1., criterion='friedman_mse', \n",
    "                                         min_samples_split=50, min_samples_leaf=20, \n",
    "                                         min_weight_fraction_leaf=0.0, max_depth=5, \n",
    "                                         min_impurity_split=1e-07, init=None, random_state=None, \n",
    "                                         max_features=None, verbose=1, max_leaf_nodes=None, \n",
    "                                         warm_start=False, presort='auto')\n",
    "        \n",
    "    \n",
    "    else:\n",
    "        sys.stderr.write('Setting is not recognized.\\n')\n",
    "\n",
    "    \n",
    "    t = time.time()    \n",
    "    clf.fit(train_data, train_labels, sample_weight=sample_weights)\n",
    "    sys.stderr.write('Fitting classifier: %.2f seconds\\n' % (time.time() - t))\n",
    "\n",
    "    joblib.dump(clf, os.path.join(clf_dir, '%(structure)s_clf_setting_%(setting)d.dump' % \\\n",
    "                                  dict(structure=structure, setting=setting)))"
   ]
  },
  {
   "cell_type": "markdown",
   "metadata": {},
   "source": [
    "# Load pre-computed svm classifiers"
   ]
  },
  {
   "cell_type": "code",
   "execution_count": 66,
   "metadata": {
    "collapsed": false
   },
   "outputs": [
    {
     "name": "stderr",
     "output_type": "stream",
     "text": [
      "No classifier for Amb is found.\n",
      "No classifier for LRt is found.\n",
      "No classifier for RMC is found.\n",
      "No classifier for 3N is found.\n",
      "No classifier for 4N is found.\n",
      "No classifier for Sp5I is found.\n",
      "No classifier for Sp5O is found.\n",
      "No classifier for PBG is found.\n",
      "No classifier for sp5 is found.\n",
      "No classifier for outerContour is found.\n"
     ]
    }
   ],
   "source": [
    "clf_allClasses = {}\n",
    "for structure in structures_to_sample:\n",
    "    clf_fp = os.path.join(setting_dir, 'classifiers', '%(structure)s_clf_setting_%(setting)d.dump' % {'structure': structure, 'setting':setting})\n",
    "    if os.path.exists(clf_fp):\n",
    "        clf_allClasses[structure] = joblib.load(clf_fp)\n",
    "    else:\n",
    "        sys.stderr.write('No classifier for %s is found.\\n' % structure)"
   ]
  },
  {
   "cell_type": "code",
   "execution_count": 67,
   "metadata": {
    "collapsed": true
   },
   "outputs": [],
   "source": [
    "if setting in [1,2,3,4,5,6,7,10]:\n",
    "    margin = 500"
   ]
  },
  {
   "cell_type": "code",
   "execution_count": 69,
   "metadata": {
    "collapsed": false
   },
   "outputs": [
    {
     "data": {
      "image/png": "[encoded data removed]",
      "text/plain": [
       "<matplotlib.figure.Figure at 0x1a6468550>"
      ]
     },
     "metadata": {},
     "output_type": "display_data"
    }
   ],
   "source": [
    "# Compute training accuracy\n",
    "\n",
    "acc_all_structures = {}\n",
    "\n",
    "ncols = 5\n",
    "nrows = int(np.ceil(len(structures_found)/float(ncols)))\n",
    "\n",
    "fig, axes = plt.subplots(nrows, ncols, figsize=(ncols*2, nrows*2), sharex=True, sharey=True)\n",
    "axes = axes.flatten()\n",
    "\n",
    "for i, structure in enumerate(structures_found):\n",
    "        \n",
    "    features_pos = training_features[structure]\n",
    "    n_pos = len(features_pos)\n",
    "    \n",
    "    if setting in [1, 3, 4, 5, 6, 7]:\n",
    "        neg_classes = [convert_to_surround_name(structure, margin=margin, suffix='noclass')]\n",
    "    elif setting in [2, 10]:\n",
    "        neg_classes = [convert_to_surround_name(structure, margin=margin, suffix='noclass')]            \n",
    "        for surr_l in structures_found:\n",
    "            c = convert_to_surround_name(structure, margin=margin, suffix=surr_l)\n",
    "            if c in labels_found:\n",
    "                neg_classes.append(c)\n",
    "    elif setting in [8,9,11]:\n",
    "        neg_classes = [structure + '_negative']\n",
    "    else:\n",
    "        sys.stderr.write('Setting is not recognized.\\n')\n",
    "        raise\n",
    "\n",
    "    features_neg = np.concatenate([training_features[neg_class] for neg_class in neg_classes])\n",
    "#     neg_distances = np.concatenate([distances_to_structures[neg_class][label] for neg_class in neg_classes])\n",
    "        \n",
    "    n_neg = len(features_neg)\n",
    "    \n",
    "    train_data = np.r_[features_pos, features_neg]\n",
    "    train_labels = np.r_[np.ones((features_pos.shape[0], )), \n",
    "                         -np.ones((features_neg.shape[0], ))]\n",
    "    \n",
    "    clf = clf_allClasses[structure]\n",
    "    \n",
    "    probs = clf.predict_proba(train_data)[:, clf.classes_.tolist().index(1.)]\n",
    "    cm = compute_confusion_matrix(np.c_[probs, 1-probs], [0 if l==1. else 1 for l in train_labels], soft=True)\n",
    "    \n",
    "    acc_all_structures[structure] = (n_pos*cm[0,0] + n_neg*cm[1,1])/(n_pos + n_neg)\n",
    "    \n",
    "    plot_confusion_matrix(cm, title='%(structure)s'% {'structure':structure},\n",
    "                          labels=['',''],\n",
    "#                           labels=[label, convert_to_surround_name(label)],\n",
    "                         axis=axes[i])\n",
    "#     plt.show();\n",
    "\n",
    "plt.tight_layout()"
   ]
  },
  {
   "cell_type": "code",
   "execution_count": 70,
   "metadata": {
    "collapsed": false
   },
   "outputs": [
    {
     "name": "stdout",
     "output_type": "stream",
     "text": [
      "training accuracy: 0.978128667503\n"
     ]
    }
   ],
   "source": [
    "print 'training accuracy:', np.mean(acc_all_structures.values())"
   ]
  },
  {
   "cell_type": "code",
   "execution_count": null,
   "metadata": {
    "collapsed": true
   },
   "outputs": [],
   "source": []
  },
  {
   "cell_type": "code",
   "execution_count": null,
   "metadata": {
    "collapsed": true
   },
   "outputs": [],
   "source": [
    "# visualize training patches\n",
    "\n",
    "patches = extract_patches_given_locations_multiple_sections(sampled_addresses['AP'], 'grid_index')\n",
    "display_images_in_grids(patches, 5)\n",
    "\n",
    "patches = extract_patches_given_locations_multiple_sections(sampled_addresses['AP_surround'], 'grid_index')\n",
    "display_images_in_grids(patches, 5, titles=sampled_addresses['AP_surround'])\n",
    "\n",
    "# Visualize a patch in context\n",
    "\n",
    "patch_size, stride, _, _ = get_default_gridspec('MD589')\n",
    "grid_locations = grid_parameters_to_sample_locations(get_default_gridspec('MD589'))\n",
    "viz = patch_boxes_overlay_on('original', 8, \n",
    "                       [grid_locations[44453]],\n",
    "                      patch_size=patch_size,\n",
    "                      stack='MD589',\n",
    "                       sec=219)\n",
    "display_image(viz)"
   ]
  }
 ],
 "metadata": {
  "kernelspec": {
   "display_name": "Python 2",
   "language": "python",
   "name": "python2"
  },
  "language_info": {
   "codemirror_mode": {
    "name": "ipython",
    "version": 2
   },
   "file_extension": ".py",
   "mimetype": "text/x-python",
   "name": "python",
   "nbconvert_exporter": "python",
   "pygments_lexer": "ipython2",
   "version": "2.7.3"
  }
 },
 "nbformat": 4,
 "nbformat_minor": 1
}
