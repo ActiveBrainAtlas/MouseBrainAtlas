{
 "cells": [
  {
   "cell_type": "code",
   "execution_count": 1,
   "metadata": {
    "collapsed": true
   },
   "outputs": [],
   "source": [
    "%reload_ext autoreload\n",
    "%autoreload 2"
   ]
  },
  {
   "cell_type": "code",
   "execution_count": 2,
   "metadata": {
    "scrolled": true
   },
   "outputs": [
    {
     "name": "stderr",
     "output_type": "stream",
     "text": [
      "/usr/local/lib/python2.7/dist-packages/matplotlib/__init__.py:1401: UserWarning:  This call to matplotlib.use() has no effect\n",
      "because the backend has already been chosen;\n",
      "matplotlib.use() must be called *before* pylab, matplotlib.pyplot,\n",
      "or matplotlib.backends is imported for the first time.\n",
      "\n",
      "  warnings.warn(_use_error_msg)\n"
     ]
    },
    {
     "name": "stdout",
     "output_type": "stream",
     "text": [
      "Setting environment for AWS compute node\n"
     ]
    },
    {
     "name": "stderr",
     "output_type": "stream",
     "text": [
      "No vtk\n",
      "File does not exist: /shared/CSHL_data_processed/MD635/MD635_anchor.txt\n",
      "File does not exist: /shared/CSHL_data_processed/MD635/MD635_sorted_filenames.txt\n",
      "File does not exist: /shared/CSHL_data_processed/MD635/MD635_cropbox.txt\n",
      "File does not exist: /shared/CSHL_data_processed/MD635/MD635_cropbox.txt\n",
      "File does not exist: /shared/CSHL_data_processed/MD657/MD657_anchor.txt\n",
      "File does not exist: /shared/CSHL_data_processed/MD657/MD657_sorted_filenames.txt\n",
      "File does not exist: /shared/CSHL_data_processed/MD657/MD657_cropbox.txt\n",
      "File does not exist: /shared/CSHL_data_processed/MD657/MD657_cropbox.txt\n"
     ]
    }
   ],
   "source": [
    "import os\n",
    "import sys\n",
    "import time\n",
    "\n",
    "import matplotlib.pyplot as plt\n",
    "%matplotlib inline\n",
    "import numpy as np\n",
    "\n",
    "sys.path.append(os.path.join(os.environ['REPO_DIR'], 'utilities'))\n",
    "from utilities2015 import *\n",
    "from metadata import *\n",
    "from data_manager import *\n",
    "from learning_utilities import *"
   ]
  },
  {
   "cell_type": "code",
   "execution_count": 3,
   "metadata": {},
   "outputs": [
    {
     "name": "stderr",
     "output_type": "stream",
     "text": [
      "xgboost is not loaded."
     ]
    }
   ],
   "source": [
    "from sklearn.externals import joblib\n",
    "\n",
    "from sklearn.linear_model import LogisticRegression\n",
    "from sklearn.svm import LinearSVC, SVC\n",
    "from sklearn.calibration import CalibratedClassifierCV\n",
    "from sklearn.ensemble import GradientBoostingClassifier \n",
    "\n",
    "sys.path.append('/home/yuncong/csd395/xgboost/python-package')\n",
    "try:\n",
    "    from xgboost.sklearn import XGBClassifier\n",
    "except:\n",
    "    sys.stderr.write('xgboost is not loaded.')"
   ]
  },
  {
   "cell_type": "code",
   "execution_count": 4,
   "metadata": {
    "collapsed": true
   },
   "outputs": [],
   "source": [
    "# structures_to_sample = all_known_structures\n",
    "\n",
    "# negative_labels_to_sample = [s + '_negative' for s in structures_to_sample]\n",
    "\n",
    "# margins_to_sample = [500] # (200: 100 um, 500: 250 um)\n",
    "# surround_labels_to_sample = [convert_to_surround_name(s, margin=m, suffix=surr_l) \n",
    "#                              for m in margins_to_sample\n",
    "#                              for s in structures_to_sample \n",
    "#                              for surr_l in structures_to_sample + ['noclass'] \n",
    "#                              if surr_l != s]\n",
    "\n",
    "# labels_to_sample = structures_to_sample + negative_labels_to_sample + surround_labels_to_sample + ['noclass']"
   ]
  },
  {
   "cell_type": "markdown",
   "metadata": {},
   "source": [
    "# Train Classifiers"
   ]
  },
  {
   "cell_type": "code",
   "execution_count": 5,
   "metadata": {
    "scrolled": true
   },
   "outputs": [
    {
     "data": {
      "text/html": [
       "<div>\n",
       "<table border=\"1\" class=\"dataframe\">\n",
       "  <thead>\n",
       "    <tr style=\"text-align: right;\">\n",
       "      <th></th>\n",
       "      <th>model</th>\n",
       "      <th>margin</th>\n",
       "      <th>train_set_id</th>\n",
       "      <th>neg_composition</th>\n",
       "      <th>sample_weighting</th>\n",
       "    </tr>\n",
       "    <tr>\n",
       "      <th>classifier_id</th>\n",
       "      <th></th>\n",
       "      <th></th>\n",
       "      <th></th>\n",
       "      <th></th>\n",
       "      <th></th>\n",
       "    </tr>\n",
       "  </thead>\n",
       "  <tbody>\n",
       "    <tr>\n",
       "      <th>30</th>\n",
       "      <td>lr</td>\n",
       "      <td>500</td>\n",
       "      <td>20/21</td>\n",
       "      <td>neg_has_all_surround</td>\n",
       "      <td>NaN</td>\n",
       "    </tr>\n",
       "    <tr>\n",
       "      <th>31</th>\n",
       "      <td>lr</td>\n",
       "      <td>500</td>\n",
       "      <td>21/22</td>\n",
       "      <td>neg_has_all_surround</td>\n",
       "      <td>NaN</td>\n",
       "    </tr>\n",
       "    <tr>\n",
       "      <th>32</th>\n",
       "      <td>lr</td>\n",
       "      <td>500</td>\n",
       "      <td>20/22</td>\n",
       "      <td>neg_has_all_surround</td>\n",
       "      <td>NaN</td>\n",
       "    </tr>\n",
       "    <tr>\n",
       "      <th>33</th>\n",
       "      <td>gb1</td>\n",
       "      <td>500</td>\n",
       "      <td>20/21</td>\n",
       "      <td>neg_has_all_surround</td>\n",
       "      <td>NaN</td>\n",
       "    </tr>\n",
       "    <tr>\n",
       "      <th>34</th>\n",
       "      <td>gb1</td>\n",
       "      <td>500</td>\n",
       "      <td>21/22</td>\n",
       "      <td>neg_has_all_surround</td>\n",
       "      <td>NaN</td>\n",
       "    </tr>\n",
       "    <tr>\n",
       "      <th>35</th>\n",
       "      <td>gb1</td>\n",
       "      <td>500</td>\n",
       "      <td>20/22</td>\n",
       "      <td>neg_has_all_surround</td>\n",
       "      <td>NaN</td>\n",
       "    </tr>\n",
       "  </tbody>\n",
       "</table>\n",
       "</div>"
      ],
      "text/plain": [
       "              model  margin train_set_id       neg_composition  \\\n",
       "classifier_id                                                    \n",
       "30               lr     500        20/21  neg_has_all_surround   \n",
       "31               lr     500        21/22  neg_has_all_surround   \n",
       "32               lr     500        20/22  neg_has_all_surround   \n",
       "33              gb1     500        20/21  neg_has_all_surround   \n",
       "34              gb1     500        21/22  neg_has_all_surround   \n",
       "35              gb1     500        20/22  neg_has_all_surround   \n",
       "\n",
       "               sample_weighting  \n",
       "classifier_id                    \n",
       "30                          NaN  \n",
       "31                          NaN  \n",
       "32                          NaN  \n",
       "33                          NaN  \n",
       "34                          NaN  \n",
       "35                          NaN  "
      ]
     },
     "execution_count": 5,
     "metadata": {},
     "output_type": "execute_result"
    }
   ],
   "source": [
    "classifier_settings"
   ]
  },
  {
   "cell_type": "code",
   "execution_count": 28,
   "metadata": {
    "collapsed": true
   },
   "outputs": [],
   "source": [
    "classifier_id = 35\n",
    "classifier_properties = classifier_settings.loc[classifier_id]\n",
    "\n",
    "margin = classifier_properties['margin']\n",
    "model = classifier_properties['model']\n",
    "sample_weighting = classifier_properties['sample_weighting']\n",
    "neg_composition = classifier_properties['neg_composition']"
   ]
  },
  {
   "cell_type": "code",
   "execution_count": 29,
   "metadata": {
    "collapsed": true
   },
   "outputs": [],
   "source": [
    "# Determine which labels to load.\n",
    "\n",
    "structures_to_sample = all_known_structures\n",
    "negative_labels_to_sample = [s + '_negative' for s in structures_to_sample]\n",
    "\n",
    "margins_to_sample = [margin] # (200: 100 um, 500: 250 um)\n",
    "surround_positive_labels_to_sample = [convert_to_surround_name(s, margin=m, suffix=surr_l) \n",
    "                             for m in margins_to_sample\n",
    "                             for s in structures_to_sample \n",
    "                             for surr_l in structures_to_sample\n",
    "                             if surr_l != s]\n",
    "surround_noclass_labels_to_sample = [convert_to_surround_name(s, margin=m, suffix='noclass') \n",
    "                             for m in margins_to_sample\n",
    "                             for s in structures_to_sample]\n",
    "\n",
    "if neg_composition == 'neg_has_everything_else':\n",
    "    labels_to_sample = structures_to_sample + negative_labels_to_sample\n",
    "elif neg_composition == 'neg_has_only_surround_noclass':\n",
    "    labels_to_sample = structures_to_sample + surround_noclass_labels_to_sample + ['noclass']\n",
    "elif neg_composition == 'neg_has_all_surround':\n",
    "    labels_to_sample = structures_to_sample + surround_positive_labels_to_sample + surround_noclass_labels_to_sample + ['noclass']"
   ]
  },
  {
   "cell_type": "code",
   "execution_count": 30,
   "metadata": {},
   "outputs": [
    {
     "name": "stdout",
     "output_type": "stream",
     "text": [
      "rm -rf /shared/CSHL_classifiers/datasets/dataset_20/patch_addresses.pkl && mkdir -p /shared/CSHL_classifiers/datasets/dataset_20\n",
      "aws s3 cp s3://mousebrainatlas-data/CSHL_classifiers/datasets/dataset_20/patch_addresses.pkl /shared/CSHL_classifiers/datasets/dataset_20/patch_addresses.pkl\n"
     ]
    },
    {
     "name": "stderr",
     "output_type": "stream",
     "text": [
      "Child returned 0\n",
      "Child returned 0\n",
      "0.59 seconds.\n"
     ]
    },
    {
     "name": "stdout",
     "output_type": "stream",
     "text": [
      "rm -rf /shared/CSHL_classifiers/datasets/dataset_20/patch_features.hdf && mkdir -p /shared/CSHL_classifiers/datasets/dataset_20\n",
      "aws s3 cp s3://mousebrainatlas-data/CSHL_classifiers/datasets/dataset_20/patch_features.hdf /shared/CSHL_classifiers/datasets/dataset_20/patch_features.hdf\n"
     ]
    },
    {
     "name": "stderr",
     "output_type": "stream",
     "text": [
      "Child returned 0\n",
      "Child returned 0\n",
      "1.55 seconds.\n"
     ]
    },
    {
     "name": "stdout",
     "output_type": "stream",
     "text": [
      "rm -rf /shared/CSHL_classifiers/datasets/dataset_22/patch_addresses.pkl && mkdir -p /shared/CSHL_classifiers/datasets/dataset_22\n",
      "aws s3 cp s3://mousebrainatlas-data/CSHL_classifiers/datasets/dataset_22/patch_addresses.pkl /shared/CSHL_classifiers/datasets/dataset_22/patch_addresses.pkl\n"
     ]
    },
    {
     "name": "stderr",
     "output_type": "stream",
     "text": [
      "Child returned 0\n",
      "Child returned 0\n",
      "0.59 seconds.\n"
     ]
    },
    {
     "name": "stdout",
     "output_type": "stream",
     "text": [
      "rm -rf /shared/CSHL_classifiers/datasets/dataset_22/patch_features.hdf && mkdir -p /shared/CSHL_classifiers/datasets/dataset_22\n",
      "aws s3 cp s3://mousebrainatlas-data/CSHL_classifiers/datasets/dataset_22/patch_features.hdf /shared/CSHL_classifiers/datasets/dataset_22/patch_features.hdf\n"
     ]
    },
    {
     "name": "stderr",
     "output_type": "stream",
     "text": [
      "Child returned 0\n",
      "Child returned 0\n",
      "1.77 seconds.\n"
     ]
    }
   ],
   "source": [
    "# Load training dataset.\n",
    "\n",
    "training_set_ids = map(int, str(classifier_properties['train_set_id']).split('/'))\n",
    "training_features, training_addresses = load_datasets(training_set_ids, labels_to_sample=labels_to_sample)\n",
    "    \n",
    "assert set(training_addresses.keys()) == set(training_features.keys()), \\\n",
    "    'Training features and training addresses are not consistent.'"
   ]
  },
  {
   "cell_type": "code",
   "execution_count": 31,
   "metadata": {
    "collapsed": true
   },
   "outputs": [],
   "source": [
    "labels_found = training_features.keys()\n",
    "structures_found = set([convert_to_original_name(l) for l in labels_found]) - {'noclass'}"
   ]
  },
  {
   "cell_type": "code",
   "execution_count": 32,
   "metadata": {
    "collapsed": true
   },
   "outputs": [],
   "source": [
    "setting_dir = os.path.join(os.path.join(CLF_ROOTDIR, 'setting_%d' % classifier_id))"
   ]
  },
  {
   "cell_type": "code",
   "execution_count": 33,
   "metadata": {
    "scrolled": true
   },
   "outputs": [
    {
     "name": "stdout",
     "output_type": "stream",
     "text": [
      "Tz\n",
      "      Iter       Train Loss   Remaining Time \n",
      "         1           1.0705            1.18m\n",
      "         2           0.9191            1.18m\n",
      "         3           0.8193            1.17m\n",
      "         4           0.7452            1.17m\n",
      "         5           0.6896            1.16m\n",
      "         6           0.6432            1.16m\n",
      "         7           0.6059            1.16m\n",
      "         8           0.5749            1.16m\n",
      "         9           0.5471            1.15m\n",
      "        10           0.5187            1.15m\n",
      "        20           0.3661            1.09m\n",
      "        30           0.2857            1.01m\n",
      "        40           0.2297           56.91s\n",
      "        50           0.1899           53.14s\n",
      "        60           0.1568           49.46s\n",
      "        70           0.1313           45.84s\n",
      "        80           0.1098           42.39s\n",
      "        90           0.0927           38.82s\n",
      "       100           0.0781           35.28s\n",
      "       200           0.0162            0.00s\n",
      "aws s3 cp /shared/CSHL_classifiers/setting_35/classifiers/Tz_clf_setting_35.dump s3://mousebrainatlas-data/CSHL_classifiers/setting_35/classifiers/Tz_clf_setting_35.dump\n"
     ]
    },
    {
     "name": "stderr",
     "output_type": "stream",
     "text": [
      "Fitting classifier: 70.79 seconds\n",
      "Child returned 0\n",
      "0.41 seconds.\n"
     ]
    },
    {
     "name": "stdout",
     "output_type": "stream",
     "text": [
      "Sp5O\n",
      "      Iter       Train Loss   Remaining Time \n",
      "         1           1.1590            1.33m\n",
      "         2           1.0859            1.29m\n",
      "         3           1.0295            1.28m\n",
      "         4           0.9862            1.27m\n",
      "         5           0.9498            1.27m\n",
      "         6           0.9205            1.26m\n",
      "         7           0.8946            1.26m\n",
      "         8           0.8696            1.22m\n",
      "         9           0.8494            1.22m\n",
      "        10           0.8308            1.21m\n",
      "        20           0.7107            1.12m\n",
      "        30           0.6389            1.03m\n",
      "        40           0.5797           57.11s\n",
      "        50           0.5301           52.89s\n",
      "        60           0.4914           48.75s\n",
      "        70           0.4506           45.08s\n",
      "        80           0.4168           41.31s\n",
      "        90           0.3838           37.76s\n",
      "       100           0.3507           34.35s\n",
      "       200           0.1594            0.00s\n",
      "aws s3 cp /shared/CSHL_classifiers/setting_35/classifiers/Sp5O_clf_setting_35.dump s3://mousebrainatlas-data/CSHL_classifiers/setting_35/classifiers/Sp5O_clf_setting_35.dump\n"
     ]
    },
    {
     "name": "stderr",
     "output_type": "stream",
     "text": [
      "Fitting classifier: 69.17 seconds\n",
      "Child returned 0\n",
      "0.41 seconds.\n"
     ]
    },
    {
     "name": "stdout",
     "output_type": "stream",
     "text": [
      "7n\n",
      "      Iter       Train Loss   Remaining Time \n",
      "         1           1.0678           52.87s\n",
      "         2           0.8837           52.35s\n",
      "         3           0.7607           52.30s\n",
      "         4           0.6802           51.48s\n",
      "         5           0.6166           51.37s\n",
      "         6           0.5669           51.19s\n",
      "         7           0.5262           51.05s\n",
      "         8           0.4968           50.70s\n",
      "         9           0.4713           50.30s\n",
      "        10           0.4471           50.11s\n",
      "        20           0.3234           47.34s\n",
      "        30           0.2572           43.47s\n",
      "        40           0.2083           40.12s\n",
      "        50           0.1693           37.13s\n",
      "        60           0.1400           34.32s\n",
      "        70           0.1158           31.94s\n",
      "        80           0.0964           29.56s\n",
      "        90           0.0818           26.96s\n",
      "       100           0.0681           24.50s\n",
      "       200           0.0135            0.00s\n",
      "aws s3 cp /shared/CSHL_classifiers/setting_35/classifiers/7n_clf_setting_35.dump s3://mousebrainatlas-data/CSHL_classifiers/setting_35/classifiers/7n_clf_setting_35.dump\n"
     ]
    },
    {
     "name": "stderr",
     "output_type": "stream",
     "text": [
      "Fitting classifier: 48.76 seconds\n",
      "Child returned 0\n",
      "0.46 seconds.\n"
     ]
    },
    {
     "name": "stdout",
     "output_type": "stream",
     "text": [
      "DC\n",
      "      Iter       Train Loss   Remaining Time \n",
      "         1           1.0137            1.68m\n",
      "         2           0.9507            1.65m\n",
      "         3           0.8902            1.67m\n",
      "         4           0.8430            1.68m\n",
      "         5           0.8071            1.68m\n",
      "         6           0.7805            1.67m\n",
      "         7           0.7573            1.66m\n",
      "         8           0.7313            1.65m\n",
      "         9           0.7101            1.62m\n",
      "        10           0.6889            1.62m\n",
      "        20           0.5518            1.52m\n",
      "        30           0.4671            1.43m\n",
      "        40           0.4102            1.33m\n",
      "        50           0.3635            1.24m\n",
      "        60           0.3216            1.16m\n",
      "        70           0.2898            1.06m\n",
      "        80           0.2598           58.72s\n",
      "        90           0.2357           53.61s\n",
      "       100           0.2143           48.52s\n",
      "       200           0.0861            0.00s\n",
      "aws s3 cp /shared/CSHL_classifiers/setting_35/classifiers/DC_clf_setting_35.dump s3://mousebrainatlas-data/CSHL_classifiers/setting_35/classifiers/DC_clf_setting_35.dump\n"
     ]
    },
    {
     "name": "stderr",
     "output_type": "stream",
     "text": [
      "Fitting classifier: 96.84 seconds\n",
      "Child returned 0\n",
      "0.51 seconds.\n"
     ]
    },
    {
     "name": "stdout",
     "output_type": "stream",
     "text": [
      "5N\n",
      "      Iter       Train Loss   Remaining Time \n",
      "         1           1.1434           50.93s\n",
      "         2           1.0001           49.86s\n",
      "         3           0.9089           49.54s\n",
      "         4           0.8417           49.19s\n",
      "         5           0.7899           49.00s\n",
      "         6           0.7469           48.70s\n",
      "         7           0.7141           48.34s\n",
      "         8           0.6865           48.09s\n",
      "         9           0.6616           47.86s\n",
      "        10           0.6397           47.77s\n",
      "        20           0.5106           44.20s\n",
      "        30           0.4354           40.20s\n",
      "        40           0.3665           37.38s\n",
      "        50           0.3169           34.43s\n",
      "        60           0.2708           32.21s\n",
      "        70           0.2334           29.71s\n",
      "        80           0.2045           27.14s\n",
      "        90           0.1779           24.87s\n",
      "       100           0.1570           22.58s\n",
      "       200           0.0424            0.00s\n",
      "aws s3 cp /shared/CSHL_classifiers/setting_35/classifiers/5N_clf_setting_35.dump s3://mousebrainatlas-data/CSHL_classifiers/setting_35/classifiers/5N_clf_setting_35.dump\n"
     ]
    },
    {
     "name": "stderr",
     "output_type": "stream",
     "text": [
      "Fitting classifier: 45.59 seconds\n",
      "Child returned 0\n",
      "0.41 seconds.\n"
     ]
    },
    {
     "name": "stdout",
     "output_type": "stream",
     "text": [
      "RtTg\n",
      "      Iter       Train Loss   Remaining Time \n",
      "         1           1.1284            1.47m\n",
      "         2           1.0702            1.46m\n",
      "         3           1.0242            1.46m\n",
      "         4           0.9900            1.44m\n",
      "         5           0.9615            1.43m\n",
      "         6           0.9356            1.41m\n",
      "         7           0.9110            1.41m\n",
      "         8           0.8915            1.40m\n",
      "         9           0.8733            1.38m\n",
      "        10           0.8581            1.37m\n",
      "        20           0.7513            1.25m\n",
      "        30           0.6740            1.16m\n",
      "        40           0.6101            1.08m\n",
      "        50           0.5563            1.01m\n",
      "        60           0.5166           56.24s\n",
      "        70           0.4816           51.60s\n",
      "        80           0.4479           47.27s\n",
      "        90           0.4160           43.12s\n",
      "       100           0.3835           39.21s\n",
      "       200           0.1856            0.00s\n",
      "aws s3 cp /shared/CSHL_classifiers/setting_35/classifiers/RtTg_clf_setting_35.dump s3://mousebrainatlas-data/CSHL_classifiers/setting_35/classifiers/RtTg_clf_setting_35.dump\n"
     ]
    },
    {
     "name": "stderr",
     "output_type": "stream",
     "text": [
      "Fitting classifier: 78.73 seconds\n",
      "Child returned 0\n",
      "0.46 seconds.\n"
     ]
    },
    {
     "name": "stdout",
     "output_type": "stream",
     "text": [
      "Pn\n",
      "      Iter       Train Loss   Remaining Time \n",
      "         1           1.0708            1.27m\n",
      "         2           0.9513            1.24m\n",
      "         3           0.8578            1.25m\n",
      "         4           0.7944            1.25m\n",
      "         5           0.7478            1.23m\n",
      "         6           0.7071            1.23m\n",
      "         7           0.6713            1.22m\n",
      "         8           0.6450            1.22m\n",
      "         9           0.6232            1.20m\n",
      "        10           0.6018            1.19m\n",
      "        20           0.4723            1.12m\n",
      "        30           0.4073            1.03m\n",
      "        40           0.3478           58.21s\n",
      "        50           0.3020           53.94s\n",
      "        60           0.2636           50.32s\n",
      "        70           0.2364           46.46s\n",
      "        80           0.2083           42.77s\n",
      "        90           0.1833           39.11s\n",
      "       100           0.1608           35.51s\n",
      "       200           0.0515            0.00s\n",
      "aws s3 cp /shared/CSHL_classifiers/setting_35/classifiers/Pn_clf_setting_35.dump s3://mousebrainatlas-data/CSHL_classifiers/setting_35/classifiers/Pn_clf_setting_35.dump\n"
     ]
    },
    {
     "name": "stderr",
     "output_type": "stream",
     "text": [
      "Fitting classifier: 70.96 seconds\n",
      "Child returned 0\n",
      "0.51 seconds.\n"
     ]
    },
    {
     "name": "stdout",
     "output_type": "stream",
     "text": [
      "10N\n",
      "      Iter       Train Loss   Remaining Time \n",
      "         1           0.9449            1.13m\n",
      "         2           0.7909            1.12m\n",
      "         3           0.6780            1.13m\n",
      "         4           0.6048            1.13m\n",
      "         5           0.5475            1.13m\n",
      "         6           0.5065            1.13m\n",
      "         7           0.4679            1.13m\n",
      "         8           0.4410            1.13m\n",
      "         9           0.4170            1.13m\n",
      "        10           0.3951            1.13m\n",
      "        20           0.2841            1.08m\n",
      "        30           0.2389           58.38s\n",
      "        40           0.1998           54.17s\n",
      "        50           0.1667           50.30s\n",
      "        60           0.1390           46.47s\n",
      "        70           0.1219           42.62s\n",
      "        80           0.1020           39.42s\n",
      "        90           0.0880           36.03s\n",
      "       100           0.0750           32.71s\n",
      "       200           0.0178            0.00s\n",
      "aws s3 cp /shared/CSHL_classifiers/setting_35/classifiers/10N_clf_setting_35.dump s3://mousebrainatlas-data/CSHL_classifiers/setting_35/classifiers/10N_clf_setting_35.dump\n"
     ]
    },
    {
     "name": "stderr",
     "output_type": "stream",
     "text": [
      "Fitting classifier: 66.06 seconds\n",
      "Child returned 0\n",
      "0.46 seconds.\n"
     ]
    },
    {
     "name": "stdout",
     "output_type": "stream",
     "text": [
      "LC\n",
      "      Iter       Train Loss   Remaining Time \n",
      "         1           1.1542           49.19s\n",
      "         2           1.0099           47.99s\n",
      "         3           0.9105           47.59s\n",
      "         4           0.8403           47.31s\n",
      "         5           0.7860           47.05s\n",
      "         6           0.7471           46.66s\n",
      "         7           0.7172           46.14s\n",
      "         8           0.6922           45.96s\n",
      "         9           0.6674           45.69s\n",
      "        10           0.6451           45.51s\n",
      "        20           0.5004           42.25s\n",
      "        30           0.4182           38.21s\n",
      "        40           0.3548           35.28s\n",
      "        50           0.3096           32.22s\n",
      "        60           0.2716           29.68s\n",
      "        70           0.2325           27.70s\n",
      "        80           0.2009           25.52s\n",
      "        90           0.1761           23.31s\n",
      "       100           0.1535           21.15s\n",
      "       200           0.0403            0.00s\n",
      "aws s3 cp /shared/CSHL_classifiers/setting_35/classifiers/LC_clf_setting_35.dump s3://mousebrainatlas-data/CSHL_classifiers/setting_35/classifiers/LC_clf_setting_35.dump\n"
     ]
    },
    {
     "name": "stderr",
     "output_type": "stream",
     "text": [
      "Fitting classifier: 42.94 seconds\n",
      "Child returned 0\n",
      "0.46 seconds.\n"
     ]
    },
    {
     "name": "stdout",
     "output_type": "stream",
     "text": [
      "7N\n",
      "      Iter       Train Loss   Remaining Time \n",
      "         1           1.1893           51.99s\n",
      "         2           1.0699           50.58s\n",
      "         3           0.9828           50.20s\n",
      "         4           0.9129           49.74s\n",
      "         5           0.8586           49.59s\n",
      "         6           0.8139           49.09s\n",
      "         7           0.7815           48.67s\n",
      "         8           0.7507           48.64s\n",
      "         9           0.7242           48.29s\n",
      "        10           0.7008           48.01s\n",
      "        20           0.5556           44.90s\n",
      "        30           0.4715           41.09s\n",
      "        40           0.4018           38.39s\n",
      "        50           0.3451           35.92s\n",
      "        60           0.3013           33.14s\n",
      "        70           0.2609           30.65s\n",
      "        80           0.2272           28.18s\n",
      "        90           0.1982           25.65s\n",
      "       100           0.1752           23.21s\n",
      "       200           0.0529            0.00s\n",
      "aws s3 cp /shared/CSHL_classifiers/setting_35/classifiers/7N_clf_setting_35.dump s3://mousebrainatlas-data/CSHL_classifiers/setting_35/classifiers/7N_clf_setting_35.dump\n"
     ]
    },
    {
     "name": "stderr",
     "output_type": "stream",
     "text": [
      "Fitting classifier: 46.33 seconds\n",
      "Child returned 0\n",
      "0.41 seconds.\n"
     ]
    },
    {
     "name": "stdout",
     "output_type": "stream",
     "text": [
      "Amb\n",
      "      Iter       Train Loss   Remaining Time \n",
      "         1           0.9184           36.15s\n",
      "         2           0.7464           35.96s\n",
      "         3           0.6361           35.58s\n",
      "         4           0.5582           35.30s\n",
      "         5           0.4964           35.18s\n",
      "         6           0.4469           35.13s\n",
      "         7           0.4115           35.14s\n",
      "         8           0.3817           35.19s\n",
      "         9           0.3601           34.79s\n",
      "        10           0.3412           34.43s\n",
      "        20           0.2238           32.53s\n",
      "        30           0.1677           29.53s\n",
      "        40           0.1221           27.56s\n",
      "        50           0.0936           25.70s\n",
      "        60           0.0678           24.23s\n",
      "        70           0.0518           22.39s\n",
      "        80           0.0389           20.73s\n",
      "        90           0.0303           18.96s\n",
      "       100           0.0239           17.26s\n",
      "       200           0.0021            0.00s\n",
      "aws s3 cp /shared/CSHL_classifiers/setting_35/classifiers/Amb_clf_setting_35.dump s3://mousebrainatlas-data/CSHL_classifiers/setting_35/classifiers/Amb_clf_setting_35.dump\n"
     ]
    },
    {
     "name": "stderr",
     "output_type": "stream",
     "text": [
      "Fitting classifier: 34.47 seconds\n",
      "Child returned 0\n",
      "0.46 seconds.\n"
     ]
    },
    {
     "name": "stdout",
     "output_type": "stream",
     "text": [
      "12N\n",
      "      Iter       Train Loss   Remaining Time \n",
      "         1           1.0272            1.20m\n",
      "         2           0.8818            1.18m\n",
      "         3           0.7775            1.17m\n",
      "         4           0.7042            1.16m\n",
      "         5           0.6471            1.15m\n",
      "         6           0.6034            1.14m\n",
      "         7           0.5684            1.14m\n",
      "         8           0.5408            1.14m\n",
      "         9           0.5163            1.13m\n",
      "        10           0.4946            1.13m\n",
      "        20           0.3569            1.04m\n",
      "        30           0.2890           58.36s\n",
      "        40           0.2444           54.08s\n",
      "        50           0.2084           49.95s\n",
      "        60           0.1797           46.03s\n",
      "        70           0.1563           42.25s\n",
      "        80           0.1367           38.65s\n",
      "        90           0.1167           35.51s\n",
      "       100           0.1017           32.22s\n",
      "       200           0.0277            0.00s\n",
      "aws s3 cp /shared/CSHL_classifiers/setting_35/classifiers/12N_clf_setting_35.dump s3://mousebrainatlas-data/CSHL_classifiers/setting_35/classifiers/12N_clf_setting_35.dump\n"
     ]
    },
    {
     "name": "stderr",
     "output_type": "stream",
     "text": [
      "Fitting classifier: 64.68 seconds\n",
      "Child returned 0\n",
      "0.46 seconds.\n"
     ]
    },
    {
     "name": "stdout",
     "output_type": "stream",
     "text": [
      "RMC\n",
      "      Iter       Train Loss   Remaining Time \n",
      "         1           1.2117           51.66s\n",
      "         2           1.1045           49.52s\n",
      "         3           1.0273           49.44s\n",
      "         4           0.9719           49.34s\n",
      "         5           0.9299           49.01s\n",
      "         6           0.8946           48.61s\n",
      "         7           0.8629           48.62s\n",
      "         8           0.8316           48.36s\n",
      "         9           0.8092           47.96s\n",
      "        10           0.7876           47.27s\n",
      "        20           0.6473           43.24s\n",
      "        30           0.5628           39.79s\n",
      "        40           0.4930           36.97s\n",
      "        50           0.4403           34.00s\n",
      "        60           0.3916           31.35s\n",
      "        70           0.3511           28.79s\n",
      "        80           0.3105           26.51s\n",
      "        90           0.2743           24.30s\n",
      "       100           0.2464           22.07s\n",
      "       200           0.0868            0.00s\n",
      "aws s3 cp /shared/CSHL_classifiers/setting_35/classifiers/RMC_clf_setting_35.dump s3://mousebrainatlas-data/CSHL_classifiers/setting_35/classifiers/RMC_clf_setting_35.dump\n"
     ]
    },
    {
     "name": "stderr",
     "output_type": "stream",
     "text": [
      "Fitting classifier: 43.86 seconds\n",
      "Child returned 0\n",
      "0.46 seconds.\n"
     ]
    },
    {
     "name": "stdout",
     "output_type": "stream",
     "text": [
      "VCA\n",
      "      Iter       Train Loss   Remaining Time \n",
      "         1           0.9686            1.71m\n",
      "         2           0.8787            1.70m\n",
      "         3           0.8164            1.70m\n",
      "         4           0.7675            1.70m\n",
      "         5           0.7344            1.68m\n",
      "         6           0.7067            1.68m\n",
      "         7           0.6843            1.66m\n",
      "         8           0.6660            1.65m\n",
      "         9           0.6489            1.65m\n",
      "        10           0.6359            1.63m\n",
      "        20           0.5372            1.54m\n",
      "        30           0.4711            1.43m\n",
      "        40           0.4234            1.32m\n",
      "        50           0.3847            1.22m\n",
      "        60           0.3497            1.14m\n",
      "        70           0.3170            1.05m\n",
      "        80           0.2876           58.01s\n",
      "        90           0.2587           53.28s\n",
      "       100           0.2329           48.46s\n",
      "       200           0.1002            0.00s\n",
      "aws s3 cp /shared/CSHL_classifiers/setting_35/classifiers/VCA_clf_setting_35.dump s3://mousebrainatlas-data/CSHL_classifiers/setting_35/classifiers/VCA_clf_setting_35.dump\n"
     ]
    },
    {
     "name": "stderr",
     "output_type": "stream",
     "text": [
      "Fitting classifier: 96.08 seconds\n",
      "Child returned 0\n",
      "0.51 seconds.\n"
     ]
    },
    {
     "name": "stdout",
     "output_type": "stream",
     "text": [
      "Sp5I\n",
      "      Iter       Train Loss   Remaining Time \n",
      "         1           0.9756            1.75m\n",
      "         2           0.9006            1.70m\n",
      "         3           0.8428            1.72m\n",
      "         4           0.8043            1.71m\n",
      "         5           0.7748            1.71m\n",
      "         6           0.7458            1.71m\n",
      "         7           0.7264            1.66m\n",
      "         8           0.7072            1.67m\n",
      "         9           0.6899            1.67m\n",
      "        10           0.6778            1.66m\n",
      "        20           0.5842            1.54m\n",
      "        30           0.5203            1.44m\n",
      "        40           0.4721            1.32m\n",
      "        50           0.4325            1.24m\n",
      "        60           0.3945            1.15m\n",
      "        70           0.3662            1.05m\n",
      "        80           0.3379           58.04s\n",
      "        90           0.3094           53.36s\n",
      "       100           0.2863           48.33s\n",
      "       200           0.1320            0.00s\n",
      "aws s3 cp /shared/CSHL_classifiers/setting_35/classifiers/Sp5I_clf_setting_35.dump s3://mousebrainatlas-data/CSHL_classifiers/setting_35/classifiers/Sp5I_clf_setting_35.dump\n"
     ]
    },
    {
     "name": "stderr",
     "output_type": "stream",
     "text": [
      "Fitting classifier: 97.63 seconds\n",
      "Child returned 0\n",
      "0.51 seconds.\n"
     ]
    },
    {
     "name": "stdout",
     "output_type": "stream",
     "text": [
      "Sp5C\n",
      "      Iter       Train Loss   Remaining Time \n",
      "         1           1.1380            1.27m\n",
      "         2           1.0548            1.24m\n",
      "         3           0.9979            1.23m\n",
      "         4           0.9544            1.24m\n",
      "         5           0.9184            1.23m\n",
      "         6           0.8897            1.22m\n",
      "         7           0.8686            1.22m\n",
      "         8           0.8466            1.22m\n",
      "         9           0.8285            1.20m\n",
      "        10           0.8122            1.20m\n",
      "        20           0.7039            1.10m\n",
      "        30           0.6283            1.01m\n",
      "        40           0.5728           55.74s\n",
      "        50           0.5251           51.71s\n",
      "        60           0.4827           47.93s\n",
      "        70           0.4427           44.54s\n",
      "        80           0.4048           41.18s\n",
      "        90           0.3734           37.63s\n",
      "       100           0.3426           34.15s\n",
      "       200           0.1572            0.00s\n",
      "aws s3 cp /shared/CSHL_classifiers/setting_35/classifiers/Sp5C_clf_setting_35.dump s3://mousebrainatlas-data/CSHL_classifiers/setting_35/classifiers/Sp5C_clf_setting_35.dump\n"
     ]
    },
    {
     "name": "stderr",
     "output_type": "stream",
     "text": [
      "Fitting classifier: 68.19 seconds\n",
      "Child returned 0\n",
      "0.41 seconds.\n"
     ]
    },
    {
     "name": "stdout",
     "output_type": "stream",
     "text": [
      "4N\n",
      "      Iter       Train Loss   Remaining Time \n",
      "         1           0.6123           34.22s\n",
      "         2           0.5106           33.22s\n",
      "         3           0.4491           32.37s\n",
      "         4           0.4049           31.54s\n",
      "         5           0.3648           31.36s\n",
      "         6           0.3332           31.14s\n",
      "         7           0.3071           31.24s\n",
      "         8           0.2867           30.88s\n",
      "         9           0.2700           30.34s\n",
      "        10           0.2505           30.33s\n",
      "        20           0.1546           27.52s\n",
      "        30           0.1112           25.36s\n",
      "        40           0.0794           23.85s\n",
      "        50           0.0526           22.67s\n",
      "        60           0.0375           21.17s\n",
      "        70           0.0270           19.56s\n",
      "        80           0.0200           18.07s\n",
      "        90           0.0153           16.52s\n",
      "       100           0.0112           14.97s\n",
      "       200           0.0007            0.00s\n",
      "aws s3 cp /shared/CSHL_classifiers/setting_35/classifiers/4N_clf_setting_35.dump s3://mousebrainatlas-data/CSHL_classifiers/setting_35/classifiers/4N_clf_setting_35.dump\n"
     ]
    },
    {
     "name": "stderr",
     "output_type": "stream",
     "text": [
      "Fitting classifier: 30.08 seconds\n",
      "Child returned 0\n",
      "0.46 seconds.\n"
     ]
    },
    {
     "name": "stdout",
     "output_type": "stream",
     "text": [
      "AP\n",
      "      Iter       Train Loss   Remaining Time \n",
      "         1           1.0252           52.01s\n",
      "         2           0.8150           51.12s\n",
      "         3           0.6831           50.58s\n",
      "         4           0.5913           49.91s\n",
      "         5           0.5254           49.77s\n",
      "         6           0.4726           49.39s\n",
      "         7           0.4357           48.88s\n",
      "         8           0.3992           48.70s\n",
      "         9           0.3740           48.49s\n",
      "        10           0.3507           48.36s\n",
      "        20           0.2235           45.76s\n",
      "        30           0.1671           42.12s\n",
      "        40           0.1307           38.86s\n",
      "        50           0.1008           36.24s\n",
      "        60           0.0759           33.99s\n",
      "        70           0.0612           31.25s\n",
      "        80           0.0485           28.84s\n",
      "        90           0.0382           26.44s\n",
      "       100           0.0303           24.08s\n",
      "       200           0.0041            0.00s\n",
      "aws s3 cp /shared/CSHL_classifiers/setting_35/classifiers/AP_clf_setting_35.dump s3://mousebrainatlas-data/CSHL_classifiers/setting_35/classifiers/AP_clf_setting_35.dump\n"
     ]
    },
    {
     "name": "stderr",
     "output_type": "stream",
     "text": [
      "Fitting classifier: 48.33 seconds\n",
      "Child returned 0\n",
      "0.46 seconds.\n"
     ]
    },
    {
     "name": "stdout",
     "output_type": "stream",
     "text": [
      "PBG\n",
      "      Iter       Train Loss   Remaining Time \n",
      "         1           1.0690           51.58s\n",
      "         2           0.8903           50.25s\n",
      "         3           0.7699           49.70s\n",
      "         4           0.6857           49.42s\n",
      "         5           0.6227           49.14s\n",
      "         6           0.5715           48.99s\n",
      "         7           0.5329           48.82s\n",
      "         8           0.4989           48.65s\n",
      "         9           0.4723           48.54s\n",
      "        10           0.4538           48.28s\n",
      "        20           0.3252           45.85s\n",
      "        30           0.2571           42.62s\n",
      "        40           0.2119           39.16s\n",
      "        50           0.1778           35.88s\n",
      "        60           0.1483           33.09s\n",
      "        70           0.1239           30.45s\n",
      "        80           0.1053           27.93s\n",
      "        90           0.0876           25.55s\n",
      "       100           0.0758           23.02s\n",
      "       200           0.0143            0.00s\n",
      "aws s3 cp /shared/CSHL_classifiers/setting_35/classifiers/PBG_clf_setting_35.dump s3://mousebrainatlas-data/CSHL_classifiers/setting_35/classifiers/PBG_clf_setting_35.dump\n"
     ]
    },
    {
     "name": "stderr",
     "output_type": "stream",
     "text": [
      "Fitting classifier: 46.73 seconds\n",
      "Child returned 0\n",
      "0.46 seconds.\n"
     ]
    },
    {
     "name": "stdout",
     "output_type": "stream",
     "text": [
      "LRt\n",
      "      Iter       Train Loss   Remaining Time \n",
      "         1           1.2221           50.58s\n",
      "         2           1.1145           50.32s\n",
      "         3           1.0378           50.02s\n",
      "         4           0.9813           49.64s\n",
      "         5           0.9348           49.61s\n",
      "         6           0.8961           49.46s\n",
      "         7           0.8639           49.26s\n",
      "         8           0.8406           48.37s\n",
      "         9           0.8180           47.58s\n",
      "        10           0.7925           47.09s\n",
      "        20           0.6506           42.42s\n",
      "        30           0.5593           39.21s\n",
      "        40           0.4884           36.54s\n",
      "        50           0.4261           34.14s\n",
      "        60           0.3803           31.42s\n",
      "        70           0.3353           29.21s\n",
      "        80           0.2957           27.04s\n",
      "        90           0.2607           24.84s\n",
      "       100           0.2351           22.43s\n",
      "       200           0.0779            0.00s\n",
      "aws s3 cp /shared/CSHL_classifiers/setting_35/classifiers/LRt_clf_setting_35.dump s3://mousebrainatlas-data/CSHL_classifiers/setting_35/classifiers/LRt_clf_setting_35.dump\n"
     ]
    },
    {
     "name": "stderr",
     "output_type": "stream",
     "text": [
      "Fitting classifier: 45.27 seconds\n",
      "Child returned 0\n",
      "0.52 seconds.\n"
     ]
    },
    {
     "name": "stdout",
     "output_type": "stream",
     "text": [
      "IC\n",
      "      Iter       Train Loss   Remaining Time \n",
      "         1           1.1780            1.30m\n",
      "         2           1.1054            1.28m\n",
      "         3           1.0562            1.28m\n",
      "         4           1.0175            1.27m\n",
      "         5           0.9852            1.25m\n",
      "         6           0.9589            1.23m\n",
      "         7           0.9359            1.22m\n",
      "         8           0.9180            1.20m\n",
      "         9           0.8998            1.20m\n",
      "        10           0.8842            1.18m\n",
      "        20           0.7746            1.11m\n",
      "        30           0.6983            1.02m\n",
      "        40           0.6320           56.98s\n",
      "        50           0.5795           52.99s\n",
      "        60           0.5349           49.03s\n",
      "        70           0.4922           45.43s\n",
      "        80           0.4553           41.71s\n",
      "        90           0.4267           37.87s\n",
      "       100           0.3944           34.42s\n",
      "       200           0.1908            0.00s\n",
      "aws s3 cp /shared/CSHL_classifiers/setting_35/classifiers/IC_clf_setting_35.dump s3://mousebrainatlas-data/CSHL_classifiers/setting_35/classifiers/IC_clf_setting_35.dump\n"
     ]
    },
    {
     "name": "stderr",
     "output_type": "stream",
     "text": [
      "Fitting classifier: 69.08 seconds\n",
      "Child returned 0\n",
      "0.51 seconds.\n"
     ]
    },
    {
     "name": "stdout",
     "output_type": "stream",
     "text": [
      "VLL\n",
      "      Iter       Train Loss   Remaining Time \n",
      "         1           1.1261           48.68s\n",
      "         2           0.9730           47.76s\n",
      "         3           0.8606           47.22s\n",
      "         4           0.7865           46.98s\n",
      "         5           0.7298           46.56s\n",
      "         6           0.6870           46.17s\n",
      "         7           0.6549           45.96s\n",
      "         8           0.6325           45.52s\n",
      "         9           0.6102           45.58s\n",
      "        10           0.5923           45.47s\n",
      "        20           0.4780           41.43s\n",
      "        30           0.4039           38.37s\n",
      "        40           0.3431           35.75s\n",
      "        50           0.2950           33.14s\n",
      "        60           0.2553           30.79s\n",
      "        70           0.2236           28.46s\n",
      "        80           0.1908           26.40s\n",
      "        90           0.1638           24.23s\n",
      "       100           0.1428           22.06s\n",
      "       200           0.0406            0.00s\n",
      "aws s3 cp /shared/CSHL_classifiers/setting_35/classifiers/VLL_clf_setting_35.dump s3://mousebrainatlas-data/CSHL_classifiers/setting_35/classifiers/VLL_clf_setting_35.dump\n"
     ]
    },
    {
     "name": "stderr",
     "output_type": "stream",
     "text": [
      "Fitting classifier: 44.14 seconds\n",
      "Child returned 0\n",
      "0.41 seconds.\n"
     ]
    },
    {
     "name": "stdout",
     "output_type": "stream",
     "text": [
      "VCP\n",
      "      Iter       Train Loss   Remaining Time \n",
      "         1           0.9792            1.72m\n",
      "         2           0.8950            1.68m\n",
      "         3           0.8419            1.66m\n",
      "         4           0.8004            1.68m\n",
      "         5           0.7710            1.65m\n",
      "         6           0.7435            1.66m\n",
      "         7           0.7184            1.64m\n",
      "         8           0.6988            1.63m\n",
      "         9           0.6788            1.63m\n",
      "        10           0.6624            1.62m\n",
      "        20           0.5506            1.51m\n",
      "        30           0.4798            1.43m\n",
      "        40           0.4301            1.34m\n",
      "        50           0.3864            1.25m\n",
      "        60           0.3493            1.16m\n",
      "        70           0.3191            1.07m\n",
      "        80           0.2919           58.56s\n",
      "        90           0.2668           53.64s\n",
      "       100           0.2460           48.63s\n",
      "       200           0.1091            0.00s\n",
      "aws s3 cp /shared/CSHL_classifiers/setting_35/classifiers/VCP_clf_setting_35.dump s3://mousebrainatlas-data/CSHL_classifiers/setting_35/classifiers/VCP_clf_setting_35.dump\n"
     ]
    },
    {
     "name": "stderr",
     "output_type": "stream",
     "text": [
      "Fitting classifier: 97.50 seconds\n",
      "Child returned 0\n",
      "0.46 seconds.\n"
     ]
    },
    {
     "name": "stdout",
     "output_type": "stream",
     "text": [
      "SNC\n",
      "      Iter       Train Loss   Remaining Time \n",
      "         1           1.0832            1.24m\n",
      "         2           0.9743            1.23m\n",
      "         3           0.9002            1.22m\n",
      "         4           0.8418            1.20m\n",
      "         5           0.7969            1.20m\n",
      "         6           0.7618            1.20m\n",
      "         7           0.7301            1.19m\n",
      "         8           0.7038            1.18m\n",
      "         9           0.6834            1.18m\n",
      "        10           0.6630            1.18m\n",
      "        20           0.5363            1.08m\n",
      "        30           0.4580            1.00m\n",
      "        40           0.4043           55.84s\n",
      "        50           0.3590           51.59s\n",
      "        60           0.3168           47.85s\n",
      "        70           0.2847           43.98s\n",
      "        80           0.2551           40.25s\n",
      "        90           0.2312           36.62s\n",
      "       100           0.2091           33.17s\n",
      "       200           0.0796            0.00s\n",
      "aws s3 cp /shared/CSHL_classifiers/setting_35/classifiers/SNC_clf_setting_35.dump s3://mousebrainatlas-data/CSHL_classifiers/setting_35/classifiers/SNC_clf_setting_35.dump\n"
     ]
    },
    {
     "name": "stderr",
     "output_type": "stream",
     "text": [
      "Fitting classifier: 66.24 seconds\n",
      "Child returned 0\n",
      "0.67 seconds.\n"
     ]
    },
    {
     "name": "stdout",
     "output_type": "stream",
     "text": [
      "6N\n",
      "      Iter       Train Loss   Remaining Time \n",
      "         1           0.8416           35.30s\n",
      "         2           0.7071           34.53s\n",
      "         3           0.6101           33.78s\n",
      "         4           0.5403           34.02s\n",
      "         5           0.4841           34.30s\n",
      "         6           0.4483           33.65s\n",
      "         7           0.4133           33.57s\n",
      "         8           0.3843           33.77s\n",
      "         9           0.3575           33.79s\n",
      "        10           0.3322           33.86s\n",
      "        20           0.2162           31.48s\n",
      "        30           0.1528           29.31s\n",
      "        40           0.1057           27.59s\n",
      "        50           0.0799           25.37s\n",
      "        60           0.0599           23.67s\n",
      "        70           0.0449           22.00s\n",
      "        80           0.0335           20.34s\n",
      "        90           0.0265           18.52s\n",
      "       100           0.0206           16.83s\n",
      "       200           0.0031            0.00s\n",
      "aws s3 cp /shared/CSHL_classifiers/setting_35/classifiers/6N_clf_setting_35.dump s3://mousebrainatlas-data/CSHL_classifiers/setting_35/classifiers/6N_clf_setting_35.dump\n"
     ]
    },
    {
     "name": "stderr",
     "output_type": "stream",
     "text": [
      "Fitting classifier: 33.53 seconds\n",
      "Child returned 0\n",
      "0.46 seconds.\n"
     ]
    },
    {
     "name": "stdout",
     "output_type": "stream",
     "text": [
      "SNR\n",
      "      Iter       Train Loss   Remaining Time \n",
      "         1           1.1169            1.31m\n",
      "         2           1.0229            1.30m\n",
      "         3           0.9565            1.30m\n",
      "         4           0.9013            1.28m\n",
      "         5           0.8551            1.27m\n",
      "         6           0.8223            1.26m\n",
      "         7           0.7879            1.26m\n",
      "         8           0.7636            1.24m\n",
      "         9           0.7374            1.24m\n",
      "        10           0.7191            1.23m\n",
      "        20           0.5863            1.14m\n",
      "        30           0.5098            1.06m\n",
      "        40           0.4532           58.28s\n",
      "        50           0.4021           53.90s\n",
      "        60           0.3669           49.72s\n",
      "        70           0.3354           45.50s\n",
      "        80           0.3054           41.89s\n",
      "        90           0.2763           38.49s\n",
      "       100           0.2503           34.89s\n",
      "       200           0.1006            0.00s\n",
      "aws s3 cp /shared/CSHL_classifiers/setting_35/classifiers/SNR_clf_setting_35.dump s3://mousebrainatlas-data/CSHL_classifiers/setting_35/classifiers/SNR_clf_setting_35.dump\n"
     ]
    },
    {
     "name": "stderr",
     "output_type": "stream",
     "text": [
      "Fitting classifier: 69.98 seconds\n",
      "Child returned 0\n",
      "0.51 seconds.\n"
     ]
    },
    {
     "name": "stdout",
     "output_type": "stream",
     "text": [
      "SC\n",
      "      Iter       Train Loss   Remaining Time \n",
      "         1           1.1875            1.30m\n",
      "         2           1.1305            1.29m\n",
      "         3           1.0828            1.27m\n",
      "         4           1.0508            1.25m\n",
      "         5           1.0256            1.24m\n",
      "         6           1.0015            1.23m\n",
      "         7           0.9834            1.22m\n",
      "         8           0.9657            1.21m\n",
      "         9           0.9507            1.20m\n",
      "        10           0.9360            1.19m\n",
      "        20           0.8406            1.07m\n",
      "        30           0.7664           59.56s\n",
      "        40           0.7114           54.77s\n",
      "        50           0.6608           50.84s\n",
      "        60           0.6238           46.68s\n",
      "        70           0.5799           43.44s\n",
      "        80           0.5372           40.26s\n",
      "        90           0.4979           36.90s\n",
      "       100           0.4629           33.65s\n",
      "       200           0.2432            0.00s\n",
      "aws s3 cp /shared/CSHL_classifiers/setting_35/classifiers/SC_clf_setting_35.dump s3://mousebrainatlas-data/CSHL_classifiers/setting_35/classifiers/SC_clf_setting_35.dump\n"
     ]
    },
    {
     "name": "stderr",
     "output_type": "stream",
     "text": [
      "Fitting classifier: 67.66 seconds\n",
      "Child returned 0\n",
      "0.51 seconds.\n"
     ]
    },
    {
     "name": "stdout",
     "output_type": "stream",
     "text": [
      "3N\n",
      "      Iter       Train Loss   Remaining Time \n",
      "         1           1.1826           52.22s\n",
      "         2           1.0527           51.07s\n",
      "         3           0.9674           50.79s\n",
      "         4           0.8996           50.57s\n",
      "         5           0.8458           50.19s\n",
      "         6           0.8022           49.97s\n",
      "         7           0.7652           49.65s\n",
      "         8           0.7339           49.53s\n",
      "         9           0.7084           49.17s\n",
      "        10           0.6825           48.97s\n",
      "        20           0.5472           43.91s\n",
      "        30           0.4493           40.55s\n",
      "        40           0.3825           37.53s\n",
      "        50           0.3221           35.17s\n",
      "        60           0.2771           32.56s\n",
      "        70           0.2429           29.90s\n",
      "        80           0.2089           27.64s\n",
      "        90           0.1814           25.26s\n",
      "       100           0.1574           22.92s\n",
      "       200           0.0424            0.00s\n",
      "aws s3 cp /shared/CSHL_classifiers/setting_35/classifiers/3N_clf_setting_35.dump s3://mousebrainatlas-data/CSHL_classifiers/setting_35/classifiers/3N_clf_setting_35.dump\n"
     ]
    },
    {
     "name": "stderr",
     "output_type": "stream",
     "text": [
      "Fitting classifier: 46.22 seconds\n",
      "Child returned 0\n",
      "0.46 seconds.\n"
     ]
    }
   ],
   "source": [
    "clf_dir = create_if_not_exists(os.path.join(setting_dir, 'classifiers'))\n",
    "\n",
    "for structure in structures_found:\n",
    "\n",
    "    print structure\n",
    "    \n",
    "    #############################\n",
    "    ## Define Positive Samples ##\n",
    "    #############################\n",
    "    \n",
    "    features_pos = training_features[structure]\n",
    "    n_pos = len(features_pos)\n",
    "    \n",
    "    #############################\n",
    "    ## Define Negative Samples ##\n",
    "    #############################\n",
    "    \n",
    "#     if setting in [1, 3, 4, 5, 6, 7]:\n",
    "    if neg_composition == 'neg_has_only_surround_noclass':\n",
    "        neg_classes = [convert_to_surround_name(structure, margin=margin, suffix='noclass')]\n",
    "#     elif setting in [2, 10, 23, 24, 25, 26]:\n",
    "    elif neg_composition == 'neg_has_all_surround':\n",
    "        neg_classes = [convert_to_surround_name(structure, margin=margin, suffix='noclass')]\n",
    "        for surr_s in structures_found:\n",
    "            c = convert_to_surround_name(structure, margin=margin, suffix=surr_s)\n",
    "            if c in labels_found:\n",
    "                neg_classes.append(c)\n",
    "#     elif setting in [8,9,11]:\n",
    "    elif neg_composition == 'neg_has_everything_else':\n",
    "        neg_classes = [structure + '_negative']\n",
    "    else:\n",
    "        raise Exception('neg_composition %s is not recognized.' % neg_composition)\n",
    "\n",
    "    features_neg = np.concatenate([training_features[neg_class] for neg_class in neg_classes])\n",
    "        \n",
    "    n_neg = len(features_neg)\n",
    "        \n",
    "    ###########################\n",
    "    ## Define Sample Weights ##\n",
    "    ###########################\n",
    "    \n",
    "#     if setting == 9:\n",
    "    if sample_weighting == 'weighted':\n",
    "        neg_distances = np.concatenate([distances_to_structures[neg_class][structure] for neg_class in neg_classes])\n",
    "            \n",
    "        sample_weights_neg = np.ones((n_neg,))\n",
    "        sample_weights_neg[neg_distances > thresh] = diminishing(neg_distances[neg_distances > thresh])\n",
    "        sample_weights = np.r_[np.ones((n_pos,)), sample_weights_neg]\n",
    "    else:\n",
    "        sample_weights = None\n",
    "    \n",
    "    ###########################################################################################\n",
    "\n",
    "    train_data = np.r_[features_pos, features_neg]\n",
    "    train_labels = np.r_[np.ones((features_pos.shape[0], )), \n",
    "                         -np.ones((features_neg.shape[0], ))]\n",
    "    \n",
    "#     n_train = len(train_labels0)\n",
    "#     ri = np.random.choice(range(n_train), size=100, replace=False)\n",
    "#     train_data = train_data0[ri]\n",
    "#     train_labels = train_labels0[ri]\n",
    "    \n",
    "    ##################\n",
    "    ## Define Model ##\n",
    "    ##################\n",
    "    \n",
    "#     if setting in [1, 2, 8, 9, 10, 11, 23, 24]:\n",
    "    if model == 'lr':\n",
    "        clf = LogisticRegression(penalty='l2', dual=False, tol=0.0001, C=1.0, \n",
    "                                 fit_intercept=True, intercept_scaling=1, class_weight=None, \n",
    "                                 random_state=None, solver='liblinear', max_iter=100, multi_class='ovr', \n",
    "                                 verbose=0, warm_start=False, n_jobs=1)\n",
    "            \n",
    "#     elif setting == 3:\n",
    "    elif model == 'lin_svc':\n",
    "        clf = SVC(C=1.0, kernel='linear', degree=3, gamma='auto', coef0=0.0, shrinking=True, \n",
    "                  probability=True, tol=0.001, cache_size=1000, max_iter=-1,\n",
    "              decision_function_shape=None, random_state=None)\n",
    "        \n",
    "\n",
    "#     elif setting == 4:\n",
    "    elif model == 'lin_svc_calib':\n",
    "        \n",
    "        sv_uncalibrated = LinearSVC(penalty='l2', loss='squared_hinge', dual=True, tol=0.0001, \n",
    "                                C=1.0, multi_class='ovr', \n",
    "                                fit_intercept=True, intercept_scaling=1, max_iter=100)\n",
    "        clf = CalibratedClassifierCV(sv_uncalibrated)\n",
    "        \n",
    "        \n",
    "#     elif setting in [5]:        \n",
    "    elif model == 'xgb1':\n",
    "        clf = XGBClassifier(max_depth=3, learning_rate=0.2, n_estimators=200, \n",
    "                            silent=False, objective='binary:logistic', nthread=-1, gamma=0, \n",
    "                            min_child_weight=20, max_delta_step=0, subsample=.8, \n",
    "                            colsample_bytree=.8, colsample_bylevel=1, reg_alpha=0, reg_lambda=1, \n",
    "                            scale_pos_weight=1, base_score=0.5, seed=0, missing=None)\n",
    "        \n",
    "#     elif setting in [6, 25]:\n",
    "    elif model == 'gb1':\n",
    "        clf = GradientBoostingClassifier(loss='deviance', learning_rate=0.3, n_estimators=200, \n",
    "                                         subsample=1., criterion='friedman_mse', \n",
    "                                         min_samples_split=50, min_samples_leaf=20, \n",
    "                                         min_weight_fraction_leaf=0.0, max_depth=3, \n",
    "                                         min_impurity_split=1e-07, init=None, random_state=None, \n",
    "                                         max_features=None, verbose=1, max_leaf_nodes=None, \n",
    "                                         warm_start=False, presort='auto')\n",
    "        \n",
    "#     elif setting in [7, 26]:     \n",
    "    elif model == 'gb2':\n",
    "        clf = GradientBoostingClassifier(loss='deviance', learning_rate=0.3, n_estimators=100, \n",
    "                                         subsample=1., criterion='friedman_mse', \n",
    "                                         min_samples_split=50, min_samples_leaf=20, \n",
    "                                         min_weight_fraction_leaf=0.0, max_depth=5, \n",
    "                                         min_impurity_split=1e-07, init=None, random_state=None, \n",
    "                                         max_features=None, verbose=1, max_leaf_nodes=None, \n",
    "                                         warm_start=False, presort='auto')\n",
    "        \n",
    "    \n",
    "    else:\n",
    "        sys.stderr.write('Setting is not recognized.\\n')\n",
    "\n",
    "    \n",
    "    t = time.time()    \n",
    "    clf.fit(train_data, train_labels, sample_weight=sample_weights)\n",
    "    sys.stderr.write('Fitting classifier: %.2f seconds\\n' % (time.time() - t))\n",
    "\n",
    "    clf_fp = os.path.join(clf_dir, '%(structure)s_clf_setting_%(setting)d.dump' % \\\n",
    "                                  dict(structure=structure, setting=classifier_id))\n",
    "    \n",
    "    joblib.dump(clf, clf_fp)\n",
    "    \n",
    "    upload_from_ec2_to_s3(clf_fp)"
   ]
  },
  {
   "cell_type": "markdown",
   "metadata": {},
   "source": [
    "# Load pre-computed classifiers, measure training accuracy"
   ]
  },
  {
   "cell_type": "code",
   "execution_count": 35,
   "metadata": {
    "collapsed": true
   },
   "outputs": [],
   "source": [
    "classifier_id = 35"
   ]
  },
  {
   "cell_type": "code",
   "execution_count": 36,
   "metadata": {
    "scrolled": true
   },
   "outputs": [
    {
     "name": "stdout",
     "output_type": "stream",
     "text": [
      "rm -rf /shared/CSHL_classifiers/setting_35/classifiers/5N_clf_setting_35.dump && mkdir -p /shared/CSHL_classifiers/setting_35/classifiers\n",
      "aws s3 cp s3://mousebrainatlas-data/CSHL_classifiers/setting_35/classifiers/5N_clf_setting_35.dump /shared/CSHL_classifiers/setting_35/classifiers/5N_clf_setting_35.dump\n"
     ]
    },
    {
     "name": "stderr",
     "output_type": "stream",
     "text": [
      "Child returned 0\n",
      "Child returned 0\n",
      "0.59 seconds.\n",
      "Child returned 0\n"
     ]
    },
    {
     "name": "stdout",
     "output_type": "stream",
     "text": [
      "rm -rf /shared/CSHL_classifiers/setting_35/classifiers/6N_clf_setting_35.dump && mkdir -p /shared/CSHL_classifiers/setting_35/classifiers\n",
      "aws s3 cp s3://mousebrainatlas-data/CSHL_classifiers/setting_35/classifiers/6N_clf_setting_35.dump /shared/CSHL_classifiers/setting_35/classifiers/6N_clf_setting_35.dump\n"
     ]
    },
    {
     "name": "stderr",
     "output_type": "stream",
     "text": [
      "Child returned 0\n",
      "0.55 seconds.\n",
      "Child returned 0\n"
     ]
    },
    {
     "name": "stdout",
     "output_type": "stream",
     "text": [
      "rm -rf /shared/CSHL_classifiers/setting_35/classifiers/7N_clf_setting_35.dump && mkdir -p /shared/CSHL_classifiers/setting_35/classifiers\n",
      "aws s3 cp s3://mousebrainatlas-data/CSHL_classifiers/setting_35/classifiers/7N_clf_setting_35.dump /shared/CSHL_classifiers/setting_35/classifiers/7N_clf_setting_35.dump\n"
     ]
    },
    {
     "name": "stderr",
     "output_type": "stream",
     "text": [
      "Child returned 0\n",
      "0.55 seconds.\n",
      "Child returned 0\n"
     ]
    },
    {
     "name": "stdout",
     "output_type": "stream",
     "text": [
      "rm -rf /shared/CSHL_classifiers/setting_35/classifiers/7n_clf_setting_35.dump && mkdir -p /shared/CSHL_classifiers/setting_35/classifiers\n",
      "aws s3 cp s3://mousebrainatlas-data/CSHL_classifiers/setting_35/classifiers/7n_clf_setting_35.dump /shared/CSHL_classifiers/setting_35/classifiers/7n_clf_setting_35.dump\n"
     ]
    },
    {
     "name": "stderr",
     "output_type": "stream",
     "text": [
      "Child returned 0\n",
      "0.55 seconds.\n",
      "Child returned 0\n"
     ]
    },
    {
     "name": "stdout",
     "output_type": "stream",
     "text": [
      "rm -rf /shared/CSHL_classifiers/setting_35/classifiers/Amb_clf_setting_35.dump && mkdir -p /shared/CSHL_classifiers/setting_35/classifiers\n",
      "aws s3 cp s3://mousebrainatlas-data/CSHL_classifiers/setting_35/classifiers/Amb_clf_setting_35.dump /shared/CSHL_classifiers/setting_35/classifiers/Amb_clf_setting_35.dump\n"
     ]
    },
    {
     "name": "stderr",
     "output_type": "stream",
     "text": [
      "Child returned 0\n",
      "0.55 seconds.\n",
      "Child returned 0\n"
     ]
    },
    {
     "name": "stdout",
     "output_type": "stream",
     "text": [
      "rm -rf /shared/CSHL_classifiers/setting_35/classifiers/LC_clf_setting_35.dump && mkdir -p /shared/CSHL_classifiers/setting_35/classifiers\n",
      "aws s3 cp s3://mousebrainatlas-data/CSHL_classifiers/setting_35/classifiers/LC_clf_setting_35.dump /shared/CSHL_classifiers/setting_35/classifiers/LC_clf_setting_35.dump\n"
     ]
    },
    {
     "name": "stderr",
     "output_type": "stream",
     "text": [
      "Child returned 0\n",
      "0.55 seconds.\n",
      "Child returned 0\n"
     ]
    },
    {
     "name": "stdout",
     "output_type": "stream",
     "text": [
      "rm -rf /shared/CSHL_classifiers/setting_35/classifiers/LRt_clf_setting_35.dump && mkdir -p /shared/CSHL_classifiers/setting_35/classifiers\n",
      "aws s3 cp s3://mousebrainatlas-data/CSHL_classifiers/setting_35/classifiers/LRt_clf_setting_35.dump /shared/CSHL_classifiers/setting_35/classifiers/LRt_clf_setting_35.dump\n"
     ]
    },
    {
     "name": "stderr",
     "output_type": "stream",
     "text": [
      "Child returned 0\n",
      "0.57 seconds.\n",
      "Child returned 0\n"
     ]
    },
    {
     "name": "stdout",
     "output_type": "stream",
     "text": [
      "rm -rf /shared/CSHL_classifiers/setting_35/classifiers/Pn_clf_setting_35.dump && mkdir -p /shared/CSHL_classifiers/setting_35/classifiers\n",
      "aws s3 cp s3://mousebrainatlas-data/CSHL_classifiers/setting_35/classifiers/Pn_clf_setting_35.dump /shared/CSHL_classifiers/setting_35/classifiers/Pn_clf_setting_35.dump\n"
     ]
    },
    {
     "name": "stderr",
     "output_type": "stream",
     "text": [
      "Child returned 0\n",
      "0.53 seconds.\n",
      "Child returned 0\n"
     ]
    },
    {
     "name": "stdout",
     "output_type": "stream",
     "text": [
      "rm -rf /shared/CSHL_classifiers/setting_35/classifiers/Tz_clf_setting_35.dump && mkdir -p /shared/CSHL_classifiers/setting_35/classifiers\n",
      "aws s3 cp s3://mousebrainatlas-data/CSHL_classifiers/setting_35/classifiers/Tz_clf_setting_35.dump /shared/CSHL_classifiers/setting_35/classifiers/Tz_clf_setting_35.dump\n"
     ]
    },
    {
     "name": "stderr",
     "output_type": "stream",
     "text": [
      "Child returned 0\n",
      "0.55 seconds.\n",
      "Child returned 0\n"
     ]
    },
    {
     "name": "stdout",
     "output_type": "stream",
     "text": [
      "rm -rf /shared/CSHL_classifiers/setting_35/classifiers/VLL_clf_setting_35.dump && mkdir -p /shared/CSHL_classifiers/setting_35/classifiers\n",
      "aws s3 cp s3://mousebrainatlas-data/CSHL_classifiers/setting_35/classifiers/VLL_clf_setting_35.dump /shared/CSHL_classifiers/setting_35/classifiers/VLL_clf_setting_35.dump\n"
     ]
    },
    {
     "name": "stderr",
     "output_type": "stream",
     "text": [
      "Child returned 0\n",
      "0.54 seconds.\n",
      "Child returned 0\n"
     ]
    },
    {
     "name": "stdout",
     "output_type": "stream",
     "text": [
      "rm -rf /shared/CSHL_classifiers/setting_35/classifiers/RMC_clf_setting_35.dump && mkdir -p /shared/CSHL_classifiers/setting_35/classifiers\n",
      "aws s3 cp s3://mousebrainatlas-data/CSHL_classifiers/setting_35/classifiers/RMC_clf_setting_35.dump /shared/CSHL_classifiers/setting_35/classifiers/RMC_clf_setting_35.dump\n"
     ]
    },
    {
     "name": "stderr",
     "output_type": "stream",
     "text": [
      "Child returned 0\n",
      "0.55 seconds.\n",
      "Child returned 0\n"
     ]
    },
    {
     "name": "stdout",
     "output_type": "stream",
     "text": [
      "rm -rf /shared/CSHL_classifiers/setting_35/classifiers/SNC_clf_setting_35.dump && mkdir -p /shared/CSHL_classifiers/setting_35/classifiers\n",
      "aws s3 cp s3://mousebrainatlas-data/CSHL_classifiers/setting_35/classifiers/SNC_clf_setting_35.dump /shared/CSHL_classifiers/setting_35/classifiers/SNC_clf_setting_35.dump\n"
     ]
    },
    {
     "name": "stderr",
     "output_type": "stream",
     "text": [
      "Child returned 0\n",
      "0.55 seconds.\n",
      "Child returned 0\n"
     ]
    },
    {
     "name": "stdout",
     "output_type": "stream",
     "text": [
      "rm -rf /shared/CSHL_classifiers/setting_35/classifiers/SNR_clf_setting_35.dump && mkdir -p /shared/CSHL_classifiers/setting_35/classifiers\n",
      "aws s3 cp s3://mousebrainatlas-data/CSHL_classifiers/setting_35/classifiers/SNR_clf_setting_35.dump /shared/CSHL_classifiers/setting_35/classifiers/SNR_clf_setting_35.dump\n"
     ]
    },
    {
     "name": "stderr",
     "output_type": "stream",
     "text": [
      "Child returned 0\n",
      "0.54 seconds.\n",
      "Child returned 0\n"
     ]
    },
    {
     "name": "stdout",
     "output_type": "stream",
     "text": [
      "rm -rf /shared/CSHL_classifiers/setting_35/classifiers/3N_clf_setting_35.dump && mkdir -p /shared/CSHL_classifiers/setting_35/classifiers\n",
      "aws s3 cp s3://mousebrainatlas-data/CSHL_classifiers/setting_35/classifiers/3N_clf_setting_35.dump /shared/CSHL_classifiers/setting_35/classifiers/3N_clf_setting_35.dump\n"
     ]
    },
    {
     "name": "stderr",
     "output_type": "stream",
     "text": [
      "Child returned 0\n",
      "0.54 seconds.\n",
      "Child returned 0\n"
     ]
    },
    {
     "name": "stdout",
     "output_type": "stream",
     "text": [
      "rm -rf /shared/CSHL_classifiers/setting_35/classifiers/4N_clf_setting_35.dump && mkdir -p /shared/CSHL_classifiers/setting_35/classifiers\n",
      "aws s3 cp s3://mousebrainatlas-data/CSHL_classifiers/setting_35/classifiers/4N_clf_setting_35.dump /shared/CSHL_classifiers/setting_35/classifiers/4N_clf_setting_35.dump\n"
     ]
    },
    {
     "name": "stderr",
     "output_type": "stream",
     "text": [
      "Child returned 0\n",
      "0.55 seconds.\n",
      "Child returned 0\n"
     ]
    },
    {
     "name": "stdout",
     "output_type": "stream",
     "text": [
      "rm -rf /shared/CSHL_classifiers/setting_35/classifiers/Sp5I_clf_setting_35.dump && mkdir -p /shared/CSHL_classifiers/setting_35/classifiers\n",
      "aws s3 cp s3://mousebrainatlas-data/CSHL_classifiers/setting_35/classifiers/Sp5I_clf_setting_35.dump /shared/CSHL_classifiers/setting_35/classifiers/Sp5I_clf_setting_35.dump\n"
     ]
    },
    {
     "name": "stderr",
     "output_type": "stream",
     "text": [
      "Child returned 0\n",
      "0.53 seconds.\n",
      "Child returned 0\n"
     ]
    },
    {
     "name": "stdout",
     "output_type": "stream",
     "text": [
      "rm -rf /shared/CSHL_classifiers/setting_35/classifiers/Sp5O_clf_setting_35.dump && mkdir -p /shared/CSHL_classifiers/setting_35/classifiers\n",
      "aws s3 cp s3://mousebrainatlas-data/CSHL_classifiers/setting_35/classifiers/Sp5O_clf_setting_35.dump /shared/CSHL_classifiers/setting_35/classifiers/Sp5O_clf_setting_35.dump\n"
     ]
    },
    {
     "name": "stderr",
     "output_type": "stream",
     "text": [
      "Child returned 0\n",
      "0.48 seconds.\n",
      "Child returned 0\n"
     ]
    },
    {
     "name": "stdout",
     "output_type": "stream",
     "text": [
      "rm -rf /shared/CSHL_classifiers/setting_35/classifiers/Sp5C_clf_setting_35.dump && mkdir -p /shared/CSHL_classifiers/setting_35/classifiers\n",
      "aws s3 cp s3://mousebrainatlas-data/CSHL_classifiers/setting_35/classifiers/Sp5C_clf_setting_35.dump /shared/CSHL_classifiers/setting_35/classifiers/Sp5C_clf_setting_35.dump\n"
     ]
    },
    {
     "name": "stderr",
     "output_type": "stream",
     "text": [
      "Child returned 0\n",
      "0.54 seconds.\n",
      "Child returned 0\n"
     ]
    },
    {
     "name": "stdout",
     "output_type": "stream",
     "text": [
      "rm -rf /shared/CSHL_classifiers/setting_35/classifiers/PBG_clf_setting_35.dump && mkdir -p /shared/CSHL_classifiers/setting_35/classifiers\n",
      "aws s3 cp s3://mousebrainatlas-data/CSHL_classifiers/setting_35/classifiers/PBG_clf_setting_35.dump /shared/CSHL_classifiers/setting_35/classifiers/PBG_clf_setting_35.dump\n"
     ]
    },
    {
     "name": "stderr",
     "output_type": "stream",
     "text": [
      "Child returned 0\n",
      "0.54 seconds.\n",
      "Child returned 0\n"
     ]
    },
    {
     "name": "stdout",
     "output_type": "stream",
     "text": [
      "rm -rf /shared/CSHL_classifiers/setting_35/classifiers/10N_clf_setting_35.dump && mkdir -p /shared/CSHL_classifiers/setting_35/classifiers\n",
      "aws s3 cp s3://mousebrainatlas-data/CSHL_classifiers/setting_35/classifiers/10N_clf_setting_35.dump /shared/CSHL_classifiers/setting_35/classifiers/10N_clf_setting_35.dump\n"
     ]
    },
    {
     "name": "stderr",
     "output_type": "stream",
     "text": [
      "Child returned 0\n",
      "0.55 seconds.\n",
      "Child returned 0\n"
     ]
    },
    {
     "name": "stdout",
     "output_type": "stream",
     "text": [
      "rm -rf /shared/CSHL_classifiers/setting_35/classifiers/VCA_clf_setting_35.dump && mkdir -p /shared/CSHL_classifiers/setting_35/classifiers\n",
      "aws s3 cp s3://mousebrainatlas-data/CSHL_classifiers/setting_35/classifiers/VCA_clf_setting_35.dump /shared/CSHL_classifiers/setting_35/classifiers/VCA_clf_setting_35.dump\n"
     ]
    },
    {
     "name": "stderr",
     "output_type": "stream",
     "text": [
      "Child returned 0\n",
      "0.55 seconds.\n",
      "Child returned 0\n"
     ]
    },
    {
     "name": "stdout",
     "output_type": "stream",
     "text": [
      "rm -rf /shared/CSHL_classifiers/setting_35/classifiers/VCP_clf_setting_35.dump && mkdir -p /shared/CSHL_classifiers/setting_35/classifiers\n",
      "aws s3 cp s3://mousebrainatlas-data/CSHL_classifiers/setting_35/classifiers/VCP_clf_setting_35.dump /shared/CSHL_classifiers/setting_35/classifiers/VCP_clf_setting_35.dump\n"
     ]
    },
    {
     "name": "stderr",
     "output_type": "stream",
     "text": [
      "Child returned 0\n",
      "0.55 seconds.\n",
      "Child returned 0\n"
     ]
    },
    {
     "name": "stdout",
     "output_type": "stream",
     "text": [
      "rm -rf /shared/CSHL_classifiers/setting_35/classifiers/DC_clf_setting_35.dump && mkdir -p /shared/CSHL_classifiers/setting_35/classifiers\n",
      "aws s3 cp s3://mousebrainatlas-data/CSHL_classifiers/setting_35/classifiers/DC_clf_setting_35.dump /shared/CSHL_classifiers/setting_35/classifiers/DC_clf_setting_35.dump\n"
     ]
    },
    {
     "name": "stderr",
     "output_type": "stream",
     "text": [
      "Child returned 0\n",
      "0.54 seconds.\n",
      "Child returned 0\n"
     ]
    },
    {
     "name": "stdout",
     "output_type": "stream",
     "text": [
      "rm -rf /shared/CSHL_classifiers/setting_35/classifiers/AP_clf_setting_35.dump && mkdir -p /shared/CSHL_classifiers/setting_35/classifiers\n",
      "aws s3 cp s3://mousebrainatlas-data/CSHL_classifiers/setting_35/classifiers/AP_clf_setting_35.dump /shared/CSHL_classifiers/setting_35/classifiers/AP_clf_setting_35.dump\n"
     ]
    },
    {
     "name": "stderr",
     "output_type": "stream",
     "text": [
      "Child returned 0\n",
      "0.49 seconds.\n",
      "Child returned "
     ]
    },
    {
     "name": "stdout",
     "output_type": "stream",
     "text": [
      "rm -rf /shared/CSHL_classifiers/setting_35/classifiers/12N_clf_setting_35.dump && mkdir -p /shared/CSHL_classifiers/setting_35/classifiers\n",
      "aws s3 cp s3://mousebrainatlas-data/CSHL_classifiers/setting_35/classifiers/12N_clf_setting_35.dump /shared/CSHL_classifiers/setting_35/classifiers/12N_clf_setting_35.dump\n"
     ]
    },
    {
     "name": "stderr",
     "output_type": "stream",
     "text": [
      "0\n",
      "Child returned 0\n",
      "0.54 seconds.\n",
      "Child returned 0\n"
     ]
    },
    {
     "name": "stdout",
     "output_type": "stream",
     "text": [
      "rm -rf /shared/CSHL_classifiers/setting_35/classifiers/RtTg_clf_setting_35.dump && mkdir -p /shared/CSHL_classifiers/setting_35/classifiers\n",
      "aws s3 cp s3://mousebrainatlas-data/CSHL_classifiers/setting_35/classifiers/RtTg_clf_setting_35.dump /shared/CSHL_classifiers/setting_35/classifiers/RtTg_clf_setting_35.dump\n"
     ]
    },
    {
     "name": "stderr",
     "output_type": "stream",
     "text": [
      "Child returned 0\n",
      "0.53 seconds.\n",
      "Child returned 0\n"
     ]
    },
    {
     "name": "stdout",
     "output_type": "stream",
     "text": [
      "rm -rf /shared/CSHL_classifiers/setting_35/classifiers/sp5_clf_setting_35.dump && mkdir -p /shared/CSHL_classifiers/setting_35/classifiers\n",
      "aws s3 cp s3://mousebrainatlas-data/CSHL_classifiers/setting_35/classifiers/sp5_clf_setting_35.dump /shared/CSHL_classifiers/setting_35/classifiers/sp5_clf_setting_35.dump\n"
     ]
    },
    {
     "name": "stderr",
     "output_type": "stream",
     "text": [
      "Child returned 1\n",
      "0.42 seconds.\n",
      "Classifier for sp5 is not found.\n",
      "Child returned 0\n"
     ]
    },
    {
     "name": "stdout",
     "output_type": "stream",
     "text": [
      "rm -rf /shared/CSHL_classifiers/setting_35/classifiers/outerContour_clf_setting_35.dump && mkdir -p /shared/CSHL_classifiers/setting_35/classifiers\n",
      "aws s3 cp s3://mousebrainatlas-data/CSHL_classifiers/setting_35/classifiers/outerContour_clf_setting_35.dump /shared/CSHL_classifiers/setting_35/classifiers/outerContour_clf_setting_35.dump\n"
     ]
    },
    {
     "name": "stderr",
     "output_type": "stream",
     "text": [
      "Child returned 1\n",
      "0.40 seconds.\n",
      "Classifier for outerContour is not found.\n",
      "Child returned 0\n"
     ]
    },
    {
     "name": "stdout",
     "output_type": "stream",
     "text": [
      "rm -rf /shared/CSHL_classifiers/setting_35/classifiers/SC_clf_setting_35.dump && mkdir -p /shared/CSHL_classifiers/setting_35/classifiers\n",
      "aws s3 cp s3://mousebrainatlas-data/CSHL_classifiers/setting_35/classifiers/SC_clf_setting_35.dump /shared/CSHL_classifiers/setting_35/classifiers/SC_clf_setting_35.dump\n"
     ]
    },
    {
     "name": "stderr",
     "output_type": "stream",
     "text": [
      "Child returned 0\n",
      "0.55 seconds.\n",
      "Child returned 0\n"
     ]
    },
    {
     "name": "stdout",
     "output_type": "stream",
     "text": [
      "rm -rf /shared/CSHL_classifiers/setting_35/classifiers/IC_clf_setting_35.dump && mkdir -p /shared/CSHL_classifiers/setting_35/classifiers\n",
      "aws s3 cp s3://mousebrainatlas-data/CSHL_classifiers/setting_35/classifiers/IC_clf_setting_35.dump /shared/CSHL_classifiers/setting_35/classifiers/IC_clf_setting_35.dump\n"
     ]
    },
    {
     "name": "stderr",
     "output_type": "stream",
     "text": [
      "Child returned 0\n",
      "0.54 seconds.\n"
     ]
    }
   ],
   "source": [
    "clf_allClasses = {}\n",
    "for structure in structures_to_sample:\n",
    "    clf_fp = os.path.join(setting_dir, 'classifiers', '%(structure)s_clf_setting_%(setting)d.dump' % {'structure': structure, 'setting':classifier_id})\n",
    "    download_from_s3_to_ec2(clf_fp)\n",
    "    if os.path.exists(clf_fp):\n",
    "        clf_allClasses[structure] = joblib.load(clf_fp)\n",
    "    else:\n",
    "        sys.stderr.write('Classifier for %s is not found.\\n' % structure)"
   ]
  },
  {
   "cell_type": "code",
   "execution_count": 37,
   "metadata": {
    "collapsed": true
   },
   "outputs": [],
   "source": [
    "margin = 500\n",
    "neg_composition = 'neg_has_all_surround'"
   ]
  },
  {
   "cell_type": "code",
   "execution_count": 38,
   "metadata": {},
   "outputs": [
    {
     "data": {
      "image/png": "[encoded data removed]",
      "text/plain": [
       "<matplotlib.figure.Figure at 0x7fe80d0bcc10>"
      ]
     },
     "metadata": {},
     "output_type": "display_data"
    }
   ],
   "source": [
    "# Compute training accuracy\n",
    "\n",
    "acc_all_structures = {}\n",
    "\n",
    "ncols = 5\n",
    "nrows = int(np.ceil(len(structures_found)/float(ncols)))\n",
    "\n",
    "fig, axes = plt.subplots(nrows, ncols, figsize=(ncols*2, nrows*2), sharex=True, sharey=True)\n",
    "axes = axes.flatten()\n",
    "\n",
    "for i, structure in enumerate(structures_found):\n",
    "        \n",
    "    features_pos = training_features[structure]\n",
    "    n_pos = len(features_pos)\n",
    "    \n",
    "#     if setting in [1, 3, 4, 5, 6, 7]:\n",
    "#         neg_classes = [convert_to_surround_name(structure, margin=margin, suffix='noclass')]\n",
    "#     elif setting in [2, 10, 23, 24, 25, 26]:\n",
    "#         neg_classes = [convert_to_surround_name(structure, margin=margin, suffix='noclass')]            \n",
    "#         for surr_l in structures_found:\n",
    "#             c = convert_to_surround_name(structure, margin=margin, suffix=surr_l)\n",
    "#             if c in labels_found:\n",
    "#                 neg_classes.append(c)\n",
    "#     elif setting in [8,9,11]:\n",
    "#         neg_classes = [structure + '_negative']\n",
    "#     else:\n",
    "#         sys.stderr.write('Setting is not recognized.\\n')\n",
    "#         raise\n",
    "\n",
    "#     if setting in [1, 3, 4, 5, 6, 7]:\n",
    "    if neg_composition == 'neg_has_only_surround_noclass':\n",
    "        neg_classes = [convert_to_surround_name(structure, margin=margin, suffix='noclass')]\n",
    "#     elif setting in [2, 10, 23, 24, 25, 26]:\n",
    "    elif neg_composition == 'neg_has_all_surround':\n",
    "        neg_classes = [convert_to_surround_name(structure, margin=margin, suffix='noclass')]\n",
    "        for surr_s in structures_found:\n",
    "            c = convert_to_surround_name(structure, margin=margin, suffix=surr_s)\n",
    "            if c in labels_found:\n",
    "                neg_classes.append(c)\n",
    "#     elif setting in [8,9,11]:\n",
    "    elif neg_composition == 'neg_has_everything_else':\n",
    "        neg_classes = [structure + '_negative']\n",
    "    else:\n",
    "        raise Exception('Setting is not recognized.')\n",
    "        \n",
    "        \n",
    "    features_neg = np.concatenate([training_features[neg_class] for neg_class in neg_classes])\n",
    "#     neg_distances = np.concatenate([distances_to_structures[neg_class][label] for neg_class in neg_classes])\n",
    "        \n",
    "    n_neg = len(features_neg)\n",
    "    \n",
    "    train_data = np.r_[features_pos, features_neg]\n",
    "    train_labels = np.r_[np.ones((features_pos.shape[0], )), \n",
    "                         -np.ones((features_neg.shape[0], ))]\n",
    "    \n",
    "    clf = clf_allClasses[structure]\n",
    "    \n",
    "    probs = clf.predict_proba(train_data)[:, clf.classes_.tolist().index(1.)]\n",
    "    cm = compute_confusion_matrix(np.c_[probs, 1-probs], [0 if l==1. else 1 for l in train_labels], soft=True)\n",
    "    \n",
    "    acc_all_structures[structure] = (n_pos*cm[0,0] + n_neg*cm[1,1])/(n_pos + n_neg)\n",
    "    \n",
    "    plot_confusion_matrix(cm, title='%(structure)s'% {'structure':structure},\n",
    "                          labels=['',''],\n",
    "#                           labels=[label, convert_to_surround_name(label)],\n",
    "                         axis=axes[i])\n",
    "#     plt.show();\n",
    "\n",
    "plt.tight_layout()"
   ]
  },
  {
   "cell_type": "code",
   "execution_count": 39,
   "metadata": {},
   "outputs": [
    {
     "name": "stdout",
     "output_type": "stream",
     "text": [
      "training accuracy: 0.965931997682\n"
     ]
    }
   ],
   "source": [
    "print 'training accuracy:', np.mean(acc_all_structures.values())"
   ]
  },
  {
   "cell_type": "code",
   "execution_count": null,
   "metadata": {
    "collapsed": true
   },
   "outputs": [],
   "source": []
  },
  {
   "cell_type": "code",
   "execution_count": null,
   "metadata": {
    "collapsed": true
   },
   "outputs": [],
   "source": [
    "# Visualize training patches\n",
    "\n",
    "patches = extract_patches_given_locations_multiple_sections(training_addresses['12N'][:10], \n",
    "                                                            location_or_grid_index='grid_index',\n",
    "                                                            version='compressed')\n",
    "display_images_in_grids(patches, nc=10)\n",
    "\n",
    "# patches = extract_patches_given_locations_multiple_sections(training_addresses['12N_surround'][:10], \n",
    "#                                                             location_or_grid_index='grid_index',\n",
    "#                                                             version='compressed')\n",
    "# display_images_in_grids(patches, nc=10)"
   ]
  },
  {
   "cell_type": "code",
   "execution_count": 34,
   "metadata": {
    "collapsed": true
   },
   "outputs": [],
   "source": [
    "def patch_boxes_overlay_on(bg, downscale_factor, locs, patch_size, colors=None, stack=None, sec=None):\n",
    "    \"\"\"\n",
    "    Assume bg has the specified downscale_factor.\n",
    "    \"\"\"\n",
    "\n",
    "    if bg == 'original':\n",
    "        bg = imread(DataManager.get_image_filepath(stack=stack, section=sec, version='compressed'))[::downscale_factor, ::downscale_factor]\n",
    "       \n",
    "    # viz = bg.copy()\n",
    "    viz = gray2rgb(bg).copy()\n",
    "    # need copy() because of this bug http://stackoverflow.com/a/31316516\n",
    "    \n",
    "    half_size = patch_size/2/downscale_factor\n",
    "    if isinstance(locs[0], list):\n",
    "        if colors is None:\n",
    "            colors = random_colors(len(locs))\n",
    "        for i, locs_oneColor in enumerate(locs):\n",
    "            for x, y in locs_oneColor:\n",
    "                x = x / downscale_factor\n",
    "                y = y / downscale_factor\n",
    "                cv2.rectangle(viz, (x-half_size, y-half_size), (x+half_size, y+half_size), colors[i], 2)\n",
    "    else:\n",
    "        if colors is None:\n",
    "            colors = (255,0,0)\n",
    "        for x, y in locs:\n",
    "            x = x / downscale_factor\n",
    "            y = y / downscale_factor\n",
    "            cv2.rectangle(viz, (x-half_size, y-half_size), (x+half_size, y+half_size), colors, 2)\n",
    "            \n",
    "    return viz"
   ]
  },
  {
   "cell_type": "code",
   "execution_count": 35,
   "metadata": {},
   "outputs": [
    {
     "data": {
      "text/html": [
       "<a href='tmp.jpg' target='_blank'>tmp.jpg</a><br>"
      ],
      "text/plain": [
       "/shared/MouseBrainAtlas/learning/tmp.jpg"
      ]
     },
     "execution_count": 35,
     "metadata": {},
     "output_type": "execute_result"
    }
   ],
   "source": [
    "# Visualize a patch in context\n",
    "\n",
    "patch_size, stride, _, _ = get_default_gridspec('MD589')\n",
    "grid_locations = grid_parameters_to_sample_locations(get_default_gridspec('MD589'))\n",
    "viz = patch_boxes_overlay_on('original', 8, \n",
    "                       [grid_locations[44453]],\n",
    "                      patch_size=patch_size,\n",
    "                      stack='MD589',\n",
    "                       sec=219)\n",
    "display_image(viz)"
   ]
  }
 ],
 "metadata": {
  "kernelspec": {
   "display_name": "Python 2",
   "language": "python",
   "name": "python2"
  },
  "language_info": {
   "codemirror_mode": {
    "name": "ipython",
    "version": 2
   },
   "file_extension": ".py",
   "mimetype": "text/x-python",
   "name": "python",
   "nbconvert_exporter": "python",
   "pygments_lexer": "ipython2",
   "version": "2.7.12"
  }
 },
 "nbformat": 4,
 "nbformat_minor": 1
}
