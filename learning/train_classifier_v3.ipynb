{
 "cells": [
  {
   "cell_type": "code",
   "execution_count": 1,
   "metadata": {
    "collapsed": false
   },
   "outputs": [
    {
     "name": "stdout",
     "output_type": "stream",
     "text": [
      "Setting environment for Gordon\n"
     ]
    },
    {
     "name": "stderr",
     "output_type": "stream",
     "text": [
      "No vtk\n",
      "Cannot import mxnet.\n"
     ]
    }
   ],
   "source": [
    "%reload_ext autoreload\n",
    "%autoreload 2\n",
    "\n",
    "import os\n",
    "import sys\n",
    "import time\n",
    "\n",
    "import matplotlib.pyplot as plt\n",
    "%matplotlib inline\n",
    "import numpy as np\n",
    "\n",
    "sys.path.append(os.path.join(os.environ['REPO_DIR'], 'utilities'))\n",
    "from utilities2015 import *\n",
    "from metadata import *\n",
    "from data_manager import *\n",
    "from learning_utilities import *"
   ]
  },
  {
   "cell_type": "code",
   "execution_count": 2,
   "metadata": {
    "collapsed": true
   },
   "outputs": [],
   "source": [
    "from sklearn.externals import joblib\n",
    "\n",
    "from sklearn.linear_model import LogisticRegression\n",
    "from sklearn.svm import LinearSVC, SVC\n",
    "from sklearn.calibration import CalibratedClassifierCV\n",
    "from sklearn.ensemble import GradientBoostingClassifier \n",
    "\n",
    "sys.path.append('/home/yuncong/csd395/xgboost/python-package')\n",
    "from xgboost.sklearn import XGBClassifier"
   ]
  },
  {
   "cell_type": "code",
   "execution_count": 4,
   "metadata": {
    "collapsed": false
   },
   "outputs": [],
   "source": [
    "structures_to_sample = all_known_structures\n",
    "\n",
    "negative_labels_to_sample = [s + '_negative' for s in structures_to_sample]\n",
    "\n",
    "margins_to_sample = [500] # (100 um, 250 um)\n",
    "surround_labels_to_sample = [convert_to_surround_name(s, margin=m, suffix=surr_l) \n",
    "                             for m in margins_to_sample\n",
    "                             for s in structures_to_sample \n",
    "                             for surr_l in structures_to_sample + ['noclass'] \n",
    "                             if surr_l != s]\n",
    "\n",
    "labels_to_sample = structures_to_sample + negative_labels_to_sample + surround_labels_to_sample + ['noclass']"
   ]
  },
  {
   "cell_type": "markdown",
   "metadata": {},
   "source": [
    "# Extract Training Data"
   ]
  },
  {
   "cell_type": "code",
   "execution_count": 22,
   "metadata": {
    "collapsed": false
   },
   "outputs": [
    {
     "name": "stderr",
     "output_type": "stream",
     "text": [
      "Cell is empty.\n",
      "Cell is empty.\n",
      "Cell is empty.\n"
     ]
    }
   ],
   "source": [
    "# Extract training features - random subset\n",
    "\n",
    "training_addresses = defaultdict(list)\n",
    "\n",
    "labels_found = set([])\n",
    "\n",
    "# for stack in all_annotated_nissl_stacks:\n",
    "# for stack in all_annotated_ntb_stacks:\n",
    "for stack in ['MD594']:\n",
    "\n",
    "    annotation_grid_indices_fn = os.path.join(ANNOTATION_ROOTDIR, stack, stack + '_annotation_grid_indices.h5')\n",
    "    label_gridIndices = read_hdf(annotation_grid_indices_fn, 'grid_indices')\n",
    "    \n",
    "    labels_this_stack = set(label_gridIndices.index) & set(labels_to_sample)\n",
    "    labels_found = labels_found | labels_this_stack\n",
    "    \n",
    "    training_addresses_sec_idx = sample_locations(label_gridIndices, labels_this_stack, \n",
    "                                                  num_samples_per_landmark=1000)\n",
    "    \n",
    "    for name, addresses in training_addresses_sec_idx.iteritems():\n",
    "        training_addresses[name] += [(stack, ) + addr for addr in addresses]\n",
    "        \n",
    "training_addresses.default_factory = None\n",
    "        \n",
    "# sampled_addresses = {name_u: np.array(addresses) for name_u, addresses in sampled_addresses.iteritems()}"
   ]
  },
  {
   "cell_type": "code",
   "execution_count": 24,
   "metadata": {
    "collapsed": false,
    "scrolled": true
   },
   "outputs": [
    {
     "name": "stdout",
     "output_type": "stream",
     "text": [
      "('MD594', 94)\n",
      "('MD594', 95)\n"
     ]
    },
    {
     "name": "stderr",
     "output_type": "stream",
     "text": [
      "Patch in annotation but not in mask: MD594 95 MD594-N16-2015.08.26-21.44.15_MD594_3_0048 alignedTo MD594-IHC58-2015.08.26-18.48.50_MD594_1_0172 @145\n"
     ]
    },
    {
     "name": "stdout",
     "output_type": "stream",
     "text": [
      "('MD594', 96)\n",
      "('MD594', 97)\n"
     ]
    },
    {
     "name": "stderr",
     "output_type": "stream",
     "text": [
      "Patch in annotation but not in mask: MD594 97 MD594-N17-2015.08.26-21.48.26_MD594_1_0049 alignedTo MD594-IHC58-2015.08.26-18.48.50_MD594_1_0172 @135\n"
     ]
    },
    {
     "name": "stdout",
     "output_type": "stream",
     "text": [
      "('MD594', 98)\n",
      "('MD594', 99)\n",
      "('MD594', 100)\n",
      "('MD594', 101)\n",
      "('MD594', 102)\n",
      "('MD594', 103)\n",
      "('MD594', 104)\n",
      "('MD594', 105)\n"
     ]
    },
    {
     "name": "stderr",
     "output_type": "stream",
     "text": [
      "Patch in annotation but not in mask: MD594 105 MD594-N18-2015.08.26-21.52.46_MD594_2_0053 alignedTo MD594-IHC58-2015.08.26-18.48.50_MD594_1_0172 @13065\n",
      "Patch in annotation but not in mask: MD594 105 MD594-N18-2015.08.26-21.52.46_MD594_2_0053 alignedTo MD594-IHC58-2015.08.26-18.48.50_MD594_1_0172 @62\n"
     ]
    },
    {
     "name": "stdout",
     "output_type": "stream",
     "text": [
      "('MD594', 106)\n"
     ]
    },
    {
     "name": "stderr",
     "output_type": "stream",
     "text": [
      "Patch in annotation but not in mask: MD594 106 MD594-IHC18-2015.08.26-16.19.43_MD594_2_0053 alignedTo MD594-IHC58-2015.08.26-18.48.50_MD594_1_0172 @98\n"
     ]
    },
    {
     "name": "stdout",
     "output_type": "stream",
     "text": [
      "('MD594', 107)\n",
      "('MD594', 108)\n"
     ]
    },
    {
     "name": "stderr",
     "output_type": "stream",
     "text": [
      "Patch in annotation but not in mask: MD594 108 MD594-IHC19-2015.08.26-16.22.51_MD594_1_0055 alignedTo MD594-IHC58-2015.08.26-18.48.50_MD594_1_0172 @36855\n",
      "Patch in annotation but not in mask: MD594 108 MD594-IHC19-2015.08.26-16.22.51_MD594_1_0055 alignedTo MD594-IHC58-2015.08.26-18.48.50_MD594_1_0172 @51\n"
     ]
    },
    {
     "name": "stdout",
     "output_type": "stream",
     "text": [
      "('MD594', 109)\n"
     ]
    },
    {
     "name": "stderr",
     "output_type": "stream",
     "text": [
      "Patch in annotation but not in mask: MD594 109 MD594-N19-2015.08.26-21.55.55_MD594_2_0056 alignedTo MD594-IHC58-2015.08.26-18.48.50_MD594_1_0172 @12870\n"
     ]
    },
    {
     "name": "stdout",
     "output_type": "stream",
     "text": [
      "('MD594', 110)\n",
      "('MD594', 111)\n",
      "('MD594', 112)\n",
      "('MD594', 113)\n"
     ]
    },
    {
     "name": "stderr",
     "output_type": "stream",
     "text": [
      "Patch in annotation but not in mask: MD594 113 MD594-N20-2015.08.26-21.59.11_MD594_2_0059 alignedTo MD594-IHC58-2015.08.26-18.48.50_MD594_1_0172 @141\n",
      "Patch in annotation but not in mask: MD594 113 MD594-N20-2015.08.26-21.59.11_MD594_2_0059 alignedTo MD594-IHC58-2015.08.26-18.48.50_MD594_1_0172 @30420\n"
     ]
    },
    {
     "name": "stdout",
     "output_type": "stream",
     "text": [
      "('MD594', 114)\n",
      "('MD594', 115)\n"
     ]
    },
    {
     "name": "stderr",
     "output_type": "stream",
     "text": [
      "Patch in annotation but not in mask: MD594 115 MD594-N21-2015.08.26-22.02.28_MD594_1_0061 alignedTo MD594-IHC58-2015.08.26-18.48.50_MD594_1_0172 @32370\n",
      "Patch in annotation but not in mask: MD594 115 MD594-N21-2015.08.26-22.02.28_MD594_1_0061 alignedTo MD594-IHC58-2015.08.26-18.48.50_MD594_1_0172 @36270\n"
     ]
    },
    {
     "name": "stdout",
     "output_type": "stream",
     "text": [
      "('MD594', 116)\n",
      "('MD594', 117)\n",
      "('MD594', 118)\n"
     ]
    },
    {
     "name": "stderr",
     "output_type": "stream",
     "text": [
      "Patch in annotation but not in mask: MD594 118 MD594-IHC21-2015.08.26-16.29.30_MD594_2_0062 alignedTo MD594-IHC58-2015.08.26-18.48.50_MD594_1_0172 @131\n"
     ]
    },
    {
     "name": "stdout",
     "output_type": "stream",
     "text": [
      "('MD594', 119)\n",
      "('MD594', 120)\n"
     ]
    },
    {
     "name": "stderr",
     "output_type": "stream",
     "text": [
      "Patch in annotation but not in mask: MD594 120 MD594-IHC22-2015.08.26-16.32.52_MD594_1_0064 alignedTo MD594-IHC58-2015.08.26-18.48.50_MD594_1_0172 @16380\n"
     ]
    },
    {
     "name": "stdout",
     "output_type": "stream",
     "text": [
      "('MD594', 121)\n",
      "('MD594', 122)\n"
     ]
    },
    {
     "name": "stderr",
     "output_type": "stream",
     "text": [
      "Patch in annotation but not in mask: MD594 122 MD594-IHC22-2015.08.26-16.32.52_MD594_2_0065 alignedTo MD594-IHC58-2015.08.26-18.48.50_MD594_1_0172 @3510\n"
     ]
    },
    {
     "name": "stdout",
     "output_type": "stream",
     "text": [
      "('MD594', 123)\n",
      "('MD594', 124)\n",
      "('MD594', 125)\n",
      "('MD594', 126)\n",
      "('MD594', 127)\n"
     ]
    },
    {
     "name": "stderr",
     "output_type": "stream",
     "text": [
      "Patch in annotation but not in mask: MD594 127 MD594-N24-2015.08.26-22.12.42_MD594_1_0070 alignedTo MD594-IHC58-2015.08.26-18.48.50_MD594_1_0172 @47\n",
      "Patch in annotation but not in mask: MD594 127 MD594-N24-2015.08.26-22.12.42_MD594_1_0070 alignedTo MD594-IHC58-2015.08.26-18.48.50_MD594_1_0172 @194\n"
     ]
    },
    {
     "name": "stdout",
     "output_type": "stream",
     "text": [
      "('MD594', 128)\n"
     ]
    },
    {
     "name": "stderr",
     "output_type": "stream",
     "text": [
      "Patch in annotation but not in mask: MD594 128 MD594-IHC24-2015.08.26-16.39.39_MD594_1_0070 alignedTo MD594-IHC58-2015.08.26-18.48.50_MD594_1_0172 @16575\n",
      "Patch in annotation but not in mask: MD594 128 MD594-IHC24-2015.08.26-16.39.39_MD594_1_0070 alignedTo MD594-IHC58-2015.08.26-18.48.50_MD594_1_0172 @8190\n"
     ]
    },
    {
     "name": "stdout",
     "output_type": "stream",
     "text": [
      "('MD594', 129)\n",
      "('MD594', 130)\n"
     ]
    },
    {
     "name": "stderr",
     "output_type": "stream",
     "text": [
      "Patch in annotation but not in mask: MD594 130 MD594-IHC24-2015.08.26-16.39.39_MD594_2_0071 alignedTo MD594-IHC58-2015.08.26-18.48.50_MD594_1_0172 @36\n"
     ]
    },
    {
     "name": "stdout",
     "output_type": "stream",
     "text": [
      "('MD594', 132)\n"
     ]
    },
    {
     "name": "stderr",
     "output_type": "stream",
     "text": [
      "Patch in annotation but not in mask: MD594 132 MD594-IHC25-2015.08.26-16.43.04_MD594_1_0073 alignedTo MD594-IHC58-2015.08.26-18.48.50_MD594_1_0172 @79\n"
     ]
    },
    {
     "name": "stdout",
     "output_type": "stream",
     "text": [
      "('MD594', 133)\n",
      "('MD594', 134)\n",
      "('MD594', 135)\n"
     ]
    },
    {
     "name": "stderr",
     "output_type": "stream",
     "text": [
      "Patch in annotation but not in mask: MD594 135 MD594-N26-2015.08.26-22.19.23_MD594_1_0076 alignedTo MD594-IHC58-2015.08.26-18.48.50_MD594_1_0172 @184\n"
     ]
    },
    {
     "name": "stdout",
     "output_type": "stream",
     "text": [
      "('MD594', 136)\n"
     ]
    },
    {
     "name": "stderr",
     "output_type": "stream",
     "text": [
      "Patch in annotation but not in mask: MD594 136 MD594-IHC26-2015.08.26-16.46.33_MD594_1_0076 alignedTo MD594-IHC58-2015.08.26-18.48.50_MD594_1_0172 @3120\n",
      "Patch in annotation but not in mask: MD594 136 MD594-IHC26-2015.08.26-16.46.33_MD594_1_0076 alignedTo MD594-IHC58-2015.08.26-18.48.50_MD594_1_0172 @164\n"
     ]
    },
    {
     "name": "stdout",
     "output_type": "stream",
     "text": [
      "('MD594', 137)\n",
      "('MD594', 138)\n",
      "('MD594', 139)\n"
     ]
    },
    {
     "name": "stderr",
     "output_type": "stream",
     "text": [
      "Patch in annotation but not in mask: MD594 139 MD594-N27-2015.08.26-22.22.46_MD594_1_0079 alignedTo MD594-IHC58-2015.08.26-18.48.50_MD594_1_0172 @73\n"
     ]
    },
    {
     "name": "stdout",
     "output_type": "stream",
     "text": [
      "('MD594', 140)\n"
     ]
    },
    {
     "name": "stderr",
     "output_type": "stream",
     "text": [
      "Patch in annotation but not in mask: MD594 140 MD594-IHC27-2015.08.26-16.50.00_MD594_1_0079 alignedTo MD594-IHC58-2015.08.26-18.48.50_MD594_1_0172 @15795\n"
     ]
    },
    {
     "name": "stdout",
     "output_type": "stream",
     "text": [
      "('MD594', 141)\n",
      "('MD594', 142)\n",
      "('MD594', 143)\n",
      "('MD594', 144)\n"
     ]
    },
    {
     "name": "stderr",
     "output_type": "stream",
     "text": [
      "Patch in annotation but not in mask: MD594 144 MD594-IHC28-2015.08.26-16.53.26_MD594_1_0082 alignedTo MD594-IHC58-2015.08.26-18.48.50_MD594_1_0172 @54\n"
     ]
    },
    {
     "name": "stdout",
     "output_type": "stream",
     "text": [
      "('MD594', 145)\n",
      "('MD594', 146)\n",
      "('MD594', 147)\n",
      "('MD594', 148)\n"
     ]
    },
    {
     "name": "stderr",
     "output_type": "stream",
     "text": [
      "Patch in annotation but not in mask: MD594 148 MD594-IHC29-2015.08.26-16.56.59_MD594_1_0085 alignedTo MD594-IHC58-2015.08.26-18.48.50_MD594_1_0172 @13260\n"
     ]
    },
    {
     "name": "stdout",
     "output_type": "stream",
     "text": [
      "('MD594', 149)\n",
      "('MD594', 150)\n",
      "('MD594', 151)\n",
      "('MD594', 152)\n"
     ]
    },
    {
     "name": "stderr",
     "output_type": "stream",
     "text": [
      "Patch in annotation but not in mask: MD594 152 MD594-IHC30-2015.08.26-17.00.29_MD594_1_0088 alignedTo MD594-IHC58-2015.08.26-18.48.50_MD594_1_0172 @176\n",
      "Patch in annotation but not in mask: MD594 152 MD594-IHC30-2015.08.26-17.00.29_MD594_1_0088 alignedTo MD594-IHC58-2015.08.26-18.48.50_MD594_1_0172 @156\n"
     ]
    },
    {
     "name": "stdout",
     "output_type": "stream",
     "text": [
      "('MD594', 153)\n",
      "('MD594', 154)\n",
      "('MD594', 155)\n",
      "('MD594', 156)\n",
      "('MD594', 157)\n"
     ]
    },
    {
     "name": "stderr",
     "output_type": "stream",
     "text": [
      "Patch in annotation but not in mask: MD594 157 MD594-N31-2015.08.26-22.36.37_MD594_2_0092 alignedTo MD594-IHC58-2015.08.26-18.48.50_MD594_1_0172 @14625\n"
     ]
    },
    {
     "name": "stdout",
     "output_type": "stream",
     "text": [
      "('MD594', 158)\n"
     ]
    },
    {
     "name": "stderr",
     "output_type": "stream",
     "text": [
      "Patch in annotation but not in mask: MD594 158 MD594-IHC31-2015.08.26-17.04.03_MD594_3_0093 alignedTo MD594-IHC58-2015.08.26-18.48.50_MD594_1_0172 @27495\n",
      "Patch in annotation but not in mask: MD594 158 MD594-IHC31-2015.08.26-17.04.03_MD594_3_0093 alignedTo MD594-IHC58-2015.08.26-18.48.50_MD594_1_0172 @13065\n"
     ]
    },
    {
     "name": "stdout",
     "output_type": "stream",
     "text": [
      "('MD594', 159)\n"
     ]
    },
    {
     "name": "stderr",
     "output_type": "stream",
     "text": [
      "Patch in annotation but not in mask: MD594 159 MD594-N32-2015.08.26-22.40.16_MD594_1_0094 alignedTo MD594-IHC58-2015.08.26-18.48.50_MD594_1_0172 @49\n",
      "Patch in annotation but not in mask: MD594 159 MD594-N32-2015.08.26-22.40.16_MD594_1_0094 alignedTo MD594-IHC58-2015.08.26-18.48.50_MD594_1_0172 @178\n",
      "Patch in annotation but not in mask: MD594 159 MD594-N32-2015.08.26-22.40.16_MD594_1_0094 alignedTo MD594-IHC58-2015.08.26-18.48.50_MD594_1_0172 @11115\n"
     ]
    },
    {
     "name": "stdout",
     "output_type": "stream",
     "text": [
      "('MD594', 160)\n"
     ]
    },
    {
     "name": "stderr",
     "output_type": "stream",
     "text": [
      "Patch in annotation but not in mask: MD594 160 MD594-IHC32-2015.08.26-17.07.31_MD594_1_0094 alignedTo MD594-IHC58-2015.08.26-18.48.50_MD594_1_0172 @26325\n"
     ]
    },
    {
     "name": "stdout",
     "output_type": "stream",
     "text": [
      "('MD594', 161)\n"
     ]
    },
    {
     "name": "stderr",
     "output_type": "stream",
     "text": [
      "Patch in annotation but not in mask: MD594 161 MD594-N32-2015.08.26-22.40.16_MD594_2_0095 alignedTo MD594-IHC58-2015.08.26-18.48.50_MD594_1_0172 @30030\n"
     ]
    },
    {
     "name": "stdout",
     "output_type": "stream",
     "text": [
      "('MD594', 162)\n",
      "('MD594', 163)\n",
      "('MD594', 164)\n"
     ]
    },
    {
     "name": "stderr",
     "output_type": "stream",
     "text": [
      "Patch in annotation but not in mask: MD594 164 MD594-IHC33-2015.08.26-17.11.04_MD594_1_0097 alignedTo MD594-IHC58-2015.08.26-18.48.50_MD594_1_0172 @3705\n"
     ]
    },
    {
     "name": "stdout",
     "output_type": "stream",
     "text": [
      "('MD594', 165)\n",
      "('MD594', 166)\n",
      "('MD594', 167)\n"
     ]
    },
    {
     "name": "stderr",
     "output_type": "stream",
     "text": [
      "Patch in annotation but not in mask: MD594 167 MD594-N34-2015.08.26-22.47.56_MD594_1_0100 alignedTo MD594-IHC58-2015.08.26-18.48.50_MD594_1_0172 @79\n",
      "Patch in annotation but not in mask: MD594 167 MD594-N34-2015.08.26-22.47.56_MD594_1_0100 alignedTo MD594-IHC58-2015.08.26-18.48.50_MD594_1_0172 @192\n"
     ]
    },
    {
     "name": "stdout",
     "output_type": "stream",
     "text": [
      "('MD594', 168)\n"
     ]
    },
    {
     "name": "stderr",
     "output_type": "stream",
     "text": [
      "Patch in annotation but not in mask: MD594 168 MD594-IHC34-2015.08.26-17.14.47_MD594_1_0100 alignedTo MD594-IHC58-2015.08.26-18.48.50_MD594_1_0172 @30615\n"
     ]
    },
    {
     "name": "stdout",
     "output_type": "stream",
     "text": [
      "('MD594', 169)\n"
     ]
    },
    {
     "name": "stderr",
     "output_type": "stream",
     "text": [
      "Patch in annotation but not in mask: MD594 169 MD594-N34-2015.08.26-22.47.56_MD594_2_0101 alignedTo MD594-IHC58-2015.08.26-18.48.50_MD594_1_0172 @180\n"
     ]
    },
    {
     "name": "stdout",
     "output_type": "stream",
     "text": [
      "('MD594', 170)\n"
     ]
    },
    {
     "name": "stderr",
     "output_type": "stream",
     "text": [
      "Patch in annotation but not in mask: MD594 170 MD594-IHC34-2015.08.26-17.14.47_MD594_2_0101 alignedTo MD594-IHC58-2015.08.26-18.48.50_MD594_1_0172 @11895\n"
     ]
    },
    {
     "name": "stdout",
     "output_type": "stream",
     "text": [
      "('MD594', 171)\n"
     ]
    },
    {
     "name": "stderr",
     "output_type": "stream",
     "text": [
      "Patch in annotation but not in mask: MD594 171 MD594-N35-2015.08.26-22.51.43_MD594_1_0103 alignedTo MD594-IHC58-2015.08.26-18.48.50_MD594_1_0172 @160\n",
      "Patch in annotation but not in mask: MD594 171 MD594-N35-2015.08.26-22.51.43_MD594_1_0103 alignedTo MD594-IHC58-2015.08.26-18.48.50_MD594_1_0172 @6435\n"
     ]
    },
    {
     "name": "stdout",
     "output_type": "stream",
     "text": [
      "('MD594', 172)\n"
     ]
    },
    {
     "name": "stderr",
     "output_type": "stream",
     "text": [
      "Patch in annotation but not in mask: MD594 172 MD594-IHC35-2015.08.26-17.18.27_MD594_1_0103 alignedTo MD594-IHC58-2015.08.26-18.48.50_MD594_1_0172 @25545\n",
      "Patch in annotation but not in mask: MD594 172 MD594-IHC35-2015.08.26-17.18.27_MD594_1_0103 alignedTo MD594-IHC58-2015.08.26-18.48.50_MD594_1_0172 @4485\n"
     ]
    },
    {
     "name": "stdout",
     "output_type": "stream",
     "text": [
      "('MD594', 173)\n"
     ]
    },
    {
     "name": "stderr",
     "output_type": "stream",
     "text": [
      "Patch in annotation but not in mask: MD594 173 MD594-N35-2015.08.26-22.51.43_MD594_2_0104 alignedTo MD594-IHC58-2015.08.26-18.48.50_MD594_1_0172 @10920\n"
     ]
    },
    {
     "name": "stdout",
     "output_type": "stream",
     "text": [
      "('MD594', 174)\n"
     ]
    },
    {
     "name": "stderr",
     "output_type": "stream",
     "text": [
      "Patch in annotation but not in mask: MD594 174 MD594-IHC35-2015.08.26-17.18.27_MD594_2_0104 alignedTo MD594-IHC58-2015.08.26-18.48.50_MD594_1_0172 @91\n"
     ]
    },
    {
     "name": "stdout",
     "output_type": "stream",
     "text": [
      "('MD594', 175)\n"
     ]
    },
    {
     "name": "stderr",
     "output_type": "stream",
     "text": [
      "Patch in annotation but not in mask: MD594 175 MD594-N36-2015.08.26-22.55.28_MD594_1_0106 alignedTo MD594-IHC58-2015.08.26-18.48.50_MD594_1_0172 @28\n"
     ]
    },
    {
     "name": "stdout",
     "output_type": "stream",
     "text": [
      "('MD594', 176)\n"
     ]
    },
    {
     "name": "stderr",
     "output_type": "stream",
     "text": [
      "Patch in annotation but not in mask: MD594 176 MD594-IHC36-2015.08.26-17.22.13_MD594_1_0106 alignedTo MD594-IHC58-2015.08.26-18.48.50_MD594_1_0172 @72\n"
     ]
    },
    {
     "name": "stdout",
     "output_type": "stream",
     "text": [
      "('MD594', 177)\n",
      "('MD594', 178)\n"
     ]
    },
    {
     "name": "stderr",
     "output_type": "stream",
     "text": [
      "Patch in annotation but not in mask: MD594 178 MD594-IHC36-2015.08.26-17.22.13_MD594_2_0107 alignedTo MD594-IHC58-2015.08.26-18.48.50_MD594_1_0172 @27495\n"
     ]
    },
    {
     "name": "stdout",
     "output_type": "stream",
     "text": [
      "('MD594', 179)\n"
     ]
    },
    {
     "name": "stderr",
     "output_type": "stream",
     "text": [
      "Patch in annotation but not in mask: MD594 179 MD594-N37-2015.08.26-22.59.18_MD594_1_0109 alignedTo MD594-IHC58-2015.08.26-18.48.50_MD594_1_0172 @27300\n",
      "Patch in annotation but not in mask: MD594 179 MD594-N37-2015.08.26-22.59.18_MD594_1_0109 alignedTo MD594-IHC58-2015.08.26-18.48.50_MD594_1_0172 @27885\n"
     ]
    },
    {
     "name": "stdout",
     "output_type": "stream",
     "text": [
      "('MD594', 180)\n"
     ]
    },
    {
     "name": "stderr",
     "output_type": "stream",
     "text": [
      "Patch in annotation but not in mask: MD594 180 MD594-IHC37-2015.08.26-17.26.13_MD594_1_0109 alignedTo MD594-IHC58-2015.08.26-18.48.50_MD594_1_0172 @168\n"
     ]
    },
    {
     "name": "stdout",
     "output_type": "stream",
     "text": [
      "('MD594', 181)\n"
     ]
    },
    {
     "name": "stderr",
     "output_type": "stream",
     "text": [
      "Patch in annotation but not in mask: MD594 181 MD594-N37-2015.08.26-22.59.18_MD594_2_0110 alignedTo MD594-IHC58-2015.08.26-18.48.50_MD594_1_0172 @3900\n"
     ]
    },
    {
     "name": "stdout",
     "output_type": "stream",
     "text": [
      "('MD594', 182)\n",
      "('MD594', 183)\n"
     ]
    },
    {
     "name": "stderr",
     "output_type": "stream",
     "text": [
      "Patch in annotation but not in mask: MD594 183 MD594-N38-2015.08.26-23.03.12_MD594_1_0112 alignedTo MD594-IHC58-2015.08.26-18.48.50_MD594_1_0172 @10725\n"
     ]
    },
    {
     "name": "stdout",
     "output_type": "stream",
     "text": [
      "('MD594', 184)\n"
     ]
    },
    {
     "name": "stderr",
     "output_type": "stream",
     "text": [
      "Patch in annotation but not in mask: MD594 184 MD594-IHC38-2015.08.26-17.30.18_MD594_1_0112 alignedTo MD594-IHC58-2015.08.26-18.48.50_MD594_1_0172 @28\n",
      "Patch in annotation but not in mask: MD594 184 MD594-IHC38-2015.08.26-17.30.18_MD594_1_0112 alignedTo MD594-IHC58-2015.08.26-18.48.50_MD594_1_0172 @140\n"
     ]
    },
    {
     "name": "stdout",
     "output_type": "stream",
     "text": [
      "('MD594', 185)\n"
     ]
    },
    {
     "name": "stderr",
     "output_type": "stream",
     "text": [
      "Patch in annotation but not in mask: MD594 185 MD594-N38-2015.08.26-23.03.12_MD594_2_0113 alignedTo MD594-IHC58-2015.08.26-18.48.50_MD594_1_0172 @27\n",
      "Patch in annotation but not in mask: MD594 185 MD594-N38-2015.08.26-23.03.12_MD594_2_0113 alignedTo MD594-IHC58-2015.08.26-18.48.50_MD594_1_0172 @28\n"
     ]
    },
    {
     "name": "stdout",
     "output_type": "stream",
     "text": [
      "('MD594', 186)\n",
      "('MD594', 188)\n",
      "('MD594', 189)\n"
     ]
    },
    {
     "name": "stderr",
     "output_type": "stream",
     "text": [
      "Patch in annotation but not in mask: MD594 189 MD594-N39-2015.08.26-23.07.15_MD594_2_0116 alignedTo MD594-IHC58-2015.08.26-18.48.50_MD594_1_0172 @36\n",
      "Patch in annotation but not in mask: MD594 189 MD594-N39-2015.08.26-23.07.15_MD594_2_0116 alignedTo MD594-IHC58-2015.08.26-18.48.50_MD594_1_0172 @161\n",
      "Patch in annotation but not in mask: MD594 189 MD594-N39-2015.08.26-23.07.15_MD594_2_0116 alignedTo MD594-IHC58-2015.08.26-18.48.50_MD594_1_0172 @77\n"
     ]
    },
    {
     "name": "stdout",
     "output_type": "stream",
     "text": [
      "('MD594', 190)\n"
     ]
    },
    {
     "name": "stderr",
     "output_type": "stream",
     "text": [
      "Patch in annotation but not in mask: MD594 190 MD594-IHC39-2015.08.26-17.34.24_MD594_2_0116 alignedTo MD594-IHC58-2015.08.26-18.48.50_MD594_1_0172 @124\n"
     ]
    },
    {
     "name": "stdout",
     "output_type": "stream",
     "text": [
      "('MD594', 191)\n"
     ]
    },
    {
     "name": "stderr",
     "output_type": "stream",
     "text": [
      "Patch in annotation but not in mask: MD594 191 MD594-N40-2015.08.26-23.11.10_MD594_1_0118 alignedTo MD594-IHC58-2015.08.26-18.48.50_MD594_1_0172 @94\n"
     ]
    },
    {
     "name": "stdout",
     "output_type": "stream",
     "text": [
      "('MD594', 192)\n"
     ]
    },
    {
     "name": "stderr",
     "output_type": "stream",
     "text": [
      "Patch in annotation but not in mask: MD594 192 MD594-IHC40-2015.08.26-17.38.31_MD594_1_0118 alignedTo MD594-IHC58-2015.08.26-18.48.50_MD594_1_0172 @17745\n"
     ]
    },
    {
     "name": "stdout",
     "output_type": "stream",
     "text": [
      "('MD594', 194)\n"
     ]
    },
    {
     "name": "stderr",
     "output_type": "stream",
     "text": [
      "Patch in annotation but not in mask: MD594 194 MD594-IHC40-2015.08.26-17.38.31_MD594_2_0119 alignedTo MD594-IHC58-2015.08.26-18.48.50_MD594_1_0172 @81\n"
     ]
    },
    {
     "name": "stdout",
     "output_type": "stream",
     "text": [
      "('MD594', 195)\n",
      "('MD594', 196)\n",
      "('MD594', 197)\n",
      "('MD594', 198)\n"
     ]
    },
    {
     "name": "stderr",
     "output_type": "stream",
     "text": [
      "Patch in annotation but not in mask: MD594 198 MD594-IHC41-2015.08.26-17.42.44_MD594_2_0122 alignedTo MD594-IHC58-2015.08.26-18.48.50_MD594_1_0172 @34\n"
     ]
    },
    {
     "name": "stdout",
     "output_type": "stream",
     "text": [
      "('MD594', 199)\n",
      "('MD594', 200)\n",
      "('MD594', 201)\n",
      "('MD594', 202)\n",
      "('MD594', 203)\n"
     ]
    },
    {
     "name": "stderr",
     "output_type": "stream",
     "text": [
      "Patch in annotation but not in mask: MD594 203 MD594-N43-2015.08.26-23.22.56_MD594_1_0127 alignedTo MD594-IHC58-2015.08.26-18.48.50_MD594_1_0172 @42\n",
      "Patch in annotation but not in mask: MD594 203 MD594-N43-2015.08.26-23.22.56_MD594_1_0127 alignedTo MD594-IHC58-2015.08.26-18.48.50_MD594_1_0172 @13065\n"
     ]
    },
    {
     "name": "stdout",
     "output_type": "stream",
     "text": [
      "('MD594', 204)\n"
     ]
    },
    {
     "name": "stderr",
     "output_type": "stream",
     "text": [
      "Patch in annotation but not in mask: MD594 204 MD594-IHC43-2015.08.26-17.50.40_MD594_1_0127 alignedTo MD594-IHC58-2015.08.26-18.48.50_MD594_1_0172 @85\n",
      "Patch in annotation but not in mask: MD594 204 MD594-IHC43-2015.08.26-17.50.40_MD594_1_0127 alignedTo MD594-IHC58-2015.08.26-18.48.50_MD594_1_0172 @13065\n"
     ]
    },
    {
     "name": "stdout",
     "output_type": "stream",
     "text": [
      "('MD594', 205)\n"
     ]
    },
    {
     "name": "stderr",
     "output_type": "stream",
     "text": [
      "Patch in annotation but not in mask: MD594 205 MD594-N43-2015.08.26-23.22.56_MD594_2_0128 alignedTo MD594-IHC58-2015.08.26-18.48.50_MD594_1_0172 @128\n"
     ]
    },
    {
     "name": "stdout",
     "output_type": "stream",
     "text": [
      "('MD594', 206)\n"
     ]
    },
    {
     "name": "stderr",
     "output_type": "stream",
     "text": [
      "Patch in annotation but not in mask: MD594 206 MD594-IHC43-2015.08.26-17.50.40_MD594_2_0128 alignedTo MD594-IHC58-2015.08.26-18.48.50_MD594_1_0172 @191\n",
      "Patch in annotation but not in mask: MD594 206 MD594-IHC43-2015.08.26-17.50.40_MD594_2_0128 alignedTo MD594-IHC58-2015.08.26-18.48.50_MD594_1_0172 @159\n"
     ]
    },
    {
     "name": "stdout",
     "output_type": "stream",
     "text": [
      "('MD594', 207)\n"
     ]
    },
    {
     "name": "stderr",
     "output_type": "stream",
     "text": [
      "Patch in annotation but not in mask: MD594 207 MD594-N44-2015.08.26-23.26.52_MD594_1_0130 alignedTo MD594-IHC58-2015.08.26-18.48.50_MD594_1_0172 @127\n"
     ]
    },
    {
     "name": "stdout",
     "output_type": "stream",
     "text": [
      "('MD594', 208)\n",
      "('MD594', 209)\n"
     ]
    },
    {
     "name": "stderr",
     "output_type": "stream",
     "text": [
      "Patch in annotation but not in mask: MD594 209 MD594-N44-2015.08.26-23.26.52_MD594_2_0131 alignedTo MD594-IHC58-2015.08.26-18.48.50_MD594_1_0172 @53\n"
     ]
    },
    {
     "name": "stdout",
     "output_type": "stream",
     "text": [
      "('MD594', 210)\n"
     ]
    },
    {
     "name": "stderr",
     "output_type": "stream",
     "text": [
      "Patch in annotation but not in mask: MD594 210 MD594-IHC44-2015.08.26-17.54.29_MD594_2_0131 alignedTo MD594-IHC58-2015.08.26-18.48.50_MD594_1_0172 @139\n"
     ]
    },
    {
     "name": "stdout",
     "output_type": "stream",
     "text": [
      "('MD594', 211)\n"
     ]
    },
    {
     "name": "stderr",
     "output_type": "stream",
     "text": [
      "Patch in annotation but not in mask: MD594 211 MD594-N45-2015.08.26-23.30.45_MD594_1_0133 alignedTo MD594-IHC58-2015.08.26-18.48.50_MD594_1_0172 @10530\n",
      "Patch in annotation but not in mask: MD594 211 MD594-N45-2015.08.26-23.30.45_MD594_1_0133 alignedTo MD594-IHC58-2015.08.26-18.48.50_MD594_1_0172 @36\n"
     ]
    },
    {
     "name": "stdout",
     "output_type": "stream",
     "text": [
      "('MD594', 212)\n",
      "('MD594', 213)\n"
     ]
    },
    {
     "name": "stderr",
     "output_type": "stream",
     "text": [
      "Patch in annotation but not in mask: MD594 213 MD594-N45-2015.08.26-23.30.45_MD594_2_0134 alignedTo MD594-IHC58-2015.08.26-18.48.50_MD594_1_0172 @32955\n",
      "Patch in annotation but not in mask: MD594 213 MD594-N45-2015.08.26-23.30.45_MD594_2_0134 alignedTo MD594-IHC58-2015.08.26-18.48.50_MD594_1_0172 @39\n"
     ]
    },
    {
     "name": "stdout",
     "output_type": "stream",
     "text": [
      "('MD594', 214)\n"
     ]
    },
    {
     "name": "stderr",
     "output_type": "stream",
     "text": [
      "Patch in annotation but not in mask: MD594 214 MD594-IHC45-2015.08.26-17.58.25_MD594_2_0134 alignedTo MD594-IHC58-2015.08.26-18.48.50_MD594_1_0172 @24\n",
      "Patch in annotation but not in mask: MD594 214 MD594-IHC45-2015.08.26-17.58.25_MD594_2_0134 alignedTo MD594-IHC58-2015.08.26-18.48.50_MD594_1_0172 @14235\n",
      "Patch in annotation but not in mask: MD594 214 MD594-IHC45-2015.08.26-17.58.25_MD594_2_0134 alignedTo MD594-IHC58-2015.08.26-18.48.50_MD594_1_0172 @181\n",
      "Patch in annotation but not in mask: MD594 214 MD594-IHC45-2015.08.26-17.58.25_MD594_2_0134 alignedTo MD594-IHC58-2015.08.26-18.48.50_MD594_1_0172 @91\n"
     ]
    },
    {
     "name": "stdout",
     "output_type": "stream",
     "text": [
      "('MD594', 215)\n"
     ]
    },
    {
     "name": "stderr",
     "output_type": "stream",
     "text": [
      "Patch in annotation but not in mask: MD594 215 MD594-N46-2015.08.26-23.34.38_MD594_1_0136 alignedTo MD594-IHC58-2015.08.26-18.48.50_MD594_1_0172 @16380\n"
     ]
    },
    {
     "name": "stdout",
     "output_type": "stream",
     "text": [
      "('MD594', 216)\n"
     ]
    },
    {
     "name": "stderr",
     "output_type": "stream",
     "text": [
      "Patch in annotation but not in mask: MD594 216 MD594-IHC46-2015.08.26-18.02.16_MD594_1_0136 alignedTo MD594-IHC58-2015.08.26-18.48.50_MD594_1_0172 @50\n"
     ]
    },
    {
     "name": "stdout",
     "output_type": "stream",
     "text": [
      "('MD594', 217)\n",
      "('MD594', 218)\n"
     ]
    },
    {
     "name": "stderr",
     "output_type": "stream",
     "text": [
      "Patch in annotation but not in mask: MD594 218 MD594-IHC46-2015.08.26-18.02.16_MD594_2_0137 alignedTo MD594-IHC58-2015.08.26-18.48.50_MD594_1_0172 @23400\n"
     ]
    },
    {
     "name": "stdout",
     "output_type": "stream",
     "text": [
      "('MD594', 219)\n"
     ]
    },
    {
     "name": "stderr",
     "output_type": "stream",
     "text": [
      "Patch in annotation but not in mask: MD594 219 MD594-N47-2015.08.26-23.38.33_MD594_1_0139 alignedTo MD594-IHC58-2015.08.26-18.48.50_MD594_1_0172 @23\n"
     ]
    },
    {
     "name": "stdout",
     "output_type": "stream",
     "text": [
      "('MD594', 220)\n"
     ]
    },
    {
     "name": "stderr",
     "output_type": "stream",
     "text": [
      "Patch in annotation but not in mask: MD594 220 MD594-IHC47-2015.08.26-18.06.03_MD594_1_0139 alignedTo MD594-IHC58-2015.08.26-18.48.50_MD594_1_0172 @89\n",
      "Patch in annotation but not in mask: MD594 220 MD594-IHC47-2015.08.26-18.06.03_MD594_1_0139 alignedTo MD594-IHC58-2015.08.26-18.48.50_MD594_1_0172 @28470\n"
     ]
    },
    {
     "name": "stdout",
     "output_type": "stream",
     "text": [
      "('MD594', 221)\n"
     ]
    },
    {
     "name": "stderr",
     "output_type": "stream",
     "text": [
      "Patch in annotation but not in mask: MD594 221 MD594-N47-2015.08.26-23.38.33_MD594_2_0140 alignedTo MD594-IHC58-2015.08.26-18.48.50_MD594_1_0172 @54\n",
      "Patch in annotation but not in mask: MD594 221 MD594-N47-2015.08.26-23.38.33_MD594_2_0140 alignedTo MD594-IHC58-2015.08.26-18.48.50_MD594_1_0172 @182\n"
     ]
    },
    {
     "name": "stdout",
     "output_type": "stream",
     "text": [
      "('MD594', 222)\n"
     ]
    },
    {
     "name": "stderr",
     "output_type": "stream",
     "text": [
      "Patch in annotation but not in mask: MD594 222 MD594-IHC47-2015.08.26-18.06.03_MD594_2_0140 alignedTo MD594-IHC58-2015.08.26-18.48.50_MD594_1_0172 @14040\n"
     ]
    },
    {
     "name": "stdout",
     "output_type": "stream",
     "text": [
      "('MD594', 223)\n",
      "('MD594', 224)\n"
     ]
    },
    {
     "name": "stderr",
     "output_type": "stream",
     "text": [
      "Patch in annotation but not in mask: MD594 224 MD594-IHC48-2015.08.26-18.09.45_MD594_1_0142 alignedTo MD594-IHC58-2015.08.26-18.48.50_MD594_1_0172 @75\n"
     ]
    },
    {
     "name": "stdout",
     "output_type": "stream",
     "text": [
      "('MD594', 225)\n"
     ]
    },
    {
     "name": "stderr",
     "output_type": "stream",
     "text": [
      "Patch in annotation but not in mask: MD594 225 MD594-N48-2015.08.26-23.42.33_MD594_2_0143 alignedTo MD594-IHC58-2015.08.26-18.48.50_MD594_1_0172 @39\n",
      "Patch in annotation but not in mask: MD594 225 MD594-N48-2015.08.26-23.42.33_MD594_2_0143 alignedTo MD594-IHC58-2015.08.26-18.48.50_MD594_1_0172 @32\n"
     ]
    },
    {
     "name": "stdout",
     "output_type": "stream",
     "text": [
      "('MD594', 226)\n"
     ]
    },
    {
     "name": "stderr",
     "output_type": "stream",
     "text": [
      "Patch in annotation but not in mask: MD594 226 MD594-IHC48-2015.08.26-18.09.45_MD594_2_0143 alignedTo MD594-IHC58-2015.08.26-18.48.50_MD594_1_0172 @33540\n"
     ]
    },
    {
     "name": "stdout",
     "output_type": "stream",
     "text": [
      "('MD594', 227)\n"
     ]
    },
    {
     "name": "stderr",
     "output_type": "stream",
     "text": [
      "Patch in annotation but not in mask: MD594 227 MD594-N49-2015.08.26-23.46.35_MD594_1_0145 alignedTo MD594-IHC58-2015.08.26-18.48.50_MD594_1_0172 @57\n"
     ]
    },
    {
     "name": "stdout",
     "output_type": "stream",
     "text": [
      "('MD594', 228)\n",
      "('MD594', 229)\n",
      "('MD594', 230)\n"
     ]
    },
    {
     "name": "stderr",
     "output_type": "stream",
     "text": [
      "Patch in annotation but not in mask: MD594 230 MD594-IHC49-2015.08.26-18.13.29_MD594_2_0146 alignedTo MD594-IHC58-2015.08.26-18.48.50_MD594_1_0172 @61\n",
      "Patch in annotation but not in mask: MD594 230 MD594-IHC49-2015.08.26-18.13.29_MD594_2_0146 alignedTo MD594-IHC58-2015.08.26-18.48.50_MD594_1_0172 @32565\n"
     ]
    },
    {
     "name": "stdout",
     "output_type": "stream",
     "text": [
      "('MD594', 231)\n"
     ]
    },
    {
     "name": "stderr",
     "output_type": "stream",
     "text": [
      "Patch in annotation but not in mask: MD594 231 MD594-N50-2015.08.26-23.50.36_MD594_1_0148 alignedTo MD594-IHC58-2015.08.26-18.48.50_MD594_1_0172 @135\n",
      "Patch in annotation but not in mask: MD594 231 MD594-N50-2015.08.26-23.50.36_MD594_1_0148 alignedTo MD594-IHC58-2015.08.26-18.48.50_MD594_1_0172 @26910\n"
     ]
    },
    {
     "name": "stdout",
     "output_type": "stream",
     "text": [
      "('MD594', 232)\n"
     ]
    },
    {
     "name": "stderr",
     "output_type": "stream",
     "text": [
      "Patch in annotation but not in mask: MD594 232 MD594-IHC50-2015.08.26-18.17.23_MD594_1_0148 alignedTo MD594-IHC58-2015.08.26-18.48.50_MD594_1_0172 @15210\n"
     ]
    },
    {
     "name": "stdout",
     "output_type": "stream",
     "text": [
      "('MD594', 233)\n",
      "('MD594', 234)\n"
     ]
    },
    {
     "name": "stderr",
     "output_type": "stream",
     "text": [
      "Patch in annotation but not in mask: MD594 234 MD594-IHC50-2015.08.26-18.17.23_MD594_2_0149 alignedTo MD594-IHC58-2015.08.26-18.48.50_MD594_1_0172 @34320\n",
      "Patch in annotation but not in mask: MD594 234 MD594-IHC50-2015.08.26-18.17.23_MD594_2_0149 alignedTo MD594-IHC58-2015.08.26-18.48.50_MD594_1_0172 @27\n"
     ]
    },
    {
     "name": "stdout",
     "output_type": "stream",
     "text": [
      "('MD594', 235)\n"
     ]
    },
    {
     "name": "stderr",
     "output_type": "stream",
     "text": [
      "Patch in annotation but not in mask: MD594 235 MD594-N51-2015.08.26-23.54.38_MD594_1_0151 alignedTo MD594-IHC58-2015.08.26-18.48.50_MD594_1_0172 @28\n"
     ]
    },
    {
     "name": "stdout",
     "output_type": "stream",
     "text": [
      "('MD594', 236)\n"
     ]
    },
    {
     "name": "stderr",
     "output_type": "stream",
     "text": [
      "Patch in annotation but not in mask: MD594 236 MD594-IHC51-2015.08.26-18.21.11_MD594_1_0151 alignedTo MD594-IHC58-2015.08.26-18.48.50_MD594_1_0172 @24570\n",
      "Patch in annotation but not in mask: MD594 236 MD594-IHC51-2015.08.26-18.21.11_MD594_1_0151 alignedTo MD594-IHC58-2015.08.26-18.48.50_MD594_1_0172 @192\n"
     ]
    },
    {
     "name": "stdout",
     "output_type": "stream",
     "text": [
      "('MD594', 237)\n"
     ]
    },
    {
     "name": "stderr",
     "output_type": "stream",
     "text": [
      "Patch in annotation but not in mask: MD594 237 MD594-N51-2015.08.26-23.54.38_MD594_2_0152 alignedTo MD594-IHC58-2015.08.26-18.48.50_MD594_1_0172 @176\n",
      "Patch in annotation but not in mask: MD594 237 MD594-N51-2015.08.26-23.54.38_MD594_2_0152 alignedTo MD594-IHC58-2015.08.26-18.48.50_MD594_1_0172 @24180\n"
     ]
    },
    {
     "name": "stdout",
     "output_type": "stream",
     "text": [
      "('MD594', 239)\n"
     ]
    },
    {
     "name": "stderr",
     "output_type": "stream",
     "text": [
      "Patch in annotation but not in mask: MD594 239 MD594-IHC52-2015.08.26-18.25.10_MD594_1_0154 alignedTo MD594-IHC58-2015.08.26-18.48.50_MD594_1_0172 @54\n"
     ]
    },
    {
     "name": "stdout",
     "output_type": "stream",
     "text": [
      "('MD594', 240)\n"
     ]
    },
    {
     "name": "stderr",
     "output_type": "stream",
     "text": [
      "Patch in annotation but not in mask: MD594 240 MD594-IHC52-2015.08.26-18.25.10_MD594_2_0155 alignedTo MD594-IHC58-2015.08.26-18.48.50_MD594_1_0172 @14820\n",
      "Patch in annotation but not in mask: MD594 240 MD594-IHC52-2015.08.26-18.25.10_MD594_2_0155 alignedTo MD594-IHC58-2015.08.26-18.48.50_MD594_1_0172 @14\n",
      "Patch in annotation but not in mask: MD594 240 MD594-IHC52-2015.08.26-18.25.10_MD594_2_0155 alignedTo MD594-IHC58-2015.08.26-18.48.50_MD594_1_0172 @118\n"
     ]
    },
    {
     "name": "stdout",
     "output_type": "stream",
     "text": [
      "('MD594', 241)\n",
      "('MD594', 242)\n",
      "('MD594', 243)\n"
     ]
    },
    {
     "name": "stderr",
     "output_type": "stream",
     "text": [
      "Patch in annotation but not in mask: MD594 243 MD594-N53-2015.08.26-23.58.45_MD594_2_0158 alignedTo MD594-IHC58-2015.08.26-18.48.50_MD594_1_0172 @82\n"
     ]
    },
    {
     "name": "stdout",
     "output_type": "stream",
     "text": [
      "('MD594', 244)\n",
      "('MD594', 245)\n",
      "('MD594', 246)\n"
     ]
    },
    {
     "name": "stderr",
     "output_type": "stream",
     "text": [
      "Patch in annotation but not in mask: MD594 246 MD594-IHC54-2015.08.26-18.33.01_MD594_1_0160 alignedTo MD594-IHC58-2015.08.26-18.48.50_MD594_1_0172 @108\n"
     ]
    },
    {
     "name": "stdout",
     "output_type": "stream",
     "text": [
      "('MD594', 247)\n"
     ]
    },
    {
     "name": "stderr",
     "output_type": "stream",
     "text": [
      "Patch in annotation but not in mask: MD594 247 MD594-N54-2015.08.27-00.02.48_MD594_2_0161 alignedTo MD594-IHC58-2015.08.26-18.48.50_MD594_1_0172 @97\n"
     ]
    },
    {
     "name": "stdout",
     "output_type": "stream",
     "text": [
      "('MD594', 248)\n"
     ]
    },
    {
     "name": "stderr",
     "output_type": "stream",
     "text": [
      "Patch in annotation but not in mask: MD594 248 MD594-IHC54-2015.08.26-18.33.01_MD594_2_0161 alignedTo MD594-IHC58-2015.08.26-18.48.50_MD594_1_0172 @178\n",
      "Patch in annotation but not in mask: MD594 248 MD594-IHC54-2015.08.26-18.33.01_MD594_2_0161 alignedTo MD594-IHC58-2015.08.26-18.48.50_MD594_1_0172 @150\n"
     ]
    },
    {
     "name": "stdout",
     "output_type": "stream",
     "text": [
      "('MD594', 249)\n"
     ]
    },
    {
     "name": "stderr",
     "output_type": "stream",
     "text": [
      "Patch in annotation but not in mask: MD594 249 MD594-N55-2015.08.27-00.06.50_MD594_1_0163 alignedTo MD594-IHC58-2015.08.26-18.48.50_MD594_1_0172 @5850\n",
      "Patch in annotation but not in mask: MD594 249 MD594-N55-2015.08.27-00.06.50_MD594_1_0163 alignedTo MD594-IHC58-2015.08.26-18.48.50_MD594_1_0172 @67\n"
     ]
    },
    {
     "name": "stdout",
     "output_type": "stream",
     "text": [
      "('MD594', 250)\n"
     ]
    },
    {
     "name": "stderr",
     "output_type": "stream",
     "text": [
      "Patch in annotation but not in mask: MD594 250 MD594-IHC55-2015.08.26-18.37.04_MD594_1_0163 alignedTo MD594-IHC58-2015.08.26-18.48.50_MD594_1_0172 @15600\n"
     ]
    },
    {
     "name": "stdout",
     "output_type": "stream",
     "text": [
      "('MD594', 251)\n"
     ]
    },
    {
     "name": "stderr",
     "output_type": "stream",
     "text": [
      "Patch in annotation but not in mask: MD594 251 MD594-N55-2015.08.27-00.06.50_MD594_2_0164 alignedTo MD594-IHC58-2015.08.26-18.48.50_MD594_1_0172 @31785\n",
      "Patch in annotation but not in mask: MD594 251 MD594-N55-2015.08.27-00.06.50_MD594_2_0164 alignedTo MD594-IHC58-2015.08.26-18.48.50_MD594_1_0172 @34320\n"
     ]
    },
    {
     "name": "stdout",
     "output_type": "stream",
     "text": [
      "('MD594', 252)\n"
     ]
    },
    {
     "name": "stderr",
     "output_type": "stream",
     "text": [
      "Patch in annotation but not in mask: MD594 252 MD594-IHC55-2015.08.26-18.37.04_MD594_2_0164 alignedTo MD594-IHC58-2015.08.26-18.48.50_MD594_1_0172 @182\n"
     ]
    },
    {
     "name": "stdout",
     "output_type": "stream",
     "text": [
      "('MD594', 253)\n"
     ]
    },
    {
     "name": "stderr",
     "output_type": "stream",
     "text": [
      "Patch in annotation but not in mask: MD594 253 MD594-N56-2015.08.27-00.10.53_MD594_1_0166 alignedTo MD594-IHC58-2015.08.26-18.48.50_MD594_1_0172 @170\n"
     ]
    },
    {
     "name": "stdout",
     "output_type": "stream",
     "text": [
      "('MD594', 254)\n"
     ]
    },
    {
     "name": "stderr",
     "output_type": "stream",
     "text": [
      "Patch in annotation but not in mask: MD594 254 MD594-IHC56-2015.08.26-18.40.59_MD594_1_0166 alignedTo MD594-IHC58-2015.08.26-18.48.50_MD594_1_0172 @5655\n",
      "Patch in annotation but not in mask: MD594 254 MD594-IHC56-2015.08.26-18.40.59_MD594_1_0166 alignedTo MD594-IHC58-2015.08.26-18.48.50_MD594_1_0172 @80\n",
      "Patch in annotation but not in mask: MD594 254 MD594-IHC56-2015.08.26-18.40.59_MD594_1_0166 alignedTo MD594-IHC58-2015.08.26-18.48.50_MD594_1_0172 @10\n"
     ]
    },
    {
     "name": "stdout",
     "output_type": "stream",
     "text": [
      "('MD594', 255)\n"
     ]
    },
    {
     "name": "stderr",
     "output_type": "stream",
     "text": [
      "Patch in annotation but not in mask: MD594 255 MD594-N56-2015.08.27-00.10.53_MD594_2_0167 alignedTo MD594-IHC58-2015.08.26-18.48.50_MD594_1_0172 @30420\n"
     ]
    },
    {
     "name": "stdout",
     "output_type": "stream",
     "text": [
      "('MD594', 256)\n",
      "('MD594', 257)\n",
      "('MD594', 258)\n",
      "('MD594', 259)\n"
     ]
    },
    {
     "name": "stderr",
     "output_type": "stream",
     "text": [
      "Patch in annotation but not in mask: MD594 259 MD594-N57-2015.08.27-00.14.56_MD594_2_0170 alignedTo MD594-IHC58-2015.08.26-18.48.50_MD594_1_0172 @137\n"
     ]
    },
    {
     "name": "stdout",
     "output_type": "stream",
     "text": [
      "('MD594', 260)\n",
      "('MD594', 262)\n"
     ]
    },
    {
     "name": "stderr",
     "output_type": "stream",
     "text": [
      "Patch in annotation but not in mask: MD594 262 MD594-IHC58-2015.08.26-18.48.50_MD594_1_0172 alignedTo MD594-IHC58-2015.08.26-18.48.50_MD594_1_0172 @135\n",
      "Patch in annotation but not in mask: MD594 262 MD594-IHC58-2015.08.26-18.48.50_MD594_1_0172 alignedTo MD594-IHC58-2015.08.26-18.48.50_MD594_1_0172 @105\n"
     ]
    },
    {
     "name": "stdout",
     "output_type": "stream",
     "text": [
      "('MD594', 263)\n",
      "('MD594', 264)\n"
     ]
    },
    {
     "name": "stderr",
     "output_type": "stream",
     "text": [
      "Patch in annotation but not in mask: MD594 264 MD594-IHC58-2015.08.26-18.48.50_MD594_2_0173 alignedTo MD594-IHC58-2015.08.26-18.48.50_MD594_1_0172 @30810\n"
     ]
    },
    {
     "name": "stdout",
     "output_type": "stream",
     "text": [
      "('MD594', 265)\n",
      "('MD594', 266)\n",
      "('MD594', 267)\n",
      "('MD594', 268)\n",
      "('MD594', 269)\n"
     ]
    },
    {
     "name": "stderr",
     "output_type": "stream",
     "text": [
      "Patch in annotation but not in mask: MD594 269 MD594-N60-2015.08.27-00.27.50_MD594_1_0178 alignedTo MD594-IHC58-2015.08.26-18.48.50_MD594_1_0172 @173\n"
     ]
    },
    {
     "name": "stdout",
     "output_type": "stream",
     "text": [
      "('MD594', 270)\n"
     ]
    },
    {
     "name": "stderr",
     "output_type": "stream",
     "text": [
      "Patch in annotation but not in mask: MD594 270 MD594-IHC60-2015.08.26-18.56.37_MD594_1_0178 alignedTo MD594-IHC58-2015.08.26-18.48.50_MD594_1_0172 @84\n"
     ]
    },
    {
     "name": "stdout",
     "output_type": "stream",
     "text": [
      "('MD594', 271)\n"
     ]
    },
    {
     "name": "stderr",
     "output_type": "stream",
     "text": [
      "Patch in annotation but not in mask: MD594 271 MD594-N60-2015.08.27-00.27.50_MD594_2_0179 alignedTo MD594-IHC58-2015.08.26-18.48.50_MD594_1_0172 @54\n"
     ]
    },
    {
     "name": "stdout",
     "output_type": "stream",
     "text": [
      "('MD594', 272)\n"
     ]
    },
    {
     "name": "stderr",
     "output_type": "stream",
     "text": [
      "Patch in annotation but not in mask: MD594 272 MD594-IHC60-2015.08.26-18.56.37_MD594_2_0179 alignedTo MD594-IHC58-2015.08.26-18.48.50_MD594_1_0172 @115\n",
      "Patch in annotation but not in mask: MD594 272 MD594-IHC60-2015.08.26-18.56.37_MD594_2_0179 alignedTo MD594-IHC58-2015.08.26-18.48.50_MD594_1_0172 @86\n",
      "Patch in annotation but not in mask: MD594 272 MD594-IHC60-2015.08.26-18.56.37_MD594_2_0179 alignedTo MD594-IHC58-2015.08.26-18.48.50_MD594_1_0172 @30420\n"
     ]
    },
    {
     "name": "stdout",
     "output_type": "stream",
     "text": [
      "('MD594', 273)\n"
     ]
    },
    {
     "name": "stderr",
     "output_type": "stream",
     "text": [
      "Patch in annotation but not in mask: MD594 273 MD594-N61-2015.08.27-00.31.50_MD594_1_0181 alignedTo MD594-IHC58-2015.08.26-18.48.50_MD594_1_0172 @43454\n",
      "Patch in annotation but not in mask: MD594 273 MD594-N61-2015.08.27-00.31.50_MD594_1_0181 alignedTo MD594-IHC58-2015.08.26-18.48.50_MD594_1_0172 @42868\n",
      "Patch in annotation but not in mask: MD594 273 MD594-N61-2015.08.27-00.31.50_MD594_1_0181 alignedTo MD594-IHC58-2015.08.26-18.48.50_MD594_1_0172 @45797\n",
      "Patch in annotation but not in mask: MD594 273 MD594-N61-2015.08.27-00.31.50_MD594_1_0181 alignedTo MD594-IHC58-2015.08.26-18.48.50_MD594_1_0172 @44822\n",
      "Patch in annotation but not in mask: MD594 273 MD594-N61-2015.08.27-00.31.50_MD594_1_0181 alignedTo MD594-IHC58-2015.08.26-18.48.50_MD594_1_0172 @45799\n",
      "Patch in annotation but not in mask: MD594 273 MD594-N61-2015.08.27-00.31.50_MD594_1_0181 alignedTo MD594-IHC58-2015.08.26-18.48.50_MD594_1_0172 @46384\n"
     ]
    },
    {
     "name": "stdout",
     "output_type": "stream",
     "text": [
      "('MD594', 274)\n",
      "('MD594', 275)\n"
     ]
    },
    {
     "name": "stderr",
     "output_type": "stream",
     "text": [
      "Patch in annotation but not in mask: MD594 275 MD594-N61-2015.08.27-00.31.50_MD594_2_0182 alignedTo MD594-IHC58-2015.08.26-18.48.50_MD594_1_0172 @6435\n"
     ]
    },
    {
     "name": "stdout",
     "output_type": "stream",
     "text": [
      "('MD594', 276)\n"
     ]
    },
    {
     "name": "stderr",
     "output_type": "stream",
     "text": [
      "Patch in annotation but not in mask: MD594 276 MD594-IHC61-2015.08.26-19.00.29_MD594_2_0182 alignedTo MD594-IHC58-2015.08.26-18.48.50_MD594_1_0172 @31785\n"
     ]
    },
    {
     "name": "stdout",
     "output_type": "stream",
     "text": [
      "('MD594', 277)\n"
     ]
    },
    {
     "name": "stderr",
     "output_type": "stream",
     "text": [
      "Patch in annotation but not in mask: MD594 277 MD594-N62-2015.08.27-00.35.50_MD594_1_0184 alignedTo MD594-IHC58-2015.08.26-18.48.50_MD594_1_0172 @7995\n"
     ]
    },
    {
     "name": "stdout",
     "output_type": "stream",
     "text": [
      "('MD594', 278)\n",
      "('MD594', 279)\n"
     ]
    },
    {
     "name": "stderr",
     "output_type": "stream",
     "text": [
      "Patch in annotation but not in mask: MD594 279 MD594-N62-2015.08.27-00.35.50_MD594_2_0185 alignedTo MD594-IHC58-2015.08.26-18.48.50_MD594_1_0172 @24960\n",
      "Patch in annotation but not in mask: MD594 279 MD594-N62-2015.08.27-00.35.50_MD594_2_0185 alignedTo MD594-IHC58-2015.08.26-18.48.50_MD594_1_0172 @13065\n"
     ]
    },
    {
     "name": "stdout",
     "output_type": "stream",
     "text": [
      "('MD594', 280)\n",
      "('MD594', 281)\n"
     ]
    },
    {
     "name": "stderr",
     "output_type": "stream",
     "text": [
      "Patch in annotation but not in mask: MD594 281 MD594-N63-2015.08.27-00.39.46_MD594_1_0187 alignedTo MD594-IHC58-2015.08.26-18.48.50_MD594_1_0172 @23\n"
     ]
    },
    {
     "name": "stdout",
     "output_type": "stream",
     "text": [
      "('MD594', 282)\n"
     ]
    },
    {
     "name": "stderr",
     "output_type": "stream",
     "text": [
      "Patch in annotation but not in mask: MD594 282 MD594-IHC63-2015.08.26-19.08.03_MD594_1_0187 alignedTo MD594-IHC58-2015.08.26-18.48.50_MD594_1_0172 @88\n"
     ]
    },
    {
     "name": "stdout",
     "output_type": "stream",
     "text": [
      "('MD594', 283)\n"
     ]
    },
    {
     "name": "stderr",
     "output_type": "stream",
     "text": [
      "Patch in annotation but not in mask: MD594 283 MD594-N63-2015.08.27-00.39.46_MD594_2_0188 alignedTo MD594-IHC58-2015.08.26-18.48.50_MD594_1_0172 @10530\n"
     ]
    },
    {
     "name": "stdout",
     "output_type": "stream",
     "text": [
      "('MD594', 284)\n"
     ]
    },
    {
     "name": "stderr",
     "output_type": "stream",
     "text": [
      "Patch in annotation but not in mask: MD594 284 MD594-IHC63-2015.08.26-19.08.03_MD594_2_0188 alignedTo MD594-IHC58-2015.08.26-18.48.50_MD594_1_0172 @81\n"
     ]
    },
    {
     "name": "stdout",
     "output_type": "stream",
     "text": [
      "('MD594', 285)\n"
     ]
    },
    {
     "name": "stderr",
     "output_type": "stream",
     "text": [
      "Patch in annotation but not in mask: MD594 285 MD594-N64-2015.08.27-00.43.47_MD594_1_0190 alignedTo MD594-IHC58-2015.08.26-18.48.50_MD594_1_0172 @75\n"
     ]
    },
    {
     "name": "stdout",
     "output_type": "stream",
     "text": [
      "('MD594', 286)\n",
      "('MD594', 287)\n"
     ]
    },
    {
     "name": "stderr",
     "output_type": "stream",
     "text": [
      "Patch in annotation but not in mask: MD594 287 MD594-N64-2015.08.27-00.43.47_MD594_2_0191 alignedTo MD594-IHC58-2015.08.26-18.48.50_MD594_1_0172 @134\n"
     ]
    },
    {
     "name": "stdout",
     "output_type": "stream",
     "text": [
      "('MD594', 288)\n"
     ]
    },
    {
     "name": "stderr",
     "output_type": "stream",
     "text": [
      "Patch in annotation but not in mask: MD594 288 MD594-IHC64-2015.08.26-19.11.52_MD594_2_0191 alignedTo MD594-IHC58-2015.08.26-18.48.50_MD594_1_0172 @10\n"
     ]
    },
    {
     "name": "stdout",
     "output_type": "stream",
     "text": [
      "('MD594', 289)\n"
     ]
    },
    {
     "name": "stderr",
     "output_type": "stream",
     "text": [
      "Patch in annotation but not in mask: MD594 289 MD594-N65-2015.08.27-00.47.47_MD594_1_0193 alignedTo MD594-IHC58-2015.08.26-18.48.50_MD594_1_0172 @8190\n"
     ]
    },
    {
     "name": "stdout",
     "output_type": "stream",
     "text": [
      "('MD594', 290)\n",
      "('MD594', 291)\n"
     ]
    },
    {
     "name": "stderr",
     "output_type": "stream",
     "text": [
      "Patch in annotation but not in mask: MD594 291 MD594-N65-2015.08.27-00.47.47_MD594_2_0194 alignedTo MD594-IHC58-2015.08.26-18.48.50_MD594_1_0172 @92\n"
     ]
    },
    {
     "name": "stdout",
     "output_type": "stream",
     "text": [
      "('MD594', 292)\n"
     ]
    },
    {
     "name": "stderr",
     "output_type": "stream",
     "text": [
      "Patch in annotation but not in mask: MD594 292 MD594-IHC65-2015.08.26-19.15.27_MD594_2_0194 alignedTo MD594-IHC58-2015.08.26-18.48.50_MD594_1_0172 @3705\n",
      "Patch in annotation but not in mask: MD594 292 MD594-IHC65-2015.08.26-19.15.27_MD594_2_0194 alignedTo MD594-IHC58-2015.08.26-18.48.50_MD594_1_0172 @171\n"
     ]
    },
    {
     "name": "stdout",
     "output_type": "stream",
     "text": [
      "('MD594', 293)\n",
      "('MD594', 294)\n"
     ]
    },
    {
     "name": "stderr",
     "output_type": "stream",
     "text": [
      "Patch in annotation but not in mask: MD594 294 MD594-IHC66-2015.08.26-19.18.59_MD594_1_0196 alignedTo MD594-IHC58-2015.08.26-18.48.50_MD594_1_0172 @13260\n",
      "Patch in annotation but not in mask: MD594 294 MD594-IHC66-2015.08.26-19.18.59_MD594_1_0196 alignedTo MD594-IHC58-2015.08.26-18.48.50_MD594_1_0172 @148\n",
      "Patch in annotation but not in mask: MD594 294 MD594-IHC66-2015.08.26-19.18.59_MD594_1_0196 alignedTo MD594-IHC58-2015.08.26-18.48.50_MD594_1_0172 @83\n"
     ]
    },
    {
     "name": "stdout",
     "output_type": "stream",
     "text": [
      "('MD594', 295)\n"
     ]
    },
    {
     "name": "stderr",
     "output_type": "stream",
     "text": [
      "Patch in annotation but not in mask: MD594 295 MD594-N66-2015.08.27-00.51.38_MD594_2_0197 alignedTo MD594-IHC58-2015.08.26-18.48.50_MD594_1_0172 @62\n"
     ]
    },
    {
     "name": "stdout",
     "output_type": "stream",
     "text": [
      "('MD594', 296)\n"
     ]
    },
    {
     "name": "stderr",
     "output_type": "stream",
     "text": [
      "Patch in annotation but not in mask: MD594 296 MD594-IHC66-2015.08.26-19.18.59_MD594_2_0197 alignedTo MD594-IHC58-2015.08.26-18.48.50_MD594_1_0172 @97\n",
      "Patch in annotation but not in mask: MD594 296 MD594-IHC66-2015.08.26-19.18.59_MD594_2_0197 alignedTo MD594-IHC58-2015.08.26-18.48.50_MD594_1_0172 @16\n"
     ]
    },
    {
     "name": "stdout",
     "output_type": "stream",
     "text": [
      "('MD594', 297)\n"
     ]
    },
    {
     "name": "stderr",
     "output_type": "stream",
     "text": [
      "Patch in annotation but not in mask: MD594 297 MD594-N66-2015.08.27-00.51.38_MD594_3_0198 alignedTo MD594-IHC58-2015.08.26-18.48.50_MD594_1_0172 @192\n"
     ]
    },
    {
     "name": "stdout",
     "output_type": "stream",
     "text": [
      "('MD594', 298)\n"
     ]
    },
    {
     "name": "stderr",
     "output_type": "stream",
     "text": [
      "Patch in annotation but not in mask: MD594 298 MD594-IHC66-2015.08.26-19.18.59_MD594_3_0198 alignedTo MD594-IHC58-2015.08.26-18.48.50_MD594_1_0172 @39\n"
     ]
    },
    {
     "name": "stdout",
     "output_type": "stream",
     "text": [
      "('MD594', 299)\n"
     ]
    },
    {
     "name": "stderr",
     "output_type": "stream",
     "text": [
      "Patch in annotation but not in mask: MD594 299 MD594-N67-2015.08.27-00.56.36_MD594_1_0199 alignedTo MD594-IHC58-2015.08.26-18.48.50_MD594_1_0172 @7215\n"
     ]
    },
    {
     "name": "stdout",
     "output_type": "stream",
     "text": [
      "('MD594', 300)\n",
      "('MD594', 301)\n"
     ]
    },
    {
     "name": "stderr",
     "output_type": "stream",
     "text": [
      "Patch in annotation but not in mask: MD594 301 MD594-N67-2015.08.27-00.56.36_MD594_2_0200 alignedTo MD594-IHC58-2015.08.26-18.48.50_MD594_1_0172 @26520\n",
      "Patch in annotation but not in mask: MD594 301 MD594-N67-2015.08.27-00.56.36_MD594_2_0200 alignedTo MD594-IHC58-2015.08.26-18.48.50_MD594_1_0172 @36\n"
     ]
    },
    {
     "name": "stdout",
     "output_type": "stream",
     "text": [
      "('MD594', 302)\n"
     ]
    },
    {
     "name": "stderr",
     "output_type": "stream",
     "text": [
      "Patch in annotation but not in mask: MD594 302 MD594-IHC67-2015.08.26-19.23.30_MD594_2_0200 alignedTo MD594-IHC58-2015.08.26-18.48.50_MD594_1_0172 @87\n",
      "Patch in annotation but not in mask: MD594 302 MD594-IHC67-2015.08.26-19.23.30_MD594_2_0200 alignedTo MD594-IHC58-2015.08.26-18.48.50_MD594_1_0172 @189\n"
     ]
    },
    {
     "name": "stdout",
     "output_type": "stream",
     "text": [
      "('MD594', 303)\n"
     ]
    },
    {
     "name": "stderr",
     "output_type": "stream",
     "text": [
      "Patch in annotation but not in mask: MD594 303 MD594-N67-2015.08.27-00.56.36_MD594_3_0201 alignedTo MD594-IHC58-2015.08.26-18.48.50_MD594_1_0172 @121\n",
      "Patch in annotation but not in mask: MD594 303 MD594-N67-2015.08.27-00.56.36_MD594_3_0201 alignedTo MD594-IHC58-2015.08.26-18.48.50_MD594_1_0172 @8970\n"
     ]
    },
    {
     "name": "stdout",
     "output_type": "stream",
     "text": [
      "('MD594', 304)\n",
      "('MD594', 305)\n"
     ]
    },
    {
     "name": "stderr",
     "output_type": "stream",
     "text": [
      "Patch in annotation but not in mask: MD594 305 MD594-N68-2015.08.27-01.01.13_MD594_1_0202 alignedTo MD594-IHC58-2015.08.26-18.48.50_MD594_1_0172 @21450\n"
     ]
    },
    {
     "name": "stdout",
     "output_type": "stream",
     "text": [
      "('MD594', 306)\n",
      "('MD594', 307)\n",
      "('MD594', 308)\n"
     ]
    },
    {
     "name": "stderr",
     "output_type": "stream",
     "text": [
      "Patch in annotation but not in mask: MD594 308 MD594-IHC68-2015.08.26-19.27.59_MD594_2_0203 alignedTo MD594-IHC58-2015.08.26-18.48.50_MD594_1_0172 @133\n"
     ]
    },
    {
     "name": "stdout",
     "output_type": "stream",
     "text": [
      "('MD594', 309)\n",
      "('MD594', 310)\n"
     ]
    },
    {
     "name": "stderr",
     "output_type": "stream",
     "text": [
      "Patch in annotation but not in mask: MD594 310 MD594-IHC68-2015.08.26-19.27.59_MD594_3_0204 alignedTo MD594-IHC58-2015.08.26-18.48.50_MD594_1_0172 @17\n",
      "Patch in annotation but not in mask: MD594 310 MD594-IHC68-2015.08.26-19.27.59_MD594_3_0204 alignedTo MD594-IHC58-2015.08.26-18.48.50_MD594_1_0172 @108\n"
     ]
    },
    {
     "name": "stdout",
     "output_type": "stream",
     "text": [
      "('MD594', 311)\n"
     ]
    },
    {
     "name": "stderr",
     "output_type": "stream",
     "text": [
      "Patch in annotation but not in mask: MD594 311 MD594-N69-2015.08.27-01.05.43_MD594_1_0205 alignedTo MD594-IHC58-2015.08.26-18.48.50_MD594_1_0172 @26325\n"
     ]
    },
    {
     "name": "stdout",
     "output_type": "stream",
     "text": [
      "('MD594', 312)\n",
      "('MD594', 313)\n",
      "('MD594', 314)\n",
      "('MD594', 315)\n",
      "('MD594', 316)\n"
     ]
    },
    {
     "name": "stderr",
     "output_type": "stream",
     "text": [
      "Patch in annotation but not in mask: MD594 316 MD594-IHC69-2015.08.26-19.32.32_MD594_3_0207 alignedTo MD594-IHC58-2015.08.26-18.48.50_MD594_1_0172 @15\n",
      "Patch in annotation but not in mask: MD594 316 MD594-IHC69-2015.08.26-19.32.32_MD594_3_0207 alignedTo MD594-IHC58-2015.08.26-18.48.50_MD594_1_0172 @13\n"
     ]
    },
    {
     "name": "stdout",
     "output_type": "stream",
     "text": [
      "('MD594', 317)\n"
     ]
    },
    {
     "name": "stderr",
     "output_type": "stream",
     "text": [
      "Patch in annotation but not in mask: MD594 317 MD594-N70-2015.08.27-01.10.06_MD594_1_0208 alignedTo MD594-IHC58-2015.08.26-18.48.50_MD594_1_0172 @12\n",
      "Patch in annotation but not in mask: MD594 317 MD594-N70-2015.08.27-01.10.06_MD594_1_0208 alignedTo MD594-IHC58-2015.08.26-18.48.50_MD594_1_0172 @5460\n",
      "Patch in annotation but not in mask: MD594 317 MD594-N70-2015.08.27-01.10.06_MD594_1_0208 alignedTo MD594-IHC58-2015.08.26-18.48.50_MD594_1_0172 @97\n",
      "Patch in annotation but not in mask: MD594 317 MD594-N70-2015.08.27-01.10.06_MD594_1_0208 alignedTo MD594-IHC58-2015.08.26-18.48.50_MD594_1_0172 @123\n",
      "Patch in annotation but not in mask: MD594 317 MD594-N70-2015.08.27-01.10.06_MD594_1_0208 alignedTo MD594-IHC58-2015.08.26-18.48.50_MD594_1_0172 @69\n"
     ]
    },
    {
     "name": "stdout",
     "output_type": "stream",
     "text": [
      "('MD594', 318)\n"
     ]
    },
    {
     "name": "stderr",
     "output_type": "stream",
     "text": [
      "Patch in annotation but not in mask: MD594 318 MD594-IHC70-2015.08.26-19.36.50_MD594_1_0208 alignedTo MD594-IHC58-2015.08.26-18.48.50_MD594_1_0172 @22035\n"
     ]
    },
    {
     "name": "stdout",
     "output_type": "stream",
     "text": [
      "('MD594', 319)\n",
      "('MD594', 320)\n",
      "('MD594', 321)\n"
     ]
    },
    {
     "name": "stderr",
     "output_type": "stream",
     "text": [
      "Patch in annotation but not in mask: MD594 321 MD594-N70-2015.08.27-01.10.06_MD594_3_0210 alignedTo MD594-IHC58-2015.08.26-18.48.50_MD594_1_0172 @158\n",
      "Patch in annotation but not in mask: MD594 321 MD594-N70-2015.08.27-01.10.06_MD594_3_0210 alignedTo MD594-IHC58-2015.08.26-18.48.50_MD594_1_0172 @24180\n"
     ]
    },
    {
     "name": "stdout",
     "output_type": "stream",
     "text": [
      "('MD594', 322)\n"
     ]
    },
    {
     "name": "stderr",
     "output_type": "stream",
     "text": [
      "Patch in annotation but not in mask: MD594 322 MD594-IHC70-2015.08.26-19.36.50_MD594_3_0210 alignedTo MD594-IHC58-2015.08.26-18.48.50_MD594_1_0172 @70\n"
     ]
    },
    {
     "name": "stdout",
     "output_type": "stream",
     "text": [
      "('MD594', 323)\n"
     ]
    },
    {
     "name": "stderr",
     "output_type": "stream",
     "text": [
      "Patch in annotation but not in mask: MD594 323 MD594-N71-2015.08.27-01.14.30_MD594_1_0211 alignedTo MD594-IHC58-2015.08.26-18.48.50_MD594_1_0172 @25740\n"
     ]
    },
    {
     "name": "stdout",
     "output_type": "stream",
     "text": [
      "('MD594', 324)\n",
      "('MD594', 325)\n",
      "('MD594', 326)\n",
      "('MD594', 327)\n"
     ]
    },
    {
     "name": "stderr",
     "output_type": "stream",
     "text": [
      "Patch in annotation but not in mask: MD594 327 MD594-N71-2015.08.27-01.14.30_MD594_3_0213 alignedTo MD594-IHC58-2015.08.26-18.48.50_MD594_1_0172 @24570\n",
      "Patch in annotation but not in mask: MD594 327 MD594-N71-2015.08.27-01.14.30_MD594_3_0213 alignedTo MD594-IHC58-2015.08.26-18.48.50_MD594_1_0172 @140\n"
     ]
    },
    {
     "name": "stdout",
     "output_type": "stream",
     "text": [
      "('MD594', 328)\n"
     ]
    },
    {
     "name": "stderr",
     "output_type": "stream",
     "text": [
      "Patch in annotation but not in mask: MD594 328 MD594-IHC71-2015.08.26-19.41.10_MD594_3_0213 alignedTo MD594-IHC58-2015.08.26-18.48.50_MD594_1_0172 @29\n",
      "Patch in annotation but not in mask: MD594 328 MD594-IHC71-2015.08.26-19.41.10_MD594_3_0213 alignedTo MD594-IHC58-2015.08.26-18.48.50_MD594_1_0172 @29835\n"
     ]
    },
    {
     "name": "stdout",
     "output_type": "stream",
     "text": [
      "('MD594', 329)\n"
     ]
    },
    {
     "name": "stderr",
     "output_type": "stream",
     "text": [
      "Patch in annotation but not in mask: MD594 329 MD594-N72-2015.08.27-01.18.48_MD594_1_0214 alignedTo MD594-IHC58-2015.08.26-18.48.50_MD594_1_0172 @131\n"
     ]
    },
    {
     "name": "stdout",
     "output_type": "stream",
     "text": [
      "('MD594', 330)\n"
     ]
    },
    {
     "name": "stderr",
     "output_type": "stream",
     "text": [
      "Patch in annotation but not in mask: MD594 330 MD594-IHC72-2015.08.26-19.45.24_MD594_1_0214 alignedTo MD594-IHC58-2015.08.26-18.48.50_MD594_1_0172 @54\n"
     ]
    },
    {
     "name": "stdout",
     "output_type": "stream",
     "text": [
      "('MD594', 331)\n"
     ]
    },
    {
     "name": "stderr",
     "output_type": "stream",
     "text": [
      "Patch in annotation but not in mask: MD594 331 MD594-N72-2015.08.27-01.18.48_MD594_2_0215 alignedTo MD594-IHC58-2015.08.26-18.48.50_MD594_1_0172 @102\n",
      "Patch in annotation but not in mask: MD594 331 MD594-N72-2015.08.27-01.18.48_MD594_2_0215 alignedTo MD594-IHC58-2015.08.26-18.48.50_MD594_1_0172 @10725\n"
     ]
    },
    {
     "name": "stdout",
     "output_type": "stream",
     "text": [
      "('MD594', 332)\n"
     ]
    },
    {
     "name": "stderr",
     "output_type": "stream",
     "text": [
      "Patch in annotation but not in mask: MD594 332 MD594-IHC72-2015.08.26-19.45.24_MD594_2_0215 alignedTo MD594-IHC58-2015.08.26-18.48.50_MD594_1_0172 @43680\n"
     ]
    },
    {
     "name": "stdout",
     "output_type": "stream",
     "text": [
      "('MD594', 333)\n"
     ]
    },
    {
     "name": "stderr",
     "output_type": "stream",
     "text": [
      "Patch in annotation but not in mask: MD594 333 MD594-N72-2015.08.27-01.18.48_MD594_3_0216 alignedTo MD594-IHC58-2015.08.26-18.48.50_MD594_1_0172 @34320\n"
     ]
    },
    {
     "name": "stdout",
     "output_type": "stream",
     "text": [
      "('MD594', 334)\n"
     ]
    },
    {
     "name": "stderr",
     "output_type": "stream",
     "text": [
      "Patch in annotation but not in mask: MD594 334 MD594-IHC72-2015.08.26-19.45.24_MD594_3_0216 alignedTo MD594-IHC58-2015.08.26-18.48.50_MD594_1_0172 @6435\n"
     ]
    },
    {
     "name": "stdout",
     "output_type": "stream",
     "text": [
      "('MD594', 335)\n"
     ]
    },
    {
     "name": "stderr",
     "output_type": "stream",
     "text": [
      "Patch in annotation but not in mask: MD594 335 MD594-N73-2015.08.27-01.23.07_MD594_1_0217 alignedTo MD594-IHC58-2015.08.26-18.48.50_MD594_1_0172 @37\n"
     ]
    },
    {
     "name": "stdout",
     "output_type": "stream",
     "text": [
      "('MD594', 336)\n"
     ]
    },
    {
     "name": "stderr",
     "output_type": "stream",
     "text": [
      "Patch in annotation but not in mask: MD594 336 MD594-IHC73-2015.08.26-19.49.55_MD594_1_0217 alignedTo MD594-IHC58-2015.08.26-18.48.50_MD594_1_0172 @12870\n"
     ]
    },
    {
     "name": "stdout",
     "output_type": "stream",
     "text": [
      "('MD594', 337)\n",
      "('MD594', 338)\n",
      "('MD594', 339)\n"
     ]
    },
    {
     "name": "stderr",
     "output_type": "stream",
     "text": [
      "Patch in annotation but not in mask: MD594 339 MD594-N73-2015.08.27-01.23.07_MD594_3_0219 alignedTo MD594-IHC58-2015.08.26-18.48.50_MD594_1_0172 @22425\n",
      "Patch in annotation but not in mask: MD594 339 MD594-N73-2015.08.27-01.23.07_MD594_3_0219 alignedTo MD594-IHC58-2015.08.26-18.48.50_MD594_1_0172 @169\n",
      "Patch in annotation but not in mask: MD594 339 MD594-N73-2015.08.27-01.23.07_MD594_3_0219 alignedTo MD594-IHC58-2015.08.26-18.48.50_MD594_1_0172 @33735\n"
     ]
    },
    {
     "name": "stdout",
     "output_type": "stream",
     "text": [
      "('MD594', 340)\n"
     ]
    },
    {
     "name": "stderr",
     "output_type": "stream",
     "text": [
      "Patch in annotation but not in mask: MD594 340 MD594-IHC73-2015.08.26-19.49.55_MD594_3_0219 alignedTo MD594-IHC58-2015.08.26-18.48.50_MD594_1_0172 @194\n"
     ]
    },
    {
     "name": "stdout",
     "output_type": "stream",
     "text": [
      "('MD594', 342)\n"
     ]
    },
    {
     "name": "stderr",
     "output_type": "stream",
     "text": [
      "Patch in annotation but not in mask: MD594 342 MD594-IHC74-2015.08.26-19.54.07_MD594_1_0220 alignedTo MD594-IHC58-2015.08.26-18.48.50_MD594_1_0172 @6\n"
     ]
    },
    {
     "name": "stdout",
     "output_type": "stream",
     "text": [
      "('MD594', 343)\n",
      "('MD594', 344)\n",
      "('MD594', 345)\n",
      "('MD594', 346)\n",
      "('MD594', 347)\n",
      "('MD594', 348)\n"
     ]
    },
    {
     "name": "stderr",
     "output_type": "stream",
     "text": [
      "Patch in annotation but not in mask: MD594 348 MD594-IHC75-2015.08.26-19.58.13_MD594_1_0223 alignedTo MD594-IHC58-2015.08.26-18.48.50_MD594_1_0172 @132\n",
      "Patch in annotation but not in mask: MD594 348 MD594-IHC75-2015.08.26-19.58.13_MD594_1_0223 alignedTo MD594-IHC58-2015.08.26-18.48.50_MD594_1_0172 @8\n"
     ]
    },
    {
     "name": "stdout",
     "output_type": "stream",
     "text": [
      "('MD594', 349)\n"
     ]
    },
    {
     "name": "stderr",
     "output_type": "stream",
     "text": [
      "Patch in annotation but not in mask: MD594 349 MD594-N75-2015.08.27-01.31.30_MD594_2_0224 alignedTo MD594-IHC58-2015.08.26-18.48.50_MD594_1_0172 @9750\n"
     ]
    },
    {
     "name": "stdout",
     "output_type": "stream",
     "text": [
      "('MD594', 350)\n"
     ]
    },
    {
     "name": "stderr",
     "output_type": "stream",
     "text": [
      "Patch in annotation but not in mask: MD594 350 MD594-IHC75-2015.08.26-19.58.13_MD594_2_0224 alignedTo MD594-IHC58-2015.08.26-18.48.50_MD594_1_0172 @130\n",
      "Patch in annotation but not in mask: MD594 350 MD594-IHC75-2015.08.26-19.58.13_MD594_2_0224 alignedTo MD594-IHC58-2015.08.26-18.48.50_MD594_1_0172 @74\n"
     ]
    },
    {
     "name": "stdout",
     "output_type": "stream",
     "text": [
      "('MD594', 351)\n",
      "('MD594', 352)\n"
     ]
    },
    {
     "name": "stderr",
     "output_type": "stream",
     "text": [
      "Patch in annotation but not in mask: MD594 352 MD594-IHC75-2015.08.26-19.58.13_MD594_3_0225 alignedTo MD594-IHC58-2015.08.26-18.48.50_MD594_1_0172 @51\n"
     ]
    },
    {
     "name": "stdout",
     "output_type": "stream",
     "text": [
      "('MD594', 353)\n",
      "('MD594', 354)\n",
      "('MD594', 355)\n",
      "('MD594', 356)\n",
      "('MD594', 357)\n"
     ]
    },
    {
     "name": "stderr",
     "output_type": "stream",
     "text": [
      "Patch in annotation but not in mask: MD594 357 MD594-N76-2015.08.27-01.35.41_MD594_3_0228 alignedTo MD594-IHC58-2015.08.26-18.48.50_MD594_1_0172 @23205\n",
      "Patch in annotation but not in mask: MD594 357 MD594-N76-2015.08.27-01.35.41_MD594_3_0228 alignedTo MD594-IHC58-2015.08.26-18.48.50_MD594_1_0172 @99\n"
     ]
    },
    {
     "name": "stdout",
     "output_type": "stream",
     "text": [
      "('MD594', 358)\n",
      "('MD594', 359)\n",
      "('MD594', 360)\n",
      "('MD594', 361)\n"
     ]
    },
    {
     "name": "stderr",
     "output_type": "stream",
     "text": [
      "Patch in annotation but not in mask: MD594 361 MD594-N77-2015.08.27-01.39.57_MD594_2_0230 alignedTo MD594-IHC58-2015.08.26-18.48.50_MD594_1_0172 @30\n"
     ]
    },
    {
     "name": "stdout",
     "output_type": "stream",
     "text": [
      "('MD594', 362)\n",
      "('MD594', 363)\n"
     ]
    }
   ],
   "source": [
    "training_features = apply_function_to_dict(addresses_to_features, training_addresses)"
   ]
  },
  {
   "cell_type": "code",
   "execution_count": 25,
   "metadata": {
    "collapsed": true
   },
   "outputs": [],
   "source": [
    "# Remove addresses whose features are None\n",
    "\n",
    "for name in labels_found:\n",
    "    valid = [(ftr, addr) for ftr, addr in zip(training_features[name], training_addresses[name])\n",
    "                if ftr is not None]\n",
    "    res = zip(*valid)\n",
    "    training_features[name] = np.array(res[0])\n",
    "    training_addresses[name] = res[1]"
   ]
  },
  {
   "cell_type": "code",
   "execution_count": 26,
   "metadata": {
    "collapsed": false,
    "scrolled": true
   },
   "outputs": [
    {
     "name": "stdout",
     "output_type": "stream",
     "text": [
      "10N 711\n",
      "10N_negative 993\n",
      "10N_surround_500_12N 1000\n",
      "10N_surround_500_AP 171\n",
      "10N_surround_500_noclass 1000\n",
      "12N 1000\n",
      "12N_negative 991\n",
      "12N_surround_500_10N 692\n",
      "12N_surround_500_AP 66\n",
      "12N_surround_500_noclass 1000\n",
      "3N 1000\n",
      "3N_negative 992\n",
      "3N_surround_500_4N 75\n",
      "3N_surround_500_noclass 1000\n",
      "4N 190\n",
      "4N_negative 994\n",
      "4N_surround_500_3N 168\n",
      "4N_surround_500_noclass 1000\n",
      "5N 1000\n",
      "5N_negative 996\n",
      "5N_surround_500_noclass 1000\n",
      "6N 389\n",
      "6N_negative 996\n",
      "6N_surround_500_7n 228\n",
      "6N_surround_500_noclass 1000\n",
      "7N 1000\n",
      "7N_negative 993\n",
      "7N_surround_500_noclass 1000\n",
      "7n 1000\n",
      "7n_negative 995\n",
      "7n_surround_500_6N 103\n",
      "7n_surround_500_noclass 1000\n",
      "AP 1000\n",
      "AP_negative 996\n",
      "AP_surround_500_10N 70\n",
      "AP_surround_500_12N 88\n",
      "AP_surround_500_noclass 1000\n",
      "Amb 519\n",
      "Amb_negative 995\n",
      "Amb_surround_500_LRt 104\n",
      "Amb_surround_500_noclass 1000\n",
      "DC 1000\n",
      "DC_negative 992\n",
      "DC_surround_500_VCA 1000\n",
      "DC_surround_500_VCP 1000\n",
      "DC_surround_500_noclass 1000\n",
      "IC 1000\n",
      "IC_negative 989\n",
      "IC_surround_500_SC 1000\n",
      "IC_surround_500_noclass 1000\n",
      "LC 1000\n",
      "LC_negative 992\n",
      "LC_surround_500_noclass 1000\n",
      "LRt 994\n",
      "LRt_negative 988\n",
      "LRt_surround_500_Amb 69\n",
      "LRt_surround_500_noclass 1000\n",
      "PBG 1000\n",
      "PBG_negative 990\n",
      "PBG_surround_500_SNR 206\n",
      "PBG_surround_500_noclass 1000\n",
      "Pn 1000\n",
      "Pn_negative 994\n",
      "Pn_surround_500_RtTg 1000\n",
      "Pn_surround_500_Tz 2\n",
      "Pn_surround_500_noclass 1000\n",
      "RMC 1000\n",
      "RMC_negative 997\n",
      "RMC_surround_500_noclass 1000\n",
      "RtTg 1000\n",
      "RtTg_negative 998\n",
      "RtTg_surround_500_Pn 1000\n",
      "RtTg_surround_500_Tz 288\n",
      "RtTg_surround_500_noclass 1000\n",
      "SC 1000\n",
      "SC_negative 994\n",
      "SC_surround_500_IC 1000\n",
      "SC_surround_500_noclass 1000\n",
      "SNC 1000\n",
      "SNC_negative 992\n",
      "SNC_surround_500_SNR 1000\n",
      "SNC_surround_500_noclass 1000\n",
      "SNR 1000\n",
      "SNR_negative 994\n",
      "SNR_surround_500_PBG 96\n",
      "SNR_surround_500_SNC 1000\n",
      "SNR_surround_500_VLL 2\n",
      "SNR_surround_500_noclass 1000\n",
      "Sp5C 1000\n",
      "Sp5C_negative 989\n",
      "Sp5C_surround_500_Sp5I 1000\n",
      "Sp5C_surround_500_noclass 1000\n",
      "Sp5I 1000\n",
      "Sp5I_negative 991\n",
      "Sp5I_surround_500_Sp5C 1000\n",
      "Sp5I_surround_500_Sp5O 1000\n",
      "Sp5I_surround_500_noclass 1000\n",
      "Sp5O 1000\n",
      "Sp5O_negative 992\n",
      "Sp5O_surround_500_Sp5I 1000\n",
      "Sp5O_surround_500_noclass 1000\n",
      "Tz 1000\n",
      "Tz_negative 986\n",
      "Tz_surround_500_Pn 1\n",
      "Tz_surround_500_RtTg 587\n",
      "Tz_surround_500_noclass 1000\n",
      "VCA 1000\n",
      "VCA_negative 985\n",
      "VCA_surround_500_DC 1000\n",
      "VCA_surround_500_VCP 1000\n",
      "VCA_surround_500_noclass 1000\n",
      "VCP 1000\n",
      "VCP_negative 990\n",
      "VCP_surround_500_DC 1000\n",
      "VCP_surround_500_VCA 1000\n",
      "VCP_surround_500_noclass 1000\n",
      "VLL 1000\n",
      "VLL_negative 994\n",
      "VLL_surround_500_SNR 2\n",
      "VLL_surround_500_noclass 1000\n",
      "noclass 993\n"
     ]
    }
   ],
   "source": [
    "for label in sorted(training_addresses.iterkeys()):\n",
    "    print label, len(training_addresses[label])"
   ]
  },
  {
   "cell_type": "code",
   "execution_count": 27,
   "metadata": {
    "collapsed": true
   },
   "outputs": [],
   "source": [
    "# Save this set as dataset.\n",
    "\n",
    "dataset = 12\n",
    "\n",
    "train_feat_dir = create_if_not_exists(os.path.join(CLF_ROOTDIR, 'datasets', 'dataset_%d' % dataset, 'patch_features'))\n",
    "\n",
    "# Save training features\n",
    "for label, feats in training_features.iteritems():\n",
    "    bp.pack_ndarray_file(feats, os.path.join(train_feat_dir, label + '.bp'))\n",
    "    \n",
    "# Save training addresses\n",
    "save_pickle(training_addresses, os.path.join(CLF_ROOTDIR, 'datasets', 'dataset_%d' % dataset, 'patch_addresses.pkl'))"
   ]
  },
  {
   "cell_type": "markdown",
   "metadata": {},
   "source": [
    "# Load training dataset\n"
   ]
  },
  {
   "cell_type": "code",
   "execution_count": 56,
   "metadata": {
    "collapsed": true
   },
   "outputs": [],
   "source": [
    "# Load multiple datasets\n",
    "\n",
    "training_features = {}\n",
    "\n",
    "for dataset in [10, 11]:\n",
    "    train_feat_dir = os.path.join(CLF_ROOTDIR, 'datasets', 'dataset_%d' % dataset, 'patch_features')\n",
    "    \n",
    "    for label in labels_to_sample:\n",
    "        try:\n",
    "            if label not in training_features:\n",
    "                training_features[label] = bp.unpack_ndarray_file(os.path.join(train_feat_dir, label + '.bp'))\n",
    "            else:\n",
    "                training_features[label] = np.vstack([training_features[label], \n",
    "                                                     bp.unpack_ndarray_file(os.path.join(train_feat_dir, label + '.bp'))])\n",
    "        except Exception as e:\n",
    "            continue"
   ]
  },
  {
   "cell_type": "code",
   "execution_count": 5,
   "metadata": {
    "collapsed": true
   },
   "outputs": [],
   "source": [
    "# Load a single dataset\n",
    "\n",
    "dataset = 2\n",
    "\n",
    "# load training addresses\n",
    "training_addresses = load_pickle(os.path.join(CLF_ROOTDIR, 'datasets', 'dataset_%d' % dataset, 'patch_addresses.pkl'))\n",
    "training_addresses = {l: addrs for l, addrs in training_addresses.iteritems() if l in labels_to_sample}\n",
    "\n",
    "# Load training features\n",
    "\n",
    "training_features = {}\n",
    "for label in labels_to_sample:\n",
    "    feat_fp = os.path.join(CLF_ROOTDIR, 'datasets', 'dataset_%d' % dataset, 'patch_features', label + '.bp')\n",
    "    if os.path.exists(feat_fp):\n",
    "        training_features[label] = bp.unpack_ndarray_file(feat_fp)"
   ]
  },
  {
   "cell_type": "code",
   "execution_count": null,
   "metadata": {
    "collapsed": false
   },
   "outputs": [],
   "source": [
    "# Visualize training patches\n",
    "patches = extract_patches_given_locations_multiple_sections(training_addresses['12N'][:10], \n",
    "                                                            location_or_grid_index='grid_index',\n",
    "                                                            version='compressed')\n",
    "display_images_in_grids(patches)"
   ]
  },
  {
   "cell_type": "code",
   "execution_count": 39,
   "metadata": {
    "collapsed": false
   },
   "outputs": [],
   "source": [
    "assert set(training_addresses.keys()) == set(training_features.keys()), \\\n",
    "'Training features and training addresses are not consistent.'"
   ]
  },
  {
   "cell_type": "code",
   "execution_count": null,
   "metadata": {
    "collapsed": true
   },
   "outputs": [],
   "source": []
  },
  {
   "cell_type": "code",
   "execution_count": 57,
   "metadata": {
    "collapsed": false
   },
   "outputs": [],
   "source": [
    "labels_found = training_features.keys()\n",
    "structures_found = set([convert_to_original_name(l) for l in labels_found]) - {'noclass'}"
   ]
  },
  {
   "cell_type": "markdown",
   "metadata": {},
   "source": [
    "# Train Classifiers"
   ]
  },
  {
   "cell_type": "code",
   "execution_count": 58,
   "metadata": {
    "collapsed": true
   },
   "outputs": [],
   "source": [
    "setting = 26\n",
    "setting_dir = os.path.join(os.path.join(CLF_ROOTDIR, 'setting_%d' % setting))\n",
    "margin = 500"
   ]
  },
  {
   "cell_type": "code",
   "execution_count": 59,
   "metadata": {
    "collapsed": false,
    "scrolled": true
   },
   "outputs": [
    {
     "name": "stdout",
     "output_type": "stream",
     "text": [
      "Tz\n",
      "      Iter       Train Loss   Remaining Time \n",
      "         1           0.9475            1.59m\n",
      "         2           0.7276            1.52m\n",
      "         3           0.5927            1.48m\n",
      "         4           0.5001            1.45m\n",
      "         5           0.4285            1.44m\n",
      "         6           0.3848            1.41m\n",
      "         7           0.3431            1.39m\n",
      "         8           0.3099            1.37m\n",
      "         9           0.2847            1.36m\n",
      "        10           0.2610            1.34m\n",
      "        20           0.1351            1.18m\n",
      "        30           0.0773            1.02m\n",
      "        40           0.0476           52.32s\n",
      "        50           0.0291           43.58s\n",
      "        60           0.0185           34.78s\n",
      "        70           0.0117           26.11s\n",
      "        80           0.0075           17.37s\n",
      "        90           0.0048            8.70s\n",
      "       100           0.0031            0.00s\n",
      "Sp5O\n"
     ]
    },
    {
     "name": "stderr",
     "output_type": "stream",
     "text": [
      "Fitting classifier: 87.52 seconds\n"
     ]
    },
    {
     "name": "stdout",
     "output_type": "stream",
     "text": [
      "      Iter       Train Loss   Remaining Time \n",
      "         1           1.1345            2.00m\n",
      "         2           1.0383            1.97m\n",
      "         3           0.9777            1.95m\n",
      "         4           0.9206            1.91m\n",
      "         5           0.8836            1.87m\n",
      "         6           0.8452            1.84m\n",
      "         7           0.8050            1.82m\n",
      "         8           0.7759            1.79m\n",
      "         9           0.7499            1.77m\n",
      "        10           0.7362            1.73m\n",
      "        20           0.5513            1.51m\n",
      "        30           0.4410            1.29m\n",
      "        40           0.3647            1.09m\n",
      "        50           0.2917           54.52s\n",
      "        60           0.2357           43.54s\n",
      "        70           0.1823           32.77s\n",
      "        80           0.1432           21.91s\n",
      "        90           0.1184           10.91s\n",
      "       100           0.0949            0.00s\n",
      "7n\n"
     ]
    },
    {
     "name": "stderr",
     "output_type": "stream",
     "text": [
      "Fitting classifier: 110.02 seconds\n"
     ]
    },
    {
     "name": "stdout",
     "output_type": "stream",
     "text": [
      "      Iter       Train Loss   Remaining Time \n",
      "         1           0.9744            1.23m\n",
      "         2           0.7409            1.21m\n",
      "         3           0.5909            1.19m\n",
      "         4           0.4909            1.18m\n",
      "         5           0.4184            1.16m\n",
      "         6           0.3578            1.15m\n",
      "         7           0.3165            1.14m\n",
      "         8           0.2859            1.12m\n",
      "         9           0.2583            1.11m\n",
      "        10           0.2347            1.10m\n",
      "        20           0.1193           57.42s\n",
      "        30           0.0647           49.75s\n",
      "        40           0.0388           42.46s\n",
      "        50           0.0250           35.21s\n",
      "        60           0.0166           28.00s\n",
      "        70           0.0109           20.95s\n",
      "        80           0.0075           13.87s\n",
      "        90           0.0049            6.95s\n",
      "       100           0.0034            0.00s\n",
      "DC\n"
     ]
    },
    {
     "name": "stderr",
     "output_type": "stream",
     "text": [
      "Fitting classifier: 69.75 seconds\n"
     ]
    },
    {
     "name": "stdout",
     "output_type": "stream",
     "text": [
      "      Iter       Train Loss   Remaining Time \n",
      "         1           0.9026            2.71m\n",
      "         2           0.7794            2.69m\n",
      "         3           0.6932            2.66m\n",
      "         4           0.6217            2.64m\n",
      "         5           0.5681            2.61m\n",
      "         6           0.5212            2.58m\n",
      "         7           0.4873            2.54m\n",
      "         8           0.4613            2.50m\n",
      "         9           0.4389            2.46m\n",
      "        10           0.4183            2.42m\n",
      "        20           0.2745            2.10m\n",
      "        30           0.1922            1.82m\n",
      "        40           0.1368            1.56m\n",
      "        50           0.0958            1.30m\n",
      "        60           0.0718            1.03m\n",
      "        70           0.0529           46.36s\n",
      "        80           0.0389           30.91s\n",
      "        90           0.0279           15.47s\n",
      "       100           0.0200            0.00s\n",
      "5N\n"
     ]
    },
    {
     "name": "stderr",
     "output_type": "stream",
     "text": [
      "Fitting classifier: 155.88 seconds\n"
     ]
    },
    {
     "name": "stdout",
     "output_type": "stream",
     "text": [
      "      Iter       Train Loss   Remaining Time \n",
      "         1           1.0807            1.20m\n",
      "         2           0.8962            1.19m\n",
      "         3           0.7770            1.18m\n",
      "         4           0.6901            1.16m\n",
      "         5           0.6313            1.14m\n",
      "         6           0.5744            1.13m\n",
      "         7           0.5249            1.12m\n",
      "         8           0.4907            1.11m\n",
      "         9           0.4578            1.09m\n",
      "        10           0.4247            1.08m\n",
      "        20           0.2522           56.25s\n",
      "        30           0.1685           48.03s\n",
      "        40           0.1125           40.87s\n",
      "        50           0.0744           34.09s\n",
      "        60           0.0524           27.01s\n",
      "        70           0.0365           20.23s\n",
      "        80           0.0255           13.41s\n",
      "        90           0.0179            6.71s\n",
      "       100           0.0125            0.00s\n",
      "3N\n"
     ]
    },
    {
     "name": "stderr",
     "output_type": "stream",
     "text": [
      "Fitting classifier: 67.54 seconds\n"
     ]
    },
    {
     "name": "stdout",
     "output_type": "stream",
     "text": [
      "      Iter       Train Loss   Remaining Time \n",
      "         1           1.0656            1.26m\n",
      "         2           0.8726            1.25m\n",
      "         3           0.7417            1.23m\n",
      "         4           0.6493            1.22m\n",
      "         5           0.5822            1.20m\n",
      "         6           0.5226            1.19m\n",
      "         7           0.4793            1.17m\n",
      "         8           0.4382            1.16m\n",
      "         9           0.4075            1.20m\n",
      "        10           0.3790            1.18m\n",
      "        20           0.2188            1.00m\n",
      "        30           0.1385           51.17s\n",
      "        40           0.0891           43.27s\n",
      "        50           0.0606           35.78s\n",
      "        60           0.0407           28.51s\n",
      "        70           0.0274           21.39s\n",
      "        80           0.0192           14.19s\n",
      "        90           0.0131            7.09s\n",
      "       100           0.0087            0.00s\n",
      "Pn\n"
     ]
    },
    {
     "name": "stderr",
     "output_type": "stream",
     "text": [
      "Fitting classifier: 71.46 seconds\n"
     ]
    },
    {
     "name": "stdout",
     "output_type": "stream",
     "text": [
      "      Iter       Train Loss   Remaining Time \n",
      "         1           0.9707            1.94m\n",
      "         2           0.8067            1.91m\n",
      "         3           0.7048            1.88m\n",
      "         4           0.6314            1.85m\n",
      "         5           0.5747            1.83m\n",
      "         6           0.5313            1.81m\n",
      "         7           0.4976            1.77m\n",
      "         8           0.4676            1.75m\n",
      "         9           0.4423            1.73m\n",
      "        10           0.4204            1.70m\n",
      "        20           0.2785            1.49m\n",
      "        30           0.1919            1.29m\n",
      "        40           0.1348            1.10m\n",
      "        50           0.0950           55.12s\n",
      "        60           0.0670           44.16s\n",
      "        70           0.0494           33.08s\n",
      "        80           0.0364           22.07s\n",
      "        90           0.0272           11.05s\n",
      "       100           0.0205            0.00s\n",
      "10N\n"
     ]
    },
    {
     "name": "stderr",
     "output_type": "stream",
     "text": [
      "Fitting classifier: 111.35 seconds\n"
     ]
    },
    {
     "name": "stdout",
     "output_type": "stream",
     "text": [
      "      Iter       Train Loss   Remaining Time \n",
      "         1           0.9065            1.90m\n",
      "         2           0.7268            1.93m\n",
      "         3           0.6043            1.91m\n",
      "         4           0.5150            1.90m\n",
      "         5           0.4476            1.86m\n",
      "         6           0.3983            1.83m\n",
      "         7           0.3588            1.81m\n",
      "         8           0.3259            1.79m\n",
      "         9           0.2980            1.76m\n",
      "        10           0.2752            1.74m\n",
      "        20           0.1389            1.54m\n",
      "        30           0.0826            1.33m\n",
      "        40           0.0497            1.13m\n",
      "        50           0.0308           56.45s\n",
      "        60           0.0190           45.07s\n",
      "        70           0.0117           33.79s\n",
      "        80           0.0074           22.50s\n",
      "        90           0.0047           11.24s\n",
      "       100           0.0030            0.00s\n",
      "LC\n"
     ]
    },
    {
     "name": "stderr",
     "output_type": "stream",
     "text": [
      "Fitting classifier: 112.99 seconds\n"
     ]
    },
    {
     "name": "stdout",
     "output_type": "stream",
     "text": [
      "      Iter       Train Loss   Remaining Time \n",
      "         1           1.0776            1.20m\n",
      "         2           0.8981            1.18m\n",
      "         3           0.7718            1.16m\n",
      "         4           0.6875            1.14m\n",
      "         5           0.6160            1.13m\n",
      "         6           0.5636            1.12m\n",
      "         7           0.5188            1.10m\n",
      "         8           0.4840            1.09m\n",
      "         9           0.4600            1.07m\n",
      "        10           0.4357            1.05m\n",
      "        20           0.2581           54.91s\n",
      "        30           0.1583           47.64s\n",
      "        40           0.0957           41.06s\n",
      "        50           0.0623           33.99s\n",
      "        60           0.0431           27.01s\n",
      "        70           0.0289           20.19s\n",
      "        80           0.0200           13.44s\n",
      "        90           0.0138            6.72s\n",
      "       100           0.0092            0.00s\n",
      "7N\n"
     ]
    },
    {
     "name": "stderr",
     "output_type": "stream",
     "text": [
      "Fitting classifier: 67.78 seconds\n"
     ]
    },
    {
     "name": "stdout",
     "output_type": "stream",
     "text": [
      "      Iter       Train Loss   Remaining Time \n",
      "         1           1.0526            1.22m\n",
      "         2           0.8496            1.21m\n",
      "         3           0.7219            1.19m\n",
      "         4           0.6284            1.17m\n",
      "         5           0.5603            1.16m\n",
      "         6           0.5129            1.14m\n",
      "         7           0.4705            1.13m\n",
      "         8           0.4349            1.12m\n",
      "         9           0.4051            1.10m\n",
      "        10           0.3774            1.09m\n",
      "        20           0.2191           56.56s\n",
      "        30           0.1302           48.98s\n",
      "        40           0.0819           41.72s\n",
      "        50           0.0543           34.23s\n",
      "        60           0.0354           27.39s\n",
      "        70           0.0240           20.53s\n",
      "        80           0.0155           13.70s\n",
      "        90           0.0106            6.82s\n",
      "       100           0.0071            0.00s\n",
      "Amb\n"
     ]
    },
    {
     "name": "stderr",
     "output_type": "stream",
     "text": [
      "Fitting classifier: 68.65 seconds\n"
     ]
    },
    {
     "name": "stdout",
     "output_type": "stream",
     "text": [
      "      Iter       Train Loss   Remaining Time \n",
      "         1           0.8821           51.82s\n",
      "         2           0.6681           51.60s\n",
      "         3           0.5309           50.96s\n",
      "         4           0.4447           49.71s\n",
      "         5           0.3724           49.14s\n",
      "         6           0.3257           48.23s\n",
      "         7           0.2908           47.35s\n",
      "         8           0.2554           47.12s\n",
      "         9           0.2320           46.27s\n",
      "        10           0.2104           45.73s\n",
      "        20           0.0922           40.58s\n",
      "        30           0.0454           35.66s\n",
      "        40           0.0233           30.46s\n",
      "        50           0.0120           25.42s\n",
      "        60           0.0069           20.19s\n",
      "        70           0.0037           15.14s\n",
      "        80           0.0021           10.10s\n",
      "        90           0.0012            5.04s\n",
      "       100           0.0007            0.00s\n",
      "12N\n"
     ]
    },
    {
     "name": "stderr",
     "output_type": "stream",
     "text": [
      "Fitting classifier: 50.61 seconds\n"
     ]
    },
    {
     "name": "stdout",
     "output_type": "stream",
     "text": [
      "      Iter       Train Loss   Remaining Time \n",
      "         1           0.8851            1.99m\n",
      "         2           0.6772            1.85m\n",
      "         3           0.5459            1.79m\n",
      "         4           0.4538            1.75m\n",
      "         5           0.3880            1.72m\n",
      "         6           0.3411            1.69m\n",
      "         7           0.3010            1.67m\n",
      "         8           0.2684            1.65m\n",
      "         9           0.2417            1.63m\n",
      "        10           0.2220            1.61m\n",
      "        20           0.1133            1.42m\n",
      "        30           0.0659            1.23m\n",
      "        40           0.0398            1.05m\n",
      "        50           0.0255           52.37s\n",
      "        60           0.0154           42.02s\n",
      "        70           0.0097           31.44s\n",
      "        80           0.0063           20.92s\n",
      "        90           0.0041           10.44s\n",
      "       100           0.0027            0.00s\n",
      "RMC\n"
     ]
    },
    {
     "name": "stderr",
     "output_type": "stream",
     "text": [
      "Fitting classifier: 104.87 seconds\n"
     ]
    },
    {
     "name": "stdout",
     "output_type": "stream",
     "text": [
      "      Iter       Train Loss   Remaining Time \n",
      "         1           1.1493            1.20m\n",
      "         2           1.0048            1.18m\n",
      "         3           0.9067            1.17m\n",
      "         4           0.8300            1.15m\n",
      "         5           0.7641            1.15m\n",
      "         6           0.7173            1.14m\n",
      "         7           0.6728            1.12m\n",
      "         8           0.6320            1.11m\n",
      "         9           0.6019            1.09m\n",
      "        10           0.5688            1.08m\n",
      "        20           0.3838           55.50s\n",
      "        30           0.2719           47.58s\n",
      "        40           0.2035           40.00s\n",
      "        50           0.1425           33.46s\n",
      "        60           0.1028           26.95s\n",
      "        70           0.0778           20.05s\n",
      "        80           0.0562           13.38s\n",
      "        90           0.0420            6.70s\n",
      "       100           0.0313            0.00s\n",
      "VCA\n"
     ]
    },
    {
     "name": "stderr",
     "output_type": "stream",
     "text": [
      "Fitting classifier: 67.29 seconds\n"
     ]
    },
    {
     "name": "stdout",
     "output_type": "stream",
     "text": [
      "      Iter       Train Loss   Remaining Time \n",
      "         1           0.8734            2.68m\n",
      "         2           0.7458            2.64m\n",
      "         3           0.6648            2.62m\n",
      "         4           0.6058            2.59m\n",
      "         5           0.5572            2.56m\n",
      "         6           0.5159            2.53m\n",
      "         7           0.4855            2.49m\n",
      "         8           0.4602            2.46m\n",
      "         9           0.4358            2.43m\n",
      "        10           0.4173            2.40m\n",
      "        20           0.2890            2.10m\n",
      "        30           0.2113            1.81m\n",
      "        40           0.1592            1.55m\n",
      "        50           0.1203            1.28m\n",
      "        60           0.0903            1.02m\n",
      "        70           0.0673           46.04s\n",
      "        80           0.0512           30.66s\n",
      "        90           0.0405           15.31s\n",
      "       100           0.0317            0.00s\n",
      "Sp5I\n"
     ]
    },
    {
     "name": "stderr",
     "output_type": "stream",
     "text": [
      "Fitting classifier: 153.82 seconds\n"
     ]
    },
    {
     "name": "stdout",
     "output_type": "stream",
     "text": [
      "      Iter       Train Loss   Remaining Time \n",
      "         1           0.9592            2.73m\n",
      "         2           0.8640            2.68m\n",
      "         3           0.7978            2.66m\n",
      "         4           0.7462            2.62m\n",
      "         5           0.7053            2.58m\n",
      "         6           0.6780            2.54m\n",
      "         7           0.6491            2.50m\n",
      "         8           0.6250            2.47m\n",
      "         9           0.6079            2.43m\n",
      "        10           0.5838            2.41m\n",
      "        20           0.4447            2.08m\n",
      "        30           0.3546            1.79m\n",
      "        40           0.2805            1.53m\n",
      "        50           0.2277            1.27m\n",
      "        60           0.1870            1.01m\n",
      "        70           0.1507           45.44s\n",
      "        80           0.1208           30.34s\n",
      "        90           0.0975           15.21s\n",
      "       100           0.0802            0.00s\n",
      "Sp5C\n"
     ]
    },
    {
     "name": "stderr",
     "output_type": "stream",
     "text": [
      "Fitting classifier: 153.11 seconds\n"
     ]
    },
    {
     "name": "stdout",
     "output_type": "stream",
     "text": [
      "      Iter       Train Loss   Remaining Time \n",
      "         1           1.0995            1.97m\n",
      "         2           0.9926            1.94m\n",
      "         3           0.9172            1.91m\n",
      "         4           0.8548            1.89m\n",
      "         5           0.8115            1.86m\n",
      "         6           0.7677            1.85m\n",
      "         7           0.7380            1.82m\n",
      "         8           0.7075            1.80m\n",
      "         9           0.6822            1.77m\n",
      "        10           0.6536            1.75m\n",
      "        20           0.4827            1.52m\n",
      "        30           0.3737            1.30m\n",
      "        40           0.2938            1.10m\n",
      "        50           0.2355           54.76s\n",
      "        60           0.1849           43.75s\n",
      "        70           0.1487           32.79s\n",
      "        80           0.1160           21.90s\n",
      "        90           0.0940           10.92s\n",
      "       100           0.0756            0.00s\n",
      "4N\n"
     ]
    },
    {
     "name": "stderr",
     "output_type": "stream",
     "text": [
      "Fitting classifier: 109.76 seconds\n"
     ]
    },
    {
     "name": "stdout",
     "output_type": "stream",
     "text": [
      "      Iter       Train Loss   Remaining Time \n",
      "         1           0.4059           44.00s\n",
      "         2           0.3386           41.55s\n",
      "         3           0.2873           40.46s\n",
      "         4           0.2416           41.96s\n",
      "         5           0.2070           41.28s\n",
      "         6           0.1808           41.13s\n",
      "         7           0.1562           40.56s\n",
      "         8           0.1433           39.63s\n",
      "         9           0.1245           39.67s\n",
      "        10           0.1078           39.62s\n",
      "        20           0.0415           34.10s\n",
      "        30           0.0165           30.07s\n",
      "        40           0.0068           25.82s\n",
      "        50           0.0029           21.46s\n",
      "        60           0.0014           17.09s\n",
      "        70           0.0006           12.80s\n",
      "        80           0.0003            8.38s\n",
      "        90           0.0003            3.82s\n",
      "       100           0.0003            0.00s\n",
      "AP\n"
     ]
    },
    {
     "name": "stderr",
     "output_type": "stream",
     "text": [
      "Fitting classifier: 34.70 seconds\n"
     ]
    },
    {
     "name": "stdout",
     "output_type": "stream",
     "text": [
      "      Iter       Train Loss   Remaining Time \n",
      "         1           0.9604            1.18m\n",
      "         2           0.7201            1.16m\n",
      "         3           0.5621            1.14m\n",
      "         4           0.4546            1.14m\n",
      "         5           0.3772            1.12m\n",
      "         6           0.3185            1.10m\n",
      "         7           0.2700            1.09m\n",
      "         8           0.2312            1.08m\n",
      "         9           0.2046            1.07m\n",
      "        10           0.1806            1.06m\n",
      "        20           0.0769           55.82s\n",
      "        30           0.0390           48.01s\n",
      "        40           0.0215           41.06s\n",
      "        50           0.0126           34.12s\n",
      "        60           0.0073           27.29s\n",
      "        70           0.0040           20.53s\n",
      "        80           0.0023           13.70s\n",
      "        90           0.0013            6.85s\n",
      "       100           0.0007            0.00s\n",
      "PBG\n"
     ]
    },
    {
     "name": "stderr",
     "output_type": "stream",
     "text": [
      "Fitting classifier: 69.02 seconds\n"
     ]
    },
    {
     "name": "stdout",
     "output_type": "stream",
     "text": [
      "      Iter       Train Loss   Remaining Time \n",
      "         1           1.0079            1.14m\n",
      "         2           0.7960            1.13m\n",
      "         3           0.6527            1.13m\n",
      "         4           0.5515            1.12m\n",
      "         5           0.4785            1.11m\n",
      "         6           0.4163            1.10m\n",
      "         7           0.3746            1.09m\n",
      "         8           0.3330            1.08m\n",
      "         9           0.3054            1.06m\n",
      "        10           0.2817            1.05m\n",
      "        20           0.1385           54.71s\n",
      "        30           0.0748           47.54s\n",
      "        40           0.0433           40.75s\n",
      "        50           0.0253           33.98s\n",
      "        60           0.0157           26.98s\n",
      "        70           0.0096           20.21s\n",
      "        80           0.0057           13.48s\n",
      "        90           0.0036            6.71s\n",
      "       100           0.0023            0.00s\n",
      "LRt\n"
     ]
    },
    {
     "name": "stderr",
     "output_type": "stream",
     "text": [
      "Fitting classifier: 67.41 seconds\n"
     ]
    },
    {
     "name": "stdout",
     "output_type": "stream",
     "text": [
      "      Iter       Train Loss   Remaining Time \n",
      "         1           1.1066            1.23m\n",
      "         2           0.9362            1.22m\n",
      "         3           0.8168            1.21m\n",
      "         4           0.7319            1.20m\n",
      "         5           0.6672            1.19m\n",
      "         6           0.6240            1.17m\n",
      "         7           0.5764            1.16m\n",
      "         8           0.5372            1.14m\n",
      "         9           0.5050            1.13m\n",
      "        10           0.4829            1.10m\n",
      "        20           0.2965           57.53s\n",
      "        30           0.1997           49.45s\n",
      "        40           0.1364           41.95s\n",
      "        50           0.0936           34.83s\n",
      "        60           0.0669           27.69s\n",
      "        70           0.0468           20.75s\n",
      "        80           0.0340           13.77s\n",
      "        90           0.0247            6.87s\n",
      "       100           0.0178            0.00s\n",
      "IC\n"
     ]
    },
    {
     "name": "stderr",
     "output_type": "stream",
     "text": [
      "Fitting classifier: 68.97 seconds\n"
     ]
    },
    {
     "name": "stdout",
     "output_type": "stream",
     "text": [
      "      Iter       Train Loss   Remaining Time \n",
      "         1           1.0862            1.95m\n",
      "         2           0.9741            1.93m\n",
      "         3           0.8962            1.91m\n",
      "         4           0.8317            1.89m\n",
      "         5           0.7850            1.86m\n",
      "         6           0.7448            1.84m\n",
      "         7           0.7096            1.82m\n",
      "         8           0.6786            1.80m\n",
      "         9           0.6532            1.77m\n",
      "        10           0.6291            1.75m\n",
      "        20           0.4580            1.51m\n",
      "        30           0.3640            1.29m\n",
      "        40           0.2872            1.10m\n",
      "        50           0.2232           54.75s\n",
      "        60           0.1732           43.81s\n",
      "        70           0.1392           32.69s\n",
      "        80           0.1058           21.86s\n",
      "        90           0.0826           10.93s\n",
      "       100           0.0676            0.00s\n",
      "VLL\n"
     ]
    },
    {
     "name": "stderr",
     "output_type": "stream",
     "text": [
      "Fitting classifier: 109.76 seconds\n"
     ]
    },
    {
     "name": "stdout",
     "output_type": "stream",
     "text": [
      "      Iter       Train Loss   Remaining Time \n",
      "         1           1.0747            1.23m\n",
      "         2           0.8886            1.21m\n",
      "         3           0.7701            1.19m\n",
      "         4           0.6781            1.18m\n",
      "         5           0.6139            1.16m\n",
      "         6           0.5608            1.15m\n",
      "         7           0.5276            1.13m\n",
      "         8           0.4906            1.12m\n",
      "         9           0.4659            1.10m\n",
      "        10           0.4395            1.09m\n",
      "        20           0.2764           56.65s\n",
      "        30           0.1738           48.84s\n",
      "        40           0.1185           41.64s\n",
      "        50           0.0836           34.42s\n",
      "        60           0.0603           27.24s\n",
      "        70           0.0399           20.53s\n",
      "        80           0.0290           13.67s\n",
      "        90           0.0205            6.82s\n",
      "       100           0.0141            0.00s\n",
      "VCP\n"
     ]
    },
    {
     "name": "stderr",
     "output_type": "stream",
     "text": [
      "Fitting classifier: 68.85 seconds\n"
     ]
    },
    {
     "name": "stdout",
     "output_type": "stream",
     "text": [
      "      Iter       Train Loss   Remaining Time \n",
      "         1           0.9480            2.62m\n",
      "         2           0.8442            2.63m\n",
      "         3           0.7709            2.62m\n",
      "         4           0.7153            2.60m\n",
      "         5           0.6698            2.58m\n",
      "         6           0.6306            2.55m\n",
      "         7           0.5985            2.52m\n",
      "         8           0.5663            2.48m\n",
      "         9           0.5438            2.44m\n",
      "        10           0.5204            2.41m\n",
      "        20           0.3504            2.14m\n",
      "        30           0.2555            1.85m\n",
      "        40           0.1923            1.57m\n",
      "        50           0.1461            1.30m\n",
      "        60           0.1117            1.04m\n",
      "        70           0.0840           46.61s\n",
      "        80           0.0643           31.10s\n",
      "        90           0.0500           15.53s\n",
      "       100           0.0384            0.00s\n",
      "SNC\n"
     ]
    },
    {
     "name": "stderr",
     "output_type": "stream",
     "text": [
      "Fitting classifier: 156.77 seconds\n"
     ]
    },
    {
     "name": "stdout",
     "output_type": "stream",
     "text": [
      "      Iter       Train Loss   Remaining Time \n",
      "         1           1.0340            1.96m\n",
      "         2           0.8985            1.92m\n",
      "         3           0.8099            1.89m\n",
      "         4           0.7400            1.86m\n",
      "         5           0.6860            1.84m\n",
      "         6           0.6462            1.81m\n",
      "         7           0.6140            1.79m\n",
      "         8           0.5846            1.76m\n",
      "         9           0.5561            1.74m\n",
      "        10           0.5264            1.72m\n",
      "        20           0.3629            1.49m\n",
      "        30           0.2674            1.29m\n",
      "        40           0.2018            1.09m\n",
      "        50           0.1506           54.39s\n",
      "        60           0.1135           43.40s\n",
      "        70           0.0845           32.58s\n",
      "        80           0.0656           21.68s\n",
      "        90           0.0485           10.86s\n",
      "       100           0.0363            0.00s\n",
      "6N\n"
     ]
    },
    {
     "name": "stderr",
     "output_type": "stream",
     "text": [
      "Fitting classifier: 109.54 seconds\n"
     ]
    },
    {
     "name": "stdout",
     "output_type": "stream",
     "text": [
      "      Iter       Train Loss   Remaining Time \n",
      "         1           0.5862           38.44s\n",
      "         2           0.4606           37.14s\n",
      "         3           0.3806           36.44s\n",
      "         4           0.3233           35.86s\n",
      "         5           0.2729           35.79s\n",
      "         6           0.2369           35.33s\n",
      "         7           0.2041           35.19s\n",
      "         8           0.1838           34.68s\n",
      "         9           0.1565           34.86s\n",
      "        10           0.1397           34.66s\n",
      "        20           0.0495           30.97s\n",
      "        30           0.0201           27.35s\n",
      "        40           0.0093           23.59s\n",
      "        50           0.0046           19.79s\n",
      "        60           0.0029           15.79s\n",
      "        70           0.0019           11.81s\n",
      "        80           0.0015            7.85s\n",
      "        90           0.0013            3.82s\n",
      "       100           0.0013            0.00s\n",
      "SNR\n"
     ]
    },
    {
     "name": "stderr",
     "output_type": "stream",
     "text": [
      "Fitting classifier: 36.24 seconds\n"
     ]
    },
    {
     "name": "stdout",
     "output_type": "stream",
     "text": [
      "      Iter       Train Loss   Remaining Time \n",
      "         1           1.0705            2.00m\n",
      "         2           0.9493            1.98m\n",
      "         3           0.8530            1.97m\n",
      "         4           0.7799            1.95m\n",
      "         5           0.7238            1.93m\n",
      "         6           0.6753            1.90m\n",
      "         7           0.6377            1.88m\n",
      "         8           0.6005            1.85m\n",
      "         9           0.5716            1.83m\n",
      "        10           0.5453            1.80m\n",
      "        20           0.3642            1.57m\n",
      "        30           0.2662            1.35m\n",
      "        40           0.2013            1.14m\n",
      "        50           0.1524           56.71s\n",
      "        60           0.1119           45.37s\n",
      "        70           0.0821           34.11s\n",
      "        80           0.0629           22.66s\n",
      "        90           0.0479           11.32s\n",
      "       100           0.0368            0.00s\n",
      "SC\n"
     ]
    },
    {
     "name": "stderr",
     "output_type": "stream",
     "text": [
      "Fitting classifier: 113.96 seconds\n"
     ]
    },
    {
     "name": "stdout",
     "output_type": "stream",
     "text": [
      "      Iter       Train Loss   Remaining Time \n",
      "         1           1.1540            1.95m\n",
      "         2           1.0716            1.93m\n",
      "         3           1.0151            1.90m\n",
      "         4           0.9704            1.86m\n",
      "         5           0.9265            1.84m\n",
      "         6           0.8924            1.82m\n",
      "         7           0.8632            1.80m\n",
      "         8           0.8367            1.77m\n",
      "         9           0.8147            1.74m\n",
      "        10           0.7872            1.72m\n",
      "        20           0.6071            1.49m\n",
      "        30           0.4866            1.29m\n",
      "        40           0.4053            1.09m\n",
      "        50           0.3214           54.48s\n",
      "        60           0.2604           43.49s\n",
      "        70           0.2143           32.51s\n",
      "        80           0.1720           21.68s\n",
      "        90           0.1398           10.82s\n",
      "       100           0.1103            0.00s\n",
      "RtTg\n"
     ]
    },
    {
     "name": "stderr",
     "output_type": "stream",
     "text": [
      "Fitting classifier: 109.36 seconds\n"
     ]
    },
    {
     "name": "stdout",
     "output_type": "stream",
     "text": [
      "      Iter       Train Loss   Remaining Time \n",
      "         1           1.0232            2.16m\n",
      "         2           0.9124            2.09m\n",
      "         3           0.8316            2.07m\n",
      "         4           0.7732            2.03m\n",
      "         5           0.7245            2.02m\n",
      "         6           0.6787            2.00m\n",
      "         7           0.6412            1.98m\n",
      "         8           0.6131            1.96m\n",
      "         9           0.5900            1.93m\n",
      "        10           0.5677            1.90m\n",
      "        20           0.4214            1.64m\n",
      "        30           0.3217            1.41m\n",
      "        40           0.2401            1.21m\n",
      "        50           0.1837            1.01m\n",
      "        60           0.1465           48.49s\n",
      "        70           0.1160           36.40s\n",
      "        80           0.0950           24.23s\n",
      "        90           0.0793           12.10s\n",
      "       100           0.0670            0.00s\n"
     ]
    },
    {
     "name": "stderr",
     "output_type": "stream",
     "text": [
      "Fitting classifier: 121.96 seconds\n"
     ]
    }
   ],
   "source": [
    "clf_dir = create_if_not_exists(os.path.join(setting_dir, 'classifiers'))\n",
    "\n",
    "for structure in structures_found:\n",
    "\n",
    "    print structure\n",
    "    \n",
    "    #############################\n",
    "    ## Define Positive Samples ##\n",
    "    #############################\n",
    "    \n",
    "    features_pos = training_features[structure]\n",
    "    n_pos = len(features_pos)\n",
    "    \n",
    "    #############################\n",
    "    ## Define Negative Samples ##\n",
    "    #############################\n",
    "    \n",
    "    if setting in [1, 3, 4, 5, 6, 7]:\n",
    "        neg_classes = [convert_to_surround_name(structure, margin=margin, suffix='noclass')]\n",
    "    elif setting in [2, 10, 23, 24, 25, 26]:\n",
    "        neg_classes = [convert_to_surround_name(structure, margin=margin, suffix='noclass')]\n",
    "        for surr_s in structures_found:\n",
    "            c = convert_to_surround_name(structure, margin=margin, suffix=surr_s)\n",
    "            if c in labels_found:\n",
    "                neg_classes.append(c)\n",
    "    elif setting in [8,9,11]:\n",
    "        neg_classes = [structure + '_negative']\n",
    "    else:\n",
    "        sys.stderr.write('Setting is not recognized.\\n')\n",
    "\n",
    "    features_neg = np.concatenate([training_features[neg_class] for neg_class in neg_classes])\n",
    "        \n",
    "    n_neg = len(features_neg)\n",
    "        \n",
    "    ###########################\n",
    "    ## Define Sample Weights ##\n",
    "    ###########################\n",
    "    \n",
    "    if setting == 9:\n",
    "        neg_distances = np.concatenate([distances_to_structures[neg_class][structure] for neg_class in neg_classes])\n",
    "            \n",
    "        sample_weights_neg = np.ones((n_neg,))\n",
    "        sample_weights_neg[neg_distances > thresh] = diminishing(neg_distances[neg_distances > thresh])\n",
    "        sample_weights = np.r_[np.ones((n_pos,)), sample_weights_neg]\n",
    "    else:\n",
    "        sample_weights = None\n",
    "    \n",
    "    ###########################################################################################\n",
    "\n",
    "    train_data = np.r_[features_pos, features_neg]\n",
    "    train_labels = np.r_[np.ones((features_pos.shape[0], )), \n",
    "                         -np.ones((features_neg.shape[0], ))]\n",
    "    \n",
    "#     n_train = len(train_labels0)\n",
    "#     ri = np.random.choice(range(n_train), size=100, replace=False)\n",
    "#     train_data = train_data0[ri]\n",
    "#     train_labels = train_labels0[ri]\n",
    "    \n",
    "    ##################\n",
    "    ## Define Model ##\n",
    "    ##################\n",
    "    \n",
    "    if setting in [1, 2, 8, 9, 10, 11, 23, 24]:\n",
    "        clf = LogisticRegression(penalty='l2', dual=False, tol=0.0001, C=1.0, \n",
    "                                 fit_intercept=True, intercept_scaling=1, class_weight=None, \n",
    "                                 random_state=None, solver='liblinear', max_iter=100, multi_class='ovr', \n",
    "                                 verbose=0, warm_start=False, n_jobs=1)\n",
    "            \n",
    "    elif setting == 3:\n",
    "        clf = SVC(C=1.0, kernel='linear', degree=3, gamma='auto', coef0=0.0, shrinking=True, \n",
    "                  probability=True, tol=0.001, cache_size=1000, max_iter=-1,\n",
    "              decision_function_shape=None, random_state=None)\n",
    "        \n",
    "\n",
    "    elif setting == 4:\n",
    "        \n",
    "        sv_uncalibrated = LinearSVC(penalty='l2', loss='squared_hinge', dual=True, tol=0.0001, \n",
    "                                C=1.0, multi_class='ovr', \n",
    "                                fit_intercept=True, intercept_scaling=1, max_iter=100)\n",
    "        clf = CalibratedClassifierCV(sv_uncalibrated)\n",
    "        \n",
    "        \n",
    "    elif setting in [5]:        \n",
    "        clf = XGBClassifier(max_depth=3, learning_rate=0.2, n_estimators=200, \n",
    "                            silent=False, objective='binary:logistic', nthread=-1, gamma=0, \n",
    "                            min_child_weight=20, max_delta_step=0, subsample=.8, \n",
    "                            colsample_bytree=.8, colsample_bylevel=1, reg_alpha=0, reg_lambda=1, \n",
    "                            scale_pos_weight=1, base_score=0.5, seed=0, missing=None)\n",
    "        \n",
    "    elif setting in [6, 25]:\n",
    "        clf = GradientBoostingClassifier(loss='deviance', learning_rate=0.3, n_estimators=200, \n",
    "                                         subsample=1., criterion='friedman_mse', \n",
    "                                         min_samples_split=50, min_samples_leaf=20, \n",
    "                                         min_weight_fraction_leaf=0.0, max_depth=3, \n",
    "                                         min_impurity_split=1e-07, init=None, random_state=None, \n",
    "                                         max_features=None, verbose=1, max_leaf_nodes=None, \n",
    "                                         warm_start=False, presort='auto')\n",
    "        \n",
    "    elif setting in [7, 26]:        \n",
    "        clf = GradientBoostingClassifier(loss='deviance', learning_rate=0.3, n_estimators=100, \n",
    "                                         subsample=1., criterion='friedman_mse', \n",
    "                                         min_samples_split=50, min_samples_leaf=20, \n",
    "                                         min_weight_fraction_leaf=0.0, max_depth=5, \n",
    "                                         min_impurity_split=1e-07, init=None, random_state=None, \n",
    "                                         max_features=None, verbose=1, max_leaf_nodes=None, \n",
    "                                         warm_start=False, presort='auto')\n",
    "        \n",
    "    \n",
    "    else:\n",
    "        sys.stderr.write('Setting is not recognized.\\n')\n",
    "\n",
    "    \n",
    "    t = time.time()    \n",
    "    clf.fit(train_data, train_labels, sample_weight=sample_weights)\n",
    "    sys.stderr.write('Fitting classifier: %.2f seconds\\n' % (time.time() - t))\n",
    "\n",
    "    joblib.dump(clf, os.path.join(clf_dir, '%(structure)s_clf_setting_%(setting)d.dump' % \\\n",
    "                                  dict(structure=structure, setting=setting)))"
   ]
  },
  {
   "cell_type": "markdown",
   "metadata": {},
   "source": [
    "# Load pre-computed classifiers"
   ]
  },
  {
   "cell_type": "code",
   "execution_count": 60,
   "metadata": {
    "collapsed": false
   },
   "outputs": [
    {
     "name": "stderr",
     "output_type": "stream",
     "text": [
      "No classifier for sp5 is found.\n",
      "No classifier for outerContour is found.\n"
     ]
    }
   ],
   "source": [
    "clf_allClasses = {}\n",
    "for structure in structures_to_sample:\n",
    "    clf_fp = os.path.join(setting_dir, 'classifiers', '%(structure)s_clf_setting_%(setting)d.dump' % {'structure': structure, 'setting':setting})\n",
    "    if os.path.exists(clf_fp):\n",
    "        clf_allClasses[structure] = joblib.load(clf_fp)\n",
    "    else:\n",
    "        sys.stderr.write('No classifier for %s is found.\\n' % structure)"
   ]
  },
  {
   "cell_type": "code",
   "execution_count": 61,
   "metadata": {
    "collapsed": true
   },
   "outputs": [],
   "source": [
    "margin = 500"
   ]
  },
  {
   "cell_type": "code",
   "execution_count": 62,
   "metadata": {
    "collapsed": false
   },
   "outputs": [
    {
     "data": {
      "image/png": "[encoded data removed]",
      "text/plain": [
       "<matplotlib.figure.Figure at 0xd0667350>"
      ]
     },
     "metadata": {},
     "output_type": "display_data"
    }
   ],
   "source": [
    "# Compute training accuracy\n",
    "\n",
    "acc_all_structures = {}\n",
    "\n",
    "ncols = 5\n",
    "nrows = int(np.ceil(len(structures_found)/float(ncols)))\n",
    "\n",
    "fig, axes = plt.subplots(nrows, ncols, figsize=(ncols*2, nrows*2), sharex=True, sharey=True)\n",
    "axes = axes.flatten()\n",
    "\n",
    "for i, structure in enumerate(structures_found):\n",
    "        \n",
    "    features_pos = training_features[structure]\n",
    "    n_pos = len(features_pos)\n",
    "    \n",
    "    if setting in [1, 3, 4, 5, 6, 7]:\n",
    "        neg_classes = [convert_to_surround_name(structure, margin=margin, suffix='noclass')]\n",
    "    elif setting in [2, 10, 23, 24, 25, 26]:\n",
    "        neg_classes = [convert_to_surround_name(structure, margin=margin, suffix='noclass')]            \n",
    "        for surr_l in structures_found:\n",
    "            c = convert_to_surround_name(structure, margin=margin, suffix=surr_l)\n",
    "            if c in labels_found:\n",
    "                neg_classes.append(c)\n",
    "    elif setting in [8,9,11]:\n",
    "        neg_classes = [structure + '_negative']\n",
    "    else:\n",
    "        sys.stderr.write('Setting is not recognized.\\n')\n",
    "        raise\n",
    "\n",
    "    features_neg = np.concatenate([training_features[neg_class] for neg_class in neg_classes])\n",
    "#     neg_distances = np.concatenate([distances_to_structures[neg_class][label] for neg_class in neg_classes])\n",
    "        \n",
    "    n_neg = len(features_neg)\n",
    "    \n",
    "    train_data = np.r_[features_pos, features_neg]\n",
    "    train_labels = np.r_[np.ones((features_pos.shape[0], )), \n",
    "                         -np.ones((features_neg.shape[0], ))]\n",
    "    \n",
    "    clf = clf_allClasses[structure]\n",
    "    \n",
    "    probs = clf.predict_proba(train_data)[:, clf.classes_.tolist().index(1.)]\n",
    "    cm = compute_confusion_matrix(np.c_[probs, 1-probs], [0 if l==1. else 1 for l in train_labels], soft=True)\n",
    "    \n",
    "    acc_all_structures[structure] = (n_pos*cm[0,0] + n_neg*cm[1,1])/(n_pos + n_neg)\n",
    "    \n",
    "    plot_confusion_matrix(cm, title='%(structure)s'% {'structure':structure},\n",
    "                          labels=['',''],\n",
    "#                           labels=[label, convert_to_surround_name(label)],\n",
    "                         axis=axes[i])\n",
    "#     plt.show();\n",
    "\n",
    "plt.tight_layout()"
   ]
  },
  {
   "cell_type": "code",
   "execution_count": 63,
   "metadata": {
    "collapsed": false
   },
   "outputs": [
    {
     "name": "stdout",
     "output_type": "stream",
     "text": [
      "training accuracy: 0.986382926511\n"
     ]
    }
   ],
   "source": [
    "print 'training accuracy:', np.mean(acc_all_structures.values())"
   ]
  },
  {
   "cell_type": "code",
   "execution_count": null,
   "metadata": {
    "collapsed": true
   },
   "outputs": [],
   "source": []
  },
  {
   "cell_type": "code",
   "execution_count": null,
   "metadata": {
    "collapsed": true
   },
   "outputs": [],
   "source": [
    "# visualize training patches\n",
    "\n",
    "patches = extract_patches_given_locations_multiple_sections(sampled_addresses['AP'], 'grid_index')\n",
    "display_images_in_grids(patches, 5)\n",
    "\n",
    "patches = extract_patches_given_locations_multiple_sections(sampled_addresses['AP_surround'], 'grid_index')\n",
    "display_images_in_grids(patches, 5, titles=sampled_addresses['AP_surround'])\n",
    "\n",
    "# Visualize a patch in context\n",
    "\n",
    "patch_size, stride, _, _ = get_default_gridspec('MD589')\n",
    "grid_locations = grid_parameters_to_sample_locations(get_default_gridspec('MD589'))\n",
    "viz = patch_boxes_overlay_on('original', 8, \n",
    "                       [grid_locations[44453]],\n",
    "                      patch_size=patch_size,\n",
    "                      stack='MD589',\n",
    "                       sec=219)\n",
    "display_image(viz)"
   ]
  }
 ],
 "metadata": {
  "kernelspec": {
   "display_name": "Python 2",
   "language": "python",
   "name": "python2"
  },
  "language_info": {
   "codemirror_mode": {
    "name": "ipython",
    "version": 2
   },
   "file_extension": ".py",
   "mimetype": "text/x-python",
   "name": "python",
   "nbconvert_exporter": "python",
   "pygments_lexer": "ipython2",
   "version": "2.7.3"
  }
 },
 "nbformat": 4,
 "nbformat_minor": 1
}
