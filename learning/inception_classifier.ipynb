{
 "cells": [
  {
   "cell_type": "code",
   "execution_count": 1,
   "metadata": {
    "collapsed": false
   },
   "outputs": [],
   "source": [
    "%load_ext autoreload\n",
    "%autoreload 2"
   ]
  },
  {
   "cell_type": "code",
   "execution_count": 2,
   "metadata": {
    "collapsed": true
   },
   "outputs": [],
   "source": [
    "from TextureClassifier import TextureClassifier\n",
    "import os\n",
    "import logging\n",
    "import numpy as np\n",
    "import socket\n",
    "hostname = socket.gethostname()"
   ]
  },
  {
   "cell_type": "code",
   "execution_count": 3,
   "metadata": {
    "collapsed": false
   },
   "outputs": [],
   "source": [
    "logging.basicConfig(level=logging.DEBUG)\n",
    "\n",
    "if hostname.startswith('gcn'):\n",
    "    data_dir = '/oasis/projects/nsf/csd395/yuncong/jiaxu_sample_patches'\n",
    "    model_dir = '/oasis/projects/nsf/csd395/yuncong/jiaxu_repo/model_publish'    \n",
    "elif hostname == 'yuncong-MacbookPro':\n",
    "    data_dir = '/home/yuncong/jiaxu_repo/sample_patches'\n",
    "    model_dir = '/home/yuncong/jiaxu_repo/model_publish' \n",
    "    \n",
    "p_labels = ['5N', '7n', '7N', '12N', 'Gr', 'LVe', 'Pn', 'SuVe', 'VLL']\n",
    "\n",
    "prefix = 'inception-stage1'\n",
    "n_iter = 6"
   ]
  },
  {
   "cell_type": "code",
   "execution_count": 11,
   "metadata": {
    "collapsed": false
   },
   "outputs": [],
   "source": [
    "tc = TextureClassifier(model_dir, prefix, n_iter, 10)\n",
    "tc.mx_init(data_dir, 256)\n",
    "# tc.mx_confusion()"
   ]
  },
  {
   "cell_type": "code",
   "execution_count": 12,
   "metadata": {
    "collapsed": false,
    "scrolled": true
   },
   "outputs": [],
   "source": [
    "import time\n",
    "\n",
    "t = time.time()\n",
    "preds = tc.mx_predict(data_dir+'/test.rec', 256)\n",
    "logging.info('time = %.2f'%t)"
   ]
  },
  {
   "cell_type": "code",
   "execution_count": null,
   "metadata": {
    "collapsed": true
   },
   "outputs": [],
   "source": [
    "print np.argmax(preds, axis=1)"
   ]
  }
 ],
 "metadata": {
  "kernelspec": {
   "display_name": "Python 2",
   "language": "python",
   "name": "python2"
  },
  "language_info": {
   "codemirror_mode": {
    "name": "ipython",
    "version": 2
   },
   "file_extension": ".py",
   "mimetype": "text/x-python",
   "name": "python",
   "nbconvert_exporter": "python",
   "pygments_lexer": "ipython2",
   "version": "2.7.3"
  }
 },
 "nbformat": 4,
 "nbformat_minor": 0
}
