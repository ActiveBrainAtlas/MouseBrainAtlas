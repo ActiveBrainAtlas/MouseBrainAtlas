{
 "cells": [
  {
   "cell_type": "code",
   "execution_count": 1,
   "metadata": {
    "collapsed": false
   },
   "outputs": [],
   "source": [
    "%load_ext autoreload\n",
    "%autoreload 2"
   ]
  },
  {
   "cell_type": "code",
   "execution_count": 2,
   "metadata": {
    "collapsed": true
   },
   "outputs": [],
   "source": [
    "# from TextureClassifier import TextureClassifier\n",
    "import os\n",
    "import logging\n",
    "import numpy as np\n",
    "import socket\n",
    "hostname = socket.gethostname()\n",
    "\n",
    "import mxnet as mx"
   ]
  },
  {
   "cell_type": "code",
   "execution_count": 5,
   "metadata": {
    "collapsed": false
   },
   "outputs": [],
   "source": [
    "logging.basicConfig(level=logging.DEBUG)\n",
    "\n",
    "# stack = 'MD589'\n",
    "# sec = 165\n",
    "\n",
    "stack = 'MD594'\n",
    "sec = 289\n",
    "\n",
    "if hostname.startswith('gcn'):\n",
    "    data_dir = '/oasis/projects/nsf/csd395/yuncong/jiaxu_sample_patches'\n",
    "    model_dir = '/oasis/projects/nsf/csd395/yuncong/jiaxu_repo/model_publish'    \n",
    "elif hostname == 'yuncong-MacbookPro':\n",
    "#     data_dir = '/home/yuncong/jiaxu_sample_patches'\n",
    "    data_dir = '/home/yuncong/CSHL_data_patches/%s_patches/%04d_reduced'%(stack, sec)\n",
    "    model_dir = '/home/yuncong/jiaxu_repo/model_publish' \n",
    "    \n",
    "# p_labels = ['5N', '7n', '7N', '12N', 'Gr', 'LVe', 'Pn', 'SuVe', 'VLL']\n",
    "\n",
    "prefix = 'inception-stage1'\n",
    "n_iter = 6"
   ]
  },
  {
   "cell_type": "code",
   "execution_count": 11,
   "metadata": {
    "collapsed": true
   },
   "outputs": [],
   "source": [
    "img_filenames = sorted(os.listdir(data_dir))\n",
    "with open('/home/yuncong/CSHL_data_patches/%s_%04d_test.lst'%(stack, sec), 'w') as lst_file:\n",
    "    for index, img_filename in enumerate(img_filenames):\n",
    "        lst_file.write('%s\\t0\\t%s\\n'%(index, img_filename))"
   ]
  },
  {
   "cell_type": "code",
   "execution_count": 12,
   "metadata": {
    "collapsed": false,
    "scrolled": true
   },
   "outputs": [
    {
     "data": {
      "text/plain": [
       "0"
      ]
     },
     "execution_count": 7,
     "metadata": {},
     "output_type": "execute_result"
    }
   ],
   "source": [
    "os.system('im2rec /home/yuncong/CSHL_data_patches/%(stack)s_%(sec)04d_test.lst \\\n",
    "/home/yuncong/CSHL_data_patches/%(stack)s_patches/%(sec)04d_reduced/ \\\n",
    "/home/yuncong/CSHL_data_patches/%(stack)s_%(sec)04d_test.rec' % \\\n",
    "          {'stack': stack,\n",
    "           'sec': sec})\n",
    "# scanning 1000 images take 1.8s"
   ]
  },
  {
   "cell_type": "code",
   "execution_count": 8,
   "metadata": {
    "collapsed": false
   },
   "outputs": [],
   "source": [
    "batch_size = 32\n",
    "init_model = mx.model.FeedForward.load(os.path.join(model_dir, prefix), n_iter, ctx=mx.gpu())\n",
    "test_iter = mx.io.ImageRecordIter(\n",
    "    path_imgrec='/home/yuncong/CSHL_data_patches/%(stack)s_%(sec)04d_test.rec' % {'stack': stack, 'sec':sec},\n",
    "    batch_size=batch_size,\n",
    "    data_shape=(3, 224, 224),\n",
    "    mean_img=os.path.join(model_dir, 'mean_224.nd'),\n",
    ")\n",
    "probs = init_model.predict(test_iter)"
   ]
  },
  {
   "cell_type": "code",
   "execution_count": 9,
   "metadata": {
    "collapsed": false
   },
   "outputs": [],
   "source": [
    "# prediction_map = zip(np.argmax(probs, axis=1), map(lambda x: int(x[:-4]), img_filenames))\n",
    "np.save('/home/yuncong/CSHL_data_patches/%(stack)s_%(sec)04d_test_prediction_map.npy'% {'stack': stack, 'sec':sec}, \n",
    "        probs)"
   ]
  },
  {
   "cell_type": "code",
   "execution_count": null,
   "metadata": {
    "collapsed": true
   },
   "outputs": [],
   "source": [
    "import matplotlib.pyplot as plt\n",
    "%matplotlib inline"
   ]
  },
  {
   "cell_type": "code",
   "execution_count": null,
   "metadata": {
    "collapsed": true
   },
   "outputs": [],
   "source": []
  },
  {
   "cell_type": "code",
   "execution_count": null,
   "metadata": {
    "collapsed": false
   },
   "outputs": [],
   "source": [
    "test_iter.reset()\n",
    "lables = np.concatenate([b.label[0].asnumpy() for b in test_iter]).astype(np.int)"
   ]
  },
  {
   "cell_type": "code",
   "execution_count": null,
   "metadata": {
    "collapsed": false
   },
   "outputs": [],
   "source": [
    "np.count_nonzero(np.argmax(preds, axis=1) != lables) / float(preds.shape[0])"
   ]
  },
  {
   "cell_type": "code",
   "execution_count": null,
   "metadata": {
    "collapsed": true
   },
   "outputs": [],
   "source": [
    "# tc.mx_confusion()"
   ]
  }
 ],
 "metadata": {
  "kernelspec": {
   "display_name": "Python 2",
   "language": "python",
   "name": "python2"
  },
  "language_info": {
   "codemirror_mode": {
    "name": "ipython",
    "version": 2
   },
   "file_extension": ".py",
   "mimetype": "text/x-python",
   "name": "python",
   "nbconvert_exporter": "python",
   "pygments_lexer": "ipython2",
   "version": "2.7.6"
  }
 },
 "nbformat": 4,
 "nbformat_minor": 0
}
