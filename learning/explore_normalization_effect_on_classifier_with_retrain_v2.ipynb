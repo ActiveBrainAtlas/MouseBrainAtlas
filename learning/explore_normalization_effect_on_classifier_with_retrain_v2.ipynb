{
 "cells": [
  {
   "cell_type": "code",
   "execution_count": 1,
   "metadata": {
    "scrolled": true
   },
   "outputs": [
    {
     "name": "stderr",
     "output_type": "stream",
     "text": [
      "/usr/local/lib/python2.7/dist-packages/matplotlib/__init__.py:1350: UserWarning:  This call to matplotlib.use() has no effect\n",
      "because the backend has already been chosen;\n",
      "matplotlib.use() must be called *before* pylab, matplotlib.pyplot,\n",
      "or matplotlib.backends is imported for the first time.\n",
      "\n",
      "  warnings.warn(_use_error_msg)\n"
     ]
    },
    {
     "name": "stdout",
     "output_type": "stream",
     "text": [
      "Setting environment for Precision WorkStation\n"
     ]
    },
    {
     "name": "stderr",
     "output_type": "stream",
     "text": [
      "No vtk\n",
      "No vtkNot using image_cache.\n",
      "Not using image_cache.\n",
      "Not using image_cache.\n",
      "Not using image_cache.\n",
      "Not using image_cache.\n",
      "Not using image_cache.\n",
      "Not using image_cache.\n",
      "Not using image_cache.\n",
      "Not using image_cache.\n",
      "Not using image_cache.\n",
      "Not using image_cache.\n",
      "Not using image_cache.\n",
      "Not using image_cache.\n",
      "Not using image_cache.\n",
      "Not using image_cache.\n",
      "Not using image_cache.\n",
      "Not using image_cache.\n",
      "Not using image_cache.\n",
      "Not using image_cache.\n",
      "Not using image_cache.\n",
      "Not using image_cache.\n",
      "/usr/local/lib/python2.7/dist-packages/sklearn/cross_validation.py:44: DeprecationWarning: This module was deprecated in version 0.18 in favor of the model_selection module into which all the refactored classes and functions are moved. Also note that the interface of the new CV iterators are different from that of this module. This module will be removed in 0.20.\n",
      "  \"This module will be removed in 0.20.\", DeprecationWarning)\n"
     ]
    }
   ],
   "source": [
    "%load_ext autoreload\n",
    "%autoreload 2\n",
    "\n",
    "import sys\n",
    "import os\n",
    "import time\n",
    "\n",
    "import numpy as np\n",
    "try:\n",
    "    import mxnet as mx\n",
    "except:\n",
    "    sys.stderr.write(\"Cannot import mxnet.\\n\")\n",
    "import matplotlib.pyplot as plt\n",
    "%matplotlib inline\n",
    "from skimage.exposure import rescale_intensity\n",
    "from skimage.transform import rotate\n",
    "\n",
    "sys.path.append(os.environ['REPO_DIR'] + '/utilities')\n",
    "from utilities2015 import *\n",
    "from metadata import *\n",
    "from data_manager import *\n",
    "from learning_utilities import *\n",
    "from distributed_utilities import *\n",
    "from visualization_utilities import *"
   ]
  },
  {
   "cell_type": "code",
   "execution_count": 2,
   "metadata": {
    "collapsed": true
   },
   "outputs": [],
   "source": [
    "from sklearn.externals import joblib\n",
    "\n",
    "from sklearn.linear_model import LogisticRegression\n",
    "from sklearn.svm import LinearSVC, SVC\n",
    "from sklearn.calibration import CalibratedClassifierCV\n",
    "from sklearn.ensemble import GradientBoostingClassifier \n",
    "\n",
    "sys.path.append('/home/yuncong/csd395/xgboost/python-package')\n",
    "try:\n",
    "    from xgboost.sklearn import XGBClassifier\n",
    "except:\n",
    "    sys.stderr.write('xgboost is not loaded.')"
   ]
  },
  {
   "cell_type": "code",
   "execution_count": 3,
   "metadata": {},
   "outputs": [
    {
     "name": "stderr",
     "output_type": "stream",
     "text": [
      "/usr/local/lib/python2.7/dist-packages/mxnet/module/base_module.py:53: UserWarning: \u001b[91mYou created Module with Module(..., label_names=['softmax_label']) but input with name 'softmax_label' is not found in symbol.list_arguments(). Did you mean one of:\n",
      "\tdata\u001b[0m\n",
      "  warnings.warn(msg)\n",
      "/usr/local/lib/python2.7/dist-packages/mxnet/module/base_module.py:65: UserWarning: Data provided by label_shapes don't match names specified by label_names ([] vs. ['softmax_label'])\n",
      "  warnings.warn(msg)\n"
     ]
    }
   ],
   "source": [
    "batch_size = 256\n",
    "model_dir_name = 'inception-bn-blue'\n",
    "model_name = 'inception-bn-blue'\n",
    "model, mean_img = load_mxnet_model(model_dir_name=model_dir_name, model_name=model_name, \n",
    "                                   num_gpus=1, batch_size=batch_size)"
   ]
  },
  {
   "cell_type": "code",
   "execution_count": 4,
   "metadata": {
    "collapsed": true
   },
   "outputs": [],
   "source": [
    "win_id = 5"
   ]
  },
  {
   "cell_type": "code",
   "execution_count": 7,
   "metadata": {
    "collapsed": true
   },
   "outputs": [],
   "source": [
    "# stacks = ['MD661', 'MD662']\n",
    "# stacks = ['MD661', 'ChatCryoJane201710']\n",
    "stacks = ['MD595', 'MD589']\n",
    "# stacks = ['MD589', 'MD661']\n",
    "# stacks = ['MD589', 'ChatCryoJane201710']"
   ]
  },
  {
   "cell_type": "code",
   "execution_count": 8,
   "metadata": {
    "collapsed": true
   },
   "outputs": [],
   "source": [
    "sample_locations_allStacks = {stack: grid_parameters_to_sample_locations(win_id_to_gridspec(win_id=5, stack=stack)) \n",
    "                              for stack in stacks}"
   ]
  },
  {
   "cell_type": "code",
   "execution_count": 13,
   "metadata": {
    "collapsed": true
   },
   "outputs": [],
   "source": [
    "# addresses_df = DataFrame([(stack, sec, grid_idx) \n",
    "#            for stack in ['MD661', 'MD662'] \n",
    "#            for sec in np.arange(metadata_cache['section_limits'][stack][0], \n",
    "#                                 metadata_cache['section_limits'][stack][-1]+1)\n",
    "#            for grid_idx in range(len(sample_locations_allStacks[stack]))], \n",
    "#           columns=['stack', 'section', 'grid_idx'])"
   ]
  },
  {
   "cell_type": "code",
   "execution_count": 14,
   "metadata": {
    "collapsed": true,
    "scrolled": true
   },
   "outputs": [],
   "source": [
    "# location_column = [sample_locations_allStacks[addr['stack']][addr['grid_idx']]\n",
    "# for i, addr in addresses_df.iterrows()]\n",
    "\n",
    "# addresses_df = addresses_df.assign(location=location_column)"
   ]
  },
  {
   "cell_type": "code",
   "execution_count": 49,
   "metadata": {
    "scrolled": true
   },
   "outputs": [
    {
     "name": "stdout",
     "output_type": "stream",
     "text": [
      "aws s3 cp --recursive \"s3://mousebrainatlas-data/CSHL_labelings_v3/MD595\" \"/home/yuncong/CSHL_labelings_v3/MD595\" --exclude \"*\" --include \"*win5*grid_indices_lookup*\"\n",
      "latest timestamp:  01032018204356\n",
      "aws s3 cp --recursive \"s3://mousebrainatlas-data/CSHL_labelings_v3/MD589\" \"/home/yuncong/CSHL_labelings_v3/MD589\" --exclude \"*\" --include \"*win5*grid_indices_lookup*\"\n",
      "latest timestamp:  10042017100807\n"
     ]
    }
   ],
   "source": [
    "grid_indices_lookup_allStacks = {}\n",
    "\n",
    "stack = 'MD595'\n",
    "try:\n",
    "    grid_indices_lookup_allStacks[stack] = \\\n",
    "    DataManager.load_annotation_to_grid_indices_lookup(stack=stack, win_id=win_id,\n",
    "                                                       by_human=False, timestamp='latest',\n",
    "                                                       detector_id_f=15)\n",
    "except Exception as e:\n",
    "    print e\n",
    "    sys.stderr.write(\"Fail to load annotation grid lookup for %s.\\n\" % stack)\n",
    "    \n",
    "\n",
    "stack = 'MD589'\n",
    "try:\n",
    "    grid_indices_lookup_allStacks[stack] = \\\n",
    "    DataManager.load_annotation_to_grid_indices_lookup(stack=stack, win_id=win_id,\n",
    "                                                       by_human=True, timestamp='latest')\n",
    "except:\n",
    "    sys.stderr.write(\"Fail to load annotation grid lookup for %s.\\n\" % stack)"
   ]
  },
  {
   "cell_type": "code",
   "execution_count": 10,
   "metadata": {
    "scrolled": true
   },
   "outputs": [],
   "source": [
    "# grid_indices_lookup_allStacks = {}\n",
    "# for stack in stacks:\n",
    "#     try:\n",
    "#         grid_indices_lookup_allStacks[stack] = \\\n",
    "#         DataManager.load_annotation_to_grid_indices_lookup(stack=stack, win_id=win_id,\n",
    "#                                                            by_human=True, timestamp='latest')\n",
    "#     except:\n",
    "#         sys.stderr.write(\"Fail to load annotation grid lookup for %s.\\n\" % stack)"
   ]
  },
  {
   "cell_type": "code",
   "execution_count": 50,
   "metadata": {
    "collapsed": true
   },
   "outputs": [],
   "source": [
    "from itertools import chain\n",
    "all_labels = sorted(list(set(chain.from_iterable(set(grid_indices_lookup_allStacks[st].columns.tolist()) for st in stacks))))"
   ]
  },
  {
   "cell_type": "code",
   "execution_count": 51,
   "metadata": {
    "collapsed": true
   },
   "outputs": [],
   "source": [
    "address_multidx = pd.MultiIndex.from_tuples([(stack, sec, grid_idx) \n",
    "           for stack in sorted(stacks)\n",
    "           for sec in np.arange(metadata_cache['section_limits'][stack][0], \n",
    "                                metadata_cache['section_limits'][stack][-1]+1)\n",
    "           for grid_idx in range(len(sample_locations_allStacks[stack]))], \n",
    "          names=['stack', 'section', 'grid_idx'])"
   ]
  },
  {
   "cell_type": "code",
   "execution_count": 52,
   "metadata": {
    "collapsed": true
   },
   "outputs": [],
   "source": [
    "address_label_df_allStacks = DataFrame(columns=all_labels,\n",
    "    index=address_multidx, data=False)"
   ]
  },
  {
   "cell_type": "code",
   "execution_count": 53,
   "metadata": {
    "collapsed": true
   },
   "outputs": [],
   "source": [
    "# surround_margins = [200, 500]\n",
    "surround_margins = [200]"
   ]
  },
  {
   "cell_type": "code",
   "execution_count": 54,
   "metadata": {
    "scrolled": true
   },
   "outputs": [
    {
     "name": "stderr",
     "output_type": "stream",
     "text": [
      "Computing class label to grid indices lookup-table for section 70...\n",
      "Computing class label to grid indices lookup-table for section 71...\n",
      "Computing class label to grid indices lookup-table for section 72...\n",
      "Computing class label to grid indices lookup-table for section 73...\n",
      "Computing class label to grid indices lookup-table for section 74...\n",
      "Computing class label to grid indices lookup-table for section 75...\n",
      "Computing class label to grid indices lookup-table for section 76...\n",
      "Computing class label to grid indices lookup-table for section 77...\n",
      "Computing class label to grid indices lookup-table for section 78...\n",
      "Computing class label to grid indices lookup-table for section 79...\n",
      "Computing class label to grid indices lookup-table for section 80...\n",
      "Computing class label to grid indices lookup-table for section 81...\n",
      "Computing class label to grid indices lookup-table for section 82...\n",
      "Computing class label to grid indices lookup-table for section 83...\n",
      "Computing class label to grid indices lookup-table for section 84...\n",
      "Computing class label to grid indices lookup-table for section 85...\n",
      "Computing class label to grid indices lookup-table for section 86...\n",
      "Computing class label to grid indices lookup-table for section 87...\n",
      "Computing class label to grid indices lookup-table for section 88...\n",
      "Computing class label to grid indices lookup-table for section 89...\n",
      "Computing class label to grid indices lookup-table for section 90...\n",
      "Computing class label to grid indices lookup-table for section 91...\n",
      "Computing class label to grid indices lookup-table for section 92...\n",
      "Computing class label to grid indices lookup-table for section 93...\n",
      "Computing class label to grid indices lookup-table for section 94...\n",
      "Computing class label to grid indices lookup-table for section 95...\n",
      "Computing class label to grid indices lookup-table for section 96...\n",
      "Computing class label to grid indices lookup-table for section 97...\n",
      "Computing class label to grid indices lookup-table for section 98...\n",
      "Computing class label to grid indices lookup-table for section 99...\n",
      "Computing class label to grid indices lookup-table for section 100...\n",
      "Computing class label to grid indices lookup-table for section 101...\n",
      "Computing class label to grid indices lookup-table for section 102...\n",
      "Computing class label to grid indices lookup-table for section 103...\n",
      "Computing class label to grid indices lookup-table for section 104...\n",
      "Computing class label to grid indices lookup-table for section 105...\n",
      "Computing class label to grid indices lookup-table for section 106...\n",
      "Computing class label to grid indices lookup-table for section 107...\n",
      "Computing class label to grid indices lookup-table for section 108...\n",
      "Computing class label to grid indices lookup-table for section 109...\n",
      "Computing class label to grid indices lookup-table for section 110...\n",
      "Computing class label to grid indices lookup-table for section 111...\n",
      "Computing class label to grid indices lookup-table for section 112...\n",
      "Computing class label to grid indices lookup-table for section 113...\n",
      "Computing class label to grid indices lookup-table for section 114...\n",
      "Computing class label to grid indices lookup-table for section 115...\n",
      "Computing class label to grid indices lookup-table for section 116...\n",
      "Computing class label to grid indices lookup-table for section 117...\n",
      "MD595, sec 117: 111 patches from label 7N_surround_200_noclass.\n",
      "Computing class label to grid indices lookup-table for section 118...\n",
      "MD595, sec 118: 204 patches from label 7N_surround_200_noclass.\n",
      "Computing class label to grid indices lookup-table for section 119...\n",
      "MD595, sec 119: 15 patches from label 7N_surround_200_Sp5O.\n",
      "MD595, sec 119: 373 patches from label 7N_surround_200_noclass.\n",
      "Computing class label to grid indices lookup-table for section 120...\n",
      "MD595, sec 120: 24 patches from label 7N_surround_200_Sp5O.\n",
      "MD595, sec 120: 391 patches from label 7N_surround_200_noclass.\n",
      "Computing class label to grid indices lookup-table for section 121...\n",
      "MD595, sec 121: 19 patches from label 7N_surround_200_Sp5O.\n",
      "MD595, sec 121: 455 patches from label 7N_surround_200_noclass.\n",
      "Computing class label to grid indices lookup-table for section 122...\n",
      "MD595, sec 122: 2 patches from label 7N.\n",
      "MD595, sec 122: 13 patches from label 7N_surround_200_Sp5O.\n",
      "MD595, sec 122: 472 patches from label 7N_surround_200_noclass.\n",
      "Computing class label to grid indices lookup-table for section 123...\n",
      "MD595, sec 123: 40 patches from label 7N.\n",
      "MD595, sec 123: 2 patches from label 7N_surround_200_Sp5O.\n",
      "MD595, sec 123: 490 patches from label 7N_surround_200_noclass.\n",
      "Computing class label to grid indices lookup-table for section 124...\n",
      "MD595, sec 124: 61 patches from label 7N.\n",
      "MD595, sec 124: 3 patches from label 7N_surround_200_Sp5O.\n",
      "MD595, sec 124: 516 patches from label 7N_surround_200_noclass.\n",
      "Computing class label to grid indices lookup-table for section 125...\n",
      "MD595, sec 125: 86 patches from label 7N.\n",
      "MD595, sec 125: 552 patches from label 7N_surround_200_noclass.\n",
      "Computing class label to grid indices lookup-table for section 126...\n",
      "MD595, sec 126: 127 patches from label 7N.\n",
      "MD595, sec 126: 3 patches from label 7N_surround_200_Sp5I.\n",
      "MD595, sec 126: 585 patches from label 7N_surround_200_noclass.\n",
      "Computing class label to grid indices lookup-table for section 127...\n",
      "MD595, sec 127: 140 patches from label 7N.\n",
      "MD595, sec 127: 3 patches from label 7N_surround_200_Sp5I.\n",
      "MD595, sec 127: 579 patches from label 7N_surround_200_noclass.\n",
      "Computing class label to grid indices lookup-table for section 128...\n",
      "MD595, sec 128: 156 patches from label 7N.\n",
      "MD595, sec 128: 4 patches from label 7N_surround_200_Sp5I.\n",
      "MD595, sec 128: 605 patches from label 7N_surround_200_noclass.\n",
      "Computing class label to grid indices lookup-table for section 129...\n",
      "MD595, sec 129: 193 patches from label 7N.\n",
      "MD595, sec 129: 2 patches from label 7N_surround_200_Sp5I.\n",
      "MD595, sec 129: 619 patches from label 7N_surround_200_noclass.\n",
      "Computing class label to grid indices lookup-table for section 130...\n",
      "MD595, sec 130: 205 patches from label 7N.\n",
      "MD595, sec 130: 641 patches from label 7N_surround_200_noclass.\n",
      "Computing class label to grid indices lookup-table for section 131...\n",
      "MD595, sec 131: 230 patches from label 7N.\n",
      "MD595, sec 131: 649 patches from label 7N_surround_200_noclass.\n",
      "Computing class label to grid indices lookup-table for section 132...\n",
      "MD595, sec 132: 243 patches from label 7N.\n",
      "MD595, sec 132: 647 patches from label 7N_surround_200_noclass.\n",
      "Computing class label to grid indices lookup-table for section 133...\n",
      "MD595, sec 133: 248 patches from label 7N.\n",
      "MD595, sec 133: 648 patches from label 7N_surround_200_noclass.\n",
      "Computing class label to grid indices lookup-table for section 134...\n",
      "MD595, sec 134: 247 patches from label 7N.\n",
      "MD595, sec 134: 656 patches from label 7N_surround_200_noclass.\n",
      "Computing class label to grid indices lookup-table for section 135...\n",
      "MD595, sec 135: 239 patches from label 7N.\n",
      "MD595, sec 135: 666 patches from label 7N_surround_200_noclass.\n",
      "Computing class label to grid indices lookup-table for section 136...\n",
      "MD595, sec 136: 233 patches from label 7N.\n",
      "MD595, sec 136: 659 patches from label 7N_surround_200_noclass.\n",
      "Computing class label to grid indices lookup-table for section 137...\n",
      "MD595, sec 137: 210 patches from label 7N.\n",
      "MD595, sec 137: 652 patches from label 7N_surround_200_noclass.\n",
      "Computing class label to grid indices lookup-table for section 138...\n",
      "MD595, sec 138: 194 patches from label 7N.\n",
      "MD595, sec 138: 649 patches from label 7N_surround_200_noclass.\n",
      "Computing class label to grid indices lookup-table for section 139...\n",
      "MD595, sec 139: 186 patches from label 7N.\n",
      "MD595, sec 139: 646 patches from label 7N_surround_200_noclass.\n",
      "Computing class label to grid indices lookup-table for section 140...\n",
      "MD595, sec 140: 176 patches from label 7N.\n",
      "MD595, sec 140: 655 patches from label 7N_surround_200_noclass.\n",
      "Computing class label to grid indices lookup-table for section 141...\n",
      "MD595, sec 141: 187 patches from label 7N.\n",
      "MD595, sec 141: 655 patches from label 7N_surround_200_noclass.\n",
      "Computing class label to grid indices lookup-table for section 142...\n",
      "MD595, sec 142: 212 patches from label 7N.\n",
      "MD595, sec 142: 656 patches from label 7N_surround_200_noclass.\n"
     ]
    },
    {
     "name": "stderr",
     "output_type": "stream",
     "text": [
      "Computing class label to grid indices lookup-table for section 143...\n",
      "MD595, sec 143: 235 patches from label 7N.\n",
      "MD595, sec 143: 658 patches from label 7N_surround_200_noclass.\n",
      "Computing class label to grid indices lookup-table for section 144...\n",
      "MD595, sec 144: 255 patches from label 7N.\n",
      "MD595, sec 144: 652 patches from label 7N_surround_200_noclass.\n",
      "Computing class label to grid indices lookup-table for section 145...\n",
      "MD595, sec 145: 277 patches from label 7N.\n",
      "MD595, sec 145: 649 patches from label 7N_surround_200_noclass.\n",
      "Computing class label to grid indices lookup-table for section 146...\n",
      "MD595, sec 146: 276 patches from label 7N.\n",
      "MD595, sec 146: 646 patches from label 7N_surround_200_noclass.\n",
      "Computing class label to grid indices lookup-table for section 147...\n",
      "MD595, sec 147: 265 patches from label 7N.\n",
      "MD595, sec 147: 661 patches from label 7N_surround_200_noclass.\n",
      "Computing class label to grid indices lookup-table for section 148...\n",
      "MD595, sec 148: 226 patches from label 7N.\n",
      "MD595, sec 148: 650 patches from label 7N_surround_200_noclass.\n",
      "Computing class label to grid indices lookup-table for section 149...\n",
      "MD595, sec 149: 201 patches from label 7N.\n",
      "MD595, sec 149: 640 patches from label 7N_surround_200_noclass.\n",
      "Computing class label to grid indices lookup-table for section 150...\n",
      "MD595, sec 150: 183 patches from label 7N.\n",
      "MD595, sec 150: 628 patches from label 7N_surround_200_noclass.\n",
      "Computing class label to grid indices lookup-table for section 151...\n",
      "MD595, sec 151: 119 patches from label 7N.\n",
      "MD595, sec 151: 598 patches from label 7N_surround_200_noclass.\n",
      "Computing class label to grid indices lookup-table for section 152...\n",
      "MD595, sec 152: 73 patches from label 7N.\n",
      "MD595, sec 152: 575 patches from label 7N_surround_200_noclass.\n",
      "Computing class label to grid indices lookup-table for section 153...\n",
      "MD595, sec 153: 28 patches from label 7N.\n",
      "MD595, sec 153: 558 patches from label 7N_surround_200_noclass.\n",
      "Computing class label to grid indices lookup-table for section 154...\n",
      "MD595, sec 154: 480 patches from label 7N_surround_200_noclass.\n",
      "Computing class label to grid indices lookup-table for section 155...\n",
      "MD595, sec 155: 419 patches from label 7N_surround_200_noclass.\n",
      "Computing class label to grid indices lookup-table for section 156...\n",
      "MD595, sec 156: 226 patches from label 7N_surround_200_noclass.\n",
      "Computing class label to grid indices lookup-table for section 157...\n",
      "Computing class label to grid indices lookup-table for section 158...\n",
      "Computing class label to grid indices lookup-table for section 159...\n",
      "Computing class label to grid indices lookup-table for section 160...\n",
      "Computing class label to grid indices lookup-table for section 161...\n",
      "Computing class label to grid indices lookup-table for section 162...\n",
      "Computing class label to grid indices lookup-table for section 163...\n",
      "Computing class label to grid indices lookup-table for section 164...\n",
      "Computing class label to grid indices lookup-table for section 166...\n",
      "Computing class label to grid indices lookup-table for section 167...\n",
      "Computing class label to grid indices lookup-table for section 168...\n",
      "Computing class label to grid indices lookup-table for section 169...\n",
      "Computing class label to grid indices lookup-table for section 170...\n",
      "Computing class label to grid indices lookup-table for section 171...\n",
      "Computing class label to grid indices lookup-table for section 172...\n",
      "Computing class label to grid indices lookup-table for section 173...\n",
      "Computing class label to grid indices lookup-table for section 174...\n",
      "Computing class label to grid indices lookup-table for section 175...\n",
      "Computing class label to grid indices lookup-table for section 176...\n",
      "Computing class label to grid indices lookup-table for section 177...\n",
      "Computing class label to grid indices lookup-table for section 178...\n",
      "Computing class label to grid indices lookup-table for section 179...\n",
      "Computing class label to grid indices lookup-table for section 180...\n",
      "Computing class label to grid indices lookup-table for section 181...\n",
      "Computing class label to grid indices lookup-table for section 182...\n",
      "Computing class label to grid indices lookup-table for section 183...\n",
      "Computing class label to grid indices lookup-table for section 184...\n",
      "Computing class label to grid indices lookup-table for section 185...\n",
      "Computing class label to grid indices lookup-table for section 186...\n",
      "Computing class label to grid indices lookup-table for section 187...\n",
      "Computing class label to grid indices lookup-table for section 188...\n",
      "Computing class label to grid indices lookup-table for section 190...\n",
      "Computing class label to grid indices lookup-table for section 191...\n",
      "Computing class label to grid indices lookup-table for section 192...\n",
      "Computing class label to grid indices lookup-table for section 193...\n",
      "Computing class label to grid indices lookup-table for section 194...\n",
      "Computing class label to grid indices lookup-table for section 195...\n",
      "Computing class label to grid indices lookup-table for section 196...\n",
      "Computing class label to grid indices lookup-table for section 197...\n",
      "Computing class label to grid indices lookup-table for section 198...\n",
      "Computing class label to grid indices lookup-table for section 199...\n",
      "Computing class label to grid indices lookup-table for section 200...\n",
      "Computing class label to grid indices lookup-table for section 201...\n",
      "Computing class label to grid indices lookup-table for section 202...\n",
      "Computing class label to grid indices lookup-table for section 203...\n",
      "Computing class label to grid indices lookup-table for section 204...\n",
      "Computing class label to grid indices lookup-table for section 205...\n",
      "Computing class label to grid indices lookup-table for section 206...\n",
      "Computing class label to grid indices lookup-table for section 207...\n",
      "Computing class label to grid indices lookup-table for section 208...\n",
      "Computing class label to grid indices lookup-table for section 209...\n",
      "Computing class label to grid indices lookup-table for section 210...\n",
      "Computing class label to grid indices lookup-table for section 211...\n",
      "Computing class label to grid indices lookup-table for section 212...\n",
      "Computing class label to grid indices lookup-table for section 213...\n",
      "Computing class label to grid indices lookup-table for section 214...\n",
      "Computing class label to grid indices lookup-table for section 215...\n",
      "Computing class label to grid indices lookup-table for section 216...\n",
      "Computing class label to grid indices lookup-table for section 217...\n",
      "Computing class label to grid indices lookup-table for section 218...\n",
      "Computing class label to grid indices lookup-table for section 219...\n",
      "Computing class label to grid indices lookup-table for section 220...\n",
      "Computing class label to grid indices lookup-table for section 221...\n",
      "Computing class label to grid indices lookup-table for section 222...\n",
      "Computing class label to grid indices lookup-table for section 223...\n",
      "Computing class label to grid indices lookup-table for section 224...\n",
      "Computing class label to grid indices lookup-table for section 225...\n",
      "MD595, sec 225: 240 patches from label 7N_surround_200_noclass.\n",
      "Computing class label to grid indices lookup-table for section 226...\n",
      "MD595, sec 226: 321 patches from label 7N_surround_200_noclass.\n",
      "Computing class label to grid indices lookup-table for section 227...\n",
      "MD595, sec 227: 359 patches from label 7N_surround_200_noclass.\n",
      "Computing class label to grid indices lookup-table for section 228...\n",
      "MD595, sec 228: 0 patches from label 7N.\n",
      "MD595, sec 228: 386 patches from label 7N_surround_200_noclass.\n",
      "Computing class label to grid indices lookup-table for section 229...\n",
      "MD595, sec 229: 22 patches from label 7N.\n",
      "MD595, sec 229: 421 patches from label 7N_surround_200_noclass.\n",
      "Computing class label to grid indices lookup-table for section 230...\n",
      "MD595, sec 230: 38 patches from label 7N.\n",
      "MD595, sec 230: 443 patches from label 7N_surround_200_noclass.\n",
      "Computing class label to grid indices lookup-table for section 231...\n",
      "MD595, sec 231: 64 patches from label 7N.\n",
      "MD595, sec 231: 459 patches from label 7N_surround_200_noclass.\n",
      "Computing class label to grid indices lookup-table for section 232...\n",
      "MD595, sec 232: 97 patches from label 7N.\n",
      "MD595, sec 232: 480 patches from label 7N_surround_200_noclass.\n"
     ]
    },
    {
     "name": "stderr",
     "output_type": "stream",
     "text": [
      "Computing class label to grid indices lookup-table for section 233...\n",
      "MD595, sec 233: 109 patches from label 7N.\n",
      "MD595, sec 233: 498 patches from label 7N_surround_200_noclass.\n",
      "Computing class label to grid indices lookup-table for section 234...\n",
      "MD595, sec 234: 134 patches from label 7N.\n",
      "MD595, sec 234: 524 patches from label 7N_surround_200_noclass.\n",
      "Computing class label to grid indices lookup-table for section 235...\n",
      "MD595, sec 235: 141 patches from label 7N.\n",
      "MD595, sec 235: 538 patches from label 7N_surround_200_noclass.\n",
      "Computing class label to grid indices lookup-table for section 236...\n",
      "MD595, sec 236: 149 patches from label 7N.\n",
      "MD595, sec 236: 534 patches from label 7N_surround_200_noclass.\n",
      "Computing class label to grid indices lookup-table for section 237...\n",
      "MD595, sec 237: 152 patches from label 7N.\n",
      "MD595, sec 237: 556 patches from label 7N_surround_200_noclass.\n",
      "Computing class label to grid indices lookup-table for section 238...\n",
      "MD595, sec 238: 156 patches from label 7N.\n",
      "MD595, sec 238: 570 patches from label 7N_surround_200_noclass.\n",
      "Computing class label to grid indices lookup-table for section 239...\n",
      "MD595, sec 239: 154 patches from label 7N.\n",
      "MD595, sec 239: 579 patches from label 7N_surround_200_noclass.\n",
      "Computing class label to grid indices lookup-table for section 240...\n",
      "MD595, sec 240: 147 patches from label 7N.\n",
      "MD595, sec 240: 583 patches from label 7N_surround_200_noclass.\n",
      "Computing class label to grid indices lookup-table for section 241...\n",
      "MD595, sec 241: 142 patches from label 7N.\n",
      "MD595, sec 241: 582 patches from label 7N_surround_200_noclass.\n",
      "Computing class label to grid indices lookup-table for section 242...\n",
      "MD595, sec 242: 141 patches from label 7N.\n",
      "MD595, sec 242: 590 patches from label 7N_surround_200_noclass.\n",
      "Computing class label to grid indices lookup-table for section 243...\n",
      "MD595, sec 243: 138 patches from label 7N.\n",
      "MD595, sec 243: 605 patches from label 7N_surround_200_noclass.\n",
      "Computing class label to grid indices lookup-table for section 244...\n",
      "MD595, sec 244: 146 patches from label 7N.\n",
      "MD595, sec 244: 593 patches from label 7N_surround_200_noclass.\n",
      "Computing class label to grid indices lookup-table for section 245...\n",
      "MD595, sec 245: 151 patches from label 7N.\n",
      "MD595, sec 245: 600 patches from label 7N_surround_200_noclass.\n",
      "Computing class label to grid indices lookup-table for section 246...\n",
      "MD595, sec 246: 176 patches from label 7N.\n",
      "MD595, sec 246: 620 patches from label 7N_surround_200_noclass.\n",
      "Computing class label to grid indices lookup-table for section 247...\n",
      "MD595, sec 247: 187 patches from label 7N.\n",
      "MD595, sec 247: 614 patches from label 7N_surround_200_noclass.\n",
      "Computing class label to grid indices lookup-table for section 248...\n",
      "MD595, sec 248: 200 patches from label 7N.\n",
      "MD595, sec 248: 600 patches from label 7N_surround_200_noclass.\n",
      "Computing class label to grid indices lookup-table for section 249...\n",
      "MD595, sec 249: 202 patches from label 7N.\n",
      "MD595, sec 249: 596 patches from label 7N_surround_200_noclass.\n",
      "Computing class label to grid indices lookup-table for section 250...\n",
      "MD595, sec 250: 207 patches from label 7N.\n",
      "MD595, sec 250: 640 patches from label 7N_surround_200_noclass.\n",
      "Computing class label to grid indices lookup-table for section 251...\n",
      "MD595, sec 251: 218 patches from label 7N.\n",
      "MD595, sec 251: 593 patches from label 7N_surround_200_noclass.\n",
      "Computing class label to grid indices lookup-table for section 252...\n",
      "MD595, sec 252: 220 patches from label 7N.\n",
      "MD595, sec 252: 578 patches from label 7N_surround_200_noclass.\n",
      "Computing class label to grid indices lookup-table for section 253...\n",
      "MD595, sec 253: 221 patches from label 7N.\n",
      "MD595, sec 253: 589 patches from label 7N_surround_200_noclass.\n",
      "Computing class label to grid indices lookup-table for section 254...\n",
      "MD595, sec 254: 222 patches from label 7N.\n",
      "MD595, sec 254: 578 patches from label 7N_surround_200_noclass.\n",
      "Computing class label to grid indices lookup-table for section 255...\n",
      "MD595, sec 255: 218 patches from label 7N.\n",
      "MD595, sec 255: 579 patches from label 7N_surround_200_noclass.\n",
      "Computing class label to grid indices lookup-table for section 256...\n",
      "MD595, sec 256: 216 patches from label 7N.\n",
      "MD595, sec 256: 586 patches from label 7N_surround_200_noclass.\n",
      "Computing class label to grid indices lookup-table for section 257...\n",
      "MD595, sec 257: 203 patches from label 7N.\n",
      "MD595, sec 257: 589 patches from label 7N_surround_200_noclass.\n",
      "Computing class label to grid indices lookup-table for section 258...\n",
      "MD595, sec 258: 196 patches from label 7N.\n",
      "MD595, sec 258: 30 patches from label 7N_surround_200_Sp5O.\n",
      "MD595, sec 258: 578 patches from label 7N_surround_200_noclass.\n",
      "Computing class label to grid indices lookup-table for section 259...\n",
      "MD595, sec 259: 176 patches from label 7N.\n",
      "MD595, sec 259: 52 patches from label 7N_surround_200_Sp5O.\n",
      "MD595, sec 259: 577 patches from label 7N_surround_200_noclass.\n",
      "Computing class label to grid indices lookup-table for section 260...\n",
      "MD595, sec 260: 156 patches from label 7N.\n",
      "MD595, sec 260: 9 patches from label 7N_surround_200_7n.\n",
      "MD595, sec 260: 99 patches from label 7N_surround_200_Sp5O.\n",
      "MD595, sec 260: 505 patches from label 7N_surround_200_noclass.\n",
      "Computing class label to grid indices lookup-table for section 261...\n",
      "MD595, sec 261: 144 patches from label 7N.\n",
      "MD595, sec 261: 9 patches from label 7N_surround_200_7n.\n",
      "MD595, sec 261: 113 patches from label 7N_surround_200_Sp5O.\n",
      "MD595, sec 261: 486 patches from label 7N_surround_200_noclass.\n",
      "Computing class label to grid indices lookup-table for section 262...\n",
      "MD595, sec 262: 113 patches from label 7N.\n",
      "MD595, sec 262: 12 patches from label 7N_surround_200_7n.\n",
      "MD595, sec 262: 146 patches from label 7N_surround_200_Sp5O.\n",
      "MD595, sec 262: 475 patches from label 7N_surround_200_noclass.\n",
      "Computing class label to grid indices lookup-table for section 263...\n",
      "MD595, sec 263: 90 patches from label 7N.\n",
      "MD595, sec 263: 8 patches from label 7N_surround_200_7n.\n",
      "MD595, sec 263: 160 patches from label 7N_surround_200_Sp5O.\n",
      "MD595, sec 263: 405 patches from label 7N_surround_200_noclass.\n",
      "Computing class label to grid indices lookup-table for section 264...\n",
      "MD595, sec 264: 71 patches from label 7N.\n",
      "MD595, sec 264: 3 patches from label 7N_surround_200_7n.\n",
      "MD595, sec 264: 170 patches from label 7N_surround_200_Sp5O.\n",
      "MD595, sec 264: 359 patches from label 7N_surround_200_noclass.\n",
      "Computing class label to grid indices lookup-table for section 265...\n",
      "MD595, sec 265: 27 patches from label 7N.\n",
      "MD595, sec 265: 181 patches from label 7N_surround_200_Sp5O.\n",
      "MD595, sec 265: 300 patches from label 7N_surround_200_noclass.\n",
      "Computing class label to grid indices lookup-table for section 266...\n",
      "MD595, sec 266: 9 patches from label 7N.\n",
      "MD595, sec 266: 178 patches from label 7N_surround_200_Sp5O.\n",
      "MD595, sec 266: 304 patches from label 7N_surround_200_noclass.\n",
      "Computing class label to grid indices lookup-table for section 267...\n",
      "MD595, sec 267: 173 patches from label 7N_surround_200_Sp5O.\n",
      "MD595, sec 267: 286 patches from label 7N_surround_200_noclass.\n",
      "Computing class label to grid indices lookup-table for section 268...\n",
      "MD595, sec 268: 131 patches from label 7N_surround_200_Sp5O.\n",
      "MD595, sec 268: 280 patches from label 7N_surround_200_noclass.\n",
      "Computing class label to grid indices lookup-table for section 269...\n",
      "MD595, sec 269: 109 patches from label 7N_surround_200_Sp5O.\n",
      "MD595, sec 269: 298 patches from label 7N_surround_200_noclass.\n",
      "Computing class label to grid indices lookup-table for section 270...\n",
      "MD595, sec 270: 74 patches from label 7N_surround_200_Sp5O.\n",
      "MD595, sec 270: 275 patches from label 7N_surround_200_noclass.\n",
      "Computing class label to grid indices lookup-table for section 271...\n",
      "MD595, sec 271: 18 patches from label 7N_surround_200_Sp5O.\n",
      "MD595, sec 271: 235 patches from label 7N_surround_200_noclass.\n",
      "Computing class label to grid indices lookup-table for section 272...\n",
      "MD595, sec 272: 5 patches from label 7N_surround_200_Sp5O.\n",
      "MD595, sec 272: 213 patches from label 7N_surround_200_noclass.\n",
      "Computing class label to grid indices lookup-table for section 273...\n",
      "MD595, sec 273: 138 patches from label 7N_surround_200_noclass.\n",
      "Computing class label to grid indices lookup-table for section 274...\n",
      "Computing class label to grid indices lookup-table for section 275...\n",
      "Computing class label to grid indices lookup-table for section 276...\n",
      "Computing class label to grid indices lookup-table for section 277...\n",
      "Computing class label to grid indices lookup-table for section 278...\n",
      "Computing class label to grid indices lookup-table for section 279...\n",
      "Computing class label to grid indices lookup-table for section 280...\n",
      "Computing class label to grid indices lookup-table for section 281...\n",
      "Computing class label to grid indices lookup-table for section 282...\n",
      "Computing class label to grid indices lookup-table for section 283...\n",
      "Computing class label to grid indices lookup-table for section 284...\n",
      "Computing class label to grid indices lookup-table for section 285...\n",
      "Computing class label to grid indices lookup-table for section 286...\n",
      "Computing class label to grid indices lookup-table for section 287...\n",
      "Computing class label to grid indices lookup-table for section 288...\n",
      "Computing class label to grid indices lookup-table for section 289...\n",
      "Computing class label to grid indices lookup-table for section 290...\n",
      "Computing class label to grid indices lookup-table for section 291...\n",
      "Computing class label to grid indices lookup-table for section 292...\n",
      "Computing class label to grid indices lookup-table for section 293...\n",
      "Computing class label to grid indices lookup-table for section 294...\n",
      "Computing class label to grid indices lookup-table for section 295...\n",
      "Computing class label to grid indices lookup-table for section 296...\n",
      "Computing class label to grid indices lookup-table for section 297...\n",
      "Computing class label to grid indices lookup-table for section 298...\n",
      "Computing class label to grid indices lookup-table for section 299...\n",
      "Computing class label to grid indices lookup-table for section 300...\n",
      "Computing class label to grid indices lookup-table for section 301...\n",
      "Computing class label to grid indices lookup-table for section 302...\n",
      "Computing class label to grid indices lookup-table for section 303...\n",
      "Computing class label to grid indices lookup-table for section 304...\n",
      "Computing class label to grid indices lookup-table for section 305...\n",
      "Computing class label to grid indices lookup-table for section 306...\n",
      "Computing class label to grid indices lookup-table for section 307...\n",
      "Computing class label to grid indices lookup-table for section 308...\n",
      "Computing class label to grid indices lookup-table for section 309...\n",
      "Computing class label to grid indices lookup-table for section 310...\n",
      "Computing class label to grid indices lookup-table for section 311...\n",
      "Computing class label to grid indices lookup-table for section 312...\n",
      "Computing class label to grid indices lookup-table for section 313...\n",
      "Computing class label to grid indices lookup-table for section 314...\n",
      "Computing class label to grid indices lookup-table for section 315...\n",
      "Computing class label to grid indices lookup-table for section 316...\n",
      "Computing class label to grid indices lookup-table for section 317...\n",
      "Computing class label to grid indices lookup-table for section 318...\n",
      "Computing class label to grid indices lookup-table for section 319...\n",
      "Computing class label to grid indices lookup-table for section 320...\n",
      "Computing class label to grid indices lookup-table for section 321...\n",
      "Computing class label to grid indices lookup-table for section 322...\n",
      "Computing class label to grid indices lookup-table for section 323...\n",
      "Computing class label to grid indices lookup-table for section 324...\n",
      "Computing class label to grid indices lookup-table for section 325...\n",
      "Computing class label to grid indices lookup-table for section 326...\n",
      "Computing class label to grid indices lookup-table for section 327...\n",
      "Computing class label to grid indices lookup-table for section 328...\n",
      "Computing class label to grid indices lookup-table for section 329...\n",
      "Computing class label to grid indices lookup-table for section 330...\n",
      "Computing class label to grid indices lookup-table for section 331...\n",
      "Computing class label to grid indices lookup-table for section 332...\n",
      "Computing class label to grid indices lookup-table for section 92...\n",
      "Computing class label to grid indices lookup-table for section 94...\n",
      "Computing class label to grid indices lookup-table for section 95...\n",
      "Computing class label to grid indices lookup-table for section 96...\n",
      "Computing class label to grid indices lookup-table for section 97...\n",
      "Computing class label to grid indices lookup-table for section 98...\n",
      "Computing class label to grid indices lookup-table for section 99...\n",
      "Computing class label to grid indices lookup-table for section 100...\n",
      "Computing class label to grid indices lookup-table for section 101...\n",
      "Computing class label to grid indices lookup-table for section 102...\n",
      "Computing class label to grid indices lookup-table for section 103...\n",
      "Computing class label to grid indices lookup-table for section 104...\n",
      "Computing class label to grid indices lookup-table for section 105...\n",
      "Computing class label to grid indices lookup-table for section 106...\n",
      "Computing class label to grid indices lookup-table for section 107...\n",
      "Computing class label to grid indices lookup-table for section 108...\n",
      "Computing class label to grid indices lookup-table for section 109...\n",
      "Computing class label to grid indices lookup-table for section 110...\n",
      "Computing class label to grid indices lookup-table for section 111...\n",
      "Computing class label to grid indices lookup-table for section 112...\n",
      "Computing class label to grid indices lookup-table for section 113...\n",
      "Computing class label to grid indices lookup-table for section 114...\n",
      "Computing class label to grid indices lookup-table for section 115...\n",
      "Computing class label to grid indices lookup-table for section 116...\n",
      "Computing class label to grid indices lookup-table for section 117...\n",
      "Computing class label to grid indices lookup-table for section 119...\n",
      "Computing class label to grid indices lookup-table for section 120...\n",
      "Computing class label to grid indices lookup-table for section 121...\n",
      "Computing class label to grid indices lookup-table for section 122...\n",
      "Computing class label to grid indices lookup-table for section 123...\n",
      "Computing class label to grid indices lookup-table for section 124...\n",
      "Computing class label to grid indices lookup-table for section 125...\n",
      "Computing class label to grid indices lookup-table for section 126...\n",
      "Computing class label to grid indices lookup-table for section 127...\n",
      "Computing class label to grid indices lookup-table for section 128...\n",
      "Computing class label to grid indices lookup-table for section 129...\n",
      "Computing class label to grid indices lookup-table for section 130...\n",
      "Computing class label to grid indices lookup-table for section 131...\n",
      "Computing class label to grid indices lookup-table for section 132...\n",
      "Computing class label to grid indices lookup-table for section 133...\n",
      "Computing class label to grid indices lookup-table for section 134...\n",
      "Computing class label to grid indices lookup-table for section 135...\n",
      "Computing class label to grid indices lookup-table for section 136...\n",
      "Computing class label to grid indices lookup-table for section 137...\n",
      "Computing class label to grid indices lookup-table for section 138...\n",
      "Computing class label to grid indices lookup-table for section 139...\n",
      "Computing class label to grid indices lookup-table for section 140...\n",
      "Computing class label to grid indices lookup-table for section 141...\n",
      "Computing class label to grid indices lookup-table for section 142...\n",
      "Computing class label to grid indices lookup-table for section 143...\n",
      "Computing class label to grid indices lookup-table for section 144...\n",
      "Computing class label to grid indices lookup-table for section 145...\n",
      "Computing class label to grid indices lookup-table for section 146...\n",
      "Computing class label to grid indices lookup-table for section 147...\n",
      "Computing class label to grid indices lookup-table for section 148...\n",
      "Computing class label to grid indices lookup-table for section 149...\n",
      "Computing class label to grid indices lookup-table for section 150...\n",
      "Computing class label to grid indices lookup-table for section 151...\n",
      "Computing class label to grid indices lookup-table for section 152...\n",
      "MD589, sec 152: 32 patches from label 7N.\n",
      "MD589, sec 152: 295 patches from label 7N_surround_200_noclass.\n"
     ]
    },
    {
     "name": "stderr",
     "output_type": "stream",
     "text": [
      "Computing class label to grid indices lookup-table for section 153...\n",
      "MD589, sec 153: 49 patches from label 7N.\n",
      "MD589, sec 153: 322 patches from label 7N_surround_200_noclass.\n",
      "Computing class label to grid indices lookup-table for section 154...\n",
      "MD589, sec 154: 75 patches from label 7N.\n",
      "MD589, sec 154: 370 patches from label 7N_surround_200_noclass.\n",
      "Computing class label to grid indices lookup-table for section 155...\n",
      "MD589, sec 155: 108 patches from label 7N.\n",
      "MD589, sec 155: 420 patches from label 7N_surround_200_noclass.\n",
      "Computing class label to grid indices lookup-table for section 156...\n",
      "MD589, sec 156: 125 patches from label 7N.\n",
      "MD589, sec 156: 409 patches from label 7N_surround_200_noclass.\n",
      "Computing class label to grid indices lookup-table for section 157...\n",
      "MD589, sec 157: 146 patches from label 7N.\n",
      "MD589, sec 157: 446 patches from label 7N_surround_200_noclass.\n",
      "Computing class label to grid indices lookup-table for section 158...\n",
      "MD589, sec 158: 169 patches from label 7N.\n",
      "MD589, sec 158: 456 patches from label 7N_surround_200_noclass.\n",
      "Computing class label to grid indices lookup-table for section 159...\n",
      "MD589, sec 159: 190 patches from label 7N.\n",
      "MD589, sec 159: 477 patches from label 7N_surround_200_noclass.\n",
      "Computing class label to grid indices lookup-table for section 160...\n",
      "MD589, sec 160: 224 patches from label 7N.\n",
      "MD589, sec 160: 510 patches from label 7N_surround_200_noclass.\n",
      "Computing class label to grid indices lookup-table for section 161...\n",
      "MD589, sec 161: 230 patches from label 7N.\n",
      "MD589, sec 161: 510 patches from label 7N_surround_200_noclass.\n",
      "Computing class label to grid indices lookup-table for section 162...\n",
      "MD589, sec 162: 238 patches from label 7N.\n",
      "MD589, sec 162: 505 patches from label 7N_surround_200_noclass.\n",
      "Computing class label to grid indices lookup-table for section 163...\n",
      "MD589, sec 163: 251 patches from label 7N.\n",
      "MD589, sec 163: 520 patches from label 7N_surround_200_noclass.\n",
      "Computing class label to grid indices lookup-table for section 164...\n",
      "MD589, sec 164: 261 patches from label 7N.\n",
      "MD589, sec 164: 522 patches from label 7N_surround_200_noclass.\n",
      "Computing class label to grid indices lookup-table for section 165...\n",
      "MD589, sec 165: 280 patches from label 7N.\n",
      "MD589, sec 165: 559 patches from label 7N_surround_200_noclass.\n",
      "Computing class label to grid indices lookup-table for section 166...\n",
      "MD589, sec 166: 268 patches from label 7N.\n",
      "MD589, sec 166: 538 patches from label 7N_surround_200_noclass.\n",
      "Computing class label to grid indices lookup-table for section 167...\n",
      "MD589, sec 167: 265 patches from label 7N.\n",
      "MD589, sec 167: 527 patches from label 7N_surround_200_noclass.\n",
      "Computing class label to grid indices lookup-table for section 168...\n",
      "MD589, sec 168: 257 patches from label 7N.\n",
      "MD589, sec 168: 535 patches from label 7N_surround_200_noclass.\n",
      "Computing class label to grid indices lookup-table for section 169...\n",
      "MD589, sec 169: 252 patches from label 7N.\n",
      "MD589, sec 169: 534 patches from label 7N_surround_200_noclass.\n",
      "Computing class label to grid indices lookup-table for section 170...\n",
      "MD589, sec 170: 244 patches from label 7N.\n",
      "MD589, sec 170: 551 patches from label 7N_surround_200_noclass.\n",
      "Computing class label to grid indices lookup-table for section 171...\n",
      "MD589, sec 171: 235 patches from label 7N.\n",
      "MD589, sec 171: 525 patches from label 7N_surround_200_noclass.\n",
      "Computing class label to grid indices lookup-table for section 172...\n",
      "MD589, sec 172: 233 patches from label 7N.\n",
      "MD589, sec 172: 517 patches from label 7N_surround_200_noclass.\n",
      "Computing class label to grid indices lookup-table for section 173...\n",
      "MD589, sec 173: 231 patches from label 7N.\n",
      "MD589, sec 173: 523 patches from label 7N_surround_200_noclass.\n",
      "Computing class label to grid indices lookup-table for section 174...\n",
      "MD589, sec 174: 224 patches from label 7N.\n",
      "MD589, sec 174: 506 patches from label 7N_surround_200_noclass.\n",
      "Computing class label to grid indices lookup-table for section 175...\n",
      "MD589, sec 175: 223 patches from label 7N.\n",
      "MD589, sec 175: 524 patches from label 7N_surround_200_noclass.\n",
      "Computing class label to grid indices lookup-table for section 176...\n",
      "MD589, sec 176: 182 patches from label 7N.\n",
      "MD589, sec 176: 493 patches from label 7N_surround_200_noclass.\n",
      "Computing class label to grid indices lookup-table for section 177...\n",
      "MD589, sec 177: 137 patches from label 7N.\n",
      "MD589, sec 177: 508 patches from label 7N_surround_200_noclass.\n",
      "Computing class label to grid indices lookup-table for section 178...\n",
      "MD589, sec 178: 149 patches from label 7N.\n",
      "MD589, sec 178: 493 patches from label 7N_surround_200_noclass.\n",
      "Computing class label to grid indices lookup-table for section 179...\n",
      "MD589, sec 179: 166 patches from label 7N.\n",
      "MD589, sec 179: 502 patches from label 7N_surround_200_noclass.\n",
      "Computing class label to grid indices lookup-table for section 180...\n",
      "MD589, sec 180: 187 patches from label 7N.\n",
      "MD589, sec 180: 529 patches from label 7N_surround_200_noclass.\n",
      "Computing class label to grid indices lookup-table for section 181...\n",
      "MD589, sec 181: 191 patches from label 7N.\n",
      "MD589, sec 181: 518 patches from label 7N_surround_200_noclass.\n",
      "Computing class label to grid indices lookup-table for section 182...\n",
      "MD589, sec 182: 202 patches from label 7N.\n",
      "MD589, sec 182: 520 patches from label 7N_surround_200_noclass.\n",
      "Computing class label to grid indices lookup-table for section 183...\n",
      "MD589, sec 183: 213 patches from label 7N.\n",
      "MD589, sec 183: 531 patches from label 7N_surround_200_noclass.\n",
      "Computing class label to grid indices lookup-table for section 184...\n",
      "MD589, sec 184: 223 patches from label 7N.\n",
      "MD589, sec 184: 527 patches from label 7N_surround_200_noclass.\n",
      "Computing class label to grid indices lookup-table for section 185...\n",
      "MD589, sec 185: 243 patches from label 7N.\n",
      "MD589, sec 185: 534 patches from label 7N_surround_200_noclass.\n",
      "Computing class label to grid indices lookup-table for section 186...\n",
      "MD589, sec 186: 225 patches from label 7N.\n",
      "MD589, sec 186: 515 patches from label 7N_surround_200_noclass.\n",
      "Computing class label to grid indices lookup-table for section 187...\n",
      "MD589, sec 187: 212 patches from label 7N.\n",
      "MD589, sec 187: 511 patches from label 7N_surround_200_noclass.\n",
      "Computing class label to grid indices lookup-table for section 188...\n",
      "MD589, sec 188: 213 patches from label 7N.\n",
      "MD589, sec 188: 478 patches from label 7N_surround_200_noclass.\n",
      "Computing class label to grid indices lookup-table for section 189...\n",
      "MD589, sec 189: 203 patches from label 7N.\n",
      "MD589, sec 189: 474 patches from label 7N_surround_200_noclass.\n",
      "Computing class label to grid indices lookup-table for section 190...\n",
      "MD589, sec 190: 198 patches from label 7N.\n",
      "MD589, sec 190: 468 patches from label 7N_surround_200_noclass.\n",
      "Computing class label to grid indices lookup-table for section 191...\n",
      "MD589, sec 191: 158 patches from label 7N.\n",
      "MD589, sec 191: 450 patches from label 7N_surround_200_noclass.\n",
      "Computing class label to grid indices lookup-table for section 192...\n",
      "MD589, sec 192: 135 patches from label 7N.\n",
      "MD589, sec 192: 425 patches from label 7N_surround_200_noclass.\n",
      "Computing class label to grid indices lookup-table for section 193...\n",
      "MD589, sec 193: 104 patches from label 7N.\n",
      "MD589, sec 193: 403 patches from label 7N_surround_200_noclass.\n",
      "Computing class label to grid indices lookup-table for section 194...\n",
      "MD589, sec 194: 93 patches from label 7N.\n",
      "MD589, sec 194: 380 patches from label 7N_surround_200_noclass.\n",
      "Computing class label to grid indices lookup-table for section 195...\n",
      "MD589, sec 195: 59 patches from label 7N.\n",
      "MD589, sec 195: 345 patches from label 7N_surround_200_noclass.\n",
      "Computing class label to grid indices lookup-table for section 196...\n",
      "MD589, sec 196: 30 patches from label 7N.\n",
      "MD589, sec 196: 301 patches from label 7N_surround_200_noclass.\n",
      "Computing class label to grid indices lookup-table for section 197...\n",
      "MD589, sec 197: 15 patches from label 7N.\n",
      "MD589, sec 197: 279 patches from label 7N_surround_200_noclass.\n",
      "Computing class label to grid indices lookup-table for section 198...\n",
      "Computing class label to grid indices lookup-table for section 199...\n",
      "Computing class label to grid indices lookup-table for section 200...\n",
      "Computing class label to grid indices lookup-table for section 201...\n",
      "Computing class label to grid indices lookup-table for section 202...\n",
      "Computing class label to grid indices lookup-table for section 203...\n",
      "Computing class label to grid indices lookup-table for section 204...\n",
      "Computing class label to grid indices lookup-table for section 205...\n",
      "Computing class label to grid indices lookup-table for section 206...\n",
      "Computing class label to grid indices lookup-table for section 207...\n",
      "Computing class label to grid indices lookup-table for section 208...\n",
      "Computing class label to grid indices lookup-table for section 209...\n",
      "Computing class label to grid indices lookup-table for section 210...\n",
      "Computing class label to grid indices lookup-table for section 211...\n",
      "Computing class label to grid indices lookup-table for section 212...\n",
      "Computing class label to grid indices lookup-table for section 213...\n",
      "Computing class label to grid indices lookup-table for section 214...\n",
      "Computing class label to grid indices lookup-table for section 215...\n",
      "Computing class label to grid indices lookup-table for section 216...\n",
      "Computing class label to grid indices lookup-table for section 217...\n",
      "Computing class label to grid indices lookup-table for section 218...\n",
      "Computing class label to grid indices lookup-table for section 219...\n",
      "Computing class label to grid indices lookup-table for section 220...\n",
      "Computing class label to grid indices lookup-table for section 222...\n",
      "Computing class label to grid indices lookup-table for section 223...\n",
      "Computing class label to grid indices lookup-table for section 224...\n",
      "Computing class label to grid indices lookup-table for section 225...\n",
      "Computing class label to grid indices lookup-table for section 226...\n",
      "Computing class label to grid indices lookup-table for section 227...\n",
      "Computing class label to grid indices lookup-table for section 228...\n",
      "Computing class label to grid indices lookup-table for section 229...\n",
      "Computing class label to grid indices lookup-table for section 230...\n",
      "Computing class label to grid indices lookup-table for section 231...\n",
      "Computing class label to grid indices lookup-table for section 232...\n",
      "Computing class label to grid indices lookup-table for section 233...\n",
      "Computing class label to grid indices lookup-table for section 234...\n",
      "Computing class label to grid indices lookup-table for section 235...\n",
      "Computing class label to grid indices lookup-table for section 236...\n",
      "Computing class label to grid indices lookup-table for section 237...\n",
      "Computing class label to grid indices lookup-table for section 238...\n",
      "Computing class label to grid indices lookup-table for section 239...\n",
      "Computing class label to grid indices lookup-table for section 240...\n",
      "Computing class label to grid indices lookup-table for section 241...\n",
      "Computing class label to grid indices lookup-table for section 242...\n",
      "Computing class label to grid indices lookup-table for section 243...\n",
      "Computing class label to grid indices lookup-table for section 244...\n",
      "Computing class label to grid indices lookup-table for section 245...\n",
      "Computing class label to grid indices lookup-table for section 246...\n",
      "Computing class label to grid indices lookup-table for section 247...\n",
      "Computing class label to grid indices lookup-table for section 248...\n",
      "Computing class label to grid indices lookup-table for section 249...\n",
      "Computing class label to grid indices lookup-table for section 250...\n",
      "Computing class label to grid indices lookup-table for section 251...\n",
      "Computing class label to grid indices lookup-table for section 252...\n",
      "Computing class label to grid indices lookup-table for section 253...\n",
      "Computing class label to grid indices lookup-table for section 254...\n",
      "Computing class label to grid indices lookup-table for section 255...\n",
      "Computing class label to grid indices lookup-table for section 256...\n",
      "Computing class label to grid indices lookup-table for section 257...\n",
      "Computing class label to grid indices lookup-table for section 258...\n",
      "Computing class label to grid indices lookup-table for section 259...\n",
      "Computing class label to grid indices lookup-table for section 260...\n",
      "Computing class label to grid indices lookup-table for section 261...\n",
      "Computing class label to grid indices lookup-table for section 262...\n",
      "Computing class label to grid indices lookup-table for section 263...\n",
      "Computing class label to grid indices lookup-table for section 264...\n",
      "Computing class label to grid indices lookup-table for section 265...\n",
      "Computing class label to grid indices lookup-table for section 266...\n"
     ]
    },
    {
     "name": "stderr",
     "output_type": "stream",
     "text": [
      "Computing class label to grid indices lookup-table for section 267...\n",
      "Computing class label to grid indices lookup-table for section 268...\n",
      "Computing class label to grid indices lookup-table for section 269...\n",
      "Computing class label to grid indices lookup-table for section 270...\n",
      "Computing class label to grid indices lookup-table for section 271...\n",
      "Computing class label to grid indices lookup-table for section 272...\n",
      "Computing class label to grid indices lookup-table for section 273...\n",
      "Computing class label to grid indices lookup-table for section 274...\n",
      "MD589, sec 274: 4 patches from label 7N.\n",
      "MD589, sec 274: 188 patches from label 7N_surround_200_noclass.\n",
      "Computing class label to grid indices lookup-table for section 275...\n",
      "MD589, sec 275: 25 patches from label 7N.\n",
      "MD589, sec 275: 307 patches from label 7N_surround_200_noclass.\n",
      "Computing class label to grid indices lookup-table for section 276...\n",
      "MD589, sec 276: 44 patches from label 7N.\n",
      "MD589, sec 276: 324 patches from label 7N_surround_200_noclass.\n",
      "Computing class label to grid indices lookup-table for section 277...\n",
      "MD589, sec 277: 60 patches from label 7N.\n",
      "MD589, sec 277: 342 patches from label 7N_surround_200_noclass.\n",
      "Computing class label to grid indices lookup-table for section 278...\n",
      "MD589, sec 278: 79 patches from label 7N.\n",
      "MD589, sec 278: 367 patches from label 7N_surround_200_noclass.\n",
      "Computing class label to grid indices lookup-table for section 279...\n",
      "MD589, sec 279: 97 patches from label 7N.\n",
      "MD589, sec 279: 406 patches from label 7N_surround_200_noclass.\n",
      "Computing class label to grid indices lookup-table for section 280...\n",
      "MD589, sec 280: 121 patches from label 7N.\n",
      "MD589, sec 280: 424 patches from label 7N_surround_200_noclass.\n",
      "Computing class label to grid indices lookup-table for section 281...\n",
      "MD589, sec 281: 148 patches from label 7N.\n",
      "MD589, sec 281: 449 patches from label 7N_surround_200_noclass.\n",
      "Computing class label to grid indices lookup-table for section 282...\n",
      "MD589, sec 282: 170 patches from label 7N.\n",
      "MD589, sec 282: 483 patches from label 7N_surround_200_noclass.\n",
      "Computing class label to grid indices lookup-table for section 283...\n",
      "MD589, sec 283: 207 patches from label 7N.\n",
      "MD589, sec 283: 507 patches from label 7N_surround_200_noclass.\n",
      "Computing class label to grid indices lookup-table for section 284...\n",
      "MD589, sec 284: 241 patches from label 7N.\n",
      "MD589, sec 284: 531 patches from label 7N_surround_200_noclass.\n",
      "Computing class label to grid indices lookup-table for section 285...\n",
      "MD589, sec 285: 231 patches from label 7N.\n",
      "MD589, sec 285: 534 patches from label 7N_surround_200_noclass.\n",
      "Computing class label to grid indices lookup-table for section 286...\n",
      "MD589, sec 286: 223 patches from label 7N.\n",
      "MD589, sec 286: 539 patches from label 7N_surround_200_noclass.\n",
      "Computing class label to grid indices lookup-table for section 287...\n",
      "MD589, sec 287: 227 patches from label 7N.\n",
      "MD589, sec 287: 525 patches from label 7N_surround_200_noclass.\n",
      "Computing class label to grid indices lookup-table for section 288...\n",
      "MD589, sec 288: 228 patches from label 7N.\n",
      "MD589, sec 288: 526 patches from label 7N_surround_200_noclass.\n",
      "Computing class label to grid indices lookup-table for section 289...\n",
      "MD589, sec 289: 226 patches from label 7N.\n",
      "MD589, sec 289: 524 patches from label 7N_surround_200_noclass.\n",
      "Computing class label to grid indices lookup-table for section 290...\n",
      "MD589, sec 290: 224 patches from label 7N.\n",
      "MD589, sec 290: 534 patches from label 7N_surround_200_noclass.\n",
      "Computing class label to grid indices lookup-table for section 291...\n",
      "MD589, sec 291: 229 patches from label 7N.\n",
      "MD589, sec 291: 531 patches from label 7N_surround_200_noclass.\n",
      "Computing class label to grid indices lookup-table for section 292...\n",
      "MD589, sec 292: 245 patches from label 7N.\n",
      "MD589, sec 292: 541 patches from label 7N_surround_200_noclass.\n",
      "Computing class label to grid indices lookup-table for section 293...\n",
      "MD589, sec 293: 255 patches from label 7N.\n",
      "MD589, sec 293: 561 patches from label 7N_surround_200_noclass.\n",
      "Computing class label to grid indices lookup-table for section 294...\n",
      "MD589, sec 294: 267 patches from label 7N.\n",
      "MD589, sec 294: 567 patches from label 7N_surround_200_noclass.\n",
      "Computing class label to grid indices lookup-table for section 295...\n",
      "MD589, sec 295: 282 patches from label 7N.\n",
      "MD589, sec 295: 581 patches from label 7N_surround_200_noclass.\n",
      "Computing class label to grid indices lookup-table for section 296...\n",
      "MD589, sec 296: 298 patches from label 7N.\n",
      "MD589, sec 296: 572 patches from label 7N_surround_200_noclass.\n",
      "Computing class label to grid indices lookup-table for section 297...\n",
      "MD589, sec 297: 320 patches from label 7N.\n",
      "MD589, sec 297: 588 patches from label 7N_surround_200_noclass.\n",
      "Computing class label to grid indices lookup-table for section 298...\n",
      "MD589, sec 298: 308 patches from label 7N.\n",
      "MD589, sec 298: 570 patches from label 7N_surround_200_noclass.\n",
      "Computing class label to grid indices lookup-table for section 299...\n",
      "MD589, sec 299: 297 patches from label 7N.\n",
      "MD589, sec 299: 557 patches from label 7N_surround_200_noclass.\n",
      "Computing class label to grid indices lookup-table for section 301...\n",
      "MD589, sec 301: 284 patches from label 7N.\n",
      "MD589, sec 301: 541 patches from label 7N_surround_200_noclass.\n",
      "Computing class label to grid indices lookup-table for section 302...\n",
      "MD589, sec 302: 277 patches from label 7N.\n",
      "MD589, sec 302: 525 patches from label 7N_surround_200_noclass.\n",
      "Computing class label to grid indices lookup-table for section 303...\n",
      "MD589, sec 303: 270 patches from label 7N.\n",
      "MD589, sec 303: 515 patches from label 7N_surround_200_noclass.\n",
      "Computing class label to grid indices lookup-table for section 304...\n",
      "MD589, sec 304: 261 patches from label 7N.\n",
      "MD589, sec 304: 507 patches from label 7N_surround_200_noclass.\n",
      "Computing class label to grid indices lookup-table for section 305...\n",
      "MD589, sec 305: 258 patches from label 7N.\n",
      "MD589, sec 305: 509 patches from label 7N_surround_200_noclass.\n",
      "Computing class label to grid indices lookup-table for section 306...\n",
      "MD589, sec 306: 231 patches from label 7N.\n",
      "MD589, sec 306: 470 patches from label 7N_surround_200_noclass.\n",
      "Computing class label to grid indices lookup-table for section 307...\n",
      "MD589, sec 307: 206 patches from label 7N.\n",
      "MD589, sec 307: 451 patches from label 7N_surround_200_noclass.\n",
      "Computing class label to grid indices lookup-table for section 308...\n",
      "MD589, sec 308: 181 patches from label 7N.\n",
      "MD589, sec 308: 424 patches from label 7N_surround_200_noclass.\n",
      "Computing class label to grid indices lookup-table for section 309...\n",
      "MD589, sec 309: 162 patches from label 7N.\n",
      "MD589, sec 309: 418 patches from label 7N_surround_200_noclass.\n",
      "Computing class label to grid indices lookup-table for section 310...\n",
      "MD589, sec 310: 143 patches from label 7N.\n",
      "MD589, sec 310: 400 patches from label 7N_surround_200_noclass.\n",
      "Computing class label to grid indices lookup-table for section 311...\n",
      "MD589, sec 311: 123 patches from label 7N.\n",
      "MD589, sec 311: 382 patches from label 7N_surround_200_noclass.\n",
      "Computing class label to grid indices lookup-table for section 312...\n",
      "MD589, sec 312: 108 patches from label 7N.\n",
      "MD589, sec 312: 363 patches from label 7N_surround_200_noclass.\n",
      "Computing class label to grid indices lookup-table for section 313...\n",
      "MD589, sec 313: 78 patches from label 7N.\n",
      "MD589, sec 313: 330 patches from label 7N_surround_200_noclass.\n",
      "Computing class label to grid indices lookup-table for section 314...\n",
      "MD589, sec 314: 58 patches from label 7N.\n",
      "MD589, sec 314: 295 patches from label 7N_surround_200_noclass.\n",
      "Computing class label to grid indices lookup-table for section 315...\n",
      "MD589, sec 315: 39 patches from label 7N.\n",
      "MD589, sec 315: 277 patches from label 7N_surround_200_noclass.\n",
      "Computing class label to grid indices lookup-table for section 316...\n",
      "MD589, sec 316: 25 patches from label 7N.\n",
      "MD589, sec 316: 251 patches from label 7N_surround_200_noclass.\n",
      "Computing class label to grid indices lookup-table for section 317...\n",
      "MD589, sec 317: 17 patches from label 7N.\n",
      "MD589, sec 317: 249 patches from label 7N_surround_200_noclass.\n",
      "Computing class label to grid indices lookup-table for section 318...\n",
      "Computing class label to grid indices lookup-table for section 319...\n",
      "Computing class label to grid indices lookup-table for section 320...\n",
      "Computing class label to grid indices lookup-table for section 321...\n",
      "Computing class label to grid indices lookup-table for section 322...\n",
      "Computing class label to grid indices lookup-table for section 323...\n",
      "Computing class label to grid indices lookup-table for section 325...\n",
      "Computing class label to grid indices lookup-table for section 326...\n",
      "Computing class label to grid indices lookup-table for section 327...\n",
      "Computing class label to grid indices lookup-table for section 328...\n",
      "Computing class label to grid indices lookup-table for section 329...\n",
      "Computing class label to grid indices lookup-table for section 330...\n",
      "Computing class label to grid indices lookup-table for section 331...\n",
      "Computing class label to grid indices lookup-table for section 332...\n",
      "Computing class label to grid indices lookup-table for section 333...\n",
      "Computing class label to grid indices lookup-table for section 334...\n",
      "Computing class label to grid indices lookup-table for section 335...\n",
      "Computing class label to grid indices lookup-table for section 336...\n",
      "Computing class label to grid indices lookup-table for section 337...\n",
      "Computing class label to grid indices lookup-table for section 338...\n",
      "Computing class label to grid indices lookup-table for section 339...\n",
      "Computing class label to grid indices lookup-table for section 340...\n",
      "Computing class label to grid indices lookup-table for section 341...\n",
      "Computing class label to grid indices lookup-table for section 342...\n",
      "Computing class label to grid indices lookup-table for section 343...\n",
      "Computing class label to grid indices lookup-table for section 344...\n",
      "Computing class label to grid indices lookup-table for section 345...\n",
      "Computing class label to grid indices lookup-table for section 346...\n",
      "Computing class label to grid indices lookup-table for section 347...\n",
      "Computing class label to grid indices lookup-table for section 348...\n",
      "Computing class label to grid indices lookup-table for section 349...\n",
      "Computing class label to grid indices lookup-table for section 350...\n",
      "Computing class label to grid indices lookup-table for section 351...\n",
      "Computing class label to grid indices lookup-table for section 352...\n",
      "Computing class label to grid indices lookup-table for section 353...\n",
      "Computing class label to grid indices lookup-table for section 354...\n",
      "Computing class label to grid indices lookup-table for section 355...\n",
      "Computing class label to grid indices lookup-table for section 356...\n",
      "Computing class label to grid indices lookup-table for section 357...\n",
      "Computing class label to grid indices lookup-table for section 358...\n",
      "Computing class label to grid indices lookup-table for section 359...\n",
      "Computing class label to grid indices lookup-table for section 360...\n",
      "Computing class label to grid indices lookup-table for section 361...\n",
      "Computing class label to grid indices lookup-table for section 362...\n",
      "Computing class label to grid indices lookup-table for section 363...\n",
      "Computing class label to grid indices lookup-table for section 364...\n",
      "Computing class label to grid indices lookup-table for section 365...\n",
      "Computing class label to grid indices lookup-table for section 366...\n",
      "Computing class label to grid indices lookup-table for section 367...\n",
      "Computing class label to grid indices lookup-table for section 368...\n",
      "Computing class label to grid indices lookup-table for section 369...\n",
      "Computing class label to grid indices lookup-table for section 370...\n"
     ]
    }
   ],
   "source": [
    "# Option 1: Use the cached file that stores the mapping from grid-indices to labels for speed up.\n",
    "\n",
    "for stack in stacks:\n",
    "# for stack in ['MD661']:\n",
    "# for stack in ['ChatCryoJane201710']:\n",
    "\n",
    "    grid_index_class_lookup = grid_indices_lookup_allStacks[stack]\n",
    "    \n",
    "    for sec in grid_index_class_lookup.index:\n",
    "        sys.stderr.write('Computing class label to grid indices lookup-table for section %d...\\n' % sec)\n",
    "        if is_invalid(sec=sec, stack=stack):\n",
    "            continue\n",
    "\n",
    "        for label, grid_indices in grid_index_class_lookup.loc[sec].dropna().iteritems():\n",
    "            if label == 'bg' or label == 'noclass' or 'negative' in label: # Ignore bg, noclass, x_negative\n",
    "                continue\n",
    "            \n",
    "            name, side, margin, surr_name = parse_label(label)\n",
    "            \n",
    "            if name == '7N' and (margin is None or (margin is not None and int(margin) in surround_margins)):\n",
    "            \n",
    "                sys.stderr.write(\"%s, sec %d: %d patches from label %s.\\n\" % (stack, sec, len(grid_indices), label))\n",
    "    #             t = time.time()\n",
    "                for grid_idx in grid_indices:\n",
    "                    address_label_df_allStacks.loc[(stack, sec, grid_idx), label] = True\n",
    "    #             sys.stderr.write(\"%.2f s\\n\" % (time.time()-t))\n",
    "    \n",
    "del grid_indices_lookup_allStacks"
   ]
  },
  {
   "cell_type": "code",
   "execution_count": null,
   "metadata": {
    "collapsed": true,
    "scrolled": true
   },
   "outputs": [],
   "source": [
    "# Option 2: This directly converts from boundary files and does not use the cached grid-indices files.\n",
    "\n",
    "for stack in stacks:\n",
    "# for stack in ['MD661']:\n",
    "# for stack in ['ChatCryoJane201710']:\n",
    "\n",
    "    prep_id = 2\n",
    "\n",
    "    contours_df = DataManager.load_annotation_v4(stack=stack, by_human=True, suffix='contours', timestamp='latest')\n",
    "    contours = contours_df[(contours_df['orientation'] == 'sagittal') & (contours_df['downsample'] == 1)]\n",
    "    contours = contours.drop_duplicates(subset=['section', 'name', 'side', 'filename', 'downsample', 'creator'])\n",
    "\n",
    "    contours_df = convert_annotation_v3_original_to_aligned_cropped(contours, stack=stack)\n",
    "    download_from_s3(DataManager.get_thumbnail_mask_dir_v3(stack=stack, prep_id=prep_id), is_dir=True)\n",
    "\n",
    "    contours_grouped = contours_df.groupby('section')\n",
    "    \n",
    "    ##########################################\n",
    "    \n",
    "    for sec, cnt_group in contours_grouped:\n",
    "        sys.stderr.write('Computing class label to grid indices lookup-table for section %d...\\n' % sec)\n",
    "        if is_invalid(sec=sec, stack=stack):\n",
    "            continue\n",
    "        polygons_this_sec = [(contour['name'], contour['vertices']) for contour_id, contour in cnt_group.iterrows()]\n",
    "        mask_tb = DataManager.load_thumbnail_mask_v3(stack=stack, section=sec, prep_id=prep_id)\n",
    "\n",
    "        t = time.time()\n",
    "        label_to_grid_indices_map = locate_patches_v2(grid_spec=win_id_to_gridspec(win_id=5, stack=stack), \n",
    "                                                      mask_tb=mask_tb, polygons=polygons_this_sec, \\\n",
    "                                                      surround_margins=surround_margins)\n",
    "        sys.stderr.write(\"Identify in-polygon grid indices: %.2f s\\n\" % (time.time()-t))\n",
    "\n",
    "        for label, grid_indices in label_to_grid_indices_map.iteritems():\n",
    "            if label == 'bg' or label == 'noclass' or 'negative' in label: # Ignore bg, noclass, x_negative\n",
    "                continue\n",
    "            \n",
    "            if parse_label(label)[0] != '7N':\n",
    "                continue\n",
    "            \n",
    "            sys.stderr.write(\"%s, sec %d: %d patches from label %s.\\n\" % (stack, sec, len(grid_indices), label))\n",
    "#             t = time.time()\n",
    "            for grid_idx in grid_indices:\n",
    "                address_label_df_allStacks.loc[(stack, sec, grid_idx), label] = True\n",
    "#             sys.stderr.write(\"%.2f s\\n\" % (time.time()-t))\n",
    "\n",
    "    del contours_df, contours_grouped, contours"
   ]
  },
  {
   "cell_type": "code",
   "execution_count": null,
   "metadata": {
    "collapsed": true
   },
   "outputs": [],
   "source": [
    "# # Different indexing method affects speed significantly.\n",
    "\n",
    "# # Access a single element\n",
    "\n",
    "# _ = address_label_df_allStacks['VCA'][(stack, sec, np.random.randint(0,1000,1)[0])]\n",
    "# # The slowest run took 4.08 times longer than the fastest. This could mean that an intermediate result is being cached.\n",
    "# # 10000 loops, best of 3: 37.3 µs per loop\n",
    "# _ = address_label_df_allStacks.loc[(stack, sec, np.random.randint(0,1000,1)[0]), 'VCA']\n",
    "# # 259 µs per loop\n",
    "# address_label_df_allStacks.loc(axis=1)[(stack, sec, np.random.randint(0,1000,1)[0]), 'VCA']\n",
    "# # 654 ms per loop\n",
    "\n",
    "# # When access a list of elements, it is faster accessing them one by one.\n",
    "\n",
    "# print address_label_df_allStacks.loc[(stack, sec, label_to_grid_indices_map['VCA'].tolist()), 'VCA']\n",
    "# # 1 loop, best of 3: 17.5 s per loop\n",
    "\n",
    "# for grid_idx in label_to_grid_indices_map['VCA']:\n",
    "#     _ = address_label_df_allStacks.loc[(stack, sec, grid_idx), 'VCA']\n",
    "# # 10 loops, best of 3: 48.8 ms per loop"
   ]
  },
  {
   "cell_type": "code",
   "execution_count": null,
   "metadata": {
    "collapsed": true,
    "scrolled": true
   },
   "outputs": [],
   "source": [
    "# address_label_df_allStacks = {}\n",
    "    \n",
    "# for stack in set(pd.unique(addresses_df['stack'])) & set(grid_indices_lookup_allStacks.keys()):\n",
    "    \n",
    "#     address_label_df_allStacks[stack] = {}\n",
    "    \n",
    "#     for sec, grid_lookups_this_section in grid_indices_lookup_allStacks[stack].iterrows():\n",
    "#         print sec\n",
    "#         if sec != 90:\n",
    "#             break\n",
    "\n",
    "#         t = time.time()\n",
    "#         D = DataFrame(columns=grid_indices_lookup_allStacks[stack].columns, \n",
    "# #                       index=range(len(sample_locations_allStacks[stack])), \n",
    "#                     index=pd.MultiIndex.from_tuples([(stack, sec, grid_idx) \n",
    "#                                                      for grid_idx in range(len(sample_locations_allStacks[stack]))], \n",
    "#                                                     names=['stack', 'section', 'grid_idx']),\n",
    "#                   data=False)\n",
    "#         sys.stderr.write(\"construction: %.2f seconds.\\n\" % (time.time()-t))\n",
    "\n",
    "#         # Form contingency matrix\n",
    "#         t = time.time()\n",
    "#         for label, grid_indices in grid_lookups_this_section.dropna().iteritems():\n",
    "#             D[label][grid_indices] = True\n",
    "#         sys.stderr.write(\"assign: %.2f seconds.\\n\" % (time.time()-t))\n",
    "\n",
    "#         # Ignore bg(background) patches\n",
    "#         D = D[~D['bg']]\n",
    "\n",
    "#     address_label_df_allStacks[stack] = D\n",
    "\n",
    "# # This takes long. Seems unnecessary. Sticking to the contigency matrix form is sufficient.\n",
    "# #         t = time.time()\n",
    "# #         patch_labels_df = D.apply(lambda row: D.columns[np.where(row)[0]].tolist(), axis=1)\n",
    "# #         sys.stderr.write(\"convert to list: %.2f seconds.\\n\" % (time.time()-t))\n",
    "\n",
    "# #         t = time.time()\n",
    "# #         for grid_idx, labels in patch_labels_df.iteritems():\n",
    "# #             address_to_labels_map[(stack, sec, grid_idx)] = labels\n",
    "# #         sys.stderr.write(\"use address tuple as key: %.2f seconds.\\n\" % (time.time()-t))\n",
    "\n",
    "# #             t = time.time()\n",
    "# #             D.index = D.index.map(lambda grid_idx: (stack, sec, grid_idx))\n",
    "# #             sys.stderr.write(\"use address tuple as key: %.2f seconds.\\n\" % (time.time()-t))\n",
    "\n",
    "# #             address_label_df.append(D)"
   ]
  },
  {
   "cell_type": "code",
   "execution_count": null,
   "metadata": {
    "collapsed": true
   },
   "outputs": [],
   "source": [
    "# for stack in pd.unique(addresses_df['stack']):\n",
    "#     for sec, grid_lookups_this_section in grid_indices_lookup_allStacks[stack].iteritems():\n",
    "#         D = DataFrame(columns=grid_indices_lookup_allStacks[stack].columns, \n",
    "#                   index=range(len(sample_locations_allStacks[stack])), \n",
    "#                   data=False)\n",
    "#         for label, grid_indices in grid_lookups_this_section.iteritems():\n",
    "#             D[label][grid_indices] = True\n",
    "\n",
    "#         patch_labels_df = D.apply(lambda row: D.columns[np.where(row)[0]].tolist(), axis=1)\n",
    "#         [address_to_labels_map[patch_idx] for patch_idx, labels in patch_labels_df.iterrows()]"
   ]
  },
  {
   "cell_type": "code",
   "execution_count": 59,
   "metadata": {
    "collapsed": true,
    "scrolled": true
   },
   "outputs": [],
   "source": [
    "# patch_labels_df = DataFrame(columns=['labels'], index=addresses_df.index)\n",
    "# patch_labels_df['labels'] = [[] for _ in range(len(patch_labels_df))]\n",
    "\n",
    "# for stack in pd.unique(addresses_df['stack']):\n",
    "#     if stack in grid_indices_lookup_allStacks:\n",
    "#         grid_indices_lookup = grid_indices_lookup_allStacks[stack]\n",
    "#         for sec in pd.unique(addresses_df[addresses_df['stack'] == stack]['section']):\n",
    "#             print stack, sec\n",
    "#             if sec in grid_indices_lookup.index:\n",
    "#                 grid_lookups_this_section = grid_indices_lookup.loc[sec].dropna()\n",
    "#                 patches_this_section = addresses_df[(addresses_df['stack'] == stack) & (addresses_df['section'] == sec)]\n",
    "\n",
    "#                 for label, grid_indices in grid_lookups_this_section.iteritems():\n",
    "#                     m = patches_this_section['grid_idx'].isin(grid_indices)\n",
    "#                     for pi in m[m].index:\n",
    "# #                         if pi not in patch_labels_df['labels']:\n",
    "# #                             patch_labels_df.set_value(pi, 'labels', [])\n",
    "#                         patch_labels_df['labels'][pi].append(label)"
   ]
  },
  {
   "cell_type": "code",
   "execution_count": 15,
   "metadata": {
    "collapsed": true
   },
   "outputs": [],
   "source": [
    "# whether_patches_have_desired_label = patch_labels_df['labels'].map(lambda labels: label in labels)"
   ]
  },
  {
   "cell_type": "code",
   "execution_count": 16,
   "metadata": {
    "collapsed": true
   },
   "outputs": [],
   "source": [
    "# address_tuples_with_desired_label = \\\n",
    "# addresses_with_desired_label.apply(lambda addr: (addr['stack'], addr['section'], addr['location']), axis=1).tolist()"
   ]
  },
  {
   "cell_type": "code",
   "execution_count": 40,
   "metadata": {
    "collapsed": true
   },
   "outputs": [],
   "source": [
    "# patches_with_desired_label = \\\n",
    "# extract_patches_given_locations_multiple_sections(address_tuples_with_desired_label, version='gray', win_id=win_id,\n",
    "#                                                  location_or_grid_index='grid_index')"
   ]
  },
  {
   "cell_type": "code",
   "execution_count": 41,
   "metadata": {
    "collapsed": true,
    "scrolled": true
   },
   "outputs": [],
   "source": [
    "# display_images_in_grids(patches_with_desired_label[:100], nc=10, cmap=plt.cm.gray)"
   ]
  },
  {
   "cell_type": "code",
   "execution_count": 16,
   "metadata": {
    "collapsed": true,
    "scrolled": true
   },
   "outputs": [],
   "source": [
    "# images_16bit = {(st, sec): DataManager.load_image_v2(stack=st, prep_id=2, section=sec)[...,2]\n",
    "#          for st, sec in set([(st, sec) for st, sec, gi in address_tuples_with_desired_label])}"
   ]
  },
  {
   "cell_type": "code",
   "execution_count": 23,
   "metadata": {
    "collapsed": true
   },
   "outputs": [],
   "source": [
    "# Using cv2.,imread is much faster than skimage.imread.\n",
    "\n",
    "# t = time.time()\n",
    "# img = DataManager.load_image_v2(stack='MD661', prep_id=2, section=200)\n",
    "# # 142s\n",
    "# img = cv2.imread(DataManager.get_image_filepath_v2(stack='MD661', prep_id=2, section=200), -1)\n",
    "# # 17s\n",
    "# print time.time() - t"
   ]
  },
  {
   "cell_type": "code",
   "execution_count": 56,
   "metadata": {
    "collapsed": true
   },
   "outputs": [],
   "source": [
    "# label = '7N'\n",
    "# addresses_with_desired_label = address_label_df_allStacks[address_label_df_allStacks[label] == True].index\n",
    "# address_tuples_with_desired_label = addresses_with_desired_label.tolist()"
   ]
  },
  {
   "cell_type": "code",
   "execution_count": 181,
   "metadata": {
    "collapsed": true
   },
   "outputs": [],
   "source": [
    "# features_df = DataFrame(index=address_multidx, columns=scheme_transform_multiindex)"
   ]
  },
  {
   "cell_type": "markdown",
   "metadata": {},
   "source": [
    "# Sample training addresses"
   ]
  },
  {
   "cell_type": "code",
   "execution_count": 55,
   "metadata": {
    "collapsed": true
   },
   "outputs": [],
   "source": [
    "# structure = 'Amb'\n",
    "structure = '7N'\n",
    "# structure = 'SNR'\n",
    "positive_labels = [structure]\n",
    "negative_labels = get_negative_labels(structure, 'neg_has_all_surround', margin_um=200, \n",
    "                                      labels_found=address_label_df_allStacks.columns)\n",
    "# negative_labels = get_negative_labels(structure, 'neg_has_all_surround', margin_um=500, \n",
    "#                                       labels_found=address_label_df_allStacks.columns)"
   ]
  },
  {
   "cell_type": "code",
   "execution_count": 14,
   "metadata": {
    "collapsed": true
   },
   "outputs": [],
   "source": [
    "DataManager.enable_image_cache()"
   ]
  },
  {
   "cell_type": "code",
   "execution_count": 56,
   "metadata": {
    "scrolled": true
   },
   "outputs": [
    {
     "name": "stdout",
     "output_type": "stream",
     "text": [
      "Section 122 2 positive patches provided.\n",
      "Section 123 40 positive patches provided.\n",
      "Section 124 61 positive patches provided.\n",
      "Section 125 86 positive patches provided.\n",
      "Section 126 127 positive patches provided.\n",
      "Section 127 140 positive patches provided.\n",
      "Section 128 156 positive patches provided.\n",
      "Section 129 193 positive patches provided.\n",
      "Section 130 205 positive patches provided.\n",
      "Section 131 230 positive patches provided.\n",
      "Section 132 243 positive patches provided.\n",
      "Section 133 248 positive patches provided.\n",
      "Section 134 247 positive patches provided.\n",
      "Section 135 239 positive patches provided.\n",
      "Section 136 233 positive patches provided.\n",
      "Section 137 210 positive patches provided.\n",
      "Section 138 194 positive patches provided.\n",
      "Section 139 186 positive patches provided.\n",
      "Section 140 176 positive patches provided.\n",
      "Section 141 187 positive patches provided.\n",
      "Section 142 212 positive patches provided.\n",
      "Section 143 235 positive patches provided.\n",
      "Section 144 255 positive patches provided.\n",
      "Section 145 277 positive patches provided.\n",
      "Section 146 276 positive patches provided.\n",
      "Section 147 265 positive patches provided.\n",
      "Section 148 226 positive patches provided.\n",
      "Section 149 201 positive patches provided.\n",
      "Section 150 183 positive patches provided.\n",
      "Section 151 119 positive patches provided.\n",
      "Section 152 73 positive patches provided.\n",
      "Section 153 28 positive patches provided.\n",
      "Section 229 22 positive patches provided.\n",
      "Section 230 38 positive patches provided.\n",
      "Section 231 64 positive patches provided.\n",
      "Section 232 97 positive patches provided.\n",
      "Section 233 109 positive patches provided.\n",
      "Section 234 134 positive patches provided.\n",
      "Section 235 141 positive patches provided.\n",
      "Section 236 149 positive patches provided.\n",
      "Section 237 152 positive patches provided.\n",
      "Section 238 156 positive patches provided.\n",
      "Section 239 154 positive patches provided.\n",
      "Section 240 147 positive patches provided.\n",
      "Section 241 142 positive patches provided.\n",
      "Section 242 141 positive patches provided.\n",
      "Section 243 138 positive patches provided.\n",
      "Section 244 146 positive patches provided.\n",
      "Section 245 151 positive patches provided.\n",
      "Section 246 176 positive patches provided.\n",
      "Section 247 187 positive patches provided.\n",
      "Section 248 200 positive patches provided.\n",
      "Section 249 202 positive patches provided.\n",
      "Section 250 207 positive patches provided.\n",
      "Section 251 218 positive patches provided.\n",
      "Section 252 220 positive patches provided.\n",
      "Section 253 221 positive patches provided.\n",
      "Section 254 222 positive patches provided.\n",
      "Section 255 218 positive patches provided.\n",
      "Section 256 216 positive patches provided.\n",
      "Section 257 203 positive patches provided.\n",
      "Section 258 196 positive patches provided.\n",
      "Section 259 176 positive patches provided.\n",
      "Section 260 156 positive patches provided.\n",
      "Section 261 144 positive patches provided.\n",
      "Section 262 113 positive patches provided.\n",
      "Section 263 90 positive patches provided.\n",
      "Section 264 71 positive patches provided.\n",
      "Section 265 27 positive patches provided.\n",
      "Section 266 9 positive patches provided.\n",
      "Section 152 provides 32 positive patches.\n",
      "Section 153 provides 49 positive patches.\n",
      "Section 154 provides 75 positive patches.\n",
      "Section 155 provides 108 positive patches.\n",
      "Section 156 provides 125 positive patches.\n",
      "Section 157 provides 146 positive patches.\n",
      "Section 158 provides 169 positive patches.\n",
      "Section 159 provides 190 positive patches.\n",
      "Section 160 provides 224 positive patches.\n",
      "Section 161 provides 230 positive patches.\n",
      "Section 162 provides 238 positive patches.\n",
      "Section 163 provides 251 positive patches.\n",
      "Section 164 provides 261 positive patches.\n",
      "Section 165 provides 280 positive patches.\n",
      "Section 166 provides 268 positive patches.\n",
      "Section 167 provides 265 positive patches.\n",
      "Section 168 provides 257 positive patches.\n",
      "Section 169 provides 252 positive patches.\n",
      "Section 170 provides 244 positive patches.\n",
      "Section 171 provides 235 positive patches.\n",
      "Section 172 provides 233 positive patches.\n",
      "Section 173 provides 231 positive patches.\n",
      "Section 174 provides 224 positive patches.\n",
      "Section 175 provides 223 positive patches.\n",
      "Section 176 provides 182 positive patches.\n",
      "Section 177 provides 137 positive patches.\n",
      "Section 178 provides 149 positive patches.\n",
      "Section 179 provides 166 positive patches.\n",
      "Section 180 provides 187 positive patches.\n",
      "Section 181 provides 191 positive patches.\n",
      "Section 182 provides 202 positive patches.\n",
      "Section 183 provides 213 positive patches.\n",
      "Section 184 provides 223 positive patches.\n",
      "Section 185 provides 243 positive patches.\n",
      "Section 186 provides 225 positive patches.\n",
      "Section 187 provides 212 positive patches.\n",
      "Section 188 provides 213 positive patches.\n",
      "Section 189 provides 203 positive patches.\n",
      "Section 190 provides 198 positive patches.\n",
      "Section 191 provides 158 positive patches.\n",
      "Section 192 provides 135 positive patches.\n",
      "Section 193 provides 104 positive patches.\n",
      "Section 194 provides 93 positive patches.\n",
      "Section 195 provides 59 positive patches.\n",
      "Section 196 provides 30 positive patches.\n",
      "Section 197 provides 15 positive patches.\n",
      "Section 274 provides 4 positive patches.\n",
      "Section 275 provides 25 positive patches.\n",
      "Section 276 provides 44 positive patches.\n",
      "Section 277 provides 60 positive patches.\n",
      "Section 278 provides 79 positive patches.\n",
      "Section 279 provides 97 positive patches.\n",
      "Section 280 provides 121 positive patches.\n",
      "Section 281 provides 148 positive patches.\n",
      "Section 282 provides 170 positive patches.\n",
      "Section 283 provides 207 positive patches.\n",
      "Section 284 provides 241 positive patches.\n",
      "Section 285 provides 231 positive patches.\n",
      "Section 286 provides 223 positive patches.\n",
      "Section 287 provides 227 positive patches.\n",
      "Section 288 provides 228 positive patches.\n",
      "Section 289 provides 226 positive patches.\n",
      "Section 290 provides 224 positive patches.\n",
      "Section 291 provides 229 positive patches.\n",
      "Section 292 provides 245 positive patches.\n",
      "Section 293 provides 255 positive patches.\n",
      "Section 294 provides 267 positive patches.\n",
      "Section 295 provides 282 positive patches.\n",
      "Section 296 provides 298 positive patches.\n",
      "Section 297 provides 320 positive patches.\n",
      "Section 298 provides 308 positive patches.\n",
      "Section 299 provides 297 positive patches.\n",
      "Section 301 provides 284 positive patches.\n",
      "Section 302 provides 277 positive patches.\n",
      "Section 303 provides 270 positive patches.\n",
      "Section 304 provides 261 positive patches.\n",
      "Section 305 provides 258 positive patches.\n",
      "Section 306 provides 231 positive patches.\n",
      "Section 307 provides 206 positive patches.\n",
      "Section 308 provides 181 positive patches.\n",
      "Section 309 provides 162 positive patches.\n",
      "Section 310 provides 143 positive patches.\n",
      "Section 311 provides 123 positive patches.\n",
      "Section 312 provides 108 positive patches.\n",
      "Section 313 provides 78 positive patches.\n",
      "Section 314 provides 58 positive patches.\n",
      "Section 315 provides 39 positive patches.\n",
      "Section 316 provides 25 positive patches.\n",
      "Section 317 provides 17 positive patches.\n",
      "# positive train = 1825\n",
      "# positive test = 1545\n"
     ]
    }
   ],
   "source": [
    "train_stack = 'MD595'\n",
    "# train_stack = 'MD585'\n",
    "# train_stack = 'MD661'\n",
    "\n",
    "test_stack = 'MD589'\n",
    "# test_stack = 'ChatCryoJane201710'\n",
    "# test_stack = 'MD661'\n",
    "\n",
    "q = address_label_df_allStacks[address_label_df_allStacks[positive_labels].any(axis=1)]\n",
    "all_sections = np.unique(q.loc[train_stack].index.get_level_values('section'))\n",
    "train_sections = [] # sections that contain patches of relevant classes.\n",
    "for sec in all_sections:\n",
    "    try:\n",
    "        if len(q.loc[train_stack, sec].index.values.tolist()) > 0:\n",
    "            train_sections.append(sec)\n",
    "            print 'Section', sec, len(q.loc[train_stack, sec].index.values.tolist()), 'positive patches provided.'\n",
    "    except:\n",
    "        pass\n",
    "    \n",
    "# print train_sections\n",
    "n_train_sections = 10\n",
    "# n_train_sections = len(train_sections)\n",
    "random_train_sections = np.random.choice(train_sections, min(len(train_sections), n_train_sections), replace=False)\n",
    "\n",
    "positive_addresses_traindata = address_label_df_allStacks[address_label_df_allStacks[positive_labels].any(axis=1)].loc[[train_stack], random_train_sections, :].index.values.tolist() \n",
    "negative_addresses_traindata = address_label_df_allStacks[address_label_df_allStacks[negative_labels].any(axis=1)].loc[[train_stack], random_train_sections, :].index.values.tolist() \n",
    "\n",
    "q = address_label_df_allStacks[address_label_df_allStacks[positive_labels].any(axis=1)]\n",
    "all_sections = np.unique(q.loc[test_stack].index.get_level_values('section'))\n",
    "test_sections = [] # sections that contain patches of relevant classes.\n",
    "for sec in all_sections:\n",
    "    try:\n",
    "        if len(q.loc[test_stack, sec].index.values.tolist()) > 0:\n",
    "            test_sections.append(sec)\n",
    "            print 'Section', sec, 'provides', len(q.loc[test_stack, sec].index.values.tolist()), 'positive patches.'\n",
    "    except:\n",
    "        pass\n",
    "\n",
    "n_test_sections = 10\n",
    "random_test_sections = np.random.choice(test_sections, min(len(test_sections), n_test_sections), replace=False)\n",
    "\n",
    "positive_addresses_testdata = address_label_df_allStacks[address_label_df_allStacks[positive_labels].any(axis=1)].loc[[test_stack], random_test_sections, :].index.values.tolist()\n",
    "negative_addresses_testdata = address_label_df_allStacks[address_label_df_allStacks[negative_labels].any(axis=1)].loc[[test_stack], random_test_sections, :].index.values.tolist()\n",
    "\n",
    "\n",
    "print '# positive train =', len(positive_addresses_traindata)\n",
    "print '# positive test =', len(positive_addresses_testdata)"
   ]
  },
  {
   "cell_type": "code",
   "execution_count": 16,
   "metadata": {
    "collapsed": true
   },
   "outputs": [],
   "source": [
    "positive_addresses = address_label_df_allStacks[address_label_df_allStacks[positive_labels].any(axis=1)].index.values.tolist()\n",
    "negative_addresses = address_label_df_allStacks[address_label_df_allStacks[negative_labels].any(axis=1)].index.values.tolist()"
   ]
  },
  {
   "cell_type": "code",
   "execution_count": 16,
   "metadata": {
    "collapsed": true
   },
   "outputs": [],
   "source": [
    "positive_addresses = address_label_df_allStacks[address_label_df_allStacks[positive_labels].any(axis=1)].loc[['ChatCryoJane201710']].index.values.tolist()\n",
    "negative_addresses = address_label_df_allStacks[address_label_df_allStacks[negative_labels].any(axis=1)].loc[['ChatCryoJane201710']].index.values.tolist()"
   ]
  },
  {
   "cell_type": "code",
   "execution_count": 152,
   "metadata": {
    "collapsed": true
   },
   "outputs": [],
   "source": [
    "positive_addresses = address_label_df_allStacks[address_label_df_allStacks[positive_labels].any(axis=1)].loc[['MD661']].index.values.tolist()\n",
    "negative_addresses = address_label_df_allStacks[address_label_df_allStacks[negative_labels].any(axis=1)].loc[['MD661']].index.values.tolist()"
   ]
  },
  {
   "cell_type": "code",
   "execution_count": 19,
   "metadata": {
    "scrolled": true
   },
   "outputs": [
    {
     "name": "stdout",
     "output_type": "stream",
     "text": [
      "Section 88 70 positive patches provided.\n",
      "Section 89 108 positive patches provided.\n",
      "Section 90 184 positive patches provided.\n",
      "Section 91 209 positive patches provided.\n",
      "Section 92 237 positive patches provided.\n",
      "Section 93 265 positive patches provided.\n",
      "Section 94 301 positive patches provided.\n",
      "Section 95 338 positive patches provided.\n",
      "Section 96 391 positive patches provided.\n",
      "Section 97 434 positive patches provided.\n",
      "Section 98 484 positive patches provided.\n",
      "Section 99 555 positive patches provided.\n",
      "Section 100 604 positive patches provided.\n",
      "Section 101 677 positive patches provided.\n",
      "Section 102 697 positive patches provided.\n",
      "Section 103 727 positive patches provided.\n",
      "Section 104 759 positive patches provided.\n",
      "Section 105 798 positive patches provided.\n",
      "Section 106 802 positive patches provided.\n",
      "Section 107 813 positive patches provided.\n",
      "Section 108 844 positive patches provided.\n",
      "Section 109 740 positive patches provided.\n",
      "Section 110 640 positive patches provided.\n",
      "Section 111 592 positive patches provided.\n",
      "Section 112 561 positive patches provided.\n",
      "Section 113 572 positive patches provided.\n",
      "Section 114 591 positive patches provided.\n",
      "Section 115 639 positive patches provided.\n",
      "Section 116 619 positive patches provided.\n",
      "Section 117 622 positive patches provided.\n",
      "Section 118 699 positive patches provided.\n",
      "Section 119 764 positive patches provided.\n",
      "Section 120 838 positive patches provided.\n",
      "Section 121 817 positive patches provided.\n",
      "Section 122 794 positive patches provided.\n",
      "Section 123 782 positive patches provided.\n",
      "Section 124 816 positive patches provided.\n",
      "Section 125 857 positive patches provided.\n",
      "Section 126 908 positive patches provided.\n",
      "Section 127 961 positive patches provided.\n",
      "Section 128 776 positive patches provided.\n",
      "Section 129 576 positive patches provided.\n",
      "Section 130 481 positive patches provided.\n",
      "Section 131 387 positive patches provided.\n",
      "Section 132 314 positive patches provided.\n",
      "Section 133 242 positive patches provided.\n",
      "Section 134 73 positive patches provided.\n"
     ]
    }
   ],
   "source": [
    "q = address_label_df_allStacks[address_label_df_allStacks[positive_labels].any(axis=1)]\n",
    "all_sections = np.unique(q.loc['ChatCryoJane201710'].index.get_level_values('section'))\n",
    "train_sections = [] # sections that contain patches of relevant classes.\n",
    "for sec in all_sections:\n",
    "    try:\n",
    "        if len(q.loc['ChatCryoJane201710', sec].index.values.tolist()) > 0:\n",
    "            train_sections.append(sec)\n",
    "            print 'Section', sec, len(q.loc['ChatCryoJane201710', sec].index.values.tolist()), 'positive patches provided.'\n",
    "    except:\n",
    "        pass\n",
    "    \n",
    "# print train_sections\n",
    "n_train_sections = 3\n",
    "random_train_sections = np.random.choice(train_sections, min(len(train_sections), n_train_sections), replace=False)\n",
    "\n",
    "positive_addresses_traindata = address_label_df_allStacks[address_label_df_allStacks[positive_labels].any(axis=1)].loc[['ChatCryoJane201710'], random_train_sections, :].index.values.tolist() \n",
    "negative_addresses_traindata = address_label_df_allStacks[address_label_df_allStacks[negative_labels].any(axis=1)].loc[['ChatCryoJane201710'], random_train_sections, :].index.values.tolist() \n",
    "\n",
    "test_sections = [s for s in train_sections if s not in random_train_sections]\n",
    "positive_addresses_testdata = address_label_df_allStacks[address_label_df_allStacks[positive_labels].any(axis=1)].loc[['ChatCryoJane201710'], test_sections, :].index.values.tolist() \n",
    "negative_addresses_testdata = address_label_df_allStacks[address_label_df_allStacks[negative_labels].any(axis=1)].loc[['ChatCryoJane201710'], test_sections, :].index.values.tolist() "
   ]
  },
  {
   "cell_type": "code",
   "execution_count": 332,
   "metadata": {},
   "outputs": [
    {
     "name": "stdout",
     "output_type": "stream",
     "text": [
      "rm -rf \"/home/yuncong/CSHL_volumes/atlasV5/atlasV5_down32_scoreVolume/score_volumes/atlasV5_down32_scoreVolume_6N_R.bp\" && mkdir -p \"/home/yuncong/CSHL_volumes/atlasV5/atlasV5_down32_scoreVolume/score_volumes\"\n",
      "aws s3 cp \"s3://mousebrainatlas-data/CSHL_volumes/atlasV5/atlasV5_down32_scoreVolume/score_volumes/atlasV5_down32_scoreVolume_6N_R.bp\" \"/home/yuncong/CSHL_volumes/atlasV5/atlasV5_down32_scoreVolume/score_volumes/atlasV5_down32_scoreVolume_6N_R.bp\"\n",
      "rm -rf \"/home/yuncong/CSHL_volumes/atlasV5/atlasV5_down32_scoreVolume/score_volumes/atlasV5_down32_scoreVolume_7N_R.bp\" && mkdir -p \"/home/yuncong/CSHL_volumes/atlasV5/atlasV5_down32_scoreVolume/score_volumes\"\n",
      "aws s3 cp \"s3://mousebrainatlas-data/CSHL_volumes/atlasV5/atlasV5_down32_scoreVolume/score_volumes/atlasV5_down32_scoreVolume_7N_R.bp\" \"/home/yuncong/CSHL_volumes/atlasV5/atlasV5_down32_scoreVolume/score_volumes/atlasV5_down32_scoreVolume_7N_R.bp\"\n",
      "rm -rf \"/home/yuncong/CSHL_volumes/atlasV5/atlasV5_down32_scoreVolume/score_volumes/atlasV5_down32_scoreVolume_7n_L.bp\" && mkdir -p \"/home/yuncong/CSHL_volumes/atlasV5/atlasV5_down32_scoreVolume/score_volumes\"\n",
      "aws s3 cp \"s3://mousebrainatlas-data/CSHL_volumes/atlasV5/atlasV5_down32_scoreVolume/score_volumes/atlasV5_down32_scoreVolume_7n_L.bp\" \"/home/yuncong/CSHL_volumes/atlasV5/atlasV5_down32_scoreVolume/score_volumes/atlasV5_down32_scoreVolume_7n_L.bp\"\n",
      "rm -rf \"/home/yuncong/CSHL_volumes/atlasV5/atlasV5_down32_scoreVolume/score_volumes/atlasV5_down32_scoreVolume_7n_R.bp\" && mkdir -p \"/home/yuncong/CSHL_volumes/atlasV5/atlasV5_down32_scoreVolume/score_volumes\"\n",
      "aws s3 cp \"s3://mousebrainatlas-data/CSHL_volumes/atlasV5/atlasV5_down32_scoreVolume/score_volumes/atlasV5_down32_scoreVolume_7n_R.bp\" \"/home/yuncong/CSHL_volumes/atlasV5/atlasV5_down32_scoreVolume/score_volumes/atlasV5_down32_scoreVolume_7n_R.bp\"\n",
      "rm -rf \"/home/yuncong/CSHL_volumes/atlasV5/atlasV5_down32_scoreVolume/score_volumes/atlasV5_down32_scoreVolume_Amb_L.bp\" && mkdir -p \"/home/yuncong/CSHL_volumes/atlasV5/atlasV5_down32_scoreVolume/score_volumes\"\n",
      "aws s3 cp \"s3://mousebrainatlas-data/CSHL_volumes/atlasV5/atlasV5_down32_scoreVolume/score_volumes/atlasV5_down32_scoreVolume_Amb_L.bp\" \"/home/yuncong/CSHL_volumes/atlasV5/atlasV5_down32_scoreVolume/score_volumes/atlasV5_down32_scoreVolume_Amb_L.bp\"\n",
      "rm -rf \"/home/yuncong/CSHL_volumes/atlasV5/atlasV5_down32_scoreVolume/score_volumes/atlasV5_down32_scoreVolume_Amb_R.bp\" && mkdir -p \"/home/yuncong/CSHL_volumes/atlasV5/atlasV5_down32_scoreVolume/score_volumes\"\n",
      "aws s3 cp \"s3://mousebrainatlas-data/CSHL_volumes/atlasV5/atlasV5_down32_scoreVolume/score_volumes/atlasV5_down32_scoreVolume_Amb_R.bp\" \"/home/yuncong/CSHL_volumes/atlasV5/atlasV5_down32_scoreVolume/score_volumes/atlasV5_down32_scoreVolume_Amb_R.bp\"\n",
      "rm -rf \"/home/yuncong/CSHL_volumes/atlasV5/atlasV5_down32_scoreVolume/score_volumes/atlasV5_down32_scoreVolume_LC_L.bp\" && mkdir -p \"/home/yuncong/CSHL_volumes/atlasV5/atlasV5_down32_scoreVolume/score_volumes\"\n",
      "aws s3 cp \"s3://mousebrainatlas-data/CSHL_volumes/atlasV5/atlasV5_down32_scoreVolume/score_volumes/atlasV5_down32_scoreVolume_LC_L.bp\" \"/home/yuncong/CSHL_volumes/atlasV5/atlasV5_down32_scoreVolume/score_volumes/atlasV5_down32_scoreVolume_LC_L.bp\"\n",
      "rm -rf \"/home/yuncong/CSHL_volumes/atlasV5/atlasV5_down32_scoreVolume/score_volumes/atlasV5_down32_scoreVolume_LC_R.bp\" && mkdir -p \"/home/yuncong/CSHL_volumes/atlasV5/atlasV5_down32_scoreVolume/score_volumes\"\n",
      "aws s3 cp \"s3://mousebrainatlas-data/CSHL_volumes/atlasV5/atlasV5_down32_scoreVolume/score_volumes/atlasV5_down32_scoreVolume_LC_R.bp\" \"/home/yuncong/CSHL_volumes/atlasV5/atlasV5_down32_scoreVolume/score_volumes/atlasV5_down32_scoreVolume_LC_R.bp\"\n",
      "rm -rf \"/home/yuncong/CSHL_volumes/atlasV5/atlasV5_down32_scoreVolume/score_volumes/atlasV5_down32_scoreVolume_LRt_L.bp\" && mkdir -p \"/home/yuncong/CSHL_volumes/atlasV5/atlasV5_down32_scoreVolume/score_volumes\"\n",
      "aws s3 cp \"s3://mousebrainatlas-data/CSHL_volumes/atlasV5/atlasV5_down32_scoreVolume/score_volumes/atlasV5_down32_scoreVolume_LRt_L.bp\" \"/home/yuncong/CSHL_volumes/atlasV5/atlasV5_down32_scoreVolume/score_volumes/atlasV5_down32_scoreVolume_LRt_L.bp\"\n",
      "rm -rf \"/home/yuncong/CSHL_volumes/atlasV5/atlasV5_down32_scoreVolume/score_volumes/atlasV5_down32_scoreVolume_LRt_R.bp\" && mkdir -p \"/home/yuncong/CSHL_volumes/atlasV5/atlasV5_down32_scoreVolume/score_volumes\"\n",
      "aws s3 cp \"s3://mousebrainatlas-data/CSHL_volumes/atlasV5/atlasV5_down32_scoreVolume/score_volumes/atlasV5_down32_scoreVolume_LRt_R.bp\" \"/home/yuncong/CSHL_volumes/atlasV5/atlasV5_down32_scoreVolume/score_volumes/atlasV5_down32_scoreVolume_LRt_R.bp\"\n",
      "rm -rf \"/home/yuncong/CSHL_volumes/atlasV5/atlasV5_down32_scoreVolume/score_volumes/atlasV5_down32_scoreVolume_Pn_L.bp\" && mkdir -p \"/home/yuncong/CSHL_volumes/atlasV5/atlasV5_down32_scoreVolume/score_volumes\"\n",
      "aws s3 cp \"s3://mousebrainatlas-data/CSHL_volumes/atlasV5/atlasV5_down32_scoreVolume/score_volumes/atlasV5_down32_scoreVolume_Pn_L.bp\" \"/home/yuncong/CSHL_volumes/atlasV5/atlasV5_down32_scoreVolume/score_volumes/atlasV5_down32_scoreVolume_Pn_L.bp\"\n",
      "rm -rf \"/home/yuncong/CSHL_volumes/atlasV5/atlasV5_down32_scoreVolume/score_volumes/atlasV5_down32_scoreVolume_Pn_R.bp\" && mkdir -p \"/home/yuncong/CSHL_volumes/atlasV5/atlasV5_down32_scoreVolume/score_volumes\"\n",
      "aws s3 cp \"s3://mousebrainatlas-data/CSHL_volumes/atlasV5/atlasV5_down32_scoreVolume/score_volumes/atlasV5_down32_scoreVolume_Pn_R.bp\" \"/home/yuncong/CSHL_volumes/atlasV5/atlasV5_down32_scoreVolume/score_volumes/atlasV5_down32_scoreVolume_Pn_R.bp\"\n",
      "rm -rf \"/home/yuncong/CSHL_volumes/atlasV5/atlasV5_down32_scoreVolume/score_volumes/atlasV5_down32_scoreVolume_Tz_L.bp\" && mkdir -p \"/home/yuncong/CSHL_volumes/atlasV5/atlasV5_down32_scoreVolume/score_volumes\"\n",
      "aws s3 cp \"s3://mousebrainatlas-data/CSHL_volumes/atlasV5/atlasV5_down32_scoreVolume/score_volumes/atlasV5_down32_scoreVolume_Tz_L.bp\" \"/home/yuncong/CSHL_volumes/atlasV5/atlasV5_down32_scoreVolume/score_volumes/atlasV5_down32_scoreVolume_Tz_L.bp\"\n",
      "rm -rf \"/home/yuncong/CSHL_volumes/atlasV5/atlasV5_down32_scoreVolume/score_volumes/atlasV5_down32_scoreVolume_Tz_R.bp\" && mkdir -p \"/home/yuncong/CSHL_volumes/atlasV5/atlasV5_down32_scoreVolume/score_volumes\"\n",
      "aws s3 cp \"s3://mousebrainatlas-data/CSHL_volumes/atlasV5/atlasV5_down32_scoreVolume/score_volumes/atlasV5_down32_scoreVolume_Tz_R.bp\" \"/home/yuncong/CSHL_volumes/atlasV5/atlasV5_down32_scoreVolume/score_volumes/atlasV5_down32_scoreVolume_Tz_R.bp\"\n",
      "rm -rf \"/home/yuncong/CSHL_volumes/atlasV5/atlasV5_down32_scoreVolume/score_volumes/atlasV5_down32_scoreVolume_VLL_L.bp\" && mkdir -p \"/home/yuncong/CSHL_volumes/atlasV5/atlasV5_down32_scoreVolume/score_volumes\"\n",
      "aws s3 cp \"s3://mousebrainatlas-data/CSHL_volumes/atlasV5/atlasV5_down32_scoreVolume/score_volumes/atlasV5_down32_scoreVolume_VLL_L.bp\" \"/home/yuncong/CSHL_volumes/atlasV5/atlasV5_down32_scoreVolume/score_volumes/atlasV5_down32_scoreVolume_VLL_L.bp\"\n",
      "rm -rf \"/home/yuncong/CSHL_volumes/atlasV5/atlasV5_down32_scoreVolume/score_volumes/atlasV5_down32_scoreVolume_VLL_R.bp\" && mkdir -p \"/home/yuncong/CSHL_volumes/atlasV5/atlasV5_down32_scoreVolume/score_volumes\"\n",
      "aws s3 cp \"s3://mousebrainatlas-data/CSHL_volumes/atlasV5/atlasV5_down32_scoreVolume/score_volumes/atlasV5_down32_scoreVolume_VLL_R.bp\" \"/home/yuncong/CSHL_volumes/atlasV5/atlasV5_down32_scoreVolume/score_volumes/atlasV5_down32_scoreVolume_VLL_R.bp\"\n",
      "rm -rf \"/home/yuncong/CSHL_volumes/atlasV5/atlasV5_down32_scoreVolume/score_volumes/atlasV5_down32_scoreVolume_RMC_L.bp\" && mkdir -p \"/home/yuncong/CSHL_volumes/atlasV5/atlasV5_down32_scoreVolume/score_volumes\"\n",
      "aws s3 cp \"s3://mousebrainatlas-data/CSHL_volumes/atlasV5/atlasV5_down32_scoreVolume/score_volumes/atlasV5_down32_scoreVolume_RMC_L.bp\" \"/home/yuncong/CSHL_volumes/atlasV5/atlasV5_down32_scoreVolume/score_volumes/atlasV5_down32_scoreVolume_RMC_L.bp\"\n",
      "rm -rf \"/home/yuncong/CSHL_volumes/atlasV5/atlasV5_down32_scoreVolume/score_volumes/atlasV5_down32_scoreVolume_RMC_R.bp\" && mkdir -p \"/home/yuncong/CSHL_volumes/atlasV5/atlasV5_down32_scoreVolume/score_volumes\"\n",
      "aws s3 cp \"s3://mousebrainatlas-data/CSHL_volumes/atlasV5/atlasV5_down32_scoreVolume/score_volumes/atlasV5_down32_scoreVolume_RMC_R.bp\" \"/home/yuncong/CSHL_volumes/atlasV5/atlasV5_down32_scoreVolume/score_volumes/atlasV5_down32_scoreVolume_RMC_R.bp\"\n"
     ]
    },
    {
     "name": "stdout",
     "output_type": "stream",
     "text": [
      "rm -rf \"/home/yuncong/CSHL_volumes/atlasV5/atlasV5_down32_scoreVolume/score_volumes/atlasV5_down32_scoreVolume_SNC_L.bp\" && mkdir -p \"/home/yuncong/CSHL_volumes/atlasV5/atlasV5_down32_scoreVolume/score_volumes\"\n",
      "aws s3 cp \"s3://mousebrainatlas-data/CSHL_volumes/atlasV5/atlasV5_down32_scoreVolume/score_volumes/atlasV5_down32_scoreVolume_SNC_L.bp\" \"/home/yuncong/CSHL_volumes/atlasV5/atlasV5_down32_scoreVolume/score_volumes/atlasV5_down32_scoreVolume_SNC_L.bp\"\n",
      "rm -rf \"/home/yuncong/CSHL_volumes/atlasV5/atlasV5_down32_scoreVolume/score_volumes/atlasV5_down32_scoreVolume_SNC_R.bp\" && mkdir -p \"/home/yuncong/CSHL_volumes/atlasV5/atlasV5_down32_scoreVolume/score_volumes\"\n",
      "aws s3 cp \"s3://mousebrainatlas-data/CSHL_volumes/atlasV5/atlasV5_down32_scoreVolume/score_volumes/atlasV5_down32_scoreVolume_SNC_R.bp\" \"/home/yuncong/CSHL_volumes/atlasV5/atlasV5_down32_scoreVolume/score_volumes/atlasV5_down32_scoreVolume_SNC_R.bp\"\n",
      "rm -rf \"/home/yuncong/CSHL_volumes/atlasV5/atlasV5_down32_scoreVolume/score_volumes/atlasV5_down32_scoreVolume_SNR_R.bp\" && mkdir -p \"/home/yuncong/CSHL_volumes/atlasV5/atlasV5_down32_scoreVolume/score_volumes\"\n",
      "aws s3 cp \"s3://mousebrainatlas-data/CSHL_volumes/atlasV5/atlasV5_down32_scoreVolume/score_volumes/atlasV5_down32_scoreVolume_SNR_R.bp\" \"/home/yuncong/CSHL_volumes/atlasV5/atlasV5_down32_scoreVolume/score_volumes/atlasV5_down32_scoreVolume_SNR_R.bp\"\n",
      "rm -rf \"/home/yuncong/CSHL_volumes/atlasV5/atlasV5_down32_scoreVolume/score_volumes/atlasV5_down32_scoreVolume_3N_L.bp\" && mkdir -p \"/home/yuncong/CSHL_volumes/atlasV5/atlasV5_down32_scoreVolume/score_volumes\"\n",
      "aws s3 cp \"s3://mousebrainatlas-data/CSHL_volumes/atlasV5/atlasV5_down32_scoreVolume/score_volumes/atlasV5_down32_scoreVolume_3N_L.bp\" \"/home/yuncong/CSHL_volumes/atlasV5/atlasV5_down32_scoreVolume/score_volumes/atlasV5_down32_scoreVolume_3N_L.bp\"\n",
      "rm -rf \"/home/yuncong/CSHL_volumes/atlasV5/atlasV5_down32_scoreVolume/score_volumes/atlasV5_down32_scoreVolume_3N_R.bp\" && mkdir -p \"/home/yuncong/CSHL_volumes/atlasV5/atlasV5_down32_scoreVolume/score_volumes\"\n",
      "aws s3 cp \"s3://mousebrainatlas-data/CSHL_volumes/atlasV5/atlasV5_down32_scoreVolume/score_volumes/atlasV5_down32_scoreVolume_3N_R.bp\" \"/home/yuncong/CSHL_volumes/atlasV5/atlasV5_down32_scoreVolume/score_volumes/atlasV5_down32_scoreVolume_3N_R.bp\"\n",
      "rm -rf \"/home/yuncong/CSHL_volumes/atlasV5/atlasV5_down32_scoreVolume/score_volumes/atlasV5_down32_scoreVolume_4N_L.bp\" && mkdir -p \"/home/yuncong/CSHL_volumes/atlasV5/atlasV5_down32_scoreVolume/score_volumes\"\n",
      "aws s3 cp \"s3://mousebrainatlas-data/CSHL_volumes/atlasV5/atlasV5_down32_scoreVolume/score_volumes/atlasV5_down32_scoreVolume_4N_L.bp\" \"/home/yuncong/CSHL_volumes/atlasV5/atlasV5_down32_scoreVolume/score_volumes/atlasV5_down32_scoreVolume_4N_L.bp\"\n",
      "rm -rf \"/home/yuncong/CSHL_volumes/atlasV5/atlasV5_down32_scoreVolume/score_volumes/atlasV5_down32_scoreVolume_4N_R.bp\" && mkdir -p \"/home/yuncong/CSHL_volumes/atlasV5/atlasV5_down32_scoreVolume/score_volumes\"\n",
      "aws s3 cp \"s3://mousebrainatlas-data/CSHL_volumes/atlasV5/atlasV5_down32_scoreVolume/score_volumes/atlasV5_down32_scoreVolume_4N_R.bp\" \"/home/yuncong/CSHL_volumes/atlasV5/atlasV5_down32_scoreVolume/score_volumes/atlasV5_down32_scoreVolume_4N_R.bp\"\n",
      "rm -rf \"/home/yuncong/CSHL_volumes/atlasV5/atlasV5_down32_scoreVolume/score_volumes/atlasV5_down32_scoreVolume_Sp5I_L.bp\" && mkdir -p \"/home/yuncong/CSHL_volumes/atlasV5/atlasV5_down32_scoreVolume/score_volumes\"\n",
      "aws s3 cp \"s3://mousebrainatlas-data/CSHL_volumes/atlasV5/atlasV5_down32_scoreVolume/score_volumes/atlasV5_down32_scoreVolume_Sp5I_L.bp\" \"/home/yuncong/CSHL_volumes/atlasV5/atlasV5_down32_scoreVolume/score_volumes/atlasV5_down32_scoreVolume_Sp5I_L.bp\"\n",
      "rm -rf \"/home/yuncong/CSHL_volumes/atlasV5/atlasV5_down32_scoreVolume/score_volumes/atlasV5_down32_scoreVolume_Sp5I_R.bp\" && mkdir -p \"/home/yuncong/CSHL_volumes/atlasV5/atlasV5_down32_scoreVolume/score_volumes\"\n",
      "aws s3 cp \"s3://mousebrainatlas-data/CSHL_volumes/atlasV5/atlasV5_down32_scoreVolume/score_volumes/atlasV5_down32_scoreVolume_Sp5I_R.bp\" \"/home/yuncong/CSHL_volumes/atlasV5/atlasV5_down32_scoreVolume/score_volumes/atlasV5_down32_scoreVolume_Sp5I_R.bp\"\n",
      "rm -rf \"/home/yuncong/CSHL_volumes/atlasV5/atlasV5_down32_scoreVolume/score_volumes/atlasV5_down32_scoreVolume_Sp5O_L.bp\" && mkdir -p \"/home/yuncong/CSHL_volumes/atlasV5/atlasV5_down32_scoreVolume/score_volumes\"\n",
      "aws s3 cp \"s3://mousebrainatlas-data/CSHL_volumes/atlasV5/atlasV5_down32_scoreVolume/score_volumes/atlasV5_down32_scoreVolume_Sp5O_L.bp\" \"/home/yuncong/CSHL_volumes/atlasV5/atlasV5_down32_scoreVolume/score_volumes/atlasV5_down32_scoreVolume_Sp5O_L.bp\"\n",
      "rm -rf \"/home/yuncong/CSHL_volumes/atlasV5/atlasV5_down32_scoreVolume/score_volumes/atlasV5_down32_scoreVolume_Sp5O_R.bp\" && mkdir -p \"/home/yuncong/CSHL_volumes/atlasV5/atlasV5_down32_scoreVolume/score_volumes\"\n",
      "aws s3 cp \"s3://mousebrainatlas-data/CSHL_volumes/atlasV5/atlasV5_down32_scoreVolume/score_volumes/atlasV5_down32_scoreVolume_Sp5O_R.bp\" \"/home/yuncong/CSHL_volumes/atlasV5/atlasV5_down32_scoreVolume/score_volumes/atlasV5_down32_scoreVolume_Sp5O_R.bp\"\n",
      "rm -rf \"/home/yuncong/CSHL_volumes/atlasV5/atlasV5_down32_scoreVolume/score_volumes/atlasV5_down32_scoreVolume_Sp5C_L.bp\" && mkdir -p \"/home/yuncong/CSHL_volumes/atlasV5/atlasV5_down32_scoreVolume/score_volumes\"\n",
      "aws s3 cp \"s3://mousebrainatlas-data/CSHL_volumes/atlasV5/atlasV5_down32_scoreVolume/score_volumes/atlasV5_down32_scoreVolume_Sp5C_L.bp\" \"/home/yuncong/CSHL_volumes/atlasV5/atlasV5_down32_scoreVolume/score_volumes/atlasV5_down32_scoreVolume_Sp5C_L.bp\"\n",
      "rm -rf \"/home/yuncong/CSHL_volumes/atlasV5/atlasV5_down32_scoreVolume/score_volumes/atlasV5_down32_scoreVolume_Sp5C_R.bp\" && mkdir -p \"/home/yuncong/CSHL_volumes/atlasV5/atlasV5_down32_scoreVolume/score_volumes\"\n",
      "aws s3 cp \"s3://mousebrainatlas-data/CSHL_volumes/atlasV5/atlasV5_down32_scoreVolume/score_volumes/atlasV5_down32_scoreVolume_Sp5C_R.bp\" \"/home/yuncong/CSHL_volumes/atlasV5/atlasV5_down32_scoreVolume/score_volumes/atlasV5_down32_scoreVolume_Sp5C_R.bp\"\n",
      "rm -rf \"/home/yuncong/CSHL_volumes/atlasV5/atlasV5_down32_scoreVolume/score_volumes/atlasV5_down32_scoreVolume_PBG_L.bp\" && mkdir -p \"/home/yuncong/CSHL_volumes/atlasV5/atlasV5_down32_scoreVolume/score_volumes\"\n",
      "aws s3 cp \"s3://mousebrainatlas-data/CSHL_volumes/atlasV5/atlasV5_down32_scoreVolume/score_volumes/atlasV5_down32_scoreVolume_PBG_L.bp\" \"/home/yuncong/CSHL_volumes/atlasV5/atlasV5_down32_scoreVolume/score_volumes/atlasV5_down32_scoreVolume_PBG_L.bp\"\n",
      "rm -rf \"/home/yuncong/CSHL_volumes/atlasV5/atlasV5_down32_scoreVolume/score_volumes/atlasV5_down32_scoreVolume_PBG_R.bp\" && mkdir -p \"/home/yuncong/CSHL_volumes/atlasV5/atlasV5_down32_scoreVolume/score_volumes\"\n",
      "aws s3 cp \"s3://mousebrainatlas-data/CSHL_volumes/atlasV5/atlasV5_down32_scoreVolume/score_volumes/atlasV5_down32_scoreVolume_PBG_R.bp\" \"/home/yuncong/CSHL_volumes/atlasV5/atlasV5_down32_scoreVolume/score_volumes/atlasV5_down32_scoreVolume_PBG_R.bp\"\n",
      "rm -rf \"/home/yuncong/CSHL_volumes/atlasV5/atlasV5_down32_scoreVolume/score_volumes/atlasV5_down32_scoreVolume_10N_L.bp\" && mkdir -p \"/home/yuncong/CSHL_volumes/atlasV5/atlasV5_down32_scoreVolume/score_volumes\"\n",
      "aws s3 cp \"s3://mousebrainatlas-data/CSHL_volumes/atlasV5/atlasV5_down32_scoreVolume/score_volumes/atlasV5_down32_scoreVolume_10N_L.bp\" \"/home/yuncong/CSHL_volumes/atlasV5/atlasV5_down32_scoreVolume/score_volumes/atlasV5_down32_scoreVolume_10N_L.bp\"\n",
      "rm -rf \"/home/yuncong/CSHL_volumes/atlasV5/atlasV5_down32_scoreVolume/score_volumes/atlasV5_down32_scoreVolume_10N_R.bp\" && mkdir -p \"/home/yuncong/CSHL_volumes/atlasV5/atlasV5_down32_scoreVolume/score_volumes\"\n",
      "aws s3 cp \"s3://mousebrainatlas-data/CSHL_volumes/atlasV5/atlasV5_down32_scoreVolume/score_volumes/atlasV5_down32_scoreVolume_10N_R.bp\" \"/home/yuncong/CSHL_volumes/atlasV5/atlasV5_down32_scoreVolume/score_volumes/atlasV5_down32_scoreVolume_10N_R.bp\"\n",
      "rm -rf \"/home/yuncong/CSHL_volumes/atlasV5/atlasV5_down32_scoreVolume/score_volumes/atlasV5_down32_scoreVolume_VCA_L.bp\" && mkdir -p \"/home/yuncong/CSHL_volumes/atlasV5/atlasV5_down32_scoreVolume/score_volumes\"\n",
      "aws s3 cp \"s3://mousebrainatlas-data/CSHL_volumes/atlasV5/atlasV5_down32_scoreVolume/score_volumes/atlasV5_down32_scoreVolume_VCA_L.bp\" \"/home/yuncong/CSHL_volumes/atlasV5/atlasV5_down32_scoreVolume/score_volumes/atlasV5_down32_scoreVolume_VCA_L.bp\"\n"
     ]
    },
    {
     "name": "stdout",
     "output_type": "stream",
     "text": [
      "rm -rf \"/home/yuncong/CSHL_volumes/atlasV5/atlasV5_down32_scoreVolume/score_volumes/atlasV5_down32_scoreVolume_VCA_R.bp\" && mkdir -p \"/home/yuncong/CSHL_volumes/atlasV5/atlasV5_down32_scoreVolume/score_volumes\"\n",
      "aws s3 cp \"s3://mousebrainatlas-data/CSHL_volumes/atlasV5/atlasV5_down32_scoreVolume/score_volumes/atlasV5_down32_scoreVolume_VCA_R.bp\" \"/home/yuncong/CSHL_volumes/atlasV5/atlasV5_down32_scoreVolume/score_volumes/atlasV5_down32_scoreVolume_VCA_R.bp\"\n",
      "rm -rf \"/home/yuncong/CSHL_volumes/atlasV5/atlasV5_down32_scoreVolume/score_volumes/atlasV5_down32_scoreVolume_VCP_L.bp\" && mkdir -p \"/home/yuncong/CSHL_volumes/atlasV5/atlasV5_down32_scoreVolume/score_volumes\"\n",
      "aws s3 cp \"s3://mousebrainatlas-data/CSHL_volumes/atlasV5/atlasV5_down32_scoreVolume/score_volumes/atlasV5_down32_scoreVolume_VCP_L.bp\" \"/home/yuncong/CSHL_volumes/atlasV5/atlasV5_down32_scoreVolume/score_volumes/atlasV5_down32_scoreVolume_VCP_L.bp\"\n",
      "rm -rf \"/home/yuncong/CSHL_volumes/atlasV5/atlasV5_down32_scoreVolume/score_volumes/atlasV5_down32_scoreVolume_VCP_R.bp\" && mkdir -p \"/home/yuncong/CSHL_volumes/atlasV5/atlasV5_down32_scoreVolume/score_volumes\"\n",
      "aws s3 cp \"s3://mousebrainatlas-data/CSHL_volumes/atlasV5/atlasV5_down32_scoreVolume/score_volumes/atlasV5_down32_scoreVolume_VCP_R.bp\" \"/home/yuncong/CSHL_volumes/atlasV5/atlasV5_down32_scoreVolume/score_volumes/atlasV5_down32_scoreVolume_VCP_R.bp\"\n",
      "rm -rf \"/home/yuncong/CSHL_volumes/atlasV5/atlasV5_down32_scoreVolume/score_volumes/atlasV5_down32_scoreVolume_DC_L.bp\" && mkdir -p \"/home/yuncong/CSHL_volumes/atlasV5/atlasV5_down32_scoreVolume/score_volumes\"\n",
      "aws s3 cp \"s3://mousebrainatlas-data/CSHL_volumes/atlasV5/atlasV5_down32_scoreVolume/score_volumes/atlasV5_down32_scoreVolume_DC_L.bp\" \"/home/yuncong/CSHL_volumes/atlasV5/atlasV5_down32_scoreVolume/score_volumes/atlasV5_down32_scoreVolume_DC_L.bp\"\n",
      "rm -rf \"/home/yuncong/CSHL_volumes/atlasV5/atlasV5_down32_scoreVolume/score_volumes/atlasV5_down32_scoreVolume_DC_R.bp\" && mkdir -p \"/home/yuncong/CSHL_volumes/atlasV5/atlasV5_down32_scoreVolume/score_volumes\"\n",
      "aws s3 cp \"s3://mousebrainatlas-data/CSHL_volumes/atlasV5/atlasV5_down32_scoreVolume/score_volumes/atlasV5_down32_scoreVolume_DC_R.bp\" \"/home/yuncong/CSHL_volumes/atlasV5/atlasV5_down32_scoreVolume/score_volumes/atlasV5_down32_scoreVolume_DC_R.bp\"\n",
      "rm -rf \"/home/yuncong/CSHL_volumes/atlasV5/atlasV5_down32_scoreVolume/score_volumes/atlasV5_down32_scoreVolume_AP.bp\" && mkdir -p \"/home/yuncong/CSHL_volumes/atlasV5/atlasV5_down32_scoreVolume/score_volumes\"\n",
      "aws s3 cp \"s3://mousebrainatlas-data/CSHL_volumes/atlasV5/atlasV5_down32_scoreVolume/score_volumes/atlasV5_down32_scoreVolume_AP.bp\" \"/home/yuncong/CSHL_volumes/atlasV5/atlasV5_down32_scoreVolume/score_volumes/atlasV5_down32_scoreVolume_AP.bp\"\n",
      "rm -rf \"/home/yuncong/CSHL_volumes/atlasV5/atlasV5_down32_scoreVolume/score_volumes/atlasV5_down32_scoreVolume_12N.bp\" && mkdir -p \"/home/yuncong/CSHL_volumes/atlasV5/atlasV5_down32_scoreVolume/score_volumes\"\n",
      "aws s3 cp \"s3://mousebrainatlas-data/CSHL_volumes/atlasV5/atlasV5_down32_scoreVolume/score_volumes/atlasV5_down32_scoreVolume_12N.bp\" \"/home/yuncong/CSHL_volumes/atlasV5/atlasV5_down32_scoreVolume/score_volumes/atlasV5_down32_scoreVolume_12N.bp\"\n",
      "rm -rf \"/home/yuncong/CSHL_volumes/atlasV5/atlasV5_down32_scoreVolume/score_volumes/atlasV5_down32_scoreVolume_RtTg.bp\" && mkdir -p \"/home/yuncong/CSHL_volumes/atlasV5/atlasV5_down32_scoreVolume/score_volumes\"\n",
      "aws s3 cp \"s3://mousebrainatlas-data/CSHL_volumes/atlasV5/atlasV5_down32_scoreVolume/score_volumes/atlasV5_down32_scoreVolume_RtTg.bp\" \"/home/yuncong/CSHL_volumes/atlasV5/atlasV5_down32_scoreVolume/score_volumes/atlasV5_down32_scoreVolume_RtTg.bp\"\n",
      "rm -rf \"/home/yuncong/CSHL_volumes/atlasV5/atlasV5_down32_scoreVolume/score_volumes/atlasV5_down32_scoreVolume_IC.bp\" && mkdir -p \"/home/yuncong/CSHL_volumes/atlasV5/atlasV5_down32_scoreVolume/score_volumes\"\n",
      "aws s3 cp \"s3://mousebrainatlas-data/CSHL_volumes/atlasV5/atlasV5_down32_scoreVolume/score_volumes/atlasV5_down32_scoreVolume_IC.bp\" \"/home/yuncong/CSHL_volumes/atlasV5/atlasV5_down32_scoreVolume/score_volumes/atlasV5_down32_scoreVolume_IC.bp\"\n"
     ]
    }
   ],
   "source": [
    "n_patches_required = 1000\n",
    "half_size = 224.*XY_PIXEL_DISTANCE_LOSSLESS/2.\n",
    "\n",
    "n_train_sections_all_structures = {}\n",
    "\n",
    "for name_s in all_known_structures_sided:\n",
    "    v = DataManager.load_original_volume(stack='atlasV5', structure=name_s, downscale=32)\n",
    "    vol_um3 = np.count_nonzero(v > .5) * XY_PIXEL_DISTANCE_TB ** 3\n",
    "    b = bbox_3d(v)\n",
    "    n_train_sections = n_patches_required / (vol_um3 / ((b[5] - b[4]) * XY_PIXEL_DISTANCE_TB) / (half_size * half_size))\n",
    "    # n_train_sections = vol_um3 / (n_patches_required * half_size * half_size * SECTION_THICKNESS)\n",
    "    n_train_sections_all_structures[name_s] = n_train_sections"
   ]
  },
  {
   "cell_type": "code",
   "execution_count": 333,
   "metadata": {
    "scrolled": true
   },
   "outputs": [
    {
     "data": {
      "text/plain": [
       "{'10N_L': 90.112505408913904,\n",
       " '10N_R': 90.112505408913904,\n",
       " '12N': 16.409912926992632,\n",
       " '3N_L': 39.456233421750667,\n",
       " '3N_R': 39.456233421750667,\n",
       " '4N_L': 437.50000000000011,\n",
       " '4N_R': 437.50000000000011,\n",
       " '5N_L': 18.689525033123218,\n",
       " '5N_R': 18.689525033123218,\n",
       " '6N_L': 223.23462414578586,\n",
       " '6N_R': 223.23462414578586,\n",
       " '7N_L': 14.337600089174579,\n",
       " '7N_R': 14.337600089174579,\n",
       " '7n_L': 69.556229327453153,\n",
       " '7n_R': 69.556229327453153,\n",
       " 'AP': 59.666541775946051,\n",
       " 'Amb_L': 133.94632206759445,\n",
       " 'Amb_R': 133.94632206759445,\n",
       " 'DC_L': 29.079606082685036,\n",
       " 'DC_R': 29.079606082685036,\n",
       " 'IC': 3.4192971670447241,\n",
       " 'LC_L': 31.52085590465872,\n",
       " 'LC_R': 31.52085590465872,\n",
       " 'LRt_L': 25.188485263879372,\n",
       " 'LRt_R': 25.188485263879372,\n",
       " 'PBG_L': 142.85714285714286,\n",
       " 'PBG_R': 142.85714285714286,\n",
       " 'Pn_L': 12.298325183662865,\n",
       " 'Pn_R': 12.298325183662865,\n",
       " 'RMC_L': 45.764895330112722,\n",
       " 'RMC_R': 45.764895330112722,\n",
       " 'RtTg': 9.6258462282398458,\n",
       " 'SC': 2.1708574887080396,\n",
       " 'SNC_L': 113.66648992576883,\n",
       " 'SNC_R': 113.66648992576883,\n",
       " 'SNR_L': 7.5338253382533837,\n",
       " 'SNR_R': 7.5338253382533837,\n",
       " 'Sp5C_L': 7.2711221308088216,\n",
       " 'Sp5C_R': 7.2711221308088216,\n",
       " 'Sp5I_L': 15.745501285347045,\n",
       " 'Sp5I_R': 15.745501285347045,\n",
       " 'Sp5O_L': 8.8095238095238102,\n",
       " 'Sp5O_R': 8.8095238095238102,\n",
       " 'Tz_L': 41.8855808523059,\n",
       " 'Tz_R': 41.8855808523059,\n",
       " 'VCA_L': 12.488006716238907,\n",
       " 'VCA_R': 12.488006716238907,\n",
       " 'VCP_L': 28.840855582828237,\n",
       " 'VCP_R': 28.840855582828237,\n",
       " 'VLL_L': 23.279655931186241,\n",
       " 'VLL_R': 23.279655931186241}"
      ]
     },
     "execution_count": 333,
     "metadata": {},
     "output_type": "execute_result"
    }
   ],
   "source": [
    "n_train_sections_all_structures"
   ]
  },
  {
   "cell_type": "markdown",
   "metadata": {
    "collapsed": true
   },
   "source": [
    "# Compute features"
   ]
  },
  {
   "cell_type": "code",
   "execution_count": 59,
   "metadata": {
    "collapsed": true
   },
   "outputs": [],
   "source": [
    "DataManager.disable_image_cache()"
   ]
  },
  {
   "cell_type": "code",
   "execution_count": 57,
   "metadata": {
    "collapsed": true
   },
   "outputs": [],
   "source": [
    "# schemes = ['normalize_mu_region_sigma_wholeImage_(-1,9)']\n",
    "# schemes = ['normalize_mu_region_sigma_wholeImage_(-1,9)', 'median_curve']\n",
    "# schemes = ['normalize_mu_region_sigma_wholeImage_(-1,5)']\n",
    "# schemes = ['stretch_min_max']\n",
    "# schemes = [None, 'stretch_min_max']\n",
    "# schemes = ['none']\n",
    "# schemes = [None, 'median_curve']\n",
    "# transforms = ['transform%d' % i for i in range(8)]\n",
    "# scheme_transform_multiindex = pd.MultiIndex.from_product([schemes, transforms])\n",
    "\n",
    "# features_dict = {(scheme, tfv): {} for scheme in schemes for tfv in transforms}\n",
    "features_dict = defaultdict(dict)"
   ]
  },
  {
   "cell_type": "code",
   "execution_count": 58,
   "metadata": {
    "scrolled": true
   },
   "outputs": [
    {
     "name": "stderr",
     "output_type": "stream",
     "text": [
      "No images are provided. Load instead.\n"
     ]
    },
    {
     "name": "stdout",
     "output_type": "stream",
     "text": [
      "rm -rf \"/media/yuncong/BstemAtlasData/CSHL_data_processed/MD595/MD595_prep2_lossless/MD595-N48-2015.09.14-22.18.36_MD595_2_0143_prep2_lossless.tif\" && mkdir -p \"/media/yuncong/BstemAtlasData/CSHL_data_processed/MD595/MD595_prep2_lossless\"\n",
      "aws s3 cp \"s3://mousebrainatlas-data/CSHL_data_processed/MD595/MD595_prep2_lossless/MD595-N48-2015.09.14-22.18.36_MD595_2_0143_prep2_lossless.tif\" \"/media/yuncong/BstemAtlasData/CSHL_data_processed/MD595/MD595_prep2_lossless/MD595-N48-2015.09.14-22.18.36_MD595_2_0143_prep2_lossless.tif\"\n"
     ]
    },
    {
     "name": "stderr",
     "output_type": "stream",
     "text": [
      "Not using image_cache.\n",
      "/usr/local/lib/python2.7/dist-packages/skimage/util/dtype.py:110: UserWarning: Possible precision loss when converting from float64 to uint8\n",
      "  \"%s to %s\" % (dtypeobj_in, dtypeobj))\n",
      "Load image: 36.53 seconds.\n",
      "No images are provided. Load instead.\n"
     ]
    },
    {
     "name": "stdout",
     "output_type": "stream",
     "text": [
      "rm -rf \"/media/yuncong/BstemAtlasData/CSHL_data_processed/MD595/MD595_prep2_lossless/MD595-IHC51-2015.09.15-04.02.02_MD595_1_0151_prep2_lossless.tif\" && mkdir -p \"/media/yuncong/BstemAtlasData/CSHL_data_processed/MD595/MD595_prep2_lossless\"\n",
      "aws s3 cp \"s3://mousebrainatlas-data/CSHL_data_processed/MD595/MD595_prep2_lossless/MD595-IHC51-2015.09.15-04.02.02_MD595_1_0151_prep2_lossless.tif\" \"/media/yuncong/BstemAtlasData/CSHL_data_processed/MD595/MD595_prep2_lossless/MD595-IHC51-2015.09.15-04.02.02_MD595_1_0151_prep2_lossless.tif\"\n"
     ]
    },
    {
     "name": "stderr",
     "output_type": "stream",
     "text": [
      "Not using image_cache.\n",
      "Load image: 34.76 seconds.\n",
      "No images are provided. Load instead.\n"
     ]
    },
    {
     "name": "stdout",
     "output_type": "stream",
     "text": [
      "rm -rf \"/media/yuncong/BstemAtlasData/CSHL_data_processed/MD595/MD595_prep2_lossless/MD595-IHC24-2015.09.15-02.12.56_MD595_3_0072_prep2_lossless.tif\" && mkdir -p \"/media/yuncong/BstemAtlasData/CSHL_data_processed/MD595/MD595_prep2_lossless\"\n",
      "aws s3 cp \"s3://mousebrainatlas-data/CSHL_data_processed/MD595/MD595_prep2_lossless/MD595-IHC24-2015.09.15-02.12.56_MD595_3_0072_prep2_lossless.tif\" \"/media/yuncong/BstemAtlasData/CSHL_data_processed/MD595/MD595_prep2_lossless/MD595-IHC24-2015.09.15-02.12.56_MD595_3_0072_prep2_lossless.tif\"\n"
     ]
    },
    {
     "name": "stderr",
     "output_type": "stream",
     "text": [
      "Not using image_cache.\n",
      "Load image: 33.76 seconds.\n",
      "No images are provided. Load instead.\n"
     ]
    },
    {
     "name": "stdout",
     "output_type": "stream",
     "text": [
      "rm -rf \"/media/yuncong/BstemAtlasData/CSHL_data_processed/MD595/MD595_prep2_lossless/MD595-IHC50-2015.09.15-03.57.44_MD595_2_0149_prep2_lossless.tif\" && mkdir -p \"/media/yuncong/BstemAtlasData/CSHL_data_processed/MD595/MD595_prep2_lossless\"\n",
      "aws s3 cp \"s3://mousebrainatlas-data/CSHL_data_processed/MD595/MD595_prep2_lossless/MD595-IHC50-2015.09.15-03.57.44_MD595_2_0149_prep2_lossless.tif\" \"/media/yuncong/BstemAtlasData/CSHL_data_processed/MD595/MD595_prep2_lossless/MD595-IHC50-2015.09.15-03.57.44_MD595_2_0149_prep2_lossless.tif\"\n"
     ]
    },
    {
     "name": "stderr",
     "output_type": "stream",
     "text": [
      "Not using image_cache.\n",
      "Load image: 35.28 seconds.\n",
      "No images are provided. Load instead.\n"
     ]
    },
    {
     "name": "stdout",
     "output_type": "stream",
     "text": [
      "rm -rf \"/media/yuncong/BstemAtlasData/CSHL_data_processed/MD595/MD595_prep2_lossless/MD595-IHC53-2015.09.15-04.10.20_MD595_2_0158_prep2_lossless.tif\" && mkdir -p \"/media/yuncong/BstemAtlasData/CSHL_data_processed/MD595/MD595_prep2_lossless\"\n",
      "aws s3 cp \"s3://mousebrainatlas-data/CSHL_data_processed/MD595/MD595_prep2_lossless/MD595-IHC53-2015.09.15-04.10.20_MD595_2_0158_prep2_lossless.tif\" \"/media/yuncong/BstemAtlasData/CSHL_data_processed/MD595/MD595_prep2_lossless/MD595-IHC53-2015.09.15-04.10.20_MD595_2_0158_prep2_lossless.tif\"\n"
     ]
    },
    {
     "name": "stderr",
     "output_type": "stream",
     "text": [
      "Not using image_cache.\n",
      "Load image: 35.07 seconds.\n",
      "No images are provided. Load instead.\n"
     ]
    },
    {
     "name": "stdout",
     "output_type": "stream",
     "text": [
      "rm -rf \"/media/yuncong/BstemAtlasData/CSHL_data_processed/MD595/MD595_prep2_lossless/MD595-IHC52-2015.09.15-04.06.00_MD595_1_0154_prep2_lossless.tif\" && mkdir -p \"/media/yuncong/BstemAtlasData/CSHL_data_processed/MD595/MD595_prep2_lossless\"\n",
      "aws s3 cp \"s3://mousebrainatlas-data/CSHL_data_processed/MD595/MD595_prep2_lossless/MD595-IHC52-2015.09.15-04.06.00_MD595_1_0154_prep2_lossless.tif\" \"/media/yuncong/BstemAtlasData/CSHL_data_processed/MD595/MD595_prep2_lossless/MD595-IHC52-2015.09.15-04.06.00_MD595_1_0154_prep2_lossless.tif\"\n"
     ]
    },
    {
     "name": "stderr",
     "output_type": "stream",
     "text": [
      "Not using image_cache.\n",
      "Load image: 32.62 seconds.\n",
      "No images are provided. Load instead.\n"
     ]
    },
    {
     "name": "stdout",
     "output_type": "stream",
     "text": [
      "rm -rf \"/media/yuncong/BstemAtlasData/CSHL_data_processed/MD595/MD595_prep2_lossless/MD595-IHC50-2015.09.15-03.57.44_MD595_1_0148_prep2_lossless.tif\" && mkdir -p \"/media/yuncong/BstemAtlasData/CSHL_data_processed/MD595/MD595_prep2_lossless\"\n",
      "aws s3 cp \"s3://mousebrainatlas-data/CSHL_data_processed/MD595/MD595_prep2_lossless/MD595-IHC50-2015.09.15-03.57.44_MD595_1_0148_prep2_lossless.tif\" \"/media/yuncong/BstemAtlasData/CSHL_data_processed/MD595/MD595_prep2_lossless/MD595-IHC50-2015.09.15-03.57.44_MD595_1_0148_prep2_lossless.tif\"\n"
     ]
    },
    {
     "name": "stderr",
     "output_type": "stream",
     "text": [
      "Not using image_cache.\n",
      "Load image: 32.73 seconds.\n",
      "No images are provided. Load instead.\n"
     ]
    },
    {
     "name": "stdout",
     "output_type": "stream",
     "text": [
      "rm -rf \"/media/yuncong/BstemAtlasData/CSHL_data_processed/MD595/MD595_prep2_lossless/MD595-IHC24-2015.09.15-02.12.56_MD595_1_0070_prep2_lossless.tif\" && mkdir -p \"/media/yuncong/BstemAtlasData/CSHL_data_processed/MD595/MD595_prep2_lossless\"\n",
      "aws s3 cp \"s3://mousebrainatlas-data/CSHL_data_processed/MD595/MD595_prep2_lossless/MD595-IHC24-2015.09.15-02.12.56_MD595_1_0070_prep2_lossless.tif\" \"/media/yuncong/BstemAtlasData/CSHL_data_processed/MD595/MD595_prep2_lossless/MD595-IHC24-2015.09.15-02.12.56_MD595_1_0070_prep2_lossless.tif\"\n"
     ]
    },
    {
     "name": "stderr",
     "output_type": "stream",
     "text": [
      "Not using image_cache.\n",
      "Load image: 31.37 seconds.\n",
      "No images are provided. Load instead.\n"
     ]
    },
    {
     "name": "stdout",
     "output_type": "stream",
     "text": [
      "rm -rf \"/media/yuncong/BstemAtlasData/CSHL_data_processed/MD595/MD595_prep2_lossless/MD595-N45-2015.09.14-22.05.30_MD595_2_0134_prep2_lossless.tif\" && mkdir -p \"/media/yuncong/BstemAtlasData/CSHL_data_processed/MD595/MD595_prep2_lossless\"\n",
      "aws s3 cp \"s3://mousebrainatlas-data/CSHL_data_processed/MD595/MD595_prep2_lossless/MD595-N45-2015.09.14-22.05.30_MD595_2_0134_prep2_lossless.tif\" \"/media/yuncong/BstemAtlasData/CSHL_data_processed/MD595/MD595_prep2_lossless/MD595-N45-2015.09.14-22.05.30_MD595_2_0134_prep2_lossless.tif\"\n"
     ]
    },
    {
     "name": "stderr",
     "output_type": "stream",
     "text": [
      "Not using image_cache.\n",
      "Load image: 32.22 seconds.\n",
      "No images are provided. Load instead.\n"
     ]
    },
    {
     "name": "stdout",
     "output_type": "stream",
     "text": [
      "rm -rf \"/media/yuncong/BstemAtlasData/CSHL_data_processed/MD595/MD595_prep2_lossless/MD595-IHC25-2015.09.15-02.17.45_MD595_1_0073_prep2_lossless.tif\" && mkdir -p \"/media/yuncong/BstemAtlasData/CSHL_data_processed/MD595/MD595_prep2_lossless\"\n",
      "aws s3 cp \"s3://mousebrainatlas-data/CSHL_data_processed/MD595/MD595_prep2_lossless/MD595-IHC25-2015.09.15-02.17.45_MD595_1_0073_prep2_lossless.tif\" \"/media/yuncong/BstemAtlasData/CSHL_data_processed/MD595/MD595_prep2_lossless/MD595-IHC25-2015.09.15-02.17.45_MD595_1_0073_prep2_lossless.tif\"\n"
     ]
    },
    {
     "name": "stderr",
     "output_type": "stream",
     "text": [
      "Not using image_cache.\n",
      "Load image: 33.63 seconds.\n",
      "Compute variants: 0.00 seconds\n"
     ]
    },
    {
     "name": "stdout",
     "output_type": "stream",
     "text": [
      "(7778, 1, 224, 224)\n"
     ]
    },
    {
     "name": "stderr",
     "output_type": "stream",
     "text": [
      "Feature computation: 11.78 seconds\n",
      "Compute variants: 0.01 seconds\n"
     ]
    },
    {
     "name": "stdout",
     "output_type": "stream",
     "text": [
      "(7778, 1, 224, 224)\n"
     ]
    },
    {
     "name": "stderr",
     "output_type": "stream",
     "text": [
      "Feature computation: 11.78 seconds\n",
      "Compute variants: 0.01 seconds\n"
     ]
    },
    {
     "name": "stdout",
     "output_type": "stream",
     "text": [
      "(7778, 1, 224, 224)\n"
     ]
    },
    {
     "name": "stderr",
     "output_type": "stream",
     "text": [
      "Feature computation: 11.59 seconds\n",
      "Compute variants: 0.01 seconds\n"
     ]
    },
    {
     "name": "stdout",
     "output_type": "stream",
     "text": [
      "(7778, 1, 224, 224)\n"
     ]
    },
    {
     "name": "stderr",
     "output_type": "stream",
     "text": [
      "Feature computation: 11.84 seconds\n",
      "Compute variants: 0.01 seconds\n"
     ]
    },
    {
     "name": "stdout",
     "output_type": "stream",
     "text": [
      "(7778, 1, 224, 224)\n"
     ]
    },
    {
     "name": "stderr",
     "output_type": "stream",
     "text": [
      "Feature computation: 11.76 seconds\n",
      "Compute variants: 0.00 seconds\n"
     ]
    },
    {
     "name": "stdout",
     "output_type": "stream",
     "text": [
      "(7778, 1, 224, 224)\n"
     ]
    },
    {
     "name": "stderr",
     "output_type": "stream",
     "text": [
      "Feature computation: 12.36 seconds\n",
      "Compute variants: 0.01 seconds\n"
     ]
    },
    {
     "name": "stdout",
     "output_type": "stream",
     "text": [
      "(7778, 1, 224, 224)\n"
     ]
    },
    {
     "name": "stderr",
     "output_type": "stream",
     "text": [
      "Feature computation: 12.40 seconds\n",
      "Compute variants: 0.01 seconds\n"
     ]
    },
    {
     "name": "stdout",
     "output_type": "stream",
     "text": [
      "(7778, 1, 224, 224)\n"
     ]
    },
    {
     "name": "stderr",
     "output_type": "stream",
     "text": [
      "Feature computation: 12.38 seconds\n"
     ]
    }
   ],
   "source": [
    "# train_scheme = 'stretch_min_max'\n",
    "# train_scheme = 'normalize_mu_sigma_global_(-1,5)'\n",
    "train_scheme = 'normalize_mu_region_sigma_wholeImage_(-1,5)'\n",
    "# train_scheme = 'normalize_mu_region_sigma_wholeImage_(-1,9)'\n",
    "# train_scheme = 'none'\n",
    "addresses_to_compute = positive_addresses_traindata + negative_addresses_traindata\n",
    "\n",
    "patches_with_desired_label = \\\n",
    "extract_patches_given_locations_multiple_sections(addresses=addresses_to_compute,\n",
    "#                                                     images={('MD661', 199): img},\n",
    "                                              win_id=win_id, \n",
    "                                            normalization_scheme=train_scheme,\n",
    "                                             location_or_grid_index='grid_index')\n",
    "\n",
    "#     display_images_in_grids(patches_with_desired_label, nc=10, cmap=plt.cm.gray)\n",
    "\n",
    "# for variant in [0]:\n",
    "for variant in range(8):\n",
    "\n",
    "    t = time.time()\n",
    "#             patches_rotated = rotate_all_patches(patches_enlarged, r=r, output_size=224)\n",
    "    patches_rotated = rotate_all_patches_variant(patches_with_desired_label, variant=variant)\n",
    "    sys.stderr.write('Compute variants: %.2f seconds\\n' % (time.time() - t))\n",
    "\n",
    "    t = time.time()\n",
    "    features = convert_image_patches_to_features_v2(patches_rotated, model=model, \n",
    "                                                 mean_img=mean_img, \n",
    "#                                                      mean_img=np.zeros((224,224), dtype=np.uint8), \n",
    "                                                 batch_size=batch_size)\n",
    "    sys.stderr.write('Feature computation: %.2f seconds\\n' % (time.time() - t))\n",
    "\n",
    "    for i, f in enumerate(features):\n",
    "#             features_df.loc[addresses_with_desired_label[i]][(scheme, 'transform%d'%variant)] = f\n",
    "        features_dict[(train_scheme, 'transform%d'%variant)][addresses_to_compute[i]] = f"
   ]
  },
  {
   "cell_type": "code",
   "execution_count": 59,
   "metadata": {
    "scrolled": true
   },
   "outputs": [
    {
     "name": "stderr",
     "output_type": "stream",
     "text": [
      "No images are provided. Load instead.\n",
      "Not using image_cache.\n",
      "Load image: 17.94 seconds.\n",
      "No images are provided. Load instead.\n",
      "Not using image_cache.\n",
      "Load image: 17.93 seconds.\n",
      "No images are provided. Load instead.\n",
      "Not using image_cache.\n",
      "Load image: 19.69 seconds.\n",
      "No images are provided. Load instead.\n",
      "Not using image_cache.\n",
      "Load image: 18.00 seconds.\n",
      "No images are provided. Load instead.\n",
      "Not using image_cache.\n",
      "Load image: 18.09 seconds.\n",
      "No images are provided. Load instead.\n",
      "Not using image_cache.\n",
      "Load image: 18.71 seconds.\n",
      "No images are provided. Load instead.\n",
      "Not using image_cache.\n",
      "Load image: 18.95 seconds.\n",
      "No images are provided. Load instead.\n",
      "Not using image_cache.\n",
      "Load image: 18.73 seconds.\n",
      "No images are provided. Load instead.\n",
      "Not using image_cache.\n",
      "Load image: 18.38 seconds.\n",
      "No images are provided. Load instead.\n",
      "Not using image_cache.\n",
      "Load image: 18.84 seconds.\n",
      "Compute variants: 0.01 seconds\n"
     ]
    },
    {
     "name": "stdout",
     "output_type": "stream",
     "text": [
      "(5994, 1, 224, 224)\n"
     ]
    },
    {
     "name": "stderr",
     "output_type": "stream",
     "text": [
      "Feature computation: 8.84 seconds\n"
     ]
    }
   ],
   "source": [
    "# test_scheme = 'stretch_min_max'\n",
    "# test_scheme = 'normalize_mu_sigma_global_(-1,5)'\n",
    "test_scheme = 'normalize_mu_region_sigma_wholeImage_(-1,5)'\n",
    "# test_scheme = 'median_curve'\n",
    "# test_scheme = 'normalize_mu_region_sigma_wholeImage_(-1,9)'\n",
    "# test_scheme = 'none'\n",
    "addresses_to_compute = positive_addresses_testdata + negative_addresses_testdata\n",
    "\n",
    "patches_with_desired_label = \\\n",
    "extract_patches_given_locations_multiple_sections(addresses=addresses_to_compute,\n",
    "#                                                     images={('MD661', 199): img},\n",
    "                                              win_id=win_id, \n",
    "                                            normalization_scheme=test_scheme,\n",
    "                                             location_or_grid_index='grid_index')\n",
    "\n",
    "#     display_images_in_grids(patches_with_desired_label, nc=10, cmap=plt.cm.gray)\n",
    "\n",
    "for variant in [0]:\n",
    "# for variant in range(8):\n",
    "\n",
    "    t = time.time()\n",
    "#             patches_rotated = rotate_all_patches(patches_enlarged, r=r, output_size=224)\n",
    "    patches_rotated = rotate_all_patches_variant(patches_with_desired_label, variant=variant)\n",
    "    sys.stderr.write('Compute variants: %.2f seconds\\n' % (time.time() - t))\n",
    "\n",
    "    t = time.time()\n",
    "    features = convert_image_patches_to_features_v2(patches_rotated, model=model, \n",
    "                                                 mean_img=mean_img, \n",
    "#                                                      mean_img=np.zeros((224,224), dtype=np.uint8), \n",
    "                                                 batch_size=batch_size)\n",
    "    sys.stderr.write('Feature computation: %.2f seconds\\n' % (time.time() - t))\n",
    "\n",
    "    for i, f in enumerate(features):\n",
    "#             features_df.loc[addresses_with_desired_label[i]][(scheme, 'transform%d'%variant)] = f\n",
    "        features_dict[(test_scheme, 'transform%d'%variant)][addresses_to_compute[i]] = f"
   ]
  },
  {
   "cell_type": "markdown",
   "metadata": {},
   "source": [
    "# Inspect training patches (after normalization)"
   ]
  },
  {
   "cell_type": "code",
   "execution_count": 85,
   "metadata": {
    "collapsed": true
   },
   "outputs": [],
   "source": [
    "import random"
   ]
  },
  {
   "cell_type": "code",
   "execution_count": null,
   "metadata": {},
   "outputs": [
    {
     "name": "stderr",
     "output_type": "stream",
     "text": [
      "No images are provided. Load instead.\n",
      "Not using image_cache.\n",
      "Load image: 19.54 seconds.\n",
      "No images are provided. Load instead.\n",
      "Not using image_cache.\n",
      "Load image: 19.77 seconds.\n",
      "No images are provided. Load instead.\n",
      "Not using image_cache.\n",
      "Load image: 18.99 seconds.\n",
      "No images are provided. Load instead.\n",
      "Not using image_cache.\n"
     ]
    }
   ],
   "source": [
    "q = \\\n",
    "extract_patches_given_locations_multiple_sections(addresses=random.sample(positive_addresses_traindata, 10),\n",
    "                                                  win_id=win_id, \n",
    "                                                normalization_scheme=train_scheme,\n",
    "                                                 location_or_grid_index='grid_index')\n",
    "display_images_in_grids(q, nc=10, cmap=plt.cm.gray, vmin=0, vmax=255)"
   ]
  },
  {
   "cell_type": "code",
   "execution_count": null,
   "metadata": {
    "collapsed": true
   },
   "outputs": [],
   "source": [
    "q = \\\n",
    "extract_patches_given_locations_multiple_sections(addresses=random.sample(negative_addresses_traindata, 10),\n",
    "                                                  win_id=win_id, \n",
    "                                                normalization_scheme=train_scheme,\n",
    "                                                 location_or_grid_index='grid_index')\n",
    "display_images_in_grids(q, nc=10, cmap=plt.cm.gray, vmin=0, vmax=255)"
   ]
  },
  {
   "cell_type": "code",
   "execution_count": null,
   "metadata": {
    "collapsed": true,
    "scrolled": false
   },
   "outputs": [],
   "source": [
    "q = \\\n",
    "extract_patches_given_locations_multiple_sections(addresses=random.sample(positive_addresses_testdata, 10),\n",
    "                                                  win_id=win_id, \n",
    "                                                normalization_scheme=test_scheme,\n",
    "                                                 location_or_grid_index='grid_index')\n",
    "display_images_in_grids(q, nc=10, cmap=plt.cm.gray, vmin=0, vmax=255)"
   ]
  },
  {
   "cell_type": "code",
   "execution_count": null,
   "metadata": {
    "collapsed": true
   },
   "outputs": [],
   "source": [
    "q = \\\n",
    "extract_patches_given_locations_multiple_sections(addresses=random.sample(negative_addresses_testdata, 10),\n",
    "                                                  win_id=win_id, \n",
    "                                                normalization_scheme=test_scheme,\n",
    "                                                 location_or_grid_index='grid_index')\n",
    "display_images_in_grids(q, nc=10, cmap=plt.cm.gray, vmin=0, vmax=255)"
   ]
  },
  {
   "cell_type": "code",
   "execution_count": 83,
   "metadata": {
    "scrolled": true
   },
   "outputs": [
    {
     "data": {
      "text/plain": [
       "[('MD661',\n",
       "  'MD662&661-F51-2017.06.06-01.06.07_MD661_1_0151',\n",
       "  array([11120, 10928])),\n",
       " ('MD661',\n",
       "  'MD662&661-F51-2017.06.06-01.06.07_MD661_1_0151',\n",
       "  array([11120, 11568])),\n",
       " ('MD661',\n",
       "  'MD662&661-F51-2017.06.06-01.06.07_MD661_1_0151',\n",
       "  array([11184, 11248])),\n",
       " ('MD661',\n",
       "  'MD662&661-F51-2017.06.06-01.06.07_MD661_1_0151',\n",
       "  array([11248, 11120])),\n",
       " ('MD661',\n",
       "  'MD662&661-F52-2017.06.06-01.35.53_MD661_3_0156',\n",
       "  array([ 8560, 11312])),\n",
       " ('MD661',\n",
       "  'MD662&661-F52-2017.06.06-01.35.53_MD661_3_0156',\n",
       "  array([ 8624, 11440])),\n",
       " ('MD661',\n",
       "  'MD662&661-F52-2017.06.06-01.35.53_MD661_3_0156',\n",
       "  array([ 8688, 11248])),\n",
       " ('MD661',\n",
       "  'MD662&661-F52-2017.06.06-01.35.53_MD661_3_0156',\n",
       "  array([ 8752, 10800])),\n",
       " ('MD661',\n",
       "  'MD662&661-F52-2017.06.06-01.35.53_MD661_3_0156',\n",
       "  array([ 8752, 11440])),\n",
       " ('MD661',\n",
       "  'MD662&661-F52-2017.06.06-01.35.53_MD661_3_0156',\n",
       "  array([ 8816, 10864]))]"
      ]
     },
     "execution_count": 83,
     "metadata": {},
     "output_type": "execute_result"
    }
   ],
   "source": [
    "[(st, metadata_cache['sections_to_filenames'][st][sec], \n",
    "  sample_locations_allStacks[st][gid]) for st,sec, gid in negative_addresses_testdata[1000:1100:10]]"
   ]
  },
  {
   "cell_type": "markdown",
   "metadata": {},
   "source": [
    "# Train"
   ]
  },
  {
   "cell_type": "code",
   "execution_count": 60,
   "metadata": {
    "collapsed": true
   },
   "outputs": [],
   "source": [
    "n_train_list = [10, 100, 200, 500, 1000, 2000, 5000, 10000, 15000]\n",
    "# n_train_list = [10, 1000]\n",
    "test_metrics_all_ntrain = defaultdict(lambda: defaultdict(list))\n",
    "train_metrics_all_ntrain = defaultdict(lambda: defaultdict(list))"
   ]
  },
  {
   "cell_type": "markdown",
   "metadata": {},
   "source": [
    "\"normalize_mu_region_sigma_wholeImage_(-1,5)\" is the best scheme"
   ]
  },
  {
   "cell_type": "code",
   "execution_count": 61,
   "metadata": {
    "scrolled": true
   },
   "outputs": [
    {
     "name": "stdout",
     "output_type": "stream",
     "text": [
      "Training: 10 positive, 10 negative\n",
      "Test: 1000 positive, 1000 negative\n"
     ]
    },
    {
     "name": "stderr",
     "output_type": "stream",
     "text": [
      "Fitting classifier: 0.02 seconds\n",
      "Fitting classifier: 0.00 seconds\n"
     ]
    },
    {
     "name": "stdout",
     "output_type": "stream",
     "text": [
      "Training: 10 positive, 10 negative\n",
      "Test: 1000 positive, 1000 negative\n"
     ]
    },
    {
     "name": "stderr",
     "output_type": "stream",
     "text": [
      "Fitting classifier: 0.02 seconds\n",
      "Fitting classifier: 0.00 seconds\n"
     ]
    },
    {
     "name": "stdout",
     "output_type": "stream",
     "text": [
      "Training: 10 positive, 10 negative\n",
      "Test: 1000 positive, 1000 negative\n"
     ]
    },
    {
     "name": "stderr",
     "output_type": "stream",
     "text": [
      "Fitting classifier: 0.02 seconds\n",
      "Fitting classifier: 0.00 seconds\n"
     ]
    },
    {
     "name": "stdout",
     "output_type": "stream",
     "text": [
      "Training: 10 positive, 10 negative\n",
      "Test: 1000 positive, 1000 negative\n"
     ]
    },
    {
     "name": "stderr",
     "output_type": "stream",
     "text": [
      "Fitting classifier: 0.02 seconds\n",
      "Fitting classifier: 0.00 seconds\n"
     ]
    },
    {
     "name": "stdout",
     "output_type": "stream",
     "text": [
      "Training: 10 positive, 10 negative\n",
      "Test: 1000 positive, 1000 negative\n"
     ]
    },
    {
     "name": "stderr",
     "output_type": "stream",
     "text": [
      "Fitting classifier: 0.01 seconds\n",
      "Fitting classifier: 0.00 seconds\n"
     ]
    },
    {
     "name": "stdout",
     "output_type": "stream",
     "text": [
      "Training: 10 positive, 10 negative\n",
      "Test: 1000 positive, 1000 negative\n"
     ]
    },
    {
     "name": "stderr",
     "output_type": "stream",
     "text": [
      "Fitting classifier: 0.02 seconds\n",
      "Fitting classifier: 0.00 seconds\n"
     ]
    },
    {
     "name": "stdout",
     "output_type": "stream",
     "text": [
      "Training: 10 positive, 10 negative\n",
      "Test: 1000 positive, 1000 negative\n"
     ]
    },
    {
     "name": "stderr",
     "output_type": "stream",
     "text": [
      "Fitting classifier: 0.01 seconds\n",
      "Fitting classifier: 0.00 seconds\n"
     ]
    },
    {
     "name": "stdout",
     "output_type": "stream",
     "text": [
      "Training: 10 positive, 10 negative\n",
      "Test: 1000 positive, 1000 negative\n"
     ]
    },
    {
     "name": "stderr",
     "output_type": "stream",
     "text": [
      "Fitting classifier: 0.01 seconds\n",
      "Fitting classifier: 0.00 seconds\n"
     ]
    },
    {
     "name": "stdout",
     "output_type": "stream",
     "text": [
      "Training: 10 positive, 10 negative\n",
      "Test: 1000 positive, 1000 negative\n"
     ]
    },
    {
     "name": "stderr",
     "output_type": "stream",
     "text": [
      "Fitting classifier: 0.01 seconds\n",
      "Fitting classifier: 0.00 seconds\n"
     ]
    },
    {
     "name": "stdout",
     "output_type": "stream",
     "text": [
      "Training: 10 positive, 10 negative\n",
      "Test: 1000 positive, 1000 negative\n"
     ]
    },
    {
     "name": "stderr",
     "output_type": "stream",
     "text": [
      "Fitting classifier: 0.01 seconds\n",
      "Fitting classifier: 0.00 seconds\n"
     ]
    },
    {
     "name": "stdout",
     "output_type": "stream",
     "text": [
      "Training: 100 positive, 100 negative\n",
      "Test: 1000 positive, 1000 negative\n"
     ]
    },
    {
     "name": "stderr",
     "output_type": "stream",
     "text": [
      "Fitting classifier: 0.28 seconds\n",
      "Fitting classifier: 0.02 seconds\n"
     ]
    },
    {
     "name": "stdout",
     "output_type": "stream",
     "text": [
      "Training: 100 positive, 100 negative\n",
      "Test: 1000 positive, 1000 negative\n"
     ]
    },
    {
     "name": "stderr",
     "output_type": "stream",
     "text": [
      "Fitting classifier: 0.26 seconds\n",
      "Fitting classifier: 0.02 seconds\n"
     ]
    },
    {
     "name": "stdout",
     "output_type": "stream",
     "text": [
      "Training: 100 positive, 100 negative\n",
      "Test: 1000 positive, 1000 negative\n"
     ]
    },
    {
     "name": "stderr",
     "output_type": "stream",
     "text": [
      "Fitting classifier: 0.28 seconds\n",
      "Fitting classifier: 0.02 seconds\n"
     ]
    },
    {
     "name": "stdout",
     "output_type": "stream",
     "text": [
      "Training: 100 positive, 100 negative\n",
      "Test: 1000 positive, 1000 negative\n"
     ]
    },
    {
     "name": "stderr",
     "output_type": "stream",
     "text": [
      "Fitting classifier: 0.28 seconds\n",
      "Fitting classifier: 0.02 seconds\n"
     ]
    },
    {
     "name": "stdout",
     "output_type": "stream",
     "text": [
      "Training: 100 positive, 100 negative\n",
      "Test: 1000 positive, 1000 negative\n"
     ]
    },
    {
     "name": "stderr",
     "output_type": "stream",
     "text": [
      "Fitting classifier: 0.25 seconds\n",
      "Fitting classifier: 0.02 seconds\n"
     ]
    },
    {
     "name": "stdout",
     "output_type": "stream",
     "text": [
      "Training: 100 positive, 100 negative\n",
      "Test: 1000 positive, 1000 negative\n"
     ]
    },
    {
     "name": "stderr",
     "output_type": "stream",
     "text": [
      "Fitting classifier: 0.25 seconds\n",
      "Fitting classifier: 0.02 seconds\n"
     ]
    },
    {
     "name": "stdout",
     "output_type": "stream",
     "text": [
      "Training: 100 positive, 100 negative\n",
      "Test: 1000 positive, 1000 negative\n"
     ]
    },
    {
     "name": "stderr",
     "output_type": "stream",
     "text": [
      "Fitting classifier: 0.29 seconds\n",
      "Fitting classifier: 0.02 seconds\n"
     ]
    },
    {
     "name": "stdout",
     "output_type": "stream",
     "text": [
      "Training: 100 positive, 100 negative\n",
      "Test: 1000 positive, 1000 negative\n"
     ]
    },
    {
     "name": "stderr",
     "output_type": "stream",
     "text": [
      "Fitting classifier: 0.27 seconds\n",
      "Fitting classifier: 0.02 seconds\n"
     ]
    },
    {
     "name": "stdout",
     "output_type": "stream",
     "text": [
      "Training: 100 positive, 100 negative\n",
      "Test: 1000 positive, 1000 negative\n"
     ]
    },
    {
     "name": "stderr",
     "output_type": "stream",
     "text": [
      "Fitting classifier: 0.26 seconds\n",
      "Fitting classifier: 0.02 seconds\n"
     ]
    },
    {
     "name": "stdout",
     "output_type": "stream",
     "text": [
      "Training: 100 positive, 100 negative\n",
      "Test: 1000 positive, 1000 negative\n"
     ]
    },
    {
     "name": "stderr",
     "output_type": "stream",
     "text": [
      "Fitting classifier: 0.26 seconds\n",
      "Fitting classifier: 0.02 seconds\n"
     ]
    },
    {
     "name": "stdout",
     "output_type": "stream",
     "text": [
      "Training: 200 positive, 200 negative\n",
      "Test: 1000 positive, 1000 negative\n"
     ]
    },
    {
     "name": "stderr",
     "output_type": "stream",
     "text": [
      "Fitting classifier: 0.63 seconds\n",
      "Fitting classifier: 0.04 seconds\n"
     ]
    },
    {
     "name": "stdout",
     "output_type": "stream",
     "text": [
      "Training: 200 positive, 200 negative\n",
      "Test: 1000 positive, 1000 negative\n"
     ]
    },
    {
     "name": "stderr",
     "output_type": "stream",
     "text": [
      "Fitting classifier: 0.68 seconds\n",
      "Fitting classifier: 0.04 seconds\n"
     ]
    },
    {
     "name": "stdout",
     "output_type": "stream",
     "text": [
      "Training: 200 positive, 200 negative\n",
      "Test: 1000 positive, 1000 negative\n"
     ]
    },
    {
     "name": "stderr",
     "output_type": "stream",
     "text": [
      "Fitting classifier: 0.67 seconds\n",
      "Fitting classifier: 0.04 seconds\n"
     ]
    },
    {
     "name": "stdout",
     "output_type": "stream",
     "text": [
      "Training: 200 positive, 200 negative\n",
      "Test: 1000 positive, 1000 negative\n"
     ]
    },
    {
     "name": "stderr",
     "output_type": "stream",
     "text": [
      "Fitting classifier: 0.71 seconds\n",
      "Fitting classifier: 0.04 seconds\n"
     ]
    },
    {
     "name": "stdout",
     "output_type": "stream",
     "text": [
      "Training: 200 positive, 200 negative\n",
      "Test: 1000 positive, 1000 negative\n"
     ]
    },
    {
     "name": "stderr",
     "output_type": "stream",
     "text": [
      "Fitting classifier: 0.72 seconds\n",
      "Fitting classifier: 0.04 seconds\n"
     ]
    },
    {
     "name": "stdout",
     "output_type": "stream",
     "text": [
      "Training: 200 positive, 200 negative\n",
      "Test: 1000 positive, 1000 negative\n"
     ]
    },
    {
     "name": "stderr",
     "output_type": "stream",
     "text": [
      "Fitting classifier: 0.62 seconds\n",
      "Fitting classifier: 0.04 seconds\n"
     ]
    },
    {
     "name": "stdout",
     "output_type": "stream",
     "text": [
      "Training: 200 positive, 200 negative\n",
      "Test: 1000 positive, 1000 negative\n"
     ]
    },
    {
     "name": "stderr",
     "output_type": "stream",
     "text": [
      "Fitting classifier: 0.76 seconds\n",
      "Fitting classifier: 0.04 seconds\n"
     ]
    },
    {
     "name": "stdout",
     "output_type": "stream",
     "text": [
      "Training: 200 positive, 200 negative\n",
      "Test: 1000 positive, 1000 negative\n"
     ]
    },
    {
     "name": "stderr",
     "output_type": "stream",
     "text": [
      "Fitting classifier: 0.70 seconds\n",
      "Fitting classifier: 0.04 seconds\n"
     ]
    },
    {
     "name": "stdout",
     "output_type": "stream",
     "text": [
      "Training: 200 positive, 200 negative\n",
      "Test: 1000 positive, 1000 negative\n"
     ]
    },
    {
     "name": "stderr",
     "output_type": "stream",
     "text": [
      "Fitting classifier: 0.78 seconds\n",
      "Fitting classifier: 0.04 seconds\n"
     ]
    },
    {
     "name": "stdout",
     "output_type": "stream",
     "text": [
      "Training: 200 positive, 200 negative\n",
      "Test: 1000 positive, 1000 negative\n"
     ]
    },
    {
     "name": "stderr",
     "output_type": "stream",
     "text": [
      "Fitting classifier: 0.78 seconds\n",
      "Fitting classifier: 0.05 seconds\n"
     ]
    },
    {
     "name": "stdout",
     "output_type": "stream",
     "text": [
      "Training: 500 positive, 500 negative\n",
      "Test: 1000 positive, 1000 negative\n"
     ]
    },
    {
     "name": "stderr",
     "output_type": "stream",
     "text": [
      "Fitting classifier: 2.61 seconds\n",
      "Fitting classifier: 0.18 seconds\n"
     ]
    },
    {
     "name": "stdout",
     "output_type": "stream",
     "text": [
      "Training: 500 positive, 500 negative\n",
      "Test: 1000 positive, 1000 negative\n"
     ]
    },
    {
     "name": "stderr",
     "output_type": "stream",
     "text": [
      "Fitting classifier: 2.45 seconds\n",
      "Fitting classifier: 0.16 seconds\n"
     ]
    },
    {
     "name": "stdout",
     "output_type": "stream",
     "text": [
      "Training: 500 positive, 500 negative\n",
      "Test: 1000 positive, 1000 negative\n"
     ]
    },
    {
     "name": "stderr",
     "output_type": "stream",
     "text": [
      "Fitting classifier: 2.48 seconds\n",
      "Fitting classifier: 0.17 seconds\n"
     ]
    },
    {
     "name": "stdout",
     "output_type": "stream",
     "text": [
      "Training: 500 positive, 500 negative\n",
      "Test: 1000 positive, 1000 negative\n"
     ]
    },
    {
     "name": "stderr",
     "output_type": "stream",
     "text": [
      "Fitting classifier: 2.20 seconds\n",
      "Fitting classifier: 0.16 seconds\n"
     ]
    },
    {
     "name": "stdout",
     "output_type": "stream",
     "text": [
      "Training: 500 positive, 500 negative\n",
      "Test: 1000 positive, 1000 negative\n"
     ]
    },
    {
     "name": "stderr",
     "output_type": "stream",
     "text": [
      "Fitting classifier: 2.01 seconds\n",
      "Fitting classifier: 0.15 seconds\n"
     ]
    },
    {
     "name": "stdout",
     "output_type": "stream",
     "text": [
      "Training: 500 positive, 500 negative\n",
      "Test: 1000 positive, 1000 negative\n"
     ]
    },
    {
     "name": "stderr",
     "output_type": "stream",
     "text": [
      "Fitting classifier: 2.67 seconds\n",
      "Fitting classifier: 0.17 seconds\n"
     ]
    },
    {
     "name": "stdout",
     "output_type": "stream",
     "text": [
      "Training: 500 positive, 500 negative\n",
      "Test: 1000 positive, 1000 negative\n"
     ]
    },
    {
     "name": "stderr",
     "output_type": "stream",
     "text": [
      "Fitting classifier: 2.89 seconds\n",
      "Fitting classifier: 0.16 seconds\n"
     ]
    },
    {
     "name": "stdout",
     "output_type": "stream",
     "text": [
      "Training: 500 positive, 500 negative\n",
      "Test: 1000 positive, 1000 negative\n"
     ]
    },
    {
     "name": "stderr",
     "output_type": "stream",
     "text": [
      "Fitting classifier: 2.58 seconds\n",
      "Fitting classifier: 0.15 seconds\n"
     ]
    },
    {
     "name": "stdout",
     "output_type": "stream",
     "text": [
      "Training: 500 positive, 500 negative\n",
      "Test: 1000 positive, 1000 negative\n"
     ]
    },
    {
     "name": "stderr",
     "output_type": "stream",
     "text": [
      "Fitting classifier: 2.22 seconds\n",
      "Fitting classifier: 0.17 seconds\n"
     ]
    },
    {
     "name": "stdout",
     "output_type": "stream",
     "text": [
      "Training: 500 positive, 500 negative\n",
      "Test: 1000 positive, 1000 negative\n"
     ]
    },
    {
     "name": "stderr",
     "output_type": "stream",
     "text": [
      "Fitting classifier: 2.43 seconds\n",
      "Fitting classifier: 0.16 seconds\n"
     ]
    },
    {
     "name": "stdout",
     "output_type": "stream",
     "text": [
      "Training: 1000 positive, 1000 negative\n",
      "Test: 1000 positive, 1000 negative\n"
     ]
    },
    {
     "name": "stderr",
     "output_type": "stream",
     "text": [
      "Fitting classifier: 5.51 seconds\n",
      "Fitting classifier: 0.38 seconds\n"
     ]
    },
    {
     "name": "stdout",
     "output_type": "stream",
     "text": [
      "Training: 1000 positive, 1000 negative\n",
      "Test: 1000 positive, 1000 negative\n"
     ]
    },
    {
     "name": "stderr",
     "output_type": "stream",
     "text": [
      "Fitting classifier: 5.15 seconds\n",
      "Fitting classifier: 0.39 seconds\n"
     ]
    },
    {
     "name": "stdout",
     "output_type": "stream",
     "text": [
      "Training: 1000 positive, 1000 negative\n",
      "Test: 1000 positive, 1000 negative\n"
     ]
    },
    {
     "name": "stderr",
     "output_type": "stream",
     "text": [
      "Fitting classifier: 4.96 seconds\n",
      "Fitting classifier: 0.44 seconds\n"
     ]
    },
    {
     "name": "stdout",
     "output_type": "stream",
     "text": [
      "Training: 1000 positive, 1000 negative\n",
      "Test: 1000 positive, 1000 negative\n"
     ]
    },
    {
     "name": "stderr",
     "output_type": "stream",
     "text": [
      "Fitting classifier: 5.53 seconds\n",
      "Fitting classifier: 0.43 seconds\n"
     ]
    },
    {
     "name": "stdout",
     "output_type": "stream",
     "text": [
      "Training: 1000 positive, 1000 negative\n",
      "Test: 1000 positive, 1000 negative\n"
     ]
    },
    {
     "name": "stderr",
     "output_type": "stream",
     "text": [
      "Fitting classifier: 5.41 seconds\n",
      "Fitting classifier: 0.47 seconds\n"
     ]
    },
    {
     "name": "stdout",
     "output_type": "stream",
     "text": [
      "Training: 1000 positive, 1000 negative\n",
      "Test: 1000 positive, 1000 negative\n"
     ]
    },
    {
     "name": "stderr",
     "output_type": "stream",
     "text": [
      "Fitting classifier: 5.32 seconds\n",
      "Fitting classifier: 0.47 seconds\n"
     ]
    },
    {
     "name": "stdout",
     "output_type": "stream",
     "text": [
      "Training: 1000 positive, 1000 negative\n",
      "Test: 1000 positive, 1000 negative\n"
     ]
    },
    {
     "name": "stderr",
     "output_type": "stream",
     "text": [
      "Fitting classifier: 5.23 seconds\n",
      "Fitting classifier: 0.39 seconds\n"
     ]
    },
    {
     "name": "stdout",
     "output_type": "stream",
     "text": [
      "Training: 1000 positive, 1000 negative\n",
      "Test: 1000 positive, 1000 negative\n"
     ]
    },
    {
     "name": "stderr",
     "output_type": "stream",
     "text": [
      "Fitting classifier: 6.38 seconds\n",
      "Fitting classifier: 0.42 seconds\n"
     ]
    },
    {
     "name": "stdout",
     "output_type": "stream",
     "text": [
      "Training: 1000 positive, 1000 negative\n",
      "Test: 1000 positive, 1000 negative\n"
     ]
    },
    {
     "name": "stderr",
     "output_type": "stream",
     "text": [
      "Fitting classifier: 5.83 seconds\n",
      "Fitting classifier: 0.53 seconds\n"
     ]
    },
    {
     "name": "stdout",
     "output_type": "stream",
     "text": [
      "Training: 1000 positive, 1000 negative\n",
      "Test: 1000 positive, 1000 negative\n"
     ]
    },
    {
     "name": "stderr",
     "output_type": "stream",
     "text": [
      "Fitting classifier: 5.73 seconds\n",
      "Fitting classifier: 0.51 seconds\n"
     ]
    }
   ],
   "source": [
    "# train_scheme = 'normalize_mu_region_sigma_wholeImage_(-1,5)'\n",
    "# train_scheme = 'none'\n",
    "# train_scheme = 'normalize_mu_region_sigma_wholeImage_(-1,9)'\n",
    "# train_scheme = 'stretch_min_max'\n",
    "\n",
    "# test_scheme = 'normalize_mu_region_sigma_wholeImage_(-1,5)'\n",
    "# test_scheme = 'median_curve'\n",
    "# test_scheme = 'normalize_mu_region_sigma_wholeImage_(-1,9)'\n",
    "# test_scheme = 'stretch_min_max'\n",
    "# test_scheme = 'none'\n",
    "\n",
    "for n_train in n_train_list:\n",
    "\n",
    "    for trial in range(10):\n",
    "\n",
    "        # If train and test data are from different sets\n",
    "    #     n_train_pos = 5000\n",
    "        n_train_pos = n_train\n",
    "        if len(positive_addresses_traindata) < n_train_pos:\n",
    "            continue\n",
    "        training_pos_indices = np.random.choice(range(len(positive_addresses_traindata)), n_train_pos, replace=False)\n",
    "        n_test_pos = 1000\n",
    "        test_pos_indices = np.random.choice(range(len(positive_addresses_testdata)),\n",
    "                                            size=min(len(positive_addresses_testdata), n_test_pos), \n",
    "                                            replace=False)\n",
    "\n",
    "        # If train and test are from same set\n",
    "    #     n_pos_total = len(positive_addresses)\n",
    "    #     n_train_pos = 1000\n",
    "    #     training_pos_indices = np.random.choice(range(n_pos_total), n_train_pos, replace=False)\n",
    "    #     test_pos_indices = np.random.choice(np.setdiff1d(range(n_pos_total), training_pos_indices),\n",
    "    #                                         size=min(2000, n_pos_total-n_train_pos), replace=False)\n",
    "    #     n_test_pos = len(test_pos_indices)\n",
    "\n",
    "        ###############\n",
    "\n",
    "        # If train and test data are from different sets\n",
    "    #     n_train_neg = 5000\n",
    "        n_train_neg = n_train\n",
    "        training_neg_indices = np.random.choice(range(len(negative_addresses_traindata)), n_train_neg, replace=False)\n",
    "        n_test_neg = 1000\n",
    "        test_neg_indices = np.random.choice(range(len(negative_addresses_testdata)),\n",
    "                                            size=min(len(negative_addresses_testdata), n_test_neg), \n",
    "                                            replace=False)\n",
    "\n",
    "        # If train and test are from same set\n",
    "    #     n_neg_total = len(negative_addresses)\n",
    "    #     n_train_neg = 1000\n",
    "    #     training_neg_indices = np.random.choice(range(n_neg_total), n_train_neg, replace=False)\n",
    "    #     test_neg_indices = np.random.choice(np.setdiff1d(range(n_neg_total), training_neg_indices), \n",
    "    #                                         size=min(2000, n_pos_total-n_train_pos), replace=False)\n",
    "    #     n_test_neg = len(test_neg_indices)\n",
    "\n",
    "        print \"Training: %d positive, %d negative\" % (n_train_pos, n_train_neg)\n",
    "        print \"Test: %d positive, %d negative\" % (n_test_pos, n_test_neg)\n",
    "\n",
    "        ################\n",
    "\n",
    "        # If train and test data are from different sets\n",
    "        addresses_train_pos = [positive_addresses_traindata[i] for i in training_pos_indices]\n",
    "        addresses_test_pos = [positive_addresses_testdata[i] for i in test_pos_indices]\n",
    "        addresses_train_neg = [negative_addresses_traindata[i] for i in training_neg_indices]\n",
    "        addresses_test_neg = [negative_addresses_testdata[i] for i in test_neg_indices]\n",
    "\n",
    "        # If train and test data are from same set\n",
    "    #     addresses_train_pos = [positive_addresses[i] for i in training_pos_indices]\n",
    "    #     addresses_test_pos = [positive_addresses[i] for i in test_pos_indices]\n",
    "    #     addresses_train_neg = [negative_addresses[i] for i in training_neg_indices]\n",
    "    #     addresses_test_neg = [negative_addresses[i] for i in test_neg_indices]\n",
    "\n",
    "        #################\n",
    "\n",
    "        for augment_training in [True, False]:\n",
    "#         for augment_training in [False]:\n",
    "\n",
    "            feature_classifier_alg = 'lr'\n",
    "    #             feature_classifier_alg = 'xgb2'\n",
    "    #             feature_classifier_alg = 'lin_svc'\n",
    "    #             feature_classifier_alg = 'lin_svc_calib'\n",
    "            sample_weights = None   \n",
    "\n",
    "            if augment_training:\n",
    "                train_transforms = range(8)\n",
    "            else:\n",
    "                train_transforms = range(1)\n",
    "                \n",
    "            test_transforms = range(1)\n",
    "                \n",
    "            features_train_pos = {(train_scheme, 'transform%d'%tf_variant): \n",
    "                                  [features_dict[(train_scheme, 'transform%d'%tf_variant)][addr] \n",
    "                                   for addr in addresses_train_pos]\n",
    "                                      for tf_variant in train_transforms}\n",
    "            features_train_neg = {(train_scheme, 'transform%d'%tf_variant): \n",
    "                                  [features_dict[(train_scheme, 'transform%d'%tf_variant)][addr] \n",
    "                                   for addr in addresses_train_neg]\n",
    "                                      for tf_variant in train_transforms}\n",
    "            features_test_pos = {(test_scheme, 'transform%d'%tf_variant): \n",
    "                                 [features_dict[(test_scheme, 'transform%d'%tf_variant)][addr] \n",
    "                                  for addr in addresses_test_pos]\n",
    "                                     for tf_variant in test_transforms}\n",
    "            features_test_neg = {(test_scheme, 'transform%d'%tf_variant): \n",
    "                                 [features_dict[(test_scheme, 'transform%d'%tf_variant)][addr]\n",
    "                                  for addr in addresses_test_neg]\n",
    "                                     for tf_variant in test_transforms}    \n",
    "                \n",
    "            if augment_training:\n",
    "                \n",
    "                train_data_list = []\n",
    "                train_label_list = []\n",
    "                for tf in range(8):\n",
    "                    train_data = np.r_[features_train_pos[(train_scheme,'transform%d'%tf)], \n",
    "                                       features_train_neg[(train_scheme,'transform%d'%tf)]]\n",
    "                    train_data_list.append(train_data)\n",
    "\n",
    "                    train_labels = np.r_[np.ones((len(features_train_pos[(train_scheme,'transform%d'%tf)]), )), \n",
    "                                         -np.ones((len(features_train_neg[(train_scheme,'transform%d'%tf)]), ))]\n",
    "                    train_label_list.append(train_labels)\n",
    "\n",
    "                train_data = np.concatenate(train_data_list)\n",
    "                train_labels = np.concatenate(train_label_list)        \n",
    "            else:\n",
    "                \n",
    "                train_data = np.r_[features_train_pos[(train_scheme,'transform0')], \n",
    "                                   features_train_neg[(train_scheme,'transform0')]]\n",
    "                train_labels = np.r_[np.ones((len(features_train_pos[(train_scheme,'transform0')]), )), \n",
    "                                     -np.ones((len(features_train_neg[(train_scheme,'transform0')]), ))]\n",
    "\n",
    "\n",
    "            clf = train_binary_classifier(train_data, train_labels,\n",
    "                                   alg=feature_classifier_alg, \n",
    "                                   sample_weights=sample_weights)\n",
    "\n",
    "            #     trained_classifiers[structure] = clf\n",
    "\n",
    "            #         clf_fp = DataManager.get_classifier_filepath(classifier_id=svm_id, structure=structure)\n",
    "            #         create_parent_dir_if_not_exists(clf_fp)\n",
    "            #         joblib.dump(clf, clf_fp)\n",
    "            #         upload_to_s3(clf_fp)\n",
    "\n",
    "            train_metrics = compute_classification_metrics(clf.predict_proba(train_data)[:,1], train_labels)\n",
    "            train_metrics_all_ntrain[n_train][(train_scheme, 'augment' if augment_training else 'no-augment')].append(train_metrics)\n",
    "            \n",
    "            test_data = np.r_[features_test_pos[(test_scheme,'transform0')], features_test_neg[(test_scheme,'transform0')]]\n",
    "            test_labels = np.r_[np.ones((len(features_test_pos[(test_scheme,'transform0')]), )), \n",
    "                                 -np.ones((len(features_test_neg[(test_scheme,'transform0')]), ))]\n",
    "            test_metrics = compute_classification_metrics(clf.predict_proba(test_data)[:,1], test_labels)\n",
    "#             print \"acc@0.5 = %.3f, acc@opt = %.3f, opt_thresh = %.3f, auroc = %.3f, auprc = %.3f\" % \\\n",
    "#             (test_metrics['acc'][0.5], test_metrics['acc'][test_metrics['opt_thresh']], test_metrics['opt_thresh'], test_metrics['auroc'], test_metrics['auprc'])\n",
    "\n",
    "            test_metrics_all_ntrain[n_train][(test_scheme, 'augment' if augment_training else 'no-augment')].append(test_metrics)\n",
    "\n",
    "train_metrics_all_ntrain.default_factory = None\n",
    "test_metrics_all_ntrain.default_factory = None"
   ]
  },
  {
   "cell_type": "code",
   "execution_count": 62,
   "metadata": {
    "collapsed": true
   },
   "outputs": [],
   "source": [
    "def extract_one_metric(metrics_all_ntrain, which, thresh=None):\n",
    "    if thresh is None:\n",
    "        return {ntrain: {test_cond: [res[which] for res in res_all_trials]\n",
    "                   for test_cond, res_all_trials in x.iteritems()}\n",
    "         for ntrain, x in metrics_all_ntrain.iteritems()}\n",
    "    else:\n",
    "        return {ntrain: {test_cond: [res[which][thresh] for res in res_all_trials]\n",
    "                   for test_cond, res_all_trials in x.iteritems()}\n",
    "         for ntrain, x in metrics_all_ntrain.iteritems()}"
   ]
  },
  {
   "cell_type": "code",
   "execution_count": 63,
   "metadata": {
    "collapsed": true
   },
   "outputs": [],
   "source": [
    "def plot_result_wrt_ntrain(test_metrics_all_ntrain, ylabel='', title=''):\n",
    "\n",
    "    for test_condition in test_metrics_all_ntrain.values()[1].keys():\n",
    "        ntrains, accs, errs = zip(*sorted([(ntrain, np.mean(x[test_condition]), np.std(x[test_condition]))\n",
    "              for ntrain, x in test_metrics_all_ntrain.iteritems() if len(x) > 0]))\n",
    "        plt.errorbar(ntrains, accs, yerr=errs, label=test_condition[1]);\n",
    "    plt.xlabel('# traing patches');\n",
    "    plt.ylabel(ylabel);\n",
    "    plt.title(title);\n",
    "    plt.legend(loc='upper right');\n",
    "    plt.ylim([0.5, 1.]);\n",
    "    plt.xlim([0,16000]);\n",
    "    plt.show()"
   ]
  },
  {
   "cell_type": "code",
   "execution_count": 64,
   "metadata": {
    "scrolled": true
   },
   "outputs": [
    {
     "data": {
      "image/png": "[encoded data removed]",
      "text/plain": [
       "<matplotlib.figure.Figure at 0x7f725b1e3a90>"
      ]
     },
     "metadata": {},
     "output_type": "display_data"
    },
    {
     "data": {
      "image/png": "[encoded data removed]",
      "text/plain": [
       "<matplotlib.figure.Figure at 0x7f700b391190>"
      ]
     },
     "metadata": {},
     "output_type": "display_data"
    },
    {
     "name": "stderr",
     "output_type": "stream",
     "text": [
      "/usr/local/lib/python2.7/dist-packages/matplotlib/axes/_axes.py:519: UserWarning: No labelled objects found. Use label='...' kwarg on individual plots.\n",
      "  warnings.warn(\"No labelled objects found. \"\n"
     ]
    },
    {
     "data": {
      "image/png": "[encoded data removed]",
      "text/plain": [
       "<matplotlib.figure.Figure at 0x7f700b391150>"
      ]
     },
     "metadata": {},
     "output_type": "display_data"
    }
   ],
   "source": [
    "plot_result_wrt_ntrain(extract_one_metric(test_metrics_all_ntrain, 'acc', 0.5), ylabel='Test accuracy@0.5 threshold');\n",
    "plot_result_wrt_ntrain(extract_one_metric(test_metrics_all_ntrain, 'auroc'), ylabel='Area under ROC');\n",
    "\n",
    "plot_roc_curve(test_metrics_all_ntrain[1000][('normalize_mu_region_sigma_wholeImage_(-1,5)',\n",
    "              'augment')][0]['fp'], \n",
    "               test_metrics_all_ntrain[1000][('normalize_mu_region_sigma_wholeImage_(-1,5)',\n",
    "              'augment')][0]['tp'], \n",
    "              test_metrics_all_ntrain[1000][('normalize_mu_region_sigma_wholeImage_(-1,5)',\n",
    "              'augment')][0]['opt_thresh']);"
   ]
  },
  {
   "cell_type": "code",
   "execution_count": 65,
   "metadata": {
    "collapsed": true
   },
   "outputs": [],
   "source": [
    "import uuid\n",
    "\n",
    "result = {\n",
    "    'n_train_sections': n_train_sections,\n",
    "    'n_test_sections': n_test_sections,\n",
    "    'train_stack': train_stack,\n",
    "    'test_stack': test_stack,\n",
    "    'test_scheme': test_scheme,\n",
    "    'train_scheme': train_scheme,\n",
    "    'train_metrics_all_ntrain': train_metrics_all_ntrain,\n",
    "    'test_metrics_all_ntrain': test_metrics_all_ntrain\n",
    "}\n",
    "\n",
    "create_if_not_exists(ROOT_DIR + '/assessment_results_v2/')\n",
    "save_pickle(result, ROOT_DIR + '/assessment_results_v2/assessment_result_%s.pkl' % str(uuid.uuid1()).split('-')[0])"
   ]
  },
  {
   "cell_type": "markdown",
   "metadata": {},
   "source": [
    "# View metrics of different conditions"
   ]
  },
  {
   "cell_type": "code",
   "execution_count": 66,
   "metadata": {
    "scrolled": true
   },
   "outputs": [
    {
     "name": "stdout",
     "output_type": "stream",
     "text": [
      "train: MD585, 10 sections, normalize_mu_region_sigma_wholeImage_(-1,5)\n",
      "test: MD589, 10 sections, normalize_mu_region_sigma_wholeImage_(-1,5)\n"
     ]
    },
    {
     "data": {
      "image/png": "[encoded data removed]",
      "text/plain": [
       "<matplotlib.figure.Figure at 0x7f700b07fc50>"
      ]
     },
     "metadata": {},
     "output_type": "display_data"
    },
    {
     "data": {
      "image/png": "[encoded data removed]",
      "text/plain": [
       "<matplotlib.figure.Figure at 0x7f700b1fba10>"
      ]
     },
     "metadata": {},
     "output_type": "display_data"
    },
    {
     "name": "stdout",
     "output_type": "stream",
     "text": [
      "0.8355\n",
      "train: MD661, 10 sections, normalize_mu_region_sigma_wholeImage_(-1,5)\n",
      "test: ChatCryoJane201710, 10 sections, normalize_mu_region_sigma_wholeImage_(-1,5)\n"
     ]
    },
    {
     "data": {
      "image/png": "[encoded data removed]",
      "text/plain": [
       "<matplotlib.figure.Figure at 0x7f7265e3e390>"
      ]
     },
     "metadata": {},
     "output_type": "display_data"
    },
    {
     "data": {
      "image/png": "[encoded data removed]",
      "text/plain": [
       "<matplotlib.figure.Figure at 0x7f700af8d890>"
      ]
     },
     "metadata": {},
     "output_type": "display_data"
    },
    {
     "name": "stdout",
     "output_type": "stream",
     "text": [
      "0.827\n",
      "train: MD595, 10 sections, normalize_mu_region_sigma_wholeImage_(-1,5)\n",
      "test: MD589, 10 sections, normalize_mu_region_sigma_wholeImage_(-1,5)\n"
     ]
    },
    {
     "data": {
      "image/png": "[encoded data removed]",
      "text/plain": [
       "<matplotlib.figure.Figure at 0x7f700ade7090>"
      ]
     },
     "metadata": {},
     "output_type": "display_data"
    },
    {
     "data": {
      "image/png": "[encoded data removed]",
      "text/plain": [
       "<matplotlib.figure.Figure at 0x7f700ad3f950>"
      ]
     },
     "metadata": {},
     "output_type": "display_data"
    },
    {
     "name": "stdout",
     "output_type": "stream",
     "text": [
      "0.7865\n",
      "train: MD589, 10 sections, normalize_mu_region_sigma_wholeImage_(-1,5)\n",
      "test: ChatCryoJane201710, 10 sections, normalize_mu_region_sigma_wholeImage_(-1,5)\n"
     ]
    },
    {
     "data": {
      "image/png": "[encoded data removed]",
      "text/plain": [
       "<matplotlib.figure.Figure at 0x7f700ac40250>"
      ]
     },
     "metadata": {},
     "output_type": "display_data"
    },
    {
     "data": {
      "image/png": "[encoded data removed]",
      "text/plain": [
       "<matplotlib.figure.Figure at 0x7f6ff4ce1ad0>"
      ]
     },
     "metadata": {},
     "output_type": "display_data"
    },
    {
     "name": "stdout",
     "output_type": "stream",
     "text": [
      "0.599\n",
      "train: MD589, 10 sections, normalize_mu_region_sigma_wholeImage_(-1,5)\n",
      "test: MD594, 10 sections, normalize_mu_region_sigma_wholeImage_(-1,5)\n"
     ]
    },
    {
     "data": {
      "image/png": "[encoded data removed]",
      "text/plain": [
       "<matplotlib.figure.Figure at 0x7f7009ca5590>"
      ]
     },
     "metadata": {},
     "output_type": "display_data"
    },
    {
     "data": {
      "image/png": "[encoded data removed]",
      "text/plain": [
       "<matplotlib.figure.Figure at 0x7f7009ca3290>"
      ]
     },
     "metadata": {},
     "output_type": "display_data"
    },
    {
     "name": "stdout",
     "output_type": "stream",
     "text": [
      "0.814\n",
      "train: MD589, 10 sections, normalize_mu_region_sigma_wholeImage_(-1,5)\n",
      "test: MD661, 10 sections, normalize_mu_region_sigma_wholeImage_(-1,5)\n"
     ]
    },
    {
     "data": {
      "image/png": "[encoded data removed]",
      "text/plain": [
       "<matplotlib.figure.Figure at 0x7f7009d837d0>"
      ]
     },
     "metadata": {},
     "output_type": "display_data"
    },
    {
     "data": {
      "image/png": "[encoded data removed]",
      "text/plain": [
       "<matplotlib.figure.Figure at 0x7f7009d37a10>"
      ]
     },
     "metadata": {},
     "output_type": "display_data"
    },
    {
     "name": "stdout",
     "output_type": "stream",
     "text": [
      "0.644\n",
      "train: MD589, 10 sections, normalize_mu_region_sigma_wholeImage_(-1,5)\n",
      "test: ChatCryoJane201710, 10 sections, normalize_mu_region_sigma_wholeImage_(-1,5)\n"
     ]
    },
    {
     "data": {
      "image/png": "[encoded data removed]",
      "text/plain": [
       "<matplotlib.figure.Figure at 0x7f700a43a390>"
      ]
     },
     "metadata": {},
     "output_type": "display_data"
    },
    {
     "data": {
      "image/png": "[encoded data removed]",
      "text/plain": [
       "<matplotlib.figure.Figure at 0x7f6ff4a46090>"
      ]
     },
     "metadata": {},
     "output_type": "display_data"
    },
    {
     "name": "stdout",
     "output_type": "stream",
     "text": [
      "0.614\n",
      "train: MD585, 10 sections, normalize_mu_region_sigma_wholeImage_(-1,5)\n",
      "test: MD589, 10 sections, normalize_mu_region_sigma_wholeImage_(-1,5)\n"
     ]
    },
    {
     "data": {
      "image/png": "[encoded data removed]",
      "text/plain": [
       "<matplotlib.figure.Figure at 0x7f6ff4852450>"
      ]
     },
     "metadata": {},
     "output_type": "display_data"
    },
    {
     "data": {
      "image/png": "[encoded data removed]",
      "text/plain": [
       "<matplotlib.figure.Figure at 0x7f7009ff51d0>"
      ]
     },
     "metadata": {},
     "output_type": "display_data"
    },
    {
     "name": "stdout",
     "output_type": "stream",
     "text": [
      "0.8355\n"
     ]
    }
   ],
   "source": [
    "for fn in os.listdir(os.path.join(ROOT_DIR + '/assessment_results_v2')):\n",
    "    fp = os.path.join(ROOT_DIR + '/assessment_results_v2', fn)\n",
    "    res = load_pickle(fp)\n",
    "    \n",
    "#     if res['train_stack'] == 'MD589' and res['test_stack'] == 'MD661':\n",
    "#     if res['train_stack'] == 'MD661' and res['test_stack'] == 'ChatCryoJane201710':\n",
    "    \n",
    "    print 'train: %s, %d sections, %s' % (res['train_stack'], res['n_train_sections'], res['train_scheme'])\n",
    "    print 'test: %s, %d sections, %s' % (res['test_stack'], res['n_test_sections'], res['test_scheme'])\n",
    "\n",
    "#         plot_result_wrt_ntrain(extract_one_metric(res['test_metrics_all_ntrain'], 'auroc'), ylabel='Area under ROC')\n",
    "    plot_result_wrt_ntrain(extract_one_metric(res['test_metrics_all_ntrain'], 'acc', 0.5), ylabel='Test accuracy @ 0.5 threshold')\n",
    "    \n",
    "    plot_roc_curve(res['test_metrics_all_ntrain'][1000][('normalize_mu_region_sigma_wholeImage_(-1,5)',\n",
    "              'augment')][0]['fp'], \n",
    "               res['test_metrics_all_ntrain'][1000][('normalize_mu_region_sigma_wholeImage_(-1,5)',\n",
    "              'augment')][0]['tp'], \n",
    "              res['test_metrics_all_ntrain'][1000][('normalize_mu_region_sigma_wholeImage_(-1,5)',\n",
    "              'augment')][0]['opt_thresh']);\n",
    "    print res['test_metrics_all_ntrain'][1000][('normalize_mu_region_sigma_wholeImage_(-1,5)',\n",
    "              'augment')][0]['acc'][0.5]"
   ]
  },
  {
   "cell_type": "code",
   "execution_count": 12,
   "metadata": {
    "scrolled": true
   },
   "outputs": [
    {
     "name": "stdout",
     "output_type": "stream",
     "text": [
      "train: MD589, 10 sections, normalize_mu_region_sigma_wholeImage_(-1,5)\n",
      "test: MD661, 10 sections, normalize_mu_region_sigma_wholeImage_(-1,5)\n"
     ]
    },
    {
     "data": {
      "image/png": "[encoded data removed]",
      "text/plain": [
       "<matplotlib.figure.Figure at 0x7f667e937090>"
      ]
     },
     "metadata": {},
     "output_type": "display_data"
    },
    {
     "name": "stdout",
     "output_type": "stream",
     "text": [
      "train: MD589, 89 sections, normalize_mu_region_sigma_wholeImage_(-1,5)\n",
      "test: MD661, 10 sections, normalize_mu_region_sigma_wholeImage_(-1,5)\n"
     ]
    },
    {
     "data": {
      "image/png": "[encoded data removed]",
      "text/plain": [
       "<matplotlib.figure.Figure at 0x7f667dcb4b90>"
      ]
     },
     "metadata": {},
     "output_type": "display_data"
    },
    {
     "name": "stdout",
     "output_type": "stream",
     "text": [
      "train: MD589, 10 sections, none\n",
      "test: MD661, 10 sections, median_curve\n"
     ]
    },
    {
     "data": {
      "image/png": "[encoded data removed]",
      "text/plain": [
       "<matplotlib.figure.Figure at 0x7f667dd127d0>"
      ]
     },
     "metadata": {},
     "output_type": "display_data"
    },
    {
     "name": "stdout",
     "output_type": "stream",
     "text": [
      "train: MD589, 10 sections, normalize_mu_region_sigma_wholeImage_(-1,5)\n",
      "test: MD661, 10 sections, median_curve\n"
     ]
    },
    {
     "data": {
      "image/png": "[encoded data removed]",
      "text/plain": [
       "<matplotlib.figure.Figure at 0x7f667dc397d0>"
      ]
     },
     "metadata": {},
     "output_type": "display_data"
    },
    {
     "name": "stdout",
     "output_type": "stream",
     "text": [
      "train: MD589, 10 sections, normalize_mu_region_sigma_wholeImage_(-1,5)\n",
      "test: MD661, 10 sections, normalize_mu_region_sigma_wholeImage_(-1,5)\n"
     ]
    },
    {
     "data": {
      "image/png": "[encoded data removed]",
      "text/plain": [
       "<matplotlib.figure.Figure at 0x7f667ea10e10>"
      ]
     },
     "metadata": {},
     "output_type": "display_data"
    },
    {
     "name": "stdout",
     "output_type": "stream",
     "text": [
      "train: MD589, 10 sections, normalize_mu_region_sigma_wholeImage_(-1,5)\n",
      "test: MD661, 10 sections, normalize_mu_region_sigma_wholeImage_(-1,5)\n"
     ]
    },
    {
     "data": {
      "image/png": "[encoded data removed]",
      "text/plain": [
       "<matplotlib.figure.Figure at 0x7f667eb67090>"
      ]
     },
     "metadata": {},
     "output_type": "display_data"
    },
    {
     "data": {
      "image/png": "[encoded data removed]",
      "text/plain": [
       "<matplotlib.figure.Figure at 0x7f667e6af850>"
      ]
     },
     "metadata": {},
     "output_type": "display_data"
    },
    {
     "name": "stdout",
     "output_type": "stream",
     "text": [
      "train: MD589, 10 sections, normalize_mu_region_sigma_wholeImage_(-1,5)\n",
      "test: MD661, 10 sections, normalize_mu_region_sigma_wholeImage_(-1,5)\n"
     ]
    },
    {
     "data": {
      "image/png": "[encoded data removed]",
      "text/plain": [
       "<matplotlib.figure.Figure at 0x7f667dd43850>"
      ]
     },
     "metadata": {},
     "output_type": "display_data"
    }
   ],
   "source": [
    "for fn in os.listdir(os.path.join(ROOT_DIR + '/assessment_results')):\n",
    "    fp = os.path.join(ROOT_DIR + '/assessment_results', fn)\n",
    "    res = load_pickle(fp)\n",
    "    \n",
    "    if res['train_stack'] == 'MD589' and res['test_stack'] == 'MD661':\n",
    "#     if res['train_stack'] == 'MD661' and res['test_stack'] == 'ChatCryoJane201710':\n",
    "    \n",
    "        print 'train: %s, %d sections, %s' % (res['train_stack'], res['n_train_sections'], res['train_scheme'])\n",
    "        print 'test: %s, %d sections, %s' % (res['test_stack'], res['n_test_sections'], res['test_scheme'])\n",
    "        if 'test_auroc_all_ntrain' in res:\n",
    "            plot_result_wrt_ntrain(res['test_auroc_all_ntrain'], ylabel='Area under ROC')\n",
    "        if 'test_accs05_all_ntrain' in res:\n",
    "            plot_result_wrt_ntrain(res['test_accs05_all_ntrain'], ylabel='Test accuracy')"
   ]
  },
  {
   "cell_type": "markdown",
   "metadata": {},
   "source": [
    "# Inspect scoremap for local regions around a certain landmark."
   ]
  },
  {
   "cell_type": "code",
   "execution_count": 200,
   "metadata": {
    "collapsed": true
   },
   "outputs": [],
   "source": [
    "from data_manager import *"
   ]
  },
  {
   "cell_type": "code",
   "execution_count": 201,
   "metadata": {
    "collapsed": true
   },
   "outputs": [],
   "source": [
    "DataManager.clear_image_cache()"
   ]
  },
  {
   "cell_type": "code",
   "execution_count": 22,
   "metadata": {
    "scrolled": true
   },
   "outputs": [
    {
     "name": "stdout",
     "output_type": "stream",
     "text": [
      "aws s3 cp --recursive \"s3://mousebrainatlas-data/CSHL_labelings_v3/ChatCryoJane201710\" \"/home/yuncong/CSHL_labelings_v3/ChatCryoJane201710\" --exclude \"*\" --include \"*contours*\"\n",
      "latest timestamp:  12132017032001\n"
     ]
    }
   ],
   "source": [
    "# local_region_bbox_all_structures_all_sections = get_local_regions(stack='ChatCryoJane201710')\n",
    "local_region_bbox_all_structures_all_sections = get_local_regions(stack=test_stack, margin_um=5000)"
   ]
  },
  {
   "cell_type": "code",
   "execution_count": 23,
   "metadata": {},
   "outputs": [
    {
     "ename": "ValueError",
     "evalue": "Cannot take a larger sample than population when 'replace=False'",
     "output_type": "error",
     "traceback": [
      "\u001b[0;31m---------------------------------------------------------------------------\u001b[0m",
      "\u001b[0;31mValueError\u001b[0m                                Traceback (most recent call last)",
      "\u001b[0;32m<ipython-input-23-b72bb800c759>\u001b[0m in \u001b[0;36m<module>\u001b[0;34m()\u001b[0m\n\u001b[1;32m     13\u001b[0m \u001b[0;31m# if len(positive_addresses_traindata) < n_train_pos:\u001b[0m\u001b[0;34m\u001b[0m\u001b[0;34m\u001b[0m\u001b[0m\n\u001b[1;32m     14\u001b[0m \u001b[0;31m#     continue\u001b[0m\u001b[0;34m\u001b[0m\u001b[0;34m\u001b[0m\u001b[0m\n\u001b[0;32m---> 15\u001b[0;31m \u001b[0mtraining_pos_indices\u001b[0m \u001b[0;34m=\u001b[0m \u001b[0mnp\u001b[0m\u001b[0;34m.\u001b[0m\u001b[0mrandom\u001b[0m\u001b[0;34m.\u001b[0m\u001b[0mchoice\u001b[0m\u001b[0;34m(\u001b[0m\u001b[0mrange\u001b[0m\u001b[0;34m(\u001b[0m\u001b[0mlen\u001b[0m\u001b[0;34m(\u001b[0m\u001b[0mpositive_addresses_traindata\u001b[0m\u001b[0;34m)\u001b[0m\u001b[0;34m)\u001b[0m\u001b[0;34m,\u001b[0m \u001b[0mn_train_pos\u001b[0m\u001b[0;34m,\u001b[0m \u001b[0mreplace\u001b[0m\u001b[0;34m=\u001b[0m\u001b[0mFalse\u001b[0m\u001b[0;34m)\u001b[0m\u001b[0;34m\u001b[0m\u001b[0m\n\u001b[0m\u001b[1;32m     16\u001b[0m \u001b[0;34m\u001b[0m\u001b[0m\n\u001b[1;32m     17\u001b[0m \u001b[0;31m###############\u001b[0m\u001b[0;34m\u001b[0m\u001b[0;34m\u001b[0m\u001b[0m\n",
      "\u001b[0;32mmtrand.pyx\u001b[0m in \u001b[0;36mmtrand.RandomState.choice\u001b[0;34m()\u001b[0m\n",
      "\u001b[0;31mValueError\u001b[0m: Cannot take a larger sample than population when 'replace=False'"
     ]
    }
   ],
   "source": [
    "# train_scheme = 'none'\n",
    "# train_scheme = 'normalize_mu_region_sigma_wholeImage_(-1,5)'\n",
    "# test_scheme = 'normalize_mu_region_sigma_wholeImage_(-1,5)'\n",
    "# test_scheme = 'median_curve'\n",
    "# train_scheme = 'stretch_min_max'\n",
    "# test_scheme = 'stretch_min_max'\n",
    "\n",
    "n_train = 2000\n",
    "\n",
    "# If train and test data are from different sets\n",
    "#     n_train_pos = 5000\n",
    "n_train_pos = n_train\n",
    "# if len(positive_addresses_traindata) < n_train_pos:\n",
    "#     continue\n",
    "training_pos_indices = np.random.choice(range(len(positive_addresses_traindata)), n_train_pos, replace=False)\n",
    "\n",
    "###############\n",
    "\n",
    "# If train and test data are from different sets\n",
    "#     n_train_neg = 5000\n",
    "n_train_neg = n_train\n",
    "training_neg_indices = np.random.choice(range(len(negative_addresses_traindata)), n_train_neg, replace=False)\n",
    "\n",
    "print \"Training: %d positive, %d negative\" % (n_train_pos, n_train_neg)\n",
    "# print \"Test: %d positive, %d negative\" % (n_test_pos, n_test_neg)\n",
    "\n",
    "################\n",
    "\n",
    "# If train and test data are from different sets\n",
    "addresses_train_pos = [positive_addresses_traindata[i] for i in training_pos_indices]\n",
    "addresses_train_neg = [negative_addresses_traindata[i] for i in training_neg_indices]\n",
    "\n",
    "#################\n",
    "\n",
    "augment_training = False\n",
    "\n",
    "feature_classifier_alg = 'lr'\n",
    "#             feature_classifier_alg = 'xgb2'\n",
    "#             feature_classifier_alg = 'lin_svc'\n",
    "#             feature_classifier_alg = 'lin_svc_calib'\n",
    "sample_weights = None   \n",
    "\n",
    "if augment_training:\n",
    "    train_transforms = range(8)\n",
    "else:\n",
    "    train_transforms = range(1)\n",
    "\n",
    "test_transforms = range(1)\n",
    "\n",
    "features_train_pos = {(train_scheme, 'transform%d'%tf_variant): \n",
    "                      [features_dict[(train_scheme, 'transform%d'%tf_variant)][addr] \n",
    "                       for addr in addresses_train_pos]\n",
    "                          for tf_variant in train_transforms}\n",
    "features_train_neg = {(train_scheme, 'transform%d'%tf_variant): \n",
    "                      [features_dict[(train_scheme, 'transform%d'%tf_variant)][addr] \n",
    "                       for addr in addresses_train_neg]\n",
    "                          for tf_variant in train_transforms}\n",
    "\n",
    "if augment_training:\n",
    "\n",
    "    train_data_list = []\n",
    "    train_label_list = []\n",
    "    for tf in range(8):\n",
    "        train_data = np.r_[features_train_pos[(train_scheme,'transform%d'%tf)], \n",
    "                           features_train_neg[(train_scheme,'transform%d'%tf)]]\n",
    "        train_data_list.append(train_data)\n",
    "\n",
    "        train_labels = np.r_[np.ones((len(features_train_pos[(train_scheme,'transform%d'%tf)]), )), \n",
    "                             -np.ones((len(features_train_neg[(train_scheme,'transform%d'%tf)]), ))]\n",
    "        train_label_list.append(train_labels)\n",
    "\n",
    "    train_data = np.concatenate(train_data_list)\n",
    "    train_labels = np.concatenate(train_label_list)        \n",
    "else:\n",
    "\n",
    "    train_data = np.r_[features_train_pos[(train_scheme,'transform0')], \n",
    "                       features_train_neg[(train_scheme,'transform0')]]\n",
    "    train_labels = np.r_[np.ones((len(features_train_pos[(train_scheme,'transform0')]), )), \n",
    "                         -np.ones((len(features_train_neg[(train_scheme,'transform0')]), ))]\n",
    "\n",
    "\n",
    "clf = train_binary_classifier(train_data, train_labels,\n",
    "                       alg=feature_classifier_alg, \n",
    "                       sample_weights=sample_weights)"
   ]
  },
  {
   "cell_type": "code",
   "execution_count": 134,
   "metadata": {
    "collapsed": true,
    "scrolled": true
   },
   "outputs": [],
   "source": [
    "# base_image_cache = {sec: DataManager.load_image_v2(stack='ChatCryoJane201710', prep_id=2, version='NtbJpeg', section=sec)\n",
    "#                    for sec in range(90, 130, 5)}\n",
    "\n",
    "# base_image_cache = {sec: DataManager.load_image_v2(stack='MD661', prep_id=2, version='grayJpeg', section=sec)\n",
    "# #                    for sec in range(90, 130, 5)\n",
    "#                     for sec in local_region_bbox_all_structures_all_sections['7N_L'].keys()[::10]\n",
    "#                    }"
   ]
  },
  {
   "cell_type": "code",
   "execution_count": 288,
   "metadata": {},
   "outputs": [
    {
     "data": {
      "text/plain": [
       "'ChatCryoJane201710_slide37-S3'"
      ]
     },
     "execution_count": 288,
     "metadata": {},
     "output_type": "execute_result"
    }
   ],
   "source": [
    "metadata_cache['sections_to_filenames']['ChatCryoJane201710'][113]"
   ]
  },
  {
   "cell_type": "code",
   "execution_count": null,
   "metadata": {
    "collapsed": true
   },
   "outputs": [],
   "source": [
    "metadata_cache['sections_to_filenames']['MD661'][150]"
   ]
  },
  {
   "cell_type": "code",
   "execution_count": 35,
   "metadata": {
    "collapsed": true
   },
   "outputs": [],
   "source": [
    "DataManager.disable_image_cache()"
   ]
  },
  {
   "cell_type": "code",
   "execution_count": null,
   "metadata": {
    "collapsed": true,
    "scrolled": false
   },
   "outputs": [],
   "source": [
    "# for sec in local_region_bbox_all_structures_all_sections['7N_L'].keys()[::10]:\n",
    "for sec in [113]:\n",
    "    viz = draw_scoremap(clf=clf, structure='7N_L', \n",
    "                        scheme=test_scheme,\n",
    "                        bbox=local_region_bbox_all_structures_all_sections['7N_L'][sec], \n",
    "                        stack=test_stack, sec=sec,\n",
    "#                        bg_img=base_image_cache[sec],\n",
    "                       feature='cnn', model=model, mean_img=mean_img, batch_size=batch_size)\n",
    "    plt.figure(figsize=(20,20));\n",
    "    plt.imshow(viz);\n",
    "    plt.show();"
   ]
  },
  {
   "cell_type": "markdown",
   "metadata": {
    "collapsed": true
   },
   "source": [
    "# ROC"
   ]
  },
  {
   "cell_type": "code",
   "execution_count": 39,
   "metadata": {
    "collapsed": true
   },
   "outputs": [],
   "source": [
    "negative_composition_rules = ['surround500']"
   ]
  },
  {
   "cell_type": "code",
   "execution_count": 40,
   "metadata": {
    "collapsed": true
   },
   "outputs": [],
   "source": [
    "fixed_n_pos = 500\n",
    "fixed_n_neg = 500"
   ]
  },
  {
   "cell_type": "code",
   "execution_count": 239,
   "metadata": {},
   "outputs": [
    {
     "name": "stdout",
     "output_type": "stream",
     "text": [
      "SNR 500 positive\n",
      "SNR 500 negative\n"
     ]
    }
   ],
   "source": [
    "acc_all_clfs_all_structures_all_negcomprule = defaultdict(lambda: defaultdict(dict))\n",
    "tp_normalized_all_clfs_all_structures_all_negcomprule = defaultdict(lambda: defaultdict(dict))\n",
    "# fn_normalized_all_clfs_all_structures_all_negcomprule = defaultdict(lambda: defaultdict(dict))\n",
    "fp_normalized_all_clfs_all_structures_all_negcomprule = defaultdict(lambda: defaultdict(dict))\n",
    "# tn_normalized_all_clfs_all_structures_all_negcomprule = defaultdict(lambda: defaultdict(dict))\n",
    "precision_normalized_all_clfs_all_structures_all_negcomprule = defaultdict(lambda: defaultdict(dict))\n",
    "recall_normalized_all_clfs_all_structures_all_negcomprule = defaultdict(lambda: defaultdict(dict))\n",
    "f1score_normalized_all_clfs_all_structures_all_negcomprule =  defaultdict(lambda: defaultdict(dict))\n",
    "\n",
    "classifier_ids = [0]\n",
    "\n",
    "for classifier_id in classifier_ids:\n",
    "    \n",
    "    clf_allClasses = trained_classifiers\n",
    "\n",
    "    ####################################################\n",
    "    # Compute accuracy against each structure surround #\n",
    "    ####################################################\n",
    "    \n",
    "    for neg_composition_rule in negative_composition_rules:\n",
    "            \n",
    "        ncols = 5\n",
    "        nrows = int(np.ceil(len(structures_found)/float(ncols)))\n",
    "\n",
    "    #     fig, axes = plt.subplots(nrows, ncols, figsize=(ncols*2, nrows*2), sharex=True, sharey=True)\n",
    "    #     axes = axes.flatten()\n",
    "\n",
    "        for i, structure in enumerate(structures_found):\n",
    "\n",
    "#             features_pos = test_features[structure]\n",
    "            features_pos = features_pos_unused\n",
    "    \n",
    "            if fixed_n_pos is not None:\n",
    "                features_pos = features_pos[np.random.choice(range( len(features_pos)), replace=False, size=(min(fixed_n_pos, len(features_pos)),))]\n",
    "\n",
    "            n_pos = len(features_pos)\n",
    "            print structure, n_pos, 'positive'\n",
    "\n",
    "            if neg_composition_rule.startswith('surround'):\n",
    "                if neg_composition_rule == 'surround200':\n",
    "                    margin_um = 200\n",
    "                elif neg_composition_rule == 'surround500':\n",
    "                    margin_um = 500\n",
    "                elif neg_composition_rule == 'surround1000':\n",
    "                    margin_um = 1000\n",
    "                else:\n",
    "                    margin_um = None\n",
    "                neg_classes = [convert_to_surround_name(structure, margin=margin_um, suffix='noclass')] + \\\n",
    "                [convert_to_surround_name(structure, margin=margin_um, suffix=surr_l) for surr_l in structures_found]\n",
    "            elif neg_composition_rule == 'negative':\n",
    "                neg_classes = [structure + '_negative']\n",
    "            else:\n",
    "                raise\n",
    "            \n",
    "            neg_classes = list(set(neg_classes) & set(labels_found))\n",
    "\n",
    "#             features_neg = np.vstack([test_features[neg_class] for neg_class in neg_classes])\n",
    "            features_neg = features_neg_unused\n",
    "    \n",
    "            if fixed_n_neg is not None:\n",
    "                features_neg = features_neg[np.random.choice(range( len(features_neg)), replace=False, size=(min(fixed_n_neg, len(features_neg)),))]        \n",
    "\n",
    "            n_neg = len(features_neg)\n",
    "            print structure, n_neg, 'negative'\n",
    "\n",
    "            test_data = np.r_[features_pos, features_neg]\n",
    "            test_labels = np.r_[np.ones((features_pos.shape[0], )), \n",
    "                                 -np.ones((features_neg.shape[0], ))]\n",
    "\n",
    "            if structure not in clf_allClasses:\n",
    "                sys.stderr.write('Classifier for structure %s does not exist.\\n' %  structure)\n",
    "                continue\n",
    "\n",
    "            clf = clf_allClasses[structure]\n",
    "\n",
    "            probs = clf.predict_proba(test_data)[:, clf.classes_.tolist().index(1.)]\n",
    "            \n",
    "            \n",
    "            ######### SOFT ########\n",
    "#             cm = compute_confusion_matrix(np.c_[probs, 1-probs], [0 if l==1. else 1 for l in test_labels], soft=True,\n",
    "#                                              normalize=False)\n",
    "#             tp = cm[0,0]\n",
    "#             fn = cm[0,1]\n",
    "#             fp = cm[1,0]\n",
    "#             tn = cm[1,1]\n",
    "\n",
    "#             acc = (tp + tn) / (n_pos + n_neg)\n",
    "#             acc_all_clfs_all_structures_all_negcomprule[classifier_id][structure][neg_composition_rule] = acc\n",
    "\n",
    "            ######## PRECISION-RECALL ########\n",
    "            precision_allthresh = {}\n",
    "            recall_allthresh = {}\n",
    "            f1score_allthresh = {}\n",
    "            tp_normalized_allthresh = {}\n",
    "            fp_normalized_allthresh = {}\n",
    "            for th in np.arange(0., 1., 0.01):\n",
    "            \n",
    "                cm = compute_confusion_matrix(np.c_[probs, 1-probs], [0 if l==1. else 1 for l in test_labels], soft=False,\n",
    "                                             normalize=False, binary=True, decision_thresh=th)\n",
    "\n",
    "                tp = cm[0,0]\n",
    "                fn = cm[0,1]\n",
    "                fp = cm[1,0]\n",
    "                tn = cm[1,1]\n",
    "                \n",
    "                tp_normalized = tp / n_pos\n",
    "#                 fn_normalized = fn / n_pos\n",
    "                fp_normalized = fp / n_neg\n",
    "#                 tn_normalized = tn / n_neg\n",
    "\n",
    "                precision = float(tp) / (tp + fp)\n",
    "                recall = float(tp) / (tp + fn)\n",
    "                f1score = 2*recall*precision/(recall+precision)\n",
    "                \n",
    "                tp_normalized_allthresh[float(th)] = tp_normalized\n",
    "                fp_normalized_allthresh[float(th)] = fp_normalized\n",
    "                precision_allthresh[float(th)] = precision\n",
    "                recall_allthresh[float(th)] = recall\n",
    "                f1score_allthresh[float(th)] = f1score\n",
    "\n",
    "            tp_normalized_all_clfs_all_structures_all_negcomprule[classifier_id][structure][neg_composition_rule] = tp_normalized_allthresh\n",
    "#             fn_normalized_all_clfs_all_structures_all_negcomprule[classifier_id][structure][neg_composition_rule] = fn_normalized_allthresh\n",
    "            fp_normalized_all_clfs_all_structures_all_negcomprule[classifier_id][structure][neg_composition_rule] = fp_normalized_allthresh\n",
    "#             tn_normalized_all_clfs_all_structures_all_negcomprule[classifier_id][structure][neg_composition_rule] = tn_normalized_allthresh\n",
    "            precision_normalized_all_clfs_all_structures_all_negcomprule[classifier_id][structure][neg_composition_rule] = precision_allthresh\n",
    "            recall_normalized_all_clfs_all_structures_all_negcomprule[classifier_id][structure][neg_composition_rule] = recall_allthresh\n",
    "            f1score_normalized_all_clfs_all_structures_all_negcomprule[classifier_id][structure][neg_composition_rule] = f1score_allthresh\n",
    "    #     plt.tight_layout()\n",
    "\n",
    "        ############################\n",
    "\n",
    "#         xticks = range(1, 1 + len(structures_sorted_by_size))\n",
    "\n",
    "#         plt.figure(figsize=(10, 1.2));\n",
    "#         plt.stem(xticks, [acc_all_clfs_all_structures[classifier_id][s] for s in structures_sorted_by_size]);\n",
    "#         plt.xticks(xticks, structures_sorted_by_size, rotation='60');\n",
    "#         plt.ylim([0.6, 1]);\n",
    "#         plt.ylabel('Accuracy');\n",
    "#         plt.xlabel('Structure Name');\n",
    "#         plt.title('Accuracy, %s, classifier %d' % (neg_composition_rule, classifier_id));\n",
    "#         plt.show();\n",
    "\n",
    "#         print 'test accuracy:', np.mean(acc_all_clfs_all_structures[classifier_id].values())\n",
    "\n",
    "#         plt.figure(figsize=(10, 1.2));\n",
    "#         plt.stem(xticks, [tp_normalized_all_clfs_all_structures[classifier_id][s] for s in structures_sorted_by_size], label='tp', markerfmt='bo');\n",
    "#         plt.stem(xticks, [fn_normalized_all_clfs_all_structures[classifier_id][s] for s in structures_sorted_by_size], label='fn', markerfmt='ro');\n",
    "#         plt.stem(xticks, [fp_normalized_all_clfs_all_structures[classifier_id][s] for s in structures_sorted_by_size], label='fp', markerfmt='ko');\n",
    "#         plt.stem(xticks, [tn_normalized_all_clfs_all_structures[classifier_id][s] for s in structures_sorted_by_size], label='tn', markerfmt='go');\n",
    "#         plt.xticks(xticks, structures_sorted_by_size, rotation='60');\n",
    "#         plt.ylabel('Percentage');\n",
    "#         plt.xlabel('Structure Name');\n",
    "#         plt.title('Accuracy, %s, classifier %d' % (neg_composition_rule, classifier_id));\n",
    "#         plt.legend();\n",
    "#         plt.show();\n",
    "\n",
    "tp_normalized_all_clfs_all_structures_all_negcomprule.default_factory = None\n",
    "# fn_normalized_all_clfs_all_structures_all_negcomprule.default_factory = None\n",
    "fp_normalized_all_clfs_all_structures_all_negcomprule.default_factory = None\n",
    "# tn_normalized_all_clfs_all_structures_all_negcomprule.default_factory = None\n",
    "precision_normalized_all_clfs_all_structures_all_negcomprule.default_factory = None\n",
    "recall_normalized_all_clfs_all_structures_all_negcomprule.default_factory = None\n",
    "f1score_normalized_all_clfs_all_structures_all_negcomprule.default_factory = None"
   ]
  },
  {
   "cell_type": "code",
   "execution_count": 240,
   "metadata": {
    "collapsed": true
   },
   "outputs": [],
   "source": [
    "structures_sorted_by_size = ['SNR']"
   ]
  },
  {
   "cell_type": "code",
   "execution_count": 241,
   "metadata": {
    "collapsed": true
   },
   "outputs": [],
   "source": [
    "fopt_normalized_all_clfs_all_structures_all_negcomprule = defaultdict(lambda: defaultdict(dict))\n",
    "optthresh_normalized_all_clfs_all_structures_all_negcomprule = defaultdict(lambda: defaultdict(dict))\n",
    "\n",
    "for classifier_id in classifier_ids:\n",
    "\n",
    "    for neg_composition_rule in negative_composition_rules:\n",
    "\n",
    "        for s in structures_sorted_by_size:\n",
    "            fp_allthresh = fp_normalized_all_clfs_all_structures_all_negcomprule[classifier_id][s][neg_composition_rule]\n",
    "            tp_allthresh = tp_normalized_all_clfs_all_structures_all_negcomprule[classifier_id][s][neg_composition_rule]\n",
    "            f_allthresh = f1score_normalized_all_clfs_all_structures_all_negcomprule[classifier_id][s][neg_composition_rule]\n",
    "\n",
    "            optimal_th = np.arange(0, 1, 0.01)[np.nanargmax([f_allthresh[th] for th in np.arange(0, 1, 0.01)])]\n",
    "            optthresh_normalized_all_clfs_all_structures_all_negcomprule[classifier_id][s][neg_composition_rule] = optimal_th\n",
    "            fopt_normalized_all_clfs_all_structures_all_negcomprule[classifier_id][s][neg_composition_rule] = f_allthresh[optimal_th]"
   ]
  },
  {
   "cell_type": "code",
   "execution_count": 242,
   "metadata": {},
   "outputs": [
    {
     "data": {
      "image/png": "[encoded data removed]",
      "text/plain": [
       "<matplotlib.figure.Figure at 0x7effd5ba0850>"
      ]
     },
     "metadata": {},
     "output_type": "display_data"
    },
    {
     "data": {
      "image/png": "[encoded data removed]",
      "text/plain": [
       "<matplotlib.figure.Figure at 0x7f015c034c90>"
      ]
     },
     "metadata": {},
     "output_type": "display_data"
    }
   ],
   "source": [
    "for classifier_id in classifier_ids:\n",
    "    for neg_composition_rule in negative_composition_rules:\n",
    "\n",
    "    #     plt.figure(figsize=(15, 10));\n",
    "        plt.figure(figsize=(10, 10));\n",
    "        plt.plot(np.arange(0, 1, 0.01), np.arange(0, 1, 0.01), c='k', linestyle='--');\n",
    "\n",
    "        fopt = {}\n",
    "        for s in structures_sorted_by_size:\n",
    "            fp_allthresh = fp_normalized_all_clfs_all_structures_all_negcomprule[classifier_id][s][neg_composition_rule]\n",
    "            tp_allthresh = tp_normalized_all_clfs_all_structures_all_negcomprule[classifier_id][s][neg_composition_rule]\n",
    "            f_allthresh = f1score_normalized_all_clfs_all_structures_all_negcomprule[classifier_id][s][neg_composition_rule]\n",
    "\n",
    "            plt.plot([fp_allthresh[float(th)] for th in np.arange(0, 1, 0.01)],\n",
    "                 [tp_allthresh[float(th)] for th in np.arange(0, 1, 0.01)]);\n",
    "\n",
    "            optimal_th = optthresh_normalized_all_clfs_all_structures_all_negcomprule[classifier_id][s][neg_composition_rule]\n",
    "            fopt = f_allthresh[optimal_th]\n",
    "\n",
    "    #         plt.scatter(fp_allthresh[optimal_th], tp_allthresh[optimal_th], \n",
    "    #             marker='o', facecolors='none', edgecolors='k')\n",
    "            plt.text(fp_allthresh[optimal_th], tp_allthresh[optimal_th]+.02, 'F=%.4f' % (fopt))\n",
    "            plt.text(fp_allthresh[optimal_th], tp_allthresh[optimal_th], s, fontsize=10)\n",
    "\n",
    "    #     plt.legend();\n",
    "        plt.ylabel('True positive rate');\n",
    "        plt.xlabel('False positive rate');\n",
    "    #     plt.xticks(np.arange(0,1,.1));\n",
    "        plt.axis('equal');\n",
    "        plt.ylim([0,1.01]);\n",
    "        plt.xlim([0,1]);\n",
    "        plt.title('ROC curves for each structure, %s' % (neg_composition_rule));\n",
    "        plt.show();\n",
    "\n",
    "    #     plt.figure();\n",
    "    #     plt.hist(fopt.values(), bins=np.arange(0.7, 1.0, 0.01));\n",
    "    #     plt.ylabel(\"Number of structures\");\n",
    "    #     plt.xlabel(\"Optimal f1 score\");\n",
    "    #     plt.show();\n",
    "\n",
    "        plt.figure();\n",
    "        xticks = range(1, 1 + len(structures_sorted_by_size))\n",
    "        (markerLines, stemLines, baseLines) = plt.stem(xticks, \n",
    "                                                       [fopt_normalized_all_clfs_all_structures_all_negcomprule[classifier_id][s][neg_composition_rule] \n",
    "                                                        for s in structures_sorted_by_size],\n",
    "         markerfmt='o', markevery=[4,8]);\n",
    "        plt.setp(markerLines, markersize=20, alpha=1.)\n",
    "        plt.xticks(xticks, structures_sorted_by_size, rotation='60');\n",
    "        plt.ylabel('Optimal F1-score');\n",
    "        plt.xlabel('Structure Name');\n",
    "        plt.ylim(np.min([fopt_normalized_all_clfs_all_structures_all_negcomprule[classifier_id][s][neg_composition_rule] \n",
    "                                                        for s in structures_sorted_by_size])-.05, 1);\n",
    "        plt.title('F1 score, %s' % (neg_composition_rule));\n",
    "        plt.legend();\n",
    "        plt.show();"
   ]
  },
  {
   "cell_type": "code",
   "execution_count": null,
   "metadata": {
    "collapsed": true
   },
   "outputs": [],
   "source": []
  }
 ],
 "metadata": {
  "kernelspec": {
   "display_name": "Python 2",
   "language": "python",
   "name": "python2"
  },
  "language_info": {
   "codemirror_mode": {
    "name": "ipython",
    "version": 2
   },
   "file_extension": ".py",
   "mimetype": "text/x-python",
   "name": "python",
   "nbconvert_exporter": "python",
   "pygments_lexer": "ipython2",
   "version": "2.7.12"
  }
 },
 "nbformat": 4,
 "nbformat_minor": 2
}
