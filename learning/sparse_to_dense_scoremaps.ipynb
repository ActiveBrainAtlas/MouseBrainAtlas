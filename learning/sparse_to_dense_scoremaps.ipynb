{
 "cells": [
  {
   "cell_type": "code",
   "execution_count": 12,
   "metadata": {
    "collapsed": false
   },
   "outputs": [
    {
     "name": "stdout",
     "output_type": "stream",
     "text": [
      "The autoreload extension is already loaded. To reload it, use:\n",
      "  %reload_ext autoreload\n"
     ]
    }
   ],
   "source": [
    "%load_ext autoreload\n",
    "%autoreload 2\n",
    "\n",
    "import numpy as np\n",
    "\n",
    "import sys\n",
    "import os\n",
    "\n",
    "sys.path.append(os.environ['REPO_DIR'] + '/utilities')\n",
    "from utilities2015 import *\n",
    "\n",
    "import matplotlib.pyplot as plt\n",
    "%matplotlib inline\n",
    "\n",
    "import pandas as pd\n",
    "\n",
    "from joblib import Parallel, delayed\n",
    "import time"
   ]
  },
  {
   "cell_type": "code",
   "execution_count": 19,
   "metadata": {
    "collapsed": true
   },
   "outputs": [],
   "source": [
    "labels = ['BackG', '5N', '7n', '7N', '12N', 'Pn', 'VLL', \n",
    "          '6N', 'Amb', 'R', 'Tz', 'RtTg', 'LRt', 'LC', 'AP', 'sp5']\n",
    "\n",
    "label_dict = dict([(l,i) for i, l in enumerate(labels)])"
   ]
  },
  {
   "cell_type": "code",
   "execution_count": 20,
   "metadata": {
    "collapsed": true
   },
   "outputs": [],
   "source": [
    "from scipy.interpolate import RectBivariateSpline\n",
    "from skimage.transform import resize"
   ]
  },
  {
   "cell_type": "code",
   "execution_count": 21,
   "metadata": {
    "collapsed": true
   },
   "outputs": [],
   "source": [
    "patches_rootdir = '/home/yuncong/CSHL_data_patches'"
   ]
  },
  {
   "cell_type": "code",
   "execution_count": 22,
   "metadata": {
    "collapsed": true
   },
   "outputs": [],
   "source": [
    "# scoremaps_rootdir = '/home/yuncong/CSHL_scoremaps_lossless_inceptionModel'\n",
    "scoremaps_rootdir = '/oasis/projects/nsf/csd395/yuncong/CSHL_scoremaps_lossless_svm'\n",
    "if not os.path.exists(scoremaps_rootdir):\n",
    "    os.makedirs(scoremaps_rootdir)\n",
    "    \n",
    "# predictions_rootdir = '/home/yuncong/CSHL_patch_predictions_inceptionModel'\n",
    "predictions_rootdir = '/oasis/projects/nsf/csd395/yuncong/CSHL_patch_predictions_svm'\n",
    "if not os.path.exists(predictions_rootdir):\n",
    "    os.makedirs(predictions_rootdir)"
   ]
  },
  {
   "cell_type": "code",
   "execution_count": 24,
   "metadata": {
    "collapsed": false,
    "scrolled": true
   },
   "outputs": [
    {
     "name": "stdout",
     "output_type": "stream",
     "text": [
      "142\n"
     ]
    },
    {
     "name": "stderr",
     "output_type": "stream",
     "text": [
      "preprocess: 4.13 seconds\n",
      "interpolate: 13.25 seconds\n"
     ]
    }
   ],
   "source": [
    "# for stack in ['MD589']:\n",
    "for stack in ['MD585']:\n",
    "# for stack in ['MD585', 'MD593', 'MD592', 'MD590', 'MD591', 'MD595', 'MD598', 'MD602', 'MD594]:\n",
    "# for stack in ['MD585', 'MD593', 'MD592', 'MD590']:\n",
    "\n",
    "    dm = DataManager(stack=stack)\n",
    "    \n",
    "    first_bs_sec, last_bs_sec = section_range_lookup[stack]\n",
    "\n",
    "    table_filepath = os.path.join(patches_rootdir, '%(stack)s_indices_allROIs_allSections.h5'%{'stack':stack})\n",
    "    indices_allROIs_allSections = pd.read_hdf(table_filepath, 'indices_allROIs_allSections')\n",
    "    grid_parameters = pd.read_hdf(table_filepath, 'grid_parameters')\n",
    "\n",
    "    patch_size, stride, w, h = grid_parameters.tolist()\n",
    "    half_size = patch_size/2\n",
    "\n",
    "    ys, xs = np.meshgrid(np.arange(half_size, h-half_size, stride), np.arange(half_size, w-half_size, stride),\n",
    "                     indexing='xy')\n",
    "\n",
    "    sample_locations = np.c_[xs.flat, ys.flat]\n",
    "    \n",
    "    first_detect_sec, last_detect_sec = detect_bbox_range_lookup[stack]\n",
    "\n",
    "#     for sec in range(188, last_detect_sec+1):\n",
    "#     for sec in range(first_detect_sec, last_detect_sec+1):\n",
    "    for sec in [142]:\n",
    "\n",
    "        if sec not in indices_allROIs_allSections.columns:\n",
    "            continue\n",
    "\n",
    "        print sec\n",
    "\n",
    "        indices_roi = indices_allROIs_allSections[sec]['roi1']\n",
    "\n",
    "        predictions_dir = os.path.join(predictions_rootdir, stack, '%04d'%sec)\n",
    "        if not os.path.exists(predictions_dir):\n",
    "            os.makedirs(predictions_dir)\n",
    "\n",
    "        scoremaps_dir = os.path.join(scoremaps_rootdir, stack, '%04d'%sec)\n",
    "        if not os.path.exists(scoremaps_dir):\n",
    "            os.makedirs(scoremaps_dir)\n",
    "\n",
    "        ## define grid, generate patches\n",
    "\n",
    "        t = time.time()\n",
    "\n",
    "        dm.set_slice(sec)\n",
    "        dm._load_image(['rgb-jpg'])\n",
    "\n",
    "        sample_locations_roi = sample_locations[indices_roi]\n",
    "        \n",
    "        ## interpolate\n",
    "\n",
    "        interpolation_xmin, interpolation_ymin = sample_locations_roi.min(axis=0)\n",
    "        interpolation_xmax, interpolation_ymax = sample_locations_roi.max(axis=0)\n",
    "        interpolation_w = interpolation_xmax - interpolation_xmin + 1\n",
    "        interpolation_h = interpolation_ymax - interpolation_ymin + 1\n",
    "\n",
    "        ##### sample_locations_roi + scores to dense_score_map #####\n",
    "\n",
    "        shrink_factor = 4 # do interpolation on a smaller grid, then resize to original dimension\n",
    "\n",
    "        sample_locations_unique_xs = np.unique(sample_locations_roi[:,0])\n",
    "        sample_locations_unique_ys = np.unique(sample_locations_roi[:,1])\n",
    "\n",
    "        n_sample_x = sample_locations_unique_xs.size\n",
    "        n_sample_y = sample_locations_unique_ys.size\n",
    "\n",
    "        index_x = dict([(j,i) for i,j in enumerate(sample_locations_unique_xs)])\n",
    "        index_y = dict([(j,i) for i,j in enumerate(sample_locations_unique_ys)])\n",
    "        sample_location_indices = np.asarray([(index_x[x], index_y[y]) for x, y in sample_locations_roi])\n",
    "\n",
    "        sample_locations_interpolatedArea_ys_matrix, \\\n",
    "        sample_locations_interpolatedArea_xs_matrix = np.meshgrid(range(interpolation_ymin/shrink_factor, \n",
    "                                                                        interpolation_ymax/shrink_factor), \n",
    "                                                                  range(interpolation_xmin/shrink_factor, \n",
    "                                                                        interpolation_xmax/shrink_factor), \n",
    "                                                                  indexing='ij')\n",
    "\n",
    "\n",
    "        sys.stderr.write('preprocess: %.2f seconds\\n' % (time.time() - t))\n",
    "        \n",
    "        dataset = '%(stack)s_%(sec)04d_roi1' % {'stack': stack, 'sec': sec}\n",
    "        probs = np.load(predictions_dir + '/%(dataset)s_predictions.npy'% {'dataset': dataset})\n",
    "        \n",
    "        def generate_score_map(label):\n",
    "\n",
    "            if label == 'BackG':\n",
    "                return\n",
    "\n",
    "            score_matrix = np.zeros((n_sample_x, n_sample_y))\n",
    "            score_matrix[sample_location_indices[:,0], sample_location_indices[:,1]] = probs[:, label_dict[label]-1]\n",
    "\n",
    "            \n",
    "            spline = RectBivariateSpline(sample_locations_unique_xs/shrink_factor, \n",
    "                                         sample_locations_unique_ys/shrink_factor, \n",
    "                                         score_matrix, \n",
    "                                         bbox=[interpolation_xmin/shrink_factor, \n",
    "                                               interpolation_xmax/shrink_factor, \n",
    "                                               interpolation_ymin/shrink_factor, \n",
    "                                               interpolation_ymax/shrink_factor])\n",
    "\n",
    "            dense_score_map = spline.ev(sample_locations_interpolatedArea_xs_matrix, \n",
    "                                        sample_locations_interpolatedArea_ys_matrix)\n",
    "\n",
    "            dense_score_map = resize(dense_score_map, (interpolation_h, interpolation_w))\n",
    "\n",
    "            dense_score_map[dense_score_map < 1e-2] = 0\n",
    "            \n",
    "            if np.count_nonzero(dense_score_map[::8, ::8] > .1) < 1e3:\n",
    "                sys.stderr.write('No %s is detected on section %d\\n' % (label, sec))\n",
    "                return\n",
    "            \n",
    "            bp.pack_ndarray_file(dense_score_map.astype(np.float32), \n",
    "                                   os.path.join(scoremaps_dir, '%(dataset)s_denseScoreMapLossless_%(label)s.bp' % \\\n",
    "                                                {'dataset': dataset, 'label': label}))\n",
    "\n",
    "            np.savetxt(os.path.join(scoremaps_dir, '%(dataset)s_denseScoreMapLossless_%(label)s_interpBox.txt' % \\\n",
    "                                        {'dataset': dataset, 'label': label}),\n",
    "                   np.array((interpolation_xmin, interpolation_xmax, interpolation_ymin, interpolation_ymax))[None], \n",
    "                   fmt='%d')\n",
    "        \n",
    "        t = time.time()\n",
    "\n",
    "        n_labels = probs.shape[1]\n",
    "\n",
    "        _ = Parallel(n_jobs=16)(delayed(generate_score_map)(l) for l in labels)\n",
    "\n",
    "        sys.stderr.write('interpolate: %.2f seconds\\n' % (time.time() - t))"
   ]
  },
  {
   "cell_type": "code",
   "execution_count": null,
   "metadata": {
    "collapsed": true
   },
   "outputs": [],
   "source": []
  }
 ],
 "metadata": {
  "kernelspec": {
   "display_name": "Python 2",
   "language": "python",
   "name": "python2"
  },
  "language_info": {
   "codemirror_mode": {
    "name": "ipython",
    "version": 2
   },
   "file_extension": ".py",
   "mimetype": "text/x-python",
   "name": "python",
   "nbconvert_exporter": "python",
   "pygments_lexer": "ipython2",
   "version": "2.7.3"
  }
 },
 "nbformat": 4,
 "nbformat_minor": 0
}
