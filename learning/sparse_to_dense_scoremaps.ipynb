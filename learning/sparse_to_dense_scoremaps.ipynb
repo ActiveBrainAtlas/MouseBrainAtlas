{
 "cells": [
  {
   "cell_type": "code",
   "execution_count": 7,
   "metadata": {
    "collapsed": false
   },
   "outputs": [
    {
     "name": "stdout",
     "output_type": "stream",
     "text": [
      "The autoreload extension is already loaded. To reload it, use:\n",
      "  %reload_ext autoreload\n"
     ]
    }
   ],
   "source": [
    "%load_ext autoreload\n",
    "%autoreload 2\n",
    "\n",
    "import numpy as np\n",
    "\n",
    "import sys\n",
    "import os\n",
    "\n",
    "sys.path.append(os.environ['REPO_DIR'] + '/utilities')\n",
    "from utilities2015 import *\n",
    "\n",
    "import matplotlib.pyplot as plt\n",
    "%matplotlib inline\n",
    "\n",
    "import pandas as pd\n",
    "\n",
    "from joblib import Parallel, delayed\n",
    "import time"
   ]
  },
  {
   "cell_type": "code",
   "execution_count": 8,
   "metadata": {
    "collapsed": true
   },
   "outputs": [],
   "source": [
    "# labels =  ['BackG', '5N', '7n', '7N', '12N', 'Gr', 'LVe', 'Pn', 'SuVe', 'VLL']\n",
    "\n",
    "labels = ['BackG', '5N', '7n', '7N', '12N', 'Gr', 'LVe', 'Pn', 'SuVe', 'VLL', \n",
    "                     '6N', 'Amb', 'R', 'Tz', 'Sol', 'RtTg', 'LRt', 'LC', 'AP', 'sp5']\n",
    "\n",
    "label_dict = dict([(l,i) for i, l in enumerate(labels)])\n",
    "\n",
    "# label_dict = dict([(l,i) for i, l in enumerate(labels)] + \\\n",
    "#                   zip(other_labels, range(len(labels), len(labels)+len(other_labels))))"
   ]
  },
  {
   "cell_type": "code",
   "execution_count": 9,
   "metadata": {
    "collapsed": true
   },
   "outputs": [],
   "source": [
    "from scipy.interpolate import RectBivariateSpline\n",
    "from skimage.transform import resize"
   ]
  },
  {
   "cell_type": "code",
   "execution_count": 10,
   "metadata": {
    "collapsed": true
   },
   "outputs": [],
   "source": [
    "patches_rootdir = '/home/yuncong/CSHL_data_patches'"
   ]
  },
  {
   "cell_type": "code",
   "execution_count": 11,
   "metadata": {
    "collapsed": true
   },
   "outputs": [],
   "source": [
    "# scoremaps_rootdir = '/home/yuncong/CSHL_scoremaps_lossless_inceptionModel'\n",
    "scoremaps_rootdir = '/home/yuncong/CSHL_scoremaps_lossless'\n",
    "if not os.path.exists(scoremaps_rootdir):\n",
    "    os.makedirs(scoremaps_rootdir)\n",
    "    \n",
    "# predictions_rootdir = '/home/yuncong/CSHL_patch_predictions_inceptionModel'\n",
    "predictions_rootdir = '/home/yuncong/CSHL_patch_predictions'\n",
    "if not os.path.exists(predictions_rootdir):\n",
    "    os.makedirs(predictions_rootdir)"
   ]
  },
  {
   "cell_type": "code",
   "execution_count": 12,
   "metadata": {
    "collapsed": false,
    "scrolled": true
   },
   "outputs": [
    {
     "name": "stdout",
     "output_type": "stream",
     "text": [
      "132\n"
     ]
    },
    {
     "name": "stderr",
     "output_type": "stream",
     "text": [
      "preprocess: 4.07 seconds\n",
      "interpolate: 17.33 seconds\n",
      "preprocess: 4.10 seconds\n",
      "No Sol is detected on section 132\n",
      "No RtTg is detected on section 132\n"
     ]
    },
    {
     "name": "stdout",
     "output_type": "stream",
     "text": [
      "133\n"
     ]
    },
    {
     "name": "stderr",
     "output_type": "stream",
     "text": [
      "interpolate: 49.18 seconds\n",
      "preprocess: 4.13 seconds\n",
      "No 12N is detected on section 133\n",
      "No 6N is detected on section 133\n",
      "No Tz is detected on section 133\n",
      "No RtTg is detected on section 133\n"
     ]
    },
    {
     "name": "stdout",
     "output_type": "stream",
     "text": [
      "134\n"
     ]
    },
    {
     "name": "stderr",
     "output_type": "stream",
     "text": [
      "interpolate: 16.92 seconds\n",
      "preprocess: 4.20 seconds\n",
      "No 12N is detected on section 134\n",
      "No RtTg is detected on section 134\n",
      "No Sol is detected on section 134\n"
     ]
    },
    {
     "name": "stdout",
     "output_type": "stream",
     "text": [
      "135\n"
     ]
    },
    {
     "name": "stderr",
     "output_type": "stream",
     "text": [
      "interpolate: 17.23 seconds\n",
      "preprocess: 4.32 seconds\n",
      "No 12N is detected on section 135\n",
      "No RtTg is detected on section 135\n",
      "No Sol is detected on section 135\n"
     ]
    },
    {
     "name": "stdout",
     "output_type": "stream",
     "text": [
      "136\n"
     ]
    },
    {
     "name": "stderr",
     "output_type": "stream",
     "text": [
      "interpolate: 16.77 seconds\n",
      "preprocess: 4.10 seconds\n",
      "No 12N is detected on section 136\n",
      "No Sol is detected on section 136\n",
      "No RtTg is detected on section 136\n"
     ]
    },
    {
     "name": "stdout",
     "output_type": "stream",
     "text": [
      "137\n"
     ]
    },
    {
     "name": "stderr",
     "output_type": "stream",
     "text": [
      "interpolate: 16.34 seconds\n",
      "preprocess: 4.04 seconds\n",
      "No 12N is detected on section 137\n",
      "No Tz is detected on section 137\n",
      "No RtTg is detected on section 137\n",
      "No Sol is detected on section 137\n"
     ]
    },
    {
     "name": "stdout",
     "output_type": "stream",
     "text": [
      "138\n"
     ]
    },
    {
     "name": "stderr",
     "output_type": "stream",
     "text": [
      "interpolate: 16.33 seconds\n",
      "preprocess: 4.20 seconds\n",
      "No RtTg is detected on section 138\n",
      "No Sol is detected on section 138\n"
     ]
    },
    {
     "name": "stdout",
     "output_type": "stream",
     "text": [
      "139\n"
     ]
    },
    {
     "name": "stderr",
     "output_type": "stream",
     "text": [
      "interpolate: 16.72 seconds\n",
      "preprocess: 4.07 seconds\n",
      "No 12N is detected on section 139\n",
      "No RtTg is detected on section 139\n"
     ]
    },
    {
     "name": "stdout",
     "output_type": "stream",
     "text": [
      "140\n"
     ]
    },
    {
     "name": "stderr",
     "output_type": "stream",
     "text": [
      "interpolate: 16.82 seconds\n",
      "preprocess: 4.24 seconds\n",
      "No RtTg is detected on section 140\n",
      "No Sol is detected on section 140\n"
     ]
    },
    {
     "name": "stdout",
     "output_type": "stream",
     "text": [
      "141\n"
     ]
    },
    {
     "name": "stderr",
     "output_type": "stream",
     "text": [
      "interpolate: 16.73 seconds\n",
      "preprocess: 3.98 seconds\n",
      "No 12N is detected on section 141\n",
      "No RtTg is detected on section 141\n"
     ]
    },
    {
     "name": "stdout",
     "output_type": "stream",
     "text": [
      "142\n"
     ]
    },
    {
     "name": "stderr",
     "output_type": "stream",
     "text": [
      "interpolate: 16.91 seconds\n",
      "preprocess: 4.28 seconds\n",
      "No RtTg is detected on section 142\n",
      "No Sol is detected on section 142\n"
     ]
    },
    {
     "name": "stdout",
     "output_type": "stream",
     "text": [
      "143\n"
     ]
    },
    {
     "name": "stderr",
     "output_type": "stream",
     "text": [
      "interpolate: 16.91 seconds\n",
      "preprocess: 4.12 seconds\n",
      "No Sol is detected on section 143\n",
      "No RtTg is detected on section 143\n"
     ]
    },
    {
     "name": "stdout",
     "output_type": "stream",
     "text": [
      "144\n"
     ]
    },
    {
     "name": "stderr",
     "output_type": "stream",
     "text": [
      "interpolate: 22.92 seconds\n",
      "preprocess: 4.03 seconds\n",
      "No Sol is detected on section 144\n",
      "No RtTg is detected on section 144\n"
     ]
    },
    {
     "name": "stdout",
     "output_type": "stream",
     "text": [
      "145\n"
     ]
    },
    {
     "name": "stderr",
     "output_type": "stream",
     "text": [
      "interpolate: 16.91 seconds\n",
      "preprocess: 4.01 seconds\n",
      "No 12N is detected on section 145\n",
      "No RtTg is detected on section 145\n"
     ]
    },
    {
     "name": "stdout",
     "output_type": "stream",
     "text": [
      "146\n"
     ]
    },
    {
     "name": "stderr",
     "output_type": "stream",
     "text": [
      "interpolate: 43.28 seconds\n",
      "preprocess: 4.75 seconds\n",
      "No 12N is detected on section 146\n",
      "No Sol is detected on section 146\n",
      "No RtTg is detected on section 146\n"
     ]
    },
    {
     "name": "stdout",
     "output_type": "stream",
     "text": [
      "147\n"
     ]
    },
    {
     "name": "stderr",
     "output_type": "stream",
     "text": [
      "interpolate: 17.31 seconds\n",
      "preprocess: 4.23 seconds\n",
      "No RtTg is detected on section 147\n"
     ]
    },
    {
     "name": "stdout",
     "output_type": "stream",
     "text": [
      "148\n"
     ]
    },
    {
     "name": "stderr",
     "output_type": "stream",
     "text": [
      "interpolate: 17.33 seconds\n",
      "preprocess: 4.02 seconds\n",
      "No RtTg is detected on section 148\n"
     ]
    },
    {
     "name": "stdout",
     "output_type": "stream",
     "text": [
      "149\n"
     ]
    },
    {
     "name": "stderr",
     "output_type": "stream",
     "text": [
      "interpolate: 51.14 seconds\n",
      "preprocess: 3.95 seconds\n",
      "No 12N is detected on section 149\n",
      "No R is detected on section 149\n",
      "No RtTg is detected on section 149\n"
     ]
    },
    {
     "name": "stdout",
     "output_type": "stream",
     "text": [
      "150\n"
     ]
    },
    {
     "name": "stderr",
     "output_type": "stream",
     "text": [
      "interpolate: 17.11 seconds\n",
      "preprocess: 4.16 seconds\n",
      "No 12N is detected on section 150\n",
      "No RtTg is detected on section 150\n"
     ]
    },
    {
     "name": "stdout",
     "output_type": "stream",
     "text": [
      "151\n"
     ]
    },
    {
     "name": "stderr",
     "output_type": "stream",
     "text": [
      "interpolate: 17.13 seconds\n",
      "preprocess: 3.96 seconds\n",
      "No 12N is detected on section 151\n",
      "No RtTg is detected on section 151\n"
     ]
    },
    {
     "name": "stdout",
     "output_type": "stream",
     "text": [
      "152\n"
     ]
    },
    {
     "name": "stderr",
     "output_type": "stream",
     "text": [
      "interpolate: 18.72 seconds\n",
      "preprocess: 4.03 seconds\n",
      "No R is detected on section 152\n",
      "No 12N is detected on section 152\n",
      "No RtTg is detected on section 152\n"
     ]
    },
    {
     "name": "stdout",
     "output_type": "stream",
     "text": [
      "153\n"
     ]
    },
    {
     "name": "stderr",
     "output_type": "stream",
     "text": [
      "interpolate: 16.44 seconds\n",
      "preprocess: 4.03 seconds\n",
      "No 12N is detected on section 153\n",
      "No RtTg is detected on section 153\n"
     ]
    },
    {
     "name": "stdout",
     "output_type": "stream",
     "text": [
      "154\n"
     ]
    },
    {
     "name": "stderr",
     "output_type": "stream",
     "text": [
      "interpolate: 17.32 seconds\n",
      "preprocess: 4.31 seconds\n",
      "No RtTg is detected on section 154\n"
     ]
    },
    {
     "name": "stdout",
     "output_type": "stream",
     "text": [
      "155\n"
     ]
    },
    {
     "name": "stderr",
     "output_type": "stream",
     "text": [
      "interpolate: 17.02 seconds\n",
      "preprocess: 3.99 seconds\n",
      "No 12N is detected on section 155\n",
      "No RtTg is detected on section 155\n"
     ]
    },
    {
     "name": "stdout",
     "output_type": "stream",
     "text": [
      "156\n"
     ]
    },
    {
     "name": "stderr",
     "output_type": "stream",
     "text": [
      "interpolate: 19.12 seconds\n",
      "preprocess: 4.12 seconds\n",
      "No RtTg is detected on section 156\n"
     ]
    },
    {
     "name": "stdout",
     "output_type": "stream",
     "text": [
      "157\n"
     ]
    },
    {
     "name": "stderr",
     "output_type": "stream",
     "text": [
      "interpolate: 28.63 seconds\n",
      "preprocess: 4.16 seconds\n",
      "No Pn is detected on section 157\n",
      "No 6N is detected on section 157\n",
      "No Sol is detected on section 157\n",
      "No Tz is detected on section 157\n",
      "No RtTg is detected on section 157\n"
     ]
    },
    {
     "name": "stdout",
     "output_type": "stream",
     "text": [
      "158\n"
     ]
    },
    {
     "name": "stderr",
     "output_type": "stream",
     "text": [
      "interpolate: 17.10 seconds\n",
      "preprocess: 4.27 seconds\n",
      "No Sol is detected on section 158\n"
     ]
    },
    {
     "name": "stdout",
     "output_type": "stream",
     "text": [
      "159\n"
     ]
    },
    {
     "name": "stderr",
     "output_type": "stream",
     "text": [
      "interpolate: 17.82 seconds\n",
      "preprocess: 4.19 seconds\n",
      "No R is detected on section 159\n",
      "No 12N is detected on section 159\n",
      "No RtTg is detected on section 159\n"
     ]
    },
    {
     "name": "stdout",
     "output_type": "stream",
     "text": [
      "160\n"
     ]
    },
    {
     "name": "stderr",
     "output_type": "stream",
     "text": [
      "interpolate: 18.84 seconds\n",
      "preprocess: 4.28 seconds\n",
      "No RtTg is detected on section 160\n"
     ]
    },
    {
     "name": "stdout",
     "output_type": "stream",
     "text": [
      "161\n"
     ]
    },
    {
     "name": "stderr",
     "output_type": "stream",
     "text": [
      "interpolate: 58.41 seconds\n",
      "preprocess: 4.30 seconds\n",
      "No 12N is detected on section 161\n",
      "No Tz is detected on section 161\n",
      "No RtTg is detected on section 161\n"
     ]
    },
    {
     "name": "stdout",
     "output_type": "stream",
     "text": [
      "162\n"
     ]
    },
    {
     "name": "stderr",
     "output_type": "stream",
     "text": [
      "interpolate: 18.04 seconds\n",
      "preprocess: 4.74 seconds\n",
      "No 12N is detected on section 162\n",
      "No RtTg is detected on section 162\n"
     ]
    },
    {
     "name": "stdout",
     "output_type": "stream",
     "text": [
      "163\n"
     ]
    },
    {
     "name": "stderr",
     "output_type": "stream",
     "text": [
      "interpolate: 19.34 seconds\n",
      "preprocess: 4.15 seconds\n",
      "No RtTg is detected on section 163\n"
     ]
    },
    {
     "name": "stdout",
     "output_type": "stream",
     "text": [
      "164\n"
     ]
    },
    {
     "name": "stderr",
     "output_type": "stream",
     "text": [
      "interpolate: 17.56 seconds\n",
      "preprocess: 4.27 seconds\n",
      "No RtTg is detected on section 164\n"
     ]
    },
    {
     "name": "stdout",
     "output_type": "stream",
     "text": [
      "165\n"
     ]
    },
    {
     "name": "stderr",
     "output_type": "stream",
     "text": [
      "interpolate: 62.25 seconds\n",
      "preprocess: 4.42 seconds\n",
      "No 12N is detected on section 165\n",
      "No 6N is detected on section 165\n",
      "No R is detected on section 165\n",
      "No Tz is detected on section 165\n",
      "No Sol is detected on section 165\n",
      "No RtTg is detected on section 165\n"
     ]
    },
    {
     "name": "stdout",
     "output_type": "stream",
     "text": [
      "166\n"
     ]
    },
    {
     "name": "stderr",
     "output_type": "stream",
     "text": [
      "interpolate: 47.81 seconds\n",
      "preprocess: 4.20 seconds\n",
      "No RtTg is detected on section 166\n"
     ]
    },
    {
     "name": "stdout",
     "output_type": "stream",
     "text": [
      "167\n"
     ]
    },
    {
     "name": "stderr",
     "output_type": "stream",
     "text": [
      "interpolate: 79.50 seconds\n",
      "preprocess: 4.36 seconds\n",
      "No R is detected on section 167\n",
      "No Tz is detected on section 167\n",
      "No Sol is detected on section 167\n",
      "No RtTg is detected on section 167\n"
     ]
    },
    {
     "name": "stdout",
     "output_type": "stream",
     "text": [
      "168\n"
     ]
    },
    {
     "name": "stderr",
     "output_type": "stream",
     "text": [
      "interpolate: 19.45 seconds\n",
      "preprocess: 4.84 seconds\n",
      "No RtTg is detected on section 168\n"
     ]
    },
    {
     "name": "stdout",
     "output_type": "stream",
     "text": [
      "169\n"
     ]
    },
    {
     "name": "stderr",
     "output_type": "stream",
     "text": [
      "interpolate: 18.42 seconds\n",
      "preprocess: 4.82 seconds\n",
      "No RtTg is detected on section 169\n"
     ]
    },
    {
     "name": "stdout",
     "output_type": "stream",
     "text": [
      "170\n"
     ]
    },
    {
     "name": "stderr",
     "output_type": "stream",
     "text": [
      "interpolate: 18.84 seconds\n",
      "preprocess: 4.30 seconds\n",
      "No RtTg is detected on section 170\n"
     ]
    },
    {
     "name": "stdout",
     "output_type": "stream",
     "text": [
      "171\n"
     ]
    },
    {
     "name": "stderr",
     "output_type": "stream",
     "text": [
      "interpolate: 56.62 seconds\n",
      "preprocess: 4.44 seconds\n",
      "No RtTg is detected on section 171\n"
     ]
    },
    {
     "name": "stdout",
     "output_type": "stream",
     "text": [
      "172\n"
     ]
    },
    {
     "name": "stderr",
     "output_type": "stream",
     "text": [
      "interpolate: 19.37 seconds\n",
      "preprocess: 4.51 seconds\n",
      "No RtTg is detected on section 172\n"
     ]
    },
    {
     "name": "stdout",
     "output_type": "stream",
     "text": [
      "173\n"
     ]
    },
    {
     "name": "stderr",
     "output_type": "stream",
     "text": [
      "interpolate: 19.24 seconds\n",
      "preprocess: 4.66 seconds\n",
      "No RtTg is detected on section 173\n"
     ]
    },
    {
     "name": "stdout",
     "output_type": "stream",
     "text": [
      "174\n"
     ]
    },
    {
     "name": "stderr",
     "output_type": "stream",
     "text": [
      "interpolate: 20.24 seconds\n",
      "preprocess: 4.35 seconds\n",
      "No RtTg is detected on section 174\n"
     ]
    },
    {
     "name": "stdout",
     "output_type": "stream",
     "text": [
      "175\n"
     ]
    },
    {
     "name": "stderr",
     "output_type": "stream",
     "text": [
      "interpolate: 21.45 seconds\n",
      "preprocess: 4.24 seconds\n",
      "No 12N is detected on section 175\n",
      "No RtTg is detected on section 175\n"
     ]
    },
    {
     "name": "stdout",
     "output_type": "stream",
     "text": [
      "176\n"
     ]
    },
    {
     "name": "stderr",
     "output_type": "stream",
     "text": [
      "interpolate: 18.63 seconds\n",
      "preprocess: 5.05 seconds\n",
      "No 6N is detected on section 176\n",
      "No 7n is detected on section 176\n",
      "No RtTg is detected on section 176\n",
      "No Tz is detected on section 176\n"
     ]
    },
    {
     "name": "stdout",
     "output_type": "stream",
     "text": [
      "177\n"
     ]
    },
    {
     "name": "stderr",
     "output_type": "stream",
     "text": [
      "interpolate: 24.44 seconds\n",
      "preprocess: 4.61 seconds\n",
      "No 6N is detected on section 177\n",
      "No RtTg is detected on section 177\n"
     ]
    },
    {
     "name": "stdout",
     "output_type": "stream",
     "text": [
      "178\n"
     ]
    },
    {
     "name": "stderr",
     "output_type": "stream",
     "text": [
      "interpolate: 19.02 seconds\n",
      "preprocess: 4.23 seconds\n",
      "No 6N is detected on section 178\n",
      "No RtTg is detected on section 178\n"
     ]
    },
    {
     "name": "stdout",
     "output_type": "stream",
     "text": [
      "179\n"
     ]
    },
    {
     "name": "stderr",
     "output_type": "stream",
     "text": [
      "interpolate: 23.84 seconds\n",
      "preprocess: 4.46 seconds\n",
      "No RtTg is detected on section 179\n"
     ]
    },
    {
     "name": "stdout",
     "output_type": "stream",
     "text": [
      "180\n"
     ]
    },
    {
     "name": "stderr",
     "output_type": "stream",
     "text": [
      "interpolate: 19.53 seconds\n",
      "preprocess: 3.97 seconds\n",
      "No 6N is detected on section 180\n"
     ]
    },
    {
     "name": "stdout",
     "output_type": "stream",
     "text": [
      "181\n"
     ]
    },
    {
     "name": "stderr",
     "output_type": "stream",
     "text": [
      "interpolate: 19.55 seconds\n",
      "preprocess: 5.07 seconds\n",
      "No 7n is detected on section 181\n",
      "No RtTg is detected on section 181\n"
     ]
    },
    {
     "name": "stdout",
     "output_type": "stream",
     "text": [
      "182\n"
     ]
    },
    {
     "name": "stderr",
     "output_type": "stream",
     "text": [
      "interpolate: 19.05 seconds\n",
      "preprocess: 4.95 seconds\n",
      "No 7n is detected on section 182\n"
     ]
    },
    {
     "name": "stdout",
     "output_type": "stream",
     "text": [
      "183\n"
     ]
    },
    {
     "name": "stderr",
     "output_type": "stream",
     "text": [
      "interpolate: 41.28 seconds\n",
      "preprocess: 5.01 seconds\n",
      "No 6N is detected on section 183\n",
      "No 7n is detected on section 183\n",
      "No RtTg is detected on section 183\n"
     ]
    },
    {
     "name": "stdout",
     "output_type": "stream",
     "text": [
      "184\n"
     ]
    },
    {
     "name": "stderr",
     "output_type": "stream",
     "text": [
      "interpolate: 52.32 seconds\n",
      "preprocess: 4.42 seconds\n",
      "No 6N is detected on section 184\n",
      "No 7n is detected on section 184\n",
      "No RtTg is detected on section 184\n"
     ]
    },
    {
     "name": "stdout",
     "output_type": "stream",
     "text": [
      "185\n"
     ]
    },
    {
     "name": "stderr",
     "output_type": "stream",
     "text": [
      "interpolate: 19.64 seconds\n",
      "preprocess: 4.30 seconds\n",
      "No 7n is detected on section 185\n",
      "No RtTg is detected on section 185\n"
     ]
    },
    {
     "name": "stdout",
     "output_type": "stream",
     "text": [
      "186\n"
     ]
    },
    {
     "name": "stderr",
     "output_type": "stream",
     "text": [
      "interpolate: 19.43 seconds\n",
      "preprocess: 4.16 seconds\n",
      "No 7n is detected on section 186\n"
     ]
    },
    {
     "name": "stdout",
     "output_type": "stream",
     "text": [
      "187\n"
     ]
    },
    {
     "name": "stderr",
     "output_type": "stream",
     "text": [
      "interpolate: 18.42 seconds\n",
      "preprocess: 4.76 seconds\n",
      "No 7n is detected on section 187\n"
     ]
    },
    {
     "name": "stdout",
     "output_type": "stream",
     "text": [
      "188\n"
     ]
    },
    {
     "name": "stderr",
     "output_type": "stream",
     "text": [
      "interpolate: 19.62 seconds\n",
      "preprocess: 4.15 seconds\n",
      "No 7n is detected on section 188\n"
     ]
    },
    {
     "name": "stdout",
     "output_type": "stream",
     "text": [
      "189\n"
     ]
    },
    {
     "name": "stderr",
     "output_type": "stream",
     "text": [
      "interpolate: 19.32 seconds\n",
      "preprocess: 4.95 seconds\n",
      "No 7n is detected on section 189\n"
     ]
    },
    {
     "name": "stdout",
     "output_type": "stream",
     "text": [
      "190\n"
     ]
    },
    {
     "name": "stderr",
     "output_type": "stream",
     "text": [
      "interpolate: 19.33 seconds\n",
      "preprocess: 4.95 seconds\n",
      "No 7n is detected on section 190\n"
     ]
    },
    {
     "name": "stdout",
     "output_type": "stream",
     "text": [
      "191\n"
     ]
    },
    {
     "name": "stderr",
     "output_type": "stream",
     "text": [
      "interpolate: 19.43 seconds\n",
      "preprocess: 4.18 seconds\n"
     ]
    },
    {
     "name": "stdout",
     "output_type": "stream",
     "text": [
      "192\n"
     ]
    },
    {
     "name": "stderr",
     "output_type": "stream",
     "text": [
      "interpolate: 20.45 seconds\n",
      "preprocess: 4.20 seconds\n"
     ]
    },
    {
     "name": "stdout",
     "output_type": "stream",
     "text": [
      "193\n"
     ]
    },
    {
     "name": "stderr",
     "output_type": "stream",
     "text": [
      "interpolate: 20.31 seconds\n",
      "preprocess: 4.72 seconds\n",
      "No 7n is detected on section 193\n"
     ]
    },
    {
     "name": "stdout",
     "output_type": "stream",
     "text": [
      "194\n"
     ]
    },
    {
     "name": "stderr",
     "output_type": "stream",
     "text": [
      "interpolate: 22.63 seconds\n",
      "preprocess: 4.46 seconds\n",
      "No 7n is detected on section 194\n",
      "No 6N is detected on section 194\n"
     ]
    },
    {
     "name": "stdout",
     "output_type": "stream",
     "text": [
      "195\n"
     ]
    },
    {
     "name": "stderr",
     "output_type": "stream",
     "text": [
      "interpolate: 21.64 seconds\n",
      "preprocess: 4.74 seconds\n",
      "No RtTg is detected on section 195\n"
     ]
    },
    {
     "name": "stdout",
     "output_type": "stream",
     "text": [
      "196\n"
     ]
    },
    {
     "name": "stderr",
     "output_type": "stream",
     "text": [
      "interpolate: 20.03 seconds\n",
      "preprocess: 4.42 seconds\n",
      "No 7n is detected on section 196\n"
     ]
    },
    {
     "name": "stdout",
     "output_type": "stream",
     "text": [
      "197\n"
     ]
    },
    {
     "name": "stderr",
     "output_type": "stream",
     "text": [
      "interpolate: 20.62 seconds\n",
      "preprocess: 4.15 seconds\n",
      "No Tz is detected on section 197\n",
      "No RtTg is detected on section 197\n"
     ]
    },
    {
     "name": "stdout",
     "output_type": "stream",
     "text": [
      "198\n"
     ]
    },
    {
     "name": "stderr",
     "output_type": "stream",
     "text": [
      "interpolate: 20.73 seconds\n",
      "preprocess: 4.69 seconds\n",
      "No 7n is detected on section 198\n"
     ]
    },
    {
     "name": "stdout",
     "output_type": "stream",
     "text": [
      "199\n"
     ]
    },
    {
     "name": "stderr",
     "output_type": "stream",
     "text": [
      "interpolate: 26.04 seconds\n",
      "preprocess: 4.25 seconds\n",
      "No RtTg is detected on section 199\n"
     ]
    },
    {
     "name": "stdout",
     "output_type": "stream",
     "text": [
      "200\n"
     ]
    },
    {
     "name": "stderr",
     "output_type": "stream",
     "text": [
      "interpolate: 18.83 seconds\n",
      "preprocess: 4.80 seconds\n",
      "No 7n is detected on section 200\n",
      "No 6N is detected on section 200\n",
      "No LVe is detected on section 200\n",
      "No Tz is detected on section 200\n"
     ]
    },
    {
     "name": "stdout",
     "output_type": "stream",
     "text": [
      "201\n"
     ]
    },
    {
     "name": "stderr",
     "output_type": "stream",
     "text": [
      "interpolate: 37.08 seconds\n",
      "preprocess: 4.19 seconds\n",
      "No 12N is detected on section 201\n",
      "No RtTg is detected on section 201\n",
      "No Tz is detected on section 201\n"
     ]
    },
    {
     "name": "stdout",
     "output_type": "stream",
     "text": [
      "202\n"
     ]
    },
    {
     "name": "stderr",
     "output_type": "stream",
     "text": [
      "interpolate: 19.63 seconds\n",
      "preprocess: 4.53 seconds\n",
      "No 6N is detected on section 202\n",
      "No Tz is detected on section 202\n"
     ]
    },
    {
     "name": "stdout",
     "output_type": "stream",
     "text": [
      "203\n"
     ]
    },
    {
     "name": "stderr",
     "output_type": "stream",
     "text": [
      "interpolate: 20.12 seconds\n",
      "preprocess: 4.23 seconds\n",
      "No RtTg is detected on section 203\n"
     ]
    },
    {
     "name": "stdout",
     "output_type": "stream",
     "text": [
      "204\n"
     ]
    },
    {
     "name": "stderr",
     "output_type": "stream",
     "text": [
      "interpolate: 19.32 seconds\n",
      "preprocess: 4.86 seconds\n",
      "No 7n is detected on section 204\n",
      "No 6N is detected on section 204\n",
      "No RtTg is detected on section 204\n",
      "No Tz is detected on section 204\n"
     ]
    },
    {
     "name": "stdout",
     "output_type": "stream",
     "text": [
      "205\n"
     ]
    },
    {
     "name": "stderr",
     "output_type": "stream",
     "text": [
      "interpolate: 20.33 seconds\n",
      "preprocess: 4.73 seconds\n",
      "No RtTg is detected on section 205\n"
     ]
    },
    {
     "name": "stdout",
     "output_type": "stream",
     "text": [
      "206\n"
     ]
    },
    {
     "name": "stderr",
     "output_type": "stream",
     "text": [
      "interpolate: 25.04 seconds\n",
      "preprocess: 5.08 seconds\n",
      "No 7n is detected on section 206\n",
      "No 6N is detected on section 206\n",
      "No RtTg is detected on section 206\n",
      "No Tz is detected on section 206\n"
     ]
    },
    {
     "name": "stdout",
     "output_type": "stream",
     "text": [
      "207\n"
     ]
    },
    {
     "name": "stderr",
     "output_type": "stream",
     "text": [
      "interpolate: 20.23 seconds\n",
      "preprocess: 4.41 seconds\n",
      "No Tz is detected on section 207\n"
     ]
    },
    {
     "name": "stdout",
     "output_type": "stream",
     "text": [
      "208\n"
     ]
    },
    {
     "name": "stderr",
     "output_type": "stream",
     "text": [
      "interpolate: 20.23 seconds\n",
      "preprocess: 4.05 seconds\n",
      "No Tz is detected on section 208\n"
     ]
    },
    {
     "name": "stdout",
     "output_type": "stream",
     "text": [
      "209\n"
     ]
    },
    {
     "name": "stderr",
     "output_type": "stream",
     "text": [
      "interpolate: 20.93 seconds\n",
      "preprocess: 4.27 seconds\n",
      "No Tz is detected on section 209\n",
      "No RtTg is detected on section 209\n"
     ]
    },
    {
     "name": "stdout",
     "output_type": "stream",
     "text": [
      "210\n"
     ]
    },
    {
     "name": "stderr",
     "output_type": "stream",
     "text": [
      "interpolate: 21.14 seconds\n",
      "preprocess: 4.28 seconds\n",
      "No RtTg is detected on section 210\n",
      "No Tz is detected on section 210\n"
     ]
    },
    {
     "name": "stdout",
     "output_type": "stream",
     "text": [
      "211\n"
     ]
    },
    {
     "name": "stderr",
     "output_type": "stream",
     "text": [
      "interpolate: 22.04 seconds\n",
      "preprocess: 4.06 seconds\n",
      "No Tz is detected on section 211\n"
     ]
    },
    {
     "name": "stdout",
     "output_type": "stream",
     "text": [
      "212\n"
     ]
    },
    {
     "name": "stderr",
     "output_type": "stream",
     "text": [
      "interpolate: 19.43 seconds\n",
      "preprocess: 5.37 seconds\n",
      "No 7n is detected on section 212\n",
      "No 6N is detected on section 212\n",
      "No RtTg is detected on section 212\n",
      "No Tz is detected on section 212\n"
     ]
    },
    {
     "name": "stdout",
     "output_type": "stream",
     "text": [
      "213\n"
     ]
    },
    {
     "name": "stderr",
     "output_type": "stream",
     "text": [
      "interpolate: 26.26 seconds\n",
      "preprocess: 4.64 seconds\n",
      "No Tz is detected on section 213\n",
      "No RtTg is detected on section 213\n"
     ]
    },
    {
     "name": "stdout",
     "output_type": "stream",
     "text": [
      "214\n"
     ]
    },
    {
     "name": "stderr",
     "output_type": "stream",
     "text": [
      "interpolate: 36.28 seconds\n",
      "preprocess: 4.60 seconds\n",
      "No 6N is detected on section 214\n",
      "No RtTg is detected on section 214\n",
      "No Tz is detected on section 214\n"
     ]
    },
    {
     "name": "stdout",
     "output_type": "stream",
     "text": [
      "215\n"
     ]
    },
    {
     "name": "stderr",
     "output_type": "stream",
     "text": [
      "interpolate: 56.52 seconds\n",
      "preprocess: 4.44 seconds\n",
      "No Tz is detected on section 215\n",
      "No RtTg is detected on section 215\n"
     ]
    },
    {
     "name": "stdout",
     "output_type": "stream",
     "text": [
      "216\n"
     ]
    },
    {
     "name": "stderr",
     "output_type": "stream",
     "text": [
      "interpolate: 22.14 seconds\n",
      "preprocess: 4.38 seconds\n",
      "No RtTg is detected on section 216\n",
      "No Tz is detected on section 216\n"
     ]
    },
    {
     "name": "stdout",
     "output_type": "stream",
     "text": [
      "217\n"
     ]
    },
    {
     "name": "stderr",
     "output_type": "stream",
     "text": [
      "interpolate: 49.82 seconds\n",
      "preprocess: 4.40 seconds\n",
      "No Tz is detected on section 217\n",
      "No RtTg is detected on section 217\n"
     ]
    },
    {
     "name": "stdout",
     "output_type": "stream",
     "text": [
      "218\n"
     ]
    },
    {
     "name": "stderr",
     "output_type": "stream",
     "text": [
      "interpolate: 21.73 seconds\n",
      "preprocess: 4.54 seconds\n",
      "No 6N is detected on section 218\n",
      "No Tz is detected on section 218\n"
     ]
    },
    {
     "name": "stdout",
     "output_type": "stream",
     "text": [
      "219\n"
     ]
    },
    {
     "name": "stderr",
     "output_type": "stream",
     "text": [
      "interpolate: 21.94 seconds\n",
      "preprocess: 4.30 seconds\n",
      "No RtTg is detected on section 219\n"
     ]
    },
    {
     "name": "stdout",
     "output_type": "stream",
     "text": [
      "220\n"
     ]
    },
    {
     "name": "stderr",
     "output_type": "stream",
     "text": [
      "interpolate: 21.64 seconds\n",
      "preprocess: 4.31 seconds\n",
      "No Tz is detected on section 220\n",
      "No RtTg is detected on section 220\n"
     ]
    },
    {
     "name": "stdout",
     "output_type": "stream",
     "text": [
      "221\n"
     ]
    },
    {
     "name": "stderr",
     "output_type": "stream",
     "text": [
      "interpolate: 22.94 seconds\n",
      "preprocess: 4.65 seconds\n",
      "No RtTg is detected on section 221\n"
     ]
    },
    {
     "name": "stdout",
     "output_type": "stream",
     "text": [
      "222\n"
     ]
    },
    {
     "name": "stderr",
     "output_type": "stream",
     "text": [
      "interpolate: 22.45 seconds\n",
      "preprocess: 4.75 seconds\n",
      "No Tz is detected on section 222\n"
     ]
    },
    {
     "name": "stdout",
     "output_type": "stream",
     "text": [
      "223\n"
     ]
    },
    {
     "name": "stderr",
     "output_type": "stream",
     "text": [
      "interpolate: 22.75 seconds\n",
      "preprocess: 4.23 seconds\n",
      "No RtTg is detected on section 223\n"
     ]
    },
    {
     "name": "stdout",
     "output_type": "stream",
     "text": [
      "224\n"
     ]
    },
    {
     "name": "stderr",
     "output_type": "stream",
     "text": [
      "interpolate: 27.35 seconds\n",
      "preprocess: 4.30 seconds\n",
      "No LVe is detected on section 224\n",
      "No 6N is detected on section 224\n",
      "No 7n is detected on section 224\n",
      "No Tz is detected on section 224\n"
     ]
    },
    {
     "name": "stdout",
     "output_type": "stream",
     "text": [
      "225\n"
     ]
    },
    {
     "name": "stderr",
     "output_type": "stream",
     "text": [
      "interpolate: 20.74 seconds\n",
      "preprocess: 4.21 seconds\n",
      "No RtTg is detected on section 225\n"
     ]
    },
    {
     "name": "stdout",
     "output_type": "stream",
     "text": [
      "226\n"
     ]
    },
    {
     "name": "stderr",
     "output_type": "stream",
     "text": [
      "interpolate: 19.12 seconds\n",
      "preprocess: 5.42 seconds\n",
      "No 7n is detected on section 226\n",
      "No 6N is detected on section 226\n",
      "No Tz is detected on section 226\n"
     ]
    },
    {
     "name": "stdout",
     "output_type": "stream",
     "text": [
      "227\n"
     ]
    },
    {
     "name": "stderr",
     "output_type": "stream",
     "text": [
      "interpolate: 21.53 seconds\n",
      "preprocess: 5.04 seconds\n",
      "No RtTg is detected on section 227\n"
     ]
    },
    {
     "name": "stdout",
     "output_type": "stream",
     "text": [
      "228\n"
     ]
    },
    {
     "name": "stderr",
     "output_type": "stream",
     "text": [
      "interpolate: 19.31 seconds\n",
      "preprocess: 4.37 seconds\n",
      "No 6N is detected on section 228\n",
      "No 7n is detected on section 228\n"
     ]
    },
    {
     "name": "stdout",
     "output_type": "stream",
     "text": [
      "229\n"
     ]
    },
    {
     "name": "stderr",
     "output_type": "stream",
     "text": [
      "interpolate: 24.63 seconds\n",
      "preprocess: 4.35 seconds\n",
      "No RtTg is detected on section 229\n"
     ]
    },
    {
     "name": "stdout",
     "output_type": "stream",
     "text": [
      "230\n"
     ]
    },
    {
     "name": "stderr",
     "output_type": "stream",
     "text": [
      "interpolate: 20.03 seconds\n",
      "preprocess: 5.24 seconds\n",
      "No 6N is detected on section 230\n",
      "No 7n is detected on section 230\n"
     ]
    },
    {
     "name": "stdout",
     "output_type": "stream",
     "text": [
      "231\n"
     ]
    },
    {
     "name": "stderr",
     "output_type": "stream",
     "text": [
      "interpolate: 20.07 seconds\n",
      "preprocess: 4.38 seconds\n",
      "No RtTg is detected on section 231\n"
     ]
    },
    {
     "name": "stdout",
     "output_type": "stream",
     "text": [
      "232\n"
     ]
    },
    {
     "name": "stderr",
     "output_type": "stream",
     "text": [
      "interpolate: 19.74 seconds\n",
      "preprocess: 5.18 seconds\n",
      "No 7n is detected on section 232\n"
     ]
    },
    {
     "name": "stdout",
     "output_type": "stream",
     "text": [
      "233\n"
     ]
    },
    {
     "name": "stderr",
     "output_type": "stream",
     "text": [
      "interpolate: 20.35 seconds\n",
      "preprocess: 4.36 seconds\n",
      "No RtTg is detected on section 233\n"
     ]
    },
    {
     "name": "stdout",
     "output_type": "stream",
     "text": [
      "234\n"
     ]
    },
    {
     "name": "stderr",
     "output_type": "stream",
     "text": [
      "interpolate: 21.03 seconds\n",
      "preprocess: 4.43 seconds\n",
      "No 7n is detected on section 234\n"
     ]
    },
    {
     "name": "stdout",
     "output_type": "stream",
     "text": [
      "235\n"
     ]
    },
    {
     "name": "stderr",
     "output_type": "stream",
     "text": [
      "interpolate: 22.25 seconds\n",
      "preprocess: 4.87 seconds\n",
      "No RtTg is detected on section 235\n"
     ]
    },
    {
     "name": "stdout",
     "output_type": "stream",
     "text": [
      "236\n"
     ]
    },
    {
     "name": "stderr",
     "output_type": "stream",
     "text": [
      "interpolate: 20.73 seconds\n",
      "preprocess: 4.88 seconds\n",
      "No 6N is detected on section 236\n",
      "No RtTg is detected on section 236\n"
     ]
    },
    {
     "name": "stdout",
     "output_type": "stream",
     "text": [
      "237\n"
     ]
    },
    {
     "name": "stderr",
     "output_type": "stream",
     "text": [
      "interpolate: 20.93 seconds\n",
      "preprocess: 4.23 seconds\n",
      "No RtTg is detected on section 237\n"
     ]
    },
    {
     "name": "stdout",
     "output_type": "stream",
     "text": [
      "238\n"
     ]
    },
    {
     "name": "stderr",
     "output_type": "stream",
     "text": [
      "interpolate: 24.13 seconds\n",
      "preprocess: 5.46 seconds\n"
     ]
    },
    {
     "name": "stdout",
     "output_type": "stream",
     "text": [
      "239\n"
     ]
    },
    {
     "name": "stderr",
     "output_type": "stream",
     "text": [
      "interpolate: 19.63 seconds\n",
      "preprocess: 4.58 seconds\n",
      "No RtTg is detected on section 239\n"
     ]
    },
    {
     "name": "stdout",
     "output_type": "stream",
     "text": [
      "240\n"
     ]
    },
    {
     "name": "stderr",
     "output_type": "stream",
     "text": [
      "interpolate: 19.91 seconds\n",
      "preprocess: 4.37 seconds\n"
     ]
    },
    {
     "name": "stdout",
     "output_type": "stream",
     "text": [
      "241\n"
     ]
    },
    {
     "name": "stderr",
     "output_type": "stream",
     "text": [
      "interpolate: 19.73 seconds\n",
      "preprocess: 4.52 seconds\n",
      "No RtTg is detected on section 241\n"
     ]
    },
    {
     "name": "stdout",
     "output_type": "stream",
     "text": [
      "242\n"
     ]
    },
    {
     "name": "stderr",
     "output_type": "stream",
     "text": [
      "interpolate: 20.63 seconds\n",
      "preprocess: 5.31 seconds\n",
      "No 6N is detected on section 242\n"
     ]
    },
    {
     "name": "stdout",
     "output_type": "stream",
     "text": [
      "243\n"
     ]
    },
    {
     "name": "stderr",
     "output_type": "stream",
     "text": [
      "interpolate: 19.68 seconds\n",
      "preprocess: 4.73 seconds\n",
      "No RtTg is detected on section 243\n"
     ]
    },
    {
     "name": "stdout",
     "output_type": "stream",
     "text": [
      "244\n"
     ]
    },
    {
     "name": "stderr",
     "output_type": "stream",
     "text": [
      "interpolate: 19.12 seconds\n",
      "preprocess: 4.47 seconds\n"
     ]
    },
    {
     "name": "stdout",
     "output_type": "stream",
     "text": [
      "245\n"
     ]
    },
    {
     "name": "stderr",
     "output_type": "stream",
     "text": [
      "interpolate: 54.10 seconds\n",
      "preprocess: 4.17 seconds\n",
      "No RtTg is detected on section 245\n"
     ]
    },
    {
     "name": "stdout",
     "output_type": "stream",
     "text": [
      "246\n"
     ]
    },
    {
     "name": "stderr",
     "output_type": "stream",
     "text": [
      "interpolate: 20.33 seconds\n",
      "preprocess: 4.36 seconds\n"
     ]
    },
    {
     "name": "stdout",
     "output_type": "stream",
     "text": [
      "247\n"
     ]
    },
    {
     "name": "stderr",
     "output_type": "stream",
     "text": [
      "interpolate: 31.97 seconds\n",
      "preprocess: 4.19 seconds\n",
      "No 12N is detected on section 247\n",
      "No RtTg is detected on section 247\n"
     ]
    },
    {
     "name": "stdout",
     "output_type": "stream",
     "text": [
      "248\n"
     ]
    },
    {
     "name": "stderr",
     "output_type": "stream",
     "text": [
      "interpolate: 18.72 seconds\n",
      "preprocess: 3.93 seconds\n",
      "No RtTg is detected on section 248\n"
     ]
    },
    {
     "name": "stdout",
     "output_type": "stream",
     "text": [
      "249\n"
     ]
    },
    {
     "name": "stderr",
     "output_type": "stream",
     "text": [
      "interpolate: 19.21 seconds\n",
      "preprocess: 4.27 seconds\n",
      "No 12N is detected on section 249\n",
      "No VLL is detected on section 249\n",
      "No LVe is detected on section 249\n",
      "No Gr is detected on section 249\n",
      "No 6N is detected on section 249\n",
      "No SuVe is detected on section 249\n",
      "No Tz is detected on section 249\n",
      "No Sol is detected on section 249\n",
      "No RtTg is detected on section 249\n"
     ]
    },
    {
     "name": "stdout",
     "output_type": "stream",
     "text": [
      "250\n"
     ]
    },
    {
     "name": "stderr",
     "output_type": "stream",
     "text": [
      "interpolate: 20.01 seconds\n",
      "preprocess: 3.85 seconds\n",
      "No 6N is detected on section 250\n",
      "No RtTg is detected on section 250\n"
     ]
    },
    {
     "name": "stdout",
     "output_type": "stream",
     "text": [
      "251\n"
     ]
    },
    {
     "name": "stderr",
     "output_type": "stream",
     "text": [
      "interpolate: 20.02 seconds\n",
      "preprocess: 5.82 seconds\n",
      "No Gr is detected on section 251\n",
      "No VLL is detected on section 251\n",
      "No LVe is detected on section 251\n",
      "No 12N is detected on section 251\n",
      "No 6N is detected on section 251\n",
      "No SuVe is detected on section 251\n",
      "No Tz is detected on section 251\n",
      "No Sol is detected on section 251\n",
      "No RtTg is detected on section 251\n"
     ]
    },
    {
     "name": "stdout",
     "output_type": "stream",
     "text": [
      "252\n"
     ]
    },
    {
     "name": "stderr",
     "output_type": "stream",
     "text": [
      "interpolate: 20.74 seconds\n",
      "preprocess: 4.43 seconds\n",
      "No 7n is detected on section 252\n",
      "No RtTg is detected on section 252\n"
     ]
    },
    {
     "name": "stdout",
     "output_type": "stream",
     "text": [
      "253\n"
     ]
    },
    {
     "name": "stderr",
     "output_type": "stream",
     "text": [
      "interpolate: 19.51 seconds\n",
      "preprocess: 4.17 seconds\n",
      "No 6N is detected on section 253\n",
      "No 12N is detected on section 253\n",
      "No VLL is detected on section 253\n",
      "No SuVe is detected on section 253\n",
      "No LVe is detected on section 253\n",
      "No Gr is detected on section 253\n",
      "No Tz is detected on section 253\n",
      "No Sol is detected on section 253\n",
      "No RtTg is detected on section 253\n"
     ]
    },
    {
     "name": "stdout",
     "output_type": "stream",
     "text": [
      "254\n"
     ]
    },
    {
     "name": "stderr",
     "output_type": "stream",
     "text": [
      "interpolate: 24.14 seconds\n",
      "preprocess: 4.81 seconds\n",
      "No Tz is detected on section 254\n"
     ]
    },
    {
     "name": "stdout",
     "output_type": "stream",
     "text": [
      "255\n"
     ]
    },
    {
     "name": "stderr",
     "output_type": "stream",
     "text": [
      "interpolate: 20.91 seconds\n",
      "preprocess: 4.77 seconds\n"
     ]
    },
    {
     "name": "stdout",
     "output_type": "stream",
     "text": [
      "256\n"
     ]
    },
    {
     "name": "stderr",
     "output_type": "stream",
     "text": [
      "interpolate: 21.04 seconds\n",
      "preprocess: 4.44 seconds\n",
      "No RtTg is detected on section 256\n"
     ]
    },
    {
     "name": "stdout",
     "output_type": "stream",
     "text": [
      "257\n"
     ]
    },
    {
     "name": "stderr",
     "output_type": "stream",
     "text": [
      "interpolate: 20.13 seconds\n",
      "preprocess: 4.22 seconds\n",
      "No RtTg is detected on section 257\n"
     ]
    },
    {
     "name": "stdout",
     "output_type": "stream",
     "text": [
      "258\n"
     ]
    },
    {
     "name": "stderr",
     "output_type": "stream",
     "text": [
      "interpolate: 19.94 seconds\n",
      "preprocess: 4.33 seconds\n",
      "No 6N is detected on section 258\n",
      "No RtTg is detected on section 258\n",
      "No Tz is detected on section 258\n"
     ]
    },
    {
     "name": "stdout",
     "output_type": "stream",
     "text": [
      "259\n"
     ]
    },
    {
     "name": "stderr",
     "output_type": "stream",
     "text": [
      "interpolate: 19.71 seconds\n",
      "preprocess: 4.94 seconds\n",
      "No 12N is detected on section 259\n",
      "No RtTg is detected on section 259\n"
     ]
    },
    {
     "name": "stdout",
     "output_type": "stream",
     "text": [
      "260\n"
     ]
    },
    {
     "name": "stderr",
     "output_type": "stream",
     "text": [
      "interpolate: 20.52 seconds\n",
      "preprocess: 4.06 seconds\n",
      "No 6N is detected on section 260\n",
      "No 12N is detected on section 260\n",
      "No RtTg is detected on section 260\n"
     ]
    },
    {
     "name": "stdout",
     "output_type": "stream",
     "text": [
      "261\n"
     ]
    },
    {
     "name": "stderr",
     "output_type": "stream",
     "text": [
      "interpolate: 42.17 seconds\n",
      "preprocess: 4.16 seconds\n",
      "No 12N is detected on section 261\n",
      "No 7N is detected on section 261\n",
      "No 5N is detected on section 261\n",
      "No SuVe is detected on section 261\n",
      "No Gr is detected on section 261\n",
      "No LVe is detected on section 261\n",
      "No 7n is detected on section 261\n",
      "No Pn is detected on section 261\n",
      "No VLL is detected on section 261\n",
      "No 6N is detected on section 261\n",
      "No Amb is detected on section 261\n",
      "No R is detected on section 261\n",
      "No Tz is detected on section 261\n",
      "No Sol is detected on section 261\n",
      "No RtTg is detected on section 261\n",
      "No LRt is detected on section 261\n",
      "No LC is detected on section 261\n",
      "No AP is detected on section 261\n",
      "No sp5 is detected on section 261\n"
     ]
    },
    {
     "name": "stdout",
     "output_type": "stream",
     "text": [
      "262\n"
     ]
    },
    {
     "ename": "JoblibIOError",
     "evalue": "JoblibIOError\n___________________________________________________________________________\nMultiprocessing exception:\n...........................................................................\n/usr/lib/python2.7/runpy.py in _run_module_as_main(mod_name='ipykernel.__main__', alter_argv=1)\n    157     pkg_name = mod_name.rpartition('.')[0]\n    158     main_globals = sys.modules[\"__main__\"].__dict__\n    159     if alter_argv:\n    160         sys.argv[0] = fname\n    161     return _run_code(code, main_globals, None,\n--> 162                      \"__main__\", fname, loader, pkg_name)\n        fname = '/usr/local/lib/python2.7/dist-packages/ipykernel/__main__.py'\n        loader = <pkgutil.ImpLoader instance>\n        pkg_name = 'ipykernel'\n    163 \n    164 def run_module(mod_name, init_globals=None,\n    165                run_name=None, alter_sys=False):\n    166     \"\"\"Execute a module's code without importing it\n\n...........................................................................\n/usr/lib/python2.7/runpy.py in _run_code(code=<code object <module> at 0x7fb93ecad8b0, file \"/...2.7/dist-packages/ipykernel/__main__.py\", line 1>, run_globals={'__builtins__': <module '__builtin__' (built-in)>, '__doc__': None, '__file__': '/usr/local/lib/python2.7/dist-packages/ipykernel/__main__.py', '__loader__': <pkgutil.ImpLoader instance>, '__name__': '__main__', '__package__': 'ipykernel', 'app': <module 'ipykernel.kernelapp' from '/usr/local/lib/python2.7/dist-packages/ipykernel/kernelapp.pyc'>}, init_globals=None, mod_name='__main__', mod_fname='/usr/local/lib/python2.7/dist-packages/ipykernel/__main__.py', mod_loader=<pkgutil.ImpLoader instance>, pkg_name='ipykernel')\n     67         run_globals.update(init_globals)\n     68     run_globals.update(__name__ = mod_name,\n     69                        __file__ = mod_fname,\n     70                        __loader__ = mod_loader,\n     71                        __package__ = pkg_name)\n---> 72     exec code in run_globals\n        code = <code object <module> at 0x7fb93ecad8b0, file \"/...2.7/dist-packages/ipykernel/__main__.py\", line 1>\n        run_globals = {'__builtins__': <module '__builtin__' (built-in)>, '__doc__': None, '__file__': '/usr/local/lib/python2.7/dist-packages/ipykernel/__main__.py', '__loader__': <pkgutil.ImpLoader instance>, '__name__': '__main__', '__package__': 'ipykernel', 'app': <module 'ipykernel.kernelapp' from '/usr/local/lib/python2.7/dist-packages/ipykernel/kernelapp.pyc'>}\n     73     return run_globals\n     74 \n     75 def _run_module_code(code, init_globals=None,\n     76                     mod_name=None, mod_fname=None,\n\n...........................................................................\n/usr/local/lib/python2.7/dist-packages/ipykernel/__main__.py in <module>()\n      1 \n      2 \n----> 3 \n      4 if __name__ == '__main__':\n      5     from ipykernel import kernelapp as app\n      6     app.launch_new_instance()\n      7 \n      8 \n      9 \n     10 \n\n...........................................................................\n/usr/local/lib/python2.7/dist-packages/traitlets/config/application.py in launch_instance(cls=<class 'ipykernel.kernelapp.IPKernelApp'>, argv=None, **kwargs={})\n    587         \n    588         If a global instance already exists, this reinitializes and starts it\n    589         \"\"\"\n    590         app = cls.instance(**kwargs)\n    591         app.initialize(argv)\n--> 592         app.start()\n        app.start = <bound method IPKernelApp.start of <ipykernel.kernelapp.IPKernelApp object>>\n    593 \n    594 #-----------------------------------------------------------------------------\n    595 # utility functions, for convenience\n    596 #-----------------------------------------------------------------------------\n\n...........................................................................\n/usr/local/lib/python2.7/dist-packages/ipykernel/kernelapp.py in start(self=<ipykernel.kernelapp.IPKernelApp object>)\n    398         \n    399         if self.poller is not None:\n    400             self.poller.start()\n    401         self.kernel.start()\n    402         try:\n--> 403             ioloop.IOLoop.instance().start()\n    404         except KeyboardInterrupt:\n    405             pass\n    406 \n    407 launch_new_instance = IPKernelApp.launch_instance\n\n...........................................................................\n/usr/local/lib/python2.7/dist-packages/zmq/eventloop/ioloop.py in start(self=<zmq.eventloop.ioloop.ZMQIOLoop object>)\n    157             PollIOLoop.configure(ZMQIOLoop)\n    158         return PollIOLoop.current(*args, **kwargs)\n    159     \n    160     def start(self):\n    161         try:\n--> 162             super(ZMQIOLoop, self).start()\n        self.start = <bound method ZMQIOLoop.start of <zmq.eventloop.ioloop.ZMQIOLoop object>>\n    163         except ZMQError as e:\n    164             if e.errno == ETERM:\n    165                 # quietly return on ETERM\n    166                 pass\n\n...........................................................................\n/usr/local/lib/python2.7/dist-packages/tornado/ioloop.py in start(self=<zmq.eventloop.ioloop.ZMQIOLoop object>)\n    878                 self._events.update(event_pairs)\n    879                 while self._events:\n    880                     fd, events = self._events.popitem()\n    881                     try:\n    882                         fd_obj, handler_func = self._handlers[fd]\n--> 883                         handler_func(fd_obj, events)\n        handler_func = <function null_wrapper>\n        fd_obj = <zmq.sugar.socket.Socket object>\n        events = 1\n    884                     except (OSError, IOError) as e:\n    885                         if errno_from_exception(e) == errno.EPIPE:\n    886                             # Happens when the client closes the connection\n    887                             pass\n\n...........................................................................\n/usr/local/lib/python2.7/dist-packages/tornado/stack_context.py in null_wrapper(*args=(<zmq.sugar.socket.Socket object>, 1), **kwargs={})\n    270         # Fast path when there are no active contexts.\n    271         def null_wrapper(*args, **kwargs):\n    272             try:\n    273                 current_state = _state.contexts\n    274                 _state.contexts = cap_contexts[0]\n--> 275                 return fn(*args, **kwargs)\n        args = (<zmq.sugar.socket.Socket object>, 1)\n        kwargs = {}\n    276             finally:\n    277                 _state.contexts = current_state\n    278         null_wrapper._wrapped = True\n    279         return null_wrapper\n\n...........................................................................\n/usr/local/lib/python2.7/dist-packages/zmq/eventloop/zmqstream.py in _handle_events(self=<zmq.eventloop.zmqstream.ZMQStream object>, fd=<zmq.sugar.socket.Socket object>, events=1)\n    435             # dispatch events:\n    436             if events & IOLoop.ERROR:\n    437                 gen_log.error(\"got POLLERR event on ZMQStream, which doesn't make sense\")\n    438                 return\n    439             if events & IOLoop.READ:\n--> 440                 self._handle_recv()\n        self._handle_recv = <bound method ZMQStream._handle_recv of <zmq.eventloop.zmqstream.ZMQStream object>>\n    441                 if not self.socket:\n    442                     return\n    443             if events & IOLoop.WRITE:\n    444                 self._handle_send()\n\n...........................................................................\n/usr/local/lib/python2.7/dist-packages/zmq/eventloop/zmqstream.py in _handle_recv(self=<zmq.eventloop.zmqstream.ZMQStream object>)\n    467                 gen_log.error(\"RECV Error: %s\"%zmq.strerror(e.errno))\n    468         else:\n    469             if self._recv_callback:\n    470                 callback = self._recv_callback\n    471                 # self._recv_callback = None\n--> 472                 self._run_callback(callback, msg)\n        self._run_callback = <bound method ZMQStream._run_callback of <zmq.eventloop.zmqstream.ZMQStream object>>\n        callback = <function null_wrapper>\n        msg = [<zmq.sugar.frame.Frame object>, <zmq.sugar.frame.Frame object>, <zmq.sugar.frame.Frame object>, <zmq.sugar.frame.Frame object>, <zmq.sugar.frame.Frame object>, <zmq.sugar.frame.Frame object>, <zmq.sugar.frame.Frame object>]\n    473                 \n    474         # self.update_state()\n    475         \n    476 \n\n...........................................................................\n/usr/local/lib/python2.7/dist-packages/zmq/eventloop/zmqstream.py in _run_callback(self=<zmq.eventloop.zmqstream.ZMQStream object>, callback=<function null_wrapper>, *args=([<zmq.sugar.frame.Frame object>, <zmq.sugar.frame.Frame object>, <zmq.sugar.frame.Frame object>, <zmq.sugar.frame.Frame object>, <zmq.sugar.frame.Frame object>, <zmq.sugar.frame.Frame object>, <zmq.sugar.frame.Frame object>],), **kwargs={})\n    409         close our socket.\"\"\"\n    410         try:\n    411             # Use a NullContext to ensure that all StackContexts are run\n    412             # inside our blanket exception handler rather than outside.\n    413             with stack_context.NullContext():\n--> 414                 callback(*args, **kwargs)\n        callback = <function null_wrapper>\n        args = ([<zmq.sugar.frame.Frame object>, <zmq.sugar.frame.Frame object>, <zmq.sugar.frame.Frame object>, <zmq.sugar.frame.Frame object>, <zmq.sugar.frame.Frame object>, <zmq.sugar.frame.Frame object>, <zmq.sugar.frame.Frame object>],)\n        kwargs = {}\n    415         except:\n    416             gen_log.error(\"Uncaught exception, closing connection.\",\n    417                           exc_info=True)\n    418             # Close the socket on an uncaught exception from a user callback\n\n...........................................................................\n/usr/local/lib/python2.7/dist-packages/tornado/stack_context.py in null_wrapper(*args=([<zmq.sugar.frame.Frame object>, <zmq.sugar.frame.Frame object>, <zmq.sugar.frame.Frame object>, <zmq.sugar.frame.Frame object>, <zmq.sugar.frame.Frame object>, <zmq.sugar.frame.Frame object>, <zmq.sugar.frame.Frame object>],), **kwargs={})\n    270         # Fast path when there are no active contexts.\n    271         def null_wrapper(*args, **kwargs):\n    272             try:\n    273                 current_state = _state.contexts\n    274                 _state.contexts = cap_contexts[0]\n--> 275                 return fn(*args, **kwargs)\n        args = ([<zmq.sugar.frame.Frame object>, <zmq.sugar.frame.Frame object>, <zmq.sugar.frame.Frame object>, <zmq.sugar.frame.Frame object>, <zmq.sugar.frame.Frame object>, <zmq.sugar.frame.Frame object>, <zmq.sugar.frame.Frame object>],)\n        kwargs = {}\n    276             finally:\n    277                 _state.contexts = current_state\n    278         null_wrapper._wrapped = True\n    279         return null_wrapper\n\n...........................................................................\n/usr/local/lib/python2.7/dist-packages/ipykernel/kernelbase.py in dispatcher(msg=[<zmq.sugar.frame.Frame object>, <zmq.sugar.frame.Frame object>, <zmq.sugar.frame.Frame object>, <zmq.sugar.frame.Frame object>, <zmq.sugar.frame.Frame object>, <zmq.sugar.frame.Frame object>, <zmq.sugar.frame.Frame object>])\n    255         if self.control_stream:\n    256             self.control_stream.on_recv(self.dispatch_control, copy=False)\n    257 \n    258         def make_dispatcher(stream):\n    259             def dispatcher(msg):\n--> 260                 return self.dispatch_shell(stream, msg)\n        msg = [<zmq.sugar.frame.Frame object>, <zmq.sugar.frame.Frame object>, <zmq.sugar.frame.Frame object>, <zmq.sugar.frame.Frame object>, <zmq.sugar.frame.Frame object>, <zmq.sugar.frame.Frame object>, <zmq.sugar.frame.Frame object>]\n    261             return dispatcher\n    262 \n    263         for s in self.shell_streams:\n    264             s.on_recv(make_dispatcher(s), copy=False)\n\n...........................................................................\n/usr/local/lib/python2.7/dist-packages/ipykernel/kernelbase.py in dispatch_shell(self=<ipykernel.ipkernel.IPythonKernel object>, stream=<zmq.eventloop.zmqstream.ZMQStream object>, msg={'buffers': [], 'content': {u'allow_stdin': True, u'code': u'for stack in [\\'MD585\\']:\\n# for stack in [\\'M...erpolate: %.2f seconds\\\\n\\' % (time.time() - t))', u'silent': False, u'stop_on_error': True, u'store_history': True, u'user_expressions': {}}, 'header': {'date': '2016-03-08T10:01:04.779028', u'msg_id': u'2A3B2B2D4EDF4B9BBA1CB7934684BD7F', u'msg_type': u'execute_request', u'session': u'C79958A63CB94A5F82ED65A5183A13C1', u'username': u'username', u'version': u'5.0'}, 'metadata': {}, 'msg_id': u'2A3B2B2D4EDF4B9BBA1CB7934684BD7F', 'msg_type': u'execute_request', 'parent_header': {}})\n    207             self.log.error(\"UNKNOWN MESSAGE TYPE: %r\", msg_type)\n    208         else:\n    209             self.log.debug(\"%s: %s\", msg_type, msg)\n    210             self.pre_handler_hook()\n    211             try:\n--> 212                 handler(stream, idents, msg)\n        handler = <bound method IPythonKernel.execute_request of <ipykernel.ipkernel.IPythonKernel object>>\n        stream = <zmq.eventloop.zmqstream.ZMQStream object>\n        idents = ['C79958A63CB94A5F82ED65A5183A13C1']\n        msg = {'buffers': [], 'content': {u'allow_stdin': True, u'code': u'for stack in [\\'MD585\\']:\\n# for stack in [\\'M...erpolate: %.2f seconds\\\\n\\' % (time.time() - t))', u'silent': False, u'stop_on_error': True, u'store_history': True, u'user_expressions': {}}, 'header': {'date': '2016-03-08T10:01:04.779028', u'msg_id': u'2A3B2B2D4EDF4B9BBA1CB7934684BD7F', u'msg_type': u'execute_request', u'session': u'C79958A63CB94A5F82ED65A5183A13C1', u'username': u'username', u'version': u'5.0'}, 'metadata': {}, 'msg_id': u'2A3B2B2D4EDF4B9BBA1CB7934684BD7F', 'msg_type': u'execute_request', 'parent_header': {}}\n    213             except Exception:\n    214                 self.log.error(\"Exception in message handler:\", exc_info=True)\n    215             finally:\n    216                 self.post_handler_hook()\n\n...........................................................................\n/usr/local/lib/python2.7/dist-packages/ipykernel/kernelbase.py in execute_request(self=<ipykernel.ipkernel.IPythonKernel object>, stream=<zmq.eventloop.zmqstream.ZMQStream object>, ident=['C79958A63CB94A5F82ED65A5183A13C1'], parent={'buffers': [], 'content': {u'allow_stdin': True, u'code': u'for stack in [\\'MD585\\']:\\n# for stack in [\\'M...erpolate: %.2f seconds\\\\n\\' % (time.time() - t))', u'silent': False, u'stop_on_error': True, u'store_history': True, u'user_expressions': {}}, 'header': {'date': '2016-03-08T10:01:04.779028', u'msg_id': u'2A3B2B2D4EDF4B9BBA1CB7934684BD7F', u'msg_type': u'execute_request', u'session': u'C79958A63CB94A5F82ED65A5183A13C1', u'username': u'username', u'version': u'5.0'}, 'metadata': {}, 'msg_id': u'2A3B2B2D4EDF4B9BBA1CB7934684BD7F', 'msg_type': u'execute_request', 'parent_header': {}})\n    365         if not silent:\n    366             self.execution_count += 1\n    367             self._publish_execute_input(code, parent, self.execution_count)\n    368 \n    369         reply_content = self.do_execute(code, silent, store_history,\n--> 370                                         user_expressions, allow_stdin)\n        user_expressions = {}\n        allow_stdin = True\n    371 \n    372         # Flush output before sending the reply.\n    373         sys.stdout.flush()\n    374         sys.stderr.flush()\n\n...........................................................................\n/usr/local/lib/python2.7/dist-packages/ipykernel/ipkernel.py in do_execute(self=<ipykernel.ipkernel.IPythonKernel object>, code=u'for stack in [\\'MD585\\']:\\n# for stack in [\\'M...erpolate: %.2f seconds\\\\n\\' % (time.time() - t))', silent=False, store_history=True, user_expressions={}, allow_stdin=True)\n    170 \n    171         reply_content = {}\n    172         # FIXME: the shell calls the exception handler itself.\n    173         shell._reply_content = None\n    174         try:\n--> 175             shell.run_cell(code, store_history=store_history, silent=silent)\n        shell.run_cell = <bound method ZMQInteractiveShell.run_cell of <ipykernel.zmqshell.ZMQInteractiveShell object>>\n        code = u'for stack in [\\'MD585\\']:\\n# for stack in [\\'M...erpolate: %.2f seconds\\\\n\\' % (time.time() - t))'\n        store_history = True\n        silent = False\n    176         except:\n    177             status = u'error'\n    178             # FIXME: this code right now isn't being used yet by default,\n    179             # because the run_cell() call above directly fires off exception\n\n...........................................................................\n/usr/local/lib/python2.7/dist-packages/IPython/core/interactiveshell.py in run_cell(self=<ipykernel.zmqshell.ZMQInteractiveShell object>, raw_cell=u'for stack in [\\'MD585\\']:\\n# for stack in [\\'M...erpolate: %.2f seconds\\\\n\\' % (time.time() - t))', store_history=True, silent=False, shell_futures=True)\n   2897                 self.displayhook.exec_result = result\n   2898 \n   2899                 # Execute the user code\n   2900                 interactivity = \"none\" if silent else self.ast_node_interactivity\n   2901                 self.run_ast_nodes(code_ast.body, cell_name,\n-> 2902                    interactivity=interactivity, compiler=compiler, result=result)\n        interactivity = 'last_expr'\n        compiler = <IPython.core.compilerop.CachingCompiler instance>\n   2903 \n   2904                 # Reset this so later displayed values do not modify the\n   2905                 # ExecutionResult\n   2906                 self.displayhook.exec_result = None\n\n...........................................................................\n/usr/local/lib/python2.7/dist-packages/IPython/core/interactiveshell.py in run_ast_nodes(self=<ipykernel.zmqshell.ZMQInteractiveShell object>, nodelist=[<_ast.For object>], cell_name='<ipython-input-12-6813930b6274>', interactivity='none', compiler=<IPython.core.compilerop.CachingCompiler instance>, result=<IPython.core.interactiveshell.ExecutionResult object>)\n   3001 \n   3002         try:\n   3003             for i, node in enumerate(to_run_exec):\n   3004                 mod = ast.Module([node])\n   3005                 code = compiler(mod, cell_name, \"exec\")\n-> 3006                 if self.run_code(code, result):\n        self.run_code = <bound method ZMQInteractiveShell.run_code of <ipykernel.zmqshell.ZMQInteractiveShell object>>\n        code = <code object <module> at 0x7fb91e6a7730, file \"<ipython-input-12-6813930b6274>\", line 1>\n        result = <IPython.core.interactiveshell.ExecutionResult object>\n   3007                     return True\n   3008 \n   3009             for i, node in enumerate(to_run_interactive):\n   3010                 mod = ast.Interactive([node])\n\n...........................................................................\n/usr/local/lib/python2.7/dist-packages/IPython/core/interactiveshell.py in run_code(self=<ipykernel.zmqshell.ZMQInteractiveShell object>, code_obj=<code object <module> at 0x7fb91e6a7730, file \"<ipython-input-12-6813930b6274>\", line 1>, result=<IPython.core.interactiveshell.ExecutionResult object>)\n   3061         outflag = 1  # happens in more places, so it's easier as default\n   3062         try:\n   3063             try:\n   3064                 self.hooks.pre_run_code_hook()\n   3065                 #rprint('Running code', repr(code_obj)) # dbg\n-> 3066                 exec(code_obj, self.user_global_ns, self.user_ns)\n        code_obj = <code object <module> at 0x7fb91e6a7730, file \"<ipython-input-12-6813930b6274>\", line 1>\n        self.user_global_ns = {'Atom': <class 'tables.atom.Atom'>, 'DataManager': <class 'utilities2015.DataManager'>, 'Filters': <class 'tables.filters.Filters'>, 'In': ['', u\"get_ipython().magic(u'load_ext autoreload')\\ng...rom joblib import Parallel, delayed\\nimport time\", u\"# labels =  ['BackG', '5N', '7n', '7N', '12N',...ge(len(labels), len(labels)+len(other_labels))))\", u'from scipy.interpolate import RectBivariateSpline\\nfrom skimage.transform import resize', u\"patches_rootdir = '/home/yuncong/CSHL_data_patches'\", u\"# scoremaps_rootdir = '/home/yuncong/CSHL_scor..._rootdir):\\n    os.makedirs(predictions_rootdir)\", u'for stack in [\\'MD585\\']:\\n# for stack in [\\'M...erpolate: %.2f seconds\\\\n\\' % (time.time() - t))', u\"get_ipython().magic(u'load_ext autoreload')\\ng...rom joblib import Parallel, delayed\\nimport time\", u\"# labels =  ['BackG', '5N', '7n', '7N', '12N',...ge(len(labels), len(labels)+len(other_labels))))\", u'from scipy.interpolate import RectBivariateSpline\\nfrom skimage.transform import resize', u\"patches_rootdir = '/home/yuncong/CSHL_data_patches'\", u\"# scoremaps_rootdir = '/home/yuncong/CSHL_scor..._rootdir):\\n    os.makedirs(predictions_rootdir)\", u'for stack in [\\'MD585\\']:\\n# for stack in [\\'M...erpolate: %.2f seconds\\\\n\\' % (time.time() - t))'], 'Out': {}, 'Parallel': <class 'joblib.parallel.Parallel'>, 'RectBivariateSpline': <class 'scipy.interpolate.fitpack2.RectBivariateSpline'>, '_': [None, None, None, None, None, None, None, None, None, None, None, None, None, None, None, None, None, None, None, None], '__': '', '___': '', ...}\n        self.user_ns = {'Atom': <class 'tables.atom.Atom'>, 'DataManager': <class 'utilities2015.DataManager'>, 'Filters': <class 'tables.filters.Filters'>, 'In': ['', u\"get_ipython().magic(u'load_ext autoreload')\\ng...rom joblib import Parallel, delayed\\nimport time\", u\"# labels =  ['BackG', '5N', '7n', '7N', '12N',...ge(len(labels), len(labels)+len(other_labels))))\", u'from scipy.interpolate import RectBivariateSpline\\nfrom skimage.transform import resize', u\"patches_rootdir = '/home/yuncong/CSHL_data_patches'\", u\"# scoremaps_rootdir = '/home/yuncong/CSHL_scor..._rootdir):\\n    os.makedirs(predictions_rootdir)\", u'for stack in [\\'MD585\\']:\\n# for stack in [\\'M...erpolate: %.2f seconds\\\\n\\' % (time.time() - t))', u\"get_ipython().magic(u'load_ext autoreload')\\ng...rom joblib import Parallel, delayed\\nimport time\", u\"# labels =  ['BackG', '5N', '7n', '7N', '12N',...ge(len(labels), len(labels)+len(other_labels))))\", u'from scipy.interpolate import RectBivariateSpline\\nfrom skimage.transform import resize', u\"patches_rootdir = '/home/yuncong/CSHL_data_patches'\", u\"# scoremaps_rootdir = '/home/yuncong/CSHL_scor..._rootdir):\\n    os.makedirs(predictions_rootdir)\", u'for stack in [\\'MD585\\']:\\n# for stack in [\\'M...erpolate: %.2f seconds\\\\n\\' % (time.time() - t))'], 'Out': {}, 'Parallel': <class 'joblib.parallel.Parallel'>, 'RectBivariateSpline': <class 'scipy.interpolate.fitpack2.RectBivariateSpline'>, '_': [None, None, None, None, None, None, None, None, None, None, None, None, None, None, None, None, None, None, None, None], '__': '', '___': '', ...}\n   3067             finally:\n   3068                 # Reset our crash handler in place\n   3069                 sys.excepthook = old_excepthook\n   3070         except SystemExit as e:\n\n...........................................................................\n/home/yuncong/Brain/learning/<ipython-input-12-6813930b6274> in <module>()\n    135         \n    136         t = time.time()\n    137 \n    138         n_labels = probs.shape[1]\n    139 \n--> 140         _ = Parallel(n_jobs=12)(delayed(generate_score_map)(l) for l in range(n_labels))\n    141 \n    142         sys.stderr.write('interpolate: %.2f seconds\\n' % (time.time() - t))\n    143 \n    144 \n\n...........................................................................\n/usr/local/lib/python2.7/dist-packages/joblib/parallel.py in __call__(self=Parallel(n_jobs=12), iterable=<generator object <genexpr>>)\n    807             if pre_dispatch == \"all\" or n_jobs == 1:\n    808                 # The iterable was consumed all at once by the above for loop.\n    809                 # No need to wait for async callbacks to trigger to\n    810                 # consumption.\n    811                 self._iterating = False\n--> 812             self.retrieve()\n        self.retrieve = <bound method Parallel.retrieve of Parallel(n_jobs=12)>\n    813             # Make sure that we get a last message telling us we are done\n    814             elapsed_time = time.time() - self._start_time\n    815             self._print('Done %3i out of %3i | elapsed: %s finished',\n    816                         (len(self._output), len(self._output),\n\n---------------------------------------------------------------------------\nSub-process traceback:\n---------------------------------------------------------------------------\nIOError                                            Tue Mar  8 11:02:56 2016\nPID: 44397                                    Python 2.7.6: /usr/bin/python\n...........................................................................\n/usr/local/lib/python2.7/dist-packages/joblib/parallel.pyc in __call__(self=<joblib.parallel.BatchedCalls object>)\n     67     def __init__(self, iterator_slice):\n     68         self.items = list(iterator_slice)\n     69         self._size = len(self.items)\n     70 \n     71     def __call__(self):\n---> 72         return [func(*args, **kwargs) for func, args, kwargs in self.items]\n     73 \n     74     def __len__(self):\n     75         return self._size\n     76 \n\n...........................................................................\n/home/yuncong/Brain/learning/<ipython-input-12-6813930b6274> in generate_score_map(l=2)\n    115 #                                               mode='constant', constant_values=0)\n    116             \n    117 #             t = time.time()\n    118             bp.pack_ndarray_file(dense_score_map.astype(np.float32), \n    119                                    os.path.join(scoremaps_dir, '%(dataset)s_denseScoreMapLossless_%(label)s.bp' % \\\n--> 120                                                 {'dataset': dataset, 'label': label}))\n    121     \n    122 #             filters = Filters(complevel=9, complib='blosc')\n    123 #             with open_file( os.path.join(scoremaps_dir, '%(dataset)s_denseScoreMapLossless_%(label)s.hdf' % \\\n    124 #                                                             {'dataset': dataset, 'label': label}), mode=\"w\") as f:\n\n...........................................................................\n/usr/local/lib/python2.7/dist-packages/bloscpack/numpy_io.pyc in pack_ndarray_file(ndarray=array([[ 0.,  0.,  0., ...,  0.,  0.,  0.],\n    ....,  0.,  0., ...,  0.,  0.,  0.]], dtype=float32), filename='/home/yuncong/CSHL_scoremaps_lossless/MD585/0262/MD585_0262_roi1_denseScoreMapLossless_7n.bp', chunk_size='1M', blosc_args=None, bloscpack_args=None, metadata_args=None)\n    185         sink = CompressedFPSink(fp)\n    186         pack_ndarray(ndarray, sink,\n    187                      chunk_size=chunk_size,\n    188                      blosc_args=blosc_args,\n    189                      bloscpack_args=bloscpack_args,\n--> 190                      metadata_args=metadata_args)\n    191 \n    192 \n    193 def pack_ndarray_str(ndarray,\n    194                      chunk_size=DEFAULT_CHUNK_SIZE,\n\n...........................................................................\n/usr/local/lib/python2.7/dist-packages/bloscpack/numpy_io.pyc in pack_ndarray(ndarray=array([[ 0.,  0.,  0., ...,  0.,  0.,  0.],\n    ....,  0.,  0., ...,  0.,  0.,  0.]], dtype=float32), sink=<bloscpack.file_io.CompressedFPSink object>, chunk_size=1048576, blosc_args=BloscArgs(typesize=4, clevel=7, shuffle=True, cname='blosclz'), bloscpack_args=None, metadata_args=None)\n    168     pack(source, sink,\n    169          nchunks, chunk_size, last_chunk_size,\n    170          metadata=source.metadata,\n    171          blosc_args=blosc_args,\n    172          bloscpack_args=bloscpack_args,\n--> 173          metadata_args=metadata_args)\n    174     #out_file_size = path.getsize(file_pointer)\n    175     #log.verbose('output file size: %s' % double_pretty_size(out_file_size))\n    176     #log.verbose('compression ratio: %f' % (out_file_size/source.size))\n    177 \n\n...........................................................................\n/usr/local/lib/python2.7/dist-packages/bloscpack/abstract_io.pyc in pack(source=<bloscpack.numpy_io.PlainNumpySource object>, sink=<bloscpack.file_io.CompressedFPSink object>, nchunks=353, chunk_size=1048576, last_chunk=578084, metadata={'container': 'numpy', 'dtype': \"'<f4'\", 'order': 'C', 'shape': (7113, 12993)}, blosc_args=BloscArgs(typesize=4, clevel=7, shuffle=True, cname='blosclz'), bloscpack_args=BloscpackArgs(offsets=True, checksum='adler32', ...app_chunks=<function <lambda> at 0x7fb901827848>), metadata_args=MetadataArgs(magic_format='JSON', meta_checksum=..._meta_size=<function <lambda> at 0x7fb9018278c0>))\n    162     for i, chunk in enumerate(source):\n    163         if log.LEVEL == log.DEBUG:\n    164             log.debug(\"Handle chunk '%d'%s\" %\n    165                     (i, ' (last)' if i == nchunks - 1 else ''))\n    166         compressed = compress_func(chunk, blosc_args)\n--> 167         sink.put(i, compressed)\n    168         if log.LEVEL == log.DEBUG:\n    169             log.debug(\"chunk handled, in: %s out: %s\" %\n    170                     (double_pretty_size(len(chunk)),\n    171                     double_pretty_size(len(compressed))))\n\n...........................................................................\n/usr/local/lib/python2.7/dist-packages/bloscpack/file_io.pyc in put(self=<bloscpack.file_io.CompressedFPSink object>, i=91, compressed='\\x02\\x01\\x01\\x04\\x00\\x00\\x10\\x00\\x00\\x00\\x02\\x00\\x10\\x12\\x00\\x00\\xe4\\x06\\x00\\x00\\xd4\\x0f\\x00\\x000\\x00\\x00\\x00\\x98\\r\\x00\\x00 \\t\\x00\\x00l\\x02\\x00\\x00\\\\\\x0b\\x00\\x00\\xa8\\x04\\x00\\x00...\\xff\\xff\\xff\\xff\\xff\\xff\\xff\\xff\\xff\\xff\\xff\\xff\\xff\\xff\\xff\\xff\\xff\\xff\\xff\\xff\\xff\\xff\\xff\\xff\\xff\\xff\\xff\\xff\\xff\\xff\\xff\\xff\\xff\\xff\\xff\\xff\\xff\\xff\\xff\\xff\\xff\\xffq\\x00\\x03\\x00\\x00\\x00\\x00')\n    408             _write_offsets(self.output_fp, self.offset_storage)\n    409 \n    410     def put(self, i, compressed):\n    411         offset = self.output_fp.tell()\n    412         digest = self.do_checksum(compressed)\n--> 413         _write_compressed_chunk(self.output_fp, compressed, digest)\n    414         if self.offsets:\n    415             self.offset_storage[i] = offset\n    416         return offset, compressed, digest\n    417 \n\n...........................................................................\n/usr/local/lib/python2.7/dist-packages/bloscpack/file_io.pyc in _write_compressed_chunk(output_fp=<closed file '/home/yuncong/CSHL_scoremaps_lossl...262_roi1_denseScoreMapLossless_7n.bp', mode 'wb'>, compressed='\\x02\\x01\\x01\\x04\\x00\\x00\\x10\\x00\\x00\\x00\\x02\\x00\\x10\\x12\\x00\\x00\\xe4\\x06\\x00\\x00\\xd4\\x0f\\x00\\x000\\x00\\x00\\x00\\x98\\r\\x00\\x00 \\t\\x00\\x00l\\x02\\x00\\x00\\\\\\x0b\\x00\\x00\\xa8\\x04\\x00\\x00...\\xff\\xff\\xff\\xff\\xff\\xff\\xff\\xff\\xff\\xff\\xff\\xff\\xff\\xff\\xff\\xff\\xff\\xff\\xff\\xff\\xff\\xff\\xff\\xff\\xff\\xff\\xff\\xff\\xff\\xff\\xff\\xff\\xff\\xff\\xff\\xff\\xff\\xff\\xff\\xff\\xff\\xffq\\x00\\x03\\x00\\x00\\x00\\x00', digest='y5\\xafE')\n    332         if checksum_impl.size > 0 else None\n    333     return compressed, blosc_header, digest\n    334 \n    335 \n    336 def _write_compressed_chunk(output_fp, compressed, digest):\n--> 337     output_fp.write(compressed)\n    338     if len(digest) > 0:\n    339         output_fp.write(digest)\n    340 \n    341 \n\nIOError: [Errno 28] No space left on device\n___________________________________________________________________________",
     "output_type": "error",
     "traceback": [
      "\u001b[1;31m---------------------------------------------------------------------------\u001b[0m",
      "\u001b[1;31mJoblibIOError\u001b[0m                             Traceback (most recent call last)",
      "\u001b[1;32m<ipython-input-12-6813930b6274>\u001b[0m in \u001b[0;36m<module>\u001b[1;34m()\u001b[0m\n\u001b[0;32m    138\u001b[0m         \u001b[0mn_labels\u001b[0m \u001b[1;33m=\u001b[0m \u001b[0mprobs\u001b[0m\u001b[1;33m.\u001b[0m\u001b[0mshape\u001b[0m\u001b[1;33m[\u001b[0m\u001b[1;36m1\u001b[0m\u001b[1;33m]\u001b[0m\u001b[1;33m\u001b[0m\u001b[0m\n\u001b[0;32m    139\u001b[0m \u001b[1;33m\u001b[0m\u001b[0m\n\u001b[1;32m--> 140\u001b[1;33m         \u001b[0m_\u001b[0m \u001b[1;33m=\u001b[0m \u001b[0mParallel\u001b[0m\u001b[1;33m(\u001b[0m\u001b[0mn_jobs\u001b[0m\u001b[1;33m=\u001b[0m\u001b[1;36m12\u001b[0m\u001b[1;33m)\u001b[0m\u001b[1;33m(\u001b[0m\u001b[0mdelayed\u001b[0m\u001b[1;33m(\u001b[0m\u001b[0mgenerate_score_map\u001b[0m\u001b[1;33m)\u001b[0m\u001b[1;33m(\u001b[0m\u001b[0ml\u001b[0m\u001b[1;33m)\u001b[0m \u001b[1;32mfor\u001b[0m \u001b[0ml\u001b[0m \u001b[1;32min\u001b[0m \u001b[0mrange\u001b[0m\u001b[1;33m(\u001b[0m\u001b[0mn_labels\u001b[0m\u001b[1;33m)\u001b[0m\u001b[1;33m)\u001b[0m\u001b[1;33m\u001b[0m\u001b[0m\n\u001b[0m\u001b[0;32m    141\u001b[0m \u001b[1;33m\u001b[0m\u001b[0m\n\u001b[0;32m    142\u001b[0m         \u001b[0msys\u001b[0m\u001b[1;33m.\u001b[0m\u001b[0mstderr\u001b[0m\u001b[1;33m.\u001b[0m\u001b[0mwrite\u001b[0m\u001b[1;33m(\u001b[0m\u001b[1;34m'interpolate: %.2f seconds\\n'\u001b[0m \u001b[1;33m%\u001b[0m \u001b[1;33m(\u001b[0m\u001b[0mtime\u001b[0m\u001b[1;33m.\u001b[0m\u001b[0mtime\u001b[0m\u001b[1;33m(\u001b[0m\u001b[1;33m)\u001b[0m \u001b[1;33m-\u001b[0m \u001b[0mt\u001b[0m\u001b[1;33m)\u001b[0m\u001b[1;33m)\u001b[0m\u001b[1;33m\u001b[0m\u001b[0m\n",
      "\u001b[1;32m/usr/local/lib/python2.7/dist-packages/joblib/parallel.pyc\u001b[0m in \u001b[0;36m__call__\u001b[1;34m(self, iterable)\u001b[0m\n\u001b[0;32m    810\u001b[0m                 \u001b[1;31m# consumption.\u001b[0m\u001b[1;33m\u001b[0m\u001b[1;33m\u001b[0m\u001b[0m\n\u001b[0;32m    811\u001b[0m                 \u001b[0mself\u001b[0m\u001b[1;33m.\u001b[0m\u001b[0m_iterating\u001b[0m \u001b[1;33m=\u001b[0m \u001b[0mFalse\u001b[0m\u001b[1;33m\u001b[0m\u001b[0m\n\u001b[1;32m--> 812\u001b[1;33m             \u001b[0mself\u001b[0m\u001b[1;33m.\u001b[0m\u001b[0mretrieve\u001b[0m\u001b[1;33m(\u001b[0m\u001b[1;33m)\u001b[0m\u001b[1;33m\u001b[0m\u001b[0m\n\u001b[0m\u001b[0;32m    813\u001b[0m             \u001b[1;31m# Make sure that we get a last message telling us we are done\u001b[0m\u001b[1;33m\u001b[0m\u001b[1;33m\u001b[0m\u001b[0m\n\u001b[0;32m    814\u001b[0m             \u001b[0melapsed_time\u001b[0m \u001b[1;33m=\u001b[0m \u001b[0mtime\u001b[0m\u001b[1;33m.\u001b[0m\u001b[0mtime\u001b[0m\u001b[1;33m(\u001b[0m\u001b[1;33m)\u001b[0m \u001b[1;33m-\u001b[0m \u001b[0mself\u001b[0m\u001b[1;33m.\u001b[0m\u001b[0m_start_time\u001b[0m\u001b[1;33m\u001b[0m\u001b[0m\n",
      "\u001b[1;32m/usr/local/lib/python2.7/dist-packages/joblib/parallel.pyc\u001b[0m in \u001b[0;36mretrieve\u001b[1;34m(self)\u001b[0m\n\u001b[0;32m    760\u001b[0m                         \u001b[1;31m# a working pool as they expect.\u001b[0m\u001b[1;33m\u001b[0m\u001b[1;33m\u001b[0m\u001b[0m\n\u001b[0;32m    761\u001b[0m                         \u001b[0mself\u001b[0m\u001b[1;33m.\u001b[0m\u001b[0m_initialize_pool\u001b[0m\u001b[1;33m(\u001b[0m\u001b[1;33m)\u001b[0m\u001b[1;33m\u001b[0m\u001b[0m\n\u001b[1;32m--> 762\u001b[1;33m                 \u001b[1;32mraise\u001b[0m \u001b[0mexception\u001b[0m\u001b[1;33m\u001b[0m\u001b[0m\n\u001b[0m\u001b[0;32m    763\u001b[0m \u001b[1;33m\u001b[0m\u001b[0m\n\u001b[0;32m    764\u001b[0m     \u001b[1;32mdef\u001b[0m \u001b[0m__call__\u001b[0m\u001b[1;33m(\u001b[0m\u001b[0mself\u001b[0m\u001b[1;33m,\u001b[0m \u001b[0miterable\u001b[0m\u001b[1;33m)\u001b[0m\u001b[1;33m:\u001b[0m\u001b[1;33m\u001b[0m\u001b[0m\n",
      "\u001b[1;31mJoblibIOError\u001b[0m: JoblibIOError\n___________________________________________________________________________\nMultiprocessing exception:\n...........................................................................\n/usr/lib/python2.7/runpy.py in _run_module_as_main(mod_name='ipykernel.__main__', alter_argv=1)\n    157     pkg_name = mod_name.rpartition('.')[0]\n    158     main_globals = sys.modules[\"__main__\"].__dict__\n    159     if alter_argv:\n    160         sys.argv[0] = fname\n    161     return _run_code(code, main_globals, None,\n--> 162                      \"__main__\", fname, loader, pkg_name)\n        fname = '/usr/local/lib/python2.7/dist-packages/ipykernel/__main__.py'\n        loader = <pkgutil.ImpLoader instance>\n        pkg_name = 'ipykernel'\n    163 \n    164 def run_module(mod_name, init_globals=None,\n    165                run_name=None, alter_sys=False):\n    166     \"\"\"Execute a module's code without importing it\n\n...........................................................................\n/usr/lib/python2.7/runpy.py in _run_code(code=<code object <module> at 0x7fb93ecad8b0, file \"/...2.7/dist-packages/ipykernel/__main__.py\", line 1>, run_globals={'__builtins__': <module '__builtin__' (built-in)>, '__doc__': None, '__file__': '/usr/local/lib/python2.7/dist-packages/ipykernel/__main__.py', '__loader__': <pkgutil.ImpLoader instance>, '__name__': '__main__', '__package__': 'ipykernel', 'app': <module 'ipykernel.kernelapp' from '/usr/local/lib/python2.7/dist-packages/ipykernel/kernelapp.pyc'>}, init_globals=None, mod_name='__main__', mod_fname='/usr/local/lib/python2.7/dist-packages/ipykernel/__main__.py', mod_loader=<pkgutil.ImpLoader instance>, pkg_name='ipykernel')\n     67         run_globals.update(init_globals)\n     68     run_globals.update(__name__ = mod_name,\n     69                        __file__ = mod_fname,\n     70                        __loader__ = mod_loader,\n     71                        __package__ = pkg_name)\n---> 72     exec code in run_globals\n        code = <code object <module> at 0x7fb93ecad8b0, file \"/...2.7/dist-packages/ipykernel/__main__.py\", line 1>\n        run_globals = {'__builtins__': <module '__builtin__' (built-in)>, '__doc__': None, '__file__': '/usr/local/lib/python2.7/dist-packages/ipykernel/__main__.py', '__loader__': <pkgutil.ImpLoader instance>, '__name__': '__main__', '__package__': 'ipykernel', 'app': <module 'ipykernel.kernelapp' from '/usr/local/lib/python2.7/dist-packages/ipykernel/kernelapp.pyc'>}\n     73     return run_globals\n     74 \n     75 def _run_module_code(code, init_globals=None,\n     76                     mod_name=None, mod_fname=None,\n\n...........................................................................\n/usr/local/lib/python2.7/dist-packages/ipykernel/__main__.py in <module>()\n      1 \n      2 \n----> 3 \n      4 if __name__ == '__main__':\n      5     from ipykernel import kernelapp as app\n      6     app.launch_new_instance()\n      7 \n      8 \n      9 \n     10 \n\n...........................................................................\n/usr/local/lib/python2.7/dist-packages/traitlets/config/application.py in launch_instance(cls=<class 'ipykernel.kernelapp.IPKernelApp'>, argv=None, **kwargs={})\n    587         \n    588         If a global instance already exists, this reinitializes and starts it\n    589         \"\"\"\n    590         app = cls.instance(**kwargs)\n    591         app.initialize(argv)\n--> 592         app.start()\n        app.start = <bound method IPKernelApp.start of <ipykernel.kernelapp.IPKernelApp object>>\n    593 \n    594 #-----------------------------------------------------------------------------\n    595 # utility functions, for convenience\n    596 #-----------------------------------------------------------------------------\n\n...........................................................................\n/usr/local/lib/python2.7/dist-packages/ipykernel/kernelapp.py in start(self=<ipykernel.kernelapp.IPKernelApp object>)\n    398         \n    399         if self.poller is not None:\n    400             self.poller.start()\n    401         self.kernel.start()\n    402         try:\n--> 403             ioloop.IOLoop.instance().start()\n    404         except KeyboardInterrupt:\n    405             pass\n    406 \n    407 launch_new_instance = IPKernelApp.launch_instance\n\n...........................................................................\n/usr/local/lib/python2.7/dist-packages/zmq/eventloop/ioloop.py in start(self=<zmq.eventloop.ioloop.ZMQIOLoop object>)\n    157             PollIOLoop.configure(ZMQIOLoop)\n    158         return PollIOLoop.current(*args, **kwargs)\n    159     \n    160     def start(self):\n    161         try:\n--> 162             super(ZMQIOLoop, self).start()\n        self.start = <bound method ZMQIOLoop.start of <zmq.eventloop.ioloop.ZMQIOLoop object>>\n    163         except ZMQError as e:\n    164             if e.errno == ETERM:\n    165                 # quietly return on ETERM\n    166                 pass\n\n...........................................................................\n/usr/local/lib/python2.7/dist-packages/tornado/ioloop.py in start(self=<zmq.eventloop.ioloop.ZMQIOLoop object>)\n    878                 self._events.update(event_pairs)\n    879                 while self._events:\n    880                     fd, events = self._events.popitem()\n    881                     try:\n    882                         fd_obj, handler_func = self._handlers[fd]\n--> 883                         handler_func(fd_obj, events)\n        handler_func = <function null_wrapper>\n        fd_obj = <zmq.sugar.socket.Socket object>\n        events = 1\n    884                     except (OSError, IOError) as e:\n    885                         if errno_from_exception(e) == errno.EPIPE:\n    886                             # Happens when the client closes the connection\n    887                             pass\n\n...........................................................................\n/usr/local/lib/python2.7/dist-packages/tornado/stack_context.py in null_wrapper(*args=(<zmq.sugar.socket.Socket object>, 1), **kwargs={})\n    270         # Fast path when there are no active contexts.\n    271         def null_wrapper(*args, **kwargs):\n    272             try:\n    273                 current_state = _state.contexts\n    274                 _state.contexts = cap_contexts[0]\n--> 275                 return fn(*args, **kwargs)\n        args = (<zmq.sugar.socket.Socket object>, 1)\n        kwargs = {}\n    276             finally:\n    277                 _state.contexts = current_state\n    278         null_wrapper._wrapped = True\n    279         return null_wrapper\n\n...........................................................................\n/usr/local/lib/python2.7/dist-packages/zmq/eventloop/zmqstream.py in _handle_events(self=<zmq.eventloop.zmqstream.ZMQStream object>, fd=<zmq.sugar.socket.Socket object>, events=1)\n    435             # dispatch events:\n    436             if events & IOLoop.ERROR:\n    437                 gen_log.error(\"got POLLERR event on ZMQStream, which doesn't make sense\")\n    438                 return\n    439             if events & IOLoop.READ:\n--> 440                 self._handle_recv()\n        self._handle_recv = <bound method ZMQStream._handle_recv of <zmq.eventloop.zmqstream.ZMQStream object>>\n    441                 if not self.socket:\n    442                     return\n    443             if events & IOLoop.WRITE:\n    444                 self._handle_send()\n\n...........................................................................\n/usr/local/lib/python2.7/dist-packages/zmq/eventloop/zmqstream.py in _handle_recv(self=<zmq.eventloop.zmqstream.ZMQStream object>)\n    467                 gen_log.error(\"RECV Error: %s\"%zmq.strerror(e.errno))\n    468         else:\n    469             if self._recv_callback:\n    470                 callback = self._recv_callback\n    471                 # self._recv_callback = None\n--> 472                 self._run_callback(callback, msg)\n        self._run_callback = <bound method ZMQStream._run_callback of <zmq.eventloop.zmqstream.ZMQStream object>>\n        callback = <function null_wrapper>\n        msg = [<zmq.sugar.frame.Frame object>, <zmq.sugar.frame.Frame object>, <zmq.sugar.frame.Frame object>, <zmq.sugar.frame.Frame object>, <zmq.sugar.frame.Frame object>, <zmq.sugar.frame.Frame object>, <zmq.sugar.frame.Frame object>]\n    473                 \n    474         # self.update_state()\n    475         \n    476 \n\n...........................................................................\n/usr/local/lib/python2.7/dist-packages/zmq/eventloop/zmqstream.py in _run_callback(self=<zmq.eventloop.zmqstream.ZMQStream object>, callback=<function null_wrapper>, *args=([<zmq.sugar.frame.Frame object>, <zmq.sugar.frame.Frame object>, <zmq.sugar.frame.Frame object>, <zmq.sugar.frame.Frame object>, <zmq.sugar.frame.Frame object>, <zmq.sugar.frame.Frame object>, <zmq.sugar.frame.Frame object>],), **kwargs={})\n    409         close our socket.\"\"\"\n    410         try:\n    411             # Use a NullContext to ensure that all StackContexts are run\n    412             # inside our blanket exception handler rather than outside.\n    413             with stack_context.NullContext():\n--> 414                 callback(*args, **kwargs)\n        callback = <function null_wrapper>\n        args = ([<zmq.sugar.frame.Frame object>, <zmq.sugar.frame.Frame object>, <zmq.sugar.frame.Frame object>, <zmq.sugar.frame.Frame object>, <zmq.sugar.frame.Frame object>, <zmq.sugar.frame.Frame object>, <zmq.sugar.frame.Frame object>],)\n        kwargs = {}\n    415         except:\n    416             gen_log.error(\"Uncaught exception, closing connection.\",\n    417                           exc_info=True)\n    418             # Close the socket on an uncaught exception from a user callback\n\n...........................................................................\n/usr/local/lib/python2.7/dist-packages/tornado/stack_context.py in null_wrapper(*args=([<zmq.sugar.frame.Frame object>, <zmq.sugar.frame.Frame object>, <zmq.sugar.frame.Frame object>, <zmq.sugar.frame.Frame object>, <zmq.sugar.frame.Frame object>, <zmq.sugar.frame.Frame object>, <zmq.sugar.frame.Frame object>],), **kwargs={})\n    270         # Fast path when there are no active contexts.\n    271         def null_wrapper(*args, **kwargs):\n    272             try:\n    273                 current_state = _state.contexts\n    274                 _state.contexts = cap_contexts[0]\n--> 275                 return fn(*args, **kwargs)\n        args = ([<zmq.sugar.frame.Frame object>, <zmq.sugar.frame.Frame object>, <zmq.sugar.frame.Frame object>, <zmq.sugar.frame.Frame object>, <zmq.sugar.frame.Frame object>, <zmq.sugar.frame.Frame object>, <zmq.sugar.frame.Frame object>],)\n        kwargs = {}\n    276             finally:\n    277                 _state.contexts = current_state\n    278         null_wrapper._wrapped = True\n    279         return null_wrapper\n\n...........................................................................\n/usr/local/lib/python2.7/dist-packages/ipykernel/kernelbase.py in dispatcher(msg=[<zmq.sugar.frame.Frame object>, <zmq.sugar.frame.Frame object>, <zmq.sugar.frame.Frame object>, <zmq.sugar.frame.Frame object>, <zmq.sugar.frame.Frame object>, <zmq.sugar.frame.Frame object>, <zmq.sugar.frame.Frame object>])\n    255         if self.control_stream:\n    256             self.control_stream.on_recv(self.dispatch_control, copy=False)\n    257 \n    258         def make_dispatcher(stream):\n    259             def dispatcher(msg):\n--> 260                 return self.dispatch_shell(stream, msg)\n        msg = [<zmq.sugar.frame.Frame object>, <zmq.sugar.frame.Frame object>, <zmq.sugar.frame.Frame object>, <zmq.sugar.frame.Frame object>, <zmq.sugar.frame.Frame object>, <zmq.sugar.frame.Frame object>, <zmq.sugar.frame.Frame object>]\n    261             return dispatcher\n    262 \n    263         for s in self.shell_streams:\n    264             s.on_recv(make_dispatcher(s), copy=False)\n\n...........................................................................\n/usr/local/lib/python2.7/dist-packages/ipykernel/kernelbase.py in dispatch_shell(self=<ipykernel.ipkernel.IPythonKernel object>, stream=<zmq.eventloop.zmqstream.ZMQStream object>, msg={'buffers': [], 'content': {u'allow_stdin': True, u'code': u'for stack in [\\'MD585\\']:\\n# for stack in [\\'M...erpolate: %.2f seconds\\\\n\\' % (time.time() - t))', u'silent': False, u'stop_on_error': True, u'store_history': True, u'user_expressions': {}}, 'header': {'date': '2016-03-08T10:01:04.779028', u'msg_id': u'2A3B2B2D4EDF4B9BBA1CB7934684BD7F', u'msg_type': u'execute_request', u'session': u'C79958A63CB94A5F82ED65A5183A13C1', u'username': u'username', u'version': u'5.0'}, 'metadata': {}, 'msg_id': u'2A3B2B2D4EDF4B9BBA1CB7934684BD7F', 'msg_type': u'execute_request', 'parent_header': {}})\n    207             self.log.error(\"UNKNOWN MESSAGE TYPE: %r\", msg_type)\n    208         else:\n    209             self.log.debug(\"%s: %s\", msg_type, msg)\n    210             self.pre_handler_hook()\n    211             try:\n--> 212                 handler(stream, idents, msg)\n        handler = <bound method IPythonKernel.execute_request of <ipykernel.ipkernel.IPythonKernel object>>\n        stream = <zmq.eventloop.zmqstream.ZMQStream object>\n        idents = ['C79958A63CB94A5F82ED65A5183A13C1']\n        msg = {'buffers': [], 'content': {u'allow_stdin': True, u'code': u'for stack in [\\'MD585\\']:\\n# for stack in [\\'M...erpolate: %.2f seconds\\\\n\\' % (time.time() - t))', u'silent': False, u'stop_on_error': True, u'store_history': True, u'user_expressions': {}}, 'header': {'date': '2016-03-08T10:01:04.779028', u'msg_id': u'2A3B2B2D4EDF4B9BBA1CB7934684BD7F', u'msg_type': u'execute_request', u'session': u'C79958A63CB94A5F82ED65A5183A13C1', u'username': u'username', u'version': u'5.0'}, 'metadata': {}, 'msg_id': u'2A3B2B2D4EDF4B9BBA1CB7934684BD7F', 'msg_type': u'execute_request', 'parent_header': {}}\n    213             except Exception:\n    214                 self.log.error(\"Exception in message handler:\", exc_info=True)\n    215             finally:\n    216                 self.post_handler_hook()\n\n...........................................................................\n/usr/local/lib/python2.7/dist-packages/ipykernel/kernelbase.py in execute_request(self=<ipykernel.ipkernel.IPythonKernel object>, stream=<zmq.eventloop.zmqstream.ZMQStream object>, ident=['C79958A63CB94A5F82ED65A5183A13C1'], parent={'buffers': [], 'content': {u'allow_stdin': True, u'code': u'for stack in [\\'MD585\\']:\\n# for stack in [\\'M...erpolate: %.2f seconds\\\\n\\' % (time.time() - t))', u'silent': False, u'stop_on_error': True, u'store_history': True, u'user_expressions': {}}, 'header': {'date': '2016-03-08T10:01:04.779028', u'msg_id': u'2A3B2B2D4EDF4B9BBA1CB7934684BD7F', u'msg_type': u'execute_request', u'session': u'C79958A63CB94A5F82ED65A5183A13C1', u'username': u'username', u'version': u'5.0'}, 'metadata': {}, 'msg_id': u'2A3B2B2D4EDF4B9BBA1CB7934684BD7F', 'msg_type': u'execute_request', 'parent_header': {}})\n    365         if not silent:\n    366             self.execution_count += 1\n    367             self._publish_execute_input(code, parent, self.execution_count)\n    368 \n    369         reply_content = self.do_execute(code, silent, store_history,\n--> 370                                         user_expressions, allow_stdin)\n        user_expressions = {}\n        allow_stdin = True\n    371 \n    372         # Flush output before sending the reply.\n    373         sys.stdout.flush()\n    374         sys.stderr.flush()\n\n...........................................................................\n/usr/local/lib/python2.7/dist-packages/ipykernel/ipkernel.py in do_execute(self=<ipykernel.ipkernel.IPythonKernel object>, code=u'for stack in [\\'MD585\\']:\\n# for stack in [\\'M...erpolate: %.2f seconds\\\\n\\' % (time.time() - t))', silent=False, store_history=True, user_expressions={}, allow_stdin=True)\n    170 \n    171         reply_content = {}\n    172         # FIXME: the shell calls the exception handler itself.\n    173         shell._reply_content = None\n    174         try:\n--> 175             shell.run_cell(code, store_history=store_history, silent=silent)\n        shell.run_cell = <bound method ZMQInteractiveShell.run_cell of <ipykernel.zmqshell.ZMQInteractiveShell object>>\n        code = u'for stack in [\\'MD585\\']:\\n# for stack in [\\'M...erpolate: %.2f seconds\\\\n\\' % (time.time() - t))'\n        store_history = True\n        silent = False\n    176         except:\n    177             status = u'error'\n    178             # FIXME: this code right now isn't being used yet by default,\n    179             # because the run_cell() call above directly fires off exception\n\n...........................................................................\n/usr/local/lib/python2.7/dist-packages/IPython/core/interactiveshell.py in run_cell(self=<ipykernel.zmqshell.ZMQInteractiveShell object>, raw_cell=u'for stack in [\\'MD585\\']:\\n# for stack in [\\'M...erpolate: %.2f seconds\\\\n\\' % (time.time() - t))', store_history=True, silent=False, shell_futures=True)\n   2897                 self.displayhook.exec_result = result\n   2898 \n   2899                 # Execute the user code\n   2900                 interactivity = \"none\" if silent else self.ast_node_interactivity\n   2901                 self.run_ast_nodes(code_ast.body, cell_name,\n-> 2902                    interactivity=interactivity, compiler=compiler, result=result)\n        interactivity = 'last_expr'\n        compiler = <IPython.core.compilerop.CachingCompiler instance>\n   2903 \n   2904                 # Reset this so later displayed values do not modify the\n   2905                 # ExecutionResult\n   2906                 self.displayhook.exec_result = None\n\n...........................................................................\n/usr/local/lib/python2.7/dist-packages/IPython/core/interactiveshell.py in run_ast_nodes(self=<ipykernel.zmqshell.ZMQInteractiveShell object>, nodelist=[<_ast.For object>], cell_name='<ipython-input-12-6813930b6274>', interactivity='none', compiler=<IPython.core.compilerop.CachingCompiler instance>, result=<IPython.core.interactiveshell.ExecutionResult object>)\n   3001 \n   3002         try:\n   3003             for i, node in enumerate(to_run_exec):\n   3004                 mod = ast.Module([node])\n   3005                 code = compiler(mod, cell_name, \"exec\")\n-> 3006                 if self.run_code(code, result):\n        self.run_code = <bound method ZMQInteractiveShell.run_code of <ipykernel.zmqshell.ZMQInteractiveShell object>>\n        code = <code object <module> at 0x7fb91e6a7730, file \"<ipython-input-12-6813930b6274>\", line 1>\n        result = <IPython.core.interactiveshell.ExecutionResult object>\n   3007                     return True\n   3008 \n   3009             for i, node in enumerate(to_run_interactive):\n   3010                 mod = ast.Interactive([node])\n\n...........................................................................\n/usr/local/lib/python2.7/dist-packages/IPython/core/interactiveshell.py in run_code(self=<ipykernel.zmqshell.ZMQInteractiveShell object>, code_obj=<code object <module> at 0x7fb91e6a7730, file \"<ipython-input-12-6813930b6274>\", line 1>, result=<IPython.core.interactiveshell.ExecutionResult object>)\n   3061         outflag = 1  # happens in more places, so it's easier as default\n   3062         try:\n   3063             try:\n   3064                 self.hooks.pre_run_code_hook()\n   3065                 #rprint('Running code', repr(code_obj)) # dbg\n-> 3066                 exec(code_obj, self.user_global_ns, self.user_ns)\n        code_obj = <code object <module> at 0x7fb91e6a7730, file \"<ipython-input-12-6813930b6274>\", line 1>\n        self.user_global_ns = {'Atom': <class 'tables.atom.Atom'>, 'DataManager': <class 'utilities2015.DataManager'>, 'Filters': <class 'tables.filters.Filters'>, 'In': ['', u\"get_ipython().magic(u'load_ext autoreload')\\ng...rom joblib import Parallel, delayed\\nimport time\", u\"# labels =  ['BackG', '5N', '7n', '7N', '12N',...ge(len(labels), len(labels)+len(other_labels))))\", u'from scipy.interpolate import RectBivariateSpline\\nfrom skimage.transform import resize', u\"patches_rootdir = '/home/yuncong/CSHL_data_patches'\", u\"# scoremaps_rootdir = '/home/yuncong/CSHL_scor..._rootdir):\\n    os.makedirs(predictions_rootdir)\", u'for stack in [\\'MD585\\']:\\n# for stack in [\\'M...erpolate: %.2f seconds\\\\n\\' % (time.time() - t))', u\"get_ipython().magic(u'load_ext autoreload')\\ng...rom joblib import Parallel, delayed\\nimport time\", u\"# labels =  ['BackG', '5N', '7n', '7N', '12N',...ge(len(labels), len(labels)+len(other_labels))))\", u'from scipy.interpolate import RectBivariateSpline\\nfrom skimage.transform import resize', u\"patches_rootdir = '/home/yuncong/CSHL_data_patches'\", u\"# scoremaps_rootdir = '/home/yuncong/CSHL_scor..._rootdir):\\n    os.makedirs(predictions_rootdir)\", u'for stack in [\\'MD585\\']:\\n# for stack in [\\'M...erpolate: %.2f seconds\\\\n\\' % (time.time() - t))'], 'Out': {}, 'Parallel': <class 'joblib.parallel.Parallel'>, 'RectBivariateSpline': <class 'scipy.interpolate.fitpack2.RectBivariateSpline'>, '_': [None, None, None, None, None, None, None, None, None, None, None, None, None, None, None, None, None, None, None, None], '__': '', '___': '', ...}\n        self.user_ns = {'Atom': <class 'tables.atom.Atom'>, 'DataManager': <class 'utilities2015.DataManager'>, 'Filters': <class 'tables.filters.Filters'>, 'In': ['', u\"get_ipython().magic(u'load_ext autoreload')\\ng...rom joblib import Parallel, delayed\\nimport time\", u\"# labels =  ['BackG', '5N', '7n', '7N', '12N',...ge(len(labels), len(labels)+len(other_labels))))\", u'from scipy.interpolate import RectBivariateSpline\\nfrom skimage.transform import resize', u\"patches_rootdir = '/home/yuncong/CSHL_data_patches'\", u\"# scoremaps_rootdir = '/home/yuncong/CSHL_scor..._rootdir):\\n    os.makedirs(predictions_rootdir)\", u'for stack in [\\'MD585\\']:\\n# for stack in [\\'M...erpolate: %.2f seconds\\\\n\\' % (time.time() - t))', u\"get_ipython().magic(u'load_ext autoreload')\\ng...rom joblib import Parallel, delayed\\nimport time\", u\"# labels =  ['BackG', '5N', '7n', '7N', '12N',...ge(len(labels), len(labels)+len(other_labels))))\", u'from scipy.interpolate import RectBivariateSpline\\nfrom skimage.transform import resize', u\"patches_rootdir = '/home/yuncong/CSHL_data_patches'\", u\"# scoremaps_rootdir = '/home/yuncong/CSHL_scor..._rootdir):\\n    os.makedirs(predictions_rootdir)\", u'for stack in [\\'MD585\\']:\\n# for stack in [\\'M...erpolate: %.2f seconds\\\\n\\' % (time.time() - t))'], 'Out': {}, 'Parallel': <class 'joblib.parallel.Parallel'>, 'RectBivariateSpline': <class 'scipy.interpolate.fitpack2.RectBivariateSpline'>, '_': [None, None, None, None, None, None, None, None, None, None, None, None, None, None, None, None, None, None, None, None], '__': '', '___': '', ...}\n   3067             finally:\n   3068                 # Reset our crash handler in place\n   3069                 sys.excepthook = old_excepthook\n   3070         except SystemExit as e:\n\n...........................................................................\n/home/yuncong/Brain/learning/<ipython-input-12-6813930b6274> in <module>()\n    135         \n    136         t = time.time()\n    137 \n    138         n_labels = probs.shape[1]\n    139 \n--> 140         _ = Parallel(n_jobs=12)(delayed(generate_score_map)(l) for l in range(n_labels))\n    141 \n    142         sys.stderr.write('interpolate: %.2f seconds\\n' % (time.time() - t))\n    143 \n    144 \n\n...........................................................................\n/usr/local/lib/python2.7/dist-packages/joblib/parallel.py in __call__(self=Parallel(n_jobs=12), iterable=<generator object <genexpr>>)\n    807             if pre_dispatch == \"all\" or n_jobs == 1:\n    808                 # The iterable was consumed all at once by the above for loop.\n    809                 # No need to wait for async callbacks to trigger to\n    810                 # consumption.\n    811                 self._iterating = False\n--> 812             self.retrieve()\n        self.retrieve = <bound method Parallel.retrieve of Parallel(n_jobs=12)>\n    813             # Make sure that we get a last message telling us we are done\n    814             elapsed_time = time.time() - self._start_time\n    815             self._print('Done %3i out of %3i | elapsed: %s finished',\n    816                         (len(self._output), len(self._output),\n\n---------------------------------------------------------------------------\nSub-process traceback:\n---------------------------------------------------------------------------\nIOError                                            Tue Mar  8 11:02:56 2016\nPID: 44397                                    Python 2.7.6: /usr/bin/python\n...........................................................................\n/usr/local/lib/python2.7/dist-packages/joblib/parallel.pyc in __call__(self=<joblib.parallel.BatchedCalls object>)\n     67     def __init__(self, iterator_slice):\n     68         self.items = list(iterator_slice)\n     69         self._size = len(self.items)\n     70 \n     71     def __call__(self):\n---> 72         return [func(*args, **kwargs) for func, args, kwargs in self.items]\n     73 \n     74     def __len__(self):\n     75         return self._size\n     76 \n\n...........................................................................\n/home/yuncong/Brain/learning/<ipython-input-12-6813930b6274> in generate_score_map(l=2)\n    115 #                                               mode='constant', constant_values=0)\n    116             \n    117 #             t = time.time()\n    118             bp.pack_ndarray_file(dense_score_map.astype(np.float32), \n    119                                    os.path.join(scoremaps_dir, '%(dataset)s_denseScoreMapLossless_%(label)s.bp' % \\\n--> 120                                                 {'dataset': dataset, 'label': label}))\n    121     \n    122 #             filters = Filters(complevel=9, complib='blosc')\n    123 #             with open_file( os.path.join(scoremaps_dir, '%(dataset)s_denseScoreMapLossless_%(label)s.hdf' % \\\n    124 #                                                             {'dataset': dataset, 'label': label}), mode=\"w\") as f:\n\n...........................................................................\n/usr/local/lib/python2.7/dist-packages/bloscpack/numpy_io.pyc in pack_ndarray_file(ndarray=array([[ 0.,  0.,  0., ...,  0.,  0.,  0.],\n    ....,  0.,  0., ...,  0.,  0.,  0.]], dtype=float32), filename='/home/yuncong/CSHL_scoremaps_lossless/MD585/0262/MD585_0262_roi1_denseScoreMapLossless_7n.bp', chunk_size='1M', blosc_args=None, bloscpack_args=None, metadata_args=None)\n    185         sink = CompressedFPSink(fp)\n    186         pack_ndarray(ndarray, sink,\n    187                      chunk_size=chunk_size,\n    188                      blosc_args=blosc_args,\n    189                      bloscpack_args=bloscpack_args,\n--> 190                      metadata_args=metadata_args)\n    191 \n    192 \n    193 def pack_ndarray_str(ndarray,\n    194                      chunk_size=DEFAULT_CHUNK_SIZE,\n\n...........................................................................\n/usr/local/lib/python2.7/dist-packages/bloscpack/numpy_io.pyc in pack_ndarray(ndarray=array([[ 0.,  0.,  0., ...,  0.,  0.,  0.],\n    ....,  0.,  0., ...,  0.,  0.,  0.]], dtype=float32), sink=<bloscpack.file_io.CompressedFPSink object>, chunk_size=1048576, blosc_args=BloscArgs(typesize=4, clevel=7, shuffle=True, cname='blosclz'), bloscpack_args=None, metadata_args=None)\n    168     pack(source, sink,\n    169          nchunks, chunk_size, last_chunk_size,\n    170          metadata=source.metadata,\n    171          blosc_args=blosc_args,\n    172          bloscpack_args=bloscpack_args,\n--> 173          metadata_args=metadata_args)\n    174     #out_file_size = path.getsize(file_pointer)\n    175     #log.verbose('output file size: %s' % double_pretty_size(out_file_size))\n    176     #log.verbose('compression ratio: %f' % (out_file_size/source.size))\n    177 \n\n...........................................................................\n/usr/local/lib/python2.7/dist-packages/bloscpack/abstract_io.pyc in pack(source=<bloscpack.numpy_io.PlainNumpySource object>, sink=<bloscpack.file_io.CompressedFPSink object>, nchunks=353, chunk_size=1048576, last_chunk=578084, metadata={'container': 'numpy', 'dtype': \"'<f4'\", 'order': 'C', 'shape': (7113, 12993)}, blosc_args=BloscArgs(typesize=4, clevel=7, shuffle=True, cname='blosclz'), bloscpack_args=BloscpackArgs(offsets=True, checksum='adler32', ...app_chunks=<function <lambda> at 0x7fb901827848>), metadata_args=MetadataArgs(magic_format='JSON', meta_checksum=..._meta_size=<function <lambda> at 0x7fb9018278c0>))\n    162     for i, chunk in enumerate(source):\n    163         if log.LEVEL == log.DEBUG:\n    164             log.debug(\"Handle chunk '%d'%s\" %\n    165                     (i, ' (last)' if i == nchunks - 1 else ''))\n    166         compressed = compress_func(chunk, blosc_args)\n--> 167         sink.put(i, compressed)\n    168         if log.LEVEL == log.DEBUG:\n    169             log.debug(\"chunk handled, in: %s out: %s\" %\n    170                     (double_pretty_size(len(chunk)),\n    171                     double_pretty_size(len(compressed))))\n\n...........................................................................\n/usr/local/lib/python2.7/dist-packages/bloscpack/file_io.pyc in put(self=<bloscpack.file_io.CompressedFPSink object>, i=91, compressed='\\x02\\x01\\x01\\x04\\x00\\x00\\x10\\x00\\x00\\x00\\x02\\x00\\x10\\x12\\x00\\x00\\xe4\\x06\\x00\\x00\\xd4\\x0f\\x00\\x000\\x00\\x00\\x00\\x98\\r\\x00\\x00 \\t\\x00\\x00l\\x02\\x00\\x00\\\\\\x0b\\x00\\x00\\xa8\\x04\\x00\\x00...\\xff\\xff\\xff\\xff\\xff\\xff\\xff\\xff\\xff\\xff\\xff\\xff\\xff\\xff\\xff\\xff\\xff\\xff\\xff\\xff\\xff\\xff\\xff\\xff\\xff\\xff\\xff\\xff\\xff\\xff\\xff\\xff\\xff\\xff\\xff\\xff\\xff\\xff\\xff\\xff\\xff\\xffq\\x00\\x03\\x00\\x00\\x00\\x00')\n    408             _write_offsets(self.output_fp, self.offset_storage)\n    409 \n    410     def put(self, i, compressed):\n    411         offset = self.output_fp.tell()\n    412         digest = self.do_checksum(compressed)\n--> 413         _write_compressed_chunk(self.output_fp, compressed, digest)\n    414         if self.offsets:\n    415             self.offset_storage[i] = offset\n    416         return offset, compressed, digest\n    417 \n\n...........................................................................\n/usr/local/lib/python2.7/dist-packages/bloscpack/file_io.pyc in _write_compressed_chunk(output_fp=<closed file '/home/yuncong/CSHL_scoremaps_lossl...262_roi1_denseScoreMapLossless_7n.bp', mode 'wb'>, compressed='\\x02\\x01\\x01\\x04\\x00\\x00\\x10\\x00\\x00\\x00\\x02\\x00\\x10\\x12\\x00\\x00\\xe4\\x06\\x00\\x00\\xd4\\x0f\\x00\\x000\\x00\\x00\\x00\\x98\\r\\x00\\x00 \\t\\x00\\x00l\\x02\\x00\\x00\\\\\\x0b\\x00\\x00\\xa8\\x04\\x00\\x00...\\xff\\xff\\xff\\xff\\xff\\xff\\xff\\xff\\xff\\xff\\xff\\xff\\xff\\xff\\xff\\xff\\xff\\xff\\xff\\xff\\xff\\xff\\xff\\xff\\xff\\xff\\xff\\xff\\xff\\xff\\xff\\xff\\xff\\xff\\xff\\xff\\xff\\xff\\xff\\xff\\xff\\xffq\\x00\\x03\\x00\\x00\\x00\\x00', digest='y5\\xafE')\n    332         if checksum_impl.size > 0 else None\n    333     return compressed, blosc_header, digest\n    334 \n    335 \n    336 def _write_compressed_chunk(output_fp, compressed, digest):\n--> 337     output_fp.write(compressed)\n    338     if len(digest) > 0:\n    339         output_fp.write(digest)\n    340 \n    341 \n\nIOError: [Errno 28] No space left on device\n___________________________________________________________________________"
     ]
    }
   ],
   "source": [
    "for stack in ['MD585']:\n",
    "# for stack in ['MD585', 'MD593', 'MD592', 'MD590', 'MD591', 'MD595', 'MD598', 'MD602', 'MD594]:\n",
    "# for stack in ['MD585', 'MD593', 'MD592', 'MD590']:\n",
    "\n",
    "    first_bs_sec, last_bs_sec = section_range_lookup[stack]\n",
    "\n",
    "    table_filepath = os.path.join(patches_rootdir, '%(stack)s_indices_allROIs_allSections.h5'%{'stack':stack})\n",
    "    indices_allROIs_allSections = pd.read_hdf(table_filepath, 'indices_allROIs_allSections')\n",
    "    grid_parameters = pd.read_hdf(table_filepath, 'grid_parameters')\n",
    "\n",
    "    first_detect_sec, last_detect_sec = detect_bbox_range_lookup[stack]\n",
    "\n",
    "#     for sec in range(188, last_detect_sec+1):\n",
    "    for sec in range(first_detect_sec, last_detect_sec+1):\n",
    "#     for sec in [142]:\n",
    "\n",
    "        if sec not in indices_allROIs_allSections.columns:\n",
    "            continue\n",
    "\n",
    "        print sec\n",
    "\n",
    "        indices_roi = indices_allROIs_allSections[sec]['roi1']\n",
    "\n",
    "        predictions_dir = os.path.join(predictions_rootdir, stack, '%04d'%sec)\n",
    "        if not os.path.exists(predictions_dir):\n",
    "            os.makedirs(predictions_dir)\n",
    "\n",
    "        scoremaps_dir = os.path.join(scoremaps_rootdir, stack, '%04d'%sec)\n",
    "        if not os.path.exists(scoremaps_dir):\n",
    "            os.makedirs(scoremaps_dir)\n",
    "\n",
    "        ## define grid, generate patches\n",
    "\n",
    "        t = time.time()\n",
    "\n",
    "        dm = DataManager(stack=stack, section=sec)\n",
    "        dm._load_image(['rgb-jpg'])\n",
    "\n",
    "        patch_size, stride, w, h = grid_parameters.tolist()\n",
    "        half_size = patch_size/2\n",
    "\n",
    "        ys, xs = np.meshgrid(np.arange(half_size, h-half_size, stride), np.arange(half_size, w-half_size, stride),\n",
    "                         indexing='xy')\n",
    "\n",
    "        sample_locations = np.c_[xs.flat, ys.flat]\n",
    "        sample_locations_roi = sample_locations[indices_roi]\n",
    "        \n",
    "        ## interpolate\n",
    "\n",
    "        interpolation_xmin, interpolation_ymin = sample_locations_roi.min(axis=0)\n",
    "        interpolation_xmax, interpolation_ymax = sample_locations_roi.max(axis=0)\n",
    "        interpolation_w = interpolation_xmax - interpolation_xmin + 1\n",
    "        interpolation_h = interpolation_ymax - interpolation_ymin + 1\n",
    "\n",
    "        ##### sample_locations_roi + scores to dense_score_map #####\n",
    "\n",
    "        shrink_factor = 4 # do interpolation on a smaller grid, then resize to original dimension\n",
    "\n",
    "        sample_locations_unique_xs = np.unique(sample_locations_roi[:,0])\n",
    "        sample_locations_unique_ys = np.unique(sample_locations_roi[:,1])\n",
    "\n",
    "        n_sample_x = sample_locations_unique_xs.size\n",
    "        n_sample_y = sample_locations_unique_ys.size\n",
    "\n",
    "        index_x = dict([(j,i) for i,j in enumerate(sample_locations_unique_xs)])\n",
    "        index_y = dict([(j,i) for i,j in enumerate(sample_locations_unique_ys)])\n",
    "        sample_location_indices = np.asarray([(index_x[x], index_y[y]) for x, y in sample_locations_roi])\n",
    "\n",
    "        sample_locations_interpolatedArea_ys_matrix, \\\n",
    "        sample_locations_interpolatedArea_xs_matrix = np.meshgrid(range(interpolation_ymin/shrink_factor, \n",
    "                                                                        interpolation_ymax/shrink_factor), \n",
    "                                                                  range(interpolation_xmin/shrink_factor, \n",
    "                                                                        interpolation_xmax/shrink_factor), \n",
    "                                                                  indexing='ij')\n",
    "\n",
    "\n",
    "        sys.stderr.write('preprocess: %.2f seconds\\n' % (time.time() - t))\n",
    "        \n",
    "        dataset = '%(stack)s_%(sec)04d_roi1' % {'stack': stack, 'sec': sec}\n",
    "        probs = np.load(predictions_dir + '/%(dataset)s_predictions.npy'% {'dataset': dataset})\n",
    "\n",
    "        \n",
    "        def generate_score_map(l):\n",
    "\n",
    "#             label = labels[(l+1)%len(labels)]\n",
    "            label = labels[l]\n",
    "\n",
    "            if label == 'BackG':\n",
    "                return\n",
    "\n",
    "            score_matrix = np.zeros((n_sample_x, n_sample_y))\n",
    "            score_matrix[sample_location_indices[:,0], sample_location_indices[:,1]] = probs[:,l]\n",
    "\n",
    "            \n",
    "            spline = RectBivariateSpline(sample_locations_unique_xs/shrink_factor, \n",
    "                                         sample_locations_unique_ys/shrink_factor, \n",
    "                                         score_matrix, \n",
    "                                         bbox=[interpolation_xmin/shrink_factor, \n",
    "                                               interpolation_xmax/shrink_factor, \n",
    "                                               interpolation_ymin/shrink_factor, \n",
    "                                               interpolation_ymax/shrink_factor])\n",
    "\n",
    "            dense_score_map = spline.ev(sample_locations_interpolatedArea_xs_matrix, \n",
    "                                        sample_locations_interpolatedArea_ys_matrix)\n",
    "\n",
    "            dense_score_map = resize(dense_score_map, (interpolation_h, interpolation_w))\n",
    "\n",
    "            dense_score_map[dense_score_map < 1e-2] = 0\n",
    "            \n",
    "            if np.count_nonzero(dense_score_map[::8, ::8] > .1) < 1e3:\n",
    "                sys.stderr.write('No %s is detected on section %d\\n' % (label, sec))\n",
    "                return\n",
    "            \n",
    "#             dense_score_map_lossless = np.pad(dense_score_map, ((interpolation_ymin, h-interpolation_ymax-1), \n",
    "#                                                   (interpolation_xmin, w-interpolation_xmax-1)),\n",
    "#                                               mode='constant', constant_values=0)\n",
    "            \n",
    "#             t = time.time()\n",
    "            bp.pack_ndarray_file(dense_score_map.astype(np.float32), \n",
    "                                   os.path.join(scoremaps_dir, '%(dataset)s_denseScoreMapLossless_%(label)s.bp' % \\\n",
    "                                                {'dataset': dataset, 'label': label}))\n",
    "    \n",
    "#             filters = Filters(complevel=9, complib='blosc')\n",
    "#             with open_file( os.path.join(scoremaps_dir, '%(dataset)s_denseScoreMapLossless_%(label)s.hdf' % \\\n",
    "#                                                             {'dataset': dataset, 'label': label}), mode=\"w\") as f:\n",
    "#                 _ = f.create_carray('/', 'data', Atom.from_dtype(dense_score_map_lossless.dtype), filters=filters, obj=dense_score_map_lossless)\n",
    "    \n",
    "            np.savetxt(os.path.join(scoremaps_dir, '%(dataset)s_denseScoreMapLossless_%(label)s_interpBox.txt' % \\\n",
    "                                        {'dataset': dataset, 'label': label}),\n",
    "                   np.array((interpolation_xmin, interpolation_xmax, interpolation_ymin, interpolation_ymax))[None], \n",
    "                   fmt='%d')\n",
    "    \n",
    "#             sys.stderr.write('write: %.2f seconds\\n' % (time.time() - t))\n",
    "        \n",
    "#             return dense_score_map_lossless\n",
    "\n",
    "        \n",
    "        t = time.time()\n",
    "\n",
    "        n_labels = probs.shape[1]\n",
    "\n",
    "        _ = Parallel(n_jobs=12)(delayed(generate_score_map)(l) for l in range(n_labels))\n",
    "\n",
    "        sys.stderr.write('interpolate: %.2f seconds\\n' % (time.time() - t))"
   ]
  },
  {
   "cell_type": "code",
   "execution_count": null,
   "metadata": {
    "collapsed": true
   },
   "outputs": [],
   "source": []
  }
 ],
 "metadata": {
  "kernelspec": {
   "display_name": "Python 2",
   "language": "python",
   "name": "python2"
  },
  "language_info": {
   "codemirror_mode": {
    "name": "ipython",
    "version": 2
   },
   "file_extension": ".py",
   "mimetype": "text/x-python",
   "name": "python",
   "nbconvert_exporter": "python",
   "pygments_lexer": "ipython2",
   "version": "2.7.6"
  }
 },
 "nbformat": 4,
 "nbformat_minor": 0
}
