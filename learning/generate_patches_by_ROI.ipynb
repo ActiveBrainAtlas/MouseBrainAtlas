{
 "cells": [
  {
   "cell_type": "code",
   "execution_count": 1,
   "metadata": {
    "collapsed": true
   },
   "outputs": [],
   "source": [
    "%reload_ext autoreload\n",
    "%autoreload 2\n",
    "\n",
    "import cv2\n",
    "\n",
    "import os\n",
    "import sys\n",
    "sys.path.append(os.path.join(os.environ['REPO_DIR'], 'utilities'))\n",
    "from utilities2015 import DataManager\n",
    "\n",
    "from collections import defaultdict\n",
    "\n",
    "from matplotlib.path import Path\n",
    "%matplotlib inline"
   ]
  },
  {
   "cell_type": "code",
   "execution_count": 6,
   "metadata": {
    "collapsed": true
   },
   "outputs": [],
   "source": [
    "import numpy as np"
   ]
  },
  {
   "cell_type": "code",
   "execution_count": 3,
   "metadata": {
    "collapsed": false
   },
   "outputs": [],
   "source": [
    "stack = 'MD589'"
   ]
  },
  {
   "cell_type": "code",
   "execution_count": 4,
   "metadata": {
    "collapsed": true
   },
   "outputs": [],
   "source": [
    "sec = 195"
   ]
  },
  {
   "cell_type": "code",
   "execution_count": 7,
   "metadata": {
    "collapsed": false
   },
   "outputs": [],
   "source": [
    "patch_size = 224\n",
    "half_size = patch_size/2\n",
    "stride = 56\n",
    "\n",
    "dm = DataManager(stack=stack, section=sec, load_mask=False)\n",
    "\n",
    "w = dm.image_width\n",
    "h = dm.image_height \n",
    "\n",
    "ys, xs = np.meshgrid(np.arange(half_size, h-half_size, stride), np.arange(half_size, w-half_size, stride),\n",
    "                     indexing='xy')\n",
    "    \n",
    "sample_locations = np.c_[xs.flat, ys.flat]"
   ]
  },
  {
   "cell_type": "code",
   "execution_count": null,
   "metadata": {
    "collapsed": true
   },
   "outputs": [],
   "source": [
    "# # Whole slide\n",
    "\n",
    "# output_dir = '/home/yuncong/CSHL_data_patches/%s/%04d/%s'%(stack, sec, label)\n",
    "# if not os.path.exists(output_dir):\n",
    "#     os.makedirs(output_dir)\n",
    "\n",
    "# for i in indices_fg:\n",
    "#     x, y = sample_locations[i]\n",
    "# #             patch = dm.image_rgb[y-half_size:y+half_size, x-half_size:x+half_size]\n",
    "#     patch = dm.image_rgb_jpg[y-half_size:y+half_size, x-half_size:x+half_size]\n",
    "#     cv2.imwrite(output_dir + '/%s_%04d_%08d.jpg'%(stack, sec, i), img_as_ubyte(patch[..., ::-1]))"
   ]
  },
  {
   "cell_type": "code",
   "execution_count": 8,
   "metadata": {
    "collapsed": true
   },
   "outputs": [],
   "source": [
    "patch_dir = '/home/yuncong/CSHL_data_patches/'"
   ]
  },
  {
   "cell_type": "code",
   "execution_count": 9,
   "metadata": {
    "collapsed": true
   },
   "outputs": [],
   "source": [
    "box_x = 37\n",
    "box_y = 122\n",
    "box_w = 393\n",
    "box_h = 219\n",
    "xmin = box_x*32\n",
    "xmax = (box_x+box_w)*32\n",
    "ymin = box_y*32\n",
    "ymax = (box_y+box_h)*32"
   ]
  },
  {
   "cell_type": "code",
   "execution_count": 10,
   "metadata": {
    "collapsed": true
   },
   "outputs": [],
   "source": [
    "mask = dm.load_thumbnail_mask()\n",
    "indices_fg = np.where(mask[sample_locations[:,1]/32, sample_locations[:,0]/32])[0]\n",
    "indices_bg = np.setdiff1d(range(sample_locations.shape[0]), indices_fg)\n",
    "\n",
    "indices_roi = np.where(np.all(np.c_[sample_locations[:,0] > xmin, sample_locations[:,1] > ymin, \n",
    "                                    sample_locations[:,0] < xmax, sample_locations[:,1] < ymax], axis=1))[0]\n",
    "\n",
    "indices_roi = np.setdiff1d(indices_roi, indices_bg)\n",
    "print len(indices_roi), 'patches in ROI'"
   ]
  },
  {
   "cell_type": "code",
   "execution_count": 13,
   "metadata": {
    "collapsed": true
   },
   "outputs": [],
   "source": [
    "output_dir = os.path.join(patch_dir, '%s_byROI/%04d/roi1'%(stack, sec))\n",
    "if not os.path.exists(output_dir):\n",
    "    os.makedirs(output_dir)"
   ]
  },
  {
   "cell_type": "code",
   "execution_count": 16,
   "metadata": {
    "collapsed": false
   },
   "outputs": [
    {
     "name": "stdout",
     "output_type": "stream",
     "text": [
      "22401 patches\n"
     ]
    },
    {
     "name": "stderr",
     "output_type": "stream",
     "text": [
      "/oasis/projects/nsf/csd181/yuncong/virtualenv-1.9.1/yuncongve/lib/python2.7/site-packages/PIL/Image.py:2224: DecompressionBombWarning: Image size (157463552 pixels) exceeds limit of 89478485 pixels, could be decompression bomb DOS attack.\n",
      "  DecompressionBombWarning)\n"
     ]
    }
   ],
   "source": [
    "# dm._load_image(['rgb'])\n",
    "dm._load_image(['rgb-jpg'])\n",
    "\n",
    "for i in np.random.choice(indices_roi, min(10, len(indices_roi)), replace=False):\n",
    "    x, y = sample_locations[i]\n",
    "    patch = dm.image_rgb_jpg[y-half_size:y+half_size, x-half_size:x+half_size]\n",
    "    cv2.imwrite(os.path.join(output_dir, '%(stack)s_%(sec)04d_%(gridp_ind)08d.jpg' %\\\n",
    "                             {'stack':stack, 'sec':sec, 'gridp_ind':i}), \n",
    "                patch[..., ::-1])"
   ]
  },
  {
   "cell_type": "code",
   "execution_count": 15,
   "metadata": {
    "collapsed": false
   },
   "outputs": [
    {
     "name": "stdout",
     "output_type": "stream",
     "text": [
      "tar -I pigz -C /home/yuncong/CSHL_data_patches/MD589_byROI/0195/roi1 -cf MD589_0195_roi1.tar .\n"
     ]
    }
   ],
   "source": [
    "tarball_filename = '%(stack)s_%(sec)04d_roi1.tar' % {'stack': stack, 'sec': sec}\n",
    "print 'tar -I pigz -C %(output_dir)s -cf %(tarball_filename)s .' % \\\n",
    "    {'output_dir': output_dir, 'tarball_filename': tarball_filename}"
   ]
  }
 ],
 "metadata": {
  "kernelspec": {
   "display_name": "Python 2",
   "language": "python",
   "name": "python2"
  },
  "language_info": {
   "codemirror_mode": {
    "name": "ipython",
    "version": 2
   },
   "file_extension": ".py",
   "mimetype": "text/x-python",
   "name": "python",
   "nbconvert_exporter": "python",
   "pygments_lexer": "ipython2",
   "version": "2.7.3"
  }
 },
 "nbformat": 4,
 "nbformat_minor": 0
}
