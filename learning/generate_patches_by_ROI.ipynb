{
 "cells": [
  {
   "cell_type": "code",
   "execution_count": 1,
   "metadata": {
    "collapsed": true
   },
   "outputs": [],
   "source": [
    "%reload_ext autoreload\n",
    "%autoreload 2\n",
    "\n",
    "import cv2\n",
    "\n",
    "import os\n",
    "import sys\n",
    "sys.path.append(os.path.join(os.environ['REPO_DIR'], 'utilities'))\n",
    "from utilities2015 import DataManager\n",
    "\n",
    "from collections import defaultdict\n",
    "\n",
    "from matplotlib.path import Path\n",
    "%matplotlib inline"
   ]
  },
  {
   "cell_type": "code",
   "execution_count": 2,
   "metadata": {
    "collapsed": true
   },
   "outputs": [],
   "source": [
    "import numpy as np"
   ]
  },
  {
   "cell_type": "code",
   "execution_count": 3,
   "metadata": {
    "collapsed": false
   },
   "outputs": [],
   "source": [
    "# stack = 'MD589'\n",
    "stack = 'MD594'\n",
    "\n",
    "patch_size = 224\n",
    "half_size = patch_size/2\n",
    "stride = 56\n",
    "\n",
    "patch_dir = '/home/yuncong/CSHL_data_patches/'"
   ]
  },
  {
   "cell_type": "code",
   "execution_count": 6,
   "metadata": {
    "collapsed": true
   },
   "outputs": [],
   "source": [
    "dm = DataManager(stack=stack, section=154, load_mask=False)\n",
    "\n",
    "w = dm.image_width\n",
    "h = dm.image_height \n",
    "\n",
    "ys, xs = np.meshgrid(np.arange(half_size, h-half_size, stride), np.arange(half_size, w-half_size, stride),\n",
    "                     indexing='xy')\n",
    "\n",
    "sample_locations = np.c_[xs.flat, ys.flat]\n",
    "\n",
    "# MD594\n",
    "box_x = 99\n",
    "box_y = 140\n",
    "box_w = 347\n",
    "box_h = 190\n",
    "\n",
    "# # MD589\n",
    "# box_x = 38\n",
    "# box_y = 137\n",
    "# box_w = 355\n",
    "# box_h = 221\n",
    "\n",
    "xmin = max(half_size, box_x*32)\n",
    "xmax = min(w-half_size-1, (box_x+box_w)*32)\n",
    "ymin = max(half_size, box_y*32)\n",
    "ymax = min(h-half_size-1, (box_y+box_h)*32)"
   ]
  },
  {
   "cell_type": "code",
   "execution_count": 7,
   "metadata": {
    "collapsed": false
   },
   "outputs": [
    {
     "name": "stdout",
     "output_type": "stream",
     "text": [
      "16938 patches in ROI\n",
      "16892 patches in ROI\n",
      "16857 patches in ROI\n",
      "17094 patches in ROI\n",
      "17246 patches in ROI\n",
      "17394 patches in ROI\n",
      "17496 patches in ROI\n",
      "17666 patches in ROI\n",
      "17741 patches in ROI\n",
      "17928 patches in ROI\n"
     ]
    },
    {
     "name": "stderr",
     "output_type": "stream",
     "text": [
      "/oasis/projects/nsf/csd181/yuncong/virtualenv-1.9.1/yuncongve/lib/python2.7/site-packages/PIL/Image.py:2224: DecompressionBombWarning: Image size (167180288 pixels) exceeds limit of 89478485 pixels, could be decompression bomb DOS attack.\n",
      "  DecompressionBombWarning)\n"
     ]
    }
   ],
   "source": [
    "# MD594\n",
    "for sec in range(157,167):\n",
    "\n",
    "# # MD589\n",
    "# for sec in range(154,169):\n",
    "# # for sec in [165]:\n",
    "    \n",
    "    dm = DataManager(stack=stack, section=sec, load_mask=False)\n",
    "\n",
    "    mask = dm.load_thumbnail_mask()\n",
    "    indices_fg = np.where(mask[sample_locations[:,1]/32, sample_locations[:,0]/32])[0]\n",
    "    indices_bg = np.setdiff1d(range(sample_locations.shape[0]), indices_fg)\n",
    "\n",
    "    indices_roi = np.where(np.all(np.c_[sample_locations[:,0] > xmin, sample_locations[:,1] > ymin, \n",
    "                                        sample_locations[:,0] < xmax, sample_locations[:,1] < ymax], axis=1))[0]\n",
    "\n",
    "    indices_roi = np.setdiff1d(indices_roi, indices_bg)\n",
    "    print len(indices_roi), 'patches in ROI'\n",
    "\n",
    "#     output_dir = os.path.join(patch_dir, '%s_byROI/%04d/roi1'%(stack, sec))\n",
    "#     if not os.path.exists(output_dir):\n",
    "#         os.makedirs(output_dir)\n",
    "        \n",
    "#     dm._load_image(['rgb-jpg'])\n",
    "    \n",
    "# #     import time\n",
    "# #     t = time.time()\n",
    "\n",
    "#     for i in indices_roi:\n",
    "#         x, y = sample_locations[i]\n",
    "#         patch = dm.image_rgb_jpg[y-half_size:y+half_size, x-half_size:x+half_size]\n",
    "#         cv2.imwrite(os.path.join(output_dir, '%(stack)s_%(sec)04d_%(gridp_ind)08d.jpg' %\\\n",
    "#                                  {'stack':stack, 'sec':sec, 'gridp_ind':i}), \n",
    "#                     patch[..., ::-1])\n",
    "\n",
    "#     tarball_filename = '%(stack)s_%(sec)04d_roi1.tar' % {'stack': stack, 'sec': sec}\n",
    "\n",
    "#     os.system('tar -I pigz -C %(output_dir)s -cf /home/yuncong/CSHL_data_patches/%(tarball_filename)s .' % \\\n",
    "#               {'output_dir': output_dir, 'tarball_filename': tarball_filename})\n",
    "        \n",
    "# #     print time.time() - t"
   ]
  },
  {
   "cell_type": "code",
   "execution_count": null,
   "metadata": {
    "collapsed": true
   },
   "outputs": [],
   "source": []
  }
 ],
 "metadata": {
  "kernelspec": {
   "display_name": "Python 2",
   "language": "python",
   "name": "python2"
  },
  "language_info": {
   "codemirror_mode": {
    "name": "ipython",
    "version": 2
   },
   "file_extension": ".py",
   "mimetype": "text/x-python",
   "name": "python",
   "nbconvert_exporter": "python",
   "pygments_lexer": "ipython2",
   "version": "2.7.3"
  }
 },
 "nbformat": 4,
 "nbformat_minor": 0
}
