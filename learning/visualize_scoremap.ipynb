{
 "cells": [
  {
   "cell_type": "code",
   "execution_count": 10,
   "metadata": {
    "collapsed": true
   },
   "outputs": [],
   "source": [
    "%reload_ext autoreload\n",
    "%autoreload 2\n",
    "\n",
    "import cv2\n",
    "\n",
    "import os\n",
    "import sys\n",
    "sys.path.append(os.path.join(os.environ['REPO_DIR'], 'utilities'))\n",
    "from utilities2015 import *\n",
    "\n",
    "from collections import defaultdict\n",
    "\n",
    "from matplotlib.path import Path\n",
    "%matplotlib inline\n",
    "\n",
    "import pandas as pd\n",
    "\n",
    "from joblib import Parallel, delayed"
   ]
  },
  {
   "cell_type": "code",
   "execution_count": 11,
   "metadata": {
    "collapsed": true
   },
   "outputs": [],
   "source": [
    "scoremaps_rootdir = '/oasis/projects/nsf/csd395/yuncong/CSHL_scoremaps_lossless'"
   ]
  },
  {
   "cell_type": "code",
   "execution_count": 12,
   "metadata": {
    "collapsed": true
   },
   "outputs": [],
   "source": [
    "scoremapViz_rootdir = '/oasis/projects/nsf/csd395/yuncong/CSHL_scoremapViz'\n",
    "if not os.path.exists(scoremapViz_rootdir):\n",
    "    os.makedirs(scoremapViz_rootdir)"
   ]
  },
  {
   "cell_type": "code",
   "execution_count": 13,
   "metadata": {
    "collapsed": true
   },
   "outputs": [],
   "source": [
    "# labels_to_detect = ['5N', '7n', '7N', '12N', 'Gr', 'LVe', 'Pn', 'SuVe', 'VLL']\n",
    "\n",
    "\n",
    "labels_to_detect = ['5N', '7n', '7N', '12N', 'Gr', 'LVe', 'Pn', 'SuVe', 'VLL', \n",
    "                     '6N', 'Amb', 'R', 'Tz', 'Sol', 'RtTg', 'LRt', 'LC', 'AP', 'sp5']\n"
   ]
  },
  {
   "cell_type": "code",
   "execution_count": 14,
   "metadata": {
    "collapsed": true
   },
   "outputs": [],
   "source": [
    "downscale_factor = 8"
   ]
  },
  {
   "cell_type": "code",
   "execution_count": null,
   "metadata": {
    "collapsed": true
   },
   "outputs": [],
   "source": []
  },
  {
   "cell_type": "code",
   "execution_count": null,
   "metadata": {
    "collapsed": true
   },
   "outputs": [],
   "source": [
    "stack = 'MD585'\n",
    "\n",
    "first_detect_sec, last_detect_sec = detect_bbox_range_lookup[stack]"
   ]
  },
  {
   "cell_type": "code",
   "execution_count": null,
   "metadata": {
    "collapsed": false,
    "scrolled": true
   },
   "outputs": [],
   "source": [
    "for sec in range(first_detect_sec, last_detect_sec + 1):\n",
    "\n",
    "    print sec\n",
    "    \n",
    "    scoremapViz_dir = os.path.join(scoremapViz_rootdir, stack, '%04d'%sec)\n",
    "    if not os.path.exists(scoremapViz_dir):\n",
    "        os.makedirs(scoremapViz_dir)\n",
    "\n",
    "    dm = DataManager(stack=stack, section=sec)\n",
    "    dm._load_image(['rgb-jpg'])\n",
    "\n",
    "    dataset = '%(stack)s_%(sec)04d_roi1' % {'stack': stack, 'sec': sec}\n",
    "\n",
    "    for l in labels_to_detect:\n",
    "        print l\n",
    "        \n",
    "        scoremap_bp_filepath = scoremaps_rootdir + '/%(stack)s/%(slice)04d/%(stack)s_%(slice)04d_roi1_denseScoreMapLossless_%(label)s.bp' \\\n",
    "            % {'stack': stack, 'slice': sec, 'label': l}\n",
    "            \n",
    "        if not os.path.exists(scoremap_bp_filepath):\n",
    "            sys.stderr.write('No scoremap for %s for section %d\\n' % (l, sec))\n",
    "            continue\n",
    "    \n",
    "#         dense_score_map_lossless = bp.unpack_ndarray_file(scoremap_bp_filepath)\n",
    "\n",
    "        scoremap = bp.unpack_ndarray_file(os.path.join(scoremaps_rootdir, stack, '%04d'%sec,\n",
    "                                                   '%(stack)s_%(sec)04d_roi1_denseScoreMapLossless_%(label)s.bp' % \\\n",
    "                                                   {'stack': stack, 'sec': sec, 'label': l}))   \n",
    "        dataset = stack + '_' + '%04d'%sec + '_roi1'\n",
    "        \n",
    "        interpolation_xmin, interpolation_xmax, \\\n",
    "        interpolation_ymin, interpolation_ymax = np.loadtxt(os.path.join(scoremaps_rootdir, stack, '%04d'%sec,\n",
    "                                                                         '%(dataset)s_denseScoreMapLossless_%(label)s_interpBox.txt' % \\\n",
    "                                        {'dataset': dataset, 'label': l})).astype(np.int)\n",
    "        \n",
    "        dense_score_map_lossless = np.pad(scoremap, ((interpolation_ymin, dm.image_height-interpolation_ymax-1), \n",
    "                                      (interpolation_xmin, dm.image_width-interpolation_xmax-1)),\n",
    "                                  mode='constant', constant_values=0)\n",
    "\n",
    "#         dense_score_map_lossless = np.load(os.path.join(scoremaps_rootdir, stack, '%04d'%sec,\n",
    "#                                                         dataset + '_denseScoreMapLossless_%s.npz' % l))['arr_0']\n",
    "        scoremap_viz = plt.cm.hot(dense_score_map_lossless[::downscale_factor, ::downscale_factor])\n",
    "\n",
    "        viz = alpha_blending(scoremap_viz[..., :3], dm.image_rgb_jpg[::downscale_factor, ::downscale_factor], .3, 1.)\n",
    "        \n",
    "        cv2.putText(viz, l, (50, 50), cv2.FONT_HERSHEY_DUPLEX, 2, ((0,0,0)), 3)\n",
    "        \n",
    "        cv2.imwrite(os.path.join(scoremapViz_dir, dataset+'_scoremapViz_%s.jpg' % l), \n",
    "                    img_as_ubyte(viz[..., [2,1,0]]))\n",
    "        "
   ]
  },
  {
   "cell_type": "code",
   "execution_count": null,
   "metadata": {
    "collapsed": true
   },
   "outputs": [],
   "source": []
  },
  {
   "cell_type": "code",
   "execution_count": 6,
   "metadata": {
    "collapsed": false
   },
   "outputs": [],
   "source": [
    "def func(sec):\n",
    "    \n",
    "#     print sec\n",
    "    \n",
    "    global stack\n",
    "    \n",
    "    scoremapViz_dir = os.path.join(scoremapViz_rootdir, stack, '%04d'%sec)\n",
    "    if not os.path.exists(scoremapViz_dir):\n",
    "        os.makedirs(scoremapViz_dir)\n",
    "\n",
    "    dm = DataManager(stack=stack, section=sec)\n",
    "    dm._load_image(['rgb-jpg'])\n",
    "\n",
    "    dataset = '%(stack)s_%(sec)04d_roi1' % {'stack': stack, 'sec': sec}\n",
    "\n",
    "    for l in labels_to_detect:\n",
    "#         print l\n",
    "        \n",
    "        scoremap_bp_filepath = scoremaps_rootdir + '/%(stack)s/%(slice)04d/%(stack)s_%(slice)04d_roi1_denseScoreMapLossless_%(label)s.bp' \\\n",
    "            % {'stack': stack, 'slice': sec, 'label': l}\n",
    "            \n",
    "        if not os.path.exists(scoremap_bp_filepath):\n",
    "#             sys.stderr.write('No scoremap for %s for section %d\\n' % (l, sec))\n",
    "            continue\n",
    "    \n",
    "#         dense_score_map_lossless = bp.unpack_ndarray_file(scoremap_bp_filepath)\n",
    "\n",
    "#         t = time.time()\n",
    "        scoremap = bp.unpack_ndarray_file(os.path.join(scoremaps_rootdir, stack, '%04d'%sec,\n",
    "                                                   '%(stack)s_%(sec)04d_roi1_denseScoreMapLossless_%(label)s.bp' % \\\n",
    "                                                   {'stack': stack, 'sec': sec, 'label': l}))   \n",
    "#         print 1, time.time() - t\n",
    "        \n",
    "        dataset = stack + '_' + '%04d'%sec + '_roi1'\n",
    "        \n",
    "        interpolation_xmin, interpolation_xmax, \\\n",
    "        interpolation_ymin, interpolation_ymax = np.loadtxt(os.path.join(scoremaps_rootdir, stack, '%04d'%sec,\n",
    "                                                                         '%(dataset)s_denseScoreMapLossless_%(label)s_interpBox.txt' % \\\n",
    "                                        {'dataset': dataset, 'label': l})).astype(np.int)\n",
    "        \n",
    "        \n",
    "#         t = time.time()\n",
    "        \n",
    "        dense_score_map_lossless = np.zeros((dm.image_height, dm.image_width))\n",
    "        dense_score_map_lossless[interpolation_ymin:interpolation_ymax+1,\n",
    "                                interpolation_xmin:interpolation_xmax+1] = scoremap.copy()\n",
    "        \n",
    "#         dense_score_map_lossless = np.pad(scoremap, ((interpolation_ymin, dm.image_height-interpolation_ymax-1), \n",
    "#                                       (interpolation_xmin, dm.image_width-interpolation_xmax-1)),\n",
    "#                                   mode='constant', constant_values=0)\n",
    "#         print 2, time.time() - t\n",
    "    \n",
    "#         dense_score_map_lossless = np.load(os.path.join(scoremaps_rootdir, stack, '%04d'%sec,\n",
    "#                                                         dataset + '_denseScoreMapLossless_%s.npz' % l))['arr_0']\n",
    "        \n",
    "#         t = time.time()\n",
    "        scoremap_viz = plt.cm.hot(dense_score_map_lossless[::downscale_factor, ::downscale_factor])\n",
    "        \n",
    "#         scoremap_viz = plt.cm.hot(scoremap[::downscale_factor, ::downscale_factor])\n",
    "#         viz_roi = alpha_blending(scoremap_viz[..., :3],, .3, 1.)\n",
    "\n",
    "#         print 3, time.time() - t\n",
    "        \n",
    "#         t = time.time()\n",
    "        \n",
    "    \n",
    "        viz = (.3 * img_as_ubyte(scoremap_viz[..., :3]) + .7 * dm.image_rgb_jpg[::downscale_factor, ::downscale_factor]).astype(np.uint8)\n",
    "    \n",
    "#         viz = alpha_blending(scoremap_viz[..., :3], dm.image_rgb_jpg[::downscale_factor, ::downscale_factor], .3, 1.)\n",
    "\n",
    "#         print 4, time.time() - t    \n",
    "\n",
    "        cv2.putText(viz, l, (50, 50), cv2.FONT_HERSHEY_DUPLEX, 2, ((0,0,0)), 3)\n",
    "        \n",
    "#         t = time.time()\n",
    "        cv2.imwrite(os.path.join(scoremapViz_dir, dataset+'_scoremapViz_%s.jpg' % l), \n",
    "                    img_as_ubyte(viz[..., [2,1,0]]))\n",
    "        \n",
    "#         print 5, time.time() - t"
   ]
  },
  {
   "cell_type": "code",
   "execution_count": 7,
   "metadata": {
    "collapsed": true
   },
   "outputs": [],
   "source": [
    "import time"
   ]
  },
  {
   "cell_type": "code",
   "execution_count": 8,
   "metadata": {
    "collapsed": true
   },
   "outputs": [],
   "source": [
    "sys.stderr.flush()\n",
    "sys.stdout.flush()"
   ]
  },
  {
   "cell_type": "code",
   "execution_count": 15,
   "metadata": {
    "collapsed": false,
    "scrolled": true
   },
   "outputs": [
    {
     "name": "stdout",
     "output_type": "stream",
     "text": [
      "142\n",
      "27.2448499203\n"
     ]
    }
   ],
   "source": [
    "for stack in ['MD585']:\n",
    "# for stack in ['MD592', 'MD590', 'MD591', 'MD595', 'MD598', 'MD602']:\n",
    "\n",
    "    first_detect_sec, last_detect_sec = detect_bbox_range_lookup[stack]\n",
    "    \n",
    "#     for sec in range(first_detect_sec, last_detect_sec):\n",
    "    for sec in [142]:\n",
    "        \n",
    "        print sec\n",
    "        t = time.time()\n",
    "    \n",
    "        _ = func(sec)\n",
    "#     _ = Parallel(n_jobs=4)(delayed(func)(sec) for sec in range(first_detect_sec, first_detect_sec+2))\n",
    "#     _ = Parallel(n_jobs=16)(delayed(func)(sec) for sec in range(first_detect_sec, first_detect_sec+16))\n",
    "    \n",
    "        print time.time() - t\n"
   ]
  },
  {
   "cell_type": "code",
   "execution_count": null,
   "metadata": {
    "collapsed": true
   },
   "outputs": [],
   "source": []
  },
  {
   "cell_type": "code",
   "execution_count": null,
   "metadata": {
    "collapsed": false,
    "scrolled": true
   },
   "outputs": [],
   "source": [
    "for stack in ['MD585']:\n",
    "# for stack in ['MD592', 'MD590', 'MD591', 'MD595', 'MD598', 'MD602']:\n",
    "\n",
    "    first_detect_sec, last_detect_sec = detect_bbox_range_lookup[stack]\n",
    "    \n",
    "    t = time.time()\n",
    "    \n",
    "    # 391s\n",
    "    \n",
    "    _ = Parallel(n_jobs=8)(delayed(func)(sec) for sec in range(first_detect_sec, last_detect_sec))\n",
    "    \n",
    "    print time.time() - t"
   ]
  },
  {
   "cell_type": "code",
   "execution_count": null,
   "metadata": {
    "collapsed": true
   },
   "outputs": [],
   "source": []
  }
 ],
 "metadata": {
  "kernelspec": {
   "display_name": "Python 2",
   "language": "python",
   "name": "python2"
  },
  "language_info": {
   "codemirror_mode": {
    "name": "ipython",
    "version": 2
   },
   "file_extension": ".py",
   "mimetype": "text/x-python",
   "name": "python",
   "nbconvert_exporter": "python",
   "pygments_lexer": "ipython2",
   "version": "2.7.3"
  }
 },
 "nbformat": 4,
 "nbformat_minor": 0
}
