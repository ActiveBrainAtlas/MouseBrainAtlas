{
 "cells": [
  {
   "cell_type": "code",
   "execution_count": 1,
   "metadata": {
    "collapsed": true
   },
   "outputs": [],
   "source": [
    "%reload_ext autoreload\n",
    "%autoreload 2\n",
    "\n",
    "import cv2\n",
    "\n",
    "import os\n",
    "import sys\n",
    "sys.path.append(os.path.join(os.environ['REPO_DIR'], 'utilities'))\n",
    "from utilities2015 import *\n",
    "\n",
    "from collections import defaultdict\n",
    "\n",
    "from matplotlib.path import Path\n",
    "%matplotlib inline\n",
    "\n",
    "import pandas as pd\n",
    "\n",
    "from joblib import Parallel, delayed"
   ]
  },
  {
   "cell_type": "code",
   "execution_count": 2,
   "metadata": {
    "collapsed": true
   },
   "outputs": [],
   "source": [
    "scoremaps_rootdir = '/oasis/projects/nsf/csd395/yuncong/CSHL_scoremaps_lossless'"
   ]
  },
  {
   "cell_type": "code",
   "execution_count": 3,
   "metadata": {
    "collapsed": true
   },
   "outputs": [],
   "source": [
    "scoremapViz_rootdir = '/oasis/projects/nsf/csd395/yuncong/CSHL_scoremapViz'\n",
    "if not os.path.exists(scoremapViz_rootdir):\n",
    "    os.makedirs(scoremapViz_rootdir)"
   ]
  },
  {
   "cell_type": "code",
   "execution_count": 4,
   "metadata": {
    "collapsed": true
   },
   "outputs": [],
   "source": [
    "labels_to_detect = ['5N', '7n', '7N', '12N', 'Gr', 'LVe', 'Pn', 'SuVe', 'VLL']"
   ]
  },
  {
   "cell_type": "code",
   "execution_count": null,
   "metadata": {
    "collapsed": true
   },
   "outputs": [],
   "source": [
    "downscale_factor = 8"
   ]
  },
  {
   "cell_type": "code",
   "execution_count": null,
   "metadata": {
    "collapsed": false,
    "scrolled": true
   },
   "outputs": [
    {
     "name": "stdout",
     "output_type": "stream",
     "text": [
      "143\n",
      "5N"
     ]
    },
    {
     "name": "stderr",
     "output_type": "stream",
     "text": [
      "/oasis/projects/nsf/csd181/yuncong/virtualenv-1.9.1/yuncongve/lib/python2.7/site-packages/PIL/Image.py:2224: DecompressionBombWarning: Image size (167180288 pixels) exceeds limit of 89478485 pixels, could be decompression bomb DOS attack.\n",
      "  DecompressionBombWarning)\n",
      "/oasis/projects/nsf/csd181/yuncong/virtualenv-1.9.1/yuncongve/lib/python2.7/site-packages/skimage/util/dtype.py:110: UserWarning: Possible precision loss when converting from float64 to uint8\n",
      "  \"%s to %s\" % (dtypeobj_in, dtypeobj))\n"
     ]
    },
    {
     "name": "stdout",
     "output_type": "stream",
     "text": [
      "\n",
      "7n\n",
      "7N\n",
      "12N\n",
      "Gr\n",
      "LVe\n",
      "Pn\n",
      "SuVe"
     ]
    },
    {
     "name": "stderr",
     "output_type": "stream",
     "text": [
      "No scoremap for 12N for section 143\n",
      "No scoremap for Gr for section 143\n",
      "No scoremap for LVe for section 143\n",
      "No scoremap for SuVe for section 143\n"
     ]
    },
    {
     "name": "stdout",
     "output_type": "stream",
     "text": [
      "\n",
      "VLL\n",
      "144\n",
      "5N\n",
      "7n\n",
      "7N\n",
      "12N\n",
      "Gr\n",
      "LVe\n",
      "Pn\n",
      "SuVe"
     ]
    },
    {
     "name": "stderr",
     "output_type": "stream",
     "text": [
      "No scoremap for 12N for section 144\n",
      "No scoremap for Gr for section 144\n",
      "No scoremap for LVe for section 144\n",
      "No scoremap for SuVe for section 144\n"
     ]
    },
    {
     "name": "stdout",
     "output_type": "stream",
     "text": [
      "\n",
      "VLL\n",
      "145\n",
      "5N\n",
      "7n\n",
      "7N\n",
      "12N\n",
      "Gr\n",
      "LVe\n",
      "Pn\n",
      "SuVe"
     ]
    },
    {
     "name": "stderr",
     "output_type": "stream",
     "text": [
      "No scoremap for 12N for section 145\n",
      "No scoremap for Gr for section 145\n",
      "No scoremap for LVe for section 145\n",
      "No scoremap for SuVe for section 145\n"
     ]
    },
    {
     "name": "stdout",
     "output_type": "stream",
     "text": [
      "\n",
      "VLL\n",
      "146\n",
      "5N\n",
      "7n\n",
      "7N\n",
      "12N\n",
      "Gr\n",
      "LVe\n",
      "Pn\n",
      "SuVe"
     ]
    },
    {
     "name": "stderr",
     "output_type": "stream",
     "text": [
      "No scoremap for 12N for section 146\n",
      "No scoremap for Gr for section 146\n",
      "No scoremap for LVe for section 146\n",
      "No scoremap for SuVe for section 146\n"
     ]
    },
    {
     "name": "stdout",
     "output_type": "stream",
     "text": [
      "\n",
      "VLL\n",
      "147\n",
      "5N\n",
      "7n\n",
      "7N\n",
      "12N\n",
      "Gr\n",
      "LVe\n",
      "Pn\n",
      "SuVe"
     ]
    },
    {
     "name": "stderr",
     "output_type": "stream",
     "text": [
      "No scoremap for Gr for section 147\n",
      "No scoremap for LVe for section 147\n",
      "No scoremap for SuVe for section 147\n"
     ]
    },
    {
     "name": "stdout",
     "output_type": "stream",
     "text": [
      "\n",
      "VLL\n",
      "148\n",
      "5N\n",
      "7n\n",
      "7N\n",
      "12N\n",
      "Gr\n",
      "LVe\n",
      "Pn\n",
      "SuVe"
     ]
    },
    {
     "name": "stderr",
     "output_type": "stream",
     "text": [
      "No scoremap for Gr for section 148\n",
      "No scoremap for LVe for section 148\n",
      "No scoremap for SuVe for section 148\n"
     ]
    },
    {
     "name": "stdout",
     "output_type": "stream",
     "text": [
      "\n",
      "VLL\n",
      "149\n",
      "5N\n",
      "7n\n",
      "7N\n",
      "12N\n",
      "Gr\n",
      "LVe\n",
      "Pn\n",
      "SuVe"
     ]
    },
    {
     "name": "stderr",
     "output_type": "stream",
     "text": [
      "No scoremap for 12N for section 149\n",
      "No scoremap for Gr for section 149\n",
      "No scoremap for LVe for section 149\n",
      "No scoremap for SuVe for section 149\n"
     ]
    },
    {
     "name": "stdout",
     "output_type": "stream",
     "text": [
      "\n",
      "VLL\n",
      "150\n",
      "5N\n",
      "7n\n",
      "7N\n",
      "12N\n",
      "Gr\n",
      "LVe\n",
      "Pn\n",
      "SuVe"
     ]
    },
    {
     "name": "stderr",
     "output_type": "stream",
     "text": [
      "No scoremap for 12N for section 150\n",
      "No scoremap for Gr for section 150\n",
      "No scoremap for SuVe for section 150\n"
     ]
    },
    {
     "name": "stdout",
     "output_type": "stream",
     "text": [
      "\n",
      "VLL\n",
      "151\n",
      "5N\n",
      "7n\n",
      "7N\n",
      "12N\n",
      "Gr\n",
      "LVe\n",
      "Pn\n",
      "SuVe"
     ]
    },
    {
     "name": "stderr",
     "output_type": "stream",
     "text": [
      "No scoremap for Gr for section 151\n",
      "No scoremap for LVe for section 151\n",
      "No scoremap for SuVe for section 151\n"
     ]
    },
    {
     "name": "stdout",
     "output_type": "stream",
     "text": [
      "\n",
      "VLL\n",
      "152\n",
      "5N\n",
      "7n\n",
      "7N\n",
      "12N\n",
      "Gr\n",
      "LVe\n",
      "Pn\n",
      "SuVe"
     ]
    },
    {
     "name": "stderr",
     "output_type": "stream",
     "text": [
      "No scoremap for 12N for section 152\n",
      "No scoremap for Gr for section 152\n",
      "No scoremap for SuVe for section 152\n"
     ]
    },
    {
     "name": "stdout",
     "output_type": "stream",
     "text": [
      "\n",
      "VLL\n",
      "153\n",
      "5N\n",
      "7n\n",
      "7N\n",
      "12N\n",
      "Gr\n",
      "LVe\n",
      "Pn\n",
      "SuVe"
     ]
    },
    {
     "name": "stderr",
     "output_type": "stream",
     "text": [
      "No scoremap for 12N for section 153\n",
      "No scoremap for Gr for section 153\n",
      "No scoremap for SuVe for section 153\n"
     ]
    },
    {
     "name": "stdout",
     "output_type": "stream",
     "text": [
      "\n",
      "VLL\n",
      "154\n",
      "5N\n",
      "7n\n",
      "7N\n",
      "12N\n",
      "Gr\n",
      "LVe\n",
      "Pn\n",
      "SuVe"
     ]
    },
    {
     "name": "stderr",
     "output_type": "stream",
     "text": [
      "No scoremap for 12N for section 154\n",
      "No scoremap for Gr for section 154\n",
      "No scoremap for SuVe for section 154\n"
     ]
    },
    {
     "name": "stdout",
     "output_type": "stream",
     "text": [
      "\n",
      "VLL\n",
      "155\n",
      "5N\n",
      "7n\n",
      "7N\n",
      "12N\n",
      "Gr\n",
      "LVe\n",
      "Pn\n",
      "SuVe"
     ]
    },
    {
     "name": "stderr",
     "output_type": "stream",
     "text": [
      "No scoremap for 12N for section 155\n",
      "No scoremap for Gr for section 155\n",
      "No scoremap for SuVe for section 155\n"
     ]
    },
    {
     "name": "stdout",
     "output_type": "stream",
     "text": [
      "\n",
      "VLL\n",
      "156\n",
      "5N\n",
      "7n\n",
      "7N\n",
      "12N\n",
      "Gr\n",
      "LVe\n",
      "Pn\n",
      "SuVe"
     ]
    },
    {
     "name": "stderr",
     "output_type": "stream",
     "text": [
      "No scoremap for Gr for section 156\n",
      "No scoremap for SuVe for section 156\n"
     ]
    },
    {
     "name": "stdout",
     "output_type": "stream",
     "text": [
      "\n",
      "VLL\n",
      "157\n",
      "5N\n",
      "7n\n",
      "7N\n",
      "12N\n",
      "Gr\n",
      "LVe\n",
      "Pn\n",
      "SuVe"
     ]
    },
    {
     "name": "stderr",
     "output_type": "stream",
     "text": [
      "No scoremap for 12N for section 157\n",
      "No scoremap for Gr for section 157\n",
      "No scoremap for LVe for section 157\n",
      "No scoremap for SuVe for section 157\n"
     ]
    },
    {
     "name": "stdout",
     "output_type": "stream",
     "text": [
      "\n",
      "VLL\n",
      "158\n",
      "5N\n",
      "7n\n",
      "7N\n",
      "12N\n",
      "Gr\n",
      "LVe\n",
      "Pn\n",
      "SuVe"
     ]
    },
    {
     "name": "stderr",
     "output_type": "stream",
     "text": [
      "No scoremap for 12N for section 158\n",
      "No scoremap for Gr for section 158\n",
      "No scoremap for SuVe for section 158\n"
     ]
    },
    {
     "name": "stdout",
     "output_type": "stream",
     "text": [
      "\n",
      "VLL\n",
      "159\n",
      "5N\n",
      "7n\n",
      "7N\n",
      "12N\n",
      "Gr\n",
      "LVe\n",
      "Pn\n",
      "SuVe"
     ]
    },
    {
     "name": "stderr",
     "output_type": "stream",
     "text": [
      "No scoremap for 12N for section 159\n",
      "No scoremap for Gr for section 159\n",
      "No scoremap for SuVe for section 159\n"
     ]
    },
    {
     "name": "stdout",
     "output_type": "stream",
     "text": [
      "\n",
      "VLL\n",
      "160\n",
      "5N\n",
      "7n\n",
      "7N\n",
      "12N\n",
      "Gr\n",
      "LVe\n",
      "Pn\n",
      "SuVe"
     ]
    },
    {
     "name": "stderr",
     "output_type": "stream",
     "text": [
      "No scoremap for Gr for section 160\n",
      "No scoremap for SuVe for section 160\n"
     ]
    },
    {
     "name": "stdout",
     "output_type": "stream",
     "text": [
      "\n",
      "VLL\n",
      "161\n",
      "5N\n",
      "7n\n",
      "7N\n",
      "12N\n",
      "Gr\n",
      "LVe\n",
      "Pn\n",
      "SuVe"
     ]
    },
    {
     "name": "stderr",
     "output_type": "stream",
     "text": [
      "No scoremap for 12N for section 161\n",
      "No scoremap for Gr for section 161\n",
      "No scoremap for SuVe for section 161\n"
     ]
    },
    {
     "name": "stdout",
     "output_type": "stream",
     "text": [
      "\n",
      "VLL\n",
      "162\n",
      "5N\n",
      "7n\n",
      "7N\n",
      "12N\n",
      "Gr\n",
      "LVe\n",
      "Pn\n",
      "SuVe"
     ]
    },
    {
     "name": "stderr",
     "output_type": "stream",
     "text": [
      "No scoremap for 12N for section 162\n",
      "No scoremap for Gr for section 162\n",
      "No scoremap for SuVe for section 162\n"
     ]
    },
    {
     "name": "stdout",
     "output_type": "stream",
     "text": [
      "\n",
      "VLL\n",
      "163\n",
      "5N\n",
      "7n\n",
      "7N\n",
      "12N\n",
      "Gr\n",
      "LVe\n",
      "Pn\n",
      "SuVe"
     ]
    },
    {
     "name": "stderr",
     "output_type": "stream",
     "text": [
      "No scoremap for Gr for section 163\n",
      "No scoremap for SuVe for section 163\n"
     ]
    },
    {
     "name": "stdout",
     "output_type": "stream",
     "text": [
      "\n",
      "VLL\n",
      "164\n",
      "5N\n",
      "7n\n",
      "7N\n",
      "12N\n",
      "Gr\n",
      "LVe\n",
      "Pn\n",
      "SuVe\n",
      "VLL\n",
      "165\n",
      "5N\n",
      "7n\n",
      "7N\n",
      "12N\n",
      "Gr"
     ]
    },
    {
     "name": "stderr",
     "output_type": "stream",
     "text": [
      "No scoremap for Gr for section 164\n",
      "No scoremap for Gr for section 165\n"
     ]
    },
    {
     "name": "stdout",
     "output_type": "stream",
     "text": [
      "\n",
      "LVe\n",
      "Pn\n",
      "SuVe\n",
      "VLL\n",
      "166\n",
      "5N\n",
      "7n\n",
      "7N\n",
      "12N\n",
      "Gr\n",
      "LVe\n",
      "Pn\n",
      "SuVe\n",
      "VLL\n",
      "167\n",
      "5N\n",
      "7n\n",
      "7N\n",
      "12N\n",
      "Gr\n",
      "LVe\n",
      "Pn\n",
      "SuVe\n",
      "VLL\n",
      "168\n",
      "5N\n",
      "7n\n",
      "7N\n",
      "12N\n",
      "Gr\n",
      "LVe\n",
      "Pn\n",
      "SuVe"
     ]
    },
    {
     "name": "stderr",
     "output_type": "stream",
     "text": [
      "No scoremap for SuVe for section 167\n",
      "No scoremap for SuVe for section 168\n"
     ]
    },
    {
     "name": "stdout",
     "output_type": "stream",
     "text": [
      "\n",
      "VLL\n",
      "169\n",
      "5N\n",
      "7n\n",
      "7N\n",
      "12N\n",
      "Gr\n",
      "LVe\n",
      "Pn\n",
      "SuVe"
     ]
    },
    {
     "name": "stderr",
     "output_type": "stream",
     "text": [
      "No scoremap for Gr for section 169\n",
      "No scoremap for SuVe for section 169\n"
     ]
    },
    {
     "name": "stdout",
     "output_type": "stream",
     "text": [
      "\n",
      "VLL\n",
      "170\n",
      "5N\n",
      "7n\n",
      "7N\n",
      "12N\n",
      "Gr\n",
      "LVe\n",
      "Pn\n",
      "SuVe"
     ]
    },
    {
     "name": "stderr",
     "output_type": "stream",
     "text": [
      "No scoremap for 12N for section 170\n",
      "No scoremap for SuVe for section 170\n"
     ]
    },
    {
     "name": "stdout",
     "output_type": "stream",
     "text": [
      "\n",
      "VLL\n",
      "171\n",
      "5N\n",
      "7n\n",
      "7N\n",
      "12N\n",
      "Gr\n",
      "LVe\n",
      "Pn\n",
      "SuVe\n",
      "VLL\n",
      "172\n",
      "5N\n",
      "7n\n",
      "7N\n",
      "12N\n",
      "Gr\n",
      "LVe\n",
      "Pn\n",
      "SuVe"
     ]
    },
    {
     "name": "stderr",
     "output_type": "stream",
     "text": [
      "No scoremap for SuVe for section 171\n",
      "No scoremap for SuVe for section 172\n"
     ]
    },
    {
     "name": "stdout",
     "output_type": "stream",
     "text": [
      "\n",
      "VLL\n",
      "173\n",
      "5N\n",
      "7n\n",
      "7N\n",
      "12N\n",
      "Gr\n",
      "LVe\n",
      "Pn\n",
      "SuVe"
     ]
    },
    {
     "name": "stderr",
     "output_type": "stream",
     "text": [
      "No scoremap for Gr for section 173\n",
      "No scoremap for SuVe for section 173\n"
     ]
    },
    {
     "name": "stdout",
     "output_type": "stream",
     "text": [
      "\n",
      "VLL\n",
      "174\n",
      "5N\n",
      "7n\n",
      "7N\n",
      "12N\n",
      "Gr\n",
      "LVe\n",
      "Pn\n",
      "SuVe"
     ]
    },
    {
     "name": "stderr",
     "output_type": "stream",
     "text": [
      "No scoremap for Gr for section 174\n",
      "No scoremap for LVe for section 174\n",
      "No scoremap for SuVe for section 174\n"
     ]
    },
    {
     "name": "stdout",
     "output_type": "stream",
     "text": [
      "\n",
      "VLL\n",
      "175\n",
      "5N\n",
      "7n\n",
      "7N\n",
      "12N\n",
      "Gr\n",
      "LVe\n",
      "Pn\n",
      "SuVe\n",
      "VLL\n",
      "176\n",
      "5N\n",
      "7n\n",
      "7N\n",
      "12N\n",
      "Gr\n",
      "LVe\n",
      "Pn\n",
      "SuVe\n",
      "VLL\n",
      "177\n",
      "5N\n",
      "7n\n",
      "7N\n",
      "12N"
     ]
    },
    {
     "name": "stderr",
     "output_type": "stream",
     "text": [
      "No scoremap for SuVe for section 175\n",
      "No scoremap for 12N for section 177\n"
     ]
    },
    {
     "name": "stdout",
     "output_type": "stream",
     "text": [
      "\n",
      "Gr\n",
      "LVe\n",
      "Pn\n",
      "SuVe"
     ]
    },
    {
     "name": "stderr",
     "output_type": "stream",
     "text": [
      "No scoremap for Gr for section 177\n",
      "No scoremap for LVe for section 177\n",
      "No scoremap for SuVe for section 177\n"
     ]
    },
    {
     "name": "stdout",
     "output_type": "stream",
     "text": [
      "\n",
      "VLL\n",
      "178\n",
      "5N\n",
      "7n"
     ]
    },
    {
     "name": "stderr",
     "output_type": "stream",
     "text": [
      "No scoremap for 7n for section 210\n",
      "No scoremap for 7n for section 211\n"
     ]
    }
   ],
   "source": [
    "stack = 'MD594'\n",
    "\n",
    "first_detect_sec, last_detect_sec = detect_bbox_range_lookup[stack]\n",
    "\n",
    "\n",
    "for sec in range(first_detect_sec, last_detect_sec + 1):\n",
    "\n",
    "    print sec\n",
    "    \n",
    "    scoremapViz_dir = os.path.join(scoremapViz_rootdir, stack, '%04d'%sec)\n",
    "    if not os.path.exists(scoremapViz_dir):\n",
    "        os.makedirs(scoremapViz_dir)\n",
    "\n",
    "    dm = DataManager(stack=stack, section=sec)\n",
    "    dm._load_image(['rgb-jpg'])\n",
    "\n",
    "    dataset = '%(stack)s_%(sec)04d_roi1' % {'stack': stack, 'sec': sec}\n",
    "\n",
    "    for l in labels_to_detect:\n",
    "        print l\n",
    "        \n",
    "        scoremap_bp_filepath = scoremaps_rootdir + '/%(stack)s/%(slice)04d/%(stack)s_%(slice)04d_roi1_denseScoreMapLossless_%(label)s.bp' \\\n",
    "            % {'stack': stack, 'slice': sec, 'label': l}\n",
    "            \n",
    "        if not os.path.exists(scoremap_bp_filepath):\n",
    "            sys.stderr.write('No scoremap for %s for section %d\\n' % (l, sec))\n",
    "            continue\n",
    "    \n",
    "        dense_score_map_lossless = bp.unpack_ndarray_file(scoremap_bp_filepath)\n",
    "\n",
    "#         dense_score_map_lossless = np.load(os.path.join(scoremaps_rootdir, stack, '%04d'%sec,\n",
    "#                                                         dataset + '_denseScoreMapLossless_%s.npz' % l))['arr_0']\n",
    "        scoremap_viz = plt.cm.hot(dense_score_map_lossless[::downscale_factor, ::downscale_factor])\n",
    "\n",
    "        viz = alpha_blending(scoremap_viz[..., :3], dm.image_rgb_jpg[::downscale_factor, ::downscale_factor], .3, 1.)\n",
    "        \n",
    "        cv2.putText(viz, l, (50, 50), cv2.FONT_HERSHEY_DUPLEX, 2, ((0,0,0)), 3)\n",
    "        \n",
    "        cv2.imwrite(os.path.join(scoremapViz_dir, dataset+'_scoremapViz_%s.jpg' % l), \n",
    "                    img_as_ubyte(viz[..., [2,1,0]]))\n",
    "        "
   ]
  },
  {
   "cell_type": "code",
   "execution_count": null,
   "metadata": {
    "collapsed": true
   },
   "outputs": [],
   "source": []
  }
 ],
 "metadata": {
  "kernelspec": {
   "display_name": "Python 2",
   "language": "python",
   "name": "python2"
  },
  "language_info": {
   "codemirror_mode": {
    "name": "ipython",
    "version": 2
   },
   "file_extension": ".py",
   "mimetype": "text/x-python",
   "name": "python",
   "nbconvert_exporter": "python",
   "pygments_lexer": "ipython2",
   "version": "2.7.3"
  }
 },
 "nbformat": 4,
 "nbformat_minor": 0
}
