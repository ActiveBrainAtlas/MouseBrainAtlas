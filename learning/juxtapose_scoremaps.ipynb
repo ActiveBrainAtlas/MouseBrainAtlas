{
 "cells": [
  {
   "cell_type": "code",
   "execution_count": 1,
   "metadata": {
    "collapsed": false
   },
   "outputs": [
    {
     "name": "stdout",
     "output_type": "stream",
     "text": [
      "Setting environment for Gordon\n"
     ]
    },
    {
     "name": "stderr",
     "output_type": "stream",
     "text": [
      "No vtk\n"
     ]
    }
   ],
   "source": [
    "%load_ext autoreload\n",
    "%autoreload 2\n",
    "\n",
    "import os\n",
    "import sys\n",
    "\n",
    "sys.path.append(os.path.join(os.environ['REPO_DIR'], 'utilities'))\n",
    "from utilities2015 import *\n",
    "from metadata import *\n",
    "from data_manager import *\n",
    "from visualization_utilities import *\n",
    "\n",
    "from multiprocess import Pool\n",
    "import time"
   ]
  },
  {
   "cell_type": "code",
   "execution_count": 2,
   "metadata": {
    "collapsed": true
   },
   "outputs": [],
   "source": [
    "stack = 'MD635'"
   ]
  },
  {
   "cell_type": "code",
   "execution_count": 3,
   "metadata": {
    "collapsed": true
   },
   "outputs": [],
   "source": [
    "setting1 = 2\n",
    "setting2 = 10\n",
    "# descriptive1 = 'Nissl-trained'\n",
    "# descriptive2 = 'NTB-trained'"
   ]
  },
  {
   "cell_type": "code",
   "execution_count": 4,
   "metadata": {
    "collapsed": false
   },
   "outputs": [],
   "source": [
    "first_sec, last_sec = metadata_cache['section_limits'][stack]"
   ]
  },
  {
   "cell_type": "code",
   "execution_count": 5,
   "metadata": {
    "collapsed": false
   },
   "outputs": [
    {
     "name": "stdout",
     "output_type": "stream",
     "text": [
      "'No object named structures in the file'\n"
     ]
    },
    {
     "name": "stderr",
     "output_type": "stream",
     "text": [
      "Annotation has no structures.\n"
     ]
    }
   ],
   "source": [
    "df, _ = DataManager.load_annotation_v3(stack=stack)\n",
    "sections_containing_structure = {structure: set(df[df['name']==structure]['section'].values) for structure in all_known_structures}"
   ]
  },
  {
   "cell_type": "code",
   "execution_count": 12,
   "metadata": {
    "collapsed": false
   },
   "outputs": [
    {
     "name": "stdout",
     "output_type": "stream",
     "text": [
      "5N\n",
      "6N\n",
      "7N\n",
      "7n\n",
      "Amb\n",
      "LC\n",
      "LRt\n",
      "Pn\n",
      "Tz\n",
      "VLL\n",
      "RMC\n",
      "SNC\n",
      "SNR\n",
      "3N\n",
      "4N\n",
      "Sp5I\n",
      "Sp5O\n",
      "Sp5C\n",
      "PBG\n",
      "10N\n",
      "VCA\n",
      "VCP\n",
      "DC\n",
      "AP\n",
      "12N\n",
      "RtTg\n",
      "sp5\n",
      "outerContour\n",
      "SC\n",
      "IC\n"
     ]
    }
   ],
   "source": [
    "for structure in all_known_structures:\n",
    "    \n",
    "    print structure\n",
    "    \n",
    "    if structure in sections_containing_structure:\n",
    "        sections = sections_containing_structure[structure]\n",
    "    else:\n",
    "#         sections = range(first_sec, last_sec + 1)\n",
    "        continue\n",
    "    \n",
    "    for sec in sections:\n",
    "        fn = metadata_cache['sections_to_filenames'][stack][sec]\n",
    "        \n",
    "        try:\n",
    "            viz1 = imread(DataManager.get_scoremap_viz_filepath(stack=stack, section=sec, structure=structure, setting=setting1))\n",
    "            viz2 = imread(DataManager.get_scoremap_viz_filepath(stack=stack, section=sec, structure=structure, setting=setting2))\n",
    "\n",
    "            cv2.putText(viz1, '%d %s %d' % (sec, structure, setting1), (50, 50), cv2.FONT_HERSHEY_DUPLEX, 2, ((0,0,0)), 3)\n",
    "            cv2.putText(viz2, '%d %s %d' % (sec, structure, setting2), (50, 50), cv2.FONT_HERSHEY_DUPLEX, 2, ((0,0,0)), 3)\n",
    "\n",
    "            viz = np.hstack([viz1, viz2])\n",
    "\n",
    "            viz_fp = os.path.join('/home/yuncong/csd395/CSHL_scoremap_viz_juxtaposed', structure, stack, fn + '_setting_%d_vs_setting_%d.jpg' % (setting1, setting2))\n",
    "            create_if_not_exists(os.path.dirname(viz_fp))\n",
    "\n",
    "            imsave(viz_fp, viz)\n",
    "        except:\n",
    "            continue"
   ]
  },
  {
   "cell_type": "code",
   "execution_count": null,
   "metadata": {
    "collapsed": false
   },
   "outputs": [],
   "source": [
    "for sec in range(first_sec, last_sec + 1):\n",
    "    \n",
    "    fn = metadata_cache['sections_to_filenames'][stack][sec]\n",
    "    if is_invalid(fn):\n",
    "        continue\n",
    "        \n",
    "    for structure in all_known_structures:\n",
    "        \n",
    "        try:\n",
    "            viz1 = imread(DataManager.get_scoremap_viz_filepath(stack=stack, section=sec, structure=structure, setting=setting1))\n",
    "            viz2 = imread(DataManager.get_scoremap_viz_filepath(stack=stack, section=sec, structure=structure, setting=setting2))\n",
    "\n",
    "            cv2.putText(viz1, '%d %s %d' % (sec, structure, setting1), (50, 50), cv2.FONT_HERSHEY_DUPLEX, 2, ((0,0,0)), 3)\n",
    "            cv2.putText(viz2, '%d %s %d' % (sec, structure, setting2), (50, 50), cv2.FONT_HERSHEY_DUPLEX, 2, ((0,0,0)), 3)\n",
    "            \n",
    "            viz = np.hstack([viz1, viz2])\n",
    "\n",
    "            viz_fp = os.path.join('/home/yuncong/csd395/CSHL_scoremap_viz_juxtaposed', structure, stack, fn + '_setting_%d_vs_setting_%d.jpg' % (setting1, setting2))\n",
    "            create_if_not_exists(os.path.dirname(viz_fp))\n",
    "\n",
    "            imsave(viz_fp, viz)\n",
    "        except:\n",
    "            continue"
   ]
  }
 ],
 "metadata": {
  "kernelspec": {
   "display_name": "Python 2",
   "language": "python",
   "name": "python2"
  },
  "language_info": {
   "codemirror_mode": {
    "name": "ipython",
    "version": 2
   },
   "file_extension": ".py",
   "mimetype": "text/x-python",
   "name": "python",
   "nbconvert_exporter": "python",
   "pygments_lexer": "ipython2",
   "version": "2.7.3"
  }
 },
 "nbformat": 4,
 "nbformat_minor": 1
}
