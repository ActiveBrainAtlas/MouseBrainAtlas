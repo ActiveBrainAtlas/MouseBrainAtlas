{
 "cells": [
  {
   "cell_type": "code",
   "execution_count": null,
   "metadata": {
    "collapsed": true
   },
   "outputs": [],
   "source": [
    "%reload_ext autoreload\n",
    "%autoreload 2\n",
    "\n",
    "import cv2\n",
    "\n",
    "import os\n",
    "import sys\n",
    "sys.path.append(os.path.join(os.environ['REPO_DIR'], 'utilities'))\n",
    "from utilities2015 import *\n",
    "\n",
    "from collections import defaultdict\n",
    "\n",
    "from matplotlib.path import Path\n",
    "%matplotlib inline\n",
    "\n",
    "import pandas as pd\n",
    "\n",
    "from joblib import Parallel, delayed\n",
    "\n",
    "from scipy.interpolate import RectBivariateSpline\n",
    "from skimage.transform import rescale, resize"
   ]
  },
  {
   "cell_type": "code",
   "execution_count": null,
   "metadata": {
    "collapsed": true
   },
   "outputs": [],
   "source": [
    "stack = 'MD589'\n",
    "# stack = 'MD594'\n",
    "dm = DataManager(stack=stack)\n",
    "\n",
    "label_polygons = pd.read_hdf('/home/yuncong/Brain/database/'+stack+'_label_polygons.h5', 'label_polygons')"
   ]
  },
  {
   "cell_type": "code",
   "execution_count": null,
   "metadata": {
    "collapsed": false
   },
   "outputs": [],
   "source": [
    "labels =  ['BackG', '5N', '7n', '7N', '12N', 'Gr', 'LVe', 'Pn', 'SuVe', 'VLL']\n",
    "\n",
    "other_labels = [l for l in label_polygons.dropna().keys() if l not in labels]\n",
    "\n",
    "# label_dict = dict([(l,i) for i, l in enumerate(labels)])\n",
    "\n",
    "label_dict = dict([(l,i) for i, l in enumerate(labels)] + \\\n",
    "                  zip(other_labels, range(len(labels), len(labels)+len(other_labels))))\n",
    "\n",
    "colors = (np.loadtxt(os.environ['REPO_DIR'] + '/visualization/100colors.txt')*255).astype(np.uint8)\n",
    "colors[label_dict['BackG']] = 255"
   ]
  },
  {
   "cell_type": "code",
   "execution_count": null,
   "metadata": {
    "collapsed": false
   },
   "outputs": [],
   "source": [
    "labelMapLossless_dir = '/oasis/projects/nsf/csd395/yuncong/CSHL_labelMapsLossless/%(stack)s/' % {'stack': stack}\n",
    "if not os.path.exists(labelMapLossless_dir):\n",
    "    os.makedirs(labelMapLossless_dir)"
   ]
  },
  {
   "cell_type": "code",
   "execution_count": null,
   "metadata": {
    "collapsed": false
   },
   "outputs": [],
   "source": [
    "label_polygons"
   ]
  },
  {
   "cell_type": "code",
   "execution_count": null,
   "metadata": {
    "collapsed": true
   },
   "outputs": [],
   "source": [
    "from matplotlib.path import Path\n",
    "from itertools import product"
   ]
  },
  {
   "cell_type": "code",
   "execution_count": null,
   "metadata": {
    "collapsed": false,
    "scrolled": true
   },
   "outputs": [],
   "source": [
    "# only 9 classes\n",
    "for sec in label_polygons.index:\n",
    "    print sec\n",
    "    \n",
    "    available_labels = label_polygons.loc[sec].dropna().index\n",
    "    \n",
    "    valid_labels = set(available_labels) & set(labels)\n",
    "    \n",
    "    if len(valid_labels) == 0:\n",
    "        continue\n",
    "    \n",
    "    label_map = np.zeros((dm.image_height, dm.image_width), np.int8)\n",
    "    for l in valid_labels:\n",
    "        print l\n",
    "        vs = label_polygons[l][sec]\n",
    "        xmin, ymin = np.min(vs, axis=0)\n",
    "        xmax, ymax = np.max(vs, axis=0)\n",
    "                \n",
    "        if xmin > dm.image_width - 1 or ymin > dm.image_height - 1:\n",
    "            print 'min coordinates exceed image boundary'\n",
    "            continue\n",
    "        \n",
    "        xmax = min(xmax, dm.image_width-1)\n",
    "        ymax = min(ymax, dm.image_height-1)\n",
    "        \n",
    "#         import time\n",
    "#         t = time.time()\n",
    "        \n",
    "#         points_to_test = np.array(list(product(range(ymin, ymax+1), range(xmin, xmax+1))))[:,::-1]\n",
    "        xs, ys = np.meshgrid(range(xmin, xmax+1), range(ymin, ymax+1))\n",
    "        points_to_test = np.c_[xs.flat, ys.flat]\n",
    "        \n",
    "#         print time.time() - t\n",
    "        \n",
    "        is_contained = Path(vs).contains_points(points_to_test)\n",
    "        label_map[points_to_test[is_contained, 1], points_to_test[is_contained, 0]] = label_dict[l]\n",
    "    \n",
    "    \n",
    "    bp.pack_ndarray_file(label_map, os.path.join(labelMapLossless_dir, \n",
    "                                     '%(stack)s_%(sec)04d_labelMapLossless.bp' % \\\n",
    "                                    {'stack': stack, 'sec': sec}))\n",
    "\n",
    "#     np.savez_compressed(os.path.join(labelMapLossless_dir, \n",
    "#                                      '%(stack)s_%(sec)04d_labelMapLossless' % \\\n",
    "#                                     {'stack': stack, 'sec': sec}), \n",
    "#                         label_map)"
   ]
  },
  {
   "cell_type": "code",
   "execution_count": null,
   "metadata": {
    "collapsed": false,
    "scrolled": true
   },
   "outputs": [],
   "source": [
    "# all landmarks\n",
    "for sec in label_polygons.index:\n",
    "    \n",
    "    print sec\n",
    "    \n",
    "    available_labels = label_polygons.loc[sec].dropna().index\n",
    "    \n",
    "    valid_labels = set(available_labels)\n",
    "    \n",
    "    if len(valid_labels) == 0:\n",
    "        continue\n",
    "    \n",
    "    label_map = np.zeros((dm.image_height, dm.image_width), np.int8)\n",
    "    for l in valid_labels:\n",
    "        print l\n",
    "        vs = label_polygons[l][sec]\n",
    "        xmin, ymin = np.min(vs, axis=0)\n",
    "        xmax, ymax = np.max(vs, axis=0)\n",
    "        \n",
    "        if xmin > dm.image_width - 1 or ymin > dm.image_height - 1:\n",
    "            print 'min coordinates exceed image boundary'\n",
    "            continue\n",
    "        \n",
    "        xmax = min(xmax, dm.image_width-1)\n",
    "        ymax = min(ymax, dm.image_height-1)\n",
    "        \n",
    "        points_to_test = np.array(list(product(range(ymin, ymax+1), range(xmin, xmax+1))))[:,::-1]\n",
    "        is_contained = Path(vs).contains_points(points_to_test)\n",
    "        \n",
    "        label_map[points_to_test[is_contained, 1], \n",
    "                  points_to_test[is_contained, 0]] = label_dict[l]\n",
    "    \n",
    "    np.savez_compressed(os.path.join(labelMapLossless_dir, \n",
    "                                     '%(stack)s_%(sec)04d_labelMapLossless_AllClasses' % \\\n",
    "                                    {'stack': stack, 'sec': sec}), \n",
    "                        label_map)"
   ]
  }
 ],
 "metadata": {
  "kernelspec": {
   "display_name": "Python 2",
   "language": "python",
   "name": "python2"
  },
  "language_info": {
   "codemirror_mode": {
    "name": "ipython",
    "version": 2
   },
   "file_extension": ".py",
   "mimetype": "text/x-python",
   "name": "python",
   "nbconvert_exporter": "python",
   "pygments_lexer": "ipython2",
   "version": "2.7.3"
  }
 },
 "nbformat": 4,
 "nbformat_minor": 0
}
