{
 "cells": [
  {
   "cell_type": "code",
   "execution_count": 1,
   "metadata": {
    "collapsed": true
   },
   "outputs": [],
   "source": [
    "%load_ext autoreload\n",
    "%autoreload 2\n",
    "\n",
    "import numpy as np\n",
    "\n",
    "import sys\n",
    "import os\n",
    "\n",
    "sys.path.append(os.environ['REPO_DIR'] + '/utilities')\n",
    "from utilities2015 import *\n",
    "\n",
    "import matplotlib.pyplot as plt\n",
    "%matplotlib inline\n",
    "\n",
    "import pandas as pd\n",
    "import mxnet as mx\n",
    "\n",
    "from joblib import Parallel, delayed\n",
    "import time"
   ]
  },
  {
   "cell_type": "code",
   "execution_count": 2,
   "metadata": {
    "collapsed": true
   },
   "outputs": [],
   "source": [
    "scoremaps_rootdir = '/home/yuncong/CSHL_scoremaps_lossless'\n",
    "if not os.path.exists(scoremaps_rootdir):\n",
    "    os.makedirs(scoremaps_rootdir)\n",
    "    \n",
    "predictions_rootdir = '/home/yuncong/CSHL_patch_predictions'\n",
    "if not os.path.exists(predictions_rootdir):\n",
    "    os.makedirs(predictions_rootdir)\n",
    "\n",
    "iterators_rootdir = '/home/yuncong/CSHL_mxnet_iterators'\n",
    "if not os.path.exists(iterators_rootdir):\n",
    "    os.makedirs(iterators_rootdir)"
   ]
  },
  {
   "cell_type": "code",
   "execution_count": 3,
   "metadata": {
    "collapsed": true
   },
   "outputs": [],
   "source": [
    "labels =  ['BackG', '5N', '7n', '7N', '12N', 'Gr', 'LVe', 'Pn', 'SuVe', 'VLL']\n",
    "label_dict = dict([(l,i) for i, l in enumerate(labels)])\n",
    "\n",
    "# label_dict = dict([(l,i) for i, l in enumerate(labels)] + \\\n",
    "#                   zip(other_labels, range(len(labels), len(labels)+len(other_labels))))"
   ]
  },
  {
   "cell_type": "code",
   "execution_count": 5,
   "metadata": {
    "collapsed": true
   },
   "outputs": [],
   "source": [
    "stack = 'MD594'\n",
    "first_bs_sec, last_bs_sec = section_range_lookup[stack]"
   ]
  },
  {
   "cell_type": "code",
   "execution_count": null,
   "metadata": {
    "collapsed": true
   },
   "outputs": [],
   "source": [
    "n_labels = len(labels)\n",
    "M = np.zeros((n_labels, n_labels), np.int)\n",
    "M_soft = np.zeros((n_labels, n_labels))"
   ]
  },
  {
   "cell_type": "code",
   "execution_count": 171,
   "metadata": {
    "collapsed": false,
    "scrolled": true
   },
   "outputs": [
    {
     "name": "stdout",
     "output_type": "stream",
     "text": [
      "150\n",
      "151\n",
      "152\n",
      "153\n",
      "154\n",
      "155\n",
      "156\n",
      "157\n",
      "158\n",
      "159\n",
      "160\n",
      "161\n",
      "162\n",
      "163\n",
      "164\n",
      "165\n",
      "166\n",
      "167\n",
      "168\n",
      "169\n",
      "170\n",
      "171\n",
      "172\n",
      "173\n",
      "174\n",
      "175\n",
      "176\n",
      "177\n",
      "178\n",
      "179\n",
      "180\n",
      "181\n",
      "182\n",
      "183\n",
      "184\n",
      "185\n",
      "186\n",
      "187\n",
      "188\n",
      "189\n",
      "190\n",
      "191\n",
      "192\n",
      "193\n",
      "194\n",
      "195\n",
      "196\n",
      "197\n",
      "198\n",
      "199\n",
      "266\n",
      "267\n",
      "268\n",
      "269\n",
      "270\n",
      "271\n",
      "272\n",
      "273\n",
      "274\n",
      "275\n",
      "276\n",
      "277\n",
      "278\n",
      "279\n",
      "280\n",
      "281\n",
      "282\n",
      "283\n",
      "284\n",
      "285\n",
      "286\n",
      "287\n",
      "288\n",
      "289\n",
      "290\n",
      "291\n",
      "292\n",
      "293\n",
      "294\n",
      "295\n",
      "296\n",
      "297\n",
      "298\n",
      "299\n",
      "300\n",
      "301\n",
      "302\n",
      "303\n"
     ]
    }
   ],
   "source": [
    "for sec in range(first_bs_sec, last_bs_sec+1):\n",
    "\n",
    "    lst_filepath = iterators_rootdir + '/%(stack)s/%(sec)04d/%(stack)s_%(sec)04d_roi1_test.lst' % \\\n",
    "            {'stack':stack, 'sec': sec}\n",
    "    \n",
    "    if not os.path.exists(lst_filepath):\n",
    "        continue\n",
    "    \n",
    "    with open(lst_filepath, 'r') as f:\n",
    "        true_labels = np.array([int(l.split('\\t')[1]) for l in f.readlines()])\n",
    "\n",
    "    prediction_filepath = predictions_rootdir + '/%(stack)s/%(sec)04d/%(stack)s_%(sec)04d_roi1_predictions.npy' % \\\n",
    "            {'stack':stack, 'sec': sec}\n",
    "\n",
    "    if not os.path.exists(prediction_filepath):\n",
    "        continue\n",
    "\n",
    "    print sec\n",
    "\n",
    "    predictions = np.load(prediction_filepath)\n",
    "    predictions = predictions[:, [-1] + range(0,9)]  # to be backward compatible with previous label order in which BackG is at the end\n",
    "\n",
    "#     n = len(true_labels)\n",
    "\n",
    "    hard_predictions = np.argmax(predictions, axis=1)\n",
    "    #     has_labels = np.where(true_labels != -1)[0]\n",
    "\n",
    "    for hp, tl in zip(hard_predictions, true_labels):\n",
    "        if tl == -1: continue\n",
    "        M[tl, hp] += 1\n",
    "\n",
    "    for probs, tl in zip(predictions, true_labels):\n",
    "        if tl == -1: continue\n",
    "        M_soft[tl] += probs"
   ]
  },
  {
   "cell_type": "code",
   "execution_count": 163,
   "metadata": {
    "collapsed": false
   },
   "outputs": [],
   "source": [
    "n_labels = len(labels)\n",
    "M = np.zeros((n_labels, n_labels), np.int)\n",
    "for hp, tl in zip(hard_predictions, true_labels):\n",
    "    if tl == -1: continue\n",
    "    M[tl, hp] += 1\n",
    "    \n",
    "M_soft = np.zeros((n_labels, n_labels))\n",
    "for probs, tl in zip(predictions, true_labels):\n",
    "    if tl == -1: continue\n",
    "    M_soft[tl] += probs"
   ]
  },
  {
   "cell_type": "code",
   "execution_count": 193,
   "metadata": {
    "collapsed": false
   },
   "outputs": [],
   "source": [
    "def plot_confusion_matrix(cm, labels, title='Confusion matrix', cmap=plt.cm.Blues):\n",
    "    plt.figure(figsize=(6, 6))\n",
    "    plt.imshow(cm, interpolation='nearest', cmap=cmap)\n",
    "    plt.title(title)\n",
    "    plt.colorbar()\n",
    "    tick_marks = np.arange(len(labels))\n",
    "    plt.xticks(tick_marks, labels, rotation=45)\n",
    "    plt.yticks(tick_marks, labels)\n",
    "    plt.tight_layout()\n",
    "    plt.ylabel('True label')\n",
    "    plt.xlabel('Predicted label')\n",
    "    \n",
    "    if cm.dtype.type is np.int_:\n",
    "        fmt = '%d'\n",
    "    else:\n",
    "        fmt = '%.2f'\n",
    "    \n",
    "    for x in xrange(len(labels)):\n",
    "        for y in xrange(len(labels)):\n",
    "            if not np.isnan(cm[y,x]):\n",
    "                plt.text(x,y, fmt % cm[y,x], \n",
    "                         horizontalalignment='center',\n",
    "                         verticalalignment='center');"
   ]
  },
  {
   "cell_type": "code",
   "execution_count": 192,
   "metadata": {
    "collapsed": false
   },
   "outputs": [
    {
     "data": {
      "image/png": "[encoded data removed]",
      "text/plain": [
       "<matplotlib.figure.Figure at 0x7fd2be005990>"
      ]
     },
     "metadata": {},
     "output_type": "display_data"
    }
   ],
   "source": [
    "# plot_confusion_matrix(M, title='Confusion matrix for test brain MD594', labels=labels);\n",
    "\n",
    "cm_normalized = M.astype(np.float)/M.sum(axis=1)[:, np.newaxis]\n",
    "plot_confusion_matrix(cm_normalized, title='Confusion matrix for test brain MD594', labels=labels);\n",
    "\n",
    "# cm_soft_normalized = M_soft.astype(np.float)/M_soft.sum(axis=1)[:, np.newaxis]\n",
    "# plot_confusion_matrix(cm_soft_normalized, title='soft Confusion matrix for test brain MD594', labels=labels);"
   ]
  }
 ],
 "metadata": {
  "kernelspec": {
   "display_name": "Python 2",
   "language": "python",
   "name": "python2"
  },
  "language_info": {
   "codemirror_mode": {
    "name": "ipython",
    "version": 2
   },
   "file_extension": ".py",
   "mimetype": "text/x-python",
   "name": "python",
   "nbconvert_exporter": "python",
   "pygments_lexer": "ipython2",
   "version": "2.7.6"
  }
 },
 "nbformat": 4,
 "nbformat_minor": 0
}
