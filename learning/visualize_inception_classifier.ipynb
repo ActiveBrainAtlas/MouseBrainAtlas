{
 "cells": [
  {
   "cell_type": "code",
   "execution_count": 1,
   "metadata": {
    "collapsed": true
   },
   "outputs": [],
   "source": [
    "%reload_ext autoreload\n",
    "%autoreload 2\n",
    "\n",
    "import cv2\n",
    "\n",
    "import os\n",
    "import sys\n",
    "sys.path.append(os.path.join(os.environ['REPO_DIR'], 'utilities'))\n",
    "from utilities2015 import *\n",
    "\n",
    "from collections import defaultdict\n",
    "\n",
    "from matplotlib.path import Path\n",
    "%matplotlib inline\n",
    "\n",
    "import pandas as pd\n",
    "\n",
    "from joblib import Parallel, delayed\n",
    "\n",
    "from scipy.interpolate import RectBivariateSpline\n",
    "from skimage.transform import rescale, resize"
   ]
  },
  {
   "cell_type": "code",
   "execution_count": 2,
   "metadata": {
    "collapsed": false
   },
   "outputs": [],
   "source": [
    "labels =  ['BackG', '5N', '7n', '7N', '12N', 'Gr', 'LVe', 'Pn', 'SuVe', 'VLL']\n",
    "label_dict = dict([(l,i) for i, l in enumerate(labels)])\n",
    "\n",
    "colors = (np.loadtxt(os.environ['REPO_DIR'] + '/visualization/100colors.txt')*255).astype(np.uint8)\n",
    "colors[label_dict['BackG']] = 255"
   ]
  },
  {
   "cell_type": "code",
   "execution_count": 3,
   "metadata": {
    "collapsed": false
   },
   "outputs": [],
   "source": [
    "stack = 'MD589'\n",
    "# stack = 'MD594'\n",
    "dm = DataManager(stack=stack, load_mask=False)"
   ]
  },
  {
   "cell_type": "code",
   "execution_count": 4,
   "metadata": {
    "collapsed": true
   },
   "outputs": [],
   "source": [
    "patch_dir = '/oasis/projects/nsf/csd395/yuncong/CSHL_data_patches/'\n",
    "table_filepath = os.path.join(patch_dir, '%(stack)s_indices_allROIs_allSections.h5'%{'stack':stack})\n",
    "indices_allROIs_allSections = pd.read_hdf(table_filepath, 'indices_allROIs_allSections')\n",
    "grid_parameters = pd.read_hdf(table_filepath, 'grid_parameters')"
   ]
  },
  {
   "cell_type": "code",
   "execution_count": 5,
   "metadata": {
    "collapsed": false
   },
   "outputs": [
    {
     "name": "stdout",
     "output_type": "stream",
     "text": [
      "patch_size 224\n",
      "stride 56\n",
      "w, h 13408 11744\n"
     ]
    }
   ],
   "source": [
    "patch_size, stride, w, h = grid_parameters.tolist()\n",
    "\n",
    "print 'patch_size', patch_size\n",
    "print 'stride', stride\n",
    "print 'w, h', w, h\n",
    "\n",
    "half_size = patch_size/2\n",
    "ys, xs = np.meshgrid(np.arange(half_size, h-half_size, stride), np.arange(half_size, w-half_size, stride),\n",
    "                     indexing='xy')\n",
    "sample_locations = np.c_[xs.flat, ys.flat]"
   ]
  },
  {
   "cell_type": "code",
   "execution_count": 6,
   "metadata": {
    "collapsed": false
   },
   "outputs": [
    {
     "data": {
      "text/html": [
       "<div>\n",
       "<table border=\"1\" class=\"dataframe\">\n",
       "  <thead>\n",
       "    <tr style=\"text-align: right;\">\n",
       "      <th></th>\n",
       "      <th>154</th>\n",
       "      <th>155</th>\n",
       "      <th>156</th>\n",
       "      <th>157</th>\n",
       "      <th>158</th>\n",
       "      <th>159</th>\n",
       "      <th>160</th>\n",
       "      <th>161</th>\n",
       "      <th>162</th>\n",
       "      <th>163</th>\n",
       "      <th>164</th>\n",
       "      <th>165</th>\n",
       "      <th>166</th>\n",
       "      <th>167</th>\n",
       "      <th>168</th>\n",
       "    </tr>\n",
       "  </thead>\n",
       "  <tbody>\n",
       "    <tr>\n",
       "      <th>roi1</th>\n",
       "      <td>[4197, 4198, 4199, 4200, 4201, 4202, 4203, 420...</td>\n",
       "      <td>[4197, 4198, 4199, 4200, 4201, 4202, 4203, 420...</td>\n",
       "      <td>[4197, 4198, 4199, 4200, 4201, 4202, 4203, 420...</td>\n",
       "      <td>[4197, 4198, 4199, 4200, 4201, 4202, 4203, 420...</td>\n",
       "      <td>[4197, 4198, 4199, 4200, 4201, 4202, 4203, 420...</td>\n",
       "      <td>[4197, 4198, 4199, 4200, 4201, 4202, 4203, 420...</td>\n",
       "      <td>[4197, 4198, 4199, 4200, 4201, 4202, 4203, 420...</td>\n",
       "      <td>[4197, 4198, 4199, 4200, 4201, 4202, 4203, 420...</td>\n",
       "      <td>[4197, 4198, 4199, 4200, 4201, 4202, 4203, 420...</td>\n",
       "      <td>[4197, 4198, 4199, 4200, 4201, 4202, 4203, 420...</td>\n",
       "      <td>[4197, 4198, 4199, 4200, 4201, 4202, 4203, 420...</td>\n",
       "      <td>[4197, 4198, 4199, 4200, 4201, 4202, 4203, 420...</td>\n",
       "      <td>[4197, 4198, 4199, 4200, 4201, 4202, 4203, 420...</td>\n",
       "      <td>[4197, 4198, 4199, 4200, 4201, 4202, 4203, 420...</td>\n",
       "      <td>[4197, 4198, 4199, 4200, 4201, 4202, 4203, 420...</td>\n",
       "    </tr>\n",
       "  </tbody>\n",
       "</table>\n",
       "</div>"
      ],
      "text/plain": [
       "                                                    154  \\\n",
       "roi1  [4197, 4198, 4199, 4200, 4201, 4202, 4203, 420...   \n",
       "\n",
       "                                                    155  \\\n",
       "roi1  [4197, 4198, 4199, 4200, 4201, 4202, 4203, 420...   \n",
       "\n",
       "                                                    156  \\\n",
       "roi1  [4197, 4198, 4199, 4200, 4201, 4202, 4203, 420...   \n",
       "\n",
       "                                                    157  \\\n",
       "roi1  [4197, 4198, 4199, 4200, 4201, 4202, 4203, 420...   \n",
       "\n",
       "                                                    158  \\\n",
       "roi1  [4197, 4198, 4199, 4200, 4201, 4202, 4203, 420...   \n",
       "\n",
       "                                                    159  \\\n",
       "roi1  [4197, 4198, 4199, 4200, 4201, 4202, 4203, 420...   \n",
       "\n",
       "                                                    160  \\\n",
       "roi1  [4197, 4198, 4199, 4200, 4201, 4202, 4203, 420...   \n",
       "\n",
       "                                                    161  \\\n",
       "roi1  [4197, 4198, 4199, 4200, 4201, 4202, 4203, 420...   \n",
       "\n",
       "                                                    162  \\\n",
       "roi1  [4197, 4198, 4199, 4200, 4201, 4202, 4203, 420...   \n",
       "\n",
       "                                                    163  \\\n",
       "roi1  [4197, 4198, 4199, 4200, 4201, 4202, 4203, 420...   \n",
       "\n",
       "                                                    164  \\\n",
       "roi1  [4197, 4198, 4199, 4200, 4201, 4202, 4203, 420...   \n",
       "\n",
       "                                                    165  \\\n",
       "roi1  [4197, 4198, 4199, 4200, 4201, 4202, 4203, 420...   \n",
       "\n",
       "                                                    166  \\\n",
       "roi1  [4197, 4198, 4199, 4200, 4201, 4202, 4203, 420...   \n",
       "\n",
       "                                                    167  \\\n",
       "roi1  [4197, 4198, 4199, 4200, 4201, 4202, 4203, 420...   \n",
       "\n",
       "                                                    168  \n",
       "roi1  [4197, 4198, 4199, 4200, 4201, 4202, 4203, 420...  "
      ]
     },
     "execution_count": 6,
     "metadata": {},
     "output_type": "execute_result"
    }
   ],
   "source": [
    "indices_allROIs_allSections"
   ]
  },
  {
   "cell_type": "code",
   "execution_count": 11,
   "metadata": {
    "collapsed": false
   },
   "outputs": [],
   "source": [
    "# prectionMap_dir = os.path.join(patch_dir, stack+'_roi1_predictionMaps_old')\n",
    "# vizOverlaid_output_dir = os.path.join(patch_dir, stack+'_densePredictionMapOverlaid_old')\n",
    "\n",
    "prectionMap_dir = os.path.join(patch_dir, stack+'_roi1_predictionMaps')\n",
    "vizOverlaid_output_dir = os.path.join(patch_dir, stack+'_densePredictionMapOverlaid')\n",
    "\n",
    "if not os.path.exists(vizOverlaid_output_dir):\n",
    "    os.makedirs(vizOverlaid_output_dir)"
   ]
  },
  {
   "cell_type": "code",
   "execution_count": 13,
   "metadata": {
    "collapsed": true
   },
   "outputs": [],
   "source": [
    "densePrectionMapLossless_dir = os.path.join(patch_dir, stack+'_roi1_densePredictionMapsLossless')\n",
    "if not os.path.exists(densePrectionMapLossless_dir):\n",
    "    os.makedirs(densePrectionMapLossless_dir)\n",
    "    \n",
    "denseScoreMapLossless_dir = os.path.join(patch_dir, stack+'_roi1_denseScoreMapsLossless')\n",
    "if not os.path.exists(denseScoreMapLossless_dir):\n",
    "    os.makedirs(denseScoreMapLossless_dir)"
   ]
  },
  {
   "cell_type": "code",
   "execution_count": 7,
   "metadata": {
    "collapsed": true
   },
   "outputs": [],
   "source": [
    "# vizOverlaid_output_dir = os.path.join(patch_dir, stack+'_densePredictionMapOverlaid_spm')\n",
    "# if not os.path.exists(vizOverlaid_output_dir):\n",
    "#     os.makedirs(vizOverlaid_output_dir)\n",
    "\n",
    "# densePrectionMapLossless_dir = os.path.join(patch_dir, stack+'_roi1_densePredictionMapsLossless_spm')\n",
    "# if not os.path.exists(densePrectionMapLossless_dir):\n",
    "#     os.makedirs(densePrectionMapLossless_dir)"
   ]
  },
  {
   "cell_type": "code",
   "execution_count": 16,
   "metadata": {
    "collapsed": false,
    "scrolled": false
   },
   "outputs": [
    {
     "name": "stdout",
     "output_type": "stream",
     "text": [
      "161\n",
      "20904 samples\n",
      "284.300709009\n"
     ]
    },
    {
     "ename": "MemoryError",
     "evalue": "",
     "output_type": "error",
     "traceback": [
      "\u001b[1;31m---------------------------------------------------------------------------\u001b[0m",
      "\u001b[1;31mMemoryError\u001b[0m                               Traceback (most recent call last)",
      "\u001b[1;32m<ipython-input-16-b8a8b1f9061e>\u001b[0m in \u001b[0;36m<module>\u001b[1;34m()\u001b[0m\n\u001b[0;32m     98\u001b[0m                                        \u001b[1;33m(\u001b[0m\u001b[0minterpolation_ymin\u001b[0m\u001b[1;33m,\u001b[0m \u001b[0mh\u001b[0m\u001b[1;33m-\u001b[0m\u001b[0minterpolation_ymax\u001b[0m\u001b[1;33m-\u001b[0m\u001b[1;36m1\u001b[0m\u001b[1;33m)\u001b[0m\u001b[1;33m,\u001b[0m\u001b[1;33m\u001b[0m\u001b[0m\n\u001b[0;32m     99\u001b[0m                                        (interpolation_xmin, w-interpolation_xmax-1)),\n\u001b[1;32m--> 100\u001b[1;33m                                       mode='constant', constant_values=0)\n\u001b[0m\u001b[0;32m    101\u001b[0m \u001b[1;33m\u001b[0m\u001b[0m\n\u001b[0;32m    102\u001b[0m     np.savez_compressed(os.path.join(denseScoreMapLossless_dir, dataset+'_denseScoreMapLossless'), \n",
      "\u001b[1;32m/oasis/projects/nsf/csd181/yuncong/virtualenv-1.9.1/yuncongve/lib/python2.7/site-packages/numpy/lib/arraypad.pyc\u001b[0m in \u001b[0;36mpad\u001b[1;34m(array, pad_width, mode, **kwargs)\u001b[0m\n\u001b[0;32m   1394\u001b[0m         \u001b[1;32mfor\u001b[0m \u001b[0maxis\u001b[0m\u001b[1;33m,\u001b[0m \u001b[1;33m(\u001b[0m\u001b[1;33m(\u001b[0m\u001b[0mpad_before\u001b[0m\u001b[1;33m,\u001b[0m \u001b[0mpad_after\u001b[0m\u001b[1;33m)\u001b[0m\u001b[1;33m,\u001b[0m \u001b[1;33m(\u001b[0m\u001b[0mbefore_val\u001b[0m\u001b[1;33m,\u001b[0m \u001b[0mafter_val\u001b[0m\u001b[1;33m)\u001b[0m\u001b[1;33m)\u001b[0m\u001b[0;31m \u001b[0m\u001b[0;31m\\\u001b[0m\u001b[1;33m\u001b[0m\u001b[0m\n\u001b[0;32m   1395\u001b[0m                 \u001b[1;32min\u001b[0m \u001b[0menumerate\u001b[0m\u001b[1;33m(\u001b[0m\u001b[0mzip\u001b[0m\u001b[1;33m(\u001b[0m\u001b[0mpad_width\u001b[0m\u001b[1;33m,\u001b[0m \u001b[0mkwargs\u001b[0m\u001b[1;33m[\u001b[0m\u001b[1;34m'constant_values'\u001b[0m\u001b[1;33m]\u001b[0m\u001b[1;33m)\u001b[0m\u001b[1;33m)\u001b[0m\u001b[1;33m:\u001b[0m\u001b[1;33m\u001b[0m\u001b[0m\n\u001b[1;32m-> 1396\u001b[1;33m             \u001b[0mnewmat\u001b[0m \u001b[1;33m=\u001b[0m \u001b[0m_prepend_const\u001b[0m\u001b[1;33m(\u001b[0m\u001b[0mnewmat\u001b[0m\u001b[1;33m,\u001b[0m \u001b[0mpad_before\u001b[0m\u001b[1;33m,\u001b[0m \u001b[0mbefore_val\u001b[0m\u001b[1;33m,\u001b[0m \u001b[0maxis\u001b[0m\u001b[1;33m)\u001b[0m\u001b[1;33m\u001b[0m\u001b[0m\n\u001b[0m\u001b[0;32m   1397\u001b[0m             \u001b[0mnewmat\u001b[0m \u001b[1;33m=\u001b[0m \u001b[0m_append_const\u001b[0m\u001b[1;33m(\u001b[0m\u001b[0mnewmat\u001b[0m\u001b[1;33m,\u001b[0m \u001b[0mpad_after\u001b[0m\u001b[1;33m,\u001b[0m \u001b[0mafter_val\u001b[0m\u001b[1;33m,\u001b[0m \u001b[0maxis\u001b[0m\u001b[1;33m)\u001b[0m\u001b[1;33m\u001b[0m\u001b[0m\n\u001b[0;32m   1398\u001b[0m \u001b[1;33m\u001b[0m\u001b[0m\n",
      "\u001b[1;32m/oasis/projects/nsf/csd181/yuncong/virtualenv-1.9.1/yuncongve/lib/python2.7/site-packages/numpy/lib/arraypad.pyc\u001b[0m in \u001b[0;36m_prepend_const\u001b[1;34m(arr, pad_amt, val, axis)\u001b[0m\n\u001b[0;32m    103\u001b[0m     \u001b[1;32mif\u001b[0m \u001b[0mval\u001b[0m \u001b[1;33m==\u001b[0m \u001b[1;36m0\u001b[0m\u001b[1;33m:\u001b[0m\u001b[1;33m\u001b[0m\u001b[0m\n\u001b[0;32m    104\u001b[0m         return np.concatenate((np.zeros(padshape, dtype=arr.dtype), arr),\n\u001b[1;32m--> 105\u001b[1;33m                               axis=axis)\n\u001b[0m\u001b[0;32m    106\u001b[0m     \u001b[1;32melse\u001b[0m\u001b[1;33m:\u001b[0m\u001b[1;33m\u001b[0m\u001b[0m\n\u001b[0;32m    107\u001b[0m         return np.concatenate(((np.zeros(padshape) + val).astype(arr.dtype),\n",
      "\u001b[1;31mMemoryError\u001b[0m: "
     ]
    }
   ],
   "source": [
    "# for sec in indices_allROIs_allSections.keys():\n",
    "for sec in [161]:\n",
    "    \n",
    "    print sec\n",
    "\n",
    "    dataset = '%(stack)s_%(sec)04d_roi1' % {'stack': stack, 'sec': sec}\n",
    "#     cv2.imwrite(os.path.join(patch_dir, dataset + '.jpg'), viz[..., ::-1])\n",
    "    \n",
    "    indices_roi = indices_allROIs_allSections[sec]['roi1']\n",
    "    sample_locations_roi = sample_locations[indices_roi]\n",
    "    \n",
    "    interpolation_xmin, interpolation_ymin = sample_locations_roi.min(axis=0)\n",
    "    interpolation_xmax, interpolation_ymax = sample_locations_roi.max(axis=0)\n",
    "    interpolation_w = interpolation_xmax - interpolation_xmin + 1\n",
    "    interpolation_h = interpolation_ymax - interpolation_ymin + 1\n",
    "    \n",
    "    print sample_locations_roi.shape[0], 'samples'\n",
    "    \n",
    "    probs = np.load(os.path.join(prectionMap_dir, '%(dataset)s_test_prediction_map.npy' % {'dataset': dataset}))\n",
    "    preds = np.argmax(probs, axis=1).astype(np.int)\n",
    "    \n",
    "#     with open('/oasis/projects/nsf/csd395/ruogu/svm4/result/589/0161.txt', 'r') as f:\n",
    "#         preds = np.array([int(pred) for fn, pred in sorted([l.split() for l in f.readlines()])])\n",
    "#     probs = np.zeros((len(preds), len(labels)))\n",
    "#     probs[range(len(preds)), preds] = 1\n",
    "    \n",
    "    ##### sample_locations_roi + scores to dense_score_map #####\n",
    "    \n",
    "    shrink_factor = 4\n",
    "    \n",
    "    sample_locations_unique_xs = np.unique(sample_locations_roi[:,0])\n",
    "    sample_locations_unique_ys = np.unique(sample_locations_roi[:,1])\n",
    "    \n",
    "    n_sample_x = sample_locations_unique_xs.size\n",
    "    n_sample_y = sample_locations_unique_ys.size\n",
    "    \n",
    "    index_x = dict([(j,i) for i,j in enumerate(sample_locations_unique_xs)])\n",
    "    index_y = dict([(j,i) for i,j in enumerate(sample_locations_unique_ys)])\n",
    "    sample_location_indices = np.asarray([(index_x[x], index_y[y]) for x, y in sample_locations_roi])\n",
    "    \n",
    "    sample_locations_interpolatedArea_ys_matrix, \\\n",
    "    sample_locations_interpolatedArea_xs_matrix = np.meshgrid(range(interpolation_ymin/shrink_factor, \n",
    "                                                                    interpolation_ymax/shrink_factor), \n",
    "                                                              range(interpolation_xmin/shrink_factor, \n",
    "                                                                    interpolation_xmax/shrink_factor), \n",
    "                                                              indexing='ij')\n",
    "\n",
    "    def generate_score_map(l):\n",
    "\n",
    "        score_matrix = np.zeros((n_sample_x, n_sample_y))\n",
    "        score_matrix[sample_location_indices[:,0], sample_location_indices[:,1]] = probs[:,l]\n",
    "\n",
    "        spline = RectBivariateSpline(sample_locations_unique_xs/shrink_factor, \n",
    "                                     sample_locations_unique_ys/shrink_factor, \n",
    "                                     score_matrix, \n",
    "                                     bbox=[interpolation_xmin/shrink_factor, \n",
    "                                           interpolation_xmax/shrink_factor, \n",
    "                                           interpolation_ymin/shrink_factor, \n",
    "                                           interpolation_ymax/shrink_factor])\n",
    "\n",
    "        dense_score_map = spline.ev(sample_locations_interpolatedArea_xs_matrix, sample_locations_interpolatedArea_ys_matrix)\n",
    "        \n",
    "        dense_score_map = resize(dense_score_map, (interpolation_h, interpolation_w))\n",
    "\n",
    "        return dense_score_map\n",
    "\n",
    "\n",
    "    import time\n",
    "    t = time.time()\n",
    "\n",
    "    dense_score_maps = Parallel(n_jobs=12)(delayed(generate_score_map)(l) for l in range(10))\n",
    "\n",
    "    print time.time() - t\n",
    "    \n",
    "    dense_sorted_score_map = np.sort(dense_score_maps, axis=0)\n",
    "    dense_top_score_map = dense_sorted_score_map[-1]\n",
    "    dense_second_score_map = dense_sorted_score_map[-2]\n",
    "\n",
    "    dense_prediction_map = np.argsort(dense_score_maps, axis=0)\n",
    "    dense_top_prediction_map = dense_prediction_map[-1]\n",
    "#     dense_second_prediction_map = dense_prediction_map[-2]\n",
    "    \n",
    "    margin = .2\n",
    "#     margin = .01\n",
    "    \n",
    "    dense_top_prediction_map[dense_top_score_map - dense_second_score_map < margin] = label_dict['BackG']\n",
    "\n",
    "    dense_top_prediction_map_lossless = np.pad(dense_top_prediction_map, \n",
    "                               ((interpolation_ymin, h-interpolation_ymax-1), (interpolation_xmin, w-interpolation_xmax-1)),\n",
    "                                       mode='constant', constant_values=label_dict['BackG'])\n",
    "    \n",
    "    np.savez_compressed(os.path.join(densePrectionMapLossless_dir, \n",
    "                                     dataset+'_denseTopPredictionMapLossless_margin%.2f'%margin), \n",
    "                        dense_top_prediction_map_lossless)\n",
    "    \n",
    "\n",
    "    dense_score_map_lossless = np.pad(dense_sorted_score_map, \n",
    "                                      ((0,0),\n",
    "                                       (interpolation_ymin, h-interpolation_ymax-1), \n",
    "                                       (interpolation_xmin, w-interpolation_xmax-1)),\n",
    "                                      mode='constant', constant_values=0)\n",
    "\n",
    "    np.savez_compressed(os.path.join(denseScoreMapLossless_dir, dataset+'_denseScoreMapLossless'), \n",
    "                    dense_score_map_lossless)\n",
    "\n",
    "    \n",
    "#     for i, m in enumerate(dense_sorted_score_map):\n",
    "#         dense_score_map_lossless = np.pad(m, ((interpolation_ymin, h-interpolation_ymax-1), \n",
    "#                                               (interpolation_xmin, w-interpolation_xmax-1)),\n",
    "#                                           mode='constant', constant_values=0)\n",
    "        \n",
    "#         np.savez_compressed(os.path.join(denseScoreMapLossless_dir, dataset+'_denseScoreMapLossless_%d'%i), \n",
    "#                             dense_score_map_lossless)\n"
   ]
  },
  {
   "cell_type": "code",
   "execution_count": 15,
   "metadata": {
    "collapsed": false
   },
   "outputs": [
    {
     "data": {
      "text/plain": [
       "(10, 7001, 11313)"
      ]
     },
     "execution_count": 15,
     "metadata": {},
     "output_type": "execute_result"
    }
   ],
   "source": [
    "dense_sorted_score_map.shape"
   ]
  },
  {
   "cell_type": "code",
   "execution_count": 9,
   "metadata": {
    "collapsed": false,
    "scrolled": true
   },
   "outputs": [],
   "source": [
    "label_polygons = pd.read_hdf('/home/yuncong/Brain/database/'+stack+'_label_polygons.h5', 'label_polygons')"
   ]
  },
  {
   "cell_type": "code",
   "execution_count": 10,
   "metadata": {
    "collapsed": false
   },
   "outputs": [
    {
     "name": "stderr",
     "output_type": "stream",
     "text": [
      "/oasis/projects/nsf/csd181/yuncong/virtualenv-1.9.1/yuncongve/lib/python2.7/site-packages/PIL/Image.py:2224: DecompressionBombWarning: Image size (157463552 pixels) exceeds limit of 89478485 pixels, could be decompression bomb DOS attack.\n",
      "  DecompressionBombWarning)\n",
      "/oasis/projects/nsf/csd181/yuncong/virtualenv-1.9.1/yuncongve/lib/python2.7/site-packages/skimage/util/dtype.py:111: UserWarning: Possible precision loss when converting from float64 to uint8\n",
      "  \"%s to %s\" % (dtypeobj_in, dtypeobj))\n"
     ]
    },
    {
     "name": "stdout",
     "output_type": "stream",
     "text": [
      "161\n"
     ]
    }
   ],
   "source": [
    "margin = .2\n",
    "\n",
    "# for sec in indices_allROIs_allSections.keys():\n",
    "for sec in [161]:\n",
    "    \n",
    "    print sec\n",
    "    \n",
    "    shrink_factor = 4\n",
    "    \n",
    "    dataset = '%(stack)s_%(sec)04d_roi1' % {'stack': stack, 'sec': sec}\n",
    "\n",
    "    dense_top_prediction_map = np.load(os.path.join(densePrectionMapLossless_dir, \n",
    "                                    dataset+'_denseTopPredictionMapLossless_margin%.2f.npz'%margin))['arr_0']\n",
    "    \n",
    "    dense_top_prediction_map_downsampled = dense_top_prediction_map[::shrink_factor, ::shrink_factor]\n",
    "    dense_prediction_map_overlay = colors[dense_top_prediction_map_downsampled].astype(np.uint8)\n",
    "    \n",
    "#     cv2.imwrite(os.path.join(patch_dir, dataset + '_densePredictionMap_margin%.2f.jpg'%margin), \n",
    "#                 dense_prediction_map_overlay[..., 3::-1])\n",
    "    \n",
    "    dm.set_slice(sec)\n",
    "    dm._load_image(['rgb-jpg'], force_reload=True)\n",
    "    \n",
    "    viz = dm.image_rgb_jpg[::shrink_factor, ::shrink_factor].copy()\n",
    "    \n",
    "    if sec in label_polygons.index:    \n",
    "        available_labels = list(label_polygons.loc[sec].dropna().index)\n",
    "        for l in available_labels:\n",
    "            if l in label_dict.keys():\n",
    "                vs = label_polygons[l][sec].astype(np.int) / shrink_factor\n",
    "                cv2.polylines(viz, [vs], True, colors[label_dict[l]].astype(np.int), 4)    \n",
    "    \n",
    "    viz_overlaid = img_as_ubyte(alpha_blending(dense_prediction_map_overlay, viz, .2, 1.))\n",
    "    \n",
    "    cv2.imwrite(os.path.join(patch_dir, vizOverlaid_output_dir, \n",
    "                             dataset + '_densePredictionMapOverlaid_margin%.2f.jpg'%margin), \n",
    "                viz_overlaid[..., [2,1,0,3]])\n",
    "        "
   ]
  },
  {
   "cell_type": "code",
   "execution_count": null,
   "metadata": {
    "collapsed": false
   },
   "outputs": [],
   "source": []
  },
  {
   "cell_type": "code",
   "execution_count": null,
   "metadata": {
    "collapsed": false
   },
   "outputs": [],
   "source": [
    "plt.matshow(dense_top_prediction_map_lossless[::8, ::8])"
   ]
  },
  {
   "cell_type": "code",
   "execution_count": null,
   "metadata": {
    "collapsed": false
   },
   "outputs": [],
   "source": []
  },
  {
   "cell_type": "code",
   "execution_count": null,
   "metadata": {
    "collapsed": true
   },
   "outputs": [],
   "source": [
    "dense_score_map = dense_score_maps[label_dict['5N']]\n",
    "\n",
    "dense_score_map[dense_score_map > 1] = 1\n",
    "dense_score_map[dense_score_map < 0.5] = 0"
   ]
  },
  {
   "cell_type": "code",
   "execution_count": null,
   "metadata": {
    "collapsed": false
   },
   "outputs": [],
   "source": [
    "prob_map_viz = img_as_ubyte(plt.cm.magma(dense_score_map)[...,:3])"
   ]
  },
  {
   "cell_type": "code",
   "execution_count": null,
   "metadata": {
    "collapsed": false
   },
   "outputs": [],
   "source": [
    "viz2 = alpha_blending(prob_map_viz[...,:3], img_as_ubyte(viz), .2, 1.,)\n",
    "plt.figure(figsize=(20,20));\n",
    "plt.imshow(viz2);"
   ]
  },
  {
   "cell_type": "code",
   "execution_count": null,
   "metadata": {
    "collapsed": true
   },
   "outputs": [],
   "source": []
  }
 ],
 "metadata": {
  "kernelspec": {
   "display_name": "Python 2",
   "language": "python",
   "name": "python2"
  },
  "language_info": {
   "codemirror_mode": {
    "name": "ipython",
    "version": 2
   },
   "file_extension": ".py",
   "mimetype": "text/x-python",
   "name": "python",
   "nbconvert_exporter": "python",
   "pygments_lexer": "ipython2",
   "version": "2.7.3"
  }
 },
 "nbformat": 4,
 "nbformat_minor": 0
}
